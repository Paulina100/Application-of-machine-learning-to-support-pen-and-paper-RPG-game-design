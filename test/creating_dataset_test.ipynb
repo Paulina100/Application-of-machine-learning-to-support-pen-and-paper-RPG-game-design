{
 "cells": [
  {
   "cell_type": "code",
   "execution_count": 4,
   "metadata": {
    "collapsed": true
   },
   "outputs": [],
   "source": [
    "import pandas as pd\n",
    "\n",
    "from training.creating_dataset import check_paths\n",
    "\n",
    "check_paths([\"../pathfinder_2e_data/pathfinder-bestiary.db\"])"
   ]
  },
  {
   "cell_type": "code",
   "execution_count": 2,
   "outputs": [],
   "source": [
    "from training.analysis_functions import import_merged_bestiaries\n",
    "\n",
    "paths = [\n",
    "    \"../pathfinder_2e_data/pathfinder-bestiary.db\",\n",
    "    \"../pathfinder_2e_data/pathfinder-bestiary-2.db\",\n",
    "    \"../pathfinder_2e_data/pathfinder-bestiary-3.db\",\n",
    "]\n",
    "\n",
    "bestiary = import_merged_bestiaries(paths)"
   ],
   "metadata": {
    "collapsed": false
   }
  },
  {
   "cell_type": "code",
   "execution_count": 3,
   "outputs": [],
   "source": [
    "from training.creating_dataset import get_sub_column, move_values_level_up\n",
    "\n",
    "abilities = get_sub_column(bestiary, \"system/abilities\")"
   ],
   "metadata": {
    "collapsed": false
   }
  },
  {
   "cell_type": "code",
   "execution_count": 4,
   "outputs": [
    {
     "data": {
      "text/plain": "           cha         con         dex          int          str         wis\n0   {'mod': 1}  {'mod': 5}  {'mod': 2}   {'mod': 1}   {'mod': 7}  {'mod': 2}\n1   {'mod': 1}  {'mod': 5}  {'mod': 0}  {'mod': -4}   {'mod': 9}  {'mod': 2}\n2  {'mod': -2}  {'mod': 6}  {'mod': 3}  {'mod': -4}   {'mod': 7}  {'mod': 3}\n3   {'mod': 6}  {'mod': 5}  {'mod': 4}   {'mod': 6}   {'mod': 7}  {'mod': 5}\n4   {'mod': 1}  {'mod': 1}  {'mod': 3}  {'mod': -1}  {'mod': -5}  {'mod': 1}",
      "text/html": "<div>\n<style scoped>\n    .dataframe tbody tr th:only-of-type {\n        vertical-align: middle;\n    }\n\n    .dataframe tbody tr th {\n        vertical-align: top;\n    }\n\n    .dataframe thead th {\n        text-align: right;\n    }\n</style>\n<table border=\"1\" class=\"dataframe\">\n  <thead>\n    <tr style=\"text-align: right;\">\n      <th></th>\n      <th>cha</th>\n      <th>con</th>\n      <th>dex</th>\n      <th>int</th>\n      <th>str</th>\n      <th>wis</th>\n    </tr>\n  </thead>\n  <tbody>\n    <tr>\n      <th>0</th>\n      <td>{'mod': 1}</td>\n      <td>{'mod': 5}</td>\n      <td>{'mod': 2}</td>\n      <td>{'mod': 1}</td>\n      <td>{'mod': 7}</td>\n      <td>{'mod': 2}</td>\n    </tr>\n    <tr>\n      <th>1</th>\n      <td>{'mod': 1}</td>\n      <td>{'mod': 5}</td>\n      <td>{'mod': 0}</td>\n      <td>{'mod': -4}</td>\n      <td>{'mod': 9}</td>\n      <td>{'mod': 2}</td>\n    </tr>\n    <tr>\n      <th>2</th>\n      <td>{'mod': -2}</td>\n      <td>{'mod': 6}</td>\n      <td>{'mod': 3}</td>\n      <td>{'mod': -4}</td>\n      <td>{'mod': 7}</td>\n      <td>{'mod': 3}</td>\n    </tr>\n    <tr>\n      <th>3</th>\n      <td>{'mod': 6}</td>\n      <td>{'mod': 5}</td>\n      <td>{'mod': 4}</td>\n      <td>{'mod': 6}</td>\n      <td>{'mod': 7}</td>\n      <td>{'mod': 5}</td>\n    </tr>\n    <tr>\n      <th>4</th>\n      <td>{'mod': 1}</td>\n      <td>{'mod': 1}</td>\n      <td>{'mod': 3}</td>\n      <td>{'mod': -1}</td>\n      <td>{'mod': -5}</td>\n      <td>{'mod': 1}</td>\n    </tr>\n  </tbody>\n</table>\n</div>"
     },
     "execution_count": 4,
     "metadata": {},
     "output_type": "execute_result"
    }
   ],
   "source": [
    "abilities.head()"
   ],
   "metadata": {
    "collapsed": false
   }
  },
  {
   "cell_type": "code",
   "execution_count": 5,
   "outputs": [],
   "source": [
    "level_up_results = move_values_level_up(\"mod\")"
   ],
   "metadata": {
    "collapsed": false
   }
  },
  {
   "cell_type": "code",
   "execution_count": 6,
   "outputs": [],
   "source": [
    "level_up_abilities = level_up_results(abilities)"
   ],
   "metadata": {
    "collapsed": false
   }
  },
  {
   "cell_type": "code",
   "execution_count": 7,
   "outputs": [
    {
     "data": {
      "text/plain": "   cha  con  dex  int  str  wis\n0    1    5    2    1    7    2\n1    1    5    0   -4    9    2\n2   -2    6    3   -4    7    3\n3    6    5    4    6    7    5\n4    1    1    3   -1   -5    1",
      "text/html": "<div>\n<style scoped>\n    .dataframe tbody tr th:only-of-type {\n        vertical-align: middle;\n    }\n\n    .dataframe tbody tr th {\n        vertical-align: top;\n    }\n\n    .dataframe thead th {\n        text-align: right;\n    }\n</style>\n<table border=\"1\" class=\"dataframe\">\n  <thead>\n    <tr style=\"text-align: right;\">\n      <th></th>\n      <th>cha</th>\n      <th>con</th>\n      <th>dex</th>\n      <th>int</th>\n      <th>str</th>\n      <th>wis</th>\n    </tr>\n  </thead>\n  <tbody>\n    <tr>\n      <th>0</th>\n      <td>1</td>\n      <td>5</td>\n      <td>2</td>\n      <td>1</td>\n      <td>7</td>\n      <td>2</td>\n    </tr>\n    <tr>\n      <th>1</th>\n      <td>1</td>\n      <td>5</td>\n      <td>0</td>\n      <td>-4</td>\n      <td>9</td>\n      <td>2</td>\n    </tr>\n    <tr>\n      <th>2</th>\n      <td>-2</td>\n      <td>6</td>\n      <td>3</td>\n      <td>-4</td>\n      <td>7</td>\n      <td>3</td>\n    </tr>\n    <tr>\n      <th>3</th>\n      <td>6</td>\n      <td>5</td>\n      <td>4</td>\n      <td>6</td>\n      <td>7</td>\n      <td>5</td>\n    </tr>\n    <tr>\n      <th>4</th>\n      <td>1</td>\n      <td>1</td>\n      <td>3</td>\n      <td>-1</td>\n      <td>-5</td>\n      <td>1</td>\n    </tr>\n  </tbody>\n</table>\n</div>"
     },
     "execution_count": 7,
     "metadata": {},
     "output_type": "execute_result"
    }
   ],
   "source": [
    "level_up_abilities.head()"
   ],
   "metadata": {
    "collapsed": false
   }
  },
  {
   "cell_type": "code",
   "execution_count": 8,
   "outputs": [
    {
     "data": {
      "text/plain": "                  _id                                       img  \\\n0    024PqcF8yMRBrPuq  systems/pf2e/icons/default-icons/npc.svg   \n1    05E3kkjoLZVjFOeO  systems/pf2e/icons/default-icons/npc.svg   \n2    05wwpHHsBlxBbdkN  systems/pf2e/icons/default-icons/npc.svg   \n3    0FGz2eXm0SB04sJW  systems/pf2e/icons/default-icons/npc.svg   \n4    0HjVFx8qIKDCfblg  systems/pf2e/icons/default-icons/npc.svg   \n..                ...                                       ...   \n360  ytYKPtPotjvsWoSl  systems/pf2e/icons/default-icons/npc.svg   \n361  zGco5QmokZpFgLes  systems/pf2e/icons/default-icons/npc.svg   \n362  zGtfiKku0td5E0VJ  systems/pf2e/icons/default-icons/npc.svg   \n363  zMoJh88vXJQwSHsX  systems/pf2e/icons/default-icons/npc.svg   \n364  zdJgaVe6VRSfEE1n  systems/pf2e/icons/default-icons/npc.svg   \n\n                                                 items  \\\n0    [{'_id': 'B7rzf0nBJmzg8x0y', 'img': 'systems/p...   \n1    [{'_id': 'mYNDkS27YQRyy1F0', 'img': 'systems/p...   \n2    [{'_id': 'WkPeg600zGONsuJz', 'img': 'systems/p...   \n3    [{'_id': 'joBYS96mXSnZC1WB', 'img': 'systems/p...   \n4    [{'_id': 'xlUnQcjrxeMXu5Cd', 'img': 'systems/p...   \n..                                                 ...   \n360  [{'_id': 'kBmOKMaUjcEjTeia', 'img': 'systems/p...   \n361  [{'_id': 'Re0uYYA9c4nnaRne', 'img': 'systems/p...   \n362  [{'_id': 'TTotdT50Y6eFIsHY', 'img': 'systems/p...   \n363  [{'_id': 'p3v8D49u0adS76qw', 'img': 'systems/p...   \n364  [{'_id': '53ZHZQrxzfyMUm3s', 'img': 'systems/p...   \n\n                         name  \\\n0          Adult White Dragon   \n1                Brontosaurus   \n2              Giant Anaconda   \n3        Ancient Green Dragon   \n4              Lantern Archon   \n..                        ...   \n360  Ancient Sovereign Dragon   \n361                   Grimple   \n362              Fossil Golem   \n363          Abandoned Zealot   \n364            Caligni Caller   \n\n                                                system type  \\\n0    {'abilities': {'cha': {'mod': 1}, 'con': {'mod...  npc   \n1    {'abilities': {'cha': {'mod': 1}, 'con': {'mod...  npc   \n2    {'abilities': {'cha': {'mod': -2}, 'con': {'mo...  npc   \n3    {'abilities': {'cha': {'mod': 6}, 'con': {'mod...  npc   \n4    {'abilities': {'cha': {'mod': 1}, 'con': {'mod...  npc   \n..                                                 ...  ...   \n360  {'abilities': {'cha': {'mod': 9}, 'con': {'mod...  npc   \n361  {'abilities': {'cha': {'mod': -2}, 'con': {'mo...  npc   \n362  {'abilities': {'cha': {'mod': -5}, 'con': {'mo...  npc   \n363  {'abilities': {'cha': {'mod': 4}, 'con': {'mod...  npc   \n364  {'abilities': {'cha': {'mod': 4}, 'con': {'mod...  npc   \n\n                                                 flags prototypeToken  \n0    {'core': {'sourceId': 'Compendium.pf2e.pathfin...            NaN  \n1    {'core': {'sourceId': 'Compendium.pf2e.pathfin...            NaN  \n2    {'core': {'sourceId': 'Compendium.pf2e.pathfin...            NaN  \n3    {'core': {'sourceId': 'Compendium.pf2e.pathfin...            NaN  \n4    {'core': {'sourceId': 'Compendium.pf2e.pathfin...            NaN  \n..                                                 ...            ...  \n360  {'core': {'sourceId': 'Compendium.pf2e.pathfin...            NaN  \n361  {'core': {'sourceId': 'Compendium.pf2e.pathfin...            NaN  \n362  {'core': {'sourceId': 'Compendium.pf2e.pathfin...            NaN  \n363  {'core': {'sourceId': 'Compendium.pf2e.pathfin...            NaN  \n364  {'core': {'sourceId': 'Compendium.pf2e.pathfin...            NaN  \n\n[1206 rows x 8 columns]",
      "text/html": "<div>\n<style scoped>\n    .dataframe tbody tr th:only-of-type {\n        vertical-align: middle;\n    }\n\n    .dataframe tbody tr th {\n        vertical-align: top;\n    }\n\n    .dataframe thead th {\n        text-align: right;\n    }\n</style>\n<table border=\"1\" class=\"dataframe\">\n  <thead>\n    <tr style=\"text-align: right;\">\n      <th></th>\n      <th>_id</th>\n      <th>img</th>\n      <th>items</th>\n      <th>name</th>\n      <th>system</th>\n      <th>type</th>\n      <th>flags</th>\n      <th>prototypeToken</th>\n    </tr>\n  </thead>\n  <tbody>\n    <tr>\n      <th>0</th>\n      <td>024PqcF8yMRBrPuq</td>\n      <td>systems/pf2e/icons/default-icons/npc.svg</td>\n      <td>[{'_id': 'B7rzf0nBJmzg8x0y', 'img': 'systems/p...</td>\n      <td>Adult White Dragon</td>\n      <td>{'abilities': {'cha': {'mod': 1}, 'con': {'mod...</td>\n      <td>npc</td>\n      <td>{'core': {'sourceId': 'Compendium.pf2e.pathfin...</td>\n      <td>NaN</td>\n    </tr>\n    <tr>\n      <th>1</th>\n      <td>05E3kkjoLZVjFOeO</td>\n      <td>systems/pf2e/icons/default-icons/npc.svg</td>\n      <td>[{'_id': 'mYNDkS27YQRyy1F0', 'img': 'systems/p...</td>\n      <td>Brontosaurus</td>\n      <td>{'abilities': {'cha': {'mod': 1}, 'con': {'mod...</td>\n      <td>npc</td>\n      <td>{'core': {'sourceId': 'Compendium.pf2e.pathfin...</td>\n      <td>NaN</td>\n    </tr>\n    <tr>\n      <th>2</th>\n      <td>05wwpHHsBlxBbdkN</td>\n      <td>systems/pf2e/icons/default-icons/npc.svg</td>\n      <td>[{'_id': 'WkPeg600zGONsuJz', 'img': 'systems/p...</td>\n      <td>Giant Anaconda</td>\n      <td>{'abilities': {'cha': {'mod': -2}, 'con': {'mo...</td>\n      <td>npc</td>\n      <td>{'core': {'sourceId': 'Compendium.pf2e.pathfin...</td>\n      <td>NaN</td>\n    </tr>\n    <tr>\n      <th>3</th>\n      <td>0FGz2eXm0SB04sJW</td>\n      <td>systems/pf2e/icons/default-icons/npc.svg</td>\n      <td>[{'_id': 'joBYS96mXSnZC1WB', 'img': 'systems/p...</td>\n      <td>Ancient Green Dragon</td>\n      <td>{'abilities': {'cha': {'mod': 6}, 'con': {'mod...</td>\n      <td>npc</td>\n      <td>{'core': {'sourceId': 'Compendium.pf2e.pathfin...</td>\n      <td>NaN</td>\n    </tr>\n    <tr>\n      <th>4</th>\n      <td>0HjVFx8qIKDCfblg</td>\n      <td>systems/pf2e/icons/default-icons/npc.svg</td>\n      <td>[{'_id': 'xlUnQcjrxeMXu5Cd', 'img': 'systems/p...</td>\n      <td>Lantern Archon</td>\n      <td>{'abilities': {'cha': {'mod': 1}, 'con': {'mod...</td>\n      <td>npc</td>\n      <td>{'core': {'sourceId': 'Compendium.pf2e.pathfin...</td>\n      <td>NaN</td>\n    </tr>\n    <tr>\n      <th>...</th>\n      <td>...</td>\n      <td>...</td>\n      <td>...</td>\n      <td>...</td>\n      <td>...</td>\n      <td>...</td>\n      <td>...</td>\n      <td>...</td>\n    </tr>\n    <tr>\n      <th>360</th>\n      <td>ytYKPtPotjvsWoSl</td>\n      <td>systems/pf2e/icons/default-icons/npc.svg</td>\n      <td>[{'_id': 'kBmOKMaUjcEjTeia', 'img': 'systems/p...</td>\n      <td>Ancient Sovereign Dragon</td>\n      <td>{'abilities': {'cha': {'mod': 9}, 'con': {'mod...</td>\n      <td>npc</td>\n      <td>{'core': {'sourceId': 'Compendium.pf2e.pathfin...</td>\n      <td>NaN</td>\n    </tr>\n    <tr>\n      <th>361</th>\n      <td>zGco5QmokZpFgLes</td>\n      <td>systems/pf2e/icons/default-icons/npc.svg</td>\n      <td>[{'_id': 'Re0uYYA9c4nnaRne', 'img': 'systems/p...</td>\n      <td>Grimple</td>\n      <td>{'abilities': {'cha': {'mod': -2}, 'con': {'mo...</td>\n      <td>npc</td>\n      <td>{'core': {'sourceId': 'Compendium.pf2e.pathfin...</td>\n      <td>NaN</td>\n    </tr>\n    <tr>\n      <th>362</th>\n      <td>zGtfiKku0td5E0VJ</td>\n      <td>systems/pf2e/icons/default-icons/npc.svg</td>\n      <td>[{'_id': 'TTotdT50Y6eFIsHY', 'img': 'systems/p...</td>\n      <td>Fossil Golem</td>\n      <td>{'abilities': {'cha': {'mod': -5}, 'con': {'mo...</td>\n      <td>npc</td>\n      <td>{'core': {'sourceId': 'Compendium.pf2e.pathfin...</td>\n      <td>NaN</td>\n    </tr>\n    <tr>\n      <th>363</th>\n      <td>zMoJh88vXJQwSHsX</td>\n      <td>systems/pf2e/icons/default-icons/npc.svg</td>\n      <td>[{'_id': 'p3v8D49u0adS76qw', 'img': 'systems/p...</td>\n      <td>Abandoned Zealot</td>\n      <td>{'abilities': {'cha': {'mod': 4}, 'con': {'mod...</td>\n      <td>npc</td>\n      <td>{'core': {'sourceId': 'Compendium.pf2e.pathfin...</td>\n      <td>NaN</td>\n    </tr>\n    <tr>\n      <th>364</th>\n      <td>zdJgaVe6VRSfEE1n</td>\n      <td>systems/pf2e/icons/default-icons/npc.svg</td>\n      <td>[{'_id': '53ZHZQrxzfyMUm3s', 'img': 'systems/p...</td>\n      <td>Caligni Caller</td>\n      <td>{'abilities': {'cha': {'mod': 4}, 'con': {'mod...</td>\n      <td>npc</td>\n      <td>{'core': {'sourceId': 'Compendium.pf2e.pathfin...</td>\n      <td>NaN</td>\n    </tr>\n  </tbody>\n</table>\n<p>1206 rows × 8 columns</p>\n</div>"
     },
     "execution_count": 8,
     "metadata": {},
     "output_type": "execute_result"
    }
   ],
   "source": [
    "bestiary[bestiary[\"type\"] == \"npc\"]"
   ],
   "metadata": {
    "collapsed": false
   }
  },
  {
   "cell_type": "code",
   "execution_count": 1,
   "outputs": [],
   "source": [
    "from training.creating_dataset import create_dataframe\n",
    "\n",
    "bestiary_abilities = create_dataframe(characteristics=[\"system/abilities\"])"
   ],
   "metadata": {
    "collapsed": false
   }
  },
  {
   "cell_type": "code",
   "execution_count": 10,
   "outputs": [
    {
     "data": {
      "text/plain": "   cha  con  dex  int  str  wis\n0    1    5    2    1    7    2\n1    1    5    0   -4    9    2\n2   -2    6    3   -4    7    3\n3    6    5    4    6    7    5\n4    1    1    3   -1   -5    1",
      "text/html": "<div>\n<style scoped>\n    .dataframe tbody tr th:only-of-type {\n        vertical-align: middle;\n    }\n\n    .dataframe tbody tr th {\n        vertical-align: top;\n    }\n\n    .dataframe thead th {\n        text-align: right;\n    }\n</style>\n<table border=\"1\" class=\"dataframe\">\n  <thead>\n    <tr style=\"text-align: right;\">\n      <th></th>\n      <th>cha</th>\n      <th>con</th>\n      <th>dex</th>\n      <th>int</th>\n      <th>str</th>\n      <th>wis</th>\n    </tr>\n  </thead>\n  <tbody>\n    <tr>\n      <th>0</th>\n      <td>1</td>\n      <td>5</td>\n      <td>2</td>\n      <td>1</td>\n      <td>7</td>\n      <td>2</td>\n    </tr>\n    <tr>\n      <th>1</th>\n      <td>1</td>\n      <td>5</td>\n      <td>0</td>\n      <td>-4</td>\n      <td>9</td>\n      <td>2</td>\n    </tr>\n    <tr>\n      <th>2</th>\n      <td>-2</td>\n      <td>6</td>\n      <td>3</td>\n      <td>-4</td>\n      <td>7</td>\n      <td>3</td>\n    </tr>\n    <tr>\n      <th>3</th>\n      <td>6</td>\n      <td>5</td>\n      <td>4</td>\n      <td>6</td>\n      <td>7</td>\n      <td>5</td>\n    </tr>\n    <tr>\n      <th>4</th>\n      <td>1</td>\n      <td>1</td>\n      <td>3</td>\n      <td>-1</td>\n      <td>-5</td>\n      <td>1</td>\n    </tr>\n  </tbody>\n</table>\n</div>"
     },
     "execution_count": 10,
     "metadata": {},
     "output_type": "execute_result"
    }
   ],
   "source": [
    "bestiary_abilities.head()"
   ],
   "metadata": {
    "collapsed": false
   }
  },
  {
   "cell_type": "code",
   "execution_count": 11,
   "outputs": [],
   "source": [
    "bestiary_ac = get_sub_column(bestiary, \"system/attributes/ac\")"
   ],
   "metadata": {
    "collapsed": false
   }
  },
  {
   "cell_type": "code",
   "execution_count": 12,
   "outputs": [
    {
     "data": {
      "text/plain": "  details  value\n0             29\n1             28\n2             25\n3             41\n4             16",
      "text/html": "<div>\n<style scoped>\n    .dataframe tbody tr th:only-of-type {\n        vertical-align: middle;\n    }\n\n    .dataframe tbody tr th {\n        vertical-align: top;\n    }\n\n    .dataframe thead th {\n        text-align: right;\n    }\n</style>\n<table border=\"1\" class=\"dataframe\">\n  <thead>\n    <tr style=\"text-align: right;\">\n      <th></th>\n      <th>details</th>\n      <th>value</th>\n    </tr>\n  </thead>\n  <tbody>\n    <tr>\n      <th>0</th>\n      <td></td>\n      <td>29</td>\n    </tr>\n    <tr>\n      <th>1</th>\n      <td></td>\n      <td>28</td>\n    </tr>\n    <tr>\n      <th>2</th>\n      <td></td>\n      <td>25</td>\n    </tr>\n    <tr>\n      <th>3</th>\n      <td></td>\n      <td>41</td>\n    </tr>\n    <tr>\n      <th>4</th>\n      <td></td>\n      <td>16</td>\n    </tr>\n  </tbody>\n</table>\n</div>"
     },
     "execution_count": 12,
     "metadata": {},
     "output_type": "execute_result"
    }
   ],
   "source": [
    "bestiary_ac.head()"
   ],
   "metadata": {
    "collapsed": false
   }
  },
  {
   "cell_type": "code",
   "execution_count": 13,
   "outputs": [],
   "source": [
    "from training.creating_dataset import load_sub_column_as_value\n",
    "\n",
    "\n",
    "load_ac = load_sub_column_as_value(\"ac\")"
   ],
   "metadata": {
    "collapsed": false
   }
  },
  {
   "cell_type": "code",
   "execution_count": 14,
   "outputs": [],
   "source": [
    "bestiary_ac = load_ac(bestiary_ac)"
   ],
   "metadata": {
    "collapsed": false
   }
  },
  {
   "cell_type": "code",
   "execution_count": 15,
   "outputs": [
    {
     "data": {
      "text/plain": "   ac\n0  29\n1  28\n2  25\n3  41\n4  16",
      "text/html": "<div>\n<style scoped>\n    .dataframe tbody tr th:only-of-type {\n        vertical-align: middle;\n    }\n\n    .dataframe tbody tr th {\n        vertical-align: top;\n    }\n\n    .dataframe thead th {\n        text-align: right;\n    }\n</style>\n<table border=\"1\" class=\"dataframe\">\n  <thead>\n    <tr style=\"text-align: right;\">\n      <th></th>\n      <th>ac</th>\n    </tr>\n  </thead>\n  <tbody>\n    <tr>\n      <th>0</th>\n      <td>29</td>\n    </tr>\n    <tr>\n      <th>1</th>\n      <td>28</td>\n    </tr>\n    <tr>\n      <th>2</th>\n      <td>25</td>\n    </tr>\n    <tr>\n      <th>3</th>\n      <td>41</td>\n    </tr>\n    <tr>\n      <th>4</th>\n      <td>16</td>\n    </tr>\n  </tbody>\n</table>\n</div>"
     },
     "execution_count": 15,
     "metadata": {},
     "output_type": "execute_result"
    }
   ],
   "source": [
    "bestiary_ac.head()"
   ],
   "metadata": {
    "collapsed": false
   }
  },
  {
   "cell_type": "code",
   "execution_count": 1,
   "outputs": [],
   "source": [
    "from training.creating_dataset import create_dataframe\n",
    "\n",
    "\n",
    "ac = create_dataframe(characteristics=[\"system/attributes/ac\"])"
   ],
   "metadata": {
    "collapsed": false
   }
  },
  {
   "cell_type": "code",
   "execution_count": 2,
   "outputs": [
    {
     "data": {
      "text/plain": "   level                 book  ac\n0     10  Pathfinder Bestiary  29\n1     10  Pathfinder Bestiary  28\n2      8  Pathfinder Bestiary  25\n3     17  Pathfinder Bestiary  41\n4      1  Pathfinder Bestiary  16",
      "text/html": "<div>\n<style scoped>\n    .dataframe tbody tr th:only-of-type {\n        vertical-align: middle;\n    }\n\n    .dataframe tbody tr th {\n        vertical-align: top;\n    }\n\n    .dataframe thead th {\n        text-align: right;\n    }\n</style>\n<table border=\"1\" class=\"dataframe\">\n  <thead>\n    <tr style=\"text-align: right;\">\n      <th></th>\n      <th>level</th>\n      <th>book</th>\n      <th>ac</th>\n    </tr>\n  </thead>\n  <tbody>\n    <tr>\n      <th>0</th>\n      <td>10</td>\n      <td>Pathfinder Bestiary</td>\n      <td>29</td>\n    </tr>\n    <tr>\n      <th>1</th>\n      <td>10</td>\n      <td>Pathfinder Bestiary</td>\n      <td>28</td>\n    </tr>\n    <tr>\n      <th>2</th>\n      <td>8</td>\n      <td>Pathfinder Bestiary</td>\n      <td>25</td>\n    </tr>\n    <tr>\n      <th>3</th>\n      <td>17</td>\n      <td>Pathfinder Bestiary</td>\n      <td>41</td>\n    </tr>\n    <tr>\n      <th>4</th>\n      <td>1</td>\n      <td>Pathfinder Bestiary</td>\n      <td>16</td>\n    </tr>\n  </tbody>\n</table>\n</div>"
     },
     "execution_count": 2,
     "metadata": {},
     "output_type": "execute_result"
    }
   ],
   "source": [
    "ac.head()"
   ],
   "metadata": {
    "collapsed": false
   }
  },
  {
   "cell_type": "code",
   "execution_count": 3,
   "outputs": [],
   "source": [
    "bestiary_test = create_dataframe()"
   ],
   "metadata": {
    "collapsed": false
   }
  },
  {
   "cell_type": "code",
   "execution_count": 4,
   "outputs": [
    {
     "data": {
      "text/plain": "   level                 book  cha  con  dex  int  str  wis  ac   hp\n0     10  Pathfinder Bestiary    1    5    2    1    7    2  29  215\n1     10  Pathfinder Bestiary    1    5    0   -4    9    2  28  220\n2      8  Pathfinder Bestiary   -2    6    3   -4    7    3  25  175\n3     17  Pathfinder Bestiary    6    5    4    6    7    5  41  315\n4      1  Pathfinder Bestiary    1    1    3   -1   -5    1  16   20",
      "text/html": "<div>\n<style scoped>\n    .dataframe tbody tr th:only-of-type {\n        vertical-align: middle;\n    }\n\n    .dataframe tbody tr th {\n        vertical-align: top;\n    }\n\n    .dataframe thead th {\n        text-align: right;\n    }\n</style>\n<table border=\"1\" class=\"dataframe\">\n  <thead>\n    <tr style=\"text-align: right;\">\n      <th></th>\n      <th>level</th>\n      <th>book</th>\n      <th>cha</th>\n      <th>con</th>\n      <th>dex</th>\n      <th>int</th>\n      <th>str</th>\n      <th>wis</th>\n      <th>ac</th>\n      <th>hp</th>\n    </tr>\n  </thead>\n  <tbody>\n    <tr>\n      <th>0</th>\n      <td>10</td>\n      <td>Pathfinder Bestiary</td>\n      <td>1</td>\n      <td>5</td>\n      <td>2</td>\n      <td>1</td>\n      <td>7</td>\n      <td>2</td>\n      <td>29</td>\n      <td>215</td>\n    </tr>\n    <tr>\n      <th>1</th>\n      <td>10</td>\n      <td>Pathfinder Bestiary</td>\n      <td>1</td>\n      <td>5</td>\n      <td>0</td>\n      <td>-4</td>\n      <td>9</td>\n      <td>2</td>\n      <td>28</td>\n      <td>220</td>\n    </tr>\n    <tr>\n      <th>2</th>\n      <td>8</td>\n      <td>Pathfinder Bestiary</td>\n      <td>-2</td>\n      <td>6</td>\n      <td>3</td>\n      <td>-4</td>\n      <td>7</td>\n      <td>3</td>\n      <td>25</td>\n      <td>175</td>\n    </tr>\n    <tr>\n      <th>3</th>\n      <td>17</td>\n      <td>Pathfinder Bestiary</td>\n      <td>6</td>\n      <td>5</td>\n      <td>4</td>\n      <td>6</td>\n      <td>7</td>\n      <td>5</td>\n      <td>41</td>\n      <td>315</td>\n    </tr>\n    <tr>\n      <th>4</th>\n      <td>1</td>\n      <td>Pathfinder Bestiary</td>\n      <td>1</td>\n      <td>1</td>\n      <td>3</td>\n      <td>-1</td>\n      <td>-5</td>\n      <td>1</td>\n      <td>16</td>\n      <td>20</td>\n    </tr>\n  </tbody>\n</table>\n</div>"
     },
     "execution_count": 4,
     "metadata": {},
     "output_type": "execute_result"
    }
   ],
   "source": [
    "bestiary_test.head()"
   ],
   "metadata": {
    "collapsed": false
   }
  },
  {
   "cell_type": "code",
   "execution_count": null,
   "outputs": [],
   "source": [],
   "metadata": {
    "collapsed": false
   }
  }
 ],
 "metadata": {
  "kernelspec": {
   "display_name": "Python 3",
   "language": "python",
   "name": "python3"
  },
  "language_info": {
   "codemirror_mode": {
    "name": "ipython",
    "version": 2
   },
   "file_extension": ".py",
   "mimetype": "text/x-python",
   "name": "python",
   "nbconvert_exporter": "python",
   "pygments_lexer": "ipython2",
   "version": "2.7.6"
  }
 },
 "nbformat": 4,
 "nbformat_minor": 0
}
