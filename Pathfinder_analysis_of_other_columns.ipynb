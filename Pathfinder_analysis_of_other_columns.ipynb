{
 "cells": [
  {
   "cell_type": "markdown",
   "id": "5af6d1ea",
   "metadata": {},
   "source": [
    "# Analiza mniej znaczących kolumn"
   ]
  },
  {
   "cell_type": "markdown",
   "id": "bc625005",
   "metadata": {},
   "source": [
    "###### Importy"
   ]
  },
  {
   "cell_type": "code",
   "execution_count": 52,
   "id": "b2f56178",
   "metadata": {},
   "outputs": [],
   "source": [
    "from collections import defaultdict"
   ]
  },
  {
   "cell_type": "code",
   "execution_count": 53,
   "id": "276e0f11",
   "metadata": {
    "scrolled": true
   },
   "outputs": [
    {
     "name": "stdout",
     "output_type": "stream",
     "text": [
      "_id                                                024PqcF8yMRBrPuq\n",
      "img                        systems/pf2e/icons/default-icons/npc.svg\n",
      "items             [{'_id': 'B7rzf0nBJmzg8x0y', 'img': 'systems/p...\n",
      "name                                             Adult White Dragon\n",
      "system            {'abilities': {'cha': {'mod': 1}, 'con': {'mod...\n",
      "type                                                            npc\n",
      "flags             {'core': {'sourceId': 'Compendium.pf2e.pathfin...\n",
      "prototypeToken                                                  NaN\n",
      "Name: 0, dtype: object\n"
     ]
    }
   ],
   "source": [
    "import pandas as pd\n",
    "\n",
    "bestiary1 = pd.read_json(\"pathfinder_2e_data/pathfinder-bestiary.db\", lines=True)\n",
    "bestiary2 = pd.read_json(\"pathfinder_2e_data/pathfinder-bestiary-2.db\", lines=True)\n",
    "bestiary3 = pd.read_json(\"pathfinder_2e_data/pathfinder-bestiary-3.db\", lines=True)\n",
    "print(bestiary1.iloc[0])"
   ]
  },
  {
   "cell_type": "code",
   "execution_count": 54,
   "id": "05d00d89",
   "metadata": {
    "scrolled": true
   },
   "outputs": [
    {
     "data": {
      "text/plain": [
       "(468, 8)"
      ]
     },
     "execution_count": 54,
     "metadata": {},
     "output_type": "execute_result"
    }
   ],
   "source": [
    "bestiary1.shape"
   ]
  },
  {
   "cell_type": "markdown",
   "id": "d0957df0",
   "metadata": {},
   "source": [
    "###### Funkcje pomocnicze"
   ]
  },
  {
   "cell_type": "code",
   "execution_count": 55,
   "id": "97ef98b1",
   "metadata": {},
   "outputs": [],
   "source": [
    "def unpack_column(df:pd.DataFrame, column_name:str):\n",
    "    new_df = df[column_name].apply(pd.Series)\n",
    "    print(\"First row:\")\n",
    "    print(new_df.iloc[0])\n",
    "    print(f'Len = {len(new_df.iloc[0])}')\n",
    "    return new_df"
   ]
  },
  {
   "cell_type": "code",
   "execution_count": 56,
   "id": "f1f90696",
   "metadata": {},
   "outputs": [],
   "source": [
    "def print_unique_values(df:pd.DataFrame, col:str):\n",
    "    print(f\"Number of Nones: {df[col].isnull().sum()}\")\n",
    "    print(f\"Number of unique values: {df[col].nunique()}\")\n",
    "    print(\"Unique values with number of occurences:\")\n",
    "    print(df[col].value_counts())"
   ]
  },
  {
   "cell_type": "markdown",
   "id": "6a6eef00",
   "metadata": {},
   "source": [
    "## Analiza"
   ]
  },
  {
   "cell_type": "markdown",
   "id": "38db5e3d",
   "metadata": {},
   "source": [
    "#### ```_id```, ```image``` można usunąć"
   ]
  },
  {
   "cell_type": "markdown",
   "id": "04c768c7",
   "metadata": {},
   "source": [
    "### Analiza ```items```"
   ]
  },
  {
   "cell_type": "markdown",
   "id": "61fac0f7",
   "metadata": {},
   "source": [
    "W notebooku: [Pathfinder_items.ipynb](Pathfinder_items.ipynb)"
   ]
  },
  {
   "cell_type": "markdown",
   "id": "938f0477",
   "metadata": {},
   "source": [
    "### Analiza ```name```"
   ]
  },
  {
   "cell_type": "code",
   "execution_count": 57,
   "id": "61c83cb7",
   "metadata": {},
   "outputs": [
    {
     "data": {
      "text/plain": [
       "0"
      ]
     },
     "execution_count": 57,
     "metadata": {},
     "output_type": "execute_result"
    }
   ],
   "source": [
    "bestiary1[\"name\"].isnull().sum()"
   ]
  },
  {
   "cell_type": "markdown",
   "id": "31cbb021",
   "metadata": {},
   "source": [
    "###### Wszystkie nazwy potworków"
   ]
  },
  {
   "cell_type": "code",
   "execution_count": 58,
   "id": "5f4beb35",
   "metadata": {
    "scrolled": true
   },
   "outputs": [
    {
     "name": "stdout",
     "output_type": "stream",
     "text": [
      "                                    name\n",
      "0                     Adult White Dragon\n",
      "1                           Brontosaurus\n",
      "2                         Giant Anaconda\n",
      "3                   Ancient Green Dragon\n",
      "4                         Lantern Archon\n",
      "5                              Dark Naga\n",
      "6                              Gancanagh\n",
      "7                               Dullahan\n",
      "8                  Deep Gnome Rockwarden\n",
      "9                        Zombie Shambler\n",
      "10                            Goblin Dog\n",
      "11                      Lizardfolk Scout\n",
      "12                            Homunculus\n",
      "13                        Ghost Commoner\n",
      "14                                   Roc\n",
      "15                           Deinonychus\n",
      "16                          Tarn Linnorm\n",
      "17      Ancient Red Dragon (Spellcaster)\n",
      "18                              Zaramuun\n",
      "19                    Young White Dragon\n",
      "20                       Giant Moray Eel\n",
      "21                   Young Copper Dragon\n",
      "22                                 Satyr\n",
      "23                             Green Hag\n",
      "24                                Kraken\n",
      "25                           Astral Deva\n",
      "26                         Legion Archon\n",
      "27                    Goblin War Chanter\n",
      "28     Ancient Blue Dragon (Spellcaster)\n",
      "29                                  Boar\n",
      "30                                 Vrock\n",
      "31                           Purple Worm\n",
      "32                          Bugbear Thug\n",
      "33                                  Xorn\n",
      "34                           Graveknight\n",
      "35                       Xulgath Skulker\n",
      "36                            Riding Dog\n",
      "37                        Skeleton Guard\n",
      "38                        Skeletal Giant\n",
      "39                              Werebear\n",
      "40      Young Green Dragon (Spellcaster)\n",
      "41                     Hobgoblin General\n",
      "42                         Giant Flytrap\n",
      "43                          Ankylosaurus\n",
      "44                          Tidal Master\n",
      "45                              Shambler\n",
      "46                           Ice Linnorm\n",
      "47                           Tengu Sneak\n",
      "48         Soulbound Doll (Chaotic Evil)\n",
      "49                     Bugbear Tormentor\n",
      "50                                  Yeti\n",
      "51         Soulbound Doll (Neutral Evil)\n",
      "52                            Fire Giant\n",
      "53                             Treerazer\n",
      "54                        Quetzalcoatlus\n",
      "55                          Crimson Worm\n",
      "56                              Voidworm\n",
      "57                                 Eagle\n",
      "58                               Elananx\n",
      "59               Blue Kobold Dragon Mage\n",
      "60                         Veiled Master\n",
      "61                      Deep Gnome Scout\n",
      "62                    Ancient Red Dragon\n",
      "63                       Giant Tarantula\n",
      "64                           Giant Gecko\n",
      "65                                Quasit\n",
      "66                               Mukradi\n",
      "67                              Axiomite\n",
      "68                           Brine Shark\n",
      "69                                 Balor\n",
      "70       Young Gold Dragon (Spellcaster)\n",
      "71      Adult Black Dragon (Spellcaster)\n",
      "72                               Simurgh\n",
      "73                             Giant Rat\n",
      "74                          Doppelganger\n",
      "75                              Succubus\n",
      "76                                 Harpy\n",
      "77                           Storm Giant\n",
      "78                      Nessian Warhound\n",
      "79                                Drider\n",
      "80                          Phistophilus\n",
      "81                 Ancient Copper Dragon\n",
      "82                                Redcap\n",
      "83                       Giant Centipede\n",
      "84                      Living Waterfall\n",
      "85                              Glabrezu\n",
      "86                            Leaf Leshy\n",
      "87                                 Mimic\n",
      "88                 Ancient Bronze Dragon\n",
      "89                             Giant Bat\n",
      "90                           Sea Serpent\n",
      "91                            Salamander\n",
      "92                          Grizzly Bear\n",
      "93                Red Kobold Dragon Mage\n",
      "94                            Pteranodon\n",
      "95                         Vampire Count\n",
      "96                               Bulette\n",
      "97                              Morrigna\n",
      "98                           River Drake\n",
      "99                      Greater Barghest\n",
      "100                    Young Gold Dragon\n",
      "101      Adult Blue Dragon (Spellcaster)\n",
      "102                              Cyclops\n",
      "103                              Mitflit\n",
      "104                           Cacodaemon\n",
      "105                       Hunting Spider\n",
      "106                       Mummy Guardian\n",
      "107                             Minotaur\n",
      "108                               Erinys\n",
      "109                       Animated Broom\n",
      "110                  Lizardfolk Defender\n",
      "111                                 Lich\n",
      "112                     Snapping Flytrap\n",
      "113     Adult Brass Dragon (Spellcaster)\n",
      "114                             Cauthooj\n",
      "115                              Barbazu\n",
      "116                          Zombie Hulk\n",
      "117                  Elemental Hurricane\n",
      "118                      Brain Collector\n",
      "119                       Drow Priestess\n",
      "120                           Troll King\n",
      "121                  Adult Copper Dragon\n",
      "122                         Megaprimatus\n",
      "123                               Djinni\n",
      "124                  Vampire Spawn Rogue\n",
      "125                      Sea Devil Baron\n",
      "126                               Wraith\n",
      "127                        Deadly Mantis\n",
      "128                           Sewer Ooze\n",
      "129                          Bloodseeker\n",
      "130                             Elephant\n",
      "131                           Gimmerling\n",
      "132                                  Imp\n",
      "133                       Xulgath Leader\n",
      "134                  Adult Bronze Dragon\n",
      "135                                Lamia\n",
      "136                       Greater Shadow\n",
      "137                             Gogiteth\n",
      "138                             Marilith\n",
      "139                         Riding Horse\n",
      "140                       Scorpion Swarm\n",
      "141                               Ghaele\n",
      "142                         Zombie Brute\n",
      "143                           Giant Wasp\n",
      "144     Adult Green Dragon (Spellcaster)\n",
      "145                              Quatoid\n",
      "146                     Adult Red Dragon\n",
      "147                               Baomal\n",
      "148                      Boggard Warrior\n",
      "149                   Adult Brass Dragon\n",
      "150                            War Horse\n",
      "151                             Grothlut\n",
      "152                           Air Mephit\n",
      "153                         Water Mephit\n",
      "154                     Hobgoblin Archer\n",
      "155                         Spider Swarm\n",
      "156                          Giant Viper\n",
      "157                        Plague Zombie\n",
      "158                        Tyrannosaurus\n",
      "159                                Ghoul\n",
      "160                           Storm Lord\n",
      "161                              Arbiter\n",
      "162                 Ancient Black Dragon\n",
      "163                              Banshee\n",
      "164  Ancient Bronze Dragon (Spellcaster)\n",
      "165     Adult White Dragon (Spellcaster)\n",
      "166                          Leukodaemon\n",
      "167                              Wemmuth\n",
      "168                            Sod Hound\n",
      "169                         Ceustodaemon\n",
      "170                    Elemental Inferno\n",
      "171                         Stone Mauler\n",
      "172      Adult Gold Dragon (Spellcaster)\n",
      "173                             Warsworn\n",
      "174                      Lamia Matriarch\n",
      "175                      Merfolk Warrior\n",
      "176                          Flame Drake\n",
      "177                             War Pony\n",
      "178                              Griffon\n",
      "179                                 Wolf\n",
      "180   Ancient White Dragon (Spellcaster)\n",
      "181                              Pegasus\n",
      "182                      Sea Devil Scout\n",
      "183                               Nilith\n",
      "184                             Kolyarut\n",
      "185                      Animated Statue\n",
      "186                    Hobgoblin Soldier\n",
      "187        Soulbound Doll (True Neutral)\n",
      "188                             Shoggoth\n",
      "189                             Firewyrm\n",
      "190                            Envyspawn\n",
      "191                    Greater Nightmare\n",
      "192                            Guard Dog\n",
      "193                 Giant Frilled Lizard\n",
      "194                            Pit Fiend\n",
      "195                               Sphinx\n",
      "196             Green Kobold Dragon Mage\n",
      "197             Black Kobold Dragon Mage\n",
      "198         Soulbound Doll (Lawful Good)\n",
      "199                              Wendigo\n",
      "200                    Skeletal Champion\n",
      "201               Chimera (Black Dragon)\n",
      "202                      Xulgath Warrior\n",
      "203                                Naiad\n",
      "204                                Hydra\n",
      "205         Soulbound Doll (Lawful Evil)\n",
      "206                             Demilich\n",
      "207                         Velociraptor\n",
      "208                               Bunyip\n",
      "209                             Smilodon\n",
      "210                           Drakauthix\n",
      "211                Ancient Silver Dragon\n",
      "212                 Chimera (Red Dragon)\n",
      "213                          Deinosuchus\n",
      "214                                 Warg\n",
      "215                 Giant Monitor Lizard\n",
      "216                       Goliath Spider\n",
      "217                      Gelatinous Cube\n",
      "218                           Ghost Mage\n",
      "219                     Alchemical Golem\n",
      "220                             Dezullon\n",
      "221                            Grikkitog\n",
      "222                             Reefclaw\n",
      "223                          Gourd Leshy\n",
      "224                          Stone Golem\n",
      "225                      Sea Devil Brute\n",
      "226                    Vampire Bat Swarm\n",
      "227                           Drow Rogue\n",
      "228                                Ghast\n",
      "229    Ancient Gold Dragon (Spellcaster)\n",
      "230                             Mu Spore\n",
      "231                            Hyaenodon\n",
      "232              Duskwalker Ghost Hunter\n",
      "233                          Triceratops\n",
      "234                    Great White Shark\n",
      "235                               Krooth\n",
      "236                            Night Hag\n",
      "237                          Stone Giant\n",
      "238     Soulbound Doll (Chaotic Neutral)\n",
      "239                              Owlbear\n",
      "240                         Orc Warchief\n",
      "241                             Lyrakien\n",
      "242                              Gorilla\n",
      "243                    Ratfolk Grenadier\n",
      "244                  Elemental Avalanche\n",
      "245                               Shadow\n",
      "246                         Desert Drake\n",
      "247                  Young Silver Dragon\n",
      "248                          Riding Pony\n",
      "249               Chimera (Green Dragon)\n",
      "250                         Giant Mantis\n",
      "251                           Web Lurker\n",
      "252                      Centipede Swarm\n",
      "253                                Wight\n",
      "254                                 Skum\n",
      "255                                Roper\n",
      "256                             Remorhaz\n",
      "257                        Great Cyclops\n",
      "258                       Dero Strangler\n",
      "259                                Hyena\n",
      "260                            Cassisian\n",
      "261                    Adult Gold Dragon\n",
      "262                                Chuul\n",
      "263                      Arboreal Warden\n",
      "264                             Gargoyle\n",
      "265                        Guardian Naga\n",
      "266                           Hill Giant\n",
      "267                    Young Blue Dragon\n",
      "268                        Faerie Dragon\n",
      "269                   Deep Gnome Warrior\n",
      "270                            Cave Bear\n",
      "271                     Changeling Exile\n",
      "272                            Ogre Boss\n",
      "273                    Giant Stag Beetle\n",
      "274                             Werewolf\n",
      "275                 Ancient Brass Dragon\n",
      "276                              Pleroma\n",
      "277                              Cloaker\n",
      "278                         Dero Stalker\n",
      "279                              Efreeti\n",
      "280                              Unicorn\n",
      "281                      Arboreal Regent\n",
      "282                          Zephyr Hawk\n",
      "283                               Sprite\n",
      "284                            Orc Brute\n",
      "285                           Pridespawn\n",
      "286                       Animated Armor\n",
      "287                           Terotricus\n",
      "288                         Ether Spider\n",
      "289     Young White Dragon (Spellcaster)\n",
      "290                                Marid\n",
      "291                              Lillend\n",
      "292                    Gibbering Mouther\n",
      "293                   Duergar Taskmaster\n",
      "294                         Drow Fighter\n",
      "295    Young Silver Dragon (Spellcaster)\n",
      "296                           Shemhazian\n",
      "297                                Slurk\n",
      "298                          Stegosaurus\n",
      "299                        Dero Magister\n",
      "300                       Caligni Dancer\n",
      "301                              Sea Hag\n",
      "302     Young Brass Dragon (Spellcaster)\n",
      "303      Young Blue Dragon (Spellcaster)\n",
      "304                           Cockatrice\n",
      "305                          Astradaemon\n",
      "306    Young Bronze Dragon (Spellcaster)\n",
      "307                                Shuln\n",
      "308                     Aasimar Redeemer\n",
      "309                      Caligni Stalker\n",
      "310                        Dragon Turtle\n",
      "311                         Ogre Warrior\n",
      "312                               Jinkin\n",
      "313                              Phoenix\n",
      "314                                Troll\n",
      "315             Lantern Archon (Gestalt)\n",
      "316                            Dandasuka\n",
      "317                        Raja Rakshasa\n",
      "318                        Gnoll Cultist\n",
      "319                           Cinder Rat\n",
      "320                 Duergar Sharpshooter\n",
      "321                    Adult Blue Dragon\n",
      "322                         Flash Beetle\n",
      "323                          Orc Warrior\n",
      "324                           Azure Worm\n",
      "325        Soulbound Doll (Neutral Good)\n",
      "326                        Horned Archon\n",
      "327                                Dryad\n",
      "328                          Dryad Queen\n",
      "329                   Adult Black Dragon\n",
      "330        Soulbound Doll (Chaotic Good)\n",
      "331                                 Grig\n",
      "332                       Unseen Servant\n",
      "333                      Goblin Commando\n",
      "334                       Dhampir Wizard\n",
      "335                               Ofalth\n",
      "336                       Goblin Warrior\n",
      "337                           Hell Hound\n",
      "338  Ancient Silver Dragon (Spellcaster)\n",
      "339                             Pugwampi\n",
      "340                          Poltergeist\n",
      "341                          Fire Mephit\n",
      "342             White Kobold Dragon Mage\n",
      "343                              Balisse\n",
      "344                              Gelugon\n",
      "345                               Otyugh\n",
      "346     Young Black Dragon (Spellcaster)\n",
      "347   Ancient Brass Dragon (Spellcaster)\n",
      "348                     Adamantine Golem\n",
      "349                        Mummy Pharaoh\n",
      "350                               Medusa\n",
      "351                              Centaur\n",
      "352                          Cloud Giant\n",
      "353                                 Lion\n",
      "354                                Viper\n",
      "355                        Skeletal Hulk\n",
      "356                           Guthallath\n",
      "357                         Rust Monster\n",
      "358                          Grim Reaper\n",
      "359                 Ancient White Dragon\n",
      "360                       Skeletal Horse\n",
      "361                    Invisible Stalker\n",
      "362                           Skulltaker\n",
      "363                                Uthul\n",
      "364                      Caligni Creeper\n",
      "365                  Ancient Gold Dragon\n",
      "366               Chimera (White Dragon)\n",
      "367                         Gnoll Hunter\n",
      "368                        Awakened Tree\n",
      "369                                Nosoi\n",
      "370                         Ogre Glutton\n",
      "371       Young Red Dragon (Spellcaster)\n",
      "372                           Rune Giant\n",
      "373                       Gnoll Sergeant\n",
      "374                          Frost Giant\n",
      "375                         Fungus Leshy\n",
      "376    Adult Bronze Dragon (Spellcaster)\n",
      "377    Adult Copper Dragon (Spellcaster)\n",
      "378   Ancient Green Dragon (Spellcaster)\n",
      "379       Adult Red Dragon (Spellcaster)\n",
      "380                    Boggard Swampseer\n",
      "381                               Naunet\n",
      "382                           Wrathspawn\n",
      "383                          Hive Mother\n",
      "384   Ancient Black Dragon (Spellcaster)\n",
      "385                         Lesser Death\n",
      "386                          Frost Drake\n",
      "387    Young Copper Dragon (Spellcaster)\n",
      "388                           Slothspawn\n",
      "389  Ancient Copper Dragon (Spellcaster)\n",
      "390                            Dire Wolf\n",
      "391                           Wasp Swarm\n",
      "392                   Duergar Bombardier\n",
      "393                        Shield Archon\n",
      "394                            Manticore\n",
      "395                     Faceless Stalker\n",
      "396                              Daeodon\n",
      "397                              Poracha\n",
      "398                       Kobold Warrior\n",
      "399      Soulbound Doll (Lawful Neutral)\n",
      "400                             Basilisk\n",
      "401                         Kobold Scout\n",
      "402                          Flesh Golem\n",
      "403                            Rat Swarm\n",
      "404                     Young Red Dragon\n",
      "405                        Black Pudding\n",
      "406                      Catfolk Pouncer\n",
      "407                          Ball Python\n",
      "408                                Ettin\n",
      "409                           Clay Golem\n",
      "410                        Shining Child\n",
      "411                           Iron Golem\n",
      "412                            Annis Hag\n",
      "413                          Giant Eagle\n",
      "414                                Janni\n",
      "415                         Crag Linnorm\n",
      "416                              Wererat\n",
      "417    Adult Silver Dragon (Spellcaster)\n",
      "418                       Tiefling Adept\n",
      "419                         Electric Eel\n",
      "420                        Gluttonyspawn\n",
      "421                    Alghollthu Master\n",
      "422                   Young Brass Dragon\n",
      "423                   Merfolk Wavecaller\n",
      "424                  Ancient Blue Dragon\n",
      "425                          Ochre Jelly\n",
      "426                  Young Bronze Dragon\n",
      "427                   Young Black Dragon\n",
      "428                          Winter Wolf\n",
      "429                  Adult Silver Dragon\n",
      "430                         Jungle Drake\n",
      "431                            Crocodile\n",
      "432                            Megalodon\n",
      "433                    Elemental Tsunami\n",
      "434                        Giant Octopus\n",
      "435                           Greedspawn\n",
      "436                Giant Animated Statue\n",
      "437                              Ankhrav\n",
      "438                         Will-o'-Wisp\n",
      "439                            Nightmare\n",
      "440                        Boggard Scout\n",
      "441                     Living Whirlwind\n",
      "442                                Pixie\n",
      "443                              Leopard\n",
      "444                               Wyvern\n",
      "445                         Earth Mephit\n",
      "446                             Quelaunt\n",
      "447                             Barghest\n",
      "448                          Tor Linnorm\n",
      "449                Chimera (Blue Dragon)\n",
      "450                            Lustspawn\n",
      "451                     Living Landslide\n",
      "452                   Young Green Dragon\n",
      "453                              Shaitan\n",
      "454                              Mammoth\n",
      "455                                Tiger\n",
      "456                           Kapoacinth\n",
      "457                   Vampire Mastermind\n",
      "458                 Lizardfolk Stargazer\n",
      "459                          Goblin Pyro\n",
      "460                          Naiad Queen\n",
      "461                              Keketar\n",
      "462                       Giant Scorpion\n",
      "463                               Lemure\n",
      "464                      Living Wildfire\n",
      "465                               Choral\n",
      "466                   Adult Green Dragon\n",
      "467                                  Gug\n"
     ]
    }
   ],
   "source": [
    "all_names = pd.DataFrame(bestiary1.loc[:, \"name\"])\n",
    "print(all_names.to_string())"
   ]
  },
  {
   "cell_type": "markdown",
   "id": "d3d47ae2",
   "metadata": {},
   "source": [
    "#### ```name``` można usunąć"
   ]
  },
  {
   "cell_type": "markdown",
   "id": "400238c6",
   "metadata": {},
   "source": [
    "### Analiza ```system```"
   ]
  },
  {
   "cell_type": "markdown",
   "id": "7a5afad9",
   "metadata": {},
   "source": [
    "W notebooku: [Pathfinder_system.ipynb](Pathfinder_system.ipynb)"
   ]
  },
  {
   "cell_type": "markdown",
   "id": "f601d75f",
   "metadata": {},
   "source": [
    "### Analiza ```type```"
   ]
  },
  {
   "cell_type": "code",
   "execution_count": 59,
   "id": "f01be26c",
   "metadata": {},
   "outputs": [
    {
     "data": {
      "text/plain": [
       "False"
      ]
     },
     "execution_count": 59,
     "metadata": {},
     "output_type": "execute_result"
    }
   ],
   "source": [
    "bestiary1[\"type\"].isnull().values.any()"
   ]
  },
  {
   "cell_type": "code",
   "execution_count": 60,
   "id": "0d51216e",
   "metadata": {
    "scrolled": false
   },
   "outputs": [
    {
     "name": "stdout",
     "output_type": "stream",
     "text": [
      "Number of Nones: 0\n",
      "Number of unique values: 1\n",
      "Unique values with number of occurences:\n",
      "npc    468\n",
      "Name: type, dtype: int64\n"
     ]
    }
   ],
   "source": [
    "print_unique_values(bestiary1, 'type')"
   ]
  },
  {
   "cell_type": "markdown",
   "id": "417a6e86",
   "metadata": {},
   "source": [
    "Wszystkie wartości są npc."
   ]
  },
  {
   "cell_type": "markdown",
   "id": "811a0f7c",
   "metadata": {},
   "source": [
    "#### ```type``` można usunąć"
   ]
  },
  {
   "cell_type": "markdown",
   "id": "ceeb32f3",
   "metadata": {},
   "source": [
    "### Analiza ```flags```"
   ]
  },
  {
   "cell_type": "markdown",
   "id": "bb3128c8",
   "metadata": {},
   "source": [
    "Nazwy są unikatowe, smoki mają wersję normalną i wersję spellcaster (optional rule)"
   ]
  },
  {
   "cell_type": "code",
   "execution_count": 61,
   "id": "319b5cd5",
   "metadata": {
    "scrolled": false
   },
   "outputs": [
    {
     "name": "stdout",
     "output_type": "stream",
     "text": [
      "First row:\n",
      "core    {'sourceId': 'Compendium.pf2e.pathfinder-besti...\n",
      "Name: 0, dtype: object\n",
      "Len = 1\n"
     ]
    }
   ],
   "source": [
    "flags = unpack_column(bestiary1, 'flags')"
   ]
  },
  {
   "cell_type": "code",
   "execution_count": 62,
   "id": "d56f3997",
   "metadata": {
    "scrolled": false
   },
   "outputs": [
    {
     "name": "stdout",
     "output_type": "stream",
     "text": [
      "First row:\n",
      "sourceId    Compendium.pf2e.pathfinder-bestiary.024PqcF8yM...\n",
      "Name: 0, dtype: object\n",
      "Len = 1\n"
     ]
    }
   ],
   "source": [
    "core = unpack_column(flags, 'core')"
   ]
  },
  {
   "cell_type": "code",
   "execution_count": 63,
   "id": "ef62601c",
   "metadata": {
    "scrolled": false
   },
   "outputs": [
    {
     "name": "stdout",
     "output_type": "stream",
     "text": [
      "                                              sourceId\n",
      "0    Compendium.pf2e.pathfinder-bestiary.024PqcF8yM...\n",
      "1    Compendium.pf2e.pathfinder-bestiary.05E3kkjoLZ...\n",
      "2    Compendium.pf2e.pathfinder-bestiary.05wwpHHsBl...\n",
      "3    Compendium.pf2e.pathfinder-bestiary.0FGz2eXm0S...\n",
      "4    Compendium.pf2e.pathfinder-bestiary.0HjVFx8qIK...\n",
      "..                                                 ...\n",
      "463  Compendium.pf2e.pathfinder-bestiary.zJro50sLFm...\n",
      "464  Compendium.pf2e.pathfinder-bestiary.zRNHsSxi1g...\n",
      "465  Compendium.pf2e.pathfinder-bestiary.zUvgAbgeQH...\n",
      "466  Compendium.pf2e.pathfinder-bestiary.zXi6UhZ0mX...\n",
      "467  Compendium.pf2e.pathfinder-bestiary.zq18QX6CBJ...\n",
      "\n",
      "[468 rows x 1 columns]\n"
     ]
    }
   ],
   "source": [
    "print(core)"
   ]
  },
  {
   "cell_type": "markdown",
   "id": "581fae37",
   "metadata": {},
   "source": [
    "Nic ważnego"
   ]
  },
  {
   "cell_type": "markdown",
   "id": "f10fc1ff",
   "metadata": {},
   "source": [
    "#### ```flags``` można usunąć"
   ]
  },
  {
   "cell_type": "markdown",
   "id": "abbec266",
   "metadata": {},
   "source": [
    "### Analiza ```prototypeToken```"
   ]
  },
  {
   "cell_type": "code",
   "execution_count": 64,
   "id": "4fcffbf3",
   "metadata": {
    "scrolled": false
   },
   "outputs": [
    {
     "data": {
      "text/plain": [
       "433"
      ]
     },
     "execution_count": 64,
     "metadata": {},
     "output_type": "execute_result"
    }
   ],
   "source": [
    "bestiary1[\"prototypeToken\"].isnull().sum()"
   ]
  },
  {
   "cell_type": "code",
   "execution_count": 65,
   "id": "58b3c3c8",
   "metadata": {},
   "outputs": [
    {
     "name": "stdout",
     "output_type": "stream",
     "text": [
      "First row:\n",
      "0       NaN\n",
      "name    NaN\n",
      "Name: 0, dtype: object\n",
      "Len = 2\n"
     ]
    }
   ],
   "source": [
    "prototypeToken = unpack_column(bestiary1, \"prototypeToken\")"
   ]
  },
  {
   "cell_type": "code",
   "execution_count": 66,
   "id": "94db15f1",
   "metadata": {
    "scrolled": true
   },
   "outputs": [
    {
     "name": "stdout",
     "output_type": "stream",
     "text": [
      "Number of Nones: 433\n",
      "Number of unique values: 31\n",
      "Unique values with number of occurences:\n",
      "Chimera                  5\n",
      "Ancient Red Dragon       1\n",
      "Young Brass Dragon       1\n",
      "Ancient Copper Dragon    1\n",
      "Young Copper Dragon      1\n",
      "Ancient Black Dragon     1\n",
      "Adult Red Dragon         1\n",
      "Ancient Green Dragon     1\n",
      "Adult Copper Dragon      1\n",
      "Adult Bronze Dragon      1\n",
      "Young Red Dragon         1\n",
      "Ancient Brass Dragon     1\n",
      "Young Black Dragon       1\n",
      "Ancient Silver Dragon    1\n",
      "Young Bronze Dragon      1\n",
      "Young Blue Dragon        1\n",
      "Young Silver Dragon      1\n",
      "Ancient Blue Dragon      1\n",
      "Young White Dragon       1\n",
      "Ancient Gold Dragon      1\n",
      "Ancient White Dragon     1\n",
      "Adult Gold Dragon        1\n",
      "Adult White Dragon       1\n",
      "Ancient Bronze Dragon    1\n",
      "Adult Green Dragon       1\n",
      "Adult Brass Dragon       1\n",
      "Adult Blue Dragon        1\n",
      "Adult Black Dragon       1\n",
      "Young Gold Dragon        1\n",
      "Young Green Dragon       1\n",
      "Adult Silver Dragon      1\n",
      "Name: name, dtype: int64\n"
     ]
    }
   ],
   "source": [
    "print_unique_values(prototypeToken, 'name')"
   ]
  },
  {
   "cell_type": "code",
   "execution_count": 67,
   "id": "7f13be5f",
   "metadata": {
    "scrolled": true
   },
   "outputs": [
    {
     "name": "stdout",
     "output_type": "stream",
     "text": [
      "First row:\n",
      "name    Ancient Red Dragon\n",
      "Name: 17, dtype: object\n",
      "Len = 1\n"
     ]
    }
   ],
   "source": [
    "non_null_prototypeToken = unpack_column(bestiary1[~bestiary1['prototypeToken'].isna()], \"prototypeToken\")"
   ]
  },
  {
   "cell_type": "code",
   "execution_count": 68,
   "id": "af357853",
   "metadata": {
    "scrolled": true
   },
   "outputs": [
    {
     "name": "stdout",
     "output_type": "stream",
     "text": [
      "                      name\n",
      "17      Ancient Red Dragon\n",
      "28     Ancient Blue Dragon\n",
      "40      Young Green Dragon\n",
      "70       Young Gold Dragon\n",
      "71      Adult Black Dragon\n",
      "101      Adult Blue Dragon\n",
      "113     Adult Brass Dragon\n",
      "144     Adult Green Dragon\n",
      "164  Ancient Bronze Dragon\n",
      "165     Adult White Dragon\n",
      "172      Adult Gold Dragon\n",
      "180   Ancient White Dragon\n",
      "201                Chimera\n",
      "212                Chimera\n",
      "229    Ancient Gold Dragon\n",
      "249                Chimera\n",
      "289     Young White Dragon\n",
      "295    Young Silver Dragon\n",
      "302     Young Brass Dragon\n",
      "303      Young Blue Dragon\n",
      "306    Young Bronze Dragon\n",
      "338  Ancient Silver Dragon\n",
      "346     Young Black Dragon\n",
      "347   Ancient Brass Dragon\n",
      "366                Chimera\n",
      "371       Young Red Dragon\n",
      "376    Adult Bronze Dragon\n",
      "377    Adult Copper Dragon\n",
      "378   Ancient Green Dragon\n",
      "379       Adult Red Dragon\n",
      "384   Ancient Black Dragon\n",
      "387    Young Copper Dragon\n",
      "389  Ancient Copper Dragon\n",
      "417    Adult Silver Dragon\n",
      "449                Chimera\n"
     ]
    }
   ],
   "source": [
    "print(non_null_prototypeToken)"
   ]
  },
  {
   "cell_type": "markdown",
   "id": "0320d914",
   "metadata": {},
   "source": [
    "##### Porównianie Smoka spellcastera ze swoim prototypem"
   ]
  },
  {
   "cell_type": "code",
   "execution_count": 69,
   "id": "59339849",
   "metadata": {
    "scrolled": true
   },
   "outputs": [
    {
     "name": "stdout",
     "output_type": "stream",
     "text": [
      "_id                                                2T2cN4j4EzfDAIEe\n",
      "img                        systems/pf2e/icons/default-icons/npc.svg\n",
      "items             [{'_id': '80jq5AttlXMgdD6Q', 'img': 'systems/p...\n",
      "name                               Ancient Red Dragon (Spellcaster)\n",
      "system            {'abilities': {'cha': {'mod': 7}, 'con': {'mod...\n",
      "type                                                            npc\n",
      "flags             {'core': {'sourceId': 'Compendium.pf2e.pathfin...\n",
      "prototypeToken                       {'name': 'Ancient Red Dragon'}\n",
      "Name: 17, dtype: object\n"
     ]
    }
   ],
   "source": [
    "dragon_spellcaster = bestiary1.iloc[17]\n",
    "print(dragon_spellcaster)"
   ]
  },
  {
   "cell_type": "code",
   "execution_count": 70,
   "id": "4672cbcf",
   "metadata": {
    "scrolled": true
   },
   "outputs": [
    {
     "name": "stdout",
     "output_type": "stream",
     "text": [
      "_id                                                9H11QHnoKz8hHKSM\n",
      "img                        systems/pf2e/icons/default-icons/npc.svg\n",
      "items             [{'_id': 'qaEGHfAlvrP6CGwS', 'img': 'systems/p...\n",
      "name                                             Ancient Red Dragon\n",
      "system            {'abilities': {'cha': {'mod': 7}, 'con': {'mod...\n",
      "type                                                            npc\n",
      "flags             {'core': {'sourceId': 'Compendium.pf2e.pathfin...\n",
      "prototypeToken                                                  NaN\n",
      "Name: 62, dtype: object\n"
     ]
    }
   ],
   "source": [
    "dragon =bestiary1.loc[bestiary1['name'] =='Ancient Red Dragon'].squeeze()\n",
    "print(dragon)"
   ]
  },
  {
   "cell_type": "code",
   "execution_count": 71,
   "id": "52bcf147",
   "metadata": {
    "scrolled": true
   },
   "outputs": [
    {
     "name": "stdout",
     "output_type": "stream",
     "text": [
      "True\n"
     ]
    }
   ],
   "source": [
    "print(dragon_spellcaster['system'] == dragon['system'])"
   ]
  },
  {
   "cell_type": "code",
   "execution_count": 72,
   "id": "ff33b570",
   "metadata": {
    "scrolled": true
   },
   "outputs": [
    {
     "name": "stdout",
     "output_type": "stream",
     "text": [
      "False\n"
     ]
    }
   ],
   "source": [
    "print(dragon_spellcaster['flags'] == dragon['flags'])"
   ]
  },
  {
   "cell_type": "code",
   "execution_count": 73,
   "id": "891ee1ca",
   "metadata": {
    "scrolled": true
   },
   "outputs": [
    {
     "name": "stdout",
     "output_type": "stream",
     "text": [
      "58\n"
     ]
    }
   ],
   "source": [
    "print(len(dragon_spellcaster['items']))"
   ]
  },
  {
   "cell_type": "code",
   "execution_count": 74,
   "id": "16d5dec4",
   "metadata": {
    "scrolled": true
   },
   "outputs": [
    {
     "name": "stdout",
     "output_type": "stream",
     "text": [
      "29\n"
     ]
    }
   ],
   "source": [
    "print(len(dragon['items']))"
   ]
  },
  {
   "cell_type": "markdown",
   "id": "0deeadd8",
   "metadata": {},
   "source": [
    "Obstawiam, że to jest ten sam smok, tylko spellcaster ma dodatkowo wpisane spelle. W każdym razie ta kolumna jest do wyrzucenia."
   ]
  },
  {
   "cell_type": "markdown",
   "id": "b8dc324f",
   "metadata": {},
   "source": [
    "#### ```prototypeToken``` można usunąć"
   ]
  }
 ],
 "metadata": {
  "kernelspec": {
   "display_name": "Python 3 (ipykernel)",
   "language": "python",
   "name": "python3"
  },
  "language_info": {
   "codemirror_mode": {
    "name": "ipython",
    "version": 3
   },
   "file_extension": ".py",
   "mimetype": "text/x-python",
   "name": "python",
   "nbconvert_exporter": "python",
   "pygments_lexer": "ipython3",
   "version": "3.10.4"
  }
 },
 "nbformat": 4,
 "nbformat_minor": 5
}
