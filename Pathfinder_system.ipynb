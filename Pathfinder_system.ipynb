{
 "cells": [
  {
   "cell_type": "markdown",
   "source": [
    "# Analiza kolumny system: details, resources, saves\n",
    "\n",
    "\n",
    "Import danych"
   ],
   "metadata": {
    "collapsed": false
   }
  },
  {
   "cell_type": "code",
   "execution_count": 1,
   "metadata": {
    "collapsed": true
   },
   "outputs": [],
   "source": [
    "from analysis_functions import (\n",
    "    import_merged_bestiaries,\n",
    "    unpack_column,\n",
    "    remove_redundant_level,\n",
    ")\n",
    "import pandas as pd\n",
    "\n",
    "\n",
    "bestiary = import_merged_bestiaries(\n",
    "    [\n",
    "        \"pathfinder_2e_data/pathfinder-bestiary.db\",\n",
    "        \"pathfinder_2e_data/pathfinder-bestiary-2.db\",\n",
    "        \"pathfinder_2e_data/pathfinder-bestiary-3.db\",\n",
    "    ]\n",
    ")"
   ]
  },
  {
   "cell_type": "code",
   "execution_count": 2,
   "outputs": [],
   "source": [
    "system = unpack_column(bestiary, \"system\")"
   ],
   "metadata": {
    "collapsed": false
   }
  },
  {
   "cell_type": "code",
   "execution_count": 3,
   "outputs": [
    {
     "data": {
      "text/plain": "                                           abilities  \\\n0  {'cha': {'mod': 1}, 'con': {'mod': 5}, 'dex': ...   \n1  {'cha': {'mod': 1}, 'con': {'mod': 5}, 'dex': ...   \n2  {'cha': {'mod': -2}, 'con': {'mod': 6}, 'dex':...   \n3  {'cha': {'mod': 6}, 'con': {'mod': 5}, 'dex': ...   \n4  {'cha': {'mod': 1}, 'con': {'mod': 1}, 'dex': ...   \n\n                                          attributes  \\\n0  {'ac': {'details': '', 'value': 29}, 'allSaves...   \n1  {'ac': {'details': '', 'value': 28}, 'allSaves...   \n2  {'ac': {'details': '', 'value': 25}, 'allSaves...   \n3  {'ac': {'details': '', 'value': 41}, 'allSaves...   \n4  {'ac': {'details': '', 'value': 16}, 'allSaves...   \n\n                                             details  \\\n0  {'alignment': {'value': 'CE'}, 'blurb': '', 'c...   \n1  {'alignment': {'value': 'N'}, 'blurb': '', 'cr...   \n2  {'alignment': {'value': 'N'}, 'blurb': '', 'cr...   \n3  {'alignment': {'value': 'LE'}, 'blurb': '', 'c...   \n4  {'alignment': {'value': 'LG'}, 'blurb': '', 'c...   \n\n                           resources  \\\n0  {'focus': {'max': 1, 'value': 1}}   \n1                                 {}   \n2                                 {}   \n3  {'focus': {'max': 1, 'value': 1}}   \n4  {'focus': {'max': 1, 'value': 1}}   \n\n                                               saves  \\\n0  {'fortitude': {'saveDetail': '', 'value': 22},...   \n1  {'fortitude': {'saveDetail': '', 'value': 21},...   \n2  {'fortitude': {'saveDetail': '', 'value': 20},...   \n3  {'fortitude': {'saveDetail': '', 'value': 30},...   \n4  {'fortitude': {'saveDetail': '', 'value': 6}, ...   \n\n                                              traits  \\\n0  {'languages': {'custom': '', 'selected': [], '...   \n1  {'languages': {'custom': '', 'selected': [], '...   \n2  {'languages': {'custom': '', 'selected': [], '...   \n3  {'languages': {'custom': '', 'selected': [], '...   \n4  {'languages': {'custom': '', 'selected': [], '...   \n\n                                              schema  \n0  {'version': 0.8270000000000001, 'lastMigration...  \n1  {'version': 0.8270000000000001, 'lastMigration...  \n2  {'version': 0.8270000000000001, 'lastMigration...  \n3  {'version': 0.8270000000000001, 'lastMigration...  \n4  {'version': 0.8270000000000001, 'lastMigration...  ",
      "text/html": "<div>\n<style scoped>\n    .dataframe tbody tr th:only-of-type {\n        vertical-align: middle;\n    }\n\n    .dataframe tbody tr th {\n        vertical-align: top;\n    }\n\n    .dataframe thead th {\n        text-align: right;\n    }\n</style>\n<table border=\"1\" class=\"dataframe\">\n  <thead>\n    <tr style=\"text-align: right;\">\n      <th></th>\n      <th>abilities</th>\n      <th>attributes</th>\n      <th>details</th>\n      <th>resources</th>\n      <th>saves</th>\n      <th>traits</th>\n      <th>schema</th>\n    </tr>\n  </thead>\n  <tbody>\n    <tr>\n      <th>0</th>\n      <td>{'cha': {'mod': 1}, 'con': {'mod': 5}, 'dex': ...</td>\n      <td>{'ac': {'details': '', 'value': 29}, 'allSaves...</td>\n      <td>{'alignment': {'value': 'CE'}, 'blurb': '', 'c...</td>\n      <td>{'focus': {'max': 1, 'value': 1}}</td>\n      <td>{'fortitude': {'saveDetail': '', 'value': 22},...</td>\n      <td>{'languages': {'custom': '', 'selected': [], '...</td>\n      <td>{'version': 0.8270000000000001, 'lastMigration...</td>\n    </tr>\n    <tr>\n      <th>1</th>\n      <td>{'cha': {'mod': 1}, 'con': {'mod': 5}, 'dex': ...</td>\n      <td>{'ac': {'details': '', 'value': 28}, 'allSaves...</td>\n      <td>{'alignment': {'value': 'N'}, 'blurb': '', 'cr...</td>\n      <td>{}</td>\n      <td>{'fortitude': {'saveDetail': '', 'value': 21},...</td>\n      <td>{'languages': {'custom': '', 'selected': [], '...</td>\n      <td>{'version': 0.8270000000000001, 'lastMigration...</td>\n    </tr>\n    <tr>\n      <th>2</th>\n      <td>{'cha': {'mod': -2}, 'con': {'mod': 6}, 'dex':...</td>\n      <td>{'ac': {'details': '', 'value': 25}, 'allSaves...</td>\n      <td>{'alignment': {'value': 'N'}, 'blurb': '', 'cr...</td>\n      <td>{}</td>\n      <td>{'fortitude': {'saveDetail': '', 'value': 20},...</td>\n      <td>{'languages': {'custom': '', 'selected': [], '...</td>\n      <td>{'version': 0.8270000000000001, 'lastMigration...</td>\n    </tr>\n    <tr>\n      <th>3</th>\n      <td>{'cha': {'mod': 6}, 'con': {'mod': 5}, 'dex': ...</td>\n      <td>{'ac': {'details': '', 'value': 41}, 'allSaves...</td>\n      <td>{'alignment': {'value': 'LE'}, 'blurb': '', 'c...</td>\n      <td>{'focus': {'max': 1, 'value': 1}}</td>\n      <td>{'fortitude': {'saveDetail': '', 'value': 30},...</td>\n      <td>{'languages': {'custom': '', 'selected': [], '...</td>\n      <td>{'version': 0.8270000000000001, 'lastMigration...</td>\n    </tr>\n    <tr>\n      <th>4</th>\n      <td>{'cha': {'mod': 1}, 'con': {'mod': 1}, 'dex': ...</td>\n      <td>{'ac': {'details': '', 'value': 16}, 'allSaves...</td>\n      <td>{'alignment': {'value': 'LG'}, 'blurb': '', 'c...</td>\n      <td>{'focus': {'max': 1, 'value': 1}}</td>\n      <td>{'fortitude': {'saveDetail': '', 'value': 6}, ...</td>\n      <td>{'languages': {'custom': '', 'selected': [], '...</td>\n      <td>{'version': 0.8270000000000001, 'lastMigration...</td>\n    </tr>\n  </tbody>\n</table>\n</div>"
     },
     "execution_count": 3,
     "metadata": {},
     "output_type": "execute_result"
    }
   ],
   "source": [
    "system.head()"
   ],
   "metadata": {
    "collapsed": false
   }
  },
  {
   "cell_type": "code",
   "execution_count": 4,
   "outputs": [
    {
     "name": "stdout",
     "output_type": "stream",
     "text": [
      "<class 'pandas.core.frame.DataFrame'>\n",
      "Int64Index: 1206 entries, 0 to 364\n",
      "Data columns (total 7 columns):\n",
      " #   Column      Non-Null Count  Dtype \n",
      "---  ------      --------------  ----- \n",
      " 0   abilities   1206 non-null   object\n",
      " 1   attributes  1206 non-null   object\n",
      " 2   details     1206 non-null   object\n",
      " 3   resources   1206 non-null   object\n",
      " 4   saves       1206 non-null   object\n",
      " 5   traits      1206 non-null   object\n",
      " 6   schema      1206 non-null   object\n",
      "dtypes: object(7)\n",
      "memory usage: 75.4+ KB\n"
     ]
    }
   ],
   "source": [
    "system.info()"
   ],
   "metadata": {
    "collapsed": false
   }
  },
  {
   "cell_type": "markdown",
   "source": [
    "## Details"
   ],
   "metadata": {
    "collapsed": false
   }
  },
  {
   "cell_type": "code",
   "execution_count": 5,
   "outputs": [],
   "source": [
    "details = unpack_column(system, \"details\")"
   ],
   "metadata": {
    "collapsed": false
   }
  },
  {
   "cell_type": "code",
   "execution_count": 6,
   "outputs": [
    {
     "data": {
      "text/plain": "         alignment blurb creatureType          level privateNotes  \\\n0  {'value': 'CE'}             Dragon  {'value': 10}                \n1   {'value': 'N'}             Animal  {'value': 10}                \n2   {'value': 'N'}             Animal   {'value': 8}                \n3  {'value': 'LE'}             Dragon  {'value': 17}                \n4  {'value': 'LG'}          Celestial   {'value': 1}                \n\n                                         publicNotes  \\\n0  <p>The most feral and least intelligent of all...   \n1  <p>Brontosauruses are truly gigantic behemoths...   \n2  <p>The monstrous giant anaconda is capable of ...   \n3  <p>Green dragons are the most contemplative of...   \n4  <p>Friendly, curious, and eternally optimistic...   \n\n                             source  \n0  {'value': 'Pathfinder Bestiary'}  \n1  {'value': 'Pathfinder Bestiary'}  \n2  {'value': 'Pathfinder Bestiary'}  \n3  {'value': 'Pathfinder Bestiary'}  \n4  {'value': 'Pathfinder Bestiary'}  ",
      "text/html": "<div>\n<style scoped>\n    .dataframe tbody tr th:only-of-type {\n        vertical-align: middle;\n    }\n\n    .dataframe tbody tr th {\n        vertical-align: top;\n    }\n\n    .dataframe thead th {\n        text-align: right;\n    }\n</style>\n<table border=\"1\" class=\"dataframe\">\n  <thead>\n    <tr style=\"text-align: right;\">\n      <th></th>\n      <th>alignment</th>\n      <th>blurb</th>\n      <th>creatureType</th>\n      <th>level</th>\n      <th>privateNotes</th>\n      <th>publicNotes</th>\n      <th>source</th>\n    </tr>\n  </thead>\n  <tbody>\n    <tr>\n      <th>0</th>\n      <td>{'value': 'CE'}</td>\n      <td></td>\n      <td>Dragon</td>\n      <td>{'value': 10}</td>\n      <td></td>\n      <td>&lt;p&gt;The most feral and least intelligent of all...</td>\n      <td>{'value': 'Pathfinder Bestiary'}</td>\n    </tr>\n    <tr>\n      <th>1</th>\n      <td>{'value': 'N'}</td>\n      <td></td>\n      <td>Animal</td>\n      <td>{'value': 10}</td>\n      <td></td>\n      <td>&lt;p&gt;Brontosauruses are truly gigantic behemoths...</td>\n      <td>{'value': 'Pathfinder Bestiary'}</td>\n    </tr>\n    <tr>\n      <th>2</th>\n      <td>{'value': 'N'}</td>\n      <td></td>\n      <td>Animal</td>\n      <td>{'value': 8}</td>\n      <td></td>\n      <td>&lt;p&gt;The monstrous giant anaconda is capable of ...</td>\n      <td>{'value': 'Pathfinder Bestiary'}</td>\n    </tr>\n    <tr>\n      <th>3</th>\n      <td>{'value': 'LE'}</td>\n      <td></td>\n      <td>Dragon</td>\n      <td>{'value': 17}</td>\n      <td></td>\n      <td>&lt;p&gt;Green dragons are the most contemplative of...</td>\n      <td>{'value': 'Pathfinder Bestiary'}</td>\n    </tr>\n    <tr>\n      <th>4</th>\n      <td>{'value': 'LG'}</td>\n      <td></td>\n      <td>Celestial</td>\n      <td>{'value': 1}</td>\n      <td></td>\n      <td>&lt;p&gt;Friendly, curious, and eternally optimistic...</td>\n      <td>{'value': 'Pathfinder Bestiary'}</td>\n    </tr>\n  </tbody>\n</table>\n</div>"
     },
     "execution_count": 6,
     "metadata": {},
     "output_type": "execute_result"
    }
   ],
   "source": [
    "details.head()"
   ],
   "metadata": {
    "collapsed": false
   }
  },
  {
   "cell_type": "markdown",
   "source": [
    "Jak widać wyżej mamy sporo fałszywych wartości non-null -> zmieniamy je na np.nan (null)"
   ],
   "metadata": {
    "collapsed": false
   }
  },
  {
   "cell_type": "code",
   "execution_count": 20,
   "outputs": [],
   "source": [
    "import numpy as np\n",
    "\n",
    "\n",
    "details = details.replace(\"\", np.nan)"
   ],
   "metadata": {
    "collapsed": false
   }
  },
  {
   "cell_type": "code",
   "execution_count": 8,
   "outputs": [
    {
     "name": "stdout",
     "output_type": "stream",
     "text": [
      "<class 'pandas.core.frame.DataFrame'>\n",
      "Int64Index: 1206 entries, 0 to 364\n",
      "Data columns (total 7 columns):\n",
      " #   Column        Non-Null Count  Dtype  \n",
      "---  ------        --------------  -----  \n",
      " 0   alignment     1206 non-null   object \n",
      " 1   blurb         0 non-null      float64\n",
      " 2   creatureType  825 non-null    object \n",
      " 3   level         1206 non-null   object \n",
      " 4   privateNotes  0 non-null      float64\n",
      " 5   publicNotes   1206 non-null   object \n",
      " 6   source        1206 non-null   object \n",
      "dtypes: float64(2), object(5)\n",
      "memory usage: 75.4+ KB\n"
     ]
    }
   ],
   "source": [
    "details.info()"
   ],
   "metadata": {
    "collapsed": false
   }
  },
  {
   "cell_type": "markdown",
   "source": [
    "* **alignment** - do sprawdzenia\n",
    "* blurb - i tak nic nie ma\n",
    "* **creatureType** - do sprawdzenia\n",
    "* **level** - \"do sprawdzenia\"\n",
    "* privateNotes - i tak nic nie ma\n",
    "* **publicNotes** - do sprawdzenia\n",
    "* **source** - do sprawdzenia"
   ],
   "metadata": {
    "collapsed": false
   }
  },
  {
   "cell_type": "markdown",
   "source": [
    "### Details: Alignment"
   ],
   "metadata": {
    "collapsed": false
   }
  },
  {
   "cell_type": "code",
   "execution_count": 9,
   "outputs": [],
   "source": [
    "alignment = unpack_column(details, \"alignment\")"
   ],
   "metadata": {
    "collapsed": false
   }
  },
  {
   "cell_type": "code",
   "execution_count": 10,
   "outputs": [
    {
     "data": {
      "text/plain": "Index(['value'], dtype='object')"
     },
     "execution_count": 10,
     "metadata": {},
     "output_type": "execute_result"
    }
   ],
   "source": [
    "alignment.columns"
   ],
   "metadata": {
    "collapsed": false
   }
  },
  {
   "cell_type": "code",
   "execution_count": 11,
   "outputs": [
    {
     "data": {
      "text/plain": "  value\n0    CE\n1     N\n2     N\n3    LE\n4    LG",
      "text/html": "<div>\n<style scoped>\n    .dataframe tbody tr th:only-of-type {\n        vertical-align: middle;\n    }\n\n    .dataframe tbody tr th {\n        vertical-align: top;\n    }\n\n    .dataframe thead th {\n        text-align: right;\n    }\n</style>\n<table border=\"1\" class=\"dataframe\">\n  <thead>\n    <tr style=\"text-align: right;\">\n      <th></th>\n      <th>value</th>\n    </tr>\n  </thead>\n  <tbody>\n    <tr>\n      <th>0</th>\n      <td>CE</td>\n    </tr>\n    <tr>\n      <th>1</th>\n      <td>N</td>\n    </tr>\n    <tr>\n      <th>2</th>\n      <td>N</td>\n    </tr>\n    <tr>\n      <th>3</th>\n      <td>LE</td>\n    </tr>\n    <tr>\n      <th>4</th>\n      <td>LG</td>\n    </tr>\n  </tbody>\n</table>\n</div>"
     },
     "execution_count": 11,
     "metadata": {},
     "output_type": "execute_result"
    }
   ],
   "source": [
    "alignment.head()"
   ],
   "metadata": {
    "collapsed": false
   }
  },
  {
   "cell_type": "code",
   "execution_count": 12,
   "outputs": [
    {
     "name": "stdout",
     "output_type": "stream",
     "text": [
      "<class 'pandas.core.frame.DataFrame'>\n",
      "Int64Index: 1206 entries, 0 to 364\n",
      "Data columns (total 1 columns):\n",
      " #   Column  Non-Null Count  Dtype \n",
      "---  ------  --------------  ----- \n",
      " 0   value   1206 non-null   object\n",
      "dtypes: object(1)\n",
      "memory usage: 18.8+ KB\n"
     ]
    }
   ],
   "source": [
    "alignment.info()"
   ],
   "metadata": {
    "collapsed": false
   }
  },
  {
   "cell_type": "markdown",
   "source": [
    "Same values -> można zrobić to co z mod"
   ],
   "metadata": {
    "collapsed": false
   }
  },
  {
   "cell_type": "code",
   "execution_count": 13,
   "outputs": [
    {
     "data": {
      "text/plain": "array(['CE', 'N', 'LE', 'LG', 'CG', 'NE', 'CN', 'NG', 'LN'], dtype=object)"
     },
     "execution_count": 13,
     "metadata": {},
     "output_type": "execute_result"
    }
   ],
   "source": [
    "alignment.value.unique()"
   ],
   "metadata": {
    "collapsed": false
   }
  },
  {
   "cell_type": "markdown",
   "source": [
    "Mamy 9 unikatowych wartości\n",
    " * czy są one istotne????\n",
    " * czy przydadzą się do if -ów???"
   ],
   "metadata": {
    "collapsed": false
   }
  },
  {
   "cell_type": "markdown",
   "source": [
    "### Details: CreatureType"
   ],
   "metadata": {
    "collapsed": false
   }
  },
  {
   "cell_type": "code",
   "execution_count": 14,
   "outputs": [],
   "source": [
    "types = unpack_column(details, \"creatureType\")"
   ],
   "metadata": {
    "collapsed": false
   }
  },
  {
   "cell_type": "code",
   "execution_count": 15,
   "outputs": [
    {
     "data": {
      "text/plain": "           0\n0     Dragon\n1     Animal\n2     Animal\n3     Dragon\n4  Celestial",
      "text/html": "<div>\n<style scoped>\n    .dataframe tbody tr th:only-of-type {\n        vertical-align: middle;\n    }\n\n    .dataframe tbody tr th {\n        vertical-align: top;\n    }\n\n    .dataframe thead th {\n        text-align: right;\n    }\n</style>\n<table border=\"1\" class=\"dataframe\">\n  <thead>\n    <tr style=\"text-align: right;\">\n      <th></th>\n      <th>0</th>\n    </tr>\n  </thead>\n  <tbody>\n    <tr>\n      <th>0</th>\n      <td>Dragon</td>\n    </tr>\n    <tr>\n      <th>1</th>\n      <td>Animal</td>\n    </tr>\n    <tr>\n      <th>2</th>\n      <td>Animal</td>\n    </tr>\n    <tr>\n      <th>3</th>\n      <td>Dragon</td>\n    </tr>\n    <tr>\n      <th>4</th>\n      <td>Celestial</td>\n    </tr>\n  </tbody>\n</table>\n</div>"
     },
     "execution_count": 15,
     "metadata": {},
     "output_type": "execute_result"
    }
   ],
   "source": [
    "types.head()"
   ],
   "metadata": {
    "collapsed": false
   }
  },
  {
   "cell_type": "code",
   "execution_count": 16,
   "outputs": [
    {
     "name": "stdout",
     "output_type": "stream",
     "text": [
      "<class 'pandas.core.frame.DataFrame'>\n",
      "Int64Index: 1206 entries, 0 to 364\n",
      "Data columns (total 1 columns):\n",
      " #   Column  Non-Null Count  Dtype \n",
      "---  ------  --------------  ----- \n",
      " 0   0       825 non-null    object\n",
      "dtypes: object(1)\n",
      "memory usage: 18.8+ KB\n"
     ]
    }
   ],
   "source": [
    "types.info()"
   ],
   "metadata": {
    "collapsed": false
   }
  },
  {
   "cell_type": "markdown",
   "source": [
    "Z jakiegoś powodu nie każdy potworek ma typ:\n",
    " * czy to problem?\n",
    " * czy może być więcej?"
   ],
   "metadata": {
    "collapsed": false
   }
  },
  {
   "cell_type": "code",
   "execution_count": 17,
   "outputs": [
    {
     "data": {
      "text/plain": "array(['Dragon', 'Animal', 'Celestial', 'Aberration', 'Undead',\n       'Humanoid', 'Construct', 'Spirit', 'Elemental', 'Fey', 'Beast',\n       'Fiend', 'Plant', 'Giant', nan, 'Monitor', 'Ooze', 'Fungus',\n       'Astral', 'Animal, Undead', 'Dragon, Elemental', 'Beast, Dragon',\n       'Giant, Humanoid', 'Petitioner', 'Beast, Fiend', 'Fungus, Ooze',\n       'Spirit, Undead', 'Fiend, Giant, Humanoid', 'Dragon, Plant',\n       'Fey, Plant', 'Aberration, Time', 'Aberration, Negative',\n       'Beast, Fey', 'Beast, Humanoid', 'Humanoid, Positive', 'Dream',\n       'Dragon, Undead', 'Aberration, Ethereal', 'Aberration, Dream',\n       'Fungus, Plant'], dtype=object)"
     },
     "execution_count": 17,
     "metadata": {},
     "output_type": "execute_result"
    }
   ],
   "source": [
    "types[0].unique()"
   ],
   "metadata": {
    "collapsed": false
   }
  },
  {
   "cell_type": "markdown",
   "source": [
    "Mamy 9 typów (+ pusty) - **może się przydać później do tych podpowiedzi if-owych**"
   ],
   "metadata": {
    "collapsed": false
   }
  },
  {
   "cell_type": "markdown",
   "source": [
    "### Datails: Level"
   ],
   "metadata": {
    "collapsed": false
   }
  },
  {
   "cell_type": "code",
   "execution_count": 18,
   "outputs": [],
   "source": [
    "level = unpack_column(details, \"level\")"
   ],
   "metadata": {
    "collapsed": false
   }
  },
  {
   "cell_type": "code",
   "execution_count": 19,
   "outputs": [
    {
     "data": {
      "text/plain": "   value\n0     10\n1     10\n2      8\n3     17\n4      1",
      "text/html": "<div>\n<style scoped>\n    .dataframe tbody tr th:only-of-type {\n        vertical-align: middle;\n    }\n\n    .dataframe tbody tr th {\n        vertical-align: top;\n    }\n\n    .dataframe thead th {\n        text-align: right;\n    }\n</style>\n<table border=\"1\" class=\"dataframe\">\n  <thead>\n    <tr style=\"text-align: right;\">\n      <th></th>\n      <th>value</th>\n    </tr>\n  </thead>\n  <tbody>\n    <tr>\n      <th>0</th>\n      <td>10</td>\n    </tr>\n    <tr>\n      <th>1</th>\n      <td>10</td>\n    </tr>\n    <tr>\n      <th>2</th>\n      <td>8</td>\n    </tr>\n    <tr>\n      <th>3</th>\n      <td>17</td>\n    </tr>\n    <tr>\n      <th>4</th>\n      <td>1</td>\n    </tr>\n  </tbody>\n</table>\n</div>"
     },
     "execution_count": 19,
     "metadata": {},
     "output_type": "execute_result"
    }
   ],
   "source": [
    "level.head()"
   ],
   "metadata": {
    "collapsed": false
   }
  },
  {
   "cell_type": "code",
   "execution_count": 20,
   "outputs": [
    {
     "name": "stdout",
     "output_type": "stream",
     "text": [
      "<class 'pandas.core.frame.DataFrame'>\n",
      "Int64Index: 1206 entries, 0 to 364\n",
      "Data columns (total 1 columns):\n",
      " #   Column  Non-Null Count  Dtype\n",
      "---  ------  --------------  -----\n",
      " 0   value   1206 non-null   int64\n",
      "dtypes: int64(1)\n",
      "memory usage: 18.8 KB\n"
     ]
    }
   ],
   "source": [
    "level.info()"
   ],
   "metadata": {
    "collapsed": false
   }
  },
  {
   "cell_type": "markdown",
   "source": [
    "# **Najważniejsza wartość! - to co** przwidujemy\n",
    "analogicznie jak abilities - mod"
   ],
   "metadata": {
    "collapsed": false
   }
  },
  {
   "cell_type": "markdown",
   "source": [
    "### Details: PublicNotes"
   ],
   "metadata": {
    "collapsed": false
   }
  },
  {
   "cell_type": "code",
   "execution_count": 21,
   "outputs": [],
   "source": [
    "notes = unpack_column(details, \"publicNotes\")"
   ],
   "metadata": {
    "collapsed": false
   }
  },
  {
   "cell_type": "code",
   "execution_count": 22,
   "outputs": [
    {
     "data": {
      "text/plain": "                                                   0\n0  <p>The most feral and least intelligent of all...\n1  <p>Brontosauruses are truly gigantic behemoths...\n2  <p>The monstrous giant anaconda is capable of ...\n3  <p>Green dragons are the most contemplative of...\n4  <p>Friendly, curious, and eternally optimistic...",
      "text/html": "<div>\n<style scoped>\n    .dataframe tbody tr th:only-of-type {\n        vertical-align: middle;\n    }\n\n    .dataframe tbody tr th {\n        vertical-align: top;\n    }\n\n    .dataframe thead th {\n        text-align: right;\n    }\n</style>\n<table border=\"1\" class=\"dataframe\">\n  <thead>\n    <tr style=\"text-align: right;\">\n      <th></th>\n      <th>0</th>\n    </tr>\n  </thead>\n  <tbody>\n    <tr>\n      <th>0</th>\n      <td>&lt;p&gt;The most feral and least intelligent of all...</td>\n    </tr>\n    <tr>\n      <th>1</th>\n      <td>&lt;p&gt;Brontosauruses are truly gigantic behemoths...</td>\n    </tr>\n    <tr>\n      <th>2</th>\n      <td>&lt;p&gt;The monstrous giant anaconda is capable of ...</td>\n    </tr>\n    <tr>\n      <th>3</th>\n      <td>&lt;p&gt;Green dragons are the most contemplative of...</td>\n    </tr>\n    <tr>\n      <th>4</th>\n      <td>&lt;p&gt;Friendly, curious, and eternally optimistic...</td>\n    </tr>\n  </tbody>\n</table>\n</div>"
     },
     "execution_count": 22,
     "metadata": {},
     "output_type": "execute_result"
    }
   ],
   "source": [
    "notes.head()"
   ],
   "metadata": {
    "collapsed": false
   }
  },
  {
   "cell_type": "code",
   "execution_count": 23,
   "outputs": [
    {
     "name": "stdout",
     "output_type": "stream",
     "text": [
      "<class 'pandas.core.frame.DataFrame'>\n",
      "Int64Index: 1206 entries, 0 to 364\n",
      "Data columns (total 1 columns):\n",
      " #   Column  Non-Null Count  Dtype \n",
      "---  ------  --------------  ----- \n",
      " 0   0       1206 non-null   object\n",
      "dtypes: object(1)\n",
      "memory usage: 18.8+ KB\n"
     ]
    }
   ],
   "source": [
    "notes.info()"
   ],
   "metadata": {
    "collapsed": false
   }
  },
  {
   "cell_type": "markdown",
   "source": [
    "Zwykłe opisy do modelu raczej nie są potrzebne"
   ],
   "metadata": {
    "collapsed": false
   }
  },
  {
   "cell_type": "markdown",
   "source": [
    "### Details: Source"
   ],
   "metadata": {
    "collapsed": false
   }
  },
  {
   "cell_type": "code",
   "execution_count": 24,
   "outputs": [],
   "source": [
    "source = unpack_column(details, \"source\")"
   ],
   "metadata": {
    "collapsed": false
   }
  },
  {
   "cell_type": "code",
   "execution_count": 25,
   "outputs": [
    {
     "data": {
      "text/plain": "                 value\n0  Pathfinder Bestiary\n1  Pathfinder Bestiary\n2  Pathfinder Bestiary\n3  Pathfinder Bestiary\n4  Pathfinder Bestiary",
      "text/html": "<div>\n<style scoped>\n    .dataframe tbody tr th:only-of-type {\n        vertical-align: middle;\n    }\n\n    .dataframe tbody tr th {\n        vertical-align: top;\n    }\n\n    .dataframe thead th {\n        text-align: right;\n    }\n</style>\n<table border=\"1\" class=\"dataframe\">\n  <thead>\n    <tr style=\"text-align: right;\">\n      <th></th>\n      <th>value</th>\n    </tr>\n  </thead>\n  <tbody>\n    <tr>\n      <th>0</th>\n      <td>Pathfinder Bestiary</td>\n    </tr>\n    <tr>\n      <th>1</th>\n      <td>Pathfinder Bestiary</td>\n    </tr>\n    <tr>\n      <th>2</th>\n      <td>Pathfinder Bestiary</td>\n    </tr>\n    <tr>\n      <th>3</th>\n      <td>Pathfinder Bestiary</td>\n    </tr>\n    <tr>\n      <th>4</th>\n      <td>Pathfinder Bestiary</td>\n    </tr>\n  </tbody>\n</table>\n</div>"
     },
     "execution_count": 25,
     "metadata": {},
     "output_type": "execute_result"
    }
   ],
   "source": [
    "source.head()"
   ],
   "metadata": {
    "collapsed": false
   }
  },
  {
   "cell_type": "code",
   "execution_count": 26,
   "outputs": [
    {
     "name": "stdout",
     "output_type": "stream",
     "text": [
      "<class 'pandas.core.frame.DataFrame'>\n",
      "Int64Index: 1206 entries, 0 to 364\n",
      "Data columns (total 1 columns):\n",
      " #   Column  Non-Null Count  Dtype \n",
      "---  ------  --------------  ----- \n",
      " 0   value   1206 non-null   object\n",
      "dtypes: object(1)\n",
      "memory usage: 18.8+ KB\n"
     ]
    }
   ],
   "source": [
    "source.info()"
   ],
   "metadata": {
    "collapsed": false
   }
  },
  {
   "cell_type": "code",
   "execution_count": 27,
   "outputs": [
    {
     "data": {
      "text/plain": "array(['Pathfinder Bestiary', 'Pathfinder Core Rulebook',\n       'Pathfinder Bestiary 2', 'Pathfinder Bestiary 3'], dtype=object)"
     },
     "execution_count": 27,
     "metadata": {},
     "output_type": "execute_result"
    }
   ],
   "source": [
    "source.value.unique()"
   ],
   "metadata": {
    "collapsed": false
   }
  },
  {
   "cell_type": "markdown",
   "source": [
    "Skąd pochodzą potworki"
   ],
   "metadata": {
    "collapsed": false
   }
  },
  {
   "cell_type": "markdown",
   "source": [
    "### Details: podsumowanie\n",
    "* **alignment**\n",
    "    * do rozpakowania (abilities:mod case)\n",
    "    * każdy potworek ma\n",
    "    * czy są istotne?\n",
    "    * może się przydać do if-ów\n",
    "    * czy są istotne?\n",
    "* blurb\n",
    "    * puste\n",
    "* **creatureType**\n",
    "    * nie każdy potworek ma\n",
    "    * może się przydać do if-ów\n",
    "* **level**\n",
    "    * do rozpakowania (abilities:mod case)\n",
    "    * każdy potworek ma\n",
    "    * CR\n",
    "* privateNotes\n",
    "    * puste\n",
    "* **publicNotes**\n",
    "    * każdy potworek ma\n",
    "    * opis potworków\n",
    "    * zbędne\n",
    "* **source**\n",
    "    * każdy potworek ma\n",
    "    * książka z której jest potworek\n",
    "    * raczej zbędne"
   ],
   "metadata": {
    "collapsed": false
   }
  },
  {
   "cell_type": "markdown",
   "source": [
    "## Resources"
   ],
   "metadata": {
    "collapsed": false
   }
  },
  {
   "cell_type": "code",
   "execution_count": 5,
   "outputs": [
    {
     "name": "stderr",
     "output_type": "stream",
     "text": [
      "C:\\Users\\jolka\\OneDrive\\Dokumenty\\Inzynierka\\ML-for-TTRPG-game-design\\analysis_functions.py:38: FutureWarning: The default dtype for empty Series will be 'object' instead of 'float64' in a future version. Specify a dtype explicitly to silence this warning.\n",
      "  new_df = df[column_name].apply(pd.Series)\n",
      "C:\\Users\\jolka\\OneDrive\\Dokumenty\\Inzynierka\\ML-for-TTRPG-game-design\\analysis_functions.py:38: FutureWarning: The default dtype for empty Series will be 'object' instead of 'float64' in a future version. Specify a dtype explicitly to silence this warning.\n",
      "  new_df = df[column_name].apply(pd.Series)\n",
      "C:\\Users\\jolka\\OneDrive\\Dokumenty\\Inzynierka\\ML-for-TTRPG-game-design\\analysis_functions.py:38: FutureWarning: The default dtype for empty Series will be 'object' instead of 'float64' in a future version. Specify a dtype explicitly to silence this warning.\n",
      "  new_df = df[column_name].apply(pd.Series)\n",
      "C:\\Users\\jolka\\OneDrive\\Dokumenty\\Inzynierka\\ML-for-TTRPG-game-design\\analysis_functions.py:38: FutureWarning: The default dtype for empty Series will be 'object' instead of 'float64' in a future version. Specify a dtype explicitly to silence this warning.\n",
      "  new_df = df[column_name].apply(pd.Series)\n",
      "C:\\Users\\jolka\\OneDrive\\Dokumenty\\Inzynierka\\ML-for-TTRPG-game-design\\analysis_functions.py:38: FutureWarning: The default dtype for empty Series will be 'object' instead of 'float64' in a future version. Specify a dtype explicitly to silence this warning.\n",
      "  new_df = df[column_name].apply(pd.Series)\n",
      "C:\\Users\\jolka\\OneDrive\\Dokumenty\\Inzynierka\\ML-for-TTRPG-game-design\\analysis_functions.py:38: FutureWarning: The default dtype for empty Series will be 'object' instead of 'float64' in a future version. Specify a dtype explicitly to silence this warning.\n",
      "  new_df = df[column_name].apply(pd.Series)\n",
      "C:\\Users\\jolka\\OneDrive\\Dokumenty\\Inzynierka\\ML-for-TTRPG-game-design\\analysis_functions.py:38: FutureWarning: The default dtype for empty Series will be 'object' instead of 'float64' in a future version. Specify a dtype explicitly to silence this warning.\n",
      "  new_df = df[column_name].apply(pd.Series)\n",
      "C:\\Users\\jolka\\OneDrive\\Dokumenty\\Inzynierka\\ML-for-TTRPG-game-design\\analysis_functions.py:38: FutureWarning: The default dtype for empty Series will be 'object' instead of 'float64' in a future version. Specify a dtype explicitly to silence this warning.\n",
      "  new_df = df[column_name].apply(pd.Series)\n",
      "C:\\Users\\jolka\\OneDrive\\Dokumenty\\Inzynierka\\ML-for-TTRPG-game-design\\analysis_functions.py:38: FutureWarning: The default dtype for empty Series will be 'object' instead of 'float64' in a future version. Specify a dtype explicitly to silence this warning.\n",
      "  new_df = df[column_name].apply(pd.Series)\n",
      "C:\\Users\\jolka\\OneDrive\\Dokumenty\\Inzynierka\\ML-for-TTRPG-game-design\\analysis_functions.py:38: FutureWarning: The default dtype for empty Series will be 'object' instead of 'float64' in a future version. Specify a dtype explicitly to silence this warning.\n",
      "  new_df = df[column_name].apply(pd.Series)\n",
      "C:\\Users\\jolka\\OneDrive\\Dokumenty\\Inzynierka\\ML-for-TTRPG-game-design\\analysis_functions.py:38: FutureWarning: The default dtype for empty Series will be 'object' instead of 'float64' in a future version. Specify a dtype explicitly to silence this warning.\n",
      "  new_df = df[column_name].apply(pd.Series)\n",
      "C:\\Users\\jolka\\OneDrive\\Dokumenty\\Inzynierka\\ML-for-TTRPG-game-design\\analysis_functions.py:38: FutureWarning: The default dtype for empty Series will be 'object' instead of 'float64' in a future version. Specify a dtype explicitly to silence this warning.\n",
      "  new_df = df[column_name].apply(pd.Series)\n",
      "C:\\Users\\jolka\\OneDrive\\Dokumenty\\Inzynierka\\ML-for-TTRPG-game-design\\analysis_functions.py:38: FutureWarning: The default dtype for empty Series will be 'object' instead of 'float64' in a future version. Specify a dtype explicitly to silence this warning.\n",
      "  new_df = df[column_name].apply(pd.Series)\n",
      "C:\\Users\\jolka\\OneDrive\\Dokumenty\\Inzynierka\\ML-for-TTRPG-game-design\\analysis_functions.py:38: FutureWarning: The default dtype for empty Series will be 'object' instead of 'float64' in a future version. Specify a dtype explicitly to silence this warning.\n",
      "  new_df = df[column_name].apply(pd.Series)\n",
      "C:\\Users\\jolka\\OneDrive\\Dokumenty\\Inzynierka\\ML-for-TTRPG-game-design\\analysis_functions.py:38: FutureWarning: The default dtype for empty Series will be 'object' instead of 'float64' in a future version. Specify a dtype explicitly to silence this warning.\n",
      "  new_df = df[column_name].apply(pd.Series)\n",
      "C:\\Users\\jolka\\OneDrive\\Dokumenty\\Inzynierka\\ML-for-TTRPG-game-design\\analysis_functions.py:38: FutureWarning: The default dtype for empty Series will be 'object' instead of 'float64' in a future version. Specify a dtype explicitly to silence this warning.\n",
      "  new_df = df[column_name].apply(pd.Series)\n",
      "C:\\Users\\jolka\\OneDrive\\Dokumenty\\Inzynierka\\ML-for-TTRPG-game-design\\analysis_functions.py:38: FutureWarning: The default dtype for empty Series will be 'object' instead of 'float64' in a future version. Specify a dtype explicitly to silence this warning.\n",
      "  new_df = df[column_name].apply(pd.Series)\n",
      "C:\\Users\\jolka\\OneDrive\\Dokumenty\\Inzynierka\\ML-for-TTRPG-game-design\\analysis_functions.py:38: FutureWarning: The default dtype for empty Series will be 'object' instead of 'float64' in a future version. Specify a dtype explicitly to silence this warning.\n",
      "  new_df = df[column_name].apply(pd.Series)\n",
      "C:\\Users\\jolka\\OneDrive\\Dokumenty\\Inzynierka\\ML-for-TTRPG-game-design\\analysis_functions.py:38: FutureWarning: The default dtype for empty Series will be 'object' instead of 'float64' in a future version. Specify a dtype explicitly to silence this warning.\n",
      "  new_df = df[column_name].apply(pd.Series)\n",
      "C:\\Users\\jolka\\OneDrive\\Dokumenty\\Inzynierka\\ML-for-TTRPG-game-design\\analysis_functions.py:38: FutureWarning: The default dtype for empty Series will be 'object' instead of 'float64' in a future version. Specify a dtype explicitly to silence this warning.\n",
      "  new_df = df[column_name].apply(pd.Series)\n",
      "C:\\Users\\jolka\\OneDrive\\Dokumenty\\Inzynierka\\ML-for-TTRPG-game-design\\analysis_functions.py:38: FutureWarning: The default dtype for empty Series will be 'object' instead of 'float64' in a future version. Specify a dtype explicitly to silence this warning.\n",
      "  new_df = df[column_name].apply(pd.Series)\n",
      "C:\\Users\\jolka\\OneDrive\\Dokumenty\\Inzynierka\\ML-for-TTRPG-game-design\\analysis_functions.py:38: FutureWarning: The default dtype for empty Series will be 'object' instead of 'float64' in a future version. Specify a dtype explicitly to silence this warning.\n",
      "  new_df = df[column_name].apply(pd.Series)\n",
      "C:\\Users\\jolka\\OneDrive\\Dokumenty\\Inzynierka\\ML-for-TTRPG-game-design\\analysis_functions.py:38: FutureWarning: The default dtype for empty Series will be 'object' instead of 'float64' in a future version. Specify a dtype explicitly to silence this warning.\n",
      "  new_df = df[column_name].apply(pd.Series)\n",
      "C:\\Users\\jolka\\OneDrive\\Dokumenty\\Inzynierka\\ML-for-TTRPG-game-design\\analysis_functions.py:38: FutureWarning: The default dtype for empty Series will be 'object' instead of 'float64' in a future version. Specify a dtype explicitly to silence this warning.\n",
      "  new_df = df[column_name].apply(pd.Series)\n",
      "C:\\Users\\jolka\\OneDrive\\Dokumenty\\Inzynierka\\ML-for-TTRPG-game-design\\analysis_functions.py:38: FutureWarning: The default dtype for empty Series will be 'object' instead of 'float64' in a future version. Specify a dtype explicitly to silence this warning.\n",
      "  new_df = df[column_name].apply(pd.Series)\n",
      "C:\\Users\\jolka\\OneDrive\\Dokumenty\\Inzynierka\\ML-for-TTRPG-game-design\\analysis_functions.py:38: FutureWarning: The default dtype for empty Series will be 'object' instead of 'float64' in a future version. Specify a dtype explicitly to silence this warning.\n",
      "  new_df = df[column_name].apply(pd.Series)\n",
      "C:\\Users\\jolka\\OneDrive\\Dokumenty\\Inzynierka\\ML-for-TTRPG-game-design\\analysis_functions.py:38: FutureWarning: The default dtype for empty Series will be 'object' instead of 'float64' in a future version. Specify a dtype explicitly to silence this warning.\n",
      "  new_df = df[column_name].apply(pd.Series)\n",
      "C:\\Users\\jolka\\OneDrive\\Dokumenty\\Inzynierka\\ML-for-TTRPG-game-design\\analysis_functions.py:38: FutureWarning: The default dtype for empty Series will be 'object' instead of 'float64' in a future version. Specify a dtype explicitly to silence this warning.\n",
      "  new_df = df[column_name].apply(pd.Series)\n",
      "C:\\Users\\jolka\\OneDrive\\Dokumenty\\Inzynierka\\ML-for-TTRPG-game-design\\analysis_functions.py:38: FutureWarning: The default dtype for empty Series will be 'object' instead of 'float64' in a future version. Specify a dtype explicitly to silence this warning.\n",
      "  new_df = df[column_name].apply(pd.Series)\n",
      "C:\\Users\\jolka\\OneDrive\\Dokumenty\\Inzynierka\\ML-for-TTRPG-game-design\\analysis_functions.py:38: FutureWarning: The default dtype for empty Series will be 'object' instead of 'float64' in a future version. Specify a dtype explicitly to silence this warning.\n",
      "  new_df = df[column_name].apply(pd.Series)\n",
      "C:\\Users\\jolka\\OneDrive\\Dokumenty\\Inzynierka\\ML-for-TTRPG-game-design\\analysis_functions.py:38: FutureWarning: The default dtype for empty Series will be 'object' instead of 'float64' in a future version. Specify a dtype explicitly to silence this warning.\n",
      "  new_df = df[column_name].apply(pd.Series)\n",
      "C:\\Users\\jolka\\OneDrive\\Dokumenty\\Inzynierka\\ML-for-TTRPG-game-design\\analysis_functions.py:38: FutureWarning: The default dtype for empty Series will be 'object' instead of 'float64' in a future version. Specify a dtype explicitly to silence this warning.\n",
      "  new_df = df[column_name].apply(pd.Series)\n",
      "C:\\Users\\jolka\\OneDrive\\Dokumenty\\Inzynierka\\ML-for-TTRPG-game-design\\analysis_functions.py:38: FutureWarning: The default dtype for empty Series will be 'object' instead of 'float64' in a future version. Specify a dtype explicitly to silence this warning.\n",
      "  new_df = df[column_name].apply(pd.Series)\n",
      "C:\\Users\\jolka\\OneDrive\\Dokumenty\\Inzynierka\\ML-for-TTRPG-game-design\\analysis_functions.py:38: FutureWarning: The default dtype for empty Series will be 'object' instead of 'float64' in a future version. Specify a dtype explicitly to silence this warning.\n",
      "  new_df = df[column_name].apply(pd.Series)\n",
      "C:\\Users\\jolka\\OneDrive\\Dokumenty\\Inzynierka\\ML-for-TTRPG-game-design\\analysis_functions.py:38: FutureWarning: The default dtype for empty Series will be 'object' instead of 'float64' in a future version. Specify a dtype explicitly to silence this warning.\n",
      "  new_df = df[column_name].apply(pd.Series)\n",
      "C:\\Users\\jolka\\OneDrive\\Dokumenty\\Inzynierka\\ML-for-TTRPG-game-design\\analysis_functions.py:38: FutureWarning: The default dtype for empty Series will be 'object' instead of 'float64' in a future version. Specify a dtype explicitly to silence this warning.\n",
      "  new_df = df[column_name].apply(pd.Series)\n",
      "C:\\Users\\jolka\\OneDrive\\Dokumenty\\Inzynierka\\ML-for-TTRPG-game-design\\analysis_functions.py:38: FutureWarning: The default dtype for empty Series will be 'object' instead of 'float64' in a future version. Specify a dtype explicitly to silence this warning.\n",
      "  new_df = df[column_name].apply(pd.Series)\n",
      "C:\\Users\\jolka\\OneDrive\\Dokumenty\\Inzynierka\\ML-for-TTRPG-game-design\\analysis_functions.py:38: FutureWarning: The default dtype for empty Series will be 'object' instead of 'float64' in a future version. Specify a dtype explicitly to silence this warning.\n",
      "  new_df = df[column_name].apply(pd.Series)\n",
      "C:\\Users\\jolka\\OneDrive\\Dokumenty\\Inzynierka\\ML-for-TTRPG-game-design\\analysis_functions.py:38: FutureWarning: The default dtype for empty Series will be 'object' instead of 'float64' in a future version. Specify a dtype explicitly to silence this warning.\n",
      "  new_df = df[column_name].apply(pd.Series)\n",
      "C:\\Users\\jolka\\OneDrive\\Dokumenty\\Inzynierka\\ML-for-TTRPG-game-design\\analysis_functions.py:38: FutureWarning: The default dtype for empty Series will be 'object' instead of 'float64' in a future version. Specify a dtype explicitly to silence this warning.\n",
      "  new_df = df[column_name].apply(pd.Series)\n",
      "C:\\Users\\jolka\\OneDrive\\Dokumenty\\Inzynierka\\ML-for-TTRPG-game-design\\analysis_functions.py:38: FutureWarning: The default dtype for empty Series will be 'object' instead of 'float64' in a future version. Specify a dtype explicitly to silence this warning.\n",
      "  new_df = df[column_name].apply(pd.Series)\n",
      "C:\\Users\\jolka\\OneDrive\\Dokumenty\\Inzynierka\\ML-for-TTRPG-game-design\\analysis_functions.py:38: FutureWarning: The default dtype for empty Series will be 'object' instead of 'float64' in a future version. Specify a dtype explicitly to silence this warning.\n",
      "  new_df = df[column_name].apply(pd.Series)\n",
      "C:\\Users\\jolka\\OneDrive\\Dokumenty\\Inzynierka\\ML-for-TTRPG-game-design\\analysis_functions.py:38: FutureWarning: The default dtype for empty Series will be 'object' instead of 'float64' in a future version. Specify a dtype explicitly to silence this warning.\n",
      "  new_df = df[column_name].apply(pd.Series)\n",
      "C:\\Users\\jolka\\OneDrive\\Dokumenty\\Inzynierka\\ML-for-TTRPG-game-design\\analysis_functions.py:38: FutureWarning: The default dtype for empty Series will be 'object' instead of 'float64' in a future version. Specify a dtype explicitly to silence this warning.\n",
      "  new_df = df[column_name].apply(pd.Series)\n",
      "C:\\Users\\jolka\\OneDrive\\Dokumenty\\Inzynierka\\ML-for-TTRPG-game-design\\analysis_functions.py:38: FutureWarning: The default dtype for empty Series will be 'object' instead of 'float64' in a future version. Specify a dtype explicitly to silence this warning.\n",
      "  new_df = df[column_name].apply(pd.Series)\n",
      "C:\\Users\\jolka\\OneDrive\\Dokumenty\\Inzynierka\\ML-for-TTRPG-game-design\\analysis_functions.py:38: FutureWarning: The default dtype for empty Series will be 'object' instead of 'float64' in a future version. Specify a dtype explicitly to silence this warning.\n",
      "  new_df = df[column_name].apply(pd.Series)\n",
      "C:\\Users\\jolka\\OneDrive\\Dokumenty\\Inzynierka\\ML-for-TTRPG-game-design\\analysis_functions.py:38: FutureWarning: The default dtype for empty Series will be 'object' instead of 'float64' in a future version. Specify a dtype explicitly to silence this warning.\n",
      "  new_df = df[column_name].apply(pd.Series)\n",
      "C:\\Users\\jolka\\OneDrive\\Dokumenty\\Inzynierka\\ML-for-TTRPG-game-design\\analysis_functions.py:38: FutureWarning: The default dtype for empty Series will be 'object' instead of 'float64' in a future version. Specify a dtype explicitly to silence this warning.\n",
      "  new_df = df[column_name].apply(pd.Series)\n",
      "C:\\Users\\jolka\\OneDrive\\Dokumenty\\Inzynierka\\ML-for-TTRPG-game-design\\analysis_functions.py:38: FutureWarning: The default dtype for empty Series will be 'object' instead of 'float64' in a future version. Specify a dtype explicitly to silence this warning.\n",
      "  new_df = df[column_name].apply(pd.Series)\n",
      "C:\\Users\\jolka\\OneDrive\\Dokumenty\\Inzynierka\\ML-for-TTRPG-game-design\\analysis_functions.py:38: FutureWarning: The default dtype for empty Series will be 'object' instead of 'float64' in a future version. Specify a dtype explicitly to silence this warning.\n",
      "  new_df = df[column_name].apply(pd.Series)\n",
      "C:\\Users\\jolka\\OneDrive\\Dokumenty\\Inzynierka\\ML-for-TTRPG-game-design\\analysis_functions.py:38: FutureWarning: The default dtype for empty Series will be 'object' instead of 'float64' in a future version. Specify a dtype explicitly to silence this warning.\n",
      "  new_df = df[column_name].apply(pd.Series)\n",
      "C:\\Users\\jolka\\OneDrive\\Dokumenty\\Inzynierka\\ML-for-TTRPG-game-design\\analysis_functions.py:38: FutureWarning: The default dtype for empty Series will be 'object' instead of 'float64' in a future version. Specify a dtype explicitly to silence this warning.\n",
      "  new_df = df[column_name].apply(pd.Series)\n",
      "C:\\Users\\jolka\\OneDrive\\Dokumenty\\Inzynierka\\ML-for-TTRPG-game-design\\analysis_functions.py:38: FutureWarning: The default dtype for empty Series will be 'object' instead of 'float64' in a future version. Specify a dtype explicitly to silence this warning.\n",
      "  new_df = df[column_name].apply(pd.Series)\n",
      "C:\\Users\\jolka\\OneDrive\\Dokumenty\\Inzynierka\\ML-for-TTRPG-game-design\\analysis_functions.py:38: FutureWarning: The default dtype for empty Series will be 'object' instead of 'float64' in a future version. Specify a dtype explicitly to silence this warning.\n",
      "  new_df = df[column_name].apply(pd.Series)\n",
      "C:\\Users\\jolka\\OneDrive\\Dokumenty\\Inzynierka\\ML-for-TTRPG-game-design\\analysis_functions.py:38: FutureWarning: The default dtype for empty Series will be 'object' instead of 'float64' in a future version. Specify a dtype explicitly to silence this warning.\n",
      "  new_df = df[column_name].apply(pd.Series)\n",
      "C:\\Users\\jolka\\OneDrive\\Dokumenty\\Inzynierka\\ML-for-TTRPG-game-design\\analysis_functions.py:38: FutureWarning: The default dtype for empty Series will be 'object' instead of 'float64' in a future version. Specify a dtype explicitly to silence this warning.\n",
      "  new_df = df[column_name].apply(pd.Series)\n",
      "C:\\Users\\jolka\\OneDrive\\Dokumenty\\Inzynierka\\ML-for-TTRPG-game-design\\analysis_functions.py:38: FutureWarning: The default dtype for empty Series will be 'object' instead of 'float64' in a future version. Specify a dtype explicitly to silence this warning.\n",
      "  new_df = df[column_name].apply(pd.Series)\n",
      "C:\\Users\\jolka\\OneDrive\\Dokumenty\\Inzynierka\\ML-for-TTRPG-game-design\\analysis_functions.py:38: FutureWarning: The default dtype for empty Series will be 'object' instead of 'float64' in a future version. Specify a dtype explicitly to silence this warning.\n",
      "  new_df = df[column_name].apply(pd.Series)\n",
      "C:\\Users\\jolka\\OneDrive\\Dokumenty\\Inzynierka\\ML-for-TTRPG-game-design\\analysis_functions.py:38: FutureWarning: The default dtype for empty Series will be 'object' instead of 'float64' in a future version. Specify a dtype explicitly to silence this warning.\n",
      "  new_df = df[column_name].apply(pd.Series)\n",
      "C:\\Users\\jolka\\OneDrive\\Dokumenty\\Inzynierka\\ML-for-TTRPG-game-design\\analysis_functions.py:38: FutureWarning: The default dtype for empty Series will be 'object' instead of 'float64' in a future version. Specify a dtype explicitly to silence this warning.\n",
      "  new_df = df[column_name].apply(pd.Series)\n",
      "C:\\Users\\jolka\\OneDrive\\Dokumenty\\Inzynierka\\ML-for-TTRPG-game-design\\analysis_functions.py:38: FutureWarning: The default dtype for empty Series will be 'object' instead of 'float64' in a future version. Specify a dtype explicitly to silence this warning.\n",
      "  new_df = df[column_name].apply(pd.Series)\n",
      "C:\\Users\\jolka\\OneDrive\\Dokumenty\\Inzynierka\\ML-for-TTRPG-game-design\\analysis_functions.py:38: FutureWarning: The default dtype for empty Series will be 'object' instead of 'float64' in a future version. Specify a dtype explicitly to silence this warning.\n",
      "  new_df = df[column_name].apply(pd.Series)\n",
      "C:\\Users\\jolka\\OneDrive\\Dokumenty\\Inzynierka\\ML-for-TTRPG-game-design\\analysis_functions.py:38: FutureWarning: The default dtype for empty Series will be 'object' instead of 'float64' in a future version. Specify a dtype explicitly to silence this warning.\n",
      "  new_df = df[column_name].apply(pd.Series)\n",
      "C:\\Users\\jolka\\OneDrive\\Dokumenty\\Inzynierka\\ML-for-TTRPG-game-design\\analysis_functions.py:38: FutureWarning: The default dtype for empty Series will be 'object' instead of 'float64' in a future version. Specify a dtype explicitly to silence this warning.\n",
      "  new_df = df[column_name].apply(pd.Series)\n",
      "C:\\Users\\jolka\\OneDrive\\Dokumenty\\Inzynierka\\ML-for-TTRPG-game-design\\analysis_functions.py:38: FutureWarning: The default dtype for empty Series will be 'object' instead of 'float64' in a future version. Specify a dtype explicitly to silence this warning.\n",
      "  new_df = df[column_name].apply(pd.Series)\n",
      "C:\\Users\\jolka\\OneDrive\\Dokumenty\\Inzynierka\\ML-for-TTRPG-game-design\\analysis_functions.py:38: FutureWarning: The default dtype for empty Series will be 'object' instead of 'float64' in a future version. Specify a dtype explicitly to silence this warning.\n",
      "  new_df = df[column_name].apply(pd.Series)\n",
      "C:\\Users\\jolka\\OneDrive\\Dokumenty\\Inzynierka\\ML-for-TTRPG-game-design\\analysis_functions.py:38: FutureWarning: The default dtype for empty Series will be 'object' instead of 'float64' in a future version. Specify a dtype explicitly to silence this warning.\n",
      "  new_df = df[column_name].apply(pd.Series)\n",
      "C:\\Users\\jolka\\OneDrive\\Dokumenty\\Inzynierka\\ML-for-TTRPG-game-design\\analysis_functions.py:38: FutureWarning: The default dtype for empty Series will be 'object' instead of 'float64' in a future version. Specify a dtype explicitly to silence this warning.\n",
      "  new_df = df[column_name].apply(pd.Series)\n",
      "C:\\Users\\jolka\\OneDrive\\Dokumenty\\Inzynierka\\ML-for-TTRPG-game-design\\analysis_functions.py:38: FutureWarning: The default dtype for empty Series will be 'object' instead of 'float64' in a future version. Specify a dtype explicitly to silence this warning.\n",
      "  new_df = df[column_name].apply(pd.Series)\n",
      "C:\\Users\\jolka\\OneDrive\\Dokumenty\\Inzynierka\\ML-for-TTRPG-game-design\\analysis_functions.py:38: FutureWarning: The default dtype for empty Series will be 'object' instead of 'float64' in a future version. Specify a dtype explicitly to silence this warning.\n",
      "  new_df = df[column_name].apply(pd.Series)\n",
      "C:\\Users\\jolka\\OneDrive\\Dokumenty\\Inzynierka\\ML-for-TTRPG-game-design\\analysis_functions.py:38: FutureWarning: The default dtype for empty Series will be 'object' instead of 'float64' in a future version. Specify a dtype explicitly to silence this warning.\n",
      "  new_df = df[column_name].apply(pd.Series)\n",
      "C:\\Users\\jolka\\OneDrive\\Dokumenty\\Inzynierka\\ML-for-TTRPG-game-design\\analysis_functions.py:38: FutureWarning: The default dtype for empty Series will be 'object' instead of 'float64' in a future version. Specify a dtype explicitly to silence this warning.\n",
      "  new_df = df[column_name].apply(pd.Series)\n",
      "C:\\Users\\jolka\\OneDrive\\Dokumenty\\Inzynierka\\ML-for-TTRPG-game-design\\analysis_functions.py:38: FutureWarning: The default dtype for empty Series will be 'object' instead of 'float64' in a future version. Specify a dtype explicitly to silence this warning.\n",
      "  new_df = df[column_name].apply(pd.Series)\n",
      "C:\\Users\\jolka\\OneDrive\\Dokumenty\\Inzynierka\\ML-for-TTRPG-game-design\\analysis_functions.py:38: FutureWarning: The default dtype for empty Series will be 'object' instead of 'float64' in a future version. Specify a dtype explicitly to silence this warning.\n",
      "  new_df = df[column_name].apply(pd.Series)\n",
      "C:\\Users\\jolka\\OneDrive\\Dokumenty\\Inzynierka\\ML-for-TTRPG-game-design\\analysis_functions.py:38: FutureWarning: The default dtype for empty Series will be 'object' instead of 'float64' in a future version. Specify a dtype explicitly to silence this warning.\n",
      "  new_df = df[column_name].apply(pd.Series)\n",
      "C:\\Users\\jolka\\OneDrive\\Dokumenty\\Inzynierka\\ML-for-TTRPG-game-design\\analysis_functions.py:38: FutureWarning: The default dtype for empty Series will be 'object' instead of 'float64' in a future version. Specify a dtype explicitly to silence this warning.\n",
      "  new_df = df[column_name].apply(pd.Series)\n",
      "C:\\Users\\jolka\\OneDrive\\Dokumenty\\Inzynierka\\ML-for-TTRPG-game-design\\analysis_functions.py:38: FutureWarning: The default dtype for empty Series will be 'object' instead of 'float64' in a future version. Specify a dtype explicitly to silence this warning.\n",
      "  new_df = df[column_name].apply(pd.Series)\n",
      "C:\\Users\\jolka\\OneDrive\\Dokumenty\\Inzynierka\\ML-for-TTRPG-game-design\\analysis_functions.py:38: FutureWarning: The default dtype for empty Series will be 'object' instead of 'float64' in a future version. Specify a dtype explicitly to silence this warning.\n",
      "  new_df = df[column_name].apply(pd.Series)\n",
      "C:\\Users\\jolka\\OneDrive\\Dokumenty\\Inzynierka\\ML-for-TTRPG-game-design\\analysis_functions.py:38: FutureWarning: The default dtype for empty Series will be 'object' instead of 'float64' in a future version. Specify a dtype explicitly to silence this warning.\n",
      "  new_df = df[column_name].apply(pd.Series)\n",
      "C:\\Users\\jolka\\OneDrive\\Dokumenty\\Inzynierka\\ML-for-TTRPG-game-design\\analysis_functions.py:38: FutureWarning: The default dtype for empty Series will be 'object' instead of 'float64' in a future version. Specify a dtype explicitly to silence this warning.\n",
      "  new_df = df[column_name].apply(pd.Series)\n",
      "C:\\Users\\jolka\\OneDrive\\Dokumenty\\Inzynierka\\ML-for-TTRPG-game-design\\analysis_functions.py:38: FutureWarning: The default dtype for empty Series will be 'object' instead of 'float64' in a future version. Specify a dtype explicitly to silence this warning.\n",
      "  new_df = df[column_name].apply(pd.Series)\n",
      "C:\\Users\\jolka\\OneDrive\\Dokumenty\\Inzynierka\\ML-for-TTRPG-game-design\\analysis_functions.py:38: FutureWarning: The default dtype for empty Series will be 'object' instead of 'float64' in a future version. Specify a dtype explicitly to silence this warning.\n",
      "  new_df = df[column_name].apply(pd.Series)\n",
      "C:\\Users\\jolka\\OneDrive\\Dokumenty\\Inzynierka\\ML-for-TTRPG-game-design\\analysis_functions.py:38: FutureWarning: The default dtype for empty Series will be 'object' instead of 'float64' in a future version. Specify a dtype explicitly to silence this warning.\n",
      "  new_df = df[column_name].apply(pd.Series)\n",
      "C:\\Users\\jolka\\OneDrive\\Dokumenty\\Inzynierka\\ML-for-TTRPG-game-design\\analysis_functions.py:38: FutureWarning: The default dtype for empty Series will be 'object' instead of 'float64' in a future version. Specify a dtype explicitly to silence this warning.\n",
      "  new_df = df[column_name].apply(pd.Series)\n",
      "C:\\Users\\jolka\\OneDrive\\Dokumenty\\Inzynierka\\ML-for-TTRPG-game-design\\analysis_functions.py:38: FutureWarning: The default dtype for empty Series will be 'object' instead of 'float64' in a future version. Specify a dtype explicitly to silence this warning.\n",
      "  new_df = df[column_name].apply(pd.Series)\n",
      "C:\\Users\\jolka\\OneDrive\\Dokumenty\\Inzynierka\\ML-for-TTRPG-game-design\\analysis_functions.py:38: FutureWarning: The default dtype for empty Series will be 'object' instead of 'float64' in a future version. Specify a dtype explicitly to silence this warning.\n",
      "  new_df = df[column_name].apply(pd.Series)\n",
      "C:\\Users\\jolka\\OneDrive\\Dokumenty\\Inzynierka\\ML-for-TTRPG-game-design\\analysis_functions.py:38: FutureWarning: The default dtype for empty Series will be 'object' instead of 'float64' in a future version. Specify a dtype explicitly to silence this warning.\n",
      "  new_df = df[column_name].apply(pd.Series)\n",
      "C:\\Users\\jolka\\OneDrive\\Dokumenty\\Inzynierka\\ML-for-TTRPG-game-design\\analysis_functions.py:38: FutureWarning: The default dtype for empty Series will be 'object' instead of 'float64' in a future version. Specify a dtype explicitly to silence this warning.\n",
      "  new_df = df[column_name].apply(pd.Series)\n",
      "C:\\Users\\jolka\\OneDrive\\Dokumenty\\Inzynierka\\ML-for-TTRPG-game-design\\analysis_functions.py:38: FutureWarning: The default dtype for empty Series will be 'object' instead of 'float64' in a future version. Specify a dtype explicitly to silence this warning.\n",
      "  new_df = df[column_name].apply(pd.Series)\n",
      "C:\\Users\\jolka\\OneDrive\\Dokumenty\\Inzynierka\\ML-for-TTRPG-game-design\\analysis_functions.py:38: FutureWarning: The default dtype for empty Series will be 'object' instead of 'float64' in a future version. Specify a dtype explicitly to silence this warning.\n",
      "  new_df = df[column_name].apply(pd.Series)\n",
      "C:\\Users\\jolka\\OneDrive\\Dokumenty\\Inzynierka\\ML-for-TTRPG-game-design\\analysis_functions.py:38: FutureWarning: The default dtype for empty Series will be 'object' instead of 'float64' in a future version. Specify a dtype explicitly to silence this warning.\n",
      "  new_df = df[column_name].apply(pd.Series)\n",
      "C:\\Users\\jolka\\OneDrive\\Dokumenty\\Inzynierka\\ML-for-TTRPG-game-design\\analysis_functions.py:38: FutureWarning: The default dtype for empty Series will be 'object' instead of 'float64' in a future version. Specify a dtype explicitly to silence this warning.\n",
      "  new_df = df[column_name].apply(pd.Series)\n",
      "C:\\Users\\jolka\\OneDrive\\Dokumenty\\Inzynierka\\ML-for-TTRPG-game-design\\analysis_functions.py:38: FutureWarning: The default dtype for empty Series will be 'object' instead of 'float64' in a future version. Specify a dtype explicitly to silence this warning.\n",
      "  new_df = df[column_name].apply(pd.Series)\n",
      "C:\\Users\\jolka\\OneDrive\\Dokumenty\\Inzynierka\\ML-for-TTRPG-game-design\\analysis_functions.py:38: FutureWarning: The default dtype for empty Series will be 'object' instead of 'float64' in a future version. Specify a dtype explicitly to silence this warning.\n",
      "  new_df = df[column_name].apply(pd.Series)\n",
      "C:\\Users\\jolka\\OneDrive\\Dokumenty\\Inzynierka\\ML-for-TTRPG-game-design\\analysis_functions.py:38: FutureWarning: The default dtype for empty Series will be 'object' instead of 'float64' in a future version. Specify a dtype explicitly to silence this warning.\n",
      "  new_df = df[column_name].apply(pd.Series)\n",
      "C:\\Users\\jolka\\OneDrive\\Dokumenty\\Inzynierka\\ML-for-TTRPG-game-design\\analysis_functions.py:38: FutureWarning: The default dtype for empty Series will be 'object' instead of 'float64' in a future version. Specify a dtype explicitly to silence this warning.\n",
      "  new_df = df[column_name].apply(pd.Series)\n",
      "C:\\Users\\jolka\\OneDrive\\Dokumenty\\Inzynierka\\ML-for-TTRPG-game-design\\analysis_functions.py:38: FutureWarning: The default dtype for empty Series will be 'object' instead of 'float64' in a future version. Specify a dtype explicitly to silence this warning.\n",
      "  new_df = df[column_name].apply(pd.Series)\n",
      "C:\\Users\\jolka\\OneDrive\\Dokumenty\\Inzynierka\\ML-for-TTRPG-game-design\\analysis_functions.py:38: FutureWarning: The default dtype for empty Series will be 'object' instead of 'float64' in a future version. Specify a dtype explicitly to silence this warning.\n",
      "  new_df = df[column_name].apply(pd.Series)\n",
      "C:\\Users\\jolka\\OneDrive\\Dokumenty\\Inzynierka\\ML-for-TTRPG-game-design\\analysis_functions.py:38: FutureWarning: The default dtype for empty Series will be 'object' instead of 'float64' in a future version. Specify a dtype explicitly to silence this warning.\n",
      "  new_df = df[column_name].apply(pd.Series)\n",
      "C:\\Users\\jolka\\OneDrive\\Dokumenty\\Inzynierka\\ML-for-TTRPG-game-design\\analysis_functions.py:38: FutureWarning: The default dtype for empty Series will be 'object' instead of 'float64' in a future version. Specify a dtype explicitly to silence this warning.\n",
      "  new_df = df[column_name].apply(pd.Series)\n",
      "C:\\Users\\jolka\\OneDrive\\Dokumenty\\Inzynierka\\ML-for-TTRPG-game-design\\analysis_functions.py:38: FutureWarning: The default dtype for empty Series will be 'object' instead of 'float64' in a future version. Specify a dtype explicitly to silence this warning.\n",
      "  new_df = df[column_name].apply(pd.Series)\n",
      "C:\\Users\\jolka\\OneDrive\\Dokumenty\\Inzynierka\\ML-for-TTRPG-game-design\\analysis_functions.py:38: FutureWarning: The default dtype for empty Series will be 'object' instead of 'float64' in a future version. Specify a dtype explicitly to silence this warning.\n",
      "  new_df = df[column_name].apply(pd.Series)\n",
      "C:\\Users\\jolka\\OneDrive\\Dokumenty\\Inzynierka\\ML-for-TTRPG-game-design\\analysis_functions.py:38: FutureWarning: The default dtype for empty Series will be 'object' instead of 'float64' in a future version. Specify a dtype explicitly to silence this warning.\n",
      "  new_df = df[column_name].apply(pd.Series)\n",
      "C:\\Users\\jolka\\OneDrive\\Dokumenty\\Inzynierka\\ML-for-TTRPG-game-design\\analysis_functions.py:38: FutureWarning: The default dtype for empty Series will be 'object' instead of 'float64' in a future version. Specify a dtype explicitly to silence this warning.\n",
      "  new_df = df[column_name].apply(pd.Series)\n",
      "C:\\Users\\jolka\\OneDrive\\Dokumenty\\Inzynierka\\ML-for-TTRPG-game-design\\analysis_functions.py:38: FutureWarning: The default dtype for empty Series will be 'object' instead of 'float64' in a future version. Specify a dtype explicitly to silence this warning.\n",
      "  new_df = df[column_name].apply(pd.Series)\n",
      "C:\\Users\\jolka\\OneDrive\\Dokumenty\\Inzynierka\\ML-for-TTRPG-game-design\\analysis_functions.py:38: FutureWarning: The default dtype for empty Series will be 'object' instead of 'float64' in a future version. Specify a dtype explicitly to silence this warning.\n",
      "  new_df = df[column_name].apply(pd.Series)\n",
      "C:\\Users\\jolka\\OneDrive\\Dokumenty\\Inzynierka\\ML-for-TTRPG-game-design\\analysis_functions.py:38: FutureWarning: The default dtype for empty Series will be 'object' instead of 'float64' in a future version. Specify a dtype explicitly to silence this warning.\n",
      "  new_df = df[column_name].apply(pd.Series)\n",
      "C:\\Users\\jolka\\OneDrive\\Dokumenty\\Inzynierka\\ML-for-TTRPG-game-design\\analysis_functions.py:38: FutureWarning: The default dtype for empty Series will be 'object' instead of 'float64' in a future version. Specify a dtype explicitly to silence this warning.\n",
      "  new_df = df[column_name].apply(pd.Series)\n",
      "C:\\Users\\jolka\\OneDrive\\Dokumenty\\Inzynierka\\ML-for-TTRPG-game-design\\analysis_functions.py:38: FutureWarning: The default dtype for empty Series will be 'object' instead of 'float64' in a future version. Specify a dtype explicitly to silence this warning.\n",
      "  new_df = df[column_name].apply(pd.Series)\n",
      "C:\\Users\\jolka\\OneDrive\\Dokumenty\\Inzynierka\\ML-for-TTRPG-game-design\\analysis_functions.py:38: FutureWarning: The default dtype for empty Series will be 'object' instead of 'float64' in a future version. Specify a dtype explicitly to silence this warning.\n",
      "  new_df = df[column_name].apply(pd.Series)\n",
      "C:\\Users\\jolka\\OneDrive\\Dokumenty\\Inzynierka\\ML-for-TTRPG-game-design\\analysis_functions.py:38: FutureWarning: The default dtype for empty Series will be 'object' instead of 'float64' in a future version. Specify a dtype explicitly to silence this warning.\n",
      "  new_df = df[column_name].apply(pd.Series)\n",
      "C:\\Users\\jolka\\OneDrive\\Dokumenty\\Inzynierka\\ML-for-TTRPG-game-design\\analysis_functions.py:38: FutureWarning: The default dtype for empty Series will be 'object' instead of 'float64' in a future version. Specify a dtype explicitly to silence this warning.\n",
      "  new_df = df[column_name].apply(pd.Series)\n",
      "C:\\Users\\jolka\\OneDrive\\Dokumenty\\Inzynierka\\ML-for-TTRPG-game-design\\analysis_functions.py:38: FutureWarning: The default dtype for empty Series will be 'object' instead of 'float64' in a future version. Specify a dtype explicitly to silence this warning.\n",
      "  new_df = df[column_name].apply(pd.Series)\n",
      "C:\\Users\\jolka\\OneDrive\\Dokumenty\\Inzynierka\\ML-for-TTRPG-game-design\\analysis_functions.py:38: FutureWarning: The default dtype for empty Series will be 'object' instead of 'float64' in a future version. Specify a dtype explicitly to silence this warning.\n",
      "  new_df = df[column_name].apply(pd.Series)\n",
      "C:\\Users\\jolka\\OneDrive\\Dokumenty\\Inzynierka\\ML-for-TTRPG-game-design\\analysis_functions.py:38: FutureWarning: The default dtype for empty Series will be 'object' instead of 'float64' in a future version. Specify a dtype explicitly to silence this warning.\n",
      "  new_df = df[column_name].apply(pd.Series)\n",
      "C:\\Users\\jolka\\OneDrive\\Dokumenty\\Inzynierka\\ML-for-TTRPG-game-design\\analysis_functions.py:38: FutureWarning: The default dtype for empty Series will be 'object' instead of 'float64' in a future version. Specify a dtype explicitly to silence this warning.\n",
      "  new_df = df[column_name].apply(pd.Series)\n",
      "C:\\Users\\jolka\\OneDrive\\Dokumenty\\Inzynierka\\ML-for-TTRPG-game-design\\analysis_functions.py:38: FutureWarning: The default dtype for empty Series will be 'object' instead of 'float64' in a future version. Specify a dtype explicitly to silence this warning.\n",
      "  new_df = df[column_name].apply(pd.Series)\n",
      "C:\\Users\\jolka\\OneDrive\\Dokumenty\\Inzynierka\\ML-for-TTRPG-game-design\\analysis_functions.py:38: FutureWarning: The default dtype for empty Series will be 'object' instead of 'float64' in a future version. Specify a dtype explicitly to silence this warning.\n",
      "  new_df = df[column_name].apply(pd.Series)\n",
      "C:\\Users\\jolka\\OneDrive\\Dokumenty\\Inzynierka\\ML-for-TTRPG-game-design\\analysis_functions.py:38: FutureWarning: The default dtype for empty Series will be 'object' instead of 'float64' in a future version. Specify a dtype explicitly to silence this warning.\n",
      "  new_df = df[column_name].apply(pd.Series)\n",
      "C:\\Users\\jolka\\OneDrive\\Dokumenty\\Inzynierka\\ML-for-TTRPG-game-design\\analysis_functions.py:38: FutureWarning: The default dtype for empty Series will be 'object' instead of 'float64' in a future version. Specify a dtype explicitly to silence this warning.\n",
      "  new_df = df[column_name].apply(pd.Series)\n",
      "C:\\Users\\jolka\\OneDrive\\Dokumenty\\Inzynierka\\ML-for-TTRPG-game-design\\analysis_functions.py:38: FutureWarning: The default dtype for empty Series will be 'object' instead of 'float64' in a future version. Specify a dtype explicitly to silence this warning.\n",
      "  new_df = df[column_name].apply(pd.Series)\n",
      "C:\\Users\\jolka\\OneDrive\\Dokumenty\\Inzynierka\\ML-for-TTRPG-game-design\\analysis_functions.py:38: FutureWarning: The default dtype for empty Series will be 'object' instead of 'float64' in a future version. Specify a dtype explicitly to silence this warning.\n",
      "  new_df = df[column_name].apply(pd.Series)\n",
      "C:\\Users\\jolka\\OneDrive\\Dokumenty\\Inzynierka\\ML-for-TTRPG-game-design\\analysis_functions.py:38: FutureWarning: The default dtype for empty Series will be 'object' instead of 'float64' in a future version. Specify a dtype explicitly to silence this warning.\n",
      "  new_df = df[column_name].apply(pd.Series)\n",
      "C:\\Users\\jolka\\OneDrive\\Dokumenty\\Inzynierka\\ML-for-TTRPG-game-design\\analysis_functions.py:38: FutureWarning: The default dtype for empty Series will be 'object' instead of 'float64' in a future version. Specify a dtype explicitly to silence this warning.\n",
      "  new_df = df[column_name].apply(pd.Series)\n",
      "C:\\Users\\jolka\\OneDrive\\Dokumenty\\Inzynierka\\ML-for-TTRPG-game-design\\analysis_functions.py:38: FutureWarning: The default dtype for empty Series will be 'object' instead of 'float64' in a future version. Specify a dtype explicitly to silence this warning.\n",
      "  new_df = df[column_name].apply(pd.Series)\n",
      "C:\\Users\\jolka\\OneDrive\\Dokumenty\\Inzynierka\\ML-for-TTRPG-game-design\\analysis_functions.py:38: FutureWarning: The default dtype for empty Series will be 'object' instead of 'float64' in a future version. Specify a dtype explicitly to silence this warning.\n",
      "  new_df = df[column_name].apply(pd.Series)\n",
      "C:\\Users\\jolka\\OneDrive\\Dokumenty\\Inzynierka\\ML-for-TTRPG-game-design\\analysis_functions.py:38: FutureWarning: The default dtype for empty Series will be 'object' instead of 'float64' in a future version. Specify a dtype explicitly to silence this warning.\n",
      "  new_df = df[column_name].apply(pd.Series)\n",
      "C:\\Users\\jolka\\OneDrive\\Dokumenty\\Inzynierka\\ML-for-TTRPG-game-design\\analysis_functions.py:38: FutureWarning: The default dtype for empty Series will be 'object' instead of 'float64' in a future version. Specify a dtype explicitly to silence this warning.\n",
      "  new_df = df[column_name].apply(pd.Series)\n",
      "C:\\Users\\jolka\\OneDrive\\Dokumenty\\Inzynierka\\ML-for-TTRPG-game-design\\analysis_functions.py:38: FutureWarning: The default dtype for empty Series will be 'object' instead of 'float64' in a future version. Specify a dtype explicitly to silence this warning.\n",
      "  new_df = df[column_name].apply(pd.Series)\n",
      "C:\\Users\\jolka\\OneDrive\\Dokumenty\\Inzynierka\\ML-for-TTRPG-game-design\\analysis_functions.py:38: FutureWarning: The default dtype for empty Series will be 'object' instead of 'float64' in a future version. Specify a dtype explicitly to silence this warning.\n",
      "  new_df = df[column_name].apply(pd.Series)\n",
      "C:\\Users\\jolka\\OneDrive\\Dokumenty\\Inzynierka\\ML-for-TTRPG-game-design\\analysis_functions.py:38: FutureWarning: The default dtype for empty Series will be 'object' instead of 'float64' in a future version. Specify a dtype explicitly to silence this warning.\n",
      "  new_df = df[column_name].apply(pd.Series)\n",
      "C:\\Users\\jolka\\OneDrive\\Dokumenty\\Inzynierka\\ML-for-TTRPG-game-design\\analysis_functions.py:38: FutureWarning: The default dtype for empty Series will be 'object' instead of 'float64' in a future version. Specify a dtype explicitly to silence this warning.\n",
      "  new_df = df[column_name].apply(pd.Series)\n",
      "C:\\Users\\jolka\\OneDrive\\Dokumenty\\Inzynierka\\ML-for-TTRPG-game-design\\analysis_functions.py:38: FutureWarning: The default dtype for empty Series will be 'object' instead of 'float64' in a future version. Specify a dtype explicitly to silence this warning.\n",
      "  new_df = df[column_name].apply(pd.Series)\n",
      "C:\\Users\\jolka\\OneDrive\\Dokumenty\\Inzynierka\\ML-for-TTRPG-game-design\\analysis_functions.py:38: FutureWarning: The default dtype for empty Series will be 'object' instead of 'float64' in a future version. Specify a dtype explicitly to silence this warning.\n",
      "  new_df = df[column_name].apply(pd.Series)\n",
      "C:\\Users\\jolka\\OneDrive\\Dokumenty\\Inzynierka\\ML-for-TTRPG-game-design\\analysis_functions.py:38: FutureWarning: The default dtype for empty Series will be 'object' instead of 'float64' in a future version. Specify a dtype explicitly to silence this warning.\n",
      "  new_df = df[column_name].apply(pd.Series)\n",
      "C:\\Users\\jolka\\OneDrive\\Dokumenty\\Inzynierka\\ML-for-TTRPG-game-design\\analysis_functions.py:38: FutureWarning: The default dtype for empty Series will be 'object' instead of 'float64' in a future version. Specify a dtype explicitly to silence this warning.\n",
      "  new_df = df[column_name].apply(pd.Series)\n",
      "C:\\Users\\jolka\\OneDrive\\Dokumenty\\Inzynierka\\ML-for-TTRPG-game-design\\analysis_functions.py:38: FutureWarning: The default dtype for empty Series will be 'object' instead of 'float64' in a future version. Specify a dtype explicitly to silence this warning.\n",
      "  new_df = df[column_name].apply(pd.Series)\n",
      "C:\\Users\\jolka\\OneDrive\\Dokumenty\\Inzynierka\\ML-for-TTRPG-game-design\\analysis_functions.py:38: FutureWarning: The default dtype for empty Series will be 'object' instead of 'float64' in a future version. Specify a dtype explicitly to silence this warning.\n",
      "  new_df = df[column_name].apply(pd.Series)\n",
      "C:\\Users\\jolka\\OneDrive\\Dokumenty\\Inzynierka\\ML-for-TTRPG-game-design\\analysis_functions.py:38: FutureWarning: The default dtype for empty Series will be 'object' instead of 'float64' in a future version. Specify a dtype explicitly to silence this warning.\n",
      "  new_df = df[column_name].apply(pd.Series)\n",
      "C:\\Users\\jolka\\OneDrive\\Dokumenty\\Inzynierka\\ML-for-TTRPG-game-design\\analysis_functions.py:38: FutureWarning: The default dtype for empty Series will be 'object' instead of 'float64' in a future version. Specify a dtype explicitly to silence this warning.\n",
      "  new_df = df[column_name].apply(pd.Series)\n",
      "C:\\Users\\jolka\\OneDrive\\Dokumenty\\Inzynierka\\ML-for-TTRPG-game-design\\analysis_functions.py:38: FutureWarning: The default dtype for empty Series will be 'object' instead of 'float64' in a future version. Specify a dtype explicitly to silence this warning.\n",
      "  new_df = df[column_name].apply(pd.Series)\n",
      "C:\\Users\\jolka\\OneDrive\\Dokumenty\\Inzynierka\\ML-for-TTRPG-game-design\\analysis_functions.py:38: FutureWarning: The default dtype for empty Series will be 'object' instead of 'float64' in a future version. Specify a dtype explicitly to silence this warning.\n",
      "  new_df = df[column_name].apply(pd.Series)\n",
      "C:\\Users\\jolka\\OneDrive\\Dokumenty\\Inzynierka\\ML-for-TTRPG-game-design\\analysis_functions.py:38: FutureWarning: The default dtype for empty Series will be 'object' instead of 'float64' in a future version. Specify a dtype explicitly to silence this warning.\n",
      "  new_df = df[column_name].apply(pd.Series)\n",
      "C:\\Users\\jolka\\OneDrive\\Dokumenty\\Inzynierka\\ML-for-TTRPG-game-design\\analysis_functions.py:38: FutureWarning: The default dtype for empty Series will be 'object' instead of 'float64' in a future version. Specify a dtype explicitly to silence this warning.\n",
      "  new_df = df[column_name].apply(pd.Series)\n",
      "C:\\Users\\jolka\\OneDrive\\Dokumenty\\Inzynierka\\ML-for-TTRPG-game-design\\analysis_functions.py:38: FutureWarning: The default dtype for empty Series will be 'object' instead of 'float64' in a future version. Specify a dtype explicitly to silence this warning.\n",
      "  new_df = df[column_name].apply(pd.Series)\n",
      "C:\\Users\\jolka\\OneDrive\\Dokumenty\\Inzynierka\\ML-for-TTRPG-game-design\\analysis_functions.py:38: FutureWarning: The default dtype for empty Series will be 'object' instead of 'float64' in a future version. Specify a dtype explicitly to silence this warning.\n",
      "  new_df = df[column_name].apply(pd.Series)\n",
      "C:\\Users\\jolka\\OneDrive\\Dokumenty\\Inzynierka\\ML-for-TTRPG-game-design\\analysis_functions.py:38: FutureWarning: The default dtype for empty Series will be 'object' instead of 'float64' in a future version. Specify a dtype explicitly to silence this warning.\n",
      "  new_df = df[column_name].apply(pd.Series)\n",
      "C:\\Users\\jolka\\OneDrive\\Dokumenty\\Inzynierka\\ML-for-TTRPG-game-design\\analysis_functions.py:38: FutureWarning: The default dtype for empty Series will be 'object' instead of 'float64' in a future version. Specify a dtype explicitly to silence this warning.\n",
      "  new_df = df[column_name].apply(pd.Series)\n",
      "C:\\Users\\jolka\\OneDrive\\Dokumenty\\Inzynierka\\ML-for-TTRPG-game-design\\analysis_functions.py:38: FutureWarning: The default dtype for empty Series will be 'object' instead of 'float64' in a future version. Specify a dtype explicitly to silence this warning.\n",
      "  new_df = df[column_name].apply(pd.Series)\n",
      "C:\\Users\\jolka\\OneDrive\\Dokumenty\\Inzynierka\\ML-for-TTRPG-game-design\\analysis_functions.py:38: FutureWarning: The default dtype for empty Series will be 'object' instead of 'float64' in a future version. Specify a dtype explicitly to silence this warning.\n",
      "  new_df = df[column_name].apply(pd.Series)\n",
      "C:\\Users\\jolka\\OneDrive\\Dokumenty\\Inzynierka\\ML-for-TTRPG-game-design\\analysis_functions.py:38: FutureWarning: The default dtype for empty Series will be 'object' instead of 'float64' in a future version. Specify a dtype explicitly to silence this warning.\n",
      "  new_df = df[column_name].apply(pd.Series)\n",
      "C:\\Users\\jolka\\OneDrive\\Dokumenty\\Inzynierka\\ML-for-TTRPG-game-design\\analysis_functions.py:38: FutureWarning: The default dtype for empty Series will be 'object' instead of 'float64' in a future version. Specify a dtype explicitly to silence this warning.\n",
      "  new_df = df[column_name].apply(pd.Series)\n",
      "C:\\Users\\jolka\\OneDrive\\Dokumenty\\Inzynierka\\ML-for-TTRPG-game-design\\analysis_functions.py:38: FutureWarning: The default dtype for empty Series will be 'object' instead of 'float64' in a future version. Specify a dtype explicitly to silence this warning.\n",
      "  new_df = df[column_name].apply(pd.Series)\n",
      "C:\\Users\\jolka\\OneDrive\\Dokumenty\\Inzynierka\\ML-for-TTRPG-game-design\\analysis_functions.py:38: FutureWarning: The default dtype for empty Series will be 'object' instead of 'float64' in a future version. Specify a dtype explicitly to silence this warning.\n",
      "  new_df = df[column_name].apply(pd.Series)\n",
      "C:\\Users\\jolka\\OneDrive\\Dokumenty\\Inzynierka\\ML-for-TTRPG-game-design\\analysis_functions.py:38: FutureWarning: The default dtype for empty Series will be 'object' instead of 'float64' in a future version. Specify a dtype explicitly to silence this warning.\n",
      "  new_df = df[column_name].apply(pd.Series)\n",
      "C:\\Users\\jolka\\OneDrive\\Dokumenty\\Inzynierka\\ML-for-TTRPG-game-design\\analysis_functions.py:38: FutureWarning: The default dtype for empty Series will be 'object' instead of 'float64' in a future version. Specify a dtype explicitly to silence this warning.\n",
      "  new_df = df[column_name].apply(pd.Series)\n",
      "C:\\Users\\jolka\\OneDrive\\Dokumenty\\Inzynierka\\ML-for-TTRPG-game-design\\analysis_functions.py:38: FutureWarning: The default dtype for empty Series will be 'object' instead of 'float64' in a future version. Specify a dtype explicitly to silence this warning.\n",
      "  new_df = df[column_name].apply(pd.Series)\n",
      "C:\\Users\\jolka\\OneDrive\\Dokumenty\\Inzynierka\\ML-for-TTRPG-game-design\\analysis_functions.py:38: FutureWarning: The default dtype for empty Series will be 'object' instead of 'float64' in a future version. Specify a dtype explicitly to silence this warning.\n",
      "  new_df = df[column_name].apply(pd.Series)\n",
      "C:\\Users\\jolka\\OneDrive\\Dokumenty\\Inzynierka\\ML-for-TTRPG-game-design\\analysis_functions.py:38: FutureWarning: The default dtype for empty Series will be 'object' instead of 'float64' in a future version. Specify a dtype explicitly to silence this warning.\n",
      "  new_df = df[column_name].apply(pd.Series)\n",
      "C:\\Users\\jolka\\OneDrive\\Dokumenty\\Inzynierka\\ML-for-TTRPG-game-design\\analysis_functions.py:38: FutureWarning: The default dtype for empty Series will be 'object' instead of 'float64' in a future version. Specify a dtype explicitly to silence this warning.\n",
      "  new_df = df[column_name].apply(pd.Series)\n",
      "C:\\Users\\jolka\\OneDrive\\Dokumenty\\Inzynierka\\ML-for-TTRPG-game-design\\analysis_functions.py:38: FutureWarning: The default dtype for empty Series will be 'object' instead of 'float64' in a future version. Specify a dtype explicitly to silence this warning.\n",
      "  new_df = df[column_name].apply(pd.Series)\n",
      "C:\\Users\\jolka\\OneDrive\\Dokumenty\\Inzynierka\\ML-for-TTRPG-game-design\\analysis_functions.py:38: FutureWarning: The default dtype for empty Series will be 'object' instead of 'float64' in a future version. Specify a dtype explicitly to silence this warning.\n",
      "  new_df = df[column_name].apply(pd.Series)\n",
      "C:\\Users\\jolka\\OneDrive\\Dokumenty\\Inzynierka\\ML-for-TTRPG-game-design\\analysis_functions.py:38: FutureWarning: The default dtype for empty Series will be 'object' instead of 'float64' in a future version. Specify a dtype explicitly to silence this warning.\n",
      "  new_df = df[column_name].apply(pd.Series)\n",
      "C:\\Users\\jolka\\OneDrive\\Dokumenty\\Inzynierka\\ML-for-TTRPG-game-design\\analysis_functions.py:38: FutureWarning: The default dtype for empty Series will be 'object' instead of 'float64' in a future version. Specify a dtype explicitly to silence this warning.\n",
      "  new_df = df[column_name].apply(pd.Series)\n",
      "C:\\Users\\jolka\\OneDrive\\Dokumenty\\Inzynierka\\ML-for-TTRPG-game-design\\analysis_functions.py:38: FutureWarning: The default dtype for empty Series will be 'object' instead of 'float64' in a future version. Specify a dtype explicitly to silence this warning.\n",
      "  new_df = df[column_name].apply(pd.Series)\n",
      "C:\\Users\\jolka\\OneDrive\\Dokumenty\\Inzynierka\\ML-for-TTRPG-game-design\\analysis_functions.py:38: FutureWarning: The default dtype for empty Series will be 'object' instead of 'float64' in a future version. Specify a dtype explicitly to silence this warning.\n",
      "  new_df = df[column_name].apply(pd.Series)\n",
      "C:\\Users\\jolka\\OneDrive\\Dokumenty\\Inzynierka\\ML-for-TTRPG-game-design\\analysis_functions.py:38: FutureWarning: The default dtype for empty Series will be 'object' instead of 'float64' in a future version. Specify a dtype explicitly to silence this warning.\n",
      "  new_df = df[column_name].apply(pd.Series)\n",
      "C:\\Users\\jolka\\OneDrive\\Dokumenty\\Inzynierka\\ML-for-TTRPG-game-design\\analysis_functions.py:38: FutureWarning: The default dtype for empty Series will be 'object' instead of 'float64' in a future version. Specify a dtype explicitly to silence this warning.\n",
      "  new_df = df[column_name].apply(pd.Series)\n",
      "C:\\Users\\jolka\\OneDrive\\Dokumenty\\Inzynierka\\ML-for-TTRPG-game-design\\analysis_functions.py:38: FutureWarning: The default dtype for empty Series will be 'object' instead of 'float64' in a future version. Specify a dtype explicitly to silence this warning.\n",
      "  new_df = df[column_name].apply(pd.Series)\n",
      "C:\\Users\\jolka\\OneDrive\\Dokumenty\\Inzynierka\\ML-for-TTRPG-game-design\\analysis_functions.py:38: FutureWarning: The default dtype for empty Series will be 'object' instead of 'float64' in a future version. Specify a dtype explicitly to silence this warning.\n",
      "  new_df = df[column_name].apply(pd.Series)\n",
      "C:\\Users\\jolka\\OneDrive\\Dokumenty\\Inzynierka\\ML-for-TTRPG-game-design\\analysis_functions.py:38: FutureWarning: The default dtype for empty Series will be 'object' instead of 'float64' in a future version. Specify a dtype explicitly to silence this warning.\n",
      "  new_df = df[column_name].apply(pd.Series)\n",
      "C:\\Users\\jolka\\OneDrive\\Dokumenty\\Inzynierka\\ML-for-TTRPG-game-design\\analysis_functions.py:38: FutureWarning: The default dtype for empty Series will be 'object' instead of 'float64' in a future version. Specify a dtype explicitly to silence this warning.\n",
      "  new_df = df[column_name].apply(pd.Series)\n",
      "C:\\Users\\jolka\\OneDrive\\Dokumenty\\Inzynierka\\ML-for-TTRPG-game-design\\analysis_functions.py:38: FutureWarning: The default dtype for empty Series will be 'object' instead of 'float64' in a future version. Specify a dtype explicitly to silence this warning.\n",
      "  new_df = df[column_name].apply(pd.Series)\n",
      "C:\\Users\\jolka\\OneDrive\\Dokumenty\\Inzynierka\\ML-for-TTRPG-game-design\\analysis_functions.py:38: FutureWarning: The default dtype for empty Series will be 'object' instead of 'float64' in a future version. Specify a dtype explicitly to silence this warning.\n",
      "  new_df = df[column_name].apply(pd.Series)\n",
      "C:\\Users\\jolka\\OneDrive\\Dokumenty\\Inzynierka\\ML-for-TTRPG-game-design\\analysis_functions.py:38: FutureWarning: The default dtype for empty Series will be 'object' instead of 'float64' in a future version. Specify a dtype explicitly to silence this warning.\n",
      "  new_df = df[column_name].apply(pd.Series)\n",
      "C:\\Users\\jolka\\OneDrive\\Dokumenty\\Inzynierka\\ML-for-TTRPG-game-design\\analysis_functions.py:38: FutureWarning: The default dtype for empty Series will be 'object' instead of 'float64' in a future version. Specify a dtype explicitly to silence this warning.\n",
      "  new_df = df[column_name].apply(pd.Series)\n",
      "C:\\Users\\jolka\\OneDrive\\Dokumenty\\Inzynierka\\ML-for-TTRPG-game-design\\analysis_functions.py:38: FutureWarning: The default dtype for empty Series will be 'object' instead of 'float64' in a future version. Specify a dtype explicitly to silence this warning.\n",
      "  new_df = df[column_name].apply(pd.Series)\n",
      "C:\\Users\\jolka\\OneDrive\\Dokumenty\\Inzynierka\\ML-for-TTRPG-game-design\\analysis_functions.py:38: FutureWarning: The default dtype for empty Series will be 'object' instead of 'float64' in a future version. Specify a dtype explicitly to silence this warning.\n",
      "  new_df = df[column_name].apply(pd.Series)\n",
      "C:\\Users\\jolka\\OneDrive\\Dokumenty\\Inzynierka\\ML-for-TTRPG-game-design\\analysis_functions.py:38: FutureWarning: The default dtype for empty Series will be 'object' instead of 'float64' in a future version. Specify a dtype explicitly to silence this warning.\n",
      "  new_df = df[column_name].apply(pd.Series)\n",
      "C:\\Users\\jolka\\OneDrive\\Dokumenty\\Inzynierka\\ML-for-TTRPG-game-design\\analysis_functions.py:38: FutureWarning: The default dtype for empty Series will be 'object' instead of 'float64' in a future version. Specify a dtype explicitly to silence this warning.\n",
      "  new_df = df[column_name].apply(pd.Series)\n",
      "C:\\Users\\jolka\\OneDrive\\Dokumenty\\Inzynierka\\ML-for-TTRPG-game-design\\analysis_functions.py:38: FutureWarning: The default dtype for empty Series will be 'object' instead of 'float64' in a future version. Specify a dtype explicitly to silence this warning.\n",
      "  new_df = df[column_name].apply(pd.Series)\n",
      "C:\\Users\\jolka\\OneDrive\\Dokumenty\\Inzynierka\\ML-for-TTRPG-game-design\\analysis_functions.py:38: FutureWarning: The default dtype for empty Series will be 'object' instead of 'float64' in a future version. Specify a dtype explicitly to silence this warning.\n",
      "  new_df = df[column_name].apply(pd.Series)\n",
      "C:\\Users\\jolka\\OneDrive\\Dokumenty\\Inzynierka\\ML-for-TTRPG-game-design\\analysis_functions.py:38: FutureWarning: The default dtype for empty Series will be 'object' instead of 'float64' in a future version. Specify a dtype explicitly to silence this warning.\n",
      "  new_df = df[column_name].apply(pd.Series)\n",
      "C:\\Users\\jolka\\OneDrive\\Dokumenty\\Inzynierka\\ML-for-TTRPG-game-design\\analysis_functions.py:38: FutureWarning: The default dtype for empty Series will be 'object' instead of 'float64' in a future version. Specify a dtype explicitly to silence this warning.\n",
      "  new_df = df[column_name].apply(pd.Series)\n",
      "C:\\Users\\jolka\\OneDrive\\Dokumenty\\Inzynierka\\ML-for-TTRPG-game-design\\analysis_functions.py:38: FutureWarning: The default dtype for empty Series will be 'object' instead of 'float64' in a future version. Specify a dtype explicitly to silence this warning.\n",
      "  new_df = df[column_name].apply(pd.Series)\n",
      "C:\\Users\\jolka\\OneDrive\\Dokumenty\\Inzynierka\\ML-for-TTRPG-game-design\\analysis_functions.py:38: FutureWarning: The default dtype for empty Series will be 'object' instead of 'float64' in a future version. Specify a dtype explicitly to silence this warning.\n",
      "  new_df = df[column_name].apply(pd.Series)\n",
      "C:\\Users\\jolka\\OneDrive\\Dokumenty\\Inzynierka\\ML-for-TTRPG-game-design\\analysis_functions.py:38: FutureWarning: The default dtype for empty Series will be 'object' instead of 'float64' in a future version. Specify a dtype explicitly to silence this warning.\n",
      "  new_df = df[column_name].apply(pd.Series)\n",
      "C:\\Users\\jolka\\OneDrive\\Dokumenty\\Inzynierka\\ML-for-TTRPG-game-design\\analysis_functions.py:38: FutureWarning: The default dtype for empty Series will be 'object' instead of 'float64' in a future version. Specify a dtype explicitly to silence this warning.\n",
      "  new_df = df[column_name].apply(pd.Series)\n",
      "C:\\Users\\jolka\\OneDrive\\Dokumenty\\Inzynierka\\ML-for-TTRPG-game-design\\analysis_functions.py:38: FutureWarning: The default dtype for empty Series will be 'object' instead of 'float64' in a future version. Specify a dtype explicitly to silence this warning.\n",
      "  new_df = df[column_name].apply(pd.Series)\n",
      "C:\\Users\\jolka\\OneDrive\\Dokumenty\\Inzynierka\\ML-for-TTRPG-game-design\\analysis_functions.py:38: FutureWarning: The default dtype for empty Series will be 'object' instead of 'float64' in a future version. Specify a dtype explicitly to silence this warning.\n",
      "  new_df = df[column_name].apply(pd.Series)\n",
      "C:\\Users\\jolka\\OneDrive\\Dokumenty\\Inzynierka\\ML-for-TTRPG-game-design\\analysis_functions.py:38: FutureWarning: The default dtype for empty Series will be 'object' instead of 'float64' in a future version. Specify a dtype explicitly to silence this warning.\n",
      "  new_df = df[column_name].apply(pd.Series)\n",
      "C:\\Users\\jolka\\OneDrive\\Dokumenty\\Inzynierka\\ML-for-TTRPG-game-design\\analysis_functions.py:38: FutureWarning: The default dtype for empty Series will be 'object' instead of 'float64' in a future version. Specify a dtype explicitly to silence this warning.\n",
      "  new_df = df[column_name].apply(pd.Series)\n",
      "C:\\Users\\jolka\\OneDrive\\Dokumenty\\Inzynierka\\ML-for-TTRPG-game-design\\analysis_functions.py:38: FutureWarning: The default dtype for empty Series will be 'object' instead of 'float64' in a future version. Specify a dtype explicitly to silence this warning.\n",
      "  new_df = df[column_name].apply(pd.Series)\n",
      "C:\\Users\\jolka\\OneDrive\\Dokumenty\\Inzynierka\\ML-for-TTRPG-game-design\\analysis_functions.py:38: FutureWarning: The default dtype for empty Series will be 'object' instead of 'float64' in a future version. Specify a dtype explicitly to silence this warning.\n",
      "  new_df = df[column_name].apply(pd.Series)\n",
      "C:\\Users\\jolka\\OneDrive\\Dokumenty\\Inzynierka\\ML-for-TTRPG-game-design\\analysis_functions.py:38: FutureWarning: The default dtype for empty Series will be 'object' instead of 'float64' in a future version. Specify a dtype explicitly to silence this warning.\n",
      "  new_df = df[column_name].apply(pd.Series)\n",
      "C:\\Users\\jolka\\OneDrive\\Dokumenty\\Inzynierka\\ML-for-TTRPG-game-design\\analysis_functions.py:38: FutureWarning: The default dtype for empty Series will be 'object' instead of 'float64' in a future version. Specify a dtype explicitly to silence this warning.\n",
      "  new_df = df[column_name].apply(pd.Series)\n",
      "C:\\Users\\jolka\\OneDrive\\Dokumenty\\Inzynierka\\ML-for-TTRPG-game-design\\analysis_functions.py:38: FutureWarning: The default dtype for empty Series will be 'object' instead of 'float64' in a future version. Specify a dtype explicitly to silence this warning.\n",
      "  new_df = df[column_name].apply(pd.Series)\n",
      "C:\\Users\\jolka\\OneDrive\\Dokumenty\\Inzynierka\\ML-for-TTRPG-game-design\\analysis_functions.py:38: FutureWarning: The default dtype for empty Series will be 'object' instead of 'float64' in a future version. Specify a dtype explicitly to silence this warning.\n",
      "  new_df = df[column_name].apply(pd.Series)\n",
      "C:\\Users\\jolka\\OneDrive\\Dokumenty\\Inzynierka\\ML-for-TTRPG-game-design\\analysis_functions.py:38: FutureWarning: The default dtype for empty Series will be 'object' instead of 'float64' in a future version. Specify a dtype explicitly to silence this warning.\n",
      "  new_df = df[column_name].apply(pd.Series)\n",
      "C:\\Users\\jolka\\OneDrive\\Dokumenty\\Inzynierka\\ML-for-TTRPG-game-design\\analysis_functions.py:38: FutureWarning: The default dtype for empty Series will be 'object' instead of 'float64' in a future version. Specify a dtype explicitly to silence this warning.\n",
      "  new_df = df[column_name].apply(pd.Series)\n",
      "C:\\Users\\jolka\\OneDrive\\Dokumenty\\Inzynierka\\ML-for-TTRPG-game-design\\analysis_functions.py:38: FutureWarning: The default dtype for empty Series will be 'object' instead of 'float64' in a future version. Specify a dtype explicitly to silence this warning.\n",
      "  new_df = df[column_name].apply(pd.Series)\n",
      "C:\\Users\\jolka\\OneDrive\\Dokumenty\\Inzynierka\\ML-for-TTRPG-game-design\\analysis_functions.py:38: FutureWarning: The default dtype for empty Series will be 'object' instead of 'float64' in a future version. Specify a dtype explicitly to silence this warning.\n",
      "  new_df = df[column_name].apply(pd.Series)\n",
      "C:\\Users\\jolka\\OneDrive\\Dokumenty\\Inzynierka\\ML-for-TTRPG-game-design\\analysis_functions.py:38: FutureWarning: The default dtype for empty Series will be 'object' instead of 'float64' in a future version. Specify a dtype explicitly to silence this warning.\n",
      "  new_df = df[column_name].apply(pd.Series)\n",
      "C:\\Users\\jolka\\OneDrive\\Dokumenty\\Inzynierka\\ML-for-TTRPG-game-design\\analysis_functions.py:38: FutureWarning: The default dtype for empty Series will be 'object' instead of 'float64' in a future version. Specify a dtype explicitly to silence this warning.\n",
      "  new_df = df[column_name].apply(pd.Series)\n",
      "C:\\Users\\jolka\\OneDrive\\Dokumenty\\Inzynierka\\ML-for-TTRPG-game-design\\analysis_functions.py:38: FutureWarning: The default dtype for empty Series will be 'object' instead of 'float64' in a future version. Specify a dtype explicitly to silence this warning.\n",
      "  new_df = df[column_name].apply(pd.Series)\n",
      "C:\\Users\\jolka\\OneDrive\\Dokumenty\\Inzynierka\\ML-for-TTRPG-game-design\\analysis_functions.py:38: FutureWarning: The default dtype for empty Series will be 'object' instead of 'float64' in a future version. Specify a dtype explicitly to silence this warning.\n",
      "  new_df = df[column_name].apply(pd.Series)\n",
      "C:\\Users\\jolka\\OneDrive\\Dokumenty\\Inzynierka\\ML-for-TTRPG-game-design\\analysis_functions.py:38: FutureWarning: The default dtype for empty Series will be 'object' instead of 'float64' in a future version. Specify a dtype explicitly to silence this warning.\n",
      "  new_df = df[column_name].apply(pd.Series)\n",
      "C:\\Users\\jolka\\OneDrive\\Dokumenty\\Inzynierka\\ML-for-TTRPG-game-design\\analysis_functions.py:38: FutureWarning: The default dtype for empty Series will be 'object' instead of 'float64' in a future version. Specify a dtype explicitly to silence this warning.\n",
      "  new_df = df[column_name].apply(pd.Series)\n",
      "C:\\Users\\jolka\\OneDrive\\Dokumenty\\Inzynierka\\ML-for-TTRPG-game-design\\analysis_functions.py:38: FutureWarning: The default dtype for empty Series will be 'object' instead of 'float64' in a future version. Specify a dtype explicitly to silence this warning.\n",
      "  new_df = df[column_name].apply(pd.Series)\n",
      "C:\\Users\\jolka\\OneDrive\\Dokumenty\\Inzynierka\\ML-for-TTRPG-game-design\\analysis_functions.py:38: FutureWarning: The default dtype for empty Series will be 'object' instead of 'float64' in a future version. Specify a dtype explicitly to silence this warning.\n",
      "  new_df = df[column_name].apply(pd.Series)\n",
      "C:\\Users\\jolka\\OneDrive\\Dokumenty\\Inzynierka\\ML-for-TTRPG-game-design\\analysis_functions.py:38: FutureWarning: The default dtype for empty Series will be 'object' instead of 'float64' in a future version. Specify a dtype explicitly to silence this warning.\n",
      "  new_df = df[column_name].apply(pd.Series)\n",
      "C:\\Users\\jolka\\OneDrive\\Dokumenty\\Inzynierka\\ML-for-TTRPG-game-design\\analysis_functions.py:38: FutureWarning: The default dtype for empty Series will be 'object' instead of 'float64' in a future version. Specify a dtype explicitly to silence this warning.\n",
      "  new_df = df[column_name].apply(pd.Series)\n",
      "C:\\Users\\jolka\\OneDrive\\Dokumenty\\Inzynierka\\ML-for-TTRPG-game-design\\analysis_functions.py:38: FutureWarning: The default dtype for empty Series will be 'object' instead of 'float64' in a future version. Specify a dtype explicitly to silence this warning.\n",
      "  new_df = df[column_name].apply(pd.Series)\n",
      "C:\\Users\\jolka\\OneDrive\\Dokumenty\\Inzynierka\\ML-for-TTRPG-game-design\\analysis_functions.py:38: FutureWarning: The default dtype for empty Series will be 'object' instead of 'float64' in a future version. Specify a dtype explicitly to silence this warning.\n",
      "  new_df = df[column_name].apply(pd.Series)\n",
      "C:\\Users\\jolka\\OneDrive\\Dokumenty\\Inzynierka\\ML-for-TTRPG-game-design\\analysis_functions.py:38: FutureWarning: The default dtype for empty Series will be 'object' instead of 'float64' in a future version. Specify a dtype explicitly to silence this warning.\n",
      "  new_df = df[column_name].apply(pd.Series)\n",
      "C:\\Users\\jolka\\OneDrive\\Dokumenty\\Inzynierka\\ML-for-TTRPG-game-design\\analysis_functions.py:38: FutureWarning: The default dtype for empty Series will be 'object' instead of 'float64' in a future version. Specify a dtype explicitly to silence this warning.\n",
      "  new_df = df[column_name].apply(pd.Series)\n",
      "C:\\Users\\jolka\\OneDrive\\Dokumenty\\Inzynierka\\ML-for-TTRPG-game-design\\analysis_functions.py:38: FutureWarning: The default dtype for empty Series will be 'object' instead of 'float64' in a future version. Specify a dtype explicitly to silence this warning.\n",
      "  new_df = df[column_name].apply(pd.Series)\n",
      "C:\\Users\\jolka\\OneDrive\\Dokumenty\\Inzynierka\\ML-for-TTRPG-game-design\\analysis_functions.py:38: FutureWarning: The default dtype for empty Series will be 'object' instead of 'float64' in a future version. Specify a dtype explicitly to silence this warning.\n",
      "  new_df = df[column_name].apply(pd.Series)\n",
      "C:\\Users\\jolka\\OneDrive\\Dokumenty\\Inzynierka\\ML-for-TTRPG-game-design\\analysis_functions.py:38: FutureWarning: The default dtype for empty Series will be 'object' instead of 'float64' in a future version. Specify a dtype explicitly to silence this warning.\n",
      "  new_df = df[column_name].apply(pd.Series)\n",
      "C:\\Users\\jolka\\OneDrive\\Dokumenty\\Inzynierka\\ML-for-TTRPG-game-design\\analysis_functions.py:38: FutureWarning: The default dtype for empty Series will be 'object' instead of 'float64' in a future version. Specify a dtype explicitly to silence this warning.\n",
      "  new_df = df[column_name].apply(pd.Series)\n",
      "C:\\Users\\jolka\\OneDrive\\Dokumenty\\Inzynierka\\ML-for-TTRPG-game-design\\analysis_functions.py:38: FutureWarning: The default dtype for empty Series will be 'object' instead of 'float64' in a future version. Specify a dtype explicitly to silence this warning.\n",
      "  new_df = df[column_name].apply(pd.Series)\n",
      "C:\\Users\\jolka\\OneDrive\\Dokumenty\\Inzynierka\\ML-for-TTRPG-game-design\\analysis_functions.py:38: FutureWarning: The default dtype for empty Series will be 'object' instead of 'float64' in a future version. Specify a dtype explicitly to silence this warning.\n",
      "  new_df = df[column_name].apply(pd.Series)\n",
      "C:\\Users\\jolka\\OneDrive\\Dokumenty\\Inzynierka\\ML-for-TTRPG-game-design\\analysis_functions.py:38: FutureWarning: The default dtype for empty Series will be 'object' instead of 'float64' in a future version. Specify a dtype explicitly to silence this warning.\n",
      "  new_df = df[column_name].apply(pd.Series)\n",
      "C:\\Users\\jolka\\OneDrive\\Dokumenty\\Inzynierka\\ML-for-TTRPG-game-design\\analysis_functions.py:38: FutureWarning: The default dtype for empty Series will be 'object' instead of 'float64' in a future version. Specify a dtype explicitly to silence this warning.\n",
      "  new_df = df[column_name].apply(pd.Series)\n",
      "C:\\Users\\jolka\\OneDrive\\Dokumenty\\Inzynierka\\ML-for-TTRPG-game-design\\analysis_functions.py:38: FutureWarning: The default dtype for empty Series will be 'object' instead of 'float64' in a future version. Specify a dtype explicitly to silence this warning.\n",
      "  new_df = df[column_name].apply(pd.Series)\n",
      "C:\\Users\\jolka\\OneDrive\\Dokumenty\\Inzynierka\\ML-for-TTRPG-game-design\\analysis_functions.py:38: FutureWarning: The default dtype for empty Series will be 'object' instead of 'float64' in a future version. Specify a dtype explicitly to silence this warning.\n",
      "  new_df = df[column_name].apply(pd.Series)\n",
      "C:\\Users\\jolka\\OneDrive\\Dokumenty\\Inzynierka\\ML-for-TTRPG-game-design\\analysis_functions.py:38: FutureWarning: The default dtype for empty Series will be 'object' instead of 'float64' in a future version. Specify a dtype explicitly to silence this warning.\n",
      "  new_df = df[column_name].apply(pd.Series)\n",
      "C:\\Users\\jolka\\OneDrive\\Dokumenty\\Inzynierka\\ML-for-TTRPG-game-design\\analysis_functions.py:38: FutureWarning: The default dtype for empty Series will be 'object' instead of 'float64' in a future version. Specify a dtype explicitly to silence this warning.\n",
      "  new_df = df[column_name].apply(pd.Series)\n",
      "C:\\Users\\jolka\\OneDrive\\Dokumenty\\Inzynierka\\ML-for-TTRPG-game-design\\analysis_functions.py:38: FutureWarning: The default dtype for empty Series will be 'object' instead of 'float64' in a future version. Specify a dtype explicitly to silence this warning.\n",
      "  new_df = df[column_name].apply(pd.Series)\n",
      "C:\\Users\\jolka\\OneDrive\\Dokumenty\\Inzynierka\\ML-for-TTRPG-game-design\\analysis_functions.py:38: FutureWarning: The default dtype for empty Series will be 'object' instead of 'float64' in a future version. Specify a dtype explicitly to silence this warning.\n",
      "  new_df = df[column_name].apply(pd.Series)\n",
      "C:\\Users\\jolka\\OneDrive\\Dokumenty\\Inzynierka\\ML-for-TTRPG-game-design\\analysis_functions.py:38: FutureWarning: The default dtype for empty Series will be 'object' instead of 'float64' in a future version. Specify a dtype explicitly to silence this warning.\n",
      "  new_df = df[column_name].apply(pd.Series)\n",
      "C:\\Users\\jolka\\OneDrive\\Dokumenty\\Inzynierka\\ML-for-TTRPG-game-design\\analysis_functions.py:38: FutureWarning: The default dtype for empty Series will be 'object' instead of 'float64' in a future version. Specify a dtype explicitly to silence this warning.\n",
      "  new_df = df[column_name].apply(pd.Series)\n",
      "C:\\Users\\jolka\\OneDrive\\Dokumenty\\Inzynierka\\ML-for-TTRPG-game-design\\analysis_functions.py:38: FutureWarning: The default dtype for empty Series will be 'object' instead of 'float64' in a future version. Specify a dtype explicitly to silence this warning.\n",
      "  new_df = df[column_name].apply(pd.Series)\n",
      "C:\\Users\\jolka\\OneDrive\\Dokumenty\\Inzynierka\\ML-for-TTRPG-game-design\\analysis_functions.py:38: FutureWarning: The default dtype for empty Series will be 'object' instead of 'float64' in a future version. Specify a dtype explicitly to silence this warning.\n",
      "  new_df = df[column_name].apply(pd.Series)\n",
      "C:\\Users\\jolka\\OneDrive\\Dokumenty\\Inzynierka\\ML-for-TTRPG-game-design\\analysis_functions.py:38: FutureWarning: The default dtype for empty Series will be 'object' instead of 'float64' in a future version. Specify a dtype explicitly to silence this warning.\n",
      "  new_df = df[column_name].apply(pd.Series)\n",
      "C:\\Users\\jolka\\OneDrive\\Dokumenty\\Inzynierka\\ML-for-TTRPG-game-design\\analysis_functions.py:38: FutureWarning: The default dtype for empty Series will be 'object' instead of 'float64' in a future version. Specify a dtype explicitly to silence this warning.\n",
      "  new_df = df[column_name].apply(pd.Series)\n",
      "C:\\Users\\jolka\\OneDrive\\Dokumenty\\Inzynierka\\ML-for-TTRPG-game-design\\analysis_functions.py:38: FutureWarning: The default dtype for empty Series will be 'object' instead of 'float64' in a future version. Specify a dtype explicitly to silence this warning.\n",
      "  new_df = df[column_name].apply(pd.Series)\n",
      "C:\\Users\\jolka\\OneDrive\\Dokumenty\\Inzynierka\\ML-for-TTRPG-game-design\\analysis_functions.py:38: FutureWarning: The default dtype for empty Series will be 'object' instead of 'float64' in a future version. Specify a dtype explicitly to silence this warning.\n",
      "  new_df = df[column_name].apply(pd.Series)\n",
      "C:\\Users\\jolka\\OneDrive\\Dokumenty\\Inzynierka\\ML-for-TTRPG-game-design\\analysis_functions.py:38: FutureWarning: The default dtype for empty Series will be 'object' instead of 'float64' in a future version. Specify a dtype explicitly to silence this warning.\n",
      "  new_df = df[column_name].apply(pd.Series)\n",
      "C:\\Users\\jolka\\OneDrive\\Dokumenty\\Inzynierka\\ML-for-TTRPG-game-design\\analysis_functions.py:38: FutureWarning: The default dtype for empty Series will be 'object' instead of 'float64' in a future version. Specify a dtype explicitly to silence this warning.\n",
      "  new_df = df[column_name].apply(pd.Series)\n",
      "C:\\Users\\jolka\\OneDrive\\Dokumenty\\Inzynierka\\ML-for-TTRPG-game-design\\analysis_functions.py:38: FutureWarning: The default dtype for empty Series will be 'object' instead of 'float64' in a future version. Specify a dtype explicitly to silence this warning.\n",
      "  new_df = df[column_name].apply(pd.Series)\n",
      "C:\\Users\\jolka\\OneDrive\\Dokumenty\\Inzynierka\\ML-for-TTRPG-game-design\\analysis_functions.py:38: FutureWarning: The default dtype for empty Series will be 'object' instead of 'float64' in a future version. Specify a dtype explicitly to silence this warning.\n",
      "  new_df = df[column_name].apply(pd.Series)\n",
      "C:\\Users\\jolka\\OneDrive\\Dokumenty\\Inzynierka\\ML-for-TTRPG-game-design\\analysis_functions.py:38: FutureWarning: The default dtype for empty Series will be 'object' instead of 'float64' in a future version. Specify a dtype explicitly to silence this warning.\n",
      "  new_df = df[column_name].apply(pd.Series)\n",
      "C:\\Users\\jolka\\OneDrive\\Dokumenty\\Inzynierka\\ML-for-TTRPG-game-design\\analysis_functions.py:38: FutureWarning: The default dtype for empty Series will be 'object' instead of 'float64' in a future version. Specify a dtype explicitly to silence this warning.\n",
      "  new_df = df[column_name].apply(pd.Series)\n",
      "C:\\Users\\jolka\\OneDrive\\Dokumenty\\Inzynierka\\ML-for-TTRPG-game-design\\analysis_functions.py:38: FutureWarning: The default dtype for empty Series will be 'object' instead of 'float64' in a future version. Specify a dtype explicitly to silence this warning.\n",
      "  new_df = df[column_name].apply(pd.Series)\n",
      "C:\\Users\\jolka\\OneDrive\\Dokumenty\\Inzynierka\\ML-for-TTRPG-game-design\\analysis_functions.py:38: FutureWarning: The default dtype for empty Series will be 'object' instead of 'float64' in a future version. Specify a dtype explicitly to silence this warning.\n",
      "  new_df = df[column_name].apply(pd.Series)\n",
      "C:\\Users\\jolka\\OneDrive\\Dokumenty\\Inzynierka\\ML-for-TTRPG-game-design\\analysis_functions.py:38: FutureWarning: The default dtype for empty Series will be 'object' instead of 'float64' in a future version. Specify a dtype explicitly to silence this warning.\n",
      "  new_df = df[column_name].apply(pd.Series)\n",
      "C:\\Users\\jolka\\OneDrive\\Dokumenty\\Inzynierka\\ML-for-TTRPG-game-design\\analysis_functions.py:38: FutureWarning: The default dtype for empty Series will be 'object' instead of 'float64' in a future version. Specify a dtype explicitly to silence this warning.\n",
      "  new_df = df[column_name].apply(pd.Series)\n",
      "C:\\Users\\jolka\\OneDrive\\Dokumenty\\Inzynierka\\ML-for-TTRPG-game-design\\analysis_functions.py:38: FutureWarning: The default dtype for empty Series will be 'object' instead of 'float64' in a future version. Specify a dtype explicitly to silence this warning.\n",
      "  new_df = df[column_name].apply(pd.Series)\n",
      "C:\\Users\\jolka\\OneDrive\\Dokumenty\\Inzynierka\\ML-for-TTRPG-game-design\\analysis_functions.py:38: FutureWarning: The default dtype for empty Series will be 'object' instead of 'float64' in a future version. Specify a dtype explicitly to silence this warning.\n",
      "  new_df = df[column_name].apply(pd.Series)\n",
      "C:\\Users\\jolka\\OneDrive\\Dokumenty\\Inzynierka\\ML-for-TTRPG-game-design\\analysis_functions.py:38: FutureWarning: The default dtype for empty Series will be 'object' instead of 'float64' in a future version. Specify a dtype explicitly to silence this warning.\n",
      "  new_df = df[column_name].apply(pd.Series)\n",
      "C:\\Users\\jolka\\OneDrive\\Dokumenty\\Inzynierka\\ML-for-TTRPG-game-design\\analysis_functions.py:38: FutureWarning: The default dtype for empty Series will be 'object' instead of 'float64' in a future version. Specify a dtype explicitly to silence this warning.\n",
      "  new_df = df[column_name].apply(pd.Series)\n",
      "C:\\Users\\jolka\\OneDrive\\Dokumenty\\Inzynierka\\ML-for-TTRPG-game-design\\analysis_functions.py:38: FutureWarning: The default dtype for empty Series will be 'object' instead of 'float64' in a future version. Specify a dtype explicitly to silence this warning.\n",
      "  new_df = df[column_name].apply(pd.Series)\n",
      "C:\\Users\\jolka\\OneDrive\\Dokumenty\\Inzynierka\\ML-for-TTRPG-game-design\\analysis_functions.py:38: FutureWarning: The default dtype for empty Series will be 'object' instead of 'float64' in a future version. Specify a dtype explicitly to silence this warning.\n",
      "  new_df = df[column_name].apply(pd.Series)\n",
      "C:\\Users\\jolka\\OneDrive\\Dokumenty\\Inzynierka\\ML-for-TTRPG-game-design\\analysis_functions.py:38: FutureWarning: The default dtype for empty Series will be 'object' instead of 'float64' in a future version. Specify a dtype explicitly to silence this warning.\n",
      "  new_df = df[column_name].apply(pd.Series)\n",
      "C:\\Users\\jolka\\OneDrive\\Dokumenty\\Inzynierka\\ML-for-TTRPG-game-design\\analysis_functions.py:38: FutureWarning: The default dtype for empty Series will be 'object' instead of 'float64' in a future version. Specify a dtype explicitly to silence this warning.\n",
      "  new_df = df[column_name].apply(pd.Series)\n",
      "C:\\Users\\jolka\\OneDrive\\Dokumenty\\Inzynierka\\ML-for-TTRPG-game-design\\analysis_functions.py:38: FutureWarning: The default dtype for empty Series will be 'object' instead of 'float64' in a future version. Specify a dtype explicitly to silence this warning.\n",
      "  new_df = df[column_name].apply(pd.Series)\n",
      "C:\\Users\\jolka\\OneDrive\\Dokumenty\\Inzynierka\\ML-for-TTRPG-game-design\\analysis_functions.py:38: FutureWarning: The default dtype for empty Series will be 'object' instead of 'float64' in a future version. Specify a dtype explicitly to silence this warning.\n",
      "  new_df = df[column_name].apply(pd.Series)\n",
      "C:\\Users\\jolka\\OneDrive\\Dokumenty\\Inzynierka\\ML-for-TTRPG-game-design\\analysis_functions.py:38: FutureWarning: The default dtype for empty Series will be 'object' instead of 'float64' in a future version. Specify a dtype explicitly to silence this warning.\n",
      "  new_df = df[column_name].apply(pd.Series)\n",
      "C:\\Users\\jolka\\OneDrive\\Dokumenty\\Inzynierka\\ML-for-TTRPG-game-design\\analysis_functions.py:38: FutureWarning: The default dtype for empty Series will be 'object' instead of 'float64' in a future version. Specify a dtype explicitly to silence this warning.\n",
      "  new_df = df[column_name].apply(pd.Series)\n",
      "C:\\Users\\jolka\\OneDrive\\Dokumenty\\Inzynierka\\ML-for-TTRPG-game-design\\analysis_functions.py:38: FutureWarning: The default dtype for empty Series will be 'object' instead of 'float64' in a future version. Specify a dtype explicitly to silence this warning.\n",
      "  new_df = df[column_name].apply(pd.Series)\n",
      "C:\\Users\\jolka\\OneDrive\\Dokumenty\\Inzynierka\\ML-for-TTRPG-game-design\\analysis_functions.py:38: FutureWarning: The default dtype for empty Series will be 'object' instead of 'float64' in a future version. Specify a dtype explicitly to silence this warning.\n",
      "  new_df = df[column_name].apply(pd.Series)\n",
      "C:\\Users\\jolka\\OneDrive\\Dokumenty\\Inzynierka\\ML-for-TTRPG-game-design\\analysis_functions.py:38: FutureWarning: The default dtype for empty Series will be 'object' instead of 'float64' in a future version. Specify a dtype explicitly to silence this warning.\n",
      "  new_df = df[column_name].apply(pd.Series)\n",
      "C:\\Users\\jolka\\OneDrive\\Dokumenty\\Inzynierka\\ML-for-TTRPG-game-design\\analysis_functions.py:38: FutureWarning: The default dtype for empty Series will be 'object' instead of 'float64' in a future version. Specify a dtype explicitly to silence this warning.\n",
      "  new_df = df[column_name].apply(pd.Series)\n",
      "C:\\Users\\jolka\\OneDrive\\Dokumenty\\Inzynierka\\ML-for-TTRPG-game-design\\analysis_functions.py:38: FutureWarning: The default dtype for empty Series will be 'object' instead of 'float64' in a future version. Specify a dtype explicitly to silence this warning.\n",
      "  new_df = df[column_name].apply(pd.Series)\n",
      "C:\\Users\\jolka\\OneDrive\\Dokumenty\\Inzynierka\\ML-for-TTRPG-game-design\\analysis_functions.py:38: FutureWarning: The default dtype for empty Series will be 'object' instead of 'float64' in a future version. Specify a dtype explicitly to silence this warning.\n",
      "  new_df = df[column_name].apply(pd.Series)\n",
      "C:\\Users\\jolka\\OneDrive\\Dokumenty\\Inzynierka\\ML-for-TTRPG-game-design\\analysis_functions.py:38: FutureWarning: The default dtype for empty Series will be 'object' instead of 'float64' in a future version. Specify a dtype explicitly to silence this warning.\n",
      "  new_df = df[column_name].apply(pd.Series)\n",
      "C:\\Users\\jolka\\OneDrive\\Dokumenty\\Inzynierka\\ML-for-TTRPG-game-design\\analysis_functions.py:38: FutureWarning: The default dtype for empty Series will be 'object' instead of 'float64' in a future version. Specify a dtype explicitly to silence this warning.\n",
      "  new_df = df[column_name].apply(pd.Series)\n",
      "C:\\Users\\jolka\\OneDrive\\Dokumenty\\Inzynierka\\ML-for-TTRPG-game-design\\analysis_functions.py:38: FutureWarning: The default dtype for empty Series will be 'object' instead of 'float64' in a future version. Specify a dtype explicitly to silence this warning.\n",
      "  new_df = df[column_name].apply(pd.Series)\n",
      "C:\\Users\\jolka\\OneDrive\\Dokumenty\\Inzynierka\\ML-for-TTRPG-game-design\\analysis_functions.py:38: FutureWarning: The default dtype for empty Series will be 'object' instead of 'float64' in a future version. Specify a dtype explicitly to silence this warning.\n",
      "  new_df = df[column_name].apply(pd.Series)\n",
      "C:\\Users\\jolka\\OneDrive\\Dokumenty\\Inzynierka\\ML-for-TTRPG-game-design\\analysis_functions.py:38: FutureWarning: The default dtype for empty Series will be 'object' instead of 'float64' in a future version. Specify a dtype explicitly to silence this warning.\n",
      "  new_df = df[column_name].apply(pd.Series)\n",
      "C:\\Users\\jolka\\OneDrive\\Dokumenty\\Inzynierka\\ML-for-TTRPG-game-design\\analysis_functions.py:38: FutureWarning: The default dtype for empty Series will be 'object' instead of 'float64' in a future version. Specify a dtype explicitly to silence this warning.\n",
      "  new_df = df[column_name].apply(pd.Series)\n",
      "C:\\Users\\jolka\\OneDrive\\Dokumenty\\Inzynierka\\ML-for-TTRPG-game-design\\analysis_functions.py:38: FutureWarning: The default dtype for empty Series will be 'object' instead of 'float64' in a future version. Specify a dtype explicitly to silence this warning.\n",
      "  new_df = df[column_name].apply(pd.Series)\n",
      "C:\\Users\\jolka\\OneDrive\\Dokumenty\\Inzynierka\\ML-for-TTRPG-game-design\\analysis_functions.py:38: FutureWarning: The default dtype for empty Series will be 'object' instead of 'float64' in a future version. Specify a dtype explicitly to silence this warning.\n",
      "  new_df = df[column_name].apply(pd.Series)\n",
      "C:\\Users\\jolka\\OneDrive\\Dokumenty\\Inzynierka\\ML-for-TTRPG-game-design\\analysis_functions.py:38: FutureWarning: The default dtype for empty Series will be 'object' instead of 'float64' in a future version. Specify a dtype explicitly to silence this warning.\n",
      "  new_df = df[column_name].apply(pd.Series)\n",
      "C:\\Users\\jolka\\OneDrive\\Dokumenty\\Inzynierka\\ML-for-TTRPG-game-design\\analysis_functions.py:38: FutureWarning: The default dtype for empty Series will be 'object' instead of 'float64' in a future version. Specify a dtype explicitly to silence this warning.\n",
      "  new_df = df[column_name].apply(pd.Series)\n",
      "C:\\Users\\jolka\\OneDrive\\Dokumenty\\Inzynierka\\ML-for-TTRPG-game-design\\analysis_functions.py:38: FutureWarning: The default dtype for empty Series will be 'object' instead of 'float64' in a future version. Specify a dtype explicitly to silence this warning.\n",
      "  new_df = df[column_name].apply(pd.Series)\n",
      "C:\\Users\\jolka\\OneDrive\\Dokumenty\\Inzynierka\\ML-for-TTRPG-game-design\\analysis_functions.py:38: FutureWarning: The default dtype for empty Series will be 'object' instead of 'float64' in a future version. Specify a dtype explicitly to silence this warning.\n",
      "  new_df = df[column_name].apply(pd.Series)\n",
      "C:\\Users\\jolka\\OneDrive\\Dokumenty\\Inzynierka\\ML-for-TTRPG-game-design\\analysis_functions.py:38: FutureWarning: The default dtype for empty Series will be 'object' instead of 'float64' in a future version. Specify a dtype explicitly to silence this warning.\n",
      "  new_df = df[column_name].apply(pd.Series)\n",
      "C:\\Users\\jolka\\OneDrive\\Dokumenty\\Inzynierka\\ML-for-TTRPG-game-design\\analysis_functions.py:38: FutureWarning: The default dtype for empty Series will be 'object' instead of 'float64' in a future version. Specify a dtype explicitly to silence this warning.\n",
      "  new_df = df[column_name].apply(pd.Series)\n",
      "C:\\Users\\jolka\\OneDrive\\Dokumenty\\Inzynierka\\ML-for-TTRPG-game-design\\analysis_functions.py:38: FutureWarning: The default dtype for empty Series will be 'object' instead of 'float64' in a future version. Specify a dtype explicitly to silence this warning.\n",
      "  new_df = df[column_name].apply(pd.Series)\n",
      "C:\\Users\\jolka\\OneDrive\\Dokumenty\\Inzynierka\\ML-for-TTRPG-game-design\\analysis_functions.py:38: FutureWarning: The default dtype for empty Series will be 'object' instead of 'float64' in a future version. Specify a dtype explicitly to silence this warning.\n",
      "  new_df = df[column_name].apply(pd.Series)\n",
      "C:\\Users\\jolka\\OneDrive\\Dokumenty\\Inzynierka\\ML-for-TTRPG-game-design\\analysis_functions.py:38: FutureWarning: The default dtype for empty Series will be 'object' instead of 'float64' in a future version. Specify a dtype explicitly to silence this warning.\n",
      "  new_df = df[column_name].apply(pd.Series)\n",
      "C:\\Users\\jolka\\OneDrive\\Dokumenty\\Inzynierka\\ML-for-TTRPG-game-design\\analysis_functions.py:38: FutureWarning: The default dtype for empty Series will be 'object' instead of 'float64' in a future version. Specify a dtype explicitly to silence this warning.\n",
      "  new_df = df[column_name].apply(pd.Series)\n",
      "C:\\Users\\jolka\\OneDrive\\Dokumenty\\Inzynierka\\ML-for-TTRPG-game-design\\analysis_functions.py:38: FutureWarning: The default dtype for empty Series will be 'object' instead of 'float64' in a future version. Specify a dtype explicitly to silence this warning.\n",
      "  new_df = df[column_name].apply(pd.Series)\n",
      "C:\\Users\\jolka\\OneDrive\\Dokumenty\\Inzynierka\\ML-for-TTRPG-game-design\\analysis_functions.py:38: FutureWarning: The default dtype for empty Series will be 'object' instead of 'float64' in a future version. Specify a dtype explicitly to silence this warning.\n",
      "  new_df = df[column_name].apply(pd.Series)\n",
      "C:\\Users\\jolka\\OneDrive\\Dokumenty\\Inzynierka\\ML-for-TTRPG-game-design\\analysis_functions.py:38: FutureWarning: The default dtype for empty Series will be 'object' instead of 'float64' in a future version. Specify a dtype explicitly to silence this warning.\n",
      "  new_df = df[column_name].apply(pd.Series)\n",
      "C:\\Users\\jolka\\OneDrive\\Dokumenty\\Inzynierka\\ML-for-TTRPG-game-design\\analysis_functions.py:38: FutureWarning: The default dtype for empty Series will be 'object' instead of 'float64' in a future version. Specify a dtype explicitly to silence this warning.\n",
      "  new_df = df[column_name].apply(pd.Series)\n",
      "C:\\Users\\jolka\\OneDrive\\Dokumenty\\Inzynierka\\ML-for-TTRPG-game-design\\analysis_functions.py:38: FutureWarning: The default dtype for empty Series will be 'object' instead of 'float64' in a future version. Specify a dtype explicitly to silence this warning.\n",
      "  new_df = df[column_name].apply(pd.Series)\n",
      "C:\\Users\\jolka\\OneDrive\\Dokumenty\\Inzynierka\\ML-for-TTRPG-game-design\\analysis_functions.py:38: FutureWarning: The default dtype for empty Series will be 'object' instead of 'float64' in a future version. Specify a dtype explicitly to silence this warning.\n",
      "  new_df = df[column_name].apply(pd.Series)\n",
      "C:\\Users\\jolka\\OneDrive\\Dokumenty\\Inzynierka\\ML-for-TTRPG-game-design\\analysis_functions.py:38: FutureWarning: The default dtype for empty Series will be 'object' instead of 'float64' in a future version. Specify a dtype explicitly to silence this warning.\n",
      "  new_df = df[column_name].apply(pd.Series)\n",
      "C:\\Users\\jolka\\OneDrive\\Dokumenty\\Inzynierka\\ML-for-TTRPG-game-design\\analysis_functions.py:38: FutureWarning: The default dtype for empty Series will be 'object' instead of 'float64' in a future version. Specify a dtype explicitly to silence this warning.\n",
      "  new_df = df[column_name].apply(pd.Series)\n",
      "C:\\Users\\jolka\\OneDrive\\Dokumenty\\Inzynierka\\ML-for-TTRPG-game-design\\analysis_functions.py:38: FutureWarning: The default dtype for empty Series will be 'object' instead of 'float64' in a future version. Specify a dtype explicitly to silence this warning.\n",
      "  new_df = df[column_name].apply(pd.Series)\n",
      "C:\\Users\\jolka\\OneDrive\\Dokumenty\\Inzynierka\\ML-for-TTRPG-game-design\\analysis_functions.py:38: FutureWarning: The default dtype for empty Series will be 'object' instead of 'float64' in a future version. Specify a dtype explicitly to silence this warning.\n",
      "  new_df = df[column_name].apply(pd.Series)\n",
      "C:\\Users\\jolka\\OneDrive\\Dokumenty\\Inzynierka\\ML-for-TTRPG-game-design\\analysis_functions.py:38: FutureWarning: The default dtype for empty Series will be 'object' instead of 'float64' in a future version. Specify a dtype explicitly to silence this warning.\n",
      "  new_df = df[column_name].apply(pd.Series)\n",
      "C:\\Users\\jolka\\OneDrive\\Dokumenty\\Inzynierka\\ML-for-TTRPG-game-design\\analysis_functions.py:38: FutureWarning: The default dtype for empty Series will be 'object' instead of 'float64' in a future version. Specify a dtype explicitly to silence this warning.\n",
      "  new_df = df[column_name].apply(pd.Series)\n",
      "C:\\Users\\jolka\\OneDrive\\Dokumenty\\Inzynierka\\ML-for-TTRPG-game-design\\analysis_functions.py:38: FutureWarning: The default dtype for empty Series will be 'object' instead of 'float64' in a future version. Specify a dtype explicitly to silence this warning.\n",
      "  new_df = df[column_name].apply(pd.Series)\n",
      "C:\\Users\\jolka\\OneDrive\\Dokumenty\\Inzynierka\\ML-for-TTRPG-game-design\\analysis_functions.py:38: FutureWarning: The default dtype for empty Series will be 'object' instead of 'float64' in a future version. Specify a dtype explicitly to silence this warning.\n",
      "  new_df = df[column_name].apply(pd.Series)\n",
      "C:\\Users\\jolka\\OneDrive\\Dokumenty\\Inzynierka\\ML-for-TTRPG-game-design\\analysis_functions.py:38: FutureWarning: The default dtype for empty Series will be 'object' instead of 'float64' in a future version. Specify a dtype explicitly to silence this warning.\n",
      "  new_df = df[column_name].apply(pd.Series)\n",
      "C:\\Users\\jolka\\OneDrive\\Dokumenty\\Inzynierka\\ML-for-TTRPG-game-design\\analysis_functions.py:38: FutureWarning: The default dtype for empty Series will be 'object' instead of 'float64' in a future version. Specify a dtype explicitly to silence this warning.\n",
      "  new_df = df[column_name].apply(pd.Series)\n",
      "C:\\Users\\jolka\\OneDrive\\Dokumenty\\Inzynierka\\ML-for-TTRPG-game-design\\analysis_functions.py:38: FutureWarning: The default dtype for empty Series will be 'object' instead of 'float64' in a future version. Specify a dtype explicitly to silence this warning.\n",
      "  new_df = df[column_name].apply(pd.Series)\n",
      "C:\\Users\\jolka\\OneDrive\\Dokumenty\\Inzynierka\\ML-for-TTRPG-game-design\\analysis_functions.py:38: FutureWarning: The default dtype for empty Series will be 'object' instead of 'float64' in a future version. Specify a dtype explicitly to silence this warning.\n",
      "  new_df = df[column_name].apply(pd.Series)\n",
      "C:\\Users\\jolka\\OneDrive\\Dokumenty\\Inzynierka\\ML-for-TTRPG-game-design\\analysis_functions.py:38: FutureWarning: The default dtype for empty Series will be 'object' instead of 'float64' in a future version. Specify a dtype explicitly to silence this warning.\n",
      "  new_df = df[column_name].apply(pd.Series)\n",
      "C:\\Users\\jolka\\OneDrive\\Dokumenty\\Inzynierka\\ML-for-TTRPG-game-design\\analysis_functions.py:38: FutureWarning: The default dtype for empty Series will be 'object' instead of 'float64' in a future version. Specify a dtype explicitly to silence this warning.\n",
      "  new_df = df[column_name].apply(pd.Series)\n",
      "C:\\Users\\jolka\\OneDrive\\Dokumenty\\Inzynierka\\ML-for-TTRPG-game-design\\analysis_functions.py:38: FutureWarning: The default dtype for empty Series will be 'object' instead of 'float64' in a future version. Specify a dtype explicitly to silence this warning.\n",
      "  new_df = df[column_name].apply(pd.Series)\n",
      "C:\\Users\\jolka\\OneDrive\\Dokumenty\\Inzynierka\\ML-for-TTRPG-game-design\\analysis_functions.py:38: FutureWarning: The default dtype for empty Series will be 'object' instead of 'float64' in a future version. Specify a dtype explicitly to silence this warning.\n",
      "  new_df = df[column_name].apply(pd.Series)\n",
      "C:\\Users\\jolka\\OneDrive\\Dokumenty\\Inzynierka\\ML-for-TTRPG-game-design\\analysis_functions.py:38: FutureWarning: The default dtype for empty Series will be 'object' instead of 'float64' in a future version. Specify a dtype explicitly to silence this warning.\n",
      "  new_df = df[column_name].apply(pd.Series)\n",
      "C:\\Users\\jolka\\OneDrive\\Dokumenty\\Inzynierka\\ML-for-TTRPG-game-design\\analysis_functions.py:38: FutureWarning: The default dtype for empty Series will be 'object' instead of 'float64' in a future version. Specify a dtype explicitly to silence this warning.\n",
      "  new_df = df[column_name].apply(pd.Series)\n",
      "C:\\Users\\jolka\\OneDrive\\Dokumenty\\Inzynierka\\ML-for-TTRPG-game-design\\analysis_functions.py:38: FutureWarning: The default dtype for empty Series will be 'object' instead of 'float64' in a future version. Specify a dtype explicitly to silence this warning.\n",
      "  new_df = df[column_name].apply(pd.Series)\n",
      "C:\\Users\\jolka\\OneDrive\\Dokumenty\\Inzynierka\\ML-for-TTRPG-game-design\\analysis_functions.py:38: FutureWarning: The default dtype for empty Series will be 'object' instead of 'float64' in a future version. Specify a dtype explicitly to silence this warning.\n",
      "  new_df = df[column_name].apply(pd.Series)\n",
      "C:\\Users\\jolka\\OneDrive\\Dokumenty\\Inzynierka\\ML-for-TTRPG-game-design\\analysis_functions.py:38: FutureWarning: The default dtype for empty Series will be 'object' instead of 'float64' in a future version. Specify a dtype explicitly to silence this warning.\n",
      "  new_df = df[column_name].apply(pd.Series)\n",
      "C:\\Users\\jolka\\OneDrive\\Dokumenty\\Inzynierka\\ML-for-TTRPG-game-design\\analysis_functions.py:38: FutureWarning: The default dtype for empty Series will be 'object' instead of 'float64' in a future version. Specify a dtype explicitly to silence this warning.\n",
      "  new_df = df[column_name].apply(pd.Series)\n",
      "C:\\Users\\jolka\\OneDrive\\Dokumenty\\Inzynierka\\ML-for-TTRPG-game-design\\analysis_functions.py:38: FutureWarning: The default dtype for empty Series will be 'object' instead of 'float64' in a future version. Specify a dtype explicitly to silence this warning.\n",
      "  new_df = df[column_name].apply(pd.Series)\n",
      "C:\\Users\\jolka\\OneDrive\\Dokumenty\\Inzynierka\\ML-for-TTRPG-game-design\\analysis_functions.py:38: FutureWarning: The default dtype for empty Series will be 'object' instead of 'float64' in a future version. Specify a dtype explicitly to silence this warning.\n",
      "  new_df = df[column_name].apply(pd.Series)\n",
      "C:\\Users\\jolka\\OneDrive\\Dokumenty\\Inzynierka\\ML-for-TTRPG-game-design\\analysis_functions.py:38: FutureWarning: The default dtype for empty Series will be 'object' instead of 'float64' in a future version. Specify a dtype explicitly to silence this warning.\n",
      "  new_df = df[column_name].apply(pd.Series)\n",
      "C:\\Users\\jolka\\OneDrive\\Dokumenty\\Inzynierka\\ML-for-TTRPG-game-design\\analysis_functions.py:38: FutureWarning: The default dtype for empty Series will be 'object' instead of 'float64' in a future version. Specify a dtype explicitly to silence this warning.\n",
      "  new_df = df[column_name].apply(pd.Series)\n",
      "C:\\Users\\jolka\\OneDrive\\Dokumenty\\Inzynierka\\ML-for-TTRPG-game-design\\analysis_functions.py:38: FutureWarning: The default dtype for empty Series will be 'object' instead of 'float64' in a future version. Specify a dtype explicitly to silence this warning.\n",
      "  new_df = df[column_name].apply(pd.Series)\n",
      "C:\\Users\\jolka\\OneDrive\\Dokumenty\\Inzynierka\\ML-for-TTRPG-game-design\\analysis_functions.py:38: FutureWarning: The default dtype for empty Series will be 'object' instead of 'float64' in a future version. Specify a dtype explicitly to silence this warning.\n",
      "  new_df = df[column_name].apply(pd.Series)\n",
      "C:\\Users\\jolka\\OneDrive\\Dokumenty\\Inzynierka\\ML-for-TTRPG-game-design\\analysis_functions.py:38: FutureWarning: The default dtype for empty Series will be 'object' instead of 'float64' in a future version. Specify a dtype explicitly to silence this warning.\n",
      "  new_df = df[column_name].apply(pd.Series)\n",
      "C:\\Users\\jolka\\OneDrive\\Dokumenty\\Inzynierka\\ML-for-TTRPG-game-design\\analysis_functions.py:38: FutureWarning: The default dtype for empty Series will be 'object' instead of 'float64' in a future version. Specify a dtype explicitly to silence this warning.\n",
      "  new_df = df[column_name].apply(pd.Series)\n",
      "C:\\Users\\jolka\\OneDrive\\Dokumenty\\Inzynierka\\ML-for-TTRPG-game-design\\analysis_functions.py:38: FutureWarning: The default dtype for empty Series will be 'object' instead of 'float64' in a future version. Specify a dtype explicitly to silence this warning.\n",
      "  new_df = df[column_name].apply(pd.Series)\n",
      "C:\\Users\\jolka\\OneDrive\\Dokumenty\\Inzynierka\\ML-for-TTRPG-game-design\\analysis_functions.py:38: FutureWarning: The default dtype for empty Series will be 'object' instead of 'float64' in a future version. Specify a dtype explicitly to silence this warning.\n",
      "  new_df = df[column_name].apply(pd.Series)\n",
      "C:\\Users\\jolka\\OneDrive\\Dokumenty\\Inzynierka\\ML-for-TTRPG-game-design\\analysis_functions.py:38: FutureWarning: The default dtype for empty Series will be 'object' instead of 'float64' in a future version. Specify a dtype explicitly to silence this warning.\n",
      "  new_df = df[column_name].apply(pd.Series)\n",
      "C:\\Users\\jolka\\OneDrive\\Dokumenty\\Inzynierka\\ML-for-TTRPG-game-design\\analysis_functions.py:38: FutureWarning: The default dtype for empty Series will be 'object' instead of 'float64' in a future version. Specify a dtype explicitly to silence this warning.\n",
      "  new_df = df[column_name].apply(pd.Series)\n",
      "C:\\Users\\jolka\\OneDrive\\Dokumenty\\Inzynierka\\ML-for-TTRPG-game-design\\analysis_functions.py:38: FutureWarning: The default dtype for empty Series will be 'object' instead of 'float64' in a future version. Specify a dtype explicitly to silence this warning.\n",
      "  new_df = df[column_name].apply(pd.Series)\n",
      "C:\\Users\\jolka\\OneDrive\\Dokumenty\\Inzynierka\\ML-for-TTRPG-game-design\\analysis_functions.py:38: FutureWarning: The default dtype for empty Series will be 'object' instead of 'float64' in a future version. Specify a dtype explicitly to silence this warning.\n",
      "  new_df = df[column_name].apply(pd.Series)\n",
      "C:\\Users\\jolka\\OneDrive\\Dokumenty\\Inzynierka\\ML-for-TTRPG-game-design\\analysis_functions.py:38: FutureWarning: The default dtype for empty Series will be 'object' instead of 'float64' in a future version. Specify a dtype explicitly to silence this warning.\n",
      "  new_df = df[column_name].apply(pd.Series)\n",
      "C:\\Users\\jolka\\OneDrive\\Dokumenty\\Inzynierka\\ML-for-TTRPG-game-design\\analysis_functions.py:38: FutureWarning: The default dtype for empty Series will be 'object' instead of 'float64' in a future version. Specify a dtype explicitly to silence this warning.\n",
      "  new_df = df[column_name].apply(pd.Series)\n",
      "C:\\Users\\jolka\\OneDrive\\Dokumenty\\Inzynierka\\ML-for-TTRPG-game-design\\analysis_functions.py:38: FutureWarning: The default dtype for empty Series will be 'object' instead of 'float64' in a future version. Specify a dtype explicitly to silence this warning.\n",
      "  new_df = df[column_name].apply(pd.Series)\n",
      "C:\\Users\\jolka\\OneDrive\\Dokumenty\\Inzynierka\\ML-for-TTRPG-game-design\\analysis_functions.py:38: FutureWarning: The default dtype for empty Series will be 'object' instead of 'float64' in a future version. Specify a dtype explicitly to silence this warning.\n",
      "  new_df = df[column_name].apply(pd.Series)\n",
      "C:\\Users\\jolka\\OneDrive\\Dokumenty\\Inzynierka\\ML-for-TTRPG-game-design\\analysis_functions.py:38: FutureWarning: The default dtype for empty Series will be 'object' instead of 'float64' in a future version. Specify a dtype explicitly to silence this warning.\n",
      "  new_df = df[column_name].apply(pd.Series)\n",
      "C:\\Users\\jolka\\OneDrive\\Dokumenty\\Inzynierka\\ML-for-TTRPG-game-design\\analysis_functions.py:38: FutureWarning: The default dtype for empty Series will be 'object' instead of 'float64' in a future version. Specify a dtype explicitly to silence this warning.\n",
      "  new_df = df[column_name].apply(pd.Series)\n",
      "C:\\Users\\jolka\\OneDrive\\Dokumenty\\Inzynierka\\ML-for-TTRPG-game-design\\analysis_functions.py:38: FutureWarning: The default dtype for empty Series will be 'object' instead of 'float64' in a future version. Specify a dtype explicitly to silence this warning.\n",
      "  new_df = df[column_name].apply(pd.Series)\n",
      "C:\\Users\\jolka\\OneDrive\\Dokumenty\\Inzynierka\\ML-for-TTRPG-game-design\\analysis_functions.py:38: FutureWarning: The default dtype for empty Series will be 'object' instead of 'float64' in a future version. Specify a dtype explicitly to silence this warning.\n",
      "  new_df = df[column_name].apply(pd.Series)\n",
      "C:\\Users\\jolka\\OneDrive\\Dokumenty\\Inzynierka\\ML-for-TTRPG-game-design\\analysis_functions.py:38: FutureWarning: The default dtype for empty Series will be 'object' instead of 'float64' in a future version. Specify a dtype explicitly to silence this warning.\n",
      "  new_df = df[column_name].apply(pd.Series)\n",
      "C:\\Users\\jolka\\OneDrive\\Dokumenty\\Inzynierka\\ML-for-TTRPG-game-design\\analysis_functions.py:38: FutureWarning: The default dtype for empty Series will be 'object' instead of 'float64' in a future version. Specify a dtype explicitly to silence this warning.\n",
      "  new_df = df[column_name].apply(pd.Series)\n",
      "C:\\Users\\jolka\\OneDrive\\Dokumenty\\Inzynierka\\ML-for-TTRPG-game-design\\analysis_functions.py:38: FutureWarning: The default dtype for empty Series will be 'object' instead of 'float64' in a future version. Specify a dtype explicitly to silence this warning.\n",
      "  new_df = df[column_name].apply(pd.Series)\n",
      "C:\\Users\\jolka\\OneDrive\\Dokumenty\\Inzynierka\\ML-for-TTRPG-game-design\\analysis_functions.py:38: FutureWarning: The default dtype for empty Series will be 'object' instead of 'float64' in a future version. Specify a dtype explicitly to silence this warning.\n",
      "  new_df = df[column_name].apply(pd.Series)\n",
      "C:\\Users\\jolka\\OneDrive\\Dokumenty\\Inzynierka\\ML-for-TTRPG-game-design\\analysis_functions.py:38: FutureWarning: The default dtype for empty Series will be 'object' instead of 'float64' in a future version. Specify a dtype explicitly to silence this warning.\n",
      "  new_df = df[column_name].apply(pd.Series)\n",
      "C:\\Users\\jolka\\OneDrive\\Dokumenty\\Inzynierka\\ML-for-TTRPG-game-design\\analysis_functions.py:38: FutureWarning: The default dtype for empty Series will be 'object' instead of 'float64' in a future version. Specify a dtype explicitly to silence this warning.\n",
      "  new_df = df[column_name].apply(pd.Series)\n",
      "C:\\Users\\jolka\\OneDrive\\Dokumenty\\Inzynierka\\ML-for-TTRPG-game-design\\analysis_functions.py:38: FutureWarning: The default dtype for empty Series will be 'object' instead of 'float64' in a future version. Specify a dtype explicitly to silence this warning.\n",
      "  new_df = df[column_name].apply(pd.Series)\n",
      "C:\\Users\\jolka\\OneDrive\\Dokumenty\\Inzynierka\\ML-for-TTRPG-game-design\\analysis_functions.py:38: FutureWarning: The default dtype for empty Series will be 'object' instead of 'float64' in a future version. Specify a dtype explicitly to silence this warning.\n",
      "  new_df = df[column_name].apply(pd.Series)\n",
      "C:\\Users\\jolka\\OneDrive\\Dokumenty\\Inzynierka\\ML-for-TTRPG-game-design\\analysis_functions.py:38: FutureWarning: The default dtype for empty Series will be 'object' instead of 'float64' in a future version. Specify a dtype explicitly to silence this warning.\n",
      "  new_df = df[column_name].apply(pd.Series)\n",
      "C:\\Users\\jolka\\OneDrive\\Dokumenty\\Inzynierka\\ML-for-TTRPG-game-design\\analysis_functions.py:38: FutureWarning: The default dtype for empty Series will be 'object' instead of 'float64' in a future version. Specify a dtype explicitly to silence this warning.\n",
      "  new_df = df[column_name].apply(pd.Series)\n",
      "C:\\Users\\jolka\\OneDrive\\Dokumenty\\Inzynierka\\ML-for-TTRPG-game-design\\analysis_functions.py:38: FutureWarning: The default dtype for empty Series will be 'object' instead of 'float64' in a future version. Specify a dtype explicitly to silence this warning.\n",
      "  new_df = df[column_name].apply(pd.Series)\n",
      "C:\\Users\\jolka\\OneDrive\\Dokumenty\\Inzynierka\\ML-for-TTRPG-game-design\\analysis_functions.py:38: FutureWarning: The default dtype for empty Series will be 'object' instead of 'float64' in a future version. Specify a dtype explicitly to silence this warning.\n",
      "  new_df = df[column_name].apply(pd.Series)\n",
      "C:\\Users\\jolka\\OneDrive\\Dokumenty\\Inzynierka\\ML-for-TTRPG-game-design\\analysis_functions.py:38: FutureWarning: The default dtype for empty Series will be 'object' instead of 'float64' in a future version. Specify a dtype explicitly to silence this warning.\n",
      "  new_df = df[column_name].apply(pd.Series)\n",
      "C:\\Users\\jolka\\OneDrive\\Dokumenty\\Inzynierka\\ML-for-TTRPG-game-design\\analysis_functions.py:38: FutureWarning: The default dtype for empty Series will be 'object' instead of 'float64' in a future version. Specify a dtype explicitly to silence this warning.\n",
      "  new_df = df[column_name].apply(pd.Series)\n",
      "C:\\Users\\jolka\\OneDrive\\Dokumenty\\Inzynierka\\ML-for-TTRPG-game-design\\analysis_functions.py:38: FutureWarning: The default dtype for empty Series will be 'object' instead of 'float64' in a future version. Specify a dtype explicitly to silence this warning.\n",
      "  new_df = df[column_name].apply(pd.Series)\n",
      "C:\\Users\\jolka\\OneDrive\\Dokumenty\\Inzynierka\\ML-for-TTRPG-game-design\\analysis_functions.py:38: FutureWarning: The default dtype for empty Series will be 'object' instead of 'float64' in a future version. Specify a dtype explicitly to silence this warning.\n",
      "  new_df = df[column_name].apply(pd.Series)\n",
      "C:\\Users\\jolka\\OneDrive\\Dokumenty\\Inzynierka\\ML-for-TTRPG-game-design\\analysis_functions.py:38: FutureWarning: The default dtype for empty Series will be 'object' instead of 'float64' in a future version. Specify a dtype explicitly to silence this warning.\n",
      "  new_df = df[column_name].apply(pd.Series)\n",
      "C:\\Users\\jolka\\OneDrive\\Dokumenty\\Inzynierka\\ML-for-TTRPG-game-design\\analysis_functions.py:38: FutureWarning: The default dtype for empty Series will be 'object' instead of 'float64' in a future version. Specify a dtype explicitly to silence this warning.\n",
      "  new_df = df[column_name].apply(pd.Series)\n",
      "C:\\Users\\jolka\\OneDrive\\Dokumenty\\Inzynierka\\ML-for-TTRPG-game-design\\analysis_functions.py:38: FutureWarning: The default dtype for empty Series will be 'object' instead of 'float64' in a future version. Specify a dtype explicitly to silence this warning.\n",
      "  new_df = df[column_name].apply(pd.Series)\n",
      "C:\\Users\\jolka\\OneDrive\\Dokumenty\\Inzynierka\\ML-for-TTRPG-game-design\\analysis_functions.py:38: FutureWarning: The default dtype for empty Series will be 'object' instead of 'float64' in a future version. Specify a dtype explicitly to silence this warning.\n",
      "  new_df = df[column_name].apply(pd.Series)\n",
      "C:\\Users\\jolka\\OneDrive\\Dokumenty\\Inzynierka\\ML-for-TTRPG-game-design\\analysis_functions.py:38: FutureWarning: The default dtype for empty Series will be 'object' instead of 'float64' in a future version. Specify a dtype explicitly to silence this warning.\n",
      "  new_df = df[column_name].apply(pd.Series)\n",
      "C:\\Users\\jolka\\OneDrive\\Dokumenty\\Inzynierka\\ML-for-TTRPG-game-design\\analysis_functions.py:38: FutureWarning: The default dtype for empty Series will be 'object' instead of 'float64' in a future version. Specify a dtype explicitly to silence this warning.\n",
      "  new_df = df[column_name].apply(pd.Series)\n",
      "C:\\Users\\jolka\\OneDrive\\Dokumenty\\Inzynierka\\ML-for-TTRPG-game-design\\analysis_functions.py:38: FutureWarning: The default dtype for empty Series will be 'object' instead of 'float64' in a future version. Specify a dtype explicitly to silence this warning.\n",
      "  new_df = df[column_name].apply(pd.Series)\n",
      "C:\\Users\\jolka\\OneDrive\\Dokumenty\\Inzynierka\\ML-for-TTRPG-game-design\\analysis_functions.py:38: FutureWarning: The default dtype for empty Series will be 'object' instead of 'float64' in a future version. Specify a dtype explicitly to silence this warning.\n",
      "  new_df = df[column_name].apply(pd.Series)\n",
      "C:\\Users\\jolka\\OneDrive\\Dokumenty\\Inzynierka\\ML-for-TTRPG-game-design\\analysis_functions.py:38: FutureWarning: The default dtype for empty Series will be 'object' instead of 'float64' in a future version. Specify a dtype explicitly to silence this warning.\n",
      "  new_df = df[column_name].apply(pd.Series)\n",
      "C:\\Users\\jolka\\OneDrive\\Dokumenty\\Inzynierka\\ML-for-TTRPG-game-design\\analysis_functions.py:38: FutureWarning: The default dtype for empty Series will be 'object' instead of 'float64' in a future version. Specify a dtype explicitly to silence this warning.\n",
      "  new_df = df[column_name].apply(pd.Series)\n",
      "C:\\Users\\jolka\\OneDrive\\Dokumenty\\Inzynierka\\ML-for-TTRPG-game-design\\analysis_functions.py:38: FutureWarning: The default dtype for empty Series will be 'object' instead of 'float64' in a future version. Specify a dtype explicitly to silence this warning.\n",
      "  new_df = df[column_name].apply(pd.Series)\n",
      "C:\\Users\\jolka\\OneDrive\\Dokumenty\\Inzynierka\\ML-for-TTRPG-game-design\\analysis_functions.py:38: FutureWarning: The default dtype for empty Series will be 'object' instead of 'float64' in a future version. Specify a dtype explicitly to silence this warning.\n",
      "  new_df = df[column_name].apply(pd.Series)\n",
      "C:\\Users\\jolka\\OneDrive\\Dokumenty\\Inzynierka\\ML-for-TTRPG-game-design\\analysis_functions.py:38: FutureWarning: The default dtype for empty Series will be 'object' instead of 'float64' in a future version. Specify a dtype explicitly to silence this warning.\n",
      "  new_df = df[column_name].apply(pd.Series)\n",
      "C:\\Users\\jolka\\OneDrive\\Dokumenty\\Inzynierka\\ML-for-TTRPG-game-design\\analysis_functions.py:38: FutureWarning: The default dtype for empty Series will be 'object' instead of 'float64' in a future version. Specify a dtype explicitly to silence this warning.\n",
      "  new_df = df[column_name].apply(pd.Series)\n",
      "C:\\Users\\jolka\\OneDrive\\Dokumenty\\Inzynierka\\ML-for-TTRPG-game-design\\analysis_functions.py:38: FutureWarning: The default dtype for empty Series will be 'object' instead of 'float64' in a future version. Specify a dtype explicitly to silence this warning.\n",
      "  new_df = df[column_name].apply(pd.Series)\n",
      "C:\\Users\\jolka\\OneDrive\\Dokumenty\\Inzynierka\\ML-for-TTRPG-game-design\\analysis_functions.py:38: FutureWarning: The default dtype for empty Series will be 'object' instead of 'float64' in a future version. Specify a dtype explicitly to silence this warning.\n",
      "  new_df = df[column_name].apply(pd.Series)\n",
      "C:\\Users\\jolka\\OneDrive\\Dokumenty\\Inzynierka\\ML-for-TTRPG-game-design\\analysis_functions.py:38: FutureWarning: The default dtype for empty Series will be 'object' instead of 'float64' in a future version. Specify a dtype explicitly to silence this warning.\n",
      "  new_df = df[column_name].apply(pd.Series)\n",
      "C:\\Users\\jolka\\OneDrive\\Dokumenty\\Inzynierka\\ML-for-TTRPG-game-design\\analysis_functions.py:38: FutureWarning: The default dtype for empty Series will be 'object' instead of 'float64' in a future version. Specify a dtype explicitly to silence this warning.\n",
      "  new_df = df[column_name].apply(pd.Series)\n",
      "C:\\Users\\jolka\\OneDrive\\Dokumenty\\Inzynierka\\ML-for-TTRPG-game-design\\analysis_functions.py:38: FutureWarning: The default dtype for empty Series will be 'object' instead of 'float64' in a future version. Specify a dtype explicitly to silence this warning.\n",
      "  new_df = df[column_name].apply(pd.Series)\n",
      "C:\\Users\\jolka\\OneDrive\\Dokumenty\\Inzynierka\\ML-for-TTRPG-game-design\\analysis_functions.py:38: FutureWarning: The default dtype for empty Series will be 'object' instead of 'float64' in a future version. Specify a dtype explicitly to silence this warning.\n",
      "  new_df = df[column_name].apply(pd.Series)\n",
      "C:\\Users\\jolka\\OneDrive\\Dokumenty\\Inzynierka\\ML-for-TTRPG-game-design\\analysis_functions.py:38: FutureWarning: The default dtype for empty Series will be 'object' instead of 'float64' in a future version. Specify a dtype explicitly to silence this warning.\n",
      "  new_df = df[column_name].apply(pd.Series)\n",
      "C:\\Users\\jolka\\OneDrive\\Dokumenty\\Inzynierka\\ML-for-TTRPG-game-design\\analysis_functions.py:38: FutureWarning: The default dtype for empty Series will be 'object' instead of 'float64' in a future version. Specify a dtype explicitly to silence this warning.\n",
      "  new_df = df[column_name].apply(pd.Series)\n",
      "C:\\Users\\jolka\\OneDrive\\Dokumenty\\Inzynierka\\ML-for-TTRPG-game-design\\analysis_functions.py:38: FutureWarning: The default dtype for empty Series will be 'object' instead of 'float64' in a future version. Specify a dtype explicitly to silence this warning.\n",
      "  new_df = df[column_name].apply(pd.Series)\n",
      "C:\\Users\\jolka\\OneDrive\\Dokumenty\\Inzynierka\\ML-for-TTRPG-game-design\\analysis_functions.py:38: FutureWarning: The default dtype for empty Series will be 'object' instead of 'float64' in a future version. Specify a dtype explicitly to silence this warning.\n",
      "  new_df = df[column_name].apply(pd.Series)\n",
      "C:\\Users\\jolka\\OneDrive\\Dokumenty\\Inzynierka\\ML-for-TTRPG-game-design\\analysis_functions.py:38: FutureWarning: The default dtype for empty Series will be 'object' instead of 'float64' in a future version. Specify a dtype explicitly to silence this warning.\n",
      "  new_df = df[column_name].apply(pd.Series)\n",
      "C:\\Users\\jolka\\OneDrive\\Dokumenty\\Inzynierka\\ML-for-TTRPG-game-design\\analysis_functions.py:38: FutureWarning: The default dtype for empty Series will be 'object' instead of 'float64' in a future version. Specify a dtype explicitly to silence this warning.\n",
      "  new_df = df[column_name].apply(pd.Series)\n",
      "C:\\Users\\jolka\\OneDrive\\Dokumenty\\Inzynierka\\ML-for-TTRPG-game-design\\analysis_functions.py:38: FutureWarning: The default dtype for empty Series will be 'object' instead of 'float64' in a future version. Specify a dtype explicitly to silence this warning.\n",
      "  new_df = df[column_name].apply(pd.Series)\n",
      "C:\\Users\\jolka\\OneDrive\\Dokumenty\\Inzynierka\\ML-for-TTRPG-game-design\\analysis_functions.py:38: FutureWarning: The default dtype for empty Series will be 'object' instead of 'float64' in a future version. Specify a dtype explicitly to silence this warning.\n",
      "  new_df = df[column_name].apply(pd.Series)\n",
      "C:\\Users\\jolka\\OneDrive\\Dokumenty\\Inzynierka\\ML-for-TTRPG-game-design\\analysis_functions.py:38: FutureWarning: The default dtype for empty Series will be 'object' instead of 'float64' in a future version. Specify a dtype explicitly to silence this warning.\n",
      "  new_df = df[column_name].apply(pd.Series)\n",
      "C:\\Users\\jolka\\OneDrive\\Dokumenty\\Inzynierka\\ML-for-TTRPG-game-design\\analysis_functions.py:38: FutureWarning: The default dtype for empty Series will be 'object' instead of 'float64' in a future version. Specify a dtype explicitly to silence this warning.\n",
      "  new_df = df[column_name].apply(pd.Series)\n",
      "C:\\Users\\jolka\\OneDrive\\Dokumenty\\Inzynierka\\ML-for-TTRPG-game-design\\analysis_functions.py:38: FutureWarning: The default dtype for empty Series will be 'object' instead of 'float64' in a future version. Specify a dtype explicitly to silence this warning.\n",
      "  new_df = df[column_name].apply(pd.Series)\n",
      "C:\\Users\\jolka\\OneDrive\\Dokumenty\\Inzynierka\\ML-for-TTRPG-game-design\\analysis_functions.py:38: FutureWarning: The default dtype for empty Series will be 'object' instead of 'float64' in a future version. Specify a dtype explicitly to silence this warning.\n",
      "  new_df = df[column_name].apply(pd.Series)\n",
      "C:\\Users\\jolka\\OneDrive\\Dokumenty\\Inzynierka\\ML-for-TTRPG-game-design\\analysis_functions.py:38: FutureWarning: The default dtype for empty Series will be 'object' instead of 'float64' in a future version. Specify a dtype explicitly to silence this warning.\n",
      "  new_df = df[column_name].apply(pd.Series)\n",
      "C:\\Users\\jolka\\OneDrive\\Dokumenty\\Inzynierka\\ML-for-TTRPG-game-design\\analysis_functions.py:38: FutureWarning: The default dtype for empty Series will be 'object' instead of 'float64' in a future version. Specify a dtype explicitly to silence this warning.\n",
      "  new_df = df[column_name].apply(pd.Series)\n",
      "C:\\Users\\jolka\\OneDrive\\Dokumenty\\Inzynierka\\ML-for-TTRPG-game-design\\analysis_functions.py:38: FutureWarning: The default dtype for empty Series will be 'object' instead of 'float64' in a future version. Specify a dtype explicitly to silence this warning.\n",
      "  new_df = df[column_name].apply(pd.Series)\n",
      "C:\\Users\\jolka\\OneDrive\\Dokumenty\\Inzynierka\\ML-for-TTRPG-game-design\\analysis_functions.py:38: FutureWarning: The default dtype for empty Series will be 'object' instead of 'float64' in a future version. Specify a dtype explicitly to silence this warning.\n",
      "  new_df = df[column_name].apply(pd.Series)\n",
      "C:\\Users\\jolka\\OneDrive\\Dokumenty\\Inzynierka\\ML-for-TTRPG-game-design\\analysis_functions.py:38: FutureWarning: The default dtype for empty Series will be 'object' instead of 'float64' in a future version. Specify a dtype explicitly to silence this warning.\n",
      "  new_df = df[column_name].apply(pd.Series)\n",
      "C:\\Users\\jolka\\OneDrive\\Dokumenty\\Inzynierka\\ML-for-TTRPG-game-design\\analysis_functions.py:38: FutureWarning: The default dtype for empty Series will be 'object' instead of 'float64' in a future version. Specify a dtype explicitly to silence this warning.\n",
      "  new_df = df[column_name].apply(pd.Series)\n",
      "C:\\Users\\jolka\\OneDrive\\Dokumenty\\Inzynierka\\ML-for-TTRPG-game-design\\analysis_functions.py:38: FutureWarning: The default dtype for empty Series will be 'object' instead of 'float64' in a future version. Specify a dtype explicitly to silence this warning.\n",
      "  new_df = df[column_name].apply(pd.Series)\n",
      "C:\\Users\\jolka\\OneDrive\\Dokumenty\\Inzynierka\\ML-for-TTRPG-game-design\\analysis_functions.py:38: FutureWarning: The default dtype for empty Series will be 'object' instead of 'float64' in a future version. Specify a dtype explicitly to silence this warning.\n",
      "  new_df = df[column_name].apply(pd.Series)\n",
      "C:\\Users\\jolka\\OneDrive\\Dokumenty\\Inzynierka\\ML-for-TTRPG-game-design\\analysis_functions.py:38: FutureWarning: The default dtype for empty Series will be 'object' instead of 'float64' in a future version. Specify a dtype explicitly to silence this warning.\n",
      "  new_df = df[column_name].apply(pd.Series)\n",
      "C:\\Users\\jolka\\OneDrive\\Dokumenty\\Inzynierka\\ML-for-TTRPG-game-design\\analysis_functions.py:38: FutureWarning: The default dtype for empty Series will be 'object' instead of 'float64' in a future version. Specify a dtype explicitly to silence this warning.\n",
      "  new_df = df[column_name].apply(pd.Series)\n",
      "C:\\Users\\jolka\\OneDrive\\Dokumenty\\Inzynierka\\ML-for-TTRPG-game-design\\analysis_functions.py:38: FutureWarning: The default dtype for empty Series will be 'object' instead of 'float64' in a future version. Specify a dtype explicitly to silence this warning.\n",
      "  new_df = df[column_name].apply(pd.Series)\n",
      "C:\\Users\\jolka\\OneDrive\\Dokumenty\\Inzynierka\\ML-for-TTRPG-game-design\\analysis_functions.py:38: FutureWarning: The default dtype for empty Series will be 'object' instead of 'float64' in a future version. Specify a dtype explicitly to silence this warning.\n",
      "  new_df = df[column_name].apply(pd.Series)\n",
      "C:\\Users\\jolka\\OneDrive\\Dokumenty\\Inzynierka\\ML-for-TTRPG-game-design\\analysis_functions.py:38: FutureWarning: The default dtype for empty Series will be 'object' instead of 'float64' in a future version. Specify a dtype explicitly to silence this warning.\n",
      "  new_df = df[column_name].apply(pd.Series)\n",
      "C:\\Users\\jolka\\OneDrive\\Dokumenty\\Inzynierka\\ML-for-TTRPG-game-design\\analysis_functions.py:38: FutureWarning: The default dtype for empty Series will be 'object' instead of 'float64' in a future version. Specify a dtype explicitly to silence this warning.\n",
      "  new_df = df[column_name].apply(pd.Series)\n",
      "C:\\Users\\jolka\\OneDrive\\Dokumenty\\Inzynierka\\ML-for-TTRPG-game-design\\analysis_functions.py:38: FutureWarning: The default dtype for empty Series will be 'object' instead of 'float64' in a future version. Specify a dtype explicitly to silence this warning.\n",
      "  new_df = df[column_name].apply(pd.Series)\n",
      "C:\\Users\\jolka\\OneDrive\\Dokumenty\\Inzynierka\\ML-for-TTRPG-game-design\\analysis_functions.py:38: FutureWarning: The default dtype for empty Series will be 'object' instead of 'float64' in a future version. Specify a dtype explicitly to silence this warning.\n",
      "  new_df = df[column_name].apply(pd.Series)\n",
      "C:\\Users\\jolka\\OneDrive\\Dokumenty\\Inzynierka\\ML-for-TTRPG-game-design\\analysis_functions.py:38: FutureWarning: The default dtype for empty Series will be 'object' instead of 'float64' in a future version. Specify a dtype explicitly to silence this warning.\n",
      "  new_df = df[column_name].apply(pd.Series)\n",
      "C:\\Users\\jolka\\OneDrive\\Dokumenty\\Inzynierka\\ML-for-TTRPG-game-design\\analysis_functions.py:38: FutureWarning: The default dtype for empty Series will be 'object' instead of 'float64' in a future version. Specify a dtype explicitly to silence this warning.\n",
      "  new_df = df[column_name].apply(pd.Series)\n",
      "C:\\Users\\jolka\\OneDrive\\Dokumenty\\Inzynierka\\ML-for-TTRPG-game-design\\analysis_functions.py:38: FutureWarning: The default dtype for empty Series will be 'object' instead of 'float64' in a future version. Specify a dtype explicitly to silence this warning.\n",
      "  new_df = df[column_name].apply(pd.Series)\n",
      "C:\\Users\\jolka\\OneDrive\\Dokumenty\\Inzynierka\\ML-for-TTRPG-game-design\\analysis_functions.py:38: FutureWarning: The default dtype for empty Series will be 'object' instead of 'float64' in a future version. Specify a dtype explicitly to silence this warning.\n",
      "  new_df = df[column_name].apply(pd.Series)\n",
      "C:\\Users\\jolka\\OneDrive\\Dokumenty\\Inzynierka\\ML-for-TTRPG-game-design\\analysis_functions.py:38: FutureWarning: The default dtype for empty Series will be 'object' instead of 'float64' in a future version. Specify a dtype explicitly to silence this warning.\n",
      "  new_df = df[column_name].apply(pd.Series)\n",
      "C:\\Users\\jolka\\OneDrive\\Dokumenty\\Inzynierka\\ML-for-TTRPG-game-design\\analysis_functions.py:38: FutureWarning: The default dtype for empty Series will be 'object' instead of 'float64' in a future version. Specify a dtype explicitly to silence this warning.\n",
      "  new_df = df[column_name].apply(pd.Series)\n",
      "C:\\Users\\jolka\\OneDrive\\Dokumenty\\Inzynierka\\ML-for-TTRPG-game-design\\analysis_functions.py:38: FutureWarning: The default dtype for empty Series will be 'object' instead of 'float64' in a future version. Specify a dtype explicitly to silence this warning.\n",
      "  new_df = df[column_name].apply(pd.Series)\n",
      "C:\\Users\\jolka\\OneDrive\\Dokumenty\\Inzynierka\\ML-for-TTRPG-game-design\\analysis_functions.py:38: FutureWarning: The default dtype for empty Series will be 'object' instead of 'float64' in a future version. Specify a dtype explicitly to silence this warning.\n",
      "  new_df = df[column_name].apply(pd.Series)\n",
      "C:\\Users\\jolka\\OneDrive\\Dokumenty\\Inzynierka\\ML-for-TTRPG-game-design\\analysis_functions.py:38: FutureWarning: The default dtype for empty Series will be 'object' instead of 'float64' in a future version. Specify a dtype explicitly to silence this warning.\n",
      "  new_df = df[column_name].apply(pd.Series)\n",
      "C:\\Users\\jolka\\OneDrive\\Dokumenty\\Inzynierka\\ML-for-TTRPG-game-design\\analysis_functions.py:38: FutureWarning: The default dtype for empty Series will be 'object' instead of 'float64' in a future version. Specify a dtype explicitly to silence this warning.\n",
      "  new_df = df[column_name].apply(pd.Series)\n",
      "C:\\Users\\jolka\\OneDrive\\Dokumenty\\Inzynierka\\ML-for-TTRPG-game-design\\analysis_functions.py:38: FutureWarning: The default dtype for empty Series will be 'object' instead of 'float64' in a future version. Specify a dtype explicitly to silence this warning.\n",
      "  new_df = df[column_name].apply(pd.Series)\n",
      "C:\\Users\\jolka\\OneDrive\\Dokumenty\\Inzynierka\\ML-for-TTRPG-game-design\\analysis_functions.py:38: FutureWarning: The default dtype for empty Series will be 'object' instead of 'float64' in a future version. Specify a dtype explicitly to silence this warning.\n",
      "  new_df = df[column_name].apply(pd.Series)\n",
      "C:\\Users\\jolka\\OneDrive\\Dokumenty\\Inzynierka\\ML-for-TTRPG-game-design\\analysis_functions.py:38: FutureWarning: The default dtype for empty Series will be 'object' instead of 'float64' in a future version. Specify a dtype explicitly to silence this warning.\n",
      "  new_df = df[column_name].apply(pd.Series)\n",
      "C:\\Users\\jolka\\OneDrive\\Dokumenty\\Inzynierka\\ML-for-TTRPG-game-design\\analysis_functions.py:38: FutureWarning: The default dtype for empty Series will be 'object' instead of 'float64' in a future version. Specify a dtype explicitly to silence this warning.\n",
      "  new_df = df[column_name].apply(pd.Series)\n",
      "C:\\Users\\jolka\\OneDrive\\Dokumenty\\Inzynierka\\ML-for-TTRPG-game-design\\analysis_functions.py:38: FutureWarning: The default dtype for empty Series will be 'object' instead of 'float64' in a future version. Specify a dtype explicitly to silence this warning.\n",
      "  new_df = df[column_name].apply(pd.Series)\n",
      "C:\\Users\\jolka\\OneDrive\\Dokumenty\\Inzynierka\\ML-for-TTRPG-game-design\\analysis_functions.py:38: FutureWarning: The default dtype for empty Series will be 'object' instead of 'float64' in a future version. Specify a dtype explicitly to silence this warning.\n",
      "  new_df = df[column_name].apply(pd.Series)\n",
      "C:\\Users\\jolka\\OneDrive\\Dokumenty\\Inzynierka\\ML-for-TTRPG-game-design\\analysis_functions.py:38: FutureWarning: The default dtype for empty Series will be 'object' instead of 'float64' in a future version. Specify a dtype explicitly to silence this warning.\n",
      "  new_df = df[column_name].apply(pd.Series)\n",
      "C:\\Users\\jolka\\OneDrive\\Dokumenty\\Inzynierka\\ML-for-TTRPG-game-design\\analysis_functions.py:38: FutureWarning: The default dtype for empty Series will be 'object' instead of 'float64' in a future version. Specify a dtype explicitly to silence this warning.\n",
      "  new_df = df[column_name].apply(pd.Series)\n",
      "C:\\Users\\jolka\\OneDrive\\Dokumenty\\Inzynierka\\ML-for-TTRPG-game-design\\analysis_functions.py:38: FutureWarning: The default dtype for empty Series will be 'object' instead of 'float64' in a future version. Specify a dtype explicitly to silence this warning.\n",
      "  new_df = df[column_name].apply(pd.Series)\n",
      "C:\\Users\\jolka\\OneDrive\\Dokumenty\\Inzynierka\\ML-for-TTRPG-game-design\\analysis_functions.py:38: FutureWarning: The default dtype for empty Series will be 'object' instead of 'float64' in a future version. Specify a dtype explicitly to silence this warning.\n",
      "  new_df = df[column_name].apply(pd.Series)\n",
      "C:\\Users\\jolka\\OneDrive\\Dokumenty\\Inzynierka\\ML-for-TTRPG-game-design\\analysis_functions.py:38: FutureWarning: The default dtype for empty Series will be 'object' instead of 'float64' in a future version. Specify a dtype explicitly to silence this warning.\n",
      "  new_df = df[column_name].apply(pd.Series)\n",
      "C:\\Users\\jolka\\OneDrive\\Dokumenty\\Inzynierka\\ML-for-TTRPG-game-design\\analysis_functions.py:38: FutureWarning: The default dtype for empty Series will be 'object' instead of 'float64' in a future version. Specify a dtype explicitly to silence this warning.\n",
      "  new_df = df[column_name].apply(pd.Series)\n",
      "C:\\Users\\jolka\\OneDrive\\Dokumenty\\Inzynierka\\ML-for-TTRPG-game-design\\analysis_functions.py:38: FutureWarning: The default dtype for empty Series will be 'object' instead of 'float64' in a future version. Specify a dtype explicitly to silence this warning.\n",
      "  new_df = df[column_name].apply(pd.Series)\n",
      "C:\\Users\\jolka\\OneDrive\\Dokumenty\\Inzynierka\\ML-for-TTRPG-game-design\\analysis_functions.py:38: FutureWarning: The default dtype for empty Series will be 'object' instead of 'float64' in a future version. Specify a dtype explicitly to silence this warning.\n",
      "  new_df = df[column_name].apply(pd.Series)\n",
      "C:\\Users\\jolka\\OneDrive\\Dokumenty\\Inzynierka\\ML-for-TTRPG-game-design\\analysis_functions.py:38: FutureWarning: The default dtype for empty Series will be 'object' instead of 'float64' in a future version. Specify a dtype explicitly to silence this warning.\n",
      "  new_df = df[column_name].apply(pd.Series)\n",
      "C:\\Users\\jolka\\OneDrive\\Dokumenty\\Inzynierka\\ML-for-TTRPG-game-design\\analysis_functions.py:38: FutureWarning: The default dtype for empty Series will be 'object' instead of 'float64' in a future version. Specify a dtype explicitly to silence this warning.\n",
      "  new_df = df[column_name].apply(pd.Series)\n",
      "C:\\Users\\jolka\\OneDrive\\Dokumenty\\Inzynierka\\ML-for-TTRPG-game-design\\analysis_functions.py:38: FutureWarning: The default dtype for empty Series will be 'object' instead of 'float64' in a future version. Specify a dtype explicitly to silence this warning.\n",
      "  new_df = df[column_name].apply(pd.Series)\n",
      "C:\\Users\\jolka\\OneDrive\\Dokumenty\\Inzynierka\\ML-for-TTRPG-game-design\\analysis_functions.py:38: FutureWarning: The default dtype for empty Series will be 'object' instead of 'float64' in a future version. Specify a dtype explicitly to silence this warning.\n",
      "  new_df = df[column_name].apply(pd.Series)\n",
      "C:\\Users\\jolka\\OneDrive\\Dokumenty\\Inzynierka\\ML-for-TTRPG-game-design\\analysis_functions.py:38: FutureWarning: The default dtype for empty Series will be 'object' instead of 'float64' in a future version. Specify a dtype explicitly to silence this warning.\n",
      "  new_df = df[column_name].apply(pd.Series)\n",
      "C:\\Users\\jolka\\OneDrive\\Dokumenty\\Inzynierka\\ML-for-TTRPG-game-design\\analysis_functions.py:38: FutureWarning: The default dtype for empty Series will be 'object' instead of 'float64' in a future version. Specify a dtype explicitly to silence this warning.\n",
      "  new_df = df[column_name].apply(pd.Series)\n",
      "C:\\Users\\jolka\\OneDrive\\Dokumenty\\Inzynierka\\ML-for-TTRPG-game-design\\analysis_functions.py:38: FutureWarning: The default dtype for empty Series will be 'object' instead of 'float64' in a future version. Specify a dtype explicitly to silence this warning.\n",
      "  new_df = df[column_name].apply(pd.Series)\n",
      "C:\\Users\\jolka\\OneDrive\\Dokumenty\\Inzynierka\\ML-for-TTRPG-game-design\\analysis_functions.py:38: FutureWarning: The default dtype for empty Series will be 'object' instead of 'float64' in a future version. Specify a dtype explicitly to silence this warning.\n",
      "  new_df = df[column_name].apply(pd.Series)\n",
      "C:\\Users\\jolka\\OneDrive\\Dokumenty\\Inzynierka\\ML-for-TTRPG-game-design\\analysis_functions.py:38: FutureWarning: The default dtype for empty Series will be 'object' instead of 'float64' in a future version. Specify a dtype explicitly to silence this warning.\n",
      "  new_df = df[column_name].apply(pd.Series)\n",
      "C:\\Users\\jolka\\OneDrive\\Dokumenty\\Inzynierka\\ML-for-TTRPG-game-design\\analysis_functions.py:38: FutureWarning: The default dtype for empty Series will be 'object' instead of 'float64' in a future version. Specify a dtype explicitly to silence this warning.\n",
      "  new_df = df[column_name].apply(pd.Series)\n",
      "C:\\Users\\jolka\\OneDrive\\Dokumenty\\Inzynierka\\ML-for-TTRPG-game-design\\analysis_functions.py:38: FutureWarning: The default dtype for empty Series will be 'object' instead of 'float64' in a future version. Specify a dtype explicitly to silence this warning.\n",
      "  new_df = df[column_name].apply(pd.Series)\n",
      "C:\\Users\\jolka\\OneDrive\\Dokumenty\\Inzynierka\\ML-for-TTRPG-game-design\\analysis_functions.py:38: FutureWarning: The default dtype for empty Series will be 'object' instead of 'float64' in a future version. Specify a dtype explicitly to silence this warning.\n",
      "  new_df = df[column_name].apply(pd.Series)\n",
      "C:\\Users\\jolka\\OneDrive\\Dokumenty\\Inzynierka\\ML-for-TTRPG-game-design\\analysis_functions.py:38: FutureWarning: The default dtype for empty Series will be 'object' instead of 'float64' in a future version. Specify a dtype explicitly to silence this warning.\n",
      "  new_df = df[column_name].apply(pd.Series)\n",
      "C:\\Users\\jolka\\OneDrive\\Dokumenty\\Inzynierka\\ML-for-TTRPG-game-design\\analysis_functions.py:38: FutureWarning: The default dtype for empty Series will be 'object' instead of 'float64' in a future version. Specify a dtype explicitly to silence this warning.\n",
      "  new_df = df[column_name].apply(pd.Series)\n",
      "C:\\Users\\jolka\\OneDrive\\Dokumenty\\Inzynierka\\ML-for-TTRPG-game-design\\analysis_functions.py:38: FutureWarning: The default dtype for empty Series will be 'object' instead of 'float64' in a future version. Specify a dtype explicitly to silence this warning.\n",
      "  new_df = df[column_name].apply(pd.Series)\n",
      "C:\\Users\\jolka\\OneDrive\\Dokumenty\\Inzynierka\\ML-for-TTRPG-game-design\\analysis_functions.py:38: FutureWarning: The default dtype for empty Series will be 'object' instead of 'float64' in a future version. Specify a dtype explicitly to silence this warning.\n",
      "  new_df = df[column_name].apply(pd.Series)\n",
      "C:\\Users\\jolka\\OneDrive\\Dokumenty\\Inzynierka\\ML-for-TTRPG-game-design\\analysis_functions.py:38: FutureWarning: The default dtype for empty Series will be 'object' instead of 'float64' in a future version. Specify a dtype explicitly to silence this warning.\n",
      "  new_df = df[column_name].apply(pd.Series)\n",
      "C:\\Users\\jolka\\OneDrive\\Dokumenty\\Inzynierka\\ML-for-TTRPG-game-design\\analysis_functions.py:38: FutureWarning: The default dtype for empty Series will be 'object' instead of 'float64' in a future version. Specify a dtype explicitly to silence this warning.\n",
      "  new_df = df[column_name].apply(pd.Series)\n",
      "C:\\Users\\jolka\\OneDrive\\Dokumenty\\Inzynierka\\ML-for-TTRPG-game-design\\analysis_functions.py:38: FutureWarning: The default dtype for empty Series will be 'object' instead of 'float64' in a future version. Specify a dtype explicitly to silence this warning.\n",
      "  new_df = df[column_name].apply(pd.Series)\n",
      "C:\\Users\\jolka\\OneDrive\\Dokumenty\\Inzynierka\\ML-for-TTRPG-game-design\\analysis_functions.py:38: FutureWarning: The default dtype for empty Series will be 'object' instead of 'float64' in a future version. Specify a dtype explicitly to silence this warning.\n",
      "  new_df = df[column_name].apply(pd.Series)\n",
      "C:\\Users\\jolka\\OneDrive\\Dokumenty\\Inzynierka\\ML-for-TTRPG-game-design\\analysis_functions.py:38: FutureWarning: The default dtype for empty Series will be 'object' instead of 'float64' in a future version. Specify a dtype explicitly to silence this warning.\n",
      "  new_df = df[column_name].apply(pd.Series)\n",
      "C:\\Users\\jolka\\OneDrive\\Dokumenty\\Inzynierka\\ML-for-TTRPG-game-design\\analysis_functions.py:38: FutureWarning: The default dtype for empty Series will be 'object' instead of 'float64' in a future version. Specify a dtype explicitly to silence this warning.\n",
      "  new_df = df[column_name].apply(pd.Series)\n",
      "C:\\Users\\jolka\\OneDrive\\Dokumenty\\Inzynierka\\ML-for-TTRPG-game-design\\analysis_functions.py:38: FutureWarning: The default dtype for empty Series will be 'object' instead of 'float64' in a future version. Specify a dtype explicitly to silence this warning.\n",
      "  new_df = df[column_name].apply(pd.Series)\n",
      "C:\\Users\\jolka\\OneDrive\\Dokumenty\\Inzynierka\\ML-for-TTRPG-game-design\\analysis_functions.py:38: FutureWarning: The default dtype for empty Series will be 'object' instead of 'float64' in a future version. Specify a dtype explicitly to silence this warning.\n",
      "  new_df = df[column_name].apply(pd.Series)\n",
      "C:\\Users\\jolka\\OneDrive\\Dokumenty\\Inzynierka\\ML-for-TTRPG-game-design\\analysis_functions.py:38: FutureWarning: The default dtype for empty Series will be 'object' instead of 'float64' in a future version. Specify a dtype explicitly to silence this warning.\n",
      "  new_df = df[column_name].apply(pd.Series)\n",
      "C:\\Users\\jolka\\OneDrive\\Dokumenty\\Inzynierka\\ML-for-TTRPG-game-design\\analysis_functions.py:38: FutureWarning: The default dtype for empty Series will be 'object' instead of 'float64' in a future version. Specify a dtype explicitly to silence this warning.\n",
      "  new_df = df[column_name].apply(pd.Series)\n",
      "C:\\Users\\jolka\\OneDrive\\Dokumenty\\Inzynierka\\ML-for-TTRPG-game-design\\analysis_functions.py:38: FutureWarning: The default dtype for empty Series will be 'object' instead of 'float64' in a future version. Specify a dtype explicitly to silence this warning.\n",
      "  new_df = df[column_name].apply(pd.Series)\n",
      "C:\\Users\\jolka\\OneDrive\\Dokumenty\\Inzynierka\\ML-for-TTRPG-game-design\\analysis_functions.py:38: FutureWarning: The default dtype for empty Series will be 'object' instead of 'float64' in a future version. Specify a dtype explicitly to silence this warning.\n",
      "  new_df = df[column_name].apply(pd.Series)\n",
      "C:\\Users\\jolka\\OneDrive\\Dokumenty\\Inzynierka\\ML-for-TTRPG-game-design\\analysis_functions.py:38: FutureWarning: The default dtype for empty Series will be 'object' instead of 'float64' in a future version. Specify a dtype explicitly to silence this warning.\n",
      "  new_df = df[column_name].apply(pd.Series)\n",
      "C:\\Users\\jolka\\OneDrive\\Dokumenty\\Inzynierka\\ML-for-TTRPG-game-design\\analysis_functions.py:38: FutureWarning: The default dtype for empty Series will be 'object' instead of 'float64' in a future version. Specify a dtype explicitly to silence this warning.\n",
      "  new_df = df[column_name].apply(pd.Series)\n",
      "C:\\Users\\jolka\\OneDrive\\Dokumenty\\Inzynierka\\ML-for-TTRPG-game-design\\analysis_functions.py:38: FutureWarning: The default dtype for empty Series will be 'object' instead of 'float64' in a future version. Specify a dtype explicitly to silence this warning.\n",
      "  new_df = df[column_name].apply(pd.Series)\n",
      "C:\\Users\\jolka\\OneDrive\\Dokumenty\\Inzynierka\\ML-for-TTRPG-game-design\\analysis_functions.py:38: FutureWarning: The default dtype for empty Series will be 'object' instead of 'float64' in a future version. Specify a dtype explicitly to silence this warning.\n",
      "  new_df = df[column_name].apply(pd.Series)\n",
      "C:\\Users\\jolka\\OneDrive\\Dokumenty\\Inzynierka\\ML-for-TTRPG-game-design\\analysis_functions.py:38: FutureWarning: The default dtype for empty Series will be 'object' instead of 'float64' in a future version. Specify a dtype explicitly to silence this warning.\n",
      "  new_df = df[column_name].apply(pd.Series)\n",
      "C:\\Users\\jolka\\OneDrive\\Dokumenty\\Inzynierka\\ML-for-TTRPG-game-design\\analysis_functions.py:38: FutureWarning: The default dtype for empty Series will be 'object' instead of 'float64' in a future version. Specify a dtype explicitly to silence this warning.\n",
      "  new_df = df[column_name].apply(pd.Series)\n",
      "C:\\Users\\jolka\\OneDrive\\Dokumenty\\Inzynierka\\ML-for-TTRPG-game-design\\analysis_functions.py:38: FutureWarning: The default dtype for empty Series will be 'object' instead of 'float64' in a future version. Specify a dtype explicitly to silence this warning.\n",
      "  new_df = df[column_name].apply(pd.Series)\n",
      "C:\\Users\\jolka\\OneDrive\\Dokumenty\\Inzynierka\\ML-for-TTRPG-game-design\\analysis_functions.py:38: FutureWarning: The default dtype for empty Series will be 'object' instead of 'float64' in a future version. Specify a dtype explicitly to silence this warning.\n",
      "  new_df = df[column_name].apply(pd.Series)\n",
      "C:\\Users\\jolka\\OneDrive\\Dokumenty\\Inzynierka\\ML-for-TTRPG-game-design\\analysis_functions.py:38: FutureWarning: The default dtype for empty Series will be 'object' instead of 'float64' in a future version. Specify a dtype explicitly to silence this warning.\n",
      "  new_df = df[column_name].apply(pd.Series)\n",
      "C:\\Users\\jolka\\OneDrive\\Dokumenty\\Inzynierka\\ML-for-TTRPG-game-design\\analysis_functions.py:38: FutureWarning: The default dtype for empty Series will be 'object' instead of 'float64' in a future version. Specify a dtype explicitly to silence this warning.\n",
      "  new_df = df[column_name].apply(pd.Series)\n",
      "C:\\Users\\jolka\\OneDrive\\Dokumenty\\Inzynierka\\ML-for-TTRPG-game-design\\analysis_functions.py:38: FutureWarning: The default dtype for empty Series will be 'object' instead of 'float64' in a future version. Specify a dtype explicitly to silence this warning.\n",
      "  new_df = df[column_name].apply(pd.Series)\n",
      "C:\\Users\\jolka\\OneDrive\\Dokumenty\\Inzynierka\\ML-for-TTRPG-game-design\\analysis_functions.py:38: FutureWarning: The default dtype for empty Series will be 'object' instead of 'float64' in a future version. Specify a dtype explicitly to silence this warning.\n",
      "  new_df = df[column_name].apply(pd.Series)\n",
      "C:\\Users\\jolka\\OneDrive\\Dokumenty\\Inzynierka\\ML-for-TTRPG-game-design\\analysis_functions.py:38: FutureWarning: The default dtype for empty Series will be 'object' instead of 'float64' in a future version. Specify a dtype explicitly to silence this warning.\n",
      "  new_df = df[column_name].apply(pd.Series)\n",
      "C:\\Users\\jolka\\OneDrive\\Dokumenty\\Inzynierka\\ML-for-TTRPG-game-design\\analysis_functions.py:38: FutureWarning: The default dtype for empty Series will be 'object' instead of 'float64' in a future version. Specify a dtype explicitly to silence this warning.\n",
      "  new_df = df[column_name].apply(pd.Series)\n",
      "C:\\Users\\jolka\\OneDrive\\Dokumenty\\Inzynierka\\ML-for-TTRPG-game-design\\analysis_functions.py:38: FutureWarning: The default dtype for empty Series will be 'object' instead of 'float64' in a future version. Specify a dtype explicitly to silence this warning.\n",
      "  new_df = df[column_name].apply(pd.Series)\n",
      "C:\\Users\\jolka\\OneDrive\\Dokumenty\\Inzynierka\\ML-for-TTRPG-game-design\\analysis_functions.py:38: FutureWarning: The default dtype for empty Series will be 'object' instead of 'float64' in a future version. Specify a dtype explicitly to silence this warning.\n",
      "  new_df = df[column_name].apply(pd.Series)\n",
      "C:\\Users\\jolka\\OneDrive\\Dokumenty\\Inzynierka\\ML-for-TTRPG-game-design\\analysis_functions.py:38: FutureWarning: The default dtype for empty Series will be 'object' instead of 'float64' in a future version. Specify a dtype explicitly to silence this warning.\n",
      "  new_df = df[column_name].apply(pd.Series)\n",
      "C:\\Users\\jolka\\OneDrive\\Dokumenty\\Inzynierka\\ML-for-TTRPG-game-design\\analysis_functions.py:38: FutureWarning: The default dtype for empty Series will be 'object' instead of 'float64' in a future version. Specify a dtype explicitly to silence this warning.\n",
      "  new_df = df[column_name].apply(pd.Series)\n",
      "C:\\Users\\jolka\\OneDrive\\Dokumenty\\Inzynierka\\ML-for-TTRPG-game-design\\analysis_functions.py:38: FutureWarning: The default dtype for empty Series will be 'object' instead of 'float64' in a future version. Specify a dtype explicitly to silence this warning.\n",
      "  new_df = df[column_name].apply(pd.Series)\n",
      "C:\\Users\\jolka\\OneDrive\\Dokumenty\\Inzynierka\\ML-for-TTRPG-game-design\\analysis_functions.py:38: FutureWarning: The default dtype for empty Series will be 'object' instead of 'float64' in a future version. Specify a dtype explicitly to silence this warning.\n",
      "  new_df = df[column_name].apply(pd.Series)\n",
      "C:\\Users\\jolka\\OneDrive\\Dokumenty\\Inzynierka\\ML-for-TTRPG-game-design\\analysis_functions.py:38: FutureWarning: The default dtype for empty Series will be 'object' instead of 'float64' in a future version. Specify a dtype explicitly to silence this warning.\n",
      "  new_df = df[column_name].apply(pd.Series)\n",
      "C:\\Users\\jolka\\OneDrive\\Dokumenty\\Inzynierka\\ML-for-TTRPG-game-design\\analysis_functions.py:38: FutureWarning: The default dtype for empty Series will be 'object' instead of 'float64' in a future version. Specify a dtype explicitly to silence this warning.\n",
      "  new_df = df[column_name].apply(pd.Series)\n",
      "C:\\Users\\jolka\\OneDrive\\Dokumenty\\Inzynierka\\ML-for-TTRPG-game-design\\analysis_functions.py:38: FutureWarning: The default dtype for empty Series will be 'object' instead of 'float64' in a future version. Specify a dtype explicitly to silence this warning.\n",
      "  new_df = df[column_name].apply(pd.Series)\n",
      "C:\\Users\\jolka\\OneDrive\\Dokumenty\\Inzynierka\\ML-for-TTRPG-game-design\\analysis_functions.py:38: FutureWarning: The default dtype for empty Series will be 'object' instead of 'float64' in a future version. Specify a dtype explicitly to silence this warning.\n",
      "  new_df = df[column_name].apply(pd.Series)\n",
      "C:\\Users\\jolka\\OneDrive\\Dokumenty\\Inzynierka\\ML-for-TTRPG-game-design\\analysis_functions.py:38: FutureWarning: The default dtype for empty Series will be 'object' instead of 'float64' in a future version. Specify a dtype explicitly to silence this warning.\n",
      "  new_df = df[column_name].apply(pd.Series)\n",
      "C:\\Users\\jolka\\OneDrive\\Dokumenty\\Inzynierka\\ML-for-TTRPG-game-design\\analysis_functions.py:38: FutureWarning: The default dtype for empty Series will be 'object' instead of 'float64' in a future version. Specify a dtype explicitly to silence this warning.\n",
      "  new_df = df[column_name].apply(pd.Series)\n",
      "C:\\Users\\jolka\\OneDrive\\Dokumenty\\Inzynierka\\ML-for-TTRPG-game-design\\analysis_functions.py:38: FutureWarning: The default dtype for empty Series will be 'object' instead of 'float64' in a future version. Specify a dtype explicitly to silence this warning.\n",
      "  new_df = df[column_name].apply(pd.Series)\n",
      "C:\\Users\\jolka\\OneDrive\\Dokumenty\\Inzynierka\\ML-for-TTRPG-game-design\\analysis_functions.py:38: FutureWarning: The default dtype for empty Series will be 'object' instead of 'float64' in a future version. Specify a dtype explicitly to silence this warning.\n",
      "  new_df = df[column_name].apply(pd.Series)\n",
      "C:\\Users\\jolka\\OneDrive\\Dokumenty\\Inzynierka\\ML-for-TTRPG-game-design\\analysis_functions.py:38: FutureWarning: The default dtype for empty Series will be 'object' instead of 'float64' in a future version. Specify a dtype explicitly to silence this warning.\n",
      "  new_df = df[column_name].apply(pd.Series)\n",
      "C:\\Users\\jolka\\OneDrive\\Dokumenty\\Inzynierka\\ML-for-TTRPG-game-design\\analysis_functions.py:38: FutureWarning: The default dtype for empty Series will be 'object' instead of 'float64' in a future version. Specify a dtype explicitly to silence this warning.\n",
      "  new_df = df[column_name].apply(pd.Series)\n",
      "C:\\Users\\jolka\\OneDrive\\Dokumenty\\Inzynierka\\ML-for-TTRPG-game-design\\analysis_functions.py:38: FutureWarning: The default dtype for empty Series will be 'object' instead of 'float64' in a future version. Specify a dtype explicitly to silence this warning.\n",
      "  new_df = df[column_name].apply(pd.Series)\n",
      "C:\\Users\\jolka\\OneDrive\\Dokumenty\\Inzynierka\\ML-for-TTRPG-game-design\\analysis_functions.py:38: FutureWarning: The default dtype for empty Series will be 'object' instead of 'float64' in a future version. Specify a dtype explicitly to silence this warning.\n",
      "  new_df = df[column_name].apply(pd.Series)\n",
      "C:\\Users\\jolka\\OneDrive\\Dokumenty\\Inzynierka\\ML-for-TTRPG-game-design\\analysis_functions.py:38: FutureWarning: The default dtype for empty Series will be 'object' instead of 'float64' in a future version. Specify a dtype explicitly to silence this warning.\n",
      "  new_df = df[column_name].apply(pd.Series)\n",
      "C:\\Users\\jolka\\OneDrive\\Dokumenty\\Inzynierka\\ML-for-TTRPG-game-design\\analysis_functions.py:38: FutureWarning: The default dtype for empty Series will be 'object' instead of 'float64' in a future version. Specify a dtype explicitly to silence this warning.\n",
      "  new_df = df[column_name].apply(pd.Series)\n",
      "C:\\Users\\jolka\\OneDrive\\Dokumenty\\Inzynierka\\ML-for-TTRPG-game-design\\analysis_functions.py:38: FutureWarning: The default dtype for empty Series will be 'object' instead of 'float64' in a future version. Specify a dtype explicitly to silence this warning.\n",
      "  new_df = df[column_name].apply(pd.Series)\n",
      "C:\\Users\\jolka\\OneDrive\\Dokumenty\\Inzynierka\\ML-for-TTRPG-game-design\\analysis_functions.py:38: FutureWarning: The default dtype for empty Series will be 'object' instead of 'float64' in a future version. Specify a dtype explicitly to silence this warning.\n",
      "  new_df = df[column_name].apply(pd.Series)\n",
      "C:\\Users\\jolka\\OneDrive\\Dokumenty\\Inzynierka\\ML-for-TTRPG-game-design\\analysis_functions.py:38: FutureWarning: The default dtype for empty Series will be 'object' instead of 'float64' in a future version. Specify a dtype explicitly to silence this warning.\n",
      "  new_df = df[column_name].apply(pd.Series)\n",
      "C:\\Users\\jolka\\OneDrive\\Dokumenty\\Inzynierka\\ML-for-TTRPG-game-design\\analysis_functions.py:38: FutureWarning: The default dtype for empty Series will be 'object' instead of 'float64' in a future version. Specify a dtype explicitly to silence this warning.\n",
      "  new_df = df[column_name].apply(pd.Series)\n",
      "C:\\Users\\jolka\\OneDrive\\Dokumenty\\Inzynierka\\ML-for-TTRPG-game-design\\analysis_functions.py:38: FutureWarning: The default dtype for empty Series will be 'object' instead of 'float64' in a future version. Specify a dtype explicitly to silence this warning.\n",
      "  new_df = df[column_name].apply(pd.Series)\n",
      "C:\\Users\\jolka\\OneDrive\\Dokumenty\\Inzynierka\\ML-for-TTRPG-game-design\\analysis_functions.py:38: FutureWarning: The default dtype for empty Series will be 'object' instead of 'float64' in a future version. Specify a dtype explicitly to silence this warning.\n",
      "  new_df = df[column_name].apply(pd.Series)\n",
      "C:\\Users\\jolka\\OneDrive\\Dokumenty\\Inzynierka\\ML-for-TTRPG-game-design\\analysis_functions.py:38: FutureWarning: The default dtype for empty Series will be 'object' instead of 'float64' in a future version. Specify a dtype explicitly to silence this warning.\n",
      "  new_df = df[column_name].apply(pd.Series)\n",
      "C:\\Users\\jolka\\OneDrive\\Dokumenty\\Inzynierka\\ML-for-TTRPG-game-design\\analysis_functions.py:38: FutureWarning: The default dtype for empty Series will be 'object' instead of 'float64' in a future version. Specify a dtype explicitly to silence this warning.\n",
      "  new_df = df[column_name].apply(pd.Series)\n",
      "C:\\Users\\jolka\\OneDrive\\Dokumenty\\Inzynierka\\ML-for-TTRPG-game-design\\analysis_functions.py:38: FutureWarning: The default dtype for empty Series will be 'object' instead of 'float64' in a future version. Specify a dtype explicitly to silence this warning.\n",
      "  new_df = df[column_name].apply(pd.Series)\n",
      "C:\\Users\\jolka\\OneDrive\\Dokumenty\\Inzynierka\\ML-for-TTRPG-game-design\\analysis_functions.py:38: FutureWarning: The default dtype for empty Series will be 'object' instead of 'float64' in a future version. Specify a dtype explicitly to silence this warning.\n",
      "  new_df = df[column_name].apply(pd.Series)\n",
      "C:\\Users\\jolka\\OneDrive\\Dokumenty\\Inzynierka\\ML-for-TTRPG-game-design\\analysis_functions.py:38: FutureWarning: The default dtype for empty Series will be 'object' instead of 'float64' in a future version. Specify a dtype explicitly to silence this warning.\n",
      "  new_df = df[column_name].apply(pd.Series)\n",
      "C:\\Users\\jolka\\OneDrive\\Dokumenty\\Inzynierka\\ML-for-TTRPG-game-design\\analysis_functions.py:38: FutureWarning: The default dtype for empty Series will be 'object' instead of 'float64' in a future version. Specify a dtype explicitly to silence this warning.\n",
      "  new_df = df[column_name].apply(pd.Series)\n",
      "C:\\Users\\jolka\\OneDrive\\Dokumenty\\Inzynierka\\ML-for-TTRPG-game-design\\analysis_functions.py:38: FutureWarning: The default dtype for empty Series will be 'object' instead of 'float64' in a future version. Specify a dtype explicitly to silence this warning.\n",
      "  new_df = df[column_name].apply(pd.Series)\n",
      "C:\\Users\\jolka\\OneDrive\\Dokumenty\\Inzynierka\\ML-for-TTRPG-game-design\\analysis_functions.py:38: FutureWarning: The default dtype for empty Series will be 'object' instead of 'float64' in a future version. Specify a dtype explicitly to silence this warning.\n",
      "  new_df = df[column_name].apply(pd.Series)\n",
      "C:\\Users\\jolka\\OneDrive\\Dokumenty\\Inzynierka\\ML-for-TTRPG-game-design\\analysis_functions.py:38: FutureWarning: The default dtype for empty Series will be 'object' instead of 'float64' in a future version. Specify a dtype explicitly to silence this warning.\n",
      "  new_df = df[column_name].apply(pd.Series)\n",
      "C:\\Users\\jolka\\OneDrive\\Dokumenty\\Inzynierka\\ML-for-TTRPG-game-design\\analysis_functions.py:38: FutureWarning: The default dtype for empty Series will be 'object' instead of 'float64' in a future version. Specify a dtype explicitly to silence this warning.\n",
      "  new_df = df[column_name].apply(pd.Series)\n",
      "C:\\Users\\jolka\\OneDrive\\Dokumenty\\Inzynierka\\ML-for-TTRPG-game-design\\analysis_functions.py:38: FutureWarning: The default dtype for empty Series will be 'object' instead of 'float64' in a future version. Specify a dtype explicitly to silence this warning.\n",
      "  new_df = df[column_name].apply(pd.Series)\n",
      "C:\\Users\\jolka\\OneDrive\\Dokumenty\\Inzynierka\\ML-for-TTRPG-game-design\\analysis_functions.py:38: FutureWarning: The default dtype for empty Series will be 'object' instead of 'float64' in a future version. Specify a dtype explicitly to silence this warning.\n",
      "  new_df = df[column_name].apply(pd.Series)\n",
      "C:\\Users\\jolka\\OneDrive\\Dokumenty\\Inzynierka\\ML-for-TTRPG-game-design\\analysis_functions.py:38: FutureWarning: The default dtype for empty Series will be 'object' instead of 'float64' in a future version. Specify a dtype explicitly to silence this warning.\n",
      "  new_df = df[column_name].apply(pd.Series)\n",
      "C:\\Users\\jolka\\OneDrive\\Dokumenty\\Inzynierka\\ML-for-TTRPG-game-design\\analysis_functions.py:38: FutureWarning: The default dtype for empty Series will be 'object' instead of 'float64' in a future version. Specify a dtype explicitly to silence this warning.\n",
      "  new_df = df[column_name].apply(pd.Series)\n",
      "C:\\Users\\jolka\\OneDrive\\Dokumenty\\Inzynierka\\ML-for-TTRPG-game-design\\analysis_functions.py:38: FutureWarning: The default dtype for empty Series will be 'object' instead of 'float64' in a future version. Specify a dtype explicitly to silence this warning.\n",
      "  new_df = df[column_name].apply(pd.Series)\n",
      "C:\\Users\\jolka\\OneDrive\\Dokumenty\\Inzynierka\\ML-for-TTRPG-game-design\\analysis_functions.py:38: FutureWarning: The default dtype for empty Series will be 'object' instead of 'float64' in a future version. Specify a dtype explicitly to silence this warning.\n",
      "  new_df = df[column_name].apply(pd.Series)\n",
      "C:\\Users\\jolka\\OneDrive\\Dokumenty\\Inzynierka\\ML-for-TTRPG-game-design\\analysis_functions.py:38: FutureWarning: The default dtype for empty Series will be 'object' instead of 'float64' in a future version. Specify a dtype explicitly to silence this warning.\n",
      "  new_df = df[column_name].apply(pd.Series)\n",
      "C:\\Users\\jolka\\OneDrive\\Dokumenty\\Inzynierka\\ML-for-TTRPG-game-design\\analysis_functions.py:38: FutureWarning: The default dtype for empty Series will be 'object' instead of 'float64' in a future version. Specify a dtype explicitly to silence this warning.\n",
      "  new_df = df[column_name].apply(pd.Series)\n",
      "C:\\Users\\jolka\\OneDrive\\Dokumenty\\Inzynierka\\ML-for-TTRPG-game-design\\analysis_functions.py:38: FutureWarning: The default dtype for empty Series will be 'object' instead of 'float64' in a future version. Specify a dtype explicitly to silence this warning.\n",
      "  new_df = df[column_name].apply(pd.Series)\n",
      "C:\\Users\\jolka\\OneDrive\\Dokumenty\\Inzynierka\\ML-for-TTRPG-game-design\\analysis_functions.py:38: FutureWarning: The default dtype for empty Series will be 'object' instead of 'float64' in a future version. Specify a dtype explicitly to silence this warning.\n",
      "  new_df = df[column_name].apply(pd.Series)\n",
      "C:\\Users\\jolka\\OneDrive\\Dokumenty\\Inzynierka\\ML-for-TTRPG-game-design\\analysis_functions.py:38: FutureWarning: The default dtype for empty Series will be 'object' instead of 'float64' in a future version. Specify a dtype explicitly to silence this warning.\n",
      "  new_df = df[column_name].apply(pd.Series)\n",
      "C:\\Users\\jolka\\OneDrive\\Dokumenty\\Inzynierka\\ML-for-TTRPG-game-design\\analysis_functions.py:38: FutureWarning: The default dtype for empty Series will be 'object' instead of 'float64' in a future version. Specify a dtype explicitly to silence this warning.\n",
      "  new_df = df[column_name].apply(pd.Series)\n",
      "C:\\Users\\jolka\\OneDrive\\Dokumenty\\Inzynierka\\ML-for-TTRPG-game-design\\analysis_functions.py:38: FutureWarning: The default dtype for empty Series will be 'object' instead of 'float64' in a future version. Specify a dtype explicitly to silence this warning.\n",
      "  new_df = df[column_name].apply(pd.Series)\n",
      "C:\\Users\\jolka\\OneDrive\\Dokumenty\\Inzynierka\\ML-for-TTRPG-game-design\\analysis_functions.py:38: FutureWarning: The default dtype for empty Series will be 'object' instead of 'float64' in a future version. Specify a dtype explicitly to silence this warning.\n",
      "  new_df = df[column_name].apply(pd.Series)\n",
      "C:\\Users\\jolka\\OneDrive\\Dokumenty\\Inzynierka\\ML-for-TTRPG-game-design\\analysis_functions.py:38: FutureWarning: The default dtype for empty Series will be 'object' instead of 'float64' in a future version. Specify a dtype explicitly to silence this warning.\n",
      "  new_df = df[column_name].apply(pd.Series)\n",
      "C:\\Users\\jolka\\OneDrive\\Dokumenty\\Inzynierka\\ML-for-TTRPG-game-design\\analysis_functions.py:38: FutureWarning: The default dtype for empty Series will be 'object' instead of 'float64' in a future version. Specify a dtype explicitly to silence this warning.\n",
      "  new_df = df[column_name].apply(pd.Series)\n",
      "C:\\Users\\jolka\\OneDrive\\Dokumenty\\Inzynierka\\ML-for-TTRPG-game-design\\analysis_functions.py:38: FutureWarning: The default dtype for empty Series will be 'object' instead of 'float64' in a future version. Specify a dtype explicitly to silence this warning.\n",
      "  new_df = df[column_name].apply(pd.Series)\n",
      "C:\\Users\\jolka\\OneDrive\\Dokumenty\\Inzynierka\\ML-for-TTRPG-game-design\\analysis_functions.py:38: FutureWarning: The default dtype for empty Series will be 'object' instead of 'float64' in a future version. Specify a dtype explicitly to silence this warning.\n",
      "  new_df = df[column_name].apply(pd.Series)\n",
      "C:\\Users\\jolka\\OneDrive\\Dokumenty\\Inzynierka\\ML-for-TTRPG-game-design\\analysis_functions.py:38: FutureWarning: The default dtype for empty Series will be 'object' instead of 'float64' in a future version. Specify a dtype explicitly to silence this warning.\n",
      "  new_df = df[column_name].apply(pd.Series)\n",
      "C:\\Users\\jolka\\OneDrive\\Dokumenty\\Inzynierka\\ML-for-TTRPG-game-design\\analysis_functions.py:38: FutureWarning: The default dtype for empty Series will be 'object' instead of 'float64' in a future version. Specify a dtype explicitly to silence this warning.\n",
      "  new_df = df[column_name].apply(pd.Series)\n",
      "C:\\Users\\jolka\\OneDrive\\Dokumenty\\Inzynierka\\ML-for-TTRPG-game-design\\analysis_functions.py:38: FutureWarning: The default dtype for empty Series will be 'object' instead of 'float64' in a future version. Specify a dtype explicitly to silence this warning.\n",
      "  new_df = df[column_name].apply(pd.Series)\n",
      "C:\\Users\\jolka\\OneDrive\\Dokumenty\\Inzynierka\\ML-for-TTRPG-game-design\\analysis_functions.py:38: FutureWarning: The default dtype for empty Series will be 'object' instead of 'float64' in a future version. Specify a dtype explicitly to silence this warning.\n",
      "  new_df = df[column_name].apply(pd.Series)\n",
      "C:\\Users\\jolka\\OneDrive\\Dokumenty\\Inzynierka\\ML-for-TTRPG-game-design\\analysis_functions.py:38: FutureWarning: The default dtype for empty Series will be 'object' instead of 'float64' in a future version. Specify a dtype explicitly to silence this warning.\n",
      "  new_df = df[column_name].apply(pd.Series)\n",
      "C:\\Users\\jolka\\OneDrive\\Dokumenty\\Inzynierka\\ML-for-TTRPG-game-design\\analysis_functions.py:38: FutureWarning: The default dtype for empty Series will be 'object' instead of 'float64' in a future version. Specify a dtype explicitly to silence this warning.\n",
      "  new_df = df[column_name].apply(pd.Series)\n",
      "C:\\Users\\jolka\\OneDrive\\Dokumenty\\Inzynierka\\ML-for-TTRPG-game-design\\analysis_functions.py:38: FutureWarning: The default dtype for empty Series will be 'object' instead of 'float64' in a future version. Specify a dtype explicitly to silence this warning.\n",
      "  new_df = df[column_name].apply(pd.Series)\n",
      "C:\\Users\\jolka\\OneDrive\\Dokumenty\\Inzynierka\\ML-for-TTRPG-game-design\\analysis_functions.py:38: FutureWarning: The default dtype for empty Series will be 'object' instead of 'float64' in a future version. Specify a dtype explicitly to silence this warning.\n",
      "  new_df = df[column_name].apply(pd.Series)\n",
      "C:\\Users\\jolka\\OneDrive\\Dokumenty\\Inzynierka\\ML-for-TTRPG-game-design\\analysis_functions.py:38: FutureWarning: The default dtype for empty Series will be 'object' instead of 'float64' in a future version. Specify a dtype explicitly to silence this warning.\n",
      "  new_df = df[column_name].apply(pd.Series)\n",
      "C:\\Users\\jolka\\OneDrive\\Dokumenty\\Inzynierka\\ML-for-TTRPG-game-design\\analysis_functions.py:38: FutureWarning: The default dtype for empty Series will be 'object' instead of 'float64' in a future version. Specify a dtype explicitly to silence this warning.\n",
      "  new_df = df[column_name].apply(pd.Series)\n",
      "C:\\Users\\jolka\\OneDrive\\Dokumenty\\Inzynierka\\ML-for-TTRPG-game-design\\analysis_functions.py:38: FutureWarning: The default dtype for empty Series will be 'object' instead of 'float64' in a future version. Specify a dtype explicitly to silence this warning.\n",
      "  new_df = df[column_name].apply(pd.Series)\n",
      "C:\\Users\\jolka\\OneDrive\\Dokumenty\\Inzynierka\\ML-for-TTRPG-game-design\\analysis_functions.py:38: FutureWarning: The default dtype for empty Series will be 'object' instead of 'float64' in a future version. Specify a dtype explicitly to silence this warning.\n",
      "  new_df = df[column_name].apply(pd.Series)\n",
      "C:\\Users\\jolka\\OneDrive\\Dokumenty\\Inzynierka\\ML-for-TTRPG-game-design\\analysis_functions.py:38: FutureWarning: The default dtype for empty Series will be 'object' instead of 'float64' in a future version. Specify a dtype explicitly to silence this warning.\n",
      "  new_df = df[column_name].apply(pd.Series)\n",
      "C:\\Users\\jolka\\OneDrive\\Dokumenty\\Inzynierka\\ML-for-TTRPG-game-design\\analysis_functions.py:38: FutureWarning: The default dtype for empty Series will be 'object' instead of 'float64' in a future version. Specify a dtype explicitly to silence this warning.\n",
      "  new_df = df[column_name].apply(pd.Series)\n",
      "C:\\Users\\jolka\\OneDrive\\Dokumenty\\Inzynierka\\ML-for-TTRPG-game-design\\analysis_functions.py:38: FutureWarning: The default dtype for empty Series will be 'object' instead of 'float64' in a future version. Specify a dtype explicitly to silence this warning.\n",
      "  new_df = df[column_name].apply(pd.Series)\n",
      "C:\\Users\\jolka\\OneDrive\\Dokumenty\\Inzynierka\\ML-for-TTRPG-game-design\\analysis_functions.py:38: FutureWarning: The default dtype for empty Series will be 'object' instead of 'float64' in a future version. Specify a dtype explicitly to silence this warning.\n",
      "  new_df = df[column_name].apply(pd.Series)\n",
      "C:\\Users\\jolka\\OneDrive\\Dokumenty\\Inzynierka\\ML-for-TTRPG-game-design\\analysis_functions.py:38: FutureWarning: The default dtype for empty Series will be 'object' instead of 'float64' in a future version. Specify a dtype explicitly to silence this warning.\n",
      "  new_df = df[column_name].apply(pd.Series)\n",
      "C:\\Users\\jolka\\OneDrive\\Dokumenty\\Inzynierka\\ML-for-TTRPG-game-design\\analysis_functions.py:38: FutureWarning: The default dtype for empty Series will be 'object' instead of 'float64' in a future version. Specify a dtype explicitly to silence this warning.\n",
      "  new_df = df[column_name].apply(pd.Series)\n",
      "C:\\Users\\jolka\\OneDrive\\Dokumenty\\Inzynierka\\ML-for-TTRPG-game-design\\analysis_functions.py:38: FutureWarning: The default dtype for empty Series will be 'object' instead of 'float64' in a future version. Specify a dtype explicitly to silence this warning.\n",
      "  new_df = df[column_name].apply(pd.Series)\n",
      "C:\\Users\\jolka\\OneDrive\\Dokumenty\\Inzynierka\\ML-for-TTRPG-game-design\\analysis_functions.py:38: FutureWarning: The default dtype for empty Series will be 'object' instead of 'float64' in a future version. Specify a dtype explicitly to silence this warning.\n",
      "  new_df = df[column_name].apply(pd.Series)\n",
      "C:\\Users\\jolka\\OneDrive\\Dokumenty\\Inzynierka\\ML-for-TTRPG-game-design\\analysis_functions.py:38: FutureWarning: The default dtype for empty Series will be 'object' instead of 'float64' in a future version. Specify a dtype explicitly to silence this warning.\n",
      "  new_df = df[column_name].apply(pd.Series)\n",
      "C:\\Users\\jolka\\OneDrive\\Dokumenty\\Inzynierka\\ML-for-TTRPG-game-design\\analysis_functions.py:38: FutureWarning: The default dtype for empty Series will be 'object' instead of 'float64' in a future version. Specify a dtype explicitly to silence this warning.\n",
      "  new_df = df[column_name].apply(pd.Series)\n",
      "C:\\Users\\jolka\\OneDrive\\Dokumenty\\Inzynierka\\ML-for-TTRPG-game-design\\analysis_functions.py:38: FutureWarning: The default dtype for empty Series will be 'object' instead of 'float64' in a future version. Specify a dtype explicitly to silence this warning.\n",
      "  new_df = df[column_name].apply(pd.Series)\n",
      "C:\\Users\\jolka\\OneDrive\\Dokumenty\\Inzynierka\\ML-for-TTRPG-game-design\\analysis_functions.py:38: FutureWarning: The default dtype for empty Series will be 'object' instead of 'float64' in a future version. Specify a dtype explicitly to silence this warning.\n",
      "  new_df = df[column_name].apply(pd.Series)\n",
      "C:\\Users\\jolka\\OneDrive\\Dokumenty\\Inzynierka\\ML-for-TTRPG-game-design\\analysis_functions.py:38: FutureWarning: The default dtype for empty Series will be 'object' instead of 'float64' in a future version. Specify a dtype explicitly to silence this warning.\n",
      "  new_df = df[column_name].apply(pd.Series)\n",
      "C:\\Users\\jolka\\OneDrive\\Dokumenty\\Inzynierka\\ML-for-TTRPG-game-design\\analysis_functions.py:38: FutureWarning: The default dtype for empty Series will be 'object' instead of 'float64' in a future version. Specify a dtype explicitly to silence this warning.\n",
      "  new_df = df[column_name].apply(pd.Series)\n",
      "C:\\Users\\jolka\\OneDrive\\Dokumenty\\Inzynierka\\ML-for-TTRPG-game-design\\analysis_functions.py:38: FutureWarning: The default dtype for empty Series will be 'object' instead of 'float64' in a future version. Specify a dtype explicitly to silence this warning.\n",
      "  new_df = df[column_name].apply(pd.Series)\n",
      "C:\\Users\\jolka\\OneDrive\\Dokumenty\\Inzynierka\\ML-for-TTRPG-game-design\\analysis_functions.py:38: FutureWarning: The default dtype for empty Series will be 'object' instead of 'float64' in a future version. Specify a dtype explicitly to silence this warning.\n",
      "  new_df = df[column_name].apply(pd.Series)\n",
      "C:\\Users\\jolka\\OneDrive\\Dokumenty\\Inzynierka\\ML-for-TTRPG-game-design\\analysis_functions.py:38: FutureWarning: The default dtype for empty Series will be 'object' instead of 'float64' in a future version. Specify a dtype explicitly to silence this warning.\n",
      "  new_df = df[column_name].apply(pd.Series)\n",
      "C:\\Users\\jolka\\OneDrive\\Dokumenty\\Inzynierka\\ML-for-TTRPG-game-design\\analysis_functions.py:38: FutureWarning: The default dtype for empty Series will be 'object' instead of 'float64' in a future version. Specify a dtype explicitly to silence this warning.\n",
      "  new_df = df[column_name].apply(pd.Series)\n",
      "C:\\Users\\jolka\\OneDrive\\Dokumenty\\Inzynierka\\ML-for-TTRPG-game-design\\analysis_functions.py:38: FutureWarning: The default dtype for empty Series will be 'object' instead of 'float64' in a future version. Specify a dtype explicitly to silence this warning.\n",
      "  new_df = df[column_name].apply(pd.Series)\n",
      "C:\\Users\\jolka\\OneDrive\\Dokumenty\\Inzynierka\\ML-for-TTRPG-game-design\\analysis_functions.py:38: FutureWarning: The default dtype for empty Series will be 'object' instead of 'float64' in a future version. Specify a dtype explicitly to silence this warning.\n",
      "  new_df = df[column_name].apply(pd.Series)\n",
      "C:\\Users\\jolka\\OneDrive\\Dokumenty\\Inzynierka\\ML-for-TTRPG-game-design\\analysis_functions.py:38: FutureWarning: The default dtype for empty Series will be 'object' instead of 'float64' in a future version. Specify a dtype explicitly to silence this warning.\n",
      "  new_df = df[column_name].apply(pd.Series)\n",
      "C:\\Users\\jolka\\OneDrive\\Dokumenty\\Inzynierka\\ML-for-TTRPG-game-design\\analysis_functions.py:38: FutureWarning: The default dtype for empty Series will be 'object' instead of 'float64' in a future version. Specify a dtype explicitly to silence this warning.\n",
      "  new_df = df[column_name].apply(pd.Series)\n",
      "C:\\Users\\jolka\\OneDrive\\Dokumenty\\Inzynierka\\ML-for-TTRPG-game-design\\analysis_functions.py:38: FutureWarning: The default dtype for empty Series will be 'object' instead of 'float64' in a future version. Specify a dtype explicitly to silence this warning.\n",
      "  new_df = df[column_name].apply(pd.Series)\n",
      "C:\\Users\\jolka\\OneDrive\\Dokumenty\\Inzynierka\\ML-for-TTRPG-game-design\\analysis_functions.py:38: FutureWarning: The default dtype for empty Series will be 'object' instead of 'float64' in a future version. Specify a dtype explicitly to silence this warning.\n",
      "  new_df = df[column_name].apply(pd.Series)\n",
      "C:\\Users\\jolka\\OneDrive\\Dokumenty\\Inzynierka\\ML-for-TTRPG-game-design\\analysis_functions.py:38: FutureWarning: The default dtype for empty Series will be 'object' instead of 'float64' in a future version. Specify a dtype explicitly to silence this warning.\n",
      "  new_df = df[column_name].apply(pd.Series)\n",
      "C:\\Users\\jolka\\OneDrive\\Dokumenty\\Inzynierka\\ML-for-TTRPG-game-design\\analysis_functions.py:38: FutureWarning: The default dtype for empty Series will be 'object' instead of 'float64' in a future version. Specify a dtype explicitly to silence this warning.\n",
      "  new_df = df[column_name].apply(pd.Series)\n",
      "C:\\Users\\jolka\\OneDrive\\Dokumenty\\Inzynierka\\ML-for-TTRPG-game-design\\analysis_functions.py:38: FutureWarning: The default dtype for empty Series will be 'object' instead of 'float64' in a future version. Specify a dtype explicitly to silence this warning.\n",
      "  new_df = df[column_name].apply(pd.Series)\n",
      "C:\\Users\\jolka\\OneDrive\\Dokumenty\\Inzynierka\\ML-for-TTRPG-game-design\\analysis_functions.py:38: FutureWarning: The default dtype for empty Series will be 'object' instead of 'float64' in a future version. Specify a dtype explicitly to silence this warning.\n",
      "  new_df = df[column_name].apply(pd.Series)\n",
      "C:\\Users\\jolka\\OneDrive\\Dokumenty\\Inzynierka\\ML-for-TTRPG-game-design\\analysis_functions.py:38: FutureWarning: The default dtype for empty Series will be 'object' instead of 'float64' in a future version. Specify a dtype explicitly to silence this warning.\n",
      "  new_df = df[column_name].apply(pd.Series)\n",
      "C:\\Users\\jolka\\OneDrive\\Dokumenty\\Inzynierka\\ML-for-TTRPG-game-design\\analysis_functions.py:38: FutureWarning: The default dtype for empty Series will be 'object' instead of 'float64' in a future version. Specify a dtype explicitly to silence this warning.\n",
      "  new_df = df[column_name].apply(pd.Series)\n",
      "C:\\Users\\jolka\\OneDrive\\Dokumenty\\Inzynierka\\ML-for-TTRPG-game-design\\analysis_functions.py:38: FutureWarning: The default dtype for empty Series will be 'object' instead of 'float64' in a future version. Specify a dtype explicitly to silence this warning.\n",
      "  new_df = df[column_name].apply(pd.Series)\n",
      "C:\\Users\\jolka\\OneDrive\\Dokumenty\\Inzynierka\\ML-for-TTRPG-game-design\\analysis_functions.py:38: FutureWarning: The default dtype for empty Series will be 'object' instead of 'float64' in a future version. Specify a dtype explicitly to silence this warning.\n",
      "  new_df = df[column_name].apply(pd.Series)\n",
      "C:\\Users\\jolka\\OneDrive\\Dokumenty\\Inzynierka\\ML-for-TTRPG-game-design\\analysis_functions.py:38: FutureWarning: The default dtype for empty Series will be 'object' instead of 'float64' in a future version. Specify a dtype explicitly to silence this warning.\n",
      "  new_df = df[column_name].apply(pd.Series)\n",
      "C:\\Users\\jolka\\OneDrive\\Dokumenty\\Inzynierka\\ML-for-TTRPG-game-design\\analysis_functions.py:38: FutureWarning: The default dtype for empty Series will be 'object' instead of 'float64' in a future version. Specify a dtype explicitly to silence this warning.\n",
      "  new_df = df[column_name].apply(pd.Series)\n",
      "C:\\Users\\jolka\\OneDrive\\Dokumenty\\Inzynierka\\ML-for-TTRPG-game-design\\analysis_functions.py:38: FutureWarning: The default dtype for empty Series will be 'object' instead of 'float64' in a future version. Specify a dtype explicitly to silence this warning.\n",
      "  new_df = df[column_name].apply(pd.Series)\n",
      "C:\\Users\\jolka\\OneDrive\\Dokumenty\\Inzynierka\\ML-for-TTRPG-game-design\\analysis_functions.py:38: FutureWarning: The default dtype for empty Series will be 'object' instead of 'float64' in a future version. Specify a dtype explicitly to silence this warning.\n",
      "  new_df = df[column_name].apply(pd.Series)\n",
      "C:\\Users\\jolka\\OneDrive\\Dokumenty\\Inzynierka\\ML-for-TTRPG-game-design\\analysis_functions.py:38: FutureWarning: The default dtype for empty Series will be 'object' instead of 'float64' in a future version. Specify a dtype explicitly to silence this warning.\n",
      "  new_df = df[column_name].apply(pd.Series)\n",
      "C:\\Users\\jolka\\OneDrive\\Dokumenty\\Inzynierka\\ML-for-TTRPG-game-design\\analysis_functions.py:38: FutureWarning: The default dtype for empty Series will be 'object' instead of 'float64' in a future version. Specify a dtype explicitly to silence this warning.\n",
      "  new_df = df[column_name].apply(pd.Series)\n",
      "C:\\Users\\jolka\\OneDrive\\Dokumenty\\Inzynierka\\ML-for-TTRPG-game-design\\analysis_functions.py:38: FutureWarning: The default dtype for empty Series will be 'object' instead of 'float64' in a future version. Specify a dtype explicitly to silence this warning.\n",
      "  new_df = df[column_name].apply(pd.Series)\n",
      "C:\\Users\\jolka\\OneDrive\\Dokumenty\\Inzynierka\\ML-for-TTRPG-game-design\\analysis_functions.py:38: FutureWarning: The default dtype for empty Series will be 'object' instead of 'float64' in a future version. Specify a dtype explicitly to silence this warning.\n",
      "  new_df = df[column_name].apply(pd.Series)\n",
      "C:\\Users\\jolka\\OneDrive\\Dokumenty\\Inzynierka\\ML-for-TTRPG-game-design\\analysis_functions.py:38: FutureWarning: The default dtype for empty Series will be 'object' instead of 'float64' in a future version. Specify a dtype explicitly to silence this warning.\n",
      "  new_df = df[column_name].apply(pd.Series)\n",
      "C:\\Users\\jolka\\OneDrive\\Dokumenty\\Inzynierka\\ML-for-TTRPG-game-design\\analysis_functions.py:38: FutureWarning: The default dtype for empty Series will be 'object' instead of 'float64' in a future version. Specify a dtype explicitly to silence this warning.\n",
      "  new_df = df[column_name].apply(pd.Series)\n",
      "C:\\Users\\jolka\\OneDrive\\Dokumenty\\Inzynierka\\ML-for-TTRPG-game-design\\analysis_functions.py:38: FutureWarning: The default dtype for empty Series will be 'object' instead of 'float64' in a future version. Specify a dtype explicitly to silence this warning.\n",
      "  new_df = df[column_name].apply(pd.Series)\n",
      "C:\\Users\\jolka\\OneDrive\\Dokumenty\\Inzynierka\\ML-for-TTRPG-game-design\\analysis_functions.py:38: FutureWarning: The default dtype for empty Series will be 'object' instead of 'float64' in a future version. Specify a dtype explicitly to silence this warning.\n",
      "  new_df = df[column_name].apply(pd.Series)\n",
      "C:\\Users\\jolka\\OneDrive\\Dokumenty\\Inzynierka\\ML-for-TTRPG-game-design\\analysis_functions.py:38: FutureWarning: The default dtype for empty Series will be 'object' instead of 'float64' in a future version. Specify a dtype explicitly to silence this warning.\n",
      "  new_df = df[column_name].apply(pd.Series)\n",
      "C:\\Users\\jolka\\OneDrive\\Dokumenty\\Inzynierka\\ML-for-TTRPG-game-design\\analysis_functions.py:38: FutureWarning: The default dtype for empty Series will be 'object' instead of 'float64' in a future version. Specify a dtype explicitly to silence this warning.\n",
      "  new_df = df[column_name].apply(pd.Series)\n",
      "C:\\Users\\jolka\\OneDrive\\Dokumenty\\Inzynierka\\ML-for-TTRPG-game-design\\analysis_functions.py:38: FutureWarning: The default dtype for empty Series will be 'object' instead of 'float64' in a future version. Specify a dtype explicitly to silence this warning.\n",
      "  new_df = df[column_name].apply(pd.Series)\n",
      "C:\\Users\\jolka\\OneDrive\\Dokumenty\\Inzynierka\\ML-for-TTRPG-game-design\\analysis_functions.py:38: FutureWarning: The default dtype for empty Series will be 'object' instead of 'float64' in a future version. Specify a dtype explicitly to silence this warning.\n",
      "  new_df = df[column_name].apply(pd.Series)\n",
      "C:\\Users\\jolka\\OneDrive\\Dokumenty\\Inzynierka\\ML-for-TTRPG-game-design\\analysis_functions.py:38: FutureWarning: The default dtype for empty Series will be 'object' instead of 'float64' in a future version. Specify a dtype explicitly to silence this warning.\n",
      "  new_df = df[column_name].apply(pd.Series)\n",
      "C:\\Users\\jolka\\OneDrive\\Dokumenty\\Inzynierka\\ML-for-TTRPG-game-design\\analysis_functions.py:38: FutureWarning: The default dtype for empty Series will be 'object' instead of 'float64' in a future version. Specify a dtype explicitly to silence this warning.\n",
      "  new_df = df[column_name].apply(pd.Series)\n",
      "C:\\Users\\jolka\\OneDrive\\Dokumenty\\Inzynierka\\ML-for-TTRPG-game-design\\analysis_functions.py:38: FutureWarning: The default dtype for empty Series will be 'object' instead of 'float64' in a future version. Specify a dtype explicitly to silence this warning.\n",
      "  new_df = df[column_name].apply(pd.Series)\n",
      "C:\\Users\\jolka\\OneDrive\\Dokumenty\\Inzynierka\\ML-for-TTRPG-game-design\\analysis_functions.py:38: FutureWarning: The default dtype for empty Series will be 'object' instead of 'float64' in a future version. Specify a dtype explicitly to silence this warning.\n",
      "  new_df = df[column_name].apply(pd.Series)\n",
      "C:\\Users\\jolka\\OneDrive\\Dokumenty\\Inzynierka\\ML-for-TTRPG-game-design\\analysis_functions.py:38: FutureWarning: The default dtype for empty Series will be 'object' instead of 'float64' in a future version. Specify a dtype explicitly to silence this warning.\n",
      "  new_df = df[column_name].apply(pd.Series)\n",
      "C:\\Users\\jolka\\OneDrive\\Dokumenty\\Inzynierka\\ML-for-TTRPG-game-design\\analysis_functions.py:38: FutureWarning: The default dtype for empty Series will be 'object' instead of 'float64' in a future version. Specify a dtype explicitly to silence this warning.\n",
      "  new_df = df[column_name].apply(pd.Series)\n",
      "C:\\Users\\jolka\\OneDrive\\Dokumenty\\Inzynierka\\ML-for-TTRPG-game-design\\analysis_functions.py:38: FutureWarning: The default dtype for empty Series will be 'object' instead of 'float64' in a future version. Specify a dtype explicitly to silence this warning.\n",
      "  new_df = df[column_name].apply(pd.Series)\n",
      "C:\\Users\\jolka\\OneDrive\\Dokumenty\\Inzynierka\\ML-for-TTRPG-game-design\\analysis_functions.py:38: FutureWarning: The default dtype for empty Series will be 'object' instead of 'float64' in a future version. Specify a dtype explicitly to silence this warning.\n",
      "  new_df = df[column_name].apply(pd.Series)\n",
      "C:\\Users\\jolka\\OneDrive\\Dokumenty\\Inzynierka\\ML-for-TTRPG-game-design\\analysis_functions.py:38: FutureWarning: The default dtype for empty Series will be 'object' instead of 'float64' in a future version. Specify a dtype explicitly to silence this warning.\n",
      "  new_df = df[column_name].apply(pd.Series)\n",
      "C:\\Users\\jolka\\OneDrive\\Dokumenty\\Inzynierka\\ML-for-TTRPG-game-design\\analysis_functions.py:38: FutureWarning: The default dtype for empty Series will be 'object' instead of 'float64' in a future version. Specify a dtype explicitly to silence this warning.\n",
      "  new_df = df[column_name].apply(pd.Series)\n",
      "C:\\Users\\jolka\\OneDrive\\Dokumenty\\Inzynierka\\ML-for-TTRPG-game-design\\analysis_functions.py:38: FutureWarning: The default dtype for empty Series will be 'object' instead of 'float64' in a future version. Specify a dtype explicitly to silence this warning.\n",
      "  new_df = df[column_name].apply(pd.Series)\n",
      "C:\\Users\\jolka\\OneDrive\\Dokumenty\\Inzynierka\\ML-for-TTRPG-game-design\\analysis_functions.py:38: FutureWarning: The default dtype for empty Series will be 'object' instead of 'float64' in a future version. Specify a dtype explicitly to silence this warning.\n",
      "  new_df = df[column_name].apply(pd.Series)\n",
      "C:\\Users\\jolka\\OneDrive\\Dokumenty\\Inzynierka\\ML-for-TTRPG-game-design\\analysis_functions.py:38: FutureWarning: The default dtype for empty Series will be 'object' instead of 'float64' in a future version. Specify a dtype explicitly to silence this warning.\n",
      "  new_df = df[column_name].apply(pd.Series)\n",
      "C:\\Users\\jolka\\OneDrive\\Dokumenty\\Inzynierka\\ML-for-TTRPG-game-design\\analysis_functions.py:38: FutureWarning: The default dtype for empty Series will be 'object' instead of 'float64' in a future version. Specify a dtype explicitly to silence this warning.\n",
      "  new_df = df[column_name].apply(pd.Series)\n",
      "C:\\Users\\jolka\\OneDrive\\Dokumenty\\Inzynierka\\ML-for-TTRPG-game-design\\analysis_functions.py:38: FutureWarning: The default dtype for empty Series will be 'object' instead of 'float64' in a future version. Specify a dtype explicitly to silence this warning.\n",
      "  new_df = df[column_name].apply(pd.Series)\n",
      "C:\\Users\\jolka\\OneDrive\\Dokumenty\\Inzynierka\\ML-for-TTRPG-game-design\\analysis_functions.py:38: FutureWarning: The default dtype for empty Series will be 'object' instead of 'float64' in a future version. Specify a dtype explicitly to silence this warning.\n",
      "  new_df = df[column_name].apply(pd.Series)\n",
      "C:\\Users\\jolka\\OneDrive\\Dokumenty\\Inzynierka\\ML-for-TTRPG-game-design\\analysis_functions.py:38: FutureWarning: The default dtype for empty Series will be 'object' instead of 'float64' in a future version. Specify a dtype explicitly to silence this warning.\n",
      "  new_df = df[column_name].apply(pd.Series)\n",
      "C:\\Users\\jolka\\OneDrive\\Dokumenty\\Inzynierka\\ML-for-TTRPG-game-design\\analysis_functions.py:38: FutureWarning: The default dtype for empty Series will be 'object' instead of 'float64' in a future version. Specify a dtype explicitly to silence this warning.\n",
      "  new_df = df[column_name].apply(pd.Series)\n",
      "C:\\Users\\jolka\\OneDrive\\Dokumenty\\Inzynierka\\ML-for-TTRPG-game-design\\analysis_functions.py:38: FutureWarning: The default dtype for empty Series will be 'object' instead of 'float64' in a future version. Specify a dtype explicitly to silence this warning.\n",
      "  new_df = df[column_name].apply(pd.Series)\n",
      "C:\\Users\\jolka\\OneDrive\\Dokumenty\\Inzynierka\\ML-for-TTRPG-game-design\\analysis_functions.py:38: FutureWarning: The default dtype for empty Series will be 'object' instead of 'float64' in a future version. Specify a dtype explicitly to silence this warning.\n",
      "  new_df = df[column_name].apply(pd.Series)\n",
      "C:\\Users\\jolka\\OneDrive\\Dokumenty\\Inzynierka\\ML-for-TTRPG-game-design\\analysis_functions.py:38: FutureWarning: The default dtype for empty Series will be 'object' instead of 'float64' in a future version. Specify a dtype explicitly to silence this warning.\n",
      "  new_df = df[column_name].apply(pd.Series)\n",
      "C:\\Users\\jolka\\OneDrive\\Dokumenty\\Inzynierka\\ML-for-TTRPG-game-design\\analysis_functions.py:38: FutureWarning: The default dtype for empty Series will be 'object' instead of 'float64' in a future version. Specify a dtype explicitly to silence this warning.\n",
      "  new_df = df[column_name].apply(pd.Series)\n",
      "C:\\Users\\jolka\\OneDrive\\Dokumenty\\Inzynierka\\ML-for-TTRPG-game-design\\analysis_functions.py:38: FutureWarning: The default dtype for empty Series will be 'object' instead of 'float64' in a future version. Specify a dtype explicitly to silence this warning.\n",
      "  new_df = df[column_name].apply(pd.Series)\n",
      "C:\\Users\\jolka\\OneDrive\\Dokumenty\\Inzynierka\\ML-for-TTRPG-game-design\\analysis_functions.py:38: FutureWarning: The default dtype for empty Series will be 'object' instead of 'float64' in a future version. Specify a dtype explicitly to silence this warning.\n",
      "  new_df = df[column_name].apply(pd.Series)\n",
      "C:\\Users\\jolka\\OneDrive\\Dokumenty\\Inzynierka\\ML-for-TTRPG-game-design\\analysis_functions.py:38: FutureWarning: The default dtype for empty Series will be 'object' instead of 'float64' in a future version. Specify a dtype explicitly to silence this warning.\n",
      "  new_df = df[column_name].apply(pd.Series)\n",
      "C:\\Users\\jolka\\OneDrive\\Dokumenty\\Inzynierka\\ML-for-TTRPG-game-design\\analysis_functions.py:38: FutureWarning: The default dtype for empty Series will be 'object' instead of 'float64' in a future version. Specify a dtype explicitly to silence this warning.\n",
      "  new_df = df[column_name].apply(pd.Series)\n",
      "C:\\Users\\jolka\\OneDrive\\Dokumenty\\Inzynierka\\ML-for-TTRPG-game-design\\analysis_functions.py:38: FutureWarning: The default dtype for empty Series will be 'object' instead of 'float64' in a future version. Specify a dtype explicitly to silence this warning.\n",
      "  new_df = df[column_name].apply(pd.Series)\n",
      "C:\\Users\\jolka\\OneDrive\\Dokumenty\\Inzynierka\\ML-for-TTRPG-game-design\\analysis_functions.py:38: FutureWarning: The default dtype for empty Series will be 'object' instead of 'float64' in a future version. Specify a dtype explicitly to silence this warning.\n",
      "  new_df = df[column_name].apply(pd.Series)\n",
      "C:\\Users\\jolka\\OneDrive\\Dokumenty\\Inzynierka\\ML-for-TTRPG-game-design\\analysis_functions.py:38: FutureWarning: The default dtype for empty Series will be 'object' instead of 'float64' in a future version. Specify a dtype explicitly to silence this warning.\n",
      "  new_df = df[column_name].apply(pd.Series)\n",
      "C:\\Users\\jolka\\OneDrive\\Dokumenty\\Inzynierka\\ML-for-TTRPG-game-design\\analysis_functions.py:38: FutureWarning: The default dtype for empty Series will be 'object' instead of 'float64' in a future version. Specify a dtype explicitly to silence this warning.\n",
      "  new_df = df[column_name].apply(pd.Series)\n",
      "C:\\Users\\jolka\\OneDrive\\Dokumenty\\Inzynierka\\ML-for-TTRPG-game-design\\analysis_functions.py:38: FutureWarning: The default dtype for empty Series will be 'object' instead of 'float64' in a future version. Specify a dtype explicitly to silence this warning.\n",
      "  new_df = df[column_name].apply(pd.Series)\n",
      "C:\\Users\\jolka\\OneDrive\\Dokumenty\\Inzynierka\\ML-for-TTRPG-game-design\\analysis_functions.py:38: FutureWarning: The default dtype for empty Series will be 'object' instead of 'float64' in a future version. Specify a dtype explicitly to silence this warning.\n",
      "  new_df = df[column_name].apply(pd.Series)\n",
      "C:\\Users\\jolka\\OneDrive\\Dokumenty\\Inzynierka\\ML-for-TTRPG-game-design\\analysis_functions.py:38: FutureWarning: The default dtype for empty Series will be 'object' instead of 'float64' in a future version. Specify a dtype explicitly to silence this warning.\n",
      "  new_df = df[column_name].apply(pd.Series)\n",
      "C:\\Users\\jolka\\OneDrive\\Dokumenty\\Inzynierka\\ML-for-TTRPG-game-design\\analysis_functions.py:38: FutureWarning: The default dtype for empty Series will be 'object' instead of 'float64' in a future version. Specify a dtype explicitly to silence this warning.\n",
      "  new_df = df[column_name].apply(pd.Series)\n",
      "C:\\Users\\jolka\\OneDrive\\Dokumenty\\Inzynierka\\ML-for-TTRPG-game-design\\analysis_functions.py:38: FutureWarning: The default dtype for empty Series will be 'object' instead of 'float64' in a future version. Specify a dtype explicitly to silence this warning.\n",
      "  new_df = df[column_name].apply(pd.Series)\n",
      "C:\\Users\\jolka\\OneDrive\\Dokumenty\\Inzynierka\\ML-for-TTRPG-game-design\\analysis_functions.py:38: FutureWarning: The default dtype for empty Series will be 'object' instead of 'float64' in a future version. Specify a dtype explicitly to silence this warning.\n",
      "  new_df = df[column_name].apply(pd.Series)\n",
      "C:\\Users\\jolka\\OneDrive\\Dokumenty\\Inzynierka\\ML-for-TTRPG-game-design\\analysis_functions.py:38: FutureWarning: The default dtype for empty Series will be 'object' instead of 'float64' in a future version. Specify a dtype explicitly to silence this warning.\n",
      "  new_df = df[column_name].apply(pd.Series)\n",
      "C:\\Users\\jolka\\OneDrive\\Dokumenty\\Inzynierka\\ML-for-TTRPG-game-design\\analysis_functions.py:38: FutureWarning: The default dtype for empty Series will be 'object' instead of 'float64' in a future version. Specify a dtype explicitly to silence this warning.\n",
      "  new_df = df[column_name].apply(pd.Series)\n",
      "C:\\Users\\jolka\\OneDrive\\Dokumenty\\Inzynierka\\ML-for-TTRPG-game-design\\analysis_functions.py:38: FutureWarning: The default dtype for empty Series will be 'object' instead of 'float64' in a future version. Specify a dtype explicitly to silence this warning.\n",
      "  new_df = df[column_name].apply(pd.Series)\n",
      "C:\\Users\\jolka\\OneDrive\\Dokumenty\\Inzynierka\\ML-for-TTRPG-game-design\\analysis_functions.py:38: FutureWarning: The default dtype for empty Series will be 'object' instead of 'float64' in a future version. Specify a dtype explicitly to silence this warning.\n",
      "  new_df = df[column_name].apply(pd.Series)\n",
      "C:\\Users\\jolka\\OneDrive\\Dokumenty\\Inzynierka\\ML-for-TTRPG-game-design\\analysis_functions.py:38: FutureWarning: The default dtype for empty Series will be 'object' instead of 'float64' in a future version. Specify a dtype explicitly to silence this warning.\n",
      "  new_df = df[column_name].apply(pd.Series)\n",
      "C:\\Users\\jolka\\OneDrive\\Dokumenty\\Inzynierka\\ML-for-TTRPG-game-design\\analysis_functions.py:38: FutureWarning: The default dtype for empty Series will be 'object' instead of 'float64' in a future version. Specify a dtype explicitly to silence this warning.\n",
      "  new_df = df[column_name].apply(pd.Series)\n",
      "C:\\Users\\jolka\\OneDrive\\Dokumenty\\Inzynierka\\ML-for-TTRPG-game-design\\analysis_functions.py:38: FutureWarning: The default dtype for empty Series will be 'object' instead of 'float64' in a future version. Specify a dtype explicitly to silence this warning.\n",
      "  new_df = df[column_name].apply(pd.Series)\n",
      "C:\\Users\\jolka\\OneDrive\\Dokumenty\\Inzynierka\\ML-for-TTRPG-game-design\\analysis_functions.py:38: FutureWarning: The default dtype for empty Series will be 'object' instead of 'float64' in a future version. Specify a dtype explicitly to silence this warning.\n",
      "  new_df = df[column_name].apply(pd.Series)\n",
      "C:\\Users\\jolka\\OneDrive\\Dokumenty\\Inzynierka\\ML-for-TTRPG-game-design\\analysis_functions.py:38: FutureWarning: The default dtype for empty Series will be 'object' instead of 'float64' in a future version. Specify a dtype explicitly to silence this warning.\n",
      "  new_df = df[column_name].apply(pd.Series)\n",
      "C:\\Users\\jolka\\OneDrive\\Dokumenty\\Inzynierka\\ML-for-TTRPG-game-design\\analysis_functions.py:38: FutureWarning: The default dtype for empty Series will be 'object' instead of 'float64' in a future version. Specify a dtype explicitly to silence this warning.\n",
      "  new_df = df[column_name].apply(pd.Series)\n",
      "C:\\Users\\jolka\\OneDrive\\Dokumenty\\Inzynierka\\ML-for-TTRPG-game-design\\analysis_functions.py:38: FutureWarning: The default dtype for empty Series will be 'object' instead of 'float64' in a future version. Specify a dtype explicitly to silence this warning.\n",
      "  new_df = df[column_name].apply(pd.Series)\n",
      "C:\\Users\\jolka\\OneDrive\\Dokumenty\\Inzynierka\\ML-for-TTRPG-game-design\\analysis_functions.py:38: FutureWarning: The default dtype for empty Series will be 'object' instead of 'float64' in a future version. Specify a dtype explicitly to silence this warning.\n",
      "  new_df = df[column_name].apply(pd.Series)\n",
      "C:\\Users\\jolka\\OneDrive\\Dokumenty\\Inzynierka\\ML-for-TTRPG-game-design\\analysis_functions.py:38: FutureWarning: The default dtype for empty Series will be 'object' instead of 'float64' in a future version. Specify a dtype explicitly to silence this warning.\n",
      "  new_df = df[column_name].apply(pd.Series)\n",
      "C:\\Users\\jolka\\OneDrive\\Dokumenty\\Inzynierka\\ML-for-TTRPG-game-design\\analysis_functions.py:38: FutureWarning: The default dtype for empty Series will be 'object' instead of 'float64' in a future version. Specify a dtype explicitly to silence this warning.\n",
      "  new_df = df[column_name].apply(pd.Series)\n",
      "C:\\Users\\jolka\\OneDrive\\Dokumenty\\Inzynierka\\ML-for-TTRPG-game-design\\analysis_functions.py:38: FutureWarning: The default dtype for empty Series will be 'object' instead of 'float64' in a future version. Specify a dtype explicitly to silence this warning.\n",
      "  new_df = df[column_name].apply(pd.Series)\n",
      "C:\\Users\\jolka\\OneDrive\\Dokumenty\\Inzynierka\\ML-for-TTRPG-game-design\\analysis_functions.py:38: FutureWarning: The default dtype for empty Series will be 'object' instead of 'float64' in a future version. Specify a dtype explicitly to silence this warning.\n",
      "  new_df = df[column_name].apply(pd.Series)\n",
      "C:\\Users\\jolka\\OneDrive\\Dokumenty\\Inzynierka\\ML-for-TTRPG-game-design\\analysis_functions.py:38: FutureWarning: The default dtype for empty Series will be 'object' instead of 'float64' in a future version. Specify a dtype explicitly to silence this warning.\n",
      "  new_df = df[column_name].apply(pd.Series)\n",
      "C:\\Users\\jolka\\OneDrive\\Dokumenty\\Inzynierka\\ML-for-TTRPG-game-design\\analysis_functions.py:38: FutureWarning: The default dtype for empty Series will be 'object' instead of 'float64' in a future version. Specify a dtype explicitly to silence this warning.\n",
      "  new_df = df[column_name].apply(pd.Series)\n",
      "C:\\Users\\jolka\\OneDrive\\Dokumenty\\Inzynierka\\ML-for-TTRPG-game-design\\analysis_functions.py:38: FutureWarning: The default dtype for empty Series will be 'object' instead of 'float64' in a future version. Specify a dtype explicitly to silence this warning.\n",
      "  new_df = df[column_name].apply(pd.Series)\n",
      "C:\\Users\\jolka\\OneDrive\\Dokumenty\\Inzynierka\\ML-for-TTRPG-game-design\\analysis_functions.py:38: FutureWarning: The default dtype for empty Series will be 'object' instead of 'float64' in a future version. Specify a dtype explicitly to silence this warning.\n",
      "  new_df = df[column_name].apply(pd.Series)\n",
      "C:\\Users\\jolka\\OneDrive\\Dokumenty\\Inzynierka\\ML-for-TTRPG-game-design\\analysis_functions.py:38: FutureWarning: The default dtype for empty Series will be 'object' instead of 'float64' in a future version. Specify a dtype explicitly to silence this warning.\n",
      "  new_df = df[column_name].apply(pd.Series)\n",
      "C:\\Users\\jolka\\OneDrive\\Dokumenty\\Inzynierka\\ML-for-TTRPG-game-design\\analysis_functions.py:38: FutureWarning: The default dtype for empty Series will be 'object' instead of 'float64' in a future version. Specify a dtype explicitly to silence this warning.\n",
      "  new_df = df[column_name].apply(pd.Series)\n",
      "C:\\Users\\jolka\\OneDrive\\Dokumenty\\Inzynierka\\ML-for-TTRPG-game-design\\analysis_functions.py:38: FutureWarning: The default dtype for empty Series will be 'object' instead of 'float64' in a future version. Specify a dtype explicitly to silence this warning.\n",
      "  new_df = df[column_name].apply(pd.Series)\n",
      "C:\\Users\\jolka\\OneDrive\\Dokumenty\\Inzynierka\\ML-for-TTRPG-game-design\\analysis_functions.py:38: FutureWarning: The default dtype for empty Series will be 'object' instead of 'float64' in a future version. Specify a dtype explicitly to silence this warning.\n",
      "  new_df = df[column_name].apply(pd.Series)\n",
      "C:\\Users\\jolka\\OneDrive\\Dokumenty\\Inzynierka\\ML-for-TTRPG-game-design\\analysis_functions.py:38: FutureWarning: The default dtype for empty Series will be 'object' instead of 'float64' in a future version. Specify a dtype explicitly to silence this warning.\n",
      "  new_df = df[column_name].apply(pd.Series)\n",
      "C:\\Users\\jolka\\OneDrive\\Dokumenty\\Inzynierka\\ML-for-TTRPG-game-design\\analysis_functions.py:38: FutureWarning: The default dtype for empty Series will be 'object' instead of 'float64' in a future version. Specify a dtype explicitly to silence this warning.\n",
      "  new_df = df[column_name].apply(pd.Series)\n"
     ]
    }
   ],
   "source": [
    "resources = unpack_column(system, \"resources\")  # do sth with this warning!!!"
   ],
   "metadata": {
    "collapsed": false
   }
  },
  {
   "cell_type": "code",
   "execution_count": 6,
   "outputs": [
    {
     "name": "stdout",
     "output_type": "stream",
     "text": [
      "<class 'pandas.core.frame.DataFrame'>\n",
      "Int64Index: 1206 entries, 0 to 364\n",
      "Data columns (total 1 columns):\n",
      " #   Column  Non-Null Count  Dtype \n",
      "---  ------  --------------  ----- \n",
      " 0   focus   566 non-null    object\n",
      "dtypes: object(1)\n",
      "memory usage: 18.8+ KB\n"
     ]
    }
   ],
   "source": [
    "resources.info()"
   ],
   "metadata": {
    "collapsed": false
   }
  },
  {
   "cell_type": "code",
   "execution_count": 7,
   "outputs": [
    {
     "data": {
      "text/plain": "                    focus\n0  {'max': 1, 'value': 1}\n1                     NaN\n2                     NaN\n3  {'max': 1, 'value': 1}\n4  {'max': 1, 'value': 1}",
      "text/html": "<div>\n<style scoped>\n    .dataframe tbody tr th:only-of-type {\n        vertical-align: middle;\n    }\n\n    .dataframe tbody tr th {\n        vertical-align: top;\n    }\n\n    .dataframe thead th {\n        text-align: right;\n    }\n</style>\n<table border=\"1\" class=\"dataframe\">\n  <thead>\n    <tr style=\"text-align: right;\">\n      <th></th>\n      <th>focus</th>\n    </tr>\n  </thead>\n  <tbody>\n    <tr>\n      <th>0</th>\n      <td>{'max': 1, 'value': 1}</td>\n    </tr>\n    <tr>\n      <th>1</th>\n      <td>NaN</td>\n    </tr>\n    <tr>\n      <th>2</th>\n      <td>NaN</td>\n    </tr>\n    <tr>\n      <th>3</th>\n      <td>{'max': 1, 'value': 1}</td>\n    </tr>\n    <tr>\n      <th>4</th>\n      <td>{'max': 1, 'value': 1}</td>\n    </tr>\n  </tbody>\n</table>\n</div>"
     },
     "execution_count": 7,
     "metadata": {},
     "output_type": "execute_result"
    }
   ],
   "source": [
    "resources.head()"
   ],
   "metadata": {
    "collapsed": false
   }
  },
  {
   "cell_type": "code",
   "execution_count": 38,
   "outputs": [],
   "source": [
    "def check_diff_values(df, values):\n",
    "    return (\n",
    "        len(\n",
    "            [\n",
    "                _\n",
    "                for i, row in df.iterrows()\n",
    "                for col in df.columns\n",
    "                for val in values\n",
    "                if type(row[col]) is dict\n",
    "                and (len(row[col].keys()) != len(values) or val not in row[col].keys())\n",
    "            ]\n",
    "        )\n",
    "        > 0\n",
    "    )"
   ],
   "metadata": {
    "collapsed": false
   }
  },
  {
   "cell_type": "code",
   "execution_count": 41,
   "outputs": [
    {
     "name": "stdout",
     "output_type": "stream",
     "text": [
      "Klucze inne niż: max, value?\n",
      "False\n"
     ]
    }
   ],
   "source": [
    "print(\"Klucze inne niż: max, value?\")\n",
    "print(check_diff_values(pd.DataFrame(data=resources.focus), [\"max\", \"value\"]))"
   ],
   "metadata": {
    "collapsed": false
   }
  },
  {
   "cell_type": "code",
   "execution_count": 56,
   "outputs": [],
   "source": [
    "max_val = {}\n",
    "\n",
    "for i, row in resources.iterrows():\n",
    "    if type(row[\"focus\"]) is dict:\n",
    "        max_val[(row[\"focus\"].get(\"max\"), row[\"focus\"].get(\"value\"))] = None"
   ],
   "metadata": {
    "collapsed": false
   }
  },
  {
   "cell_type": "code",
   "execution_count": 57,
   "outputs": [
    {
     "name": "stdout",
     "output_type": "stream",
     "text": [
      "{(1, 1): None, (0, 0): None, (3, 3): None, (2, 2): None}\n"
     ]
    }
   ],
   "source": [
    "print(max_val)"
   ],
   "metadata": {
    "collapsed": false
   }
  },
  {
   "cell_type": "markdown",
   "source": [
    "### Resources\n",
    "Zatem w bestiariuszach focus value == focus max\n",
    "\n",
    "Zakres wartości: 0 - 3\n",
    "\n",
    "Nie każdy potworek ma\n",
    "\n",
    "Można zredukować złożoneość tej kolumny - ma 1 \"pod kolumne\" z 2 wartościami, które są takie same dla danego potworka o\n",
    "ile je ma - **może się przydać**"
   ],
   "metadata": {
    "collapsed": false
   }
  },
  {
   "cell_type": "markdown",
   "source": [
    "## Saves"
   ],
   "metadata": {
    "collapsed": false
   }
  },
  {
   "cell_type": "code",
   "execution_count": 4,
   "outputs": [],
   "source": [
    "saves = unpack_column(system, \"saves\")"
   ],
   "metadata": {
    "collapsed": false
   }
  },
  {
   "cell_type": "code",
   "execution_count": 5,
   "outputs": [
    {
     "name": "stdout",
     "output_type": "stream",
     "text": [
      "<class 'pandas.core.frame.DataFrame'>\n",
      "Int64Index: 1206 entries, 0 to 364\n",
      "Data columns (total 3 columns):\n",
      " #   Column     Non-Null Count  Dtype \n",
      "---  ------     --------------  ----- \n",
      " 0   fortitude  1206 non-null   object\n",
      " 1   reflex     1206 non-null   object\n",
      " 2   will       1206 non-null   object\n",
      "dtypes: object(3)\n",
      "memory usage: 37.7+ KB\n"
     ]
    }
   ],
   "source": [
    "saves.info()"
   ],
   "metadata": {
    "collapsed": false
   }
  },
  {
   "cell_type": "code",
   "execution_count": 6,
   "outputs": [
    {
     "data": {
      "text/plain": "                         fortitude                           reflex  \\\n0  {'saveDetail': '', 'value': 22}  {'saveDetail': '', 'value': 19}   \n1  {'saveDetail': '', 'value': 21}  {'saveDetail': '', 'value': 14}   \n2  {'saveDetail': '', 'value': 20}  {'saveDetail': '', 'value': 17}   \n3  {'saveDetail': '', 'value': 30}  {'saveDetail': '', 'value': 29}   \n4   {'saveDetail': '', 'value': 6}  {'saveDetail': '', 'value': 10}   \n\n                              will  \n0  {'saveDetail': '', 'value': 17}  \n1  {'saveDetail': '', 'value': 16}  \n2  {'saveDetail': '', 'value': 15}  \n3  {'saveDetail': '', 'value': 32}  \n4   {'saveDetail': '', 'value': 4}  ",
      "text/html": "<div>\n<style scoped>\n    .dataframe tbody tr th:only-of-type {\n        vertical-align: middle;\n    }\n\n    .dataframe tbody tr th {\n        vertical-align: top;\n    }\n\n    .dataframe thead th {\n        text-align: right;\n    }\n</style>\n<table border=\"1\" class=\"dataframe\">\n  <thead>\n    <tr style=\"text-align: right;\">\n      <th></th>\n      <th>fortitude</th>\n      <th>reflex</th>\n      <th>will</th>\n    </tr>\n  </thead>\n  <tbody>\n    <tr>\n      <th>0</th>\n      <td>{'saveDetail': '', 'value': 22}</td>\n      <td>{'saveDetail': '', 'value': 19}</td>\n      <td>{'saveDetail': '', 'value': 17}</td>\n    </tr>\n    <tr>\n      <th>1</th>\n      <td>{'saveDetail': '', 'value': 21}</td>\n      <td>{'saveDetail': '', 'value': 14}</td>\n      <td>{'saveDetail': '', 'value': 16}</td>\n    </tr>\n    <tr>\n      <th>2</th>\n      <td>{'saveDetail': '', 'value': 20}</td>\n      <td>{'saveDetail': '', 'value': 17}</td>\n      <td>{'saveDetail': '', 'value': 15}</td>\n    </tr>\n    <tr>\n      <th>3</th>\n      <td>{'saveDetail': '', 'value': 30}</td>\n      <td>{'saveDetail': '', 'value': 29}</td>\n      <td>{'saveDetail': '', 'value': 32}</td>\n    </tr>\n    <tr>\n      <th>4</th>\n      <td>{'saveDetail': '', 'value': 6}</td>\n      <td>{'saveDetail': '', 'value': 10}</td>\n      <td>{'saveDetail': '', 'value': 4}</td>\n    </tr>\n  </tbody>\n</table>\n</div>"
     },
     "execution_count": 6,
     "metadata": {},
     "output_type": "execute_result"
    }
   ],
   "source": [
    "saves.head()"
   ],
   "metadata": {
    "collapsed": false
   }
  },
  {
   "cell_type": "markdown",
   "source": [
    "Dane wyglądają \"przyjaźnie\", tylko jeszcze trzeba sprawdzić \"saveDetails\""
   ],
   "metadata": {
    "collapsed": false
   }
  },
  {
   "cell_type": "code",
   "execution_count": 53,
   "outputs": [],
   "source": [
    "fortitude = unpack_column(saves, \"fortitude\")\n",
    "reflex = unpack_column(saves, \"reflex\")\n",
    "will = unpack_column(saves, \"will\")"
   ],
   "metadata": {
    "collapsed": false
   }
  },
  {
   "cell_type": "markdown",
   "source": [
    "### Saves - fortitude"
   ],
   "metadata": {
    "collapsed": false
   }
  },
  {
   "cell_type": "code",
   "execution_count": 54,
   "outputs": [
    {
     "data": {
      "text/plain": "array(['', '(+8 vs. poisons)'], dtype=object)"
     },
     "execution_count": 54,
     "metadata": {},
     "output_type": "execute_result"
    }
   ],
   "source": [
    "fortitude.saveDetail.unique()"
   ],
   "metadata": {
    "collapsed": false
   }
  },
  {
   "cell_type": "code",
   "execution_count": 61,
   "outputs": [
    {
     "data": {
      "text/plain": "           saveDetail  value\n334  (+8 vs. poisons)      6",
      "text/html": "<div>\n<style scoped>\n    .dataframe tbody tr th:only-of-type {\n        vertical-align: middle;\n    }\n\n    .dataframe tbody tr th {\n        vertical-align: top;\n    }\n\n    .dataframe thead th {\n        text-align: right;\n    }\n</style>\n<table border=\"1\" class=\"dataframe\">\n  <thead>\n    <tr style=\"text-align: right;\">\n      <th></th>\n      <th>saveDetail</th>\n      <th>value</th>\n    </tr>\n  </thead>\n  <tbody>\n    <tr>\n      <th>334</th>\n      <td>(+8 vs. poisons)</td>\n      <td>6</td>\n    </tr>\n  </tbody>\n</table>\n</div>"
     },
     "execution_count": 61,
     "metadata": {},
     "output_type": "execute_result"
    }
   ],
   "source": [
    "fortitude[fortitude.saveDetail != \"\"]"
   ],
   "metadata": {
    "collapsed": false
   }
  },
  {
   "cell_type": "markdown",
   "source": [
    "tylko 1 potworek z jakąś wartością"
   ],
   "metadata": {
    "collapsed": false
   }
  },
  {
   "cell_type": "code",
   "execution_count": 58,
   "outputs": [
    {
     "data": {
      "text/plain": "0"
     },
     "execution_count": 58,
     "metadata": {},
     "output_type": "execute_result"
    }
   ],
   "source": [
    "fortitude.value.min()"
   ],
   "metadata": {
    "collapsed": false
   }
  },
  {
   "cell_type": "code",
   "execution_count": 57,
   "outputs": [
    {
     "data": {
      "text/plain": "44"
     },
     "execution_count": 57,
     "metadata": {},
     "output_type": "execute_result"
    }
   ],
   "source": [
    "fortitude.value.max()"
   ],
   "metadata": {
    "collapsed": false
   }
  },
  {
   "cell_type": "code",
   "execution_count": 59,
   "outputs": [
    {
     "data": {
      "text/plain": "array([22, 21, 20, 30,  6, 15,  9, 13, 12,  8,  2, 10, 36, 35, 34, 16, 14,\n       11, 27, 17,  7, 32, 28, 18, 23, 42,  5,  4, 26, 39, 25, 24,  3, 19,\n       31, 29, 33, 37, 38,  0, 40, 44, 43, 41], dtype=int64)"
     },
     "execution_count": 59,
     "metadata": {},
     "output_type": "execute_result"
    }
   ],
   "source": [
    "fortitude.value.unique()"
   ],
   "metadata": {
    "collapsed": false
   }
  },
  {
   "cell_type": "code",
   "execution_count": 74,
   "outputs": [
    {
     "name": "stdout",
     "output_type": "stream",
     "text": [
      "1\n"
     ]
    }
   ],
   "source": [
    "for i in range(fortitude.value.min(), fortitude.value.max() + 1):\n",
    "    if fortitude[fortitude.value == i].size < 1:\n",
    "        print(i)"
   ],
   "metadata": {
    "collapsed": false
   }
  },
  {
   "cell_type": "markdown",
   "source": [
    "### Saves - reflex"
   ],
   "metadata": {
    "collapsed": false
   }
  },
  {
   "cell_type": "code",
   "execution_count": 60,
   "outputs": [
    {
     "data": {
      "text/plain": "array([''], dtype=object)"
     },
     "execution_count": 60,
     "metadata": {},
     "output_type": "execute_result"
    }
   ],
   "source": [
    "reflex.saveDetail.unique()"
   ],
   "metadata": {
    "collapsed": false
   }
  },
  {
   "cell_type": "markdown",
   "source": [
    "Brak detali"
   ],
   "metadata": {
    "collapsed": false
   }
  },
  {
   "cell_type": "code",
   "execution_count": 62,
   "outputs": [
    {
     "data": {
      "text/plain": "41"
     },
     "execution_count": 62,
     "metadata": {},
     "output_type": "execute_result"
    }
   ],
   "source": [
    "reflex.value.max()"
   ],
   "metadata": {
    "collapsed": false
   }
  },
  {
   "cell_type": "code",
   "execution_count": 63,
   "outputs": [
    {
     "data": {
      "text/plain": "0"
     },
     "execution_count": 63,
     "metadata": {},
     "output_type": "execute_result"
    }
   ],
   "source": [
    "reflex.value.min()"
   ],
   "metadata": {
    "collapsed": false
   }
  },
  {
   "cell_type": "code",
   "execution_count": 64,
   "outputs": [
    {
     "data": {
      "text/plain": "array([19, 14, 17, 29, 10, 13, 15,  9,  0,  8,  7, 11, 32, 30, 28, 26,  5,\n       18, 21, 16, 40, 25,  6, 22, 23, 35, 20, 12, 27, 24,  1,  3, 31, 34,\n        4, 41, 33, 37, 39, 38, 36], dtype=int64)"
     },
     "execution_count": 64,
     "metadata": {},
     "output_type": "execute_result"
    }
   ],
   "source": [
    "reflex.value.unique()"
   ],
   "metadata": {
    "collapsed": false
   }
  },
  {
   "cell_type": "code",
   "execution_count": 73,
   "outputs": [
    {
     "name": "stdout",
     "output_type": "stream",
     "text": [
      "2\n"
     ]
    }
   ],
   "source": [
    "for i in range(reflex.value.min(), reflex.value.max() + 1):\n",
    "    if reflex[reflex.value == i].size < 1:\n",
    "        print(i)"
   ],
   "metadata": {
    "collapsed": false
   }
  },
  {
   "cell_type": "markdown",
   "source": [
    "### Saves - will"
   ],
   "metadata": {
    "collapsed": false
   }
  },
  {
   "cell_type": "code",
   "execution_count": 65,
   "outputs": [
    {
     "data": {
      "text/plain": "array(['', '; +1 status to all saves vs. magic'], dtype=object)"
     },
     "execution_count": 65,
     "metadata": {},
     "output_type": "execute_result"
    }
   ],
   "source": [
    "will.saveDetail.unique()"
   ],
   "metadata": {
    "collapsed": false
   }
  },
  {
   "cell_type": "code",
   "execution_count": 66,
   "outputs": [
    {
     "data": {
      "text/plain": "                             saveDetail  value\n40   ; +1 status to all saves vs. magic     19\n142  ; +1 status to all saves vs. magic     10\n315  ; +1 status to all saves vs. magic      8",
      "text/html": "<div>\n<style scoped>\n    .dataframe tbody tr th:only-of-type {\n        vertical-align: middle;\n    }\n\n    .dataframe tbody tr th {\n        vertical-align: top;\n    }\n\n    .dataframe thead th {\n        text-align: right;\n    }\n</style>\n<table border=\"1\" class=\"dataframe\">\n  <thead>\n    <tr style=\"text-align: right;\">\n      <th></th>\n      <th>saveDetail</th>\n      <th>value</th>\n    </tr>\n  </thead>\n  <tbody>\n    <tr>\n      <th>40</th>\n      <td>; +1 status to all saves vs. magic</td>\n      <td>19</td>\n    </tr>\n    <tr>\n      <th>142</th>\n      <td>; +1 status to all saves vs. magic</td>\n      <td>10</td>\n    </tr>\n    <tr>\n      <th>315</th>\n      <td>; +1 status to all saves vs. magic</td>\n      <td>8</td>\n    </tr>\n  </tbody>\n</table>\n</div>"
     },
     "execution_count": 66,
     "metadata": {},
     "output_type": "execute_result"
    }
   ],
   "source": [
    "will[will.saveDetail != \"\"]"
   ],
   "metadata": {
    "collapsed": false
   }
  },
  {
   "cell_type": "markdown",
   "source": [
    "Sporadyczne detale, ale i tak wszystkie takie same"
   ],
   "metadata": {
    "collapsed": false
   }
  },
  {
   "cell_type": "code",
   "execution_count": 67,
   "outputs": [
    {
     "data": {
      "text/plain": "0"
     },
     "execution_count": 67,
     "metadata": {},
     "output_type": "execute_result"
    }
   ],
   "source": [
    "will.value.min()"
   ],
   "metadata": {
    "collapsed": false
   }
  },
  {
   "cell_type": "code",
   "execution_count": 68,
   "outputs": [
    {
     "data": {
      "text/plain": "43"
     },
     "execution_count": 68,
     "metadata": {},
     "output_type": "execute_result"
    }
   ],
   "source": [
    "will.value.max()"
   ],
   "metadata": {
    "collapsed": false
   }
  },
  {
   "cell_type": "code",
   "execution_count": 69,
   "outputs": [
    {
     "data": {
      "text/plain": "array([17, 16, 15, 32,  4, 11, 14,  2,  5,  6,  3,  8, 31, 35, 25,  9, 12,\n       22, 33, 21, 13, 18,  7, 10, 27, 43, 24, 26, 34, 23, 29, 19, 20, 28,\n       30, 39, 38, 37,  0,  1, 40, 36, 42], dtype=int64)"
     },
     "execution_count": 69,
     "metadata": {},
     "output_type": "execute_result"
    }
   ],
   "source": [
    "will.value.unique()"
   ],
   "metadata": {
    "collapsed": false
   }
  },
  {
   "cell_type": "code",
   "execution_count": 72,
   "outputs": [
    {
     "name": "stdout",
     "output_type": "stream",
     "text": [
      "41\n"
     ]
    }
   ],
   "source": [
    "for i in range(will.value.min(), will.value.max() + 1):\n",
    "    if will[will.value == i].size < 1:\n",
    "        print(i)"
   ],
   "metadata": {
    "collapsed": false
   }
  },
  {
   "cell_type": "markdown",
   "source": [
    "### Saves - podsumowanie\n",
    "mamy trzy kolumny: fortitude, reflex, will\n",
    "\n",
    "Wszystkie potworki mają nie puste values\n",
    "\n",
    "Zakres wartości:\n",
    "* fortitude: 0-44\n",
    "* reflex: 0-41\n",
    "* will: 0-43\n",
    "Z jakiegoś powodu w każdej kolumnie istnieje dokładnie jadna wartość której nie ma żaden potworek (z powyższych przediałów)\n",
    "\n",
    "**Wydaje mi się, że dane dość spoko do w miarę prostego dodania**\n",
    "Czy są istotne?"
   ],
   "metadata": {
    "collapsed": false
   }
  },
  {
   "cell_type": "code",
   "execution_count": null,
   "outputs": [],
   "source": [],
   "metadata": {
    "collapsed": false
   }
  },
  {
   "cell_type": "code",
   "execution_count": null,
   "outputs": [],
   "source": [],
   "metadata": {
    "collapsed": false
   }
  }
 ],
 "metadata": {
  "kernelspec": {
   "display_name": "Python 3",
   "language": "python",
   "name": "python3"
  },
  "language_info": {
   "codemirror_mode": {
    "name": "ipython",
    "version": 2
   },
   "file_extension": ".py",
   "mimetype": "text/x-python",
   "name": "python",
   "nbconvert_exporter": "python",
   "pygments_lexer": "ipython2",
   "version": "2.7.6"
  }
 },
 "nbformat": 4,
 "nbformat_minor": 0
}
