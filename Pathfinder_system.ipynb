{
 "cells": [
  {
   "cell_type": "markdown",
   "source": [
    "# Analiza kolumny system: details...\n",
    "\n",
    "\n",
    "Import danych"
   ],
   "metadata": {
    "collapsed": false
   }
  },
  {
   "cell_type": "code",
   "execution_count": 20,
   "metadata": {
    "collapsed": true
   },
   "outputs": [],
   "source": [
    "from analysis_functions import (\n",
    "    import_merged_bestiaries,\n",
    "    unpack_column,\n",
    "    remove_redundant_level,\n",
    ")\n",
    "import pandas as pd\n",
    "\n",
    "\n",
    "bestiary = import_merged_bestiaries(\n",
    "    [\n",
    "        \"pathfinder_2e_data/pathfinder-bestiary.db\",\n",
    "        \"pathfinder_2e_data/pathfinder-bestiary-2.db\",\n",
    "        \"pathfinder_2e_data/pathfinder-bestiary-3.db\",\n",
    "    ]\n",
    ")"
   ]
  },
  {
   "cell_type": "code",
   "execution_count": 4,
   "outputs": [],
   "source": [
    "system = unpack_column(bestiary, \"system\")"
   ],
   "metadata": {
    "collapsed": false
   }
  },
  {
   "cell_type": "code",
   "execution_count": 5,
   "outputs": [
    {
     "data": {
      "text/plain": "                                           abilities  \\\n0  {'cha': {'mod': 1}, 'con': {'mod': 5}, 'dex': ...   \n1  {'cha': {'mod': 1}, 'con': {'mod': 5}, 'dex': ...   \n2  {'cha': {'mod': -2}, 'con': {'mod': 6}, 'dex':...   \n3  {'cha': {'mod': 6}, 'con': {'mod': 5}, 'dex': ...   \n4  {'cha': {'mod': 1}, 'con': {'mod': 1}, 'dex': ...   \n\n                                          attributes  \\\n0  {'ac': {'details': '', 'value': 29}, 'allSaves...   \n1  {'ac': {'details': '', 'value': 28}, 'allSaves...   \n2  {'ac': {'details': '', 'value': 25}, 'allSaves...   \n3  {'ac': {'details': '', 'value': 41}, 'allSaves...   \n4  {'ac': {'details': '', 'value': 16}, 'allSaves...   \n\n                                             details  \\\n0  {'alignment': {'value': 'CE'}, 'blurb': '', 'c...   \n1  {'alignment': {'value': 'N'}, 'blurb': '', 'cr...   \n2  {'alignment': {'value': 'N'}, 'blurb': '', 'cr...   \n3  {'alignment': {'value': 'LE'}, 'blurb': '', 'c...   \n4  {'alignment': {'value': 'LG'}, 'blurb': '', 'c...   \n\n                           resources  \\\n0  {'focus': {'max': 1, 'value': 1}}   \n1                                 {}   \n2                                 {}   \n3  {'focus': {'max': 1, 'value': 1}}   \n4  {'focus': {'max': 1, 'value': 1}}   \n\n                                               saves  \\\n0  {'fortitude': {'saveDetail': '', 'value': 22},...   \n1  {'fortitude': {'saveDetail': '', 'value': 21},...   \n2  {'fortitude': {'saveDetail': '', 'value': 20},...   \n3  {'fortitude': {'saveDetail': '', 'value': 30},...   \n4  {'fortitude': {'saveDetail': '', 'value': 6}, ...   \n\n                                              traits  \\\n0  {'languages': {'custom': '', 'selected': [], '...   \n1  {'languages': {'custom': '', 'selected': [], '...   \n2  {'languages': {'custom': '', 'selected': [], '...   \n3  {'languages': {'custom': '', 'selected': [], '...   \n4  {'languages': {'custom': '', 'selected': [], '...   \n\n                                              schema  \n0  {'version': 0.8270000000000001, 'lastMigration...  \n1  {'version': 0.8270000000000001, 'lastMigration...  \n2  {'version': 0.8270000000000001, 'lastMigration...  \n3  {'version': 0.8270000000000001, 'lastMigration...  \n4  {'version': 0.8270000000000001, 'lastMigration...  ",
      "text/html": "<div>\n<style scoped>\n    .dataframe tbody tr th:only-of-type {\n        vertical-align: middle;\n    }\n\n    .dataframe tbody tr th {\n        vertical-align: top;\n    }\n\n    .dataframe thead th {\n        text-align: right;\n    }\n</style>\n<table border=\"1\" class=\"dataframe\">\n  <thead>\n    <tr style=\"text-align: right;\">\n      <th></th>\n      <th>abilities</th>\n      <th>attributes</th>\n      <th>details</th>\n      <th>resources</th>\n      <th>saves</th>\n      <th>traits</th>\n      <th>schema</th>\n    </tr>\n  </thead>\n  <tbody>\n    <tr>\n      <th>0</th>\n      <td>{'cha': {'mod': 1}, 'con': {'mod': 5}, 'dex': ...</td>\n      <td>{'ac': {'details': '', 'value': 29}, 'allSaves...</td>\n      <td>{'alignment': {'value': 'CE'}, 'blurb': '', 'c...</td>\n      <td>{'focus': {'max': 1, 'value': 1}}</td>\n      <td>{'fortitude': {'saveDetail': '', 'value': 22},...</td>\n      <td>{'languages': {'custom': '', 'selected': [], '...</td>\n      <td>{'version': 0.8270000000000001, 'lastMigration...</td>\n    </tr>\n    <tr>\n      <th>1</th>\n      <td>{'cha': {'mod': 1}, 'con': {'mod': 5}, 'dex': ...</td>\n      <td>{'ac': {'details': '', 'value': 28}, 'allSaves...</td>\n      <td>{'alignment': {'value': 'N'}, 'blurb': '', 'cr...</td>\n      <td>{}</td>\n      <td>{'fortitude': {'saveDetail': '', 'value': 21},...</td>\n      <td>{'languages': {'custom': '', 'selected': [], '...</td>\n      <td>{'version': 0.8270000000000001, 'lastMigration...</td>\n    </tr>\n    <tr>\n      <th>2</th>\n      <td>{'cha': {'mod': -2}, 'con': {'mod': 6}, 'dex':...</td>\n      <td>{'ac': {'details': '', 'value': 25}, 'allSaves...</td>\n      <td>{'alignment': {'value': 'N'}, 'blurb': '', 'cr...</td>\n      <td>{}</td>\n      <td>{'fortitude': {'saveDetail': '', 'value': 20},...</td>\n      <td>{'languages': {'custom': '', 'selected': [], '...</td>\n      <td>{'version': 0.8270000000000001, 'lastMigration...</td>\n    </tr>\n    <tr>\n      <th>3</th>\n      <td>{'cha': {'mod': 6}, 'con': {'mod': 5}, 'dex': ...</td>\n      <td>{'ac': {'details': '', 'value': 41}, 'allSaves...</td>\n      <td>{'alignment': {'value': 'LE'}, 'blurb': '', 'c...</td>\n      <td>{'focus': {'max': 1, 'value': 1}}</td>\n      <td>{'fortitude': {'saveDetail': '', 'value': 30},...</td>\n      <td>{'languages': {'custom': '', 'selected': [], '...</td>\n      <td>{'version': 0.8270000000000001, 'lastMigration...</td>\n    </tr>\n    <tr>\n      <th>4</th>\n      <td>{'cha': {'mod': 1}, 'con': {'mod': 1}, 'dex': ...</td>\n      <td>{'ac': {'details': '', 'value': 16}, 'allSaves...</td>\n      <td>{'alignment': {'value': 'LG'}, 'blurb': '', 'c...</td>\n      <td>{'focus': {'max': 1, 'value': 1}}</td>\n      <td>{'fortitude': {'saveDetail': '', 'value': 6}, ...</td>\n      <td>{'languages': {'custom': '', 'selected': [], '...</td>\n      <td>{'version': 0.8270000000000001, 'lastMigration...</td>\n    </tr>\n  </tbody>\n</table>\n</div>"
     },
     "execution_count": 5,
     "metadata": {},
     "output_type": "execute_result"
    }
   ],
   "source": [
    "system.head()"
   ],
   "metadata": {
    "collapsed": false
   }
  },
  {
   "cell_type": "code",
   "execution_count": 6,
   "outputs": [
    {
     "name": "stdout",
     "output_type": "stream",
     "text": [
      "<class 'pandas.core.frame.DataFrame'>\n",
      "Int64Index: 1206 entries, 0 to 364\n",
      "Data columns (total 7 columns):\n",
      " #   Column      Non-Null Count  Dtype \n",
      "---  ------      --------------  ----- \n",
      " 0   abilities   1206 non-null   object\n",
      " 1   attributes  1206 non-null   object\n",
      " 2   details     1206 non-null   object\n",
      " 3   resources   1206 non-null   object\n",
      " 4   saves       1206 non-null   object\n",
      " 5   traits      1206 non-null   object\n",
      " 6   schema      1206 non-null   object\n",
      "dtypes: object(7)\n",
      "memory usage: 75.4+ KB\n"
     ]
    }
   ],
   "source": [
    "system.info()"
   ],
   "metadata": {
    "collapsed": false
   }
  },
  {
   "cell_type": "markdown",
   "source": [
    "## Details"
   ],
   "metadata": {
    "collapsed": false
   }
  },
  {
   "cell_type": "code",
   "execution_count": 7,
   "outputs": [],
   "source": [
    "details = unpack_column(system, \"details\")"
   ],
   "metadata": {
    "collapsed": false
   }
  },
  {
   "cell_type": "code",
   "execution_count": 8,
   "outputs": [
    {
     "data": {
      "text/plain": "         alignment blurb creatureType          level privateNotes  \\\n0  {'value': 'CE'}             Dragon  {'value': 10}                \n1   {'value': 'N'}             Animal  {'value': 10}                \n2   {'value': 'N'}             Animal   {'value': 8}                \n3  {'value': 'LE'}             Dragon  {'value': 17}                \n4  {'value': 'LG'}          Celestial   {'value': 1}                \n\n                                         publicNotes  \\\n0  <p>The most feral and least intelligent of all...   \n1  <p>Brontosauruses are truly gigantic behemoths...   \n2  <p>The monstrous giant anaconda is capable of ...   \n3  <p>Green dragons are the most contemplative of...   \n4  <p>Friendly, curious, and eternally optimistic...   \n\n                             source  \n0  {'value': 'Pathfinder Bestiary'}  \n1  {'value': 'Pathfinder Bestiary'}  \n2  {'value': 'Pathfinder Bestiary'}  \n3  {'value': 'Pathfinder Bestiary'}  \n4  {'value': 'Pathfinder Bestiary'}  ",
      "text/html": "<div>\n<style scoped>\n    .dataframe tbody tr th:only-of-type {\n        vertical-align: middle;\n    }\n\n    .dataframe tbody tr th {\n        vertical-align: top;\n    }\n\n    .dataframe thead th {\n        text-align: right;\n    }\n</style>\n<table border=\"1\" class=\"dataframe\">\n  <thead>\n    <tr style=\"text-align: right;\">\n      <th></th>\n      <th>alignment</th>\n      <th>blurb</th>\n      <th>creatureType</th>\n      <th>level</th>\n      <th>privateNotes</th>\n      <th>publicNotes</th>\n      <th>source</th>\n    </tr>\n  </thead>\n  <tbody>\n    <tr>\n      <th>0</th>\n      <td>{'value': 'CE'}</td>\n      <td></td>\n      <td>Dragon</td>\n      <td>{'value': 10}</td>\n      <td></td>\n      <td>&lt;p&gt;The most feral and least intelligent of all...</td>\n      <td>{'value': 'Pathfinder Bestiary'}</td>\n    </tr>\n    <tr>\n      <th>1</th>\n      <td>{'value': 'N'}</td>\n      <td></td>\n      <td>Animal</td>\n      <td>{'value': 10}</td>\n      <td></td>\n      <td>&lt;p&gt;Brontosauruses are truly gigantic behemoths...</td>\n      <td>{'value': 'Pathfinder Bestiary'}</td>\n    </tr>\n    <tr>\n      <th>2</th>\n      <td>{'value': 'N'}</td>\n      <td></td>\n      <td>Animal</td>\n      <td>{'value': 8}</td>\n      <td></td>\n      <td>&lt;p&gt;The monstrous giant anaconda is capable of ...</td>\n      <td>{'value': 'Pathfinder Bestiary'}</td>\n    </tr>\n    <tr>\n      <th>3</th>\n      <td>{'value': 'LE'}</td>\n      <td></td>\n      <td>Dragon</td>\n      <td>{'value': 17}</td>\n      <td></td>\n      <td>&lt;p&gt;Green dragons are the most contemplative of...</td>\n      <td>{'value': 'Pathfinder Bestiary'}</td>\n    </tr>\n    <tr>\n      <th>4</th>\n      <td>{'value': 'LG'}</td>\n      <td></td>\n      <td>Celestial</td>\n      <td>{'value': 1}</td>\n      <td></td>\n      <td>&lt;p&gt;Friendly, curious, and eternally optimistic...</td>\n      <td>{'value': 'Pathfinder Bestiary'}</td>\n    </tr>\n  </tbody>\n</table>\n</div>"
     },
     "execution_count": 8,
     "metadata": {},
     "output_type": "execute_result"
    }
   ],
   "source": [
    "details.head()"
   ],
   "metadata": {
    "collapsed": false
   }
  },
  {
   "cell_type": "markdown",
   "source": [
    "Jak widać wyżej mamy sporo fałszywych wartości non-null -> zmieniamy je na np.nan (null)"
   ],
   "metadata": {
    "collapsed": false
   }
  },
  {
   "cell_type": "code",
   "execution_count": 9,
   "outputs": [],
   "source": [
    "import numpy as np\n",
    "\n",
    "\n",
    "details = details.replace(\"\", np.nan)"
   ],
   "metadata": {
    "collapsed": false
   }
  },
  {
   "cell_type": "code",
   "execution_count": 10,
   "outputs": [
    {
     "name": "stdout",
     "output_type": "stream",
     "text": [
      "<class 'pandas.core.frame.DataFrame'>\n",
      "Int64Index: 1206 entries, 0 to 364\n",
      "Data columns (total 7 columns):\n",
      " #   Column        Non-Null Count  Dtype  \n",
      "---  ------        --------------  -----  \n",
      " 0   alignment     1206 non-null   object \n",
      " 1   blurb         0 non-null      float64\n",
      " 2   creatureType  825 non-null    object \n",
      " 3   level         1206 non-null   object \n",
      " 4   privateNotes  0 non-null      float64\n",
      " 5   publicNotes   1206 non-null   object \n",
      " 6   source        1206 non-null   object \n",
      "dtypes: float64(2), object(5)\n",
      "memory usage: 75.4+ KB\n"
     ]
    }
   ],
   "source": [
    "details.info()"
   ],
   "metadata": {
    "collapsed": false
   }
  },
  {
   "cell_type": "markdown",
   "source": [
    "* **alignment** - do sprawdzenia\n",
    "* blurb - i tak nic nie ma\n",
    "* **creatureType** - do sprawdzenia\n",
    "* **level** - \"do sprawdzenia\"\n",
    "* privateNotes - i tak nic nie ma\n",
    "* **publicNotes** - do sprawdzenia\n",
    "* **source** - do sprawdzenia"
   ],
   "metadata": {
    "collapsed": false
   }
  },
  {
   "cell_type": "markdown",
   "source": [
    "### Details: Alignment"
   ],
   "metadata": {
    "collapsed": false
   }
  },
  {
   "cell_type": "code",
   "execution_count": 11,
   "outputs": [],
   "source": [
    "alignment = unpack_column(details, \"alignment\")"
   ],
   "metadata": {
    "collapsed": false
   }
  },
  {
   "cell_type": "code",
   "execution_count": 12,
   "outputs": [
    {
     "data": {
      "text/plain": "Index(['value'], dtype='object')"
     },
     "execution_count": 12,
     "metadata": {},
     "output_type": "execute_result"
    }
   ],
   "source": [
    "alignment.columns"
   ],
   "metadata": {
    "collapsed": false
   }
  },
  {
   "cell_type": "code",
   "execution_count": 13,
   "outputs": [
    {
     "data": {
      "text/plain": "  value\n0    CE\n1     N\n2     N\n3    LE\n4    LG",
      "text/html": "<div>\n<style scoped>\n    .dataframe tbody tr th:only-of-type {\n        vertical-align: middle;\n    }\n\n    .dataframe tbody tr th {\n        vertical-align: top;\n    }\n\n    .dataframe thead th {\n        text-align: right;\n    }\n</style>\n<table border=\"1\" class=\"dataframe\">\n  <thead>\n    <tr style=\"text-align: right;\">\n      <th></th>\n      <th>value</th>\n    </tr>\n  </thead>\n  <tbody>\n    <tr>\n      <th>0</th>\n      <td>CE</td>\n    </tr>\n    <tr>\n      <th>1</th>\n      <td>N</td>\n    </tr>\n    <tr>\n      <th>2</th>\n      <td>N</td>\n    </tr>\n    <tr>\n      <th>3</th>\n      <td>LE</td>\n    </tr>\n    <tr>\n      <th>4</th>\n      <td>LG</td>\n    </tr>\n  </tbody>\n</table>\n</div>"
     },
     "execution_count": 13,
     "metadata": {},
     "output_type": "execute_result"
    }
   ],
   "source": [
    "alignment.head()"
   ],
   "metadata": {
    "collapsed": false
   }
  },
  {
   "cell_type": "code",
   "execution_count": 14,
   "outputs": [
    {
     "name": "stdout",
     "output_type": "stream",
     "text": [
      "<class 'pandas.core.frame.DataFrame'>\n",
      "Int64Index: 1206 entries, 0 to 364\n",
      "Data columns (total 1 columns):\n",
      " #   Column  Non-Null Count  Dtype \n",
      "---  ------  --------------  ----- \n",
      " 0   value   1206 non-null   object\n",
      "dtypes: object(1)\n",
      "memory usage: 18.8+ KB\n"
     ]
    }
   ],
   "source": [
    "alignment.info()"
   ],
   "metadata": {
    "collapsed": false
   }
  },
  {
   "cell_type": "markdown",
   "source": [
    "Same values -> można zrobić to co z mod"
   ],
   "metadata": {
    "collapsed": false
   }
  },
  {
   "cell_type": "code",
   "execution_count": 44,
   "outputs": [
    {
     "data": {
      "text/plain": "array(['CE', 'N', 'LE', 'LG', 'CG', 'NE', 'CN', 'NG', 'LN'], dtype=object)"
     },
     "execution_count": 44,
     "metadata": {},
     "output_type": "execute_result"
    }
   ],
   "source": [
    "alignment.value.unique()"
   ],
   "metadata": {
    "collapsed": false
   }
  },
  {
   "cell_type": "markdown",
   "source": [
    "Mamy 9 unikatowych wartości\n",
    " * czy są one istotne????\n",
    " * czy przydadzą się do if -ów???"
   ],
   "metadata": {
    "collapsed": false
   }
  },
  {
   "cell_type": "markdown",
   "source": [
    "### Details: CreatureType"
   ],
   "metadata": {
    "collapsed": false
   }
  },
  {
   "cell_type": "code",
   "execution_count": 49,
   "outputs": [],
   "source": [
    "types = unpack_column(details, \"creatureType\")"
   ],
   "metadata": {
    "collapsed": false
   }
  },
  {
   "cell_type": "code",
   "execution_count": 50,
   "outputs": [
    {
     "data": {
      "text/plain": "           0\n0     Dragon\n1     Animal\n2     Animal\n3     Dragon\n4  Celestial",
      "text/html": "<div>\n<style scoped>\n    .dataframe tbody tr th:only-of-type {\n        vertical-align: middle;\n    }\n\n    .dataframe tbody tr th {\n        vertical-align: top;\n    }\n\n    .dataframe thead th {\n        text-align: right;\n    }\n</style>\n<table border=\"1\" class=\"dataframe\">\n  <thead>\n    <tr style=\"text-align: right;\">\n      <th></th>\n      <th>0</th>\n    </tr>\n  </thead>\n  <tbody>\n    <tr>\n      <th>0</th>\n      <td>Dragon</td>\n    </tr>\n    <tr>\n      <th>1</th>\n      <td>Animal</td>\n    </tr>\n    <tr>\n      <th>2</th>\n      <td>Animal</td>\n    </tr>\n    <tr>\n      <th>3</th>\n      <td>Dragon</td>\n    </tr>\n    <tr>\n      <th>4</th>\n      <td>Celestial</td>\n    </tr>\n  </tbody>\n</table>\n</div>"
     },
     "execution_count": 50,
     "metadata": {},
     "output_type": "execute_result"
    }
   ],
   "source": [
    "types.head()"
   ],
   "metadata": {
    "collapsed": false
   }
  },
  {
   "cell_type": "code",
   "execution_count": 51,
   "outputs": [
    {
     "name": "stdout",
     "output_type": "stream",
     "text": [
      "<class 'pandas.core.frame.DataFrame'>\n",
      "Int64Index: 1206 entries, 0 to 364\n",
      "Data columns (total 1 columns):\n",
      " #   Column  Non-Null Count  Dtype \n",
      "---  ------  --------------  ----- \n",
      " 0   0       825 non-null    object\n",
      "dtypes: object(1)\n",
      "memory usage: 18.8+ KB\n"
     ]
    }
   ],
   "source": [
    "types.info()"
   ],
   "metadata": {
    "collapsed": false
   }
  },
  {
   "cell_type": "markdown",
   "source": [
    "Z jakiegoś powodu nie każdy potworek ma typ:\n",
    " * czy to problem?\n",
    " * czy może być więcej?"
   ],
   "metadata": {
    "collapsed": false
   }
  },
  {
   "cell_type": "code",
   "execution_count": 52,
   "outputs": [
    {
     "data": {
      "text/plain": "array(['Dragon', 'Animal', 'Celestial', 'Aberration', 'Undead',\n       'Humanoid', 'Construct', 'Spirit', 'Elemental', 'Fey', 'Beast',\n       'Fiend', 'Plant', 'Giant', nan, 'Monitor', 'Ooze', 'Fungus',\n       'Astral', 'Animal, Undead', 'Dragon, Elemental', 'Beast, Dragon',\n       'Giant, Humanoid', 'Petitioner', 'Beast, Fiend', 'Fungus, Ooze',\n       'Spirit, Undead', 'Fiend, Giant, Humanoid', 'Dragon, Plant',\n       'Fey, Plant', 'Aberration, Time', 'Aberration, Negative',\n       'Beast, Fey', 'Beast, Humanoid', 'Humanoid, Positive', 'Dream',\n       'Dragon, Undead', 'Aberration, Ethereal', 'Aberration, Dream',\n       'Fungus, Plant'], dtype=object)"
     },
     "execution_count": 52,
     "metadata": {},
     "output_type": "execute_result"
    }
   ],
   "source": [
    "types[0].unique()"
   ],
   "metadata": {
    "collapsed": false
   }
  },
  {
   "cell_type": "markdown",
   "source": [
    "Mamy 9 typów (+ pusty) - **może się przydać później do tych podpowiedzi if-owych**"
   ],
   "metadata": {
    "collapsed": false
   }
  },
  {
   "cell_type": "markdown",
   "source": [
    "### Datails: Level"
   ],
   "metadata": {
    "collapsed": false
   }
  },
  {
   "cell_type": "code",
   "execution_count": 53,
   "outputs": [],
   "source": [
    "level = unpack_column(details, \"level\")"
   ],
   "metadata": {
    "collapsed": false
   }
  },
  {
   "cell_type": "code",
   "execution_count": 54,
   "outputs": [
    {
     "data": {
      "text/plain": "   value\n0     10\n1     10\n2      8\n3     17\n4      1",
      "text/html": "<div>\n<style scoped>\n    .dataframe tbody tr th:only-of-type {\n        vertical-align: middle;\n    }\n\n    .dataframe tbody tr th {\n        vertical-align: top;\n    }\n\n    .dataframe thead th {\n        text-align: right;\n    }\n</style>\n<table border=\"1\" class=\"dataframe\">\n  <thead>\n    <tr style=\"text-align: right;\">\n      <th></th>\n      <th>value</th>\n    </tr>\n  </thead>\n  <tbody>\n    <tr>\n      <th>0</th>\n      <td>10</td>\n    </tr>\n    <tr>\n      <th>1</th>\n      <td>10</td>\n    </tr>\n    <tr>\n      <th>2</th>\n      <td>8</td>\n    </tr>\n    <tr>\n      <th>3</th>\n      <td>17</td>\n    </tr>\n    <tr>\n      <th>4</th>\n      <td>1</td>\n    </tr>\n  </tbody>\n</table>\n</div>"
     },
     "execution_count": 54,
     "metadata": {},
     "output_type": "execute_result"
    }
   ],
   "source": [
    "level.head()"
   ],
   "metadata": {
    "collapsed": false
   }
  },
  {
   "cell_type": "code",
   "execution_count": 55,
   "outputs": [
    {
     "name": "stdout",
     "output_type": "stream",
     "text": [
      "<class 'pandas.core.frame.DataFrame'>\n",
      "Int64Index: 1206 entries, 0 to 364\n",
      "Data columns (total 1 columns):\n",
      " #   Column  Non-Null Count  Dtype\n",
      "---  ------  --------------  -----\n",
      " 0   value   1206 non-null   int64\n",
      "dtypes: int64(1)\n",
      "memory usage: 18.8 KB\n"
     ]
    }
   ],
   "source": [
    "level.info()"
   ],
   "metadata": {
    "collapsed": false
   }
  },
  {
   "cell_type": "markdown",
   "source": [
    "# **Najważniejsza wartość! - to co** przwidujemy\n",
    "analogicznie jak abilities - mod"
   ],
   "metadata": {
    "collapsed": false
   }
  },
  {
   "cell_type": "markdown",
   "source": [
    "### Details: PublicNotes"
   ],
   "metadata": {
    "collapsed": false
   }
  },
  {
   "cell_type": "code",
   "execution_count": 57,
   "outputs": [],
   "source": [
    "notes = unpack_column(details, \"publicNotes\")"
   ],
   "metadata": {
    "collapsed": false
   }
  },
  {
   "cell_type": "code",
   "execution_count": 58,
   "outputs": [
    {
     "data": {
      "text/plain": "                                                   0\n0  <p>The most feral and least intelligent of all...\n1  <p>Brontosauruses are truly gigantic behemoths...\n2  <p>The monstrous giant anaconda is capable of ...\n3  <p>Green dragons are the most contemplative of...\n4  <p>Friendly, curious, and eternally optimistic...",
      "text/html": "<div>\n<style scoped>\n    .dataframe tbody tr th:only-of-type {\n        vertical-align: middle;\n    }\n\n    .dataframe tbody tr th {\n        vertical-align: top;\n    }\n\n    .dataframe thead th {\n        text-align: right;\n    }\n</style>\n<table border=\"1\" class=\"dataframe\">\n  <thead>\n    <tr style=\"text-align: right;\">\n      <th></th>\n      <th>0</th>\n    </tr>\n  </thead>\n  <tbody>\n    <tr>\n      <th>0</th>\n      <td>&lt;p&gt;The most feral and least intelligent of all...</td>\n    </tr>\n    <tr>\n      <th>1</th>\n      <td>&lt;p&gt;Brontosauruses are truly gigantic behemoths...</td>\n    </tr>\n    <tr>\n      <th>2</th>\n      <td>&lt;p&gt;The monstrous giant anaconda is capable of ...</td>\n    </tr>\n    <tr>\n      <th>3</th>\n      <td>&lt;p&gt;Green dragons are the most contemplative of...</td>\n    </tr>\n    <tr>\n      <th>4</th>\n      <td>&lt;p&gt;Friendly, curious, and eternally optimistic...</td>\n    </tr>\n  </tbody>\n</table>\n</div>"
     },
     "execution_count": 58,
     "metadata": {},
     "output_type": "execute_result"
    }
   ],
   "source": [
    "notes.head()"
   ],
   "metadata": {
    "collapsed": false
   }
  },
  {
   "cell_type": "code",
   "execution_count": 59,
   "outputs": [
    {
     "name": "stdout",
     "output_type": "stream",
     "text": [
      "<class 'pandas.core.frame.DataFrame'>\n",
      "Int64Index: 1206 entries, 0 to 364\n",
      "Data columns (total 1 columns):\n",
      " #   Column  Non-Null Count  Dtype \n",
      "---  ------  --------------  ----- \n",
      " 0   0       1206 non-null   object\n",
      "dtypes: object(1)\n",
      "memory usage: 18.8+ KB\n"
     ]
    }
   ],
   "source": [
    "notes.info()"
   ],
   "metadata": {
    "collapsed": false
   }
  },
  {
   "cell_type": "markdown",
   "source": [
    "Zwykłe opisy do modelu raczej nie są potrzebne"
   ],
   "metadata": {
    "collapsed": false
   }
  },
  {
   "cell_type": "markdown",
   "source": [
    "### Details: Source"
   ],
   "metadata": {
    "collapsed": false
   }
  },
  {
   "cell_type": "code",
   "execution_count": 60,
   "outputs": [],
   "source": [
    "source = unpack_column(details, \"source\")"
   ],
   "metadata": {
    "collapsed": false
   }
  },
  {
   "cell_type": "code",
   "execution_count": 61,
   "outputs": [
    {
     "data": {
      "text/plain": "                 value\n0  Pathfinder Bestiary\n1  Pathfinder Bestiary\n2  Pathfinder Bestiary\n3  Pathfinder Bestiary\n4  Pathfinder Bestiary",
      "text/html": "<div>\n<style scoped>\n    .dataframe tbody tr th:only-of-type {\n        vertical-align: middle;\n    }\n\n    .dataframe tbody tr th {\n        vertical-align: top;\n    }\n\n    .dataframe thead th {\n        text-align: right;\n    }\n</style>\n<table border=\"1\" class=\"dataframe\">\n  <thead>\n    <tr style=\"text-align: right;\">\n      <th></th>\n      <th>value</th>\n    </tr>\n  </thead>\n  <tbody>\n    <tr>\n      <th>0</th>\n      <td>Pathfinder Bestiary</td>\n    </tr>\n    <tr>\n      <th>1</th>\n      <td>Pathfinder Bestiary</td>\n    </tr>\n    <tr>\n      <th>2</th>\n      <td>Pathfinder Bestiary</td>\n    </tr>\n    <tr>\n      <th>3</th>\n      <td>Pathfinder Bestiary</td>\n    </tr>\n    <tr>\n      <th>4</th>\n      <td>Pathfinder Bestiary</td>\n    </tr>\n  </tbody>\n</table>\n</div>"
     },
     "execution_count": 61,
     "metadata": {},
     "output_type": "execute_result"
    }
   ],
   "source": [
    "source.head()"
   ],
   "metadata": {
    "collapsed": false
   }
  },
  {
   "cell_type": "code",
   "execution_count": 63,
   "outputs": [
    {
     "name": "stdout",
     "output_type": "stream",
     "text": [
      "<class 'pandas.core.frame.DataFrame'>\n",
      "Int64Index: 1206 entries, 0 to 364\n",
      "Data columns (total 1 columns):\n",
      " #   Column  Non-Null Count  Dtype \n",
      "---  ------  --------------  ----- \n",
      " 0   value   1206 non-null   object\n",
      "dtypes: object(1)\n",
      "memory usage: 18.8+ KB\n"
     ]
    }
   ],
   "source": [
    "source.info()"
   ],
   "metadata": {
    "collapsed": false
   }
  },
  {
   "cell_type": "code",
   "execution_count": 64,
   "outputs": [
    {
     "data": {
      "text/plain": "array(['Pathfinder Bestiary', 'Pathfinder Core Rulebook',\n       'Pathfinder Bestiary 2', 'Pathfinder Bestiary 3'], dtype=object)"
     },
     "execution_count": 64,
     "metadata": {},
     "output_type": "execute_result"
    }
   ],
   "source": [
    "source.value.unique()"
   ],
   "metadata": {
    "collapsed": false
   }
  },
  {
   "cell_type": "markdown",
   "source": [
    "Skąd pochodzą potworki"
   ],
   "metadata": {
    "collapsed": false
   }
  },
  {
   "cell_type": "markdown",
   "source": [
    "### Details: podsumowanie\n",
    "* **alignment**\n",
    "    * do rozpakowania (abilities:mod case)\n",
    "    * każdy potworek ma\n",
    "    * czy są istotne?\n",
    "    * może się przydać do if-ów\n",
    "    * czy są istotne?\n",
    "* blurb\n",
    "    * puste\n",
    "* **creatureType**\n",
    "    * nie każdy potworek ma\n",
    "    * może się przydać do if-ów\n",
    "* **level**\n",
    "    * do rozpakowania (abilities:mod case)\n",
    "    * każdy potworek ma\n",
    "    * CR\n",
    "* privateNotes\n",
    "    * puste\n",
    "* **publicNotes**\n",
    "    * każdy potworek ma\n",
    "    * opis potworków\n",
    "    * zbędne\n",
    "* **source**\n",
    "    * każdy potworek ma\n",
    "    * książka z której jest potworek\n",
    "    * raczej zbędne"
   ],
   "metadata": {
    "collapsed": false
   }
  },
  {
   "cell_type": "code",
   "execution_count": null,
   "outputs": [],
   "source": [],
   "metadata": {
    "collapsed": false
   }
  }
 ],
 "metadata": {
  "kernelspec": {
   "display_name": "Python 3",
   "language": "python",
   "name": "python3"
  },
  "language_info": {
   "codemirror_mode": {
    "name": "ipython",
    "version": 2
   },
   "file_extension": ".py",
   "mimetype": "text/x-python",
   "name": "python",
   "nbconvert_exporter": "python",
   "pygments_lexer": "ipython2",
   "version": "2.7.6"
  }
 },
 "nbformat": 4,
 "nbformat_minor": 0
}
