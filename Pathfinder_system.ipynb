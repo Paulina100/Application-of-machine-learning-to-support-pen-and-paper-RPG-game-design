{
 "cells": [
  {
   "cell_type": "markdown",
   "source": [
    "# Analiza kolumny system\n",
    "Import danych"
   ],
   "metadata": {
    "collapsed": false
   }
  },
  {
   "cell_type": "code",
   "execution_count": 1,
   "outputs": [],
   "source": [
    "from collections import defaultdict"
   ],
   "metadata": {
    "collapsed": false
   }
  },
  {
   "cell_type": "code",
   "execution_count": 2,
   "metadata": {
    "collapsed": true
   },
   "outputs": [
    {
     "name": "stdout",
     "output_type": "stream",
     "text": [
      "_id                                                024PqcF8yMRBrPuq\n",
      "img                        systems/pf2e/icons/default-icons/npc.svg\n",
      "items             [{'_id': 'B7rzf0nBJmzg8x0y', 'img': 'systems/p...\n",
      "name                                             Adult White Dragon\n",
      "system            {'abilities': {'cha': {'mod': 1}, 'con': {'mod...\n",
      "type                                                            npc\n",
      "flags             {'core': {'sourceId': 'Compendium.pf2e.pathfin...\n",
      "prototypeToken                                                  NaN\n",
      "Name: 0, dtype: object\n"
     ]
    }
   ],
   "source": [
    "import pandas as pd\n",
    "\n",
    "bestiary1 = pd.read_json(\"pathfinder_2e_data/pathfinder-bestiary.db\", lines=True)\n",
    "bestiary2 = pd.read_json(\"pathfinder_2e_data/pathfinder-bestiary-2.db\", lines=True)\n",
    "bestiary3 = pd.read_json(\"pathfinder_2e_data/pathfinder-bestiary-3.db\", lines=True)\n",
    "print(bestiary1.iloc[0])"
   ]
  },
  {
   "cell_type": "markdown",
   "source": [
    "```unpack_column``` - Funkcja która rozpakowuje słownik i zmienia go w dataframe. Printuje pierwszą wartość tabeli i długość"
   ],
   "metadata": {
    "collapsed": false
   }
  },
  {
   "cell_type": "code",
   "execution_count": 3,
   "outputs": [],
   "source": [
    "def unpack_column(df, column_name):\n",
    "    new_df = df[column_name].apply(pd.Series)\n",
    "    print(new_df.iloc[0])\n",
    "    print('Len =', len(new_df.iloc[0]))\n",
    "    return new_df"
   ],
   "metadata": {
    "collapsed": false
   }
  },
  {
   "cell_type": "code",
   "execution_count": 4,
   "outputs": [
    {
     "name": "stdout",
     "output_type": "stream",
     "text": [
      "abilities     {'cha': {'mod': 1}, 'con': {'mod': 5}, 'dex': ...\n",
      "attributes    {'ac': {'details': '', 'value': 29}, 'allSaves...\n",
      "details       {'alignment': {'value': 'CE'}, 'blurb': '', 'c...\n",
      "resources                     {'focus': {'max': 1, 'value': 1}}\n",
      "saves         {'fortitude': {'saveDetail': '', 'value': 22},...\n",
      "traits        {'languages': {'custom': '', 'selected': [], '...\n",
      "schema        {'version': 0.8270000000000001, 'lastMigration...\n",
      "Name: 0, dtype: object\n",
      "Len =  7\n"
     ]
    }
   ],
   "source": [
    "bestiary1_system = bestiary1['system'].apply(pd.Series)\n",
    "print(bestiary1_system.iloc[0])\n",
    "print('Len = ', len(bestiary1_system.iloc[0]))"
   ],
   "metadata": {
    "collapsed": false
   }
  },
  {
   "cell_type": "markdown",
   "source": [
    "## Abilities"
   ],
   "metadata": {
    "collapsed": false
   }
  },
  {
   "cell_type": "code",
   "execution_count": 5,
   "outputs": [
    {
     "name": "stdout",
     "output_type": "stream",
     "text": [
      "cha    {'mod': 1}\n",
      "con    {'mod': 5}\n",
      "dex    {'mod': 2}\n",
      "int    {'mod': 1}\n",
      "str    {'mod': 7}\n",
      "wis    {'mod': 2}\n",
      "Name: 0, dtype: object\n",
      "Len = 6\n"
     ]
    }
   ],
   "source": [
    "abilities = unpack_column(bestiary1_system, 'abilities')"
   ],
   "metadata": {
    "collapsed": false
   }
  },
  {
   "cell_type": "markdown",
   "source": [
    "Sprawdzenie jakie klucze występują w słownikach - czy tylko ```mod```?"
   ],
   "metadata": {
    "collapsed": false
   }
  },
  {
   "cell_type": "code",
   "execution_count": 6,
   "outputs": [],
   "source": [
    "def check_diff_values(df, values):\n",
    "    return len([_ for i, row in df.iterrows() for col in df.columns for val in values if len(row[col]) != len(values) or val not in row[col].keys()]) > 0"
   ],
   "metadata": {
    "collapsed": false
   }
  },
  {
   "cell_type": "code",
   "execution_count": 8,
   "outputs": [
    {
     "name": "stdout",
     "output_type": "stream",
     "text": [
      "0\n",
      "Czy ją tu inne wartości oprócz 'mod'? False\n"
     ]
    }
   ],
   "source": [
    "print(len([_ for i, row in abilities.iterrows() for col in abilities.columns if len(row[col]) != 1 or 'mod' not in row[col].keys()]))\n",
    "print(\"Czy ją tu inne wartości oprócz 'mod'?\", check_diff_values(abilities, ['mod']))"
   ],
   "metadata": {
    "collapsed": false
   }
  },
  {
   "cell_type": "markdown",
   "source": [
    "Same mody, więc możnachyba zmienić te słowniki na wartość"
   ],
   "metadata": {
    "collapsed": false
   }
  },
  {
   "cell_type": "code",
   "execution_count": 9,
   "outputs": [
    {
     "data": {
      "text/plain": "           cha         con         dex          int          str         wis\n0   {'mod': 1}  {'mod': 5}  {'mod': 2}   {'mod': 1}   {'mod': 7}  {'mod': 2}\n1   {'mod': 1}  {'mod': 5}  {'mod': 0}  {'mod': -4}   {'mod': 9}  {'mod': 2}\n2  {'mod': -2}  {'mod': 6}  {'mod': 3}  {'mod': -4}   {'mod': 7}  {'mod': 3}\n3   {'mod': 6}  {'mod': 5}  {'mod': 4}   {'mod': 6}   {'mod': 7}  {'mod': 5}\n4   {'mod': 1}  {'mod': 1}  {'mod': 3}  {'mod': -1}  {'mod': -5}  {'mod': 1}",
      "text/html": "<div>\n<style scoped>\n    .dataframe tbody tr th:only-of-type {\n        vertical-align: middle;\n    }\n\n    .dataframe tbody tr th {\n        vertical-align: top;\n    }\n\n    .dataframe thead th {\n        text-align: right;\n    }\n</style>\n<table border=\"1\" class=\"dataframe\">\n  <thead>\n    <tr style=\"text-align: right;\">\n      <th></th>\n      <th>cha</th>\n      <th>con</th>\n      <th>dex</th>\n      <th>int</th>\n      <th>str</th>\n      <th>wis</th>\n    </tr>\n  </thead>\n  <tbody>\n    <tr>\n      <th>0</th>\n      <td>{'mod': 1}</td>\n      <td>{'mod': 5}</td>\n      <td>{'mod': 2}</td>\n      <td>{'mod': 1}</td>\n      <td>{'mod': 7}</td>\n      <td>{'mod': 2}</td>\n    </tr>\n    <tr>\n      <th>1</th>\n      <td>{'mod': 1}</td>\n      <td>{'mod': 5}</td>\n      <td>{'mod': 0}</td>\n      <td>{'mod': -4}</td>\n      <td>{'mod': 9}</td>\n      <td>{'mod': 2}</td>\n    </tr>\n    <tr>\n      <th>2</th>\n      <td>{'mod': -2}</td>\n      <td>{'mod': 6}</td>\n      <td>{'mod': 3}</td>\n      <td>{'mod': -4}</td>\n      <td>{'mod': 7}</td>\n      <td>{'mod': 3}</td>\n    </tr>\n    <tr>\n      <th>3</th>\n      <td>{'mod': 6}</td>\n      <td>{'mod': 5}</td>\n      <td>{'mod': 4}</td>\n      <td>{'mod': 6}</td>\n      <td>{'mod': 7}</td>\n      <td>{'mod': 5}</td>\n    </tr>\n    <tr>\n      <th>4</th>\n      <td>{'mod': 1}</td>\n      <td>{'mod': 1}</td>\n      <td>{'mod': 3}</td>\n      <td>{'mod': -1}</td>\n      <td>{'mod': -5}</td>\n      <td>{'mod': 1}</td>\n    </tr>\n  </tbody>\n</table>\n</div>"
     },
     "execution_count": 9,
     "metadata": {},
     "output_type": "execute_result"
    }
   ],
   "source": [
    "abilities.head()"
   ],
   "metadata": {
    "collapsed": false
   }
  },
  {
   "cell_type": "markdown",
   "source": [
    "### Zamiana słowników na wartości *mod*"
   ],
   "metadata": {
    "collapsed": false
   }
  },
  {
   "cell_type": "code",
   "execution_count": 10,
   "outputs": [],
   "source": [
    "from copy import deepcopy\n",
    "\n",
    "abilities2 = deepcopy(abilities)"
   ],
   "metadata": {
    "collapsed": false
   }
  },
  {
   "cell_type": "markdown",
   "source": [
    "Na razie nie znalazłam ładniejszego sposobu na podmianę"
   ],
   "metadata": {
    "collapsed": false
   }
  },
  {
   "cell_type": "code",
   "execution_count": 11,
   "outputs": [],
   "source": [
    "for col in abilities2.columns:\n",
    "    for i, row in abilities2.iterrows():\n",
    "        row[col]=row[col].get('mod')"
   ],
   "metadata": {
    "collapsed": false
   }
  },
  {
   "cell_type": "code",
   "execution_count": 12,
   "outputs": [
    {
     "data": {
      "text/plain": "  cha con dex int str wis\n0   1   5   2   1   7   2\n1   1   5   0  -4   9   2\n2  -2   6   3  -4   7   3\n3   6   5   4   6   7   5\n4   1   1   3  -1  -5   1",
      "text/html": "<div>\n<style scoped>\n    .dataframe tbody tr th:only-of-type {\n        vertical-align: middle;\n    }\n\n    .dataframe tbody tr th {\n        vertical-align: top;\n    }\n\n    .dataframe thead th {\n        text-align: right;\n    }\n</style>\n<table border=\"1\" class=\"dataframe\">\n  <thead>\n    <tr style=\"text-align: right;\">\n      <th></th>\n      <th>cha</th>\n      <th>con</th>\n      <th>dex</th>\n      <th>int</th>\n      <th>str</th>\n      <th>wis</th>\n    </tr>\n  </thead>\n  <tbody>\n    <tr>\n      <th>0</th>\n      <td>1</td>\n      <td>5</td>\n      <td>2</td>\n      <td>1</td>\n      <td>7</td>\n      <td>2</td>\n    </tr>\n    <tr>\n      <th>1</th>\n      <td>1</td>\n      <td>5</td>\n      <td>0</td>\n      <td>-4</td>\n      <td>9</td>\n      <td>2</td>\n    </tr>\n    <tr>\n      <th>2</th>\n      <td>-2</td>\n      <td>6</td>\n      <td>3</td>\n      <td>-4</td>\n      <td>7</td>\n      <td>3</td>\n    </tr>\n    <tr>\n      <th>3</th>\n      <td>6</td>\n      <td>5</td>\n      <td>4</td>\n      <td>6</td>\n      <td>7</td>\n      <td>5</td>\n    </tr>\n    <tr>\n      <th>4</th>\n      <td>1</td>\n      <td>1</td>\n      <td>3</td>\n      <td>-1</td>\n      <td>-5</td>\n      <td>1</td>\n    </tr>\n  </tbody>\n</table>\n</div>"
     },
     "execution_count": 12,
     "metadata": {},
     "output_type": "execute_result"
    }
   ],
   "source": [
    "abilities2.head()"
   ],
   "metadata": {
    "collapsed": false
   }
  },
  {
   "cell_type": "markdown",
   "source": [
    "## Analiza attributes"
   ],
   "metadata": {
    "collapsed": false
   }
  },
  {
   "cell_type": "code",
   "execution_count": 13,
   "outputs": [
    {
     "name": "stdout",
     "output_type": "stream",
     "text": [
      "ac                                  {'details': '', 'value': 29}\n",
      "allSaves           {'value': '+1 status to all saves vs. magic'}\n",
      "hp             {'details': '', 'max': 215, 'temp': 0, 'value'...\n",
      "immunities     [{'type': 'cold'}, {'type': 'paralyzed'}, {'ty...\n",
      "initiative                             {'ability': 'perception'}\n",
      "perception                                         {'value': 20}\n",
      "speed          {'details': 'climb on ice only', 'otherSpeeds'...\n",
      "weaknesses                       [{'type': 'fire', 'value': 10}]\n",
      "resistances                                                  NaN\n",
      "hardness                                                     NaN\n",
      "Name: 0, dtype: object\n",
      "Len = 10\n"
     ]
    }
   ],
   "source": [
    "attributes = unpack_column(bestiary1_system, 'attributes')"
   ],
   "metadata": {
    "collapsed": false
   }
  },
  {
   "cell_type": "code",
   "execution_count": 14,
   "outputs": [
    {
     "name": "stdout",
     "output_type": "stream",
     "text": [
      "<class 'pandas.core.frame.DataFrame'>\n",
      "RangeIndex: 468 entries, 0 to 467\n",
      "Data columns (total 10 columns):\n",
      " #   Column       Non-Null Count  Dtype \n",
      "---  ------       --------------  ----- \n",
      " 0   ac           468 non-null    object\n",
      " 1   allSaves     468 non-null    object\n",
      " 2   hp           468 non-null    object\n",
      " 3   immunities   225 non-null    object\n",
      " 4   initiative   468 non-null    object\n",
      " 5   perception   468 non-null    object\n",
      " 6   speed        468 non-null    object\n",
      " 7   weaknesses   141 non-null    object\n",
      " 8   resistances  121 non-null    object\n",
      " 9   hardness     4 non-null      object\n",
      "dtypes: object(10)\n",
      "memory usage: 36.7+ KB\n"
     ]
    }
   ],
   "source": [
    "attributes.info()"
   ],
   "metadata": {
    "collapsed": false
   }
  },
  {
   "cell_type": "code",
   "execution_count": 15,
   "outputs": [
    {
     "data": {
      "text/plain": "                             ac  \\\n0  {'details': '', 'value': 29}   \n1  {'details': '', 'value': 28}   \n2  {'details': '', 'value': 25}   \n3  {'details': '', 'value': 41}   \n4  {'details': '', 'value': 16}   \n\n                                        allSaves  \\\n0  {'value': '+1 status to all saves vs. magic'}   \n1                                  {'value': ''}   \n2                                  {'value': ''}   \n3  {'value': '+1 status to all saves vs. magic'}   \n4                                  {'value': ''}   \n\n                                                  hp  \\\n0  {'details': '', 'max': 215, 'temp': 0, 'value'...   \n1  {'details': '', 'max': 220, 'temp': 0, 'value'...   \n2  {'details': '', 'max': 175, 'temp': 0, 'value'...   \n3  {'details': '', 'max': 315, 'temp': 0, 'value'...   \n4  {'details': '', 'max': 20, 'temp': 0, 'value':...   \n\n                                          immunities  \\\n0  [{'type': 'cold'}, {'type': 'paralyzed'}, {'ty...   \n1                                                NaN   \n2                                                NaN   \n3  [{'type': 'paralyzed'}, {'type': 'poison'}, {'...   \n4                                                NaN   \n\n                  initiative     perception  \\\n0  {'ability': 'perception'}  {'value': 20}   \n1  {'ability': 'perception'}  {'value': 16}   \n2  {'ability': 'perception'}  {'value': 17}   \n3  {'ability': 'perception'}  {'value': 30}   \n4  {'ability': 'perception'}   {'value': 6}   \n\n                                               speed  \\\n0  {'details': 'climb on ice only', 'otherSpeeds'...   \n1                   {'otherSpeeds': [], 'value': 35}   \n2  {'otherSpeeds': [{'type': 'climb', 'value': 30...   \n3  {'details': 'trackless step, woodland stride',...   \n4  {'otherSpeeds': [{'type': 'fly', 'value': 40}]...   \n\n                        weaknesses                     resistances hardness  \n0  [{'type': 'fire', 'value': 10}]                             NaN      NaN  \n1                              NaN                             NaN      NaN  \n2                              NaN                             NaN      NaN  \n3                              NaN                             NaN      NaN  \n4   [{'type': 'evil', 'value': 3}]  [{'type': 'fire', 'value': 3}]      NaN  ",
      "text/html": "<div>\n<style scoped>\n    .dataframe tbody tr th:only-of-type {\n        vertical-align: middle;\n    }\n\n    .dataframe tbody tr th {\n        vertical-align: top;\n    }\n\n    .dataframe thead th {\n        text-align: right;\n    }\n</style>\n<table border=\"1\" class=\"dataframe\">\n  <thead>\n    <tr style=\"text-align: right;\">\n      <th></th>\n      <th>ac</th>\n      <th>allSaves</th>\n      <th>hp</th>\n      <th>immunities</th>\n      <th>initiative</th>\n      <th>perception</th>\n      <th>speed</th>\n      <th>weaknesses</th>\n      <th>resistances</th>\n      <th>hardness</th>\n    </tr>\n  </thead>\n  <tbody>\n    <tr>\n      <th>0</th>\n      <td>{'details': '', 'value': 29}</td>\n      <td>{'value': '+1 status to all saves vs. magic'}</td>\n      <td>{'details': '', 'max': 215, 'temp': 0, 'value'...</td>\n      <td>[{'type': 'cold'}, {'type': 'paralyzed'}, {'ty...</td>\n      <td>{'ability': 'perception'}</td>\n      <td>{'value': 20}</td>\n      <td>{'details': 'climb on ice only', 'otherSpeeds'...</td>\n      <td>[{'type': 'fire', 'value': 10}]</td>\n      <td>NaN</td>\n      <td>NaN</td>\n    </tr>\n    <tr>\n      <th>1</th>\n      <td>{'details': '', 'value': 28}</td>\n      <td>{'value': ''}</td>\n      <td>{'details': '', 'max': 220, 'temp': 0, 'value'...</td>\n      <td>NaN</td>\n      <td>{'ability': 'perception'}</td>\n      <td>{'value': 16}</td>\n      <td>{'otherSpeeds': [], 'value': 35}</td>\n      <td>NaN</td>\n      <td>NaN</td>\n      <td>NaN</td>\n    </tr>\n    <tr>\n      <th>2</th>\n      <td>{'details': '', 'value': 25}</td>\n      <td>{'value': ''}</td>\n      <td>{'details': '', 'max': 175, 'temp': 0, 'value'...</td>\n      <td>NaN</td>\n      <td>{'ability': 'perception'}</td>\n      <td>{'value': 17}</td>\n      <td>{'otherSpeeds': [{'type': 'climb', 'value': 30...</td>\n      <td>NaN</td>\n      <td>NaN</td>\n      <td>NaN</td>\n    </tr>\n    <tr>\n      <th>3</th>\n      <td>{'details': '', 'value': 41}</td>\n      <td>{'value': '+1 status to all saves vs. magic'}</td>\n      <td>{'details': '', 'max': 315, 'temp': 0, 'value'...</td>\n      <td>[{'type': 'paralyzed'}, {'type': 'poison'}, {'...</td>\n      <td>{'ability': 'perception'}</td>\n      <td>{'value': 30}</td>\n      <td>{'details': 'trackless step, woodland stride',...</td>\n      <td>NaN</td>\n      <td>NaN</td>\n      <td>NaN</td>\n    </tr>\n    <tr>\n      <th>4</th>\n      <td>{'details': '', 'value': 16}</td>\n      <td>{'value': ''}</td>\n      <td>{'details': '', 'max': 20, 'temp': 0, 'value':...</td>\n      <td>NaN</td>\n      <td>{'ability': 'perception'}</td>\n      <td>{'value': 6}</td>\n      <td>{'otherSpeeds': [{'type': 'fly', 'value': 40}]...</td>\n      <td>[{'type': 'evil', 'value': 3}]</td>\n      <td>[{'type': 'fire', 'value': 3}]</td>\n      <td>NaN</td>\n    </tr>\n  </tbody>\n</table>\n</div>"
     },
     "execution_count": 15,
     "metadata": {},
     "output_type": "execute_result"
    }
   ],
   "source": [
    "attributes.head()"
   ],
   "metadata": {
    "collapsed": false
   }
  },
  {
   "cell_type": "markdown",
   "source": [
    "Masa jakiś nowych informacji: znów słowniki"
   ],
   "metadata": {
    "collapsed": false
   }
  },
  {
   "cell_type": "markdown",
   "source": [
    "### Analiza attributes: ac"
   ],
   "metadata": {
    "collapsed": false
   }
  },
  {
   "cell_type": "code",
   "execution_count": 16,
   "outputs": [
    {
     "name": "stdout",
     "output_type": "stream",
     "text": [
      "0      {'details': '', 'value': 29}\n",
      "1      {'details': '', 'value': 28}\n",
      "2      {'details': '', 'value': 25}\n",
      "3      {'details': '', 'value': 41}\n",
      "4      {'details': '', 'value': 16}\n",
      "                   ...             \n",
      "463    {'details': '', 'value': 13}\n",
      "464    {'details': '', 'value': 22}\n",
      "465    {'details': '', 'value': 24}\n",
      "466    {'details': '', 'value': 34}\n",
      "467    {'details': '', 'value': 30}\n",
      "Name: ac, Length: 468, dtype: object\n"
     ]
    }
   ],
   "source": [
    "print(attributes.ac)"
   ],
   "metadata": {
    "collapsed": false
   }
  },
  {
   "cell_type": "code",
   "execution_count": 18,
   "outputs": [
    {
     "name": "stdout",
     "output_type": "stream",
     "text": [
      "Czy są inne kolumny niż 'details' oraz 'vaue'?\n"
     ]
    },
    {
     "data": {
      "text/plain": "False"
     },
     "execution_count": 18,
     "metadata": {},
     "output_type": "execute_result"
    }
   ],
   "source": [
    "print(\"Czy są inne kolumny niż 'details' oraz 'vaue'?\")\n",
    "check_diff_values(pd.DataFrame(data=attributes.ac), ['details', 'value'])"
   ],
   "metadata": {
    "collapsed": false
   }
  },
  {
   "cell_type": "code",
   "execution_count": 19,
   "outputs": [],
   "source": [
    "def find_other_values(df, values):\n",
    "    result = []\n",
    "    for i, row in df.iterrows():\n",
    "        for col in df:\n",
    "            if len(row[col]) != len(values):\n",
    "                # print(row[col])\n",
    "                result.append(row[col])\n",
    "                continue\n",
    "            for val in values:\n",
    "                if val not in row[col].keys() > 0:\n",
    "                    result.append(row[col])\n",
    "    return result"
   ],
   "metadata": {
    "collapsed": false
   }
  },
  {
   "cell_type": "code",
   "execution_count": 20,
   "outputs": [],
   "source": [
    "attributes_ac_details = {i: row['details'] for i, row in attributes.ac.iteritems()}\n"
   ],
   "metadata": {
    "collapsed": false
   }
  },
  {
   "cell_type": "code",
   "execution_count": 59,
   "outputs": [],
   "source": [
    "def return_zero():\n",
    "    return 0\n",
    "\n",
    "def print_dictionery(dict):\n",
    "    df = pd.DataFrame(data=dict, index=[0])\n",
    "    display(df)\n",
    "\n",
    "def check_not_null_val(df, col, val = ''):\n",
    "    not_null_dict = defaultdict(return_zero)\n",
    "    for i, row in df.iterrows():\n",
    "        v = row.get(col)\n",
    "        if v != \"\" and v is not None and v != val:\n",
    "            not_null_dict[v] += 1\n",
    "    print(\"Diff Not null: \", len(not_null_dict))\n",
    "    print(\"All null values: \", sum(item for i, item in not_null_dict.items()))\n",
    "    print_dictionery(not_null_dict)\n",
    "    return not_null_dict"
   ],
   "metadata": {
    "collapsed": false
   }
  },
  {
   "cell_type": "code",
   "execution_count": 60,
   "outputs": [
    {
     "name": "stdout",
     "output_type": "stream",
     "text": [
      "details      \n",
      "value      29\n",
      "Name: 0, dtype: object\n",
      "Len = 2\n",
      "Diff Not null:  13\n",
      "All null values:  23\n"
     ]
    },
    {
     "data": {
      "text/plain": "   all-around vision  (14 when broken); construct armor  \\\n0                  9                                  1   \n\n   (18 with shield raised)  22 with shield raised  \\\n0                        1                      2   \n\n   (15 when broken); construct armor  (20 with shield raised)  \\\n0                                  1                        2   \n\n   (21 with shield raised)  (22 against prey; see Hunt Prey)  \\\n0                        1                                 1   \n\n   +1 status vs. evil creatures  (22 with shield raised)  \\\n0                             1                        1   \n\n   (13 when broken); construct armor  (25 with shield raised)  \\\n0                                  1                        1   \n\n   (22 when broken); construct armor  \n0                                  1  ",
      "text/html": "<div>\n<style scoped>\n    .dataframe tbody tr th:only-of-type {\n        vertical-align: middle;\n    }\n\n    .dataframe tbody tr th {\n        vertical-align: top;\n    }\n\n    .dataframe thead th {\n        text-align: right;\n    }\n</style>\n<table border=\"1\" class=\"dataframe\">\n  <thead>\n    <tr style=\"text-align: right;\">\n      <th></th>\n      <th>all-around vision</th>\n      <th>(14 when broken); construct armor</th>\n      <th>(18 with shield raised)</th>\n      <th>22 with shield raised</th>\n      <th>(15 when broken); construct armor</th>\n      <th>(20 with shield raised)</th>\n      <th>(21 with shield raised)</th>\n      <th>(22 against prey; see Hunt Prey)</th>\n      <th>+1 status vs. evil creatures</th>\n      <th>(22 with shield raised)</th>\n      <th>(13 when broken); construct armor</th>\n      <th>(25 with shield raised)</th>\n      <th>(22 when broken); construct armor</th>\n    </tr>\n  </thead>\n  <tbody>\n    <tr>\n      <th>0</th>\n      <td>9</td>\n      <td>1</td>\n      <td>1</td>\n      <td>2</td>\n      <td>1</td>\n      <td>2</td>\n      <td>1</td>\n      <td>1</td>\n      <td>1</td>\n      <td>1</td>\n      <td>1</td>\n      <td>1</td>\n      <td>1</td>\n    </tr>\n  </tbody>\n</table>\n</div>"
     },
     "metadata": {},
     "output_type": "display_data"
    },
    {
     "data": {
      "text/plain": "defaultdict(<function __main__.return_zero()>,\n            {'all-around vision': 9,\n             '(14 when broken); construct armor': 1,\n             '(18 with shield raised)': 1,\n             '22 with shield raised': 2,\n             '(15 when broken); construct armor': 1,\n             '(20 with shield raised)': 2,\n             '(21 with shield raised)': 1,\n             '(22 against prey; see Hunt Prey)': 1,\n             '+1 status vs. evil creatures': 1,\n             '(22 with shield raised)': 1,\n             '(13 when broken); construct armor': 1,\n             '(25 with shield raised)': 1,\n             '(22 when broken); construct armor': 1})"
     },
     "execution_count": 60,
     "metadata": {},
     "output_type": "execute_result"
    }
   ],
   "source": [
    "check_not_null_val(pd.DataFrame(data=unpack_column(attributes, \"ac\")), \"details\")"
   ],
   "metadata": {
    "collapsed": false
   }
  },
  {
   "cell_type": "markdown",
   "source": [
    "Można olać całość albo uwzglednic jedynie **value** a ewentualnie później zastanowić się nad tymi detalami"
   ],
   "metadata": {
    "collapsed": false
   }
  },
  {
   "cell_type": "markdown",
   "source": [
    "### Analiza attributes: allSaves"
   ],
   "metadata": {
    "collapsed": false
   }
  },
  {
   "cell_type": "code",
   "execution_count": 51,
   "outputs": [
    {
     "name": "stdout",
     "output_type": "stream",
     "text": [
      "0      {'value': '+1 status to all saves vs. magic'}\n",
      "1                                      {'value': ''}\n",
      "2                                      {'value': ''}\n",
      "3      {'value': '+1 status to all saves vs. magic'}\n",
      "4                                      {'value': ''}\n",
      "                           ...                      \n",
      "463                                    {'value': ''}\n",
      "464                                    {'value': ''}\n",
      "465    {'value': '+1 status to all saves vs. magic'}\n",
      "466    {'value': '+1 status to all saves vs. magic'}\n",
      "467                                    {'value': ''}\n",
      "Name: allSaves, Length: 468, dtype: object\n"
     ]
    }
   ],
   "source": [
    "print(attributes.allSaves)"
   ],
   "metadata": {
    "collapsed": false
   }
  },
  {
   "cell_type": "code",
   "execution_count": 52,
   "outputs": [
    {
     "name": "stdout",
     "output_type": "stream",
     "text": [
      "czy w attributes allSaves występują inne dane niż 'value'?\n"
     ]
    },
    {
     "data": {
      "text/plain": "False"
     },
     "execution_count": 52,
     "metadata": {},
     "output_type": "execute_result"
    }
   ],
   "source": [
    "print(\"czy w attributes allSaves występują inne dane niż 'value'?\")\n",
    "check_diff_values(pd.DataFrame(data=attributes.allSaves), ['value'])"
   ],
   "metadata": {
    "collapsed": false
   }
  },
  {
   "cell_type": "code",
   "execution_count": 61,
   "outputs": [
    {
     "name": "stdout",
     "output_type": "stream",
     "text": [
      "value    +1 status to all saves vs. magic\n",
      "Name: 0, dtype: object\n",
      "Len = 1\n",
      "Diff Not null:  21\n",
      "All null values:  129\n"
     ]
    },
    {
     "data": {
      "text/plain": "   +1 status to all saves vs. magic  guarded thoughts  \\\n0                                91                 1   \n\n   +4 status to all saves vs. fear and dreams  \\\n0                                           1   \n\n   +2 status to all saves vs. magic  +1 status to all saves vs. positive  \\\n0                                 5                                    6   \n\n   +1 status to all saves vs. magic, +2 status to all saves vs. mental  \\\n0                                                  3                     \n\n   +1 status to all saves vs. magic, +4 status to all saves vs. mental  \\\n0                                                  7                     \n\n   +1 status to all saves vs. death effects  +4 status to all saves vs. fear  \\\n0                                         1                                1   \n\n   +2 status to all saves vs. magic, -2 to all saves (if heartstone is lost)  \\\n0                                                  1                           \n\n   ...  +2 circumstance to all saves vs. dream and sleep  \\\n0  ...                                                 1   \n\n   +2 to will saves vs. mental  +2 status to all saves vs. magic, iron mind  \\\n0                            1                                            1   \n\n   +2 to all saves vs. grapple or shove  \\\n0                                     1   \n\n   +1 status to all saves vs. disease (critical failures become failures against diseases)  \\\n0                                                  1                                         \n\n   +2 status to all saves vs. magic, +3 status to all saves vs. divine magic  \\\n0                                                  2                           \n\n   +2 circumstance to all saves vs. disease  \\\n0                                         1   \n\n   +2 status to all saves vs. auditory and visual  \\\n0                                               1   \n\n   +2 to will saves vs. emotion  +2 status to all saves vs. cold  \n0                             1                                1  \n\n[1 rows x 21 columns]",
      "text/html": "<div>\n<style scoped>\n    .dataframe tbody tr th:only-of-type {\n        vertical-align: middle;\n    }\n\n    .dataframe tbody tr th {\n        vertical-align: top;\n    }\n\n    .dataframe thead th {\n        text-align: right;\n    }\n</style>\n<table border=\"1\" class=\"dataframe\">\n  <thead>\n    <tr style=\"text-align: right;\">\n      <th></th>\n      <th>+1 status to all saves vs. magic</th>\n      <th>guarded thoughts</th>\n      <th>+4 status to all saves vs. fear and dreams</th>\n      <th>+2 status to all saves vs. magic</th>\n      <th>+1 status to all saves vs. positive</th>\n      <th>+1 status to all saves vs. magic, +2 status to all saves vs. mental</th>\n      <th>+1 status to all saves vs. magic, +4 status to all saves vs. mental</th>\n      <th>+1 status to all saves vs. death effects</th>\n      <th>+4 status to all saves vs. fear</th>\n      <th>+2 status to all saves vs. magic, -2 to all saves (if heartstone is lost)</th>\n      <th>...</th>\n      <th>+2 circumstance to all saves vs. dream and sleep</th>\n      <th>+2 to will saves vs. mental</th>\n      <th>+2 status to all saves vs. magic, iron mind</th>\n      <th>+2 to all saves vs. grapple or shove</th>\n      <th>+1 status to all saves vs. disease (critical failures become failures against diseases)</th>\n      <th>+2 status to all saves vs. magic, +3 status to all saves vs. divine magic</th>\n      <th>+2 circumstance to all saves vs. disease</th>\n      <th>+2 status to all saves vs. auditory and visual</th>\n      <th>+2 to will saves vs. emotion</th>\n      <th>+2 status to all saves vs. cold</th>\n    </tr>\n  </thead>\n  <tbody>\n    <tr>\n      <th>0</th>\n      <td>91</td>\n      <td>1</td>\n      <td>1</td>\n      <td>5</td>\n      <td>6</td>\n      <td>3</td>\n      <td>7</td>\n      <td>1</td>\n      <td>1</td>\n      <td>1</td>\n      <td>...</td>\n      <td>1</td>\n      <td>1</td>\n      <td>1</td>\n      <td>1</td>\n      <td>1</td>\n      <td>2</td>\n      <td>1</td>\n      <td>1</td>\n      <td>1</td>\n      <td>1</td>\n    </tr>\n  </tbody>\n</table>\n<p>1 rows × 21 columns</p>\n</div>"
     },
     "metadata": {},
     "output_type": "display_data"
    },
    {
     "data": {
      "text/plain": "defaultdict(<function __main__.return_zero()>,\n            {'+1 status to all saves vs. magic': 91,\n             'guarded thoughts': 1,\n             '+4 status to all saves vs. fear and dreams': 1,\n             '+2 status to all saves vs. magic': 5,\n             '+1 status to all saves vs. positive': 6,\n             '+1 status to all saves vs. magic, +2 status to all saves vs. mental': 3,\n             '+1 status to all saves vs. magic, +4 status to all saves vs. mental': 7,\n             '+1 status to all saves vs. death effects': 1,\n             '+4 status to all saves vs. fear': 1,\n             '+2 status to all saves vs. magic, -2 to all saves (if heartstone is lost)': 1,\n             '+1 status to all saves vs. evil creatures': 1,\n             '+2 circumstance to all saves vs. dream and sleep': 1,\n             '+2 to will saves vs. mental': 1,\n             '+2 status to all saves vs. magic, iron mind': 1,\n             '+2 to all saves vs. grapple or shove': 1,\n             '+1 status to all saves vs. disease (critical failures become failures against diseases)': 1,\n             '+2 status to all saves vs. magic, +3 status to all saves vs. divine magic': 2,\n             '+2 circumstance to all saves vs. disease': 1,\n             '+2 status to all saves vs. auditory and visual': 1,\n             '+2 to will saves vs. emotion': 1,\n             '+2 status to all saves vs. cold': 1})"
     },
     "execution_count": 61,
     "metadata": {},
     "output_type": "execute_result"
    }
   ],
   "source": [
    "check_not_null_val(pd.DataFrame(data=unpack_column(attributes, \"allSaves\")), 'value')"
   ],
   "metadata": {
    "collapsed": false
   }
  },
  {
   "cell_type": "markdown",
   "source": [
    "Nie wiem jak to uwzględnić\n",
    "\n",
    "Gdyby to było w jakiejś postaci typu tabela kategorii i wartość dodana np. cold: +2\n",
    "\n",
    "ale nie jest"
   ],
   "metadata": {
    "collapsed": false
   }
  },
  {
   "cell_type": "markdown",
   "source": [
    "### Analiza attributes: *hp*"
   ],
   "metadata": {
    "collapsed": false
   }
  },
  {
   "cell_type": "code",
   "execution_count": 62,
   "outputs": [
    {
     "name": "stdout",
     "output_type": "stream",
     "text": [
      "details       \n",
      "max        215\n",
      "temp         0\n",
      "value      215\n",
      "Name: 0, dtype: object\n",
      "Len = 4\n"
     ]
    }
   ],
   "source": [
    "attributes_hp = unpack_column(attributes, \"hp\")"
   ],
   "metadata": {
    "collapsed": false
   }
  },
  {
   "cell_type": "code",
   "execution_count": 63,
   "outputs": [
    {
     "name": "stdout",
     "output_type": "stream",
     "text": [
      "<class 'pandas.core.frame.DataFrame'>\n",
      "RangeIndex: 468 entries, 0 to 467\n",
      "Data columns (total 4 columns):\n",
      " #   Column   Non-Null Count  Dtype \n",
      "---  ------   --------------  ----- \n",
      " 0   details  468 non-null    object\n",
      " 1   max      468 non-null    int64 \n",
      " 2   temp     468 non-null    int64 \n",
      " 3   value    468 non-null    int64 \n",
      "dtypes: int64(3), object(1)\n",
      "memory usage: 14.8+ KB\n"
     ]
    }
   ],
   "source": [
    "attributes_hp.info()"
   ],
   "metadata": {
    "collapsed": false
   }
  },
  {
   "cell_type": "code",
   "execution_count": 64,
   "outputs": [
    {
     "data": {
      "text/plain": "  details  max  temp  value\n0          215     0    215\n1          220     0    220\n2          175     0    175\n3          315     0    315\n4           20     0     20",
      "text/html": "<div>\n<style scoped>\n    .dataframe tbody tr th:only-of-type {\n        vertical-align: middle;\n    }\n\n    .dataframe tbody tr th {\n        vertical-align: top;\n    }\n\n    .dataframe thead th {\n        text-align: right;\n    }\n</style>\n<table border=\"1\" class=\"dataframe\">\n  <thead>\n    <tr style=\"text-align: right;\">\n      <th></th>\n      <th>details</th>\n      <th>max</th>\n      <th>temp</th>\n      <th>value</th>\n    </tr>\n  </thead>\n  <tbody>\n    <tr>\n      <th>0</th>\n      <td></td>\n      <td>215</td>\n      <td>0</td>\n      <td>215</td>\n    </tr>\n    <tr>\n      <th>1</th>\n      <td></td>\n      <td>220</td>\n      <td>0</td>\n      <td>220</td>\n    </tr>\n    <tr>\n      <th>2</th>\n      <td></td>\n      <td>175</td>\n      <td>0</td>\n      <td>175</td>\n    </tr>\n    <tr>\n      <th>3</th>\n      <td></td>\n      <td>315</td>\n      <td>0</td>\n      <td>315</td>\n    </tr>\n    <tr>\n      <th>4</th>\n      <td></td>\n      <td>20</td>\n      <td>0</td>\n      <td>20</td>\n    </tr>\n  </tbody>\n</table>\n</div>"
     },
     "execution_count": 64,
     "metadata": {},
     "output_type": "execute_result"
    }
   ],
   "source": [
    "attributes_hp.head()"
   ],
   "metadata": {
    "collapsed": false
   }
  },
  {
   "cell_type": "code",
   "execution_count": 66,
   "outputs": [],
   "source": [],
   "metadata": {
    "collapsed": false
   }
  },
  {
   "cell_type": "code",
   "execution_count": 65,
   "outputs": [
    {
     "name": "stdout",
     "output_type": "stream",
     "text": [
      "Diff Not null:  37\n",
      "All null values:  65\n"
     ]
    },
    {
     "data": {
      "text/plain": "   fast healing 5  negative healing  negative healing, rejuvenation  \\\n0               1                21                               4   \n\n   regeneration 15 (deactivated by cold iron)  \\\n0                                           1   \n\n   regeneration 10 (deactivated by cold iron)  \\\n0                                           2   \n\n   Regeneration 50 (deactivated by good)  fire healing  fast healing 1  \\\n0                                      1             1               1   \n\n   fast healing 10  coffin restoration, fast healing 7, negative healing  ...  \\\n0                2                                                  1     ...   \n\n   regeneration 20 (deactivated by cold or evil), self-resurrection  \\\n0                                                  1                  \n\n   filth wallow  rejuvenation  fast healing 2 (while touching fire)  \\\n0             1             1                                     1   \n\n   repair mode  death flash  fast healing 2  \\\n0            1            1               1   \n\n   fast healing 2 (while underground)  \\\n0                                   1   \n\n   regeneration 20 (deactivated by cold iron)  \\\n0                                           1   \n\n   coffin restoration, fast healing 10, negative healing  \n0                                                  1      \n\n[1 rows x 37 columns]",
      "text/html": "<div>\n<style scoped>\n    .dataframe tbody tr th:only-of-type {\n        vertical-align: middle;\n    }\n\n    .dataframe tbody tr th {\n        vertical-align: top;\n    }\n\n    .dataframe thead th {\n        text-align: right;\n    }\n</style>\n<table border=\"1\" class=\"dataframe\">\n  <thead>\n    <tr style=\"text-align: right;\">\n      <th></th>\n      <th>fast healing 5</th>\n      <th>negative healing</th>\n      <th>negative healing, rejuvenation</th>\n      <th>regeneration 15 (deactivated by cold iron)</th>\n      <th>regeneration 10 (deactivated by cold iron)</th>\n      <th>Regeneration 50 (deactivated by good)</th>\n      <th>fire healing</th>\n      <th>fast healing 1</th>\n      <th>fast healing 10</th>\n      <th>coffin restoration, fast healing 7, negative healing</th>\n      <th>...</th>\n      <th>regeneration 20 (deactivated by cold or evil), self-resurrection</th>\n      <th>filth wallow</th>\n      <th>rejuvenation</th>\n      <th>fast healing 2 (while touching fire)</th>\n      <th>repair mode</th>\n      <th>death flash</th>\n      <th>fast healing 2</th>\n      <th>fast healing 2 (while underground)</th>\n      <th>regeneration 20 (deactivated by cold iron)</th>\n      <th>coffin restoration, fast healing 10, negative healing</th>\n    </tr>\n  </thead>\n  <tbody>\n    <tr>\n      <th>0</th>\n      <td>1</td>\n      <td>21</td>\n      <td>4</td>\n      <td>1</td>\n      <td>2</td>\n      <td>1</td>\n      <td>1</td>\n      <td>1</td>\n      <td>2</td>\n      <td>1</td>\n      <td>...</td>\n      <td>1</td>\n      <td>1</td>\n      <td>1</td>\n      <td>1</td>\n      <td>1</td>\n      <td>1</td>\n      <td>1</td>\n      <td>1</td>\n      <td>1</td>\n      <td>1</td>\n    </tr>\n  </tbody>\n</table>\n<p>1 rows × 37 columns</p>\n</div>"
     },
     "metadata": {},
     "output_type": "display_data"
    }
   ],
   "source": [
    "hp_no_null_det = check_not_null_val(attributes_hp, 'details')"
   ],
   "metadata": {
    "collapsed": false
   }
  },
  {
   "cell_type": "markdown",
   "source": [
    "analogicznie jak powyżej"
   ],
   "metadata": {
    "collapsed": false
   }
  },
  {
   "cell_type": "code",
   "execution_count": 66,
   "outputs": [
    {
     "name": "stdout",
     "output_type": "stream",
     "text": [
      "Diff Not null:  0\n",
      "All null values:  0\n"
     ]
    },
    {
     "data": {
      "text/plain": "Empty DataFrame\nColumns: []\nIndex: [0]",
      "text/html": "<div>\n<style scoped>\n    .dataframe tbody tr th:only-of-type {\n        vertical-align: middle;\n    }\n\n    .dataframe tbody tr th {\n        vertical-align: top;\n    }\n\n    .dataframe thead th {\n        text-align: right;\n    }\n</style>\n<table border=\"1\" class=\"dataframe\">\n  <thead>\n    <tr style=\"text-align: right;\">\n      <th></th>\n    </tr>\n  </thead>\n  <tbody>\n    <tr>\n      <th>0</th>\n    </tr>\n  </tbody>\n</table>\n</div>"
     },
     "metadata": {},
     "output_type": "display_data"
    },
    {
     "data": {
      "text/plain": "defaultdict(<function __main__.return_zero()>, {})"
     },
     "execution_count": 66,
     "metadata": {},
     "output_type": "execute_result"
    }
   ],
   "source": [
    "check_not_null_val(attributes_hp, 'temp', 0)"
   ],
   "metadata": {
    "collapsed": false
   }
  },
  {
   "cell_type": "markdown",
   "source": [
    "temp to zawsze \"wartość pusta\" => 0 -można olać\n",
    "\n",
    "**Wydaje mi się że stąd można \"ukraść\" max oraz value**"
   ],
   "metadata": {
    "collapsed": false
   }
  },
  {
   "cell_type": "markdown",
   "source": [
    "### Analiza attributes: *immunities*"
   ],
   "metadata": {
    "collapsed": false
   }
  },
  {
   "cell_type": "code",
   "execution_count": 67,
   "outputs": [
    {
     "data": {
      "text/plain": "                             ac  \\\n0  {'details': '', 'value': 29}   \n1  {'details': '', 'value': 28}   \n2  {'details': '', 'value': 25}   \n3  {'details': '', 'value': 41}   \n4  {'details': '', 'value': 16}   \n\n                                        allSaves  \\\n0  {'value': '+1 status to all saves vs. magic'}   \n1                                  {'value': ''}   \n2                                  {'value': ''}   \n3  {'value': '+1 status to all saves vs. magic'}   \n4                                  {'value': ''}   \n\n                                                  hp  \\\n0  {'details': '', 'max': 215, 'temp': 0, 'value'...   \n1  {'details': '', 'max': 220, 'temp': 0, 'value'...   \n2  {'details': '', 'max': 175, 'temp': 0, 'value'...   \n3  {'details': '', 'max': 315, 'temp': 0, 'value'...   \n4  {'details': '', 'max': 20, 'temp': 0, 'value':...   \n\n                                          immunities  \\\n0  [{'type': 'cold'}, {'type': 'paralyzed'}, {'ty...   \n1                                                NaN   \n2                                                NaN   \n3  [{'type': 'paralyzed'}, {'type': 'poison'}, {'...   \n4                                                NaN   \n\n                  initiative     perception  \\\n0  {'ability': 'perception'}  {'value': 20}   \n1  {'ability': 'perception'}  {'value': 16}   \n2  {'ability': 'perception'}  {'value': 17}   \n3  {'ability': 'perception'}  {'value': 30}   \n4  {'ability': 'perception'}   {'value': 6}   \n\n                                               speed  \\\n0  {'details': 'climb on ice only', 'otherSpeeds'...   \n1                   {'otherSpeeds': [], 'value': 35}   \n2  {'otherSpeeds': [{'type': 'climb', 'value': 30...   \n3  {'details': 'trackless step, woodland stride',...   \n4  {'otherSpeeds': [{'type': 'fly', 'value': 40}]...   \n\n                        weaknesses                     resistances hardness  \n0  [{'type': 'fire', 'value': 10}]                             NaN      NaN  \n1                              NaN                             NaN      NaN  \n2                              NaN                             NaN      NaN  \n3                              NaN                             NaN      NaN  \n4   [{'type': 'evil', 'value': 3}]  [{'type': 'fire', 'value': 3}]      NaN  ",
      "text/html": "<div>\n<style scoped>\n    .dataframe tbody tr th:only-of-type {\n        vertical-align: middle;\n    }\n\n    .dataframe tbody tr th {\n        vertical-align: top;\n    }\n\n    .dataframe thead th {\n        text-align: right;\n    }\n</style>\n<table border=\"1\" class=\"dataframe\">\n  <thead>\n    <tr style=\"text-align: right;\">\n      <th></th>\n      <th>ac</th>\n      <th>allSaves</th>\n      <th>hp</th>\n      <th>immunities</th>\n      <th>initiative</th>\n      <th>perception</th>\n      <th>speed</th>\n      <th>weaknesses</th>\n      <th>resistances</th>\n      <th>hardness</th>\n    </tr>\n  </thead>\n  <tbody>\n    <tr>\n      <th>0</th>\n      <td>{'details': '', 'value': 29}</td>\n      <td>{'value': '+1 status to all saves vs. magic'}</td>\n      <td>{'details': '', 'max': 215, 'temp': 0, 'value'...</td>\n      <td>[{'type': 'cold'}, {'type': 'paralyzed'}, {'ty...</td>\n      <td>{'ability': 'perception'}</td>\n      <td>{'value': 20}</td>\n      <td>{'details': 'climb on ice only', 'otherSpeeds'...</td>\n      <td>[{'type': 'fire', 'value': 10}]</td>\n      <td>NaN</td>\n      <td>NaN</td>\n    </tr>\n    <tr>\n      <th>1</th>\n      <td>{'details': '', 'value': 28}</td>\n      <td>{'value': ''}</td>\n      <td>{'details': '', 'max': 220, 'temp': 0, 'value'...</td>\n      <td>NaN</td>\n      <td>{'ability': 'perception'}</td>\n      <td>{'value': 16}</td>\n      <td>{'otherSpeeds': [], 'value': 35}</td>\n      <td>NaN</td>\n      <td>NaN</td>\n      <td>NaN</td>\n    </tr>\n    <tr>\n      <th>2</th>\n      <td>{'details': '', 'value': 25}</td>\n      <td>{'value': ''}</td>\n      <td>{'details': '', 'max': 175, 'temp': 0, 'value'...</td>\n      <td>NaN</td>\n      <td>{'ability': 'perception'}</td>\n      <td>{'value': 17}</td>\n      <td>{'otherSpeeds': [{'type': 'climb', 'value': 30...</td>\n      <td>NaN</td>\n      <td>NaN</td>\n      <td>NaN</td>\n    </tr>\n    <tr>\n      <th>3</th>\n      <td>{'details': '', 'value': 41}</td>\n      <td>{'value': '+1 status to all saves vs. magic'}</td>\n      <td>{'details': '', 'max': 315, 'temp': 0, 'value'...</td>\n      <td>[{'type': 'paralyzed'}, {'type': 'poison'}, {'...</td>\n      <td>{'ability': 'perception'}</td>\n      <td>{'value': 30}</td>\n      <td>{'details': 'trackless step, woodland stride',...</td>\n      <td>NaN</td>\n      <td>NaN</td>\n      <td>NaN</td>\n    </tr>\n    <tr>\n      <th>4</th>\n      <td>{'details': '', 'value': 16}</td>\n      <td>{'value': ''}</td>\n      <td>{'details': '', 'max': 20, 'temp': 0, 'value':...</td>\n      <td>NaN</td>\n      <td>{'ability': 'perception'}</td>\n      <td>{'value': 6}</td>\n      <td>{'otherSpeeds': [{'type': 'fly', 'value': 40}]...</td>\n      <td>[{'type': 'evil', 'value': 3}]</td>\n      <td>[{'type': 'fire', 'value': 3}]</td>\n      <td>NaN</td>\n    </tr>\n  </tbody>\n</table>\n</div>"
     },
     "execution_count": 67,
     "metadata": {},
     "output_type": "execute_result"
    }
   ],
   "source": [
    "attributes.head()"
   ],
   "metadata": {
    "collapsed": false
   }
  },
  {
   "cell_type": "markdown",
   "source": [],
   "metadata": {
    "collapsed": false
   }
  }
 ],
 "metadata": {
  "kernelspec": {
   "display_name": "Python 3",
   "language": "python",
   "name": "python3"
  },
  "language_info": {
   "codemirror_mode": {
    "name": "ipython",
    "version": 2
   },
   "file_extension": ".py",
   "mimetype": "text/x-python",
   "name": "python",
   "nbconvert_exporter": "python",
   "pygments_lexer": "ipython2",
   "version": "2.7.6"
  }
 },
 "nbformat": 4,
 "nbformat_minor": 0
}
