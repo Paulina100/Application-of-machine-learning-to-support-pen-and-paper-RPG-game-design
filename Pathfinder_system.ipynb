{
 "cells": [
  {
   "cell_type": "markdown",
   "source": [
    "# Analiza kolumny system\n",
    "Import danych"
   ],
   "metadata": {
    "collapsed": false
   }
  },
  {
   "cell_type": "code",
   "execution_count": 1,
   "metadata": {
    "collapsed": true
   },
   "outputs": [
    {
     "name": "stdout",
     "output_type": "stream",
     "text": [
      "_id                                                024PqcF8yMRBrPuq\n",
      "img                        systems/pf2e/icons/default-icons/npc.svg\n",
      "items             [{'_id': 'B7rzf0nBJmzg8x0y', 'img': 'systems/p...\n",
      "name                                             Adult White Dragon\n",
      "system            {'abilities': {'cha': {'mod': 1}, 'con': {'mod...\n",
      "type                                                            npc\n",
      "flags             {'core': {'sourceId': 'Compendium.pf2e.pathfin...\n",
      "prototypeToken                                                  NaN\n",
      "Name: 0, dtype: object\n"
     ]
    }
   ],
   "source": [
    "import pandas as pd\n",
    "\n",
    "bestiary1 = pd.read_json(\"pathfinder_2e_data/pathfinder-bestiary.db\", lines=True)\n",
    "bestiary2 = pd.read_json(\"pathfinder_2e_data/pathfinder-bestiary-2.db\", lines=True)\n",
    "bestiary3 = pd.read_json(\"pathfinder_2e_data/pathfinder-bestiary-3.db\", lines=True)\n",
    "print(bestiary1.iloc[0])"
   ]
  },
  {
   "cell_type": "markdown",
   "source": [
    "```unpack_column``` - Funkcja która rozpakowuje słownik i zmienia go w dataframe. Printuje pierwszą wartość tabeli i długość"
   ],
   "metadata": {
    "collapsed": false
   }
  },
  {
   "cell_type": "code",
   "execution_count": 3,
   "outputs": [],
   "source": [
    "def unpack_column(df, column_name):\n",
    "    new_df = df[column_name].apply(pd.Series)\n",
    "    print(new_df.iloc[0])\n",
    "    print('Len =', len(new_df.iloc[0]))\n",
    "    return new_df"
   ],
   "metadata": {
    "collapsed": false
   }
  },
  {
   "cell_type": "code",
   "execution_count": 2,
   "outputs": [
    {
     "name": "stdout",
     "output_type": "stream",
     "text": [
      "abilities     {'cha': {'mod': 1}, 'con': {'mod': 5}, 'dex': ...\n",
      "attributes    {'ac': {'details': '', 'value': 29}, 'allSaves...\n",
      "details       {'alignment': {'value': 'CE'}, 'blurb': '', 'c...\n",
      "resources                     {'focus': {'max': 1, 'value': 1}}\n",
      "saves         {'fortitude': {'saveDetail': '', 'value': 22},...\n",
      "traits        {'languages': {'custom': '', 'selected': [], '...\n",
      "schema        {'version': 0.8270000000000001, 'lastMigration...\n",
      "Name: 0, dtype: object\n",
      "Len =  7\n"
     ]
    }
   ],
   "source": [
    "bestiary1_system = bestiary1['system'].apply(pd.Series)\n",
    "print(bestiary1_system.iloc[0])\n",
    "print('Len = ', len(bestiary1_system.iloc[0]))"
   ],
   "metadata": {
    "collapsed": false
   }
  },
  {
   "cell_type": "markdown",
   "source": [
    "## Abilities"
   ],
   "metadata": {
    "collapsed": false
   }
  },
  {
   "cell_type": "code",
   "execution_count": 4,
   "outputs": [
    {
     "name": "stdout",
     "output_type": "stream",
     "text": [
      "cha    {'mod': 1}\n",
      "con    {'mod': 5}\n",
      "dex    {'mod': 2}\n",
      "int    {'mod': 1}\n",
      "str    {'mod': 7}\n",
      "wis    {'mod': 2}\n",
      "Name: 0, dtype: object\n",
      "Len = 6\n"
     ]
    }
   ],
   "source": [
    "abilities = unpack_column(bestiary1_system, 'abilities')"
   ],
   "metadata": {
    "collapsed": false
   }
  },
  {
   "cell_type": "markdown",
   "source": [
    "Sprawdzenie jakie klucze występują w słownikach - czy tylko ```mod```?"
   ],
   "metadata": {
    "collapsed": false
   }
  },
  {
   "cell_type": "code",
   "execution_count": 99,
   "outputs": [],
   "source": [
    "def check_diff_values(df, values):\n",
    "    return len([_ for i, row in df.iterrows() for col in df.columns for val in values if len(row[col]) != len(values) or val not in row[col].keys()]) > 0"
   ],
   "metadata": {
    "collapsed": false
   }
  },
  {
   "cell_type": "code",
   "execution_count": 95,
   "outputs": [
    {
     "name": "stdout",
     "output_type": "stream",
     "text": [
      "0\n",
      "False\n"
     ]
    }
   ],
   "source": [
    "print(len([_ for i, row in abilities.iterrows() for col in abilities.columns if len(row[col]) != 1 or 'mod' not in row[col].keys()]))\n",
    "print(check_diff_values(abilities, ['mod']))"
   ],
   "metadata": {
    "collapsed": false
   }
  },
  {
   "cell_type": "markdown",
   "source": [
    "Same mody, więc możnachyba zmienić te słowniki na wartość"
   ],
   "metadata": {
    "collapsed": false
   }
  },
  {
   "cell_type": "code",
   "execution_count": 81,
   "outputs": [
    {
     "data": {
      "text/plain": "           cha         con         dex          int          str         wis\n0   {'mod': 1}  {'mod': 5}  {'mod': 2}   {'mod': 1}   {'mod': 7}  {'mod': 2}\n1   {'mod': 1}  {'mod': 5}  {'mod': 0}  {'mod': -4}   {'mod': 9}  {'mod': 2}\n2  {'mod': -2}  {'mod': 6}  {'mod': 3}  {'mod': -4}   {'mod': 7}  {'mod': 3}\n3   {'mod': 6}  {'mod': 5}  {'mod': 4}   {'mod': 6}   {'mod': 7}  {'mod': 5}\n4   {'mod': 1}  {'mod': 1}  {'mod': 3}  {'mod': -1}  {'mod': -5}  {'mod': 1}",
      "text/html": "<div>\n<style scoped>\n    .dataframe tbody tr th:only-of-type {\n        vertical-align: middle;\n    }\n\n    .dataframe tbody tr th {\n        vertical-align: top;\n    }\n\n    .dataframe thead th {\n        text-align: right;\n    }\n</style>\n<table border=\"1\" class=\"dataframe\">\n  <thead>\n    <tr style=\"text-align: right;\">\n      <th></th>\n      <th>cha</th>\n      <th>con</th>\n      <th>dex</th>\n      <th>int</th>\n      <th>str</th>\n      <th>wis</th>\n    </tr>\n  </thead>\n  <tbody>\n    <tr>\n      <th>0</th>\n      <td>{'mod': 1}</td>\n      <td>{'mod': 5}</td>\n      <td>{'mod': 2}</td>\n      <td>{'mod': 1}</td>\n      <td>{'mod': 7}</td>\n      <td>{'mod': 2}</td>\n    </tr>\n    <tr>\n      <th>1</th>\n      <td>{'mod': 1}</td>\n      <td>{'mod': 5}</td>\n      <td>{'mod': 0}</td>\n      <td>{'mod': -4}</td>\n      <td>{'mod': 9}</td>\n      <td>{'mod': 2}</td>\n    </tr>\n    <tr>\n      <th>2</th>\n      <td>{'mod': -2}</td>\n      <td>{'mod': 6}</td>\n      <td>{'mod': 3}</td>\n      <td>{'mod': -4}</td>\n      <td>{'mod': 7}</td>\n      <td>{'mod': 3}</td>\n    </tr>\n    <tr>\n      <th>3</th>\n      <td>{'mod': 6}</td>\n      <td>{'mod': 5}</td>\n      <td>{'mod': 4}</td>\n      <td>{'mod': 6}</td>\n      <td>{'mod': 7}</td>\n      <td>{'mod': 5}</td>\n    </tr>\n    <tr>\n      <th>4</th>\n      <td>{'mod': 1}</td>\n      <td>{'mod': 1}</td>\n      <td>{'mod': 3}</td>\n      <td>{'mod': -1}</td>\n      <td>{'mod': -5}</td>\n      <td>{'mod': 1}</td>\n    </tr>\n  </tbody>\n</table>\n</div>"
     },
     "execution_count": 81,
     "metadata": {},
     "output_type": "execute_result"
    }
   ],
   "source": [
    "abilities.head()"
   ],
   "metadata": {
    "collapsed": false
   }
  },
  {
   "cell_type": "markdown",
   "source": [
    "### Zamiana słowników na wartości *mod*"
   ],
   "metadata": {
    "collapsed": false
   }
  },
  {
   "cell_type": "code",
   "execution_count": 82,
   "outputs": [],
   "source": [
    "from copy import deepcopy\n",
    "\n",
    "abilities2 = deepcopy(abilities)"
   ],
   "metadata": {
    "collapsed": false
   }
  },
  {
   "cell_type": "markdown",
   "source": [
    "Na razie nie znalazłam ładniejszego sposobu na podmianę"
   ],
   "metadata": {
    "collapsed": false
   }
  },
  {
   "cell_type": "code",
   "execution_count": 83,
   "outputs": [],
   "source": [
    "for col in abilities2.columns:\n",
    "    for i, row in abilities2.iterrows():\n",
    "        row[col]=row[col].get('mod')"
   ],
   "metadata": {
    "collapsed": false
   }
  },
  {
   "cell_type": "code",
   "execution_count": 85,
   "outputs": [
    {
     "data": {
      "text/plain": "  cha con dex int str wis\n0   1   5   2   1   7   2\n1   1   5   0  -4   9   2\n2  -2   6   3  -4   7   3\n3   6   5   4   6   7   5\n4   1   1   3  -1  -5   1",
      "text/html": "<div>\n<style scoped>\n    .dataframe tbody tr th:only-of-type {\n        vertical-align: middle;\n    }\n\n    .dataframe tbody tr th {\n        vertical-align: top;\n    }\n\n    .dataframe thead th {\n        text-align: right;\n    }\n</style>\n<table border=\"1\" class=\"dataframe\">\n  <thead>\n    <tr style=\"text-align: right;\">\n      <th></th>\n      <th>cha</th>\n      <th>con</th>\n      <th>dex</th>\n      <th>int</th>\n      <th>str</th>\n      <th>wis</th>\n    </tr>\n  </thead>\n  <tbody>\n    <tr>\n      <th>0</th>\n      <td>1</td>\n      <td>5</td>\n      <td>2</td>\n      <td>1</td>\n      <td>7</td>\n      <td>2</td>\n    </tr>\n    <tr>\n      <th>1</th>\n      <td>1</td>\n      <td>5</td>\n      <td>0</td>\n      <td>-4</td>\n      <td>9</td>\n      <td>2</td>\n    </tr>\n    <tr>\n      <th>2</th>\n      <td>-2</td>\n      <td>6</td>\n      <td>3</td>\n      <td>-4</td>\n      <td>7</td>\n      <td>3</td>\n    </tr>\n    <tr>\n      <th>3</th>\n      <td>6</td>\n      <td>5</td>\n      <td>4</td>\n      <td>6</td>\n      <td>7</td>\n      <td>5</td>\n    </tr>\n    <tr>\n      <th>4</th>\n      <td>1</td>\n      <td>1</td>\n      <td>3</td>\n      <td>-1</td>\n      <td>-5</td>\n      <td>1</td>\n    </tr>\n  </tbody>\n</table>\n</div>"
     },
     "execution_count": 85,
     "metadata": {},
     "output_type": "execute_result"
    }
   ],
   "source": [
    "abilities2.head()"
   ],
   "metadata": {
    "collapsed": false
   }
  },
  {
   "cell_type": "markdown",
   "source": [
    "## Analiza attributes"
   ],
   "metadata": {
    "collapsed": false
   }
  },
  {
   "cell_type": "code",
   "execution_count": 86,
   "outputs": [
    {
     "name": "stdout",
     "output_type": "stream",
     "text": [
      "ac                                  {'details': '', 'value': 29}\n",
      "allSaves           {'value': '+1 status to all saves vs. magic'}\n",
      "hp             {'details': '', 'max': 215, 'temp': 0, 'value'...\n",
      "immunities     [{'type': 'cold'}, {'type': 'paralyzed'}, {'ty...\n",
      "initiative                             {'ability': 'perception'}\n",
      "perception                                         {'value': 20}\n",
      "speed          {'details': 'climb on ice only', 'otherSpeeds'...\n",
      "weaknesses                       [{'type': 'fire', 'value': 10}]\n",
      "resistances                                                  NaN\n",
      "hardness                                                     NaN\n",
      "Name: 0, dtype: object\n",
      "Len = 10\n"
     ]
    }
   ],
   "source": [
    "attributes = unpack_column(bestiary1_system, 'attributes')"
   ],
   "metadata": {
    "collapsed": false
   }
  },
  {
   "cell_type": "code",
   "execution_count": 87,
   "outputs": [
    {
     "name": "stdout",
     "output_type": "stream",
     "text": [
      "<class 'pandas.core.frame.DataFrame'>\n",
      "RangeIndex: 468 entries, 0 to 467\n",
      "Data columns (total 10 columns):\n",
      " #   Column       Non-Null Count  Dtype \n",
      "---  ------       --------------  ----- \n",
      " 0   ac           468 non-null    object\n",
      " 1   allSaves     468 non-null    object\n",
      " 2   hp           468 non-null    object\n",
      " 3   immunities   225 non-null    object\n",
      " 4   initiative   468 non-null    object\n",
      " 5   perception   468 non-null    object\n",
      " 6   speed        468 non-null    object\n",
      " 7   weaknesses   141 non-null    object\n",
      " 8   resistances  121 non-null    object\n",
      " 9   hardness     4 non-null      object\n",
      "dtypes: object(10)\n",
      "memory usage: 36.7+ KB\n"
     ]
    }
   ],
   "source": [
    "attributes.info()"
   ],
   "metadata": {
    "collapsed": false
   }
  },
  {
   "cell_type": "code",
   "execution_count": 88,
   "outputs": [
    {
     "data": {
      "text/plain": "                             ac  \\\n0  {'details': '', 'value': 29}   \n1  {'details': '', 'value': 28}   \n2  {'details': '', 'value': 25}   \n3  {'details': '', 'value': 41}   \n4  {'details': '', 'value': 16}   \n\n                                        allSaves  \\\n0  {'value': '+1 status to all saves vs. magic'}   \n1                                  {'value': ''}   \n2                                  {'value': ''}   \n3  {'value': '+1 status to all saves vs. magic'}   \n4                                  {'value': ''}   \n\n                                                  hp  \\\n0  {'details': '', 'max': 215, 'temp': 0, 'value'...   \n1  {'details': '', 'max': 220, 'temp': 0, 'value'...   \n2  {'details': '', 'max': 175, 'temp': 0, 'value'...   \n3  {'details': '', 'max': 315, 'temp': 0, 'value'...   \n4  {'details': '', 'max': 20, 'temp': 0, 'value':...   \n\n                                          immunities  \\\n0  [{'type': 'cold'}, {'type': 'paralyzed'}, {'ty...   \n1                                                NaN   \n2                                                NaN   \n3  [{'type': 'paralyzed'}, {'type': 'poison'}, {'...   \n4                                                NaN   \n\n                  initiative     perception  \\\n0  {'ability': 'perception'}  {'value': 20}   \n1  {'ability': 'perception'}  {'value': 16}   \n2  {'ability': 'perception'}  {'value': 17}   \n3  {'ability': 'perception'}  {'value': 30}   \n4  {'ability': 'perception'}   {'value': 6}   \n\n                                               speed  \\\n0  {'details': 'climb on ice only', 'otherSpeeds'...   \n1                   {'otherSpeeds': [], 'value': 35}   \n2  {'otherSpeeds': [{'type': 'climb', 'value': 30...   \n3  {'details': 'trackless step, woodland stride',...   \n4  {'otherSpeeds': [{'type': 'fly', 'value': 40}]...   \n\n                        weaknesses                     resistances hardness  \n0  [{'type': 'fire', 'value': 10}]                             NaN      NaN  \n1                              NaN                             NaN      NaN  \n2                              NaN                             NaN      NaN  \n3                              NaN                             NaN      NaN  \n4   [{'type': 'evil', 'value': 3}]  [{'type': 'fire', 'value': 3}]      NaN  ",
      "text/html": "<div>\n<style scoped>\n    .dataframe tbody tr th:only-of-type {\n        vertical-align: middle;\n    }\n\n    .dataframe tbody tr th {\n        vertical-align: top;\n    }\n\n    .dataframe thead th {\n        text-align: right;\n    }\n</style>\n<table border=\"1\" class=\"dataframe\">\n  <thead>\n    <tr style=\"text-align: right;\">\n      <th></th>\n      <th>ac</th>\n      <th>allSaves</th>\n      <th>hp</th>\n      <th>immunities</th>\n      <th>initiative</th>\n      <th>perception</th>\n      <th>speed</th>\n      <th>weaknesses</th>\n      <th>resistances</th>\n      <th>hardness</th>\n    </tr>\n  </thead>\n  <tbody>\n    <tr>\n      <th>0</th>\n      <td>{'details': '', 'value': 29}</td>\n      <td>{'value': '+1 status to all saves vs. magic'}</td>\n      <td>{'details': '', 'max': 215, 'temp': 0, 'value'...</td>\n      <td>[{'type': 'cold'}, {'type': 'paralyzed'}, {'ty...</td>\n      <td>{'ability': 'perception'}</td>\n      <td>{'value': 20}</td>\n      <td>{'details': 'climb on ice only', 'otherSpeeds'...</td>\n      <td>[{'type': 'fire', 'value': 10}]</td>\n      <td>NaN</td>\n      <td>NaN</td>\n    </tr>\n    <tr>\n      <th>1</th>\n      <td>{'details': '', 'value': 28}</td>\n      <td>{'value': ''}</td>\n      <td>{'details': '', 'max': 220, 'temp': 0, 'value'...</td>\n      <td>NaN</td>\n      <td>{'ability': 'perception'}</td>\n      <td>{'value': 16}</td>\n      <td>{'otherSpeeds': [], 'value': 35}</td>\n      <td>NaN</td>\n      <td>NaN</td>\n      <td>NaN</td>\n    </tr>\n    <tr>\n      <th>2</th>\n      <td>{'details': '', 'value': 25}</td>\n      <td>{'value': ''}</td>\n      <td>{'details': '', 'max': 175, 'temp': 0, 'value'...</td>\n      <td>NaN</td>\n      <td>{'ability': 'perception'}</td>\n      <td>{'value': 17}</td>\n      <td>{'otherSpeeds': [{'type': 'climb', 'value': 30...</td>\n      <td>NaN</td>\n      <td>NaN</td>\n      <td>NaN</td>\n    </tr>\n    <tr>\n      <th>3</th>\n      <td>{'details': '', 'value': 41}</td>\n      <td>{'value': '+1 status to all saves vs. magic'}</td>\n      <td>{'details': '', 'max': 315, 'temp': 0, 'value'...</td>\n      <td>[{'type': 'paralyzed'}, {'type': 'poison'}, {'...</td>\n      <td>{'ability': 'perception'}</td>\n      <td>{'value': 30}</td>\n      <td>{'details': 'trackless step, woodland stride',...</td>\n      <td>NaN</td>\n      <td>NaN</td>\n      <td>NaN</td>\n    </tr>\n    <tr>\n      <th>4</th>\n      <td>{'details': '', 'value': 16}</td>\n      <td>{'value': ''}</td>\n      <td>{'details': '', 'max': 20, 'temp': 0, 'value':...</td>\n      <td>NaN</td>\n      <td>{'ability': 'perception'}</td>\n      <td>{'value': 6}</td>\n      <td>{'otherSpeeds': [{'type': 'fly', 'value': 40}]...</td>\n      <td>[{'type': 'evil', 'value': 3}]</td>\n      <td>[{'type': 'fire', 'value': 3}]</td>\n      <td>NaN</td>\n    </tr>\n  </tbody>\n</table>\n</div>"
     },
     "execution_count": 88,
     "metadata": {},
     "output_type": "execute_result"
    }
   ],
   "source": [
    "attributes.head()"
   ],
   "metadata": {
    "collapsed": false
   }
  },
  {
   "cell_type": "markdown",
   "source": [
    "Masa jakiś nowych informacji: znów słowniki"
   ],
   "metadata": {
    "collapsed": false
   }
  },
  {
   "cell_type": "markdown",
   "source": [
    "### Analiza attributes: ac"
   ],
   "metadata": {
    "collapsed": false
   }
  },
  {
   "cell_type": "code",
   "execution_count": 90,
   "outputs": [
    {
     "name": "stdout",
     "output_type": "stream",
     "text": [
      "0      {'details': '', 'value': 29}\n",
      "1      {'details': '', 'value': 28}\n",
      "2      {'details': '', 'value': 25}\n",
      "3      {'details': '', 'value': 41}\n",
      "4      {'details': '', 'value': 16}\n",
      "                   ...             \n",
      "463    {'details': '', 'value': 13}\n",
      "464    {'details': '', 'value': 22}\n",
      "465    {'details': '', 'value': 24}\n",
      "466    {'details': '', 'value': 34}\n",
      "467    {'details': '', 'value': 30}\n",
      "Name: ac, Length: 468, dtype: object\n"
     ]
    }
   ],
   "source": [
    "print(attributes.ac)"
   ],
   "metadata": {
    "collapsed": false
   }
  },
  {
   "cell_type": "code",
   "execution_count": 101,
   "outputs": [
    {
     "data": {
      "text/plain": "False"
     },
     "execution_count": 101,
     "metadata": {},
     "output_type": "execute_result"
    }
   ],
   "source": [
    "check_diff_values(pd.DataFrame(data=attributes.ac), ['details', 'value'])"
   ],
   "metadata": {
    "collapsed": false
   }
  },
  {
   "cell_type": "code",
   "execution_count": 112,
   "outputs": [],
   "source": [
    "def find_other_values(df, values):\n",
    "    result = []\n",
    "    for i, row in df.iterrows():\n",
    "        for col in df:\n",
    "            if len(row[col]) != len(values):\n",
    "                print(row[col])\n",
    "                result.append(row[col])\n",
    "                continue\n",
    "            for val in values:\n",
    "                if val not in row[col].keys() > 0:\n",
    "                    result.append(row[col])\n",
    "    return result"
   ],
   "metadata": {
    "collapsed": false
   }
  },
  {
   "cell_type": "code",
   "execution_count": 122,
   "outputs": [],
   "source": [
    "attributes_ac_details = {i: row['details'] for i, row in attributes.ac.iteritems()}"
   ],
   "metadata": {
    "collapsed": false
   }
  },
  {
   "cell_type": "code",
   "execution_count": 135,
   "outputs": [],
   "source": [
    "ac_dict = {}\n",
    "for k, i in attributes_ac_details.items():\n",
    "    if i != \"\":\n",
    "        ac_dict[i] = None\n",
    "        # break"
   ],
   "metadata": {
    "collapsed": false
   }
  },
  {
   "cell_type": "code",
   "execution_count": 138,
   "outputs": [
    {
     "name": "stdout",
     "output_type": "stream",
     "text": [
      "13\n",
      "dict_keys(['all-around vision', '(14 when broken); construct armor', '(18 with shield raised)', '22 with shield raised', '(15 when broken); construct armor', '(20 with shield raised)', '(21 with shield raised)', '(22 against prey; see Hunt Prey)', '+1 status vs. evil creatures', '(22 with shield raised)', '(13 when broken); construct armor', '(25 with shield raised)', '(22 when broken); construct armor'])\n"
     ]
    }
   ],
   "source": [
    "print(len(ac_dict))\n",
    "print(ac_dict.keys())"
   ],
   "metadata": {
    "collapsed": false
   }
  },
  {
   "cell_type": "markdown",
   "source": [
    "Można olać całość albo uwzglednic jedynie **value** a ewentualnie później zastanowić się nad tymi detalami"
   ],
   "metadata": {
    "collapsed": false
   }
  },
  {
   "cell_type": "markdown",
   "source": [
    "### Analiza attributes: allSaves"
   ],
   "metadata": {
    "collapsed": false
   }
  },
  {
   "cell_type": "code",
   "execution_count": 139,
   "outputs": [
    {
     "name": "stdout",
     "output_type": "stream",
     "text": [
      "0      {'value': '+1 status to all saves vs. magic'}\n",
      "1                                      {'value': ''}\n",
      "2                                      {'value': ''}\n",
      "3      {'value': '+1 status to all saves vs. magic'}\n",
      "4                                      {'value': ''}\n",
      "                           ...                      \n",
      "463                                    {'value': ''}\n",
      "464                                    {'value': ''}\n",
      "465    {'value': '+1 status to all saves vs. magic'}\n",
      "466    {'value': '+1 status to all saves vs. magic'}\n",
      "467                                    {'value': ''}\n",
      "Name: allSaves, Length: 468, dtype: object\n"
     ]
    }
   ],
   "source": [
    "print(attributes.allSaves)"
   ],
   "metadata": {
    "collapsed": false
   }
  },
  {
   "cell_type": "code",
   "execution_count": 141,
   "outputs": [
    {
     "data": {
      "text/plain": "False"
     },
     "execution_count": 141,
     "metadata": {},
     "output_type": "execute_result"
    }
   ],
   "source": [
    "check_diff_values(pd.DataFrame(data=attributes.allSaves), ['value'])"
   ],
   "metadata": {
    "collapsed": false
   }
  },
  {
   "cell_type": "code",
   "execution_count": 155,
   "outputs": [],
   "source": [
    "allS_dict = {}\n",
    "for row in attributes.allSaves:\n",
    "    v = row.get('value')\n",
    "    # print(v)\n",
    "    # print(row)\n",
    "    if i != \"\":\n",
    "        allS_dict[v] = None"
   ],
   "metadata": {
    "collapsed": false
   }
  },
  {
   "cell_type": "code",
   "execution_count": 156,
   "outputs": [
    {
     "name": "stdout",
     "output_type": "stream",
     "text": [
      "22\n",
      "{'+1 status to all saves vs. magic': None, '': None, 'guarded thoughts': None, '+4 status to all saves vs. fear and dreams': None, '+2 status to all saves vs. magic': None, '+1 status to all saves vs. positive': None, '+1 status to all saves vs. magic, +2 status to all saves vs. mental': None, '+1 status to all saves vs. magic, +4 status to all saves vs. mental': None, '+1 status to all saves vs. death effects': None, '+4 status to all saves vs. fear': None, '+2 status to all saves vs. magic, -2 to all saves (if heartstone is lost)': None, '+1 status to all saves vs. evil creatures': None, '+2 circumstance to all saves vs. dream and sleep': None, '+2 to will saves vs. mental': None, '+2 status to all saves vs. magic, iron mind': None, '+2 to all saves vs. grapple or shove': None, '+1 status to all saves vs. disease (critical failures become failures against diseases)': None, '+2 status to all saves vs. magic, +3 status to all saves vs. divine magic': None, '+2 circumstance to all saves vs. disease': None, '+2 status to all saves vs. auditory and visual': None, '+2 to will saves vs. emotion': None, '+2 status to all saves vs. cold': None}\n"
     ]
    }
   ],
   "source": [
    "print(len(allS_dict))\n",
    "print(allS_dict)"
   ],
   "metadata": {
    "collapsed": false
   }
  },
  {
   "cell_type": "markdown",
   "source": [
    "Nie wiem jak to uwzględnić\n",
    "\n",
    "Gdyby to było w jakiejś postaci typu tabela kategorii i wartość dodana np. cold: +2\n",
    "\n",
    "ale nie jest"
   ],
   "metadata": {
    "collapsed": false
   }
  },
  {
   "cell_type": "code",
   "execution_count": null,
   "outputs": [],
   "source": [],
   "metadata": {
    "collapsed": false
   }
  }
 ],
 "metadata": {
  "kernelspec": {
   "display_name": "Python 3",
   "language": "python",
   "name": "python3"
  },
  "language_info": {
   "codemirror_mode": {
    "name": "ipython",
    "version": 2
   },
   "file_extension": ".py",
   "mimetype": "text/x-python",
   "name": "python",
   "nbconvert_exporter": "python",
   "pygments_lexer": "ipython2",
   "version": "2.7.6"
  }
 },
 "nbformat": 4,
 "nbformat_minor": 0
}
