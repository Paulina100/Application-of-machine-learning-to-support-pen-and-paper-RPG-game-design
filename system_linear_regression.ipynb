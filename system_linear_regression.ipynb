{
 "cells": [
  {
   "cell_type": "markdown",
   "source": [
    "# Regresja liniowa\n",
    "### Parametry:\n",
    "* **abilities**:\n",
    "    * **cha**\n",
    "    * **con**\n",
    "    * **dex**\n",
    "    * **int**\n",
    "    * **str**\n",
    "    * **wis**\n",
    "* **attributes**\n",
    "    * **hp**\n",
    "    * **ac**\n",
    "\n",
    "### Przewidujemy: *level*"
   ],
   "metadata": {
    "collapsed": false
   }
  },
  {
   "cell_type": "code",
   "execution_count": 1,
   "outputs": [],
   "source": [
    "import numpy as np\n",
    "import pandas as pd"
   ],
   "metadata": {
    "collapsed": false
   }
  },
  {
   "cell_type": "code",
   "execution_count": 2,
   "metadata": {
    "collapsed": true
   },
   "outputs": [],
   "source": [
    "bestiary1 = pd.read_json(\"pathfinder_2e_data/pathfinder-bestiary.db\", lines=True)\n",
    "bestiary2 = pd.read_json(\"pathfinder_2e_data/pathfinder-bestiary-2.db\", lines=True)\n",
    "bestiary3 = pd.read_json(\"pathfinder_2e_data/pathfinder-bestiary-3.db\", lines=True)"
   ]
  },
  {
   "cell_type": "code",
   "execution_count": 3,
   "outputs": [],
   "source": [
    "b = [bestiary1, bestiary2, bestiary3]\n",
    "\n",
    "bestiary = pd.concat(b, join=\"outer\", axis=0).fillna(np.nan)"
   ],
   "metadata": {
    "collapsed": false
   }
  },
  {
   "cell_type": "code",
   "execution_count": 4,
   "outputs": [
    {
     "name": "stdout",
     "output_type": "stream",
     "text": [
      "True\n"
     ]
    }
   ],
   "source": [
    "print(\n",
    "    (bestiary1.size + bestiary2.size + bestiary3.size) == bestiary.size\n",
    ")  # sprawdzenie czy coś nie uciekło"
   ],
   "metadata": {
    "collapsed": false
   }
  },
  {
   "cell_type": "code",
   "execution_count": 5,
   "outputs": [
    {
     "name": "stdout",
     "output_type": "stream",
     "text": [
      "<class 'pandas.core.frame.DataFrame'>\n",
      "Int64Index: 1206 entries, 0 to 364\n",
      "Data columns (total 8 columns):\n",
      " #   Column          Non-Null Count  Dtype \n",
      "---  ------          --------------  ----- \n",
      " 0   _id             1206 non-null   object\n",
      " 1   img             1206 non-null   object\n",
      " 2   items           1206 non-null   object\n",
      " 3   name            1206 non-null   object\n",
      " 4   system          1206 non-null   object\n",
      " 5   type            1206 non-null   object\n",
      " 6   flags           1206 non-null   object\n",
      " 7   prototypeToken  85 non-null     object\n",
      "dtypes: object(8)\n",
      "memory usage: 84.8+ KB\n"
     ]
    }
   ],
   "source": [
    "bestiary.info()"
   ],
   "metadata": {
    "collapsed": false
   }
  },
  {
   "cell_type": "markdown",
   "source": [
    "Po połączeniu sprawdzamy czy wszystkie z rekordów to potworki - *npc*, a nie jakieś przedmioty"
   ],
   "metadata": {
    "collapsed": false
   }
  },
  {
   "cell_type": "code",
   "execution_count": 6,
   "outputs": [
    {
     "data": {
      "text/plain": "array(['npc'], dtype=object)"
     },
     "execution_count": 6,
     "metadata": {},
     "output_type": "execute_result"
    }
   ],
   "source": [
    "bestiary.type.unique()"
   ],
   "metadata": {
    "collapsed": false
   }
  },
  {
   "cell_type": "markdown",
   "source": [
    "W bestiariuszach nie ma nic oprócz bestii, więc nic nie usuwamy."
   ],
   "metadata": {
    "collapsed": false
   }
  },
  {
   "cell_type": "code",
   "execution_count": 7,
   "outputs": [],
   "source": [
    "from copy import deepcopy\n",
    "\n",
    "\n",
    "bestiary_backup = deepcopy(bestiary)"
   ],
   "metadata": {
    "collapsed": false
   }
  },
  {
   "cell_type": "markdown",
   "source": [
    "```unpack_column``` - Funkcja która rozpakowuje słownik i zmienia go w dataframe. Printuje pierwszą wartość tabeli i długość\n",
    "\n",
    "*by P J*"
   ],
   "metadata": {
    "collapsed": false
   }
  },
  {
   "cell_type": "code",
   "execution_count": 8,
   "outputs": [],
   "source": [
    "def unpack_column(df, column_name):\n",
    "    new_df = df[column_name].apply(pd.Series)\n",
    "    return new_df"
   ],
   "metadata": {
    "collapsed": false
   }
  },
  {
   "cell_type": "markdown",
   "source": [
    "## Wyodrębnianie kolumny *system* i przygotowanie danych\n",
    "Wszystkie potzrebne wartości znajdyją się w tej kolumnie"
   ],
   "metadata": {
    "collapsed": false
   }
  },
  {
   "cell_type": "code",
   "execution_count": 9,
   "outputs": [],
   "source": [
    "bestiary_system = unpack_column(bestiary, \"system\")"
   ],
   "metadata": {
    "collapsed": false
   }
  },
  {
   "cell_type": "markdown",
   "source": [
    "### Przygotowanie danych z system: *abilities*\n",
    "* cha\n",
    "* con\n",
    "* dex\n",
    "* int\n",
    "* str\n",
    "* wis\n"
   ],
   "metadata": {
    "collapsed": false
   }
  },
  {
   "cell_type": "code",
   "execution_count": 10,
   "outputs": [],
   "source": [
    "abilities = unpack_column(bestiary_system, \"abilities\")\n",
    "\n",
    "for col in abilities.columns:\n",
    "    for i, row in abilities.iterrows():\n",
    "        row[col] = row[col].get(\"mod\")"
   ],
   "metadata": {
    "collapsed": false
   }
  },
  {
   "cell_type": "code",
   "execution_count": 11,
   "outputs": [
    {
     "data": {
      "text/plain": "  cha con dex int str wis\n0   1   5   2   1   7   2\n1   1   5   0  -4   9   2\n2  -2   6   3  -4   7   3\n3   6   5   4   6   7   5\n4   1   1   3  -1  -5   1",
      "text/html": "<div>\n<style scoped>\n    .dataframe tbody tr th:only-of-type {\n        vertical-align: middle;\n    }\n\n    .dataframe tbody tr th {\n        vertical-align: top;\n    }\n\n    .dataframe thead th {\n        text-align: right;\n    }\n</style>\n<table border=\"1\" class=\"dataframe\">\n  <thead>\n    <tr style=\"text-align: right;\">\n      <th></th>\n      <th>cha</th>\n      <th>con</th>\n      <th>dex</th>\n      <th>int</th>\n      <th>str</th>\n      <th>wis</th>\n    </tr>\n  </thead>\n  <tbody>\n    <tr>\n      <th>0</th>\n      <td>1</td>\n      <td>5</td>\n      <td>2</td>\n      <td>1</td>\n      <td>7</td>\n      <td>2</td>\n    </tr>\n    <tr>\n      <th>1</th>\n      <td>1</td>\n      <td>5</td>\n      <td>0</td>\n      <td>-4</td>\n      <td>9</td>\n      <td>2</td>\n    </tr>\n    <tr>\n      <th>2</th>\n      <td>-2</td>\n      <td>6</td>\n      <td>3</td>\n      <td>-4</td>\n      <td>7</td>\n      <td>3</td>\n    </tr>\n    <tr>\n      <th>3</th>\n      <td>6</td>\n      <td>5</td>\n      <td>4</td>\n      <td>6</td>\n      <td>7</td>\n      <td>5</td>\n    </tr>\n    <tr>\n      <th>4</th>\n      <td>1</td>\n      <td>1</td>\n      <td>3</td>\n      <td>-1</td>\n      <td>-5</td>\n      <td>1</td>\n    </tr>\n  </tbody>\n</table>\n</div>"
     },
     "execution_count": 11,
     "metadata": {},
     "output_type": "execute_result"
    }
   ],
   "source": [
    "abilities.head()"
   ],
   "metadata": {
    "collapsed": false
   }
  },
  {
   "cell_type": "code",
   "execution_count": 12,
   "outputs": [
    {
     "name": "stdout",
     "output_type": "stream",
     "text": [
      "<class 'pandas.core.frame.DataFrame'>\n",
      "Int64Index: 1206 entries, 0 to 364\n",
      "Data columns (total 6 columns):\n",
      " #   Column  Non-Null Count  Dtype \n",
      "---  ------  --------------  ----- \n",
      " 0   cha     1206 non-null   object\n",
      " 1   con     1206 non-null   object\n",
      " 2   dex     1206 non-null   object\n",
      " 3   int     1206 non-null   object\n",
      " 4   str     1206 non-null   object\n",
      " 5   wis     1206 non-null   object\n",
      "dtypes: object(6)\n",
      "memory usage: 66.0+ KB\n"
     ]
    }
   ],
   "source": [
    "abilities.info()"
   ],
   "metadata": {
    "collapsed": false
   }
  },
  {
   "cell_type": "markdown",
   "source": [
    "### Przygotowanie danych z attributes"
   ],
   "metadata": {
    "collapsed": false
   }
  },
  {
   "cell_type": "code",
   "execution_count": 13,
   "outputs": [],
   "source": [
    "attributes = unpack_column(bestiary_system, \"attributes\")"
   ],
   "metadata": {
    "collapsed": false
   }
  },
  {
   "cell_type": "markdown",
   "source": [
    "#### Przygotowanie attributes: *ac*\n",
    "W modelu wykorzystamy wastość value z ac"
   ],
   "metadata": {
    "collapsed": false
   }
  },
  {
   "cell_type": "code",
   "execution_count": 14,
   "outputs": [],
   "source": [
    "attributes_ac = unpack_column(attributes, \"ac\")"
   ],
   "metadata": {
    "collapsed": false
   }
  },
  {
   "cell_type": "code",
   "execution_count": 15,
   "outputs": [],
   "source": [
    "attributes_ac = pd.DataFrame(data=attributes_ac.value)\n",
    "attributes_ac.columns = [\"ac\"]"
   ],
   "metadata": {
    "collapsed": false
   }
  },
  {
   "cell_type": "code",
   "execution_count": 16,
   "outputs": [
    {
     "name": "stdout",
     "output_type": "stream",
     "text": [
      "<class 'pandas.core.frame.DataFrame'>\n",
      "Int64Index: 1206 entries, 0 to 364\n",
      "Data columns (total 1 columns):\n",
      " #   Column  Non-Null Count  Dtype\n",
      "---  ------  --------------  -----\n",
      " 0   ac      1206 non-null   int64\n",
      "dtypes: int64(1)\n",
      "memory usage: 18.8 KB\n"
     ]
    }
   ],
   "source": [
    "attributes_ac.info()"
   ],
   "metadata": {
    "collapsed": false
   }
  },
  {
   "cell_type": "code",
   "execution_count": 17,
   "outputs": [
    {
     "data": {
      "text/plain": "   ac\n0  29\n1  28\n2  25\n3  41\n4  16",
      "text/html": "<div>\n<style scoped>\n    .dataframe tbody tr th:only-of-type {\n        vertical-align: middle;\n    }\n\n    .dataframe tbody tr th {\n        vertical-align: top;\n    }\n\n    .dataframe thead th {\n        text-align: right;\n    }\n</style>\n<table border=\"1\" class=\"dataframe\">\n  <thead>\n    <tr style=\"text-align: right;\">\n      <th></th>\n      <th>ac</th>\n    </tr>\n  </thead>\n  <tbody>\n    <tr>\n      <th>0</th>\n      <td>29</td>\n    </tr>\n    <tr>\n      <th>1</th>\n      <td>28</td>\n    </tr>\n    <tr>\n      <th>2</th>\n      <td>25</td>\n    </tr>\n    <tr>\n      <th>3</th>\n      <td>41</td>\n    </tr>\n    <tr>\n      <th>4</th>\n      <td>16</td>\n    </tr>\n  </tbody>\n</table>\n</div>"
     },
     "execution_count": 17,
     "metadata": {},
     "output_type": "execute_result"
    }
   ],
   "source": [
    "attributes_ac.head()"
   ],
   "metadata": {
    "collapsed": false
   }
  },
  {
   "cell_type": "markdown",
   "source": [
    "#### Przygotowanie attributes: *hp*\n",
    "W modelu wykorzystamy wastość value z hp i jak na razie nie będziemy uwzględniać pozostałych"
   ],
   "metadata": {
    "collapsed": false
   }
  },
  {
   "cell_type": "code",
   "execution_count": 18,
   "outputs": [],
   "source": [
    "attributes_hp = unpack_column(attributes, \"hp\")"
   ],
   "metadata": {
    "collapsed": false
   }
  },
  {
   "cell_type": "code",
   "execution_count": 19,
   "outputs": [],
   "source": [
    "attributes_hp = pd.DataFrame(data=attributes_hp.value)\n",
    "attributes_hp.columns = [\"hp\"]"
   ],
   "metadata": {
    "collapsed": false
   }
  },
  {
   "cell_type": "code",
   "execution_count": 20,
   "outputs": [
    {
     "name": "stdout",
     "output_type": "stream",
     "text": [
      "<class 'pandas.core.frame.DataFrame'>\n",
      "Int64Index: 1206 entries, 0 to 364\n",
      "Data columns (total 1 columns):\n",
      " #   Column  Non-Null Count  Dtype\n",
      "---  ------  --------------  -----\n",
      " 0   hp      1206 non-null   int64\n",
      "dtypes: int64(1)\n",
      "memory usage: 18.8 KB\n"
     ]
    }
   ],
   "source": [
    "attributes_hp.info()"
   ],
   "metadata": {
    "collapsed": false
   }
  },
  {
   "cell_type": "code",
   "execution_count": 21,
   "outputs": [
    {
     "data": {
      "text/plain": "    hp\n0  215\n1  220\n2  175\n3  315\n4   20",
      "text/html": "<div>\n<style scoped>\n    .dataframe tbody tr th:only-of-type {\n        vertical-align: middle;\n    }\n\n    .dataframe tbody tr th {\n        vertical-align: top;\n    }\n\n    .dataframe thead th {\n        text-align: right;\n    }\n</style>\n<table border=\"1\" class=\"dataframe\">\n  <thead>\n    <tr style=\"text-align: right;\">\n      <th></th>\n      <th>hp</th>\n    </tr>\n  </thead>\n  <tbody>\n    <tr>\n      <th>0</th>\n      <td>215</td>\n    </tr>\n    <tr>\n      <th>1</th>\n      <td>220</td>\n    </tr>\n    <tr>\n      <th>2</th>\n      <td>175</td>\n    </tr>\n    <tr>\n      <th>3</th>\n      <td>315</td>\n    </tr>\n    <tr>\n      <th>4</th>\n      <td>20</td>\n    </tr>\n  </tbody>\n</table>\n</div>"
     },
     "execution_count": 21,
     "metadata": {},
     "output_type": "execute_result"
    }
   ],
   "source": [
    "attributes_hp.head()"
   ],
   "metadata": {
    "collapsed": false
   }
  },
  {
   "cell_type": "markdown",
   "source": [
    "## Usunięcie niepotrzebnych wartości z oryginalnej tabeli i dodanie przygotowanych powyżej danych"
   ],
   "metadata": {
    "collapsed": false
   }
  },
  {
   "cell_type": "code",
   "execution_count": 22,
   "outputs": [],
   "source": [
    "# bestiary_copy = deepcopy(bestiary)"
   ],
   "metadata": {
    "collapsed": false
   }
  },
  {
   "cell_type": "code",
   "execution_count": 23,
   "outputs": [],
   "source": [
    "# bestiary = deepcopy(bestiary_copy)"
   ],
   "metadata": {
    "collapsed": false
   }
  },
  {
   "cell_type": "code",
   "execution_count": 24,
   "outputs": [],
   "source": [
    "# bestiary = deepcopy(bestiary_backup)"
   ],
   "metadata": {
    "collapsed": false
   }
  },
  {
   "cell_type": "code",
   "execution_count": 25,
   "outputs": [],
   "source": [
    "for col in abilities:\n",
    "    bestiary[col] = abilities[col]"
   ],
   "metadata": {
    "collapsed": false
   }
  },
  {
   "cell_type": "code",
   "execution_count": 26,
   "outputs": [
    {
     "name": "stdout",
     "output_type": "stream",
     "text": [
      "<class 'pandas.core.frame.DataFrame'>\n",
      "Int64Index: 1206 entries, 0 to 364\n",
      "Data columns (total 14 columns):\n",
      " #   Column          Non-Null Count  Dtype \n",
      "---  ------          --------------  ----- \n",
      " 0   _id             1206 non-null   object\n",
      " 1   img             1206 non-null   object\n",
      " 2   items           1206 non-null   object\n",
      " 3   name            1206 non-null   object\n",
      " 4   system          1206 non-null   object\n",
      " 5   type            1206 non-null   object\n",
      " 6   flags           1206 non-null   object\n",
      " 7   prototypeToken  85 non-null     object\n",
      " 8   cha             1206 non-null   object\n",
      " 9   con             1206 non-null   object\n",
      " 10  dex             1206 non-null   object\n",
      " 11  int             1206 non-null   object\n",
      " 12  str             1206 non-null   object\n",
      " 13  wis             1206 non-null   object\n",
      "dtypes: object(14)\n",
      "memory usage: 141.3+ KB\n"
     ]
    }
   ],
   "source": [
    "bestiary.info()"
   ],
   "metadata": {
    "collapsed": false
   }
  },
  {
   "cell_type": "code",
   "execution_count": 27,
   "outputs": [],
   "source": [
    "bestiary[\"ac\"] = attributes_ac"
   ],
   "metadata": {
    "collapsed": false
   }
  },
  {
   "cell_type": "code",
   "execution_count": 28,
   "outputs": [
    {
     "name": "stdout",
     "output_type": "stream",
     "text": [
      "<class 'pandas.core.frame.DataFrame'>\n",
      "Int64Index: 1206 entries, 0 to 364\n",
      "Data columns (total 15 columns):\n",
      " #   Column          Non-Null Count  Dtype \n",
      "---  ------          --------------  ----- \n",
      " 0   _id             1206 non-null   object\n",
      " 1   img             1206 non-null   object\n",
      " 2   items           1206 non-null   object\n",
      " 3   name            1206 non-null   object\n",
      " 4   system          1206 non-null   object\n",
      " 5   type            1206 non-null   object\n",
      " 6   flags           1206 non-null   object\n",
      " 7   prototypeToken  85 non-null     object\n",
      " 8   cha             1206 non-null   object\n",
      " 9   con             1206 non-null   object\n",
      " 10  dex             1206 non-null   object\n",
      " 11  int             1206 non-null   object\n",
      " 12  str             1206 non-null   object\n",
      " 13  wis             1206 non-null   object\n",
      " 14  ac              1206 non-null   int64 \n",
      "dtypes: int64(1), object(14)\n",
      "memory usage: 150.8+ KB\n"
     ]
    }
   ],
   "source": [
    "bestiary.info()"
   ],
   "metadata": {
    "collapsed": false
   }
  },
  {
   "cell_type": "code",
   "execution_count": 29,
   "outputs": [],
   "source": [
    "bestiary[\"hp\"] = attributes_hp"
   ],
   "metadata": {
    "collapsed": false
   }
  },
  {
   "cell_type": "code",
   "execution_count": 30,
   "outputs": [
    {
     "name": "stdout",
     "output_type": "stream",
     "text": [
      "<class 'pandas.core.frame.DataFrame'>\n",
      "Int64Index: 1206 entries, 0 to 364\n",
      "Data columns (total 16 columns):\n",
      " #   Column          Non-Null Count  Dtype \n",
      "---  ------          --------------  ----- \n",
      " 0   _id             1206 non-null   object\n",
      " 1   img             1206 non-null   object\n",
      " 2   items           1206 non-null   object\n",
      " 3   name            1206 non-null   object\n",
      " 4   system          1206 non-null   object\n",
      " 5   type            1206 non-null   object\n",
      " 6   flags           1206 non-null   object\n",
      " 7   prototypeToken  85 non-null     object\n",
      " 8   cha             1206 non-null   object\n",
      " 9   con             1206 non-null   object\n",
      " 10  dex             1206 non-null   object\n",
      " 11  int             1206 non-null   object\n",
      " 12  str             1206 non-null   object\n",
      " 13  wis             1206 non-null   object\n",
      " 14  ac              1206 non-null   int64 \n",
      " 15  hp              1206 non-null   int64 \n",
      "dtypes: int64(2), object(14)\n",
      "memory usage: 160.2+ KB\n"
     ]
    }
   ],
   "source": [
    "bestiary.info()"
   ],
   "metadata": {
    "collapsed": false
   }
  },
  {
   "cell_type": "code",
   "execution_count": 31,
   "outputs": [],
   "source": [
    "bestiary.drop(\"prototypeToken\", axis=1, inplace=True)\n",
    "bestiary.drop(\"flags\", axis=1, inplace=True)\n",
    "bestiary.drop(\"type\", axis=1, inplace=True)\n",
    "bestiary.drop(\"system\", axis=1, inplace=True)\n",
    "bestiary.drop(\"name\", axis=1, inplace=True)\n",
    "bestiary.drop(\"items\", axis=1, inplace=True)\n",
    "bestiary.drop(\"img\", axis=1, inplace=True)\n",
    "bestiary.drop(\"_id\", axis=1, inplace=True)"
   ],
   "metadata": {
    "collapsed": false
   }
  },
  {
   "cell_type": "code",
   "execution_count": 32,
   "outputs": [
    {
     "name": "stdout",
     "output_type": "stream",
     "text": [
      "<class 'pandas.core.frame.DataFrame'>\n",
      "Int64Index: 1206 entries, 0 to 364\n",
      "Data columns (total 8 columns):\n",
      " #   Column  Non-Null Count  Dtype \n",
      "---  ------  --------------  ----- \n",
      " 0   cha     1206 non-null   object\n",
      " 1   con     1206 non-null   object\n",
      " 2   dex     1206 non-null   object\n",
      " 3   int     1206 non-null   object\n",
      " 4   str     1206 non-null   object\n",
      " 5   wis     1206 non-null   object\n",
      " 6   ac      1206 non-null   int64 \n",
      " 7   hp      1206 non-null   int64 \n",
      "dtypes: int64(2), object(6)\n",
      "memory usage: 84.8+ KB\n"
     ]
    }
   ],
   "source": [
    "bestiary.info()"
   ],
   "metadata": {
    "collapsed": false
   }
  },
  {
   "cell_type": "code",
   "execution_count": 33,
   "outputs": [
    {
     "data": {
      "text/plain": "  cha con dex int str wis  ac   hp\n0   1   5   2   1   7   2  29  215\n1   1   5   0  -4   9   2  28  220\n2  -2   6   3  -4   7   3  25  175\n3   6   5   4   6   7   5  41  315\n4   1   1   3  -1  -5   1  16   20",
      "text/html": "<div>\n<style scoped>\n    .dataframe tbody tr th:only-of-type {\n        vertical-align: middle;\n    }\n\n    .dataframe tbody tr th {\n        vertical-align: top;\n    }\n\n    .dataframe thead th {\n        text-align: right;\n    }\n</style>\n<table border=\"1\" class=\"dataframe\">\n  <thead>\n    <tr style=\"text-align: right;\">\n      <th></th>\n      <th>cha</th>\n      <th>con</th>\n      <th>dex</th>\n      <th>int</th>\n      <th>str</th>\n      <th>wis</th>\n      <th>ac</th>\n      <th>hp</th>\n    </tr>\n  </thead>\n  <tbody>\n    <tr>\n      <th>0</th>\n      <td>1</td>\n      <td>5</td>\n      <td>2</td>\n      <td>1</td>\n      <td>7</td>\n      <td>2</td>\n      <td>29</td>\n      <td>215</td>\n    </tr>\n    <tr>\n      <th>1</th>\n      <td>1</td>\n      <td>5</td>\n      <td>0</td>\n      <td>-4</td>\n      <td>9</td>\n      <td>2</td>\n      <td>28</td>\n      <td>220</td>\n    </tr>\n    <tr>\n      <th>2</th>\n      <td>-2</td>\n      <td>6</td>\n      <td>3</td>\n      <td>-4</td>\n      <td>7</td>\n      <td>3</td>\n      <td>25</td>\n      <td>175</td>\n    </tr>\n    <tr>\n      <th>3</th>\n      <td>6</td>\n      <td>5</td>\n      <td>4</td>\n      <td>6</td>\n      <td>7</td>\n      <td>5</td>\n      <td>41</td>\n      <td>315</td>\n    </tr>\n    <tr>\n      <th>4</th>\n      <td>1</td>\n      <td>1</td>\n      <td>3</td>\n      <td>-1</td>\n      <td>-5</td>\n      <td>1</td>\n      <td>16</td>\n      <td>20</td>\n    </tr>\n  </tbody>\n</table>\n</div>"
     },
     "execution_count": 33,
     "metadata": {},
     "output_type": "execute_result"
    }
   ],
   "source": [
    "bestiary.head()"
   ],
   "metadata": {
    "collapsed": false
   }
  },
  {
   "cell_type": "markdown",
   "source": [
    "## Wyobrębnienie wartości przewidywanej *level*"
   ],
   "metadata": {
    "collapsed": false
   }
  },
  {
   "cell_type": "code",
   "execution_count": 34,
   "outputs": [],
   "source": [
    "level = unpack_column(unpack_column(bestiary_system, \"details\"), \"level\")"
   ],
   "metadata": {
    "collapsed": false
   }
  },
  {
   "cell_type": "code",
   "execution_count": 35,
   "outputs": [],
   "source": [
    "level.columns = [\"level\"]"
   ],
   "metadata": {
    "collapsed": false
   }
  },
  {
   "cell_type": "code",
   "execution_count": 36,
   "outputs": [
    {
     "name": "stdout",
     "output_type": "stream",
     "text": [
      "<class 'pandas.core.frame.DataFrame'>\n",
      "Int64Index: 1206 entries, 0 to 364\n",
      "Data columns (total 1 columns):\n",
      " #   Column  Non-Null Count  Dtype\n",
      "---  ------  --------------  -----\n",
      " 0   level   1206 non-null   int64\n",
      "dtypes: int64(1)\n",
      "memory usage: 18.8 KB\n"
     ]
    }
   ],
   "source": [
    "level.info()"
   ],
   "metadata": {
    "collapsed": false
   }
  },
  {
   "cell_type": "code",
   "execution_count": 37,
   "outputs": [],
   "source": [
    "from collections import defaultdict\n",
    "\n",
    "\n",
    "def return_zero():\n",
    "    return 0\n",
    "\n",
    "\n",
    "lvl_stat = defaultdict(return_zero)\n",
    "\n",
    "for i, lvl in level[\"level\"].iteritems():\n",
    "    lvl_stat[lvl] += 1"
   ],
   "metadata": {
    "collapsed": false
   }
  },
  {
   "cell_type": "code",
   "execution_count": 38,
   "outputs": [
    {
     "data": {
      "text/plain": "    lvl   nr\n0    -1   34\n1     0   27\n2     1  127\n3     2  121\n4     3   95\n5     4   82\n6     5   76\n7     6   72\n8     7   77\n9     8   68\n10    9   63\n11   10   58\n12   11   40\n13   12   41\n14   13   36\n15   14   33\n16   15   31\n17   16   25\n18   17   21\n19   18   21\n20   19   18\n21   20   24\n22   21    8\n23   22    1\n24   23    4\n25   24    2\n26   25    1",
      "text/html": "<div>\n<style scoped>\n    .dataframe tbody tr th:only-of-type {\n        vertical-align: middle;\n    }\n\n    .dataframe tbody tr th {\n        vertical-align: top;\n    }\n\n    .dataframe thead th {\n        text-align: right;\n    }\n</style>\n<table border=\"1\" class=\"dataframe\">\n  <thead>\n    <tr style=\"text-align: right;\">\n      <th></th>\n      <th>lvl</th>\n      <th>nr</th>\n    </tr>\n  </thead>\n  <tbody>\n    <tr>\n      <th>0</th>\n      <td>-1</td>\n      <td>34</td>\n    </tr>\n    <tr>\n      <th>1</th>\n      <td>0</td>\n      <td>27</td>\n    </tr>\n    <tr>\n      <th>2</th>\n      <td>1</td>\n      <td>127</td>\n    </tr>\n    <tr>\n      <th>3</th>\n      <td>2</td>\n      <td>121</td>\n    </tr>\n    <tr>\n      <th>4</th>\n      <td>3</td>\n      <td>95</td>\n    </tr>\n    <tr>\n      <th>5</th>\n      <td>4</td>\n      <td>82</td>\n    </tr>\n    <tr>\n      <th>6</th>\n      <td>5</td>\n      <td>76</td>\n    </tr>\n    <tr>\n      <th>7</th>\n      <td>6</td>\n      <td>72</td>\n    </tr>\n    <tr>\n      <th>8</th>\n      <td>7</td>\n      <td>77</td>\n    </tr>\n    <tr>\n      <th>9</th>\n      <td>8</td>\n      <td>68</td>\n    </tr>\n    <tr>\n      <th>10</th>\n      <td>9</td>\n      <td>63</td>\n    </tr>\n    <tr>\n      <th>11</th>\n      <td>10</td>\n      <td>58</td>\n    </tr>\n    <tr>\n      <th>12</th>\n      <td>11</td>\n      <td>40</td>\n    </tr>\n    <tr>\n      <th>13</th>\n      <td>12</td>\n      <td>41</td>\n    </tr>\n    <tr>\n      <th>14</th>\n      <td>13</td>\n      <td>36</td>\n    </tr>\n    <tr>\n      <th>15</th>\n      <td>14</td>\n      <td>33</td>\n    </tr>\n    <tr>\n      <th>16</th>\n      <td>15</td>\n      <td>31</td>\n    </tr>\n    <tr>\n      <th>17</th>\n      <td>16</td>\n      <td>25</td>\n    </tr>\n    <tr>\n      <th>18</th>\n      <td>17</td>\n      <td>21</td>\n    </tr>\n    <tr>\n      <th>19</th>\n      <td>18</td>\n      <td>21</td>\n    </tr>\n    <tr>\n      <th>20</th>\n      <td>19</td>\n      <td>18</td>\n    </tr>\n    <tr>\n      <th>21</th>\n      <td>20</td>\n      <td>24</td>\n    </tr>\n    <tr>\n      <th>22</th>\n      <td>21</td>\n      <td>8</td>\n    </tr>\n    <tr>\n      <th>23</th>\n      <td>22</td>\n      <td>1</td>\n    </tr>\n    <tr>\n      <th>24</th>\n      <td>23</td>\n      <td>4</td>\n    </tr>\n    <tr>\n      <th>25</th>\n      <td>24</td>\n      <td>2</td>\n    </tr>\n    <tr>\n      <th>26</th>\n      <td>25</td>\n      <td>1</td>\n    </tr>\n  </tbody>\n</table>\n</div>"
     },
     "execution_count": 38,
     "metadata": {},
     "output_type": "execute_result"
    }
   ],
   "source": [
    "pd.DataFrame(\n",
    "    data={\n",
    "        \"lvl\": [key for key in sorted(lvl_stat.keys())],\n",
    "        \"nr\": [lvl_stat.get(key) for key in sorted(lvl_stat.keys())],\n",
    "    }\n",
    ")\n",
    "# sum([lvl_stat.get(key) for key in lvl_stat.keys()])"
   ],
   "metadata": {
    "collapsed": false
   }
  },
  {
   "cell_type": "code",
   "execution_count": 39,
   "outputs": [
    {
     "data": {
      "text/plain": "   level\n0     10\n1     10\n2      8\n3     17\n4      1",
      "text/html": "<div>\n<style scoped>\n    .dataframe tbody tr th:only-of-type {\n        vertical-align: middle;\n    }\n\n    .dataframe tbody tr th {\n        vertical-align: top;\n    }\n\n    .dataframe thead th {\n        text-align: right;\n    }\n</style>\n<table border=\"1\" class=\"dataframe\">\n  <thead>\n    <tr style=\"text-align: right;\">\n      <th></th>\n      <th>level</th>\n    </tr>\n  </thead>\n  <tbody>\n    <tr>\n      <th>0</th>\n      <td>10</td>\n    </tr>\n    <tr>\n      <th>1</th>\n      <td>10</td>\n    </tr>\n    <tr>\n      <th>2</th>\n      <td>8</td>\n    </tr>\n    <tr>\n      <th>3</th>\n      <td>17</td>\n    </tr>\n    <tr>\n      <th>4</th>\n      <td>1</td>\n    </tr>\n  </tbody>\n</table>\n</div>"
     },
     "execution_count": 39,
     "metadata": {},
     "output_type": "execute_result"
    }
   ],
   "source": [
    "level.head()"
   ],
   "metadata": {
    "collapsed": false
   }
  },
  {
   "cell_type": "markdown",
   "source": [
    "## Zapis do danych do JSONa"
   ],
   "metadata": {
    "collapsed": false
   }
  },
  {
   "cell_type": "code",
   "execution_count": 59,
   "outputs": [],
   "source": [
    "# to_save = deepcopy(bestiary)\n",
    "# to_save[\"level\"] = level\n",
    "# to_save.reset_index(inplace=True)\n",
    "# to_save = to_save.drop(columns=[\"index\"])"
   ],
   "metadata": {
    "collapsed": false
   }
  },
  {
   "cell_type": "code",
   "execution_count": 60,
   "outputs": [
    {
     "name": "stdout",
     "output_type": "stream",
     "text": [
      "<class 'pandas.core.frame.DataFrame'>\n",
      "RangeIndex: 1206 entries, 0 to 1205\n",
      "Data columns (total 9 columns):\n",
      " #   Column  Non-Null Count  Dtype \n",
      "---  ------  --------------  ----- \n",
      " 0   cha     1206 non-null   object\n",
      " 1   con     1206 non-null   object\n",
      " 2   dex     1206 non-null   object\n",
      " 3   int     1206 non-null   object\n",
      " 4   str     1206 non-null   object\n",
      " 5   wis     1206 non-null   object\n",
      " 6   ac      1206 non-null   int64 \n",
      " 7   hp      1206 non-null   int64 \n",
      " 8   level   1206 non-null   int64 \n",
      "dtypes: int64(3), object(6)\n",
      "memory usage: 84.9+ KB\n"
     ]
    }
   ],
   "source": [
    "# to_save.info()"
   ],
   "metadata": {
    "collapsed": false
   }
  },
  {
   "cell_type": "code",
   "execution_count": 61,
   "outputs": [
    {
     "data": {
      "text/plain": "  cha con dex int str wis  ac   hp  level\n0   1   5   2   1   7   2  29  215     10\n1   1   5   0  -4   9   2  28  220     10\n2  -2   6   3  -4   7   3  25  175      8\n3   6   5   4   6   7   5  41  315     17\n4   1   1   3  -1  -5   1  16   20      1",
      "text/html": "<div>\n<style scoped>\n    .dataframe tbody tr th:only-of-type {\n        vertical-align: middle;\n    }\n\n    .dataframe tbody tr th {\n        vertical-align: top;\n    }\n\n    .dataframe thead th {\n        text-align: right;\n    }\n</style>\n<table border=\"1\" class=\"dataframe\">\n  <thead>\n    <tr style=\"text-align: right;\">\n      <th></th>\n      <th>cha</th>\n      <th>con</th>\n      <th>dex</th>\n      <th>int</th>\n      <th>str</th>\n      <th>wis</th>\n      <th>ac</th>\n      <th>hp</th>\n      <th>level</th>\n    </tr>\n  </thead>\n  <tbody>\n    <tr>\n      <th>0</th>\n      <td>1</td>\n      <td>5</td>\n      <td>2</td>\n      <td>1</td>\n      <td>7</td>\n      <td>2</td>\n      <td>29</td>\n      <td>215</td>\n      <td>10</td>\n    </tr>\n    <tr>\n      <th>1</th>\n      <td>1</td>\n      <td>5</td>\n      <td>0</td>\n      <td>-4</td>\n      <td>9</td>\n      <td>2</td>\n      <td>28</td>\n      <td>220</td>\n      <td>10</td>\n    </tr>\n    <tr>\n      <th>2</th>\n      <td>-2</td>\n      <td>6</td>\n      <td>3</td>\n      <td>-4</td>\n      <td>7</td>\n      <td>3</td>\n      <td>25</td>\n      <td>175</td>\n      <td>8</td>\n    </tr>\n    <tr>\n      <th>3</th>\n      <td>6</td>\n      <td>5</td>\n      <td>4</td>\n      <td>6</td>\n      <td>7</td>\n      <td>5</td>\n      <td>41</td>\n      <td>315</td>\n      <td>17</td>\n    </tr>\n    <tr>\n      <th>4</th>\n      <td>1</td>\n      <td>1</td>\n      <td>3</td>\n      <td>-1</td>\n      <td>-5</td>\n      <td>1</td>\n      <td>16</td>\n      <td>20</td>\n      <td>1</td>\n    </tr>\n  </tbody>\n</table>\n</div>"
     },
     "execution_count": 61,
     "metadata": {},
     "output_type": "execute_result"
    }
   ],
   "source": [
    "# to_save.head()"
   ],
   "metadata": {
    "collapsed": false
   }
  },
  {
   "cell_type": "code",
   "execution_count": 62,
   "outputs": [],
   "source": [
    "# to_save.to_json(r\"./pathfinder_2e_data/bestiary_system_basic.json\")"
   ],
   "metadata": {
    "collapsed": false
   }
  },
  {
   "cell_type": "markdown",
   "source": [
    "## Podział na zbiór treningowy i testowy"
   ],
   "metadata": {
    "collapsed": false
   }
  },
  {
   "cell_type": "code",
   "execution_count": 40,
   "outputs": [],
   "source": [
    "x = deepcopy(bestiary)\n",
    "y = deepcopy(level)"
   ],
   "metadata": {
    "collapsed": false
   }
  },
  {
   "cell_type": "code",
   "execution_count": 53,
   "outputs": [],
   "source": [
    "from sklearn.model_selection import train_test_split\n",
    "\n",
    "x_train, x_test, y_train, y_test = train_test_split(\n",
    "    x, y, test_size=0.25, random_state=0, shuffle=True\n",
    ")"
   ],
   "metadata": {
    "collapsed": false
   }
  },
  {
   "cell_type": "markdown",
   "source": [
    "## Regresja liniowa"
   ],
   "metadata": {
    "collapsed": false
   }
  },
  {
   "cell_type": "code",
   "execution_count": 59,
   "outputs": [],
   "source": [
    "from sklearn.linear_model import LinearRegression\n",
    "\n",
    "\n",
    "model = LinearRegression()\n",
    "model.fit(x_train, y_train)\n",
    "predict = model.predict(x_test)"
   ],
   "metadata": {
    "collapsed": false
   }
  },
  {
   "cell_type": "markdown",
   "source": [
    "## Sprawdzenie modelu"
   ],
   "metadata": {
    "collapsed": false
   }
  },
  {
   "cell_type": "code",
   "execution_count": 60,
   "outputs": [
    {
     "name": "stdout",
     "output_type": "stream",
     "text": [
      "R2 score: 0.98\n",
      "Mean square error: 0.59\n"
     ]
    }
   ],
   "source": [
    "from sklearn.metrics import mean_squared_error\n",
    "from sklearn.metrics import r2_score\n",
    "\n",
    "\n",
    "r2 = r2_score(y_test, predict)\n",
    "MSE = mean_squared_error(y_test, predict)\n",
    "print(\"R2 score:\", round(r2, 2))\n",
    "print(\"Mean square error:\", round(MSE, 2))"
   ],
   "metadata": {
    "collapsed": false
   }
  },
  {
   "cell_type": "markdown",
   "source": [
    "* R2 - blisko 1, więc spoko\n",
    "* trochę gorzej z mse byłoby fajnie jakby to była wartość bliżej 0, ale możliwe, że jak się zastosuje jakieś skalowanie\n",
    "cech czy inną magię to będzie lepiej"
   ],
   "metadata": {
    "collapsed": false
   }
  },
  {
   "cell_type": "code",
   "execution_count": 61,
   "outputs": [
    {
     "name": "stdout",
     "output_type": "stream",
     "text": [
      "Mean absolute error= 0.53\n",
      "Median absolute error 0.33\n",
      "Explain variance score = 0.98\n"
     ]
    }
   ],
   "source": [
    "from sklearn.metrics import (\n",
    "    mean_absolute_error,\n",
    "    median_absolute_error,\n",
    "    explained_variance_score,\n",
    ")\n",
    "\n",
    "\n",
    "print(\"Mean absolute error=\", round(mean_absolute_error(y_test, predict), 2))\n",
    "print(\"Median absolute error\", round(median_absolute_error(y_test, predict), 2))\n",
    "print(\"Explain variance score =\", round(explained_variance_score(y_test, predict), 2))"
   ],
   "metadata": {
    "collapsed": false
   }
  },
  {
   "cell_type": "code",
   "execution_count": 62,
   "outputs": [
    {
     "data": {
      "text/plain": "     level\n395      4\n5        7\n141     13\n452      8\n52      10\n..     ...\n77      13\n11       0\n155     13\n240     13\n52      13\n\n[302 rows x 1 columns]",
      "text/html": "<div>\n<style scoped>\n    .dataframe tbody tr th:only-of-type {\n        vertical-align: middle;\n    }\n\n    .dataframe tbody tr th {\n        vertical-align: top;\n    }\n\n    .dataframe thead th {\n        text-align: right;\n    }\n</style>\n<table border=\"1\" class=\"dataframe\">\n  <thead>\n    <tr style=\"text-align: right;\">\n      <th></th>\n      <th>level</th>\n    </tr>\n  </thead>\n  <tbody>\n    <tr>\n      <th>395</th>\n      <td>4</td>\n    </tr>\n    <tr>\n      <th>5</th>\n      <td>7</td>\n    </tr>\n    <tr>\n      <th>141</th>\n      <td>13</td>\n    </tr>\n    <tr>\n      <th>452</th>\n      <td>8</td>\n    </tr>\n    <tr>\n      <th>52</th>\n      <td>10</td>\n    </tr>\n    <tr>\n      <th>...</th>\n      <td>...</td>\n    </tr>\n    <tr>\n      <th>77</th>\n      <td>13</td>\n    </tr>\n    <tr>\n      <th>11</th>\n      <td>0</td>\n    </tr>\n    <tr>\n      <th>155</th>\n      <td>13</td>\n    </tr>\n    <tr>\n      <th>240</th>\n      <td>13</td>\n    </tr>\n    <tr>\n      <th>52</th>\n      <td>13</td>\n    </tr>\n  </tbody>\n</table>\n<p>302 rows × 1 columns</p>\n</div>"
     },
     "execution_count": 62,
     "metadata": {},
     "output_type": "execute_result"
    }
   ],
   "source": [
    "y_test"
   ],
   "metadata": {
    "collapsed": false
   }
  },
  {
   "cell_type": "code",
   "execution_count": 71,
   "outputs": [],
   "source": [
    "from math import ceil, floor\n",
    "\n",
    "\n",
    "round_predict = deepcopy(predict)\n",
    "ceil_predict = deepcopy(predict)\n",
    "floor_predict = deepcopy(predict)\n",
    "\n",
    "for i in range(len(round_predict)):\n",
    "    round_predict[i][0] = round(round_predict[i][0], 0)\n",
    "    ceil_predict[i][0] = ceil(ceil_predict[i][0])\n",
    "    floor_predict[i][0] = floor(floor_predict[i][0])"
   ],
   "metadata": {
    "collapsed": false
   }
  },
  {
   "cell_type": "code",
   "execution_count": 74,
   "outputs": [],
   "source": [
    "def check_predictions(y, y_pred):\n",
    "    print(\"R2 score:\", round(r2_score(y, y_pred), 2))\n",
    "    print(\"Mean square error:\", round(mean_squared_error(y, y_pred), 2))\n",
    "    print(\"Mean absolute error=\", round(mean_absolute_error(y, y_pred), 2))\n",
    "    print(\"Median absolute error\", round(median_absolute_error(y, y_pred), 2))\n",
    "\n",
    "    print(\n",
    "        \"Explain variance score =\", round(explained_variance_score(y, y_pred), 2), \"\\n\"\n",
    "    )"
   ],
   "metadata": {
    "collapsed": false
   }
  },
  {
   "cell_type": "code",
   "execution_count": 76,
   "outputs": [
    {
     "name": "stdout",
     "output_type": "stream",
     "text": [
      "Normal:\n",
      "R2 score: 0.98\n",
      "Mean square error: 0.59\n",
      "Mean absolute error= 0.53\n",
      "Median absolute error 0.33\n",
      "Explain variance score = 0.98 \n",
      "\n",
      "Round:\n",
      "R2 score: 0.98\n",
      "Mean square error: 0.65\n",
      "Mean absolute error= 0.46\n",
      "Median absolute error 0.0\n",
      "Explain variance score = 0.98 \n",
      "\n",
      "Ceil:\n",
      "R2 score: 0.97\n",
      "Mean square error: 0.86\n",
      "Mean absolute error= 0.64\n",
      "Median absolute error 1.0\n",
      "Explain variance score = 0.98 \n",
      "\n",
      "Floor:\n",
      "R2 score: 0.97\n",
      "Mean square error: 1.06\n",
      "Mean absolute error= 0.76\n",
      "Median absolute error 1.0\n",
      "Explain variance score = 0.98 \n",
      "\n"
     ]
    }
   ],
   "source": [
    "print(\"Normal:\")\n",
    "check_predictions(y_test, predict)\n",
    "\n",
    "print(\"Round:\")\n",
    "check_predictions(y_test, round_predict)\n",
    "\n",
    "print(\"Ceil:\")\n",
    "check_predictions(y_test, ceil_predict)\n",
    "\n",
    "print(\"Floor:\")\n",
    "check_predictions(y_test, floor_predict)"
   ],
   "metadata": {
    "collapsed": false
   }
  },
  {
   "cell_type": "code",
   "execution_count": 45,
   "outputs": [
    {
     "name": "stdout",
     "output_type": "stream",
     "text": [
      "-1\n",
      "21\n"
     ]
    }
   ],
   "source": [
    "print(min(y_test.level))\n",
    "print(max(y_test.level))"
   ],
   "metadata": {
    "collapsed": false
   }
  }
 ],
 "metadata": {
  "kernelspec": {
   "display_name": "Python 3",
   "language": "python",
   "name": "python3"
  },
  "language_info": {
   "codemirror_mode": {
    "name": "ipython",
    "version": 2
   },
   "file_extension": ".py",
   "mimetype": "text/x-python",
   "name": "python",
   "nbconvert_exporter": "python",
   "pygments_lexer": "ipython2",
   "version": "2.7.6"
  }
 },
 "nbformat": 4,
 "nbformat_minor": 0
}
