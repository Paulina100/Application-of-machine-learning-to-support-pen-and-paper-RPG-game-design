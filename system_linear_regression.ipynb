{
 "cells": [
  {
   "cell_type": "markdown",
   "source": [
    "# Regresja liniowa\n",
    "### Parametry:\n",
    "* **abilities**:\n",
    "    * **cha**\n",
    "    * **con**\n",
    "    * **dex**\n",
    "    * **int**\n",
    "    * **str**\n",
    "    * **wis**\n",
    "* **attributes**\n",
    "    * **hp**\n",
    "    * **ac**\n",
    "\n",
    "### Przewidujemy: *level*"
   ],
   "metadata": {
    "collapsed": false
   }
  },
  {
   "cell_type": "code",
   "execution_count": 9,
   "outputs": [],
   "source": [
    "import numpy as np\n",
    "import pandas as pd"
   ],
   "metadata": {
    "collapsed": false
   }
  },
  {
   "cell_type": "code",
   "execution_count": 10,
   "metadata": {
    "collapsed": true
   },
   "outputs": [],
   "source": [
    "bestiary1 = pd.read_json(\"pathfinder_2e_data/pathfinder-bestiary.db\", lines=True)\n",
    "bestiary2 = pd.read_json(\"pathfinder_2e_data/pathfinder-bestiary-2.db\", lines=True)\n",
    "bestiary3 = pd.read_json(\"pathfinder_2e_data/pathfinder-bestiary-3.db\", lines=True)"
   ]
  },
  {
   "cell_type": "code",
   "execution_count": 11,
   "outputs": [],
   "source": [
    "b = [bestiary1, bestiary2, bestiary3]\n",
    "\n",
    "bestiary = pd.concat(b, join='outer', axis=0).fillna(np.nan)"
   ],
   "metadata": {
    "collapsed": false
   }
  },
  {
   "cell_type": "code",
   "execution_count": 12,
   "outputs": [
    {
     "name": "stdout",
     "output_type": "stream",
     "text": [
      "True\n"
     ]
    }
   ],
   "source": [
    "print((bestiary1.size + bestiary2.size + bestiary3.size) == bestiary.size)"
   ],
   "metadata": {
    "collapsed": false
   }
  },
  {
   "cell_type": "code",
   "execution_count": 13,
   "outputs": [
    {
     "name": "stdout",
     "output_type": "stream",
     "text": [
      "<class 'pandas.core.frame.DataFrame'>\n",
      "Int64Index: 1206 entries, 0 to 364\n",
      "Data columns (total 8 columns):\n",
      " #   Column          Non-Null Count  Dtype \n",
      "---  ------          --------------  ----- \n",
      " 0   _id             1206 non-null   object\n",
      " 1   img             1206 non-null   object\n",
      " 2   items           1206 non-null   object\n",
      " 3   name            1206 non-null   object\n",
      " 4   system          1206 non-null   object\n",
      " 5   type            1206 non-null   object\n",
      " 6   flags           1206 non-null   object\n",
      " 7   prototypeToken  85 non-null     object\n",
      "dtypes: object(8)\n",
      "memory usage: 84.8+ KB\n"
     ]
    }
   ],
   "source": [
    "bestiary.info()"
   ],
   "metadata": {
    "collapsed": false
   }
  },
  {
   "cell_type": "markdown",
   "source": [
    "Po połączeniu sprawdzamy czy wszystkie z rekordów to potworki - *npc*, a nie jakieś przedmioty"
   ],
   "metadata": {
    "collapsed": false
   }
  },
  {
   "cell_type": "code",
   "execution_count": 25,
   "outputs": [
    {
     "data": {
      "text/plain": "array(['npc'], dtype=object)"
     },
     "execution_count": 25,
     "metadata": {},
     "output_type": "execute_result"
    }
   ],
   "source": [
    "bestiary.type.unique()"
   ],
   "metadata": {
    "collapsed": false
   }
  },
  {
   "cell_type": "markdown",
   "source": [
    "W bestiariuszach nie ma nic oprócz bestii, więc nic nie usuwamy."
   ],
   "metadata": {
    "collapsed": false
   }
  },
  {
   "cell_type": "code",
   "execution_count": null,
   "outputs": [],
   "source": [
    "from copy import deepcopy"
   ],
   "metadata": {
    "collapsed": false
   }
  },
  {
   "cell_type": "code",
   "execution_count": null,
   "outputs": [],
   "source": [
    "bestiary_backup = deepcopy(bestiary)"
   ],
   "metadata": {
    "collapsed": false
   }
  },
  {
   "cell_type": "markdown",
   "source": [
    "```unpack_column``` - Funkcja która rozpakowuje słownik i zmienia go w dataframe. Printuje pierwszą wartość tabeli i długość\n",
    "\n",
    "*by P J*"
   ],
   "metadata": {
    "collapsed": false
   }
  },
  {
   "cell_type": "code",
   "execution_count": 19,
   "outputs": [],
   "source": [
    "def unpack_column(df, column_name):\n",
    "    new_df = df[column_name].apply(pd.Series)\n",
    "    return new_df"
   ],
   "metadata": {
    "collapsed": false
   }
  },
  {
   "cell_type": "markdown",
   "source": [
    "## Wyodrębnianie kolumny *system* i przygotowanie danych\n",
    "Wszystkie potzrebne wartości znajdyją się w tej kolumnie"
   ],
   "metadata": {
    "collapsed": false
   }
  },
  {
   "cell_type": "code",
   "execution_count": 20,
   "outputs": [],
   "source": [
    "bestiary_system = unpack_column(bestiary, \"system\")"
   ],
   "metadata": {
    "collapsed": false
   }
  },
  {
   "cell_type": "markdown",
   "source": [
    "### Przygotowanie danych z system: *abilities*\n",
    "* cha\n",
    "* con\n",
    "* dex\n",
    "* int\n",
    "* str\n",
    "* wis\n"
   ],
   "metadata": {
    "collapsed": false
   }
  },
  {
   "cell_type": "code",
   "execution_count": 22,
   "outputs": [],
   "source": [
    "abilities = unpack_column(bestiary_system, 'abilities')\n",
    "\n",
    "for col in abilities.columns:\n",
    "    for i, row in abilities.iterrows():\n",
    "        row[col]=row[col].get('mod')"
   ],
   "metadata": {
    "collapsed": false
   }
  },
  {
   "cell_type": "code",
   "execution_count": 23,
   "outputs": [
    {
     "data": {
      "text/plain": "  cha con dex int str wis\n0   1   5   2   1   7   2\n1   1   5   0  -4   9   2\n2  -2   6   3  -4   7   3\n3   6   5   4   6   7   5\n4   1   1   3  -1  -5   1",
      "text/html": "<div>\n<style scoped>\n    .dataframe tbody tr th:only-of-type {\n        vertical-align: middle;\n    }\n\n    .dataframe tbody tr th {\n        vertical-align: top;\n    }\n\n    .dataframe thead th {\n        text-align: right;\n    }\n</style>\n<table border=\"1\" class=\"dataframe\">\n  <thead>\n    <tr style=\"text-align: right;\">\n      <th></th>\n      <th>cha</th>\n      <th>con</th>\n      <th>dex</th>\n      <th>int</th>\n      <th>str</th>\n      <th>wis</th>\n    </tr>\n  </thead>\n  <tbody>\n    <tr>\n      <th>0</th>\n      <td>1</td>\n      <td>5</td>\n      <td>2</td>\n      <td>1</td>\n      <td>7</td>\n      <td>2</td>\n    </tr>\n    <tr>\n      <th>1</th>\n      <td>1</td>\n      <td>5</td>\n      <td>0</td>\n      <td>-4</td>\n      <td>9</td>\n      <td>2</td>\n    </tr>\n    <tr>\n      <th>2</th>\n      <td>-2</td>\n      <td>6</td>\n      <td>3</td>\n      <td>-4</td>\n      <td>7</td>\n      <td>3</td>\n    </tr>\n    <tr>\n      <th>3</th>\n      <td>6</td>\n      <td>5</td>\n      <td>4</td>\n      <td>6</td>\n      <td>7</td>\n      <td>5</td>\n    </tr>\n    <tr>\n      <th>4</th>\n      <td>1</td>\n      <td>1</td>\n      <td>3</td>\n      <td>-1</td>\n      <td>-5</td>\n      <td>1</td>\n    </tr>\n  </tbody>\n</table>\n</div>"
     },
     "execution_count": 23,
     "metadata": {},
     "output_type": "execute_result"
    }
   ],
   "source": [
    "abilities.head()"
   ],
   "metadata": {
    "collapsed": false
   }
  },
  {
   "cell_type": "code",
   "execution_count": 24,
   "outputs": [
    {
     "name": "stdout",
     "output_type": "stream",
     "text": [
      "<class 'pandas.core.frame.DataFrame'>\n",
      "Int64Index: 1206 entries, 0 to 364\n",
      "Data columns (total 6 columns):\n",
      " #   Column  Non-Null Count  Dtype \n",
      "---  ------  --------------  ----- \n",
      " 0   cha     1206 non-null   object\n",
      " 1   con     1206 non-null   object\n",
      " 2   dex     1206 non-null   object\n",
      " 3   int     1206 non-null   object\n",
      " 4   str     1206 non-null   object\n",
      " 5   wis     1206 non-null   object\n",
      "dtypes: object(6)\n",
      "memory usage: 66.0+ KB\n"
     ]
    }
   ],
   "source": [
    "abilities.info()"
   ],
   "metadata": {
    "collapsed": false
   }
  },
  {
   "cell_type": "markdown",
   "source": [
    "### Przygotowanie danych z attributes"
   ],
   "metadata": {
    "collapsed": false
   }
  },
  {
   "cell_type": "code",
   "execution_count": 67,
   "outputs": [],
   "source": [
    "attributes = unpack_column(bestiary_system, 'attributes')"
   ],
   "metadata": {
    "collapsed": false
   }
  },
  {
   "cell_type": "markdown",
   "source": [
    "#### Przygotowanie attributes: *ac*\n",
    "W modelu wykorzystamy wastość value z ac"
   ],
   "metadata": {
    "collapsed": false
   }
  },
  {
   "cell_type": "code",
   "execution_count": 68,
   "outputs": [],
   "source": [
    "attributes_ac = unpack_column(attributes, \"ac\")"
   ],
   "metadata": {
    "collapsed": false
   }
  },
  {
   "cell_type": "code",
   "execution_count": 69,
   "outputs": [],
   "source": [
    "attributes_ac = pd.DataFrame(data=attributes_ac.value)\n",
    "attributes_ac.columns = [\"ac\"]"
   ],
   "metadata": {
    "collapsed": false
   }
  },
  {
   "cell_type": "markdown",
   "source": [
    "#### Przygotowanie attributes: *hp*\n",
    "W modelu wykorzystamy wastość value z hp i jak na razie nie będziemy uwzględniać pozostałych"
   ],
   "metadata": {
    "collapsed": false
   }
  },
  {
   "cell_type": "code",
   "execution_count": 70,
   "outputs": [],
   "source": [
    "attributes_hp = unpack_column(attributes, \"hp\")"
   ],
   "metadata": {
    "collapsed": false
   }
  },
  {
   "cell_type": "code",
   "execution_count": 71,
   "outputs": [],
   "source": [
    "attributes_hp = pd.DataFrame(data=attributes_hp.value)\n",
    "attributes_hp.columns = [\"hp\"]"
   ],
   "metadata": {
    "collapsed": false
   }
  },
  {
   "cell_type": "markdown",
   "source": [
    "## Usunięcie niepotrzebnych wartości z oryginalnej tabeli i dodanie przygotowanych powyżej danych"
   ],
   "metadata": {
    "collapsed": false
   }
  },
  {
   "cell_type": "code",
   "execution_count": 76,
   "outputs": [],
   "source": [
    "bestiary = bestiary.join(abilities)"
   ],
   "metadata": {
    "collapsed": false
   }
  },
  {
   "cell_type": "code",
   "execution_count": 77,
   "outputs": [
    {
     "name": "stdout",
     "output_type": "stream",
     "text": [
      "<class 'pandas.core.frame.DataFrame'>\n",
      "Int64Index: 3412 entries, 0 to 467\n",
      "Data columns (total 14 columns):\n",
      " #   Column          Non-Null Count  Dtype \n",
      "---  ------          --------------  ----- \n",
      " 0   _id             3412 non-null   object\n",
      " 1   img             3412 non-null   object\n",
      " 2   items           3412 non-null   object\n",
      " 3   name            3412 non-null   object\n",
      " 4   system          3412 non-null   object\n",
      " 5   type            3412 non-null   object\n",
      " 6   flags           3412 non-null   object\n",
      " 7   prototypeToken  235 non-null    object\n",
      " 8   cha             3412 non-null   object\n",
      " 9   con             3412 non-null   object\n",
      " 10  dex             3412 non-null   object\n",
      " 11  int             3412 non-null   object\n",
      " 12  str             3412 non-null   object\n",
      " 13  wis             3412 non-null   object\n",
      "dtypes: object(14)\n",
      "memory usage: 399.8+ KB\n"
     ]
    }
   ],
   "source": [
    "bestiary.info()"
   ],
   "metadata": {
    "collapsed": false
   }
  },
  {
   "cell_type": "code",
   "execution_count": 78,
   "outputs": [],
   "source": [
    "bestiary = bestiary.join(attributes_ac)"
   ],
   "metadata": {
    "collapsed": false
   }
  },
  {
   "cell_type": "code",
   "execution_count": 79,
   "outputs": [
    {
     "name": "stdout",
     "output_type": "stream",
     "text": [
      "<class 'pandas.core.frame.DataFrame'>\n",
      "Int64Index: 10014 entries, 0 to 467\n",
      "Data columns (total 15 columns):\n",
      " #   Column          Non-Null Count  Dtype \n",
      "---  ------          --------------  ----- \n",
      " 0   _id             10014 non-null  object\n",
      " 1   img             10014 non-null  object\n",
      " 2   items           10014 non-null  object\n",
      " 3   name            10014 non-null  object\n",
      " 4   system          10014 non-null  object\n",
      " 5   type            10014 non-null  object\n",
      " 6   flags           10014 non-null  object\n",
      " 7   prototypeToken  683 non-null    object\n",
      " 8   cha             10014 non-null  object\n",
      " 9   con             10014 non-null  object\n",
      " 10  dex             10014 non-null  object\n",
      " 11  int             10014 non-null  object\n",
      " 12  str             10014 non-null  object\n",
      " 13  wis             10014 non-null  object\n",
      " 14  ac              10014 non-null  int64 \n",
      "dtypes: int64(1), object(14)\n",
      "memory usage: 1.2+ MB\n"
     ]
    }
   ],
   "source": [
    "bestiary.info()"
   ],
   "metadata": {
    "collapsed": false
   }
  },
  {
   "cell_type": "code",
   "execution_count": 81,
   "outputs": [],
   "source": [
    "bestiary = bestiary.join(attributes_hp)"
   ],
   "metadata": {
    "collapsed": false
   }
  },
  {
   "cell_type": "code",
   "execution_count": 82,
   "outputs": [
    {
     "name": "stdout",
     "output_type": "stream",
     "text": [
      "<class 'pandas.core.frame.DataFrame'>\n",
      "Int64Index: 29788 entries, 0 to 467\n",
      "Data columns (total 16 columns):\n",
      " #   Column          Non-Null Count  Dtype \n",
      "---  ------          --------------  ----- \n",
      " 0   _id             29788 non-null  object\n",
      " 1   img             29788 non-null  object\n",
      " 2   items           29788 non-null  object\n",
      " 3   name            29788 non-null  object\n",
      " 4   system          29788 non-null  object\n",
      " 5   type            29788 non-null  object\n",
      " 6   flags           29788 non-null  object\n",
      " 7   prototypeToken  2023 non-null   object\n",
      " 8   cha             29788 non-null  object\n",
      " 9   con             29788 non-null  object\n",
      " 10  dex             29788 non-null  object\n",
      " 11  int             29788 non-null  object\n",
      " 12  str             29788 non-null  object\n",
      " 13  wis             29788 non-null  object\n",
      " 14  ac              29788 non-null  int64 \n",
      " 15  hp              29788 non-null  int64 \n",
      "dtypes: int64(2), object(14)\n",
      "memory usage: 3.9+ MB\n"
     ]
    }
   ],
   "source": [
    "bestiary.info()"
   ],
   "metadata": {
    "collapsed": false
   }
  },
  {
   "cell_type": "code",
   "execution_count": null,
   "outputs": [],
   "source": [
    "bestiary.drop(\"prototypeToken\", axis=1, inplace=True)\n",
    "bestiary.drop(\"flags\", axis=1, inplace=True)\n",
    "bestiary.drop(\"type\", axis=1, inplace=True)\n",
    "bestiary.drop(\"system\", axis=1, inplace=True)\n",
    "bestiary.drop(\"name\", axis=1, inplace=True)\n",
    "bestiary.drop(\"items\", axis=1, inplace=True)\n",
    "bestiary.drop(\"img\", axis=1, inplace=True)\n",
    "bestiary.drop(\"_id\", axis=1, inplace=True)"
   ],
   "metadata": {
    "collapsed": false
   }
  },
  {
   "cell_type": "markdown",
   "source": [
    "## Wyobrębnienie wartości przewidywanej *level*"
   ],
   "metadata": {
    "collapsed": false
   }
  },
  {
   "cell_type": "code",
   "execution_count": 83,
   "outputs": [],
   "source": [
    "level = unpack_column(unpack_column(bestiary_system, \"details\"), \"level\")"
   ],
   "metadata": {
    "collapsed": false
   }
  },
  {
   "cell_type": "code",
   "execution_count": null,
   "outputs": [],
   "source": [
    "level.columns = [\"level\"]"
   ],
   "metadata": {
    "collapsed": false
   }
  },
  {
   "cell_type": "code",
   "execution_count": 87,
   "outputs": [
    {
     "name": "stdout",
     "output_type": "stream",
     "text": [
      "<class 'pandas.core.frame.DataFrame'>\n",
      "Int64Index: 1206 entries, 0 to 364\n",
      "Data columns (total 1 columns):\n",
      " #   Column  Non-Null Count  Dtype\n",
      "---  ------  --------------  -----\n",
      " 0   level   1206 non-null   int64\n",
      "dtypes: int64(1)\n",
      "memory usage: 51.1 KB\n"
     ]
    }
   ],
   "source": [
    "level.info()"
   ],
   "metadata": {
    "collapsed": false
   }
  },
  {
   "cell_type": "code",
   "execution_count": 88,
   "outputs": [
    {
     "data": {
      "text/plain": "   level\n0     10\n1     10\n2      8\n3     17\n4      1",
      "text/html": "<div>\n<style scoped>\n    .dataframe tbody tr th:only-of-type {\n        vertical-align: middle;\n    }\n\n    .dataframe tbody tr th {\n        vertical-align: top;\n    }\n\n    .dataframe thead th {\n        text-align: right;\n    }\n</style>\n<table border=\"1\" class=\"dataframe\">\n  <thead>\n    <tr style=\"text-align: right;\">\n      <th></th>\n      <th>level</th>\n    </tr>\n  </thead>\n  <tbody>\n    <tr>\n      <th>0</th>\n      <td>10</td>\n    </tr>\n    <tr>\n      <th>1</th>\n      <td>10</td>\n    </tr>\n    <tr>\n      <th>2</th>\n      <td>8</td>\n    </tr>\n    <tr>\n      <th>3</th>\n      <td>17</td>\n    </tr>\n    <tr>\n      <th>4</th>\n      <td>1</td>\n    </tr>\n  </tbody>\n</table>\n</div>"
     },
     "execution_count": 88,
     "metadata": {},
     "output_type": "execute_result"
    }
   ],
   "source": [
    "level.head()"
   ],
   "metadata": {
    "collapsed": false
   }
  },
  {
   "cell_type": "code",
   "execution_count": 86,
   "outputs": [],
   "source": [],
   "metadata": {
    "collapsed": false
   }
  },
  {
   "cell_type": "code",
   "execution_count": null,
   "outputs": [],
   "source": [],
   "metadata": {
    "collapsed": false
   }
  }
 ],
 "metadata": {
  "kernelspec": {
   "display_name": "Python 3",
   "language": "python",
   "name": "python3"
  },
  "language_info": {
   "codemirror_mode": {
    "name": "ipython",
    "version": 2
   },
   "file_extension": ".py",
   "mimetype": "text/x-python",
   "name": "python",
   "nbconvert_exporter": "python",
   "pygments_lexer": "ipython2",
   "version": "2.7.6"
  }
 },
 "nbformat": 4,
 "nbformat_minor": 0
}
