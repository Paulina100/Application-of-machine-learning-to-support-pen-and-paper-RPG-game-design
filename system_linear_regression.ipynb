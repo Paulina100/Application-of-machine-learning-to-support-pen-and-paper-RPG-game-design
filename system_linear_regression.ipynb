{
 "cells": [
  {
   "cell_type": "markdown",
   "source": [
    "# Regresja liniowa\n",
    "### Parametry:\n",
    "* **abilities**:\n",
    "    * **cha**\n",
    "    * **con**\n",
    "    * **dex**\n",
    "    * **int**\n",
    "    * **str**\n",
    "    * **wis**\n",
    "* **attributes**\n",
    "    * **hp**\n",
    "    * **ac**\n",
    "\n",
    "### Przewidujemy: *level*"
   ],
   "metadata": {
    "collapsed": false
   }
  },
  {
   "cell_type": "code",
   "execution_count": 1,
   "outputs": [],
   "source": [
    "import numpy as np\n",
    "import pandas as pd"
   ],
   "metadata": {
    "collapsed": false
   }
  },
  {
   "cell_type": "code",
   "execution_count": 2,
   "metadata": {
    "collapsed": true
   },
   "outputs": [],
   "source": [
    "bestiary1 = pd.read_json(\"pathfinder_2e_data/pathfinder-bestiary.db\", lines=True)\n",
    "bestiary2 = pd.read_json(\"pathfinder_2e_data/pathfinder-bestiary-2.db\", lines=True)\n",
    "bestiary3 = pd.read_json(\"pathfinder_2e_data/pathfinder-bestiary-3.db\", lines=True)"
   ]
  },
  {
   "cell_type": "code",
   "execution_count": 3,
   "outputs": [],
   "source": [
    "b = [bestiary1, bestiary2, bestiary3]\n",
    "\n",
    "bestiary = pd.concat(b, join='outer', axis=0).fillna(np.nan)"
   ],
   "metadata": {
    "collapsed": false
   }
  },
  {
   "cell_type": "code",
   "execution_count": 4,
   "outputs": [
    {
     "name": "stdout",
     "output_type": "stream",
     "text": [
      "True\n"
     ]
    }
   ],
   "source": [
    "print((bestiary1.size + bestiary2.size + bestiary3.size) == bestiary.size) # sprawdzenie czy coś nie uciekło"
   ],
   "metadata": {
    "collapsed": false
   }
  },
  {
   "cell_type": "code",
   "execution_count": 5,
   "outputs": [
    {
     "name": "stdout",
     "output_type": "stream",
     "text": [
      "<class 'pandas.core.frame.DataFrame'>\n",
      "Int64Index: 1206 entries, 0 to 364\n",
      "Data columns (total 8 columns):\n",
      " #   Column          Non-Null Count  Dtype \n",
      "---  ------          --------------  ----- \n",
      " 0   _id             1206 non-null   object\n",
      " 1   img             1206 non-null   object\n",
      " 2   items           1206 non-null   object\n",
      " 3   name            1206 non-null   object\n",
      " 4   system          1206 non-null   object\n",
      " 5   type            1206 non-null   object\n",
      " 6   flags           1206 non-null   object\n",
      " 7   prototypeToken  85 non-null     object\n",
      "dtypes: object(8)\n",
      "memory usage: 84.8+ KB\n"
     ]
    }
   ],
   "source": [
    "bestiary.info()"
   ],
   "metadata": {
    "collapsed": false
   }
  },
  {
   "cell_type": "markdown",
   "source": [
    "Po połączeniu sprawdzamy czy wszystkie z rekordów to potworki - *npc*, a nie jakieś przedmioty"
   ],
   "metadata": {
    "collapsed": false
   }
  },
  {
   "cell_type": "code",
   "execution_count": 6,
   "outputs": [
    {
     "data": {
      "text/plain": "array(['npc'], dtype=object)"
     },
     "execution_count": 6,
     "metadata": {},
     "output_type": "execute_result"
    }
   ],
   "source": [
    "bestiary.type.unique()"
   ],
   "metadata": {
    "collapsed": false
   }
  },
  {
   "cell_type": "markdown",
   "source": [
    "W bestiariuszach nie ma nic oprócz bestii, więc nic nie usuwamy."
   ],
   "metadata": {
    "collapsed": false
   }
  },
  {
   "cell_type": "code",
   "execution_count": 7,
   "outputs": [],
   "source": [
    "from copy import deepcopy"
   ],
   "metadata": {
    "collapsed": false
   }
  },
  {
   "cell_type": "code",
   "execution_count": 8,
   "outputs": [],
   "source": [
    "bestiary_backup = deepcopy(bestiary)"
   ],
   "metadata": {
    "collapsed": false
   }
  },
  {
   "cell_type": "markdown",
   "source": [
    "```unpack_column``` - Funkcja która rozpakowuje słownik i zmienia go w dataframe. Printuje pierwszą wartość tabeli i długość\n",
    "\n",
    "*by P J*"
   ],
   "metadata": {
    "collapsed": false
   }
  },
  {
   "cell_type": "code",
   "execution_count": 9,
   "outputs": [],
   "source": [
    "def unpack_column(df, column_name):\n",
    "    new_df = df[column_name].apply(pd.Series)\n",
    "    return new_df"
   ],
   "metadata": {
    "collapsed": false
   }
  },
  {
   "cell_type": "markdown",
   "source": [
    "## Wyodrębnianie kolumny *system* i przygotowanie danych\n",
    "Wszystkie potzrebne wartości znajdyją się w tej kolumnie"
   ],
   "metadata": {
    "collapsed": false
   }
  },
  {
   "cell_type": "code",
   "execution_count": 10,
   "outputs": [],
   "source": [
    "bestiary_system = unpack_column(bestiary, \"system\")"
   ],
   "metadata": {
    "collapsed": false
   }
  },
  {
   "cell_type": "markdown",
   "source": [
    "### Przygotowanie danych z system: *abilities*\n",
    "* cha\n",
    "* con\n",
    "* dex\n",
    "* int\n",
    "* str\n",
    "* wis\n"
   ],
   "metadata": {
    "collapsed": false
   }
  },
  {
   "cell_type": "code",
   "execution_count": 11,
   "outputs": [],
   "source": [
    "abilities = unpack_column(bestiary_system, 'abilities')\n",
    "\n",
    "for col in abilities.columns:\n",
    "    for i, row in abilities.iterrows():\n",
    "        row[col]=row[col].get('mod')"
   ],
   "metadata": {
    "collapsed": false
   }
  },
  {
   "cell_type": "code",
   "execution_count": 12,
   "outputs": [
    {
     "data": {
      "text/plain": "  cha con dex int str wis\n0   1   5   2   1   7   2\n1   1   5   0  -4   9   2\n2  -2   6   3  -4   7   3\n3   6   5   4   6   7   5\n4   1   1   3  -1  -5   1",
      "text/html": "<div>\n<style scoped>\n    .dataframe tbody tr th:only-of-type {\n        vertical-align: middle;\n    }\n\n    .dataframe tbody tr th {\n        vertical-align: top;\n    }\n\n    .dataframe thead th {\n        text-align: right;\n    }\n</style>\n<table border=\"1\" class=\"dataframe\">\n  <thead>\n    <tr style=\"text-align: right;\">\n      <th></th>\n      <th>cha</th>\n      <th>con</th>\n      <th>dex</th>\n      <th>int</th>\n      <th>str</th>\n      <th>wis</th>\n    </tr>\n  </thead>\n  <tbody>\n    <tr>\n      <th>0</th>\n      <td>1</td>\n      <td>5</td>\n      <td>2</td>\n      <td>1</td>\n      <td>7</td>\n      <td>2</td>\n    </tr>\n    <tr>\n      <th>1</th>\n      <td>1</td>\n      <td>5</td>\n      <td>0</td>\n      <td>-4</td>\n      <td>9</td>\n      <td>2</td>\n    </tr>\n    <tr>\n      <th>2</th>\n      <td>-2</td>\n      <td>6</td>\n      <td>3</td>\n      <td>-4</td>\n      <td>7</td>\n      <td>3</td>\n    </tr>\n    <tr>\n      <th>3</th>\n      <td>6</td>\n      <td>5</td>\n      <td>4</td>\n      <td>6</td>\n      <td>7</td>\n      <td>5</td>\n    </tr>\n    <tr>\n      <th>4</th>\n      <td>1</td>\n      <td>1</td>\n      <td>3</td>\n      <td>-1</td>\n      <td>-5</td>\n      <td>1</td>\n    </tr>\n  </tbody>\n</table>\n</div>"
     },
     "execution_count": 12,
     "metadata": {},
     "output_type": "execute_result"
    }
   ],
   "source": [
    "abilities.head()"
   ],
   "metadata": {
    "collapsed": false
   }
  },
  {
   "cell_type": "code",
   "execution_count": 13,
   "outputs": [
    {
     "name": "stdout",
     "output_type": "stream",
     "text": [
      "<class 'pandas.core.frame.DataFrame'>\n",
      "Int64Index: 1206 entries, 0 to 364\n",
      "Data columns (total 6 columns):\n",
      " #   Column  Non-Null Count  Dtype \n",
      "---  ------  --------------  ----- \n",
      " 0   cha     1206 non-null   object\n",
      " 1   con     1206 non-null   object\n",
      " 2   dex     1206 non-null   object\n",
      " 3   int     1206 non-null   object\n",
      " 4   str     1206 non-null   object\n",
      " 5   wis     1206 non-null   object\n",
      "dtypes: object(6)\n",
      "memory usage: 66.0+ KB\n"
     ]
    }
   ],
   "source": [
    "abilities.info()"
   ],
   "metadata": {
    "collapsed": false
   }
  },
  {
   "cell_type": "markdown",
   "source": [
    "### Przygotowanie danych z attributes"
   ],
   "metadata": {
    "collapsed": false
   }
  },
  {
   "cell_type": "code",
   "execution_count": 14,
   "outputs": [],
   "source": [
    "attributes = unpack_column(bestiary_system, 'attributes')"
   ],
   "metadata": {
    "collapsed": false
   }
  },
  {
   "cell_type": "markdown",
   "source": [
    "#### Przygotowanie attributes: *ac*\n",
    "W modelu wykorzystamy wastość value z ac"
   ],
   "metadata": {
    "collapsed": false
   }
  },
  {
   "cell_type": "code",
   "execution_count": 15,
   "outputs": [],
   "source": [
    "attributes_ac = unpack_column(attributes, \"ac\")"
   ],
   "metadata": {
    "collapsed": false
   }
  },
  {
   "cell_type": "code",
   "execution_count": 16,
   "outputs": [],
   "source": [
    "attributes_ac = pd.DataFrame(data=attributes_ac.value)\n",
    "attributes_ac.columns = [\"ac\"]"
   ],
   "metadata": {
    "collapsed": false
   }
  },
  {
   "cell_type": "code",
   "execution_count": 17,
   "outputs": [
    {
     "name": "stdout",
     "output_type": "stream",
     "text": [
      "<class 'pandas.core.frame.DataFrame'>\n",
      "Int64Index: 1206 entries, 0 to 364\n",
      "Data columns (total 1 columns):\n",
      " #   Column  Non-Null Count  Dtype\n",
      "---  ------  --------------  -----\n",
      " 0   ac      1206 non-null   int64\n",
      "dtypes: int64(1)\n",
      "memory usage: 18.8 KB\n"
     ]
    }
   ],
   "source": [
    "attributes_ac.info()"
   ],
   "metadata": {
    "collapsed": false
   }
  },
  {
   "cell_type": "code",
   "execution_count": 18,
   "outputs": [
    {
     "data": {
      "text/plain": "   ac\n0  29\n1  28\n2  25\n3  41\n4  16",
      "text/html": "<div>\n<style scoped>\n    .dataframe tbody tr th:only-of-type {\n        vertical-align: middle;\n    }\n\n    .dataframe tbody tr th {\n        vertical-align: top;\n    }\n\n    .dataframe thead th {\n        text-align: right;\n    }\n</style>\n<table border=\"1\" class=\"dataframe\">\n  <thead>\n    <tr style=\"text-align: right;\">\n      <th></th>\n      <th>ac</th>\n    </tr>\n  </thead>\n  <tbody>\n    <tr>\n      <th>0</th>\n      <td>29</td>\n    </tr>\n    <tr>\n      <th>1</th>\n      <td>28</td>\n    </tr>\n    <tr>\n      <th>2</th>\n      <td>25</td>\n    </tr>\n    <tr>\n      <th>3</th>\n      <td>41</td>\n    </tr>\n    <tr>\n      <th>4</th>\n      <td>16</td>\n    </tr>\n  </tbody>\n</table>\n</div>"
     },
     "execution_count": 18,
     "metadata": {},
     "output_type": "execute_result"
    }
   ],
   "source": [
    "attributes_ac.head()"
   ],
   "metadata": {
    "collapsed": false
   }
  },
  {
   "cell_type": "markdown",
   "source": [
    "#### Przygotowanie attributes: *hp*\n",
    "W modelu wykorzystamy wastość value z hp i jak na razie nie będziemy uwzględniać pozostałych"
   ],
   "metadata": {
    "collapsed": false
   }
  },
  {
   "cell_type": "code",
   "execution_count": 19,
   "outputs": [],
   "source": [
    "attributes_hp = unpack_column(attributes, \"hp\")"
   ],
   "metadata": {
    "collapsed": false
   }
  },
  {
   "cell_type": "code",
   "execution_count": 20,
   "outputs": [],
   "source": [
    "attributes_hp = pd.DataFrame(data=attributes_hp.value)\n",
    "attributes_hp.columns = [\"hp\"]"
   ],
   "metadata": {
    "collapsed": false
   }
  },
  {
   "cell_type": "code",
   "execution_count": 21,
   "outputs": [
    {
     "name": "stdout",
     "output_type": "stream",
     "text": [
      "<class 'pandas.core.frame.DataFrame'>\n",
      "Int64Index: 1206 entries, 0 to 364\n",
      "Data columns (total 1 columns):\n",
      " #   Column  Non-Null Count  Dtype\n",
      "---  ------  --------------  -----\n",
      " 0   hp      1206 non-null   int64\n",
      "dtypes: int64(1)\n",
      "memory usage: 18.8 KB\n"
     ]
    }
   ],
   "source": [
    "attributes_hp.info()"
   ],
   "metadata": {
    "collapsed": false
   }
  },
  {
   "cell_type": "code",
   "execution_count": 22,
   "outputs": [
    {
     "data": {
      "text/plain": "    hp\n0  215\n1  220\n2  175\n3  315\n4   20",
      "text/html": "<div>\n<style scoped>\n    .dataframe tbody tr th:only-of-type {\n        vertical-align: middle;\n    }\n\n    .dataframe tbody tr th {\n        vertical-align: top;\n    }\n\n    .dataframe thead th {\n        text-align: right;\n    }\n</style>\n<table border=\"1\" class=\"dataframe\">\n  <thead>\n    <tr style=\"text-align: right;\">\n      <th></th>\n      <th>hp</th>\n    </tr>\n  </thead>\n  <tbody>\n    <tr>\n      <th>0</th>\n      <td>215</td>\n    </tr>\n    <tr>\n      <th>1</th>\n      <td>220</td>\n    </tr>\n    <tr>\n      <th>2</th>\n      <td>175</td>\n    </tr>\n    <tr>\n      <th>3</th>\n      <td>315</td>\n    </tr>\n    <tr>\n      <th>4</th>\n      <td>20</td>\n    </tr>\n  </tbody>\n</table>\n</div>"
     },
     "execution_count": 22,
     "metadata": {},
     "output_type": "execute_result"
    }
   ],
   "source": [
    "attributes_hp.head()"
   ],
   "metadata": {
    "collapsed": false
   }
  },
  {
   "cell_type": "markdown",
   "source": [
    "## Usunięcie niepotrzebnych wartości z oryginalnej tabeli i dodanie przygotowanych powyżej danych"
   ],
   "metadata": {
    "collapsed": false
   }
  },
  {
   "cell_type": "code",
   "execution_count": 23,
   "outputs": [],
   "source": [
    "# bestiary_copy = deepcopy(bestiary)"
   ],
   "metadata": {
    "collapsed": false
   }
  },
  {
   "cell_type": "code",
   "execution_count": 24,
   "outputs": [],
   "source": [
    "# bestiary = deepcopy(bestiary_copy)"
   ],
   "metadata": {
    "collapsed": false
   }
  },
  {
   "cell_type": "code",
   "execution_count": 25,
   "outputs": [],
   "source": [
    "# bestiary = deepcopy(bestiary_backup)"
   ],
   "metadata": {
    "collapsed": false
   }
  },
  {
   "cell_type": "code",
   "execution_count": 26,
   "outputs": [],
   "source": [
    "for col in abilities:\n",
    "    bestiary[col] = abilities[col]"
   ],
   "metadata": {
    "collapsed": false
   }
  },
  {
   "cell_type": "code",
   "execution_count": 27,
   "outputs": [
    {
     "name": "stdout",
     "output_type": "stream",
     "text": [
      "<class 'pandas.core.frame.DataFrame'>\n",
      "Int64Index: 1206 entries, 0 to 364\n",
      "Data columns (total 14 columns):\n",
      " #   Column          Non-Null Count  Dtype \n",
      "---  ------          --------------  ----- \n",
      " 0   _id             1206 non-null   object\n",
      " 1   img             1206 non-null   object\n",
      " 2   items           1206 non-null   object\n",
      " 3   name            1206 non-null   object\n",
      " 4   system          1206 non-null   object\n",
      " 5   type            1206 non-null   object\n",
      " 6   flags           1206 non-null   object\n",
      " 7   prototypeToken  85 non-null     object\n",
      " 8   cha             1206 non-null   object\n",
      " 9   con             1206 non-null   object\n",
      " 10  dex             1206 non-null   object\n",
      " 11  int             1206 non-null   object\n",
      " 12  str             1206 non-null   object\n",
      " 13  wis             1206 non-null   object\n",
      "dtypes: object(14)\n",
      "memory usage: 141.3+ KB\n"
     ]
    }
   ],
   "source": [
    "bestiary.info()"
   ],
   "metadata": {
    "collapsed": false
   }
  },
  {
   "cell_type": "code",
   "execution_count": 28,
   "outputs": [],
   "source": [
    "bestiary[\"ac\"] = attributes_ac"
   ],
   "metadata": {
    "collapsed": false
   }
  },
  {
   "cell_type": "code",
   "execution_count": 29,
   "outputs": [
    {
     "name": "stdout",
     "output_type": "stream",
     "text": [
      "<class 'pandas.core.frame.DataFrame'>\n",
      "Int64Index: 1206 entries, 0 to 364\n",
      "Data columns (total 15 columns):\n",
      " #   Column          Non-Null Count  Dtype \n",
      "---  ------          --------------  ----- \n",
      " 0   _id             1206 non-null   object\n",
      " 1   img             1206 non-null   object\n",
      " 2   items           1206 non-null   object\n",
      " 3   name            1206 non-null   object\n",
      " 4   system          1206 non-null   object\n",
      " 5   type            1206 non-null   object\n",
      " 6   flags           1206 non-null   object\n",
      " 7   prototypeToken  85 non-null     object\n",
      " 8   cha             1206 non-null   object\n",
      " 9   con             1206 non-null   object\n",
      " 10  dex             1206 non-null   object\n",
      " 11  int             1206 non-null   object\n",
      " 12  str             1206 non-null   object\n",
      " 13  wis             1206 non-null   object\n",
      " 14  ac              1206 non-null   int64 \n",
      "dtypes: int64(1), object(14)\n",
      "memory usage: 150.8+ KB\n"
     ]
    }
   ],
   "source": [
    "bestiary.info()"
   ],
   "metadata": {
    "collapsed": false
   }
  },
  {
   "cell_type": "code",
   "execution_count": 30,
   "outputs": [],
   "source": [
    "bestiary[\"hp\"] = attributes_hp"
   ],
   "metadata": {
    "collapsed": false
   }
  },
  {
   "cell_type": "code",
   "execution_count": 31,
   "outputs": [
    {
     "name": "stdout",
     "output_type": "stream",
     "text": [
      "<class 'pandas.core.frame.DataFrame'>\n",
      "Int64Index: 1206 entries, 0 to 364\n",
      "Data columns (total 16 columns):\n",
      " #   Column          Non-Null Count  Dtype \n",
      "---  ------          --------------  ----- \n",
      " 0   _id             1206 non-null   object\n",
      " 1   img             1206 non-null   object\n",
      " 2   items           1206 non-null   object\n",
      " 3   name            1206 non-null   object\n",
      " 4   system          1206 non-null   object\n",
      " 5   type            1206 non-null   object\n",
      " 6   flags           1206 non-null   object\n",
      " 7   prototypeToken  85 non-null     object\n",
      " 8   cha             1206 non-null   object\n",
      " 9   con             1206 non-null   object\n",
      " 10  dex             1206 non-null   object\n",
      " 11  int             1206 non-null   object\n",
      " 12  str             1206 non-null   object\n",
      " 13  wis             1206 non-null   object\n",
      " 14  ac              1206 non-null   int64 \n",
      " 15  hp              1206 non-null   int64 \n",
      "dtypes: int64(2), object(14)\n",
      "memory usage: 160.2+ KB\n"
     ]
    }
   ],
   "source": [
    "bestiary.info()"
   ],
   "metadata": {
    "collapsed": false
   }
  },
  {
   "cell_type": "code",
   "execution_count": 32,
   "outputs": [],
   "source": [
    "bestiary.drop(\"prototypeToken\", axis=1, inplace=True)\n",
    "bestiary.drop(\"flags\", axis=1, inplace=True)\n",
    "bestiary.drop(\"type\", axis=1, inplace=True)\n",
    "bestiary.drop(\"system\", axis=1, inplace=True)\n",
    "bestiary.drop(\"name\", axis=1, inplace=True)\n",
    "bestiary.drop(\"items\", axis=1, inplace=True)\n",
    "bestiary.drop(\"img\", axis=1, inplace=True)\n",
    "bestiary.drop(\"_id\", axis=1, inplace=True)"
   ],
   "metadata": {
    "collapsed": false
   }
  },
  {
   "cell_type": "code",
   "execution_count": 33,
   "outputs": [
    {
     "name": "stdout",
     "output_type": "stream",
     "text": [
      "<class 'pandas.core.frame.DataFrame'>\n",
      "Int64Index: 1206 entries, 0 to 364\n",
      "Data columns (total 8 columns):\n",
      " #   Column  Non-Null Count  Dtype \n",
      "---  ------  --------------  ----- \n",
      " 0   cha     1206 non-null   object\n",
      " 1   con     1206 non-null   object\n",
      " 2   dex     1206 non-null   object\n",
      " 3   int     1206 non-null   object\n",
      " 4   str     1206 non-null   object\n",
      " 5   wis     1206 non-null   object\n",
      " 6   ac      1206 non-null   int64 \n",
      " 7   hp      1206 non-null   int64 \n",
      "dtypes: int64(2), object(6)\n",
      "memory usage: 84.8+ KB\n"
     ]
    }
   ],
   "source": [
    "bestiary.info()"
   ],
   "metadata": {
    "collapsed": false
   }
  },
  {
   "cell_type": "code",
   "execution_count": 34,
   "outputs": [
    {
     "data": {
      "text/plain": "  cha con dex int str wis  ac   hp\n0   1   5   2   1   7   2  29  215\n1   1   5   0  -4   9   2  28  220\n2  -2   6   3  -4   7   3  25  175\n3   6   5   4   6   7   5  41  315\n4   1   1   3  -1  -5   1  16   20",
      "text/html": "<div>\n<style scoped>\n    .dataframe tbody tr th:only-of-type {\n        vertical-align: middle;\n    }\n\n    .dataframe tbody tr th {\n        vertical-align: top;\n    }\n\n    .dataframe thead th {\n        text-align: right;\n    }\n</style>\n<table border=\"1\" class=\"dataframe\">\n  <thead>\n    <tr style=\"text-align: right;\">\n      <th></th>\n      <th>cha</th>\n      <th>con</th>\n      <th>dex</th>\n      <th>int</th>\n      <th>str</th>\n      <th>wis</th>\n      <th>ac</th>\n      <th>hp</th>\n    </tr>\n  </thead>\n  <tbody>\n    <tr>\n      <th>0</th>\n      <td>1</td>\n      <td>5</td>\n      <td>2</td>\n      <td>1</td>\n      <td>7</td>\n      <td>2</td>\n      <td>29</td>\n      <td>215</td>\n    </tr>\n    <tr>\n      <th>1</th>\n      <td>1</td>\n      <td>5</td>\n      <td>0</td>\n      <td>-4</td>\n      <td>9</td>\n      <td>2</td>\n      <td>28</td>\n      <td>220</td>\n    </tr>\n    <tr>\n      <th>2</th>\n      <td>-2</td>\n      <td>6</td>\n      <td>3</td>\n      <td>-4</td>\n      <td>7</td>\n      <td>3</td>\n      <td>25</td>\n      <td>175</td>\n    </tr>\n    <tr>\n      <th>3</th>\n      <td>6</td>\n      <td>5</td>\n      <td>4</td>\n      <td>6</td>\n      <td>7</td>\n      <td>5</td>\n      <td>41</td>\n      <td>315</td>\n    </tr>\n    <tr>\n      <th>4</th>\n      <td>1</td>\n      <td>1</td>\n      <td>3</td>\n      <td>-1</td>\n      <td>-5</td>\n      <td>1</td>\n      <td>16</td>\n      <td>20</td>\n    </tr>\n  </tbody>\n</table>\n</div>"
     },
     "execution_count": 34,
     "metadata": {},
     "output_type": "execute_result"
    }
   ],
   "source": [
    "bestiary.head()"
   ],
   "metadata": {
    "collapsed": false
   }
  },
  {
   "cell_type": "markdown",
   "source": [
    "## Wyobrębnienie wartości przewidywanej *level*"
   ],
   "metadata": {
    "collapsed": false
   }
  },
  {
   "cell_type": "code",
   "execution_count": 35,
   "outputs": [],
   "source": [
    "level = unpack_column(unpack_column(bestiary_system, \"details\"), \"level\")"
   ],
   "metadata": {
    "collapsed": false
   }
  },
  {
   "cell_type": "code",
   "execution_count": 36,
   "outputs": [],
   "source": [
    "level.columns = [\"level\"]"
   ],
   "metadata": {
    "collapsed": false
   }
  },
  {
   "cell_type": "code",
   "execution_count": 37,
   "outputs": [
    {
     "name": "stdout",
     "output_type": "stream",
     "text": [
      "<class 'pandas.core.frame.DataFrame'>\n",
      "Int64Index: 1206 entries, 0 to 364\n",
      "Data columns (total 1 columns):\n",
      " #   Column  Non-Null Count  Dtype\n",
      "---  ------  --------------  -----\n",
      " 0   level   1206 non-null   int64\n",
      "dtypes: int64(1)\n",
      "memory usage: 18.8 KB\n"
     ]
    }
   ],
   "source": [
    "level.info()"
   ],
   "metadata": {
    "collapsed": false
   }
  },
  {
   "cell_type": "code",
   "execution_count": 38,
   "outputs": [
    {
     "data": {
      "text/plain": "   level\n0     10\n1     10\n2      8\n3     17\n4      1",
      "text/html": "<div>\n<style scoped>\n    .dataframe tbody tr th:only-of-type {\n        vertical-align: middle;\n    }\n\n    .dataframe tbody tr th {\n        vertical-align: top;\n    }\n\n    .dataframe thead th {\n        text-align: right;\n    }\n</style>\n<table border=\"1\" class=\"dataframe\">\n  <thead>\n    <tr style=\"text-align: right;\">\n      <th></th>\n      <th>level</th>\n    </tr>\n  </thead>\n  <tbody>\n    <tr>\n      <th>0</th>\n      <td>10</td>\n    </tr>\n    <tr>\n      <th>1</th>\n      <td>10</td>\n    </tr>\n    <tr>\n      <th>2</th>\n      <td>8</td>\n    </tr>\n    <tr>\n      <th>3</th>\n      <td>17</td>\n    </tr>\n    <tr>\n      <th>4</th>\n      <td>1</td>\n    </tr>\n  </tbody>\n</table>\n</div>"
     },
     "execution_count": 38,
     "metadata": {},
     "output_type": "execute_result"
    }
   ],
   "source": [
    "level.head()"
   ],
   "metadata": {
    "collapsed": false
   }
  },
  {
   "cell_type": "markdown",
   "source": [
    "## Podział na zbiór treningowy i testowy"
   ],
   "metadata": {
    "collapsed": false
   }
  },
  {
   "cell_type": "code",
   "execution_count": 39,
   "outputs": [],
   "source": [
    "x = deepcopy(bestiary)\n",
    "y = deepcopy(level)"
   ],
   "metadata": {
    "collapsed": false
   }
  },
  {
   "cell_type": "code",
   "execution_count": 40,
   "outputs": [],
   "source": [
    "from sklearn.model_selection import train_test_split\n",
    "\n",
    "x_train, x_test, y_train, y_test = train_test_split(\n",
    "    x, y, test_size=0.25, random_state=0, shuffle=True\n",
    ")"
   ],
   "metadata": {
    "collapsed": false
   }
  },
  {
   "cell_type": "markdown",
   "source": [
    "## Regresja liniowa"
   ],
   "metadata": {
    "collapsed": false
   }
  },
  {
   "cell_type": "code",
   "execution_count": 41,
   "outputs": [],
   "source": [
    "from sklearn.linear_model import LinearRegression\n",
    "\n",
    "model = LinearRegression()\n",
    "model.fit(x_train, y_train)\n",
    "predict = model.predict(x_test)"
   ],
   "metadata": {
    "collapsed": false
   }
  },
  {
   "cell_type": "markdown",
   "source": [
    "## Sprawdzenie modelu"
   ],
   "metadata": {
    "collapsed": false
   }
  },
  {
   "cell_type": "code",
   "execution_count": 42,
   "outputs": [
    {
     "name": "stdout",
     "output_type": "stream",
     "text": [
      "R2 score: 0.98\n",
      "Mean square error: 0.59\n"
     ]
    }
   ],
   "source": [
    "from sklearn.metrics import mean_squared_error\n",
    "from sklearn.metrics import r2_score\n",
    "\n",
    "r2 = r2_score(y_test, predict)\n",
    "MSE = mean_squared_error(y_test, predict)\n",
    "print(\"R2 score:\", round(r2, 2))\n",
    "print(\"Mean square error:\", round(MSE, 2))"
   ],
   "metadata": {
    "collapsed": false
   }
  },
  {
   "cell_type": "markdown",
   "source": [
    "* R2 - blisko 1, więc spoko\n",
    "* trochę gorzej z mse byłoby fajnie jakby to była wartość bliżej 0, ale możliwe, że jak się zastosuje jakieś skalowanie\n",
    "cech czy inną magię to będzie lepiej"
   ],
   "metadata": {
    "collapsed": false
   }
  },
  {
   "cell_type": "code",
   "execution_count": 43,
   "outputs": [
    {
     "name": "stdout",
     "output_type": "stream",
     "text": [
      "Mean absolute error= 0.53\n",
      "Median absolute error 0.33\n",
      "Explain variance score = 0.98\n"
     ]
    }
   ],
   "source": [
    "from sklearn.metrics import mean_absolute_error, median_absolute_error, explained_variance_score\n",
    "\n",
    "print(\"Mean absolute error=\", round(mean_absolute_error(y_test, predict), 2))\n",
    "print(\"Median absolute error\", round(median_absolute_error(y_test, predict), 2))\n",
    "print(\"Explain variance score =\", round(explained_variance_score(y_test, predict), 2))"
   ],
   "metadata": {
    "collapsed": false
   }
  },
  {
   "cell_type": "code",
   "execution_count": 44,
   "outputs": [
    {
     "data": {
      "text/plain": "     level\n395      4\n5        7\n141     13\n452      8\n52      10\n..     ...\n77      13\n11       0\n155     13\n240     13\n52      13\n\n[302 rows x 1 columns]",
      "text/html": "<div>\n<style scoped>\n    .dataframe tbody tr th:only-of-type {\n        vertical-align: middle;\n    }\n\n    .dataframe tbody tr th {\n        vertical-align: top;\n    }\n\n    .dataframe thead th {\n        text-align: right;\n    }\n</style>\n<table border=\"1\" class=\"dataframe\">\n  <thead>\n    <tr style=\"text-align: right;\">\n      <th></th>\n      <th>level</th>\n    </tr>\n  </thead>\n  <tbody>\n    <tr>\n      <th>395</th>\n      <td>4</td>\n    </tr>\n    <tr>\n      <th>5</th>\n      <td>7</td>\n    </tr>\n    <tr>\n      <th>141</th>\n      <td>13</td>\n    </tr>\n    <tr>\n      <th>452</th>\n      <td>8</td>\n    </tr>\n    <tr>\n      <th>52</th>\n      <td>10</td>\n    </tr>\n    <tr>\n      <th>...</th>\n      <td>...</td>\n    </tr>\n    <tr>\n      <th>77</th>\n      <td>13</td>\n    </tr>\n    <tr>\n      <th>11</th>\n      <td>0</td>\n    </tr>\n    <tr>\n      <th>155</th>\n      <td>13</td>\n    </tr>\n    <tr>\n      <th>240</th>\n      <td>13</td>\n    </tr>\n    <tr>\n      <th>52</th>\n      <td>13</td>\n    </tr>\n  </tbody>\n</table>\n<p>302 rows × 1 columns</p>\n</div>"
     },
     "execution_count": 44,
     "metadata": {},
     "output_type": "execute_result"
    }
   ],
   "source": [
    "y_test"
   ],
   "metadata": {
    "collapsed": false
   }
  },
  {
   "cell_type": "code",
   "execution_count": 46,
   "outputs": [
    {
     "data": {
      "text/plain": "array([[ 3.97071151],\n       [ 7.55108636],\n       [12.65227177],\n       [ 8.3011707 ],\n       [10.55697225],\n       [ 2.42171933],\n       [12.8454115 ],\n       [ 0.56995194],\n       [ 2.48233849],\n       [ 2.41320599],\n       [ 4.31566236],\n       [ 2.58998839],\n       [ 5.18886725],\n       [ 7.78325486],\n       [ 0.76054551],\n       [ 2.18391812],\n       [ 7.6916723 ],\n       [ 7.60719381],\n       [ 1.29629252],\n       [ 3.91429822],\n       [10.41437684],\n       [ 6.0752099 ],\n       [ 2.87468923],\n       [ 2.71822916],\n       [ 0.89218769],\n       [ 1.28255094],\n       [ 3.94032307],\n       [ 3.11332108],\n       [ 9.23999991],\n       [ 0.54276186],\n       [ 2.2350029 ],\n       [ 6.51554244],\n       [ 3.11332108],\n       [ 3.13476207],\n       [ 8.79578503],\n       [ 2.72362384],\n       [10.38392818],\n       [ 0.89218769],\n       [ 5.79535245],\n       [ 1.32809702],\n       [ 5.78546017],\n       [12.02439583],\n       [14.71501779],\n       [10.65396054],\n       [ 1.84903057],\n       [ 5.90104653],\n       [ 5.84968713],\n       [ 3.91429822],\n       [ 6.88804346],\n       [15.91169365],\n       [ 5.08898754],\n       [11.68631514],\n       [ 6.00137692],\n       [10.56151267],\n       [ 2.13763676],\n       [ 3.83317222],\n       [18.87154832],\n       [ 5.93352456],\n       [ 5.16438545],\n       [ 1.23477117],\n       [ 1.0603116 ],\n       [ 5.32837558],\n       [ 3.44773211],\n       [ 2.92286948],\n       [14.11474934],\n       [18.92134769],\n       [ 2.2487998 ],\n       [ 5.23593953],\n       [ 7.88086706],\n       [ 8.55275821],\n       [10.04381445],\n       [12.45378412],\n       [ 4.11106122],\n       [ 8.00974649],\n       [ 2.03966549],\n       [ 0.89218769],\n       [ 9.98389055],\n       [ 4.64739456],\n       [ 5.10817939],\n       [ 2.45179288],\n       [ 7.7016741 ],\n       [ 1.17416809],\n       [ 3.51459709],\n       [10.72944721],\n       [19.85478088],\n       [ 5.95246094],\n       [ 6.91122315],\n       [16.00628847],\n       [11.32870601],\n       [ 0.88297317],\n       [ 3.91429822],\n       [ 9.6887048 ],\n       [ 0.68516134],\n       [19.55788151],\n       [ 6.64369192],\n       [17.11676269],\n       [18.38971713],\n       [17.09994815],\n       [12.18188592],\n       [ 5.87311798],\n       [19.61054023],\n       [ 4.7875418 ],\n       [11.83559168],\n       [ 2.87258325],\n       [14.05417519],\n       [10.13173543],\n       [ 6.15809812],\n       [ 6.18265615],\n       [ 4.55251074],\n       [ 2.69201013],\n       [ 8.46941866],\n       [ 5.62078242],\n       [ 7.81827676],\n       [ 3.00551201],\n       [ 3.93930562],\n       [ 2.28597568],\n       [ 6.08310275],\n       [ 7.37644804],\n       [ 6.29152507],\n       [19.09604295],\n       [ 1.95171406],\n       [10.84665885],\n       [ 5.74653106],\n       [ 2.07862675],\n       [ 5.46927755],\n       [ 9.07472681],\n       [ 2.2698518 ],\n       [13.66787754],\n       [ 0.50615503],\n       [ 1.04644365],\n       [10.65396054],\n       [10.17217622],\n       [ 6.19146495],\n       [ 0.59180367],\n       [ 9.12631152],\n       [17.53227779],\n       [ 8.43235187],\n       [ 3.08037681],\n       [15.95548466],\n       [ 0.07327632],\n       [ 2.8382804 ],\n       [ 3.25349032],\n       [ 1.25753229],\n       [ 2.7564188 ],\n       [ 1.43540605],\n       [ 6.23151423],\n       [ 2.33252056],\n       [19.52935324],\n       [ 6.56463215],\n       [ 9.12631152],\n       [ 7.96447219],\n       [ 6.56463215],\n       [10.68065443],\n       [19.89661575],\n       [20.73352218],\n       [ 9.86742716],\n       [12.68188191],\n       [20.40128246],\n       [ 6.59294803],\n       [ 1.43748075],\n       [16.45328232],\n       [20.86804976],\n       [ 5.95299609],\n       [11.95550788],\n       [ 3.47335125],\n       [ 2.98608592],\n       [ 6.76283114],\n       [ 9.37290945],\n       [ 1.39633881],\n       [20.80311258],\n       [12.33983945],\n       [13.88030874],\n       [ 1.31408594],\n       [11.80529785],\n       [ 6.26972157],\n       [ 6.27204829],\n       [ 1.56443338],\n       [ 3.15374914],\n       [ 3.9791884 ],\n       [ 5.60211133],\n       [ 8.8963296 ],\n       [ 8.00280825],\n       [ 5.69624334],\n       [12.77506493],\n       [ 1.18282631],\n       [ 2.15129712],\n       [ 1.12528136],\n       [ 1.08952012],\n       [ 7.1016011 ],\n       [ 5.66532854],\n       [ 3.91896758],\n       [ 2.49296539],\n       [-0.92536429],\n       [ 6.25101863],\n       [ 0.89218769],\n       [19.9142239 ],\n       [ 7.03234914],\n       [ 4.41376939],\n       [ 9.99056028],\n       [ 2.71152658],\n       [ 2.94228158],\n       [16.63495587],\n       [ 4.76459251],\n       [ 4.94210527],\n       [ 1.62636908],\n       [ 6.48509665],\n       [ 6.77143518],\n       [10.69314795],\n       [20.40128246],\n       [ 0.5118992 ],\n       [ 1.47672396],\n       [ 5.87299215],\n       [15.82306156],\n       [ 4.14169608],\n       [12.63555229],\n       [ 2.63876462],\n       [ 2.62537674],\n       [10.72944721],\n       [12.10323765],\n       [12.04522702],\n       [ 3.2943334 ],\n       [18.2782779 ],\n       [11.24261823],\n       [ 6.1552796 ],\n       [ 1.1218667 ],\n       [ 4.68482153],\n       [13.65432246],\n       [ 0.64012538],\n       [ 4.50186718],\n       [ 0.42711415],\n       [ 0.77437153],\n       [10.75063007],\n       [ 3.11332108],\n       [ 2.01375815],\n       [ 0.6049786 ],\n       [23.18749929],\n       [13.56013314],\n       [ 2.77795249],\n       [ 2.50608597],\n       [11.93321254],\n       [19.53048298],\n       [ 0.27022343],\n       [ 6.13421356],\n       [17.39270886],\n       [ 9.32228497],\n       [14.06394888],\n       [18.92134769],\n       [ 1.4792392 ],\n       [ 3.895441  ],\n       [ 3.94032307],\n       [16.18371387],\n       [12.04522702],\n       [ 6.31078458],\n       [ 2.57104941],\n       [15.48121208],\n       [ 9.79467871],\n       [ 2.20204192],\n       [ 5.51202561],\n       [ 8.96666963],\n       [ 3.88954849],\n       [16.21333414],\n       [ 2.72186627],\n       [ 7.95405715],\n       [ 2.56788057],\n       [ 3.99543373],\n       [ 7.25072877],\n       [ 4.02248672],\n       [ 3.11583021],\n       [ 7.77517532],\n       [ 7.34057338],\n       [ 2.15047543],\n       [ 4.82949735],\n       [14.04253263],\n       [11.45191794],\n       [ 1.58375943],\n       [ 6.8369605 ],\n       [19.85478088],\n       [ 2.90291224],\n       [ 8.0356963 ],\n       [ 4.04580458],\n       [14.33556177],\n       [ 8.48167848],\n       [10.24435994],\n       [ 0.55782794],\n       [ 1.58413261],\n       [ 8.9891691 ],\n       [10.20848486],\n       [ 1.97591011],\n       [ 3.10776777],\n       [ 2.88885339],\n       [ 7.91078291],\n       [ 1.36262137],\n       [12.89048358],\n       [ 1.8922631 ],\n       [ 3.7111419 ],\n       [17.5749119 ],\n       [ 8.96666963],\n       [12.92829703],\n       [ 1.08877479],\n       [10.04738572],\n       [13.17191311],\n       [11.42676648]])"
     },
     "execution_count": 46,
     "metadata": {},
     "output_type": "execute_result"
    }
   ],
   "source": [
    "predict"
   ],
   "metadata": {
    "collapsed": false
   }
  },
  {
   "cell_type": "code",
   "execution_count": 45,
   "outputs": [
    {
     "name": "stdout",
     "output_type": "stream",
     "text": [
      "-1\n",
      "21\n"
     ]
    }
   ],
   "source": [
    "print(min(y_test.level))\n",
    "print(max(y_test.level))"
   ],
   "metadata": {
    "collapsed": false
   }
  }
 ],
 "metadata": {
  "kernelspec": {
   "display_name": "Python 3",
   "language": "python",
   "name": "python3"
  },
  "language_info": {
   "codemirror_mode": {
    "name": "ipython",
    "version": 2
   },
   "file_extension": ".py",
   "mimetype": "text/x-python",
   "name": "python",
   "nbconvert_exporter": "python",
   "pygments_lexer": "ipython2",
   "version": "2.7.6"
  }
 },
 "nbformat": 4,
 "nbformat_minor": 0
}
