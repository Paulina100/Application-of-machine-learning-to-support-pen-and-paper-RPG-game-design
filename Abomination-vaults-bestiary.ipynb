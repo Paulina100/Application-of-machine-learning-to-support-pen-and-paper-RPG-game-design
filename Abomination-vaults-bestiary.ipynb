{
 "cells": [
  {
   "cell_type": "markdown",
   "source": [
    "# Analiza \"abomination-vaults-bestiary\"\n",
    "Import danych"
   ],
   "metadata": {
    "collapsed": false
   }
  },
  {
   "cell_type": "code",
   "execution_count": 143,
   "outputs": [],
   "source": [
    "## funkcja by P.J.\n",
    "\n",
    "def unpack_column(df, column_name):\n",
    "    new_df = df[column_name].apply(pd.Series)\n",
    "    print(new_df.iloc[0])\n",
    "    print('Len =', len(new_df.iloc[0]))\n",
    "    return new_df"
   ],
   "metadata": {
    "collapsed": false
   }
  },
  {
   "cell_type": "code",
   "execution_count": 46,
   "metadata": {
    "collapsed": true
   },
   "outputs": [],
   "source": [
    "import pandas as pd\n",
    "\n",
    "db = pd.read_json(\"pathfinder_2e_data/abomination-vaults-bestiary.db\", lines=True)"
   ]
  },
  {
   "cell_type": "code",
   "execution_count": 47,
   "outputs": [
    {
     "name": "stdout",
     "output_type": "stream",
     "text": [
      "<class 'pandas.core.frame.DataFrame'>\n",
      "RangeIndex: 112 entries, 0 to 111\n",
      "Data columns (total 8 columns):\n",
      " #   Column          Non-Null Count  Dtype \n",
      "---  ------          --------------  ----- \n",
      " 0   _id             112 non-null    object\n",
      " 1   img             112 non-null    object\n",
      " 2   items           112 non-null    object\n",
      " 3   name            112 non-null    object\n",
      " 4   system          112 non-null    object\n",
      " 5   type            112 non-null    object\n",
      " 6   flags           112 non-null    object\n",
      " 7   prototypeToken  10 non-null     object\n",
      "dtypes: object(8)\n",
      "memory usage: 7.1+ KB\n"
     ]
    }
   ],
   "source": [
    "db.info()"
   ],
   "metadata": {
    "collapsed": false
   }
  },
  {
   "cell_type": "markdown",
   "source": [
    "Kolumny -> we wszystkich bazach raczej to samo, ale sprawdzić można !!!!!!!:\n",
    "* _id (raczej nie potrzebne do tego co robimy chyba że jakieś inne info są w innych bazach) (✔/❌)\n",
    "* img (❌)\n",
    "* items - do sprawdzenia !!!!!!!!!!!!!!!!!\n",
    "* name - raczej nie skoro w razie w mamy id (❌)\n",
    "* system - do sprawdzenia !!!!!!!!!!!!!!!\n",
    "* type - może się przydać (✔)\n",
    "* flags - do sprawdzenia !!!!!!!!!!!!!\n",
    "* prototype Token - chyba zbędne, ale sprawdzę (❌/!!!!!!!!!!!)"
   ],
   "metadata": {
    "collapsed": false
   }
  },
  {
   "cell_type": "code",
   "execution_count": 48,
   "outputs": [
    {
     "data": {
      "text/plain": "                _id                                       img  \\\n0  00s3MhFQ4yOp2rTf  systems/pf2e/icons/default-icons/npc.svg   \n1  0jvmec4yJH1ASfRy  systems/pf2e/icons/default-icons/npc.svg   \n2  277uvPqG9RLMQUcO  systems/pf2e/icons/default-icons/npc.svg   \n3  2K0oJcLauMwyRNZQ  systems/pf2e/icons/default-icons/npc.svg   \n4  2TOXR7nKS6xPng2Y  systems/pf2e/icons/default-icons/npc.svg   \n\n                                               items                     name  \\\n0  [{'_id': 'thNxqBSaHQwe1kqj', 'img': 'systems/p...  Elder Child Of Belcorra   \n1  [{'_id': 'Kc9RfQ1ZLqepop3p', 'flags': {'core':...                 Urthagul   \n2  [{'_id': 'sdsJsKNzbvVK8R4I', 'img': 'systems/p...      Warped Brew Morlock   \n3  [{'_id': '0gD4v7579cLZZRwx', 'flags': {'core':...                 Murschen   \n4  [{'_id': 'OHEkKMalMOyLMyRM', 'img': 'systems/p...               Dread Wisp   \n\n                                              system type  \\\n0  {'abilities': {'cha': {'mod': 0}, 'con': {'mod...  npc   \n1  {'abilities': {'cha': {'mod': 0}, 'con': {'mod...  npc   \n2  {'abilities': {'cha': {'mod': 1}, 'con': {'mod...  npc   \n3  {'abilities': {'cha': {'mod': 1}, 'con': {'mod...  npc   \n4  {'abilities': {'cha': {'mod': 2}, 'con': {'mod...  npc   \n\n                                               flags       prototypeToken  \n0  {'core': {'sourceId': 'Compendium.pf2e.abomina...                  NaN  \n1  {'core': {'sourceId': 'Compendium.pf2e.abomina...                  NaN  \n2  {'core': {'sourceId': 'Compendium.pf2e.abomina...  {'name': 'Morlock'}  \n3  {'core': {'sourceId': 'Compendium.pf2e.abomina...                  NaN  \n4  {'core': {'sourceId': 'Compendium.pf2e.abomina...                  NaN  ",
      "text/html": "<div>\n<style scoped>\n    .dataframe tbody tr th:only-of-type {\n        vertical-align: middle;\n    }\n\n    .dataframe tbody tr th {\n        vertical-align: top;\n    }\n\n    .dataframe thead th {\n        text-align: right;\n    }\n</style>\n<table border=\"1\" class=\"dataframe\">\n  <thead>\n    <tr style=\"text-align: right;\">\n      <th></th>\n      <th>_id</th>\n      <th>img</th>\n      <th>items</th>\n      <th>name</th>\n      <th>system</th>\n      <th>type</th>\n      <th>flags</th>\n      <th>prototypeToken</th>\n    </tr>\n  </thead>\n  <tbody>\n    <tr>\n      <th>0</th>\n      <td>00s3MhFQ4yOp2rTf</td>\n      <td>systems/pf2e/icons/default-icons/npc.svg</td>\n      <td>[{'_id': 'thNxqBSaHQwe1kqj', 'img': 'systems/p...</td>\n      <td>Elder Child Of Belcorra</td>\n      <td>{'abilities': {'cha': {'mod': 0}, 'con': {'mod...</td>\n      <td>npc</td>\n      <td>{'core': {'sourceId': 'Compendium.pf2e.abomina...</td>\n      <td>NaN</td>\n    </tr>\n    <tr>\n      <th>1</th>\n      <td>0jvmec4yJH1ASfRy</td>\n      <td>systems/pf2e/icons/default-icons/npc.svg</td>\n      <td>[{'_id': 'Kc9RfQ1ZLqepop3p', 'flags': {'core':...</td>\n      <td>Urthagul</td>\n      <td>{'abilities': {'cha': {'mod': 0}, 'con': {'mod...</td>\n      <td>npc</td>\n      <td>{'core': {'sourceId': 'Compendium.pf2e.abomina...</td>\n      <td>NaN</td>\n    </tr>\n    <tr>\n      <th>2</th>\n      <td>277uvPqG9RLMQUcO</td>\n      <td>systems/pf2e/icons/default-icons/npc.svg</td>\n      <td>[{'_id': 'sdsJsKNzbvVK8R4I', 'img': 'systems/p...</td>\n      <td>Warped Brew Morlock</td>\n      <td>{'abilities': {'cha': {'mod': 1}, 'con': {'mod...</td>\n      <td>npc</td>\n      <td>{'core': {'sourceId': 'Compendium.pf2e.abomina...</td>\n      <td>{'name': 'Morlock'}</td>\n    </tr>\n    <tr>\n      <th>3</th>\n      <td>2K0oJcLauMwyRNZQ</td>\n      <td>systems/pf2e/icons/default-icons/npc.svg</td>\n      <td>[{'_id': '0gD4v7579cLZZRwx', 'flags': {'core':...</td>\n      <td>Murschen</td>\n      <td>{'abilities': {'cha': {'mod': 1}, 'con': {'mod...</td>\n      <td>npc</td>\n      <td>{'core': {'sourceId': 'Compendium.pf2e.abomina...</td>\n      <td>NaN</td>\n    </tr>\n    <tr>\n      <th>4</th>\n      <td>2TOXR7nKS6xPng2Y</td>\n      <td>systems/pf2e/icons/default-icons/npc.svg</td>\n      <td>[{'_id': 'OHEkKMalMOyLMyRM', 'img': 'systems/p...</td>\n      <td>Dread Wisp</td>\n      <td>{'abilities': {'cha': {'mod': 2}, 'con': {'mod...</td>\n      <td>npc</td>\n      <td>{'core': {'sourceId': 'Compendium.pf2e.abomina...</td>\n      <td>NaN</td>\n    </tr>\n  </tbody>\n</table>\n</div>"
     },
     "execution_count": 48,
     "metadata": {},
     "output_type": "execute_result"
    }
   ],
   "source": [
    "db.head()"
   ],
   "metadata": {
    "collapsed": false
   }
  },
  {
   "cell_type": "markdown",
   "source": [
    "* id: jak id - jakieś znaczki\n",
    "* img: img\n",
    "* items: kolejny zbiór danych\n",
    "* name: imie\n",
    "* system: kolejny zbiór danych\n",
    "* type: typ\n",
    "* flags: kolejny zbiór danych\n",
    "* prototype Token: zbiór danych lub NaN"
   ],
   "metadata": {
    "collapsed": false
   }
  },
  {
   "cell_type": "markdown",
   "source": [
    "## Kolumna ITEMS"
   ],
   "metadata": {
    "collapsed": false
   }
  },
  {
   "cell_type": "code",
   "execution_count": 48,
   "outputs": [],
   "source": [],
   "metadata": {
    "collapsed": false
   }
  },
  {
   "cell_type": "code",
   "execution_count": 49,
   "outputs": [
    {
     "name": "stdout",
     "output_type": "stream",
     "text": [
      "0      29\n",
      "1      13\n",
      "2      14\n",
      "3      17\n",
      "4      13\n",
      "       ..\n",
      "107    11\n",
      "108    24\n",
      "109     9\n",
      "110    40\n",
      "111    16\n",
      "Name: items, Length: 112, dtype: int64\n"
     ]
    }
   ],
   "source": [
    "items_len = db[\"items\"].apply(lambda x: len(x))\n",
    "print(items_len)"
   ],
   "metadata": {
    "collapsed": false
   }
  },
  {
   "cell_type": "code",
   "execution_count": 50,
   "outputs": [
    {
     "name": "stdout",
     "output_type": "stream",
     "text": [
      "max: 56\n",
      "min: 1\n"
     ]
    }
   ],
   "source": [
    "print(\"max:\", max(items_len))\n",
    "print(\"min:\", min(items_len))"
   ],
   "metadata": {
    "collapsed": false
   }
  },
  {
   "cell_type": "code",
   "execution_count": 101,
   "outputs": [],
   "source": [
    "items_list = db['items'].explode('items').apply(pd.Series)"
   ],
   "metadata": {
    "collapsed": false
   }
  },
  {
   "cell_type": "code",
   "execution_count": 102,
   "outputs": [
    {
     "name": "stdout",
     "output_type": "stream",
     "text": [
      "['_id' 'img' 'name' 'sort' 'system' 'type' 'flags']\n"
     ]
    }
   ],
   "source": [
    "print(items_list.columns.values)"
   ],
   "metadata": {
    "collapsed": false
   }
  },
  {
   "cell_type": "markdown",
   "source": [
    "Analiza przykładowej zawartości item"
   ],
   "metadata": {
    "collapsed": false
   }
  },
  {
   "cell_type": "code",
   "execution_count": 108,
   "outputs": [],
   "source": [
    "items = db.iloc[0]['items']"
   ],
   "metadata": {
    "collapsed": false
   }
  },
  {
   "cell_type": "code",
   "execution_count": 111,
   "outputs": [
    {
     "name": "stdout",
     "output_type": "stream",
     "text": [
      "29\n"
     ]
    }
   ],
   "source": [
    "print(len(items))\n",
    "items = pd.DataFrame(data=items)"
   ],
   "metadata": {
    "collapsed": false
   }
  },
  {
   "cell_type": "code",
   "execution_count": 112,
   "outputs": [
    {
     "name": "stdout",
     "output_type": "stream",
     "text": [
      "<class 'pandas.core.frame.DataFrame'>\n",
      "RangeIndex: 29 entries, 0 to 28\n",
      "Data columns (total 7 columns):\n",
      " #   Column  Non-Null Count  Dtype \n",
      "---  ------  --------------  ----- \n",
      " 0   _id     29 non-null     object\n",
      " 1   img     29 non-null     object\n",
      " 2   name    29 non-null     object\n",
      " 3   sort    29 non-null     int64 \n",
      " 4   system  29 non-null     object\n",
      " 5   type    29 non-null     object\n",
      " 6   flags   19 non-null     object\n",
      "dtypes: int64(1), object(6)\n",
      "memory usage: 1.7+ KB\n"
     ]
    }
   ],
   "source": [
    "items.info()"
   ],
   "metadata": {
    "collapsed": false
   }
  },
  {
   "cell_type": "markdown",
   "source": [
    "Items: Kolumny\n",
    "\n",
    "nie dla wszystkich takie same - nie zawsze pojawia się flags:\n",
    "* _id (raczej nie potrzebne do tego co robimy chyba że jakieś inne info są w innych bazach), możę się przydać późniejprzy sugestiach - co potwórtego typu powinien mieć? (✔/❌)\n",
    "* img (❌)\n",
    "* name - raczej nie skoro w razie w mamy id - może się przydać tak jak id(✔/❌)\n",
    "* sort - do sprawdzenia co to!!!!!!!!!!!!\n",
    "* system - do sprawdzenia !!!!!!!!!!!!!!!\n",
    "* type - może się przydać (✔/❌)\n",
    "* frags - do sprawdzenia !!!!!!!!!"
   ],
   "metadata": {
    "collapsed": false
   }
  },
  {
   "cell_type": "code",
   "execution_count": 113,
   "outputs": [
    {
     "data": {
      "text/plain": "                _id                                                img  \\\n0  thNxqBSaHQwe1kqj  systems/pf2e/icons/default-icons/spellcastingE...   \n1  JgGnEERmYAIJ8Hbc  systems/pf2e/icons/default-icons/spellcastingE...   \n2  z2quk2nw5Lv8ueRG  systems/pf2e/icons/default-icons/spellcastingE...   \n3  6NjcmGR2p4wezdc1            systems/pf2e/icons/spells/air-walk.webp   \n4  g1AfjgS3jHMG4MCw  systems/pf2e/icons/spells/freedom-of-movement....   \n\n                     name    sort  \\\n0  Primal Prepared Spells  100000   \n1    Primal Innate Spells  200000   \n2                 Rituals  300000   \n3                Air Walk  400000   \n4     Freedom of Movement  500000   \n\n                                              system               type  \\\n0  {'autoHeightenLevel': {'value': None}, 'descri...  spellcastingEntry   \n1  {'autoHeightenLevel': {'value': None}, 'descri...  spellcastingEntry   \n2  {'autoHeightenLevel': {'value': None}, 'descri...  spellcastingEntry   \n3  {'ability': {'value': ''}, 'area': None, 'cate...              spell   \n4  {'ability': {'value': ''}, 'area': None, 'cate...              spell   \n\n                                               flags  \n0                                                NaN  \n1                                                NaN  \n2                                                NaN  \n3  {'core': {'sourceId': 'Compendium.pf2e.spells-...  \n4  {'core': {'sourceId': 'Compendium.pf2e.spells-...  ",
      "text/html": "<div>\n<style scoped>\n    .dataframe tbody tr th:only-of-type {\n        vertical-align: middle;\n    }\n\n    .dataframe tbody tr th {\n        vertical-align: top;\n    }\n\n    .dataframe thead th {\n        text-align: right;\n    }\n</style>\n<table border=\"1\" class=\"dataframe\">\n  <thead>\n    <tr style=\"text-align: right;\">\n      <th></th>\n      <th>_id</th>\n      <th>img</th>\n      <th>name</th>\n      <th>sort</th>\n      <th>system</th>\n      <th>type</th>\n      <th>flags</th>\n    </tr>\n  </thead>\n  <tbody>\n    <tr>\n      <th>0</th>\n      <td>thNxqBSaHQwe1kqj</td>\n      <td>systems/pf2e/icons/default-icons/spellcastingE...</td>\n      <td>Primal Prepared Spells</td>\n      <td>100000</td>\n      <td>{'autoHeightenLevel': {'value': None}, 'descri...</td>\n      <td>spellcastingEntry</td>\n      <td>NaN</td>\n    </tr>\n    <tr>\n      <th>1</th>\n      <td>JgGnEERmYAIJ8Hbc</td>\n      <td>systems/pf2e/icons/default-icons/spellcastingE...</td>\n      <td>Primal Innate Spells</td>\n      <td>200000</td>\n      <td>{'autoHeightenLevel': {'value': None}, 'descri...</td>\n      <td>spellcastingEntry</td>\n      <td>NaN</td>\n    </tr>\n    <tr>\n      <th>2</th>\n      <td>z2quk2nw5Lv8ueRG</td>\n      <td>systems/pf2e/icons/default-icons/spellcastingE...</td>\n      <td>Rituals</td>\n      <td>300000</td>\n      <td>{'autoHeightenLevel': {'value': None}, 'descri...</td>\n      <td>spellcastingEntry</td>\n      <td>NaN</td>\n    </tr>\n    <tr>\n      <th>3</th>\n      <td>6NjcmGR2p4wezdc1</td>\n      <td>systems/pf2e/icons/spells/air-walk.webp</td>\n      <td>Air Walk</td>\n      <td>400000</td>\n      <td>{'ability': {'value': ''}, 'area': None, 'cate...</td>\n      <td>spell</td>\n      <td>{'core': {'sourceId': 'Compendium.pf2e.spells-...</td>\n    </tr>\n    <tr>\n      <th>4</th>\n      <td>g1AfjgS3jHMG4MCw</td>\n      <td>systems/pf2e/icons/spells/freedom-of-movement....</td>\n      <td>Freedom of Movement</td>\n      <td>500000</td>\n      <td>{'ability': {'value': ''}, 'area': None, 'cate...</td>\n      <td>spell</td>\n      <td>{'core': {'sourceId': 'Compendium.pf2e.spells-...</td>\n    </tr>\n  </tbody>\n</table>\n</div>"
     },
     "execution_count": 113,
     "metadata": {},
     "output_type": "execute_result"
    }
   ],
   "source": [
    "items.head()"
   ],
   "metadata": {
    "collapsed": false
   }
  },
  {
   "cell_type": "markdown",
   "source": [
    "Items: Kolumny\n",
    "\n",
    "* _id: id\n",
    "* img: img\n",
    "* name: nazwa\n",
    "* sort - dane liczbowe\n",
    "* system - kolejny słownik\n",
    "* type - nazwa\n",
    "* frags - NaN lub kolejny zbiór danych"
   ],
   "metadata": {
    "collapsed": false
   }
  },
  {
   "cell_type": "markdown",
   "source": [
    "### ITEM: System"
   ],
   "metadata": {
    "collapsed": false
   }
  },
  {
   "cell_type": "code",
   "execution_count": 117,
   "outputs": [
    {
     "name": "stdout",
     "output_type": "stream",
     "text": [
      "<bound method Series.keys of 0     {'autoHeightenLevel': {'value': None}, 'descri...\n",
      "1     {'autoHeightenLevel': {'value': None}, 'descri...\n",
      "2     {'autoHeightenLevel': {'value': None}, 'descri...\n",
      "3     {'ability': {'value': ''}, 'area': None, 'cate...\n",
      "4     {'ability': {'value': ''}, 'area': None, 'cate...\n",
      "5     {'ability': {'value': ''}, 'area': None, 'cate...\n",
      "6     {'ability': {'value': ''}, 'area': None, 'cate...\n",
      "7     {'ability': {'value': ''}, 'area': None, 'cate...\n",
      "8     {'ability': {'value': ''}, 'area': None, 'cate...\n",
      "9     {'ability': {'value': ''}, 'area': None, 'cate...\n",
      "10    {'ability': {'value': ''}, 'area': None, 'cate...\n",
      "11    {'ability': {'value': ''}, 'area': {'details':...\n",
      "12    {'ability': {'value': ''}, 'area': {'type': 'b...\n",
      "13    {'ability': {'value': ''}, 'area': None, 'cate...\n",
      "14    {'ability': {'value': ''}, 'area': {'type': 'e...\n",
      "15    {'ability': {'value': ''}, 'area': None, 'cate...\n",
      "16    {'ability': {'value': ''}, 'area': None, 'cate...\n",
      "17    {'ability': {'value': ''}, 'area': None, 'cate...\n",
      "18    {'ability': {'value': ''}, 'area': None, 'cate...\n",
      "19    {'attack': {'value': ''}, 'attackEffects': {'c...\n",
      "20    {'actionCategory': {'value': 'interaction'}, '...\n",
      "21    {'actionCategory': {'value': 'interaction'}, '...\n",
      "22    {'actionCategory': {'value': 'defensive'}, 'ac...\n",
      "23    {'actionCategory': {'value': 'defensive'}, 'ac...\n",
      "24    {'actionCategory': {'value': 'defensive'}, 'ac...\n",
      "25    {'actionCategory': {'value': 'offensive'}, 'ac...\n",
      "26    {'description': {'value': ''}, 'mod': {'value'...\n",
      "27    {'description': {'value': ''}, 'mod': {'value'...\n",
      "28    {'description': {'value': ''}, 'mod': {'value'...\n",
      "Name: system, dtype: object>\n"
     ]
    }
   ],
   "source": [
    "print(items.system)"
   ],
   "metadata": {
    "collapsed": false
   }
  },
  {
   "cell_type": "code",
   "execution_count": 144,
   "outputs": [
    {
     "name": "stdout",
     "output_type": "stream",
     "text": [
      "autoHeightenLevel                                         {'value': None}\n",
      "description                                                 {'value': ''}\n",
      "displayLevels                                                          {}\n",
      "prepared                         {'flexible': False, 'value': 'prepared'}\n",
      "proficiency                                                  {'value': 0}\n",
      "rules                                                                  []\n",
      "showSlotlessLevels                                        {'value': True}\n",
      "showUnpreparedSpells                                     {'value': False}\n",
      "slots                   {'slot0': {'max': 5, 'prepared': {'0': {'id': ...\n",
      "slug                                                                 None\n",
      "source                                                      {'value': ''}\n",
      "spelldc                                 {'dc': 28, 'mod': 0, 'value': 20}\n",
      "tradition                                             {'value': 'primal'}\n",
      "schema                  {'version': 0.8270000000000001, 'lastMigration...\n",
      "ability                                                               NaN\n",
      "area                                                                  NaN\n",
      "category                                                              NaN\n",
      "components                                                            NaN\n",
      "cost                                                                  NaN\n",
      "damage                                                                NaN\n",
      "duration                                                              NaN\n",
      "hasCounteractCheck                                                    NaN\n",
      "level                                                                 NaN\n",
      "location                                                              NaN\n",
      "materials                                                             NaN\n",
      "primarycheck                                                          NaN\n",
      "range                                                                 NaN\n",
      "save                                                                  NaN\n",
      "school                                                                NaN\n",
      "secondarycasters                                                      NaN\n",
      "secondarycheck                                                        NaN\n",
      "spellType                                                             NaN\n",
      "sustained                                                             NaN\n",
      "target                                                                NaN\n",
      "time                                                                  NaN\n",
      "traditions                                                            NaN\n",
      "traits                                                                NaN\n",
      "heightening                                                           NaN\n",
      "attack                                                                NaN\n",
      "attackEffects                                                         NaN\n",
      "bonus                                                                 NaN\n",
      "damageRolls                                                           NaN\n",
      "weaponType                                                            NaN\n",
      "actionCategory                                                        NaN\n",
      "actionType                                                            NaN\n",
      "actions                                                               NaN\n",
      "requirements                                                          NaN\n",
      "trigger                                                               NaN\n",
      "weapon                                                                NaN\n",
      "mod                                                                   NaN\n",
      "proficient                                                            NaN\n",
      "Name: 0, dtype: object\n",
      "Len = 51\n"
     ]
    }
   ],
   "source": [
    "# print(dict(items.iloc[[0]]))\n",
    "items_system = unpack_column(items, \"system\")"
   ],
   "metadata": {
    "collapsed": false
   }
  },
  {
   "cell_type": "code",
   "execution_count": 146,
   "outputs": [
    {
     "data": {
      "text/plain": "  autoHeightenLevel                                        description  \\\n0   {'value': None}                                      {'value': ''}   \n1   {'value': None}                                      {'value': ''}   \n2   {'value': None}                                      {'value': ''}   \n3               NaN  {'value': '<p>The target can walk on air as if...   \n4               NaN  {'value': '<p>You repel effects that would hin...   \n\n  displayLevels                                  prepared   proficiency rules  \\\n0            {}  {'flexible': False, 'value': 'prepared'}  {'value': 0}    []   \n1            {}    {'flexible': False, 'value': 'innate'}  {'value': 0}    []   \n2            {}    {'flexible': False, 'value': 'ritual'}  {'value': 0}    []   \n3           NaN                             {'value': ''}           NaN    []   \n4           NaN                             {'value': ''}           NaN    []   \n\n  showSlotlessLevels showUnpreparedSpells  \\\n0    {'value': True}     {'value': False}   \n1    {'value': True}     {'value': False}   \n2    {'value': True}      {'value': True}   \n3                NaN                  NaN   \n4                NaN                  NaN   \n\n                                               slots                 slug  \\\n0  {'slot0': {'max': 5, 'prepared': {'0': {'id': ...                 None   \n1  {'slot0': {'max': 0, 'prepared': [], 'value': ...                 None   \n2  {'slot0': {'max': 0, 'prepared': [], 'value': ...                 None   \n3                                                NaN             air-walk   \n4                                                NaN  freedom-of-movement   \n\n   ... damageRolls weaponType actionCategory actionType actions requirements  \\\n0  ...         NaN        NaN            NaN        NaN     NaN          NaN   \n1  ...         NaN        NaN            NaN        NaN     NaN          NaN   \n2  ...         NaN        NaN            NaN        NaN     NaN          NaN   \n3  ...         NaN        NaN            NaN        NaN     NaN          NaN   \n4  ...         NaN        NaN            NaN        NaN     NaN          NaN   \n\n  trigger weapon  mod proficient  \n0     NaN    NaN  NaN        NaN  \n1     NaN    NaN  NaN        NaN  \n2     NaN    NaN  NaN        NaN  \n3     NaN    NaN  NaN        NaN  \n4     NaN    NaN  NaN        NaN  \n\n[5 rows x 51 columns]",
      "text/html": "<div>\n<style scoped>\n    .dataframe tbody tr th:only-of-type {\n        vertical-align: middle;\n    }\n\n    .dataframe tbody tr th {\n        vertical-align: top;\n    }\n\n    .dataframe thead th {\n        text-align: right;\n    }\n</style>\n<table border=\"1\" class=\"dataframe\">\n  <thead>\n    <tr style=\"text-align: right;\">\n      <th></th>\n      <th>autoHeightenLevel</th>\n      <th>description</th>\n      <th>displayLevels</th>\n      <th>prepared</th>\n      <th>proficiency</th>\n      <th>rules</th>\n      <th>showSlotlessLevels</th>\n      <th>showUnpreparedSpells</th>\n      <th>slots</th>\n      <th>slug</th>\n      <th>...</th>\n      <th>damageRolls</th>\n      <th>weaponType</th>\n      <th>actionCategory</th>\n      <th>actionType</th>\n      <th>actions</th>\n      <th>requirements</th>\n      <th>trigger</th>\n      <th>weapon</th>\n      <th>mod</th>\n      <th>proficient</th>\n    </tr>\n  </thead>\n  <tbody>\n    <tr>\n      <th>0</th>\n      <td>{'value': None}</td>\n      <td>{'value': ''}</td>\n      <td>{}</td>\n      <td>{'flexible': False, 'value': 'prepared'}</td>\n      <td>{'value': 0}</td>\n      <td>[]</td>\n      <td>{'value': True}</td>\n      <td>{'value': False}</td>\n      <td>{'slot0': {'max': 5, 'prepared': {'0': {'id': ...</td>\n      <td>None</td>\n      <td>...</td>\n      <td>NaN</td>\n      <td>NaN</td>\n      <td>NaN</td>\n      <td>NaN</td>\n      <td>NaN</td>\n      <td>NaN</td>\n      <td>NaN</td>\n      <td>NaN</td>\n      <td>NaN</td>\n      <td>NaN</td>\n    </tr>\n    <tr>\n      <th>1</th>\n      <td>{'value': None}</td>\n      <td>{'value': ''}</td>\n      <td>{}</td>\n      <td>{'flexible': False, 'value': 'innate'}</td>\n      <td>{'value': 0}</td>\n      <td>[]</td>\n      <td>{'value': True}</td>\n      <td>{'value': False}</td>\n      <td>{'slot0': {'max': 0, 'prepared': [], 'value': ...</td>\n      <td>None</td>\n      <td>...</td>\n      <td>NaN</td>\n      <td>NaN</td>\n      <td>NaN</td>\n      <td>NaN</td>\n      <td>NaN</td>\n      <td>NaN</td>\n      <td>NaN</td>\n      <td>NaN</td>\n      <td>NaN</td>\n      <td>NaN</td>\n    </tr>\n    <tr>\n      <th>2</th>\n      <td>{'value': None}</td>\n      <td>{'value': ''}</td>\n      <td>{}</td>\n      <td>{'flexible': False, 'value': 'ritual'}</td>\n      <td>{'value': 0}</td>\n      <td>[]</td>\n      <td>{'value': True}</td>\n      <td>{'value': True}</td>\n      <td>{'slot0': {'max': 0, 'prepared': [], 'value': ...</td>\n      <td>None</td>\n      <td>...</td>\n      <td>NaN</td>\n      <td>NaN</td>\n      <td>NaN</td>\n      <td>NaN</td>\n      <td>NaN</td>\n      <td>NaN</td>\n      <td>NaN</td>\n      <td>NaN</td>\n      <td>NaN</td>\n      <td>NaN</td>\n    </tr>\n    <tr>\n      <th>3</th>\n      <td>NaN</td>\n      <td>{'value': '&lt;p&gt;The target can walk on air as if...</td>\n      <td>NaN</td>\n      <td>{'value': ''}</td>\n      <td>NaN</td>\n      <td>[]</td>\n      <td>NaN</td>\n      <td>NaN</td>\n      <td>NaN</td>\n      <td>air-walk</td>\n      <td>...</td>\n      <td>NaN</td>\n      <td>NaN</td>\n      <td>NaN</td>\n      <td>NaN</td>\n      <td>NaN</td>\n      <td>NaN</td>\n      <td>NaN</td>\n      <td>NaN</td>\n      <td>NaN</td>\n      <td>NaN</td>\n    </tr>\n    <tr>\n      <th>4</th>\n      <td>NaN</td>\n      <td>{'value': '&lt;p&gt;You repel effects that would hin...</td>\n      <td>NaN</td>\n      <td>{'value': ''}</td>\n      <td>NaN</td>\n      <td>[]</td>\n      <td>NaN</td>\n      <td>NaN</td>\n      <td>NaN</td>\n      <td>freedom-of-movement</td>\n      <td>...</td>\n      <td>NaN</td>\n      <td>NaN</td>\n      <td>NaN</td>\n      <td>NaN</td>\n      <td>NaN</td>\n      <td>NaN</td>\n      <td>NaN</td>\n      <td>NaN</td>\n      <td>NaN</td>\n      <td>NaN</td>\n    </tr>\n  </tbody>\n</table>\n<p>5 rows × 51 columns</p>\n</div>"
     },
     "execution_count": 146,
     "metadata": {},
     "output_type": "execute_result"
    }
   ],
   "source": [
    "items_system.head()"
   ],
   "metadata": {
    "collapsed": false
   }
  },
  {
   "cell_type": "code",
   "execution_count": 141,
   "outputs": [],
   "source": [
    "# type1 = pd.DataFrame.from_dict(data = dict(items.system.iloc[[0]]))\n",
    "# type2 = pd.DataFrame(items.system.iloc[[4]])\n",
    "# type3 = pd.DataFrame(items.system.iloc[[19]])\n",
    "# type4 = pd.DataFrame(items.system.iloc[[20]])\n",
    "# type5 = pd.DataFrame(items.system.iloc[[26]])\n",
    "# items_system_types = items['system'].apply(pd.Series)"
   ],
   "metadata": {
    "collapsed": false
   }
  },
  {
   "cell_type": "code",
   "execution_count": 142,
   "outputs": [
    {
     "name": "stdout",
     "output_type": "stream",
     "text": [
      "['autoHeightenLevel' 'description' 'displayLevels' 'prepared'\n",
      " 'proficiency' 'rules' 'showSlotlessLevels' 'showUnpreparedSpells' 'slots'\n",
      " 'slug' 'source' 'spelldc' 'tradition' 'schema' 'ability' 'area'\n",
      " 'category' 'components' 'cost' 'damage' 'duration' 'hasCounteractCheck'\n",
      " 'level' 'location' 'materials' 'primarycheck' 'range' 'save' 'school'\n",
      " 'secondarycasters' 'secondarycheck' 'spellType' 'sustained' 'target'\n",
      " 'time' 'traditions' 'traits' 'heightening' 'attack' 'attackEffects'\n",
      " 'bonus' 'damageRolls' 'weaponType' 'actionCategory' 'actionType'\n",
      " 'actions' 'requirements' 'trigger' 'weapon' 'mod' 'proficient']\n"
     ]
    }
   ],
   "source": [
    "# print(items_system_types.columns.values)"
   ],
   "metadata": {
    "collapsed": false
   }
  },
  {
   "cell_type": "code",
   "execution_count": 126,
   "outputs": [
    {
     "name": "stdout",
     "output_type": "stream",
     "text": [
      "<class 'pandas.core.frame.DataFrame'>\n",
      "Int64Index: 1 entries, 0 to 0\n",
      "Data columns (total 1 columns):\n",
      " #   Column  Non-Null Count  Dtype \n",
      "---  ------  --------------  ----- \n",
      " 0   system  1 non-null      object\n",
      "dtypes: object(1)\n",
      "memory usage: 16.0+ bytes\n"
     ]
    }
   ],
   "source": [
    "# type1.info()"
   ],
   "metadata": {
    "collapsed": false
   }
  },
  {
   "cell_type": "code",
   "execution_count": null,
   "outputs": [],
   "source": [],
   "metadata": {
    "collapsed": false
   }
  }
 ],
 "metadata": {
  "kernelspec": {
   "display_name": "Python 3",
   "language": "python",
   "name": "python3"
  },
  "language_info": {
   "codemirror_mode": {
    "name": "ipython",
    "version": 2
   },
   "file_extension": ".py",
   "mimetype": "text/x-python",
   "name": "python",
   "nbconvert_exporter": "python",
   "pygments_lexer": "ipython2",
   "version": "2.7.6"
  }
 },
 "nbformat": 4,
 "nbformat_minor": 0
}
