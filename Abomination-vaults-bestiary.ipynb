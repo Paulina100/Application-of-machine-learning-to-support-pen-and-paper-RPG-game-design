{
 "cells": [
  {
   "cell_type": "markdown",
   "source": [
    "# Analiza \"abomination-vaults-bestiary\"\n",
    "Import danych"
   ],
   "metadata": {
    "collapsed": false
   }
  },
  {
   "cell_type": "code",
   "execution_count": 46,
   "metadata": {
    "collapsed": true
   },
   "outputs": [],
   "source": [
    "import pandas as pd\n",
    "\n",
    "db = pd.read_json(\"pathfinder_2e_data/abomination-vaults-bestiary.db\", lines=True)"
   ]
  },
  {
   "cell_type": "code",
   "execution_count": 47,
   "outputs": [
    {
     "name": "stdout",
     "output_type": "stream",
     "text": [
      "<class 'pandas.core.frame.DataFrame'>\n",
      "RangeIndex: 112 entries, 0 to 111\n",
      "Data columns (total 8 columns):\n",
      " #   Column          Non-Null Count  Dtype \n",
      "---  ------          --------------  ----- \n",
      " 0   _id             112 non-null    object\n",
      " 1   img             112 non-null    object\n",
      " 2   items           112 non-null    object\n",
      " 3   name            112 non-null    object\n",
      " 4   system          112 non-null    object\n",
      " 5   type            112 non-null    object\n",
      " 6   flags           112 non-null    object\n",
      " 7   prototypeToken  10 non-null     object\n",
      "dtypes: object(8)\n",
      "memory usage: 7.1+ KB\n"
     ]
    }
   ],
   "source": [
    "db.info()"
   ],
   "metadata": {
    "collapsed": false
   }
  },
  {
   "cell_type": "markdown",
   "source": [
    "Kolumny -> we wszystkich bazach raczej to samo, ale sprawdzić można !!!!!!!:\n",
    "* _id (raczej nie potrzebne do tego co robimy chyba że jakieś inne info są w innych bazach) (✔/❌)\n",
    "* img (❌)\n",
    "* items - do sprawdzenia !!!!!!!!!!!!!!!!!\n",
    "* name - raczej nie skoro w razie w mamy id (❌)\n",
    "* system - do sprawdzenia !!!!!!!!!!!!!!!\n",
    "* type - może się przydać (✔)\n",
    "* flags - do sprawdzenia !!!!!!!!!!!!!\n",
    "* prototype Token - chyba zbędne, ale sprawdzę (❌/!!!!!!!!!!!)"
   ],
   "metadata": {
    "collapsed": false
   }
  },
  {
   "cell_type": "code",
   "execution_count": 48,
   "outputs": [
    {
     "data": {
      "text/plain": "                _id                                       img  \\\n0  00s3MhFQ4yOp2rTf  systems/pf2e/icons/default-icons/npc.svg   \n1  0jvmec4yJH1ASfRy  systems/pf2e/icons/default-icons/npc.svg   \n2  277uvPqG9RLMQUcO  systems/pf2e/icons/default-icons/npc.svg   \n3  2K0oJcLauMwyRNZQ  systems/pf2e/icons/default-icons/npc.svg   \n4  2TOXR7nKS6xPng2Y  systems/pf2e/icons/default-icons/npc.svg   \n\n                                               items                     name  \\\n0  [{'_id': 'thNxqBSaHQwe1kqj', 'img': 'systems/p...  Elder Child Of Belcorra   \n1  [{'_id': 'Kc9RfQ1ZLqepop3p', 'flags': {'core':...                 Urthagul   \n2  [{'_id': 'sdsJsKNzbvVK8R4I', 'img': 'systems/p...      Warped Brew Morlock   \n3  [{'_id': '0gD4v7579cLZZRwx', 'flags': {'core':...                 Murschen   \n4  [{'_id': 'OHEkKMalMOyLMyRM', 'img': 'systems/p...               Dread Wisp   \n\n                                              system type  \\\n0  {'abilities': {'cha': {'mod': 0}, 'con': {'mod...  npc   \n1  {'abilities': {'cha': {'mod': 0}, 'con': {'mod...  npc   \n2  {'abilities': {'cha': {'mod': 1}, 'con': {'mod...  npc   \n3  {'abilities': {'cha': {'mod': 1}, 'con': {'mod...  npc   \n4  {'abilities': {'cha': {'mod': 2}, 'con': {'mod...  npc   \n\n                                               flags       prototypeToken  \n0  {'core': {'sourceId': 'Compendium.pf2e.abomina...                  NaN  \n1  {'core': {'sourceId': 'Compendium.pf2e.abomina...                  NaN  \n2  {'core': {'sourceId': 'Compendium.pf2e.abomina...  {'name': 'Morlock'}  \n3  {'core': {'sourceId': 'Compendium.pf2e.abomina...                  NaN  \n4  {'core': {'sourceId': 'Compendium.pf2e.abomina...                  NaN  ",
      "text/html": "<div>\n<style scoped>\n    .dataframe tbody tr th:only-of-type {\n        vertical-align: middle;\n    }\n\n    .dataframe tbody tr th {\n        vertical-align: top;\n    }\n\n    .dataframe thead th {\n        text-align: right;\n    }\n</style>\n<table border=\"1\" class=\"dataframe\">\n  <thead>\n    <tr style=\"text-align: right;\">\n      <th></th>\n      <th>_id</th>\n      <th>img</th>\n      <th>items</th>\n      <th>name</th>\n      <th>system</th>\n      <th>type</th>\n      <th>flags</th>\n      <th>prototypeToken</th>\n    </tr>\n  </thead>\n  <tbody>\n    <tr>\n      <th>0</th>\n      <td>00s3MhFQ4yOp2rTf</td>\n      <td>systems/pf2e/icons/default-icons/npc.svg</td>\n      <td>[{'_id': 'thNxqBSaHQwe1kqj', 'img': 'systems/p...</td>\n      <td>Elder Child Of Belcorra</td>\n      <td>{'abilities': {'cha': {'mod': 0}, 'con': {'mod...</td>\n      <td>npc</td>\n      <td>{'core': {'sourceId': 'Compendium.pf2e.abomina...</td>\n      <td>NaN</td>\n    </tr>\n    <tr>\n      <th>1</th>\n      <td>0jvmec4yJH1ASfRy</td>\n      <td>systems/pf2e/icons/default-icons/npc.svg</td>\n      <td>[{'_id': 'Kc9RfQ1ZLqepop3p', 'flags': {'core':...</td>\n      <td>Urthagul</td>\n      <td>{'abilities': {'cha': {'mod': 0}, 'con': {'mod...</td>\n      <td>npc</td>\n      <td>{'core': {'sourceId': 'Compendium.pf2e.abomina...</td>\n      <td>NaN</td>\n    </tr>\n    <tr>\n      <th>2</th>\n      <td>277uvPqG9RLMQUcO</td>\n      <td>systems/pf2e/icons/default-icons/npc.svg</td>\n      <td>[{'_id': 'sdsJsKNzbvVK8R4I', 'img': 'systems/p...</td>\n      <td>Warped Brew Morlock</td>\n      <td>{'abilities': {'cha': {'mod': 1}, 'con': {'mod...</td>\n      <td>npc</td>\n      <td>{'core': {'sourceId': 'Compendium.pf2e.abomina...</td>\n      <td>{'name': 'Morlock'}</td>\n    </tr>\n    <tr>\n      <th>3</th>\n      <td>2K0oJcLauMwyRNZQ</td>\n      <td>systems/pf2e/icons/default-icons/npc.svg</td>\n      <td>[{'_id': '0gD4v7579cLZZRwx', 'flags': {'core':...</td>\n      <td>Murschen</td>\n      <td>{'abilities': {'cha': {'mod': 1}, 'con': {'mod...</td>\n      <td>npc</td>\n      <td>{'core': {'sourceId': 'Compendium.pf2e.abomina...</td>\n      <td>NaN</td>\n    </tr>\n    <tr>\n      <th>4</th>\n      <td>2TOXR7nKS6xPng2Y</td>\n      <td>systems/pf2e/icons/default-icons/npc.svg</td>\n      <td>[{'_id': 'OHEkKMalMOyLMyRM', 'img': 'systems/p...</td>\n      <td>Dread Wisp</td>\n      <td>{'abilities': {'cha': {'mod': 2}, 'con': {'mod...</td>\n      <td>npc</td>\n      <td>{'core': {'sourceId': 'Compendium.pf2e.abomina...</td>\n      <td>NaN</td>\n    </tr>\n  </tbody>\n</table>\n</div>"
     },
     "execution_count": 48,
     "metadata": {},
     "output_type": "execute_result"
    }
   ],
   "source": [
    "db.head()"
   ],
   "metadata": {
    "collapsed": false
   }
  },
  {
   "cell_type": "markdown",
   "source": [
    "* id: jak id - jakieś znaczki\n",
    "* img: img\n",
    "* items: kolejny zbiór danych\n",
    "* name: imie\n",
    "* system: kolejny zbiór danych\n",
    "* type: typ\n",
    "* flags: kolejny zbiór danych\n",
    "* prototype Token: zbiór danych lub NaN"
   ],
   "metadata": {
    "collapsed": false
   }
  },
  {
   "cell_type": "markdown",
   "source": [
    "## Kolumna ITEMS"
   ],
   "metadata": {
    "collapsed": false
   }
  },
  {
   "cell_type": "code",
   "execution_count": 48,
   "outputs": [],
   "source": [],
   "metadata": {
    "collapsed": false
   }
  },
  {
   "cell_type": "code",
   "execution_count": 49,
   "outputs": [
    {
     "name": "stdout",
     "output_type": "stream",
     "text": [
      "0      29\n",
      "1      13\n",
      "2      14\n",
      "3      17\n",
      "4      13\n",
      "       ..\n",
      "107    11\n",
      "108    24\n",
      "109     9\n",
      "110    40\n",
      "111    16\n",
      "Name: items, Length: 112, dtype: int64\n"
     ]
    }
   ],
   "source": [
    "items_len = db[\"items\"].apply(lambda x: len(x))\n",
    "print(items_len)"
   ],
   "metadata": {
    "collapsed": false
   }
  },
  {
   "cell_type": "code",
   "execution_count": 50,
   "outputs": [
    {
     "name": "stdout",
     "output_type": "stream",
     "text": [
      "max: 56\n",
      "min: 1\n"
     ]
    }
   ],
   "source": [
    "print(\"max:\", max(items_len))\n",
    "print(\"min:\", min(items_len))"
   ],
   "metadata": {
    "collapsed": false
   }
  },
  {
   "cell_type": "code",
   "execution_count": 101,
   "outputs": [],
   "source": [
    "items_list = db['items'].explode('items').apply(pd.Series)"
   ],
   "metadata": {
    "collapsed": false
   }
  },
  {
   "cell_type": "code",
   "execution_count": 102,
   "outputs": [
    {
     "name": "stdout",
     "output_type": "stream",
     "text": [
      "['_id' 'img' 'name' 'sort' 'system' 'type' 'flags']\n"
     ]
    }
   ],
   "source": [
    "print(items_list.columns.values)"
   ],
   "metadata": {
    "collapsed": false
   }
  },
  {
   "cell_type": "markdown",
   "source": [
    "Analiza przykładowej zawartości item"
   ],
   "metadata": {
    "collapsed": false
   }
  },
  {
   "cell_type": "code",
   "execution_count": 108,
   "outputs": [],
   "source": [
    "items = db.iloc[0]['items']"
   ],
   "metadata": {
    "collapsed": false
   }
  },
  {
   "cell_type": "code",
   "execution_count": 111,
   "outputs": [
    {
     "name": "stdout",
     "output_type": "stream",
     "text": [
      "29\n"
     ]
    }
   ],
   "source": [
    "print(len(items))\n",
    "items = pd.DataFrame(data=items)"
   ],
   "metadata": {
    "collapsed": false
   }
  },
  {
   "cell_type": "code",
   "execution_count": 112,
   "outputs": [
    {
     "name": "stdout",
     "output_type": "stream",
     "text": [
      "<class 'pandas.core.frame.DataFrame'>\n",
      "RangeIndex: 29 entries, 0 to 28\n",
      "Data columns (total 7 columns):\n",
      " #   Column  Non-Null Count  Dtype \n",
      "---  ------  --------------  ----- \n",
      " 0   _id     29 non-null     object\n",
      " 1   img     29 non-null     object\n",
      " 2   name    29 non-null     object\n",
      " 3   sort    29 non-null     int64 \n",
      " 4   system  29 non-null     object\n",
      " 5   type    29 non-null     object\n",
      " 6   flags   19 non-null     object\n",
      "dtypes: int64(1), object(6)\n",
      "memory usage: 1.7+ KB\n"
     ]
    }
   ],
   "source": [
    "items.info()"
   ],
   "metadata": {
    "collapsed": false
   }
  },
  {
   "cell_type": "markdown",
   "source": [
    "Items: Kolumny\n",
    "\n",
    "nie dla wszystkich takie same - nie zawsze pojawia się flags:\n",
    "* _id (raczej nie potrzebne do tego co robimy chyba że jakieś inne info są w innych bazach), możę się przydać późniejprzy sugestiach - co potwórtego typu powinien mieć? (✔/❌)\n",
    "* img (❌)\n",
    "* name - raczej nie skoro w razie w mamy id - może się przydać tak jak id(✔/❌)\n",
    "* sort - do sprawdzenia co to!!!!!!!!!!!!\n",
    "* system - do sprawdzenia !!!!!!!!!!!!!!!\n",
    "* type - może się przydać (✔/❌)\n",
    "* frags - do sprawdzenia !!!!!!!!!"
   ],
   "metadata": {
    "collapsed": false
   }
  },
  {
   "cell_type": "code",
   "execution_count": 113,
   "outputs": [
    {
     "data": {
      "text/plain": "                _id                                                img  \\\n0  thNxqBSaHQwe1kqj  systems/pf2e/icons/default-icons/spellcastingE...   \n1  JgGnEERmYAIJ8Hbc  systems/pf2e/icons/default-icons/spellcastingE...   \n2  z2quk2nw5Lv8ueRG  systems/pf2e/icons/default-icons/spellcastingE...   \n3  6NjcmGR2p4wezdc1            systems/pf2e/icons/spells/air-walk.webp   \n4  g1AfjgS3jHMG4MCw  systems/pf2e/icons/spells/freedom-of-movement....   \n\n                     name    sort  \\\n0  Primal Prepared Spells  100000   \n1    Primal Innate Spells  200000   \n2                 Rituals  300000   \n3                Air Walk  400000   \n4     Freedom of Movement  500000   \n\n                                              system               type  \\\n0  {'autoHeightenLevel': {'value': None}, 'descri...  spellcastingEntry   \n1  {'autoHeightenLevel': {'value': None}, 'descri...  spellcastingEntry   \n2  {'autoHeightenLevel': {'value': None}, 'descri...  spellcastingEntry   \n3  {'ability': {'value': ''}, 'area': None, 'cate...              spell   \n4  {'ability': {'value': ''}, 'area': None, 'cate...              spell   \n\n                                               flags  \n0                                                NaN  \n1                                                NaN  \n2                                                NaN  \n3  {'core': {'sourceId': 'Compendium.pf2e.spells-...  \n4  {'core': {'sourceId': 'Compendium.pf2e.spells-...  ",
      "text/html": "<div>\n<style scoped>\n    .dataframe tbody tr th:only-of-type {\n        vertical-align: middle;\n    }\n\n    .dataframe tbody tr th {\n        vertical-align: top;\n    }\n\n    .dataframe thead th {\n        text-align: right;\n    }\n</style>\n<table border=\"1\" class=\"dataframe\">\n  <thead>\n    <tr style=\"text-align: right;\">\n      <th></th>\n      <th>_id</th>\n      <th>img</th>\n      <th>name</th>\n      <th>sort</th>\n      <th>system</th>\n      <th>type</th>\n      <th>flags</th>\n    </tr>\n  </thead>\n  <tbody>\n    <tr>\n      <th>0</th>\n      <td>thNxqBSaHQwe1kqj</td>\n      <td>systems/pf2e/icons/default-icons/spellcastingE...</td>\n      <td>Primal Prepared Spells</td>\n      <td>100000</td>\n      <td>{'autoHeightenLevel': {'value': None}, 'descri...</td>\n      <td>spellcastingEntry</td>\n      <td>NaN</td>\n    </tr>\n    <tr>\n      <th>1</th>\n      <td>JgGnEERmYAIJ8Hbc</td>\n      <td>systems/pf2e/icons/default-icons/spellcastingE...</td>\n      <td>Primal Innate Spells</td>\n      <td>200000</td>\n      <td>{'autoHeightenLevel': {'value': None}, 'descri...</td>\n      <td>spellcastingEntry</td>\n      <td>NaN</td>\n    </tr>\n    <tr>\n      <th>2</th>\n      <td>z2quk2nw5Lv8ueRG</td>\n      <td>systems/pf2e/icons/default-icons/spellcastingE...</td>\n      <td>Rituals</td>\n      <td>300000</td>\n      <td>{'autoHeightenLevel': {'value': None}, 'descri...</td>\n      <td>spellcastingEntry</td>\n      <td>NaN</td>\n    </tr>\n    <tr>\n      <th>3</th>\n      <td>6NjcmGR2p4wezdc1</td>\n      <td>systems/pf2e/icons/spells/air-walk.webp</td>\n      <td>Air Walk</td>\n      <td>400000</td>\n      <td>{'ability': {'value': ''}, 'area': None, 'cate...</td>\n      <td>spell</td>\n      <td>{'core': {'sourceId': 'Compendium.pf2e.spells-...</td>\n    </tr>\n    <tr>\n      <th>4</th>\n      <td>g1AfjgS3jHMG4MCw</td>\n      <td>systems/pf2e/icons/spells/freedom-of-movement....</td>\n      <td>Freedom of Movement</td>\n      <td>500000</td>\n      <td>{'ability': {'value': ''}, 'area': None, 'cate...</td>\n      <td>spell</td>\n      <td>{'core': {'sourceId': 'Compendium.pf2e.spells-...</td>\n    </tr>\n  </tbody>\n</table>\n</div>"
     },
     "execution_count": 113,
     "metadata": {},
     "output_type": "execute_result"
    }
   ],
   "source": [
    "items.head()"
   ],
   "metadata": {
    "collapsed": false
   }
  },
  {
   "cell_type": "markdown",
   "source": [
    "Items: Kolumny\n",
    "\n",
    "* _id: id\n",
    "* img: img\n",
    "* name: nazwa\n",
    "* sort - dane liczbowe\n",
    "* system - kolejny słownik\n",
    "* type - nazwa\n",
    "* frags - NaN lub kolejny zbiór danych"
   ],
   "metadata": {
    "collapsed": false
   }
  },
  {
   "cell_type": "markdown",
   "source": [],
   "metadata": {
    "collapsed": false
   }
  },
  {
   "cell_type": "code",
   "execution_count": null,
   "outputs": [],
   "source": [],
   "metadata": {
    "collapsed": false
   }
  }
 ],
 "metadata": {
  "kernelspec": {
   "display_name": "Python 3",
   "language": "python",
   "name": "python3"
  },
  "language_info": {
   "codemirror_mode": {
    "name": "ipython",
    "version": 2
   },
   "file_extension": ".py",
   "mimetype": "text/x-python",
   "name": "python",
   "nbconvert_exporter": "python",
   "pygments_lexer": "ipython2",
   "version": "2.7.6"
  }
 },
 "nbformat": 4,
 "nbformat_minor": 0
}
