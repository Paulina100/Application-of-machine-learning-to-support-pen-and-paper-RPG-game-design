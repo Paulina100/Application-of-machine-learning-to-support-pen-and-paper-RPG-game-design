{
 "cells": [
  {
   "cell_type": "markdown",
   "source": [
    "# Analysis of items column\n",
    "### subcolumns: _id, img, name, sort, type, flags\n",
    "Load bestiaries"
   ],
   "metadata": {
    "collapsed": false
   }
  },
  {
   "cell_type": "code",
   "execution_count": 1,
   "metadata": {
    "collapsed": true
   },
   "outputs": [],
   "source": [
    "import pathlib\n",
    "import pandas as pd\n",
    "from training.analysis_functions import get_merged_bestiaries, unpack_column_with_null\n",
    "\n",
    "\n",
    "DATASETS_DIR = \"../../pathfinder_2e_data/\"\n",
    "DATASET_FILES = [\n",
    "    \"pathfinder-bestiary.db\",\n",
    "    \"pathfinder-bestiary-2.db\",\n",
    "    \"pathfinder-bestiary-3.db\",\n",
    "]\n",
    "DATASET_PATHS = [f\"{DATASETS_DIR}/{file}\" for file in DATASET_FILES]\n",
    "\n",
    "bestiary = get_merged_bestiaries(DATASET_PATHS)"
   ]
  },
  {
   "cell_type": "code",
   "execution_count": 2,
   "outputs": [
    {
     "name": "stdout",
     "output_type": "stream",
     "text": [
      "<class 'pandas.core.frame.DataFrame'>\n",
      "RangeIndex: 1206 entries, 0 to 1205\n",
      "Data columns (total 8 columns):\n",
      " #   Column          Non-Null Count  Dtype \n",
      "---  ------          --------------  ----- \n",
      " 0   _id             1206 non-null   object\n",
      " 1   img             1206 non-null   object\n",
      " 2   items           1206 non-null   object\n",
      " 3   name            1206 non-null   object\n",
      " 4   system          1206 non-null   object\n",
      " 5   type            1206 non-null   object\n",
      " 6   flags           1206 non-null   object\n",
      " 7   prototypeToken  85 non-null     object\n",
      "dtypes: object(8)\n",
      "memory usage: 75.5+ KB\n"
     ]
    }
   ],
   "source": [
    "bestiary.info()"
   ],
   "metadata": {
    "collapsed": false
   }
  },
  {
   "cell_type": "code",
   "execution_count": 3,
   "outputs": [
    {
     "data": {
      "text/plain": "                _id                                       img  \\\n0  024PqcF8yMRBrPuq  systems/pf2e/icons/default-icons/npc.svg   \n1  05E3kkjoLZVjFOeO  systems/pf2e/icons/default-icons/npc.svg   \n2  05wwpHHsBlxBbdkN  systems/pf2e/icons/default-icons/npc.svg   \n3  0FGz2eXm0SB04sJW  systems/pf2e/icons/default-icons/npc.svg   \n4  0HjVFx8qIKDCfblg  systems/pf2e/icons/default-icons/npc.svg   \n\n                                               items                  name  \\\n0  [{'_id': 'B7rzf0nBJmzg8x0y', 'img': 'systems/p...    Adult White Dragon   \n1  [{'_id': 'mYNDkS27YQRyy1F0', 'img': 'systems/p...          Brontosaurus   \n2  [{'_id': 'WkPeg600zGONsuJz', 'img': 'systems/p...        Giant Anaconda   \n3  [{'_id': 'joBYS96mXSnZC1WB', 'img': 'systems/p...  Ancient Green Dragon   \n4  [{'_id': 'xlUnQcjrxeMXu5Cd', 'img': 'systems/p...        Lantern Archon   \n\n                                              system type  \\\n0  {'abilities': {'cha': {'mod': 1}, 'con': {'mod...  npc   \n1  {'abilities': {'cha': {'mod': 1}, 'con': {'mod...  npc   \n2  {'abilities': {'cha': {'mod': -2}, 'con': {'mo...  npc   \n3  {'abilities': {'cha': {'mod': 6}, 'con': {'mod...  npc   \n4  {'abilities': {'cha': {'mod': 1}, 'con': {'mod...  npc   \n\n                                               flags prototypeToken  \n0  {'core': {'sourceId': 'Compendium.pf2e.pathfin...            NaN  \n1  {'core': {'sourceId': 'Compendium.pf2e.pathfin...            NaN  \n2  {'core': {'sourceId': 'Compendium.pf2e.pathfin...            NaN  \n3  {'core': {'sourceId': 'Compendium.pf2e.pathfin...            NaN  \n4  {'core': {'sourceId': 'Compendium.pf2e.pathfin...            NaN  ",
      "text/html": "<div>\n<style scoped>\n    .dataframe tbody tr th:only-of-type {\n        vertical-align: middle;\n    }\n\n    .dataframe tbody tr th {\n        vertical-align: top;\n    }\n\n    .dataframe thead th {\n        text-align: right;\n    }\n</style>\n<table border=\"1\" class=\"dataframe\">\n  <thead>\n    <tr style=\"text-align: right;\">\n      <th></th>\n      <th>_id</th>\n      <th>img</th>\n      <th>items</th>\n      <th>name</th>\n      <th>system</th>\n      <th>type</th>\n      <th>flags</th>\n      <th>prototypeToken</th>\n    </tr>\n  </thead>\n  <tbody>\n    <tr>\n      <th>0</th>\n      <td>024PqcF8yMRBrPuq</td>\n      <td>systems/pf2e/icons/default-icons/npc.svg</td>\n      <td>[{'_id': 'B7rzf0nBJmzg8x0y', 'img': 'systems/p...</td>\n      <td>Adult White Dragon</td>\n      <td>{'abilities': {'cha': {'mod': 1}, 'con': {'mod...</td>\n      <td>npc</td>\n      <td>{'core': {'sourceId': 'Compendium.pf2e.pathfin...</td>\n      <td>NaN</td>\n    </tr>\n    <tr>\n      <th>1</th>\n      <td>05E3kkjoLZVjFOeO</td>\n      <td>systems/pf2e/icons/default-icons/npc.svg</td>\n      <td>[{'_id': 'mYNDkS27YQRyy1F0', 'img': 'systems/p...</td>\n      <td>Brontosaurus</td>\n      <td>{'abilities': {'cha': {'mod': 1}, 'con': {'mod...</td>\n      <td>npc</td>\n      <td>{'core': {'sourceId': 'Compendium.pf2e.pathfin...</td>\n      <td>NaN</td>\n    </tr>\n    <tr>\n      <th>2</th>\n      <td>05wwpHHsBlxBbdkN</td>\n      <td>systems/pf2e/icons/default-icons/npc.svg</td>\n      <td>[{'_id': 'WkPeg600zGONsuJz', 'img': 'systems/p...</td>\n      <td>Giant Anaconda</td>\n      <td>{'abilities': {'cha': {'mod': -2}, 'con': {'mo...</td>\n      <td>npc</td>\n      <td>{'core': {'sourceId': 'Compendium.pf2e.pathfin...</td>\n      <td>NaN</td>\n    </tr>\n    <tr>\n      <th>3</th>\n      <td>0FGz2eXm0SB04sJW</td>\n      <td>systems/pf2e/icons/default-icons/npc.svg</td>\n      <td>[{'_id': 'joBYS96mXSnZC1WB', 'img': 'systems/p...</td>\n      <td>Ancient Green Dragon</td>\n      <td>{'abilities': {'cha': {'mod': 6}, 'con': {'mod...</td>\n      <td>npc</td>\n      <td>{'core': {'sourceId': 'Compendium.pf2e.pathfin...</td>\n      <td>NaN</td>\n    </tr>\n    <tr>\n      <th>4</th>\n      <td>0HjVFx8qIKDCfblg</td>\n      <td>systems/pf2e/icons/default-icons/npc.svg</td>\n      <td>[{'_id': 'xlUnQcjrxeMXu5Cd', 'img': 'systems/p...</td>\n      <td>Lantern Archon</td>\n      <td>{'abilities': {'cha': {'mod': 1}, 'con': {'mod...</td>\n      <td>npc</td>\n      <td>{'core': {'sourceId': 'Compendium.pf2e.pathfin...</td>\n      <td>NaN</td>\n    </tr>\n  </tbody>\n</table>\n</div>"
     },
     "execution_count": 3,
     "metadata": {},
     "output_type": "execute_result"
    }
   ],
   "source": [
    "bestiary.head()"
   ],
   "metadata": {
    "collapsed": false
   }
  },
  {
   "cell_type": "markdown",
   "source": [
    "*items* column have lists of items for each monster in bestiaries\n",
    "\n",
    "Collect a list of all items in bestiaries:"
   ],
   "metadata": {
    "collapsed": false
   }
  },
  {
   "cell_type": "code",
   "execution_count": 4,
   "outputs": [],
   "source": [
    "items_data = []\n",
    "for _, val in bestiary[\"items\"].iteritems():\n",
    "    items_data += val"
   ],
   "metadata": {
    "collapsed": false
   }
  },
  {
   "cell_type": "code",
   "execution_count": 5,
   "outputs": [
    {
     "name": "stdout",
     "output_type": "stream",
     "text": [
      "All items in 3 basic bestiaries: 21731 - chance that they are not unique\n"
     ]
    }
   ],
   "source": [
    "print(\n",
    "    f\"All items in 3 basic bestiaries: {len(items_data)} - chance that they are not unique\"\n",
    ")"
   ],
   "metadata": {
    "collapsed": false
   }
  },
  {
   "cell_type": "code",
   "execution_count": 6,
   "outputs": [],
   "source": [
    "items = pd.DataFrame.from_dict(data=items_data)  # load data to DataFrame"
   ],
   "metadata": {
    "collapsed": false
   }
  },
  {
   "cell_type": "code",
   "execution_count": 7,
   "outputs": [
    {
     "name": "stdout",
     "output_type": "stream",
     "text": [
      "<class 'pandas.core.frame.DataFrame'>\n",
      "RangeIndex: 21731 entries, 0 to 21730\n",
      "Data columns (total 7 columns):\n",
      " #   Column  Non-Null Count  Dtype \n",
      "---  ------  --------------  ----- \n",
      " 0   _id     21731 non-null  object\n",
      " 1   img     21731 non-null  object\n",
      " 2   name    21731 non-null  object\n",
      " 3   sort    21731 non-null  int64 \n",
      " 4   system  21731 non-null  object\n",
      " 5   type    21731 non-null  object\n",
      " 6   flags   10037 non-null  object\n",
      "dtypes: int64(1), object(6)\n",
      "memory usage: 1.2+ MB\n"
     ]
    }
   ],
   "source": [
    "items.info()  # info about items data structure"
   ],
   "metadata": {
    "collapsed": false
   }
  },
  {
   "cell_type": "code",
   "execution_count": 8,
   "outputs": [
    {
     "data": {
      "text/plain": "                _id                                                img  \\\n0  B7rzf0nBJmzg8x0y  systems/pf2e/icons/default-icons/spellcastingE...   \n1  ac9hRct9QTDrzhy1      systems/pf2e/icons/spells/obscuring-mist.webp   \n2  ui2iVt9gJcMIs6H5        systems/pf2e/icons/spells/gust-of-wind.webp   \n3  pmqefsGShf77p3Zd         systems/pf2e/icons/default-icons/melee.svg   \n4  h6wQ76GXx0XhL0rW         systems/pf2e/icons/default-icons/melee.svg   \n\n                       name    sort  \\\n0      Arcane Innate Spells  100000   \n1  Obscuring Mist (At Will)  200000   \n2    Gust of Wind (At Will)  300000   \n3                      Jaws  400000   \n4                      Claw  500000   \n\n                                              system               type  \\\n0  {'autoHeightenLevel': {'value': None}, 'descri...  spellcastingEntry   \n1  {'ability': {'value': ''}, 'area': {'type': 'b...              spell   \n2  {'ability': {'value': ''}, 'area': {'type': 'l...              spell   \n3  {'attack': {'value': ''}, 'attackEffects': {'c...              melee   \n4  {'attack': {'value': ''}, 'attackEffects': {'c...              melee   \n\n                                               flags  \n0                                                NaN  \n1  {'core': {'sourceId': 'Compendium.pf2e.spells-...  \n2  {'core': {'sourceId': 'Compendium.pf2e.spells-...  \n3                                                NaN  \n4                                                NaN  ",
      "text/html": "<div>\n<style scoped>\n    .dataframe tbody tr th:only-of-type {\n        vertical-align: middle;\n    }\n\n    .dataframe tbody tr th {\n        vertical-align: top;\n    }\n\n    .dataframe thead th {\n        text-align: right;\n    }\n</style>\n<table border=\"1\" class=\"dataframe\">\n  <thead>\n    <tr style=\"text-align: right;\">\n      <th></th>\n      <th>_id</th>\n      <th>img</th>\n      <th>name</th>\n      <th>sort</th>\n      <th>system</th>\n      <th>type</th>\n      <th>flags</th>\n    </tr>\n  </thead>\n  <tbody>\n    <tr>\n      <th>0</th>\n      <td>B7rzf0nBJmzg8x0y</td>\n      <td>systems/pf2e/icons/default-icons/spellcastingE...</td>\n      <td>Arcane Innate Spells</td>\n      <td>100000</td>\n      <td>{'autoHeightenLevel': {'value': None}, 'descri...</td>\n      <td>spellcastingEntry</td>\n      <td>NaN</td>\n    </tr>\n    <tr>\n      <th>1</th>\n      <td>ac9hRct9QTDrzhy1</td>\n      <td>systems/pf2e/icons/spells/obscuring-mist.webp</td>\n      <td>Obscuring Mist (At Will)</td>\n      <td>200000</td>\n      <td>{'ability': {'value': ''}, 'area': {'type': 'b...</td>\n      <td>spell</td>\n      <td>{'core': {'sourceId': 'Compendium.pf2e.spells-...</td>\n    </tr>\n    <tr>\n      <th>2</th>\n      <td>ui2iVt9gJcMIs6H5</td>\n      <td>systems/pf2e/icons/spells/gust-of-wind.webp</td>\n      <td>Gust of Wind (At Will)</td>\n      <td>300000</td>\n      <td>{'ability': {'value': ''}, 'area': {'type': 'l...</td>\n      <td>spell</td>\n      <td>{'core': {'sourceId': 'Compendium.pf2e.spells-...</td>\n    </tr>\n    <tr>\n      <th>3</th>\n      <td>pmqefsGShf77p3Zd</td>\n      <td>systems/pf2e/icons/default-icons/melee.svg</td>\n      <td>Jaws</td>\n      <td>400000</td>\n      <td>{'attack': {'value': ''}, 'attackEffects': {'c...</td>\n      <td>melee</td>\n      <td>NaN</td>\n    </tr>\n    <tr>\n      <th>4</th>\n      <td>h6wQ76GXx0XhL0rW</td>\n      <td>systems/pf2e/icons/default-icons/melee.svg</td>\n      <td>Claw</td>\n      <td>500000</td>\n      <td>{'attack': {'value': ''}, 'attackEffects': {'c...</td>\n      <td>melee</td>\n      <td>NaN</td>\n    </tr>\n  </tbody>\n</table>\n</div>"
     },
     "execution_count": 8,
     "metadata": {},
     "output_type": "execute_result"
    }
   ],
   "source": [
    "items.head()  # 5 first items"
   ],
   "metadata": {
    "collapsed": false
   }
  },
  {
   "cell_type": "markdown",
   "source": [
    "## _id"
   ],
   "metadata": {
    "collapsed": false
   }
  },
  {
   "cell_type": "code",
   "execution_count": 9,
   "outputs": [
    {
     "data": {
      "text/plain": "9yu44cM7W0Xg2Q36    20\nOiqxjokle1WbAEyL    20\nHUJdrgu9JAWlm7bC    20\nEQXIJxQUnrxqkozp     9\n1wzRDApjBjNJk4YU     9\n                    ..\nTTpnkaK9B6Lsytya     1\nMf6oyfENXSeMgM7o     1\n6Z8Si7EyPGbAS0VJ     1\nib3hNOxGFodAt0fV     1\nvRINsQt7kOgbqixu     1\nName: _id, Length: 19654, dtype: int64"
     },
     "execution_count": 9,
     "metadata": {},
     "output_type": "execute_result"
    }
   ],
   "source": [
    "items._id.value_counts()"
   ],
   "metadata": {
    "collapsed": false
   }
  },
  {
   "cell_type": "markdown",
   "source": [
    "Not only unique items"
   ],
   "metadata": {
    "collapsed": false
   }
  },
  {
   "cell_type": "code",
   "execution_count": 10,
   "outputs": [
    {
     "name": "stdout",
     "output_type": "stream",
     "text": [
      "Number of unique items ids: 19654\n"
     ]
    }
   ],
   "source": [
    "print(f\"Number of unique items ids: {len(items._id.unique())}\")"
   ],
   "metadata": {
    "collapsed": false
   }
  },
  {
   "cell_type": "markdown",
   "source": [
    "Just ids\n",
    "\n",
    "*Not important*"
   ],
   "metadata": {
    "collapsed": false
   }
  },
  {
   "cell_type": "markdown",
   "source": [
    "## img\n",
    "Just image of item\n",
    "\n",
    "*Not important*"
   ],
   "metadata": {
    "collapsed": false
   }
  },
  {
   "cell_type": "markdown",
   "source": [
    "## name"
   ],
   "metadata": {
    "collapsed": false
   }
  },
  {
   "cell_type": "code",
   "execution_count": 11,
   "outputs": [
    {
     "data": {
      "text/plain": "Athletics          878\nStealth            810\nDarkvision         810\nAcrobatics         721\nIntimidation       443\n                  ... \nAmplify Voltage      1\nDischarge            1\nShocking Burst       1\nVile Touch           1\nDeath Umbra          1\nName: name, Length: 3912, dtype: int64"
     },
     "execution_count": 11,
     "metadata": {},
     "output_type": "execute_result"
    }
   ],
   "source": [
    "items.name.value_counts()"
   ],
   "metadata": {
    "collapsed": false
   }
  },
  {
   "cell_type": "code",
   "execution_count": 12,
   "outputs": [
    {
     "name": "stdout",
     "output_type": "stream",
     "text": [
      "Unique items names: 3912\n"
     ]
    }
   ],
   "source": [
    "print(f\"Unique items names: {len(items.name.unique())}\")"
   ],
   "metadata": {
    "collapsed": false
   }
  },
  {
   "cell_type": "markdown",
   "source": [
    "More unique ids than names\n",
    "\n",
    "Just a name of an item\n",
    "\n",
    "*Not important*"
   ],
   "metadata": {
    "collapsed": false
   }
  },
  {
   "cell_type": "markdown",
   "source": [
    "## Sort"
   ],
   "metadata": {
    "collapsed": false
   }
  },
  {
   "cell_type": "code",
   "execution_count": 13,
   "outputs": [
    {
     "data": {
      "text/plain": "100000     1206\n200000     1206\n300000     1206\n400000     1205\n500000     1199\n           ... \n7200000       1\n7100000       1\n7000000       1\n6800000       1\n7700000       1\nName: sort, Length: 77, dtype: int64"
     },
     "execution_count": 13,
     "metadata": {},
     "output_type": "execute_result"
    }
   ],
   "source": [
    "items.sort.value_counts()"
   ],
   "metadata": {
    "collapsed": false
   }
  },
  {
   "cell_type": "code",
   "execution_count": 14,
   "outputs": [
    {
     "data": {
      "text/plain": "_id                                        B7rzf0nBJmzg8x0y\nimg       systems/pf2e/icons/default-icons/spellcastingE...\nname                                   Arcane Innate Spells\nsort                                                 100000\nsystem    {'autoHeightenLevel': {'value': None}, 'descri...\ntype                                      spellcastingEntry\nflags                                                   NaN\nName: 0, dtype: object"
     },
     "execution_count": 14,
     "metadata": {},
     "output_type": "execute_result"
    }
   ],
   "source": [
    "items.loc[0, :]"
   ],
   "metadata": {
    "collapsed": false
   }
  },
  {
   "cell_type": "markdown",
   "source": [
    "????\n",
    "\n",
    "I have no idea what it is :(\n",
    "\n",
    "I can't see those numbers on items pages on Archives of Nethys\n",
    "\n",
    "*I guess it is not important (?)*"
   ],
   "metadata": {
    "collapsed": false
   }
  },
  {
   "cell_type": "markdown",
   "source": [
    "## system\n",
    "Analysis in other notebook\n",
    "\n",
    "*Probobly something important*"
   ],
   "metadata": {
    "collapsed": false
   }
  },
  {
   "cell_type": "markdown",
   "source": [
    "## type"
   ],
   "metadata": {
    "collapsed": false
   }
  },
  {
   "cell_type": "code",
   "execution_count": 15,
   "outputs": [
    {
     "data": {
      "text/plain": "action               7691\nspell                5150\nlore                 5007\nmelee                2419\nspellcastingEntry     782\nweapon                375\narmor                 121\nconsumable            103\nequipment              62\ncondition              11\neffect                  5\ntreasure                4\nbackpack                1\nName: type, dtype: int64"
     },
     "execution_count": 15,
     "metadata": {},
     "output_type": "execute_result"
    }
   ],
   "source": [
    "items.type.value_counts()"
   ],
   "metadata": {
    "collapsed": false
   }
  },
  {
   "cell_type": "code",
   "execution_count": 16,
   "outputs": [
    {
     "data": {
      "text/plain": "13"
     },
     "execution_count": 16,
     "metadata": {},
     "output_type": "execute_result"
    }
   ],
   "source": [
    "len(items.type.unique())"
   ],
   "metadata": {
    "collapsed": false
   }
  },
  {
   "cell_type": "markdown",
   "source": [
    "13 unique types: not only *'typical'* items like equipment, treasure, backpack but also things like: effect, melee, spell\n",
    "\n",
    "Can be used as a name for some values in params in *items* column or maybe for *if's* to determine that special types of monsters needs e.g. spells or weapons\n",
    "\n",
    "*can be useful*"
   ],
   "metadata": {
    "collapsed": false
   }
  },
  {
   "cell_type": "markdown",
   "source": [
    "# flags"
   ],
   "metadata": {
    "collapsed": false
   }
  },
  {
   "cell_type": "code",
   "execution_count": 17,
   "outputs": [
    {
     "data": {
      "text/plain": "{'core': {'sourceId': 'Compendium.pf2e.bestiary-ability-glossary-srd.qCCLZhnp2HhP3Ex6'}}    810\n{'core': {'sourceId': 'Compendium.pf2e.bestiary-ability-glossary-srd.rqfnQ5VHT5hxm25r'}}    306\n{'core': {'sourceId': 'Compendium.pf2e.bestiary-ability-glossary-srd.2YRDYVnC1eljaXKK'}}    291\n{'core': {'sourceId': 'Compendium.pf2e.bestiary-ability-glossary-srd.fFu2sZz4KB01fVRc'}}    233\n{'core': {'sourceId': 'Compendium.pf2e.bestiary-ability-glossary-srd.kquBnQ0kObZztnBc'}}    216\n                                                                                           ... \n{'pf2e': {'linkedWeapon': 'z4Cumz0pj2Sd3qCZ'}}                                                1\n{'pf2e': {'linkedWeapon': '7N81J13tH9opZBPI'}}                                                1\n{'pf2e': {'linkedWeapon': 'lomadIB0iDyESztp'}}                                                1\n{'pf2e': {'linkedWeapon': 'JHfMmaXNeMW7jIqG'}}                                                1\n{'pf2e': {'linkedWeapon': 'GktYdY74dtaYfClL'}}                                                1\nName: flags, Length: 1005, dtype: int64"
     },
     "execution_count": 17,
     "metadata": {},
     "output_type": "execute_result"
    }
   ],
   "source": [
    "items[\"flags\"].value_counts()"
   ],
   "metadata": {
    "collapsed": false
   }
  },
  {
   "cell_type": "code",
   "execution_count": 18,
   "outputs": [],
   "source": [
    "flags = unpack_column_with_null(df=items, column_name=\"flags\")"
   ],
   "metadata": {
    "collapsed": false
   }
  },
  {
   "cell_type": "code",
   "execution_count": 19,
   "outputs": [
    {
     "name": "stdout",
     "output_type": "stream",
     "text": [
      "<class 'pandas.core.frame.DataFrame'>\n",
      "Int64Index: 21731 entries, 0 to 21730\n",
      "Data columns (total 2 columns):\n",
      " #   Column  Non-Null Count  Dtype \n",
      "---  ------  --------------  ----- \n",
      " 0   core    9614 non-null   object\n",
      " 1   pf2e    436 non-null    object\n",
      "dtypes: object(2)\n",
      "memory usage: 509.3+ KB\n"
     ]
    }
   ],
   "source": [
    "flags.info()"
   ],
   "metadata": {
    "collapsed": false
   }
  },
  {
   "cell_type": "code",
   "execution_count": 20,
   "outputs": [
    {
     "data": {
      "text/plain": "                                                core pf2e\n0                                                NaN  NaN\n1  {'sourceId': 'Compendium.pf2e.spells-srd.9XHmC...  NaN\n2  {'sourceId': 'Compendium.pf2e.spells-srd.g8QqH...  NaN\n3                                                NaN  NaN\n4                                                NaN  NaN",
      "text/html": "<div>\n<style scoped>\n    .dataframe tbody tr th:only-of-type {\n        vertical-align: middle;\n    }\n\n    .dataframe tbody tr th {\n        vertical-align: top;\n    }\n\n    .dataframe thead th {\n        text-align: right;\n    }\n</style>\n<table border=\"1\" class=\"dataframe\">\n  <thead>\n    <tr style=\"text-align: right;\">\n      <th></th>\n      <th>core</th>\n      <th>pf2e</th>\n    </tr>\n  </thead>\n  <tbody>\n    <tr>\n      <th>0</th>\n      <td>NaN</td>\n      <td>NaN</td>\n    </tr>\n    <tr>\n      <th>1</th>\n      <td>{'sourceId': 'Compendium.pf2e.spells-srd.9XHmC...</td>\n      <td>NaN</td>\n    </tr>\n    <tr>\n      <th>2</th>\n      <td>{'sourceId': 'Compendium.pf2e.spells-srd.g8QqH...</td>\n      <td>NaN</td>\n    </tr>\n    <tr>\n      <th>3</th>\n      <td>NaN</td>\n      <td>NaN</td>\n    </tr>\n    <tr>\n      <th>4</th>\n      <td>NaN</td>\n      <td>NaN</td>\n    </tr>\n  </tbody>\n</table>\n</div>"
     },
     "execution_count": 20,
     "metadata": {},
     "output_type": "execute_result"
    }
   ],
   "source": [
    "flags.head()"
   ],
   "metadata": {
    "collapsed": false
   }
  },
  {
   "cell_type": "code",
   "execution_count": 21,
   "outputs": [
    {
     "data": {
      "text/plain": "{'sourceId': 'Compendium.pf2e.bestiary-ability-glossary-srd.qCCLZhnp2HhP3Ex6'}    810\n{'sourceId': 'Compendium.pf2e.bestiary-ability-glossary-srd.rqfnQ5VHT5hxm25r'}    306\n{'sourceId': 'Compendium.pf2e.bestiary-ability-glossary-srd.2YRDYVnC1eljaXKK'}    291\n{'sourceId': 'Compendium.pf2e.bestiary-ability-glossary-srd.fFu2sZz4KB01fVRc'}    233\n{'sourceId': 'Compendium.pf2e.bestiary-ability-glossary-srd.kquBnQ0kObZztnBc'}    216\n                                                                                 ... \n{'sourceId': 'Compendium.pf2e.equipment-srd.ZmefGBXGJF3CFDbn'}                      1\n{'sourceId': 'Compendium.pf2e.equipment-srd.QbOlqr4lSkeOEfty'}                      1\n{'sourceId': 'Compendium.pf2e.spells-srd.4MOew29Z1oCX8O28'}                         1\n{'sourceId': 'Compendium.pf2e.spells-srd.bVtkBJvGLP69qVGI'}                         1\n{'sourceId': 'Compendium.pf2e.spells-srd.u3G7KX1qpFJlSeWm'}                         1\nName: core, Length: 637, dtype: int64"
     },
     "execution_count": 21,
     "metadata": {},
     "output_type": "execute_result"
    }
   ],
   "source": [
    "flags.core.value_counts()"
   ],
   "metadata": {
    "collapsed": false
   }
  },
  {
   "cell_type": "markdown",
   "source": [
    "Probobly just id of item's source\n",
    "\n",
    "*Not important*"
   ],
   "metadata": {
    "collapsed": false
   }
  },
  {
   "cell_type": "code",
   "execution_count": 22,
   "outputs": [
    {
     "data": {
      "text/plain": "{'condition': True}                     11\n{'linkedWeapon': '02C4u0zZ2Lgo2QCN'}     2\n{'linkedWeapon': 'lO06fprpo1Dzbc2m'}     2\n{'linkedWeapon': 'XT6FcDXwz7Hc8dWG'}     2\n{'linkedWeapon': 'ouN8yYrLIh9oRsNL'}     2\n                                        ..\n{'linkedWeapon': 'd4dYU7PgAI7RkI0w'}     1\n{'linkedWeapon': 'Q7Syteo9JjOZLurF'}     1\n{'linkedWeapon': 'Eeb6SofJZodaR8DX'}     1\n{'linkedWeapon': 'uK2zvEwcP8cWJG6x'}     1\n{'linkedWeapon': 'GktYdY74dtaYfClL'}     1\nName: pf2e, Length: 371, dtype: int64"
     },
     "execution_count": 22,
     "metadata": {},
     "output_type": "execute_result"
    }
   ],
   "source": [
    "flags.pf2e.value_counts()"
   ],
   "metadata": {
    "collapsed": false
   }
  },
  {
   "cell_type": "code",
   "execution_count": 23,
   "outputs": [],
   "source": [
    "pf2e = unpack_column_with_null(df=flags, column_name=\"pf2e\")"
   ],
   "metadata": {
    "collapsed": false
   }
  },
  {
   "cell_type": "code",
   "execution_count": 24,
   "outputs": [
    {
     "name": "stdout",
     "output_type": "stream",
     "text": [
      "<class 'pandas.core.frame.DataFrame'>\n",
      "Int64Index: 21731 entries, 0 to 21730\n",
      "Data columns (total 2 columns):\n",
      " #   Column        Non-Null Count  Dtype \n",
      "---  ------        --------------  ----- \n",
      " 0   linkedWeapon  425 non-null    object\n",
      " 1   condition     11 non-null     object\n",
      "dtypes: object(2)\n",
      "memory usage: 509.3+ KB\n"
     ]
    }
   ],
   "source": [
    "pf2e.info()"
   ],
   "metadata": {
    "collapsed": false
   }
  },
  {
   "cell_type": "code",
   "execution_count": 25,
   "outputs": [
    {
     "data": {
      "text/plain": "  linkedWeapon condition\n0          NaN       NaN\n1          NaN       NaN\n2          NaN       NaN\n3          NaN       NaN\n4          NaN       NaN",
      "text/html": "<div>\n<style scoped>\n    .dataframe tbody tr th:only-of-type {\n        vertical-align: middle;\n    }\n\n    .dataframe tbody tr th {\n        vertical-align: top;\n    }\n\n    .dataframe thead th {\n        text-align: right;\n    }\n</style>\n<table border=\"1\" class=\"dataframe\">\n  <thead>\n    <tr style=\"text-align: right;\">\n      <th></th>\n      <th>linkedWeapon</th>\n      <th>condition</th>\n    </tr>\n  </thead>\n  <tbody>\n    <tr>\n      <th>0</th>\n      <td>NaN</td>\n      <td>NaN</td>\n    </tr>\n    <tr>\n      <th>1</th>\n      <td>NaN</td>\n      <td>NaN</td>\n    </tr>\n    <tr>\n      <th>2</th>\n      <td>NaN</td>\n      <td>NaN</td>\n    </tr>\n    <tr>\n      <th>3</th>\n      <td>NaN</td>\n      <td>NaN</td>\n    </tr>\n    <tr>\n      <th>4</th>\n      <td>NaN</td>\n      <td>NaN</td>\n    </tr>\n  </tbody>\n</table>\n</div>"
     },
     "execution_count": 25,
     "metadata": {},
     "output_type": "execute_result"
    }
   ],
   "source": [
    "pf2e.head()"
   ],
   "metadata": {
    "collapsed": false
   }
  },
  {
   "cell_type": "code",
   "execution_count": 26,
   "outputs": [
    {
     "data": {
      "text/plain": "02C4u0zZ2Lgo2QCN    2\nlO06fprpo1Dzbc2m    2\nXT6FcDXwz7Hc8dWG    2\nouN8yYrLIh9oRsNL    2\nURmrJWnzS3wuje5D    2\n                   ..\nd4dYU7PgAI7RkI0w    1\nQ7Syteo9JjOZLurF    1\nEeb6SofJZodaR8DX    1\nuK2zvEwcP8cWJG6x    1\nGktYdY74dtaYfClL    1\nName: linkedWeapon, Length: 370, dtype: int64"
     },
     "execution_count": 26,
     "metadata": {},
     "output_type": "execute_result"
    }
   ],
   "source": [
    "pf2e.linkedWeapon.value_counts()"
   ],
   "metadata": {
    "collapsed": false
   }
  },
  {
   "cell_type": "code",
   "execution_count": 27,
   "outputs": [
    {
     "data": {
      "text/plain": "                  _id                                         img  \\\n130  2V6mUk75bI02ShGa  systems/pf2e/icons/default-icons/melee.svg   \n146  RMbB0Cy1iBEXCD5A  systems/pf2e/icons/default-icons/melee.svg   \n147  bo8qDCWaF4txPsi1  systems/pf2e/icons/default-icons/melee.svg   \n149  ORBRYCSr88txQyIM  systems/pf2e/icons/default-icons/melee.svg   \n183  GNpyzaHN2uioOy3x  systems/pf2e/icons/default-icons/melee.svg   \n\n                       name     sort  \\\n130           Silver Rapier  1000000   \n146          Keen Longsword   400000   \n147  Keen Returning Hatchet   500000   \n149  Keen Returning Hatchet   700000   \n183                    Pick  2300000   \n\n                                                system   type  \\\n130  {'attack': {'value': ''}, 'attackEffects': {'c...  melee   \n146  {'attack': {'value': ''}, 'attackEffects': {'c...  melee   \n147  {'attack': {'value': ''}, 'attackEffects': {'c...  melee   \n149  {'attack': {'value': ''}, 'attackEffects': {'c...  melee   \n183  {'attack': {'value': ''}, 'attackEffects': {'c...  melee   \n\n                                              flags  \n130  {'pf2e': {'linkedWeapon': 'HRjw0KnPqOC21GRz'}}  \n146  {'pf2e': {'linkedWeapon': 'fv7QW4VtrW3K3j6F'}}  \n147  {'pf2e': {'linkedWeapon': 'f7bd20dy89WdBEHW'}}  \n149  {'pf2e': {'linkedWeapon': 'f7bd20dy89WdBEHW'}}  \n183  {'pf2e': {'linkedWeapon': 'xmXGe4TxV7T4zp14'}}  ",
      "text/html": "<div>\n<style scoped>\n    .dataframe tbody tr th:only-of-type {\n        vertical-align: middle;\n    }\n\n    .dataframe tbody tr th {\n        vertical-align: top;\n    }\n\n    .dataframe thead th {\n        text-align: right;\n    }\n</style>\n<table border=\"1\" class=\"dataframe\">\n  <thead>\n    <tr style=\"text-align: right;\">\n      <th></th>\n      <th>_id</th>\n      <th>img</th>\n      <th>name</th>\n      <th>sort</th>\n      <th>system</th>\n      <th>type</th>\n      <th>flags</th>\n    </tr>\n  </thead>\n  <tbody>\n    <tr>\n      <th>130</th>\n      <td>2V6mUk75bI02ShGa</td>\n      <td>systems/pf2e/icons/default-icons/melee.svg</td>\n      <td>Silver Rapier</td>\n      <td>1000000</td>\n      <td>{'attack': {'value': ''}, 'attackEffects': {'c...</td>\n      <td>melee</td>\n      <td>{'pf2e': {'linkedWeapon': 'HRjw0KnPqOC21GRz'}}</td>\n    </tr>\n    <tr>\n      <th>146</th>\n      <td>RMbB0Cy1iBEXCD5A</td>\n      <td>systems/pf2e/icons/default-icons/melee.svg</td>\n      <td>Keen Longsword</td>\n      <td>400000</td>\n      <td>{'attack': {'value': ''}, 'attackEffects': {'c...</td>\n      <td>melee</td>\n      <td>{'pf2e': {'linkedWeapon': 'fv7QW4VtrW3K3j6F'}}</td>\n    </tr>\n    <tr>\n      <th>147</th>\n      <td>bo8qDCWaF4txPsi1</td>\n      <td>systems/pf2e/icons/default-icons/melee.svg</td>\n      <td>Keen Returning Hatchet</td>\n      <td>500000</td>\n      <td>{'attack': {'value': ''}, 'attackEffects': {'c...</td>\n      <td>melee</td>\n      <td>{'pf2e': {'linkedWeapon': 'f7bd20dy89WdBEHW'}}</td>\n    </tr>\n    <tr>\n      <th>149</th>\n      <td>ORBRYCSr88txQyIM</td>\n      <td>systems/pf2e/icons/default-icons/melee.svg</td>\n      <td>Keen Returning Hatchet</td>\n      <td>700000</td>\n      <td>{'attack': {'value': ''}, 'attackEffects': {'c...</td>\n      <td>melee</td>\n      <td>{'pf2e': {'linkedWeapon': 'f7bd20dy89WdBEHW'}}</td>\n    </tr>\n    <tr>\n      <th>183</th>\n      <td>GNpyzaHN2uioOy3x</td>\n      <td>systems/pf2e/icons/default-icons/melee.svg</td>\n      <td>Pick</td>\n      <td>2300000</td>\n      <td>{'attack': {'value': ''}, 'attackEffects': {'c...</td>\n      <td>melee</td>\n      <td>{'pf2e': {'linkedWeapon': 'xmXGe4TxV7T4zp14'}}</td>\n    </tr>\n  </tbody>\n</table>\n</div>"
     },
     "execution_count": 27,
     "metadata": {},
     "output_type": "execute_result"
    }
   ],
   "source": [
    "items[pf2e.linkedWeapon.notnull()].head()\n",
    "# first item's linkedWeapon:'HRjw0KnPqOC21GRz'\n",
    "# orginal item: 2V6mUk75bI02ShGa"
   ],
   "metadata": {
    "collapsed": false
   }
  },
  {
   "cell_type": "code",
   "execution_count": 28,
   "outputs": [
    {
     "data": {
      "text/plain": "                  _id                                               img  \\\n128  HRjw0KnPqOC21GRz  systems/pf2e/icons/equipment/weapons/rapier.webp   \n\n       name    sort                                             system  \\\n128  Rapier  800000  {'MAP': {'value': ''}, 'baseItem': 'rapier', '...   \n\n       type                                              flags  \n128  weapon  {'core': {'sourceId': 'Compendium.pf2e.equipme...  ",
      "text/html": "<div>\n<style scoped>\n    .dataframe tbody tr th:only-of-type {\n        vertical-align: middle;\n    }\n\n    .dataframe tbody tr th {\n        vertical-align: top;\n    }\n\n    .dataframe thead th {\n        text-align: right;\n    }\n</style>\n<table border=\"1\" class=\"dataframe\">\n  <thead>\n    <tr style=\"text-align: right;\">\n      <th></th>\n      <th>_id</th>\n      <th>img</th>\n      <th>name</th>\n      <th>sort</th>\n      <th>system</th>\n      <th>type</th>\n      <th>flags</th>\n    </tr>\n  </thead>\n  <tbody>\n    <tr>\n      <th>128</th>\n      <td>HRjw0KnPqOC21GRz</td>\n      <td>systems/pf2e/icons/equipment/weapons/rapier.webp</td>\n      <td>Rapier</td>\n      <td>800000</td>\n      <td>{'MAP': {'value': ''}, 'baseItem': 'rapier', '...</td>\n      <td>weapon</td>\n      <td>{'core': {'sourceId': 'Compendium.pf2e.equipme...</td>\n    </tr>\n  </tbody>\n</table>\n</div>"
     },
     "execution_count": 28,
     "metadata": {},
     "output_type": "execute_result"
    }
   ],
   "source": [
    "item_id = \"HRjw0KnPqOC21GRz\"\n",
    "items[items._id == item_id]"
   ],
   "metadata": {
    "collapsed": false
   }
  },
  {
   "cell_type": "code",
   "execution_count": 29,
   "outputs": [],
   "source": [
    "def find_by_item_id(item_id: str, items_list: list):\n",
    "    for item in items_list:\n",
    "        if item.get(\"_id\") == item_id:\n",
    "            return True\n",
    "    return False"
   ],
   "metadata": {
    "collapsed": false
   }
  },
  {
   "cell_type": "code",
   "execution_count": 30,
   "outputs": [
    {
     "data": {
      "text/plain": "                _id                                       img  \\\n6  0SAlss24nUMdX9r8  systems/pf2e/icons/default-icons/npc.svg   \n\n                                               items       name  \\\n6  [{'_id': 'k3r3UHSeKp4tTrp0', 'img': 'systems/p...  Gancanagh   \n\n                                              system type  \\\n6  {'abilities': {'cha': {'mod': 5}, 'con': {'mod...  npc   \n\n                                               flags prototypeToken  \n6  {'core': {'sourceId': 'Compendium.pf2e.pathfin...            NaN  ",
      "text/html": "<div>\n<style scoped>\n    .dataframe tbody tr th:only-of-type {\n        vertical-align: middle;\n    }\n\n    .dataframe tbody tr th {\n        vertical-align: top;\n    }\n\n    .dataframe thead th {\n        text-align: right;\n    }\n</style>\n<table border=\"1\" class=\"dataframe\">\n  <thead>\n    <tr style=\"text-align: right;\">\n      <th></th>\n      <th>_id</th>\n      <th>img</th>\n      <th>items</th>\n      <th>name</th>\n      <th>system</th>\n      <th>type</th>\n      <th>flags</th>\n      <th>prototypeToken</th>\n    </tr>\n  </thead>\n  <tbody>\n    <tr>\n      <th>6</th>\n      <td>0SAlss24nUMdX9r8</td>\n      <td>systems/pf2e/icons/default-icons/npc.svg</td>\n      <td>[{'_id': 'k3r3UHSeKp4tTrp0', 'img': 'systems/p...</td>\n      <td>Gancanagh</td>\n      <td>{'abilities': {'cha': {'mod': 5}, 'con': {'mod...</td>\n      <td>npc</td>\n      <td>{'core': {'sourceId': 'Compendium.pf2e.pathfin...</td>\n      <td>NaN</td>\n    </tr>\n  </tbody>\n</table>\n</div>"
     },
     "execution_count": 30,
     "metadata": {},
     "output_type": "execute_result"
    }
   ],
   "source": [
    "bestiary[bestiary[\"items\"].apply(lambda x: find_by_item_id(item_id, x))]"
   ],
   "metadata": {
    "collapsed": false
   }
  },
  {
   "cell_type": "code",
   "execution_count": 31,
   "outputs": [
    {
     "name": "stdout",
     "output_type": "stream",
     "text": [
      "Gancanagh\n",
      "Rapier\n",
      "{'core': {'sourceId': 'Compendium.pf2e.equipment-srd.tH5GirEy7YB3ZgCk'}}\n",
      "Silver Rapier\n",
      "{'pf2e': {'linkedWeapon': 'HRjw0KnPqOC21GRz'}}\n",
      "22\n"
     ]
    }
   ],
   "source": [
    "print(bestiary.loc[6][\"name\"])\n",
    "for i in bestiary.loc[6, :][\"items\"]:\n",
    "    if i.get(\"_id\") in [\"2V6mUk75bI02ShGa\", item_id]:\n",
    "        print(i.get(\"name\"))\n",
    "        print(i.get(\"flags\"))\n",
    "print(len(bestiary.loc[6, :][\"items\"]))"
   ],
   "metadata": {
    "collapsed": false
   }
  },
  {
   "cell_type": "markdown",
   "source": [
    "Probably id's of other items of that monster that are somehow correlated, e.g. Gancanagh have a rapier but it is made out of silver."
   ],
   "metadata": {
    "collapsed": false
   }
  },
  {
   "cell_type": "code",
   "execution_count": 32,
   "outputs": [
    {
     "data": {
      "text/plain": "True    11\nName: condition, dtype: int64"
     },
     "execution_count": 32,
     "metadata": {},
     "output_type": "execute_result"
    }
   ],
   "source": [
    "pf2e.condition.value_counts()"
   ],
   "metadata": {
    "collapsed": false
   }
  },
  {
   "cell_type": "code",
   "execution_count": 33,
   "outputs": [
    {
     "data": {
      "text/plain": "                    _id                                           img  \\\n190    qiyu0aoav4y0v7tf     systems/pf2e/icons/conditions/slowed.webp   \n2240   whmcy3nyapkaz90s     systems/pf2e/icons/conditions/slowed.webp   \n2687   9j9kz8bv8i4ae8b7     systems/pf2e/icons/conditions/slowed.webp   \n2903   xe58zyk07wl19azb     systems/pf2e/icons/conditions/slowed.webp   \n6412   55yro987ckxsraes  systems/pf2e/icons/conditions/quickened.webp   \n6445   1nw27q1yzi9jiohx  systems/pf2e/icons/conditions/quickened.webp   \n15725  KxR8Go3rHkXrdyv3     systems/pf2e/icons/conditions/slowed.webp   \n16318  TPN2CEDmDpqjgzwG     systems/pf2e/icons/conditions/slowed.webp   \n19121  D6Ppw4NFZBG4ZW2b     systems/pf2e/icons/conditions/slowed.webp   \n19399  gm13winmstas1ock  systems/pf2e/icons/conditions/quickened.webp   \n21586  nPGxZlK7eZNuVRvj  systems/pf2e/icons/conditions/quickened.webp   \n\n            name     sort                                             system  \\\n190       Slowed   100000  {'description': {'value': '<p>You have fewer a...   \n2240      Slowed   100000  {'description': {'value': '<p>You have fewer a...   \n2687      Slowed   100000  {'description': {'value': '<p>You have fewer a...   \n2903      Slowed   100000  {'description': {'value': '<p>You have fewer a...   \n6412   Quickened   400000  {'description': {'value': '<p>You gain 1 addit...   \n6445   Quickened   800000  {'description': {'value': '<p>You gain 1 addit...   \n15725     Slowed   100000  {'description': {'value': '<p>You have fewer a...   \n16318     Slowed   100000  {'description': {'value': '<p>You have fewer a...   \n19121     Slowed   100000  {'description': {'value': '<p>You have fewer a...   \n19399  Quickened   100000  {'description': {'value': '<p>You gain 1 addit...   \n21586  Quickened  1700000  {'description': {'value': '<p>You gain 1 addit...   \n\n            type                                              flags  \n190    condition  {'core': {'sourceId': 'Compendium.pf2e.conditi...  \n2240   condition  {'core': {'sourceId': 'Compendium.pf2e.conditi...  \n2687   condition  {'core': {'sourceId': 'Compendium.pf2e.conditi...  \n2903   condition  {'core': {'sourceId': 'Compendium.pf2e.conditi...  \n6412   condition  {'core': {'sourceId': 'Compendium.pf2e.conditi...  \n6445   condition  {'core': {'sourceId': 'Compendium.pf2e.conditi...  \n15725  condition  {'core': {'sourceId': 'Compendium.pf2e.conditi...  \n16318  condition  {'core': {'sourceId': 'Compendium.pf2e.conditi...  \n19121  condition  {'core': {'sourceId': 'Compendium.pf2e.conditi...  \n19399  condition  {'core': {'sourceId': 'Compendium.pf2e.conditi...  \n21586  condition  {'core': {'sourceId': 'Compendium.pf2e.conditi...  ",
      "text/html": "<div>\n<style scoped>\n    .dataframe tbody tr th:only-of-type {\n        vertical-align: middle;\n    }\n\n    .dataframe tbody tr th {\n        vertical-align: top;\n    }\n\n    .dataframe thead th {\n        text-align: right;\n    }\n</style>\n<table border=\"1\" class=\"dataframe\">\n  <thead>\n    <tr style=\"text-align: right;\">\n      <th></th>\n      <th>_id</th>\n      <th>img</th>\n      <th>name</th>\n      <th>sort</th>\n      <th>system</th>\n      <th>type</th>\n      <th>flags</th>\n    </tr>\n  </thead>\n  <tbody>\n    <tr>\n      <th>190</th>\n      <td>qiyu0aoav4y0v7tf</td>\n      <td>systems/pf2e/icons/conditions/slowed.webp</td>\n      <td>Slowed</td>\n      <td>100000</td>\n      <td>{'description': {'value': '&lt;p&gt;You have fewer a...</td>\n      <td>condition</td>\n      <td>{'core': {'sourceId': 'Compendium.pf2e.conditi...</td>\n    </tr>\n    <tr>\n      <th>2240</th>\n      <td>whmcy3nyapkaz90s</td>\n      <td>systems/pf2e/icons/conditions/slowed.webp</td>\n      <td>Slowed</td>\n      <td>100000</td>\n      <td>{'description': {'value': '&lt;p&gt;You have fewer a...</td>\n      <td>condition</td>\n      <td>{'core': {'sourceId': 'Compendium.pf2e.conditi...</td>\n    </tr>\n    <tr>\n      <th>2687</th>\n      <td>9j9kz8bv8i4ae8b7</td>\n      <td>systems/pf2e/icons/conditions/slowed.webp</td>\n      <td>Slowed</td>\n      <td>100000</td>\n      <td>{'description': {'value': '&lt;p&gt;You have fewer a...</td>\n      <td>condition</td>\n      <td>{'core': {'sourceId': 'Compendium.pf2e.conditi...</td>\n    </tr>\n    <tr>\n      <th>2903</th>\n      <td>xe58zyk07wl19azb</td>\n      <td>systems/pf2e/icons/conditions/slowed.webp</td>\n      <td>Slowed</td>\n      <td>100000</td>\n      <td>{'description': {'value': '&lt;p&gt;You have fewer a...</td>\n      <td>condition</td>\n      <td>{'core': {'sourceId': 'Compendium.pf2e.conditi...</td>\n    </tr>\n    <tr>\n      <th>6412</th>\n      <td>55yro987ckxsraes</td>\n      <td>systems/pf2e/icons/conditions/quickened.webp</td>\n      <td>Quickened</td>\n      <td>400000</td>\n      <td>{'description': {'value': '&lt;p&gt;You gain 1 addit...</td>\n      <td>condition</td>\n      <td>{'core': {'sourceId': 'Compendium.pf2e.conditi...</td>\n    </tr>\n    <tr>\n      <th>6445</th>\n      <td>1nw27q1yzi9jiohx</td>\n      <td>systems/pf2e/icons/conditions/quickened.webp</td>\n      <td>Quickened</td>\n      <td>800000</td>\n      <td>{'description': {'value': '&lt;p&gt;You gain 1 addit...</td>\n      <td>condition</td>\n      <td>{'core': {'sourceId': 'Compendium.pf2e.conditi...</td>\n    </tr>\n    <tr>\n      <th>15725</th>\n      <td>KxR8Go3rHkXrdyv3</td>\n      <td>systems/pf2e/icons/conditions/slowed.webp</td>\n      <td>Slowed</td>\n      <td>100000</td>\n      <td>{'description': {'value': '&lt;p&gt;You have fewer a...</td>\n      <td>condition</td>\n      <td>{'core': {'sourceId': 'Compendium.pf2e.conditi...</td>\n    </tr>\n    <tr>\n      <th>16318</th>\n      <td>TPN2CEDmDpqjgzwG</td>\n      <td>systems/pf2e/icons/conditions/slowed.webp</td>\n      <td>Slowed</td>\n      <td>100000</td>\n      <td>{'description': {'value': '&lt;p&gt;You have fewer a...</td>\n      <td>condition</td>\n      <td>{'core': {'sourceId': 'Compendium.pf2e.conditi...</td>\n    </tr>\n    <tr>\n      <th>19121</th>\n      <td>D6Ppw4NFZBG4ZW2b</td>\n      <td>systems/pf2e/icons/conditions/slowed.webp</td>\n      <td>Slowed</td>\n      <td>100000</td>\n      <td>{'description': {'value': '&lt;p&gt;You have fewer a...</td>\n      <td>condition</td>\n      <td>{'core': {'sourceId': 'Compendium.pf2e.conditi...</td>\n    </tr>\n    <tr>\n      <th>19399</th>\n      <td>gm13winmstas1ock</td>\n      <td>systems/pf2e/icons/conditions/quickened.webp</td>\n      <td>Quickened</td>\n      <td>100000</td>\n      <td>{'description': {'value': '&lt;p&gt;You gain 1 addit...</td>\n      <td>condition</td>\n      <td>{'core': {'sourceId': 'Compendium.pf2e.conditi...</td>\n    </tr>\n    <tr>\n      <th>21586</th>\n      <td>nPGxZlK7eZNuVRvj</td>\n      <td>systems/pf2e/icons/conditions/quickened.webp</td>\n      <td>Quickened</td>\n      <td>1700000</td>\n      <td>{'description': {'value': '&lt;p&gt;You gain 1 addit...</td>\n      <td>condition</td>\n      <td>{'core': {'sourceId': 'Compendium.pf2e.conditi...</td>\n    </tr>\n  </tbody>\n</table>\n</div>"
     },
     "execution_count": 33,
     "metadata": {},
     "output_type": "execute_result"
    }
   ],
   "source": [
    "items[pf2e.condition.notnull()]"
   ],
   "metadata": {
    "collapsed": false
   }
  },
  {
   "cell_type": "markdown",
   "source": [
    "All of items with `condition: True` have type *condition*\n",
    "\n",
    "*Not important*"
   ],
   "metadata": {
    "collapsed": false
   }
  },
  {
   "cell_type": "markdown",
   "source": [
    "**Flags**:\n",
    "* core - *not important*\n",
    "* pf2e:\n",
    "    * linkedWeapon - maybe important if we are going to somehow count items of monster because e.g. Gancanagh have only one rapier (but a silver one)\n",
    "    * condition - *not important*"
   ],
   "metadata": {
    "collapsed": false
   }
  },
  {
   "cell_type": "markdown",
   "source": [
    "## Summary\n",
    "* _id - *not important*\n",
    "* img - *not important*\n",
    "* name - *not important*\n",
    "* sort - **???**\n",
    "* type - **might be useful**\n",
    "* flags:\n",
    "    * core - *not important*\n",
    "    * pf2e:\n",
    "        * linkedWeapon - maybe important if we are going to somehow count items of monster because e.g. Gancanagh have only one rapier (but a silver one)\n",
    "        * condition - *not important*\n"
   ],
   "metadata": {
    "collapsed": false
   }
  },
  {
   "cell_type": "code",
   "execution_count": null,
   "outputs": [],
   "source": [],
   "metadata": {
    "collapsed": false
   }
  }
 ],
 "metadata": {
  "kernelspec": {
   "display_name": "Python 3",
   "language": "python",
   "name": "python3"
  },
  "language_info": {
   "codemirror_mode": {
    "name": "ipython",
    "version": 2
   },
   "file_extension": ".py",
   "mimetype": "text/x-python",
   "name": "python",
   "nbconvert_exporter": "python",
   "pygments_lexer": "ipython2",
   "version": "2.7.6"
  }
 },
 "nbformat": 4,
 "nbformat_minor": 0
}
