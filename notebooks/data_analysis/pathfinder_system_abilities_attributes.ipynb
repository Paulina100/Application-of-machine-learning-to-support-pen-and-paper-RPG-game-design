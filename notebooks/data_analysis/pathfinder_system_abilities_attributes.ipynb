{
 "cells": [
  {
   "cell_type": "markdown",
   "source": [
    "# Analiza kolumny system: abilities i attributes\n",
    "\n",
    "\n",
    "Import danych"
   ],
   "metadata": {
    "collapsed": false
   }
  },
  {
   "cell_type": "code",
   "execution_count": 1,
   "metadata": {
    "collapsed": true
   },
   "outputs": [],
   "source": [
    "from training.analysis_functions import get_merged_bestiaries\n",
    "from collections import defaultdict\n",
    "import pandas as pd\n",
    "import numpy as np\n",
    "\n",
    "\n",
    "paths = [\n",
    "    \"../../pathfinder_2e_data/pathfinder-bestiary.db\",\n",
    "    \"../../pathfinder_2e_data/pathfinder-bestiary-2.db\",\n",
    "    \"../../pathfinder_2e_data/pathfinder-bestiary-3.db\",\n",
    "]\n",
    "\n",
    "bestiary = get_merged_bestiaries(paths)"
   ]
  },
  {
   "cell_type": "code",
   "execution_count": 2,
   "outputs": [
    {
     "name": "stdout",
     "output_type": "stream",
     "text": [
      "<class 'pandas.core.frame.DataFrame'>\n",
      "Int64Index: 1206 entries, 0 to 364\n",
      "Data columns (total 8 columns):\n",
      " #   Column          Non-Null Count  Dtype \n",
      "---  ------          --------------  ----- \n",
      " 0   _id             1206 non-null   object\n",
      " 1   img             1206 non-null   object\n",
      " 2   items           1206 non-null   object\n",
      " 3   name            1206 non-null   object\n",
      " 4   system          1206 non-null   object\n",
      " 5   type            1206 non-null   object\n",
      " 6   flags           1206 non-null   object\n",
      " 7   prototypeToken  85 non-null     object\n",
      "dtypes: object(8)\n",
      "memory usage: 84.8+ KB\n"
     ]
    }
   ],
   "source": [
    "bestiary.info()"
   ],
   "metadata": {
    "collapsed": false
   }
  },
  {
   "cell_type": "code",
   "execution_count": 3,
   "outputs": [
    {
     "data": {
      "text/plain": "                _id                                       img  \\\n0  024PqcF8yMRBrPuq  systems/pf2e/icons/default-icons/npc.svg   \n1  05E3kkjoLZVjFOeO  systems/pf2e/icons/default-icons/npc.svg   \n2  05wwpHHsBlxBbdkN  systems/pf2e/icons/default-icons/npc.svg   \n3  0FGz2eXm0SB04sJW  systems/pf2e/icons/default-icons/npc.svg   \n4  0HjVFx8qIKDCfblg  systems/pf2e/icons/default-icons/npc.svg   \n\n                                               items                  name  \\\n0  [{'_id': 'B7rzf0nBJmzg8x0y', 'img': 'systems/p...    Adult White Dragon   \n1  [{'_id': 'mYNDkS27YQRyy1F0', 'img': 'systems/p...          Brontosaurus   \n2  [{'_id': 'WkPeg600zGONsuJz', 'img': 'systems/p...        Giant Anaconda   \n3  [{'_id': 'joBYS96mXSnZC1WB', 'img': 'systems/p...  Ancient Green Dragon   \n4  [{'_id': 'xlUnQcjrxeMXu5Cd', 'img': 'systems/p...        Lantern Archon   \n\n                                              system type  \\\n0  {'abilities': {'cha': {'mod': 1}, 'con': {'mod...  npc   \n1  {'abilities': {'cha': {'mod': 1}, 'con': {'mod...  npc   \n2  {'abilities': {'cha': {'mod': -2}, 'con': {'mo...  npc   \n3  {'abilities': {'cha': {'mod': 6}, 'con': {'mod...  npc   \n4  {'abilities': {'cha': {'mod': 1}, 'con': {'mod...  npc   \n\n                                               flags prototypeToken  \n0  {'core': {'sourceId': 'Compendium.pf2e.pathfin...            NaN  \n1  {'core': {'sourceId': 'Compendium.pf2e.pathfin...            NaN  \n2  {'core': {'sourceId': 'Compendium.pf2e.pathfin...            NaN  \n3  {'core': {'sourceId': 'Compendium.pf2e.pathfin...            NaN  \n4  {'core': {'sourceId': 'Compendium.pf2e.pathfin...            NaN  ",
      "text/html": "<div>\n<style scoped>\n    .dataframe tbody tr th:only-of-type {\n        vertical-align: middle;\n    }\n\n    .dataframe tbody tr th {\n        vertical-align: top;\n    }\n\n    .dataframe thead th {\n        text-align: right;\n    }\n</style>\n<table border=\"1\" class=\"dataframe\">\n  <thead>\n    <tr style=\"text-align: right;\">\n      <th></th>\n      <th>_id</th>\n      <th>img</th>\n      <th>items</th>\n      <th>name</th>\n      <th>system</th>\n      <th>type</th>\n      <th>flags</th>\n      <th>prototypeToken</th>\n    </tr>\n  </thead>\n  <tbody>\n    <tr>\n      <th>0</th>\n      <td>024PqcF8yMRBrPuq</td>\n      <td>systems/pf2e/icons/default-icons/npc.svg</td>\n      <td>[{'_id': 'B7rzf0nBJmzg8x0y', 'img': 'systems/p...</td>\n      <td>Adult White Dragon</td>\n      <td>{'abilities': {'cha': {'mod': 1}, 'con': {'mod...</td>\n      <td>npc</td>\n      <td>{'core': {'sourceId': 'Compendium.pf2e.pathfin...</td>\n      <td>NaN</td>\n    </tr>\n    <tr>\n      <th>1</th>\n      <td>05E3kkjoLZVjFOeO</td>\n      <td>systems/pf2e/icons/default-icons/npc.svg</td>\n      <td>[{'_id': 'mYNDkS27YQRyy1F0', 'img': 'systems/p...</td>\n      <td>Brontosaurus</td>\n      <td>{'abilities': {'cha': {'mod': 1}, 'con': {'mod...</td>\n      <td>npc</td>\n      <td>{'core': {'sourceId': 'Compendium.pf2e.pathfin...</td>\n      <td>NaN</td>\n    </tr>\n    <tr>\n      <th>2</th>\n      <td>05wwpHHsBlxBbdkN</td>\n      <td>systems/pf2e/icons/default-icons/npc.svg</td>\n      <td>[{'_id': 'WkPeg600zGONsuJz', 'img': 'systems/p...</td>\n      <td>Giant Anaconda</td>\n      <td>{'abilities': {'cha': {'mod': -2}, 'con': {'mo...</td>\n      <td>npc</td>\n      <td>{'core': {'sourceId': 'Compendium.pf2e.pathfin...</td>\n      <td>NaN</td>\n    </tr>\n    <tr>\n      <th>3</th>\n      <td>0FGz2eXm0SB04sJW</td>\n      <td>systems/pf2e/icons/default-icons/npc.svg</td>\n      <td>[{'_id': 'joBYS96mXSnZC1WB', 'img': 'systems/p...</td>\n      <td>Ancient Green Dragon</td>\n      <td>{'abilities': {'cha': {'mod': 6}, 'con': {'mod...</td>\n      <td>npc</td>\n      <td>{'core': {'sourceId': 'Compendium.pf2e.pathfin...</td>\n      <td>NaN</td>\n    </tr>\n    <tr>\n      <th>4</th>\n      <td>0HjVFx8qIKDCfblg</td>\n      <td>systems/pf2e/icons/default-icons/npc.svg</td>\n      <td>[{'_id': 'xlUnQcjrxeMXu5Cd', 'img': 'systems/p...</td>\n      <td>Lantern Archon</td>\n      <td>{'abilities': {'cha': {'mod': 1}, 'con': {'mod...</td>\n      <td>npc</td>\n      <td>{'core': {'sourceId': 'Compendium.pf2e.pathfin...</td>\n      <td>NaN</td>\n    </tr>\n  </tbody>\n</table>\n</div>"
     },
     "execution_count": 3,
     "metadata": {},
     "output_type": "execute_result"
    }
   ],
   "source": [
    "bestiary.head()"
   ],
   "metadata": {
    "collapsed": false
   }
  },
  {
   "cell_type": "markdown",
   "source": [
    "```unpack_column``` - Funkcja która rozpakowuje słownik i zmienia go w dataframe. Printuje pierwszą wartość tabeli i długość"
   ],
   "metadata": {
    "collapsed": false
   }
  },
  {
   "cell_type": "code",
   "execution_count": 4,
   "outputs": [],
   "source": [
    "from training.analysis_functions import unpack_column"
   ],
   "metadata": {
    "collapsed": false
   }
  },
  {
   "cell_type": "code",
   "execution_count": 5,
   "outputs": [],
   "source": [
    "bestiary_system = unpack_column(bestiary, \"system\")"
   ],
   "metadata": {
    "collapsed": false
   }
  },
  {
   "cell_type": "markdown",
   "source": [
    "## Abilities"
   ],
   "metadata": {
    "collapsed": false
   }
  },
  {
   "cell_type": "code",
   "execution_count": 6,
   "outputs": [],
   "source": [
    "abilities = unpack_column(bestiary_system, \"abilities\")"
   ],
   "metadata": {
    "collapsed": false
   }
  },
  {
   "cell_type": "code",
   "execution_count": 7,
   "outputs": [
    {
     "name": "stdout",
     "output_type": "stream",
     "text": [
      "<class 'pandas.core.frame.DataFrame'>\n",
      "Int64Index: 1206 entries, 0 to 364\n",
      "Data columns (total 6 columns):\n",
      " #   Column  Non-Null Count  Dtype \n",
      "---  ------  --------------  ----- \n",
      " 0   cha     1206 non-null   object\n",
      " 1   con     1206 non-null   object\n",
      " 2   dex     1206 non-null   object\n",
      " 3   int     1206 non-null   object\n",
      " 4   str     1206 non-null   object\n",
      " 5   wis     1206 non-null   object\n",
      "dtypes: object(6)\n",
      "memory usage: 66.0+ KB\n"
     ]
    }
   ],
   "source": [
    "abilities.info()"
   ],
   "metadata": {
    "collapsed": false
   }
  },
  {
   "cell_type": "code",
   "execution_count": 8,
   "outputs": [
    {
     "data": {
      "text/plain": "           cha         con         dex          int          str         wis\n0   {'mod': 1}  {'mod': 5}  {'mod': 2}   {'mod': 1}   {'mod': 7}  {'mod': 2}\n1   {'mod': 1}  {'mod': 5}  {'mod': 0}  {'mod': -4}   {'mod': 9}  {'mod': 2}\n2  {'mod': -2}  {'mod': 6}  {'mod': 3}  {'mod': -4}   {'mod': 7}  {'mod': 3}\n3   {'mod': 6}  {'mod': 5}  {'mod': 4}   {'mod': 6}   {'mod': 7}  {'mod': 5}\n4   {'mod': 1}  {'mod': 1}  {'mod': 3}  {'mod': -1}  {'mod': -5}  {'mod': 1}",
      "text/html": "<div>\n<style scoped>\n    .dataframe tbody tr th:only-of-type {\n        vertical-align: middle;\n    }\n\n    .dataframe tbody tr th {\n        vertical-align: top;\n    }\n\n    .dataframe thead th {\n        text-align: right;\n    }\n</style>\n<table border=\"1\" class=\"dataframe\">\n  <thead>\n    <tr style=\"text-align: right;\">\n      <th></th>\n      <th>cha</th>\n      <th>con</th>\n      <th>dex</th>\n      <th>int</th>\n      <th>str</th>\n      <th>wis</th>\n    </tr>\n  </thead>\n  <tbody>\n    <tr>\n      <th>0</th>\n      <td>{'mod': 1}</td>\n      <td>{'mod': 5}</td>\n      <td>{'mod': 2}</td>\n      <td>{'mod': 1}</td>\n      <td>{'mod': 7}</td>\n      <td>{'mod': 2}</td>\n    </tr>\n    <tr>\n      <th>1</th>\n      <td>{'mod': 1}</td>\n      <td>{'mod': 5}</td>\n      <td>{'mod': 0}</td>\n      <td>{'mod': -4}</td>\n      <td>{'mod': 9}</td>\n      <td>{'mod': 2}</td>\n    </tr>\n    <tr>\n      <th>2</th>\n      <td>{'mod': -2}</td>\n      <td>{'mod': 6}</td>\n      <td>{'mod': 3}</td>\n      <td>{'mod': -4}</td>\n      <td>{'mod': 7}</td>\n      <td>{'mod': 3}</td>\n    </tr>\n    <tr>\n      <th>3</th>\n      <td>{'mod': 6}</td>\n      <td>{'mod': 5}</td>\n      <td>{'mod': 4}</td>\n      <td>{'mod': 6}</td>\n      <td>{'mod': 7}</td>\n      <td>{'mod': 5}</td>\n    </tr>\n    <tr>\n      <th>4</th>\n      <td>{'mod': 1}</td>\n      <td>{'mod': 1}</td>\n      <td>{'mod': 3}</td>\n      <td>{'mod': -1}</td>\n      <td>{'mod': -5}</td>\n      <td>{'mod': 1}</td>\n    </tr>\n  </tbody>\n</table>\n</div>"
     },
     "execution_count": 8,
     "metadata": {},
     "output_type": "execute_result"
    }
   ],
   "source": [
    "abilities.head()"
   ],
   "metadata": {
    "collapsed": false
   }
  },
  {
   "cell_type": "markdown",
   "source": [
    "Sprawdzenie jakie klucze występują w słownikach - czy tylko ```mod```?"
   ],
   "metadata": {
    "collapsed": false
   }
  },
  {
   "cell_type": "code",
   "execution_count": 9,
   "outputs": [
    {
     "name": "stdout",
     "output_type": "stream",
     "text": [
      "cha: ok\n",
      "con: ok\n",
      "dex: ok\n",
      "int: ok\n",
      "str: ok\n",
      "wis: ok\n"
     ]
    }
   ],
   "source": [
    "for col in abilities.columns:\n",
    "    print(f\"{col}: \", end=\"\")\n",
    "    temp = unpack_column(abilities, col)\n",
    "    print(\"ok\" if len(temp.columns) > 0 or \"mod\" not in temp.columns else \"More keys\\n\")"
   ],
   "metadata": {
    "collapsed": false
   }
  },
  {
   "cell_type": "markdown",
   "source": [
    "Same mody, więc możnachyba zmienić te słowniki na wartość"
   ],
   "metadata": {
    "collapsed": false
   }
  },
  {
   "cell_type": "code",
   "execution_count": 10,
   "outputs": [
    {
     "data": {
      "text/plain": "           cha         con         dex          int          str         wis\n0   {'mod': 1}  {'mod': 5}  {'mod': 2}   {'mod': 1}   {'mod': 7}  {'mod': 2}\n1   {'mod': 1}  {'mod': 5}  {'mod': 0}  {'mod': -4}   {'mod': 9}  {'mod': 2}\n2  {'mod': -2}  {'mod': 6}  {'mod': 3}  {'mod': -4}   {'mod': 7}  {'mod': 3}\n3   {'mod': 6}  {'mod': 5}  {'mod': 4}   {'mod': 6}   {'mod': 7}  {'mod': 5}\n4   {'mod': 1}  {'mod': 1}  {'mod': 3}  {'mod': -1}  {'mod': -5}  {'mod': 1}",
      "text/html": "<div>\n<style scoped>\n    .dataframe tbody tr th:only-of-type {\n        vertical-align: middle;\n    }\n\n    .dataframe tbody tr th {\n        vertical-align: top;\n    }\n\n    .dataframe thead th {\n        text-align: right;\n    }\n</style>\n<table border=\"1\" class=\"dataframe\">\n  <thead>\n    <tr style=\"text-align: right;\">\n      <th></th>\n      <th>cha</th>\n      <th>con</th>\n      <th>dex</th>\n      <th>int</th>\n      <th>str</th>\n      <th>wis</th>\n    </tr>\n  </thead>\n  <tbody>\n    <tr>\n      <th>0</th>\n      <td>{'mod': 1}</td>\n      <td>{'mod': 5}</td>\n      <td>{'mod': 2}</td>\n      <td>{'mod': 1}</td>\n      <td>{'mod': 7}</td>\n      <td>{'mod': 2}</td>\n    </tr>\n    <tr>\n      <th>1</th>\n      <td>{'mod': 1}</td>\n      <td>{'mod': 5}</td>\n      <td>{'mod': 0}</td>\n      <td>{'mod': -4}</td>\n      <td>{'mod': 9}</td>\n      <td>{'mod': 2}</td>\n    </tr>\n    <tr>\n      <th>2</th>\n      <td>{'mod': -2}</td>\n      <td>{'mod': 6}</td>\n      <td>{'mod': 3}</td>\n      <td>{'mod': -4}</td>\n      <td>{'mod': 7}</td>\n      <td>{'mod': 3}</td>\n    </tr>\n    <tr>\n      <th>3</th>\n      <td>{'mod': 6}</td>\n      <td>{'mod': 5}</td>\n      <td>{'mod': 4}</td>\n      <td>{'mod': 6}</td>\n      <td>{'mod': 7}</td>\n      <td>{'mod': 5}</td>\n    </tr>\n    <tr>\n      <th>4</th>\n      <td>{'mod': 1}</td>\n      <td>{'mod': 1}</td>\n      <td>{'mod': 3}</td>\n      <td>{'mod': -1}</td>\n      <td>{'mod': -5}</td>\n      <td>{'mod': 1}</td>\n    </tr>\n  </tbody>\n</table>\n</div>"
     },
     "execution_count": 10,
     "metadata": {},
     "output_type": "execute_result"
    }
   ],
   "source": [
    "abilities.head()"
   ],
   "metadata": {
    "collapsed": false
   }
  },
  {
   "cell_type": "markdown",
   "source": [
    "### Zamiana słowników na wartości *mod*"
   ],
   "metadata": {
    "collapsed": false
   }
  },
  {
   "cell_type": "code",
   "execution_count": 11,
   "outputs": [],
   "source": [
    "from copy import deepcopy\n",
    "\n",
    "\n",
    "abilities_backup = deepcopy(abilities)"
   ],
   "metadata": {
    "collapsed": false
   }
  },
  {
   "cell_type": "markdown",
   "source": [
    "// Znalazłam ładniejszy sposób na podmianę"
   ],
   "metadata": {
    "collapsed": false
   }
  },
  {
   "cell_type": "code",
   "execution_count": 12,
   "outputs": [],
   "source": [
    "abilities = abilities.applymap(lambda x: x.get(\"mod\"), na_action=\"ignore\")"
   ],
   "metadata": {
    "collapsed": false
   }
  },
  {
   "cell_type": "code",
   "execution_count": 13,
   "outputs": [
    {
     "data": {
      "text/plain": "   cha  con  dex  int  str  wis\n0    1    5    2    1    7    2\n1    1    5    0   -4    9    2\n2   -2    6    3   -4    7    3\n3    6    5    4    6    7    5\n4    1    1    3   -1   -5    1",
      "text/html": "<div>\n<style scoped>\n    .dataframe tbody tr th:only-of-type {\n        vertical-align: middle;\n    }\n\n    .dataframe tbody tr th {\n        vertical-align: top;\n    }\n\n    .dataframe thead th {\n        text-align: right;\n    }\n</style>\n<table border=\"1\" class=\"dataframe\">\n  <thead>\n    <tr style=\"text-align: right;\">\n      <th></th>\n      <th>cha</th>\n      <th>con</th>\n      <th>dex</th>\n      <th>int</th>\n      <th>str</th>\n      <th>wis</th>\n    </tr>\n  </thead>\n  <tbody>\n    <tr>\n      <th>0</th>\n      <td>1</td>\n      <td>5</td>\n      <td>2</td>\n      <td>1</td>\n      <td>7</td>\n      <td>2</td>\n    </tr>\n    <tr>\n      <th>1</th>\n      <td>1</td>\n      <td>5</td>\n      <td>0</td>\n      <td>-4</td>\n      <td>9</td>\n      <td>2</td>\n    </tr>\n    <tr>\n      <th>2</th>\n      <td>-2</td>\n      <td>6</td>\n      <td>3</td>\n      <td>-4</td>\n      <td>7</td>\n      <td>3</td>\n    </tr>\n    <tr>\n      <th>3</th>\n      <td>6</td>\n      <td>5</td>\n      <td>4</td>\n      <td>6</td>\n      <td>7</td>\n      <td>5</td>\n    </tr>\n    <tr>\n      <th>4</th>\n      <td>1</td>\n      <td>1</td>\n      <td>3</td>\n      <td>-1</td>\n      <td>-5</td>\n      <td>1</td>\n    </tr>\n  </tbody>\n</table>\n</div>"
     },
     "execution_count": 13,
     "metadata": {},
     "output_type": "execute_result"
    }
   ],
   "source": [
    "abilities.head()"
   ],
   "metadata": {
    "collapsed": false
   }
  },
  {
   "cell_type": "markdown",
   "source": [
    "**abilities do uwzględnienia w predykcji**"
   ],
   "metadata": {
    "collapsed": false
   }
  },
  {
   "cell_type": "markdown",
   "source": [
    "## Analiza attributes"
   ],
   "metadata": {
    "collapsed": false
   }
  },
  {
   "cell_type": "code",
   "execution_count": 14,
   "outputs": [],
   "source": [
    "attributes = unpack_column(bestiary_system, \"attributes\")"
   ],
   "metadata": {
    "collapsed": false
   }
  },
  {
   "cell_type": "code",
   "execution_count": 15,
   "outputs": [
    {
     "name": "stdout",
     "output_type": "stream",
     "text": [
      "<class 'pandas.core.frame.DataFrame'>\n",
      "Int64Index: 1206 entries, 0 to 364\n",
      "Data columns (total 11 columns):\n",
      " #   Column       Non-Null Count  Dtype  \n",
      "---  ------       --------------  -----  \n",
      " 0   ac           1206 non-null   object \n",
      " 1   allSaves     1206 non-null   object \n",
      " 2   hp           1206 non-null   object \n",
      " 3   immunities   637 non-null    object \n",
      " 4   initiative   1206 non-null   object \n",
      " 5   perception   1206 non-null   object \n",
      " 6   speed        1206 non-null   object \n",
      " 7   weaknesses   463 non-null    object \n",
      " 8   resistances  344 non-null    object \n",
      " 9   hardness     10 non-null     object \n",
      " 10  adjustment   0 non-null      float64\n",
      "dtypes: float64(1), object(10)\n",
      "memory usage: 113.1+ KB\n"
     ]
    }
   ],
   "source": [
    "attributes.info()"
   ],
   "metadata": {
    "collapsed": false
   }
  },
  {
   "cell_type": "markdown",
   "source": [
    "Brakujące wartości w kolumnach:\n",
    "* immunities\n",
    "* weaknesses\n",
    "* resistance\n",
    "W *adjustments* nic nie ma"
   ],
   "metadata": {
    "collapsed": false
   }
  },
  {
   "cell_type": "code",
   "execution_count": 16,
   "outputs": [
    {
     "data": {
      "text/plain": "                             ac  \\\n0  {'details': '', 'value': 29}   \n1  {'details': '', 'value': 28}   \n2  {'details': '', 'value': 25}   \n3  {'details': '', 'value': 41}   \n4  {'details': '', 'value': 16}   \n\n                                        allSaves  \\\n0  {'value': '+1 status to all saves vs. magic'}   \n1                                  {'value': ''}   \n2                                  {'value': ''}   \n3  {'value': '+1 status to all saves vs. magic'}   \n4                                  {'value': ''}   \n\n                                                  hp  \\\n0  {'details': '', 'max': 215, 'temp': 0, 'value'...   \n1  {'details': '', 'max': 220, 'temp': 0, 'value'...   \n2  {'details': '', 'max': 175, 'temp': 0, 'value'...   \n3  {'details': '', 'max': 315, 'temp': 0, 'value'...   \n4  {'details': '', 'max': 20, 'temp': 0, 'value':...   \n\n                                          immunities  \\\n0  [{'type': 'cold'}, {'type': 'paralyzed'}, {'ty...   \n1                                                NaN   \n2                                                NaN   \n3  [{'type': 'paralyzed'}, {'type': 'poison'}, {'...   \n4                                                NaN   \n\n                  initiative     perception  \\\n0  {'ability': 'perception'}  {'value': 20}   \n1  {'ability': 'perception'}  {'value': 16}   \n2  {'ability': 'perception'}  {'value': 17}   \n3  {'ability': 'perception'}  {'value': 30}   \n4  {'ability': 'perception'}   {'value': 6}   \n\n                                               speed  \\\n0  {'details': 'climb on ice only', 'otherSpeeds'...   \n1                   {'otherSpeeds': [], 'value': 35}   \n2  {'otherSpeeds': [{'type': 'climb', 'value': 30...   \n3  {'details': 'trackless step, woodland stride',...   \n4  {'otherSpeeds': [{'type': 'fly', 'value': 40}]...   \n\n                        weaknesses                     resistances hardness  \\\n0  [{'type': 'fire', 'value': 10}]                             NaN      NaN   \n1                              NaN                             NaN      NaN   \n2                              NaN                             NaN      NaN   \n3                              NaN                             NaN      NaN   \n4   [{'type': 'evil', 'value': 3}]  [{'type': 'fire', 'value': 3}]      NaN   \n\n   adjustment  \n0         NaN  \n1         NaN  \n2         NaN  \n3         NaN  \n4         NaN  ",
      "text/html": "<div>\n<style scoped>\n    .dataframe tbody tr th:only-of-type {\n        vertical-align: middle;\n    }\n\n    .dataframe tbody tr th {\n        vertical-align: top;\n    }\n\n    .dataframe thead th {\n        text-align: right;\n    }\n</style>\n<table border=\"1\" class=\"dataframe\">\n  <thead>\n    <tr style=\"text-align: right;\">\n      <th></th>\n      <th>ac</th>\n      <th>allSaves</th>\n      <th>hp</th>\n      <th>immunities</th>\n      <th>initiative</th>\n      <th>perception</th>\n      <th>speed</th>\n      <th>weaknesses</th>\n      <th>resistances</th>\n      <th>hardness</th>\n      <th>adjustment</th>\n    </tr>\n  </thead>\n  <tbody>\n    <tr>\n      <th>0</th>\n      <td>{'details': '', 'value': 29}</td>\n      <td>{'value': '+1 status to all saves vs. magic'}</td>\n      <td>{'details': '', 'max': 215, 'temp': 0, 'value'...</td>\n      <td>[{'type': 'cold'}, {'type': 'paralyzed'}, {'ty...</td>\n      <td>{'ability': 'perception'}</td>\n      <td>{'value': 20}</td>\n      <td>{'details': 'climb on ice only', 'otherSpeeds'...</td>\n      <td>[{'type': 'fire', 'value': 10}]</td>\n      <td>NaN</td>\n      <td>NaN</td>\n      <td>NaN</td>\n    </tr>\n    <tr>\n      <th>1</th>\n      <td>{'details': '', 'value': 28}</td>\n      <td>{'value': ''}</td>\n      <td>{'details': '', 'max': 220, 'temp': 0, 'value'...</td>\n      <td>NaN</td>\n      <td>{'ability': 'perception'}</td>\n      <td>{'value': 16}</td>\n      <td>{'otherSpeeds': [], 'value': 35}</td>\n      <td>NaN</td>\n      <td>NaN</td>\n      <td>NaN</td>\n      <td>NaN</td>\n    </tr>\n    <tr>\n      <th>2</th>\n      <td>{'details': '', 'value': 25}</td>\n      <td>{'value': ''}</td>\n      <td>{'details': '', 'max': 175, 'temp': 0, 'value'...</td>\n      <td>NaN</td>\n      <td>{'ability': 'perception'}</td>\n      <td>{'value': 17}</td>\n      <td>{'otherSpeeds': [{'type': 'climb', 'value': 30...</td>\n      <td>NaN</td>\n      <td>NaN</td>\n      <td>NaN</td>\n      <td>NaN</td>\n    </tr>\n    <tr>\n      <th>3</th>\n      <td>{'details': '', 'value': 41}</td>\n      <td>{'value': '+1 status to all saves vs. magic'}</td>\n      <td>{'details': '', 'max': 315, 'temp': 0, 'value'...</td>\n      <td>[{'type': 'paralyzed'}, {'type': 'poison'}, {'...</td>\n      <td>{'ability': 'perception'}</td>\n      <td>{'value': 30}</td>\n      <td>{'details': 'trackless step, woodland stride',...</td>\n      <td>NaN</td>\n      <td>NaN</td>\n      <td>NaN</td>\n      <td>NaN</td>\n    </tr>\n    <tr>\n      <th>4</th>\n      <td>{'details': '', 'value': 16}</td>\n      <td>{'value': ''}</td>\n      <td>{'details': '', 'max': 20, 'temp': 0, 'value':...</td>\n      <td>NaN</td>\n      <td>{'ability': 'perception'}</td>\n      <td>{'value': 6}</td>\n      <td>{'otherSpeeds': [{'type': 'fly', 'value': 40}]...</td>\n      <td>[{'type': 'evil', 'value': 3}]</td>\n      <td>[{'type': 'fire', 'value': 3}]</td>\n      <td>NaN</td>\n      <td>NaN</td>\n    </tr>\n  </tbody>\n</table>\n</div>"
     },
     "execution_count": 16,
     "metadata": {},
     "output_type": "execute_result"
    }
   ],
   "source": [
    "attributes.head()"
   ],
   "metadata": {
    "collapsed": false
   }
  },
  {
   "cell_type": "code",
   "execution_count": 17,
   "outputs": [],
   "source": [
    "# attributes.columns.values"
   ],
   "metadata": {
    "collapsed": false
   }
  },
  {
   "cell_type": "markdown",
   "source": [
    "Kolumny:\n",
    "* ac - do sprawdzenia (przydatne)\n",
    "* allSaves - do sprawdzenia\n",
    "* hp - do sprawdzenia (przydatne)\n",
    "* immunities - do sprawdzenia (sporo braków)\n",
    "* initiative - do sprawdzenia\n",
    "* perception - do sprawdzenia (wygląda obiecująco)\n",
    "* weaknesses - do sprawdzenia (sporo braków)\n",
    "* resistance - do sprawdzenia (sporo braków)"
   ],
   "metadata": {
    "collapsed": false
   }
  },
  {
   "cell_type": "markdown",
   "source": [
    "### Analiza attributes: ac"
   ],
   "metadata": {
    "collapsed": false
   }
  },
  {
   "cell_type": "code",
   "execution_count": 18,
   "outputs": [],
   "source": [
    "ac = unpack_column(attributes, \"ac\")"
   ],
   "metadata": {
    "collapsed": false
   }
  },
  {
   "cell_type": "code",
   "execution_count": 19,
   "outputs": [
    {
     "name": "stdout",
     "output_type": "stream",
     "text": [
      "<class 'pandas.core.frame.DataFrame'>\n",
      "Int64Index: 1206 entries, 0 to 364\n",
      "Data columns (total 2 columns):\n",
      " #   Column   Non-Null Count  Dtype \n",
      "---  ------   --------------  ----- \n",
      " 0   details  1206 non-null   object\n",
      " 1   value    1206 non-null   int64 \n",
      "dtypes: int64(1), object(1)\n",
      "memory usage: 28.3+ KB\n"
     ]
    }
   ],
   "source": [
    "ac.info()"
   ],
   "metadata": {
    "collapsed": false
   }
  },
  {
   "cell_type": "code",
   "execution_count": 20,
   "outputs": [
    {
     "data": {
      "text/plain": "  details  value\n0             29\n1             28\n2             25\n3             41\n4             16",
      "text/html": "<div>\n<style scoped>\n    .dataframe tbody tr th:only-of-type {\n        vertical-align: middle;\n    }\n\n    .dataframe tbody tr th {\n        vertical-align: top;\n    }\n\n    .dataframe thead th {\n        text-align: right;\n    }\n</style>\n<table border=\"1\" class=\"dataframe\">\n  <thead>\n    <tr style=\"text-align: right;\">\n      <th></th>\n      <th>details</th>\n      <th>value</th>\n    </tr>\n  </thead>\n  <tbody>\n    <tr>\n      <th>0</th>\n      <td></td>\n      <td>29</td>\n    </tr>\n    <tr>\n      <th>1</th>\n      <td></td>\n      <td>28</td>\n    </tr>\n    <tr>\n      <th>2</th>\n      <td></td>\n      <td>25</td>\n    </tr>\n    <tr>\n      <th>3</th>\n      <td></td>\n      <td>41</td>\n    </tr>\n    <tr>\n      <th>4</th>\n      <td></td>\n      <td>16</td>\n    </tr>\n  </tbody>\n</table>\n</div>"
     },
     "execution_count": 20,
     "metadata": {},
     "output_type": "execute_result"
    }
   ],
   "source": [
    "ac.head()"
   ],
   "metadata": {
    "collapsed": false
   }
  },
  {
   "cell_type": "code",
   "execution_count": 21,
   "outputs": [],
   "source": [
    "ac = ac.replace(\"\", np.NAN)"
   ],
   "metadata": {
    "collapsed": false
   }
  },
  {
   "cell_type": "code",
   "execution_count": 22,
   "outputs": [
    {
     "name": "stdout",
     "output_type": "stream",
     "text": [
      "Null values:\n"
     ]
    },
    {
     "data": {
      "text/plain": "1147"
     },
     "execution_count": 22,
     "metadata": {},
     "output_type": "execute_result"
    }
   ],
   "source": [
    "print(\"Null values:\")\n",
    "ac[\"details\"].isnull().sum()"
   ],
   "metadata": {
    "collapsed": false
   }
  },
  {
   "cell_type": "code",
   "execution_count": 23,
   "outputs": [
    {
     "data": {
      "text/plain": "all-around vision                       25\nfed by metal                             6\n(21 with shield raised)                  2\n(25 with shield raised)                  2\n+1 status vs. evil creatures             2\n(22 when broken); construct armor        2\n(20 with shield raised)                  2\n22 with shield raised                    2\n(18 with shield raised)                  1\n(32 when broken); construct armor        1\n(26 when broken); construct armor        1\n(31 with guard raised)                   1\n(26 with shield raised)                  1\n(27 without alien vestment)              1\n(29 with shields raised)                 1\n(35 when broken); construct armor        1\n(22 against prey; see Hunt Prey)         1\n(10 from inside the Dimensional Pit)     1\nor 36 vs. non-magical                    1\n(14 when broken); construct armor        1\n(13 when broken); construct armor        1\n(22 with shield raised)                  1\n(15 when broken); construct armor        1\n(12 when broken); construct armor        1\nName: details, dtype: int64"
     },
     "execution_count": 23,
     "metadata": {},
     "output_type": "execute_result"
    }
   ],
   "source": [
    "ac[\"details\"].value_counts()"
   ],
   "metadata": {
    "collapsed": false
   }
  },
  {
   "cell_type": "markdown",
   "source": [
    "Można olać całość i uwzglednic jedynie **value**\n",
    "\n",
    "Przynajmniej tak mi się wydaje\n",
    "\n",
    "**ac value do uwzględnienia w predykcji**"
   ],
   "metadata": {
    "collapsed": false
   }
  },
  {
   "cell_type": "markdown",
   "source": [
    "### Analiza attributes: allSaves"
   ],
   "metadata": {
    "collapsed": false
   }
  },
  {
   "cell_type": "code",
   "execution_count": 24,
   "outputs": [],
   "source": [
    "allSaves = unpack_column(attributes, \"allSaves\")"
   ],
   "metadata": {
    "collapsed": false
   }
  },
  {
   "cell_type": "code",
   "execution_count": 25,
   "outputs": [
    {
     "name": "stdout",
     "output_type": "stream",
     "text": [
      "<class 'pandas.core.frame.DataFrame'>\n",
      "Int64Index: 1206 entries, 0 to 364\n",
      "Data columns (total 1 columns):\n",
      " #   Column  Non-Null Count  Dtype \n",
      "---  ------  --------------  ----- \n",
      " 0   value   1202 non-null   object\n",
      "dtypes: object(1)\n",
      "memory usage: 18.8+ KB\n"
     ]
    }
   ],
   "source": [
    "allSaves.info()"
   ],
   "metadata": {
    "collapsed": false
   }
  },
  {
   "cell_type": "code",
   "execution_count": 26,
   "outputs": [
    {
     "data": {
      "text/plain": "                              value\n0  +1 status to all saves vs. magic\n1                                  \n2                                  \n3  +1 status to all saves vs. magic\n4                                  ",
      "text/html": "<div>\n<style scoped>\n    .dataframe tbody tr th:only-of-type {\n        vertical-align: middle;\n    }\n\n    .dataframe tbody tr th {\n        vertical-align: top;\n    }\n\n    .dataframe thead th {\n        text-align: right;\n    }\n</style>\n<table border=\"1\" class=\"dataframe\">\n  <thead>\n    <tr style=\"text-align: right;\">\n      <th></th>\n      <th>value</th>\n    </tr>\n  </thead>\n  <tbody>\n    <tr>\n      <th>0</th>\n      <td>+1 status to all saves vs. magic</td>\n    </tr>\n    <tr>\n      <th>1</th>\n      <td></td>\n    </tr>\n    <tr>\n      <th>2</th>\n      <td></td>\n    </tr>\n    <tr>\n      <th>3</th>\n      <td>+1 status to all saves vs. magic</td>\n    </tr>\n    <tr>\n      <th>4</th>\n      <td></td>\n    </tr>\n  </tbody>\n</table>\n</div>"
     },
     "execution_count": 26,
     "metadata": {},
     "output_type": "execute_result"
    }
   ],
   "source": [
    "allSaves.head()"
   ],
   "metadata": {
    "collapsed": false
   }
  },
  {
   "cell_type": "code",
   "execution_count": 27,
   "outputs": [],
   "source": [
    "allSaves = allSaves.replace(\"\", np.NAN)"
   ],
   "metadata": {
    "collapsed": false
   }
  },
  {
   "cell_type": "code",
   "execution_count": 28,
   "outputs": [
    {
     "name": "stdout",
     "output_type": "stream",
     "text": [
      "Null values:\n"
     ]
    },
    {
     "data": {
      "text/plain": "904"
     },
     "execution_count": 28,
     "metadata": {},
     "output_type": "execute_result"
    }
   ],
   "source": [
    "print(\"Null values:\")\n",
    "allSaves[\"value\"].isnull().sum()"
   ],
   "metadata": {
    "collapsed": false
   }
  },
  {
   "cell_type": "code",
   "execution_count": 29,
   "outputs": [
    {
     "data": {
      "text/plain": "+1 status to all saves vs. magic                                                           207\n+2 status to all saves vs. magic                                                             8\n+1 status to all saves vs. positive                                                          8\n+1 status to all saves vs. magic, +4 status to all saves vs. mental                          7\n+1 to all saves vs. magic                                                                    7\ncircle of protection                                                                         5\n+1 status to all saves vs. magic, +2 status to all saves vs. mental                          3\n+4 status to all saves vs. mental or divine                                                  3\n+2 circumstance to all saves vs. disease                                                     3\n+2 status to all saves vs. magic, +3 status to all saves vs. divine magic                    3\n+4 status to will saves vs. mental                                                           2\n-2 to all saves vs. emotion effects                                                          2\n+4 status to all saves vs. mental                                                            2\n+1 status to all saves vs. evil creatures                                                    2\n-1 status to all saves vs. death effects                                                     2\n+1 status to all saves vs. evil                                                              2\n-1 to all saves vs. emotion effects                                                          2\n+2 status to all saves vs. cold                                                              2\n+2 status to all saves vs. curses                                                            1\n+2 status to all saves vs. divine magic                                                      1\n+1 status to all saves vs. controlled condition                                              1\n+4 to will saves vs. fear                                                                    1\n+2 status to all saves vs. linguistic effects                                                1\n+1 circumstance to all saves vs. disease, poison, and radiation                              1\n+2 status to all saves vs. primal magic                                                      1\n+2 status to all saves vs. poison                                                            1\n+1 status to all saves vs. darkness or shadow                                                1\n+2 to all saves vs. poison                                                                   1\n+2 circumstance to all saves vs. shove and trip                                              1\n+4 status to all saves vs. sonic                                                             1\n+2 status to all saves vs. enchantment and illusion effects                                  1\n+2 status to all saves vs. fear                                                              1\n+2 to all saves vs. grapple or shove                                                         1\n+4 status to all saves vs. fear and dreams                                                   1\n+1 status to all saves vs. death effects                                                     1\n+4 status to all saves vs. fear                                                              1\n+2 status to all saves vs. magic, -2 to all saves (if heartstone is lost)                    1\n+2 circumstance to all saves vs. dream and sleep                                             1\n+2 to will saves vs. mental                                                                  1\n+2 status to all saves vs. magic, iron mind                                                  1\n+1 status to all saves vs. disease (critical failures become failures against diseases)      1\n+2 status to all saves vs. mental                                                            1\n+2 status to all saves vs. auditory and visual                                               1\n+2 to will saves vs. emotion                                                                 1\n+1 status to all saves vs. mental                                                            1\n+2 status to all saves vs. disease and poison                                                1\nguarded thoughts                                                                             1\n+1 status to all saves vs. magic , +2 status to all saves vs. divine magic                   1\n-2 status to all saves vs. curses                                                            1\n+1 status to all saves vs. divine and positive                                               1\nName: value, dtype: int64"
     },
     "execution_count": 29,
     "metadata": {},
     "output_type": "execute_result"
    }
   ],
   "source": [
    "allSaves[\"value\"].value_counts()"
   ],
   "metadata": {
    "collapsed": false
   }
  },
  {
   "cell_type": "markdown",
   "source": [
    "Nie wiem jak to uwzględnić\n",
    "\n",
    "Gdyby to było w jakiejś postaci typu tabela kategorii i wartość dodana np. cold: +2\n",
    "\n",
    "ale nie jest\n",
    "\n",
    "więc chyba można olać\n",
    "CR: wywalmy to"
   ],
   "metadata": {
    "collapsed": false
   }
  },
  {
   "cell_type": "markdown",
   "source": [
    "### Analiza attributes: *hp*"
   ],
   "metadata": {
    "collapsed": false
   }
  },
  {
   "cell_type": "code",
   "execution_count": 30,
   "outputs": [],
   "source": [
    "hp = unpack_column(attributes, \"hp\")\n",
    "hp = hp.replace(\"\", np.NAN)"
   ],
   "metadata": {
    "collapsed": false
   }
  },
  {
   "cell_type": "code",
   "execution_count": 31,
   "outputs": [
    {
     "name": "stdout",
     "output_type": "stream",
     "text": [
      "<class 'pandas.core.frame.DataFrame'>\n",
      "Int64Index: 1206 entries, 0 to 364\n",
      "Data columns (total 4 columns):\n",
      " #   Column   Non-Null Count  Dtype \n",
      "---  ------   --------------  ----- \n",
      " 0   details  195 non-null    object\n",
      " 1   max      1206 non-null   int64 \n",
      " 2   temp     1206 non-null   int64 \n",
      " 3   value    1206 non-null   int64 \n",
      "dtypes: int64(3), object(1)\n",
      "memory usage: 47.1+ KB\n"
     ]
    }
   ],
   "source": [
    "hp.info()"
   ],
   "metadata": {
    "collapsed": false
   }
  },
  {
   "cell_type": "code",
   "execution_count": 32,
   "outputs": [
    {
     "data": {
      "text/plain": "  details  max  temp  value\n0     NaN  215     0    215\n1     NaN  220     0    220\n2     NaN  175     0    175\n3     NaN  315     0    315\n4     NaN   20     0     20",
      "text/html": "<div>\n<style scoped>\n    .dataframe tbody tr th:only-of-type {\n        vertical-align: middle;\n    }\n\n    .dataframe tbody tr th {\n        vertical-align: top;\n    }\n\n    .dataframe thead th {\n        text-align: right;\n    }\n</style>\n<table border=\"1\" class=\"dataframe\">\n  <thead>\n    <tr style=\"text-align: right;\">\n      <th></th>\n      <th>details</th>\n      <th>max</th>\n      <th>temp</th>\n      <th>value</th>\n    </tr>\n  </thead>\n  <tbody>\n    <tr>\n      <th>0</th>\n      <td>NaN</td>\n      <td>215</td>\n      <td>0</td>\n      <td>215</td>\n    </tr>\n    <tr>\n      <th>1</th>\n      <td>NaN</td>\n      <td>220</td>\n      <td>0</td>\n      <td>220</td>\n    </tr>\n    <tr>\n      <th>2</th>\n      <td>NaN</td>\n      <td>175</td>\n      <td>0</td>\n      <td>175</td>\n    </tr>\n    <tr>\n      <th>3</th>\n      <td>NaN</td>\n      <td>315</td>\n      <td>0</td>\n      <td>315</td>\n    </tr>\n    <tr>\n      <th>4</th>\n      <td>NaN</td>\n      <td>20</td>\n      <td>0</td>\n      <td>20</td>\n    </tr>\n  </tbody>\n</table>\n</div>"
     },
     "execution_count": 32,
     "metadata": {},
     "output_type": "execute_result"
    }
   ],
   "source": [
    "hp.head()"
   ],
   "metadata": {
    "collapsed": false
   }
  },
  {
   "cell_type": "code",
   "execution_count": 33,
   "outputs": [
    {
     "name": "stdout",
     "output_type": "stream",
     "text": [
      "Null values:\n"
     ]
    },
    {
     "data": {
      "text/plain": "1011"
     },
     "execution_count": 33,
     "metadata": {},
     "output_type": "execute_result"
    }
   ],
   "source": [
    "print(\"Null values:\")\n",
    "hp[\"details\"].isnull().sum()"
   ],
   "metadata": {
    "collapsed": false
   }
  },
  {
   "cell_type": "code",
   "execution_count": 34,
   "outputs": [
    {
     "data": {
      "text/plain": "negative healing                         67\n(negative healing)                        8\ntroop defenses                            7\nnegative healing, rejuvenation            6\nregeneration 20 (deactivated by evil)     6\n                                         ..\nrepair mode                               1\nfast healing 2 (while touching fire)      1\nrejuvenation                              1\nfilth wallow                              1\ndeath umbra                               1\nName: details, Length: 84, dtype: int64"
     },
     "execution_count": 34,
     "metadata": {},
     "output_type": "execute_result"
    }
   ],
   "source": [
    "hp[\"details\"].value_counts()"
   ],
   "metadata": {
    "collapsed": false
   }
  },
  {
   "cell_type": "markdown",
   "source": [
    "analogicznie jak powyżej"
   ],
   "metadata": {
    "collapsed": false
   }
  },
  {
   "cell_type": "code",
   "execution_count": 35,
   "outputs": [
    {
     "data": {
      "text/plain": "0    1206\nName: temp, dtype: int64"
     },
     "execution_count": 35,
     "metadata": {},
     "output_type": "execute_result"
    }
   ],
   "source": [
    "hp[\"temp\"].value_counts()"
   ],
   "metadata": {
    "collapsed": false
   }
  },
  {
   "cell_type": "markdown",
   "source": [
    "temp to zawsze \"wartość pusta\" => 0 - można olać?\n",
    "\n",
    "**Wydaje mi się że stąd można \"ukraść\" max oraz value**"
   ],
   "metadata": {
    "collapsed": false
   }
  },
  {
   "cell_type": "code",
   "execution_count": 36,
   "outputs": [
    {
     "name": "stdout",
     "output_type": "stream",
     "text": [
      "<class 'pandas.core.frame.DataFrame'>\n",
      "Int64Index: 1206 entries, 0 to 364\n",
      "Data columns (total 4 columns):\n",
      " #   Column   Non-Null Count  Dtype \n",
      "---  ------   --------------  ----- \n",
      " 0   details  195 non-null    object\n",
      " 1   max      1206 non-null   int64 \n",
      " 2   temp     1206 non-null   int64 \n",
      " 3   value    1206 non-null   int64 \n",
      "dtypes: int64(3), object(1)\n",
      "memory usage: 47.1+ KB\n"
     ]
    }
   ],
   "source": [
    "hp[hp[\"max\"] == hp[\"value\"]].info()"
   ],
   "metadata": {
    "collapsed": false
   }
  },
  {
   "cell_type": "markdown",
   "source": [
    "*Podsumowanie*\n",
    "\n",
    "* details - nie będziemy uwzględniać\n",
    "* max - można, czemu nie (int + brak wartości pustych) (*update max == value*)\n",
    "* temp - i tak same 0 w bestiariuszach, więc jak na ten moment to raczej nie\n",
    "* **value - na pewno bierzemy**\n",
    "\n",
    "*CR: details -> Tutaj w sumie połowa potworków coś ma. Najczęstrze jest to negative healing - ale tylko ~67 wartości.\n",
    "No ale chyba jest to trudne do uwzględnienia więc można usunąć*"
   ],
   "metadata": {
    "collapsed": false
   }
  },
  {
   "cell_type": "markdown",
   "source": [
    "### Analiza attributes: *initiative*"
   ],
   "metadata": {
    "collapsed": false
   }
  },
  {
   "cell_type": "code",
   "execution_count": 37,
   "outputs": [],
   "source": [
    "initiative = unpack_column(attributes, \"initiative\")"
   ],
   "metadata": {
    "collapsed": false
   }
  },
  {
   "cell_type": "code",
   "execution_count": 38,
   "outputs": [
    {
     "name": "stdout",
     "output_type": "stream",
     "text": [
      "<class 'pandas.core.frame.DataFrame'>\n",
      "Int64Index: 1206 entries, 0 to 364\n",
      "Data columns (total 1 columns):\n",
      " #   Column   Non-Null Count  Dtype \n",
      "---  ------   --------------  ----- \n",
      " 0   ability  1206 non-null   object\n",
      "dtypes: object(1)\n",
      "memory usage: 18.8+ KB\n"
     ]
    }
   ],
   "source": [
    "initiative.info()"
   ],
   "metadata": {
    "collapsed": false
   }
  },
  {
   "cell_type": "code",
   "execution_count": 39,
   "outputs": [
    {
     "data": {
      "text/plain": "      ability\n0  perception\n1  perception\n2  perception\n3  perception\n4  perception",
      "text/html": "<div>\n<style scoped>\n    .dataframe tbody tr th:only-of-type {\n        vertical-align: middle;\n    }\n\n    .dataframe tbody tr th {\n        vertical-align: top;\n    }\n\n    .dataframe thead th {\n        text-align: right;\n    }\n</style>\n<table border=\"1\" class=\"dataframe\">\n  <thead>\n    <tr style=\"text-align: right;\">\n      <th></th>\n      <th>ability</th>\n    </tr>\n  </thead>\n  <tbody>\n    <tr>\n      <th>0</th>\n      <td>perception</td>\n    </tr>\n    <tr>\n      <th>1</th>\n      <td>perception</td>\n    </tr>\n    <tr>\n      <th>2</th>\n      <td>perception</td>\n    </tr>\n    <tr>\n      <th>3</th>\n      <td>perception</td>\n    </tr>\n    <tr>\n      <th>4</th>\n      <td>perception</td>\n    </tr>\n  </tbody>\n</table>\n</div>"
     },
     "execution_count": 39,
     "metadata": {},
     "output_type": "execute_result"
    }
   ],
   "source": [
    "initiative.head()"
   ],
   "metadata": {
    "collapsed": false
   }
  },
  {
   "cell_type": "code",
   "execution_count": 40,
   "outputs": [
    {
     "data": {
      "text/plain": "ability   \nperception    1205\ndec              1\ndtype: int64"
     },
     "execution_count": 40,
     "metadata": {},
     "output_type": "execute_result"
    }
   ],
   "source": [
    "initiative.value_counts()"
   ],
   "metadata": {
    "collapsed": false
   }
  },
  {
   "cell_type": "code",
   "execution_count": 41,
   "outputs": [
    {
     "data": {
      "text/plain": "   ability\n85     dec",
      "text/html": "<div>\n<style scoped>\n    .dataframe tbody tr th:only-of-type {\n        vertical-align: middle;\n    }\n\n    .dataframe tbody tr th {\n        vertical-align: top;\n    }\n\n    .dataframe thead th {\n        text-align: right;\n    }\n</style>\n<table border=\"1\" class=\"dataframe\">\n  <thead>\n    <tr style=\"text-align: right;\">\n      <th></th>\n      <th>ability</th>\n    </tr>\n  </thead>\n  <tbody>\n    <tr>\n      <th>85</th>\n      <td>dec</td>\n    </tr>\n  </tbody>\n</table>\n</div>"
     },
     "execution_count": 41,
     "metadata": {},
     "output_type": "execute_result"
    }
   ],
   "source": [
    "initiative.loc[initiative[\"ability\"] != \"perception\"]"
   ],
   "metadata": {
    "collapsed": false
   }
  },
  {
   "cell_type": "code",
   "execution_count": 42,
   "outputs": [
    {
     "data": {
      "text/plain": "_id                                                BRo0snV2sH6TFuh6\nimg                        systems/pf2e/icons/default-icons/npc.svg\nitems             [{'_id': '7aI3LWA9cnoKonHZ', 'img': 'systems/p...\nname                                                       Glabrezu\nsystem            {'abilities': {'cha': {'mod': 7}, 'con': {'mod...\ntype                                                            npc\nflags             {'core': {'sourceId': 'Compendium.pf2e.pathfin...\nprototypeToken                                                  NaN\nName: 85, dtype: object"
     },
     "execution_count": 42,
     "metadata": {},
     "output_type": "execute_result"
    }
   ],
   "source": [
    "bestiary.iloc[85, :]"
   ],
   "metadata": {
    "collapsed": false
   }
  },
  {
   "cell_type": "code",
   "execution_count": 43,
   "outputs": [
    {
     "data": {
      "text/plain": "{'value': 13}"
     },
     "execution_count": 43,
     "metadata": {},
     "output_type": "execute_result"
    }
   ],
   "source": [
    "bestiary.iloc[85, 4].get(\"details\").get(\"level\")"
   ],
   "metadata": {
    "collapsed": false
   }
  },
  {
   "cell_type": "markdown",
   "source": [
    "Wszystkie potworki oprócz Glabrezu mają wpisane \"perception\"\n",
    "\n",
    "Też raczej można olać\n",
    "*CR: olej*"
   ],
   "metadata": {
    "collapsed": false
   }
  },
  {
   "cell_type": "markdown",
   "source": [
    "### Analiza attributes: *perception*"
   ],
   "metadata": {
    "collapsed": false
   }
  },
  {
   "cell_type": "code",
   "execution_count": 44,
   "outputs": [],
   "source": [
    "perception = unpack_column(attributes, \"perception\")"
   ],
   "metadata": {
    "collapsed": false
   }
  },
  {
   "cell_type": "code",
   "execution_count": 45,
   "outputs": [
    {
     "name": "stdout",
     "output_type": "stream",
     "text": [
      "<class 'pandas.core.frame.DataFrame'>\n",
      "Int64Index: 1206 entries, 0 to 364\n",
      "Data columns (total 1 columns):\n",
      " #   Column  Non-Null Count  Dtype\n",
      "---  ------  --------------  -----\n",
      " 0   value   1206 non-null   int64\n",
      "dtypes: int64(1)\n",
      "memory usage: 18.8 KB\n"
     ]
    }
   ],
   "source": [
    "perception.info()"
   ],
   "metadata": {
    "collapsed": false
   }
  },
  {
   "cell_type": "code",
   "execution_count": 46,
   "outputs": [
    {
     "data": {
      "text/plain": "   value\n0     20\n1     16\n2     17\n3     30\n4      6",
      "text/html": "<div>\n<style scoped>\n    .dataframe tbody tr th:only-of-type {\n        vertical-align: middle;\n    }\n\n    .dataframe tbody tr th {\n        vertical-align: top;\n    }\n\n    .dataframe thead th {\n        text-align: right;\n    }\n</style>\n<table border=\"1\" class=\"dataframe\">\n  <thead>\n    <tr style=\"text-align: right;\">\n      <th></th>\n      <th>value</th>\n    </tr>\n  </thead>\n  <tbody>\n    <tr>\n      <th>0</th>\n      <td>20</td>\n    </tr>\n    <tr>\n      <th>1</th>\n      <td>16</td>\n    </tr>\n    <tr>\n      <th>2</th>\n      <td>17</td>\n    </tr>\n    <tr>\n      <th>3</th>\n      <td>30</td>\n    </tr>\n    <tr>\n      <th>4</th>\n      <td>6</td>\n    </tr>\n  </tbody>\n</table>\n</div>"
     },
     "execution_count": 46,
     "metadata": {},
     "output_type": "execute_result"
    }
   ],
   "source": [
    "perception.head()"
   ],
   "metadata": {
    "collapsed": false
   }
  },
  {
   "cell_type": "markdown",
   "source": [
    "Dane w \"przyjaznej\" formie, są uwzględniane w statystykach - *mogą się przydać*\n",
    "\n",
    "**można uwzględnić perception w predykcji**\n",
    "*CR: ok*"
   ],
   "metadata": {
    "collapsed": false
   }
  },
  {
   "cell_type": "markdown",
   "source": [
    "### Analiza attributes: *speed*"
   ],
   "metadata": {
    "collapsed": false
   }
  },
  {
   "cell_type": "code",
   "execution_count": 47,
   "outputs": [],
   "source": [
    "speed = unpack_column(attributes, \"speed\")"
   ],
   "metadata": {
    "collapsed": false
   }
  },
  {
   "cell_type": "code",
   "execution_count": 48,
   "outputs": [
    {
     "name": "stdout",
     "output_type": "stream",
     "text": [
      "<class 'pandas.core.frame.DataFrame'>\n",
      "Int64Index: 1206 entries, 0 to 364\n",
      "Data columns (total 3 columns):\n",
      " #   Column       Non-Null Count  Dtype  \n",
      "---  ------       --------------  -----  \n",
      " 0   details      124 non-null    object \n",
      " 1   otherSpeeds  1206 non-null   object \n",
      " 2   value        1205 non-null   float64\n",
      "dtypes: float64(1), object(2)\n",
      "memory usage: 37.7+ KB\n"
     ]
    }
   ],
   "source": [
    "speed.info()"
   ],
   "metadata": {
    "collapsed": false
   }
  },
  {
   "cell_type": "code",
   "execution_count": 49,
   "outputs": [
    {
     "data": {
      "text/plain": "                           details  \\\n0                climb on ice only   \n1                              NaN   \n2                              NaN   \n3  trackless step, woodland stride   \n4                              NaN   \n\n                                         otherSpeeds  value  \n0  [{'type': 'climb', 'value': 30}, {'type': 'fly...   30.0  \n1                                                 []   35.0  \n2  [{'type': 'climb', 'value': 30}, {'type': 'swi...   30.0  \n3  [{'type': 'fly', 'value': 200}, {'type': 'swim...   50.0  \n4                     [{'type': 'fly', 'value': 40}]    0.0  ",
      "text/html": "<div>\n<style scoped>\n    .dataframe tbody tr th:only-of-type {\n        vertical-align: middle;\n    }\n\n    .dataframe tbody tr th {\n        vertical-align: top;\n    }\n\n    .dataframe thead th {\n        text-align: right;\n    }\n</style>\n<table border=\"1\" class=\"dataframe\">\n  <thead>\n    <tr style=\"text-align: right;\">\n      <th></th>\n      <th>details</th>\n      <th>otherSpeeds</th>\n      <th>value</th>\n    </tr>\n  </thead>\n  <tbody>\n    <tr>\n      <th>0</th>\n      <td>climb on ice only</td>\n      <td>[{'type': 'climb', 'value': 30}, {'type': 'fly...</td>\n      <td>30.0</td>\n    </tr>\n    <tr>\n      <th>1</th>\n      <td>NaN</td>\n      <td>[]</td>\n      <td>35.0</td>\n    </tr>\n    <tr>\n      <th>2</th>\n      <td>NaN</td>\n      <td>[{'type': 'climb', 'value': 30}, {'type': 'swi...</td>\n      <td>30.0</td>\n    </tr>\n    <tr>\n      <th>3</th>\n      <td>trackless step, woodland stride</td>\n      <td>[{'type': 'fly', 'value': 200}, {'type': 'swim...</td>\n      <td>50.0</td>\n    </tr>\n    <tr>\n      <th>4</th>\n      <td>NaN</td>\n      <td>[{'type': 'fly', 'value': 40}]</td>\n      <td>0.0</td>\n    </tr>\n  </tbody>\n</table>\n</div>"
     },
     "execution_count": 49,
     "metadata": {},
     "output_type": "execute_result"
    }
   ],
   "source": [
    "speed.head()"
   ],
   "metadata": {
    "collapsed": false
   }
  },
  {
   "cell_type": "code",
   "execution_count": 50,
   "outputs": [
    {
     "data": {
      "text/plain": "1082"
     },
     "execution_count": 50,
     "metadata": {},
     "output_type": "execute_result"
    }
   ],
   "source": [
    "speed.details.isnull().sum()"
   ],
   "metadata": {
    "collapsed": false
   }
  },
  {
   "cell_type": "code",
   "execution_count": 52,
   "outputs": [],
   "source": [
    "def unique_val_list(column, key):\n",
    "\n",
    "    unique_val = defaultdict(lambda: 0)\n",
    "    temp = column[column.notnull()]\n",
    "\n",
    "    for row in temp.values:\n",
    "        for d in row:\n",
    "            unique_val[d.get(key)] += 1\n",
    "\n",
    "    return unique_val"
   ],
   "metadata": {
    "collapsed": false
   }
  },
  {
   "cell_type": "markdown",
   "source": [
    "Rodzaje other speeds"
   ],
   "metadata": {
    "collapsed": false
   }
  },
  {
   "cell_type": "code",
   "execution_count": 53,
   "outputs": [],
   "source": [
    "unique_speeds = unique_val_list(speed[\"otherSpeeds\"], \"type\")"
   ],
   "metadata": {
    "collapsed": false
   }
  },
  {
   "cell_type": "code",
   "execution_count": 54,
   "outputs": [
    {
     "name": "stdout",
     "output_type": "stream",
     "text": [
      "8\n"
     ]
    },
    {
     "data": {
      "text/plain": "defaultdict(<function __main__.unique_val_list.<locals>.<lambda>()>,\n            {'climb': 168,\n             'fly': 416,\n             'swim': 230,\n             'burrow': 86,\n             'Ice Burrow': 1,\n             'ice-burrow': 1,\n             'Air Walk': 2,\n             'Water Walk': 1})"
     },
     "metadata": {},
     "output_type": "display_data"
    }
   ],
   "source": [
    "print(len(unique_speeds))\n",
    "display(unique_speeds)"
   ],
   "metadata": {
    "collapsed": false
   }
  },
  {
   "cell_type": "markdown",
   "source": [
    "Wydaje mi się, żę też to można uwzględnić tylko, że trzeba to jakoś rozbić na kolumny i zdecydować co zrobić z wartościami brakującymi - pierwszy strzał to dać tam 0 (jak ktoś nie umie latać to fly speed == 0)\n",
    "\n",
    "**do uwzględnienia?**\n",
    "*CR: Tak. Kategoria: na później*"
   ],
   "metadata": {
    "collapsed": false
   }
  },
  {
   "cell_type": "markdown",
   "source": [
    "### Analiza attributes: *immunities*"
   ],
   "metadata": {
    "collapsed": false
   }
  },
  {
   "cell_type": "code",
   "execution_count": null,
   "outputs": [],
   "source": [
    "attributes.immunities"
   ],
   "metadata": {
    "collapsed": false
   }
  },
  {
   "cell_type": "code",
   "execution_count": null,
   "outputs": [],
   "source": [
    "attributes.immunities.info()"
   ],
   "metadata": {
    "collapsed": false
   }
  },
  {
   "cell_type": "markdown",
   "source": [
    "Niemal połowa potworków (z 1206) nie ma nic wpisane w tej kolumnie\n",
    "\n",
    "Wydaje mi się, że się raczej nie przyda\n",
    "\n",
    "Aczkolwiek można porozbijać na kolumny - może coś da\n",
    "*CR: na później (Jak osiągniemy wystarczająco dobry model bez tego to nie dodamy)*"
   ],
   "metadata": {
    "collapsed": false
   }
  },
  {
   "cell_type": "code",
   "execution_count": null,
   "outputs": [],
   "source": [
    "immunities_not_null = attributes[attributes[\"immunities\"].notnull()].immunities"
   ],
   "metadata": {
    "collapsed": false
   }
  },
  {
   "cell_type": "code",
   "execution_count": null,
   "outputs": [],
   "source": [
    "unique_immunities = unique_val_list(immunities_not_null, \"type\")\n",
    "print(len(unique_immunities))\n",
    "display(unique_immunities)"
   ],
   "metadata": {
    "collapsed": false
   }
  },
  {
   "cell_type": "markdown",
   "source": [
    "mamy 52 unikatowe wartości - kolasyczne pytanie:\n"
   ],
   "metadata": {
    "collapsed": false
   }
  },
  {
   "cell_type": "markdown",
   "source": [
    "### Analiza attributes: *weaknesses*"
   ],
   "metadata": {
    "collapsed": false
   }
  },
  {
   "cell_type": "code",
   "execution_count": 197,
   "outputs": [
    {
     "data": {
      "text/plain": "0          [{'type': 'fire', 'value': 10}]\n1                                      NaN\n2                                      NaN\n3                                      NaN\n4           [{'type': 'evil', 'value': 3}]\n                      ...                 \n360                                    NaN\n361    [{'type': 'cold-iron', 'value': 2}]\n362                                    NaN\n363                                    NaN\n364                                    NaN\nName: weaknesses, Length: 1206, dtype: object"
     },
     "execution_count": 197,
     "metadata": {},
     "output_type": "execute_result"
    }
   ],
   "source": [
    "attributes.weaknesses"
   ],
   "metadata": {
    "collapsed": false
   }
  },
  {
   "cell_type": "code",
   "execution_count": 202,
   "outputs": [],
   "source": [
    "not_null_weakness = attributes[pd.notnull(attributes.weaknesses)].weaknesses"
   ],
   "metadata": {
    "collapsed": false
   }
  },
  {
   "cell_type": "code",
   "execution_count": 203,
   "outputs": [
    {
     "data": {
      "text/plain": "0                      [{'type': 'fire', 'value': 10}]\n4                       [{'type': 'evil', 'value': 3}]\n6    [{'type': 'cold-iron', 'value': 5}, {'type': '...\n7                       [{'type': 'good', 'value': 5}]\n9    [{'type': 'positive', 'value': 5}, {'type': 's...\nName: weaknesses, dtype: object"
     },
     "execution_count": 203,
     "metadata": {},
     "output_type": "execute_result"
    }
   ],
   "source": [
    "not_null_weakness.head()"
   ],
   "metadata": {
    "collapsed": false
   }
  },
  {
   "cell_type": "code",
   "execution_count": 234,
   "outputs": [
    {
     "name": "stdout",
     "output_type": "stream",
     "text": [
      "4\n"
     ]
    }
   ],
   "source": [
    "print(max([len(v) for v in not_null_weakness.values]))"
   ],
   "metadata": {
    "collapsed": false
   }
  },
  {
   "cell_type": "markdown",
   "source": [
    "Potworki mają 0-4 słabości"
   ],
   "metadata": {
    "collapsed": false
   }
  },
  {
   "cell_type": "code",
   "execution_count": 204,
   "outputs": [],
   "source": [
    "unique_weaknesses = unique_val_list(not_null_weakness, \"type\")"
   ],
   "metadata": {
    "collapsed": false
   }
  },
  {
   "cell_type": "code",
   "execution_count": 205,
   "outputs": [
    {
     "data": {
      "text/plain": "defaultdict(<function __main__.unique_val_list.<locals>.<lambda>()>,\n            {'fire': 80,\n             'evil': 33,\n             'cold-iron': 115,\n             'good': 82,\n             'positive': 15,\n             'slashing': 24,\n             'cold': 48,\n             'bludgeoning': 7,\n             'silver': 14,\n             'chaotic': 8,\n             'vampire-weaknesses': 3,\n             'lawful': 12,\n             'area-damage': 54,\n             'splash-damage': 54,\n             'vulnerable-to-sunlight': 3,\n             'axe-vulnerability': 7,\n             'sonic': 8,\n             'salt': 3,\n             'piercing': 4,\n             'vorpal': 1,\n             'salt-water': 2,\n             'electricity': 5,\n             'orichalcum': 4,\n             'water': 10,\n             'mental': 6,\n             'negative': 1,\n             'acid': 1,\n             'air': 1,\n             'earth': 1,\n             'emotion': 1})"
     },
     "metadata": {},
     "output_type": "display_data"
    },
    {
     "name": "stdout",
     "output_type": "stream",
     "text": [
      "all weaknesses 607\n",
      "unique values: 30\n"
     ]
    }
   ],
   "source": [
    "display(unique_weaknesses)\n",
    "print(\"all weaknesses\", sum(unique_weaknesses.values()))\n",
    "print(\"unique values:\", len(unique_weaknesses))"
   ],
   "metadata": {
    "collapsed": false
   }
  },
  {
   "cell_type": "markdown",
   "source": [
    "Większość potworków nie ma słabości, około 10% ma dwie, a więcej (do 4) zdarza się sporadycznie\n",
    "\n",
    "*Zawsze można spróbować to uwzględnić może pomoże*\n",
    "*CR: Dodałabym do kategorii na później, bo wydaje mi się to istotną mechaniką gry.*"
   ],
   "metadata": {
    "collapsed": false
   }
  },
  {
   "cell_type": "markdown",
   "source": [
    "### Analiza attributes: *resistances*"
   ],
   "metadata": {
    "collapsed": false
   }
  },
  {
   "cell_type": "code",
   "execution_count": 235,
   "outputs": [
    {
     "data": {
      "text/plain": "0                                                    NaN\n1                                                    NaN\n2                                                    NaN\n3                                                    NaN\n4                         [{'type': 'fire', 'value': 3}]\n                             ...                        \n360                    [{'type': 'mental', 'value': 20}]\n361                                                  NaN\n362    [{'exceptions': ['adamantine', 'bludgeoning'],...\n363    [{'doubleVs': ['non-magical'], 'exceptions': [...\n364                                                  NaN\nName: resistances, Length: 1206, dtype: object"
     },
     "execution_count": 235,
     "metadata": {},
     "output_type": "execute_result"
    }
   ],
   "source": [
    "attributes.resistances"
   ],
   "metadata": {
    "collapsed": false
   }
  },
  {
   "cell_type": "code",
   "execution_count": 236,
   "outputs": [],
   "source": [
    "not_null_resistances = attributes[pd.notnull(attributes.resistances)].resistances"
   ],
   "metadata": {
    "collapsed": false
   }
  },
  {
   "cell_type": "code",
   "execution_count": 237,
   "outputs": [],
   "source": [
    "unique_resistances = unique_val_list(not_null_resistances, \"type\")"
   ],
   "metadata": {
    "collapsed": false
   }
  },
  {
   "cell_type": "code",
   "execution_count": 238,
   "outputs": [
    {
     "data": {
      "text/plain": "defaultdict(<function __main__.unique_val_list.<locals>.<lambda>()>,\n            {'fire': 66,\n             'all-damage': 30,\n             'bludgeoning': 47,\n             'piercing': 70,\n             'cold': 45,\n             'poison': 39,\n             'electricity': 34,\n             'slashing': 63,\n             'acid': 21,\n             'physical': 81,\n             'precision': 7,\n             'protean-anatomy': 6,\n             'mental': 35,\n             'negative': 12,\n             'sonic': 8,\n             'force': 1,\n             'critical-hits': 2,\n             'evil': 1,\n             'air': 1,\n             'earth': 1,\n             'plant': 1,\n             'water': 1})"
     },
     "metadata": {},
     "output_type": "display_data"
    },
    {
     "name": "stdout",
     "output_type": "stream",
     "text": [
      "all resistances 572\n",
      "unique values: 22\n"
     ]
    }
   ],
   "source": [
    "display(unique_resistances)\n",
    "print(\"all resistances\", sum(unique_resistances.values()))\n",
    "print(\"unique values:\", len(unique_resistances))"
   ],
   "metadata": {
    "collapsed": false
   }
  },
  {
   "cell_type": "markdown",
   "source": [
    "*To też można uwzględnić*\n",
    "\n",
    "Potencjalnie dużo kolumn może się stwożyć - podobnie jak wyżej tam gdzie brak wartości proponuję 0\n",
    "*CR: Dodałabym do kategorii na potem.*"
   ],
   "metadata": {
    "collapsed": false
   }
  },
  {
   "cell_type": "markdown",
   "source": [
    "### Analiza attributes: *hardness*"
   ],
   "metadata": {
    "collapsed": false
   }
  },
  {
   "cell_type": "code",
   "execution_count": 239,
   "outputs": [
    {
     "data": {
      "text/plain": "0      NaN\n1      NaN\n2      NaN\n3      NaN\n4      NaN\n      ... \n360    NaN\n361    NaN\n362    NaN\n363    NaN\n364    NaN\nName: hardness, Length: 1206, dtype: object"
     },
     "execution_count": 239,
     "metadata": {},
     "output_type": "execute_result"
    }
   ],
   "source": [
    "attributes.hardness"
   ],
   "metadata": {
    "collapsed": false
   }
  },
  {
   "cell_type": "code",
   "execution_count": 244,
   "outputs": [
    {
     "name": "stdout",
     "output_type": "stream",
     "text": [
      "<class 'pandas.core.series.Series'>\n",
      "Int64Index: 1206 entries, 0 to 364\n",
      "Series name: hardness\n",
      "Non-Null Count  Dtype \n",
      "--------------  ----- \n",
      "10 non-null     object\n",
      "dtypes: object(1)\n",
      "memory usage: 51.1+ KB\n"
     ]
    }
   ],
   "source": [
    "attributes.hardness.info()"
   ],
   "metadata": {
    "collapsed": false
   }
  },
  {
   "cell_type": "code",
   "execution_count": 245,
   "outputs": [
    {
     "data": {
      "text/plain": "0    NaN\n1    NaN\n2    NaN\n3    NaN\n4    NaN\nName: hardness, dtype: object"
     },
     "execution_count": 245,
     "metadata": {},
     "output_type": "execute_result"
    }
   ],
   "source": [
    "attributes.hardness.head()"
   ],
   "metadata": {
    "collapsed": false
   }
  },
  {
   "cell_type": "code",
   "execution_count": 247,
   "outputs": [],
   "source": [
    "hardness = unpack_column(attributes[pd.notnull(attributes.hardness)], \"hardness\")"
   ],
   "metadata": {
    "collapsed": false
   }
  },
  {
   "cell_type": "code",
   "execution_count": 248,
   "outputs": [
    {
     "data": {
      "text/plain": "     value\n109      2\n185      6\n286      9\n436     10\n306     10\n17      15\n56       8\n251     10\n253     14\n351      3",
      "text/html": "<div>\n<style scoped>\n    .dataframe tbody tr th:only-of-type {\n        vertical-align: middle;\n    }\n\n    .dataframe tbody tr th {\n        vertical-align: top;\n    }\n\n    .dataframe thead th {\n        text-align: right;\n    }\n</style>\n<table border=\"1\" class=\"dataframe\">\n  <thead>\n    <tr style=\"text-align: right;\">\n      <th></th>\n      <th>value</th>\n    </tr>\n  </thead>\n  <tbody>\n    <tr>\n      <th>109</th>\n      <td>2</td>\n    </tr>\n    <tr>\n      <th>185</th>\n      <td>6</td>\n    </tr>\n    <tr>\n      <th>286</th>\n      <td>9</td>\n    </tr>\n    <tr>\n      <th>436</th>\n      <td>10</td>\n    </tr>\n    <tr>\n      <th>306</th>\n      <td>10</td>\n    </tr>\n    <tr>\n      <th>17</th>\n      <td>15</td>\n    </tr>\n    <tr>\n      <th>56</th>\n      <td>8</td>\n    </tr>\n    <tr>\n      <th>251</th>\n      <td>10</td>\n    </tr>\n    <tr>\n      <th>253</th>\n      <td>14</td>\n    </tr>\n    <tr>\n      <th>351</th>\n      <td>3</td>\n    </tr>\n  </tbody>\n</table>\n</div>"
     },
     "metadata": {},
     "output_type": "display_data"
    }
   ],
   "source": [
    "display(hardness)"
   ],
   "metadata": {
    "collapsed": false
   }
  },
  {
   "cell_type": "markdown",
   "source": [
    "Nie wiem co się stało przy rozpakowywaniu, ale tu są tylko *values*\n",
    "\n",
    "*Wydaje mi się, że to też można użyć*\n",
    "\n",
    "Wartość specyficzna - głównie dla obiektów -> możliwe, iż powyższe zdanie jest nieaktualne\n",
    "\n",
    "*CR: Tu idea jest taka że hardness działa tak jak resistance na wszystkie obrażenia. Czyli u nas można przepisać wartość z hardness do all-damage resistance.\n",
    "Ale jest ich też strasznie mało więc można usunąć.*\n",
    "\n",
    "*Dodałabym do kategorii na potem i jeśli kiedyś będziemy uwzględniać resistance to możemy przepisać tam wartośći.*"
   ],
   "metadata": {
    "collapsed": false
   }
  },
  {
   "cell_type": "markdown",
   "source": [
    "### Analiza attributes: *adjustment*"
   ],
   "metadata": {
    "collapsed": false
   }
  },
  {
   "cell_type": "code",
   "execution_count": 250,
   "outputs": [
    {
     "data": {
      "text/plain": "0   NaN\n1   NaN\n2   NaN\n3   NaN\n4   NaN\nName: adjustment, dtype: float64"
     },
     "execution_count": 250,
     "metadata": {},
     "output_type": "execute_result"
    }
   ],
   "source": [
    "attributes.adjustment.head()"
   ],
   "metadata": {
    "collapsed": false
   }
  },
  {
   "cell_type": "code",
   "execution_count": 251,
   "outputs": [
    {
     "data": {
      "text/plain": "Series([], Name: adjustment, dtype: float64)"
     },
     "execution_count": 251,
     "metadata": {},
     "output_type": "execute_result"
    }
   ],
   "source": [
    "attributes[attributes.adjustment.notnull()].adjustment"
   ],
   "metadata": {
    "collapsed": false
   }
  },
  {
   "cell_type": "code",
   "execution_count": 252,
   "outputs": [
    {
     "name": "stdout",
     "output_type": "stream",
     "text": [
      "<class 'pandas.core.series.Series'>\n",
      "Int64Index: 1206 entries, 0 to 364\n",
      "Series name: adjustment\n",
      "Non-Null Count  Dtype  \n",
      "--------------  -----  \n",
      "0 non-null      float64\n",
      "dtypes: float64(1)\n",
      "memory usage: 51.1 KB\n"
     ]
    }
   ],
   "source": [
    "attributes.adjustment.info()"
   ],
   "metadata": {
    "collapsed": false
   }
  },
  {
   "cell_type": "markdown",
   "source": [
    "Tutaj są same nulle, więc można usunąć"
   ],
   "metadata": {
    "collapsed": false
   }
  },
  {
   "cell_type": "markdown",
   "source": [
    "## Podsumowując:\n",
    "* Abilities - wszystkie wartości do uwzględnienia\n",
    "* Attributes:\n",
    "    * ac - value do uwzględnienia\n",
    "    * allSaves - raczej nie\n",
    "    * hp - value do uwzględnienia + ewentualnie max\n",
    "    * initiative - raczej nie jest potrzebne\n",
    "    * perception - można uwzględnić\n",
    "    * speed - też można spróbować uwzględnić\n",
    "    * immunities - jak na razie nie, ale można spróbować\n",
    "    * weaknesses - do tego nie jestem w 100% przekonana, ale zawsze można dodać\n",
    "    * resistances - analogicznie jak wyżej\n",
    "    * hardness - myślę, że można uwzględnić\n",
    "    * adjustment - tutaj nic nie ma (dosłownie)"
   ],
   "metadata": {
    "collapsed": false
   }
  },
  {
   "cell_type": "markdown",
   "source": [],
   "metadata": {
    "collapsed": false
   }
  }
 ],
 "metadata": {
  "kernelspec": {
   "display_name": "Python 3",
   "language": "python",
   "name": "python3"
  },
  "language_info": {
   "codemirror_mode": {
    "name": "ipython",
    "version": 2
   },
   "file_extension": ".py",
   "mimetype": "text/x-python",
   "name": "python",
   "nbconvert_exporter": "python",
   "pygments_lexer": "ipython2",
   "version": "2.7.6"
  }
 },
 "nbformat": 4,
 "nbformat_minor": 0
}
