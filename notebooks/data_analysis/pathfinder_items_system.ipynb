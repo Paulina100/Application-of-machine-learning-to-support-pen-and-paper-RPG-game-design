{
 "cells": [
  {
   "cell_type": "markdown",
   "source": [
    "# Analysis of items column\n",
    "### subcolumn: system\n",
    "\n",
    "Load bestiaries"
   ],
   "metadata": {
    "collapsed": false
   }
  },
  {
   "cell_type": "code",
   "execution_count": 1,
   "metadata": {
    "collapsed": true
   },
   "outputs": [],
   "source": [
    "import pathlib\n",
    "import pandas as pd\n",
    "from training.analysis_functions import (\n",
    "    get_merged_bestiaries,\n",
    "    unpack_column_with_null,\n",
    "    unpack_column,\n",
    ")\n",
    "\n",
    "\n",
    "DATASETS_DIR = \"../../pathfinder_2e_data/\"\n",
    "DATASET_FILES = [\n",
    "    \"pathfinder-bestiary.db\",\n",
    "    \"pathfinder-bestiary-2.db\",\n",
    "    \"pathfinder-bestiary-3.db\",\n",
    "]\n",
    "DATASET_PATHS = [f\"{DATASETS_DIR}/{file}\" for file in DATASET_FILES]\n",
    "\n",
    "bestiary = get_merged_bestiaries(DATASET_PATHS)"
   ]
  },
  {
   "cell_type": "code",
   "execution_count": 2,
   "outputs": [
    {
     "name": "stdout",
     "output_type": "stream",
     "text": [
      "<class 'pandas.core.frame.DataFrame'>\n",
      "RangeIndex: 1206 entries, 0 to 1205\n",
      "Data columns (total 8 columns):\n",
      " #   Column          Non-Null Count  Dtype \n",
      "---  ------          --------------  ----- \n",
      " 0   _id             1206 non-null   object\n",
      " 1   img             1206 non-null   object\n",
      " 2   items           1206 non-null   object\n",
      " 3   name            1206 non-null   object\n",
      " 4   system          1206 non-null   object\n",
      " 5   type            1206 non-null   object\n",
      " 6   flags           1206 non-null   object\n",
      " 7   prototypeToken  85 non-null     object\n",
      "dtypes: object(8)\n",
      "memory usage: 75.5+ KB\n"
     ]
    }
   ],
   "source": [
    "bestiary.info()"
   ],
   "metadata": {
    "collapsed": false
   }
  },
  {
   "cell_type": "code",
   "execution_count": 3,
   "outputs": [
    {
     "data": {
      "text/plain": "                _id                                       img  \\\n0  024PqcF8yMRBrPuq  systems/pf2e/icons/default-icons/npc.svg   \n1  05E3kkjoLZVjFOeO  systems/pf2e/icons/default-icons/npc.svg   \n2  05wwpHHsBlxBbdkN  systems/pf2e/icons/default-icons/npc.svg   \n3  0FGz2eXm0SB04sJW  systems/pf2e/icons/default-icons/npc.svg   \n4  0HjVFx8qIKDCfblg  systems/pf2e/icons/default-icons/npc.svg   \n\n                                               items                  name  \\\n0  [{'_id': 'B7rzf0nBJmzg8x0y', 'img': 'systems/p...    Adult White Dragon   \n1  [{'_id': 'mYNDkS27YQRyy1F0', 'img': 'systems/p...          Brontosaurus   \n2  [{'_id': 'WkPeg600zGONsuJz', 'img': 'systems/p...        Giant Anaconda   \n3  [{'_id': 'joBYS96mXSnZC1WB', 'img': 'systems/p...  Ancient Green Dragon   \n4  [{'_id': 'xlUnQcjrxeMXu5Cd', 'img': 'systems/p...        Lantern Archon   \n\n                                              system type  \\\n0  {'abilities': {'cha': {'mod': 1}, 'con': {'mod...  npc   \n1  {'abilities': {'cha': {'mod': 1}, 'con': {'mod...  npc   \n2  {'abilities': {'cha': {'mod': -2}, 'con': {'mo...  npc   \n3  {'abilities': {'cha': {'mod': 6}, 'con': {'mod...  npc   \n4  {'abilities': {'cha': {'mod': 1}, 'con': {'mod...  npc   \n\n                                               flags prototypeToken  \n0  {'core': {'sourceId': 'Compendium.pf2e.pathfin...            NaN  \n1  {'core': {'sourceId': 'Compendium.pf2e.pathfin...            NaN  \n2  {'core': {'sourceId': 'Compendium.pf2e.pathfin...            NaN  \n3  {'core': {'sourceId': 'Compendium.pf2e.pathfin...            NaN  \n4  {'core': {'sourceId': 'Compendium.pf2e.pathfin...            NaN  ",
      "text/html": "<div>\n<style scoped>\n    .dataframe tbody tr th:only-of-type {\n        vertical-align: middle;\n    }\n\n    .dataframe tbody tr th {\n        vertical-align: top;\n    }\n\n    .dataframe thead th {\n        text-align: right;\n    }\n</style>\n<table border=\"1\" class=\"dataframe\">\n  <thead>\n    <tr style=\"text-align: right;\">\n      <th></th>\n      <th>_id</th>\n      <th>img</th>\n      <th>items</th>\n      <th>name</th>\n      <th>system</th>\n      <th>type</th>\n      <th>flags</th>\n      <th>prototypeToken</th>\n    </tr>\n  </thead>\n  <tbody>\n    <tr>\n      <th>0</th>\n      <td>024PqcF8yMRBrPuq</td>\n      <td>systems/pf2e/icons/default-icons/npc.svg</td>\n      <td>[{'_id': 'B7rzf0nBJmzg8x0y', 'img': 'systems/p...</td>\n      <td>Adult White Dragon</td>\n      <td>{'abilities': {'cha': {'mod': 1}, 'con': {'mod...</td>\n      <td>npc</td>\n      <td>{'core': {'sourceId': 'Compendium.pf2e.pathfin...</td>\n      <td>NaN</td>\n    </tr>\n    <tr>\n      <th>1</th>\n      <td>05E3kkjoLZVjFOeO</td>\n      <td>systems/pf2e/icons/default-icons/npc.svg</td>\n      <td>[{'_id': 'mYNDkS27YQRyy1F0', 'img': 'systems/p...</td>\n      <td>Brontosaurus</td>\n      <td>{'abilities': {'cha': {'mod': 1}, 'con': {'mod...</td>\n      <td>npc</td>\n      <td>{'core': {'sourceId': 'Compendium.pf2e.pathfin...</td>\n      <td>NaN</td>\n    </tr>\n    <tr>\n      <th>2</th>\n      <td>05wwpHHsBlxBbdkN</td>\n      <td>systems/pf2e/icons/default-icons/npc.svg</td>\n      <td>[{'_id': 'WkPeg600zGONsuJz', 'img': 'systems/p...</td>\n      <td>Giant Anaconda</td>\n      <td>{'abilities': {'cha': {'mod': -2}, 'con': {'mo...</td>\n      <td>npc</td>\n      <td>{'core': {'sourceId': 'Compendium.pf2e.pathfin...</td>\n      <td>NaN</td>\n    </tr>\n    <tr>\n      <th>3</th>\n      <td>0FGz2eXm0SB04sJW</td>\n      <td>systems/pf2e/icons/default-icons/npc.svg</td>\n      <td>[{'_id': 'joBYS96mXSnZC1WB', 'img': 'systems/p...</td>\n      <td>Ancient Green Dragon</td>\n      <td>{'abilities': {'cha': {'mod': 6}, 'con': {'mod...</td>\n      <td>npc</td>\n      <td>{'core': {'sourceId': 'Compendium.pf2e.pathfin...</td>\n      <td>NaN</td>\n    </tr>\n    <tr>\n      <th>4</th>\n      <td>0HjVFx8qIKDCfblg</td>\n      <td>systems/pf2e/icons/default-icons/npc.svg</td>\n      <td>[{'_id': 'xlUnQcjrxeMXu5Cd', 'img': 'systems/p...</td>\n      <td>Lantern Archon</td>\n      <td>{'abilities': {'cha': {'mod': 1}, 'con': {'mod...</td>\n      <td>npc</td>\n      <td>{'core': {'sourceId': 'Compendium.pf2e.pathfin...</td>\n      <td>NaN</td>\n    </tr>\n  </tbody>\n</table>\n</div>"
     },
     "execution_count": 3,
     "metadata": {},
     "output_type": "execute_result"
    }
   ],
   "source": [
    "bestiary.head()"
   ],
   "metadata": {
    "collapsed": false
   }
  },
  {
   "cell_type": "markdown",
   "source": [
    "*items* column have lists of items for each monster in bestiaries\n",
    "\n",
    "Collect a list of all items in bestiaries:"
   ],
   "metadata": {
    "collapsed": false
   }
  },
  {
   "cell_type": "code",
   "execution_count": 4,
   "outputs": [],
   "source": [
    "items_data = []\n",
    "for _, val in bestiary[\"items\"].iteritems():\n",
    "    items_data += val"
   ],
   "metadata": {
    "collapsed": false
   }
  },
  {
   "cell_type": "code",
   "execution_count": 5,
   "outputs": [
    {
     "name": "stdout",
     "output_type": "stream",
     "text": [
      "All items in 3 basic bestiaries: 21731 - chance that they are not unique\n"
     ]
    }
   ],
   "source": [
    "print(\n",
    "    f\"All items in 3 basic bestiaries: {len(items_data)} - chance that they are not unique\"\n",
    ")"
   ],
   "metadata": {
    "collapsed": false
   }
  },
  {
   "cell_type": "code",
   "execution_count": 6,
   "outputs": [],
   "source": [
    "items = pd.DataFrame.from_dict(data=items_data)  # load data to DataFrame"
   ],
   "metadata": {
    "collapsed": false
   }
  },
  {
   "cell_type": "code",
   "execution_count": 7,
   "outputs": [
    {
     "name": "stdout",
     "output_type": "stream",
     "text": [
      "<class 'pandas.core.frame.DataFrame'>\n",
      "RangeIndex: 21731 entries, 0 to 21730\n",
      "Data columns (total 7 columns):\n",
      " #   Column  Non-Null Count  Dtype \n",
      "---  ------  --------------  ----- \n",
      " 0   _id     21731 non-null  object\n",
      " 1   img     21731 non-null  object\n",
      " 2   name    21731 non-null  object\n",
      " 3   sort    21731 non-null  int64 \n",
      " 4   system  21731 non-null  object\n",
      " 5   type    21731 non-null  object\n",
      " 6   flags   10037 non-null  object\n",
      "dtypes: int64(1), object(6)\n",
      "memory usage: 1.2+ MB\n"
     ]
    }
   ],
   "source": [
    "items.info()  # info about items data structure"
   ],
   "metadata": {
    "collapsed": false
   }
  },
  {
   "cell_type": "code",
   "execution_count": 8,
   "outputs": [
    {
     "data": {
      "text/plain": "                _id                                                img  \\\n0  B7rzf0nBJmzg8x0y  systems/pf2e/icons/default-icons/spellcastingE...   \n1  ac9hRct9QTDrzhy1      systems/pf2e/icons/spells/obscuring-mist.webp   \n2  ui2iVt9gJcMIs6H5        systems/pf2e/icons/spells/gust-of-wind.webp   \n3  pmqefsGShf77p3Zd         systems/pf2e/icons/default-icons/melee.svg   \n4  h6wQ76GXx0XhL0rW         systems/pf2e/icons/default-icons/melee.svg   \n\n                       name    sort  \\\n0      Arcane Innate Spells  100000   \n1  Obscuring Mist (At Will)  200000   \n2    Gust of Wind (At Will)  300000   \n3                      Jaws  400000   \n4                      Claw  500000   \n\n                                              system               type  \\\n0  {'autoHeightenLevel': {'value': None}, 'descri...  spellcastingEntry   \n1  {'ability': {'value': ''}, 'area': {'type': 'b...              spell   \n2  {'ability': {'value': ''}, 'area': {'type': 'l...              spell   \n3  {'attack': {'value': ''}, 'attackEffects': {'c...              melee   \n4  {'attack': {'value': ''}, 'attackEffects': {'c...              melee   \n\n                                               flags  \n0                                                NaN  \n1  {'core': {'sourceId': 'Compendium.pf2e.spells-...  \n2  {'core': {'sourceId': 'Compendium.pf2e.spells-...  \n3                                                NaN  \n4                                                NaN  ",
      "text/html": "<div>\n<style scoped>\n    .dataframe tbody tr th:only-of-type {\n        vertical-align: middle;\n    }\n\n    .dataframe tbody tr th {\n        vertical-align: top;\n    }\n\n    .dataframe thead th {\n        text-align: right;\n    }\n</style>\n<table border=\"1\" class=\"dataframe\">\n  <thead>\n    <tr style=\"text-align: right;\">\n      <th></th>\n      <th>_id</th>\n      <th>img</th>\n      <th>name</th>\n      <th>sort</th>\n      <th>system</th>\n      <th>type</th>\n      <th>flags</th>\n    </tr>\n  </thead>\n  <tbody>\n    <tr>\n      <th>0</th>\n      <td>B7rzf0nBJmzg8x0y</td>\n      <td>systems/pf2e/icons/default-icons/spellcastingE...</td>\n      <td>Arcane Innate Spells</td>\n      <td>100000</td>\n      <td>{'autoHeightenLevel': {'value': None}, 'descri...</td>\n      <td>spellcastingEntry</td>\n      <td>NaN</td>\n    </tr>\n    <tr>\n      <th>1</th>\n      <td>ac9hRct9QTDrzhy1</td>\n      <td>systems/pf2e/icons/spells/obscuring-mist.webp</td>\n      <td>Obscuring Mist (At Will)</td>\n      <td>200000</td>\n      <td>{'ability': {'value': ''}, 'area': {'type': 'b...</td>\n      <td>spell</td>\n      <td>{'core': {'sourceId': 'Compendium.pf2e.spells-...</td>\n    </tr>\n    <tr>\n      <th>2</th>\n      <td>ui2iVt9gJcMIs6H5</td>\n      <td>systems/pf2e/icons/spells/gust-of-wind.webp</td>\n      <td>Gust of Wind (At Will)</td>\n      <td>300000</td>\n      <td>{'ability': {'value': ''}, 'area': {'type': 'l...</td>\n      <td>spell</td>\n      <td>{'core': {'sourceId': 'Compendium.pf2e.spells-...</td>\n    </tr>\n    <tr>\n      <th>3</th>\n      <td>pmqefsGShf77p3Zd</td>\n      <td>systems/pf2e/icons/default-icons/melee.svg</td>\n      <td>Jaws</td>\n      <td>400000</td>\n      <td>{'attack': {'value': ''}, 'attackEffects': {'c...</td>\n      <td>melee</td>\n      <td>NaN</td>\n    </tr>\n    <tr>\n      <th>4</th>\n      <td>h6wQ76GXx0XhL0rW</td>\n      <td>systems/pf2e/icons/default-icons/melee.svg</td>\n      <td>Claw</td>\n      <td>500000</td>\n      <td>{'attack': {'value': ''}, 'attackEffects': {'c...</td>\n      <td>melee</td>\n      <td>NaN</td>\n    </tr>\n  </tbody>\n</table>\n</div>"
     },
     "execution_count": 8,
     "metadata": {},
     "output_type": "execute_result"
    }
   ],
   "source": [
    "items.head()  # 5 first items"
   ],
   "metadata": {
    "collapsed": false
   }
  },
  {
   "cell_type": "markdown",
   "source": [
    "## System"
   ],
   "metadata": {
    "collapsed": false
   }
  },
  {
   "cell_type": "code",
   "execution_count": 9,
   "outputs": [],
   "source": [
    "system = unpack_column(items, column_name=\"system\")"
   ],
   "metadata": {
    "collapsed": false
   }
  },
  {
   "cell_type": "code",
   "execution_count": 10,
   "outputs": [
    {
     "data": {
      "text/plain": "  autoHeightenLevel                                        description  \\\n0   {'value': None}                                      {'value': ''}   \n1               NaN  {'value': '<p>You call forth a cloud of mist. ...   \n2               NaN  {'value': '<p>A violent wind issues forth from...   \n3               NaN                                      {'value': ''}   \n4               NaN                                      {'value': ''}   \n\n  displayLevels                                prepared   proficiency rules  \\\n0            {}  {'flexible': False, 'value': 'innate'}  {'value': 0}    []   \n1           NaN                           {'value': ''}           NaN    []   \n2           NaN                           {'value': ''}           NaN    []   \n3           NaN                                     NaN           NaN    []   \n4           NaN                                     NaN           NaN    []   \n\n  showSlotlessLevels showUnpreparedSpells  \\\n0   {'value': False}      {'value': True}   \n1                NaN                  NaN   \n2                NaN                  NaN   \n3                NaN                  NaN   \n4                NaN                  NaN   \n\n                                               slots            slug  ...  \\\n0  {'slot0': {'max': 0, 'prepared': [], 'value': ...            None  ...   \n1                                                NaN  obscuring-mist  ...   \n2                                                NaN    gust-of-wind  ...   \n3                                                NaN            None  ...   \n4                                                NaN            None  ...   \n\n  unidentified areatype brokenThreshold bulkCapacity collapsed identification  \\\n0          NaN      NaN             NaN          NaN       NaN            NaN   \n1          NaN      NaN             NaN          NaN       NaN            NaN   \n2          NaN      NaN             NaN          NaN       NaN            NaN   \n3          NaN      NaN             NaN          NaN       NaN            NaN   \n4          NaN      NaN             NaN          NaN       NaN            NaN   \n\n  identified invested maxHp stowing  \n0        NaN      NaN   NaN     NaN  \n1        NaN      NaN   NaN     NaN  \n2        NaN      NaN   NaN     NaN  \n3        NaN      NaN   NaN     NaN  \n4        NaN      NaN   NaN     NaN  \n\n[5 rows x 109 columns]",
      "text/html": "<div>\n<style scoped>\n    .dataframe tbody tr th:only-of-type {\n        vertical-align: middle;\n    }\n\n    .dataframe tbody tr th {\n        vertical-align: top;\n    }\n\n    .dataframe thead th {\n        text-align: right;\n    }\n</style>\n<table border=\"1\" class=\"dataframe\">\n  <thead>\n    <tr style=\"text-align: right;\">\n      <th></th>\n      <th>autoHeightenLevel</th>\n      <th>description</th>\n      <th>displayLevels</th>\n      <th>prepared</th>\n      <th>proficiency</th>\n      <th>rules</th>\n      <th>showSlotlessLevels</th>\n      <th>showUnpreparedSpells</th>\n      <th>slots</th>\n      <th>slug</th>\n      <th>...</th>\n      <th>unidentified</th>\n      <th>areatype</th>\n      <th>brokenThreshold</th>\n      <th>bulkCapacity</th>\n      <th>collapsed</th>\n      <th>identification</th>\n      <th>identified</th>\n      <th>invested</th>\n      <th>maxHp</th>\n      <th>stowing</th>\n    </tr>\n  </thead>\n  <tbody>\n    <tr>\n      <th>0</th>\n      <td>{'value': None}</td>\n      <td>{'value': ''}</td>\n      <td>{}</td>\n      <td>{'flexible': False, 'value': 'innate'}</td>\n      <td>{'value': 0}</td>\n      <td>[]</td>\n      <td>{'value': False}</td>\n      <td>{'value': True}</td>\n      <td>{'slot0': {'max': 0, 'prepared': [], 'value': ...</td>\n      <td>None</td>\n      <td>...</td>\n      <td>NaN</td>\n      <td>NaN</td>\n      <td>NaN</td>\n      <td>NaN</td>\n      <td>NaN</td>\n      <td>NaN</td>\n      <td>NaN</td>\n      <td>NaN</td>\n      <td>NaN</td>\n      <td>NaN</td>\n    </tr>\n    <tr>\n      <th>1</th>\n      <td>NaN</td>\n      <td>{'value': '&lt;p&gt;You call forth a cloud of mist. ...</td>\n      <td>NaN</td>\n      <td>{'value': ''}</td>\n      <td>NaN</td>\n      <td>[]</td>\n      <td>NaN</td>\n      <td>NaN</td>\n      <td>NaN</td>\n      <td>obscuring-mist</td>\n      <td>...</td>\n      <td>NaN</td>\n      <td>NaN</td>\n      <td>NaN</td>\n      <td>NaN</td>\n      <td>NaN</td>\n      <td>NaN</td>\n      <td>NaN</td>\n      <td>NaN</td>\n      <td>NaN</td>\n      <td>NaN</td>\n    </tr>\n    <tr>\n      <th>2</th>\n      <td>NaN</td>\n      <td>{'value': '&lt;p&gt;A violent wind issues forth from...</td>\n      <td>NaN</td>\n      <td>{'value': ''}</td>\n      <td>NaN</td>\n      <td>[]</td>\n      <td>NaN</td>\n      <td>NaN</td>\n      <td>NaN</td>\n      <td>gust-of-wind</td>\n      <td>...</td>\n      <td>NaN</td>\n      <td>NaN</td>\n      <td>NaN</td>\n      <td>NaN</td>\n      <td>NaN</td>\n      <td>NaN</td>\n      <td>NaN</td>\n      <td>NaN</td>\n      <td>NaN</td>\n      <td>NaN</td>\n    </tr>\n    <tr>\n      <th>3</th>\n      <td>NaN</td>\n      <td>{'value': ''}</td>\n      <td>NaN</td>\n      <td>NaN</td>\n      <td>NaN</td>\n      <td>[]</td>\n      <td>NaN</td>\n      <td>NaN</td>\n      <td>NaN</td>\n      <td>None</td>\n      <td>...</td>\n      <td>NaN</td>\n      <td>NaN</td>\n      <td>NaN</td>\n      <td>NaN</td>\n      <td>NaN</td>\n      <td>NaN</td>\n      <td>NaN</td>\n      <td>NaN</td>\n      <td>NaN</td>\n      <td>NaN</td>\n    </tr>\n    <tr>\n      <th>4</th>\n      <td>NaN</td>\n      <td>{'value': ''}</td>\n      <td>NaN</td>\n      <td>NaN</td>\n      <td>NaN</td>\n      <td>[]</td>\n      <td>NaN</td>\n      <td>NaN</td>\n      <td>NaN</td>\n      <td>None</td>\n      <td>...</td>\n      <td>NaN</td>\n      <td>NaN</td>\n      <td>NaN</td>\n      <td>NaN</td>\n      <td>NaN</td>\n      <td>NaN</td>\n      <td>NaN</td>\n      <td>NaN</td>\n      <td>NaN</td>\n      <td>NaN</td>\n    </tr>\n  </tbody>\n</table>\n<p>5 rows × 109 columns</p>\n</div>"
     },
     "execution_count": 10,
     "metadata": {},
     "output_type": "execute_result"
    }
   ],
   "source": [
    "system.head()"
   ],
   "metadata": {
    "collapsed": false
   }
  },
  {
   "cell_type": "code",
   "execution_count": 11,
   "outputs": [
    {
     "name": "stdout",
     "output_type": "stream",
     "text": [
      "<class 'pandas.core.frame.DataFrame'>\n",
      "RangeIndex: 21731 entries, 0 to 21730\n",
      "Columns: 109 entries, autoHeightenLevel to stowing\n",
      "dtypes: float64(1), object(108)\n",
      "memory usage: 18.1+ MB\n"
     ]
    }
   ],
   "source": [
    "system.info()"
   ],
   "metadata": {
    "collapsed": false
   }
  },
  {
   "cell_type": "code",
   "execution_count": 12,
   "outputs": [],
   "source": [
    "# 109 columns"
   ],
   "metadata": {
    "collapsed": false
   }
  },
  {
   "cell_type": "markdown",
   "source": [
    "### autoHeightenLevel"
   ],
   "metadata": {
    "collapsed": false
   }
  },
  {
   "cell_type": "code",
   "execution_count": 13,
   "outputs": [],
   "source": [
    "aHL = unpack_column_with_null(system, column_name=\"autoHeightenLevel\")"
   ],
   "metadata": {
    "collapsed": false
   }
  },
  {
   "cell_type": "code",
   "execution_count": 14,
   "outputs": [
    {
     "name": "stdout",
     "output_type": "stream",
     "text": [
      "<class 'pandas.core.frame.DataFrame'>\n",
      "Int64Index: 21731 entries, 0 to 21730\n",
      "Data columns (total 1 columns):\n",
      " #   Column  Non-Null Count  Dtype  \n",
      "---  ------  --------------  -----  \n",
      " 0   value   86 non-null     float64\n",
      "dtypes: float64(1)\n",
      "memory usage: 339.5 KB\n"
     ]
    }
   ],
   "source": [
    "aHL.info()"
   ],
   "metadata": {
    "collapsed": false
   }
  },
  {
   "cell_type": "code",
   "execution_count": 15,
   "outputs": [
    {
     "data": {
      "text/plain": "4.0     20\n3.0     11\n5.0     11\n6.0     11\n7.0      9\n8.0      8\n2.0      7\n9.0      6\n1.0      2\n10.0     1\nName: value, dtype: int64"
     },
     "execution_count": 15,
     "metadata": {},
     "output_type": "execute_result"
    }
   ],
   "source": [
    "aHL.value.value_counts()"
   ],
   "metadata": {
    "collapsed": false
   }
  },
  {
   "cell_type": "code",
   "execution_count": 16,
   "outputs": [
    {
     "data": {
      "text/plain": "spellcastingEntry    86\nName: type, dtype: int64"
     },
     "execution_count": 16,
     "metadata": {},
     "output_type": "execute_result"
    }
   ],
   "source": [
    "items[aHL.value.notnull()].type.value_counts()"
   ],
   "metadata": {
    "collapsed": false
   }
  },
  {
   "cell_type": "code",
   "execution_count": 17,
   "outputs": [
    {
     "data": {
      "text/plain": "                    _id                                                img  \\\n0      B7rzf0nBJmzg8x0y  systems/pf2e/icons/default-icons/spellcastingE...   \n46     joBYS96mXSnZC1WB  systems/pf2e/icons/default-icons/spellcastingE...   \n78     xlUnQcjrxeMXu5Cd  systems/pf2e/icons/default-icons/spellcastingE...   \n92     pdwlm8jY2MDoJUAN  systems/pf2e/icons/default-icons/spellcastingE...   \n93     FReUvGRM1Bo8CeGZ  systems/pf2e/icons/default-icons/spellcastingE...   \n...                 ...                                                ...   \n21638  kBmOKMaUjcEjTeia  systems/pf2e/icons/default-icons/spellcastingE...   \n21670  Re0uYYA9c4nnaRne  systems/pf2e/icons/default-icons/spellcastingE...   \n21693  p3v8D49u0adS76qw  systems/pf2e/icons/default-icons/spellcastingE...   \n21710  53ZHZQrxzfyMUm3s  systems/pf2e/icons/default-icons/spellcastingE...   \n21711  pkmr68rFCQdo9nId  systems/pf2e/icons/default-icons/spellcastingE...   \n\n                            name    sort  \\\n0           Arcane Innate Spells  100000   \n46          Arcane Innate Spells  100000   \n78          Divine Innate Spells  100000   \n92     Arcane Spontaneous Spells  100000   \n93          Occult Innate Spells  200000   \n...                          ...     ...   \n21638       Occult Innate Spells  100000   \n21670       Primal Innate Spells  100000   \n21693       Divine Innate Spells  100000   \n21710       Occult Innate Spells  100000   \n21711                    Rituals  200000   \n\n                                                  system               type  \\\n0      {'autoHeightenLevel': {'value': None}, 'descri...  spellcastingEntry   \n46     {'autoHeightenLevel': {'value': None}, 'descri...  spellcastingEntry   \n78     {'autoHeightenLevel': {'value': None}, 'descri...  spellcastingEntry   \n92     {'autoHeightenLevel': {'value': None}, 'descri...  spellcastingEntry   \n93     {'autoHeightenLevel': {'value': None}, 'descri...  spellcastingEntry   \n...                                                  ...                ...   \n21638  {'autoHeightenLevel': {'value': None}, 'descri...  spellcastingEntry   \n21670  {'autoHeightenLevel': {'value': None}, 'descri...  spellcastingEntry   \n21693  {'autoHeightenLevel': {'value': None}, 'descri...  spellcastingEntry   \n21710  {'autoHeightenLevel': {'value': None}, 'descri...  spellcastingEntry   \n21711  {'autoHeightenLevel': {'value': None}, 'descri...  spellcastingEntry   \n\n      flags  \n0       NaN  \n46      NaN  \n78      NaN  \n92      NaN  \n93      NaN  \n...     ...  \n21638   NaN  \n21670   NaN  \n21693   NaN  \n21710   NaN  \n21711   NaN  \n\n[782 rows x 7 columns]",
      "text/html": "<div>\n<style scoped>\n    .dataframe tbody tr th:only-of-type {\n        vertical-align: middle;\n    }\n\n    .dataframe tbody tr th {\n        vertical-align: top;\n    }\n\n    .dataframe thead th {\n        text-align: right;\n    }\n</style>\n<table border=\"1\" class=\"dataframe\">\n  <thead>\n    <tr style=\"text-align: right;\">\n      <th></th>\n      <th>_id</th>\n      <th>img</th>\n      <th>name</th>\n      <th>sort</th>\n      <th>system</th>\n      <th>type</th>\n      <th>flags</th>\n    </tr>\n  </thead>\n  <tbody>\n    <tr>\n      <th>0</th>\n      <td>B7rzf0nBJmzg8x0y</td>\n      <td>systems/pf2e/icons/default-icons/spellcastingE...</td>\n      <td>Arcane Innate Spells</td>\n      <td>100000</td>\n      <td>{'autoHeightenLevel': {'value': None}, 'descri...</td>\n      <td>spellcastingEntry</td>\n      <td>NaN</td>\n    </tr>\n    <tr>\n      <th>46</th>\n      <td>joBYS96mXSnZC1WB</td>\n      <td>systems/pf2e/icons/default-icons/spellcastingE...</td>\n      <td>Arcane Innate Spells</td>\n      <td>100000</td>\n      <td>{'autoHeightenLevel': {'value': None}, 'descri...</td>\n      <td>spellcastingEntry</td>\n      <td>NaN</td>\n    </tr>\n    <tr>\n      <th>78</th>\n      <td>xlUnQcjrxeMXu5Cd</td>\n      <td>systems/pf2e/icons/default-icons/spellcastingE...</td>\n      <td>Divine Innate Spells</td>\n      <td>100000</td>\n      <td>{'autoHeightenLevel': {'value': None}, 'descri...</td>\n      <td>spellcastingEntry</td>\n      <td>NaN</td>\n    </tr>\n    <tr>\n      <th>92</th>\n      <td>pdwlm8jY2MDoJUAN</td>\n      <td>systems/pf2e/icons/default-icons/spellcastingE...</td>\n      <td>Arcane Spontaneous Spells</td>\n      <td>100000</td>\n      <td>{'autoHeightenLevel': {'value': None}, 'descri...</td>\n      <td>spellcastingEntry</td>\n      <td>NaN</td>\n    </tr>\n    <tr>\n      <th>93</th>\n      <td>FReUvGRM1Bo8CeGZ</td>\n      <td>systems/pf2e/icons/default-icons/spellcastingE...</td>\n      <td>Occult Innate Spells</td>\n      <td>200000</td>\n      <td>{'autoHeightenLevel': {'value': None}, 'descri...</td>\n      <td>spellcastingEntry</td>\n      <td>NaN</td>\n    </tr>\n    <tr>\n      <th>...</th>\n      <td>...</td>\n      <td>...</td>\n      <td>...</td>\n      <td>...</td>\n      <td>...</td>\n      <td>...</td>\n      <td>...</td>\n    </tr>\n    <tr>\n      <th>21638</th>\n      <td>kBmOKMaUjcEjTeia</td>\n      <td>systems/pf2e/icons/default-icons/spellcastingE...</td>\n      <td>Occult Innate Spells</td>\n      <td>100000</td>\n      <td>{'autoHeightenLevel': {'value': None}, 'descri...</td>\n      <td>spellcastingEntry</td>\n      <td>NaN</td>\n    </tr>\n    <tr>\n      <th>21670</th>\n      <td>Re0uYYA9c4nnaRne</td>\n      <td>systems/pf2e/icons/default-icons/spellcastingE...</td>\n      <td>Primal Innate Spells</td>\n      <td>100000</td>\n      <td>{'autoHeightenLevel': {'value': None}, 'descri...</td>\n      <td>spellcastingEntry</td>\n      <td>NaN</td>\n    </tr>\n    <tr>\n      <th>21693</th>\n      <td>p3v8D49u0adS76qw</td>\n      <td>systems/pf2e/icons/default-icons/spellcastingE...</td>\n      <td>Divine Innate Spells</td>\n      <td>100000</td>\n      <td>{'autoHeightenLevel': {'value': None}, 'descri...</td>\n      <td>spellcastingEntry</td>\n      <td>NaN</td>\n    </tr>\n    <tr>\n      <th>21710</th>\n      <td>53ZHZQrxzfyMUm3s</td>\n      <td>systems/pf2e/icons/default-icons/spellcastingE...</td>\n      <td>Occult Innate Spells</td>\n      <td>100000</td>\n      <td>{'autoHeightenLevel': {'value': None}, 'descri...</td>\n      <td>spellcastingEntry</td>\n      <td>NaN</td>\n    </tr>\n    <tr>\n      <th>21711</th>\n      <td>pkmr68rFCQdo9nId</td>\n      <td>systems/pf2e/icons/default-icons/spellcastingE...</td>\n      <td>Rituals</td>\n      <td>200000</td>\n      <td>{'autoHeightenLevel': {'value': None}, 'descri...</td>\n      <td>spellcastingEntry</td>\n      <td>NaN</td>\n    </tr>\n  </tbody>\n</table>\n<p>782 rows × 7 columns</p>\n</div>"
     },
     "execution_count": 17,
     "metadata": {},
     "output_type": "execute_result"
    }
   ],
   "source": [
    "items[items.type == \"spellcastingEntry\"]"
   ],
   "metadata": {
    "collapsed": false
   }
  },
  {
   "cell_type": "code",
   "execution_count": 18,
   "outputs": [
    {
     "name": "stderr",
     "output_type": "stream",
     "text": [
      "C:\\Users\\jolka\\AppData\\Local\\Temp\\ipykernel_9472\\4227473434.py:1: UserWarning: Boolean Series key will be reindexed to match DataFrame index.\n",
      "  items[aHL.value.isnull()][items.type != \"spellcastingEntry\"]\n"
     ]
    },
    {
     "data": {
      "text/plain": "                    _id                                            img  \\\n1      ac9hRct9QTDrzhy1  systems/pf2e/icons/spells/obscuring-mist.webp   \n2      ui2iVt9gJcMIs6H5    systems/pf2e/icons/spells/gust-of-wind.webp   \n3      pmqefsGShf77p3Zd     systems/pf2e/icons/default-icons/melee.svg   \n4      h6wQ76GXx0XhL0rW     systems/pf2e/icons/default-icons/melee.svg   \n5      b4GFgu6HgDqvji6X     systems/pf2e/icons/default-icons/melee.svg   \n...                 ...                                            ...   \n21726  FJEaQqHttC6Z3MP3        systems/pf2e/icons/actions/Passive.webp   \n21727  dXxtpW4U3D5id6mQ      systems/pf2e/icons/default-icons/lore.svg   \n21728  ogH259ZTMG3DAdRL      systems/pf2e/icons/default-icons/lore.svg   \n21729  dCGRUpbXAHrLczgs      systems/pf2e/icons/default-icons/lore.svg   \n21730  vRINsQt7kOgbqixu      systems/pf2e/icons/default-icons/lore.svg   \n\n                           name     sort  \\\n1      Obscuring Mist (At Will)   200000   \n2        Gust of Wind (At Will)   300000   \n3                          Jaws   400000   \n4                          Claw   500000   \n5                          Tail   600000   \n...                         ...      ...   \n21726              Sneak Attack  1700000   \n21727                    Arcana  1800000   \n21728              Intimidation  1900000   \n21729                 Occultism  2000000   \n21730                   Stealth  2100000   \n\n                                                  system    type  \\\n1      {'ability': {'value': ''}, 'area': {'type': 'b...   spell   \n2      {'ability': {'value': ''}, 'area': {'type': 'l...   spell   \n3      {'attack': {'value': ''}, 'attackEffects': {'c...   melee   \n4      {'attack': {'value': ''}, 'attackEffects': {'c...   melee   \n5      {'attack': {'value': ''}, 'attackEffects': {'c...   melee   \n...                                                  ...     ...   \n21726  {'actionCategory': {'value': 'offensive'}, 'ac...  action   \n21727  {'description': {'value': ''}, 'mod': {'value'...    lore   \n21728  {'description': {'value': ''}, 'mod': {'value'...    lore   \n21729  {'description': {'value': ''}, 'mod': {'value'...    lore   \n21730  {'description': {'value': ''}, 'mod': {'value'...    lore   \n\n                                                   flags  \n1      {'core': {'sourceId': 'Compendium.pf2e.spells-...  \n2      {'core': {'sourceId': 'Compendium.pf2e.spells-...  \n3                                                    NaN  \n4                                                    NaN  \n5                                                    NaN  \n...                                                  ...  \n21726  {'core': {'sourceId': 'Compendium.pf2e.bestiar...  \n21727                                                NaN  \n21728                                                NaN  \n21729                                                NaN  \n21730                                                NaN  \n\n[20949 rows x 7 columns]",
      "text/html": "<div>\n<style scoped>\n    .dataframe tbody tr th:only-of-type {\n        vertical-align: middle;\n    }\n\n    .dataframe tbody tr th {\n        vertical-align: top;\n    }\n\n    .dataframe thead th {\n        text-align: right;\n    }\n</style>\n<table border=\"1\" class=\"dataframe\">\n  <thead>\n    <tr style=\"text-align: right;\">\n      <th></th>\n      <th>_id</th>\n      <th>img</th>\n      <th>name</th>\n      <th>sort</th>\n      <th>system</th>\n      <th>type</th>\n      <th>flags</th>\n    </tr>\n  </thead>\n  <tbody>\n    <tr>\n      <th>1</th>\n      <td>ac9hRct9QTDrzhy1</td>\n      <td>systems/pf2e/icons/spells/obscuring-mist.webp</td>\n      <td>Obscuring Mist (At Will)</td>\n      <td>200000</td>\n      <td>{'ability': {'value': ''}, 'area': {'type': 'b...</td>\n      <td>spell</td>\n      <td>{'core': {'sourceId': 'Compendium.pf2e.spells-...</td>\n    </tr>\n    <tr>\n      <th>2</th>\n      <td>ui2iVt9gJcMIs6H5</td>\n      <td>systems/pf2e/icons/spells/gust-of-wind.webp</td>\n      <td>Gust of Wind (At Will)</td>\n      <td>300000</td>\n      <td>{'ability': {'value': ''}, 'area': {'type': 'l...</td>\n      <td>spell</td>\n      <td>{'core': {'sourceId': 'Compendium.pf2e.spells-...</td>\n    </tr>\n    <tr>\n      <th>3</th>\n      <td>pmqefsGShf77p3Zd</td>\n      <td>systems/pf2e/icons/default-icons/melee.svg</td>\n      <td>Jaws</td>\n      <td>400000</td>\n      <td>{'attack': {'value': ''}, 'attackEffects': {'c...</td>\n      <td>melee</td>\n      <td>NaN</td>\n    </tr>\n    <tr>\n      <th>4</th>\n      <td>h6wQ76GXx0XhL0rW</td>\n      <td>systems/pf2e/icons/default-icons/melee.svg</td>\n      <td>Claw</td>\n      <td>500000</td>\n      <td>{'attack': {'value': ''}, 'attackEffects': {'c...</td>\n      <td>melee</td>\n      <td>NaN</td>\n    </tr>\n    <tr>\n      <th>5</th>\n      <td>b4GFgu6HgDqvji6X</td>\n      <td>systems/pf2e/icons/default-icons/melee.svg</td>\n      <td>Tail</td>\n      <td>600000</td>\n      <td>{'attack': {'value': ''}, 'attackEffects': {'c...</td>\n      <td>melee</td>\n      <td>NaN</td>\n    </tr>\n    <tr>\n      <th>...</th>\n      <td>...</td>\n      <td>...</td>\n      <td>...</td>\n      <td>...</td>\n      <td>...</td>\n      <td>...</td>\n      <td>...</td>\n    </tr>\n    <tr>\n      <th>21726</th>\n      <td>FJEaQqHttC6Z3MP3</td>\n      <td>systems/pf2e/icons/actions/Passive.webp</td>\n      <td>Sneak Attack</td>\n      <td>1700000</td>\n      <td>{'actionCategory': {'value': 'offensive'}, 'ac...</td>\n      <td>action</td>\n      <td>{'core': {'sourceId': 'Compendium.pf2e.bestiar...</td>\n    </tr>\n    <tr>\n      <th>21727</th>\n      <td>dXxtpW4U3D5id6mQ</td>\n      <td>systems/pf2e/icons/default-icons/lore.svg</td>\n      <td>Arcana</td>\n      <td>1800000</td>\n      <td>{'description': {'value': ''}, 'mod': {'value'...</td>\n      <td>lore</td>\n      <td>NaN</td>\n    </tr>\n    <tr>\n      <th>21728</th>\n      <td>ogH259ZTMG3DAdRL</td>\n      <td>systems/pf2e/icons/default-icons/lore.svg</td>\n      <td>Intimidation</td>\n      <td>1900000</td>\n      <td>{'description': {'value': ''}, 'mod': {'value'...</td>\n      <td>lore</td>\n      <td>NaN</td>\n    </tr>\n    <tr>\n      <th>21729</th>\n      <td>dCGRUpbXAHrLczgs</td>\n      <td>systems/pf2e/icons/default-icons/lore.svg</td>\n      <td>Occultism</td>\n      <td>2000000</td>\n      <td>{'description': {'value': ''}, 'mod': {'value'...</td>\n      <td>lore</td>\n      <td>NaN</td>\n    </tr>\n    <tr>\n      <th>21730</th>\n      <td>vRINsQt7kOgbqixu</td>\n      <td>systems/pf2e/icons/default-icons/lore.svg</td>\n      <td>Stealth</td>\n      <td>2100000</td>\n      <td>{'description': {'value': ''}, 'mod': {'value'...</td>\n      <td>lore</td>\n      <td>NaN</td>\n    </tr>\n  </tbody>\n</table>\n<p>20949 rows × 7 columns</p>\n</div>"
     },
     "execution_count": 18,
     "metadata": {},
     "output_type": "execute_result"
    }
   ],
   "source": [
    "items[aHL.value.isnull()][items.type != \"spellcastingEntry\"]"
   ],
   "metadata": {
    "collapsed": false
   }
  },
  {
   "cell_type": "markdown",
   "source": [
    "=> *autoHeightenLevel* - probobly parameter only for **spellcastingEntry**\n",
    "\n",
    "There are spellcastingEntry with None value for autoHeightenLevel (but they have this parameter 'autoHeightenLevel': {'value': None})\n",
    "\n",
    "There are no items with different type and value of autoHeightenLevel\n",
    "\n",
    "*not that important*"
   ],
   "metadata": {
    "collapsed": false
   }
  },
  {
   "cell_type": "code",
   "execution_count": 19,
   "outputs": [],
   "source": [
    "system.drop([\"autoHeightenLevel\"], axis=\"columns\", inplace=True)"
   ],
   "metadata": {
    "collapsed": false
   }
  },
  {
   "cell_type": "markdown",
   "source": [
    "### description"
   ],
   "metadata": {
    "collapsed": false
   }
  },
  {
   "cell_type": "code",
   "execution_count": 20,
   "outputs": [],
   "source": [
    "description = unpack_column_with_null(system, column_name=\"description\")"
   ],
   "metadata": {
    "collapsed": false
   }
  },
  {
   "cell_type": "code",
   "execution_count": 21,
   "outputs": [
    {
     "name": "stdout",
     "output_type": "stream",
     "text": [
      "<class 'pandas.core.frame.DataFrame'>\n",
      "Int64Index: 21731 entries, 0 to 21730\n",
      "Data columns (total 1 columns):\n",
      " #   Column  Non-Null Count  Dtype \n",
      "---  ------  --------------  ----- \n",
      " 0   value   21731 non-null  object\n",
      "dtypes: object(1)\n",
      "memory usage: 339.5+ KB\n"
     ]
    }
   ],
   "source": [
    "description.info()"
   ],
   "metadata": {
    "collapsed": false
   }
  },
  {
   "cell_type": "code",
   "execution_count": 22,
   "outputs": [
    {
     "data": {
      "text/plain": "                                               value\n0                                                   \n1  <p>You call forth a cloud of mist. All creatur...\n2  <p>A violent wind issues forth from your palm,...\n3                                                   \n4                                                   ",
      "text/html": "<div>\n<style scoped>\n    .dataframe tbody tr th:only-of-type {\n        vertical-align: middle;\n    }\n\n    .dataframe tbody tr th {\n        vertical-align: top;\n    }\n\n    .dataframe thead th {\n        text-align: right;\n    }\n</style>\n<table border=\"1\" class=\"dataframe\">\n  <thead>\n    <tr style=\"text-align: right;\">\n      <th></th>\n      <th>value</th>\n    </tr>\n  </thead>\n  <tbody>\n    <tr>\n      <th>0</th>\n      <td></td>\n    </tr>\n    <tr>\n      <th>1</th>\n      <td>&lt;p&gt;You call forth a cloud of mist. All creatur...</td>\n    </tr>\n    <tr>\n      <th>2</th>\n      <td>&lt;p&gt;A violent wind issues forth from your palm,...</td>\n    </tr>\n    <tr>\n      <th>3</th>\n      <td></td>\n    </tr>\n    <tr>\n      <th>4</th>\n      <td></td>\n    </tr>\n  </tbody>\n</table>\n</div>"
     },
     "execution_count": 22,
     "metadata": {},
     "output_type": "execute_result"
    }
   ],
   "source": [
    "description.head()"
   ],
   "metadata": {
    "collapsed": false
   }
  },
  {
   "cell_type": "code",
   "execution_count": 23,
   "outputs": [
    {
     "data": {
      "text/plain": "'<p>You call forth a cloud of mist. All creatures within the mist become @UUID[Compendium.pf2e.conditionitems.DmAIPqOBomZ7H95W]{Concealed}, and all creatures outside the mist become Concealed to creatures within it. You can Dismiss the cloud.</p>'"
     },
     "execution_count": 23,
     "metadata": {},
     "output_type": "execute_result"
    }
   ],
   "source": [
    "str(description.iloc[1, 0])"
   ],
   "metadata": {
    "collapsed": false
   }
  },
  {
   "cell_type": "code",
   "execution_count": 24,
   "outputs": [
    {
     "data": {
      "text/plain": "                                                                                                                                                                                                                                                                                                                                                                                                                                                                                                                                                                                                                                                                                                                                                                                                                                                                                                                                                                                                                                                                                                                                                                         8538\n<p>@Localize[PF2E.NPC.Abilities.Glossary.Darkvision]</p>                                                                                                                                                                                                                                                                                                                                                                                                                                                                                                                                                                                                                                                                                                                                                                                                                                                                                                                                                                                                                                                                                                                  810\n<p>@Localize[PF2E.NPC.Abilities.Glossary.Scent]</p>                                                                                                                                                                                                                                                                                                                                                                                                                                                                                                                                                                                                                                                                                                                                                                                                                                                                                                                                                                                                                                                                                                                       306\n<p>@Localize[PF2E.NPC.Abilities.Glossary.AtWillSpells]</p>                                                                                                                                                                                                                                                                                                                                                                                                                                                                                                                                                                                                                                                                                                                                                                                                                                                                                                                                                                                                                                                                                                                291\n<p>@Localize[PF2E.NPC.Abilities.Glossary.LowLightVision]</p>                                                                                                                                                                                                                                                                                                                                                                                                                                                                                                                                                                                                                                                                                                                                                                                                                                                                                                                                                                                                                                                                                                              233\n                                                                                                                                                                                                                                                                                                                                                                                                                                                                                                                                                                                                                                                                                                                                                                                                                                                                                                                                                                                                                                                                                                                                                                         ... \n<p>[[/r (1d6+4)[bludgeoning]]] damage, @Check[type:fortitude|dc:20|basic:true]</p>\\n<hr />\\n<p>@Localize[PF2E.NPC.Abilities.Glossary.Constrict]</p>                                                                                                                                                                                                                                                                                                                                                                                                                                                                                                                                                                                                                                                                                                                                                                                                                                                                                                                                                                                                                         1\n<p><strong>Saving Throw</strong> @Check[type:fortitude|dc:18|basic:true]</p>\\n<hr />\\n<p><strong>Maximum Duration</strong> 6 rounds</p>\\n<p><strong>Stage 1</strong> [[/r 1d10[poison]]] damage and @UUID[Compendium.pf2e.conditionitems.MIRkyAjyBeXivMa7]{Enfeebled 1} (1 round)</p>\\n<p><strong>Stage 2</strong> [[/r 2d10[poison]]] damage and enfeebled 1 (1 round)</p>\\n<p><strong>Stage 3</strong> [[/r 2d10[poison]]] damage and @UUID[Compendium.pf2e.conditionitems.MIRkyAjyBeXivMa7]{Enfeebled 2} (1 round)</p>                                                                                                                                                                                                                                                                                                                                                                                                                                                                                                                                                                                                                                                   1\n<p>Lemures have little drive of their own, but other devils can take command of them. A non-lemure devil can issue a command to all lemures within 60 feet of it with a single action, which has the auditory and concentrate traits. The devil picks one of the following orders lemures can understand, and the lemures follow that order. The command and its effects end once the commander is out of the lemure's sight, a new command is issued by the same or another devil, or the lemure dies.</p>\\n<ul>\\n<li><strong>Kill</strong> The lemure attacks one target the commander singles out and gains a +1 circumstance bonus to attack rolls against the target.</li>\\n<li><strong>Defend</strong> The lemure circles the commander and attacks any creature that comes near. It gains a +1 circumstance bonus to AC and saves.</li>\\n<li><strong>Fetch</strong> The lemure gains a +10-foot circumstance bonus to its Speed and attempts to get an object or person the commander singles out. It attacks anyone and anything that gets in the way.</li>\\n<li><strong>Work</strong> The lemure performs drudge work dictated by the commander.</li>\\n</ul>       1\n<p>The living wildfire ignores the @UUID[Compendium.pf2e.conditionitems.DmAIPqOBomZ7H95W]{Concealed} condition from smoke.</p>                                                                                                                                                                                                                                                                                                                                                                                                                                                                                                                                                                                                                                                                                                                                                                                                                                                                                                                                                                                                                                              1\n<p>The caller deals an additional 2d6 precision damage to flat-footed creatures.</p>\\n<hr />\\n<p>@Localize[PF2E.NPC.Abilities.Glossary.SneakAttack]</p>                                                                                                                                                                                                                                                                                                                                                                                                                                                                                                                                                                                                                                                                                                                                                                                                                                                                                                                                                                                                                     1\nName: value, Length: 4372, dtype: int64"
     },
     "execution_count": 24,
     "metadata": {},
     "output_type": "execute_result"
    }
   ],
   "source": [
    "description.value.value_counts()"
   ],
   "metadata": {
    "collapsed": false
   }
  },
  {
   "cell_type": "markdown",
   "source": [
    "description\n",
    "\n",
    "*I hope it is not important*\n",
    "*Analysis in other notebook*"
   ],
   "metadata": {
    "collapsed": false
   }
  },
  {
   "cell_type": "code",
   "execution_count": 25,
   "outputs": [],
   "source": [
    "system.drop([\"description\"], axis=\"columns\", inplace=True)"
   ],
   "metadata": {
    "collapsed": false
   }
  },
  {
   "cell_type": "markdown",
   "source": [
    "### displayLevels"
   ],
   "metadata": {
    "collapsed": false
   }
  },
  {
   "cell_type": "code",
   "execution_count": 26,
   "outputs": [],
   "source": [
    "dL = unpack_column(system, column_name=\"displayLevels\")"
   ],
   "metadata": {
    "collapsed": false
   }
  },
  {
   "cell_type": "code",
   "execution_count": 27,
   "outputs": [
    {
     "name": "stdout",
     "output_type": "stream",
     "text": [
      "<class 'pandas.core.frame.DataFrame'>\n",
      "RangeIndex: 21731 entries, 0 to 21730\n",
      "Data columns (total 12 columns):\n",
      " #   Column  Non-Null Count  Dtype  \n",
      "---  ------  --------------  -----  \n",
      " 0   0       0 non-null      float64\n",
      " 1   0       54 non-null     object \n",
      " 2   1       54 non-null     object \n",
      " 3   2       49 non-null     object \n",
      " 4   3       45 non-null     object \n",
      " 5   4       41 non-null     object \n",
      " 6   5       35 non-null     object \n",
      " 7   6       25 non-null     object \n",
      " 8   7       18 non-null     object \n",
      " 9   8       13 non-null     object \n",
      " 10  9       8 non-null      object \n",
      " 11  10      3 non-null      object \n",
      "dtypes: float64(1), object(11)\n",
      "memory usage: 2.0+ MB\n"
     ]
    }
   ],
   "source": [
    "dL.info()"
   ],
   "metadata": {
    "collapsed": false
   }
  },
  {
   "cell_type": "code",
   "execution_count": 28,
   "outputs": [
    {
     "data": {
      "text/plain": "0        {}\n46       {}\n78       {}\n92       {}\n93       {}\n         ..\n21638    {}\n21670    {}\n21693    {}\n21710    {}\n21711    {}\nName: displayLevels, Length: 782, dtype: object"
     },
     "execution_count": 28,
     "metadata": {},
     "output_type": "execute_result"
    }
   ],
   "source": [
    "system.displayLevels[system.displayLevels.notnull()]"
   ],
   "metadata": {
    "collapsed": false
   }
  },
  {
   "cell_type": "code",
   "execution_count": 29,
   "outputs": [
    {
     "name": "stderr",
     "output_type": "stream",
     "text": [
      "C:\\Users\\jolka\\AppData\\Local\\Temp\\ipykernel_9472\\1271681069.py:5: SettingWithCopyWarning: \n",
      "A value is trying to be set on a copy of a slice from a DataFrame.\n",
      "Try using .loc[row_indexer,col_indexer] = value instead\n",
      "\n",
      "See the caveats in the documentation: https://pandas.pydata.org/pandas-docs/stable/user_guide/indexing.html#returning-a-view-versus-a-copy\n",
      "  system.loc[system.displayLevels == {}].displayLevels = np.nan\n"
     ]
    }
   ],
   "source": [
    "import numpy as np\n",
    "\n",
    "\n",
    "# system.loc[system.displayLevels == {}] = np.nan\n",
    "system.loc[system.displayLevels == {}].displayLevels = np.nan\n",
    "dL = unpack_column(system[system.displayLevels.notnull()], column_name=\"displayLevels\")"
   ],
   "metadata": {
    "collapsed": false
   }
  },
  {
   "cell_type": "code",
   "execution_count": 30,
   "outputs": [
    {
     "name": "stdout",
     "output_type": "stream",
     "text": [
      "<class 'pandas.core.frame.DataFrame'>\n",
      "Int64Index: 782 entries, 0 to 21711\n",
      "Data columns (total 11 columns):\n",
      " #   Column  Non-Null Count  Dtype \n",
      "---  ------  --------------  ----- \n",
      " 0   0       54 non-null     object\n",
      " 1   1       54 non-null     object\n",
      " 2   2       49 non-null     object\n",
      " 3   3       45 non-null     object\n",
      " 4   4       41 non-null     object\n",
      " 5   5       35 non-null     object\n",
      " 6   6       25 non-null     object\n",
      " 7   7       18 non-null     object\n",
      " 8   8       13 non-null     object\n",
      " 9   9       8 non-null      object\n",
      " 10  10      3 non-null      object\n",
      "dtypes: object(11)\n",
      "memory usage: 73.3+ KB\n"
     ]
    }
   ],
   "source": [
    "dL.info()"
   ],
   "metadata": {
    "collapsed": false
   }
  },
  {
   "cell_type": "code",
   "execution_count": 31,
   "outputs": [
    {
     "data": {
      "text/plain": "      0    1    2    3    4    5    6    7    8    9   10\n0   NaN  NaN  NaN  NaN  NaN  NaN  NaN  NaN  NaN  NaN  NaN\n46  NaN  NaN  NaN  NaN  NaN  NaN  NaN  NaN  NaN  NaN  NaN\n78  NaN  NaN  NaN  NaN  NaN  NaN  NaN  NaN  NaN  NaN  NaN\n92  NaN  NaN  NaN  NaN  NaN  NaN  NaN  NaN  NaN  NaN  NaN\n93  NaN  NaN  NaN  NaN  NaN  NaN  NaN  NaN  NaN  NaN  NaN",
      "text/html": "<div>\n<style scoped>\n    .dataframe tbody tr th:only-of-type {\n        vertical-align: middle;\n    }\n\n    .dataframe tbody tr th {\n        vertical-align: top;\n    }\n\n    .dataframe thead th {\n        text-align: right;\n    }\n</style>\n<table border=\"1\" class=\"dataframe\">\n  <thead>\n    <tr style=\"text-align: right;\">\n      <th></th>\n      <th>0</th>\n      <th>1</th>\n      <th>2</th>\n      <th>3</th>\n      <th>4</th>\n      <th>5</th>\n      <th>6</th>\n      <th>7</th>\n      <th>8</th>\n      <th>9</th>\n      <th>10</th>\n    </tr>\n  </thead>\n  <tbody>\n    <tr>\n      <th>0</th>\n      <td>NaN</td>\n      <td>NaN</td>\n      <td>NaN</td>\n      <td>NaN</td>\n      <td>NaN</td>\n      <td>NaN</td>\n      <td>NaN</td>\n      <td>NaN</td>\n      <td>NaN</td>\n      <td>NaN</td>\n      <td>NaN</td>\n    </tr>\n    <tr>\n      <th>46</th>\n      <td>NaN</td>\n      <td>NaN</td>\n      <td>NaN</td>\n      <td>NaN</td>\n      <td>NaN</td>\n      <td>NaN</td>\n      <td>NaN</td>\n      <td>NaN</td>\n      <td>NaN</td>\n      <td>NaN</td>\n      <td>NaN</td>\n    </tr>\n    <tr>\n      <th>78</th>\n      <td>NaN</td>\n      <td>NaN</td>\n      <td>NaN</td>\n      <td>NaN</td>\n      <td>NaN</td>\n      <td>NaN</td>\n      <td>NaN</td>\n      <td>NaN</td>\n      <td>NaN</td>\n      <td>NaN</td>\n      <td>NaN</td>\n    </tr>\n    <tr>\n      <th>92</th>\n      <td>NaN</td>\n      <td>NaN</td>\n      <td>NaN</td>\n      <td>NaN</td>\n      <td>NaN</td>\n      <td>NaN</td>\n      <td>NaN</td>\n      <td>NaN</td>\n      <td>NaN</td>\n      <td>NaN</td>\n      <td>NaN</td>\n    </tr>\n    <tr>\n      <th>93</th>\n      <td>NaN</td>\n      <td>NaN</td>\n      <td>NaN</td>\n      <td>NaN</td>\n      <td>NaN</td>\n      <td>NaN</td>\n      <td>NaN</td>\n      <td>NaN</td>\n      <td>NaN</td>\n      <td>NaN</td>\n      <td>NaN</td>\n    </tr>\n  </tbody>\n</table>\n</div>"
     },
     "execution_count": 31,
     "metadata": {},
     "output_type": "execute_result"
    }
   ],
   "source": [
    "dL.head()"
   ],
   "metadata": {
    "collapsed": false
   }
  },
  {
   "cell_type": "code",
   "execution_count": 32,
   "outputs": [
    {
     "data": {
      "text/plain": "         0    1    2    3    4    5    6    7    8    9   10\n0      NaN  NaN  NaN  NaN  NaN  NaN  NaN  NaN  NaN  NaN  NaN\n46     NaN  NaN  NaN  NaN  NaN  NaN  NaN  NaN  NaN  NaN  NaN\n78     NaN  NaN  NaN  NaN  NaN  NaN  NaN  NaN  NaN  NaN  NaN\n92     NaN  NaN  NaN  NaN  NaN  NaN  NaN  NaN  NaN  NaN  NaN\n93     NaN  NaN  NaN  NaN  NaN  NaN  NaN  NaN  NaN  NaN  NaN\n...    ...  ...  ...  ...  ...  ...  ...  ...  ...  ...  ...\n21638  NaN  NaN  NaN  NaN  NaN  NaN  NaN  NaN  NaN  NaN  NaN\n21670  NaN  NaN  NaN  NaN  NaN  NaN  NaN  NaN  NaN  NaN  NaN\n21693  NaN  NaN  NaN  NaN  NaN  NaN  NaN  NaN  NaN  NaN  NaN\n21710  NaN  NaN  NaN  NaN  NaN  NaN  NaN  NaN  NaN  NaN  NaN\n21711  NaN  NaN  NaN  NaN  NaN  NaN  NaN  NaN  NaN  NaN  NaN\n\n[782 rows x 11 columns]",
      "text/html": "<div>\n<style scoped>\n    .dataframe tbody tr th:only-of-type {\n        vertical-align: middle;\n    }\n\n    .dataframe tbody tr th {\n        vertical-align: top;\n    }\n\n    .dataframe thead th {\n        text-align: right;\n    }\n</style>\n<table border=\"1\" class=\"dataframe\">\n  <thead>\n    <tr style=\"text-align: right;\">\n      <th></th>\n      <th>0</th>\n      <th>1</th>\n      <th>2</th>\n      <th>3</th>\n      <th>4</th>\n      <th>5</th>\n      <th>6</th>\n      <th>7</th>\n      <th>8</th>\n      <th>9</th>\n      <th>10</th>\n    </tr>\n  </thead>\n  <tbody>\n    <tr>\n      <th>0</th>\n      <td>NaN</td>\n      <td>NaN</td>\n      <td>NaN</td>\n      <td>NaN</td>\n      <td>NaN</td>\n      <td>NaN</td>\n      <td>NaN</td>\n      <td>NaN</td>\n      <td>NaN</td>\n      <td>NaN</td>\n      <td>NaN</td>\n    </tr>\n    <tr>\n      <th>46</th>\n      <td>NaN</td>\n      <td>NaN</td>\n      <td>NaN</td>\n      <td>NaN</td>\n      <td>NaN</td>\n      <td>NaN</td>\n      <td>NaN</td>\n      <td>NaN</td>\n      <td>NaN</td>\n      <td>NaN</td>\n      <td>NaN</td>\n    </tr>\n    <tr>\n      <th>78</th>\n      <td>NaN</td>\n      <td>NaN</td>\n      <td>NaN</td>\n      <td>NaN</td>\n      <td>NaN</td>\n      <td>NaN</td>\n      <td>NaN</td>\n      <td>NaN</td>\n      <td>NaN</td>\n      <td>NaN</td>\n      <td>NaN</td>\n    </tr>\n    <tr>\n      <th>92</th>\n      <td>NaN</td>\n      <td>NaN</td>\n      <td>NaN</td>\n      <td>NaN</td>\n      <td>NaN</td>\n      <td>NaN</td>\n      <td>NaN</td>\n      <td>NaN</td>\n      <td>NaN</td>\n      <td>NaN</td>\n      <td>NaN</td>\n    </tr>\n    <tr>\n      <th>93</th>\n      <td>NaN</td>\n      <td>NaN</td>\n      <td>NaN</td>\n      <td>NaN</td>\n      <td>NaN</td>\n      <td>NaN</td>\n      <td>NaN</td>\n      <td>NaN</td>\n      <td>NaN</td>\n      <td>NaN</td>\n      <td>NaN</td>\n    </tr>\n    <tr>\n      <th>...</th>\n      <td>...</td>\n      <td>...</td>\n      <td>...</td>\n      <td>...</td>\n      <td>...</td>\n      <td>...</td>\n      <td>...</td>\n      <td>...</td>\n      <td>...</td>\n      <td>...</td>\n      <td>...</td>\n    </tr>\n    <tr>\n      <th>21638</th>\n      <td>NaN</td>\n      <td>NaN</td>\n      <td>NaN</td>\n      <td>NaN</td>\n      <td>NaN</td>\n      <td>NaN</td>\n      <td>NaN</td>\n      <td>NaN</td>\n      <td>NaN</td>\n      <td>NaN</td>\n      <td>NaN</td>\n    </tr>\n    <tr>\n      <th>21670</th>\n      <td>NaN</td>\n      <td>NaN</td>\n      <td>NaN</td>\n      <td>NaN</td>\n      <td>NaN</td>\n      <td>NaN</td>\n      <td>NaN</td>\n      <td>NaN</td>\n      <td>NaN</td>\n      <td>NaN</td>\n      <td>NaN</td>\n    </tr>\n    <tr>\n      <th>21693</th>\n      <td>NaN</td>\n      <td>NaN</td>\n      <td>NaN</td>\n      <td>NaN</td>\n      <td>NaN</td>\n      <td>NaN</td>\n      <td>NaN</td>\n      <td>NaN</td>\n      <td>NaN</td>\n      <td>NaN</td>\n      <td>NaN</td>\n    </tr>\n    <tr>\n      <th>21710</th>\n      <td>NaN</td>\n      <td>NaN</td>\n      <td>NaN</td>\n      <td>NaN</td>\n      <td>NaN</td>\n      <td>NaN</td>\n      <td>NaN</td>\n      <td>NaN</td>\n      <td>NaN</td>\n      <td>NaN</td>\n      <td>NaN</td>\n    </tr>\n    <tr>\n      <th>21711</th>\n      <td>NaN</td>\n      <td>NaN</td>\n      <td>NaN</td>\n      <td>NaN</td>\n      <td>NaN</td>\n      <td>NaN</td>\n      <td>NaN</td>\n      <td>NaN</td>\n      <td>NaN</td>\n      <td>NaN</td>\n      <td>NaN</td>\n    </tr>\n  </tbody>\n</table>\n<p>782 rows × 11 columns</p>\n</div>"
     },
     "execution_count": 32,
     "metadata": {},
     "output_type": "execute_result"
    }
   ],
   "source": [
    "dL"
   ],
   "metadata": {
    "collapsed": false
   }
  },
  {
   "cell_type": "markdown",
   "source": [
    "Just a dict containing more or less True/False values"
   ],
   "metadata": {
    "collapsed": false
   }
  },
  {
   "cell_type": "code",
   "execution_count": 33,
   "outputs": [],
   "source": [
    "system.drop([\"displayLevels\"], axis=\"columns\", inplace=True)"
   ],
   "metadata": {
    "collapsed": false
   }
  },
  {
   "cell_type": "markdown",
   "source": [
    "### prepared"
   ],
   "metadata": {
    "collapsed": false
   }
  },
  {
   "cell_type": "code",
   "execution_count": 34,
   "outputs": [],
   "source": [
    "prepared = unpack_column_with_null(system, column_name=\"prepared\")"
   ],
   "metadata": {
    "collapsed": false
   }
  },
  {
   "cell_type": "code",
   "execution_count": 35,
   "outputs": [
    {
     "data": {
      "text/plain": "  flexible   value\n0    False  innate\n1      NaN        \n2      NaN        \n3      NaN     NaN\n4      NaN     NaN",
      "text/html": "<div>\n<style scoped>\n    .dataframe tbody tr th:only-of-type {\n        vertical-align: middle;\n    }\n\n    .dataframe tbody tr th {\n        vertical-align: top;\n    }\n\n    .dataframe thead th {\n        text-align: right;\n    }\n</style>\n<table border=\"1\" class=\"dataframe\">\n  <thead>\n    <tr style=\"text-align: right;\">\n      <th></th>\n      <th>flexible</th>\n      <th>value</th>\n    </tr>\n  </thead>\n  <tbody>\n    <tr>\n      <th>0</th>\n      <td>False</td>\n      <td>innate</td>\n    </tr>\n    <tr>\n      <th>1</th>\n      <td>NaN</td>\n      <td></td>\n    </tr>\n    <tr>\n      <th>2</th>\n      <td>NaN</td>\n      <td></td>\n    </tr>\n    <tr>\n      <th>3</th>\n      <td>NaN</td>\n      <td>NaN</td>\n    </tr>\n    <tr>\n      <th>4</th>\n      <td>NaN</td>\n      <td>NaN</td>\n    </tr>\n  </tbody>\n</table>\n</div>"
     },
     "execution_count": 35,
     "metadata": {},
     "output_type": "execute_result"
    }
   ],
   "source": [
    "prepared.head()"
   ],
   "metadata": {
    "collapsed": false
   }
  },
  {
   "cell_type": "code",
   "execution_count": 36,
   "outputs": [
    {
     "data": {
      "text/plain": "  flexible   value\n0    False  innate\n1      NaN     NaN\n2      NaN     NaN\n3      NaN     NaN\n4      NaN     NaN",
      "text/html": "<div>\n<style scoped>\n    .dataframe tbody tr th:only-of-type {\n        vertical-align: middle;\n    }\n\n    .dataframe tbody tr th {\n        vertical-align: top;\n    }\n\n    .dataframe thead th {\n        text-align: right;\n    }\n</style>\n<table border=\"1\" class=\"dataframe\">\n  <thead>\n    <tr style=\"text-align: right;\">\n      <th></th>\n      <th>flexible</th>\n      <th>value</th>\n    </tr>\n  </thead>\n  <tbody>\n    <tr>\n      <th>0</th>\n      <td>False</td>\n      <td>innate</td>\n    </tr>\n    <tr>\n      <th>1</th>\n      <td>NaN</td>\n      <td>NaN</td>\n    </tr>\n    <tr>\n      <th>2</th>\n      <td>NaN</td>\n      <td>NaN</td>\n    </tr>\n    <tr>\n      <th>3</th>\n      <td>NaN</td>\n      <td>NaN</td>\n    </tr>\n    <tr>\n      <th>4</th>\n      <td>NaN</td>\n      <td>NaN</td>\n    </tr>\n  </tbody>\n</table>\n</div>"
     },
     "execution_count": 36,
     "metadata": {},
     "output_type": "execute_result"
    }
   ],
   "source": [
    "prepared = prepared.replace(\"\", np.nan)\n",
    "prepared.head()"
   ],
   "metadata": {
    "collapsed": false
   }
  },
  {
   "cell_type": "code",
   "execution_count": 37,
   "outputs": [
    {
     "name": "stdout",
     "output_type": "stream",
     "text": [
      "<class 'pandas.core.frame.DataFrame'>\n",
      "Int64Index: 21731 entries, 0 to 21730\n",
      "Data columns (total 2 columns):\n",
      " #   Column    Non-Null Count  Dtype \n",
      "---  ------    --------------  ----- \n",
      " 0   flexible  621 non-null    object\n",
      " 1   value     792 non-null    object\n",
      "dtypes: object(2)\n",
      "memory usage: 509.3+ KB\n"
     ]
    }
   ],
   "source": [
    "prepared.info()"
   ],
   "metadata": {
    "collapsed": false
   }
  },
  {
   "cell_type": "code",
   "execution_count": 38,
   "outputs": [
    {
     "data": {
      "text/plain": "      flexible        value\n0        False       innate\n46       False       innate\n78         NaN       innate\n92       False  spontaneous\n93       False       innate\n...        ...          ...\n21638    False       innate\n21670      NaN       innate\n21693    False       innate\n21710    False       innate\n21711    False       ritual\n\n[792 rows x 2 columns]",
      "text/html": "<div>\n<style scoped>\n    .dataframe tbody tr th:only-of-type {\n        vertical-align: middle;\n    }\n\n    .dataframe tbody tr th {\n        vertical-align: top;\n    }\n\n    .dataframe thead th {\n        text-align: right;\n    }\n</style>\n<table border=\"1\" class=\"dataframe\">\n  <thead>\n    <tr style=\"text-align: right;\">\n      <th></th>\n      <th>flexible</th>\n      <th>value</th>\n    </tr>\n  </thead>\n  <tbody>\n    <tr>\n      <th>0</th>\n      <td>False</td>\n      <td>innate</td>\n    </tr>\n    <tr>\n      <th>46</th>\n      <td>False</td>\n      <td>innate</td>\n    </tr>\n    <tr>\n      <th>78</th>\n      <td>NaN</td>\n      <td>innate</td>\n    </tr>\n    <tr>\n      <th>92</th>\n      <td>False</td>\n      <td>spontaneous</td>\n    </tr>\n    <tr>\n      <th>93</th>\n      <td>False</td>\n      <td>innate</td>\n    </tr>\n    <tr>\n      <th>...</th>\n      <td>...</td>\n      <td>...</td>\n    </tr>\n    <tr>\n      <th>21638</th>\n      <td>False</td>\n      <td>innate</td>\n    </tr>\n    <tr>\n      <th>21670</th>\n      <td>NaN</td>\n      <td>innate</td>\n    </tr>\n    <tr>\n      <th>21693</th>\n      <td>False</td>\n      <td>innate</td>\n    </tr>\n    <tr>\n      <th>21710</th>\n      <td>False</td>\n      <td>innate</td>\n    </tr>\n    <tr>\n      <th>21711</th>\n      <td>False</td>\n      <td>ritual</td>\n    </tr>\n  </tbody>\n</table>\n<p>792 rows × 2 columns</p>\n</div>"
     },
     "execution_count": 38,
     "metadata": {},
     "output_type": "execute_result"
    }
   ],
   "source": [
    "prepared[prepared.value.notnull()]"
   ],
   "metadata": {
    "collapsed": false
   }
  },
  {
   "cell_type": "code",
   "execution_count": 39,
   "outputs": [
    {
     "data": {
      "text/plain": "      flexible     value\n161      False  prepared\n282      False  prepared\n577      False  prepared\n794      False  prepared\n1303     False  prepared\n...        ...       ...\n19646    False  prepared\n19917    False  prepared\n20581    False  prepared\n20984    False  prepared\n21152    False  prepared\n\n[82 rows x 2 columns]",
      "text/html": "<div>\n<style scoped>\n    .dataframe tbody tr th:only-of-type {\n        vertical-align: middle;\n    }\n\n    .dataframe tbody tr th {\n        vertical-align: top;\n    }\n\n    .dataframe thead th {\n        text-align: right;\n    }\n</style>\n<table border=\"1\" class=\"dataframe\">\n  <thead>\n    <tr style=\"text-align: right;\">\n      <th></th>\n      <th>flexible</th>\n      <th>value</th>\n    </tr>\n  </thead>\n  <tbody>\n    <tr>\n      <th>161</th>\n      <td>False</td>\n      <td>prepared</td>\n    </tr>\n    <tr>\n      <th>282</th>\n      <td>False</td>\n      <td>prepared</td>\n    </tr>\n    <tr>\n      <th>577</th>\n      <td>False</td>\n      <td>prepared</td>\n    </tr>\n    <tr>\n      <th>794</th>\n      <td>False</td>\n      <td>prepared</td>\n    </tr>\n    <tr>\n      <th>1303</th>\n      <td>False</td>\n      <td>prepared</td>\n    </tr>\n    <tr>\n      <th>...</th>\n      <td>...</td>\n      <td>...</td>\n    </tr>\n    <tr>\n      <th>19646</th>\n      <td>False</td>\n      <td>prepared</td>\n    </tr>\n    <tr>\n      <th>19917</th>\n      <td>False</td>\n      <td>prepared</td>\n    </tr>\n    <tr>\n      <th>20581</th>\n      <td>False</td>\n      <td>prepared</td>\n    </tr>\n    <tr>\n      <th>20984</th>\n      <td>False</td>\n      <td>prepared</td>\n    </tr>\n    <tr>\n      <th>21152</th>\n      <td>False</td>\n      <td>prepared</td>\n    </tr>\n  </tbody>\n</table>\n<p>82 rows × 2 columns</p>\n</div>"
     },
     "execution_count": 39,
     "metadata": {},
     "output_type": "execute_result"
    }
   ],
   "source": [
    "prepared[prepared.value == \"prepared\"]"
   ],
   "metadata": {
    "collapsed": false
   }
  },
  {
   "cell_type": "code",
   "execution_count": 40,
   "outputs": [
    {
     "data": {
      "text/plain": "spellcastingEntry    82\nName: type, dtype: int64"
     },
     "execution_count": 40,
     "metadata": {},
     "output_type": "execute_result"
    }
   ],
   "source": [
    "items[prepared.value == \"prepared\"].type.value_counts()"
   ],
   "metadata": {
    "collapsed": false
   }
  },
  {
   "cell_type": "code",
   "execution_count": 41,
   "outputs": [
    {
     "data": {
      "text/plain": "spell    10\nName: type, dtype: int64"
     },
     "execution_count": 41,
     "metadata": {},
     "output_type": "execute_result"
    }
   ],
   "source": [
    "items[prepared.value == False].type.value_counts()"
   ],
   "metadata": {
    "collapsed": false
   }
  },
  {
   "cell_type": "markdown",
   "source": [
    "If prepared.value == \"prepared\" <=> prepared.flexible == False. There are also cases where prepared is just an empty dict or prepared.value == False\n",
    "\n",
    "At least here\n",
    "\n",
    "* prepared.value == \"prepared\" only for spellcastingEntry\n",
    "* prepared.value == False only for spells"
   ],
   "metadata": {
    "collapsed": false
   }
  },
  {
   "cell_type": "code",
   "execution_count": 42,
   "outputs": [],
   "source": [
    "system.drop([\"prepared\"], axis=\"columns\", inplace=True)"
   ],
   "metadata": {
    "collapsed": false
   }
  },
  {
   "cell_type": "markdown",
   "source": [
    "### proficiency"
   ],
   "metadata": {
    "collapsed": false
   }
  },
  {
   "cell_type": "code",
   "execution_count": 43,
   "outputs": [],
   "source": [
    "proficiency = unpack_column(\n",
    "    system[system.proficiency.notnull()], column_name=\"proficiency\"\n",
    ")"
   ],
   "metadata": {
    "collapsed": false
   }
  },
  {
   "cell_type": "code",
   "execution_count": 44,
   "outputs": [
    {
     "name": "stdout",
     "output_type": "stream",
     "text": [
      "<class 'pandas.core.frame.DataFrame'>\n",
      "Int64Index: 782 entries, 0 to 21711\n",
      "Data columns (total 1 columns):\n",
      " #   Column  Non-Null Count  Dtype\n",
      "---  ------  --------------  -----\n",
      " 0   value   782 non-null    int64\n",
      "dtypes: int64(1)\n",
      "memory usage: 12.2 KB\n"
     ]
    }
   ],
   "source": [
    "proficiency.info()"
   ],
   "metadata": {
    "collapsed": false
   }
  },
  {
   "cell_type": "code",
   "execution_count": 45,
   "outputs": [
    {
     "data": {
      "text/plain": "    value\n0       0\n46      0\n78      0\n92      0\n93      0",
      "text/html": "<div>\n<style scoped>\n    .dataframe tbody tr th:only-of-type {\n        vertical-align: middle;\n    }\n\n    .dataframe tbody tr th {\n        vertical-align: top;\n    }\n\n    .dataframe thead th {\n        text-align: right;\n    }\n</style>\n<table border=\"1\" class=\"dataframe\">\n  <thead>\n    <tr style=\"text-align: right;\">\n      <th></th>\n      <th>value</th>\n    </tr>\n  </thead>\n  <tbody>\n    <tr>\n      <th>0</th>\n      <td>0</td>\n    </tr>\n    <tr>\n      <th>46</th>\n      <td>0</td>\n    </tr>\n    <tr>\n      <th>78</th>\n      <td>0</td>\n    </tr>\n    <tr>\n      <th>92</th>\n      <td>0</td>\n    </tr>\n    <tr>\n      <th>93</th>\n      <td>0</td>\n    </tr>\n  </tbody>\n</table>\n</div>"
     },
     "execution_count": 45,
     "metadata": {},
     "output_type": "execute_result"
    }
   ],
   "source": [
    "proficiency.head()"
   ],
   "metadata": {
    "collapsed": false
   }
  },
  {
   "cell_type": "code",
   "execution_count": 46,
   "outputs": [
    {
     "data": {
      "text/plain": "0    481\n1    301\nName: value, dtype: int64"
     },
     "execution_count": 46,
     "metadata": {},
     "output_type": "execute_result"
    }
   ],
   "source": [
    "proficiency.value.value_counts()"
   ],
   "metadata": {
    "collapsed": false
   }
  },
  {
   "cell_type": "code",
   "execution_count": 47,
   "outputs": [
    {
     "data": {
      "text/plain": "spellcastingEntry    481\nName: type, dtype: int64"
     },
     "execution_count": 47,
     "metadata": {},
     "output_type": "execute_result"
    }
   ],
   "source": [
    "items.loc[proficiency[proficiency.value == 0].index].type.value_counts()"
   ],
   "metadata": {
    "collapsed": false
   }
  },
  {
   "cell_type": "code",
   "execution_count": 48,
   "outputs": [
    {
     "data": {
      "text/plain": "spellcastingEntry    301\nName: type, dtype: int64"
     },
     "execution_count": 48,
     "metadata": {},
     "output_type": "execute_result"
    }
   ],
   "source": [
    "items.loc[proficiency[proficiency.value == 1].index].type.value_counts()"
   ],
   "metadata": {
    "collapsed": false
   }
  },
  {
   "cell_type": "markdown",
   "source": [
    "proficiency is another parameter that appears only for *spellcastingEntry*"
   ],
   "metadata": {
    "collapsed": false
   }
  },
  {
   "cell_type": "code",
   "execution_count": 49,
   "outputs": [],
   "source": [
    "system.drop([\"proficiency\"], axis=\"columns\", inplace=True)"
   ],
   "metadata": {
    "collapsed": false
   }
  },
  {
   "cell_type": "markdown",
   "source": [
    "### rules"
   ],
   "metadata": {
    "collapsed": false
   }
  },
  {
   "cell_type": "code",
   "execution_count": 50,
   "outputs": [],
   "source": [
    "# only not null and without empty lists\n",
    "system.rules = system.rules.apply(\n",
    "    lambda x: np.nan if (type(x) == list and len(x) == 0) else x\n",
    ")\n",
    "rules = system.rules[system.rules.notnull()]"
   ],
   "metadata": {
    "collapsed": false
   }
  },
  {
   "cell_type": "code",
   "execution_count": 51,
   "outputs": [
    {
     "name": "stdout",
     "output_type": "stream",
     "text": [
      "<class 'pandas.core.series.Series'>\n",
      "Int64Index: 1497 entries, 8 to 21726\n",
      "Series name: rules\n",
      "Non-Null Count  Dtype \n",
      "--------------  ----- \n",
      "1497 non-null   object\n",
      "dtypes: object(1)\n",
      "memory usage: 23.4+ KB\n"
     ]
    }
   ],
   "source": [
    "rules.info()"
   ],
   "metadata": {
    "collapsed": false
   }
  },
  {
   "cell_type": "code",
   "execution_count": 52,
   "outputs": [
    {
     "data": {
      "text/plain": "8     [{'key': 'FlatModifier', 'predicate': [{'or': ...\n9     [{'key': 'Aura', 'radius': 5, 'slug': 'dragon-...\n11    [{'key': 'Aura', 'radius': 90, 'slug': 'fright...\n14    [{'key': 'Note', 'outcome': ['criticalSuccess'...\n57    [{'key': 'Note', 'predicate': ['action:hide', ...\nName: rules, dtype: object"
     },
     "execution_count": 52,
     "metadata": {},
     "output_type": "execute_result"
    }
   ],
   "source": [
    "rules.head()"
   ],
   "metadata": {
    "collapsed": false
   }
  },
  {
   "cell_type": "markdown",
   "source": [
    "Analysis maybe (?) in other notebook"
   ],
   "metadata": {
    "collapsed": false
   }
  },
  {
   "cell_type": "code",
   "execution_count": 53,
   "outputs": [],
   "source": [
    "system.drop([\"rules\"], axis=\"columns\", inplace=True)"
   ],
   "metadata": {
    "collapsed": false
   }
  },
  {
   "cell_type": "markdown",
   "source": [
    "### showSlotlessLevels"
   ],
   "metadata": {
    "collapsed": false
   }
  },
  {
   "cell_type": "code",
   "execution_count": 54,
   "outputs": [],
   "source": [
    "showSlotlessLevels = unpack_column(\n",
    "    system[system.showSlotlessLevels.notnull()], column_name=\"showSlotlessLevels\"\n",
    ")"
   ],
   "metadata": {
    "collapsed": false
   }
  },
  {
   "cell_type": "code",
   "execution_count": 55,
   "outputs": [
    {
     "name": "stdout",
     "output_type": "stream",
     "text": [
      "<class 'pandas.core.frame.DataFrame'>\n",
      "Int64Index: 782 entries, 0 to 21711\n",
      "Data columns (total 1 columns):\n",
      " #   Column  Non-Null Count  Dtype\n",
      "---  ------  --------------  -----\n",
      " 0   value   782 non-null    bool \n",
      "dtypes: bool(1)\n",
      "memory usage: 6.9 KB\n"
     ]
    }
   ],
   "source": [
    "showSlotlessLevels.info()"
   ],
   "metadata": {
    "collapsed": false
   }
  },
  {
   "cell_type": "code",
   "execution_count": 56,
   "outputs": [
    {
     "data": {
      "text/plain": "    value\n0   False\n46  False\n78  False\n92  False\n93  False",
      "text/html": "<div>\n<style scoped>\n    .dataframe tbody tr th:only-of-type {\n        vertical-align: middle;\n    }\n\n    .dataframe tbody tr th {\n        vertical-align: top;\n    }\n\n    .dataframe thead th {\n        text-align: right;\n    }\n</style>\n<table border=\"1\" class=\"dataframe\">\n  <thead>\n    <tr style=\"text-align: right;\">\n      <th></th>\n      <th>value</th>\n    </tr>\n  </thead>\n  <tbody>\n    <tr>\n      <th>0</th>\n      <td>False</td>\n    </tr>\n    <tr>\n      <th>46</th>\n      <td>False</td>\n    </tr>\n    <tr>\n      <th>78</th>\n      <td>False</td>\n    </tr>\n    <tr>\n      <th>92</th>\n      <td>False</td>\n    </tr>\n    <tr>\n      <th>93</th>\n      <td>False</td>\n    </tr>\n  </tbody>\n</table>\n</div>"
     },
     "execution_count": 56,
     "metadata": {},
     "output_type": "execute_result"
    }
   ],
   "source": [
    "showSlotlessLevels.head()"
   ],
   "metadata": {
    "collapsed": false
   }
  },
  {
   "cell_type": "code",
   "execution_count": 57,
   "outputs": [
    {
     "data": {
      "text/plain": "False    497\nTrue     285\nName: value, dtype: int64"
     },
     "execution_count": 57,
     "metadata": {},
     "output_type": "execute_result"
    }
   ],
   "source": [
    "showSlotlessLevels.value.value_counts()"
   ],
   "metadata": {
    "collapsed": false
   }
  },
  {
   "cell_type": "code",
   "execution_count": 58,
   "outputs": [
    {
     "data": {
      "text/plain": "spellcastingEntry    782\nName: type, dtype: int64"
     },
     "execution_count": 58,
     "metadata": {},
     "output_type": "execute_result"
    }
   ],
   "source": [
    "items.loc[showSlotlessLevels.index].type.value_counts()"
   ],
   "metadata": {
    "collapsed": false
   }
  },
  {
   "cell_type": "markdown",
   "source": [
    "It is a spellcastingEntry attribute. Only boolean values"
   ],
   "metadata": {
    "collapsed": false
   }
  },
  {
   "cell_type": "code",
   "execution_count": 59,
   "outputs": [],
   "source": [
    "system.drop([\"showSlotlessLevels\"], axis=\"columns\", inplace=True)"
   ],
   "metadata": {
    "collapsed": false
   }
  },
  {
   "cell_type": "markdown",
   "source": [
    "### showUnpreparedSpells"
   ],
   "metadata": {
    "collapsed": false
   }
  },
  {
   "cell_type": "code",
   "execution_count": 60,
   "outputs": [],
   "source": [
    "showUnpreparedSpells = unpack_column(\n",
    "    system[system.showUnpreparedSpells.notnull()], column_name=\"showUnpreparedSpells\"\n",
    ")"
   ],
   "metadata": {
    "collapsed": false
   }
  },
  {
   "cell_type": "code",
   "execution_count": 61,
   "outputs": [
    {
     "name": "stdout",
     "output_type": "stream",
     "text": [
      "<class 'pandas.core.frame.DataFrame'>\n",
      "Int64Index: 782 entries, 0 to 21711\n",
      "Data columns (total 1 columns):\n",
      " #   Column  Non-Null Count  Dtype\n",
      "---  ------  --------------  -----\n",
      " 0   value   782 non-null    bool \n",
      "dtypes: bool(1)\n",
      "memory usage: 6.9 KB\n"
     ]
    }
   ],
   "source": [
    "showUnpreparedSpells.info()"
   ],
   "metadata": {
    "collapsed": false
   }
  },
  {
   "cell_type": "code",
   "execution_count": 62,
   "outputs": [
    {
     "data": {
      "text/plain": "    value\n0    True\n46   True\n78   True\n92   True\n93   True",
      "text/html": "<div>\n<style scoped>\n    .dataframe tbody tr th:only-of-type {\n        vertical-align: middle;\n    }\n\n    .dataframe tbody tr th {\n        vertical-align: top;\n    }\n\n    .dataframe thead th {\n        text-align: right;\n    }\n</style>\n<table border=\"1\" class=\"dataframe\">\n  <thead>\n    <tr style=\"text-align: right;\">\n      <th></th>\n      <th>value</th>\n    </tr>\n  </thead>\n  <tbody>\n    <tr>\n      <th>0</th>\n      <td>True</td>\n    </tr>\n    <tr>\n      <th>46</th>\n      <td>True</td>\n    </tr>\n    <tr>\n      <th>78</th>\n      <td>True</td>\n    </tr>\n    <tr>\n      <th>92</th>\n      <td>True</td>\n    </tr>\n    <tr>\n      <th>93</th>\n      <td>True</td>\n    </tr>\n  </tbody>\n</table>\n</div>"
     },
     "execution_count": 62,
     "metadata": {},
     "output_type": "execute_result"
    }
   ],
   "source": [
    "showUnpreparedSpells.head()"
   ],
   "metadata": {
    "collapsed": false
   }
  },
  {
   "cell_type": "code",
   "execution_count": 63,
   "outputs": [
    {
     "data": {
      "text/plain": "False    516\nTrue     266\nName: value, dtype: int64"
     },
     "execution_count": 63,
     "metadata": {},
     "output_type": "execute_result"
    }
   ],
   "source": [
    "showUnpreparedSpells.value.value_counts()"
   ],
   "metadata": {
    "collapsed": false
   }
  },
  {
   "cell_type": "code",
   "execution_count": 64,
   "outputs": [
    {
     "data": {
      "text/plain": "spellcastingEntry    782\nName: type, dtype: int64"
     },
     "execution_count": 64,
     "metadata": {},
     "output_type": "execute_result"
    }
   ],
   "source": [
    "items.loc[showUnpreparedSpells.index].type.value_counts()"
   ],
   "metadata": {
    "collapsed": false
   }
  },
  {
   "cell_type": "markdown",
   "source": [
    "It is a spellcastingEntry attribute. Only boolean values"
   ],
   "metadata": {
    "collapsed": false
   }
  },
  {
   "cell_type": "code",
   "execution_count": 65,
   "outputs": [],
   "source": [
    "system.drop([\"showUnpreparedSpells\"], axis=\"columns\", inplace=True)"
   ],
   "metadata": {
    "collapsed": false
   }
  },
  {
   "cell_type": "markdown",
   "source": [
    "### slots"
   ],
   "metadata": {
    "collapsed": false
   }
  },
  {
   "cell_type": "code",
   "execution_count": 66,
   "outputs": [],
   "source": [
    "slots = unpack_column(system[system.slots.notnull()], column_name=\"slots\")"
   ],
   "metadata": {
    "collapsed": false
   }
  },
  {
   "cell_type": "code",
   "execution_count": 67,
   "outputs": [
    {
     "name": "stdout",
     "output_type": "stream",
     "text": [
      "<class 'pandas.core.frame.DataFrame'>\n",
      "Int64Index: 782 entries, 0 to 21711\n",
      "Data columns (total 12 columns):\n",
      " #   Column  Non-Null Count  Dtype \n",
      "---  ------  --------------  ----- \n",
      " 0   slot0   782 non-null    object\n",
      " 1   slot1   782 non-null    object\n",
      " 2   slot10  782 non-null    object\n",
      " 3   slot11  782 non-null    object\n",
      " 4   slot2   782 non-null    object\n",
      " 5   slot3   782 non-null    object\n",
      " 6   slot4   782 non-null    object\n",
      " 7   slot5   782 non-null    object\n",
      " 8   slot6   782 non-null    object\n",
      " 9   slot7   782 non-null    object\n",
      " 10  slot8   782 non-null    object\n",
      " 11  slot9   782 non-null    object\n",
      "dtypes: object(12)\n",
      "memory usage: 79.4+ KB\n"
     ]
    }
   ],
   "source": [
    "slots.info()"
   ],
   "metadata": {
    "collapsed": false
   }
  },
  {
   "cell_type": "code",
   "execution_count": 68,
   "outputs": [
    {
     "data": {
      "text/plain": "                                     slot0  \\\n0   {'max': 0, 'prepared': [], 'value': 0}   \n46  {'max': 0, 'prepared': [], 'value': 0}   \n78  {'max': 0, 'prepared': [], 'value': 0}   \n92  {'max': 0, 'prepared': [], 'value': 0}   \n93  {'max': 0, 'prepared': [], 'value': 0}   \n\n                                     slot1  \\\n0   {'max': 0, 'prepared': [], 'value': 0}   \n46  {'max': 0, 'prepared': [], 'value': 0}   \n78  {'max': 0, 'prepared': [], 'value': 0}   \n92  {'max': 4, 'prepared': [], 'value': 4}   \n93  {'max': 0, 'prepared': [], 'value': 0}   \n\n                                    slot10  \\\n0   {'max': 0, 'prepared': [], 'value': 0}   \n46  {'max': 0, 'prepared': [], 'value': 0}   \n78  {'max': 0, 'prepared': [], 'value': 0}   \n92  {'max': 0, 'prepared': [], 'value': 0}   \n93  {'max': 0, 'prepared': [], 'value': 0}   \n\n                                    slot11  \\\n0   {'max': 0, 'prepared': [], 'value': 0}   \n46  {'max': 0, 'prepared': [], 'value': 0}   \n78  {'max': 0, 'prepared': [], 'value': 0}   \n92  {'max': 0, 'prepared': [], 'value': 0}   \n93  {'max': 0, 'prepared': [], 'value': 0}   \n\n                                     slot2  \\\n0   {'max': 0, 'prepared': [], 'value': 0}   \n46  {'max': 0, 'prepared': [], 'value': 0}   \n78  {'max': 0, 'prepared': [], 'value': 0}   \n92  {'max': 4, 'prepared': [], 'value': 4}   \n93  {'max': 0, 'prepared': [], 'value': 0}   \n\n                                     slot3  \\\n0   {'max': 0, 'prepared': [], 'value': 0}   \n46  {'max': 0, 'prepared': [], 'value': 0}   \n78  {'max': 0, 'prepared': [], 'value': 0}   \n92  {'max': 4, 'prepared': [], 'value': 4}   \n93  {'max': 0, 'prepared': [], 'value': 0}   \n\n                                     slot4  \\\n0   {'max': 0, 'prepared': [], 'value': 0}   \n46  {'max': 0, 'prepared': [], 'value': 0}   \n78  {'max': 0, 'prepared': [], 'value': 0}   \n92  {'max': 3, 'prepared': [], 'value': 3}   \n93  {'max': 0, 'prepared': [], 'value': 0}   \n\n                                     slot5  \\\n0   {'max': 0, 'prepared': [], 'value': 0}   \n46  {'max': 0, 'prepared': [], 'value': 0}   \n78  {'max': 0, 'prepared': [], 'value': 0}   \n92  {'max': 0, 'prepared': [], 'value': 0}   \n93  {'max': 0, 'prepared': [], 'value': 0}   \n\n                                     slot6  \\\n0   {'max': 0, 'prepared': [], 'value': 0}   \n46  {'max': 0, 'prepared': [], 'value': 0}   \n78  {'max': 0, 'prepared': [], 'value': 0}   \n92  {'max': 0, 'prepared': [], 'value': 0}   \n93  {'max': 0, 'prepared': [], 'value': 0}   \n\n                                     slot7  \\\n0   {'max': 0, 'prepared': [], 'value': 0}   \n46  {'max': 0, 'prepared': [], 'value': 0}   \n78  {'max': 0, 'prepared': [], 'value': 0}   \n92  {'max': 0, 'prepared': [], 'value': 0}   \n93  {'max': 0, 'prepared': [], 'value': 0}   \n\n                                     slot8  \\\n0   {'max': 0, 'prepared': [], 'value': 0}   \n46  {'max': 0, 'prepared': [], 'value': 0}   \n78  {'max': 0, 'prepared': [], 'value': 0}   \n92  {'max': 0, 'prepared': [], 'value': 0}   \n93  {'max': 0, 'prepared': [], 'value': 0}   \n\n                                     slot9  \n0   {'max': 0, 'prepared': [], 'value': 0}  \n46  {'max': 0, 'prepared': [], 'value': 0}  \n78  {'max': 0, 'prepared': [], 'value': 0}  \n92  {'max': 0, 'prepared': [], 'value': 0}  \n93  {'max': 0, 'prepared': [], 'value': 0}  ",
      "text/html": "<div>\n<style scoped>\n    .dataframe tbody tr th:only-of-type {\n        vertical-align: middle;\n    }\n\n    .dataframe tbody tr th {\n        vertical-align: top;\n    }\n\n    .dataframe thead th {\n        text-align: right;\n    }\n</style>\n<table border=\"1\" class=\"dataframe\">\n  <thead>\n    <tr style=\"text-align: right;\">\n      <th></th>\n      <th>slot0</th>\n      <th>slot1</th>\n      <th>slot10</th>\n      <th>slot11</th>\n      <th>slot2</th>\n      <th>slot3</th>\n      <th>slot4</th>\n      <th>slot5</th>\n      <th>slot6</th>\n      <th>slot7</th>\n      <th>slot8</th>\n      <th>slot9</th>\n    </tr>\n  </thead>\n  <tbody>\n    <tr>\n      <th>0</th>\n      <td>{'max': 0, 'prepared': [], 'value': 0}</td>\n      <td>{'max': 0, 'prepared': [], 'value': 0}</td>\n      <td>{'max': 0, 'prepared': [], 'value': 0}</td>\n      <td>{'max': 0, 'prepared': [], 'value': 0}</td>\n      <td>{'max': 0, 'prepared': [], 'value': 0}</td>\n      <td>{'max': 0, 'prepared': [], 'value': 0}</td>\n      <td>{'max': 0, 'prepared': [], 'value': 0}</td>\n      <td>{'max': 0, 'prepared': [], 'value': 0}</td>\n      <td>{'max': 0, 'prepared': [], 'value': 0}</td>\n      <td>{'max': 0, 'prepared': [], 'value': 0}</td>\n      <td>{'max': 0, 'prepared': [], 'value': 0}</td>\n      <td>{'max': 0, 'prepared': [], 'value': 0}</td>\n    </tr>\n    <tr>\n      <th>46</th>\n      <td>{'max': 0, 'prepared': [], 'value': 0}</td>\n      <td>{'max': 0, 'prepared': [], 'value': 0}</td>\n      <td>{'max': 0, 'prepared': [], 'value': 0}</td>\n      <td>{'max': 0, 'prepared': [], 'value': 0}</td>\n      <td>{'max': 0, 'prepared': [], 'value': 0}</td>\n      <td>{'max': 0, 'prepared': [], 'value': 0}</td>\n      <td>{'max': 0, 'prepared': [], 'value': 0}</td>\n      <td>{'max': 0, 'prepared': [], 'value': 0}</td>\n      <td>{'max': 0, 'prepared': [], 'value': 0}</td>\n      <td>{'max': 0, 'prepared': [], 'value': 0}</td>\n      <td>{'max': 0, 'prepared': [], 'value': 0}</td>\n      <td>{'max': 0, 'prepared': [], 'value': 0}</td>\n    </tr>\n    <tr>\n      <th>78</th>\n      <td>{'max': 0, 'prepared': [], 'value': 0}</td>\n      <td>{'max': 0, 'prepared': [], 'value': 0}</td>\n      <td>{'max': 0, 'prepared': [], 'value': 0}</td>\n      <td>{'max': 0, 'prepared': [], 'value': 0}</td>\n      <td>{'max': 0, 'prepared': [], 'value': 0}</td>\n      <td>{'max': 0, 'prepared': [], 'value': 0}</td>\n      <td>{'max': 0, 'prepared': [], 'value': 0}</td>\n      <td>{'max': 0, 'prepared': [], 'value': 0}</td>\n      <td>{'max': 0, 'prepared': [], 'value': 0}</td>\n      <td>{'max': 0, 'prepared': [], 'value': 0}</td>\n      <td>{'max': 0, 'prepared': [], 'value': 0}</td>\n      <td>{'max': 0, 'prepared': [], 'value': 0}</td>\n    </tr>\n    <tr>\n      <th>92</th>\n      <td>{'max': 0, 'prepared': [], 'value': 0}</td>\n      <td>{'max': 4, 'prepared': [], 'value': 4}</td>\n      <td>{'max': 0, 'prepared': [], 'value': 0}</td>\n      <td>{'max': 0, 'prepared': [], 'value': 0}</td>\n      <td>{'max': 4, 'prepared': [], 'value': 4}</td>\n      <td>{'max': 4, 'prepared': [], 'value': 4}</td>\n      <td>{'max': 3, 'prepared': [], 'value': 3}</td>\n      <td>{'max': 0, 'prepared': [], 'value': 0}</td>\n      <td>{'max': 0, 'prepared': [], 'value': 0}</td>\n      <td>{'max': 0, 'prepared': [], 'value': 0}</td>\n      <td>{'max': 0, 'prepared': [], 'value': 0}</td>\n      <td>{'max': 0, 'prepared': [], 'value': 0}</td>\n    </tr>\n    <tr>\n      <th>93</th>\n      <td>{'max': 0, 'prepared': [], 'value': 0}</td>\n      <td>{'max': 0, 'prepared': [], 'value': 0}</td>\n      <td>{'max': 0, 'prepared': [], 'value': 0}</td>\n      <td>{'max': 0, 'prepared': [], 'value': 0}</td>\n      <td>{'max': 0, 'prepared': [], 'value': 0}</td>\n      <td>{'max': 0, 'prepared': [], 'value': 0}</td>\n      <td>{'max': 0, 'prepared': [], 'value': 0}</td>\n      <td>{'max': 0, 'prepared': [], 'value': 0}</td>\n      <td>{'max': 0, 'prepared': [], 'value': 0}</td>\n      <td>{'max': 0, 'prepared': [], 'value': 0}</td>\n      <td>{'max': 0, 'prepared': [], 'value': 0}</td>\n      <td>{'max': 0, 'prepared': [], 'value': 0}</td>\n    </tr>\n  </tbody>\n</table>\n</div>"
     },
     "execution_count": 68,
     "metadata": {},
     "output_type": "execute_result"
    }
   ],
   "source": [
    "slots.head()"
   ],
   "metadata": {
    "collapsed": false
   }
  },
  {
   "cell_type": "markdown",
   "source": [
    "Analysis in other notebook"
   ],
   "metadata": {
    "collapsed": false
   }
  },
  {
   "cell_type": "code",
   "execution_count": 69,
   "outputs": [],
   "source": [
    "system.drop([\"slots\"], axis=\"columns\", inplace=True)"
   ],
   "metadata": {
    "collapsed": false
   }
  },
  {
   "cell_type": "markdown",
   "source": [
    "### slug"
   ],
   "metadata": {
    "collapsed": false
   }
  },
  {
   "cell_type": "code",
   "execution_count": 70,
   "outputs": [],
   "source": [
    "slug = system.slug[system.slug.notnull()]"
   ],
   "metadata": {
    "collapsed": false
   }
  },
  {
   "cell_type": "code",
   "execution_count": 71,
   "outputs": [
    {
     "data": {
      "text/plain": "darkvision                        810\nscent                             306\nat-will-spells                    291\nlow-light-vision                  233\n1-status-to-all-saves-vs-magic    216\n                                 ... \nskrik-nettle-venom                  1\nghoul-fever                         1\nogre-spider-venom                   1\nlich-rejuvenation                   1\nowb-pact                            1\nName: slug, Length: 928, dtype: int64"
     },
     "execution_count": 71,
     "metadata": {},
     "output_type": "execute_result"
    }
   ],
   "source": [
    "slug.value_counts()"
   ],
   "metadata": {
    "collapsed": false
   }
  },
  {
   "cell_type": "code",
   "execution_count": 72,
   "outputs": [
    {
     "data": {
      "text/plain": "spell         5148\naction        4198\nweapon         375\narmor          120\nconsumable      95\nequipment       35\ncondition       11\neffect           5\nmelee            2\ntreasure         1\nlore             1\nbackpack         1\nName: type, dtype: int64"
     },
     "execution_count": 72,
     "metadata": {},
     "output_type": "execute_result"
    }
   ],
   "source": [
    "items.loc[slug.index].type.value_counts()"
   ],
   "metadata": {
    "collapsed": false
   }
  },
  {
   "cell_type": "markdown",
   "source": [
    "**Can be useful**"
   ],
   "metadata": {
    "collapsed": false
   }
  },
  {
   "cell_type": "code",
   "execution_count": 73,
   "outputs": [],
   "source": [
    "system.drop([\"slug\"], axis=\"columns\", inplace=True)"
   ],
   "metadata": {
    "collapsed": false
   }
  },
  {
   "cell_type": "markdown",
   "source": [
    "### source"
   ],
   "metadata": {
    "collapsed": false
   }
  },
  {
   "cell_type": "code",
   "execution_count": 74,
   "outputs": [],
   "source": [
    "source = unpack_column(system[system.source.notnull()], column_name=\"source\")"
   ],
   "metadata": {
    "collapsed": false
   }
  },
  {
   "cell_type": "code",
   "execution_count": 75,
   "outputs": [
    {
     "name": "stdout",
     "output_type": "stream",
     "text": [
      "<class 'pandas.core.frame.DataFrame'>\n",
      "Int64Index: 21731 entries, 0 to 21730\n",
      "Data columns (total 1 columns):\n",
      " #   Column  Non-Null Count  Dtype \n",
      "---  ------  --------------  ----- \n",
      " 0   value   21731 non-null  object\n",
      "dtypes: object(1)\n",
      "memory usage: 339.5+ KB\n"
     ]
    }
   ],
   "source": [
    "source.info()"
   ],
   "metadata": {
    "collapsed": false
   }
  },
  {
   "cell_type": "code",
   "execution_count": 76,
   "outputs": [
    {
     "data": {
      "text/plain": "                      value\n0                          \n1  Pathfinder Core Rulebook\n2  Pathfinder Core Rulebook\n3                          \n4                          ",
      "text/html": "<div>\n<style scoped>\n    .dataframe tbody tr th:only-of-type {\n        vertical-align: middle;\n    }\n\n    .dataframe tbody tr th {\n        vertical-align: top;\n    }\n\n    .dataframe thead th {\n        text-align: right;\n    }\n</style>\n<table border=\"1\" class=\"dataframe\">\n  <thead>\n    <tr style=\"text-align: right;\">\n      <th></th>\n      <th>value</th>\n    </tr>\n  </thead>\n  <tbody>\n    <tr>\n      <th>0</th>\n      <td></td>\n    </tr>\n    <tr>\n      <th>1</th>\n      <td>Pathfinder Core Rulebook</td>\n    </tr>\n    <tr>\n      <th>2</th>\n      <td>Pathfinder Core Rulebook</td>\n    </tr>\n    <tr>\n      <th>3</th>\n      <td></td>\n    </tr>\n    <tr>\n      <th>4</th>\n      <td></td>\n    </tr>\n  </tbody>\n</table>\n</div>"
     },
     "execution_count": 76,
     "metadata": {},
     "output_type": "execute_result"
    }
   ],
   "source": [
    "source.head()"
   ],
   "metadata": {
    "collapsed": false
   }
  },
  {
   "cell_type": "code",
   "execution_count": 77,
   "outputs": [],
   "source": [
    "source.value = source.value.replace(\"\", np.nan)"
   ],
   "metadata": {
    "collapsed": false
   }
  },
  {
   "cell_type": "code",
   "execution_count": 78,
   "outputs": [
    {
     "name": "stdout",
     "output_type": "stream",
     "text": [
      "<class 'pandas.core.frame.DataFrame'>\n",
      "Int64Index: 21731 entries, 0 to 21730\n",
      "Data columns (total 1 columns):\n",
      " #   Column  Non-Null Count  Dtype \n",
      "---  ------  --------------  ----- \n",
      " 0   value   8347 non-null   object\n",
      "dtypes: object(1)\n",
      "memory usage: 339.5+ KB\n"
     ]
    }
   ],
   "source": [
    "source.info()"
   ],
   "metadata": {
    "collapsed": false
   }
  },
  {
   "cell_type": "code",
   "execution_count": 79,
   "outputs": [
    {
     "data": {
      "text/plain": "Pathfinder Core Rulebook              4665\nPathfinder Bestiary                   3534\nPathfinder Bestiary 2                   85\nPathfinder Bestiary 3                   43\nPathfinder Advanced Player's Guide      11\nPathfinder Secrets of Magic              9\nName: value, dtype: int64"
     },
     "execution_count": 79,
     "metadata": {},
     "output_type": "execute_result"
    }
   ],
   "source": [
    "source.value.value_counts()"
   ],
   "metadata": {
    "collapsed": false
   }
  },
  {
   "cell_type": "markdown",
   "source": [
    "It is just info about **source**"
   ],
   "metadata": {
    "collapsed": false
   }
  },
  {
   "cell_type": "code",
   "execution_count": 80,
   "outputs": [],
   "source": [
    "system.drop([\"source\"], axis=\"columns\", inplace=True)"
   ],
   "metadata": {
    "collapsed": false
   }
  },
  {
   "cell_type": "markdown",
   "source": [
    "### spelldc"
   ],
   "metadata": {
    "collapsed": false
   }
  },
  {
   "cell_type": "code",
   "execution_count": 81,
   "outputs": [],
   "source": [
    "spelldc = unpack_column(system[system.spelldc.notnull()], column_name=\"spelldc\")"
   ],
   "metadata": {
    "collapsed": false
   }
  },
  {
   "cell_type": "code",
   "execution_count": 82,
   "outputs": [
    {
     "name": "stdout",
     "output_type": "stream",
     "text": [
      "<class 'pandas.core.frame.DataFrame'>\n",
      "Int64Index: 782 entries, 0 to 21711\n",
      "Data columns (total 4 columns):\n",
      " #   Column  Non-Null Count  Dtype  \n",
      "---  ------  --------------  -----  \n",
      " 0   dc      782 non-null    float64\n",
      " 1   mod     660 non-null    float64\n",
      " 2   value   782 non-null    float64\n",
      " 3   item    56 non-null     float64\n",
      "dtypes: float64(4)\n",
      "memory usage: 30.5 KB\n"
     ]
    }
   ],
   "source": [
    "spelldc.info()"
   ],
   "metadata": {
    "collapsed": false
   }
  },
  {
   "cell_type": "code",
   "execution_count": 83,
   "outputs": [
    {
     "data": {
      "text/plain": "      dc  mod  value  item\n0   27.0  0.0   19.0   NaN\n46  39.0  0.0   31.0   NaN\n78  17.0  0.0    9.0   NaN\n92  26.0  0.0   18.0   NaN\n93  25.0  0.0   17.0   NaN",
      "text/html": "<div>\n<style scoped>\n    .dataframe tbody tr th:only-of-type {\n        vertical-align: middle;\n    }\n\n    .dataframe tbody tr th {\n        vertical-align: top;\n    }\n\n    .dataframe thead th {\n        text-align: right;\n    }\n</style>\n<table border=\"1\" class=\"dataframe\">\n  <thead>\n    <tr style=\"text-align: right;\">\n      <th></th>\n      <th>dc</th>\n      <th>mod</th>\n      <th>value</th>\n      <th>item</th>\n    </tr>\n  </thead>\n  <tbody>\n    <tr>\n      <th>0</th>\n      <td>27.0</td>\n      <td>0.0</td>\n      <td>19.0</td>\n      <td>NaN</td>\n    </tr>\n    <tr>\n      <th>46</th>\n      <td>39.0</td>\n      <td>0.0</td>\n      <td>31.0</td>\n      <td>NaN</td>\n    </tr>\n    <tr>\n      <th>78</th>\n      <td>17.0</td>\n      <td>0.0</td>\n      <td>9.0</td>\n      <td>NaN</td>\n    </tr>\n    <tr>\n      <th>92</th>\n      <td>26.0</td>\n      <td>0.0</td>\n      <td>18.0</td>\n      <td>NaN</td>\n    </tr>\n    <tr>\n      <th>93</th>\n      <td>25.0</td>\n      <td>0.0</td>\n      <td>17.0</td>\n      <td>NaN</td>\n    </tr>\n  </tbody>\n</table>\n</div>"
     },
     "execution_count": 83,
     "metadata": {},
     "output_type": "execute_result"
    }
   ],
   "source": [
    "spelldc.head()"
   ],
   "metadata": {
    "collapsed": false
   }
  },
  {
   "cell_type": "code",
   "execution_count": 84,
   "outputs": [
    {
     "data": {
      "text/plain": "17.0    45\n26.0    40\n29.0    39\n23.0    39\n28.0    38\n37.0    36\n33.0    33\n25.0    32\n21.0    32\n42.0    31\n36.0    30\n18.0    28\n32.0    26\n27.0    26\n20.0    26\n24.0    25\n30.0    24\n38.0    24\n34.0    24\n40.0    18\n35.0    18\n16.0    18\n46.0    17\n22.0    15\n19.0    14\n41.0    14\n31.0    14\n43.0    10\n44.0    10\n39.0     9\n15.0     7\n47.0     4\n14.0     4\n13.0     3\n48.0     3\n49.0     2\n45.0     2\n12.0     1\n0.0      1\nName: dc, dtype: int64"
     },
     "execution_count": 84,
     "metadata": {},
     "output_type": "execute_result"
    }
   ],
   "source": [
    "spelldc.dc.value_counts()"
   ],
   "metadata": {
    "collapsed": false
   }
  },
  {
   "cell_type": "code",
   "execution_count": 85,
   "outputs": [
    {
     "data": {
      "text/plain": "0.0    660\nName: mod, dtype: int64"
     },
     "execution_count": 85,
     "metadata": {},
     "output_type": "execute_result"
    }
   ],
   "source": [
    "spelldc[\"mod\"].value_counts()"
   ],
   "metadata": {
    "collapsed": false
   }
  },
  {
   "cell_type": "code",
   "execution_count": 86,
   "outputs": [
    {
     "data": {
      "text/plain": "18.0    42\n9.0     38\n24.0    37\n20.0    35\n15.0    34\n19.0    32\n13.0    32\n21.0    31\n8.0     31\n32.0    30\n17.0    30\n30.0    30\n12.0    27\n25.0    26\n29.0    26\n28.0    25\n26.0    25\n16.0    23\n27.0    21\n11.0    20\n10.0    18\n34.0    18\n22.0    18\n38.0    17\n14.0    17\n23.0    16\n7.0     15\n36.0    14\n33.0    12\n35.0    10\n31.0    10\n6.0      5\n5.0      4\n37.0     4\n40.0     3\n39.0     2\n41.0     1\n4.0      1\n43.0     1\n0.0      1\nName: value, dtype: int64"
     },
     "execution_count": 86,
     "metadata": {},
     "output_type": "execute_result"
    }
   ],
   "source": [
    "spelldc.value.value_counts()"
   ],
   "metadata": {
    "collapsed": false
   }
  },
  {
   "cell_type": "code",
   "execution_count": 87,
   "outputs": [
    {
     "data": {
      "text/plain": "spellcastingEntry    782\nName: type, dtype: int64"
     },
     "execution_count": 87,
     "metadata": {},
     "output_type": "execute_result"
    }
   ],
   "source": [
    "items.loc[spelldc.index].type.value_counts()"
   ],
   "metadata": {
    "collapsed": false
   }
  },
  {
   "cell_type": "markdown",
   "source": [
    "Properity of spellcasting items.\n",
    "\n",
    "*\"DC Stands for Difficulty Class, and it represents the difficulty in either resisting, avoiding, or succumbing to the effects of a spell. When a spell lists in its descriptions that it requires a \"Reflex Save for half\" or a \"Fort Negates\" it means that a Save against the Spells DC must be rolled to avoid the effects of the spell.*\n",
    "\n",
    "*To calculate your Spell DC use the following Formula:*\n",
    "\n",
    "*Spell DC = 10 + Spell Level + Primary Casting modifier ( INT for Psions and Wizards, CHA for Sorcerer's and Bards, WIS for Druids and Clerics )\"*\n",
    "\n",
    "\n",
    "**Can be useful**"
   ],
   "metadata": {
    "collapsed": false
   }
  },
  {
   "cell_type": "code",
   "execution_count": 88,
   "outputs": [],
   "source": [
    "system.drop([\"spelldc\"], axis=\"columns\", inplace=True)"
   ],
   "metadata": {
    "collapsed": false
   }
  },
  {
   "cell_type": "markdown",
   "source": [
    "### tradition"
   ],
   "metadata": {
    "collapsed": false
   }
  },
  {
   "cell_type": "code",
   "execution_count": 89,
   "outputs": [],
   "source": [
    "tradition = unpack_column(system[system.tradition.notnull()], column_name=\"tradition\")"
   ],
   "metadata": {
    "collapsed": false
   }
  },
  {
   "cell_type": "code",
   "execution_count": 90,
   "outputs": [
    {
     "name": "stdout",
     "output_type": "stream",
     "text": [
      "<class 'pandas.core.frame.DataFrame'>\n",
      "Int64Index: 782 entries, 0 to 21711\n",
      "Data columns (total 1 columns):\n",
      " #   Column  Non-Null Count  Dtype \n",
      "---  ------  --------------  ----- \n",
      " 0   value   782 non-null    object\n",
      "dtypes: object(1)\n",
      "memory usage: 12.2+ KB\n"
     ]
    }
   ],
   "source": [
    "tradition.info()"
   ],
   "metadata": {
    "collapsed": false
   }
  },
  {
   "cell_type": "code",
   "execution_count": 91,
   "outputs": [
    {
     "data": {
      "text/plain": "     value\n0   arcane\n46  arcane\n78  divine\n92  arcane\n93  occult",
      "text/html": "<div>\n<style scoped>\n    .dataframe tbody tr th:only-of-type {\n        vertical-align: middle;\n    }\n\n    .dataframe tbody tr th {\n        vertical-align: top;\n    }\n\n    .dataframe thead th {\n        text-align: right;\n    }\n</style>\n<table border=\"1\" class=\"dataframe\">\n  <thead>\n    <tr style=\"text-align: right;\">\n      <th></th>\n      <th>value</th>\n    </tr>\n  </thead>\n  <tbody>\n    <tr>\n      <th>0</th>\n      <td>arcane</td>\n    </tr>\n    <tr>\n      <th>46</th>\n      <td>arcane</td>\n    </tr>\n    <tr>\n      <th>78</th>\n      <td>divine</td>\n    </tr>\n    <tr>\n      <th>92</th>\n      <td>arcane</td>\n    </tr>\n    <tr>\n      <th>93</th>\n      <td>occult</td>\n    </tr>\n  </tbody>\n</table>\n</div>"
     },
     "execution_count": 91,
     "metadata": {},
     "output_type": "execute_result"
    }
   ],
   "source": [
    "tradition.head()"
   ],
   "metadata": {
    "collapsed": false
   }
  },
  {
   "cell_type": "code",
   "execution_count": 92,
   "outputs": [
    {
     "data": {
      "text/plain": "value \ndivine    206\nprimal    174\narcane    148\noccult    146\n          108\ndtype: int64"
     },
     "execution_count": 92,
     "metadata": {},
     "output_type": "execute_result"
    }
   ],
   "source": [
    "tradition.value_counts()"
   ],
   "metadata": {
    "collapsed": false
   }
  },
  {
   "cell_type": "code",
   "execution_count": 93,
   "outputs": [
    {
     "data": {
      "text/plain": "spellcastingEntry    782\nName: type, dtype: int64"
     },
     "execution_count": 93,
     "metadata": {},
     "output_type": "execute_result"
    }
   ],
   "source": [
    "items.loc[tradition.index].type.value_counts()"
   ],
   "metadata": {
    "collapsed": false
   }
  },
  {
   "cell_type": "markdown",
   "source": [
    "*\"Spellcasters cast spells from one of four different spell lists, each representing a different magical tradition: arcane, divine, occult, and primal.*\n",
    "\n",
    "*Your class determines which tradition of magic your spells use. In some cases, such as when a cleric gains spells from their deity or when a sorcerer gets spells from their bloodline, you might be able to cast spells from a different spell list. In these cases, the spell uses your magic tradition, not the list the spell normally comes from. When you cast a spell, add your tradition’s trait to the spell.*\n",
    "\n",
    "*Some types of magic, such as that of most magic items, don’t belong to any single tradition. These have the magical trait instead of a tradition trait.\"*"
   ],
   "metadata": {
    "collapsed": false
   }
  },
  {
   "cell_type": "code",
   "execution_count": 94,
   "outputs": [],
   "source": [
    "system.drop([\"tradition\"], axis=\"columns\", inplace=True)"
   ],
   "metadata": {
    "collapsed": false
   }
  },
  {
   "cell_type": "markdown",
   "source": [
    "### schema"
   ],
   "metadata": {
    "collapsed": false
   }
  },
  {
   "cell_type": "code",
   "execution_count": 95,
   "outputs": [],
   "source": [
    "schema = unpack_column(system[system.schema.notnull()], column_name=\"schema\")"
   ],
   "metadata": {
    "collapsed": false
   }
  },
  {
   "cell_type": "code",
   "execution_count": 96,
   "outputs": [
    {
     "name": "stdout",
     "output_type": "stream",
     "text": [
      "<class 'pandas.core.frame.DataFrame'>\n",
      "Int64Index: 21731 entries, 0 to 21730\n",
      "Data columns (total 2 columns):\n",
      " #   Column         Non-Null Count  Dtype  \n",
      "---  ------         --------------  -----  \n",
      " 0   version        21731 non-null  float64\n",
      " 1   lastMigration  0 non-null      float64\n",
      "dtypes: float64(2)\n",
      "memory usage: 509.3 KB\n"
     ]
    }
   ],
   "source": [
    "schema.info()"
   ],
   "metadata": {
    "collapsed": false
   }
  },
  {
   "cell_type": "code",
   "execution_count": 97,
   "outputs": [
    {
     "data": {
      "text/plain": "   version  lastMigration\n0    0.827            NaN\n1    0.827            NaN\n2    0.827            NaN\n3    0.827            NaN\n4    0.827            NaN",
      "text/html": "<div>\n<style scoped>\n    .dataframe tbody tr th:only-of-type {\n        vertical-align: middle;\n    }\n\n    .dataframe tbody tr th {\n        vertical-align: top;\n    }\n\n    .dataframe thead th {\n        text-align: right;\n    }\n</style>\n<table border=\"1\" class=\"dataframe\">\n  <thead>\n    <tr style=\"text-align: right;\">\n      <th></th>\n      <th>version</th>\n      <th>lastMigration</th>\n    </tr>\n  </thead>\n  <tbody>\n    <tr>\n      <th>0</th>\n      <td>0.827</td>\n      <td>NaN</td>\n    </tr>\n    <tr>\n      <th>1</th>\n      <td>0.827</td>\n      <td>NaN</td>\n    </tr>\n    <tr>\n      <th>2</th>\n      <td>0.827</td>\n      <td>NaN</td>\n    </tr>\n    <tr>\n      <th>3</th>\n      <td>0.827</td>\n      <td>NaN</td>\n    </tr>\n    <tr>\n      <th>4</th>\n      <td>0.827</td>\n      <td>NaN</td>\n    </tr>\n  </tbody>\n</table>\n</div>"
     },
     "execution_count": 97,
     "metadata": {},
     "output_type": "execute_result"
    }
   ],
   "source": [
    "schema.head()"
   ],
   "metadata": {
    "collapsed": false
   }
  },
  {
   "cell_type": "code",
   "execution_count": 98,
   "outputs": [
    {
     "data": {
      "text/plain": "0.827    21731\nName: version, dtype: int64"
     },
     "execution_count": 98,
     "metadata": {},
     "output_type": "execute_result"
    }
   ],
   "source": [
    "schema.version.value_counts()"
   ],
   "metadata": {
    "collapsed": false
   }
  },
  {
   "cell_type": "code",
   "execution_count": 99,
   "outputs": [
    {
     "data": {
      "text/plain": "Series([], Name: lastMigration, dtype: int64)"
     },
     "execution_count": 99,
     "metadata": {},
     "output_type": "execute_result"
    }
   ],
   "source": [
    "schema.lastMigration.value_counts()  # only NaN"
   ],
   "metadata": {
    "collapsed": false
   }
  },
  {
   "cell_type": "code",
   "execution_count": 100,
   "outputs": [
    {
     "data": {
      "text/plain": "action               7691\nspell                5150\nlore                 5007\nmelee                2419\nspellcastingEntry     782\nweapon                375\narmor                 121\nconsumable            103\nequipment              62\ncondition              11\neffect                  5\ntreasure                4\nbackpack                1\nName: type, dtype: int64"
     },
     "execution_count": 100,
     "metadata": {},
     "output_type": "execute_result"
    }
   ],
   "source": [
    "items.loc[schema.index].type.value_counts()"
   ],
   "metadata": {
    "collapsed": false
   }
  },
  {
   "cell_type": "markdown",
   "source": [
    "* version - same for each item with this val\n",
    "* lastMigration - only NaN\n",
    "\n",
    "*Not important*"
   ],
   "metadata": {
    "collapsed": false
   }
  },
  {
   "cell_type": "code",
   "execution_count": 101,
   "outputs": [],
   "source": [
    "system.drop([\"schema\"], axis=\"columns\", inplace=True)"
   ],
   "metadata": {
    "collapsed": false
   }
  },
  {
   "cell_type": "markdown",
   "source": [
    "### ability"
   ],
   "metadata": {
    "collapsed": false
   }
  },
  {
   "cell_type": "code",
   "execution_count": 102,
   "outputs": [],
   "source": [
    "ability = unpack_column(system[system.ability.notnull()], \"ability\")"
   ],
   "metadata": {
    "collapsed": false
   }
  },
  {
   "cell_type": "code",
   "execution_count": 103,
   "outputs": [
    {
     "name": "stdout",
     "output_type": "stream",
     "text": [
      "<class 'pandas.core.frame.DataFrame'>\n",
      "Int64Index: 5150 entries, 1 to 21719\n",
      "Data columns (total 1 columns):\n",
      " #   Column  Non-Null Count  Dtype \n",
      "---  ------  --------------  ----- \n",
      " 0   value   5150 non-null   object\n",
      "dtypes: object(1)\n",
      "memory usage: 80.5+ KB\n"
     ]
    }
   ],
   "source": [
    "ability.info()"
   ],
   "metadata": {
    "collapsed": false
   }
  },
  {
   "cell_type": "code",
   "execution_count": 104,
   "outputs": [
    {
     "data": {
      "text/plain": "   value\n1       \n2       \n47      \n48      \n49      ",
      "text/html": "<div>\n<style scoped>\n    .dataframe tbody tr th:only-of-type {\n        vertical-align: middle;\n    }\n\n    .dataframe tbody tr th {\n        vertical-align: top;\n    }\n\n    .dataframe thead th {\n        text-align: right;\n    }\n</style>\n<table border=\"1\" class=\"dataframe\">\n  <thead>\n    <tr style=\"text-align: right;\">\n      <th></th>\n      <th>value</th>\n    </tr>\n  </thead>\n  <tbody>\n    <tr>\n      <th>1</th>\n      <td></td>\n    </tr>\n    <tr>\n      <th>2</th>\n      <td></td>\n    </tr>\n    <tr>\n      <th>47</th>\n      <td></td>\n    </tr>\n    <tr>\n      <th>48</th>\n      <td></td>\n    </tr>\n    <tr>\n      <th>49</th>\n      <td></td>\n    </tr>\n  </tbody>\n</table>\n</div>"
     },
     "execution_count": 104,
     "metadata": {},
     "output_type": "execute_result"
    }
   ],
   "source": [
    "ability.head()"
   ],
   "metadata": {
    "collapsed": false
   }
  },
  {
   "cell_type": "code",
   "execution_count": 105,
   "outputs": [],
   "source": [
    "ability = ability.replace(\"\", np.nan)"
   ],
   "metadata": {
    "collapsed": false
   }
  },
  {
   "cell_type": "code",
   "execution_count": 106,
   "outputs": [
    {
     "name": "stdout",
     "output_type": "stream",
     "text": [
      "<class 'pandas.core.frame.DataFrame'>\n",
      "Int64Index: 5150 entries, 1 to 21719\n",
      "Data columns (total 1 columns):\n",
      " #   Column  Non-Null Count  Dtype  \n",
      "---  ------  --------------  -----  \n",
      " 0   value   0 non-null      float64\n",
      "dtypes: float64(1)\n",
      "memory usage: 80.5 KB\n"
     ]
    }
   ],
   "source": [
    "ability.info()"
   ],
   "metadata": {
    "collapsed": false
   }
  },
  {
   "cell_type": "code",
   "execution_count": 107,
   "outputs": [
    {
     "data": {
      "text/plain": "spell    5150\nName: type, dtype: int64"
     },
     "execution_count": 107,
     "metadata": {},
     "output_type": "execute_result"
    }
   ],
   "source": [
    "items.loc[ability.index].type.value_counts()"
   ],
   "metadata": {
    "collapsed": false
   }
  },
  {
   "cell_type": "markdown",
   "source": [
    "* only NaN values\n",
    "* for spells only"
   ],
   "metadata": {
    "collapsed": false
   }
  },
  {
   "cell_type": "code",
   "execution_count": 108,
   "outputs": [],
   "source": [
    "system.drop([\"ability\"], axis=\"columns\", inplace=True)"
   ],
   "metadata": {
    "collapsed": false
   }
  },
  {
   "cell_type": "markdown",
   "source": [
    "### area"
   ],
   "metadata": {
    "collapsed": false
   }
  },
  {
   "cell_type": "code",
   "execution_count": 109,
   "outputs": [],
   "source": [
    "area = unpack_column(system[system.area.notnull()], column_name=\"area\")"
   ],
   "metadata": {
    "collapsed": false
   }
  },
  {
   "cell_type": "code",
   "execution_count": 110,
   "outputs": [
    {
     "name": "stdout",
     "output_type": "stream",
     "text": [
      "<class 'pandas.core.frame.DataFrame'>\n",
      "Int64Index: 1086 entries, 1 to 21719\n",
      "Data columns (total 3 columns):\n",
      " #   Column   Non-Null Count  Dtype \n",
      "---  ------   --------------  ----- \n",
      " 0   type     1086 non-null   object\n",
      " 1   value    1086 non-null   int64 \n",
      " 2   details  120 non-null    object\n",
      "dtypes: int64(1), object(2)\n",
      "memory usage: 33.9+ KB\n"
     ]
    }
   ],
   "source": [
    "area.info()"
   ],
   "metadata": {
    "collapsed": false
   }
  },
  {
   "cell_type": "code",
   "execution_count": 111,
   "outputs": [
    {
     "data": {
      "text/plain": "         type  value                                            details\n1       burst     20                                                NaN\n2        line     60                                                NaN\n49      burst     20  all squares in a 20-foot-radius burst that con...\n80  emanation     30                                                NaN\n81  emanation     30                                             varies",
      "text/html": "<div>\n<style scoped>\n    .dataframe tbody tr th:only-of-type {\n        vertical-align: middle;\n    }\n\n    .dataframe tbody tr th {\n        vertical-align: top;\n    }\n\n    .dataframe thead th {\n        text-align: right;\n    }\n</style>\n<table border=\"1\" class=\"dataframe\">\n  <thead>\n    <tr style=\"text-align: right;\">\n      <th></th>\n      <th>type</th>\n      <th>value</th>\n      <th>details</th>\n    </tr>\n  </thead>\n  <tbody>\n    <tr>\n      <th>1</th>\n      <td>burst</td>\n      <td>20</td>\n      <td>NaN</td>\n    </tr>\n    <tr>\n      <th>2</th>\n      <td>line</td>\n      <td>60</td>\n      <td>NaN</td>\n    </tr>\n    <tr>\n      <th>49</th>\n      <td>burst</td>\n      <td>20</td>\n      <td>all squares in a 20-foot-radius burst that con...</td>\n    </tr>\n    <tr>\n      <th>80</th>\n      <td>emanation</td>\n      <td>30</td>\n      <td>NaN</td>\n    </tr>\n    <tr>\n      <th>81</th>\n      <td>emanation</td>\n      <td>30</td>\n      <td>varies</td>\n    </tr>\n  </tbody>\n</table>\n</div>"
     },
     "execution_count": 111,
     "metadata": {},
     "output_type": "execute_result"
    }
   ],
   "source": [
    "area.head()"
   ],
   "metadata": {
    "collapsed": false
   }
  },
  {
   "cell_type": "code",
   "execution_count": 112,
   "outputs": [
    {
     "data": {
      "text/plain": "burst        551\nemanation    381\ncone          86\nline          68\nName: type, dtype: int64"
     },
     "execution_count": 112,
     "metadata": {},
     "output_type": "execute_result"
    }
   ],
   "source": [
    "area.type.value_counts()"
   ],
   "metadata": {
    "collapsed": false
   }
  },
  {
   "cell_type": "code",
   "execution_count": 113,
   "outputs": [
    {
     "data": {
      "text/plain": "30     411\n20     281\n60     108\n10     108\n40      40\n5       38\n50      35\n15      31\n120     13\n100     10\n360      9\n500      2\nName: value, dtype: int64"
     },
     "execution_count": 113,
     "metadata": {},
     "output_type": "execute_result"
    }
   ],
   "source": [
    "area.value.value_counts()"
   ],
   "metadata": {
    "collapsed": false
   }
  },
  {
   "cell_type": "code",
   "execution_count": 114,
   "outputs": [
    {
     "data": {
      "text/plain": "varies                                                       76\nall squares in a 20-foot-radius burst that contain plants    24\n20-foot burst adjacent to a flat surface                      8\n10-foot emanation centered on the touched creature            6\n10-foot radius, 40-foot-tall cylinder                         4\n30-foot burst centered on you                                 2\nName: details, dtype: int64"
     },
     "execution_count": 114,
     "metadata": {},
     "output_type": "execute_result"
    }
   ],
   "source": [
    "area.details.value_counts()"
   ],
   "metadata": {
    "collapsed": false
   }
  },
  {
   "cell_type": "code",
   "execution_count": 115,
   "outputs": [
    {
     "data": {
      "text/plain": "spell    1086\nName: type, dtype: int64"
     },
     "execution_count": 115,
     "metadata": {},
     "output_type": "execute_result"
    }
   ],
   "source": [
    "items.loc[area.index].type.value_counts()"
   ],
   "metadata": {
    "collapsed": false
   }
  },
  {
   "cell_type": "markdown",
   "source": [
    "Spell attributes\n",
    "\n",
    "**Can be useful**\n",
    "\n",
    "*\"Some effects occupy an area of a specified shape and size. An area effect always has a point of origin and extends out from that point. There are four types of areas: emanations, bursts, cones, and lines. When you’re playing in encounter mode and using a grid, areas are measured in the same way as movement (page 463), but areas’ distances are never reduced or affected by difficult terrain (page 475) or lesser cover (page 476). You can use the diagrams below as common reference templates for areas, rather than measuring squares each time. Many area effects describe only the effects on creatures in the area. The GM determines any effects to the environment and unattended objects.\"*"
   ],
   "metadata": {
    "collapsed": false
   }
  },
  {
   "cell_type": "code",
   "execution_count": 116,
   "outputs": [],
   "source": [
    "system.drop([\"area\"], axis=\"columns\", inplace=True)"
   ],
   "metadata": {
    "collapsed": false
   }
  },
  {
   "cell_type": "markdown",
   "source": [
    "### category"
   ],
   "metadata": {
    "collapsed": false
   }
  },
  {
   "cell_type": "code",
   "execution_count": 117,
   "outputs": [],
   "source": [
    "category = unpack_column(system[system.category.notnull()], \"category\")"
   ],
   "metadata": {
    "collapsed": false
   }
  },
  {
   "cell_type": "code",
   "execution_count": 118,
   "outputs": [
    {
     "name": "stdout",
     "output_type": "stream",
     "text": [
      "<class 'pandas.core.frame.DataFrame'>\n",
      "Int64Index: 5646 entries, 1 to 21720\n",
      "Data columns (total 2 columns):\n",
      " #   Column  Non-Null Count  Dtype \n",
      "---  ------  --------------  ----- \n",
      " 0   value   5150 non-null   object\n",
      " 1   0       496 non-null    object\n",
      "dtypes: object(2)\n",
      "memory usage: 132.3+ KB\n"
     ]
    }
   ],
   "source": [
    "category.info()  # 0 column - str instead of dict in system.category column"
   ],
   "metadata": {
    "collapsed": false
   }
  },
  {
   "cell_type": "code",
   "execution_count": 119,
   "outputs": [
    {
     "data": {
      "text/plain": "    value    0\n1   spell  NaN\n2   spell  NaN\n47  spell  NaN\n48  spell  NaN\n49  spell  NaN",
      "text/html": "<div>\n<style scoped>\n    .dataframe tbody tr th:only-of-type {\n        vertical-align: middle;\n    }\n\n    .dataframe tbody tr th {\n        vertical-align: top;\n    }\n\n    .dataframe thead th {\n        text-align: right;\n    }\n</style>\n<table border=\"1\" class=\"dataframe\">\n  <thead>\n    <tr style=\"text-align: right;\">\n      <th></th>\n      <th>value</th>\n      <th>0</th>\n    </tr>\n  </thead>\n  <tbody>\n    <tr>\n      <th>1</th>\n      <td>spell</td>\n      <td>NaN</td>\n    </tr>\n    <tr>\n      <th>2</th>\n      <td>spell</td>\n      <td>NaN</td>\n    </tr>\n    <tr>\n      <th>47</th>\n      <td>spell</td>\n      <td>NaN</td>\n    </tr>\n    <tr>\n      <th>48</th>\n      <td>spell</td>\n      <td>NaN</td>\n    </tr>\n    <tr>\n      <th>49</th>\n      <td>spell</td>\n      <td>NaN</td>\n    </tr>\n  </tbody>\n</table>\n</div>"
     },
     "execution_count": 119,
     "metadata": {},
     "output_type": "execute_result"
    }
   ],
   "source": [
    "category.head()"
   ],
   "metadata": {
    "collapsed": false
   }
  },
  {
   "cell_type": "code",
   "execution_count": 120,
   "outputs": [
    {
     "data": {
      "text/plain": "spell     4959\nritual     150\nfocus       41\nName: value, dtype: int64"
     },
     "execution_count": 120,
     "metadata": {},
     "output_type": "execute_result"
    }
   ],
   "source": [
    "category.value.value_counts()"
   ],
   "metadata": {
    "collapsed": false
   }
  },
  {
   "cell_type": "code",
   "execution_count": 121,
   "outputs": [
    {
     "data": {
      "text/plain": "martial      234\nsimple       132\nlight         44\nmedium        42\nshield        17\nheavy         16\nadvanced       8\nunarmored      2\nunarmed        1\nName: 0, dtype: int64"
     },
     "execution_count": 121,
     "metadata": {},
     "output_type": "execute_result"
    }
   ],
   "source": [
    "category[0].value_counts()"
   ],
   "metadata": {
    "collapsed": false
   }
  },
  {
   "cell_type": "code",
   "execution_count": 122,
   "outputs": [
    {
     "data": {
      "text/plain": "spell    5150\nName: type, dtype: int64"
     },
     "execution_count": 122,
     "metadata": {},
     "output_type": "execute_result"
    }
   ],
   "source": [
    "items.loc[category[category.value.notnull()].index].type.value_counts()"
   ],
   "metadata": {
    "collapsed": false
   }
  },
  {
   "cell_type": "code",
   "execution_count": 123,
   "outputs": [
    {
     "data": {
      "text/plain": "weapon    375\narmor     121\nName: type, dtype: int64"
     },
     "execution_count": 123,
     "metadata": {},
     "output_type": "execute_result"
    }
   ],
   "source": [
    "items.loc[category[category[0].notnull()].index].type.value_counts()"
   ],
   "metadata": {
    "collapsed": false
   }
  },
  {
   "cell_type": "markdown",
   "source": [
    "Attribute for:\n",
    "* spells - dict one\n",
    "* weapon / armor\n",
    "    *\"The armor’s category—unarmored, light armor, medium armor, or heavy armor—indicates which proficiency bonus you use while wearing the armor.\"*\n",
    "    *\"Weapons fall into broad categories depending on how much damage they deal and what traits they have. Martial weapons generally deal more damage than simple weapons, and advanced weapons generally have more advantageous traits than martial weapons with the same damage. Generally, you’ll want to select weapons that deal more damage, but if you’re a highly skilled combatant, you might want to pick a weapon with interesting traits, even if it has a lower weapon damage die. You can also purchase multiple weapons within your budget, allowing you to switch between them for different situations.\"*"
   ],
   "metadata": {
    "collapsed": false
   }
  },
  {
   "cell_type": "code",
   "execution_count": 124,
   "outputs": [],
   "source": [
    "system.drop([\"category\"], axis=\"columns\", inplace=True)"
   ],
   "metadata": {
    "collapsed": false
   }
  },
  {
   "cell_type": "markdown",
   "source": [
    "### components"
   ],
   "metadata": {
    "collapsed": false
   }
  },
  {
   "cell_type": "code",
   "execution_count": 125,
   "outputs": [],
   "source": [
    "components = unpack_column(\n",
    "    system[system.components.notnull()], column_name=\"components\"\n",
    ")"
   ],
   "metadata": {
    "collapsed": false
   }
  },
  {
   "cell_type": "code",
   "execution_count": 126,
   "outputs": [
    {
     "name": "stdout",
     "output_type": "stream",
     "text": [
      "<class 'pandas.core.frame.DataFrame'>\n",
      "Int64Index: 5150 entries, 1 to 21719\n",
      "Data columns (total 4 columns):\n",
      " #   Column    Non-Null Count  Dtype\n",
      "---  ------    --------------  -----\n",
      " 0   focus     5150 non-null   bool \n",
      " 1   material  5150 non-null   bool \n",
      " 2   somatic   5150 non-null   bool \n",
      " 3   verbal    5150 non-null   bool \n",
      "dtypes: bool(4)\n",
      "memory usage: 60.4 KB\n"
     ]
    }
   ],
   "source": [
    "components.info()"
   ],
   "metadata": {
    "collapsed": false
   }
  },
  {
   "cell_type": "code",
   "execution_count": 127,
   "outputs": [
    {
     "data": {
      "text/plain": "    focus  material  somatic  verbal\n1   False      True     True    True\n2   False     False     True    True\n47  False     False     True    True\n48  False     False     True    True\n49  False     False     True    True",
      "text/html": "<div>\n<style scoped>\n    .dataframe tbody tr th:only-of-type {\n        vertical-align: middle;\n    }\n\n    .dataframe tbody tr th {\n        vertical-align: top;\n    }\n\n    .dataframe thead th {\n        text-align: right;\n    }\n</style>\n<table border=\"1\" class=\"dataframe\">\n  <thead>\n    <tr style=\"text-align: right;\">\n      <th></th>\n      <th>focus</th>\n      <th>material</th>\n      <th>somatic</th>\n      <th>verbal</th>\n    </tr>\n  </thead>\n  <tbody>\n    <tr>\n      <th>1</th>\n      <td>False</td>\n      <td>True</td>\n      <td>True</td>\n      <td>True</td>\n    </tr>\n    <tr>\n      <th>2</th>\n      <td>False</td>\n      <td>False</td>\n      <td>True</td>\n      <td>True</td>\n    </tr>\n    <tr>\n      <th>47</th>\n      <td>False</td>\n      <td>False</td>\n      <td>True</td>\n      <td>True</td>\n    </tr>\n    <tr>\n      <th>48</th>\n      <td>False</td>\n      <td>False</td>\n      <td>True</td>\n      <td>True</td>\n    </tr>\n    <tr>\n      <th>49</th>\n      <td>False</td>\n      <td>False</td>\n      <td>True</td>\n      <td>True</td>\n    </tr>\n  </tbody>\n</table>\n</div>"
     },
     "execution_count": 127,
     "metadata": {},
     "output_type": "execute_result"
    }
   ],
   "source": [
    "components.head()"
   ],
   "metadata": {
    "collapsed": false
   }
  },
  {
   "cell_type": "code",
   "execution_count": 128,
   "outputs": [
    {
     "data": {
      "text/plain": "spell    5150\nName: type, dtype: int64"
     },
     "execution_count": 128,
     "metadata": {},
     "output_type": "execute_result"
    }
   ],
   "source": [
    "items.loc[components.index].type.value_counts()"
   ],
   "metadata": {
    "collapsed": false
   }
  },
  {
   "cell_type": "markdown",
   "source": [
    "Spell atribute\n",
    "\n",
    "*\"A spell description lists the components required to Cast the Spell.\"*"
   ],
   "metadata": {
    "collapsed": false
   }
  },
  {
   "cell_type": "code",
   "execution_count": 129,
   "outputs": [],
   "source": [
    "system.drop([\"components\"], axis=\"columns\", inplace=True)"
   ],
   "metadata": {
    "collapsed": false
   }
  },
  {
   "cell_type": "markdown",
   "source": [
    "### cost"
   ],
   "metadata": {
    "collapsed": false
   }
  },
  {
   "cell_type": "code",
   "execution_count": 130,
   "outputs": [],
   "source": [
    "cost = unpack_column(system[system.cost.notnull()], column_name=\"cost\")"
   ],
   "metadata": {
    "collapsed": false
   }
  },
  {
   "cell_type": "code",
   "execution_count": 131,
   "outputs": [
    {
     "name": "stdout",
     "output_type": "stream",
     "text": [
      "<class 'pandas.core.frame.DataFrame'>\n",
      "Int64Index: 5150 entries, 1 to 21719\n",
      "Data columns (total 1 columns):\n",
      " #   Column  Non-Null Count  Dtype \n",
      "---  ------  --------------  ----- \n",
      " 0   value   5150 non-null   object\n",
      "dtypes: object(1)\n",
      "memory usage: 80.5+ KB\n"
     ]
    }
   ],
   "source": [
    "cost.info()"
   ],
   "metadata": {
    "collapsed": false
   }
  },
  {
   "cell_type": "code",
   "execution_count": 132,
   "outputs": [
    {
     "data": {
      "text/plain": "   value\n1       \n2       \n47      \n48      \n49      ",
      "text/html": "<div>\n<style scoped>\n    .dataframe tbody tr th:only-of-type {\n        vertical-align: middle;\n    }\n\n    .dataframe tbody tr th {\n        vertical-align: top;\n    }\n\n    .dataframe thead th {\n        text-align: right;\n    }\n</style>\n<table border=\"1\" class=\"dataframe\">\n  <thead>\n    <tr style=\"text-align: right;\">\n      <th></th>\n      <th>value</th>\n    </tr>\n  </thead>\n  <tbody>\n    <tr>\n      <th>1</th>\n      <td></td>\n    </tr>\n    <tr>\n      <th>2</th>\n      <td></td>\n    </tr>\n    <tr>\n      <th>47</th>\n      <td></td>\n    </tr>\n    <tr>\n      <th>48</th>\n      <td></td>\n    </tr>\n    <tr>\n      <th>49</th>\n      <td></td>\n    </tr>\n  </tbody>\n</table>\n</div>"
     },
     "execution_count": 132,
     "metadata": {},
     "output_type": "execute_result"
    }
   ],
   "source": [
    "cost.head()"
   ],
   "metadata": {
    "collapsed": false
   }
  },
  {
   "cell_type": "code",
   "execution_count": 133,
   "outputs": [],
   "source": [
    "cost.value = cost.value.replace(\"\", np.nan)"
   ],
   "metadata": {
    "collapsed": false
   }
  },
  {
   "cell_type": "code",
   "execution_count": 134,
   "outputs": [
    {
     "data": {
      "text/plain": "black onyx, see Table 7-1                                                                                                    11\n6 gp of ruby dust                                                                                                             8\nreagents to construct the magical prison worth a total value of 800 gp × the target's level                                   6\ndiamonds worth a total value of 75 gp × the target's level                                                                    6\nblack sapphire with a gp value of at least the target's level × 100                                                           6\nrare incense worth a total value of 60 gp                                                                                     6\nrare incense and offerings worth a total value of 20 gp × the target's level                                                  4\nrare incense worth a total value of 300 gp                                                                                    4\nrare oils worth a total value of 10 gp × the target's level                                                                   4\nrare incense and offerings worth a total value of 20 gp × the spell level                                                     4\nrare candles and incense worth a total value of 50 gp                                                                         4\nherbs, 1/5 the value on Table 7-1                                                                                             3\nrare incense and offerings worth a total value of 2 gp × the spell level × the target's level                                 3\nfaerie circle ingredients worth a total value of 1 gp × the spell level × the target's level                                  3\nvaluable oils and objects associated with the target worth a total value of 100 gp × the spell level × the target's level     2\n1 vial of holy water                                                                                                          2\nrare oils, see Table 7-1                                                                                                      1\nrare herbs worth a total value of the target's level (minimum 1) × 25 gp                                                      1\nrare incense worth a total value of 150 gp                                                                                    1\nwarding diagram ingredients worth a total value of 2 gp × the spell level × the target's level                                1\nName: value, dtype: int64"
     },
     "execution_count": 134,
     "metadata": {},
     "output_type": "execute_result"
    }
   ],
   "source": [
    "cost.value.value_counts()"
   ],
   "metadata": {
    "collapsed": false
   }
  },
  {
   "cell_type": "code",
   "execution_count": 135,
   "outputs": [
    {
     "data": {
      "text/plain": "spell    5150\nName: type, dtype: int64"
     },
     "execution_count": 135,
     "metadata": {},
     "output_type": "execute_result"
    }
   ],
   "source": [
    "items.loc[cost.index].type.value_counts()"
   ],
   "metadata": {
    "collapsed": false
   }
  },
  {
   "cell_type": "markdown",
   "source": [
    "Spell atribute\n",
    "\n",
    "**Not important (?)**"
   ],
   "metadata": {
    "collapsed": false
   }
  },
  {
   "cell_type": "code",
   "execution_count": 136,
   "outputs": [],
   "source": [
    "system.drop([\"cost\"], axis=\"columns\", inplace=True)"
   ],
   "metadata": {
    "collapsed": false
   }
  },
  {
   "cell_type": "markdown",
   "source": [
    "### damage"
   ],
   "metadata": {
    "collapsed": false
   }
  },
  {
   "cell_type": "code",
   "execution_count": 137,
   "outputs": [],
   "source": [
    "damage = unpack_column(system[system.damage.notnull()], column_name=\"damage\")\n",
    "damage = damage.replace(\"\", np.nan)"
   ],
   "metadata": {
    "collapsed": false
   }
  },
  {
   "cell_type": "code",
   "execution_count": 138,
   "outputs": [
    {
     "name": "stdout",
     "output_type": "stream",
     "text": [
      "<class 'pandas.core.frame.DataFrame'>\n",
      "Int64Index: 5525 entries, 1 to 21720\n",
      "Data columns (total 4 columns):\n",
      " #   Column      Non-Null Count  Dtype  \n",
      "---  ------      --------------  -----  \n",
      " 0   value       5150 non-null   object \n",
      " 1   damageType  376 non-null    object \n",
      " 2   dice        375 non-null    float64\n",
      " 3   die         372 non-null    object \n",
      "dtypes: float64(1), object(3)\n",
      "memory usage: 215.8+ KB\n"
     ]
    }
   ],
   "source": [
    "damage.info()"
   ],
   "metadata": {
    "collapsed": false
   }
  },
  {
   "cell_type": "code",
   "execution_count": 139,
   "outputs": [
    {
     "data": {
      "text/plain": "   value damageType  dice  die\n1     {}        NaN   NaN  NaN\n2     {}        NaN   NaN  NaN\n47    {}        NaN   NaN  NaN\n48    {}        NaN   NaN  NaN\n49    {}        NaN   NaN  NaN",
      "text/html": "<div>\n<style scoped>\n    .dataframe tbody tr th:only-of-type {\n        vertical-align: middle;\n    }\n\n    .dataframe tbody tr th {\n        vertical-align: top;\n    }\n\n    .dataframe thead th {\n        text-align: right;\n    }\n</style>\n<table border=\"1\" class=\"dataframe\">\n  <thead>\n    <tr style=\"text-align: right;\">\n      <th></th>\n      <th>value</th>\n      <th>damageType</th>\n      <th>dice</th>\n      <th>die</th>\n    </tr>\n  </thead>\n  <tbody>\n    <tr>\n      <th>1</th>\n      <td>{}</td>\n      <td>NaN</td>\n      <td>NaN</td>\n      <td>NaN</td>\n    </tr>\n    <tr>\n      <th>2</th>\n      <td>{}</td>\n      <td>NaN</td>\n      <td>NaN</td>\n      <td>NaN</td>\n    </tr>\n    <tr>\n      <th>47</th>\n      <td>{}</td>\n      <td>NaN</td>\n      <td>NaN</td>\n      <td>NaN</td>\n    </tr>\n    <tr>\n      <th>48</th>\n      <td>{}</td>\n      <td>NaN</td>\n      <td>NaN</td>\n      <td>NaN</td>\n    </tr>\n    <tr>\n      <th>49</th>\n      <td>{}</td>\n      <td>NaN</td>\n      <td>NaN</td>\n      <td>NaN</td>\n    </tr>\n  </tbody>\n</table>\n</div>"
     },
     "execution_count": 139,
     "metadata": {},
     "output_type": "execute_result"
    }
   ],
   "source": [
    "damage.head()"
   ],
   "metadata": {
    "collapsed": false
   }
  },
  {
   "cell_type": "code",
   "execution_count": 140,
   "outputs": [],
   "source": [
    "damage.loc[damage.value == {}] = np.nan"
   ],
   "metadata": {
    "collapsed": false
   }
  },
  {
   "cell_type": "code",
   "execution_count": 141,
   "outputs": [
    {
     "data": {
      "text/plain": "{'0': {'applyMod': False, 'type': {'categories': [], 'subtype': '', 'value': 'positive'}, 'value': '1d8'}}    56\n{'0': {'applyMod': True, 'type': {'categories': [], 'value': 'mental'}, 'value': '0'}}                        54\n{'0': {'applyMod': True, 'type': {'categories': [], 'value': 'fire'}, 'value': '1d4'}}                        26\n{'0': {'applyMod': True, 'type': {'categories': [], 'value': 'cold'}, 'value': '1d4'}}                        21\n{'0': {'applyMod': True, 'type': {'categories': [], 'value': 'negative'}, 'value': '1d4'}}                    20\n                                                                                                              ..\n{'0': {'type': {'categories': [], 'value': 'untyped'}, 'value': '9d8'}}                                        1\n{'0': {'type': {'categories': [], 'value': 'negative'}, 'value': '8d4'}}                                       1\n{'0': {'type': {'categories': [], 'value': 'negative'}, 'value': '8d6'}}                                       1\n{'0': {'applyMod': True, 'type': {'categories': [], 'subtype': '', 'value': 'acid'}, 'value': '2d6+2'}}        1\n{'0': {'applyMod': True, 'type': {'categories': [], 'subtype': '', 'value': 'negative'}, 'value': '1d4'}}      1\nName: value, Length: 181, dtype: int64"
     },
     "execution_count": 141,
     "metadata": {},
     "output_type": "execute_result"
    }
   ],
   "source": [
    "damage.value.value_counts()"
   ],
   "metadata": {
    "collapsed": false
   }
  },
  {
   "cell_type": "code",
   "execution_count": 142,
   "outputs": [
    {
     "data": {
      "text/plain": "piercing       193\nslashing       109\nbludgeoning     67\nfire             3\nacid             2\ncold             1\nName: damageType, dtype: int64"
     },
     "execution_count": 142,
     "metadata": {},
     "output_type": "execute_result"
    }
   ],
   "source": [
    "damage.damageType.value_counts()"
   ],
   "metadata": {
    "collapsed": false
   }
  },
  {
   "cell_type": "code",
   "execution_count": 143,
   "outputs": [
    {
     "data": {
      "text/plain": "1.0    372\n2.0      2\n0.0      1\nName: dice, dtype: int64"
     },
     "execution_count": 143,
     "metadata": {},
     "output_type": "execute_result"
    }
   ],
   "source": [
    "damage.dice.value_counts()"
   ],
   "metadata": {
    "collapsed": false
   }
  },
  {
   "cell_type": "code",
   "execution_count": 144,
   "outputs": [
    {
     "data": {
      "text/plain": "d6     159\nd8     100\nd4      53\nd10     34\nd12     25\nName: die, dtype: int64"
     },
     "execution_count": 144,
     "metadata": {},
     "output_type": "execute_result"
    }
   ],
   "source": [
    "damage.die.value_counts()"
   ],
   "metadata": {
    "collapsed": false
   }
  },
  {
   "cell_type": "markdown",
   "source": [
    "**CAN BE IMPORTANT**"
   ],
   "metadata": {
    "collapsed": false
   }
  },
  {
   "cell_type": "markdown",
   "source": [
    "#### damage value"
   ],
   "metadata": {
    "collapsed": false
   }
  },
  {
   "cell_type": "code",
   "execution_count": 145,
   "outputs": [],
   "source": [
    "damage_val = unpack_column(damage[damage.value.notnull()], column_name=\"value\")"
   ],
   "metadata": {
    "collapsed": false
   }
  },
  {
   "cell_type": "code",
   "execution_count": 146,
   "outputs": [
    {
     "name": "stdout",
     "output_type": "stream",
     "text": [
      "<class 'pandas.core.frame.DataFrame'>\n",
      "Int64Index: 860 entries, 81 to 21719\n",
      "Data columns (total 7 columns):\n",
      " #   Column            Non-Null Count  Dtype \n",
      "---  ------            --------------  ----- \n",
      " 0   0                 856 non-null    object\n",
      " 1   gcovwqxwitqchoin  11 non-null     object\n",
      " 2   zvXU9ZdRVHSORUUn  1 non-null      object\n",
      " 3   9k8ayqgvgultdghx  4 non-null      object\n",
      " 4   1                 13 non-null     object\n",
      " 5   v1pnjhfu6e9akqe0  4 non-null      object\n",
      " 6   wnlxzlrxtrkk2bh3  1 non-null      object\n",
      "dtypes: object(7)\n",
      "memory usage: 53.8+ KB\n"
     ]
    }
   ],
   "source": [
    "damage_val.info()"
   ],
   "metadata": {
    "collapsed": false
   }
  },
  {
   "cell_type": "code",
   "execution_count": 147,
   "outputs": [
    {
     "data": {
      "text/plain": "{'applyMod': False, 'type': {'categories': [], 'subtype': '', 'value': 'positive'}, 'value': '1d8'}    56\n{'applyMod': True, 'type': {'categories': [], 'value': 'mental'}, 'value': '0'}                        54\n{'applyMod': True, 'type': {'categories': [], 'value': 'fire'}, 'value': '1d4'}                        26\n{'applyMod': True, 'type': {'categories': [], 'value': 'cold'}, 'value': '1d4'}                        21\n{'applyMod': True, 'type': {'categories': [], 'value': 'negative'}, 'value': '1d4'}                    20\n                                                                                                       ..\n{'type': {'categories': [], 'value': 'untyped'}, 'value': '8d10'}                                       1\n{'type': {'categories': [], 'value': 'positive'}, 'value': '8d8'}                                       1\n{'type': {'categories': [], 'value': 'cold'}, 'value': '20d6'}                                          1\n{'type': {'categories': [], 'value': 'untyped'}, 'value': '9d8'}                                        1\n{'applyMod': True, 'type': {'categories': [], 'subtype': '', 'value': 'negative'}, 'value': '1d4'}      1\nName: 0, Length: 180, dtype: int64"
     },
     "execution_count": 147,
     "metadata": {},
     "output_type": "execute_result"
    }
   ],
   "source": [
    "damage_val[\"0\"].value_counts()"
   ],
   "metadata": {
    "collapsed": false
   }
  },
  {
   "cell_type": "markdown",
   "source": [
    "##### damage.value.0"
   ],
   "metadata": {
    "collapsed": false
   }
  },
  {
   "cell_type": "code",
   "execution_count": 148,
   "outputs": [],
   "source": [
    "d_val_zero = unpack_column_with_null(damage_val, column_name=\"0\")"
   ],
   "metadata": {
    "collapsed": false
   }
  },
  {
   "cell_type": "code",
   "execution_count": 149,
   "outputs": [
    {
     "name": "stdout",
     "output_type": "stream",
     "text": [
      "<class 'pandas.core.frame.DataFrame'>\n",
      "Int64Index: 860 entries, 81 to 21719\n",
      "Data columns (total 3 columns):\n",
      " #   Column    Non-Null Count  Dtype \n",
      "---  ------    --------------  ----- \n",
      " 0   applyMod  482 non-null    object\n",
      " 1   type      856 non-null    object\n",
      " 2   value     856 non-null    object\n",
      "dtypes: object(3)\n",
      "memory usage: 26.9+ KB\n"
     ]
    }
   ],
   "source": [
    "d_val_zero.info()"
   ],
   "metadata": {
    "collapsed": false
   }
  },
  {
   "cell_type": "code",
   "execution_count": 150,
   "outputs": [
    {
     "data": {
      "text/plain": "    applyMod                                               type  value\n81     False  {'categories': [], 'subtype': '', 'value': 'po...    1d8\n95       NaN                {'categories': [], 'value': 'fire'}    4d6\n97     False  {'categories': [], 'subtype': '', 'value': 'el...   4d12\n102     True              {'categories': [], 'value': 'mental'}      0\n108    False  {'categories': [], 'subtype': '', 'value': 'fo...  1d4+1",
      "text/html": "<div>\n<style scoped>\n    .dataframe tbody tr th:only-of-type {\n        vertical-align: middle;\n    }\n\n    .dataframe tbody tr th {\n        vertical-align: top;\n    }\n\n    .dataframe thead th {\n        text-align: right;\n    }\n</style>\n<table border=\"1\" class=\"dataframe\">\n  <thead>\n    <tr style=\"text-align: right;\">\n      <th></th>\n      <th>applyMod</th>\n      <th>type</th>\n      <th>value</th>\n    </tr>\n  </thead>\n  <tbody>\n    <tr>\n      <th>81</th>\n      <td>False</td>\n      <td>{'categories': [], 'subtype': '', 'value': 'po...</td>\n      <td>1d8</td>\n    </tr>\n    <tr>\n      <th>95</th>\n      <td>NaN</td>\n      <td>{'categories': [], 'value': 'fire'}</td>\n      <td>4d6</td>\n    </tr>\n    <tr>\n      <th>97</th>\n      <td>False</td>\n      <td>{'categories': [], 'subtype': '', 'value': 'el...</td>\n      <td>4d12</td>\n    </tr>\n    <tr>\n      <th>102</th>\n      <td>True</td>\n      <td>{'categories': [], 'value': 'mental'}</td>\n      <td>0</td>\n    </tr>\n    <tr>\n      <th>108</th>\n      <td>False</td>\n      <td>{'categories': [], 'subtype': '', 'value': 'fo...</td>\n      <td>1d4+1</td>\n    </tr>\n  </tbody>\n</table>\n</div>"
     },
     "execution_count": 150,
     "metadata": {},
     "output_type": "execute_result"
    }
   ],
   "source": [
    "d_val_zero.head()"
   ],
   "metadata": {
    "collapsed": false
   }
  },
  {
   "cell_type": "markdown",
   "source": [
    "###### damage.value.0.type"
   ],
   "metadata": {
    "collapsed": false
   }
  },
  {
   "cell_type": "code",
   "execution_count": 151,
   "outputs": [],
   "source": [
    "damage_val_zero_type = unpack_column_with_null(d_val_zero, column_name=\"type\")\n",
    "damage_val_zero_type.categories = damage_val_zero_type.categories.apply(\n",
    "    lambda x: np.nan if (type(x) == list and len(x) == 0) else x\n",
    ")\n",
    "damage_val_zero_type = damage_val_zero_type.replace(\"\", np.nan)"
   ],
   "metadata": {
    "collapsed": false
   }
  },
  {
   "cell_type": "code",
   "execution_count": 152,
   "outputs": [
    {
     "name": "stdout",
     "output_type": "stream",
     "text": [
      "<class 'pandas.core.frame.DataFrame'>\n",
      "Int64Index: 860 entries, 81 to 21719\n",
      "Data columns (total 3 columns):\n",
      " #   Column      Non-Null Count  Dtype  \n",
      "---  ------      --------------  -----  \n",
      " 0   categories  0 non-null      float64\n",
      " 1   subtype     1 non-null      object \n",
      " 2   value       847 non-null    object \n",
      "dtypes: float64(1), object(2)\n",
      "memory usage: 26.9+ KB\n"
     ]
    }
   ],
   "source": [
    "damage_val_zero_type.info()"
   ],
   "metadata": {
    "collapsed": false
   }
  },
  {
   "cell_type": "code",
   "execution_count": 153,
   "outputs": [
    {
     "data": {
      "text/plain": "     categories subtype        value\n81          NaN     NaN     positive\n95          NaN     NaN         fire\n97          NaN     NaN  electricity\n102         NaN     NaN       mental\n108         NaN     NaN        force",
      "text/html": "<div>\n<style scoped>\n    .dataframe tbody tr th:only-of-type {\n        vertical-align: middle;\n    }\n\n    .dataframe tbody tr th {\n        vertical-align: top;\n    }\n\n    .dataframe thead th {\n        text-align: right;\n    }\n</style>\n<table border=\"1\" class=\"dataframe\">\n  <thead>\n    <tr style=\"text-align: right;\">\n      <th></th>\n      <th>categories</th>\n      <th>subtype</th>\n      <th>value</th>\n    </tr>\n  </thead>\n  <tbody>\n    <tr>\n      <th>81</th>\n      <td>NaN</td>\n      <td>NaN</td>\n      <td>positive</td>\n    </tr>\n    <tr>\n      <th>95</th>\n      <td>NaN</td>\n      <td>NaN</td>\n      <td>fire</td>\n    </tr>\n    <tr>\n      <th>97</th>\n      <td>NaN</td>\n      <td>NaN</td>\n      <td>electricity</td>\n    </tr>\n    <tr>\n      <th>102</th>\n      <td>NaN</td>\n      <td>NaN</td>\n      <td>mental</td>\n    </tr>\n    <tr>\n      <th>108</th>\n      <td>NaN</td>\n      <td>NaN</td>\n      <td>force</td>\n    </tr>\n  </tbody>\n</table>\n</div>"
     },
     "execution_count": 153,
     "metadata": {},
     "output_type": "execute_result"
    }
   ],
   "source": [
    "damage_val_zero_type.head()"
   ],
   "metadata": {
    "collapsed": false
   }
  },
  {
   "cell_type": "code",
   "execution_count": 154,
   "outputs": [
    {
     "data": {
      "text/plain": "fire           129\nnegative       110\nmental         104\nuntyped         99\npositive        92\nbludgeoning     61\ncold            58\nelectricity     40\nforce           40\nacid            27\nsonic           27\nhealing         26\npiercing        17\npoison          17\nName: value, dtype: int64"
     },
     "execution_count": 154,
     "metadata": {},
     "output_type": "execute_result"
    }
   ],
   "source": [
    "damage_val_zero_type.value.value_counts()"
   ],
   "metadata": {
    "collapsed": false
   }
  },
  {
   "cell_type": "code",
   "execution_count": 159,
   "outputs": [
    {
     "data": {
      "text/plain": "spell    860\nName: type, dtype: int64"
     },
     "execution_count": 159,
     "metadata": {},
     "output_type": "execute_result"
    }
   ],
   "source": [
    "items.loc[damage_val_zero_type.value.notnull().index].type.value_counts()"
   ],
   "metadata": {
    "collapsed": false
   }
  },
  {
   "cell_type": "markdown",
   "source": [
    "damage spells types"
   ],
   "metadata": {
    "collapsed": false
   }
  },
  {
   "cell_type": "code",
   "execution_count": 155,
   "outputs": [
    {
     "data": {
      "text/plain": "persistent    1\nName: subtype, dtype: int64"
     },
     "execution_count": 155,
     "metadata": {},
     "output_type": "execute_result"
    }
   ],
   "source": [
    "damage_val_zero_type.subtype.value_counts()"
   ],
   "metadata": {
    "collapsed": false
   }
  },
  {
   "cell_type": "code",
   "execution_count": 160,
   "outputs": [
    {
     "data": {
      "text/plain": "       categories     subtype     value\n20585         NaN  persistent  negative",
      "text/html": "<div>\n<style scoped>\n    .dataframe tbody tr th:only-of-type {\n        vertical-align: middle;\n    }\n\n    .dataframe tbody tr th {\n        vertical-align: top;\n    }\n\n    .dataframe thead th {\n        text-align: right;\n    }\n</style>\n<table border=\"1\" class=\"dataframe\">\n  <thead>\n    <tr style=\"text-align: right;\">\n      <th></th>\n      <th>categories</th>\n      <th>subtype</th>\n      <th>value</th>\n    </tr>\n  </thead>\n  <tbody>\n    <tr>\n      <th>20585</th>\n      <td>NaN</td>\n      <td>persistent</td>\n      <td>negative</td>\n    </tr>\n  </tbody>\n</table>\n</div>"
     },
     "execution_count": 160,
     "metadata": {},
     "output_type": "execute_result"
    }
   ],
   "source": [
    "damage_val_zero_type[damage_val_zero_type.subtype.notnull()]"
   ],
   "metadata": {
    "collapsed": false
   }
  },
  {
   "cell_type": "markdown",
   "source": [
    "###### damage.value.0.applyMod"
   ],
   "metadata": {
    "collapsed": false
   }
  },
  {
   "cell_type": "code",
   "execution_count": 165,
   "outputs": [
    {
     "data": {
      "text/plain": "False    288\nTrue     190\n0          4\nName: applyMod, dtype: int64"
     },
     "execution_count": 165,
     "metadata": {},
     "output_type": "execute_result"
    }
   ],
   "source": [
    "d_val_zero[d_val_zero.applyMod.notnull()].applyMod.value_counts()"
   ],
   "metadata": {
    "collapsed": false
   }
  },
  {
   "cell_type": "markdown",
   "source": [
    "###### damage.value.0.value"
   ],
   "metadata": {
    "collapsed": false
   }
  },
  {
   "cell_type": "code",
   "execution_count": 167,
   "outputs": [
    {
     "data": {
      "text/plain": "1d4     87\n1d8     78\n0       54\n1d6     53\n6d6     30\n        ..\n17d6     1\n14d4     1\n14d8     1\n7d4      1\n8        1\nName: value, Length: 71, dtype: int64"
     },
     "execution_count": 167,
     "metadata": {},
     "output_type": "execute_result"
    }
   ],
   "source": [
    "d_val_zero.value.value_counts()"
   ],
   "metadata": {
    "collapsed": false
   }
  },
  {
   "cell_type": "markdown",
   "source": [
    "**Can be important**"
   ],
   "metadata": {
    "collapsed": false
   }
  },
  {
   "cell_type": "code",
   "execution_count": 168,
   "outputs": [
    {
     "data": {
      "text/plain": "spell    860\nName: type, dtype: int64"
     },
     "execution_count": 168,
     "metadata": {},
     "output_type": "execute_result"
    }
   ],
   "source": [
    "items.loc[d_val_zero.value.notnull().index].type.value_counts()"
   ],
   "metadata": {
    "collapsed": false
   }
  },
  {
   "cell_type": "markdown",
   "source": [
    "##### damage.val: other col"
   ],
   "metadata": {
    "collapsed": false
   }
  },
  {
   "cell_type": "code",
   "execution_count": 174,
   "outputs": [],
   "source": [
    "# damage_val.drop([\"0\"], axis='columns', inplace=True)\n",
    "damage_val.dropna(axis=\"index\", how=\"all\", inplace=True)"
   ],
   "metadata": {
    "collapsed": false
   }
  },
  {
   "cell_type": "code",
   "execution_count": 176,
   "outputs": [
    {
     "name": "stdout",
     "output_type": "stream",
     "text": [
      "<class 'pandas.core.frame.DataFrame'>\n",
      "Int64Index: 34 entries, 168 to 21574\n",
      "Data columns (total 6 columns):\n",
      " #   Column            Non-Null Count  Dtype \n",
      "---  ------            --------------  ----- \n",
      " 0   gcovwqxwitqchoin  11 non-null     object\n",
      " 1   zvXU9ZdRVHSORUUn  1 non-null      object\n",
      " 2   9k8ayqgvgultdghx  4 non-null      object\n",
      " 3   1                 13 non-null     object\n",
      " 4   v1pnjhfu6e9akqe0  4 non-null      object\n",
      " 5   wnlxzlrxtrkk2bh3  1 non-null      object\n",
      "dtypes: object(6)\n",
      "memory usage: 1.9+ KB\n"
     ]
    }
   ],
   "source": [
    "damage_val.info()"
   ],
   "metadata": {
    "collapsed": false
   }
  },
  {
   "cell_type": "code",
   "execution_count": 178,
   "outputs": [
    {
     "data": {
      "text/plain": "                                        gcovwqxwitqchoin  \\\n168    {'applyMod': False, 'type': {'categories': [],...   \n460    {'applyMod': False, 'type': {'categories': [],...   \n986                                                  NaN   \n1323                                                 NaN   \n3198                                                 NaN   \n3251                                                 NaN   \n4110                                                 NaN   \n4657                                                 NaN   \n5289                                                 NaN   \n6959   {'applyMod': False, 'type': {'categories': [],...   \n9037                                                 NaN   \n10377  {'applyMod': False, 'type': {'categories': [],...   \n11671                                                NaN   \n14021                                                NaN   \n14541                                                NaN   \n15173                                                NaN   \n15250                                                NaN   \n15333                                                NaN   \n16224                                                NaN   \n16349                                                NaN   \n16499                                                NaN   \n16797                                                NaN   \n16821  {'applyMod': False, 'type': {'categories': [],...   \n16878  {'applyMod': False, 'type': {'categories': [],...   \n16964                                                NaN   \n16989                                                NaN   \n17151                                                NaN   \n17476  {'applyMod': False, 'type': {'categories': [],...   \n18022  {'applyMod': False, 'type': {'categories': [],...   \n18076                                                NaN   \n18704  {'applyMod': False, 'type': {'categories': [],...   \n18790  {'applyMod': False, 'type': {'categories': [],...   \n20287  {'applyMod': False, 'type': {'categories': [],...   \n21574                                                NaN   \n\n                                        zvXU9ZdRVHSORUUn  \\\n168                                                  NaN   \n460                                                  NaN   \n986    {'applyMod': False, 'type': {'categories': [],...   \n1323                                                 NaN   \n3198                                                 NaN   \n3251                                                 NaN   \n4110                                                 NaN   \n4657                                                 NaN   \n5289                                                 NaN   \n6959                                                 NaN   \n9037                                                 NaN   \n10377                                                NaN   \n11671                                                NaN   \n14021                                                NaN   \n14541                                                NaN   \n15173                                                NaN   \n15250                                                NaN   \n15333                                                NaN   \n16224                                                NaN   \n16349                                                NaN   \n16499                                                NaN   \n16797                                                NaN   \n16821                                                NaN   \n16878                                                NaN   \n16964                                                NaN   \n16989                                                NaN   \n17151                                                NaN   \n17476                                                NaN   \n18022                                                NaN   \n18076                                                NaN   \n18704                                                NaN   \n18790                                                NaN   \n20287                                                NaN   \n21574                                                NaN   \n\n                                        9k8ayqgvgultdghx  \\\n168                                                  NaN   \n460                                                  NaN   \n986                                                  NaN   \n1323   {'applyMod': False, 'type': {'categories': [],...   \n3198   {'applyMod': False, 'type': {'categories': [],...   \n3251                                                 NaN   \n4110   {'applyMod': False, 'type': {'categories': [],...   \n4657   {'applyMod': False, 'type': {'categories': [],...   \n5289                                                 NaN   \n6959                                                 NaN   \n9037                                                 NaN   \n10377                                                NaN   \n11671                                                NaN   \n14021                                                NaN   \n14541                                                NaN   \n15173                                                NaN   \n15250                                                NaN   \n15333                                                NaN   \n16224                                                NaN   \n16349                                                NaN   \n16499                                                NaN   \n16797                                                NaN   \n16821                                                NaN   \n16878                                                NaN   \n16964                                                NaN   \n16989                                                NaN   \n17151                                                NaN   \n17476                                                NaN   \n18022                                                NaN   \n18076                                                NaN   \n18704                                                NaN   \n18790                                                NaN   \n20287                                                NaN   \n21574                                                NaN   \n\n                                                       1  \\\n168                                                  NaN   \n460                                                  NaN   \n986                                                  NaN   \n1323                                                 NaN   \n3198                                                 NaN   \n3251   {'applyMod': False, 'type': {'categories': [],...   \n4110                                                 NaN   \n4657                                                 NaN   \n5289   {'applyMod': False, 'type': {'categories': [],...   \n6959                                                 NaN   \n9037   {'applyMod': False, 'type': {'categories': [],...   \n10377                                                NaN   \n11671                                                NaN   \n14021  {'applyMod': False, 'type': {'categories': [],...   \n14541  {'applyMod': False, 'type': {'categories': [],...   \n15173  {'applyMod': False, 'type': {'categories': [],...   \n15250  {'applyMod': False, 'type': {'categories': [],...   \n15333  {'applyMod': False, 'type': {'categories': [],...   \n16224  {'applyMod': False, 'type': {'categories': [],...   \n16349  {'applyMod': False, 'type': {'categories': [],...   \n16499  {'applyMod': False, 'type': {'categories': [],...   \n16797                                                NaN   \n16821                                                NaN   \n16878                                                NaN   \n16964  {'applyMod': False, 'type': {'categories': [],...   \n16989                                                NaN   \n17151  {'applyMod': False, 'type': {'categories': [],...   \n17476                                                NaN   \n18022                                                NaN   \n18076                                                NaN   \n18704                                                NaN   \n18790                                                NaN   \n20287                                                NaN   \n21574                                                NaN   \n\n                                        v1pnjhfu6e9akqe0  \\\n168                                                  NaN   \n460                                                  NaN   \n986                                                  NaN   \n1323                                                 NaN   \n3198                                                 NaN   \n3251                                                 NaN   \n4110                                                 NaN   \n4657                                                 NaN   \n5289                                                 NaN   \n6959                                                 NaN   \n9037                                                 NaN   \n10377                                                NaN   \n11671  {'applyMod': False, 'type': {'categories': [],...   \n14021                                                NaN   \n14541                                                NaN   \n15173                                                NaN   \n15250                                                NaN   \n15333                                                NaN   \n16224                                                NaN   \n16349                                                NaN   \n16499                                                NaN   \n16797  {'applyMod': False, 'type': {'categories': [],...   \n16821                                                NaN   \n16878                                                NaN   \n16964                                                NaN   \n16989                                                NaN   \n17151                                                NaN   \n17476                                                NaN   \n18022                                                NaN   \n18076  {'applyMod': False, 'type': {'categories': [],...   \n18704                                                NaN   \n18790                                                NaN   \n20287                                                NaN   \n21574  {'applyMod': False, 'type': {'categories': [],...   \n\n                                        wnlxzlrxtrkk2bh3  \n168                                                  NaN  \n460                                                  NaN  \n986                                                  NaN  \n1323                                                 NaN  \n3198                                                 NaN  \n3251                                                 NaN  \n4110                                                 NaN  \n4657                                                 NaN  \n5289                                                 NaN  \n6959                                                 NaN  \n9037                                                 NaN  \n10377                                                NaN  \n11671                                                NaN  \n14021                                                NaN  \n14541                                                NaN  \n15173                                                NaN  \n15250                                                NaN  \n15333                                                NaN  \n16224                                                NaN  \n16349                                                NaN  \n16499                                                NaN  \n16797                                                NaN  \n16821                                                NaN  \n16878                                                NaN  \n16964                                                NaN  \n16989  {'applyMod': False, 'type': {'categories': [],...  \n17151                                                NaN  \n17476                                                NaN  \n18022                                                NaN  \n18076                                                NaN  \n18704                                                NaN  \n18790                                                NaN  \n20287                                                NaN  \n21574                                                NaN  ",
      "text/html": "<div>\n<style scoped>\n    .dataframe tbody tr th:only-of-type {\n        vertical-align: middle;\n    }\n\n    .dataframe tbody tr th {\n        vertical-align: top;\n    }\n\n    .dataframe thead th {\n        text-align: right;\n    }\n</style>\n<table border=\"1\" class=\"dataframe\">\n  <thead>\n    <tr style=\"text-align: right;\">\n      <th></th>\n      <th>gcovwqxwitqchoin</th>\n      <th>zvXU9ZdRVHSORUUn</th>\n      <th>9k8ayqgvgultdghx</th>\n      <th>1</th>\n      <th>v1pnjhfu6e9akqe0</th>\n      <th>wnlxzlrxtrkk2bh3</th>\n    </tr>\n  </thead>\n  <tbody>\n    <tr>\n      <th>168</th>\n      <td>{'applyMod': False, 'type': {'categories': [],...</td>\n      <td>NaN</td>\n      <td>NaN</td>\n      <td>NaN</td>\n      <td>NaN</td>\n      <td>NaN</td>\n    </tr>\n    <tr>\n      <th>460</th>\n      <td>{'applyMod': False, 'type': {'categories': [],...</td>\n      <td>NaN</td>\n      <td>NaN</td>\n      <td>NaN</td>\n      <td>NaN</td>\n      <td>NaN</td>\n    </tr>\n    <tr>\n      <th>986</th>\n      <td>NaN</td>\n      <td>{'applyMod': False, 'type': {'categories': [],...</td>\n      <td>NaN</td>\n      <td>NaN</td>\n      <td>NaN</td>\n      <td>NaN</td>\n    </tr>\n    <tr>\n      <th>1323</th>\n      <td>NaN</td>\n      <td>NaN</td>\n      <td>{'applyMod': False, 'type': {'categories': [],...</td>\n      <td>NaN</td>\n      <td>NaN</td>\n      <td>NaN</td>\n    </tr>\n    <tr>\n      <th>3198</th>\n      <td>NaN</td>\n      <td>NaN</td>\n      <td>{'applyMod': False, 'type': {'categories': [],...</td>\n      <td>NaN</td>\n      <td>NaN</td>\n      <td>NaN</td>\n    </tr>\n    <tr>\n      <th>3251</th>\n      <td>NaN</td>\n      <td>NaN</td>\n      <td>NaN</td>\n      <td>{'applyMod': False, 'type': {'categories': [],...</td>\n      <td>NaN</td>\n      <td>NaN</td>\n    </tr>\n    <tr>\n      <th>4110</th>\n      <td>NaN</td>\n      <td>NaN</td>\n      <td>{'applyMod': False, 'type': {'categories': [],...</td>\n      <td>NaN</td>\n      <td>NaN</td>\n      <td>NaN</td>\n    </tr>\n    <tr>\n      <th>4657</th>\n      <td>NaN</td>\n      <td>NaN</td>\n      <td>{'applyMod': False, 'type': {'categories': [],...</td>\n      <td>NaN</td>\n      <td>NaN</td>\n      <td>NaN</td>\n    </tr>\n    <tr>\n      <th>5289</th>\n      <td>NaN</td>\n      <td>NaN</td>\n      <td>NaN</td>\n      <td>{'applyMod': False, 'type': {'categories': [],...</td>\n      <td>NaN</td>\n      <td>NaN</td>\n    </tr>\n    <tr>\n      <th>6959</th>\n      <td>{'applyMod': False, 'type': {'categories': [],...</td>\n      <td>NaN</td>\n      <td>NaN</td>\n      <td>NaN</td>\n      <td>NaN</td>\n      <td>NaN</td>\n    </tr>\n    <tr>\n      <th>9037</th>\n      <td>NaN</td>\n      <td>NaN</td>\n      <td>NaN</td>\n      <td>{'applyMod': False, 'type': {'categories': [],...</td>\n      <td>NaN</td>\n      <td>NaN</td>\n    </tr>\n    <tr>\n      <th>10377</th>\n      <td>{'applyMod': False, 'type': {'categories': [],...</td>\n      <td>NaN</td>\n      <td>NaN</td>\n      <td>NaN</td>\n      <td>NaN</td>\n      <td>NaN</td>\n    </tr>\n    <tr>\n      <th>11671</th>\n      <td>NaN</td>\n      <td>NaN</td>\n      <td>NaN</td>\n      <td>NaN</td>\n      <td>{'applyMod': False, 'type': {'categories': [],...</td>\n      <td>NaN</td>\n    </tr>\n    <tr>\n      <th>14021</th>\n      <td>NaN</td>\n      <td>NaN</td>\n      <td>NaN</td>\n      <td>{'applyMod': False, 'type': {'categories': [],...</td>\n      <td>NaN</td>\n      <td>NaN</td>\n    </tr>\n    <tr>\n      <th>14541</th>\n      <td>NaN</td>\n      <td>NaN</td>\n      <td>NaN</td>\n      <td>{'applyMod': False, 'type': {'categories': [],...</td>\n      <td>NaN</td>\n      <td>NaN</td>\n    </tr>\n    <tr>\n      <th>15173</th>\n      <td>NaN</td>\n      <td>NaN</td>\n      <td>NaN</td>\n      <td>{'applyMod': False, 'type': {'categories': [],...</td>\n      <td>NaN</td>\n      <td>NaN</td>\n    </tr>\n    <tr>\n      <th>15250</th>\n      <td>NaN</td>\n      <td>NaN</td>\n      <td>NaN</td>\n      <td>{'applyMod': False, 'type': {'categories': [],...</td>\n      <td>NaN</td>\n      <td>NaN</td>\n    </tr>\n    <tr>\n      <th>15333</th>\n      <td>NaN</td>\n      <td>NaN</td>\n      <td>NaN</td>\n      <td>{'applyMod': False, 'type': {'categories': [],...</td>\n      <td>NaN</td>\n      <td>NaN</td>\n    </tr>\n    <tr>\n      <th>16224</th>\n      <td>NaN</td>\n      <td>NaN</td>\n      <td>NaN</td>\n      <td>{'applyMod': False, 'type': {'categories': [],...</td>\n      <td>NaN</td>\n      <td>NaN</td>\n    </tr>\n    <tr>\n      <th>16349</th>\n      <td>NaN</td>\n      <td>NaN</td>\n      <td>NaN</td>\n      <td>{'applyMod': False, 'type': {'categories': [],...</td>\n      <td>NaN</td>\n      <td>NaN</td>\n    </tr>\n    <tr>\n      <th>16499</th>\n      <td>NaN</td>\n      <td>NaN</td>\n      <td>NaN</td>\n      <td>{'applyMod': False, 'type': {'categories': [],...</td>\n      <td>NaN</td>\n      <td>NaN</td>\n    </tr>\n    <tr>\n      <th>16797</th>\n      <td>NaN</td>\n      <td>NaN</td>\n      <td>NaN</td>\n      <td>NaN</td>\n      <td>{'applyMod': False, 'type': {'categories': [],...</td>\n      <td>NaN</td>\n    </tr>\n    <tr>\n      <th>16821</th>\n      <td>{'applyMod': False, 'type': {'categories': [],...</td>\n      <td>NaN</td>\n      <td>NaN</td>\n      <td>NaN</td>\n      <td>NaN</td>\n      <td>NaN</td>\n    </tr>\n    <tr>\n      <th>16878</th>\n      <td>{'applyMod': False, 'type': {'categories': [],...</td>\n      <td>NaN</td>\n      <td>NaN</td>\n      <td>NaN</td>\n      <td>NaN</td>\n      <td>NaN</td>\n    </tr>\n    <tr>\n      <th>16964</th>\n      <td>NaN</td>\n      <td>NaN</td>\n      <td>NaN</td>\n      <td>{'applyMod': False, 'type': {'categories': [],...</td>\n      <td>NaN</td>\n      <td>NaN</td>\n    </tr>\n    <tr>\n      <th>16989</th>\n      <td>NaN</td>\n      <td>NaN</td>\n      <td>NaN</td>\n      <td>NaN</td>\n      <td>NaN</td>\n      <td>{'applyMod': False, 'type': {'categories': [],...</td>\n    </tr>\n    <tr>\n      <th>17151</th>\n      <td>NaN</td>\n      <td>NaN</td>\n      <td>NaN</td>\n      <td>{'applyMod': False, 'type': {'categories': [],...</td>\n      <td>NaN</td>\n      <td>NaN</td>\n    </tr>\n    <tr>\n      <th>17476</th>\n      <td>{'applyMod': False, 'type': {'categories': [],...</td>\n      <td>NaN</td>\n      <td>NaN</td>\n      <td>NaN</td>\n      <td>NaN</td>\n      <td>NaN</td>\n    </tr>\n    <tr>\n      <th>18022</th>\n      <td>{'applyMod': False, 'type': {'categories': [],...</td>\n      <td>NaN</td>\n      <td>NaN</td>\n      <td>NaN</td>\n      <td>NaN</td>\n      <td>NaN</td>\n    </tr>\n    <tr>\n      <th>18076</th>\n      <td>NaN</td>\n      <td>NaN</td>\n      <td>NaN</td>\n      <td>NaN</td>\n      <td>{'applyMod': False, 'type': {'categories': [],...</td>\n      <td>NaN</td>\n    </tr>\n    <tr>\n      <th>18704</th>\n      <td>{'applyMod': False, 'type': {'categories': [],...</td>\n      <td>NaN</td>\n      <td>NaN</td>\n      <td>NaN</td>\n      <td>NaN</td>\n      <td>NaN</td>\n    </tr>\n    <tr>\n      <th>18790</th>\n      <td>{'applyMod': False, 'type': {'categories': [],...</td>\n      <td>NaN</td>\n      <td>NaN</td>\n      <td>NaN</td>\n      <td>NaN</td>\n      <td>NaN</td>\n    </tr>\n    <tr>\n      <th>20287</th>\n      <td>{'applyMod': False, 'type': {'categories': [],...</td>\n      <td>NaN</td>\n      <td>NaN</td>\n      <td>NaN</td>\n      <td>NaN</td>\n      <td>NaN</td>\n    </tr>\n    <tr>\n      <th>21574</th>\n      <td>NaN</td>\n      <td>NaN</td>\n      <td>NaN</td>\n      <td>NaN</td>\n      <td>{'applyMod': False, 'type': {'categories': [],...</td>\n      <td>NaN</td>\n    </tr>\n  </tbody>\n</table>\n</div>"
     },
     "execution_count": 178,
     "metadata": {},
     "output_type": "execute_result"
    }
   ],
   "source": [
    "damage_val"
   ],
   "metadata": {
    "collapsed": false
   }
  },
  {
   "cell_type": "markdown",
   "source": [
    "Looks like in other columns the same \"things\" as in this \"0\" one"
   ],
   "metadata": {
    "collapsed": false
   }
  },
  {
   "cell_type": "markdown",
   "source": [
    "###"
   ],
   "metadata": {
    "collapsed": false
   }
  },
  {
   "cell_type": "code",
   "execution_count": 181,
   "outputs": [
    {
     "name": "stdout",
     "output_type": "stream",
     "text": [
      "<class 'pandas.core.frame.DataFrame'>\n",
      "Int64Index: 1235 entries, 81 to 21720\n",
      "Data columns (total 4 columns):\n",
      " #   Column      Non-Null Count  Dtype  \n",
      "---  ------      --------------  -----  \n",
      " 0   value       860 non-null    object \n",
      " 1   damageType  375 non-null    object \n",
      " 2   dice        375 non-null    float64\n",
      " 3   die         371 non-null    object \n",
      "dtypes: float64(1), object(3)\n",
      "memory usage: 48.2+ KB\n"
     ]
    }
   ],
   "source": [
    "damage.dropna(axis=\"index\", how=\"all\", inplace=True)\n",
    "damage.info()"
   ],
   "metadata": {
    "collapsed": false
   }
  },
  {
   "cell_type": "code",
   "execution_count": 182,
   "outputs": [
    {
     "data": {
      "text/plain": "1235"
     },
     "execution_count": 182,
     "metadata": {},
     "output_type": "execute_result"
    }
   ],
   "source": [
    "860 + 375"
   ],
   "metadata": {
    "collapsed": false
   }
  },
  {
   "cell_type": "code",
   "execution_count": 156,
   "outputs": [],
   "source": [
    "# bestiary.loc[86, :]"
   ],
   "metadata": {
    "collapsed": false
   }
  },
  {
   "cell_type": "code",
   "execution_count": 157,
   "outputs": [
    {
     "data": {
      "text/plain": "          damage                                        duration  \\\n0            NaN                                             NaN   \n1  {'value': {}}                           {'value': '1 minute'}   \n2  {'value': {}}  {'value': 'until the start of your next turn'}   \n3            NaN                                             NaN   \n4            NaN                                             NaN   \n\n  hasCounteractCheck         level  \\\n0                NaN           NaN   \n1   {'value': False}  {'value': 2}   \n2   {'value': False}  {'value': 1}   \n3                NaN           NaN   \n4                NaN           NaN   \n\n                                            location      materials  \\\n0                                                NaN            NaN   \n1  {'heightenedLevel': 2, 'value': 'B7rzf0nBJmzg8...  {'value': ''}   \n2  {'heightenedLevel': 1, 'value': 'B7rzf0nBJmzg8...  {'value': ''}   \n3                                                NaN            NaN   \n4                                                NaN            NaN   \n\n    primarycheck                  range                                 save  \\\n0            NaN                    NaN                                  NaN   \n1  {'value': ''}  {'value': '120 feet'}           {'basic': '', 'value': ''}   \n2  {'value': ''}          {'value': ''}  {'basic': '', 'value': 'fortitude'}   \n3            NaN                    NaN                                  NaN   \n4            NaN                    NaN                                  NaN   \n\n                     school  ... unidentified areatype brokenThreshold  \\\n0                       NaN  ...          NaN      NaN             NaN   \n1  {'value': 'conjuration'}  ...          NaN      NaN             NaN   \n2    {'value': 'evocation'}  ...          NaN      NaN             NaN   \n3                       NaN  ...          NaN      NaN             NaN   \n4                       NaN  ...          NaN      NaN             NaN   \n\n  bulkCapacity collapsed identification identified invested maxHp stowing  \n0          NaN       NaN            NaN        NaN      NaN   NaN     NaN  \n1          NaN       NaN            NaN        NaN      NaN   NaN     NaN  \n2          NaN       NaN            NaN        NaN      NaN   NaN     NaN  \n3          NaN       NaN            NaN        NaN      NaN   NaN     NaN  \n4          NaN       NaN            NaN        NaN      NaN   NaN     NaN  \n\n[5 rows x 90 columns]",
      "text/html": "<div>\n<style scoped>\n    .dataframe tbody tr th:only-of-type {\n        vertical-align: middle;\n    }\n\n    .dataframe tbody tr th {\n        vertical-align: top;\n    }\n\n    .dataframe thead th {\n        text-align: right;\n    }\n</style>\n<table border=\"1\" class=\"dataframe\">\n  <thead>\n    <tr style=\"text-align: right;\">\n      <th></th>\n      <th>damage</th>\n      <th>duration</th>\n      <th>hasCounteractCheck</th>\n      <th>level</th>\n      <th>location</th>\n      <th>materials</th>\n      <th>primarycheck</th>\n      <th>range</th>\n      <th>save</th>\n      <th>school</th>\n      <th>...</th>\n      <th>unidentified</th>\n      <th>areatype</th>\n      <th>brokenThreshold</th>\n      <th>bulkCapacity</th>\n      <th>collapsed</th>\n      <th>identification</th>\n      <th>identified</th>\n      <th>invested</th>\n      <th>maxHp</th>\n      <th>stowing</th>\n    </tr>\n  </thead>\n  <tbody>\n    <tr>\n      <th>0</th>\n      <td>NaN</td>\n      <td>NaN</td>\n      <td>NaN</td>\n      <td>NaN</td>\n      <td>NaN</td>\n      <td>NaN</td>\n      <td>NaN</td>\n      <td>NaN</td>\n      <td>NaN</td>\n      <td>NaN</td>\n      <td>...</td>\n      <td>NaN</td>\n      <td>NaN</td>\n      <td>NaN</td>\n      <td>NaN</td>\n      <td>NaN</td>\n      <td>NaN</td>\n      <td>NaN</td>\n      <td>NaN</td>\n      <td>NaN</td>\n      <td>NaN</td>\n    </tr>\n    <tr>\n      <th>1</th>\n      <td>{'value': {}}</td>\n      <td>{'value': '1 minute'}</td>\n      <td>{'value': False}</td>\n      <td>{'value': 2}</td>\n      <td>{'heightenedLevel': 2, 'value': 'B7rzf0nBJmzg8...</td>\n      <td>{'value': ''}</td>\n      <td>{'value': ''}</td>\n      <td>{'value': '120 feet'}</td>\n      <td>{'basic': '', 'value': ''}</td>\n      <td>{'value': 'conjuration'}</td>\n      <td>...</td>\n      <td>NaN</td>\n      <td>NaN</td>\n      <td>NaN</td>\n      <td>NaN</td>\n      <td>NaN</td>\n      <td>NaN</td>\n      <td>NaN</td>\n      <td>NaN</td>\n      <td>NaN</td>\n      <td>NaN</td>\n    </tr>\n    <tr>\n      <th>2</th>\n      <td>{'value': {}}</td>\n      <td>{'value': 'until the start of your next turn'}</td>\n      <td>{'value': False}</td>\n      <td>{'value': 1}</td>\n      <td>{'heightenedLevel': 1, 'value': 'B7rzf0nBJmzg8...</td>\n      <td>{'value': ''}</td>\n      <td>{'value': ''}</td>\n      <td>{'value': ''}</td>\n      <td>{'basic': '', 'value': 'fortitude'}</td>\n      <td>{'value': 'evocation'}</td>\n      <td>...</td>\n      <td>NaN</td>\n      <td>NaN</td>\n      <td>NaN</td>\n      <td>NaN</td>\n      <td>NaN</td>\n      <td>NaN</td>\n      <td>NaN</td>\n      <td>NaN</td>\n      <td>NaN</td>\n      <td>NaN</td>\n    </tr>\n    <tr>\n      <th>3</th>\n      <td>NaN</td>\n      <td>NaN</td>\n      <td>NaN</td>\n      <td>NaN</td>\n      <td>NaN</td>\n      <td>NaN</td>\n      <td>NaN</td>\n      <td>NaN</td>\n      <td>NaN</td>\n      <td>NaN</td>\n      <td>...</td>\n      <td>NaN</td>\n      <td>NaN</td>\n      <td>NaN</td>\n      <td>NaN</td>\n      <td>NaN</td>\n      <td>NaN</td>\n      <td>NaN</td>\n      <td>NaN</td>\n      <td>NaN</td>\n      <td>NaN</td>\n    </tr>\n    <tr>\n      <th>4</th>\n      <td>NaN</td>\n      <td>NaN</td>\n      <td>NaN</td>\n      <td>NaN</td>\n      <td>NaN</td>\n      <td>NaN</td>\n      <td>NaN</td>\n      <td>NaN</td>\n      <td>NaN</td>\n      <td>NaN</td>\n      <td>...</td>\n      <td>NaN</td>\n      <td>NaN</td>\n      <td>NaN</td>\n      <td>NaN</td>\n      <td>NaN</td>\n      <td>NaN</td>\n      <td>NaN</td>\n      <td>NaN</td>\n      <td>NaN</td>\n      <td>NaN</td>\n    </tr>\n  </tbody>\n</table>\n<p>5 rows × 90 columns</p>\n</div>"
     },
     "execution_count": 157,
     "metadata": {},
     "output_type": "execute_result"
    }
   ],
   "source": [
    "# system.drop([\"autoHeightenLevel\"], axis='columns', inplace=True)\n",
    "# unpack_column(system[system.cost.notnull()], column_name=\"cost\")\n",
    "system.head()\n",
    "# system.columns\n",
    "# system.proficiency[system.proficiency.notnull()]"
   ],
   "metadata": {
    "collapsed": false
   }
  },
  {
   "cell_type": "code",
   "execution_count": 157,
   "outputs": [],
   "source": [],
   "metadata": {
    "collapsed": false
   }
  }
 ],
 "metadata": {
  "kernelspec": {
   "display_name": "Python 3",
   "language": "python",
   "name": "python3"
  },
  "language_info": {
   "codemirror_mode": {
    "name": "ipython",
    "version": 2
   },
   "file_extension": ".py",
   "mimetype": "text/x-python",
   "name": "python",
   "nbconvert_exporter": "python",
   "pygments_lexer": "ipython2",
   "version": "2.7.6"
  }
 },
 "nbformat": 4,
 "nbformat_minor": 0
}
