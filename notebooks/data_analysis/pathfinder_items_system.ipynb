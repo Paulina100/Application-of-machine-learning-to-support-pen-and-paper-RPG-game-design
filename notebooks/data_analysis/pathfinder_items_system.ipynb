{
 "cells": [
  {
   "cell_type": "markdown",
   "source": [
    "# Analysis of items column\n",
    "### subcolumn: system\n",
    "\n",
    "Load bestiaries"
   ],
   "metadata": {
    "collapsed": false
   }
  },
  {
   "cell_type": "code",
   "execution_count": 10,
   "metadata": {
    "collapsed": true
   },
   "outputs": [],
   "source": [
    "import pathlib\n",
    "import pandas as pd\n",
    "from training.analysis_functions import (\n",
    "    get_merged_bestiaries,\n",
    "    unpack_column_with_null,\n",
    "    unpack_column,\n",
    ")\n",
    "\n",
    "\n",
    "DATASETS_DIR = \"../../pathfinder_2e_data/\"\n",
    "DATASET_FILES = [\n",
    "    \"pathfinder-bestiary.db\",\n",
    "    \"pathfinder-bestiary-2.db\",\n",
    "    \"pathfinder-bestiary-3.db\",\n",
    "]\n",
    "DATASET_PATHS = [f\"{DATASETS_DIR}/{file}\" for file in DATASET_FILES]\n",
    "\n",
    "bestiary = get_merged_bestiaries(DATASET_PATHS)"
   ]
  },
  {
   "cell_type": "code",
   "execution_count": 2,
   "outputs": [
    {
     "name": "stdout",
     "output_type": "stream",
     "text": [
      "<class 'pandas.core.frame.DataFrame'>\n",
      "RangeIndex: 1206 entries, 0 to 1205\n",
      "Data columns (total 8 columns):\n",
      " #   Column          Non-Null Count  Dtype \n",
      "---  ------          --------------  ----- \n",
      " 0   _id             1206 non-null   object\n",
      " 1   img             1206 non-null   object\n",
      " 2   items           1206 non-null   object\n",
      " 3   name            1206 non-null   object\n",
      " 4   system          1206 non-null   object\n",
      " 5   type            1206 non-null   object\n",
      " 6   flags           1206 non-null   object\n",
      " 7   prototypeToken  85 non-null     object\n",
      "dtypes: object(8)\n",
      "memory usage: 75.5+ KB\n"
     ]
    }
   ],
   "source": [
    "bestiary.info()"
   ],
   "metadata": {
    "collapsed": false
   }
  },
  {
   "cell_type": "code",
   "execution_count": 3,
   "outputs": [
    {
     "data": {
      "text/plain": "                _id                                       img  \\\n0  024PqcF8yMRBrPuq  systems/pf2e/icons/default-icons/npc.svg   \n1  05E3kkjoLZVjFOeO  systems/pf2e/icons/default-icons/npc.svg   \n2  05wwpHHsBlxBbdkN  systems/pf2e/icons/default-icons/npc.svg   \n3  0FGz2eXm0SB04sJW  systems/pf2e/icons/default-icons/npc.svg   \n4  0HjVFx8qIKDCfblg  systems/pf2e/icons/default-icons/npc.svg   \n\n                                               items                  name  \\\n0  [{'_id': 'B7rzf0nBJmzg8x0y', 'img': 'systems/p...    Adult White Dragon   \n1  [{'_id': 'mYNDkS27YQRyy1F0', 'img': 'systems/p...          Brontosaurus   \n2  [{'_id': 'WkPeg600zGONsuJz', 'img': 'systems/p...        Giant Anaconda   \n3  [{'_id': 'joBYS96mXSnZC1WB', 'img': 'systems/p...  Ancient Green Dragon   \n4  [{'_id': 'xlUnQcjrxeMXu5Cd', 'img': 'systems/p...        Lantern Archon   \n\n                                              system type  \\\n0  {'abilities': {'cha': {'mod': 1}, 'con': {'mod...  npc   \n1  {'abilities': {'cha': {'mod': 1}, 'con': {'mod...  npc   \n2  {'abilities': {'cha': {'mod': -2}, 'con': {'mo...  npc   \n3  {'abilities': {'cha': {'mod': 6}, 'con': {'mod...  npc   \n4  {'abilities': {'cha': {'mod': 1}, 'con': {'mod...  npc   \n\n                                               flags prototypeToken  \n0  {'core': {'sourceId': 'Compendium.pf2e.pathfin...            NaN  \n1  {'core': {'sourceId': 'Compendium.pf2e.pathfin...            NaN  \n2  {'core': {'sourceId': 'Compendium.pf2e.pathfin...            NaN  \n3  {'core': {'sourceId': 'Compendium.pf2e.pathfin...            NaN  \n4  {'core': {'sourceId': 'Compendium.pf2e.pathfin...            NaN  ",
      "text/html": "<div>\n<style scoped>\n    .dataframe tbody tr th:only-of-type {\n        vertical-align: middle;\n    }\n\n    .dataframe tbody tr th {\n        vertical-align: top;\n    }\n\n    .dataframe thead th {\n        text-align: right;\n    }\n</style>\n<table border=\"1\" class=\"dataframe\">\n  <thead>\n    <tr style=\"text-align: right;\">\n      <th></th>\n      <th>_id</th>\n      <th>img</th>\n      <th>items</th>\n      <th>name</th>\n      <th>system</th>\n      <th>type</th>\n      <th>flags</th>\n      <th>prototypeToken</th>\n    </tr>\n  </thead>\n  <tbody>\n    <tr>\n      <th>0</th>\n      <td>024PqcF8yMRBrPuq</td>\n      <td>systems/pf2e/icons/default-icons/npc.svg</td>\n      <td>[{'_id': 'B7rzf0nBJmzg8x0y', 'img': 'systems/p...</td>\n      <td>Adult White Dragon</td>\n      <td>{'abilities': {'cha': {'mod': 1}, 'con': {'mod...</td>\n      <td>npc</td>\n      <td>{'core': {'sourceId': 'Compendium.pf2e.pathfin...</td>\n      <td>NaN</td>\n    </tr>\n    <tr>\n      <th>1</th>\n      <td>05E3kkjoLZVjFOeO</td>\n      <td>systems/pf2e/icons/default-icons/npc.svg</td>\n      <td>[{'_id': 'mYNDkS27YQRyy1F0', 'img': 'systems/p...</td>\n      <td>Brontosaurus</td>\n      <td>{'abilities': {'cha': {'mod': 1}, 'con': {'mod...</td>\n      <td>npc</td>\n      <td>{'core': {'sourceId': 'Compendium.pf2e.pathfin...</td>\n      <td>NaN</td>\n    </tr>\n    <tr>\n      <th>2</th>\n      <td>05wwpHHsBlxBbdkN</td>\n      <td>systems/pf2e/icons/default-icons/npc.svg</td>\n      <td>[{'_id': 'WkPeg600zGONsuJz', 'img': 'systems/p...</td>\n      <td>Giant Anaconda</td>\n      <td>{'abilities': {'cha': {'mod': -2}, 'con': {'mo...</td>\n      <td>npc</td>\n      <td>{'core': {'sourceId': 'Compendium.pf2e.pathfin...</td>\n      <td>NaN</td>\n    </tr>\n    <tr>\n      <th>3</th>\n      <td>0FGz2eXm0SB04sJW</td>\n      <td>systems/pf2e/icons/default-icons/npc.svg</td>\n      <td>[{'_id': 'joBYS96mXSnZC1WB', 'img': 'systems/p...</td>\n      <td>Ancient Green Dragon</td>\n      <td>{'abilities': {'cha': {'mod': 6}, 'con': {'mod...</td>\n      <td>npc</td>\n      <td>{'core': {'sourceId': 'Compendium.pf2e.pathfin...</td>\n      <td>NaN</td>\n    </tr>\n    <tr>\n      <th>4</th>\n      <td>0HjVFx8qIKDCfblg</td>\n      <td>systems/pf2e/icons/default-icons/npc.svg</td>\n      <td>[{'_id': 'xlUnQcjrxeMXu5Cd', 'img': 'systems/p...</td>\n      <td>Lantern Archon</td>\n      <td>{'abilities': {'cha': {'mod': 1}, 'con': {'mod...</td>\n      <td>npc</td>\n      <td>{'core': {'sourceId': 'Compendium.pf2e.pathfin...</td>\n      <td>NaN</td>\n    </tr>\n  </tbody>\n</table>\n</div>"
     },
     "execution_count": 3,
     "metadata": {},
     "output_type": "execute_result"
    }
   ],
   "source": [
    "bestiary.head()"
   ],
   "metadata": {
    "collapsed": false
   }
  },
  {
   "cell_type": "markdown",
   "source": [
    "*items* column have lists of items for each monster in bestiaries\n",
    "\n",
    "Collect a list of all items in bestiaries:"
   ],
   "metadata": {
    "collapsed": false
   }
  },
  {
   "cell_type": "code",
   "execution_count": 4,
   "outputs": [],
   "source": [
    "items_data = []\n",
    "for _, val in bestiary[\"items\"].iteritems():\n",
    "    items_data += val"
   ],
   "metadata": {
    "collapsed": false
   }
  },
  {
   "cell_type": "code",
   "execution_count": 5,
   "outputs": [
    {
     "name": "stdout",
     "output_type": "stream",
     "text": [
      "All items in 3 basic bestiaries: 21731 - chance that they are not unique\n"
     ]
    }
   ],
   "source": [
    "print(\n",
    "    f\"All items in 3 basic bestiaries: {len(items_data)} - chance that they are not unique\"\n",
    ")"
   ],
   "metadata": {
    "collapsed": false
   }
  },
  {
   "cell_type": "code",
   "execution_count": 7,
   "outputs": [],
   "source": [
    "items = pd.DataFrame.from_dict(data=items_data)  # load data to DataFrame"
   ],
   "metadata": {
    "collapsed": false
   }
  },
  {
   "cell_type": "code",
   "execution_count": 8,
   "outputs": [
    {
     "name": "stdout",
     "output_type": "stream",
     "text": [
      "<class 'pandas.core.frame.DataFrame'>\n",
      "RangeIndex: 21731 entries, 0 to 21730\n",
      "Data columns (total 7 columns):\n",
      " #   Column  Non-Null Count  Dtype \n",
      "---  ------  --------------  ----- \n",
      " 0   _id     21731 non-null  object\n",
      " 1   img     21731 non-null  object\n",
      " 2   name    21731 non-null  object\n",
      " 3   sort    21731 non-null  int64 \n",
      " 4   system  21731 non-null  object\n",
      " 5   type    21731 non-null  object\n",
      " 6   flags   10037 non-null  object\n",
      "dtypes: int64(1), object(6)\n",
      "memory usage: 1.2+ MB\n"
     ]
    }
   ],
   "source": [
    "items.info()  # info about items data structure"
   ],
   "metadata": {
    "collapsed": false
   }
  },
  {
   "cell_type": "code",
   "execution_count": 9,
   "outputs": [
    {
     "data": {
      "text/plain": "                _id                                                img  \\\n0  B7rzf0nBJmzg8x0y  systems/pf2e/icons/default-icons/spellcastingE...   \n1  ac9hRct9QTDrzhy1      systems/pf2e/icons/spells/obscuring-mist.webp   \n2  ui2iVt9gJcMIs6H5        systems/pf2e/icons/spells/gust-of-wind.webp   \n3  pmqefsGShf77p3Zd         systems/pf2e/icons/default-icons/melee.svg   \n4  h6wQ76GXx0XhL0rW         systems/pf2e/icons/default-icons/melee.svg   \n\n                       name    sort  \\\n0      Arcane Innate Spells  100000   \n1  Obscuring Mist (At Will)  200000   \n2    Gust of Wind (At Will)  300000   \n3                      Jaws  400000   \n4                      Claw  500000   \n\n                                              system               type  \\\n0  {'autoHeightenLevel': {'value': None}, 'descri...  spellcastingEntry   \n1  {'ability': {'value': ''}, 'area': {'type': 'b...              spell   \n2  {'ability': {'value': ''}, 'area': {'type': 'l...              spell   \n3  {'attack': {'value': ''}, 'attackEffects': {'c...              melee   \n4  {'attack': {'value': ''}, 'attackEffects': {'c...              melee   \n\n                                               flags  \n0                                                NaN  \n1  {'core': {'sourceId': 'Compendium.pf2e.spells-...  \n2  {'core': {'sourceId': 'Compendium.pf2e.spells-...  \n3                                                NaN  \n4                                                NaN  ",
      "text/html": "<div>\n<style scoped>\n    .dataframe tbody tr th:only-of-type {\n        vertical-align: middle;\n    }\n\n    .dataframe tbody tr th {\n        vertical-align: top;\n    }\n\n    .dataframe thead th {\n        text-align: right;\n    }\n</style>\n<table border=\"1\" class=\"dataframe\">\n  <thead>\n    <tr style=\"text-align: right;\">\n      <th></th>\n      <th>_id</th>\n      <th>img</th>\n      <th>name</th>\n      <th>sort</th>\n      <th>system</th>\n      <th>type</th>\n      <th>flags</th>\n    </tr>\n  </thead>\n  <tbody>\n    <tr>\n      <th>0</th>\n      <td>B7rzf0nBJmzg8x0y</td>\n      <td>systems/pf2e/icons/default-icons/spellcastingE...</td>\n      <td>Arcane Innate Spells</td>\n      <td>100000</td>\n      <td>{'autoHeightenLevel': {'value': None}, 'descri...</td>\n      <td>spellcastingEntry</td>\n      <td>NaN</td>\n    </tr>\n    <tr>\n      <th>1</th>\n      <td>ac9hRct9QTDrzhy1</td>\n      <td>systems/pf2e/icons/spells/obscuring-mist.webp</td>\n      <td>Obscuring Mist (At Will)</td>\n      <td>200000</td>\n      <td>{'ability': {'value': ''}, 'area': {'type': 'b...</td>\n      <td>spell</td>\n      <td>{'core': {'sourceId': 'Compendium.pf2e.spells-...</td>\n    </tr>\n    <tr>\n      <th>2</th>\n      <td>ui2iVt9gJcMIs6H5</td>\n      <td>systems/pf2e/icons/spells/gust-of-wind.webp</td>\n      <td>Gust of Wind (At Will)</td>\n      <td>300000</td>\n      <td>{'ability': {'value': ''}, 'area': {'type': 'l...</td>\n      <td>spell</td>\n      <td>{'core': {'sourceId': 'Compendium.pf2e.spells-...</td>\n    </tr>\n    <tr>\n      <th>3</th>\n      <td>pmqefsGShf77p3Zd</td>\n      <td>systems/pf2e/icons/default-icons/melee.svg</td>\n      <td>Jaws</td>\n      <td>400000</td>\n      <td>{'attack': {'value': ''}, 'attackEffects': {'c...</td>\n      <td>melee</td>\n      <td>NaN</td>\n    </tr>\n    <tr>\n      <th>4</th>\n      <td>h6wQ76GXx0XhL0rW</td>\n      <td>systems/pf2e/icons/default-icons/melee.svg</td>\n      <td>Claw</td>\n      <td>500000</td>\n      <td>{'attack': {'value': ''}, 'attackEffects': {'c...</td>\n      <td>melee</td>\n      <td>NaN</td>\n    </tr>\n  </tbody>\n</table>\n</div>"
     },
     "execution_count": 9,
     "metadata": {},
     "output_type": "execute_result"
    }
   ],
   "source": [
    "items.head()  # 5 first items"
   ],
   "metadata": {
    "collapsed": false
   }
  },
  {
   "cell_type": "markdown",
   "source": [
    "## System"
   ],
   "metadata": {
    "collapsed": false
   }
  },
  {
   "cell_type": "code",
   "execution_count": 11,
   "outputs": [],
   "source": [
    "system = unpack_column(items, column_name=\"system\")"
   ],
   "metadata": {
    "collapsed": false
   }
  },
  {
   "cell_type": "code",
   "execution_count": 13,
   "outputs": [
    {
     "data": {
      "text/plain": "  autoHeightenLevel                                        description  \\\n0   {'value': None}                                      {'value': ''}   \n1               NaN  {'value': '<p>You call forth a cloud of mist. ...   \n2               NaN  {'value': '<p>A violent wind issues forth from...   \n3               NaN                                      {'value': ''}   \n4               NaN                                      {'value': ''}   \n\n  displayLevels                                prepared   proficiency rules  \\\n0            {}  {'flexible': False, 'value': 'innate'}  {'value': 0}    []   \n1           NaN                           {'value': ''}           NaN    []   \n2           NaN                           {'value': ''}           NaN    []   \n3           NaN                                     NaN           NaN    []   \n4           NaN                                     NaN           NaN    []   \n\n  showSlotlessLevels showUnpreparedSpells  \\\n0   {'value': False}      {'value': True}   \n1                NaN                  NaN   \n2                NaN                  NaN   \n3                NaN                  NaN   \n4                NaN                  NaN   \n\n                                               slots            slug  ...  \\\n0  {'slot0': {'max': 0, 'prepared': [], 'value': ...            None  ...   \n1                                                NaN  obscuring-mist  ...   \n2                                                NaN    gust-of-wind  ...   \n3                                                NaN            None  ...   \n4                                                NaN            None  ...   \n\n  unidentified areatype brokenThreshold bulkCapacity collapsed identification  \\\n0          NaN      NaN             NaN          NaN       NaN            NaN   \n1          NaN      NaN             NaN          NaN       NaN            NaN   \n2          NaN      NaN             NaN          NaN       NaN            NaN   \n3          NaN      NaN             NaN          NaN       NaN            NaN   \n4          NaN      NaN             NaN          NaN       NaN            NaN   \n\n  identified invested maxHp stowing  \n0        NaN      NaN   NaN     NaN  \n1        NaN      NaN   NaN     NaN  \n2        NaN      NaN   NaN     NaN  \n3        NaN      NaN   NaN     NaN  \n4        NaN      NaN   NaN     NaN  \n\n[5 rows x 109 columns]",
      "text/html": "<div>\n<style scoped>\n    .dataframe tbody tr th:only-of-type {\n        vertical-align: middle;\n    }\n\n    .dataframe tbody tr th {\n        vertical-align: top;\n    }\n\n    .dataframe thead th {\n        text-align: right;\n    }\n</style>\n<table border=\"1\" class=\"dataframe\">\n  <thead>\n    <tr style=\"text-align: right;\">\n      <th></th>\n      <th>autoHeightenLevel</th>\n      <th>description</th>\n      <th>displayLevels</th>\n      <th>prepared</th>\n      <th>proficiency</th>\n      <th>rules</th>\n      <th>showSlotlessLevels</th>\n      <th>showUnpreparedSpells</th>\n      <th>slots</th>\n      <th>slug</th>\n      <th>...</th>\n      <th>unidentified</th>\n      <th>areatype</th>\n      <th>brokenThreshold</th>\n      <th>bulkCapacity</th>\n      <th>collapsed</th>\n      <th>identification</th>\n      <th>identified</th>\n      <th>invested</th>\n      <th>maxHp</th>\n      <th>stowing</th>\n    </tr>\n  </thead>\n  <tbody>\n    <tr>\n      <th>0</th>\n      <td>{'value': None}</td>\n      <td>{'value': ''}</td>\n      <td>{}</td>\n      <td>{'flexible': False, 'value': 'innate'}</td>\n      <td>{'value': 0}</td>\n      <td>[]</td>\n      <td>{'value': False}</td>\n      <td>{'value': True}</td>\n      <td>{'slot0': {'max': 0, 'prepared': [], 'value': ...</td>\n      <td>None</td>\n      <td>...</td>\n      <td>NaN</td>\n      <td>NaN</td>\n      <td>NaN</td>\n      <td>NaN</td>\n      <td>NaN</td>\n      <td>NaN</td>\n      <td>NaN</td>\n      <td>NaN</td>\n      <td>NaN</td>\n      <td>NaN</td>\n    </tr>\n    <tr>\n      <th>1</th>\n      <td>NaN</td>\n      <td>{'value': '&lt;p&gt;You call forth a cloud of mist. ...</td>\n      <td>NaN</td>\n      <td>{'value': ''}</td>\n      <td>NaN</td>\n      <td>[]</td>\n      <td>NaN</td>\n      <td>NaN</td>\n      <td>NaN</td>\n      <td>obscuring-mist</td>\n      <td>...</td>\n      <td>NaN</td>\n      <td>NaN</td>\n      <td>NaN</td>\n      <td>NaN</td>\n      <td>NaN</td>\n      <td>NaN</td>\n      <td>NaN</td>\n      <td>NaN</td>\n      <td>NaN</td>\n      <td>NaN</td>\n    </tr>\n    <tr>\n      <th>2</th>\n      <td>NaN</td>\n      <td>{'value': '&lt;p&gt;A violent wind issues forth from...</td>\n      <td>NaN</td>\n      <td>{'value': ''}</td>\n      <td>NaN</td>\n      <td>[]</td>\n      <td>NaN</td>\n      <td>NaN</td>\n      <td>NaN</td>\n      <td>gust-of-wind</td>\n      <td>...</td>\n      <td>NaN</td>\n      <td>NaN</td>\n      <td>NaN</td>\n      <td>NaN</td>\n      <td>NaN</td>\n      <td>NaN</td>\n      <td>NaN</td>\n      <td>NaN</td>\n      <td>NaN</td>\n      <td>NaN</td>\n    </tr>\n    <tr>\n      <th>3</th>\n      <td>NaN</td>\n      <td>{'value': ''}</td>\n      <td>NaN</td>\n      <td>NaN</td>\n      <td>NaN</td>\n      <td>[]</td>\n      <td>NaN</td>\n      <td>NaN</td>\n      <td>NaN</td>\n      <td>None</td>\n      <td>...</td>\n      <td>NaN</td>\n      <td>NaN</td>\n      <td>NaN</td>\n      <td>NaN</td>\n      <td>NaN</td>\n      <td>NaN</td>\n      <td>NaN</td>\n      <td>NaN</td>\n      <td>NaN</td>\n      <td>NaN</td>\n    </tr>\n    <tr>\n      <th>4</th>\n      <td>NaN</td>\n      <td>{'value': ''}</td>\n      <td>NaN</td>\n      <td>NaN</td>\n      <td>NaN</td>\n      <td>[]</td>\n      <td>NaN</td>\n      <td>NaN</td>\n      <td>NaN</td>\n      <td>None</td>\n      <td>...</td>\n      <td>NaN</td>\n      <td>NaN</td>\n      <td>NaN</td>\n      <td>NaN</td>\n      <td>NaN</td>\n      <td>NaN</td>\n      <td>NaN</td>\n      <td>NaN</td>\n      <td>NaN</td>\n      <td>NaN</td>\n    </tr>\n  </tbody>\n</table>\n<p>5 rows × 109 columns</p>\n</div>"
     },
     "execution_count": 13,
     "metadata": {},
     "output_type": "execute_result"
    }
   ],
   "source": [
    "system.head()"
   ],
   "metadata": {
    "collapsed": false
   }
  },
  {
   "cell_type": "code",
   "execution_count": 14,
   "outputs": [
    {
     "name": "stdout",
     "output_type": "stream",
     "text": [
      "<class 'pandas.core.frame.DataFrame'>\n",
      "RangeIndex: 21731 entries, 0 to 21730\n",
      "Columns: 109 entries, autoHeightenLevel to stowing\n",
      "dtypes: float64(1), object(108)\n",
      "memory usage: 18.1+ MB\n"
     ]
    }
   ],
   "source": [
    "system.info()"
   ],
   "metadata": {
    "collapsed": false
   }
  },
  {
   "cell_type": "code",
   "execution_count": null,
   "outputs": [],
   "source": [
    "# 109 columns"
   ],
   "metadata": {
    "collapsed": false
   }
  },
  {
   "cell_type": "markdown",
   "source": [
    "### autoHeightenLevel"
   ],
   "metadata": {
    "collapsed": false
   }
  },
  {
   "cell_type": "code",
   "execution_count": 16,
   "outputs": [],
   "source": [
    "aHL = unpack_column_with_null(system, column_name=\"autoHeightenLevel\")"
   ],
   "metadata": {
    "collapsed": false
   }
  },
  {
   "cell_type": "code",
   "execution_count": 17,
   "outputs": [
    {
     "name": "stdout",
     "output_type": "stream",
     "text": [
      "<class 'pandas.core.frame.DataFrame'>\n",
      "Int64Index: 21731 entries, 0 to 21730\n",
      "Data columns (total 1 columns):\n",
      " #   Column  Non-Null Count  Dtype  \n",
      "---  ------  --------------  -----  \n",
      " 0   value   86 non-null     float64\n",
      "dtypes: float64(1)\n",
      "memory usage: 339.5 KB\n"
     ]
    }
   ],
   "source": [
    "aHL.info()"
   ],
   "metadata": {
    "collapsed": false
   }
  },
  {
   "cell_type": "code",
   "execution_count": 18,
   "outputs": [
    {
     "data": {
      "text/plain": "4.0     20\n3.0     11\n5.0     11\n6.0     11\n7.0      9\n8.0      8\n2.0      7\n9.0      6\n1.0      2\n10.0     1\nName: value, dtype: int64"
     },
     "execution_count": 18,
     "metadata": {},
     "output_type": "execute_result"
    }
   ],
   "source": [
    "aHL.value.value_counts()"
   ],
   "metadata": {
    "collapsed": false
   }
  },
  {
   "cell_type": "code",
   "execution_count": 24,
   "outputs": [
    {
     "data": {
      "text/plain": "spellcastingEntry    86\nName: type, dtype: int64"
     },
     "execution_count": 24,
     "metadata": {},
     "output_type": "execute_result"
    }
   ],
   "source": [
    "items[aHL.value.notnull()].type.value_counts()"
   ],
   "metadata": {
    "collapsed": false
   }
  },
  {
   "cell_type": "code",
   "execution_count": 26,
   "outputs": [
    {
     "data": {
      "text/plain": "                    _id                                                img  \\\n0      B7rzf0nBJmzg8x0y  systems/pf2e/icons/default-icons/spellcastingE...   \n46     joBYS96mXSnZC1WB  systems/pf2e/icons/default-icons/spellcastingE...   \n78     xlUnQcjrxeMXu5Cd  systems/pf2e/icons/default-icons/spellcastingE...   \n92     pdwlm8jY2MDoJUAN  systems/pf2e/icons/default-icons/spellcastingE...   \n93     FReUvGRM1Bo8CeGZ  systems/pf2e/icons/default-icons/spellcastingE...   \n...                 ...                                                ...   \n21638  kBmOKMaUjcEjTeia  systems/pf2e/icons/default-icons/spellcastingE...   \n21670  Re0uYYA9c4nnaRne  systems/pf2e/icons/default-icons/spellcastingE...   \n21693  p3v8D49u0adS76qw  systems/pf2e/icons/default-icons/spellcastingE...   \n21710  53ZHZQrxzfyMUm3s  systems/pf2e/icons/default-icons/spellcastingE...   \n21711  pkmr68rFCQdo9nId  systems/pf2e/icons/default-icons/spellcastingE...   \n\n                            name    sort  \\\n0           Arcane Innate Spells  100000   \n46          Arcane Innate Spells  100000   \n78          Divine Innate Spells  100000   \n92     Arcane Spontaneous Spells  100000   \n93          Occult Innate Spells  200000   \n...                          ...     ...   \n21638       Occult Innate Spells  100000   \n21670       Primal Innate Spells  100000   \n21693       Divine Innate Spells  100000   \n21710       Occult Innate Spells  100000   \n21711                    Rituals  200000   \n\n                                                  system               type  \\\n0      {'autoHeightenLevel': {'value': None}, 'descri...  spellcastingEntry   \n46     {'autoHeightenLevel': {'value': None}, 'descri...  spellcastingEntry   \n78     {'autoHeightenLevel': {'value': None}, 'descri...  spellcastingEntry   \n92     {'autoHeightenLevel': {'value': None}, 'descri...  spellcastingEntry   \n93     {'autoHeightenLevel': {'value': None}, 'descri...  spellcastingEntry   \n...                                                  ...                ...   \n21638  {'autoHeightenLevel': {'value': None}, 'descri...  spellcastingEntry   \n21670  {'autoHeightenLevel': {'value': None}, 'descri...  spellcastingEntry   \n21693  {'autoHeightenLevel': {'value': None}, 'descri...  spellcastingEntry   \n21710  {'autoHeightenLevel': {'value': None}, 'descri...  spellcastingEntry   \n21711  {'autoHeightenLevel': {'value': None}, 'descri...  spellcastingEntry   \n\n      flags  \n0       NaN  \n46      NaN  \n78      NaN  \n92      NaN  \n93      NaN  \n...     ...  \n21638   NaN  \n21670   NaN  \n21693   NaN  \n21710   NaN  \n21711   NaN  \n\n[782 rows x 7 columns]",
      "text/html": "<div>\n<style scoped>\n    .dataframe tbody tr th:only-of-type {\n        vertical-align: middle;\n    }\n\n    .dataframe tbody tr th {\n        vertical-align: top;\n    }\n\n    .dataframe thead th {\n        text-align: right;\n    }\n</style>\n<table border=\"1\" class=\"dataframe\">\n  <thead>\n    <tr style=\"text-align: right;\">\n      <th></th>\n      <th>_id</th>\n      <th>img</th>\n      <th>name</th>\n      <th>sort</th>\n      <th>system</th>\n      <th>type</th>\n      <th>flags</th>\n    </tr>\n  </thead>\n  <tbody>\n    <tr>\n      <th>0</th>\n      <td>B7rzf0nBJmzg8x0y</td>\n      <td>systems/pf2e/icons/default-icons/spellcastingE...</td>\n      <td>Arcane Innate Spells</td>\n      <td>100000</td>\n      <td>{'autoHeightenLevel': {'value': None}, 'descri...</td>\n      <td>spellcastingEntry</td>\n      <td>NaN</td>\n    </tr>\n    <tr>\n      <th>46</th>\n      <td>joBYS96mXSnZC1WB</td>\n      <td>systems/pf2e/icons/default-icons/spellcastingE...</td>\n      <td>Arcane Innate Spells</td>\n      <td>100000</td>\n      <td>{'autoHeightenLevel': {'value': None}, 'descri...</td>\n      <td>spellcastingEntry</td>\n      <td>NaN</td>\n    </tr>\n    <tr>\n      <th>78</th>\n      <td>xlUnQcjrxeMXu5Cd</td>\n      <td>systems/pf2e/icons/default-icons/spellcastingE...</td>\n      <td>Divine Innate Spells</td>\n      <td>100000</td>\n      <td>{'autoHeightenLevel': {'value': None}, 'descri...</td>\n      <td>spellcastingEntry</td>\n      <td>NaN</td>\n    </tr>\n    <tr>\n      <th>92</th>\n      <td>pdwlm8jY2MDoJUAN</td>\n      <td>systems/pf2e/icons/default-icons/spellcastingE...</td>\n      <td>Arcane Spontaneous Spells</td>\n      <td>100000</td>\n      <td>{'autoHeightenLevel': {'value': None}, 'descri...</td>\n      <td>spellcastingEntry</td>\n      <td>NaN</td>\n    </tr>\n    <tr>\n      <th>93</th>\n      <td>FReUvGRM1Bo8CeGZ</td>\n      <td>systems/pf2e/icons/default-icons/spellcastingE...</td>\n      <td>Occult Innate Spells</td>\n      <td>200000</td>\n      <td>{'autoHeightenLevel': {'value': None}, 'descri...</td>\n      <td>spellcastingEntry</td>\n      <td>NaN</td>\n    </tr>\n    <tr>\n      <th>...</th>\n      <td>...</td>\n      <td>...</td>\n      <td>...</td>\n      <td>...</td>\n      <td>...</td>\n      <td>...</td>\n      <td>...</td>\n    </tr>\n    <tr>\n      <th>21638</th>\n      <td>kBmOKMaUjcEjTeia</td>\n      <td>systems/pf2e/icons/default-icons/spellcastingE...</td>\n      <td>Occult Innate Spells</td>\n      <td>100000</td>\n      <td>{'autoHeightenLevel': {'value': None}, 'descri...</td>\n      <td>spellcastingEntry</td>\n      <td>NaN</td>\n    </tr>\n    <tr>\n      <th>21670</th>\n      <td>Re0uYYA9c4nnaRne</td>\n      <td>systems/pf2e/icons/default-icons/spellcastingE...</td>\n      <td>Primal Innate Spells</td>\n      <td>100000</td>\n      <td>{'autoHeightenLevel': {'value': None}, 'descri...</td>\n      <td>spellcastingEntry</td>\n      <td>NaN</td>\n    </tr>\n    <tr>\n      <th>21693</th>\n      <td>p3v8D49u0adS76qw</td>\n      <td>systems/pf2e/icons/default-icons/spellcastingE...</td>\n      <td>Divine Innate Spells</td>\n      <td>100000</td>\n      <td>{'autoHeightenLevel': {'value': None}, 'descri...</td>\n      <td>spellcastingEntry</td>\n      <td>NaN</td>\n    </tr>\n    <tr>\n      <th>21710</th>\n      <td>53ZHZQrxzfyMUm3s</td>\n      <td>systems/pf2e/icons/default-icons/spellcastingE...</td>\n      <td>Occult Innate Spells</td>\n      <td>100000</td>\n      <td>{'autoHeightenLevel': {'value': None}, 'descri...</td>\n      <td>spellcastingEntry</td>\n      <td>NaN</td>\n    </tr>\n    <tr>\n      <th>21711</th>\n      <td>pkmr68rFCQdo9nId</td>\n      <td>systems/pf2e/icons/default-icons/spellcastingE...</td>\n      <td>Rituals</td>\n      <td>200000</td>\n      <td>{'autoHeightenLevel': {'value': None}, 'descri...</td>\n      <td>spellcastingEntry</td>\n      <td>NaN</td>\n    </tr>\n  </tbody>\n</table>\n<p>782 rows × 7 columns</p>\n</div>"
     },
     "execution_count": 26,
     "metadata": {},
     "output_type": "execute_result"
    }
   ],
   "source": [
    "items[items.type == \"spellcastingEntry\"]"
   ],
   "metadata": {
    "collapsed": false
   }
  },
  {
   "cell_type": "code",
   "execution_count": 32,
   "outputs": [
    {
     "name": "stderr",
     "output_type": "stream",
     "text": [
      "C:\\Users\\jolka\\AppData\\Local\\Temp\\ipykernel_10036\\4227473434.py:1: UserWarning: Boolean Series key will be reindexed to match DataFrame index.\n",
      "  items[aHL.value.isnull()][items.type != \"spellcastingEntry\"]\n"
     ]
    },
    {
     "data": {
      "text/plain": "                    _id                                            img  \\\n1      ac9hRct9QTDrzhy1  systems/pf2e/icons/spells/obscuring-mist.webp   \n2      ui2iVt9gJcMIs6H5    systems/pf2e/icons/spells/gust-of-wind.webp   \n3      pmqefsGShf77p3Zd     systems/pf2e/icons/default-icons/melee.svg   \n4      h6wQ76GXx0XhL0rW     systems/pf2e/icons/default-icons/melee.svg   \n5      b4GFgu6HgDqvji6X     systems/pf2e/icons/default-icons/melee.svg   \n...                 ...                                            ...   \n21726  FJEaQqHttC6Z3MP3        systems/pf2e/icons/actions/Passive.webp   \n21727  dXxtpW4U3D5id6mQ      systems/pf2e/icons/default-icons/lore.svg   \n21728  ogH259ZTMG3DAdRL      systems/pf2e/icons/default-icons/lore.svg   \n21729  dCGRUpbXAHrLczgs      systems/pf2e/icons/default-icons/lore.svg   \n21730  vRINsQt7kOgbqixu      systems/pf2e/icons/default-icons/lore.svg   \n\n                           name     sort  \\\n1      Obscuring Mist (At Will)   200000   \n2        Gust of Wind (At Will)   300000   \n3                          Jaws   400000   \n4                          Claw   500000   \n5                          Tail   600000   \n...                         ...      ...   \n21726              Sneak Attack  1700000   \n21727                    Arcana  1800000   \n21728              Intimidation  1900000   \n21729                 Occultism  2000000   \n21730                   Stealth  2100000   \n\n                                                  system    type  \\\n1      {'ability': {'value': ''}, 'area': {'type': 'b...   spell   \n2      {'ability': {'value': ''}, 'area': {'type': 'l...   spell   \n3      {'attack': {'value': ''}, 'attackEffects': {'c...   melee   \n4      {'attack': {'value': ''}, 'attackEffects': {'c...   melee   \n5      {'attack': {'value': ''}, 'attackEffects': {'c...   melee   \n...                                                  ...     ...   \n21726  {'actionCategory': {'value': 'offensive'}, 'ac...  action   \n21727  {'description': {'value': ''}, 'mod': {'value'...    lore   \n21728  {'description': {'value': ''}, 'mod': {'value'...    lore   \n21729  {'description': {'value': ''}, 'mod': {'value'...    lore   \n21730  {'description': {'value': ''}, 'mod': {'value'...    lore   \n\n                                                   flags  \n1      {'core': {'sourceId': 'Compendium.pf2e.spells-...  \n2      {'core': {'sourceId': 'Compendium.pf2e.spells-...  \n3                                                    NaN  \n4                                                    NaN  \n5                                                    NaN  \n...                                                  ...  \n21726  {'core': {'sourceId': 'Compendium.pf2e.bestiar...  \n21727                                                NaN  \n21728                                                NaN  \n21729                                                NaN  \n21730                                                NaN  \n\n[20949 rows x 7 columns]",
      "text/html": "<div>\n<style scoped>\n    .dataframe tbody tr th:only-of-type {\n        vertical-align: middle;\n    }\n\n    .dataframe tbody tr th {\n        vertical-align: top;\n    }\n\n    .dataframe thead th {\n        text-align: right;\n    }\n</style>\n<table border=\"1\" class=\"dataframe\">\n  <thead>\n    <tr style=\"text-align: right;\">\n      <th></th>\n      <th>_id</th>\n      <th>img</th>\n      <th>name</th>\n      <th>sort</th>\n      <th>system</th>\n      <th>type</th>\n      <th>flags</th>\n    </tr>\n  </thead>\n  <tbody>\n    <tr>\n      <th>1</th>\n      <td>ac9hRct9QTDrzhy1</td>\n      <td>systems/pf2e/icons/spells/obscuring-mist.webp</td>\n      <td>Obscuring Mist (At Will)</td>\n      <td>200000</td>\n      <td>{'ability': {'value': ''}, 'area': {'type': 'b...</td>\n      <td>spell</td>\n      <td>{'core': {'sourceId': 'Compendium.pf2e.spells-...</td>\n    </tr>\n    <tr>\n      <th>2</th>\n      <td>ui2iVt9gJcMIs6H5</td>\n      <td>systems/pf2e/icons/spells/gust-of-wind.webp</td>\n      <td>Gust of Wind (At Will)</td>\n      <td>300000</td>\n      <td>{'ability': {'value': ''}, 'area': {'type': 'l...</td>\n      <td>spell</td>\n      <td>{'core': {'sourceId': 'Compendium.pf2e.spells-...</td>\n    </tr>\n    <tr>\n      <th>3</th>\n      <td>pmqefsGShf77p3Zd</td>\n      <td>systems/pf2e/icons/default-icons/melee.svg</td>\n      <td>Jaws</td>\n      <td>400000</td>\n      <td>{'attack': {'value': ''}, 'attackEffects': {'c...</td>\n      <td>melee</td>\n      <td>NaN</td>\n    </tr>\n    <tr>\n      <th>4</th>\n      <td>h6wQ76GXx0XhL0rW</td>\n      <td>systems/pf2e/icons/default-icons/melee.svg</td>\n      <td>Claw</td>\n      <td>500000</td>\n      <td>{'attack': {'value': ''}, 'attackEffects': {'c...</td>\n      <td>melee</td>\n      <td>NaN</td>\n    </tr>\n    <tr>\n      <th>5</th>\n      <td>b4GFgu6HgDqvji6X</td>\n      <td>systems/pf2e/icons/default-icons/melee.svg</td>\n      <td>Tail</td>\n      <td>600000</td>\n      <td>{'attack': {'value': ''}, 'attackEffects': {'c...</td>\n      <td>melee</td>\n      <td>NaN</td>\n    </tr>\n    <tr>\n      <th>...</th>\n      <td>...</td>\n      <td>...</td>\n      <td>...</td>\n      <td>...</td>\n      <td>...</td>\n      <td>...</td>\n      <td>...</td>\n    </tr>\n    <tr>\n      <th>21726</th>\n      <td>FJEaQqHttC6Z3MP3</td>\n      <td>systems/pf2e/icons/actions/Passive.webp</td>\n      <td>Sneak Attack</td>\n      <td>1700000</td>\n      <td>{'actionCategory': {'value': 'offensive'}, 'ac...</td>\n      <td>action</td>\n      <td>{'core': {'sourceId': 'Compendium.pf2e.bestiar...</td>\n    </tr>\n    <tr>\n      <th>21727</th>\n      <td>dXxtpW4U3D5id6mQ</td>\n      <td>systems/pf2e/icons/default-icons/lore.svg</td>\n      <td>Arcana</td>\n      <td>1800000</td>\n      <td>{'description': {'value': ''}, 'mod': {'value'...</td>\n      <td>lore</td>\n      <td>NaN</td>\n    </tr>\n    <tr>\n      <th>21728</th>\n      <td>ogH259ZTMG3DAdRL</td>\n      <td>systems/pf2e/icons/default-icons/lore.svg</td>\n      <td>Intimidation</td>\n      <td>1900000</td>\n      <td>{'description': {'value': ''}, 'mod': {'value'...</td>\n      <td>lore</td>\n      <td>NaN</td>\n    </tr>\n    <tr>\n      <th>21729</th>\n      <td>dCGRUpbXAHrLczgs</td>\n      <td>systems/pf2e/icons/default-icons/lore.svg</td>\n      <td>Occultism</td>\n      <td>2000000</td>\n      <td>{'description': {'value': ''}, 'mod': {'value'...</td>\n      <td>lore</td>\n      <td>NaN</td>\n    </tr>\n    <tr>\n      <th>21730</th>\n      <td>vRINsQt7kOgbqixu</td>\n      <td>systems/pf2e/icons/default-icons/lore.svg</td>\n      <td>Stealth</td>\n      <td>2100000</td>\n      <td>{'description': {'value': ''}, 'mod': {'value'...</td>\n      <td>lore</td>\n      <td>NaN</td>\n    </tr>\n  </tbody>\n</table>\n<p>20949 rows × 7 columns</p>\n</div>"
     },
     "execution_count": 32,
     "metadata": {},
     "output_type": "execute_result"
    }
   ],
   "source": [
    "items[aHL.value.isnull()][items.type != \"spellcastingEntry\"]"
   ],
   "metadata": {
    "collapsed": false
   }
  },
  {
   "cell_type": "markdown",
   "source": [
    "=> *autoHeightenLevel* - probobly parameter only for **spellcastingEntry**\n",
    "\n",
    "There are spellcastingEntry with None value for autoHeightenLevel (but they have this parameter 'autoHeightenLevel': {'value': None})\n",
    "\n",
    "There are no items with different type and value of autoHeightenLevel\n",
    "\n",
    "*not that important*"
   ],
   "metadata": {
    "collapsed": false
   }
  },
  {
   "cell_type": "code",
   "execution_count": 33,
   "outputs": [],
   "source": [
    "system.drop([\"autoHeightenLevel\"], axis=\"columns\", inplace=True)"
   ],
   "metadata": {
    "collapsed": false
   }
  },
  {
   "cell_type": "markdown",
   "source": [
    "### description"
   ],
   "metadata": {
    "collapsed": false
   }
  },
  {
   "cell_type": "code",
   "execution_count": 34,
   "outputs": [],
   "source": [
    "description = unpack_column_with_null(system, column_name=\"description\")"
   ],
   "metadata": {
    "collapsed": false
   }
  },
  {
   "cell_type": "code",
   "execution_count": 35,
   "outputs": [
    {
     "name": "stdout",
     "output_type": "stream",
     "text": [
      "<class 'pandas.core.frame.DataFrame'>\n",
      "Int64Index: 21731 entries, 0 to 21730\n",
      "Data columns (total 1 columns):\n",
      " #   Column  Non-Null Count  Dtype \n",
      "---  ------  --------------  ----- \n",
      " 0   value   21731 non-null  object\n",
      "dtypes: object(1)\n",
      "memory usage: 339.5+ KB\n"
     ]
    }
   ],
   "source": [
    "description.info()"
   ],
   "metadata": {
    "collapsed": false
   }
  },
  {
   "cell_type": "code",
   "execution_count": 36,
   "outputs": [
    {
     "data": {
      "text/plain": "                                               value\n0                                                   \n1  <p>You call forth a cloud of mist. All creatur...\n2  <p>A violent wind issues forth from your palm,...\n3                                                   \n4                                                   ",
      "text/html": "<div>\n<style scoped>\n    .dataframe tbody tr th:only-of-type {\n        vertical-align: middle;\n    }\n\n    .dataframe tbody tr th {\n        vertical-align: top;\n    }\n\n    .dataframe thead th {\n        text-align: right;\n    }\n</style>\n<table border=\"1\" class=\"dataframe\">\n  <thead>\n    <tr style=\"text-align: right;\">\n      <th></th>\n      <th>value</th>\n    </tr>\n  </thead>\n  <tbody>\n    <tr>\n      <th>0</th>\n      <td></td>\n    </tr>\n    <tr>\n      <th>1</th>\n      <td>&lt;p&gt;You call forth a cloud of mist. All creatur...</td>\n    </tr>\n    <tr>\n      <th>2</th>\n      <td>&lt;p&gt;A violent wind issues forth from your palm,...</td>\n    </tr>\n    <tr>\n      <th>3</th>\n      <td></td>\n    </tr>\n    <tr>\n      <th>4</th>\n      <td></td>\n    </tr>\n  </tbody>\n</table>\n</div>"
     },
     "execution_count": 36,
     "metadata": {},
     "output_type": "execute_result"
    }
   ],
   "source": [
    "description.head()"
   ],
   "metadata": {
    "collapsed": false
   }
  },
  {
   "cell_type": "code",
   "execution_count": 40,
   "outputs": [
    {
     "data": {
      "text/plain": "'<p>You call forth a cloud of mist. All creatures within the mist become @UUID[Compendium.pf2e.conditionitems.DmAIPqOBomZ7H95W]{Concealed}, and all creatures outside the mist become Concealed to creatures within it. You can Dismiss the cloud.</p>'"
     },
     "execution_count": 40,
     "metadata": {},
     "output_type": "execute_result"
    }
   ],
   "source": [
    "str(description.iloc[1, 0])"
   ],
   "metadata": {
    "collapsed": false
   }
  },
  {
   "cell_type": "code",
   "execution_count": 41,
   "outputs": [
    {
     "data": {
      "text/plain": "                                                                                                                                                                                                                                                                                                                                                                                                                                                                                                                                                                                                                                                                                                                                                                                                                                                                                                                                                                                                                                                                                                                                                                         8538\n<p>@Localize[PF2E.NPC.Abilities.Glossary.Darkvision]</p>                                                                                                                                                                                                                                                                                                                                                                                                                                                                                                                                                                                                                                                                                                                                                                                                                                                                                                                                                                                                                                                                                                                  810\n<p>@Localize[PF2E.NPC.Abilities.Glossary.Scent]</p>                                                                                                                                                                                                                                                                                                                                                                                                                                                                                                                                                                                                                                                                                                                                                                                                                                                                                                                                                                                                                                                                                                                       306\n<p>@Localize[PF2E.NPC.Abilities.Glossary.AtWillSpells]</p>                                                                                                                                                                                                                                                                                                                                                                                                                                                                                                                                                                                                                                                                                                                                                                                                                                                                                                                                                                                                                                                                                                                291\n<p>@Localize[PF2E.NPC.Abilities.Glossary.LowLightVision]</p>                                                                                                                                                                                                                                                                                                                                                                                                                                                                                                                                                                                                                                                                                                                                                                                                                                                                                                                                                                                                                                                                                                              233\n                                                                                                                                                                                                                                                                                                                                                                                                                                                                                                                                                                                                                                                                                                                                                                                                                                                                                                                                                                                                                                                                                                                                                                         ... \n<p>[[/r (1d6+4)[bludgeoning]]] damage, @Check[type:fortitude|dc:20|basic:true]</p>\\n<hr />\\n<p>@Localize[PF2E.NPC.Abilities.Glossary.Constrict]</p>                                                                                                                                                                                                                                                                                                                                                                                                                                                                                                                                                                                                                                                                                                                                                                                                                                                                                                                                                                                                                         1\n<p><strong>Saving Throw</strong> @Check[type:fortitude|dc:18|basic:true]</p>\\n<hr />\\n<p><strong>Maximum Duration</strong> 6 rounds</p>\\n<p><strong>Stage 1</strong> [[/r 1d10[poison]]] damage and @UUID[Compendium.pf2e.conditionitems.MIRkyAjyBeXivMa7]{Enfeebled 1} (1 round)</p>\\n<p><strong>Stage 2</strong> [[/r 2d10[poison]]] damage and enfeebled 1 (1 round)</p>\\n<p><strong>Stage 3</strong> [[/r 2d10[poison]]] damage and @UUID[Compendium.pf2e.conditionitems.MIRkyAjyBeXivMa7]{Enfeebled 2} (1 round)</p>                                                                                                                                                                                                                                                                                                                                                                                                                                                                                                                                                                                                                                                   1\n<p>Lemures have little drive of their own, but other devils can take command of them. A non-lemure devil can issue a command to all lemures within 60 feet of it with a single action, which has the auditory and concentrate traits. The devil picks one of the following orders lemures can understand, and the lemures follow that order. The command and its effects end once the commander is out of the lemure's sight, a new command is issued by the same or another devil, or the lemure dies.</p>\\n<ul>\\n<li><strong>Kill</strong> The lemure attacks one target the commander singles out and gains a +1 circumstance bonus to attack rolls against the target.</li>\\n<li><strong>Defend</strong> The lemure circles the commander and attacks any creature that comes near. It gains a +1 circumstance bonus to AC and saves.</li>\\n<li><strong>Fetch</strong> The lemure gains a +10-foot circumstance bonus to its Speed and attempts to get an object or person the commander singles out. It attacks anyone and anything that gets in the way.</li>\\n<li><strong>Work</strong> The lemure performs drudge work dictated by the commander.</li>\\n</ul>       1\n<p>The living wildfire ignores the @UUID[Compendium.pf2e.conditionitems.DmAIPqOBomZ7H95W]{Concealed} condition from smoke.</p>                                                                                                                                                                                                                                                                                                                                                                                                                                                                                                                                                                                                                                                                                                                                                                                                                                                                                                                                                                                                                                              1\n<p>The caller deals an additional 2d6 precision damage to flat-footed creatures.</p>\\n<hr />\\n<p>@Localize[PF2E.NPC.Abilities.Glossary.SneakAttack]</p>                                                                                                                                                                                                                                                                                                                                                                                                                                                                                                                                                                                                                                                                                                                                                                                                                                                                                                                                                                                                                     1\nName: value, Length: 4372, dtype: int64"
     },
     "execution_count": 41,
     "metadata": {},
     "output_type": "execute_result"
    }
   ],
   "source": [
    "description.value.value_counts()"
   ],
   "metadata": {
    "collapsed": false
   }
  },
  {
   "cell_type": "markdown",
   "source": [
    "description\n",
    "\n",
    "*I hope it is not important*\n",
    "*Analysis in other notebook*"
   ],
   "metadata": {
    "collapsed": false
   }
  },
  {
   "cell_type": "code",
   "execution_count": 42,
   "outputs": [],
   "source": [
    "system.drop([\"description\"], axis=\"columns\", inplace=True)"
   ],
   "metadata": {
    "collapsed": false
   }
  },
  {
   "cell_type": "markdown",
   "source": [
    "### displayLevels"
   ],
   "metadata": {
    "collapsed": false
   }
  },
  {
   "cell_type": "code",
   "execution_count": 53,
   "outputs": [],
   "source": [
    "dL = unpack_column(system, column_name=\"displayLevels\")"
   ],
   "metadata": {
    "collapsed": false
   }
  },
  {
   "cell_type": "code",
   "execution_count": 54,
   "outputs": [
    {
     "name": "stdout",
     "output_type": "stream",
     "text": [
      "<class 'pandas.core.frame.DataFrame'>\n",
      "RangeIndex: 21731 entries, 0 to 21730\n",
      "Data columns (total 12 columns):\n",
      " #   Column  Non-Null Count  Dtype  \n",
      "---  ------  --------------  -----  \n",
      " 0   0       0 non-null      float64\n",
      " 1   0       54 non-null     object \n",
      " 2   1       54 non-null     object \n",
      " 3   2       49 non-null     object \n",
      " 4   3       45 non-null     object \n",
      " 5   4       41 non-null     object \n",
      " 6   5       35 non-null     object \n",
      " 7   6       25 non-null     object \n",
      " 8   7       18 non-null     object \n",
      " 9   8       13 non-null     object \n",
      " 10  9       8 non-null      object \n",
      " 11  10      3 non-null      object \n",
      "dtypes: float64(1), object(11)\n",
      "memory usage: 2.0+ MB\n"
     ]
    }
   ],
   "source": [
    "dL.info()"
   ],
   "metadata": {
    "collapsed": false
   }
  },
  {
   "cell_type": "code",
   "execution_count": 55,
   "outputs": [
    {
     "data": {
      "text/plain": "0        {}\n46       {}\n78       {}\n92       {}\n93       {}\n         ..\n21638    {}\n21670    {}\n21693    {}\n21710    {}\n21711    {}\nName: displayLevels, Length: 782, dtype: object"
     },
     "execution_count": 55,
     "metadata": {},
     "output_type": "execute_result"
    }
   ],
   "source": [
    "system.displayLevels[system.displayLevels.notnull()]"
   ],
   "metadata": {
    "collapsed": false
   }
  },
  {
   "cell_type": "code",
   "execution_count": 65,
   "outputs": [],
   "source": [
    "import numpy as np\n",
    "\n",
    "\n",
    "# system.loc[system.displayLevels == {}] = np.nan\n",
    "system.loc[system.displayLevels == {}].displayLevels = np.nan\n",
    "dL = unpack_column(system[system.displayLevels.notnull()], column_name=\"displayLevels\")"
   ],
   "metadata": {
    "collapsed": false
   }
  },
  {
   "cell_type": "code",
   "execution_count": 66,
   "outputs": [
    {
     "name": "stdout",
     "output_type": "stream",
     "text": [
      "<class 'pandas.core.frame.DataFrame'>\n",
      "Int64Index: 55 entries, 161 to 14135\n",
      "Data columns (total 11 columns):\n",
      " #   Column  Non-Null Count  Dtype \n",
      "---  ------  --------------  ----- \n",
      " 0   0       54 non-null     object\n",
      " 1   1       54 non-null     object\n",
      " 2   2       49 non-null     object\n",
      " 3   3       45 non-null     object\n",
      " 4   4       41 non-null     object\n",
      " 5   5       35 non-null     object\n",
      " 6   6       25 non-null     object\n",
      " 7   7       18 non-null     object\n",
      " 8   8       13 non-null     object\n",
      " 9   9       8 non-null      object\n",
      " 10  10      3 non-null      object\n",
      "dtypes: object(11)\n",
      "memory usage: 5.2+ KB\n"
     ]
    }
   ],
   "source": [
    "dL.info()"
   ],
   "metadata": {
    "collapsed": false
   }
  },
  {
   "cell_type": "code",
   "execution_count": 67,
   "outputs": [
    {
     "data": {
      "text/plain": "          0      1      2      3      4      5      6      7      8      9  \\\n161   False  False  False  False    NaN    NaN    NaN    NaN    NaN    NaN   \n282   False  False  False  False  False  False  False  False  False  False   \n794   False  False  False  False  False    NaN    NaN    NaN    NaN    NaN   \n1303  False  False  False  False  False  False  False    NaN    NaN    NaN   \n1500  False  False  False  False    NaN    NaN    NaN    NaN    NaN    NaN   \n\n         10  \n161     NaN  \n282   False  \n794     NaN  \n1303    NaN  \n1500    NaN  ",
      "text/html": "<div>\n<style scoped>\n    .dataframe tbody tr th:only-of-type {\n        vertical-align: middle;\n    }\n\n    .dataframe tbody tr th {\n        vertical-align: top;\n    }\n\n    .dataframe thead th {\n        text-align: right;\n    }\n</style>\n<table border=\"1\" class=\"dataframe\">\n  <thead>\n    <tr style=\"text-align: right;\">\n      <th></th>\n      <th>0</th>\n      <th>1</th>\n      <th>2</th>\n      <th>3</th>\n      <th>4</th>\n      <th>5</th>\n      <th>6</th>\n      <th>7</th>\n      <th>8</th>\n      <th>9</th>\n      <th>10</th>\n    </tr>\n  </thead>\n  <tbody>\n    <tr>\n      <th>161</th>\n      <td>False</td>\n      <td>False</td>\n      <td>False</td>\n      <td>False</td>\n      <td>NaN</td>\n      <td>NaN</td>\n      <td>NaN</td>\n      <td>NaN</td>\n      <td>NaN</td>\n      <td>NaN</td>\n      <td>NaN</td>\n    </tr>\n    <tr>\n      <th>282</th>\n      <td>False</td>\n      <td>False</td>\n      <td>False</td>\n      <td>False</td>\n      <td>False</td>\n      <td>False</td>\n      <td>False</td>\n      <td>False</td>\n      <td>False</td>\n      <td>False</td>\n      <td>False</td>\n    </tr>\n    <tr>\n      <th>794</th>\n      <td>False</td>\n      <td>False</td>\n      <td>False</td>\n      <td>False</td>\n      <td>False</td>\n      <td>NaN</td>\n      <td>NaN</td>\n      <td>NaN</td>\n      <td>NaN</td>\n      <td>NaN</td>\n      <td>NaN</td>\n    </tr>\n    <tr>\n      <th>1303</th>\n      <td>False</td>\n      <td>False</td>\n      <td>False</td>\n      <td>False</td>\n      <td>False</td>\n      <td>False</td>\n      <td>False</td>\n      <td>NaN</td>\n      <td>NaN</td>\n      <td>NaN</td>\n      <td>NaN</td>\n    </tr>\n    <tr>\n      <th>1500</th>\n      <td>False</td>\n      <td>False</td>\n      <td>False</td>\n      <td>False</td>\n      <td>NaN</td>\n      <td>NaN</td>\n      <td>NaN</td>\n      <td>NaN</td>\n      <td>NaN</td>\n      <td>NaN</td>\n      <td>NaN</td>\n    </tr>\n  </tbody>\n</table>\n</div>"
     },
     "execution_count": 67,
     "metadata": {},
     "output_type": "execute_result"
    }
   ],
   "source": [
    "dL.head()"
   ],
   "metadata": {
    "collapsed": false
   }
  },
  {
   "cell_type": "code",
   "execution_count": 68,
   "outputs": [
    {
     "data": {
      "text/plain": "           0      1      2      3      4      5      6      7      8      9  \\\n161    False  False  False  False    NaN    NaN    NaN    NaN    NaN    NaN   \n282    False  False  False  False  False  False  False  False  False  False   \n794    False  False  False  False  False    NaN    NaN    NaN    NaN    NaN   \n1303   False  False  False  False  False  False  False    NaN    NaN    NaN   \n1500   False  False  False  False    NaN    NaN    NaN    NaN    NaN    NaN   \n2116   False  False  False  False  False  False  False    NaN    NaN    NaN   \n2171   False  False  False  False  False  False    NaN    NaN    NaN    NaN   \n2293   False  False  False    NaN    NaN    NaN    NaN    NaN    NaN    NaN   \n2701   False  False  False  False  False  False  False    NaN    NaN    NaN   \n2994   False  False  False  False  False  False  False  False  False  False   \n3050   False  False  False  False  False  False    NaN    NaN    NaN    NaN   \n3172   False  False  False  False  False  False  False  False  False    NaN   \n3319   False  False  False  False  False  False  False  False  False    NaN   \n4077   False  False  False  False  False  False  False  False  False  False   \n4750   False  False  False    NaN    NaN    NaN    NaN    NaN    NaN    NaN   \n5029   False  False  False  False    NaN    NaN    NaN    NaN    NaN    NaN   \n5134   False  False    NaN    NaN    NaN    NaN    NaN    NaN    NaN    NaN   \n5182   False  False  False  False  False  False    NaN    NaN    NaN    NaN   \n5347   False  False  False  False    NaN    NaN    NaN    NaN    NaN    NaN   \n5378     NaN    NaN    NaN    NaN   True   True    NaN    NaN    NaN    NaN   \n5449   False  False  False  False  False  False    NaN    NaN    NaN    NaN   \n5692   False  False  False    NaN    NaN    NaN    NaN    NaN    NaN    NaN   \n5863   False  False  False  False  False  False  False  False    NaN    NaN   \n5985   False  False    NaN    NaN    NaN    NaN    NaN    NaN    NaN    NaN   \n6041   False  False  False  False  False  False  False  False  False  False   \n6256   False  False  False  False  False  False  False  False  False    NaN   \n6649   False  False    NaN  False  False  False    NaN    NaN    NaN    NaN   \n6763   False  False  False  False  False  False  False  False    NaN    NaN   \n6809   False  False  False  False  False  False  False    NaN    NaN    NaN   \n6851   False  False   True  False  False  False  False  False  False  False   \n6909   False  False  False  False  False  False  False  False    NaN    NaN   \n6956   False  False  False    NaN    NaN    NaN    NaN    NaN    NaN    NaN   \n7118   False  False  False  False  False    NaN    NaN    NaN    NaN    NaN   \n7167   False  False  False  False  False  False  False  False  False  False   \n7608   False  False  False  False  False  False  False  False    NaN    NaN   \n7652   False  False  False    NaN    NaN    NaN    NaN    NaN    NaN    NaN   \n7740   False  False    NaN    NaN    NaN    NaN    NaN    NaN    NaN    NaN   \n8244   False  False  False  False  False  False    NaN    NaN    NaN    NaN   \n8292   False  False    NaN    NaN    NaN    NaN    NaN    NaN    NaN    NaN   \n8326   False  False  False  False  False    NaN    NaN    NaN    NaN    NaN   \n8853   False  False  False  False  False  False    NaN    NaN    NaN    NaN   \n9227   False  False  False  False  False  False  False  False  False  False   \n9656   False  False  False  False  False  False  False  False    NaN    NaN   \n10320  False  False  False  False  False  False  False    NaN    NaN    NaN   \n10370  False  False  False  False    NaN    NaN    NaN    NaN    NaN    NaN   \n11155  False  False  False  False  False  False  False    NaN    NaN    NaN   \n11203  False  False  False  False  False  False  False  False  False    NaN   \n11477  False  False  False  False  False   True    NaN    NaN    NaN    NaN   \n11603  False  False  False  False  False  False  False  False  False    NaN   \n11658  False  False  False  False  False  False  False  False  False  False   \n11938  False  False  False  False  False    NaN    NaN    NaN    NaN    NaN   \n12180  False  False  False  False  False    NaN    NaN    NaN    NaN    NaN   \n13073  False  False  False  False  False  False  False    NaN    NaN    NaN   \n13629  False  False  False  False  False  False    NaN    NaN    NaN    NaN   \n14135  False  False  False  False  False    NaN    NaN    NaN    NaN    NaN   \n\n          10  \n161      NaN  \n282    False  \n794      NaN  \n1303     NaN  \n1500     NaN  \n2116     NaN  \n2171     NaN  \n2293     NaN  \n2701     NaN  \n2994     NaN  \n3050     NaN  \n3172     NaN  \n3319     NaN  \n4077   False  \n4750     NaN  \n5029     NaN  \n5134     NaN  \n5182     NaN  \n5347     NaN  \n5378     NaN  \n5449     NaN  \n5692     NaN  \n5863     NaN  \n5985     NaN  \n6041   False  \n6256     NaN  \n6649     NaN  \n6763     NaN  \n6809     NaN  \n6851     NaN  \n6909     NaN  \n6956     NaN  \n7118     NaN  \n7167     NaN  \n7608     NaN  \n7652     NaN  \n7740     NaN  \n8244     NaN  \n8292     NaN  \n8326     NaN  \n8853     NaN  \n9227     NaN  \n9656     NaN  \n10320    NaN  \n10370    NaN  \n11155    NaN  \n11203    NaN  \n11477    NaN  \n11603    NaN  \n11658    NaN  \n11938    NaN  \n12180    NaN  \n13073    NaN  \n13629    NaN  \n14135    NaN  ",
      "text/html": "<div>\n<style scoped>\n    .dataframe tbody tr th:only-of-type {\n        vertical-align: middle;\n    }\n\n    .dataframe tbody tr th {\n        vertical-align: top;\n    }\n\n    .dataframe thead th {\n        text-align: right;\n    }\n</style>\n<table border=\"1\" class=\"dataframe\">\n  <thead>\n    <tr style=\"text-align: right;\">\n      <th></th>\n      <th>0</th>\n      <th>1</th>\n      <th>2</th>\n      <th>3</th>\n      <th>4</th>\n      <th>5</th>\n      <th>6</th>\n      <th>7</th>\n      <th>8</th>\n      <th>9</th>\n      <th>10</th>\n    </tr>\n  </thead>\n  <tbody>\n    <tr>\n      <th>161</th>\n      <td>False</td>\n      <td>False</td>\n      <td>False</td>\n      <td>False</td>\n      <td>NaN</td>\n      <td>NaN</td>\n      <td>NaN</td>\n      <td>NaN</td>\n      <td>NaN</td>\n      <td>NaN</td>\n      <td>NaN</td>\n    </tr>\n    <tr>\n      <th>282</th>\n      <td>False</td>\n      <td>False</td>\n      <td>False</td>\n      <td>False</td>\n      <td>False</td>\n      <td>False</td>\n      <td>False</td>\n      <td>False</td>\n      <td>False</td>\n      <td>False</td>\n      <td>False</td>\n    </tr>\n    <tr>\n      <th>794</th>\n      <td>False</td>\n      <td>False</td>\n      <td>False</td>\n      <td>False</td>\n      <td>False</td>\n      <td>NaN</td>\n      <td>NaN</td>\n      <td>NaN</td>\n      <td>NaN</td>\n      <td>NaN</td>\n      <td>NaN</td>\n    </tr>\n    <tr>\n      <th>1303</th>\n      <td>False</td>\n      <td>False</td>\n      <td>False</td>\n      <td>False</td>\n      <td>False</td>\n      <td>False</td>\n      <td>False</td>\n      <td>NaN</td>\n      <td>NaN</td>\n      <td>NaN</td>\n      <td>NaN</td>\n    </tr>\n    <tr>\n      <th>1500</th>\n      <td>False</td>\n      <td>False</td>\n      <td>False</td>\n      <td>False</td>\n      <td>NaN</td>\n      <td>NaN</td>\n      <td>NaN</td>\n      <td>NaN</td>\n      <td>NaN</td>\n      <td>NaN</td>\n      <td>NaN</td>\n    </tr>\n    <tr>\n      <th>2116</th>\n      <td>False</td>\n      <td>False</td>\n      <td>False</td>\n      <td>False</td>\n      <td>False</td>\n      <td>False</td>\n      <td>False</td>\n      <td>NaN</td>\n      <td>NaN</td>\n      <td>NaN</td>\n      <td>NaN</td>\n    </tr>\n    <tr>\n      <th>2171</th>\n      <td>False</td>\n      <td>False</td>\n      <td>False</td>\n      <td>False</td>\n      <td>False</td>\n      <td>False</td>\n      <td>NaN</td>\n      <td>NaN</td>\n      <td>NaN</td>\n      <td>NaN</td>\n      <td>NaN</td>\n    </tr>\n    <tr>\n      <th>2293</th>\n      <td>False</td>\n      <td>False</td>\n      <td>False</td>\n      <td>NaN</td>\n      <td>NaN</td>\n      <td>NaN</td>\n      <td>NaN</td>\n      <td>NaN</td>\n      <td>NaN</td>\n      <td>NaN</td>\n      <td>NaN</td>\n    </tr>\n    <tr>\n      <th>2701</th>\n      <td>False</td>\n      <td>False</td>\n      <td>False</td>\n      <td>False</td>\n      <td>False</td>\n      <td>False</td>\n      <td>False</td>\n      <td>NaN</td>\n      <td>NaN</td>\n      <td>NaN</td>\n      <td>NaN</td>\n    </tr>\n    <tr>\n      <th>2994</th>\n      <td>False</td>\n      <td>False</td>\n      <td>False</td>\n      <td>False</td>\n      <td>False</td>\n      <td>False</td>\n      <td>False</td>\n      <td>False</td>\n      <td>False</td>\n      <td>False</td>\n      <td>NaN</td>\n    </tr>\n    <tr>\n      <th>3050</th>\n      <td>False</td>\n      <td>False</td>\n      <td>False</td>\n      <td>False</td>\n      <td>False</td>\n      <td>False</td>\n      <td>NaN</td>\n      <td>NaN</td>\n      <td>NaN</td>\n      <td>NaN</td>\n      <td>NaN</td>\n    </tr>\n    <tr>\n      <th>3172</th>\n      <td>False</td>\n      <td>False</td>\n      <td>False</td>\n      <td>False</td>\n      <td>False</td>\n      <td>False</td>\n      <td>False</td>\n      <td>False</td>\n      <td>False</td>\n      <td>NaN</td>\n      <td>NaN</td>\n    </tr>\n    <tr>\n      <th>3319</th>\n      <td>False</td>\n      <td>False</td>\n      <td>False</td>\n      <td>False</td>\n      <td>False</td>\n      <td>False</td>\n      <td>False</td>\n      <td>False</td>\n      <td>False</td>\n      <td>NaN</td>\n      <td>NaN</td>\n    </tr>\n    <tr>\n      <th>4077</th>\n      <td>False</td>\n      <td>False</td>\n      <td>False</td>\n      <td>False</td>\n      <td>False</td>\n      <td>False</td>\n      <td>False</td>\n      <td>False</td>\n      <td>False</td>\n      <td>False</td>\n      <td>False</td>\n    </tr>\n    <tr>\n      <th>4750</th>\n      <td>False</td>\n      <td>False</td>\n      <td>False</td>\n      <td>NaN</td>\n      <td>NaN</td>\n      <td>NaN</td>\n      <td>NaN</td>\n      <td>NaN</td>\n      <td>NaN</td>\n      <td>NaN</td>\n      <td>NaN</td>\n    </tr>\n    <tr>\n      <th>5029</th>\n      <td>False</td>\n      <td>False</td>\n      <td>False</td>\n      <td>False</td>\n      <td>NaN</td>\n      <td>NaN</td>\n      <td>NaN</td>\n      <td>NaN</td>\n      <td>NaN</td>\n      <td>NaN</td>\n      <td>NaN</td>\n    </tr>\n    <tr>\n      <th>5134</th>\n      <td>False</td>\n      <td>False</td>\n      <td>NaN</td>\n      <td>NaN</td>\n      <td>NaN</td>\n      <td>NaN</td>\n      <td>NaN</td>\n      <td>NaN</td>\n      <td>NaN</td>\n      <td>NaN</td>\n      <td>NaN</td>\n    </tr>\n    <tr>\n      <th>5182</th>\n      <td>False</td>\n      <td>False</td>\n      <td>False</td>\n      <td>False</td>\n      <td>False</td>\n      <td>False</td>\n      <td>NaN</td>\n      <td>NaN</td>\n      <td>NaN</td>\n      <td>NaN</td>\n      <td>NaN</td>\n    </tr>\n    <tr>\n      <th>5347</th>\n      <td>False</td>\n      <td>False</td>\n      <td>False</td>\n      <td>False</td>\n      <td>NaN</td>\n      <td>NaN</td>\n      <td>NaN</td>\n      <td>NaN</td>\n      <td>NaN</td>\n      <td>NaN</td>\n      <td>NaN</td>\n    </tr>\n    <tr>\n      <th>5378</th>\n      <td>NaN</td>\n      <td>NaN</td>\n      <td>NaN</td>\n      <td>NaN</td>\n      <td>True</td>\n      <td>True</td>\n      <td>NaN</td>\n      <td>NaN</td>\n      <td>NaN</td>\n      <td>NaN</td>\n      <td>NaN</td>\n    </tr>\n    <tr>\n      <th>5449</th>\n      <td>False</td>\n      <td>False</td>\n      <td>False</td>\n      <td>False</td>\n      <td>False</td>\n      <td>False</td>\n      <td>NaN</td>\n      <td>NaN</td>\n      <td>NaN</td>\n      <td>NaN</td>\n      <td>NaN</td>\n    </tr>\n    <tr>\n      <th>5692</th>\n      <td>False</td>\n      <td>False</td>\n      <td>False</td>\n      <td>NaN</td>\n      <td>NaN</td>\n      <td>NaN</td>\n      <td>NaN</td>\n      <td>NaN</td>\n      <td>NaN</td>\n      <td>NaN</td>\n      <td>NaN</td>\n    </tr>\n    <tr>\n      <th>5863</th>\n      <td>False</td>\n      <td>False</td>\n      <td>False</td>\n      <td>False</td>\n      <td>False</td>\n      <td>False</td>\n      <td>False</td>\n      <td>False</td>\n      <td>NaN</td>\n      <td>NaN</td>\n      <td>NaN</td>\n    </tr>\n    <tr>\n      <th>5985</th>\n      <td>False</td>\n      <td>False</td>\n      <td>NaN</td>\n      <td>NaN</td>\n      <td>NaN</td>\n      <td>NaN</td>\n      <td>NaN</td>\n      <td>NaN</td>\n      <td>NaN</td>\n      <td>NaN</td>\n      <td>NaN</td>\n    </tr>\n    <tr>\n      <th>6041</th>\n      <td>False</td>\n      <td>False</td>\n      <td>False</td>\n      <td>False</td>\n      <td>False</td>\n      <td>False</td>\n      <td>False</td>\n      <td>False</td>\n      <td>False</td>\n      <td>False</td>\n      <td>False</td>\n    </tr>\n    <tr>\n      <th>6256</th>\n      <td>False</td>\n      <td>False</td>\n      <td>False</td>\n      <td>False</td>\n      <td>False</td>\n      <td>False</td>\n      <td>False</td>\n      <td>False</td>\n      <td>False</td>\n      <td>NaN</td>\n      <td>NaN</td>\n    </tr>\n    <tr>\n      <th>6649</th>\n      <td>False</td>\n      <td>False</td>\n      <td>NaN</td>\n      <td>False</td>\n      <td>False</td>\n      <td>False</td>\n      <td>NaN</td>\n      <td>NaN</td>\n      <td>NaN</td>\n      <td>NaN</td>\n      <td>NaN</td>\n    </tr>\n    <tr>\n      <th>6763</th>\n      <td>False</td>\n      <td>False</td>\n      <td>False</td>\n      <td>False</td>\n      <td>False</td>\n      <td>False</td>\n      <td>False</td>\n      <td>False</td>\n      <td>NaN</td>\n      <td>NaN</td>\n      <td>NaN</td>\n    </tr>\n    <tr>\n      <th>6809</th>\n      <td>False</td>\n      <td>False</td>\n      <td>False</td>\n      <td>False</td>\n      <td>False</td>\n      <td>False</td>\n      <td>False</td>\n      <td>NaN</td>\n      <td>NaN</td>\n      <td>NaN</td>\n      <td>NaN</td>\n    </tr>\n    <tr>\n      <th>6851</th>\n      <td>False</td>\n      <td>False</td>\n      <td>True</td>\n      <td>False</td>\n      <td>False</td>\n      <td>False</td>\n      <td>False</td>\n      <td>False</td>\n      <td>False</td>\n      <td>False</td>\n      <td>NaN</td>\n    </tr>\n    <tr>\n      <th>6909</th>\n      <td>False</td>\n      <td>False</td>\n      <td>False</td>\n      <td>False</td>\n      <td>False</td>\n      <td>False</td>\n      <td>False</td>\n      <td>False</td>\n      <td>NaN</td>\n      <td>NaN</td>\n      <td>NaN</td>\n    </tr>\n    <tr>\n      <th>6956</th>\n      <td>False</td>\n      <td>False</td>\n      <td>False</td>\n      <td>NaN</td>\n      <td>NaN</td>\n      <td>NaN</td>\n      <td>NaN</td>\n      <td>NaN</td>\n      <td>NaN</td>\n      <td>NaN</td>\n      <td>NaN</td>\n    </tr>\n    <tr>\n      <th>7118</th>\n      <td>False</td>\n      <td>False</td>\n      <td>False</td>\n      <td>False</td>\n      <td>False</td>\n      <td>NaN</td>\n      <td>NaN</td>\n      <td>NaN</td>\n      <td>NaN</td>\n      <td>NaN</td>\n      <td>NaN</td>\n    </tr>\n    <tr>\n      <th>7167</th>\n      <td>False</td>\n      <td>False</td>\n      <td>False</td>\n      <td>False</td>\n      <td>False</td>\n      <td>False</td>\n      <td>False</td>\n      <td>False</td>\n      <td>False</td>\n      <td>False</td>\n      <td>NaN</td>\n    </tr>\n    <tr>\n      <th>7608</th>\n      <td>False</td>\n      <td>False</td>\n      <td>False</td>\n      <td>False</td>\n      <td>False</td>\n      <td>False</td>\n      <td>False</td>\n      <td>False</td>\n      <td>NaN</td>\n      <td>NaN</td>\n      <td>NaN</td>\n    </tr>\n    <tr>\n      <th>7652</th>\n      <td>False</td>\n      <td>False</td>\n      <td>False</td>\n      <td>NaN</td>\n      <td>NaN</td>\n      <td>NaN</td>\n      <td>NaN</td>\n      <td>NaN</td>\n      <td>NaN</td>\n      <td>NaN</td>\n      <td>NaN</td>\n    </tr>\n    <tr>\n      <th>7740</th>\n      <td>False</td>\n      <td>False</td>\n      <td>NaN</td>\n      <td>NaN</td>\n      <td>NaN</td>\n      <td>NaN</td>\n      <td>NaN</td>\n      <td>NaN</td>\n      <td>NaN</td>\n      <td>NaN</td>\n      <td>NaN</td>\n    </tr>\n    <tr>\n      <th>8244</th>\n      <td>False</td>\n      <td>False</td>\n      <td>False</td>\n      <td>False</td>\n      <td>False</td>\n      <td>False</td>\n      <td>NaN</td>\n      <td>NaN</td>\n      <td>NaN</td>\n      <td>NaN</td>\n      <td>NaN</td>\n    </tr>\n    <tr>\n      <th>8292</th>\n      <td>False</td>\n      <td>False</td>\n      <td>NaN</td>\n      <td>NaN</td>\n      <td>NaN</td>\n      <td>NaN</td>\n      <td>NaN</td>\n      <td>NaN</td>\n      <td>NaN</td>\n      <td>NaN</td>\n      <td>NaN</td>\n    </tr>\n    <tr>\n      <th>8326</th>\n      <td>False</td>\n      <td>False</td>\n      <td>False</td>\n      <td>False</td>\n      <td>False</td>\n      <td>NaN</td>\n      <td>NaN</td>\n      <td>NaN</td>\n      <td>NaN</td>\n      <td>NaN</td>\n      <td>NaN</td>\n    </tr>\n    <tr>\n      <th>8853</th>\n      <td>False</td>\n      <td>False</td>\n      <td>False</td>\n      <td>False</td>\n      <td>False</td>\n      <td>False</td>\n      <td>NaN</td>\n      <td>NaN</td>\n      <td>NaN</td>\n      <td>NaN</td>\n      <td>NaN</td>\n    </tr>\n    <tr>\n      <th>9227</th>\n      <td>False</td>\n      <td>False</td>\n      <td>False</td>\n      <td>False</td>\n      <td>False</td>\n      <td>False</td>\n      <td>False</td>\n      <td>False</td>\n      <td>False</td>\n      <td>False</td>\n      <td>NaN</td>\n    </tr>\n    <tr>\n      <th>9656</th>\n      <td>False</td>\n      <td>False</td>\n      <td>False</td>\n      <td>False</td>\n      <td>False</td>\n      <td>False</td>\n      <td>False</td>\n      <td>False</td>\n      <td>NaN</td>\n      <td>NaN</td>\n      <td>NaN</td>\n    </tr>\n    <tr>\n      <th>10320</th>\n      <td>False</td>\n      <td>False</td>\n      <td>False</td>\n      <td>False</td>\n      <td>False</td>\n      <td>False</td>\n      <td>False</td>\n      <td>NaN</td>\n      <td>NaN</td>\n      <td>NaN</td>\n      <td>NaN</td>\n    </tr>\n    <tr>\n      <th>10370</th>\n      <td>False</td>\n      <td>False</td>\n      <td>False</td>\n      <td>False</td>\n      <td>NaN</td>\n      <td>NaN</td>\n      <td>NaN</td>\n      <td>NaN</td>\n      <td>NaN</td>\n      <td>NaN</td>\n      <td>NaN</td>\n    </tr>\n    <tr>\n      <th>11155</th>\n      <td>False</td>\n      <td>False</td>\n      <td>False</td>\n      <td>False</td>\n      <td>False</td>\n      <td>False</td>\n      <td>False</td>\n      <td>NaN</td>\n      <td>NaN</td>\n      <td>NaN</td>\n      <td>NaN</td>\n    </tr>\n    <tr>\n      <th>11203</th>\n      <td>False</td>\n      <td>False</td>\n      <td>False</td>\n      <td>False</td>\n      <td>False</td>\n      <td>False</td>\n      <td>False</td>\n      <td>False</td>\n      <td>False</td>\n      <td>NaN</td>\n      <td>NaN</td>\n    </tr>\n    <tr>\n      <th>11477</th>\n      <td>False</td>\n      <td>False</td>\n      <td>False</td>\n      <td>False</td>\n      <td>False</td>\n      <td>True</td>\n      <td>NaN</td>\n      <td>NaN</td>\n      <td>NaN</td>\n      <td>NaN</td>\n      <td>NaN</td>\n    </tr>\n    <tr>\n      <th>11603</th>\n      <td>False</td>\n      <td>False</td>\n      <td>False</td>\n      <td>False</td>\n      <td>False</td>\n      <td>False</td>\n      <td>False</td>\n      <td>False</td>\n      <td>False</td>\n      <td>NaN</td>\n      <td>NaN</td>\n    </tr>\n    <tr>\n      <th>11658</th>\n      <td>False</td>\n      <td>False</td>\n      <td>False</td>\n      <td>False</td>\n      <td>False</td>\n      <td>False</td>\n      <td>False</td>\n      <td>False</td>\n      <td>False</td>\n      <td>False</td>\n      <td>NaN</td>\n    </tr>\n    <tr>\n      <th>11938</th>\n      <td>False</td>\n      <td>False</td>\n      <td>False</td>\n      <td>False</td>\n      <td>False</td>\n      <td>NaN</td>\n      <td>NaN</td>\n      <td>NaN</td>\n      <td>NaN</td>\n      <td>NaN</td>\n      <td>NaN</td>\n    </tr>\n    <tr>\n      <th>12180</th>\n      <td>False</td>\n      <td>False</td>\n      <td>False</td>\n      <td>False</td>\n      <td>False</td>\n      <td>NaN</td>\n      <td>NaN</td>\n      <td>NaN</td>\n      <td>NaN</td>\n      <td>NaN</td>\n      <td>NaN</td>\n    </tr>\n    <tr>\n      <th>13073</th>\n      <td>False</td>\n      <td>False</td>\n      <td>False</td>\n      <td>False</td>\n      <td>False</td>\n      <td>False</td>\n      <td>False</td>\n      <td>NaN</td>\n      <td>NaN</td>\n      <td>NaN</td>\n      <td>NaN</td>\n    </tr>\n    <tr>\n      <th>13629</th>\n      <td>False</td>\n      <td>False</td>\n      <td>False</td>\n      <td>False</td>\n      <td>False</td>\n      <td>False</td>\n      <td>NaN</td>\n      <td>NaN</td>\n      <td>NaN</td>\n      <td>NaN</td>\n      <td>NaN</td>\n    </tr>\n    <tr>\n      <th>14135</th>\n      <td>False</td>\n      <td>False</td>\n      <td>False</td>\n      <td>False</td>\n      <td>False</td>\n      <td>NaN</td>\n      <td>NaN</td>\n      <td>NaN</td>\n      <td>NaN</td>\n      <td>NaN</td>\n      <td>NaN</td>\n    </tr>\n  </tbody>\n</table>\n</div>"
     },
     "execution_count": 68,
     "metadata": {},
     "output_type": "execute_result"
    }
   ],
   "source": [
    "dL"
   ],
   "metadata": {
    "collapsed": false
   }
  },
  {
   "cell_type": "markdown",
   "source": [
    "Just a dict containing more or less True/False values"
   ],
   "metadata": {
    "collapsed": false
   }
  },
  {
   "cell_type": "code",
   "execution_count": 69,
   "outputs": [],
   "source": [
    "system.drop([\"displayLevels\"], axis=\"columns\", inplace=True)"
   ],
   "metadata": {
    "collapsed": false
   }
  },
  {
   "cell_type": "markdown",
   "source": [
    "### prepared"
   ],
   "metadata": {
    "collapsed": false
   }
  },
  {
   "cell_type": "code",
   "execution_count": 71,
   "outputs": [],
   "source": [
    "prepared = unpack_column_with_null(system, column_name=\"prepared\")"
   ],
   "metadata": {
    "collapsed": false
   }
  },
  {
   "cell_type": "code",
   "execution_count": 74,
   "outputs": [
    {
     "data": {
      "text/plain": "  value flexible\n0   NaN      NaN\n1            NaN\n2            NaN\n3   NaN      NaN\n4   NaN      NaN",
      "text/html": "<div>\n<style scoped>\n    .dataframe tbody tr th:only-of-type {\n        vertical-align: middle;\n    }\n\n    .dataframe tbody tr th {\n        vertical-align: top;\n    }\n\n    .dataframe thead th {\n        text-align: right;\n    }\n</style>\n<table border=\"1\" class=\"dataframe\">\n  <thead>\n    <tr style=\"text-align: right;\">\n      <th></th>\n      <th>value</th>\n      <th>flexible</th>\n    </tr>\n  </thead>\n  <tbody>\n    <tr>\n      <th>0</th>\n      <td>NaN</td>\n      <td>NaN</td>\n    </tr>\n    <tr>\n      <th>1</th>\n      <td></td>\n      <td>NaN</td>\n    </tr>\n    <tr>\n      <th>2</th>\n      <td></td>\n      <td>NaN</td>\n    </tr>\n    <tr>\n      <th>3</th>\n      <td>NaN</td>\n      <td>NaN</td>\n    </tr>\n    <tr>\n      <th>4</th>\n      <td>NaN</td>\n      <td>NaN</td>\n    </tr>\n  </tbody>\n</table>\n</div>"
     },
     "execution_count": 74,
     "metadata": {},
     "output_type": "execute_result"
    }
   ],
   "source": [
    "prepared.head()"
   ],
   "metadata": {
    "collapsed": false
   }
  },
  {
   "cell_type": "code",
   "execution_count": 76,
   "outputs": [
    {
     "data": {
      "text/plain": "  value flexible\n0   NaN      NaN\n1   NaN      NaN\n2   NaN      NaN\n3   NaN      NaN\n4   NaN      NaN",
      "text/html": "<div>\n<style scoped>\n    .dataframe tbody tr th:only-of-type {\n        vertical-align: middle;\n    }\n\n    .dataframe tbody tr th {\n        vertical-align: top;\n    }\n\n    .dataframe thead th {\n        text-align: right;\n    }\n</style>\n<table border=\"1\" class=\"dataframe\">\n  <thead>\n    <tr style=\"text-align: right;\">\n      <th></th>\n      <th>value</th>\n      <th>flexible</th>\n    </tr>\n  </thead>\n  <tbody>\n    <tr>\n      <th>0</th>\n      <td>NaN</td>\n      <td>NaN</td>\n    </tr>\n    <tr>\n      <th>1</th>\n      <td>NaN</td>\n      <td>NaN</td>\n    </tr>\n    <tr>\n      <th>2</th>\n      <td>NaN</td>\n      <td>NaN</td>\n    </tr>\n    <tr>\n      <th>3</th>\n      <td>NaN</td>\n      <td>NaN</td>\n    </tr>\n    <tr>\n      <th>4</th>\n      <td>NaN</td>\n      <td>NaN</td>\n    </tr>\n  </tbody>\n</table>\n</div>"
     },
     "execution_count": 76,
     "metadata": {},
     "output_type": "execute_result"
    }
   ],
   "source": [
    "prepared = prepared.replace(\"\", np.nan)\n",
    "prepared.head()"
   ],
   "metadata": {
    "collapsed": false
   }
  },
  {
   "cell_type": "code",
   "execution_count": 77,
   "outputs": [
    {
     "name": "stdout",
     "output_type": "stream",
     "text": [
      "<class 'pandas.core.frame.DataFrame'>\n",
      "Int64Index: 21731 entries, 0 to 21730\n",
      "Data columns (total 2 columns):\n",
      " #   Column    Non-Null Count  Dtype \n",
      "---  ------    --------------  ----- \n",
      " 0   value     65 non-null     object\n",
      " 1   flexible  55 non-null     object\n",
      "dtypes: object(2)\n",
      "memory usage: 509.3+ KB\n"
     ]
    }
   ],
   "source": [
    "prepared.info()"
   ],
   "metadata": {
    "collapsed": false
   }
  },
  {
   "cell_type": "code",
   "execution_count": 78,
   "outputs": [
    {
     "data": {
      "text/plain": "          value flexible\n161    prepared    False\n282    prepared    False\n794    prepared    False\n1303   prepared    False\n1500   prepared    False\n...         ...      ...\n17336     False      NaN\n19894     False      NaN\n19950     False      NaN\n20585     False      NaN\n21411     False      NaN\n\n[65 rows x 2 columns]",
      "text/html": "<div>\n<style scoped>\n    .dataframe tbody tr th:only-of-type {\n        vertical-align: middle;\n    }\n\n    .dataframe tbody tr th {\n        vertical-align: top;\n    }\n\n    .dataframe thead th {\n        text-align: right;\n    }\n</style>\n<table border=\"1\" class=\"dataframe\">\n  <thead>\n    <tr style=\"text-align: right;\">\n      <th></th>\n      <th>value</th>\n      <th>flexible</th>\n    </tr>\n  </thead>\n  <tbody>\n    <tr>\n      <th>161</th>\n      <td>prepared</td>\n      <td>False</td>\n    </tr>\n    <tr>\n      <th>282</th>\n      <td>prepared</td>\n      <td>False</td>\n    </tr>\n    <tr>\n      <th>794</th>\n      <td>prepared</td>\n      <td>False</td>\n    </tr>\n    <tr>\n      <th>1303</th>\n      <td>prepared</td>\n      <td>False</td>\n    </tr>\n    <tr>\n      <th>1500</th>\n      <td>prepared</td>\n      <td>False</td>\n    </tr>\n    <tr>\n      <th>...</th>\n      <td>...</td>\n      <td>...</td>\n    </tr>\n    <tr>\n      <th>17336</th>\n      <td>False</td>\n      <td>NaN</td>\n    </tr>\n    <tr>\n      <th>19894</th>\n      <td>False</td>\n      <td>NaN</td>\n    </tr>\n    <tr>\n      <th>19950</th>\n      <td>False</td>\n      <td>NaN</td>\n    </tr>\n    <tr>\n      <th>20585</th>\n      <td>False</td>\n      <td>NaN</td>\n    </tr>\n    <tr>\n      <th>21411</th>\n      <td>False</td>\n      <td>NaN</td>\n    </tr>\n  </tbody>\n</table>\n<p>65 rows × 2 columns</p>\n</div>"
     },
     "execution_count": 78,
     "metadata": {},
     "output_type": "execute_result"
    }
   ],
   "source": [
    "prepared[prepared.value.notnull()]"
   ],
   "metadata": {
    "collapsed": false
   }
  },
  {
   "cell_type": "code",
   "execution_count": 82,
   "outputs": [
    {
     "data": {
      "text/plain": "          value flexible\n161    prepared    False\n282    prepared    False\n794    prepared    False\n1303   prepared    False\n1500   prepared    False\n2116   prepared    False\n2171   prepared    False\n2293   prepared    False\n2701   prepared    False\n2994   prepared    False\n3050   prepared    False\n3172   prepared    False\n3319   prepared    False\n4077   prepared    False\n4750   prepared    False\n5029   prepared    False\n5134   prepared    False\n5182   prepared    False\n5347   prepared    False\n5378   prepared    False\n5449   prepared    False\n5692   prepared    False\n5863   prepared    False\n5985   prepared    False\n6041   prepared    False\n6256   prepared    False\n6649   prepared    False\n6763   prepared    False\n6809   prepared    False\n6851   prepared    False\n6909   prepared    False\n6956   prepared    False\n7118   prepared    False\n7167   prepared    False\n7608   prepared    False\n7652   prepared    False\n7740   prepared    False\n8244   prepared    False\n8292   prepared    False\n8326   prepared    False\n8853   prepared    False\n9227   prepared    False\n9656   prepared    False\n10320  prepared    False\n10370  prepared    False\n11155  prepared    False\n11203  prepared    False\n11477  prepared    False\n11603  prepared    False\n11658  prepared    False\n11938  prepared    False\n12180  prepared    False\n13073  prepared    False\n13629  prepared    False\n14135  prepared    False",
      "text/html": "<div>\n<style scoped>\n    .dataframe tbody tr th:only-of-type {\n        vertical-align: middle;\n    }\n\n    .dataframe tbody tr th {\n        vertical-align: top;\n    }\n\n    .dataframe thead th {\n        text-align: right;\n    }\n</style>\n<table border=\"1\" class=\"dataframe\">\n  <thead>\n    <tr style=\"text-align: right;\">\n      <th></th>\n      <th>value</th>\n      <th>flexible</th>\n    </tr>\n  </thead>\n  <tbody>\n    <tr>\n      <th>161</th>\n      <td>prepared</td>\n      <td>False</td>\n    </tr>\n    <tr>\n      <th>282</th>\n      <td>prepared</td>\n      <td>False</td>\n    </tr>\n    <tr>\n      <th>794</th>\n      <td>prepared</td>\n      <td>False</td>\n    </tr>\n    <tr>\n      <th>1303</th>\n      <td>prepared</td>\n      <td>False</td>\n    </tr>\n    <tr>\n      <th>1500</th>\n      <td>prepared</td>\n      <td>False</td>\n    </tr>\n    <tr>\n      <th>2116</th>\n      <td>prepared</td>\n      <td>False</td>\n    </tr>\n    <tr>\n      <th>2171</th>\n      <td>prepared</td>\n      <td>False</td>\n    </tr>\n    <tr>\n      <th>2293</th>\n      <td>prepared</td>\n      <td>False</td>\n    </tr>\n    <tr>\n      <th>2701</th>\n      <td>prepared</td>\n      <td>False</td>\n    </tr>\n    <tr>\n      <th>2994</th>\n      <td>prepared</td>\n      <td>False</td>\n    </tr>\n    <tr>\n      <th>3050</th>\n      <td>prepared</td>\n      <td>False</td>\n    </tr>\n    <tr>\n      <th>3172</th>\n      <td>prepared</td>\n      <td>False</td>\n    </tr>\n    <tr>\n      <th>3319</th>\n      <td>prepared</td>\n      <td>False</td>\n    </tr>\n    <tr>\n      <th>4077</th>\n      <td>prepared</td>\n      <td>False</td>\n    </tr>\n    <tr>\n      <th>4750</th>\n      <td>prepared</td>\n      <td>False</td>\n    </tr>\n    <tr>\n      <th>5029</th>\n      <td>prepared</td>\n      <td>False</td>\n    </tr>\n    <tr>\n      <th>5134</th>\n      <td>prepared</td>\n      <td>False</td>\n    </tr>\n    <tr>\n      <th>5182</th>\n      <td>prepared</td>\n      <td>False</td>\n    </tr>\n    <tr>\n      <th>5347</th>\n      <td>prepared</td>\n      <td>False</td>\n    </tr>\n    <tr>\n      <th>5378</th>\n      <td>prepared</td>\n      <td>False</td>\n    </tr>\n    <tr>\n      <th>5449</th>\n      <td>prepared</td>\n      <td>False</td>\n    </tr>\n    <tr>\n      <th>5692</th>\n      <td>prepared</td>\n      <td>False</td>\n    </tr>\n    <tr>\n      <th>5863</th>\n      <td>prepared</td>\n      <td>False</td>\n    </tr>\n    <tr>\n      <th>5985</th>\n      <td>prepared</td>\n      <td>False</td>\n    </tr>\n    <tr>\n      <th>6041</th>\n      <td>prepared</td>\n      <td>False</td>\n    </tr>\n    <tr>\n      <th>6256</th>\n      <td>prepared</td>\n      <td>False</td>\n    </tr>\n    <tr>\n      <th>6649</th>\n      <td>prepared</td>\n      <td>False</td>\n    </tr>\n    <tr>\n      <th>6763</th>\n      <td>prepared</td>\n      <td>False</td>\n    </tr>\n    <tr>\n      <th>6809</th>\n      <td>prepared</td>\n      <td>False</td>\n    </tr>\n    <tr>\n      <th>6851</th>\n      <td>prepared</td>\n      <td>False</td>\n    </tr>\n    <tr>\n      <th>6909</th>\n      <td>prepared</td>\n      <td>False</td>\n    </tr>\n    <tr>\n      <th>6956</th>\n      <td>prepared</td>\n      <td>False</td>\n    </tr>\n    <tr>\n      <th>7118</th>\n      <td>prepared</td>\n      <td>False</td>\n    </tr>\n    <tr>\n      <th>7167</th>\n      <td>prepared</td>\n      <td>False</td>\n    </tr>\n    <tr>\n      <th>7608</th>\n      <td>prepared</td>\n      <td>False</td>\n    </tr>\n    <tr>\n      <th>7652</th>\n      <td>prepared</td>\n      <td>False</td>\n    </tr>\n    <tr>\n      <th>7740</th>\n      <td>prepared</td>\n      <td>False</td>\n    </tr>\n    <tr>\n      <th>8244</th>\n      <td>prepared</td>\n      <td>False</td>\n    </tr>\n    <tr>\n      <th>8292</th>\n      <td>prepared</td>\n      <td>False</td>\n    </tr>\n    <tr>\n      <th>8326</th>\n      <td>prepared</td>\n      <td>False</td>\n    </tr>\n    <tr>\n      <th>8853</th>\n      <td>prepared</td>\n      <td>False</td>\n    </tr>\n    <tr>\n      <th>9227</th>\n      <td>prepared</td>\n      <td>False</td>\n    </tr>\n    <tr>\n      <th>9656</th>\n      <td>prepared</td>\n      <td>False</td>\n    </tr>\n    <tr>\n      <th>10320</th>\n      <td>prepared</td>\n      <td>False</td>\n    </tr>\n    <tr>\n      <th>10370</th>\n      <td>prepared</td>\n      <td>False</td>\n    </tr>\n    <tr>\n      <th>11155</th>\n      <td>prepared</td>\n      <td>False</td>\n    </tr>\n    <tr>\n      <th>11203</th>\n      <td>prepared</td>\n      <td>False</td>\n    </tr>\n    <tr>\n      <th>11477</th>\n      <td>prepared</td>\n      <td>False</td>\n    </tr>\n    <tr>\n      <th>11603</th>\n      <td>prepared</td>\n      <td>False</td>\n    </tr>\n    <tr>\n      <th>11658</th>\n      <td>prepared</td>\n      <td>False</td>\n    </tr>\n    <tr>\n      <th>11938</th>\n      <td>prepared</td>\n      <td>False</td>\n    </tr>\n    <tr>\n      <th>12180</th>\n      <td>prepared</td>\n      <td>False</td>\n    </tr>\n    <tr>\n      <th>13073</th>\n      <td>prepared</td>\n      <td>False</td>\n    </tr>\n    <tr>\n      <th>13629</th>\n      <td>prepared</td>\n      <td>False</td>\n    </tr>\n    <tr>\n      <th>14135</th>\n      <td>prepared</td>\n      <td>False</td>\n    </tr>\n  </tbody>\n</table>\n</div>"
     },
     "execution_count": 82,
     "metadata": {},
     "output_type": "execute_result"
    }
   ],
   "source": [
    "prepared[prepared.value == \"prepared\"]"
   ],
   "metadata": {
    "collapsed": false
   }
  },
  {
   "cell_type": "code",
   "execution_count": 85,
   "outputs": [
    {
     "data": {
      "text/plain": "spellcastingEntry    55\nName: type, dtype: int64"
     },
     "execution_count": 85,
     "metadata": {},
     "output_type": "execute_result"
    }
   ],
   "source": [
    "items[prepared.value == \"prepared\"].type.value_counts()"
   ],
   "metadata": {
    "collapsed": false
   }
  },
  {
   "cell_type": "code",
   "execution_count": 86,
   "outputs": [
    {
     "data": {
      "text/plain": "spell    10\nName: type, dtype: int64"
     },
     "execution_count": 86,
     "metadata": {},
     "output_type": "execute_result"
    }
   ],
   "source": [
    "items[prepared.value == False].type.value_counts()"
   ],
   "metadata": {
    "collapsed": false
   }
  },
  {
   "cell_type": "markdown",
   "source": [
    "If prepared.value == \"prepared\" <=> prepared.flexible == False. There are also cases where prepared is just an empty dict or prepared.value == False\n",
    "\n",
    "At least here\n",
    "\n",
    "* prepared.value == \"prepared\" only for spellcastingEntry\n",
    "* prepared.value == False only for spells"
   ],
   "metadata": {
    "collapsed": false
   }
  },
  {
   "cell_type": "code",
   "execution_count": 87,
   "outputs": [],
   "source": [
    "system.drop([\"prepared\"], axis=\"columns\", inplace=True)"
   ],
   "metadata": {
    "collapsed": false
   }
  },
  {
   "cell_type": "markdown",
   "source": [
    "### proficiency"
   ],
   "metadata": {
    "collapsed": false
   }
  },
  {
   "cell_type": "code",
   "execution_count": 91,
   "outputs": [],
   "source": [
    "proficiency = unpack_column(\n",
    "    system[system.proficiency.notnull()], column_name=\"proficiency\"\n",
    ")"
   ],
   "metadata": {
    "collapsed": false
   }
  },
  {
   "cell_type": "code",
   "execution_count": 92,
   "outputs": [
    {
     "name": "stdout",
     "output_type": "stream",
     "text": [
      "<class 'pandas.core.frame.DataFrame'>\n",
      "Int64Index: 55 entries, 161 to 14135\n",
      "Data columns (total 1 columns):\n",
      " #   Column  Non-Null Count  Dtype\n",
      "---  ------  --------------  -----\n",
      " 0   value   55 non-null     int64\n",
      "dtypes: int64(1)\n",
      "memory usage: 880.0 bytes\n"
     ]
    }
   ],
   "source": [
    "proficiency.info()"
   ],
   "metadata": {
    "collapsed": false
   }
  },
  {
   "cell_type": "code",
   "execution_count": 93,
   "outputs": [
    {
     "data": {
      "text/plain": "      value\n161       0\n282       0\n794       0\n1303      0\n1500      0",
      "text/html": "<div>\n<style scoped>\n    .dataframe tbody tr th:only-of-type {\n        vertical-align: middle;\n    }\n\n    .dataframe tbody tr th {\n        vertical-align: top;\n    }\n\n    .dataframe thead th {\n        text-align: right;\n    }\n</style>\n<table border=\"1\" class=\"dataframe\">\n  <thead>\n    <tr style=\"text-align: right;\">\n      <th></th>\n      <th>value</th>\n    </tr>\n  </thead>\n  <tbody>\n    <tr>\n      <th>161</th>\n      <td>0</td>\n    </tr>\n    <tr>\n      <th>282</th>\n      <td>0</td>\n    </tr>\n    <tr>\n      <th>794</th>\n      <td>0</td>\n    </tr>\n    <tr>\n      <th>1303</th>\n      <td>0</td>\n    </tr>\n    <tr>\n      <th>1500</th>\n      <td>0</td>\n    </tr>\n  </tbody>\n</table>\n</div>"
     },
     "execution_count": 93,
     "metadata": {},
     "output_type": "execute_result"
    }
   ],
   "source": [
    "proficiency.head()"
   ],
   "metadata": {
    "collapsed": false
   }
  },
  {
   "cell_type": "code",
   "execution_count": 94,
   "outputs": [
    {
     "data": {
      "text/plain": "0    40\n1    15\nName: value, dtype: int64"
     },
     "execution_count": 94,
     "metadata": {},
     "output_type": "execute_result"
    }
   ],
   "source": [
    "proficiency.value.value_counts()"
   ],
   "metadata": {
    "collapsed": false
   }
  },
  {
   "cell_type": "code",
   "execution_count": 102,
   "outputs": [
    {
     "data": {
      "text/plain": "spellcastingEntry    40\nName: type, dtype: int64"
     },
     "execution_count": 102,
     "metadata": {},
     "output_type": "execute_result"
    }
   ],
   "source": [
    "items.loc[proficiency[proficiency.value == 0].index].type.value_counts()"
   ],
   "metadata": {
    "collapsed": false
   }
  },
  {
   "cell_type": "code",
   "execution_count": 103,
   "outputs": [
    {
     "data": {
      "text/plain": "spellcastingEntry    15\nName: type, dtype: int64"
     },
     "execution_count": 103,
     "metadata": {},
     "output_type": "execute_result"
    }
   ],
   "source": [
    "items.loc[proficiency[proficiency.value == 1].index].type.value_counts()"
   ],
   "metadata": {
    "collapsed": false
   }
  },
  {
   "cell_type": "markdown",
   "source": [
    "proficiency is another parameter that appears only for *spellcastingEntry*"
   ],
   "metadata": {
    "collapsed": false
   }
  },
  {
   "cell_type": "code",
   "execution_count": 104,
   "outputs": [],
   "source": [
    "system.drop([\"proficiency\"], axis=\"columns\", inplace=True)"
   ],
   "metadata": {
    "collapsed": false
   }
  },
  {
   "cell_type": "markdown",
   "source": [
    "### rules"
   ],
   "metadata": {
    "collapsed": false
   }
  },
  {
   "cell_type": "code",
   "execution_count": 114,
   "outputs": [],
   "source": [
    "# only not null and without empty lists\n",
    "system.rules = system.rules.apply(\n",
    "    lambda x: np.nan if (type(x) == list and len(x) == 0) else x\n",
    ")\n",
    "rules = system.rules[system.rules.notnull()]"
   ],
   "metadata": {
    "collapsed": false
   }
  },
  {
   "cell_type": "code",
   "execution_count": 115,
   "outputs": [
    {
     "name": "stdout",
     "output_type": "stream",
     "text": [
      "<class 'pandas.core.series.Series'>\n",
      "Int64Index: 1497 entries, 8 to 21726\n",
      "Series name: rules\n",
      "Non-Null Count  Dtype \n",
      "--------------  ----- \n",
      "1497 non-null   object\n",
      "dtypes: object(1)\n",
      "memory usage: 23.4+ KB\n"
     ]
    }
   ],
   "source": [
    "rules.info()"
   ],
   "metadata": {
    "collapsed": false
   }
  },
  {
   "cell_type": "code",
   "execution_count": 116,
   "outputs": [
    {
     "data": {
      "text/plain": "8     [{'key': 'FlatModifier', 'predicate': [{'or': ...\n9     [{'key': 'Aura', 'radius': 5, 'slug': 'dragon-...\n11    [{'key': 'Aura', 'radius': 90, 'slug': 'fright...\n14    [{'key': 'Note', 'outcome': ['criticalSuccess'...\n57    [{'key': 'Note', 'predicate': ['action:hide', ...\nName: rules, dtype: object"
     },
     "execution_count": 116,
     "metadata": {},
     "output_type": "execute_result"
    }
   ],
   "source": [
    "rules.head()"
   ],
   "metadata": {
    "collapsed": false
   }
  },
  {
   "cell_type": "markdown",
   "source": [
    "Analysis maybe (?) in other notebook"
   ],
   "metadata": {
    "collapsed": false
   }
  },
  {
   "cell_type": "code",
   "execution_count": 119,
   "outputs": [],
   "source": [
    "system.drop([\"rules\"], axis=\"columns\", inplace=True)"
   ],
   "metadata": {
    "collapsed": false
   }
  },
  {
   "cell_type": "markdown",
   "source": [
    "### showSlotlessLevels"
   ],
   "metadata": {
    "collapsed": false
   }
  },
  {
   "cell_type": "code",
   "execution_count": 121,
   "outputs": [],
   "source": [
    "showSlotlessLevels = unpack_column(\n",
    "    system[system.showSlotlessLevels.notnull()], column_name=\"showSlotlessLevels\"\n",
    ")"
   ],
   "metadata": {
    "collapsed": false
   }
  },
  {
   "cell_type": "code",
   "execution_count": 122,
   "outputs": [
    {
     "name": "stdout",
     "output_type": "stream",
     "text": [
      "<class 'pandas.core.frame.DataFrame'>\n",
      "Int64Index: 55 entries, 161 to 14135\n",
      "Data columns (total 1 columns):\n",
      " #   Column  Non-Null Count  Dtype\n",
      "---  ------  --------------  -----\n",
      " 0   value   55 non-null     bool \n",
      "dtypes: bool(1)\n",
      "memory usage: 495.0 bytes\n"
     ]
    }
   ],
   "source": [
    "showSlotlessLevels.info()"
   ],
   "metadata": {
    "collapsed": false
   }
  },
  {
   "cell_type": "code",
   "execution_count": 123,
   "outputs": [
    {
     "data": {
      "text/plain": "      value\n161   False\n282   False\n794   False\n1303  False\n1500  False",
      "text/html": "<div>\n<style scoped>\n    .dataframe tbody tr th:only-of-type {\n        vertical-align: middle;\n    }\n\n    .dataframe tbody tr th {\n        vertical-align: top;\n    }\n\n    .dataframe thead th {\n        text-align: right;\n    }\n</style>\n<table border=\"1\" class=\"dataframe\">\n  <thead>\n    <tr style=\"text-align: right;\">\n      <th></th>\n      <th>value</th>\n    </tr>\n  </thead>\n  <tbody>\n    <tr>\n      <th>161</th>\n      <td>False</td>\n    </tr>\n    <tr>\n      <th>282</th>\n      <td>False</td>\n    </tr>\n    <tr>\n      <th>794</th>\n      <td>False</td>\n    </tr>\n    <tr>\n      <th>1303</th>\n      <td>False</td>\n    </tr>\n    <tr>\n      <th>1500</th>\n      <td>False</td>\n    </tr>\n  </tbody>\n</table>\n</div>"
     },
     "execution_count": 123,
     "metadata": {},
     "output_type": "execute_result"
    }
   ],
   "source": [
    "showSlotlessLevels.head()"
   ],
   "metadata": {
    "collapsed": false
   }
  },
  {
   "cell_type": "code",
   "execution_count": 124,
   "outputs": [
    {
     "data": {
      "text/plain": "False    52\nTrue      3\nName: value, dtype: int64"
     },
     "execution_count": 124,
     "metadata": {},
     "output_type": "execute_result"
    }
   ],
   "source": [
    "showSlotlessLevels.value.value_counts()"
   ],
   "metadata": {
    "collapsed": false
   }
  },
  {
   "cell_type": "code",
   "execution_count": 128,
   "outputs": [
    {
     "data": {
      "text/plain": "spellcastingEntry    55\nName: type, dtype: int64"
     },
     "execution_count": 128,
     "metadata": {},
     "output_type": "execute_result"
    }
   ],
   "source": [
    "items.loc[showSlotlessLevels.index].type.value_counts()"
   ],
   "metadata": {
    "collapsed": false
   }
  },
  {
   "cell_type": "markdown",
   "source": [
    "It is a spellcastingEntry attribute. Only boolean values"
   ],
   "metadata": {
    "collapsed": false
   }
  },
  {
   "cell_type": "code",
   "execution_count": 129,
   "outputs": [],
   "source": [
    "system.drop([\"showSlotlessLevels\"], axis=\"columns\", inplace=True)"
   ],
   "metadata": {
    "collapsed": false
   }
  },
  {
   "cell_type": "markdown",
   "source": [
    "### showUnpreparedSpells"
   ],
   "metadata": {
    "collapsed": false
   }
  },
  {
   "cell_type": "code",
   "execution_count": 134,
   "outputs": [],
   "source": [
    "showUnpreparedSpells = unpack_column(\n",
    "    system[system.showUnpreparedSpells.notnull()], column_name=\"showUnpreparedSpells\"\n",
    ")"
   ],
   "metadata": {
    "collapsed": false
   }
  },
  {
   "cell_type": "code",
   "execution_count": 135,
   "outputs": [
    {
     "name": "stdout",
     "output_type": "stream",
     "text": [
      "<class 'pandas.core.frame.DataFrame'>\n",
      "Int64Index: 55 entries, 161 to 14135\n",
      "Data columns (total 1 columns):\n",
      " #   Column  Non-Null Count  Dtype\n",
      "---  ------  --------------  -----\n",
      " 0   value   55 non-null     bool \n",
      "dtypes: bool(1)\n",
      "memory usage: 495.0 bytes\n"
     ]
    }
   ],
   "source": [
    "showUnpreparedSpells.info()"
   ],
   "metadata": {
    "collapsed": false
   }
  },
  {
   "cell_type": "code",
   "execution_count": 136,
   "outputs": [
    {
     "data": {
      "text/plain": "      value\n161   False\n282   False\n794   False\n1303  False\n1500  False",
      "text/html": "<div>\n<style scoped>\n    .dataframe tbody tr th:only-of-type {\n        vertical-align: middle;\n    }\n\n    .dataframe tbody tr th {\n        vertical-align: top;\n    }\n\n    .dataframe thead th {\n        text-align: right;\n    }\n</style>\n<table border=\"1\" class=\"dataframe\">\n  <thead>\n    <tr style=\"text-align: right;\">\n      <th></th>\n      <th>value</th>\n    </tr>\n  </thead>\n  <tbody>\n    <tr>\n      <th>161</th>\n      <td>False</td>\n    </tr>\n    <tr>\n      <th>282</th>\n      <td>False</td>\n    </tr>\n    <tr>\n      <th>794</th>\n      <td>False</td>\n    </tr>\n    <tr>\n      <th>1303</th>\n      <td>False</td>\n    </tr>\n    <tr>\n      <th>1500</th>\n      <td>False</td>\n    </tr>\n  </tbody>\n</table>\n</div>"
     },
     "execution_count": 136,
     "metadata": {},
     "output_type": "execute_result"
    }
   ],
   "source": [
    "showUnpreparedSpells.head()"
   ],
   "metadata": {
    "collapsed": false
   }
  },
  {
   "cell_type": "code",
   "execution_count": 137,
   "outputs": [
    {
     "data": {
      "text/plain": "False    37\nTrue     18\nName: value, dtype: int64"
     },
     "execution_count": 137,
     "metadata": {},
     "output_type": "execute_result"
    }
   ],
   "source": [
    "showUnpreparedSpells.value.value_counts()"
   ],
   "metadata": {
    "collapsed": false
   }
  },
  {
   "cell_type": "code",
   "execution_count": 139,
   "outputs": [
    {
     "data": {
      "text/plain": "spellcastingEntry    55\nName: type, dtype: int64"
     },
     "execution_count": 139,
     "metadata": {},
     "output_type": "execute_result"
    }
   ],
   "source": [
    "items.loc[showUnpreparedSpells.index].type.value_counts()"
   ],
   "metadata": {
    "collapsed": false
   }
  },
  {
   "cell_type": "markdown",
   "source": [
    "It is a spellcastingEntry attribute. Only boolean values"
   ],
   "metadata": {
    "collapsed": false
   }
  },
  {
   "cell_type": "code",
   "execution_count": 140,
   "outputs": [],
   "source": [
    "system.drop([\"showUnpreparedSpells\"], axis=\"columns\", inplace=True)"
   ],
   "metadata": {
    "collapsed": false
   }
  },
  {
   "cell_type": "markdown",
   "source": [
    "### slots"
   ],
   "metadata": {
    "collapsed": false
   }
  },
  {
   "cell_type": "code",
   "execution_count": 142,
   "outputs": [],
   "source": [
    "slots = unpack_column(system[system.slots.notnull()], column_name=\"slots\")"
   ],
   "metadata": {
    "collapsed": false
   }
  },
  {
   "cell_type": "code",
   "execution_count": 143,
   "outputs": [
    {
     "name": "stdout",
     "output_type": "stream",
     "text": [
      "<class 'pandas.core.frame.DataFrame'>\n",
      "Int64Index: 55 entries, 161 to 14135\n",
      "Data columns (total 12 columns):\n",
      " #   Column  Non-Null Count  Dtype \n",
      "---  ------  --------------  ----- \n",
      " 0   slot0   55 non-null     object\n",
      " 1   slot1   55 non-null     object\n",
      " 2   slot10  55 non-null     object\n",
      " 3   slot11  55 non-null     object\n",
      " 4   slot2   55 non-null     object\n",
      " 5   slot3   55 non-null     object\n",
      " 6   slot4   55 non-null     object\n",
      " 7   slot5   55 non-null     object\n",
      " 8   slot6   55 non-null     object\n",
      " 9   slot7   55 non-null     object\n",
      " 10  slot8   55 non-null     object\n",
      " 11  slot9   55 non-null     object\n",
      "dtypes: object(12)\n",
      "memory usage: 5.6+ KB\n"
     ]
    }
   ],
   "source": [
    "slots.info()"
   ],
   "metadata": {
    "collapsed": false
   }
  },
  {
   "cell_type": "code",
   "execution_count": 144,
   "outputs": [
    {
     "data": {
      "text/plain": "                                                  slot0  \\\n161   {'max': 5, 'prepared': {'0': {'id': 'okGFmUTVP...   \n282   {'max': 5, 'prepared': {'0': {'id': 'oLbuCqIYn...   \n794   {'max': 5, 'prepared': {'0': {'id': 'IzBLwbfp0...   \n1303  {'max': 5, 'prepared': {'0': {'id': 'AP7kBXTnO...   \n1500  {'max': 3, 'prepared': {'0': {'id': 'nWJEgCvYW...   \n\n                                                  slot1  \\\n161   {'max': 3, 'prepared': {'0': {'id': 'WR1YEnWr0...   \n282   {'max': 3, 'prepared': {'0': {'id': '2nur7rgrG...   \n794   {'max': 3, 'prepared': {'0': {'id': 'IkBeG2Jlx...   \n1303  {'max': 4, 'prepared': {'0': {'id': 'gKYk0TieY...   \n1500  {'max': 3, 'prepared': {'0': {'id': 's8ncoGEzT...   \n\n                                      slot10  \\\n161   {'max': 0, 'prepared': [], 'value': 0}   \n282   {'max': 0, 'prepared': [], 'value': 0}   \n794   {'max': 0, 'prepared': [], 'value': 0}   \n1303  {'max': 0, 'prepared': [], 'value': 0}   \n1500  {'max': 0, 'prepared': [], 'value': 0}   \n\n                                      slot11  \\\n161   {'max': 0, 'prepared': [], 'value': 0}   \n282   {'max': 0, 'prepared': [], 'value': 0}   \n794   {'max': 0, 'prepared': [], 'value': 0}   \n1303  {'max': 0, 'prepared': [], 'value': 0}   \n1500  {'max': 0, 'prepared': [], 'value': 0}   \n\n                                                  slot2  \\\n161   {'max': 3, 'prepared': {'0': {'id': 'QpWKxB3qk...   \n282   {'max': 3, 'prepared': {'0': {'id': 'MElLzcltT...   \n794   {'max': 3, 'prepared': {'0': {'id': 'E1YMtVXl5...   \n1303  {'max': 4, 'prepared': {'0': {'id': 'YEW7VfYQ9...   \n1500  {'max': 2, 'prepared': {'0': {'id': 'lCilny3hx...   \n\n                                                  slot3  \\\n161   {'max': 2, 'prepared': {'0': {'id': 'inMjsHl3o...   \n282   {'max': 3, 'prepared': {'0': {'id': '3CGLemYS0...   \n794   {'max': 3, 'prepared': {'0': {'id': 'OdHOW2F96...   \n1303  {'max': 3, 'prepared': {'0': {'id': '7TL6jwfAX...   \n1500  {'max': 1, 'prepared': {'0': {'id': 'FPD0b6GjH...   \n\n                                                  slot4  \\\n161              {'max': 0, 'prepared': [], 'value': 0}   \n282   {'max': 3, 'prepared': {'0': {'expended': Fals...   \n794              {'max': 0, 'prepared': [], 'value': 0}   \n1303  {'max': 3, 'prepared': {'0': {'id': 'q1REpgMRj...   \n1500             {'max': 0, 'prepared': [], 'value': 0}   \n\n                                                  slot5  \\\n161              {'max': 0, 'prepared': [], 'value': 0}   \n282   {'max': 3, 'prepared': {'0': {'id': 'WtZauKapd...   \n794              {'max': 0, 'prepared': [], 'value': 0}   \n1303             {'max': 0, 'prepared': [], 'value': 0}   \n1500             {'max': 0, 'prepared': [], 'value': 0}   \n\n                                                  slot6  \\\n161              {'max': 0, 'prepared': [], 'value': 0}   \n282   {'max': 3, 'prepared': {'0': {'id': '5hrFRUgHv...   \n794              {'max': 0, 'prepared': [], 'value': 0}   \n1303             {'max': 0, 'prepared': [], 'value': 0}   \n1500             {'max': 0, 'prepared': [], 'value': 0}   \n\n                                                  slot7  \\\n161              {'max': 0, 'prepared': [], 'value': 0}   \n282   {'max': 3, 'prepared': {'0': {'id': 'OSXSrpnlU...   \n794              {'max': 0, 'prepared': [], 'value': 0}   \n1303             {'max': 0, 'prepared': [], 'value': 0}   \n1500             {'max': 0, 'prepared': [], 'value': 0}   \n\n                                                  slot8  \\\n161              {'max': 0, 'prepared': [], 'value': 0}   \n282   {'max': 3, 'prepared': {'0': {'id': 'Ux8C6xJEF...   \n794              {'max': 0, 'prepared': [], 'value': 0}   \n1303             {'max': 0, 'prepared': [], 'value': 0}   \n1500             {'max': 0, 'prepared': [], 'value': 0}   \n\n                                                  slot9  \n161              {'max': 0, 'prepared': [], 'value': 0}  \n282   {'max': 2, 'prepared': {'0': {'id': 'qSnYmhhxm...  \n794              {'max': 0, 'prepared': [], 'value': 0}  \n1303             {'max': 0, 'prepared': [], 'value': 0}  \n1500             {'max': 0, 'prepared': [], 'value': 0}  ",
      "text/html": "<div>\n<style scoped>\n    .dataframe tbody tr th:only-of-type {\n        vertical-align: middle;\n    }\n\n    .dataframe tbody tr th {\n        vertical-align: top;\n    }\n\n    .dataframe thead th {\n        text-align: right;\n    }\n</style>\n<table border=\"1\" class=\"dataframe\">\n  <thead>\n    <tr style=\"text-align: right;\">\n      <th></th>\n      <th>slot0</th>\n      <th>slot1</th>\n      <th>slot10</th>\n      <th>slot11</th>\n      <th>slot2</th>\n      <th>slot3</th>\n      <th>slot4</th>\n      <th>slot5</th>\n      <th>slot6</th>\n      <th>slot7</th>\n      <th>slot8</th>\n      <th>slot9</th>\n    </tr>\n  </thead>\n  <tbody>\n    <tr>\n      <th>161</th>\n      <td>{'max': 5, 'prepared': {'0': {'id': 'okGFmUTVP...</td>\n      <td>{'max': 3, 'prepared': {'0': {'id': 'WR1YEnWr0...</td>\n      <td>{'max': 0, 'prepared': [], 'value': 0}</td>\n      <td>{'max': 0, 'prepared': [], 'value': 0}</td>\n      <td>{'max': 3, 'prepared': {'0': {'id': 'QpWKxB3qk...</td>\n      <td>{'max': 2, 'prepared': {'0': {'id': 'inMjsHl3o...</td>\n      <td>{'max': 0, 'prepared': [], 'value': 0}</td>\n      <td>{'max': 0, 'prepared': [], 'value': 0}</td>\n      <td>{'max': 0, 'prepared': [], 'value': 0}</td>\n      <td>{'max': 0, 'prepared': [], 'value': 0}</td>\n      <td>{'max': 0, 'prepared': [], 'value': 0}</td>\n      <td>{'max': 0, 'prepared': [], 'value': 0}</td>\n    </tr>\n    <tr>\n      <th>282</th>\n      <td>{'max': 5, 'prepared': {'0': {'id': 'oLbuCqIYn...</td>\n      <td>{'max': 3, 'prepared': {'0': {'id': '2nur7rgrG...</td>\n      <td>{'max': 0, 'prepared': [], 'value': 0}</td>\n      <td>{'max': 0, 'prepared': [], 'value': 0}</td>\n      <td>{'max': 3, 'prepared': {'0': {'id': 'MElLzcltT...</td>\n      <td>{'max': 3, 'prepared': {'0': {'id': '3CGLemYS0...</td>\n      <td>{'max': 3, 'prepared': {'0': {'expended': Fals...</td>\n      <td>{'max': 3, 'prepared': {'0': {'id': 'WtZauKapd...</td>\n      <td>{'max': 3, 'prepared': {'0': {'id': '5hrFRUgHv...</td>\n      <td>{'max': 3, 'prepared': {'0': {'id': 'OSXSrpnlU...</td>\n      <td>{'max': 3, 'prepared': {'0': {'id': 'Ux8C6xJEF...</td>\n      <td>{'max': 2, 'prepared': {'0': {'id': 'qSnYmhhxm...</td>\n    </tr>\n    <tr>\n      <th>794</th>\n      <td>{'max': 5, 'prepared': {'0': {'id': 'IzBLwbfp0...</td>\n      <td>{'max': 3, 'prepared': {'0': {'id': 'IkBeG2Jlx...</td>\n      <td>{'max': 0, 'prepared': [], 'value': 0}</td>\n      <td>{'max': 0, 'prepared': [], 'value': 0}</td>\n      <td>{'max': 3, 'prepared': {'0': {'id': 'E1YMtVXl5...</td>\n      <td>{'max': 3, 'prepared': {'0': {'id': 'OdHOW2F96...</td>\n      <td>{'max': 0, 'prepared': [], 'value': 0}</td>\n      <td>{'max': 0, 'prepared': [], 'value': 0}</td>\n      <td>{'max': 0, 'prepared': [], 'value': 0}</td>\n      <td>{'max': 0, 'prepared': [], 'value': 0}</td>\n      <td>{'max': 0, 'prepared': [], 'value': 0}</td>\n      <td>{'max': 0, 'prepared': [], 'value': 0}</td>\n    </tr>\n    <tr>\n      <th>1303</th>\n      <td>{'max': 5, 'prepared': {'0': {'id': 'AP7kBXTnO...</td>\n      <td>{'max': 4, 'prepared': {'0': {'id': 'gKYk0TieY...</td>\n      <td>{'max': 0, 'prepared': [], 'value': 0}</td>\n      <td>{'max': 0, 'prepared': [], 'value': 0}</td>\n      <td>{'max': 4, 'prepared': {'0': {'id': 'YEW7VfYQ9...</td>\n      <td>{'max': 3, 'prepared': {'0': {'id': '7TL6jwfAX...</td>\n      <td>{'max': 3, 'prepared': {'0': {'id': 'q1REpgMRj...</td>\n      <td>{'max': 0, 'prepared': [], 'value': 0}</td>\n      <td>{'max': 0, 'prepared': [], 'value': 0}</td>\n      <td>{'max': 0, 'prepared': [], 'value': 0}</td>\n      <td>{'max': 0, 'prepared': [], 'value': 0}</td>\n      <td>{'max': 0, 'prepared': [], 'value': 0}</td>\n    </tr>\n    <tr>\n      <th>1500</th>\n      <td>{'max': 3, 'prepared': {'0': {'id': 'nWJEgCvYW...</td>\n      <td>{'max': 3, 'prepared': {'0': {'id': 's8ncoGEzT...</td>\n      <td>{'max': 0, 'prepared': [], 'value': 0}</td>\n      <td>{'max': 0, 'prepared': [], 'value': 0}</td>\n      <td>{'max': 2, 'prepared': {'0': {'id': 'lCilny3hx...</td>\n      <td>{'max': 1, 'prepared': {'0': {'id': 'FPD0b6GjH...</td>\n      <td>{'max': 0, 'prepared': [], 'value': 0}</td>\n      <td>{'max': 0, 'prepared': [], 'value': 0}</td>\n      <td>{'max': 0, 'prepared': [], 'value': 0}</td>\n      <td>{'max': 0, 'prepared': [], 'value': 0}</td>\n      <td>{'max': 0, 'prepared': [], 'value': 0}</td>\n      <td>{'max': 0, 'prepared': [], 'value': 0}</td>\n    </tr>\n  </tbody>\n</table>\n</div>"
     },
     "execution_count": 144,
     "metadata": {},
     "output_type": "execute_result"
    }
   ],
   "source": [
    "slots.head()"
   ],
   "metadata": {
    "collapsed": false
   }
  },
  {
   "cell_type": "markdown",
   "source": [
    "Analysis in other notebook"
   ],
   "metadata": {
    "collapsed": false
   }
  },
  {
   "cell_type": "code",
   "execution_count": 145,
   "outputs": [],
   "source": [
    "system.drop([\"slots\"], axis=\"columns\", inplace=True)"
   ],
   "metadata": {
    "collapsed": false
   }
  },
  {
   "cell_type": "markdown",
   "source": [
    "### slug"
   ],
   "metadata": {
    "collapsed": false
   }
  },
  {
   "cell_type": "code",
   "execution_count": 147,
   "outputs": [],
   "source": [
    "slug = system.slug[system.slug.notnull()]"
   ],
   "metadata": {
    "collapsed": false
   }
  },
  {
   "cell_type": "code",
   "execution_count": 148,
   "outputs": [
    {
     "data": {
      "text/plain": "darkvision                        810\nscent                             306\nat-will-spells                    291\nlow-light-vision                  233\n1-status-to-all-saves-vs-magic    216\n                                 ... \nskrik-nettle-venom                  1\nghoul-fever                         1\nogre-spider-venom                   1\nlich-rejuvenation                   1\nowb-pact                            1\nName: slug, Length: 928, dtype: int64"
     },
     "execution_count": 148,
     "metadata": {},
     "output_type": "execute_result"
    }
   ],
   "source": [
    "slug.value_counts()"
   ],
   "metadata": {
    "collapsed": false
   }
  },
  {
   "cell_type": "code",
   "execution_count": 149,
   "outputs": [
    {
     "data": {
      "text/plain": "spell         5148\naction        4198\nweapon         375\narmor          120\nconsumable      95\nequipment       35\ncondition       11\neffect           5\nmelee            2\ntreasure         1\nlore             1\nbackpack         1\nName: type, dtype: int64"
     },
     "execution_count": 149,
     "metadata": {},
     "output_type": "execute_result"
    }
   ],
   "source": [
    "items.loc[slug.index].type.value_counts()"
   ],
   "metadata": {
    "collapsed": false
   }
  },
  {
   "cell_type": "markdown",
   "source": [
    "**Can be useful**"
   ],
   "metadata": {
    "collapsed": false
   }
  },
  {
   "cell_type": "code",
   "execution_count": 150,
   "outputs": [],
   "source": [
    "system.drop([\"slug\"], axis=\"columns\", inplace=True)"
   ],
   "metadata": {
    "collapsed": false
   }
  },
  {
   "cell_type": "markdown",
   "source": [
    "### source"
   ],
   "metadata": {
    "collapsed": false
   }
  },
  {
   "cell_type": "code",
   "execution_count": 159,
   "outputs": [],
   "source": [
    "source = unpack_column(system[system.source.notnull()], column_name=\"source\")"
   ],
   "metadata": {
    "collapsed": false
   }
  },
  {
   "cell_type": "code",
   "execution_count": 155,
   "outputs": [
    {
     "name": "stdout",
     "output_type": "stream",
     "text": [
      "<class 'pandas.core.frame.DataFrame'>\n",
      "Int64Index: 21004 entries, 1 to 21730\n",
      "Data columns (total 1 columns):\n",
      " #   Column  Non-Null Count  Dtype \n",
      "---  ------  --------------  ----- \n",
      " 0   value   21004 non-null  object\n",
      "dtypes: object(1)\n",
      "memory usage: 328.2+ KB\n"
     ]
    }
   ],
   "source": [
    "source.info()"
   ],
   "metadata": {
    "collapsed": false
   }
  },
  {
   "cell_type": "code",
   "execution_count": 157,
   "outputs": [
    {
     "data": {
      "text/plain": "                      value\n1  Pathfinder Core Rulebook\n2  Pathfinder Core Rulebook\n3                          \n4                          \n5                          ",
      "text/html": "<div>\n<style scoped>\n    .dataframe tbody tr th:only-of-type {\n        vertical-align: middle;\n    }\n\n    .dataframe tbody tr th {\n        vertical-align: top;\n    }\n\n    .dataframe thead th {\n        text-align: right;\n    }\n</style>\n<table border=\"1\" class=\"dataframe\">\n  <thead>\n    <tr style=\"text-align: right;\">\n      <th></th>\n      <th>value</th>\n    </tr>\n  </thead>\n  <tbody>\n    <tr>\n      <th>1</th>\n      <td>Pathfinder Core Rulebook</td>\n    </tr>\n    <tr>\n      <th>2</th>\n      <td>Pathfinder Core Rulebook</td>\n    </tr>\n    <tr>\n      <th>3</th>\n      <td></td>\n    </tr>\n    <tr>\n      <th>4</th>\n      <td></td>\n    </tr>\n    <tr>\n      <th>5</th>\n      <td></td>\n    </tr>\n  </tbody>\n</table>\n</div>"
     },
     "execution_count": 157,
     "metadata": {},
     "output_type": "execute_result"
    }
   ],
   "source": [
    "source.head()"
   ],
   "metadata": {
    "collapsed": false
   }
  },
  {
   "cell_type": "code",
   "execution_count": 160,
   "outputs": [],
   "source": [
    "source.value = source.value.replace(\"\", np.nan)"
   ],
   "metadata": {
    "collapsed": false
   }
  },
  {
   "cell_type": "code",
   "execution_count": 161,
   "outputs": [
    {
     "name": "stdout",
     "output_type": "stream",
     "text": [
      "<class 'pandas.core.frame.DataFrame'>\n",
      "Int64Index: 21004 entries, 1 to 21730\n",
      "Data columns (total 1 columns):\n",
      " #   Column  Non-Null Count  Dtype \n",
      "---  ------  --------------  ----- \n",
      " 0   value   8347 non-null   object\n",
      "dtypes: object(1)\n",
      "memory usage: 328.2+ KB\n"
     ]
    }
   ],
   "source": [
    "source.info()"
   ],
   "metadata": {
    "collapsed": false
   }
  },
  {
   "cell_type": "code",
   "execution_count": 162,
   "outputs": [
    {
     "data": {
      "text/plain": "Pathfinder Core Rulebook              4665\nPathfinder Bestiary                   3534\nPathfinder Bestiary 2                   85\nPathfinder Bestiary 3                   43\nPathfinder Advanced Player's Guide      11\nPathfinder Secrets of Magic              9\nName: value, dtype: int64"
     },
     "execution_count": 162,
     "metadata": {},
     "output_type": "execute_result"
    }
   ],
   "source": [
    "source.value.value_counts()"
   ],
   "metadata": {
    "collapsed": false
   }
  },
  {
   "cell_type": "markdown",
   "source": [
    "It is just info about **source**"
   ],
   "metadata": {
    "collapsed": false
   }
  },
  {
   "cell_type": "code",
   "execution_count": null,
   "outputs": [],
   "source": [
    "system.drop([\"source\"], axis=\"columns\", inplace=True)"
   ],
   "metadata": {
    "collapsed": false,
    "pycharm": {
     "is_executing": true
    }
   }
  },
  {
   "cell_type": "markdown",
   "source": [
    "### spelldc"
   ],
   "metadata": {
    "collapsed": false
   }
  },
  {
   "cell_type": "code",
   "execution_count": 166,
   "outputs": [],
   "source": [
    "spelldc = unpack_column(system[system.spelldc.notnull()], column_name=\"spelldc\")"
   ],
   "metadata": {
    "collapsed": false
   }
  },
  {
   "cell_type": "code",
   "execution_count": 167,
   "outputs": [
    {
     "name": "stdout",
     "output_type": "stream",
     "text": [
      "<class 'pandas.core.frame.DataFrame'>\n",
      "Int64Index: 55 entries, 161 to 14135\n",
      "Data columns (total 3 columns):\n",
      " #   Column  Non-Null Count  Dtype\n",
      "---  ------  --------------  -----\n",
      " 0   dc      55 non-null     int64\n",
      " 1   mod     55 non-null     int64\n",
      " 2   value   55 non-null     int64\n",
      "dtypes: int64(3)\n",
      "memory usage: 1.7 KB\n"
     ]
    }
   ],
   "source": [
    "spelldc.info()"
   ],
   "metadata": {
    "collapsed": false
   }
  },
  {
   "cell_type": "code",
   "execution_count": 168,
   "outputs": [
    {
     "data": {
      "text/plain": "      dc  mod  value\n161   24    0     14\n282   42    0     36\n794   26    0     20\n1303  29    0     24\n1500  24    0     17",
      "text/html": "<div>\n<style scoped>\n    .dataframe tbody tr th:only-of-type {\n        vertical-align: middle;\n    }\n\n    .dataframe tbody tr th {\n        vertical-align: top;\n    }\n\n    .dataframe thead th {\n        text-align: right;\n    }\n</style>\n<table border=\"1\" class=\"dataframe\">\n  <thead>\n    <tr style=\"text-align: right;\">\n      <th></th>\n      <th>dc</th>\n      <th>mod</th>\n      <th>value</th>\n    </tr>\n  </thead>\n  <tbody>\n    <tr>\n      <th>161</th>\n      <td>24</td>\n      <td>0</td>\n      <td>14</td>\n    </tr>\n    <tr>\n      <th>282</th>\n      <td>42</td>\n      <td>0</td>\n      <td>36</td>\n    </tr>\n    <tr>\n      <th>794</th>\n      <td>26</td>\n      <td>0</td>\n      <td>20</td>\n    </tr>\n    <tr>\n      <th>1303</th>\n      <td>29</td>\n      <td>0</td>\n      <td>24</td>\n    </tr>\n    <tr>\n      <th>1500</th>\n      <td>24</td>\n      <td>0</td>\n      <td>17</td>\n    </tr>\n  </tbody>\n</table>\n</div>"
     },
     "execution_count": 168,
     "metadata": {},
     "output_type": "execute_result"
    }
   ],
   "source": [
    "spelldc.head()"
   ],
   "metadata": {
    "collapsed": false
   }
  },
  {
   "cell_type": "code",
   "execution_count": 183,
   "outputs": [
    {
     "data": {
      "text/plain": "33    6\n29    6\n28    5\n35    4\n21    4\n24    3\n18    3\n41    3\n40    2\n30    2\n42    2\n36    2\n26    2\n25    2\n37    2\n39    2\n22    1\n27    1\n20    1\n34    1\n38    1\nName: dc, dtype: int64"
     },
     "execution_count": 183,
     "metadata": {},
     "output_type": "execute_result"
    }
   ],
   "source": [
    "spelldc.dc.value_counts()"
   ],
   "metadata": {
    "collapsed": false
   }
  },
  {
   "cell_type": "code",
   "execution_count": 173,
   "outputs": [
    {
     "data": {
      "text/plain": "0    55\nName: mod, dtype: int64"
     },
     "execution_count": 173,
     "metadata": {},
     "output_type": "execute_result"
    }
   ],
   "source": [
    "spelldc[\"mod\"].value_counts()"
   ],
   "metadata": {
    "collapsed": false
   }
  },
  {
   "cell_type": "code",
   "execution_count": 174,
   "outputs": [
    {
     "data": {
      "text/plain": "20    4\n24    4\n26    4\n10    4\n11    3\n36    3\n18    3\n29    3\n33    3\n21    3\n23    3\n32    2\n30    2\n38    2\n25    2\n27    1\n8     1\n19    1\n14    1\n16    1\n28    1\n35    1\n13    1\n17    1\n34    1\nName: value, dtype: int64"
     },
     "execution_count": 174,
     "metadata": {},
     "output_type": "execute_result"
    }
   ],
   "source": [
    "spelldc.value.value_counts()"
   ],
   "metadata": {
    "collapsed": false
   }
  },
  {
   "cell_type": "code",
   "execution_count": 175,
   "outputs": [
    {
     "data": {
      "text/plain": "spellcastingEntry    55\nName: type, dtype: int64"
     },
     "execution_count": 175,
     "metadata": {},
     "output_type": "execute_result"
    }
   ],
   "source": [
    "items.loc[spelldc.index].type.value_counts()"
   ],
   "metadata": {
    "collapsed": false
   }
  },
  {
   "cell_type": "markdown",
   "source": [
    "Properity of spellcasting items.\n",
    "\n",
    "*\"DC Stands for Difficulty Class, and it represents the difficulty in either resisting, avoiding, or succumbing to the effects of a spell. When a spell lists in its descriptions that it requires a \"Reflex Save for half\" or a \"Fort Negates\" it means that a Save against the Spells DC must be rolled to avoid the effects of the spell.*\n",
    "\n",
    "*To calculate your Spell DC use the following Formula:*\n",
    "\n",
    "*Spell DC = 10 + Spell Level + Primary Casting modifier ( INT for Psions and Wizards, CHA for Sorcerer's and Bards, WIS for Druids and Clerics )\"*\n",
    "\n",
    "\n",
    "**Can be useful**"
   ],
   "metadata": {
    "collapsed": false
   }
  },
  {
   "cell_type": "code",
   "execution_count": 176,
   "outputs": [],
   "source": [
    "system.drop([\"spelldc\"], axis=\"columns\", inplace=True)"
   ],
   "metadata": {
    "collapsed": false
   }
  },
  {
   "cell_type": "markdown",
   "source": [
    "### tradition"
   ],
   "metadata": {
    "collapsed": false
   }
  },
  {
   "cell_type": "code",
   "execution_count": 178,
   "outputs": [],
   "source": [
    "tradition = unpack_column(system[system.tradition.notnull()], column_name=\"tradition\")"
   ],
   "metadata": {
    "collapsed": false
   }
  },
  {
   "cell_type": "code",
   "execution_count": 179,
   "outputs": [
    {
     "name": "stdout",
     "output_type": "stream",
     "text": [
      "<class 'pandas.core.frame.DataFrame'>\n",
      "Int64Index: 55 entries, 161 to 14135\n",
      "Data columns (total 1 columns):\n",
      " #   Column  Non-Null Count  Dtype \n",
      "---  ------  --------------  ----- \n",
      " 0   value   55 non-null     object\n",
      "dtypes: object(1)\n",
      "memory usage: 880.0+ bytes\n"
     ]
    }
   ],
   "source": [
    "tradition.info()"
   ],
   "metadata": {
    "collapsed": false
   }
  },
  {
   "cell_type": "code",
   "execution_count": 180,
   "outputs": [
    {
     "data": {
      "text/plain": "       value\n161   primal\n282   arcane\n794   arcane\n1303  divine\n1500  arcane",
      "text/html": "<div>\n<style scoped>\n    .dataframe tbody tr th:only-of-type {\n        vertical-align: middle;\n    }\n\n    .dataframe tbody tr th {\n        vertical-align: top;\n    }\n\n    .dataframe thead th {\n        text-align: right;\n    }\n</style>\n<table border=\"1\" class=\"dataframe\">\n  <thead>\n    <tr style=\"text-align: right;\">\n      <th></th>\n      <th>value</th>\n    </tr>\n  </thead>\n  <tbody>\n    <tr>\n      <th>161</th>\n      <td>primal</td>\n    </tr>\n    <tr>\n      <th>282</th>\n      <td>arcane</td>\n    </tr>\n    <tr>\n      <th>794</th>\n      <td>arcane</td>\n    </tr>\n    <tr>\n      <th>1303</th>\n      <td>divine</td>\n    </tr>\n    <tr>\n      <th>1500</th>\n      <td>arcane</td>\n    </tr>\n  </tbody>\n</table>\n</div>"
     },
     "execution_count": 180,
     "metadata": {},
     "output_type": "execute_result"
    }
   ],
   "source": [
    "tradition.head()"
   ],
   "metadata": {
    "collapsed": false
   }
  },
  {
   "cell_type": "code",
   "execution_count": 181,
   "outputs": [
    {
     "data": {
      "text/plain": "value \narcane    24\nprimal    22\ndivine     9\ndtype: int64"
     },
     "execution_count": 181,
     "metadata": {},
     "output_type": "execute_result"
    }
   ],
   "source": [
    "tradition.value_counts()"
   ],
   "metadata": {
    "collapsed": false
   }
  },
  {
   "cell_type": "code",
   "execution_count": 184,
   "outputs": [
    {
     "data": {
      "text/plain": "spellcastingEntry    55\nName: type, dtype: int64"
     },
     "execution_count": 184,
     "metadata": {},
     "output_type": "execute_result"
    }
   ],
   "source": [
    "items.loc[tradition.index].type.value_counts()"
   ],
   "metadata": {
    "collapsed": false
   }
  },
  {
   "cell_type": "markdown",
   "source": [
    "*\"Spellcasters cast spells from one of four different spell lists, each representing a different magical tradition: arcane, divine, occult, and primal.*\n",
    "\n",
    "*Your class determines which tradition of magic your spells use. In some cases, such as when a cleric gains spells from their deity or when a sorcerer gets spells from their bloodline, you might be able to cast spells from a different spell list. In these cases, the spell uses your magic tradition, not the list the spell normally comes from. When you cast a spell, add your tradition’s trait to the spell.*\n",
    "\n",
    "*Some types of magic, such as that of most magic items, don’t belong to any single tradition. These have the magical trait instead of a tradition trait.\"*"
   ],
   "metadata": {
    "collapsed": false
   }
  },
  {
   "cell_type": "code",
   "execution_count": null,
   "outputs": [],
   "source": [
    "system.drop([\"tradition\"], axis=\"columns\", inplace=True)"
   ],
   "metadata": {
    "collapsed": false,
    "pycharm": {
     "is_executing": true
    }
   }
  },
  {
   "cell_type": "markdown",
   "source": [
    "### schema"
   ],
   "metadata": {
    "collapsed": false
   }
  },
  {
   "cell_type": "code",
   "execution_count": 188,
   "outputs": [],
   "source": [
    "schema = unpack_column(system[system.schema.notnull()], column_name=\"schema\")"
   ],
   "metadata": {
    "collapsed": false
   }
  },
  {
   "cell_type": "code",
   "execution_count": 189,
   "outputs": [
    {
     "name": "stdout",
     "output_type": "stream",
     "text": [
      "<class 'pandas.core.frame.DataFrame'>\n",
      "Int64Index: 21004 entries, 1 to 21730\n",
      "Data columns (total 2 columns):\n",
      " #   Column         Non-Null Count  Dtype  \n",
      "---  ------         --------------  -----  \n",
      " 0   version        21004 non-null  float64\n",
      " 1   lastMigration  0 non-null      float64\n",
      "dtypes: float64(2)\n",
      "memory usage: 492.3 KB\n"
     ]
    }
   ],
   "source": [
    "schema.info()"
   ],
   "metadata": {
    "collapsed": false
   }
  },
  {
   "cell_type": "code",
   "execution_count": 190,
   "outputs": [
    {
     "data": {
      "text/plain": "   version  lastMigration\n1    0.827            NaN\n2    0.827            NaN\n3    0.827            NaN\n4    0.827            NaN\n5    0.827            NaN",
      "text/html": "<div>\n<style scoped>\n    .dataframe tbody tr th:only-of-type {\n        vertical-align: middle;\n    }\n\n    .dataframe tbody tr th {\n        vertical-align: top;\n    }\n\n    .dataframe thead th {\n        text-align: right;\n    }\n</style>\n<table border=\"1\" class=\"dataframe\">\n  <thead>\n    <tr style=\"text-align: right;\">\n      <th></th>\n      <th>version</th>\n      <th>lastMigration</th>\n    </tr>\n  </thead>\n  <tbody>\n    <tr>\n      <th>1</th>\n      <td>0.827</td>\n      <td>NaN</td>\n    </tr>\n    <tr>\n      <th>2</th>\n      <td>0.827</td>\n      <td>NaN</td>\n    </tr>\n    <tr>\n      <th>3</th>\n      <td>0.827</td>\n      <td>NaN</td>\n    </tr>\n    <tr>\n      <th>4</th>\n      <td>0.827</td>\n      <td>NaN</td>\n    </tr>\n    <tr>\n      <th>5</th>\n      <td>0.827</td>\n      <td>NaN</td>\n    </tr>\n  </tbody>\n</table>\n</div>"
     },
     "execution_count": 190,
     "metadata": {},
     "output_type": "execute_result"
    }
   ],
   "source": [
    "schema.head()"
   ],
   "metadata": {
    "collapsed": false
   }
  },
  {
   "cell_type": "code",
   "execution_count": 191,
   "outputs": [
    {
     "data": {
      "text/plain": "0.827    21004\nName: version, dtype: int64"
     },
     "execution_count": 191,
     "metadata": {},
     "output_type": "execute_result"
    }
   ],
   "source": [
    "schema.version.value_counts()"
   ],
   "metadata": {
    "collapsed": false
   }
  },
  {
   "cell_type": "code",
   "execution_count": 194,
   "outputs": [
    {
     "data": {
      "text/plain": "Series([], Name: lastMigration, dtype: int64)"
     },
     "execution_count": 194,
     "metadata": {},
     "output_type": "execute_result"
    }
   ],
   "source": [
    "schema.lastMigration.value_counts()  # only NaN"
   ],
   "metadata": {
    "collapsed": false
   }
  },
  {
   "cell_type": "code",
   "execution_count": 196,
   "outputs": [
    {
     "data": {
      "text/plain": "action               7691\nspell                5150\nlore                 5007\nmelee                2419\nweapon                375\narmor                 121\nconsumable            103\nequipment              62\nspellcastingEntry      55\ncondition              11\neffect                  5\ntreasure                4\nbackpack                1\nName: type, dtype: int64"
     },
     "execution_count": 196,
     "metadata": {},
     "output_type": "execute_result"
    }
   ],
   "source": [
    "items.loc[schema.index].type.value_counts()"
   ],
   "metadata": {
    "collapsed": false
   }
  },
  {
   "cell_type": "markdown",
   "source": [
    "* version - same for each item with this val\n",
    "* lastMigration - only NaN\n",
    "\n",
    "*Not important*"
   ],
   "metadata": {
    "collapsed": false
   }
  },
  {
   "cell_type": "code",
   "execution_count": 197,
   "outputs": [],
   "source": [
    "system.drop([\"schema\"], axis=\"columns\", inplace=True)"
   ],
   "metadata": {
    "collapsed": false
   }
  },
  {
   "cell_type": "markdown",
   "source": [
    "### ability"
   ],
   "metadata": {
    "collapsed": false
   }
  },
  {
   "cell_type": "code",
   "execution_count": 198,
   "outputs": [],
   "source": [
    "ability = unpack_column(system[system.ability.notnull()], \"ability\")"
   ],
   "metadata": {
    "collapsed": false
   }
  },
  {
   "cell_type": "code",
   "execution_count": 199,
   "outputs": [
    {
     "name": "stdout",
     "output_type": "stream",
     "text": [
      "<class 'pandas.core.frame.DataFrame'>\n",
      "Int64Index: 5150 entries, 1 to 21719\n",
      "Data columns (total 1 columns):\n",
      " #   Column  Non-Null Count  Dtype \n",
      "---  ------  --------------  ----- \n",
      " 0   value   5150 non-null   object\n",
      "dtypes: object(1)\n",
      "memory usage: 80.5+ KB\n"
     ]
    }
   ],
   "source": [
    "ability.info()"
   ],
   "metadata": {
    "collapsed": false
   }
  },
  {
   "cell_type": "code",
   "execution_count": 200,
   "outputs": [
    {
     "data": {
      "text/plain": "   value\n1       \n2       \n47      \n48      \n49      ",
      "text/html": "<div>\n<style scoped>\n    .dataframe tbody tr th:only-of-type {\n        vertical-align: middle;\n    }\n\n    .dataframe tbody tr th {\n        vertical-align: top;\n    }\n\n    .dataframe thead th {\n        text-align: right;\n    }\n</style>\n<table border=\"1\" class=\"dataframe\">\n  <thead>\n    <tr style=\"text-align: right;\">\n      <th></th>\n      <th>value</th>\n    </tr>\n  </thead>\n  <tbody>\n    <tr>\n      <th>1</th>\n      <td></td>\n    </tr>\n    <tr>\n      <th>2</th>\n      <td></td>\n    </tr>\n    <tr>\n      <th>47</th>\n      <td></td>\n    </tr>\n    <tr>\n      <th>48</th>\n      <td></td>\n    </tr>\n    <tr>\n      <th>49</th>\n      <td></td>\n    </tr>\n  </tbody>\n</table>\n</div>"
     },
     "execution_count": 200,
     "metadata": {},
     "output_type": "execute_result"
    }
   ],
   "source": [
    "ability.head()"
   ],
   "metadata": {
    "collapsed": false
   }
  },
  {
   "cell_type": "code",
   "execution_count": 202,
   "outputs": [],
   "source": [
    "ability = ability.replace(\"\", np.nan)"
   ],
   "metadata": {
    "collapsed": false
   }
  },
  {
   "cell_type": "code",
   "execution_count": 203,
   "outputs": [
    {
     "name": "stdout",
     "output_type": "stream",
     "text": [
      "<class 'pandas.core.frame.DataFrame'>\n",
      "Int64Index: 5150 entries, 1 to 21719\n",
      "Data columns (total 1 columns):\n",
      " #   Column  Non-Null Count  Dtype  \n",
      "---  ------  --------------  -----  \n",
      " 0   value   0 non-null      float64\n",
      "dtypes: float64(1)\n",
      "memory usage: 80.5 KB\n"
     ]
    }
   ],
   "source": [
    "ability.info()"
   ],
   "metadata": {
    "collapsed": false
   }
  },
  {
   "cell_type": "code",
   "execution_count": 204,
   "outputs": [
    {
     "data": {
      "text/plain": "spell    5150\nName: type, dtype: int64"
     },
     "execution_count": 204,
     "metadata": {},
     "output_type": "execute_result"
    }
   ],
   "source": [
    "items.loc[ability.index].type.value_counts()"
   ],
   "metadata": {
    "collapsed": false
   }
  },
  {
   "cell_type": "markdown",
   "source": [
    "* only NaN values\n",
    "* for spells only"
   ],
   "metadata": {
    "collapsed": false
   }
  },
  {
   "cell_type": "code",
   "execution_count": 205,
   "outputs": [],
   "source": [
    "system.drop([\"ability\"], axis=\"columns\", inplace=True)"
   ],
   "metadata": {
    "collapsed": false
   }
  },
  {
   "cell_type": "markdown",
   "source": [
    "### area"
   ],
   "metadata": {
    "collapsed": false
   }
  },
  {
   "cell_type": "code",
   "execution_count": 206,
   "outputs": [],
   "source": [
    "area = unpack_column(system[system.area.notnull()], column_name=\"area\")"
   ],
   "metadata": {
    "collapsed": false
   }
  },
  {
   "cell_type": "code",
   "execution_count": 207,
   "outputs": [
    {
     "name": "stdout",
     "output_type": "stream",
     "text": [
      "<class 'pandas.core.frame.DataFrame'>\n",
      "Int64Index: 1086 entries, 1 to 21719\n",
      "Data columns (total 3 columns):\n",
      " #   Column   Non-Null Count  Dtype \n",
      "---  ------   --------------  ----- \n",
      " 0   type     1086 non-null   object\n",
      " 1   value    1086 non-null   int64 \n",
      " 2   details  120 non-null    object\n",
      "dtypes: int64(1), object(2)\n",
      "memory usage: 33.9+ KB\n"
     ]
    }
   ],
   "source": [
    "area.info()"
   ],
   "metadata": {
    "collapsed": false
   }
  },
  {
   "cell_type": "code",
   "execution_count": 208,
   "outputs": [
    {
     "data": {
      "text/plain": "         type  value                                            details\n1       burst     20                                                NaN\n2        line     60                                                NaN\n49      burst     20  all squares in a 20-foot-radius burst that con...\n80  emanation     30                                                NaN\n81  emanation     30                                             varies",
      "text/html": "<div>\n<style scoped>\n    .dataframe tbody tr th:only-of-type {\n        vertical-align: middle;\n    }\n\n    .dataframe tbody tr th {\n        vertical-align: top;\n    }\n\n    .dataframe thead th {\n        text-align: right;\n    }\n</style>\n<table border=\"1\" class=\"dataframe\">\n  <thead>\n    <tr style=\"text-align: right;\">\n      <th></th>\n      <th>type</th>\n      <th>value</th>\n      <th>details</th>\n    </tr>\n  </thead>\n  <tbody>\n    <tr>\n      <th>1</th>\n      <td>burst</td>\n      <td>20</td>\n      <td>NaN</td>\n    </tr>\n    <tr>\n      <th>2</th>\n      <td>line</td>\n      <td>60</td>\n      <td>NaN</td>\n    </tr>\n    <tr>\n      <th>49</th>\n      <td>burst</td>\n      <td>20</td>\n      <td>all squares in a 20-foot-radius burst that con...</td>\n    </tr>\n    <tr>\n      <th>80</th>\n      <td>emanation</td>\n      <td>30</td>\n      <td>NaN</td>\n    </tr>\n    <tr>\n      <th>81</th>\n      <td>emanation</td>\n      <td>30</td>\n      <td>varies</td>\n    </tr>\n  </tbody>\n</table>\n</div>"
     },
     "execution_count": 208,
     "metadata": {},
     "output_type": "execute_result"
    }
   ],
   "source": [
    "area.head()"
   ],
   "metadata": {
    "collapsed": false
   }
  },
  {
   "cell_type": "code",
   "execution_count": 209,
   "outputs": [
    {
     "data": {
      "text/plain": "burst        551\nemanation    381\ncone          86\nline          68\nName: type, dtype: int64"
     },
     "execution_count": 209,
     "metadata": {},
     "output_type": "execute_result"
    }
   ],
   "source": [
    "area.type.value_counts()"
   ],
   "metadata": {
    "collapsed": false
   }
  },
  {
   "cell_type": "code",
   "execution_count": 210,
   "outputs": [
    {
     "data": {
      "text/plain": "30     411\n20     281\n60     108\n10     108\n40      40\n5       38\n50      35\n15      31\n120     13\n100     10\n360      9\n500      2\nName: value, dtype: int64"
     },
     "execution_count": 210,
     "metadata": {},
     "output_type": "execute_result"
    }
   ],
   "source": [
    "area.value.value_counts()"
   ],
   "metadata": {
    "collapsed": false
   }
  },
  {
   "cell_type": "code",
   "execution_count": 211,
   "outputs": [
    {
     "data": {
      "text/plain": "varies                                                       76\nall squares in a 20-foot-radius burst that contain plants    24\n20-foot burst adjacent to a flat surface                      8\n10-foot emanation centered on the touched creature            6\n10-foot radius, 40-foot-tall cylinder                         4\n30-foot burst centered on you                                 2\nName: details, dtype: int64"
     },
     "execution_count": 211,
     "metadata": {},
     "output_type": "execute_result"
    }
   ],
   "source": [
    "area.details.value_counts()"
   ],
   "metadata": {
    "collapsed": false
   }
  },
  {
   "cell_type": "code",
   "execution_count": 212,
   "outputs": [
    {
     "data": {
      "text/plain": "spell    1086\nName: type, dtype: int64"
     },
     "execution_count": 212,
     "metadata": {},
     "output_type": "execute_result"
    }
   ],
   "source": [
    "items.loc[area.index].type.value_counts()"
   ],
   "metadata": {
    "collapsed": false
   }
  },
  {
   "cell_type": "markdown",
   "source": [
    "Spell attributes\n",
    "\n",
    "**Can be useful**\n",
    "\n",
    "*\"Some effects occupy an area of a specified shape and size. An area effect always has a point of origin and extends out from that point. There are four types of areas: emanations, bursts, cones, and lines. When you’re playing in encounter mode and using a grid, areas are measured in the same way as movement (page 463), but areas’ distances are never reduced or affected by difficult terrain (page 475) or lesser cover (page 476). You can use the diagrams below as common reference templates for areas, rather than measuring squares each time. Many area effects describe only the effects on creatures in the area. The GM determines any effects to the environment and unattended objects.\"*"
   ],
   "metadata": {
    "collapsed": false
   }
  },
  {
   "cell_type": "code",
   "execution_count": 214,
   "outputs": [],
   "source": [
    "system.drop([\"area\"], axis=\"columns\", inplace=True)"
   ],
   "metadata": {
    "collapsed": false
   }
  },
  {
   "cell_type": "markdown",
   "source": [
    "### category"
   ],
   "metadata": {
    "collapsed": false
   }
  },
  {
   "cell_type": "code",
   "execution_count": 215,
   "outputs": [],
   "source": [
    "category = unpack_column(system[system.category.notnull()], \"category\")"
   ],
   "metadata": {
    "collapsed": false
   }
  },
  {
   "cell_type": "code",
   "execution_count": 218,
   "outputs": [
    {
     "name": "stdout",
     "output_type": "stream",
     "text": [
      "<class 'pandas.core.frame.DataFrame'>\n",
      "Int64Index: 5646 entries, 1 to 21720\n",
      "Data columns (total 2 columns):\n",
      " #   Column  Non-Null Count  Dtype \n",
      "---  ------  --------------  ----- \n",
      " 0   value   5150 non-null   object\n",
      " 1   0       496 non-null    object\n",
      "dtypes: object(2)\n",
      "memory usage: 132.3+ KB\n"
     ]
    }
   ],
   "source": [
    "category.info()  # 0 column - str instead of dict in system.category column"
   ],
   "metadata": {
    "collapsed": false
   }
  },
  {
   "cell_type": "code",
   "execution_count": 219,
   "outputs": [
    {
     "data": {
      "text/plain": "    value    0\n1   spell  NaN\n2   spell  NaN\n47  spell  NaN\n48  spell  NaN\n49  spell  NaN",
      "text/html": "<div>\n<style scoped>\n    .dataframe tbody tr th:only-of-type {\n        vertical-align: middle;\n    }\n\n    .dataframe tbody tr th {\n        vertical-align: top;\n    }\n\n    .dataframe thead th {\n        text-align: right;\n    }\n</style>\n<table border=\"1\" class=\"dataframe\">\n  <thead>\n    <tr style=\"text-align: right;\">\n      <th></th>\n      <th>value</th>\n      <th>0</th>\n    </tr>\n  </thead>\n  <tbody>\n    <tr>\n      <th>1</th>\n      <td>spell</td>\n      <td>NaN</td>\n    </tr>\n    <tr>\n      <th>2</th>\n      <td>spell</td>\n      <td>NaN</td>\n    </tr>\n    <tr>\n      <th>47</th>\n      <td>spell</td>\n      <td>NaN</td>\n    </tr>\n    <tr>\n      <th>48</th>\n      <td>spell</td>\n      <td>NaN</td>\n    </tr>\n    <tr>\n      <th>49</th>\n      <td>spell</td>\n      <td>NaN</td>\n    </tr>\n  </tbody>\n</table>\n</div>"
     },
     "execution_count": 219,
     "metadata": {},
     "output_type": "execute_result"
    }
   ],
   "source": [
    "category.head()"
   ],
   "metadata": {
    "collapsed": false
   }
  },
  {
   "cell_type": "code",
   "execution_count": 220,
   "outputs": [
    {
     "data": {
      "text/plain": "spell     4959\nritual     150\nfocus       41\nName: value, dtype: int64"
     },
     "execution_count": 220,
     "metadata": {},
     "output_type": "execute_result"
    }
   ],
   "source": [
    "category.value.value_counts()"
   ],
   "metadata": {
    "collapsed": false
   }
  },
  {
   "cell_type": "code",
   "execution_count": 227,
   "outputs": [
    {
     "data": {
      "text/plain": "martial      234\nsimple       132\nlight         44\nmedium        42\nshield        17\nheavy         16\nadvanced       8\nunarmored      2\nunarmed        1\nName: 0, dtype: int64"
     },
     "execution_count": 227,
     "metadata": {},
     "output_type": "execute_result"
    }
   ],
   "source": [
    "category[0].value_counts()"
   ],
   "metadata": {
    "collapsed": false
   }
  },
  {
   "cell_type": "code",
   "execution_count": 231,
   "outputs": [
    {
     "data": {
      "text/plain": "spell    5150\nName: type, dtype: int64"
     },
     "execution_count": 231,
     "metadata": {},
     "output_type": "execute_result"
    }
   ],
   "source": [
    "items.loc[category[category.value.notnull()].index].type.value_counts()"
   ],
   "metadata": {
    "collapsed": false
   }
  },
  {
   "cell_type": "code",
   "execution_count": 232,
   "outputs": [
    {
     "data": {
      "text/plain": "weapon    375\narmor     121\nName: type, dtype: int64"
     },
     "execution_count": 232,
     "metadata": {},
     "output_type": "execute_result"
    }
   ],
   "source": [
    "items.loc[category[category[0].notnull()].index].type.value_counts()"
   ],
   "metadata": {
    "collapsed": false
   }
  },
  {
   "cell_type": "markdown",
   "source": [
    "Attribute for:\n",
    "* spells - dict one\n",
    "* weapon / armor\n",
    "    *\"The armor’s category—unarmored, light armor, medium armor, or heavy armor—indicates which proficiency bonus you use while wearing the armor.\"*\n",
    "    *\"Weapons fall into broad categories depending on how much damage they deal and what traits they have. Martial weapons generally deal more damage than simple weapons, and advanced weapons generally have more advantageous traits than martial weapons with the same damage. Generally, you’ll want to select weapons that deal more damage, but if you’re a highly skilled combatant, you might want to pick a weapon with interesting traits, even if it has a lower weapon damage die. You can also purchase multiple weapons within your budget, allowing you to switch between them for different situations.\"*"
   ],
   "metadata": {
    "collapsed": false
   }
  },
  {
   "cell_type": "code",
   "execution_count": 233,
   "outputs": [],
   "source": [
    "system.drop([\"category\"], axis=\"columns\", inplace=True)"
   ],
   "metadata": {
    "collapsed": false
   }
  },
  {
   "cell_type": "markdown",
   "source": [
    "### components"
   ],
   "metadata": {
    "collapsed": false
   }
  },
  {
   "cell_type": "code",
   "execution_count": 234,
   "outputs": [],
   "source": [
    "components = unpack_column(\n",
    "    system[system.components.notnull()], column_name=\"components\"\n",
    ")"
   ],
   "metadata": {
    "collapsed": false
   }
  },
  {
   "cell_type": "code",
   "execution_count": 235,
   "outputs": [
    {
     "name": "stdout",
     "output_type": "stream",
     "text": [
      "<class 'pandas.core.frame.DataFrame'>\n",
      "Int64Index: 5150 entries, 1 to 21719\n",
      "Data columns (total 4 columns):\n",
      " #   Column    Non-Null Count  Dtype\n",
      "---  ------    --------------  -----\n",
      " 0   focus     5150 non-null   bool \n",
      " 1   material  5150 non-null   bool \n",
      " 2   somatic   5150 non-null   bool \n",
      " 3   verbal    5150 non-null   bool \n",
      "dtypes: bool(4)\n",
      "memory usage: 60.4 KB\n"
     ]
    }
   ],
   "source": [
    "components.info()"
   ],
   "metadata": {
    "collapsed": false
   }
  },
  {
   "cell_type": "code",
   "execution_count": 236,
   "outputs": [
    {
     "data": {
      "text/plain": "    focus  material  somatic  verbal\n1   False      True     True    True\n2   False     False     True    True\n47  False     False     True    True\n48  False     False     True    True\n49  False     False     True    True",
      "text/html": "<div>\n<style scoped>\n    .dataframe tbody tr th:only-of-type {\n        vertical-align: middle;\n    }\n\n    .dataframe tbody tr th {\n        vertical-align: top;\n    }\n\n    .dataframe thead th {\n        text-align: right;\n    }\n</style>\n<table border=\"1\" class=\"dataframe\">\n  <thead>\n    <tr style=\"text-align: right;\">\n      <th></th>\n      <th>focus</th>\n      <th>material</th>\n      <th>somatic</th>\n      <th>verbal</th>\n    </tr>\n  </thead>\n  <tbody>\n    <tr>\n      <th>1</th>\n      <td>False</td>\n      <td>True</td>\n      <td>True</td>\n      <td>True</td>\n    </tr>\n    <tr>\n      <th>2</th>\n      <td>False</td>\n      <td>False</td>\n      <td>True</td>\n      <td>True</td>\n    </tr>\n    <tr>\n      <th>47</th>\n      <td>False</td>\n      <td>False</td>\n      <td>True</td>\n      <td>True</td>\n    </tr>\n    <tr>\n      <th>48</th>\n      <td>False</td>\n      <td>False</td>\n      <td>True</td>\n      <td>True</td>\n    </tr>\n    <tr>\n      <th>49</th>\n      <td>False</td>\n      <td>False</td>\n      <td>True</td>\n      <td>True</td>\n    </tr>\n  </tbody>\n</table>\n</div>"
     },
     "execution_count": 236,
     "metadata": {},
     "output_type": "execute_result"
    }
   ],
   "source": [
    "components.head()"
   ],
   "metadata": {
    "collapsed": false
   }
  },
  {
   "cell_type": "code",
   "execution_count": 237,
   "outputs": [
    {
     "data": {
      "text/plain": "spell    5150\nName: type, dtype: int64"
     },
     "execution_count": 237,
     "metadata": {},
     "output_type": "execute_result"
    }
   ],
   "source": [
    "items.loc[components.index].type.value_counts()"
   ],
   "metadata": {
    "collapsed": false
   }
  },
  {
   "cell_type": "markdown",
   "source": [
    "Spell atribute\n",
    "\n",
    "*\"A spell description lists the components required to Cast the Spell.\"*"
   ],
   "metadata": {
    "collapsed": false
   }
  },
  {
   "cell_type": "code",
   "execution_count": 238,
   "outputs": [],
   "source": [
    "system.drop([\"components\"], axis=\"columns\", inplace=True)"
   ],
   "metadata": {
    "collapsed": false
   }
  },
  {
   "cell_type": "markdown",
   "source": [
    "### cost"
   ],
   "metadata": {
    "collapsed": false
   }
  },
  {
   "cell_type": "code",
   "execution_count": 240,
   "outputs": [],
   "source": [
    "cost = unpack_column(system[system.cost.notnull()], column_name=\"cost\")"
   ],
   "metadata": {
    "collapsed": false
   }
  },
  {
   "cell_type": "code",
   "execution_count": 242,
   "outputs": [
    {
     "name": "stdout",
     "output_type": "stream",
     "text": [
      "<class 'pandas.core.frame.DataFrame'>\n",
      "Int64Index: 5150 entries, 1 to 21719\n",
      "Data columns (total 1 columns):\n",
      " #   Column  Non-Null Count  Dtype \n",
      "---  ------  --------------  ----- \n",
      " 0   value   5150 non-null   object\n",
      "dtypes: object(1)\n",
      "memory usage: 80.5+ KB\n"
     ]
    }
   ],
   "source": [
    "cost.info()"
   ],
   "metadata": {
    "collapsed": false
   }
  },
  {
   "cell_type": "code",
   "execution_count": 243,
   "outputs": [
    {
     "data": {
      "text/plain": "   value\n1       \n2       \n47      \n48      \n49      ",
      "text/html": "<div>\n<style scoped>\n    .dataframe tbody tr th:only-of-type {\n        vertical-align: middle;\n    }\n\n    .dataframe tbody tr th {\n        vertical-align: top;\n    }\n\n    .dataframe thead th {\n        text-align: right;\n    }\n</style>\n<table border=\"1\" class=\"dataframe\">\n  <thead>\n    <tr style=\"text-align: right;\">\n      <th></th>\n      <th>value</th>\n    </tr>\n  </thead>\n  <tbody>\n    <tr>\n      <th>1</th>\n      <td></td>\n    </tr>\n    <tr>\n      <th>2</th>\n      <td></td>\n    </tr>\n    <tr>\n      <th>47</th>\n      <td></td>\n    </tr>\n    <tr>\n      <th>48</th>\n      <td></td>\n    </tr>\n    <tr>\n      <th>49</th>\n      <td></td>\n    </tr>\n  </tbody>\n</table>\n</div>"
     },
     "execution_count": 243,
     "metadata": {},
     "output_type": "execute_result"
    }
   ],
   "source": [
    "cost.head()"
   ],
   "metadata": {
    "collapsed": false
   }
  },
  {
   "cell_type": "code",
   "execution_count": 244,
   "outputs": [],
   "source": [
    "cost.value = cost.value.replace(\"\", np.nan)"
   ],
   "metadata": {
    "collapsed": false
   }
  },
  {
   "cell_type": "code",
   "execution_count": 246,
   "outputs": [
    {
     "data": {
      "text/plain": "black onyx, see Table 7-1                                                                                                    11\n6 gp of ruby dust                                                                                                             8\nreagents to construct the magical prison worth a total value of 800 gp × the target's level                                   6\ndiamonds worth a total value of 75 gp × the target's level                                                                    6\nblack sapphire with a gp value of at least the target's level × 100                                                           6\nrare incense worth a total value of 60 gp                                                                                     6\nrare incense and offerings worth a total value of 20 gp × the target's level                                                  4\nrare incense worth a total value of 300 gp                                                                                    4\nrare oils worth a total value of 10 gp × the target's level                                                                   4\nrare incense and offerings worth a total value of 20 gp × the spell level                                                     4\nrare candles and incense worth a total value of 50 gp                                                                         4\nherbs, 1/5 the value on Table 7-1                                                                                             3\nrare incense and offerings worth a total value of 2 gp × the spell level × the target's level                                 3\nfaerie circle ingredients worth a total value of 1 gp × the spell level × the target's level                                  3\nvaluable oils and objects associated with the target worth a total value of 100 gp × the spell level × the target's level     2\n1 vial of holy water                                                                                                          2\nrare oils, see Table 7-1                                                                                                      1\nrare herbs worth a total value of the target's level (minimum 1) × 25 gp                                                      1\nrare incense worth a total value of 150 gp                                                                                    1\nwarding diagram ingredients worth a total value of 2 gp × the spell level × the target's level                                1\nName: value, dtype: int64"
     },
     "execution_count": 246,
     "metadata": {},
     "output_type": "execute_result"
    }
   ],
   "source": [
    "cost.value.value_counts()"
   ],
   "metadata": {
    "collapsed": false
   }
  },
  {
   "cell_type": "code",
   "execution_count": 247,
   "outputs": [
    {
     "data": {
      "text/plain": "spell    5150\nName: type, dtype: int64"
     },
     "execution_count": 247,
     "metadata": {},
     "output_type": "execute_result"
    }
   ],
   "source": [
    "items.loc[cost.index].type.value_counts()"
   ],
   "metadata": {
    "collapsed": false
   }
  },
  {
   "cell_type": "markdown",
   "source": [
    "Spell atribute\n",
    "\n",
    "**Not important (?)**"
   ],
   "metadata": {
    "collapsed": false
   }
  },
  {
   "cell_type": "code",
   "execution_count": 248,
   "outputs": [],
   "source": [
    "system.drop([\"cost\"], axis=\"columns\", inplace=True)"
   ],
   "metadata": {
    "collapsed": false
   }
  },
  {
   "cell_type": "markdown",
   "source": [
    "### damage"
   ],
   "metadata": {
    "collapsed": false
   }
  },
  {
   "cell_type": "code",
   "execution_count": 252,
   "outputs": [],
   "source": [
    "damage = unpack_column(system[system.damage.notnull()], column_name=\"damage\")\n",
    "damage = damage.replace(\"\", np.nan)"
   ],
   "metadata": {
    "collapsed": false
   }
  },
  {
   "cell_type": "code",
   "execution_count": 253,
   "outputs": [
    {
     "name": "stdout",
     "output_type": "stream",
     "text": [
      "<class 'pandas.core.frame.DataFrame'>\n",
      "Int64Index: 5525 entries, 1 to 21720\n",
      "Data columns (total 4 columns):\n",
      " #   Column      Non-Null Count  Dtype  \n",
      "---  ------      --------------  -----  \n",
      " 0   value       5150 non-null   object \n",
      " 1   damageType  376 non-null    object \n",
      " 2   dice        375 non-null    float64\n",
      " 3   die         372 non-null    object \n",
      "dtypes: float64(1), object(3)\n",
      "memory usage: 215.8+ KB\n"
     ]
    }
   ],
   "source": [
    "damage.info()"
   ],
   "metadata": {
    "collapsed": false
   }
  },
  {
   "cell_type": "code",
   "execution_count": 254,
   "outputs": [
    {
     "data": {
      "text/plain": "   value damageType  dice  die\n1     {}        NaN   NaN  NaN\n2     {}        NaN   NaN  NaN\n47    {}        NaN   NaN  NaN\n48    {}        NaN   NaN  NaN\n49    {}        NaN   NaN  NaN",
      "text/html": "<div>\n<style scoped>\n    .dataframe tbody tr th:only-of-type {\n        vertical-align: middle;\n    }\n\n    .dataframe tbody tr th {\n        vertical-align: top;\n    }\n\n    .dataframe thead th {\n        text-align: right;\n    }\n</style>\n<table border=\"1\" class=\"dataframe\">\n  <thead>\n    <tr style=\"text-align: right;\">\n      <th></th>\n      <th>value</th>\n      <th>damageType</th>\n      <th>dice</th>\n      <th>die</th>\n    </tr>\n  </thead>\n  <tbody>\n    <tr>\n      <th>1</th>\n      <td>{}</td>\n      <td>NaN</td>\n      <td>NaN</td>\n      <td>NaN</td>\n    </tr>\n    <tr>\n      <th>2</th>\n      <td>{}</td>\n      <td>NaN</td>\n      <td>NaN</td>\n      <td>NaN</td>\n    </tr>\n    <tr>\n      <th>47</th>\n      <td>{}</td>\n      <td>NaN</td>\n      <td>NaN</td>\n      <td>NaN</td>\n    </tr>\n    <tr>\n      <th>48</th>\n      <td>{}</td>\n      <td>NaN</td>\n      <td>NaN</td>\n      <td>NaN</td>\n    </tr>\n    <tr>\n      <th>49</th>\n      <td>{}</td>\n      <td>NaN</td>\n      <td>NaN</td>\n      <td>NaN</td>\n    </tr>\n  </tbody>\n</table>\n</div>"
     },
     "execution_count": 254,
     "metadata": {},
     "output_type": "execute_result"
    }
   ],
   "source": [
    "damage.head()"
   ],
   "metadata": {
    "collapsed": false
   }
  },
  {
   "cell_type": "code",
   "execution_count": 259,
   "outputs": [],
   "source": [
    "damage.loc[damage.value == {}] = np.nan"
   ],
   "metadata": {
    "collapsed": false
   }
  },
  {
   "cell_type": "code",
   "execution_count": 260,
   "outputs": [
    {
     "data": {
      "text/plain": "{'0': {'applyMod': False, 'type': {'categories': [], 'subtype': '', 'value': 'positive'}, 'value': '1d8'}}    56\n{'0': {'applyMod': True, 'type': {'categories': [], 'value': 'mental'}, 'value': '0'}}                        54\n{'0': {'applyMod': True, 'type': {'categories': [], 'value': 'fire'}, 'value': '1d4'}}                        26\n{'0': {'applyMod': True, 'type': {'categories': [], 'value': 'cold'}, 'value': '1d4'}}                        21\n{'0': {'applyMod': True, 'type': {'categories': [], 'value': 'negative'}, 'value': '1d4'}}                    20\n                                                                                                              ..\n{'0': {'type': {'categories': [], 'value': 'untyped'}, 'value': '9d8'}}                                        1\n{'0': {'type': {'categories': [], 'value': 'negative'}, 'value': '8d4'}}                                       1\n{'0': {'type': {'categories': [], 'value': 'negative'}, 'value': '8d6'}}                                       1\n{'0': {'applyMod': True, 'type': {'categories': [], 'subtype': '', 'value': 'acid'}, 'value': '2d6+2'}}        1\n{'0': {'applyMod': True, 'type': {'categories': [], 'subtype': '', 'value': 'negative'}, 'value': '1d4'}}      1\nName: value, Length: 181, dtype: int64"
     },
     "execution_count": 260,
     "metadata": {},
     "output_type": "execute_result"
    }
   ],
   "source": [
    "damage.value.value_counts()"
   ],
   "metadata": {
    "collapsed": false
   }
  },
  {
   "cell_type": "code",
   "execution_count": 265,
   "outputs": [
    {
     "data": {
      "text/plain": "piercing       193\nslashing       109\nbludgeoning     67\nfire             3\nacid             2\ncold             1\nName: damageType, dtype: int64"
     },
     "execution_count": 265,
     "metadata": {},
     "output_type": "execute_result"
    }
   ],
   "source": [
    "damage.damageType.value_counts()"
   ],
   "metadata": {
    "collapsed": false
   }
  },
  {
   "cell_type": "code",
   "execution_count": 266,
   "outputs": [
    {
     "data": {
      "text/plain": "1.0    372\n2.0      2\n0.0      1\nName: dice, dtype: int64"
     },
     "execution_count": 266,
     "metadata": {},
     "output_type": "execute_result"
    }
   ],
   "source": [
    "damage.dice.value_counts()"
   ],
   "metadata": {
    "collapsed": false
   }
  },
  {
   "cell_type": "code",
   "execution_count": 267,
   "outputs": [
    {
     "data": {
      "text/plain": "d6     159\nd8     100\nd4      53\nd10     34\nd12     25\nName: die, dtype: int64"
     },
     "execution_count": 267,
     "metadata": {},
     "output_type": "execute_result"
    }
   ],
   "source": [
    "damage.die.value_counts()"
   ],
   "metadata": {
    "collapsed": false
   }
  },
  {
   "cell_type": "markdown",
   "source": [
    "**CAN BE IMPORTANT**"
   ],
   "metadata": {
    "collapsed": false
   }
  },
  {
   "cell_type": "markdown",
   "source": [
    "#### damage value"
   ],
   "metadata": {
    "collapsed": false
   }
  },
  {
   "cell_type": "code",
   "execution_count": 261,
   "outputs": [],
   "source": [
    "damage_val = unpack_column(damage[damage.value.notnull()], column_name=\"value\")"
   ],
   "metadata": {
    "collapsed": false
   }
  },
  {
   "cell_type": "code",
   "execution_count": 262,
   "outputs": [
    {
     "name": "stdout",
     "output_type": "stream",
     "text": [
      "<class 'pandas.core.frame.DataFrame'>\n",
      "Int64Index: 860 entries, 81 to 21719\n",
      "Data columns (total 7 columns):\n",
      " #   Column            Non-Null Count  Dtype \n",
      "---  ------            --------------  ----- \n",
      " 0   0                 856 non-null    object\n",
      " 1   gcovwqxwitqchoin  11 non-null     object\n",
      " 2   zvXU9ZdRVHSORUUn  1 non-null      object\n",
      " 3   9k8ayqgvgultdghx  4 non-null      object\n",
      " 4   1                 13 non-null     object\n",
      " 5   v1pnjhfu6e9akqe0  4 non-null      object\n",
      " 6   wnlxzlrxtrkk2bh3  1 non-null      object\n",
      "dtypes: object(7)\n",
      "memory usage: 53.8+ KB\n"
     ]
    }
   ],
   "source": [
    "damage_val.info()"
   ],
   "metadata": {
    "collapsed": false
   }
  },
  {
   "cell_type": "code",
   "execution_count": 271,
   "outputs": [
    {
     "data": {
      "text/plain": "{'applyMod': False, 'type': {'categories': [], 'subtype': '', 'value': 'positive'}, 'value': '1d8'}    56\n{'applyMod': True, 'type': {'categories': [], 'value': 'mental'}, 'value': '0'}                        54\n{'applyMod': True, 'type': {'categories': [], 'value': 'fire'}, 'value': '1d4'}                        26\n{'applyMod': True, 'type': {'categories': [], 'value': 'cold'}, 'value': '1d4'}                        21\n{'applyMod': True, 'type': {'categories': [], 'value': 'negative'}, 'value': '1d4'}                    20\n                                                                                                       ..\n{'type': {'categories': [], 'value': 'untyped'}, 'value': '8d10'}                                       1\n{'type': {'categories': [], 'value': 'positive'}, 'value': '8d8'}                                       1\n{'type': {'categories': [], 'value': 'cold'}, 'value': '20d6'}                                          1\n{'type': {'categories': [], 'value': 'untyped'}, 'value': '9d8'}                                        1\n{'applyMod': True, 'type': {'categories': [], 'subtype': '', 'value': 'negative'}, 'value': '1d4'}      1\nName: 0, Length: 180, dtype: int64"
     },
     "execution_count": 271,
     "metadata": {},
     "output_type": "execute_result"
    }
   ],
   "source": [
    "damage_val[\"0\"].value_counts()"
   ],
   "metadata": {
    "collapsed": false
   }
  },
  {
   "cell_type": "markdown",
   "source": [
    "##### damage.value.0"
   ],
   "metadata": {
    "collapsed": false
   }
  },
  {
   "cell_type": "code",
   "execution_count": 272,
   "outputs": [],
   "source": [
    "d_val_zero = unpack_column_with_null(damage_val, column_name=\"0\")"
   ],
   "metadata": {
    "collapsed": false
   }
  },
  {
   "cell_type": "code",
   "execution_count": 273,
   "outputs": [
    {
     "name": "stdout",
     "output_type": "stream",
     "text": [
      "<class 'pandas.core.frame.DataFrame'>\n",
      "Int64Index: 860 entries, 81 to 21719\n",
      "Data columns (total 3 columns):\n",
      " #   Column    Non-Null Count  Dtype \n",
      "---  ------    --------------  ----- \n",
      " 0   applyMod  482 non-null    object\n",
      " 1   type      856 non-null    object\n",
      " 2   value     856 non-null    object\n",
      "dtypes: object(3)\n",
      "memory usage: 26.9+ KB\n"
     ]
    }
   ],
   "source": [
    "d_val_zero.info()"
   ],
   "metadata": {
    "collapsed": false
   }
  },
  {
   "cell_type": "code",
   "execution_count": 274,
   "outputs": [
    {
     "data": {
      "text/plain": "    applyMod                                               type  value\n81     False  {'categories': [], 'subtype': '', 'value': 'po...    1d8\n95       NaN                {'categories': [], 'value': 'fire'}    4d6\n97     False  {'categories': [], 'subtype': '', 'value': 'el...   4d12\n102     True              {'categories': [], 'value': 'mental'}      0\n108    False  {'categories': [], 'subtype': '', 'value': 'fo...  1d4+1",
      "text/html": "<div>\n<style scoped>\n    .dataframe tbody tr th:only-of-type {\n        vertical-align: middle;\n    }\n\n    .dataframe tbody tr th {\n        vertical-align: top;\n    }\n\n    .dataframe thead th {\n        text-align: right;\n    }\n</style>\n<table border=\"1\" class=\"dataframe\">\n  <thead>\n    <tr style=\"text-align: right;\">\n      <th></th>\n      <th>applyMod</th>\n      <th>type</th>\n      <th>value</th>\n    </tr>\n  </thead>\n  <tbody>\n    <tr>\n      <th>81</th>\n      <td>False</td>\n      <td>{'categories': [], 'subtype': '', 'value': 'po...</td>\n      <td>1d8</td>\n    </tr>\n    <tr>\n      <th>95</th>\n      <td>NaN</td>\n      <td>{'categories': [], 'value': 'fire'}</td>\n      <td>4d6</td>\n    </tr>\n    <tr>\n      <th>97</th>\n      <td>False</td>\n      <td>{'categories': [], 'subtype': '', 'value': 'el...</td>\n      <td>4d12</td>\n    </tr>\n    <tr>\n      <th>102</th>\n      <td>True</td>\n      <td>{'categories': [], 'value': 'mental'}</td>\n      <td>0</td>\n    </tr>\n    <tr>\n      <th>108</th>\n      <td>False</td>\n      <td>{'categories': [], 'subtype': '', 'value': 'fo...</td>\n      <td>1d4+1</td>\n    </tr>\n  </tbody>\n</table>\n</div>"
     },
     "execution_count": 274,
     "metadata": {},
     "output_type": "execute_result"
    }
   ],
   "source": [
    "d_val_zero.head()"
   ],
   "metadata": {
    "collapsed": false
   }
  },
  {
   "cell_type": "code",
   "execution_count": 284,
   "outputs": [],
   "source": [
    "damage_val_zero_type = unpack_column_with_null(d_val_zero, column_name=\"type\")\n",
    "damage_val_zero_type.categories = damage_val_zero_type.categories.apply(\n",
    "    lambda x: np.nan if (type(x) == list and len(x) == 0) else x\n",
    ")\n",
    "damage_val_zero_type = damage_val_zero_type.replace(\"\", np.nan)"
   ],
   "metadata": {
    "collapsed": false
   }
  },
  {
   "cell_type": "code",
   "execution_count": 285,
   "outputs": [
    {
     "name": "stdout",
     "output_type": "stream",
     "text": [
      "<class 'pandas.core.frame.DataFrame'>\n",
      "Int64Index: 860 entries, 81 to 21719\n",
      "Data columns (total 3 columns):\n",
      " #   Column      Non-Null Count  Dtype  \n",
      "---  ------      --------------  -----  \n",
      " 0   categories  0 non-null      float64\n",
      " 1   subtype     1 non-null      object \n",
      " 2   value       847 non-null    object \n",
      "dtypes: float64(1), object(2)\n",
      "memory usage: 26.9+ KB\n"
     ]
    }
   ],
   "source": [
    "damage_val_zero_type.info()"
   ],
   "metadata": {
    "collapsed": false
   }
  },
  {
   "cell_type": "code",
   "execution_count": 286,
   "outputs": [
    {
     "data": {
      "text/plain": "     categories subtype        value\n81          NaN     NaN     positive\n95          NaN     NaN         fire\n97          NaN     NaN  electricity\n102         NaN     NaN       mental\n108         NaN     NaN        force",
      "text/html": "<div>\n<style scoped>\n    .dataframe tbody tr th:only-of-type {\n        vertical-align: middle;\n    }\n\n    .dataframe tbody tr th {\n        vertical-align: top;\n    }\n\n    .dataframe thead th {\n        text-align: right;\n    }\n</style>\n<table border=\"1\" class=\"dataframe\">\n  <thead>\n    <tr style=\"text-align: right;\">\n      <th></th>\n      <th>categories</th>\n      <th>subtype</th>\n      <th>value</th>\n    </tr>\n  </thead>\n  <tbody>\n    <tr>\n      <th>81</th>\n      <td>NaN</td>\n      <td>NaN</td>\n      <td>positive</td>\n    </tr>\n    <tr>\n      <th>95</th>\n      <td>NaN</td>\n      <td>NaN</td>\n      <td>fire</td>\n    </tr>\n    <tr>\n      <th>97</th>\n      <td>NaN</td>\n      <td>NaN</td>\n      <td>electricity</td>\n    </tr>\n    <tr>\n      <th>102</th>\n      <td>NaN</td>\n      <td>NaN</td>\n      <td>mental</td>\n    </tr>\n    <tr>\n      <th>108</th>\n      <td>NaN</td>\n      <td>NaN</td>\n      <td>force</td>\n    </tr>\n  </tbody>\n</table>\n</div>"
     },
     "execution_count": 286,
     "metadata": {},
     "output_type": "execute_result"
    }
   ],
   "source": [
    "damage_val_zero_type.head()"
   ],
   "metadata": {
    "collapsed": false
   }
  },
  {
   "cell_type": "code",
   "execution_count": 287,
   "outputs": [
    {
     "data": {
      "text/plain": "fire           129\nnegative       110\nmental         104\nuntyped         99\npositive        92\nbludgeoning     61\ncold            58\nelectricity     40\nforce           40\nacid            27\nsonic           27\nhealing         26\npiercing        17\npoison          17\nName: value, dtype: int64"
     },
     "execution_count": 287,
     "metadata": {},
     "output_type": "execute_result"
    }
   ],
   "source": [
    "damage_val_zero_type.value.value_counts()"
   ],
   "metadata": {
    "collapsed": false
   }
  },
  {
   "cell_type": "code",
   "execution_count": 288,
   "outputs": [
    {
     "data": {
      "text/plain": "persistent    1\nName: subtype, dtype: int64"
     },
     "execution_count": 288,
     "metadata": {},
     "output_type": "execute_result"
    }
   ],
   "source": [
    "damage_val_zero_type.subtype.value_counts()"
   ],
   "metadata": {
    "collapsed": false
   }
  },
  {
   "cell_type": "code",
   "execution_count": 131,
   "outputs": [],
   "source": [
    "# bestiary.loc[86, :]"
   ],
   "metadata": {
    "collapsed": false
   }
  },
  {
   "cell_type": "code",
   "execution_count": 249,
   "outputs": [
    {
     "data": {
      "text/plain": "          damage                                        duration  \\\n0            NaN                                             NaN   \n1  {'value': {}}                           {'value': '1 minute'}   \n2  {'value': {}}  {'value': 'until the start of your next turn'}   \n3            NaN                                             NaN   \n4            NaN                                             NaN   \n\n  hasCounteractCheck         level  \\\n0                NaN           NaN   \n1   {'value': False}  {'value': 2}   \n2   {'value': False}  {'value': 1}   \n3                NaN           NaN   \n4                NaN           NaN   \n\n                                            location      materials  \\\n0                                                NaN            NaN   \n1  {'heightenedLevel': 2, 'value': 'B7rzf0nBJmzg8...  {'value': ''}   \n2  {'heightenedLevel': 1, 'value': 'B7rzf0nBJmzg8...  {'value': ''}   \n3                                                NaN            NaN   \n4                                                NaN            NaN   \n\n    primarycheck                  range                                 save  \\\n0            NaN                    NaN                                  NaN   \n1  {'value': ''}  {'value': '120 feet'}           {'basic': '', 'value': ''}   \n2  {'value': ''}          {'value': ''}  {'basic': '', 'value': 'fortitude'}   \n3            NaN                    NaN                                  NaN   \n4            NaN                    NaN                                  NaN   \n\n                     school  ... unidentified areatype brokenThreshold  \\\n0                       NaN  ...          NaN      NaN             NaN   \n1  {'value': 'conjuration'}  ...          NaN      NaN             NaN   \n2    {'value': 'evocation'}  ...          NaN      NaN             NaN   \n3                       NaN  ...          NaN      NaN             NaN   \n4                       NaN  ...          NaN      NaN             NaN   \n\n  bulkCapacity collapsed identification identified invested maxHp stowing  \n0          NaN       NaN            NaN        NaN      NaN   NaN     NaN  \n1          NaN       NaN            NaN        NaN      NaN   NaN     NaN  \n2          NaN       NaN            NaN        NaN      NaN   NaN     NaN  \n3          NaN       NaN            NaN        NaN      NaN   NaN     NaN  \n4          NaN       NaN            NaN        NaN      NaN   NaN     NaN  \n\n[5 rows x 90 columns]",
      "text/html": "<div>\n<style scoped>\n    .dataframe tbody tr th:only-of-type {\n        vertical-align: middle;\n    }\n\n    .dataframe tbody tr th {\n        vertical-align: top;\n    }\n\n    .dataframe thead th {\n        text-align: right;\n    }\n</style>\n<table border=\"1\" class=\"dataframe\">\n  <thead>\n    <tr style=\"text-align: right;\">\n      <th></th>\n      <th>damage</th>\n      <th>duration</th>\n      <th>hasCounteractCheck</th>\n      <th>level</th>\n      <th>location</th>\n      <th>materials</th>\n      <th>primarycheck</th>\n      <th>range</th>\n      <th>save</th>\n      <th>school</th>\n      <th>...</th>\n      <th>unidentified</th>\n      <th>areatype</th>\n      <th>brokenThreshold</th>\n      <th>bulkCapacity</th>\n      <th>collapsed</th>\n      <th>identification</th>\n      <th>identified</th>\n      <th>invested</th>\n      <th>maxHp</th>\n      <th>stowing</th>\n    </tr>\n  </thead>\n  <tbody>\n    <tr>\n      <th>0</th>\n      <td>NaN</td>\n      <td>NaN</td>\n      <td>NaN</td>\n      <td>NaN</td>\n      <td>NaN</td>\n      <td>NaN</td>\n      <td>NaN</td>\n      <td>NaN</td>\n      <td>NaN</td>\n      <td>NaN</td>\n      <td>...</td>\n      <td>NaN</td>\n      <td>NaN</td>\n      <td>NaN</td>\n      <td>NaN</td>\n      <td>NaN</td>\n      <td>NaN</td>\n      <td>NaN</td>\n      <td>NaN</td>\n      <td>NaN</td>\n      <td>NaN</td>\n    </tr>\n    <tr>\n      <th>1</th>\n      <td>{'value': {}}</td>\n      <td>{'value': '1 minute'}</td>\n      <td>{'value': False}</td>\n      <td>{'value': 2}</td>\n      <td>{'heightenedLevel': 2, 'value': 'B7rzf0nBJmzg8...</td>\n      <td>{'value': ''}</td>\n      <td>{'value': ''}</td>\n      <td>{'value': '120 feet'}</td>\n      <td>{'basic': '', 'value': ''}</td>\n      <td>{'value': 'conjuration'}</td>\n      <td>...</td>\n      <td>NaN</td>\n      <td>NaN</td>\n      <td>NaN</td>\n      <td>NaN</td>\n      <td>NaN</td>\n      <td>NaN</td>\n      <td>NaN</td>\n      <td>NaN</td>\n      <td>NaN</td>\n      <td>NaN</td>\n    </tr>\n    <tr>\n      <th>2</th>\n      <td>{'value': {}}</td>\n      <td>{'value': 'until the start of your next turn'}</td>\n      <td>{'value': False}</td>\n      <td>{'value': 1}</td>\n      <td>{'heightenedLevel': 1, 'value': 'B7rzf0nBJmzg8...</td>\n      <td>{'value': ''}</td>\n      <td>{'value': ''}</td>\n      <td>{'value': ''}</td>\n      <td>{'basic': '', 'value': 'fortitude'}</td>\n      <td>{'value': 'evocation'}</td>\n      <td>...</td>\n      <td>NaN</td>\n      <td>NaN</td>\n      <td>NaN</td>\n      <td>NaN</td>\n      <td>NaN</td>\n      <td>NaN</td>\n      <td>NaN</td>\n      <td>NaN</td>\n      <td>NaN</td>\n      <td>NaN</td>\n    </tr>\n    <tr>\n      <th>3</th>\n      <td>NaN</td>\n      <td>NaN</td>\n      <td>NaN</td>\n      <td>NaN</td>\n      <td>NaN</td>\n      <td>NaN</td>\n      <td>NaN</td>\n      <td>NaN</td>\n      <td>NaN</td>\n      <td>NaN</td>\n      <td>...</td>\n      <td>NaN</td>\n      <td>NaN</td>\n      <td>NaN</td>\n      <td>NaN</td>\n      <td>NaN</td>\n      <td>NaN</td>\n      <td>NaN</td>\n      <td>NaN</td>\n      <td>NaN</td>\n      <td>NaN</td>\n    </tr>\n    <tr>\n      <th>4</th>\n      <td>NaN</td>\n      <td>NaN</td>\n      <td>NaN</td>\n      <td>NaN</td>\n      <td>NaN</td>\n      <td>NaN</td>\n      <td>NaN</td>\n      <td>NaN</td>\n      <td>NaN</td>\n      <td>NaN</td>\n      <td>...</td>\n      <td>NaN</td>\n      <td>NaN</td>\n      <td>NaN</td>\n      <td>NaN</td>\n      <td>NaN</td>\n      <td>NaN</td>\n      <td>NaN</td>\n      <td>NaN</td>\n      <td>NaN</td>\n      <td>NaN</td>\n    </tr>\n  </tbody>\n</table>\n<p>5 rows × 90 columns</p>\n</div>"
     },
     "execution_count": 249,
     "metadata": {},
     "output_type": "execute_result"
    }
   ],
   "source": [
    "# system.drop([\"autoHeightenLevel\"], axis='columns', inplace=True)\n",
    "# unpack_column(system[system.cost.notnull()], column_name=\"cost\")\n",
    "system.head()\n",
    "# system.columns\n",
    "# system.proficiency[system.proficiency.notnull()]"
   ],
   "metadata": {
    "collapsed": false
   }
  },
  {
   "cell_type": "code",
   "execution_count": null,
   "outputs": [],
   "source": [],
   "metadata": {
    "collapsed": false
   }
  }
 ],
 "metadata": {
  "kernelspec": {
   "display_name": "Python 3",
   "language": "python",
   "name": "python3"
  },
  "language_info": {
   "codemirror_mode": {
    "name": "ipython",
    "version": 2
   },
   "file_extension": ".py",
   "mimetype": "text/x-python",
   "name": "python",
   "nbconvert_exporter": "python",
   "pygments_lexer": "ipython2",
   "version": "2.7.6"
  }
 },
 "nbformat": 4,
 "nbformat_minor": 0
}
