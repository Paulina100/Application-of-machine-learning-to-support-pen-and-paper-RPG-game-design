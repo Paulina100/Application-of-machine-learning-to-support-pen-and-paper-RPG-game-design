{
 "cells": [
  {
   "cell_type": "markdown",
   "source": [
    "# Analiza kolumny system: details, resources, saves, traits\n",
    "\n",
    "\n",
    "Import danych"
   ],
   "metadata": {
    "collapsed": false
   }
  },
  {
   "cell_type": "code",
   "execution_count": 2,
   "metadata": {
    "collapsed": true
   },
   "outputs": [],
   "source": [
    "from analysis_functions import (\n",
    "    import_merged_bestiaries,\n",
    "    unpack_column,\n",
    "    remove_redundant_level,\n",
    ")\n",
    "import pandas as pd\n",
    "\n",
    "\n",
    "bestiary = import_merged_bestiaries(\n",
    "    [\n",
    "        \"../../pathfinder_2e_data/pathfinder-bestiary.db\",\n",
    "        \"../../pathfinder_2e_data/pathfinder-bestiary-2.db\",\n",
    "        \"../../pathfinder_2e_data/pathfinder-bestiary-3.db\",\n",
    "    ]\n",
    ")"
   ]
  },
  {
   "cell_type": "code",
   "execution_count": 3,
   "outputs": [],
   "source": [
    "system = unpack_column(bestiary, \"system\")"
   ],
   "metadata": {
    "collapsed": false
   }
  },
  {
   "cell_type": "code",
   "execution_count": 4,
   "outputs": [
    {
     "data": {
      "text/plain": "                                           abilities  \\\n0  {'cha': {'mod': 1}, 'con': {'mod': 5}, 'dex': ...   \n1  {'cha': {'mod': 1}, 'con': {'mod': 5}, 'dex': ...   \n2  {'cha': {'mod': -2}, 'con': {'mod': 6}, 'dex':...   \n3  {'cha': {'mod': 6}, 'con': {'mod': 5}, 'dex': ...   \n4  {'cha': {'mod': 1}, 'con': {'mod': 1}, 'dex': ...   \n\n                                          attributes  \\\n0  {'ac': {'details': '', 'value': 29}, 'allSaves...   \n1  {'ac': {'details': '', 'value': 28}, 'allSaves...   \n2  {'ac': {'details': '', 'value': 25}, 'allSaves...   \n3  {'ac': {'details': '', 'value': 41}, 'allSaves...   \n4  {'ac': {'details': '', 'value': 16}, 'allSaves...   \n\n                                             details  \\\n0  {'alignment': {'value': 'CE'}, 'blurb': '', 'c...   \n1  {'alignment': {'value': 'N'}, 'blurb': '', 'cr...   \n2  {'alignment': {'value': 'N'}, 'blurb': '', 'cr...   \n3  {'alignment': {'value': 'LE'}, 'blurb': '', 'c...   \n4  {'alignment': {'value': 'LG'}, 'blurb': '', 'c...   \n\n                           resources  \\\n0  {'focus': {'max': 1, 'value': 1}}   \n1                                 {}   \n2                                 {}   \n3  {'focus': {'max': 1, 'value': 1}}   \n4  {'focus': {'max': 1, 'value': 1}}   \n\n                                               saves  \\\n0  {'fortitude': {'saveDetail': '', 'value': 22},...   \n1  {'fortitude': {'saveDetail': '', 'value': 21},...   \n2  {'fortitude': {'saveDetail': '', 'value': 20},...   \n3  {'fortitude': {'saveDetail': '', 'value': 30},...   \n4  {'fortitude': {'saveDetail': '', 'value': 6}, ...   \n\n                                              traits  \\\n0  {'languages': {'custom': '', 'selected': [], '...   \n1  {'languages': {'custom': '', 'selected': [], '...   \n2  {'languages': {'custom': '', 'selected': [], '...   \n3  {'languages': {'custom': '', 'selected': [], '...   \n4  {'languages': {'custom': '', 'selected': [], '...   \n\n                                              schema  \n0  {'version': 0.8270000000000001, 'lastMigration...  \n1  {'version': 0.8270000000000001, 'lastMigration...  \n2  {'version': 0.8270000000000001, 'lastMigration...  \n3  {'version': 0.8270000000000001, 'lastMigration...  \n4  {'version': 0.8270000000000001, 'lastMigration...  ",
      "text/html": "<div>\n<style scoped>\n    .dataframe tbody tr th:only-of-type {\n        vertical-align: middle;\n    }\n\n    .dataframe tbody tr th {\n        vertical-align: top;\n    }\n\n    .dataframe thead th {\n        text-align: right;\n    }\n</style>\n<table border=\"1\" class=\"dataframe\">\n  <thead>\n    <tr style=\"text-align: right;\">\n      <th></th>\n      <th>abilities</th>\n      <th>attributes</th>\n      <th>details</th>\n      <th>resources</th>\n      <th>saves</th>\n      <th>traits</th>\n      <th>schema</th>\n    </tr>\n  </thead>\n  <tbody>\n    <tr>\n      <th>0</th>\n      <td>{'cha': {'mod': 1}, 'con': {'mod': 5}, 'dex': ...</td>\n      <td>{'ac': {'details': '', 'value': 29}, 'allSaves...</td>\n      <td>{'alignment': {'value': 'CE'}, 'blurb': '', 'c...</td>\n      <td>{'focus': {'max': 1, 'value': 1}}</td>\n      <td>{'fortitude': {'saveDetail': '', 'value': 22},...</td>\n      <td>{'languages': {'custom': '', 'selected': [], '...</td>\n      <td>{'version': 0.8270000000000001, 'lastMigration...</td>\n    </tr>\n    <tr>\n      <th>1</th>\n      <td>{'cha': {'mod': 1}, 'con': {'mod': 5}, 'dex': ...</td>\n      <td>{'ac': {'details': '', 'value': 28}, 'allSaves...</td>\n      <td>{'alignment': {'value': 'N'}, 'blurb': '', 'cr...</td>\n      <td>{}</td>\n      <td>{'fortitude': {'saveDetail': '', 'value': 21},...</td>\n      <td>{'languages': {'custom': '', 'selected': [], '...</td>\n      <td>{'version': 0.8270000000000001, 'lastMigration...</td>\n    </tr>\n    <tr>\n      <th>2</th>\n      <td>{'cha': {'mod': -2}, 'con': {'mod': 6}, 'dex':...</td>\n      <td>{'ac': {'details': '', 'value': 25}, 'allSaves...</td>\n      <td>{'alignment': {'value': 'N'}, 'blurb': '', 'cr...</td>\n      <td>{}</td>\n      <td>{'fortitude': {'saveDetail': '', 'value': 20},...</td>\n      <td>{'languages': {'custom': '', 'selected': [], '...</td>\n      <td>{'version': 0.8270000000000001, 'lastMigration...</td>\n    </tr>\n    <tr>\n      <th>3</th>\n      <td>{'cha': {'mod': 6}, 'con': {'mod': 5}, 'dex': ...</td>\n      <td>{'ac': {'details': '', 'value': 41}, 'allSaves...</td>\n      <td>{'alignment': {'value': 'LE'}, 'blurb': '', 'c...</td>\n      <td>{'focus': {'max': 1, 'value': 1}}</td>\n      <td>{'fortitude': {'saveDetail': '', 'value': 30},...</td>\n      <td>{'languages': {'custom': '', 'selected': [], '...</td>\n      <td>{'version': 0.8270000000000001, 'lastMigration...</td>\n    </tr>\n    <tr>\n      <th>4</th>\n      <td>{'cha': {'mod': 1}, 'con': {'mod': 1}, 'dex': ...</td>\n      <td>{'ac': {'details': '', 'value': 16}, 'allSaves...</td>\n      <td>{'alignment': {'value': 'LG'}, 'blurb': '', 'c...</td>\n      <td>{'focus': {'max': 1, 'value': 1}}</td>\n      <td>{'fortitude': {'saveDetail': '', 'value': 6}, ...</td>\n      <td>{'languages': {'custom': '', 'selected': [], '...</td>\n      <td>{'version': 0.8270000000000001, 'lastMigration...</td>\n    </tr>\n  </tbody>\n</table>\n</div>"
     },
     "execution_count": 4,
     "metadata": {},
     "output_type": "execute_result"
    }
   ],
   "source": [
    "system.head()"
   ],
   "metadata": {
    "collapsed": false
   }
  },
  {
   "cell_type": "code",
   "execution_count": 5,
   "outputs": [
    {
     "name": "stdout",
     "output_type": "stream",
     "text": [
      "<class 'pandas.core.frame.DataFrame'>\n",
      "Int64Index: 1206 entries, 0 to 364\n",
      "Data columns (total 7 columns):\n",
      " #   Column      Non-Null Count  Dtype \n",
      "---  ------      --------------  ----- \n",
      " 0   abilities   1206 non-null   object\n",
      " 1   attributes  1206 non-null   object\n",
      " 2   details     1206 non-null   object\n",
      " 3   resources   1206 non-null   object\n",
      " 4   saves       1206 non-null   object\n",
      " 5   traits      1206 non-null   object\n",
      " 6   schema      1206 non-null   object\n",
      "dtypes: object(7)\n",
      "memory usage: 75.4+ KB\n"
     ]
    }
   ],
   "source": [
    "system.info()"
   ],
   "metadata": {
    "collapsed": false
   }
  },
  {
   "cell_type": "markdown",
   "source": [
    "## Details"
   ],
   "metadata": {
    "collapsed": false
   }
  },
  {
   "cell_type": "code",
   "execution_count": 6,
   "outputs": [],
   "source": [
    "details = unpack_column(system, \"details\")"
   ],
   "metadata": {
    "collapsed": false
   }
  },
  {
   "cell_type": "code",
   "execution_count": 7,
   "outputs": [
    {
     "data": {
      "text/plain": "         alignment blurb creatureType          level privateNotes  \\\n0  {'value': 'CE'}             Dragon  {'value': 10}                \n1   {'value': 'N'}             Animal  {'value': 10}                \n2   {'value': 'N'}             Animal   {'value': 8}                \n3  {'value': 'LE'}             Dragon  {'value': 17}                \n4  {'value': 'LG'}          Celestial   {'value': 1}                \n\n                                         publicNotes  \\\n0  <p>The most feral and least intelligent of all...   \n1  <p>Brontosauruses are truly gigantic behemoths...   \n2  <p>The monstrous giant anaconda is capable of ...   \n3  <p>Green dragons are the most contemplative of...   \n4  <p>Friendly, curious, and eternally optimistic...   \n\n                             source  \n0  {'value': 'Pathfinder Bestiary'}  \n1  {'value': 'Pathfinder Bestiary'}  \n2  {'value': 'Pathfinder Bestiary'}  \n3  {'value': 'Pathfinder Bestiary'}  \n4  {'value': 'Pathfinder Bestiary'}  ",
      "text/html": "<div>\n<style scoped>\n    .dataframe tbody tr th:only-of-type {\n        vertical-align: middle;\n    }\n\n    .dataframe tbody tr th {\n        vertical-align: top;\n    }\n\n    .dataframe thead th {\n        text-align: right;\n    }\n</style>\n<table border=\"1\" class=\"dataframe\">\n  <thead>\n    <tr style=\"text-align: right;\">\n      <th></th>\n      <th>alignment</th>\n      <th>blurb</th>\n      <th>creatureType</th>\n      <th>level</th>\n      <th>privateNotes</th>\n      <th>publicNotes</th>\n      <th>source</th>\n    </tr>\n  </thead>\n  <tbody>\n    <tr>\n      <th>0</th>\n      <td>{'value': 'CE'}</td>\n      <td></td>\n      <td>Dragon</td>\n      <td>{'value': 10}</td>\n      <td></td>\n      <td>&lt;p&gt;The most feral and least intelligent of all...</td>\n      <td>{'value': 'Pathfinder Bestiary'}</td>\n    </tr>\n    <tr>\n      <th>1</th>\n      <td>{'value': 'N'}</td>\n      <td></td>\n      <td>Animal</td>\n      <td>{'value': 10}</td>\n      <td></td>\n      <td>&lt;p&gt;Brontosauruses are truly gigantic behemoths...</td>\n      <td>{'value': 'Pathfinder Bestiary'}</td>\n    </tr>\n    <tr>\n      <th>2</th>\n      <td>{'value': 'N'}</td>\n      <td></td>\n      <td>Animal</td>\n      <td>{'value': 8}</td>\n      <td></td>\n      <td>&lt;p&gt;The monstrous giant anaconda is capable of ...</td>\n      <td>{'value': 'Pathfinder Bestiary'}</td>\n    </tr>\n    <tr>\n      <th>3</th>\n      <td>{'value': 'LE'}</td>\n      <td></td>\n      <td>Dragon</td>\n      <td>{'value': 17}</td>\n      <td></td>\n      <td>&lt;p&gt;Green dragons are the most contemplative of...</td>\n      <td>{'value': 'Pathfinder Bestiary'}</td>\n    </tr>\n    <tr>\n      <th>4</th>\n      <td>{'value': 'LG'}</td>\n      <td></td>\n      <td>Celestial</td>\n      <td>{'value': 1}</td>\n      <td></td>\n      <td>&lt;p&gt;Friendly, curious, and eternally optimistic...</td>\n      <td>{'value': 'Pathfinder Bestiary'}</td>\n    </tr>\n  </tbody>\n</table>\n</div>"
     },
     "execution_count": 7,
     "metadata": {},
     "output_type": "execute_result"
    }
   ],
   "source": [
    "details.head()"
   ],
   "metadata": {
    "collapsed": false
   }
  },
  {
   "cell_type": "markdown",
   "source": [
    "Jak widać wyżej mamy sporo fałszywych wartości non-null -> zmieniamy je na np.nan (null)"
   ],
   "metadata": {
    "collapsed": false
   }
  },
  {
   "cell_type": "code",
   "execution_count": 8,
   "outputs": [],
   "source": [
    "import numpy as np\n",
    "\n",
    "\n",
    "details = details.replace(\"\", np.nan)"
   ],
   "metadata": {
    "collapsed": false
   }
  },
  {
   "cell_type": "code",
   "execution_count": 9,
   "outputs": [
    {
     "name": "stdout",
     "output_type": "stream",
     "text": [
      "<class 'pandas.core.frame.DataFrame'>\n",
      "Int64Index: 1206 entries, 0 to 364\n",
      "Data columns (total 7 columns):\n",
      " #   Column        Non-Null Count  Dtype  \n",
      "---  ------        --------------  -----  \n",
      " 0   alignment     1206 non-null   object \n",
      " 1   blurb         0 non-null      float64\n",
      " 2   creatureType  825 non-null    object \n",
      " 3   level         1206 non-null   object \n",
      " 4   privateNotes  0 non-null      float64\n",
      " 5   publicNotes   1206 non-null   object \n",
      " 6   source        1206 non-null   object \n",
      "dtypes: float64(2), object(5)\n",
      "memory usage: 75.4+ KB\n"
     ]
    }
   ],
   "source": [
    "details.info()"
   ],
   "metadata": {
    "collapsed": false
   }
  },
  {
   "cell_type": "markdown",
   "source": [
    "* **alignment** - do sprawdzenia\n",
    "* blurb - i tak nic nie ma\n",
    "* **creatureType** - do sprawdzenia\n",
    "* **level** - \"do sprawdzenia\"\n",
    "* privateNotes - i tak nic nie ma\n",
    "* **publicNotes** - do sprawdzenia\n",
    "* **source** - do sprawdzenia"
   ],
   "metadata": {
    "collapsed": false
   }
  },
  {
   "cell_type": "markdown",
   "source": [
    "### Details: Alignment"
   ],
   "metadata": {
    "collapsed": false
   }
  },
  {
   "cell_type": "code",
   "execution_count": 10,
   "outputs": [],
   "source": [
    "alignment = unpack_column(details, \"alignment\")"
   ],
   "metadata": {
    "collapsed": false
   }
  },
  {
   "cell_type": "code",
   "execution_count": 11,
   "outputs": [
    {
     "data": {
      "text/plain": "Index(['value'], dtype='object')"
     },
     "execution_count": 11,
     "metadata": {},
     "output_type": "execute_result"
    }
   ],
   "source": [
    "alignment.columns"
   ],
   "metadata": {
    "collapsed": false
   }
  },
  {
   "cell_type": "code",
   "execution_count": 12,
   "outputs": [
    {
     "data": {
      "text/plain": "  value\n0    CE\n1     N\n2     N\n3    LE\n4    LG",
      "text/html": "<div>\n<style scoped>\n    .dataframe tbody tr th:only-of-type {\n        vertical-align: middle;\n    }\n\n    .dataframe tbody tr th {\n        vertical-align: top;\n    }\n\n    .dataframe thead th {\n        text-align: right;\n    }\n</style>\n<table border=\"1\" class=\"dataframe\">\n  <thead>\n    <tr style=\"text-align: right;\">\n      <th></th>\n      <th>value</th>\n    </tr>\n  </thead>\n  <tbody>\n    <tr>\n      <th>0</th>\n      <td>CE</td>\n    </tr>\n    <tr>\n      <th>1</th>\n      <td>N</td>\n    </tr>\n    <tr>\n      <th>2</th>\n      <td>N</td>\n    </tr>\n    <tr>\n      <th>3</th>\n      <td>LE</td>\n    </tr>\n    <tr>\n      <th>4</th>\n      <td>LG</td>\n    </tr>\n  </tbody>\n</table>\n</div>"
     },
     "execution_count": 12,
     "metadata": {},
     "output_type": "execute_result"
    }
   ],
   "source": [
    "alignment.head()"
   ],
   "metadata": {
    "collapsed": false
   }
  },
  {
   "cell_type": "code",
   "execution_count": 13,
   "outputs": [
    {
     "name": "stdout",
     "output_type": "stream",
     "text": [
      "<class 'pandas.core.frame.DataFrame'>\n",
      "Int64Index: 1206 entries, 0 to 364\n",
      "Data columns (total 1 columns):\n",
      " #   Column  Non-Null Count  Dtype \n",
      "---  ------  --------------  ----- \n",
      " 0   value   1206 non-null   object\n",
      "dtypes: object(1)\n",
      "memory usage: 18.8+ KB\n"
     ]
    }
   ],
   "source": [
    "alignment.info()"
   ],
   "metadata": {
    "collapsed": false
   }
  },
  {
   "cell_type": "markdown",
   "source": [
    "Same values -> można zrobić to co z mod"
   ],
   "metadata": {
    "collapsed": false
   }
  },
  {
   "cell_type": "code",
   "execution_count": 14,
   "outputs": [
    {
     "data": {
      "text/plain": "array(['CE', 'N', 'LE', 'LG', 'CG', 'NE', 'CN', 'NG', 'LN'], dtype=object)"
     },
     "execution_count": 14,
     "metadata": {},
     "output_type": "execute_result"
    }
   ],
   "source": [
    "alignment.value.unique()"
   ],
   "metadata": {
    "collapsed": false
   }
  },
  {
   "cell_type": "markdown",
   "source": [
    "Mamy 9 unikatowych wartości\n",
    " * czy są one istotne????\n",
    " * czy przydadzą się do if -ów???"
   ],
   "metadata": {
    "collapsed": false
   }
  },
  {
   "cell_type": "markdown",
   "source": [
    "### Details: CreatureType"
   ],
   "metadata": {
    "collapsed": false
   }
  },
  {
   "cell_type": "code",
   "execution_count": 15,
   "outputs": [],
   "source": [
    "types = unpack_column(details, \"creatureType\")"
   ],
   "metadata": {
    "collapsed": false
   }
  },
  {
   "cell_type": "code",
   "execution_count": 16,
   "outputs": [
    {
     "data": {
      "text/plain": "           0\n0     Dragon\n1     Animal\n2     Animal\n3     Dragon\n4  Celestial",
      "text/html": "<div>\n<style scoped>\n    .dataframe tbody tr th:only-of-type {\n        vertical-align: middle;\n    }\n\n    .dataframe tbody tr th {\n        vertical-align: top;\n    }\n\n    .dataframe thead th {\n        text-align: right;\n    }\n</style>\n<table border=\"1\" class=\"dataframe\">\n  <thead>\n    <tr style=\"text-align: right;\">\n      <th></th>\n      <th>0</th>\n    </tr>\n  </thead>\n  <tbody>\n    <tr>\n      <th>0</th>\n      <td>Dragon</td>\n    </tr>\n    <tr>\n      <th>1</th>\n      <td>Animal</td>\n    </tr>\n    <tr>\n      <th>2</th>\n      <td>Animal</td>\n    </tr>\n    <tr>\n      <th>3</th>\n      <td>Dragon</td>\n    </tr>\n    <tr>\n      <th>4</th>\n      <td>Celestial</td>\n    </tr>\n  </tbody>\n</table>\n</div>"
     },
     "execution_count": 16,
     "metadata": {},
     "output_type": "execute_result"
    }
   ],
   "source": [
    "types.head()"
   ],
   "metadata": {
    "collapsed": false
   }
  },
  {
   "cell_type": "code",
   "execution_count": 17,
   "outputs": [
    {
     "name": "stdout",
     "output_type": "stream",
     "text": [
      "<class 'pandas.core.frame.DataFrame'>\n",
      "Int64Index: 1206 entries, 0 to 364\n",
      "Data columns (total 1 columns):\n",
      " #   Column  Non-Null Count  Dtype \n",
      "---  ------  --------------  ----- \n",
      " 0   0       825 non-null    object\n",
      "dtypes: object(1)\n",
      "memory usage: 18.8+ KB\n"
     ]
    }
   ],
   "source": [
    "types.info()"
   ],
   "metadata": {
    "collapsed": false
   }
  },
  {
   "cell_type": "markdown",
   "source": [
    "Z jakiegoś powodu nie każdy potworek ma typ:\n",
    " * czy to problem?\n",
    " * czy może być więcej?"
   ],
   "metadata": {
    "collapsed": false
   }
  },
  {
   "cell_type": "code",
   "execution_count": 18,
   "outputs": [
    {
     "data": {
      "text/plain": "array(['Dragon', 'Animal', 'Celestial', 'Aberration', 'Undead',\n       'Humanoid', 'Construct', 'Spirit', 'Elemental', 'Fey', 'Beast',\n       'Fiend', 'Plant', 'Giant', nan, 'Monitor', 'Ooze', 'Fungus',\n       'Astral', 'Animal, Undead', 'Dragon, Elemental', 'Beast, Dragon',\n       'Giant, Humanoid', 'Petitioner', 'Beast, Fiend', 'Fungus, Ooze',\n       'Spirit, Undead', 'Fiend, Giant, Humanoid', 'Dragon, Plant',\n       'Fey, Plant', 'Aberration, Time', 'Aberration, Negative',\n       'Beast, Fey', 'Beast, Humanoid', 'Humanoid, Positive', 'Dream',\n       'Dragon, Undead', 'Aberration, Ethereal', 'Aberration, Dream',\n       'Fungus, Plant'], dtype=object)"
     },
     "execution_count": 18,
     "metadata": {},
     "output_type": "execute_result"
    }
   ],
   "source": [
    "all_types = types[0].unique()\n",
    "all_types"
   ],
   "metadata": {
    "collapsed": false
   }
  },
  {
   "cell_type": "code",
   "execution_count": 25,
   "outputs": [],
   "source": [
    "types_dict = {}\n",
    "for t_list in all_types:\n",
    "    if type(t_list) == str:\n",
    "        for t in t_list.split(\", \"):\n",
    "            types_dict[t] = None"
   ],
   "metadata": {
    "collapsed": false
   }
  },
  {
   "cell_type": "code",
   "execution_count": 26,
   "outputs": [
    {
     "data": {
      "text/plain": "dict_keys(['Dragon', 'Animal', 'Celestial', 'Aberration', 'Undead', 'Humanoid', 'Construct', 'Spirit', 'Elemental', 'Fey', 'Beast', 'Fiend', 'Plant', 'Giant', 'Monitor', 'Ooze', 'Fungus', 'Astral', 'Petitioner', 'Time', 'Negative', 'Positive', 'Dream', 'Ethereal'])"
     },
     "execution_count": 26,
     "metadata": {},
     "output_type": "execute_result"
    }
   ],
   "source": [
    "types_dict.keys()"
   ],
   "metadata": {
    "collapsed": false
   }
  },
  {
   "cell_type": "code",
   "execution_count": 27,
   "outputs": [
    {
     "name": "stdout",
     "output_type": "stream",
     "text": [
      "24\n"
     ]
    }
   ],
   "source": [
    "print(len(types_dict))"
   ],
   "metadata": {
    "collapsed": false
   }
  },
  {
   "cell_type": "markdown",
   "source": [
    "Mamy 24 typy (+ pusty) - **może się przydać później do tych podpowiedzi if-owych**\n",
    "*CR: I tak, do tych podpowiedzi się przyda*"
   ],
   "metadata": {
    "collapsed": false
   }
  },
  {
   "cell_type": "markdown",
   "source": [
    "### Datails: Level"
   ],
   "metadata": {
    "collapsed": false
   }
  },
  {
   "cell_type": "code",
   "execution_count": 28,
   "outputs": [],
   "source": [
    "level = unpack_column(details, \"level\")"
   ],
   "metadata": {
    "collapsed": false
   }
  },
  {
   "cell_type": "code",
   "execution_count": 29,
   "outputs": [
    {
     "data": {
      "text/plain": "   value\n0     10\n1     10\n2      8\n3     17\n4      1",
      "text/html": "<div>\n<style scoped>\n    .dataframe tbody tr th:only-of-type {\n        vertical-align: middle;\n    }\n\n    .dataframe tbody tr th {\n        vertical-align: top;\n    }\n\n    .dataframe thead th {\n        text-align: right;\n    }\n</style>\n<table border=\"1\" class=\"dataframe\">\n  <thead>\n    <tr style=\"text-align: right;\">\n      <th></th>\n      <th>value</th>\n    </tr>\n  </thead>\n  <tbody>\n    <tr>\n      <th>0</th>\n      <td>10</td>\n    </tr>\n    <tr>\n      <th>1</th>\n      <td>10</td>\n    </tr>\n    <tr>\n      <th>2</th>\n      <td>8</td>\n    </tr>\n    <tr>\n      <th>3</th>\n      <td>17</td>\n    </tr>\n    <tr>\n      <th>4</th>\n      <td>1</td>\n    </tr>\n  </tbody>\n</table>\n</div>"
     },
     "execution_count": 29,
     "metadata": {},
     "output_type": "execute_result"
    }
   ],
   "source": [
    "level.head()"
   ],
   "metadata": {
    "collapsed": false
   }
  },
  {
   "cell_type": "code",
   "execution_count": 30,
   "outputs": [
    {
     "name": "stdout",
     "output_type": "stream",
     "text": [
      "<class 'pandas.core.frame.DataFrame'>\n",
      "Int64Index: 1206 entries, 0 to 364\n",
      "Data columns (total 1 columns):\n",
      " #   Column  Non-Null Count  Dtype\n",
      "---  ------  --------------  -----\n",
      " 0   value   1206 non-null   int64\n",
      "dtypes: int64(1)\n",
      "memory usage: 18.8 KB\n"
     ]
    }
   ],
   "source": [
    "level.info()"
   ],
   "metadata": {
    "collapsed": false
   }
  },
  {
   "cell_type": "code",
   "execution_count": 34,
   "outputs": [
    {
     "data": {
      "text/plain": "value\n 1       127\n 2       121\n 3        95\n 4        82\n 7        77\n 5        76\n 6        72\n 8        68\n 9        63\n 10       58\n 12       41\n 11       40\n 13       36\n-1        34\n 14       33\n 15       31\n 0        27\n 16       25\n 20       24\n 17       21\n 18       21\n 19       18\n 21        8\n 23        4\n 24        2\n 22        1\n 25        1\ndtype: int64"
     },
     "execution_count": 34,
     "metadata": {},
     "output_type": "execute_result"
    }
   ],
   "source": [
    "level.value_counts()"
   ],
   "metadata": {
    "collapsed": false
   }
  },
  {
   "cell_type": "markdown",
   "source": [
    "# **Najważniejsza wartość! - to co** przwidujemy\n",
    "analogicznie jak abilities - mod"
   ],
   "metadata": {
    "collapsed": false
   }
  },
  {
   "cell_type": "markdown",
   "source": [
    "### Details: PublicNotes"
   ],
   "metadata": {
    "collapsed": false
   }
  },
  {
   "cell_type": "code",
   "execution_count": 21,
   "outputs": [],
   "source": [
    "notes = unpack_column(details, \"publicNotes\")"
   ],
   "metadata": {
    "collapsed": false
   }
  },
  {
   "cell_type": "code",
   "execution_count": 22,
   "outputs": [
    {
     "data": {
      "text/plain": "                                                   0\n0  <p>The most feral and least intelligent of all...\n1  <p>Brontosauruses are truly gigantic behemoths...\n2  <p>The monstrous giant anaconda is capable of ...\n3  <p>Green dragons are the most contemplative of...\n4  <p>Friendly, curious, and eternally optimistic...",
      "text/html": "<div>\n<style scoped>\n    .dataframe tbody tr th:only-of-type {\n        vertical-align: middle;\n    }\n\n    .dataframe tbody tr th {\n        vertical-align: top;\n    }\n\n    .dataframe thead th {\n        text-align: right;\n    }\n</style>\n<table border=\"1\" class=\"dataframe\">\n  <thead>\n    <tr style=\"text-align: right;\">\n      <th></th>\n      <th>0</th>\n    </tr>\n  </thead>\n  <tbody>\n    <tr>\n      <th>0</th>\n      <td>&lt;p&gt;The most feral and least intelligent of all...</td>\n    </tr>\n    <tr>\n      <th>1</th>\n      <td>&lt;p&gt;Brontosauruses are truly gigantic behemoths...</td>\n    </tr>\n    <tr>\n      <th>2</th>\n      <td>&lt;p&gt;The monstrous giant anaconda is capable of ...</td>\n    </tr>\n    <tr>\n      <th>3</th>\n      <td>&lt;p&gt;Green dragons are the most contemplative of...</td>\n    </tr>\n    <tr>\n      <th>4</th>\n      <td>&lt;p&gt;Friendly, curious, and eternally optimistic...</td>\n    </tr>\n  </tbody>\n</table>\n</div>"
     },
     "execution_count": 22,
     "metadata": {},
     "output_type": "execute_result"
    }
   ],
   "source": [
    "notes.head()"
   ],
   "metadata": {
    "collapsed": false
   }
  },
  {
   "cell_type": "code",
   "execution_count": 23,
   "outputs": [
    {
     "name": "stdout",
     "output_type": "stream",
     "text": [
      "<class 'pandas.core.frame.DataFrame'>\n",
      "Int64Index: 1206 entries, 0 to 364\n",
      "Data columns (total 1 columns):\n",
      " #   Column  Non-Null Count  Dtype \n",
      "---  ------  --------------  ----- \n",
      " 0   0       1206 non-null   object\n",
      "dtypes: object(1)\n",
      "memory usage: 18.8+ KB\n"
     ]
    }
   ],
   "source": [
    "notes.info()"
   ],
   "metadata": {
    "collapsed": false
   }
  },
  {
   "cell_type": "markdown",
   "source": [
    "Zwykłe opisy do modelu raczej nie są potrzebne"
   ],
   "metadata": {
    "collapsed": false
   }
  },
  {
   "cell_type": "markdown",
   "source": [
    "### Details: Source"
   ],
   "metadata": {
    "collapsed": false
   }
  },
  {
   "cell_type": "code",
   "execution_count": 24,
   "outputs": [],
   "source": [
    "source = unpack_column(details, \"source\")"
   ],
   "metadata": {
    "collapsed": false
   }
  },
  {
   "cell_type": "code",
   "execution_count": 25,
   "outputs": [
    {
     "data": {
      "text/plain": "                 value\n0  Pathfinder Bestiary\n1  Pathfinder Bestiary\n2  Pathfinder Bestiary\n3  Pathfinder Bestiary\n4  Pathfinder Bestiary",
      "text/html": "<div>\n<style scoped>\n    .dataframe tbody tr th:only-of-type {\n        vertical-align: middle;\n    }\n\n    .dataframe tbody tr th {\n        vertical-align: top;\n    }\n\n    .dataframe thead th {\n        text-align: right;\n    }\n</style>\n<table border=\"1\" class=\"dataframe\">\n  <thead>\n    <tr style=\"text-align: right;\">\n      <th></th>\n      <th>value</th>\n    </tr>\n  </thead>\n  <tbody>\n    <tr>\n      <th>0</th>\n      <td>Pathfinder Bestiary</td>\n    </tr>\n    <tr>\n      <th>1</th>\n      <td>Pathfinder Bestiary</td>\n    </tr>\n    <tr>\n      <th>2</th>\n      <td>Pathfinder Bestiary</td>\n    </tr>\n    <tr>\n      <th>3</th>\n      <td>Pathfinder Bestiary</td>\n    </tr>\n    <tr>\n      <th>4</th>\n      <td>Pathfinder Bestiary</td>\n    </tr>\n  </tbody>\n</table>\n</div>"
     },
     "execution_count": 25,
     "metadata": {},
     "output_type": "execute_result"
    }
   ],
   "source": [
    "source.head()"
   ],
   "metadata": {
    "collapsed": false
   }
  },
  {
   "cell_type": "code",
   "execution_count": 26,
   "outputs": [
    {
     "name": "stdout",
     "output_type": "stream",
     "text": [
      "<class 'pandas.core.frame.DataFrame'>\n",
      "Int64Index: 1206 entries, 0 to 364\n",
      "Data columns (total 1 columns):\n",
      " #   Column  Non-Null Count  Dtype \n",
      "---  ------  --------------  ----- \n",
      " 0   value   1206 non-null   object\n",
      "dtypes: object(1)\n",
      "memory usage: 18.8+ KB\n"
     ]
    }
   ],
   "source": [
    "source.info()"
   ],
   "metadata": {
    "collapsed": false
   }
  },
  {
   "cell_type": "code",
   "execution_count": 27,
   "outputs": [
    {
     "data": {
      "text/plain": "array(['Pathfinder Bestiary', 'Pathfinder Core Rulebook',\n       'Pathfinder Bestiary 2', 'Pathfinder Bestiary 3'], dtype=object)"
     },
     "execution_count": 27,
     "metadata": {},
     "output_type": "execute_result"
    }
   ],
   "source": [
    "source.value.unique()"
   ],
   "metadata": {
    "collapsed": false
   }
  },
  {
   "cell_type": "markdown",
   "source": [
    "Skąd pochodzą potworki"
   ],
   "metadata": {
    "collapsed": false
   }
  },
  {
   "cell_type": "markdown",
   "source": [
    "### Details: podsumowanie\n",
    "* **alignment**\n",
    "    * do rozpakowania (abilities:mod case)\n",
    "    * każdy potworek ma\n",
    "    * czy są istotne?\n",
    "    * może się przydać do if-ów\n",
    "    * czy są istotne?\n",
    "* blurb\n",
    "    * puste\n",
    "* **creatureType**\n",
    "    * nie każdy potworek ma\n",
    "    * może się przydać do if-ów\n",
    "* **level**\n",
    "    * do rozpakowania (abilities:mod case)\n",
    "    * każdy potworek ma\n",
    "    * CR\n",
    "* privateNotes\n",
    "    * puste\n",
    "* **publicNotes**\n",
    "    * każdy potworek ma\n",
    "    * opis potworków\n",
    "    * zbędne\n",
    "* **source**\n",
    "    * każdy potworek ma\n",
    "    * książka z której jest potworek\n",
    "    * raczej zbędne\n",
    "    * wydaje mi się że było polecenie, żeby zostawić (nie do samego przewidywania, ale podizału na zbiory)"
   ],
   "metadata": {
    "collapsed": false
   }
  },
  {
   "cell_type": "markdown",
   "source": [
    "## Resources"
   ],
   "metadata": {
    "collapsed": false
   }
  },
  {
   "cell_type": "code",
   "execution_count": 35,
   "outputs": [
    {
     "data": {
      "text/plain": "0      {'focus': {'max': 1, 'value': 1}}\n1                                     {}\n2                                     {}\n3      {'focus': {'max': 1, 'value': 1}}\n4      {'focus': {'max': 1, 'value': 1}}\n                     ...                \n360    {'focus': {'max': 0, 'value': 0}}\n361    {'focus': {'max': 0, 'value': 0}}\n362                                   {}\n363    {'focus': {'max': 0, 'value': 0}}\n364    {'focus': {'max': 1, 'value': 1}}\nName: resources, Length: 1206, dtype: object"
     },
     "execution_count": 35,
     "metadata": {},
     "output_type": "execute_result"
    }
   ],
   "source": [
    "system.resources"
   ],
   "metadata": {
    "collapsed": false
   }
  },
  {
   "cell_type": "code",
   "execution_count": 69,
   "outputs": [],
   "source": [
    "system.resources = system.resources.replace([{}], [np.nan])"
   ],
   "metadata": {
    "collapsed": false
   }
  },
  {
   "cell_type": "code",
   "execution_count": 70,
   "outputs": [
    {
     "data": {
      "text/plain": "0      {'focus': {'max': 1, 'value': 1}}\n1                                    NaN\n2                                    NaN\n3      {'focus': {'max': 1, 'value': 1}}\n4      {'focus': {'max': 1, 'value': 1}}\n                     ...                \n360    {'focus': {'max': 0, 'value': 0}}\n361    {'focus': {'max': 0, 'value': 0}}\n362                                  NaN\n363    {'focus': {'max': 0, 'value': 0}}\n364    {'focus': {'max': 1, 'value': 1}}\nName: resources, Length: 1206, dtype: object"
     },
     "execution_count": 70,
     "metadata": {},
     "output_type": "execute_result"
    }
   ],
   "source": [
    "system.resources"
   ],
   "metadata": {
    "collapsed": false
   }
  },
  {
   "cell_type": "code",
   "execution_count": 73,
   "outputs": [],
   "source": [
    "system_not_null_resources = system[system.resources.notnull()]"
   ],
   "metadata": {
    "collapsed": false
   }
  },
  {
   "cell_type": "code",
   "execution_count": 77,
   "outputs": [
    {
     "name": "stdout",
     "output_type": "stream",
     "text": [
      "566\n"
     ]
    }
   ],
   "source": [
    "print(len(system_not_null_resources))"
   ],
   "metadata": {
    "collapsed": false
   }
  },
  {
   "cell_type": "code",
   "execution_count": 78,
   "outputs": [
    {
     "name": "stdout",
     "output_type": "stream",
     "text": [
      "640\n"
     ]
    }
   ],
   "source": [
    "print(len(system[system.resources.isnull()]))"
   ],
   "metadata": {
    "collapsed": false
   }
  },
  {
   "cell_type": "code",
   "execution_count": 74,
   "outputs": [],
   "source": [
    "resources = unpack_column(system_not_null_resources, \"resources\")"
   ],
   "metadata": {
    "collapsed": false
   }
  },
  {
   "cell_type": "code",
   "execution_count": 75,
   "outputs": [
    {
     "name": "stdout",
     "output_type": "stream",
     "text": [
      "<class 'pandas.core.frame.DataFrame'>\n",
      "Int64Index: 566 entries, 0 to 364\n",
      "Data columns (total 1 columns):\n",
      " #   Column  Non-Null Count  Dtype \n",
      "---  ------  --------------  ----- \n",
      " 0   focus   566 non-null    object\n",
      "dtypes: object(1)\n",
      "memory usage: 8.8+ KB\n"
     ]
    }
   ],
   "source": [
    "resources.info()"
   ],
   "metadata": {
    "collapsed": false
   }
  },
  {
   "cell_type": "code",
   "execution_count": 76,
   "outputs": [
    {
     "data": {
      "text/plain": "                    focus\n0  {'max': 1, 'value': 1}\n3  {'max': 1, 'value': 1}\n4  {'max': 1, 'value': 1}\n5  {'max': 1, 'value': 1}\n6  {'max': 1, 'value': 1}",
      "text/html": "<div>\n<style scoped>\n    .dataframe tbody tr th:only-of-type {\n        vertical-align: middle;\n    }\n\n    .dataframe tbody tr th {\n        vertical-align: top;\n    }\n\n    .dataframe thead th {\n        text-align: right;\n    }\n</style>\n<table border=\"1\" class=\"dataframe\">\n  <thead>\n    <tr style=\"text-align: right;\">\n      <th></th>\n      <th>focus</th>\n    </tr>\n  </thead>\n  <tbody>\n    <tr>\n      <th>0</th>\n      <td>{'max': 1, 'value': 1}</td>\n    </tr>\n    <tr>\n      <th>3</th>\n      <td>{'max': 1, 'value': 1}</td>\n    </tr>\n    <tr>\n      <th>4</th>\n      <td>{'max': 1, 'value': 1}</td>\n    </tr>\n    <tr>\n      <th>5</th>\n      <td>{'max': 1, 'value': 1}</td>\n    </tr>\n    <tr>\n      <th>6</th>\n      <td>{'max': 1, 'value': 1}</td>\n    </tr>\n  </tbody>\n</table>\n</div>"
     },
     "execution_count": 76,
     "metadata": {},
     "output_type": "execute_result"
    }
   ],
   "source": [
    "resources.head()"
   ],
   "metadata": {
    "collapsed": false
   }
  },
  {
   "cell_type": "code",
   "execution_count": 79,
   "outputs": [],
   "source": [
    "def check_diff_values(df, values):\n",
    "    return (\n",
    "        len(\n",
    "            [\n",
    "                _\n",
    "                for i, row in df.iterrows()\n",
    "                for col in df.columns\n",
    "                for val in values\n",
    "                if type(row[col]) is dict\n",
    "                and (len(row[col].keys()) != len(values) or val not in row[col].keys())\n",
    "            ]\n",
    "        )\n",
    "        > 0\n",
    "    )"
   ],
   "metadata": {
    "collapsed": false
   }
  },
  {
   "cell_type": "code",
   "execution_count": 80,
   "outputs": [
    {
     "name": "stdout",
     "output_type": "stream",
     "text": [
      "Klucze inne niż: max, value?\n",
      "False\n"
     ]
    }
   ],
   "source": [
    "print(\"Klucze inne niż: max, value?\")\n",
    "print(check_diff_values(pd.DataFrame(data=resources.focus), [\"max\", \"value\"]))"
   ],
   "metadata": {
    "collapsed": false
   }
  },
  {
   "cell_type": "code",
   "execution_count": 81,
   "outputs": [],
   "source": [
    "max_val = {}\n",
    "\n",
    "for i, row in resources.iterrows():\n",
    "    if type(row[\"focus\"]) is dict:\n",
    "        max_val[(row[\"focus\"].get(\"max\"), row[\"focus\"].get(\"value\"))] = None"
   ],
   "metadata": {
    "collapsed": false
   }
  },
  {
   "cell_type": "code",
   "execution_count": 82,
   "outputs": [
    {
     "name": "stdout",
     "output_type": "stream",
     "text": [
      "{(1, 1): None, (0, 0): None, (3, 3): None, (2, 2): None}\n"
     ]
    }
   ],
   "source": [
    "print(max_val)"
   ],
   "metadata": {
    "collapsed": false
   }
  },
  {
   "cell_type": "markdown",
   "source": [
    "### Resources\n",
    "Zatem w bestiariuszach focus value == focus max\n",
    "\n",
    "Zakres wartości: 0 - 3\n",
    "\n",
    "Nie każdy potworek ma\n",
    "\n",
    "Można zredukować złożoneość tej kolumny - ma 1 \"pod kolumne\" z 2 wartościami, które są takie same dla danego potworka o\n",
    "ile je ma - **może się przydać**\n",
    "\n",
    "*CR: Taką mam myśl, że jak potwór jest smokiem to będzie znał draconic. Ale to chyba bardziej nam jest potrzebna informacja że jest smokiem do tych wskazówek.*"
   ],
   "metadata": {
    "collapsed": false
   }
  },
  {
   "cell_type": "markdown",
   "source": [
    "## Saves"
   ],
   "metadata": {
    "collapsed": false
   }
  },
  {
   "cell_type": "code",
   "execution_count": 43,
   "outputs": [],
   "source": [
    "saves = unpack_column(system, \"saves\")"
   ],
   "metadata": {
    "collapsed": false
   }
  },
  {
   "cell_type": "code",
   "execution_count": 44,
   "outputs": [
    {
     "name": "stdout",
     "output_type": "stream",
     "text": [
      "<class 'pandas.core.frame.DataFrame'>\n",
      "Int64Index: 1206 entries, 0 to 364\n",
      "Data columns (total 3 columns):\n",
      " #   Column     Non-Null Count  Dtype \n",
      "---  ------     --------------  ----- \n",
      " 0   fortitude  1206 non-null   object\n",
      " 1   reflex     1206 non-null   object\n",
      " 2   will       1206 non-null   object\n",
      "dtypes: object(3)\n",
      "memory usage: 37.7+ KB\n"
     ]
    }
   ],
   "source": [
    "saves.info()"
   ],
   "metadata": {
    "collapsed": false
   }
  },
  {
   "cell_type": "code",
   "execution_count": 45,
   "outputs": [
    {
     "data": {
      "text/plain": "                         fortitude                           reflex  \\\n0  {'saveDetail': '', 'value': 22}  {'saveDetail': '', 'value': 19}   \n1  {'saveDetail': '', 'value': 21}  {'saveDetail': '', 'value': 14}   \n2  {'saveDetail': '', 'value': 20}  {'saveDetail': '', 'value': 17}   \n3  {'saveDetail': '', 'value': 30}  {'saveDetail': '', 'value': 29}   \n4   {'saveDetail': '', 'value': 6}  {'saveDetail': '', 'value': 10}   \n\n                              will  \n0  {'saveDetail': '', 'value': 17}  \n1  {'saveDetail': '', 'value': 16}  \n2  {'saveDetail': '', 'value': 15}  \n3  {'saveDetail': '', 'value': 32}  \n4   {'saveDetail': '', 'value': 4}  ",
      "text/html": "<div>\n<style scoped>\n    .dataframe tbody tr th:only-of-type {\n        vertical-align: middle;\n    }\n\n    .dataframe tbody tr th {\n        vertical-align: top;\n    }\n\n    .dataframe thead th {\n        text-align: right;\n    }\n</style>\n<table border=\"1\" class=\"dataframe\">\n  <thead>\n    <tr style=\"text-align: right;\">\n      <th></th>\n      <th>fortitude</th>\n      <th>reflex</th>\n      <th>will</th>\n    </tr>\n  </thead>\n  <tbody>\n    <tr>\n      <th>0</th>\n      <td>{'saveDetail': '', 'value': 22}</td>\n      <td>{'saveDetail': '', 'value': 19}</td>\n      <td>{'saveDetail': '', 'value': 17}</td>\n    </tr>\n    <tr>\n      <th>1</th>\n      <td>{'saveDetail': '', 'value': 21}</td>\n      <td>{'saveDetail': '', 'value': 14}</td>\n      <td>{'saveDetail': '', 'value': 16}</td>\n    </tr>\n    <tr>\n      <th>2</th>\n      <td>{'saveDetail': '', 'value': 20}</td>\n      <td>{'saveDetail': '', 'value': 17}</td>\n      <td>{'saveDetail': '', 'value': 15}</td>\n    </tr>\n    <tr>\n      <th>3</th>\n      <td>{'saveDetail': '', 'value': 30}</td>\n      <td>{'saveDetail': '', 'value': 29}</td>\n      <td>{'saveDetail': '', 'value': 32}</td>\n    </tr>\n    <tr>\n      <th>4</th>\n      <td>{'saveDetail': '', 'value': 6}</td>\n      <td>{'saveDetail': '', 'value': 10}</td>\n      <td>{'saveDetail': '', 'value': 4}</td>\n    </tr>\n  </tbody>\n</table>\n</div>"
     },
     "execution_count": 45,
     "metadata": {},
     "output_type": "execute_result"
    }
   ],
   "source": [
    "saves.head()"
   ],
   "metadata": {
    "collapsed": false
   }
  },
  {
   "cell_type": "markdown",
   "source": [
    "Dane wyglądają \"przyjaźnie\", tylko jeszcze trzeba sprawdzić \"saveDetails\""
   ],
   "metadata": {
    "collapsed": false
   }
  },
  {
   "cell_type": "code",
   "execution_count": 46,
   "outputs": [],
   "source": [
    "fortitude = unpack_column(saves, \"fortitude\")\n",
    "reflex = unpack_column(saves, \"reflex\")\n",
    "will = unpack_column(saves, \"will\")"
   ],
   "metadata": {
    "collapsed": false
   }
  },
  {
   "cell_type": "markdown",
   "source": [
    "### Saves - fortitude"
   ],
   "metadata": {
    "collapsed": false
   }
  },
  {
   "cell_type": "code",
   "execution_count": 47,
   "outputs": [
    {
     "data": {
      "text/plain": "array(['', '(+8 vs. poisons)'], dtype=object)"
     },
     "execution_count": 47,
     "metadata": {},
     "output_type": "execute_result"
    }
   ],
   "source": [
    "fortitude.saveDetail.unique()"
   ],
   "metadata": {
    "collapsed": false
   }
  },
  {
   "cell_type": "code",
   "execution_count": 48,
   "outputs": [
    {
     "data": {
      "text/plain": "           saveDetail  value\n334  (+8 vs. poisons)      6",
      "text/html": "<div>\n<style scoped>\n    .dataframe tbody tr th:only-of-type {\n        vertical-align: middle;\n    }\n\n    .dataframe tbody tr th {\n        vertical-align: top;\n    }\n\n    .dataframe thead th {\n        text-align: right;\n    }\n</style>\n<table border=\"1\" class=\"dataframe\">\n  <thead>\n    <tr style=\"text-align: right;\">\n      <th></th>\n      <th>saveDetail</th>\n      <th>value</th>\n    </tr>\n  </thead>\n  <tbody>\n    <tr>\n      <th>334</th>\n      <td>(+8 vs. poisons)</td>\n      <td>6</td>\n    </tr>\n  </tbody>\n</table>\n</div>"
     },
     "execution_count": 48,
     "metadata": {},
     "output_type": "execute_result"
    }
   ],
   "source": [
    "fortitude[fortitude.saveDetail != \"\"]"
   ],
   "metadata": {
    "collapsed": false
   }
  },
  {
   "cell_type": "markdown",
   "source": [
    "tylko 1 potworek z jakąś wartością"
   ],
   "metadata": {
    "collapsed": false
   }
  },
  {
   "cell_type": "code",
   "execution_count": 49,
   "outputs": [
    {
     "data": {
      "text/plain": "0"
     },
     "execution_count": 49,
     "metadata": {},
     "output_type": "execute_result"
    }
   ],
   "source": [
    "fortitude.value.min()"
   ],
   "metadata": {
    "collapsed": false
   }
  },
  {
   "cell_type": "code",
   "execution_count": 50,
   "outputs": [
    {
     "data": {
      "text/plain": "44"
     },
     "execution_count": 50,
     "metadata": {},
     "output_type": "execute_result"
    }
   ],
   "source": [
    "fortitude.value.max()"
   ],
   "metadata": {
    "collapsed": false
   }
  },
  {
   "cell_type": "code",
   "execution_count": 51,
   "outputs": [
    {
     "data": {
      "text/plain": "array([22, 21, 20, 30,  6, 15,  9, 13, 12,  8,  2, 10, 36, 35, 34, 16, 14,\n       11, 27, 17,  7, 32, 28, 18, 23, 42,  5,  4, 26, 39, 25, 24,  3, 19,\n       31, 29, 33, 37, 38,  0, 40, 44, 43, 41], dtype=int64)"
     },
     "execution_count": 51,
     "metadata": {},
     "output_type": "execute_result"
    }
   ],
   "source": [
    "fortitude.value.unique()"
   ],
   "metadata": {
    "collapsed": false
   }
  },
  {
   "cell_type": "code",
   "execution_count": 52,
   "outputs": [
    {
     "name": "stdout",
     "output_type": "stream",
     "text": [
      "1\n"
     ]
    }
   ],
   "source": [
    "for i in range(fortitude.value.min(), fortitude.value.max() + 1):\n",
    "    if fortitude[fortitude.value == i].size < 1:\n",
    "        print(i)"
   ],
   "metadata": {
    "collapsed": false
   }
  },
  {
   "cell_type": "markdown",
   "source": [
    "### Saves - reflex"
   ],
   "metadata": {
    "collapsed": false
   }
  },
  {
   "cell_type": "code",
   "execution_count": 53,
   "outputs": [
    {
     "data": {
      "text/plain": "array([''], dtype=object)"
     },
     "execution_count": 53,
     "metadata": {},
     "output_type": "execute_result"
    }
   ],
   "source": [
    "reflex.saveDetail.unique()"
   ],
   "metadata": {
    "collapsed": false
   }
  },
  {
   "cell_type": "markdown",
   "source": [
    "Brak detali"
   ],
   "metadata": {
    "collapsed": false
   }
  },
  {
   "cell_type": "code",
   "execution_count": 54,
   "outputs": [
    {
     "data": {
      "text/plain": "41"
     },
     "execution_count": 54,
     "metadata": {},
     "output_type": "execute_result"
    }
   ],
   "source": [
    "reflex.value.max()"
   ],
   "metadata": {
    "collapsed": false
   }
  },
  {
   "cell_type": "code",
   "execution_count": 55,
   "outputs": [
    {
     "data": {
      "text/plain": "0"
     },
     "execution_count": 55,
     "metadata": {},
     "output_type": "execute_result"
    }
   ],
   "source": [
    "reflex.value.min()"
   ],
   "metadata": {
    "collapsed": false
   }
  },
  {
   "cell_type": "code",
   "execution_count": 56,
   "outputs": [
    {
     "data": {
      "text/plain": "array([19, 14, 17, 29, 10, 13, 15,  9,  0,  8,  7, 11, 32, 30, 28, 26,  5,\n       18, 21, 16, 40, 25,  6, 22, 23, 35, 20, 12, 27, 24,  1,  3, 31, 34,\n        4, 41, 33, 37, 39, 38, 36], dtype=int64)"
     },
     "execution_count": 56,
     "metadata": {},
     "output_type": "execute_result"
    }
   ],
   "source": [
    "reflex.value.unique()"
   ],
   "metadata": {
    "collapsed": false
   }
  },
  {
   "cell_type": "code",
   "execution_count": 57,
   "outputs": [
    {
     "name": "stdout",
     "output_type": "stream",
     "text": [
      "2\n"
     ]
    }
   ],
   "source": [
    "for i in range(reflex.value.min(), reflex.value.max() + 1):\n",
    "    if reflex[reflex.value == i].size < 1:\n",
    "        print(i)"
   ],
   "metadata": {
    "collapsed": false
   }
  },
  {
   "cell_type": "markdown",
   "source": [
    "### Saves - will"
   ],
   "metadata": {
    "collapsed": false
   }
  },
  {
   "cell_type": "code",
   "execution_count": 58,
   "outputs": [
    {
     "data": {
      "text/plain": "array(['', '; +1 status to all saves vs. magic'], dtype=object)"
     },
     "execution_count": 58,
     "metadata": {},
     "output_type": "execute_result"
    }
   ],
   "source": [
    "will.saveDetail.unique()"
   ],
   "metadata": {
    "collapsed": false
   }
  },
  {
   "cell_type": "code",
   "execution_count": 59,
   "outputs": [
    {
     "data": {
      "text/plain": "                             saveDetail  value\n40   ; +1 status to all saves vs. magic     19\n142  ; +1 status to all saves vs. magic     10\n315  ; +1 status to all saves vs. magic      8",
      "text/html": "<div>\n<style scoped>\n    .dataframe tbody tr th:only-of-type {\n        vertical-align: middle;\n    }\n\n    .dataframe tbody tr th {\n        vertical-align: top;\n    }\n\n    .dataframe thead th {\n        text-align: right;\n    }\n</style>\n<table border=\"1\" class=\"dataframe\">\n  <thead>\n    <tr style=\"text-align: right;\">\n      <th></th>\n      <th>saveDetail</th>\n      <th>value</th>\n    </tr>\n  </thead>\n  <tbody>\n    <tr>\n      <th>40</th>\n      <td>; +1 status to all saves vs. magic</td>\n      <td>19</td>\n    </tr>\n    <tr>\n      <th>142</th>\n      <td>; +1 status to all saves vs. magic</td>\n      <td>10</td>\n    </tr>\n    <tr>\n      <th>315</th>\n      <td>; +1 status to all saves vs. magic</td>\n      <td>8</td>\n    </tr>\n  </tbody>\n</table>\n</div>"
     },
     "execution_count": 59,
     "metadata": {},
     "output_type": "execute_result"
    }
   ],
   "source": [
    "will[will.saveDetail != \"\"]"
   ],
   "metadata": {
    "collapsed": false
   }
  },
  {
   "cell_type": "markdown",
   "source": [
    "Sporadyczne detale, ale i tak wszystkie takie same"
   ],
   "metadata": {
    "collapsed": false
   }
  },
  {
   "cell_type": "code",
   "execution_count": 60,
   "outputs": [
    {
     "data": {
      "text/plain": "0"
     },
     "execution_count": 60,
     "metadata": {},
     "output_type": "execute_result"
    }
   ],
   "source": [
    "will.value.min()"
   ],
   "metadata": {
    "collapsed": false
   }
  },
  {
   "cell_type": "code",
   "execution_count": 61,
   "outputs": [
    {
     "data": {
      "text/plain": "43"
     },
     "execution_count": 61,
     "metadata": {},
     "output_type": "execute_result"
    }
   ],
   "source": [
    "will.value.max()"
   ],
   "metadata": {
    "collapsed": false
   }
  },
  {
   "cell_type": "code",
   "execution_count": 62,
   "outputs": [
    {
     "data": {
      "text/plain": "array([17, 16, 15, 32,  4, 11, 14,  2,  5,  6,  3,  8, 31, 35, 25,  9, 12,\n       22, 33, 21, 13, 18,  7, 10, 27, 43, 24, 26, 34, 23, 29, 19, 20, 28,\n       30, 39, 38, 37,  0,  1, 40, 36, 42], dtype=int64)"
     },
     "execution_count": 62,
     "metadata": {},
     "output_type": "execute_result"
    }
   ],
   "source": [
    "will.value.unique()"
   ],
   "metadata": {
    "collapsed": false
   }
  },
  {
   "cell_type": "code",
   "execution_count": 63,
   "outputs": [
    {
     "name": "stdout",
     "output_type": "stream",
     "text": [
      "41\n"
     ]
    }
   ],
   "source": [
    "for i in range(will.value.min(), will.value.max() + 1):\n",
    "    if will[will.value == i].size < 1:\n",
    "        print(i)"
   ],
   "metadata": {
    "collapsed": false
   }
  },
  {
   "cell_type": "markdown",
   "source": [
    "### Saves - podsumowanie\n",
    "mamy trzy kolumny: fortitude, reflex, will\n",
    "\n",
    "Wszystkie potworki mają nie puste values\n",
    "\n",
    "Zakres wartości:\n",
    "* fortitude: 0-44\n",
    "* reflex: 0-41\n",
    "* will: 0-43\n",
    "Z jakiegoś powodu w każdej kolumnie istnieje dokładnie jadna wartość której nie ma żaden potworek (z powyższych przediałów)\n",
    "\n",
    "**Wydaje mi się, że dane dość spoko do w miarę prostego dodania**\n",
    "Czy są istotne?\n",
    "*CR: Tak, to jest do uwzględnienia*"
   ],
   "metadata": {
    "collapsed": false
   }
  },
  {
   "cell_type": "markdown",
   "source": [
    "## Traits"
   ],
   "metadata": {
    "collapsed": false
   }
  },
  {
   "cell_type": "code",
   "execution_count": 75,
   "outputs": [],
   "source": [
    "traits = unpack_column(system, \"traits\")"
   ],
   "metadata": {
    "collapsed": false
   }
  },
  {
   "cell_type": "code",
   "execution_count": 78,
   "outputs": [
    {
     "name": "stdout",
     "output_type": "stream",
     "text": [
      "<class 'pandas.core.frame.DataFrame'>\n",
      "Int64Index: 1206 entries, 0 to 364\n",
      "Data columns (total 6 columns):\n",
      " #   Column     Non-Null Count  Dtype \n",
      "---  ------     --------------  ----- \n",
      " 0   languages  1206 non-null   object\n",
      " 1   rarity     1206 non-null   object\n",
      " 2   senses     1206 non-null   object\n",
      " 3   size       1206 non-null   object\n",
      " 4   value      1206 non-null   object\n",
      " 5   attitude   718 non-null    object\n",
      "dtypes: object(6)\n",
      "memory usage: 66.0+ KB\n"
     ]
    }
   ],
   "source": [
    "traits.info()"
   ],
   "metadata": {
    "collapsed": false
   }
  },
  {
   "cell_type": "code",
   "execution_count": 76,
   "outputs": [
    {
     "data": {
      "text/plain": "                                           languages    rarity  \\\n0  {'custom': '', 'selected': [], 'value': ['comm...    common   \n1        {'custom': '', 'selected': [], 'value': []}    common   \n2        {'custom': '', 'selected': [], 'value': []}    common   \n3  {'custom': '', 'selected': [], 'value': ['abys...  uncommon   \n4  {'custom': '', 'selected': [], 'value': ['cele...    common   \n\n                                              senses               size  \\\n0  {'value': 'darkvision, scent (imprecise) 60 fe...    {'value': 'lg'}   \n1  {'value': 'low-light vision, scent (imprecise)...   {'value': 'grg'}   \n2  {'value': 'low-light vision, scent (imprecise)...  {'value': 'huge'}   \n3  {'value': 'darkvision, scent (imprecise) 60 fe...   {'value': 'grg'}   \n4                            {'value': 'darkvision'}    {'value': 'sm'}   \n\n                  value attitude  \n0        [cold, dragon]      NaN  \n1    [animal, dinosaur]      NaN  \n2              [animal]      NaN  \n3  [amphibious, dragon]      NaN  \n4   [archon, celestial]      NaN  ",
      "text/html": "<div>\n<style scoped>\n    .dataframe tbody tr th:only-of-type {\n        vertical-align: middle;\n    }\n\n    .dataframe tbody tr th {\n        vertical-align: top;\n    }\n\n    .dataframe thead th {\n        text-align: right;\n    }\n</style>\n<table border=\"1\" class=\"dataframe\">\n  <thead>\n    <tr style=\"text-align: right;\">\n      <th></th>\n      <th>languages</th>\n      <th>rarity</th>\n      <th>senses</th>\n      <th>size</th>\n      <th>value</th>\n      <th>attitude</th>\n    </tr>\n  </thead>\n  <tbody>\n    <tr>\n      <th>0</th>\n      <td>{'custom': '', 'selected': [], 'value': ['comm...</td>\n      <td>common</td>\n      <td>{'value': 'darkvision, scent (imprecise) 60 fe...</td>\n      <td>{'value': 'lg'}</td>\n      <td>[cold, dragon]</td>\n      <td>NaN</td>\n    </tr>\n    <tr>\n      <th>1</th>\n      <td>{'custom': '', 'selected': [], 'value': []}</td>\n      <td>common</td>\n      <td>{'value': 'low-light vision, scent (imprecise)...</td>\n      <td>{'value': 'grg'}</td>\n      <td>[animal, dinosaur]</td>\n      <td>NaN</td>\n    </tr>\n    <tr>\n      <th>2</th>\n      <td>{'custom': '', 'selected': [], 'value': []}</td>\n      <td>common</td>\n      <td>{'value': 'low-light vision, scent (imprecise)...</td>\n      <td>{'value': 'huge'}</td>\n      <td>[animal]</td>\n      <td>NaN</td>\n    </tr>\n    <tr>\n      <th>3</th>\n      <td>{'custom': '', 'selected': [], 'value': ['abys...</td>\n      <td>uncommon</td>\n      <td>{'value': 'darkvision, scent (imprecise) 60 fe...</td>\n      <td>{'value': 'grg'}</td>\n      <td>[amphibious, dragon]</td>\n      <td>NaN</td>\n    </tr>\n    <tr>\n      <th>4</th>\n      <td>{'custom': '', 'selected': [], 'value': ['cele...</td>\n      <td>common</td>\n      <td>{'value': 'darkvision'}</td>\n      <td>{'value': 'sm'}</td>\n      <td>[archon, celestial]</td>\n      <td>NaN</td>\n    </tr>\n  </tbody>\n</table>\n</div>"
     },
     "execution_count": 76,
     "metadata": {},
     "output_type": "execute_result"
    }
   ],
   "source": [
    "traits.head()"
   ],
   "metadata": {
    "collapsed": false
   }
  },
  {
   "cell_type": "markdown",
   "source": [
    "Mamy 6 kolumn:\n",
    "* languages\n",
    "* rarity\n",
    "* senses\n",
    "* size\n",
    "* value\n",
    "* attitude (wartości brakujące)"
   ],
   "metadata": {
    "collapsed": false
   }
  },
  {
   "cell_type": "markdown",
   "source": [
    "### Traits - languages"
   ],
   "metadata": {
    "collapsed": false
   }
  },
  {
   "cell_type": "code",
   "execution_count": 77,
   "outputs": [],
   "source": [
    "languages = unpack_column(traits, \"languages\")"
   ],
   "metadata": {
    "collapsed": false
   }
  },
  {
   "cell_type": "code",
   "execution_count": 79,
   "outputs": [
    {
     "data": {
      "text/plain": "  custom selected                                              value\n0              []                                 [common, draconic]\n1              []                                                 []\n2              []                                                 []\n3              []  [abyssal, common, draconic, elven, jotun, sylvan]\n4              []                    [celestial, draconic, infernal]",
      "text/html": "<div>\n<style scoped>\n    .dataframe tbody tr th:only-of-type {\n        vertical-align: middle;\n    }\n\n    .dataframe tbody tr th {\n        vertical-align: top;\n    }\n\n    .dataframe thead th {\n        text-align: right;\n    }\n</style>\n<table border=\"1\" class=\"dataframe\">\n  <thead>\n    <tr style=\"text-align: right;\">\n      <th></th>\n      <th>custom</th>\n      <th>selected</th>\n      <th>value</th>\n    </tr>\n  </thead>\n  <tbody>\n    <tr>\n      <th>0</th>\n      <td></td>\n      <td>[]</td>\n      <td>[common, draconic]</td>\n    </tr>\n    <tr>\n      <th>1</th>\n      <td></td>\n      <td>[]</td>\n      <td>[]</td>\n    </tr>\n    <tr>\n      <th>2</th>\n      <td></td>\n      <td>[]</td>\n      <td>[]</td>\n    </tr>\n    <tr>\n      <th>3</th>\n      <td></td>\n      <td>[]</td>\n      <td>[abyssal, common, draconic, elven, jotun, sylvan]</td>\n    </tr>\n    <tr>\n      <th>4</th>\n      <td></td>\n      <td>[]</td>\n      <td>[celestial, draconic, infernal]</td>\n    </tr>\n  </tbody>\n</table>\n</div>"
     },
     "execution_count": 79,
     "metadata": {},
     "output_type": "execute_result"
    }
   ],
   "source": [
    "languages.head()"
   ],
   "metadata": {
    "collapsed": false
   }
  },
  {
   "cell_type": "code",
   "execution_count": 80,
   "outputs": [
    {
     "name": "stdout",
     "output_type": "stream",
     "text": [
      "<class 'pandas.core.frame.DataFrame'>\n",
      "Int64Index: 1206 entries, 0 to 364\n",
      "Data columns (total 3 columns):\n",
      " #   Column    Non-Null Count  Dtype \n",
      "---  ------    --------------  ----- \n",
      " 0   custom    1206 non-null   object\n",
      " 1   selected  1206 non-null   object\n",
      " 2   value     1206 non-null   object\n",
      "dtypes: object(3)\n",
      "memory usage: 37.7+ KB\n"
     ]
    }
   ],
   "source": [
    "languages.info()"
   ],
   "metadata": {
    "collapsed": false
   }
  },
  {
   "cell_type": "code",
   "execution_count": 90,
   "outputs": [],
   "source": [
    "languages = languages.replace(\"\", np.nan)"
   ],
   "metadata": {
    "collapsed": false
   }
  },
  {
   "cell_type": "code",
   "execution_count": 91,
   "outputs": [
    {
     "name": "stdout",
     "output_type": "stream",
     "text": [
      "<class 'pandas.core.frame.DataFrame'>\n",
      "Int64Index: 1206 entries, 0 to 364\n",
      "Data columns (total 3 columns):\n",
      " #   Column    Non-Null Count  Dtype \n",
      "---  ------    --------------  ----- \n",
      " 0   custom    313 non-null    object\n",
      " 1   selected  1206 non-null   object\n",
      " 2   value     1206 non-null   object\n",
      "dtypes: object(3)\n",
      "memory usage: 37.7+ KB\n"
     ]
    }
   ],
   "source": [
    "languages.info()"
   ],
   "metadata": {
    "collapsed": false
   }
  },
  {
   "cell_type": "code",
   "execution_count": 92,
   "outputs": [
    {
     "data": {
      "text/plain": "  custom selected                                              value\n0    NaN       []                                 [common, draconic]\n1    NaN       []                                                 []\n2    NaN       []                                                 []\n3    NaN       []  [abyssal, common, draconic, elven, jotun, sylvan]\n4    NaN       []                    [celestial, draconic, infernal]",
      "text/html": "<div>\n<style scoped>\n    .dataframe tbody tr th:only-of-type {\n        vertical-align: middle;\n    }\n\n    .dataframe tbody tr th {\n        vertical-align: top;\n    }\n\n    .dataframe thead th {\n        text-align: right;\n    }\n</style>\n<table border=\"1\" class=\"dataframe\">\n  <thead>\n    <tr style=\"text-align: right;\">\n      <th></th>\n      <th>custom</th>\n      <th>selected</th>\n      <th>value</th>\n    </tr>\n  </thead>\n  <tbody>\n    <tr>\n      <th>0</th>\n      <td>NaN</td>\n      <td>[]</td>\n      <td>[common, draconic]</td>\n    </tr>\n    <tr>\n      <th>1</th>\n      <td>NaN</td>\n      <td>[]</td>\n      <td>[]</td>\n    </tr>\n    <tr>\n      <th>2</th>\n      <td>NaN</td>\n      <td>[]</td>\n      <td>[]</td>\n    </tr>\n    <tr>\n      <th>3</th>\n      <td>NaN</td>\n      <td>[]</td>\n      <td>[abyssal, common, draconic, elven, jotun, sylvan]</td>\n    </tr>\n    <tr>\n      <th>4</th>\n      <td>NaN</td>\n      <td>[]</td>\n      <td>[celestial, draconic, infernal]</td>\n    </tr>\n  </tbody>\n</table>\n</div>"
     },
     "execution_count": 92,
     "metadata": {},
     "output_type": "execute_result"
    }
   ],
   "source": [
    "languages.head()"
   ],
   "metadata": {
    "collapsed": false
   }
  },
  {
   "cell_type": "markdown",
   "source": [
    "*CR: Raczej nie potrzebne informacje*\n",
    "*Taką mam myśl, że jak potwór jest smokiem to będzie znał draconic. Ale to chyba bardziej nam jest potrzebna informacja że jest smokiem do tych wskazówek.*"
   ],
   "metadata": {
    "collapsed": false
   }
  },
  {
   "cell_type": "markdown",
   "source": [
    "### Traits - rarity"
   ],
   "metadata": {
    "collapsed": false
   }
  },
  {
   "cell_type": "code",
   "execution_count": 93,
   "outputs": [],
   "source": [
    "rarity = unpack_column(traits, \"rarity\")"
   ],
   "metadata": {
    "collapsed": false
   }
  },
  {
   "cell_type": "code",
   "execution_count": 94,
   "outputs": [
    {
     "name": "stdout",
     "output_type": "stream",
     "text": [
      "<class 'pandas.core.frame.DataFrame'>\n",
      "Int64Index: 1206 entries, 0 to 364\n",
      "Data columns (total 1 columns):\n",
      " #   Column  Non-Null Count  Dtype \n",
      "---  ------  --------------  ----- \n",
      " 0   0       1206 non-null   object\n",
      "dtypes: object(1)\n",
      "memory usage: 18.8+ KB\n"
     ]
    }
   ],
   "source": [
    "rarity.info()"
   ],
   "metadata": {
    "collapsed": false
   }
  },
  {
   "cell_type": "code",
   "execution_count": 95,
   "outputs": [
    {
     "data": {
      "text/plain": "          0\n0    common\n1    common\n2    common\n3  uncommon\n4    common",
      "text/html": "<div>\n<style scoped>\n    .dataframe tbody tr th:only-of-type {\n        vertical-align: middle;\n    }\n\n    .dataframe tbody tr th {\n        vertical-align: top;\n    }\n\n    .dataframe thead th {\n        text-align: right;\n    }\n</style>\n<table border=\"1\" class=\"dataframe\">\n  <thead>\n    <tr style=\"text-align: right;\">\n      <th></th>\n      <th>0</th>\n    </tr>\n  </thead>\n  <tbody>\n    <tr>\n      <th>0</th>\n      <td>common</td>\n    </tr>\n    <tr>\n      <th>1</th>\n      <td>common</td>\n    </tr>\n    <tr>\n      <th>2</th>\n      <td>common</td>\n    </tr>\n    <tr>\n      <th>3</th>\n      <td>uncommon</td>\n    </tr>\n    <tr>\n      <th>4</th>\n      <td>common</td>\n    </tr>\n  </tbody>\n</table>\n</div>"
     },
     "execution_count": 95,
     "metadata": {},
     "output_type": "execute_result"
    }
   ],
   "source": [
    "rarity.head()"
   ],
   "metadata": {
    "collapsed": false
   }
  },
  {
   "cell_type": "code",
   "execution_count": 96,
   "outputs": [
    {
     "data": {
      "text/plain": "array(['common', 'uncommon', 'unique', 'rare'], dtype=object)"
     },
     "execution_count": 96,
     "metadata": {},
     "output_type": "execute_result"
    }
   ],
   "source": [
    "traits.rarity.unique()"
   ],
   "metadata": {
    "collapsed": false
   }
  },
  {
   "cell_type": "markdown",
   "source": [
    "Mamy 4 typy\n",
    "**może się przydać do wskazówek/if-ów**\n",
    "\n",
    "*CR: Nie jestem pewna. Nie wiem czym są te wartości do końca i jaki mają wpływ.\n",
    "Ale chyba jak się je zostawi i się nie przydadzą to nic się nie stanie.*"
   ],
   "metadata": {
    "collapsed": false
   }
  },
  {
   "cell_type": "markdown",
   "source": [
    "### Traits - senses"
   ],
   "metadata": {
    "collapsed": false
   }
  },
  {
   "cell_type": "code",
   "execution_count": 97,
   "outputs": [],
   "source": [
    "senses = unpack_column(traits, \"senses\")"
   ],
   "metadata": {
    "collapsed": false
   }
  },
  {
   "cell_type": "code",
   "execution_count": 98,
   "outputs": [
    {
     "name": "stdout",
     "output_type": "stream",
     "text": [
      "<class 'pandas.core.frame.DataFrame'>\n",
      "Int64Index: 1206 entries, 0 to 364\n",
      "Data columns (total 1 columns):\n",
      " #   Column  Non-Null Count  Dtype \n",
      "---  ------  --------------  ----- \n",
      " 0   value   1206 non-null   object\n",
      "dtypes: object(1)\n",
      "memory usage: 18.8+ KB\n"
     ]
    }
   ],
   "source": [
    "senses.info()"
   ],
   "metadata": {
    "collapsed": false
   }
  },
  {
   "cell_type": "code",
   "execution_count": 99,
   "outputs": [
    {
     "data": {
      "text/plain": "                                               value\n0  darkvision, scent (imprecise) 60 feet, snow vi...\n1        low-light vision, scent (imprecise) 30 feet\n2        low-light vision, scent (imprecise) 60 feet\n3              darkvision, scent (imprecise) 60 feet\n4                                         darkvision",
      "text/html": "<div>\n<style scoped>\n    .dataframe tbody tr th:only-of-type {\n        vertical-align: middle;\n    }\n\n    .dataframe tbody tr th {\n        vertical-align: top;\n    }\n\n    .dataframe thead th {\n        text-align: right;\n    }\n</style>\n<table border=\"1\" class=\"dataframe\">\n  <thead>\n    <tr style=\"text-align: right;\">\n      <th></th>\n      <th>value</th>\n    </tr>\n  </thead>\n  <tbody>\n    <tr>\n      <th>0</th>\n      <td>darkvision, scent (imprecise) 60 feet, snow vi...</td>\n    </tr>\n    <tr>\n      <th>1</th>\n      <td>low-light vision, scent (imprecise) 30 feet</td>\n    </tr>\n    <tr>\n      <th>2</th>\n      <td>low-light vision, scent (imprecise) 60 feet</td>\n    </tr>\n    <tr>\n      <th>3</th>\n      <td>darkvision, scent (imprecise) 60 feet</td>\n    </tr>\n    <tr>\n      <th>4</th>\n      <td>darkvision</td>\n    </tr>\n  </tbody>\n</table>\n</div>"
     },
     "execution_count": 99,
     "metadata": {},
     "output_type": "execute_result"
    }
   ],
   "source": [
    "senses.head()"
   ],
   "metadata": {
    "collapsed": false
   }
  },
  {
   "cell_type": "markdown",
   "source": [
    "Jak na razie raczej nie dla nas - dane trochę \"nieprzyjemnie\" przechowywane (string z \",\") // może się okazać, że gdzieś nie ma przecinka itp.\n",
    "\n",
    "*Czy są ważne?*\n",
    "// może dla ifów\n",
    "\n",
    "*CR: Może dla ifów, ale to znowu w tą stronę że jak ktoś jest smokiem to widzi w ciemności, ale nie koniecznie w drugą stronę.*\n",
    "\n",
    "*Nie do końca wiem jak to będzie działało*"
   ],
   "metadata": {
    "collapsed": false
   }
  },
  {
   "cell_type": "markdown",
   "source": [
    "### Traits - size"
   ],
   "metadata": {
    "collapsed": false
   }
  },
  {
   "cell_type": "code",
   "execution_count": 101,
   "outputs": [],
   "source": [
    "size = unpack_column(traits, \"size\")"
   ],
   "metadata": {
    "collapsed": false
   }
  },
  {
   "cell_type": "code",
   "execution_count": 102,
   "outputs": [
    {
     "name": "stdout",
     "output_type": "stream",
     "text": [
      "<class 'pandas.core.frame.DataFrame'>\n",
      "Int64Index: 1206 entries, 0 to 364\n",
      "Data columns (total 1 columns):\n",
      " #   Column  Non-Null Count  Dtype \n",
      "---  ------  --------------  ----- \n",
      " 0   value   1206 non-null   object\n",
      "dtypes: object(1)\n",
      "memory usage: 18.8+ KB\n"
     ]
    }
   ],
   "source": [
    "size.info()"
   ],
   "metadata": {
    "collapsed": false
   }
  },
  {
   "cell_type": "code",
   "execution_count": 103,
   "outputs": [
    {
     "data": {
      "text/plain": "  value\n0    lg\n1   grg\n2  huge\n3   grg\n4    sm",
      "text/html": "<div>\n<style scoped>\n    .dataframe tbody tr th:only-of-type {\n        vertical-align: middle;\n    }\n\n    .dataframe tbody tr th {\n        vertical-align: top;\n    }\n\n    .dataframe thead th {\n        text-align: right;\n    }\n</style>\n<table border=\"1\" class=\"dataframe\">\n  <thead>\n    <tr style=\"text-align: right;\">\n      <th></th>\n      <th>value</th>\n    </tr>\n  </thead>\n  <tbody>\n    <tr>\n      <th>0</th>\n      <td>lg</td>\n    </tr>\n    <tr>\n      <th>1</th>\n      <td>grg</td>\n    </tr>\n    <tr>\n      <th>2</th>\n      <td>huge</td>\n    </tr>\n    <tr>\n      <th>3</th>\n      <td>grg</td>\n    </tr>\n    <tr>\n      <th>4</th>\n      <td>sm</td>\n    </tr>\n  </tbody>\n</table>\n</div>"
     },
     "execution_count": 103,
     "metadata": {},
     "output_type": "execute_result"
    }
   ],
   "source": [
    "size.head()"
   ],
   "metadata": {
    "collapsed": false
   }
  },
  {
   "cell_type": "code",
   "execution_count": 104,
   "outputs": [
    {
     "data": {
      "text/plain": "array(['lg', 'grg', 'huge', 'sm', 'med', 'tiny'], dtype=object)"
     },
     "execution_count": 104,
     "metadata": {},
     "output_type": "execute_result"
    }
   ],
   "source": [
    "size.value.unique()"
   ],
   "metadata": {
    "collapsed": false
   }
  },
  {
   "cell_type": "markdown",
   "source": [
    "*To chyba na CR się nie przekłada???*\n",
    "\n",
    "//ale może być ewentualnie do ifów???\n",
    "\n",
    "\n",
    "*CR: Ja bym to nawet uwzględniła, bo tak na oko jak coś jest duże to jest huge to będzie silne.*\n",
    "\n",
    "* Najwyżej lasso nam wywali*"
   ],
   "metadata": {
    "collapsed": false
   }
  },
  {
   "cell_type": "markdown",
   "source": [
    "### Traits - value"
   ],
   "metadata": {
    "collapsed": false
   }
  },
  {
   "cell_type": "code",
   "execution_count": 105,
   "outputs": [],
   "source": [
    "value = unpack_column(traits, \"value\")"
   ],
   "metadata": {
    "collapsed": false
   }
  },
  {
   "cell_type": "code",
   "execution_count": 106,
   "outputs": [
    {
     "name": "stdout",
     "output_type": "stream",
     "text": [
      "<class 'pandas.core.frame.DataFrame'>\n",
      "Int64Index: 1206 entries, 0 to 364\n",
      "Data columns (total 5 columns):\n",
      " #   Column  Non-Null Count  Dtype \n",
      "---  ------  --------------  ----- \n",
      " 0   0       1206 non-null   object\n",
      " 1   1       848 non-null    object\n",
      " 2   2       258 non-null    object\n",
      " 3   3       41 non-null     object\n",
      " 4   4       3 non-null      object\n",
      "dtypes: object(5)\n",
      "memory usage: 56.5+ KB\n"
     ]
    }
   ],
   "source": [
    "value.info()"
   ],
   "metadata": {
    "collapsed": false
   }
  },
  {
   "cell_type": "code",
   "execution_count": 107,
   "outputs": [
    {
     "data": {
      "text/plain": "0                     [cold, dragon]\n1                 [animal, dinosaur]\n2                           [animal]\n3               [amphibious, dragon]\n4                [archon, celestial]\n                   ...              \n360                  [dragon, earth]\n361                   [fey, gremlin]\n362     [construct, golem, mindless]\n363    [incorporeal, spirit, undead]\n364              [caligni, humanoid]\nName: value, Length: 1206, dtype: object"
     },
     "execution_count": 107,
     "metadata": {},
     "output_type": "execute_result"
    }
   ],
   "source": [
    "traits.value"
   ],
   "metadata": {
    "collapsed": false
   }
  },
  {
   "cell_type": "code",
   "execution_count": 109,
   "outputs": [],
   "source": [
    "unique_traits_value = defaultdict(lambda: 0)\n",
    "\n",
    "for row in traits.value.values:\n",
    "    for i in row:\n",
    "        unique_traits_value[i] += 1"
   ],
   "metadata": {
    "collapsed": false
   }
  },
  {
   "cell_type": "code",
   "execution_count": 110,
   "outputs": [
    {
     "data": {
      "text/plain": "dict_keys(['cold', 'dragon', 'animal', 'dinosaur', 'amphibious', 'archon', 'celestial', 'aberration', 'azata', 'undead', 'gnome', 'humanoid', 'mindless', 'zombie', 'lizardfolk', 'construct', 'ghost', 'incorporeal', 'spirit', 'acid', 'fire', 'earth', 'elemental', 'aquatic', 'fey', 'hag', 'beast', 'angel', 'goblin', 'electricity', 'demon', 'fiend', 'xulgath', 'skeleton', 'human', 'werecreature', 'plant', 'water', 'tengu', 'soulbound', 'giant', 'monitor', 'protean', 'kobold', 'aeon', 'devil', 'leshy', 'vampire', 'psychopomp', 'mutant', 'gremlin', 'daemon', 'mummy', 'air', 'drow', 'elf', 'troll', 'genie', 'sea-devil', 'wraith', 'ooze', 'swarm', 'boggard', 'ghoul', 'inevitable', 'merfolk', 'nymph', 'fungus', 'alchemical', 'golem', 'duskwalker', 'orc', 'ratfolk', 'wight', 'dero', 'changeling', 'sprite', 'ethereal', 'duergar', 'dwarf', 'caligni', 'aasimar', 'rakshasa', 'gnoll', 'summoned', 'dhampir', 'catfolk', 'astral', 'tiefling', 'couatl', 'qlippoth', 'suli', 'petitioner', 'oni', 'serpentfolk', 'velstrac', 'shadow', 'positive', 'urdefhan', 'sylph', 'time', 'negative', 'spriggan', 'tane', 'dream', 'undine', 'fetchling', 'ifrit', 'grippli', 'skulk', 'oread', 'clockwork', 'ganzi', 'titan', 'mortic', 'wyrwood', 'kitsune', 'grioth', 'munavri', 'asura', 'stheno', 'sahkil', 'agathion', 'siktempora', 'kami', 'troop', 'ghoran', 'samsaran', 'div', 'phantom', 'nagaji', 'kovintus', 'skelm', 'arcane', 'evocation', 'paaridar', 'azarketi', 'vanara', 'shabti', 'tanggal', 'aesir', 'strix', 'aphorite', 'android', 'locathah', 'illusion', 'mental', 'wayang', 'vishkanya', 'light'])"
     },
     "execution_count": 110,
     "metadata": {},
     "output_type": "execute_result"
    }
   ],
   "source": [
    "unique_traits_value.keys()"
   ],
   "metadata": {
    "collapsed": false
   }
  },
  {
   "cell_type": "code",
   "execution_count": 111,
   "outputs": [
    {
     "data": {
      "text/plain": "defaultdict(<function __main__.<lambda>()>,\n            {'cold': 28,\n             'dragon': 154,\n             'animal': 205,\n             'dinosaur': 12,\n             'amphibious': 91,\n             'archon': 9,\n             'celestial': 37,\n             'aberration': 81,\n             'azata': 6,\n             'undead': 92,\n             'gnome': 6,\n             'humanoid': 181,\n             'mindless': 82,\n             'zombie': 7,\n             'lizardfolk': 3,\n             'construct': 58,\n             'ghost': 2,\n             'incorporeal': 28,\n             'spirit': 22,\n             'acid': 7,\n             'fire': 64,\n             'earth': 57,\n             'elemental': 84,\n             'aquatic': 45,\n             'fey': 61,\n             'hag': 8,\n             'beast': 94,\n             'angel': 8,\n             'goblin': 9,\n             'electricity': 17,\n             'demon': 18,\n             'fiend': 99,\n             'xulgath': 3,\n             'skeleton': 8,\n             'human': 24,\n             'werecreature': 7,\n             'plant': 43,\n             'water': 47,\n             'tengu': 1,\n             'soulbound': 9,\n             'giant': 32,\n             'monitor': 25,\n             'protean': 6,\n             'kobold': 7,\n             'aeon': 8,\n             'devil': 17,\n             'leshy': 9,\n             'vampire': 8,\n             'psychopomp': 6,\n             'mutant': 5,\n             'gremlin': 8,\n             'daemon': 10,\n             'mummy': 3,\n             'air': 27,\n             'drow': 3,\n             'elf': 4,\n             'troll': 7,\n             'genie': 5,\n             'sea-devil': 3,\n             'wraith': 4,\n             'ooze': 14,\n             'swarm': 46,\n             'boggard': 3,\n             'ghoul': 3,\n             'inevitable': 4,\n             'merfolk': 2,\n             'nymph': 8,\n             'fungus': 16,\n             'alchemical': 1,\n             'golem': 12,\n             'duskwalker': 1,\n             'orc': 4,\n             'ratfolk': 1,\n             'wight': 2,\n             'dero': 3,\n             'changeling': 1,\n             'sprite': 6,\n             'ethereal': 5,\n             'duergar': 3,\n             'dwarf': 3,\n             'caligni': 6,\n             'aasimar': 1,\n             'rakshasa': 4,\n             'gnoll': 3,\n             'summoned': 1,\n             'dhampir': 1,\n             'catfolk': 1,\n             'astral': 6,\n             'tiefling': 1,\n             'couatl': 3,\n             'qlippoth': 6,\n             'suli': 1,\n             'petitioner': 20,\n             'oni': 4,\n             'serpentfolk': 4,\n             'velstrac': 6,\n             'shadow': 16,\n             'positive': 4,\n             'urdefhan': 2,\n             'sylph': 1,\n             'time': 5,\n             'negative': 2,\n             'spriggan': 2,\n             'tane': 3,\n             'dream': 7,\n             'undine': 1,\n             'fetchling': 1,\n             'ifrit': 1,\n             'grippli': 1,\n             'skulk': 1,\n             'oread': 1,\n             'clockwork': 4,\n             'ganzi': 1,\n             'titan': 4,\n             'mortic': 4,\n             'wyrwood': 1,\n             'kitsune': 1,\n             'grioth': 2,\n             'munavri': 1,\n             'asura': 4,\n             'stheno': 1,\n             'sahkil': 6,\n             'agathion': 8,\n             'siktempora': 4,\n             'kami': 7,\n             'troop': 7,\n             'ghoran': 1,\n             'samsaran': 1,\n             'div': 4,\n             'phantom': 2,\n             'nagaji': 1,\n             'kovintus': 1,\n             'skelm': 4,\n             'arcane': 1,\n             'evocation': 1,\n             'paaridar': 1,\n             'azarketi': 1,\n             'vanara': 1,\n             'shabti': 1,\n             'tanggal': 1,\n             'aesir': 2,\n             'strix': 1,\n             'aphorite': 1,\n             'android': 1,\n             'locathah': 1,\n             'illusion': 1,\n             'mental': 1,\n             'wayang': 1,\n             'vishkanya': 1,\n             'light': 2})"
     },
     "execution_count": 111,
     "metadata": {},
     "output_type": "execute_result"
    }
   ],
   "source": [
    "unique_traits_value"
   ],
   "metadata": {
    "collapsed": false
   }
  },
  {
   "cell_type": "code",
   "execution_count": 115,
   "outputs": [
    {
     "name": "stdout",
     "output_type": "stream",
     "text": [
      "('animal', 205)\n"
     ]
    }
   ],
   "source": [
    "print(max(unique_traits_value.items(), key=lambda x: x[1]))"
   ],
   "metadata": {
    "collapsed": false
   }
  },
  {
   "cell_type": "markdown",
   "source": [
    "Dużo różnych wartości, ale najwięcej zwierzaczków\n",
    "Analogicznie jak wyżej\n",
    "*Może przyda się do ifów?*\n",
    "\n",
    "*CR: Może się przyda, bo pewnie każda subrasa czy coś tam ma jakieś właściwości. Ale oby nie miała bo tego jest dużo. I z każdą książką prawdopodobnie będzie tego więcej!*\n",
    "*Types są chyba nadrzędne na tym i oby to nam wystarczyło*"
   ],
   "metadata": {
    "collapsed": false
   }
  },
  {
   "cell_type": "markdown",
   "source": [
    "### Traits - attitiude"
   ],
   "metadata": {
    "collapsed": false
   }
  },
  {
   "cell_type": "code",
   "execution_count": 120,
   "outputs": [
    {
     "data": {
      "text/plain": "0    NaN\n1    NaN\n2    NaN\n3    NaN\n4    NaN\nName: attitude, dtype: object"
     },
     "execution_count": 120,
     "metadata": {},
     "output_type": "execute_result"
    }
   ],
   "source": [
    "traits.attitude.head()"
   ],
   "metadata": {
    "collapsed": false
   }
  },
  {
   "cell_type": "code",
   "execution_count": 121,
   "outputs": [
    {
     "name": "stdout",
     "output_type": "stream",
     "text": [
      "<class 'pandas.core.series.Series'>\n",
      "Int64Index: 1206 entries, 0 to 364\n",
      "Series name: attitude\n",
      "Non-Null Count  Dtype \n",
      "--------------  ----- \n",
      "718 non-null    object\n",
      "dtypes: object(1)\n",
      "memory usage: 18.8+ KB\n"
     ]
    }
   ],
   "source": [
    "traits.attitude.info()"
   ],
   "metadata": {
    "collapsed": false
   }
  },
  {
   "cell_type": "code",
   "execution_count": 123,
   "outputs": [],
   "source": [
    "attitude = traits.attitude"
   ],
   "metadata": {
    "collapsed": false
   }
  },
  {
   "cell_type": "code",
   "execution_count": 124,
   "outputs": [
    {
     "name": "stdout",
     "output_type": "stream",
     "text": [
      "<class 'pandas.core.series.Series'>\n",
      "Int64Index: 1206 entries, 0 to 364\n",
      "Series name: attitude\n",
      "Non-Null Count  Dtype \n",
      "--------------  ----- \n",
      "718 non-null    object\n",
      "dtypes: object(1)\n",
      "memory usage: 18.8+ KB\n"
     ]
    }
   ],
   "source": [
    "attitude.info()"
   ],
   "metadata": {
    "collapsed": false
   }
  },
  {
   "cell_type": "code",
   "execution_count": 125,
   "outputs": [
    {
     "data": {
      "text/plain": "0    NaN\n1    NaN\n2    NaN\n3    NaN\n4    NaN\nName: attitude, dtype: object"
     },
     "execution_count": 125,
     "metadata": {},
     "output_type": "execute_result"
    }
   ],
   "source": [
    "attitude.head()"
   ],
   "metadata": {
    "collapsed": false
   }
  },
  {
   "cell_type": "code",
   "execution_count": 128,
   "outputs": [],
   "source": [
    "attitude = attitude[pd.notnull(attitude)]"
   ],
   "metadata": {
    "collapsed": false
   }
  },
  {
   "cell_type": "code",
   "execution_count": 129,
   "outputs": [
    {
     "data": {
      "text/plain": "9     {'value': 'hostile'}\n10    {'value': 'hostile'}\n15    {'value': 'hostile'}\n27    {'value': 'hostile'}\n37    {'value': 'hostile'}\nName: attitude, dtype: object"
     },
     "execution_count": 129,
     "metadata": {},
     "output_type": "execute_result"
    }
   ],
   "source": [
    "attitude.head()"
   ],
   "metadata": {
    "collapsed": false
   }
  },
  {
   "cell_type": "code",
   "execution_count": 132,
   "outputs": [],
   "source": [
    "attitude = unpack_column(pd.DataFrame(attitude), \"attitude\")"
   ],
   "metadata": {
    "collapsed": false
   }
  },
  {
   "cell_type": "code",
   "execution_count": 133,
   "outputs": [
    {
     "name": "stdout",
     "output_type": "stream",
     "text": [
      "<class 'pandas.core.frame.DataFrame'>\n",
      "Int64Index: 718 entries, 9 to 364\n",
      "Data columns (total 1 columns):\n",
      " #   Column  Non-Null Count  Dtype \n",
      "---  ------  --------------  ----- \n",
      " 0   value   718 non-null    object\n",
      "dtypes: object(1)\n",
      "memory usage: 11.2+ KB\n"
     ]
    }
   ],
   "source": [
    "attitude.info()"
   ],
   "metadata": {
    "collapsed": false
   }
  },
  {
   "cell_type": "code",
   "execution_count": 134,
   "outputs": [
    {
     "data": {
      "text/plain": "      value\n9   hostile\n10  hostile\n15  hostile\n27  hostile\n37  hostile",
      "text/html": "<div>\n<style scoped>\n    .dataframe tbody tr th:only-of-type {\n        vertical-align: middle;\n    }\n\n    .dataframe tbody tr th {\n        vertical-align: top;\n    }\n\n    .dataframe thead th {\n        text-align: right;\n    }\n</style>\n<table border=\"1\" class=\"dataframe\">\n  <thead>\n    <tr style=\"text-align: right;\">\n      <th></th>\n      <th>value</th>\n    </tr>\n  </thead>\n  <tbody>\n    <tr>\n      <th>9</th>\n      <td>hostile</td>\n    </tr>\n    <tr>\n      <th>10</th>\n      <td>hostile</td>\n    </tr>\n    <tr>\n      <th>15</th>\n      <td>hostile</td>\n    </tr>\n    <tr>\n      <th>27</th>\n      <td>hostile</td>\n    </tr>\n    <tr>\n      <th>37</th>\n      <td>hostile</td>\n    </tr>\n  </tbody>\n</table>\n</div>"
     },
     "execution_count": 134,
     "metadata": {},
     "output_type": "execute_result"
    }
   ],
   "source": [
    "attitude.head()"
   ],
   "metadata": {
    "collapsed": false
   }
  },
  {
   "cell_type": "code",
   "execution_count": 138,
   "outputs": [
    {
     "data": {
      "text/plain": "9      hostile\n10     hostile\n15     hostile\n27     hostile\n37     hostile\n        ...   \n358    hostile\n359    hostile\n361    hostile\n363    hostile\n364    hostile\nName: value, Length: 718, dtype: object"
     },
     "execution_count": 138,
     "metadata": {},
     "output_type": "execute_result"
    }
   ],
   "source": [
    "attitude.iloc[:, 0]"
   ],
   "metadata": {
    "collapsed": false
   }
  },
  {
   "cell_type": "code",
   "execution_count": 135,
   "outputs": [
    {
     "data": {
      "text/plain": "array(['hostile', 'indifferent'], dtype=object)"
     },
     "execution_count": 135,
     "metadata": {},
     "output_type": "execute_result"
    }
   ],
   "source": [
    "attitude.value.unique()"
   ],
   "metadata": {
    "collapsed": false
   }
  },
  {
   "cell_type": "code",
   "execution_count": 142,
   "outputs": [
    {
     "name": "stdout",
     "output_type": "stream",
     "text": [
      "hostile\n",
      "711\n",
      "indifferent\n",
      "7\n"
     ]
    }
   ],
   "source": [
    "for u in attitude.value.unique():\n",
    "    print(u)\n",
    "    print(len([x for x in attitude.values if x == u]))"
   ],
   "metadata": {
    "collapsed": false
   }
  },
  {
   "cell_type": "markdown",
   "source": [
    "My tylko 718 potworków ma attitude\n",
    "* hostile: 711\n",
    "* indifferent: 7\n",
    "\n",
    "*Wydaje mi się, że może do if-ów się przydać*\n",
    "*CR: Być może*"
   ],
   "metadata": {
    "collapsed": false
   }
  },
  {
   "cell_type": "markdown",
   "source": [
    "### Podsumowanie - traits\n",
    "* languages - nie (99%)\n",
    "* rarity - *do wskazówek(?)*\n",
    "* senses - *może wskazówki????*\n",
    "* size - *to chyba też raczej do wskazówek*\n",
    "* value - *jw.*\n",
    "* attitude - *jw.*"
   ],
   "metadata": {
    "collapsed": false
   }
  },
  {
   "cell_type": "markdown",
   "source": [
    "## Schema"
   ],
   "metadata": {
    "collapsed": false
   }
  },
  {
   "cell_type": "code",
   "execution_count": 143,
   "outputs": [],
   "source": [
    "schema = unpack_column(system, \"schema\")"
   ],
   "metadata": {
    "collapsed": false
   }
  },
  {
   "cell_type": "code",
   "execution_count": 144,
   "outputs": [
    {
     "name": "stdout",
     "output_type": "stream",
     "text": [
      "<class 'pandas.core.frame.DataFrame'>\n",
      "Int64Index: 1206 entries, 0 to 364\n",
      "Data columns (total 2 columns):\n",
      " #   Column         Non-Null Count  Dtype  \n",
      "---  ------         --------------  -----  \n",
      " 0   version        1206 non-null   float64\n",
      " 1   lastMigration  0 non-null      float64\n",
      "dtypes: float64(2)\n",
      "memory usage: 28.3 KB\n"
     ]
    }
   ],
   "source": [
    "schema.info()"
   ],
   "metadata": {
    "collapsed": false
   }
  },
  {
   "cell_type": "code",
   "execution_count": 145,
   "outputs": [
    {
     "data": {
      "text/plain": "   version  lastMigration\n0    0.827            NaN\n1    0.827            NaN\n2    0.827            NaN\n3    0.827            NaN\n4    0.827            NaN",
      "text/html": "<div>\n<style scoped>\n    .dataframe tbody tr th:only-of-type {\n        vertical-align: middle;\n    }\n\n    .dataframe tbody tr th {\n        vertical-align: top;\n    }\n\n    .dataframe thead th {\n        text-align: right;\n    }\n</style>\n<table border=\"1\" class=\"dataframe\">\n  <thead>\n    <tr style=\"text-align: right;\">\n      <th></th>\n      <th>version</th>\n      <th>lastMigration</th>\n    </tr>\n  </thead>\n  <tbody>\n    <tr>\n      <th>0</th>\n      <td>0.827</td>\n      <td>NaN</td>\n    </tr>\n    <tr>\n      <th>1</th>\n      <td>0.827</td>\n      <td>NaN</td>\n    </tr>\n    <tr>\n      <th>2</th>\n      <td>0.827</td>\n      <td>NaN</td>\n    </tr>\n    <tr>\n      <th>3</th>\n      <td>0.827</td>\n      <td>NaN</td>\n    </tr>\n    <tr>\n      <th>4</th>\n      <td>0.827</td>\n      <td>NaN</td>\n    </tr>\n  </tbody>\n</table>\n</div>"
     },
     "execution_count": 145,
     "metadata": {},
     "output_type": "execute_result"
    }
   ],
   "source": [
    "schema.head()"
   ],
   "metadata": {
    "collapsed": false
   }
  },
  {
   "cell_type": "code",
   "execution_count": 146,
   "outputs": [
    {
     "data": {
      "text/plain": "array([0.827])"
     },
     "execution_count": 146,
     "metadata": {},
     "output_type": "execute_result"
    }
   ],
   "source": [
    "schema.version.unique()"
   ],
   "metadata": {
    "collapsed": false
   }
  },
  {
   "cell_type": "markdown",
   "source": [
    "Wszystkie potworki mają te samą wartość (idk co reprezentuje)\n",
    "*Raczej nie potrzebne*\n",
    "*CR: ok*"
   ],
   "metadata": {
    "collapsed": false
   }
  },
  {
   "cell_type": "code",
   "execution_count": null,
   "outputs": [],
   "source": [],
   "metadata": {
    "collapsed": false
   }
  }
 ],
 "metadata": {
  "kernelspec": {
   "display_name": "Python 3",
   "language": "python",
   "name": "python3"
  },
  "language_info": {
   "codemirror_mode": {
    "name": "ipython",
    "version": 2
   },
   "file_extension": ".py",
   "mimetype": "text/x-python",
   "name": "python",
   "nbconvert_exporter": "python",
   "pygments_lexer": "ipython2",
   "version": "2.7.6"
  }
 },
 "nbformat": 4,
 "nbformat_minor": 0
}
