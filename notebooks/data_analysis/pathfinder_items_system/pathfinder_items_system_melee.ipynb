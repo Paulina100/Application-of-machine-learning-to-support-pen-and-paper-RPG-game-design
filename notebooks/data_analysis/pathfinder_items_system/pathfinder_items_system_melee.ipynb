{
 "cells": [
  {
   "cell_type": "markdown",
   "source": [
    "# Analysis of items column\n",
    "### subcolumn: system\n",
    "#### type: melee\n",
    "\n",
    "Load bestiaries"
   ],
   "metadata": {
    "collapsed": false
   }
  },
  {
   "cell_type": "code",
   "execution_count": 1,
   "metadata": {
    "collapsed": true
   },
   "outputs": [],
   "source": [
    "import pathlib\n",
    "\n",
    "import numpy as np\n",
    "import pandas as pd\n",
    "from training.analysis_functions import (\n",
    "    get_merged_bestiaries,\n",
    "    unpack_column_with_null,\n",
    "    unpack_column,\n",
    ")\n",
    "\n",
    "\n",
    "DATASETS_DIR = \"../../../pathfinder_2e_data/\"\n",
    "DATASET_FILES = [\n",
    "    \"pathfinder-bestiary.db\",\n",
    "    \"pathfinder-bestiary-2.db\",\n",
    "    \"pathfinder-bestiary-3.db\",\n",
    "]\n",
    "DATASET_PATHS = [f\"{DATASETS_DIR}/{file}\" for file in DATASET_FILES]\n",
    "\n",
    "bestiary = get_merged_bestiaries(DATASET_PATHS)"
   ]
  },
  {
   "cell_type": "code",
   "execution_count": 2,
   "outputs": [
    {
     "name": "stdout",
     "output_type": "stream",
     "text": [
      "<class 'pandas.core.frame.DataFrame'>\n",
      "RangeIndex: 1206 entries, 0 to 1205\n",
      "Data columns (total 8 columns):\n",
      " #   Column          Non-Null Count  Dtype \n",
      "---  ------          --------------  ----- \n",
      " 0   _id             1206 non-null   object\n",
      " 1   img             1206 non-null   object\n",
      " 2   items           1206 non-null   object\n",
      " 3   name            1206 non-null   object\n",
      " 4   system          1206 non-null   object\n",
      " 5   type            1206 non-null   object\n",
      " 6   flags           1206 non-null   object\n",
      " 7   prototypeToken  85 non-null     object\n",
      "dtypes: object(8)\n",
      "memory usage: 75.5+ KB\n"
     ]
    }
   ],
   "source": [
    "bestiary.info()"
   ],
   "metadata": {
    "collapsed": false
   }
  },
  {
   "cell_type": "code",
   "execution_count": 3,
   "outputs": [
    {
     "data": {
      "text/plain": "                _id                                       img  \\\n0  024PqcF8yMRBrPuq  systems/pf2e/icons/default-icons/npc.svg   \n1  05E3kkjoLZVjFOeO  systems/pf2e/icons/default-icons/npc.svg   \n2  05wwpHHsBlxBbdkN  systems/pf2e/icons/default-icons/npc.svg   \n3  0FGz2eXm0SB04sJW  systems/pf2e/icons/default-icons/npc.svg   \n4  0HjVFx8qIKDCfblg  systems/pf2e/icons/default-icons/npc.svg   \n\n                                               items                  name  \\\n0  [{'_id': 'B7rzf0nBJmzg8x0y', 'img': 'systems/p...    Adult White Dragon   \n1  [{'_id': 'mYNDkS27YQRyy1F0', 'img': 'systems/p...          Brontosaurus   \n2  [{'_id': 'WkPeg600zGONsuJz', 'img': 'systems/p...        Giant Anaconda   \n3  [{'_id': 'joBYS96mXSnZC1WB', 'img': 'systems/p...  Ancient Green Dragon   \n4  [{'_id': 'xlUnQcjrxeMXu5Cd', 'img': 'systems/p...        Lantern Archon   \n\n                                              system type  \\\n0  {'abilities': {'cha': {'mod': 1}, 'con': {'mod...  npc   \n1  {'abilities': {'cha': {'mod': 1}, 'con': {'mod...  npc   \n2  {'abilities': {'cha': {'mod': -2}, 'con': {'mo...  npc   \n3  {'abilities': {'cha': {'mod': 6}, 'con': {'mod...  npc   \n4  {'abilities': {'cha': {'mod': 1}, 'con': {'mod...  npc   \n\n                                               flags prototypeToken  \n0  {'core': {'sourceId': 'Compendium.pf2e.pathfin...            NaN  \n1  {'core': {'sourceId': 'Compendium.pf2e.pathfin...            NaN  \n2  {'core': {'sourceId': 'Compendium.pf2e.pathfin...            NaN  \n3  {'core': {'sourceId': 'Compendium.pf2e.pathfin...            NaN  \n4  {'core': {'sourceId': 'Compendium.pf2e.pathfin...            NaN  ",
      "text/html": "<div>\n<style scoped>\n    .dataframe tbody tr th:only-of-type {\n        vertical-align: middle;\n    }\n\n    .dataframe tbody tr th {\n        vertical-align: top;\n    }\n\n    .dataframe thead th {\n        text-align: right;\n    }\n</style>\n<table border=\"1\" class=\"dataframe\">\n  <thead>\n    <tr style=\"text-align: right;\">\n      <th></th>\n      <th>_id</th>\n      <th>img</th>\n      <th>items</th>\n      <th>name</th>\n      <th>system</th>\n      <th>type</th>\n      <th>flags</th>\n      <th>prototypeToken</th>\n    </tr>\n  </thead>\n  <tbody>\n    <tr>\n      <th>0</th>\n      <td>024PqcF8yMRBrPuq</td>\n      <td>systems/pf2e/icons/default-icons/npc.svg</td>\n      <td>[{'_id': 'B7rzf0nBJmzg8x0y', 'img': 'systems/p...</td>\n      <td>Adult White Dragon</td>\n      <td>{'abilities': {'cha': {'mod': 1}, 'con': {'mod...</td>\n      <td>npc</td>\n      <td>{'core': {'sourceId': 'Compendium.pf2e.pathfin...</td>\n      <td>NaN</td>\n    </tr>\n    <tr>\n      <th>1</th>\n      <td>05E3kkjoLZVjFOeO</td>\n      <td>systems/pf2e/icons/default-icons/npc.svg</td>\n      <td>[{'_id': 'mYNDkS27YQRyy1F0', 'img': 'systems/p...</td>\n      <td>Brontosaurus</td>\n      <td>{'abilities': {'cha': {'mod': 1}, 'con': {'mod...</td>\n      <td>npc</td>\n      <td>{'core': {'sourceId': 'Compendium.pf2e.pathfin...</td>\n      <td>NaN</td>\n    </tr>\n    <tr>\n      <th>2</th>\n      <td>05wwpHHsBlxBbdkN</td>\n      <td>systems/pf2e/icons/default-icons/npc.svg</td>\n      <td>[{'_id': 'WkPeg600zGONsuJz', 'img': 'systems/p...</td>\n      <td>Giant Anaconda</td>\n      <td>{'abilities': {'cha': {'mod': -2}, 'con': {'mo...</td>\n      <td>npc</td>\n      <td>{'core': {'sourceId': 'Compendium.pf2e.pathfin...</td>\n      <td>NaN</td>\n    </tr>\n    <tr>\n      <th>3</th>\n      <td>0FGz2eXm0SB04sJW</td>\n      <td>systems/pf2e/icons/default-icons/npc.svg</td>\n      <td>[{'_id': 'joBYS96mXSnZC1WB', 'img': 'systems/p...</td>\n      <td>Ancient Green Dragon</td>\n      <td>{'abilities': {'cha': {'mod': 6}, 'con': {'mod...</td>\n      <td>npc</td>\n      <td>{'core': {'sourceId': 'Compendium.pf2e.pathfin...</td>\n      <td>NaN</td>\n    </tr>\n    <tr>\n      <th>4</th>\n      <td>0HjVFx8qIKDCfblg</td>\n      <td>systems/pf2e/icons/default-icons/npc.svg</td>\n      <td>[{'_id': 'xlUnQcjrxeMXu5Cd', 'img': 'systems/p...</td>\n      <td>Lantern Archon</td>\n      <td>{'abilities': {'cha': {'mod': 1}, 'con': {'mod...</td>\n      <td>npc</td>\n      <td>{'core': {'sourceId': 'Compendium.pf2e.pathfin...</td>\n      <td>NaN</td>\n    </tr>\n  </tbody>\n</table>\n</div>"
     },
     "execution_count": 3,
     "metadata": {},
     "output_type": "execute_result"
    }
   ],
   "source": [
    "bestiary.head()"
   ],
   "metadata": {
    "collapsed": false
   }
  },
  {
   "cell_type": "markdown",
   "source": [
    "*items* column have lists of items for each monster in bestiaries\n",
    "\n",
    "Collect a list of all items in bestiaries:"
   ],
   "metadata": {
    "collapsed": false
   }
  },
  {
   "cell_type": "code",
   "execution_count": 4,
   "outputs": [],
   "source": [
    "items_data = []\n",
    "for _, val in bestiary[\"items\"].iteritems():\n",
    "    items_data += val"
   ],
   "metadata": {
    "collapsed": false
   }
  },
  {
   "cell_type": "code",
   "execution_count": 5,
   "outputs": [],
   "source": [
    "items = pd.DataFrame.from_dict(data=items_data)  # load data to DataFrame"
   ],
   "metadata": {
    "collapsed": false
   }
  },
  {
   "cell_type": "code",
   "execution_count": 6,
   "outputs": [
    {
     "data": {
      "text/plain": "                _id                                                img  \\\n0  B7rzf0nBJmzg8x0y  systems/pf2e/icons/default-icons/spellcastingE...   \n1  ac9hRct9QTDrzhy1      systems/pf2e/icons/spells/obscuring-mist.webp   \n2  ui2iVt9gJcMIs6H5        systems/pf2e/icons/spells/gust-of-wind.webp   \n3  pmqefsGShf77p3Zd         systems/pf2e/icons/default-icons/melee.svg   \n4  h6wQ76GXx0XhL0rW         systems/pf2e/icons/default-icons/melee.svg   \n\n                       name    sort  \\\n0      Arcane Innate Spells  100000   \n1  Obscuring Mist (At Will)  200000   \n2    Gust of Wind (At Will)  300000   \n3                      Jaws  400000   \n4                      Claw  500000   \n\n                                              system               type  \\\n0  {'autoHeightenLevel': {'value': None}, 'descri...  spellcastingEntry   \n1  {'ability': {'value': ''}, 'area': {'type': 'b...              spell   \n2  {'ability': {'value': ''}, 'area': {'type': 'l...              spell   \n3  {'attack': {'value': ''}, 'attackEffects': {'c...              melee   \n4  {'attack': {'value': ''}, 'attackEffects': {'c...              melee   \n\n                                               flags  \n0                                                NaN  \n1  {'core': {'sourceId': 'Compendium.pf2e.spells-...  \n2  {'core': {'sourceId': 'Compendium.pf2e.spells-...  \n3                                                NaN  \n4                                                NaN  ",
      "text/html": "<div>\n<style scoped>\n    .dataframe tbody tr th:only-of-type {\n        vertical-align: middle;\n    }\n\n    .dataframe tbody tr th {\n        vertical-align: top;\n    }\n\n    .dataframe thead th {\n        text-align: right;\n    }\n</style>\n<table border=\"1\" class=\"dataframe\">\n  <thead>\n    <tr style=\"text-align: right;\">\n      <th></th>\n      <th>_id</th>\n      <th>img</th>\n      <th>name</th>\n      <th>sort</th>\n      <th>system</th>\n      <th>type</th>\n      <th>flags</th>\n    </tr>\n  </thead>\n  <tbody>\n    <tr>\n      <th>0</th>\n      <td>B7rzf0nBJmzg8x0y</td>\n      <td>systems/pf2e/icons/default-icons/spellcastingE...</td>\n      <td>Arcane Innate Spells</td>\n      <td>100000</td>\n      <td>{'autoHeightenLevel': {'value': None}, 'descri...</td>\n      <td>spellcastingEntry</td>\n      <td>NaN</td>\n    </tr>\n    <tr>\n      <th>1</th>\n      <td>ac9hRct9QTDrzhy1</td>\n      <td>systems/pf2e/icons/spells/obscuring-mist.webp</td>\n      <td>Obscuring Mist (At Will)</td>\n      <td>200000</td>\n      <td>{'ability': {'value': ''}, 'area': {'type': 'b...</td>\n      <td>spell</td>\n      <td>{'core': {'sourceId': 'Compendium.pf2e.spells-...</td>\n    </tr>\n    <tr>\n      <th>2</th>\n      <td>ui2iVt9gJcMIs6H5</td>\n      <td>systems/pf2e/icons/spells/gust-of-wind.webp</td>\n      <td>Gust of Wind (At Will)</td>\n      <td>300000</td>\n      <td>{'ability': {'value': ''}, 'area': {'type': 'l...</td>\n      <td>spell</td>\n      <td>{'core': {'sourceId': 'Compendium.pf2e.spells-...</td>\n    </tr>\n    <tr>\n      <th>3</th>\n      <td>pmqefsGShf77p3Zd</td>\n      <td>systems/pf2e/icons/default-icons/melee.svg</td>\n      <td>Jaws</td>\n      <td>400000</td>\n      <td>{'attack': {'value': ''}, 'attackEffects': {'c...</td>\n      <td>melee</td>\n      <td>NaN</td>\n    </tr>\n    <tr>\n      <th>4</th>\n      <td>h6wQ76GXx0XhL0rW</td>\n      <td>systems/pf2e/icons/default-icons/melee.svg</td>\n      <td>Claw</td>\n      <td>500000</td>\n      <td>{'attack': {'value': ''}, 'attackEffects': {'c...</td>\n      <td>melee</td>\n      <td>NaN</td>\n    </tr>\n  </tbody>\n</table>\n</div>"
     },
     "execution_count": 6,
     "metadata": {},
     "output_type": "execute_result"
    }
   ],
   "source": [
    "items.head()  # 5 first items"
   ],
   "metadata": {
    "collapsed": false
   }
  },
  {
   "cell_type": "markdown",
   "source": [
    "## System"
   ],
   "metadata": {
    "collapsed": false
   }
  },
  {
   "cell_type": "code",
   "execution_count": 7,
   "outputs": [],
   "source": [
    "system = unpack_column(items[items.type == \"melee\"], column_name=\"system\")"
   ],
   "metadata": {
    "collapsed": false
   }
  },
  {
   "cell_type": "code",
   "execution_count": 8,
   "outputs": [
    {
     "data": {
      "text/plain": "           attack                                    attackEffects  \\\n3   {'value': ''}                      {'custom': '', 'value': []}   \n4   {'value': ''}                      {'custom': '', 'value': []}   \n5   {'value': ''}                      {'custom': '', 'value': []}   \n23  {'value': ''}  {'custom': '', 'value': ['improved-knockdown']}   \n24  {'value': ''}                      {'custom': '', 'value': []}   \n\n            bonus                                        damageRolls  \\\n3   {'value': 23}  {'v4enrkjx1vkly8li9k6n': {'damage': '2d10+13',...   \n4   {'value': 23}  {'vhvxp389ejd864a4xzoy': {'damage': '2d8+13', ...   \n5   {'value': 22}  {'tisdqy7tmlrqju4fwo6r': {'damage': '2d6+11', ...   \n23  {'value': 23}  {'pff8d39txpjnowq6t28p': {'damage': '2d10+13',...   \n24  {'value': 23}  {'iyv3ok2xot2zk62jaykx': {'damage': '2d8+13', ...   \n\n      description rules  slug         source  \\\n3   {'value': ''}    []  None  {'value': ''}   \n4   {'value': ''}    []  None  {'value': ''}   \n5   {'value': ''}    []  None  {'value': ''}   \n23  {'value': ''}    []  None  {'value': ''}   \n24  {'value': ''}    []  None  {'value': ''}   \n\n                                               traits          weaponType  \\\n3   {'rarity': 'common', 'value': ['cold', 'magica...  {'value': 'melee'}   \n4   {'rarity': 'common', 'value': ['agile', 'magic...  {'value': 'melee'}   \n5   {'rarity': 'common', 'value': ['magical', 'rea...  {'value': 'melee'}   \n23  {'rarity': 'common', 'value': ['reach-20', 'sw...  {'value': 'melee'}   \n24        {'rarity': 'common', 'value': ['reach-15']}  {'value': 'melee'}   \n\n                                               schema  \n3   {'version': 0.8270000000000001, 'lastMigration...  \n4   {'version': 0.8270000000000001, 'lastMigration...  \n5   {'version': 0.8270000000000001, 'lastMigration...  \n23  {'version': 0.8270000000000001, 'lastMigration...  \n24  {'version': 0.8270000000000001, 'lastMigration...  ",
      "text/html": "<div>\n<style scoped>\n    .dataframe tbody tr th:only-of-type {\n        vertical-align: middle;\n    }\n\n    .dataframe tbody tr th {\n        vertical-align: top;\n    }\n\n    .dataframe thead th {\n        text-align: right;\n    }\n</style>\n<table border=\"1\" class=\"dataframe\">\n  <thead>\n    <tr style=\"text-align: right;\">\n      <th></th>\n      <th>attack</th>\n      <th>attackEffects</th>\n      <th>bonus</th>\n      <th>damageRolls</th>\n      <th>description</th>\n      <th>rules</th>\n      <th>slug</th>\n      <th>source</th>\n      <th>traits</th>\n      <th>weaponType</th>\n      <th>schema</th>\n    </tr>\n  </thead>\n  <tbody>\n    <tr>\n      <th>3</th>\n      <td>{'value': ''}</td>\n      <td>{'custom': '', 'value': []}</td>\n      <td>{'value': 23}</td>\n      <td>{'v4enrkjx1vkly8li9k6n': {'damage': '2d10+13',...</td>\n      <td>{'value': ''}</td>\n      <td>[]</td>\n      <td>None</td>\n      <td>{'value': ''}</td>\n      <td>{'rarity': 'common', 'value': ['cold', 'magica...</td>\n      <td>{'value': 'melee'}</td>\n      <td>{'version': 0.8270000000000001, 'lastMigration...</td>\n    </tr>\n    <tr>\n      <th>4</th>\n      <td>{'value': ''}</td>\n      <td>{'custom': '', 'value': []}</td>\n      <td>{'value': 23}</td>\n      <td>{'vhvxp389ejd864a4xzoy': {'damage': '2d8+13', ...</td>\n      <td>{'value': ''}</td>\n      <td>[]</td>\n      <td>None</td>\n      <td>{'value': ''}</td>\n      <td>{'rarity': 'common', 'value': ['agile', 'magic...</td>\n      <td>{'value': 'melee'}</td>\n      <td>{'version': 0.8270000000000001, 'lastMigration...</td>\n    </tr>\n    <tr>\n      <th>5</th>\n      <td>{'value': ''}</td>\n      <td>{'custom': '', 'value': []}</td>\n      <td>{'value': 22}</td>\n      <td>{'tisdqy7tmlrqju4fwo6r': {'damage': '2d6+11', ...</td>\n      <td>{'value': ''}</td>\n      <td>[]</td>\n      <td>None</td>\n      <td>{'value': ''}</td>\n      <td>{'rarity': 'common', 'value': ['magical', 'rea...</td>\n      <td>{'value': 'melee'}</td>\n      <td>{'version': 0.8270000000000001, 'lastMigration...</td>\n    </tr>\n    <tr>\n      <th>23</th>\n      <td>{'value': ''}</td>\n      <td>{'custom': '', 'value': ['improved-knockdown']}</td>\n      <td>{'value': 23}</td>\n      <td>{'pff8d39txpjnowq6t28p': {'damage': '2d10+13',...</td>\n      <td>{'value': ''}</td>\n      <td>[]</td>\n      <td>None</td>\n      <td>{'value': ''}</td>\n      <td>{'rarity': 'common', 'value': ['reach-20', 'sw...</td>\n      <td>{'value': 'melee'}</td>\n      <td>{'version': 0.8270000000000001, 'lastMigration...</td>\n    </tr>\n    <tr>\n      <th>24</th>\n      <td>{'value': ''}</td>\n      <td>{'custom': '', 'value': []}</td>\n      <td>{'value': 23}</td>\n      <td>{'iyv3ok2xot2zk62jaykx': {'damage': '2d8+13', ...</td>\n      <td>{'value': ''}</td>\n      <td>[]</td>\n      <td>None</td>\n      <td>{'value': ''}</td>\n      <td>{'rarity': 'common', 'value': ['reach-15']}</td>\n      <td>{'value': 'melee'}</td>\n      <td>{'version': 0.8270000000000001, 'lastMigration...</td>\n    </tr>\n  </tbody>\n</table>\n</div>"
     },
     "execution_count": 8,
     "metadata": {},
     "output_type": "execute_result"
    }
   ],
   "source": [
    "system.head()"
   ],
   "metadata": {
    "collapsed": false
   }
  },
  {
   "cell_type": "code",
   "execution_count": 9,
   "outputs": [
    {
     "name": "stdout",
     "output_type": "stream",
     "text": [
      "<class 'pandas.core.frame.DataFrame'>\n",
      "Int64Index: 2419 entries, 3 to 21721\n",
      "Data columns (total 11 columns):\n",
      " #   Column         Non-Null Count  Dtype \n",
      "---  ------         --------------  ----- \n",
      " 0   attack         2419 non-null   object\n",
      " 1   attackEffects  2419 non-null   object\n",
      " 2   bonus          2419 non-null   object\n",
      " 3   damageRolls    2419 non-null   object\n",
      " 4   description    2419 non-null   object\n",
      " 5   rules          2419 non-null   object\n",
      " 6   slug           2 non-null      object\n",
      " 7   source         2419 non-null   object\n",
      " 8   traits         2419 non-null   object\n",
      " 9   weaponType     2419 non-null   object\n",
      " 10  schema         2419 non-null   object\n",
      "dtypes: object(11)\n",
      "memory usage: 226.8+ KB\n"
     ]
    }
   ],
   "source": [
    "system.info()"
   ],
   "metadata": {
    "collapsed": false
   }
  },
  {
   "cell_type": "markdown",
   "source": [
    "### system:attack"
   ],
   "metadata": {
    "collapsed": false
   }
  },
  {
   "cell_type": "code",
   "execution_count": 10,
   "outputs": [],
   "source": [
    "attack = unpack_column(system, column_name=\"attack\")"
   ],
   "metadata": {
    "collapsed": false
   }
  },
  {
   "cell_type": "code",
   "execution_count": 11,
   "outputs": [
    {
     "name": "stdout",
     "output_type": "stream",
     "text": [
      "<class 'pandas.core.frame.DataFrame'>\n",
      "Int64Index: 2419 entries, 3 to 21721\n",
      "Data columns (total 1 columns):\n",
      " #   Column  Non-Null Count  Dtype \n",
      "---  ------  --------------  ----- \n",
      " 0   value   2419 non-null   object\n",
      "dtypes: object(1)\n",
      "memory usage: 37.8+ KB\n"
     ]
    }
   ],
   "source": [
    "attack.info()"
   ],
   "metadata": {
    "collapsed": false
   }
  },
  {
   "cell_type": "code",
   "execution_count": 12,
   "outputs": [
    {
     "data": {
      "text/plain": "   value\n3       \n4       \n5       \n23      \n24      ",
      "text/html": "<div>\n<style scoped>\n    .dataframe tbody tr th:only-of-type {\n        vertical-align: middle;\n    }\n\n    .dataframe tbody tr th {\n        vertical-align: top;\n    }\n\n    .dataframe thead th {\n        text-align: right;\n    }\n</style>\n<table border=\"1\" class=\"dataframe\">\n  <thead>\n    <tr style=\"text-align: right;\">\n      <th></th>\n      <th>value</th>\n    </tr>\n  </thead>\n  <tbody>\n    <tr>\n      <th>3</th>\n      <td></td>\n    </tr>\n    <tr>\n      <th>4</th>\n      <td></td>\n    </tr>\n    <tr>\n      <th>5</th>\n      <td></td>\n    </tr>\n    <tr>\n      <th>23</th>\n      <td></td>\n    </tr>\n    <tr>\n      <th>24</th>\n      <td></td>\n    </tr>\n  </tbody>\n</table>\n</div>"
     },
     "execution_count": 12,
     "metadata": {},
     "output_type": "execute_result"
    }
   ],
   "source": [
    "attack.head()"
   ],
   "metadata": {
    "collapsed": false
   }
  },
  {
   "cell_type": "code",
   "execution_count": 13,
   "outputs": [],
   "source": [
    "import numpy as np\n",
    "\n",
    "\n",
    "attack = attack.replace(\"\", np.nan)"
   ],
   "metadata": {
    "collapsed": false
   }
  },
  {
   "cell_type": "code",
   "execution_count": 14,
   "outputs": [
    {
     "name": "stdout",
     "output_type": "stream",
     "text": [
      "<class 'pandas.core.frame.DataFrame'>\n",
      "Int64Index: 2419 entries, 3 to 21721\n",
      "Data columns (total 1 columns):\n",
      " #   Column  Non-Null Count  Dtype  \n",
      "---  ------  --------------  -----  \n",
      " 0   value   0 non-null      float64\n",
      "dtypes: float64(1)\n",
      "memory usage: 37.8 KB\n"
     ]
    }
   ],
   "source": [
    "attack.info()"
   ],
   "metadata": {
    "collapsed": false
   }
  },
  {
   "cell_type": "markdown",
   "source": [
    "Only null values here\n",
    "\n",
    "*Not important*"
   ],
   "metadata": {
    "collapsed": false
   }
  },
  {
   "cell_type": "markdown",
   "source": [
    "### system: attackEffects"
   ],
   "metadata": {
    "collapsed": false
   }
  },
  {
   "cell_type": "code",
   "execution_count": 117,
   "outputs": [],
   "source": [
    "attackEffects = unpack_column(system, column_name=\"attackEffects\")"
   ],
   "metadata": {
    "collapsed": false
   }
  },
  {
   "cell_type": "code",
   "execution_count": 118,
   "outputs": [
    {
     "name": "stdout",
     "output_type": "stream",
     "text": [
      "<class 'pandas.core.frame.DataFrame'>\n",
      "Int64Index: 2419 entries, 3 to 21721\n",
      "Data columns (total 2 columns):\n",
      " #   Column  Non-Null Count  Dtype \n",
      "---  ------  --------------  ----- \n",
      " 0   custom  1845 non-null   object\n",
      " 1   value   2419 non-null   object\n",
      "dtypes: object(2)\n",
      "memory usage: 121.2+ KB\n"
     ]
    }
   ],
   "source": [
    "attackEffects.info()"
   ],
   "metadata": {
    "collapsed": false
   }
  },
  {
   "cell_type": "code",
   "execution_count": 119,
   "outputs": [
    {
     "data": {
      "text/plain": "   custom                 value\n3                            []\n4                            []\n5                            []\n23         [improved-knockdown]\n24                           []",
      "text/html": "<div>\n<style scoped>\n    .dataframe tbody tr th:only-of-type {\n        vertical-align: middle;\n    }\n\n    .dataframe tbody tr th {\n        vertical-align: top;\n    }\n\n    .dataframe thead th {\n        text-align: right;\n    }\n</style>\n<table border=\"1\" class=\"dataframe\">\n  <thead>\n    <tr style=\"text-align: right;\">\n      <th></th>\n      <th>custom</th>\n      <th>value</th>\n    </tr>\n  </thead>\n  <tbody>\n    <tr>\n      <th>3</th>\n      <td></td>\n      <td>[]</td>\n    </tr>\n    <tr>\n      <th>4</th>\n      <td></td>\n      <td>[]</td>\n    </tr>\n    <tr>\n      <th>5</th>\n      <td></td>\n      <td>[]</td>\n    </tr>\n    <tr>\n      <th>23</th>\n      <td></td>\n      <td>[improved-knockdown]</td>\n    </tr>\n    <tr>\n      <th>24</th>\n      <td></td>\n      <td>[]</td>\n    </tr>\n  </tbody>\n</table>\n</div>"
     },
     "execution_count": 119,
     "metadata": {},
     "output_type": "execute_result"
    }
   ],
   "source": [
    "attackEffects.head()"
   ],
   "metadata": {
    "collapsed": false
   }
  },
  {
   "cell_type": "code",
   "execution_count": 120,
   "outputs": [],
   "source": [
    "attackEffects = attackEffects.replace(\"\", np.nan)"
   ],
   "metadata": {
    "collapsed": false
   }
  },
  {
   "cell_type": "code",
   "execution_count": 121,
   "outputs": [],
   "source": [
    "# attackEffects.value = attackEffects.value.apply(lambda x: np.nan if len(x) == 0 else x)"
   ],
   "metadata": {
    "collapsed": false
   }
  },
  {
   "cell_type": "code",
   "execution_count": 122,
   "outputs": [
    {
     "name": "stdout",
     "output_type": "stream",
     "text": [
      "<class 'pandas.core.frame.DataFrame'>\n",
      "Int64Index: 2419 entries, 3 to 21721\n",
      "Data columns (total 2 columns):\n",
      " #   Column  Non-Null Count  Dtype \n",
      "---  ------  --------------  ----- \n",
      " 0   custom  1 non-null      object\n",
      " 1   value   2419 non-null   object\n",
      "dtypes: object(2)\n",
      "memory usage: 121.2+ KB\n"
     ]
    }
   ],
   "source": [
    "attackEffects.info()"
   ],
   "metadata": {
    "collapsed": false
   }
  },
  {
   "cell_type": "code",
   "execution_count": 123,
   "outputs": [
    {
     "data": {
      "text/plain": "Flat-Footed for 1 round    1\nName: custom, dtype: int64"
     },
     "execution_count": 123,
     "metadata": {},
     "output_type": "execute_result"
    }
   ],
   "source": [
    "attackEffects.custom.value_counts()"
   ],
   "metadata": {
    "collapsed": false
   }
  },
  {
   "cell_type": "code",
   "execution_count": 124,
   "outputs": [
    {
     "data": {
      "text/plain": "[]                            1637\n[grab]                         212\n[improved-grab]                 48\n[knockdown]                     25\n[push]                          16\n                              ... \n[sea-snake-venom]                1\n[knockdown, sinister-bite]       1\n[slime-rot]                      1\n[lurkers-glow]                   1\n[rend-faith]                     1\nName: value, Length: 318, dtype: int64"
     },
     "execution_count": 124,
     "metadata": {},
     "output_type": "execute_result"
    }
   ],
   "source": [
    "attackEffects.value.value_counts()"
   ],
   "metadata": {
    "collapsed": false
   }
  },
  {
   "cell_type": "code",
   "execution_count": 133,
   "outputs": [
    {
     "data": {
      "text/plain": "grab                   240\nimproved-grab           54\nknockdown               29\npush                    17\ndrain-life              14\n                      ... \nbarbed-tongue            1\ndeafening-blow           1\nrupturing-venom          1\nfire-jackal-saliva       1\nwrathful-misfortune      1\nLength: 310, dtype: int64"
     },
     "execution_count": 133,
     "metadata": {},
     "output_type": "execute_result"
    }
   ],
   "source": [
    "attackEffects_data = []\n",
    "\n",
    "for _, val in attackEffects.value.iteritems():\n",
    "    attackEffects_data += val\n",
    "\n",
    "unique_attackEffects = set(attackEffects_data)\n",
    "attackEffects_val = {key: attackEffects_data.count(key) for key in unique_attackEffects}\n",
    "attackEffects_val = dict(sorted(attackEffects_val.items(), key=lambda x: -x[1]))\n",
    "pd.Series(attackEffects_val)"
   ],
   "metadata": {
    "collapsed": false
   }
  },
  {
   "cell_type": "markdown",
   "source": [
    "**May be useful for ifs**"
   ],
   "metadata": {
    "collapsed": false
   }
  },
  {
   "cell_type": "markdown",
   "source": [
    "### system: bonus"
   ],
   "metadata": {
    "collapsed": false
   }
  },
  {
   "cell_type": "code",
   "execution_count": 23,
   "outputs": [],
   "source": [
    "bonus = unpack_column(system, column_name=\"bonus\")"
   ],
   "metadata": {
    "collapsed": false
   }
  },
  {
   "cell_type": "code",
   "execution_count": 24,
   "outputs": [
    {
     "name": "stdout",
     "output_type": "stream",
     "text": [
      "<class 'pandas.core.frame.DataFrame'>\n",
      "Int64Index: 2419 entries, 3 to 21721\n",
      "Data columns (total 1 columns):\n",
      " #   Column  Non-Null Count  Dtype\n",
      "---  ------  --------------  -----\n",
      " 0   value   2419 non-null   int64\n",
      "dtypes: int64(1)\n",
      "memory usage: 37.8 KB\n"
     ]
    }
   ],
   "source": [
    "bonus.info()"
   ],
   "metadata": {
    "collapsed": false
   }
  },
  {
   "cell_type": "code",
   "execution_count": 25,
   "outputs": [
    {
     "data": {
      "text/plain": "    value\n3      23\n4      23\n5      22\n23     23\n24     23",
      "text/html": "<div>\n<style scoped>\n    .dataframe tbody tr th:only-of-type {\n        vertical-align: middle;\n    }\n\n    .dataframe tbody tr th {\n        vertical-align: top;\n    }\n\n    .dataframe thead th {\n        text-align: right;\n    }\n</style>\n<table border=\"1\" class=\"dataframe\">\n  <thead>\n    <tr style=\"text-align: right;\">\n      <th></th>\n      <th>value</th>\n    </tr>\n  </thead>\n  <tbody>\n    <tr>\n      <th>3</th>\n      <td>23</td>\n    </tr>\n    <tr>\n      <th>4</th>\n      <td>23</td>\n    </tr>\n    <tr>\n      <th>5</th>\n      <td>22</td>\n    </tr>\n    <tr>\n      <th>23</th>\n      <td>23</td>\n    </tr>\n    <tr>\n      <th>24</th>\n      <td>23</td>\n    </tr>\n  </tbody>\n</table>\n</div>"
     },
     "execution_count": 25,
     "metadata": {},
     "output_type": "execute_result"
    }
   ],
   "source": [
    "bonus.head()"
   ],
   "metadata": {
    "collapsed": false
   }
  },
  {
   "cell_type": "code",
   "execution_count": 26,
   "outputs": [
    {
     "data": {
      "text/plain": "value\n10       163\n21       121\n7        120\n11       118\n20       116\n17       116\n9        109\n14       106\n18       101\n23        97\n8         83\n24        83\n15        82\n13        70\n16        66\n12        64\n19        60\n27        60\n33        55\n38        49\n26        48\n30        47\n29        47\n25        47\n22        41\n32        40\n6         40\n28        38\n34        36\n36        35\n35        34\n31        33\n37        28\n40        15\n39        13\n5          9\n42         8\n3          7\n41         3\n4          3\n43         3\n45         2\n44         1\n46         1\n47         1\ndtype: int64"
     },
     "execution_count": 26,
     "metadata": {},
     "output_type": "execute_result"
    }
   ],
   "source": [
    "bonus.value_counts()"
   ],
   "metadata": {
    "collapsed": false
   }
  },
  {
   "cell_type": "markdown",
   "source": [
    "**Usefull**"
   ],
   "metadata": {
    "collapsed": false
   }
  },
  {
   "cell_type": "markdown",
   "source": [
    "### system: damageRolls"
   ],
   "metadata": {
    "collapsed": false
   }
  },
  {
   "cell_type": "code",
   "execution_count": 27,
   "outputs": [],
   "source": [
    "damageRolls = unpack_column(system, column_name=\"damageRolls\")"
   ],
   "metadata": {
    "collapsed": false
   }
  },
  {
   "cell_type": "code",
   "execution_count": 28,
   "outputs": [
    {
     "name": "stdout",
     "output_type": "stream",
     "text": [
      "<class 'pandas.core.frame.DataFrame'>\n",
      "Int64Index: 2419 entries, 3 to 21721\n",
      "Columns: 1656 entries, v4enrkjx1vkly8li9k6n to chf0ts2617tewo1zq3qj\n",
      "dtypes: object(1656)\n",
      "memory usage: 30.6+ MB\n"
     ]
    }
   ],
   "source": [
    "damageRolls.info()"
   ],
   "metadata": {
    "collapsed": false
   }
  },
  {
   "cell_type": "code",
   "execution_count": 29,
   "outputs": [
    {
     "data": {
      "text/plain": "                               v4enrkjx1vkly8li9k6n  \\\n3   {'damage': '2d10+13', 'damageType': 'piercing'}   \n4                                               NaN   \n5                                               NaN   \n23                                              NaN   \n24                                              NaN   \n\n                       eh4ekj7akfeymny3g66q  \\\n3   {'damage': '2d6', 'damageType': 'cold'}   \n4                                       NaN   \n5                                       NaN   \n23                                      NaN   \n24                                      NaN   \n\n                              vhvxp389ejd864a4xzoy  \\\n3                                              NaN   \n4   {'damage': '2d8+13', 'damageType': 'slashing'}   \n5                                              NaN   \n23                                             NaN   \n24                                             NaN   \n\n                                 tisdqy7tmlrqju4fwo6r  \\\n3                                                 NaN   \n4                                                 NaN   \n5   {'damage': '2d6+11', 'damageType': 'bludgeoning'}   \n23                                                NaN   \n24                                                NaN   \n\n                                 pff8d39txpjnowq6t28p  \\\n3                                                 NaN   \n4                                                 NaN   \n5                                                 NaN   \n23  {'damage': '2d10+13', 'damageType': 'bludgeoni...   \n24                                                NaN   \n\n                                 iyv3ok2xot2zk62jaykx 1kld92wlfl4moluhhi7g  \\\n3                                                 NaN                  NaN   \n4                                                 NaN                  NaN   \n5                                                 NaN                  NaN   \n23                                                NaN                  NaN   \n24  {'damage': '2d8+13', 'damageType': 'bludgeoning'}                  NaN   \n\n   1aj85bhvtjuqhdescj7j syvp8lyw4m0gdi7kzwjf bu4s0ct55zr0reuqfjo9  ...  \\\n3                   NaN                  NaN                  NaN  ...   \n4                   NaN                  NaN                  NaN  ...   \n5                   NaN                  NaN                  NaN  ...   \n23                  NaN                  NaN                  NaN  ...   \n24                  NaN                  NaN                  NaN  ...   \n\n   zxgq6y6vioia2dggldk3 06xq9u2aqo6rrkp16ge9 by5cqzhyzabt6pfeqtb5  \\\n3                   NaN                  NaN                  NaN   \n4                   NaN                  NaN                  NaN   \n5                   NaN                  NaN                  NaN   \n23                  NaN                  NaN                  NaN   \n24                  NaN                  NaN                  NaN   \n\n   fp84sqbg7ri2uvdwtjrh vlom5kdyn1m8ije9vanq wyn9lhqgpbjsjmgxgh7w  \\\n3                   NaN                  NaN                  NaN   \n4                   NaN                  NaN                  NaN   \n5                   NaN                  NaN                  NaN   \n23                  NaN                  NaN                  NaN   \n24                  NaN                  NaN                  NaN   \n\n   931covuueh44fb2407d4 ov7cqd6r4qg8qbukso7v kmm64hufmoml4polor0l  \\\n3                   NaN                  NaN                  NaN   \n4                   NaN                  NaN                  NaN   \n5                   NaN                  NaN                  NaN   \n23                  NaN                  NaN                  NaN   \n24                  NaN                  NaN                  NaN   \n\n   chf0ts2617tewo1zq3qj  \n3                   NaN  \n4                   NaN  \n5                   NaN  \n23                  NaN  \n24                  NaN  \n\n[5 rows x 1656 columns]",
      "text/html": "<div>\n<style scoped>\n    .dataframe tbody tr th:only-of-type {\n        vertical-align: middle;\n    }\n\n    .dataframe tbody tr th {\n        vertical-align: top;\n    }\n\n    .dataframe thead th {\n        text-align: right;\n    }\n</style>\n<table border=\"1\" class=\"dataframe\">\n  <thead>\n    <tr style=\"text-align: right;\">\n      <th></th>\n      <th>v4enrkjx1vkly8li9k6n</th>\n      <th>eh4ekj7akfeymny3g66q</th>\n      <th>vhvxp389ejd864a4xzoy</th>\n      <th>tisdqy7tmlrqju4fwo6r</th>\n      <th>pff8d39txpjnowq6t28p</th>\n      <th>iyv3ok2xot2zk62jaykx</th>\n      <th>1kld92wlfl4moluhhi7g</th>\n      <th>1aj85bhvtjuqhdescj7j</th>\n      <th>syvp8lyw4m0gdi7kzwjf</th>\n      <th>bu4s0ct55zr0reuqfjo9</th>\n      <th>...</th>\n      <th>zxgq6y6vioia2dggldk3</th>\n      <th>06xq9u2aqo6rrkp16ge9</th>\n      <th>by5cqzhyzabt6pfeqtb5</th>\n      <th>fp84sqbg7ri2uvdwtjrh</th>\n      <th>vlom5kdyn1m8ije9vanq</th>\n      <th>wyn9lhqgpbjsjmgxgh7w</th>\n      <th>931covuueh44fb2407d4</th>\n      <th>ov7cqd6r4qg8qbukso7v</th>\n      <th>kmm64hufmoml4polor0l</th>\n      <th>chf0ts2617tewo1zq3qj</th>\n    </tr>\n  </thead>\n  <tbody>\n    <tr>\n      <th>3</th>\n      <td>{'damage': '2d10+13', 'damageType': 'piercing'}</td>\n      <td>{'damage': '2d6', 'damageType': 'cold'}</td>\n      <td>NaN</td>\n      <td>NaN</td>\n      <td>NaN</td>\n      <td>NaN</td>\n      <td>NaN</td>\n      <td>NaN</td>\n      <td>NaN</td>\n      <td>NaN</td>\n      <td>...</td>\n      <td>NaN</td>\n      <td>NaN</td>\n      <td>NaN</td>\n      <td>NaN</td>\n      <td>NaN</td>\n      <td>NaN</td>\n      <td>NaN</td>\n      <td>NaN</td>\n      <td>NaN</td>\n      <td>NaN</td>\n    </tr>\n    <tr>\n      <th>4</th>\n      <td>NaN</td>\n      <td>NaN</td>\n      <td>{'damage': '2d8+13', 'damageType': 'slashing'}</td>\n      <td>NaN</td>\n      <td>NaN</td>\n      <td>NaN</td>\n      <td>NaN</td>\n      <td>NaN</td>\n      <td>NaN</td>\n      <td>NaN</td>\n      <td>...</td>\n      <td>NaN</td>\n      <td>NaN</td>\n      <td>NaN</td>\n      <td>NaN</td>\n      <td>NaN</td>\n      <td>NaN</td>\n      <td>NaN</td>\n      <td>NaN</td>\n      <td>NaN</td>\n      <td>NaN</td>\n    </tr>\n    <tr>\n      <th>5</th>\n      <td>NaN</td>\n      <td>NaN</td>\n      <td>NaN</td>\n      <td>{'damage': '2d6+11', 'damageType': 'bludgeoning'}</td>\n      <td>NaN</td>\n      <td>NaN</td>\n      <td>NaN</td>\n      <td>NaN</td>\n      <td>NaN</td>\n      <td>NaN</td>\n      <td>...</td>\n      <td>NaN</td>\n      <td>NaN</td>\n      <td>NaN</td>\n      <td>NaN</td>\n      <td>NaN</td>\n      <td>NaN</td>\n      <td>NaN</td>\n      <td>NaN</td>\n      <td>NaN</td>\n      <td>NaN</td>\n    </tr>\n    <tr>\n      <th>23</th>\n      <td>NaN</td>\n      <td>NaN</td>\n      <td>NaN</td>\n      <td>NaN</td>\n      <td>{'damage': '2d10+13', 'damageType': 'bludgeoni...</td>\n      <td>NaN</td>\n      <td>NaN</td>\n      <td>NaN</td>\n      <td>NaN</td>\n      <td>NaN</td>\n      <td>...</td>\n      <td>NaN</td>\n      <td>NaN</td>\n      <td>NaN</td>\n      <td>NaN</td>\n      <td>NaN</td>\n      <td>NaN</td>\n      <td>NaN</td>\n      <td>NaN</td>\n      <td>NaN</td>\n      <td>NaN</td>\n    </tr>\n    <tr>\n      <th>24</th>\n      <td>NaN</td>\n      <td>NaN</td>\n      <td>NaN</td>\n      <td>NaN</td>\n      <td>NaN</td>\n      <td>{'damage': '2d8+13', 'damageType': 'bludgeoning'}</td>\n      <td>NaN</td>\n      <td>NaN</td>\n      <td>NaN</td>\n      <td>NaN</td>\n      <td>...</td>\n      <td>NaN</td>\n      <td>NaN</td>\n      <td>NaN</td>\n      <td>NaN</td>\n      <td>NaN</td>\n      <td>NaN</td>\n      <td>NaN</td>\n      <td>NaN</td>\n      <td>NaN</td>\n      <td>NaN</td>\n    </tr>\n  </tbody>\n</table>\n<p>5 rows × 1656 columns</p>\n</div>"
     },
     "execution_count": 29,
     "metadata": {},
     "output_type": "execute_result"
    }
   ],
   "source": [
    "damageRolls.head()"
   ],
   "metadata": {
    "collapsed": false
   }
  },
  {
   "cell_type": "markdown",
   "source": [
    "**Important**\n",
    "\n",
    "every monster have different name for damageRolls but all of them store same information:\n",
    "* damage\n",
    "* damageType"
   ],
   "metadata": {
    "collapsed": false
   }
  },
  {
   "cell_type": "code",
   "execution_count": 30,
   "outputs": [],
   "source": [
    "damageRolls = pd.DataFrame(\n",
    "    system.damageRolls.apply(\n",
    "        lambda x: x.get(list(x.keys())[0]) if len(list(x.keys())) > 0 else np.nan\n",
    "    )\n",
    ")"
   ],
   "metadata": {
    "collapsed": false
   }
  },
  {
   "cell_type": "code",
   "execution_count": 31,
   "outputs": [],
   "source": [
    "damageRolls = unpack_column_with_null(damageRolls, column_name=\"damageRolls\")"
   ],
   "metadata": {
    "collapsed": false
   }
  },
  {
   "cell_type": "code",
   "execution_count": 32,
   "outputs": [
    {
     "name": "stdout",
     "output_type": "stream",
     "text": [
      "<class 'pandas.core.frame.DataFrame'>\n",
      "Int64Index: 2419 entries, 3 to 21721\n",
      "Data columns (total 3 columns):\n",
      " #   Column      Non-Null Count  Dtype \n",
      "---  ------      --------------  ----- \n",
      " 0   damage      2385 non-null   object\n",
      " 1   damageType  2385 non-null   object\n",
      " 2   category    2 non-null      object\n",
      "dtypes: object(3)\n",
      "memory usage: 75.6+ KB\n"
     ]
    }
   ],
   "source": [
    "damageRolls.info()"
   ],
   "metadata": {
    "collapsed": false
   }
  },
  {
   "cell_type": "code",
   "execution_count": 33,
   "outputs": [
    {
     "data": {
      "text/plain": "     damage   damageType category\n3   2d10+13     piercing      NaN\n4    2d8+13     slashing      NaN\n5    2d6+11  bludgeoning      NaN\n23  2d10+13  bludgeoning      NaN\n24   2d8+13  bludgeoning      NaN",
      "text/html": "<div>\n<style scoped>\n    .dataframe tbody tr th:only-of-type {\n        vertical-align: middle;\n    }\n\n    .dataframe tbody tr th {\n        vertical-align: top;\n    }\n\n    .dataframe thead th {\n        text-align: right;\n    }\n</style>\n<table border=\"1\" class=\"dataframe\">\n  <thead>\n    <tr style=\"text-align: right;\">\n      <th></th>\n      <th>damage</th>\n      <th>damageType</th>\n      <th>category</th>\n    </tr>\n  </thead>\n  <tbody>\n    <tr>\n      <th>3</th>\n      <td>2d10+13</td>\n      <td>piercing</td>\n      <td>NaN</td>\n    </tr>\n    <tr>\n      <th>4</th>\n      <td>2d8+13</td>\n      <td>slashing</td>\n      <td>NaN</td>\n    </tr>\n    <tr>\n      <th>5</th>\n      <td>2d6+11</td>\n      <td>bludgeoning</td>\n      <td>NaN</td>\n    </tr>\n    <tr>\n      <th>23</th>\n      <td>2d10+13</td>\n      <td>bludgeoning</td>\n      <td>NaN</td>\n    </tr>\n    <tr>\n      <th>24</th>\n      <td>2d8+13</td>\n      <td>bludgeoning</td>\n      <td>NaN</td>\n    </tr>\n  </tbody>\n</table>\n</div>"
     },
     "execution_count": 33,
     "metadata": {},
     "output_type": "execute_result"
    }
   ],
   "source": [
    "damageRolls.head()"
   ],
   "metadata": {
    "collapsed": false
   }
  },
  {
   "cell_type": "markdown",
   "source": [
    "#### damageRolls: damage\n",
    "**Important**\n",
    "\n",
    "Damage value of melee"
   ],
   "metadata": {
    "collapsed": false
   }
  },
  {
   "cell_type": "markdown",
   "source": [
    "#### damageRolls: damageType"
   ],
   "metadata": {
    "collapsed": false
   }
  },
  {
   "cell_type": "code",
   "execution_count": 34,
   "outputs": [
    {
     "data": {
      "text/plain": "piercing       973\nbludgeoning    641\nslashing       639\nfire            33\nnegative        24\nelectricity     16\nacid            14\nforce           13\nmental           7\ncold             6\npositive         6\nsonic            6\npoison           4\nchaotic          3\nName: damageType, dtype: int64"
     },
     "execution_count": 34,
     "metadata": {},
     "output_type": "execute_result"
    }
   ],
   "source": [
    "damageRolls.damageType.value_counts()"
   ],
   "metadata": {
    "collapsed": false
   }
  },
  {
   "cell_type": "markdown",
   "source": [
    "**Can be useful**"
   ],
   "metadata": {
    "collapsed": false
   }
  },
  {
   "cell_type": "markdown",
   "source": [
    "#### damageRolls: category"
   ],
   "metadata": {
    "collapsed": false
   }
  },
  {
   "cell_type": "code",
   "execution_count": 35,
   "outputs": [
    {
     "data": {
      "text/plain": "persistent    2\nName: category, dtype: int64"
     },
     "execution_count": 35,
     "metadata": {},
     "output_type": "execute_result"
    }
   ],
   "source": [
    "damageRolls.category.value_counts()"
   ],
   "metadata": {
    "collapsed": false
   }
  },
  {
   "cell_type": "markdown",
   "source": [
    "*Probobly not important*\n",
    "\n",
    "Cases like: https://2e.aonprd.com/Monsters.aspx?ID=1381"
   ],
   "metadata": {
    "collapsed": false
   }
  },
  {
   "cell_type": "markdown",
   "source": [
    "### system: description"
   ],
   "metadata": {
    "collapsed": false
   }
  },
  {
   "cell_type": "code",
   "execution_count": 36,
   "outputs": [],
   "source": [
    "description = unpack_column(system, column_name=\"description\")"
   ],
   "metadata": {
    "collapsed": false
   }
  },
  {
   "cell_type": "code",
   "execution_count": 37,
   "outputs": [
    {
     "name": "stdout",
     "output_type": "stream",
     "text": [
      "<class 'pandas.core.frame.DataFrame'>\n",
      "Int64Index: 2419 entries, 3 to 21721\n",
      "Data columns (total 1 columns):\n",
      " #   Column  Non-Null Count  Dtype \n",
      "---  ------  --------------  ----- \n",
      " 0   value   2419 non-null   object\n",
      "dtypes: object(1)\n",
      "memory usage: 37.8+ KB\n"
     ]
    }
   ],
   "source": [
    "description.info()"
   ],
   "metadata": {
    "collapsed": false
   }
  },
  {
   "cell_type": "code",
   "execution_count": 38,
   "outputs": [
    {
     "data": {
      "text/plain": "   value\n3       \n4       \n5       \n23      \n24      ",
      "text/html": "<div>\n<style scoped>\n    .dataframe tbody tr th:only-of-type {\n        vertical-align: middle;\n    }\n\n    .dataframe tbody tr th {\n        vertical-align: top;\n    }\n\n    .dataframe thead th {\n        text-align: right;\n    }\n</style>\n<table border=\"1\" class=\"dataframe\">\n  <thead>\n    <tr style=\"text-align: right;\">\n      <th></th>\n      <th>value</th>\n    </tr>\n  </thead>\n  <tbody>\n    <tr>\n      <th>3</th>\n      <td></td>\n    </tr>\n    <tr>\n      <th>4</th>\n      <td></td>\n    </tr>\n    <tr>\n      <th>5</th>\n      <td></td>\n    </tr>\n    <tr>\n      <th>23</th>\n      <td></td>\n    </tr>\n    <tr>\n      <th>24</th>\n      <td></td>\n    </tr>\n  </tbody>\n</table>\n</div>"
     },
     "execution_count": 38,
     "metadata": {},
     "output_type": "execute_result"
    }
   ],
   "source": [
    "description.head()"
   ],
   "metadata": {
    "collapsed": false
   }
  },
  {
   "cell_type": "code",
   "execution_count": 39,
   "outputs": [],
   "source": [
    "description = description.replace(\"\", np.nan)"
   ],
   "metadata": {
    "collapsed": false
   }
  },
  {
   "cell_type": "code",
   "execution_count": 40,
   "outputs": [
    {
     "name": "stdout",
     "output_type": "stream",
     "text": [
      "<class 'pandas.core.frame.DataFrame'>\n",
      "Int64Index: 2419 entries, 3 to 21721\n",
      "Data columns (total 1 columns):\n",
      " #   Column  Non-Null Count  Dtype \n",
      "---  ------  --------------  ----- \n",
      " 0   value   35 non-null     object\n",
      "dtypes: object(1)\n",
      "memory usage: 37.8+ KB\n"
     ]
    }
   ],
   "source": [
    "description.info()"
   ],
   "metadata": {
    "collapsed": false
   }
  },
  {
   "cell_type": "code",
   "execution_count": 41,
   "outputs": [
    {
     "data": {
      "text/plain": "value                                                                                                                                                                                                                                                        \n<p>Deals 1d12 electricity damage if not Countered by Fire.</p>                                                                                                                                                                                                   6\n<p>Damage type depends on object thrown</p>                                                                                                                                                                                                                      3\n<p>Damage type depends on object</p>                                                                                                                                                                                                                             3\n<p>Deals 3d6 fire damage if not Countered by Water.</p>                                                                                                                                                                                                          2\n<p>Deals 1d6 fire damage if not Countered by Water.</p>                                                                                                                                                                                                          2\n<p>Deals 2d6 fire damage if not Countered by Water.</p>                                                                                                                                                                                                          2\n<p><strong>Requirements</strong> The zombie has a creature @UUID[Compendium.pf2e.conditionitems.kWc1fhmv9LBiTuei]{Grabbed} or @UUID[Compendium.pf2e.conditionitems.VcDeM8A5oI6VqhbM]{Restrained}.</p>                                                            2\n<p>No damage if using Bola Bolt.</p>                                                                                                                                                                                                                             1\n<p>[[/r 2d10[positive]]] damage if the target is undead</p>                                                                                                                                                                                                      1\n<p>The Strikes deals damage that's either [[/r (2d8+6)[bludgeoning]]]{bludgeoning} or [[/r (2d8+6)[positive]]]{positive} - whichever deals more damage to the target creature.</p>                                                                               1\n<p>The Strikes deals damage that's either [[/r (2d6+6)[bludgeoning]]]{bludgeoning} or [[/r (2d6+6)[positive]]]{positive} - whichever deals more damage to the target creature.</p>                                                                               1\n<p>The Guthallath can choose either @UUID[Compendium.pf2e.bestiary-ability-glossary-srd.i18TlebMzwONyPhI]{Improved Grab} or @UUID[Compendium.pf2e.bestiary-ability-glossary-srd.6l7e7CHQLESlI57U]{Improved Push 20 feet} when it hits with a fist attack.</p>    1\n<p>The Dire Wolf can use either Knockdown or Grab on a successful strike.</p>                                                                                                                                                                                    1\n<p>Poison can be used only once</p>                                                                                                                                                                                                                              1\n<p><em>Note: Bestiary 3 does not specify a range for this attack. A range of 30 feet has been chosen, in line with the Storm Hag's Wind Blast.</em></p>                                                                                                          1\n<p>Four of the weapon's damage dice +9 of the weapon's damage type.</p>                                                                                                                                                                                          1\n<p>Either Improved Grab of Improved Push</p>                                                                                                                                                                                                                     1\n<p>A pleroma's touch deals its choice of [[/r {(5d8+18)[positive],1d6[lawful]}]]{positive} or [[/r {(5d8+18)[negative],1d6[lawful]}]]{negative} damage, but neither energy can be used to heal a creature.</p>                                                   1\n<p>@Localize[PF2E.BombNotes.FrostVial.Moderate.success]</p>                                                                                                                                                                                                      1\n<p>@Localize[PF2E.BombNotes.AlchemistsFire.Moderate.success]</p>                                                                                                                                                                                                 1\n<p>@Localize[PF2E.BombNotes.AcidFlask.Moderate.success]</p>                                                                                                                                                                                                      1\n<p>see Rapid Evolution, other possbile traits:</p>\\n<ul>\\n<li>Piercing damage: reach 10 feet, deadly d8</li>\\n<li>Slashing damage: reach 10 feet, sweep</li>\\n</ul>                                                                                              1\ndtype: int64"
     },
     "execution_count": 41,
     "metadata": {},
     "output_type": "execute_result"
    }
   ],
   "source": [
    "description.value_counts()"
   ],
   "metadata": {
    "collapsed": false
   }
  },
  {
   "cell_type": "code",
   "execution_count": 42,
   "outputs": [
    {
     "data": {
      "text/plain": "        damage   damageType category  bonus  \\\n192      1d8+3     piercing      NaN      7   \n212          1     piercing      NaN      8   \n2905    1d12+4     piercing      NaN      9   \n3218                chaotic      NaN     30   \n4347         1         acid      NaN     13   \n4348       2d8         fire      NaN     13   \n4349       2d6         cold      NaN     13   \n4851    5d8+18     positive      NaN     36   \n5002   4d10+16  bludgeoning      NaN     37   \n5733       1d8     piercing      NaN      7   \n6110      2d12  bludgeoning      NaN     13   \n6111      2d12     piercing      NaN     13   \n6112      2d12     slashing      NaN     13   \n6413   4d12+18  bludgeoning      NaN     38   \n7220    1d10+5     piercing      NaN     12   \n7487    3d10+3         fire      NaN     25   \n14877   3d8+13     piercing      NaN     27   \n15091    2d8+8     piercing      NaN     18   \n16046  3d10+16     piercing      NaN     36   \n17104  3d10+16     piercing      NaN     36   \n17272    1d8+4  bludgeoning      NaN      9   \n17273    1d8+4     piercing      NaN      9   \n17274    1d8+4     slashing      NaN      9   \n17451  2d8 + 9  bludgeoning      NaN     20   \n17485   2d8+13     piercing      NaN     24   \n18362   2d8+12     piercing      NaN     21   \n18713    2d8+8     piercing      NaN     18   \n18799  3d10+16     piercing      NaN     32   \n19098   2d8+12     piercing      NaN     21   \n19363   3d8+13     piercing      NaN     27   \n19458   2d10+8         fire      NaN     19   \n20244  3d10+16     piercing      NaN     32   \n21446   2d8+13     piercing      NaN     24   \n21492    2d6+6     positive      NaN     14   \n21493    2d8+6     positive      NaN     14   \n\n                                             description  \n192    <p><strong>Requirements</strong> The zombie ha...  \n212                  <p>Poison can be used only once</p>  \n2905   <p><strong>Requirements</strong> The zombie ha...  \n3218   <p>Four of the weapon's damage dice +9 of the ...  \n4347   <p>@Localize[PF2E.BombNotes.AcidFlask.Moderate...  \n4348   <p>@Localize[PF2E.BombNotes.AlchemistsFire.Mod...  \n4349   <p>@Localize[PF2E.BombNotes.FrostVial.Moderate...  \n4851   <p>A pleroma's touch deals its choice of [[/r ...  \n5002        <p>Either Improved Grab of Improved Push</p>  \n5733                <p>No damage if using Bola Bolt.</p>  \n6110         <p>Damage type depends on object thrown</p>  \n6111         <p>Damage type depends on object thrown</p>  \n6112         <p>Damage type depends on object thrown</p>  \n6413   <p>The Guthallath can choose either @UUID[Comp...  \n7220   <p>The Dire Wolf can use either Knockdown or G...  \n7487   <p>[[/r 2d10[positive]]] damage if the target ...  \n14877  <p>Deals 1d12 electricity damage if not Counte...  \n15091  <p>Deals 1d6 fire damage if not Countered by W...  \n16046  <p>Deals 1d12 electricity damage if not Counte...  \n17104  <p>Deals 1d12 electricity damage if not Counte...  \n17272               <p>Damage type depends on object</p>  \n17273               <p>Damage type depends on object</p>  \n17274               <p>Damage type depends on object</p>  \n17451  <p>see Rapid Evolution, other possbile traits:...  \n17485  <p>Deals 2d6 fire damage if not Countered by W...  \n18362  <p>Deals 1d12 electricity damage if not Counte...  \n18713  <p>Deals 1d6 fire damage if not Countered by W...  \n18799  <p>Deals 3d6 fire damage if not Countered by W...  \n19098  <p>Deals 1d12 electricity damage if not Counte...  \n19363  <p>Deals 1d12 electricity damage if not Counte...  \n19458  <p><em>Note: Bestiary 3 does not specify a ran...  \n20244  <p>Deals 3d6 fire damage if not Countered by W...  \n21446  <p>Deals 2d6 fire damage if not Countered by W...  \n21492  <p>The Strikes deals damage that's either [[/r...  \n21493  <p>The Strikes deals damage that's either [[/r...  ",
      "text/html": "<div>\n<style scoped>\n    .dataframe tbody tr th:only-of-type {\n        vertical-align: middle;\n    }\n\n    .dataframe tbody tr th {\n        vertical-align: top;\n    }\n\n    .dataframe thead th {\n        text-align: right;\n    }\n</style>\n<table border=\"1\" class=\"dataframe\">\n  <thead>\n    <tr style=\"text-align: right;\">\n      <th></th>\n      <th>damage</th>\n      <th>damageType</th>\n      <th>category</th>\n      <th>bonus</th>\n      <th>description</th>\n    </tr>\n  </thead>\n  <tbody>\n    <tr>\n      <th>192</th>\n      <td>1d8+3</td>\n      <td>piercing</td>\n      <td>NaN</td>\n      <td>7</td>\n      <td>&lt;p&gt;&lt;strong&gt;Requirements&lt;/strong&gt; The zombie ha...</td>\n    </tr>\n    <tr>\n      <th>212</th>\n      <td>1</td>\n      <td>piercing</td>\n      <td>NaN</td>\n      <td>8</td>\n      <td>&lt;p&gt;Poison can be used only once&lt;/p&gt;</td>\n    </tr>\n    <tr>\n      <th>2905</th>\n      <td>1d12+4</td>\n      <td>piercing</td>\n      <td>NaN</td>\n      <td>9</td>\n      <td>&lt;p&gt;&lt;strong&gt;Requirements&lt;/strong&gt; The zombie ha...</td>\n    </tr>\n    <tr>\n      <th>3218</th>\n      <td></td>\n      <td>chaotic</td>\n      <td>NaN</td>\n      <td>30</td>\n      <td>&lt;p&gt;Four of the weapon's damage dice +9 of the ...</td>\n    </tr>\n    <tr>\n      <th>4347</th>\n      <td>1</td>\n      <td>acid</td>\n      <td>NaN</td>\n      <td>13</td>\n      <td>&lt;p&gt;@Localize[PF2E.BombNotes.AcidFlask.Moderate...</td>\n    </tr>\n    <tr>\n      <th>4348</th>\n      <td>2d8</td>\n      <td>fire</td>\n      <td>NaN</td>\n      <td>13</td>\n      <td>&lt;p&gt;@Localize[PF2E.BombNotes.AlchemistsFire.Mod...</td>\n    </tr>\n    <tr>\n      <th>4349</th>\n      <td>2d6</td>\n      <td>cold</td>\n      <td>NaN</td>\n      <td>13</td>\n      <td>&lt;p&gt;@Localize[PF2E.BombNotes.FrostVial.Moderate...</td>\n    </tr>\n    <tr>\n      <th>4851</th>\n      <td>5d8+18</td>\n      <td>positive</td>\n      <td>NaN</td>\n      <td>36</td>\n      <td>&lt;p&gt;A pleroma's touch deals its choice of [[/r ...</td>\n    </tr>\n    <tr>\n      <th>5002</th>\n      <td>4d10+16</td>\n      <td>bludgeoning</td>\n      <td>NaN</td>\n      <td>37</td>\n      <td>&lt;p&gt;Either Improved Grab of Improved Push&lt;/p&gt;</td>\n    </tr>\n    <tr>\n      <th>5733</th>\n      <td>1d8</td>\n      <td>piercing</td>\n      <td>NaN</td>\n      <td>7</td>\n      <td>&lt;p&gt;No damage if using Bola Bolt.&lt;/p&gt;</td>\n    </tr>\n    <tr>\n      <th>6110</th>\n      <td>2d12</td>\n      <td>bludgeoning</td>\n      <td>NaN</td>\n      <td>13</td>\n      <td>&lt;p&gt;Damage type depends on object thrown&lt;/p&gt;</td>\n    </tr>\n    <tr>\n      <th>6111</th>\n      <td>2d12</td>\n      <td>piercing</td>\n      <td>NaN</td>\n      <td>13</td>\n      <td>&lt;p&gt;Damage type depends on object thrown&lt;/p&gt;</td>\n    </tr>\n    <tr>\n      <th>6112</th>\n      <td>2d12</td>\n      <td>slashing</td>\n      <td>NaN</td>\n      <td>13</td>\n      <td>&lt;p&gt;Damage type depends on object thrown&lt;/p&gt;</td>\n    </tr>\n    <tr>\n      <th>6413</th>\n      <td>4d12+18</td>\n      <td>bludgeoning</td>\n      <td>NaN</td>\n      <td>38</td>\n      <td>&lt;p&gt;The Guthallath can choose either @UUID[Comp...</td>\n    </tr>\n    <tr>\n      <th>7220</th>\n      <td>1d10+5</td>\n      <td>piercing</td>\n      <td>NaN</td>\n      <td>12</td>\n      <td>&lt;p&gt;The Dire Wolf can use either Knockdown or G...</td>\n    </tr>\n    <tr>\n      <th>7487</th>\n      <td>3d10+3</td>\n      <td>fire</td>\n      <td>NaN</td>\n      <td>25</td>\n      <td>&lt;p&gt;[[/r 2d10[positive]]] damage if the target ...</td>\n    </tr>\n    <tr>\n      <th>14877</th>\n      <td>3d8+13</td>\n      <td>piercing</td>\n      <td>NaN</td>\n      <td>27</td>\n      <td>&lt;p&gt;Deals 1d12 electricity damage if not Counte...</td>\n    </tr>\n    <tr>\n      <th>15091</th>\n      <td>2d8+8</td>\n      <td>piercing</td>\n      <td>NaN</td>\n      <td>18</td>\n      <td>&lt;p&gt;Deals 1d6 fire damage if not Countered by W...</td>\n    </tr>\n    <tr>\n      <th>16046</th>\n      <td>3d10+16</td>\n      <td>piercing</td>\n      <td>NaN</td>\n      <td>36</td>\n      <td>&lt;p&gt;Deals 1d12 electricity damage if not Counte...</td>\n    </tr>\n    <tr>\n      <th>17104</th>\n      <td>3d10+16</td>\n      <td>piercing</td>\n      <td>NaN</td>\n      <td>36</td>\n      <td>&lt;p&gt;Deals 1d12 electricity damage if not Counte...</td>\n    </tr>\n    <tr>\n      <th>17272</th>\n      <td>1d8+4</td>\n      <td>bludgeoning</td>\n      <td>NaN</td>\n      <td>9</td>\n      <td>&lt;p&gt;Damage type depends on object&lt;/p&gt;</td>\n    </tr>\n    <tr>\n      <th>17273</th>\n      <td>1d8+4</td>\n      <td>piercing</td>\n      <td>NaN</td>\n      <td>9</td>\n      <td>&lt;p&gt;Damage type depends on object&lt;/p&gt;</td>\n    </tr>\n    <tr>\n      <th>17274</th>\n      <td>1d8+4</td>\n      <td>slashing</td>\n      <td>NaN</td>\n      <td>9</td>\n      <td>&lt;p&gt;Damage type depends on object&lt;/p&gt;</td>\n    </tr>\n    <tr>\n      <th>17451</th>\n      <td>2d8 + 9</td>\n      <td>bludgeoning</td>\n      <td>NaN</td>\n      <td>20</td>\n      <td>&lt;p&gt;see Rapid Evolution, other possbile traits:...</td>\n    </tr>\n    <tr>\n      <th>17485</th>\n      <td>2d8+13</td>\n      <td>piercing</td>\n      <td>NaN</td>\n      <td>24</td>\n      <td>&lt;p&gt;Deals 2d6 fire damage if not Countered by W...</td>\n    </tr>\n    <tr>\n      <th>18362</th>\n      <td>2d8+12</td>\n      <td>piercing</td>\n      <td>NaN</td>\n      <td>21</td>\n      <td>&lt;p&gt;Deals 1d12 electricity damage if not Counte...</td>\n    </tr>\n    <tr>\n      <th>18713</th>\n      <td>2d8+8</td>\n      <td>piercing</td>\n      <td>NaN</td>\n      <td>18</td>\n      <td>&lt;p&gt;Deals 1d6 fire damage if not Countered by W...</td>\n    </tr>\n    <tr>\n      <th>18799</th>\n      <td>3d10+16</td>\n      <td>piercing</td>\n      <td>NaN</td>\n      <td>32</td>\n      <td>&lt;p&gt;Deals 3d6 fire damage if not Countered by W...</td>\n    </tr>\n    <tr>\n      <th>19098</th>\n      <td>2d8+12</td>\n      <td>piercing</td>\n      <td>NaN</td>\n      <td>21</td>\n      <td>&lt;p&gt;Deals 1d12 electricity damage if not Counte...</td>\n    </tr>\n    <tr>\n      <th>19363</th>\n      <td>3d8+13</td>\n      <td>piercing</td>\n      <td>NaN</td>\n      <td>27</td>\n      <td>&lt;p&gt;Deals 1d12 electricity damage if not Counte...</td>\n    </tr>\n    <tr>\n      <th>19458</th>\n      <td>2d10+8</td>\n      <td>fire</td>\n      <td>NaN</td>\n      <td>19</td>\n      <td>&lt;p&gt;&lt;em&gt;Note: Bestiary 3 does not specify a ran...</td>\n    </tr>\n    <tr>\n      <th>20244</th>\n      <td>3d10+16</td>\n      <td>piercing</td>\n      <td>NaN</td>\n      <td>32</td>\n      <td>&lt;p&gt;Deals 3d6 fire damage if not Countered by W...</td>\n    </tr>\n    <tr>\n      <th>21446</th>\n      <td>2d8+13</td>\n      <td>piercing</td>\n      <td>NaN</td>\n      <td>24</td>\n      <td>&lt;p&gt;Deals 2d6 fire damage if not Countered by W...</td>\n    </tr>\n    <tr>\n      <th>21492</th>\n      <td>2d6+6</td>\n      <td>positive</td>\n      <td>NaN</td>\n      <td>14</td>\n      <td>&lt;p&gt;The Strikes deals damage that's either [[/r...</td>\n    </tr>\n    <tr>\n      <th>21493</th>\n      <td>2d8+6</td>\n      <td>positive</td>\n      <td>NaN</td>\n      <td>14</td>\n      <td>&lt;p&gt;The Strikes deals damage that's either [[/r...</td>\n    </tr>\n  </tbody>\n</table>\n</div>"
     },
     "execution_count": 42,
     "metadata": {},
     "output_type": "execute_result"
    }
   ],
   "source": [
    "damageRolls[\"bonus\"] = bonus.value\n",
    "damageRolls[\"description\"] = description.value\n",
    "damageRolls[description.value.notnull()]"
   ],
   "metadata": {
    "collapsed": false
   }
  },
  {
   "cell_type": "markdown",
   "source": [
    "some addictional info about damage\n",
    "\n",
    "**can be important**"
   ],
   "metadata": {
    "collapsed": false
   }
  },
  {
   "cell_type": "markdown",
   "source": [
    "### system: rules"
   ],
   "metadata": {
    "collapsed": false
   }
  },
  {
   "cell_type": "code",
   "execution_count": 43,
   "outputs": [],
   "source": [
    "rules = system.rules"
   ],
   "metadata": {
    "collapsed": false
   }
  },
  {
   "cell_type": "code",
   "execution_count": 44,
   "outputs": [],
   "source": [
    "rules = rules.apply(lambda x: np.nan if len(x) == 0 else x)"
   ],
   "metadata": {
    "collapsed": false
   }
  },
  {
   "cell_type": "code",
   "execution_count": 45,
   "outputs": [
    {
     "name": "stdout",
     "output_type": "stream",
     "text": [
      "<class 'pandas.core.series.Series'>\n",
      "Int64Index: 2419 entries, 3 to 21721\n",
      "Series name: rules\n",
      "Non-Null Count  Dtype \n",
      "--------------  ----- \n",
      "47 non-null     object\n",
      "dtypes: object(1)\n",
      "memory usage: 37.8+ KB\n"
     ]
    }
   ],
   "source": [
    "rules.info()"
   ],
   "metadata": {
    "collapsed": false
   }
  },
  {
   "cell_type": "code",
   "execution_count": 83,
   "outputs": [
    {
     "data": {
      "text/plain": "3     NaN\n4     NaN\n5     NaN\n23    NaN\n24    NaN\nName: rules, dtype: object"
     },
     "execution_count": 83,
     "metadata": {},
     "output_type": "execute_result"
    }
   ],
   "source": [
    "rules.head()"
   ],
   "metadata": {
    "collapsed": false
   }
  },
  {
   "cell_type": "code",
   "execution_count": 82,
   "outputs": [
    {
     "data": {
      "text/plain": "[{'domain': 'damage-roll', 'key': 'RollOption', 'label': 'PF2E.SpecificRule.TwoHanded.Staff', 'option': 'two-handed', 'toggleable': True}, {'key': 'DamageDice', 'label': 'PF2E.TraitTwoHandD8', 'override': {'dieSize': 'd8'}, 'predicate': ['two-handed'], 'selector': '{item|_id}-damage'}]                                                                                       14\n[{'domain': 'damage-roll', 'key': 'RollOption', 'label': 'PF2E.SpecificRule.TwoHanded.BastardSword', 'option': 'two-handed', 'toggleable': True}, {'key': 'DamageDice', 'label': 'PF2E.TraitTwoHandD12', 'override': {'dieSize': 'd12'}, 'predicate': ['two-handed'], 'selector': '{item|_id}-damage'}]                                                                               5\n[{'damageType': 'electricity', 'diceNumber': 1, 'dieSize': 'd12', 'key': 'DamageDice', 'predicate': [{'nor': ['countered-by-fire', 'divine-lighning-good', 'divine-lightning-positive']}], 'selector': '{item|_id}-damage'}]                                                                                                                                                          4\n[{'diceNumber': 1, 'key': 'DamageDice', 'label': 'Rhinoceros Charge', 'predicate': ['rhinoceros-charge'], 'selector': 'strike-damage'}]                                                                                                                                                                                                                                               2\n[{'damageType': 'fire', 'diceNumber': 3, 'dieSize': 'd6', 'key': 'DamageDice', 'predicate': [{'not': 'countered-by-water'}], 'selector': '{item|_id}-damage'}]                                                                                                                                                                                                                        2\n[{'damageType': 'electricity', 'diceNumber': 1, 'dieSize': 'd12', 'key': 'DamageDice', 'predicate': [{'not': 'countered-by-fire'}], 'selector': '{item|_id}-damage'}]                                                                                                                                                                                                                 2\n[{'damageType': 'fire', 'diceNumber': 2, 'dieSize': 'd6', 'key': 'DamageDice', 'predicate': [{'not': 'countered-by-water'}], 'selector': '{item|_id}-damage'}]                                                                                                                                                                                                                        2\n[{'damageType': 'fire', 'diceNumber': 1, 'dieSize': 'd6', 'key': 'DamageDice', 'predicate': [{'not': 'countered-by-water'}], 'selector': '{item|_id}-damage'}]                                                                                                                                                                                                                        2\n[{'domain': 'damage-roll', 'key': 'RollOption', 'label': 'PF2E.SpecificRule.TwoHanded.Katana', 'option': 'two-handed', 'toggleable': True}, {'key': 'DamageDice', 'label': 'PF2E.TraitTwoHandD10', 'override': {'dieSize': 'd10'}, 'predicate': ['two-handed'], 'selector': '{item|_id}-damage'}]                                                                                     2\n[{'damageType': 'slashing', 'diceNumber': 1, 'key': 'DamageDice', 'label': 'Gouging Lunge', 'predicate': ['gouging-lunge'], 'selector': 'strike-damage'}]                                                                                                                                                                                                                             1\n[{'damageType': 'slashing', 'diceNumber': 2, 'dieSize': 'd6', 'key': 'DamageDice', 'label': 'PF2E.NPCAbility.TreerazerPlantAttack', 'predicate': [{'or': ['target:trait:plant', 'plant-attack']}], 'selector': 'blackaxe-damage'}, {'domain': 'damage-roll', 'key': 'RollOption', 'label': 'PF2E.NPCAbility.TreerazerPlantAttack', 'option': 'plant-attack', 'toggleable': True}]     1\n[{'diceNumber': 1, 'dieSize': 'd12', 'key': 'DamageDice', 'label': 'Powerful Charge', 'predicate': ['powerful-charge'], 'selector': 'strike-damage'}, {'key': 'FlatModifier', 'label': 'Powerful Charge', 'predicate': ['powerful-charge'], 'selector': 'strike-damage', 'value': 2}]                                                                                                 1\n[{'damageType': 'positive', 'diceNumber': 2, 'dieSize': 'd10', 'key': 'DamageDice', 'predicate': ['target:trait:undead'], 'selector': 'fire-ray-damage'}]                                                                                                                                                                                                                             1\n[{'domain': 'damage-roll', 'key': 'RollOption', 'label': 'PF2E.SpecificRule.TwoHanded.RhokaSword', 'option': 'two-handed', 'toggleable': True}, {'key': 'DamageDice', 'label': 'PF2E.TraitTwoHandD10', 'override': {'dieSize': 'd10'}, 'predicate': ['two-handed'], 'selector': '{item|_id}-damage'}]                                                                                 1\n[{'key': 'Note', 'outcome': ['success'], 'selector': '{item|_id}-damage', 'text': 'PF2E.BombNotes.AlchemistsFire.Lesser.success'}, {'key': 'Note', 'outcome': ['criticalSuccess'], 'selector': '{item|_id}-damage', 'text': 'PF2E.BombNotes.AlchemistsFire.Lesser.criticalSuccess'}]                                                                                                  1\n[{'key': 'Note', 'outcome': ['success'], 'selector': '{item|_id}-damage', 'text': 'PF2E.BombNotes.AcidFlask.Lesser.success'}, {'key': 'Note', 'outcome': ['criticalSuccess'], 'selector': '{item|_id}-damage', 'text': 'PF2E.BombNotes.AcidFlask.Lesser.criticalSuccess'}]                                                                                                            1\n[{'domain': 'damage-roll', 'key': 'RollOption', 'label': 'PF2E.SpecificRule.TwoHanded.BastardSword', 'option': 'two-handed', 'toggleable': True}, {'key': 'DamageDice', 'label': 'PF2E.TraitTwoHandD8', 'override': {'dieSize': 'd8'}, 'predicate': ['two-handed'], 'selector': '{item|_id}-damage'}]                                                                                 1\n[{'key': 'Note', 'selector': '{item|_id}-damage', 'text': 'PF2E.BombNotes.FrostVial.Moderate.success', 'visibility': 'gm'}]                                                                                                                                                                                                                                                           1\n[{'key': 'Note', 'outcome': ['success'], 'selector': '{item|_id}-damage', 'text': 'PF2E.BombNotes.AlchemistsFire.Moderate.success', 'visibility': 'gm'}, {'key': 'Note', 'outcome': ['criticalSuccess'], 'selector': '{item|_id}-damage', 'text': 'PF2E.BombNotes.AlchemistsFire.Moderate.criticalSuccess', 'visibility': 'gm'}]                                                      1\n[{'key': 'Note', 'outcome': ['success'], 'selector': '{item|_id}-damage', 'text': 'PF2E.BombNotes.AcidFlask.Moderate.success', 'visibility': 'gm'}, {'key': 'Note', 'outcome': ['criticalSuccess'], 'selector': '{item|_id}-damage', 'text': 'PF2E.BombNotes.AcidFlask.Moderate.criticalSuccess', 'visibility': 'gm'}]                                                                1\n[{'domain': 'damage-roll', 'key': 'RollOption', 'label': 'PF2E.SpecificRule.TwoHanded.Staff', 'option': 'two-handed', 'toggleable': True, 'value': False}, {'key': 'DamageDice', 'label': 'PF2E.TraitTwoHandD8', 'override': {'dieSize': 'd8'}, 'predicate': ['two-handed'], 'selector': '{item|_id}-damage'}]                                                                        1\nName: rules, dtype: int64"
     },
     "execution_count": 82,
     "metadata": {},
     "output_type": "execute_result"
    }
   ],
   "source": [
    "rules.value_counts()"
   ],
   "metadata": {
    "collapsed": false
   }
  },
  {
   "cell_type": "code",
   "execution_count": 104,
   "outputs": [
    {
     "data": {
      "text/plain": "                    _id                                         img  \\\n688    zyYihJ8eYGtYRh9u  systems/pf2e/icons/default-icons/melee.svg   \n996    sBRqXEDoaHJdg0SF  systems/pf2e/icons/default-icons/melee.svg   \n1093   90eQFUneXcsHeKSK  systems/pf2e/icons/default-icons/melee.svg   \n1773   90eQFUneXcsHeKSK  systems/pf2e/icons/default-icons/melee.svg   \n3430   DFldqlT6ytrPqmmo  systems/pf2e/icons/default-icons/melee.svg   \n3618   90eQFUneXcsHeKSK  systems/pf2e/icons/default-icons/melee.svg   \n3640   90eQFUneXcsHeKSK  systems/pf2e/icons/default-icons/melee.svg   \n4347   axeTxBouSunEePNo  systems/pf2e/icons/default-icons/melee.svg   \n4348   xYlf7HmaIqlHhW8O  systems/pf2e/icons/default-icons/melee.svg   \n4349   dId4UcnaI1F6ww0V  systems/pf2e/icons/default-icons/melee.svg   \n4766   IYZ7DcFhTBCpe9MA  systems/pf2e/icons/default-icons/melee.svg   \n5998   5nrxrLm9SgLXHRhi  systems/pf2e/icons/default-icons/melee.svg   \n6145   90eQFUneXcsHeKSK  systems/pf2e/icons/default-icons/melee.svg   \n6967   bg3DA0xcxyfSwJZm  systems/pf2e/icons/default-icons/melee.svg   \n7247   62TQ4X0N6cfOxwQQ  systems/pf2e/icons/default-icons/melee.svg   \n7248   q0wjPcj5k9jWlgJc  systems/pf2e/icons/default-icons/melee.svg   \n7487   pWMLYiykJTfDP0Lf  systems/pf2e/icons/default-icons/melee.svg   \n7669   H88Ay3ZweyXm4sL3  systems/pf2e/icons/default-icons/melee.svg   \n8303   LUK2Wptf0GJyjbxC  systems/pf2e/icons/default-icons/melee.svg   \n11114  R4jXbSxWyqNtYJyp  systems/pf2e/icons/default-icons/melee.svg   \n12229  XMTEsGgReo4d8QMB  systems/pf2e/icons/default-icons/melee.svg   \n12458  wPLUpFiWxDX00EQJ  systems/pf2e/icons/default-icons/melee.svg   \n12528  HWKLKpUPvbnvqEcp  systems/pf2e/icons/default-icons/melee.svg   \n12615  ZdHLSjspChUCaebu  systems/pf2e/icons/default-icons/melee.svg   \n12704  0Nlywj3cWzzzNsFd  systems/pf2e/icons/default-icons/melee.svg   \n13473  VHBwi6X1gEpQ8YsT  systems/pf2e/icons/default-icons/melee.svg   \n13557  YvhSv5FSqLRo98YJ  systems/pf2e/icons/default-icons/melee.svg   \n14564  2oF9dlmEoHZ6o4U9  systems/pf2e/icons/default-icons/melee.svg   \n14877  ILDPyfeR9ijXko3B  systems/pf2e/icons/default-icons/melee.svg   \n15091  STN5ZaMm14HJIg38  systems/pf2e/icons/default-icons/melee.svg   \n15238  fKdYArB4XGbeZO0e  systems/pf2e/icons/default-icons/melee.svg   \n15256  lHGpzeVpbkAh9PNL  systems/pf2e/icons/default-icons/melee.svg   \n15871  1zABoyA2x54PjRbW  systems/pf2e/icons/default-icons/melee.svg   \n16046  6ZOExAAHG9cE1G7V  systems/pf2e/icons/default-icons/melee.svg   \n17004  bsKbGLCEij4kqAPY  systems/pf2e/icons/default-icons/melee.svg   \n17104  6ZOExAAHG9cE1G7V  systems/pf2e/icons/default-icons/melee.svg   \n17485  c2jgSAE0FH6AmDJ2  systems/pf2e/icons/default-icons/melee.svg   \n17935  dUtAAFoA9eQnE0J5  systems/pf2e/icons/default-icons/melee.svg   \n18362  PO5OyKjxeT0rYaYl  systems/pf2e/icons/default-icons/melee.svg   \n18713  STN5ZaMm14HJIg38  systems/pf2e/icons/default-icons/melee.svg   \n18799  rvv40f4QmFMFlF5L  systems/pf2e/icons/default-icons/melee.svg   \n19098  PO5OyKjxeT0rYaYl  systems/pf2e/icons/default-icons/melee.svg   \n19363  ILDPyfeR9ijXko3B  systems/pf2e/icons/default-icons/melee.svg   \n20244  rvv40f4QmFMFlF5L  systems/pf2e/icons/default-icons/melee.svg   \n20641  R0HLiBnfzTgXGH4w  systems/pf2e/icons/default-icons/melee.svg   \n21390  D8VyX86E4dNG3pvk  systems/pf2e/icons/default-icons/melee.svg   \n21446  c2jgSAE0FH6AmDJ2  systems/pf2e/icons/default-icons/melee.svg   \n\n                            name     sort  \\\n688                Bastard Sword   400000   \n996                     Blackaxe  1800000   \n1093                       Staff  1200000   \n1773                       Staff  1200000   \n3430               Bastard Sword  1200000   \n3618                       Staff  1200000   \n3640                       Staff  1200000   \n4347                  Acid Flask  1000000   \n4348            Alchemist's Fire  1100000   \n4349                  Frost Vial  1200000   \n4766                       Staff  1700000   \n5998                       Staff  1400000   \n6145                       Staff  1200000   \n6967                       Staff  1200000   \n7247         Acid Flask (Lesser)  1100000   \n7248   Alchemist's Fire (Lesser)  1200000   \n7487                    Fire Ray  1400000   \n7669                       Staff  1800000   \n8303                       Staff  1200000   \n11114                Thumb Spike   100000   \n12229                     Katana  1200000   \n12458                       Horn   100000   \n12528                       Horn   100000   \n12615                Rhoka Sword   900000   \n12704              Bastard Sword   700000   \n13473      Flaming Bastard Sword  1500000   \n13557                       Horn   100000   \n14564              Bastard Sword   500000   \n14877                       Jaws   600000   \n15091                       Jaws   400000   \n15238                      Staff   700000   \n15256              Bastard Sword  1100000   \n15871                      Staff  1400000   \n16046                       Jaws  4000000   \n17004                  Ice Staff  2700000   \n17104                       Jaws   500000   \n17485                       Jaws  2500000   \n17935           Disrupting Staff   800000   \n18362                       Jaws  2600000   \n18713                       Jaws  1800000   \n18799                       Jaws  3200000   \n19098                       Jaws   500000   \n19363                       Jaws  3400000   \n20244                       Jaws   500000   \n20641                      Staff   400000   \n21390                     Katana  1400000   \n21446                       Jaws   500000   \n\n                                                  system   type  \\\n688    {'attack': {'value': ''}, 'attackEffects': {'c...  melee   \n996    {'attack': {'value': ''}, 'attackEffects': {'c...  melee   \n1093   {'attack': {'value': ''}, 'attackEffects': {'c...  melee   \n1773   {'attack': {'value': ''}, 'attackEffects': {'c...  melee   \n3430   {'attack': {'value': ''}, 'attackEffects': {'c...  melee   \n3618   {'attack': {'value': ''}, 'attackEffects': {'v...  melee   \n3640   {'attack': {'value': ''}, 'attackEffects': {'c...  melee   \n4347   {'attack': {'value': ''}, 'attackEffects': {'c...  melee   \n4348   {'attack': {'value': ''}, 'attackEffects': {'v...  melee   \n4349   {'attack': {'value': ''}, 'attackEffects': {'v...  melee   \n4766   {'attack': {'value': ''}, 'attackEffects': {'c...  melee   \n5998   {'attack': {'value': ''}, 'attackEffects': {'c...  melee   \n6145   {'attack': {'value': ''}, 'attackEffects': {'c...  melee   \n6967   {'attack': {'value': ''}, 'attackEffects': {'c...  melee   \n7247   {'attack': {'value': ''}, 'attackEffects': {'v...  melee   \n7248   {'attack': {'value': ''}, 'attackEffects': {'v...  melee   \n7487   {'attack': {'value': ''}, 'attackEffects': {'c...  melee   \n7669   {'attack': {'value': ''}, 'attackEffects': {'c...  melee   \n8303   {'attack': {'value': ''}, 'attackEffects': {'c...  melee   \n11114  {'attack': {'value': ''}, 'attackEffects': {'v...  melee   \n12229  {'attack': {'value': ''}, 'attackEffects': {'v...  melee   \n12458  {'attack': {'value': ''}, 'attackEffects': {'v...  melee   \n12528  {'attack': {'value': ''}, 'attackEffects': {'v...  melee   \n12615  {'attack': {'value': ''}, 'attackEffects': {'v...  melee   \n12704  {'attack': {'value': ''}, 'attackEffects': {'c...  melee   \n13473  {'attack': {'value': ''}, 'attackEffects': {'v...  melee   \n13557  {'attack': {'value': ''}, 'attackEffects': {'v...  melee   \n14564  {'attack': {'value': ''}, 'attackEffects': {'v...  melee   \n14877  {'attack': {'value': ''}, 'attackEffects': {'c...  melee   \n15091  {'attack': {'value': ''}, 'attackEffects': {'c...  melee   \n15238  {'attack': {'value': ''}, 'attackEffects': {'c...  melee   \n15256  {'attack': {'value': ''}, 'attackEffects': {'c...  melee   \n15871  {'attack': {'value': ''}, 'attackEffects': {'c...  melee   \n16046  {'attack': {'value': ''}, 'attackEffects': {'c...  melee   \n17004  {'attack': {'value': ''}, 'attackEffects': {'c...  melee   \n17104  {'attack': {'value': ''}, 'attackEffects': {'c...  melee   \n17485  {'attack': {'value': ''}, 'attackEffects': {'c...  melee   \n17935  {'attack': {'value': ''}, 'attackEffects': {'c...  melee   \n18362  {'attack': {'value': ''}, 'attackEffects': {'c...  melee   \n18713  {'attack': {'value': ''}, 'attackEffects': {'c...  melee   \n18799  {'attack': {'value': ''}, 'attackEffects': {'c...  melee   \n19098  {'attack': {'value': ''}, 'attackEffects': {'c...  melee   \n19363  {'attack': {'value': ''}, 'attackEffects': {'c...  melee   \n20244  {'attack': {'value': ''}, 'attackEffects': {'c...  melee   \n20641  {'attack': {'value': ''}, 'attackEffects': {'c...  melee   \n21390  {'attack': {'value': ''}, 'attackEffects': {'c...  melee   \n21446  {'attack': {'value': ''}, 'attackEffects': {'c...  melee   \n\n                                                   flags  \n688       {'pf2e': {'linkedWeapon': 'iSTirw6VbSG9cG1W'}}  \n996       {'pf2e': {'linkedWeapon': 'etv02A5iCRxbUkwf'}}  \n1093      {'pf2e': {'linkedWeapon': 'eQyuyxv2WTFOFuPw'}}  \n1773      {'pf2e': {'linkedWeapon': 'SqgtFx8HqDtjWokb'}}  \n3430      {'pf2e': {'linkedWeapon': 'VRgvIwuUtl5eBQdf'}}  \n3618      {'pf2e': {'linkedWeapon': 'cbm3StDtPSuLEauG'}}  \n3640      {'pf2e': {'linkedWeapon': 'KJ8s0ZUv0KXNdvhC'}}  \n4347      {'pf2e': {'linkedWeapon': 'VmJDhZPxSn9TOQtO'}}  \n4348      {'pf2e': {'linkedWeapon': 'm8EZncnl9JW785it'}}  \n4349      {'pf2e': {'linkedWeapon': 'QFF18wlKJOIrFquv'}}  \n4766      {'pf2e': {'linkedWeapon': 'koriLKhGImyFZHMw'}}  \n5998      {'pf2e': {'linkedWeapon': 'tCybalieXsCPx4AL'}}  \n6145      {'pf2e': {'linkedWeapon': 'm7gcrptHoQlxL5b4'}}  \n6967      {'pf2e': {'linkedWeapon': 'uWLdQKgSHMDTC4JV'}}  \n7247   {'core': {'sourceId': 'Item.XbZ9bHtUK1Qa1Y4b'}...  \n7248   {'core': {'sourceId': 'Item.4fEIHmYqJ8IZrgjx'}...  \n7487                                                 NaN  \n7669      {'pf2e': {'linkedWeapon': 'x8nMC6BfHMrtA2Mt'}}  \n8303      {'pf2e': {'linkedWeapon': 'FmrlYFHVWvorITqL'}}  \n11114                                                NaN  \n12229     {'pf2e': {'linkedWeapon': 'iznQySJVx9S3aKAQ'}}  \n12458                                                NaN  \n12528                                                NaN  \n12615     {'pf2e': {'linkedWeapon': 'Axe5L3i8OXoYZuLk'}}  \n12704     {'pf2e': {'linkedWeapon': 'ippiazWAmHg5l3F6'}}  \n13473     {'pf2e': {'linkedWeapon': 'tOHJkoP70gzyQa0q'}}  \n13557                                                NaN  \n14564     {'pf2e': {'linkedWeapon': 'bol3nFbFk0gXhnBT'}}  \n14877                                                NaN  \n15091                                                NaN  \n15238                                                NaN  \n15256     {'pf2e': {'linkedWeapon': 'KYUdiGlWt4YhP3za'}}  \n15871     {'pf2e': {'linkedWeapon': 'O4OD37pDdJ7DDfXC'}}  \n16046                                                NaN  \n17004                                                NaN  \n17104                                                NaN  \n17485                                                NaN  \n17935     {'pf2e': {'linkedWeapon': 'nRi5UQ9NCKpzyazh'}}  \n18362                                                NaN  \n18713                                                NaN  \n18799                                                NaN  \n19098                                                NaN  \n19363                                                NaN  \n20244                                                NaN  \n20641     {'pf2e': {'linkedWeapon': 'xYZWdN170kBR11YR'}}  \n21390     {'pf2e': {'linkedWeapon': 'RLIvbPC5j2g106DY'}}  \n21446                                                NaN  ",
      "text/html": "<div>\n<style scoped>\n    .dataframe tbody tr th:only-of-type {\n        vertical-align: middle;\n    }\n\n    .dataframe tbody tr th {\n        vertical-align: top;\n    }\n\n    .dataframe thead th {\n        text-align: right;\n    }\n</style>\n<table border=\"1\" class=\"dataframe\">\n  <thead>\n    <tr style=\"text-align: right;\">\n      <th></th>\n      <th>_id</th>\n      <th>img</th>\n      <th>name</th>\n      <th>sort</th>\n      <th>system</th>\n      <th>type</th>\n      <th>flags</th>\n    </tr>\n  </thead>\n  <tbody>\n    <tr>\n      <th>688</th>\n      <td>zyYihJ8eYGtYRh9u</td>\n      <td>systems/pf2e/icons/default-icons/melee.svg</td>\n      <td>Bastard Sword</td>\n      <td>400000</td>\n      <td>{'attack': {'value': ''}, 'attackEffects': {'c...</td>\n      <td>melee</td>\n      <td>{'pf2e': {'linkedWeapon': 'iSTirw6VbSG9cG1W'}}</td>\n    </tr>\n    <tr>\n      <th>996</th>\n      <td>sBRqXEDoaHJdg0SF</td>\n      <td>systems/pf2e/icons/default-icons/melee.svg</td>\n      <td>Blackaxe</td>\n      <td>1800000</td>\n      <td>{'attack': {'value': ''}, 'attackEffects': {'c...</td>\n      <td>melee</td>\n      <td>{'pf2e': {'linkedWeapon': 'etv02A5iCRxbUkwf'}}</td>\n    </tr>\n    <tr>\n      <th>1093</th>\n      <td>90eQFUneXcsHeKSK</td>\n      <td>systems/pf2e/icons/default-icons/melee.svg</td>\n      <td>Staff</td>\n      <td>1200000</td>\n      <td>{'attack': {'value': ''}, 'attackEffects': {'c...</td>\n      <td>melee</td>\n      <td>{'pf2e': {'linkedWeapon': 'eQyuyxv2WTFOFuPw'}}</td>\n    </tr>\n    <tr>\n      <th>1773</th>\n      <td>90eQFUneXcsHeKSK</td>\n      <td>systems/pf2e/icons/default-icons/melee.svg</td>\n      <td>Staff</td>\n      <td>1200000</td>\n      <td>{'attack': {'value': ''}, 'attackEffects': {'c...</td>\n      <td>melee</td>\n      <td>{'pf2e': {'linkedWeapon': 'SqgtFx8HqDtjWokb'}}</td>\n    </tr>\n    <tr>\n      <th>3430</th>\n      <td>DFldqlT6ytrPqmmo</td>\n      <td>systems/pf2e/icons/default-icons/melee.svg</td>\n      <td>Bastard Sword</td>\n      <td>1200000</td>\n      <td>{'attack': {'value': ''}, 'attackEffects': {'c...</td>\n      <td>melee</td>\n      <td>{'pf2e': {'linkedWeapon': 'VRgvIwuUtl5eBQdf'}}</td>\n    </tr>\n    <tr>\n      <th>3618</th>\n      <td>90eQFUneXcsHeKSK</td>\n      <td>systems/pf2e/icons/default-icons/melee.svg</td>\n      <td>Staff</td>\n      <td>1200000</td>\n      <td>{'attack': {'value': ''}, 'attackEffects': {'v...</td>\n      <td>melee</td>\n      <td>{'pf2e': {'linkedWeapon': 'cbm3StDtPSuLEauG'}}</td>\n    </tr>\n    <tr>\n      <th>3640</th>\n      <td>90eQFUneXcsHeKSK</td>\n      <td>systems/pf2e/icons/default-icons/melee.svg</td>\n      <td>Staff</td>\n      <td>1200000</td>\n      <td>{'attack': {'value': ''}, 'attackEffects': {'c...</td>\n      <td>melee</td>\n      <td>{'pf2e': {'linkedWeapon': 'KJ8s0ZUv0KXNdvhC'}}</td>\n    </tr>\n    <tr>\n      <th>4347</th>\n      <td>axeTxBouSunEePNo</td>\n      <td>systems/pf2e/icons/default-icons/melee.svg</td>\n      <td>Acid Flask</td>\n      <td>1000000</td>\n      <td>{'attack': {'value': ''}, 'attackEffects': {'c...</td>\n      <td>melee</td>\n      <td>{'pf2e': {'linkedWeapon': 'VmJDhZPxSn9TOQtO'}}</td>\n    </tr>\n    <tr>\n      <th>4348</th>\n      <td>xYlf7HmaIqlHhW8O</td>\n      <td>systems/pf2e/icons/default-icons/melee.svg</td>\n      <td>Alchemist's Fire</td>\n      <td>1100000</td>\n      <td>{'attack': {'value': ''}, 'attackEffects': {'v...</td>\n      <td>melee</td>\n      <td>{'pf2e': {'linkedWeapon': 'm8EZncnl9JW785it'}}</td>\n    </tr>\n    <tr>\n      <th>4349</th>\n      <td>dId4UcnaI1F6ww0V</td>\n      <td>systems/pf2e/icons/default-icons/melee.svg</td>\n      <td>Frost Vial</td>\n      <td>1200000</td>\n      <td>{'attack': {'value': ''}, 'attackEffects': {'v...</td>\n      <td>melee</td>\n      <td>{'pf2e': {'linkedWeapon': 'QFF18wlKJOIrFquv'}}</td>\n    </tr>\n    <tr>\n      <th>4766</th>\n      <td>IYZ7DcFhTBCpe9MA</td>\n      <td>systems/pf2e/icons/default-icons/melee.svg</td>\n      <td>Staff</td>\n      <td>1700000</td>\n      <td>{'attack': {'value': ''}, 'attackEffects': {'c...</td>\n      <td>melee</td>\n      <td>{'pf2e': {'linkedWeapon': 'koriLKhGImyFZHMw'}}</td>\n    </tr>\n    <tr>\n      <th>5998</th>\n      <td>5nrxrLm9SgLXHRhi</td>\n      <td>systems/pf2e/icons/default-icons/melee.svg</td>\n      <td>Staff</td>\n      <td>1400000</td>\n      <td>{'attack': {'value': ''}, 'attackEffects': {'c...</td>\n      <td>melee</td>\n      <td>{'pf2e': {'linkedWeapon': 'tCybalieXsCPx4AL'}}</td>\n    </tr>\n    <tr>\n      <th>6145</th>\n      <td>90eQFUneXcsHeKSK</td>\n      <td>systems/pf2e/icons/default-icons/melee.svg</td>\n      <td>Staff</td>\n      <td>1200000</td>\n      <td>{'attack': {'value': ''}, 'attackEffects': {'c...</td>\n      <td>melee</td>\n      <td>{'pf2e': {'linkedWeapon': 'm7gcrptHoQlxL5b4'}}</td>\n    </tr>\n    <tr>\n      <th>6967</th>\n      <td>bg3DA0xcxyfSwJZm</td>\n      <td>systems/pf2e/icons/default-icons/melee.svg</td>\n      <td>Staff</td>\n      <td>1200000</td>\n      <td>{'attack': {'value': ''}, 'attackEffects': {'c...</td>\n      <td>melee</td>\n      <td>{'pf2e': {'linkedWeapon': 'uWLdQKgSHMDTC4JV'}}</td>\n    </tr>\n    <tr>\n      <th>7247</th>\n      <td>62TQ4X0N6cfOxwQQ</td>\n      <td>systems/pf2e/icons/default-icons/melee.svg</td>\n      <td>Acid Flask (Lesser)</td>\n      <td>1100000</td>\n      <td>{'attack': {'value': ''}, 'attackEffects': {'v...</td>\n      <td>melee</td>\n      <td>{'core': {'sourceId': 'Item.XbZ9bHtUK1Qa1Y4b'}...</td>\n    </tr>\n    <tr>\n      <th>7248</th>\n      <td>q0wjPcj5k9jWlgJc</td>\n      <td>systems/pf2e/icons/default-icons/melee.svg</td>\n      <td>Alchemist's Fire (Lesser)</td>\n      <td>1200000</td>\n      <td>{'attack': {'value': ''}, 'attackEffects': {'v...</td>\n      <td>melee</td>\n      <td>{'core': {'sourceId': 'Item.4fEIHmYqJ8IZrgjx'}...</td>\n    </tr>\n    <tr>\n      <th>7487</th>\n      <td>pWMLYiykJTfDP0Lf</td>\n      <td>systems/pf2e/icons/default-icons/melee.svg</td>\n      <td>Fire Ray</td>\n      <td>1400000</td>\n      <td>{'attack': {'value': ''}, 'attackEffects': {'c...</td>\n      <td>melee</td>\n      <td>NaN</td>\n    </tr>\n    <tr>\n      <th>7669</th>\n      <td>H88Ay3ZweyXm4sL3</td>\n      <td>systems/pf2e/icons/default-icons/melee.svg</td>\n      <td>Staff</td>\n      <td>1800000</td>\n      <td>{'attack': {'value': ''}, 'attackEffects': {'c...</td>\n      <td>melee</td>\n      <td>{'pf2e': {'linkedWeapon': 'x8nMC6BfHMrtA2Mt'}}</td>\n    </tr>\n    <tr>\n      <th>8303</th>\n      <td>LUK2Wptf0GJyjbxC</td>\n      <td>systems/pf2e/icons/default-icons/melee.svg</td>\n      <td>Staff</td>\n      <td>1200000</td>\n      <td>{'attack': {'value': ''}, 'attackEffects': {'c...</td>\n      <td>melee</td>\n      <td>{'pf2e': {'linkedWeapon': 'FmrlYFHVWvorITqL'}}</td>\n    </tr>\n    <tr>\n      <th>11114</th>\n      <td>R4jXbSxWyqNtYJyp</td>\n      <td>systems/pf2e/icons/default-icons/melee.svg</td>\n      <td>Thumb Spike</td>\n      <td>100000</td>\n      <td>{'attack': {'value': ''}, 'attackEffects': {'v...</td>\n      <td>melee</td>\n      <td>NaN</td>\n    </tr>\n    <tr>\n      <th>12229</th>\n      <td>XMTEsGgReo4d8QMB</td>\n      <td>systems/pf2e/icons/default-icons/melee.svg</td>\n      <td>Katana</td>\n      <td>1200000</td>\n      <td>{'attack': {'value': ''}, 'attackEffects': {'v...</td>\n      <td>melee</td>\n      <td>{'pf2e': {'linkedWeapon': 'iznQySJVx9S3aKAQ'}}</td>\n    </tr>\n    <tr>\n      <th>12458</th>\n      <td>wPLUpFiWxDX00EQJ</td>\n      <td>systems/pf2e/icons/default-icons/melee.svg</td>\n      <td>Horn</td>\n      <td>100000</td>\n      <td>{'attack': {'value': ''}, 'attackEffects': {'v...</td>\n      <td>melee</td>\n      <td>NaN</td>\n    </tr>\n    <tr>\n      <th>12528</th>\n      <td>HWKLKpUPvbnvqEcp</td>\n      <td>systems/pf2e/icons/default-icons/melee.svg</td>\n      <td>Horn</td>\n      <td>100000</td>\n      <td>{'attack': {'value': ''}, 'attackEffects': {'v...</td>\n      <td>melee</td>\n      <td>NaN</td>\n    </tr>\n    <tr>\n      <th>12615</th>\n      <td>ZdHLSjspChUCaebu</td>\n      <td>systems/pf2e/icons/default-icons/melee.svg</td>\n      <td>Rhoka Sword</td>\n      <td>900000</td>\n      <td>{'attack': {'value': ''}, 'attackEffects': {'v...</td>\n      <td>melee</td>\n      <td>{'pf2e': {'linkedWeapon': 'Axe5L3i8OXoYZuLk'}}</td>\n    </tr>\n    <tr>\n      <th>12704</th>\n      <td>0Nlywj3cWzzzNsFd</td>\n      <td>systems/pf2e/icons/default-icons/melee.svg</td>\n      <td>Bastard Sword</td>\n      <td>700000</td>\n      <td>{'attack': {'value': ''}, 'attackEffects': {'c...</td>\n      <td>melee</td>\n      <td>{'pf2e': {'linkedWeapon': 'ippiazWAmHg5l3F6'}}</td>\n    </tr>\n    <tr>\n      <th>13473</th>\n      <td>VHBwi6X1gEpQ8YsT</td>\n      <td>systems/pf2e/icons/default-icons/melee.svg</td>\n      <td>Flaming Bastard Sword</td>\n      <td>1500000</td>\n      <td>{'attack': {'value': ''}, 'attackEffects': {'v...</td>\n      <td>melee</td>\n      <td>{'pf2e': {'linkedWeapon': 'tOHJkoP70gzyQa0q'}}</td>\n    </tr>\n    <tr>\n      <th>13557</th>\n      <td>YvhSv5FSqLRo98YJ</td>\n      <td>systems/pf2e/icons/default-icons/melee.svg</td>\n      <td>Horn</td>\n      <td>100000</td>\n      <td>{'attack': {'value': ''}, 'attackEffects': {'v...</td>\n      <td>melee</td>\n      <td>NaN</td>\n    </tr>\n    <tr>\n      <th>14564</th>\n      <td>2oF9dlmEoHZ6o4U9</td>\n      <td>systems/pf2e/icons/default-icons/melee.svg</td>\n      <td>Bastard Sword</td>\n      <td>500000</td>\n      <td>{'attack': {'value': ''}, 'attackEffects': {'v...</td>\n      <td>melee</td>\n      <td>{'pf2e': {'linkedWeapon': 'bol3nFbFk0gXhnBT'}}</td>\n    </tr>\n    <tr>\n      <th>14877</th>\n      <td>ILDPyfeR9ijXko3B</td>\n      <td>systems/pf2e/icons/default-icons/melee.svg</td>\n      <td>Jaws</td>\n      <td>600000</td>\n      <td>{'attack': {'value': ''}, 'attackEffects': {'c...</td>\n      <td>melee</td>\n      <td>NaN</td>\n    </tr>\n    <tr>\n      <th>15091</th>\n      <td>STN5ZaMm14HJIg38</td>\n      <td>systems/pf2e/icons/default-icons/melee.svg</td>\n      <td>Jaws</td>\n      <td>400000</td>\n      <td>{'attack': {'value': ''}, 'attackEffects': {'c...</td>\n      <td>melee</td>\n      <td>NaN</td>\n    </tr>\n    <tr>\n      <th>15238</th>\n      <td>fKdYArB4XGbeZO0e</td>\n      <td>systems/pf2e/icons/default-icons/melee.svg</td>\n      <td>Staff</td>\n      <td>700000</td>\n      <td>{'attack': {'value': ''}, 'attackEffects': {'c...</td>\n      <td>melee</td>\n      <td>NaN</td>\n    </tr>\n    <tr>\n      <th>15256</th>\n      <td>lHGpzeVpbkAh9PNL</td>\n      <td>systems/pf2e/icons/default-icons/melee.svg</td>\n      <td>Bastard Sword</td>\n      <td>1100000</td>\n      <td>{'attack': {'value': ''}, 'attackEffects': {'c...</td>\n      <td>melee</td>\n      <td>{'pf2e': {'linkedWeapon': 'KYUdiGlWt4YhP3za'}}</td>\n    </tr>\n    <tr>\n      <th>15871</th>\n      <td>1zABoyA2x54PjRbW</td>\n      <td>systems/pf2e/icons/default-icons/melee.svg</td>\n      <td>Staff</td>\n      <td>1400000</td>\n      <td>{'attack': {'value': ''}, 'attackEffects': {'c...</td>\n      <td>melee</td>\n      <td>{'pf2e': {'linkedWeapon': 'O4OD37pDdJ7DDfXC'}}</td>\n    </tr>\n    <tr>\n      <th>16046</th>\n      <td>6ZOExAAHG9cE1G7V</td>\n      <td>systems/pf2e/icons/default-icons/melee.svg</td>\n      <td>Jaws</td>\n      <td>4000000</td>\n      <td>{'attack': {'value': ''}, 'attackEffects': {'c...</td>\n      <td>melee</td>\n      <td>NaN</td>\n    </tr>\n    <tr>\n      <th>17004</th>\n      <td>bsKbGLCEij4kqAPY</td>\n      <td>systems/pf2e/icons/default-icons/melee.svg</td>\n      <td>Ice Staff</td>\n      <td>2700000</td>\n      <td>{'attack': {'value': ''}, 'attackEffects': {'c...</td>\n      <td>melee</td>\n      <td>NaN</td>\n    </tr>\n    <tr>\n      <th>17104</th>\n      <td>6ZOExAAHG9cE1G7V</td>\n      <td>systems/pf2e/icons/default-icons/melee.svg</td>\n      <td>Jaws</td>\n      <td>500000</td>\n      <td>{'attack': {'value': ''}, 'attackEffects': {'c...</td>\n      <td>melee</td>\n      <td>NaN</td>\n    </tr>\n    <tr>\n      <th>17485</th>\n      <td>c2jgSAE0FH6AmDJ2</td>\n      <td>systems/pf2e/icons/default-icons/melee.svg</td>\n      <td>Jaws</td>\n      <td>2500000</td>\n      <td>{'attack': {'value': ''}, 'attackEffects': {'c...</td>\n      <td>melee</td>\n      <td>NaN</td>\n    </tr>\n    <tr>\n      <th>17935</th>\n      <td>dUtAAFoA9eQnE0J5</td>\n      <td>systems/pf2e/icons/default-icons/melee.svg</td>\n      <td>Disrupting Staff</td>\n      <td>800000</td>\n      <td>{'attack': {'value': ''}, 'attackEffects': {'c...</td>\n      <td>melee</td>\n      <td>{'pf2e': {'linkedWeapon': 'nRi5UQ9NCKpzyazh'}}</td>\n    </tr>\n    <tr>\n      <th>18362</th>\n      <td>PO5OyKjxeT0rYaYl</td>\n      <td>systems/pf2e/icons/default-icons/melee.svg</td>\n      <td>Jaws</td>\n      <td>2600000</td>\n      <td>{'attack': {'value': ''}, 'attackEffects': {'c...</td>\n      <td>melee</td>\n      <td>NaN</td>\n    </tr>\n    <tr>\n      <th>18713</th>\n      <td>STN5ZaMm14HJIg38</td>\n      <td>systems/pf2e/icons/default-icons/melee.svg</td>\n      <td>Jaws</td>\n      <td>1800000</td>\n      <td>{'attack': {'value': ''}, 'attackEffects': {'c...</td>\n      <td>melee</td>\n      <td>NaN</td>\n    </tr>\n    <tr>\n      <th>18799</th>\n      <td>rvv40f4QmFMFlF5L</td>\n      <td>systems/pf2e/icons/default-icons/melee.svg</td>\n      <td>Jaws</td>\n      <td>3200000</td>\n      <td>{'attack': {'value': ''}, 'attackEffects': {'c...</td>\n      <td>melee</td>\n      <td>NaN</td>\n    </tr>\n    <tr>\n      <th>19098</th>\n      <td>PO5OyKjxeT0rYaYl</td>\n      <td>systems/pf2e/icons/default-icons/melee.svg</td>\n      <td>Jaws</td>\n      <td>500000</td>\n      <td>{'attack': {'value': ''}, 'attackEffects': {'c...</td>\n      <td>melee</td>\n      <td>NaN</td>\n    </tr>\n    <tr>\n      <th>19363</th>\n      <td>ILDPyfeR9ijXko3B</td>\n      <td>systems/pf2e/icons/default-icons/melee.svg</td>\n      <td>Jaws</td>\n      <td>3400000</td>\n      <td>{'attack': {'value': ''}, 'attackEffects': {'c...</td>\n      <td>melee</td>\n      <td>NaN</td>\n    </tr>\n    <tr>\n      <th>20244</th>\n      <td>rvv40f4QmFMFlF5L</td>\n      <td>systems/pf2e/icons/default-icons/melee.svg</td>\n      <td>Jaws</td>\n      <td>500000</td>\n      <td>{'attack': {'value': ''}, 'attackEffects': {'c...</td>\n      <td>melee</td>\n      <td>NaN</td>\n    </tr>\n    <tr>\n      <th>20641</th>\n      <td>R0HLiBnfzTgXGH4w</td>\n      <td>systems/pf2e/icons/default-icons/melee.svg</td>\n      <td>Staff</td>\n      <td>400000</td>\n      <td>{'attack': {'value': ''}, 'attackEffects': {'c...</td>\n      <td>melee</td>\n      <td>{'pf2e': {'linkedWeapon': 'xYZWdN170kBR11YR'}}</td>\n    </tr>\n    <tr>\n      <th>21390</th>\n      <td>D8VyX86E4dNG3pvk</td>\n      <td>systems/pf2e/icons/default-icons/melee.svg</td>\n      <td>Katana</td>\n      <td>1400000</td>\n      <td>{'attack': {'value': ''}, 'attackEffects': {'c...</td>\n      <td>melee</td>\n      <td>{'pf2e': {'linkedWeapon': 'RLIvbPC5j2g106DY'}}</td>\n    </tr>\n    <tr>\n      <th>21446</th>\n      <td>c2jgSAE0FH6AmDJ2</td>\n      <td>systems/pf2e/icons/default-icons/melee.svg</td>\n      <td>Jaws</td>\n      <td>500000</td>\n      <td>{'attack': {'value': ''}, 'attackEffects': {'c...</td>\n      <td>melee</td>\n      <td>NaN</td>\n    </tr>\n  </tbody>\n</table>\n</div>"
     },
     "execution_count": 104,
     "metadata": {},
     "output_type": "execute_result"
    }
   ],
   "source": [
    "items.loc[rules[rules.notnull()].index]"
   ],
   "metadata": {
    "collapsed": false
   }
  },
  {
   "cell_type": "code",
   "execution_count": 107,
   "outputs": [
    {
     "data": {
      "text/plain": "[[{'domain': 'damage-roll',\n   'key': 'RollOption',\n   'label': 'PF2E.SpecificRule.TwoHanded.BastardSword',\n   'option': 'two-handed',\n   'toggleable': True},\n  {'key': 'DamageDice',\n   'label': 'PF2E.TraitTwoHandD12',\n   'override': {'dieSize': 'd12'},\n   'predicate': ['two-handed'],\n   'selector': '{item|_id}-damage'}]]"
     },
     "execution_count": 107,
     "metadata": {},
     "output_type": "execute_result"
    }
   ],
   "source": [
    "list(system.loc[[688]].rules)"
   ],
   "metadata": {
    "collapsed": false
   }
  },
  {
   "cell_type": "markdown",
   "source": [
    "Sword can be used as two handed - different weapon damage\n",
    "\n",
    "https://2e.aonprd.com/Weapons.aspx?ID=15"
   ],
   "metadata": {
    "collapsed": false
   }
  },
  {
   "cell_type": "code",
   "execution_count": 106,
   "outputs": [
    {
     "data": {
      "text/plain": "4347    {'8jnj0hksnw5gexmht4wt': {'damage': '1', 'dama...\nName: damageRolls, dtype: object"
     },
     "execution_count": 106,
     "metadata": {},
     "output_type": "execute_result"
    }
   ],
   "source": [
    "system.loc[[4347]].damageRolls"
   ],
   "metadata": {
    "collapsed": false
   }
  },
  {
   "cell_type": "code",
   "execution_count": 103,
   "outputs": [
    {
     "data": {
      "text/plain": "[[{'key': 'Note',\n   'outcome': ['success'],\n   'selector': '{item|_id}-damage',\n   'text': 'PF2E.BombNotes.AcidFlask.Moderate.success',\n   'visibility': 'gm'},\n  {'key': 'Note',\n   'outcome': ['criticalSuccess'],\n   'selector': '{item|_id}-damage',\n   'text': 'PF2E.BombNotes.AcidFlask.Moderate.criticalSuccess',\n   'visibility': 'gm'}]]"
     },
     "execution_count": 103,
     "metadata": {},
     "output_type": "execute_result"
    }
   ],
   "source": [
    "list(system.loc[[4347]].rules)"
   ],
   "metadata": {
    "collapsed": false
   }
  },
  {
   "cell_type": "markdown",
   "source": [
    "Notes for gm (?)"
   ],
   "metadata": {
    "collapsed": false
   }
  },
  {
   "cell_type": "markdown",
   "source": [
    "**Can be useful** - e.g. items with more than one damage cases"
   ],
   "metadata": {
    "collapsed": false
   }
  },
  {
   "cell_type": "markdown",
   "source": [
    "### system: slug"
   ],
   "metadata": {
    "collapsed": false
   }
  },
  {
   "cell_type": "code",
   "execution_count": 48,
   "outputs": [],
   "source": [
    "slug = system.slug"
   ],
   "metadata": {
    "collapsed": false
   }
  },
  {
   "cell_type": "code",
   "execution_count": 49,
   "outputs": [
    {
     "name": "stdout",
     "output_type": "stream",
     "text": [
      "<class 'pandas.core.series.Series'>\n",
      "Int64Index: 2419 entries, 3 to 21721\n",
      "Series name: slug\n",
      "Non-Null Count  Dtype \n",
      "--------------  ----- \n",
      "2 non-null      object\n",
      "dtypes: object(1)\n",
      "memory usage: 37.8+ KB\n"
     ]
    }
   ],
   "source": [
    "slug.info()"
   ],
   "metadata": {
    "collapsed": false
   }
  },
  {
   "cell_type": "code",
   "execution_count": 50,
   "outputs": [
    {
     "data": {
      "text/plain": "sphere-of-oblivion    1\nnull                  1\nName: slug, dtype: int64"
     },
     "execution_count": 50,
     "metadata": {},
     "output_type": "execute_result"
    }
   ],
   "source": [
    "slug.value_counts()"
   ],
   "metadata": {
    "collapsed": false
   }
  },
  {
   "cell_type": "markdown",
   "source": [
    "*Not important*"
   ],
   "metadata": {
    "collapsed": false
   }
  },
  {
   "cell_type": "markdown",
   "source": [
    "### system: source"
   ],
   "metadata": {
    "collapsed": false
   }
  },
  {
   "cell_type": "code",
   "execution_count": 51,
   "outputs": [],
   "source": [
    "source = unpack_column(system, column_name=\"source\")\n",
    "source = source.replace(\"\", np.nan)"
   ],
   "metadata": {
    "collapsed": false
   }
  },
  {
   "cell_type": "code",
   "execution_count": 52,
   "outputs": [
    {
     "name": "stdout",
     "output_type": "stream",
     "text": [
      "<class 'pandas.core.frame.DataFrame'>\n",
      "Int64Index: 2419 entries, 3 to 21721\n",
      "Data columns (total 1 columns):\n",
      " #   Column  Non-Null Count  Dtype  \n",
      "---  ------  --------------  -----  \n",
      " 0   value   0 non-null      float64\n",
      "dtypes: float64(1)\n",
      "memory usage: 37.8 KB\n"
     ]
    }
   ],
   "source": [
    "source.info()"
   ],
   "metadata": {
    "collapsed": false
   }
  },
  {
   "cell_type": "code",
   "execution_count": 53,
   "outputs": [
    {
     "data": {
      "text/plain": "    value\n3     NaN\n4     NaN\n5     NaN\n23    NaN\n24    NaN",
      "text/html": "<div>\n<style scoped>\n    .dataframe tbody tr th:only-of-type {\n        vertical-align: middle;\n    }\n\n    .dataframe tbody tr th {\n        vertical-align: top;\n    }\n\n    .dataframe thead th {\n        text-align: right;\n    }\n</style>\n<table border=\"1\" class=\"dataframe\">\n  <thead>\n    <tr style=\"text-align: right;\">\n      <th></th>\n      <th>value</th>\n    </tr>\n  </thead>\n  <tbody>\n    <tr>\n      <th>3</th>\n      <td>NaN</td>\n    </tr>\n    <tr>\n      <th>4</th>\n      <td>NaN</td>\n    </tr>\n    <tr>\n      <th>5</th>\n      <td>NaN</td>\n    </tr>\n    <tr>\n      <th>23</th>\n      <td>NaN</td>\n    </tr>\n    <tr>\n      <th>24</th>\n      <td>NaN</td>\n    </tr>\n  </tbody>\n</table>\n</div>"
     },
     "execution_count": 53,
     "metadata": {},
     "output_type": "execute_result"
    }
   ],
   "source": [
    "source.head()"
   ],
   "metadata": {
    "collapsed": false
   }
  },
  {
   "cell_type": "markdown",
   "source": [
    "Only null values\n",
    "\n",
    "*Not important*"
   ],
   "metadata": {
    "collapsed": false
   }
  },
  {
   "cell_type": "markdown",
   "source": [
    "### system: traits"
   ],
   "metadata": {
    "collapsed": false
   }
  },
  {
   "cell_type": "code",
   "execution_count": 54,
   "outputs": [],
   "source": [
    "traits = unpack_column(system, column_name=\"traits\")"
   ],
   "metadata": {
    "collapsed": false
   }
  },
  {
   "cell_type": "code",
   "execution_count": 55,
   "outputs": [
    {
     "name": "stdout",
     "output_type": "stream",
     "text": [
      "<class 'pandas.core.frame.DataFrame'>\n",
      "Int64Index: 2419 entries, 3 to 21721\n",
      "Data columns (total 2 columns):\n",
      " #   Column  Non-Null Count  Dtype \n",
      "---  ------  --------------  ----- \n",
      " 0   rarity  2413 non-null   object\n",
      " 1   value   2419 non-null   object\n",
      "dtypes: object(2)\n",
      "memory usage: 56.7+ KB\n"
     ]
    }
   ],
   "source": [
    "traits.info()"
   ],
   "metadata": {
    "collapsed": false
   }
  },
  {
   "cell_type": "code",
   "execution_count": 56,
   "outputs": [
    {
     "data": {
      "text/plain": "    rarity                      value\n3   common  [cold, magical, reach-10]\n4   common           [agile, magical]\n5   common        [magical, reach-15]\n23  common          [reach-20, sweep]\n24  common                 [reach-15]",
      "text/html": "<div>\n<style scoped>\n    .dataframe tbody tr th:only-of-type {\n        vertical-align: middle;\n    }\n\n    .dataframe tbody tr th {\n        vertical-align: top;\n    }\n\n    .dataframe thead th {\n        text-align: right;\n    }\n</style>\n<table border=\"1\" class=\"dataframe\">\n  <thead>\n    <tr style=\"text-align: right;\">\n      <th></th>\n      <th>rarity</th>\n      <th>value</th>\n    </tr>\n  </thead>\n  <tbody>\n    <tr>\n      <th>3</th>\n      <td>common</td>\n      <td>[cold, magical, reach-10]</td>\n    </tr>\n    <tr>\n      <th>4</th>\n      <td>common</td>\n      <td>[agile, magical]</td>\n    </tr>\n    <tr>\n      <th>5</th>\n      <td>common</td>\n      <td>[magical, reach-15]</td>\n    </tr>\n    <tr>\n      <th>23</th>\n      <td>common</td>\n      <td>[reach-20, sweep]</td>\n    </tr>\n    <tr>\n      <th>24</th>\n      <td>common</td>\n      <td>[reach-15]</td>\n    </tr>\n  </tbody>\n</table>\n</div>"
     },
     "execution_count": 56,
     "metadata": {},
     "output_type": "execute_result"
    }
   ],
   "source": [
    "traits.head()"
   ],
   "metadata": {
    "collapsed": false
   }
  },
  {
   "cell_type": "code",
   "execution_count": 57,
   "outputs": [
    {
     "data": {
      "text/plain": "common    2413\nName: rarity, dtype: int64"
     },
     "execution_count": 57,
     "metadata": {},
     "output_type": "execute_result"
    }
   ],
   "source": [
    "traits.rarity.value_counts()"
   ],
   "metadata": {
    "collapsed": false
   }
  },
  {
   "cell_type": "markdown",
   "source": [
    "Everything is common"
   ],
   "metadata": {
    "collapsed": false
   }
  },
  {
   "cell_type": "code",
   "execution_count": 58,
   "outputs": [],
   "source": [
    "traits_data = []\n",
    "\n",
    "for _, val in traits.value.iteritems():\n",
    "    traits_data += val"
   ],
   "metadata": {
    "collapsed": false
   }
  },
  {
   "cell_type": "code",
   "execution_count": 59,
   "outputs": [
    {
     "data": {
      "text/plain": "agile                 876\nmagical               845\nreach-10              442\nfinesse               378\nreach-15              274\n                     ... \nthrown-100              1\njousting-d6             1\nconjuration             1\nrange-200               1\nrange-increment-70      1\nLength: 120, dtype: int64"
     },
     "execution_count": 59,
     "metadata": {},
     "output_type": "execute_result"
    }
   ],
   "source": [
    "unique_traits = set(traits_data)\n",
    "traits_val = {key: traits_data.count(key) for key in unique_traits}\n",
    "traits_val = dict(sorted(traits_val.items(), key=lambda x: -x[1]))\n",
    "pd.Series(traits_val)"
   ],
   "metadata": {
    "collapsed": false
   }
  },
  {
   "cell_type": "code",
   "execution_count": 65,
   "outputs": [],
   "source": [
    "import re\n",
    "\n",
    "\n",
    "roll_traits = []\n",
    "number_traits = []\n",
    "for trait in unique_traits:\n",
    "    if bool(re.search(r\"\\d\", trait)):\n",
    "        if bool(re.search(r\"d\\d\", trait)):\n",
    "            roll_traits.append(trait)\n",
    "        else:\n",
    "            number_traits.append(trait)"
   ],
   "metadata": {
    "collapsed": false
   }
  },
  {
   "cell_type": "code",
   "execution_count": 66,
   "outputs": [
    {
     "data": {
      "text/plain": "0     two-hand-d10\n1        fatal-d12\n2        deadly-d6\n3       deadly-2d8\n4       deadly-d10\n5      deadly-2d12\n6         fatal-d8\n7        fatal-d10\n8      two-hand-d8\n9     two-hand-d12\n10     jousting-d6\n11       deadly-d8\n12     deadly-3d12\n13     deadly-3d10\n14     deadly-2d10\n15      deadly-d12\nName: roll_traits, dtype: object"
     },
     "execution_count": 66,
     "metadata": {},
     "output_type": "execute_result"
    }
   ],
   "source": [
    "pd.Series(data=roll_traits, name=\"roll_traits\")"
   ],
   "metadata": {
    "collapsed": false
   }
  },
  {
   "cell_type": "code",
   "execution_count": 67,
   "outputs": [
    {
     "data": {
      "text/plain": "0     range-increment-120\n1               range-500\n2               volley-20\n3               range-300\n4      range-increment-60\n5      range-increment-40\n6                reach-10\n7               thrown-10\n8               thrown-20\n9                reload-1\n10               range-20\n11                reach-0\n12               reach-20\n13              range-100\n14     range-increment-20\n15              reach-100\n16      range-increment-5\n17     range-increment-15\n18     range-increment-30\n19    range-increment-150\n20               range-40\n21              volley-50\n22               range-60\n23               range-90\n24     range-increment-75\n25               reach-60\n26               range-10\n27              thrown-60\n28              thrown-30\n29              range-120\n30    range-increment-200\n31               reload-2\n32               reach-15\n33    range-increment-180\n34             thrown-200\n35     range-increment-80\n36             thrown-100\n37    range-increment-100\n38     range-increment-50\n39               reach-50\n40              range-200\n41              volley-30\n42               reach-40\n43               reach-25\n44     range-increment-10\n45               reach-30\n46     range-increment-70\n47               reload-0\n48               range-30\nName: number_traits, dtype: object"
     },
     "execution_count": 67,
     "metadata": {},
     "output_type": "execute_result"
    }
   ],
   "source": [
    "pd.Series(data=number_traits, name=\"number_traits\")"
   ],
   "metadata": {
    "collapsed": false
   }
  },
  {
   "cell_type": "markdown",
   "source": [
    "rarity - everything common => *probobly not important*\n",
    "\n",
    "values:\n",
    "\n",
    "**Can be useful**\n",
    "\n",
    "e.g.\n",
    "* deadly traits: https://2e.aonprd.com/Traits.aspx?ID=174\n",
    "   * *\"On a critical hit, the weapon adds a weapon damage die of the listed size\"*"
   ],
   "metadata": {
    "collapsed": false
   }
  },
  {
   "cell_type": "markdown",
   "source": [
    "### system: weaponType"
   ],
   "metadata": {
    "collapsed": false
   }
  },
  {
   "cell_type": "code",
   "execution_count": 70,
   "outputs": [],
   "source": [
    "weaponType = unpack_column(system, column_name=\"weaponType\")"
   ],
   "metadata": {
    "collapsed": false
   }
  },
  {
   "cell_type": "code",
   "execution_count": 71,
   "outputs": [
    {
     "name": "stdout",
     "output_type": "stream",
     "text": [
      "<class 'pandas.core.frame.DataFrame'>\n",
      "Int64Index: 2419 entries, 3 to 21721\n",
      "Data columns (total 1 columns):\n",
      " #   Column  Non-Null Count  Dtype \n",
      "---  ------  --------------  ----- \n",
      " 0   value   2419 non-null   object\n",
      "dtypes: object(1)\n",
      "memory usage: 37.8+ KB\n"
     ]
    }
   ],
   "source": [
    "weaponType.info()"
   ],
   "metadata": {
    "collapsed": false
   }
  },
  {
   "cell_type": "code",
   "execution_count": 72,
   "outputs": [
    {
     "data": {
      "text/plain": "    value\n3   melee\n4   melee\n5   melee\n23  melee\n24  melee",
      "text/html": "<div>\n<style scoped>\n    .dataframe tbody tr th:only-of-type {\n        vertical-align: middle;\n    }\n\n    .dataframe tbody tr th {\n        vertical-align: top;\n    }\n\n    .dataframe thead th {\n        text-align: right;\n    }\n</style>\n<table border=\"1\" class=\"dataframe\">\n  <thead>\n    <tr style=\"text-align: right;\">\n      <th></th>\n      <th>value</th>\n    </tr>\n  </thead>\n  <tbody>\n    <tr>\n      <th>3</th>\n      <td>melee</td>\n    </tr>\n    <tr>\n      <th>4</th>\n      <td>melee</td>\n    </tr>\n    <tr>\n      <th>5</th>\n      <td>melee</td>\n    </tr>\n    <tr>\n      <th>23</th>\n      <td>melee</td>\n    </tr>\n    <tr>\n      <th>24</th>\n      <td>melee</td>\n    </tr>\n  </tbody>\n</table>\n</div>"
     },
     "execution_count": 72,
     "metadata": {},
     "output_type": "execute_result"
    }
   ],
   "source": [
    "weaponType.head()"
   ],
   "metadata": {
    "collapsed": false
   }
  },
  {
   "cell_type": "code",
   "execution_count": 73,
   "outputs": [
    {
     "data": {
      "text/plain": "melee     2075\nranged     344\nName: value, dtype: int64"
     },
     "execution_count": 73,
     "metadata": {},
     "output_type": "execute_result"
    }
   ],
   "source": [
    "weaponType.value.value_counts()"
   ],
   "metadata": {
    "collapsed": false
   }
  },
  {
   "cell_type": "markdown",
   "source": [
    "Two types:\n",
    "* melee\n",
    "* ranged\n",
    "\n",
    "**Important**"
   ],
   "metadata": {
    "collapsed": false
   }
  },
  {
   "cell_type": "markdown",
   "source": [
    "### system: schema"
   ],
   "metadata": {
    "collapsed": false
   }
  },
  {
   "cell_type": "code",
   "execution_count": 76,
   "outputs": [],
   "source": [
    "schema = unpack_column(system, column_name=\"schema\")"
   ],
   "metadata": {
    "collapsed": false
   }
  },
  {
   "cell_type": "code",
   "execution_count": 77,
   "outputs": [
    {
     "name": "stdout",
     "output_type": "stream",
     "text": [
      "<class 'pandas.core.frame.DataFrame'>\n",
      "Int64Index: 2419 entries, 3 to 21721\n",
      "Data columns (total 2 columns):\n",
      " #   Column         Non-Null Count  Dtype  \n",
      "---  ------         --------------  -----  \n",
      " 0   version        2419 non-null   float64\n",
      " 1   lastMigration  0 non-null      float64\n",
      "dtypes: float64(2)\n",
      "memory usage: 56.7 KB\n"
     ]
    }
   ],
   "source": [
    "schema.info()"
   ],
   "metadata": {
    "collapsed": false
   }
  },
  {
   "cell_type": "code",
   "execution_count": 78,
   "outputs": [
    {
     "data": {
      "text/plain": "    version  lastMigration\n3     0.827            NaN\n4     0.827            NaN\n5     0.827            NaN\n23    0.827            NaN\n24    0.827            NaN",
      "text/html": "<div>\n<style scoped>\n    .dataframe tbody tr th:only-of-type {\n        vertical-align: middle;\n    }\n\n    .dataframe tbody tr th {\n        vertical-align: top;\n    }\n\n    .dataframe thead th {\n        text-align: right;\n    }\n</style>\n<table border=\"1\" class=\"dataframe\">\n  <thead>\n    <tr style=\"text-align: right;\">\n      <th></th>\n      <th>version</th>\n      <th>lastMigration</th>\n    </tr>\n  </thead>\n  <tbody>\n    <tr>\n      <th>3</th>\n      <td>0.827</td>\n      <td>NaN</td>\n    </tr>\n    <tr>\n      <th>4</th>\n      <td>0.827</td>\n      <td>NaN</td>\n    </tr>\n    <tr>\n      <th>5</th>\n      <td>0.827</td>\n      <td>NaN</td>\n    </tr>\n    <tr>\n      <th>23</th>\n      <td>0.827</td>\n      <td>NaN</td>\n    </tr>\n    <tr>\n      <th>24</th>\n      <td>0.827</td>\n      <td>NaN</td>\n    </tr>\n  </tbody>\n</table>\n</div>"
     },
     "execution_count": 78,
     "metadata": {},
     "output_type": "execute_result"
    }
   ],
   "source": [
    "schema.head()"
   ],
   "metadata": {
    "collapsed": false
   }
  },
  {
   "cell_type": "code",
   "execution_count": 79,
   "outputs": [
    {
     "data": {
      "text/plain": "0.827    2419\nName: version, dtype: int64"
     },
     "execution_count": 79,
     "metadata": {},
     "output_type": "execute_result"
    }
   ],
   "source": [
    "schema.version.value_counts()"
   ],
   "metadata": {
    "collapsed": false
   }
  },
  {
   "cell_type": "markdown",
   "source": [
    "schema:\n",
    "* version - everywhere the same one\n",
    "* lastMigration - only null values\n",
    "\n",
    "*Not important*"
   ],
   "metadata": {
    "collapsed": false
   }
  },
  {
   "cell_type": "markdown",
   "source": [
    "## Summary\n",
    "* attack - not important (only null values)\n",
    "* attackEffects:\n",
    "    * custom - not important (only empty values)\n",
    "    * value - *+/-* (can be useful for ifs)\n",
    "* bonus - **important**\n",
    "* damageRolls (weird keys):\n",
    "    * damage - **important**\n",
    "    * damageType - *can be useful*\n",
    "    * category - probobly not important\n",
    "* description - **can be important** (info about possible additional damage)\n",
    "* rules - **can be useful** (info about possible additional damage)\n",
    "* slug - not important\n",
    "* source - not important (only null values)\n",
    "* traits:\n",
    "    * rarity - not important (everything common)\n",
    "    * value - (info about damage - (?)) - may be the same as one in rules\n",
    "* weaponType - **important**\n",
    "* schema - not important"
   ],
   "metadata": {
    "collapsed": false
   }
  },
  {
   "cell_type": "code",
   "execution_count": null,
   "outputs": [],
   "source": [],
   "metadata": {
    "collapsed": false
   }
  }
 ],
 "metadata": {
  "kernelspec": {
   "display_name": "Python 3",
   "language": "python",
   "name": "python3"
  },
  "language_info": {
   "codemirror_mode": {
    "name": "ipython",
    "version": 2
   },
   "file_extension": ".py",
   "mimetype": "text/x-python",
   "name": "python",
   "nbconvert_exporter": "python",
   "pygments_lexer": "ipython2",
   "version": "2.7.6"
  }
 },
 "nbformat": 4,
 "nbformat_minor": 0
}
