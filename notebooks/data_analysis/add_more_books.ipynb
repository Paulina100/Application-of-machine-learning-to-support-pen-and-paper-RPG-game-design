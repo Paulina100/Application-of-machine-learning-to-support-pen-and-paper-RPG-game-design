{
 "cells": [
  {
   "cell_type": "markdown",
   "source": [
    "# Add more books to dataset"
   ],
   "metadata": {
    "collapsed": false
   }
  },
  {
   "cell_type": "markdown",
   "source": [
    "## Load books names"
   ],
   "metadata": {
    "collapsed": false
   }
  },
  {
   "cell_type": "code",
   "execution_count": 1,
   "metadata": {
    "collapsed": true
   },
   "outputs": [],
   "source": [
    "import numpy as np\n",
    "import pandas as pd\n",
    "import sys\n",
    "\n",
    "import os\n",
    "import pathlib\n",
    "\n",
    "\n",
    "sys.path.append(\"../../..\")\n",
    "from training.creating_dataset import load_and_preprocess_data, load_data\n",
    "\n",
    "current_path = os.getcwd()\n",
    "DATASETS_DIR = pathlib.Path(current_path).parent.parent / \"pathfinder_2e_data\"\n",
    "\n",
    "# DATASET_PATHS = [f\"{DATASETS_DIR}/{file}\" for file in os.listdir(DATASETS_DIR)]\n",
    "BOOKS = [file for file in os.listdir(DATASETS_DIR)]"
   ]
  },
  {
   "cell_type": "code",
   "execution_count": 2,
   "outputs": [
    {
     "data": {
      "text/plain": "['abomination-vaults-bestiary.db',\n 'action-macros.db',\n 'actions.db',\n 'adventure-specific-actions.db',\n 'age-of-ashes-bestiary.db',\n 'agents-of-edgewatch-bestiary.db',\n 'ancestries.db',\n 'ancestryfeatures.db',\n 'april-fools-bestiary.db',\n 'backgrounds.db',\n 'bestiary-ability-glossary-srd.db',\n 'bestiary-effects.db',\n 'bestiary-family-ability-glossary.db',\n 'blog-bestiary.db',\n 'blood-lords-bestiary.db',\n 'book-of-the-dead-bestiary.db',\n 'boons-and-curses.db',\n 'campaign-effects.db',\n 'classes.db',\n 'classfeatures.db',\n 'conditions.db',\n 'criticaldeck.db',\n 'crown-of-the-kobold-king-bestiary.db',\n 'deities.db',\n 'domains.db',\n 'equipment-effects.db',\n 'equipment.db',\n 'example.db',\n 'extinction-curse-bestiary.db',\n 'fall-of-plaguestone.db',\n 'familiar-abilities.db',\n 'feat-effects.db',\n 'feats.db',\n 'fists-of-the-ruby-phoenix-bestiary.db',\n 'gatewalkers-bestiary.db',\n 'gmg-srd.db',\n 'hazards.db',\n 'heritages.db',\n 'hero-point-deck.db',\n 'iconics.db',\n 'impossible-lands-bestiary.db',\n 'journals.db',\n 'kingmaker-bestiary.db',\n 'macros.db',\n 'malevolence-bestiary.db',\n 'menace-under-otari-bestiary.db',\n 'monsters-of-myth-bestiary.db',\n 'mwangi-expanse-bestiary.db',\n 'night-of-the-gray-death-bestiary.db',\n 'npc-gallery.db',\n 'one-shot-bestiary.db',\n 'other-effects.db',\n 'outlaws-of-alkenstar-bestiary.db',\n 'paizo-pregens.db',\n 'pathfinder-bestiary-2.db',\n 'pathfinder-bestiary-3.db',\n 'pathfinder-bestiary.db',\n 'pathfinder-dark-archive.db',\n 'pathfinder-society-boons.db',\n 'pfs-introductions-bestiary.db',\n 'pfs-season-1-bestiary.db',\n 'pfs-season-2-bestiary.db',\n 'pfs-season-3-bestiary.db',\n 'pfs-season-4-bestiary.db',\n 'quest-for-the-frozen-flame-bestiary.db',\n 'rollable-tables.db',\n 'shadows-at-sundown-bestiary.db',\n 'spell-effects.db',\n 'spells.db',\n 'strength-of-thousands-bestiary.db',\n 'the-slithering-bestiary.db',\n 'travel-guide-bestiary.db',\n 'troubles-in-otari-bestiary.db',\n 'vehicles.db']"
     },
     "execution_count": 2,
     "metadata": {},
     "output_type": "execute_result"
    }
   ],
   "source": [
    "BOOKS"
   ],
   "metadata": {
    "collapsed": false
   }
  },
  {
   "cell_type": "code",
   "execution_count": 3,
   "outputs": [
    {
     "data": {
      "text/plain": "74"
     },
     "execution_count": 3,
     "metadata": {},
     "output_type": "execute_result"
    }
   ],
   "source": [
    "len(BOOKS)"
   ],
   "metadata": {
    "collapsed": false
   }
  },
  {
   "cell_type": "code",
   "execution_count": 4,
   "outputs": [],
   "source": [
    "features = [\n",
    "    \"cha\",\n",
    "    \"con\",\n",
    "    \"dex\",\n",
    "    \"int\",\n",
    "    \"str\",\n",
    "    \"wis\",\n",
    "    \"ac\",\n",
    "    \"hp\",\n",
    "    \"perception\",\n",
    "    \"fortitude\",\n",
    "    \"reflex\",\n",
    "    \"will\",\n",
    "    \"focus\",\n",
    "    \"land_speed\",\n",
    "    \"num_immunities\",\n",
    "    \"fly\",\n",
    "    \"swim\",\n",
    "    \"climb\",\n",
    "    \"fire_resistance\",\n",
    "    \"cold_resistance\",\n",
    "    \"electricity_resistance\",\n",
    "    \"acid_resistance\",\n",
    "    \"piercing_resistance\",\n",
    "    \"slashing_resistance\",\n",
    "    \"physical_resistance\",\n",
    "    \"bludgeoning_resistance\",\n",
    "    \"mental_resistance\",\n",
    "    \"poison_resistance\",\n",
    "    \"all-damage_resistance\",\n",
    "    \"cold-iron_weakness\",\n",
    "    \"good_weakness\",\n",
    "    \"fire_weakness\",\n",
    "    \"cold_weakness\",\n",
    "    \"area-damage_weakness\",\n",
    "    \"splash-damage_weakness\",\n",
    "    \"evil_weakness\",\n",
    "    \"slashing_weakness\",\n",
    "    \"melee\",\n",
    "    \"ranged\",\n",
    "    \"spells\",\n",
    "]"
   ],
   "metadata": {
    "collapsed": false
   }
  },
  {
   "cell_type": "markdown",
   "source": [
    "## Load and preprocess books\n",
    "Finding books with useful data and updating create_dataset functions to preprocess books."
   ],
   "metadata": {
    "collapsed": false
   }
  },
  {
   "cell_type": "code",
   "execution_count": 5,
   "outputs": [],
   "source": [
    "import json\n",
    "\n",
    "\n",
    "def check_book(path: str) -> (bool, str):\n",
    "    data = []\n",
    "\n",
    "    with open(path) as file:\n",
    "        # loading json strings from files\n",
    "        data += [json.loads(line) for line in file]\n",
    "        file.close()\n",
    "\n",
    "    bestiary = pd.json_normalize(data)\n",
    "\n",
    "    if \"type\" not in bestiary.columns:\n",
    "        return False, \"no type\"\n",
    "\n",
    "    # only npc monsters\n",
    "    bestiary = bestiary[bestiary[\"type\"] == \"npc\"]\n",
    "\n",
    "    if len(bestiary) > 0:\n",
    "        return True, f\"{len(bestiary)}\"\n",
    "\n",
    "    return False, \"no nps\""
   ],
   "metadata": {
    "collapsed": false
   }
  },
  {
   "cell_type": "code",
   "execution_count": 6,
   "outputs": [],
   "source": [
    "class bcolors:\n",
    "    OKGREEN = \"\\033[92m\"\n",
    "    FAIL = \"\\033[91m\"\n",
    "    ENDC = \"\\033[0m\""
   ],
   "metadata": {
    "collapsed": false
   }
  },
  {
   "cell_type": "code",
   "execution_count": 7,
   "outputs": [
    {
     "name": "stdout",
     "output_type": "stream",
     "text": [
      "abomination-vaults-bestiary.db -> \u001B[92maccepted\u001B[0m: 97 npcs\n",
      "action-macros.db -> \u001B[91mrejected\u001B[0m: no nps\n",
      "actions.db -> \u001B[91mrejected\u001B[0m: no nps\n",
      "adventure-specific-actions.db -> \u001B[91mrejected\u001B[0m: no nps\n",
      "age-of-ashes-bestiary.db -> \u001B[92maccepted\u001B[0m: 102 npcs\n",
      "agents-of-edgewatch-bestiary.db -> \u001B[92maccepted\u001B[0m: 150 npcs\n",
      "ancestries.db -> \u001B[91mrejected\u001B[0m: no nps\n",
      "ancestryfeatures.db -> \u001B[91mrejected\u001B[0m: no nps\n",
      "april-fools-bestiary.db -> \u001B[92maccepted\u001B[0m: 9 npcs\n",
      "backgrounds.db -> \u001B[91mrejected\u001B[0m: no nps\n",
      "bestiary-ability-glossary-srd.db -> \u001B[91mrejected\u001B[0m: no nps\n",
      "bestiary-effects.db -> \u001B[91mrejected\u001B[0m: no nps\n",
      "bestiary-family-ability-glossary.db -> \u001B[91mrejected\u001B[0m: no nps\n",
      "blog-bestiary.db -> \u001B[92maccepted\u001B[0m: 19 npcs\n",
      "blood-lords-bestiary.db -> \u001B[92maccepted\u001B[0m: 139 npcs\n",
      "book-of-the-dead-bestiary.db -> \u001B[92maccepted\u001B[0m: 91 npcs\n",
      "boons-and-curses.db -> \u001B[91mrejected\u001B[0m: no nps\n",
      "campaign-effects.db -> \u001B[91mrejected\u001B[0m: no nps\n",
      "classes.db -> \u001B[91mrejected\u001B[0m: no nps\n",
      "classfeatures.db -> \u001B[91mrejected\u001B[0m: no nps\n",
      "conditions.db -> \u001B[91mrejected\u001B[0m: no nps\n",
      "criticaldeck.db -> \u001B[91mrejected\u001B[0m: no type\n",
      "crown-of-the-kobold-king-bestiary.db -> \u001B[92maccepted\u001B[0m: 27 npcs\n",
      "deities.db -> \u001B[91mFAIL\u001B[0m: exception\n",
      "domains.db -> \u001B[91mrejected\u001B[0m: no type\n",
      "equipment-effects.db -> \u001B[91mrejected\u001B[0m: no nps\n",
      "equipment.db -> \u001B[91mFAIL\u001B[0m: exception\n",
      "example.db -> \u001B[91mFAIL\u001B[0m: exception\n",
      "extinction-curse-bestiary.db -> \u001B[92maccepted\u001B[0m: 140 npcs\n",
      "fall-of-plaguestone.db -> \u001B[92maccepted\u001B[0m: 21 npcs\n",
      "familiar-abilities.db -> \u001B[91mrejected\u001B[0m: no nps\n",
      "feat-effects.db -> \u001B[91mrejected\u001B[0m: no nps\n",
      "feats.db -> \u001B[91mFAIL\u001B[0m: exception\n",
      "fists-of-the-ruby-phoenix-bestiary.db -> \u001B[92maccepted\u001B[0m: 130 npcs\n",
      "gatewalkers-bestiary.db -> \u001B[92maccepted\u001B[0m: 37 npcs\n",
      "gmg-srd.db -> \u001B[91mrejected\u001B[0m: no type\n",
      "hazards.db -> \u001B[91mrejected\u001B[0m: no nps\n",
      "heritages.db -> \u001B[91mrejected\u001B[0m: no nps\n",
      "hero-point-deck.db -> \u001B[91mrejected\u001B[0m: no type\n",
      "iconics.db -> \u001B[91mrejected\u001B[0m: no nps\n",
      "impossible-lands-bestiary.db -> \u001B[92maccepted\u001B[0m: 16 npcs\n",
      "journals.db -> \u001B[91mFAIL\u001B[0m: exception\n",
      "kingmaker-bestiary.db -> \u001B[92maccepted\u001B[0m: 178 npcs\n",
      "macros.db -> \u001B[91mrejected\u001B[0m: no nps\n",
      "malevolence-bestiary.db -> \u001B[92maccepted\u001B[0m: 12 npcs\n",
      "menace-under-otari-bestiary.db -> \u001B[92maccepted\u001B[0m: 55 npcs\n",
      "monsters-of-myth-bestiary.db -> \u001B[92maccepted\u001B[0m: 37 npcs\n",
      "mwangi-expanse-bestiary.db -> \u001B[92maccepted\u001B[0m: 22 npcs\n",
      "night-of-the-gray-death-bestiary.db -> \u001B[92maccepted\u001B[0m: 15 npcs\n",
      "npc-gallery.db -> \u001B[92maccepted\u001B[0m: 99 npcs\n",
      "one-shot-bestiary.db -> \u001B[92maccepted\u001B[0m: 18 npcs\n",
      "other-effects.db -> \u001B[91mrejected\u001B[0m: no nps\n",
      "outlaws-of-alkenstar-bestiary.db -> \u001B[92maccepted\u001B[0m: 81 npcs\n",
      "paizo-pregens.db -> \u001B[91mrejected\u001B[0m: no nps\n",
      "pathfinder-bestiary-2.db -> \u001B[92maccepted\u001B[0m: 373 npcs\n",
      "pathfinder-bestiary-3.db -> \u001B[92maccepted\u001B[0m: 365 npcs\n",
      "pathfinder-bestiary.db -> \u001B[92maccepted\u001B[0m: 468 npcs\n",
      "pathfinder-dark-archive.db -> \u001B[92maccepted\u001B[0m: 8 npcs\n",
      "pathfinder-society-boons.db -> \u001B[91mrejected\u001B[0m: no nps\n",
      "pfs-introductions-bestiary.db -> \u001B[92maccepted\u001B[0m: 4 npcs\n",
      "pfs-season-1-bestiary.db -> \u001B[92maccepted\u001B[0m: 259 npcs\n",
      "pfs-season-2-bestiary.db -> \u001B[92maccepted\u001B[0m: 199 npcs\n",
      "pfs-season-3-bestiary.db -> \u001B[92maccepted\u001B[0m: 198 npcs\n",
      "pfs-season-4-bestiary.db -> \u001B[92maccepted\u001B[0m: 65 npcs\n",
      "quest-for-the-frozen-flame-bestiary.db -> \u001B[92maccepted\u001B[0m: 68 npcs\n",
      "rollable-tables.db -> \u001B[91mrejected\u001B[0m: no type\n",
      "shadows-at-sundown-bestiary.db -> \u001B[92maccepted\u001B[0m: 13 npcs\n",
      "spell-effects.db -> \u001B[91mFAIL\u001B[0m: exception\n",
      "spells.db -> \u001B[91mFAIL\u001B[0m: exception\n",
      "strength-of-thousands-bestiary.db -> \u001B[92maccepted\u001B[0m: 148 npcs\n",
      "the-slithering-bestiary.db -> \u001B[92maccepted\u001B[0m: 10 npcs\n",
      "travel-guide-bestiary.db -> \u001B[92maccepted\u001B[0m: 5 npcs\n",
      "troubles-in-otari-bestiary.db -> \u001B[92maccepted\u001B[0m: 12 npcs\n",
      "vehicles.db -> \u001B[91mrejected\u001B[0m: no nps\n"
     ]
    }
   ],
   "source": [
    "FILTERED_DATA = []\n",
    "FAILED = []\n",
    "monster_sum = 0\n",
    "\n",
    "for book in BOOKS:\n",
    "    print(book, end=\" -> \")\n",
    "    try:\n",
    "        result, reason = check_book(path=f\"{DATASETS_DIR}/{book}\")\n",
    "    except:\n",
    "        print(f\"{bcolors.FAIL}FAIL{bcolors.ENDC}: exception\")\n",
    "        FAILED.append(book)\n",
    "        continue\n",
    "    if result:\n",
    "        print(f\"{bcolors.OKGREEN}accepted{bcolors.ENDC}: {reason} npcs\")\n",
    "        FILTERED_DATA.append(book)\n",
    "        monster_sum += int(reason)\n",
    "    else:\n",
    "        print(f\"{bcolors.FAIL}rejected{bcolors.ENDC}: {reason}\")"
   ],
   "metadata": {
    "collapsed": false
   }
  },
  {
   "cell_type": "markdown",
   "source": [
    "### Failed to load files"
   ],
   "metadata": {
    "collapsed": false
   }
  },
  {
   "cell_type": "code",
   "execution_count": 8,
   "outputs": [
    {
     "data": {
      "text/plain": "(7,\n ['deities.db',\n  'equipment.db',\n  'example.db',\n  'feats.db',\n  'journals.db',\n  'spell-effects.db',\n  'spells.db'])"
     },
     "execution_count": 8,
     "metadata": {},
     "output_type": "execute_result"
    }
   ],
   "source": [
    "len(FAILED), FAILED"
   ],
   "metadata": {
    "collapsed": false
   }
  },
  {
   "cell_type": "code",
   "execution_count": 9,
   "outputs": [
    {
     "name": "stdout",
     "output_type": "stream",
     "text": [
      "deities.db -> \u001B[91mrejected\u001B[0m: no npcs\n",
      "equipment.db -> \u001B[91mrejected\u001B[0m: no npcs\n",
      "example.db -> \u001B[91mFAIL\u001B[0m: exception\n",
      "feats.db -> \u001B[91mrejected\u001B[0m: no npcs\n",
      "journals.db -> \u001B[91mrejected\u001B[0m: no type column\n",
      "spell-effects.db -> \u001B[91mrejected\u001B[0m: no npcs\n",
      "spells.db -> \u001B[91mrejected\u001B[0m: no npcs\n"
     ]
    }
   ],
   "source": [
    "for book in FAILED:\n",
    "    # f\"{DATASETS_DIR}/{book}\"\n",
    "    print(book, end=\" -> \")\n",
    "    try:\n",
    "        df = pd.read_json(f\"{DATASETS_DIR}/{book}\", lines=True)\n",
    "    except:\n",
    "        print(f\"{bcolors.FAIL}FAIL{bcolors.ENDC}: exception\")\n",
    "        continue\n",
    "\n",
    "    if \"type\" not in df.columns:\n",
    "        print(f\"{bcolors.FAIL}rejected{bcolors.ENDC}: no type column\")\n",
    "        continue\n",
    "\n",
    "    df = df[df[\"type\"] == \"npc\"]\n",
    "\n",
    "    if len(df) > 0:\n",
    "        print(f\"{bcolors.OKGREEN}accepted{bcolors.ENDC}: {len(bestiary)} monsters\")\n",
    "\n",
    "    print(f\"{bcolors.FAIL}rejected{bcolors.ENDC}: no npcs\")\n",
    "    # break"
   ],
   "metadata": {
    "collapsed": false
   }
  },
  {
   "cell_type": "markdown",
   "source": [
    "example.db was checked manually ==> there is nothing important there"
   ],
   "metadata": {
    "collapsed": false
   }
  },
  {
   "cell_type": "markdown",
   "source": [
    "### Books with NPCs"
   ],
   "metadata": {
    "collapsed": false
   }
  },
  {
   "cell_type": "code",
   "execution_count": 10,
   "outputs": [
    {
     "data": {
      "text/plain": "(37,\n ['abomination-vaults-bestiary.db',\n  'age-of-ashes-bestiary.db',\n  'agents-of-edgewatch-bestiary.db',\n  'april-fools-bestiary.db',\n  'blog-bestiary.db',\n  'blood-lords-bestiary.db',\n  'book-of-the-dead-bestiary.db',\n  'crown-of-the-kobold-king-bestiary.db',\n  'extinction-curse-bestiary.db',\n  'fall-of-plaguestone.db',\n  'fists-of-the-ruby-phoenix-bestiary.db',\n  'gatewalkers-bestiary.db',\n  'impossible-lands-bestiary.db',\n  'kingmaker-bestiary.db',\n  'malevolence-bestiary.db',\n  'menace-under-otari-bestiary.db',\n  'monsters-of-myth-bestiary.db',\n  'mwangi-expanse-bestiary.db',\n  'night-of-the-gray-death-bestiary.db',\n  'npc-gallery.db',\n  'one-shot-bestiary.db',\n  'outlaws-of-alkenstar-bestiary.db',\n  'pathfinder-bestiary-2.db',\n  'pathfinder-bestiary-3.db',\n  'pathfinder-bestiary.db',\n  'pathfinder-dark-archive.db',\n  'pfs-introductions-bestiary.db',\n  'pfs-season-1-bestiary.db',\n  'pfs-season-2-bestiary.db',\n  'pfs-season-3-bestiary.db',\n  'pfs-season-4-bestiary.db',\n  'quest-for-the-frozen-flame-bestiary.db',\n  'shadows-at-sundown-bestiary.db',\n  'strength-of-thousands-bestiary.db',\n  'the-slithering-bestiary.db',\n  'travel-guide-bestiary.db',\n  'troubles-in-otari-bestiary.db'])"
     },
     "execution_count": 10,
     "metadata": {},
     "output_type": "execute_result"
    }
   ],
   "source": [
    "len(FILTERED_DATA), FILTERED_DATA"
   ],
   "metadata": {
    "collapsed": false
   }
  },
  {
   "cell_type": "code",
   "execution_count": 11,
   "outputs": [
    {
     "data": {
      "text/plain": "'All nps in accepted books: 3690'"
     },
     "execution_count": 11,
     "metadata": {},
     "output_type": "execute_result"
    }
   ],
   "source": [
    "f\"All nps in accepted books: {monster_sum}\""
   ],
   "metadata": {
    "collapsed": false
   }
  },
  {
   "cell_type": "code",
   "execution_count": 12,
   "outputs": [
    {
     "name": "stdout",
     "output_type": "stream",
     "text": [
      "abomination-vaults-bestiary.db -> \u001B[92maccepted\u001B[0m\n",
      "age-of-ashes-bestiary.db -> \u001B[92maccepted\u001B[0m\n",
      "agents-of-edgewatch-bestiary.db -> \u001B[92maccepted\u001B[0m\n",
      "april-fools-bestiary.db -> \u001B[92maccepted\u001B[0m\n",
      "blog-bestiary.db -> \u001B[92maccepted\u001B[0m\n",
      "blood-lords-bestiary.db -> \u001B[92maccepted\u001B[0m\n",
      "book-of-the-dead-bestiary.db -> \u001B[92maccepted\u001B[0m\n",
      "crown-of-the-kobold-king-bestiary.db -> \u001B[92maccepted\u001B[0m\n",
      "extinction-curse-bestiary.db -> \u001B[92maccepted\u001B[0m\n",
      "fall-of-plaguestone.db -> \u001B[92maccepted\u001B[0m\n",
      "fists-of-the-ruby-phoenix-bestiary.db -> \u001B[92maccepted\u001B[0m\n",
      "gatewalkers-bestiary.db -> \u001B[92maccepted\u001B[0m\n",
      "impossible-lands-bestiary.db -> \u001B[92maccepted\u001B[0m\n",
      "kingmaker-bestiary.db -> \u001B[92maccepted\u001B[0m\n",
      "malevolence-bestiary.db -> \u001B[92maccepted\u001B[0m\n",
      "menace-under-otari-bestiary.db -> \u001B[92maccepted\u001B[0m\n",
      "monsters-of-myth-bestiary.db -> \u001B[92maccepted\u001B[0m\n",
      "mwangi-expanse-bestiary.db -> \u001B[92maccepted\u001B[0m\n",
      "night-of-the-gray-death-bestiary.db -> \u001B[92maccepted\u001B[0m\n",
      "npc-gallery.db -> \u001B[92maccepted\u001B[0m\n",
      "one-shot-bestiary.db -> \u001B[92maccepted\u001B[0m\n",
      "outlaws-of-alkenstar-bestiary.db -> \u001B[92maccepted\u001B[0m\n",
      "pathfinder-bestiary-2.db -> \u001B[92maccepted\u001B[0m\n",
      "pathfinder-bestiary-3.db -> \u001B[92maccepted\u001B[0m\n",
      "pathfinder-bestiary.db -> \u001B[92maccepted\u001B[0m\n",
      "pathfinder-dark-archive.db -> \u001B[92maccepted\u001B[0m\n",
      "pfs-introductions-bestiary.db -> \u001B[92maccepted\u001B[0m\n",
      "pfs-season-1-bestiary.db -> \u001B[92maccepted\u001B[0m\n",
      "pfs-season-2-bestiary.db -> \u001B[92maccepted\u001B[0m\n",
      "pfs-season-3-bestiary.db -> \u001B[92maccepted\u001B[0m\n",
      "pfs-season-4-bestiary.db -> \u001B[92maccepted\u001B[0m\n",
      "quest-for-the-frozen-flame-bestiary.db -> \u001B[92maccepted\u001B[0m\n",
      "shadows-at-sundown-bestiary.db -> \u001B[92maccepted\u001B[0m\n",
      "strength-of-thousands-bestiary.db -> \u001B[92maccepted\u001B[0m\n",
      "the-slithering-bestiary.db -> \u001B[92maccepted\u001B[0m\n",
      "travel-guide-bestiary.db -> \u001B[92maccepted\u001B[0m\n",
      "troubles-in-otari-bestiary.db -> \u001B[92maccepted\u001B[0m\n"
     ]
    }
   ],
   "source": [
    "FAILED_TO_PREPROCESS = []\n",
    "\n",
    "\n",
    "for book in FILTERED_DATA:\n",
    "    print(book, end=\" -> \")\n",
    "    try:\n",
    "        df = load_and_preprocess_data(\n",
    "            paths_to_books=[f\"{DATASETS_DIR}/{book}\"], characteristics=features\n",
    "        )\n",
    "    except Exception as error:\n",
    "        print(f\"{bcolors.FAIL}FAIL{bcolors.ENDC}: {error}\")\n",
    "        FAILED_TO_PREPROCESS.append(book)\n",
    "        continue\n",
    "\n",
    "    print(f\"{bcolors.OKGREEN}accepted{bcolors.ENDC}\")"
   ],
   "metadata": {
    "collapsed": false
   }
  },
  {
   "cell_type": "markdown",
   "source": [
    "### Failed to preprocess:"
   ],
   "metadata": {
    "collapsed": false
   }
  },
  {
   "cell_type": "code",
   "execution_count": 13,
   "outputs": [
    {
     "data": {
      "text/plain": "(0, [])"
     },
     "execution_count": 13,
     "metadata": {},
     "output_type": "execute_result"
    }
   ],
   "source": [
    "len(FAILED_TO_PREPROCESS), FAILED_TO_PREPROCESS"
   ],
   "metadata": {
    "collapsed": false
   }
  },
  {
   "cell_type": "markdown",
   "source": [
    "Some books under might be now accepted because of changes applyied.\n",
    "\n",
    "Original FAILED_TO_PREPROCESS:\n",
    "* agents-of-edgewatch-bestiary.db\n",
    "* april-fools-bestiary.db\n",
    "* extinction-curse-bestiary.db\n",
    "* fall-of-plaguestone.db\n",
    "* impossible-lands-bestiary.db\n",
    "* npc-gallery.db\n",
    "* pathfinder-dark-archive.db\n",
    "* pfs-introductions-bestiary.db\n",
    "* travel-guide-bestiary.db\n",
    "\n",
    "#### agents-of-edgewatch-bestiary.db"
   ],
   "metadata": {
    "collapsed": false
   }
  },
  {
   "cell_type": "code",
   "execution_count": 14,
   "outputs": [],
   "source": [
    "df = load_data(paths_to_books=[f\"{DATASETS_DIR}/agents-of-edgewatch-bestiary.db\"])"
   ],
   "metadata": {
    "collapsed": false
   }
  },
  {
   "cell_type": "code",
   "execution_count": 15,
   "outputs": [],
   "source": [
    "from training.creating_dataset import preprocess_data\n",
    "\n",
    "\n",
    "# df = preprocess_data(df, characteristics=features)\n",
    "\n",
    "# ValueError: too many values to unpack (expected 2)\n",
    "# count_damage_expected_value\n",
    "# invalid literal for int() with base 10: 'varies by'\n",
    "# count_damage_expected_value"
   ],
   "metadata": {
    "collapsed": false
   }
  },
  {
   "cell_type": "code",
   "execution_count": 16,
   "outputs": [
    {
     "data": {
      "text/plain": "                _id                                       img  \\\n0  07AGJt4ZRjwH85Xp  systems/pf2e/icons/default-icons/npc.svg   \n1  0UbehYHzOGlNK8Hc  systems/pf2e/icons/default-icons/npc.svg   \n2  0ti3f4fdcB5D2bLB  systems/pf2e/icons/default-icons/npc.svg   \n3  10fEM7T48FUZRo6l  systems/pf2e/icons/default-icons/npc.svg   \n4  181ucNY1zpp2Lz3x  systems/pf2e/icons/default-icons/npc.svg   \n\n                                               items            name type  \\\n0  [{'_id': 'ojlesPsjiDHjASWl', 'img': 'systems/p...    Mother Venom  npc   \n1  [{'_id': 'Ntt0pX48FlDnOFb3', 'img': 'systems/p...      Baatamidar  npc   \n2  [{'_id': 'VzwOdAoGJR09TZhY', 'flags': {'core':...  Casino Bouncer  npc   \n3  [{'_id': 'rDNKRU6LA2e9G96b', 'img': 'systems/p...  Barnacle Ghoul  npc   \n4  [{'_id': 'OoUH7OmiEY82enBA', 'flags': {'core':...          Grunka  npc   \n\n   system.abilities.cha.mod  system.abilities.con.mod  \\\n0                       8.0                       9.0   \n1                       6.0                       5.0   \n2                       1.0                       5.0   \n3                       4.0                       3.0   \n4                       1.0                       1.0   \n\n   system.abilities.dex.mod  system.abilities.int.mod  \\\n0                       6.0                       3.0   \n1                       9.0                       6.0   \n2                       2.0                       0.0   \n3                       6.0                       1.0   \n4                       3.0                       0.0   \n\n   system.abilities.str.mod  ...  system.details.reset system.details.routine  \\\n0                       7.0  ...                   NaN                    NaN   \n1                       6.0  ...                   NaN                    NaN   \n2                       4.0  ...                   NaN                    NaN   \n3                       6.0  ...                   NaN                    NaN   \n4                       0.0  ...                   NaN                    NaN   \n\n   system.source.value system.statusEffects prototypeToken.name  \\\n0                  NaN                  NaN                 NaN   \n1                  NaN                  NaN                 NaN   \n2                  NaN                  NaN                 NaN   \n3                  NaN                  NaN                 NaN   \n4                  NaN                  NaN                 NaN   \n\n   system.attributes.adjustment  system.attributes.emitsSound  \\\n0                           NaN                           NaN   \n1                           NaN                           NaN   \n2                           NaN                           NaN   \n3                           NaN                           NaN   \n4                           NaN                           NaN   \n\n   system.source.author system.attributes.speed.details  \\\n0                   NaN                             NaN   \n1                   NaN                             NaN   \n2                   NaN                             NaN   \n3                   NaN                             NaN   \n4                   NaN                             NaN   \n\n   system.attributes.hardness.value  \n0                               NaN  \n1                               NaN  \n2                               NaN  \n3                               NaN  \n4                               NaN  \n\n[5 rows x 71 columns]",
      "text/html": "<div>\n<style scoped>\n    .dataframe tbody tr th:only-of-type {\n        vertical-align: middle;\n    }\n\n    .dataframe tbody tr th {\n        vertical-align: top;\n    }\n\n    .dataframe thead th {\n        text-align: right;\n    }\n</style>\n<table border=\"1\" class=\"dataframe\">\n  <thead>\n    <tr style=\"text-align: right;\">\n      <th></th>\n      <th>_id</th>\n      <th>img</th>\n      <th>items</th>\n      <th>name</th>\n      <th>type</th>\n      <th>system.abilities.cha.mod</th>\n      <th>system.abilities.con.mod</th>\n      <th>system.abilities.dex.mod</th>\n      <th>system.abilities.int.mod</th>\n      <th>system.abilities.str.mod</th>\n      <th>...</th>\n      <th>system.details.reset</th>\n      <th>system.details.routine</th>\n      <th>system.source.value</th>\n      <th>system.statusEffects</th>\n      <th>prototypeToken.name</th>\n      <th>system.attributes.adjustment</th>\n      <th>system.attributes.emitsSound</th>\n      <th>system.source.author</th>\n      <th>system.attributes.speed.details</th>\n      <th>system.attributes.hardness.value</th>\n    </tr>\n  </thead>\n  <tbody>\n    <tr>\n      <th>0</th>\n      <td>07AGJt4ZRjwH85Xp</td>\n      <td>systems/pf2e/icons/default-icons/npc.svg</td>\n      <td>[{'_id': 'ojlesPsjiDHjASWl', 'img': 'systems/p...</td>\n      <td>Mother Venom</td>\n      <td>npc</td>\n      <td>8.0</td>\n      <td>9.0</td>\n      <td>6.0</td>\n      <td>3.0</td>\n      <td>7.0</td>\n      <td>...</td>\n      <td>NaN</td>\n      <td>NaN</td>\n      <td>NaN</td>\n      <td>NaN</td>\n      <td>NaN</td>\n      <td>NaN</td>\n      <td>NaN</td>\n      <td>NaN</td>\n      <td>NaN</td>\n      <td>NaN</td>\n    </tr>\n    <tr>\n      <th>1</th>\n      <td>0UbehYHzOGlNK8Hc</td>\n      <td>systems/pf2e/icons/default-icons/npc.svg</td>\n      <td>[{'_id': 'Ntt0pX48FlDnOFb3', 'img': 'systems/p...</td>\n      <td>Baatamidar</td>\n      <td>npc</td>\n      <td>6.0</td>\n      <td>5.0</td>\n      <td>9.0</td>\n      <td>6.0</td>\n      <td>6.0</td>\n      <td>...</td>\n      <td>NaN</td>\n      <td>NaN</td>\n      <td>NaN</td>\n      <td>NaN</td>\n      <td>NaN</td>\n      <td>NaN</td>\n      <td>NaN</td>\n      <td>NaN</td>\n      <td>NaN</td>\n      <td>NaN</td>\n    </tr>\n    <tr>\n      <th>2</th>\n      <td>0ti3f4fdcB5D2bLB</td>\n      <td>systems/pf2e/icons/default-icons/npc.svg</td>\n      <td>[{'_id': 'VzwOdAoGJR09TZhY', 'flags': {'core':...</td>\n      <td>Casino Bouncer</td>\n      <td>npc</td>\n      <td>1.0</td>\n      <td>5.0</td>\n      <td>2.0</td>\n      <td>0.0</td>\n      <td>4.0</td>\n      <td>...</td>\n      <td>NaN</td>\n      <td>NaN</td>\n      <td>NaN</td>\n      <td>NaN</td>\n      <td>NaN</td>\n      <td>NaN</td>\n      <td>NaN</td>\n      <td>NaN</td>\n      <td>NaN</td>\n      <td>NaN</td>\n    </tr>\n    <tr>\n      <th>3</th>\n      <td>10fEM7T48FUZRo6l</td>\n      <td>systems/pf2e/icons/default-icons/npc.svg</td>\n      <td>[{'_id': 'rDNKRU6LA2e9G96b', 'img': 'systems/p...</td>\n      <td>Barnacle Ghoul</td>\n      <td>npc</td>\n      <td>4.0</td>\n      <td>3.0</td>\n      <td>6.0</td>\n      <td>1.0</td>\n      <td>6.0</td>\n      <td>...</td>\n      <td>NaN</td>\n      <td>NaN</td>\n      <td>NaN</td>\n      <td>NaN</td>\n      <td>NaN</td>\n      <td>NaN</td>\n      <td>NaN</td>\n      <td>NaN</td>\n      <td>NaN</td>\n      <td>NaN</td>\n    </tr>\n    <tr>\n      <th>4</th>\n      <td>181ucNY1zpp2Lz3x</td>\n      <td>systems/pf2e/icons/default-icons/npc.svg</td>\n      <td>[{'_id': 'OoUH7OmiEY82enBA', 'flags': {'core':...</td>\n      <td>Grunka</td>\n      <td>npc</td>\n      <td>1.0</td>\n      <td>1.0</td>\n      <td>3.0</td>\n      <td>0.0</td>\n      <td>0.0</td>\n      <td>...</td>\n      <td>NaN</td>\n      <td>NaN</td>\n      <td>NaN</td>\n      <td>NaN</td>\n      <td>NaN</td>\n      <td>NaN</td>\n      <td>NaN</td>\n      <td>NaN</td>\n      <td>NaN</td>\n      <td>NaN</td>\n    </tr>\n  </tbody>\n</table>\n<p>5 rows × 71 columns</p>\n</div>"
     },
     "execution_count": 16,
     "metadata": {},
     "output_type": "execute_result"
    }
   ],
   "source": [
    "df.head()"
   ],
   "metadata": {
    "collapsed": false
   }
  },
  {
   "cell_type": "code",
   "execution_count": 17,
   "outputs": [],
   "source": [
    "def count_damage_expected_value(damage_dict: dict[dict]) -> float:\n",
    "    \"\"\"\n",
    "    Calculate the total expected value of damage based on a dictionary of damage specifications.\n",
    "\n",
    "    :param damage_dict: A dictionary where keys represent different sources of damage,\n",
    "                        and values are dictionaries with the \"damage\" key containing damage specifications.\n",
    "                        Damage can be a constant value or a dice roll in the format 'NdM', 'NdM+X', or 'NdM-X',\n",
    "                        where N is the number of dice, M is the number of sides on the dice, and X is an optional\n",
    "                        positive or negative constant.\n",
    "    :return: The calculated total expected value of damage.\n",
    "    \"\"\"\n",
    "    total_expected_val = 0\n",
    "\n",
    "    # chance that one melee item have multiple damage types\n",
    "    for key, value in damage_dict.items():\n",
    "        damage = value[\"damage\"]\n",
    "\n",
    "        if not damage or damage == \"varies by\":\n",
    "            return 0\n",
    "\n",
    "        if \"d\" not in damage:\n",
    "            # constant damage value\n",
    "            try:\n",
    "                total_expected_val += int(damage)\n",
    "            except:\n",
    "                print(f\"Damage: {damage}\")\n",
    "            continue\n",
    "        # split dice roll\n",
    "        roll_nr, dice_type = damage.split(\"d\")\n",
    "        add = 0\n",
    "        if \"+\" in dice_type:\n",
    "            try:\n",
    "                \"\"\"================ change ===================\"\"\"\n",
    "                # get possible positive additional value for damage\n",
    "                dice_type, all_additional_values = dice_type.split(\"+\", 1)\n",
    "                # there are monsters with damage like: 3d10+12+2\n",
    "                all_additional_values = all_additional_values.split(\"+\")\n",
    "                add = 0\n",
    "                for add_value in all_additional_values:\n",
    "                    add += int(add_value)\n",
    "                \"\"\"================ end ===================\"\"\"\n",
    "            except:\n",
    "                print(f\"Damage: {damage}, dice: {dice_type}\")\n",
    "        if \"-\" in dice_type:\n",
    "            # get possible negative additional value for damage\n",
    "            dice_type, add = dice_type.split(\"-\")\n",
    "            add = -int(add)\n",
    "\n",
    "        roll_nr, dice_type = int(roll_nr), int(dice_type)\n",
    "        # count expected value with additional damages\n",
    "        total_expected_val += roll_nr * (dice_type + 1) / 2 + add\n",
    "\n",
    "    return total_expected_val\n",
    "\n",
    "\n",
    "def get_max_melee_bonus_damage(\n",
    "    items_list: list[dict], weapon_type: str\n",
    ") -> tuple[int, float]:\n",
    "    \"\"\"\n",
    "    Function used for pd.Series.apply()\\n\n",
    "    Get the maximum damageRoll bonus and associated damage from a list of melee of a specific weaponType.\n",
    "\n",
    "    :param items_list: A list of dictionaries representing melee weapons, each with relevant attributes.\n",
    "    :param weapon_type: The type of weapon to filter by.\n",
    "    :return: A tuple containing the maximum bonus and the calculated damage associated with that bonus.\n",
    "             If no matching melee weapons are found, returns (0, 0).\n",
    "    \"\"\"\n",
    "    melee = [\n",
    "        i[\"system\"]\n",
    "        for i in items_list\n",
    "        if i[\"type\"] == \"melee\" and i[\"system\"][\"weaponType\"][\"value\"] == weapon_type\n",
    "    ]\n",
    "\n",
    "    if not melee:\n",
    "        return 0, 0\n",
    "\n",
    "    idx_val = [(val[\"bonus\"][\"value\"], idx) for idx, val in enumerate(melee)]\n",
    "    # find melee with the highest bonus: bonus and idx\n",
    "    max_bonus, max_bonus_idx = max(idx_val)\n",
    "    # get damage information about max_bonus melee\n",
    "    best_bonus_melee_damage = melee[max_bonus_idx][\"damageRolls\"]\n",
    "    # get expected value of chosen melee\n",
    "    damage_expected_value = count_damage_expected_value(best_bonus_melee_damage)\n",
    "    return max_bonus, damage_expected_value"
   ],
   "metadata": {
    "collapsed": false
   }
  },
  {
   "cell_type": "code",
   "execution_count": 18,
   "outputs": [],
   "source": [
    "# df[\"melee_max_bonus\"], df[\"melee_damage_exp_val\"] = zip(\n",
    "#     *df[\"items\"].apply(lambda x: get_max_melee_bonus_damage(x, \"melee\"))\n",
    "# )\n",
    "# ValueError: too many values to unpack (expected 2)\n",
    "# change applied to preprocessing"
   ],
   "metadata": {
    "collapsed": false
   }
  },
  {
   "cell_type": "code",
   "execution_count": 19,
   "outputs": [],
   "source": [
    "df[\"ranged_max_bonus\"], df[\"ranged_damage_exp_val\"] = zip(\n",
    "    *df[\"items\"].apply(lambda x: get_max_melee_bonus_damage(x, \"ranged\"))\n",
    ")\n",
    "# ValueError: invalid literal for int() with base 10: 'varies by'"
   ],
   "metadata": {
    "collapsed": false
   }
  },
  {
   "cell_type": "code",
   "execution_count": 20,
   "outputs": [],
   "source": [
    "ranged = []\n",
    "\n",
    "for i, val in df[\"items\"].iteritems():\n",
    "    # print(type(val), val)\n",
    "\n",
    "    # break\n",
    "    ranged_items = [\n",
    "        i[\"system\"]\n",
    "        for i in val\n",
    "        if i.get(\"type\") == \"melee\"\n",
    "        and i.get(\"system\").get(\"weaponType\").get(\"value\") == \"ranged\"\n",
    "    ]\n",
    "\n",
    "    for item in ranged_items:\n",
    "        item[\"monster_id\"] = i\n",
    "\n",
    "    ranged += ranged_items"
   ],
   "metadata": {
    "collapsed": false
   }
  },
  {
   "cell_type": "code",
   "execution_count": 21,
   "outputs": [],
   "source": [
    "ranged_df = pd.DataFrame.from_dict(data=ranged)  # load data to DataFrame"
   ],
   "metadata": {
    "collapsed": false
   }
  },
  {
   "cell_type": "code",
   "execution_count": 22,
   "outputs": [
    {
     "name": "stdout",
     "output_type": "stream",
     "text": [
      "<class 'pandas.core.frame.DataFrame'>\n",
      "RangeIndex: 84 entries, 0 to 83\n",
      "Data columns (total 12 columns):\n",
      " #   Column         Non-Null Count  Dtype \n",
      "---  ------         --------------  ----- \n",
      " 0   attack         84 non-null     object\n",
      " 1   attackEffects  84 non-null     object\n",
      " 2   bonus          84 non-null     object\n",
      " 3   damageRolls    84 non-null     object\n",
      " 4   description    84 non-null     object\n",
      " 5   rules          84 non-null     object\n",
      " 6   slug           1 non-null      object\n",
      " 7   source         84 non-null     object\n",
      " 8   traits         84 non-null     object\n",
      " 9   weaponType     84 non-null     object\n",
      " 10  schema         84 non-null     object\n",
      " 11  monster_id     84 non-null     int64 \n",
      "dtypes: int64(1), object(11)\n",
      "memory usage: 8.0+ KB\n"
     ]
    }
   ],
   "source": [
    "ranged_df.info()"
   ],
   "metadata": {
    "collapsed": false
   }
  },
  {
   "cell_type": "code",
   "execution_count": 23,
   "outputs": [
    {
     "data": {
      "text/plain": "          attack                            attackEffects  \\\n0  {'value': ''}        {'custom': '', 'value': ['spit']}   \n1  {'value': ''}  {'custom': '', 'value': ['fill-lungs']}   \n2  {'value': ''}                            {'value': []}   \n3  {'value': ''}              {'custom': '', 'value': []}   \n4  {'value': ''}                            {'value': []}   \n\n                        bonus  \\\n0               {'value': 31}   \n1               {'value': 21}   \n2                {'value': 8}   \n3               {'value': 14}   \n4  {'total': 34, 'value': 34}   \n\n                                         damageRolls    description  \\\n0                                                 {}  {'value': ''}   \n1  {'0': {'damage': '2d6+10', 'damageType': 'acid'}}  {'value': ''}   \n2  {'0': {'damage': '1d8', 'damageType': 'fire'},...  {'value': ''}   \n3  {'toq9z9hx6hotqsn9g0er': {'damage': 'varies by...  {'value': ''}   \n4  {'0': {'damage': '5d6+7', 'damageType': 'bludg...  {'value': ''}   \n\n                                               rules  slug         source  \\\n0                                                 []  spit  {'value': ''}   \n1                                                 []  None  {'value': ''}   \n2                                                 []  None  {'value': ''}   \n3                                                 []  None  {'value': ''}   \n4  [{'key': 'Note', 'outcome': ['criticalSuccess'...  None  {'value': ''}   \n\n                                              traits           weaponType  \\\n0  {'rarity': 'common', 'value': ['agile', 'range...  {'value': 'ranged'}   \n1  {'rarity': 'common', 'value': ['range-incremen...  {'value': 'ranged'}   \n2  {'rarity': 'common', 'value': ['alchemical', '...  {'value': 'ranged'}   \n3  {'rarity': 'common', 'value': ['range-incremen...  {'value': 'ranged'}   \n4  {'rarity': 'common', 'value': ['range-incremen...  {'value': 'ranged'}   \n\n                                      schema  monster_id  \n0  {'version': 0.827, 'lastMigration': None}           0  \n1  {'version': 0.827, 'lastMigration': None}           3  \n2  {'version': 0.827, 'lastMigration': None}           4  \n3  {'version': 0.827, 'lastMigration': None}           5  \n4  {'version': 0.827, 'lastMigration': None}           7  ",
      "text/html": "<div>\n<style scoped>\n    .dataframe tbody tr th:only-of-type {\n        vertical-align: middle;\n    }\n\n    .dataframe tbody tr th {\n        vertical-align: top;\n    }\n\n    .dataframe thead th {\n        text-align: right;\n    }\n</style>\n<table border=\"1\" class=\"dataframe\">\n  <thead>\n    <tr style=\"text-align: right;\">\n      <th></th>\n      <th>attack</th>\n      <th>attackEffects</th>\n      <th>bonus</th>\n      <th>damageRolls</th>\n      <th>description</th>\n      <th>rules</th>\n      <th>slug</th>\n      <th>source</th>\n      <th>traits</th>\n      <th>weaponType</th>\n      <th>schema</th>\n      <th>monster_id</th>\n    </tr>\n  </thead>\n  <tbody>\n    <tr>\n      <th>0</th>\n      <td>{'value': ''}</td>\n      <td>{'custom': '', 'value': ['spit']}</td>\n      <td>{'value': 31}</td>\n      <td>{}</td>\n      <td>{'value': ''}</td>\n      <td>[]</td>\n      <td>spit</td>\n      <td>{'value': ''}</td>\n      <td>{'rarity': 'common', 'value': ['agile', 'range...</td>\n      <td>{'value': 'ranged'}</td>\n      <td>{'version': 0.827, 'lastMigration': None}</td>\n      <td>0</td>\n    </tr>\n    <tr>\n      <th>1</th>\n      <td>{'value': ''}</td>\n      <td>{'custom': '', 'value': ['fill-lungs']}</td>\n      <td>{'value': 21}</td>\n      <td>{'0': {'damage': '2d6+10', 'damageType': 'acid'}}</td>\n      <td>{'value': ''}</td>\n      <td>[]</td>\n      <td>None</td>\n      <td>{'value': ''}</td>\n      <td>{'rarity': 'common', 'value': ['range-incremen...</td>\n      <td>{'value': 'ranged'}</td>\n      <td>{'version': 0.827, 'lastMigration': None}</td>\n      <td>3</td>\n    </tr>\n    <tr>\n      <th>2</th>\n      <td>{'value': ''}</td>\n      <td>{'value': []}</td>\n      <td>{'value': 8}</td>\n      <td>{'0': {'damage': '1d8', 'damageType': 'fire'},...</td>\n      <td>{'value': ''}</td>\n      <td>[]</td>\n      <td>None</td>\n      <td>{'value': ''}</td>\n      <td>{'rarity': 'common', 'value': ['alchemical', '...</td>\n      <td>{'value': 'ranged'}</td>\n      <td>{'version': 0.827, 'lastMigration': None}</td>\n      <td>4</td>\n    </tr>\n    <tr>\n      <th>3</th>\n      <td>{'value': ''}</td>\n      <td>{'custom': '', 'value': []}</td>\n      <td>{'value': 14}</td>\n      <td>{'toq9z9hx6hotqsn9g0er': {'damage': 'varies by...</td>\n      <td>{'value': ''}</td>\n      <td>[]</td>\n      <td>None</td>\n      <td>{'value': ''}</td>\n      <td>{'rarity': 'common', 'value': ['range-incremen...</td>\n      <td>{'value': 'ranged'}</td>\n      <td>{'version': 0.827, 'lastMigration': None}</td>\n      <td>5</td>\n    </tr>\n    <tr>\n      <th>4</th>\n      <td>{'value': ''}</td>\n      <td>{'value': []}</td>\n      <td>{'total': 34, 'value': 34}</td>\n      <td>{'0': {'damage': '5d6+7', 'damageType': 'bludg...</td>\n      <td>{'value': ''}</td>\n      <td>[{'key': 'Note', 'outcome': ['criticalSuccess'...</td>\n      <td>None</td>\n      <td>{'value': ''}</td>\n      <td>{'rarity': 'common', 'value': ['range-incremen...</td>\n      <td>{'value': 'ranged'}</td>\n      <td>{'version': 0.827, 'lastMigration': None}</td>\n      <td>7</td>\n    </tr>\n  </tbody>\n</table>\n</div>"
     },
     "execution_count": 23,
     "metadata": {},
     "output_type": "execute_result"
    }
   ],
   "source": [
    "ranged_df.head()"
   ],
   "metadata": {
    "collapsed": false
   }
  },
  {
   "cell_type": "code",
   "execution_count": 24,
   "outputs": [
    {
     "data": {
      "text/plain": "[{'attack': {'value': ''},\n  'attackEffects': {'custom': '', 'value': ['spit']},\n  'bonus': {'value': 31},\n  'damageRolls': {},\n  'description': {'value': ''},\n  'rules': [],\n  'slug': 'spit',\n  'source': {'value': ''},\n  'traits': {'rarity': 'common', 'value': ['agile', 'range-increment-30']},\n  'weaponType': {'value': 'ranged'},\n  'schema': {'version': 0.827, 'lastMigration': None},\n  'monster_id': 0},\n {'attack': {'value': ''},\n  'attackEffects': {'custom': '', 'value': ['fill-lungs']},\n  'bonus': {'value': 21},\n  'damageRolls': {'0': {'damage': '2d6+10', 'damageType': 'acid'}},\n  'description': {'value': ''},\n  'rules': [],\n  'slug': None,\n  'source': {'value': ''},\n  'traits': {'rarity': 'common', 'value': ['range-increment-10']},\n  'weaponType': {'value': 'ranged'},\n  'schema': {'version': 0.827, 'lastMigration': None},\n  'monster_id': 3},\n {'attack': {'value': ''},\n  'attackEffects': {'value': []},\n  'bonus': {'value': 8},\n  'damageRolls': {'0': {'damage': '1d8', 'damageType': 'fire'},\n   '1': {'category': 'persistent', 'damage': '1', 'damageType': 'fire'},\n   '2': {'category': 'splash', 'damage': '1', 'damageType': 'fire'}},\n  'description': {'value': ''},\n  'rules': [],\n  'slug': None,\n  'source': {'value': ''},\n  'traits': {'rarity': 'common',\n   'value': ['alchemical',\n    'bomb',\n    'consumable',\n    'fire',\n    'splash',\n    'thrown-20']},\n  'weaponType': {'value': 'ranged'},\n  'schema': {'version': 0.827, 'lastMigration': None},\n  'monster_id': 4},\n {'attack': {'value': ''},\n  'attackEffects': {'custom': '', 'value': []},\n  'bonus': {'value': 14},\n  'damageRolls': {'toq9z9hx6hotqsn9g0er': {'damage': 'varies by',\n    'damageType': 'bomb'}},\n  'description': {'value': ''},\n  'rules': [],\n  'slug': None,\n  'source': {'value': ''},\n  'traits': {'rarity': 'common', 'value': ['range-increment-30', 'splash']},\n  'weaponType': {'value': 'ranged'},\n  'schema': {'version': 0.827, 'lastMigration': None},\n  'monster_id': 5},\n {'attack': {'value': ''},\n  'attackEffects': {'value': []},\n  'bonus': {'total': 34, 'value': 34},\n  'damageRolls': {'0': {'damage': '5d6+7', 'damageType': 'bludgeoning'}},\n  'description': {'value': ''},\n  'rules': [{'key': 'Note',\n    'outcome': ['criticalSuccess'],\n    'selector': '{item|_id}-damage',\n    'text': 'A creature critically hit by bloody spew is @UUID[Compendium.pf2e.conditionitems.XgEqL1kFApUbl5Z2]{Blinded} for 1 round.',\n    'title': '{item|name}'},\n   {'key': 'Note',\n    'outcome': ['success'],\n    'selector': '{item|_id}-damage',\n    'text': 'A creature hit by bloody spew is @UUID[Compendium.pf2e.conditionitems.TkIyaNPgTZFBCCuh]{Dazzled} for 1 round.',\n    'title': '{item|name}'}],\n  'slug': None,\n  'source': {'value': ''},\n  'traits': {'rarity': 'common', 'value': ['range-increment-30']},\n  'weaponType': {'value': 'ranged'},\n  'schema': {'version': 0.827, 'lastMigration': None},\n  'monster_id': 7},\n {'attack': {'value': ''},\n  'attackEffects': {'custom': '', 'value': ['incendiary-spit']},\n  'bonus': {'value': 21},\n  'damageRolls': {},\n  'description': {'value': ''},\n  'rules': [],\n  'slug': None,\n  'source': {'value': ''},\n  'traits': {'rarity': 'common', 'value': ['agile', 'range-increment-30']},\n  'weaponType': {'value': 'ranged'},\n  'schema': {'version': 0.827, 'lastMigration': None},\n  'monster_id': 9},\n {'attack': {'value': ''},\n  'attackEffects': {'custom': '', 'value': []},\n  'bonus': {'value': 27},\n  'damageRolls': {'bl5p1tfdskgqfvjdz18c': {'damage': '3d6+11',\n    'damageType': 'piercing'}},\n  'description': {'value': ''},\n  'rules': [],\n  'slug': None,\n  'source': {'value': ''},\n  'traits': {'rarity': 'common', 'value': ['magical', 'range-increment-30']},\n  'weaponType': {'value': 'ranged'},\n  'schema': {'version': 0.827, 'lastMigration': None},\n  'monster_id': 10},\n {'attack': {'value': ''},\n  'attackEffects': {'value': []},\n  'bonus': {'value': 11},\n  'damageRolls': {'ev7izdvj114s24iwwm9z': {'damage': '1d4+3',\n    'damageType': 'piercing'}},\n  'description': {'value': ''},\n  'rules': [],\n  'slug': None,\n  'source': {'value': ''},\n  'traits': {'rarity': 'common',\n   'value': ['agile', 'thrown-10', 'versatile-s']},\n  'weaponType': {'value': 'ranged'},\n  'schema': {'version': 0.827, 'lastMigration': None},\n  'monster_id': 14},\n {'attack': {'value': ''},\n  'attackEffects': {'custom': '', 'value': []},\n  'bonus': {'value': 31},\n  'damageRolls': {'x07risz17egept4scjfxr': {'damage': '1d4+11',\n    'damageType': 'piercing'}},\n  'description': {'value': ''},\n  'rules': [],\n  'slug': None,\n  'source': {'value': ''},\n  'traits': {'rarity': 'common',\n   'value': ['agile', 'finesse', 'thrown-20', 'versatile-s']},\n  'weaponType': {'value': 'ranged'},\n  'schema': {'version': 0.827, 'lastMigration': None},\n  'monster_id': 17},\n {'attack': {'value': ''},\n  'attackEffects': {'custom': '', 'value': []},\n  'bonus': {'value': 31},\n  'damageRolls': {'x07risz17egept4scjfxr': {'damage': '1d4+11',\n    'damageType': 'piercing'}},\n  'description': {'value': ''},\n  'rules': [],\n  'slug': None,\n  'source': {'value': ''},\n  'traits': {'rarity': 'common',\n   'value': ['agile', 'finesse', 'thrown-20', 'versatile-s']},\n  'weaponType': {'value': 'ranged'},\n  'schema': {'version': 0.827, 'lastMigration': None},\n  'monster_id': 18},\n {'attack': {'value': ''},\n  'attackEffects': {'custom': '', 'value': []},\n  'bonus': {'value': 10},\n  'damageRolls': {'j7gw3jmdtjhlppjpi3077': {'damage': '1d6+1',\n    'damageType': 'bludgeoning'}},\n  'description': {'value': ''},\n  'rules': [],\n  'slug': None,\n  'source': {'value': ''},\n  'traits': {'rarity': 'common',\n   'value': ['propulsive', 'range-increment-50', 'reload-1']},\n  'weaponType': {'value': 'ranged'},\n  'schema': {'version': 0.827, 'lastMigration': None},\n  'monster_id': 19},\n {'attack': {'value': ''},\n  'attackEffects': {'value': []},\n  'bonus': {'value': 16},\n  'damageRolls': {'lyvk4n9m7k29fsiddniq': {'damage': '1d10',\n    'damageType': 'piercing'}},\n  'description': {'value': ''},\n  'rules': [],\n  'slug': None,\n  'source': {'value': ''},\n  'traits': {'rarity': 'common', 'value': ['range-increment-120', 'reload-2']},\n  'weaponType': {'value': 'ranged'},\n  'schema': {'version': 0.827, 'lastMigration': None},\n  'monster_id': 21},\n {'attack': {'value': ''},\n  'attackEffects': {'custom': '', 'value': []},\n  'bonus': {'value': 10},\n  'damageRolls': {'0': {'damage': '1d8', 'damageType': 'piercing'}},\n  'description': {'value': ''},\n  'rules': [],\n  'slug': None,\n  'source': {'value': ''},\n  'traits': {'rarity': 'common', 'value': ['range-increment-120', 'reload-1']},\n  'weaponType': {'value': 'ranged'},\n  'schema': {'version': 0.827, 'lastMigration': None},\n  'monster_id': 24},\n {'attack': {'value': ''},\n  'attackEffects': {'custom': '', 'value': ['bolts']},\n  'bonus': {'value': 14},\n  'damageRolls': {'t6m7ni5z0feiliv6ludn': {'damage': '1d6',\n    'damageType': 'piercing'}},\n  'description': {'value': ''},\n  'rules': [],\n  'slug': None,\n  'source': {'value': ''},\n  'traits': {'rarity': 'common', 'value': ['range-increment-60', 'reload-1']},\n  'weaponType': {'value': 'ranged'},\n  'schema': {'version': 0.827, 'lastMigration': None},\n  'monster_id': 26},\n {'attack': {'value': ''},\n  'attackEffects': {'custom': '', 'value': []},\n  'bonus': {'value': 20},\n  'damageRolls': {'0': {'damage': '2d4+4', 'damageType': 'piercing'}},\n  'description': {'value': ''},\n  'rules': [],\n  'slug': None,\n  'source': {'value': ''},\n  'traits': {'rarity': 'common',\n   'value': ['agile', 'finesse', 'magical', 'thrown-10', 'versatile-s']},\n  'weaponType': {'value': 'ranged'},\n  'schema': {'version': 0.827, 'lastMigration': None},\n  'monster_id': 28},\n {'attack': {'value': ''},\n  'attackEffects': {'custom': '', 'value': ['impaler']},\n  'bonus': {'value': 19},\n  'damageRolls': {'0': {'damage': '1d6+12', 'damageType': 'piercing'}},\n  'description': {'value': ''},\n  'rules': [],\n  'slug': None,\n  'source': {'value': ''},\n  'traits': {'rarity': 'common', 'value': ['magical', 'thrown-20']},\n  'weaponType': {'value': 'ranged'},\n  'schema': {'version': 0.827, 'lastMigration': None},\n  'monster_id': 30},\n {'attack': {'value': ''},\n  'attackEffects': {'custom': '', 'value': []},\n  'bonus': {'value': 17},\n  'damageRolls': {'ef1lqx3o5zapguohg8i7': {'damage': '1d4+5',\n    'damageType': 'piercing'}},\n  'description': {'value': ''},\n  'rules': [],\n  'slug': None,\n  'source': {'value': ''},\n  'traits': {'rarity': 'common',\n   'value': ['agile', 'finesse', 'thrown-10', 'versatile-s']},\n  'weaponType': {'value': 'ranged'},\n  'schema': {'version': 0.827, 'lastMigration': None},\n  'monster_id': 34},\n {'attack': {'value': ''},\n  'attackEffects': {'custom': '', 'value': []},\n  'bonus': {'value': 14},\n  'damageRolls': {'esvf3msayl5dc3wy0kle': {'damage': '1d6',\n    'damageType': 'piercing'}},\n  'description': {'value': ''},\n  'rules': [],\n  'slug': None,\n  'source': {'value': ''},\n  'traits': {'rarity': 'common', 'value': ['range-increment-60', 'reload-1']},\n  'weaponType': {'value': 'ranged'},\n  'schema': {'version': 0.827, 'lastMigration': None},\n  'monster_id': 39},\n {'attack': {'value': ''},\n  'attackEffects': {'custom': '', 'value': []},\n  'bonus': {'value': 22},\n  'damageRolls': {'0': {'damage': '1d6+6', 'damageType': 'piercing'}},\n  'description': {'value': ''},\n  'rules': [],\n  'slug': None,\n  'source': {'value': ''},\n  'traits': {'rarity': 'common',\n   'value': ['deadly-d10', 'range-increment-60', 'reload-0']},\n  'weaponType': {'value': 'ranged'},\n  'schema': {'version': 0.827, 'lastMigration': None},\n  'monster_id': 46},\n {'attack': {'value': ''},\n  'attackEffects': {'custom': '', 'value': ['blinding-stream']},\n  'bonus': {'value': 29},\n  'damageRolls': {'gll69d9y9zcc2sojedtzvp': {'damage': '5d10',\n    'damageType': 'poison'}},\n  'description': {'value': ''},\n  'rules': [],\n  'slug': None,\n  'source': {'value': ''},\n  'traits': {'rarity': 'common', 'value': ['range-increment-60']},\n  'weaponType': {'value': 'ranged'},\n  'schema': {'version': 0.827, 'lastMigration': None},\n  'monster_id': 47},\n {'attack': {'value': ''},\n  'attackEffects': {'custom': '', 'value': []},\n  'bonus': {'value': 31},\n  'damageRolls': {'0': {'damage': '3d8+14', 'damageType': 'piercing'}},\n  'description': {'value': ''},\n  'rules': [],\n  'slug': None,\n  'source': {'value': ''},\n  'traits': {'rarity': 'common', 'value': ['agile', 'magical', 'thrown-20']},\n  'weaponType': {'value': 'ranged'},\n  'schema': {'version': 0.827, 'lastMigration': None},\n  'monster_id': 48},\n {'attack': {'value': ''},\n  'attackEffects': {'custom': '', 'value': []},\n  'bonus': {'value': 23},\n  'damageRolls': {'0': {'damage': '2d4+1', 'damageType': 'piercing'}},\n  'description': {'value': ''},\n  'rules': [],\n  'slug': None,\n  'source': {'value': ''},\n  'traits': {'rarity': 'common', 'value': ['agile', 'magical', 'thrown-10']},\n  'weaponType': {'value': 'ranged'},\n  'schema': {'version': 0.827, 'lastMigration': None},\n  'monster_id': 50},\n {'attack': {'value': ''},\n  'attackEffects': {'custom': '', 'value': []},\n  'bonus': {'value': 29},\n  'damageRolls': {'uy5inbtm9kg2w7ch6ew5': {'damage': '2d10+9+2',\n    'damageType': 'slashing'}},\n  'description': {'value': ''},\n  'rules': [],\n  'slug': None,\n  'source': {'value': ''},\n  'traits': {'rarity': 'common',\n   'value': ['agile', 'deadly-d10', 'magical', 'range-increment-120']},\n  'weaponType': {'value': 'ranged'},\n  'schema': {'version': 0.827, 'lastMigration': None},\n  'monster_id': 52},\n {'attack': {'value': ''},\n  'attackEffects': {'value': []},\n  'bonus': {'total': 31, 'value': 31},\n  'damageRolls': {'0': {'damage': '2d12', 'damageType': 'chaotic'},\n   '1': {'damage': '1d12', 'damageType': 'good'}},\n  'description': {'value': ''},\n  'rules': [{'key': 'Note',\n    'selector': '{item|_id}-damage',\n    'text': \"The Ghaele of Kharna's Light Ray deals [[/r 2d6+6]] damage of the type chosen by the Ghaele.\",\n    'title': 'Choose Weakness'}],\n  'slug': None,\n  'source': {'value': ''},\n  'traits': {'rarity': 'common',\n   'value': ['chaotic', 'good', 'light', 'range-increment-300']},\n  'weaponType': {'value': 'ranged'},\n  'schema': {'version': 0.827, 'lastMigration': None},\n  'monster_id': 53},\n {'attack': {'value': ''},\n  'attackEffects': {'custom': '', 'value': []},\n  'bonus': {'value': 19},\n  'damageRolls': {'4bld212ahg0gveyjntzlk': {'damage': '1d6+10',\n    'damageType': 'piercing'}},\n  'description': {'value': ''},\n  'rules': [],\n  'slug': None,\n  'source': {'value': ''},\n  'traits': {'rarity': 'common', 'value': ['thrown-30']},\n  'weaponType': {'value': 'ranged'},\n  'schema': {'version': 0.827, 'lastMigration': None},\n  'monster_id': 54},\n {'attack': {'value': ''},\n  'attackEffects': {'custom': '', 'value': ['splash-of-color']},\n  'bonus': {'total': 35, 'value': 35},\n  'damageRolls': {'0': {'damage': '3d8+4', 'damageType': 'bludgeoning'}},\n  'description': {'value': ''},\n  'rules': [],\n  'slug': None,\n  'source': {'value': ''},\n  'traits': {'rarity': 'common',\n   'value': ['magical', 'nonlethal', 'range-increment-30']},\n  'weaponType': {'value': 'ranged'},\n  'schema': {'version': 0.827, 'lastMigration': None},\n  'monster_id': 55},\n {'attack': {'value': ''},\n  'attackEffects': {'value': []},\n  'bonus': {'total': 29, 'value': 29},\n  'damageRolls': {'0': {'damage': '6d8+12', 'damageType': 'fire'},\n   '1': {'damage': '1d6', 'damageType': 'chaotic'}},\n  'description': {'value': ''},\n  'rules': [],\n  'slug': None,\n  'source': {'value': ''},\n  'traits': {'rarity': 'common',\n   'value': ['chaotic', 'magical', 'range-increment-60']},\n  'weaponType': {'value': 'ranged'},\n  'schema': {'version': 0.827, 'lastMigration': None},\n  'monster_id': 57},\n {'attack': {'value': ''},\n  'attackEffects': {'custom': '', 'value': []},\n  'bonus': {'value': 5},\n  'damageRolls': {'0': {'damage': '1d8', 'damageType': 'piercing'}},\n  'description': {'value': ''},\n  'rules': [],\n  'slug': None,\n  'source': {'value': ''},\n  'traits': {'rarity': 'common', 'value': ['range-increment-120', 'reload-1']},\n  'weaponType': {'value': 'ranged'},\n  'schema': {'version': 0.827, 'lastMigration': None},\n  'monster_id': 60},\n {'attack': {'value': ''},\n  'attackEffects': {'custom': '', 'value': []},\n  'bonus': {'value': 19},\n  'damageRolls': {'gtlefhhhyd4t128u416m': {'damage': '1d4+6',\n    'damageType': 'piercing'}},\n  'description': {'value': ''},\n  'rules': [],\n  'slug': None,\n  'source': {'value': ''},\n  'traits': {'rarity': 'common',\n   'value': ['agile', 'finesse', 'thrown-10', 'versatile-s']},\n  'weaponType': {'value': 'ranged'},\n  'schema': {'version': 0.827, 'lastMigration': None},\n  'monster_id': 61},\n {'attack': {'value': ''},\n  'attackEffects': {'custom': '', 'value': []},\n  'bonus': {'value': 22},\n  'damageRolls': {'1l3903oa7bylnhjenoa90f': {'damage': '2d4+9',\n    'damageType': 'piercing'}},\n  'description': {'value': ''},\n  'rules': [],\n  'slug': None,\n  'source': {'value': ''},\n  'traits': {'rarity': 'common',\n   'value': ['agile', 'finesse', 'magical', 'thrown-10', 'versatile-s']},\n  'weaponType': {'value': 'ranged'},\n  'schema': {'version': 0.827, 'lastMigration': None},\n  'monster_id': 62},\n {'attack': {'value': ''},\n  'attackEffects': {'custom': '', 'value': []},\n  'bonus': {'value': 27},\n  'damageRolls': {'0': {'damage': '2d8', 'damageType': 'piercing'}},\n  'description': {'value': ''},\n  'rules': [],\n  'slug': None,\n  'source': {'value': ''},\n  'traits': {'rarity': 'common',\n   'value': ['magical', 'range-increment-120', 'reload-1']},\n  'weaponType': {'value': 'ranged'},\n  'schema': {'version': 0.827, 'lastMigration': None},\n  'monster_id': 63},\n {'attack': {'value': ''},\n  'attackEffects': {'custom': '', 'value': []},\n  'bonus': {'value': 35},\n  'damageRolls': {'r1x25toahte9tkkpee4wq': {'damage': '4d12+8',\n    'damageType': 'piercing'}},\n  'description': {'value': ''},\n  'rules': [],\n  'slug': None,\n  'source': {'value': ''},\n  'traits': {'rarity': 'common', 'value': ['magical', 'range-increment-40']},\n  'weaponType': {'value': 'ranged'},\n  'schema': {'version': 0.827, 'lastMigration': None},\n  'monster_id': 65},\n {'attack': {'value': ''},\n  'attackEffects': {'custom': '', 'value': []},\n  'bonus': {'value': 14},\n  'damageRolls': {'0': {'damage': '1d4+7', 'damageType': 'piercing'}},\n  'description': {'value': ''},\n  'rules': [],\n  'slug': None,\n  'source': {'value': ''},\n  'traits': {'rarity': 'common',\n   'value': ['agile', 'finesse', 'thrown-10', 'versatile-s']},\n  'weaponType': {'value': 'ranged'},\n  'schema': {'version': 0.827, 'lastMigration': None},\n  'monster_id': 68},\n {'attack': {'value': ''},\n  'attackEffects': {'custom': '', 'value': []},\n  'bonus': {'value': 22},\n  'damageRolls': {'0': {'category': 'persistent',\n    'damage': '2d6',\n    'damageType': 'acid'},\n   '1': {'category': 'splash', 'damage': '2', 'damageType': 'acid'}},\n  'description': {'value': ''},\n  'rules': [],\n  'slug': None,\n  'source': {'value': ''},\n  'traits': {'rarity': 'common',\n   'value': ['acid',\n    'alchemical',\n    'bomb',\n    'consumable',\n    'range-increment-20',\n    'splash']},\n  'weaponType': {'value': 'ranged'},\n  'schema': {'version': 0.827, 'lastMigration': None},\n  'monster_id': 69},\n {'attack': {'value': ''},\n  'attackEffects': {'custom': '', 'value': []},\n  'bonus': {'value': 22},\n  'damageRolls': {'0': {'damage': '2d8', 'damageType': 'fire'},\n   '1': {'category': 'persistent', 'damage': '2', 'damageType': 'fire'},\n   '2': {'category': 'splash', 'damage': '2', 'damageType': 'fire'}},\n  'description': {'value': ''},\n  'rules': [],\n  'slug': None,\n  'source': {'value': ''},\n  'traits': {'rarity': 'common',\n   'value': ['alchemical',\n    'bomb',\n    'consumable',\n    'fire',\n    'range-increment-20',\n    'splash']},\n  'weaponType': {'value': 'ranged'},\n  'schema': {'version': 0.827, 'lastMigration': None},\n  'monster_id': 69},\n {'attack': {'value': ''},\n  'attackEffects': {'custom': '', 'value': []},\n  'bonus': {'value': 24},\n  'damageRolls': {'ku9stty5sdi9nuz5ryos': {'damage': '1d6+6',\n    'damageType': 'bludgeoning'},\n   'remk955tfx9xja0oulbv': {'damage': '2d6', 'damageType': 'chaotic'},\n   'afn9njpnejvzl16ie0hi': {'damage': '2d6', 'damageType': 'negative'}},\n  'description': {'value': ''},\n  'rules': [],\n  'slug': None,\n  'source': {'value': ''},\n  'traits': {'rarity': 'common',\n   'value': ['propulsive', 'range-increment-50', 'reload-1']},\n  'weaponType': {'value': 'ranged'},\n  'schema': {'version': 0.827, 'lastMigration': None},\n  'monster_id': 71},\n {'attack': {'value': ''},\n  'attackEffects': {'custom': '', 'value': ['black-ink-delirium']},\n  'bonus': {'total': 39, 'value': 39},\n  'damageRolls': {'0': {'damage': '2d6+17', 'damageType': 'piercing'},\n   '1': {'damage': '2d6', 'damageType': 'evil'}},\n  'description': {'value': ''},\n  'rules': [],\n  'slug': None,\n  'source': {'value': ''},\n  'traits': {'rarity': 'common',\n   'value': ['evil', 'magical', 'range-increment-40']},\n  'weaponType': {'value': 'ranged'},\n  'schema': {'version': 0.827, 'lastMigration': None},\n  'monster_id': 73},\n {'attack': {'value': ''},\n  'attackEffects': {'custom': '', 'value': []},\n  'bonus': {'value': 24},\n  'damageRolls': {'0': {'damage': '2d6+1', 'damageType': 'piercing'}},\n  'description': {'value': '<p>[[/r 2d6[poison]]] damage and @UUID[Compendium.pf2e.equipment-srd.Wjkw0lEUOhypYvzo]{Shadow Essence} on the first 3 arrows</p>'},\n  'rules': [],\n  'slug': None,\n  'source': {'value': ''},\n  'traits': {'rarity': 'common',\n   'value': ['deadly-d10', 'magical', 'propulsive', 'range-increment-60']},\n  'weaponType': {'value': 'ranged'},\n  'schema': {'version': 0.827, 'lastMigration': None},\n  'monster_id': 78},\n {'attack': {'value': ''},\n  'attackEffects': {'custom': '', 'value': []},\n  'bonus': {'value': 24},\n  'damageRolls': {'9dpkqkv3ou7vbc53dt0q': {'damage': '2d6+3',\n    'damageType': 'piercing'}},\n  'description': {'value': ''},\n  'rules': [],\n  'slug': None,\n  'source': {'value': ''},\n  'traits': {'rarity': 'common', 'value': ['magical', 'thrown-20']},\n  'weaponType': {'value': 'ranged'},\n  'schema': {'version': 0.827, 'lastMigration': None},\n  'monster_id': 84},\n {'attack': {'value': ''},\n  'attackEffects': {'value': []},\n  'bonus': {'total': 36, 'value': 36},\n  'damageRolls': {'0': {'damage': '4d12', 'damageType': 'mental'},\n   '1': {'damage': '5d6', 'damageType': 'evil'}},\n  'description': {'value': ''},\n  'rules': [],\n  'slug': None,\n  'source': {'value': ''},\n  'traits': {'rarity': 'common',\n   'value': ['auditory', 'magical', 'mental', 'range-increment-100']},\n  'weaponType': {'value': 'ranged'},\n  'schema': {'version': 0.827, 'lastMigration': None},\n  'monster_id': 93},\n {'attack': {'value': ''},\n  'attackEffects': {'custom': '', 'value': []},\n  'bonus': {'value': 17},\n  'damageRolls': {'sct22cwraogj6r0u4xqw': {'damage': '1d4+8',\n    'damageType': 'piercing'}},\n  'description': {'value': ''},\n  'rules': [],\n  'slug': None,\n  'source': {'value': ''},\n  'traits': {'rarity': 'common',\n   'value': ['agile', 'thrown-10', 'versatile-s']},\n  'weaponType': {'value': 'ranged'},\n  'schema': {'version': 0.827, 'lastMigration': None},\n  'monster_id': 94},\n {'attack': {'value': ''},\n  'attackEffects': {'custom': '', 'value': []},\n  'bonus': {'value': 18},\n  'damageRolls': {'0': {'damage': '3d6+4', 'damageType': 'bludgeoning'}},\n  'description': {'value': '<p>@UUID[Compendium.pf2e.conditionitems.TkIyaNPgTZFBCCuh]{Dazzled} for 1 round</p>'},\n  'rules': [],\n  'slug': None,\n  'source': {'value': ''},\n  'traits': {'rarity': 'common', 'value': ['range-increment-20']},\n  'weaponType': {'value': 'ranged'},\n  'schema': {'version': 0.827, 'lastMigration': None},\n  'monster_id': 95},\n {'attack': {'value': ''},\n  'attackEffects': {'custom': '', 'value': []},\n  'bonus': {'value': 29},\n  'damageRolls': {'53o4ileivxmej36sc2ki': {'damage': '1d4+11',\n    'damageType': 'piercing'},\n   '6zydj6d6sh47urfo5u0n': {'damage': '2d6', 'damageType': 'chaotic'},\n   'spy5xe8v3hunkmj3btke': {'damage': '2d6', 'damageType': 'negative'}},\n  'description': {'value': ''},\n  'rules': [],\n  'slug': None,\n  'source': {'value': ''},\n  'traits': {'rarity': 'common', 'value': ['agile', 'thrown-20']},\n  'weaponType': {'value': 'ranged'},\n  'schema': {'version': 0.827, 'lastMigration': None},\n  'monster_id': 96},\n {'attack': {'value': ''},\n  'attackEffects': {'custom': '', 'value': []},\n  'bonus': {'value': 19},\n  'damageRolls': {'ny876uf212kglyqa9024': {'damage': '1d10',\n    'damageType': 'piercing'}},\n  'description': {'value': ''},\n  'rules': [],\n  'slug': None,\n  'source': {'value': ''},\n  'traits': {'rarity': 'common', 'value': ['range-increment-120', 'reload-2']},\n  'weaponType': {'value': 'ranged'},\n  'schema': {'version': 0.827, 'lastMigration': None},\n  'monster_id': 98},\n {'attack': {'value': ''},\n  'attackEffects': {'custom': '', 'value': ['web-trap']},\n  'bonus': {'value': 17},\n  'damageRolls': {},\n  'description': {'value': ''},\n  'rules': [],\n  'slug': None,\n  'source': {'value': ''},\n  'traits': {'rarity': 'common', 'value': ['range-increment-30']},\n  'weaponType': {'value': 'ranged'},\n  'schema': {'version': 0.827, 'lastMigration': None},\n  'monster_id': 99},\n {'attack': {'value': ''},\n  'attackEffects': {'custom': '', 'value': []},\n  'bonus': {'value': 34},\n  'damageRolls': {'0': {'damage': '3d4+13', 'damageType': 'piercing'},\n   '1': {'damage': '2d10', 'damageType': 'bleed'}},\n  'description': {'value': ''},\n  'rules': [],\n  'slug': None,\n  'source': {'value': ''},\n  'traits': {'rarity': 'common',\n   'value': ['agile', 'deadly-d10', 'magical', 'thrown-20']},\n  'weaponType': {'value': 'ranged'},\n  'schema': {'version': 0.827, 'lastMigration': None},\n  'monster_id': 105},\n {'attack': {'value': ''},\n  'attackEffects': {'custom': '', 'value': []},\n  'bonus': {'value': 40},\n  'damageRolls': {'hz0libicqvtlaxhlaroa2': {'damage': '6d6+15',\n    'damageType': 'fire'},\n   'qsoz0i42osij9qd4pybv49': {'damage': '2d6', 'damageType': 'evil'}},\n  'description': {'value': ''},\n  'rules': [{'key': 'Note',\n    'outcome': ['criticalSuccess'],\n    'selector': '{item|_id}-damage',\n    'text': 'The creature hit by a critical hit from radiant ray is @UUID[Compendium.pf2e.conditionitems.TkIyaNPgTZFBCCuh]{Dazzled} for 1 round.',\n    'title': '{item|name}'}],\n  'slug': None,\n  'source': {'value': ''},\n  'traits': {'rarity': 'common',\n   'value': ['evil', 'magical', 'range-increment-60']},\n  'weaponType': {'value': 'ranged'},\n  'schema': {'version': 0.827, 'lastMigration': None},\n  'monster_id': 109},\n {'attack': {'value': ''},\n  'attackEffects': {'value': []},\n  'bonus': {'value': 22},\n  'damageRolls': {'xdi9slqkphdt0574tindl': {'damage': '2d6+6',\n    'damageType': 'piercing'}},\n  'description': {'value': ''},\n  'rules': [],\n  'slug': None,\n  'source': {'value': ''},\n  'traits': {'rarity': 'common',\n   'value': ['deadly-2d10',\n    'magical',\n    'propulsive',\n    'range-increment-60',\n    'reload-0']},\n  'weaponType': {'value': 'ranged'},\n  'schema': {'version': 0.827, 'lastMigration': None},\n  'monster_id': 111},\n {'attack': {'value': ''},\n  'attackEffects': {'custom': '', 'value': []},\n  'bonus': {'value': 25},\n  'damageRolls': {'9k89e2r6dsuilm6vi3byl': {'damage': '2d10+8',\n    'damageType': 'piercing'}},\n  'description': {'value': ''},\n  'rules': [],\n  'slug': None,\n  'source': {'value': ''},\n  'traits': {'rarity': 'common',\n   'value': ['magical', 'range-increment-120', 'reload-2']},\n  'weaponType': {'value': 'ranged'},\n  'schema': {'version': 0.827, 'lastMigration': None},\n  'monster_id': 112},\n {'attack': {'value': ''},\n  'attackEffects': {'custom': '', 'value': []},\n  'bonus': {'value': 20},\n  'damageRolls': {'dwwjbk4r9pefxsybtnaj': {'damage': '1d8+4',\n    'damageType': 'piercing'}},\n  'description': {'value': ''},\n  'rules': [],\n  'slug': None,\n  'source': {'value': ''},\n  'traits': {'rarity': 'common', 'value': ['range-increment-120', 'reload-1']},\n  'weaponType': {'value': 'ranged'},\n  'schema': {'version': 0.827, 'lastMigration': None},\n  'monster_id': 115},\n {'attack': {'value': ''},\n  'attackEffects': {'custom': '', 'value': []},\n  'bonus': {'value': 29},\n  'damageRolls': {'11w2ib8s44til74znaoq': {'damage': '2d10+9+2',\n    'damageType': 'slashing'}},\n  'description': {'value': ''},\n  'rules': [],\n  'slug': None,\n  'source': {'value': ''},\n  'traits': {'rarity': 'common',\n   'value': ['agile', 'deadly-d10', 'magical', 'range-increment-120']},\n  'weaponType': {'value': 'ranged'},\n  'schema': {'version': 0.827, 'lastMigration': None},\n  'monster_id': 116},\n {'attack': {'value': ''},\n  'attackEffects': {'custom': '', 'value': ['poison-ink']},\n  'bonus': {'value': 29},\n  'damageRolls': {'n1k4buvpmyskkgu8pn3uth': {'damage': '2d12+10',\n    'damageType': 'bludgeoning'}},\n  'description': {'value': ''},\n  'rules': [],\n  'slug': None,\n  'source': {'value': ''},\n  'traits': {'rarity': 'common', 'value': ['range-increment-60']},\n  'weaponType': {'value': 'ranged'},\n  'schema': {'version': 0.827, 'lastMigration': None},\n  'monster_id': 116},\n {'attack': {'value': ''},\n  'attackEffects': {'custom': '', 'value': []},\n  'bonus': {'total': 30, 'value': 30},\n  'damageRolls': {'0': {'damage': '3d4+12', 'damageType': 'piercing'},\n   '1': {'damage': '1d6', 'damageType': 'chaotic'}},\n  'description': {'value': ''},\n  'rules': [{'key': 'Note',\n    'outcome': ['criticalSuccess'],\n    'selector': '{item|_id}-damage',\n    'text': \"A creature hit by a critical hit by Il'setsya's dagger is subjected to a @UUID[Compendium.pf2e.rollable-tables.yRZwPolTnRdnz42V]{Warpwave}.\",\n    'title': 'Warpwave'}],\n  'slug': None,\n  'source': {'value': ''},\n  'traits': {'rarity': 'common',\n   'value': ['agile',\n    'chaotic',\n    'finesse',\n    'magical',\n    'thrown-10',\n    'versatile-s']},\n  'weaponType': {'value': 'ranged'},\n  'schema': {'version': 0.827, 'lastMigration': None},\n  'monster_id': 118},\n {'attack': {'value': ''},\n  'attackEffects': {'custom': '', 'value': []},\n  'bonus': {'value': 22},\n  'damageRolls': {'ih71k9y8bnsww2aq7vtc': {'damage': '1d4+9',\n    'damageType': 'piercing'}},\n  'description': {'value': ''},\n  'rules': [],\n  'slug': None,\n  'source': {'value': ''},\n  'traits': {'rarity': 'common',\n   'value': ['agile', 'finesse', 'thrown-10', 'versatile-s']},\n  'weaponType': {'value': 'ranged'},\n  'schema': {'version': 0.827, 'lastMigration': None},\n  'monster_id': 119},\n {'attack': {'value': ''},\n  'attackEffects': {'custom': '', 'value': []},\n  'bonus': {'value': 22},\n  'damageRolls': {'0': {'damage': '1d6+6', 'damageType': 'piercing'}},\n  'description': {'value': ''},\n  'rules': [],\n  'slug': None,\n  'source': {'value': ''},\n  'traits': {'rarity': 'common',\n   'value': ['deadly-d10', 'range-increment-60', 'reload-0']},\n  'weaponType': {'value': 'ranged'},\n  'schema': {'version': 0.827, 'lastMigration': None},\n  'monster_id': 121},\n {'attack': {'value': ''},\n  'attackEffects': {'custom': '', 'value': []},\n  'bonus': {'value': 22},\n  'damageRolls': {'0': {'damage': '3d6', 'damageType': 'piercing'}},\n  'description': {'value': ''},\n  'rules': [],\n  'slug': None,\n  'source': {'value': ''},\n  'traits': {'rarity': 'common',\n   'value': ['magical', 'range-increment-60', 'reload-1']},\n  'weaponType': {'value': 'ranged'},\n  'schema': {'version': 0.827, 'lastMigration': None},\n  'monster_id': 124},\n {'attack': {'value': ''},\n  'attackEffects': {'custom': '', 'value': []},\n  'bonus': {'value': 27},\n  'damageRolls': {'l2hstfrto20g3f1onwfn': {'damage': '2d10+9',\n    'damageType': 'slashing'}},\n  'description': {'value': ''},\n  'rules': [],\n  'slug': None,\n  'source': {'value': ''},\n  'traits': {'rarity': 'common',\n   'value': ['agile', 'deadly-d10', 'magical', 'range-increment-120']},\n  'weaponType': {'value': 'ranged'},\n  'schema': {'version': 0.827, 'lastMigration': None},\n  'monster_id': 125},\n {'attack': {'value': ''},\n  'attackEffects': {'custom': 'Crisis of Faith', 'value': []},\n  'bonus': {'value': 28},\n  'damageRolls': {'0': {'damage': '2d4+10', 'damageType': 'piercing'}},\n  'description': {'value': ''},\n  'rules': [],\n  'slug': None,\n  'source': {'value': ''},\n  'traits': {'rarity': 'common', 'value': ['agile', 'magical', 'thrown-10']},\n  'weaponType': {'value': 'ranged'},\n  'schema': {'version': 0.827, 'lastMigration': None},\n  'monster_id': 128},\n {'attack': {'value': ''},\n  'attackEffects': {'custom': '', 'value': []},\n  'bonus': {'value': 16},\n  'damageRolls': {'0': {'damage': '1d6', 'damageType': 'piercing'}},\n  'description': {'value': ''},\n  'rules': [],\n  'slug': None,\n  'source': {'value': ''},\n  'traits': {'rarity': 'common', 'value': ['range-increment-60', 'reload-1']},\n  'weaponType': {'value': 'ranged'},\n  'schema': {'version': 0.827, 'lastMigration': None},\n  'monster_id': 129},\n {'attack': {'value': ''},\n  'attackEffects': {'custom': '', 'value': []},\n  'bonus': {'value': 8},\n  'damageRolls': {'0': {'damage': '1d4', 'damageType': 'piercing'}},\n  'description': {'value': ''},\n  'rules': [],\n  'slug': None,\n  'source': {'value': ''},\n  'traits': {'rarity': 'common',\n   'value': ['agile', 'finesse', 'thrown-10', 'versatile-s']},\n  'weaponType': {'value': 'ranged'},\n  'schema': {'version': 0.827, 'lastMigration': None},\n  'monster_id': 142},\n {'attack': {'value': ''},\n  'attackEffects': {'value': []},\n  'bonus': {'value': 8},\n  'damageRolls': {'0': {'damage': '1d8', 'damageType': 'fire'},\n   '1': {'category': 'persistent', 'damage': '1', 'damageType': 'fire'},\n   '2': {'category': 'splash', 'damage': '1', 'damageType': 'fire'}},\n  'description': {'value': ''},\n  'rules': [],\n  'slug': None,\n  'source': {'value': ''},\n  'traits': {'rarity': 'common',\n   'value': ['alchemical',\n    'bomb',\n    'consumable',\n    'fire',\n    'splash',\n    'thrown-20']},\n  'weaponType': {'value': 'ranged'},\n  'schema': {'version': 0.827, 'lastMigration': None},\n  'monster_id': 146},\n {'attack': {'value': ''},\n  'attackEffects': {'custom': '', 'value': []},\n  'bonus': {'value': 10},\n  'damageRolls': {'0': {'damage': '1d8', 'damageType': 'piercing'}},\n  'description': {'value': ''},\n  'rules': [],\n  'slug': None,\n  'source': {'value': ''},\n  'traits': {'rarity': 'common', 'value': ['range-increment-120', 'reload-1']},\n  'weaponType': {'value': 'ranged'},\n  'schema': {'version': 0.827, 'lastMigration': None},\n  'monster_id': 147},\n {'attack': {'value': ''},\n  'attackEffects': {'custom': '', 'value': []},\n  'bonus': {'value': 30},\n  'damageRolls': {'l1yg8ve66xlbn5qg73sf': {'damage': '2d8+6',\n    'damageType': 'piercing'}},\n  'description': {'value': ''},\n  'rules': [],\n  'slug': None,\n  'source': {'value': ''},\n  'traits': {'rarity': 'common',\n   'value': ['magical', 'range-increment-120', 'reload-1']},\n  'weaponType': {'value': 'ranged'},\n  'schema': {'version': 0.827, 'lastMigration': None},\n  'monster_id': 150},\n {'attack': {'value': ''},\n  'attackEffects': {'custom': '', 'value': []},\n  'bonus': {'value': 32},\n  'damageRolls': {'4ce4kmvn7q4t7deiuhhh': {'damage': '2d4+11',\n    'damageType': 'piercing'}},\n  'description': {'value': ''},\n  'rules': [],\n  'slug': None,\n  'source': {'value': ''},\n  'traits': {'rarity': 'common',\n   'value': ['agile', 'finesse', 'magical', 'thrown-10', 'versatile-s']},\n  'weaponType': {'value': 'ranged'},\n  'schema': {'version': 0.827, 'lastMigration': None},\n  'monster_id': 150},\n {'attack': {'value': ''},\n  'attackEffects': {'custom': '', 'value': []},\n  'bonus': {'value': 22},\n  'damageRolls': {'pzqjnv3o9mh2sdkeivj7': {'damage': 'varies by',\n    'damageType': 'bomb'}},\n  'description': {'value': ''},\n  'rules': [],\n  'slug': None,\n  'source': {'value': ''},\n  'traits': {'rarity': 'common', 'value': ['range-increment-30', 'splash']},\n  'weaponType': {'value': 'ranged'},\n  'schema': {'version': 0.827, 'lastMigration': None},\n  'monster_id': 151},\n {'attack': {'value': ''},\n  'attackEffects': {'value': []},\n  'bonus': {'total': 34, 'value': 34},\n  'damageRolls': {'0': {'damage': '1d4+20', 'damageType': 'piercing'}},\n  'description': {'value': ''},\n  'rules': [],\n  'slug': None,\n  'source': {'value': ''},\n  'traits': {'rarity': 'common',\n   'value': ['agile',\n    'evocation',\n    'finesse',\n    'magical',\n    'thrown-10',\n    'versatile-s']},\n  'weaponType': {'value': 'ranged'},\n  'schema': {'version': 0.827, 'lastMigration': None},\n  'monster_id': 152},\n {'attack': {'value': ''},\n  'attackEffects': {'custom': '', 'value': []},\n  'bonus': {'value': 35},\n  'damageRolls': {'0': {'damage': '4d8', 'damageType': 'fire'},\n   '1': {'category': 'persistent', 'damage': '2d6', 'damageType': 'fire'},\n   '2': {'category': 'splash', 'damage': '8', 'damageType': 'fire'}},\n  'description': {'value': ''},\n  'rules': [],\n  'slug': None,\n  'source': {'value': ''},\n  'traits': {'rarity': 'common', 'value': ['range-increment-100', 'splash']},\n  'weaponType': {'value': 'ranged'},\n  'schema': {'version': 0.827, 'lastMigration': None},\n  'monster_id': 154},\n {'attack': {'value': ''},\n  'attackEffects': {'custom': '', 'value': []},\n  'bonus': {'value': 24},\n  'damageRolls': {'cc9w5uxvvvntkpgqcpcc': {'damage': '1d8+6',\n    'damageType': 'piercing'}},\n  'description': {'value': ''},\n  'rules': [],\n  'slug': None,\n  'source': {'value': ''},\n  'traits': {'rarity': 'common', 'value': ['range-increment-120', 'reload-1']},\n  'weaponType': {'value': 'ranged'},\n  'schema': {'version': 0.827, 'lastMigration': None},\n  'monster_id': 157},\n {'attack': {'value': ''},\n  'attackEffects': {'value': []},\n  'bonus': {'value': 29},\n  'damageRolls': {'0': {'damage': '3d6+19', 'damageType': 'piercing'},\n   '1': {'damage': '1d6', 'damageType': 'fire'}},\n  'description': {'value': ''},\n  'rules': [],\n  'slug': None,\n  'source': {'value': ''},\n  'traits': {'value': ['magical', 'thrown-30']},\n  'weaponType': {'value': 'ranged'},\n  'schema': {'version': 0.827, 'lastMigration': None},\n  'monster_id': 160},\n {'attack': {'value': ''},\n  'attackEffects': {'custom': '', 'value': []},\n  'bonus': {'value': 20},\n  'damageRolls': {'0': {'damage': '1d4+5', 'damageType': 'piercing'}},\n  'description': {'value': ''},\n  'rules': [],\n  'slug': None,\n  'source': {'value': ''},\n  'traits': {'rarity': 'common',\n   'value': ['agile', 'finesse', 'thrown-10', 'versatile-s']},\n  'weaponType': {'value': 'ranged'},\n  'schema': {'version': 0.827, 'lastMigration': None},\n  'monster_id': 161},\n {'attack': {'value': ''},\n  'attackEffects': {'custom': '', 'value': ['tears-of-death']},\n  'bonus': {'total': 41, 'value': 41},\n  'damageRolls': {'0': {'damage': '4d4+22', 'damageType': 'piercing'},\n   '1': {'damage': '1d6', 'damageType': 'bleed'}},\n  'description': {'value': ''},\n  'rules': [],\n  'slug': None,\n  'source': {'value': ''},\n  'traits': {'rarity': 'common',\n   'value': ['agile', 'finesse', 'magical', 'thrown-10', 'versatile-s']},\n  'weaponType': {'value': 'ranged'},\n  'schema': {'version': 0.827, 'lastMigration': None},\n  'monster_id': 163},\n {'attack': {'value': ''},\n  'attackEffects': {'custom': '', 'value': []},\n  'bonus': {'total': 40, 'value': 40},\n  'damageRolls': {'0': {'damage': '3d6+22', 'damageType': 'bludgeoning'}},\n  'description': {'value': ''},\n  'rules': [{'key': 'Note',\n    'outcome': ['success'],\n    'selector': '{item|_id}-damage',\n    'text': 'A creature hit by the Cane of the Maelstrom is subjected to a @UUID[Compendium.pf2e.rollable-tables.yRZwPolTnRdnz42V]{Warpwave}.',\n    'title': 'Warpwave'}],\n  'slug': None,\n  'source': {'value': ''},\n  'traits': {'rarity': 'unique', 'value': ['magical', 'thrown-10']},\n  'weaponType': {'value': 'ranged'},\n  'schema': {'version': 0.827, 'lastMigration': None},\n  'monster_id': 163},\n {'attack': {'value': ''},\n  'attackEffects': {'custom': '', 'value': []},\n  'bonus': {'value': 23},\n  'damageRolls': {'hnmlty7gt7jn6ghr64d5': {'damage': '2d8+6',\n    'damageType': 'piercing'}},\n  'description': {'value': ''},\n  'rules': [],\n  'slug': None,\n  'source': {'value': ''},\n  'traits': {'rarity': 'common',\n   'value': ['magical', 'range-increment-120', 'reload-1']},\n  'weaponType': {'value': 'ranged'},\n  'schema': {'version': 0.827, 'lastMigration': None},\n  'monster_id': 164},\n {'attack': {'value': ''},\n  'attackEffects': {'custom': '', 'value': ['binding-blast']},\n  'bonus': {'value': 22},\n  'damageRolls': {'0': {'damage': '3d4', 'damageType': 'sonic'}},\n  'description': {'value': ''},\n  'rules': [{'key': 'Note',\n    'selector': '{item|_id}-damage',\n    'text': 'PF2E.BombNotes.Thunderstone.Greater.success'}],\n  'slug': None,\n  'source': {'value': ''},\n  'traits': {'rarity': 'common',\n   'value': ['alchemical',\n    'bomb',\n    'consumable',\n    'range-increment-30',\n    'splash']},\n  'weaponType': {'value': 'ranged'},\n  'schema': {'version': 0.827, 'lastMigration': None},\n  'monster_id': 164},\n {'attack': {'value': ''},\n  'attackEffects': {'custom': '', 'value': []},\n  'bonus': {'value': 29},\n  'damageRolls': {'pqczsbuis1qtz1252y14': {'damage': '2d10+9+2',\n    'damageType': 'slashing'}},\n  'description': {'value': ''},\n  'rules': [],\n  'slug': None,\n  'source': {'value': ''},\n  'traits': {'rarity': 'common',\n   'value': ['agile', 'deadly-d10', 'magical', 'range-increment-120']},\n  'weaponType': {'value': 'ranged'},\n  'schema': {'version': 0.827, 'lastMigration': None},\n  'monster_id': 176},\n {'attack': {'value': ''},\n  'attackEffects': {'custom': '', 'value': []},\n  'bonus': {'value': 27},\n  'damageRolls': {'0': {'damage': '7d6', 'damageType': 'acid'}},\n  'description': {'value': ''},\n  'rules': [],\n  'slug': None,\n  'source': {'value': ''},\n  'traits': {'rarity': 'common', 'value': ['range-increment-30']},\n  'weaponType': {'value': 'ranged'},\n  'schema': {'version': 0.827, 'lastMigration': None},\n  'monster_id': 177},\n {'attack': {'value': ''},\n  'attackEffects': {'custom': '', 'value': []},\n  'bonus': {'value': 14},\n  'damageRolls': {'7itjxfpi0d6v70mk0389': {'damage': '1d6+4',\n    'damageType': 'piercing'}},\n  'description': {'value': ''},\n  'rules': [],\n  'slug': None,\n  'source': {'value': ''},\n  'traits': {'rarity': 'common',\n   'value': ['deadly-d10', 'propulsive', 'range-increment-60', 'reload-0']},\n  'weaponType': {'value': 'ranged'},\n  'schema': {'version': 0.827, 'lastMigration': None},\n  'monster_id': 178},\n {'attack': {'value': ''},\n  'attackEffects': {'value': []},\n  'bonus': {'value': 17},\n  'damageRolls': {'9f9c90eqpuc8vudohmxj': {'damage': '1d6+6',\n    'damageType': 'bludgeoning'},\n   '008hcyq4bobddxma2kal': {'damage': '3d4+3', 'damageType': 'force'}},\n  'description': {'value': ''},\n  'rules': [],\n  'slug': None,\n  'source': {'value': ''},\n  'traits': {'rarity': 'common',\n   'value': ['propulsive', 'range-increment-50', 'reload-1']},\n  'weaponType': {'value': 'ranged'},\n  'schema': {'version': 0.827, 'lastMigration': None},\n  'monster_id': 179},\n {'attack': {'value': ''},\n  'attackEffects': {'value': []},\n  'bonus': {'value': 17},\n  'damageRolls': {'0': {'damage': '2d6', 'damageType': 'electricity'},\n   '1': {'category': 'splash', 'damage': '2', 'damageType': 'electricity'}},\n  'description': {'value': ''},\n  'rules': [],\n  'slug': None,\n  'source': {'value': ''},\n  'traits': {'rarity': 'common',\n   'value': ['alchemical', 'bomb', 'range-increment-30']},\n  'weaponType': {'value': 'ranged'},\n  'schema': {'version': 0.827, 'lastMigration': None},\n  'monster_id': 179},\n {'attack': {'value': ''},\n  'attackEffects': {'value': []},\n  'bonus': {'value': 19},\n  'damageRolls': {'0': {'damage': '2d6', 'damageType': 'cold'},\n   '1': {'category': 'splash', 'damage': '2', 'damageType': 'cold'}},\n  'description': {'value': ''},\n  'rules': [],\n  'slug': None,\n  'source': {'value': ''},\n  'traits': {'rarity': 'common',\n   'value': ['alchemical', 'bomb', 'range-increment-30']},\n  'weaponType': {'value': 'ranged'},\n  'schema': {'version': 0.827, 'lastMigration': None},\n  'monster_id': 179},\n {'attack': {'value': ''},\n  'attackEffects': {'custom': '', 'value': []},\n  'bonus': {'value': 24},\n  'damageRolls': {'o1jt63m0bii8gwo92dzc': {'damage': '1d4+9',\n    'damageType': 'piercing'}},\n  'description': {'value': ''},\n  'rules': [],\n  'slug': None,\n  'source': {'value': ''},\n  'traits': {'rarity': 'common',\n   'value': ['agile', 'finesse', 'thrown-10', 'versatile-s']},\n  'weaponType': {'value': 'ranged'},\n  'schema': {'version': 0.827, 'lastMigration': None},\n  'monster_id': 181},\n {'attack': {'value': ''},\n  'attackEffects': {'custom': '', 'value': []},\n  'bonus': {'value': 20},\n  'damageRolls': {'llmt13cw52vze8rdmsfy': {'damage': '1d4+7',\n    'damageType': 'piercing'}},\n  'description': {'value': ''},\n  'rules': [],\n  'slug': None,\n  'source': {'value': ''},\n  'traits': {'rarity': 'common',\n   'value': ['agile', 'finesse', 'thrown-10', 'versatile-s']},\n  'weaponType': {'value': 'ranged'},\n  'schema': {'version': 0.827, 'lastMigration': None},\n  'monster_id': 182},\n {'attack': {'value': ''},\n  'attackEffects': {'custom': '', 'value': ['wretched-weeps']},\n  'bonus': {'value': 17},\n  'damageRolls': {'0': {'damage': '2d6+11', 'damageType': 'bludgeoning'}},\n  'description': {'value': ''},\n  'rules': [],\n  'slug': None,\n  'source': {'value': ''},\n  'traits': {'rarity': 'common', 'value': ['range-increment-30']},\n  'weaponType': {'value': 'ranged'},\n  'schema': {'version': 0.827, 'lastMigration': None},\n  'monster_id': 184},\n {'attack': {'value': ''},\n  'attackEffects': {'custom': '', 'value': ['najra-lizard-venom']},\n  'bonus': {'value': 14},\n  'damageRolls': {'0': {'damage': '1d4', 'damageType': 'poison'}},\n  'description': {'value': ''},\n  'rules': [],\n  'slug': None,\n  'source': {'value': ''},\n  'traits': {'rarity': 'common',\n   'selected': [],\n   'value': ['agile', 'poison', 'range-increment-20']},\n  'weaponType': {'value': 'ranged'},\n  'schema': {'version': 0.827, 'lastMigration': None},\n  'monster_id': 185}]"
     },
     "execution_count": 24,
     "metadata": {},
     "output_type": "execute_result"
    }
   ],
   "source": [
    "ranged"
   ],
   "metadata": {
    "collapsed": false
   }
  },
  {
   "cell_type": "code",
   "execution_count": 25,
   "outputs": [
    {
     "name": "stdout",
     "output_type": "stream",
     "text": [
      "monster id: 5, damageRoll: {'toq9z9hx6hotqsn9g0er': {'damage': 'varies by', 'damageType': 'bomb'}}\n",
      "monster id: 151, damageRoll: {'pzqjnv3o9mh2sdkeivj7': {'damage': 'varies by', 'damageType': 'bomb'}}\n"
     ]
    }
   ],
   "source": [
    "for i in ranged:\n",
    "    damageRoll = i[\"damageRolls\"]\n",
    "    if len(damageRoll) == 0:\n",
    "        continue\n",
    "    for damage in damageRoll.values():\n",
    "        if damage[\"damage\"] == \"varies by\":\n",
    "            print(f\"monster id: {i['monster_id']}, damageRoll: {damageRoll}\")"
   ],
   "metadata": {
    "collapsed": false
   }
  },
  {
   "cell_type": "code",
   "execution_count": 26,
   "outputs": [
    {
     "data": {
      "text/plain": "5         Amateur Chemist\n151    Alchemist Aspirant\nName: name, dtype: object"
     },
     "execution_count": 26,
     "metadata": {},
     "output_type": "execute_result"
    }
   ],
   "source": [
    "df.loc[[5, 151]][\"name\"]"
   ],
   "metadata": {
    "collapsed": false
   }
  },
  {
   "cell_type": "markdown",
   "source": [
    "#### april-fools-bestiary.db"
   ],
   "metadata": {
    "collapsed": false
   }
  },
  {
   "cell_type": "code",
   "execution_count": 27,
   "outputs": [],
   "source": [
    "df = load_data(paths_to_books=[f\"{DATASETS_DIR}/april-fools-bestiary.db\"])"
   ],
   "metadata": {
    "collapsed": false
   }
  },
  {
   "cell_type": "code",
   "execution_count": 28,
   "outputs": [],
   "source": [
    "from training.creating_dataset import preprocess_data\n",
    "\n",
    "\n",
    "# df = preprocess_data(df, characteristics=features)\n",
    "# KeyError: 'system.attributes.weaknesses'"
   ],
   "metadata": {
    "collapsed": false
   }
  },
  {
   "cell_type": "code",
   "execution_count": 29,
   "outputs": [],
   "source": [
    "system = [col for col in df.columns if \"system\" in col]"
   ],
   "metadata": {
    "collapsed": false
   }
  },
  {
   "cell_type": "code",
   "execution_count": 30,
   "outputs": [
    {
     "data": {
      "text/plain": "['system.abilities.cha.mod',\n 'system.abilities.con.mod',\n 'system.abilities.dex.mod',\n 'system.abilities.int.mod',\n 'system.abilities.str.mod',\n 'system.abilities.wis.mod',\n 'system.attributes.ac.details',\n 'system.attributes.ac.value',\n 'system.attributes.allSaves.value',\n 'system.attributes.hp.details',\n 'system.attributes.hp.max',\n 'system.attributes.hp.temp',\n 'system.attributes.hp.value',\n 'system.attributes.initiative.ability',\n 'system.attributes.perception.value',\n 'system.attributes.speed.otherSpeeds',\n 'system.attributes.speed.value',\n 'system.details.alignment.value',\n 'system.details.blurb',\n 'system.details.creatureType',\n 'system.details.level.value',\n 'system.details.privateNotes',\n 'system.details.publicNotes',\n 'system.details.source.value',\n 'system.saves.fortitude.saveDetail',\n 'system.saves.fortitude.value',\n 'system.saves.reflex.saveDetail',\n 'system.saves.reflex.value',\n 'system.saves.will.saveDetail',\n 'system.saves.will.value',\n 'system.traits.attitude.value',\n 'system.traits.languages.custom',\n 'system.traits.languages.selected',\n 'system.traits.languages.value',\n 'system.traits.rarity',\n 'system.traits.senses.value',\n 'system.traits.size.value',\n 'system.traits.value',\n 'system.schema.version',\n 'system.schema.lastMigration',\n 'system.attributes.immunities',\n 'system.attributes.resistances',\n 'system.resources.focus.max',\n 'system.resources.focus.value',\n 'system.attributes.speed.details']"
     },
     "execution_count": 30,
     "metadata": {},
     "output_type": "execute_result"
    }
   ],
   "source": [
    "system"
   ],
   "metadata": {
    "collapsed": false
   }
  },
  {
   "cell_type": "code",
   "execution_count": 31,
   "outputs": [],
   "source": [
    "test_df = load_data(\n",
    "    paths_to_books=[\n",
    "        f\"{DATASETS_DIR}/april-fools-bestiary.db\",\n",
    "        f\"{DATASETS_DIR}/pathfinder-bestiary.db\",\n",
    "    ]\n",
    ")"
   ],
   "metadata": {
    "collapsed": false
   }
  },
  {
   "cell_type": "code",
   "execution_count": 32,
   "outputs": [],
   "source": [
    "test_df = preprocess_data(test_df, characteristics=features)\n",
    "# no problem in case there are more books"
   ],
   "metadata": {
    "collapsed": false
   }
  },
  {
   "cell_type": "code",
   "execution_count": 33,
   "outputs": [
    {
     "data": {
      "text/plain": "   dex  land_speed  fortitude  will                                    book  \\\n0    2          40          8     9  Pathfinder Blog: April Fool's Bestiary   \n1    2          15          8     7  Pathfinder Blog: April Fool's Bestiary   \n2    7           0         15    17  Pathfinder Blog: April Fool's Bestiary   \n3    3          30          4     7  Pathfinder Blog: April Fool's Bestiary   \n4    1          30         12     7  Pathfinder Blog: April Fool's Bestiary   \n\n   cha  perception  num_immunities  con  ac  ...  spells_nr_lvl_4  \\\n0    1           9               0    1  20  ...                0   \n1    3          10               1    2  18  ...                0   \n2    0          19               6    3  32  ...                0   \n3    4          11               0    1  18  ...                0   \n4    1          15               3    0  19  ...                0   \n\n   spells_nr_lvl_5  spells_nr_lvl_6  spells_nr_lvl_7  spells_nr_lvl_8  \\\n0                0                0                0                0   \n1                0                0                0                0   \n2                0                0                0                0   \n3                0                0                0                0   \n4                0                0                0                0   \n\n   spells_nr_lvl_9  melee_max_bonus  avg_melee_dmg  ranged_max_bonus  \\\n0                0               11            8.5                 9   \n1                0               11            7.5                 0   \n2                0               22           23.0                22   \n3                0               10           10.5                10   \n4                0               10            9.0                10   \n\n   avg_ranged_dmg  \n0             7.5  \n1             0.0  \n2            15.0  \n3             8.5  \n4             8.5  \n\n[5 rows x 52 columns]",
      "text/html": "<div>\n<style scoped>\n    .dataframe tbody tr th:only-of-type {\n        vertical-align: middle;\n    }\n\n    .dataframe tbody tr th {\n        vertical-align: top;\n    }\n\n    .dataframe thead th {\n        text-align: right;\n    }\n</style>\n<table border=\"1\" class=\"dataframe\">\n  <thead>\n    <tr style=\"text-align: right;\">\n      <th></th>\n      <th>dex</th>\n      <th>land_speed</th>\n      <th>fortitude</th>\n      <th>will</th>\n      <th>book</th>\n      <th>cha</th>\n      <th>perception</th>\n      <th>num_immunities</th>\n      <th>con</th>\n      <th>ac</th>\n      <th>...</th>\n      <th>spells_nr_lvl_4</th>\n      <th>spells_nr_lvl_5</th>\n      <th>spells_nr_lvl_6</th>\n      <th>spells_nr_lvl_7</th>\n      <th>spells_nr_lvl_8</th>\n      <th>spells_nr_lvl_9</th>\n      <th>melee_max_bonus</th>\n      <th>avg_melee_dmg</th>\n      <th>ranged_max_bonus</th>\n      <th>avg_ranged_dmg</th>\n    </tr>\n  </thead>\n  <tbody>\n    <tr>\n      <th>0</th>\n      <td>2</td>\n      <td>40</td>\n      <td>8</td>\n      <td>9</td>\n      <td>Pathfinder Blog: April Fool's Bestiary</td>\n      <td>1</td>\n      <td>9</td>\n      <td>0</td>\n      <td>1</td>\n      <td>20</td>\n      <td>...</td>\n      <td>0</td>\n      <td>0</td>\n      <td>0</td>\n      <td>0</td>\n      <td>0</td>\n      <td>0</td>\n      <td>11</td>\n      <td>8.5</td>\n      <td>9</td>\n      <td>7.5</td>\n    </tr>\n    <tr>\n      <th>1</th>\n      <td>2</td>\n      <td>15</td>\n      <td>8</td>\n      <td>7</td>\n      <td>Pathfinder Blog: April Fool's Bestiary</td>\n      <td>3</td>\n      <td>10</td>\n      <td>1</td>\n      <td>2</td>\n      <td>18</td>\n      <td>...</td>\n      <td>0</td>\n      <td>0</td>\n      <td>0</td>\n      <td>0</td>\n      <td>0</td>\n      <td>0</td>\n      <td>11</td>\n      <td>7.5</td>\n      <td>0</td>\n      <td>0.0</td>\n    </tr>\n    <tr>\n      <th>2</th>\n      <td>7</td>\n      <td>0</td>\n      <td>15</td>\n      <td>17</td>\n      <td>Pathfinder Blog: April Fool's Bestiary</td>\n      <td>0</td>\n      <td>19</td>\n      <td>6</td>\n      <td>3</td>\n      <td>32</td>\n      <td>...</td>\n      <td>0</td>\n      <td>0</td>\n      <td>0</td>\n      <td>0</td>\n      <td>0</td>\n      <td>0</td>\n      <td>22</td>\n      <td>23.0</td>\n      <td>22</td>\n      <td>15.0</td>\n    </tr>\n    <tr>\n      <th>3</th>\n      <td>3</td>\n      <td>30</td>\n      <td>4</td>\n      <td>7</td>\n      <td>Pathfinder Blog: April Fool's Bestiary</td>\n      <td>4</td>\n      <td>11</td>\n      <td>0</td>\n      <td>1</td>\n      <td>18</td>\n      <td>...</td>\n      <td>0</td>\n      <td>0</td>\n      <td>0</td>\n      <td>0</td>\n      <td>0</td>\n      <td>0</td>\n      <td>10</td>\n      <td>10.5</td>\n      <td>10</td>\n      <td>8.5</td>\n    </tr>\n    <tr>\n      <th>4</th>\n      <td>1</td>\n      <td>30</td>\n      <td>12</td>\n      <td>7</td>\n      <td>Pathfinder Blog: April Fool's Bestiary</td>\n      <td>1</td>\n      <td>15</td>\n      <td>3</td>\n      <td>0</td>\n      <td>19</td>\n      <td>...</td>\n      <td>0</td>\n      <td>0</td>\n      <td>0</td>\n      <td>0</td>\n      <td>0</td>\n      <td>0</td>\n      <td>10</td>\n      <td>9.0</td>\n      <td>10</td>\n      <td>8.5</td>\n    </tr>\n  </tbody>\n</table>\n<p>5 rows × 52 columns</p>\n</div>"
     },
     "execution_count": 33,
     "metadata": {},
     "output_type": "execute_result"
    }
   ],
   "source": [
    "test_df.head()"
   ],
   "metadata": {
    "collapsed": false
   }
  },
  {
   "cell_type": "code",
   "execution_count": 34,
   "outputs": [],
   "source": [
    "from training.creating_dataset import get_characteristic_from_list\n",
    "\n",
    "\n",
    "def extract_and_assign_chars(\n",
    "    char_group: set,\n",
    "    path_to_char: str,\n",
    "    bestiary: pd.DataFrame,\n",
    "    df: pd.DataFrame,\n",
    "    replace_val: str,\n",
    "):\n",
    "    \"\"\"\n",
    "    Extract and assign values for a group of characteristics from `bestiary` DataFrame to another `df` DataFrame.\n",
    "\n",
    "    :param char_group: A set of characteristic names to extract and assign.\n",
    "    :param path_to_char: The path to the column containing the characteristic values in the `bestiary` DataFrame.\n",
    "    :param bestiary: The DataFrame containing data from which to extract characteristic values.\n",
    "    :param df: The DataFrame to which the extracted values will be assigned.\n",
    "    :param replace_val:  A string to replace in characteristic names to determine the target column names in `df`.\n",
    "    \"\"\"\n",
    "\n",
    "    \"\"\"============= change ==================\"\"\"\n",
    "    if path_to_char not in bestiary.columns:\n",
    "        for char in char_group:\n",
    "            df[char] = pd.Series(0, index=bestiary.index)\n",
    "        return\n",
    "    \"\"\"============== end =================\"\"\"\n",
    "\n",
    "    for char in char_group:\n",
    "        characteristic_name = char.replace(replace_val, \"\")\n",
    "        get_value = lambda x: get_characteristic_from_list(x, characteristic_name)\n",
    "        df[char] = bestiary[path_to_char].apply(get_value)"
   ],
   "metadata": {
    "collapsed": false
   }
  },
  {
   "cell_type": "code",
   "execution_count": 35,
   "outputs": [],
   "source": [
    "weaknesses = [\n",
    "    \"cold-iron_weakness\",\n",
    "    \"good_weakness\",\n",
    "    \"fire_weakness\",\n",
    "    \"cold_weakness\",\n",
    "    \"area-damage_weakness\",\n",
    "    \"splash-damage_weakness\",\n",
    "    \"evil_weakness\",\n",
    "    \"slashing_weakness\",\n",
    "]\n",
    "WEAKNESSES_PATH = \"system.attributes.weaknesses\"\n",
    "new_df = pd.DataFrame()"
   ],
   "metadata": {
    "collapsed": false
   }
  },
  {
   "cell_type": "code",
   "execution_count": 36,
   "outputs": [
    {
     "data": {
      "text/plain": "False"
     },
     "execution_count": 36,
     "metadata": {},
     "output_type": "execute_result"
    }
   ],
   "source": [
    "WEAKNESSES_PATH in df.columns"
   ],
   "metadata": {
    "collapsed": false
   }
  },
  {
   "cell_type": "code",
   "execution_count": 37,
   "outputs": [],
   "source": [
    "extract_and_assign_chars(\n",
    "    weaknesses, WEAKNESSES_PATH, bestiary=df, df=new_df, replace_val=\"_weakness\"\n",
    ")\n",
    "# changes applied"
   ],
   "metadata": {
    "collapsed": false
   }
  },
  {
   "cell_type": "code",
   "execution_count": 38,
   "outputs": [
    {
     "data": {
      "text/plain": "   cold-iron_weakness  good_weakness  fire_weakness  cold_weakness  \\\n0                   0              0              0              0   \n1                   0              0              0              0   \n2                   0              0              0              0   \n3                   0              0              0              0   \n4                   0              0              0              0   \n5                   0              0              0              0   \n6                   0              0              0              0   \n7                   0              0              0              0   \n8                   0              0              0              0   \n\n   area-damage_weakness  splash-damage_weakness  evil_weakness  \\\n0                     0                       0              0   \n1                     0                       0              0   \n2                     0                       0              0   \n3                     0                       0              0   \n4                     0                       0              0   \n5                     0                       0              0   \n6                     0                       0              0   \n7                     0                       0              0   \n8                     0                       0              0   \n\n   slashing_weakness  \n0                  0  \n1                  0  \n2                  0  \n3                  0  \n4                  0  \n5                  0  \n6                  0  \n7                  0  \n8                  0  ",
      "text/html": "<div>\n<style scoped>\n    .dataframe tbody tr th:only-of-type {\n        vertical-align: middle;\n    }\n\n    .dataframe tbody tr th {\n        vertical-align: top;\n    }\n\n    .dataframe thead th {\n        text-align: right;\n    }\n</style>\n<table border=\"1\" class=\"dataframe\">\n  <thead>\n    <tr style=\"text-align: right;\">\n      <th></th>\n      <th>cold-iron_weakness</th>\n      <th>good_weakness</th>\n      <th>fire_weakness</th>\n      <th>cold_weakness</th>\n      <th>area-damage_weakness</th>\n      <th>splash-damage_weakness</th>\n      <th>evil_weakness</th>\n      <th>slashing_weakness</th>\n    </tr>\n  </thead>\n  <tbody>\n    <tr>\n      <th>0</th>\n      <td>0</td>\n      <td>0</td>\n      <td>0</td>\n      <td>0</td>\n      <td>0</td>\n      <td>0</td>\n      <td>0</td>\n      <td>0</td>\n    </tr>\n    <tr>\n      <th>1</th>\n      <td>0</td>\n      <td>0</td>\n      <td>0</td>\n      <td>0</td>\n      <td>0</td>\n      <td>0</td>\n      <td>0</td>\n      <td>0</td>\n    </tr>\n    <tr>\n      <th>2</th>\n      <td>0</td>\n      <td>0</td>\n      <td>0</td>\n      <td>0</td>\n      <td>0</td>\n      <td>0</td>\n      <td>0</td>\n      <td>0</td>\n    </tr>\n    <tr>\n      <th>3</th>\n      <td>0</td>\n      <td>0</td>\n      <td>0</td>\n      <td>0</td>\n      <td>0</td>\n      <td>0</td>\n      <td>0</td>\n      <td>0</td>\n    </tr>\n    <tr>\n      <th>4</th>\n      <td>0</td>\n      <td>0</td>\n      <td>0</td>\n      <td>0</td>\n      <td>0</td>\n      <td>0</td>\n      <td>0</td>\n      <td>0</td>\n    </tr>\n    <tr>\n      <th>5</th>\n      <td>0</td>\n      <td>0</td>\n      <td>0</td>\n      <td>0</td>\n      <td>0</td>\n      <td>0</td>\n      <td>0</td>\n      <td>0</td>\n    </tr>\n    <tr>\n      <th>6</th>\n      <td>0</td>\n      <td>0</td>\n      <td>0</td>\n      <td>0</td>\n      <td>0</td>\n      <td>0</td>\n      <td>0</td>\n      <td>0</td>\n    </tr>\n    <tr>\n      <th>7</th>\n      <td>0</td>\n      <td>0</td>\n      <td>0</td>\n      <td>0</td>\n      <td>0</td>\n      <td>0</td>\n      <td>0</td>\n      <td>0</td>\n    </tr>\n    <tr>\n      <th>8</th>\n      <td>0</td>\n      <td>0</td>\n      <td>0</td>\n      <td>0</td>\n      <td>0</td>\n      <td>0</td>\n      <td>0</td>\n      <td>0</td>\n    </tr>\n  </tbody>\n</table>\n</div>"
     },
     "execution_count": 38,
     "metadata": {},
     "output_type": "execute_result"
    }
   ],
   "source": [
    "new_df"
   ],
   "metadata": {
    "collapsed": false
   }
  },
  {
   "cell_type": "markdown",
   "source": [
    "#### pfs-introductions-bestiary.db\n",
    "Problem solved above (`april-fools-bestiary.db`)"
   ],
   "metadata": {
    "collapsed": false
   }
  },
  {
   "cell_type": "markdown",
   "source": [
    "#### extinction-curse-bestiary.db"
   ],
   "metadata": {
    "collapsed": false
   }
  },
  {
   "cell_type": "code",
   "execution_count": 39,
   "outputs": [],
   "source": [
    "df = load_data(paths_to_books=[f\"{DATASETS_DIR}/extinction-curse-bestiary.db\"])"
   ],
   "metadata": {
    "collapsed": false
   }
  },
  {
   "cell_type": "code",
   "execution_count": 40,
   "outputs": [],
   "source": [
    "from training.creating_dataset import preprocess_data\n",
    "\n",
    "\n",
    "# df = preprocess_data(df, characteristics=features)\n",
    "# ValueError: invalid literal for int() with base 10: ''\n",
    "# count_damage_expected_value"
   ],
   "metadata": {
    "collapsed": false
   }
  },
  {
   "cell_type": "code",
   "execution_count": 41,
   "outputs": [],
   "source": [
    "df[\"melee_max_bonus\"], df[\"melee_damage_exp_val\"] = zip(\n",
    "    *df[\"items\"].apply(lambda x: get_max_melee_bonus_damage(x, \"melee\"))\n",
    ")"
   ],
   "metadata": {
    "collapsed": false
   }
  },
  {
   "cell_type": "markdown",
   "source": [
    "#### npc-gallery.db\n",
    "Problem solved above (`extinction-curse-bestiary.db`)"
   ],
   "metadata": {
    "collapsed": false
   }
  },
  {
   "cell_type": "markdown",
   "source": [
    "#### fall-of-plaguestone.db"
   ],
   "metadata": {
    "collapsed": false
   }
  },
  {
   "cell_type": "code",
   "execution_count": 42,
   "outputs": [],
   "source": [
    "df = load_data(paths_to_books=[f\"{DATASETS_DIR}/fall-of-plaguestone.db\"])"
   ],
   "metadata": {
    "collapsed": false
   }
  },
  {
   "cell_type": "code",
   "execution_count": 43,
   "outputs": [],
   "source": [
    "from training.creating_dataset import preprocess_data\n",
    "\n",
    "# df = preprocess_data(df, characteristics=features)\n",
    "# KeyError: \"['system.resources.focus.value'] not in index\""
   ],
   "metadata": {
    "collapsed": false
   }
  },
  {
   "cell_type": "code",
   "execution_count": 44,
   "outputs": [
    {
     "data": {
      "text/plain": "['system.abilities.cha.mod',\n 'system.abilities.con.mod',\n 'system.abilities.dex.mod',\n 'system.abilities.int.mod',\n 'system.abilities.str.mod',\n 'system.abilities.wis.mod',\n 'system.attributes.ac.details',\n 'system.attributes.ac.value',\n 'system.attributes.allSaves.value',\n 'system.attributes.hp.details',\n 'system.attributes.hp.max',\n 'system.attributes.hp.temp',\n 'system.attributes.hp.value',\n 'system.attributes.initiative.ability',\n 'system.attributes.perception.value',\n 'system.attributes.speed.otherSpeeds',\n 'system.attributes.speed.value',\n 'system.details.alignment.value',\n 'system.details.blurb',\n 'system.details.creatureType',\n 'system.details.level.value',\n 'system.details.privateNotes',\n 'system.details.publicNotes',\n 'system.details.rarity.value',\n 'system.details.source.value',\n 'system.saves.fortitude.saveDetail',\n 'system.saves.fortitude.value',\n 'system.saves.reflex.saveDetail',\n 'system.saves.reflex.value',\n 'system.saves.will.saveDetail',\n 'system.saves.will.value',\n 'system.traits.languages.custom',\n 'system.traits.languages.selected',\n 'system.traits.languages.value',\n 'system.traits.rarity',\n 'system.traits.senses.value',\n 'system.traits.size.value',\n 'system.traits.value',\n 'system.schema.version',\n 'system.schema.lastMigration',\n 'system.attributes.resistances',\n 'system.attributes.immunities',\n 'system.attributes.weaknesses',\n 'system.attributes.hardness',\n 'system.attributes.hasHealth',\n 'system.attributes.hp.tempmax',\n 'system.attributes.stealth.details',\n 'system.attributes.stealth.value',\n 'system.creatureType',\n 'system.details.description',\n 'system.details.disable',\n 'system.details.isComplex',\n 'system.details.reset',\n 'system.details.routine',\n 'system.source.value',\n 'system.statusEffects',\n 'system.source.author']"
     },
     "execution_count": 44,
     "metadata": {},
     "output_type": "execute_result"
    }
   ],
   "source": [
    "[col for col in df.columns if \"system\" in col]"
   ],
   "metadata": {
    "collapsed": false
   }
  },
  {
   "cell_type": "code",
   "execution_count": 45,
   "outputs": [],
   "source": [
    "from training.creating_dataset import (\n",
    "    split_characteristics_into_groups,\n",
    "    CHARACTERISTICS_RENAME,\n",
    "    extract_and_assign_chars,\n",
    "    get_nr_of_spells_with_lvl,\n",
    "    get_max_melee_bonus_damage,\n",
    "    RESISTANCE_PATH,\n",
    "    WEAKNESSES_PATH,\n",
    "    OTHER_SPEED_PATH,\n",
    ")\n",
    "\n",
    "\n",
    "def new_preprocess_data(\n",
    "    bestiary: pd.DataFrame, characteristics: list[str]\n",
    ") -> pd.DataFrame:\n",
    "    \"\"\"\n",
    "    Creates dataframe containing chosen characteristics, level and source book of monsters from given bestiary.\n",
    "\n",
    "    :param bestiary: A pandas DataFrame containing information about monsters.\n",
    "    :param characteristics: A list of characteristics to load.\n",
    "    :return: DataFrame with monsters from chosen books and with chosen characteristics and their origin book.\n",
    "    \"\"\"\n",
    "    pd.options.mode.chained_assignment = None\n",
    "    # silent warning (SettingWithCopyWarning) about view and copy\n",
    "    # we don't need to go back to the original df - no matter if it is a view\n",
    "\n",
    "    characteristics_groups = split_characteristics_into_groups(set(characteristics))\n",
    "\n",
    "    if \"num_immunities\" in characteristics_groups.characteristics_rename:\n",
    "        immunities_path = CHARACTERISTICS_RENAME.get(\"num_immunities\")\n",
    "        \"\"\"========== changed =========\"\"\"\n",
    "        if immunities_path not in bestiary.columns:\n",
    "            bestiary[immunities_path] = pd.Series(0, index=bestiary.index)\n",
    "\n",
    "        else:\n",
    "            count_immunities = lambda x: 0 if x is np.nan else len(x)\n",
    "            bestiary[immunities_path] = bestiary[immunities_path].apply(\n",
    "                count_immunities\n",
    "            )\n",
    "        \"\"\"========== end ==============\"\"\"\n",
    "\n",
    "    \"\"\"========== changed =========\"\"\"\n",
    "    if \"focus\" in characteristics_groups.characteristics_rename:\n",
    "        if CHARACTERISTICS_RENAME.get(\"focus\") not in bestiary.columns:\n",
    "            bestiary[CHARACTERISTICS_RENAME.get(\"focus\")] = pd.Series(\n",
    "                0, index=bestiary.index\n",
    "            )\n",
    "    \"\"\"========== end ==============\"\"\"\n",
    "\n",
    "    COLS_TO_EXTRACT = pd.DataFrame(\n",
    "        data=[\n",
    "            (characteristic, CHARACTERISTICS_RENAME.get(characteristic))\n",
    "            for characteristic in characteristics_groups.characteristics_rename.union(\n",
    "                {\"book\", \"level\"}\n",
    "            )\n",
    "        ],\n",
    "        columns=[\"target_name\", \"raw_name\"],\n",
    "    )\n",
    "\n",
    "    raw_names = COLS_TO_EXTRACT[\"raw_name\"]\n",
    "    target_names = COLS_TO_EXTRACT[\"target_name\"]\n",
    "\n",
    "    # to not have Series names as a part of final df\n",
    "    target_names.name = None\n",
    "\n",
    "    df = bestiary[raw_names]\n",
    "    df.columns = target_names\n",
    "\n",
    "    extract_and_assign_chars(\n",
    "        characteristics_groups.resistances, RESISTANCE_PATH, bestiary, df, \"_resistance\"\n",
    "    )\n",
    "\n",
    "    extract_and_assign_chars(\n",
    "        characteristics_groups.weaknesses, WEAKNESSES_PATH, bestiary, df, \"_weakness\"\n",
    "    )\n",
    "\n",
    "    extract_and_assign_chars(\n",
    "        characteristics_groups.speeds, OTHER_SPEED_PATH, bestiary, df, \"\"\n",
    "    )\n",
    "\n",
    "    if \"spells\" in characteristics_groups.special_characteristics:\n",
    "        MAX_SPELL_LVL = 9\n",
    "        for i in range(1, MAX_SPELL_LVL + 1):\n",
    "            df[f\"spells_nr_lvl_{i}\"] = bestiary[\"items\"].apply(\n",
    "                lambda x: get_nr_of_spells_with_lvl(x, i)\n",
    "            )\n",
    "\n",
    "    if \"melee\" in characteristics_groups.special_characteristics:\n",
    "        df[\"melee_max_bonus\"], df[\"avg_melee_dmg\"] = zip(\n",
    "            *bestiary[\"items\"].apply(lambda x: get_max_melee_bonus_damage(x, \"melee\"))\n",
    "        )\n",
    "\n",
    "    if \"ranged\" in characteristics_groups.special_characteristics:\n",
    "        df[\"ranged_max_bonus\"], df[\"avg_ranged_dmg\"] = zip(\n",
    "            *bestiary[\"items\"].apply(lambda x: get_max_melee_bonus_damage(x, \"ranged\"))\n",
    "        )\n",
    "\n",
    "    if \"focus\" in df.columns:\n",
    "        df[\"focus\"] = df[\"focus\"].fillna(0)\n",
    "        df[\"focus\"] = df[\"focus\"].astype(int)\n",
    "\n",
    "    if \"land_speed\" in df.columns:\n",
    "        df[\"land_speed\"] = df[\"land_speed\"].fillna(0)\n",
    "\n",
    "    df.loc[df[\"level\"] > 20, \"level\"] = 21\n",
    "\n",
    "    pd.reset_option(\"mode.chained_assignment\")\n",
    "\n",
    "    return df"
   ],
   "metadata": {
    "collapsed": false
   }
  },
  {
   "cell_type": "code",
   "execution_count": 46,
   "outputs": [],
   "source": [
    "test_df = new_preprocess_data(df, characteristics=features)\n",
    "\n",
    "# changes applied"
   ],
   "metadata": {
    "collapsed": false
   }
  },
  {
   "cell_type": "code",
   "execution_count": 47,
   "outputs": [],
   "source": [
    "df = load_and_preprocess_data(\n",
    "    paths_to_books=[f\"{DATASETS_DIR}/fall-of-plaguestone.db\"], characteristics=features\n",
    ")"
   ],
   "metadata": {
    "collapsed": false
   }
  },
  {
   "cell_type": "markdown",
   "source": [
    "#### impossible-lands-bestiary.db\n",
    "Problem solved above (`fall-of-plaguestone.db`)"
   ],
   "metadata": {
    "collapsed": false
   }
  },
  {
   "cell_type": "markdown",
   "source": [
    "#### pathfinder-dark-archive.db\n",
    "Problem solved above (`fall-of-plaguestone.db`)"
   ],
   "metadata": {
    "collapsed": false
   }
  },
  {
   "cell_type": "markdown",
   "source": [
    "#### travel-guide-bestiary.db"
   ],
   "metadata": {
    "collapsed": false
   }
  },
  {
   "cell_type": "code",
   "execution_count": 48,
   "outputs": [],
   "source": [
    "df = load_data(paths_to_books=[f\"{DATASETS_DIR}/travel-guide-bestiary.db\"])"
   ],
   "metadata": {
    "collapsed": false
   }
  },
  {
   "cell_type": "code",
   "execution_count": 49,
   "outputs": [],
   "source": [
    "# df = preprocess_data(df, characteristics=features)\n",
    "\n",
    "# KeyError: 'system.attributes.immunities'"
   ],
   "metadata": {
    "collapsed": false
   }
  },
  {
   "cell_type": "code",
   "execution_count": 50,
   "outputs": [],
   "source": [
    "df = new_preprocess_data(df, characteristics=features)"
   ],
   "metadata": {
    "collapsed": false
   }
  },
  {
   "cell_type": "markdown",
   "source": [
    "## Summary\n",
    "After applying all of the above changes there are 37 books with 3690 monsters in total"
   ],
   "metadata": {
    "collapsed": false
   }
  },
  {
   "cell_type": "code",
   "execution_count": 52,
   "outputs": [
    {
     "data": {
      "text/plain": "37"
     },
     "execution_count": 52,
     "metadata": {},
     "output_type": "execute_result"
    }
   ],
   "source": [
    "len(FILTERED_DATA)"
   ],
   "metadata": {
    "collapsed": false
   }
  },
  {
   "cell_type": "code",
   "execution_count": 53,
   "outputs": [
    {
     "data": {
      "text/plain": "3690"
     },
     "execution_count": 53,
     "metadata": {},
     "output_type": "execute_result"
    }
   ],
   "source": [
    "monster_sum"
   ],
   "metadata": {
    "collapsed": false
   }
  },
  {
   "cell_type": "code",
   "execution_count": 55,
   "outputs": [],
   "source": [
    "df = load_and_preprocess_data(\n",
    "    [f\"{DATASETS_DIR}/{file}\" for file in FILTERED_DATA], characteristics=features\n",
    ")"
   ],
   "metadata": {
    "collapsed": false
   }
  },
  {
   "cell_type": "code",
   "execution_count": 56,
   "outputs": [
    {
     "data": {
      "text/plain": "   dex  land_speed  fortitude  will  \\\n0  3.0        20.0       15.0  20.0   \n1  3.0        40.0       22.0  19.0   \n2  3.0        30.0        7.0   9.0   \n3  4.0        30.0       17.0  15.0   \n4  6.0         0.0       14.0  18.0   \n\n                                                book  cha  perception  \\\n0               Pathfinder #165: Eyes of Empty Death  0.0        18.0   \n1  Pathfinder Abomination Vaults Hardcover Compil...  0.0        19.0   \n2                Pathfinder #164: Hands of the Devil  1.0         7.0   \n3                Pathfinder #164: Hands of the Devil  1.0        16.0   \n4               Pathfinder #165: Eyes of Empty Death  2.0        20.0   \n\n   num_immunities  con    ac  ...  spells_nr_lvl_4  spells_nr_lvl_5  \\\n0               5  0.0  28.0  ...                2                0   \n1               0  6.0  30.0  ...                0                0   \n2               0  1.0  17.0  ...                0                0   \n3               0  3.0  27.0  ...                0                0   \n4               1  0.0  31.0  ...                0                0   \n\n   spells_nr_lvl_6  spells_nr_lvl_7  spells_nr_lvl_8  spells_nr_lvl_9  \\\n0                0                0                0                0   \n1                0                0                0                0   \n2                0                0                0                0   \n3                0                0                0                0   \n4                0                0                0                0   \n\n  melee_max_bonus  avg_melee_dmg  ranged_max_bonus  avg_ranged_dmg  \n0              21           19.0                 0             0.0  \n1              23           22.0                 0             0.0  \n2               9            6.5                 8             6.5  \n3              20           18.0                20             9.5  \n4              17           21.5                 0             0.0  \n\n[5 rows x 52 columns]",
      "text/html": "<div>\n<style scoped>\n    .dataframe tbody tr th:only-of-type {\n        vertical-align: middle;\n    }\n\n    .dataframe tbody tr th {\n        vertical-align: top;\n    }\n\n    .dataframe thead th {\n        text-align: right;\n    }\n</style>\n<table border=\"1\" class=\"dataframe\">\n  <thead>\n    <tr style=\"text-align: right;\">\n      <th></th>\n      <th>dex</th>\n      <th>land_speed</th>\n      <th>fortitude</th>\n      <th>will</th>\n      <th>book</th>\n      <th>cha</th>\n      <th>perception</th>\n      <th>num_immunities</th>\n      <th>con</th>\n      <th>ac</th>\n      <th>...</th>\n      <th>spells_nr_lvl_4</th>\n      <th>spells_nr_lvl_5</th>\n      <th>spells_nr_lvl_6</th>\n      <th>spells_nr_lvl_7</th>\n      <th>spells_nr_lvl_8</th>\n      <th>spells_nr_lvl_9</th>\n      <th>melee_max_bonus</th>\n      <th>avg_melee_dmg</th>\n      <th>ranged_max_bonus</th>\n      <th>avg_ranged_dmg</th>\n    </tr>\n  </thead>\n  <tbody>\n    <tr>\n      <th>0</th>\n      <td>3.0</td>\n      <td>20.0</td>\n      <td>15.0</td>\n      <td>20.0</td>\n      <td>Pathfinder #165: Eyes of Empty Death</td>\n      <td>0.0</td>\n      <td>18.0</td>\n      <td>5</td>\n      <td>0.0</td>\n      <td>28.0</td>\n      <td>...</td>\n      <td>2</td>\n      <td>0</td>\n      <td>0</td>\n      <td>0</td>\n      <td>0</td>\n      <td>0</td>\n      <td>21</td>\n      <td>19.0</td>\n      <td>0</td>\n      <td>0.0</td>\n    </tr>\n    <tr>\n      <th>1</th>\n      <td>3.0</td>\n      <td>40.0</td>\n      <td>22.0</td>\n      <td>19.0</td>\n      <td>Pathfinder Abomination Vaults Hardcover Compil...</td>\n      <td>0.0</td>\n      <td>19.0</td>\n      <td>0</td>\n      <td>6.0</td>\n      <td>30.0</td>\n      <td>...</td>\n      <td>0</td>\n      <td>0</td>\n      <td>0</td>\n      <td>0</td>\n      <td>0</td>\n      <td>0</td>\n      <td>23</td>\n      <td>22.0</td>\n      <td>0</td>\n      <td>0.0</td>\n    </tr>\n    <tr>\n      <th>2</th>\n      <td>3.0</td>\n      <td>30.0</td>\n      <td>7.0</td>\n      <td>9.0</td>\n      <td>Pathfinder #164: Hands of the Devil</td>\n      <td>1.0</td>\n      <td>7.0</td>\n      <td>0</td>\n      <td>1.0</td>\n      <td>17.0</td>\n      <td>...</td>\n      <td>0</td>\n      <td>0</td>\n      <td>0</td>\n      <td>0</td>\n      <td>0</td>\n      <td>0</td>\n      <td>9</td>\n      <td>6.5</td>\n      <td>8</td>\n      <td>6.5</td>\n    </tr>\n    <tr>\n      <th>3</th>\n      <td>4.0</td>\n      <td>30.0</td>\n      <td>17.0</td>\n      <td>15.0</td>\n      <td>Pathfinder #164: Hands of the Devil</td>\n      <td>1.0</td>\n      <td>16.0</td>\n      <td>0</td>\n      <td>3.0</td>\n      <td>27.0</td>\n      <td>...</td>\n      <td>0</td>\n      <td>0</td>\n      <td>0</td>\n      <td>0</td>\n      <td>0</td>\n      <td>0</td>\n      <td>20</td>\n      <td>18.0</td>\n      <td>20</td>\n      <td>9.5</td>\n    </tr>\n    <tr>\n      <th>4</th>\n      <td>6.0</td>\n      <td>0.0</td>\n      <td>14.0</td>\n      <td>18.0</td>\n      <td>Pathfinder #165: Eyes of Empty Death</td>\n      <td>2.0</td>\n      <td>20.0</td>\n      <td>1</td>\n      <td>0.0</td>\n      <td>31.0</td>\n      <td>...</td>\n      <td>0</td>\n      <td>0</td>\n      <td>0</td>\n      <td>0</td>\n      <td>0</td>\n      <td>0</td>\n      <td>17</td>\n      <td>21.5</td>\n      <td>0</td>\n      <td>0.0</td>\n    </tr>\n  </tbody>\n</table>\n<p>5 rows × 52 columns</p>\n</div>"
     },
     "execution_count": 56,
     "metadata": {},
     "output_type": "execute_result"
    }
   ],
   "source": [
    "df.head()"
   ],
   "metadata": {
    "collapsed": false
   }
  },
  {
   "cell_type": "code",
   "execution_count": 57,
   "outputs": [
    {
     "name": "stdout",
     "output_type": "stream",
     "text": [
      "<class 'pandas.core.frame.DataFrame'>\n",
      "Int64Index: 3690 entries, 0 to 4327\n",
      "Data columns (total 52 columns):\n",
      " #   Column                  Non-Null Count  Dtype  \n",
      "---  ------                  --------------  -----  \n",
      " 0   dex                     3690 non-null   float64\n",
      " 1   land_speed              3690 non-null   float64\n",
      " 2   fortitude               3690 non-null   float64\n",
      " 3   will                    3690 non-null   float64\n",
      " 4   book                    3690 non-null   object \n",
      " 5   cha                     3690 non-null   float64\n",
      " 6   perception              3690 non-null   float64\n",
      " 7   num_immunities          3690 non-null   int64  \n",
      " 8   con                     3690 non-null   float64\n",
      " 9   ac                      3690 non-null   float64\n",
      " 10  wis                     3690 non-null   float64\n",
      " 11  reflex                  3690 non-null   float64\n",
      " 12  int                     3690 non-null   float64\n",
      " 13  level                   3690 non-null   int64  \n",
      " 14  str                     3690 non-null   float64\n",
      " 15  focus                   3690 non-null   int32  \n",
      " 16  hp                      3690 non-null   object \n",
      " 17  piercing_resistance     3690 non-null   int64  \n",
      " 18  bludgeoning_resistance  3690 non-null   int64  \n",
      " 19  all-damage_resistance   3690 non-null   int64  \n",
      " 20  acid_resistance         3690 non-null   int64  \n",
      " 21  electricity_resistance  3690 non-null   int64  \n",
      " 22  cold_resistance         3690 non-null   int64  \n",
      " 23  mental_resistance       3690 non-null   int64  \n",
      " 24  physical_resistance     3690 non-null   int64  \n",
      " 25  fire_resistance         3690 non-null   int64  \n",
      " 26  poison_resistance       3690 non-null   int64  \n",
      " 27  slashing_resistance     3690 non-null   int64  \n",
      " 28  good_weakness           3690 non-null   int64  \n",
      " 29  splash-damage_weakness  3690 non-null   int64  \n",
      " 30  slashing_weakness       3690 non-null   int64  \n",
      " 31  area-damage_weakness    3690 non-null   int64  \n",
      " 32  cold-iron_weakness      3690 non-null   int64  \n",
      " 33  evil_weakness           3690 non-null   int64  \n",
      " 34  fire_weakness           3690 non-null   int64  \n",
      " 35  cold_weakness           3690 non-null   int64  \n",
      " 36  swim                    3690 non-null   int64  \n",
      " 37  climb                   3690 non-null   int64  \n",
      " 38  fly                     3690 non-null   int64  \n",
      " 39  spells_nr_lvl_1         3690 non-null   int64  \n",
      " 40  spells_nr_lvl_2         3690 non-null   int64  \n",
      " 41  spells_nr_lvl_3         3690 non-null   int64  \n",
      " 42  spells_nr_lvl_4         3690 non-null   int64  \n",
      " 43  spells_nr_lvl_5         3690 non-null   int64  \n",
      " 44  spells_nr_lvl_6         3690 non-null   int64  \n",
      " 45  spells_nr_lvl_7         3690 non-null   int64  \n",
      " 46  spells_nr_lvl_8         3690 non-null   int64  \n",
      " 47  spells_nr_lvl_9         3690 non-null   int64  \n",
      " 48  melee_max_bonus         3690 non-null   int64  \n",
      " 49  avg_melee_dmg           3690 non-null   float64\n",
      " 50  ranged_max_bonus        3690 non-null   int64  \n",
      " 51  avg_ranged_dmg          3690 non-null   float64\n",
      "dtypes: float64(14), int32(1), int64(35), object(2)\n",
      "memory usage: 1.5+ MB\n"
     ]
    }
   ],
   "source": [
    "df.info()"
   ],
   "metadata": {
    "collapsed": false
   }
  },
  {
   "cell_type": "code",
   "execution_count": null,
   "outputs": [],
   "source": [],
   "metadata": {
    "collapsed": false
   }
  }
 ],
 "metadata": {
  "kernelspec": {
   "display_name": "Python 3",
   "language": "python",
   "name": "python3"
  },
  "language_info": {
   "codemirror_mode": {
    "name": "ipython",
    "version": 2
   },
   "file_extension": ".py",
   "mimetype": "text/x-python",
   "name": "python",
   "nbconvert_exporter": "python",
   "pygments_lexer": "ipython2",
   "version": "2.7.6"
  }
 },
 "nbformat": 4,
 "nbformat_minor": 0
}
