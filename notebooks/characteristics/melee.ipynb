{
 "cells": [
  {
   "cell_type": "markdown",
   "source": [
    "# Max melee and expected value of damage"
   ],
   "metadata": {
    "collapsed": false
   }
  },
  {
   "cell_type": "markdown",
   "source": [
    "## One monster\n",
    "First anylyse only one monster: *Lich*"
   ],
   "metadata": {
    "collapsed": false
   }
  },
  {
   "cell_type": "code",
   "execution_count": 1,
   "metadata": {
    "collapsed": true
   },
   "outputs": [],
   "source": [
    "import pandas as pd\n",
    "\n",
    "\n",
    "book = \"../../pathfinder_2e_data/pathfinder-bestiary.db\"\n",
    "df = pd.read_json(book, lines=True)"
   ]
  },
  {
   "cell_type": "code",
   "execution_count": 2,
   "outputs": [],
   "source": [
    "monster_name = \"Lich\"\n",
    "\n",
    "monster = df[df.name == monster_name]\n",
    "monster = monster.iloc[0, :]"
   ],
   "metadata": {
    "collapsed": false
   }
  },
  {
   "cell_type": "code",
   "execution_count": 3,
   "outputs": [
    {
     "data": {
      "text/plain": "_id                                                EibxkD9y30YmPaLH\nimg                        systems/pf2e/icons/default-icons/npc.svg\nitems             [{'_id': '6Upo1ddHWd1c49bj', 'img': 'systems/p...\nname                                                           Lich\nsystem            {'abilities': {'cha': {'mod': 3}, 'con': {'mod...\ntype                                                            npc\nflags             {'core': {'sourceId': 'Compendium.pf2e.pathfin...\nprototypeToken                                                  NaN\nName: 111, dtype: object"
     },
     "execution_count": 3,
     "metadata": {},
     "output_type": "execute_result"
    }
   ],
   "source": [
    "monster"
   ],
   "metadata": {
    "collapsed": false
   }
  },
  {
   "cell_type": "code",
   "execution_count": 4,
   "outputs": [],
   "source": [
    "items = pd.DataFrame.from_records(monster[\"items\"])"
   ],
   "metadata": {
    "collapsed": false
   }
  },
  {
   "cell_type": "code",
   "execution_count": 5,
   "outputs": [
    {
     "name": "stdout",
     "output_type": "stream",
     "text": [
      "<class 'pandas.core.frame.DataFrame'>\n",
      "RangeIndex: 46 entries, 0 to 45\n",
      "Data columns (total 7 columns):\n",
      " #   Column  Non-Null Count  Dtype \n",
      "---  ------  --------------  ----- \n",
      " 0   _id     46 non-null     object\n",
      " 1   img     46 non-null     object\n",
      " 2   name    46 non-null     object\n",
      " 3   sort    46 non-null     int64 \n",
      " 4   system  46 non-null     object\n",
      " 5   type    46 non-null     object\n",
      " 6   flags   36 non-null     object\n",
      "dtypes: int64(1), object(6)\n",
      "memory usage: 2.6+ KB\n"
     ]
    }
   ],
   "source": [
    "items.info()"
   ],
   "metadata": {
    "collapsed": false
   }
  },
  {
   "cell_type": "code",
   "execution_count": 6,
   "outputs": [
    {
     "data": {
      "text/plain": "                _id                                                img  \\\n0  6Upo1ddHWd1c49bj  systems/pf2e/icons/default-icons/spellcastingE...   \n1  FzkEeUQeqjdnaAq7     systems/pf2e/icons/spells/chain-lightning.webp   \n2  FOscCbZ02cjkRFXT            systems/pf2e/icons/spells/dominate.webp   \n3  fLyeUvouTe8snajF  systems/pf2e/icons/spells/vampiric-exsanguinat...   \n4  m5OFwVfydjZQhgkx           systems/pf2e/icons/spells/cloudkill.webp   \n\n                      name    sort  \\\n0   Arcane Prepared Spells  100000   \n1          Chain Lightning  200000   \n2                 Dominate  300000   \n3  Vampiric Exsanguination  400000   \n4                Cloudkill  500000   \n\n                                              system               type  \\\n0  {'autoHeightenLevel': {'value': None}, 'descri...  spellcastingEntry   \n1  {'ability': {'value': ''}, 'area': None, 'cate...              spell   \n2  {'ability': {'value': ''}, 'area': None, 'cate...              spell   \n3  {'ability': {'value': ''}, 'area': {'type': 'c...              spell   \n4  {'ability': {'value': ''}, 'area': {'type': 'b...              spell   \n\n                                               flags  \n0                                                NaN  \n1  {'core': {'sourceId': 'Compendium.pf2e.spells-...  \n2  {'core': {'sourceId': 'Compendium.pf2e.spells-...  \n3  {'core': {'sourceId': 'Compendium.pf2e.spells-...  \n4  {'core': {'sourceId': 'Compendium.pf2e.spells-...  ",
      "text/html": "<div>\n<style scoped>\n    .dataframe tbody tr th:only-of-type {\n        vertical-align: middle;\n    }\n\n    .dataframe tbody tr th {\n        vertical-align: top;\n    }\n\n    .dataframe thead th {\n        text-align: right;\n    }\n</style>\n<table border=\"1\" class=\"dataframe\">\n  <thead>\n    <tr style=\"text-align: right;\">\n      <th></th>\n      <th>_id</th>\n      <th>img</th>\n      <th>name</th>\n      <th>sort</th>\n      <th>system</th>\n      <th>type</th>\n      <th>flags</th>\n    </tr>\n  </thead>\n  <tbody>\n    <tr>\n      <th>0</th>\n      <td>6Upo1ddHWd1c49bj</td>\n      <td>systems/pf2e/icons/default-icons/spellcastingE...</td>\n      <td>Arcane Prepared Spells</td>\n      <td>100000</td>\n      <td>{'autoHeightenLevel': {'value': None}, 'descri...</td>\n      <td>spellcastingEntry</td>\n      <td>NaN</td>\n    </tr>\n    <tr>\n      <th>1</th>\n      <td>FzkEeUQeqjdnaAq7</td>\n      <td>systems/pf2e/icons/spells/chain-lightning.webp</td>\n      <td>Chain Lightning</td>\n      <td>200000</td>\n      <td>{'ability': {'value': ''}, 'area': None, 'cate...</td>\n      <td>spell</td>\n      <td>{'core': {'sourceId': 'Compendium.pf2e.spells-...</td>\n    </tr>\n    <tr>\n      <th>2</th>\n      <td>FOscCbZ02cjkRFXT</td>\n      <td>systems/pf2e/icons/spells/dominate.webp</td>\n      <td>Dominate</td>\n      <td>300000</td>\n      <td>{'ability': {'value': ''}, 'area': None, 'cate...</td>\n      <td>spell</td>\n      <td>{'core': {'sourceId': 'Compendium.pf2e.spells-...</td>\n    </tr>\n    <tr>\n      <th>3</th>\n      <td>fLyeUvouTe8snajF</td>\n      <td>systems/pf2e/icons/spells/vampiric-exsanguinat...</td>\n      <td>Vampiric Exsanguination</td>\n      <td>400000</td>\n      <td>{'ability': {'value': ''}, 'area': {'type': 'c...</td>\n      <td>spell</td>\n      <td>{'core': {'sourceId': 'Compendium.pf2e.spells-...</td>\n    </tr>\n    <tr>\n      <th>4</th>\n      <td>m5OFwVfydjZQhgkx</td>\n      <td>systems/pf2e/icons/spells/cloudkill.webp</td>\n      <td>Cloudkill</td>\n      <td>500000</td>\n      <td>{'ability': {'value': ''}, 'area': {'type': 'b...</td>\n      <td>spell</td>\n      <td>{'core': {'sourceId': 'Compendium.pf2e.spells-...</td>\n    </tr>\n  </tbody>\n</table>\n</div>"
     },
     "execution_count": 6,
     "metadata": {},
     "output_type": "execute_result"
    }
   ],
   "source": [
    "items.head()"
   ],
   "metadata": {
    "collapsed": false
   }
  },
  {
   "cell_type": "code",
   "execution_count": 7,
   "outputs": [
    {
     "data": {
      "text/plain": "spell                26\naction                9\nlore                  6\nconsumable            2\nspellcastingEntry     1\nweapon                1\nmelee                 1\nName: type, dtype: int64"
     },
     "execution_count": 7,
     "metadata": {},
     "output_type": "execute_result"
    }
   ],
   "source": [
    "items.type.value_counts()  # only looking for melee"
   ],
   "metadata": {
    "collapsed": false
   }
  },
  {
   "cell_type": "code",
   "execution_count": 8,
   "outputs": [],
   "source": [
    "melee = items[items.type == \"melee\"]"
   ],
   "metadata": {
    "collapsed": false
   }
  },
  {
   "cell_type": "code",
   "execution_count": 9,
   "outputs": [
    {
     "data": {
      "text/plain": "                 _id                                         img  name  \\\n30  M05pu8jIHs0qEKzP  systems/pf2e/icons/default-icons/melee.svg  Hand   \n\n       sort                                             system   type flags  \n30  3100000  {'attack': {'value': ''}, 'attackEffects': {'c...  melee   NaN  ",
      "text/html": "<div>\n<style scoped>\n    .dataframe tbody tr th:only-of-type {\n        vertical-align: middle;\n    }\n\n    .dataframe tbody tr th {\n        vertical-align: top;\n    }\n\n    .dataframe thead th {\n        text-align: right;\n    }\n</style>\n<table border=\"1\" class=\"dataframe\">\n  <thead>\n    <tr style=\"text-align: right;\">\n      <th></th>\n      <th>_id</th>\n      <th>img</th>\n      <th>name</th>\n      <th>sort</th>\n      <th>system</th>\n      <th>type</th>\n      <th>flags</th>\n    </tr>\n  </thead>\n  <tbody>\n    <tr>\n      <th>30</th>\n      <td>M05pu8jIHs0qEKzP</td>\n      <td>systems/pf2e/icons/default-icons/melee.svg</td>\n      <td>Hand</td>\n      <td>3100000</td>\n      <td>{'attack': {'value': ''}, 'attackEffects': {'c...</td>\n      <td>melee</td>\n      <td>NaN</td>\n    </tr>\n  </tbody>\n</table>\n</div>"
     },
     "execution_count": 9,
     "metadata": {},
     "output_type": "execute_result"
    }
   ],
   "source": [
    "melee"
   ],
   "metadata": {
    "collapsed": false
   }
  },
  {
   "cell_type": "markdown",
   "source": [
    "We are interested in max melee value and expected value of damage\n",
    "\n",
    "### Max melee bonus"
   ],
   "metadata": {
    "collapsed": false
   }
  },
  {
   "cell_type": "code",
   "execution_count": 10,
   "outputs": [],
   "source": [
    "from training.analysis_functions import unpack_column\n",
    "\n",
    "\n",
    "system = unpack_column(melee, column_name=\"system\")"
   ],
   "metadata": {
    "collapsed": false
   }
  },
  {
   "cell_type": "code",
   "execution_count": 12,
   "outputs": [
    {
     "name": "stdout",
     "output_type": "stream",
     "text": [
      "<class 'pandas.core.frame.DataFrame'>\n",
      "Int64Index: 1 entries, 30 to 30\n",
      "Data columns (total 11 columns):\n",
      " #   Column         Non-Null Count  Dtype \n",
      "---  ------         --------------  ----- \n",
      " 0   attack         1 non-null      object\n",
      " 1   attackEffects  1 non-null      object\n",
      " 2   bonus          1 non-null      object\n",
      " 3   damageRolls    1 non-null      object\n",
      " 4   description    1 non-null      object\n",
      " 5   rules          1 non-null      object\n",
      " 6   slug           0 non-null      object\n",
      " 7   source         1 non-null      object\n",
      " 8   traits         1 non-null      object\n",
      " 9   weaponType     1 non-null      object\n",
      " 10  schema         1 non-null      object\n",
      "dtypes: object(11)\n",
      "memory usage: 96.0+ bytes\n"
     ]
    }
   ],
   "source": [
    "system.info()"
   ],
   "metadata": {
    "collapsed": false
   }
  },
  {
   "cell_type": "code",
   "execution_count": 13,
   "outputs": [
    {
     "data": {
      "text/plain": "30    {'value': 24}\nName: bonus, dtype: object"
     },
     "execution_count": 13,
     "metadata": {},
     "output_type": "execute_result"
    }
   ],
   "source": [
    "system.bonus"
   ],
   "metadata": {
    "collapsed": false
   }
  },
  {
   "cell_type": "markdown",
   "source": [
    "### Expected value of damage"
   ],
   "metadata": {
    "collapsed": false
   }
  },
  {
   "cell_type": "code",
   "execution_count": 15,
   "outputs": [],
   "source": [
    "damageRolls = unpack_column(system, column_name=\"damageRolls\")"
   ],
   "metadata": {
    "collapsed": false
   }
  },
  {
   "cell_type": "code",
   "execution_count": 16,
   "outputs": [
    {
     "name": "stdout",
     "output_type": "stream",
     "text": [
      "<class 'pandas.core.frame.DataFrame'>\n",
      "Int64Index: 1 entries, 30 to 30\n",
      "Data columns (total 1 columns):\n",
      " #   Column                Non-Null Count  Dtype \n",
      "---  ------                --------------  ----- \n",
      " 0   zjkdhmqwxurovpg6gk4l  1 non-null      object\n",
      "dtypes: object(1)\n",
      "memory usage: 16.0+ bytes\n"
     ]
    }
   ],
   "source": [
    "damageRolls.info()"
   ],
   "metadata": {
    "collapsed": false
   }
  },
  {
   "cell_type": "code",
   "execution_count": 17,
   "outputs": [
    {
     "data": {
      "text/plain": "30    {'damage': '4d8', 'damageType': 'negative'}\nName: zjkdhmqwxurovpg6gk4l, dtype: object"
     },
     "execution_count": 17,
     "metadata": {},
     "output_type": "execute_result"
    }
   ],
   "source": [
    "damageRolls.zjkdhmqwxurovpg6gk4l"
   ],
   "metadata": {
    "collapsed": false
   }
  },
  {
   "cell_type": "code",
   "execution_count": 19,
   "outputs": [],
   "source": [
    "damage_info = unpack_column(damageRolls, column_name=\"zjkdhmqwxurovpg6gk4l\")"
   ],
   "metadata": {
    "collapsed": false
   }
  },
  {
   "cell_type": "code",
   "execution_count": 20,
   "outputs": [
    {
     "name": "stdout",
     "output_type": "stream",
     "text": [
      "<class 'pandas.core.frame.DataFrame'>\n",
      "Int64Index: 1 entries, 30 to 30\n",
      "Data columns (total 2 columns):\n",
      " #   Column      Non-Null Count  Dtype \n",
      "---  ------      --------------  ----- \n",
      " 0   damage      1 non-null      object\n",
      " 1   damageType  1 non-null      object\n",
      "dtypes: object(2)\n",
      "memory usage: 24.0+ bytes\n"
     ]
    }
   ],
   "source": [
    "damage_info.info()"
   ],
   "metadata": {
    "collapsed": false
   }
  },
  {
   "cell_type": "code",
   "execution_count": 21,
   "outputs": [
    {
     "data": {
      "text/plain": "   damage damageType\n30    4d8   negative",
      "text/html": "<div>\n<style scoped>\n    .dataframe tbody tr th:only-of-type {\n        vertical-align: middle;\n    }\n\n    .dataframe tbody tr th {\n        vertical-align: top;\n    }\n\n    .dataframe thead th {\n        text-align: right;\n    }\n</style>\n<table border=\"1\" class=\"dataframe\">\n  <thead>\n    <tr style=\"text-align: right;\">\n      <th></th>\n      <th>damage</th>\n      <th>damageType</th>\n    </tr>\n  </thead>\n  <tbody>\n    <tr>\n      <th>30</th>\n      <td>4d8</td>\n      <td>negative</td>\n    </tr>\n  </tbody>\n</table>\n</div>"
     },
     "execution_count": 21,
     "metadata": {},
     "output_type": "execute_result"
    }
   ],
   "source": [
    "damage_info"
   ],
   "metadata": {
    "collapsed": false
   }
  },
  {
   "cell_type": "code",
   "execution_count": 22,
   "outputs": [
    {
     "data": {
      "text/plain": "30    4d8\nName: damage, dtype: object"
     },
     "execution_count": 22,
     "metadata": {},
     "output_type": "execute_result"
    }
   ],
   "source": [
    "damage_info.damage"
   ],
   "metadata": {
    "collapsed": false
   }
  },
  {
   "cell_type": "code",
   "execution_count": 26,
   "outputs": [
    {
     "data": {
      "text/plain": "'4d8'"
     },
     "execution_count": 26,
     "metadata": {},
     "output_type": "execute_result"
    }
   ],
   "source": [
    "damage = damage_info.damage.iloc[0]\n",
    "damage"
   ],
   "metadata": {
    "collapsed": false
   }
  },
  {
   "cell_type": "code",
   "execution_count": 29,
   "outputs": [
    {
     "data": {
      "text/plain": "('4', '8')"
     },
     "execution_count": 29,
     "metadata": {},
     "output_type": "execute_result"
    }
   ],
   "source": [
    "roll_nr, dice_type = damage.split(\"d\")\n",
    "roll_nr, dice_type"
   ],
   "metadata": {
    "collapsed": false
   }
  },
  {
   "cell_type": "code",
   "execution_count": 31,
   "outputs": [
    {
     "data": {
      "text/plain": "(4, 8)"
     },
     "execution_count": 31,
     "metadata": {},
     "output_type": "execute_result"
    }
   ],
   "source": [
    "roll_nr = int(roll_nr)\n",
    "dice_type = int(dice_type)\n",
    "roll_nr, dice_type"
   ],
   "metadata": {
    "collapsed": false
   }
  },
  {
   "cell_type": "code",
   "execution_count": 32,
   "outputs": [
    {
     "name": "stdout",
     "output_type": "stream",
     "text": [
      "Expected value: 18.0\n"
     ]
    }
   ],
   "source": [
    "print(\n",
    "    f\"Expected value: {roll_nr * sum([i for i in range(1, dice_type + 1)]) / dice_type}\"\n",
    ")"
   ],
   "metadata": {
    "collapsed": false
   }
  },
  {
   "cell_type": "markdown",
   "source": [
    "Monster with multiple melee items: *Adult Brass Dragon*"
   ],
   "metadata": {
    "collapsed": false
   }
  },
  {
   "cell_type": "code",
   "execution_count": 33,
   "outputs": [],
   "source": [
    "monster_name = \"Adult Brass Dragon\""
   ],
   "metadata": {
    "collapsed": false
   }
  },
  {
   "cell_type": "code",
   "execution_count": 35,
   "outputs": [
    {
     "data": {
      "text/plain": "_id                                                JnOgG1xfWleFGNt9\nimg                        systems/pf2e/icons/default-icons/npc.svg\nitems             [{'_id': 'bGvsYcaEa1DdcONa', 'img': 'systems/p...\nname                                             Adult Brass Dragon\nsystem            {'abilities': {'cha': {'mod': 3}, 'con': {'mod...\ntype                                                            npc\nflags             {'core': {'sourceId': 'Compendium.pf2e.pathfin...\nprototypeToken                                                  NaN\nName: 149, dtype: object"
     },
     "execution_count": 35,
     "metadata": {},
     "output_type": "execute_result"
    }
   ],
   "source": [
    "monster = df[df.name == monster_name]\n",
    "monster = monster.iloc[0, :]\n",
    "monster"
   ],
   "metadata": {
    "collapsed": false
   }
  },
  {
   "cell_type": "code",
   "execution_count": 36,
   "outputs": [
    {
     "name": "stdout",
     "output_type": "stream",
     "text": [
      "<class 'pandas.core.frame.DataFrame'>\n",
      "RangeIndex: 21 entries, 0 to 20\n",
      "Data columns (total 7 columns):\n",
      " #   Column  Non-Null Count  Dtype \n",
      "---  ------  --------------  ----- \n",
      " 0   _id     21 non-null     object\n",
      " 1   img     21 non-null     object\n",
      " 2   name    21 non-null     object\n",
      " 3   sort    21 non-null     int64 \n",
      " 4   system  21 non-null     object\n",
      " 5   type    21 non-null     object\n",
      " 6   flags   7 non-null      object\n",
      "dtypes: int64(1), object(6)\n",
      "memory usage: 1.3+ KB\n"
     ]
    }
   ],
   "source": [
    "items = pd.DataFrame.from_records(monster[\"items\"])\n",
    "items.info()"
   ],
   "metadata": {
    "collapsed": false
   }
  },
  {
   "cell_type": "code",
   "execution_count": 40,
   "outputs": [],
   "source": [
    "melee = items[items.type == \"melee\"]"
   ],
   "metadata": {
    "collapsed": false
   }
  },
  {
   "cell_type": "code",
   "execution_count": 41,
   "outputs": [
    {
     "data": {
      "text/plain": "                _id                                         img  name    sort  \\\n2  8SogXDgTbT7ghBVs  systems/pf2e/icons/default-icons/melee.svg  Jaws  300000   \n3  dECHo3MtMAC4Dkh8  systems/pf2e/icons/default-icons/melee.svg  Claw  400000   \n4  vGCCZICFjOj2u4Dh  systems/pf2e/icons/default-icons/melee.svg  Wing  500000   \n\n                                              system   type flags  \n2  {'attack': {'value': ''}, 'attackEffects': {'c...  melee   NaN  \n3  {'attack': {'value': ''}, 'attackEffects': {'c...  melee   NaN  \n4  {'attack': {'value': ''}, 'attackEffects': {'c...  melee   NaN  ",
      "text/html": "<div>\n<style scoped>\n    .dataframe tbody tr th:only-of-type {\n        vertical-align: middle;\n    }\n\n    .dataframe tbody tr th {\n        vertical-align: top;\n    }\n\n    .dataframe thead th {\n        text-align: right;\n    }\n</style>\n<table border=\"1\" class=\"dataframe\">\n  <thead>\n    <tr style=\"text-align: right;\">\n      <th></th>\n      <th>_id</th>\n      <th>img</th>\n      <th>name</th>\n      <th>sort</th>\n      <th>system</th>\n      <th>type</th>\n      <th>flags</th>\n    </tr>\n  </thead>\n  <tbody>\n    <tr>\n      <th>2</th>\n      <td>8SogXDgTbT7ghBVs</td>\n      <td>systems/pf2e/icons/default-icons/melee.svg</td>\n      <td>Jaws</td>\n      <td>300000</td>\n      <td>{'attack': {'value': ''}, 'attackEffects': {'c...</td>\n      <td>melee</td>\n      <td>NaN</td>\n    </tr>\n    <tr>\n      <th>3</th>\n      <td>dECHo3MtMAC4Dkh8</td>\n      <td>systems/pf2e/icons/default-icons/melee.svg</td>\n      <td>Claw</td>\n      <td>400000</td>\n      <td>{'attack': {'value': ''}, 'attackEffects': {'c...</td>\n      <td>melee</td>\n      <td>NaN</td>\n    </tr>\n    <tr>\n      <th>4</th>\n      <td>vGCCZICFjOj2u4Dh</td>\n      <td>systems/pf2e/icons/default-icons/melee.svg</td>\n      <td>Wing</td>\n      <td>500000</td>\n      <td>{'attack': {'value': ''}, 'attackEffects': {'c...</td>\n      <td>melee</td>\n      <td>NaN</td>\n    </tr>\n  </tbody>\n</table>\n</div>"
     },
     "execution_count": 41,
     "metadata": {},
     "output_type": "execute_result"
    }
   ],
   "source": [
    "melee"
   ],
   "metadata": {
    "collapsed": false
   }
  },
  {
   "cell_type": "code",
   "execution_count": 42,
   "outputs": [],
   "source": [
    "system = unpack_column(melee, column_name=\"system\")"
   ],
   "metadata": {
    "collapsed": false
   }
  },
  {
   "cell_type": "code",
   "execution_count": 43,
   "outputs": [
    {
     "name": "stdout",
     "output_type": "stream",
     "text": [
      "<class 'pandas.core.frame.DataFrame'>\n",
      "Int64Index: 3 entries, 2 to 4\n",
      "Data columns (total 11 columns):\n",
      " #   Column         Non-Null Count  Dtype \n",
      "---  ------         --------------  ----- \n",
      " 0   attack         3 non-null      object\n",
      " 1   attackEffects  3 non-null      object\n",
      " 2   bonus          3 non-null      object\n",
      " 3   damageRolls    3 non-null      object\n",
      " 4   description    3 non-null      object\n",
      " 5   rules          3 non-null      object\n",
      " 6   slug           0 non-null      object\n",
      " 7   source         3 non-null      object\n",
      " 8   traits         3 non-null      object\n",
      " 9   weaponType     3 non-null      object\n",
      " 10  schema         3 non-null      object\n",
      "dtypes: object(11)\n",
      "memory usage: 288.0+ bytes\n"
     ]
    }
   ],
   "source": [
    "system.info()"
   ],
   "metadata": {
    "collapsed": false
   }
  },
  {
   "cell_type": "code",
   "execution_count": 44,
   "outputs": [
    {
     "data": {
      "text/plain": "2    {'value': 24}\n3    {'value': 24}\n4    {'value': 22}\nName: bonus, dtype: object"
     },
     "execution_count": 44,
     "metadata": {},
     "output_type": "execute_result"
    }
   ],
   "source": [
    "system.bonus"
   ],
   "metadata": {
    "collapsed": false
   }
  },
  {
   "cell_type": "code",
   "execution_count": 47,
   "outputs": [],
   "source": [
    "bonus = unpack_column(system, column_name=\"bonus\")"
   ],
   "metadata": {
    "collapsed": false
   }
  },
  {
   "cell_type": "code",
   "execution_count": 48,
   "outputs": [
    {
     "data": {
      "text/plain": "   value\n2     24\n3     24\n4     22",
      "text/html": "<div>\n<style scoped>\n    .dataframe tbody tr th:only-of-type {\n        vertical-align: middle;\n    }\n\n    .dataframe tbody tr th {\n        vertical-align: top;\n    }\n\n    .dataframe thead th {\n        text-align: right;\n    }\n</style>\n<table border=\"1\" class=\"dataframe\">\n  <thead>\n    <tr style=\"text-align: right;\">\n      <th></th>\n      <th>value</th>\n    </tr>\n  </thead>\n  <tbody>\n    <tr>\n      <th>2</th>\n      <td>24</td>\n    </tr>\n    <tr>\n      <th>3</th>\n      <td>24</td>\n    </tr>\n    <tr>\n      <th>4</th>\n      <td>22</td>\n    </tr>\n  </tbody>\n</table>\n</div>"
     },
     "execution_count": 48,
     "metadata": {},
     "output_type": "execute_result"
    }
   ],
   "source": [
    "bonus"
   ],
   "metadata": {
    "collapsed": false
   }
  },
  {
   "cell_type": "code",
   "execution_count": 53,
   "outputs": [
    {
     "name": "stdout",
     "output_type": "stream",
     "text": [
      "max value: 24, index: 2\n"
     ]
    }
   ],
   "source": [
    "print(f\"max value: {bonus.value.max()}, index: {bonus.value.idxmax()}\")"
   ],
   "metadata": {
    "collapsed": false
   }
  },
  {
   "cell_type": "code",
   "execution_count": 54,
   "outputs": [],
   "source": [
    "damageRolls = unpack_column(system, \"damageRolls\")"
   ],
   "metadata": {
    "collapsed": false
   }
  },
  {
   "cell_type": "code",
   "execution_count": 55,
   "outputs": [
    {
     "name": "stdout",
     "output_type": "stream",
     "text": [
      "<class 'pandas.core.frame.DataFrame'>\n",
      "Int64Index: 3 entries, 2 to 4\n",
      "Data columns (total 4 columns):\n",
      " #   Column                Non-Null Count  Dtype \n",
      "---  ------                --------------  ----- \n",
      " 0   us0we2nnktbci4lfvgcl  1 non-null      object\n",
      " 1   fgtxbn522ftnmqrogyi9  1 non-null      object\n",
      " 2   o208ok74dbhugrpi71cb  1 non-null      object\n",
      " 3   h5lf5wus9gdg3vu060bo  1 non-null      object\n",
      "dtypes: object(4)\n",
      "memory usage: 120.0+ bytes\n"
     ]
    }
   ],
   "source": [
    "damageRolls.info()"
   ],
   "metadata": {
    "collapsed": false
   }
  },
  {
   "cell_type": "code",
   "execution_count": 56,
   "outputs": [],
   "source": [
    "# zjkdhmqwxurovpg6gk4l -> col from Lich"
   ],
   "metadata": {
    "collapsed": false
   }
  },
  {
   "cell_type": "code",
   "execution_count": 57,
   "outputs": [
    {
     "data": {
      "text/plain": "                              us0we2nnktbci4lfvgcl  \\\n2  {'damage': '2d10+12', 'damageType': 'piercing'}   \n3                                              NaN   \n4                                              NaN   \n\n                      fgtxbn522ftnmqrogyi9  \\\n2  {'damage': '2d6', 'damageType': 'fire'}   \n3                                      NaN   \n4                                      NaN   \n\n                              o208ok74dbhugrpi71cb  \\\n2                                              NaN   \n3  {'damage': '2d10+12', 'damageType': 'slashing'}   \n4                                              NaN   \n\n                              h5lf5wus9gdg3vu060bo  \n2                                              NaN  \n3                                              NaN  \n4  {'damage': '1d12+10', 'damageType': 'slashing'}  ",
      "text/html": "<div>\n<style scoped>\n    .dataframe tbody tr th:only-of-type {\n        vertical-align: middle;\n    }\n\n    .dataframe tbody tr th {\n        vertical-align: top;\n    }\n\n    .dataframe thead th {\n        text-align: right;\n    }\n</style>\n<table border=\"1\" class=\"dataframe\">\n  <thead>\n    <tr style=\"text-align: right;\">\n      <th></th>\n      <th>us0we2nnktbci4lfvgcl</th>\n      <th>fgtxbn522ftnmqrogyi9</th>\n      <th>o208ok74dbhugrpi71cb</th>\n      <th>h5lf5wus9gdg3vu060bo</th>\n    </tr>\n  </thead>\n  <tbody>\n    <tr>\n      <th>2</th>\n      <td>{'damage': '2d10+12', 'damageType': 'piercing'}</td>\n      <td>{'damage': '2d6', 'damageType': 'fire'}</td>\n      <td>NaN</td>\n      <td>NaN</td>\n    </tr>\n    <tr>\n      <th>3</th>\n      <td>NaN</td>\n      <td>NaN</td>\n      <td>{'damage': '2d10+12', 'damageType': 'slashing'}</td>\n      <td>NaN</td>\n    </tr>\n    <tr>\n      <th>4</th>\n      <td>NaN</td>\n      <td>NaN</td>\n      <td>NaN</td>\n      <td>{'damage': '1d12+10', 'damageType': 'slashing'}</td>\n    </tr>\n  </tbody>\n</table>\n</div>"
     },
     "execution_count": 57,
     "metadata": {},
     "output_type": "execute_result"
    }
   ],
   "source": [
    "damageRolls"
   ],
   "metadata": {
    "collapsed": false
   }
  },
  {
   "cell_type": "code",
   "execution_count": 68,
   "outputs": [],
   "source": [
    "damage_info = pd.concat(\n",
    "    [\n",
    "        unpack_column(damageRolls.loc[[2]], column_name=\"us0we2nnktbci4lfvgcl\"),\n",
    "        unpack_column(damageRolls.loc[[2]], column_name=\"fgtxbn522ftnmqrogyi9\"),\n",
    "    ]\n",
    ")"
   ],
   "metadata": {
    "collapsed": false
   }
  },
  {
   "cell_type": "code",
   "execution_count": 69,
   "outputs": [
    {
     "data": {
      "text/plain": "    damage damageType\n2  2d10+12   piercing\n2      2d6       fire",
      "text/html": "<div>\n<style scoped>\n    .dataframe tbody tr th:only-of-type {\n        vertical-align: middle;\n    }\n\n    .dataframe tbody tr th {\n        vertical-align: top;\n    }\n\n    .dataframe thead th {\n        text-align: right;\n    }\n</style>\n<table border=\"1\" class=\"dataframe\">\n  <thead>\n    <tr style=\"text-align: right;\">\n      <th></th>\n      <th>damage</th>\n      <th>damageType</th>\n    </tr>\n  </thead>\n  <tbody>\n    <tr>\n      <th>2</th>\n      <td>2d10+12</td>\n      <td>piercing</td>\n    </tr>\n    <tr>\n      <th>2</th>\n      <td>2d6</td>\n      <td>fire</td>\n    </tr>\n  </tbody>\n</table>\n</div>"
     },
     "execution_count": 69,
     "metadata": {},
     "output_type": "execute_result"
    }
   ],
   "source": [
    "damage_info"
   ],
   "metadata": {
    "collapsed": false
   }
  },
  {
   "cell_type": "code",
   "execution_count": 77,
   "outputs": [
    {
     "name": "stdout",
     "output_type": "stream",
     "text": [
      "2d10+12\n",
      "23.0\n",
      "==============================================\n",
      "2d6\n",
      "7.0\n",
      "==============================================\n",
      "TOTAL: 30.0\n"
     ]
    }
   ],
   "source": [
    "expecte_val = 0\n",
    "\n",
    "for damage in damage_info.damage:\n",
    "    print(damage)\n",
    "    roll_nr, dice_type = damage.split(\"d\")\n",
    "    add = 0\n",
    "    if \"+\" in dice_type:\n",
    "        dice_type, add = dice_type.split(\"+\")\n",
    "        add = int(add)\n",
    "    roll_nr, dice_type = int(roll_nr), int(dice_type)\n",
    "    val = (roll_nr * sum([i for i in range(1, dice_type + 1)]) / dice_type) + add\n",
    "    expecte_val += val\n",
    "    print(val)\n",
    "    print(\"==============================================\")\n",
    "\n",
    "print(f\"TOTAL: {expecte_val}\")"
   ],
   "metadata": {
    "collapsed": false
   }
  },
  {
   "cell_type": "code",
   "execution_count": null,
   "outputs": [],
   "source": [],
   "metadata": {
    "collapsed": false
   }
  }
 ],
 "metadata": {
  "kernelspec": {
   "display_name": "Python 3",
   "language": "python",
   "name": "python3"
  },
  "language_info": {
   "codemirror_mode": {
    "name": "ipython",
    "version": 2
   },
   "file_extension": ".py",
   "mimetype": "text/x-python",
   "name": "python",
   "nbconvert_exporter": "python",
   "pygments_lexer": "ipython2",
   "version": "2.7.6"
  }
 },
 "nbformat": 4,
 "nbformat_minor": 0
}
