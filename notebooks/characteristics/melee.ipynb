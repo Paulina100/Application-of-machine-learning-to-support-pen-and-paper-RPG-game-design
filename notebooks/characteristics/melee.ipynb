{
 "cells": [
  {
   "cell_type": "markdown",
   "source": [
    "# Max melee and expected value of damage"
   ],
   "metadata": {
    "collapsed": false
   }
  },
  {
   "cell_type": "markdown",
   "source": [
    "## One monster\n",
    "First anylyse only one monster: *Lich*"
   ],
   "metadata": {
    "collapsed": false
   }
  },
  {
   "cell_type": "code",
   "execution_count": 1,
   "metadata": {
    "collapsed": true
   },
   "outputs": [],
   "source": [
    "import pandas as pd\n",
    "\n",
    "\n",
    "book = \"../../pathfinder_2e_data/pathfinder-bestiary.db\"\n",
    "df = pd.read_json(book, lines=True)"
   ]
  },
  {
   "cell_type": "code",
   "execution_count": 2,
   "outputs": [],
   "source": [
    "monster_name = \"Lich\"\n",
    "\n",
    "monster = df[df.name == monster_name]\n",
    "monster = monster.iloc[0, :]"
   ],
   "metadata": {
    "collapsed": false
   }
  },
  {
   "cell_type": "code",
   "execution_count": 3,
   "outputs": [
    {
     "data": {
      "text/plain": "_id                                                EibxkD9y30YmPaLH\nimg                        systems/pf2e/icons/default-icons/npc.svg\nitems             [{'_id': '6Upo1ddHWd1c49bj', 'img': 'systems/p...\nname                                                           Lich\nsystem            {'abilities': {'cha': {'mod': 3}, 'con': {'mod...\ntype                                                            npc\nflags             {'core': {'sourceId': 'Compendium.pf2e.pathfin...\nprototypeToken                                                  NaN\nName: 111, dtype: object"
     },
     "execution_count": 3,
     "metadata": {},
     "output_type": "execute_result"
    }
   ],
   "source": [
    "monster"
   ],
   "metadata": {
    "collapsed": false
   }
  },
  {
   "cell_type": "code",
   "execution_count": 4,
   "outputs": [],
   "source": [
    "items = pd.DataFrame.from_records(monster[\"items\"])"
   ],
   "metadata": {
    "collapsed": false
   }
  },
  {
   "cell_type": "code",
   "execution_count": 5,
   "outputs": [
    {
     "name": "stdout",
     "output_type": "stream",
     "text": [
      "<class 'pandas.core.frame.DataFrame'>\n",
      "RangeIndex: 46 entries, 0 to 45\n",
      "Data columns (total 7 columns):\n",
      " #   Column  Non-Null Count  Dtype \n",
      "---  ------  --------------  ----- \n",
      " 0   _id     46 non-null     object\n",
      " 1   img     46 non-null     object\n",
      " 2   name    46 non-null     object\n",
      " 3   sort    46 non-null     int64 \n",
      " 4   system  46 non-null     object\n",
      " 5   type    46 non-null     object\n",
      " 6   flags   36 non-null     object\n",
      "dtypes: int64(1), object(6)\n",
      "memory usage: 2.6+ KB\n"
     ]
    }
   ],
   "source": [
    "items.info()"
   ],
   "metadata": {
    "collapsed": false
   }
  },
  {
   "cell_type": "code",
   "execution_count": 6,
   "outputs": [
    {
     "data": {
      "text/plain": "                _id                                                img  \\\n0  6Upo1ddHWd1c49bj  systems/pf2e/icons/default-icons/spellcastingE...   \n1  FzkEeUQeqjdnaAq7     systems/pf2e/icons/spells/chain-lightning.webp   \n2  FOscCbZ02cjkRFXT            systems/pf2e/icons/spells/dominate.webp   \n3  fLyeUvouTe8snajF  systems/pf2e/icons/spells/vampiric-exsanguinat...   \n4  m5OFwVfydjZQhgkx           systems/pf2e/icons/spells/cloudkill.webp   \n\n                      name    sort  \\\n0   Arcane Prepared Spells  100000   \n1          Chain Lightning  200000   \n2                 Dominate  300000   \n3  Vampiric Exsanguination  400000   \n4                Cloudkill  500000   \n\n                                              system               type  \\\n0  {'autoHeightenLevel': {'value': None}, 'descri...  spellcastingEntry   \n1  {'ability': {'value': ''}, 'area': None, 'cate...              spell   \n2  {'ability': {'value': ''}, 'area': None, 'cate...              spell   \n3  {'ability': {'value': ''}, 'area': {'type': 'c...              spell   \n4  {'ability': {'value': ''}, 'area': {'type': 'b...              spell   \n\n                                               flags  \n0                                                NaN  \n1  {'core': {'sourceId': 'Compendium.pf2e.spells-...  \n2  {'core': {'sourceId': 'Compendium.pf2e.spells-...  \n3  {'core': {'sourceId': 'Compendium.pf2e.spells-...  \n4  {'core': {'sourceId': 'Compendium.pf2e.spells-...  ",
      "text/html": "<div>\n<style scoped>\n    .dataframe tbody tr th:only-of-type {\n        vertical-align: middle;\n    }\n\n    .dataframe tbody tr th {\n        vertical-align: top;\n    }\n\n    .dataframe thead th {\n        text-align: right;\n    }\n</style>\n<table border=\"1\" class=\"dataframe\">\n  <thead>\n    <tr style=\"text-align: right;\">\n      <th></th>\n      <th>_id</th>\n      <th>img</th>\n      <th>name</th>\n      <th>sort</th>\n      <th>system</th>\n      <th>type</th>\n      <th>flags</th>\n    </tr>\n  </thead>\n  <tbody>\n    <tr>\n      <th>0</th>\n      <td>6Upo1ddHWd1c49bj</td>\n      <td>systems/pf2e/icons/default-icons/spellcastingE...</td>\n      <td>Arcane Prepared Spells</td>\n      <td>100000</td>\n      <td>{'autoHeightenLevel': {'value': None}, 'descri...</td>\n      <td>spellcastingEntry</td>\n      <td>NaN</td>\n    </tr>\n    <tr>\n      <th>1</th>\n      <td>FzkEeUQeqjdnaAq7</td>\n      <td>systems/pf2e/icons/spells/chain-lightning.webp</td>\n      <td>Chain Lightning</td>\n      <td>200000</td>\n      <td>{'ability': {'value': ''}, 'area': None, 'cate...</td>\n      <td>spell</td>\n      <td>{'core': {'sourceId': 'Compendium.pf2e.spells-...</td>\n    </tr>\n    <tr>\n      <th>2</th>\n      <td>FOscCbZ02cjkRFXT</td>\n      <td>systems/pf2e/icons/spells/dominate.webp</td>\n      <td>Dominate</td>\n      <td>300000</td>\n      <td>{'ability': {'value': ''}, 'area': None, 'cate...</td>\n      <td>spell</td>\n      <td>{'core': {'sourceId': 'Compendium.pf2e.spells-...</td>\n    </tr>\n    <tr>\n      <th>3</th>\n      <td>fLyeUvouTe8snajF</td>\n      <td>systems/pf2e/icons/spells/vampiric-exsanguinat...</td>\n      <td>Vampiric Exsanguination</td>\n      <td>400000</td>\n      <td>{'ability': {'value': ''}, 'area': {'type': 'c...</td>\n      <td>spell</td>\n      <td>{'core': {'sourceId': 'Compendium.pf2e.spells-...</td>\n    </tr>\n    <tr>\n      <th>4</th>\n      <td>m5OFwVfydjZQhgkx</td>\n      <td>systems/pf2e/icons/spells/cloudkill.webp</td>\n      <td>Cloudkill</td>\n      <td>500000</td>\n      <td>{'ability': {'value': ''}, 'area': {'type': 'b...</td>\n      <td>spell</td>\n      <td>{'core': {'sourceId': 'Compendium.pf2e.spells-...</td>\n    </tr>\n  </tbody>\n</table>\n</div>"
     },
     "execution_count": 6,
     "metadata": {},
     "output_type": "execute_result"
    }
   ],
   "source": [
    "items.head()"
   ],
   "metadata": {
    "collapsed": false
   }
  },
  {
   "cell_type": "code",
   "execution_count": 7,
   "outputs": [
    {
     "data": {
      "text/plain": "spell                26\naction                9\nlore                  6\nconsumable            2\nspellcastingEntry     1\nweapon                1\nmelee                 1\nName: type, dtype: int64"
     },
     "execution_count": 7,
     "metadata": {},
     "output_type": "execute_result"
    }
   ],
   "source": [
    "items.type.value_counts()  # only looking for melee"
   ],
   "metadata": {
    "collapsed": false
   }
  },
  {
   "cell_type": "code",
   "execution_count": 8,
   "outputs": [],
   "source": [
    "melee = items[items.type == \"melee\"]"
   ],
   "metadata": {
    "collapsed": false
   }
  },
  {
   "cell_type": "code",
   "execution_count": 9,
   "outputs": [
    {
     "data": {
      "text/plain": "                 _id                                         img  name  \\\n30  M05pu8jIHs0qEKzP  systems/pf2e/icons/default-icons/melee.svg  Hand   \n\n       sort                                             system   type flags  \n30  3100000  {'attack': {'value': ''}, 'attackEffects': {'c...  melee   NaN  ",
      "text/html": "<div>\n<style scoped>\n    .dataframe tbody tr th:only-of-type {\n        vertical-align: middle;\n    }\n\n    .dataframe tbody tr th {\n        vertical-align: top;\n    }\n\n    .dataframe thead th {\n        text-align: right;\n    }\n</style>\n<table border=\"1\" class=\"dataframe\">\n  <thead>\n    <tr style=\"text-align: right;\">\n      <th></th>\n      <th>_id</th>\n      <th>img</th>\n      <th>name</th>\n      <th>sort</th>\n      <th>system</th>\n      <th>type</th>\n      <th>flags</th>\n    </tr>\n  </thead>\n  <tbody>\n    <tr>\n      <th>30</th>\n      <td>M05pu8jIHs0qEKzP</td>\n      <td>systems/pf2e/icons/default-icons/melee.svg</td>\n      <td>Hand</td>\n      <td>3100000</td>\n      <td>{'attack': {'value': ''}, 'attackEffects': {'c...</td>\n      <td>melee</td>\n      <td>NaN</td>\n    </tr>\n  </tbody>\n</table>\n</div>"
     },
     "execution_count": 9,
     "metadata": {},
     "output_type": "execute_result"
    }
   ],
   "source": [
    "melee"
   ],
   "metadata": {
    "collapsed": false
   }
  },
  {
   "cell_type": "markdown",
   "source": [
    "We are interested in max melee value and expected value of damage\n",
    "\n",
    "### Max melee bonus"
   ],
   "metadata": {
    "collapsed": false
   }
  },
  {
   "cell_type": "code",
   "execution_count": 10,
   "outputs": [],
   "source": [
    "from training.analysis_functions import unpack_column\n",
    "\n",
    "\n",
    "system = unpack_column(melee, column_name=\"system\")"
   ],
   "metadata": {
    "collapsed": false
   }
  },
  {
   "cell_type": "code",
   "execution_count": 11,
   "outputs": [
    {
     "name": "stdout",
     "output_type": "stream",
     "text": [
      "<class 'pandas.core.frame.DataFrame'>\n",
      "Int64Index: 1 entries, 30 to 30\n",
      "Data columns (total 11 columns):\n",
      " #   Column         Non-Null Count  Dtype \n",
      "---  ------         --------------  ----- \n",
      " 0   attack         1 non-null      object\n",
      " 1   attackEffects  1 non-null      object\n",
      " 2   bonus          1 non-null      object\n",
      " 3   damageRolls    1 non-null      object\n",
      " 4   description    1 non-null      object\n",
      " 5   rules          1 non-null      object\n",
      " 6   slug           0 non-null      object\n",
      " 7   source         1 non-null      object\n",
      " 8   traits         1 non-null      object\n",
      " 9   weaponType     1 non-null      object\n",
      " 10  schema         1 non-null      object\n",
      "dtypes: object(11)\n",
      "memory usage: 96.0+ bytes\n"
     ]
    }
   ],
   "source": [
    "system.info()"
   ],
   "metadata": {
    "collapsed": false
   }
  },
  {
   "cell_type": "code",
   "execution_count": 12,
   "outputs": [
    {
     "data": {
      "text/plain": "           attack                                      attackEffects  \\\n30  {'value': ''}  {'custom': '', 'value': ['lich-paralyzing-touc...   \n\n            bonus                                        damageRolls  \\\n30  {'value': 24}  {'zjkdhmqwxurovpg6gk4l': {'damage': '4d8', 'da...   \n\n      description rules  slug         source  \\\n30  {'value': ''}    []  None  {'value': ''}   \n\n                                               traits          weaponType  \\\n30  {'rarity': 'common', 'value': ['finesse', 'mag...  {'value': 'melee'}   \n\n                                               schema  \n30  {'version': 0.8270000000000001, 'lastMigration...  ",
      "text/html": "<div>\n<style scoped>\n    .dataframe tbody tr th:only-of-type {\n        vertical-align: middle;\n    }\n\n    .dataframe tbody tr th {\n        vertical-align: top;\n    }\n\n    .dataframe thead th {\n        text-align: right;\n    }\n</style>\n<table border=\"1\" class=\"dataframe\">\n  <thead>\n    <tr style=\"text-align: right;\">\n      <th></th>\n      <th>attack</th>\n      <th>attackEffects</th>\n      <th>bonus</th>\n      <th>damageRolls</th>\n      <th>description</th>\n      <th>rules</th>\n      <th>slug</th>\n      <th>source</th>\n      <th>traits</th>\n      <th>weaponType</th>\n      <th>schema</th>\n    </tr>\n  </thead>\n  <tbody>\n    <tr>\n      <th>30</th>\n      <td>{'value': ''}</td>\n      <td>{'custom': '', 'value': ['lich-paralyzing-touc...</td>\n      <td>{'value': 24}</td>\n      <td>{'zjkdhmqwxurovpg6gk4l': {'damage': '4d8', 'da...</td>\n      <td>{'value': ''}</td>\n      <td>[]</td>\n      <td>None</td>\n      <td>{'value': ''}</td>\n      <td>{'rarity': 'common', 'value': ['finesse', 'mag...</td>\n      <td>{'value': 'melee'}</td>\n      <td>{'version': 0.8270000000000001, 'lastMigration...</td>\n    </tr>\n  </tbody>\n</table>\n</div>"
     },
     "execution_count": 12,
     "metadata": {},
     "output_type": "execute_result"
    }
   ],
   "source": [
    "system"
   ],
   "metadata": {
    "collapsed": false
   }
  },
  {
   "cell_type": "code",
   "execution_count": 13,
   "outputs": [],
   "source": [
    "weaponType = unpack_column(system, column_name=\"weaponType\")"
   ],
   "metadata": {
    "collapsed": false
   }
  },
  {
   "cell_type": "markdown",
   "source": [
    "only looking for melee not ranged\n",
    "\n",
    "( branch `dataset/data_analysis/items_system`: `/notebooks/data_analysis/pathfinder_items_system/pathfinder_items_system_melee.ipynb`)"
   ],
   "metadata": {
    "collapsed": false
   }
  },
  {
   "cell_type": "code",
   "execution_count": 14,
   "outputs": [],
   "source": [
    "system = system[weaponType.value == \"melee\"]"
   ],
   "metadata": {
    "collapsed": false
   }
  },
  {
   "cell_type": "code",
   "execution_count": 15,
   "outputs": [
    {
     "data": {
      "text/plain": "30    {'value': 24}\nName: bonus, dtype: object"
     },
     "execution_count": 15,
     "metadata": {},
     "output_type": "execute_result"
    }
   ],
   "source": [
    "system.bonus"
   ],
   "metadata": {
    "collapsed": false
   }
  },
  {
   "cell_type": "markdown",
   "source": [
    "### Expected value of damage"
   ],
   "metadata": {
    "collapsed": false
   }
  },
  {
   "cell_type": "code",
   "execution_count": 16,
   "outputs": [],
   "source": [
    "damageRolls = unpack_column(system, column_name=\"damageRolls\")"
   ],
   "metadata": {
    "collapsed": false
   }
  },
  {
   "cell_type": "code",
   "execution_count": 17,
   "outputs": [
    {
     "name": "stdout",
     "output_type": "stream",
     "text": [
      "<class 'pandas.core.frame.DataFrame'>\n",
      "Int64Index: 1 entries, 30 to 30\n",
      "Data columns (total 1 columns):\n",
      " #   Column                Non-Null Count  Dtype \n",
      "---  ------                --------------  ----- \n",
      " 0   zjkdhmqwxurovpg6gk4l  1 non-null      object\n",
      "dtypes: object(1)\n",
      "memory usage: 16.0+ bytes\n"
     ]
    }
   ],
   "source": [
    "damageRolls.info()"
   ],
   "metadata": {
    "collapsed": false
   }
  },
  {
   "cell_type": "code",
   "execution_count": 18,
   "outputs": [
    {
     "data": {
      "text/plain": "30    {'damage': '4d8', 'damageType': 'negative'}\nName: zjkdhmqwxurovpg6gk4l, dtype: object"
     },
     "execution_count": 18,
     "metadata": {},
     "output_type": "execute_result"
    }
   ],
   "source": [
    "damageRolls.zjkdhmqwxurovpg6gk4l"
   ],
   "metadata": {
    "collapsed": false
   }
  },
  {
   "cell_type": "markdown",
   "source": [
    "<span style=\"color:red\">damageRolls key differ between items</span>\n",
    "\n",
    "e.g.\n",
    "* *Lich*: zjkdhmqwxurovpg6gk4l\n",
    "* *Adult Brass Dragon*: us0we2nnktbci4lfvgcl, fgtxbn522ftnmqrogyi9, o208ok74dbhugrpi71cb or  h5lf5wus9gdg3vu060bo"
   ],
   "metadata": {
    "collapsed": false
   }
  },
  {
   "cell_type": "code",
   "execution_count": 19,
   "outputs": [],
   "source": [
    "damage_info = unpack_column(damageRolls, column_name=\"zjkdhmqwxurovpg6gk4l\")"
   ],
   "metadata": {
    "collapsed": false
   }
  },
  {
   "cell_type": "code",
   "execution_count": 20,
   "outputs": [
    {
     "name": "stdout",
     "output_type": "stream",
     "text": [
      "<class 'pandas.core.frame.DataFrame'>\n",
      "Int64Index: 1 entries, 30 to 30\n",
      "Data columns (total 2 columns):\n",
      " #   Column      Non-Null Count  Dtype \n",
      "---  ------      --------------  ----- \n",
      " 0   damage      1 non-null      object\n",
      " 1   damageType  1 non-null      object\n",
      "dtypes: object(2)\n",
      "memory usage: 24.0+ bytes\n"
     ]
    }
   ],
   "source": [
    "damage_info.info()"
   ],
   "metadata": {
    "collapsed": false
   }
  },
  {
   "cell_type": "code",
   "execution_count": 21,
   "outputs": [
    {
     "data": {
      "text/plain": "   damage damageType\n30    4d8   negative",
      "text/html": "<div>\n<style scoped>\n    .dataframe tbody tr th:only-of-type {\n        vertical-align: middle;\n    }\n\n    .dataframe tbody tr th {\n        vertical-align: top;\n    }\n\n    .dataframe thead th {\n        text-align: right;\n    }\n</style>\n<table border=\"1\" class=\"dataframe\">\n  <thead>\n    <tr style=\"text-align: right;\">\n      <th></th>\n      <th>damage</th>\n      <th>damageType</th>\n    </tr>\n  </thead>\n  <tbody>\n    <tr>\n      <th>30</th>\n      <td>4d8</td>\n      <td>negative</td>\n    </tr>\n  </tbody>\n</table>\n</div>"
     },
     "execution_count": 21,
     "metadata": {},
     "output_type": "execute_result"
    }
   ],
   "source": [
    "damage_info"
   ],
   "metadata": {
    "collapsed": false
   }
  },
  {
   "cell_type": "code",
   "execution_count": 22,
   "outputs": [
    {
     "data": {
      "text/plain": "30    4d8\nName: damage, dtype: object"
     },
     "execution_count": 22,
     "metadata": {},
     "output_type": "execute_result"
    }
   ],
   "source": [
    "damage_info.damage"
   ],
   "metadata": {
    "collapsed": false
   }
  },
  {
   "cell_type": "code",
   "execution_count": 23,
   "outputs": [
    {
     "data": {
      "text/plain": "'4d8'"
     },
     "execution_count": 23,
     "metadata": {},
     "output_type": "execute_result"
    }
   ],
   "source": [
    "damage = damage_info.damage.iloc[0]\n",
    "damage"
   ],
   "metadata": {
    "collapsed": false
   }
  },
  {
   "cell_type": "code",
   "execution_count": 24,
   "outputs": [
    {
     "data": {
      "text/plain": "('4', '8')"
     },
     "execution_count": 24,
     "metadata": {},
     "output_type": "execute_result"
    }
   ],
   "source": [
    "roll_nr, dice_type = damage.split(\"d\")\n",
    "roll_nr, dice_type"
   ],
   "metadata": {
    "collapsed": false
   }
  },
  {
   "cell_type": "code",
   "execution_count": 25,
   "outputs": [
    {
     "data": {
      "text/plain": "(4, 8)"
     },
     "execution_count": 25,
     "metadata": {},
     "output_type": "execute_result"
    }
   ],
   "source": [
    "roll_nr = int(roll_nr)\n",
    "dice_type = int(dice_type)\n",
    "roll_nr, dice_type"
   ],
   "metadata": {
    "collapsed": false
   }
  },
  {
   "cell_type": "code",
   "execution_count": 26,
   "outputs": [
    {
     "name": "stdout",
     "output_type": "stream",
     "text": [
      "Expected value: 18.0\n"
     ]
    }
   ],
   "source": [
    "print(\n",
    "    f\"Expected value: {roll_nr * sum([i for i in range(1, dice_type + 1)]) / dice_type}\"\n",
    ")"
   ],
   "metadata": {
    "collapsed": false
   }
  },
  {
   "cell_type": "markdown",
   "source": [
    "Monster with multiple melee items: *Adult Brass Dragon*"
   ],
   "metadata": {
    "collapsed": false
   }
  },
  {
   "cell_type": "code",
   "execution_count": 27,
   "outputs": [],
   "source": [
    "monster_name = \"Adult Brass Dragon\""
   ],
   "metadata": {
    "collapsed": false
   }
  },
  {
   "cell_type": "code",
   "execution_count": 28,
   "outputs": [
    {
     "data": {
      "text/plain": "_id                                                JnOgG1xfWleFGNt9\nimg                        systems/pf2e/icons/default-icons/npc.svg\nitems             [{'_id': 'bGvsYcaEa1DdcONa', 'img': 'systems/p...\nname                                             Adult Brass Dragon\nsystem            {'abilities': {'cha': {'mod': 3}, 'con': {'mod...\ntype                                                            npc\nflags             {'core': {'sourceId': 'Compendium.pf2e.pathfin...\nprototypeToken                                                  NaN\nName: 149, dtype: object"
     },
     "execution_count": 28,
     "metadata": {},
     "output_type": "execute_result"
    }
   ],
   "source": [
    "monster = df[df.name == monster_name]\n",
    "monster = monster.iloc[0, :]\n",
    "monster"
   ],
   "metadata": {
    "collapsed": false
   }
  },
  {
   "cell_type": "code",
   "execution_count": 29,
   "outputs": [
    {
     "name": "stdout",
     "output_type": "stream",
     "text": [
      "<class 'pandas.core.frame.DataFrame'>\n",
      "RangeIndex: 21 entries, 0 to 20\n",
      "Data columns (total 7 columns):\n",
      " #   Column  Non-Null Count  Dtype \n",
      "---  ------  --------------  ----- \n",
      " 0   _id     21 non-null     object\n",
      " 1   img     21 non-null     object\n",
      " 2   name    21 non-null     object\n",
      " 3   sort    21 non-null     int64 \n",
      " 4   system  21 non-null     object\n",
      " 5   type    21 non-null     object\n",
      " 6   flags   7 non-null      object\n",
      "dtypes: int64(1), object(6)\n",
      "memory usage: 1.3+ KB\n"
     ]
    }
   ],
   "source": [
    "items = pd.DataFrame.from_records(monster[\"items\"])\n",
    "items.info()"
   ],
   "metadata": {
    "collapsed": false
   }
  },
  {
   "cell_type": "code",
   "execution_count": 30,
   "outputs": [],
   "source": [
    "melee = items[items.type == \"melee\"]"
   ],
   "metadata": {
    "collapsed": false
   }
  },
  {
   "cell_type": "code",
   "execution_count": 31,
   "outputs": [
    {
     "data": {
      "text/plain": "                _id                                         img  name    sort  \\\n2  8SogXDgTbT7ghBVs  systems/pf2e/icons/default-icons/melee.svg  Jaws  300000   \n3  dECHo3MtMAC4Dkh8  systems/pf2e/icons/default-icons/melee.svg  Claw  400000   \n4  vGCCZICFjOj2u4Dh  systems/pf2e/icons/default-icons/melee.svg  Wing  500000   \n\n                                              system   type flags  \n2  {'attack': {'value': ''}, 'attackEffects': {'c...  melee   NaN  \n3  {'attack': {'value': ''}, 'attackEffects': {'c...  melee   NaN  \n4  {'attack': {'value': ''}, 'attackEffects': {'c...  melee   NaN  ",
      "text/html": "<div>\n<style scoped>\n    .dataframe tbody tr th:only-of-type {\n        vertical-align: middle;\n    }\n\n    .dataframe tbody tr th {\n        vertical-align: top;\n    }\n\n    .dataframe thead th {\n        text-align: right;\n    }\n</style>\n<table border=\"1\" class=\"dataframe\">\n  <thead>\n    <tr style=\"text-align: right;\">\n      <th></th>\n      <th>_id</th>\n      <th>img</th>\n      <th>name</th>\n      <th>sort</th>\n      <th>system</th>\n      <th>type</th>\n      <th>flags</th>\n    </tr>\n  </thead>\n  <tbody>\n    <tr>\n      <th>2</th>\n      <td>8SogXDgTbT7ghBVs</td>\n      <td>systems/pf2e/icons/default-icons/melee.svg</td>\n      <td>Jaws</td>\n      <td>300000</td>\n      <td>{'attack': {'value': ''}, 'attackEffects': {'c...</td>\n      <td>melee</td>\n      <td>NaN</td>\n    </tr>\n    <tr>\n      <th>3</th>\n      <td>dECHo3MtMAC4Dkh8</td>\n      <td>systems/pf2e/icons/default-icons/melee.svg</td>\n      <td>Claw</td>\n      <td>400000</td>\n      <td>{'attack': {'value': ''}, 'attackEffects': {'c...</td>\n      <td>melee</td>\n      <td>NaN</td>\n    </tr>\n    <tr>\n      <th>4</th>\n      <td>vGCCZICFjOj2u4Dh</td>\n      <td>systems/pf2e/icons/default-icons/melee.svg</td>\n      <td>Wing</td>\n      <td>500000</td>\n      <td>{'attack': {'value': ''}, 'attackEffects': {'c...</td>\n      <td>melee</td>\n      <td>NaN</td>\n    </tr>\n  </tbody>\n</table>\n</div>"
     },
     "execution_count": 31,
     "metadata": {},
     "output_type": "execute_result"
    }
   ],
   "source": [
    "melee"
   ],
   "metadata": {
    "collapsed": false
   }
  },
  {
   "cell_type": "code",
   "execution_count": 32,
   "outputs": [],
   "source": [
    "system = unpack_column(melee, column_name=\"system\")\n",
    "weaponType = unpack_column(system, column_name=\"weaponType\")\n",
    "system = system[weaponType.value == \"melee\"]"
   ],
   "metadata": {
    "collapsed": false
   }
  },
  {
   "cell_type": "code",
   "execution_count": 33,
   "outputs": [
    {
     "name": "stdout",
     "output_type": "stream",
     "text": [
      "<class 'pandas.core.frame.DataFrame'>\n",
      "Int64Index: 3 entries, 2 to 4\n",
      "Data columns (total 11 columns):\n",
      " #   Column         Non-Null Count  Dtype \n",
      "---  ------         --------------  ----- \n",
      " 0   attack         3 non-null      object\n",
      " 1   attackEffects  3 non-null      object\n",
      " 2   bonus          3 non-null      object\n",
      " 3   damageRolls    3 non-null      object\n",
      " 4   description    3 non-null      object\n",
      " 5   rules          3 non-null      object\n",
      " 6   slug           0 non-null      object\n",
      " 7   source         3 non-null      object\n",
      " 8   traits         3 non-null      object\n",
      " 9   weaponType     3 non-null      object\n",
      " 10  schema         3 non-null      object\n",
      "dtypes: object(11)\n",
      "memory usage: 288.0+ bytes\n"
     ]
    }
   ],
   "source": [
    "system.info()"
   ],
   "metadata": {
    "collapsed": false
   }
  },
  {
   "cell_type": "code",
   "execution_count": 34,
   "outputs": [
    {
     "data": {
      "text/plain": "[{'us0we2nnktbci4lfvgcl': {'damage': '2d10+12', 'damageType': 'piercing'},\n  'fgtxbn522ftnmqrogyi9': {'damage': '2d6', 'damageType': 'fire'}},\n {'o208ok74dbhugrpi71cb': {'damage': '2d10+12', 'damageType': 'slashing'}},\n {'h5lf5wus9gdg3vu060bo': {'damage': '1d12+10', 'damageType': 'slashing'}}]"
     },
     "execution_count": 34,
     "metadata": {},
     "output_type": "execute_result"
    }
   ],
   "source": [
    "list(system.damageRolls)  # items with more than one damage type"
   ],
   "metadata": {
    "collapsed": false
   }
  },
  {
   "cell_type": "code",
   "execution_count": 35,
   "outputs": [
    {
     "data": {
      "text/plain": "2    {'value': 24}\n3    {'value': 24}\n4    {'value': 22}\nName: bonus, dtype: object"
     },
     "execution_count": 35,
     "metadata": {},
     "output_type": "execute_result"
    }
   ],
   "source": [
    "system.bonus"
   ],
   "metadata": {
    "collapsed": false
   }
  },
  {
   "cell_type": "code",
   "execution_count": 36,
   "outputs": [],
   "source": [
    "bonus = unpack_column(system, column_name=\"bonus\")"
   ],
   "metadata": {
    "collapsed": false
   }
  },
  {
   "cell_type": "code",
   "execution_count": 37,
   "outputs": [
    {
     "data": {
      "text/plain": "   value\n2     24\n3     24\n4     22",
      "text/html": "<div>\n<style scoped>\n    .dataframe tbody tr th:only-of-type {\n        vertical-align: middle;\n    }\n\n    .dataframe tbody tr th {\n        vertical-align: top;\n    }\n\n    .dataframe thead th {\n        text-align: right;\n    }\n</style>\n<table border=\"1\" class=\"dataframe\">\n  <thead>\n    <tr style=\"text-align: right;\">\n      <th></th>\n      <th>value</th>\n    </tr>\n  </thead>\n  <tbody>\n    <tr>\n      <th>2</th>\n      <td>24</td>\n    </tr>\n    <tr>\n      <th>3</th>\n      <td>24</td>\n    </tr>\n    <tr>\n      <th>4</th>\n      <td>22</td>\n    </tr>\n  </tbody>\n</table>\n</div>"
     },
     "execution_count": 37,
     "metadata": {},
     "output_type": "execute_result"
    }
   ],
   "source": [
    "bonus"
   ],
   "metadata": {
    "collapsed": false
   }
  },
  {
   "cell_type": "code",
   "execution_count": 38,
   "outputs": [
    {
     "name": "stdout",
     "output_type": "stream",
     "text": [
      "max value: 24, index: 2\n"
     ]
    }
   ],
   "source": [
    "print(f\"max value: {bonus.value.max()}, index: {bonus.value.idxmax()}\")"
   ],
   "metadata": {
    "collapsed": false
   }
  },
  {
   "cell_type": "code",
   "execution_count": 39,
   "outputs": [
    {
     "data": {
      "text/plain": "2    {'us0we2nnktbci4lfvgcl': {'damage': '2d10+12',...\n3    {'o208ok74dbhugrpi71cb': {'damage': '2d10+12',...\n4    {'h5lf5wus9gdg3vu060bo': {'damage': '1d12+10',...\nName: damageRolls, dtype: object"
     },
     "execution_count": 39,
     "metadata": {},
     "output_type": "execute_result"
    }
   ],
   "source": [
    "system.damageRolls"
   ],
   "metadata": {
    "collapsed": false
   }
  },
  {
   "cell_type": "code",
   "execution_count": 40,
   "outputs": [],
   "source": [
    "damageRolls = unpack_column(system, \"damageRolls\")"
   ],
   "metadata": {
    "collapsed": false
   }
  },
  {
   "cell_type": "code",
   "execution_count": 41,
   "outputs": [
    {
     "name": "stdout",
     "output_type": "stream",
     "text": [
      "<class 'pandas.core.frame.DataFrame'>\n",
      "Int64Index: 3 entries, 2 to 4\n",
      "Data columns (total 4 columns):\n",
      " #   Column                Non-Null Count  Dtype \n",
      "---  ------                --------------  ----- \n",
      " 0   us0we2nnktbci4lfvgcl  1 non-null      object\n",
      " 1   fgtxbn522ftnmqrogyi9  1 non-null      object\n",
      " 2   o208ok74dbhugrpi71cb  1 non-null      object\n",
      " 3   h5lf5wus9gdg3vu060bo  1 non-null      object\n",
      "dtypes: object(4)\n",
      "memory usage: 120.0+ bytes\n"
     ]
    }
   ],
   "source": [
    "damageRolls.info()"
   ],
   "metadata": {
    "collapsed": false
   }
  },
  {
   "cell_type": "code",
   "execution_count": 42,
   "outputs": [
    {
     "data": {
      "text/plain": "                              us0we2nnktbci4lfvgcl  \\\n2  {'damage': '2d10+12', 'damageType': 'piercing'}   \n3                                              NaN   \n4                                              NaN   \n\n                      fgtxbn522ftnmqrogyi9  \\\n2  {'damage': '2d6', 'damageType': 'fire'}   \n3                                      NaN   \n4                                      NaN   \n\n                              o208ok74dbhugrpi71cb  \\\n2                                              NaN   \n3  {'damage': '2d10+12', 'damageType': 'slashing'}   \n4                                              NaN   \n\n                              h5lf5wus9gdg3vu060bo  \n2                                              NaN  \n3                                              NaN  \n4  {'damage': '1d12+10', 'damageType': 'slashing'}  ",
      "text/html": "<div>\n<style scoped>\n    .dataframe tbody tr th:only-of-type {\n        vertical-align: middle;\n    }\n\n    .dataframe tbody tr th {\n        vertical-align: top;\n    }\n\n    .dataframe thead th {\n        text-align: right;\n    }\n</style>\n<table border=\"1\" class=\"dataframe\">\n  <thead>\n    <tr style=\"text-align: right;\">\n      <th></th>\n      <th>us0we2nnktbci4lfvgcl</th>\n      <th>fgtxbn522ftnmqrogyi9</th>\n      <th>o208ok74dbhugrpi71cb</th>\n      <th>h5lf5wus9gdg3vu060bo</th>\n    </tr>\n  </thead>\n  <tbody>\n    <tr>\n      <th>2</th>\n      <td>{'damage': '2d10+12', 'damageType': 'piercing'}</td>\n      <td>{'damage': '2d6', 'damageType': 'fire'}</td>\n      <td>NaN</td>\n      <td>NaN</td>\n    </tr>\n    <tr>\n      <th>3</th>\n      <td>NaN</td>\n      <td>NaN</td>\n      <td>{'damage': '2d10+12', 'damageType': 'slashing'}</td>\n      <td>NaN</td>\n    </tr>\n    <tr>\n      <th>4</th>\n      <td>NaN</td>\n      <td>NaN</td>\n      <td>NaN</td>\n      <td>{'damage': '1d12+10', 'damageType': 'slashing'}</td>\n    </tr>\n  </tbody>\n</table>\n</div>"
     },
     "execution_count": 42,
     "metadata": {},
     "output_type": "execute_result"
    }
   ],
   "source": [
    "damageRolls"
   ],
   "metadata": {
    "collapsed": false
   }
  },
  {
   "cell_type": "code",
   "execution_count": 43,
   "outputs": [],
   "source": [
    "damage_info = pd.concat(\n",
    "    [\n",
    "        unpack_column(damageRolls.loc[[2]], column_name=\"us0we2nnktbci4lfvgcl\"),\n",
    "        unpack_column(damageRolls.loc[[2]], column_name=\"fgtxbn522ftnmqrogyi9\"),\n",
    "    ]\n",
    ")"
   ],
   "metadata": {
    "collapsed": false
   }
  },
  {
   "cell_type": "code",
   "execution_count": 44,
   "outputs": [
    {
     "data": {
      "text/plain": "    damage damageType\n2  2d10+12   piercing\n2      2d6       fire",
      "text/html": "<div>\n<style scoped>\n    .dataframe tbody tr th:only-of-type {\n        vertical-align: middle;\n    }\n\n    .dataframe tbody tr th {\n        vertical-align: top;\n    }\n\n    .dataframe thead th {\n        text-align: right;\n    }\n</style>\n<table border=\"1\" class=\"dataframe\">\n  <thead>\n    <tr style=\"text-align: right;\">\n      <th></th>\n      <th>damage</th>\n      <th>damageType</th>\n    </tr>\n  </thead>\n  <tbody>\n    <tr>\n      <th>2</th>\n      <td>2d10+12</td>\n      <td>piercing</td>\n    </tr>\n    <tr>\n      <th>2</th>\n      <td>2d6</td>\n      <td>fire</td>\n    </tr>\n  </tbody>\n</table>\n</div>"
     },
     "execution_count": 44,
     "metadata": {},
     "output_type": "execute_result"
    }
   ],
   "source": [
    "damage_info"
   ],
   "metadata": {
    "collapsed": false
   }
  },
  {
   "cell_type": "code",
   "execution_count": 45,
   "outputs": [
    {
     "name": "stdout",
     "output_type": "stream",
     "text": [
      "2d10+12\n",
      "23.0\n",
      "==============================================\n",
      "2d6\n",
      "7.0\n",
      "==============================================\n",
      "TOTAL: 30.0\n"
     ]
    }
   ],
   "source": [
    "expecte_val = 0\n",
    "\n",
    "for damage in damage_info.damage:\n",
    "    print(damage)\n",
    "    roll_nr, dice_type = damage.split(\"d\")\n",
    "    add = 0\n",
    "    if \"+\" in dice_type:\n",
    "        dice_type, add = dice_type.split(\"+\")\n",
    "        add = int(add)\n",
    "    roll_nr, dice_type = int(roll_nr), int(dice_type)\n",
    "    val = (roll_nr * sum([i for i in range(1, dice_type + 1)]) / dice_type) + add\n",
    "    expecte_val += val\n",
    "    print(val)\n",
    "    print(\"==============================================\")\n",
    "\n",
    "print(f\"TOTAL: {expecte_val}\")"
   ],
   "metadata": {
    "collapsed": false
   }
  },
  {
   "cell_type": "markdown",
   "source": [
    "## get max melee and expected value of damage"
   ],
   "metadata": {
    "collapsed": false
   }
  },
  {
   "cell_type": "code",
   "execution_count": 46,
   "outputs": [],
   "source": [
    "from training.creating_dataset import is_path_correct\n",
    "import json\n",
    "\n",
    "\n",
    "data = []\n",
    "\n",
    "paths_to_books = [book]\n",
    "\n",
    "for path in paths_to_books:\n",
    "    is_path_correct(path)\n",
    "    with open(path) as file:\n",
    "        # loading json strings from files\n",
    "        data += [json.loads(line) for line in file]\n",
    "        file.close()\n",
    "\n",
    "bestiary = pd.json_normalize(data)\n",
    "# only npc monsters\n",
    "bestiary = bestiary[bestiary[\"type\"] == \"npc\"]"
   ],
   "metadata": {
    "collapsed": false
   }
  },
  {
   "cell_type": "code",
   "execution_count": 47,
   "outputs": [
    {
     "name": "stdout",
     "output_type": "stream",
     "text": [
      "<class 'pandas.core.frame.DataFrame'>\n",
      "Int64Index: 468 entries, 0 to 467\n",
      "Data columns (total 54 columns):\n",
      " #   Column                                Non-Null Count  Dtype  \n",
      "---  ------                                --------------  -----  \n",
      " 0   _id                                   468 non-null    object \n",
      " 1   img                                   468 non-null    object \n",
      " 2   items                                 468 non-null    object \n",
      " 3   name                                  468 non-null    object \n",
      " 4   type                                  468 non-null    object \n",
      " 5   system.abilities.cha.mod              468 non-null    int64  \n",
      " 6   system.abilities.con.mod              468 non-null    int64  \n",
      " 7   system.abilities.dex.mod              468 non-null    int64  \n",
      " 8   system.abilities.int.mod              468 non-null    int64  \n",
      " 9   system.abilities.str.mod              468 non-null    int64  \n",
      " 10  system.abilities.wis.mod              468 non-null    int64  \n",
      " 11  system.attributes.ac.details          468 non-null    object \n",
      " 12  system.attributes.ac.value            468 non-null    int64  \n",
      " 13  system.attributes.allSaves.value      468 non-null    object \n",
      " 14  system.attributes.hp.details          468 non-null    object \n",
      " 15  system.attributes.hp.max              468 non-null    int64  \n",
      " 16  system.attributes.hp.temp             468 non-null    int64  \n",
      " 17  system.attributes.hp.value            468 non-null    int64  \n",
      " 18  system.attributes.immunities          225 non-null    object \n",
      " 19  system.attributes.initiative.ability  468 non-null    object \n",
      " 20  system.attributes.perception.value    468 non-null    int64  \n",
      " 21  system.attributes.speed.details       64 non-null     object \n",
      " 22  system.attributes.speed.otherSpeeds   468 non-null    object \n",
      " 23  system.attributes.speed.value         468 non-null    int64  \n",
      " 24  system.attributes.weaknesses          141 non-null    object \n",
      " 25  system.details.alignment.value        468 non-null    object \n",
      " 26  system.details.blurb                  468 non-null    object \n",
      " 27  system.details.creatureType           468 non-null    object \n",
      " 28  system.details.level.value            468 non-null    int64  \n",
      " 29  system.details.privateNotes           468 non-null    object \n",
      " 30  system.details.publicNotes            468 non-null    object \n",
      " 31  system.details.source.value           468 non-null    object \n",
      " 32  system.resources.focus.max            206 non-null    float64\n",
      " 33  system.resources.focus.value          206 non-null    float64\n",
      " 34  system.saves.fortitude.saveDetail     468 non-null    object \n",
      " 35  system.saves.fortitude.value          468 non-null    int64  \n",
      " 36  system.saves.reflex.saveDetail        468 non-null    object \n",
      " 37  system.saves.reflex.value             468 non-null    int64  \n",
      " 38  system.saves.will.saveDetail          468 non-null    object \n",
      " 39  system.saves.will.value               468 non-null    int64  \n",
      " 40  system.traits.languages.custom        468 non-null    object \n",
      " 41  system.traits.languages.selected      468 non-null    object \n",
      " 42  system.traits.languages.value         468 non-null    object \n",
      " 43  system.traits.rarity                  468 non-null    object \n",
      " 44  system.traits.senses.value            468 non-null    object \n",
      " 45  system.traits.size.value              468 non-null    object \n",
      " 46  system.traits.value                   468 non-null    object \n",
      " 47  system.schema.version                 468 non-null    float64\n",
      " 48  system.schema.lastMigration           0 non-null      object \n",
      " 49  flags.core.sourceId                   468 non-null    object \n",
      " 50  system.attributes.resistances         121 non-null    object \n",
      " 51  system.traits.attitude.value          78 non-null     object \n",
      " 52  prototypeToken.name                   35 non-null     object \n",
      " 53  system.attributes.hardness.value      4 non-null      float64\n",
      "dtypes: float64(4), int64(16), object(34)\n",
      "memory usage: 201.1+ KB\n"
     ]
    }
   ],
   "source": [
    "bestiary.info()"
   ],
   "metadata": {
    "collapsed": false
   }
  },
  {
   "cell_type": "code",
   "execution_count": 48,
   "outputs": [
    {
     "data": {
      "text/plain": "                _id                                       img  \\\n0  024PqcF8yMRBrPuq  systems/pf2e/icons/default-icons/npc.svg   \n1  05E3kkjoLZVjFOeO  systems/pf2e/icons/default-icons/npc.svg   \n2  05wwpHHsBlxBbdkN  systems/pf2e/icons/default-icons/npc.svg   \n3  0FGz2eXm0SB04sJW  systems/pf2e/icons/default-icons/npc.svg   \n4  0HjVFx8qIKDCfblg  systems/pf2e/icons/default-icons/npc.svg   \n\n                                               items                  name  \\\n0  [{'_id': 'B7rzf0nBJmzg8x0y', 'img': 'systems/p...    Adult White Dragon   \n1  [{'_id': 'mYNDkS27YQRyy1F0', 'img': 'systems/p...          Brontosaurus   \n2  [{'_id': 'WkPeg600zGONsuJz', 'img': 'systems/p...        Giant Anaconda   \n3  [{'_id': 'joBYS96mXSnZC1WB', 'img': 'systems/p...  Ancient Green Dragon   \n4  [{'_id': 'xlUnQcjrxeMXu5Cd', 'img': 'systems/p...        Lantern Archon   \n\n  type  system.abilities.cha.mod  system.abilities.con.mod  \\\n0  npc                         1                         5   \n1  npc                         1                         5   \n2  npc                        -2                         6   \n3  npc                         6                         5   \n4  npc                         1                         1   \n\n   system.abilities.dex.mod  system.abilities.int.mod  \\\n0                         2                         1   \n1                         0                        -4   \n2                         3                        -4   \n3                         4                         6   \n4                         3                        -1   \n\n   system.abilities.str.mod  ...  \\\n0                         7  ...   \n1                         9  ...   \n2                         7  ...   \n3                         7  ...   \n4                        -5  ...   \n\n                          system.traits.senses.value system.traits.size.value  \\\n0  darkvision, scent (imprecise) 60 feet, snow vi...                       lg   \n1        low-light vision, scent (imprecise) 30 feet                      grg   \n2        low-light vision, scent (imprecise) 60 feet                     huge   \n3              darkvision, scent (imprecise) 60 feet                      grg   \n4                                         darkvision                       sm   \n\n    system.traits.value system.schema.version system.schema.lastMigration  \\\n0        [cold, dragon]                 0.827                        None   \n1    [animal, dinosaur]                 0.827                        None   \n2              [animal]                 0.827                        None   \n3  [amphibious, dragon]                 0.827                        None   \n4   [archon, celestial]                 0.827                        None   \n\n                                 flags.core.sourceId  \\\n0  Compendium.pf2e.pathfinder-bestiary.024PqcF8yM...   \n1  Compendium.pf2e.pathfinder-bestiary.05E3kkjoLZ...   \n2  Compendium.pf2e.pathfinder-bestiary.05wwpHHsBl...   \n3  Compendium.pf2e.pathfinder-bestiary.0FGz2eXm0S...   \n4  Compendium.pf2e.pathfinder-bestiary.0HjVFx8qIK...   \n\n    system.attributes.resistances  system.traits.attitude.value  \\\n0                             NaN                           NaN   \n1                             NaN                           NaN   \n2                             NaN                           NaN   \n3                             NaN                           NaN   \n4  [{'type': 'fire', 'value': 3}]                           NaN   \n\n  prototypeToken.name system.attributes.hardness.value  \n0                 NaN                              NaN  \n1                 NaN                              NaN  \n2                 NaN                              NaN  \n3                 NaN                              NaN  \n4                 NaN                              NaN  \n\n[5 rows x 54 columns]",
      "text/html": "<div>\n<style scoped>\n    .dataframe tbody tr th:only-of-type {\n        vertical-align: middle;\n    }\n\n    .dataframe tbody tr th {\n        vertical-align: top;\n    }\n\n    .dataframe thead th {\n        text-align: right;\n    }\n</style>\n<table border=\"1\" class=\"dataframe\">\n  <thead>\n    <tr style=\"text-align: right;\">\n      <th></th>\n      <th>_id</th>\n      <th>img</th>\n      <th>items</th>\n      <th>name</th>\n      <th>type</th>\n      <th>system.abilities.cha.mod</th>\n      <th>system.abilities.con.mod</th>\n      <th>system.abilities.dex.mod</th>\n      <th>system.abilities.int.mod</th>\n      <th>system.abilities.str.mod</th>\n      <th>...</th>\n      <th>system.traits.senses.value</th>\n      <th>system.traits.size.value</th>\n      <th>system.traits.value</th>\n      <th>system.schema.version</th>\n      <th>system.schema.lastMigration</th>\n      <th>flags.core.sourceId</th>\n      <th>system.attributes.resistances</th>\n      <th>system.traits.attitude.value</th>\n      <th>prototypeToken.name</th>\n      <th>system.attributes.hardness.value</th>\n    </tr>\n  </thead>\n  <tbody>\n    <tr>\n      <th>0</th>\n      <td>024PqcF8yMRBrPuq</td>\n      <td>systems/pf2e/icons/default-icons/npc.svg</td>\n      <td>[{'_id': 'B7rzf0nBJmzg8x0y', 'img': 'systems/p...</td>\n      <td>Adult White Dragon</td>\n      <td>npc</td>\n      <td>1</td>\n      <td>5</td>\n      <td>2</td>\n      <td>1</td>\n      <td>7</td>\n      <td>...</td>\n      <td>darkvision, scent (imprecise) 60 feet, snow vi...</td>\n      <td>lg</td>\n      <td>[cold, dragon]</td>\n      <td>0.827</td>\n      <td>None</td>\n      <td>Compendium.pf2e.pathfinder-bestiary.024PqcF8yM...</td>\n      <td>NaN</td>\n      <td>NaN</td>\n      <td>NaN</td>\n      <td>NaN</td>\n    </tr>\n    <tr>\n      <th>1</th>\n      <td>05E3kkjoLZVjFOeO</td>\n      <td>systems/pf2e/icons/default-icons/npc.svg</td>\n      <td>[{'_id': 'mYNDkS27YQRyy1F0', 'img': 'systems/p...</td>\n      <td>Brontosaurus</td>\n      <td>npc</td>\n      <td>1</td>\n      <td>5</td>\n      <td>0</td>\n      <td>-4</td>\n      <td>9</td>\n      <td>...</td>\n      <td>low-light vision, scent (imprecise) 30 feet</td>\n      <td>grg</td>\n      <td>[animal, dinosaur]</td>\n      <td>0.827</td>\n      <td>None</td>\n      <td>Compendium.pf2e.pathfinder-bestiary.05E3kkjoLZ...</td>\n      <td>NaN</td>\n      <td>NaN</td>\n      <td>NaN</td>\n      <td>NaN</td>\n    </tr>\n    <tr>\n      <th>2</th>\n      <td>05wwpHHsBlxBbdkN</td>\n      <td>systems/pf2e/icons/default-icons/npc.svg</td>\n      <td>[{'_id': 'WkPeg600zGONsuJz', 'img': 'systems/p...</td>\n      <td>Giant Anaconda</td>\n      <td>npc</td>\n      <td>-2</td>\n      <td>6</td>\n      <td>3</td>\n      <td>-4</td>\n      <td>7</td>\n      <td>...</td>\n      <td>low-light vision, scent (imprecise) 60 feet</td>\n      <td>huge</td>\n      <td>[animal]</td>\n      <td>0.827</td>\n      <td>None</td>\n      <td>Compendium.pf2e.pathfinder-bestiary.05wwpHHsBl...</td>\n      <td>NaN</td>\n      <td>NaN</td>\n      <td>NaN</td>\n      <td>NaN</td>\n    </tr>\n    <tr>\n      <th>3</th>\n      <td>0FGz2eXm0SB04sJW</td>\n      <td>systems/pf2e/icons/default-icons/npc.svg</td>\n      <td>[{'_id': 'joBYS96mXSnZC1WB', 'img': 'systems/p...</td>\n      <td>Ancient Green Dragon</td>\n      <td>npc</td>\n      <td>6</td>\n      <td>5</td>\n      <td>4</td>\n      <td>6</td>\n      <td>7</td>\n      <td>...</td>\n      <td>darkvision, scent (imprecise) 60 feet</td>\n      <td>grg</td>\n      <td>[amphibious, dragon]</td>\n      <td>0.827</td>\n      <td>None</td>\n      <td>Compendium.pf2e.pathfinder-bestiary.0FGz2eXm0S...</td>\n      <td>NaN</td>\n      <td>NaN</td>\n      <td>NaN</td>\n      <td>NaN</td>\n    </tr>\n    <tr>\n      <th>4</th>\n      <td>0HjVFx8qIKDCfblg</td>\n      <td>systems/pf2e/icons/default-icons/npc.svg</td>\n      <td>[{'_id': 'xlUnQcjrxeMXu5Cd', 'img': 'systems/p...</td>\n      <td>Lantern Archon</td>\n      <td>npc</td>\n      <td>1</td>\n      <td>1</td>\n      <td>3</td>\n      <td>-1</td>\n      <td>-5</td>\n      <td>...</td>\n      <td>darkvision</td>\n      <td>sm</td>\n      <td>[archon, celestial]</td>\n      <td>0.827</td>\n      <td>None</td>\n      <td>Compendium.pf2e.pathfinder-bestiary.0HjVFx8qIK...</td>\n      <td>[{'type': 'fire', 'value': 3}]</td>\n      <td>NaN</td>\n      <td>NaN</td>\n      <td>NaN</td>\n    </tr>\n  </tbody>\n</table>\n<p>5 rows × 54 columns</p>\n</div>"
     },
     "execution_count": 48,
     "metadata": {},
     "output_type": "execute_result"
    }
   ],
   "source": [
    "bestiary.head()"
   ],
   "metadata": {
    "collapsed": false
   }
  },
  {
   "cell_type": "code",
   "execution_count": 49,
   "outputs": [],
   "source": [
    "def count_damage(damage_dict):\n",
    "    total_expected_val = 0\n",
    "\n",
    "    for key, value in damage_dict.items():\n",
    "        damage = value.get(\"damage\")\n",
    "\n",
    "        if not \"d\" in damage:\n",
    "            return int(damage)\n",
    "        roll_nr, dice_type = damage.split(\"d\")\n",
    "        add = 0\n",
    "        if \"+\" in dice_type:\n",
    "            dice_type, add = dice_type.split(\"+\")\n",
    "            add = int(add)\n",
    "        if \"-\" in dice_type:\n",
    "            dice_type, add = dice_type.split(\"-\")\n",
    "            add = -int(add)\n",
    "        roll_nr, dice_type = int(roll_nr), int(dice_type)\n",
    "        total_expected_val += (\n",
    "            roll_nr * sum([i for i in range(1, dice_type + 1)]) / dice_type\n",
    "        ) + add\n",
    "\n",
    "    return total_expected_val\n",
    "\n",
    "\n",
    "def get_max_melee_bonus_damage(items_list):\n",
    "    melee = [\n",
    "        i.get(\"system\")\n",
    "        for i in items_list\n",
    "        if i.get(\"type\") == \"melee\"\n",
    "        and i.get(\"system\").get(\"weaponType\").get(\"value\") == \"melee\"\n",
    "    ]\n",
    "    if len(melee) == 0:\n",
    "        return 0, 0\n",
    "    # print(len(melee))\n",
    "    max_bonus_indx, max_bonus = max(\n",
    "        [(i, melee[i].get(\"bonus\").get(\"value\")) for i in range(len(melee))],\n",
    "        key=lambda x: x[1],\n",
    "    )\n",
    "\n",
    "    return max_bonus, count_damage(melee[max_bonus_indx].get(\"damageRolls\"))"
   ],
   "metadata": {
    "collapsed": false
   }
  },
  {
   "cell_type": "code",
   "execution_count": 50,
   "outputs": [],
   "source": [
    "bestiary[\"melee_max_bonus\"], bestiary[\"melee_damage_exp_val\"] = zip(\n",
    "    *bestiary[\"items\"].apply(get_max_melee_bonus_damage)\n",
    ")"
   ],
   "metadata": {
    "collapsed": false
   }
  },
  {
   "cell_type": "code",
   "execution_count": 51,
   "outputs": [
    {
     "data": {
      "text/plain": "                _id                                       img  \\\n0  024PqcF8yMRBrPuq  systems/pf2e/icons/default-icons/npc.svg   \n1  05E3kkjoLZVjFOeO  systems/pf2e/icons/default-icons/npc.svg   \n2  05wwpHHsBlxBbdkN  systems/pf2e/icons/default-icons/npc.svg   \n3  0FGz2eXm0SB04sJW  systems/pf2e/icons/default-icons/npc.svg   \n4  0HjVFx8qIKDCfblg  systems/pf2e/icons/default-icons/npc.svg   \n\n                                               items                  name  \\\n0  [{'_id': 'B7rzf0nBJmzg8x0y', 'img': 'systems/p...    Adult White Dragon   \n1  [{'_id': 'mYNDkS27YQRyy1F0', 'img': 'systems/p...          Brontosaurus   \n2  [{'_id': 'WkPeg600zGONsuJz', 'img': 'systems/p...        Giant Anaconda   \n3  [{'_id': 'joBYS96mXSnZC1WB', 'img': 'systems/p...  Ancient Green Dragon   \n4  [{'_id': 'xlUnQcjrxeMXu5Cd', 'img': 'systems/p...        Lantern Archon   \n\n  type  system.abilities.cha.mod  system.abilities.con.mod  \\\n0  npc                         1                         5   \n1  npc                         1                         5   \n2  npc                        -2                         6   \n3  npc                         6                         5   \n4  npc                         1                         1   \n\n   system.abilities.dex.mod  system.abilities.int.mod  \\\n0                         2                         1   \n1                         0                        -4   \n2                         3                        -4   \n3                         4                         6   \n4                         3                        -1   \n\n   system.abilities.str.mod  ...   system.traits.value system.schema.version  \\\n0                         7  ...        [cold, dragon]                 0.827   \n1                         9  ...    [animal, dinosaur]                 0.827   \n2                         7  ...              [animal]                 0.827   \n3                         7  ...  [amphibious, dragon]                 0.827   \n4                        -5  ...   [archon, celestial]                 0.827   \n\n   system.schema.lastMigration  \\\n0                         None   \n1                         None   \n2                         None   \n3                         None   \n4                         None   \n\n                                 flags.core.sourceId  \\\n0  Compendium.pf2e.pathfinder-bestiary.024PqcF8yM...   \n1  Compendium.pf2e.pathfinder-bestiary.05E3kkjoLZ...   \n2  Compendium.pf2e.pathfinder-bestiary.05wwpHHsBl...   \n3  Compendium.pf2e.pathfinder-bestiary.0FGz2eXm0S...   \n4  Compendium.pf2e.pathfinder-bestiary.0HjVFx8qIK...   \n\n    system.attributes.resistances  system.traits.attitude.value  \\\n0                             NaN                           NaN   \n1                             NaN                           NaN   \n2                             NaN                           NaN   \n3                             NaN                           NaN   \n4  [{'type': 'fire', 'value': 3}]                           NaN   \n\n   prototypeToken.name  system.attributes.hardness.value melee_max_bonus  \\\n0                  NaN                               NaN              23   \n1                  NaN                               NaN              23   \n2                  NaN                               NaN              21   \n3                  NaN                               NaN              33   \n4                  NaN                               NaN               0   \n\n  melee_damage_exp_val  \n0                 31.0  \n1                 24.0  \n2                 18.0  \n3                 44.5  \n4                  0.0  \n\n[5 rows x 56 columns]",
      "text/html": "<div>\n<style scoped>\n    .dataframe tbody tr th:only-of-type {\n        vertical-align: middle;\n    }\n\n    .dataframe tbody tr th {\n        vertical-align: top;\n    }\n\n    .dataframe thead th {\n        text-align: right;\n    }\n</style>\n<table border=\"1\" class=\"dataframe\">\n  <thead>\n    <tr style=\"text-align: right;\">\n      <th></th>\n      <th>_id</th>\n      <th>img</th>\n      <th>items</th>\n      <th>name</th>\n      <th>type</th>\n      <th>system.abilities.cha.mod</th>\n      <th>system.abilities.con.mod</th>\n      <th>system.abilities.dex.mod</th>\n      <th>system.abilities.int.mod</th>\n      <th>system.abilities.str.mod</th>\n      <th>...</th>\n      <th>system.traits.value</th>\n      <th>system.schema.version</th>\n      <th>system.schema.lastMigration</th>\n      <th>flags.core.sourceId</th>\n      <th>system.attributes.resistances</th>\n      <th>system.traits.attitude.value</th>\n      <th>prototypeToken.name</th>\n      <th>system.attributes.hardness.value</th>\n      <th>melee_max_bonus</th>\n      <th>melee_damage_exp_val</th>\n    </tr>\n  </thead>\n  <tbody>\n    <tr>\n      <th>0</th>\n      <td>024PqcF8yMRBrPuq</td>\n      <td>systems/pf2e/icons/default-icons/npc.svg</td>\n      <td>[{'_id': 'B7rzf0nBJmzg8x0y', 'img': 'systems/p...</td>\n      <td>Adult White Dragon</td>\n      <td>npc</td>\n      <td>1</td>\n      <td>5</td>\n      <td>2</td>\n      <td>1</td>\n      <td>7</td>\n      <td>...</td>\n      <td>[cold, dragon]</td>\n      <td>0.827</td>\n      <td>None</td>\n      <td>Compendium.pf2e.pathfinder-bestiary.024PqcF8yM...</td>\n      <td>NaN</td>\n      <td>NaN</td>\n      <td>NaN</td>\n      <td>NaN</td>\n      <td>23</td>\n      <td>31.0</td>\n    </tr>\n    <tr>\n      <th>1</th>\n      <td>05E3kkjoLZVjFOeO</td>\n      <td>systems/pf2e/icons/default-icons/npc.svg</td>\n      <td>[{'_id': 'mYNDkS27YQRyy1F0', 'img': 'systems/p...</td>\n      <td>Brontosaurus</td>\n      <td>npc</td>\n      <td>1</td>\n      <td>5</td>\n      <td>0</td>\n      <td>-4</td>\n      <td>9</td>\n      <td>...</td>\n      <td>[animal, dinosaur]</td>\n      <td>0.827</td>\n      <td>None</td>\n      <td>Compendium.pf2e.pathfinder-bestiary.05E3kkjoLZ...</td>\n      <td>NaN</td>\n      <td>NaN</td>\n      <td>NaN</td>\n      <td>NaN</td>\n      <td>23</td>\n      <td>24.0</td>\n    </tr>\n    <tr>\n      <th>2</th>\n      <td>05wwpHHsBlxBbdkN</td>\n      <td>systems/pf2e/icons/default-icons/npc.svg</td>\n      <td>[{'_id': 'WkPeg600zGONsuJz', 'img': 'systems/p...</td>\n      <td>Giant Anaconda</td>\n      <td>npc</td>\n      <td>-2</td>\n      <td>6</td>\n      <td>3</td>\n      <td>-4</td>\n      <td>7</td>\n      <td>...</td>\n      <td>[animal]</td>\n      <td>0.827</td>\n      <td>None</td>\n      <td>Compendium.pf2e.pathfinder-bestiary.05wwpHHsBl...</td>\n      <td>NaN</td>\n      <td>NaN</td>\n      <td>NaN</td>\n      <td>NaN</td>\n      <td>21</td>\n      <td>18.0</td>\n    </tr>\n    <tr>\n      <th>3</th>\n      <td>0FGz2eXm0SB04sJW</td>\n      <td>systems/pf2e/icons/default-icons/npc.svg</td>\n      <td>[{'_id': 'joBYS96mXSnZC1WB', 'img': 'systems/p...</td>\n      <td>Ancient Green Dragon</td>\n      <td>npc</td>\n      <td>6</td>\n      <td>5</td>\n      <td>4</td>\n      <td>6</td>\n      <td>7</td>\n      <td>...</td>\n      <td>[amphibious, dragon]</td>\n      <td>0.827</td>\n      <td>None</td>\n      <td>Compendium.pf2e.pathfinder-bestiary.0FGz2eXm0S...</td>\n      <td>NaN</td>\n      <td>NaN</td>\n      <td>NaN</td>\n      <td>NaN</td>\n      <td>33</td>\n      <td>44.5</td>\n    </tr>\n    <tr>\n      <th>4</th>\n      <td>0HjVFx8qIKDCfblg</td>\n      <td>systems/pf2e/icons/default-icons/npc.svg</td>\n      <td>[{'_id': 'xlUnQcjrxeMXu5Cd', 'img': 'systems/p...</td>\n      <td>Lantern Archon</td>\n      <td>npc</td>\n      <td>1</td>\n      <td>1</td>\n      <td>3</td>\n      <td>-1</td>\n      <td>-5</td>\n      <td>...</td>\n      <td>[archon, celestial]</td>\n      <td>0.827</td>\n      <td>None</td>\n      <td>Compendium.pf2e.pathfinder-bestiary.0HjVFx8qIK...</td>\n      <td>[{'type': 'fire', 'value': 3}]</td>\n      <td>NaN</td>\n      <td>NaN</td>\n      <td>NaN</td>\n      <td>0</td>\n      <td>0.0</td>\n    </tr>\n  </tbody>\n</table>\n<p>5 rows × 56 columns</p>\n</div>"
     },
     "execution_count": 51,
     "metadata": {},
     "output_type": "execute_result"
    }
   ],
   "source": [
    "bestiary.head()"
   ],
   "metadata": {
    "collapsed": false
   }
  },
  {
   "cell_type": "code",
   "execution_count": 51,
   "outputs": [],
   "source": [],
   "metadata": {
    "collapsed": false
   }
  }
 ],
 "metadata": {
  "kernelspec": {
   "display_name": "Python 3",
   "language": "python",
   "name": "python3"
  },
  "language_info": {
   "codemirror_mode": {
    "name": "ipython",
    "version": 2
   },
   "file_extension": ".py",
   "mimetype": "text/x-python",
   "name": "python",
   "nbconvert_exporter": "python",
   "pygments_lexer": "ipython2",
   "version": "2.7.6"
  }
 },
 "nbformat": 4,
 "nbformat_minor": 0
}
