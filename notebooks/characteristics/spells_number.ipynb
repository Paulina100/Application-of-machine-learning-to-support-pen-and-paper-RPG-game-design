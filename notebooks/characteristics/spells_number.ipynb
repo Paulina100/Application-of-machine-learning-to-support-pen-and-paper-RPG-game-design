{
 "cells": [
  {
   "cell_type": "markdown",
   "source": [
    "# Analysis how to extract spells, group and count them"
   ],
   "metadata": {
    "collapsed": false
   }
  },
  {
   "cell_type": "markdown",
   "source": [
    "First anylysis on one monster: *Priest of Pharasma*"
   ],
   "metadata": {
    "collapsed": false
   }
  },
  {
   "cell_type": "code",
   "execution_count": 2,
   "metadata": {
    "collapsed": true
   },
   "outputs": [],
   "source": [
    "import pandas as pd\n",
    "\n",
    "\n",
    "book = \"../../pathfinder_2e_data/npc-gallery.db\"\n",
    "df = pd.read_json(book, lines=True)"
   ]
  },
  {
   "cell_type": "code",
   "execution_count": 179,
   "outputs": [],
   "source": [
    "monster_name = \"Priest of Pharasma\"\n",
    "\n",
    "monster = df[df.name == monster_name]\n",
    "monster = monster.iloc[0, :]"
   ],
   "metadata": {
    "collapsed": false
   }
  },
  {
   "cell_type": "code",
   "execution_count": 18,
   "outputs": [
    {
     "data": {
      "text/plain": "_id                                                XpkGaDlyMH2V5wxR\nimg                        systems/pf2e/icons/default-icons/npc.svg\nitems             [{'_id': '3lmMOkUuWRYkYOfO', 'img': 'systems/p...\nname                                             Priest of Pharasma\nsystem            {'abilities': {'cha': {'mod': 2}, 'con': {'mod...\ntype                                                            npc\nflags             {'core': {'sourceId': 'Compendium.pf2e.npc-gal...\nprototypeToken                                                  NaN\nName: 64, dtype: object"
     },
     "execution_count": 18,
     "metadata": {},
     "output_type": "execute_result"
    }
   ],
   "source": [
    "monster"
   ],
   "metadata": {
    "collapsed": false
   }
  },
  {
   "cell_type": "code",
   "execution_count": 22,
   "outputs": [],
   "source": [
    "items = pd.DataFrame.from_records(monster[\"items\"])"
   ],
   "metadata": {
    "collapsed": false
   }
  },
  {
   "cell_type": "code",
   "execution_count": 24,
   "outputs": [
    {
     "name": "stdout",
     "output_type": "stream",
     "text": [
      "<class 'pandas.core.frame.DataFrame'>\n",
      "RangeIndex: 30 entries, 0 to 29\n",
      "Data columns (total 7 columns):\n",
      " #   Column  Non-Null Count  Dtype \n",
      "---  ------  --------------  ----- \n",
      " 0   _id     30 non-null     object\n",
      " 1   img     30 non-null     object\n",
      " 2   name    30 non-null     object\n",
      " 3   sort    30 non-null     int64 \n",
      " 4   system  30 non-null     object\n",
      " 5   type    30 non-null     object\n",
      " 6   flags   20 non-null     object\n",
      "dtypes: int64(1), object(6)\n",
      "memory usage: 1.8+ KB\n"
     ]
    }
   ],
   "source": [
    "items.info()"
   ],
   "metadata": {
    "collapsed": false
   }
  },
  {
   "cell_type": "code",
   "execution_count": 25,
   "outputs": [
    {
     "data": {
      "text/plain": "                _id                                                img  \\\n0  3lmMOkUuWRYkYOfO  systems/pf2e/icons/default-icons/spellcastingE...   \n1  JCFQaCMK8sKMFgL2  systems/pf2e/icons/default-icons/spellcastingE...   \n2  4QWoVlc5btvkhSWU  systems/pf2e/icons/default-icons/spellcastingE...   \n3  SqMg4BOmWD5UWmLB  systems/pf2e/icons/spells/circle-of-protection...   \n4  v37O7A0c2qecSGdF       systems/pf2e/icons/spells/searing-light.webp   \n\n                     name    sort  \\\n0  Divine Prepared Spells  100000   \n1    Cleric Domain Spells  200000   \n2          Divine Rituals  300000   \n3    Circle of Protection  400000   \n4           Searing Light  500000   \n\n                                              system               type  \\\n0  {'autoHeightenLevel': {'value': None}, 'descri...  spellcastingEntry   \n1  {'autoHeightenLevel': {'value': None}, 'descri...  spellcastingEntry   \n2  {'autoHeightenLevel': {'value': None}, 'descri...  spellcastingEntry   \n3  {'ability': {'value': ''}, 'area': {'details':...              spell   \n4  {'ability': {'value': ''}, 'area': None, 'cate...              spell   \n\n                                               flags  \n0                                                NaN  \n1                                                NaN  \n2                                                NaN  \n3  {'core': {'sourceId': 'Compendium.pf2e.spells-...  \n4  {'core': {'sourceId': 'Compendium.pf2e.spells-...  ",
      "text/html": "<div>\n<style scoped>\n    .dataframe tbody tr th:only-of-type {\n        vertical-align: middle;\n    }\n\n    .dataframe tbody tr th {\n        vertical-align: top;\n    }\n\n    .dataframe thead th {\n        text-align: right;\n    }\n</style>\n<table border=\"1\" class=\"dataframe\">\n  <thead>\n    <tr style=\"text-align: right;\">\n      <th></th>\n      <th>_id</th>\n      <th>img</th>\n      <th>name</th>\n      <th>sort</th>\n      <th>system</th>\n      <th>type</th>\n      <th>flags</th>\n    </tr>\n  </thead>\n  <tbody>\n    <tr>\n      <th>0</th>\n      <td>3lmMOkUuWRYkYOfO</td>\n      <td>systems/pf2e/icons/default-icons/spellcastingE...</td>\n      <td>Divine Prepared Spells</td>\n      <td>100000</td>\n      <td>{'autoHeightenLevel': {'value': None}, 'descri...</td>\n      <td>spellcastingEntry</td>\n      <td>NaN</td>\n    </tr>\n    <tr>\n      <th>1</th>\n      <td>JCFQaCMK8sKMFgL2</td>\n      <td>systems/pf2e/icons/default-icons/spellcastingE...</td>\n      <td>Cleric Domain Spells</td>\n      <td>200000</td>\n      <td>{'autoHeightenLevel': {'value': None}, 'descri...</td>\n      <td>spellcastingEntry</td>\n      <td>NaN</td>\n    </tr>\n    <tr>\n      <th>2</th>\n      <td>4QWoVlc5btvkhSWU</td>\n      <td>systems/pf2e/icons/default-icons/spellcastingE...</td>\n      <td>Divine Rituals</td>\n      <td>300000</td>\n      <td>{'autoHeightenLevel': {'value': None}, 'descri...</td>\n      <td>spellcastingEntry</td>\n      <td>NaN</td>\n    </tr>\n    <tr>\n      <th>3</th>\n      <td>SqMg4BOmWD5UWmLB</td>\n      <td>systems/pf2e/icons/spells/circle-of-protection...</td>\n      <td>Circle of Protection</td>\n      <td>400000</td>\n      <td>{'ability': {'value': ''}, 'area': {'details':...</td>\n      <td>spell</td>\n      <td>{'core': {'sourceId': 'Compendium.pf2e.spells-...</td>\n    </tr>\n    <tr>\n      <th>4</th>\n      <td>v37O7A0c2qecSGdF</td>\n      <td>systems/pf2e/icons/spells/searing-light.webp</td>\n      <td>Searing Light</td>\n      <td>500000</td>\n      <td>{'ability': {'value': ''}, 'area': None, 'cate...</td>\n      <td>spell</td>\n      <td>{'core': {'sourceId': 'Compendium.pf2e.spells-...</td>\n    </tr>\n  </tbody>\n</table>\n</div>"
     },
     "execution_count": 25,
     "metadata": {},
     "output_type": "execute_result"
    }
   ],
   "source": [
    "items.head()"
   ],
   "metadata": {
    "collapsed": false
   }
  },
  {
   "cell_type": "markdown",
   "source": [
    "We are only looking for spells. Type of item in items.type"
   ],
   "metadata": {
    "collapsed": false
   }
  },
  {
   "cell_type": "code",
   "execution_count": 80,
   "outputs": [],
   "source": [
    "spells = items[items.type == \"spell\"]"
   ],
   "metadata": {
    "collapsed": false
   }
  },
  {
   "cell_type": "code",
   "execution_count": 27,
   "outputs": [
    {
     "name": "stdout",
     "output_type": "stream",
     "text": [
      "<class 'pandas.core.frame.DataFrame'>\n",
      "Int64Index: 16 entries, 3 to 18\n",
      "Data columns (total 7 columns):\n",
      " #   Column  Non-Null Count  Dtype \n",
      "---  ------  --------------  ----- \n",
      " 0   _id     16 non-null     object\n",
      " 1   img     16 non-null     object\n",
      " 2   name    16 non-null     object\n",
      " 3   sort    16 non-null     int64 \n",
      " 4   system  16 non-null     object\n",
      " 5   type    16 non-null     object\n",
      " 6   flags   16 non-null     object\n",
      "dtypes: int64(1), object(6)\n",
      "memory usage: 1.0+ KB\n"
     ]
    }
   ],
   "source": [
    "spells.info()"
   ],
   "metadata": {
    "collapsed": false
   }
  },
  {
   "cell_type": "code",
   "execution_count": 28,
   "outputs": [],
   "source": [
    "from training.analysis_functions import unpack_column\n",
    "\n",
    "system = unpack_column(spells, column_name=\"system\")"
   ],
   "metadata": {
    "collapsed": false
   }
  },
  {
   "cell_type": "code",
   "execution_count": 29,
   "outputs": [
    {
     "name": "stdout",
     "output_type": "stream",
     "text": [
      "<class 'pandas.core.frame.DataFrame'>\n",
      "Int64Index: 16 entries, 3 to 18\n",
      "Data columns (total 31 columns):\n",
      " #   Column              Non-Null Count  Dtype \n",
      "---  ------              --------------  ----- \n",
      " 0   ability             16 non-null     object\n",
      " 1   area                4 non-null      object\n",
      " 2   category            16 non-null     object\n",
      " 3   components          16 non-null     object\n",
      " 4   cost                16 non-null     object\n",
      " 5   damage              16 non-null     object\n",
      " 6   description         16 non-null     object\n",
      " 7   duration            16 non-null     object\n",
      " 8   hasCounteractCheck  16 non-null     object\n",
      " 9   level               16 non-null     object\n",
      " 10  location            16 non-null     object\n",
      " 11  materials           16 non-null     object\n",
      " 12  prepared            16 non-null     object\n",
      " 13  primarycheck        16 non-null     object\n",
      " 14  range               16 non-null     object\n",
      " 15  rules               16 non-null     object\n",
      " 16  save                16 non-null     object\n",
      " 17  school              16 non-null     object\n",
      " 18  secondarycasters    16 non-null     object\n",
      " 19  secondarycheck      16 non-null     object\n",
      " 20  slug                16 non-null     object\n",
      " 21  source              16 non-null     object\n",
      " 22  spellType           16 non-null     object\n",
      " 23  sustained           16 non-null     object\n",
      " 24  target              16 non-null     object\n",
      " 25  time                16 non-null     object\n",
      " 26  traditions          16 non-null     object\n",
      " 27  traits              16 non-null     object\n",
      " 28  schema              16 non-null     object\n",
      " 29  heightening         4 non-null      object\n",
      " 30  overlays            1 non-null      object\n",
      "dtypes: object(31)\n",
      "memory usage: 4.0+ KB\n"
     ]
    }
   ],
   "source": [
    "system.info()"
   ],
   "metadata": {
    "collapsed": false
   }
  },
  {
   "cell_type": "code",
   "execution_count": 36,
   "outputs": [
    {
     "data": {
      "text/plain": "         ability                                               area  \\\n3  {'value': ''}  {'details': '10-foot emanation centered on the...   \n4  {'value': ''}                                               None   \n5  {'value': ''}                     {'type': 'burst', 'value': 40}   \n6  {'value': ''}                                               None   \n7  {'value': ''}                                               None   \n\n              category                                         components  \\\n3   {'value': 'spell'}  {'focus': False, 'material': True, 'somatic': ...   \n4   {'value': 'spell'}  {'focus': False, 'material': False, 'somatic':...   \n5  {'value': 'ritual'}  {'focus': False, 'material': False, 'somatic':...   \n6   {'value': 'spell'}  {'focus': False, 'material': False, 'somatic':...   \n7   {'value': 'spell'}  {'focus': False, 'material': True, 'somatic': ...   \n\n                                                cost  \\\n3                                      {'value': ''}   \n4                                      {'value': ''}   \n5  {'value': 'rare incense and offerings worth a ...   \n6                                      {'value': ''}   \n7                                      {'value': ''}   \n\n                                              damage  \\\n3                                      {'value': {}}   \n4  {'value': {'0': {'type': {'categories': [], 'v...   \n5                                      {'value': {}}   \n6                                      {'value': {}}   \n7                                      {'value': {}}   \n\n                                         description  \\\n3  {'value': '<p>You ward a creature and those ne...   \n4  {'value': '<p>You shoot a blazing ray of light...   \n5  {'value': '<p>You consecrate a site to your de...   \n6  {'value': '<p>The targeted corpse doesn't deca...   \n7  {'value': '<p>The target makes no sound, preve...   \n\n                                            duration hasCounteractCheck  \\\n3                              {'value': '1 minute'}   {'value': False}   \n4                                      {'value': ''}    {'value': True}   \n5                                {'value': '1 year'}   {'value': False}   \n6  {'value': 'until the next time you make your d...   {'value': False}   \n7                              {'value': '1 minute'}   {'value': False}   \n\n          level  ...                                    source  \\\n3  {'value': 3}  ...     {'value': 'Pathfinder Core Rulebook'}   \n4  {'value': 3}  ...     {'value': 'Pathfinder Core Rulebook'}   \n5  {'value': 2}  ...  {'value': 'Pathfinder Secrets of Magic'}   \n6  {'value': 2}  ...     {'value': 'Pathfinder Core Rulebook'}   \n7  {'value': 2}  ...     {'value': 'Pathfinder Core Rulebook'}   \n\n              spellType         sustained                           target  \\\n3  {'value': 'utility'}  {'value': False}                    {'value': ''}   \n4   {'value': 'attack'}  {'value': False}          {'value': '1 creature'}   \n5  {'value': 'utility'}  {'value': False}                    {'value': ''}   \n6  {'value': 'utility'}  {'value': False}            {'value': '1 corpse'}   \n7  {'value': 'utility'}  {'value': False}  {'value': '1 willing creature'}   \n\n                  time                                         traditions  \\\n3       {'value': '3'}                    {'value': ['divine', 'occult']}   \n4       {'value': '2'}                    {'value': ['divine', 'primal']}   \n5  {'value': '3 days'}                        {'custom': '', 'value': []}   \n6       {'value': '2'}  {'value': ['arcane', 'divine', 'occult', 'prim...   \n7       {'value': '2'}                    {'value': ['divine', 'occult']}   \n\n                                              traits  \\\n3                {'rarity': 'uncommon', 'value': []}   \n4  {'rarity': 'common', 'value': ['attack', 'fire...   \n5                {'rarity': 'uncommon', 'value': []}   \n6                  {'rarity': 'common', 'value': []}   \n7                  {'rarity': 'common', 'value': []}   \n\n                                              schema  \\\n3  {'version': 0.8270000000000001, 'lastMigration...   \n4  {'version': 0.8270000000000001, 'lastMigration...   \n5  {'version': 0.8270000000000001, 'lastMigration...   \n6  {'version': 0.8270000000000001, 'lastMigration...   \n7  {'version': 0.8270000000000001, 'lastMigration...   \n\n                                         heightening overlays  \n3                                                NaN      NaN  \n4  {'damage': {'0': '2d6'}, 'interval': 1, 'type'...      NaN  \n5                                                NaN      NaN  \n6                                                NaN      NaN  \n7                                                NaN      NaN  \n\n[5 rows x 31 columns]",
      "text/html": "<div>\n<style scoped>\n    .dataframe tbody tr th:only-of-type {\n        vertical-align: middle;\n    }\n\n    .dataframe tbody tr th {\n        vertical-align: top;\n    }\n\n    .dataframe thead th {\n        text-align: right;\n    }\n</style>\n<table border=\"1\" class=\"dataframe\">\n  <thead>\n    <tr style=\"text-align: right;\">\n      <th></th>\n      <th>ability</th>\n      <th>area</th>\n      <th>category</th>\n      <th>components</th>\n      <th>cost</th>\n      <th>damage</th>\n      <th>description</th>\n      <th>duration</th>\n      <th>hasCounteractCheck</th>\n      <th>level</th>\n      <th>...</th>\n      <th>source</th>\n      <th>spellType</th>\n      <th>sustained</th>\n      <th>target</th>\n      <th>time</th>\n      <th>traditions</th>\n      <th>traits</th>\n      <th>schema</th>\n      <th>heightening</th>\n      <th>overlays</th>\n    </tr>\n  </thead>\n  <tbody>\n    <tr>\n      <th>3</th>\n      <td>{'value': ''}</td>\n      <td>{'details': '10-foot emanation centered on the...</td>\n      <td>{'value': 'spell'}</td>\n      <td>{'focus': False, 'material': True, 'somatic': ...</td>\n      <td>{'value': ''}</td>\n      <td>{'value': {}}</td>\n      <td>{'value': '&lt;p&gt;You ward a creature and those ne...</td>\n      <td>{'value': '1 minute'}</td>\n      <td>{'value': False}</td>\n      <td>{'value': 3}</td>\n      <td>...</td>\n      <td>{'value': 'Pathfinder Core Rulebook'}</td>\n      <td>{'value': 'utility'}</td>\n      <td>{'value': False}</td>\n      <td>{'value': ''}</td>\n      <td>{'value': '3'}</td>\n      <td>{'value': ['divine', 'occult']}</td>\n      <td>{'rarity': 'uncommon', 'value': []}</td>\n      <td>{'version': 0.8270000000000001, 'lastMigration...</td>\n      <td>NaN</td>\n      <td>NaN</td>\n    </tr>\n    <tr>\n      <th>4</th>\n      <td>{'value': ''}</td>\n      <td>None</td>\n      <td>{'value': 'spell'}</td>\n      <td>{'focus': False, 'material': False, 'somatic':...</td>\n      <td>{'value': ''}</td>\n      <td>{'value': {'0': {'type': {'categories': [], 'v...</td>\n      <td>{'value': '&lt;p&gt;You shoot a blazing ray of light...</td>\n      <td>{'value': ''}</td>\n      <td>{'value': True}</td>\n      <td>{'value': 3}</td>\n      <td>...</td>\n      <td>{'value': 'Pathfinder Core Rulebook'}</td>\n      <td>{'value': 'attack'}</td>\n      <td>{'value': False}</td>\n      <td>{'value': '1 creature'}</td>\n      <td>{'value': '2'}</td>\n      <td>{'value': ['divine', 'primal']}</td>\n      <td>{'rarity': 'common', 'value': ['attack', 'fire...</td>\n      <td>{'version': 0.8270000000000001, 'lastMigration...</td>\n      <td>{'damage': {'0': '2d6'}, 'interval': 1, 'type'...</td>\n      <td>NaN</td>\n    </tr>\n    <tr>\n      <th>5</th>\n      <td>{'value': ''}</td>\n      <td>{'type': 'burst', 'value': 40}</td>\n      <td>{'value': 'ritual'}</td>\n      <td>{'focus': False, 'material': False, 'somatic':...</td>\n      <td>{'value': 'rare incense and offerings worth a ...</td>\n      <td>{'value': {}}</td>\n      <td>{'value': '&lt;p&gt;You consecrate a site to your de...</td>\n      <td>{'value': '1 year'}</td>\n      <td>{'value': False}</td>\n      <td>{'value': 2}</td>\n      <td>...</td>\n      <td>{'value': 'Pathfinder Secrets of Magic'}</td>\n      <td>{'value': 'utility'}</td>\n      <td>{'value': False}</td>\n      <td>{'value': ''}</td>\n      <td>{'value': '3 days'}</td>\n      <td>{'custom': '', 'value': []}</td>\n      <td>{'rarity': 'uncommon', 'value': []}</td>\n      <td>{'version': 0.8270000000000001, 'lastMigration...</td>\n      <td>NaN</td>\n      <td>NaN</td>\n    </tr>\n    <tr>\n      <th>6</th>\n      <td>{'value': ''}</td>\n      <td>None</td>\n      <td>{'value': 'spell'}</td>\n      <td>{'focus': False, 'material': False, 'somatic':...</td>\n      <td>{'value': ''}</td>\n      <td>{'value': {}}</td>\n      <td>{'value': '&lt;p&gt;The targeted corpse doesn't deca...</td>\n      <td>{'value': 'until the next time you make your d...</td>\n      <td>{'value': False}</td>\n      <td>{'value': 2}</td>\n      <td>...</td>\n      <td>{'value': 'Pathfinder Core Rulebook'}</td>\n      <td>{'value': 'utility'}</td>\n      <td>{'value': False}</td>\n      <td>{'value': '1 corpse'}</td>\n      <td>{'value': '2'}</td>\n      <td>{'value': ['arcane', 'divine', 'occult', 'prim...</td>\n      <td>{'rarity': 'common', 'value': []}</td>\n      <td>{'version': 0.8270000000000001, 'lastMigration...</td>\n      <td>NaN</td>\n      <td>NaN</td>\n    </tr>\n    <tr>\n      <th>7</th>\n      <td>{'value': ''}</td>\n      <td>None</td>\n      <td>{'value': 'spell'}</td>\n      <td>{'focus': False, 'material': True, 'somatic': ...</td>\n      <td>{'value': ''}</td>\n      <td>{'value': {}}</td>\n      <td>{'value': '&lt;p&gt;The target makes no sound, preve...</td>\n      <td>{'value': '1 minute'}</td>\n      <td>{'value': False}</td>\n      <td>{'value': 2}</td>\n      <td>...</td>\n      <td>{'value': 'Pathfinder Core Rulebook'}</td>\n      <td>{'value': 'utility'}</td>\n      <td>{'value': False}</td>\n      <td>{'value': '1 willing creature'}</td>\n      <td>{'value': '2'}</td>\n      <td>{'value': ['divine', 'occult']}</td>\n      <td>{'rarity': 'common', 'value': []}</td>\n      <td>{'version': 0.8270000000000001, 'lastMigration...</td>\n      <td>NaN</td>\n      <td>NaN</td>\n    </tr>\n  </tbody>\n</table>\n<p>5 rows × 31 columns</p>\n</div>"
     },
     "execution_count": 36,
     "metadata": {},
     "output_type": "execute_result"
    }
   ],
   "source": [
    "system.head()"
   ],
   "metadata": {
    "collapsed": false
   }
  },
  {
   "cell_type": "code",
   "execution_count": 37,
   "outputs": [],
   "source": [
    "category = unpack_column(system, column_name=\"category\")"
   ],
   "metadata": {
    "collapsed": false
   }
  },
  {
   "cell_type": "code",
   "execution_count": 38,
   "outputs": [
    {
     "data": {
      "text/plain": "spell     14\nritual     1\nfocus      1\nName: value, dtype: int64"
     },
     "execution_count": 38,
     "metadata": {},
     "output_type": "execute_result"
    }
   ],
   "source": [
    "category.value.value_counts()"
   ],
   "metadata": {
    "collapsed": false
   }
  },
  {
   "cell_type": "markdown",
   "source": [
    "We are currently looking only for *\"spell.spell\"* types"
   ],
   "metadata": {
    "collapsed": false
   }
  },
  {
   "cell_type": "code",
   "execution_count": 39,
   "outputs": [],
   "source": [
    "system = system[category.value == \"spell\"]"
   ],
   "metadata": {
    "collapsed": false
   }
  },
  {
   "cell_type": "code",
   "execution_count": 40,
   "outputs": [
    {
     "name": "stdout",
     "output_type": "stream",
     "text": [
      "<class 'pandas.core.frame.DataFrame'>\n",
      "Int64Index: 14 entries, 3 to 18\n",
      "Data columns (total 31 columns):\n",
      " #   Column              Non-Null Count  Dtype \n",
      "---  ------              --------------  ----- \n",
      " 0   ability             14 non-null     object\n",
      " 1   area                3 non-null      object\n",
      " 2   category            14 non-null     object\n",
      " 3   components          14 non-null     object\n",
      " 4   cost                14 non-null     object\n",
      " 5   damage              14 non-null     object\n",
      " 6   description         14 non-null     object\n",
      " 7   duration            14 non-null     object\n",
      " 8   hasCounteractCheck  14 non-null     object\n",
      " 9   level               14 non-null     object\n",
      " 10  location            14 non-null     object\n",
      " 11  materials           14 non-null     object\n",
      " 12  prepared            14 non-null     object\n",
      " 13  primarycheck        14 non-null     object\n",
      " 14  range               14 non-null     object\n",
      " 15  rules               14 non-null     object\n",
      " 16  save                14 non-null     object\n",
      " 17  school              14 non-null     object\n",
      " 18  secondarycasters    14 non-null     object\n",
      " 19  secondarycheck      14 non-null     object\n",
      " 20  slug                14 non-null     object\n",
      " 21  source              14 non-null     object\n",
      " 22  spellType           14 non-null     object\n",
      " 23  sustained           14 non-null     object\n",
      " 24  target              14 non-null     object\n",
      " 25  time                14 non-null     object\n",
      " 26  traditions          14 non-null     object\n",
      " 27  traits              14 non-null     object\n",
      " 28  schema              14 non-null     object\n",
      " 29  heightening         4 non-null      object\n",
      " 30  overlays            1 non-null      object\n",
      "dtypes: object(31)\n",
      "memory usage: 3.5+ KB\n"
     ]
    }
   ],
   "source": [
    "system.info()"
   ],
   "metadata": {
    "collapsed": false
   }
  },
  {
   "cell_type": "code",
   "execution_count": 48,
   "outputs": [],
   "source": [
    "traits = unpack_column(system, column_name=\"traits\")"
   ],
   "metadata": {
    "collapsed": false
   }
  },
  {
   "cell_type": "code",
   "execution_count": 50,
   "outputs": [
    {
     "name": "stdout",
     "output_type": "stream",
     "text": [
      "<class 'pandas.core.frame.DataFrame'>\n",
      "Int64Index: 14 entries, 3 to 18\n",
      "Data columns (total 2 columns):\n",
      " #   Column  Non-Null Count  Dtype \n",
      "---  ------  --------------  ----- \n",
      " 0   rarity  14 non-null     object\n",
      " 1   value   14 non-null     object\n",
      "dtypes: object(2)\n",
      "memory usage: 336.0+ bytes\n"
     ]
    }
   ],
   "source": [
    "traits.info()"
   ],
   "metadata": {
    "collapsed": false
   }
  },
  {
   "cell_type": "code",
   "execution_count": 156,
   "outputs": [
    {
     "ename": "KeyError",
     "evalue": "('rarity', 'value')",
     "output_type": "error",
     "traceback": [
      "\u001B[1;31m---------------------------------------------------------------------------\u001B[0m",
      "\u001B[1;31mKeyError\u001B[0m                                  Traceback (most recent call last)",
      "File \u001B[1;32m~\\OneDrive\\Dokumenty\\Inzynierka\\ML-for-TTRPG-game-design\\venv\\lib\\site-packages\\pandas\\core\\indexes\\base.py:3629\u001B[0m, in \u001B[0;36mIndex.get_loc\u001B[1;34m(self, key, method, tolerance)\u001B[0m\n\u001B[0;32m   3628\u001B[0m \u001B[38;5;28;01mtry\u001B[39;00m:\n\u001B[1;32m-> 3629\u001B[0m     \u001B[38;5;28;01mreturn\u001B[39;00m \u001B[38;5;28;43mself\u001B[39;49m\u001B[38;5;241;43m.\u001B[39;49m\u001B[43m_engine\u001B[49m\u001B[38;5;241;43m.\u001B[39;49m\u001B[43mget_loc\u001B[49m\u001B[43m(\u001B[49m\u001B[43mcasted_key\u001B[49m\u001B[43m)\u001B[49m\n\u001B[0;32m   3630\u001B[0m \u001B[38;5;28;01mexcept\u001B[39;00m \u001B[38;5;167;01mKeyError\u001B[39;00m \u001B[38;5;28;01mas\u001B[39;00m err:\n",
      "File \u001B[1;32m~\\OneDrive\\Dokumenty\\Inzynierka\\ML-for-TTRPG-game-design\\venv\\lib\\site-packages\\pandas\\_libs\\index.pyx:136\u001B[0m, in \u001B[0;36mpandas._libs.index.IndexEngine.get_loc\u001B[1;34m()\u001B[0m\n",
      "File \u001B[1;32m~\\OneDrive\\Dokumenty\\Inzynierka\\ML-for-TTRPG-game-design\\venv\\lib\\site-packages\\pandas\\_libs\\index.pyx:163\u001B[0m, in \u001B[0;36mpandas._libs.index.IndexEngine.get_loc\u001B[1;34m()\u001B[0m\n",
      "File \u001B[1;32mpandas\\_libs\\hashtable_class_helper.pxi:5198\u001B[0m, in \u001B[0;36mpandas._libs.hashtable.PyObjectHashTable.get_item\u001B[1;34m()\u001B[0m\n",
      "File \u001B[1;32mpandas\\_libs\\hashtable_class_helper.pxi:5206\u001B[0m, in \u001B[0;36mpandas._libs.hashtable.PyObjectHashTable.get_item\u001B[1;34m()\u001B[0m\n",
      "\u001B[1;31mKeyError\u001B[0m: ('rarity', 'value')",
      "\nThe above exception was the direct cause of the following exception:\n",
      "\u001B[1;31mKeyError\u001B[0m                                  Traceback (most recent call last)",
      "Cell \u001B[1;32mIn[156], line 1\u001B[0m\n\u001B[1;32m----> 1\u001B[0m \u001B[43mtraits\u001B[49m\u001B[43m[\u001B[49m\u001B[38;5;124;43m\"\u001B[39;49m\u001B[38;5;124;43mrarity\u001B[39;49m\u001B[38;5;124;43m\"\u001B[39;49m\u001B[43m,\u001B[49m\u001B[43m \u001B[49m\u001B[38;5;124;43m\"\u001B[39;49m\u001B[38;5;124;43mvalue\u001B[39;49m\u001B[38;5;124;43m\"\u001B[39;49m\u001B[43m]\u001B[49m\n",
      "File \u001B[1;32m~\\OneDrive\\Dokumenty\\Inzynierka\\ML-for-TTRPG-game-design\\venv\\lib\\site-packages\\pandas\\core\\frame.py:3505\u001B[0m, in \u001B[0;36mDataFrame.__getitem__\u001B[1;34m(self, key)\u001B[0m\n\u001B[0;32m   3503\u001B[0m \u001B[38;5;28;01mif\u001B[39;00m \u001B[38;5;28mself\u001B[39m\u001B[38;5;241m.\u001B[39mcolumns\u001B[38;5;241m.\u001B[39mnlevels \u001B[38;5;241m>\u001B[39m \u001B[38;5;241m1\u001B[39m:\n\u001B[0;32m   3504\u001B[0m     \u001B[38;5;28;01mreturn\u001B[39;00m \u001B[38;5;28mself\u001B[39m\u001B[38;5;241m.\u001B[39m_getitem_multilevel(key)\n\u001B[1;32m-> 3505\u001B[0m indexer \u001B[38;5;241m=\u001B[39m \u001B[38;5;28;43mself\u001B[39;49m\u001B[38;5;241;43m.\u001B[39;49m\u001B[43mcolumns\u001B[49m\u001B[38;5;241;43m.\u001B[39;49m\u001B[43mget_loc\u001B[49m\u001B[43m(\u001B[49m\u001B[43mkey\u001B[49m\u001B[43m)\u001B[49m\n\u001B[0;32m   3506\u001B[0m \u001B[38;5;28;01mif\u001B[39;00m is_integer(indexer):\n\u001B[0;32m   3507\u001B[0m     indexer \u001B[38;5;241m=\u001B[39m [indexer]\n",
      "File \u001B[1;32m~\\OneDrive\\Dokumenty\\Inzynierka\\ML-for-TTRPG-game-design\\venv\\lib\\site-packages\\pandas\\core\\indexes\\base.py:3631\u001B[0m, in \u001B[0;36mIndex.get_loc\u001B[1;34m(self, key, method, tolerance)\u001B[0m\n\u001B[0;32m   3629\u001B[0m     \u001B[38;5;28;01mreturn\u001B[39;00m \u001B[38;5;28mself\u001B[39m\u001B[38;5;241m.\u001B[39m_engine\u001B[38;5;241m.\u001B[39mget_loc(casted_key)\n\u001B[0;32m   3630\u001B[0m \u001B[38;5;28;01mexcept\u001B[39;00m \u001B[38;5;167;01mKeyError\u001B[39;00m \u001B[38;5;28;01mas\u001B[39;00m err:\n\u001B[1;32m-> 3631\u001B[0m     \u001B[38;5;28;01mraise\u001B[39;00m \u001B[38;5;167;01mKeyError\u001B[39;00m(key) \u001B[38;5;28;01mfrom\u001B[39;00m \u001B[38;5;21;01merr\u001B[39;00m\n\u001B[0;32m   3632\u001B[0m \u001B[38;5;28;01mexcept\u001B[39;00m \u001B[38;5;167;01mTypeError\u001B[39;00m:\n\u001B[0;32m   3633\u001B[0m     \u001B[38;5;66;03m# If we have a listlike key, _check_indexing_error will raise\u001B[39;00m\n\u001B[0;32m   3634\u001B[0m     \u001B[38;5;66;03m#  InvalidIndexError. Otherwise we fall through and re-raise\u001B[39;00m\n\u001B[0;32m   3635\u001B[0m     \u001B[38;5;66;03m#  the TypeError.\u001B[39;00m\n\u001B[0;32m   3636\u001B[0m     \u001B[38;5;28mself\u001B[39m\u001B[38;5;241m.\u001B[39m_check_indexing_error(key)\n",
      "\u001B[1;31mKeyError\u001B[0m: ('rarity', 'value')"
     ]
    }
   ],
   "source": [
    "traits"
   ],
   "metadata": {
    "collapsed": false
   }
  },
  {
   "cell_type": "markdown",
   "source": [
    "We also don't want \"cantrip\" ones"
   ],
   "metadata": {
    "collapsed": false
   }
  },
  {
   "cell_type": "code",
   "execution_count": 71,
   "outputs": [],
   "source": [
    "traits[\"cantrip\"] = traits.value.apply(lambda x: \"cantrip\" in x)"
   ],
   "metadata": {
    "collapsed": false
   }
  },
  {
   "cell_type": "code",
   "execution_count": 72,
   "outputs": [
    {
     "name": "stdout",
     "output_type": "stream",
     "text": [
      "<class 'pandas.core.frame.DataFrame'>\n",
      "Int64Index: 14 entries, 3 to 18\n",
      "Data columns (total 3 columns):\n",
      " #   Column   Non-Null Count  Dtype \n",
      "---  ------   --------------  ----- \n",
      " 0   rarity   14 non-null     object\n",
      " 1   value    14 non-null     object\n",
      " 2   cantrip  14 non-null     bool  \n",
      "dtypes: bool(1), object(2)\n",
      "memory usage: 906.0+ bytes\n"
     ]
    }
   ],
   "source": [
    "traits.info()"
   ],
   "metadata": {
    "collapsed": false
   }
  },
  {
   "cell_type": "code",
   "execution_count": 73,
   "outputs": [
    {
     "data": {
      "text/plain": "False    9\nTrue     5\nName: cantrip, dtype: int64"
     },
     "execution_count": 73,
     "metadata": {},
     "output_type": "execute_result"
    }
   ],
   "source": [
    "traits.cantrip.value_counts()"
   ],
   "metadata": {
    "collapsed": false
   }
  },
  {
   "cell_type": "code",
   "execution_count": 81,
   "outputs": [],
   "source": [
    "spells = spells.loc[traits[~traits.cantrip].index]"
   ],
   "metadata": {
    "collapsed": false
   }
  },
  {
   "cell_type": "code",
   "execution_count": 82,
   "outputs": [
    {
     "name": "stdout",
     "output_type": "stream",
     "text": [
      "<class 'pandas.core.frame.DataFrame'>\n",
      "Int64Index: 9 entries, 3 to 18\n",
      "Data columns (total 7 columns):\n",
      " #   Column  Non-Null Count  Dtype \n",
      "---  ------  --------------  ----- \n",
      " 0   _id     9 non-null      object\n",
      " 1   img     9 non-null      object\n",
      " 2   name    9 non-null      object\n",
      " 3   sort    9 non-null      int64 \n",
      " 4   system  9 non-null      object\n",
      " 5   type    9 non-null      object\n",
      " 6   flags   9 non-null      object\n",
      "dtypes: int64(1), object(6)\n",
      "memory usage: 576.0+ bytes\n"
     ]
    }
   ],
   "source": [
    "spells.info()"
   ],
   "metadata": {
    "collapsed": false
   }
  },
  {
   "cell_type": "code",
   "execution_count": 83,
   "outputs": [
    {
     "data": {
      "text/plain": "                _id                                                img  \\\n3  SqMg4BOmWD5UWmLB  systems/pf2e/icons/spells/circle-of-protection...   \n4  v37O7A0c2qecSGdF       systems/pf2e/icons/spells/searing-light.webp   \n6  5xHSY8taoP1WqDJN       systems/pf2e/icons/spells/gentle-repose.webp   \n7  RQhG7ENdHZmQc76q             systems/pf2e/icons/spells/silence.webp   \n8  a17Ch5J0y1g5UOOQ    systems/pf2e/icons/spells/spiritual-weapon.webp   \n\n                   name    sort  \\\n3  Circle of Protection  400000   \n4         Searing Light  500000   \n6         Gentle Repose  700000   \n7               Silence  800000   \n8      Spiritual Weapon  900000   \n\n                                              system   type  \\\n3  {'ability': {'value': ''}, 'area': {'details':...  spell   \n4  {'ability': {'value': ''}, 'area': None, 'cate...  spell   \n6  {'ability': {'value': ''}, 'area': None, 'cate...  spell   \n7  {'ability': {'value': ''}, 'area': None, 'cate...  spell   \n8  {'ability': {'value': ''}, 'area': None, 'cate...  spell   \n\n                                               flags  \n3  {'core': {'sourceId': 'Compendium.pf2e.spells-...  \n4  {'core': {'sourceId': 'Compendium.pf2e.spells-...  \n6  {'core': {'sourceId': 'Compendium.pf2e.spells-...  \n7  {'core': {'sourceId': 'Compendium.pf2e.spells-...  \n8  {'core': {'sourceId': 'Compendium.pf2e.spells-...  ",
      "text/html": "<div>\n<style scoped>\n    .dataframe tbody tr th:only-of-type {\n        vertical-align: middle;\n    }\n\n    .dataframe tbody tr th {\n        vertical-align: top;\n    }\n\n    .dataframe thead th {\n        text-align: right;\n    }\n</style>\n<table border=\"1\" class=\"dataframe\">\n  <thead>\n    <tr style=\"text-align: right;\">\n      <th></th>\n      <th>_id</th>\n      <th>img</th>\n      <th>name</th>\n      <th>sort</th>\n      <th>system</th>\n      <th>type</th>\n      <th>flags</th>\n    </tr>\n  </thead>\n  <tbody>\n    <tr>\n      <th>3</th>\n      <td>SqMg4BOmWD5UWmLB</td>\n      <td>systems/pf2e/icons/spells/circle-of-protection...</td>\n      <td>Circle of Protection</td>\n      <td>400000</td>\n      <td>{'ability': {'value': ''}, 'area': {'details':...</td>\n      <td>spell</td>\n      <td>{'core': {'sourceId': 'Compendium.pf2e.spells-...</td>\n    </tr>\n    <tr>\n      <th>4</th>\n      <td>v37O7A0c2qecSGdF</td>\n      <td>systems/pf2e/icons/spells/searing-light.webp</td>\n      <td>Searing Light</td>\n      <td>500000</td>\n      <td>{'ability': {'value': ''}, 'area': None, 'cate...</td>\n      <td>spell</td>\n      <td>{'core': {'sourceId': 'Compendium.pf2e.spells-...</td>\n    </tr>\n    <tr>\n      <th>6</th>\n      <td>5xHSY8taoP1WqDJN</td>\n      <td>systems/pf2e/icons/spells/gentle-repose.webp</td>\n      <td>Gentle Repose</td>\n      <td>700000</td>\n      <td>{'ability': {'value': ''}, 'area': None, 'cate...</td>\n      <td>spell</td>\n      <td>{'core': {'sourceId': 'Compendium.pf2e.spells-...</td>\n    </tr>\n    <tr>\n      <th>7</th>\n      <td>RQhG7ENdHZmQc76q</td>\n      <td>systems/pf2e/icons/spells/silence.webp</td>\n      <td>Silence</td>\n      <td>800000</td>\n      <td>{'ability': {'value': ''}, 'area': None, 'cate...</td>\n      <td>spell</td>\n      <td>{'core': {'sourceId': 'Compendium.pf2e.spells-...</td>\n    </tr>\n    <tr>\n      <th>8</th>\n      <td>a17Ch5J0y1g5UOOQ</td>\n      <td>systems/pf2e/icons/spells/spiritual-weapon.webp</td>\n      <td>Spiritual Weapon</td>\n      <td>900000</td>\n      <td>{'ability': {'value': ''}, 'area': None, 'cate...</td>\n      <td>spell</td>\n      <td>{'core': {'sourceId': 'Compendium.pf2e.spells-...</td>\n    </tr>\n  </tbody>\n</table>\n</div>"
     },
     "execution_count": 83,
     "metadata": {},
     "output_type": "execute_result"
    }
   ],
   "source": [
    "spells.head()"
   ],
   "metadata": {
    "collapsed": false
   }
  },
  {
   "cell_type": "markdown",
   "source": [
    "Now there are only spells that we want to use"
   ],
   "metadata": {
    "collapsed": false
   }
  },
  {
   "cell_type": "code",
   "execution_count": 84,
   "outputs": [],
   "source": [
    "system = system.loc[spells.index]"
   ],
   "metadata": {
    "collapsed": false
   }
  },
  {
   "cell_type": "code",
   "execution_count": 85,
   "outputs": [
    {
     "name": "stdout",
     "output_type": "stream",
     "text": [
      "<class 'pandas.core.frame.DataFrame'>\n",
      "Int64Index: 9 entries, 3 to 18\n",
      "Data columns (total 31 columns):\n",
      " #   Column              Non-Null Count  Dtype \n",
      "---  ------              --------------  ----- \n",
      " 0   ability             9 non-null      object\n",
      " 1   area                2 non-null      object\n",
      " 2   category            9 non-null      object\n",
      " 3   components          9 non-null      object\n",
      " 4   cost                9 non-null      object\n",
      " 5   damage              9 non-null      object\n",
      " 6   description         9 non-null      object\n",
      " 7   duration            9 non-null      object\n",
      " 8   hasCounteractCheck  9 non-null      object\n",
      " 9   level               9 non-null      object\n",
      " 10  location            9 non-null      object\n",
      " 11  materials           9 non-null      object\n",
      " 12  prepared            9 non-null      object\n",
      " 13  primarycheck        9 non-null      object\n",
      " 14  range               9 non-null      object\n",
      " 15  rules               9 non-null      object\n",
      " 16  save                9 non-null      object\n",
      " 17  school              9 non-null      object\n",
      " 18  secondarycasters    9 non-null      object\n",
      " 19  secondarycheck      9 non-null      object\n",
      " 20  slug                9 non-null      object\n",
      " 21  source              9 non-null      object\n",
      " 22  spellType           9 non-null      object\n",
      " 23  sustained           9 non-null      object\n",
      " 24  target              9 non-null      object\n",
      " 25  time                9 non-null      object\n",
      " 26  traditions          9 non-null      object\n",
      " 27  traits              9 non-null      object\n",
      " 28  schema              9 non-null      object\n",
      " 29  heightening         3 non-null      object\n",
      " 30  overlays            1 non-null      object\n",
      "dtypes: object(31)\n",
      "memory usage: 2.2+ KB\n"
     ]
    }
   ],
   "source": [
    "system.info()"
   ],
   "metadata": {
    "collapsed": false
   }
  },
  {
   "cell_type": "markdown",
   "source": [
    "Let's look at all unique levels"
   ],
   "metadata": {
    "collapsed": false
   }
  },
  {
   "cell_type": "code",
   "execution_count": 86,
   "outputs": [
    {
     "data": {
      "text/plain": "{'value': 1}    4\n{'value': 2}    3\n{'value': 3}    2\nName: level, dtype: int64"
     },
     "execution_count": 86,
     "metadata": {},
     "output_type": "execute_result"
    }
   ],
   "source": [
    "system.level.value_counts()"
   ],
   "metadata": {
    "collapsed": false
   }
  },
  {
   "cell_type": "markdown",
   "source": [
    "We have 3 types here - **one spell can be counted multiple times**, e.g. heal (x3)"
   ],
   "metadata": {
    "collapsed": false
   }
  },
  {
   "cell_type": "code",
   "execution_count": 89,
   "outputs": [],
   "source": [
    "system.level = system.level.apply(lambda x: x.get(\"value\"))"
   ],
   "metadata": {
    "collapsed": false
   }
  },
  {
   "cell_type": "code",
   "execution_count": 91,
   "outputs": [],
   "source": [
    "lvl_1 = system[system.level == 1]\n",
    "lvl_2 = system[system.level == 2]\n",
    "lvl_3 = system[system.level == 3]"
   ],
   "metadata": {
    "collapsed": false
   }
  },
  {
   "cell_type": "code",
   "execution_count": 93,
   "outputs": [
    {
     "data": {
      "text/plain": "                 _id                                                img  \\\n12  IDxslHz9aeYUdpEE  systems/pf2e/icons/spells/disrupting-weapons.webp   \n13  jG2fMewuFYI9lKny                systems/pf2e/icons/spells/heal.webp   \n15  iMun0SXqamUcAXjS            systems/pf2e/icons/spells/mindlink.webp   \n18  a6D8SoGjy48REdqD         systems/pf2e/icons/spells/spirit-link.webp   \n\n                  name     sort  \\\n12  Disrupting Weapons  1300000   \n13                Heal  1400000   \n15            Mindlink  1600000   \n18         Spirit Link  1900000   \n\n                                               system   type  \\\n12  {'ability': {'value': ''}, 'area': None, 'cate...  spell   \n13  {'ability': {'value': ''}, 'area': {'details':...  spell   \n15  {'ability': {'value': ''}, 'area': None, 'cate...  spell   \n18  {'ability': {'value': ''}, 'area': None, 'cate...  spell   \n\n                                                flags  \n12  {'core': {'sourceId': 'Compendium.pf2e.spells-...  \n13  {'core': {'sourceId': 'Compendium.pf2e.spells-...  \n15  {'core': {'sourceId': 'Compendium.pf2e.spells-...  \n18  {'core': {'sourceId': 'Compendium.pf2e.spells-...  ",
      "text/html": "<div>\n<style scoped>\n    .dataframe tbody tr th:only-of-type {\n        vertical-align: middle;\n    }\n\n    .dataframe tbody tr th {\n        vertical-align: top;\n    }\n\n    .dataframe thead th {\n        text-align: right;\n    }\n</style>\n<table border=\"1\" class=\"dataframe\">\n  <thead>\n    <tr style=\"text-align: right;\">\n      <th></th>\n      <th>_id</th>\n      <th>img</th>\n      <th>name</th>\n      <th>sort</th>\n      <th>system</th>\n      <th>type</th>\n      <th>flags</th>\n    </tr>\n  </thead>\n  <tbody>\n    <tr>\n      <th>12</th>\n      <td>IDxslHz9aeYUdpEE</td>\n      <td>systems/pf2e/icons/spells/disrupting-weapons.webp</td>\n      <td>Disrupting Weapons</td>\n      <td>1300000</td>\n      <td>{'ability': {'value': ''}, 'area': None, 'cate...</td>\n      <td>spell</td>\n      <td>{'core': {'sourceId': 'Compendium.pf2e.spells-...</td>\n    </tr>\n    <tr>\n      <th>13</th>\n      <td>jG2fMewuFYI9lKny</td>\n      <td>systems/pf2e/icons/spells/heal.webp</td>\n      <td>Heal</td>\n      <td>1400000</td>\n      <td>{'ability': {'value': ''}, 'area': {'details':...</td>\n      <td>spell</td>\n      <td>{'core': {'sourceId': 'Compendium.pf2e.spells-...</td>\n    </tr>\n    <tr>\n      <th>15</th>\n      <td>iMun0SXqamUcAXjS</td>\n      <td>systems/pf2e/icons/spells/mindlink.webp</td>\n      <td>Mindlink</td>\n      <td>1600000</td>\n      <td>{'ability': {'value': ''}, 'area': None, 'cate...</td>\n      <td>spell</td>\n      <td>{'core': {'sourceId': 'Compendium.pf2e.spells-...</td>\n    </tr>\n    <tr>\n      <th>18</th>\n      <td>a6D8SoGjy48REdqD</td>\n      <td>systems/pf2e/icons/spells/spirit-link.webp</td>\n      <td>Spirit Link</td>\n      <td>1900000</td>\n      <td>{'ability': {'value': ''}, 'area': None, 'cate...</td>\n      <td>spell</td>\n      <td>{'core': {'sourceId': 'Compendium.pf2e.spells-...</td>\n    </tr>\n  </tbody>\n</table>\n</div>"
     },
     "execution_count": 93,
     "metadata": {},
     "output_type": "execute_result"
    }
   ],
   "source": [
    "items.loc[lvl_1.index]"
   ],
   "metadata": {
    "collapsed": false
   }
  },
  {
   "cell_type": "code",
   "execution_count": 142,
   "outputs": [],
   "source": [
    "import numpy as np\n",
    "\n",
    "\n",
    "heal = system.loc[items[items.name == \"Heal\"].index]"
   ],
   "metadata": {
    "collapsed": false
   }
  },
  {
   "cell_type": "markdown",
   "source": [],
   "metadata": {
    "collapsed": false
   }
  },
  {
   "cell_type": "code",
   "execution_count": 143,
   "outputs": [
    {
     "name": "stdout",
     "output_type": "stream",
     "text": [
      "<class 'pandas.core.frame.DataFrame'>\n",
      "Int64Index: 1 entries, 13 to 13\n",
      "Data columns (total 31 columns):\n",
      " #   Column              Non-Null Count  Dtype \n",
      "---  ------              --------------  ----- \n",
      " 0   ability             1 non-null      object\n",
      " 1   area                1 non-null      object\n",
      " 2   category            1 non-null      object\n",
      " 3   components          1 non-null      object\n",
      " 4   cost                1 non-null      object\n",
      " 5   damage              1 non-null      object\n",
      " 6   description         1 non-null      object\n",
      " 7   duration            1 non-null      object\n",
      " 8   hasCounteractCheck  1 non-null      object\n",
      " 9   level               1 non-null      int64 \n",
      " 10  location            1 non-null      object\n",
      " 11  materials           1 non-null      object\n",
      " 12  prepared            1 non-null      object\n",
      " 13  primarycheck        1 non-null      object\n",
      " 14  range               1 non-null      object\n",
      " 15  rules               1 non-null      object\n",
      " 16  save                1 non-null      object\n",
      " 17  school              1 non-null      object\n",
      " 18  secondarycasters    1 non-null      object\n",
      " 19  secondarycheck      1 non-null      object\n",
      " 20  slug                1 non-null      object\n",
      " 21  source              1 non-null      object\n",
      " 22  spellType           1 non-null      object\n",
      " 23  sustained           1 non-null      object\n",
      " 24  target              1 non-null      object\n",
      " 25  time                1 non-null      object\n",
      " 26  traditions          1 non-null      object\n",
      " 27  traits              1 non-null      object\n",
      " 28  schema              1 non-null      object\n",
      " 29  heightening         1 non-null      object\n",
      " 30  overlays            1 non-null      object\n",
      "dtypes: int64(1), object(30)\n",
      "memory usage: 256.0+ bytes\n"
     ]
    }
   ],
   "source": [
    "heal.info()"
   ],
   "metadata": {
    "collapsed": false
   }
  },
  {
   "cell_type": "code",
   "execution_count": 120,
   "outputs": [],
   "source": [
    "description = unpack_column(heal, column_name=\"description\")"
   ],
   "metadata": {
    "collapsed": false
   }
  },
  {
   "cell_type": "code",
   "execution_count": 127,
   "outputs": [],
   "source": [
    "description = description.value.iloc[0]"
   ],
   "metadata": {
    "collapsed": false
   }
  },
  {
   "cell_type": "code",
   "execution_count": 128,
   "outputs": [
    {
     "data": {
      "text/plain": "True"
     },
     "execution_count": 128,
     "metadata": {},
     "output_type": "execute_result"
    }
   ],
   "source": [
    "\"3\" in description"
   ],
   "metadata": {
    "collapsed": false
   }
  },
  {
   "cell_type": "code",
   "execution_count": 132,
   "outputs": [
    {
     "name": "stdout",
     "output_type": "stream",
     "text": [
      "ong> The spell has a range of 30 f\n",
      "/p>\n",
      "<p><span class=\"pf2-icon\">3</s\n",
      "disperse positive energy in a 30-f\n"
     ]
    }
   ],
   "source": [
    "for i in range(len(description)):\n",
    "    if description[i] == \"3\":\n",
    "        print(description[i - 30 : i + 4])"
   ],
   "metadata": {
    "collapsed": false
   }
  },
  {
   "cell_type": "code",
   "execution_count": 149,
   "outputs": [
    {
     "data": {
      "text/plain": "          ability                                               area  \\\n13  {'value': ''}  {'details': 'varies', 'type': 'emanation', 'va...   \n\n              category                                         components  \\\n13  {'value': 'spell'}  {'focus': False, 'material': False, 'somatic':...   \n\n             cost                                             damage  \\\n13  {'value': ''}  {'value': {'0': {'applyMod': False, 'type': {'...   \n\n                                          description       duration  \\\n13  {'value': '<p>You channel positive energy to h...  {'value': ''}   \n\n   hasCounteractCheck  level  ...                                 source  \\\n13   {'value': False}      1  ...  {'value': 'Pathfinder Core Rulebook'}   \n\n            spellType         sustained  \\\n13  {'value': 'heal'}  {'value': False}   \n\n                                               target                 time  \\\n13  {'value': '1 willing living creature or 1 unde...  {'value': '1 to 3'}   \n\n                                       traditions  \\\n13  {'custom': '', 'value': ['divine', 'primal']}   \n\n                                               traits  \\\n13  {'rarity': 'common', 'value': ['healing', 'pos...   \n\n                                               schema  \\\n13  {'version': 0.8270000000000001, 'lastMigration...   \n\n                                          heightening  \\\n13  {'damage': {'0': '1d8'}, 'interval': 1, 'type'...   \n\n                                             overlays  \n13  {'37gy7l19tik74o4s': {'_id': '37gy7l19tik74o4s...  \n\n[1 rows x 31 columns]",
      "text/html": "<div>\n<style scoped>\n    .dataframe tbody tr th:only-of-type {\n        vertical-align: middle;\n    }\n\n    .dataframe tbody tr th {\n        vertical-align: top;\n    }\n\n    .dataframe thead th {\n        text-align: right;\n    }\n</style>\n<table border=\"1\" class=\"dataframe\">\n  <thead>\n    <tr style=\"text-align: right;\">\n      <th></th>\n      <th>ability</th>\n      <th>area</th>\n      <th>category</th>\n      <th>components</th>\n      <th>cost</th>\n      <th>damage</th>\n      <th>description</th>\n      <th>duration</th>\n      <th>hasCounteractCheck</th>\n      <th>level</th>\n      <th>...</th>\n      <th>source</th>\n      <th>spellType</th>\n      <th>sustained</th>\n      <th>target</th>\n      <th>time</th>\n      <th>traditions</th>\n      <th>traits</th>\n      <th>schema</th>\n      <th>heightening</th>\n      <th>overlays</th>\n    </tr>\n  </thead>\n  <tbody>\n    <tr>\n      <th>13</th>\n      <td>{'value': ''}</td>\n      <td>{'details': 'varies', 'type': 'emanation', 'va...</td>\n      <td>{'value': 'spell'}</td>\n      <td>{'focus': False, 'material': False, 'somatic':...</td>\n      <td>{'value': ''}</td>\n      <td>{'value': {'0': {'applyMod': False, 'type': {'...</td>\n      <td>{'value': '&lt;p&gt;You channel positive energy to h...</td>\n      <td>{'value': ''}</td>\n      <td>{'value': False}</td>\n      <td>1</td>\n      <td>...</td>\n      <td>{'value': 'Pathfinder Core Rulebook'}</td>\n      <td>{'value': 'heal'}</td>\n      <td>{'value': False}</td>\n      <td>{'value': '1 willing living creature or 1 unde...</td>\n      <td>{'value': '1 to 3'}</td>\n      <td>{'custom': '', 'value': ['divine', 'primal']}</td>\n      <td>{'rarity': 'common', 'value': ['healing', 'pos...</td>\n      <td>{'version': 0.8270000000000001, 'lastMigration...</td>\n      <td>{'damage': {'0': '1d8'}, 'interval': 1, 'type'...</td>\n      <td>{'37gy7l19tik74o4s': {'_id': '37gy7l19tik74o4s...</td>\n    </tr>\n  </tbody>\n</table>\n<p>1 rows × 31 columns</p>\n</div>"
     },
     "execution_count": 149,
     "metadata": {},
     "output_type": "execute_result"
    }
   ],
   "source": [
    "heal"
   ],
   "metadata": {
    "collapsed": false
   }
  },
  {
   "cell_type": "markdown",
   "source": [
    "So far I have no idea where (x3) part can be and where I can find Heightened"
   ],
   "metadata": {
    "collapsed": false
   }
  },
  {
   "cell_type": "markdown",
   "source": [
    "## get info"
   ],
   "metadata": {
    "collapsed": false
   }
  },
  {
   "cell_type": "code",
   "execution_count": 199,
   "outputs": [],
   "source": [
    "from training.creating_dataset import is_path_correct\n",
    "import json\n",
    "\n",
    "\n",
    "data = []\n",
    "\n",
    "paths_to_books = [book]\n",
    "\n",
    "for path in paths_to_books:\n",
    "    is_path_correct(path)\n",
    "    with open(path) as file:\n",
    "        # loading json strings from files\n",
    "        data += [json.loads(line) for line in file]\n",
    "        file.close()\n",
    "\n",
    "bestiary = pd.json_normalize(data)\n",
    "# only npc monsters\n",
    "bestiary = bestiary[bestiary[\"type\"] == \"npc\"]"
   ],
   "metadata": {
    "collapsed": false
   }
  },
  {
   "cell_type": "code",
   "execution_count": 169,
   "outputs": [
    {
     "name": "stdout",
     "output_type": "stream",
     "text": [
      "<class 'pandas.core.frame.DataFrame'>\n",
      "Int64Index: 99 entries, 0 to 98\n",
      "Data columns (total 53 columns):\n",
      " #   Column                                Non-Null Count  Dtype  \n",
      "---  ------                                --------------  -----  \n",
      " 0   _id                                   99 non-null     object \n",
      " 1   img                                   99 non-null     object \n",
      " 2   items                                 99 non-null     object \n",
      " 3   name                                  99 non-null     object \n",
      " 4   type                                  99 non-null     object \n",
      " 5   system.abilities.cha.mod              99 non-null     int64  \n",
      " 6   system.abilities.con.mod              99 non-null     int64  \n",
      " 7   system.abilities.dex.mod              99 non-null     int64  \n",
      " 8   system.abilities.int.mod              99 non-null     int64  \n",
      " 9   system.abilities.str.mod              99 non-null     int64  \n",
      " 10  system.abilities.wis.mod              99 non-null     int64  \n",
      " 11  system.attributes.ac.details          99 non-null     object \n",
      " 12  system.attributes.ac.value            99 non-null     int64  \n",
      " 13  system.attributes.allSaves.value      99 non-null     object \n",
      " 14  system.attributes.hp.details          99 non-null     object \n",
      " 15  system.attributes.hp.max              99 non-null     int64  \n",
      " 16  system.attributes.hp.temp             99 non-null     int64  \n",
      " 17  system.attributes.hp.value            99 non-null     int64  \n",
      " 18  system.attributes.initiative.ability  99 non-null     object \n",
      " 19  system.attributes.perception.value    99 non-null     int64  \n",
      " 20  system.attributes.speed.otherSpeeds   99 non-null     object \n",
      " 21  system.attributes.speed.value         99 non-null     int64  \n",
      " 22  system.details.alignment.value        99 non-null     object \n",
      " 23  system.details.blurb                  99 non-null     object \n",
      " 24  system.details.creatureType           99 non-null     object \n",
      " 25  system.details.level.value            99 non-null     int64  \n",
      " 26  system.details.privateNotes           99 non-null     object \n",
      " 27  system.details.publicNotes            99 non-null     object \n",
      " 28  system.details.source.value           99 non-null     object \n",
      " 29  system.resources.focus.max            27 non-null     object \n",
      " 30  system.resources.focus.value          27 non-null     float64\n",
      " 31  system.saves.fortitude.saveDetail     99 non-null     object \n",
      " 32  system.saves.fortitude.value          99 non-null     int64  \n",
      " 33  system.saves.reflex.saveDetail        99 non-null     object \n",
      " 34  system.saves.reflex.value             99 non-null     int64  \n",
      " 35  system.saves.will.saveDetail          99 non-null     object \n",
      " 36  system.saves.will.value               99 non-null     int64  \n",
      " 37  system.traits.languages.custom        99 non-null     object \n",
      " 38  system.traits.languages.selected      99 non-null     object \n",
      " 39  system.traits.languages.value         99 non-null     object \n",
      " 40  system.traits.rarity                  99 non-null     object \n",
      " 41  system.traits.senses.value            99 non-null     object \n",
      " 42  system.traits.size.value              99 non-null     object \n",
      " 43  system.traits.value                   99 non-null     object \n",
      " 44  system.schema.version                 99 non-null     float64\n",
      " 45  system.schema.lastMigration           0 non-null      object \n",
      " 46  flags.core.sourceId                   99 non-null     object \n",
      " 47  system.attributes.resistances         7 non-null      object \n",
      " 48  system.attributes.speed.details       3 non-null      object \n",
      " 49  prototypeToken.name                   3 non-null      object \n",
      " 50  system.attributes.immunities          1 non-null      object \n",
      " 51  system.traits.attitude.value          1 non-null      object \n",
      " 52  lvl                                   99 non-null     int64  \n",
      "dtypes: float64(2), int64(17), object(34)\n",
      "memory usage: 41.8+ KB\n"
     ]
    }
   ],
   "source": [
    "bestiary.info()"
   ],
   "metadata": {
    "collapsed": false
   }
  },
  {
   "cell_type": "code",
   "execution_count": 154,
   "outputs": [
    {
     "data": {
      "text/plain": "                _id                                       img  \\\n0  0Ex7rBuiJVu2NwCz  systems/pf2e/icons/default-icons/npc.svg   \n1  0Kb4z4h8KVqfrIju  systems/pf2e/icons/default-icons/npc.svg   \n2  1NZ1ZAgcUlWKmQSs  systems/pf2e/icons/default-icons/npc.svg   \n3  1U1URD7IyddoD5zE  systems/pf2e/icons/default-icons/npc.svg   \n4  1iz7O6DLDJqStojd  systems/pf2e/icons/default-icons/npc.svg   \n\n                                               items          name type  \\\n0  [{'_id': 'X8NQcsCgEiQHiZj6', 'img': 'systems/p...  Demonologist  npc   \n1  [{'_id': 'S5Yokvt6N9kVghRk', 'flags': {'core':...      Assassin  npc   \n2  [{'_id': 'NxjUE1b3gXulaYXI', 'flags': {'core':...         Bosun  npc   \n3  [{'_id': '9JDZtzH3WW2tJtUE', 'flags': {'core':...         Fence  npc   \n4  [{'_id': 'zjDw8ZydUFsB7sEl', 'flags': {'core':...       Servant  npc   \n\n   system.abilities.cha.mod  system.abilities.con.mod  \\\n0                         0                         2   \n1                         0                         2   \n2                         2                         1   \n3                         4                         0   \n4                         2                         1   \n\n   system.abilities.dex.mod  system.abilities.int.mod  \\\n0                         1                         4   \n1                         5                         2   \n2                         4                         0   \n3                         3                         4   \n4                         3                         0   \n\n   system.abilities.str.mod  ...  system.traits.size.value  \\\n0                         3  ...                       med   \n1                         3  ...                       med   \n2                         2  ...                       med   \n3                         0  ...                       med   \n4                         1  ...                       med   \n\n  system.traits.value  system.schema.version system.schema.lastMigration  \\\n0   [human, humanoid]                  0.827                        None   \n1   [human, humanoid]                  0.827                        None   \n2   [human, humanoid]                  0.827                        None   \n3   [human, humanoid]                  0.827                        None   \n4   [human, humanoid]                  0.827                        None   \n\n                            flags.core.sourceId  \\\n0  Compendium.pf2e.npc-gallery.0Ex7rBuiJVu2NwCz   \n1  Compendium.pf2e.npc-gallery.0Kb4z4h8KVqfrIju   \n2  Compendium.pf2e.npc-gallery.1NZ1ZAgcUlWKmQSs   \n3  Compendium.pf2e.npc-gallery.1U1URD7IyddoD5zE   \n4  Compendium.pf2e.npc-gallery.1iz7O6DLDJqStojd   \n\n   system.attributes.resistances  system.attributes.speed.details  \\\n0                            NaN                              NaN   \n1                            NaN                              NaN   \n2                            NaN                              NaN   \n3                            NaN                              NaN   \n4                            NaN                              NaN   \n\n   prototypeToken.name system.attributes.immunities  \\\n0                  NaN                          NaN   \n1                  NaN                          NaN   \n2                  NaN                          NaN   \n3                  NaN                          NaN   \n4                  NaN                          NaN   \n\n   system.traits.attitude.value  \n0                           NaN  \n1                           NaN  \n2                           NaN  \n3                           NaN  \n4                           NaN  \n\n[5 rows x 52 columns]",
      "text/html": "<div>\n<style scoped>\n    .dataframe tbody tr th:only-of-type {\n        vertical-align: middle;\n    }\n\n    .dataframe tbody tr th {\n        vertical-align: top;\n    }\n\n    .dataframe thead th {\n        text-align: right;\n    }\n</style>\n<table border=\"1\" class=\"dataframe\">\n  <thead>\n    <tr style=\"text-align: right;\">\n      <th></th>\n      <th>_id</th>\n      <th>img</th>\n      <th>items</th>\n      <th>name</th>\n      <th>type</th>\n      <th>system.abilities.cha.mod</th>\n      <th>system.abilities.con.mod</th>\n      <th>system.abilities.dex.mod</th>\n      <th>system.abilities.int.mod</th>\n      <th>system.abilities.str.mod</th>\n      <th>...</th>\n      <th>system.traits.size.value</th>\n      <th>system.traits.value</th>\n      <th>system.schema.version</th>\n      <th>system.schema.lastMigration</th>\n      <th>flags.core.sourceId</th>\n      <th>system.attributes.resistances</th>\n      <th>system.attributes.speed.details</th>\n      <th>prototypeToken.name</th>\n      <th>system.attributes.immunities</th>\n      <th>system.traits.attitude.value</th>\n    </tr>\n  </thead>\n  <tbody>\n    <tr>\n      <th>0</th>\n      <td>0Ex7rBuiJVu2NwCz</td>\n      <td>systems/pf2e/icons/default-icons/npc.svg</td>\n      <td>[{'_id': 'X8NQcsCgEiQHiZj6', 'img': 'systems/p...</td>\n      <td>Demonologist</td>\n      <td>npc</td>\n      <td>0</td>\n      <td>2</td>\n      <td>1</td>\n      <td>4</td>\n      <td>3</td>\n      <td>...</td>\n      <td>med</td>\n      <td>[human, humanoid]</td>\n      <td>0.827</td>\n      <td>None</td>\n      <td>Compendium.pf2e.npc-gallery.0Ex7rBuiJVu2NwCz</td>\n      <td>NaN</td>\n      <td>NaN</td>\n      <td>NaN</td>\n      <td>NaN</td>\n      <td>NaN</td>\n    </tr>\n    <tr>\n      <th>1</th>\n      <td>0Kb4z4h8KVqfrIju</td>\n      <td>systems/pf2e/icons/default-icons/npc.svg</td>\n      <td>[{'_id': 'S5Yokvt6N9kVghRk', 'flags': {'core':...</td>\n      <td>Assassin</td>\n      <td>npc</td>\n      <td>0</td>\n      <td>2</td>\n      <td>5</td>\n      <td>2</td>\n      <td>3</td>\n      <td>...</td>\n      <td>med</td>\n      <td>[human, humanoid]</td>\n      <td>0.827</td>\n      <td>None</td>\n      <td>Compendium.pf2e.npc-gallery.0Kb4z4h8KVqfrIju</td>\n      <td>NaN</td>\n      <td>NaN</td>\n      <td>NaN</td>\n      <td>NaN</td>\n      <td>NaN</td>\n    </tr>\n    <tr>\n      <th>2</th>\n      <td>1NZ1ZAgcUlWKmQSs</td>\n      <td>systems/pf2e/icons/default-icons/npc.svg</td>\n      <td>[{'_id': 'NxjUE1b3gXulaYXI', 'flags': {'core':...</td>\n      <td>Bosun</td>\n      <td>npc</td>\n      <td>2</td>\n      <td>1</td>\n      <td>4</td>\n      <td>0</td>\n      <td>2</td>\n      <td>...</td>\n      <td>med</td>\n      <td>[human, humanoid]</td>\n      <td>0.827</td>\n      <td>None</td>\n      <td>Compendium.pf2e.npc-gallery.1NZ1ZAgcUlWKmQSs</td>\n      <td>NaN</td>\n      <td>NaN</td>\n      <td>NaN</td>\n      <td>NaN</td>\n      <td>NaN</td>\n    </tr>\n    <tr>\n      <th>3</th>\n      <td>1U1URD7IyddoD5zE</td>\n      <td>systems/pf2e/icons/default-icons/npc.svg</td>\n      <td>[{'_id': '9JDZtzH3WW2tJtUE', 'flags': {'core':...</td>\n      <td>Fence</td>\n      <td>npc</td>\n      <td>4</td>\n      <td>0</td>\n      <td>3</td>\n      <td>4</td>\n      <td>0</td>\n      <td>...</td>\n      <td>med</td>\n      <td>[human, humanoid]</td>\n      <td>0.827</td>\n      <td>None</td>\n      <td>Compendium.pf2e.npc-gallery.1U1URD7IyddoD5zE</td>\n      <td>NaN</td>\n      <td>NaN</td>\n      <td>NaN</td>\n      <td>NaN</td>\n      <td>NaN</td>\n    </tr>\n    <tr>\n      <th>4</th>\n      <td>1iz7O6DLDJqStojd</td>\n      <td>systems/pf2e/icons/default-icons/npc.svg</td>\n      <td>[{'_id': 'zjDw8ZydUFsB7sEl', 'flags': {'core':...</td>\n      <td>Servant</td>\n      <td>npc</td>\n      <td>2</td>\n      <td>1</td>\n      <td>3</td>\n      <td>0</td>\n      <td>1</td>\n      <td>...</td>\n      <td>med</td>\n      <td>[human, humanoid]</td>\n      <td>0.827</td>\n      <td>None</td>\n      <td>Compendium.pf2e.npc-gallery.1iz7O6DLDJqStojd</td>\n      <td>NaN</td>\n      <td>NaN</td>\n      <td>NaN</td>\n      <td>NaN</td>\n      <td>NaN</td>\n    </tr>\n  </tbody>\n</table>\n<p>5 rows × 52 columns</p>\n</div>"
     },
     "execution_count": 154,
     "metadata": {},
     "output_type": "execute_result"
    }
   ],
   "source": [
    "bestiary.head()"
   ],
   "metadata": {
    "collapsed": false
   }
  },
  {
   "cell_type": "code",
   "execution_count": 201,
   "outputs": [],
   "source": [
    "def get_nr_of_spells_with_lvl(items_list, lvl):\n",
    "    spells = [\n",
    "        i\n",
    "        for i in items_list\n",
    "        if i.get(\"type\") == \"spell\"\n",
    "        and i.get(\"system\").get(\"category\").get(\"value\") == \"spell\"\n",
    "    ]\n",
    "\n",
    "    spells = [\n",
    "        i for i in spells if \"cantrip\" not in i.get(\"system\").get(\"traits\").get(\"value\")\n",
    "    ]\n",
    "\n",
    "    return len([s for s in spells if s.get(\"system\").get(\"level\").get(\"value\") == lvl])"
   ],
   "metadata": {
    "collapsed": false
   }
  },
  {
   "cell_type": "code",
   "execution_count": 204,
   "outputs": [],
   "source": [
    "# test = bestiary[bestiary.name == monster_name]\n",
    "MAX_SPELL_LVL = 9\n",
    "\n",
    "for i in range(1, MAX_SPELL_LVL + 1):\n",
    "    bestiary[f\"lvl_{i}\"] = bestiary[\"items\"].apply(\n",
    "        lambda X: get_nr_of_spells_with_lvl(X, i)\n",
    "    )"
   ],
   "metadata": {
    "collapsed": false
   }
  },
  {
   "cell_type": "code",
   "execution_count": 205,
   "outputs": [
    {
     "data": {
      "text/plain": "                 _id                                       img  \\\n0   0Ex7rBuiJVu2NwCz  systems/pf2e/icons/default-icons/npc.svg   \n1   0Kb4z4h8KVqfrIju  systems/pf2e/icons/default-icons/npc.svg   \n2   1NZ1ZAgcUlWKmQSs  systems/pf2e/icons/default-icons/npc.svg   \n3   1U1URD7IyddoD5zE  systems/pf2e/icons/default-icons/npc.svg   \n4   1iz7O6DLDJqStojd  systems/pf2e/icons/default-icons/npc.svg   \n..               ...                                       ...   \n94  vkLhqX5oR1t89puZ  systems/pf2e/icons/default-icons/npc.svg   \n95  w4VJ6h4mysbpdoN4  systems/pf2e/icons/default-icons/npc.svg   \n96  wfsT2QDtQhsFXQfE  systems/pf2e/icons/default-icons/npc.svg   \n97  xY2WjwebqTNXAP0q  systems/pf2e/icons/default-icons/npc.svg   \n98  zQfufnnLCTzQ165S  systems/pf2e/icons/default-icons/npc.svg   \n\n                                                items            name type  \\\n0   [{'_id': 'X8NQcsCgEiQHiZj6', 'img': 'systems/p...    Demonologist  npc   \n1   [{'_id': 'S5Yokvt6N9kVghRk', 'flags': {'core':...        Assassin  npc   \n2   [{'_id': 'NxjUE1b3gXulaYXI', 'flags': {'core':...           Bosun  npc   \n3   [{'_id': '9JDZtzH3WW2tJtUE', 'flags': {'core':...           Fence  npc   \n4   [{'_id': 'zjDw8ZydUFsB7sEl', 'flags': {'core':...         Servant  npc   \n..                                                ...             ...  ...   \n94  [{'_id': '4SfHayudG99XPwJP', 'flags': {'core':...     Gang Leader  npc   \n95  [{'_id': '2HONqJ3KSR0h25We', 'img': 'systems/p...         Advisor  npc   \n96  [{'_id': 'Z6BNfng94z1xdzn3', 'flags': {'core':...         Surgeon  npc   \n97  [{'_id': 'UZlHtMydIq06OfJW', 'flags': {'core':...        Commoner  npc   \n98  [{'_id': 'oHeLKugv0k3a7CQB', 'flags': {'core':...  Monster Hunter  npc   \n\n    system.abilities.cha.mod  system.abilities.con.mod  \\\n0                          0                         2   \n1                          0                         2   \n2                          2                         1   \n3                          4                         0   \n4                          2                         1   \n..                       ...                       ...   \n94                         4                         2   \n95                         4                         2   \n96                         0                         1   \n97                         0                         2   \n98                         1                         3   \n\n    system.abilities.dex.mod  system.abilities.int.mod  \\\n0                          1                         4   \n1                          5                         2   \n2                          4                         0   \n3                          3                         4   \n4                          3                         0   \n..                       ...                       ...   \n94                         4                         2   \n95                         2                         0   \n96                         3                         2   \n97                         1                         0   \n98                         3                         1   \n\n    system.abilities.str.mod  ...  system.traits.attitude.value lvl_1  lvl_2  \\\n0                          3  ...                           NaN     3      4   \n1                          3  ...                           NaN     0      0   \n2                          2  ...                           NaN     0      0   \n3                          0  ...                           NaN     0      0   \n4                          1  ...                           NaN     0      0   \n..                       ...  ...                           ...   ...    ...   \n94                         4  ...                           NaN     0      0   \n95                         0  ...                           NaN     4      3   \n96                         1  ...                           NaN     0      0   \n97                         3  ...                           NaN     0      0   \n98                         4  ...                           NaN     0      0   \n\n   lvl_3 lvl_4  lvl_5  lvl_6  lvl_7 lvl_8  lvl_9  \n0      5     2      0      0      0     0      0  \n1      0     0      0      0      0     0      0  \n2      0     0      0      0      0     0      0  \n3      0     0      0      0      0     0      0  \n4      0     0      0      0      0     0      0  \n..   ...   ...    ...    ...    ...   ...    ...  \n94     0     0      0      0      0     0      0  \n95     2     0      0      0      0     0      0  \n96     0     0      0      0      0     0      0  \n97     0     0      0      0      0     0      0  \n98     0     0      0      0      0     0      0  \n\n[99 rows x 61 columns]",
      "text/html": "<div>\n<style scoped>\n    .dataframe tbody tr th:only-of-type {\n        vertical-align: middle;\n    }\n\n    .dataframe tbody tr th {\n        vertical-align: top;\n    }\n\n    .dataframe thead th {\n        text-align: right;\n    }\n</style>\n<table border=\"1\" class=\"dataframe\">\n  <thead>\n    <tr style=\"text-align: right;\">\n      <th></th>\n      <th>_id</th>\n      <th>img</th>\n      <th>items</th>\n      <th>name</th>\n      <th>type</th>\n      <th>system.abilities.cha.mod</th>\n      <th>system.abilities.con.mod</th>\n      <th>system.abilities.dex.mod</th>\n      <th>system.abilities.int.mod</th>\n      <th>system.abilities.str.mod</th>\n      <th>...</th>\n      <th>system.traits.attitude.value</th>\n      <th>lvl_1</th>\n      <th>lvl_2</th>\n      <th>lvl_3</th>\n      <th>lvl_4</th>\n      <th>lvl_5</th>\n      <th>lvl_6</th>\n      <th>lvl_7</th>\n      <th>lvl_8</th>\n      <th>lvl_9</th>\n    </tr>\n  </thead>\n  <tbody>\n    <tr>\n      <th>0</th>\n      <td>0Ex7rBuiJVu2NwCz</td>\n      <td>systems/pf2e/icons/default-icons/npc.svg</td>\n      <td>[{'_id': 'X8NQcsCgEiQHiZj6', 'img': 'systems/p...</td>\n      <td>Demonologist</td>\n      <td>npc</td>\n      <td>0</td>\n      <td>2</td>\n      <td>1</td>\n      <td>4</td>\n      <td>3</td>\n      <td>...</td>\n      <td>NaN</td>\n      <td>3</td>\n      <td>4</td>\n      <td>5</td>\n      <td>2</td>\n      <td>0</td>\n      <td>0</td>\n      <td>0</td>\n      <td>0</td>\n      <td>0</td>\n    </tr>\n    <tr>\n      <th>1</th>\n      <td>0Kb4z4h8KVqfrIju</td>\n      <td>systems/pf2e/icons/default-icons/npc.svg</td>\n      <td>[{'_id': 'S5Yokvt6N9kVghRk', 'flags': {'core':...</td>\n      <td>Assassin</td>\n      <td>npc</td>\n      <td>0</td>\n      <td>2</td>\n      <td>5</td>\n      <td>2</td>\n      <td>3</td>\n      <td>...</td>\n      <td>NaN</td>\n      <td>0</td>\n      <td>0</td>\n      <td>0</td>\n      <td>0</td>\n      <td>0</td>\n      <td>0</td>\n      <td>0</td>\n      <td>0</td>\n      <td>0</td>\n    </tr>\n    <tr>\n      <th>2</th>\n      <td>1NZ1ZAgcUlWKmQSs</td>\n      <td>systems/pf2e/icons/default-icons/npc.svg</td>\n      <td>[{'_id': 'NxjUE1b3gXulaYXI', 'flags': {'core':...</td>\n      <td>Bosun</td>\n      <td>npc</td>\n      <td>2</td>\n      <td>1</td>\n      <td>4</td>\n      <td>0</td>\n      <td>2</td>\n      <td>...</td>\n      <td>NaN</td>\n      <td>0</td>\n      <td>0</td>\n      <td>0</td>\n      <td>0</td>\n      <td>0</td>\n      <td>0</td>\n      <td>0</td>\n      <td>0</td>\n      <td>0</td>\n    </tr>\n    <tr>\n      <th>3</th>\n      <td>1U1URD7IyddoD5zE</td>\n      <td>systems/pf2e/icons/default-icons/npc.svg</td>\n      <td>[{'_id': '9JDZtzH3WW2tJtUE', 'flags': {'core':...</td>\n      <td>Fence</td>\n      <td>npc</td>\n      <td>4</td>\n      <td>0</td>\n      <td>3</td>\n      <td>4</td>\n      <td>0</td>\n      <td>...</td>\n      <td>NaN</td>\n      <td>0</td>\n      <td>0</td>\n      <td>0</td>\n      <td>0</td>\n      <td>0</td>\n      <td>0</td>\n      <td>0</td>\n      <td>0</td>\n      <td>0</td>\n    </tr>\n    <tr>\n      <th>4</th>\n      <td>1iz7O6DLDJqStojd</td>\n      <td>systems/pf2e/icons/default-icons/npc.svg</td>\n      <td>[{'_id': 'zjDw8ZydUFsB7sEl', 'flags': {'core':...</td>\n      <td>Servant</td>\n      <td>npc</td>\n      <td>2</td>\n      <td>1</td>\n      <td>3</td>\n      <td>0</td>\n      <td>1</td>\n      <td>...</td>\n      <td>NaN</td>\n      <td>0</td>\n      <td>0</td>\n      <td>0</td>\n      <td>0</td>\n      <td>0</td>\n      <td>0</td>\n      <td>0</td>\n      <td>0</td>\n      <td>0</td>\n    </tr>\n    <tr>\n      <th>...</th>\n      <td>...</td>\n      <td>...</td>\n      <td>...</td>\n      <td>...</td>\n      <td>...</td>\n      <td>...</td>\n      <td>...</td>\n      <td>...</td>\n      <td>...</td>\n      <td>...</td>\n      <td>...</td>\n      <td>...</td>\n      <td>...</td>\n      <td>...</td>\n      <td>...</td>\n      <td>...</td>\n      <td>...</td>\n      <td>...</td>\n      <td>...</td>\n      <td>...</td>\n      <td>...</td>\n    </tr>\n    <tr>\n      <th>94</th>\n      <td>vkLhqX5oR1t89puZ</td>\n      <td>systems/pf2e/icons/default-icons/npc.svg</td>\n      <td>[{'_id': '4SfHayudG99XPwJP', 'flags': {'core':...</td>\n      <td>Gang Leader</td>\n      <td>npc</td>\n      <td>4</td>\n      <td>2</td>\n      <td>4</td>\n      <td>2</td>\n      <td>4</td>\n      <td>...</td>\n      <td>NaN</td>\n      <td>0</td>\n      <td>0</td>\n      <td>0</td>\n      <td>0</td>\n      <td>0</td>\n      <td>0</td>\n      <td>0</td>\n      <td>0</td>\n      <td>0</td>\n    </tr>\n    <tr>\n      <th>95</th>\n      <td>w4VJ6h4mysbpdoN4</td>\n      <td>systems/pf2e/icons/default-icons/npc.svg</td>\n      <td>[{'_id': '2HONqJ3KSR0h25We', 'img': 'systems/p...</td>\n      <td>Advisor</td>\n      <td>npc</td>\n      <td>4</td>\n      <td>2</td>\n      <td>2</td>\n      <td>0</td>\n      <td>0</td>\n      <td>...</td>\n      <td>NaN</td>\n      <td>4</td>\n      <td>3</td>\n      <td>2</td>\n      <td>0</td>\n      <td>0</td>\n      <td>0</td>\n      <td>0</td>\n      <td>0</td>\n      <td>0</td>\n    </tr>\n    <tr>\n      <th>96</th>\n      <td>wfsT2QDtQhsFXQfE</td>\n      <td>systems/pf2e/icons/default-icons/npc.svg</td>\n      <td>[{'_id': 'Z6BNfng94z1xdzn3', 'flags': {'core':...</td>\n      <td>Surgeon</td>\n      <td>npc</td>\n      <td>0</td>\n      <td>1</td>\n      <td>3</td>\n      <td>2</td>\n      <td>1</td>\n      <td>...</td>\n      <td>NaN</td>\n      <td>0</td>\n      <td>0</td>\n      <td>0</td>\n      <td>0</td>\n      <td>0</td>\n      <td>0</td>\n      <td>0</td>\n      <td>0</td>\n      <td>0</td>\n    </tr>\n    <tr>\n      <th>97</th>\n      <td>xY2WjwebqTNXAP0q</td>\n      <td>systems/pf2e/icons/default-icons/npc.svg</td>\n      <td>[{'_id': 'UZlHtMydIq06OfJW', 'flags': {'core':...</td>\n      <td>Commoner</td>\n      <td>npc</td>\n      <td>0</td>\n      <td>2</td>\n      <td>1</td>\n      <td>0</td>\n      <td>3</td>\n      <td>...</td>\n      <td>NaN</td>\n      <td>0</td>\n      <td>0</td>\n      <td>0</td>\n      <td>0</td>\n      <td>0</td>\n      <td>0</td>\n      <td>0</td>\n      <td>0</td>\n      <td>0</td>\n    </tr>\n    <tr>\n      <th>98</th>\n      <td>zQfufnnLCTzQ165S</td>\n      <td>systems/pf2e/icons/default-icons/npc.svg</td>\n      <td>[{'_id': 'oHeLKugv0k3a7CQB', 'flags': {'core':...</td>\n      <td>Monster Hunter</td>\n      <td>npc</td>\n      <td>1</td>\n      <td>3</td>\n      <td>3</td>\n      <td>1</td>\n      <td>4</td>\n      <td>...</td>\n      <td>NaN</td>\n      <td>0</td>\n      <td>0</td>\n      <td>0</td>\n      <td>0</td>\n      <td>0</td>\n      <td>0</td>\n      <td>0</td>\n      <td>0</td>\n      <td>0</td>\n    </tr>\n  </tbody>\n</table>\n<p>99 rows × 61 columns</p>\n</div>"
     },
     "execution_count": 205,
     "metadata": {},
     "output_type": "execute_result"
    }
   ],
   "source": [
    "bestiary"
   ],
   "metadata": {
    "collapsed": false
   }
  },
  {
   "cell_type": "code",
   "execution_count": null,
   "outputs": [],
   "source": [],
   "metadata": {
    "collapsed": false
   }
  }
 ],
 "metadata": {
  "kernelspec": {
   "display_name": "Python 3",
   "language": "python",
   "name": "python3"
  },
  "language_info": {
   "codemirror_mode": {
    "name": "ipython",
    "version": 2
   },
   "file_extension": ".py",
   "mimetype": "text/x-python",
   "name": "python",
   "nbconvert_exporter": "python",
   "pygments_lexer": "ipython2",
   "version": "2.7.6"
  }
 },
 "nbformat": 4,
 "nbformat_minor": 0
}
