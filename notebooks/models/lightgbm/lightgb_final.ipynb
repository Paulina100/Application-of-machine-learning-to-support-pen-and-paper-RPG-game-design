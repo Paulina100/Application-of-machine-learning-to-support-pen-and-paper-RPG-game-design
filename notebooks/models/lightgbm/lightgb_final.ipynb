{
 "cells": [
  {
   "cell_type": "markdown",
   "id": "f64a671f",
   "metadata": {},
   "source": [
    "# LightGBM\n",
    "### Parameters:\n",
    "System:\n",
    "* **abilities**:\n",
    "    * **cha**\n",
    "    * **con**\n",
    "    * **dex**\n",
    "    * **int**\n",
    "    * **str**\n",
    "    * **wis**\n",
    "* **attributes**\n",
    "    * **hp**\n",
    "    * **ac**\n",
    "    * **perception**\n",
    "    * **speed** (*land speed*)\n",
    "        * **other speeds**: fly, climb, swim\n",
    "    * **num immunities**\n",
    "    * **resistances**: fire, cold, electricity, acid, piercing, slashing, physical, bludgeoning, mental, poison, all-damage\n",
    "    * **weaknesses**: cold-iron, good, fire, cold, area-damage, splash-damage, evil, slashing\n",
    "* **saves**\n",
    "    * **fortitude**\n",
    "    * **reflex**\n",
    "    * **will**\n",
    "* **resources**\n",
    "    * **focus**\n",
    "\n",
    "Items\n",
    "* **items**\n",
    "    * **melee**\n",
    "    * **ranged**\n",
    "    * **spells nr**\n",
    "\n",
    "### Prediction: *level*\n",
    "\n",
    "## Loading data"
   ]
  },
  {
   "cell_type": "code",
   "execution_count": 1,
   "id": "1f2515e7",
   "metadata": {},
   "outputs": [],
   "source": [
    "import numpy as np\n",
    "import pandas as pd\n",
    "import sys\n",
    "\n",
    "import os\n",
    "import pathlib\n",
    "\n",
    "sys.path.append(\"../../..\")\n",
    "from training.creating_dataset import load_and_preprocess_data\n",
    "\n",
    "current_path = os.getcwd()\n",
    "DATASETS_DIR = pathlib.Path(current_path).parent.parent.parent / \"pathfinder_2e_data\"\n",
    "DATASET_FILES = [\n",
    "    \"pathfinder-bestiary.db\",\n",
    "    \"pathfinder-bestiary-2.db\",\n",
    "    \"pathfinder-bestiary-3.db\",\n",
    "]\n",
    "DATASET_PATHS = [f\"{DATASETS_DIR}/{file}\" for file in DATASET_FILES]\n",
    "characteristics = [\n",
    "    \"cha\",\n",
    "    \"con\",\n",
    "    \"dex\",\n",
    "    \"int\",\n",
    "    \"str\",\n",
    "    \"wis\",\n",
    "    \"ac\",\n",
    "    \"hp\",\n",
    "    \"perception\",\n",
    "    \"fortitude\",\n",
    "    \"reflex\",\n",
    "    \"will\",\n",
    "    \"focus\",\n",
    "    \"land_speed\",\n",
    "    \"num_immunities\",\n",
    "    \"fly\",\n",
    "    \"swim\",\n",
    "    \"climb\",\n",
    "    \"fire_resistance\",\n",
    "    \"cold_resistance\",\n",
    "    \"electricity_resistance\",\n",
    "    \"acid_resistance\",\n",
    "    \"piercing_resistance\",\n",
    "    \"slashing_resistance\",\n",
    "    \"physical_resistance\",\n",
    "    \"bludgeoning_resistance\",\n",
    "    \"mental_resistance\",\n",
    "    \"poison_resistance\",\n",
    "    \"all-damage_resistance\",\n",
    "    \"cold-iron_weakness\",\n",
    "    \"good_weakness\",\n",
    "    \"fire_weakness\",\n",
    "    \"cold_weakness\",\n",
    "    \"area-damage_weakness\",\n",
    "    \"splash-damage_weakness\",\n",
    "    \"evil_weakness\",\n",
    "    \"slashing_weakness\",\n",
    "    \"melee\",\n",
    "    \"ranged\",\n",
    "    \"spells\",\n",
    "]\n",
    "\n",
    "df = load_and_preprocess_data(\n",
    "    DATASET_PATHS,\n",
    "    characteristics=characteristics,\n",
    ")"
   ]
  },
  {
   "cell_type": "code",
   "execution_count": 2,
   "id": "b522f880",
   "metadata": {},
   "outputs": [
    {
     "name": "stdout",
     "output_type": "stream",
     "text": [
      "<class 'pandas.core.frame.DataFrame'>\n",
      "Int64Index: 1206 entries, 0 to 1205\n",
      "Data columns (total 52 columns):\n",
      " #   Column                  Non-Null Count  Dtype  \n",
      "---  ------                  --------------  -----  \n",
      " 0   land_speed              1206 non-null   float64\n",
      " 1   level                   1206 non-null   int64  \n",
      " 2   fortitude               1206 non-null   int64  \n",
      " 3   focus                   1206 non-null   int32  \n",
      " 4   wis                     1206 non-null   int64  \n",
      " 5   num_immunities          1206 non-null   int64  \n",
      " 6   book                    1206 non-null   object \n",
      " 7   cha                     1206 non-null   int64  \n",
      " 8   con                     1206 non-null   int64  \n",
      " 9   ac                      1206 non-null   int64  \n",
      " 10  str                     1206 non-null   int64  \n",
      " 11  int                     1206 non-null   int64  \n",
      " 12  will                    1206 non-null   int64  \n",
      " 13  dex                     1206 non-null   int64  \n",
      " 14  hp                      1206 non-null   int64  \n",
      " 15  perception              1206 non-null   int64  \n",
      " 16  reflex                  1206 non-null   int64  \n",
      " 17  all-damage_resistance   1206 non-null   int64  \n",
      " 18  bludgeoning_resistance  1206 non-null   int64  \n",
      " 19  mental_resistance       1206 non-null   int64  \n",
      " 20  physical_resistance     1206 non-null   int64  \n",
      " 21  cold_resistance         1206 non-null   int64  \n",
      " 22  slashing_resistance     1206 non-null   int64  \n",
      " 23  piercing_resistance     1206 non-null   int64  \n",
      " 24  electricity_resistance  1206 non-null   int64  \n",
      " 25  acid_resistance         1206 non-null   int64  \n",
      " 26  fire_resistance         1206 non-null   int64  \n",
      " 27  poison_resistance       1206 non-null   int64  \n",
      " 28  cold-iron_weakness      1206 non-null   int64  \n",
      " 29  evil_weakness           1206 non-null   int64  \n",
      " 30  good_weakness           1206 non-null   int64  \n",
      " 31  splash-damage_weakness  1206 non-null   int64  \n",
      " 32  area-damage_weakness    1206 non-null   int64  \n",
      " 33  cold_weakness           1206 non-null   int64  \n",
      " 34  fire_weakness           1206 non-null   int64  \n",
      " 35  slashing_weakness       1206 non-null   int64  \n",
      " 36  fly                     1206 non-null   int64  \n",
      " 37  swim                    1206 non-null   int64  \n",
      " 38  climb                   1206 non-null   int64  \n",
      " 39  spells_nr_lvl_1         1206 non-null   int64  \n",
      " 40  spells_nr_lvl_2         1206 non-null   int64  \n",
      " 41  spells_nr_lvl_3         1206 non-null   int64  \n",
      " 42  spells_nr_lvl_4         1206 non-null   int64  \n",
      " 43  spells_nr_lvl_5         1206 non-null   int64  \n",
      " 44  spells_nr_lvl_6         1206 non-null   int64  \n",
      " 45  spells_nr_lvl_7         1206 non-null   int64  \n",
      " 46  spells_nr_lvl_8         1206 non-null   int64  \n",
      " 47  spells_nr_lvl_9         1206 non-null   int64  \n",
      " 48  melee_max_bonus         1206 non-null   int64  \n",
      " 49  avg_melee_dmg           1206 non-null   float64\n",
      " 50  ranged_max_bonus        1206 non-null   int64  \n",
      " 51  avg_ranged_dmg          1206 non-null   float64\n",
      "dtypes: float64(3), int32(1), int64(47), object(1)\n",
      "memory usage: 494.6+ KB\n"
     ]
    }
   ],
   "source": [
    "df.info()"
   ]
  },
  {
   "cell_type": "code",
   "execution_count": 3,
   "id": "1b5450d3",
   "metadata": {},
   "outputs": [
    {
     "data": {
      "text/html": [
       "<div>\n",
       "<style scoped>\n",
       "    .dataframe tbody tr th:only-of-type {\n",
       "        vertical-align: middle;\n",
       "    }\n",
       "\n",
       "    .dataframe tbody tr th {\n",
       "        vertical-align: top;\n",
       "    }\n",
       "\n",
       "    .dataframe thead th {\n",
       "        text-align: right;\n",
       "    }\n",
       "</style>\n",
       "<table border=\"1\" class=\"dataframe\">\n",
       "  <thead>\n",
       "    <tr style=\"text-align: right;\">\n",
       "      <th></th>\n",
       "      <th>land_speed</th>\n",
       "      <th>level</th>\n",
       "      <th>fortitude</th>\n",
       "      <th>focus</th>\n",
       "      <th>wis</th>\n",
       "      <th>num_immunities</th>\n",
       "      <th>book</th>\n",
       "      <th>cha</th>\n",
       "      <th>con</th>\n",
       "      <th>ac</th>\n",
       "      <th>...</th>\n",
       "      <th>spells_nr_lvl_4</th>\n",
       "      <th>spells_nr_lvl_5</th>\n",
       "      <th>spells_nr_lvl_6</th>\n",
       "      <th>spells_nr_lvl_7</th>\n",
       "      <th>spells_nr_lvl_8</th>\n",
       "      <th>spells_nr_lvl_9</th>\n",
       "      <th>melee_max_bonus</th>\n",
       "      <th>avg_melee_dmg</th>\n",
       "      <th>ranged_max_bonus</th>\n",
       "      <th>avg_ranged_dmg</th>\n",
       "    </tr>\n",
       "  </thead>\n",
       "  <tbody>\n",
       "    <tr>\n",
       "      <th>0</th>\n",
       "      <td>30.0</td>\n",
       "      <td>10</td>\n",
       "      <td>22</td>\n",
       "      <td>1</td>\n",
       "      <td>2</td>\n",
       "      <td>3</td>\n",
       "      <td>Pathfinder Bestiary</td>\n",
       "      <td>1</td>\n",
       "      <td>5</td>\n",
       "      <td>29</td>\n",
       "      <td>...</td>\n",
       "      <td>0</td>\n",
       "      <td>0</td>\n",
       "      <td>0</td>\n",
       "      <td>0</td>\n",
       "      <td>0</td>\n",
       "      <td>0</td>\n",
       "      <td>23</td>\n",
       "      <td>22.0</td>\n",
       "      <td>0</td>\n",
       "      <td>0.0</td>\n",
       "    </tr>\n",
       "    <tr>\n",
       "      <th>1</th>\n",
       "      <td>35.0</td>\n",
       "      <td>10</td>\n",
       "      <td>21</td>\n",
       "      <td>0</td>\n",
       "      <td>2</td>\n",
       "      <td>0</td>\n",
       "      <td>Pathfinder Bestiary</td>\n",
       "      <td>1</td>\n",
       "      <td>5</td>\n",
       "      <td>28</td>\n",
       "      <td>...</td>\n",
       "      <td>0</td>\n",
       "      <td>0</td>\n",
       "      <td>0</td>\n",
       "      <td>0</td>\n",
       "      <td>0</td>\n",
       "      <td>0</td>\n",
       "      <td>23</td>\n",
       "      <td>22.0</td>\n",
       "      <td>0</td>\n",
       "      <td>0.0</td>\n",
       "    </tr>\n",
       "    <tr>\n",
       "      <th>2</th>\n",
       "      <td>30.0</td>\n",
       "      <td>8</td>\n",
       "      <td>20</td>\n",
       "      <td>0</td>\n",
       "      <td>3</td>\n",
       "      <td>0</td>\n",
       "      <td>Pathfinder Bestiary</td>\n",
       "      <td>-2</td>\n",
       "      <td>6</td>\n",
       "      <td>25</td>\n",
       "      <td>...</td>\n",
       "      <td>0</td>\n",
       "      <td>0</td>\n",
       "      <td>0</td>\n",
       "      <td>0</td>\n",
       "      <td>0</td>\n",
       "      <td>0</td>\n",
       "      <td>21</td>\n",
       "      <td>16.0</td>\n",
       "      <td>0</td>\n",
       "      <td>0.0</td>\n",
       "    </tr>\n",
       "    <tr>\n",
       "      <th>3</th>\n",
       "      <td>50.0</td>\n",
       "      <td>17</td>\n",
       "      <td>30</td>\n",
       "      <td>1</td>\n",
       "      <td>5</td>\n",
       "      <td>3</td>\n",
       "      <td>Pathfinder Bestiary</td>\n",
       "      <td>6</td>\n",
       "      <td>5</td>\n",
       "      <td>41</td>\n",
       "      <td>...</td>\n",
       "      <td>1</td>\n",
       "      <td>0</td>\n",
       "      <td>1</td>\n",
       "      <td>0</td>\n",
       "      <td>0</td>\n",
       "      <td>0</td>\n",
       "      <td>33</td>\n",
       "      <td>31.5</td>\n",
       "      <td>0</td>\n",
       "      <td>0.0</td>\n",
       "    </tr>\n",
       "    <tr>\n",
       "      <th>4</th>\n",
       "      <td>0.0</td>\n",
       "      <td>1</td>\n",
       "      <td>6</td>\n",
       "      <td>1</td>\n",
       "      <td>1</td>\n",
       "      <td>0</td>\n",
       "      <td>Pathfinder Bestiary</td>\n",
       "      <td>1</td>\n",
       "      <td>1</td>\n",
       "      <td>16</td>\n",
       "      <td>...</td>\n",
       "      <td>1</td>\n",
       "      <td>0</td>\n",
       "      <td>0</td>\n",
       "      <td>0</td>\n",
       "      <td>0</td>\n",
       "      <td>0</td>\n",
       "      <td>0</td>\n",
       "      <td>0.0</td>\n",
       "      <td>8</td>\n",
       "      <td>5.0</td>\n",
       "    </tr>\n",
       "  </tbody>\n",
       "</table>\n",
       "<p>5 rows × 52 columns</p>\n",
       "</div>"
      ],
      "text/plain": [
       "   land_speed  level  fortitude  focus  wis  num_immunities  \\\n",
       "0        30.0     10         22      1    2               3   \n",
       "1        35.0     10         21      0    2               0   \n",
       "2        30.0      8         20      0    3               0   \n",
       "3        50.0     17         30      1    5               3   \n",
       "4         0.0      1          6      1    1               0   \n",
       "\n",
       "                  book  cha  con  ac  ...  spells_nr_lvl_4  spells_nr_lvl_5  \\\n",
       "0  Pathfinder Bestiary    1    5  29  ...                0                0   \n",
       "1  Pathfinder Bestiary    1    5  28  ...                0                0   \n",
       "2  Pathfinder Bestiary   -2    6  25  ...                0                0   \n",
       "3  Pathfinder Bestiary    6    5  41  ...                1                0   \n",
       "4  Pathfinder Bestiary    1    1  16  ...                1                0   \n",
       "\n",
       "   spells_nr_lvl_6  spells_nr_lvl_7  spells_nr_lvl_8  spells_nr_lvl_9  \\\n",
       "0                0                0                0                0   \n",
       "1                0                0                0                0   \n",
       "2                0                0                0                0   \n",
       "3                1                0                0                0   \n",
       "4                0                0                0                0   \n",
       "\n",
       "   melee_max_bonus  avg_melee_dmg  ranged_max_bonus  avg_ranged_dmg  \n",
       "0               23           22.0                 0             0.0  \n",
       "1               23           22.0                 0             0.0  \n",
       "2               21           16.0                 0             0.0  \n",
       "3               33           31.5                 0             0.0  \n",
       "4                0            0.0                 8             5.0  \n",
       "\n",
       "[5 rows x 52 columns]"
      ]
     },
     "execution_count": 3,
     "metadata": {},
     "output_type": "execute_result"
    }
   ],
   "source": [
    "df.head()"
   ]
  },
  {
   "cell_type": "markdown",
   "id": "0caa661f",
   "metadata": {},
   "source": [
    "###### Level"
   ]
  },
  {
   "cell_type": "code",
   "execution_count": 4,
   "id": "c200d2b4",
   "metadata": {},
   "outputs": [
    {
     "data": {
      "text/plain": [
       "0       10\n",
       "1       10\n",
       "2        8\n",
       "3       17\n",
       "4        1\n",
       "        ..\n",
       "1201    20\n",
       "1202    -1\n",
       "1203    12\n",
       "1204     6\n",
       "1205     6\n",
       "Name: level, Length: 1206, dtype: int64"
      ]
     },
     "execution_count": 4,
     "metadata": {},
     "output_type": "execute_result"
    }
   ],
   "source": [
    "y = df[\"level\"]\n",
    "y"
   ]
  },
  {
   "cell_type": "code",
   "execution_count": 5,
   "id": "553822a7",
   "metadata": {},
   "outputs": [],
   "source": [
    "from collections import defaultdict\n",
    "\n",
    "\n",
    "lvl_stat = defaultdict(lambda: 0)\n",
    "\n",
    "for lvl in y:\n",
    "    lvl_stat[lvl] += 1"
   ]
  },
  {
   "cell_type": "code",
   "execution_count": 6,
   "id": "e45d6c29",
   "metadata": {},
   "outputs": [
    {
     "data": {
      "text/html": [
       "<div>\n",
       "<style scoped>\n",
       "    .dataframe tbody tr th:only-of-type {\n",
       "        vertical-align: middle;\n",
       "    }\n",
       "\n",
       "    .dataframe tbody tr th {\n",
       "        vertical-align: top;\n",
       "    }\n",
       "\n",
       "    .dataframe thead th {\n",
       "        text-align: right;\n",
       "    }\n",
       "</style>\n",
       "<table border=\"1\" class=\"dataframe\">\n",
       "  <thead>\n",
       "    <tr style=\"text-align: right;\">\n",
       "      <th></th>\n",
       "      <th>lvl</th>\n",
       "      <th>count</th>\n",
       "    </tr>\n",
       "  </thead>\n",
       "  <tbody>\n",
       "    <tr>\n",
       "      <th>0</th>\n",
       "      <td>-1</td>\n",
       "      <td>34</td>\n",
       "    </tr>\n",
       "    <tr>\n",
       "      <th>1</th>\n",
       "      <td>0</td>\n",
       "      <td>27</td>\n",
       "    </tr>\n",
       "    <tr>\n",
       "      <th>2</th>\n",
       "      <td>1</td>\n",
       "      <td>127</td>\n",
       "    </tr>\n",
       "    <tr>\n",
       "      <th>3</th>\n",
       "      <td>2</td>\n",
       "      <td>121</td>\n",
       "    </tr>\n",
       "    <tr>\n",
       "      <th>4</th>\n",
       "      <td>3</td>\n",
       "      <td>95</td>\n",
       "    </tr>\n",
       "    <tr>\n",
       "      <th>5</th>\n",
       "      <td>4</td>\n",
       "      <td>82</td>\n",
       "    </tr>\n",
       "    <tr>\n",
       "      <th>6</th>\n",
       "      <td>5</td>\n",
       "      <td>76</td>\n",
       "    </tr>\n",
       "    <tr>\n",
       "      <th>7</th>\n",
       "      <td>6</td>\n",
       "      <td>72</td>\n",
       "    </tr>\n",
       "    <tr>\n",
       "      <th>8</th>\n",
       "      <td>7</td>\n",
       "      <td>77</td>\n",
       "    </tr>\n",
       "    <tr>\n",
       "      <th>9</th>\n",
       "      <td>8</td>\n",
       "      <td>68</td>\n",
       "    </tr>\n",
       "    <tr>\n",
       "      <th>10</th>\n",
       "      <td>9</td>\n",
       "      <td>63</td>\n",
       "    </tr>\n",
       "    <tr>\n",
       "      <th>11</th>\n",
       "      <td>10</td>\n",
       "      <td>58</td>\n",
       "    </tr>\n",
       "    <tr>\n",
       "      <th>12</th>\n",
       "      <td>11</td>\n",
       "      <td>40</td>\n",
       "    </tr>\n",
       "    <tr>\n",
       "      <th>13</th>\n",
       "      <td>12</td>\n",
       "      <td>41</td>\n",
       "    </tr>\n",
       "    <tr>\n",
       "      <th>14</th>\n",
       "      <td>13</td>\n",
       "      <td>36</td>\n",
       "    </tr>\n",
       "    <tr>\n",
       "      <th>15</th>\n",
       "      <td>14</td>\n",
       "      <td>33</td>\n",
       "    </tr>\n",
       "    <tr>\n",
       "      <th>16</th>\n",
       "      <td>15</td>\n",
       "      <td>31</td>\n",
       "    </tr>\n",
       "    <tr>\n",
       "      <th>17</th>\n",
       "      <td>16</td>\n",
       "      <td>25</td>\n",
       "    </tr>\n",
       "    <tr>\n",
       "      <th>18</th>\n",
       "      <td>17</td>\n",
       "      <td>21</td>\n",
       "    </tr>\n",
       "    <tr>\n",
       "      <th>19</th>\n",
       "      <td>18</td>\n",
       "      <td>21</td>\n",
       "    </tr>\n",
       "    <tr>\n",
       "      <th>20</th>\n",
       "      <td>19</td>\n",
       "      <td>18</td>\n",
       "    </tr>\n",
       "    <tr>\n",
       "      <th>21</th>\n",
       "      <td>20</td>\n",
       "      <td>24</td>\n",
       "    </tr>\n",
       "    <tr>\n",
       "      <th>22</th>\n",
       "      <td>21</td>\n",
       "      <td>16</td>\n",
       "    </tr>\n",
       "  </tbody>\n",
       "</table>\n",
       "</div>"
      ],
      "text/plain": [
       "    lvl  count\n",
       "0    -1     34\n",
       "1     0     27\n",
       "2     1    127\n",
       "3     2    121\n",
       "4     3     95\n",
       "5     4     82\n",
       "6     5     76\n",
       "7     6     72\n",
       "8     7     77\n",
       "9     8     68\n",
       "10    9     63\n",
       "11   10     58\n",
       "12   11     40\n",
       "13   12     41\n",
       "14   13     36\n",
       "15   14     33\n",
       "16   15     31\n",
       "17   16     25\n",
       "18   17     21\n",
       "19   18     21\n",
       "20   19     18\n",
       "21   20     24\n",
       "22   21     16"
      ]
     },
     "execution_count": 6,
     "metadata": {},
     "output_type": "execute_result"
    }
   ],
   "source": [
    "level_count = pd.DataFrame(\n",
    "    data={\n",
    "        \"lvl\": [key for key in sorted(lvl_stat.keys())],\n",
    "        \"count\": [lvl_stat.get(key) for key in sorted(lvl_stat.keys())],\n",
    "    }\n",
    ")\n",
    "level_count"
   ]
  },
  {
   "cell_type": "code",
   "execution_count": 7,
   "id": "bdbfe8de",
   "metadata": {},
   "outputs": [
    {
     "data": {
      "image/png": "[encoded data removed]",
      "text/plain": [
       "<Figure size 432x288 with 1 Axes>"
      ]
     },
     "metadata": {
      "needs_background": "light"
     },
     "output_type": "display_data"
    }
   ],
   "source": [
    "import matplotlib.pyplot as plt\n",
    "\n",
    "\n",
    "level_count.plot.bar(x=\"lvl\", y=\"count\", title=\"Count of levels\")\n",
    "plt.show()"
   ]
  },
  {
   "cell_type": "markdown",
   "id": "9fdb6541",
   "metadata": {},
   "source": [
    "## Train test split"
   ]
  },
  {
   "cell_type": "markdown",
   "id": "18f56629",
   "metadata": {},
   "source": [
    "### Chronological split"
   ]
  },
  {
   "cell_type": "code",
   "execution_count": 8,
   "id": "dcda359b",
   "metadata": {},
   "outputs": [],
   "source": [
    "from training.splitting_dataset import split_dataframe\n",
    "\n",
    "\n",
    "os.chdir(\"../../../training\")\n",
    "X_train, X_test, y_train, y_test = split_dataframe(df, test_size=0.31)\n",
    "os.chdir(\"../notebooks/models/lightgbm\")"
   ]
  },
  {
   "cell_type": "code",
   "execution_count": 9,
   "id": "17dbc875",
   "metadata": {},
   "outputs": [],
   "source": [
    "X_train = X_train.drop(columns=[\"book\"])\n",
    "X_test = X_test.drop(columns=[\"book\"])"
   ]
  },
  {
   "cell_type": "markdown",
   "id": "25879636",
   "metadata": {},
   "source": [
    "### Random split"
   ]
  },
  {
   "cell_type": "code",
   "execution_count": 10,
   "id": "982ec5eb",
   "metadata": {},
   "outputs": [],
   "source": [
    "(\n",
    "    X_train_random_split,\n",
    "    X_test_random_split,\n",
    "    y_train_random_split,\n",
    "    y_test_random_split,\n",
    ") = split_dataframe(df, chronological_split=False)"
   ]
  },
  {
   "cell_type": "code",
   "execution_count": 11,
   "id": "90569e78",
   "metadata": {},
   "outputs": [],
   "source": [
    "X_train_random_split = X_train_random_split.drop(columns=[\"book\"])\n",
    "X_test_random_split = X_test_random_split.drop(columns=[\"book\"])"
   ]
  },
  {
   "cell_type": "markdown",
   "id": "9b259fbf",
   "metadata": {},
   "source": [
    "## LightGBM"
   ]
  },
  {
   "cell_type": "markdown",
   "id": "14f37d9b",
   "metadata": {},
   "source": [
    "## Chronological split"
   ]
  },
  {
   "cell_type": "code",
   "execution_count": 12,
   "id": "2bc4c90e",
   "metadata": {},
   "outputs": [
    {
     "name": "stdout",
     "output_type": "stream",
     "text": [
      "[LightGBM] [Warning] Auto-choosing row-wise multi-threading, the overhead of testing was 0.001300 seconds.\n",
      "You can set `force_row_wise=true` to remove the overhead.\n",
      "And if memory is not enough, you can set `force_col_wise=true`.\n",
      "[LightGBM] [Info] Total Bins 756\n",
      "[LightGBM] [Info] Number of data points in the train set: 841, number of used features: 45\n",
      "[LightGBM] [Info] Start training from score 6.966706\n",
      "Training until validation scores don't improve for 5 rounds\n",
      "[LightGBM] [Warning] No further splits with positive gain, best gain: -inf\n",
      "Did not meet early stopping. Best iteration is:\n",
      "[99]\tvalid_0's l1: 0.460853\tvalid_0's l2: 0.927292\n"
     ]
    }
   ],
   "source": [
    "import lightgbm as lgb\n",
    "\n",
    "lgb_train = lgb.Dataset(X_train, y_train)\n",
    "lgb_eval = lgb.Dataset(X_test, y_test, reference=lgb_train)\n",
    "\n",
    "params = {\n",
    "    \"boosting_type\": \"gbdt\",\n",
    "    \"objective\": \"regression\",\n",
    "    \"metric\": {\"l2\", \"l1\"},\n",
    "}\n",
    "\n",
    "gbm = lgb.train(\n",
    "    params,\n",
    "    lgb_train,\n",
    "    num_boost_round=100,\n",
    "    valid_sets=lgb_eval,\n",
    "    callbacks=[lgb.early_stopping(stopping_rounds=5)],\n",
    ")"
   ]
  },
  {
   "cell_type": "code",
   "execution_count": 13,
   "id": "f1ae2eaa",
   "metadata": {},
   "outputs": [],
   "source": [
    "y_pred_train = gbm.predict(X_train, num_iteration=gbm.best_iteration)\n",
    "y_pred_test = gbm.predict(X_test, num_iteration=gbm.best_iteration)"
   ]
  },
  {
   "cell_type": "code",
   "execution_count": 14,
   "id": "ef9d09eb",
   "metadata": {},
   "outputs": [
    {
     "name": "stdout",
     "output_type": "stream",
     "text": [
      "MSE: 0.93\n",
      "RMSE: 0.96\n",
      "MAE: 0.24\n"
     ]
    }
   ],
   "source": [
    "from sklearn.metrics import mean_squared_error, median_absolute_error\n",
    "\n",
    "\n",
    "mse = mean_squared_error(y_test, y_pred_test)\n",
    "rmse = mean_squared_error(y_test, y_pred_test, squared=False)\n",
    "mae = median_absolute_error(y_test, y_pred_test)\n",
    "\n",
    "print(f\"MSE: {mse:.2f}\")\n",
    "print(f\"RMSE: {rmse:.2f}\")\n",
    "print(f\"MAE: {mae:.2f}\")"
   ]
  },
  {
   "cell_type": "code",
   "execution_count": 15,
   "id": "6e288d53",
   "metadata": {},
   "outputs": [],
   "source": [
    "results = pd.DataFrame(\n",
    "    data={\n",
    "        \"Split type\": [],\n",
    "        \"Tuning type\": [],\n",
    "        \"Number of characteristics\": [],\n",
    "        \"MSE\": [],\n",
    "        \"RMSE\": [],\n",
    "        \"MAE\": [],\n",
    "    }\n",
    ")\n",
    "\n",
    "results.loc[0] = [\"chronological\", \"normal\", len(X_test.columns), mse, rmse, mae]"
   ]
  },
  {
   "cell_type": "code",
   "execution_count": 16,
   "id": "78bb7ffa",
   "metadata": {},
   "outputs": [
    {
     "name": "stdout",
     "output_type": "stream",
     "text": [
      "RMSE train: 0.12\n",
      "RMSE test: 0.96\n"
     ]
    }
   ],
   "source": [
    "rmse_train = mean_squared_error(y_train, y_pred_train, squared=False)\n",
    "rmse_test = mean_squared_error(y_test, y_pred_test, squared=False)\n",
    "print(f\"RMSE train: {rmse_train:.2f}\")\n",
    "print(f\"RMSE test: {rmse_test:.2f}\")"
   ]
  },
  {
   "cell_type": "code",
   "execution_count": 17,
   "id": "ec8cab49",
   "metadata": {
    "scrolled": true
   },
   "outputs": [
    {
     "name": "stdout",
     "output_type": "stream",
     "text": [
      "Normal:\n",
      "MSE: 0.93\n",
      "RMSE: 0.96\n",
      "\n",
      "Round type: round\n",
      "MSE: 0.96\n",
      "RMSE: 0.98\n",
      "\n",
      "Round type: 0.33\n",
      "MSE: 0.91\n",
      "RMSE: 0.95\n",
      "\n",
      "Round type: 0.45\n",
      "MSE: 0.93\n",
      "RMSE: 0.96\n",
      "\n"
     ]
    }
   ],
   "source": [
    "from training.results import check_round_predictions, plot_confusion_matrix\n",
    "\n",
    "\n",
    "check_round_predictions([\"round\", 0.33, 0.45], y_test, y_pred_test)"
   ]
  },
  {
   "cell_type": "code",
   "execution_count": 18,
   "id": "9129a0ae",
   "metadata": {},
   "outputs": [
    {
     "data": {
      "image/png": "[encoded data removed]",
      "text/plain": [
       "<Figure size 432x288 with 2 Axes>"
      ]
     },
     "metadata": {
      "needs_background": "light"
     },
     "output_type": "display_data"
    }
   ],
   "source": [
    "plot_confusion_matrix(\"round\", y_pred_test, y_test)"
   ]
  },
  {
   "cell_type": "markdown",
   "id": "0e591f6c",
   "metadata": {},
   "source": [
    "#### Tuning"
   ]
  },
  {
   "cell_type": "code",
   "execution_count": 19,
   "id": "2f781cab",
   "metadata": {},
   "outputs": [],
   "source": [
    "from training.results import assess_regression_model"
   ]
  },
  {
   "cell_type": "code",
   "execution_count": 20,
   "id": "d8734e01",
   "metadata": {},
   "outputs": [
    {
     "name": "stderr",
     "output_type": "stream",
     "text": [
      "[I 2023-10-28 18:11:09,397] A new study created in memory with name: no-name-a16d0325-6823-4134-8118-fede4466ef03\n",
      "feature_fraction, val_score: inf:   0%|                                                          | 0/7 [00:00<?, ?it/s]"
     ]
    },
    {
     "name": "stdout",
     "output_type": "stream",
     "text": [
      "Training until validation scores don't improve for 100 rounds\n",
      "[100]\tcv_agg's l2: 0.146998 + 0.0341857\n",
      "[200]\tcv_agg's l2: 0.144533 + 0.033041\n",
      "[300]\tcv_agg's l2: 0.143689 + 0.0326158\n",
      "[400]\tcv_agg's l2: 0.143172 + 0.0323378\n",
      "[500]\tcv_agg's l2: 0.143083 + 0.0320616\n",
      "[600]\tcv_agg's l2: 0.142901 + 0.0317219\n"
     ]
    },
    {
     "name": "stderr",
     "output_type": "stream",
     "text": [
      "feature_fraction, val_score: 0.142854:  14%|######4                                      | 1/7 [00:03<00:20,  3.45s/it][I 2023-10-28 18:11:12,850] Trial 0 finished with value: 0.14285367202959326 and parameters: {'feature_fraction': 0.8}. Best is trial 0 with value: 0.14285367202959326.\n",
      "feature_fraction, val_score: 0.142854:  14%|######4                                      | 1/7 [00:03<00:20,  3.45s/it]"
     ]
    },
    {
     "name": "stdout",
     "output_type": "stream",
     "text": [
      "[700]\tcv_agg's l2: 0.142901 + 0.0317555\n",
      "Early stopping, best iteration is:\n",
      "[627]\tcv_agg's l2: 0.142854 + 0.0316972\n",
      "[100]\tcv_agg's l2: 0.150661 + 0.0364115\n",
      "[200]\tcv_agg's l2: 0.148517 + 0.0352203\n",
      "[300]\tcv_agg's l2: 0.147946 + 0.0355016\n",
      "[400]\tcv_agg's l2: 0.14781 + 0.0357645\n",
      "[500]\tcv_agg's l2: 0.147823 + 0.0358567\n",
      "[600]\tcv_agg's l2: 0.14782 + 0.0358522\n"
     ]
    },
    {
     "name": "stderr",
     "output_type": "stream",
     "text": [
      "feature_fraction, val_score: 0.142854:  29%|############8                                | 2/7 [00:07<00:17,  3.58s/it][I 2023-10-28 18:11:16,518] Trial 1 finished with value: 0.14787390755915852 and parameters: {'feature_fraction': 1.0}. Best is trial 0 with value: 0.14285367202959326.\n",
      "feature_fraction, val_score: 0.142854:  29%|############8                                | 2/7 [00:07<00:17,  3.58s/it]"
     ]
    },
    {
     "name": "stdout",
     "output_type": "stream",
     "text": [
      "[700]\tcv_agg's l2: 0.14792 + 0.0357587\n",
      "Early stopping, best iteration is:\n",
      "[627]\tcv_agg's l2: 0.142854 + 0.0316972\n",
      "[100]\tcv_agg's l2: 0.149514 + 0.0332166\n",
      "[200]\tcv_agg's l2: 0.143468 + 0.0332606\n",
      "[300]\tcv_agg's l2: 0.141923 + 0.0322977\n",
      "[400]\tcv_agg's l2: 0.141622 + 0.0321829\n"
     ]
    },
    {
     "name": "stderr",
     "output_type": "stream",
     "text": [
      "feature_fraction, val_score: 0.141420:  43%|###################2                         | 3/7 [00:10<00:13,  3.39s/it][I 2023-10-28 18:11:19,682] Trial 2 finished with value: 0.1414200304710897 and parameters: {'feature_fraction': 0.4}. Best is trial 2 with value: 0.1414200304710897.\n",
      "feature_fraction, val_score: 0.141420:  43%|###################2                         | 3/7 [00:10<00:13,  3.39s/it]"
     ]
    },
    {
     "name": "stdout",
     "output_type": "stream",
     "text": [
      "[500]\tcv_agg's l2: 0.141495 + 0.032486\n",
      "Early stopping, best iteration is:\n",
      "[424]\tcv_agg's l2: 0.14142 + 0.0321319\n",
      "[100]\tcv_agg's l2: 0.150882 + 0.0332203\n",
      "[200]\tcv_agg's l2: 0.147288 + 0.0317476\n",
      "[300]\tcv_agg's l2: 0.146838 + 0.0316794\n",
      "[400]\tcv_agg's l2: 0.146386 + 0.0310858\n"
     ]
    },
    {
     "name": "stderr",
     "output_type": "stream",
     "text": [
      "feature_fraction, val_score: 0.141420:  57%|#########################7                   | 4/7 [00:13<00:10,  3.35s/it][I 2023-10-28 18:11:22,961] Trial 3 finished with value: 0.14641944518117317 and parameters: {'feature_fraction': 0.8999999999999999}. Best is trial 2 with value: 0.1414200304710897.\n",
      "feature_fraction, val_score: 0.141420:  57%|#########################7                   | 4/7 [00:13<00:10,  3.35s/it]"
     ]
    },
    {
     "name": "stdout",
     "output_type": "stream",
     "text": [
      "[500]\tcv_agg's l2: 0.146308 + 0.0311808\n",
      "Early stopping, best iteration is:\n",
      "[424]\tcv_agg's l2: 0.14142 + 0.0321319\n",
      "[100]\tcv_agg's l2: 0.140171 + 0.0324951\n",
      "[200]\tcv_agg's l2: 0.134115 + 0.0306861\n",
      "[300]\tcv_agg's l2: 0.133274 + 0.0300347\n",
      "[400]\tcv_agg's l2: 0.132603 + 0.0296978\n",
      "[500]\tcv_agg's l2: 0.132291 + 0.0296754\n",
      "[600]\tcv_agg's l2: 0.132233 + 0.0295984\n"
     ]
    },
    {
     "name": "stderr",
     "output_type": "stream",
     "text": [
      "feature_fraction, val_score: 0.132170:  71%|################################1            | 5/7 [00:18<00:07,  3.75s/it][I 2023-10-28 18:11:27,419] Trial 4 finished with value: 0.13216955662629368 and parameters: {'feature_fraction': 0.5}. Best is trial 4 with value: 0.13216955662629368.\n",
      "feature_fraction, val_score: 0.132170:  71%|################################1            | 5/7 [00:18<00:07,  3.75s/it]"
     ]
    },
    {
     "name": "stdout",
     "output_type": "stream",
     "text": [
      "Early stopping, best iteration is:\n",
      "[570]\tcv_agg's l2: 0.13217 + 0.029615\n",
      "[100]\tcv_agg's l2: 0.143796 + 0.0361147\n",
      "[200]\tcv_agg's l2: 0.139603 + 0.0341927\n",
      "[300]\tcv_agg's l2: 0.13943 + 0.033934\n",
      "[400]\tcv_agg's l2: 0.13937 + 0.0338862\n",
      "[500]\tcv_agg's l2: 0.139491 + 0.0338769\n",
      "[600]\tcv_agg's l2: 0.139436 + 0.0337748\n"
     ]
    },
    {
     "name": "stderr",
     "output_type": "stream",
     "text": [
      "feature_fraction, val_score: 0.132170:  86%|######################################5      | 6/7 [00:23<00:04,  4.32s/it][I 2023-10-28 18:11:32,855] Trial 5 finished with value: 0.1394407133874368 and parameters: {'feature_fraction': 0.7}. Best is trial 4 with value: 0.13216955662629368.\n",
      "feature_fraction, val_score: 0.132170:  86%|######################################5      | 6/7 [00:23<00:04,  4.32s/it]"
     ]
    },
    {
     "name": "stdout",
     "output_type": "stream",
     "text": [
      "Early stopping, best iteration is:\n",
      "[570]\tcv_agg's l2: 0.13217 + 0.029615\n",
      "[100]\tcv_agg's l2: 0.144422 + 0.0355106\n",
      "[200]\tcv_agg's l2: 0.140095 + 0.0327268\n",
      "[300]\tcv_agg's l2: 0.138838 + 0.0317895\n",
      "[400]\tcv_agg's l2: 0.138322 + 0.0313742\n",
      "[500]\tcv_agg's l2: 0.138139 + 0.0311488\n",
      "[600]\tcv_agg's l2: 0.138062 + 0.0310151\n"
     ]
    },
    {
     "name": "stderr",
     "output_type": "stream",
     "text": [
      "feature_fraction, val_score: 0.132170: 100%|#############################################| 7/7 [00:33<00:00,  6.12s/it][I 2023-10-28 18:11:42,675] Trial 6 finished with value: 0.1381016994676289 and parameters: {'feature_fraction': 0.6}. Best is trial 4 with value: 0.13216955662629368.\n",
      "feature_fraction, val_score: 0.132170: 100%|#############################################| 7/7 [00:33<00:00,  4.75s/it]\n"
     ]
    },
    {
     "name": "stdout",
     "output_type": "stream",
     "text": [
      "Early stopping, best iteration is:\n",
      "[570]\tcv_agg's l2: 0.13217 + 0.029615\n"
     ]
    },
    {
     "name": "stderr",
     "output_type": "stream",
     "text": [
      "num_leaves, val_score: 0.132170:   0%|                                                          | 0/20 [00:00<?, ?it/s]"
     ]
    },
    {
     "name": "stdout",
     "output_type": "stream",
     "text": [
      "[100]\tcv_agg's l2: 0.140171 + 0.0324951\n",
      "[200]\tcv_agg's l2: 0.134115 + 0.0306861\n",
      "[300]\tcv_agg's l2: 0.133274 + 0.0300347\n",
      "[400]\tcv_agg's l2: 0.132603 + 0.0296978\n",
      "[500]\tcv_agg's l2: 0.132291 + 0.0296754\n",
      "[600]\tcv_agg's l2: 0.132233 + 0.0295984\n"
     ]
    },
    {
     "name": "stderr",
     "output_type": "stream",
     "text": [
      "num_leaves, val_score: 0.132170:   5%|##5                                               | 1/20 [00:10<03:10, 10.04s/it][I 2023-10-28 18:11:52,721] Trial 7 finished with value: 0.13216955662629368 and parameters: {'num_leaves': 57}. Best is trial 7 with value: 0.13216955662629368.\n",
      "num_leaves, val_score: 0.132170:   5%|##5                                               | 1/20 [00:10<03:10, 10.04s/it]"
     ]
    },
    {
     "name": "stdout",
     "output_type": "stream",
     "text": [
      "Early stopping, best iteration is:\n",
      "[570]\tcv_agg's l2: 0.13217 + 0.029615\n",
      "[100]\tcv_agg's l2: 0.141967 + 0.0306313\n",
      "[200]\tcv_agg's l2: 0.134688 + 0.030022\n",
      "[300]\tcv_agg's l2: 0.131565 + 0.0283739\n",
      "[400]\tcv_agg's l2: 0.130463 + 0.0277319\n",
      "[500]\tcv_agg's l2: 0.12987 + 0.0271318\n",
      "[600]\tcv_agg's l2: 0.129673 + 0.0269092\n"
     ]
    },
    {
     "name": "stderr",
     "output_type": "stream",
     "text": [
      "num_leaves, val_score: 0.129390:  10%|#####                                             | 2/20 [00:15<02:10,  7.27s/it][I 2023-10-28 18:11:58,047] Trial 8 finished with value: 0.1293900315452457 and parameters: {'num_leaves': 11}. Best is trial 8 with value: 0.1293900315452457.\n",
      "num_leaves, val_score: 0.129390:  10%|#####                                             | 2/20 [00:15<02:10,  7.27s/it]"
     ]
    },
    {
     "name": "stdout",
     "output_type": "stream",
     "text": [
      "[700]\tcv_agg's l2: 0.129743 + 0.0269066\n",
      "Early stopping, best iteration is:\n",
      "[619]\tcv_agg's l2: 0.12939 + 0.0267888\n",
      "[100]\tcv_agg's l2: 0.147036 + 0.0333207\n",
      "[200]\tcv_agg's l2: 0.140281 + 0.0306176\n",
      "[300]\tcv_agg's l2: 0.137577 + 0.0294058\n",
      "[400]\tcv_agg's l2: 0.136805 + 0.0297277\n",
      "[500]\tcv_agg's l2: 0.136287 + 0.0294839\n",
      "[600]\tcv_agg's l2: 0.13618 + 0.0294505\n"
     ]
    },
    {
     "name": "stderr",
     "output_type": "stream",
     "text": [
      "num_leaves, val_score: 0.129390:  15%|#######5                                          | 3/20 [00:20<01:44,  6.16s/it][I 2023-10-28 18:12:02,893] Trial 9 finished with value: 0.13610093674927454 and parameters: {'num_leaves': 12}. Best is trial 8 with value: 0.1293900315452457.\n",
      "num_leaves, val_score: 0.129390:  15%|#######5                                          | 3/20 [00:20<01:44,  6.16s/it]"
     ]
    },
    {
     "name": "stdout",
     "output_type": "stream",
     "text": [
      "[700]\tcv_agg's l2: 0.136127 + 0.0294112\n",
      "Early stopping, best iteration is:\n",
      "[619]\tcv_agg's l2: 0.12939 + 0.0267888\n",
      "[100]\tcv_agg's l2: 0.140171 + 0.0324951\n",
      "[200]\tcv_agg's l2: 0.134115 + 0.0306861\n",
      "[300]\tcv_agg's l2: 0.133274 + 0.0300347\n",
      "[400]\tcv_agg's l2: 0.132603 + 0.0296978\n",
      "[500]\tcv_agg's l2: 0.132291 + 0.0296754\n",
      "[600]\tcv_agg's l2: 0.132233 + 0.0295984\n",
      "[700]\tcv_agg's l2: 0.132313 + 0.0296672\n"
     ]
    },
    {
     "name": "stderr",
     "output_type": "stream",
     "text": [
      "num_leaves, val_score: 0.129390:  20%|##########                                        | 4/20 [00:29<01:56,  7.27s/it][I 2023-10-28 18:12:11,872] Trial 10 finished with value: 0.1322395506536761 and parameters: {'num_leaves': 230}. Best is trial 8 with value: 0.1293900315452457.\n",
      "num_leaves, val_score: 0.129390:  20%|##########                                        | 4/20 [00:29<01:56,  7.27s/it]"
     ]
    },
    {
     "name": "stdout",
     "output_type": "stream",
     "text": [
      "Early stopping, best iteration is:\n",
      "[619]\tcv_agg's l2: 0.12939 + 0.0267888\n",
      "[100]\tcv_agg's l2: 0.140171 + 0.0324951\n",
      "[200]\tcv_agg's l2: 0.134115 + 0.0306861\n",
      "[300]\tcv_agg's l2: 0.133274 + 0.0300347\n",
      "[400]\tcv_agg's l2: 0.132603 + 0.0296978\n",
      "[500]\tcv_agg's l2: 0.132291 + 0.0296754\n",
      "[600]\tcv_agg's l2: 0.132233 + 0.0295984\n",
      "[700]\tcv_agg's l2: 0.132313 + 0.0296672\n"
     ]
    },
    {
     "name": "stderr",
     "output_type": "stream",
     "text": [
      "num_leaves, val_score: 0.129390:  25%|############5                                     | 5/20 [00:38<02:02,  8.14s/it][I 2023-10-28 18:12:21,541] Trial 11 finished with value: 0.1322395506536761 and parameters: {'num_leaves': 132}. Best is trial 8 with value: 0.1293900315452457.\n",
      "num_leaves, val_score: 0.129390:  25%|############5                                     | 5/20 [00:38<02:02,  8.14s/it]"
     ]
    },
    {
     "name": "stdout",
     "output_type": "stream",
     "text": [
      "Early stopping, best iteration is:\n",
      "[619]\tcv_agg's l2: 0.12939 + 0.0267888\n",
      "[100]\tcv_agg's l2: 0.140171 + 0.0324951\n",
      "[200]\tcv_agg's l2: 0.134115 + 0.0306861\n",
      "[300]\tcv_agg's l2: 0.133274 + 0.0300347\n",
      "[400]\tcv_agg's l2: 0.132603 + 0.0296978\n",
      "[500]\tcv_agg's l2: 0.132291 + 0.0296754\n",
      "[600]\tcv_agg's l2: 0.132233 + 0.0295984\n",
      "[700]\tcv_agg's l2: 0.132313 + 0.0296672\n"
     ]
    },
    {
     "name": "stderr",
     "output_type": "stream",
     "text": [
      "num_leaves, val_score: 0.129390:  30%|###############                                   | 6/20 [00:48<02:00,  8.57s/it][I 2023-10-28 18:12:30,957] Trial 12 finished with value: 0.1322395506536761 and parameters: {'num_leaves': 108}. Best is trial 8 with value: 0.1293900315452457.\n",
      "num_leaves, val_score: 0.129390:  30%|###############                                   | 6/20 [00:48<02:00,  8.57s/it]"
     ]
    },
    {
     "name": "stdout",
     "output_type": "stream",
     "text": [
      "Early stopping, best iteration is:\n",
      "[619]\tcv_agg's l2: 0.12939 + 0.0267888\n",
      "[100]\tcv_agg's l2: 0.196464 + 0.0352761\n",
      "[200]\tcv_agg's l2: 0.176984 + 0.0343154\n",
      "[300]\tcv_agg's l2: 0.168447 + 0.0332883\n",
      "[400]\tcv_agg's l2: 0.162969 + 0.0317499\n",
      "[500]\tcv_agg's l2: 0.15905 + 0.0316013\n",
      "[600]\tcv_agg's l2: 0.155783 + 0.0317278\n"
     ]
    },
    {
     "name": "stderr",
     "output_type": "stream",
     "text": [
      "num_leaves, val_score: 0.129390:  35%|#################5                                | 7/20 [00:50<01:24,  6.53s/it][I 2023-10-28 18:12:33,284] Trial 13 finished with value: 0.15529299262616333 and parameters: {'num_leaves': 4}. Best is trial 8 with value: 0.1293900315452457.\n",
      "num_leaves, val_score: 0.129390:  35%|#################5                                | 7/20 [00:50<01:24,  6.53s/it]"
     ]
    },
    {
     "name": "stdout",
     "output_type": "stream",
     "text": [
      "[700]\tcv_agg's l2: 0.153493 + 0.0313067\n",
      "Early stopping, best iteration is:\n",
      "[619]\tcv_agg's l2: 0.12939 + 0.0267888\n",
      "[100]\tcv_agg's l2: 0.140171 + 0.0324951\n",
      "[200]\tcv_agg's l2: 0.134115 + 0.0306861\n",
      "[300]\tcv_agg's l2: 0.133274 + 0.0300347\n",
      "[400]\tcv_agg's l2: 0.132603 + 0.0296978\n",
      "[500]\tcv_agg's l2: 0.132291 + 0.0296754\n",
      "[600]\tcv_agg's l2: 0.132233 + 0.0295984\n",
      "[700]\tcv_agg's l2: 0.132313 + 0.0296672\n"
     ]
    },
    {
     "name": "stderr",
     "output_type": "stream",
     "text": [
      "num_leaves, val_score: 0.129390:  40%|####################                              | 8/20 [01:00<01:31,  7.62s/it][I 2023-10-28 18:12:43,225] Trial 14 finished with value: 0.1322395506536761 and parameters: {'num_leaves': 188}. Best is trial 8 with value: 0.1293900315452457.\n",
      "num_leaves, val_score: 0.129390:  40%|####################                              | 8/20 [01:00<01:31,  7.62s/it]"
     ]
    },
    {
     "name": "stdout",
     "output_type": "stream",
     "text": [
      "Early stopping, best iteration is:\n",
      "[619]\tcv_agg's l2: 0.12939 + 0.0267888\n",
      "[100]\tcv_agg's l2: 0.140171 + 0.0324951\n",
      "[200]\tcv_agg's l2: 0.134115 + 0.0306861\n",
      "[300]\tcv_agg's l2: 0.133274 + 0.0300347\n",
      "[400]\tcv_agg's l2: 0.132603 + 0.0296978\n",
      "[500]\tcv_agg's l2: 0.132291 + 0.0296754\n",
      "[600]\tcv_agg's l2: 0.132233 + 0.0295984\n",
      "[700]\tcv_agg's l2: 0.132313 + 0.0296672\n"
     ]
    },
    {
     "name": "stderr",
     "output_type": "stream",
     "text": [
      "num_leaves, val_score: 0.129390:  45%|######################5                           | 9/20 [01:10<01:31,  8.31s/it][I 2023-10-28 18:12:53,047] Trial 15 finished with value: 0.1322395506536761 and parameters: {'num_leaves': 86}. Best is trial 8 with value: 0.1293900315452457.\n",
      "num_leaves, val_score: 0.129390:  45%|######################5                           | 9/20 [01:10<01:31,  8.31s/it]"
     ]
    },
    {
     "name": "stdout",
     "output_type": "stream",
     "text": [
      "Early stopping, best iteration is:\n",
      "[619]\tcv_agg's l2: 0.12939 + 0.0267888\n",
      "[100]\tcv_agg's l2: 0.140171 + 0.0324951\n",
      "[200]\tcv_agg's l2: 0.134115 + 0.0306861\n",
      "[300]\tcv_agg's l2: 0.133274 + 0.0300347\n",
      "[400]\tcv_agg's l2: 0.132603 + 0.0296978\n",
      "[500]\tcv_agg's l2: 0.132291 + 0.0296754\n",
      "[600]\tcv_agg's l2: 0.132233 + 0.0295984\n",
      "[700]\tcv_agg's l2: 0.132313 + 0.0296672\n"
     ]
    },
    {
     "name": "stderr",
     "output_type": "stream",
     "text": [
      "num_leaves, val_score: 0.129390:  50%|########################5                        | 10/20 [01:20<01:27,  8.79s/it][I 2023-10-28 18:13:02,937] Trial 16 finished with value: 0.1322395506536761 and parameters: {'num_leaves': 173}. Best is trial 8 with value: 0.1293900315452457.\n",
      "num_leaves, val_score: 0.129390:  50%|########################5                        | 10/20 [01:20<01:27,  8.79s/it]"
     ]
    },
    {
     "name": "stdout",
     "output_type": "stream",
     "text": [
      "Early stopping, best iteration is:\n",
      "[619]\tcv_agg's l2: 0.12939 + 0.0267888\n",
      "[100]\tcv_agg's l2: 0.140171 + 0.0324951\n",
      "[200]\tcv_agg's l2: 0.134115 + 0.0306861\n",
      "[300]\tcv_agg's l2: 0.133274 + 0.0300347\n",
      "[400]\tcv_agg's l2: 0.132603 + 0.0296978\n",
      "[500]\tcv_agg's l2: 0.132291 + 0.0296754\n",
      "[600]\tcv_agg's l2: 0.132233 + 0.0295984\n",
      "[700]\tcv_agg's l2: 0.132313 + 0.0296672\n"
     ]
    },
    {
     "name": "stderr",
     "output_type": "stream",
     "text": [
      "num_leaves, val_score: 0.129390:  55%|##########################9                      | 11/20 [01:29<01:21,  9.04s/it][I 2023-10-28 18:13:12,535] Trial 17 finished with value: 0.1322395506536761 and parameters: {'num_leaves': 48}. Best is trial 8 with value: 0.1293900315452457.\n",
      "num_leaves, val_score: 0.129390:  55%|##########################9                      | 11/20 [01:29<01:21,  9.04s/it]"
     ]
    },
    {
     "name": "stdout",
     "output_type": "stream",
     "text": [
      "Early stopping, best iteration is:\n",
      "[619]\tcv_agg's l2: 0.12939 + 0.0267888\n",
      "[100]\tcv_agg's l2: 0.140171 + 0.0324951\n",
      "[200]\tcv_agg's l2: 0.134115 + 0.0306861\n",
      "[300]\tcv_agg's l2: 0.133274 + 0.0300347\n",
      "[400]\tcv_agg's l2: 0.132603 + 0.0296978\n",
      "[500]\tcv_agg's l2: 0.132291 + 0.0296754\n",
      "[600]\tcv_agg's l2: 0.132233 + 0.0295984\n",
      "[700]\tcv_agg's l2: 0.132313 + 0.0296672\n"
     ]
    },
    {
     "name": "stderr",
     "output_type": "stream",
     "text": [
      "num_leaves, val_score: 0.129390:  60%|#############################4                   | 12/20 [01:39<01:13,  9.18s/it][I 2023-10-28 18:13:22,018] Trial 18 finished with value: 0.1322395506536761 and parameters: {'num_leaves': 147}. Best is trial 8 with value: 0.1293900315452457.\n",
      "num_leaves, val_score: 0.129390:  60%|#############################4                   | 12/20 [01:39<01:13,  9.18s/it]"
     ]
    },
    {
     "name": "stdout",
     "output_type": "stream",
     "text": [
      "Early stopping, best iteration is:\n",
      "[619]\tcv_agg's l2: 0.12939 + 0.0267888\n",
      "[100]\tcv_agg's l2: 0.140171 + 0.0324951\n",
      "[200]\tcv_agg's l2: 0.134115 + 0.0306861\n",
      "[300]\tcv_agg's l2: 0.133274 + 0.0300347\n",
      "[400]\tcv_agg's l2: 0.132603 + 0.0296978\n",
      "[500]\tcv_agg's l2: 0.132291 + 0.0296754\n",
      "[600]\tcv_agg's l2: 0.132233 + 0.0295984\n",
      "[700]\tcv_agg's l2: 0.132313 + 0.0296672\n"
     ]
    },
    {
     "name": "stderr",
     "output_type": "stream",
     "text": [
      "num_leaves, val_score: 0.129390:  65%|###############################8                 | 13/20 [01:48<01:04,  9.28s/it][I 2023-10-28 18:13:31,543] Trial 19 finished with value: 0.1322395506536761 and parameters: {'num_leaves': 253}. Best is trial 8 with value: 0.1293900315452457.\n",
      "num_leaves, val_score: 0.129390:  65%|###############################8                 | 13/20 [01:48<01:04,  9.28s/it]"
     ]
    },
    {
     "name": "stdout",
     "output_type": "stream",
     "text": [
      "Early stopping, best iteration is:\n",
      "[619]\tcv_agg's l2: 0.12939 + 0.0267888\n",
      "[100]\tcv_agg's l2: 0.140171 + 0.0324951\n",
      "[200]\tcv_agg's l2: 0.134115 + 0.0306861\n",
      "[300]\tcv_agg's l2: 0.133274 + 0.0300347\n",
      "[400]\tcv_agg's l2: 0.132603 + 0.0296978\n",
      "[500]\tcv_agg's l2: 0.132291 + 0.0296754\n",
      "[600]\tcv_agg's l2: 0.132233 + 0.0295984\n",
      "[700]\tcv_agg's l2: 0.132313 + 0.0296672\n"
     ]
    },
    {
     "name": "stderr",
     "output_type": "stream",
     "text": [
      "num_leaves, val_score: 0.129390:  70%|##################################3              | 14/20 [01:58<00:55,  9.28s/it][I 2023-10-28 18:13:40,834] Trial 20 finished with value: 0.1322395506536761 and parameters: {'num_leaves': 52}. Best is trial 8 with value: 0.1293900315452457.\n",
      "num_leaves, val_score: 0.129390:  70%|##################################3              | 14/20 [01:58<00:55,  9.28s/it]"
     ]
    },
    {
     "name": "stdout",
     "output_type": "stream",
     "text": [
      "Early stopping, best iteration is:\n",
      "[619]\tcv_agg's l2: 0.12939 + 0.0267888\n",
      "[100]\tcv_agg's l2: 0.140171 + 0.0324951\n",
      "[200]\tcv_agg's l2: 0.134115 + 0.0306861\n",
      "[300]\tcv_agg's l2: 0.133274 + 0.0300347\n",
      "[400]\tcv_agg's l2: 0.132603 + 0.0296978\n",
      "[500]\tcv_agg's l2: 0.132291 + 0.0296754\n",
      "[600]\tcv_agg's l2: 0.132233 + 0.0295984\n",
      "[700]\tcv_agg's l2: 0.132313 + 0.0296672\n"
     ]
    },
    {
     "name": "stderr",
     "output_type": "stream",
     "text": [
      "num_leaves, val_score: 0.129390:  75%|####################################7            | 15/20 [02:07<00:46,  9.27s/it][I 2023-10-28 18:13:50,075] Trial 21 finished with value: 0.1322395506536761 and parameters: {'num_leaves': 56}. Best is trial 8 with value: 0.1293900315452457.\n",
      "num_leaves, val_score: 0.129390:  75%|####################################7            | 15/20 [02:07<00:46,  9.27s/it]"
     ]
    },
    {
     "name": "stdout",
     "output_type": "stream",
     "text": [
      "Early stopping, best iteration is:\n",
      "[619]\tcv_agg's l2: 0.12939 + 0.0267888\n",
      "[100]\tcv_agg's l2: 0.139469 + 0.0315395\n",
      "[200]\tcv_agg's l2: 0.134603 + 0.0311892\n",
      "[300]\tcv_agg's l2: 0.133674 + 0.0305558\n",
      "[400]\tcv_agg's l2: 0.133227 + 0.0304685\n",
      "[500]\tcv_agg's l2: 0.133066 + 0.0303532\n",
      "[600]\tcv_agg's l2: 0.133051 + 0.0303875\n",
      "[700]\tcv_agg's l2: 0.133026 + 0.0302808\n"
     ]
    },
    {
     "name": "stderr",
     "output_type": "stream",
     "text": [
      "num_leaves, val_score: 0.129390:  80%|#######################################2         | 16/20 [02:16<00:37,  9.30s/it][I 2023-10-28 18:13:59,456] Trial 22 finished with value: 0.13300628446248272 and parameters: {'num_leaves': 28}. Best is trial 8 with value: 0.1293900315452457.\n",
      "num_leaves, val_score: 0.129390:  80%|#######################################2         | 16/20 [02:16<00:37,  9.30s/it]"
     ]
    },
    {
     "name": "stdout",
     "output_type": "stream",
     "text": [
      "Early stopping, best iteration is:\n",
      "[619]\tcv_agg's l2: 0.12939 + 0.0267888\n",
      "[100]\tcv_agg's l2: 0.140171 + 0.0324951\n",
      "[200]\tcv_agg's l2: 0.134115 + 0.0306861\n",
      "[300]\tcv_agg's l2: 0.133274 + 0.0300347\n",
      "[400]\tcv_agg's l2: 0.132603 + 0.0296978\n",
      "[500]\tcv_agg's l2: 0.132291 + 0.0296754\n",
      "[600]\tcv_agg's l2: 0.132233 + 0.0295984\n",
      "[700]\tcv_agg's l2: 0.132313 + 0.0296672\n"
     ]
    },
    {
     "name": "stderr",
     "output_type": "stream",
     "text": [
      "num_leaves, val_score: 0.129390:  85%|#########################################6       | 17/20 [02:27<00:28,  9.66s/it][I 2023-10-28 18:14:09,960] Trial 23 finished with value: 0.1322395506536761 and parameters: {'num_leaves': 73}. Best is trial 8 with value: 0.1293900315452457.\n",
      "num_leaves, val_score: 0.129390:  85%|#########################################6       | 17/20 [02:27<00:28,  9.66s/it]"
     ]
    },
    {
     "name": "stdout",
     "output_type": "stream",
     "text": [
      "Early stopping, best iteration is:\n",
      "[619]\tcv_agg's l2: 0.12939 + 0.0267888\n",
      "[100]\tcv_agg's l2: 0.140171 + 0.0324951\n",
      "[200]\tcv_agg's l2: 0.134115 + 0.0306861\n",
      "[300]\tcv_agg's l2: 0.133274 + 0.0300347\n",
      "[400]\tcv_agg's l2: 0.132603 + 0.0296978\n",
      "[500]\tcv_agg's l2: 0.132291 + 0.0296754\n",
      "[600]\tcv_agg's l2: 0.132233 + 0.0295984\n",
      "[700]\tcv_agg's l2: 0.132313 + 0.0296672\n"
     ]
    },
    {
     "name": "stderr",
     "output_type": "stream",
     "text": [
      "num_leaves, val_score: 0.129390:  90%|############################################1    | 18/20 [02:36<00:19,  9.55s/it][I 2023-10-28 18:14:19,249] Trial 24 finished with value: 0.1322395506536761 and parameters: {'num_leaves': 90}. Best is trial 8 with value: 0.1293900315452457.\n",
      "num_leaves, val_score: 0.129390:  90%|############################################1    | 18/20 [02:36<00:19,  9.55s/it]"
     ]
    },
    {
     "name": "stdout",
     "output_type": "stream",
     "text": [
      "Early stopping, best iteration is:\n",
      "[619]\tcv_agg's l2: 0.12939 + 0.0267888\n",
      "[100]\tcv_agg's l2: 0.140171 + 0.0324951\n",
      "[200]\tcv_agg's l2: 0.134115 + 0.0306861\n",
      "[300]\tcv_agg's l2: 0.133274 + 0.0300347\n",
      "[400]\tcv_agg's l2: 0.132603 + 0.0296978\n",
      "[500]\tcv_agg's l2: 0.132291 + 0.0296754\n",
      "[600]\tcv_agg's l2: 0.132233 + 0.0295984\n",
      "[700]\tcv_agg's l2: 0.132313 + 0.0296672\n"
     ]
    },
    {
     "name": "stderr",
     "output_type": "stream",
     "text": [
      "num_leaves, val_score: 0.129390:  95%|##############################################5  | 19/20 [02:46<00:09,  9.65s/it][I 2023-10-28 18:14:29,111] Trial 25 finished with value: 0.1322395506536761 and parameters: {'num_leaves': 30}. Best is trial 8 with value: 0.1293900315452457.\n",
      "num_leaves, val_score: 0.129390:  95%|##############################################5  | 19/20 [02:46<00:09,  9.65s/it]"
     ]
    },
    {
     "name": "stdout",
     "output_type": "stream",
     "text": [
      "Early stopping, best iteration is:\n",
      "[619]\tcv_agg's l2: 0.12939 + 0.0267888\n",
      "[100]\tcv_agg's l2: 0.140171 + 0.0324951\n",
      "[200]\tcv_agg's l2: 0.134115 + 0.0306861\n",
      "[300]\tcv_agg's l2: 0.133274 + 0.0300347\n",
      "[400]\tcv_agg's l2: 0.132603 + 0.0296978\n",
      "[500]\tcv_agg's l2: 0.132291 + 0.0296754\n",
      "[600]\tcv_agg's l2: 0.132233 + 0.0295984\n",
      "[700]\tcv_agg's l2: 0.132313 + 0.0296672\n"
     ]
    },
    {
     "name": "stderr",
     "output_type": "stream",
     "text": [
      "num_leaves, val_score: 0.129390: 100%|#################################################| 20/20 [02:55<00:00,  9.59s/it][I 2023-10-28 18:14:38,556] Trial 26 finished with value: 0.1322395506536761 and parameters: {'num_leaves': 115}. Best is trial 8 with value: 0.1293900315452457.\n",
      "num_leaves, val_score: 0.129390: 100%|#################################################| 20/20 [02:55<00:00,  8.79s/it]\n"
     ]
    },
    {
     "name": "stdout",
     "output_type": "stream",
     "text": [
      "Early stopping, best iteration is:\n",
      "[619]\tcv_agg's l2: 0.12939 + 0.0267888\n"
     ]
    },
    {
     "name": "stderr",
     "output_type": "stream",
     "text": [
      "bagging, val_score: 0.129390:   0%|                                                             | 0/10 [00:00<?, ?it/s]"
     ]
    },
    {
     "name": "stdout",
     "output_type": "stream",
     "text": [
      "[100]\tcv_agg's l2: 0.156646 + 0.0217755\n",
      "[200]\tcv_agg's l2: 0.149476 + 0.020186\n",
      "[300]\tcv_agg's l2: 0.147898 + 0.0189253\n",
      "[400]\tcv_agg's l2: 0.146412 + 0.0201272\n",
      "[500]\tcv_agg's l2: 0.146671 + 0.0214761\n",
      "[600]\tcv_agg's l2: 0.147313 + 0.0214966\n"
     ]
    },
    {
     "name": "stderr",
     "output_type": "stream",
     "text": [
      "bagging, val_score: 0.129390:  10%|#####3                                               | 1/10 [00:05<00:47,  5.25s/it][I 2023-10-28 18:14:43,818] Trial 27 finished with value: 0.14771637159362772 and parameters: {'bagging_fraction': 0.6581451175551166, 'bagging_freq': 2}. Best is trial 27 with value: 0.14771637159362772.\n",
      "bagging, val_score: 0.129390:  10%|#####3                                               | 1/10 [00:05<00:47,  5.25s/it]"
     ]
    },
    {
     "name": "stdout",
     "output_type": "stream",
     "text": [
      "[700]\tcv_agg's l2: 0.147625 + 0.0219247\n",
      "Early stopping, best iteration is:\n",
      "[619]\tcv_agg's l2: 0.12939 + 0.0267888\n",
      "[100]\tcv_agg's l2: 0.141879 + 0.0280236\n",
      "[200]\tcv_agg's l2: 0.13333 + 0.0257522\n",
      "[300]\tcv_agg's l2: 0.130952 + 0.024847\n",
      "[400]\tcv_agg's l2: 0.129737 + 0.0243564\n",
      "[500]\tcv_agg's l2: 0.129062 + 0.0241057\n",
      "[600]\tcv_agg's l2: 0.128742 + 0.0241581\n",
      "[700]\tcv_agg's l2: 0.128904 + 0.0239739\n"
     ]
    },
    {
     "name": "stderr",
     "output_type": "stream",
     "text": [
      "bagging, val_score: 0.128508:  20%|##########6                                          | 2/10 [00:10<00:42,  5.31s/it][I 2023-10-28 18:14:49,162] Trial 28 finished with value: 0.12850798813390632 and parameters: {'bagging_fraction': 0.9937438946262684, 'bagging_freq': 7}. Best is trial 28 with value: 0.12850798813390632.\n",
      "bagging, val_score: 0.128508:  20%|##########6                                          | 2/10 [00:10<00:42,  5.31s/it]"
     ]
    },
    {
     "name": "stdout",
     "output_type": "stream",
     "text": [
      "Early stopping, best iteration is:\n",
      "[636]\tcv_agg's l2: 0.128508 + 0.0241702\n",
      "[100]\tcv_agg's l2: 0.144918 + 0.0331308\n",
      "[200]\tcv_agg's l2: 0.13621 + 0.0305959\n",
      "[300]\tcv_agg's l2: 0.133684 + 0.03002\n",
      "[400]\tcv_agg's l2: 0.132892 + 0.0300773\n",
      "[500]\tcv_agg's l2: 0.132433 + 0.0299125\n",
      "[600]\tcv_agg's l2: 0.131963 + 0.0299151\n",
      "[700]\tcv_agg's l2: 0.131969 + 0.0297413\n"
     ]
    },
    {
     "name": "stderr",
     "output_type": "stream",
     "text": [
      "bagging, val_score: 0.128508:  30%|###############9                                     | 3/10 [00:15<00:37,  5.31s/it][I 2023-10-28 18:14:54,477] Trial 29 finished with value: 0.1318923679964845 and parameters: {'bagging_fraction': 0.9870525752237175, 'bagging_freq': 7}. Best is trial 28 with value: 0.12850798813390632.\n",
      "bagging, val_score: 0.128508:  30%|###############9                                     | 3/10 [00:15<00:37,  5.31s/it]"
     ]
    },
    {
     "name": "stdout",
     "output_type": "stream",
     "text": [
      "Early stopping, best iteration is:\n",
      "[636]\tcv_agg's l2: 0.128508 + 0.0241702\n",
      "[100]\tcv_agg's l2: 0.144684 + 0.0325699\n",
      "[200]\tcv_agg's l2: 0.137798 + 0.0309677\n",
      "[300]\tcv_agg's l2: 0.135507 + 0.0298755\n",
      "[400]\tcv_agg's l2: 0.134046 + 0.0291813\n",
      "[500]\tcv_agg's l2: 0.133337 + 0.0288666\n",
      "[600]\tcv_agg's l2: 0.132758 + 0.0284973\n",
      "[700]\tcv_agg's l2: 0.132638 + 0.0284762\n"
     ]
    },
    {
     "name": "stderr",
     "output_type": "stream",
     "text": [
      "bagging, val_score: 0.128508:  40%|#####################2                               | 4/10 [00:20<00:31,  5.21s/it][I 2023-10-28 18:14:59,536] Trial 30 finished with value: 0.1328098558301321 and parameters: {'bagging_fraction': 0.9973774982638299, 'bagging_freq': 7}. Best is trial 28 with value: 0.12850798813390632.\n",
      "bagging, val_score: 0.128508:  40%|#####################2                               | 4/10 [00:20<00:31,  5.21s/it]"
     ]
    },
    {
     "name": "stdout",
     "output_type": "stream",
     "text": [
      "Early stopping, best iteration is:\n",
      "[636]\tcv_agg's l2: 0.128508 + 0.0241702\n",
      "[100]\tcv_agg's l2: 0.144382 + 0.0284804\n",
      "[200]\tcv_agg's l2: 0.137757 + 0.0262258\n",
      "[300]\tcv_agg's l2: 0.135193 + 0.0245526\n",
      "[400]\tcv_agg's l2: 0.134357 + 0.0244928\n",
      "[500]\tcv_agg's l2: 0.13377 + 0.0235734\n",
      "[600]\tcv_agg's l2: 0.133729 + 0.0233291\n",
      "[700]\tcv_agg's l2: 0.133757 + 0.0234414\n"
     ]
    },
    {
     "name": "stderr",
     "output_type": "stream",
     "text": [
      "bagging, val_score: 0.128508:  50%|##########################5                          | 5/10 [00:26<00:26,  5.25s/it][I 2023-10-28 18:15:04,844] Trial 31 finished with value: 0.1340490462018789 and parameters: {'bagging_fraction': 0.9899890730055183, 'bagging_freq': 7}. Best is trial 28 with value: 0.12850798813390632.\n",
      "bagging, val_score: 0.128508:  50%|##########################5                          | 5/10 [00:26<00:26,  5.25s/it]"
     ]
    },
    {
     "name": "stdout",
     "output_type": "stream",
     "text": [
      "Early stopping, best iteration is:\n",
      "[636]\tcv_agg's l2: 0.128508 + 0.0241702\n",
      "[100]\tcv_agg's l2: 0.153844 + 0.0352644\n",
      "[200]\tcv_agg's l2: 0.145453 + 0.0368882\n",
      "[300]\tcv_agg's l2: 0.14318 + 0.0365243\n",
      "[400]\tcv_agg's l2: 0.142143 + 0.0364387\n",
      "[500]\tcv_agg's l2: 0.142233 + 0.0363914\n",
      "[600]\tcv_agg's l2: 0.141252 + 0.0357618\n",
      "[700]\tcv_agg's l2: 0.141428 + 0.0357329\n"
     ]
    },
    {
     "name": "stderr",
     "output_type": "stream",
     "text": [
      "bagging, val_score: 0.128508:  60%|###############################8                     | 6/10 [00:31<00:20,  5.23s/it][I 2023-10-28 18:15:10,039] Trial 32 finished with value: 0.14116653790179862 and parameters: {'bagging_fraction': 0.8877490573268273, 'bagging_freq': 6}. Best is trial 28 with value: 0.12850798813390632.\n",
      "bagging, val_score: 0.128508:  60%|###############################8                     | 6/10 [00:31<00:20,  5.23s/it]"
     ]
    },
    {
     "name": "stdout",
     "output_type": "stream",
     "text": [
      "Early stopping, best iteration is:\n",
      "[636]\tcv_agg's l2: 0.128508 + 0.0241702\n",
      "[100]\tcv_agg's l2: 0.191347 + 0.0322904\n",
      "[200]\tcv_agg's l2: 0.181785 + 0.032845\n",
      "[300]\tcv_agg's l2: 0.178718 + 0.030002\n",
      "[400]\tcv_agg's l2: 0.179253 + 0.0301459\n",
      "[500]\tcv_agg's l2: 0.177582 + 0.0314749\n",
      "[600]\tcv_agg's l2: 0.177949 + 0.0324178\n",
      "[700]\tcv_agg's l2: 0.178278 + 0.032615\n"
     ]
    },
    {
     "name": "stderr",
     "output_type": "stream",
     "text": [
      "bagging, val_score: 0.128508:  70%|#####################################                | 7/10 [00:36<00:15,  5.16s/it][I 2023-10-28 18:15:15,045] Trial 33 finished with value: 0.177160841965531 and parameters: {'bagging_fraction': 0.4527556031002722, 'bagging_freq': 4}. Best is trial 28 with value: 0.12850798813390632.\n",
      "bagging, val_score: 0.128508:  70%|#####################################                | 7/10 [00:36<00:15,  5.16s/it]"
     ]
    },
    {
     "name": "stdout",
     "output_type": "stream",
     "text": [
      "Early stopping, best iteration is:\n",
      "[636]\tcv_agg's l2: 0.128508 + 0.0241702\n",
      "[100]\tcv_agg's l2: 0.158484 + 0.0372348\n",
      "[200]\tcv_agg's l2: 0.149022 + 0.0365799\n",
      "[300]\tcv_agg's l2: 0.147877 + 0.0353303\n",
      "[400]\tcv_agg's l2: 0.147252 + 0.0359969\n",
      "[500]\tcv_agg's l2: 0.146654 + 0.0352726\n",
      "[600]\tcv_agg's l2: 0.146343 + 0.0347569\n",
      "[700]\tcv_agg's l2: 0.146175 + 0.034796\n"
     ]
    },
    {
     "name": "stderr",
     "output_type": "stream",
     "text": [
      "bagging, val_score: 0.128508:  80%|##########################################4          | 8/10 [00:41<00:10,  5.20s/it][I 2023-10-28 18:15:20,336] Trial 34 finished with value: 0.1466487270731543 and parameters: {'bagging_fraction': 0.8462685651652779, 'bagging_freq': 5}. Best is trial 28 with value: 0.12850798813390632.\n",
      "bagging, val_score: 0.128508:  80%|##########################################4          | 8/10 [00:41<00:10,  5.20s/it]"
     ]
    },
    {
     "name": "stdout",
     "output_type": "stream",
     "text": [
      "Early stopping, best iteration is:\n",
      "[636]\tcv_agg's l2: 0.128508 + 0.0241702\n",
      "[100]\tcv_agg's l2: 0.1615 + 0.0348324\n",
      "[200]\tcv_agg's l2: 0.152439 + 0.0346202\n",
      "[300]\tcv_agg's l2: 0.150989 + 0.0346828\n",
      "[400]\tcv_agg's l2: 0.150227 + 0.0347515\n",
      "[500]\tcv_agg's l2: 0.150436 + 0.0349816\n",
      "[600]\tcv_agg's l2: 0.150054 + 0.0348731\n",
      "[700]\tcv_agg's l2: 0.149978 + 0.0347973\n"
     ]
    },
    {
     "name": "stderr",
     "output_type": "stream",
     "text": [
      "bagging, val_score: 0.128508:  90%|###############################################7     | 9/10 [00:47<00:05,  5.22s/it][I 2023-10-28 18:15:25,600] Trial 35 finished with value: 0.14995360856431042 and parameters: {'bagging_fraction': 0.8366601828905617, 'bagging_freq': 4}. Best is trial 28 with value: 0.12850798813390632.\n",
      "bagging, val_score: 0.128508:  90%|###############################################7     | 9/10 [00:47<00:05,  5.22s/it]"
     ]
    },
    {
     "name": "stdout",
     "output_type": "stream",
     "text": [
      "Early stopping, best iteration is:\n",
      "[636]\tcv_agg's l2: 0.128508 + 0.0241702\n",
      "[100]\tcv_agg's l2: 0.141967 + 0.0306313\n",
      "[200]\tcv_agg's l2: 0.134688 + 0.030022\n",
      "[300]\tcv_agg's l2: 0.131565 + 0.0283739\n",
      "[400]\tcv_agg's l2: 0.130463 + 0.0277319\n",
      "[500]\tcv_agg's l2: 0.12987 + 0.0271318\n",
      "[600]\tcv_agg's l2: 0.129673 + 0.0269092\n",
      "[700]\tcv_agg's l2: 0.129743 + 0.0269066\n"
     ]
    },
    {
     "name": "stderr",
     "output_type": "stream",
     "text": [
      "bagging, val_score: 0.128508: 100%|####################################################| 10/10 [00:52<00:00,  5.20s/it][I 2023-10-28 18:15:30,751] Trial 36 finished with value: 0.12952249535194332 and parameters: {'bagging_fraction': 0.9993141341815025, 'bagging_freq': 7}. Best is trial 28 with value: 0.12850798813390632.\n",
      "bagging, val_score: 0.128508: 100%|####################################################| 10/10 [00:52<00:00,  5.22s/it]\n"
     ]
    },
    {
     "name": "stdout",
     "output_type": "stream",
     "text": [
      "Early stopping, best iteration is:\n",
      "[636]\tcv_agg's l2: 0.128508 + 0.0241702\n"
     ]
    },
    {
     "name": "stderr",
     "output_type": "stream",
     "text": [
      "feature_fraction_stage2, val_score: 0.128508:   0%|                                              | 0/6 [00:00<?, ?it/s]"
     ]
    },
    {
     "name": "stdout",
     "output_type": "stream",
     "text": [
      "[100]\tcv_agg's l2: 0.144253 + 0.0288213\n",
      "[200]\tcv_agg's l2: 0.135449 + 0.0267034\n",
      "[300]\tcv_agg's l2: 0.132857 + 0.0260386\n",
      "[400]\tcv_agg's l2: 0.131508 + 0.0255752\n",
      "[500]\tcv_agg's l2: 0.131177 + 0.0257343\n",
      "[600]\tcv_agg's l2: 0.131188 + 0.0258991\n",
      "[700]\tcv_agg's l2: 0.13102 + 0.0257362\n"
     ]
    },
    {
     "name": "stderr",
     "output_type": "stream",
     "text": [
      "feature_fraction_stage2, val_score: 0.128508:  17%|######3                               | 1/6 [00:05<00:26,  5.35s/it][I 2023-10-28 18:15:36,105] Trial 37 finished with value: 0.13104417693003628 and parameters: {'feature_fraction': 0.516}. Best is trial 37 with value: 0.13104417693003628.\n",
      "feature_fraction_stage2, val_score: 0.128508:  17%|######3                               | 1/6 [00:05<00:26,  5.35s/it]"
     ]
    },
    {
     "name": "stdout",
     "output_type": "stream",
     "text": [
      "Early stopping, best iteration is:\n",
      "[636]\tcv_agg's l2: 0.128508 + 0.0241702\n",
      "[100]\tcv_agg's l2: 0.146324 + 0.0287366\n",
      "[200]\tcv_agg's l2: 0.136562 + 0.0266763\n",
      "[300]\tcv_agg's l2: 0.134487 + 0.0270055\n",
      "[400]\tcv_agg's l2: 0.133808 + 0.0271715\n",
      "[500]\tcv_agg's l2: 0.133715 + 0.0273435\n",
      "[600]\tcv_agg's l2: 0.133539 + 0.0273113\n",
      "[700]\tcv_agg's l2: 0.133485 + 0.0274519\n"
     ]
    },
    {
     "name": "stderr",
     "output_type": "stream",
     "text": [
      "feature_fraction_stage2, val_score: 0.128508:  33%|############6                         | 2/6 [00:10<00:20,  5.22s/it][I 2023-10-28 18:15:41,237] Trial 38 finished with value: 0.13345346186879822 and parameters: {'feature_fraction': 0.5479999999999999}. Best is trial 37 with value: 0.13104417693003628.\n",
      "feature_fraction_stage2, val_score: 0.128508:  33%|############6                         | 2/6 [00:10<00:20,  5.22s/it]"
     ]
    },
    {
     "name": "stdout",
     "output_type": "stream",
     "text": [
      "Early stopping, best iteration is:\n",
      "[636]\tcv_agg's l2: 0.128508 + 0.0241702\n",
      "[100]\tcv_agg's l2: 0.149253 + 0.0272179\n",
      "[200]\tcv_agg's l2: 0.138198 + 0.0269848\n",
      "[300]\tcv_agg's l2: 0.13522 + 0.0263542\n",
      "[400]\tcv_agg's l2: 0.13422 + 0.0266797\n",
      "[500]\tcv_agg's l2: 0.134191 + 0.0263092\n",
      "[600]\tcv_agg's l2: 0.134051 + 0.0265018\n",
      "[700]\tcv_agg's l2: 0.134148 + 0.0265855\n"
     ]
    },
    {
     "name": "stderr",
     "output_type": "stream",
     "text": [
      "feature_fraction_stage2, val_score: 0.128508:  50%|###################                   | 3/6 [00:15<00:15,  5.33s/it][I 2023-10-28 18:15:46,687] Trial 39 finished with value: 0.13398049026866377 and parameters: {'feature_fraction': 0.484}. Best is trial 37 with value: 0.13104417693003628.\n",
      "feature_fraction_stage2, val_score: 0.128508:  50%|###################                   | 3/6 [00:15<00:15,  5.33s/it]"
     ]
    },
    {
     "name": "stdout",
     "output_type": "stream",
     "text": [
      "Early stopping, best iteration is:\n",
      "[636]\tcv_agg's l2: 0.128508 + 0.0241702\n",
      "[100]\tcv_agg's l2: 0.148975 + 0.0287233\n",
      "[200]\tcv_agg's l2: 0.139478 + 0.0277732\n",
      "[300]\tcv_agg's l2: 0.135106 + 0.0267206\n",
      "[400]\tcv_agg's l2: 0.134449 + 0.0273712\n",
      "[500]\tcv_agg's l2: 0.134317 + 0.0267674\n",
      "[600]\tcv_agg's l2: 0.133928 + 0.0268268\n",
      "[700]\tcv_agg's l2: 0.133681 + 0.0267845\n"
     ]
    },
    {
     "name": "stderr",
     "output_type": "stream",
     "text": [
      "feature_fraction_stage2, val_score: 0.128508:  67%|#########################3            | 4/6 [00:21<00:10,  5.29s/it][I 2023-10-28 18:15:51,918] Trial 40 finished with value: 0.1338628494602458 and parameters: {'feature_fraction': 0.45199999999999996}. Best is trial 37 with value: 0.13104417693003628.\n",
      "feature_fraction_stage2, val_score: 0.128508:  67%|#########################3            | 4/6 [00:21<00:10,  5.29s/it]"
     ]
    },
    {
     "name": "stdout",
     "output_type": "stream",
     "text": [
      "Early stopping, best iteration is:\n",
      "[636]\tcv_agg's l2: 0.128508 + 0.0241702\n",
      "[100]\tcv_agg's l2: 0.160596 + 0.0350717\n",
      "[200]\tcv_agg's l2: 0.149887 + 0.0346322\n",
      "[300]\tcv_agg's l2: 0.146504 + 0.033365\n",
      "[400]\tcv_agg's l2: 0.145236 + 0.0329074\n",
      "[500]\tcv_agg's l2: 0.144775 + 0.0323002\n",
      "[600]\tcv_agg's l2: 0.14461 + 0.0322451\n",
      "[700]\tcv_agg's l2: 0.144823 + 0.0324211\n"
     ]
    },
    {
     "name": "stderr",
     "output_type": "stream",
     "text": [
      "feature_fraction_stage2, val_score: 0.128508:  83%|###############################6      | 5/6 [00:26<00:05,  5.31s/it][I 2023-10-28 18:15:57,279] Trial 41 finished with value: 0.14470224095224188 and parameters: {'feature_fraction': 0.42}. Best is trial 37 with value: 0.13104417693003628.\n",
      "feature_fraction_stage2, val_score: 0.128508:  83%|###############################6      | 5/6 [00:26<00:05,  5.31s/it]"
     ]
    },
    {
     "name": "stdout",
     "output_type": "stream",
     "text": [
      "Early stopping, best iteration is:\n",
      "[636]\tcv_agg's l2: 0.128508 + 0.0241702\n",
      "[100]\tcv_agg's l2: 0.147096 + 0.0353106\n",
      "[200]\tcv_agg's l2: 0.139243 + 0.0334903\n",
      "[300]\tcv_agg's l2: 0.136911 + 0.0322193\n",
      "[400]\tcv_agg's l2: 0.135875 + 0.0323565\n",
      "[500]\tcv_agg's l2: 0.135262 + 0.0322629\n",
      "[600]\tcv_agg's l2: 0.135165 + 0.032145\n",
      "[700]\tcv_agg's l2: 0.135102 + 0.0318676\n"
     ]
    },
    {
     "name": "stderr",
     "output_type": "stream",
     "text": [
      "feature_fraction_stage2, val_score: 0.128508: 100%|######################################| 6/6 [00:31<00:00,  5.28s/it][I 2023-10-28 18:16:02,488] Trial 42 finished with value: 0.13524305559995503 and parameters: {'feature_fraction': 0.58}. Best is trial 37 with value: 0.13104417693003628.\n",
      "feature_fraction_stage2, val_score: 0.128508: 100%|######################################| 6/6 [00:31<00:00,  5.29s/it]\n"
     ]
    },
    {
     "name": "stdout",
     "output_type": "stream",
     "text": [
      "Early stopping, best iteration is:\n",
      "[636]\tcv_agg's l2: 0.128508 + 0.0241702\n"
     ]
    },
    {
     "name": "stderr",
     "output_type": "stream",
     "text": [
      "regularization_factors, val_score: 0.128508:   0%|                                              | 0/20 [00:00<?, ?it/s]"
     ]
    },
    {
     "name": "stdout",
     "output_type": "stream",
     "text": [
      "[100]\tcv_agg's l2: 0.141879 + 0.0280236\n",
      "[200]\tcv_agg's l2: 0.13333 + 0.0257522\n",
      "[300]\tcv_agg's l2: 0.130952 + 0.0248471\n",
      "[400]\tcv_agg's l2: 0.130054 + 0.0248328\n",
      "[500]\tcv_agg's l2: 0.129277 + 0.0244235\n",
      "[600]\tcv_agg's l2: 0.129162 + 0.0247836\n",
      "[700]\tcv_agg's l2: 0.129356 + 0.0246378\n"
     ]
    },
    {
     "name": "stderr",
     "output_type": "stream",
     "text": [
      "regularization_factors, val_score: 0.128508:   5%|#9                                    | 1/20 [00:05<01:41,  5.36s/it][I 2023-10-28 18:16:07,857] Trial 43 finished with value: 0.12886000998014177 and parameters: {'lambda_l1': 3.1471075829252608e-06, 'lambda_l2': 5.536988048297425e-08}. Best is trial 43 with value: 0.12886000998014177.\n",
      "regularization_factors, val_score: 0.128508:   5%|#9                                    | 1/20 [00:05<01:41,  5.36s/it]"
     ]
    },
    {
     "name": "stdout",
     "output_type": "stream",
     "text": [
      "Early stopping, best iteration is:\n",
      "[636]\tcv_agg's l2: 0.128508 + 0.0241702\n",
      "[100]\tcv_agg's l2: 0.141879 + 0.0280236\n",
      "[200]\tcv_agg's l2: 0.13333 + 0.0257522\n",
      "[300]\tcv_agg's l2: 0.130952 + 0.0248471\n",
      "[400]\tcv_agg's l2: 0.130054 + 0.0248328\n",
      "[500]\tcv_agg's l2: 0.129277 + 0.0244235\n",
      "[600]\tcv_agg's l2: 0.129162 + 0.0247836\n",
      "[700]\tcv_agg's l2: 0.129356 + 0.0246377\n"
     ]
    },
    {
     "name": "stderr",
     "output_type": "stream",
     "text": [
      "regularization_factors, val_score: 0.128508:  10%|###8                                  | 2/20 [00:10<01:38,  5.45s/it][I 2023-10-28 18:16:13,369] Trial 44 finished with value: 0.1288600099776994 and parameters: {'lambda_l1': 2.469592055611088e-06, 'lambda_l2': 1.6215272444945862e-08}. Best is trial 44 with value: 0.1288600099776994.\n",
      "regularization_factors, val_score: 0.128508:  10%|###8                                  | 2/20 [00:10<01:38,  5.45s/it]"
     ]
    },
    {
     "name": "stdout",
     "output_type": "stream",
     "text": [
      "Early stopping, best iteration is:\n",
      "[636]\tcv_agg's l2: 0.128508 + 0.0241702\n",
      "[100]\tcv_agg's l2: 0.141879 + 0.0280236\n",
      "[200]\tcv_agg's l2: 0.13333 + 0.0257522\n",
      "[300]\tcv_agg's l2: 0.130952 + 0.024847\n",
      "[400]\tcv_agg's l2: 0.130054 + 0.0248328\n",
      "[500]\tcv_agg's l2: 0.129277 + 0.0244235\n",
      "[600]\tcv_agg's l2: 0.129162 + 0.0247836\n",
      "[700]\tcv_agg's l2: 0.129356 + 0.0246377\n"
     ]
    },
    {
     "name": "stderr",
     "output_type": "stream",
     "text": [
      "regularization_factors, val_score: 0.128508:  15%|#####7                                | 3/20 [00:16<01:32,  5.47s/it][I 2023-10-28 18:16:18,863] Trial 45 finished with value: 0.12886001012017814 and parameters: {'lambda_l1': 1.5339754973163405e-06, 'lambda_l2': 1.1324023118678853e-08}. Best is trial 44 with value: 0.1288600099776994.\n",
      "regularization_factors, val_score: 0.128508:  15%|#####7                                | 3/20 [00:16<01:32,  5.47s/it]"
     ]
    },
    {
     "name": "stdout",
     "output_type": "stream",
     "text": [
      "Early stopping, best iteration is:\n",
      "[636]\tcv_agg's l2: 0.128508 + 0.0241702\n",
      "[100]\tcv_agg's l2: 0.141879 + 0.0280236\n",
      "[200]\tcv_agg's l2: 0.13333 + 0.0257522\n",
      "[300]\tcv_agg's l2: 0.130952 + 0.024847\n",
      "[400]\tcv_agg's l2: 0.130054 + 0.0248328\n",
      "[500]\tcv_agg's l2: 0.129277 + 0.0244235\n",
      "[600]\tcv_agg's l2: 0.129162 + 0.0247836\n",
      "[700]\tcv_agg's l2: 0.129356 + 0.0246377\n"
     ]
    },
    {
     "name": "stderr",
     "output_type": "stream",
     "text": [
      "regularization_factors, val_score: 0.128508:  20%|#######6                              | 4/20 [00:21<01:26,  5.42s/it][I 2023-10-28 18:16:24,207] Trial 46 finished with value: 0.12886000999371117 and parameters: {'lambda_l1': 2.139632193751148e-06, 'lambda_l2': 1.0737732158614623e-08}. Best is trial 44 with value: 0.1288600099776994.\n",
      "regularization_factors, val_score: 0.128508:  20%|#######6                              | 4/20 [00:21<01:26,  5.42s/it]"
     ]
    },
    {
     "name": "stdout",
     "output_type": "stream",
     "text": [
      "Early stopping, best iteration is:\n",
      "[636]\tcv_agg's l2: 0.128508 + 0.0241702\n",
      "[100]\tcv_agg's l2: 0.141879 + 0.0280236\n",
      "[200]\tcv_agg's l2: 0.13333 + 0.0257522\n",
      "[300]\tcv_agg's l2: 0.130952 + 0.024847\n",
      "[400]\tcv_agg's l2: 0.130054 + 0.0248328\n",
      "[500]\tcv_agg's l2: 0.129277 + 0.0244235\n",
      "[600]\tcv_agg's l2: 0.129162 + 0.0247836\n",
      "[700]\tcv_agg's l2: 0.129356 + 0.0246377\n"
     ]
    },
    {
     "name": "stderr",
     "output_type": "stream",
     "text": [
      "regularization_factors, val_score: 0.128508:  25%|#########5                            | 5/20 [00:27<01:24,  5.63s/it][I 2023-10-28 18:16:30,209] Trial 47 finished with value: 0.12886000998129776 and parameters: {'lambda_l1': 2.35948650966896e-06, 'lambda_l2': 1.413226440918887e-08}. Best is trial 44 with value: 0.1288600099776994.\n",
      "regularization_factors, val_score: 0.128508:  25%|#########5                            | 5/20 [00:27<01:24,  5.63s/it]"
     ]
    },
    {
     "name": "stdout",
     "output_type": "stream",
     "text": [
      "Early stopping, best iteration is:\n",
      "[636]\tcv_agg's l2: 0.128508 + 0.0241702\n",
      "[100]\tcv_agg's l2: 0.141879 + 0.0280236\n",
      "[200]\tcv_agg's l2: 0.13333 + 0.0257522\n",
      "[300]\tcv_agg's l2: 0.130952 + 0.0248471\n",
      "[400]\tcv_agg's l2: 0.130054 + 0.0248328\n",
      "[500]\tcv_agg's l2: 0.129277 + 0.0244235\n",
      "[600]\tcv_agg's l2: 0.129162 + 0.0247836\n",
      "[700]\tcv_agg's l2: 0.129356 + 0.0246377\n"
     ]
    },
    {
     "name": "stderr",
     "output_type": "stream",
     "text": [
      "regularization_factors, val_score: 0.128508:  30%|###########4                          | 6/20 [00:33<01:18,  5.58s/it][I 2023-10-28 18:16:35,685] Trial 48 finished with value: 0.1288600099689318 and parameters: {'lambda_l1': 2.4624088238397e-06, 'lambda_l2': 1.661636882175242e-08}. Best is trial 48 with value: 0.1288600099689318.\n",
      "regularization_factors, val_score: 0.128508:  30%|###########4                          | 6/20 [00:33<01:18,  5.58s/it]"
     ]
    },
    {
     "name": "stdout",
     "output_type": "stream",
     "text": [
      "Early stopping, best iteration is:\n",
      "[636]\tcv_agg's l2: 0.128508 + 0.0241702\n",
      "[100]\tcv_agg's l2: 0.141879 + 0.0280236\n",
      "[200]\tcv_agg's l2: 0.13333 + 0.0257522\n",
      "[300]\tcv_agg's l2: 0.130952 + 0.0248471\n",
      "[400]\tcv_agg's l2: 0.130054 + 0.0248328\n",
      "[500]\tcv_agg's l2: 0.129277 + 0.0244235\n",
      "[600]\tcv_agg's l2: 0.129162 + 0.0247836\n",
      "[700]\tcv_agg's l2: 0.129356 + 0.0246378\n"
     ]
    },
    {
     "name": "stderr",
     "output_type": "stream",
     "text": [
      "regularization_factors, val_score: 0.128508:  35%|#############3                        | 7/20 [00:38<01:11,  5.52s/it][I 2023-10-28 18:16:41,079] Trial 49 finished with value: 0.12886000991428043 and parameters: {'lambda_l1': 2.956631615769101e-06, 'lambda_l2': 1.5536210189840814e-08}. Best is trial 49 with value: 0.12886000991428043.\n",
      "regularization_factors, val_score: 0.128508:  35%|#############3                        | 7/20 [00:38<01:11,  5.52s/it]"
     ]
    },
    {
     "name": "stdout",
     "output_type": "stream",
     "text": [
      "Early stopping, best iteration is:\n",
      "[636]\tcv_agg's l2: 0.128508 + 0.0241702\n",
      "[100]\tcv_agg's l2: 0.141879 + 0.0280236\n",
      "[200]\tcv_agg's l2: 0.13333 + 0.0257522\n",
      "[300]\tcv_agg's l2: 0.130952 + 0.0248471\n",
      "[400]\tcv_agg's l2: 0.130054 + 0.0248328\n",
      "[500]\tcv_agg's l2: 0.129277 + 0.0244235\n",
      "[600]\tcv_agg's l2: 0.129162 + 0.0247836\n",
      "[700]\tcv_agg's l2: 0.129356 + 0.0246378\n"
     ]
    },
    {
     "name": "stderr",
     "output_type": "stream",
     "text": [
      "regularization_factors, val_score: 0.128508:  40%|###############2                      | 8/20 [00:43<01:05,  5.47s/it][I 2023-10-28 18:16:46,448] Trial 50 finished with value: 0.12886000983225324 and parameters: {'lambda_l1': 4.896469848876483e-06, 'lambda_l2': 3.6789548958921495e-08}. Best is trial 50 with value: 0.12886000983225324.\n",
      "regularization_factors, val_score: 0.128508:  40%|###############2                      | 8/20 [00:43<01:05,  5.47s/it]"
     ]
    },
    {
     "name": "stdout",
     "output_type": "stream",
     "text": [
      "Early stopping, best iteration is:\n",
      "[636]\tcv_agg's l2: 0.128508 + 0.0241702\n",
      "[100]\tcv_agg's l2: 0.141879 + 0.0280236\n",
      "[200]\tcv_agg's l2: 0.13333 + 0.0257522\n",
      "[300]\tcv_agg's l2: 0.130952 + 0.0248471\n",
      "[400]\tcv_agg's l2: 0.130054 + 0.0248328\n",
      "[500]\tcv_agg's l2: 0.129277 + 0.0244235\n",
      "[600]\tcv_agg's l2: 0.129162 + 0.0247836\n"
     ]
    },
    {
     "name": "stderr",
     "output_type": "stream",
     "text": [
      "\r",
      "regularization_factors, val_score: 0.128508:  40%|###############2                      | 8/20 [00:49<01:05,  5.47s/it]"
     ]
    },
    {
     "name": "stdout",
     "output_type": "stream",
     "text": [
      "[700]\tcv_agg's l2: 0.129356 + 0.0246378\n",
      "Early stopping, best iteration is:\n",
      "[636]\tcv_agg's l2: 0.128508 + 0.0241702\n"
     ]
    },
    {
     "name": "stderr",
     "output_type": "stream",
     "text": [
      "regularization_factors, val_score: 0.128508:  45%|#################1                    | 9/20 [00:49<00:59,  5.45s/it][I 2023-10-28 18:16:51,849] Trial 51 finished with value: 0.12886001002211894 and parameters: {'lambda_l1': 4.083496140304588e-06, 'lambda_l2': 2.473844160840439e-08}. Best is trial 50 with value: 0.12886000983225324.\n",
      "regularization_factors, val_score: 0.128508:  45%|#################1                    | 9/20 [00:49<00:59,  5.45s/it]"
     ]
    },
    {
     "name": "stdout",
     "output_type": "stream",
     "text": [
      "[100]\tcv_agg's l2: 0.141879 + 0.0280236\n",
      "[200]\tcv_agg's l2: 0.13333 + 0.0257522\n",
      "[300]\tcv_agg's l2: 0.130952 + 0.0248471\n",
      "[400]\tcv_agg's l2: 0.130054 + 0.0248328\n",
      "[500]\tcv_agg's l2: 0.129277 + 0.0244235\n",
      "[600]\tcv_agg's l2: 0.129162 + 0.0247836\n"
     ]
    },
    {
     "name": "stderr",
     "output_type": "stream",
     "text": [
      "regularization_factors, val_score: 0.128508:  50%|##################5                  | 10/20 [00:52<00:48,  4.88s/it][I 2023-10-28 18:16:55,451] Trial 52 finished with value: 0.1288600100120681 and parameters: {'lambda_l1': 4.29619851892778e-06, 'lambda_l2': 5.105317063084506e-08}. Best is trial 50 with value: 0.12886000983225324.\n",
      "regularization_factors, val_score: 0.128508:  50%|##################5                  | 10/20 [00:52<00:48,  4.88s/it]"
     ]
    },
    {
     "name": "stdout",
     "output_type": "stream",
     "text": [
      "[700]\tcv_agg's l2: 0.129356 + 0.0246378\n",
      "Early stopping, best iteration is:\n",
      "[636]\tcv_agg's l2: 0.128508 + 0.0241702\n",
      "[100]\tcv_agg's l2: 0.142185 + 0.0281872\n",
      "[200]\tcv_agg's l2: 0.133478 + 0.0271607\n",
      "[300]\tcv_agg's l2: 0.130945 + 0.0254528\n",
      "[400]\tcv_agg's l2: 0.131157 + 0.0257141\n",
      "[500]\tcv_agg's l2: 0.130596 + 0.0252659\n",
      "[600]\tcv_agg's l2: 0.130371 + 0.0255918\n"
     ]
    },
    {
     "name": "stderr",
     "output_type": "stream",
     "text": [
      "regularization_factors, val_score: 0.128508:  55%|####################3                | 11/20 [00:55<00:38,  4.32s/it][I 2023-10-28 18:16:58,494] Trial 53 finished with value: 0.130340355662192 and parameters: {'lambda_l1': 5.389224159731539e-05, 'lambda_l2': 1.4567454088968662e-06}. Best is trial 50 with value: 0.12886000983225324.\n",
      "regularization_factors, val_score: 0.128508:  55%|####################3                | 11/20 [00:56<00:38,  4.32s/it]"
     ]
    },
    {
     "name": "stdout",
     "output_type": "stream",
     "text": [
      "[700]\tcv_agg's l2: 0.130291 + 0.0253162\n",
      "Early stopping, best iteration is:\n",
      "[636]\tcv_agg's l2: 0.128508 + 0.0241702\n",
      "[100]\tcv_agg's l2: 0.146182 + 0.0305979\n",
      "[200]\tcv_agg's l2: 0.138396 + 0.0287898\n",
      "[300]\tcv_agg's l2: 0.135848 + 0.0272851\n",
      "[400]\tcv_agg's l2: 0.134967 + 0.0270359\n",
      "[500]\tcv_agg's l2: 0.135004 + 0.0270228\n",
      "[600]\tcv_agg's l2: 0.134686 + 0.0268981\n"
     ]
    },
    {
     "name": "stderr",
     "output_type": "stream",
     "text": [
      "regularization_factors, val_score: 0.128508:  60%|######################2              | 12/20 [00:59<00:31,  3.97s/it][I 2023-10-28 18:17:01,665] Trial 54 finished with value: 0.1348114055853976 and parameters: {'lambda_l1': 5.3524115607728164e-08, 'lambda_l2': 0.024695479475664413}. Best is trial 50 with value: 0.12886000983225324.\n",
      "regularization_factors, val_score: 0.128508:  60%|######################2              | 12/20 [00:59<00:31,  3.97s/it]"
     ]
    },
    {
     "name": "stdout",
     "output_type": "stream",
     "text": [
      "[700]\tcv_agg's l2: 0.135016 + 0.0271997\n",
      "Early stopping, best iteration is:\n",
      "[636]\tcv_agg's l2: 0.128508 + 0.0241702\n",
      "[100]\tcv_agg's l2: 0.140259 + 0.0269\n",
      "[200]\tcv_agg's l2: 0.131165 + 0.0260361\n",
      "[300]\tcv_agg's l2: 0.129148 + 0.0253324\n",
      "[400]\tcv_agg's l2: 0.128547 + 0.0252669\n",
      "[500]\tcv_agg's l2: 0.128431 + 0.0252986\n"
     ]
    },
    {
     "name": "stderr",
     "output_type": "stream",
     "text": [
      "regularization_factors, val_score: 0.128093:  65%|########################             | 13/20 [01:02<00:25,  3.66s/it][I 2023-10-28 18:17:04,609] Trial 55 finished with value: 0.12809306860379882 and parameters: {'lambda_l1': 0.0030019241306671824, 'lambda_l2': 1.4521039663051472e-06}. Best is trial 55 with value: 0.12809306860379882.\n",
      "regularization_factors, val_score: 0.128093:  65%|########################             | 13/20 [01:02<00:25,  3.66s/it]"
     ]
    },
    {
     "name": "stdout",
     "output_type": "stream",
     "text": [
      "[600]\tcv_agg's l2: 0.128524 + 0.0254221\n",
      "Early stopping, best iteration is:\n",
      "[533]\tcv_agg's l2: 0.128093 + 0.0252857\n",
      "[100]\tcv_agg's l2: 0.142233 + 0.0295983\n",
      "[200]\tcv_agg's l2: 0.133102 + 0.0285515\n",
      "[300]\tcv_agg's l2: 0.129524 + 0.0260552\n",
      "[400]\tcv_agg's l2: 0.129503 + 0.0265636\n",
      "[500]\tcv_agg's l2: 0.128966 + 0.0264621\n"
     ]
    },
    {
     "name": "stderr",
     "output_type": "stream",
     "text": [
      "regularization_factors, val_score: 0.128093:  70%|#########################9           | 14/20 [01:05<00:20,  3.44s/it][I 2023-10-28 18:17:07,559] Trial 56 finished with value: 0.12928234475183903 and parameters: {'lambda_l1': 0.0028058848177292973, 'lambda_l2': 1.8234485843629244e-06}. Best is trial 55 with value: 0.12809306860379882.\n",
      "regularization_factors, val_score: 0.128093:  70%|#########################9           | 14/20 [01:05<00:20,  3.44s/it]"
     ]
    },
    {
     "name": "stdout",
     "output_type": "stream",
     "text": [
      "[600]\tcv_agg's l2: 0.129636 + 0.026827\n",
      "Early stopping, best iteration is:\n",
      "[533]\tcv_agg's l2: 0.128093 + 0.0252857\n",
      "[100]\tcv_agg's l2: 0.142708 + 0.0267441\n",
      "[200]\tcv_agg's l2: 0.135506 + 0.026691\n",
      "[300]\tcv_agg's l2: 0.133491 + 0.0255146\n",
      "[400]\tcv_agg's l2: 0.133125 + 0.0249094\n",
      "[500]\tcv_agg's l2: 0.133046 + 0.0247384\n"
     ]
    },
    {
     "name": "stderr",
     "output_type": "stream",
     "text": [
      "regularization_factors, val_score: 0.128093:  75%|###########################7         | 15/20 [01:07<00:16,  3.21s/it][I 2023-10-28 18:17:10,227] Trial 57 finished with value: 0.13310146822463426 and parameters: {'lambda_l1': 0.040615358848448385, 'lambda_l2': 7.278527766849813e-07}. Best is trial 55 with value: 0.12809306860379882.\n",
      "regularization_factors, val_score: 0.128093:  75%|###########################7         | 15/20 [01:07<00:16,  3.21s/it]"
     ]
    },
    {
     "name": "stdout",
     "output_type": "stream",
     "text": [
      "[600]\tcv_agg's l2: 0.132868 + 0.0246687\n",
      "Early stopping, best iteration is:\n",
      "[533]\tcv_agg's l2: 0.128093 + 0.0252857\n",
      "[100]\tcv_agg's l2: 0.142186 + 0.0281876\n",
      "[200]\tcv_agg's l2: 0.133828 + 0.0271152\n",
      "[300]\tcv_agg's l2: 0.131516 + 0.0255289\n",
      "[400]\tcv_agg's l2: 0.13116 + 0.0254533\n",
      "[500]\tcv_agg's l2: 0.130573 + 0.0251743\n"
     ]
    },
    {
     "name": "stderr",
     "output_type": "stream",
     "text": [
      "regularization_factors, val_score: 0.128093:  80%|#############################6       | 16/20 [01:10<00:12,  3.05s/it][I 2023-10-28 18:17:12,912] Trial 58 finished with value: 0.13022143403411 and parameters: {'lambda_l1': 0.0002847428129921332, 'lambda_l2': 2.846085206396129e-07}. Best is trial 55 with value: 0.12809306860379882.\n",
      "regularization_factors, val_score: 0.128093:  80%|#############################6       | 16/20 [01:10<00:12,  3.05s/it]"
     ]
    },
    {
     "name": "stdout",
     "output_type": "stream",
     "text": [
      "[600]\tcv_agg's l2: 0.130127 + 0.0256129\n",
      "Early stopping, best iteration is:\n",
      "[533]\tcv_agg's l2: 0.128093 + 0.0252857\n",
      "[100]\tcv_agg's l2: 0.141879 + 0.0280236\n",
      "[200]\tcv_agg's l2: 0.13333 + 0.0257522\n",
      "[300]\tcv_agg's l2: 0.130952 + 0.024847\n",
      "[400]\tcv_agg's l2: 0.129737 + 0.0243564\n",
      "[500]\tcv_agg's l2: 0.129062 + 0.0241057\n"
     ]
    },
    {
     "name": "stderr",
     "output_type": "stream",
     "text": [
      "regularization_factors, val_score: 0.128093:  85%|###############################4     | 17/20 [01:13<00:08,  2.96s/it][I 2023-10-28 18:17:15,669] Trial 59 finished with value: 0.12911567439939972 and parameters: {'lambda_l1': 7.86234227025653e-08, 'lambda_l2': 1.6663508405527167e-05}. Best is trial 55 with value: 0.12809306860379882.\n",
      "regularization_factors, val_score: 0.128093:  85%|###############################4     | 17/20 [01:13<00:08,  2.96s/it]"
     ]
    },
    {
     "name": "stdout",
     "output_type": "stream",
     "text": [
      "[600]\tcv_agg's l2: 0.128742 + 0.0241581\n",
      "Early stopping, best iteration is:\n",
      "[533]\tcv_agg's l2: 0.128093 + 0.0252857\n",
      "[100]\tcv_agg's l2: 0.142185 + 0.0281872\n",
      "[200]\tcv_agg's l2: 0.133478 + 0.0271608\n",
      "[300]\tcv_agg's l2: 0.130945 + 0.0254528\n",
      "[400]\tcv_agg's l2: 0.131157 + 0.0257141\n",
      "[500]\tcv_agg's l2: 0.130596 + 0.0252659\n"
     ]
    },
    {
     "name": "stderr",
     "output_type": "stream",
     "text": [
      "regularization_factors, val_score: 0.128093:  90%|#################################3   | 18/20 [01:15<00:05,  2.87s/it][I 2023-10-28 18:17:18,337] Trial 60 finished with value: 0.13039764634145323 and parameters: {'lambda_l1': 5.873924902475049e-05, 'lambda_l2': 2.077815547112379e-07}. Best is trial 55 with value: 0.12809306860379882.\n",
      "regularization_factors, val_score: 0.128093:  90%|#################################3   | 18/20 [01:15<00:05,  2.87s/it]"
     ]
    },
    {
     "name": "stdout",
     "output_type": "stream",
     "text": [
      "[600]\tcv_agg's l2: 0.130371 + 0.0255918\n",
      "Early stopping, best iteration is:\n",
      "[533]\tcv_agg's l2: 0.128093 + 0.0252857\n",
      "[100]\tcv_agg's l2: 0.141879 + 0.0280236\n",
      "[200]\tcv_agg's l2: 0.13333 + 0.0257522\n",
      "[300]\tcv_agg's l2: 0.130952 + 0.024847\n",
      "[400]\tcv_agg's l2: 0.130054 + 0.0248328\n",
      "[500]\tcv_agg's l2: 0.129277 + 0.0244235\n"
     ]
    },
    {
     "name": "stderr",
     "output_type": "stream",
     "text": [
      "regularization_factors, val_score: 0.128093:  95%|###################################1 | 19/20 [01:18<00:02,  2.83s/it][I 2023-10-28 18:17:21,067] Trial 61 finished with value: 0.12932780315890247 and parameters: {'lambda_l1': 6.25296988236468e-07, 'lambda_l2': 8.579524072331499e-08}. Best is trial 55 with value: 0.12809306860379882.\n",
      "regularization_factors, val_score: 0.128093:  95%|###################################1 | 19/20 [01:18<00:02,  2.83s/it]"
     ]
    },
    {
     "name": "stdout",
     "output_type": "stream",
     "text": [
      "[600]\tcv_agg's l2: 0.129162 + 0.0247836\n",
      "Early stopping, best iteration is:\n",
      "[533]\tcv_agg's l2: 0.128093 + 0.0252857\n",
      "[100]\tcv_agg's l2: 0.142122 + 0.0282292\n",
      "[200]\tcv_agg's l2: 0.134357 + 0.02658\n",
      "[300]\tcv_agg's l2: 0.131343 + 0.0251739\n",
      "[400]\tcv_agg's l2: 0.131052 + 0.0257585\n",
      "[500]\tcv_agg's l2: 0.130527 + 0.0252543\n"
     ]
    },
    {
     "name": "stderr",
     "output_type": "stream",
     "text": [
      "regularization_factors, val_score: 0.128093: 100%|#####################################| 20/20 [01:21<00:00,  2.79s/it][I 2023-10-28 18:17:23,750] Trial 62 finished with value: 0.13038209716574556 and parameters: {'lambda_l1': 2.262365250822612e-05, 'lambda_l2': 1.0017763788652951e-08}. Best is trial 55 with value: 0.12809306860379882.\n",
      "regularization_factors, val_score: 0.128093: 100%|#####################################| 20/20 [01:21<00:00,  4.06s/it]\n"
     ]
    },
    {
     "name": "stdout",
     "output_type": "stream",
     "text": [
      "[600]\tcv_agg's l2: 0.130259 + 0.0260039\n",
      "Early stopping, best iteration is:\n",
      "[533]\tcv_agg's l2: 0.128093 + 0.0252857\n"
     ]
    },
    {
     "name": "stderr",
     "output_type": "stream",
     "text": [
      "min_data_in_leaf, val_score: 0.128093:   0%|                                                     | 0/5 [00:00<?, ?it/s]"
     ]
    },
    {
     "name": "stdout",
     "output_type": "stream",
     "text": [
      "[100]\tcv_agg's l2: 0.158326 + 0.0394285\n",
      "[200]\tcv_agg's l2: 0.150027 + 0.0385185\n",
      "[300]\tcv_agg's l2: 0.147044 + 0.0371225\n",
      "[400]\tcv_agg's l2: 0.146466 + 0.0370018\n",
      "[500]\tcv_agg's l2: 0.146107 + 0.0365326\n"
     ]
    },
    {
     "name": "stderr",
     "output_type": "stream",
     "text": [
      "min_data_in_leaf, val_score: 0.128093:  20%|#########                                    | 1/5 [00:02<00:10,  2.66s/it][I 2023-10-28 18:17:26,419] Trial 63 finished with value: 0.14615234726566256 and parameters: {'min_child_samples': 25}. Best is trial 63 with value: 0.14615234726566256.\n",
      "min_data_in_leaf, val_score: 0.128093:  20%|#########                                    | 1/5 [00:02<00:10,  2.66s/it]"
     ]
    },
    {
     "name": "stdout",
     "output_type": "stream",
     "text": [
      "[600]\tcv_agg's l2: 0.145968 + 0.0364435\n",
      "Early stopping, best iteration is:\n",
      "[533]\tcv_agg's l2: 0.128093 + 0.0252857\n",
      "[100]\tcv_agg's l2: 0.727337 + 0.112024\n",
      "[200]\tcv_agg's l2: 0.692757 + 0.12139\n",
      "[300]\tcv_agg's l2: 0.679878 + 0.126484\n",
      "[400]\tcv_agg's l2: 0.672039 + 0.130556\n",
      "[500]\tcv_agg's l2: 0.662874 + 0.129171\n"
     ]
    },
    {
     "name": "stderr",
     "output_type": "stream",
     "text": [
      "min_data_in_leaf, val_score: 0.128093:  40%|##################                           | 2/5 [00:04<00:07,  2.36s/it][I 2023-10-28 18:17:28,570] Trial 64 finished with value: 0.6601667495716949 and parameters: {'min_child_samples': 100}. Best is trial 63 with value: 0.14615234726566256.\n",
      "min_data_in_leaf, val_score: 0.128093:  40%|##################                           | 2/5 [00:04<00:07,  2.36s/it]"
     ]
    },
    {
     "name": "stdout",
     "output_type": "stream",
     "text": [
      "[600]\tcv_agg's l2: 0.658129 + 0.130094\n",
      "Early stopping, best iteration is:\n",
      "[533]\tcv_agg's l2: 0.128093 + 0.0252857\n",
      "[100]\tcv_agg's l2: 0.128605 + 0.0258135\n",
      "[200]\tcv_agg's l2: 0.123957 + 0.0245815\n",
      "[300]\tcv_agg's l2: 0.122868 + 0.0242492\n",
      "[400]\tcv_agg's l2: 0.121187 + 0.0230131\n",
      "[500]\tcv_agg's l2: 0.120849 + 0.0229645\n",
      "[600]\tcv_agg's l2: 0.120338 + 0.0226064\n"
     ]
    },
    {
     "name": "stderr",
     "output_type": "stream",
     "text": [
      "min_data_in_leaf, val_score: 0.120256:  60%|###########################                  | 3/5 [00:08<00:06,  3.14s/it][I 2023-10-28 18:17:32,635] Trial 65 finished with value: 0.12025587347709368 and parameters: {'min_child_samples': 10}. Best is trial 65 with value: 0.12025587347709368.\n",
      "min_data_in_leaf, val_score: 0.120256:  60%|###########################                  | 3/5 [00:08<00:06,  3.14s/it]"
     ]
    },
    {
     "name": "stdout",
     "output_type": "stream",
     "text": [
      "[700]\tcv_agg's l2: 0.120516 + 0.0225593\n",
      "Early stopping, best iteration is:\n",
      "[612]\tcv_agg's l2: 0.120256 + 0.0226003\n",
      "[100]\tcv_agg's l2: 0.218024 + 0.045594\n",
      "[200]\tcv_agg's l2: 0.204089 + 0.0470379\n",
      "[300]\tcv_agg's l2: 0.202163 + 0.0497539\n",
      "[400]\tcv_agg's l2: 0.20192 + 0.0522925\n",
      "[500]\tcv_agg's l2: 0.201845 + 0.0532825\n",
      "[600]\tcv_agg's l2: 0.201838 + 0.0537351\n"
     ]
    },
    {
     "name": "stderr",
     "output_type": "stream",
     "text": [
      "min_data_in_leaf, val_score: 0.120256:  80%|####################################         | 4/5 [00:11<00:03,  3.06s/it][I 2023-10-28 18:17:35,570] Trial 66 finished with value: 0.2020007469127015 and parameters: {'min_child_samples': 50}. Best is trial 65 with value: 0.12025587347709368.\n",
      "min_data_in_leaf, val_score: 0.120256:  80%|####################################         | 4/5 [00:11<00:03,  3.06s/it]"
     ]
    },
    {
     "name": "stdout",
     "output_type": "stream",
     "text": [
      "[700]\tcv_agg's l2: 0.203382 + 0.0539602\n",
      "Early stopping, best iteration is:\n",
      "[612]\tcv_agg's l2: 0.120256 + 0.0226003\n",
      "[100]\tcv_agg's l2: 0.13121 + 0.0277643\n",
      "[200]\tcv_agg's l2: 0.125637 + 0.0257767\n",
      "[300]\tcv_agg's l2: 0.124565 + 0.0251131\n",
      "[400]\tcv_agg's l2: 0.124158 + 0.0252989\n",
      "[500]\tcv_agg's l2: 0.124262 + 0.0253461\n",
      "[600]\tcv_agg's l2: 0.123806 + 0.025097\n"
     ]
    },
    {
     "name": "stderr",
     "output_type": "stream",
     "text": [
      "min_data_in_leaf, val_score: 0.120256: 100%|#############################################| 5/5 [00:14<00:00,  2.98s/it][I 2023-10-28 18:17:38,417] Trial 67 finished with value: 0.12382283051370077 and parameters: {'min_child_samples': 5}. Best is trial 65 with value: 0.12025587347709368.\n",
      "min_data_in_leaf, val_score: 0.120256: 100%|#############################################| 5/5 [00:14<00:00,  2.93s/it]"
     ]
    },
    {
     "name": "stdout",
     "output_type": "stream",
     "text": [
      "[700]\tcv_agg's l2: 0.123528 + 0.0249783\n",
      "Early stopping, best iteration is:\n",
      "[612]\tcv_agg's l2: 0.120256 + 0.0226003\n"
     ]
    },
    {
     "name": "stderr",
     "output_type": "stream",
     "text": [
      "\n"
     ]
    }
   ],
   "source": [
    "import optuna.integration.lightgbm as lgb\n",
    "from lightgbm import early_stopping, log_evaluation\n",
    "from sklearn.model_selection import KFold\n",
    "from sklearn.model_selection import RepeatedKFold\n",
    "\n",
    "\n",
    "lgb_train = lgb.Dataset(X_train, y_train)\n",
    "\n",
    "params = {\n",
    "    \"boosting_type\": \"gbdt\",\n",
    "    \"objective\": \"regression\",\n",
    "    \"metric\": \"l2\",\n",
    "    \"verbosity\": -1,\n",
    "}\n",
    "\n",
    "tuner = lgb.LightGBMTunerCV(\n",
    "    params,\n",
    "    lgb_train,\n",
    "    folds=KFold(n_splits=5),\n",
    "    num_boost_round=10000,\n",
    "    callbacks=[early_stopping(100), log_evaluation(100)],\n",
    ")\n",
    "\n",
    "tuner.run()"
   ]
  },
  {
   "cell_type": "code",
   "execution_count": 21,
   "id": "d9ab9a30",
   "metadata": {},
   "outputs": [
    {
     "name": "stdout",
     "output_type": "stream",
     "text": [
      "Best score: 0.12025587347709368\n",
      "Params: \n",
      "    boosting_type: gbdt\n",
      "    objective: regression\n",
      "    metric: l2\n",
      "    verbosity: -1\n",
      "    feature_pre_filter: False\n",
      "    lambda_l1: 0.0030019241306671824\n",
      "    lambda_l2: 1.4521039663051472e-06\n",
      "    num_leaves: 11\n",
      "    feature_fraction: 0.5\n",
      "    bagging_fraction: 0.9937438946262684\n",
      "    bagging_freq: 7\n",
      "    min_child_samples: 10\n"
     ]
    }
   ],
   "source": [
    "print(f\"Best score: {tuner.best_score}\")\n",
    "best_params = tuner.best_params\n",
    "print(\"Params: \")\n",
    "for key, value in best_params.items():\n",
    "    print(\"    {}: {}\".format(key, value))"
   ]
  },
  {
   "cell_type": "code",
   "execution_count": 22,
   "id": "0cb62c30",
   "metadata": {},
   "outputs": [],
   "source": [
    "import lightgbm as lgb\n",
    "\n",
    "lgb_tuned = lgb.train(\n",
    "    best_params,\n",
    "    lgb_train,\n",
    "    num_boost_round=10000,\n",
    ")"
   ]
  },
  {
   "cell_type": "code",
   "execution_count": 23,
   "id": "eb6b8188",
   "metadata": {},
   "outputs": [
    {
     "name": "stdout",
     "output_type": "stream",
     "text": [
      "RMSE train: 0.00\n",
      "RMSE test: 0.66\n",
      "MSE test: 0.43\n",
      "MAE test: 0.37\n",
      "\n"
     ]
    }
   ],
   "source": [
    "rmse, mse, mae = assess_regression_model(lgb_tuned, X_train, X_test, y_train, y_test)"
   ]
  },
  {
   "cell_type": "code",
   "execution_count": 24,
   "id": "90047108",
   "metadata": {},
   "outputs": [],
   "source": [
    "results.loc[1] = [\n",
    "    \"chronological\",\n",
    "    \"Optuna\",\n",
    "    len(X_test.columns),\n",
    "    mse,\n",
    "    rmse,\n",
    "    mae,\n",
    "]"
   ]
  },
  {
   "cell_type": "code",
   "execution_count": 25,
   "id": "79785820",
   "metadata": {
    "scrolled": true
   },
   "outputs": [
    {
     "name": "stdout",
     "output_type": "stream",
     "text": [
      "Normal:\n",
      "MSE: 0.43\n",
      "RMSE: 0.66\n",
      "\n",
      "Round type: round\n",
      "MSE: 0.47\n",
      "RMSE: 0.68\n",
      "\n",
      "Round type: 0.33\n",
      "MSE: 0.40\n",
      "RMSE: 0.63\n",
      "\n",
      "Round type: 0.45\n",
      "MSE: 0.48\n",
      "RMSE: 0.69\n",
      "\n"
     ]
    }
   ],
   "source": [
    "predict = lgb_tuned.predict(X_test)\n",
    "check_round_predictions([\"round\", 0.33, 0.45], y_test, predict)"
   ]
  },
  {
   "cell_type": "code",
   "execution_count": 26,
   "id": "63a9eab9",
   "metadata": {},
   "outputs": [
    {
     "data": {
      "image/png": "[encoded data removed]",
      "text/plain": [
       "<Figure size 432x288 with 2 Axes>"
      ]
     },
     "metadata": {
      "needs_background": "light"
     },
     "output_type": "display_data"
    }
   ],
   "source": [
    "plot_confusion_matrix(\"round\", predict, y_test)"
   ]
  },
  {
   "cell_type": "markdown",
   "id": "a1fa0d3e",
   "metadata": {},
   "source": [
    "## Random split"
   ]
  },
  {
   "cell_type": "code",
   "execution_count": 27,
   "id": "69148859",
   "metadata": {},
   "outputs": [
    {
     "name": "stdout",
     "output_type": "stream",
     "text": [
      "[LightGBM] [Warning] Auto-choosing row-wise multi-threading, the overhead of testing was 0.000734 seconds.\n",
      "You can set `force_row_wise=true` to remove the overhead.\n",
      "And if memory is not enough, you can set `force_col_wise=true`.\n",
      "[LightGBM] [Info] Total Bins 804\n",
      "[LightGBM] [Info] Number of data points in the train set: 904, number of used features: 48\n",
      "[LightGBM] [Info] Start training from score 7.162611\n",
      "Training until validation scores don't improve for 5 rounds\n",
      "Early stopping, best iteration is:\n",
      "[75]\tvalid_0's l1: 0.246737\tvalid_0's l2: 0.1379\n"
     ]
    }
   ],
   "source": [
    "import lightgbm as lgb\n",
    "from sklearn.metrics import mean_squared_error\n",
    "\n",
    "lgb_train = lgb.Dataset(X_train_random_split, y_train_random_split)\n",
    "lgb_eval = lgb.Dataset(X_test_random_split, y_test_random_split, reference=lgb_train)\n",
    "\n",
    "params = {\n",
    "    \"boosting_type\": \"gbdt\",\n",
    "    \"objective\": \"regression\",\n",
    "    \"metric\": {\"l2\", \"l1\"},\n",
    "}\n",
    "\n",
    "gbm = lgb.train(\n",
    "    params,\n",
    "    lgb_train,\n",
    "    num_boost_round=100,\n",
    "    valid_sets=lgb_eval,\n",
    "    callbacks=[lgb.early_stopping(stopping_rounds=5)],\n",
    ")"
   ]
  },
  {
   "cell_type": "code",
   "execution_count": 28,
   "id": "792899a7",
   "metadata": {},
   "outputs": [],
   "source": [
    "y_pred_train = gbm.predict(X_train_random_split, num_iteration=gbm.best_iteration)\n",
    "y_pred_test = gbm.predict(X_test_random_split, num_iteration=gbm.best_iteration)"
   ]
  },
  {
   "cell_type": "code",
   "execution_count": 29,
   "id": "92e8b92d",
   "metadata": {},
   "outputs": [
    {
     "name": "stdout",
     "output_type": "stream",
     "text": [
      "MSE: 0.14\n",
      "RMSE: 0.37\n",
      "MAE: 0.15\n"
     ]
    }
   ],
   "source": [
    "from sklearn.metrics import mean_squared_error, median_absolute_error\n",
    "\n",
    "\n",
    "mse = mean_squared_error(y_test_random_split, y_pred_test)\n",
    "rmse = mean_squared_error(y_test_random_split, y_pred_test, squared=False)\n",
    "mae = median_absolute_error(y_test_random_split, y_pred_test)\n",
    "\n",
    "print(f\"MSE: {mse:.2f}\")\n",
    "print(f\"RMSE: {rmse:.2f}\")\n",
    "print(f\"MAE: {mae:.2f}\")"
   ]
  },
  {
   "cell_type": "code",
   "execution_count": 30,
   "id": "e9b9f08d",
   "metadata": {},
   "outputs": [],
   "source": [
    "results.loc[3] = [\"random\", \"normal\", len(X_test.columns), mse, rmse, mae]"
   ]
  },
  {
   "cell_type": "code",
   "execution_count": 31,
   "id": "2122d102",
   "metadata": {},
   "outputs": [
    {
     "name": "stdout",
     "output_type": "stream",
     "text": [
      "Normal:\n",
      "MSE: 0.14\n",
      "RMSE: 0.37\n",
      "\n",
      "Round type: round\n",
      "MSE: 0.14\n",
      "RMSE: 0.38\n",
      "\n",
      "Round type: 0.33\n",
      "MSE: 0.19\n",
      "RMSE: 0.43\n",
      "\n",
      "Round type: 0.45\n",
      "MSE: 0.15\n",
      "RMSE: 0.38\n",
      "\n"
     ]
    }
   ],
   "source": [
    "check_round_predictions([\"round\", 0.33, 0.45], y_test_random_split, y_pred_test)"
   ]
  },
  {
   "cell_type": "code",
   "execution_count": 32,
   "id": "3b4c77ab",
   "metadata": {},
   "outputs": [
    {
     "data": {
      "image/png": "[encoded data removed]",
      "text/plain": [
       "<Figure size 432x288 with 2 Axes>"
      ]
     },
     "metadata": {
      "needs_background": "light"
     },
     "output_type": "display_data"
    }
   ],
   "source": [
    "plot_confusion_matrix(\"round\", y_pred_test, y_test_random_split)"
   ]
  },
  {
   "cell_type": "markdown",
   "id": "295f8eff",
   "metadata": {},
   "source": [
    "### Tuning"
   ]
  },
  {
   "cell_type": "code",
   "execution_count": 33,
   "id": "14fca15b",
   "metadata": {},
   "outputs": [
    {
     "name": "stderr",
     "output_type": "stream",
     "text": [
      "[I 2023-10-28 18:17:45,867] A new study created in memory with name: no-name-7ca2a14c-c2d9-46de-80dd-2fa8827658ca\n",
      "feature_fraction, val_score: inf:   0%|                                                          | 0/7 [00:00<?, ?it/s]"
     ]
    },
    {
     "name": "stdout",
     "output_type": "stream",
     "text": [
      "Training until validation scores don't improve for 100 rounds\n",
      "[100]\tcv_agg's l2: 0.169362 + 0.0476039\n",
      "[200]\tcv_agg's l2: 0.165173 + 0.0444588\n",
      "[300]\tcv_agg's l2: 0.164017 + 0.0439628\n",
      "[400]\tcv_agg's l2: 0.163727 + 0.0436844\n",
      "[500]\tcv_agg's l2: 0.163485 + 0.0434136\n"
     ]
    },
    {
     "name": "stderr",
     "output_type": "stream",
     "text": [
      "feature_fraction, val_score: 0.163407:  14%|######4                                      | 1/7 [00:04<00:28,  4.75s/it][I 2023-10-28 18:17:50,618] Trial 0 finished with value: 0.16340721598593455 and parameters: {'feature_fraction': 0.8}. Best is trial 0 with value: 0.16340721598593455.\n",
      "feature_fraction, val_score: 0.163407:  14%|######4                                      | 1/7 [00:04<00:28,  4.75s/it]"
     ]
    },
    {
     "name": "stdout",
     "output_type": "stream",
     "text": [
      "[600]\tcv_agg's l2: 0.163532 + 0.0432932\n",
      "Early stopping, best iteration is:\n",
      "[516]\tcv_agg's l2: 0.163407 + 0.0433308\n",
      "[100]\tcv_agg's l2: 0.165609 + 0.0415913\n",
      "[200]\tcv_agg's l2: 0.162609 + 0.0399952\n",
      "[300]\tcv_agg's l2: 0.161902 + 0.0383939\n",
      "[400]\tcv_agg's l2: 0.161161 + 0.0380871\n",
      "[500]\tcv_agg's l2: 0.161247 + 0.0379924\n"
     ]
    },
    {
     "name": "stderr",
     "output_type": "stream",
     "text": [
      "feature_fraction, val_score: 0.161045:  29%|############8                                | 2/7 [00:08<00:20,  4.06s/it][I 2023-10-28 18:17:54,195] Trial 1 finished with value: 0.16104466839516948 and parameters: {'feature_fraction': 0.7}. Best is trial 1 with value: 0.16104466839516948.\n",
      "feature_fraction, val_score: 0.161045:  29%|############8                                | 2/7 [00:08<00:20,  4.06s/it]"
     ]
    },
    {
     "name": "stdout",
     "output_type": "stream",
     "text": [
      "Early stopping, best iteration is:\n",
      "[440]\tcv_agg's l2: 0.161045 + 0.0378613\n",
      "[100]\tcv_agg's l2: 0.175091 + 0.0450229\n",
      "[200]\tcv_agg's l2: 0.170872 + 0.0437134\n",
      "[300]\tcv_agg's l2: 0.169623 + 0.0430604\n",
      "[400]\tcv_agg's l2: 0.169216 + 0.0427181\n",
      "[500]\tcv_agg's l2: 0.169177 + 0.0425431\n"
     ]
    },
    {
     "name": "stderr",
     "output_type": "stream",
     "text": [
      "feature_fraction, val_score: 0.161045:  43%|###################2                         | 3/7 [00:11<00:15,  3.76s/it][I 2023-10-28 18:17:57,609] Trial 2 finished with value: 0.16921904713411481 and parameters: {'feature_fraction': 0.8999999999999999}. Best is trial 1 with value: 0.16104466839516948.\n",
      "feature_fraction, val_score: 0.161045:  43%|###################2                         | 3/7 [00:11<00:15,  3.76s/it]"
     ]
    },
    {
     "name": "stdout",
     "output_type": "stream",
     "text": [
      "Early stopping, best iteration is:\n",
      "[440]\tcv_agg's l2: 0.161045 + 0.0378613\n",
      "[100]\tcv_agg's l2: 0.14302 + 0.0211128\n",
      "[200]\tcv_agg's l2: 0.139095 + 0.0210417\n",
      "[300]\tcv_agg's l2: 0.136967 + 0.021258\n",
      "[400]\tcv_agg's l2: 0.136341 + 0.0210883\n",
      "[500]\tcv_agg's l2: 0.135944 + 0.0209275\n",
      "[600]\tcv_agg's l2: 0.135607 + 0.0207876\n",
      "[700]\tcv_agg's l2: 0.135481 + 0.0207375\n",
      "[800]\tcv_agg's l2: 0.135441 + 0.0206161\n",
      "[900]\tcv_agg's l2: 0.135403 + 0.0205771\n",
      "[1000]\tcv_agg's l2: 0.135369 + 0.0205016\n",
      "[1100]\tcv_agg's l2: 0.135308 + 0.0204345\n",
      "[1200]\tcv_agg's l2: 0.135297 + 0.0203813\n"
     ]
    },
    {
     "name": "stderr",
     "output_type": "stream",
     "text": [
      "feature_fraction, val_score: 0.135288:  57%|#########################7                   | 4/7 [00:20<00:17,  5.76s/it][I 2023-10-28 18:18:06,434] Trial 3 finished with value: 0.1352878001813022 and parameters: {'feature_fraction': 0.4}. Best is trial 3 with value: 0.1352878001813022.\n",
      "feature_fraction, val_score: 0.135288:  57%|#########################7                   | 4/7 [00:20<00:17,  5.76s/it]"
     ]
    },
    {
     "name": "stdout",
     "output_type": "stream",
     "text": [
      "Early stopping, best iteration is:\n",
      "[1183]\tcv_agg's l2: 0.135288 + 0.0203932\n",
      "[100]\tcv_agg's l2: 0.163763 + 0.0512474\n",
      "[200]\tcv_agg's l2: 0.158424 + 0.0471932\n",
      "[300]\tcv_agg's l2: 0.157783 + 0.0464429\n",
      "[400]\tcv_agg's l2: 0.157636 + 0.0463709\n",
      "[500]\tcv_agg's l2: 0.157532 + 0.0460648\n",
      "[600]\tcv_agg's l2: 0.157482 + 0.0458167\n",
      "[700]\tcv_agg's l2: 0.157469 + 0.045867\n",
      "[800]\tcv_agg's l2: 0.15742 + 0.0457516\n",
      "[900]\tcv_agg's l2: 0.157376 + 0.0457067\n",
      "[1000]\tcv_agg's l2: 0.157386 + 0.0456908\n",
      "[1100]\tcv_agg's l2: 0.157376 + 0.045708\n",
      "[1200]\tcv_agg's l2: 0.15739 + 0.0457321\n"
     ]
    },
    {
     "name": "stderr",
     "output_type": "stream",
     "text": [
      "feature_fraction, val_score: 0.135288:  71%|################################1            | 5/7 [00:30<00:14,  7.20s/it][I 2023-10-28 18:18:16,176] Trial 4 finished with value: 0.15738931434171827 and parameters: {'feature_fraction': 0.6}. Best is trial 3 with value: 0.1352878001813022.\n",
      "feature_fraction, val_score: 0.135288:  71%|################################1            | 5/7 [00:30<00:14,  7.20s/it]"
     ]
    },
    {
     "name": "stdout",
     "output_type": "stream",
     "text": [
      "Early stopping, best iteration is:\n",
      "[1183]\tcv_agg's l2: 0.135288 + 0.0203932\n",
      "[100]\tcv_agg's l2: 0.14374 + 0.0376429\n",
      "[200]\tcv_agg's l2: 0.139123 + 0.0341104\n",
      "[300]\tcv_agg's l2: 0.138095 + 0.0325451\n",
      "[400]\tcv_agg's l2: 0.137617 + 0.0316638\n",
      "[500]\tcv_agg's l2: 0.137236 + 0.0313274\n",
      "[600]\tcv_agg's l2: 0.137061 + 0.0311642\n",
      "[700]\tcv_agg's l2: 0.136842 + 0.0309636\n",
      "[800]\tcv_agg's l2: 0.136643 + 0.0307217\n",
      "[900]\tcv_agg's l2: 0.136556 + 0.0306288\n",
      "[1000]\tcv_agg's l2: 0.136514 + 0.0306438\n",
      "[1100]\tcv_agg's l2: 0.136431 + 0.0305984\n",
      "[1200]\tcv_agg's l2: 0.1364 + 0.0306145\n"
     ]
    },
    {
     "name": "stderr",
     "output_type": "stream",
     "text": [
      "feature_fraction, val_score: 0.135288:  86%|######################################5      | 6/7 [00:39<00:07,  7.73s/it][I 2023-10-28 18:18:24,943] Trial 5 finished with value: 0.13639215615386005 and parameters: {'feature_fraction': 0.5}. Best is trial 3 with value: 0.1352878001813022.\n",
      "feature_fraction, val_score: 0.135288:  86%|######################################5      | 6/7 [00:39<00:07,  7.73s/it]"
     ]
    },
    {
     "name": "stdout",
     "output_type": "stream",
     "text": [
      "Early stopping, best iteration is:\n",
      "[1183]\tcv_agg's l2: 0.135288 + 0.0203932\n",
      "[100]\tcv_agg's l2: 0.172926 + 0.0414372\n",
      "[200]\tcv_agg's l2: 0.168299 + 0.039411\n",
      "[300]\tcv_agg's l2: 0.167188 + 0.038648\n",
      "[400]\tcv_agg's l2: 0.16679 + 0.0383577\n",
      "[500]\tcv_agg's l2: 0.166594 + 0.0380808\n",
      "[600]\tcv_agg's l2: 0.166675 + 0.037919\n",
      "[700]\tcv_agg's l2: 0.166648 + 0.0378663\n",
      "[800]\tcv_agg's l2: 0.166603 + 0.0377953\n",
      "[900]\tcv_agg's l2: 0.166668 + 0.0377625\n",
      "[1000]\tcv_agg's l2: 0.166695 + 0.0377404\n",
      "[1100]\tcv_agg's l2: 0.166663 + 0.0376869\n",
      "[1200]\tcv_agg's l2: 0.166659 + 0.037638\n"
     ]
    },
    {
     "name": "stderr",
     "output_type": "stream",
     "text": [
      "feature_fraction, val_score: 0.135288: 100%|#############################################| 7/7 [00:49<00:00,  8.78s/it][I 2023-10-28 18:18:35,872] Trial 6 finished with value: 0.16667754966750054 and parameters: {'feature_fraction': 1.0}. Best is trial 3 with value: 0.1352878001813022.\n",
      "feature_fraction, val_score: 0.135288: 100%|#############################################| 7/7 [00:50<00:00,  7.14s/it]\n"
     ]
    },
    {
     "name": "stdout",
     "output_type": "stream",
     "text": [
      "Early stopping, best iteration is:\n",
      "[1183]\tcv_agg's l2: 0.135288 + 0.0203932\n"
     ]
    },
    {
     "name": "stderr",
     "output_type": "stream",
     "text": [
      "num_leaves, val_score: 0.135288:   0%|                                                          | 0/20 [00:00<?, ?it/s]"
     ]
    },
    {
     "name": "stdout",
     "output_type": "stream",
     "text": [
      "[100]\tcv_agg's l2: 0.14302 + 0.0211128\n",
      "[200]\tcv_agg's l2: 0.138906 + 0.0207269\n",
      "[300]\tcv_agg's l2: 0.136774 + 0.0209404\n",
      "[400]\tcv_agg's l2: 0.135984 + 0.0205052\n",
      "[500]\tcv_agg's l2: 0.135559 + 0.0203001\n",
      "[600]\tcv_agg's l2: 0.135177 + 0.0200864\n",
      "[700]\tcv_agg's l2: 0.134997 + 0.0199495\n",
      "[800]\tcv_agg's l2: 0.135008 + 0.0199122\n"
     ]
    },
    {
     "name": "stderr",
     "output_type": "stream",
     "text": [
      "num_leaves, val_score: 0.134951:   5%|##5                                               | 1/20 [00:05<01:50,  5.82s/it][I 2023-10-28 18:18:41,701] Trial 7 finished with value: 0.13495091807418166 and parameters: {'num_leaves': 92}. Best is trial 7 with value: 0.13495091807418166.\n",
      "num_leaves, val_score: 0.134951:   5%|##5                                               | 1/20 [00:05<01:50,  5.82s/it]"
     ]
    },
    {
     "name": "stdout",
     "output_type": "stream",
     "text": [
      "Early stopping, best iteration is:\n",
      "[736]\tcv_agg's l2: 0.134951 + 0.0198879\n",
      "[100]\tcv_agg's l2: 0.14302 + 0.0211128\n",
      "[200]\tcv_agg's l2: 0.138906 + 0.0207269\n",
      "[300]\tcv_agg's l2: 0.136774 + 0.0209404\n",
      "[400]\tcv_agg's l2: 0.135984 + 0.0205052\n",
      "[500]\tcv_agg's l2: 0.135559 + 0.0203001\n",
      "[600]\tcv_agg's l2: 0.135177 + 0.0200864\n",
      "[700]\tcv_agg's l2: 0.134997 + 0.0199495\n",
      "[800]\tcv_agg's l2: 0.135008 + 0.0199122\n"
     ]
    },
    {
     "name": "stderr",
     "output_type": "stream",
     "text": [
      "num_leaves, val_score: 0.134951:  10%|#####                                             | 2/20 [00:11<01:47,  6.00s/it][I 2023-10-28 18:18:47,819] Trial 8 finished with value: 0.13495091807418166 and parameters: {'num_leaves': 133}. Best is trial 7 with value: 0.13495091807418166.\n",
      "num_leaves, val_score: 0.134951:  10%|#####                                             | 2/20 [00:11<01:47,  6.00s/it]"
     ]
    },
    {
     "name": "stdout",
     "output_type": "stream",
     "text": [
      "Early stopping, best iteration is:\n",
      "[736]\tcv_agg's l2: 0.134951 + 0.0198879\n",
      "[100]\tcv_agg's l2: 0.14302 + 0.0211128\n",
      "[200]\tcv_agg's l2: 0.138906 + 0.0207269\n",
      "[300]\tcv_agg's l2: 0.136774 + 0.0209404\n",
      "[400]\tcv_agg's l2: 0.135984 + 0.0205052\n",
      "[500]\tcv_agg's l2: 0.135559 + 0.0203001\n",
      "[600]\tcv_agg's l2: 0.135177 + 0.0200864\n",
      "[700]\tcv_agg's l2: 0.134997 + 0.0199495\n",
      "[800]\tcv_agg's l2: 0.135008 + 0.0199122\n"
     ]
    },
    {
     "name": "stderr",
     "output_type": "stream",
     "text": [
      "num_leaves, val_score: 0.134951:  15%|#######5                                          | 3/20 [00:18<01:46,  6.24s/it][I 2023-10-28 18:18:54,358] Trial 9 finished with value: 0.13495091807418166 and parameters: {'num_leaves': 173}. Best is trial 7 with value: 0.13495091807418166.\n",
      "num_leaves, val_score: 0.134951:  15%|#######5                                          | 3/20 [00:18<01:46,  6.24s/it]"
     ]
    },
    {
     "name": "stdout",
     "output_type": "stream",
     "text": [
      "Early stopping, best iteration is:\n",
      "[736]\tcv_agg's l2: 0.134951 + 0.0198879\n",
      "[100]\tcv_agg's l2: 0.142941 + 0.0251199\n",
      "[200]\tcv_agg's l2: 0.137554 + 0.0240907\n",
      "[300]\tcv_agg's l2: 0.135621 + 0.0237979\n",
      "[400]\tcv_agg's l2: 0.134885 + 0.023746\n",
      "[500]\tcv_agg's l2: 0.134383 + 0.0234668\n",
      "[600]\tcv_agg's l2: 0.134106 + 0.0232292\n",
      "[700]\tcv_agg's l2: 0.13394 + 0.0231748\n",
      "[800]\tcv_agg's l2: 0.133823 + 0.0230816\n"
     ]
    },
    {
     "name": "stderr",
     "output_type": "stream",
     "text": [
      "num_leaves, val_score: 0.133768:  20%|##########                                        | 4/20 [00:25<01:44,  6.54s/it][I 2023-10-28 18:19:01,362] Trial 10 finished with value: 0.13376835556567412 and parameters: {'num_leaves': 21}. Best is trial 10 with value: 0.13376835556567412.\n",
      "num_leaves, val_score: 0.133768:  20%|##########                                        | 4/20 [00:25<01:44,  6.54s/it]"
     ]
    },
    {
     "name": "stdout",
     "output_type": "stream",
     "text": [
      "Early stopping, best iteration is:\n",
      "[768]\tcv_agg's l2: 0.133768 + 0.0230676\n",
      "[100]\tcv_agg's l2: 0.238223 + 0.043457\n",
      "[200]\tcv_agg's l2: 0.19977 + 0.0399049\n",
      "[300]\tcv_agg's l2: 0.183782 + 0.0388691\n",
      "[400]\tcv_agg's l2: 0.173854 + 0.0382215\n",
      "[500]\tcv_agg's l2: 0.168556 + 0.0379628\n",
      "[600]\tcv_agg's l2: 0.163596 + 0.0372758\n",
      "[700]\tcv_agg's l2: 0.159864 + 0.0358564\n"
     ]
    },
    {
     "name": "stderr",
     "output_type": "stream",
     "text": [
      "\r",
      "num_leaves, val_score: 0.133768:  20%|##########                                        | 4/20 [00:27<01:44,  6.54s/it]"
     ]
    },
    {
     "name": "stdout",
     "output_type": "stream",
     "text": [
      "[800]\tcv_agg's l2: 0.157222 + 0.0353394\n",
      "Early stopping, best iteration is:\n",
      "[768]\tcv_agg's l2: 0.133768 + 0.0230676\n"
     ]
    },
    {
     "name": "stderr",
     "output_type": "stream",
     "text": [
      "num_leaves, val_score: 0.133768:  25%|############5                                     | 5/20 [00:27<01:13,  4.87s/it][I 2023-10-28 18:19:03,275] Trial 11 finished with value: 0.15809338380396562 and parameters: {'num_leaves': 3}. Best is trial 10 with value: 0.13376835556567412.\n",
      "num_leaves, val_score: 0.133768:  25%|############5                                     | 5/20 [00:27<01:13,  4.87s/it]"
     ]
    },
    {
     "name": "stdout",
     "output_type": "stream",
     "text": [
      "[100]\tcv_agg's l2: 0.143338 + 0.0206635\n",
      "[200]\tcv_agg's l2: 0.137691 + 0.0205884\n",
      "[300]\tcv_agg's l2: 0.136562 + 0.0206088\n",
      "[400]\tcv_agg's l2: 0.135675 + 0.0204818\n",
      "[500]\tcv_agg's l2: 0.135249 + 0.0203234\n",
      "[600]\tcv_agg's l2: 0.134958 + 0.0201833\n",
      "[700]\tcv_agg's l2: 0.13483 + 0.0200138\n",
      "[800]\tcv_agg's l2: 0.134808 + 0.0198785\n"
     ]
    },
    {
     "name": "stderr",
     "output_type": "stream",
     "text": [
      "num_leaves, val_score: 0.133768:  30%|###############                                   | 6/20 [00:32<01:11,  5.12s/it][I 2023-10-28 18:19:08,875] Trial 12 finished with value: 0.13477633417432605 and parameters: {'num_leaves': 22}. Best is trial 10 with value: 0.13376835556567412.\n",
      "num_leaves, val_score: 0.133768:  30%|###############                                   | 6/20 [00:32<01:11,  5.12s/it]"
     ]
    },
    {
     "name": "stdout",
     "output_type": "stream",
     "text": [
      "Early stopping, best iteration is:\n",
      "[768]\tcv_agg's l2: 0.133768 + 0.0230676\n",
      "[100]\tcv_agg's l2: 0.180838 + 0.0494502\n",
      "[200]\tcv_agg's l2: 0.160632 + 0.0445545\n",
      "[300]\tcv_agg's l2: 0.152535 + 0.0415822\n",
      "[400]\tcv_agg's l2: 0.149241 + 0.0403149\n",
      "[500]\tcv_agg's l2: 0.146448 + 0.0391086\n",
      "[600]\tcv_agg's l2: 0.144539 + 0.0378644\n",
      "[700]\tcv_agg's l2: 0.143496 + 0.037647\n",
      "[800]\tcv_agg's l2: 0.142539 + 0.0370637\n"
     ]
    },
    {
     "name": "stderr",
     "output_type": "stream",
     "text": [
      "num_leaves, val_score: 0.133768:  35%|#################5                                | 7/20 [00:35<00:56,  4.33s/it][I 2023-10-28 18:19:11,575] Trial 13 finished with value: 0.14295731771920522 and parameters: {'num_leaves': 5}. Best is trial 10 with value: 0.13376835556567412.\n",
      "num_leaves, val_score: 0.133768:  35%|#################5                                | 7/20 [00:35<00:56,  4.33s/it]"
     ]
    },
    {
     "name": "stdout",
     "output_type": "stream",
     "text": [
      "Early stopping, best iteration is:\n",
      "[768]\tcv_agg's l2: 0.133768 + 0.0230676\n",
      "[100]\tcv_agg's l2: 0.14302 + 0.0211128\n",
      "[200]\tcv_agg's l2: 0.138906 + 0.0207269\n",
      "[300]\tcv_agg's l2: 0.136774 + 0.0209404\n",
      "[400]\tcv_agg's l2: 0.135984 + 0.0205052\n",
      "[500]\tcv_agg's l2: 0.135559 + 0.0203001\n",
      "[600]\tcv_agg's l2: 0.135177 + 0.0200864\n",
      "[700]\tcv_agg's l2: 0.134997 + 0.0199495\n",
      "[800]\tcv_agg's l2: 0.135008 + 0.0199122\n"
     ]
    },
    {
     "name": "stderr",
     "output_type": "stream",
     "text": [
      "num_leaves, val_score: 0.133768:  40%|####################                              | 8/20 [00:41<00:58,  4.89s/it][I 2023-10-28 18:19:17,650] Trial 14 finished with value: 0.13501962597548264 and parameters: {'num_leaves': 65}. Best is trial 10 with value: 0.13376835556567412.\n",
      "num_leaves, val_score: 0.133768:  40%|####################                              | 8/20 [00:41<00:58,  4.89s/it]"
     ]
    },
    {
     "name": "stdout",
     "output_type": "stream",
     "text": [
      "Early stopping, best iteration is:\n",
      "[768]\tcv_agg's l2: 0.133768 + 0.0230676\n",
      "[100]\tcv_agg's l2: 0.14302 + 0.0211128\n",
      "[200]\tcv_agg's l2: 0.138906 + 0.0207269\n",
      "[300]\tcv_agg's l2: 0.136774 + 0.0209404\n",
      "[400]\tcv_agg's l2: 0.135984 + 0.0205052\n",
      "[500]\tcv_agg's l2: 0.135559 + 0.0203001\n",
      "[600]\tcv_agg's l2: 0.135177 + 0.0200864\n",
      "[700]\tcv_agg's l2: 0.134997 + 0.0199495\n",
      "[800]\tcv_agg's l2: 0.135008 + 0.0199122\n"
     ]
    },
    {
     "name": "stderr",
     "output_type": "stream",
     "text": [
      "num_leaves, val_score: 0.133768:  45%|######################5                           | 9/20 [00:48<00:59,  5.37s/it][I 2023-10-28 18:19:24,075] Trial 15 finished with value: 0.13501962597548264 and parameters: {'num_leaves': 227}. Best is trial 10 with value: 0.13376835556567412.\n",
      "num_leaves, val_score: 0.133768:  45%|######################5                           | 9/20 [00:48<00:59,  5.37s/it]"
     ]
    },
    {
     "name": "stdout",
     "output_type": "stream",
     "text": [
      "Early stopping, best iteration is:\n",
      "[768]\tcv_agg's l2: 0.133768 + 0.0230676\n",
      "[100]\tcv_agg's l2: 0.14302 + 0.0211128\n",
      "[200]\tcv_agg's l2: 0.138906 + 0.0207269\n",
      "[300]\tcv_agg's l2: 0.136774 + 0.0209404\n",
      "[400]\tcv_agg's l2: 0.135984 + 0.0205052\n",
      "[500]\tcv_agg's l2: 0.135559 + 0.0203001\n",
      "[600]\tcv_agg's l2: 0.135177 + 0.0200864\n",
      "[700]\tcv_agg's l2: 0.134997 + 0.0199495\n",
      "[800]\tcv_agg's l2: 0.135008 + 0.0199122\n"
     ]
    },
    {
     "name": "stderr",
     "output_type": "stream",
     "text": [
      "num_leaves, val_score: 0.133768:  50%|########################5                        | 10/20 [00:54<00:55,  5.56s/it][I 2023-10-28 18:19:30,062] Trial 16 finished with value: 0.13501962597548264 and parameters: {'num_leaves': 56}. Best is trial 10 with value: 0.13376835556567412.\n",
      "num_leaves, val_score: 0.133768:  50%|########################5                        | 10/20 [00:54<00:55,  5.56s/it]"
     ]
    },
    {
     "name": "stdout",
     "output_type": "stream",
     "text": [
      "Early stopping, best iteration is:\n",
      "[768]\tcv_agg's l2: 0.133768 + 0.0230676\n",
      "[100]\tcv_agg's l2: 0.14302 + 0.0211128\n",
      "[200]\tcv_agg's l2: 0.138906 + 0.0207269\n",
      "[300]\tcv_agg's l2: 0.136774 + 0.0209404\n",
      "[400]\tcv_agg's l2: 0.135984 + 0.0205052\n",
      "[500]\tcv_agg's l2: 0.135559 + 0.0203001\n",
      "[600]\tcv_agg's l2: 0.135177 + 0.0200864\n",
      "[700]\tcv_agg's l2: 0.134997 + 0.0199495\n",
      "[800]\tcv_agg's l2: 0.135008 + 0.0199122\n"
     ]
    },
    {
     "name": "stderr",
     "output_type": "stream",
     "text": [
      "num_leaves, val_score: 0.133768:  55%|##########################9                      | 11/20 [01:00<00:52,  5.78s/it][I 2023-10-28 18:19:36,359] Trial 17 finished with value: 0.13501962597548264 and parameters: {'num_leaves': 37}. Best is trial 10 with value: 0.13376835556567412.\n",
      "num_leaves, val_score: 0.133768:  55%|##########################9                      | 11/20 [01:00<00:52,  5.78s/it]"
     ]
    },
    {
     "name": "stdout",
     "output_type": "stream",
     "text": [
      "Early stopping, best iteration is:\n",
      "[768]\tcv_agg's l2: 0.133768 + 0.0230676\n",
      "[100]\tcv_agg's l2: 0.14302 + 0.0211128\n",
      "[200]\tcv_agg's l2: 0.138906 + 0.0207269\n",
      "[300]\tcv_agg's l2: 0.136774 + 0.0209404\n",
      "[400]\tcv_agg's l2: 0.135984 + 0.0205052\n",
      "[500]\tcv_agg's l2: 0.135559 + 0.0203001\n",
      "[600]\tcv_agg's l2: 0.135177 + 0.0200864\n",
      "[700]\tcv_agg's l2: 0.134997 + 0.0199495\n",
      "[800]\tcv_agg's l2: 0.135008 + 0.0199122\n"
     ]
    },
    {
     "name": "stderr",
     "output_type": "stream",
     "text": [
      "num_leaves, val_score: 0.133768:  60%|#############################4                   | 12/20 [01:06<00:46,  5.85s/it][I 2023-10-28 18:19:42,362] Trial 18 finished with value: 0.13501962597548264 and parameters: {'num_leaves': 98}. Best is trial 10 with value: 0.13376835556567412.\n",
      "num_leaves, val_score: 0.133768:  60%|#############################4                   | 12/20 [01:06<00:46,  5.85s/it]"
     ]
    },
    {
     "name": "stdout",
     "output_type": "stream",
     "text": [
      "Early stopping, best iteration is:\n",
      "[768]\tcv_agg's l2: 0.133768 + 0.0230676\n",
      "[100]\tcv_agg's l2: 0.14302 + 0.0211128\n",
      "[200]\tcv_agg's l2: 0.138906 + 0.0207269\n",
      "[300]\tcv_agg's l2: 0.136774 + 0.0209404\n",
      "[400]\tcv_agg's l2: 0.135984 + 0.0205052\n",
      "[500]\tcv_agg's l2: 0.135559 + 0.0203001\n",
      "[600]\tcv_agg's l2: 0.135177 + 0.0200864\n",
      "[700]\tcv_agg's l2: 0.134997 + 0.0199495\n",
      "[800]\tcv_agg's l2: 0.135008 + 0.0199122\n"
     ]
    },
    {
     "name": "stderr",
     "output_type": "stream",
     "text": [
      "num_leaves, val_score: 0.133768:  65%|###############################8                 | 13/20 [01:12<00:41,  5.91s/it][I 2023-10-28 18:19:48,418] Trial 19 finished with value: 0.13501962597548264 and parameters: {'num_leaves': 149}. Best is trial 10 with value: 0.13376835556567412.\n",
      "num_leaves, val_score: 0.133768:  65%|###############################8                 | 13/20 [01:12<00:41,  5.91s/it]"
     ]
    },
    {
     "name": "stdout",
     "output_type": "stream",
     "text": [
      "Early stopping, best iteration is:\n",
      "[768]\tcv_agg's l2: 0.133768 + 0.0230676\n",
      "[100]\tcv_agg's l2: 0.14302 + 0.0211128\n",
      "[200]\tcv_agg's l2: 0.138906 + 0.0207269\n",
      "[300]\tcv_agg's l2: 0.136774 + 0.0209404\n",
      "[400]\tcv_agg's l2: 0.135984 + 0.0205052\n",
      "[500]\tcv_agg's l2: 0.135559 + 0.0203001\n",
      "[600]\tcv_agg's l2: 0.135177 + 0.0200864\n",
      "[700]\tcv_agg's l2: 0.134997 + 0.0199495\n",
      "[800]\tcv_agg's l2: 0.135008 + 0.0199122\n"
     ]
    },
    {
     "name": "stderr",
     "output_type": "stream",
     "text": [
      "num_leaves, val_score: 0.133768:  70%|##################################3              | 14/20 [01:18<00:35,  5.92s/it][I 2023-10-28 18:19:54,343] Trial 20 finished with value: 0.13501962597548264 and parameters: {'num_leaves': 32}. Best is trial 10 with value: 0.13376835556567412.\n",
      "num_leaves, val_score: 0.133768:  70%|##################################3              | 14/20 [01:18<00:35,  5.92s/it]"
     ]
    },
    {
     "name": "stdout",
     "output_type": "stream",
     "text": [
      "Early stopping, best iteration is:\n",
      "[768]\tcv_agg's l2: 0.133768 + 0.0230676\n",
      "[100]\tcv_agg's l2: 0.14302 + 0.0211128\n",
      "[200]\tcv_agg's l2: 0.138906 + 0.0207269\n",
      "[300]\tcv_agg's l2: 0.136774 + 0.0209404\n",
      "[400]\tcv_agg's l2: 0.135984 + 0.0205052\n",
      "[500]\tcv_agg's l2: 0.135559 + 0.0203001\n",
      "[600]\tcv_agg's l2: 0.135177 + 0.0200864\n",
      "[700]\tcv_agg's l2: 0.134997 + 0.0199495\n",
      "[800]\tcv_agg's l2: 0.135008 + 0.0199122\n"
     ]
    },
    {
     "name": "stderr",
     "output_type": "stream",
     "text": [
      "num_leaves, val_score: 0.133768:  75%|####################################7            | 15/20 [01:24<00:29,  5.98s/it][I 2023-10-28 18:20:00,484] Trial 21 finished with value: 0.13501962597548264 and parameters: {'num_leaves': 89}. Best is trial 10 with value: 0.13376835556567412.\n",
      "num_leaves, val_score: 0.133768:  75%|####################################7            | 15/20 [01:24<00:29,  5.98s/it]"
     ]
    },
    {
     "name": "stdout",
     "output_type": "stream",
     "text": [
      "Early stopping, best iteration is:\n",
      "[768]\tcv_agg's l2: 0.133768 + 0.0230676\n",
      "[100]\tcv_agg's l2: 0.14302 + 0.0211128\n",
      "[200]\tcv_agg's l2: 0.138906 + 0.0207269\n",
      "[300]\tcv_agg's l2: 0.136774 + 0.0209404\n",
      "[400]\tcv_agg's l2: 0.135984 + 0.0205052\n",
      "[500]\tcv_agg's l2: 0.135559 + 0.0203001\n",
      "[600]\tcv_agg's l2: 0.135177 + 0.0200864\n",
      "[700]\tcv_agg's l2: 0.134997 + 0.0199495\n",
      "[800]\tcv_agg's l2: 0.135008 + 0.0199122\n"
     ]
    },
    {
     "name": "stderr",
     "output_type": "stream",
     "text": [
      "num_leaves, val_score: 0.133768:  80%|#######################################2         | 16/20 [01:30<00:23,  5.96s/it][I 2023-10-28 18:20:06,381] Trial 22 finished with value: 0.13501962597548264 and parameters: {'num_leaves': 99}. Best is trial 10 with value: 0.13376835556567412.\n",
      "num_leaves, val_score: 0.133768:  80%|#######################################2         | 16/20 [01:30<00:23,  5.96s/it]"
     ]
    },
    {
     "name": "stdout",
     "output_type": "stream",
     "text": [
      "Early stopping, best iteration is:\n",
      "[768]\tcv_agg's l2: 0.133768 + 0.0230676\n",
      "[100]\tcv_agg's l2: 0.14302 + 0.0211128\n",
      "[200]\tcv_agg's l2: 0.138906 + 0.0207269\n",
      "[300]\tcv_agg's l2: 0.136774 + 0.0209404\n",
      "[400]\tcv_agg's l2: 0.135984 + 0.0205052\n",
      "[500]\tcv_agg's l2: 0.135559 + 0.0203001\n",
      "[600]\tcv_agg's l2: 0.135177 + 0.0200864\n",
      "[700]\tcv_agg's l2: 0.134997 + 0.0199495\n",
      "[800]\tcv_agg's l2: 0.135008 + 0.0199122\n"
     ]
    },
    {
     "name": "stderr",
     "output_type": "stream",
     "text": [
      "num_leaves, val_score: 0.133768:  85%|#########################################6       | 17/20 [01:36<00:17,  5.93s/it][I 2023-10-28 18:20:12,232] Trial 23 finished with value: 0.13501962597548264 and parameters: {'num_leaves': 35}. Best is trial 10 with value: 0.13376835556567412.\n",
      "num_leaves, val_score: 0.133768:  85%|#########################################6       | 17/20 [01:36<00:17,  5.93s/it]"
     ]
    },
    {
     "name": "stdout",
     "output_type": "stream",
     "text": [
      "Early stopping, best iteration is:\n",
      "[768]\tcv_agg's l2: 0.133768 + 0.0230676\n",
      "[100]\tcv_agg's l2: 0.14302 + 0.0211128\n",
      "[200]\tcv_agg's l2: 0.138906 + 0.0207269\n",
      "[300]\tcv_agg's l2: 0.136774 + 0.0209404\n",
      "[400]\tcv_agg's l2: 0.135984 + 0.0205052\n",
      "[500]\tcv_agg's l2: 0.135559 + 0.0203001\n",
      "[600]\tcv_agg's l2: 0.135177 + 0.0200864\n",
      "[700]\tcv_agg's l2: 0.134997 + 0.0199495\n",
      "[800]\tcv_agg's l2: 0.135008 + 0.0199122\n"
     ]
    },
    {
     "name": "stderr",
     "output_type": "stream",
     "text": [
      "num_leaves, val_score: 0.133768:  90%|############################################1    | 18/20 [01:42<00:11,  5.96s/it][I 2023-10-28 18:20:18,264] Trial 24 finished with value: 0.13501962597548264 and parameters: {'num_leaves': 72}. Best is trial 10 with value: 0.13376835556567412.\n",
      "num_leaves, val_score: 0.133768:  90%|############################################1    | 18/20 [01:42<00:11,  5.96s/it]"
     ]
    },
    {
     "name": "stdout",
     "output_type": "stream",
     "text": [
      "Early stopping, best iteration is:\n",
      "[768]\tcv_agg's l2: 0.133768 + 0.0230676\n",
      "[100]\tcv_agg's l2: 0.14302 + 0.0211128\n",
      "[200]\tcv_agg's l2: 0.138906 + 0.0207269\n",
      "[300]\tcv_agg's l2: 0.136774 + 0.0209404\n",
      "[400]\tcv_agg's l2: 0.135984 + 0.0205052\n",
      "[500]\tcv_agg's l2: 0.135559 + 0.0203001\n",
      "[600]\tcv_agg's l2: 0.135177 + 0.0200864\n",
      "[700]\tcv_agg's l2: 0.134997 + 0.0199495\n",
      "[800]\tcv_agg's l2: 0.135008 + 0.0199122\n"
     ]
    },
    {
     "name": "stderr",
     "output_type": "stream",
     "text": [
      "num_leaves, val_score: 0.133768:  95%|##############################################5  | 19/20 [01:48<00:06,  6.03s/it][I 2023-10-28 18:20:24,448] Trial 25 finished with value: 0.13501962597548264 and parameters: {'num_leaves': 197}. Best is trial 10 with value: 0.13376835556567412.\n",
      "num_leaves, val_score: 0.133768:  95%|##############################################5  | 19/20 [01:48<00:06,  6.03s/it]"
     ]
    },
    {
     "name": "stdout",
     "output_type": "stream",
     "text": [
      "Early stopping, best iteration is:\n",
      "[768]\tcv_agg's l2: 0.133768 + 0.0230676\n",
      "[100]\tcv_agg's l2: 0.144514 + 0.0206499\n",
      "[200]\tcv_agg's l2: 0.138758 + 0.0192558\n",
      "[300]\tcv_agg's l2: 0.137332 + 0.0196444\n",
      "[400]\tcv_agg's l2: 0.136541 + 0.0194886\n",
      "[500]\tcv_agg's l2: 0.136162 + 0.0193045\n",
      "[600]\tcv_agg's l2: 0.135909 + 0.0190914\n",
      "[700]\tcv_agg's l2: 0.135845 + 0.0190173\n",
      "[800]\tcv_agg's l2: 0.135773 + 0.0189238\n"
     ]
    },
    {
     "name": "stderr",
     "output_type": "stream",
     "text": [
      "num_leaves, val_score: 0.133768: 100%|#################################################| 20/20 [01:54<00:00,  5.86s/it][I 2023-10-28 18:20:29,928] Trial 26 finished with value: 0.13579649607244043 and parameters: {'num_leaves': 23}. Best is trial 10 with value: 0.13376835556567412.\n",
      "num_leaves, val_score: 0.133768: 100%|#################################################| 20/20 [01:54<00:00,  5.70s/it]\n"
     ]
    },
    {
     "name": "stdout",
     "output_type": "stream",
     "text": [
      "Early stopping, best iteration is:\n",
      "[768]\tcv_agg's l2: 0.133768 + 0.0230676\n"
     ]
    },
    {
     "name": "stderr",
     "output_type": "stream",
     "text": [
      "bagging, val_score: 0.133768:   0%|                                                             | 0/10 [00:00<?, ?it/s]"
     ]
    },
    {
     "name": "stdout",
     "output_type": "stream",
     "text": [
      "[100]\tcv_agg's l2: 0.156685 + 0.0354863\n",
      "[200]\tcv_agg's l2: 0.148127 + 0.034377\n",
      "[300]\tcv_agg's l2: 0.146178 + 0.0343302\n",
      "[400]\tcv_agg's l2: 0.145066 + 0.0343262\n",
      "[500]\tcv_agg's l2: 0.144767 + 0.0341197\n",
      "[600]\tcv_agg's l2: 0.144656 + 0.0338011\n",
      "[700]\tcv_agg's l2: 0.144718 + 0.03379\n",
      "[800]\tcv_agg's l2: 0.144896 + 0.0337738\n"
     ]
    },
    {
     "name": "stderr",
     "output_type": "stream",
     "text": [
      "bagging, val_score: 0.133768:  10%|#####3                                               | 1/10 [00:05<00:47,  5.28s/it][I 2023-10-28 18:20:35,216] Trial 27 finished with value: 0.14484437096453384 and parameters: {'bagging_fraction': 0.8056017492250644, 'bagging_freq': 3}. Best is trial 27 with value: 0.14484437096453384.\n",
      "bagging, val_score: 0.133768:  10%|#####3                                               | 1/10 [00:05<00:47,  5.28s/it]"
     ]
    },
    {
     "name": "stdout",
     "output_type": "stream",
     "text": [
      "Early stopping, best iteration is:\n",
      "[768]\tcv_agg's l2: 0.133768 + 0.0230676\n",
      "[100]\tcv_agg's l2: 0.224933 + 0.0317668\n",
      "[200]\tcv_agg's l2: 0.205329 + 0.0219251\n",
      "[300]\tcv_agg's l2: 0.20084 + 0.0230789\n",
      "[400]\tcv_agg's l2: 0.196445 + 0.018284\n",
      "[500]\tcv_agg's l2: 0.193633 + 0.0164146\n",
      "[600]\tcv_agg's l2: 0.193858 + 0.015555\n",
      "[700]\tcv_agg's l2: 0.190716 + 0.0157373\n",
      "[800]\tcv_agg's l2: 0.191116 + 0.0180283\n"
     ]
    },
    {
     "name": "stderr",
     "output_type": "stream",
     "text": [
      "bagging, val_score: 0.133768:  20%|##########6                                          | 2/10 [00:08<00:32,  4.04s/it][I 2023-10-28 18:20:38,395] Trial 28 finished with value: 0.18980213815626357 and parameters: {'bagging_fraction': 0.40513634011484656, 'bagging_freq': 7}. Best is trial 27 with value: 0.14484437096453384.\n",
      "bagging, val_score: 0.133768:  20%|##########6                                          | 2/10 [00:08<00:32,  4.04s/it]"
     ]
    },
    {
     "name": "stdout",
     "output_type": "stream",
     "text": [
      "Early stopping, best iteration is:\n",
      "[768]\tcv_agg's l2: 0.133768 + 0.0230676\n",
      "[100]\tcv_agg's l2: 0.143111 + 0.0228027\n",
      "[200]\tcv_agg's l2: 0.137067 + 0.0233207\n",
      "[300]\tcv_agg's l2: 0.135132 + 0.0234495\n",
      "[400]\tcv_agg's l2: 0.134617 + 0.0232696\n",
      "[500]\tcv_agg's l2: 0.134523 + 0.0233433\n",
      "[600]\tcv_agg's l2: 0.134447 + 0.0232909\n",
      "[700]\tcv_agg's l2: 0.134468 + 0.023148\n",
      "[800]\tcv_agg's l2: 0.134624 + 0.023065\n"
     ]
    },
    {
     "name": "stderr",
     "output_type": "stream",
     "text": [
      "bagging, val_score: 0.133768:  30%|###############9                                     | 3/10 [00:13<00:32,  4.67s/it][I 2023-10-28 18:20:43,808] Trial 29 finished with value: 0.13459231180765968 and parameters: {'bagging_fraction': 0.9783673986577774, 'bagging_freq': 1}. Best is trial 29 with value: 0.13459231180765968.\n",
      "bagging, val_score: 0.133768:  30%|###############9                                     | 3/10 [00:13<00:32,  4.67s/it]"
     ]
    },
    {
     "name": "stdout",
     "output_type": "stream",
     "text": [
      "Early stopping, best iteration is:\n",
      "[768]\tcv_agg's l2: 0.133768 + 0.0230676\n",
      "[100]\tcv_agg's l2: 0.141712 + 0.0225605\n",
      "[200]\tcv_agg's l2: 0.135221 + 0.0218255\n",
      "[300]\tcv_agg's l2: 0.134123 + 0.0216172\n",
      "[400]\tcv_agg's l2: 0.13426 + 0.0209347\n",
      "[500]\tcv_agg's l2: 0.13444 + 0.0205357\n",
      "[600]\tcv_agg's l2: 0.134467 + 0.0203107\n",
      "[700]\tcv_agg's l2: 0.13451 + 0.02028\n",
      "[800]\tcv_agg's l2: 0.134584 + 0.0200973\n"
     ]
    },
    {
     "name": "stderr",
     "output_type": "stream",
     "text": [
      "bagging, val_score: 0.133768:  40%|#####################2                               | 4/10 [00:19<00:29,  4.95s/it][I 2023-10-28 18:20:49,195] Trial 30 finished with value: 0.13460361854079586 and parameters: {'bagging_fraction': 0.9830492091445308, 'bagging_freq': 1}. Best is trial 29 with value: 0.13459231180765968.\n",
      "bagging, val_score: 0.133768:  40%|#####################2                               | 4/10 [00:19<00:29,  4.95s/it]"
     ]
    },
    {
     "name": "stdout",
     "output_type": "stream",
     "text": [
      "Early stopping, best iteration is:\n",
      "[768]\tcv_agg's l2: 0.133768 + 0.0230676\n",
      "[100]\tcv_agg's l2: 0.143166 + 0.0222382\n",
      "[200]\tcv_agg's l2: 0.137209 + 0.0224501\n",
      "[300]\tcv_agg's l2: 0.135702 + 0.0214412\n",
      "[400]\tcv_agg's l2: 0.135505 + 0.0212214\n",
      "[500]\tcv_agg's l2: 0.134967 + 0.0212655\n",
      "[600]\tcv_agg's l2: 0.134903 + 0.0210482\n",
      "[700]\tcv_agg's l2: 0.134856 + 0.0208762\n",
      "[800]\tcv_agg's l2: 0.134757 + 0.020746\n"
     ]
    },
    {
     "name": "stderr",
     "output_type": "stream",
     "text": [
      "bagging, val_score: 0.133768:  50%|##########################5                          | 5/10 [00:24<00:25,  5.14s/it][I 2023-10-28 18:20:54,659] Trial 31 finished with value: 0.1348474295071147 and parameters: {'bagging_fraction': 0.9962306342364656, 'bagging_freq': 1}. Best is trial 29 with value: 0.13459231180765968.\n",
      "bagging, val_score: 0.133768:  50%|##########################5                          | 5/10 [00:24<00:25,  5.14s/it]"
     ]
    },
    {
     "name": "stdout",
     "output_type": "stream",
     "text": [
      "Early stopping, best iteration is:\n",
      "[768]\tcv_agg's l2: 0.133768 + 0.0230676\n",
      "[100]\tcv_agg's l2: 0.142656 + 0.0226736\n",
      "[200]\tcv_agg's l2: 0.137542 + 0.0234747\n",
      "[300]\tcv_agg's l2: 0.135186 + 0.0228104\n",
      "[400]\tcv_agg's l2: 0.134667 + 0.0226417\n",
      "[500]\tcv_agg's l2: 0.134455 + 0.0227066\n",
      "[600]\tcv_agg's l2: 0.134302 + 0.0226371\n",
      "[700]\tcv_agg's l2: 0.134308 + 0.0225272\n",
      "[800]\tcv_agg's l2: 0.134288 + 0.0224753\n"
     ]
    },
    {
     "name": "stderr",
     "output_type": "stream",
     "text": [
      "bagging, val_score: 0.133768:  60%|###############################8                     | 6/10 [00:31<00:22,  5.67s/it][I 2023-10-28 18:21:01,362] Trial 32 finished with value: 0.13427571676671657 and parameters: {'bagging_fraction': 0.9969148568202564, 'bagging_freq': 1}. Best is trial 32 with value: 0.13427571676671657.\n",
      "bagging, val_score: 0.133768:  60%|###############################8                     | 6/10 [00:31<00:22,  5.67s/it]"
     ]
    },
    {
     "name": "stdout",
     "output_type": "stream",
     "text": [
      "Early stopping, best iteration is:\n",
      "[768]\tcv_agg's l2: 0.133768 + 0.0230676\n",
      "[100]\tcv_agg's l2: 0.141974 + 0.0218763\n",
      "[200]\tcv_agg's l2: 0.135736 + 0.020607\n",
      "[300]\tcv_agg's l2: 0.135209 + 0.0207145\n",
      "[400]\tcv_agg's l2: 0.134712 + 0.0203207\n",
      "[500]\tcv_agg's l2: 0.1344 + 0.0205093\n",
      "[600]\tcv_agg's l2: 0.134341 + 0.0203398\n",
      "[700]\tcv_agg's l2: 0.134202 + 0.0203055\n",
      "[800]\tcv_agg's l2: 0.134063 + 0.0201983\n"
     ]
    },
    {
     "name": "stderr",
     "output_type": "stream",
     "text": [
      "bagging, val_score: 0.133768:  70%|#####################################                | 7/10 [00:36<00:16,  5.56s/it][I 2023-10-28 18:21:06,695] Trial 33 finished with value: 0.1340952441676554 and parameters: {'bagging_fraction': 0.9905349769252285, 'bagging_freq': 1}. Best is trial 33 with value: 0.1340952441676554.\n",
      "bagging, val_score: 0.133768:  70%|#####################################                | 7/10 [00:36<00:16,  5.56s/it]"
     ]
    },
    {
     "name": "stdout",
     "output_type": "stream",
     "text": [
      "Early stopping, best iteration is:\n",
      "[768]\tcv_agg's l2: 0.133768 + 0.0230676\n",
      "[100]\tcv_agg's l2: 0.142602 + 0.01922\n",
      "[200]\tcv_agg's l2: 0.136328 + 0.0191245\n",
      "[300]\tcv_agg's l2: 0.134869 + 0.0185873\n",
      "[400]\tcv_agg's l2: 0.134355 + 0.0184299\n",
      "[500]\tcv_agg's l2: 0.133799 + 0.017836\n",
      "[600]\tcv_agg's l2: 0.133675 + 0.0175661\n"
     ]
    },
    {
     "name": "stderr",
     "output_type": "stream",
     "text": [
      "bagging, val_score: 0.133658:  80%|##########################################4          | 8/10 [00:40<00:10,  5.08s/it][I 2023-10-28 18:21:10,759] Trial 34 finished with value: 0.133657815807724 and parameters: {'bagging_fraction': 0.9909029780815463, 'bagging_freq': 1}. Best is trial 34 with value: 0.133657815807724.\n",
      "bagging, val_score: 0.133658:  80%|##########################################4          | 8/10 [00:40<00:10,  5.08s/it]"
     ]
    },
    {
     "name": "stdout",
     "output_type": "stream",
     "text": [
      "Early stopping, best iteration is:\n",
      "[584]\tcv_agg's l2: 0.133658 + 0.0176062\n",
      "[100]\tcv_agg's l2: 0.146153 + 0.0299074\n",
      "[200]\tcv_agg's l2: 0.140068 + 0.0291011\n",
      "[300]\tcv_agg's l2: 0.137356 + 0.0273545\n",
      "[400]\tcv_agg's l2: 0.136512 + 0.0271953\n",
      "[500]\tcv_agg's l2: 0.136232 + 0.0265952\n",
      "[600]\tcv_agg's l2: 0.136146 + 0.0262698\n"
     ]
    },
    {
     "name": "stderr",
     "output_type": "stream",
     "text": [
      "bagging, val_score: 0.133658:  90%|###############################################7     | 9/10 [00:45<00:04,  4.90s/it][I 2023-10-28 18:21:15,267] Trial 35 finished with value: 0.1361295758029238 and parameters: {'bagging_fraction': 0.8819186421960137, 'bagging_freq': 3}. Best is trial 34 with value: 0.133657815807724.\n",
      "bagging, val_score: 0.133658:  90%|###############################################7     | 9/10 [00:45<00:04,  4.90s/it]"
     ]
    },
    {
     "name": "stdout",
     "output_type": "stream",
     "text": [
      "Early stopping, best iteration is:\n",
      "[584]\tcv_agg's l2: 0.133658 + 0.0176062\n",
      "[100]\tcv_agg's l2: 0.142941 + 0.0251199\n",
      "[200]\tcv_agg's l2: 0.137554 + 0.0240907\n",
      "[300]\tcv_agg's l2: 0.135621 + 0.0237979\n",
      "[400]\tcv_agg's l2: 0.134885 + 0.023746\n",
      "[500]\tcv_agg's l2: 0.134383 + 0.0234668\n",
      "[600]\tcv_agg's l2: 0.134106 + 0.0232292\n"
     ]
    },
    {
     "name": "stderr",
     "output_type": "stream",
     "text": [
      "bagging, val_score: 0.133658: 100%|####################################################| 10/10 [00:50<00:00,  5.06s/it][I 2023-10-28 18:21:20,687] Trial 36 finished with value: 0.13417777417801538 and parameters: {'bagging_fraction': 0.9986039163648067, 'bagging_freq': 1}. Best is trial 34 with value: 0.133657815807724.\n",
      "bagging, val_score: 0.133658: 100%|####################################################| 10/10 [00:50<00:00,  5.08s/it]\n"
     ]
    },
    {
     "name": "stdout",
     "output_type": "stream",
     "text": [
      "Early stopping, best iteration is:\n",
      "[584]\tcv_agg's l2: 0.133658 + 0.0176062\n"
     ]
    },
    {
     "name": "stderr",
     "output_type": "stream",
     "text": [
      "feature_fraction_stage2, val_score: 0.133658:   0%|                                              | 0/3 [00:00<?, ?it/s]"
     ]
    },
    {
     "name": "stdout",
     "output_type": "stream",
     "text": [
      "[100]\tcv_agg's l2: 0.15443 + 0.0266637\n",
      "[200]\tcv_agg's l2: 0.148753 + 0.026019\n",
      "[300]\tcv_agg's l2: 0.146769 + 0.0247258\n",
      "[400]\tcv_agg's l2: 0.146159 + 0.0240349\n",
      "[500]\tcv_agg's l2: 0.145824 + 0.0241745\n",
      "[600]\tcv_agg's l2: 0.145564 + 0.0241618\n"
     ]
    },
    {
     "name": "stderr",
     "output_type": "stream",
     "text": [
      "feature_fraction_stage2, val_score: 0.133658:  33%|############6                         | 1/3 [00:04<00:08,  4.04s/it][I 2023-10-28 18:21:24,738] Trial 37 finished with value: 0.14556698215494135 and parameters: {'feature_fraction': 0.44800000000000006}. Best is trial 37 with value: 0.14556698215494135.\n",
      "feature_fraction_stage2, val_score: 0.133658:  33%|############6                         | 1/3 [00:04<00:08,  4.04s/it]"
     ]
    },
    {
     "name": "stdout",
     "output_type": "stream",
     "text": [
      "Early stopping, best iteration is:\n",
      "[584]\tcv_agg's l2: 0.133658 + 0.0176062\n",
      "[100]\tcv_agg's l2: 0.153527 + 0.0263124\n",
      "[200]\tcv_agg's l2: 0.148242 + 0.0254282\n",
      "[300]\tcv_agg's l2: 0.146762 + 0.0239503\n",
      "[400]\tcv_agg's l2: 0.146205 + 0.0234052\n",
      "[500]\tcv_agg's l2: 0.14591 + 0.0228811\n",
      "[600]\tcv_agg's l2: 0.145797 + 0.0224235\n"
     ]
    },
    {
     "name": "stderr",
     "output_type": "stream",
     "text": [
      "feature_fraction_stage2, val_score: 0.133658:  67%|#########################3            | 2/3 [00:08<00:04,  4.26s/it][I 2023-10-28 18:21:29,158] Trial 38 finished with value: 0.14573105517625887 and parameters: {'feature_fraction': 0.48000000000000004}. Best is trial 37 with value: 0.14556698215494135.\n",
      "feature_fraction_stage2, val_score: 0.133658:  67%|#########################3            | 2/3 [00:08<00:04,  4.26s/it]"
     ]
    },
    {
     "name": "stdout",
     "output_type": "stream",
     "text": [
      "Early stopping, best iteration is:\n",
      "[584]\tcv_agg's l2: 0.133658 + 0.0176062\n",
      "[100]\tcv_agg's l2: 0.145059 + 0.0263702\n",
      "[200]\tcv_agg's l2: 0.139803 + 0.0263403\n",
      "[300]\tcv_agg's l2: 0.138267 + 0.0260814\n",
      "[400]\tcv_agg's l2: 0.137797 + 0.0258767\n",
      "[500]\tcv_agg's l2: 0.13747 + 0.0255959\n",
      "[600]\tcv_agg's l2: 0.13723 + 0.0254194\n"
     ]
    },
    {
     "name": "stderr",
     "output_type": "stream",
     "text": [
      "feature_fraction_stage2, val_score: 0.133658: 100%|######################################| 3/3 [00:12<00:00,  4.34s/it][I 2023-10-28 18:21:33,584] Trial 39 finished with value: 0.13726107190900877 and parameters: {'feature_fraction': 0.41600000000000004}. Best is trial 39 with value: 0.13726107190900877.\n",
      "feature_fraction_stage2, val_score: 0.133658: 100%|######################################| 3/3 [00:12<00:00,  4.30s/it]\n"
     ]
    },
    {
     "name": "stdout",
     "output_type": "stream",
     "text": [
      "Early stopping, best iteration is:\n",
      "[584]\tcv_agg's l2: 0.133658 + 0.0176062\n"
     ]
    },
    {
     "name": "stderr",
     "output_type": "stream",
     "text": [
      "regularization_factors, val_score: 0.133658:   0%|                                              | 0/20 [00:00<?, ?it/s]"
     ]
    },
    {
     "name": "stdout",
     "output_type": "stream",
     "text": [
      "[100]\tcv_agg's l2: 0.145757 + 0.0301804\n",
      "[200]\tcv_agg's l2: 0.138508 + 0.0306163\n",
      "[300]\tcv_agg's l2: 0.136879 + 0.0308689\n",
      "[400]\tcv_agg's l2: 0.136853 + 0.0308772\n",
      "[500]\tcv_agg's l2: 0.136853 + 0.0308772\n",
      "[600]\tcv_agg's l2: 0.136853 + 0.0308772\n"
     ]
    },
    {
     "name": "stderr",
     "output_type": "stream",
     "text": [
      "regularization_factors, val_score: 0.133658:   5%|#9                                    | 1/20 [00:02<00:43,  2.27s/it][I 2023-10-28 18:21:35,866] Trial 40 finished with value: 0.13685325599903447 and parameters: {'lambda_l1': 0.9517874852274741, 'lambda_l2': 0.42961188120066135}. Best is trial 40 with value: 0.13685325599903447.\n",
      "regularization_factors, val_score: 0.133658:   5%|#9                                    | 1/20 [00:02<00:43,  2.27s/it]"
     ]
    },
    {
     "name": "stdout",
     "output_type": "stream",
     "text": [
      "Early stopping, best iteration is:\n",
      "[584]\tcv_agg's l2: 0.133658 + 0.0176062\n",
      "[100]\tcv_agg's l2: 0.142758 + 0.0195003\n",
      "[200]\tcv_agg's l2: 0.136686 + 0.0197522\n",
      "[300]\tcv_agg's l2: 0.134851 + 0.0185566\n",
      "[400]\tcv_agg's l2: 0.134286 + 0.0183116\n",
      "[500]\tcv_agg's l2: 0.133909 + 0.0180215\n",
      "[600]\tcv_agg's l2: 0.133726 + 0.0176512\n"
     ]
    },
    {
     "name": "stderr",
     "output_type": "stream",
     "text": [
      "regularization_factors, val_score: 0.133658:  10%|###8                                  | 2/20 [00:06<01:02,  3.48s/it][I 2023-10-28 18:21:40,194] Trial 41 finished with value: 0.1337167900185506 and parameters: {'lambda_l1': 3.07770491010543e-08, 'lambda_l2': 4.9283459186463314e-08}. Best is trial 41 with value: 0.1337167900185506.\n",
      "regularization_factors, val_score: 0.133658:  10%|###8                                  | 2/20 [00:06<01:02,  3.48s/it]"
     ]
    },
    {
     "name": "stdout",
     "output_type": "stream",
     "text": [
      "Early stopping, best iteration is:\n",
      "[584]\tcv_agg's l2: 0.133658 + 0.0176062\n",
      "[100]\tcv_agg's l2: 0.142758 + 0.0195003\n",
      "[200]\tcv_agg's l2: 0.136686 + 0.0197522\n",
      "[300]\tcv_agg's l2: 0.134851 + 0.0185566\n",
      "[400]\tcv_agg's l2: 0.134286 + 0.0183116\n",
      "[500]\tcv_agg's l2: 0.133909 + 0.0180215\n",
      "[600]\tcv_agg's l2: 0.133726 + 0.0176512\n"
     ]
    },
    {
     "name": "stderr",
     "output_type": "stream",
     "text": [
      "regularization_factors, val_score: 0.133658:  15%|#####7                                | 3/20 [00:10<01:04,  3.78s/it][I 2023-10-28 18:21:44,334] Trial 42 finished with value: 0.13371679009007997 and parameters: {'lambda_l1': 1.2841293981593195e-07, 'lambda_l2': 1.5234048425558523e-08}. Best is trial 41 with value: 0.1337167900185506.\n",
      "regularization_factors, val_score: 0.133658:  15%|#####7                                | 3/20 [00:10<01:04,  3.78s/it]"
     ]
    },
    {
     "name": "stdout",
     "output_type": "stream",
     "text": [
      "Early stopping, best iteration is:\n",
      "[584]\tcv_agg's l2: 0.133658 + 0.0176062\n",
      "[100]\tcv_agg's l2: 0.142758 + 0.0195003\n",
      "[200]\tcv_agg's l2: 0.136686 + 0.0197522\n",
      "[300]\tcv_agg's l2: 0.134851 + 0.0185566\n",
      "[400]\tcv_agg's l2: 0.134286 + 0.0183116\n",
      "[500]\tcv_agg's l2: 0.133909 + 0.0180215\n",
      "[600]\tcv_agg's l2: 0.133726 + 0.0176512\n"
     ]
    },
    {
     "name": "stderr",
     "output_type": "stream",
     "text": [
      "regularization_factors, val_score: 0.133658:  20%|#######6                              | 4/20 [00:15<01:04,  4.01s/it][I 2023-10-28 18:21:48,695] Trial 43 finished with value: 0.13371679006459022 and parameters: {'lambda_l1': 2.0884831407018145e-08, 'lambda_l2': 1.187335936216248e-08}. Best is trial 41 with value: 0.1337167900185506.\n",
      "regularization_factors, val_score: 0.133658:  20%|#######6                              | 4/20 [00:15<01:04,  4.01s/it]"
     ]
    },
    {
     "name": "stdout",
     "output_type": "stream",
     "text": [
      "Early stopping, best iteration is:\n",
      "[584]\tcv_agg's l2: 0.133658 + 0.0176062\n",
      "[100]\tcv_agg's l2: 0.142758 + 0.0195003\n",
      "[200]\tcv_agg's l2: 0.136686 + 0.0197522\n",
      "[300]\tcv_agg's l2: 0.134851 + 0.0185566\n",
      "[400]\tcv_agg's l2: 0.134286 + 0.0183116\n",
      "[500]\tcv_agg's l2: 0.133909 + 0.0180215\n",
      "[600]\tcv_agg's l2: 0.133726 + 0.0176512\n"
     ]
    },
    {
     "name": "stderr",
     "output_type": "stream",
     "text": [
      "regularization_factors, val_score: 0.133658:  25%|#########5                            | 5/20 [00:19<01:02,  4.17s/it][I 2023-10-28 18:21:53,155] Trial 44 finished with value: 0.1337167900753527 and parameters: {'lambda_l1': 1.1880081444745084e-08, 'lambda_l2': 1.0804524396747965e-08}. Best is trial 41 with value: 0.1337167900185506.\n",
      "regularization_factors, val_score: 0.133658:  25%|#########5                            | 5/20 [00:19<01:02,  4.17s/it]"
     ]
    },
    {
     "name": "stdout",
     "output_type": "stream",
     "text": [
      "Early stopping, best iteration is:\n",
      "[584]\tcv_agg's l2: 0.133658 + 0.0176062\n",
      "[100]\tcv_agg's l2: 0.142758 + 0.0195003\n",
      "[200]\tcv_agg's l2: 0.136686 + 0.0197522\n",
      "[300]\tcv_agg's l2: 0.134851 + 0.0185566\n",
      "[400]\tcv_agg's l2: 0.134286 + 0.0183116\n",
      "[500]\tcv_agg's l2: 0.133909 + 0.0180215\n",
      "[600]\tcv_agg's l2: 0.133726 + 0.0176512\n"
     ]
    },
    {
     "name": "stderr",
     "output_type": "stream",
     "text": [
      "regularization_factors, val_score: 0.133658:  30%|###########4                          | 6/20 [00:23<00:59,  4.22s/it][I 2023-10-28 18:21:57,457] Trial 45 finished with value: 0.13371679007565712 and parameters: {'lambda_l1': 1.2139253550656377e-08, 'lambda_l2': 1.1200066941859822e-08}. Best is trial 41 with value: 0.1337167900185506.\n",
      "regularization_factors, val_score: 0.133658:  30%|###########4                          | 6/20 [00:23<00:59,  4.22s/it]"
     ]
    },
    {
     "name": "stdout",
     "output_type": "stream",
     "text": [
      "Early stopping, best iteration is:\n",
      "[584]\tcv_agg's l2: 0.133658 + 0.0176062\n",
      "[100]\tcv_agg's l2: 0.142758 + 0.0195003\n",
      "[200]\tcv_agg's l2: 0.136686 + 0.0197522\n",
      "[300]\tcv_agg's l2: 0.134851 + 0.0185566\n",
      "[400]\tcv_agg's l2: 0.134286 + 0.0183116\n",
      "[500]\tcv_agg's l2: 0.133909 + 0.0180215\n",
      "[600]\tcv_agg's l2: 0.133726 + 0.0176512\n"
     ]
    },
    {
     "name": "stderr",
     "output_type": "stream",
     "text": [
      "regularization_factors, val_score: 0.133658:  35%|#############3                        | 7/20 [00:28<00:54,  4.20s/it][I 2023-10-28 18:22:01,620] Trial 46 finished with value: 0.1337167900352542 and parameters: {'lambda_l1': 2.482113053636365e-08, 'lambda_l2': 1.3144909601535557e-08}. Best is trial 41 with value: 0.1337167900185506.\n",
      "regularization_factors, val_score: 0.133658:  35%|#############3                        | 7/20 [00:28<00:54,  4.20s/it]"
     ]
    },
    {
     "name": "stdout",
     "output_type": "stream",
     "text": [
      "Early stopping, best iteration is:\n",
      "[584]\tcv_agg's l2: 0.133658 + 0.0176062\n",
      "[100]\tcv_agg's l2: 0.142758 + 0.0195003\n",
      "[200]\tcv_agg's l2: 0.136686 + 0.0197522\n",
      "[300]\tcv_agg's l2: 0.134851 + 0.0185566\n",
      "[400]\tcv_agg's l2: 0.134286 + 0.0183116\n",
      "[500]\tcv_agg's l2: 0.133909 + 0.0180215\n",
      "[600]\tcv_agg's l2: 0.133726 + 0.0176512\n"
     ]
    },
    {
     "name": "stderr",
     "output_type": "stream",
     "text": [
      "regularization_factors, val_score: 0.133658:  40%|###############2                      | 8/20 [00:32<00:52,  4.41s/it][I 2023-10-28 18:22:06,497] Trial 47 finished with value: 0.13371679004495365 and parameters: {'lambda_l1': 1.7585044155616704e-08, 'lambda_l2': 1.4422735908349409e-08}. Best is trial 41 with value: 0.1337167900185506.\n",
      "regularization_factors, val_score: 0.133658:  40%|###############2                      | 8/20 [00:32<00:52,  4.41s/it]"
     ]
    },
    {
     "name": "stdout",
     "output_type": "stream",
     "text": [
      "Early stopping, best iteration is:\n",
      "[584]\tcv_agg's l2: 0.133658 + 0.0176062\n",
      "[100]\tcv_agg's l2: 0.142758 + 0.0195003\n",
      "[200]\tcv_agg's l2: 0.136686 + 0.0197522\n",
      "[300]\tcv_agg's l2: 0.134851 + 0.0185566\n",
      "[400]\tcv_agg's l2: 0.134286 + 0.0183116\n",
      "[500]\tcv_agg's l2: 0.133909 + 0.0180215\n",
      "[600]\tcv_agg's l2: 0.133726 + 0.0176512\n"
     ]
    },
    {
     "name": "stderr",
     "output_type": "stream",
     "text": [
      "regularization_factors, val_score: 0.133658:  45%|#################1                    | 9/20 [00:37<00:49,  4.50s/it][I 2023-10-28 18:22:11,192] Trial 48 finished with value: 0.1337167900765093 and parameters: {'lambda_l1': 7.189718622292674e-08, 'lambda_l2': 2.4644110101047412e-08}. Best is trial 41 with value: 0.1337167900185506.\n",
      "regularization_factors, val_score: 0.133658:  45%|#################1                    | 9/20 [00:37<00:49,  4.50s/it]"
     ]
    },
    {
     "name": "stdout",
     "output_type": "stream",
     "text": [
      "Early stopping, best iteration is:\n",
      "[584]\tcv_agg's l2: 0.133658 + 0.0176062\n",
      "[100]\tcv_agg's l2: 0.142758 + 0.0195003\n",
      "[200]\tcv_agg's l2: 0.136686 + 0.0197522\n",
      "[300]\tcv_agg's l2: 0.134851 + 0.0185566\n",
      "[400]\tcv_agg's l2: 0.134286 + 0.0183116\n",
      "[500]\tcv_agg's l2: 0.133909 + 0.0180215\n",
      "[600]\tcv_agg's l2: 0.133701 + 0.0177171\n"
     ]
    },
    {
     "name": "stderr",
     "output_type": "stream",
     "text": [
      "regularization_factors, val_score: 0.133658:  50%|##################5                  | 10/20 [00:42<00:45,  4.53s/it][I 2023-10-28 18:22:15,795] Trial 49 finished with value: 0.1336711525825109 and parameters: {'lambda_l1': 5.690578887498055e-07, 'lambda_l2': 1.0212414962367332e-06}. Best is trial 49 with value: 0.1336711525825109.\n",
      "regularization_factors, val_score: 0.133658:  50%|##################5                  | 10/20 [00:42<00:45,  4.53s/it]"
     ]
    },
    {
     "name": "stdout",
     "output_type": "stream",
     "text": [
      "Early stopping, best iteration is:\n",
      "[584]\tcv_agg's l2: 0.133658 + 0.0176062\n",
      "[100]\tcv_agg's l2: 0.142698 + 0.0194874\n",
      "[200]\tcv_agg's l2: 0.136409 + 0.0199625\n",
      "[300]\tcv_agg's l2: 0.134571 + 0.0193229\n",
      "[400]\tcv_agg's l2: 0.134085 + 0.0191632\n",
      "[500]\tcv_agg's l2: 0.133515 + 0.0192318\n",
      "[600]\tcv_agg's l2: 0.133346 + 0.0189663\n"
     ]
    },
    {
     "name": "stderr",
     "output_type": "stream",
     "text": [
      "regularization_factors, val_score: 0.133255:  55%|####################3                | 11/20 [00:46<00:39,  4.41s/it][I 2023-10-28 18:22:19,936] Trial 50 finished with value: 0.13325467521692752 and parameters: {'lambda_l1': 8.772188748737766e-06, 'lambda_l2': 2.1117822542936693e-06}. Best is trial 50 with value: 0.13325467521692752.\n",
      "regularization_factors, val_score: 0.133255:  55%|####################3                | 11/20 [00:46<00:39,  4.41s/it]"
     ]
    },
    {
     "name": "stdout",
     "output_type": "stream",
     "text": [
      "Early stopping, best iteration is:\n",
      "[563]\tcv_agg's l2: 0.133255 + 0.0189369\n",
      "[100]\tcv_agg's l2: 0.142758 + 0.0195003\n",
      "[200]\tcv_agg's l2: 0.136686 + 0.0197522\n",
      "[300]\tcv_agg's l2: 0.134851 + 0.0185566\n",
      "[400]\tcv_agg's l2: 0.134286 + 0.0183116\n",
      "[500]\tcv_agg's l2: 0.133909 + 0.0180215\n",
      "[600]\tcv_agg's l2: 0.133701 + 0.0177171\n"
     ]
    },
    {
     "name": "stderr",
     "output_type": "stream",
     "text": [
      "regularization_factors, val_score: 0.133255:  60%|######################2              | 12/20 [00:50<00:34,  4.31s/it][I 2023-10-28 18:22:24,004] Trial 51 finished with value: 0.13384403126460803 and parameters: {'lambda_l1': 1.7613487876902703e-06, 'lambda_l2': 2.875545257710307e-06}. Best is trial 50 with value: 0.13325467521692752.\n",
      "regularization_factors, val_score: 0.133255:  60%|######################2              | 12/20 [00:50<00:34,  4.31s/it]"
     ]
    },
    {
     "name": "stdout",
     "output_type": "stream",
     "text": [
      "Early stopping, best iteration is:\n",
      "[563]\tcv_agg's l2: 0.133255 + 0.0189369\n",
      "[100]\tcv_agg's l2: 0.142698 + 0.0194874\n",
      "[200]\tcv_agg's l2: 0.136635 + 0.0197351\n",
      "[300]\tcv_agg's l2: 0.135168 + 0.0186937\n",
      "[400]\tcv_agg's l2: 0.134586 + 0.0184171\n",
      "[500]\tcv_agg's l2: 0.134232 + 0.0180592\n",
      "[600]\tcv_agg's l2: 0.134094 + 0.0178594\n"
     ]
    },
    {
     "name": "stderr",
     "output_type": "stream",
     "text": [
      "regularization_factors, val_score: 0.133255:  65%|########################             | 13/20 [00:54<00:29,  4.24s/it][I 2023-10-28 18:22:28,072] Trial 52 finished with value: 0.1342408912343552 and parameters: {'lambda_l1': 4.024019901688471e-06, 'lambda_l2': 1.4945998960536893e-06}. Best is trial 50 with value: 0.13325467521692752.\n",
      "regularization_factors, val_score: 0.133255:  65%|########################             | 13/20 [00:54<00:29,  4.24s/it]"
     ]
    },
    {
     "name": "stdout",
     "output_type": "stream",
     "text": [
      "Early stopping, best iteration is:\n",
      "[563]\tcv_agg's l2: 0.133255 + 0.0189369\n",
      "[100]\tcv_agg's l2: 0.142758 + 0.0195003\n",
      "[200]\tcv_agg's l2: 0.136686 + 0.0197522\n",
      "[300]\tcv_agg's l2: 0.134868 + 0.0185629\n",
      "[400]\tcv_agg's l2: 0.134268 + 0.0183042\n",
      "[500]\tcv_agg's l2: 0.134091 + 0.0181065\n",
      "[600]\tcv_agg's l2: 0.133874 + 0.0178034\n"
     ]
    },
    {
     "name": "stderr",
     "output_type": "stream",
     "text": [
      "regularization_factors, val_score: 0.133255:  70%|#########################9           | 14/20 [00:58<00:25,  4.23s/it][I 2023-10-28 18:22:32,292] Trial 53 finished with value: 0.13404699019934557 and parameters: {'lambda_l1': 1.8729064635768827e-06, 'lambda_l2': 1.8406587199501464e-06}. Best is trial 50 with value: 0.13325467521692752.\n",
      "regularization_factors, val_score: 0.133255:  70%|#########################9           | 14/20 [00:58<00:25,  4.23s/it]"
     ]
    },
    {
     "name": "stdout",
     "output_type": "stream",
     "text": [
      "Early stopping, best iteration is:\n",
      "[563]\tcv_agg's l2: 0.133255 + 0.0189369\n",
      "[100]\tcv_agg's l2: 0.142758 + 0.0195003\n",
      "[200]\tcv_agg's l2: 0.136686 + 0.0197522\n",
      "[300]\tcv_agg's l2: 0.134851 + 0.0185566\n",
      "[400]\tcv_agg's l2: 0.134286 + 0.0183116\n",
      "[500]\tcv_agg's l2: 0.133909 + 0.0180215\n",
      "[600]\tcv_agg's l2: 0.133726 + 0.0176512\n"
     ]
    },
    {
     "name": "stderr",
     "output_type": "stream",
     "text": [
      "regularization_factors, val_score: 0.133255:  75%|###########################7         | 15/20 [01:02<00:20,  4.18s/it][I 2023-10-28 18:22:36,345] Trial 54 finished with value: 0.13384158789897044 and parameters: {'lambda_l1': 3.90488674907717e-07, 'lambda_l2': 3.2305540863437945e-07}. Best is trial 50 with value: 0.13325467521692752.\n",
      "regularization_factors, val_score: 0.133255:  75%|###########################7         | 15/20 [01:02<00:20,  4.18s/it]"
     ]
    },
    {
     "name": "stdout",
     "output_type": "stream",
     "text": [
      "Early stopping, best iteration is:\n",
      "[563]\tcv_agg's l2: 0.133255 + 0.0189369\n",
      "[100]\tcv_agg's l2: 0.142572 + 0.0194627\n",
      "[200]\tcv_agg's l2: 0.136747 + 0.0200871\n",
      "[300]\tcv_agg's l2: 0.134927 + 0.0196257\n",
      "[400]\tcv_agg's l2: 0.134325 + 0.019586\n",
      "[500]\tcv_agg's l2: 0.133769 + 0.0196746\n",
      "[600]\tcv_agg's l2: 0.133554 + 0.0193993\n"
     ]
    },
    {
     "name": "stderr",
     "output_type": "stream",
     "text": [
      "regularization_factors, val_score: 0.133255:  80%|#############################6       | 16/20 [01:06<00:16,  4.14s/it][I 2023-10-28 18:22:40,410] Trial 55 finished with value: 0.13357563867473538 and parameters: {'lambda_l1': 3.3165964150116324e-05, 'lambda_l2': 3.275193578407539e-07}. Best is trial 50 with value: 0.13325467521692752.\n",
      "regularization_factors, val_score: 0.133255:  80%|#############################6       | 16/20 [01:06<00:16,  4.14s/it]"
     ]
    },
    {
     "name": "stdout",
     "output_type": "stream",
     "text": [
      "Early stopping, best iteration is:\n",
      "[563]\tcv_agg's l2: 0.133255 + 0.0189369\n",
      "[100]\tcv_agg's l2: 0.142242 + 0.0186023\n",
      "[200]\tcv_agg's l2: 0.136582 + 0.0197357\n",
      "[300]\tcv_agg's l2: 0.135653 + 0.0196692\n",
      "[400]\tcv_agg's l2: 0.13481 + 0.0191655\n",
      "[500]\tcv_agg's l2: 0.134416 + 0.0189888\n",
      "[600]\tcv_agg's l2: 0.134095 + 0.0188255\n"
     ]
    },
    {
     "name": "stderr",
     "output_type": "stream",
     "text": [
      "regularization_factors, val_score: 0.133255:  85%|###############################4     | 17/20 [01:11<00:13,  4.34s/it][I 2023-10-28 18:22:45,208] Trial 56 finished with value: 0.13423300977591934 and parameters: {'lambda_l1': 7.064800404824102e-05, 'lambda_l2': 4.0333621657443275e-07}. Best is trial 50 with value: 0.13325467521692752.\n",
      "regularization_factors, val_score: 0.133255:  85%|###############################4     | 17/20 [01:11<00:13,  4.34s/it]"
     ]
    },
    {
     "name": "stdout",
     "output_type": "stream",
     "text": [
      "Early stopping, best iteration is:\n",
      "[563]\tcv_agg's l2: 0.133255 + 0.0189369\n",
      "[100]\tcv_agg's l2: 0.142572 + 0.0194627\n",
      "[200]\tcv_agg's l2: 0.136747 + 0.0200871\n",
      "[300]\tcv_agg's l2: 0.135186 + 0.0193499\n",
      "[400]\tcv_agg's l2: 0.134664 + 0.019228\n",
      "[500]\tcv_agg's l2: 0.1341 + 0.0193303\n",
      "[600]\tcv_agg's l2: 0.133823 + 0.0191195\n"
     ]
    },
    {
     "name": "stderr",
     "output_type": "stream",
     "text": [
      "regularization_factors, val_score: 0.133255:  90%|#################################3   | 18/20 [01:16<00:08,  4.44s/it][I 2023-10-28 18:22:49,874] Trial 57 finished with value: 0.13386592564211916 and parameters: {'lambda_l1': 3.246648280306454e-05, 'lambda_l2': 1.5247993393967492e-05}. Best is trial 50 with value: 0.13325467521692752.\n",
      "regularization_factors, val_score: 0.133255:  90%|#################################3   | 18/20 [01:16<00:08,  4.44s/it]"
     ]
    },
    {
     "name": "stdout",
     "output_type": "stream",
     "text": [
      "Early stopping, best iteration is:\n",
      "[563]\tcv_agg's l2: 0.133255 + 0.0189369\n",
      "[100]\tcv_agg's l2: 0.142758 + 0.0195003\n",
      "[200]\tcv_agg's l2: 0.136686 + 0.0197522\n",
      "[300]\tcv_agg's l2: 0.134851 + 0.0185566\n",
      "[400]\tcv_agg's l2: 0.134286 + 0.0183116\n",
      "[500]\tcv_agg's l2: 0.133909 + 0.0180215\n",
      "[600]\tcv_agg's l2: 0.133754 + 0.0176646\n"
     ]
    },
    {
     "name": "stderr",
     "output_type": "stream",
     "text": [
      "regularization_factors, val_score: 0.133255:  95%|###################################1 | 19/20 [01:20<00:04,  4.49s/it][I 2023-10-28 18:22:54,496] Trial 58 finished with value: 0.13384403447324578 and parameters: {'lambda_l1': 4.890487109536573e-07, 'lambda_l2': 2.3072484355803363e-07}. Best is trial 50 with value: 0.13325467521692752.\n",
      "regularization_factors, val_score: 0.133255:  95%|###################################1 | 19/20 [01:20<00:04,  4.49s/it]"
     ]
    },
    {
     "name": "stdout",
     "output_type": "stream",
     "text": [
      "Early stopping, best iteration is:\n",
      "[563]\tcv_agg's l2: 0.133255 + 0.0189369\n",
      "[100]\tcv_agg's l2: 0.142698 + 0.0194874\n",
      "[200]\tcv_agg's l2: 0.136409 + 0.0199625\n",
      "[300]\tcv_agg's l2: 0.134571 + 0.0193229\n",
      "[400]\tcv_agg's l2: 0.134085 + 0.0191632\n",
      "[500]\tcv_agg's l2: 0.133689 + 0.0193228\n",
      "[600]\tcv_agg's l2: 0.13358 + 0.0190933\n"
     ]
    },
    {
     "name": "stderr",
     "output_type": "stream",
     "text": [
      "regularization_factors, val_score: 0.133255: 100%|#####################################| 20/20 [01:25<00:00,  4.44s/it][I 2023-10-28 18:22:58,820] Trial 59 finished with value: 0.1336095315962043 and parameters: {'lambda_l1': 7.753202312417824e-06, 'lambda_l2': 2.0866442656537862e-05}. Best is trial 50 with value: 0.13325467521692752.\n",
      "regularization_factors, val_score: 0.133255: 100%|#####################################| 20/20 [01:25<00:00,  4.26s/it]\n"
     ]
    },
    {
     "name": "stdout",
     "output_type": "stream",
     "text": [
      "Early stopping, best iteration is:\n",
      "[563]\tcv_agg's l2: 0.133255 + 0.0189369\n"
     ]
    },
    {
     "name": "stderr",
     "output_type": "stream",
     "text": [
      "min_data_in_leaf, val_score: 0.133255:   0%|                                                     | 0/5 [00:00<?, ?it/s]"
     ]
    },
    {
     "name": "stdout",
     "output_type": "stream",
     "text": [
      "[100]\tcv_agg's l2: 0.219025 + 0.03612\n",
      "[200]\tcv_agg's l2: 0.207306 + 0.0324879\n",
      "[300]\tcv_agg's l2: 0.204274 + 0.0309149\n",
      "[400]\tcv_agg's l2: 0.202972 + 0.0310518\n",
      "[500]\tcv_agg's l2: 0.203645 + 0.0303679\n",
      "[600]\tcv_agg's l2: 0.203542 + 0.0302336\n"
     ]
    },
    {
     "name": "stderr",
     "output_type": "stream",
     "text": [
      "min_data_in_leaf, val_score: 0.133255:  20%|#########                                    | 1/5 [00:02<00:10,  2.68s/it][I 2023-10-28 18:23:01,512] Trial 60 finished with value: 0.2033649373853425 and parameters: {'min_child_samples': 50}. Best is trial 60 with value: 0.2033649373853425.\n",
      "min_data_in_leaf, val_score: 0.133255:  20%|#########                                    | 1/5 [00:02<00:10,  2.68s/it]"
     ]
    },
    {
     "name": "stdout",
     "output_type": "stream",
     "text": [
      "Early stopping, best iteration is:\n",
      "[563]\tcv_agg's l2: 0.133255 + 0.0189369\n",
      "[100]\tcv_agg's l2: 0.139367 + 0.0233575\n",
      "[200]\tcv_agg's l2: 0.134648 + 0.023768\n",
      "[300]\tcv_agg's l2: 0.133341 + 0.0236243\n",
      "[400]\tcv_agg's l2: 0.13281 + 0.023498\n",
      "[500]\tcv_agg's l2: 0.132702 + 0.0232964\n"
     ]
    },
    {
     "name": "stderr",
     "output_type": "stream",
     "text": [
      "min_data_in_leaf, val_score: 0.132677:  40%|##################                           | 2/5 [00:06<00:09,  3.19s/it][I 2023-10-28 18:23:05,056] Trial 61 finished with value: 0.1326772927876827 and parameters: {'min_child_samples': 10}. Best is trial 61 with value: 0.1326772927876827.\n",
      "min_data_in_leaf, val_score: 0.132677:  40%|##################                           | 2/5 [00:06<00:09,  3.19s/it]"
     ]
    },
    {
     "name": "stdout",
     "output_type": "stream",
     "text": [
      "Early stopping, best iteration is:\n",
      "[488]\tcv_agg's l2: 0.132677 + 0.0233252\n",
      "[100]\tcv_agg's l2: 0.145403 + 0.029566\n",
      "[200]\tcv_agg's l2: 0.141659 + 0.0301457\n",
      "[300]\tcv_agg's l2: 0.140856 + 0.0302325\n",
      "[400]\tcv_agg's l2: 0.140517 + 0.0301365\n",
      "[500]\tcv_agg's l2: 0.140473 + 0.03026\n"
     ]
    },
    {
     "name": "stderr",
     "output_type": "stream",
     "text": [
      "min_data_in_leaf, val_score: 0.132677:  60%|###########################                  | 3/5 [00:09<00:06,  3.38s/it][I 2023-10-28 18:23:08,668] Trial 62 finished with value: 0.14046921251558123 and parameters: {'min_child_samples': 5}. Best is trial 61 with value: 0.1326772927876827.\n",
      "min_data_in_leaf, val_score: 0.132677:  60%|###########################                  | 3/5 [00:09<00:06,  3.38s/it]"
     ]
    },
    {
     "name": "stdout",
     "output_type": "stream",
     "text": [
      "Early stopping, best iteration is:\n",
      "[488]\tcv_agg's l2: 0.132677 + 0.0233252\n",
      "[100]\tcv_agg's l2: 0.690671 + 0.0582682\n",
      "[200]\tcv_agg's l2: 0.64666 + 0.0459884\n",
      "[300]\tcv_agg's l2: 0.620474 + 0.0459598\n",
      "[400]\tcv_agg's l2: 0.609529 + 0.0498212\n",
      "[500]\tcv_agg's l2: 0.598048 + 0.048383\n"
     ]
    },
    {
     "name": "stderr",
     "output_type": "stream",
     "text": [
      "min_data_in_leaf, val_score: 0.132677:  80%|####################################         | 4/5 [00:11<00:02,  2.71s/it][I 2023-10-28 18:23:10,348] Trial 63 finished with value: 0.5990084465080582 and parameters: {'min_child_samples': 100}. Best is trial 61 with value: 0.1326772927876827.\n",
      "min_data_in_leaf, val_score: 0.132677:  80%|####################################         | 4/5 [00:11<00:02,  2.71s/it]"
     ]
    },
    {
     "name": "stdout",
     "output_type": "stream",
     "text": [
      "Early stopping, best iteration is:\n",
      "[488]\tcv_agg's l2: 0.132677 + 0.0233252\n",
      "[100]\tcv_agg's l2: 0.148663 + 0.0262138\n",
      "[200]\tcv_agg's l2: 0.142969 + 0.0240728\n",
      "[300]\tcv_agg's l2: 0.142229 + 0.0238407\n",
      "[400]\tcv_agg's l2: 0.142363 + 0.0235619\n",
      "[500]\tcv_agg's l2: 0.14221 + 0.023166\n"
     ]
    },
    {
     "name": "stderr",
     "output_type": "stream",
     "text": [
      "min_data_in_leaf, val_score: 0.132677: 100%|#############################################| 5/5 [00:15<00:00,  3.01s/it][I 2023-10-28 18:23:13,878] Trial 64 finished with value: 0.14224305961047204 and parameters: {'min_child_samples': 25}. Best is trial 61 with value: 0.1326772927876827.\n",
      "min_data_in_leaf, val_score: 0.132677: 100%|#############################################| 5/5 [00:15<00:00,  3.01s/it]"
     ]
    },
    {
     "name": "stdout",
     "output_type": "stream",
     "text": [
      "Early stopping, best iteration is:\n",
      "[488]\tcv_agg's l2: 0.132677 + 0.0233252\n"
     ]
    },
    {
     "name": "stderr",
     "output_type": "stream",
     "text": [
      "\n"
     ]
    }
   ],
   "source": [
    "import optuna.integration.lightgbm as lgb\n",
    "from lightgbm import early_stopping\n",
    "from sklearn.model_selection import KFold\n",
    "from sklearn.model_selection import RepeatedKFold\n",
    "\n",
    "\n",
    "lgb_train = lgb.Dataset(X_train_random_split, y_train_random_split)\n",
    "\n",
    "params = {\n",
    "    \"boosting_type\": \"gbdt\",\n",
    "    \"objective\": \"regression\",\n",
    "    \"metric\": \"l2\",\n",
    "    \"verbosity\": -1,\n",
    "}\n",
    "\n",
    "tuner = lgb.LightGBMTunerCV(\n",
    "    params,\n",
    "    lgb_train,\n",
    "    folds=KFold(n_splits=5),\n",
    "    num_boost_round=10000,\n",
    "    callbacks=[early_stopping(100), log_evaluation(100)],\n",
    ")\n",
    "\n",
    "tuner.run()"
   ]
  },
  {
   "cell_type": "code",
   "execution_count": 34,
   "id": "175988ae",
   "metadata": {},
   "outputs": [
    {
     "name": "stdout",
     "output_type": "stream",
     "text": [
      "Best score: 0.1326772927876827\n",
      "Params: \n",
      "    boosting_type: gbdt\n",
      "    objective: regression\n",
      "    metric: l2\n",
      "    verbosity: -1\n",
      "    feature_pre_filter: False\n",
      "    lambda_l1: 8.772188748737766e-06\n",
      "    lambda_l2: 2.1117822542936693e-06\n",
      "    num_leaves: 21\n",
      "    feature_fraction: 0.4\n",
      "    bagging_fraction: 0.9909029780815463\n",
      "    bagging_freq: 1\n",
      "    min_child_samples: 10\n"
     ]
    }
   ],
   "source": [
    "print(f\"Best score: {tuner.best_score}\")\n",
    "best_params = tuner.best_params\n",
    "print(\"Params: \")\n",
    "for key, value in best_params.items():\n",
    "    print(\"    {}: {}\".format(key, value))"
   ]
  },
  {
   "cell_type": "code",
   "execution_count": 35,
   "id": "b8e0ae76",
   "metadata": {},
   "outputs": [],
   "source": [
    "import lightgbm as lgb\n",
    "\n",
    "lgb_tuned = lgb.train(\n",
    "    best_params,\n",
    "    lgb_train,\n",
    "    num_boost_round=10000,\n",
    ")"
   ]
  },
  {
   "cell_type": "code",
   "execution_count": 36,
   "id": "ab41f140",
   "metadata": {},
   "outputs": [
    {
     "name": "stdout",
     "output_type": "stream",
     "text": [
      "RMSE train: 0.00\n",
      "RMSE test: 0.31\n",
      "MSE test: 0.10\n",
      "MAE test: 0.22\n",
      "\n"
     ]
    }
   ],
   "source": [
    "rmse, mse, mae = assess_regression_model(\n",
    "    lgb_tuned,\n",
    "    X_train_random_split,\n",
    "    X_test_random_split,\n",
    "    y_train_random_split,\n",
    "    y_test_random_split,\n",
    ")"
   ]
  },
  {
   "cell_type": "code",
   "execution_count": 37,
   "id": "36a7d705",
   "metadata": {},
   "outputs": [],
   "source": [
    "results.loc[4] = [\"random\", \"Optuna\", len(X_test.columns), mse, rmse, mae]"
   ]
  },
  {
   "cell_type": "code",
   "execution_count": 38,
   "id": "502bdb9c",
   "metadata": {},
   "outputs": [
    {
     "name": "stdout",
     "output_type": "stream",
     "text": [
      "Normal:\n",
      "MSE: 0.03\n",
      "RMSE: 0.18\n",
      "\n",
      "Round type: round\n",
      "MSE: 0.04\n",
      "RMSE: 0.20\n",
      "\n",
      "Round type: 0.33\n",
      "MSE: 0.04\n",
      "RMSE: 0.20\n",
      "\n",
      "Round type: 0.45\n",
      "MSE: 0.03\n",
      "RMSE: 0.18\n",
      "\n"
     ]
    }
   ],
   "source": [
    "predict = lgb_tuned.predict(X_test)\n",
    "check_round_predictions([\"round\", 0.33, 0.45], y_test, predict)"
   ]
  },
  {
   "cell_type": "code",
   "execution_count": 39,
   "id": "378511d8",
   "metadata": {},
   "outputs": [
    {
     "data": {
      "image/png": "[encoded data removed]",
      "text/plain": [
       "<Figure size 432x288 with 2 Axes>"
      ]
     },
     "metadata": {
      "needs_background": "light"
     },
     "output_type": "display_data"
    }
   ],
   "source": [
    "plot_confusion_matrix(\"round\", predict, y_test)"
   ]
  },
  {
   "cell_type": "markdown",
   "id": "cbf21c29",
   "metadata": {},
   "source": [
    "## Summary"
   ]
  },
  {
   "cell_type": "code",
   "execution_count": 40,
   "id": "d065edf6",
   "metadata": {
    "scrolled": false
   },
   "outputs": [
    {
     "data": {
      "text/html": [
       "<div>\n",
       "<style scoped>\n",
       "    .dataframe tbody tr th:only-of-type {\n",
       "        vertical-align: middle;\n",
       "    }\n",
       "\n",
       "    .dataframe tbody tr th {\n",
       "        vertical-align: top;\n",
       "    }\n",
       "\n",
       "    .dataframe thead th {\n",
       "        text-align: right;\n",
       "    }\n",
       "</style>\n",
       "<table border=\"1\" class=\"dataframe\">\n",
       "  <thead>\n",
       "    <tr style=\"text-align: right;\">\n",
       "      <th></th>\n",
       "      <th>Split type</th>\n",
       "      <th>Tuning type</th>\n",
       "      <th>Number of characteristics</th>\n",
       "      <th>MSE</th>\n",
       "      <th>RMSE</th>\n",
       "      <th>MAE</th>\n",
       "    </tr>\n",
       "  </thead>\n",
       "  <tbody>\n",
       "    <tr>\n",
       "      <th>0</th>\n",
       "      <td>chronological</td>\n",
       "      <td>normal</td>\n",
       "      <td>50</td>\n",
       "      <td>0.927292</td>\n",
       "      <td>0.962960</td>\n",
       "      <td>0.235042</td>\n",
       "    </tr>\n",
       "    <tr>\n",
       "      <th>1</th>\n",
       "      <td>chronological</td>\n",
       "      <td>Optuna</td>\n",
       "      <td>50</td>\n",
       "      <td>0.434040</td>\n",
       "      <td>0.658817</td>\n",
       "      <td>0.371587</td>\n",
       "    </tr>\n",
       "    <tr>\n",
       "      <th>3</th>\n",
       "      <td>random</td>\n",
       "      <td>normal</td>\n",
       "      <td>50</td>\n",
       "      <td>0.137900</td>\n",
       "      <td>0.371349</td>\n",
       "      <td>0.152952</td>\n",
       "    </tr>\n",
       "    <tr>\n",
       "      <th>4</th>\n",
       "      <td>random</td>\n",
       "      <td>Optuna</td>\n",
       "      <td>50</td>\n",
       "      <td>0.098534</td>\n",
       "      <td>0.313902</td>\n",
       "      <td>0.222457</td>\n",
       "    </tr>\n",
       "  </tbody>\n",
       "</table>\n",
       "</div>"
      ],
      "text/plain": [
       "      Split type Tuning type  Number of characteristics       MSE      RMSE  \\\n",
       "0  chronological      normal                         50  0.927292  0.962960   \n",
       "1  chronological      Optuna                         50  0.434040  0.658817   \n",
       "3         random      normal                         50  0.137900  0.371349   \n",
       "4         random      Optuna                         50  0.098534  0.313902   \n",
       "\n",
       "        MAE  \n",
       "0  0.235042  \n",
       "1  0.371587  \n",
       "3  0.152952  \n",
       "4  0.222457  "
      ]
     },
     "execution_count": 40,
     "metadata": {},
     "output_type": "execute_result"
    }
   ],
   "source": [
    "results"
   ]
  },
  {
   "cell_type": "code",
   "execution_count": 41,
   "id": "5ab8f79f",
   "metadata": {},
   "outputs": [],
   "source": [
    "from training.results import plot_summary"
   ]
  },
  {
   "cell_type": "code",
   "execution_count": 42,
   "id": "941b0359",
   "metadata": {},
   "outputs": [
    {
     "data": {
      "image/png": "[encoded data removed]",
      "text/plain": [
       "<Figure size 1440x576 with 1 Axes>"
      ]
     },
     "metadata": {
      "needs_background": "light"
     },
     "output_type": "display_data"
    }
   ],
   "source": [
    "plot_summary(results, \"MSE\")"
   ]
  },
  {
   "cell_type": "code",
   "execution_count": 43,
   "id": "a642225d",
   "metadata": {},
   "outputs": [
    {
     "data": {
      "image/png": "[encoded data removed]",
      "text/plain": [
       "<Figure size 1440x576 with 1 Axes>"
      ]
     },
     "metadata": {
      "needs_background": "light"
     },
     "output_type": "display_data"
    }
   ],
   "source": [
    "plot_summary(results, \"RMSE\")"
   ]
  },
  {
   "cell_type": "code",
   "execution_count": 44,
   "id": "07e30e23",
   "metadata": {},
   "outputs": [
    {
     "data": {
      "image/png": "[encoded data removed]",
      "text/plain": [
       "<Figure size 1440x576 with 1 Axes>"
      ]
     },
     "metadata": {
      "needs_background": "light"
     },
     "output_type": "display_data"
    }
   ],
   "source": [
    "plot_summary(results, \"MAE\")"
   ]
  },
  {
   "cell_type": "code",
   "execution_count": 47,
   "id": "ae68a99c",
   "metadata": {},
   "outputs": [],
   "source": [
    "results.to_json(\"./lightgbm_final_results.json\")"
   ]
  },
  {
   "cell_type": "code",
   "execution_count": null,
   "id": "745b56ef",
   "metadata": {},
   "outputs": [],
   "source": []
  }
 ],
 "metadata": {
  "kernelspec": {
   "display_name": "Python 3 (ipykernel)",
   "language": "python",
   "name": "python3"
  },
  "language_info": {
   "codemirror_mode": {
    "name": "ipython",
    "version": 3
   },
   "file_extension": ".py",
   "mimetype": "text/x-python",
   "name": "python",
   "nbconvert_exporter": "python",
   "pygments_lexer": "ipython3",
   "version": "3.10.4"
  }
 },
 "nbformat": 4,
 "nbformat_minor": 5
}
