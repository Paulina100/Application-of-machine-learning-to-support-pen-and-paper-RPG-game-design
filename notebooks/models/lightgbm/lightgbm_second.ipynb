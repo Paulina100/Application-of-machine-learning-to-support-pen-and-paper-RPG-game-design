{
 "cells": [
  {
   "cell_type": "markdown",
   "id": "b61f8435",
   "metadata": {},
   "source": [
    "# LightGBM\n",
    "### Parameters:\n",
    "* **abilities**:\n",
    "    * **cha**\n",
    "    * **con**\n",
    "    * **dex**\n",
    "    * **int**\n",
    "    * **str**\n",
    "    * **wis**\n",
    "* **attributes**\n",
    "    * **hp**\n",
    "    * **ac**\n",
    "    * **perception**\n",
    "* **saves**\n",
    "    * **fortitude**\n",
    "    * **reflex**\n",
    "    * **will**\n",
    "* **resources**\n",
    "    * **focus**\n",
    "\n",
    "### Prediction: *level*\n",
    "\n",
    "## Loading data"
   ]
  },
  {
   "cell_type": "code",
   "execution_count": 1,
   "id": "64151d43",
   "metadata": {},
   "outputs": [],
   "source": [
    "import numpy as np\n",
    "import pandas as pd\n",
    "import sys\n",
    "\n",
    "import os\n",
    "import pathlib\n",
    "\n",
    "sys.path.append(\"../../..\")\n",
    "from training.creating_dataset import load_and_preprocess_data\n",
    "\n",
    "current_path = os.getcwd()\n",
    "DATASETS_DIR = pathlib.Path(current_path).parent.parent.parent / \"pathfinder_2e_data\"\n",
    "DATASET_FILES = [\n",
    "    \"pathfinder-bestiary.db\",\n",
    "    \"pathfinder-bestiary-2.db\",\n",
    "    \"pathfinder-bestiary-3.db\",\n",
    "]\n",
    "DATASET_PATHS = [f\"{DATASETS_DIR}/{file}\" for file in DATASET_FILES]\n",
    "characteristics = [\n",
    "    \"cha\",\n",
    "    \"con\",\n",
    "    \"dex\",\n",
    "    \"int\",\n",
    "    \"str\",\n",
    "    \"wis\",\n",
    "    \"ac\",\n",
    "    \"hp\",\n",
    "    \"perception\",\n",
    "    \"fortitude\",\n",
    "    \"reflex\",\n",
    "    \"will\",\n",
    "    \"focus\",\n",
    "]\n",
    "\n",
    "df = load_and_preprocess_data(\n",
    "    DATASET_PATHS,\n",
    "    characteristics=characteristics,\n",
    ")"
   ]
  },
  {
   "cell_type": "code",
   "execution_count": 2,
   "id": "ec1e8424",
   "metadata": {},
   "outputs": [
    {
     "name": "stdout",
     "output_type": "stream",
     "text": [
      "<class 'pandas.core.frame.DataFrame'>\n",
      "Int64Index: 1206 entries, 0 to 1205\n",
      "Data columns (total 15 columns):\n",
      " #   Column      Non-Null Count  Dtype \n",
      "---  ------      --------------  ----- \n",
      " 0   fortitude   1206 non-null   int64 \n",
      " 1   dex         1206 non-null   int64 \n",
      " 2   will        1206 non-null   int64 \n",
      " 3   book        1206 non-null   object\n",
      " 4   cha         1206 non-null   int64 \n",
      " 5   perception  1206 non-null   int64 \n",
      " 6   int         1206 non-null   int64 \n",
      " 7   con         1206 non-null   int64 \n",
      " 8   ac          1206 non-null   int64 \n",
      " 9   wis         1206 non-null   int64 \n",
      " 10  hp          1206 non-null   int64 \n",
      " 11  level       1206 non-null   int64 \n",
      " 12  reflex      1206 non-null   int64 \n",
      " 13  focus       1206 non-null   int32 \n",
      " 14  str         1206 non-null   int64 \n",
      "dtypes: int32(1), int64(13), object(1)\n",
      "memory usage: 146.0+ KB\n"
     ]
    }
   ],
   "source": [
    "df.info()"
   ]
  },
  {
   "cell_type": "code",
   "execution_count": 3,
   "id": "211d736c",
   "metadata": {},
   "outputs": [
    {
     "data": {
      "text/html": [
       "<div>\n",
       "<style scoped>\n",
       "    .dataframe tbody tr th:only-of-type {\n",
       "        vertical-align: middle;\n",
       "    }\n",
       "\n",
       "    .dataframe tbody tr th {\n",
       "        vertical-align: top;\n",
       "    }\n",
       "\n",
       "    .dataframe thead th {\n",
       "        text-align: right;\n",
       "    }\n",
       "</style>\n",
       "<table border=\"1\" class=\"dataframe\">\n",
       "  <thead>\n",
       "    <tr style=\"text-align: right;\">\n",
       "      <th></th>\n",
       "      <th>fortitude</th>\n",
       "      <th>dex</th>\n",
       "      <th>will</th>\n",
       "      <th>book</th>\n",
       "      <th>cha</th>\n",
       "      <th>perception</th>\n",
       "      <th>int</th>\n",
       "      <th>con</th>\n",
       "      <th>ac</th>\n",
       "      <th>wis</th>\n",
       "      <th>hp</th>\n",
       "      <th>level</th>\n",
       "      <th>reflex</th>\n",
       "      <th>focus</th>\n",
       "      <th>str</th>\n",
       "    </tr>\n",
       "  </thead>\n",
       "  <tbody>\n",
       "    <tr>\n",
       "      <th>0</th>\n",
       "      <td>22</td>\n",
       "      <td>2</td>\n",
       "      <td>17</td>\n",
       "      <td>Pathfinder Bestiary</td>\n",
       "      <td>1</td>\n",
       "      <td>20</td>\n",
       "      <td>1</td>\n",
       "      <td>5</td>\n",
       "      <td>29</td>\n",
       "      <td>2</td>\n",
       "      <td>215</td>\n",
       "      <td>10</td>\n",
       "      <td>19</td>\n",
       "      <td>1</td>\n",
       "      <td>7</td>\n",
       "    </tr>\n",
       "    <tr>\n",
       "      <th>1</th>\n",
       "      <td>21</td>\n",
       "      <td>0</td>\n",
       "      <td>16</td>\n",
       "      <td>Pathfinder Bestiary</td>\n",
       "      <td>1</td>\n",
       "      <td>16</td>\n",
       "      <td>-4</td>\n",
       "      <td>5</td>\n",
       "      <td>28</td>\n",
       "      <td>2</td>\n",
       "      <td>220</td>\n",
       "      <td>10</td>\n",
       "      <td>14</td>\n",
       "      <td>0</td>\n",
       "      <td>9</td>\n",
       "    </tr>\n",
       "    <tr>\n",
       "      <th>2</th>\n",
       "      <td>20</td>\n",
       "      <td>3</td>\n",
       "      <td>15</td>\n",
       "      <td>Pathfinder Bestiary</td>\n",
       "      <td>-2</td>\n",
       "      <td>17</td>\n",
       "      <td>-4</td>\n",
       "      <td>6</td>\n",
       "      <td>25</td>\n",
       "      <td>3</td>\n",
       "      <td>175</td>\n",
       "      <td>8</td>\n",
       "      <td>17</td>\n",
       "      <td>0</td>\n",
       "      <td>7</td>\n",
       "    </tr>\n",
       "    <tr>\n",
       "      <th>3</th>\n",
       "      <td>30</td>\n",
       "      <td>4</td>\n",
       "      <td>32</td>\n",
       "      <td>Pathfinder Bestiary</td>\n",
       "      <td>6</td>\n",
       "      <td>30</td>\n",
       "      <td>6</td>\n",
       "      <td>5</td>\n",
       "      <td>41</td>\n",
       "      <td>5</td>\n",
       "      <td>315</td>\n",
       "      <td>17</td>\n",
       "      <td>29</td>\n",
       "      <td>1</td>\n",
       "      <td>7</td>\n",
       "    </tr>\n",
       "    <tr>\n",
       "      <th>4</th>\n",
       "      <td>6</td>\n",
       "      <td>3</td>\n",
       "      <td>4</td>\n",
       "      <td>Pathfinder Bestiary</td>\n",
       "      <td>1</td>\n",
       "      <td>6</td>\n",
       "      <td>-1</td>\n",
       "      <td>1</td>\n",
       "      <td>16</td>\n",
       "      <td>1</td>\n",
       "      <td>20</td>\n",
       "      <td>1</td>\n",
       "      <td>10</td>\n",
       "      <td>1</td>\n",
       "      <td>-5</td>\n",
       "    </tr>\n",
       "  </tbody>\n",
       "</table>\n",
       "</div>"
      ],
      "text/plain": [
       "   fortitude  dex  will                 book  cha  perception  int  con  ac  \\\n",
       "0         22    2    17  Pathfinder Bestiary    1          20    1    5  29   \n",
       "1         21    0    16  Pathfinder Bestiary    1          16   -4    5  28   \n",
       "2         20    3    15  Pathfinder Bestiary   -2          17   -4    6  25   \n",
       "3         30    4    32  Pathfinder Bestiary    6          30    6    5  41   \n",
       "4          6    3     4  Pathfinder Bestiary    1           6   -1    1  16   \n",
       "\n",
       "   wis   hp  level  reflex  focus  str  \n",
       "0    2  215     10      19      1    7  \n",
       "1    2  220     10      14      0    9  \n",
       "2    3  175      8      17      0    7  \n",
       "3    5  315     17      29      1    7  \n",
       "4    1   20      1      10      1   -5  "
      ]
     },
     "execution_count": 3,
     "metadata": {},
     "output_type": "execute_result"
    }
   ],
   "source": [
    "df.head()"
   ]
  },
  {
   "cell_type": "markdown",
   "id": "1bf55cc1",
   "metadata": {},
   "source": [
    "###### Level"
   ]
  },
  {
   "cell_type": "code",
   "execution_count": 4,
   "id": "2d322d72",
   "metadata": {},
   "outputs": [
    {
     "data": {
      "text/plain": [
       "0       10\n",
       "1       10\n",
       "2        8\n",
       "3       17\n",
       "4        1\n",
       "        ..\n",
       "1201    20\n",
       "1202    -1\n",
       "1203    12\n",
       "1204     6\n",
       "1205     6\n",
       "Name: level, Length: 1206, dtype: int64"
      ]
     },
     "execution_count": 4,
     "metadata": {},
     "output_type": "execute_result"
    }
   ],
   "source": [
    "y = df[\"level\"]\n",
    "y"
   ]
  },
  {
   "cell_type": "code",
   "execution_count": 5,
   "id": "e7887f19",
   "metadata": {},
   "outputs": [],
   "source": [
    "from collections import defaultdict\n",
    "\n",
    "\n",
    "lvl_stat = defaultdict(lambda: 0)\n",
    "\n",
    "for lvl in y:\n",
    "    lvl_stat[lvl] += 1"
   ]
  },
  {
   "cell_type": "code",
   "execution_count": 6,
   "id": "c982e6d0",
   "metadata": {},
   "outputs": [
    {
     "data": {
      "text/html": [
       "<div>\n",
       "<style scoped>\n",
       "    .dataframe tbody tr th:only-of-type {\n",
       "        vertical-align: middle;\n",
       "    }\n",
       "\n",
       "    .dataframe tbody tr th {\n",
       "        vertical-align: top;\n",
       "    }\n",
       "\n",
       "    .dataframe thead th {\n",
       "        text-align: right;\n",
       "    }\n",
       "</style>\n",
       "<table border=\"1\" class=\"dataframe\">\n",
       "  <thead>\n",
       "    <tr style=\"text-align: right;\">\n",
       "      <th></th>\n",
       "      <th>lvl</th>\n",
       "      <th>count</th>\n",
       "    </tr>\n",
       "  </thead>\n",
       "  <tbody>\n",
       "    <tr>\n",
       "      <th>0</th>\n",
       "      <td>-1</td>\n",
       "      <td>34</td>\n",
       "    </tr>\n",
       "    <tr>\n",
       "      <th>1</th>\n",
       "      <td>0</td>\n",
       "      <td>27</td>\n",
       "    </tr>\n",
       "    <tr>\n",
       "      <th>2</th>\n",
       "      <td>1</td>\n",
       "      <td>127</td>\n",
       "    </tr>\n",
       "    <tr>\n",
       "      <th>3</th>\n",
       "      <td>2</td>\n",
       "      <td>121</td>\n",
       "    </tr>\n",
       "    <tr>\n",
       "      <th>4</th>\n",
       "      <td>3</td>\n",
       "      <td>95</td>\n",
       "    </tr>\n",
       "    <tr>\n",
       "      <th>5</th>\n",
       "      <td>4</td>\n",
       "      <td>82</td>\n",
       "    </tr>\n",
       "    <tr>\n",
       "      <th>6</th>\n",
       "      <td>5</td>\n",
       "      <td>76</td>\n",
       "    </tr>\n",
       "    <tr>\n",
       "      <th>7</th>\n",
       "      <td>6</td>\n",
       "      <td>72</td>\n",
       "    </tr>\n",
       "    <tr>\n",
       "      <th>8</th>\n",
       "      <td>7</td>\n",
       "      <td>77</td>\n",
       "    </tr>\n",
       "    <tr>\n",
       "      <th>9</th>\n",
       "      <td>8</td>\n",
       "      <td>68</td>\n",
       "    </tr>\n",
       "    <tr>\n",
       "      <th>10</th>\n",
       "      <td>9</td>\n",
       "      <td>63</td>\n",
       "    </tr>\n",
       "    <tr>\n",
       "      <th>11</th>\n",
       "      <td>10</td>\n",
       "      <td>58</td>\n",
       "    </tr>\n",
       "    <tr>\n",
       "      <th>12</th>\n",
       "      <td>11</td>\n",
       "      <td>40</td>\n",
       "    </tr>\n",
       "    <tr>\n",
       "      <th>13</th>\n",
       "      <td>12</td>\n",
       "      <td>41</td>\n",
       "    </tr>\n",
       "    <tr>\n",
       "      <th>14</th>\n",
       "      <td>13</td>\n",
       "      <td>36</td>\n",
       "    </tr>\n",
       "    <tr>\n",
       "      <th>15</th>\n",
       "      <td>14</td>\n",
       "      <td>33</td>\n",
       "    </tr>\n",
       "    <tr>\n",
       "      <th>16</th>\n",
       "      <td>15</td>\n",
       "      <td>31</td>\n",
       "    </tr>\n",
       "    <tr>\n",
       "      <th>17</th>\n",
       "      <td>16</td>\n",
       "      <td>25</td>\n",
       "    </tr>\n",
       "    <tr>\n",
       "      <th>18</th>\n",
       "      <td>17</td>\n",
       "      <td>21</td>\n",
       "    </tr>\n",
       "    <tr>\n",
       "      <th>19</th>\n",
       "      <td>18</td>\n",
       "      <td>21</td>\n",
       "    </tr>\n",
       "    <tr>\n",
       "      <th>20</th>\n",
       "      <td>19</td>\n",
       "      <td>18</td>\n",
       "    </tr>\n",
       "    <tr>\n",
       "      <th>21</th>\n",
       "      <td>20</td>\n",
       "      <td>24</td>\n",
       "    </tr>\n",
       "    <tr>\n",
       "      <th>22</th>\n",
       "      <td>21</td>\n",
       "      <td>16</td>\n",
       "    </tr>\n",
       "  </tbody>\n",
       "</table>\n",
       "</div>"
      ],
      "text/plain": [
       "    lvl  count\n",
       "0    -1     34\n",
       "1     0     27\n",
       "2     1    127\n",
       "3     2    121\n",
       "4     3     95\n",
       "5     4     82\n",
       "6     5     76\n",
       "7     6     72\n",
       "8     7     77\n",
       "9     8     68\n",
       "10    9     63\n",
       "11   10     58\n",
       "12   11     40\n",
       "13   12     41\n",
       "14   13     36\n",
       "15   14     33\n",
       "16   15     31\n",
       "17   16     25\n",
       "18   17     21\n",
       "19   18     21\n",
       "20   19     18\n",
       "21   20     24\n",
       "22   21     16"
      ]
     },
     "execution_count": 6,
     "metadata": {},
     "output_type": "execute_result"
    }
   ],
   "source": [
    "level_count = pd.DataFrame(\n",
    "    data={\n",
    "        \"lvl\": [key for key in sorted(lvl_stat.keys())],\n",
    "        \"count\": [lvl_stat.get(key) for key in sorted(lvl_stat.keys())],\n",
    "    }\n",
    ")\n",
    "level_count"
   ]
  },
  {
   "cell_type": "code",
   "execution_count": 7,
   "id": "686877dd",
   "metadata": {},
   "outputs": [
    {
     "data": {
      "image/png": "[encoded data removed]",
      "text/plain": [
       "<Figure size 432x288 with 1 Axes>"
      ]
     },
     "metadata": {
      "needs_background": "light"
     },
     "output_type": "display_data"
    }
   ],
   "source": [
    "import matplotlib.pyplot as plt\n",
    "\n",
    "\n",
    "level_count.plot.bar(x=\"lvl\", y=\"count\", title=\"Count of levels\")\n",
    "plt.show()"
   ]
  },
  {
   "cell_type": "markdown",
   "id": "3f976e4a",
   "metadata": {},
   "source": [
    "## Train test split"
   ]
  },
  {
   "cell_type": "markdown",
   "id": "eb8cec62",
   "metadata": {},
   "source": [
    "### Chronological split"
   ]
  },
  {
   "cell_type": "code",
   "execution_count": 8,
   "id": "c6c29573",
   "metadata": {},
   "outputs": [],
   "source": [
    "from training.splitting_dataset import split_dataframe\n",
    "\n",
    "\n",
    "os.chdir(\"../../../training\")\n",
    "X_train, X_test, y_train, y_test = split_dataframe(df, test_size=0.31)\n",
    "os.chdir(\"../notebooks/models/lightgbm\")"
   ]
  },
  {
   "cell_type": "code",
   "execution_count": 9,
   "id": "f6894cc0",
   "metadata": {},
   "outputs": [],
   "source": [
    "X_train = X_train.drop(columns=[\"book\"])\n",
    "X_test = X_test.drop(columns=[\"book\"])"
   ]
  },
  {
   "cell_type": "markdown",
   "id": "31a0109c",
   "metadata": {},
   "source": [
    "### Random split"
   ]
  },
  {
   "cell_type": "code",
   "execution_count": 10,
   "id": "4d3e1121",
   "metadata": {},
   "outputs": [],
   "source": [
    "(\n",
    "    X_train_random_split,\n",
    "    X_test_random_split,\n",
    "    y_train_random_split,\n",
    "    y_test_random_split,\n",
    ") = split_dataframe(df, chronological_split=False)"
   ]
  },
  {
   "cell_type": "code",
   "execution_count": 11,
   "id": "f0c2041a",
   "metadata": {},
   "outputs": [],
   "source": [
    "X_train_random_split = X_train_random_split.drop(columns=[\"book\"])\n",
    "X_test_random_split = X_test_random_split.drop(columns=[\"book\"])"
   ]
  },
  {
   "cell_type": "markdown",
   "id": "e4776792",
   "metadata": {},
   "source": [
    "## LightGBM"
   ]
  },
  {
   "cell_type": "markdown",
   "id": "3f629b2d",
   "metadata": {},
   "source": [
    "## Chronological split"
   ]
  },
  {
   "cell_type": "code",
   "execution_count": 12,
   "id": "e818a3cc",
   "metadata": {},
   "outputs": [
    {
     "name": "stdout",
     "output_type": "stream",
     "text": [
      "[LightGBM] [Warning] Auto-choosing col-wise multi-threading, the overhead of testing was 0.000313 seconds.\n",
      "You can set `force_col_wise=true` to remove the overhead.\n",
      "[LightGBM] [Info] Total Bins 379\n",
      "[LightGBM] [Info] Number of data points in the train set: 841, number of used features: 13\n",
      "[LightGBM] [Info] Start training from score 6.966706\n",
      "Training until validation scores don't improve for 5 rounds\n",
      "[LightGBM] [Warning] No further splits with positive gain, best gain: -inf\n",
      "[LightGBM] [Warning] No further splits with positive gain, best gain: -inf\n",
      "[LightGBM] [Warning] No further splits with positive gain, best gain: -inf\n",
      "[LightGBM] [Warning] No further splits with positive gain, best gain: -inf\n",
      "[LightGBM] [Warning] No further splits with positive gain, best gain: -inf\n",
      "[LightGBM] [Warning] No further splits with positive gain, best gain: -inf\n",
      "[LightGBM] [Warning] No further splits with positive gain, best gain: -inf\n",
      "[LightGBM] [Warning] No further splits with positive gain, best gain: -inf\n",
      "[LightGBM] [Warning] No further splits with positive gain, best gain: -inf\n",
      "[LightGBM] [Warning] No further splits with positive gain, best gain: -inf\n",
      "[LightGBM] [Warning] No further splits with positive gain, best gain: -inf\n",
      "[LightGBM] [Warning] No further splits with positive gain, best gain: -inf\n",
      "Early stopping, best iteration is:\n",
      "[66]\tvalid_0's l2: 0.260889\tvalid_0's l1: 0.357206\n"
     ]
    }
   ],
   "source": [
    "import lightgbm as lgb\n",
    "\n",
    "lgb_train = lgb.Dataset(X_train, y_train)\n",
    "lgb_eval = lgb.Dataset(X_test, y_test, reference=lgb_train)\n",
    "\n",
    "params = {\n",
    "    \"boosting_type\": \"gbdt\",\n",
    "    \"objective\": \"regression\",\n",
    "    \"metric\": {\"l2\", \"l1\"},\n",
    "}\n",
    "\n",
    "gbm = lgb.train(\n",
    "    params,\n",
    "    lgb_train,\n",
    "    num_boost_round=100,\n",
    "    valid_sets=lgb_eval,\n",
    "    callbacks=[lgb.early_stopping(stopping_rounds=5)],\n",
    ")"
   ]
  },
  {
   "cell_type": "code",
   "execution_count": 13,
   "id": "b2dd69b5",
   "metadata": {},
   "outputs": [],
   "source": [
    "y_pred_train = gbm.predict(X_train, num_iteration=gbm.best_iteration)\n",
    "y_pred_test = gbm.predict(X_test, num_iteration=gbm.best_iteration)"
   ]
  },
  {
   "cell_type": "code",
   "execution_count": 14,
   "id": "68b425f7",
   "metadata": {},
   "outputs": [
    {
     "name": "stdout",
     "output_type": "stream",
     "text": [
      "MSE: 0.26\n",
      "RMSE: 0.51\n",
      "MAE: 0.22\n"
     ]
    }
   ],
   "source": [
    "from sklearn.metrics import mean_squared_error, median_absolute_error\n",
    "\n",
    "\n",
    "mse = mean_squared_error(y_test, y_pred_test)\n",
    "rmse = mean_squared_error(y_test, y_pred_test, squared=False)\n",
    "mae = median_absolute_error(y_test, y_pred_test)\n",
    "\n",
    "print(f\"MSE: {mse:.2f}\")\n",
    "print(f\"RMSE: {rmse:.2f}\")\n",
    "print(f\"MAE: {mae:.2f}\")"
   ]
  },
  {
   "cell_type": "code",
   "execution_count": 15,
   "id": "a615e9df",
   "metadata": {},
   "outputs": [],
   "source": [
    "results = pd.DataFrame(\n",
    "    data={\n",
    "        \"Split type\": [],\n",
    "        \"Tuning type\": [],\n",
    "        \"Number of characteristics\": [],\n",
    "        \"MSE\": [],\n",
    "        \"RMSE\": [],\n",
    "        \"MAE\": [],\n",
    "    }\n",
    ")\n",
    "\n",
    "results.loc[0] = [\"chronological\", \"normal\", len(X_test.columns), mse, rmse, mae]"
   ]
  },
  {
   "cell_type": "code",
   "execution_count": 16,
   "id": "9d777b5d",
   "metadata": {},
   "outputs": [
    {
     "name": "stdout",
     "output_type": "stream",
     "text": [
      "RMSE train: 0.21\n",
      "RMSE test: 0.51\n"
     ]
    }
   ],
   "source": [
    "rmse_train = mean_squared_error(y_train, y_pred_train, squared=False)\n",
    "rmse_test = mean_squared_error(y_test, y_pred_test, squared=False)\n",
    "print(f\"RMSE train: {rmse_train:.2f}\")\n",
    "print(f\"RMSE test: {rmse_test:.2f}\")"
   ]
  },
  {
   "cell_type": "code",
   "execution_count": 17,
   "id": "4135d981",
   "metadata": {},
   "outputs": [
    {
     "name": "stdout",
     "output_type": "stream",
     "text": [
      "Normal:\n",
      "MSE: 0.26\n",
      "RMSE: 0.51\n",
      "\n",
      "Round type: round\n",
      "MSE: 0.30\n",
      "RMSE: 0.55\n",
      "\n",
      "Round type: 0.33\n",
      "MSE: 0.29\n",
      "RMSE: 0.54\n",
      "\n",
      "Round type: 0.45\n",
      "MSE: 0.29\n",
      "RMSE: 0.54\n",
      "\n"
     ]
    }
   ],
   "source": [
    "from training.results import check_round_predictions, plot_confusion_matrix\n",
    "\n",
    "\n",
    "check_round_predictions([\"round\", 0.33, 0.45], y_test, y_pred_test)"
   ]
  },
  {
   "cell_type": "code",
   "execution_count": 18,
   "id": "4741e1ec",
   "metadata": {},
   "outputs": [
    {
     "data": {
      "image/png": "[encoded data removed]",
      "text/plain": [
       "<Figure size 432x288 with 2 Axes>"
      ]
     },
     "metadata": {
      "needs_background": "light"
     },
     "output_type": "display_data"
    }
   ],
   "source": [
    "plot_confusion_matrix(\"round\", y_pred_test, y_test)"
   ]
  },
  {
   "cell_type": "markdown",
   "id": "a6b03404",
   "metadata": {},
   "source": [
    "#### Tuning"
   ]
  },
  {
   "cell_type": "code",
   "execution_count": 19,
   "id": "e7f8b7ee",
   "metadata": {},
   "outputs": [],
   "source": [
    "from training.results import assess_regression_model"
   ]
  },
  {
   "cell_type": "code",
   "execution_count": 20,
   "id": "10cd6bac",
   "metadata": {
    "scrolled": true
   },
   "outputs": [
    {
     "name": "stderr",
     "output_type": "stream",
     "text": [
      "[I 2023-10-28 18:25:13,814] A new study created in memory with name: no-name-83c40d9c-4d41-4b5a-96e5-59b90aaa3629\n",
      "feature_fraction, val_score: inf:   0%|                                                          | 0/7 [00:00<?, ?it/s]"
     ]
    },
    {
     "name": "stdout",
     "output_type": "stream",
     "text": [
      "Training until validation scores don't improve for 100 rounds\n",
      "[100]\tcv_agg's l2: 0.188997 + 0.0379828\n",
      "[200]\tcv_agg's l2: 0.18624 + 0.0364077\n",
      "[300]\tcv_agg's l2: 0.185811 + 0.0361291\n"
     ]
    },
    {
     "name": "stderr",
     "output_type": "stream",
     "text": [
      "feature_fraction, val_score: 0.185363:  14%|######4                                      | 1/7 [00:03<00:19,  3.24s/it][I 2023-10-28 18:25:17,063] Trial 0 finished with value: 0.18536340223871123 and parameters: {'feature_fraction': 1.0}. Best is trial 0 with value: 0.18536340223871123.\n",
      "feature_fraction, val_score: 0.185363:  14%|######4                                      | 1/7 [00:03<00:19,  3.24s/it]"
     ]
    },
    {
     "name": "stdout",
     "output_type": "stream",
     "text": [
      "Early stopping, best iteration is:\n",
      "[261]\tcv_agg's l2: 0.185363 + 0.0359535\n",
      "[100]\tcv_agg's l2: 0.169736 + 0.0346077\n",
      "[200]\tcv_agg's l2: 0.169631 + 0.031243\n"
     ]
    },
    {
     "name": "stderr",
     "output_type": "stream",
     "text": [
      "feature_fraction, val_score: 0.168568:  29%|############8                                | 2/7 [00:05<00:13,  2.64s/it][I 2023-10-28 18:25:19,278] Trial 1 finished with value: 0.1685682989025282 and parameters: {'feature_fraction': 0.4}. Best is trial 1 with value: 0.1685682989025282.\n",
      "feature_fraction, val_score: 0.168568:  29%|############8                                | 2/7 [00:05<00:13,  2.64s/it]"
     ]
    },
    {
     "name": "stdout",
     "output_type": "stream",
     "text": [
      "Early stopping, best iteration is:\n",
      "[153]\tcv_agg's l2: 0.168568 + 0.0321598\n",
      "[100]\tcv_agg's l2: 0.179584 + 0.0369947\n",
      "[200]\tcv_agg's l2: 0.177166 + 0.0353728\n"
     ]
    },
    {
     "name": "stderr",
     "output_type": "stream",
     "text": [
      "feature_fraction, val_score: 0.168568:  43%|###################2                         | 3/7 [00:08<00:10,  2.66s/it][I 2023-10-28 18:25:21,969] Trial 2 finished with value: 0.17779447664049502 and parameters: {'feature_fraction': 0.8999999999999999}. Best is trial 1 with value: 0.1685682989025282.\n",
      "feature_fraction, val_score: 0.168568:  43%|###################2                         | 3/7 [00:08<00:10,  2.66s/it]"
     ]
    },
    {
     "name": "stdout",
     "output_type": "stream",
     "text": [
      "Early stopping, best iteration is:\n",
      "[153]\tcv_agg's l2: 0.168568 + 0.0321598\n",
      "[100]\tcv_agg's l2: 0.166762 + 0.0299547\n",
      "[200]\tcv_agg's l2: 0.164095 + 0.0284144\n",
      "[300]\tcv_agg's l2: 0.163224 + 0.027686\n"
     ]
    },
    {
     "name": "stderr",
     "output_type": "stream",
     "text": [
      "feature_fraction, val_score: 0.163159:  57%|#########################7                   | 4/7 [00:12<00:09,  3.14s/it][I 2023-10-28 18:25:25,833] Trial 3 finished with value: 0.1631593993590766 and parameters: {'feature_fraction': 0.5}. Best is trial 3 with value: 0.1631593993590766.\n",
      "feature_fraction, val_score: 0.163159:  57%|#########################7                   | 4/7 [00:12<00:09,  3.14s/it]"
     ]
    },
    {
     "name": "stdout",
     "output_type": "stream",
     "text": [
      "[400]\tcv_agg's l2: 0.164425 + 0.0271078\n",
      "Early stopping, best iteration is:\n",
      "[315]\tcv_agg's l2: 0.163159 + 0.0274208\n",
      "[100]\tcv_agg's l2: 0.173079 + 0.0358194\n",
      "[200]\tcv_agg's l2: 0.171857 + 0.0345912\n",
      "[300]\tcv_agg's l2: 0.173226 + 0.0333421\n",
      "[400]\tcv_agg's l2: 0.174371 + 0.033232\n"
     ]
    },
    {
     "name": "stderr",
     "output_type": "stream",
     "text": [
      "feature_fraction, val_score: 0.163159:  71%|################################1            | 5/7 [00:15<00:06,  3.44s/it][I 2023-10-28 18:25:29,820] Trial 4 finished with value: 0.17341549605597764 and parameters: {'feature_fraction': 0.7}. Best is trial 3 with value: 0.1631593993590766.\n",
      "feature_fraction, val_score: 0.163159:  71%|################################1            | 5/7 [00:16<00:06,  3.44s/it]"
     ]
    },
    {
     "name": "stdout",
     "output_type": "stream",
     "text": [
      "Early stopping, best iteration is:\n",
      "[315]\tcv_agg's l2: 0.163159 + 0.0274208\n",
      "[100]\tcv_agg's l2: 0.170233 + 0.0352319\n",
      "[200]\tcv_agg's l2: 0.168071 + 0.0333769\n",
      "[300]\tcv_agg's l2: 0.168365 + 0.032633\n"
     ]
    },
    {
     "name": "stderr",
     "output_type": "stream",
     "text": [
      "feature_fraction, val_score: 0.163159:  86%|######################################5      | 6/7 [00:20<00:03,  3.83s/it][I 2023-10-28 18:25:34,405] Trial 5 finished with value: 0.16844437486231537 and parameters: {'feature_fraction': 0.6}. Best is trial 3 with value: 0.1631593993590766.\n",
      "feature_fraction, val_score: 0.163159:  86%|######################################5      | 6/7 [00:20<00:03,  3.83s/it]"
     ]
    },
    {
     "name": "stdout",
     "output_type": "stream",
     "text": [
      "[400]\tcv_agg's l2: 0.168918 + 0.0324894\n",
      "Early stopping, best iteration is:\n",
      "[315]\tcv_agg's l2: 0.163159 + 0.0274208\n",
      "[100]\tcv_agg's l2: 0.179246 + 0.0381093\n",
      "[200]\tcv_agg's l2: 0.177547 + 0.0361558\n",
      "[300]\tcv_agg's l2: 0.176499 + 0.0347554\n",
      "[400]\tcv_agg's l2: 0.177855 + 0.0348441\n"
     ]
    },
    {
     "name": "stderr",
     "output_type": "stream",
     "text": [
      "feature_fraction, val_score: 0.163159: 100%|#############################################| 7/7 [00:25<00:00,  4.31s/it][I 2023-10-28 18:25:39,711] Trial 6 finished with value: 0.17714374884378672 and parameters: {'feature_fraction': 0.8}. Best is trial 3 with value: 0.1631593993590766.\n",
      "feature_fraction, val_score: 0.163159: 100%|#############################################| 7/7 [00:25<00:00,  3.70s/it]\n"
     ]
    },
    {
     "name": "stdout",
     "output_type": "stream",
     "text": [
      "Early stopping, best iteration is:\n",
      "[315]\tcv_agg's l2: 0.163159 + 0.0274208\n"
     ]
    },
    {
     "name": "stderr",
     "output_type": "stream",
     "text": [
      "num_leaves, val_score: 0.163159:   0%|                                                          | 0/20 [00:00<?, ?it/s]"
     ]
    },
    {
     "name": "stdout",
     "output_type": "stream",
     "text": [
      "[100]\tcv_agg's l2: 0.166762 + 0.0299547\n",
      "[200]\tcv_agg's l2: 0.164095 + 0.0284144\n",
      "[300]\tcv_agg's l2: 0.163224 + 0.027686\n",
      "[400]\tcv_agg's l2: 0.164425 + 0.0271078\n",
      "Early stopping, best iteration is:\n",
      "[315]\tcv_agg's l2: 0.163159 + 0.0274208\n"
     ]
    },
    {
     "name": "stderr",
     "output_type": "stream",
     "text": [
      "num_leaves, val_score: 0.163159:   5%|##5                                               | 1/20 [00:05<01:53,  5.99s/it][I 2023-10-28 18:25:45,711] Trial 7 finished with value: 0.1631593993590766 and parameters: {'num_leaves': 218}. Best is trial 7 with value: 0.1631593993590766.\n",
      "num_leaves, val_score: 0.163159:   5%|##5                                               | 1/20 [00:05<01:53,  5.99s/it]"
     ]
    },
    {
     "name": "stdout",
     "output_type": "stream",
     "text": [
      "[100]\tcv_agg's l2: 0.166762 + 0.0299547\n",
      "[200]\tcv_agg's l2: 0.164095 + 0.0284144\n",
      "[300]\tcv_agg's l2: 0.163224 + 0.027686\n"
     ]
    },
    {
     "name": "stderr",
     "output_type": "stream",
     "text": [
      "num_leaves, val_score: 0.163159:  10%|#####                                             | 2/20 [00:10<01:29,  4.99s/it][I 2023-10-28 18:25:50,008] Trial 8 finished with value: 0.1631593993590766 and parameters: {'num_leaves': 43}. Best is trial 7 with value: 0.1631593993590766.\n",
      "num_leaves, val_score: 0.163159:  10%|#####                                             | 2/20 [00:10<01:29,  4.99s/it]"
     ]
    },
    {
     "name": "stdout",
     "output_type": "stream",
     "text": [
      "[400]\tcv_agg's l2: 0.164425 + 0.0271078\n",
      "Early stopping, best iteration is:\n",
      "[315]\tcv_agg's l2: 0.163159 + 0.0274208\n",
      "[100]\tcv_agg's l2: 0.166762 + 0.0299547\n",
      "[200]\tcv_agg's l2: 0.164095 + 0.0284144\n",
      "[300]\tcv_agg's l2: 0.163224 + 0.027686\n"
     ]
    },
    {
     "name": "stderr",
     "output_type": "stream",
     "text": [
      "num_leaves, val_score: 0.163159:  15%|#######5                                          | 3/20 [00:14<01:17,  4.54s/it][I 2023-10-28 18:25:53,997] Trial 9 finished with value: 0.1631593993590766 and parameters: {'num_leaves': 95}. Best is trial 7 with value: 0.1631593993590766.\n",
      "num_leaves, val_score: 0.163159:  15%|#######5                                          | 3/20 [00:14<01:17,  4.54s/it]"
     ]
    },
    {
     "name": "stdout",
     "output_type": "stream",
     "text": [
      "[400]\tcv_agg's l2: 0.164425 + 0.0271078\n",
      "Early stopping, best iteration is:\n",
      "[315]\tcv_agg's l2: 0.163159 + 0.0274208\n",
      "[100]\tcv_agg's l2: 0.166762 + 0.0299547\n",
      "[200]\tcv_agg's l2: 0.164095 + 0.0284144\n",
      "[300]\tcv_agg's l2: 0.163224 + 0.027686\n"
     ]
    },
    {
     "name": "stderr",
     "output_type": "stream",
     "text": [
      "num_leaves, val_score: 0.163159:  20%|##########                                        | 4/20 [00:18<01:09,  4.32s/it][I 2023-10-28 18:25:57,977] Trial 10 finished with value: 0.1631593993590766 and parameters: {'num_leaves': 248}. Best is trial 7 with value: 0.1631593993590766.\n",
      "num_leaves, val_score: 0.163159:  20%|##########                                        | 4/20 [00:18<01:09,  4.32s/it]"
     ]
    },
    {
     "name": "stdout",
     "output_type": "stream",
     "text": [
      "[400]\tcv_agg's l2: 0.164425 + 0.0271078\n",
      "Early stopping, best iteration is:\n",
      "[315]\tcv_agg's l2: 0.163159 + 0.0274208\n",
      "[100]\tcv_agg's l2: 0.166762 + 0.0299547\n",
      "[200]\tcv_agg's l2: 0.164095 + 0.0284144\n",
      "[300]\tcv_agg's l2: 0.163224 + 0.027686\n"
     ]
    },
    {
     "name": "stderr",
     "output_type": "stream",
     "text": [
      "num_leaves, val_score: 0.163159:  25%|############5                                     | 5/20 [00:22<01:02,  4.16s/it][I 2023-10-28 18:26:01,874] Trial 11 finished with value: 0.1631593993590766 and parameters: {'num_leaves': 220}. Best is trial 7 with value: 0.1631593993590766.\n",
      "num_leaves, val_score: 0.163159:  25%|############5                                     | 5/20 [00:22<01:02,  4.16s/it]"
     ]
    },
    {
     "name": "stdout",
     "output_type": "stream",
     "text": [
      "[400]\tcv_agg's l2: 0.164425 + 0.0271078\n",
      "Early stopping, best iteration is:\n",
      "[315]\tcv_agg's l2: 0.163159 + 0.0274208\n",
      "[100]\tcv_agg's l2: 0.166762 + 0.0299547\n",
      "[200]\tcv_agg's l2: 0.164095 + 0.0284144\n",
      "[300]\tcv_agg's l2: 0.163224 + 0.027686\n"
     ]
    },
    {
     "name": "stderr",
     "output_type": "stream",
     "text": [
      "num_leaves, val_score: 0.163159:  30%|###############                                   | 6/20 [00:26<00:58,  4.19s/it][I 2023-10-28 18:26:06,111] Trial 12 finished with value: 0.1631593993590766 and parameters: {'num_leaves': 169}. Best is trial 7 with value: 0.1631593993590766.\n",
      "num_leaves, val_score: 0.163159:  30%|###############                                   | 6/20 [00:26<00:58,  4.19s/it]"
     ]
    },
    {
     "name": "stdout",
     "output_type": "stream",
     "text": [
      "[400]\tcv_agg's l2: 0.164425 + 0.0271078\n",
      "Early stopping, best iteration is:\n",
      "[315]\tcv_agg's l2: 0.163159 + 0.0274208\n",
      "[100]\tcv_agg's l2: 0.166762 + 0.0299547\n",
      "[200]\tcv_agg's l2: 0.164095 + 0.0284144\n",
      "[300]\tcv_agg's l2: 0.163224 + 0.027686\n"
     ]
    },
    {
     "name": "stderr",
     "output_type": "stream",
     "text": [
      "num_leaves, val_score: 0.163159:  35%|#################5                                | 7/20 [00:30<00:53,  4.11s/it][I 2023-10-28 18:26:10,046] Trial 13 finished with value: 0.1631593993590766 and parameters: {'num_leaves': 163}. Best is trial 7 with value: 0.1631593993590766.\n",
      "num_leaves, val_score: 0.163159:  35%|#################5                                | 7/20 [00:30<00:53,  4.11s/it]"
     ]
    },
    {
     "name": "stdout",
     "output_type": "stream",
     "text": [
      "[400]\tcv_agg's l2: 0.164425 + 0.0271078\n",
      "Early stopping, best iteration is:\n",
      "[315]\tcv_agg's l2: 0.163159 + 0.0274208\n",
      "[100]\tcv_agg's l2: 0.181344 + 0.0281376\n",
      "[200]\tcv_agg's l2: 0.166917 + 0.022728\n",
      "[300]\tcv_agg's l2: 0.163396 + 0.0220486\n",
      "[400]\tcv_agg's l2: 0.161851 + 0.0223121\n",
      "[500]\tcv_agg's l2: 0.160844 + 0.0224433\n",
      "[600]\tcv_agg's l2: 0.160488 + 0.022788\n",
      "[700]\tcv_agg's l2: 0.160814 + 0.0230086\n"
     ]
    },
    {
     "name": "stderr",
     "output_type": "stream",
     "text": [
      "num_leaves, val_score: 0.160273:  40%|####################                              | 8/20 [00:32<00:43,  3.60s/it][I 2023-10-28 18:26:12,566] Trial 14 finished with value: 0.16027294713652052 and parameters: {'num_leaves': 7}. Best is trial 14 with value: 0.16027294713652052.\n",
      "num_leaves, val_score: 0.160273:  40%|####################                              | 8/20 [00:32<00:43,  3.60s/it]"
     ]
    },
    {
     "name": "stdout",
     "output_type": "stream",
     "text": [
      "Early stopping, best iteration is:\n",
      "[654]\tcv_agg's l2: 0.160273 + 0.0226681\n",
      "[100]\tcv_agg's l2: 0.17838 + 0.0282175\n",
      "[200]\tcv_agg's l2: 0.167557 + 0.0245256\n",
      "[300]\tcv_agg's l2: 0.164305 + 0.0235133\n",
      "[400]\tcv_agg's l2: 0.162414 + 0.0229579\n",
      "[500]\tcv_agg's l2: 0.161839 + 0.0223358\n",
      "[600]\tcv_agg's l2: 0.161269 + 0.0221298\n",
      "[700]\tcv_agg's l2: 0.16102 + 0.0222377\n",
      "Early stopping, best iteration is:\n",
      "[654]\tcv_agg's l2: 0.160273 + 0.0226681\n"
     ]
    },
    {
     "name": "stderr",
     "output_type": "stream",
     "text": [
      "num_leaves, val_score: 0.160273:  45%|######################5                           | 9/20 [00:35<00:37,  3.42s/it][I 2023-10-28 18:26:15,598] Trial 15 finished with value: 0.16121665459404283 and parameters: {'num_leaves': 9}. Best is trial 14 with value: 0.16027294713652052.\n",
      "num_leaves, val_score: 0.160273:  45%|######################5                           | 9/20 [00:35<00:37,  3.42s/it]"
     ]
    },
    {
     "name": "stdout",
     "output_type": "stream",
     "text": [
      "[100]\tcv_agg's l2: 0.333137 + 0.0519651\n",
      "[200]\tcv_agg's l2: 0.296074 + 0.0460212\n",
      "[300]\tcv_agg's l2: 0.286067 + 0.0440806\n",
      "[400]\tcv_agg's l2: 0.278129 + 0.041888\n",
      "[500]\tcv_agg's l2: 0.27211 + 0.0404049\n",
      "[600]\tcv_agg's l2: 0.267125 + 0.039015\n"
     ]
    },
    {
     "name": "stderr",
     "output_type": "stream",
     "text": [
      "num_leaves, val_score: 0.160273:  50%|########################5                        | 10/20 [00:37<00:27,  2.73s/it][I 2023-10-28 18:26:16,761] Trial 16 finished with value: 0.26475386001143886 and parameters: {'num_leaves': 2}. Best is trial 14 with value: 0.16027294713652052.\n",
      "num_leaves, val_score: 0.160273:  50%|########################5                        | 10/20 [00:37<00:27,  2.73s/it]"
     ]
    },
    {
     "name": "stdout",
     "output_type": "stream",
     "text": [
      "[700]\tcv_agg's l2: 0.262847 + 0.0381847\n",
      "Early stopping, best iteration is:\n",
      "[654]\tcv_agg's l2: 0.160273 + 0.0226681\n",
      "[100]\tcv_agg's l2: 0.198578 + 0.0335735\n",
      "[200]\tcv_agg's l2: 0.179277 + 0.0250484\n",
      "[300]\tcv_agg's l2: 0.172918 + 0.0220768\n",
      "[400]\tcv_agg's l2: 0.170045 + 0.0204779\n",
      "[500]\tcv_agg's l2: 0.167584 + 0.0189141\n",
      "[600]\tcv_agg's l2: 0.166345 + 0.0187636\n"
     ]
    },
    {
     "name": "stderr",
     "output_type": "stream",
     "text": [
      "num_leaves, val_score: 0.160273:  55%|##########################9                      | 11/20 [00:39<00:22,  2.50s/it][I 2023-10-28 18:26:18,765] Trial 17 finished with value: 0.166225070376186 and parameters: {'num_leaves': 5}. Best is trial 14 with value: 0.16027294713652052.\n",
      "num_leaves, val_score: 0.160273:  55%|##########################9                      | 11/20 [00:39<00:22,  2.50s/it]"
     ]
    },
    {
     "name": "stdout",
     "output_type": "stream",
     "text": [
      "[700]\tcv_agg's l2: 0.166419 + 0.0183524\n",
      "Early stopping, best iteration is:\n",
      "[654]\tcv_agg's l2: 0.160273 + 0.0226681\n",
      "[100]\tcv_agg's l2: 0.166762 + 0.0299547\n",
      "[200]\tcv_agg's l2: 0.164095 + 0.0284144\n",
      "[300]\tcv_agg's l2: 0.163224 + 0.027686\n",
      "[400]\tcv_agg's l2: 0.164425 + 0.0271078\n",
      "[500]\tcv_agg's l2: 0.165303 + 0.0271859\n",
      "[600]\tcv_agg's l2: 0.166395 + 0.0277135\n",
      "[700]\tcv_agg's l2: 0.167173 + 0.0280612\n"
     ]
    },
    {
     "name": "stderr",
     "output_type": "stream",
     "text": [
      "num_leaves, val_score: 0.160273:  60%|#############################4                   | 12/20 [00:45<00:30,  3.80s/it][I 2023-10-28 18:26:25,520] Trial 18 finished with value: 0.16677098706301646 and parameters: {'num_leaves': 75}. Best is trial 14 with value: 0.16027294713652052.\n",
      "num_leaves, val_score: 0.160273:  60%|#############################4                   | 12/20 [00:45<00:30,  3.80s/it]"
     ]
    },
    {
     "name": "stdout",
     "output_type": "stream",
     "text": [
      "Early stopping, best iteration is:\n",
      "[654]\tcv_agg's l2: 0.160273 + 0.0226681\n",
      "[100]\tcv_agg's l2: 0.166762 + 0.0299547\n",
      "[200]\tcv_agg's l2: 0.164095 + 0.0284144\n",
      "[300]\tcv_agg's l2: 0.163224 + 0.027686\n",
      "[400]\tcv_agg's l2: 0.164425 + 0.0271078\n",
      "[500]\tcv_agg's l2: 0.165303 + 0.0271859\n",
      "[600]\tcv_agg's l2: 0.166395 + 0.0277135\n",
      "[700]\tcv_agg's l2: 0.167173 + 0.0280612\n"
     ]
    },
    {
     "name": "stderr",
     "output_type": "stream",
     "text": [
      "num_leaves, val_score: 0.160273:  65%|###############################8                 | 13/20 [00:52<00:33,  4.77s/it][I 2023-10-28 18:26:32,529] Trial 19 finished with value: 0.16677098706301646 and parameters: {'num_leaves': 53}. Best is trial 14 with value: 0.16027294713652052.\n",
      "num_leaves, val_score: 0.160273:  65%|###############################8                 | 13/20 [00:52<00:33,  4.77s/it]"
     ]
    },
    {
     "name": "stdout",
     "output_type": "stream",
     "text": [
      "Early stopping, best iteration is:\n",
      "[654]\tcv_agg's l2: 0.160273 + 0.0226681\n",
      "[100]\tcv_agg's l2: 0.166762 + 0.0299547\n",
      "[200]\tcv_agg's l2: 0.164095 + 0.0284144\n",
      "[300]\tcv_agg's l2: 0.163224 + 0.027686\n",
      "[400]\tcv_agg's l2: 0.164425 + 0.0271078\n",
      "[500]\tcv_agg's l2: 0.165303 + 0.0271859\n",
      "[600]\tcv_agg's l2: 0.166395 + 0.0277135\n",
      "[700]\tcv_agg's l2: 0.167173 + 0.0280612\n"
     ]
    },
    {
     "name": "stderr",
     "output_type": "stream",
     "text": [
      "num_leaves, val_score: 0.160273:  70%|##################################3              | 14/20 [01:00<00:33,  5.60s/it][I 2023-10-28 18:26:40,038] Trial 20 finished with value: 0.16677098706301646 and parameters: {'num_leaves': 112}. Best is trial 14 with value: 0.16027294713652052.\n",
      "num_leaves, val_score: 0.160273:  70%|##################################3              | 14/20 [01:00<00:33,  5.60s/it]"
     ]
    },
    {
     "name": "stdout",
     "output_type": "stream",
     "text": [
      "Early stopping, best iteration is:\n",
      "[654]\tcv_agg's l2: 0.160273 + 0.0226681\n",
      "[100]\tcv_agg's l2: 0.166762 + 0.0299547\n",
      "[200]\tcv_agg's l2: 0.164095 + 0.0284144\n",
      "[300]\tcv_agg's l2: 0.163224 + 0.027686\n",
      "[400]\tcv_agg's l2: 0.164425 + 0.0271078\n",
      "[500]\tcv_agg's l2: 0.165303 + 0.0271859\n",
      "[600]\tcv_agg's l2: 0.166395 + 0.0277135\n",
      "[700]\tcv_agg's l2: 0.167173 + 0.0280612\n"
     ]
    },
    {
     "name": "stderr",
     "output_type": "stream",
     "text": [
      "num_leaves, val_score: 0.160273:  75%|####################################7            | 15/20 [01:07<00:30,  6.07s/it][I 2023-10-28 18:26:47,194] Trial 21 finished with value: 0.16677098706301646 and parameters: {'num_leaves': 43}. Best is trial 14 with value: 0.16027294713652052.\n",
      "num_leaves, val_score: 0.160273:  75%|####################################7            | 15/20 [01:07<00:30,  6.07s/it]"
     ]
    },
    {
     "name": "stdout",
     "output_type": "stream",
     "text": [
      "Early stopping, best iteration is:\n",
      "[654]\tcv_agg's l2: 0.160273 + 0.0226681\n",
      "[100]\tcv_agg's l2: 0.165859 + 0.0300223\n",
      "[200]\tcv_agg's l2: 0.162108 + 0.0285231\n",
      "[300]\tcv_agg's l2: 0.163253 + 0.028195\n",
      "[400]\tcv_agg's l2: 0.163477 + 0.0284797\n",
      "[500]\tcv_agg's l2: 0.1643 + 0.0286937\n",
      "[600]\tcv_agg's l2: 0.165213 + 0.0285975\n",
      "[700]\tcv_agg's l2: 0.16602 + 0.0290104\n"
     ]
    },
    {
     "name": "stderr",
     "output_type": "stream",
     "text": [
      "num_leaves, val_score: 0.160273:  80%|#######################################2         | 16/20 [01:14<00:25,  6.38s/it][I 2023-10-28 18:26:54,311] Trial 22 finished with value: 0.16574840807877392 and parameters: {'num_leaves': 26}. Best is trial 14 with value: 0.16027294713652052.\n",
      "num_leaves, val_score: 0.160273:  80%|#######################################2         | 16/20 [01:14<00:25,  6.38s/it]"
     ]
    },
    {
     "name": "stdout",
     "output_type": "stream",
     "text": [
      "Early stopping, best iteration is:\n",
      "[654]\tcv_agg's l2: 0.160273 + 0.0226681\n",
      "[100]\tcv_agg's l2: 0.166762 + 0.0299547\n",
      "[200]\tcv_agg's l2: 0.164095 + 0.0284144\n",
      "[300]\tcv_agg's l2: 0.163224 + 0.027686\n",
      "[400]\tcv_agg's l2: 0.164425 + 0.0271078\n",
      "[500]\tcv_agg's l2: 0.165303 + 0.0271859\n",
      "[600]\tcv_agg's l2: 0.166395 + 0.0277135\n",
      "[700]\tcv_agg's l2: 0.167173 + 0.0280612\n"
     ]
    },
    {
     "name": "stderr",
     "output_type": "stream",
     "text": [
      "num_leaves, val_score: 0.160273:  85%|#########################################6       | 17/20 [01:21<00:19,  6.56s/it][I 2023-10-28 18:27:01,270] Trial 23 finished with value: 0.16677098706301646 and parameters: {'num_leaves': 68}. Best is trial 14 with value: 0.16027294713652052.\n",
      "num_leaves, val_score: 0.160273:  85%|#########################################6       | 17/20 [01:21<00:19,  6.56s/it]"
     ]
    },
    {
     "name": "stdout",
     "output_type": "stream",
     "text": [
      "Early stopping, best iteration is:\n",
      "[654]\tcv_agg's l2: 0.160273 + 0.0226681\n",
      "[100]\tcv_agg's l2: 0.166762 + 0.0299547\n",
      "[200]\tcv_agg's l2: 0.164095 + 0.0284144\n",
      "[300]\tcv_agg's l2: 0.163224 + 0.027686\n",
      "[400]\tcv_agg's l2: 0.164425 + 0.0271078\n",
      "[500]\tcv_agg's l2: 0.165303 + 0.0271859\n",
      "[600]\tcv_agg's l2: 0.166395 + 0.0277135\n",
      "[700]\tcv_agg's l2: 0.167173 + 0.0280612\n"
     ]
    },
    {
     "name": "stderr",
     "output_type": "stream",
     "text": [
      "num_leaves, val_score: 0.160273:  90%|############################################1    | 18/20 [01:28<00:13,  6.69s/it][I 2023-10-28 18:27:08,265] Trial 24 finished with value: 0.16677098706301646 and parameters: {'num_leaves': 135}. Best is trial 14 with value: 0.16027294713652052.\n",
      "num_leaves, val_score: 0.160273:  90%|############################################1    | 18/20 [01:28<00:13,  6.69s/it]"
     ]
    },
    {
     "name": "stdout",
     "output_type": "stream",
     "text": [
      "Early stopping, best iteration is:\n",
      "[654]\tcv_agg's l2: 0.160273 + 0.0226681\n",
      "[100]\tcv_agg's l2: 0.165344 + 0.0294019\n",
      "[200]\tcv_agg's l2: 0.161473 + 0.0281509\n",
      "[300]\tcv_agg's l2: 0.161483 + 0.0275743\n",
      "[400]\tcv_agg's l2: 0.162077 + 0.027694\n",
      "[500]\tcv_agg's l2: 0.163008 + 0.0278936\n",
      "[600]\tcv_agg's l2: 0.163876 + 0.0282838\n",
      "[700]\tcv_agg's l2: 0.164733 + 0.0287458\n"
     ]
    },
    {
     "name": "stderr",
     "output_type": "stream",
     "text": [
      "num_leaves, val_score: 0.160273:  95%|##############################################5  | 19/20 [01:35<00:06,  6.70s/it][I 2023-10-28 18:27:14,995] Trial 25 finished with value: 0.16439124081433826 and parameters: {'num_leaves': 24}. Best is trial 14 with value: 0.16027294713652052.\n",
      "num_leaves, val_score: 0.160273:  95%|##############################################5  | 19/20 [01:35<00:06,  6.70s/it]"
     ]
    },
    {
     "name": "stdout",
     "output_type": "stream",
     "text": [
      "Early stopping, best iteration is:\n",
      "[654]\tcv_agg's l2: 0.160273 + 0.0226681\n",
      "[100]\tcv_agg's l2: 0.166762 + 0.0299547\n",
      "[200]\tcv_agg's l2: 0.164095 + 0.0284144\n",
      "[300]\tcv_agg's l2: 0.163224 + 0.027686\n",
      "[400]\tcv_agg's l2: 0.164425 + 0.0271078\n",
      "[500]\tcv_agg's l2: 0.165303 + 0.0271859\n",
      "[600]\tcv_agg's l2: 0.166395 + 0.0277135\n",
      "[700]\tcv_agg's l2: 0.167173 + 0.0280612\n"
     ]
    },
    {
     "name": "stderr",
     "output_type": "stream",
     "text": [
      "num_leaves, val_score: 0.160273: 100%|#################################################| 20/20 [01:42<00:00,  6.80s/it][I 2023-10-28 18:27:22,027] Trial 26 finished with value: 0.16677098706301646 and parameters: {'num_leaves': 97}. Best is trial 14 with value: 0.16027294713652052.\n",
      "num_leaves, val_score: 0.160273: 100%|#################################################| 20/20 [01:42<00:00,  5.12s/it]\n"
     ]
    },
    {
     "name": "stdout",
     "output_type": "stream",
     "text": [
      "Early stopping, best iteration is:\n",
      "[654]\tcv_agg's l2: 0.160273 + 0.0226681\n"
     ]
    },
    {
     "name": "stderr",
     "output_type": "stream",
     "text": [
      "bagging, val_score: 0.160273:   0%|                                                             | 0/10 [00:00<?, ?it/s]"
     ]
    },
    {
     "name": "stdout",
     "output_type": "stream",
     "text": [
      "[100]\tcv_agg's l2: 0.213111 + 0.0208018\n",
      "[200]\tcv_agg's l2: 0.197396 + 0.0206537\n",
      "[300]\tcv_agg's l2: 0.194597 + 0.0228569\n",
      "[400]\tcv_agg's l2: 0.192871 + 0.0213542\n",
      "[500]\tcv_agg's l2: 0.191521 + 0.0205598\n",
      "[600]\tcv_agg's l2: 0.189959 + 0.021348\n",
      "[700]\tcv_agg's l2: 0.189379 + 0.0189013\n"
     ]
    },
    {
     "name": "stderr",
     "output_type": "stream",
     "text": [
      "bagging, val_score: 0.160273:  10%|#####3                                               | 1/10 [00:02<00:25,  2.78s/it][I 2023-10-28 18:27:24,817] Trial 27 finished with value: 0.18679711397323398 and parameters: {'bagging_fraction': 0.5814191306484572, 'bagging_freq': 6}. Best is trial 27 with value: 0.18679711397323398.\n",
      "bagging, val_score: 0.160273:  10%|#####3                                               | 1/10 [00:02<00:25,  2.78s/it]"
     ]
    },
    {
     "name": "stdout",
     "output_type": "stream",
     "text": [
      "Early stopping, best iteration is:\n",
      "[654]\tcv_agg's l2: 0.160273 + 0.0226681\n",
      "[100]\tcv_agg's l2: 0.184646 + 0.0239098\n",
      "[200]\tcv_agg's l2: 0.171097 + 0.022347\n",
      "[300]\tcv_agg's l2: 0.166263 + 0.023193\n",
      "[400]\tcv_agg's l2: 0.164069 + 0.0217729\n",
      "[500]\tcv_agg's l2: 0.162861 + 0.0207969\n",
      "[600]\tcv_agg's l2: 0.162926 + 0.0209527\n"
     ]
    },
    {
     "name": "stderr",
     "output_type": "stream",
     "text": [
      "\r",
      "bagging, val_score: 0.160273:  10%|#####3                                               | 1/10 [00:05<00:25,  2.78s/it]"
     ]
    },
    {
     "name": "stdout",
     "output_type": "stream",
     "text": [
      "[700]\tcv_agg's l2: 0.162009 + 0.0212724\n",
      "Early stopping, best iteration is:\n",
      "[654]\tcv_agg's l2: 0.160273 + 0.0226681\n"
     ]
    },
    {
     "name": "stderr",
     "output_type": "stream",
     "text": [
      "bagging, val_score: 0.160273:  20%|##########6                                          | 2/10 [00:05<00:21,  2.74s/it][I 2023-10-28 18:27:27,534] Trial 28 finished with value: 0.16227169515992287 and parameters: {'bagging_fraction': 0.959403900107018, 'bagging_freq': 1}. Best is trial 28 with value: 0.16227169515992287.\n",
      "bagging, val_score: 0.160273:  20%|##########6                                          | 2/10 [00:05<00:21,  2.74s/it]"
     ]
    },
    {
     "name": "stdout",
     "output_type": "stream",
     "text": [
      "[100]\tcv_agg's l2: 0.183118 + 0.0215824\n",
      "[200]\tcv_agg's l2: 0.167883 + 0.0188994\n",
      "[300]\tcv_agg's l2: 0.163672 + 0.0201391\n",
      "[400]\tcv_agg's l2: 0.161353 + 0.0194885\n",
      "[500]\tcv_agg's l2: 0.160276 + 0.0195441\n",
      "[600]\tcv_agg's l2: 0.159869 + 0.019737\n",
      "[700]\tcv_agg's l2: 0.158653 + 0.0191753\n"
     ]
    },
    {
     "name": "stderr",
     "output_type": "stream",
     "text": [
      "bagging, val_score: 0.158315:  30%|###############9                                     | 3/10 [00:08<00:19,  2.84s/it][I 2023-10-28 18:27:30,486] Trial 29 finished with value: 0.1583151690009271 and parameters: {'bagging_fraction': 0.957456244811573, 'bagging_freq': 1}. Best is trial 29 with value: 0.1583151690009271.\n",
      "bagging, val_score: 0.158315:  30%|###############9                                     | 3/10 [00:08<00:19,  2.84s/it]"
     ]
    },
    {
     "name": "stdout",
     "output_type": "stream",
     "text": [
      "[800]\tcv_agg's l2: 0.158921 + 0.0205705\n",
      "Early stopping, best iteration is:\n",
      "[721]\tcv_agg's l2: 0.158315 + 0.0193121\n",
      "[100]\tcv_agg's l2: 0.179562 + 0.0256391\n",
      "[200]\tcv_agg's l2: 0.165153 + 0.0222185\n",
      "[300]\tcv_agg's l2: 0.160481 + 0.0200212\n",
      "[400]\tcv_agg's l2: 0.158955 + 0.0198892\n",
      "[500]\tcv_agg's l2: 0.158277 + 0.0204719\n",
      "[600]\tcv_agg's l2: 0.157239 + 0.020179\n"
     ]
    },
    {
     "name": "stderr",
     "output_type": "stream",
     "text": [
      "bagging, val_score: 0.157106:  40%|#####################2                               | 4/10 [00:11<00:16,  2.75s/it][I 2023-10-28 18:27:33,090] Trial 30 finished with value: 0.15710594536575434 and parameters: {'bagging_fraction': 0.9782955069666581, 'bagging_freq': 1}. Best is trial 30 with value: 0.15710594536575434.\n",
      "bagging, val_score: 0.157106:  40%|#####################2                               | 4/10 [00:11<00:16,  2.75s/it]"
     ]
    },
    {
     "name": "stdout",
     "output_type": "stream",
     "text": [
      "[700]\tcv_agg's l2: 0.157791 + 0.0196748\n",
      "Early stopping, best iteration is:\n",
      "[629]\tcv_agg's l2: 0.157106 + 0.0200519\n",
      "[100]\tcv_agg's l2: 0.181344 + 0.0281376\n",
      "[200]\tcv_agg's l2: 0.166917 + 0.022728\n",
      "[300]\tcv_agg's l2: 0.163396 + 0.0220486\n",
      "[400]\tcv_agg's l2: 0.161851 + 0.0223121\n",
      "[500]\tcv_agg's l2: 0.160844 + 0.0224433\n",
      "[600]\tcv_agg's l2: 0.160488 + 0.022788\n"
     ]
    },
    {
     "name": "stderr",
     "output_type": "stream",
     "text": [
      "bagging, val_score: 0.157106:  50%|##########################5                          | 5/10 [00:13<00:13,  2.65s/it][I 2023-10-28 18:27:35,562] Trial 31 finished with value: 0.16062795211769357 and parameters: {'bagging_fraction': 0.9999838478771315, 'bagging_freq': 1}. Best is trial 30 with value: 0.15710594536575434.\n",
      "bagging, val_score: 0.157106:  50%|##########################5                          | 5/10 [00:13<00:13,  2.65s/it]"
     ]
    },
    {
     "name": "stdout",
     "output_type": "stream",
     "text": [
      "[700]\tcv_agg's l2: 0.160814 + 0.0230086\n",
      "Early stopping, best iteration is:\n",
      "[629]\tcv_agg's l2: 0.157106 + 0.0200519\n",
      "[100]\tcv_agg's l2: 0.18838 + 0.029523\n",
      "[200]\tcv_agg's l2: 0.173471 + 0.025638\n",
      "[300]\tcv_agg's l2: 0.168872 + 0.0246411\n",
      "[400]\tcv_agg's l2: 0.165967 + 0.0237271\n",
      "[500]\tcv_agg's l2: 0.163593 + 0.0225345\n",
      "[600]\tcv_agg's l2: 0.162107 + 0.0224741\n"
     ]
    },
    {
     "name": "stderr",
     "output_type": "stream",
     "text": [
      "bagging, val_score: 0.157106:  60%|###############################8                     | 6/10 [00:16<00:10,  2.59s/it][I 2023-10-28 18:27:38,036] Trial 32 finished with value: 0.1618258248038203 and parameters: {'bagging_fraction': 0.9935212532403326, 'bagging_freq': 1}. Best is trial 30 with value: 0.15710594536575434.\n",
      "bagging, val_score: 0.157106:  60%|###############################8                     | 6/10 [00:16<00:10,  2.59s/it]"
     ]
    },
    {
     "name": "stdout",
     "output_type": "stream",
     "text": [
      "[700]\tcv_agg's l2: 0.161977 + 0.0222164\n",
      "Early stopping, best iteration is:\n",
      "[629]\tcv_agg's l2: 0.157106 + 0.0200519\n",
      "[100]\tcv_agg's l2: 0.182359 + 0.0246226\n",
      "[200]\tcv_agg's l2: 0.168014 + 0.0192559\n",
      "[300]\tcv_agg's l2: 0.163268 + 0.0172187\n",
      "[400]\tcv_agg's l2: 0.160623 + 0.0174596\n",
      "[500]\tcv_agg's l2: 0.158374 + 0.0164039\n",
      "[600]\tcv_agg's l2: 0.157908 + 0.0161059\n"
     ]
    },
    {
     "name": "stderr",
     "output_type": "stream",
     "text": [
      "\r",
      "bagging, val_score: 0.157106:  60%|###############################8                     | 6/10 [00:18<00:10,  2.59s/it]"
     ]
    },
    {
     "name": "stdout",
     "output_type": "stream",
     "text": [
      "[700]\tcv_agg's l2: 0.157723 + 0.0163068\n",
      "Early stopping, best iteration is:\n",
      "[629]\tcv_agg's l2: 0.157106 + 0.0200519\n"
     ]
    },
    {
     "name": "stderr",
     "output_type": "stream",
     "text": [
      "bagging, val_score: 0.157106:  70%|#####################################                | 7/10 [00:18<00:08,  2.71s/it][I 2023-10-28 18:27:41,005] Trial 33 finished with value: 0.15774227845971406 and parameters: {'bagging_fraction': 0.988559530447937, 'bagging_freq': 1}. Best is trial 30 with value: 0.15710594536575434.\n",
      "bagging, val_score: 0.157106:  70%|#####################################                | 7/10 [00:18<00:08,  2.71s/it]"
     ]
    },
    {
     "name": "stdout",
     "output_type": "stream",
     "text": [
      "[100]\tcv_agg's l2: 0.18456 + 0.0281905\n",
      "[200]\tcv_agg's l2: 0.170908 + 0.0197904\n",
      "[300]\tcv_agg's l2: 0.165862 + 0.0193001\n",
      "[400]\tcv_agg's l2: 0.162444 + 0.0174708\n",
      "[500]\tcv_agg's l2: 0.160229 + 0.0160824\n",
      "[600]\tcv_agg's l2: 0.158948 + 0.0168096\n"
     ]
    },
    {
     "name": "stderr",
     "output_type": "stream",
     "text": [
      "bagging, val_score: 0.157106:  80%|##########################################4          | 8/10 [00:21<00:05,  2.70s/it][I 2023-10-28 18:27:43,667] Trial 34 finished with value: 0.1587699020955989 and parameters: {'bagging_fraction': 0.8429892040198994, 'bagging_freq': 3}. Best is trial 30 with value: 0.15710594536575434.\n",
      "bagging, val_score: 0.157106:  80%|##########################################4          | 8/10 [00:21<00:05,  2.70s/it]"
     ]
    },
    {
     "name": "stdout",
     "output_type": "stream",
     "text": [
      "[700]\tcv_agg's l2: 0.158471 + 0.0152395\n",
      "Early stopping, best iteration is:\n",
      "[629]\tcv_agg's l2: 0.157106 + 0.0200519\n",
      "[100]\tcv_agg's l2: 0.188255 + 0.0295105\n",
      "[200]\tcv_agg's l2: 0.170468 + 0.02436\n",
      "[300]\tcv_agg's l2: 0.165 + 0.0227245\n",
      "[400]\tcv_agg's l2: 0.162858 + 0.019446\n",
      "[500]\tcv_agg's l2: 0.161558 + 0.018869\n",
      "[600]\tcv_agg's l2: 0.160731 + 0.0181009\n"
     ]
    },
    {
     "name": "stderr",
     "output_type": "stream",
     "text": [
      "bagging, val_score: 0.157106:  90%|###############################################7     | 9/10 [00:24<00:02,  2.71s/it][I 2023-10-28 18:27:46,394] Trial 35 finished with value: 0.16027054989011358 and parameters: {'bagging_fraction': 0.8818885425583209, 'bagging_freq': 3}. Best is trial 30 with value: 0.15710594536575434.\n",
      "bagging, val_score: 0.157106:  90%|###############################################7     | 9/10 [00:24<00:02,  2.71s/it]"
     ]
    },
    {
     "name": "stdout",
     "output_type": "stream",
     "text": [
      "[700]\tcv_agg's l2: 0.160407 + 0.017404\n",
      "Early stopping, best iteration is:\n",
      "[629]\tcv_agg's l2: 0.157106 + 0.0200519\n",
      "[100]\tcv_agg's l2: 0.189788 + 0.0300498\n",
      "[200]\tcv_agg's l2: 0.175606 + 0.0227476\n",
      "[300]\tcv_agg's l2: 0.170041 + 0.0215528\n",
      "[400]\tcv_agg's l2: 0.167054 + 0.0188323\n",
      "[500]\tcv_agg's l2: 0.165222 + 0.0175979\n",
      "[600]\tcv_agg's l2: 0.163627 + 0.0177148\n"
     ]
    },
    {
     "name": "stderr",
     "output_type": "stream",
     "text": [
      "bagging, val_score: 0.157106: 100%|####################################################| 10/10 [00:26<00:00,  2.68s/it][I 2023-10-28 18:27:49,019] Trial 36 finished with value: 0.1633012024438327 and parameters: {'bagging_fraction': 0.8457695451934073, 'bagging_freq': 3}. Best is trial 30 with value: 0.15710594536575434.\n",
      "bagging, val_score: 0.157106: 100%|####################################################| 10/10 [00:26<00:00,  2.70s/it]\n"
     ]
    },
    {
     "name": "stdout",
     "output_type": "stream",
     "text": [
      "[700]\tcv_agg's l2: 0.163687 + 0.0163168\n",
      "Early stopping, best iteration is:\n",
      "[629]\tcv_agg's l2: 0.157106 + 0.0200519\n"
     ]
    },
    {
     "name": "stderr",
     "output_type": "stream",
     "text": [
      "feature_fraction_stage2, val_score: 0.157106:   0%|                                              | 0/6 [00:00<?, ?it/s]"
     ]
    },
    {
     "name": "stdout",
     "output_type": "stream",
     "text": [
      "[100]\tcv_agg's l2: 0.181559 + 0.0231789\n",
      "[200]\tcv_agg's l2: 0.166164 + 0.0196848\n",
      "[300]\tcv_agg's l2: 0.161225 + 0.0179789\n",
      "[400]\tcv_agg's l2: 0.159838 + 0.0187875\n",
      "[500]\tcv_agg's l2: 0.158674 + 0.0176833\n",
      "[600]\tcv_agg's l2: 0.158044 + 0.0176953\n"
     ]
    },
    {
     "name": "stderr",
     "output_type": "stream",
     "text": [
      "feature_fraction_stage2, val_score: 0.157106:  17%|######3                               | 1/6 [00:02<00:13,  2.66s/it][I 2023-10-28 18:27:51,684] Trial 37 finished with value: 0.1577301480493845 and parameters: {'feature_fraction': 0.58}. Best is trial 37 with value: 0.1577301480493845.\n",
      "feature_fraction_stage2, val_score: 0.157106:  17%|######3                               | 1/6 [00:02<00:13,  2.66s/it]"
     ]
    },
    {
     "name": "stdout",
     "output_type": "stream",
     "text": [
      "[700]\tcv_agg's l2: 0.157613 + 0.0183092\n",
      "Early stopping, best iteration is:\n",
      "[629]\tcv_agg's l2: 0.157106 + 0.0200519\n",
      "[100]\tcv_agg's l2: 0.179562 + 0.0256391\n",
      "[200]\tcv_agg's l2: 0.165153 + 0.0222185\n",
      "[300]\tcv_agg's l2: 0.160481 + 0.0200212\n",
      "[400]\tcv_agg's l2: 0.158955 + 0.0198892\n",
      "[500]\tcv_agg's l2: 0.158277 + 0.0204719\n",
      "[600]\tcv_agg's l2: 0.157239 + 0.020179\n"
     ]
    },
    {
     "name": "stderr",
     "output_type": "stream",
     "text": [
      "feature_fraction_stage2, val_score: 0.157106:  33%|############6                         | 2/6 [00:05<00:10,  2.69s/it][I 2023-10-28 18:27:54,390] Trial 38 finished with value: 0.15710594536575434 and parameters: {'feature_fraction': 0.516}. Best is trial 38 with value: 0.15710594536575434.\n",
      "feature_fraction_stage2, val_score: 0.157106:  33%|############6                         | 2/6 [00:05<00:10,  2.69s/it]"
     ]
    },
    {
     "name": "stdout",
     "output_type": "stream",
     "text": [
      "[700]\tcv_agg's l2: 0.157791 + 0.0196748\n",
      "Early stopping, best iteration is:\n",
      "[629]\tcv_agg's l2: 0.157106 + 0.0200519\n",
      "[100]\tcv_agg's l2: 0.177745 + 0.0224187\n",
      "[200]\tcv_agg's l2: 0.166818 + 0.0187611\n",
      "[300]\tcv_agg's l2: 0.162445 + 0.016904\n",
      "[400]\tcv_agg's l2: 0.161546 + 0.0165058\n",
      "[500]\tcv_agg's l2: 0.160615 + 0.0161585\n",
      "[600]\tcv_agg's l2: 0.159285 + 0.0155429\n"
     ]
    },
    {
     "name": "stderr",
     "output_type": "stream",
     "text": [
      "feature_fraction_stage2, val_score: 0.157106:  50%|###################                   | 3/6 [00:07<00:07,  2.63s/it][I 2023-10-28 18:27:56,962] Trial 39 finished with value: 0.15928630519905745 and parameters: {'feature_fraction': 0.42}. Best is trial 38 with value: 0.15710594536575434.\n",
      "feature_fraction_stage2, val_score: 0.157106:  50%|###################                   | 3/6 [00:07<00:07,  2.63s/it]"
     ]
    },
    {
     "name": "stdout",
     "output_type": "stream",
     "text": [
      "[700]\tcv_agg's l2: 0.159467 + 0.0161915\n",
      "Early stopping, best iteration is:\n",
      "[629]\tcv_agg's l2: 0.157106 + 0.0200519\n",
      "[100]\tcv_agg's l2: 0.179562 + 0.0256391\n",
      "[200]\tcv_agg's l2: 0.165153 + 0.0222185\n",
      "[300]\tcv_agg's l2: 0.160481 + 0.0200212\n",
      "[400]\tcv_agg's l2: 0.158955 + 0.0198892\n",
      "[500]\tcv_agg's l2: 0.158277 + 0.0204719\n",
      "[600]\tcv_agg's l2: 0.157239 + 0.020179\n"
     ]
    },
    {
     "name": "stderr",
     "output_type": "stream",
     "text": [
      "feature_fraction_stage2, val_score: 0.157106:  67%|#########################3            | 4/6 [00:10<00:05,  2.60s/it][I 2023-10-28 18:27:59,507] Trial 40 finished with value: 0.15710594536575434 and parameters: {'feature_fraction': 0.5479999999999999}. Best is trial 38 with value: 0.15710594536575434.\n",
      "feature_fraction_stage2, val_score: 0.157106:  67%|#########################3            | 4/6 [00:10<00:05,  2.60s/it]"
     ]
    },
    {
     "name": "stdout",
     "output_type": "stream",
     "text": [
      "[700]\tcv_agg's l2: 0.157791 + 0.0196748\n",
      "Early stopping, best iteration is:\n",
      "[629]\tcv_agg's l2: 0.157106 + 0.0200519\n",
      "[100]\tcv_agg's l2: 0.17829 + 0.0229029\n",
      "[200]\tcv_agg's l2: 0.167484 + 0.0224436\n",
      "[300]\tcv_agg's l2: 0.162271 + 0.0205765\n",
      "[400]\tcv_agg's l2: 0.159914 + 0.0198866\n",
      "[500]\tcv_agg's l2: 0.158124 + 0.0190161\n",
      "[600]\tcv_agg's l2: 0.157523 + 0.0188213\n",
      "[700]\tcv_agg's l2: 0.156602 + 0.018782\n"
     ]
    },
    {
     "name": "stderr",
     "output_type": "stream",
     "text": [
      "feature_fraction_stage2, val_score: 0.156413:  83%|###############################6      | 5/6 [00:13<00:02,  2.72s/it][I 2023-10-28 18:28:02,431] Trial 41 finished with value: 0.15641258272088893 and parameters: {'feature_fraction': 0.484}. Best is trial 41 with value: 0.15641258272088893.\n",
      "feature_fraction_stage2, val_score: 0.156413:  83%|###############################6      | 5/6 [00:13<00:02,  2.72s/it]"
     ]
    },
    {
     "name": "stdout",
     "output_type": "stream",
     "text": [
      "[800]\tcv_agg's l2: 0.156502 + 0.0194905\n",
      "Early stopping, best iteration is:\n",
      "[705]\tcv_agg's l2: 0.156413 + 0.0188686\n",
      "[100]\tcv_agg's l2: 0.17829 + 0.0229029\n",
      "[200]\tcv_agg's l2: 0.167484 + 0.0224436\n",
      "[300]\tcv_agg's l2: 0.162271 + 0.0205765\n",
      "[400]\tcv_agg's l2: 0.159914 + 0.0198866\n",
      "[500]\tcv_agg's l2: 0.158124 + 0.0190161\n",
      "[600]\tcv_agg's l2: 0.157523 + 0.0188213\n",
      "[700]\tcv_agg's l2: 0.156602 + 0.018782\n"
     ]
    },
    {
     "name": "stderr",
     "output_type": "stream",
     "text": [
      "feature_fraction_stage2, val_score: 0.156413: 100%|######################################| 6/6 [00:16<00:00,  2.76s/it][I 2023-10-28 18:28:05,269] Trial 42 finished with value: 0.15641258272088893 and parameters: {'feature_fraction': 0.45199999999999996}. Best is trial 41 with value: 0.15641258272088893.\n",
      "feature_fraction_stage2, val_score: 0.156413: 100%|######################################| 6/6 [00:16<00:00,  2.71s/it]\n"
     ]
    },
    {
     "name": "stdout",
     "output_type": "stream",
     "text": [
      "[800]\tcv_agg's l2: 0.156502 + 0.0194905\n",
      "Early stopping, best iteration is:\n",
      "[705]\tcv_agg's l2: 0.156413 + 0.0188686\n"
     ]
    },
    {
     "name": "stderr",
     "output_type": "stream",
     "text": [
      "regularization_factors, val_score: 0.156413:   0%|                                              | 0/20 [00:00<?, ?it/s]"
     ]
    },
    {
     "name": "stdout",
     "output_type": "stream",
     "text": [
      "[100]\tcv_agg's l2: 0.17829 + 0.0229029\n",
      "[200]\tcv_agg's l2: 0.167484 + 0.0224436\n",
      "[300]\tcv_agg's l2: 0.162271 + 0.0205765\n",
      "[400]\tcv_agg's l2: 0.159914 + 0.0198866\n",
      "[500]\tcv_agg's l2: 0.158124 + 0.0190161\n",
      "[600]\tcv_agg's l2: 0.157523 + 0.0188213\n",
      "[700]\tcv_agg's l2: 0.156602 + 0.018782\n"
     ]
    },
    {
     "name": "stderr",
     "output_type": "stream",
     "text": [
      "regularization_factors, val_score: 0.156413:   5%|#9                                    | 1/20 [00:02<00:56,  2.97s/it][I 2023-10-28 18:28:08,242] Trial 43 finished with value: 0.1564125770879438 and parameters: {'lambda_l1': 2.999267918230611e-06, 'lambda_l2': 3.041593829718201e-06}. Best is trial 43 with value: 0.1564125770879438.\n",
      "regularization_factors, val_score: 0.156413:   5%|#9                                    | 1/20 [00:02<00:56,  2.97s/it]"
     ]
    },
    {
     "name": "stdout",
     "output_type": "stream",
     "text": [
      "[800]\tcv_agg's l2: 0.156502 + 0.0194905\n",
      "Early stopping, best iteration is:\n",
      "[705]\tcv_agg's l2: 0.156413 + 0.0188686\n",
      "[100]\tcv_agg's l2: 0.17829 + 0.0229029\n",
      "[200]\tcv_agg's l2: 0.167484 + 0.0224436\n",
      "[300]\tcv_agg's l2: 0.162271 + 0.0205765\n",
      "[400]\tcv_agg's l2: 0.159914 + 0.0198866\n",
      "[500]\tcv_agg's l2: 0.158124 + 0.0190161\n",
      "[600]\tcv_agg's l2: 0.157523 + 0.0188213\n",
      "[700]\tcv_agg's l2: 0.156602 + 0.018782\n"
     ]
    },
    {
     "name": "stderr",
     "output_type": "stream",
     "text": [
      "regularization_factors, val_score: 0.156413:  10%|###8                                  | 2/20 [00:05<00:52,  2.94s/it][I 2023-10-28 18:28:11,164] Trial 44 finished with value: 0.1564125792752119 and parameters: {'lambda_l1': 1.638284080505607e-06, 'lambda_l2': 2.0843668269450864e-06}. Best is trial 43 with value: 0.1564125770879438.\n",
      "regularization_factors, val_score: 0.156413:  10%|###8                                  | 2/20 [00:05<00:52,  2.94s/it]"
     ]
    },
    {
     "name": "stdout",
     "output_type": "stream",
     "text": [
      "[800]\tcv_agg's l2: 0.156502 + 0.0194905\n",
      "Early stopping, best iteration is:\n",
      "[705]\tcv_agg's l2: 0.156413 + 0.0188686\n",
      "[100]\tcv_agg's l2: 0.17829 + 0.0229029\n",
      "[200]\tcv_agg's l2: 0.167484 + 0.0224436\n",
      "[300]\tcv_agg's l2: 0.162271 + 0.0205765\n",
      "[400]\tcv_agg's l2: 0.159914 + 0.0198866\n",
      "[500]\tcv_agg's l2: 0.158124 + 0.0190161\n",
      "[600]\tcv_agg's l2: 0.157523 + 0.0188213\n",
      "[700]\tcv_agg's l2: 0.156602 + 0.018782\n"
     ]
    },
    {
     "name": "stderr",
     "output_type": "stream",
     "text": [
      "regularization_factors, val_score: 0.156413:  15%|#####7                                | 3/20 [00:08<00:50,  2.96s/it][I 2023-10-28 18:28:14,147] Trial 45 finished with value: 0.15641257894696653 and parameters: {'lambda_l1': 2.0305291765359934e-06, 'lambda_l2': 1.8807209358742027e-06}. Best is trial 43 with value: 0.1564125770879438.\n",
      "regularization_factors, val_score: 0.156413:  15%|#####7                                | 3/20 [00:08<00:50,  2.96s/it]"
     ]
    },
    {
     "name": "stdout",
     "output_type": "stream",
     "text": [
      "[800]\tcv_agg's l2: 0.156502 + 0.0194905\n",
      "Early stopping, best iteration is:\n",
      "[705]\tcv_agg's l2: 0.156413 + 0.0188686\n",
      "[100]\tcv_agg's l2: 0.17829 + 0.0229029\n",
      "[200]\tcv_agg's l2: 0.167484 + 0.0224436\n",
      "[300]\tcv_agg's l2: 0.162271 + 0.0205765\n",
      "[400]\tcv_agg's l2: 0.159914 + 0.0198866\n",
      "[500]\tcv_agg's l2: 0.158124 + 0.0190161\n",
      "[600]\tcv_agg's l2: 0.157523 + 0.0188213\n",
      "[700]\tcv_agg's l2: 0.156602 + 0.018782\n"
     ]
    },
    {
     "name": "stderr",
     "output_type": "stream",
     "text": [
      "regularization_factors, val_score: 0.156413:  20%|#######6                              | 4/20 [00:12<00:50,  3.17s/it][I 2023-10-28 18:28:17,630] Trial 46 finished with value: 0.15641258029046054 and parameters: {'lambda_l1': 1.3737273805026864e-06, 'lambda_l2': 9.355635675194881e-07}. Best is trial 43 with value: 0.1564125770879438.\n",
      "regularization_factors, val_score: 0.156413:  20%|#######6                              | 4/20 [00:12<00:50,  3.17s/it]"
     ]
    },
    {
     "name": "stdout",
     "output_type": "stream",
     "text": [
      "[800]\tcv_agg's l2: 0.156502 + 0.0194905\n",
      "Early stopping, best iteration is:\n",
      "[705]\tcv_agg's l2: 0.156413 + 0.0188686\n",
      "[100]\tcv_agg's l2: 0.17829 + 0.0229029\n",
      "[200]\tcv_agg's l2: 0.167484 + 0.0224436\n",
      "[300]\tcv_agg's l2: 0.162271 + 0.0205765\n",
      "[400]\tcv_agg's l2: 0.159914 + 0.0198866\n",
      "[500]\tcv_agg's l2: 0.158124 + 0.0190161\n",
      "[600]\tcv_agg's l2: 0.157523 + 0.0188213\n",
      "[700]\tcv_agg's l2: 0.156602 + 0.018782\n"
     ]
    },
    {
     "name": "stderr",
     "output_type": "stream",
     "text": [
      "regularization_factors, val_score: 0.156413:  25%|#########5                            | 5/20 [00:14<00:41,  2.77s/it][I 2023-10-28 18:28:19,697] Trial 47 finished with value: 0.15641258042072673 and parameters: {'lambda_l1': 1.6054553685429051e-06, 'lambda_l2': 3.0397461634643516e-07}. Best is trial 43 with value: 0.1564125770879438.\n",
      "regularization_factors, val_score: 0.156413:  25%|#########5                            | 5/20 [00:14<00:41,  2.77s/it]"
     ]
    },
    {
     "name": "stdout",
     "output_type": "stream",
     "text": [
      "[800]\tcv_agg's l2: 0.156502 + 0.0194905\n",
      "Early stopping, best iteration is:\n",
      "[705]\tcv_agg's l2: 0.156413 + 0.0188686\n",
      "[100]\tcv_agg's l2: 0.17829 + 0.0229029\n",
      "[200]\tcv_agg's l2: 0.167484 + 0.0224436\n",
      "[300]\tcv_agg's l2: 0.162271 + 0.0205765\n",
      "[400]\tcv_agg's l2: 0.159914 + 0.0198866\n",
      "[500]\tcv_agg's l2: 0.158124 + 0.0190161\n",
      "[600]\tcv_agg's l2: 0.157523 + 0.0188213\n",
      "[700]\tcv_agg's l2: 0.156602 + 0.018782\n"
     ]
    },
    {
     "name": "stderr",
     "output_type": "stream",
     "text": [
      "regularization_factors, val_score: 0.156413:  30%|###########4                          | 6/20 [00:16<00:35,  2.56s/it][I 2023-10-28 18:28:21,862] Trial 48 finished with value: 0.1564125803192366 and parameters: {'lambda_l1': 1.4674139165089908e-06, 'lambda_l2': 7.732534975681019e-07}. Best is trial 43 with value: 0.1564125770879438.\n",
      "regularization_factors, val_score: 0.156413:  30%|###########4                          | 6/20 [00:16<00:35,  2.56s/it]"
     ]
    },
    {
     "name": "stdout",
     "output_type": "stream",
     "text": [
      "[800]\tcv_agg's l2: 0.156502 + 0.0194905\n",
      "Early stopping, best iteration is:\n",
      "[705]\tcv_agg's l2: 0.156413 + 0.0188686\n",
      "[100]\tcv_agg's l2: 0.17829 + 0.0229029\n",
      "[200]\tcv_agg's l2: 0.167484 + 0.0224436\n",
      "[300]\tcv_agg's l2: 0.162271 + 0.0205765\n",
      "[400]\tcv_agg's l2: 0.159914 + 0.0198866\n",
      "[500]\tcv_agg's l2: 0.158124 + 0.0190161\n",
      "[600]\tcv_agg's l2: 0.157523 + 0.0188213\n",
      "[700]\tcv_agg's l2: 0.156602 + 0.018782\n"
     ]
    },
    {
     "name": "stderr",
     "output_type": "stream",
     "text": [
      "regularization_factors, val_score: 0.156413:  35%|#############3                        | 7/20 [00:18<00:31,  2.41s/it][I 2023-10-28 18:28:23,954] Trial 49 finished with value: 0.15641258073769082 and parameters: {'lambda_l1': 7.489584097732834e-07, 'lambda_l2': 1.7086336591435298e-06}. Best is trial 43 with value: 0.1564125770879438.\n",
      "regularization_factors, val_score: 0.156413:  35%|#############3                        | 7/20 [00:18<00:31,  2.41s/it]"
     ]
    },
    {
     "name": "stdout",
     "output_type": "stream",
     "text": [
      "[800]\tcv_agg's l2: 0.156502 + 0.0194905\n",
      "Early stopping, best iteration is:\n",
      "[705]\tcv_agg's l2: 0.156413 + 0.0188686\n",
      "[100]\tcv_agg's l2: 0.17829 + 0.0229029\n",
      "[200]\tcv_agg's l2: 0.167484 + 0.0224436\n",
      "[300]\tcv_agg's l2: 0.162271 + 0.0205765\n",
      "[400]\tcv_agg's l2: 0.159914 + 0.0198866\n",
      "[500]\tcv_agg's l2: 0.158124 + 0.0190161\n",
      "[600]\tcv_agg's l2: 0.157523 + 0.0188213\n",
      "[700]\tcv_agg's l2: 0.156602 + 0.018782\n"
     ]
    },
    {
     "name": "stderr",
     "output_type": "stream",
     "text": [
      "regularization_factors, val_score: 0.156413:  40%|###############2                      | 8/20 [00:21<00:31,  2.59s/it][I 2023-10-28 18:28:26,937] Trial 50 finished with value: 0.1564125790743352 and parameters: {'lambda_l1': 1.9745239950787764e-06, 'lambda_l2': 1.7491022075298807e-06}. Best is trial 43 with value: 0.1564125770879438.\n",
      "regularization_factors, val_score: 0.156413:  40%|###############2                      | 8/20 [00:21<00:31,  2.59s/it]"
     ]
    },
    {
     "name": "stdout",
     "output_type": "stream",
     "text": [
      "[800]\tcv_agg's l2: 0.156502 + 0.0194905\n",
      "Early stopping, best iteration is:\n",
      "[705]\tcv_agg's l2: 0.156413 + 0.0188686\n",
      "[100]\tcv_agg's l2: 0.17829 + 0.0229029\n",
      "[200]\tcv_agg's l2: 0.167484 + 0.0224436\n",
      "[300]\tcv_agg's l2: 0.162271 + 0.0205765\n",
      "[400]\tcv_agg's l2: 0.159914 + 0.0198866\n",
      "[500]\tcv_agg's l2: 0.158124 + 0.0190161\n",
      "[600]\tcv_agg's l2: 0.157523 + 0.0188213\n",
      "[700]\tcv_agg's l2: 0.156602 + 0.018782\n"
     ]
    },
    {
     "name": "stderr",
     "output_type": "stream",
     "text": [
      "regularization_factors, val_score: 0.156413:  45%|#################1                    | 9/20 [00:24<00:30,  2.74s/it][I 2023-10-28 18:28:30,016] Trial 51 finished with value: 0.15641257799472025 and parameters: {'lambda_l1': 2.8766349032010337e-06, 'lambda_l2': 1.75819389757133e-06}. Best is trial 43 with value: 0.1564125770879438.\n",
      "regularization_factors, val_score: 0.156413:  45%|#################1                    | 9/20 [00:24<00:30,  2.74s/it]"
     ]
    },
    {
     "name": "stdout",
     "output_type": "stream",
     "text": [
      "[800]\tcv_agg's l2: 0.156502 + 0.0194905\n",
      "Early stopping, best iteration is:\n",
      "[705]\tcv_agg's l2: 0.156413 + 0.0188686\n",
      "[100]\tcv_agg's l2: 0.17829 + 0.0229029\n",
      "[200]\tcv_agg's l2: 0.167484 + 0.0224436\n",
      "[300]\tcv_agg's l2: 0.162271 + 0.0205765\n",
      "[400]\tcv_agg's l2: 0.159914 + 0.0198866\n",
      "[500]\tcv_agg's l2: 0.158124 + 0.0190161\n",
      "[600]\tcv_agg's l2: 0.157523 + 0.0188213\n",
      "[700]\tcv_agg's l2: 0.156602 + 0.018782\n"
     ]
    },
    {
     "name": "stderr",
     "output_type": "stream",
     "text": [
      "regularization_factors, val_score: 0.156413:  50%|##################5                  | 10/20 [00:27<00:27,  2.78s/it][I 2023-10-28 18:28:32,882] Trial 52 finished with value: 0.15641257758925642 and parameters: {'lambda_l1': 2.4793305292787024e-06, 'lambda_l2': 3.229197357018133e-06}. Best is trial 43 with value: 0.1564125770879438.\n",
      "regularization_factors, val_score: 0.156413:  50%|##################5                  | 10/20 [00:27<00:27,  2.78s/it]"
     ]
    },
    {
     "name": "stdout",
     "output_type": "stream",
     "text": [
      "[800]\tcv_agg's l2: 0.156502 + 0.0194905\n",
      "Early stopping, best iteration is:\n",
      "[705]\tcv_agg's l2: 0.156413 + 0.0188686\n",
      "[100]\tcv_agg's l2: 0.17829 + 0.0229029\n",
      "[200]\tcv_agg's l2: 0.167484 + 0.0224436\n",
      "[300]\tcv_agg's l2: 0.162271 + 0.0205765\n",
      "[400]\tcv_agg's l2: 0.159914 + 0.0198866\n",
      "[500]\tcv_agg's l2: 0.158124 + 0.0190161\n",
      "[600]\tcv_agg's l2: 0.157643 + 0.0186758\n",
      "[700]\tcv_agg's l2: 0.156834 + 0.0185158\n"
     ]
    },
    {
     "name": "stderr",
     "output_type": "stream",
     "text": [
      "regularization_factors, val_score: 0.156413:  55%|####################3                | 11/20 [00:30<00:25,  2.82s/it][I 2023-10-28 18:28:35,801] Trial 53 finished with value: 0.15667909060594956 and parameters: {'lambda_l1': 5.367533472868946e-06, 'lambda_l2': 7.664287124538881e-06}. Best is trial 43 with value: 0.1564125770879438.\n",
      "regularization_factors, val_score: 0.156413:  55%|####################3                | 11/20 [00:30<00:25,  2.82s/it]"
     ]
    },
    {
     "name": "stdout",
     "output_type": "stream",
     "text": [
      "[800]\tcv_agg's l2: 0.156796 + 0.0191585\n",
      "Early stopping, best iteration is:\n",
      "[705]\tcv_agg's l2: 0.156413 + 0.0188686\n",
      "[100]\tcv_agg's l2: 0.17829 + 0.0229029\n",
      "[200]\tcv_agg's l2: 0.167484 + 0.0224436\n",
      "[300]\tcv_agg's l2: 0.162271 + 0.0205765\n",
      "[400]\tcv_agg's l2: 0.159914 + 0.0198866\n",
      "[500]\tcv_agg's l2: 0.158124 + 0.0190161\n",
      "[600]\tcv_agg's l2: 0.157643 + 0.0186758\n",
      "[700]\tcv_agg's l2: 0.156834 + 0.0185158\n"
     ]
    },
    {
     "name": "stderr",
     "output_type": "stream",
     "text": [
      "regularization_factors, val_score: 0.156413:  60%|######################2              | 12/20 [00:33<00:22,  2.87s/it][I 2023-10-28 18:28:38,766] Trial 54 finished with value: 0.15667908787128373 and parameters: {'lambda_l1': 7.165033095055408e-06, 'lambda_l2': 7.681118893940347e-06}. Best is trial 43 with value: 0.1564125770879438.\n",
      "regularization_factors, val_score: 0.156413:  60%|######################2              | 12/20 [00:33<00:22,  2.87s/it]"
     ]
    },
    {
     "name": "stdout",
     "output_type": "stream",
     "text": [
      "[800]\tcv_agg's l2: 0.156796 + 0.0191585\n",
      "Early stopping, best iteration is:\n",
      "[705]\tcv_agg's l2: 0.156413 + 0.0188686\n",
      "[100]\tcv_agg's l2: 0.17829 + 0.0229029\n",
      "[200]\tcv_agg's l2: 0.167484 + 0.0224436\n",
      "[300]\tcv_agg's l2: 0.162271 + 0.0205765\n",
      "[400]\tcv_agg's l2: 0.159914 + 0.0198866\n",
      "[500]\tcv_agg's l2: 0.158124 + 0.0190161\n",
      "[600]\tcv_agg's l2: 0.157643 + 0.0186758\n",
      "[700]\tcv_agg's l2: 0.156834 + 0.0185158\n"
     ]
    },
    {
     "name": "stderr",
     "output_type": "stream",
     "text": [
      "regularization_factors, val_score: 0.156413:  65%|########################             | 13/20 [00:36<00:20,  2.90s/it][I 2023-10-28 18:28:41,737] Trial 55 finished with value: 0.15667905640575291 and parameters: {'lambda_l1': 2.676861394174813e-05, 'lambda_l2': 1.1244144740647239e-05}. Best is trial 43 with value: 0.1564125770879438.\n",
      "regularization_factors, val_score: 0.156413:  65%|########################             | 13/20 [00:36<00:20,  2.90s/it]"
     ]
    },
    {
     "name": "stdout",
     "output_type": "stream",
     "text": [
      "[800]\tcv_agg's l2: 0.156796 + 0.0191585\n",
      "Early stopping, best iteration is:\n",
      "[705]\tcv_agg's l2: 0.156413 + 0.0188686\n",
      "[100]\tcv_agg's l2: 0.177784 + 0.023587\n",
      "[200]\tcv_agg's l2: 0.166735 + 0.0234426\n",
      "[300]\tcv_agg's l2: 0.161408 + 0.0217012\n",
      "[400]\tcv_agg's l2: 0.159246 + 0.020717\n",
      "[500]\tcv_agg's l2: 0.157481 + 0.0197752\n",
      "[600]\tcv_agg's l2: 0.156935 + 0.0195868\n",
      "[700]\tcv_agg's l2: 0.156336 + 0.0192232\n"
     ]
    },
    {
     "name": "stderr",
     "output_type": "stream",
     "text": [
      "regularization_factors, val_score: 0.156212:  70%|#########################9           | 14/20 [00:39<00:17,  2.90s/it][I 2023-10-28 18:28:44,638] Trial 56 finished with value: 0.15621239418849073 and parameters: {'lambda_l1': 1.6334991695449113e-08, 'lambda_l2': 0.0016387752004267708}. Best is trial 56 with value: 0.15621239418849073.\n",
      "regularization_factors, val_score: 0.156212:  70%|#########################9           | 14/20 [00:39<00:17,  2.90s/it]"
     ]
    },
    {
     "name": "stdout",
     "output_type": "stream",
     "text": [
      "Early stopping, best iteration is:\n",
      "[680]\tcv_agg's l2: 0.156212 + 0.0193264\n",
      "[100]\tcv_agg's l2: 0.177899 + 0.0229447\n",
      "[200]\tcv_agg's l2: 0.167278 + 0.0218583\n",
      "[300]\tcv_agg's l2: 0.162592 + 0.0195621\n",
      "[400]\tcv_agg's l2: 0.160419 + 0.018759\n",
      "[500]\tcv_agg's l2: 0.159669 + 0.0182736\n",
      "[600]\tcv_agg's l2: 0.157352 + 0.0181535\n",
      "[700]\tcv_agg's l2: 0.157074 + 0.0188069\n"
     ]
    },
    {
     "name": "stderr",
     "output_type": "stream",
     "text": [
      "regularization_factors, val_score: 0.156212:  75%|###########################7         | 15/20 [00:42<00:14,  2.87s/it][I 2023-10-28 18:28:47,453] Trial 57 finished with value: 0.1568238468514575 and parameters: {'lambda_l1': 7.673687559339506e-08, 'lambda_l2': 0.006069375737070795}. Best is trial 56 with value: 0.15621239418849073.\n",
      "regularization_factors, val_score: 0.156212:  75%|###########################7         | 15/20 [00:42<00:14,  2.87s/it]"
     ]
    },
    {
     "name": "stdout",
     "output_type": "stream",
     "text": [
      "Early stopping, best iteration is:\n",
      "[680]\tcv_agg's l2: 0.156212 + 0.0193264\n",
      "[100]\tcv_agg's l2: 0.17829 + 0.0229029\n",
      "[200]\tcv_agg's l2: 0.167484 + 0.0224436\n",
      "[300]\tcv_agg's l2: 0.162271 + 0.0205765\n",
      "[400]\tcv_agg's l2: 0.159914 + 0.0198866\n",
      "[500]\tcv_agg's l2: 0.158124 + 0.0190161\n",
      "[600]\tcv_agg's l2: 0.157523 + 0.0188213\n",
      "[700]\tcv_agg's l2: 0.156602 + 0.018782\n"
     ]
    },
    {
     "name": "stderr",
     "output_type": "stream",
     "text": [
      "regularization_factors, val_score: 0.156212:  80%|#############################6       | 16/20 [00:44<00:11,  2.84s/it][I 2023-10-28 18:28:50,224] Trial 58 finished with value: 0.15677206048942607 and parameters: {'lambda_l1': 2.422794318376634e-08, 'lambda_l2': 2.316535111592653e-08}. Best is trial 56 with value: 0.15621239418849073.\n",
      "regularization_factors, val_score: 0.156212:  80%|#############################6       | 16/20 [00:44<00:11,  2.84s/it]"
     ]
    },
    {
     "name": "stdout",
     "output_type": "stream",
     "text": [
      "Early stopping, best iteration is:\n",
      "[680]\tcv_agg's l2: 0.156212 + 0.0193264\n",
      "[100]\tcv_agg's l2: 0.178291 + 0.0229035\n",
      "[200]\tcv_agg's l2: 0.167613 + 0.0223532\n",
      "[300]\tcv_agg's l2: 0.162237 + 0.0203475\n",
      "[400]\tcv_agg's l2: 0.159629 + 0.0198556\n",
      "[500]\tcv_agg's l2: 0.158124 + 0.0188643\n",
      "[600]\tcv_agg's l2: 0.157326 + 0.0185461\n",
      "[700]\tcv_agg's l2: 0.15758 + 0.0186005\n"
     ]
    },
    {
     "name": "stderr",
     "output_type": "stream",
     "text": [
      "regularization_factors, val_score: 0.156212:  85%|###############################4     | 17/20 [00:47<00:08,  2.90s/it][I 2023-10-28 18:28:53,273] Trial 59 finished with value: 0.1574198402510138 and parameters: {'lambda_l1': 0.00042206912062180173, 'lambda_l2': 0.00010112493172554809}. Best is trial 56 with value: 0.15621239418849073.\n",
      "regularization_factors, val_score: 0.156212:  85%|###############################4     | 17/20 [00:48<00:08,  2.90s/it]"
     ]
    },
    {
     "name": "stdout",
     "output_type": "stream",
     "text": [
      "Early stopping, best iteration is:\n",
      "[680]\tcv_agg's l2: 0.156212 + 0.0193264\n",
      "[100]\tcv_agg's l2: 0.177784 + 0.0235874\n",
      "[200]\tcv_agg's l2: 0.166736 + 0.023443\n",
      "[300]\tcv_agg's l2: 0.161558 + 0.0215005\n",
      "[400]\tcv_agg's l2: 0.159066 + 0.0209542\n",
      "[500]\tcv_agg's l2: 0.157313 + 0.0199922\n",
      "[600]\tcv_agg's l2: 0.156538 + 0.0201011\n",
      "[700]\tcv_agg's l2: 0.155588 + 0.0201779\n",
      "[800]\tcv_agg's l2: 0.155481 + 0.0207619\n",
      "[900]\tcv_agg's l2: 0.155218 + 0.0205156\n"
     ]
    },
    {
     "name": "stderr",
     "output_type": "stream",
     "text": [
      "regularization_factors, val_score: 0.155094:  90%|#################################3   | 18/20 [00:51<00:06,  3.19s/it][I 2023-10-28 18:28:57,131] Trial 60 finished with value: 0.1550938220046848 and parameters: {'lambda_l1': 1.1201708509512658e-08, 'lambda_l2': 0.0011440778402948563}. Best is trial 60 with value: 0.1550938220046848.\n",
      "regularization_factors, val_score: 0.155094:  90%|#################################3   | 18/20 [00:51<00:06,  3.19s/it]"
     ]
    },
    {
     "name": "stdout",
     "output_type": "stream",
     "text": [
      "[1000]\tcv_agg's l2: 0.155587 + 0.0211352\n",
      "Early stopping, best iteration is:\n",
      "[924]\tcv_agg's l2: 0.155094 + 0.0208569\n",
      "[100]\tcv_agg's l2: 0.177784 + 0.0235874\n",
      "[200]\tcv_agg's l2: 0.166736 + 0.0234429\n",
      "[300]\tcv_agg's l2: 0.161558 + 0.0215005\n",
      "[400]\tcv_agg's l2: 0.159066 + 0.0209542\n",
      "[500]\tcv_agg's l2: 0.157313 + 0.0199922\n",
      "[600]\tcv_agg's l2: 0.156538 + 0.0201011\n",
      "[700]\tcv_agg's l2: 0.155588 + 0.0201779\n",
      "[800]\tcv_agg's l2: 0.155481 + 0.0207618\n",
      "[900]\tcv_agg's l2: 0.155218 + 0.0205156\n"
     ]
    },
    {
     "name": "stderr",
     "output_type": "stream",
     "text": [
      "regularization_factors, val_score: 0.155094:  95%|###################################1 | 19/20 [00:55<00:03,  3.36s/it][I 2023-10-28 18:29:00,875] Trial 61 finished with value: 0.15509380218052313 and parameters: {'lambda_l1': 1.595740182421433e-08, 'lambda_l2': 0.001176658520073412}. Best is trial 61 with value: 0.15509380218052313.\n",
      "regularization_factors, val_score: 0.155094:  95%|###################################1 | 19/20 [00:55<00:03,  3.36s/it]"
     ]
    },
    {
     "name": "stdout",
     "output_type": "stream",
     "text": [
      "[1000]\tcv_agg's l2: 0.155587 + 0.0211352\n",
      "Early stopping, best iteration is:\n",
      "[924]\tcv_agg's l2: 0.155094 + 0.0208569\n",
      "[100]\tcv_agg's l2: 0.177783 + 0.0235865\n",
      "[200]\tcv_agg's l2: 0.167127 + 0.0238986\n",
      "[300]\tcv_agg's l2: 0.16155 + 0.0219005\n",
      "[400]\tcv_agg's l2: 0.159963 + 0.0214572\n",
      "[500]\tcv_agg's l2: 0.15863 + 0.0212529\n",
      "[600]\tcv_agg's l2: 0.157383 + 0.0201034\n",
      "[700]\tcv_agg's l2: 0.157533 + 0.0206899\n",
      "[800]\tcv_agg's l2: 0.157221 + 0.0208376\n",
      "[900]\tcv_agg's l2: 0.15697 + 0.0208883\n"
     ]
    },
    {
     "name": "stderr",
     "output_type": "stream",
     "text": [
      "regularization_factors, val_score: 0.155094: 100%|#####################################| 20/20 [00:59<00:00,  3.45s/it][I 2023-10-28 18:29:04,536] Trial 62 finished with value: 0.15659036172996638 and parameters: {'lambda_l1': 1.2662806181349903e-08, 'lambda_l2': 0.0023020101190005214}. Best is trial 61 with value: 0.15509380218052313.\n",
      "regularization_factors, val_score: 0.155094: 100%|#####################################| 20/20 [00:59<00:00,  2.96s/it]\n"
     ]
    },
    {
     "name": "stdout",
     "output_type": "stream",
     "text": [
      "[1000]\tcv_agg's l2: 0.156887 + 0.0212801\n",
      "Early stopping, best iteration is:\n",
      "[924]\tcv_agg's l2: 0.155094 + 0.0208569\n"
     ]
    },
    {
     "name": "stderr",
     "output_type": "stream",
     "text": [
      "min_data_in_leaf, val_score: 0.155094:   0%|                                                     | 0/5 [00:00<?, ?it/s]"
     ]
    },
    {
     "name": "stdout",
     "output_type": "stream",
     "text": [
      "[100]\tcv_agg's l2: 0.25239 + 0.0434205\n",
      "[200]\tcv_agg's l2: 0.236372 + 0.0471365\n",
      "[300]\tcv_agg's l2: 0.229997 + 0.049752\n",
      "[400]\tcv_agg's l2: 0.22841 + 0.0506863\n",
      "[500]\tcv_agg's l2: 0.228088 + 0.0527591\n",
      "[600]\tcv_agg's l2: 0.226982 + 0.0528108\n",
      "[700]\tcv_agg's l2: 0.227949 + 0.0537954\n",
      "[800]\tcv_agg's l2: 0.226968 + 0.0532523\n",
      "[900]\tcv_agg's l2: 0.227829 + 0.0542152\n"
     ]
    },
    {
     "name": "stderr",
     "output_type": "stream",
     "text": [
      "min_data_in_leaf, val_score: 0.155094:  20%|#########                                    | 1/5 [00:03<00:15,  3.87s/it][I 2023-10-28 18:29:08,410] Trial 63 finished with value: 0.22838670775888467 and parameters: {'min_child_samples': 50}. Best is trial 63 with value: 0.22838670775888467.\n",
      "min_data_in_leaf, val_score: 0.155094:  20%|#########                                    | 1/5 [00:03<00:15,  3.87s/it]"
     ]
    },
    {
     "name": "stdout",
     "output_type": "stream",
     "text": [
      "[1000]\tcv_agg's l2: 0.229006 + 0.0544839\n",
      "Early stopping, best iteration is:\n",
      "[924]\tcv_agg's l2: 0.155094 + 0.0208569\n",
      "[100]\tcv_agg's l2: 0.189713 + 0.0281692\n",
      "[200]\tcv_agg's l2: 0.176709 + 0.025592\n",
      "[300]\tcv_agg's l2: 0.17122 + 0.0236283\n",
      "[400]\tcv_agg's l2: 0.168741 + 0.0225768\n",
      "[500]\tcv_agg's l2: 0.167133 + 0.0224874\n",
      "[600]\tcv_agg's l2: 0.165505 + 0.0222824\n",
      "[700]\tcv_agg's l2: 0.16522 + 0.0220574\n",
      "[800]\tcv_agg's l2: 0.164843 + 0.0222866\n",
      "[900]\tcv_agg's l2: 0.165119 + 0.022293\n"
     ]
    },
    {
     "name": "stderr",
     "output_type": "stream",
     "text": [
      "min_data_in_leaf, val_score: 0.155094:  40%|##################                           | 2/5 [00:07<00:11,  3.77s/it][I 2023-10-28 18:29:12,107] Trial 64 finished with value: 0.16526707167076254 and parameters: {'min_child_samples': 25}. Best is trial 64 with value: 0.16526707167076254.\n",
      "min_data_in_leaf, val_score: 0.155094:  40%|##################                           | 2/5 [00:07<00:11,  3.77s/it]"
     ]
    },
    {
     "name": "stdout",
     "output_type": "stream",
     "text": [
      "[1000]\tcv_agg's l2: 0.164889 + 0.0214957\n",
      "Early stopping, best iteration is:\n",
      "[924]\tcv_agg's l2: 0.155094 + 0.0208569\n",
      "[100]\tcv_agg's l2: 0.78723 + 0.153854\n",
      "[200]\tcv_agg's l2: 0.756912 + 0.151915\n",
      "[300]\tcv_agg's l2: 0.739081 + 0.14809\n",
      "[400]\tcv_agg's l2: 0.727293 + 0.145236\n",
      "[500]\tcv_agg's l2: 0.720918 + 0.14529\n",
      "[600]\tcv_agg's l2: 0.717712 + 0.148394\n",
      "[700]\tcv_agg's l2: 0.715285 + 0.149542\n",
      "[800]\tcv_agg's l2: 0.71235 + 0.151575\n",
      "[900]\tcv_agg's l2: 0.711449 + 0.151394\n"
     ]
    },
    {
     "name": "stderr",
     "output_type": "stream",
     "text": [
      "min_data_in_leaf, val_score: 0.155094:  60%|###########################                  | 3/5 [00:10<00:06,  3.43s/it][I 2023-10-28 18:29:15,140] Trial 65 finished with value: 0.7112739617562739 and parameters: {'min_child_samples': 100}. Best is trial 64 with value: 0.16526707167076254.\n",
      "min_data_in_leaf, val_score: 0.155094:  60%|###########################                  | 3/5 [00:10<00:06,  3.43s/it]"
     ]
    },
    {
     "name": "stdout",
     "output_type": "stream",
     "text": [
      "[1000]\tcv_agg's l2: 0.712418 + 0.156021\n",
      "Early stopping, best iteration is:\n",
      "[924]\tcv_agg's l2: 0.155094 + 0.0208569\n",
      "[100]\tcv_agg's l2: 0.15954 + 0.0209141\n",
      "[200]\tcv_agg's l2: 0.148146 + 0.0188817\n",
      "[300]\tcv_agg's l2: 0.144819 + 0.018666\n",
      "[400]\tcv_agg's l2: 0.142474 + 0.0183471\n",
      "[500]\tcv_agg's l2: 0.141314 + 0.0179601\n",
      "[600]\tcv_agg's l2: 0.139804 + 0.0172161\n"
     ]
    },
    {
     "name": "stderr",
     "output_type": "stream",
     "text": [
      "min_data_in_leaf, val_score: 0.139360:  80%|####################################         | 4/5 [00:13<00:03,  3.10s/it][I 2023-10-28 18:29:17,732] Trial 66 finished with value: 0.13936032064722223 and parameters: {'min_child_samples': 10}. Best is trial 66 with value: 0.13936032064722223.\n",
      "min_data_in_leaf, val_score: 0.139360:  80%|####################################         | 4/5 [00:13<00:03,  3.10s/it]"
     ]
    },
    {
     "name": "stdout",
     "output_type": "stream",
     "text": [
      "[700]\tcv_agg's l2: 0.139578 + 0.0174752\n",
      "Early stopping, best iteration is:\n",
      "[611]\tcv_agg's l2: 0.13936 + 0.0171831\n",
      "[100]\tcv_agg's l2: 0.160526 + 0.0226314\n",
      "[200]\tcv_agg's l2: 0.148873 + 0.0207171\n",
      "[300]\tcv_agg's l2: 0.144423 + 0.0198085\n",
      "[400]\tcv_agg's l2: 0.142002 + 0.0198705\n",
      "[500]\tcv_agg's l2: 0.140544 + 0.0199246\n",
      "[600]\tcv_agg's l2: 0.139251 + 0.0197122\n",
      "[700]\tcv_agg's l2: 0.138804 + 0.0193382\n"
     ]
    },
    {
     "name": "stderr",
     "output_type": "stream",
     "text": [
      "min_data_in_leaf, val_score: 0.138379: 100%|#############################################| 5/5 [00:16<00:00,  3.10s/it][I 2023-10-28 18:29:20,825] Trial 67 finished with value: 0.1383790330807521 and parameters: {'min_child_samples': 5}. Best is trial 67 with value: 0.1383790330807521.\n",
      "min_data_in_leaf, val_score: 0.138379: 100%|#############################################| 5/5 [00:16<00:00,  3.26s/it]"
     ]
    },
    {
     "name": "stdout",
     "output_type": "stream",
     "text": [
      "[800]\tcv_agg's l2: 0.138729 + 0.0192434\n",
      "Early stopping, best iteration is:\n",
      "[743]\tcv_agg's l2: 0.138379 + 0.019215\n"
     ]
    },
    {
     "name": "stderr",
     "output_type": "stream",
     "text": [
      "\n"
     ]
    }
   ],
   "source": [
    "import optuna.integration.lightgbm as lgb\n",
    "from lightgbm import early_stopping, log_evaluation\n",
    "from sklearn.model_selection import KFold\n",
    "from sklearn.model_selection import RepeatedKFold\n",
    "\n",
    "\n",
    "lgb_train = lgb.Dataset(X_train, y_train)\n",
    "\n",
    "params = {\n",
    "    \"boosting_type\": \"gbdt\",\n",
    "    \"objective\": \"regression\",\n",
    "    \"metric\": \"l2\",\n",
    "    \"verbosity\": -1,\n",
    "}\n",
    "\n",
    "tuner = lgb.LightGBMTunerCV(\n",
    "    params,\n",
    "    lgb_train,\n",
    "    folds=KFold(n_splits=5),\n",
    "    num_boost_round=10000,\n",
    "    callbacks=[early_stopping(100), log_evaluation(100)],\n",
    ")\n",
    "\n",
    "tuner.run()"
   ]
  },
  {
   "cell_type": "code",
   "execution_count": 21,
   "id": "8406fc3e",
   "metadata": {},
   "outputs": [
    {
     "name": "stdout",
     "output_type": "stream",
     "text": [
      "Best score: 0.1383790330807521\n",
      "Params: \n",
      "    boosting_type: gbdt\n",
      "    objective: regression\n",
      "    metric: l2\n",
      "    verbosity: -1\n",
      "    feature_pre_filter: False\n",
      "    lambda_l1: 1.595740182421433e-08\n",
      "    lambda_l2: 0.001176658520073412\n",
      "    num_leaves: 7\n",
      "    feature_fraction: 0.484\n",
      "    bagging_fraction: 0.9782955069666581\n",
      "    bagging_freq: 1\n",
      "    min_child_samples: 5\n"
     ]
    }
   ],
   "source": [
    "print(f\"Best score: {tuner.best_score}\")\n",
    "best_params = tuner.best_params\n",
    "print(\"Params: \")\n",
    "for key, value in best_params.items():\n",
    "    print(\"    {}: {}\".format(key, value))"
   ]
  },
  {
   "cell_type": "code",
   "execution_count": 22,
   "id": "880974ce",
   "metadata": {},
   "outputs": [],
   "source": [
    "import lightgbm as lgb\n",
    "\n",
    "lgb_tuned = lgb.train(\n",
    "    best_params,\n",
    "    lgb_train,\n",
    "    num_boost_round=10000,\n",
    ")"
   ]
  },
  {
   "cell_type": "code",
   "execution_count": 23,
   "id": "53d87b2c",
   "metadata": {},
   "outputs": [
    {
     "name": "stdout",
     "output_type": "stream",
     "text": [
      "RMSE train: 0.00\n",
      "RMSE test: 0.46\n",
      "MSE test: 0.21\n",
      "MAE test: 0.33\n",
      "\n"
     ]
    }
   ],
   "source": [
    "rmse, mse, mae = assess_regression_model(lgb_tuned, X_train, X_test, y_train, y_test)"
   ]
  },
  {
   "cell_type": "code",
   "execution_count": 24,
   "id": "843255bc",
   "metadata": {},
   "outputs": [],
   "source": [
    "results.loc[1] = [\n",
    "    \"chronological\",\n",
    "    \"Optuna\",\n",
    "    len(X_test.columns),\n",
    "    mse,\n",
    "    rmse,\n",
    "    mae,\n",
    "]"
   ]
  },
  {
   "cell_type": "code",
   "execution_count": 25,
   "id": "778f84c5",
   "metadata": {},
   "outputs": [
    {
     "name": "stdout",
     "output_type": "stream",
     "text": [
      "Normal:\n",
      "MSE: 0.21\n",
      "RMSE: 0.46\n",
      "\n",
      "Round type: round\n",
      "MSE: 0.26\n",
      "RMSE: 0.51\n",
      "\n",
      "Round type: 0.33\n",
      "MSE: 0.26\n",
      "RMSE: 0.51\n",
      "\n",
      "Round type: 0.45\n",
      "MSE: 0.24\n",
      "RMSE: 0.49\n",
      "\n"
     ]
    }
   ],
   "source": [
    "predict = lgb_tuned.predict(X_test)\n",
    "check_round_predictions([\"round\", 0.33, 0.45], y_test, predict)"
   ]
  },
  {
   "cell_type": "code",
   "execution_count": 26,
   "id": "7823441a",
   "metadata": {},
   "outputs": [
    {
     "data": {
      "image/png": "[encoded data removed]",
      "text/plain": [
       "<Figure size 432x288 with 2 Axes>"
      ]
     },
     "metadata": {
      "needs_background": "light"
     },
     "output_type": "display_data"
    }
   ],
   "source": [
    "plot_confusion_matrix(\"round\", predict, y_test)"
   ]
  },
  {
   "cell_type": "markdown",
   "id": "35088cc9",
   "metadata": {},
   "source": [
    "## Random split"
   ]
  },
  {
   "cell_type": "code",
   "execution_count": 27,
   "id": "692c4056",
   "metadata": {},
   "outputs": [
    {
     "name": "stdout",
     "output_type": "stream",
     "text": [
      "[LightGBM] [Warning] Auto-choosing col-wise multi-threading, the overhead of testing was 0.000827 seconds.\n",
      "You can set `force_col_wise=true` to remove the overhead.\n",
      "[LightGBM] [Info] Total Bins 392\n",
      "[LightGBM] [Info] Number of data points in the train set: 904, number of used features: 13\n",
      "[LightGBM] [Info] Start training from score 7.162611\n",
      "Training until validation scores don't improve for 5 rounds\n",
      "Early stopping, best iteration is:\n",
      "[88]\tvalid_0's l2: 0.148111\tvalid_0's l1: 0.267273\n"
     ]
    }
   ],
   "source": [
    "import lightgbm as lgb\n",
    "from sklearn.metrics import mean_squared_error\n",
    "\n",
    "lgb_train = lgb.Dataset(X_train_random_split, y_train_random_split)\n",
    "lgb_eval = lgb.Dataset(X_test_random_split, y_test_random_split, reference=lgb_train)\n",
    "\n",
    "params = {\n",
    "    \"boosting_type\": \"gbdt\",\n",
    "    \"objective\": \"regression\",\n",
    "    \"metric\": {\"l2\", \"l1\"},\n",
    "}\n",
    "\n",
    "gbm = lgb.train(\n",
    "    params,\n",
    "    lgb_train,\n",
    "    num_boost_round=100,\n",
    "    valid_sets=lgb_eval,\n",
    "    callbacks=[lgb.early_stopping(stopping_rounds=5)],\n",
    ")"
   ]
  },
  {
   "cell_type": "code",
   "execution_count": 28,
   "id": "24879a40",
   "metadata": {},
   "outputs": [],
   "source": [
    "y_pred_train = gbm.predict(X_train_random_split, num_iteration=gbm.best_iteration)\n",
    "y_pred_test = gbm.predict(X_test_random_split, num_iteration=gbm.best_iteration)"
   ]
  },
  {
   "cell_type": "code",
   "execution_count": 29,
   "id": "b5a760c1",
   "metadata": {},
   "outputs": [
    {
     "name": "stdout",
     "output_type": "stream",
     "text": [
      "MSE: 0.15\n",
      "RMSE: 0.38\n",
      "MAE: 0.16\n"
     ]
    }
   ],
   "source": [
    "from sklearn.metrics import mean_squared_error, median_absolute_error\n",
    "\n",
    "\n",
    "mse = mean_squared_error(y_test_random_split, y_pred_test)\n",
    "rmse = mean_squared_error(y_test_random_split, y_pred_test, squared=False)\n",
    "mae = median_absolute_error(y_test_random_split, y_pred_test)\n",
    "\n",
    "print(f\"MSE: {mse:.2f}\")\n",
    "print(f\"RMSE: {rmse:.2f}\")\n",
    "print(f\"MAE: {mae:.2f}\")"
   ]
  },
  {
   "cell_type": "code",
   "execution_count": 30,
   "id": "a52e182e",
   "metadata": {},
   "outputs": [],
   "source": [
    "results.loc[3] = [\"random\", \"normal\", len(X_test.columns), mse, rmse, mae]"
   ]
  },
  {
   "cell_type": "code",
   "execution_count": 31,
   "id": "b42be07c",
   "metadata": {},
   "outputs": [
    {
     "name": "stdout",
     "output_type": "stream",
     "text": [
      "Normal:\n",
      "MSE: 0.15\n",
      "RMSE: 0.38\n",
      "\n",
      "Round type: round\n",
      "MSE: 0.15\n",
      "RMSE: 0.39\n",
      "\n",
      "Round type: 0.33\n",
      "MSE: 0.21\n",
      "RMSE: 0.45\n",
      "\n",
      "Round type: 0.45\n",
      "MSE: 0.17\n",
      "RMSE: 0.41\n",
      "\n"
     ]
    }
   ],
   "source": [
    "check_round_predictions([\"round\", 0.33, 0.45], y_test_random_split, y_pred_test)"
   ]
  },
  {
   "cell_type": "code",
   "execution_count": 32,
   "id": "79174d21",
   "metadata": {},
   "outputs": [
    {
     "data": {
      "image/png": "[encoded data removed]",
      "text/plain": [
       "<Figure size 432x288 with 2 Axes>"
      ]
     },
     "metadata": {
      "needs_background": "light"
     },
     "output_type": "display_data"
    }
   ],
   "source": [
    "plot_confusion_matrix(\"round\", y_pred_test, y_test_random_split)"
   ]
  },
  {
   "cell_type": "markdown",
   "id": "79bbd5ec",
   "metadata": {},
   "source": [
    "### Tuning"
   ]
  },
  {
   "cell_type": "code",
   "execution_count": 33,
   "id": "62270e6b",
   "metadata": {
    "scrolled": true
   },
   "outputs": [
    {
     "name": "stderr",
     "output_type": "stream",
     "text": [
      "[I 2023-10-28 18:29:34,693] A new study created in memory with name: no-name-9d9ec0da-bff5-40f5-b4e3-c45a29a21cdc\n",
      "feature_fraction, val_score: inf:   0%|                                                          | 0/7 [00:00<?, ?it/s]"
     ]
    },
    {
     "name": "stdout",
     "output_type": "stream",
     "text": [
      "Training until validation scores don't improve for 100 rounds\n",
      "[100]\tcv_agg's l2: 0.19116 + 0.0445526\n",
      "[200]\tcv_agg's l2: 0.190441 + 0.0434714\n"
     ]
    },
    {
     "name": "stderr",
     "output_type": "stream",
     "text": [
      "feature_fraction, val_score: 0.189858:  14%|######4                                      | 1/7 [00:02<00:16,  2.70s/it][I 2023-10-28 18:29:37,404] Trial 0 finished with value: 0.18985817776394173 and parameters: {'feature_fraction': 0.8999999999999999}. Best is trial 0 with value: 0.18985817776394173.\n",
      "feature_fraction, val_score: 0.189858:  14%|######4                                      | 1/7 [00:02<00:16,  2.70s/it]"
     ]
    },
    {
     "name": "stdout",
     "output_type": "stream",
     "text": [
      "Early stopping, best iteration is:\n",
      "[172]\tcv_agg's l2: 0.189858 + 0.0438854\n",
      "[100]\tcv_agg's l2: 0.160384 + 0.0341364\n",
      "[200]\tcv_agg's l2: 0.160474 + 0.0326698\n"
     ]
    },
    {
     "name": "stderr",
     "output_type": "stream",
     "text": [
      "feature_fraction, val_score: 0.159662:  29%|############8                                | 2/7 [00:04<00:12,  2.44s/it][I 2023-10-28 18:29:39,663] Trial 1 finished with value: 0.15966227377918035 and parameters: {'feature_fraction': 0.4}. Best is trial 1 with value: 0.15966227377918035.\n",
      "feature_fraction, val_score: 0.159662:  29%|############8                                | 2/7 [00:04<00:12,  2.44s/it]"
     ]
    },
    {
     "name": "stdout",
     "output_type": "stream",
     "text": [
      "Early stopping, best iteration is:\n",
      "[142]\tcv_agg's l2: 0.159662 + 0.0328686\n",
      "[100]\tcv_agg's l2: 0.182753 + 0.0525577\n",
      "[200]\tcv_agg's l2: 0.181365 + 0.0490198\n"
     ]
    },
    {
     "name": "stderr",
     "output_type": "stream",
     "text": [
      "feature_fraction, val_score: 0.159662:  43%|###################2                         | 3/7 [00:07<00:09,  2.41s/it][I 2023-10-28 18:29:42,031] Trial 2 finished with value: 0.18171990578993275 and parameters: {'feature_fraction': 0.7}. Best is trial 1 with value: 0.15966227377918035.\n",
      "feature_fraction, val_score: 0.159662:  43%|###################2                         | 3/7 [00:07<00:09,  2.41s/it]"
     ]
    },
    {
     "name": "stdout",
     "output_type": "stream",
     "text": [
      "Early stopping, best iteration is:\n",
      "[142]\tcv_agg's l2: 0.159662 + 0.0328686\n",
      "[100]\tcv_agg's l2: 0.175194 + 0.0453135\n",
      "[200]\tcv_agg's l2: 0.174451 + 0.0431343\n"
     ]
    },
    {
     "name": "stderr",
     "output_type": "stream",
     "text": [
      "feature_fraction, val_score: 0.159662:  57%|#########################7                   | 4/7 [00:09<00:07,  2.41s/it][I 2023-10-28 18:29:44,437] Trial 3 finished with value: 0.17471689435400037 and parameters: {'feature_fraction': 0.6}. Best is trial 1 with value: 0.15966227377918035.\n",
      "feature_fraction, val_score: 0.159662:  57%|#########################7                   | 4/7 [00:09<00:07,  2.41s/it]"
     ]
    },
    {
     "name": "stdout",
     "output_type": "stream",
     "text": [
      "Early stopping, best iteration is:\n",
      "[142]\tcv_agg's l2: 0.159662 + 0.0328686\n",
      "[100]\tcv_agg's l2: 0.175186 + 0.0452341\n",
      "[200]\tcv_agg's l2: 0.173088 + 0.042025\n"
     ]
    },
    {
     "name": "stderr",
     "output_type": "stream",
     "text": [
      "feature_fraction, val_score: 0.159662:  71%|################################1            | 5/7 [00:12<00:04,  2.43s/it][I 2023-10-28 18:29:46,901] Trial 4 finished with value: 0.17357585170920242 and parameters: {'feature_fraction': 0.5}. Best is trial 1 with value: 0.15966227377918035.\n",
      "feature_fraction, val_score: 0.159662:  71%|################################1            | 5/7 [00:12<00:04,  2.43s/it]"
     ]
    },
    {
     "name": "stdout",
     "output_type": "stream",
     "text": [
      "Early stopping, best iteration is:\n",
      "[142]\tcv_agg's l2: 0.159662 + 0.0328686\n",
      "[100]\tcv_agg's l2: 0.18602 + 0.0516673\n",
      "[200]\tcv_agg's l2: 0.185205 + 0.0479119\n"
     ]
    },
    {
     "name": "stderr",
     "output_type": "stream",
     "text": [
      "feature_fraction, val_score: 0.159662:  86%|######################################5      | 6/7 [00:14<00:02,  2.41s/it][I 2023-10-28 18:29:49,290] Trial 5 finished with value: 0.18566076077602858 and parameters: {'feature_fraction': 0.8}. Best is trial 1 with value: 0.15966227377918035.\n",
      "feature_fraction, val_score: 0.159662:  86%|######################################5      | 6/7 [00:14<00:02,  2.41s/it]"
     ]
    },
    {
     "name": "stdout",
     "output_type": "stream",
     "text": [
      "Early stopping, best iteration is:\n",
      "[142]\tcv_agg's l2: 0.159662 + 0.0328686\n",
      "[100]\tcv_agg's l2: 0.194224 + 0.0441197\n",
      "[200]\tcv_agg's l2: 0.190781 + 0.0408776\n"
     ]
    },
    {
     "name": "stderr",
     "output_type": "stream",
     "text": [
      "feature_fraction, val_score: 0.159662: 100%|#############################################| 7/7 [00:17<00:00,  2.43s/it][I 2023-10-28 18:29:51,746] Trial 6 finished with value: 0.19142679018416045 and parameters: {'feature_fraction': 1.0}. Best is trial 1 with value: 0.15966227377918035.\n",
      "feature_fraction, val_score: 0.159662: 100%|#############################################| 7/7 [00:17<00:00,  2.44s/it]\n"
     ]
    },
    {
     "name": "stdout",
     "output_type": "stream",
     "text": [
      "Early stopping, best iteration is:\n",
      "[142]\tcv_agg's l2: 0.159662 + 0.0328686\n"
     ]
    },
    {
     "name": "stderr",
     "output_type": "stream",
     "text": [
      "num_leaves, val_score: 0.159662:   0%|                                                          | 0/20 [00:00<?, ?it/s]"
     ]
    },
    {
     "name": "stdout",
     "output_type": "stream",
     "text": [
      "[100]\tcv_agg's l2: 0.160384 + 0.0341364\n",
      "[200]\tcv_agg's l2: 0.160474 + 0.0326698\n"
     ]
    },
    {
     "name": "stderr",
     "output_type": "stream",
     "text": [
      "num_leaves, val_score: 0.159662:   5%|##5                                               | 1/20 [00:02<00:43,  2.28s/it][I 2023-10-28 18:29:54,031] Trial 7 finished with value: 0.15966227377918035 and parameters: {'num_leaves': 40}. Best is trial 7 with value: 0.15966227377918035.\n",
      "num_leaves, val_score: 0.159662:   5%|##5                                               | 1/20 [00:02<00:43,  2.28s/it]"
     ]
    },
    {
     "name": "stdout",
     "output_type": "stream",
     "text": [
      "Early stopping, best iteration is:\n",
      "[142]\tcv_agg's l2: 0.159662 + 0.0328686\n",
      "[100]\tcv_agg's l2: 0.160384 + 0.0341364\n",
      "[200]\tcv_agg's l2: 0.160474 + 0.0326698\n"
     ]
    },
    {
     "name": "stderr",
     "output_type": "stream",
     "text": [
      "num_leaves, val_score: 0.159662:  10%|#####                                             | 2/20 [00:04<00:41,  2.28s/it][I 2023-10-28 18:29:56,311] Trial 8 finished with value: 0.15966227377918035 and parameters: {'num_leaves': 38}. Best is trial 7 with value: 0.15966227377918035.\n",
      "num_leaves, val_score: 0.159662:  10%|#####                                             | 2/20 [00:04<00:41,  2.28s/it]"
     ]
    },
    {
     "name": "stdout",
     "output_type": "stream",
     "text": [
      "Early stopping, best iteration is:\n",
      "[142]\tcv_agg's l2: 0.159662 + 0.0328686\n",
      "[100]\tcv_agg's l2: 0.160384 + 0.0341364\n",
      "[200]\tcv_agg's l2: 0.160474 + 0.0326698\n"
     ]
    },
    {
     "name": "stderr",
     "output_type": "stream",
     "text": [
      "num_leaves, val_score: 0.159662:  15%|#######5                                          | 3/20 [00:06<00:38,  2.29s/it][I 2023-10-28 18:29:58,619] Trial 9 finished with value: 0.15966227377918035 and parameters: {'num_leaves': 173}. Best is trial 7 with value: 0.15966227377918035.\n",
      "num_leaves, val_score: 0.159662:  15%|#######5                                          | 3/20 [00:06<00:38,  2.29s/it]"
     ]
    },
    {
     "name": "stdout",
     "output_type": "stream",
     "text": [
      "Early stopping, best iteration is:\n",
      "[142]\tcv_agg's l2: 0.159662 + 0.0328686\n",
      "[100]\tcv_agg's l2: 0.160384 + 0.0341364\n",
      "[200]\tcv_agg's l2: 0.160474 + 0.0326698\n"
     ]
    },
    {
     "name": "stderr",
     "output_type": "stream",
     "text": [
      "num_leaves, val_score: 0.159662:  20%|##########                                        | 4/20 [00:09<00:38,  2.39s/it][I 2023-10-28 18:30:01,148] Trial 10 finished with value: 0.15966227377918035 and parameters: {'num_leaves': 243}. Best is trial 7 with value: 0.15966227377918035.\n",
      "num_leaves, val_score: 0.159662:  20%|##########                                        | 4/20 [00:09<00:38,  2.39s/it]"
     ]
    },
    {
     "name": "stdout",
     "output_type": "stream",
     "text": [
      "Early stopping, best iteration is:\n",
      "[142]\tcv_agg's l2: 0.159662 + 0.0328686\n",
      "[100]\tcv_agg's l2: 0.169927 + 0.0353466\n"
     ]
    },
    {
     "name": "stderr",
     "output_type": "stream",
     "text": [
      "num_leaves, val_score: 0.159662:  25%|############5                                     | 5/20 [00:10<00:28,  1.90s/it][I 2023-10-28 18:30:02,178] Trial 11 finished with value: 0.16557504731215092 and parameters: {'num_leaves': 9}. Best is trial 7 with value: 0.15966227377918035.\n",
      "num_leaves, val_score: 0.159662:  25%|############5                                     | 5/20 [00:10<00:28,  1.90s/it]"
     ]
    },
    {
     "name": "stdout",
     "output_type": "stream",
     "text": [
      "[200]\tcv_agg's l2: 0.163106 + 0.0311497\n",
      "Early stopping, best iteration is:\n",
      "[142]\tcv_agg's l2: 0.159662 + 0.0328686\n",
      "[100]\tcv_agg's l2: 0.160384 + 0.0341364\n",
      "[200]\tcv_agg's l2: 0.160474 + 0.0326698\n"
     ]
    },
    {
     "name": "stderr",
     "output_type": "stream",
     "text": [
      "num_leaves, val_score: 0.159662:  30%|###############                                   | 6/20 [00:12<00:28,  2.04s/it][I 2023-10-28 18:30:04,505] Trial 12 finished with value: 0.15966227377918035 and parameters: {'num_leaves': 96}. Best is trial 7 with value: 0.15966227377918035.\n",
      "num_leaves, val_score: 0.159662:  30%|###############                                   | 6/20 [00:12<00:28,  2.04s/it]"
     ]
    },
    {
     "name": "stdout",
     "output_type": "stream",
     "text": [
      "Early stopping, best iteration is:\n",
      "[142]\tcv_agg's l2: 0.159662 + 0.0328686\n",
      "[100]\tcv_agg's l2: 0.160384 + 0.0341364\n",
      "[200]\tcv_agg's l2: 0.160474 + 0.0326698\n"
     ]
    },
    {
     "name": "stderr",
     "output_type": "stream",
     "text": [
      "num_leaves, val_score: 0.159662:  35%|#################5                                | 7/20 [00:15<00:27,  2.14s/it][I 2023-10-28 18:30:06,829] Trial 13 finished with value: 0.15966227377918035 and parameters: {'num_leaves': 80}. Best is trial 7 with value: 0.15966227377918035.\n",
      "num_leaves, val_score: 0.159662:  35%|#################5                                | 7/20 [00:15<00:27,  2.14s/it]"
     ]
    },
    {
     "name": "stdout",
     "output_type": "stream",
     "text": [
      "Early stopping, best iteration is:\n",
      "[142]\tcv_agg's l2: 0.159662 + 0.0328686\n",
      "[100]\tcv_agg's l2: 0.160384 + 0.0341364\n",
      "[200]\tcv_agg's l2: 0.160474 + 0.0326698\n"
     ]
    },
    {
     "name": "stderr",
     "output_type": "stream",
     "text": [
      "num_leaves, val_score: 0.159662:  40%|####################                              | 8/20 [00:17<00:26,  2.20s/it][I 2023-10-28 18:30:09,160] Trial 14 finished with value: 0.15966227377918035 and parameters: {'num_leaves': 143}. Best is trial 7 with value: 0.15966227377918035.\n",
      "num_leaves, val_score: 0.159662:  40%|####################                              | 8/20 [00:17<00:26,  2.20s/it]"
     ]
    },
    {
     "name": "stdout",
     "output_type": "stream",
     "text": [
      "Early stopping, best iteration is:\n",
      "[142]\tcv_agg's l2: 0.159662 + 0.0328686\n",
      "[100]\tcv_agg's l2: 0.160384 + 0.0341364\n",
      "[200]\tcv_agg's l2: 0.160474 + 0.0326698\n"
     ]
    },
    {
     "name": "stderr",
     "output_type": "stream",
     "text": [
      "num_leaves, val_score: 0.159662:  45%|######################5                           | 9/20 [00:19<00:24,  2.21s/it][I 2023-10-28 18:30:11,383] Trial 15 finished with value: 0.15966227377918035 and parameters: {'num_leaves': 51}. Best is trial 7 with value: 0.15966227377918035.\n",
      "num_leaves, val_score: 0.159662:  45%|######################5                           | 9/20 [00:19<00:24,  2.21s/it]"
     ]
    },
    {
     "name": "stdout",
     "output_type": "stream",
     "text": [
      "Early stopping, best iteration is:\n",
      "[142]\tcv_agg's l2: 0.159662 + 0.0328686\n",
      "[100]\tcv_agg's l2: 0.356459 + 0.0992065\n"
     ]
    },
    {
     "name": "stderr",
     "output_type": "stream",
     "text": [
      "num_leaves, val_score: 0.159662:  50%|########################5                        | 10/20 [00:20<00:16,  1.65s/it][I 2023-10-28 18:30:11,785] Trial 16 finished with value: 0.326672945967298 and parameters: {'num_leaves': 2}. Best is trial 7 with value: 0.15966227377918035.\n",
      "num_leaves, val_score: 0.159662:  50%|########################5                        | 10/20 [00:20<00:16,  1.65s/it]"
     ]
    },
    {
     "name": "stdout",
     "output_type": "stream",
     "text": [
      "[200]\tcv_agg's l2: 0.310873 + 0.0864138\n",
      "Early stopping, best iteration is:\n",
      "[142]\tcv_agg's l2: 0.159662 + 0.0328686\n",
      "[100]\tcv_agg's l2: 0.160384 + 0.0341364\n",
      "[200]\tcv_agg's l2: 0.160474 + 0.0326698\n"
     ]
    },
    {
     "name": "stderr",
     "output_type": "stream",
     "text": [
      "num_leaves, val_score: 0.159662:  55%|##########################9                      | 11/20 [00:22<00:16,  1.85s/it][I 2023-10-28 18:30:14,077] Trial 17 finished with value: 0.15966227377918035 and parameters: {'num_leaves': 201}. Best is trial 7 with value: 0.15966227377918035.\n",
      "num_leaves, val_score: 0.159662:  55%|##########################9                      | 11/20 [00:22<00:16,  1.85s/it]"
     ]
    },
    {
     "name": "stdout",
     "output_type": "stream",
     "text": [
      "Early stopping, best iteration is:\n",
      "[142]\tcv_agg's l2: 0.159662 + 0.0328686\n",
      "[100]\tcv_agg's l2: 0.160384 + 0.0341364\n",
      "[200]\tcv_agg's l2: 0.160474 + 0.0326698\n"
     ]
    },
    {
     "name": "stderr",
     "output_type": "stream",
     "text": [
      "num_leaves, val_score: 0.159662:  60%|#############################4                   | 12/20 [00:24<00:15,  1.94s/it][I 2023-10-28 18:30:16,240] Trial 18 finished with value: 0.15966227377918035 and parameters: {'num_leaves': 116}. Best is trial 7 with value: 0.15966227377918035.\n",
      "num_leaves, val_score: 0.159662:  60%|#############################4                   | 12/20 [00:24<00:15,  1.94s/it]"
     ]
    },
    {
     "name": "stdout",
     "output_type": "stream",
     "text": [
      "Early stopping, best iteration is:\n",
      "[142]\tcv_agg's l2: 0.159662 + 0.0328686\n",
      "[100]\tcv_agg's l2: 0.160384 + 0.0341364\n",
      "[200]\tcv_agg's l2: 0.160474 + 0.0326698\n"
     ]
    },
    {
     "name": "stderr",
     "output_type": "stream",
     "text": [
      "num_leaves, val_score: 0.159662:  65%|###############################8                 | 13/20 [00:26<00:13,  1.99s/it][I 2023-10-28 18:30:18,344] Trial 19 finished with value: 0.15966227377918035 and parameters: {'num_leaves': 60}. Best is trial 7 with value: 0.15966227377918035.\n",
      "num_leaves, val_score: 0.159662:  65%|###############################8                 | 13/20 [00:26<00:13,  1.99s/it]"
     ]
    },
    {
     "name": "stdout",
     "output_type": "stream",
     "text": [
      "Early stopping, best iteration is:\n",
      "[142]\tcv_agg's l2: 0.159662 + 0.0328686\n",
      "[100]\tcv_agg's l2: 0.160384 + 0.0341364\n",
      "[200]\tcv_agg's l2: 0.160474 + 0.0326698\n"
     ]
    },
    {
     "name": "stderr",
     "output_type": "stream",
     "text": [
      "num_leaves, val_score: 0.159662:  70%|##################################3              | 14/20 [00:29<00:13,  2.18s/it][I 2023-10-28 18:30:20,966] Trial 20 finished with value: 0.15966227377918035 and parameters: {'num_leaves': 144}. Best is trial 7 with value: 0.15966227377918035.\n",
      "num_leaves, val_score: 0.159662:  70%|##################################3              | 14/20 [00:29<00:13,  2.18s/it]"
     ]
    },
    {
     "name": "stdout",
     "output_type": "stream",
     "text": [
      "Early stopping, best iteration is:\n",
      "[142]\tcv_agg's l2: 0.159662 + 0.0328686\n",
      "[100]\tcv_agg's l2: 0.160384 + 0.0341364\n",
      "[200]\tcv_agg's l2: 0.160474 + 0.0326698\n"
     ]
    },
    {
     "name": "stderr",
     "output_type": "stream",
     "text": [
      "num_leaves, val_score: 0.159662:  75%|####################################7            | 15/20 [00:32<00:12,  2.45s/it][I 2023-10-28 18:30:24,031] Trial 21 finished with value: 0.15966227377918035 and parameters: {'num_leaves': 39}. Best is trial 7 with value: 0.15966227377918035.\n",
      "num_leaves, val_score: 0.159662:  75%|####################################7            | 15/20 [00:32<00:12,  2.45s/it]"
     ]
    },
    {
     "name": "stdout",
     "output_type": "stream",
     "text": [
      "Early stopping, best iteration is:\n",
      "[142]\tcv_agg's l2: 0.159662 + 0.0328686\n",
      "[100]\tcv_agg's l2: 0.160384 + 0.0341364\n",
      "[200]\tcv_agg's l2: 0.160474 + 0.0326698\n",
      "Early stopping, best iteration is:\n",
      "[142]\tcv_agg's l2: 0.159662 + 0.0328686\n"
     ]
    },
    {
     "name": "stderr",
     "output_type": "stream",
     "text": [
      "num_leaves, val_score: 0.159662:  80%|#######################################2         | 16/20 [00:33<00:08,  2.16s/it][I 2023-10-28 18:30:25,534] Trial 22 finished with value: 0.15966227377918035 and parameters: {'num_leaves': 39}. Best is trial 7 with value: 0.15966227377918035.\n",
      "num_leaves, val_score: 0.159662:  80%|#######################################2         | 16/20 [00:33<00:08,  2.16s/it]"
     ]
    },
    {
     "name": "stdout",
     "output_type": "stream",
     "text": [
      "[100]\tcv_agg's l2: 0.160384 + 0.0341364\n",
      "[200]\tcv_agg's l2: 0.160474 + 0.0326698\n"
     ]
    },
    {
     "name": "stderr",
     "output_type": "stream",
     "text": [
      "num_leaves, val_score: 0.159662:  85%|#########################################6       | 17/20 [00:35<00:05,  1.90s/it][I 2023-10-28 18:30:26,814] Trial 23 finished with value: 0.15966227377918035 and parameters: {'num_leaves': 84}. Best is trial 7 with value: 0.15966227377918035.\n",
      "num_leaves, val_score: 0.159662:  85%|#########################################6       | 17/20 [00:35<00:05,  1.90s/it]"
     ]
    },
    {
     "name": "stdout",
     "output_type": "stream",
     "text": [
      "Early stopping, best iteration is:\n",
      "[142]\tcv_agg's l2: 0.159662 + 0.0328686\n",
      "[100]\tcv_agg's l2: 0.163179 + 0.0328794\n"
     ]
    },
    {
     "name": "stderr",
     "output_type": "stream",
     "text": [
      "\r",
      "num_leaves, val_score: 0.159662:  85%|#########################################6       | 17/20 [00:36<00:05,  1.90s/it]"
     ]
    },
    {
     "name": "stdout",
     "output_type": "stream",
     "text": [
      "[200]\tcv_agg's l2: 0.163008 + 0.0319208\n",
      "Early stopping, best iteration is:\n",
      "[142]\tcv_agg's l2: 0.159662 + 0.0328686\n"
     ]
    },
    {
     "name": "stderr",
     "output_type": "stream",
     "text": [
      "num_leaves, val_score: 0.159662:  90%|############################################1    | 18/20 [00:36<00:03,  1.63s/it][I 2023-10-28 18:30:27,817] Trial 24 finished with value: 0.16304649084483375 and parameters: {'num_leaves': 18}. Best is trial 7 with value: 0.15966227377918035.\n",
      "num_leaves, val_score: 0.159662:  90%|############################################1    | 18/20 [00:36<00:03,  1.63s/it]"
     ]
    },
    {
     "name": "stdout",
     "output_type": "stream",
     "text": [
      "[100]\tcv_agg's l2: 0.160384 + 0.0341364\n"
     ]
    },
    {
     "name": "stderr",
     "output_type": "stream",
     "text": [
      "\r",
      "num_leaves, val_score: 0.159662:  90%|############################################1    | 18/20 [00:37<00:03,  1.63s/it]"
     ]
    },
    {
     "name": "stdout",
     "output_type": "stream",
     "text": [
      "[200]\tcv_agg's l2: 0.160474 + 0.0326698\n",
      "Early stopping, best iteration is:\n",
      "[142]\tcv_agg's l2: 0.159662 + 0.0328686\n"
     ]
    },
    {
     "name": "stderr",
     "output_type": "stream",
     "text": [
      "num_leaves, val_score: 0.159662:  95%|##############################################5  | 19/20 [00:37<00:01,  1.54s/it][I 2023-10-28 18:30:29,148] Trial 25 finished with value: 0.15966227377918035 and parameters: {'num_leaves': 115}. Best is trial 7 with value: 0.15966227377918035.\n",
      "num_leaves, val_score: 0.159662:  95%|##############################################5  | 19/20 [00:37<00:01,  1.54s/it]"
     ]
    },
    {
     "name": "stdout",
     "output_type": "stream",
     "text": [
      "[100]\tcv_agg's l2: 0.160384 + 0.0341364\n"
     ]
    },
    {
     "name": "stderr",
     "output_type": "stream",
     "text": [
      "num_leaves, val_score: 0.159662: 100%|#################################################| 20/20 [00:38<00:00,  1.39s/it]"
     ]
    },
    {
     "name": "stdout",
     "output_type": "stream",
     "text": [
      "[200]\tcv_agg's l2: 0.160474 + 0.0326698\n",
      "Early stopping, best iteration is:\n",
      "[142]\tcv_agg's l2: 0.159662 + 0.0328686\n"
     ]
    },
    {
     "name": "stderr",
     "output_type": "stream",
     "text": [
      "[I 2023-10-28 18:30:30,203] Trial 26 finished with value: 0.15966227377918035 and parameters: {'num_leaves': 66}. Best is trial 7 with value: 0.15966227377918035.\n",
      "num_leaves, val_score: 0.159662: 100%|#################################################| 20/20 [00:38<00:00,  1.92s/it]\n",
      "bagging, val_score: 0.159662:   0%|                                                             | 0/10 [00:00<?, ?it/s]"
     ]
    },
    {
     "name": "stdout",
     "output_type": "stream",
     "text": [
      "[100]\tcv_agg's l2: 0.174616 + 0.0391372\n"
     ]
    },
    {
     "name": "stderr",
     "output_type": "stream",
     "text": [
      "bagging, val_score: 0.159662:  10%|#####3                                               | 1/10 [00:00<00:08,  1.07it/s][I 2023-10-28 18:30:31,151] Trial 27 finished with value: 0.17195551816542917 and parameters: {'bagging_fraction': 0.7228580091889473, 'bagging_freq': 3}. Best is trial 27 with value: 0.17195551816542917.\n",
      "bagging, val_score: 0.159662:  10%|#####3                                               | 1/10 [00:00<00:08,  1.07it/s]"
     ]
    },
    {
     "name": "stdout",
     "output_type": "stream",
     "text": [
      "[200]\tcv_agg's l2: 0.172279 + 0.0326971\n",
      "Early stopping, best iteration is:\n",
      "[142]\tcv_agg's l2: 0.159662 + 0.0328686\n",
      "[100]\tcv_agg's l2: 0.223883 + 0.0341429\n"
     ]
    },
    {
     "name": "stderr",
     "output_type": "stream",
     "text": [
      "bagging, val_score: 0.159662:  20%|##########6                                          | 2/10 [00:01<00:06,  1.19it/s][I 2023-10-28 18:30:31,920] Trial 28 finished with value: 0.21823155994545823 and parameters: {'bagging_fraction': 0.40885842143449896, 'bagging_freq': 7}. Best is trial 27 with value: 0.17195551816542917.\n",
      "bagging, val_score: 0.159662:  20%|##########6                                          | 2/10 [00:01<00:06,  1.19it/s]"
     ]
    },
    {
     "name": "stdout",
     "output_type": "stream",
     "text": [
      "[200]\tcv_agg's l2: 0.210477 + 0.0258981\n",
      "Early stopping, best iteration is:\n",
      "[142]\tcv_agg's l2: 0.159662 + 0.0328686\n",
      "[100]\tcv_agg's l2: 0.159831 + 0.0319711\n"
     ]
    },
    {
     "name": "stderr",
     "output_type": "stream",
     "text": [
      "bagging, val_score: 0.158520:  30%|###############9                                     | 3/10 [00:02<00:06,  1.07it/s][I 2023-10-28 18:30:32,966] Trial 29 finished with value: 0.15852035264455194 and parameters: {'bagging_fraction': 0.9752395242028492, 'bagging_freq': 1}. Best is trial 29 with value: 0.15852035264455194.\n",
      "bagging, val_score: 0.158520:  30%|###############9                                     | 3/10 [00:02<00:06,  1.07it/s]"
     ]
    },
    {
     "name": "stdout",
     "output_type": "stream",
     "text": [
      "[200]\tcv_agg's l2: 0.15932 + 0.0314749\n",
      "Early stopping, best iteration is:\n",
      "[123]\tcv_agg's l2: 0.15852 + 0.0319795\n",
      "[100]\tcv_agg's l2: 0.160303 + 0.0320984\n"
     ]
    },
    {
     "name": "stderr",
     "output_type": "stream",
     "text": [
      "bagging, val_score: 0.158520:  40%|#####################2                               | 4/10 [00:03<00:05,  1.06it/s][I 2023-10-28 18:30:33,932] Trial 30 finished with value: 0.15999316332731417 and parameters: {'bagging_fraction': 0.9734524857454112, 'bagging_freq': 1}. Best is trial 29 with value: 0.15852035264455194.\n",
      "bagging, val_score: 0.158520:  40%|#####################2                               | 4/10 [00:03<00:05,  1.06it/s]"
     ]
    },
    {
     "name": "stdout",
     "output_type": "stream",
     "text": [
      "[200]\tcv_agg's l2: 0.160276 + 0.0315262\n",
      "Early stopping, best iteration is:\n",
      "[123]\tcv_agg's l2: 0.15852 + 0.0319795\n",
      "[100]\tcv_agg's l2: 0.161472 + 0.0269916\n"
     ]
    },
    {
     "name": "stderr",
     "output_type": "stream",
     "text": [
      "bagging, val_score: 0.158520:  50%|##########################5                          | 5/10 [00:04<00:04,  1.08it/s][I 2023-10-28 18:30:34,812] Trial 31 finished with value: 0.16160060010071275 and parameters: {'bagging_fraction': 0.9931015086642914, 'bagging_freq': 1}. Best is trial 29 with value: 0.15852035264455194.\n",
      "bagging, val_score: 0.158520:  50%|##########################5                          | 5/10 [00:04<00:04,  1.08it/s]"
     ]
    },
    {
     "name": "stdout",
     "output_type": "stream",
     "text": [
      "[200]\tcv_agg's l2: 0.162224 + 0.0248637\n",
      "Early stopping, best iteration is:\n",
      "[123]\tcv_agg's l2: 0.15852 + 0.0319795\n",
      "[100]\tcv_agg's l2: 0.173423 + 0.0352909\n"
     ]
    },
    {
     "name": "stderr",
     "output_type": "stream",
     "text": [
      "bagging, val_score: 0.158520:  60%|###############################8                     | 6/10 [00:05<00:03,  1.07it/s][I 2023-10-28 18:30:35,763] Trial 32 finished with value: 0.17067072649090295 and parameters: {'bagging_fraction': 0.8333785889750637, 'bagging_freq': 4}. Best is trial 29 with value: 0.15852035264455194.\n",
      "bagging, val_score: 0.158520:  60%|###############################8                     | 6/10 [00:05<00:03,  1.07it/s]"
     ]
    },
    {
     "name": "stdout",
     "output_type": "stream",
     "text": [
      "[200]\tcv_agg's l2: 0.169223 + 0.0320525\n",
      "Early stopping, best iteration is:\n",
      "[123]\tcv_agg's l2: 0.15852 + 0.0319795\n",
      "[100]\tcv_agg's l2: 0.181164 + 0.0370045\n"
     ]
    },
    {
     "name": "stderr",
     "output_type": "stream",
     "text": [
      "bagging, val_score: 0.158520:  70%|#####################################                | 7/10 [00:06<00:02,  1.11it/s][I 2023-10-28 18:30:36,600] Trial 33 finished with value: 0.17940747653721206 and parameters: {'bagging_fraction': 0.7761549019685379, 'bagging_freq': 7}. Best is trial 29 with value: 0.15852035264455194.\n",
      "bagging, val_score: 0.158520:  70%|#####################################                | 7/10 [00:06<00:02,  1.11it/s]"
     ]
    },
    {
     "name": "stdout",
     "output_type": "stream",
     "text": [
      "[200]\tcv_agg's l2: 0.173839 + 0.0343902\n",
      "Early stopping, best iteration is:\n",
      "[123]\tcv_agg's l2: 0.15852 + 0.0319795\n",
      "[100]\tcv_agg's l2: 0.184594 + 0.0351916\n"
     ]
    },
    {
     "name": "stderr",
     "output_type": "stream",
     "text": [
      "bagging, val_score: 0.158520:  80%|##########################################4          | 8/10 [00:07<00:01,  1.19it/s][I 2023-10-28 18:30:37,302] Trial 34 finished with value: 0.1850841815759415 and parameters: {'bagging_fraction': 0.567361598929169, 'bagging_freq': 3}. Best is trial 29 with value: 0.15852035264455194.\n",
      "bagging, val_score: 0.158520:  80%|##########################################4          | 8/10 [00:07<00:01,  1.19it/s]"
     ]
    },
    {
     "name": "stdout",
     "output_type": "stream",
     "text": [
      "[200]\tcv_agg's l2: 0.181186 + 0.0313208\n",
      "Early stopping, best iteration is:\n",
      "[123]\tcv_agg's l2: 0.15852 + 0.0319795\n",
      "[100]\tcv_agg's l2: 0.166833 + 0.0355635\n"
     ]
    },
    {
     "name": "stderr",
     "output_type": "stream",
     "text": [
      "bagging, val_score: 0.158520:  90%|###############################################7     | 9/10 [00:08<00:00,  1.14it/s][I 2023-10-28 18:30:38,273] Trial 35 finished with value: 0.16552563919577457 and parameters: {'bagging_fraction': 0.8624303618779611, 'bagging_freq': 5}. Best is trial 29 with value: 0.15852035264455194.\n",
      "bagging, val_score: 0.158520:  90%|###############################################7     | 9/10 [00:08<00:00,  1.14it/s]"
     ]
    },
    {
     "name": "stdout",
     "output_type": "stream",
     "text": [
      "[200]\tcv_agg's l2: 0.164486 + 0.0333827\n",
      "Early stopping, best iteration is:\n",
      "[123]\tcv_agg's l2: 0.15852 + 0.0319795\n",
      "[100]\tcv_agg's l2: 0.180135 + 0.038076\n"
     ]
    },
    {
     "name": "stderr",
     "output_type": "stream",
     "text": [
      "bagging, val_score: 0.158520: 100%|####################################################| 10/10 [00:08<00:00,  1.19it/s][I 2023-10-28 18:30:39,017] Trial 36 finished with value: 0.1798978781996178 and parameters: {'bagging_fraction': 0.63079104007902, 'bagging_freq': 2}. Best is trial 29 with value: 0.15852035264455194.\n",
      "bagging, val_score: 0.158520: 100%|####################################################| 10/10 [00:08<00:00,  1.14it/s]\n"
     ]
    },
    {
     "name": "stdout",
     "output_type": "stream",
     "text": [
      "[200]\tcv_agg's l2: 0.176235 + 0.0322697\n",
      "Early stopping, best iteration is:\n",
      "[123]\tcv_agg's l2: 0.15852 + 0.0319795\n"
     ]
    },
    {
     "name": "stderr",
     "output_type": "stream",
     "text": [
      "feature_fraction_stage2, val_score: 0.158520:   0%|                                              | 0/3 [00:00<?, ?it/s]"
     ]
    },
    {
     "name": "stdout",
     "output_type": "stream",
     "text": [
      "[100]\tcv_agg's l2: 0.159831 + 0.0319711\n"
     ]
    },
    {
     "name": "stderr",
     "output_type": "stream",
     "text": [
      "feature_fraction_stage2, val_score: 0.158520:  33%|############6                         | 1/3 [00:00<00:01,  1.02it/s][I 2023-10-28 18:30:40,002] Trial 37 finished with value: 0.15852035264455194 and parameters: {'feature_fraction': 0.41600000000000004}. Best is trial 37 with value: 0.15852035264455194.\n",
      "feature_fraction_stage2, val_score: 0.158520:  33%|############6                         | 1/3 [00:00<00:01,  1.02it/s]"
     ]
    },
    {
     "name": "stdout",
     "output_type": "stream",
     "text": [
      "[200]\tcv_agg's l2: 0.15932 + 0.0314749\n",
      "Early stopping, best iteration is:\n",
      "[123]\tcv_agg's l2: 0.15852 + 0.0319795\n",
      "[100]\tcv_agg's l2: 0.169568 + 0.0340273\n",
      "[200]\tcv_agg's l2: 0.169134 + 0.0317278\n"
     ]
    },
    {
     "name": "stderr",
     "output_type": "stream",
     "text": [
      "feature_fraction_stage2, val_score: 0.158520:  67%|#########################3            | 2/3 [00:02<00:01,  1.54s/it][I 2023-10-28 18:30:41,942] Trial 38 finished with value: 0.16806276773940662 and parameters: {'feature_fraction': 0.48000000000000004}. Best is trial 37 with value: 0.15852035264455194.\n",
      "feature_fraction_stage2, val_score: 0.158520:  67%|#########################3            | 2/3 [00:02<00:01,  1.54s/it]"
     ]
    },
    {
     "name": "stdout",
     "output_type": "stream",
     "text": [
      "Early stopping, best iteration is:\n",
      "[123]\tcv_agg's l2: 0.15852 + 0.0319795\n",
      "[100]\tcv_agg's l2: 0.169568 + 0.0340273\n"
     ]
    },
    {
     "name": "stderr",
     "output_type": "stream",
     "text": [
      "feature_fraction_stage2, val_score: 0.158520: 100%|######################################| 3/3 [00:04<00:00,  1.47s/it][I 2023-10-28 18:30:43,313] Trial 39 finished with value: 0.16806276773940662 and parameters: {'feature_fraction': 0.44800000000000006}. Best is trial 37 with value: 0.15852035264455194.\n",
      "feature_fraction_stage2, val_score: 0.158520: 100%|######################################| 3/3 [00:04<00:00,  1.43s/it]\n"
     ]
    },
    {
     "name": "stdout",
     "output_type": "stream",
     "text": [
      "[200]\tcv_agg's l2: 0.169134 + 0.0317278\n",
      "Early stopping, best iteration is:\n",
      "[123]\tcv_agg's l2: 0.15852 + 0.0319795\n"
     ]
    },
    {
     "name": "stderr",
     "output_type": "stream",
     "text": [
      "regularization_factors, val_score: 0.158520:   0%|                                              | 0/20 [00:00<?, ?it/s]"
     ]
    },
    {
     "name": "stdout",
     "output_type": "stream",
     "text": [
      "[100]\tcv_agg's l2: 0.159677 + 0.0316918\n"
     ]
    },
    {
     "name": "stderr",
     "output_type": "stream",
     "text": [
      "regularization_factors, val_score: 0.158328:   5%|#9                                    | 1/20 [00:01<00:25,  1.34s/it][I 2023-10-28 18:30:44,656] Trial 40 finished with value: 0.15832772051797633 and parameters: {'lambda_l1': 5.5790939423652495e-05, 'lambda_l2': 0.0001627863455853581}. Best is trial 40 with value: 0.15832772051797633.\n",
      "regularization_factors, val_score: 0.158328:   5%|#9                                    | 1/20 [00:01<00:25,  1.34s/it]"
     ]
    },
    {
     "name": "stdout",
     "output_type": "stream",
     "text": [
      "[200]\tcv_agg's l2: 0.159121 + 0.0317577\n",
      "Early stopping, best iteration is:\n",
      "[132]\tcv_agg's l2: 0.158328 + 0.032198\n",
      "[100]\tcv_agg's l2: 0.160126 + 0.0313491\n"
     ]
    },
    {
     "name": "stderr",
     "output_type": "stream",
     "text": [
      "regularization_factors, val_score: 0.158328:  10%|###8                                  | 2/20 [00:02<00:25,  1.39s/it][I 2023-10-28 18:30:46,088] Trial 41 finished with value: 0.15877866668314672 and parameters: {'lambda_l1': 3.13097941691953e-05, 'lambda_l2': 0.000320174527011314}. Best is trial 40 with value: 0.15832772051797633.\n",
      "regularization_factors, val_score: 0.158328:  10%|###8                                  | 2/20 [00:02<00:25,  1.39s/it]"
     ]
    },
    {
     "name": "stdout",
     "output_type": "stream",
     "text": [
      "[200]\tcv_agg's l2: 0.159192 + 0.0317108\n",
      "Early stopping, best iteration is:\n",
      "[132]\tcv_agg's l2: 0.158328 + 0.032198\n",
      "[100]\tcv_agg's l2: 0.159677 + 0.0316918\n"
     ]
    },
    {
     "name": "stderr",
     "output_type": "stream",
     "text": [
      "\r",
      "regularization_factors, val_score: 0.158328:  10%|###8                                  | 2/20 [00:04<00:25,  1.39s/it]"
     ]
    },
    {
     "name": "stdout",
     "output_type": "stream",
     "text": [
      "[200]\tcv_agg's l2: 0.159089 + 0.0317938\n",
      "Early stopping, best iteration is:\n",
      "[132]\tcv_agg's l2: 0.158328 + 0.0321979\n"
     ]
    },
    {
     "name": "stderr",
     "output_type": "stream",
     "text": [
      "regularization_factors, val_score: 0.158328:  15%|#####7                                | 3/20 [00:04<00:24,  1.43s/it][I 2023-10-28 18:30:47,565] Trial 42 finished with value: 0.158327661657699 and parameters: {'lambda_l1': 4.494400370679167e-05, 'lambda_l2': 0.0002578977564174787}. Best is trial 42 with value: 0.158327661657699.\n",
      "regularization_factors, val_score: 0.158328:  15%|#####7                                | 3/20 [00:04<00:24,  1.43s/it]"
     ]
    },
    {
     "name": "stdout",
     "output_type": "stream",
     "text": [
      "[100]\tcv_agg's l2: 0.159169 + 0.0317426\n",
      "[200]\tcv_agg's l2: 0.15816 + 0.0317433\n"
     ]
    },
    {
     "name": "stderr",
     "output_type": "stream",
     "text": [
      "regularization_factors, val_score: 0.157423:  20%|#######6                              | 4/20 [00:05<00:23,  1.46s/it][I 2023-10-28 18:30:49,057] Trial 43 finished with value: 0.1574225757997337 and parameters: {'lambda_l1': 6.301398519478106e-05, 'lambda_l2': 0.00012071262590108148}. Best is trial 43 with value: 0.1574225757997337.\n",
      "regularization_factors, val_score: 0.157423:  20%|#######6                              | 4/20 [00:05<00:23,  1.46s/it]"
     ]
    },
    {
     "name": "stdout",
     "output_type": "stream",
     "text": [
      "Early stopping, best iteration is:\n",
      "[149]\tcv_agg's l2: 0.157423 + 0.0316182\n",
      "[100]\tcv_agg's l2: 0.159677 + 0.0316918\n",
      "[200]\tcv_agg's l2: 0.159051 + 0.0318197\n"
     ]
    },
    {
     "name": "stderr",
     "output_type": "stream",
     "text": [
      "regularization_factors, val_score: 0.157423:  25%|#########5                            | 5/20 [00:06<00:20,  1.37s/it][I 2023-10-28 18:30:50,283] Trial 44 finished with value: 0.15854958639692257 and parameters: {'lambda_l1': 8.072471633776711e-05, 'lambda_l2': 0.00015408224272483464}. Best is trial 43 with value: 0.1574225757997337.\n",
      "regularization_factors, val_score: 0.157423:  25%|#########5                            | 5/20 [00:06<00:20,  1.37s/it]"
     ]
    },
    {
     "name": "stdout",
     "output_type": "stream",
     "text": [
      "Early stopping, best iteration is:\n",
      "[149]\tcv_agg's l2: 0.157423 + 0.0316182\n",
      "[100]\tcv_agg's l2: 0.159677 + 0.0316919\n"
     ]
    },
    {
     "name": "stderr",
     "output_type": "stream",
     "text": [
      "\r",
      "regularization_factors, val_score: 0.157423:  25%|#########5                            | 5/20 [00:08<00:20,  1.37s/it]"
     ]
    },
    {
     "name": "stdout",
     "output_type": "stream",
     "text": [
      "[200]\tcv_agg's l2: 0.159121 + 0.0317577\n",
      "Early stopping, best iteration is:\n",
      "[149]\tcv_agg's l2: 0.157423 + 0.0316182\n"
     ]
    },
    {
     "name": "stderr",
     "output_type": "stream",
     "text": [
      "regularization_factors, val_score: 0.157423:  30%|###########4                          | 6/20 [00:08<00:18,  1.30s/it][I 2023-10-28 18:30:51,447] Trial 45 finished with value: 0.15854951482407448 and parameters: {'lambda_l1': 6.572032961391372e-05, 'lambda_l2': 0.00013242581051772125}. Best is trial 43 with value: 0.1574225757997337.\n",
      "regularization_factors, val_score: 0.157423:  30%|###########4                          | 6/20 [00:08<00:18,  1.30s/it]"
     ]
    },
    {
     "name": "stdout",
     "output_type": "stream",
     "text": [
      "[100]\tcv_agg's l2: 0.159421 + 0.0316555\n",
      "[200]\tcv_agg's l2: 0.15921 + 0.0311034\n"
     ]
    },
    {
     "name": "stderr",
     "output_type": "stream",
     "text": [
      "regularization_factors, val_score: 0.157423:  35%|#############3                        | 7/20 [00:09<00:17,  1.37s/it][I 2023-10-28 18:30:52,963] Trial 46 finished with value: 0.1589728114554168 and parameters: {'lambda_l1': 1.1031851970175281e-05, 'lambda_l2': 1.8239990720251762e-06}. Best is trial 43 with value: 0.1574225757997337.\n",
      "regularization_factors, val_score: 0.157423:  35%|#############3                        | 7/20 [00:09<00:17,  1.37s/it]"
     ]
    },
    {
     "name": "stdout",
     "output_type": "stream",
     "text": [
      "Early stopping, best iteration is:\n",
      "[149]\tcv_agg's l2: 0.157423 + 0.0316182\n",
      "[100]\tcv_agg's l2: 0.165023 + 0.0357405\n"
     ]
    },
    {
     "name": "stderr",
     "output_type": "stream",
     "text": [
      "\r",
      "regularization_factors, val_score: 0.157423:  35%|#############3                        | 7/20 [00:10<00:17,  1.37s/it]"
     ]
    },
    {
     "name": "stdout",
     "output_type": "stream",
     "text": [
      "[200]\tcv_agg's l2: 0.162811 + 0.0352477\n",
      "Early stopping, best iteration is:\n",
      "[149]\tcv_agg's l2: 0.157423 + 0.0316182\n"
     ]
    },
    {
     "name": "stderr",
     "output_type": "stream",
     "text": [
      "regularization_factors, val_score: 0.157423:  40%|###############2                      | 8/20 [00:10<00:16,  1.34s/it][I 2023-10-28 18:30:54,221] Trial 47 finished with value: 0.16348687262900574 and parameters: {'lambda_l1': 0.2990108092393911, 'lambda_l2': 0.27564885360018326}. Best is trial 43 with value: 0.1574225757997337.\n",
      "regularization_factors, val_score: 0.157423:  40%|###############2                      | 8/20 [00:10<00:16,  1.34s/it]"
     ]
    },
    {
     "name": "stdout",
     "output_type": "stream",
     "text": [
      "[100]\tcv_agg's l2: 0.159707 + 0.0313992\n",
      "[200]\tcv_agg's l2: 0.159015 + 0.0311086\n"
     ]
    },
    {
     "name": "stderr",
     "output_type": "stream",
     "text": [
      "regularization_factors, val_score: 0.157423:  45%|#################1                    | 9/20 [00:12<00:14,  1.28s/it][I 2023-10-28 18:30:55,379] Trial 48 finished with value: 0.15914744606571202 and parameters: {'lambda_l1': 2.6341615349654302e-08, 'lambda_l2': 0.0004483109119704871}. Best is trial 43 with value: 0.1574225757997337.\n",
      "regularization_factors, val_score: 0.157423:  45%|#################1                    | 9/20 [00:12<00:14,  1.28s/it]"
     ]
    },
    {
     "name": "stdout",
     "output_type": "stream",
     "text": [
      "Early stopping, best iteration is:\n",
      "[149]\tcv_agg's l2: 0.157423 + 0.0316182\n",
      "[100]\tcv_agg's l2: 0.160174 + 0.0319277\n",
      "[200]\tcv_agg's l2: 0.160011 + 0.0308887\n"
     ]
    },
    {
     "name": "stderr",
     "output_type": "stream",
     "text": [
      "regularization_factors, val_score: 0.157423:  50%|##################5                  | 10/20 [00:13<00:13,  1.33s/it][I 2023-10-28 18:30:56,822] Trial 49 finished with value: 0.15935731307536397 and parameters: {'lambda_l1': 0.0034242905469519117, 'lambda_l2': 9.47926218251547e-06}. Best is trial 43 with value: 0.1574225757997337.\n",
      "regularization_factors, val_score: 0.157423:  50%|##################5                  | 10/20 [00:13<00:13,  1.33s/it]"
     ]
    },
    {
     "name": "stdout",
     "output_type": "stream",
     "text": [
      "Early stopping, best iteration is:\n",
      "[149]\tcv_agg's l2: 0.157423 + 0.0316182\n",
      "[100]\tcv_agg's l2: 0.159831 + 0.0319711\n"
     ]
    },
    {
     "name": "stderr",
     "output_type": "stream",
     "text": [
      "\r",
      "regularization_factors, val_score: 0.157423:  50%|##################5                  | 10/20 [00:14<00:13,  1.33s/it]"
     ]
    },
    {
     "name": "stdout",
     "output_type": "stream",
     "text": [
      "[200]\tcv_agg's l2: 0.15932 + 0.0314749\n",
      "Early stopping, best iteration is:\n",
      "[149]\tcv_agg's l2: 0.157423 + 0.0316182\n"
     ]
    },
    {
     "name": "stderr",
     "output_type": "stream",
     "text": [
      "regularization_factors, val_score: 0.157423:  55%|####################3                | 11/20 [00:14<00:11,  1.26s/it][I 2023-10-28 18:30:57,915] Trial 50 finished with value: 0.15882538909247582 and parameters: {'lambda_l1': 8.299516083195654e-07, 'lambda_l2': 2.825302125349828e-08}. Best is trial 43 with value: 0.1574225757997337.\n",
      "regularization_factors, val_score: 0.157423:  55%|####################3                | 11/20 [00:14<00:11,  1.26s/it]"
     ]
    },
    {
     "name": "stdout",
     "output_type": "stream",
     "text": [
      "[100]\tcv_agg's l2: 0.159842 + 0.0322759\n",
      "[200]\tcv_agg's l2: 0.159233 + 0.0327719\n"
     ]
    },
    {
     "name": "stderr",
     "output_type": "stream",
     "text": [
      "regularization_factors, val_score: 0.157423:  60%|######################2              | 12/20 [00:16<00:10,  1.31s/it][I 2023-10-28 18:30:59,338] Trial 51 finished with value: 0.15905985685829177 and parameters: {'lambda_l1': 0.00019913819971212115, 'lambda_l2': 0.0008332175189497545}. Best is trial 43 with value: 0.1574225757997337.\n",
      "regularization_factors, val_score: 0.157423:  60%|######################2              | 12/20 [00:16<00:10,  1.31s/it]"
     ]
    },
    {
     "name": "stdout",
     "output_type": "stream",
     "text": [
      "Early stopping, best iteration is:\n",
      "[149]\tcv_agg's l2: 0.157423 + 0.0316182\n",
      "[100]\tcv_agg's l2: 0.158444 + 0.0303116\n"
     ]
    },
    {
     "name": "stderr",
     "output_type": "stream",
     "text": [
      "\r",
      "regularization_factors, val_score: 0.157269:  60%|######################2              | 12/20 [00:17<00:10,  1.31s/it]"
     ]
    },
    {
     "name": "stdout",
     "output_type": "stream",
     "text": [
      "[200]\tcv_agg's l2: 0.159032 + 0.0310907\n",
      "Early stopping, best iteration is:\n",
      "[127]\tcv_agg's l2: 0.157269 + 0.0303\n"
     ]
    },
    {
     "name": "stderr",
     "output_type": "stream",
     "text": [
      "regularization_factors, val_score: 0.157269:  65%|########################             | 13/20 [00:17<00:08,  1.25s/it][I 2023-10-28 18:31:00,450] Trial 52 finished with value: 0.15726926503508043 and parameters: {'lambda_l1': 0.0010711043047446189, 'lambda_l2': 0.0024397169692562948}. Best is trial 52 with value: 0.15726926503508043.\n",
      "regularization_factors, val_score: 0.157269:  65%|########################             | 13/20 [00:17<00:08,  1.25s/it]"
     ]
    },
    {
     "name": "stdout",
     "output_type": "stream",
     "text": [
      "[100]\tcv_agg's l2: 0.159332 + 0.0337443\n"
     ]
    },
    {
     "name": "stderr",
     "output_type": "stream",
     "text": [
      "regularization_factors, val_score: 0.157269:  70%|#########################9           | 14/20 [00:18<00:08,  1.35s/it][I 2023-10-28 18:31:02,047] Trial 53 finished with value: 0.15857636045449985 and parameters: {'lambda_l1': 0.004547655088884186, 'lambda_l2': 0.006245536632748566}. Best is trial 52 with value: 0.15726926503508043.\n",
      "regularization_factors, val_score: 0.157269:  70%|#########################9           | 14/20 [00:18<00:08,  1.35s/it]"
     ]
    },
    {
     "name": "stdout",
     "output_type": "stream",
     "text": [
      "[200]\tcv_agg's l2: 0.159296 + 0.0327877\n",
      "Early stopping, best iteration is:\n",
      "[127]\tcv_agg's l2: 0.157269 + 0.0303\n",
      "[100]\tcv_agg's l2: 0.160776 + 0.0311045\n"
     ]
    },
    {
     "name": "stderr",
     "output_type": "stream",
     "text": [
      "regularization_factors, val_score: 0.157269:  75%|###########################7         | 15/20 [00:20<00:06,  1.36s/it][I 2023-10-28 18:31:03,437] Trial 54 finished with value: 0.15983998204807104 and parameters: {'lambda_l1': 0.0016572454654839193, 'lambda_l2': 0.020922742580223516}. Best is trial 52 with value: 0.15726926503508043.\n",
      "regularization_factors, val_score: 0.157269:  75%|###########################7         | 15/20 [00:20<00:06,  1.36s/it]"
     ]
    },
    {
     "name": "stdout",
     "output_type": "stream",
     "text": [
      "[200]\tcv_agg's l2: 0.159841 + 0.0304059\n",
      "Early stopping, best iteration is:\n",
      "[127]\tcv_agg's l2: 0.157269 + 0.0303\n",
      "[100]\tcv_agg's l2: 0.159249 + 0.0313072\n"
     ]
    },
    {
     "name": "stderr",
     "output_type": "stream",
     "text": [
      "regularization_factors, val_score: 0.157269:  80%|#############################6       | 16/20 [00:21<00:05,  1.35s/it][I 2023-10-28 18:31:04,769] Trial 55 finished with value: 0.15845030762005932 and parameters: {'lambda_l1': 3.820422734368574e-06, 'lambda_l2': 2.089391056453117e-05}. Best is trial 52 with value: 0.15726926503508043.\n",
      "regularization_factors, val_score: 0.157269:  80%|#############################6       | 16/20 [00:21<00:05,  1.35s/it]"
     ]
    },
    {
     "name": "stdout",
     "output_type": "stream",
     "text": [
      "[200]\tcv_agg's l2: 0.158933 + 0.03087\n",
      "Early stopping, best iteration is:\n",
      "[127]\tcv_agg's l2: 0.157269 + 0.0303\n",
      "[100]\tcv_agg's l2: 0.159249 + 0.0313072\n"
     ]
    },
    {
     "name": "stderr",
     "output_type": "stream",
     "text": [
      "regularization_factors, val_score: 0.157269:  85%|###############################4     | 17/20 [00:22<00:03,  1.28s/it][I 2023-10-28 18:31:05,865] Trial 56 finished with value: 0.15845030138308042 and parameters: {'lambda_l1': 3.940608215069144e-06, 'lambda_l2': 2.699579090046826e-05}. Best is trial 52 with value: 0.15726926503508043.\n",
      "regularization_factors, val_score: 0.157269:  85%|###############################4     | 17/20 [00:22<00:03,  1.28s/it]"
     ]
    },
    {
     "name": "stdout",
     "output_type": "stream",
     "text": [
      "[200]\tcv_agg's l2: 0.158933 + 0.03087\n",
      "Early stopping, best iteration is:\n",
      "[127]\tcv_agg's l2: 0.157269 + 0.0303\n",
      "[100]\tcv_agg's l2: 0.159038 + 0.0314519\n"
     ]
    },
    {
     "name": "stderr",
     "output_type": "stream",
     "text": [
      "regularization_factors, val_score: 0.157269:  90%|#################################3   | 18/20 [00:23<00:02,  1.24s/it][I 2023-10-28 18:31:07,027] Trial 57 finished with value: 0.15808051789557442 and parameters: {'lambda_l1': 4.770938478273254e-06, 'lambda_l2': 5.135615464924532e-05}. Best is trial 52 with value: 0.15726926503508043.\n",
      "regularization_factors, val_score: 0.157269:  90%|#################################3   | 18/20 [00:23<00:02,  1.24s/it]"
     ]
    },
    {
     "name": "stdout",
     "output_type": "stream",
     "text": [
      "[200]\tcv_agg's l2: 0.1582 + 0.0313524\n",
      "Early stopping, best iteration is:\n",
      "[127]\tcv_agg's l2: 0.157269 + 0.0303\n",
      "[100]\tcv_agg's l2: 0.159249 + 0.0313072\n"
     ]
    },
    {
     "name": "stderr",
     "output_type": "stream",
     "text": [
      "regularization_factors, val_score: 0.157269:  95%|###################################1 | 19/20 [00:24<00:01,  1.17s/it][I 2023-10-28 18:31:08,040] Trial 58 finished with value: 0.1584502944148495 and parameters: {'lambda_l1': 3.9786181831463435e-06, 'lambda_l2': 3.430202392718093e-05}. Best is trial 52 with value: 0.15726926503508043.\n",
      "regularization_factors, val_score: 0.157269:  95%|###################################1 | 19/20 [00:24<00:01,  1.17s/it]"
     ]
    },
    {
     "name": "stdout",
     "output_type": "stream",
     "text": [
      "[200]\tcv_agg's l2: 0.158933 + 0.03087\n",
      "Early stopping, best iteration is:\n",
      "[127]\tcv_agg's l2: 0.157269 + 0.0303\n",
      "[100]\tcv_agg's l2: 0.159512 + 0.0309177\n"
     ]
    },
    {
     "name": "stderr",
     "output_type": "stream",
     "text": [
      "regularization_factors, val_score: 0.157269: 100%|#####################################| 20/20 [00:25<00:00,  1.13s/it][I 2023-10-28 18:31:09,059] Trial 59 finished with value: 0.15921030103974151 and parameters: {'lambda_l1': 0.00021773581076661846, 'lambda_l2': 0.0012964803923848074}. Best is trial 52 with value: 0.15726926503508043.\n",
      "regularization_factors, val_score: 0.157269: 100%|#####################################| 20/20 [00:25<00:00,  1.29s/it]\n"
     ]
    },
    {
     "name": "stdout",
     "output_type": "stream",
     "text": [
      "[200]\tcv_agg's l2: 0.159921 + 0.0310975\n",
      "Early stopping, best iteration is:\n",
      "[127]\tcv_agg's l2: 0.157269 + 0.0303\n"
     ]
    },
    {
     "name": "stderr",
     "output_type": "stream",
     "text": [
      "min_data_in_leaf, val_score: 0.157269:   0%|                                                     | 0/5 [00:00<?, ?it/s]"
     ]
    },
    {
     "name": "stdout",
     "output_type": "stream",
     "text": [
      "[100]\tcv_agg's l2: 0.152431 + 0.0400435\n",
      "[200]\tcv_agg's l2: 0.150778 + 0.0377373\n"
     ]
    },
    {
     "name": "stderr",
     "output_type": "stream",
     "text": [
      "min_data_in_leaf, val_score: 0.150335:  20%|#########                                    | 1/5 [00:01<00:07,  1.77s/it][I 2023-10-28 18:31:10,837] Trial 60 finished with value: 0.15033457676665582 and parameters: {'min_child_samples': 10}. Best is trial 60 with value: 0.15033457676665582.\n",
      "min_data_in_leaf, val_score: 0.150335:  20%|#########                                    | 1/5 [00:01<00:07,  1.77s/it]"
     ]
    },
    {
     "name": "stdout",
     "output_type": "stream",
     "text": [
      "[300]\tcv_agg's l2: 0.150971 + 0.037575\n",
      "Early stopping, best iteration is:\n",
      "[214]\tcv_agg's l2: 0.150335 + 0.0377947\n",
      "[100]\tcv_agg's l2: 0.676298 + 0.0657864\n",
      "[200]\tcv_agg's l2: 0.638838 + 0.059075\n"
     ]
    },
    {
     "name": "stderr",
     "output_type": "stream",
     "text": [
      "min_data_in_leaf, val_score: 0.150335:  40%|##################                           | 2/5 [00:02<00:03,  1.08s/it][I 2023-10-28 18:31:11,429] Trial 61 finished with value: 0.6365424350449729 and parameters: {'min_child_samples': 100}. Best is trial 60 with value: 0.15033457676665582.\n",
      "min_data_in_leaf, val_score: 0.150335:  40%|##################                           | 2/5 [00:02<00:03,  1.08s/it]"
     ]
    },
    {
     "name": "stdout",
     "output_type": "stream",
     "text": [
      "[300]\tcv_agg's l2: 0.622496 + 0.0635288\n",
      "Early stopping, best iteration is:\n",
      "[214]\tcv_agg's l2: 0.150335 + 0.0377947\n",
      "[100]\tcv_agg's l2: 0.152219 + 0.0391967\n",
      "[200]\tcv_agg's l2: 0.15163 + 0.0373377\n"
     ]
    },
    {
     "name": "stderr",
     "output_type": "stream",
     "text": [
      "min_data_in_leaf, val_score: 0.150335:  60%|###########################                  | 3/5 [00:04<00:02,  1.35s/it][I 2023-10-28 18:31:13,103] Trial 62 finished with value: 0.15158267689108612 and parameters: {'min_child_samples': 5}. Best is trial 60 with value: 0.15033457676665582.\n",
      "min_data_in_leaf, val_score: 0.150335:  60%|###########################                  | 3/5 [00:04<00:02,  1.35s/it]"
     ]
    },
    {
     "name": "stdout",
     "output_type": "stream",
     "text": [
      "[300]\tcv_agg's l2: 0.151449 + 0.0371511\n",
      "Early stopping, best iteration is:\n",
      "[214]\tcv_agg's l2: 0.150335 + 0.0377947\n",
      "[100]\tcv_agg's l2: 0.23312 + 0.0438066\n",
      "[200]\tcv_agg's l2: 0.224764 + 0.0376983\n"
     ]
    },
    {
     "name": "stderr",
     "output_type": "stream",
     "text": [
      "min_data_in_leaf, val_score: 0.150335:  80%|####################################         | 4/5 [00:04<00:01,  1.13s/it][I 2023-10-28 18:31:13,902] Trial 63 finished with value: 0.2244540930456643 and parameters: {'min_child_samples': 50}. Best is trial 60 with value: 0.15033457676665582.\n",
      "min_data_in_leaf, val_score: 0.150335:  80%|####################################         | 4/5 [00:04<00:01,  1.13s/it]"
     ]
    },
    {
     "name": "stdout",
     "output_type": "stream",
     "text": [
      "[300]\tcv_agg's l2: 0.220692 + 0.0360192\n",
      "Early stopping, best iteration is:\n",
      "[214]\tcv_agg's l2: 0.150335 + 0.0377947\n",
      "[100]\tcv_agg's l2: 0.170633 + 0.0339733\n",
      "[200]\tcv_agg's l2: 0.166672 + 0.0320557\n"
     ]
    },
    {
     "name": "stderr",
     "output_type": "stream",
     "text": [
      "min_data_in_leaf, val_score: 0.150335: 100%|#############################################| 5/5 [00:06<00:00,  1.26s/it][I 2023-10-28 18:31:15,395] Trial 64 finished with value: 0.16636348996204847 and parameters: {'min_child_samples': 25}. Best is trial 60 with value: 0.15033457676665582.\n",
      "min_data_in_leaf, val_score: 0.150335: 100%|#############################################| 5/5 [00:06<00:00,  1.27s/it]"
     ]
    },
    {
     "name": "stdout",
     "output_type": "stream",
     "text": [
      "[300]\tcv_agg's l2: 0.166781 + 0.0306992\n",
      "Early stopping, best iteration is:\n",
      "[214]\tcv_agg's l2: 0.150335 + 0.0377947\n"
     ]
    },
    {
     "name": "stderr",
     "output_type": "stream",
     "text": [
      "\n"
     ]
    }
   ],
   "source": [
    "import optuna.integration.lightgbm as lgb\n",
    "from lightgbm import early_stopping\n",
    "from sklearn.model_selection import KFold\n",
    "from sklearn.model_selection import RepeatedKFold\n",
    "\n",
    "\n",
    "lgb_train = lgb.Dataset(X_train_random_split, y_train_random_split)\n",
    "\n",
    "params = {\n",
    "    \"boosting_type\": \"gbdt\",\n",
    "    \"objective\": \"regression\",\n",
    "    \"metric\": \"l2\",\n",
    "    \"verbosity\": -1,\n",
    "}\n",
    "\n",
    "tuner = lgb.LightGBMTunerCV(\n",
    "    params,\n",
    "    lgb_train,\n",
    "    folds=KFold(n_splits=5),\n",
    "    num_boost_round=10000,\n",
    "    callbacks=[early_stopping(100), log_evaluation(100)],\n",
    ")\n",
    "\n",
    "tuner.run()"
   ]
  },
  {
   "cell_type": "code",
   "execution_count": 34,
   "id": "c07cf3c6",
   "metadata": {},
   "outputs": [
    {
     "name": "stdout",
     "output_type": "stream",
     "text": [
      "Best score: 0.15033457676665582\n",
      "Params: \n",
      "    boosting_type: gbdt\n",
      "    objective: regression\n",
      "    metric: l2\n",
      "    verbosity: -1\n",
      "    feature_pre_filter: False\n",
      "    lambda_l1: 0.0010711043047446189\n",
      "    lambda_l2: 0.0024397169692562948\n",
      "    num_leaves: 31\n",
      "    feature_fraction: 0.4\n",
      "    bagging_fraction: 0.9752395242028492\n",
      "    bagging_freq: 1\n",
      "    min_child_samples: 10\n"
     ]
    }
   ],
   "source": [
    "print(f\"Best score: {tuner.best_score}\")\n",
    "best_params = tuner.best_params\n",
    "print(\"Params: \")\n",
    "for key, value in best_params.items():\n",
    "    print(\"    {}: {}\".format(key, value))"
   ]
  },
  {
   "cell_type": "code",
   "execution_count": 35,
   "id": "47a1bc33",
   "metadata": {},
   "outputs": [],
   "source": [
    "import lightgbm as lgb\n",
    "\n",
    "lgb_tuned = lgb.train(\n",
    "    best_params,\n",
    "    lgb_train,\n",
    "    num_boost_round=10000,\n",
    ")"
   ]
  },
  {
   "cell_type": "code",
   "execution_count": 36,
   "id": "4c17765e",
   "metadata": {},
   "outputs": [
    {
     "name": "stdout",
     "output_type": "stream",
     "text": [
      "RMSE train: 0.00\n",
      "RMSE test: 0.34\n",
      "MSE test: 0.12\n",
      "MAE test: 0.24\n",
      "\n"
     ]
    }
   ],
   "source": [
    "rmse, mse, mae = assess_regression_model(\n",
    "    lgb_tuned,\n",
    "    X_train_random_split,\n",
    "    X_test_random_split,\n",
    "    y_train_random_split,\n",
    "    y_test_random_split,\n",
    ")"
   ]
  },
  {
   "cell_type": "code",
   "execution_count": 37,
   "id": "9caec811",
   "metadata": {},
   "outputs": [],
   "source": [
    "results.loc[4] = [\"random\", \"Optuna\", len(X_test.columns), mse, rmse, mae]"
   ]
  },
  {
   "cell_type": "code",
   "execution_count": 38,
   "id": "859f12f2",
   "metadata": {},
   "outputs": [
    {
     "name": "stdout",
     "output_type": "stream",
     "text": [
      "Normal:\n",
      "MSE: 0.04\n",
      "RMSE: 0.20\n",
      "\n",
      "Round type: round\n",
      "MSE: 0.05\n",
      "RMSE: 0.23\n",
      "\n",
      "Round type: 0.33\n",
      "MSE: 0.06\n",
      "RMSE: 0.25\n",
      "\n",
      "Round type: 0.45\n",
      "MSE: 0.05\n",
      "RMSE: 0.22\n",
      "\n"
     ]
    }
   ],
   "source": [
    "predict = lgb_tuned.predict(X_test)\n",
    "check_round_predictions([\"round\", 0.33, 0.45], y_test, predict)"
   ]
  },
  {
   "cell_type": "code",
   "execution_count": 39,
   "id": "a046eead",
   "metadata": {},
   "outputs": [
    {
     "data": {
      "image/png": "[encoded data removed]",
      "text/plain": [
       "<Figure size 432x288 with 2 Axes>"
      ]
     },
     "metadata": {
      "needs_background": "light"
     },
     "output_type": "display_data"
    }
   ],
   "source": [
    "plot_confusion_matrix(\"round\", predict, y_test)"
   ]
  },
  {
   "cell_type": "markdown",
   "id": "2e230699",
   "metadata": {},
   "source": [
    "## Summary"
   ]
  },
  {
   "cell_type": "code",
   "execution_count": 40,
   "id": "2edd08be",
   "metadata": {},
   "outputs": [
    {
     "data": {
      "text/html": [
       "<div>\n",
       "<style scoped>\n",
       "    .dataframe tbody tr th:only-of-type {\n",
       "        vertical-align: middle;\n",
       "    }\n",
       "\n",
       "    .dataframe tbody tr th {\n",
       "        vertical-align: top;\n",
       "    }\n",
       "\n",
       "    .dataframe thead th {\n",
       "        text-align: right;\n",
       "    }\n",
       "</style>\n",
       "<table border=\"1\" class=\"dataframe\">\n",
       "  <thead>\n",
       "    <tr style=\"text-align: right;\">\n",
       "      <th></th>\n",
       "      <th>Split type</th>\n",
       "      <th>Tuning type</th>\n",
       "      <th>Number of characteristics</th>\n",
       "      <th>MSE</th>\n",
       "      <th>RMSE</th>\n",
       "      <th>MAE</th>\n",
       "    </tr>\n",
       "  </thead>\n",
       "  <tbody>\n",
       "    <tr>\n",
       "      <th>0</th>\n",
       "      <td>chronological</td>\n",
       "      <td>normal</td>\n",
       "      <td>13</td>\n",
       "      <td>0.260889</td>\n",
       "      <td>0.510773</td>\n",
       "      <td>0.223589</td>\n",
       "    </tr>\n",
       "    <tr>\n",
       "      <th>1</th>\n",
       "      <td>chronological</td>\n",
       "      <td>Optuna</td>\n",
       "      <td>13</td>\n",
       "      <td>0.211634</td>\n",
       "      <td>0.460037</td>\n",
       "      <td>0.334537</td>\n",
       "    </tr>\n",
       "    <tr>\n",
       "      <th>3</th>\n",
       "      <td>random</td>\n",
       "      <td>normal</td>\n",
       "      <td>13</td>\n",
       "      <td>0.148111</td>\n",
       "      <td>0.384853</td>\n",
       "      <td>0.160495</td>\n",
       "    </tr>\n",
       "    <tr>\n",
       "      <th>4</th>\n",
       "      <td>random</td>\n",
       "      <td>Optuna</td>\n",
       "      <td>13</td>\n",
       "      <td>0.118242</td>\n",
       "      <td>0.343863</td>\n",
       "      <td>0.236382</td>\n",
       "    </tr>\n",
       "  </tbody>\n",
       "</table>\n",
       "</div>"
      ],
      "text/plain": [
       "      Split type Tuning type  Number of characteristics       MSE      RMSE  \\\n",
       "0  chronological      normal                         13  0.260889  0.510773   \n",
       "1  chronological      Optuna                         13  0.211634  0.460037   \n",
       "3         random      normal                         13  0.148111  0.384853   \n",
       "4         random      Optuna                         13  0.118242  0.343863   \n",
       "\n",
       "        MAE  \n",
       "0  0.223589  \n",
       "1  0.334537  \n",
       "3  0.160495  \n",
       "4  0.236382  "
      ]
     },
     "execution_count": 40,
     "metadata": {},
     "output_type": "execute_result"
    }
   ],
   "source": [
    "results"
   ]
  },
  {
   "cell_type": "code",
   "execution_count": 41,
   "id": "7e403b40",
   "metadata": {},
   "outputs": [],
   "source": [
    "from training.results import plot_summary"
   ]
  },
  {
   "cell_type": "code",
   "execution_count": 42,
   "id": "e26ba349",
   "metadata": {},
   "outputs": [
    {
     "data": {
      "image/png": "[encoded data removed]",
      "text/plain": [
       "<Figure size 1440x576 with 1 Axes>"
      ]
     },
     "metadata": {
      "needs_background": "light"
     },
     "output_type": "display_data"
    }
   ],
   "source": [
    "plot_summary(results, \"MSE\")"
   ]
  },
  {
   "cell_type": "code",
   "execution_count": 43,
   "id": "1072db81",
   "metadata": {},
   "outputs": [
    {
     "data": {
      "image/png": "[encoded data removed]",
      "text/plain": [
       "<Figure size 1440x576 with 1 Axes>"
      ]
     },
     "metadata": {
      "needs_background": "light"
     },
     "output_type": "display_data"
    }
   ],
   "source": [
    "plot_summary(results, \"RMSE\")"
   ]
  },
  {
   "cell_type": "code",
   "execution_count": 44,
   "id": "0a073f44",
   "metadata": {},
   "outputs": [
    {
     "data": {
      "image/png": "[encoded data removed]",
      "text/plain": [
       "<Figure size 1440x576 with 1 Axes>"
      ]
     },
     "metadata": {
      "needs_background": "light"
     },
     "output_type": "display_data"
    }
   ],
   "source": [
    "plot_summary(results, \"MAE\")"
   ]
  },
  {
   "cell_type": "code",
   "execution_count": 46,
   "id": "157af270",
   "metadata": {},
   "outputs": [],
   "source": [
    "results.to_json(\"./lightgbm_second_results.json\")"
   ]
  },
  {
   "cell_type": "code",
   "execution_count": null,
   "id": "1b44b486",
   "metadata": {},
   "outputs": [],
   "source": []
  }
 ],
 "metadata": {
  "kernelspec": {
   "display_name": "Python 3 (ipykernel)",
   "language": "python",
   "name": "python3"
  },
  "language_info": {
   "codemirror_mode": {
    "name": "ipython",
    "version": 3
   },
   "file_extension": ".py",
   "mimetype": "text/x-python",
   "name": "python",
   "nbconvert_exporter": "python",
   "pygments_lexer": "ipython3",
   "version": "3.10.4"
  }
 },
 "nbformat": 4,
 "nbformat_minor": 5
}
