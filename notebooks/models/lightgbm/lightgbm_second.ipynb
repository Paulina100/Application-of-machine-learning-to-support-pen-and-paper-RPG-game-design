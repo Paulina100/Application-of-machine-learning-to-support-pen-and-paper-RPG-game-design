{
 "cells": [
  {
   "cell_type": "markdown",
   "id": "b61f8435",
   "metadata": {},
   "source": [
    "# LightGBM\n",
    "### Parameters:\n",
    "* **abilities**:\n",
    "    * **cha**\n",
    "    * **con**\n",
    "    * **dex**\n",
    "    * **int**\n",
    "    * **str**\n",
    "    * **wis**\n",
    "* **attributes**\n",
    "    * **hp**\n",
    "    * **ac**\n",
    "    * **perception**\n",
    "* **saves**\n",
    "    * **fortitude**\n",
    "    * **reflex**\n",
    "    * **will**\n",
    "* **resources**\n",
    "    * **focus**\n",
    "\n",
    "### Prediction: *level*\n",
    "\n",
    "## Loading data"
   ]
  },
  {
   "cell_type": "code",
   "execution_count": 1,
   "id": "64151d43",
   "metadata": {},
   "outputs": [],
   "source": [
    "import numpy as np\n",
    "import pandas as pd\n",
    "import sys\n",
    "\n",
    "import os\n",
    "import pathlib\n",
    "\n",
    "sys.path.append(\"../../..\")\n",
    "from training.creating_dataset import load_and_preprocess_data\n",
    "\n",
    "current_path = os.getcwd()\n",
    "DATASETS_DIR = pathlib.Path(current_path).parent.parent.parent / \"pathfinder_2e_data\"\n",
    "DATASET_FILES = [\n",
    "    \"pathfinder-bestiary.db\",\n",
    "    \"pathfinder-bestiary-2.db\",\n",
    "    \"pathfinder-bestiary-3.db\",\n",
    "]\n",
    "DATASET_PATHS = [f\"{DATASETS_DIR}/{file}\" for file in DATASET_FILES]\n",
    "characteristics = [\n",
    "    \"cha\",\n",
    "    \"con\",\n",
    "    \"dex\",\n",
    "    \"int\",\n",
    "    \"str\",\n",
    "    \"wis\",\n",
    "    \"ac\",\n",
    "    \"hp\",\n",
    "    \"perception\",\n",
    "    \"fortitude\",\n",
    "    \"reflex\",\n",
    "    \"will\",\n",
    "    \"focus\",\n",
    "]\n",
    "\n",
    "df = load_and_preprocess_data(\n",
    "    DATASET_PATHS,\n",
    "    characteristics=characteristics,\n",
    ")"
   ]
  },
  {
   "cell_type": "code",
   "execution_count": 2,
   "id": "ec1e8424",
   "metadata": {},
   "outputs": [
    {
     "name": "stdout",
     "output_type": "stream",
     "text": [
      "<class 'pandas.core.frame.DataFrame'>\n",
      "Int64Index: 1206 entries, 0 to 1205\n",
      "Data columns (total 15 columns):\n",
      " #   Column      Non-Null Count  Dtype \n",
      "---  ------      --------------  ----- \n",
      " 0   fortitude   1206 non-null   int64 \n",
      " 1   cha         1206 non-null   int64 \n",
      " 2   hp          1206 non-null   int64 \n",
      " 3   ac          1206 non-null   int64 \n",
      " 4   book        1206 non-null   object\n",
      " 5   level       1206 non-null   int64 \n",
      " 6   reflex      1206 non-null   int64 \n",
      " 7   int         1206 non-null   int64 \n",
      " 8   con         1206 non-null   int64 \n",
      " 9   will        1206 non-null   int64 \n",
      " 10  dex         1206 non-null   int64 \n",
      " 11  focus       1206 non-null   int32 \n",
      " 12  wis         1206 non-null   int64 \n",
      " 13  str         1206 non-null   int64 \n",
      " 14  perception  1206 non-null   int64 \n",
      "dtypes: int32(1), int64(13), object(1)\n",
      "memory usage: 146.0+ KB\n"
     ]
    }
   ],
   "source": [
    "df.info()"
   ]
  },
  {
   "cell_type": "code",
   "execution_count": 3,
   "id": "211d736c",
   "metadata": {},
   "outputs": [
    {
     "data": {
      "text/html": [
       "<div>\n",
       "<style scoped>\n",
       "    .dataframe tbody tr th:only-of-type {\n",
       "        vertical-align: middle;\n",
       "    }\n",
       "\n",
       "    .dataframe tbody tr th {\n",
       "        vertical-align: top;\n",
       "    }\n",
       "\n",
       "    .dataframe thead th {\n",
       "        text-align: right;\n",
       "    }\n",
       "</style>\n",
       "<table border=\"1\" class=\"dataframe\">\n",
       "  <thead>\n",
       "    <tr style=\"text-align: right;\">\n",
       "      <th></th>\n",
       "      <th>fortitude</th>\n",
       "      <th>cha</th>\n",
       "      <th>hp</th>\n",
       "      <th>ac</th>\n",
       "      <th>book</th>\n",
       "      <th>level</th>\n",
       "      <th>reflex</th>\n",
       "      <th>int</th>\n",
       "      <th>con</th>\n",
       "      <th>will</th>\n",
       "      <th>dex</th>\n",
       "      <th>focus</th>\n",
       "      <th>wis</th>\n",
       "      <th>str</th>\n",
       "      <th>perception</th>\n",
       "    </tr>\n",
       "  </thead>\n",
       "  <tbody>\n",
       "    <tr>\n",
       "      <th>0</th>\n",
       "      <td>22</td>\n",
       "      <td>1</td>\n",
       "      <td>215</td>\n",
       "      <td>29</td>\n",
       "      <td>Pathfinder Bestiary</td>\n",
       "      <td>10</td>\n",
       "      <td>19</td>\n",
       "      <td>1</td>\n",
       "      <td>5</td>\n",
       "      <td>17</td>\n",
       "      <td>2</td>\n",
       "      <td>1</td>\n",
       "      <td>2</td>\n",
       "      <td>7</td>\n",
       "      <td>20</td>\n",
       "    </tr>\n",
       "    <tr>\n",
       "      <th>1</th>\n",
       "      <td>21</td>\n",
       "      <td>1</td>\n",
       "      <td>220</td>\n",
       "      <td>28</td>\n",
       "      <td>Pathfinder Bestiary</td>\n",
       "      <td>10</td>\n",
       "      <td>14</td>\n",
       "      <td>-4</td>\n",
       "      <td>5</td>\n",
       "      <td>16</td>\n",
       "      <td>0</td>\n",
       "      <td>0</td>\n",
       "      <td>2</td>\n",
       "      <td>9</td>\n",
       "      <td>16</td>\n",
       "    </tr>\n",
       "    <tr>\n",
       "      <th>2</th>\n",
       "      <td>20</td>\n",
       "      <td>-2</td>\n",
       "      <td>175</td>\n",
       "      <td>25</td>\n",
       "      <td>Pathfinder Bestiary</td>\n",
       "      <td>8</td>\n",
       "      <td>17</td>\n",
       "      <td>-4</td>\n",
       "      <td>6</td>\n",
       "      <td>15</td>\n",
       "      <td>3</td>\n",
       "      <td>0</td>\n",
       "      <td>3</td>\n",
       "      <td>7</td>\n",
       "      <td>17</td>\n",
       "    </tr>\n",
       "    <tr>\n",
       "      <th>3</th>\n",
       "      <td>30</td>\n",
       "      <td>6</td>\n",
       "      <td>315</td>\n",
       "      <td>41</td>\n",
       "      <td>Pathfinder Bestiary</td>\n",
       "      <td>17</td>\n",
       "      <td>29</td>\n",
       "      <td>6</td>\n",
       "      <td>5</td>\n",
       "      <td>32</td>\n",
       "      <td>4</td>\n",
       "      <td>1</td>\n",
       "      <td>5</td>\n",
       "      <td>7</td>\n",
       "      <td>30</td>\n",
       "    </tr>\n",
       "    <tr>\n",
       "      <th>4</th>\n",
       "      <td>6</td>\n",
       "      <td>1</td>\n",
       "      <td>20</td>\n",
       "      <td>16</td>\n",
       "      <td>Pathfinder Bestiary</td>\n",
       "      <td>1</td>\n",
       "      <td>10</td>\n",
       "      <td>-1</td>\n",
       "      <td>1</td>\n",
       "      <td>4</td>\n",
       "      <td>3</td>\n",
       "      <td>1</td>\n",
       "      <td>1</td>\n",
       "      <td>-5</td>\n",
       "      <td>6</td>\n",
       "    </tr>\n",
       "  </tbody>\n",
       "</table>\n",
       "</div>"
      ],
      "text/plain": [
       "   fortitude  cha   hp  ac                 book  level  reflex  int  con  \\\n",
       "0         22    1  215  29  Pathfinder Bestiary     10      19    1    5   \n",
       "1         21    1  220  28  Pathfinder Bestiary     10      14   -4    5   \n",
       "2         20   -2  175  25  Pathfinder Bestiary      8      17   -4    6   \n",
       "3         30    6  315  41  Pathfinder Bestiary     17      29    6    5   \n",
       "4          6    1   20  16  Pathfinder Bestiary      1      10   -1    1   \n",
       "\n",
       "   will  dex  focus  wis  str  perception  \n",
       "0    17    2      1    2    7          20  \n",
       "1    16    0      0    2    9          16  \n",
       "2    15    3      0    3    7          17  \n",
       "3    32    4      1    5    7          30  \n",
       "4     4    3      1    1   -5           6  "
      ]
     },
     "execution_count": 3,
     "metadata": {},
     "output_type": "execute_result"
    }
   ],
   "source": [
    "df.head()"
   ]
  },
  {
   "cell_type": "markdown",
   "id": "1bf55cc1",
   "metadata": {},
   "source": [
    "###### Level"
   ]
  },
  {
   "cell_type": "code",
   "execution_count": 4,
   "id": "2d322d72",
   "metadata": {},
   "outputs": [
    {
     "data": {
      "text/plain": [
       "0       10\n",
       "1       10\n",
       "2        8\n",
       "3       17\n",
       "4        1\n",
       "        ..\n",
       "1201    20\n",
       "1202    -1\n",
       "1203    12\n",
       "1204     6\n",
       "1205     6\n",
       "Name: level, Length: 1206, dtype: int64"
      ]
     },
     "execution_count": 4,
     "metadata": {},
     "output_type": "execute_result"
    }
   ],
   "source": [
    "y = df[\"level\"]\n",
    "y"
   ]
  },
  {
   "cell_type": "code",
   "execution_count": 5,
   "id": "e7887f19",
   "metadata": {},
   "outputs": [],
   "source": [
    "from collections import defaultdict\n",
    "\n",
    "\n",
    "lvl_stat = defaultdict(lambda: 0)\n",
    "\n",
    "for lvl in y:\n",
    "    lvl_stat[lvl] += 1"
   ]
  },
  {
   "cell_type": "code",
   "execution_count": 6,
   "id": "c982e6d0",
   "metadata": {},
   "outputs": [
    {
     "data": {
      "text/html": [
       "<div>\n",
       "<style scoped>\n",
       "    .dataframe tbody tr th:only-of-type {\n",
       "        vertical-align: middle;\n",
       "    }\n",
       "\n",
       "    .dataframe tbody tr th {\n",
       "        vertical-align: top;\n",
       "    }\n",
       "\n",
       "    .dataframe thead th {\n",
       "        text-align: right;\n",
       "    }\n",
       "</style>\n",
       "<table border=\"1\" class=\"dataframe\">\n",
       "  <thead>\n",
       "    <tr style=\"text-align: right;\">\n",
       "      <th></th>\n",
       "      <th>lvl</th>\n",
       "      <th>count</th>\n",
       "    </tr>\n",
       "  </thead>\n",
       "  <tbody>\n",
       "    <tr>\n",
       "      <th>0</th>\n",
       "      <td>-1</td>\n",
       "      <td>34</td>\n",
       "    </tr>\n",
       "    <tr>\n",
       "      <th>1</th>\n",
       "      <td>0</td>\n",
       "      <td>27</td>\n",
       "    </tr>\n",
       "    <tr>\n",
       "      <th>2</th>\n",
       "      <td>1</td>\n",
       "      <td>127</td>\n",
       "    </tr>\n",
       "    <tr>\n",
       "      <th>3</th>\n",
       "      <td>2</td>\n",
       "      <td>121</td>\n",
       "    </tr>\n",
       "    <tr>\n",
       "      <th>4</th>\n",
       "      <td>3</td>\n",
       "      <td>95</td>\n",
       "    </tr>\n",
       "    <tr>\n",
       "      <th>5</th>\n",
       "      <td>4</td>\n",
       "      <td>82</td>\n",
       "    </tr>\n",
       "    <tr>\n",
       "      <th>6</th>\n",
       "      <td>5</td>\n",
       "      <td>76</td>\n",
       "    </tr>\n",
       "    <tr>\n",
       "      <th>7</th>\n",
       "      <td>6</td>\n",
       "      <td>72</td>\n",
       "    </tr>\n",
       "    <tr>\n",
       "      <th>8</th>\n",
       "      <td>7</td>\n",
       "      <td>77</td>\n",
       "    </tr>\n",
       "    <tr>\n",
       "      <th>9</th>\n",
       "      <td>8</td>\n",
       "      <td>68</td>\n",
       "    </tr>\n",
       "    <tr>\n",
       "      <th>10</th>\n",
       "      <td>9</td>\n",
       "      <td>63</td>\n",
       "    </tr>\n",
       "    <tr>\n",
       "      <th>11</th>\n",
       "      <td>10</td>\n",
       "      <td>58</td>\n",
       "    </tr>\n",
       "    <tr>\n",
       "      <th>12</th>\n",
       "      <td>11</td>\n",
       "      <td>40</td>\n",
       "    </tr>\n",
       "    <tr>\n",
       "      <th>13</th>\n",
       "      <td>12</td>\n",
       "      <td>41</td>\n",
       "    </tr>\n",
       "    <tr>\n",
       "      <th>14</th>\n",
       "      <td>13</td>\n",
       "      <td>36</td>\n",
       "    </tr>\n",
       "    <tr>\n",
       "      <th>15</th>\n",
       "      <td>14</td>\n",
       "      <td>33</td>\n",
       "    </tr>\n",
       "    <tr>\n",
       "      <th>16</th>\n",
       "      <td>15</td>\n",
       "      <td>31</td>\n",
       "    </tr>\n",
       "    <tr>\n",
       "      <th>17</th>\n",
       "      <td>16</td>\n",
       "      <td>25</td>\n",
       "    </tr>\n",
       "    <tr>\n",
       "      <th>18</th>\n",
       "      <td>17</td>\n",
       "      <td>21</td>\n",
       "    </tr>\n",
       "    <tr>\n",
       "      <th>19</th>\n",
       "      <td>18</td>\n",
       "      <td>21</td>\n",
       "    </tr>\n",
       "    <tr>\n",
       "      <th>20</th>\n",
       "      <td>19</td>\n",
       "      <td>18</td>\n",
       "    </tr>\n",
       "    <tr>\n",
       "      <th>21</th>\n",
       "      <td>20</td>\n",
       "      <td>24</td>\n",
       "    </tr>\n",
       "    <tr>\n",
       "      <th>22</th>\n",
       "      <td>21</td>\n",
       "      <td>16</td>\n",
       "    </tr>\n",
       "  </tbody>\n",
       "</table>\n",
       "</div>"
      ],
      "text/plain": [
       "    lvl  count\n",
       "0    -1     34\n",
       "1     0     27\n",
       "2     1    127\n",
       "3     2    121\n",
       "4     3     95\n",
       "5     4     82\n",
       "6     5     76\n",
       "7     6     72\n",
       "8     7     77\n",
       "9     8     68\n",
       "10    9     63\n",
       "11   10     58\n",
       "12   11     40\n",
       "13   12     41\n",
       "14   13     36\n",
       "15   14     33\n",
       "16   15     31\n",
       "17   16     25\n",
       "18   17     21\n",
       "19   18     21\n",
       "20   19     18\n",
       "21   20     24\n",
       "22   21     16"
      ]
     },
     "execution_count": 6,
     "metadata": {},
     "output_type": "execute_result"
    }
   ],
   "source": [
    "level_count = pd.DataFrame(\n",
    "    data={\n",
    "        \"lvl\": [key for key in sorted(lvl_stat.keys())],\n",
    "        \"count\": [lvl_stat.get(key) for key in sorted(lvl_stat.keys())],\n",
    "    }\n",
    ")\n",
    "level_count"
   ]
  },
  {
   "cell_type": "code",
   "execution_count": 7,
   "id": "686877dd",
   "metadata": {},
   "outputs": [
    {
     "data": {
      "image/png": "[encoded data removed]",
      "text/plain": [
       "<Figure size 432x288 with 1 Axes>"
      ]
     },
     "metadata": {
      "needs_background": "light"
     },
     "output_type": "display_data"
    }
   ],
   "source": [
    "import matplotlib.pyplot as plt\n",
    "\n",
    "\n",
    "level_count.plot.bar(x=\"lvl\", y=\"count\", title=\"Count of levels\")\n",
    "plt.show()"
   ]
  },
  {
   "cell_type": "markdown",
   "id": "3f976e4a",
   "metadata": {},
   "source": [
    "## Train test split"
   ]
  },
  {
   "cell_type": "markdown",
   "id": "eb8cec62",
   "metadata": {},
   "source": [
    "### Chronological split"
   ]
  },
  {
   "cell_type": "code",
   "execution_count": 8,
   "id": "c6c29573",
   "metadata": {},
   "outputs": [],
   "source": [
    "from training.splitting_dataset import split_dataframe\n",
    "\n",
    "\n",
    "os.chdir(\"../../../training\")\n",
    "X_train, X_test, y_train, y_test = split_dataframe(df, test_size=0.31)\n",
    "os.chdir(\"../notebooks/models/lightgbm\")"
   ]
  },
  {
   "cell_type": "code",
   "execution_count": 9,
   "id": "f6894cc0",
   "metadata": {},
   "outputs": [],
   "source": [
    "X_train = X_train.drop(columns=[\"book\"])\n",
    "X_test = X_test.drop(columns=[\"book\"])"
   ]
  },
  {
   "cell_type": "markdown",
   "id": "31a0109c",
   "metadata": {},
   "source": [
    "### Random split"
   ]
  },
  {
   "cell_type": "code",
   "execution_count": 10,
   "id": "4d3e1121",
   "metadata": {},
   "outputs": [],
   "source": [
    "(\n",
    "    X_train_random_split,\n",
    "    X_test_random_split,\n",
    "    y_train_random_split,\n",
    "    y_test_random_split,\n",
    ") = split_dataframe(df, chronological_split=False)"
   ]
  },
  {
   "cell_type": "code",
   "execution_count": 11,
   "id": "f0c2041a",
   "metadata": {},
   "outputs": [],
   "source": [
    "X_train_random_split = X_train_random_split.drop(columns=[\"book\"])\n",
    "X_test_random_split = X_test_random_split.drop(columns=[\"book\"])"
   ]
  },
  {
   "cell_type": "markdown",
   "id": "e4776792",
   "metadata": {},
   "source": [
    "## LightGBM"
   ]
  },
  {
   "cell_type": "markdown",
   "id": "3f629b2d",
   "metadata": {},
   "source": [
    "## Chronological split"
   ]
  },
  {
   "cell_type": "code",
   "execution_count": 12,
   "id": "e818a3cc",
   "metadata": {},
   "outputs": [
    {
     "name": "stdout",
     "output_type": "stream",
     "text": [
      "[LightGBM] [Warning] Auto-choosing col-wise multi-threading, the overhead of testing was 0.001141 seconds.\n",
      "You can set `force_col_wise=true` to remove the overhead.\n",
      "[LightGBM] [Info] Total Bins 379\n",
      "[LightGBM] [Info] Number of data points in the train set: 841, number of used features: 13\n",
      "[LightGBM] [Info] Start training from score 6.966706\n",
      "Training until validation scores don't improve for 5 rounds\n",
      "[LightGBM] [Warning] No further splits with positive gain, best gain: -inf\n",
      "[LightGBM] [Warning] No further splits with positive gain, best gain: -inf\n",
      "[LightGBM] [Warning] No further splits with positive gain, best gain: -inf\n",
      "[LightGBM] [Warning] No further splits with positive gain, best gain: -inf\n",
      "[LightGBM] [Warning] No further splits with positive gain, best gain: -inf\n",
      "[LightGBM] [Warning] No further splits with positive gain, best gain: -inf\n",
      "[LightGBM] [Warning] No further splits with positive gain, best gain: -inf\n",
      "[LightGBM] [Warning] No further splits with positive gain, best gain: -inf\n",
      "[LightGBM] [Warning] No further splits with positive gain, best gain: -inf\n",
      "[LightGBM] [Warning] No further splits with positive gain, best gain: -inf\n",
      "[LightGBM] [Warning] No further splits with positive gain, best gain: -inf\n",
      "[LightGBM] [Warning] No further splits with positive gain, best gain: -inf\n",
      "Early stopping, best iteration is:\n",
      "[66]\tvalid_0's l2: 0.260866\tvalid_0's l1: 0.357177\n"
     ]
    }
   ],
   "source": [
    "import lightgbm as lgb\n",
    "\n",
    "lgb_train = lgb.Dataset(X_train, y_train)\n",
    "lgb_eval = lgb.Dataset(X_test, y_test, reference=lgb_train)\n",
    "\n",
    "params = {\n",
    "    \"boosting_type\": \"gbdt\",\n",
    "    \"objective\": \"regression\",\n",
    "    \"metric\": {\"l2\", \"l1\"},\n",
    "}\n",
    "\n",
    "gbm = lgb.train(\n",
    "    params,\n",
    "    lgb_train,\n",
    "    num_boost_round=100,\n",
    "    valid_sets=lgb_eval,\n",
    "    callbacks=[lgb.early_stopping(stopping_rounds=5)],\n",
    ")"
   ]
  },
  {
   "cell_type": "code",
   "execution_count": 13,
   "id": "b2dd69b5",
   "metadata": {},
   "outputs": [],
   "source": [
    "y_pred_train = gbm.predict(X_train, num_iteration=gbm.best_iteration)\n",
    "y_pred_test = gbm.predict(X_test, num_iteration=gbm.best_iteration)"
   ]
  },
  {
   "cell_type": "code",
   "execution_count": 14,
   "id": "68b425f7",
   "metadata": {},
   "outputs": [
    {
     "name": "stdout",
     "output_type": "stream",
     "text": [
      "MSE: 0.26\n",
      "RMSE: 0.51\n",
      "MAE: 0.36\n"
     ]
    }
   ],
   "source": [
    "from sklearn.metrics import mean_squared_error, mean_absolute_error\n",
    "\n",
    "\n",
    "mse = mean_squared_error(y_test, y_pred_test)\n",
    "rmse = mean_squared_error(y_test, y_pred_test, squared=False)\n",
    "mae = mean_absolute_error(y_test, y_pred_test)\n",
    "\n",
    "print(f\"MSE: {mse:.2f}\")\n",
    "print(f\"RMSE: {rmse:.2f}\")\n",
    "print(f\"MAE: {mae:.2f}\")"
   ]
  },
  {
   "cell_type": "code",
   "execution_count": 15,
   "id": "a615e9df",
   "metadata": {},
   "outputs": [],
   "source": [
    "results = pd.DataFrame(\n",
    "    data={\n",
    "        \"Split type\": [],\n",
    "        \"Tuning type\": [],\n",
    "        \"Number of characteristics\": [],\n",
    "        \"MSE\": [],\n",
    "        \"RMSE\": [],\n",
    "        \"MAE\": [],\n",
    "    }\n",
    ")\n",
    "\n",
    "results.loc[0] = [\"chronological\", \"normal\", len(X_test.columns), mse, rmse, mae]"
   ]
  },
  {
   "cell_type": "code",
   "execution_count": 16,
   "id": "9d777b5d",
   "metadata": {},
   "outputs": [
    {
     "name": "stdout",
     "output_type": "stream",
     "text": [
      "RMSE train: 0.21\n",
      "RMSE test: 0.51\n"
     ]
    }
   ],
   "source": [
    "rmse_train = mean_squared_error(y_train, y_pred_train, squared=False)\n",
    "rmse_test = mean_squared_error(y_test, y_pred_test, squared=False)\n",
    "print(f\"RMSE train: {rmse_train:.2f}\")\n",
    "print(f\"RMSE test: {rmse_test:.2f}\")"
   ]
  },
  {
   "cell_type": "code",
   "execution_count": 17,
   "id": "4135d981",
   "metadata": {},
   "outputs": [
    {
     "name": "stdout",
     "output_type": "stream",
     "text": [
      "Normal:\n",
      "MSE: 0.26\n",
      "RMSE: 0.51\n",
      "\n",
      "Round type: round\n",
      "MSE: 0.30\n",
      "RMSE: 0.55\n",
      "\n",
      "Round type: 0.33\n",
      "MSE: 0.29\n",
      "RMSE: 0.54\n",
      "\n",
      "Round type: 0.45\n",
      "MSE: 0.29\n",
      "RMSE: 0.54\n",
      "\n"
     ]
    }
   ],
   "source": [
    "from training.results import check_round_predictions, plot_confusion_matrix\n",
    "\n",
    "\n",
    "check_round_predictions([\"round\", 0.33, 0.45], y_test, y_pred_test)"
   ]
  },
  {
   "cell_type": "code",
   "execution_count": 18,
   "id": "4741e1ec",
   "metadata": {},
   "outputs": [
    {
     "data": {
      "image/png": "[encoded data removed]",
      "text/plain": [
       "<Figure size 432x288 with 2 Axes>"
      ]
     },
     "metadata": {
      "needs_background": "light"
     },
     "output_type": "display_data"
    }
   ],
   "source": [
    "plot_confusion_matrix(\"round\", y_pred_test, y_test)"
   ]
  },
  {
   "cell_type": "markdown",
   "id": "a6b03404",
   "metadata": {},
   "source": [
    "#### Tuning"
   ]
  },
  {
   "cell_type": "code",
   "execution_count": 19,
   "id": "e7f8b7ee",
   "metadata": {},
   "outputs": [],
   "source": [
    "from training.results import assess_regression_model"
   ]
  },
  {
   "cell_type": "code",
   "execution_count": 20,
   "id": "10cd6bac",
   "metadata": {
    "scrolled": true
   },
   "outputs": [
    {
     "name": "stderr",
     "output_type": "stream",
     "text": [
      "[I 2023-10-28 21:51:20,842] A new study created in memory with name: no-name-0725cd11-bd84-4049-8b2f-1463dc894216\n",
      "feature_fraction, val_score: inf:   0%|                                                          | 0/7 [00:00<?, ?it/s]"
     ]
    },
    {
     "name": "stdout",
     "output_type": "stream",
     "text": [
      "Training until validation scores don't improve for 100 rounds\n",
      "[100]\tcv_agg's l2: 0.189409 + 0.0383375\n",
      "[200]\tcv_agg's l2: 0.186192 + 0.0363665\n",
      "[300]\tcv_agg's l2: 0.185649 + 0.0359677\n"
     ]
    },
    {
     "name": "stderr",
     "output_type": "stream",
     "text": [
      "feature_fraction, val_score: 0.185461:  14%|######4                                      | 1/7 [00:01<00:09,  1.60s/it][I 2023-10-28 21:51:22,447] Trial 0 finished with value: 0.18546092516550294 and parameters: {'feature_fraction': 1.0}. Best is trial 0 with value: 0.18546092516550294.\n",
      "feature_fraction, val_score: 0.185461:  14%|######4                                      | 1/7 [00:01<00:09,  1.60s/it]"
     ]
    },
    {
     "name": "stdout",
     "output_type": "stream",
     "text": [
      "Early stopping, best iteration is:\n",
      "[260]\tcv_agg's l2: 0.185461 + 0.0359196\n",
      "[100]\tcv_agg's l2: 0.179259 + 0.0419818\n",
      "[200]\tcv_agg's l2: 0.178337 + 0.0421037\n",
      "[300]\tcv_agg's l2: 0.177652 + 0.0403507\n"
     ]
    },
    {
     "name": "stderr",
     "output_type": "stream",
     "text": [
      "feature_fraction, val_score: 0.177386:  29%|############8                                | 2/7 [00:03<00:09,  1.90s/it][I 2023-10-28 21:51:24,556] Trial 1 finished with value: 0.177385847298816 and parameters: {'feature_fraction': 0.8}. Best is trial 1 with value: 0.177385847298816.\n",
      "feature_fraction, val_score: 0.177386:  29%|############8                                | 2/7 [00:03<00:09,  1.90s/it]"
     ]
    },
    {
     "name": "stdout",
     "output_type": "stream",
     "text": [
      "Early stopping, best iteration is:\n",
      "[282]\tcv_agg's l2: 0.177386 + 0.0405247\n",
      "[100]\tcv_agg's l2: 0.16051 + 0.021731\n",
      "[200]\tcv_agg's l2: 0.158381 + 0.019451\n"
     ]
    },
    {
     "name": "stderr",
     "output_type": "stream",
     "text": [
      "feature_fraction, val_score: 0.157705:  43%|###################2                         | 3/7 [00:05<00:07,  1.78s/it][I 2023-10-28 21:51:26,184] Trial 2 finished with value: 0.15770503737500946 and parameters: {'feature_fraction': 0.4}. Best is trial 2 with value: 0.15770503737500946.\n",
      "feature_fraction, val_score: 0.157705:  43%|###################2                         | 3/7 [00:05<00:07,  1.78s/it]"
     ]
    },
    {
     "name": "stdout",
     "output_type": "stream",
     "text": [
      "Early stopping, best iteration is:\n",
      "[150]\tcv_agg's l2: 0.157705 + 0.019783\n",
      "[100]\tcv_agg's l2: 0.168881 + 0.0320895\n",
      "[200]\tcv_agg's l2: 0.164195 + 0.0281335\n"
     ]
    },
    {
     "name": "stderr",
     "output_type": "stream",
     "text": [
      "feature_fraction, val_score: 0.157705:  57%|#########################7                   | 4/7 [00:06<00:04,  1.64s/it][I 2023-10-28 21:51:27,604] Trial 3 finished with value: 0.16535575734571462 and parameters: {'feature_fraction': 0.5}. Best is trial 2 with value: 0.15770503737500946.\n",
      "feature_fraction, val_score: 0.157705:  57%|#########################7                   | 4/7 [00:06<00:04,  1.64s/it]"
     ]
    },
    {
     "name": "stdout",
     "output_type": "stream",
     "text": [
      "Early stopping, best iteration is:\n",
      "[150]\tcv_agg's l2: 0.157705 + 0.019783\n",
      "[100]\tcv_agg's l2: 0.181203 + 0.0430548\n",
      "[200]\tcv_agg's l2: 0.177706 + 0.0402042\n"
     ]
    },
    {
     "name": "stderr",
     "output_type": "stream",
     "text": [
      "feature_fraction, val_score: 0.157705:  71%|################################1            | 5/7 [00:09<00:03,  1.98s/it][I 2023-10-28 21:51:30,204] Trial 4 finished with value: 0.1786193537388153 and parameters: {'feature_fraction': 0.7}. Best is trial 2 with value: 0.15770503737500946.\n",
      "feature_fraction, val_score: 0.157705:  71%|################################1            | 5/7 [00:09<00:03,  1.98s/it]"
     ]
    },
    {
     "name": "stdout",
     "output_type": "stream",
     "text": [
      "Early stopping, best iteration is:\n",
      "[150]\tcv_agg's l2: 0.157705 + 0.019783\n",
      "[100]\tcv_agg's l2: 0.181768 + 0.043427\n",
      "[200]\tcv_agg's l2: 0.179286 + 0.0409861\n"
     ]
    },
    {
     "name": "stderr",
     "output_type": "stream",
     "text": [
      "feature_fraction, val_score: 0.157705:  86%|######################################5      | 6/7 [00:12<00:02,  2.40s/it][I 2023-10-28 21:51:33,400] Trial 5 finished with value: 0.17962964458536076 and parameters: {'feature_fraction': 0.8999999999999999}. Best is trial 2 with value: 0.15770503737500946.\n",
      "feature_fraction, val_score: 0.157705:  86%|######################################5      | 6/7 [00:12<00:02,  2.40s/it]"
     ]
    },
    {
     "name": "stdout",
     "output_type": "stream",
     "text": [
      "Early stopping, best iteration is:\n",
      "[150]\tcv_agg's l2: 0.157705 + 0.019783\n",
      "[100]\tcv_agg's l2: 0.174038 + 0.0436248\n",
      "[200]\tcv_agg's l2: 0.171576 + 0.0406042\n"
     ]
    },
    {
     "name": "stderr",
     "output_type": "stream",
     "text": [
      "feature_fraction, val_score: 0.157705: 100%|#############################################| 7/7 [00:15<00:00,  2.45s/it][I 2023-10-28 21:51:35,974] Trial 6 finished with value: 0.17184724742226198 and parameters: {'feature_fraction': 0.6}. Best is trial 2 with value: 0.15770503737500946.\n",
      "feature_fraction, val_score: 0.157705: 100%|#############################################| 7/7 [00:15<00:00,  2.16s/it]\n"
     ]
    },
    {
     "name": "stdout",
     "output_type": "stream",
     "text": [
      "Early stopping, best iteration is:\n",
      "[150]\tcv_agg's l2: 0.157705 + 0.019783\n"
     ]
    },
    {
     "name": "stderr",
     "output_type": "stream",
     "text": [
      "num_leaves, val_score: 0.157705:   0%|                                                          | 0/20 [00:00<?, ?it/s]"
     ]
    },
    {
     "name": "stdout",
     "output_type": "stream",
     "text": [
      "[100]\tcv_agg's l2: 0.16051 + 0.021731\n",
      "[200]\tcv_agg's l2: 0.158381 + 0.019451\n"
     ]
    },
    {
     "name": "stderr",
     "output_type": "stream",
     "text": [
      "num_leaves, val_score: 0.157705:   5%|##5                                               | 1/20 [00:02<00:44,  2.35s/it][I 2023-10-28 21:51:38,331] Trial 7 finished with value: 0.15770503737500946 and parameters: {'num_leaves': 180}. Best is trial 7 with value: 0.15770503737500946.\n",
      "num_leaves, val_score: 0.157705:   5%|##5                                               | 1/20 [00:02<00:44,  2.35s/it]"
     ]
    },
    {
     "name": "stdout",
     "output_type": "stream",
     "text": [
      "Early stopping, best iteration is:\n",
      "[150]\tcv_agg's l2: 0.157705 + 0.019783\n",
      "[100]\tcv_agg's l2: 0.16051 + 0.021731\n",
      "[200]\tcv_agg's l2: 0.158381 + 0.019451\n"
     ]
    },
    {
     "name": "stderr",
     "output_type": "stream",
     "text": [
      "num_leaves, val_score: 0.157705:  10%|#####                                             | 2/20 [00:04<00:43,  2.43s/it][I 2023-10-28 21:51:40,824] Trial 8 finished with value: 0.15770503737500946 and parameters: {'num_leaves': 181}. Best is trial 7 with value: 0.15770503737500946.\n",
      "num_leaves, val_score: 0.157705:  10%|#####                                             | 2/20 [00:04<00:43,  2.43s/it]"
     ]
    },
    {
     "name": "stdout",
     "output_type": "stream",
     "text": [
      "Early stopping, best iteration is:\n",
      "[150]\tcv_agg's l2: 0.157705 + 0.019783\n",
      "[100]\tcv_agg's l2: 0.16051 + 0.021731\n",
      "[200]\tcv_agg's l2: 0.158381 + 0.019451\n"
     ]
    },
    {
     "name": "stderr",
     "output_type": "stream",
     "text": [
      "num_leaves, val_score: 0.157705:  15%|#######5                                          | 3/20 [00:07<00:41,  2.46s/it][I 2023-10-28 21:51:43,316] Trial 9 finished with value: 0.15770503737500946 and parameters: {'num_leaves': 70}. Best is trial 7 with value: 0.15770503737500946.\n",
      "num_leaves, val_score: 0.157705:  15%|#######5                                          | 3/20 [00:07<00:41,  2.46s/it]"
     ]
    },
    {
     "name": "stdout",
     "output_type": "stream",
     "text": [
      "Early stopping, best iteration is:\n",
      "[150]\tcv_agg's l2: 0.157705 + 0.019783\n",
      "[100]\tcv_agg's l2: 0.163143 + 0.0206193\n",
      "[200]\tcv_agg's l2: 0.16006 + 0.019421\n"
     ]
    },
    {
     "name": "stderr",
     "output_type": "stream",
     "text": [
      "num_leaves, val_score: 0.157705:  20%|##########                                        | 4/20 [00:09<00:40,  2.51s/it][I 2023-10-28 21:51:45,891] Trial 10 finished with value: 0.15999442644669476 and parameters: {'num_leaves': 19}. Best is trial 7 with value: 0.15770503737500946.\n",
      "num_leaves, val_score: 0.157705:  20%|##########                                        | 4/20 [00:09<00:40,  2.51s/it]"
     ]
    },
    {
     "name": "stdout",
     "output_type": "stream",
     "text": [
      "Early stopping, best iteration is:\n",
      "[150]\tcv_agg's l2: 0.157705 + 0.019783\n",
      "[100]\tcv_agg's l2: 0.16051 + 0.021731\n",
      "[200]\tcv_agg's l2: 0.158381 + 0.019451\n"
     ]
    },
    {
     "name": "stderr",
     "output_type": "stream",
     "text": [
      "num_leaves, val_score: 0.157705:  25%|############5                                     | 5/20 [00:12<00:38,  2.60s/it][I 2023-10-28 21:51:48,655] Trial 11 finished with value: 0.15770503737500946 and parameters: {'num_leaves': 248}. Best is trial 7 with value: 0.15770503737500946.\n",
      "num_leaves, val_score: 0.157705:  25%|############5                                     | 5/20 [00:12<00:38,  2.60s/it]"
     ]
    },
    {
     "name": "stdout",
     "output_type": "stream",
     "text": [
      "Early stopping, best iteration is:\n",
      "[150]\tcv_agg's l2: 0.157705 + 0.019783\n",
      "[100]\tcv_agg's l2: 0.16051 + 0.021731\n",
      "[200]\tcv_agg's l2: 0.158381 + 0.019451\n"
     ]
    },
    {
     "name": "stderr",
     "output_type": "stream",
     "text": [
      "num_leaves, val_score: 0.157705:  30%|###############                                   | 6/20 [00:15<00:36,  2.59s/it][I 2023-10-28 21:51:51,230] Trial 12 finished with value: 0.15770503737500946 and parameters: {'num_leaves': 155}. Best is trial 7 with value: 0.15770503737500946.\n",
      "num_leaves, val_score: 0.157705:  30%|###############                                   | 6/20 [00:15<00:36,  2.59s/it]"
     ]
    },
    {
     "name": "stdout",
     "output_type": "stream",
     "text": [
      "Early stopping, best iteration is:\n",
      "[150]\tcv_agg's l2: 0.157705 + 0.019783\n",
      "[100]\tcv_agg's l2: 0.16051 + 0.021731\n",
      "[200]\tcv_agg's l2: 0.158381 + 0.019451\n"
     ]
    },
    {
     "name": "stderr",
     "output_type": "stream",
     "text": [
      "num_leaves, val_score: 0.157705:  35%|#################5                                | 7/20 [00:17<00:33,  2.55s/it][I 2023-10-28 21:51:53,699] Trial 13 finished with value: 0.15770503737500946 and parameters: {'num_leaves': 235}. Best is trial 7 with value: 0.15770503737500946.\n",
      "num_leaves, val_score: 0.157705:  35%|#################5                                | 7/20 [00:17<00:33,  2.55s/it]"
     ]
    },
    {
     "name": "stdout",
     "output_type": "stream",
     "text": [
      "Early stopping, best iteration is:\n",
      "[150]\tcv_agg's l2: 0.157705 + 0.019783\n",
      "[100]\tcv_agg's l2: 0.16051 + 0.021731\n",
      "[200]\tcv_agg's l2: 0.158381 + 0.019451\n"
     ]
    },
    {
     "name": "stderr",
     "output_type": "stream",
     "text": [
      "num_leaves, val_score: 0.157705:  40%|####################                              | 8/20 [00:19<00:29,  2.46s/it][I 2023-10-28 21:51:55,959] Trial 14 finished with value: 0.15770503737500946 and parameters: {'num_leaves': 111}. Best is trial 7 with value: 0.15770503737500946.\n",
      "num_leaves, val_score: 0.157705:  40%|####################                              | 8/20 [00:19<00:29,  2.46s/it]"
     ]
    },
    {
     "name": "stdout",
     "output_type": "stream",
     "text": [
      "Early stopping, best iteration is:\n",
      "[150]\tcv_agg's l2: 0.157705 + 0.019783\n",
      "[100]\tcv_agg's l2: 0.16051 + 0.021731\n",
      "[200]\tcv_agg's l2: 0.158381 + 0.019451\n"
     ]
    },
    {
     "name": "stderr",
     "output_type": "stream",
     "text": [
      "num_leaves, val_score: 0.157705:  45%|######################5                           | 9/20 [00:22<00:26,  2.44s/it][I 2023-10-28 21:51:58,371] Trial 15 finished with value: 0.15770503737500946 and parameters: {'num_leaves': 200}. Best is trial 7 with value: 0.15770503737500946.\n",
      "num_leaves, val_score: 0.157705:  45%|######################5                           | 9/20 [00:22<00:26,  2.44s/it]"
     ]
    },
    {
     "name": "stdout",
     "output_type": "stream",
     "text": [
      "Early stopping, best iteration is:\n",
      "[150]\tcv_agg's l2: 0.157705 + 0.019783\n",
      "[100]\tcv_agg's l2: 0.16051 + 0.021731\n",
      "[200]\tcv_agg's l2: 0.158381 + 0.019451\n"
     ]
    },
    {
     "name": "stderr",
     "output_type": "stream",
     "text": [
      "num_leaves, val_score: 0.157705:  50%|########################5                        | 10/20 [00:24<00:24,  2.44s/it][I 2023-10-28 21:52:00,799] Trial 16 finished with value: 0.15770503737500946 and parameters: {'num_leaves': 121}. Best is trial 7 with value: 0.15770503737500946.\n",
      "num_leaves, val_score: 0.157705:  50%|########################5                        | 10/20 [00:24<00:24,  2.44s/it]"
     ]
    },
    {
     "name": "stdout",
     "output_type": "stream",
     "text": [
      "Early stopping, best iteration is:\n",
      "[150]\tcv_agg's l2: 0.157705 + 0.019783\n",
      "[100]\tcv_agg's l2: 0.16051 + 0.021731\n",
      "[200]\tcv_agg's l2: 0.158381 + 0.019451\n"
     ]
    },
    {
     "name": "stderr",
     "output_type": "stream",
     "text": [
      "num_leaves, val_score: 0.157705:  55%|##########################9                      | 11/20 [00:28<00:25,  2.86s/it][I 2023-10-28 21:52:04,617] Trial 17 finished with value: 0.15770503737500946 and parameters: {'num_leaves': 80}. Best is trial 7 with value: 0.15770503737500946.\n",
      "num_leaves, val_score: 0.157705:  55%|##########################9                      | 11/20 [00:28<00:25,  2.86s/it]"
     ]
    },
    {
     "name": "stdout",
     "output_type": "stream",
     "text": [
      "Early stopping, best iteration is:\n",
      "[150]\tcv_agg's l2: 0.157705 + 0.019783\n",
      "[100]\tcv_agg's l2: 0.16051 + 0.021731\n",
      "[200]\tcv_agg's l2: 0.158381 + 0.019451\n"
     ]
    },
    {
     "name": "stderr",
     "output_type": "stream",
     "text": [
      "num_leaves, val_score: 0.157705:  60%|#############################4                   | 12/20 [00:31<00:22,  2.82s/it][I 2023-10-28 21:52:07,350] Trial 18 finished with value: 0.15770503737500946 and parameters: {'num_leaves': 197}. Best is trial 7 with value: 0.15770503737500946.\n",
      "num_leaves, val_score: 0.157705:  60%|#############################4                   | 12/20 [00:31<00:22,  2.82s/it]"
     ]
    },
    {
     "name": "stdout",
     "output_type": "stream",
     "text": [
      "Early stopping, best iteration is:\n",
      "[150]\tcv_agg's l2: 0.157705 + 0.019783\n",
      "[100]\tcv_agg's l2: 0.201234 + 0.022547\n"
     ]
    },
    {
     "name": "stderr",
     "output_type": "stream",
     "text": [
      "\r",
      "num_leaves, val_score: 0.157705:  60%|#############################4                   | 12/20 [00:32<00:22,  2.82s/it]"
     ]
    },
    {
     "name": "stdout",
     "output_type": "stream",
     "text": [
      "[200]\tcv_agg's l2: 0.179851 + 0.0196647\n",
      "Early stopping, best iteration is:\n",
      "[150]\tcv_agg's l2: 0.157705 + 0.019783\n"
     ]
    },
    {
     "name": "stderr",
     "output_type": "stream",
     "text": [
      "num_leaves, val_score: 0.157705:  65%|###############################8                 | 13/20 [00:32<00:15,  2.19s/it][I 2023-10-28 21:52:08,113] Trial 19 finished with value: 0.1867561353052522 and parameters: {'num_leaves': 5}. Best is trial 7 with value: 0.15770503737500946.\n",
      "num_leaves, val_score: 0.157705:  65%|###############################8                 | 13/20 [00:32<00:15,  2.19s/it]"
     ]
    },
    {
     "name": "stdout",
     "output_type": "stream",
     "text": [
      "[100]\tcv_agg's l2: 0.16051 + 0.021731\n",
      "[200]\tcv_agg's l2: 0.158381 + 0.019451\n"
     ]
    },
    {
     "name": "stderr",
     "output_type": "stream",
     "text": [
      "num_leaves, val_score: 0.157705:  70%|##################################3              | 14/20 [00:34<00:13,  2.26s/it][I 2023-10-28 21:52:10,513] Trial 20 finished with value: 0.15770503737500946 and parameters: {'num_leaves': 159}. Best is trial 7 with value: 0.15770503737500946.\n",
      "num_leaves, val_score: 0.157705:  70%|##################################3              | 14/20 [00:34<00:13,  2.26s/it]"
     ]
    },
    {
     "name": "stdout",
     "output_type": "stream",
     "text": [
      "Early stopping, best iteration is:\n",
      "[150]\tcv_agg's l2: 0.157705 + 0.019783\n",
      "[100]\tcv_agg's l2: 0.16051 + 0.021731\n",
      "[200]\tcv_agg's l2: 0.158381 + 0.019451\n"
     ]
    },
    {
     "name": "stderr",
     "output_type": "stream",
     "text": [
      "num_leaves, val_score: 0.157705:  75%|####################################7            | 15/20 [00:36<00:11,  2.30s/it][I 2023-10-28 21:52:12,900] Trial 21 finished with value: 0.15770503737500946 and parameters: {'num_leaves': 171}. Best is trial 7 with value: 0.15770503737500946.\n",
      "num_leaves, val_score: 0.157705:  75%|####################################7            | 15/20 [00:36<00:11,  2.30s/it]"
     ]
    },
    {
     "name": "stdout",
     "output_type": "stream",
     "text": [
      "Early stopping, best iteration is:\n",
      "[150]\tcv_agg's l2: 0.157705 + 0.019783\n",
      "[100]\tcv_agg's l2: 0.16051 + 0.021731\n",
      "[200]\tcv_agg's l2: 0.158381 + 0.019451\n"
     ]
    },
    {
     "name": "stderr",
     "output_type": "stream",
     "text": [
      "num_leaves, val_score: 0.157705:  80%|#######################################2         | 16/20 [00:39<00:09,  2.36s/it][I 2023-10-28 21:52:15,412] Trial 22 finished with value: 0.15770503737500946 and parameters: {'num_leaves': 206}. Best is trial 7 with value: 0.15770503737500946.\n",
      "num_leaves, val_score: 0.157705:  80%|#######################################2         | 16/20 [00:39<00:09,  2.36s/it]"
     ]
    },
    {
     "name": "stdout",
     "output_type": "stream",
     "text": [
      "Early stopping, best iteration is:\n",
      "[150]\tcv_agg's l2: 0.157705 + 0.019783\n",
      "[100]\tcv_agg's l2: 0.16051 + 0.021731\n",
      "[200]\tcv_agg's l2: 0.158381 + 0.019451\n"
     ]
    },
    {
     "name": "stderr",
     "output_type": "stream",
     "text": [
      "num_leaves, val_score: 0.157705:  85%|#########################################6       | 17/20 [00:41<00:07,  2.38s/it][I 2023-10-28 21:52:17,843] Trial 23 finished with value: 0.15770503737500946 and parameters: {'num_leaves': 222}. Best is trial 7 with value: 0.15770503737500946.\n",
      "num_leaves, val_score: 0.157705:  85%|#########################################6       | 17/20 [00:41<00:07,  2.38s/it]"
     ]
    },
    {
     "name": "stdout",
     "output_type": "stream",
     "text": [
      "Early stopping, best iteration is:\n",
      "[150]\tcv_agg's l2: 0.157705 + 0.019783\n",
      "[100]\tcv_agg's l2: 0.16051 + 0.021731\n",
      "[200]\tcv_agg's l2: 0.158381 + 0.019451\n"
     ]
    },
    {
     "name": "stderr",
     "output_type": "stream",
     "text": [
      "num_leaves, val_score: 0.157705:  90%|############################################1    | 18/20 [00:44<00:04,  2.37s/it][I 2023-10-28 21:52:20,165] Trial 24 finished with value: 0.15770503737500946 and parameters: {'num_leaves': 178}. Best is trial 7 with value: 0.15770503737500946.\n",
      "num_leaves, val_score: 0.157705:  90%|############################################1    | 18/20 [00:44<00:04,  2.37s/it]"
     ]
    },
    {
     "name": "stdout",
     "output_type": "stream",
     "text": [
      "Early stopping, best iteration is:\n",
      "[150]\tcv_agg's l2: 0.157705 + 0.019783\n",
      "[100]\tcv_agg's l2: 0.16051 + 0.021731\n",
      "[200]\tcv_agg's l2: 0.158381 + 0.019451\n"
     ]
    },
    {
     "name": "stderr",
     "output_type": "stream",
     "text": [
      "num_leaves, val_score: 0.157705:  95%|##############################################5  | 19/20 [00:46<00:02,  2.35s/it][I 2023-10-28 21:52:22,466] Trial 25 finished with value: 0.15770503737500946 and parameters: {'num_leaves': 138}. Best is trial 7 with value: 0.15770503737500946.\n",
      "num_leaves, val_score: 0.157705:  95%|##############################################5  | 19/20 [00:46<00:02,  2.35s/it]"
     ]
    },
    {
     "name": "stdout",
     "output_type": "stream",
     "text": [
      "Early stopping, best iteration is:\n",
      "[150]\tcv_agg's l2: 0.157705 + 0.019783\n",
      "[100]\tcv_agg's l2: 0.16051 + 0.021731\n",
      "[200]\tcv_agg's l2: 0.158381 + 0.019451\n"
     ]
    },
    {
     "name": "stderr",
     "output_type": "stream",
     "text": [
      "num_leaves, val_score: 0.157705: 100%|#################################################| 20/20 [00:48<00:00,  2.39s/it][I 2023-10-28 21:52:24,969] Trial 26 finished with value: 0.15770503737500946 and parameters: {'num_leaves': 90}. Best is trial 7 with value: 0.15770503737500946.\n",
      "num_leaves, val_score: 0.157705: 100%|#################################################| 20/20 [00:48<00:00,  2.45s/it]\n"
     ]
    },
    {
     "name": "stdout",
     "output_type": "stream",
     "text": [
      "Early stopping, best iteration is:\n",
      "[150]\tcv_agg's l2: 0.157705 + 0.019783\n"
     ]
    },
    {
     "name": "stderr",
     "output_type": "stream",
     "text": [
      "bagging, val_score: 0.157705:   0%|                                                             | 0/10 [00:00<?, ?it/s]"
     ]
    },
    {
     "name": "stdout",
     "output_type": "stream",
     "text": [
      "[100]\tcv_agg's l2: 0.165695 + 0.0264598\n",
      "[200]\tcv_agg's l2: 0.161519 + 0.0204206\n"
     ]
    },
    {
     "name": "stderr",
     "output_type": "stream",
     "text": [
      "bagging, val_score: 0.157705:  10%|#####3                                               | 1/10 [00:02<00:20,  2.24s/it][I 2023-10-28 21:52:27,221] Trial 27 finished with value: 0.1627543191270793 and parameters: {'bagging_fraction': 0.8409467630905616, 'bagging_freq': 3}. Best is trial 27 with value: 0.1627543191270793.\n",
      "bagging, val_score: 0.157705:  10%|#####3                                               | 1/10 [00:02<00:20,  2.24s/it]"
     ]
    },
    {
     "name": "stdout",
     "output_type": "stream",
     "text": [
      "Early stopping, best iteration is:\n",
      "[150]\tcv_agg's l2: 0.157705 + 0.019783\n",
      "[100]\tcv_agg's l2: 0.237881 + 0.0295041\n",
      "[200]\tcv_agg's l2: 0.216259 + 0.0273084\n"
     ]
    },
    {
     "name": "stderr",
     "output_type": "stream",
     "text": [
      "bagging, val_score: 0.157705:  20%|##########6                                          | 2/10 [00:03<00:13,  1.69s/it][I 2023-10-28 21:52:28,518] Trial 28 finished with value: 0.22322448690942007 and parameters: {'bagging_fraction': 0.4085857566446327, 'bagging_freq': 7}. Best is trial 27 with value: 0.1627543191270793.\n",
      "bagging, val_score: 0.157705:  20%|##########6                                          | 2/10 [00:03<00:13,  1.69s/it]"
     ]
    },
    {
     "name": "stdout",
     "output_type": "stream",
     "text": [
      "Early stopping, best iteration is:\n",
      "[150]\tcv_agg's l2: 0.157705 + 0.019783\n",
      "[100]\tcv_agg's l2: 0.162785 + 0.0215549\n",
      "[200]\tcv_agg's l2: 0.160313 + 0.0212381\n"
     ]
    },
    {
     "name": "stderr",
     "output_type": "stream",
     "text": [
      "bagging, val_score: 0.157705:  30%|###############9                                     | 3/10 [00:05<00:14,  2.02s/it][I 2023-10-28 21:52:30,934] Trial 29 finished with value: 0.1601912984255253 and parameters: {'bagging_fraction': 0.9837382142676574, 'bagging_freq': 1}. Best is trial 29 with value: 0.1601912984255253.\n",
      "bagging, val_score: 0.157705:  30%|###############9                                     | 3/10 [00:05<00:14,  2.02s/it]"
     ]
    },
    {
     "name": "stdout",
     "output_type": "stream",
     "text": [
      "Early stopping, best iteration is:\n",
      "[150]\tcv_agg's l2: 0.157705 + 0.019783\n",
      "[100]\tcv_agg's l2: 0.18369 + 0.0149378\n",
      "[200]\tcv_agg's l2: 0.177177 + 0.0143085\n"
     ]
    },
    {
     "name": "stderr",
     "output_type": "stream",
     "text": [
      "bagging, val_score: 0.157705:  40%|#####################2                               | 4/10 [00:07<00:11,  1.87s/it][I 2023-10-28 21:52:32,576] Trial 30 finished with value: 0.1804074365718955 and parameters: {'bagging_fraction': 0.6087439474034548, 'bagging_freq': 7}. Best is trial 29 with value: 0.1601912984255253.\n",
      "bagging, val_score: 0.157705:  40%|#####################2                               | 4/10 [00:07<00:11,  1.87s/it]"
     ]
    },
    {
     "name": "stdout",
     "output_type": "stream",
     "text": [
      "Early stopping, best iteration is:\n",
      "[150]\tcv_agg's l2: 0.157705 + 0.019783\n",
      "[100]\tcv_agg's l2: 0.18807 + 0.0280598\n",
      "[200]\tcv_agg's l2: 0.18194 + 0.0209182\n"
     ]
    },
    {
     "name": "stderr",
     "output_type": "stream",
     "text": [
      "bagging, val_score: 0.157705:  50%|##########################5                          | 5/10 [00:09<00:09,  1.86s/it][I 2023-10-28 21:52:34,410] Trial 31 finished with value: 0.18294060709106433 and parameters: {'bagging_fraction': 0.6786104708318309, 'bagging_freq': 4}. Best is trial 29 with value: 0.1601912984255253.\n",
      "bagging, val_score: 0.157705:  50%|##########################5                          | 5/10 [00:09<00:09,  1.86s/it]"
     ]
    },
    {
     "name": "stdout",
     "output_type": "stream",
     "text": [
      "Early stopping, best iteration is:\n",
      "[150]\tcv_agg's l2: 0.157705 + 0.019783\n",
      "[100]\tcv_agg's l2: 0.223102 + 0.0349186\n",
      "[200]\tcv_agg's l2: 0.209785 + 0.0344487\n"
     ]
    },
    {
     "name": "stderr",
     "output_type": "stream",
     "text": [
      "bagging, val_score: 0.157705:  60%|###############################8                     | 6/10 [00:10<00:06,  1.69s/it][I 2023-10-28 21:52:35,789] Trial 32 finished with value: 0.21541024596589936 and parameters: {'bagging_fraction': 0.402757604669753, 'bagging_freq': 1}. Best is trial 29 with value: 0.1601912984255253.\n",
      "bagging, val_score: 0.157705:  60%|###############################8                     | 6/10 [00:10<00:06,  1.69s/it]"
     ]
    },
    {
     "name": "stdout",
     "output_type": "stream",
     "text": [
      "Early stopping, best iteration is:\n",
      "[150]\tcv_agg's l2: 0.157705 + 0.019783\n",
      "[100]\tcv_agg's l2: 0.160122 + 0.0231327\n",
      "[200]\tcv_agg's l2: 0.157167 + 0.0197807\n"
     ]
    },
    {
     "name": "stderr",
     "output_type": "stream",
     "text": [
      "bagging, val_score: 0.156947:  70%|#####################################                | 7/10 [00:13<00:06,  2.10s/it][I 2023-10-28 21:52:38,726] Trial 33 finished with value: 0.1569469662295957 and parameters: {'bagging_fraction': 0.9815300589765639, 'bagging_freq': 5}. Best is trial 33 with value: 0.1569469662295957.\n",
      "bagging, val_score: 0.156947:  70%|#####################################                | 7/10 [00:13<00:06,  2.10s/it]"
     ]
    },
    {
     "name": "stdout",
     "output_type": "stream",
     "text": [
      "Early stopping, best iteration is:\n",
      "[192]\tcv_agg's l2: 0.156947 + 0.0194823\n",
      "[100]\tcv_agg's l2: 0.162375 + 0.0226863\n",
      "[200]\tcv_agg's l2: 0.159695 + 0.0202617\n"
     ]
    },
    {
     "name": "stderr",
     "output_type": "stream",
     "text": [
      "bagging, val_score: 0.156947:  80%|##########################################4          | 8/10 [00:16<00:04,  2.32s/it][I 2023-10-28 21:52:41,509] Trial 34 finished with value: 0.15997985610906662 and parameters: {'bagging_fraction': 0.9598504167305695, 'bagging_freq': 5}. Best is trial 33 with value: 0.1569469662295957.\n",
      "bagging, val_score: 0.156947:  80%|##########################################4          | 8/10 [00:16<00:04,  2.32s/it]"
     ]
    },
    {
     "name": "stdout",
     "output_type": "stream",
     "text": [
      "Early stopping, best iteration is:\n",
      "[192]\tcv_agg's l2: 0.156947 + 0.0194823\n",
      "[100]\tcv_agg's l2: 0.171943 + 0.0259356\n",
      "[200]\tcv_agg's l2: 0.165842 + 0.0210057\n"
     ]
    },
    {
     "name": "stderr",
     "output_type": "stream",
     "text": [
      "bagging, val_score: 0.156947:  90%|###############################################7     | 9/10 [00:19<00:02,  2.38s/it][I 2023-10-28 21:52:44,031] Trial 35 finished with value: 0.1664538509424094 and parameters: {'bagging_fraction': 0.823641904250423, 'bagging_freq': 5}. Best is trial 33 with value: 0.1569469662295957.\n",
      "bagging, val_score: 0.156947:  90%|###############################################7     | 9/10 [00:19<00:02,  2.38s/it]"
     ]
    },
    {
     "name": "stdout",
     "output_type": "stream",
     "text": [
      "Early stopping, best iteration is:\n",
      "[192]\tcv_agg's l2: 0.156947 + 0.0194823\n",
      "[100]\tcv_agg's l2: 0.16522 + 0.0235808\n",
      "[200]\tcv_agg's l2: 0.160992 + 0.0221582\n"
     ]
    },
    {
     "name": "stderr",
     "output_type": "stream",
     "text": [
      "bagging, val_score: 0.156947: 100%|####################################################| 10/10 [00:21<00:00,  2.56s/it][I 2023-10-28 21:52:46,976] Trial 36 finished with value: 0.1610406337404366 and parameters: {'bagging_fraction': 0.9972310936286635, 'bagging_freq': 3}. Best is trial 33 with value: 0.1569469662295957.\n",
      "bagging, val_score: 0.156947: 100%|####################################################| 10/10 [00:22<00:00,  2.20s/it]\n"
     ]
    },
    {
     "name": "stdout",
     "output_type": "stream",
     "text": [
      "Early stopping, best iteration is:\n",
      "[192]\tcv_agg's l2: 0.156947 + 0.0194823\n"
     ]
    },
    {
     "name": "stderr",
     "output_type": "stream",
     "text": [
      "feature_fraction_stage2, val_score: 0.156947:   0%|                                              | 0/3 [00:00<?, ?it/s]"
     ]
    },
    {
     "name": "stdout",
     "output_type": "stream",
     "text": [
      "[100]\tcv_agg's l2: 0.160122 + 0.0231327\n",
      "[200]\tcv_agg's l2: 0.157167 + 0.0197807\n"
     ]
    },
    {
     "name": "stderr",
     "output_type": "stream",
     "text": [
      "feature_fraction_stage2, val_score: 0.156947:  33%|############6                         | 1/3 [00:02<00:05,  2.84s/it][I 2023-10-28 21:52:49,825] Trial 37 finished with value: 0.1569469662295957 and parameters: {'feature_fraction': 0.41600000000000004}. Best is trial 37 with value: 0.1569469662295957.\n",
      "feature_fraction_stage2, val_score: 0.156947:  33%|############6                         | 1/3 [00:02<00:05,  2.84s/it]"
     ]
    },
    {
     "name": "stdout",
     "output_type": "stream",
     "text": [
      "Early stopping, best iteration is:\n",
      "[192]\tcv_agg's l2: 0.156947 + 0.0194823\n",
      "[100]\tcv_agg's l2: 0.171527 + 0.0279954\n",
      "[200]\tcv_agg's l2: 0.16837 + 0.0242488\n"
     ]
    },
    {
     "name": "stderr",
     "output_type": "stream",
     "text": [
      "feature_fraction_stage2, val_score: 0.156947:  67%|#########################3            | 2/3 [00:05<00:02,  2.85s/it][I 2023-10-28 21:52:52,679] Trial 38 finished with value: 0.1684139086657082 and parameters: {'feature_fraction': 0.44800000000000006}. Best is trial 37 with value: 0.1569469662295957.\n",
      "feature_fraction_stage2, val_score: 0.156947:  67%|#########################3            | 2/3 [00:05<00:02,  2.85s/it]"
     ]
    },
    {
     "name": "stdout",
     "output_type": "stream",
     "text": [
      "Early stopping, best iteration is:\n",
      "[192]\tcv_agg's l2: 0.156947 + 0.0194823\n",
      "[100]\tcv_agg's l2: 0.171527 + 0.0279954\n",
      "[200]\tcv_agg's l2: 0.16837 + 0.0242488\n"
     ]
    },
    {
     "name": "stderr",
     "output_type": "stream",
     "text": [
      "feature_fraction_stage2, val_score: 0.156947: 100%|######################################| 3/3 [00:08<00:00,  2.91s/it][I 2023-10-28 21:52:55,672] Trial 39 finished with value: 0.1684139086657082 and parameters: {'feature_fraction': 0.48000000000000004}. Best is trial 37 with value: 0.1569469662295957.\n",
      "feature_fraction_stage2, val_score: 0.156947: 100%|######################################| 3/3 [00:08<00:00,  2.90s/it]\n"
     ]
    },
    {
     "name": "stdout",
     "output_type": "stream",
     "text": [
      "Early stopping, best iteration is:\n",
      "[192]\tcv_agg's l2: 0.156947 + 0.0194823\n"
     ]
    },
    {
     "name": "stderr",
     "output_type": "stream",
     "text": [
      "regularization_factors, val_score: 0.156947:   0%|                                              | 0/20 [00:00<?, ?it/s]"
     ]
    },
    {
     "name": "stdout",
     "output_type": "stream",
     "text": [
      "[100]\tcv_agg's l2: 0.161674 + 0.0227722\n",
      "[200]\tcv_agg's l2: 0.158848 + 0.0206252\n"
     ]
    },
    {
     "name": "stderr",
     "output_type": "stream",
     "text": [
      "regularization_factors, val_score: 0.156947:   5%|#9                                    | 1/20 [00:02<00:53,  2.81s/it][I 2023-10-28 21:52:58,492] Trial 40 finished with value: 0.15867988213512746 and parameters: {'lambda_l1': 0.0002397173694796476, 'lambda_l2': 0.00013167155776013707}. Best is trial 40 with value: 0.15867988213512746.\n",
      "regularization_factors, val_score: 0.156947:   5%|#9                                    | 1/20 [00:02<00:53,  2.81s/it]"
     ]
    },
    {
     "name": "stdout",
     "output_type": "stream",
     "text": [
      "Early stopping, best iteration is:\n",
      "[192]\tcv_agg's l2: 0.156947 + 0.0194823\n",
      "[100]\tcv_agg's l2: 0.216993 + 0.0325571\n",
      "[200]\tcv_agg's l2: 0.20234 + 0.0311729\n"
     ]
    },
    {
     "name": "stderr",
     "output_type": "stream",
     "text": [
      "regularization_factors, val_score: 0.156947:  10%|###8                                  | 2/20 [00:03<00:32,  1.80s/it][I 2023-10-28 21:52:59,589] Trial 41 finished with value: 0.20263509887629008 and parameters: {'lambda_l1': 4.936294102975421, 'lambda_l2': 9.594896105648628}. Best is trial 40 with value: 0.15867988213512746.\n",
      "regularization_factors, val_score: 0.156947:  10%|###8                                  | 2/20 [00:03<00:32,  1.80s/it]"
     ]
    },
    {
     "name": "stdout",
     "output_type": "stream",
     "text": [
      "Early stopping, best iteration is:\n",
      "[192]\tcv_agg's l2: 0.156947 + 0.0194823\n",
      "[100]\tcv_agg's l2: 0.160122 + 0.0231327\n",
      "[200]\tcv_agg's l2: 0.157167 + 0.0197807\n"
     ]
    },
    {
     "name": "stderr",
     "output_type": "stream",
     "text": [
      "regularization_factors, val_score: 0.156947:  15%|#####7                                | 3/20 [00:06<00:38,  2.26s/it][I 2023-10-28 21:53:02,396] Trial 42 finished with value: 0.1569469666783411 and parameters: {'lambda_l1': 3.322072059290059e-08, 'lambda_l2': 1.0325745712791479e-08}. Best is trial 42 with value: 0.1569469666783411.\n",
      "regularization_factors, val_score: 0.156947:  15%|#####7                                | 3/20 [00:06<00:38,  2.26s/it]"
     ]
    },
    {
     "name": "stdout",
     "output_type": "stream",
     "text": [
      "Early stopping, best iteration is:\n",
      "[192]\tcv_agg's l2: 0.156947 + 0.0194823\n",
      "[100]\tcv_agg's l2: 0.160122 + 0.0231327\n",
      "[200]\tcv_agg's l2: 0.157167 + 0.0197807\n"
     ]
    },
    {
     "name": "stderr",
     "output_type": "stream",
     "text": [
      "regularization_factors, val_score: 0.156947:  20%|#######6                              | 4/20 [00:09<00:40,  2.54s/it][I 2023-10-28 21:53:05,364] Trial 43 finished with value: 0.15694696620845522 and parameters: {'lambda_l1': 1.0357142964631118e-08, 'lambda_l2': 2.2556806292036518e-08}. Best is trial 43 with value: 0.15694696620845522.\n",
      "regularization_factors, val_score: 0.156947:  20%|#######6                              | 4/20 [00:09<00:40,  2.54s/it]"
     ]
    },
    {
     "name": "stdout",
     "output_type": "stream",
     "text": [
      "Early stopping, best iteration is:\n",
      "[192]\tcv_agg's l2: 0.156947 + 0.0194823\n",
      "[100]\tcv_agg's l2: 0.160122 + 0.0231327\n",
      "[200]\tcv_agg's l2: 0.157167 + 0.0197807\n"
     ]
    },
    {
     "name": "stderr",
     "output_type": "stream",
     "text": [
      "regularization_factors, val_score: 0.156947:  25%|#########5                            | 5/20 [00:12<00:40,  2.67s/it][I 2023-10-28 21:53:08,273] Trial 44 finished with value: 0.15694696621291973 and parameters: {'lambda_l1': 1.2828261801085185e-08, 'lambda_l2': 1.2814046488647177e-08}. Best is trial 43 with value: 0.15694696620845522.\n",
      "regularization_factors, val_score: 0.156947:  25%|#########5                            | 5/20 [00:12<00:40,  2.67s/it]"
     ]
    },
    {
     "name": "stdout",
     "output_type": "stream",
     "text": [
      "Early stopping, best iteration is:\n",
      "[192]\tcv_agg's l2: 0.156947 + 0.0194823\n",
      "[100]\tcv_agg's l2: 0.160122 + 0.0231327\n",
      "[200]\tcv_agg's l2: 0.157167 + 0.0197807\n"
     ]
    },
    {
     "name": "stderr",
     "output_type": "stream",
     "text": [
      "regularization_factors, val_score: 0.156947:  30%|###########4                          | 6/20 [00:15<00:37,  2.70s/it][I 2023-10-28 21:53:11,029] Trial 45 finished with value: 0.1569469662001981 and parameters: {'lambda_l1': 1.2765788310493423e-08, 'lambda_l2': 1.677239046567748e-08}. Best is trial 45 with value: 0.1569469662001981.\n",
      "regularization_factors, val_score: 0.156947:  30%|###########4                          | 6/20 [00:15<00:37,  2.70s/it]"
     ]
    },
    {
     "name": "stdout",
     "output_type": "stream",
     "text": [
      "Early stopping, best iteration is:\n",
      "[192]\tcv_agg's l2: 0.156947 + 0.0194823\n",
      "[100]\tcv_agg's l2: 0.160122 + 0.0231327\n",
      "[200]\tcv_agg's l2: 0.157167 + 0.0197807\n"
     ]
    },
    {
     "name": "stderr",
     "output_type": "stream",
     "text": [
      "regularization_factors, val_score: 0.156947:  35%|#############3                        | 7/20 [00:18<00:35,  2.77s/it][I 2023-10-28 21:53:13,936] Trial 46 finished with value: 0.15694696621346355 and parameters: {'lambda_l1': 1.3474641162866017e-08, 'lambda_l2': 1.2971443777209894e-08}. Best is trial 45 with value: 0.1569469662001981.\n",
      "regularization_factors, val_score: 0.156947:  35%|#############3                        | 7/20 [00:18<00:35,  2.77s/it]"
     ]
    },
    {
     "name": "stdout",
     "output_type": "stream",
     "text": [
      "Early stopping, best iteration is:\n",
      "[192]\tcv_agg's l2: 0.156947 + 0.0194823\n",
      "[100]\tcv_agg's l2: 0.160122 + 0.0231327\n",
      "[200]\tcv_agg's l2: 0.157167 + 0.0197807\n"
     ]
    },
    {
     "name": "stderr",
     "output_type": "stream",
     "text": [
      "regularization_factors, val_score: 0.156947:  40%|###############2                      | 8/20 [00:21<00:33,  2.78s/it][I 2023-10-28 21:53:16,742] Trial 47 finished with value: 0.15694696621313992 and parameters: {'lambda_l1': 1.5161408896537255e-08, 'lambda_l2': 1.2752305313254554e-08}. Best is trial 45 with value: 0.1569469662001981.\n",
      "regularization_factors, val_score: 0.156947:  40%|###############2                      | 8/20 [00:21<00:33,  2.78s/it]"
     ]
    },
    {
     "name": "stdout",
     "output_type": "stream",
     "text": [
      "Early stopping, best iteration is:\n",
      "[192]\tcv_agg's l2: 0.156947 + 0.0194823\n",
      "[100]\tcv_agg's l2: 0.160122 + 0.0231327\n",
      "[200]\tcv_agg's l2: 0.157167 + 0.0197807\n"
     ]
    },
    {
     "name": "stderr",
     "output_type": "stream",
     "text": [
      "regularization_factors, val_score: 0.156947:  45%|#################1                    | 9/20 [00:23<00:30,  2.78s/it][I 2023-10-28 21:53:19,530] Trial 48 finished with value: 0.15694696620432536 and parameters: {'lambda_l1': 1.0412695619109997e-08, 'lambda_l2': 1.130909851316065e-08}. Best is trial 45 with value: 0.1569469662001981.\n",
      "regularization_factors, val_score: 0.156947:  45%|#################1                    | 9/20 [00:23<00:30,  2.78s/it]"
     ]
    },
    {
     "name": "stdout",
     "output_type": "stream",
     "text": [
      "Early stopping, best iteration is:\n",
      "[192]\tcv_agg's l2: 0.156947 + 0.0194823\n",
      "[100]\tcv_agg's l2: 0.160122 + 0.0231327\n",
      "[200]\tcv_agg's l2: 0.157167 + 0.0197807\n"
     ]
    },
    {
     "name": "stderr",
     "output_type": "stream",
     "text": [
      "regularization_factors, val_score: 0.156947:  50%|##################5                  | 10/20 [00:26<00:27,  2.80s/it][I 2023-10-28 21:53:22,355] Trial 49 finished with value: 0.15694696619692022 and parameters: {'lambda_l1': 1.0877419881055599e-08, 'lambda_l2': 1.6660676231877766e-08}. Best is trial 49 with value: 0.15694696619692022.\n",
      "regularization_factors, val_score: 0.156947:  50%|##################5                  | 10/20 [00:26<00:27,  2.80s/it]"
     ]
    },
    {
     "name": "stdout",
     "output_type": "stream",
     "text": [
      "Early stopping, best iteration is:\n",
      "[192]\tcv_agg's l2: 0.156947 + 0.0194823\n",
      "[100]\tcv_agg's l2: 0.160122 + 0.0231327\n",
      "[200]\tcv_agg's l2: 0.157167 + 0.0197807\n"
     ]
    },
    {
     "name": "stderr",
     "output_type": "stream",
     "text": [
      "regularization_factors, val_score: 0.156947:  55%|####################3                | 11/20 [00:29<00:25,  2.81s/it][I 2023-10-28 21:53:25,197] Trial 50 finished with value: 0.15694696621416587 and parameters: {'lambda_l1': 1.1351781695892007e-08, 'lambda_l2': 1.3690208859339261e-08}. Best is trial 49 with value: 0.15694696619692022.\n",
      "regularization_factors, val_score: 0.156947:  55%|####################3                | 11/20 [00:29<00:25,  2.81s/it]"
     ]
    },
    {
     "name": "stdout",
     "output_type": "stream",
     "text": [
      "Early stopping, best iteration is:\n",
      "[192]\tcv_agg's l2: 0.156947 + 0.0194823\n",
      "[100]\tcv_agg's l2: 0.160122 + 0.0231327\n",
      "[200]\tcv_agg's l2: 0.157167 + 0.0197807\n"
     ]
    },
    {
     "name": "stderr",
     "output_type": "stream",
     "text": [
      "regularization_factors, val_score: 0.156947:  60%|######################2              | 12/20 [00:32<00:22,  2.80s/it][I 2023-10-28 21:53:27,975] Trial 51 finished with value: 0.15694696619313608 and parameters: {'lambda_l1': 1.2098659866946613e-08, 'lambda_l2': 1.1719434158988724e-08}. Best is trial 51 with value: 0.15694696619313608.\n",
      "regularization_factors, val_score: 0.156947:  60%|######################2              | 12/20 [00:32<00:22,  2.80s/it]"
     ]
    },
    {
     "name": "stdout",
     "output_type": "stream",
     "text": [
      "Early stopping, best iteration is:\n",
      "[192]\tcv_agg's l2: 0.156947 + 0.0194823\n",
      "[100]\tcv_agg's l2: 0.160122 + 0.0231327\n",
      "[200]\tcv_agg's l2: 0.157167 + 0.0197807\n"
     ]
    },
    {
     "name": "stderr",
     "output_type": "stream",
     "text": [
      "regularization_factors, val_score: 0.156947:  65%|########################             | 13/20 [00:35<00:19,  2.81s/it][I 2023-10-28 21:53:30,802] Trial 52 finished with value: 0.1569469662120324 and parameters: {'lambda_l1': 1.0893889404368729e-08, 'lambda_l2': 1.1402342082383475e-08}. Best is trial 51 with value: 0.15694696619313608.\n",
      "regularization_factors, val_score: 0.156947:  65%|########################             | 13/20 [00:35<00:19,  2.81s/it]"
     ]
    },
    {
     "name": "stdout",
     "output_type": "stream",
     "text": [
      "Early stopping, best iteration is:\n",
      "[192]\tcv_agg's l2: 0.156947 + 0.0194823\n",
      "[100]\tcv_agg's l2: 0.160122 + 0.0231327\n",
      "[200]\tcv_agg's l2: 0.157167 + 0.0197807\n"
     ]
    },
    {
     "name": "stderr",
     "output_type": "stream",
     "text": [
      "regularization_factors, val_score: 0.156947:  70%|#########################9           | 14/20 [00:37<00:16,  2.83s/it][I 2023-10-28 21:53:33,679] Trial 53 finished with value: 0.15694696670395653 and parameters: {'lambda_l1': 1.979406399122651e-08, 'lambda_l2': 4.3283923374106e-08}. Best is trial 51 with value: 0.15694696619313608.\n",
      "regularization_factors, val_score: 0.156947:  70%|#########################9           | 14/20 [00:38<00:16,  2.83s/it]"
     ]
    },
    {
     "name": "stdout",
     "output_type": "stream",
     "text": [
      "Early stopping, best iteration is:\n",
      "[192]\tcv_agg's l2: 0.156947 + 0.0194823\n",
      "[100]\tcv_agg's l2: 0.160122 + 0.0231327\n",
      "[200]\tcv_agg's l2: 0.157167 + 0.0197807\n"
     ]
    },
    {
     "name": "stderr",
     "output_type": "stream",
     "text": [
      "regularization_factors, val_score: 0.156947:  75%|###########################7         | 15/20 [00:40<00:14,  2.82s/it][I 2023-10-28 21:53:36,470] Trial 54 finished with value: 0.15694696641126737 and parameters: {'lambda_l1': 1.2734320269578548e-08, 'lambda_l2': 3.125628594906473e-07}. Best is trial 51 with value: 0.15694696619313608.\n",
      "regularization_factors, val_score: 0.156947:  75%|###########################7         | 15/20 [00:40<00:14,  2.82s/it]"
     ]
    },
    {
     "name": "stdout",
     "output_type": "stream",
     "text": [
      "Early stopping, best iteration is:\n",
      "[192]\tcv_agg's l2: 0.156947 + 0.0194823\n",
      "[100]\tcv_agg's l2: 0.160122 + 0.0231327\n",
      "[200]\tcv_agg's l2: 0.157167 + 0.0197807\n"
     ]
    },
    {
     "name": "stderr",
     "output_type": "stream",
     "text": [
      "regularization_factors, val_score: 0.156947:  80%|#############################6       | 16/20 [00:43<00:11,  2.80s/it][I 2023-10-28 21:53:39,212] Trial 55 finished with value: 0.15694696820032852 and parameters: {'lambda_l1': 5.007126742224361e-07, 'lambda_l2': 3.910468569059473e-07}. Best is trial 51 with value: 0.15694696619313608.\n",
      "regularization_factors, val_score: 0.156947:  80%|#############################6       | 16/20 [00:43<00:11,  2.80s/it]"
     ]
    },
    {
     "name": "stdout",
     "output_type": "stream",
     "text": [
      "Early stopping, best iteration is:\n",
      "[192]\tcv_agg's l2: 0.156947 + 0.0194823\n",
      "[100]\tcv_agg's l2: 0.160122 + 0.0231327\n",
      "[200]\tcv_agg's l2: 0.157167 + 0.0197807\n"
     ]
    },
    {
     "name": "stderr",
     "output_type": "stream",
     "text": [
      "regularization_factors, val_score: 0.156947:  85%|###############################4     | 17/20 [00:46<00:08,  2.82s/it][I 2023-10-28 21:53:42,096] Trial 56 finished with value: 0.1569469685059413 and parameters: {'lambda_l1': 3.8780629902104585e-07, 'lambda_l2': 1.7991969924142854e-07}. Best is trial 51 with value: 0.15694696619313608.\n",
      "regularization_factors, val_score: 0.156947:  85%|###############################4     | 17/20 [00:46<00:08,  2.82s/it]"
     ]
    },
    {
     "name": "stdout",
     "output_type": "stream",
     "text": [
      "Early stopping, best iteration is:\n",
      "[192]\tcv_agg's l2: 0.156947 + 0.0194823\n",
      "[100]\tcv_agg's l2: 0.160122 + 0.0231327\n",
      "[200]\tcv_agg's l2: 0.157167 + 0.0197807\n"
     ]
    },
    {
     "name": "stderr",
     "output_type": "stream",
     "text": [
      "regularization_factors, val_score: 0.156947:  90%|#################################3   | 18/20 [00:49<00:05,  2.89s/it][I 2023-10-28 21:53:45,158] Trial 57 finished with value: 0.15694696633521835 and parameters: {'lambda_l1': 2.2009135650204922e-07, 'lambda_l2': 2.542288191176203e-07}. Best is trial 51 with value: 0.15694696619313608.\n",
      "regularization_factors, val_score: 0.156947:  90%|#################################3   | 18/20 [00:49<00:05,  2.89s/it]"
     ]
    },
    {
     "name": "stdout",
     "output_type": "stream",
     "text": [
      "Early stopping, best iteration is:\n",
      "[192]\tcv_agg's l2: 0.156947 + 0.0194823\n",
      "[100]\tcv_agg's l2: 0.160122 + 0.0231327\n",
      "[200]\tcv_agg's l2: 0.157167 + 0.0197807\n"
     ]
    },
    {
     "name": "stderr",
     "output_type": "stream",
     "text": [
      "regularization_factors, val_score: 0.156947:  95%|###################################1 | 19/20 [00:52<00:02,  2.86s/it][I 2023-10-28 21:53:47,948] Trial 58 finished with value: 0.15694696646984369 and parameters: {'lambda_l1': 1.816385618593149e-07, 'lambda_l2': 1.1392060034768367e-07}. Best is trial 51 with value: 0.15694696619313608.\n",
      "regularization_factors, val_score: 0.156947:  95%|###################################1 | 19/20 [00:52<00:02,  2.86s/it]"
     ]
    },
    {
     "name": "stdout",
     "output_type": "stream",
     "text": [
      "Early stopping, best iteration is:\n",
      "[192]\tcv_agg's l2: 0.156947 + 0.0194823\n",
      "[100]\tcv_agg's l2: 0.160122 + 0.0231327\n",
      "[200]\tcv_agg's l2: 0.157167 + 0.0197807\n"
     ]
    },
    {
     "name": "stderr",
     "output_type": "stream",
     "text": [
      "regularization_factors, val_score: 0.156947: 100%|#####################################| 20/20 [00:55<00:00,  2.83s/it][I 2023-10-28 21:53:50,710] Trial 59 finished with value: 0.15694696660500548 and parameters: {'lambda_l1': 1.045931364179118e-07, 'lambda_l2': 1.0842417436284689e-08}. Best is trial 51 with value: 0.15694696619313608.\n",
      "regularization_factors, val_score: 0.156947: 100%|#####################################| 20/20 [00:55<00:00,  2.75s/it]\n"
     ]
    },
    {
     "name": "stdout",
     "output_type": "stream",
     "text": [
      "Early stopping, best iteration is:\n",
      "[192]\tcv_agg's l2: 0.156947 + 0.0194823\n"
     ]
    },
    {
     "name": "stderr",
     "output_type": "stream",
     "text": [
      "min_data_in_leaf, val_score: 0.156947:   0%|                                                     | 0/5 [00:00<?, ?it/s]"
     ]
    },
    {
     "name": "stdout",
     "output_type": "stream",
     "text": [
      "[100]\tcv_agg's l2: 0.176532 + 0.018187\n",
      "[200]\tcv_agg's l2: 0.171608 + 0.014238\n"
     ]
    },
    {
     "name": "stderr",
     "output_type": "stream",
     "text": [
      "min_data_in_leaf, val_score: 0.156947:  20%|#########                                    | 1/5 [00:02<00:09,  2.47s/it][I 2023-10-28 21:53:53,188] Trial 60 finished with value: 0.17166252928472417 and parameters: {'min_child_samples': 25}. Best is trial 60 with value: 0.17166252928472417.\n",
      "min_data_in_leaf, val_score: 0.156947:  20%|#########                                    | 1/5 [00:02<00:09,  2.47s/it]"
     ]
    },
    {
     "name": "stdout",
     "output_type": "stream",
     "text": [
      "Early stopping, best iteration is:\n",
      "[192]\tcv_agg's l2: 0.156947 + 0.0194823\n",
      "[100]\tcv_agg's l2: 0.156166 + 0.0295228\n",
      "[200]\tcv_agg's l2: 0.154153 + 0.0282995\n"
     ]
    },
    {
     "name": "stderr",
     "output_type": "stream",
     "text": [
      "min_data_in_leaf, val_score: 0.153685:  40%|##################                           | 2/5 [00:05<00:08,  2.92s/it][I 2023-10-28 21:53:56,427] Trial 61 finished with value: 0.15368474761176734 and parameters: {'min_child_samples': 10}. Best is trial 61 with value: 0.15368474761176734.\n",
      "min_data_in_leaf, val_score: 0.153685:  40%|##################                           | 2/5 [00:05<00:08,  2.92s/it]"
     ]
    },
    {
     "name": "stdout",
     "output_type": "stream",
     "text": [
      "Early stopping, best iteration is:\n",
      "[169]\tcv_agg's l2: 0.153685 + 0.0282204\n",
      "[100]\tcv_agg's l2: 0.155341 + 0.0245704\n",
      "[200]\tcv_agg's l2: 0.154379 + 0.0245796\n"
     ]
    },
    {
     "name": "stderr",
     "output_type": "stream",
     "text": [
      "min_data_in_leaf, val_score: 0.153685:  60%|###########################                  | 3/5 [00:08<00:06,  3.05s/it][I 2023-10-28 21:53:59,628] Trial 62 finished with value: 0.15410028886376498 and parameters: {'min_child_samples': 5}. Best is trial 61 with value: 0.15368474761176734.\n",
      "min_data_in_leaf, val_score: 0.153685:  60%|###########################                  | 3/5 [00:08<00:06,  3.05s/it]"
     ]
    },
    {
     "name": "stdout",
     "output_type": "stream",
     "text": [
      "Early stopping, best iteration is:\n",
      "[169]\tcv_agg's l2: 0.153685 + 0.0282204\n",
      "[100]\tcv_agg's l2: 0.234527 + 0.0194571\n",
      "[200]\tcv_agg's l2: 0.219411 + 0.0225724\n"
     ]
    },
    {
     "name": "stderr",
     "output_type": "stream",
     "text": [
      "min_data_in_leaf, val_score: 0.153685:  80%|####################################         | 4/5 [00:10<00:02,  2.50s/it][I 2023-10-28 21:54:01,287] Trial 63 finished with value: 0.22226501401733767 and parameters: {'min_child_samples': 50}. Best is trial 61 with value: 0.15368474761176734.\n",
      "min_data_in_leaf, val_score: 0.153685:  80%|####################################         | 4/5 [00:10<00:02,  2.50s/it]"
     ]
    },
    {
     "name": "stdout",
     "output_type": "stream",
     "text": [
      "Early stopping, best iteration is:\n",
      "[169]\tcv_agg's l2: 0.153685 + 0.0282204\n",
      "[100]\tcv_agg's l2: 0.770158 + 0.105435\n"
     ]
    },
    {
     "name": "stderr",
     "output_type": "stream",
     "text": [
      "\r",
      "min_data_in_leaf, val_score: 0.153685:  80%|####################################         | 4/5 [00:11<00:02,  2.50s/it]"
     ]
    },
    {
     "name": "stdout",
     "output_type": "stream",
     "text": [
      "[200]\tcv_agg's l2: 0.741837 + 0.112931\n",
      "Early stopping, best iteration is:\n",
      "[169]\tcv_agg's l2: 0.153685 + 0.0282204\n"
     ]
    },
    {
     "name": "stderr",
     "output_type": "stream",
     "text": [
      "min_data_in_leaf, val_score: 0.153685: 100%|#############################################| 5/5 [00:11<00:00,  1.89s/it][I 2023-10-28 21:54:02,080] Trial 64 finished with value: 0.7449596589813717 and parameters: {'min_child_samples': 100}. Best is trial 61 with value: 0.15368474761176734.\n",
      "min_data_in_leaf, val_score: 0.153685: 100%|#############################################| 5/5 [00:11<00:00,  2.27s/it]\n"
     ]
    }
   ],
   "source": [
    "import optuna.integration.lightgbm as lgb\n",
    "from lightgbm import early_stopping, log_evaluation\n",
    "from sklearn.model_selection import KFold\n",
    "from sklearn.model_selection import RepeatedKFold\n",
    "\n",
    "\n",
    "lgb_train = lgb.Dataset(X_train, y_train)\n",
    "\n",
    "params = {\n",
    "    \"boosting_type\": \"gbdt\",\n",
    "    \"objective\": \"regression\",\n",
    "    \"metric\": \"l2\",\n",
    "    \"verbosity\": -1,\n",
    "}\n",
    "\n",
    "tuner = lgb.LightGBMTunerCV(\n",
    "    params,\n",
    "    lgb_train,\n",
    "    folds=KFold(n_splits=5),\n",
    "    num_boost_round=10000,\n",
    "    callbacks=[early_stopping(100), log_evaluation(100)],\n",
    ")\n",
    "\n",
    "tuner.run()"
   ]
  },
  {
   "cell_type": "code",
   "execution_count": 21,
   "id": "8406fc3e",
   "metadata": {},
   "outputs": [
    {
     "name": "stdout",
     "output_type": "stream",
     "text": [
      "Best score: 0.15368474761176734\n",
      "Params: \n",
      "    boosting_type: gbdt\n",
      "    objective: regression\n",
      "    metric: l2\n",
      "    verbosity: -1\n",
      "    feature_pre_filter: False\n",
      "    lambda_l1: 1.2098659866946613e-08\n",
      "    lambda_l2: 1.1719434158988724e-08\n",
      "    num_leaves: 31\n",
      "    feature_fraction: 0.4\n",
      "    bagging_fraction: 0.9815300589765639\n",
      "    bagging_freq: 5\n",
      "    min_child_samples: 10\n"
     ]
    }
   ],
   "source": [
    "print(f\"Best score: {tuner.best_score}\")\n",
    "best_params = tuner.best_params\n",
    "print(\"Params: \")\n",
    "for key, value in best_params.items():\n",
    "    print(\"    {}: {}\".format(key, value))"
   ]
  },
  {
   "cell_type": "code",
   "execution_count": 22,
   "id": "880974ce",
   "metadata": {},
   "outputs": [],
   "source": [
    "import lightgbm as lgb\n",
    "\n",
    "lgb_tuned = lgb.train(\n",
    "    best_params,\n",
    "    lgb_train,\n",
    "    num_boost_round=10000,\n",
    ")"
   ]
  },
  {
   "cell_type": "code",
   "execution_count": 23,
   "id": "53d87b2c",
   "metadata": {},
   "outputs": [
    {
     "name": "stdout",
     "output_type": "stream",
     "text": [
      "RMSE train: 0.00\n",
      "RMSE test: 0.46\n",
      "MSE test: 0.21\n",
      "MAE test: 0.34\n",
      "\n"
     ]
    }
   ],
   "source": [
    "rmse, mse, mae = assess_regression_model(lgb_tuned, X_train, X_test, y_train, y_test)"
   ]
  },
  {
   "cell_type": "code",
   "execution_count": 24,
   "id": "843255bc",
   "metadata": {},
   "outputs": [],
   "source": [
    "results.loc[1] = [\n",
    "    \"chronological\",\n",
    "    \"Optuna\",\n",
    "    len(X_test.columns),\n",
    "    mse,\n",
    "    rmse,\n",
    "    mae,\n",
    "]"
   ]
  },
  {
   "cell_type": "code",
   "execution_count": 25,
   "id": "778f84c5",
   "metadata": {},
   "outputs": [
    {
     "name": "stdout",
     "output_type": "stream",
     "text": [
      "Normal:\n",
      "MSE: 0.21\n",
      "RMSE: 0.46\n",
      "\n",
      "Round type: round\n",
      "MSE: 0.26\n",
      "RMSE: 0.51\n",
      "\n",
      "Round type: 0.33\n",
      "MSE: 0.26\n",
      "RMSE: 0.51\n",
      "\n",
      "Round type: 0.45\n",
      "MSE: 0.25\n",
      "RMSE: 0.50\n",
      "\n"
     ]
    }
   ],
   "source": [
    "predict = lgb_tuned.predict(X_test)\n",
    "check_round_predictions([\"round\", 0.33, 0.45], y_test, predict)"
   ]
  },
  {
   "cell_type": "code",
   "execution_count": 26,
   "id": "7823441a",
   "metadata": {},
   "outputs": [
    {
     "data": {
      "image/png": "[encoded data removed]",
      "text/plain": [
       "<Figure size 432x288 with 2 Axes>"
      ]
     },
     "metadata": {
      "needs_background": "light"
     },
     "output_type": "display_data"
    }
   ],
   "source": [
    "plot_confusion_matrix(\"round\", predict, y_test)"
   ]
  },
  {
   "cell_type": "markdown",
   "id": "35088cc9",
   "metadata": {},
   "source": [
    "## Random split"
   ]
  },
  {
   "cell_type": "code",
   "execution_count": 27,
   "id": "692c4056",
   "metadata": {},
   "outputs": [
    {
     "name": "stdout",
     "output_type": "stream",
     "text": [
      "[LightGBM] [Warning] Auto-choosing col-wise multi-threading, the overhead of testing was 0.000542 seconds.\n",
      "You can set `force_col_wise=true` to remove the overhead.\n",
      "[LightGBM] [Info] Total Bins 392\n",
      "[LightGBM] [Info] Number of data points in the train set: 904, number of used features: 13\n",
      "[LightGBM] [Info] Start training from score 7.162611\n",
      "Training until validation scores don't improve for 5 rounds\n",
      "Early stopping, best iteration is:\n",
      "[88]\tvalid_0's l2: 0.148111\tvalid_0's l1: 0.267273\n"
     ]
    }
   ],
   "source": [
    "import lightgbm as lgb\n",
    "from sklearn.metrics import mean_squared_error\n",
    "\n",
    "lgb_train = lgb.Dataset(X_train_random_split, y_train_random_split)\n",
    "lgb_eval = lgb.Dataset(X_test_random_split, y_test_random_split, reference=lgb_train)\n",
    "\n",
    "params = {\n",
    "    \"boosting_type\": \"gbdt\",\n",
    "    \"objective\": \"regression\",\n",
    "    \"metric\": {\"l2\", \"l1\"},\n",
    "}\n",
    "\n",
    "gbm = lgb.train(\n",
    "    params,\n",
    "    lgb_train,\n",
    "    num_boost_round=100,\n",
    "    valid_sets=lgb_eval,\n",
    "    callbacks=[lgb.early_stopping(stopping_rounds=5)],\n",
    ")"
   ]
  },
  {
   "cell_type": "code",
   "execution_count": 28,
   "id": "24879a40",
   "metadata": {},
   "outputs": [],
   "source": [
    "y_pred_train = gbm.predict(X_train_random_split, num_iteration=gbm.best_iteration)\n",
    "y_pred_test = gbm.predict(X_test_random_split, num_iteration=gbm.best_iteration)"
   ]
  },
  {
   "cell_type": "code",
   "execution_count": 29,
   "id": "b5a760c1",
   "metadata": {},
   "outputs": [
    {
     "name": "stdout",
     "output_type": "stream",
     "text": [
      "MSE: 0.15\n",
      "RMSE: 0.38\n",
      "MAE: 0.27\n"
     ]
    }
   ],
   "source": [
    "from sklearn.metrics import mean_squared_error, mean_absolute_error\n",
    "\n",
    "\n",
    "mse = mean_squared_error(y_test_random_split, y_pred_test)\n",
    "rmse = mean_squared_error(y_test_random_split, y_pred_test, squared=False)\n",
    "mae = mean_absolute_error(y_test_random_split, y_pred_test)\n",
    "\n",
    "print(f\"MSE: {mse:.2f}\")\n",
    "print(f\"RMSE: {rmse:.2f}\")\n",
    "print(f\"MAE: {mae:.2f}\")"
   ]
  },
  {
   "cell_type": "code",
   "execution_count": 30,
   "id": "a52e182e",
   "metadata": {},
   "outputs": [],
   "source": [
    "results.loc[3] = [\"random\", \"normal\", len(X_test.columns), mse, rmse, mae]"
   ]
  },
  {
   "cell_type": "code",
   "execution_count": 31,
   "id": "b42be07c",
   "metadata": {},
   "outputs": [
    {
     "name": "stdout",
     "output_type": "stream",
     "text": [
      "Normal:\n",
      "MSE: 0.15\n",
      "RMSE: 0.38\n",
      "\n",
      "Round type: round\n",
      "MSE: 0.15\n",
      "RMSE: 0.39\n",
      "\n",
      "Round type: 0.33\n",
      "MSE: 0.21\n",
      "RMSE: 0.45\n",
      "\n",
      "Round type: 0.45\n",
      "MSE: 0.17\n",
      "RMSE: 0.41\n",
      "\n"
     ]
    }
   ],
   "source": [
    "check_round_predictions([\"round\", 0.33, 0.45], y_test_random_split, y_pred_test)"
   ]
  },
  {
   "cell_type": "code",
   "execution_count": 32,
   "id": "79174d21",
   "metadata": {},
   "outputs": [
    {
     "data": {
      "image/png": "[encoded data removed]",
      "text/plain": [
       "<Figure size 432x288 with 2 Axes>"
      ]
     },
     "metadata": {
      "needs_background": "light"
     },
     "output_type": "display_data"
    }
   ],
   "source": [
    "plot_confusion_matrix(\"round\", y_pred_test, y_test_random_split)"
   ]
  },
  {
   "cell_type": "markdown",
   "id": "79bbd5ec",
   "metadata": {},
   "source": [
    "### Tuning"
   ]
  },
  {
   "cell_type": "code",
   "execution_count": 33,
   "id": "62270e6b",
   "metadata": {
    "scrolled": true
   },
   "outputs": [
    {
     "name": "stderr",
     "output_type": "stream",
     "text": [
      "[I 2023-10-28 21:54:40,044] A new study created in memory with name: no-name-3a778def-1a88-461c-ba07-6cce3c0f6992\n",
      "feature_fraction, val_score: inf:   0%|                                                          | 0/7 [00:00<?, ?it/s]"
     ]
    },
    {
     "name": "stdout",
     "output_type": "stream",
     "text": [
      "Training until validation scores don't improve for 100 rounds\n",
      "[100]\tcv_agg's l2: 0.194332 + 0.0456681\n",
      "[200]\tcv_agg's l2: 0.191166 + 0.0440507\n"
     ]
    },
    {
     "name": "stderr",
     "output_type": "stream",
     "text": [
      "feature_fraction, val_score: 0.190737:  14%|######4                                      | 1/7 [00:02<00:17,  2.88s/it][I 2023-10-28 21:54:42,934] Trial 0 finished with value: 0.19073690264149454 and parameters: {'feature_fraction': 1.0}. Best is trial 0 with value: 0.19073690264149454.\n",
      "feature_fraction, val_score: 0.190737:  14%|######4                                      | 1/7 [00:02<00:17,  2.88s/it]"
     ]
    },
    {
     "name": "stdout",
     "output_type": "stream",
     "text": [
      "Early stopping, best iteration is:\n",
      "[187]\tcv_agg's l2: 0.190737 + 0.0445075\n",
      "[100]\tcv_agg's l2: 0.180712 + 0.0475642\n",
      "[200]\tcv_agg's l2: 0.17974 + 0.0465825\n"
     ]
    },
    {
     "name": "stderr",
     "output_type": "stream",
     "text": [
      "feature_fraction, val_score: 0.178886:  29%|############8                                | 2/7 [00:05<00:13,  2.79s/it][I 2023-10-28 21:54:45,658] Trial 1 finished with value: 0.17888595656948686 and parameters: {'feature_fraction': 0.6}. Best is trial 1 with value: 0.17888595656948686.\n",
      "feature_fraction, val_score: 0.178886:  29%|############8                                | 2/7 [00:05<00:13,  2.79s/it]"
     ]
    },
    {
     "name": "stdout",
     "output_type": "stream",
     "text": [
      "Early stopping, best iteration is:\n",
      "[178]\tcv_agg's l2: 0.178886 + 0.0463005\n",
      "[100]\tcv_agg's l2: 0.173175 + 0.0522516\n",
      "[200]\tcv_agg's l2: 0.171655 + 0.0504929\n",
      "[300]\tcv_agg's l2: 0.172123 + 0.0491355\n"
     ]
    },
    {
     "name": "stderr",
     "output_type": "stream",
     "text": [
      "feature_fraction, val_score: 0.171187:  43%|###################2                         | 3/7 [00:08<00:11,  2.96s/it][I 2023-10-28 21:54:48,817] Trial 2 finished with value: 0.17118736619571168 and parameters: {'feature_fraction': 0.5}. Best is trial 2 with value: 0.17118736619571168.\n",
      "feature_fraction, val_score: 0.171187:  43%|###################2                         | 3/7 [00:08<00:11,  2.96s/it]"
     ]
    },
    {
     "name": "stdout",
     "output_type": "stream",
     "text": [
      "Early stopping, best iteration is:\n",
      "[232]\tcv_agg's l2: 0.171187 + 0.050085\n",
      "[100]\tcv_agg's l2: 0.194343 + 0.0511619\n",
      "[200]\tcv_agg's l2: 0.193353 + 0.0488543\n",
      "[300]\tcv_agg's l2: 0.194374 + 0.0480618\n"
     ]
    },
    {
     "name": "stderr",
     "output_type": "stream",
     "text": [
      "feature_fraction, val_score: 0.171187:  57%|#########################7                   | 4/7 [00:12<00:09,  3.08s/it][I 2023-10-28 21:54:52,088] Trial 3 finished with value: 0.19355564681189447 and parameters: {'feature_fraction': 0.8999999999999999}. Best is trial 2 with value: 0.17118736619571168.\n",
      "feature_fraction, val_score: 0.171187:  57%|#########################7                   | 4/7 [00:12<00:09,  3.08s/it]"
     ]
    },
    {
     "name": "stdout",
     "output_type": "stream",
     "text": [
      "Early stopping, best iteration is:\n",
      "[232]\tcv_agg's l2: 0.171187 + 0.050085\n",
      "[100]\tcv_agg's l2: 0.189453 + 0.0508321\n",
      "[200]\tcv_agg's l2: 0.186991 + 0.0496918\n",
      "[300]\tcv_agg's l2: 0.187711 + 0.0481169\n"
     ]
    },
    {
     "name": "stderr",
     "output_type": "stream",
     "text": [
      "feature_fraction, val_score: 0.171187:  71%|################################1            | 5/7 [00:15<00:06,  3.16s/it][I 2023-10-28 21:54:55,382] Trial 4 finished with value: 0.18732804857777924 and parameters: {'feature_fraction': 0.8}. Best is trial 2 with value: 0.17118736619571168.\n",
      "feature_fraction, val_score: 0.171187:  71%|################################1            | 5/7 [00:15<00:06,  3.16s/it]"
     ]
    },
    {
     "name": "stdout",
     "output_type": "stream",
     "text": [
      "Early stopping, best iteration is:\n",
      "[232]\tcv_agg's l2: 0.171187 + 0.050085\n",
      "[100]\tcv_agg's l2: 0.169171 + 0.0258974\n",
      "[200]\tcv_agg's l2: 0.167933 + 0.0248978\n"
     ]
    },
    {
     "name": "stderr",
     "output_type": "stream",
     "text": [
      "feature_fraction, val_score: 0.167739:  86%|######################################5      | 6/7 [00:17<00:02,  2.97s/it][I 2023-10-28 21:54:57,995] Trial 5 finished with value: 0.16773926568103223 and parameters: {'feature_fraction': 0.4}. Best is trial 5 with value: 0.16773926568103223.\n",
      "feature_fraction, val_score: 0.167739:  86%|######################################5      | 6/7 [00:17<00:02,  2.97s/it]"
     ]
    },
    {
     "name": "stdout",
     "output_type": "stream",
     "text": [
      "Early stopping, best iteration is:\n",
      "[180]\tcv_agg's l2: 0.167739 + 0.0251302\n",
      "[100]\tcv_agg's l2: 0.190408 + 0.0527822\n",
      "[200]\tcv_agg's l2: 0.187438 + 0.0475067\n"
     ]
    },
    {
     "name": "stderr",
     "output_type": "stream",
     "text": [
      "feature_fraction, val_score: 0.167739: 100%|#############################################| 7/7 [00:20<00:00,  2.90s/it][I 2023-10-28 21:55:00,737] Trial 6 finished with value: 0.1871390979893119 and parameters: {'feature_fraction': 0.7}. Best is trial 5 with value: 0.16773926568103223.\n",
      "feature_fraction, val_score: 0.167739: 100%|#############################################| 7/7 [00:20<00:00,  2.96s/it]\n"
     ]
    },
    {
     "name": "stdout",
     "output_type": "stream",
     "text": [
      "Early stopping, best iteration is:\n",
      "[180]\tcv_agg's l2: 0.167739 + 0.0251302\n"
     ]
    },
    {
     "name": "stderr",
     "output_type": "stream",
     "text": [
      "num_leaves, val_score: 0.167739:   0%|                                                          | 0/20 [00:00<?, ?it/s]"
     ]
    },
    {
     "name": "stdout",
     "output_type": "stream",
     "text": [
      "[100]\tcv_agg's l2: 0.169171 + 0.0258974\n",
      "[200]\tcv_agg's l2: 0.167933 + 0.0248978\n"
     ]
    },
    {
     "name": "stderr",
     "output_type": "stream",
     "text": [
      "num_leaves, val_score: 0.167739:   5%|##5                                               | 1/20 [00:02<00:49,  2.61s/it][I 2023-10-28 21:55:03,351] Trial 7 finished with value: 0.16773926568103223 and parameters: {'num_leaves': 110}. Best is trial 7 with value: 0.16773926568103223.\n",
      "num_leaves, val_score: 0.167739:   5%|##5                                               | 1/20 [00:02<00:49,  2.61s/it]"
     ]
    },
    {
     "name": "stdout",
     "output_type": "stream",
     "text": [
      "Early stopping, best iteration is:\n",
      "[180]\tcv_agg's l2: 0.167739 + 0.0251302\n",
      "[100]\tcv_agg's l2: 0.169171 + 0.0258974\n",
      "[200]\tcv_agg's l2: 0.167933 + 0.0248978\n"
     ]
    },
    {
     "name": "stderr",
     "output_type": "stream",
     "text": [
      "num_leaves, val_score: 0.167739:  10%|#####                                             | 2/20 [00:05<00:48,  2.68s/it][I 2023-10-28 21:55:06,091] Trial 8 finished with value: 0.16773926568103223 and parameters: {'num_leaves': 162}. Best is trial 7 with value: 0.16773926568103223.\n",
      "num_leaves, val_score: 0.167739:  10%|#####                                             | 2/20 [00:05<00:48,  2.68s/it]"
     ]
    },
    {
     "name": "stdout",
     "output_type": "stream",
     "text": [
      "Early stopping, best iteration is:\n",
      "[180]\tcv_agg's l2: 0.167739 + 0.0251302\n",
      "[100]\tcv_agg's l2: 0.169171 + 0.0258974\n",
      "[200]\tcv_agg's l2: 0.167933 + 0.0248978\n"
     ]
    },
    {
     "name": "stderr",
     "output_type": "stream",
     "text": [
      "num_leaves, val_score: 0.167739:  15%|#######5                                          | 3/20 [00:08<00:45,  2.70s/it][I 2023-10-28 21:55:08,810] Trial 9 finished with value: 0.16773926568103223 and parameters: {'num_leaves': 67}. Best is trial 7 with value: 0.16773926568103223.\n",
      "num_leaves, val_score: 0.167739:  15%|#######5                                          | 3/20 [00:08<00:45,  2.70s/it]"
     ]
    },
    {
     "name": "stdout",
     "output_type": "stream",
     "text": [
      "Early stopping, best iteration is:\n",
      "[180]\tcv_agg's l2: 0.167739 + 0.0251302\n",
      "[100]\tcv_agg's l2: 0.169171 + 0.0258974\n",
      "[200]\tcv_agg's l2: 0.167933 + 0.0248978\n"
     ]
    },
    {
     "name": "stderr",
     "output_type": "stream",
     "text": [
      "num_leaves, val_score: 0.167739:  20%|##########                                        | 4/20 [00:10<00:43,  2.71s/it][I 2023-10-28 21:55:11,526] Trial 10 finished with value: 0.16773926568103223 and parameters: {'num_leaves': 252}. Best is trial 7 with value: 0.16773926568103223.\n",
      "num_leaves, val_score: 0.167739:  20%|##########                                        | 4/20 [00:10<00:43,  2.71s/it]"
     ]
    },
    {
     "name": "stdout",
     "output_type": "stream",
     "text": [
      "Early stopping, best iteration is:\n",
      "[180]\tcv_agg's l2: 0.167739 + 0.0251302\n",
      "[100]\tcv_agg's l2: 0.183793 + 0.0226573\n",
      "[200]\tcv_agg's l2: 0.171326 + 0.0187655\n",
      "[300]\tcv_agg's l2: 0.165509 + 0.0177282\n",
      "[400]\tcv_agg's l2: 0.164159 + 0.0157736\n",
      "[500]\tcv_agg's l2: 0.16334 + 0.0160419\n"
     ]
    },
    {
     "name": "stderr",
     "output_type": "stream",
     "text": [
      "num_leaves, val_score: 0.163113:  25%|############5                                     | 5/20 [00:12<00:35,  2.35s/it][I 2023-10-28 21:55:13,244] Trial 11 finished with value: 0.16311308183981033 and parameters: {'num_leaves': 6}. Best is trial 11 with value: 0.16311308183981033.\n",
      "num_leaves, val_score: 0.163113:  25%|############5                                     | 5/20 [00:12<00:35,  2.35s/it]"
     ]
    },
    {
     "name": "stdout",
     "output_type": "stream",
     "text": [
      "Early stopping, best iteration is:\n",
      "[491]\tcv_agg's l2: 0.163113 + 0.0157105\n",
      "[100]\tcv_agg's l2: 0.167906 + 0.0272876\n",
      "[200]\tcv_agg's l2: 0.166975 + 0.0252723\n",
      "[300]\tcv_agg's l2: 0.167588 + 0.02579\n",
      "[400]\tcv_agg's l2: 0.169315 + 0.0264457\n",
      "[500]\tcv_agg's l2: 0.169417 + 0.0262351\n"
     ]
    },
    {
     "name": "stderr",
     "output_type": "stream",
     "text": [
      "num_leaves, val_score: 0.163113:  30%|###############                                   | 6/20 [00:16<00:41,  2.94s/it][I 2023-10-28 21:55:17,321] Trial 12 finished with value: 0.16930757412813316 and parameters: {'num_leaves': 17}. Best is trial 11 with value: 0.16311308183981033.\n",
      "num_leaves, val_score: 0.163113:  30%|###############                                   | 6/20 [00:16<00:41,  2.94s/it]"
     ]
    },
    {
     "name": "stdout",
     "output_type": "stream",
     "text": [
      "Early stopping, best iteration is:\n",
      "[491]\tcv_agg's l2: 0.163113 + 0.0157105\n",
      "[100]\tcv_agg's l2: 0.338019 + 0.062473\n",
      "[200]\tcv_agg's l2: 0.294726 + 0.0456479\n",
      "[300]\tcv_agg's l2: 0.280008 + 0.0411838\n",
      "[400]\tcv_agg's l2: 0.270613 + 0.0394649\n",
      "[500]\tcv_agg's l2: 0.263424 + 0.038211\n"
     ]
    },
    {
     "name": "stderr",
     "output_type": "stream",
     "text": [
      "num_leaves, val_score: 0.163113:  35%|#################5                                | 7/20 [00:17<00:29,  2.27s/it][I 2023-10-28 21:55:18,202] Trial 13 finished with value: 0.2640576064854272 and parameters: {'num_leaves': 2}. Best is trial 11 with value: 0.16311308183981033.\n",
      "num_leaves, val_score: 0.163113:  35%|#################5                                | 7/20 [00:17<00:29,  2.27s/it]"
     ]
    },
    {
     "name": "stdout",
     "output_type": "stream",
     "text": [
      "Early stopping, best iteration is:\n",
      "[491]\tcv_agg's l2: 0.163113 + 0.0157105\n",
      "[100]\tcv_agg's l2: 0.169171 + 0.0258974\n",
      "[200]\tcv_agg's l2: 0.167933 + 0.0248978\n",
      "[300]\tcv_agg's l2: 0.16966 + 0.0249438\n",
      "[400]\tcv_agg's l2: 0.170316 + 0.0249747\n",
      "[500]\tcv_agg's l2: 0.171043 + 0.0249063\n"
     ]
    },
    {
     "name": "stderr",
     "output_type": "stream",
     "text": [
      "num_leaves, val_score: 0.163113:  40%|####################                              | 8/20 [00:23<00:40,  3.35s/it][I 2023-10-28 21:55:23,866] Trial 14 finished with value: 0.1710069607484883 and parameters: {'num_leaves': 177}. Best is trial 11 with value: 0.16311308183981033.\n",
      "num_leaves, val_score: 0.163113:  40%|####################                              | 8/20 [00:23<00:40,  3.35s/it]"
     ]
    },
    {
     "name": "stdout",
     "output_type": "stream",
     "text": [
      "Early stopping, best iteration is:\n",
      "[491]\tcv_agg's l2: 0.163113 + 0.0157105\n",
      "[100]\tcv_agg's l2: 0.169171 + 0.0258974\n",
      "[200]\tcv_agg's l2: 0.167933 + 0.0248978\n",
      "[300]\tcv_agg's l2: 0.16966 + 0.0249438\n",
      "[400]\tcv_agg's l2: 0.170316 + 0.0249747\n",
      "[500]\tcv_agg's l2: 0.171043 + 0.0249063\n"
     ]
    },
    {
     "name": "stderr",
     "output_type": "stream",
     "text": [
      "num_leaves, val_score: 0.163113:  45%|######################5                           | 9/20 [00:28<00:45,  4.09s/it][I 2023-10-28 21:55:29,604] Trial 15 finished with value: 0.1710069607484883 and parameters: {'num_leaves': 71}. Best is trial 11 with value: 0.16311308183981033.\n",
      "num_leaves, val_score: 0.163113:  45%|######################5                           | 9/20 [00:28<00:45,  4.09s/it]"
     ]
    },
    {
     "name": "stdout",
     "output_type": "stream",
     "text": [
      "Early stopping, best iteration is:\n",
      "[491]\tcv_agg's l2: 0.163113 + 0.0157105\n",
      "[100]\tcv_agg's l2: 0.169171 + 0.0258974\n",
      "[200]\tcv_agg's l2: 0.167933 + 0.0248978\n",
      "[300]\tcv_agg's l2: 0.16966 + 0.0249438\n",
      "[400]\tcv_agg's l2: 0.170316 + 0.0249747\n",
      "[500]\tcv_agg's l2: 0.171043 + 0.0249063\n"
     ]
    },
    {
     "name": "stderr",
     "output_type": "stream",
     "text": [
      "num_leaves, val_score: 0.163113:  50%|########################5                        | 10/20 [00:34<00:46,  4.63s/it][I 2023-10-28 21:55:35,427] Trial 16 finished with value: 0.1710069607484883 and parameters: {'num_leaves': 239}. Best is trial 11 with value: 0.16311308183981033.\n",
      "num_leaves, val_score: 0.163113:  50%|########################5                        | 10/20 [00:34<00:46,  4.63s/it]"
     ]
    },
    {
     "name": "stdout",
     "output_type": "stream",
     "text": [
      "Early stopping, best iteration is:\n",
      "[491]\tcv_agg's l2: 0.163113 + 0.0157105\n",
      "[100]\tcv_agg's l2: 0.169171 + 0.0258974\n",
      "[200]\tcv_agg's l2: 0.167933 + 0.0248978\n",
      "[300]\tcv_agg's l2: 0.16966 + 0.0249438\n",
      "[400]\tcv_agg's l2: 0.170316 + 0.0249747\n",
      "[500]\tcv_agg's l2: 0.171043 + 0.0249063\n"
     ]
    },
    {
     "name": "stderr",
     "output_type": "stream",
     "text": [
      "num_leaves, val_score: 0.163113:  55%|##########################9                      | 11/20 [00:40<00:44,  4.92s/it][I 2023-10-28 21:55:41,003] Trial 17 finished with value: 0.1710069607484883 and parameters: {'num_leaves': 54}. Best is trial 11 with value: 0.16311308183981033.\n",
      "num_leaves, val_score: 0.163113:  55%|##########################9                      | 11/20 [00:40<00:44,  4.92s/it]"
     ]
    },
    {
     "name": "stdout",
     "output_type": "stream",
     "text": [
      "Early stopping, best iteration is:\n",
      "[491]\tcv_agg's l2: 0.163113 + 0.0157105\n",
      "[100]\tcv_agg's l2: 0.169171 + 0.0258974\n",
      "[200]\tcv_agg's l2: 0.167933 + 0.0248978\n",
      "[300]\tcv_agg's l2: 0.16966 + 0.0249438\n",
      "[400]\tcv_agg's l2: 0.170316 + 0.0249747\n",
      "[500]\tcv_agg's l2: 0.171043 + 0.0249063\n"
     ]
    },
    {
     "name": "stderr",
     "output_type": "stream",
     "text": [
      "num_leaves, val_score: 0.163113:  60%|#############################4                   | 12/20 [00:46<00:41,  5.18s/it][I 2023-10-28 21:55:46,780] Trial 18 finished with value: 0.1710069607484883 and parameters: {'num_leaves': 120}. Best is trial 11 with value: 0.16311308183981033.\n",
      "num_leaves, val_score: 0.163113:  60%|#############################4                   | 12/20 [00:46<00:41,  5.18s/it]"
     ]
    },
    {
     "name": "stdout",
     "output_type": "stream",
     "text": [
      "Early stopping, best iteration is:\n",
      "[491]\tcv_agg's l2: 0.163113 + 0.0157105\n",
      "[100]\tcv_agg's l2: 0.169171 + 0.0258974\n",
      "[200]\tcv_agg's l2: 0.167933 + 0.0248978\n",
      "[300]\tcv_agg's l2: 0.16966 + 0.0249438\n",
      "[400]\tcv_agg's l2: 0.170316 + 0.0249747\n",
      "[500]\tcv_agg's l2: 0.171043 + 0.0249063\n"
     ]
    },
    {
     "name": "stderr",
     "output_type": "stream",
     "text": [
      "num_leaves, val_score: 0.163113:  65%|###############################8                 | 13/20 [00:51<00:37,  5.36s/it][I 2023-10-28 21:55:52,549] Trial 19 finished with value: 0.1710069607484883 and parameters: {'num_leaves': 183}. Best is trial 11 with value: 0.16311308183981033.\n",
      "num_leaves, val_score: 0.163113:  65%|###############################8                 | 13/20 [00:51<00:37,  5.36s/it]"
     ]
    },
    {
     "name": "stdout",
     "output_type": "stream",
     "text": [
      "Early stopping, best iteration is:\n",
      "[491]\tcv_agg's l2: 0.163113 + 0.0157105\n",
      "[100]\tcv_agg's l2: 0.169171 + 0.0258974\n",
      "[200]\tcv_agg's l2: 0.167933 + 0.0248978\n",
      "[300]\tcv_agg's l2: 0.16966 + 0.0249438\n",
      "[400]\tcv_agg's l2: 0.170316 + 0.0249747\n",
      "[500]\tcv_agg's l2: 0.171043 + 0.0249063\n"
     ]
    },
    {
     "name": "stderr",
     "output_type": "stream",
     "text": [
      "num_leaves, val_score: 0.163113:  70%|##################################3              | 14/20 [00:57<00:32,  5.41s/it][I 2023-10-28 21:55:58,074] Trial 20 finished with value: 0.1710069607484883 and parameters: {'num_leaves': 45}. Best is trial 11 with value: 0.16311308183981033.\n",
      "num_leaves, val_score: 0.163113:  70%|##################################3              | 14/20 [00:57<00:32,  5.41s/it]"
     ]
    },
    {
     "name": "stdout",
     "output_type": "stream",
     "text": [
      "Early stopping, best iteration is:\n",
      "[491]\tcv_agg's l2: 0.163113 + 0.0157105\n",
      "[100]\tcv_agg's l2: 0.169171 + 0.0258974\n",
      "[200]\tcv_agg's l2: 0.167933 + 0.0248978\n",
      "[300]\tcv_agg's l2: 0.16966 + 0.0249438\n",
      "[400]\tcv_agg's l2: 0.170316 + 0.0249747\n",
      "[500]\tcv_agg's l2: 0.171043 + 0.0249063\n"
     ]
    },
    {
     "name": "stderr",
     "output_type": "stream",
     "text": [
      "num_leaves, val_score: 0.163113:  75%|####################################7            | 15/20 [01:03<00:27,  5.49s/it][I 2023-10-28 21:56:03,752] Trial 21 finished with value: 0.1710069607484883 and parameters: {'num_leaves': 131}. Best is trial 11 with value: 0.16311308183981033.\n",
      "num_leaves, val_score: 0.163113:  75%|####################################7            | 15/20 [01:03<00:27,  5.49s/it]"
     ]
    },
    {
     "name": "stdout",
     "output_type": "stream",
     "text": [
      "Early stopping, best iteration is:\n",
      "[491]\tcv_agg's l2: 0.163113 + 0.0157105\n",
      "[100]\tcv_agg's l2: 0.169171 + 0.0258974\n",
      "[200]\tcv_agg's l2: 0.167933 + 0.0248978\n",
      "[300]\tcv_agg's l2: 0.16966 + 0.0249438\n",
      "[400]\tcv_agg's l2: 0.170316 + 0.0249747\n",
      "[500]\tcv_agg's l2: 0.171043 + 0.0249063\n"
     ]
    },
    {
     "name": "stderr",
     "output_type": "stream",
     "text": [
      "num_leaves, val_score: 0.163113:  80%|#######################################2         | 16/20 [01:08<00:22,  5.58s/it][I 2023-10-28 21:56:09,527] Trial 22 finished with value: 0.1710069607484883 and parameters: {'num_leaves': 103}. Best is trial 11 with value: 0.16311308183981033.\n",
      "num_leaves, val_score: 0.163113:  80%|#######################################2         | 16/20 [01:08<00:22,  5.58s/it]"
     ]
    },
    {
     "name": "stdout",
     "output_type": "stream",
     "text": [
      "Early stopping, best iteration is:\n",
      "[491]\tcv_agg's l2: 0.163113 + 0.0157105\n",
      "[100]\tcv_agg's l2: 0.169171 + 0.0258974\n",
      "[200]\tcv_agg's l2: 0.167933 + 0.0248978\n",
      "[300]\tcv_agg's l2: 0.16966 + 0.0249438\n",
      "[400]\tcv_agg's l2: 0.170316 + 0.0249747\n",
      "[500]\tcv_agg's l2: 0.171043 + 0.0249063\n"
     ]
    },
    {
     "name": "stderr",
     "output_type": "stream",
     "text": [
      "num_leaves, val_score: 0.163113:  85%|#########################################6       | 17/20 [01:14<00:16,  5.64s/it][I 2023-10-28 21:56:15,302] Trial 23 finished with value: 0.1710069607484883 and parameters: {'num_leaves': 215}. Best is trial 11 with value: 0.16311308183981033.\n",
      "num_leaves, val_score: 0.163113:  85%|#########################################6       | 17/20 [01:14<00:16,  5.64s/it]"
     ]
    },
    {
     "name": "stdout",
     "output_type": "stream",
     "text": [
      "Early stopping, best iteration is:\n",
      "[491]\tcv_agg's l2: 0.163113 + 0.0157105\n",
      "[100]\tcv_agg's l2: 0.169171 + 0.0258974\n",
      "[200]\tcv_agg's l2: 0.167933 + 0.0248978\n",
      "[300]\tcv_agg's l2: 0.16966 + 0.0249438\n",
      "[400]\tcv_agg's l2: 0.170316 + 0.0249747\n",
      "[500]\tcv_agg's l2: 0.171043 + 0.0249063\n"
     ]
    },
    {
     "name": "stderr",
     "output_type": "stream",
     "text": [
      "num_leaves, val_score: 0.163113:  90%|############################################1    | 18/20 [01:20<00:11,  5.77s/it][I 2023-10-28 21:56:21,394] Trial 24 finished with value: 0.1710069607484883 and parameters: {'num_leaves': 104}. Best is trial 11 with value: 0.16311308183981033.\n",
      "num_leaves, val_score: 0.163113:  90%|############################################1    | 18/20 [01:20<00:11,  5.77s/it]"
     ]
    },
    {
     "name": "stdout",
     "output_type": "stream",
     "text": [
      "Early stopping, best iteration is:\n",
      "[491]\tcv_agg's l2: 0.163113 + 0.0157105\n",
      "[100]\tcv_agg's l2: 0.167085 + 0.0254162\n",
      "[200]\tcv_agg's l2: 0.165698 + 0.0244262\n",
      "[300]\tcv_agg's l2: 0.166934 + 0.0245064\n",
      "[400]\tcv_agg's l2: 0.168141 + 0.024932\n",
      "[500]\tcv_agg's l2: 0.168617 + 0.0248239\n"
     ]
    },
    {
     "name": "stderr",
     "output_type": "stream",
     "text": [
      "num_leaves, val_score: 0.163113:  95%|##############################################5  | 19/20 [01:26<00:05,  5.67s/it][I 2023-10-28 21:56:26,823] Trial 25 finished with value: 0.16864236226256826 and parameters: {'num_leaves': 26}. Best is trial 11 with value: 0.16311308183981033.\n",
      "num_leaves, val_score: 0.163113:  95%|##############################################5  | 19/20 [01:26<00:05,  5.67s/it]"
     ]
    },
    {
     "name": "stdout",
     "output_type": "stream",
     "text": [
      "Early stopping, best iteration is:\n",
      "[491]\tcv_agg's l2: 0.163113 + 0.0157105\n",
      "[100]\tcv_agg's l2: 0.169171 + 0.0258974\n",
      "[200]\tcv_agg's l2: 0.167933 + 0.0248978\n",
      "[300]\tcv_agg's l2: 0.16966 + 0.0249438\n",
      "[400]\tcv_agg's l2: 0.170316 + 0.0249747\n",
      "[500]\tcv_agg's l2: 0.171043 + 0.0249063\n"
     ]
    },
    {
     "name": "stderr",
     "output_type": "stream",
     "text": [
      "num_leaves, val_score: 0.163113: 100%|#################################################| 20/20 [01:31<00:00,  5.73s/it][I 2023-10-28 21:56:32,708] Trial 26 finished with value: 0.1710069607484883 and parameters: {'num_leaves': 147}. Best is trial 11 with value: 0.16311308183981033.\n",
      "num_leaves, val_score: 0.163113: 100%|#################################################| 20/20 [01:31<00:00,  4.60s/it]\n"
     ]
    },
    {
     "name": "stdout",
     "output_type": "stream",
     "text": [
      "Early stopping, best iteration is:\n",
      "[491]\tcv_agg's l2: 0.163113 + 0.0157105\n"
     ]
    },
    {
     "name": "stderr",
     "output_type": "stream",
     "text": [
      "bagging, val_score: 0.163113:   0%|                                                             | 0/10 [00:00<?, ?it/s]"
     ]
    },
    {
     "name": "stdout",
     "output_type": "stream",
     "text": [
      "[100]\tcv_agg's l2: 0.203871 + 0.0333669\n",
      "[200]\tcv_agg's l2: 0.188307 + 0.0295965\n",
      "[300]\tcv_agg's l2: 0.185147 + 0.0289285\n",
      "[400]\tcv_agg's l2: 0.182805 + 0.029248\n",
      "[500]\tcv_agg's l2: 0.18077 + 0.0250332\n"
     ]
    },
    {
     "name": "stderr",
     "output_type": "stream",
     "text": [
      "bagging, val_score: 0.163113:  10%|#####3                                               | 1/10 [00:01<00:16,  1.89s/it][I 2023-10-28 21:56:34,605] Trial 27 finished with value: 0.18145315484821656 and parameters: {'bagging_fraction': 0.6338571754712304, 'bagging_freq': 6}. Best is trial 27 with value: 0.18145315484821656.\n",
      "bagging, val_score: 0.163113:  10%|#####3                                               | 1/10 [00:01<00:16,  1.89s/it]"
     ]
    },
    {
     "name": "stdout",
     "output_type": "stream",
     "text": [
      "Early stopping, best iteration is:\n",
      "[491]\tcv_agg's l2: 0.163113 + 0.0157105\n",
      "[100]\tcv_agg's l2: 0.182366 + 0.0278635\n",
      "[200]\tcv_agg's l2: 0.171121 + 0.022599\n",
      "[300]\tcv_agg's l2: 0.167003 + 0.0192932\n",
      "[400]\tcv_agg's l2: 0.165564 + 0.0199251\n",
      "[500]\tcv_agg's l2: 0.164684 + 0.0190568\n"
     ]
    },
    {
     "name": "stderr",
     "output_type": "stream",
     "text": [
      "bagging, val_score: 0.163113:  20%|##########6                                          | 2/10 [00:03<00:15,  2.00s/it][I 2023-10-28 21:56:36,680] Trial 28 finished with value: 0.16459077467398744 and parameters: {'bagging_fraction': 0.9881934739868667, 'bagging_freq': 1}. Best is trial 28 with value: 0.16459077467398744.\n",
      "bagging, val_score: 0.163113:  20%|##########6                                          | 2/10 [00:03<00:15,  2.00s/it]"
     ]
    },
    {
     "name": "stdout",
     "output_type": "stream",
     "text": [
      "Early stopping, best iteration is:\n",
      "[491]\tcv_agg's l2: 0.163113 + 0.0157105\n",
      "[100]\tcv_agg's l2: 0.183 + 0.0240894\n",
      "[200]\tcv_agg's l2: 0.169846 + 0.0189571\n",
      "[300]\tcv_agg's l2: 0.164566 + 0.0163089\n",
      "[400]\tcv_agg's l2: 0.162644 + 0.0147967\n",
      "[500]\tcv_agg's l2: 0.161299 + 0.0144827\n"
     ]
    },
    {
     "name": "stderr",
     "output_type": "stream",
     "text": [
      "bagging, val_score: 0.160683:  30%|###############9                                     | 3/10 [00:05<00:13,  1.86s/it][I 2023-10-28 21:56:38,383] Trial 29 finished with value: 0.16068330569655798 and parameters: {'bagging_fraction': 0.9975477621074372, 'bagging_freq': 1}. Best is trial 29 with value: 0.16068330569655798.\n",
      "bagging, val_score: 0.160683:  30%|###############9                                     | 3/10 [00:05<00:13,  1.86s/it]"
     ]
    },
    {
     "name": "stdout",
     "output_type": "stream",
     "text": [
      "Early stopping, best iteration is:\n",
      "[483]\tcv_agg's l2: 0.160683 + 0.0146017\n",
      "[100]\tcv_agg's l2: 0.187603 + 0.025558\n",
      "[200]\tcv_agg's l2: 0.17456 + 0.0207546\n",
      "[300]\tcv_agg's l2: 0.171598 + 0.0192222\n",
      "[400]\tcv_agg's l2: 0.169267 + 0.0185359\n",
      "[500]\tcv_agg's l2: 0.16808 + 0.0178607\n"
     ]
    },
    {
     "name": "stderr",
     "output_type": "stream",
     "text": [
      "bagging, val_score: 0.160683:  40%|#####################2                               | 4/10 [00:07<00:11,  1.89s/it][I 2023-10-28 21:56:40,325] Trial 30 finished with value: 0.16814643646074615 and parameters: {'bagging_fraction': 0.9676420619871037, 'bagging_freq': 1}. Best is trial 29 with value: 0.16068330569655798.\n",
      "bagging, val_score: 0.160683:  40%|#####################2                               | 4/10 [00:07<00:11,  1.89s/it]"
     ]
    },
    {
     "name": "stdout",
     "output_type": "stream",
     "text": [
      "Early stopping, best iteration is:\n",
      "[483]\tcv_agg's l2: 0.160683 + 0.0146017\n",
      "[100]\tcv_agg's l2: 0.183 + 0.0240894\n",
      "[200]\tcv_agg's l2: 0.169846 + 0.0189571\n",
      "[300]\tcv_agg's l2: 0.164566 + 0.0163089\n",
      "[400]\tcv_agg's l2: 0.162644 + 0.0147967\n",
      "[500]\tcv_agg's l2: 0.161299 + 0.0144827\n"
     ]
    },
    {
     "name": "stderr",
     "output_type": "stream",
     "text": [
      "bagging, val_score: 0.160683:  50%|##########################5                          | 5/10 [00:09<00:09,  1.82s/it][I 2023-10-28 21:56:42,003] Trial 31 finished with value: 0.16068330569655798 and parameters: {'bagging_fraction': 0.9977912189381536, 'bagging_freq': 1}. Best is trial 29 with value: 0.16068330569655798.\n",
      "bagging, val_score: 0.160683:  50%|##########################5                          | 5/10 [00:09<00:09,  1.82s/it]"
     ]
    },
    {
     "name": "stdout",
     "output_type": "stream",
     "text": [
      "Early stopping, best iteration is:\n",
      "[483]\tcv_agg's l2: 0.160683 + 0.0146017\n",
      "[100]\tcv_agg's l2: 0.188023 + 0.0289944\n",
      "[200]\tcv_agg's l2: 0.173567 + 0.0233653\n",
      "[300]\tcv_agg's l2: 0.168703 + 0.02088\n",
      "[400]\tcv_agg's l2: 0.16749 + 0.0188883\n",
      "[500]\tcv_agg's l2: 0.166122 + 0.0174749\n"
     ]
    },
    {
     "name": "stderr",
     "output_type": "stream",
     "text": [
      "bagging, val_score: 0.160683:  60%|###############################8                     | 6/10 [00:11<00:07,  1.78s/it][I 2023-10-28 21:56:43,717] Trial 32 finished with value: 0.1663475402729362 and parameters: {'bagging_fraction': 0.9955491455849467, 'bagging_freq': 1}. Best is trial 29 with value: 0.16068330569655798.\n",
      "bagging, val_score: 0.160683:  60%|###############################8                     | 6/10 [00:11<00:07,  1.78s/it]"
     ]
    },
    {
     "name": "stdout",
     "output_type": "stream",
     "text": [
      "Early stopping, best iteration is:\n",
      "[483]\tcv_agg's l2: 0.160683 + 0.0146017\n",
      "[100]\tcv_agg's l2: 0.187301 + 0.0266325\n",
      "[200]\tcv_agg's l2: 0.172465 + 0.0214027\n",
      "[300]\tcv_agg's l2: 0.168599 + 0.019255\n",
      "[400]\tcv_agg's l2: 0.167274 + 0.0177831\n",
      "[500]\tcv_agg's l2: 0.165925 + 0.0181527\n"
     ]
    },
    {
     "name": "stderr",
     "output_type": "stream",
     "text": [
      "bagging, val_score: 0.160683:  70%|#####################################                | 7/10 [00:12<00:05,  1.78s/it][I 2023-10-28 21:56:45,503] Trial 33 finished with value: 0.1658423205993768 and parameters: {'bagging_fraction': 0.9961653904508934, 'bagging_freq': 1}. Best is trial 29 with value: 0.16068330569655798.\n",
      "bagging, val_score: 0.160683:  70%|#####################################                | 7/10 [00:12<00:05,  1.78s/it]"
     ]
    },
    {
     "name": "stdout",
     "output_type": "stream",
     "text": [
      "Early stopping, best iteration is:\n",
      "[483]\tcv_agg's l2: 0.160683 + 0.0146017\n",
      "[100]\tcv_agg's l2: 0.186172 + 0.0266599\n",
      "[200]\tcv_agg's l2: 0.175013 + 0.0231165\n",
      "[300]\tcv_agg's l2: 0.17046 + 0.0220108\n",
      "[400]\tcv_agg's l2: 0.170551 + 0.0207921\n",
      "[500]\tcv_agg's l2: 0.170666 + 0.0207337\n"
     ]
    },
    {
     "name": "stderr",
     "output_type": "stream",
     "text": [
      "bagging, val_score: 0.160683:  80%|##########################################4          | 8/10 [00:14<00:03,  1.83s/it][I 2023-10-28 21:56:47,431] Trial 34 finished with value: 0.17051202884743044 and parameters: {'bagging_fraction': 0.8405097184797656, 'bagging_freq': 3}. Best is trial 29 with value: 0.16068330569655798.\n",
      "bagging, val_score: 0.160683:  80%|##########################################4          | 8/10 [00:14<00:03,  1.83s/it]"
     ]
    },
    {
     "name": "stdout",
     "output_type": "stream",
     "text": [
      "Early stopping, best iteration is:\n",
      "[483]\tcv_agg's l2: 0.160683 + 0.0146017\n",
      "[100]\tcv_agg's l2: 0.197407 + 0.0224898\n",
      "[200]\tcv_agg's l2: 0.183287 + 0.0215398\n",
      "[300]\tcv_agg's l2: 0.17906 + 0.0188569\n",
      "[400]\tcv_agg's l2: 0.177086 + 0.0189261\n",
      "[500]\tcv_agg's l2: 0.175065 + 0.0173207\n"
     ]
    },
    {
     "name": "stderr",
     "output_type": "stream",
     "text": [
      "bagging, val_score: 0.160683:  90%|###############################################7     | 9/10 [00:16<00:01,  1.85s/it][I 2023-10-28 21:56:49,324] Trial 35 finished with value: 0.17517897010140385 and parameters: {'bagging_fraction': 0.8185579769167156, 'bagging_freq': 3}. Best is trial 29 with value: 0.16068330569655798.\n",
      "bagging, val_score: 0.160683:  90%|###############################################7     | 9/10 [00:16<00:01,  1.85s/it]"
     ]
    },
    {
     "name": "stdout",
     "output_type": "stream",
     "text": [
      "Early stopping, best iteration is:\n",
      "[483]\tcv_agg's l2: 0.160683 + 0.0146017\n",
      "[100]\tcv_agg's l2: 0.195609 + 0.0230206\n",
      "[200]\tcv_agg's l2: 0.182303 + 0.0233778\n",
      "[300]\tcv_agg's l2: 0.179001 + 0.0239262\n",
      "[400]\tcv_agg's l2: 0.178397 + 0.023391\n",
      "[500]\tcv_agg's l2: 0.17871 + 0.0236417\n"
     ]
    },
    {
     "name": "stderr",
     "output_type": "stream",
     "text": [
      "bagging, val_score: 0.160683: 100%|####################################################| 10/10 [00:18<00:00,  1.92s/it][I 2023-10-28 21:56:51,399] Trial 36 finished with value: 0.17702038461113032 and parameters: {'bagging_fraction': 0.5369131562499949, 'bagging_freq': 2}. Best is trial 29 with value: 0.16068330569655798.\n",
      "bagging, val_score: 0.160683: 100%|####################################################| 10/10 [00:18<00:00,  1.87s/it]\n"
     ]
    },
    {
     "name": "stdout",
     "output_type": "stream",
     "text": [
      "Early stopping, best iteration is:\n",
      "[483]\tcv_agg's l2: 0.160683 + 0.0146017\n"
     ]
    },
    {
     "name": "stderr",
     "output_type": "stream",
     "text": [
      "feature_fraction_stage2, val_score: 0.160683:   0%|                                              | 0/3 [00:00<?, ?it/s]"
     ]
    },
    {
     "name": "stdout",
     "output_type": "stream",
     "text": [
      "[100]\tcv_agg's l2: 0.187756 + 0.0341577\n",
      "[200]\tcv_agg's l2: 0.176404 + 0.029958\n",
      "[300]\tcv_agg's l2: 0.170859 + 0.0281373\n",
      "[400]\tcv_agg's l2: 0.168921 + 0.0261184\n",
      "[500]\tcv_agg's l2: 0.167192 + 0.0261993\n"
     ]
    },
    {
     "name": "stderr",
     "output_type": "stream",
     "text": [
      "feature_fraction_stage2, val_score: 0.160683:  33%|############6                         | 1/3 [00:01<00:03,  1.88s/it][I 2023-10-28 21:56:53,290] Trial 37 finished with value: 0.16712722046444417 and parameters: {'feature_fraction': 0.48000000000000004}. Best is trial 37 with value: 0.16712722046444417.\n",
      "feature_fraction_stage2, val_score: 0.160683:  33%|############6                         | 1/3 [00:01<00:03,  1.88s/it]"
     ]
    },
    {
     "name": "stdout",
     "output_type": "stream",
     "text": [
      "Early stopping, best iteration is:\n",
      "[483]\tcv_agg's l2: 0.160683 + 0.0146017\n",
      "[100]\tcv_agg's l2: 0.187756 + 0.0341577\n",
      "[200]\tcv_agg's l2: 0.176404 + 0.029958\n",
      "[300]\tcv_agg's l2: 0.170859 + 0.0281373\n",
      "[400]\tcv_agg's l2: 0.168921 + 0.0261184\n",
      "[500]\tcv_agg's l2: 0.167192 + 0.0261993\n"
     ]
    },
    {
     "name": "stderr",
     "output_type": "stream",
     "text": [
      "feature_fraction_stage2, val_score: 0.160683:  67%|#########################3            | 2/3 [00:03<00:01,  1.80s/it][I 2023-10-28 21:56:55,037] Trial 38 finished with value: 0.16712722046444417 and parameters: {'feature_fraction': 0.44800000000000006}. Best is trial 37 with value: 0.16712722046444417.\n",
      "feature_fraction_stage2, val_score: 0.160683:  67%|#########################3            | 2/3 [00:03<00:01,  1.80s/it]"
     ]
    },
    {
     "name": "stdout",
     "output_type": "stream",
     "text": [
      "Early stopping, best iteration is:\n",
      "[483]\tcv_agg's l2: 0.160683 + 0.0146017\n",
      "[100]\tcv_agg's l2: 0.183 + 0.0240894\n",
      "[200]\tcv_agg's l2: 0.169846 + 0.0189571\n",
      "[300]\tcv_agg's l2: 0.164566 + 0.0163089\n",
      "[400]\tcv_agg's l2: 0.162644 + 0.0147967\n",
      "[500]\tcv_agg's l2: 0.161299 + 0.0144827\n"
     ]
    },
    {
     "name": "stderr",
     "output_type": "stream",
     "text": [
      "feature_fraction_stage2, val_score: 0.160683: 100%|######################################| 3/3 [00:05<00:00,  1.83s/it][I 2023-10-28 21:56:56,891] Trial 39 finished with value: 0.16068330569655798 and parameters: {'feature_fraction': 0.41600000000000004}. Best is trial 39 with value: 0.16068330569655798.\n",
      "feature_fraction_stage2, val_score: 0.160683: 100%|######################################| 3/3 [00:05<00:00,  1.83s/it]\n"
     ]
    },
    {
     "name": "stdout",
     "output_type": "stream",
     "text": [
      "Early stopping, best iteration is:\n",
      "[483]\tcv_agg's l2: 0.160683 + 0.0146017\n"
     ]
    },
    {
     "name": "stderr",
     "output_type": "stream",
     "text": [
      "regularization_factors, val_score: 0.160683:   0%|                                              | 0/20 [00:00<?, ?it/s]"
     ]
    },
    {
     "name": "stdout",
     "output_type": "stream",
     "text": [
      "[100]\tcv_agg's l2: 0.186483 + 0.0292307\n",
      "[200]\tcv_agg's l2: 0.172774 + 0.0286092\n",
      "[300]\tcv_agg's l2: 0.167636 + 0.0275078\n",
      "[400]\tcv_agg's l2: 0.16604 + 0.0265407\n",
      "[500]\tcv_agg's l2: 0.165634 + 0.0263272\n"
     ]
    },
    {
     "name": "stderr",
     "output_type": "stream",
     "text": [
      "regularization_factors, val_score: 0.160683:   5%|#9                                    | 1/20 [00:01<00:32,  1.71s/it][I 2023-10-28 21:56:58,612] Trial 40 finished with value: 0.16578044486126942 and parameters: {'lambda_l1': 0.011636978337017666, 'lambda_l2': 6.859422727027374}. Best is trial 40 with value: 0.16578044486126942.\n",
      "regularization_factors, val_score: 0.160683:   5%|#9                                    | 1/20 [00:01<00:32,  1.71s/it]"
     ]
    },
    {
     "name": "stdout",
     "output_type": "stream",
     "text": [
      "Early stopping, best iteration is:\n",
      "[483]\tcv_agg's l2: 0.160683 + 0.0146017\n",
      "[100]\tcv_agg's l2: 0.183 + 0.0240894\n",
      "[200]\tcv_agg's l2: 0.169846 + 0.0189571\n",
      "[300]\tcv_agg's l2: 0.164566 + 0.0163089\n",
      "[400]\tcv_agg's l2: 0.162644 + 0.0147967\n",
      "[500]\tcv_agg's l2: 0.161299 + 0.0144827\n"
     ]
    },
    {
     "name": "stderr",
     "output_type": "stream",
     "text": [
      "regularization_factors, val_score: 0.160683:  10%|###8                                  | 2/20 [00:03<00:31,  1.74s/it][I 2023-10-28 21:57:00,369] Trial 41 finished with value: 0.16068330560168048 and parameters: {'lambda_l1': 7.573708165357454e-08, 'lambda_l2': 1.5420709160836243e-08}. Best is trial 41 with value: 0.16068330560168048.\n",
      "regularization_factors, val_score: 0.160683:  10%|###8                                  | 2/20 [00:03<00:31,  1.74s/it]"
     ]
    },
    {
     "name": "stdout",
     "output_type": "stream",
     "text": [
      "Early stopping, best iteration is:\n",
      "[483]\tcv_agg's l2: 0.160683 + 0.0146017\n",
      "[100]\tcv_agg's l2: 0.183 + 0.0240894\n",
      "[200]\tcv_agg's l2: 0.169846 + 0.0189571\n",
      "[300]\tcv_agg's l2: 0.164566 + 0.0163089\n",
      "[400]\tcv_agg's l2: 0.162644 + 0.0147967\n",
      "[500]\tcv_agg's l2: 0.161299 + 0.0144827\n"
     ]
    },
    {
     "name": "stderr",
     "output_type": "stream",
     "text": [
      "regularization_factors, val_score: 0.160683:  15%|#####7                                | 3/20 [00:05<00:30,  1.77s/it][I 2023-10-28 21:57:02,182] Trial 42 finished with value: 0.16068330571466913 and parameters: {'lambda_l1': 1.1930438395017406e-08, 'lambda_l2': 1.2382414283118982e-08}. Best is trial 41 with value: 0.16068330560168048.\n",
      "regularization_factors, val_score: 0.160683:  15%|#####7                                | 3/20 [00:05<00:30,  1.77s/it]"
     ]
    },
    {
     "name": "stdout",
     "output_type": "stream",
     "text": [
      "Early stopping, best iteration is:\n",
      "[483]\tcv_agg's l2: 0.160683 + 0.0146017\n",
      "[100]\tcv_agg's l2: 0.183 + 0.0240894\n",
      "[200]\tcv_agg's l2: 0.169846 + 0.0189571\n",
      "[300]\tcv_agg's l2: 0.164566 + 0.0163089\n",
      "[400]\tcv_agg's l2: 0.162644 + 0.0147967\n",
      "[500]\tcv_agg's l2: 0.161299 + 0.0144827\n"
     ]
    },
    {
     "name": "stderr",
     "output_type": "stream",
     "text": [
      "regularization_factors, val_score: 0.160683:  20%|#######6                              | 4/20 [00:07<00:28,  1.75s/it][I 2023-10-28 21:57:03,909] Trial 43 finished with value: 0.16068330570006364 and parameters: {'lambda_l1': 2.070312324212219e-08, 'lambda_l2': 1.5465123008624605e-08}. Best is trial 41 with value: 0.16068330560168048.\n",
      "regularization_factors, val_score: 0.160683:  20%|#######6                              | 4/20 [00:07<00:28,  1.75s/it]"
     ]
    },
    {
     "name": "stdout",
     "output_type": "stream",
     "text": [
      "Early stopping, best iteration is:\n",
      "[483]\tcv_agg's l2: 0.160683 + 0.0146017\n",
      "[100]\tcv_agg's l2: 0.183 + 0.0240894\n",
      "[200]\tcv_agg's l2: 0.169846 + 0.0189571\n",
      "[300]\tcv_agg's l2: 0.164566 + 0.0163089\n",
      "[400]\tcv_agg's l2: 0.162644 + 0.0147967\n",
      "[500]\tcv_agg's l2: 0.161299 + 0.0144827\n"
     ]
    },
    {
     "name": "stderr",
     "output_type": "stream",
     "text": [
      "regularization_factors, val_score: 0.160683:  25%|#########5                            | 5/20 [00:08<00:26,  1.74s/it][I 2023-10-28 21:57:05,616] Trial 44 finished with value: 0.16068330570847816 and parameters: {'lambda_l1': 2.419513884939708e-08, 'lambda_l2': 1.0500857265815595e-08}. Best is trial 41 with value: 0.16068330560168048.\n",
      "regularization_factors, val_score: 0.160683:  25%|#########5                            | 5/20 [00:08<00:26,  1.74s/it]"
     ]
    },
    {
     "name": "stdout",
     "output_type": "stream",
     "text": [
      "Early stopping, best iteration is:\n",
      "[483]\tcv_agg's l2: 0.160683 + 0.0146017\n",
      "[100]\tcv_agg's l2: 0.183 + 0.0240894\n",
      "[200]\tcv_agg's l2: 0.169846 + 0.0189571\n",
      "[300]\tcv_agg's l2: 0.164566 + 0.0163089\n",
      "[400]\tcv_agg's l2: 0.162644 + 0.0147967\n",
      "[500]\tcv_agg's l2: 0.161299 + 0.0144827\n"
     ]
    },
    {
     "name": "stderr",
     "output_type": "stream",
     "text": [
      "regularization_factors, val_score: 0.160683:  30%|###########4                          | 6/20 [00:10<00:24,  1.77s/it][I 2023-10-28 21:57:07,437] Trial 45 finished with value: 0.16068330272921402 and parameters: {'lambda_l1': 2.806311927422515e-06, 'lambda_l2': 4.23550060021186e-07}. Best is trial 45 with value: 0.16068330272921402.\n",
      "regularization_factors, val_score: 0.160683:  30%|###########4                          | 6/20 [00:10<00:24,  1.77s/it]"
     ]
    },
    {
     "name": "stdout",
     "output_type": "stream",
     "text": [
      "Early stopping, best iteration is:\n",
      "[483]\tcv_agg's l2: 0.160683 + 0.0146017\n",
      "[100]\tcv_agg's l2: 0.183 + 0.0240894\n",
      "[200]\tcv_agg's l2: 0.169846 + 0.0189571\n",
      "[300]\tcv_agg's l2: 0.164566 + 0.0163089\n",
      "[400]\tcv_agg's l2: 0.162644 + 0.0147968\n",
      "[500]\tcv_agg's l2: 0.161299 + 0.0144828\n"
     ]
    },
    {
     "name": "stderr",
     "output_type": "stream",
     "text": [
      "regularization_factors, val_score: 0.160683:  35%|#############3                        | 7/20 [00:12<00:22,  1.76s/it][I 2023-10-28 21:57:09,177] Trial 46 finished with value: 0.1606832861501077 and parameters: {'lambda_l1': 1.9683975815400337e-05, 'lambda_l2': 3.390501404997096e-06}. Best is trial 46 with value: 0.1606832861501077.\n",
      "regularization_factors, val_score: 0.160683:  35%|#############3                        | 7/20 [00:12<00:22,  1.76s/it]"
     ]
    },
    {
     "name": "stdout",
     "output_type": "stream",
     "text": [
      "Early stopping, best iteration is:\n",
      "[483]\tcv_agg's l2: 0.160683 + 0.0146018\n",
      "[100]\tcv_agg's l2: 0.183 + 0.0240894\n",
      "[200]\tcv_agg's l2: 0.169846 + 0.0189571\n",
      "[300]\tcv_agg's l2: 0.164566 + 0.0163089\n",
      "[400]\tcv_agg's l2: 0.162644 + 0.0147968\n",
      "[500]\tcv_agg's l2: 0.161299 + 0.0144827\n"
     ]
    },
    {
     "name": "stderr",
     "output_type": "stream",
     "text": [
      "regularization_factors, val_score: 0.160683:  40%|###############2                      | 8/20 [00:14<00:21,  1.75s/it][I 2023-10-28 21:57:10,920] Trial 47 finished with value: 0.1606832872510801 and parameters: {'lambda_l1': 1.773472000877862e-05, 'lambda_l2': 4.903301684460194e-06}. Best is trial 46 with value: 0.1606832861501077.\n",
      "regularization_factors, val_score: 0.160683:  40%|###############2                      | 8/20 [00:14<00:21,  1.75s/it]"
     ]
    },
    {
     "name": "stdout",
     "output_type": "stream",
     "text": [
      "Early stopping, best iteration is:\n",
      "[483]\tcv_agg's l2: 0.160683 + 0.0146018\n",
      "[100]\tcv_agg's l2: 0.183 + 0.0240894\n",
      "[200]\tcv_agg's l2: 0.169846 + 0.0189571\n",
      "[300]\tcv_agg's l2: 0.164566 + 0.0163089\n",
      "[400]\tcv_agg's l2: 0.162644 + 0.0147968\n",
      "[500]\tcv_agg's l2: 0.161299 + 0.0144828\n"
     ]
    },
    {
     "name": "stderr",
     "output_type": "stream",
     "text": [
      "regularization_factors, val_score: 0.160683:  45%|#################1                    | 9/20 [00:15<00:19,  1.74s/it][I 2023-10-28 21:57:12,639] Trial 48 finished with value: 0.16068328516286218 and parameters: {'lambda_l1': 1.9699716907120422e-05, 'lambda_l2': 6.06402283062668e-06}. Best is trial 48 with value: 0.16068328516286218.\n",
      "regularization_factors, val_score: 0.160683:  45%|#################1                    | 9/20 [00:15<00:19,  1.74s/it]"
     ]
    },
    {
     "name": "stdout",
     "output_type": "stream",
     "text": [
      "Early stopping, best iteration is:\n",
      "[483]\tcv_agg's l2: 0.160683 + 0.0146018\n",
      "[100]\tcv_agg's l2: 0.183 + 0.0240894\n",
      "[200]\tcv_agg's l2: 0.169846 + 0.0189571\n",
      "[300]\tcv_agg's l2: 0.164566 + 0.0163089\n",
      "[400]\tcv_agg's l2: 0.162644 + 0.0147968\n",
      "[500]\tcv_agg's l2: 0.161299 + 0.0144827\n"
     ]
    },
    {
     "name": "stderr",
     "output_type": "stream",
     "text": [
      "regularization_factors, val_score: 0.160683:  50%|##################5                  | 10/20 [00:18<00:19,  1.97s/it][I 2023-10-28 21:57:15,125] Trial 49 finished with value: 0.1606832905750562 and parameters: {'lambda_l1': 1.328892186346639e-05, 'lambda_l2': 7.640648370705034e-06}. Best is trial 48 with value: 0.16068328516286218.\n",
      "regularization_factors, val_score: 0.160683:  50%|##################5                  | 10/20 [00:18<00:19,  1.97s/it]"
     ]
    },
    {
     "name": "stdout",
     "output_type": "stream",
     "text": [
      "Early stopping, best iteration is:\n",
      "[483]\tcv_agg's l2: 0.160683 + 0.0146018\n",
      "[100]\tcv_agg's l2: 0.183 + 0.0240894\n",
      "[200]\tcv_agg's l2: 0.169846 + 0.0189571\n",
      "[300]\tcv_agg's l2: 0.164566 + 0.0163089\n",
      "[400]\tcv_agg's l2: 0.162644 + 0.0147968\n",
      "[500]\tcv_agg's l2: 0.161299 + 0.0144828\n"
     ]
    },
    {
     "name": "stderr",
     "output_type": "stream",
     "text": [
      "regularization_factors, val_score: 0.160683:  55%|####################3                | 11/20 [00:20<00:19,  2.15s/it][I 2023-10-28 21:57:17,682] Trial 50 finished with value: 0.1606832697286125 and parameters: {'lambda_l1': 3.4800231534686476e-05, 'lambda_l2': 9.411955386981687e-06}. Best is trial 50 with value: 0.1606832697286125.\n",
      "regularization_factors, val_score: 0.160683:  55%|####################3                | 11/20 [00:20<00:19,  2.15s/it]"
     ]
    },
    {
     "name": "stdout",
     "output_type": "stream",
     "text": [
      "Early stopping, best iteration is:\n",
      "[483]\tcv_agg's l2: 0.160683 + 0.0146018\n",
      "[100]\tcv_agg's l2: 0.183 + 0.0240894\n",
      "[200]\tcv_agg's l2: 0.169846 + 0.0189571\n",
      "[300]\tcv_agg's l2: 0.164566 + 0.0163089\n",
      "[400]\tcv_agg's l2: 0.162644 + 0.0147968\n",
      "[500]\tcv_agg's l2: 0.161299 + 0.0144828\n"
     ]
    },
    {
     "name": "stderr",
     "output_type": "stream",
     "text": [
      "regularization_factors, val_score: 0.160683:  60%|######################2              | 12/20 [00:22<00:17,  2.13s/it][I 2023-10-28 21:57:19,776] Trial 51 finished with value: 0.16068327195159074 and parameters: {'lambda_l1': 3.320362393614957e-05, 'lambda_l2': 7.234395521611643e-06}. Best is trial 50 with value: 0.1606832697286125.\n",
      "regularization_factors, val_score: 0.160683:  60%|######################2              | 12/20 [00:22<00:17,  2.13s/it]"
     ]
    },
    {
     "name": "stdout",
     "output_type": "stream",
     "text": [
      "Early stopping, best iteration is:\n",
      "[483]\tcv_agg's l2: 0.160683 + 0.0146018\n",
      "[100]\tcv_agg's l2: 0.183 + 0.0240894\n",
      "[200]\tcv_agg's l2: 0.169846 + 0.0189571\n",
      "[300]\tcv_agg's l2: 0.164566 + 0.0163089\n",
      "[400]\tcv_agg's l2: 0.162644 + 0.0147968\n",
      "[500]\tcv_agg's l2: 0.161299 + 0.0144828\n"
     ]
    },
    {
     "name": "stderr",
     "output_type": "stream",
     "text": [
      "regularization_factors, val_score: 0.160683:  65%|########################             | 13/20 [00:24<00:14,  2.08s/it][I 2023-10-28 21:57:21,732] Trial 52 finished with value: 0.16068326534100966 and parameters: {'lambda_l1': 3.889476433715441e-05, 'lambda_l2': 1.114178461902557e-05}. Best is trial 52 with value: 0.16068326534100966.\n",
      "regularization_factors, val_score: 0.160683:  65%|########################             | 13/20 [00:24<00:14,  2.08s/it]"
     ]
    },
    {
     "name": "stdout",
     "output_type": "stream",
     "text": [
      "Early stopping, best iteration is:\n",
      "[483]\tcv_agg's l2: 0.160683 + 0.0146018\n",
      "[100]\tcv_agg's l2: 0.183 + 0.0240895\n",
      "[200]\tcv_agg's l2: 0.169846 + 0.0189571\n",
      "[300]\tcv_agg's l2: 0.164566 + 0.016309\n",
      "[400]\tcv_agg's l2: 0.162644 + 0.0147968\n",
      "[500]\tcv_agg's l2: 0.161299 + 0.0144828\n"
     ]
    },
    {
     "name": "stderr",
     "output_type": "stream",
     "text": [
      "regularization_factors, val_score: 0.160683:  70%|#########################9           | 14/20 [00:26<00:11,  1.98s/it][I 2023-10-28 21:57:23,467] Trial 53 finished with value: 0.1606832581348373 and parameters: {'lambda_l1': 4.675967733466477e-05, 'lambda_l2': 1.0175882166271713e-05}. Best is trial 53 with value: 0.1606832581348373.\n",
      "regularization_factors, val_score: 0.160683:  70%|#########################9           | 14/20 [00:26<00:11,  1.98s/it]"
     ]
    },
    {
     "name": "stdout",
     "output_type": "stream",
     "text": [
      "Early stopping, best iteration is:\n",
      "[483]\tcv_agg's l2: 0.160683 + 0.0146018\n",
      "[100]\tcv_agg's l2: 0.183 + 0.0240895\n",
      "[200]\tcv_agg's l2: 0.169846 + 0.0189572\n",
      "[300]\tcv_agg's l2: 0.164566 + 0.016309\n",
      "[400]\tcv_agg's l2: 0.162644 + 0.0147968\n",
      "[500]\tcv_agg's l2: 0.161299 + 0.0144828\n"
     ]
    },
    {
     "name": "stderr",
     "output_type": "stream",
     "text": [
      "regularization_factors, val_score: 0.160683:  75%|###########################7         | 15/20 [00:28<00:09,  1.89s/it][I 2023-10-28 21:57:25,150] Trial 54 finished with value: 0.16068324399766917 and parameters: {'lambda_l1': 5.916766022467656e-05, 'lambda_l2': 1.670479576125135e-05}. Best is trial 54 with value: 0.16068324399766917.\n",
      "regularization_factors, val_score: 0.160683:  75%|###########################7         | 15/20 [00:28<00:09,  1.89s/it]"
     ]
    },
    {
     "name": "stdout",
     "output_type": "stream",
     "text": [
      "Early stopping, best iteration is:\n",
      "[483]\tcv_agg's l2: 0.160683 + 0.0146018\n",
      "[100]\tcv_agg's l2: 0.183 + 0.0240897\n",
      "[200]\tcv_agg's l2: 0.170052 + 0.0188277\n",
      "[300]\tcv_agg's l2: 0.164877 + 0.0162387\n",
      "[400]\tcv_agg's l2: 0.162993 + 0.0149159\n",
      "[500]\tcv_agg's l2: 0.16256 + 0.0139953\n"
     ]
    },
    {
     "name": "stderr",
     "output_type": "stream",
     "text": [
      "regularization_factors, val_score: 0.160683:  80%|#############################6       | 16/20 [00:30<00:07,  1.88s/it][I 2023-10-28 21:57:27,019] Trial 55 finished with value: 0.16204440974489567 and parameters: {'lambda_l1': 0.00022808247421476699, 'lambda_l2': 4.699540056915811e-05}. Best is trial 54 with value: 0.16068324399766917.\n",
      "regularization_factors, val_score: 0.160683:  80%|#############################6       | 16/20 [00:30<00:07,  1.88s/it]"
     ]
    },
    {
     "name": "stdout",
     "output_type": "stream",
     "text": [
      "Early stopping, best iteration is:\n",
      "[483]\tcv_agg's l2: 0.160683 + 0.0146018\n",
      "[100]\tcv_agg's l2: 0.183 + 0.0240896\n",
      "[200]\tcv_agg's l2: 0.170052 + 0.0188276\n",
      "[300]\tcv_agg's l2: 0.164877 + 0.0162386\n",
      "[400]\tcv_agg's l2: 0.162993 + 0.0149158\n",
      "[500]\tcv_agg's l2: 0.16256 + 0.0139952\n"
     ]
    },
    {
     "name": "stderr",
     "output_type": "stream",
     "text": [
      "regularization_factors, val_score: 0.160683:  85%|###############################4     | 17/20 [00:31<00:05,  1.82s/it][I 2023-10-28 21:57:28,701] Trial 56 finished with value: 0.16204452490803933 and parameters: {'lambda_l1': 0.00016779554606583623, 'lambda_l2': 5.667355977591176e-05}. Best is trial 54 with value: 0.16068324399766917.\n",
      "regularization_factors, val_score: 0.160683:  85%|###############################4     | 17/20 [00:31<00:05,  1.82s/it]"
     ]
    },
    {
     "name": "stdout",
     "output_type": "stream",
     "text": [
      "Early stopping, best iteration is:\n",
      "[483]\tcv_agg's l2: 0.160683 + 0.0146018\n",
      "[100]\tcv_agg's l2: 0.183 + 0.0240896\n",
      "[200]\tcv_agg's l2: 0.170036 + 0.0188405\n",
      "[300]\tcv_agg's l2: 0.164858 + 0.0162551\n",
      "[400]\tcv_agg's l2: 0.162785 + 0.0151173\n",
      "[500]\tcv_agg's l2: 0.161948 + 0.0145753\n"
     ]
    },
    {
     "name": "stderr",
     "output_type": "stream",
     "text": [
      "regularization_factors, val_score: 0.160683:  90%|#################################3   | 18/20 [00:33<00:03,  1.80s/it][I 2023-10-28 21:57:30,441] Trial 57 finished with value: 0.16155974091815933 and parameters: {'lambda_l1': 0.000159660914657078, 'lambda_l2': 1.9875417140327246e-05}. Best is trial 54 with value: 0.16068324399766917.\n",
      "regularization_factors, val_score: 0.160683:  90%|#################################3   | 18/20 [00:33<00:03,  1.80s/it]"
     ]
    },
    {
     "name": "stdout",
     "output_type": "stream",
     "text": [
      "Early stopping, best iteration is:\n",
      "[483]\tcv_agg's l2: 0.160683 + 0.0146018\n",
      "[100]\tcv_agg's l2: 0.183 + 0.0240894\n",
      "[200]\tcv_agg's l2: 0.169846 + 0.0189571\n",
      "[300]\tcv_agg's l2: 0.164566 + 0.0163089\n",
      "[400]\tcv_agg's l2: 0.162644 + 0.0147968\n",
      "[500]\tcv_agg's l2: 0.161299 + 0.0144828\n"
     ]
    },
    {
     "name": "stderr",
     "output_type": "stream",
     "text": [
      "regularization_factors, val_score: 0.160683:  95%|###################################1 | 19/20 [00:35<00:01,  1.77s/it][I 2023-10-28 21:57:32,143] Trial 58 finished with value: 0.16068328125040765 and parameters: {'lambda_l1': 2.4901898603880075e-05, 'lambda_l2': 2.7451740051922392e-06}. Best is trial 54 with value: 0.16068324399766917.\n",
      "regularization_factors, val_score: 0.160683:  95%|###################################1 | 19/20 [00:35<00:01,  1.77s/it]"
     ]
    },
    {
     "name": "stdout",
     "output_type": "stream",
     "text": [
      "Early stopping, best iteration is:\n",
      "[483]\tcv_agg's l2: 0.160683 + 0.0146018\n",
      "[100]\tcv_agg's l2: 0.183002 + 0.0240909\n",
      "[200]\tcv_agg's l2: 0.170053 + 0.018829\n",
      "[300]\tcv_agg's l2: 0.164833 + 0.0162603\n",
      "[400]\tcv_agg's l2: 0.162485 + 0.0147812\n",
      "[500]\tcv_agg's l2: 0.161375 + 0.0148046\n"
     ]
    },
    {
     "name": "stderr",
     "output_type": "stream",
     "text": [
      "regularization_factors, val_score: 0.160683: 100%|#####################################| 20/20 [00:36<00:00,  1.73s/it][I 2023-10-28 21:57:33,797] Trial 59 finished with value: 0.16141786244951173 and parameters: {'lambda_l1': 0.0010122926497775576, 'lambda_l2': 0.0001929604510918155}. Best is trial 54 with value: 0.16068324399766917.\n",
      "regularization_factors, val_score: 0.160683: 100%|#####################################| 20/20 [00:36<00:00,  1.85s/it]\n"
     ]
    },
    {
     "name": "stdout",
     "output_type": "stream",
     "text": [
      "Early stopping, best iteration is:\n",
      "[483]\tcv_agg's l2: 0.160683 + 0.0146018\n"
     ]
    },
    {
     "name": "stderr",
     "output_type": "stream",
     "text": [
      "min_data_in_leaf, val_score: 0.160683:   0%|                                                     | 0/5 [00:00<?, ?it/s]"
     ]
    },
    {
     "name": "stdout",
     "output_type": "stream",
     "text": [
      "[100]\tcv_agg's l2: 0.194553 + 0.0233723\n",
      "[200]\tcv_agg's l2: 0.184638 + 0.0187601\n",
      "[300]\tcv_agg's l2: 0.178942 + 0.0181556\n",
      "[400]\tcv_agg's l2: 0.176189 + 0.0171045\n",
      "[500]\tcv_agg's l2: 0.174951 + 0.0175055\n"
     ]
    },
    {
     "name": "stderr",
     "output_type": "stream",
     "text": [
      "min_data_in_leaf, val_score: 0.160683:  20%|#########                                    | 1/5 [00:01<00:06,  1.67s/it][I 2023-10-28 21:57:35,476] Trial 60 finished with value: 0.17517185436840382 and parameters: {'min_child_samples': 25}. Best is trial 60 with value: 0.17517185436840382.\n",
      "min_data_in_leaf, val_score: 0.160683:  20%|#########                                    | 1/5 [00:01<00:06,  1.67s/it]"
     ]
    },
    {
     "name": "stdout",
     "output_type": "stream",
     "text": [
      "Early stopping, best iteration is:\n",
      "[483]\tcv_agg's l2: 0.160683 + 0.0146018\n",
      "[100]\tcv_agg's l2: 0.176108 + 0.0222876\n",
      "[200]\tcv_agg's l2: 0.160922 + 0.0205709\n",
      "[300]\tcv_agg's l2: 0.15541 + 0.0194982\n",
      "[400]\tcv_agg's l2: 0.153493 + 0.0168074\n",
      "[500]\tcv_agg's l2: 0.152518 + 0.0153044\n"
     ]
    },
    {
     "name": "stderr",
     "output_type": "stream",
     "text": [
      "\r",
      "min_data_in_leaf, val_score: 0.152025:  20%|#########                                    | 1/5 [00:03<00:06,  1.67s/it]"
     ]
    },
    {
     "name": "stdout",
     "output_type": "stream",
     "text": [
      "[600]\tcv_agg's l2: 0.152449 + 0.0157179\n",
      "Early stopping, best iteration is:\n",
      "[569]\tcv_agg's l2: 0.152025 + 0.0155369\n"
     ]
    },
    {
     "name": "stderr",
     "output_type": "stream",
     "text": [
      "min_data_in_leaf, val_score: 0.152025:  40%|##################                           | 2/5 [00:03<00:05,  1.85s/it][I 2023-10-28 21:57:37,447] Trial 61 finished with value: 0.15202489116326917 and parameters: {'min_child_samples': 5}. Best is trial 61 with value: 0.15202489116326917.\n",
      "min_data_in_leaf, val_score: 0.152025:  40%|##################                           | 2/5 [00:03<00:05,  1.85s/it]"
     ]
    },
    {
     "name": "stdout",
     "output_type": "stream",
     "text": [
      "[100]\tcv_agg's l2: 0.687853 + 0.0581723\n",
      "[200]\tcv_agg's l2: 0.645544 + 0.0576653\n",
      "[300]\tcv_agg's l2: 0.627321 + 0.0657924\n",
      "[400]\tcv_agg's l2: 0.612965 + 0.0698756\n",
      "[500]\tcv_agg's l2: 0.60545 + 0.0727112\n"
     ]
    },
    {
     "name": "stderr",
     "output_type": "stream",
     "text": [
      "\r",
      "min_data_in_leaf, val_score: 0.152025:  40%|##################                           | 2/5 [00:05<00:05,  1.85s/it]"
     ]
    },
    {
     "name": "stdout",
     "output_type": "stream",
     "text": [
      "[600]\tcv_agg's l2: 0.597419 + 0.073684\n",
      "Early stopping, best iteration is:\n",
      "[569]\tcv_agg's l2: 0.152025 + 0.0155369\n"
     ]
    },
    {
     "name": "stderr",
     "output_type": "stream",
     "text": [
      "min_data_in_leaf, val_score: 0.152025:  60%|###########################                  | 3/5 [00:05<00:03,  1.84s/it][I 2023-10-28 21:57:39,288] Trial 62 finished with value: 0.6000965194138206 and parameters: {'min_child_samples': 100}. Best is trial 61 with value: 0.15202489116326917.\n",
      "min_data_in_leaf, val_score: 0.152025:  60%|###########################                  | 3/5 [00:05<00:03,  1.84s/it]"
     ]
    },
    {
     "name": "stdout",
     "output_type": "stream",
     "text": [
      "[100]\tcv_agg's l2: 0.175472 + 0.0244107\n",
      "[200]\tcv_agg's l2: 0.163535 + 0.0232698\n",
      "[300]\tcv_agg's l2: 0.157249 + 0.0217102\n",
      "[400]\tcv_agg's l2: 0.152624 + 0.0184441\n",
      "[500]\tcv_agg's l2: 0.150745 + 0.0176332\n",
      "[600]\tcv_agg's l2: 0.150128 + 0.0167689\n",
      "[700]\tcv_agg's l2: 0.149527 + 0.0163615\n"
     ]
    },
    {
     "name": "stderr",
     "output_type": "stream",
     "text": [
      "min_data_in_leaf, val_score: 0.149434:  80%|####################################         | 4/5 [00:08<00:02,  2.28s/it][I 2023-10-28 21:57:42,242] Trial 63 finished with value: 0.14943387515558357 and parameters: {'min_child_samples': 10}. Best is trial 63 with value: 0.14943387515558357.\n",
      "min_data_in_leaf, val_score: 0.149434:  80%|####################################         | 4/5 [00:08<00:02,  2.28s/it]"
     ]
    },
    {
     "name": "stdout",
     "output_type": "stream",
     "text": [
      "[800]\tcv_agg's l2: 0.149811 + 0.0162836\n",
      "Early stopping, best iteration is:\n",
      "[710]\tcv_agg's l2: 0.149434 + 0.0162368\n",
      "[100]\tcv_agg's l2: 0.251874 + 0.0264593\n",
      "[200]\tcv_agg's l2: 0.236628 + 0.0202567\n",
      "[300]\tcv_agg's l2: 0.229941 + 0.0192379\n",
      "[400]\tcv_agg's l2: 0.225103 + 0.019667\n",
      "[500]\tcv_agg's l2: 0.221458 + 0.0191389\n",
      "[600]\tcv_agg's l2: 0.218763 + 0.0197895\n",
      "[700]\tcv_agg's l2: 0.217657 + 0.0208367\n"
     ]
    },
    {
     "name": "stderr",
     "output_type": "stream",
     "text": [
      "min_data_in_leaf, val_score: 0.149434: 100%|#############################################| 5/5 [00:09<00:00,  2.02s/it][I 2023-10-28 21:57:43,801] Trial 64 finished with value: 0.21752421010327322 and parameters: {'min_child_samples': 50}. Best is trial 63 with value: 0.14943387515558357.\n",
      "min_data_in_leaf, val_score: 0.149434: 100%|#############################################| 5/5 [00:10<00:00,  2.00s/it]"
     ]
    },
    {
     "name": "stdout",
     "output_type": "stream",
     "text": [
      "[800]\tcv_agg's l2: 0.216742 + 0.021411\n",
      "Early stopping, best iteration is:\n",
      "[710]\tcv_agg's l2: 0.149434 + 0.0162368\n"
     ]
    },
    {
     "name": "stderr",
     "output_type": "stream",
     "text": [
      "\n"
     ]
    }
   ],
   "source": [
    "import optuna.integration.lightgbm as lgb\n",
    "from lightgbm import early_stopping\n",
    "from sklearn.model_selection import KFold\n",
    "from sklearn.model_selection import RepeatedKFold\n",
    "\n",
    "\n",
    "lgb_train = lgb.Dataset(X_train_random_split, y_train_random_split)\n",
    "\n",
    "params = {\n",
    "    \"boosting_type\": \"gbdt\",\n",
    "    \"objective\": \"regression\",\n",
    "    \"metric\": \"l2\",\n",
    "    \"verbosity\": -1,\n",
    "}\n",
    "\n",
    "tuner = lgb.LightGBMTunerCV(\n",
    "    params,\n",
    "    lgb_train,\n",
    "    folds=KFold(n_splits=5),\n",
    "    num_boost_round=10000,\n",
    "    callbacks=[early_stopping(100), log_evaluation(100)],\n",
    ")\n",
    "\n",
    "tuner.run()"
   ]
  },
  {
   "cell_type": "code",
   "execution_count": 34,
   "id": "c07cf3c6",
   "metadata": {},
   "outputs": [
    {
     "name": "stdout",
     "output_type": "stream",
     "text": [
      "Best score: 0.14943387515558357\n",
      "Params: \n",
      "    boosting_type: gbdt\n",
      "    objective: regression\n",
      "    metric: l2\n",
      "    verbosity: -1\n",
      "    feature_pre_filter: False\n",
      "    lambda_l1: 5.916766022467656e-05\n",
      "    lambda_l2: 1.670479576125135e-05\n",
      "    num_leaves: 6\n",
      "    feature_fraction: 0.4\n",
      "    bagging_fraction: 0.9975477621074372\n",
      "    bagging_freq: 1\n",
      "    min_child_samples: 10\n"
     ]
    }
   ],
   "source": [
    "print(f\"Best score: {tuner.best_score}\")\n",
    "best_params = tuner.best_params\n",
    "print(\"Params: \")\n",
    "for key, value in best_params.items():\n",
    "    print(\"    {}: {}\".format(key, value))"
   ]
  },
  {
   "cell_type": "code",
   "execution_count": 35,
   "id": "47a1bc33",
   "metadata": {},
   "outputs": [],
   "source": [
    "import lightgbm as lgb\n",
    "\n",
    "lgb_tuned = lgb.train(\n",
    "    best_params,\n",
    "    lgb_train,\n",
    "    num_boost_round=10000,\n",
    ")"
   ]
  },
  {
   "cell_type": "code",
   "execution_count": 36,
   "id": "4c17765e",
   "metadata": {},
   "outputs": [
    {
     "name": "stdout",
     "output_type": "stream",
     "text": [
      "RMSE train: 0.00\n",
      "RMSE test: 0.35\n",
      "MSE test: 0.12\n",
      "MAE test: 0.24\n",
      "\n"
     ]
    }
   ],
   "source": [
    "rmse, mse, mae = assess_regression_model(\n",
    "    lgb_tuned,\n",
    "    X_train_random_split,\n",
    "    X_test_random_split,\n",
    "    y_train_random_split,\n",
    "    y_test_random_split,\n",
    ")"
   ]
  },
  {
   "cell_type": "code",
   "execution_count": 37,
   "id": "9caec811",
   "metadata": {},
   "outputs": [],
   "source": [
    "results.loc[4] = [\"random\", \"Optuna\", len(X_test.columns), mse, rmse, mae]"
   ]
  },
  {
   "cell_type": "code",
   "execution_count": 38,
   "id": "859f12f2",
   "metadata": {},
   "outputs": [
    {
     "name": "stdout",
     "output_type": "stream",
     "text": [
      "Normal:\n",
      "MSE: 0.04\n",
      "RMSE: 0.20\n",
      "\n",
      "Round type: round\n",
      "MSE: 0.04\n",
      "RMSE: 0.20\n",
      "\n",
      "Round type: 0.33\n",
      "MSE: 0.05\n",
      "RMSE: 0.23\n",
      "\n",
      "Round type: 0.45\n",
      "MSE: 0.04\n",
      "RMSE: 0.19\n",
      "\n"
     ]
    }
   ],
   "source": [
    "predict = lgb_tuned.predict(X_test)\n",
    "check_round_predictions([\"round\", 0.33, 0.45], y_test, predict)"
   ]
  },
  {
   "cell_type": "code",
   "execution_count": 39,
   "id": "a046eead",
   "metadata": {},
   "outputs": [
    {
     "data": {
      "image/png": "[encoded data removed]",
      "text/plain": [
       "<Figure size 432x288 with 2 Axes>"
      ]
     },
     "metadata": {
      "needs_background": "light"
     },
     "output_type": "display_data"
    }
   ],
   "source": [
    "plot_confusion_matrix(\"round\", predict, y_test)"
   ]
  },
  {
   "cell_type": "markdown",
   "id": "2e230699",
   "metadata": {},
   "source": [
    "## Summary"
   ]
  },
  {
   "cell_type": "code",
   "execution_count": 40,
   "id": "2edd08be",
   "metadata": {},
   "outputs": [
    {
     "data": {
      "text/html": [
       "<div>\n",
       "<style scoped>\n",
       "    .dataframe tbody tr th:only-of-type {\n",
       "        vertical-align: middle;\n",
       "    }\n",
       "\n",
       "    .dataframe tbody tr th {\n",
       "        vertical-align: top;\n",
       "    }\n",
       "\n",
       "    .dataframe thead th {\n",
       "        text-align: right;\n",
       "    }\n",
       "</style>\n",
       "<table border=\"1\" class=\"dataframe\">\n",
       "  <thead>\n",
       "    <tr style=\"text-align: right;\">\n",
       "      <th></th>\n",
       "      <th>Split type</th>\n",
       "      <th>Tuning type</th>\n",
       "      <th>Number of characteristics</th>\n",
       "      <th>MSE</th>\n",
       "      <th>RMSE</th>\n",
       "      <th>MAE</th>\n",
       "    </tr>\n",
       "  </thead>\n",
       "  <tbody>\n",
       "    <tr>\n",
       "      <th>0</th>\n",
       "      <td>chronological</td>\n",
       "      <td>normal</td>\n",
       "      <td>13</td>\n",
       "      <td>0.260866</td>\n",
       "      <td>0.510751</td>\n",
       "      <td>0.357177</td>\n",
       "    </tr>\n",
       "    <tr>\n",
       "      <th>1</th>\n",
       "      <td>chronological</td>\n",
       "      <td>Optuna</td>\n",
       "      <td>13</td>\n",
       "      <td>0.213902</td>\n",
       "      <td>0.462495</td>\n",
       "      <td>0.337589</td>\n",
       "    </tr>\n",
       "    <tr>\n",
       "      <th>3</th>\n",
       "      <td>random</td>\n",
       "      <td>normal</td>\n",
       "      <td>13</td>\n",
       "      <td>0.148111</td>\n",
       "      <td>0.384853</td>\n",
       "      <td>0.267273</td>\n",
       "    </tr>\n",
       "    <tr>\n",
       "      <th>4</th>\n",
       "      <td>random</td>\n",
       "      <td>Optuna</td>\n",
       "      <td>13</td>\n",
       "      <td>0.123021</td>\n",
       "      <td>0.350743</td>\n",
       "      <td>0.242031</td>\n",
       "    </tr>\n",
       "  </tbody>\n",
       "</table>\n",
       "</div>"
      ],
      "text/plain": [
       "      Split type Tuning type  Number of characteristics       MSE      RMSE  \\\n",
       "0  chronological      normal                         13  0.260866  0.510751   \n",
       "1  chronological      Optuna                         13  0.213902  0.462495   \n",
       "3         random      normal                         13  0.148111  0.384853   \n",
       "4         random      Optuna                         13  0.123021  0.350743   \n",
       "\n",
       "        MAE  \n",
       "0  0.357177  \n",
       "1  0.337589  \n",
       "3  0.267273  \n",
       "4  0.242031  "
      ]
     },
     "execution_count": 40,
     "metadata": {},
     "output_type": "execute_result"
    }
   ],
   "source": [
    "results"
   ]
  },
  {
   "cell_type": "code",
   "execution_count": 41,
   "id": "7e403b40",
   "metadata": {},
   "outputs": [],
   "source": [
    "from training.results import plot_summary"
   ]
  },
  {
   "cell_type": "code",
   "execution_count": 42,
   "id": "e26ba349",
   "metadata": {},
   "outputs": [
    {
     "data": {
      "image/png": "[encoded data removed]",
      "text/plain": [
       "<Figure size 1440x576 with 1 Axes>"
      ]
     },
     "metadata": {
      "needs_background": "light"
     },
     "output_type": "display_data"
    }
   ],
   "source": [
    "plot_summary(results, \"MSE\")"
   ]
  },
  {
   "cell_type": "code",
   "execution_count": 43,
   "id": "1072db81",
   "metadata": {},
   "outputs": [
    {
     "data": {
      "image/png": "[encoded data removed]",
      "text/plain": [
       "<Figure size 1440x576 with 1 Axes>"
      ]
     },
     "metadata": {
      "needs_background": "light"
     },
     "output_type": "display_data"
    }
   ],
   "source": [
    "plot_summary(results, \"RMSE\")"
   ]
  },
  {
   "cell_type": "code",
   "execution_count": 44,
   "id": "0a073f44",
   "metadata": {},
   "outputs": [
    {
     "data": {
      "image/png": "[encoded data removed]",
      "text/plain": [
       "<Figure size 1440x576 with 1 Axes>"
      ]
     },
     "metadata": {
      "needs_background": "light"
     },
     "output_type": "display_data"
    }
   ],
   "source": [
    "plot_summary(results, \"MAE\")"
   ]
  },
  {
   "cell_type": "code",
   "execution_count": 45,
   "id": "157af270",
   "metadata": {},
   "outputs": [],
   "source": [
    "results.to_json(\"./lightgbm_second_results.json\")"
   ]
  },
  {
   "cell_type": "code",
   "execution_count": null,
   "id": "1b44b486",
   "metadata": {},
   "outputs": [],
   "source": []
  }
 ],
 "metadata": {
  "kernelspec": {
   "display_name": "Python 3 (ipykernel)",
   "language": "python",
   "name": "python3"
  },
  "language_info": {
   "codemirror_mode": {
    "name": "ipython",
    "version": 3
   },
   "file_extension": ".py",
   "mimetype": "text/x-python",
   "name": "python",
   "nbconvert_exporter": "python",
   "pygments_lexer": "ipython3",
   "version": "3.10.4"
  }
 },
 "nbformat": 4,
 "nbformat_minor": 5
}
