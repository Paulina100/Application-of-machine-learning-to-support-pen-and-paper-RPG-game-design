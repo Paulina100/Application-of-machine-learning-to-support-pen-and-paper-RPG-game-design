{
 "cells": [
  {
   "cell_type": "markdown",
   "id": "b61f8435",
   "metadata": {},
   "source": [
    "# LightGBM\n",
    "### Parameters:\n",
    "* **abilities**:\n",
    "    * **cha**\n",
    "    * **con**\n",
    "    * **dex**\n",
    "    * **int**\n",
    "    * **str**\n",
    "    * **wis**\n",
    "* **attributes**\n",
    "    * **hp**\n",
    "    * **ac**\n",
    "    * **perception**\n",
    "* **saves**\n",
    "    * **fortitude**\n",
    "    * **reflex**\n",
    "    * **will**\n",
    "* **resources**\n",
    "    * **focus**\n",
    "\n",
    "### Prediction: *level*\n",
    "\n",
    "## Loading data"
   ]
  },
  {
   "cell_type": "code",
   "execution_count": 1,
   "id": "64151d43",
   "metadata": {},
   "outputs": [],
   "source": [
    "import numpy as np\n",
    "import pandas as pd\n",
    "import sys\n",
    "\n",
    "import os\n",
    "import pathlib\n",
    "\n",
    "sys.path.append(\"../../..\")\n",
    "from training.creating_dataset import load_and_preprocess_data\n",
    "\n",
    "current_path = os.getcwd()\n",
    "DATASETS_DIR = pathlib.Path(current_path).parent.parent.parent / \"pathfinder_2e_data\"\n",
    "DATASET_FILES = [\n",
    "    \"pathfinder-bestiary.db\",\n",
    "    \"pathfinder-bestiary-2.db\",\n",
    "    \"pathfinder-bestiary-3.db\",\n",
    "]\n",
    "DATASET_PATHS = [f\"{DATASETS_DIR}/{file}\" for file in DATASET_FILES]\n",
    "characteristics = [\n",
    "    \"cha\",\n",
    "    \"con\",\n",
    "    \"dex\",\n",
    "    \"int\",\n",
    "    \"str\",\n",
    "    \"wis\",\n",
    "    \"ac\",\n",
    "    \"hp\",\n",
    "    \"perception\",\n",
    "    \"fortitude\",\n",
    "    \"reflex\",\n",
    "    \"will\",\n",
    "    \"focus\",\n",
    "]\n",
    "\n",
    "df = load_and_preprocess_data(\n",
    "    DATASET_PATHS,\n",
    "    characteristics=characteristics,\n",
    ")"
   ]
  },
  {
   "cell_type": "code",
   "execution_count": 2,
   "id": "ec1e8424",
   "metadata": {},
   "outputs": [
    {
     "name": "stdout",
     "output_type": "stream",
     "text": [
      "<class 'pandas.core.frame.DataFrame'>\n",
      "Int64Index: 1206 entries, 0 to 1205\n",
      "Data columns (total 15 columns):\n",
      " #   Column      Non-Null Count  Dtype \n",
      "---  ------      --------------  ----- \n",
      " 0   cha         1206 non-null   int64 \n",
      " 1   reflex      1206 non-null   int64 \n",
      " 2   will        1206 non-null   int64 \n",
      " 3   ac          1206 non-null   int64 \n",
      " 4   con         1206 non-null   int64 \n",
      " 5   dex         1206 non-null   int64 \n",
      " 6   str         1206 non-null   int64 \n",
      " 7   hp          1206 non-null   int64 \n",
      " 8   fortitude   1206 non-null   int64 \n",
      " 9   level       1206 non-null   int64 \n",
      " 10  book        1206 non-null   object\n",
      " 11  wis         1206 non-null   int64 \n",
      " 12  int         1206 non-null   int64 \n",
      " 13  perception  1206 non-null   int64 \n",
      " 14  focus       1206 non-null   int32 \n",
      "dtypes: int32(1), int64(13), object(1)\n",
      "memory usage: 146.0+ KB\n"
     ]
    }
   ],
   "source": [
    "df.info()"
   ]
  },
  {
   "cell_type": "code",
   "execution_count": 3,
   "id": "211d736c",
   "metadata": {},
   "outputs": [
    {
     "data": {
      "text/html": [
       "<div>\n",
       "<style scoped>\n",
       "    .dataframe tbody tr th:only-of-type {\n",
       "        vertical-align: middle;\n",
       "    }\n",
       "\n",
       "    .dataframe tbody tr th {\n",
       "        vertical-align: top;\n",
       "    }\n",
       "\n",
       "    .dataframe thead th {\n",
       "        text-align: right;\n",
       "    }\n",
       "</style>\n",
       "<table border=\"1\" class=\"dataframe\">\n",
       "  <thead>\n",
       "    <tr style=\"text-align: right;\">\n",
       "      <th></th>\n",
       "      <th>cha</th>\n",
       "      <th>reflex</th>\n",
       "      <th>will</th>\n",
       "      <th>ac</th>\n",
       "      <th>con</th>\n",
       "      <th>dex</th>\n",
       "      <th>str</th>\n",
       "      <th>hp</th>\n",
       "      <th>fortitude</th>\n",
       "      <th>level</th>\n",
       "      <th>book</th>\n",
       "      <th>wis</th>\n",
       "      <th>int</th>\n",
       "      <th>perception</th>\n",
       "      <th>focus</th>\n",
       "    </tr>\n",
       "  </thead>\n",
       "  <tbody>\n",
       "    <tr>\n",
       "      <th>0</th>\n",
       "      <td>1</td>\n",
       "      <td>19</td>\n",
       "      <td>17</td>\n",
       "      <td>29</td>\n",
       "      <td>5</td>\n",
       "      <td>2</td>\n",
       "      <td>7</td>\n",
       "      <td>215</td>\n",
       "      <td>22</td>\n",
       "      <td>10</td>\n",
       "      <td>Pathfinder Bestiary</td>\n",
       "      <td>2</td>\n",
       "      <td>1</td>\n",
       "      <td>20</td>\n",
       "      <td>1</td>\n",
       "    </tr>\n",
       "    <tr>\n",
       "      <th>1</th>\n",
       "      <td>1</td>\n",
       "      <td>14</td>\n",
       "      <td>16</td>\n",
       "      <td>28</td>\n",
       "      <td>5</td>\n",
       "      <td>0</td>\n",
       "      <td>9</td>\n",
       "      <td>220</td>\n",
       "      <td>21</td>\n",
       "      <td>10</td>\n",
       "      <td>Pathfinder Bestiary</td>\n",
       "      <td>2</td>\n",
       "      <td>-4</td>\n",
       "      <td>16</td>\n",
       "      <td>0</td>\n",
       "    </tr>\n",
       "    <tr>\n",
       "      <th>2</th>\n",
       "      <td>-2</td>\n",
       "      <td>17</td>\n",
       "      <td>15</td>\n",
       "      <td>25</td>\n",
       "      <td>6</td>\n",
       "      <td>3</td>\n",
       "      <td>7</td>\n",
       "      <td>175</td>\n",
       "      <td>20</td>\n",
       "      <td>8</td>\n",
       "      <td>Pathfinder Bestiary</td>\n",
       "      <td>3</td>\n",
       "      <td>-4</td>\n",
       "      <td>17</td>\n",
       "      <td>0</td>\n",
       "    </tr>\n",
       "    <tr>\n",
       "      <th>3</th>\n",
       "      <td>6</td>\n",
       "      <td>29</td>\n",
       "      <td>32</td>\n",
       "      <td>41</td>\n",
       "      <td>5</td>\n",
       "      <td>4</td>\n",
       "      <td>7</td>\n",
       "      <td>315</td>\n",
       "      <td>30</td>\n",
       "      <td>17</td>\n",
       "      <td>Pathfinder Bestiary</td>\n",
       "      <td>5</td>\n",
       "      <td>6</td>\n",
       "      <td>30</td>\n",
       "      <td>1</td>\n",
       "    </tr>\n",
       "    <tr>\n",
       "      <th>4</th>\n",
       "      <td>1</td>\n",
       "      <td>10</td>\n",
       "      <td>4</td>\n",
       "      <td>16</td>\n",
       "      <td>1</td>\n",
       "      <td>3</td>\n",
       "      <td>-5</td>\n",
       "      <td>20</td>\n",
       "      <td>6</td>\n",
       "      <td>1</td>\n",
       "      <td>Pathfinder Bestiary</td>\n",
       "      <td>1</td>\n",
       "      <td>-1</td>\n",
       "      <td>6</td>\n",
       "      <td>1</td>\n",
       "    </tr>\n",
       "  </tbody>\n",
       "</table>\n",
       "</div>"
      ],
      "text/plain": [
       "   cha  reflex  will  ac  con  dex  str   hp  fortitude  level  \\\n",
       "0    1      19    17  29    5    2    7  215         22     10   \n",
       "1    1      14    16  28    5    0    9  220         21     10   \n",
       "2   -2      17    15  25    6    3    7  175         20      8   \n",
       "3    6      29    32  41    5    4    7  315         30     17   \n",
       "4    1      10     4  16    1    3   -5   20          6      1   \n",
       "\n",
       "                  book  wis  int  perception  focus  \n",
       "0  Pathfinder Bestiary    2    1          20      1  \n",
       "1  Pathfinder Bestiary    2   -4          16      0  \n",
       "2  Pathfinder Bestiary    3   -4          17      0  \n",
       "3  Pathfinder Bestiary    5    6          30      1  \n",
       "4  Pathfinder Bestiary    1   -1           6      1  "
      ]
     },
     "execution_count": 3,
     "metadata": {},
     "output_type": "execute_result"
    }
   ],
   "source": [
    "df.head()"
   ]
  },
  {
   "cell_type": "markdown",
   "id": "1bf55cc1",
   "metadata": {},
   "source": [
    "###### Level"
   ]
  },
  {
   "cell_type": "code",
   "execution_count": 4,
   "id": "2d322d72",
   "metadata": {},
   "outputs": [
    {
     "data": {
      "text/plain": [
       "0       10\n",
       "1       10\n",
       "2        8\n",
       "3       17\n",
       "4        1\n",
       "        ..\n",
       "1201    20\n",
       "1202    -1\n",
       "1203    12\n",
       "1204     6\n",
       "1205     6\n",
       "Name: level, Length: 1206, dtype: int64"
      ]
     },
     "execution_count": 4,
     "metadata": {},
     "output_type": "execute_result"
    }
   ],
   "source": [
    "y = df[\"level\"]\n",
    "y"
   ]
  },
  {
   "cell_type": "code",
   "execution_count": 5,
   "id": "e7887f19",
   "metadata": {},
   "outputs": [],
   "source": [
    "from collections import defaultdict\n",
    "\n",
    "\n",
    "lvl_stat = defaultdict(lambda: 0)\n",
    "\n",
    "for lvl in y:\n",
    "    lvl_stat[lvl] += 1"
   ]
  },
  {
   "cell_type": "code",
   "execution_count": 6,
   "id": "c982e6d0",
   "metadata": {},
   "outputs": [
    {
     "data": {
      "text/html": [
       "<div>\n",
       "<style scoped>\n",
       "    .dataframe tbody tr th:only-of-type {\n",
       "        vertical-align: middle;\n",
       "    }\n",
       "\n",
       "    .dataframe tbody tr th {\n",
       "        vertical-align: top;\n",
       "    }\n",
       "\n",
       "    .dataframe thead th {\n",
       "        text-align: right;\n",
       "    }\n",
       "</style>\n",
       "<table border=\"1\" class=\"dataframe\">\n",
       "  <thead>\n",
       "    <tr style=\"text-align: right;\">\n",
       "      <th></th>\n",
       "      <th>lvl</th>\n",
       "      <th>count</th>\n",
       "    </tr>\n",
       "  </thead>\n",
       "  <tbody>\n",
       "    <tr>\n",
       "      <th>0</th>\n",
       "      <td>-1</td>\n",
       "      <td>34</td>\n",
       "    </tr>\n",
       "    <tr>\n",
       "      <th>1</th>\n",
       "      <td>0</td>\n",
       "      <td>27</td>\n",
       "    </tr>\n",
       "    <tr>\n",
       "      <th>2</th>\n",
       "      <td>1</td>\n",
       "      <td>127</td>\n",
       "    </tr>\n",
       "    <tr>\n",
       "      <th>3</th>\n",
       "      <td>2</td>\n",
       "      <td>121</td>\n",
       "    </tr>\n",
       "    <tr>\n",
       "      <th>4</th>\n",
       "      <td>3</td>\n",
       "      <td>95</td>\n",
       "    </tr>\n",
       "    <tr>\n",
       "      <th>5</th>\n",
       "      <td>4</td>\n",
       "      <td>82</td>\n",
       "    </tr>\n",
       "    <tr>\n",
       "      <th>6</th>\n",
       "      <td>5</td>\n",
       "      <td>76</td>\n",
       "    </tr>\n",
       "    <tr>\n",
       "      <th>7</th>\n",
       "      <td>6</td>\n",
       "      <td>72</td>\n",
       "    </tr>\n",
       "    <tr>\n",
       "      <th>8</th>\n",
       "      <td>7</td>\n",
       "      <td>77</td>\n",
       "    </tr>\n",
       "    <tr>\n",
       "      <th>9</th>\n",
       "      <td>8</td>\n",
       "      <td>68</td>\n",
       "    </tr>\n",
       "    <tr>\n",
       "      <th>10</th>\n",
       "      <td>9</td>\n",
       "      <td>63</td>\n",
       "    </tr>\n",
       "    <tr>\n",
       "      <th>11</th>\n",
       "      <td>10</td>\n",
       "      <td>58</td>\n",
       "    </tr>\n",
       "    <tr>\n",
       "      <th>12</th>\n",
       "      <td>11</td>\n",
       "      <td>40</td>\n",
       "    </tr>\n",
       "    <tr>\n",
       "      <th>13</th>\n",
       "      <td>12</td>\n",
       "      <td>41</td>\n",
       "    </tr>\n",
       "    <tr>\n",
       "      <th>14</th>\n",
       "      <td>13</td>\n",
       "      <td>36</td>\n",
       "    </tr>\n",
       "    <tr>\n",
       "      <th>15</th>\n",
       "      <td>14</td>\n",
       "      <td>33</td>\n",
       "    </tr>\n",
       "    <tr>\n",
       "      <th>16</th>\n",
       "      <td>15</td>\n",
       "      <td>31</td>\n",
       "    </tr>\n",
       "    <tr>\n",
       "      <th>17</th>\n",
       "      <td>16</td>\n",
       "      <td>25</td>\n",
       "    </tr>\n",
       "    <tr>\n",
       "      <th>18</th>\n",
       "      <td>17</td>\n",
       "      <td>21</td>\n",
       "    </tr>\n",
       "    <tr>\n",
       "      <th>19</th>\n",
       "      <td>18</td>\n",
       "      <td>21</td>\n",
       "    </tr>\n",
       "    <tr>\n",
       "      <th>20</th>\n",
       "      <td>19</td>\n",
       "      <td>18</td>\n",
       "    </tr>\n",
       "    <tr>\n",
       "      <th>21</th>\n",
       "      <td>20</td>\n",
       "      <td>24</td>\n",
       "    </tr>\n",
       "    <tr>\n",
       "      <th>22</th>\n",
       "      <td>21</td>\n",
       "      <td>16</td>\n",
       "    </tr>\n",
       "  </tbody>\n",
       "</table>\n",
       "</div>"
      ],
      "text/plain": [
       "    lvl  count\n",
       "0    -1     34\n",
       "1     0     27\n",
       "2     1    127\n",
       "3     2    121\n",
       "4     3     95\n",
       "5     4     82\n",
       "6     5     76\n",
       "7     6     72\n",
       "8     7     77\n",
       "9     8     68\n",
       "10    9     63\n",
       "11   10     58\n",
       "12   11     40\n",
       "13   12     41\n",
       "14   13     36\n",
       "15   14     33\n",
       "16   15     31\n",
       "17   16     25\n",
       "18   17     21\n",
       "19   18     21\n",
       "20   19     18\n",
       "21   20     24\n",
       "22   21     16"
      ]
     },
     "execution_count": 6,
     "metadata": {},
     "output_type": "execute_result"
    }
   ],
   "source": [
    "level_count = pd.DataFrame(\n",
    "    data={\n",
    "        \"lvl\": [key for key in sorted(lvl_stat.keys())],\n",
    "        \"count\": [lvl_stat.get(key) for key in sorted(lvl_stat.keys())],\n",
    "    }\n",
    ")\n",
    "level_count"
   ]
  },
  {
   "cell_type": "code",
   "execution_count": 7,
   "id": "686877dd",
   "metadata": {},
   "outputs": [
    {
     "data": {
      "image/png": "[encoded data removed]",
      "text/plain": [
       "<Figure size 432x288 with 1 Axes>"
      ]
     },
     "metadata": {
      "needs_background": "light"
     },
     "output_type": "display_data"
    }
   ],
   "source": [
    "import matplotlib.pyplot as plt\n",
    "\n",
    "\n",
    "level_count.plot.bar(x=\"lvl\", y=\"count\", title=\"Count of levels\")\n",
    "plt.show()"
   ]
  },
  {
   "cell_type": "markdown",
   "id": "3f976e4a",
   "metadata": {},
   "source": [
    "## Train test split"
   ]
  },
  {
   "cell_type": "markdown",
   "id": "eb8cec62",
   "metadata": {},
   "source": [
    "### Chronological split"
   ]
  },
  {
   "cell_type": "code",
   "execution_count": 8,
   "id": "c6c29573",
   "metadata": {},
   "outputs": [],
   "source": [
    "from training.splitting_dataset import split_dataframe\n",
    "\n",
    "\n",
    "os.chdir(\"../../../training\")\n",
    "X_train, X_test, y_train, y_test = split_dataframe(df, test_size=0.31)\n",
    "os.chdir(\"../notebooks/models/lightgbm\")"
   ]
  },
  {
   "cell_type": "code",
   "execution_count": 9,
   "id": "f6894cc0",
   "metadata": {},
   "outputs": [],
   "source": [
    "X_train = X_train.drop(columns=[\"book\"])\n",
    "X_test = X_test.drop(columns=[\"book\"])"
   ]
  },
  {
   "cell_type": "markdown",
   "id": "31a0109c",
   "metadata": {},
   "source": [
    "### Random split"
   ]
  },
  {
   "cell_type": "code",
   "execution_count": 10,
   "id": "4d3e1121",
   "metadata": {},
   "outputs": [],
   "source": [
    "(\n",
    "    X_train_random_split,\n",
    "    X_test_random_split,\n",
    "    y_train_random_split,\n",
    "    y_test_random_split,\n",
    ") = split_dataframe(df, chronological_split=False)"
   ]
  },
  {
   "cell_type": "code",
   "execution_count": 11,
   "id": "f0c2041a",
   "metadata": {},
   "outputs": [],
   "source": [
    "X_train_random_split = X_train_random_split.drop(columns=[\"book\"])\n",
    "X_test_random_split = X_test_random_split.drop(columns=[\"book\"])"
   ]
  },
  {
   "cell_type": "markdown",
   "id": "e4776792",
   "metadata": {},
   "source": [
    "## LightGBM"
   ]
  },
  {
   "cell_type": "markdown",
   "id": "3f629b2d",
   "metadata": {},
   "source": [
    "## Chronological split"
   ]
  },
  {
   "cell_type": "code",
   "execution_count": 12,
   "id": "e818a3cc",
   "metadata": {},
   "outputs": [
    {
     "name": "stdout",
     "output_type": "stream",
     "text": [
      "[LightGBM] [Warning] Auto-choosing col-wise multi-threading, the overhead of testing was 0.000293 seconds.\n",
      "You can set `force_col_wise=true` to remove the overhead.\n",
      "[LightGBM] [Info] Total Bins 379\n",
      "[LightGBM] [Info] Number of data points in the train set: 841, number of used features: 13\n",
      "[LightGBM] [Info] Start training from score 6.966706\n",
      "Training until validation scores don't improve for 5 rounds\n",
      "[LightGBM] [Warning] No further splits with positive gain, best gain: -inf\n",
      "[LightGBM] [Warning] No further splits with positive gain, best gain: -inf\n",
      "[LightGBM] [Warning] No further splits with positive gain, best gain: -inf\n",
      "[LightGBM] [Warning] No further splits with positive gain, best gain: -inf\n",
      "[LightGBM] [Warning] No further splits with positive gain, best gain: -inf\n",
      "[LightGBM] [Warning] No further splits with positive gain, best gain: -inf\n",
      "[LightGBM] [Warning] No further splits with positive gain, best gain: -inf\n",
      "[LightGBM] [Warning] No further splits with positive gain, best gain: -inf\n",
      "[LightGBM] [Warning] No further splits with positive gain, best gain: -inf\n",
      "[LightGBM] [Warning] No further splits with positive gain, best gain: -inf\n",
      "[LightGBM] [Warning] No further splits with positive gain, best gain: -inf\n",
      "[LightGBM] [Warning] No further splits with positive gain, best gain: -inf\n",
      "Early stopping, best iteration is:\n",
      "[66]\tvalid_0's l2: 0.260888\tvalid_0's l1: 0.357206\n"
     ]
    }
   ],
   "source": [
    "import lightgbm as lgb\n",
    "\n",
    "lgb_train = lgb.Dataset(X_train, y_train)\n",
    "lgb_eval = lgb.Dataset(X_test, y_test, reference=lgb_train)\n",
    "\n",
    "params = {\n",
    "    \"boosting_type\": \"gbdt\",\n",
    "    \"objective\": \"regression\",\n",
    "    \"metric\": {\"l2\", \"l1\"},\n",
    "}\n",
    "\n",
    "gbm = lgb.train(\n",
    "    params,\n",
    "    lgb_train,\n",
    "    num_boost_round=100,\n",
    "    valid_sets=lgb_eval,\n",
    "    callbacks=[lgb.early_stopping(stopping_rounds=5)],\n",
    ")"
   ]
  },
  {
   "cell_type": "code",
   "execution_count": 13,
   "id": "b2dd69b5",
   "metadata": {},
   "outputs": [],
   "source": [
    "y_pred_train = gbm.predict(X_train, num_iteration=gbm.best_iteration)\n",
    "y_pred_test = gbm.predict(X_test, num_iteration=gbm.best_iteration)"
   ]
  },
  {
   "cell_type": "code",
   "execution_count": 14,
   "id": "68b425f7",
   "metadata": {},
   "outputs": [
    {
     "name": "stdout",
     "output_type": "stream",
     "text": [
      "MSE: 0.26\n",
      "RMSE: 0.51\n",
      "MAE: 0.36\n"
     ]
    }
   ],
   "source": [
    "from sklearn.metrics import mean_squared_error, mean_absolute_error\n",
    "\n",
    "\n",
    "mse = mean_squared_error(y_test, y_pred_test)\n",
    "rmse = mean_squared_error(y_test, y_pred_test, squared=False)\n",
    "mae = mean_absolute_error(y_test, y_pred_test)\n",
    "\n",
    "print(f\"MSE: {mse:.2f}\")\n",
    "print(f\"RMSE: {rmse:.2f}\")\n",
    "print(f\"MAE: {mae:.2f}\")"
   ]
  },
  {
   "cell_type": "code",
   "execution_count": 15,
   "id": "a615e9df",
   "metadata": {},
   "outputs": [],
   "source": [
    "results = pd.DataFrame(\n",
    "    data={\n",
    "        \"Split type\": [],\n",
    "        \"Tuning type\": [],\n",
    "        \"Number of characteristics\": [],\n",
    "        \"MSE\": [],\n",
    "        \"RMSE\": [],\n",
    "        \"MAE\": [],\n",
    "    }\n",
    ")\n",
    "\n",
    "results.loc[0] = [\"chronological\", \"normal\", len(X_test.columns), mse, rmse, mae]"
   ]
  },
  {
   "cell_type": "code",
   "execution_count": 16,
   "id": "9d777b5d",
   "metadata": {},
   "outputs": [
    {
     "name": "stdout",
     "output_type": "stream",
     "text": [
      "RMSE train: 0.21\n",
      "RMSE test: 0.51\n"
     ]
    }
   ],
   "source": [
    "rmse_train = mean_squared_error(y_train, y_pred_train, squared=False)\n",
    "rmse_test = mean_squared_error(y_test, y_pred_test, squared=False)\n",
    "print(f\"RMSE train: {rmse_train:.2f}\")\n",
    "print(f\"RMSE test: {rmse_test:.2f}\")"
   ]
  },
  {
   "cell_type": "markdown",
   "id": "c8d83c18",
   "metadata": {},
   "source": [
    "###### MAE by level"
   ]
  },
  {
   "cell_type": "code",
   "execution_count": 17,
   "id": "ac580d53",
   "metadata": {},
   "outputs": [],
   "source": [
    "from training.results import plot_mae_by_level"
   ]
  },
  {
   "cell_type": "code",
   "execution_count": 18,
   "id": "53b88797",
   "metadata": {},
   "outputs": [
    {
     "data": {
      "image/png": "[encoded data removed]",
      "text/plain": [
       "<Figure size 720x432 with 1 Axes>"
      ]
     },
     "metadata": {
      "needs_background": "light"
     },
     "output_type": "display_data"
    }
   ],
   "source": [
    "plot_mae_by_level(y_test, y_pred_test)"
   ]
  },
  {
   "cell_type": "code",
   "execution_count": 19,
   "id": "4135d981",
   "metadata": {},
   "outputs": [
    {
     "name": "stdout",
     "output_type": "stream",
     "text": [
      "Normal:\n",
      "MSE: 0.26\n",
      "RMSE: 0.51\n",
      "\n",
      "Round type: round\n",
      "MSE: 0.30\n",
      "RMSE: 0.55\n",
      "\n",
      "Round type: 0.33\n",
      "MSE: 0.29\n",
      "RMSE: 0.54\n",
      "\n",
      "Round type: 0.45\n",
      "MSE: 0.29\n",
      "RMSE: 0.54\n",
      "\n"
     ]
    }
   ],
   "source": [
    "from training.results import check_round_predictions, plot_confusion_matrix\n",
    "\n",
    "\n",
    "check_round_predictions([\"round\", 0.33, 0.45], y_test, y_pred_test)"
   ]
  },
  {
   "cell_type": "code",
   "execution_count": 20,
   "id": "4741e1ec",
   "metadata": {},
   "outputs": [
    {
     "data": {
      "image/png": "[encoded data removed]",
      "text/plain": [
       "<Figure size 432x288 with 2 Axes>"
      ]
     },
     "metadata": {
      "needs_background": "light"
     },
     "output_type": "display_data"
    }
   ],
   "source": [
    "plot_confusion_matrix(\"round\", y_pred_test, y_test)"
   ]
  },
  {
   "cell_type": "markdown",
   "id": "a6b03404",
   "metadata": {},
   "source": [
    "#### Tuning"
   ]
  },
  {
   "cell_type": "code",
   "execution_count": 21,
   "id": "e7f8b7ee",
   "metadata": {},
   "outputs": [],
   "source": [
    "from training.results import assess_regression_model"
   ]
  },
  {
   "cell_type": "code",
   "execution_count": 22,
   "id": "10cd6bac",
   "metadata": {
    "scrolled": true
   },
   "outputs": [
    {
     "name": "stderr",
     "output_type": "stream",
     "text": [
      "[I 2023-11-03 20:11:09,836] A new study created in memory with name: no-name-3e0484ac-ba26-4318-bdcc-5d9893791858\n",
      "feature_fraction, val_score: inf:   0%|                                                          | 0/7 [00:00<?, ?it/s]"
     ]
    },
    {
     "name": "stdout",
     "output_type": "stream",
     "text": [
      "Training until validation scores don't improve for 100 rounds\n",
      "[100]\tcv_agg's l2: 0.188025 + 0.0387075\n",
      "[200]\tcv_agg's l2: 0.185962 + 0.0366348\n"
     ]
    },
    {
     "name": "stderr",
     "output_type": "stream",
     "text": [
      "\r",
      "feature_fraction, val_score: 0.185028:   0%|                                                     | 0/7 [00:01<?, ?it/s]"
     ]
    },
    {
     "name": "stdout",
     "output_type": "stream",
     "text": [
      "[300]\tcv_agg's l2: 0.185649 + 0.0362683\n",
      "Early stopping, best iteration is:\n",
      "[242]\tcv_agg's l2: 0.185028 + 0.0360569\n"
     ]
    },
    {
     "name": "stderr",
     "output_type": "stream",
     "text": [
      "feature_fraction, val_score: 0.185028:  14%|######4                                      | 1/7 [00:01<00:08,  1.44s/it][I 2023-11-03 20:11:11,284] Trial 0 finished with value: 0.18502791365346222 and parameters: {'feature_fraction': 1.0}. Best is trial 0 with value: 0.18502791365346222.\n",
      "feature_fraction, val_score: 0.185028:  14%|######4                                      | 1/7 [00:01<00:08,  1.44s/it]"
     ]
    },
    {
     "name": "stdout",
     "output_type": "stream",
     "text": [
      "[100]\tcv_agg's l2: 0.186056 + 0.0447295\n",
      "[200]\tcv_agg's l2: 0.182449 + 0.042503\n",
      "[300]\tcv_agg's l2: 0.181552 + 0.0419692\n"
     ]
    },
    {
     "name": "stderr",
     "output_type": "stream",
     "text": [
      "feature_fraction, val_score: 0.181247:  29%|############8                                | 2/7 [00:02<00:06,  1.38s/it][I 2023-11-03 20:11:12,614] Trial 1 finished with value: 0.18124709794409374 and parameters: {'feature_fraction': 0.8}. Best is trial 1 with value: 0.18124709794409374.\n",
      "feature_fraction, val_score: 0.181247:  29%|############8                                | 2/7 [00:02<00:06,  1.38s/it]"
     ]
    },
    {
     "name": "stdout",
     "output_type": "stream",
     "text": [
      "Early stopping, best iteration is:\n",
      "[292]\tcv_agg's l2: 0.181247 + 0.041863\n",
      "[100]\tcv_agg's l2: 0.167278 + 0.0306286\n",
      "[200]\tcv_agg's l2: 0.162426 + 0.0294347\n"
     ]
    },
    {
     "name": "stderr",
     "output_type": "stream",
     "text": [
      "feature_fraction, val_score: 0.162080:  43%|###################2                         | 3/7 [00:03<00:04,  1.18s/it][I 2023-11-03 20:11:13,562] Trial 2 finished with value: 0.1620797932074016 and parameters: {'feature_fraction': 0.5}. Best is trial 2 with value: 0.1620797932074016.\n",
      "feature_fraction, val_score: 0.162080:  43%|###################2                         | 3/7 [00:03<00:04,  1.18s/it]"
     ]
    },
    {
     "name": "stdout",
     "output_type": "stream",
     "text": [
      "Early stopping, best iteration is:\n",
      "[177]\tcv_agg's l2: 0.16208 + 0.0287933\n",
      "[100]\tcv_agg's l2: 0.1677 + 0.0286543\n",
      "[200]\tcv_agg's l2: 0.163664 + 0.0256416\n"
     ]
    },
    {
     "name": "stderr",
     "output_type": "stream",
     "text": [
      "feature_fraction, val_score: 0.162080:  57%|#########################7                   | 4/7 [00:04<00:03,  1.13s/it][I 2023-11-03 20:11:14,612] Trial 3 finished with value: 0.16389971458482328 and parameters: {'feature_fraction': 0.4}. Best is trial 2 with value: 0.1620797932074016.\n",
      "feature_fraction, val_score: 0.162080:  57%|#########################7                   | 4/7 [00:04<00:03,  1.13s/it]"
     ]
    },
    {
     "name": "stdout",
     "output_type": "stream",
     "text": [
      "Early stopping, best iteration is:\n",
      "[177]\tcv_agg's l2: 0.16208 + 0.0287933\n",
      "[100]\tcv_agg's l2: 0.181478 + 0.0420344\n",
      "[200]\tcv_agg's l2: 0.176947 + 0.0385135\n"
     ]
    },
    {
     "name": "stderr",
     "output_type": "stream",
     "text": [
      "feature_fraction, val_score: 0.162080:  71%|################################1            | 5/7 [00:05<00:02,  1.13s/it][I 2023-11-03 20:11:15,731] Trial 4 finished with value: 0.1769973473708431 and parameters: {'feature_fraction': 0.7}. Best is trial 2 with value: 0.1620797932074016.\n",
      "feature_fraction, val_score: 0.162080:  71%|################################1            | 5/7 [00:05<00:02,  1.13s/it]"
     ]
    },
    {
     "name": "stdout",
     "output_type": "stream",
     "text": [
      "Early stopping, best iteration is:\n",
      "[177]\tcv_agg's l2: 0.16208 + 0.0287933\n",
      "[100]\tcv_agg's l2: 0.184475 + 0.0378577\n",
      "[200]\tcv_agg's l2: 0.181178 + 0.0367941\n"
     ]
    },
    {
     "name": "stderr",
     "output_type": "stream",
     "text": [
      "feature_fraction, val_score: 0.162080:  86%|######################################5      | 6/7 [00:06<00:01,  1.10s/it][I 2023-11-03 20:11:16,767] Trial 5 finished with value: 0.1818791016604226 and parameters: {'feature_fraction': 0.8999999999999999}. Best is trial 2 with value: 0.1620797932074016.\n",
      "feature_fraction, val_score: 0.162080:  86%|######################################5      | 6/7 [00:06<00:01,  1.10s/it]"
     ]
    },
    {
     "name": "stdout",
     "output_type": "stream",
     "text": [
      "Early stopping, best iteration is:\n",
      "[177]\tcv_agg's l2: 0.16208 + 0.0287933\n",
      "[100]\tcv_agg's l2: 0.168147 + 0.0325914\n",
      "[200]\tcv_agg's l2: 0.16436 + 0.0324772\n"
     ]
    },
    {
     "name": "stderr",
     "output_type": "stream",
     "text": [
      "feature_fraction, val_score: 0.162080: 100%|#############################################| 7/7 [00:07<00:00,  1.05s/it][I 2023-11-03 20:11:17,726] Trial 6 finished with value: 0.1644610700057483 and parameters: {'feature_fraction': 0.6}. Best is trial 2 with value: 0.1620797932074016.\n",
      "feature_fraction, val_score: 0.162080: 100%|#############################################| 7/7 [00:07<00:00,  1.13s/it]\n"
     ]
    },
    {
     "name": "stdout",
     "output_type": "stream",
     "text": [
      "Early stopping, best iteration is:\n",
      "[177]\tcv_agg's l2: 0.16208 + 0.0287933\n"
     ]
    },
    {
     "name": "stderr",
     "output_type": "stream",
     "text": [
      "num_leaves, val_score: 0.162080:   0%|                                                          | 0/20 [00:00<?, ?it/s]"
     ]
    },
    {
     "name": "stdout",
     "output_type": "stream",
     "text": [
      "[100]\tcv_agg's l2: 0.167278 + 0.0306286\n",
      "[200]\tcv_agg's l2: 0.162426 + 0.0294347\n"
     ]
    },
    {
     "name": "stderr",
     "output_type": "stream",
     "text": [
      "num_leaves, val_score: 0.162080:   5%|##5                                               | 1/20 [00:00<00:18,  1.02it/s][I 2023-11-03 20:11:18,711] Trial 7 finished with value: 0.1620797932074016 and parameters: {'num_leaves': 131}. Best is trial 7 with value: 0.1620797932074016.\n",
      "num_leaves, val_score: 0.162080:   5%|##5                                               | 1/20 [00:00<00:18,  1.02it/s]"
     ]
    },
    {
     "name": "stdout",
     "output_type": "stream",
     "text": [
      "Early stopping, best iteration is:\n",
      "[177]\tcv_agg's l2: 0.16208 + 0.0287933\n",
      "[100]\tcv_agg's l2: 0.167278 + 0.0306286\n",
      "[200]\tcv_agg's l2: 0.162426 + 0.0294347\n"
     ]
    },
    {
     "name": "stderr",
     "output_type": "stream",
     "text": [
      "num_leaves, val_score: 0.162080:  10%|#####                                             | 2/20 [00:02<00:19,  1.06s/it][I 2023-11-03 20:11:19,831] Trial 8 finished with value: 0.1620797932074016 and parameters: {'num_leaves': 211}. Best is trial 7 with value: 0.1620797932074016.\n",
      "num_leaves, val_score: 0.162080:  10%|#####                                             | 2/20 [00:02<00:19,  1.06s/it]"
     ]
    },
    {
     "name": "stdout",
     "output_type": "stream",
     "text": [
      "Early stopping, best iteration is:\n",
      "[177]\tcv_agg's l2: 0.16208 + 0.0287933\n",
      "[100]\tcv_agg's l2: 0.167278 + 0.0306286\n",
      "[200]\tcv_agg's l2: 0.162426 + 0.0294347\n"
     ]
    },
    {
     "name": "stderr",
     "output_type": "stream",
     "text": [
      "num_leaves, val_score: 0.162080:  15%|#######5                                          | 3/20 [00:03<00:18,  1.09s/it][I 2023-11-03 20:11:20,952] Trial 9 finished with value: 0.1620797932074016 and parameters: {'num_leaves': 225}. Best is trial 7 with value: 0.1620797932074016.\n",
      "num_leaves, val_score: 0.162080:  15%|#######5                                          | 3/20 [00:03<00:18,  1.09s/it]"
     ]
    },
    {
     "name": "stdout",
     "output_type": "stream",
     "text": [
      "Early stopping, best iteration is:\n",
      "[177]\tcv_agg's l2: 0.16208 + 0.0287933\n",
      "[100]\tcv_agg's l2: 0.18919 + 0.0269691\n"
     ]
    },
    {
     "name": "stderr",
     "output_type": "stream",
     "text": [
      "num_leaves, val_score: 0.162080:  20%|##########                                        | 4/20 [00:03<00:13,  1.22it/s][I 2023-11-03 20:11:21,361] Trial 10 finished with value: 0.17531936134795031 and parameters: {'num_leaves': 6}. Best is trial 7 with value: 0.1620797932074016.\n",
      "num_leaves, val_score: 0.162080:  20%|##########                                        | 4/20 [00:03<00:13,  1.22it/s]"
     ]
    },
    {
     "name": "stdout",
     "output_type": "stream",
     "text": [
      "[200]\tcv_agg's l2: 0.173754 + 0.0230684\n",
      "Early stopping, best iteration is:\n",
      "[177]\tcv_agg's l2: 0.16208 + 0.0287933\n",
      "[100]\tcv_agg's l2: 0.167278 + 0.0306286\n",
      "[200]\tcv_agg's l2: 0.162426 + 0.0294347\n"
     ]
    },
    {
     "name": "stderr",
     "output_type": "stream",
     "text": [
      "num_leaves, val_score: 0.162080:  25%|############5                                     | 5/20 [00:04<00:14,  1.06it/s][I 2023-11-03 20:11:22,510] Trial 11 finished with value: 0.1620797932074016 and parameters: {'num_leaves': 96}. Best is trial 7 with value: 0.1620797932074016.\n",
      "num_leaves, val_score: 0.162080:  25%|############5                                     | 5/20 [00:04<00:14,  1.06it/s]"
     ]
    },
    {
     "name": "stdout",
     "output_type": "stream",
     "text": [
      "Early stopping, best iteration is:\n",
      "[177]\tcv_agg's l2: 0.16208 + 0.0287933\n",
      "[100]\tcv_agg's l2: 0.167278 + 0.0306286\n",
      "[200]\tcv_agg's l2: 0.162426 + 0.0294347\n"
     ]
    },
    {
     "name": "stderr",
     "output_type": "stream",
     "text": [
      "num_leaves, val_score: 0.162080:  30%|###############                                   | 6/20 [00:05<00:12,  1.08it/s][I 2023-11-03 20:11:23,418] Trial 12 finished with value: 0.1620797932074016 and parameters: {'num_leaves': 121}. Best is trial 7 with value: 0.1620797932074016.\n",
      "num_leaves, val_score: 0.162080:  30%|###############                                   | 6/20 [00:05<00:12,  1.08it/s]"
     ]
    },
    {
     "name": "stdout",
     "output_type": "stream",
     "text": [
      "Early stopping, best iteration is:\n",
      "[177]\tcv_agg's l2: 0.16208 + 0.0287933\n",
      "[100]\tcv_agg's l2: 0.167278 + 0.0306286\n",
      "[200]\tcv_agg's l2: 0.162426 + 0.0294347\n"
     ]
    },
    {
     "name": "stderr",
     "output_type": "stream",
     "text": [
      "num_leaves, val_score: 0.162080:  35%|#################5                                | 7/20 [00:06<00:11,  1.08it/s][I 2023-11-03 20:11:24,329] Trial 13 finished with value: 0.1620797932074016 and parameters: {'num_leaves': 52}. Best is trial 7 with value: 0.1620797932074016.\n",
      "num_leaves, val_score: 0.162080:  35%|#################5                                | 7/20 [00:06<00:11,  1.08it/s]"
     ]
    },
    {
     "name": "stdout",
     "output_type": "stream",
     "text": [
      "Early stopping, best iteration is:\n",
      "[177]\tcv_agg's l2: 0.16208 + 0.0287933\n",
      "[100]\tcv_agg's l2: 0.167278 + 0.0306286\n",
      "[200]\tcv_agg's l2: 0.162426 + 0.0294347\n"
     ]
    },
    {
     "name": "stderr",
     "output_type": "stream",
     "text": [
      "num_leaves, val_score: 0.162080:  40%|####################                              | 8/20 [00:07<00:11,  1.03it/s][I 2023-11-03 20:11:25,408] Trial 14 finished with value: 0.1620797932074016 and parameters: {'num_leaves': 179}. Best is trial 7 with value: 0.1620797932074016.\n",
      "num_leaves, val_score: 0.162080:  40%|####################                              | 8/20 [00:07<00:11,  1.03it/s]"
     ]
    },
    {
     "name": "stdout",
     "output_type": "stream",
     "text": [
      "Early stopping, best iteration is:\n",
      "[177]\tcv_agg's l2: 0.16208 + 0.0287933\n",
      "[100]\tcv_agg's l2: 0.167278 + 0.0306286\n",
      "[200]\tcv_agg's l2: 0.162426 + 0.0294347\n"
     ]
    },
    {
     "name": "stderr",
     "output_type": "stream",
     "text": [
      "num_leaves, val_score: 0.162080:  45%|######################5                           | 9/20 [00:08<00:11,  1.00s/it][I 2023-11-03 20:11:26,475] Trial 15 finished with value: 0.1620797932074016 and parameters: {'num_leaves': 160}. Best is trial 7 with value: 0.1620797932074016.\n",
      "num_leaves, val_score: 0.162080:  45%|######################5                           | 9/20 [00:08<00:11,  1.00s/it]"
     ]
    },
    {
     "name": "stdout",
     "output_type": "stream",
     "text": [
      "Early stopping, best iteration is:\n",
      "[177]\tcv_agg's l2: 0.16208 + 0.0287933\n",
      "[100]\tcv_agg's l2: 0.167278 + 0.0306286\n",
      "[200]\tcv_agg's l2: 0.162426 + 0.0294347\n"
     ]
    },
    {
     "name": "stderr",
     "output_type": "stream",
     "text": [
      "num_leaves, val_score: 0.162080:  50%|########################5                        | 10/20 [00:09<00:09,  1.02it/s][I 2023-11-03 20:11:27,394] Trial 16 finished with value: 0.1620797932074016 and parameters: {'num_leaves': 80}. Best is trial 7 with value: 0.1620797932074016.\n",
      "num_leaves, val_score: 0.162080:  50%|########################5                        | 10/20 [00:09<00:09,  1.02it/s]"
     ]
    },
    {
     "name": "stdout",
     "output_type": "stream",
     "text": [
      "Early stopping, best iteration is:\n",
      "[177]\tcv_agg's l2: 0.16208 + 0.0287933\n",
      "[100]\tcv_agg's l2: 0.167278 + 0.0306286\n",
      "[200]\tcv_agg's l2: 0.162426 + 0.0294347\n"
     ]
    },
    {
     "name": "stderr",
     "output_type": "stream",
     "text": [
      "num_leaves, val_score: 0.162080:  55%|##########################9                      | 11/20 [00:10<00:08,  1.02it/s][I 2023-11-03 20:11:28,390] Trial 17 finished with value: 0.1620797932074016 and parameters: {'num_leaves': 255}. Best is trial 7 with value: 0.1620797932074016.\n",
      "num_leaves, val_score: 0.162080:  55%|##########################9                      | 11/20 [00:10<00:08,  1.02it/s]"
     ]
    },
    {
     "name": "stdout",
     "output_type": "stream",
     "text": [
      "Early stopping, best iteration is:\n",
      "[177]\tcv_agg's l2: 0.16208 + 0.0287933\n",
      "[100]\tcv_agg's l2: 0.167278 + 0.0306286\n",
      "[200]\tcv_agg's l2: 0.162426 + 0.0294347\n"
     ]
    },
    {
     "name": "stderr",
     "output_type": "stream",
     "text": [
      "num_leaves, val_score: 0.162080:  60%|#############################4                   | 12/20 [00:11<00:07,  1.02it/s][I 2023-11-03 20:11:29,365] Trial 18 finished with value: 0.1620797932074016 and parameters: {'num_leaves': 157}. Best is trial 7 with value: 0.1620797932074016.\n",
      "num_leaves, val_score: 0.162080:  60%|#############################4                   | 12/20 [00:11<00:07,  1.02it/s]"
     ]
    },
    {
     "name": "stdout",
     "output_type": "stream",
     "text": [
      "Early stopping, best iteration is:\n",
      "[177]\tcv_agg's l2: 0.16208 + 0.0287933\n",
      "[100]\tcv_agg's l2: 0.167278 + 0.0306286\n",
      "[200]\tcv_agg's l2: 0.162426 + 0.0294347\n"
     ]
    },
    {
     "name": "stderr",
     "output_type": "stream",
     "text": [
      "num_leaves, val_score: 0.162080:  65%|###############################8                 | 13/20 [00:12<00:06,  1.04it/s][I 2023-11-03 20:11:30,292] Trial 19 finished with value: 0.1620797932074016 and parameters: {'num_leaves': 30}. Best is trial 7 with value: 0.1620797932074016.\n",
      "num_leaves, val_score: 0.162080:  65%|###############################8                 | 13/20 [00:12<00:06,  1.04it/s]"
     ]
    },
    {
     "name": "stdout",
     "output_type": "stream",
     "text": [
      "Early stopping, best iteration is:\n",
      "[177]\tcv_agg's l2: 0.16208 + 0.0287933\n",
      "[100]\tcv_agg's l2: 0.167278 + 0.0306286\n",
      "[200]\tcv_agg's l2: 0.162426 + 0.0294347\n"
     ]
    },
    {
     "name": "stderr",
     "output_type": "stream",
     "text": [
      "num_leaves, val_score: 0.162080:  70%|##################################3              | 14/20 [00:13<00:05,  1.02it/s][I 2023-11-03 20:11:31,301] Trial 20 finished with value: 0.1620797932074016 and parameters: {'num_leaves': 122}. Best is trial 7 with value: 0.1620797932074016.\n",
      "num_leaves, val_score: 0.162080:  70%|##################################3              | 14/20 [00:13<00:05,  1.02it/s]"
     ]
    },
    {
     "name": "stdout",
     "output_type": "stream",
     "text": [
      "Early stopping, best iteration is:\n",
      "[177]\tcv_agg's l2: 0.16208 + 0.0287933\n",
      "[100]\tcv_agg's l2: 0.167278 + 0.0306286\n",
      "[200]\tcv_agg's l2: 0.162426 + 0.0294347\n"
     ]
    },
    {
     "name": "stderr",
     "output_type": "stream",
     "text": [
      "num_leaves, val_score: 0.162080:  75%|####################################7            | 15/20 [00:14<00:04,  1.02it/s][I 2023-11-03 20:11:32,298] Trial 21 finished with value: 0.1620797932074016 and parameters: {'num_leaves': 202}. Best is trial 7 with value: 0.1620797932074016.\n",
      "num_leaves, val_score: 0.162080:  75%|####################################7            | 15/20 [00:14<00:04,  1.02it/s]"
     ]
    },
    {
     "name": "stdout",
     "output_type": "stream",
     "text": [
      "Early stopping, best iteration is:\n",
      "[177]\tcv_agg's l2: 0.16208 + 0.0287933\n",
      "[100]\tcv_agg's l2: 0.167278 + 0.0306286\n",
      "[200]\tcv_agg's l2: 0.162426 + 0.0294347\n"
     ]
    },
    {
     "name": "stderr",
     "output_type": "stream",
     "text": [
      "num_leaves, val_score: 0.162080:  80%|#######################################2         | 16/20 [00:15<00:03,  1.01it/s][I 2023-11-03 20:11:33,308] Trial 22 finished with value: 0.1620797932074016 and parameters: {'num_leaves': 223}. Best is trial 7 with value: 0.1620797932074016.\n",
      "num_leaves, val_score: 0.162080:  80%|#######################################2         | 16/20 [00:15<00:03,  1.01it/s]"
     ]
    },
    {
     "name": "stdout",
     "output_type": "stream",
     "text": [
      "Early stopping, best iteration is:\n",
      "[177]\tcv_agg's l2: 0.16208 + 0.0287933\n",
      "[100]\tcv_agg's l2: 0.167278 + 0.0306286\n",
      "[200]\tcv_agg's l2: 0.162426 + 0.0294347\n"
     ]
    },
    {
     "name": "stderr",
     "output_type": "stream",
     "text": [
      "num_leaves, val_score: 0.162080:  85%|#########################################6       | 17/20 [00:16<00:03,  1.03s/it][I 2023-11-03 20:11:34,438] Trial 23 finished with value: 0.1620797932074016 and parameters: {'num_leaves': 256}. Best is trial 7 with value: 0.1620797932074016.\n",
      "num_leaves, val_score: 0.162080:  85%|#########################################6       | 17/20 [00:16<00:03,  1.03s/it]"
     ]
    },
    {
     "name": "stdout",
     "output_type": "stream",
     "text": [
      "Early stopping, best iteration is:\n",
      "[177]\tcv_agg's l2: 0.16208 + 0.0287933\n",
      "[100]\tcv_agg's l2: 0.167278 + 0.0306286\n",
      "[200]\tcv_agg's l2: 0.162426 + 0.0294347\n"
     ]
    },
    {
     "name": "stderr",
     "output_type": "stream",
     "text": [
      "num_leaves, val_score: 0.162080:  90%|############################################1    | 18/20 [00:17<00:01,  1.00it/s][I 2023-11-03 20:11:35,353] Trial 24 finished with value: 0.1620797932074016 and parameters: {'num_leaves': 151}. Best is trial 7 with value: 0.1620797932074016.\n",
      "num_leaves, val_score: 0.162080:  90%|############################################1    | 18/20 [00:17<00:01,  1.00it/s]"
     ]
    },
    {
     "name": "stdout",
     "output_type": "stream",
     "text": [
      "Early stopping, best iteration is:\n",
      "[177]\tcv_agg's l2: 0.16208 + 0.0287933\n",
      "[100]\tcv_agg's l2: 0.167278 + 0.0306286\n",
      "[200]\tcv_agg's l2: 0.162426 + 0.0294347\n"
     ]
    },
    {
     "name": "stderr",
     "output_type": "stream",
     "text": [
      "num_leaves, val_score: 0.162080:  95%|##############################################5  | 19/20 [00:18<00:01,  1.00s/it][I 2023-11-03 20:11:36,363] Trial 25 finished with value: 0.1620797932074016 and parameters: {'num_leaves': 188}. Best is trial 7 with value: 0.1620797932074016.\n",
      "num_leaves, val_score: 0.162080:  95%|##############################################5  | 19/20 [00:18<00:01,  1.00s/it]"
     ]
    },
    {
     "name": "stdout",
     "output_type": "stream",
     "text": [
      "Early stopping, best iteration is:\n",
      "[177]\tcv_agg's l2: 0.16208 + 0.0287933\n",
      "[100]\tcv_agg's l2: 0.167278 + 0.0306286\n",
      "[200]\tcv_agg's l2: 0.162426 + 0.0294347\n"
     ]
    },
    {
     "name": "stderr",
     "output_type": "stream",
     "text": [
      "num_leaves, val_score: 0.162080: 100%|#################################################| 20/20 [00:19<00:00,  1.01it/s][I 2023-11-03 20:11:37,340] Trial 26 finished with value: 0.1620797932074016 and parameters: {'num_leaves': 86}. Best is trial 7 with value: 0.1620797932074016.\n",
      "num_leaves, val_score: 0.162080: 100%|#################################################| 20/20 [00:19<00:00,  1.02it/s]\n"
     ]
    },
    {
     "name": "stdout",
     "output_type": "stream",
     "text": [
      "Early stopping, best iteration is:\n",
      "[177]\tcv_agg's l2: 0.16208 + 0.0287933\n"
     ]
    },
    {
     "name": "stderr",
     "output_type": "stream",
     "text": [
      "bagging, val_score: 0.162080:   0%|                                                             | 0/10 [00:00<?, ?it/s]"
     ]
    },
    {
     "name": "stdout",
     "output_type": "stream",
     "text": [
      "[100]\tcv_agg's l2: 0.187442 + 0.0295799\n"
     ]
    },
    {
     "name": "stderr",
     "output_type": "stream",
     "text": [
      "\r",
      "bagging, val_score: 0.162080:   0%|                                                             | 0/10 [00:00<?, ?it/s]"
     ]
    },
    {
     "name": "stdout",
     "output_type": "stream",
     "text": [
      "[200]\tcv_agg's l2: 0.179692 + 0.0234563\n",
      "Early stopping, best iteration is:\n",
      "[177]\tcv_agg's l2: 0.16208 + 0.0287933\n"
     ]
    },
    {
     "name": "stderr",
     "output_type": "stream",
     "text": [
      "bagging, val_score: 0.162080:  10%|#####3                                               | 1/10 [00:00<00:06,  1.40it/s][I 2023-11-03 20:11:38,061] Trial 27 finished with value: 0.18002249901870676 and parameters: {'bagging_fraction': 0.7037827178209258, 'bagging_freq': 5}. Best is trial 27 with value: 0.18002249901870676.\n",
      "bagging, val_score: 0.162080:  10%|#####3                                               | 1/10 [00:00<00:06,  1.40it/s]"
     ]
    },
    {
     "name": "stdout",
     "output_type": "stream",
     "text": [
      "[100]\tcv_agg's l2: 0.209123 + 0.0326058\n"
     ]
    },
    {
     "name": "stderr",
     "output_type": "stream",
     "text": [
      "bagging, val_score: 0.162080:  20%|##########6                                          | 2/10 [00:01<00:05,  1.47it/s][I 2023-11-03 20:11:38,716] Trial 28 finished with value: 0.19847428079606763 and parameters: {'bagging_fraction': 0.40359829719342183, 'bagging_freq': 1}. Best is trial 27 with value: 0.18002249901870676.\n",
      "bagging, val_score: 0.162080:  20%|##########6                                          | 2/10 [00:01<00:05,  1.47it/s]"
     ]
    },
    {
     "name": "stdout",
     "output_type": "stream",
     "text": [
      "[200]\tcv_agg's l2: 0.195096 + 0.0309511\n",
      "Early stopping, best iteration is:\n",
      "[177]\tcv_agg's l2: 0.16208 + 0.0287933\n",
      "[100]\tcv_agg's l2: 0.17057 + 0.0223891\n",
      "[200]\tcv_agg's l2: 0.16543 + 0.0207222\n"
     ]
    },
    {
     "name": "stderr",
     "output_type": "stream",
     "text": [
      "bagging, val_score: 0.162080:  30%|###############9                                     | 3/10 [00:02<00:05,  1.23it/s][I 2023-11-03 20:11:39,690] Trial 29 finished with value: 0.16549221805144257 and parameters: {'bagging_fraction': 0.9859987038905451, 'bagging_freq': 7}. Best is trial 29 with value: 0.16549221805144257.\n",
      "bagging, val_score: 0.162080:  30%|###############9                                     | 3/10 [00:02<00:05,  1.23it/s]"
     ]
    },
    {
     "name": "stdout",
     "output_type": "stream",
     "text": [
      "Early stopping, best iteration is:\n",
      "[177]\tcv_agg's l2: 0.16208 + 0.0287933\n",
      "[100]\tcv_agg's l2: 0.200434 + 0.0298072\n",
      "[200]\tcv_agg's l2: 0.189993 + 0.0280076\n"
     ]
    },
    {
     "name": "stderr",
     "output_type": "stream",
     "text": [
      "bagging, val_score: 0.162080:  40%|#####################2                               | 4/10 [00:03<00:04,  1.33it/s][I 2023-11-03 20:11:40,349] Trial 30 finished with value: 0.19193821329788036 and parameters: {'bagging_fraction': 0.40114988779134153, 'bagging_freq': 1}. Best is trial 29 with value: 0.16549221805144257.\n",
      "bagging, val_score: 0.162080:  40%|#####################2                               | 4/10 [00:03<00:04,  1.33it/s]"
     ]
    },
    {
     "name": "stdout",
     "output_type": "stream",
     "text": [
      "Early stopping, best iteration is:\n",
      "[177]\tcv_agg's l2: 0.16208 + 0.0287933\n",
      "[100]\tcv_agg's l2: 0.174294 + 0.03551\n",
      "[200]\tcv_agg's l2: 0.170572 + 0.0343893\n"
     ]
    },
    {
     "name": "stderr",
     "output_type": "stream",
     "text": [
      "bagging, val_score: 0.162080:  50%|##########################5                          | 5/10 [00:03<00:04,  1.22it/s][I 2023-11-03 20:11:41,293] Trial 31 finished with value: 0.17057410087470823 and parameters: {'bagging_fraction': 0.9937937851322558, 'bagging_freq': 4}. Best is trial 29 with value: 0.16549221805144257.\n",
      "bagging, val_score: 0.162080:  50%|##########################5                          | 5/10 [00:03<00:04,  1.22it/s]"
     ]
    },
    {
     "name": "stdout",
     "output_type": "stream",
     "text": [
      "Early stopping, best iteration is:\n",
      "[177]\tcv_agg's l2: 0.16208 + 0.0287933\n",
      "[100]\tcv_agg's l2: 0.185633 + 0.032594\n"
     ]
    },
    {
     "name": "stderr",
     "output_type": "stream",
     "text": [
      "\r",
      "bagging, val_score: 0.162080:  50%|##########################5                          | 5/10 [00:04<00:04,  1.22it/s]"
     ]
    },
    {
     "name": "stdout",
     "output_type": "stream",
     "text": [
      "[200]\tcv_agg's l2: 0.181461 + 0.025221\n",
      "Early stopping, best iteration is:\n",
      "[177]\tcv_agg's l2: 0.16208 + 0.0287933\n"
     ]
    },
    {
     "name": "stderr",
     "output_type": "stream",
     "text": [
      "bagging, val_score: 0.162080:  60%|###############################8                     | 6/10 [00:04<00:03,  1.28it/s][I 2023-11-03 20:11:42,003] Trial 32 finished with value: 0.18146078091666723 and parameters: {'bagging_fraction': 0.7024763929610278, 'bagging_freq': 4}. Best is trial 29 with value: 0.16549221805144257.\n",
      "bagging, val_score: 0.162080:  60%|###############################8                     | 6/10 [00:04<00:03,  1.28it/s]"
     ]
    },
    {
     "name": "stdout",
     "output_type": "stream",
     "text": [
      "[100]\tcv_agg's l2: 0.203941 + 0.0464746\n"
     ]
    },
    {
     "name": "stderr",
     "output_type": "stream",
     "text": [
      "\r",
      "bagging, val_score: 0.162080:  60%|###############################8                     | 6/10 [00:05<00:03,  1.28it/s]"
     ]
    },
    {
     "name": "stdout",
     "output_type": "stream",
     "text": [
      "[200]\tcv_agg's l2: 0.194604 + 0.0447128\n",
      "Early stopping, best iteration is:\n",
      "[177]\tcv_agg's l2: 0.16208 + 0.0287933\n"
     ]
    },
    {
     "name": "stderr",
     "output_type": "stream",
     "text": [
      "bagging, val_score: 0.162080:  70%|#####################################                | 7/10 [00:05<00:02,  1.35it/s][I 2023-11-03 20:11:42,656] Trial 33 finished with value: 0.19504680279570763 and parameters: {'bagging_fraction': 0.5666000638305996, 'bagging_freq': 7}. Best is trial 29 with value: 0.16549221805144257.\n",
      "bagging, val_score: 0.162080:  70%|#####################################                | 7/10 [00:05<00:02,  1.35it/s]"
     ]
    },
    {
     "name": "stdout",
     "output_type": "stream",
     "text": [
      "[100]\tcv_agg's l2: 0.177488 + 0.0346777\n",
      "[200]\tcv_agg's l2: 0.173912 + 0.0299511\n"
     ]
    },
    {
     "name": "stderr",
     "output_type": "stream",
     "text": [
      "bagging, val_score: 0.162080:  80%|##########################################4          | 8/10 [00:06<00:01,  1.20it/s][I 2023-11-03 20:11:43,693] Trial 34 finished with value: 0.17258957630723426 and parameters: {'bagging_fraction': 0.8317896348618125, 'bagging_freq': 3}. Best is trial 29 with value: 0.16549221805144257.\n",
      "bagging, val_score: 0.162080:  80%|##########################################4          | 8/10 [00:06<00:01,  1.20it/s]"
     ]
    },
    {
     "name": "stdout",
     "output_type": "stream",
     "text": [
      "Early stopping, best iteration is:\n",
      "[177]\tcv_agg's l2: 0.16208 + 0.0287933\n",
      "[100]\tcv_agg's l2: 0.204678 + 0.0428073\n",
      "[200]\tcv_agg's l2: 0.19367 + 0.0420885\n"
     ]
    },
    {
     "name": "stderr",
     "output_type": "stream",
     "text": [
      "bagging, val_score: 0.162080:  90%|###############################################7     | 9/10 [00:07<00:00,  1.23it/s][I 2023-11-03 20:11:44,452] Trial 35 finished with value: 0.19243991280829514 and parameters: {'bagging_fraction': 0.5764554009462526, 'bagging_freq': 6}. Best is trial 29 with value: 0.16549221805144257.\n",
      "bagging, val_score: 0.162080:  90%|###############################################7     | 9/10 [00:07<00:00,  1.23it/s]"
     ]
    },
    {
     "name": "stdout",
     "output_type": "stream",
     "text": [
      "Early stopping, best iteration is:\n",
      "[177]\tcv_agg's l2: 0.16208 + 0.0287933\n",
      "[100]\tcv_agg's l2: 0.185685 + 0.0437121\n",
      "[200]\tcv_agg's l2: 0.178542 + 0.0391924\n"
     ]
    },
    {
     "name": "stderr",
     "output_type": "stream",
     "text": [
      "bagging, val_score: 0.162080: 100%|####################################################| 10/10 [00:08<00:00,  1.19it/s][I 2023-11-03 20:11:45,363] Trial 36 finished with value: 0.17877947031928945 and parameters: {'bagging_fraction': 0.8498027140461274, 'bagging_freq': 2}. Best is trial 29 with value: 0.16549221805144257.\n",
      "bagging, val_score: 0.162080: 100%|####################################################| 10/10 [00:08<00:00,  1.25it/s]\n"
     ]
    },
    {
     "name": "stdout",
     "output_type": "stream",
     "text": [
      "Early stopping, best iteration is:\n",
      "[177]\tcv_agg's l2: 0.16208 + 0.0287933\n"
     ]
    },
    {
     "name": "stderr",
     "output_type": "stream",
     "text": [
      "feature_fraction_stage2, val_score: 0.162080:   0%|                                              | 0/6 [00:00<?, ?it/s]"
     ]
    },
    {
     "name": "stdout",
     "output_type": "stream",
     "text": [
      "[100]\tcv_agg's l2: 0.170741 + 0.0332744\n",
      "[200]\tcv_agg's l2: 0.165927 + 0.0329852\n"
     ]
    },
    {
     "name": "stderr",
     "output_type": "stream",
     "text": [
      "feature_fraction_stage2, val_score: 0.162080:  17%|######3                               | 1/6 [00:00<00:04,  1.18it/s][I 2023-11-03 20:11:46,213] Trial 37 finished with value: 0.16643217066951238 and parameters: {'feature_fraction': 0.484}. Best is trial 37 with value: 0.16643217066951238.\n",
      "feature_fraction_stage2, val_score: 0.162080:  17%|######3                               | 1/6 [00:00<00:04,  1.18it/s]"
     ]
    },
    {
     "name": "stdout",
     "output_type": "stream",
     "text": [
      "Early stopping, best iteration is:\n",
      "[177]\tcv_agg's l2: 0.16208 + 0.0287933\n",
      "[100]\tcv_agg's l2: 0.168147 + 0.0325914\n",
      "[200]\tcv_agg's l2: 0.16436 + 0.0324772\n"
     ]
    },
    {
     "name": "stderr",
     "output_type": "stream",
     "text": [
      "feature_fraction_stage2, val_score: 0.162080:  33%|############6                         | 2/6 [00:01<00:03,  1.08it/s][I 2023-11-03 20:11:47,200] Trial 38 finished with value: 0.1644610700057483 and parameters: {'feature_fraction': 0.58}. Best is trial 38 with value: 0.1644610700057483.\n",
      "feature_fraction_stage2, val_score: 0.162080:  33%|############6                         | 2/6 [00:01<00:03,  1.08it/s]"
     ]
    },
    {
     "name": "stdout",
     "output_type": "stream",
     "text": [
      "Early stopping, best iteration is:\n",
      "[177]\tcv_agg's l2: 0.16208 + 0.0287933\n",
      "[100]\tcv_agg's l2: 0.170741 + 0.0332744\n",
      "[200]\tcv_agg's l2: 0.165927 + 0.0329852\n"
     ]
    },
    {
     "name": "stderr",
     "output_type": "stream",
     "text": [
      "feature_fraction_stage2, val_score: 0.162080:  50%|###################                   | 3/6 [00:02<00:03,  1.02s/it][I 2023-11-03 20:11:48,331] Trial 39 finished with value: 0.16643217066951238 and parameters: {'feature_fraction': 0.45199999999999996}. Best is trial 38 with value: 0.1644610700057483.\n",
      "feature_fraction_stage2, val_score: 0.162080:  50%|###################                   | 3/6 [00:02<00:03,  1.02s/it]"
     ]
    },
    {
     "name": "stdout",
     "output_type": "stream",
     "text": [
      "Early stopping, best iteration is:\n",
      "[177]\tcv_agg's l2: 0.16208 + 0.0287933\n",
      "[100]\tcv_agg's l2: 0.167278 + 0.0306286\n",
      "[200]\tcv_agg's l2: 0.162426 + 0.0294347\n"
     ]
    },
    {
     "name": "stderr",
     "output_type": "stream",
     "text": [
      "feature_fraction_stage2, val_score: 0.162080:  67%|#########################3            | 4/6 [00:03<00:02,  1.01s/it][I 2023-11-03 20:11:49,324] Trial 40 finished with value: 0.1620797932074016 and parameters: {'feature_fraction': 0.5479999999999999}. Best is trial 40 with value: 0.1620797932074016.\n",
      "feature_fraction_stage2, val_score: 0.162080:  67%|#########################3            | 4/6 [00:03<00:02,  1.01s/it]"
     ]
    },
    {
     "name": "stdout",
     "output_type": "stream",
     "text": [
      "Early stopping, best iteration is:\n",
      "[177]\tcv_agg's l2: 0.16208 + 0.0287933\n",
      "[100]\tcv_agg's l2: 0.1677 + 0.0286543\n",
      "[200]\tcv_agg's l2: 0.163664 + 0.0256416\n"
     ]
    },
    {
     "name": "stderr",
     "output_type": "stream",
     "text": [
      "feature_fraction_stage2, val_score: 0.162080:  83%|###############################6      | 5/6 [00:04<00:00,  1.01it/s][I 2023-11-03 20:11:50,282] Trial 41 finished with value: 0.16389971458482328 and parameters: {'feature_fraction': 0.42}. Best is trial 40 with value: 0.1620797932074016.\n",
      "feature_fraction_stage2, val_score: 0.162080:  83%|###############################6      | 5/6 [00:04<00:00,  1.01it/s]"
     ]
    },
    {
     "name": "stdout",
     "output_type": "stream",
     "text": [
      "Early stopping, best iteration is:\n",
      "[177]\tcv_agg's l2: 0.16208 + 0.0287933\n",
      "[100]\tcv_agg's l2: 0.167278 + 0.0306286\n",
      "[200]\tcv_agg's l2: 0.162426 + 0.0294347\n"
     ]
    },
    {
     "name": "stderr",
     "output_type": "stream",
     "text": [
      "feature_fraction_stage2, val_score: 0.162080: 100%|######################################| 6/6 [00:05<00:00,  1.02s/it][I 2023-11-03 20:11:51,367] Trial 42 finished with value: 0.1620797932074016 and parameters: {'feature_fraction': 0.516}. Best is trial 40 with value: 0.1620797932074016.\n",
      "feature_fraction_stage2, val_score: 0.162080: 100%|######################################| 6/6 [00:06<00:00,  1.00s/it]\n"
     ]
    },
    {
     "name": "stdout",
     "output_type": "stream",
     "text": [
      "Early stopping, best iteration is:\n",
      "[177]\tcv_agg's l2: 0.16208 + 0.0287933\n"
     ]
    },
    {
     "name": "stderr",
     "output_type": "stream",
     "text": [
      "regularization_factors, val_score: 0.162080:   0%|                                              | 0/20 [00:00<?, ?it/s]"
     ]
    },
    {
     "name": "stdout",
     "output_type": "stream",
     "text": [
      "[100]\tcv_agg's l2: 0.167801 + 0.0305183\n",
      "[200]\tcv_agg's l2: 0.163036 + 0.02933\n"
     ]
    },
    {
     "name": "stderr",
     "output_type": "stream",
     "text": [
      "regularization_factors, val_score: 0.162080:   5%|#9                                    | 1/20 [00:01<00:21,  1.13s/it][I 2023-11-03 20:11:52,499] Trial 43 finished with value: 0.16259963416255802 and parameters: {'lambda_l1': 1.4897613490876662e-05, 'lambda_l2': 3.6240084168629834e-06}. Best is trial 43 with value: 0.16259963416255802.\n",
      "regularization_factors, val_score: 0.162080:   5%|#9                                    | 1/20 [00:01<00:21,  1.13s/it]"
     ]
    },
    {
     "name": "stdout",
     "output_type": "stream",
     "text": [
      "Early stopping, best iteration is:\n",
      "[177]\tcv_agg's l2: 0.16208 + 0.0287933\n",
      "[100]\tcv_agg's l2: 0.217363 + 0.0435408\n",
      "[200]\tcv_agg's l2: 0.211348 + 0.0427826\n"
     ]
    },
    {
     "name": "stderr",
     "output_type": "stream",
     "text": [
      "regularization_factors, val_score: 0.162080:  10%|###8                                  | 2/20 [00:01<00:12,  1.41it/s][I 2023-11-03 20:11:52,919] Trial 44 finished with value: 0.2116103965274804 and parameters: {'lambda_l1': 5.200421466809431, 'lambda_l2': 4.053075777798751}. Best is trial 43 with value: 0.16259963416255802.\n",
      "regularization_factors, val_score: 0.162080:  10%|###8                                  | 2/20 [00:01<00:12,  1.41it/s]"
     ]
    },
    {
     "name": "stdout",
     "output_type": "stream",
     "text": [
      "Early stopping, best iteration is:\n",
      "[177]\tcv_agg's l2: 0.16208 + 0.0287933\n",
      "[100]\tcv_agg's l2: 0.167801 + 0.0305183\n",
      "[200]\tcv_agg's l2: 0.162962 + 0.0293105\n"
     ]
    },
    {
     "name": "stderr",
     "output_type": "stream",
     "text": [
      "regularization_factors, val_score: 0.162080:  15%|#####7                                | 3/20 [00:02<00:15,  1.13it/s][I 2023-11-03 20:11:54,005] Trial 45 finished with value: 0.16264641858422074 and parameters: {'lambda_l1': 4.0958054027973215e-07, 'lambda_l2': 1.8390430195538432e-08}. Best is trial 43 with value: 0.16259963416255802.\n",
      "regularization_factors, val_score: 0.162080:  15%|#####7                                | 3/20 [00:02<00:15,  1.13it/s]"
     ]
    },
    {
     "name": "stdout",
     "output_type": "stream",
     "text": [
      "Early stopping, best iteration is:\n",
      "[177]\tcv_agg's l2: 0.16208 + 0.0287933\n",
      "[100]\tcv_agg's l2: 0.172453 + 0.0319161\n",
      "[200]\tcv_agg's l2: 0.168726 + 0.0313565\n"
     ]
    },
    {
     "name": "stderr",
     "output_type": "stream",
     "text": [
      "regularization_factors, val_score: 0.162080:  20%|#######6                              | 4/20 [00:03<00:14,  1.08it/s][I 2023-11-03 20:11:54,991] Trial 46 finished with value: 0.1682903518637479 and parameters: {'lambda_l1': 5.05579592676025e-08, 'lambda_l2': 0.030039960634062102}. Best is trial 43 with value: 0.16259963416255802.\n",
      "regularization_factors, val_score: 0.162080:  20%|#######6                              | 4/20 [00:03<00:14,  1.08it/s]"
     ]
    },
    {
     "name": "stdout",
     "output_type": "stream",
     "text": [
      "Early stopping, best iteration is:\n",
      "[177]\tcv_agg's l2: 0.16208 + 0.0287933\n",
      "[100]\tcv_agg's l2: 0.166456 + 0.0303537\n",
      "[200]\tcv_agg's l2: 0.163263 + 0.0296962\n"
     ]
    },
    {
     "name": "stderr",
     "output_type": "stream",
     "text": [
      "regularization_factors, val_score: 0.162080:  25%|#########5                            | 5/20 [00:04<00:14,  1.04it/s][I 2023-11-03 20:11:56,029] Trial 47 finished with value: 0.1632150578455503 and parameters: {'lambda_l1': 0.00698621530033482, 'lambda_l2': 0.00038321213801467317}. Best is trial 43 with value: 0.16259963416255802.\n",
      "regularization_factors, val_score: 0.162080:  25%|#########5                            | 5/20 [00:04<00:14,  1.04it/s]"
     ]
    },
    {
     "name": "stdout",
     "output_type": "stream",
     "text": [
      "Early stopping, best iteration is:\n",
      "[177]\tcv_agg's l2: 0.16208 + 0.0287933\n",
      "[100]\tcv_agg's l2: 0.167985 + 0.0309063\n",
      "[200]\tcv_agg's l2: 0.163726 + 0.0304133\n"
     ]
    },
    {
     "name": "stderr",
     "output_type": "stream",
     "text": [
      "regularization_factors, val_score: 0.162080:  30%|###########4                          | 6/20 [00:05<00:13,  1.04it/s][I 2023-11-03 20:11:56,983] Trial 48 finished with value: 0.16341835716140848 and parameters: {'lambda_l1': 0.0008237980439722984, 'lambda_l2': 1.0593924649284618e-08}. Best is trial 43 with value: 0.16259963416255802.\n",
      "regularization_factors, val_score: 0.162080:  30%|###########4                          | 6/20 [00:05<00:13,  1.04it/s]"
     ]
    },
    {
     "name": "stdout",
     "output_type": "stream",
     "text": [
      "Early stopping, best iteration is:\n",
      "[177]\tcv_agg's l2: 0.16208 + 0.0287933\n",
      "[100]\tcv_agg's l2: 0.175887 + 0.0331913\n",
      "[200]\tcv_agg's l2: 0.168288 + 0.0306715\n"
     ]
    },
    {
     "name": "stderr",
     "output_type": "stream",
     "text": [
      "regularization_factors, val_score: 0.162080:  35%|#############3                        | 7/20 [00:06<00:12,  1.05it/s][I 2023-11-03 20:11:57,919] Trial 49 finished with value: 0.16815751422419362 and parameters: {'lambda_l1': 1.947713921809472e-08, 'lambda_l2': 5.357585652100129}. Best is trial 43 with value: 0.16259963416255802.\n",
      "regularization_factors, val_score: 0.162080:  35%|#############3                        | 7/20 [00:06<00:12,  1.05it/s]"
     ]
    },
    {
     "name": "stdout",
     "output_type": "stream",
     "text": [
      "Early stopping, best iteration is:\n",
      "[177]\tcv_agg's l2: 0.16208 + 0.0287933\n"
     ]
    },
    {
     "name": "stderr",
     "output_type": "stream",
     "text": [
      "regularization_factors, val_score: 0.162080:  40%|###############2                      | 8/20 [00:06<00:09,  1.29it/s][I 2023-11-03 20:11:58,317] Trial 50 finished with value: 0.2254418147730272 and parameters: {'lambda_l1': 8.45124979085076, 'lambda_l2': 4.261468516830593e-05}. Best is trial 43 with value: 0.16259963416255802.\n",
      "regularization_factors, val_score: 0.162080:  40%|###############2                      | 8/20 [00:06<00:09,  1.29it/s]"
     ]
    },
    {
     "name": "stdout",
     "output_type": "stream",
     "text": [
      "[100]\tcv_agg's l2: 0.227694 + 0.046553\n",
      "[200]\tcv_agg's l2: 0.225442 + 0.046595\n",
      "Early stopping, best iteration is:\n",
      "[177]\tcv_agg's l2: 0.16208 + 0.0287933\n",
      "[100]\tcv_agg's l2: 0.17115 + 0.0312281\n",
      "[200]\tcv_agg's l2: 0.167414 + 0.0301175\n"
     ]
    },
    {
     "name": "stderr",
     "output_type": "stream",
     "text": [
      "regularization_factors, val_score: 0.162080:  45%|#################1                    | 9/20 [00:07<00:09,  1.19it/s][I 2023-11-03 20:11:59,292] Trial 51 finished with value: 0.16745769348952436 and parameters: {'lambda_l1': 0.029825382134594347, 'lambda_l2': 0.03988255824999816}. Best is trial 43 with value: 0.16259963416255802.\n",
      "regularization_factors, val_score: 0.162080:  45%|#################1                    | 9/20 [00:07<00:09,  1.19it/s]"
     ]
    },
    {
     "name": "stdout",
     "output_type": "stream",
     "text": [
      "Early stopping, best iteration is:\n",
      "[177]\tcv_agg's l2: 0.16208 + 0.0287933\n",
      "[100]\tcv_agg's l2: 0.167801 + 0.0305183\n",
      "[200]\tcv_agg's l2: 0.163323 + 0.0296825\n"
     ]
    },
    {
     "name": "stderr",
     "output_type": "stream",
     "text": [
      "regularization_factors, val_score: 0.162080:  50%|##################5                  | 10/20 [00:09<00:09,  1.08it/s][I 2023-11-03 20:12:00,413] Trial 52 finished with value: 0.16318176482832106 and parameters: {'lambda_l1': 1.6528747448376157e-05, 'lambda_l2': 7.1614607076065e-07}. Best is trial 43 with value: 0.16259963416255802.\n",
      "regularization_factors, val_score: 0.162080:  50%|##################5                  | 10/20 [00:09<00:09,  1.08it/s]"
     ]
    },
    {
     "name": "stdout",
     "output_type": "stream",
     "text": [
      "Early stopping, best iteration is:\n",
      "[177]\tcv_agg's l2: 0.16208 + 0.0287933\n",
      "[100]\tcv_agg's l2: 0.169095 + 0.0288037\n",
      "[200]\tcv_agg's l2: 0.164937 + 0.0276056\n"
     ]
    },
    {
     "name": "stderr",
     "output_type": "stream",
     "text": [
      "regularization_factors, val_score: 0.162080:  55%|####################3                | 11/20 [00:10<00:08,  1.03it/s][I 2023-11-03 20:12:01,482] Trial 53 finished with value: 0.16557140957931687 and parameters: {'lambda_l1': 0.21367257576095608, 'lambda_l2': 0.0013943886462545964}. Best is trial 43 with value: 0.16259963416255802.\n",
      "regularization_factors, val_score: 0.162080:  55%|####################3                | 11/20 [00:10<00:08,  1.03it/s]"
     ]
    },
    {
     "name": "stdout",
     "output_type": "stream",
     "text": [
      "Early stopping, best iteration is:\n",
      "[177]\tcv_agg's l2: 0.16208 + 0.0287933\n",
      "[100]\tcv_agg's l2: 0.167855 + 0.0301475\n",
      "[200]\tcv_agg's l2: 0.162719 + 0.0285335\n"
     ]
    },
    {
     "name": "stderr",
     "output_type": "stream",
     "text": [
      "regularization_factors, val_score: 0.162080:  60%|######################2              | 12/20 [00:11<00:08,  1.08s/it][I 2023-11-03 20:12:02,811] Trial 54 finished with value: 0.1625995409438767 and parameters: {'lambda_l1': 6.900185689620089e-05, 'lambda_l2': 6.4781452087495e-07}. Best is trial 54 with value: 0.1625995409438767.\n",
      "regularization_factors, val_score: 0.162080:  60%|######################2              | 12/20 [00:11<00:08,  1.08s/it]"
     ]
    },
    {
     "name": "stdout",
     "output_type": "stream",
     "text": [
      "Early stopping, best iteration is:\n",
      "[177]\tcv_agg's l2: 0.16208 + 0.0287933\n",
      "[100]\tcv_agg's l2: 0.167801 + 0.0305183\n",
      "[200]\tcv_agg's l2: 0.162962 + 0.0293104\n"
     ]
    },
    {
     "name": "stderr",
     "output_type": "stream",
     "text": [
      "regularization_factors, val_score: 0.162080:  65%|########################             | 13/20 [00:12<00:07,  1.06s/it][I 2023-11-03 20:12:03,827] Trial 55 finished with value: 0.16264637821694014 and parameters: {'lambda_l1': 1.0060614391404145e-06, 'lambda_l2': 2.9597656609594077e-05}. Best is trial 54 with value: 0.1625995409438767.\n",
      "regularization_factors, val_score: 0.162080:  65%|########################             | 13/20 [00:12<00:07,  1.06s/it]"
     ]
    },
    {
     "name": "stdout",
     "output_type": "stream",
     "text": [
      "Early stopping, best iteration is:\n",
      "[177]\tcv_agg's l2: 0.16208 + 0.0287933\n",
      "[100]\tcv_agg's l2: 0.169078 + 0.0322099\n",
      "[200]\tcv_agg's l2: 0.165843 + 0.031507\n"
     ]
    },
    {
     "name": "stderr",
     "output_type": "stream",
     "text": [
      "regularization_factors, val_score: 0.162080:  70%|#########################9           | 14/20 [00:13<00:06,  1.06s/it][I 2023-11-03 20:12:04,891] Trial 56 finished with value: 0.16564725086826665 and parameters: {'lambda_l1': 0.0008504072387539337, 'lambda_l2': 0.012976689893024914}. Best is trial 54 with value: 0.1625995409438767.\n",
      "regularization_factors, val_score: 0.162080:  70%|#########################9           | 14/20 [00:13<00:06,  1.06s/it]"
     ]
    },
    {
     "name": "stdout",
     "output_type": "stream",
     "text": [
      "Early stopping, best iteration is:\n",
      "[177]\tcv_agg's l2: 0.16208 + 0.0287933\n",
      "[100]\tcv_agg's l2: 0.172177 + 0.0305684\n",
      "[200]\tcv_agg's l2: 0.169251 + 0.0272854\n"
     ]
    },
    {
     "name": "stderr",
     "output_type": "stream",
     "text": [
      "regularization_factors, val_score: 0.162080:  75%|###########################7         | 15/20 [00:14<00:05,  1.09s/it][I 2023-11-03 20:12:06,036] Trial 57 finished with value: 0.16931438895071485 and parameters: {'lambda_l1': 1.262429914131864e-08, 'lambda_l2': 0.5334381330193195}. Best is trial 54 with value: 0.1625995409438767.\n",
      "regularization_factors, val_score: 0.162080:  75%|###########################7         | 15/20 [00:14<00:05,  1.09s/it]"
     ]
    },
    {
     "name": "stdout",
     "output_type": "stream",
     "text": [
      "Early stopping, best iteration is:\n",
      "[177]\tcv_agg's l2: 0.16208 + 0.0287933\n",
      "[100]\tcv_agg's l2: 0.171543 + 0.0282438\n",
      "[200]\tcv_agg's l2: 0.166673 + 0.0256765\n"
     ]
    },
    {
     "name": "stderr",
     "output_type": "stream",
     "text": [
      "regularization_factors, val_score: 0.162080:  80%|#############################6       | 16/20 [00:15<00:04,  1.06s/it][I 2023-11-03 20:12:07,018] Trial 58 finished with value: 0.16707338351044324 and parameters: {'lambda_l1': 0.38451862191594177, 'lambda_l2': 0.26437365439016514}. Best is trial 54 with value: 0.1625995409438767.\n",
      "regularization_factors, val_score: 0.162080:  80%|#############################6       | 16/20 [00:15<00:04,  1.06s/it]"
     ]
    },
    {
     "name": "stdout",
     "output_type": "stream",
     "text": [
      "Early stopping, best iteration is:\n",
      "[177]\tcv_agg's l2: 0.16208 + 0.0287933\n",
      "[100]\tcv_agg's l2: 0.166879 + 0.0303076\n",
      "[200]\tcv_agg's l2: 0.163193 + 0.0307023\n"
     ]
    },
    {
     "name": "stderr",
     "output_type": "stream",
     "text": [
      "regularization_factors, val_score: 0.162080:  85%|###############################4     | 17/20 [00:16<00:03,  1.04s/it][I 2023-11-03 20:12:08,021] Trial 59 finished with value: 0.1628674183340888 and parameters: {'lambda_l1': 0.0035625425939324507, 'lambda_l2': 0.00273431254701781}. Best is trial 54 with value: 0.1625995409438767.\n",
      "regularization_factors, val_score: 0.162080:  85%|###############################4     | 17/20 [00:16<00:03,  1.04s/it]"
     ]
    },
    {
     "name": "stdout",
     "output_type": "stream",
     "text": [
      "Early stopping, best iteration is:\n",
      "[177]\tcv_agg's l2: 0.16208 + 0.0287933\n",
      "[100]\tcv_agg's l2: 0.167808 + 0.03051\n",
      "[200]\tcv_agg's l2: 0.163019 + 0.0292448\n"
     ]
    },
    {
     "name": "stderr",
     "output_type": "stream",
     "text": [
      "regularization_factors, val_score: 0.162080:  90%|#################################3   | 18/20 [00:17<00:02,  1.05s/it][I 2023-11-03 20:12:09,110] Trial 60 finished with value: 0.16269523593933233 and parameters: {'lambda_l1': 2.6696029699584816e-06, 'lambda_l2': 8.9941331476032e-05}. Best is trial 54 with value: 0.1625995409438767.\n",
      "regularization_factors, val_score: 0.162080:  90%|#################################3   | 18/20 [00:17<00:02,  1.05s/it]"
     ]
    },
    {
     "name": "stdout",
     "output_type": "stream",
     "text": [
      "Early stopping, best iteration is:\n",
      "[177]\tcv_agg's l2: 0.16208 + 0.0287933\n",
      "[100]\tcv_agg's l2: 0.167111 + 0.0313597\n",
      "[200]\tcv_agg's l2: 0.163085 + 0.0299651\n"
     ]
    },
    {
     "name": "stderr",
     "output_type": "stream",
     "text": [
      "regularization_factors, val_score: 0.162080:  95%|###################################1 | 19/20 [00:18<00:01,  1.03s/it][I 2023-11-03 20:12:10,099] Trial 61 finished with value: 0.1631768643074225 and parameters: {'lambda_l1': 1.343822723995603e-07, 'lambda_l2': 0.002608649729096833}. Best is trial 54 with value: 0.1625995409438767.\n",
      "regularization_factors, val_score: 0.162080:  95%|###################################1 | 19/20 [00:18<00:01,  1.03s/it]"
     ]
    },
    {
     "name": "stdout",
     "output_type": "stream",
     "text": [
      "Early stopping, best iteration is:\n",
      "[177]\tcv_agg's l2: 0.16208 + 0.0287933\n",
      "[100]\tcv_agg's l2: 0.167002 + 0.0293737\n",
      "[200]\tcv_agg's l2: 0.162517 + 0.0280984\n"
     ]
    },
    {
     "name": "stderr",
     "output_type": "stream",
     "text": [
      "regularization_factors, val_score: 0.161975: 100%|#####################################| 20/20 [00:19<00:00,  1.06s/it][I 2023-11-03 20:12:11,215] Trial 62 finished with value: 0.1619754810390852 and parameters: {'lambda_l1': 0.00013874032033382792, 'lambda_l2': 8.447915375498709e-08}. Best is trial 62 with value: 0.1619754810390852.\n",
      "regularization_factors, val_score: 0.161975: 100%|#####################################| 20/20 [00:19<00:00,  1.01it/s]\n"
     ]
    },
    {
     "name": "stdout",
     "output_type": "stream",
     "text": [
      "[300]\tcv_agg's l2: 0.162957 + 0.0277767\n",
      "Early stopping, best iteration is:\n",
      "[210]\tcv_agg's l2: 0.161975 + 0.0277709\n"
     ]
    },
    {
     "name": "stderr",
     "output_type": "stream",
     "text": [
      "min_data_in_leaf, val_score: 0.161975:   0%|                                                     | 0/5 [00:00<?, ?it/s]"
     ]
    },
    {
     "name": "stdout",
     "output_type": "stream",
     "text": [
      "[100]\tcv_agg's l2: 0.182546 + 0.0379344\n",
      "[200]\tcv_agg's l2: 0.176225 + 0.0336663\n"
     ]
    },
    {
     "name": "stderr",
     "output_type": "stream",
     "text": [
      "min_data_in_leaf, val_score: 0.161975:  20%|#########                                    | 1/5 [00:01<00:04,  1.07s/it][I 2023-11-03 20:12:12,291] Trial 63 finished with value: 0.1756206983165932 and parameters: {'min_child_samples': 25}. Best is trial 63 with value: 0.1756206983165932.\n",
      "min_data_in_leaf, val_score: 0.161975:  20%|#########                                    | 1/5 [00:01<00:04,  1.07s/it]"
     ]
    },
    {
     "name": "stdout",
     "output_type": "stream",
     "text": [
      "[300]\tcv_agg's l2: 0.174124 + 0.0318125\n",
      "Early stopping, best iteration is:\n",
      "[210]\tcv_agg's l2: 0.161975 + 0.0277709\n",
      "[100]\tcv_agg's l2: 0.24881 + 0.0551348\n",
      "[200]\tcv_agg's l2: 0.233803 + 0.058675\n"
     ]
    },
    {
     "name": "stderr",
     "output_type": "stream",
     "text": [
      "min_data_in_leaf, val_score: 0.161975:  40%|##################                           | 2/5 [00:01<00:02,  1.24it/s][I 2023-11-03 20:12:12,916] Trial 64 finished with value: 0.23329570118504311 and parameters: {'min_child_samples': 50}. Best is trial 63 with value: 0.1756206983165932.\n",
      "min_data_in_leaf, val_score: 0.161975:  40%|##################                           | 2/5 [00:01<00:02,  1.24it/s]"
     ]
    },
    {
     "name": "stdout",
     "output_type": "stream",
     "text": [
      "[300]\tcv_agg's l2: 0.22931 + 0.0575174\n",
      "Early stopping, best iteration is:\n",
      "[210]\tcv_agg's l2: 0.161975 + 0.0277709\n",
      "[100]\tcv_agg's l2: 0.153935 + 0.0332636\n",
      "[200]\tcv_agg's l2: 0.151859 + 0.0339897\n"
     ]
    },
    {
     "name": "stderr",
     "output_type": "stream",
     "text": [
      "min_data_in_leaf, val_score: 0.151465:  60%|###########################                  | 3/5 [00:03<00:02,  1.12s/it][I 2023-11-03 20:12:14,412] Trial 65 finished with value: 0.1514651087579832 and parameters: {'min_child_samples': 10}. Best is trial 65 with value: 0.1514651087579832.\n",
      "min_data_in_leaf, val_score: 0.151465:  60%|###########################                  | 3/5 [00:03<00:02,  1.12s/it]"
     ]
    },
    {
     "name": "stdout",
     "output_type": "stream",
     "text": [
      "Early stopping, best iteration is:\n",
      "[183]\tcv_agg's l2: 0.151465 + 0.0338603\n",
      "[100]\tcv_agg's l2: 0.158844 + 0.0308041\n",
      "[200]\tcv_agg's l2: 0.157209 + 0.0308974\n"
     ]
    },
    {
     "name": "stderr",
     "output_type": "stream",
     "text": [
      "min_data_in_leaf, val_score: 0.151465:  80%|####################################         | 4/5 [00:05<00:01,  1.43s/it][I 2023-11-03 20:12:16,314] Trial 66 finished with value: 0.1573421776207903 and parameters: {'min_child_samples': 5}. Best is trial 65 with value: 0.1514651087579832.\n",
      "min_data_in_leaf, val_score: 0.151465:  80%|####################################         | 4/5 [00:05<00:01,  1.43s/it]"
     ]
    },
    {
     "name": "stdout",
     "output_type": "stream",
     "text": [
      "Early stopping, best iteration is:\n",
      "[183]\tcv_agg's l2: 0.151465 + 0.0338603\n",
      "[100]\tcv_agg's l2: 0.756582 + 0.111112\n"
     ]
    },
    {
     "name": "stderr",
     "output_type": "stream",
     "text": [
      "\r",
      "min_data_in_leaf, val_score: 0.151465:  80%|####################################         | 4/5 [00:05<00:01,  1.43s/it]"
     ]
    },
    {
     "name": "stdout",
     "output_type": "stream",
     "text": [
      "[200]\tcv_agg's l2: 0.734948 + 0.120452\n",
      "Early stopping, best iteration is:\n",
      "[183]\tcv_agg's l2: 0.151465 + 0.0338603\n"
     ]
    },
    {
     "name": "stderr",
     "output_type": "stream",
     "text": [
      "min_data_in_leaf, val_score: 0.151465: 100%|#############################################| 5/5 [00:05<00:00,  1.11s/it][I 2023-11-03 20:12:16,847] Trial 67 finished with value: 0.737679556107478 and parameters: {'min_child_samples': 100}. Best is trial 65 with value: 0.1514651087579832.\n",
      "min_data_in_leaf, val_score: 0.151465: 100%|#############################################| 5/5 [00:05<00:00,  1.13s/it]\n"
     ]
    }
   ],
   "source": [
    "import optuna.integration.lightgbm as lgb\n",
    "from lightgbm import early_stopping, log_evaluation\n",
    "from sklearn.model_selection import KFold\n",
    "from sklearn.model_selection import RepeatedKFold\n",
    "\n",
    "\n",
    "lgb_train = lgb.Dataset(X_train, y_train)\n",
    "\n",
    "params = {\n",
    "    \"boosting_type\": \"gbdt\",\n",
    "    \"objective\": \"regression\",\n",
    "    \"metric\": \"l2\",\n",
    "    \"verbosity\": -1,\n",
    "}\n",
    "\n",
    "tuner = lgb.LightGBMTunerCV(\n",
    "    params,\n",
    "    lgb_train,\n",
    "    folds=KFold(n_splits=5),\n",
    "    num_boost_round=10000,\n",
    "    callbacks=[early_stopping(100), log_evaluation(100)],\n",
    ")\n",
    "\n",
    "tuner.run()"
   ]
  },
  {
   "cell_type": "code",
   "execution_count": 23,
   "id": "8406fc3e",
   "metadata": {},
   "outputs": [
    {
     "name": "stdout",
     "output_type": "stream",
     "text": [
      "Best score: 0.1514651087579832\n",
      "Params: \n",
      "    boosting_type: gbdt\n",
      "    objective: regression\n",
      "    metric: l2\n",
      "    verbosity: -1\n",
      "    feature_pre_filter: False\n",
      "    lambda_l1: 0.00013874032033382792\n",
      "    lambda_l2: 8.447915375498709e-08\n",
      "    num_leaves: 31\n",
      "    feature_fraction: 0.5\n",
      "    bagging_fraction: 1.0\n",
      "    bagging_freq: 0\n",
      "    min_child_samples: 10\n"
     ]
    }
   ],
   "source": [
    "print(f\"Best score: {tuner.best_score}\")\n",
    "best_params = tuner.best_params\n",
    "print(\"Params: \")\n",
    "for key, value in best_params.items():\n",
    "    print(\"    {}: {}\".format(key, value))"
   ]
  },
  {
   "cell_type": "code",
   "execution_count": 24,
   "id": "880974ce",
   "metadata": {},
   "outputs": [],
   "source": [
    "import lightgbm as lgb\n",
    "\n",
    "lgb_tuned = lgb.train(\n",
    "    best_params,\n",
    "    lgb_train,\n",
    "    num_boost_round=10000,\n",
    ")"
   ]
  },
  {
   "cell_type": "code",
   "execution_count": 25,
   "id": "53d87b2c",
   "metadata": {},
   "outputs": [
    {
     "name": "stdout",
     "output_type": "stream",
     "text": [
      "RMSE train: 0.00\n",
      "RMSE test: 0.49\n",
      "MSE test: 0.24\n",
      "MAE test: 0.34\n",
      "\n"
     ]
    }
   ],
   "source": [
    "rmse, mse, mae = assess_regression_model(lgb_tuned, X_train, X_test, y_train, y_test)"
   ]
  },
  {
   "cell_type": "code",
   "execution_count": 26,
   "id": "843255bc",
   "metadata": {},
   "outputs": [],
   "source": [
    "results.loc[1] = [\n",
    "    \"chronological\",\n",
    "    \"Optuna\",\n",
    "    len(X_test.columns),\n",
    "    mse,\n",
    "    rmse,\n",
    "    mae,\n",
    "]"
   ]
  },
  {
   "cell_type": "markdown",
   "id": "1c9ef70d",
   "metadata": {},
   "source": [
    "###### MAE by level"
   ]
  },
  {
   "cell_type": "code",
   "execution_count": 27,
   "id": "eab77fc8",
   "metadata": {},
   "outputs": [
    {
     "data": {
      "image/png": "[encoded data removed]",
      "text/plain": [
       "<Figure size 720x432 with 1 Axes>"
      ]
     },
     "metadata": {
      "needs_background": "light"
     },
     "output_type": "display_data"
    }
   ],
   "source": [
    "plot_mae_by_level(y_test, y_pred_test)"
   ]
  },
  {
   "cell_type": "code",
   "execution_count": 28,
   "id": "778f84c5",
   "metadata": {},
   "outputs": [
    {
     "name": "stdout",
     "output_type": "stream",
     "text": [
      "Normal:\n",
      "MSE: 0.24\n",
      "RMSE: 0.49\n",
      "\n",
      "Round type: round\n",
      "MSE: 0.27\n",
      "RMSE: 0.52\n",
      "\n",
      "Round type: 0.33\n",
      "MSE: 0.28\n",
      "RMSE: 0.53\n",
      "\n",
      "Round type: 0.45\n",
      "MSE: 0.28\n",
      "RMSE: 0.53\n",
      "\n"
     ]
    }
   ],
   "source": [
    "predict = lgb_tuned.predict(X_test)\n",
    "check_round_predictions([\"round\", 0.33, 0.45], y_test, predict)"
   ]
  },
  {
   "cell_type": "code",
   "execution_count": 29,
   "id": "7823441a",
   "metadata": {},
   "outputs": [
    {
     "data": {
      "image/png": "[encoded data removed]",
      "text/plain": [
       "<Figure size 432x288 with 2 Axes>"
      ]
     },
     "metadata": {
      "needs_background": "light"
     },
     "output_type": "display_data"
    }
   ],
   "source": [
    "plot_confusion_matrix(\"round\", predict, y_test)"
   ]
  },
  {
   "cell_type": "markdown",
   "id": "35088cc9",
   "metadata": {},
   "source": [
    "## Random split"
   ]
  },
  {
   "cell_type": "code",
   "execution_count": 30,
   "id": "692c4056",
   "metadata": {},
   "outputs": [
    {
     "name": "stdout",
     "output_type": "stream",
     "text": [
      "[LightGBM] [Warning] Auto-choosing col-wise multi-threading, the overhead of testing was 0.000376 seconds.\n",
      "You can set `force_col_wise=true` to remove the overhead.\n",
      "[LightGBM] [Info] Total Bins 392\n",
      "[LightGBM] [Info] Number of data points in the train set: 904, number of used features: 13\n",
      "[LightGBM] [Info] Start training from score 7.162611\n",
      "Training until validation scores don't improve for 5 rounds\n",
      "Early stopping, best iteration is:\n",
      "[88]\tvalid_0's l2: 0.148111\tvalid_0's l1: 0.267273\n"
     ]
    }
   ],
   "source": [
    "import lightgbm as lgb\n",
    "from sklearn.metrics import mean_squared_error\n",
    "\n",
    "lgb_train = lgb.Dataset(X_train_random_split, y_train_random_split)\n",
    "lgb_eval = lgb.Dataset(X_test_random_split, y_test_random_split, reference=lgb_train)\n",
    "\n",
    "params = {\n",
    "    \"boosting_type\": \"gbdt\",\n",
    "    \"objective\": \"regression\",\n",
    "    \"metric\": {\"l2\", \"l1\"},\n",
    "}\n",
    "\n",
    "gbm = lgb.train(\n",
    "    params,\n",
    "    lgb_train,\n",
    "    num_boost_round=100,\n",
    "    valid_sets=lgb_eval,\n",
    "    callbacks=[lgb.early_stopping(stopping_rounds=5)],\n",
    ")"
   ]
  },
  {
   "cell_type": "code",
   "execution_count": 31,
   "id": "24879a40",
   "metadata": {},
   "outputs": [],
   "source": [
    "y_pred_train = gbm.predict(X_train_random_split, num_iteration=gbm.best_iteration)\n",
    "y_pred_test = gbm.predict(X_test_random_split, num_iteration=gbm.best_iteration)"
   ]
  },
  {
   "cell_type": "code",
   "execution_count": 32,
   "id": "b5a760c1",
   "metadata": {},
   "outputs": [
    {
     "name": "stdout",
     "output_type": "stream",
     "text": [
      "MSE: 0.15\n",
      "RMSE: 0.38\n",
      "MAE: 0.27\n"
     ]
    }
   ],
   "source": [
    "from sklearn.metrics import mean_squared_error, mean_absolute_error\n",
    "\n",
    "\n",
    "mse = mean_squared_error(y_test_random_split, y_pred_test)\n",
    "rmse = mean_squared_error(y_test_random_split, y_pred_test, squared=False)\n",
    "mae = mean_absolute_error(y_test_random_split, y_pred_test)\n",
    "\n",
    "print(f\"MSE: {mse:.2f}\")\n",
    "print(f\"RMSE: {rmse:.2f}\")\n",
    "print(f\"MAE: {mae:.2f}\")"
   ]
  },
  {
   "cell_type": "code",
   "execution_count": 33,
   "id": "a52e182e",
   "metadata": {},
   "outputs": [],
   "source": [
    "results.loc[2] = [\"random\", \"normal\", len(X_test.columns), mse, rmse, mae]"
   ]
  },
  {
   "cell_type": "markdown",
   "id": "17a44a91",
   "metadata": {},
   "source": [
    "###### MAE by level"
   ]
  },
  {
   "cell_type": "code",
   "execution_count": 34,
   "id": "180f64e4",
   "metadata": {},
   "outputs": [
    {
     "data": {
      "image/png": "[encoded data removed]",
      "text/plain": [
       "<Figure size 720x432 with 1 Axes>"
      ]
     },
     "metadata": {
      "needs_background": "light"
     },
     "output_type": "display_data"
    }
   ],
   "source": [
    "plot_mae_by_level(y_test_random_split, y_pred_test)"
   ]
  },
  {
   "cell_type": "code",
   "execution_count": 35,
   "id": "b42be07c",
   "metadata": {},
   "outputs": [
    {
     "name": "stdout",
     "output_type": "stream",
     "text": [
      "Normal:\n",
      "MSE: 0.15\n",
      "RMSE: 0.38\n",
      "\n",
      "Round type: round\n",
      "MSE: 0.15\n",
      "RMSE: 0.39\n",
      "\n",
      "Round type: 0.33\n",
      "MSE: 0.21\n",
      "RMSE: 0.45\n",
      "\n",
      "Round type: 0.45\n",
      "MSE: 0.17\n",
      "RMSE: 0.41\n",
      "\n"
     ]
    }
   ],
   "source": [
    "check_round_predictions([\"round\", 0.33, 0.45], y_test_random_split, y_pred_test)"
   ]
  },
  {
   "cell_type": "code",
   "execution_count": 36,
   "id": "79174d21",
   "metadata": {},
   "outputs": [
    {
     "data": {
      "image/png": "[encoded data removed]",
      "text/plain": [
       "<Figure size 432x288 with 2 Axes>"
      ]
     },
     "metadata": {
      "needs_background": "light"
     },
     "output_type": "display_data"
    }
   ],
   "source": [
    "plot_confusion_matrix(\"round\", y_pred_test, y_test_random_split)"
   ]
  },
  {
   "cell_type": "markdown",
   "id": "79bbd5ec",
   "metadata": {},
   "source": [
    "### Tuning"
   ]
  },
  {
   "cell_type": "code",
   "execution_count": 37,
   "id": "62270e6b",
   "metadata": {
    "scrolled": true
   },
   "outputs": [
    {
     "name": "stderr",
     "output_type": "stream",
     "text": [
      "[I 2023-11-03 20:12:28,203] A new study created in memory with name: no-name-b89d79ac-7c4a-42b9-909b-64f8adfd1269\n",
      "feature_fraction, val_score: inf:   0%|                                                          | 0/7 [00:00<?, ?it/s]"
     ]
    },
    {
     "name": "stdout",
     "output_type": "stream",
     "text": [
      "Training until validation scores don't improve for 100 rounds\n",
      "[100]\tcv_agg's l2: 0.178884 + 0.0483631\n",
      "[200]\tcv_agg's l2: 0.175873 + 0.0445969\n"
     ]
    },
    {
     "name": "stderr",
     "output_type": "stream",
     "text": [
      "feature_fraction, val_score: 0.175474:  14%|######4                                      | 1/7 [00:02<00:15,  2.53s/it][I 2023-11-03 20:12:30,744] Trial 0 finished with value: 0.1754743303476181 and parameters: {'feature_fraction': 0.5}. Best is trial 0 with value: 0.1754743303476181.\n",
      "feature_fraction, val_score: 0.175474:  14%|######4                                      | 1/7 [00:02<00:15,  2.53s/it]"
     ]
    },
    {
     "name": "stdout",
     "output_type": "stream",
     "text": [
      "Early stopping, best iteration is:\n",
      "[184]\tcv_agg's l2: 0.175474 + 0.0448178\n",
      "[100]\tcv_agg's l2: 0.187548 + 0.05778\n",
      "[200]\tcv_agg's l2: 0.185614 + 0.0555841\n"
     ]
    },
    {
     "name": "stderr",
     "output_type": "stream",
     "text": [
      "feature_fraction, val_score: 0.175474:  29%|############8                                | 2/7 [00:04<00:12,  2.44s/it][I 2023-11-03 20:12:33,123] Trial 1 finished with value: 0.18548847759774 and parameters: {'feature_fraction': 0.8}. Best is trial 0 with value: 0.1754743303476181.\n",
      "feature_fraction, val_score: 0.175474:  29%|############8                                | 2/7 [00:04<00:12,  2.44s/it]"
     ]
    },
    {
     "name": "stdout",
     "output_type": "stream",
     "text": [
      "Early stopping, best iteration is:\n",
      "[184]\tcv_agg's l2: 0.175474 + 0.0448178\n",
      "[100]\tcv_agg's l2: 0.194867 + 0.0452702\n",
      "[200]\tcv_agg's l2: 0.1921 + 0.0433405\n"
     ]
    },
    {
     "name": "stderr",
     "output_type": "stream",
     "text": [
      "feature_fraction, val_score: 0.175474:  43%|###################2                         | 3/7 [00:07<00:10,  2.50s/it][I 2023-11-03 20:12:35,693] Trial 2 finished with value: 0.19201649821618166 and parameters: {'feature_fraction': 1.0}. Best is trial 0 with value: 0.1754743303476181.\n",
      "feature_fraction, val_score: 0.175474:  43%|###################2                         | 3/7 [00:07<00:10,  2.50s/it]"
     ]
    },
    {
     "name": "stdout",
     "output_type": "stream",
     "text": [
      "Early stopping, best iteration is:\n",
      "[184]\tcv_agg's l2: 0.175474 + 0.0448178\n",
      "[100]\tcv_agg's l2: 0.181142 + 0.0425803\n",
      "[200]\tcv_agg's l2: 0.179121 + 0.0378852\n"
     ]
    },
    {
     "name": "stderr",
     "output_type": "stream",
     "text": [
      "feature_fraction, val_score: 0.175474:  57%|#########################7                   | 4/7 [00:10<00:07,  2.54s/it][I 2023-11-03 20:12:38,293] Trial 3 finished with value: 0.17882567132449273 and parameters: {'feature_fraction': 0.6}. Best is trial 0 with value: 0.1754743303476181.\n",
      "feature_fraction, val_score: 0.175474:  57%|#########################7                   | 4/7 [00:10<00:07,  2.54s/it]"
     ]
    },
    {
     "name": "stdout",
     "output_type": "stream",
     "text": [
      "Early stopping, best iteration is:\n",
      "[184]\tcv_agg's l2: 0.175474 + 0.0448178\n",
      "[100]\tcv_agg's l2: 0.169124 + 0.0369588\n",
      "[200]\tcv_agg's l2: 0.168887 + 0.0328139\n"
     ]
    },
    {
     "name": "stderr",
     "output_type": "stream",
     "text": [
      "feature_fraction, val_score: 0.168374:  71%|################################1            | 5/7 [00:12<00:04,  2.42s/it][I 2023-11-03 20:12:40,501] Trial 4 finished with value: 0.1683737087324892 and parameters: {'feature_fraction': 0.4}. Best is trial 4 with value: 0.1683737087324892.\n",
      "feature_fraction, val_score: 0.168374:  71%|################################1            | 5/7 [00:12<00:04,  2.42s/it]"
     ]
    },
    {
     "name": "stdout",
     "output_type": "stream",
     "text": [
      "Early stopping, best iteration is:\n",
      "[167]\tcv_agg's l2: 0.168374 + 0.0330971\n",
      "[100]\tcv_agg's l2: 0.198518 + 0.0577839\n",
      "[200]\tcv_agg's l2: 0.195345 + 0.054818\n"
     ]
    },
    {
     "name": "stderr",
     "output_type": "stream",
     "text": [
      "feature_fraction, val_score: 0.168374:  86%|######################################5      | 6/7 [00:14<00:02,  2.46s/it][I 2023-11-03 20:12:43,051] Trial 5 finished with value: 0.19575841062834373 and parameters: {'feature_fraction': 0.8999999999999999}. Best is trial 4 with value: 0.1683737087324892.\n",
      "feature_fraction, val_score: 0.168374:  86%|######################################5      | 6/7 [00:14<00:02,  2.46s/it]"
     ]
    },
    {
     "name": "stdout",
     "output_type": "stream",
     "text": [
      "Early stopping, best iteration is:\n",
      "[167]\tcv_agg's l2: 0.168374 + 0.0330971\n",
      "[100]\tcv_agg's l2: 0.187598 + 0.0552958\n",
      "[200]\tcv_agg's l2: 0.184353 + 0.0515492\n"
     ]
    },
    {
     "name": "stderr",
     "output_type": "stream",
     "text": [
      "feature_fraction, val_score: 0.168374: 100%|#############################################| 7/7 [00:17<00:00,  2.62s/it][I 2023-11-03 20:12:45,983] Trial 6 finished with value: 0.1844022421973932 and parameters: {'feature_fraction': 0.7}. Best is trial 4 with value: 0.1683737087324892.\n",
      "feature_fraction, val_score: 0.168374: 100%|#############################################| 7/7 [00:17<00:00,  2.54s/it]\n"
     ]
    },
    {
     "name": "stdout",
     "output_type": "stream",
     "text": [
      "Early stopping, best iteration is:\n",
      "[167]\tcv_agg's l2: 0.168374 + 0.0330971\n"
     ]
    },
    {
     "name": "stderr",
     "output_type": "stream",
     "text": [
      "num_leaves, val_score: 0.168374:   0%|                                                          | 0/20 [00:00<?, ?it/s]"
     ]
    },
    {
     "name": "stdout",
     "output_type": "stream",
     "text": [
      "[100]\tcv_agg's l2: 0.169124 + 0.0369588\n",
      "[200]\tcv_agg's l2: 0.168887 + 0.0328139\n"
     ]
    },
    {
     "name": "stderr",
     "output_type": "stream",
     "text": [
      "num_leaves, val_score: 0.168374:   5%|##5                                               | 1/20 [00:03<01:06,  3.53s/it][I 2023-11-03 20:12:49,516] Trial 7 finished with value: 0.1683737087324892 and parameters: {'num_leaves': 204}. Best is trial 7 with value: 0.1683737087324892.\n",
      "num_leaves, val_score: 0.168374:   5%|##5                                               | 1/20 [00:03<01:06,  3.53s/it]"
     ]
    },
    {
     "name": "stdout",
     "output_type": "stream",
     "text": [
      "Early stopping, best iteration is:\n",
      "[167]\tcv_agg's l2: 0.168374 + 0.0330971\n",
      "[100]\tcv_agg's l2: 0.169124 + 0.0369588\n",
      "[200]\tcv_agg's l2: 0.168887 + 0.0328139\n"
     ]
    },
    {
     "name": "stderr",
     "output_type": "stream",
     "text": [
      "num_leaves, val_score: 0.168374:  10%|#####                                             | 2/20 [00:06<00:53,  3.00s/it][I 2023-11-03 20:12:52,144] Trial 8 finished with value: 0.1683737087324892 and parameters: {'num_leaves': 199}. Best is trial 7 with value: 0.1683737087324892.\n",
      "num_leaves, val_score: 0.168374:  10%|#####                                             | 2/20 [00:06<00:53,  3.00s/it]"
     ]
    },
    {
     "name": "stdout",
     "output_type": "stream",
     "text": [
      "Early stopping, best iteration is:\n",
      "[167]\tcv_agg's l2: 0.168374 + 0.0330971\n",
      "[100]\tcv_agg's l2: 0.169124 + 0.0369588\n",
      "[200]\tcv_agg's l2: 0.168887 + 0.0328139\n"
     ]
    },
    {
     "name": "stderr",
     "output_type": "stream",
     "text": [
      "num_leaves, val_score: 0.168374:  15%|#######5                                          | 3/20 [00:08<00:45,  2.67s/it][I 2023-11-03 20:12:54,414] Trial 9 finished with value: 0.1683737087324892 and parameters: {'num_leaves': 54}. Best is trial 7 with value: 0.1683737087324892.\n",
      "num_leaves, val_score: 0.168374:  15%|#######5                                          | 3/20 [00:08<00:45,  2.67s/it]"
     ]
    },
    {
     "name": "stdout",
     "output_type": "stream",
     "text": [
      "Early stopping, best iteration is:\n",
      "[167]\tcv_agg's l2: 0.168374 + 0.0330971\n",
      "[100]\tcv_agg's l2: 0.164436 + 0.0430786\n",
      "[200]\tcv_agg's l2: 0.163426 + 0.0387529\n"
     ]
    },
    {
     "name": "stderr",
     "output_type": "stream",
     "text": [
      "num_leaves, val_score: 0.162713:  20%|##########                                        | 4/20 [00:09<00:35,  2.21s/it][I 2023-11-03 20:12:55,924] Trial 10 finished with value: 0.1627130001868506 and parameters: {'num_leaves': 15}. Best is trial 10 with value: 0.1627130001868506.\n",
      "num_leaves, val_score: 0.162713:  20%|##########                                        | 4/20 [00:09<00:35,  2.21s/it]"
     ]
    },
    {
     "name": "stdout",
     "output_type": "stream",
     "text": [
      "Early stopping, best iteration is:\n",
      "[173]\tcv_agg's l2: 0.162713 + 0.0388455\n",
      "[100]\tcv_agg's l2: 0.31537 + 0.0640844\n"
     ]
    },
    {
     "name": "stderr",
     "output_type": "stream",
     "text": [
      "num_leaves, val_score: 0.162713:  25%|############5                                     | 5/20 [00:10<00:23,  1.56s/it][I 2023-11-03 20:12:56,327] Trial 11 finished with value: 0.28544631350702676 and parameters: {'num_leaves': 2}. Best is trial 10 with value: 0.1627130001868506.\n",
      "num_leaves, val_score: 0.162713:  25%|############5                                     | 5/20 [00:10<00:23,  1.56s/it]"
     ]
    },
    {
     "name": "stdout",
     "output_type": "stream",
     "text": [
      "[200]\tcv_agg's l2: 0.281572 + 0.0531207\n",
      "Early stopping, best iteration is:\n",
      "[173]\tcv_agg's l2: 0.162713 + 0.0388455\n",
      "[100]\tcv_agg's l2: 0.169124 + 0.0369588\n",
      "[200]\tcv_agg's l2: 0.168887 + 0.0328139\n"
     ]
    },
    {
     "name": "stderr",
     "output_type": "stream",
     "text": [
      "num_leaves, val_score: 0.162713:  30%|###############                                   | 6/20 [00:13<00:27,  1.96s/it][I 2023-11-03 20:12:59,055] Trial 12 finished with value: 0.16875927501686877 and parameters: {'num_leaves': 92}. Best is trial 10 with value: 0.1627130001868506.\n",
      "num_leaves, val_score: 0.162713:  30%|###############                                   | 6/20 [00:13<00:27,  1.96s/it]"
     ]
    },
    {
     "name": "stdout",
     "output_type": "stream",
     "text": [
      "Early stopping, best iteration is:\n",
      "[173]\tcv_agg's l2: 0.162713 + 0.0388455\n",
      "[100]\tcv_agg's l2: 0.184446 + 0.0335765\n"
     ]
    },
    {
     "name": "stderr",
     "output_type": "stream",
     "text": [
      "\r",
      "num_leaves, val_score: 0.162713:  30%|###############                                   | 6/20 [00:13<00:27,  1.96s/it]"
     ]
    },
    {
     "name": "stdout",
     "output_type": "stream",
     "text": [
      "[200]\tcv_agg's l2: 0.175765 + 0.0278821\n",
      "Early stopping, best iteration is:\n",
      "[173]\tcv_agg's l2: 0.162713 + 0.0388455\n"
     ]
    },
    {
     "name": "stderr",
     "output_type": "stream",
     "text": [
      "num_leaves, val_score: 0.162713:  35%|#################5                                | 7/20 [00:13<00:20,  1.59s/it][I 2023-11-03 20:12:59,896] Trial 13 finished with value: 0.17651549652766074 and parameters: {'num_leaves': 7}. Best is trial 10 with value: 0.1627130001868506.\n",
      "num_leaves, val_score: 0.162713:  35%|#################5                                | 7/20 [00:13<00:20,  1.59s/it]"
     ]
    },
    {
     "name": "stdout",
     "output_type": "stream",
     "text": [
      "[100]\tcv_agg's l2: 0.169124 + 0.0369588\n",
      "[200]\tcv_agg's l2: 0.168887 + 0.0328139\n"
     ]
    },
    {
     "name": "stderr",
     "output_type": "stream",
     "text": [
      "num_leaves, val_score: 0.162713:  40%|####################                              | 8/20 [00:16<00:22,  1.89s/it][I 2023-11-03 20:13:02,422] Trial 14 finished with value: 0.16875927501686877 and parameters: {'num_leaves': 123}. Best is trial 10 with value: 0.1627130001868506.\n",
      "num_leaves, val_score: 0.162713:  40%|####################                              | 8/20 [00:16<00:22,  1.89s/it]"
     ]
    },
    {
     "name": "stdout",
     "output_type": "stream",
     "text": [
      "Early stopping, best iteration is:\n",
      "[173]\tcv_agg's l2: 0.162713 + 0.0388455\n",
      "[100]\tcv_agg's l2: 0.169124 + 0.0369588\n",
      "[200]\tcv_agg's l2: 0.168887 + 0.0328139\n"
     ]
    },
    {
     "name": "stderr",
     "output_type": "stream",
     "text": [
      "num_leaves, val_score: 0.162713:  45%|######################5                           | 9/20 [00:19<00:23,  2.13s/it][I 2023-11-03 20:13:05,095] Trial 15 finished with value: 0.16875927501686877 and parameters: {'num_leaves': 254}. Best is trial 10 with value: 0.1627130001868506.\n",
      "num_leaves, val_score: 0.162713:  45%|######################5                           | 9/20 [00:19<00:23,  2.13s/it]"
     ]
    },
    {
     "name": "stdout",
     "output_type": "stream",
     "text": [
      "Early stopping, best iteration is:\n",
      "[173]\tcv_agg's l2: 0.162713 + 0.0388455\n",
      "[100]\tcv_agg's l2: 0.169124 + 0.0369588\n",
      "[200]\tcv_agg's l2: 0.168887 + 0.0328139\n"
     ]
    },
    {
     "name": "stderr",
     "output_type": "stream",
     "text": [
      "num_leaves, val_score: 0.162713:  50%|########################5                        | 10/20 [00:21<00:22,  2.23s/it][I 2023-11-03 20:13:07,551] Trial 16 finished with value: 0.16875927501686877 and parameters: {'num_leaves': 65}. Best is trial 10 with value: 0.1627130001868506.\n",
      "num_leaves, val_score: 0.162713:  50%|########################5                        | 10/20 [00:21<00:22,  2.23s/it]"
     ]
    },
    {
     "name": "stdout",
     "output_type": "stream",
     "text": [
      "Early stopping, best iteration is:\n",
      "[173]\tcv_agg's l2: 0.162713 + 0.0388455\n",
      "[100]\tcv_agg's l2: 0.169124 + 0.0369588\n",
      "[200]\tcv_agg's l2: 0.168887 + 0.0328139\n"
     ]
    },
    {
     "name": "stderr",
     "output_type": "stream",
     "text": [
      "num_leaves, val_score: 0.162713:  55%|##########################9                      | 11/20 [00:24<00:21,  2.36s/it][I 2023-11-03 20:13:10,206] Trial 17 finished with value: 0.16875927501686877 and parameters: {'num_leaves': 160}. Best is trial 10 with value: 0.1627130001868506.\n",
      "num_leaves, val_score: 0.162713:  55%|##########################9                      | 11/20 [00:24<00:21,  2.36s/it]"
     ]
    },
    {
     "name": "stdout",
     "output_type": "stream",
     "text": [
      "Early stopping, best iteration is:\n",
      "[173]\tcv_agg's l2: 0.162713 + 0.0388455\n",
      "[100]\tcv_agg's l2: 0.169124 + 0.0369588\n",
      "[200]\tcv_agg's l2: 0.168887 + 0.0328139\n"
     ]
    },
    {
     "name": "stderr",
     "output_type": "stream",
     "text": [
      "num_leaves, val_score: 0.162713:  60%|#############################4                   | 12/20 [00:26<00:19,  2.46s/it][I 2023-11-03 20:13:12,879] Trial 18 finished with value: 0.16875927501686877 and parameters: {'num_leaves': 48}. Best is trial 10 with value: 0.1627130001868506.\n",
      "num_leaves, val_score: 0.162713:  60%|#############################4                   | 12/20 [00:26<00:19,  2.46s/it]"
     ]
    },
    {
     "name": "stdout",
     "output_type": "stream",
     "text": [
      "Early stopping, best iteration is:\n",
      "[173]\tcv_agg's l2: 0.162713 + 0.0388455\n",
      "[100]\tcv_agg's l2: 0.169124 + 0.0369588\n",
      "[200]\tcv_agg's l2: 0.168887 + 0.0328139\n"
     ]
    },
    {
     "name": "stderr",
     "output_type": "stream",
     "text": [
      "num_leaves, val_score: 0.162713:  65%|###############################8                 | 13/20 [00:29<00:18,  2.60s/it][I 2023-11-03 20:13:15,806] Trial 19 finished with value: 0.16875927501686877 and parameters: {'num_leaves': 125}. Best is trial 10 with value: 0.1627130001868506.\n",
      "num_leaves, val_score: 0.162713:  65%|###############################8                 | 13/20 [00:29<00:18,  2.60s/it]"
     ]
    },
    {
     "name": "stdout",
     "output_type": "stream",
     "text": [
      "Early stopping, best iteration is:\n",
      "[173]\tcv_agg's l2: 0.162713 + 0.0388455\n",
      "[100]\tcv_agg's l2: 0.169124 + 0.0369588\n",
      "[200]\tcv_agg's l2: 0.168887 + 0.0328139\n"
     ]
    },
    {
     "name": "stderr",
     "output_type": "stream",
     "text": [
      "num_leaves, val_score: 0.162713:  70%|##################################3              | 14/20 [00:32<00:15,  2.52s/it][I 2023-11-03 20:13:18,139] Trial 20 finished with value: 0.16875927501686877 and parameters: {'num_leaves': 89}. Best is trial 10 with value: 0.1627130001868506.\n",
      "num_leaves, val_score: 0.162713:  70%|##################################3              | 14/20 [00:32<00:15,  2.52s/it]"
     ]
    },
    {
     "name": "stdout",
     "output_type": "stream",
     "text": [
      "Early stopping, best iteration is:\n",
      "[173]\tcv_agg's l2: 0.162713 + 0.0388455\n",
      "[100]\tcv_agg's l2: 0.169124 + 0.0369588\n",
      "[200]\tcv_agg's l2: 0.168887 + 0.0328139\n"
     ]
    },
    {
     "name": "stderr",
     "output_type": "stream",
     "text": [
      "num_leaves, val_score: 0.162713:  75%|####################################7            | 15/20 [00:34<00:12,  2.49s/it][I 2023-11-03 20:13:20,576] Trial 21 finished with value: 0.16875927501686877 and parameters: {'num_leaves': 194}. Best is trial 10 with value: 0.1627130001868506.\n",
      "num_leaves, val_score: 0.162713:  75%|####################################7            | 15/20 [00:34<00:12,  2.49s/it]"
     ]
    },
    {
     "name": "stdout",
     "output_type": "stream",
     "text": [
      "Early stopping, best iteration is:\n",
      "[173]\tcv_agg's l2: 0.162713 + 0.0388455\n",
      "[100]\tcv_agg's l2: 0.169124 + 0.0369588\n",
      "[200]\tcv_agg's l2: 0.168887 + 0.0328139\n"
     ]
    },
    {
     "name": "stderr",
     "output_type": "stream",
     "text": [
      "num_leaves, val_score: 0.162713:  80%|#######################################2         | 16/20 [00:37<00:10,  2.65s/it][I 2023-11-03 20:13:23,602] Trial 22 finished with value: 0.16875927501686877 and parameters: {'num_leaves': 251}. Best is trial 10 with value: 0.1627130001868506.\n",
      "num_leaves, val_score: 0.162713:  80%|#######################################2         | 16/20 [00:37<00:10,  2.65s/it]"
     ]
    },
    {
     "name": "stdout",
     "output_type": "stream",
     "text": [
      "Early stopping, best iteration is:\n",
      "[173]\tcv_agg's l2: 0.162713 + 0.0388455\n",
      "[100]\tcv_agg's l2: 0.169124 + 0.0369588\n",
      "[200]\tcv_agg's l2: 0.168887 + 0.0328139\n"
     ]
    },
    {
     "name": "stderr",
     "output_type": "stream",
     "text": [
      "num_leaves, val_score: 0.162713:  85%|#########################################6       | 17/20 [00:40<00:08,  2.74s/it][I 2023-11-03 20:13:26,542] Trial 23 finished with value: 0.16875927501686877 and parameters: {'num_leaves': 208}. Best is trial 10 with value: 0.1627130001868506.\n",
      "num_leaves, val_score: 0.162713:  85%|#########################################6       | 17/20 [00:40<00:08,  2.74s/it]"
     ]
    },
    {
     "name": "stdout",
     "output_type": "stream",
     "text": [
      "Early stopping, best iteration is:\n",
      "[173]\tcv_agg's l2: 0.162713 + 0.0388455\n",
      "[100]\tcv_agg's l2: 0.169124 + 0.0369588\n",
      "[200]\tcv_agg's l2: 0.168887 + 0.0328139\n"
     ]
    },
    {
     "name": "stderr",
     "output_type": "stream",
     "text": [
      "num_leaves, val_score: 0.162713:  90%|############################################1    | 18/20 [00:43<00:05,  2.85s/it][I 2023-11-03 20:13:29,637] Trial 24 finished with value: 0.16875927501686877 and parameters: {'num_leaves': 164}. Best is trial 10 with value: 0.1627130001868506.\n",
      "num_leaves, val_score: 0.162713:  90%|############################################1    | 18/20 [00:43<00:05,  2.85s/it]"
     ]
    },
    {
     "name": "stdout",
     "output_type": "stream",
     "text": [
      "Early stopping, best iteration is:\n",
      "[173]\tcv_agg's l2: 0.162713 + 0.0388455\n",
      "[100]\tcv_agg's l2: 0.169124 + 0.0369588\n",
      "[200]\tcv_agg's l2: 0.168887 + 0.0328139\n"
     ]
    },
    {
     "name": "stderr",
     "output_type": "stream",
     "text": [
      "num_leaves, val_score: 0.162713:  95%|##############################################5  | 19/20 [00:46<00:02,  2.82s/it][I 2023-11-03 20:13:32,406] Trial 25 finished with value: 0.16875927501686877 and parameters: {'num_leaves': 227}. Best is trial 10 with value: 0.1627130001868506.\n",
      "num_leaves, val_score: 0.162713:  95%|##############################################5  | 19/20 [00:46<00:02,  2.82s/it]"
     ]
    },
    {
     "name": "stdout",
     "output_type": "stream",
     "text": [
      "Early stopping, best iteration is:\n",
      "[173]\tcv_agg's l2: 0.162713 + 0.0388455\n",
      "[100]\tcv_agg's l2: 0.169124 + 0.0369588\n",
      "[200]\tcv_agg's l2: 0.168887 + 0.0328139\n"
     ]
    },
    {
     "name": "stderr",
     "output_type": "stream",
     "text": [
      "num_leaves, val_score: 0.162713: 100%|#################################################| 20/20 [00:49<00:00,  2.79s/it][I 2023-11-03 20:13:35,129] Trial 26 finished with value: 0.16875927501686877 and parameters: {'num_leaves': 158}. Best is trial 10 with value: 0.1627130001868506.\n",
      "num_leaves, val_score: 0.162713: 100%|#################################################| 20/20 [00:49<00:00,  2.46s/it]\n"
     ]
    },
    {
     "name": "stdout",
     "output_type": "stream",
     "text": [
      "Early stopping, best iteration is:\n",
      "[173]\tcv_agg's l2: 0.162713 + 0.0388455\n"
     ]
    },
    {
     "name": "stderr",
     "output_type": "stream",
     "text": [
      "bagging, val_score: 0.162713:   0%|                                                             | 0/10 [00:00<?, ?it/s]"
     ]
    },
    {
     "name": "stdout",
     "output_type": "stream",
     "text": [
      "[100]\tcv_agg's l2: 0.202046 + 0.0417112\n",
      "[200]\tcv_agg's l2: 0.19394 + 0.0351835\n"
     ]
    },
    {
     "name": "stderr",
     "output_type": "stream",
     "text": [
      "bagging, val_score: 0.162713:  10%|#####3                                               | 1/10 [00:01<00:14,  1.61s/it][I 2023-11-03 20:13:36,740] Trial 27 finished with value: 0.1939544172543644 and parameters: {'bagging_fraction': 0.5383196334072295, 'bagging_freq': 6}. Best is trial 27 with value: 0.1939544172543644.\n",
      "bagging, val_score: 0.162713:  10%|#####3                                               | 1/10 [00:01<00:14,  1.61s/it]"
     ]
    },
    {
     "name": "stdout",
     "output_type": "stream",
     "text": [
      "Early stopping, best iteration is:\n",
      "[173]\tcv_agg's l2: 0.162713 + 0.0388455\n",
      "[100]\tcv_agg's l2: 0.167411 + 0.0385568\n",
      "[200]\tcv_agg's l2: 0.167293 + 0.0350508\n"
     ]
    },
    {
     "name": "stderr",
     "output_type": "stream",
     "text": [
      "bagging, val_score: 0.162713:  20%|##########6                                          | 2/10 [00:03<00:13,  1.70s/it][I 2023-11-03 20:13:38,506] Trial 28 finished with value: 0.16706477694192706 and parameters: {'bagging_fraction': 0.9650613653977953, 'bagging_freq': 1}. Best is trial 28 with value: 0.16706477694192706.\n",
      "bagging, val_score: 0.162713:  20%|##########6                                          | 2/10 [00:03<00:13,  1.70s/it]"
     ]
    },
    {
     "name": "stdout",
     "output_type": "stream",
     "text": [
      "Early stopping, best iteration is:\n",
      "[173]\tcv_agg's l2: 0.162713 + 0.0388455\n",
      "[100]\tcv_agg's l2: 0.169523 + 0.0370379\n",
      "[200]\tcv_agg's l2: 0.16775 + 0.0339228\n"
     ]
    },
    {
     "name": "stderr",
     "output_type": "stream",
     "text": [
      "bagging, val_score: 0.162713:  30%|###############9                                     | 3/10 [00:04<00:11,  1.65s/it][I 2023-11-03 20:13:40,097] Trial 29 finished with value: 0.16764061697684313 and parameters: {'bagging_fraction': 0.9812129420342294, 'bagging_freq': 1}. Best is trial 28 with value: 0.16706477694192706.\n",
      "bagging, val_score: 0.162713:  30%|###############9                                     | 3/10 [00:04<00:11,  1.65s/it]"
     ]
    },
    {
     "name": "stdout",
     "output_type": "stream",
     "text": [
      "Early stopping, best iteration is:\n",
      "[173]\tcv_agg's l2: 0.162713 + 0.0388455\n",
      "[100]\tcv_agg's l2: 0.171607 + 0.0391753\n",
      "[200]\tcv_agg's l2: 0.170191 + 0.0359219\n"
     ]
    },
    {
     "name": "stderr",
     "output_type": "stream",
     "text": [
      "bagging, val_score: 0.162713:  40%|#####################2                               | 4/10 [00:06<00:09,  1.66s/it][I 2023-11-03 20:13:41,780] Trial 30 finished with value: 0.1698330842719634 and parameters: {'bagging_fraction': 0.9715287378245931, 'bagging_freq': 1}. Best is trial 28 with value: 0.16706477694192706.\n",
      "bagging, val_score: 0.162713:  40%|#####################2                               | 4/10 [00:06<00:09,  1.66s/it]"
     ]
    },
    {
     "name": "stdout",
     "output_type": "stream",
     "text": [
      "Early stopping, best iteration is:\n",
      "[173]\tcv_agg's l2: 0.162713 + 0.0388455\n",
      "[100]\tcv_agg's l2: 0.167753 + 0.0414078\n",
      "[200]\tcv_agg's l2: 0.164595 + 0.0372595\n"
     ]
    },
    {
     "name": "stderr",
     "output_type": "stream",
     "text": [
      "bagging, val_score: 0.162713:  50%|##########################5                          | 5/10 [00:08<00:08,  1.73s/it][I 2023-11-03 20:13:43,632] Trial 31 finished with value: 0.1642511364641719 and parameters: {'bagging_fraction': 0.9825830864776735, 'bagging_freq': 1}. Best is trial 31 with value: 0.1642511364641719.\n",
      "bagging, val_score: 0.162713:  50%|##########################5                          | 5/10 [00:08<00:08,  1.73s/it]"
     ]
    },
    {
     "name": "stdout",
     "output_type": "stream",
     "text": [
      "Early stopping, best iteration is:\n",
      "[173]\tcv_agg's l2: 0.162713 + 0.0388455\n",
      "[100]\tcv_agg's l2: 0.167484 + 0.0388929\n",
      "[200]\tcv_agg's l2: 0.166615 + 0.0354264\n"
     ]
    },
    {
     "name": "stderr",
     "output_type": "stream",
     "text": [
      "bagging, val_score: 0.162713:  60%|###############################8                     | 6/10 [00:10<00:06,  1.73s/it][I 2023-11-03 20:13:45,370] Trial 32 finished with value: 0.16642024528412241 and parameters: {'bagging_fraction': 0.9927745003537164, 'bagging_freq': 1}. Best is trial 31 with value: 0.1642511364641719.\n",
      "bagging, val_score: 0.162713:  60%|###############################8                     | 6/10 [00:10<00:06,  1.73s/it]"
     ]
    },
    {
     "name": "stdout",
     "output_type": "stream",
     "text": [
      "Early stopping, best iteration is:\n",
      "[173]\tcv_agg's l2: 0.162713 + 0.0388455\n",
      "[100]\tcv_agg's l2: 0.169391 + 0.0401964\n",
      "[200]\tcv_agg's l2: 0.167335 + 0.0360307\n"
     ]
    },
    {
     "name": "stderr",
     "output_type": "stream",
     "text": [
      "bagging, val_score: 0.162713:  70%|#####################################                | 7/10 [00:12<00:05,  1.80s/it][I 2023-11-03 20:13:47,309] Trial 33 finished with value: 0.16791327965396322 and parameters: {'bagging_fraction': 0.9790911298978991, 'bagging_freq': 1}. Best is trial 31 with value: 0.1642511364641719.\n",
      "bagging, val_score: 0.162713:  70%|#####################################                | 7/10 [00:12<00:05,  1.80s/it]"
     ]
    },
    {
     "name": "stdout",
     "output_type": "stream",
     "text": [
      "Early stopping, best iteration is:\n",
      "[173]\tcv_agg's l2: 0.162713 + 0.0388455\n",
      "[100]\tcv_agg's l2: 0.170454 + 0.0376468\n",
      "[200]\tcv_agg's l2: 0.166374 + 0.0341124\n"
     ]
    },
    {
     "name": "stderr",
     "output_type": "stream",
     "text": [
      "bagging, val_score: 0.162713:  80%|##########################################4          | 8/10 [00:13<00:03,  1.80s/it][I 2023-11-03 20:13:49,096] Trial 34 finished with value: 0.16691602285945623 and parameters: {'bagging_fraction': 0.870350615345116, 'bagging_freq': 3}. Best is trial 31 with value: 0.1642511364641719.\n",
      "bagging, val_score: 0.162713:  80%|##########################################4          | 8/10 [00:13<00:03,  1.80s/it]"
     ]
    },
    {
     "name": "stdout",
     "output_type": "stream",
     "text": [
      "Early stopping, best iteration is:\n",
      "[173]\tcv_agg's l2: 0.162713 + 0.0388455\n",
      "[100]\tcv_agg's l2: 0.174976 + 0.0402312\n",
      "[200]\tcv_agg's l2: 0.169541 + 0.0345021\n"
     ]
    },
    {
     "name": "stderr",
     "output_type": "stream",
     "text": [
      "bagging, val_score: 0.162713:  90%|###############################################7     | 9/10 [00:15<00:01,  1.81s/it][I 2023-11-03 20:13:50,950] Trial 35 finished with value: 0.16995655668413723 and parameters: {'bagging_fraction': 0.8158084110636152, 'bagging_freq': 3}. Best is trial 31 with value: 0.1642511364641719.\n",
      "bagging, val_score: 0.162713:  90%|###############################################7     | 9/10 [00:15<00:01,  1.81s/it]"
     ]
    },
    {
     "name": "stdout",
     "output_type": "stream",
     "text": [
      "Early stopping, best iteration is:\n",
      "[173]\tcv_agg's l2: 0.162713 + 0.0388455\n",
      "[100]\tcv_agg's l2: 0.175225 + 0.0402055\n",
      "[200]\tcv_agg's l2: 0.171956 + 0.0336881\n"
     ]
    },
    {
     "name": "stderr",
     "output_type": "stream",
     "text": [
      "bagging, val_score: 0.162713: 100%|####################################################| 10/10 [00:17<00:00,  1.84s/it][I 2023-11-03 20:13:52,852] Trial 36 finished with value: 0.17219192525727633 and parameters: {'bagging_fraction': 0.8231087663839177, 'bagging_freq': 3}. Best is trial 31 with value: 0.1642511364641719.\n",
      "bagging, val_score: 0.162713: 100%|####################################################| 10/10 [00:17<00:00,  1.77s/it]\n"
     ]
    },
    {
     "name": "stdout",
     "output_type": "stream",
     "text": [
      "Early stopping, best iteration is:\n",
      "[173]\tcv_agg's l2: 0.162713 + 0.0388455\n"
     ]
    },
    {
     "name": "stderr",
     "output_type": "stream",
     "text": [
      "feature_fraction_stage2, val_score: 0.162713:   0%|                                              | 0/3 [00:00<?, ?it/s]"
     ]
    },
    {
     "name": "stdout",
     "output_type": "stream",
     "text": [
      "[100]\tcv_agg's l2: 0.17019 + 0.0367981\n",
      "[200]\tcv_agg's l2: 0.165618 + 0.0317333\n"
     ]
    },
    {
     "name": "stderr",
     "output_type": "stream",
     "text": [
      "feature_fraction_stage2, val_score: 0.162713:  33%|############6                         | 1/3 [00:01<00:03,  1.63s/it][I 2023-11-03 20:13:54,492] Trial 37 finished with value: 0.16552373177867133 and parameters: {'feature_fraction': 0.44800000000000006}. Best is trial 37 with value: 0.16552373177867133.\n",
      "feature_fraction_stage2, val_score: 0.162713:  33%|############6                         | 1/3 [00:01<00:03,  1.63s/it]"
     ]
    },
    {
     "name": "stdout",
     "output_type": "stream",
     "text": [
      "Early stopping, best iteration is:\n",
      "[173]\tcv_agg's l2: 0.162713 + 0.0388455\n",
      "[100]\tcv_agg's l2: 0.164436 + 0.0430786\n",
      "[200]\tcv_agg's l2: 0.163426 + 0.0387529\n"
     ]
    },
    {
     "name": "stderr",
     "output_type": "stream",
     "text": [
      "feature_fraction_stage2, val_score: 0.162713:  67%|#########################3            | 2/3 [00:03<00:01,  1.57s/it][I 2023-11-03 20:13:56,022] Trial 38 finished with value: 0.1627130001868506 and parameters: {'feature_fraction': 0.41600000000000004}. Best is trial 38 with value: 0.1627130001868506.\n",
      "feature_fraction_stage2, val_score: 0.162713:  67%|#########################3            | 2/3 [00:03<00:01,  1.57s/it]"
     ]
    },
    {
     "name": "stdout",
     "output_type": "stream",
     "text": [
      "Early stopping, best iteration is:\n",
      "[173]\tcv_agg's l2: 0.162713 + 0.0388455\n",
      "[100]\tcv_agg's l2: 0.17019 + 0.0367981\n",
      "[200]\tcv_agg's l2: 0.165618 + 0.0317333\n"
     ]
    },
    {
     "name": "stderr",
     "output_type": "stream",
     "text": [
      "feature_fraction_stage2, val_score: 0.162713: 100%|######################################| 3/3 [00:04<00:00,  1.57s/it][I 2023-11-03 20:13:57,580] Trial 39 finished with value: 0.16552373177867133 and parameters: {'feature_fraction': 0.48000000000000004}. Best is trial 38 with value: 0.1627130001868506.\n",
      "feature_fraction_stage2, val_score: 0.162713: 100%|######################################| 3/3 [00:04<00:00,  1.57s/it]\n"
     ]
    },
    {
     "name": "stdout",
     "output_type": "stream",
     "text": [
      "Early stopping, best iteration is:\n",
      "[173]\tcv_agg's l2: 0.162713 + 0.0388455\n"
     ]
    },
    {
     "name": "stderr",
     "output_type": "stream",
     "text": [
      "regularization_factors, val_score: 0.162713:   0%|                                              | 0/20 [00:00<?, ?it/s]"
     ]
    },
    {
     "name": "stdout",
     "output_type": "stream",
     "text": [
      "[100]\tcv_agg's l2: 0.166863 + 0.036082\n",
      "[200]\tcv_agg's l2: 0.163138 + 0.0311351\n"
     ]
    },
    {
     "name": "stderr",
     "output_type": "stream",
     "text": [
      "regularization_factors, val_score: 0.162713:   5%|#9                                    | 1/20 [00:01<00:29,  1.57s/it][I 2023-11-03 20:13:59,161] Trial 40 finished with value: 0.16382615751215696 and parameters: {'lambda_l1': 0.1574539036324944, 'lambda_l2': 0.1219038993743791}. Best is trial 40 with value: 0.16382615751215696.\n",
      "regularization_factors, val_score: 0.162713:   5%|#9                                    | 1/20 [00:01<00:29,  1.57s/it]"
     ]
    },
    {
     "name": "stdout",
     "output_type": "stream",
     "text": [
      "Early stopping, best iteration is:\n",
      "[173]\tcv_agg's l2: 0.162713 + 0.0388455\n",
      "[100]\tcv_agg's l2: 0.168398 + 0.0419792\n",
      "[200]\tcv_agg's l2: 0.165857 + 0.0389804\n"
     ]
    },
    {
     "name": "stderr",
     "output_type": "stream",
     "text": [
      "regularization_factors, val_score: 0.162713:  10%|###8                                  | 2/20 [00:03<00:29,  1.61s/it][I 2023-11-03 20:14:00,800] Trial 41 finished with value: 0.16597174230294756 and parameters: {'lambda_l1': 0.38975646093878014, 'lambda_l2': 0.1209326012079098}. Best is trial 40 with value: 0.16382615751215696.\n",
      "regularization_factors, val_score: 0.162713:  10%|###8                                  | 2/20 [00:03<00:29,  1.61s/it]"
     ]
    },
    {
     "name": "stdout",
     "output_type": "stream",
     "text": [
      "Early stopping, best iteration is:\n",
      "[173]\tcv_agg's l2: 0.162713 + 0.0388455\n",
      "[100]\tcv_agg's l2: 0.177569 + 0.0348432\n",
      "[200]\tcv_agg's l2: 0.169736 + 0.0307907\n"
     ]
    },
    {
     "name": "stderr",
     "output_type": "stream",
     "text": [
      "regularization_factors, val_score: 0.162713:  15%|#####7                                | 3/20 [00:05<00:28,  1.70s/it][I 2023-11-03 20:14:02,597] Trial 42 finished with value: 0.17044350897029598 and parameters: {'lambda_l1': 2.4020696456554656e-05, 'lambda_l2': 8.051024303218735}. Best is trial 40 with value: 0.16382615751215696.\n",
      "regularization_factors, val_score: 0.162713:  15%|#####7                                | 3/20 [00:05<00:28,  1.70s/it]"
     ]
    },
    {
     "name": "stdout",
     "output_type": "stream",
     "text": [
      "Early stopping, best iteration is:\n",
      "[173]\tcv_agg's l2: 0.162713 + 0.0388455\n",
      "[100]\tcv_agg's l2: 0.196151 + 0.0495352\n"
     ]
    },
    {
     "name": "stderr",
     "output_type": "stream",
     "text": [
      "regularization_factors, val_score: 0.162713:  20%|#######6                              | 4/20 [00:05<00:22,  1.40s/it][I 2023-11-03 20:14:03,545] Trial 43 finished with value: 0.1923500764220617 and parameters: {'lambda_l1': 5.483868969418661, 'lambda_l2': 5.380425180091668e-07}. Best is trial 40 with value: 0.16382615751215696.\n",
      "regularization_factors, val_score: 0.162713:  20%|#######6                              | 4/20 [00:05<00:22,  1.40s/it]"
     ]
    },
    {
     "name": "stdout",
     "output_type": "stream",
     "text": [
      "[200]\tcv_agg's l2: 0.192222 + 0.047536\n",
      "Early stopping, best iteration is:\n",
      "[173]\tcv_agg's l2: 0.162713 + 0.0388455\n",
      "[100]\tcv_agg's l2: 0.163951 + 0.0429873\n",
      "[200]\tcv_agg's l2: 0.163023 + 0.0390509\n"
     ]
    },
    {
     "name": "stderr",
     "output_type": "stream",
     "text": [
      "regularization_factors, val_score: 0.162624:  25%|#########5                            | 5/20 [00:07<00:23,  1.55s/it][I 2023-11-03 20:14:05,356] Trial 44 finished with value: 0.16262373801336483 and parameters: {'lambda_l1': 8.589350700938096e-08, 'lambda_l2': 0.0008034651493262255}. Best is trial 44 with value: 0.16262373801336483.\n",
      "regularization_factors, val_score: 0.162624:  25%|#########5                            | 5/20 [00:07<00:23,  1.55s/it]"
     ]
    },
    {
     "name": "stdout",
     "output_type": "stream",
     "text": [
      "Early stopping, best iteration is:\n",
      "[176]\tcv_agg's l2: 0.162624 + 0.0390173\n",
      "[100]\tcv_agg's l2: 0.163771 + 0.0430827\n",
      "[200]\tcv_agg's l2: 0.163101 + 0.0388724\n"
     ]
    },
    {
     "name": "stderr",
     "output_type": "stream",
     "text": [
      "regularization_factors, val_score: 0.162613:  30%|###########4                          | 6/20 [00:09<00:21,  1.55s/it][I 2023-11-03 20:14:06,907] Trial 45 finished with value: 0.16261333860702107 and parameters: {'lambda_l1': 2.4014701069211573e-08, 'lambda_l2': 0.001479167401600239}. Best is trial 45 with value: 0.16261333860702107.\n",
      "regularization_factors, val_score: 0.162613:  30%|###########4                          | 6/20 [00:09<00:21,  1.55s/it]"
     ]
    },
    {
     "name": "stdout",
     "output_type": "stream",
     "text": [
      "Early stopping, best iteration is:\n",
      "[151]\tcv_agg's l2: 0.162613 + 0.0394848\n",
      "[100]\tcv_agg's l2: 0.163921 + 0.0430072\n",
      "[200]\tcv_agg's l2: 0.163397 + 0.0387436\n"
     ]
    },
    {
     "name": "stderr",
     "output_type": "stream",
     "text": [
      "regularization_factors, val_score: 0.162613:  35%|#############3                        | 7/20 [00:11<00:20,  1.59s/it][I 2023-11-03 20:14:08,595] Trial 46 finished with value: 0.16318781685379674 and parameters: {'lambda_l1': 5.998430908676659e-08, 'lambda_l2': 0.0012057672154042885}. Best is trial 45 with value: 0.16261333860702107.\n",
      "regularization_factors, val_score: 0.162613:  35%|#############3                        | 7/20 [00:11<00:20,  1.59s/it]"
     ]
    },
    {
     "name": "stdout",
     "output_type": "stream",
     "text": [
      "Early stopping, best iteration is:\n",
      "[151]\tcv_agg's l2: 0.162613 + 0.0394848\n",
      "[100]\tcv_agg's l2: 0.163951 + 0.0429873\n",
      "[200]\tcv_agg's l2: 0.163023 + 0.0390508\n"
     ]
    },
    {
     "name": "stderr",
     "output_type": "stream",
     "text": [
      "regularization_factors, val_score: 0.162613:  40%|###############2                      | 8/20 [00:12<00:18,  1.58s/it][I 2023-11-03 20:14:10,131] Trial 47 finished with value: 0.16307884717065557 and parameters: {'lambda_l1': 1.3516730338533998e-08, 'lambda_l2': 0.00029649927834429345}. Best is trial 45 with value: 0.16261333860702107.\n",
      "regularization_factors, val_score: 0.162613:  40%|###############2                      | 8/20 [00:12<00:18,  1.58s/it]"
     ]
    },
    {
     "name": "stdout",
     "output_type": "stream",
     "text": [
      "Early stopping, best iteration is:\n",
      "[151]\tcv_agg's l2: 0.162613 + 0.0394848\n",
      "[100]\tcv_agg's l2: 0.163951 + 0.0429873\n",
      "[200]\tcv_agg's l2: 0.163397 + 0.0387431\n"
     ]
    },
    {
     "name": "stderr",
     "output_type": "stream",
     "text": [
      "regularization_factors, val_score: 0.162613:  45%|#################1                    | 9/20 [00:14<00:17,  1.55s/it][I 2023-11-03 20:14:11,626] Trial 48 finished with value: 0.16327169146669762 and parameters: {'lambda_l1': 1.6238524969585073e-08, 'lambda_l2': 0.00015870554215993747}. Best is trial 45 with value: 0.16261333860702107.\n",
      "regularization_factors, val_score: 0.162613:  45%|#################1                    | 9/20 [00:14<00:17,  1.55s/it]"
     ]
    },
    {
     "name": "stdout",
     "output_type": "stream",
     "text": [
      "Early stopping, best iteration is:\n",
      "[151]\tcv_agg's l2: 0.162613 + 0.0394848\n",
      "[100]\tcv_agg's l2: 0.163951 + 0.0429873\n",
      "[200]\tcv_agg's l2: 0.163397 + 0.0387431\n"
     ]
    },
    {
     "name": "stderr",
     "output_type": "stream",
     "text": [
      "regularization_factors, val_score: 0.162613:  50%|##################5                  | 10/20 [00:15<00:15,  1.59s/it][I 2023-11-03 20:14:13,295] Trial 49 finished with value: 0.16327168651347118 and parameters: {'lambda_l1': 1.4869702720422125e-08, 'lambda_l2': 0.0002150870543029291}. Best is trial 45 with value: 0.16261333860702107.\n",
      "regularization_factors, val_score: 0.162613:  50%|##################5                  | 10/20 [00:15<00:15,  1.59s/it]"
     ]
    },
    {
     "name": "stdout",
     "output_type": "stream",
     "text": [
      "Early stopping, best iteration is:\n",
      "[151]\tcv_agg's l2: 0.162613 + 0.0394848\n",
      "[100]\tcv_agg's l2: 0.163951 + 0.0429873\n",
      "[200]\tcv_agg's l2: 0.163397 + 0.0387432\n"
     ]
    },
    {
     "name": "stderr",
     "output_type": "stream",
     "text": [
      "regularization_factors, val_score: 0.162613:  55%|####################3                | 11/20 [00:17<00:14,  1.62s/it][I 2023-11-03 20:14:14,988] Trial 50 finished with value: 0.16327168003474876 and parameters: {'lambda_l1': 9.321049425561701e-07, 'lambda_l2': 0.00026645293035179314}. Best is trial 45 with value: 0.16261333860702107.\n",
      "regularization_factors, val_score: 0.162613:  55%|####################3                | 11/20 [00:17<00:14,  1.62s/it]"
     ]
    },
    {
     "name": "stdout",
     "output_type": "stream",
     "text": [
      "Early stopping, best iteration is:\n",
      "[151]\tcv_agg's l2: 0.162613 + 0.0394848\n",
      "[100]\tcv_agg's l2: 0.163131 + 0.0418873\n",
      "[200]\tcv_agg's l2: 0.163516 + 0.0396208\n"
     ]
    },
    {
     "name": "stderr",
     "output_type": "stream",
     "text": [
      "regularization_factors, val_score: 0.162613:  60%|######################2              | 12/20 [00:19<00:13,  1.70s/it][I 2023-11-03 20:14:16,883] Trial 51 finished with value: 0.16329706613033068 and parameters: {'lambda_l1': 1.2289924266184609e-08, 'lambda_l2': 0.002243268591692475}. Best is trial 45 with value: 0.16261333860702107.\n",
      "regularization_factors, val_score: 0.162613:  60%|######################2              | 12/20 [00:19<00:13,  1.70s/it]"
     ]
    },
    {
     "name": "stdout",
     "output_type": "stream",
     "text": [
      "Early stopping, best iteration is:\n",
      "[151]\tcv_agg's l2: 0.162613 + 0.0394848\n",
      "[100]\tcv_agg's l2: 0.164217 + 0.0436921\n",
      "[200]\tcv_agg's l2: 0.162643 + 0.0385589\n"
     ]
    },
    {
     "name": "stderr",
     "output_type": "stream",
     "text": [
      "regularization_factors, val_score: 0.162155:  65%|########################             | 13/20 [00:20<00:11,  1.69s/it][I 2023-11-03 20:14:18,544] Trial 52 finished with value: 0.16215533565985168 and parameters: {'lambda_l1': 3.773393244442202e-07, 'lambda_l2': 0.00485950346959961}. Best is trial 52 with value: 0.16215533565985168.\n",
      "regularization_factors, val_score: 0.162155:  65%|########################             | 13/20 [00:20<00:11,  1.69s/it]"
     ]
    },
    {
     "name": "stdout",
     "output_type": "stream",
     "text": [
      "Early stopping, best iteration is:\n",
      "[186]\tcv_agg's l2: 0.162155 + 0.0391909\n",
      "[100]\tcv_agg's l2: 0.164217 + 0.0436921\n",
      "[200]\tcv_agg's l2: 0.162643 + 0.0385589\n"
     ]
    },
    {
     "name": "stderr",
     "output_type": "stream",
     "text": [
      "regularization_factors, val_score: 0.162155:  70%|#########################9           | 14/20 [00:22<00:10,  1.71s/it][I 2023-11-03 20:14:20,298] Trial 53 finished with value: 0.16215549364132908 and parameters: {'lambda_l1': 6.308530211100275e-07, 'lambda_l2': 0.004144749295722742}. Best is trial 52 with value: 0.16215533565985168.\n",
      "regularization_factors, val_score: 0.162155:  70%|#########################9           | 14/20 [00:22<00:10,  1.71s/it]"
     ]
    },
    {
     "name": "stdout",
     "output_type": "stream",
     "text": [
      "Early stopping, best iteration is:\n",
      "[186]\tcv_agg's l2: 0.162155 + 0.0391909\n",
      "[100]\tcv_agg's l2: 0.164217 + 0.0436919\n",
      "[200]\tcv_agg's l2: 0.16218 + 0.0384331\n"
     ]
    },
    {
     "name": "stderr",
     "output_type": "stream",
     "text": [
      "regularization_factors, val_score: 0.162149:  75%|###########################7         | 15/20 [00:24<00:08,  1.74s/it][I 2023-11-03 20:14:22,104] Trial 54 finished with value: 0.16214936092396937 and parameters: {'lambda_l1': 9.12780496479268e-07, 'lambda_l2': 0.006376584706254683}. Best is trial 54 with value: 0.16214936092396937.\n",
      "regularization_factors, val_score: 0.162149:  75%|###########################7         | 15/20 [00:24<00:08,  1.74s/it]"
     ]
    },
    {
     "name": "stdout",
     "output_type": "stream",
     "text": [
      "Early stopping, best iteration is:\n",
      "[199]\tcv_agg's l2: 0.162149 + 0.0384286\n",
      "[100]\tcv_agg's l2: 0.164282 + 0.0435508\n",
      "[200]\tcv_agg's l2: 0.162289 + 0.0381356\n"
     ]
    },
    {
     "name": "stderr",
     "output_type": "stream",
     "text": [
      "regularization_factors, val_score: 0.162149:  80%|#############################6       | 16/20 [00:26<00:07,  1.78s/it][I 2023-11-03 20:14:23,974] Trial 55 finished with value: 0.162321657329376 and parameters: {'lambda_l1': 1.3847390262291537e-06, 'lambda_l2': 0.012144511986343474}. Best is trial 54 with value: 0.16214936092396937.\n",
      "regularization_factors, val_score: 0.162149:  80%|#############################6       | 16/20 [00:26<00:07,  1.78s/it]"
     ]
    },
    {
     "name": "stdout",
     "output_type": "stream",
     "text": [
      "Early stopping, best iteration is:\n",
      "[199]\tcv_agg's l2: 0.162149 + 0.0384286\n",
      "[100]\tcv_agg's l2: 0.164217 + 0.0436919\n",
      "[200]\tcv_agg's l2: 0.16218 + 0.0384331\n"
     ]
    },
    {
     "name": "stderr",
     "output_type": "stream",
     "text": [
      "regularization_factors, val_score: 0.162149:  85%|###############################4     | 17/20 [00:28<00:05,  1.77s/it][I 2023-11-03 20:14:25,717] Trial 56 finished with value: 0.16214935274518427 and parameters: {'lambda_l1': 9.492539228136179e-07, 'lambda_l2': 0.0064069892183798655}. Best is trial 56 with value: 0.16214935274518427.\n",
      "regularization_factors, val_score: 0.162149:  85%|###############################4     | 17/20 [00:28<00:05,  1.77s/it]"
     ]
    },
    {
     "name": "stdout",
     "output_type": "stream",
     "text": [
      "Early stopping, best iteration is:\n",
      "[199]\tcv_agg's l2: 0.162149 + 0.0384286\n",
      "[100]\tcv_agg's l2: 0.164038 + 0.0437107\n",
      "[200]\tcv_agg's l2: 0.16219 + 0.0382156\n"
     ]
    },
    {
     "name": "stderr",
     "output_type": "stream",
     "text": [
      "regularization_factors, val_score: 0.162074:  90%|#################################3   | 18/20 [00:29<00:03,  1.74s/it][I 2023-11-03 20:14:27,379] Trial 57 finished with value: 0.1620738915703823 and parameters: {'lambda_l1': 2.7277195718205993e-06, 'lambda_l2': 0.010946604259126271}. Best is trial 57 with value: 0.1620738915703823.\n",
      "regularization_factors, val_score: 0.162074:  90%|#################################3   | 18/20 [00:29<00:03,  1.74s/it]"
     ]
    },
    {
     "name": "stdout",
     "output_type": "stream",
     "text": [
      "Early stopping, best iteration is:\n",
      "[189]\tcv_agg's l2: 0.162074 + 0.0388755\n",
      "[100]\tcv_agg's l2: 0.162471 + 0.0416353\n",
      "[200]\tcv_agg's l2: 0.161918 + 0.0360476\n"
     ]
    },
    {
     "name": "stderr",
     "output_type": "stream",
     "text": [
      "regularization_factors, val_score: 0.161389:  95%|###################################1 | 19/20 [00:31<00:01,  1.73s/it][I 2023-11-03 20:14:29,086] Trial 58 finished with value: 0.16138883498432902 and parameters: {'lambda_l1': 9.485783764206723e-07, 'lambda_l2': 0.019910575636039627}. Best is trial 58 with value: 0.16138883498432902.\n",
      "regularization_factors, val_score: 0.161389:  95%|###################################1 | 19/20 [00:31<00:01,  1.73s/it]"
     ]
    },
    {
     "name": "stdout",
     "output_type": "stream",
     "text": [
      "Early stopping, best iteration is:\n",
      "[174]\tcv_agg's l2: 0.161389 + 0.0377051\n",
      "[100]\tcv_agg's l2: 0.162471 + 0.0416353\n",
      "[200]\tcv_agg's l2: 0.161918 + 0.0360477\n"
     ]
    },
    {
     "name": "stderr",
     "output_type": "stream",
     "text": [
      "regularization_factors, val_score: 0.161389: 100%|#####################################| 20/20 [00:33<00:00,  1.70s/it][I 2023-11-03 20:14:30,729] Trial 59 finished with value: 0.16138876864104887 and parameters: {'lambda_l1': 1.8553723784308704e-06, 'lambda_l2': 0.020861431589519676}. Best is trial 59 with value: 0.16138876864104887.\n",
      "regularization_factors, val_score: 0.161389: 100%|#####################################| 20/20 [00:33<00:00,  1.66s/it]\n"
     ]
    },
    {
     "name": "stdout",
     "output_type": "stream",
     "text": [
      "Early stopping, best iteration is:\n",
      "[174]\tcv_agg's l2: 0.161389 + 0.0377052\n"
     ]
    },
    {
     "name": "stderr",
     "output_type": "stream",
     "text": [
      "min_data_in_leaf, val_score: 0.161389:   0%|                                                     | 0/5 [00:00<?, ?it/s]"
     ]
    },
    {
     "name": "stdout",
     "output_type": "stream",
     "text": [
      "[100]\tcv_agg's l2: 0.156969 + 0.0380692\n",
      "[200]\tcv_agg's l2: 0.155603 + 0.0378486\n",
      "[300]\tcv_agg's l2: 0.15536 + 0.0361925\n"
     ]
    },
    {
     "name": "stderr",
     "output_type": "stream",
     "text": [
      "min_data_in_leaf, val_score: 0.154955:  20%|#########                                    | 1/5 [00:02<00:09,  2.46s/it][I 2023-11-03 20:14:33,200] Trial 60 finished with value: 0.15495522073747747 and parameters: {'min_child_samples': 10}. Best is trial 60 with value: 0.15495522073747747.\n",
      "min_data_in_leaf, val_score: 0.154955:  20%|#########                                    | 1/5 [00:02<00:09,  2.46s/it]"
     ]
    },
    {
     "name": "stdout",
     "output_type": "stream",
     "text": [
      "Early stopping, best iteration is:\n",
      "[295]\tcv_agg's l2: 0.154955 + 0.0362322\n",
      "[100]\tcv_agg's l2: 0.242951 + 0.045588\n",
      "[200]\tcv_agg's l2: 0.233671 + 0.0411885\n",
      "[300]\tcv_agg's l2: 0.229807 + 0.0415685\n"
     ]
    },
    {
     "name": "stderr",
     "output_type": "stream",
     "text": [
      "min_data_in_leaf, val_score: 0.154955:  40%|##################                           | 2/5 [00:04<00:06,  2.07s/it][I 2023-11-03 20:14:34,998] Trial 61 finished with value: 0.22966837454625727 and parameters: {'min_child_samples': 50}. Best is trial 60 with value: 0.15495522073747747.\n",
      "min_data_in_leaf, val_score: 0.154955:  40%|##################                           | 2/5 [00:04<00:06,  2.07s/it]"
     ]
    },
    {
     "name": "stdout",
     "output_type": "stream",
     "text": [
      "Early stopping, best iteration is:\n",
      "[295]\tcv_agg's l2: 0.154955 + 0.0362322\n",
      "[100]\tcv_agg's l2: 0.151611 + 0.0345166\n",
      "[200]\tcv_agg's l2: 0.150305 + 0.0346744\n",
      "[300]\tcv_agg's l2: 0.150636 + 0.0350257\n",
      "[400]\tcv_agg's l2: 0.150427 + 0.0348399\n"
     ]
    },
    {
     "name": "stderr",
     "output_type": "stream",
     "text": [
      "min_data_in_leaf, val_score: 0.149973:  60%|###########################                  | 3/5 [00:06<00:04,  2.34s/it][I 2023-11-03 20:14:37,667] Trial 62 finished with value: 0.14997294098149144 and parameters: {'min_child_samples': 5}. Best is trial 62 with value: 0.14997294098149144.\n",
      "min_data_in_leaf, val_score: 0.149973:  60%|###########################                  | 3/5 [00:06<00:04,  2.34s/it]"
     ]
    },
    {
     "name": "stdout",
     "output_type": "stream",
     "text": [
      "Early stopping, best iteration is:\n",
      "[360]\tcv_agg's l2: 0.149973 + 0.0348394\n",
      "[100]\tcv_agg's l2: 0.661863 + 0.0622482\n",
      "[200]\tcv_agg's l2: 0.630814 + 0.0609081\n",
      "[300]\tcv_agg's l2: 0.616938 + 0.065297\n"
     ]
    },
    {
     "name": "stderr",
     "output_type": "stream",
     "text": [
      "min_data_in_leaf, val_score: 0.149973:  80%|####################################         | 4/5 [00:08<00:01,  1.90s/it][I 2023-11-03 20:14:38,898] Trial 63 finished with value: 0.6103980611910081 and parameters: {'min_child_samples': 100}. Best is trial 62 with value: 0.14997294098149144.\n",
      "min_data_in_leaf, val_score: 0.149973:  80%|####################################         | 4/5 [00:08<00:01,  1.90s/it]"
     ]
    },
    {
     "name": "stdout",
     "output_type": "stream",
     "text": [
      "[400]\tcv_agg's l2: 0.607623 + 0.0703939\n",
      "Early stopping, best iteration is:\n",
      "[360]\tcv_agg's l2: 0.149973 + 0.0348394\n",
      "[100]\tcv_agg's l2: 0.180575 + 0.0382733\n",
      "[200]\tcv_agg's l2: 0.179021 + 0.0360191\n",
      "[300]\tcv_agg's l2: 0.17852 + 0.0354012\n",
      "[400]\tcv_agg's l2: 0.178041 + 0.0345696\n"
     ]
    },
    {
     "name": "stderr",
     "output_type": "stream",
     "text": [
      "min_data_in_leaf, val_score: 0.149973: 100%|#############################################| 5/5 [00:10<00:00,  2.17s/it][I 2023-11-03 20:14:41,525] Trial 64 finished with value: 0.17852834993420577 and parameters: {'min_child_samples': 25}. Best is trial 62 with value: 0.14997294098149144.\n",
      "min_data_in_leaf, val_score: 0.149973: 100%|#############################################| 5/5 [00:10<00:00,  2.16s/it]"
     ]
    },
    {
     "name": "stdout",
     "output_type": "stream",
     "text": [
      "Early stopping, best iteration is:\n",
      "[360]\tcv_agg's l2: 0.149973 + 0.0348394\n"
     ]
    },
    {
     "name": "stderr",
     "output_type": "stream",
     "text": [
      "\n"
     ]
    }
   ],
   "source": [
    "import optuna.integration.lightgbm as lgb\n",
    "from lightgbm import early_stopping\n",
    "from sklearn.model_selection import KFold\n",
    "from sklearn.model_selection import RepeatedKFold\n",
    "\n",
    "\n",
    "lgb_train = lgb.Dataset(X_train_random_split, y_train_random_split)\n",
    "\n",
    "params = {\n",
    "    \"boosting_type\": \"gbdt\",\n",
    "    \"objective\": \"regression\",\n",
    "    \"metric\": \"l2\",\n",
    "    \"verbosity\": -1,\n",
    "}\n",
    "\n",
    "tuner = lgb.LightGBMTunerCV(\n",
    "    params,\n",
    "    lgb_train,\n",
    "    folds=KFold(n_splits=5),\n",
    "    num_boost_round=10000,\n",
    "    callbacks=[early_stopping(100), log_evaluation(100)],\n",
    ")\n",
    "\n",
    "tuner.run()"
   ]
  },
  {
   "cell_type": "code",
   "execution_count": 38,
   "id": "c07cf3c6",
   "metadata": {},
   "outputs": [
    {
     "name": "stdout",
     "output_type": "stream",
     "text": [
      "Best score: 0.14997294098149144\n",
      "Params: \n",
      "    boosting_type: gbdt\n",
      "    objective: regression\n",
      "    metric: l2\n",
      "    verbosity: -1\n",
      "    feature_pre_filter: False\n",
      "    lambda_l1: 1.8553723784308704e-06\n",
      "    lambda_l2: 0.020861431589519676\n",
      "    num_leaves: 15\n",
      "    feature_fraction: 0.4\n",
      "    bagging_fraction: 1.0\n",
      "    bagging_freq: 0\n",
      "    min_child_samples: 5\n"
     ]
    }
   ],
   "source": [
    "print(f\"Best score: {tuner.best_score}\")\n",
    "best_params = tuner.best_params\n",
    "print(\"Params: \")\n",
    "for key, value in best_params.items():\n",
    "    print(\"    {}: {}\".format(key, value))"
   ]
  },
  {
   "cell_type": "code",
   "execution_count": 39,
   "id": "47a1bc33",
   "metadata": {},
   "outputs": [],
   "source": [
    "import lightgbm as lgb\n",
    "\n",
    "lgb_tuned = lgb.train(\n",
    "    best_params,\n",
    "    lgb_train,\n",
    "    num_boost_round=10000,\n",
    ")"
   ]
  },
  {
   "cell_type": "code",
   "execution_count": 40,
   "id": "4c17765e",
   "metadata": {},
   "outputs": [
    {
     "name": "stdout",
     "output_type": "stream",
     "text": [
      "RMSE train: 0.00\n",
      "RMSE test: 0.36\n",
      "MSE test: 0.13\n",
      "MAE test: 0.23\n",
      "\n"
     ]
    }
   ],
   "source": [
    "rmse, mse, mae = assess_regression_model(\n",
    "    lgb_tuned,\n",
    "    X_train_random_split,\n",
    "    X_test_random_split,\n",
    "    y_train_random_split,\n",
    "    y_test_random_split,\n",
    ")"
   ]
  },
  {
   "cell_type": "code",
   "execution_count": 41,
   "id": "9caec811",
   "metadata": {},
   "outputs": [],
   "source": [
    "results.loc[3] = [\"random\", \"Optuna\", len(X_test.columns), mse, rmse, mae]"
   ]
  },
  {
   "cell_type": "markdown",
   "id": "47fed830",
   "metadata": {},
   "source": [
    "###### MAE by level"
   ]
  },
  {
   "cell_type": "code",
   "execution_count": 42,
   "id": "c12fe14b",
   "metadata": {},
   "outputs": [
    {
     "data": {
      "image/png": "[encoded data removed]",
      "text/plain": [
       "<Figure size 720x432 with 1 Axes>"
      ]
     },
     "metadata": {
      "needs_background": "light"
     },
     "output_type": "display_data"
    }
   ],
   "source": [
    "plot_mae_by_level(y_test_random_split, y_pred_test)"
   ]
  },
  {
   "cell_type": "code",
   "execution_count": 43,
   "id": "859f12f2",
   "metadata": {},
   "outputs": [
    {
     "name": "stdout",
     "output_type": "stream",
     "text": [
      "Normal:\n",
      "MSE: 0.05\n",
      "RMSE: 0.22\n",
      "\n",
      "Round type: round\n",
      "MSE: 0.05\n",
      "RMSE: 0.23\n",
      "\n",
      "Round type: 0.33\n",
      "MSE: 0.08\n",
      "RMSE: 0.28\n",
      "\n",
      "Round type: 0.45\n",
      "MSE: 0.05\n",
      "RMSE: 0.23\n",
      "\n"
     ]
    }
   ],
   "source": [
    "predict = lgb_tuned.predict(X_test)\n",
    "check_round_predictions([\"round\", 0.33, 0.45], y_test, predict)"
   ]
  },
  {
   "cell_type": "code",
   "execution_count": 44,
   "id": "a046eead",
   "metadata": {},
   "outputs": [
    {
     "data": {
      "image/png": "[encoded data removed]",
      "text/plain": [
       "<Figure size 432x288 with 2 Axes>"
      ]
     },
     "metadata": {
      "needs_background": "light"
     },
     "output_type": "display_data"
    }
   ],
   "source": [
    "plot_confusion_matrix(\"round\", predict, y_test)"
   ]
  },
  {
   "cell_type": "markdown",
   "id": "2e230699",
   "metadata": {},
   "source": [
    "## Summary"
   ]
  },
  {
   "cell_type": "code",
   "execution_count": 45,
   "id": "2edd08be",
   "metadata": {},
   "outputs": [
    {
     "data": {
      "text/html": [
       "<div>\n",
       "<style scoped>\n",
       "    .dataframe tbody tr th:only-of-type {\n",
       "        vertical-align: middle;\n",
       "    }\n",
       "\n",
       "    .dataframe tbody tr th {\n",
       "        vertical-align: top;\n",
       "    }\n",
       "\n",
       "    .dataframe thead th {\n",
       "        text-align: right;\n",
       "    }\n",
       "</style>\n",
       "<table border=\"1\" class=\"dataframe\">\n",
       "  <thead>\n",
       "    <tr style=\"text-align: right;\">\n",
       "      <th></th>\n",
       "      <th>Split type</th>\n",
       "      <th>Tuning type</th>\n",
       "      <th>Number of characteristics</th>\n",
       "      <th>MSE</th>\n",
       "      <th>RMSE</th>\n",
       "      <th>MAE</th>\n",
       "    </tr>\n",
       "  </thead>\n",
       "  <tbody>\n",
       "    <tr>\n",
       "      <th>0</th>\n",
       "      <td>chronological</td>\n",
       "      <td>normal</td>\n",
       "      <td>13</td>\n",
       "      <td>0.260888</td>\n",
       "      <td>0.510772</td>\n",
       "      <td>0.357206</td>\n",
       "    </tr>\n",
       "    <tr>\n",
       "      <th>1</th>\n",
       "      <td>chronological</td>\n",
       "      <td>Optuna</td>\n",
       "      <td>13</td>\n",
       "      <td>0.237582</td>\n",
       "      <td>0.487424</td>\n",
       "      <td>0.338733</td>\n",
       "    </tr>\n",
       "    <tr>\n",
       "      <th>2</th>\n",
       "      <td>random</td>\n",
       "      <td>normal</td>\n",
       "      <td>13</td>\n",
       "      <td>0.148111</td>\n",
       "      <td>0.384853</td>\n",
       "      <td>0.267273</td>\n",
       "    </tr>\n",
       "    <tr>\n",
       "      <th>3</th>\n",
       "      <td>random</td>\n",
       "      <td>Optuna</td>\n",
       "      <td>13</td>\n",
       "      <td>0.126167</td>\n",
       "      <td>0.355201</td>\n",
       "      <td>0.233126</td>\n",
       "    </tr>\n",
       "  </tbody>\n",
       "</table>\n",
       "</div>"
      ],
      "text/plain": [
       "      Split type Tuning type  Number of characteristics       MSE      RMSE  \\\n",
       "0  chronological      normal                         13  0.260888  0.510772   \n",
       "1  chronological      Optuna                         13  0.237582  0.487424   \n",
       "2         random      normal                         13  0.148111  0.384853   \n",
       "3         random      Optuna                         13  0.126167  0.355201   \n",
       "\n",
       "        MAE  \n",
       "0  0.357206  \n",
       "1  0.338733  \n",
       "2  0.267273  \n",
       "3  0.233126  "
      ]
     },
     "execution_count": 45,
     "metadata": {},
     "output_type": "execute_result"
    }
   ],
   "source": [
    "results"
   ]
  },
  {
   "cell_type": "code",
   "execution_count": 46,
   "id": "7e403b40",
   "metadata": {},
   "outputs": [],
   "source": [
    "from training.results import plot_summary"
   ]
  },
  {
   "cell_type": "code",
   "execution_count": 47,
   "id": "e26ba349",
   "metadata": {},
   "outputs": [
    {
     "data": {
      "image/png": "[encoded data removed]",
      "text/plain": [
       "<Figure size 1440x576 with 1 Axes>"
      ]
     },
     "metadata": {
      "needs_background": "light"
     },
     "output_type": "display_data"
    }
   ],
   "source": [
    "plot_summary(results, \"MSE\")"
   ]
  },
  {
   "cell_type": "code",
   "execution_count": 48,
   "id": "1072db81",
   "metadata": {},
   "outputs": [
    {
     "data": {
      "image/png": "[encoded data removed]",
      "text/plain": [
       "<Figure size 1440x576 with 1 Axes>"
      ]
     },
     "metadata": {
      "needs_background": "light"
     },
     "output_type": "display_data"
    }
   ],
   "source": [
    "plot_summary(results, \"RMSE\")"
   ]
  },
  {
   "cell_type": "code",
   "execution_count": 49,
   "id": "0a073f44",
   "metadata": {},
   "outputs": [
    {
     "data": {
      "image/png": "[encoded data removed]",
      "text/plain": [
       "<Figure size 1440x576 with 1 Axes>"
      ]
     },
     "metadata": {
      "needs_background": "light"
     },
     "output_type": "display_data"
    }
   ],
   "source": [
    "plot_summary(results, \"MAE\")"
   ]
  },
  {
   "cell_type": "code",
   "execution_count": 50,
   "id": "157af270",
   "metadata": {},
   "outputs": [],
   "source": [
    "results.to_json(\"./lightgbm_second_results.json\")"
   ]
  },
  {
   "cell_type": "code",
   "execution_count": null,
   "id": "1b44b486",
   "metadata": {},
   "outputs": [],
   "source": []
  }
 ],
 "metadata": {
  "kernelspec": {
   "display_name": "Python 3 (ipykernel)",
   "language": "python",
   "name": "python3"
  },
  "language_info": {
   "codemirror_mode": {
    "name": "ipython",
    "version": 3
   },
   "file_extension": ".py",
   "mimetype": "text/x-python",
   "name": "python",
   "nbconvert_exporter": "python",
   "pygments_lexer": "ipython3",
   "version": "3.10.4"
  }
 },
 "nbformat": 4,
 "nbformat_minor": 5
}
