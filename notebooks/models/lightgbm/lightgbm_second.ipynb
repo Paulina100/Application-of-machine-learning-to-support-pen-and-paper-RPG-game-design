{
 "cells": [
  {
   "cell_type": "markdown",
   "id": "b61f8435",
   "metadata": {},
   "source": [
    "# LightGBM\n",
    "### Parameters:\n",
    "* **abilities**:\n",
    "    * **cha**\n",
    "    * **con**\n",
    "    * **dex**\n",
    "    * **int**\n",
    "    * **str**\n",
    "    * **wis**\n",
    "* **attributes**\n",
    "    * **hp**\n",
    "    * **ac**\n",
    "    * **perception**\n",
    "* **saves**\n",
    "    * **fortitude**\n",
    "    * **reflex**\n",
    "    * **will**\n",
    "* **resources**\n",
    "    * **focus**\n",
    "\n",
    "### Prediction: *level*\n",
    "\n",
    "## Loading data"
   ]
  },
  {
   "cell_type": "code",
   "execution_count": 50,
   "id": "64151d43",
   "metadata": {},
   "outputs": [],
   "source": [
    "import numpy as np\n",
    "import pandas as pd\n",
    "import sys\n",
    "\n",
    "import os\n",
    "import pathlib\n",
    "\n",
    "sys.path.append(\"../../..\")\n",
    "from training.creating_dataset import load_and_preprocess_data\n",
    "\n",
    "current_path = os.getcwd()\n",
    "DATASETS_DIR = pathlib.Path(current_path).parent.parent.parent / \"pathfinder_2e_data\"\n",
    "DATASET_FILES = [\n",
    "    \"pathfinder-bestiary.db\",\n",
    "    \"pathfinder-bestiary-2.db\",\n",
    "    \"pathfinder-bestiary-3.db\",\n",
    "]\n",
    "DATASET_PATHS = [f\"{DATASETS_DIR}/{file}\" for file in DATASET_FILES]\n",
    "characteristics = [\n",
    "    \"cha\",\n",
    "    \"con\",\n",
    "    \"dex\",\n",
    "    \"int\",\n",
    "    \"str\",\n",
    "    \"wis\",\n",
    "    \"ac\",\n",
    "    \"hp\",\n",
    "    \"perception\",\n",
    "    \"fortitude\",\n",
    "    \"reflex\",\n",
    "    \"will\",\n",
    "    \"focus\",\n",
    "]\n",
    "\n",
    "df = load_and_preprocess_data(\n",
    "    DATASET_PATHS,\n",
    "    characteristics=characteristics,\n",
    ")"
   ]
  },
  {
   "cell_type": "code",
   "execution_count": 51,
   "id": "ec1e8424",
   "metadata": {},
   "outputs": [
    {
     "name": "stdout",
     "output_type": "stream",
     "text": [
      "<class 'pandas.core.frame.DataFrame'>\n",
      "Int64Index: 1206 entries, 0 to 1205\n",
      "Data columns (total 15 columns):\n",
      " #   Column      Non-Null Count  Dtype \n",
      "---  ------      --------------  ----- \n",
      " 0   book        1206 non-null   object\n",
      " 1   perception  1206 non-null   int64 \n",
      " 2   int         1206 non-null   int64 \n",
      " 3   level       1206 non-null   int64 \n",
      " 4   dex         1206 non-null   int64 \n",
      " 5   wis         1206 non-null   int64 \n",
      " 6   ac          1206 non-null   int64 \n",
      " 7   hp          1206 non-null   int64 \n",
      " 8   will        1206 non-null   int64 \n",
      " 9   str         1206 non-null   int64 \n",
      " 10  fortitude   1206 non-null   int64 \n",
      " 11  con         1206 non-null   int64 \n",
      " 12  cha         1206 non-null   int64 \n",
      " 13  reflex      1206 non-null   int64 \n",
      " 14  focus       1206 non-null   int32 \n",
      "dtypes: int32(1), int64(13), object(1)\n",
      "memory usage: 146.0+ KB\n"
     ]
    }
   ],
   "source": [
    "df.info()"
   ]
  },
  {
   "cell_type": "code",
   "execution_count": 52,
   "id": "211d736c",
   "metadata": {},
   "outputs": [
    {
     "data": {
      "text/html": [
       "<div>\n",
       "<style scoped>\n",
       "    .dataframe tbody tr th:only-of-type {\n",
       "        vertical-align: middle;\n",
       "    }\n",
       "\n",
       "    .dataframe tbody tr th {\n",
       "        vertical-align: top;\n",
       "    }\n",
       "\n",
       "    .dataframe thead th {\n",
       "        text-align: right;\n",
       "    }\n",
       "</style>\n",
       "<table border=\"1\" class=\"dataframe\">\n",
       "  <thead>\n",
       "    <tr style=\"text-align: right;\">\n",
       "      <th></th>\n",
       "      <th>book</th>\n",
       "      <th>perception</th>\n",
       "      <th>int</th>\n",
       "      <th>level</th>\n",
       "      <th>dex</th>\n",
       "      <th>wis</th>\n",
       "      <th>ac</th>\n",
       "      <th>hp</th>\n",
       "      <th>will</th>\n",
       "      <th>str</th>\n",
       "      <th>fortitude</th>\n",
       "      <th>con</th>\n",
       "      <th>cha</th>\n",
       "      <th>reflex</th>\n",
       "      <th>focus</th>\n",
       "    </tr>\n",
       "  </thead>\n",
       "  <tbody>\n",
       "    <tr>\n",
       "      <th>0</th>\n",
       "      <td>Pathfinder Bestiary</td>\n",
       "      <td>20</td>\n",
       "      <td>1</td>\n",
       "      <td>10</td>\n",
       "      <td>2</td>\n",
       "      <td>2</td>\n",
       "      <td>29</td>\n",
       "      <td>215</td>\n",
       "      <td>17</td>\n",
       "      <td>7</td>\n",
       "      <td>22</td>\n",
       "      <td>5</td>\n",
       "      <td>1</td>\n",
       "      <td>19</td>\n",
       "      <td>1</td>\n",
       "    </tr>\n",
       "    <tr>\n",
       "      <th>1</th>\n",
       "      <td>Pathfinder Bestiary</td>\n",
       "      <td>16</td>\n",
       "      <td>-4</td>\n",
       "      <td>10</td>\n",
       "      <td>0</td>\n",
       "      <td>2</td>\n",
       "      <td>28</td>\n",
       "      <td>220</td>\n",
       "      <td>16</td>\n",
       "      <td>9</td>\n",
       "      <td>21</td>\n",
       "      <td>5</td>\n",
       "      <td>1</td>\n",
       "      <td>14</td>\n",
       "      <td>0</td>\n",
       "    </tr>\n",
       "    <tr>\n",
       "      <th>2</th>\n",
       "      <td>Pathfinder Bestiary</td>\n",
       "      <td>17</td>\n",
       "      <td>-4</td>\n",
       "      <td>8</td>\n",
       "      <td>3</td>\n",
       "      <td>3</td>\n",
       "      <td>25</td>\n",
       "      <td>175</td>\n",
       "      <td>15</td>\n",
       "      <td>7</td>\n",
       "      <td>20</td>\n",
       "      <td>6</td>\n",
       "      <td>-2</td>\n",
       "      <td>17</td>\n",
       "      <td>0</td>\n",
       "    </tr>\n",
       "    <tr>\n",
       "      <th>3</th>\n",
       "      <td>Pathfinder Bestiary</td>\n",
       "      <td>30</td>\n",
       "      <td>6</td>\n",
       "      <td>17</td>\n",
       "      <td>4</td>\n",
       "      <td>5</td>\n",
       "      <td>41</td>\n",
       "      <td>315</td>\n",
       "      <td>32</td>\n",
       "      <td>7</td>\n",
       "      <td>30</td>\n",
       "      <td>5</td>\n",
       "      <td>6</td>\n",
       "      <td>29</td>\n",
       "      <td>1</td>\n",
       "    </tr>\n",
       "    <tr>\n",
       "      <th>4</th>\n",
       "      <td>Pathfinder Bestiary</td>\n",
       "      <td>6</td>\n",
       "      <td>-1</td>\n",
       "      <td>1</td>\n",
       "      <td>3</td>\n",
       "      <td>1</td>\n",
       "      <td>16</td>\n",
       "      <td>20</td>\n",
       "      <td>4</td>\n",
       "      <td>-5</td>\n",
       "      <td>6</td>\n",
       "      <td>1</td>\n",
       "      <td>1</td>\n",
       "      <td>10</td>\n",
       "      <td>1</td>\n",
       "    </tr>\n",
       "  </tbody>\n",
       "</table>\n",
       "</div>"
      ],
      "text/plain": [
       "                  book  perception  int  level  dex  wis  ac   hp  will  str  \\\n",
       "0  Pathfinder Bestiary          20    1     10    2    2  29  215    17    7   \n",
       "1  Pathfinder Bestiary          16   -4     10    0    2  28  220    16    9   \n",
       "2  Pathfinder Bestiary          17   -4      8    3    3  25  175    15    7   \n",
       "3  Pathfinder Bestiary          30    6     17    4    5  41  315    32    7   \n",
       "4  Pathfinder Bestiary           6   -1      1    3    1  16   20     4   -5   \n",
       "\n",
       "   fortitude  con  cha  reflex  focus  \n",
       "0         22    5    1      19      1  \n",
       "1         21    5    1      14      0  \n",
       "2         20    6   -2      17      0  \n",
       "3         30    5    6      29      1  \n",
       "4          6    1    1      10      1  "
      ]
     },
     "execution_count": 52,
     "metadata": {},
     "output_type": "execute_result"
    }
   ],
   "source": [
    "df.head()"
   ]
  },
  {
   "cell_type": "markdown",
   "id": "1bf55cc1",
   "metadata": {},
   "source": [
    "###### Level"
   ]
  },
  {
   "cell_type": "code",
   "execution_count": 53,
   "id": "2d322d72",
   "metadata": {},
   "outputs": [
    {
     "data": {
      "text/plain": [
       "0       10\n",
       "1       10\n",
       "2        8\n",
       "3       17\n",
       "4        1\n",
       "        ..\n",
       "1201    20\n",
       "1202    -1\n",
       "1203    12\n",
       "1204     6\n",
       "1205     6\n",
       "Name: level, Length: 1206, dtype: int64"
      ]
     },
     "execution_count": 53,
     "metadata": {},
     "output_type": "execute_result"
    }
   ],
   "source": [
    "y = df[\"level\"]\n",
    "y"
   ]
  },
  {
   "cell_type": "code",
   "execution_count": 54,
   "id": "e7887f19",
   "metadata": {},
   "outputs": [],
   "source": [
    "from collections import defaultdict\n",
    "\n",
    "\n",
    "lvl_stat = defaultdict(lambda: 0)\n",
    "\n",
    "for lvl in y:\n",
    "    lvl_stat[lvl] += 1"
   ]
  },
  {
   "cell_type": "code",
   "execution_count": 55,
   "id": "c982e6d0",
   "metadata": {},
   "outputs": [
    {
     "data": {
      "text/html": [
       "<div>\n",
       "<style scoped>\n",
       "    .dataframe tbody tr th:only-of-type {\n",
       "        vertical-align: middle;\n",
       "    }\n",
       "\n",
       "    .dataframe tbody tr th {\n",
       "        vertical-align: top;\n",
       "    }\n",
       "\n",
       "    .dataframe thead th {\n",
       "        text-align: right;\n",
       "    }\n",
       "</style>\n",
       "<table border=\"1\" class=\"dataframe\">\n",
       "  <thead>\n",
       "    <tr style=\"text-align: right;\">\n",
       "      <th></th>\n",
       "      <th>lvl</th>\n",
       "      <th>count</th>\n",
       "    </tr>\n",
       "  </thead>\n",
       "  <tbody>\n",
       "    <tr>\n",
       "      <th>0</th>\n",
       "      <td>-1</td>\n",
       "      <td>34</td>\n",
       "    </tr>\n",
       "    <tr>\n",
       "      <th>1</th>\n",
       "      <td>0</td>\n",
       "      <td>27</td>\n",
       "    </tr>\n",
       "    <tr>\n",
       "      <th>2</th>\n",
       "      <td>1</td>\n",
       "      <td>127</td>\n",
       "    </tr>\n",
       "    <tr>\n",
       "      <th>3</th>\n",
       "      <td>2</td>\n",
       "      <td>121</td>\n",
       "    </tr>\n",
       "    <tr>\n",
       "      <th>4</th>\n",
       "      <td>3</td>\n",
       "      <td>95</td>\n",
       "    </tr>\n",
       "    <tr>\n",
       "      <th>5</th>\n",
       "      <td>4</td>\n",
       "      <td>82</td>\n",
       "    </tr>\n",
       "    <tr>\n",
       "      <th>6</th>\n",
       "      <td>5</td>\n",
       "      <td>76</td>\n",
       "    </tr>\n",
       "    <tr>\n",
       "      <th>7</th>\n",
       "      <td>6</td>\n",
       "      <td>72</td>\n",
       "    </tr>\n",
       "    <tr>\n",
       "      <th>8</th>\n",
       "      <td>7</td>\n",
       "      <td>77</td>\n",
       "    </tr>\n",
       "    <tr>\n",
       "      <th>9</th>\n",
       "      <td>8</td>\n",
       "      <td>68</td>\n",
       "    </tr>\n",
       "    <tr>\n",
       "      <th>10</th>\n",
       "      <td>9</td>\n",
       "      <td>63</td>\n",
       "    </tr>\n",
       "    <tr>\n",
       "      <th>11</th>\n",
       "      <td>10</td>\n",
       "      <td>58</td>\n",
       "    </tr>\n",
       "    <tr>\n",
       "      <th>12</th>\n",
       "      <td>11</td>\n",
       "      <td>40</td>\n",
       "    </tr>\n",
       "    <tr>\n",
       "      <th>13</th>\n",
       "      <td>12</td>\n",
       "      <td>41</td>\n",
       "    </tr>\n",
       "    <tr>\n",
       "      <th>14</th>\n",
       "      <td>13</td>\n",
       "      <td>36</td>\n",
       "    </tr>\n",
       "    <tr>\n",
       "      <th>15</th>\n",
       "      <td>14</td>\n",
       "      <td>33</td>\n",
       "    </tr>\n",
       "    <tr>\n",
       "      <th>16</th>\n",
       "      <td>15</td>\n",
       "      <td>31</td>\n",
       "    </tr>\n",
       "    <tr>\n",
       "      <th>17</th>\n",
       "      <td>16</td>\n",
       "      <td>25</td>\n",
       "    </tr>\n",
       "    <tr>\n",
       "      <th>18</th>\n",
       "      <td>17</td>\n",
       "      <td>21</td>\n",
       "    </tr>\n",
       "    <tr>\n",
       "      <th>19</th>\n",
       "      <td>18</td>\n",
       "      <td>21</td>\n",
       "    </tr>\n",
       "    <tr>\n",
       "      <th>20</th>\n",
       "      <td>19</td>\n",
       "      <td>18</td>\n",
       "    </tr>\n",
       "    <tr>\n",
       "      <th>21</th>\n",
       "      <td>20</td>\n",
       "      <td>24</td>\n",
       "    </tr>\n",
       "    <tr>\n",
       "      <th>22</th>\n",
       "      <td>21</td>\n",
       "      <td>16</td>\n",
       "    </tr>\n",
       "  </tbody>\n",
       "</table>\n",
       "</div>"
      ],
      "text/plain": [
       "    lvl  count\n",
       "0    -1     34\n",
       "1     0     27\n",
       "2     1    127\n",
       "3     2    121\n",
       "4     3     95\n",
       "5     4     82\n",
       "6     5     76\n",
       "7     6     72\n",
       "8     7     77\n",
       "9     8     68\n",
       "10    9     63\n",
       "11   10     58\n",
       "12   11     40\n",
       "13   12     41\n",
       "14   13     36\n",
       "15   14     33\n",
       "16   15     31\n",
       "17   16     25\n",
       "18   17     21\n",
       "19   18     21\n",
       "20   19     18\n",
       "21   20     24\n",
       "22   21     16"
      ]
     },
     "execution_count": 55,
     "metadata": {},
     "output_type": "execute_result"
    }
   ],
   "source": [
    "level_count = pd.DataFrame(\n",
    "    data={\n",
    "        \"lvl\": [key for key in sorted(lvl_stat.keys())],\n",
    "        \"count\": [lvl_stat.get(key) for key in sorted(lvl_stat.keys())],\n",
    "    }\n",
    ")\n",
    "level_count"
   ]
  },
  {
   "cell_type": "code",
   "execution_count": 56,
   "id": "686877dd",
   "metadata": {},
   "outputs": [
    {
     "data": {
      "image/png": "[encoded data removed]",
      "text/plain": [
       "<Figure size 432x288 with 1 Axes>"
      ]
     },
     "metadata": {
      "needs_background": "light"
     },
     "output_type": "display_data"
    }
   ],
   "source": [
    "import matplotlib.pyplot as plt\n",
    "\n",
    "\n",
    "level_count.plot.bar(x=\"lvl\", y=\"count\", title=\"Count of levels\")\n",
    "plt.show()"
   ]
  },
  {
   "cell_type": "markdown",
   "id": "3f976e4a",
   "metadata": {},
   "source": [
    "## Train test split"
   ]
  },
  {
   "cell_type": "markdown",
   "id": "eb8cec62",
   "metadata": {},
   "source": [
    "### Chronological split"
   ]
  },
  {
   "cell_type": "code",
   "execution_count": 57,
   "id": "c6c29573",
   "metadata": {},
   "outputs": [],
   "source": [
    "from training.splitting_dataset import split_dataframe\n",
    "\n",
    "\n",
    "os.chdir(\"../../../training\")\n",
    "X_train, X_test, y_train, y_test = split_dataframe(df, test_size=0.31)\n",
    "os.chdir(\"../notebooks/models/lightgbm\")"
   ]
  },
  {
   "cell_type": "code",
   "execution_count": 58,
   "id": "f6894cc0",
   "metadata": {},
   "outputs": [],
   "source": [
    "X_train = X_train.drop(columns=[\"book\"])\n",
    "X_test = X_test.drop(columns=[\"book\"])"
   ]
  },
  {
   "cell_type": "markdown",
   "id": "31a0109c",
   "metadata": {},
   "source": [
    "### Random split"
   ]
  },
  {
   "cell_type": "code",
   "execution_count": 59,
   "id": "4d3e1121",
   "metadata": {},
   "outputs": [],
   "source": [
    "(\n",
    "    X_train_random_split,\n",
    "    X_test_random_split,\n",
    "    y_train_random_split,\n",
    "    y_test_random_split,\n",
    ") = split_dataframe(df, chronological_split=False)"
   ]
  },
  {
   "cell_type": "code",
   "execution_count": 60,
   "id": "f0c2041a",
   "metadata": {},
   "outputs": [],
   "source": [
    "X_train_random_split = X_train_random_split.drop(columns=[\"book\"])\n",
    "X_test_random_split = X_test_random_split.drop(columns=[\"book\"])"
   ]
  },
  {
   "cell_type": "markdown",
   "id": "e4776792",
   "metadata": {},
   "source": [
    "## LightGBM"
   ]
  },
  {
   "cell_type": "markdown",
   "id": "3f629b2d",
   "metadata": {},
   "source": [
    "## Chronological split"
   ]
  },
  {
   "cell_type": "code",
   "execution_count": 61,
   "id": "e818a3cc",
   "metadata": {},
   "outputs": [
    {
     "name": "stdout",
     "output_type": "stream",
     "text": [
      "[LightGBM] [Warning] Auto-choosing col-wise multi-threading, the overhead of testing was 0.000348 seconds.\n",
      "You can set `force_col_wise=true` to remove the overhead.\n",
      "[LightGBM] [Info] Total Bins 379\n",
      "[LightGBM] [Info] Number of data points in the train set: 841, number of used features: 13\n",
      "[LightGBM] [Info] Start training from score 6.966706\n",
      "Training until validation scores don't improve for 5 rounds\n",
      "[LightGBM] [Warning] No further splits with positive gain, best gain: -inf\n",
      "[LightGBM] [Warning] No further splits with positive gain, best gain: -inf\n",
      "[LightGBM] [Warning] No further splits with positive gain, best gain: -inf\n",
      "[LightGBM] [Warning] No further splits with positive gain, best gain: -inf\n",
      "[LightGBM] [Warning] No further splits with positive gain, best gain: -inf\n",
      "[LightGBM] [Warning] No further splits with positive gain, best gain: -inf\n",
      "[LightGBM] [Warning] No further splits with positive gain, best gain: -inf\n",
      "[LightGBM] [Warning] No further splits with positive gain, best gain: -inf\n",
      "[LightGBM] [Warning] No further splits with positive gain, best gain: -inf\n",
      "[LightGBM] [Warning] No further splits with positive gain, best gain: -inf\n",
      "[LightGBM] [Warning] No further splits with positive gain, best gain: -inf\n",
      "[LightGBM] [Warning] No further splits with positive gain, best gain: -inf\n",
      "Early stopping, best iteration is:\n",
      "[66]\tvalid_0's l1: 0.357209\tvalid_0's l2: 0.260893\n"
     ]
    }
   ],
   "source": [
    "import lightgbm as lgb\n",
    "\n",
    "lgb_train = lgb.Dataset(X_train, y_train)\n",
    "lgb_eval = lgb.Dataset(X_test, y_test, reference=lgb_train)\n",
    "\n",
    "params = {\n",
    "    \"boosting_type\": \"gbdt\",\n",
    "    \"objective\": \"regression\",\n",
    "    \"metric\": {\"l2\", \"l1\"},\n",
    "}\n",
    "\n",
    "gbm = lgb.train(\n",
    "    params,\n",
    "    lgb_train,\n",
    "    num_boost_round=100,\n",
    "    valid_sets=lgb_eval,\n",
    "    callbacks=[lgb.early_stopping(stopping_rounds=5)],\n",
    ")"
   ]
  },
  {
   "cell_type": "code",
   "execution_count": 62,
   "id": "b2dd69b5",
   "metadata": {},
   "outputs": [],
   "source": [
    "y_pred_train = gbm.predict(X_train, num_iteration=gbm.best_iteration)\n",
    "y_pred_test = gbm.predict(X_test, num_iteration=gbm.best_iteration)"
   ]
  },
  {
   "cell_type": "code",
   "execution_count": 63,
   "id": "68b425f7",
   "metadata": {},
   "outputs": [
    {
     "name": "stdout",
     "output_type": "stream",
     "text": [
      "MSE: 0.26\n",
      "RMSE: 0.51\n",
      "MAE: 0.36\n"
     ]
    }
   ],
   "source": [
    "from sklearn.metrics import mean_squared_error, mean_absolute_error\n",
    "\n",
    "\n",
    "mse = mean_squared_error(y_test, y_pred_test)\n",
    "rmse = mean_squared_error(y_test, y_pred_test, squared=False)\n",
    "mae = mean_absolute_error(y_test, y_pred_test)\n",
    "\n",
    "print(f\"MSE: {mse:.2f}\")\n",
    "print(f\"RMSE: {rmse:.2f}\")\n",
    "print(f\"MAE: {mae:.2f}\")"
   ]
  },
  {
   "cell_type": "code",
   "execution_count": 64,
   "id": "a615e9df",
   "metadata": {},
   "outputs": [],
   "source": [
    "results = pd.DataFrame(\n",
    "    data={\n",
    "        \"Split type\": [],\n",
    "        \"Tuning type\": [],\n",
    "        \"Number of characteristics\": [],\n",
    "        \"MSE\": [],\n",
    "        \"RMSE\": [],\n",
    "        \"MAE\": [],\n",
    "    }\n",
    ")\n",
    "\n",
    "results.loc[0] = [\"chronological\", \"normal\", len(X_test.columns), mse, rmse, mae]"
   ]
  },
  {
   "cell_type": "code",
   "execution_count": 65,
   "id": "9d777b5d",
   "metadata": {},
   "outputs": [
    {
     "name": "stdout",
     "output_type": "stream",
     "text": [
      "RMSE train: 0.21\n",
      "RMSE test: 0.51\n"
     ]
    }
   ],
   "source": [
    "rmse_train = mean_squared_error(y_train, y_pred_train, squared=False)\n",
    "rmse_test = mean_squared_error(y_test, y_pred_test, squared=False)\n",
    "print(f\"RMSE train: {rmse_train:.2f}\")\n",
    "print(f\"RMSE test: {rmse_test:.2f}\")"
   ]
  },
  {
   "cell_type": "markdown",
   "id": "c8d83c18",
   "metadata": {},
   "source": [
    "###### MAE by level"
   ]
  },
  {
   "cell_type": "code",
   "execution_count": 66,
   "id": "81b95de5",
   "metadata": {},
   "outputs": [
    {
     "data": {
      "image/png": "[encoded data removed]",
      "text/plain": [
       "<Figure size 720x432 with 1 Axes>"
      ]
     },
     "metadata": {
      "needs_background": "light"
     },
     "output_type": "display_data"
    }
   ],
   "source": [
    "import matplotlib.pyplot as plt\n",
    "\n",
    "y_test = y_test.reset_index(drop=True)\n",
    "level_max = y_test.max()\n",
    "\n",
    "mae_by_level = pd.DataFrame(columns=[\"level\", \"mae\"])\n",
    "for lvl in range(-1, level_max + 1):\n",
    "    y_test_curr = y_test[y_test == lvl]\n",
    "    y_pred_test_curr = pd.DataFrame(y_pred_test)[y_test == lvl]\n",
    "\n",
    "    mae = mean_absolute_error(y_test_curr, y_pred_test_curr)\n",
    "    mae_by_level.loc[lvl + 1] = [lvl, mae]\n",
    "\n",
    "\n",
    "plt.figure(figsize=(10, 6))\n",
    "plt.bar(mae_by_level[\"level\"], mae_by_level[\"mae\"])\n",
    "plt.xlabel(\"Level\")\n",
    "plt.ylabel(\"Mean Absolute Error (MAE)\")\n",
    "plt.title(\"MAE by level\")\n",
    "plt.xticks(mae_by_level[\"level\"])\n",
    "plt.show()"
   ]
  },
  {
   "cell_type": "code",
   "execution_count": 67,
   "id": "4135d981",
   "metadata": {},
   "outputs": [
    {
     "name": "stdout",
     "output_type": "stream",
     "text": [
      "Normal:\n",
      "MSE: 0.26\n",
      "RMSE: 0.51\n",
      "\n",
      "Round type: round\n",
      "MSE: 0.30\n",
      "RMSE: 0.55\n",
      "\n",
      "Round type: 0.33\n",
      "MSE: 0.29\n",
      "RMSE: 0.54\n",
      "\n",
      "Round type: 0.45\n",
      "MSE: 0.29\n",
      "RMSE: 0.54\n",
      "\n"
     ]
    }
   ],
   "source": [
    "from training.results import check_round_predictions, plot_confusion_matrix\n",
    "\n",
    "\n",
    "check_round_predictions([\"round\", 0.33, 0.45], y_test, y_pred_test)"
   ]
  },
  {
   "cell_type": "code",
   "execution_count": 68,
   "id": "4741e1ec",
   "metadata": {},
   "outputs": [
    {
     "data": {
      "image/png": "[encoded data removed]",
      "text/plain": [
       "<Figure size 432x288 with 2 Axes>"
      ]
     },
     "metadata": {
      "needs_background": "light"
     },
     "output_type": "display_data"
    }
   ],
   "source": [
    "plot_confusion_matrix(\"round\", y_pred_test, y_test)"
   ]
  },
  {
   "cell_type": "markdown",
   "id": "a6b03404",
   "metadata": {},
   "source": [
    "#### Tuning"
   ]
  },
  {
   "cell_type": "code",
   "execution_count": 69,
   "id": "e7f8b7ee",
   "metadata": {},
   "outputs": [],
   "source": [
    "from training.results import assess_regression_model"
   ]
  },
  {
   "cell_type": "code",
   "execution_count": 70,
   "id": "10cd6bac",
   "metadata": {
    "scrolled": true
   },
   "outputs": [
    {
     "name": "stderr",
     "output_type": "stream",
     "text": [
      "[I 2023-10-28 22:48:47,225] A new study created in memory with name: no-name-7e0077b6-5c16-4b80-b2cf-2c4fc47e828a\n",
      "feature_fraction, val_score: inf:   0%|                                                          | 0/7 [00:00<?, ?it/s]"
     ]
    },
    {
     "name": "stdout",
     "output_type": "stream",
     "text": [
      "Training until validation scores don't improve for 100 rounds\n",
      "[100]\tcv_agg's l2: 0.180752 + 0.0352041\n",
      "[200]\tcv_agg's l2: 0.177997 + 0.0347951\n"
     ]
    },
    {
     "name": "stderr",
     "output_type": "stream",
     "text": [
      "\r",
      "feature_fraction, val_score: 0.177755:   0%|                                                     | 0/7 [00:01<?, ?it/s]"
     ]
    },
    {
     "name": "stdout",
     "output_type": "stream",
     "text": [
      "[300]\tcv_agg's l2: 0.178515 + 0.034813\n",
      "Early stopping, best iteration is:\n",
      "[253]\tcv_agg's l2: 0.177755 + 0.0345625\n"
     ]
    },
    {
     "name": "stderr",
     "output_type": "stream",
     "text": [
      "feature_fraction, val_score: 0.177755:  14%|######4                                      | 1/7 [00:01<00:07,  1.21s/it][I 2023-10-28 22:48:48,445] Trial 0 finished with value: 0.1777553362463941 and parameters: {'feature_fraction': 0.8}. Best is trial 0 with value: 0.1777553362463941.\n",
      "feature_fraction, val_score: 0.177755:  14%|######4                                      | 1/7 [00:01<00:07,  1.21s/it]"
     ]
    },
    {
     "name": "stdout",
     "output_type": "stream",
     "text": [
      "[100]\tcv_agg's l2: 0.187674 + 0.0414439\n",
      "[200]\tcv_agg's l2: 0.174675 + 0.038664\n",
      "[300]\tcv_agg's l2: 0.172386 + 0.0385788\n",
      "[400]\tcv_agg's l2: 0.171852 + 0.038504\n"
     ]
    },
    {
     "name": "stderr",
     "output_type": "stream",
     "text": [
      "feature_fraction, val_score: 0.171437:  29%|############8                                | 2/7 [00:03<00:08,  1.67s/it][I 2023-10-28 22:48:50,436] Trial 1 finished with value: 0.17143731031838944 and parameters: {'feature_fraction': 0.4}. Best is trial 1 with value: 0.17143731031838944.\n",
      "feature_fraction, val_score: 0.171437:  29%|############8                                | 2/7 [00:03<00:08,  1.67s/it]"
     ]
    },
    {
     "name": "stdout",
     "output_type": "stream",
     "text": [
      "[500]\tcv_agg's l2: 0.171581 + 0.0388527\n",
      "Early stopping, best iteration is:\n",
      "[430]\tcv_agg's l2: 0.171437 + 0.038611\n",
      "[100]\tcv_agg's l2: 0.181551 + 0.0361725\n",
      "[200]\tcv_agg's l2: 0.177664 + 0.0340817\n",
      "[300]\tcv_agg's l2: 0.177649 + 0.0341529\n",
      "[400]\tcv_agg's l2: 0.178297 + 0.0347854\n"
     ]
    },
    {
     "name": "stderr",
     "output_type": "stream",
     "text": [
      "feature_fraction, val_score: 0.171437:  43%|###################2                         | 3/7 [00:05<00:07,  1.85s/it][I 2023-10-28 22:48:52,495] Trial 2 finished with value: 0.17876126326826536 and parameters: {'feature_fraction': 0.8999999999999999}. Best is trial 1 with value: 0.17143731031838944.\n",
      "feature_fraction, val_score: 0.171437:  43%|###################2                         | 3/7 [00:05<00:07,  1.85s/it]"
     ]
    },
    {
     "name": "stdout",
     "output_type": "stream",
     "text": [
      "[500]\tcv_agg's l2: 0.179363 + 0.034597\n",
      "Early stopping, best iteration is:\n",
      "[430]\tcv_agg's l2: 0.171437 + 0.038611\n",
      "[100]\tcv_agg's l2: 0.18845 + 0.0390648\n",
      "[200]\tcv_agg's l2: 0.185927 + 0.0365929\n",
      "[300]\tcv_agg's l2: 0.185499 + 0.0361031\n",
      "[400]\tcv_agg's l2: 0.186808 + 0.036314\n"
     ]
    },
    {
     "name": "stderr",
     "output_type": "stream",
     "text": [
      "feature_fraction, val_score: 0.171437:  57%|#########################7                   | 4/7 [00:07<00:05,  1.85s/it][I 2023-10-28 22:48:54,351] Trial 3 finished with value: 0.18703371044132022 and parameters: {'feature_fraction': 1.0}. Best is trial 1 with value: 0.17143731031838944.\n",
      "feature_fraction, val_score: 0.171437:  57%|#########################7                   | 4/7 [00:07<00:05,  1.85s/it]"
     ]
    },
    {
     "name": "stdout",
     "output_type": "stream",
     "text": [
      "[500]\tcv_agg's l2: 0.18771 + 0.0360928\n",
      "Early stopping, best iteration is:\n",
      "[430]\tcv_agg's l2: 0.171437 + 0.038611\n",
      "[100]\tcv_agg's l2: 0.178065 + 0.0381841\n",
      "[200]\tcv_agg's l2: 0.174769 + 0.0344549\n",
      "[300]\tcv_agg's l2: 0.17458 + 0.0342975\n",
      "[400]\tcv_agg's l2: 0.175096 + 0.0343183\n"
     ]
    },
    {
     "name": "stderr",
     "output_type": "stream",
     "text": [
      "feature_fraction, val_score: 0.171437:  71%|################################1            | 5/7 [00:09<00:03,  1.91s/it][I 2023-10-28 22:48:56,358] Trial 4 finished with value: 0.17544777859620497 and parameters: {'feature_fraction': 0.5}. Best is trial 1 with value: 0.17143731031838944.\n",
      "feature_fraction, val_score: 0.171437:  71%|################################1            | 5/7 [00:09<00:03,  1.91s/it]"
     ]
    },
    {
     "name": "stdout",
     "output_type": "stream",
     "text": [
      "[500]\tcv_agg's l2: 0.175998 + 0.034778\n",
      "Early stopping, best iteration is:\n",
      "[430]\tcv_agg's l2: 0.171437 + 0.038611\n",
      "[100]\tcv_agg's l2: 0.171388 + 0.0333339\n",
      "[200]\tcv_agg's l2: 0.168686 + 0.032978\n"
     ]
    },
    {
     "name": "stderr",
     "output_type": "stream",
     "text": [
      "feature_fraction, val_score: 0.168448:  86%|######################################5      | 6/7 [00:10<00:01,  1.68s/it][I 2023-10-28 22:48:57,595] Trial 5 finished with value: 0.1684482880322061 and parameters: {'feature_fraction': 0.6}. Best is trial 5 with value: 0.1684482880322061.\n",
      "feature_fraction, val_score: 0.168448:  86%|######################################5      | 6/7 [00:10<00:01,  1.68s/it]"
     ]
    },
    {
     "name": "stdout",
     "output_type": "stream",
     "text": [
      "Early stopping, best iteration is:\n",
      "[195]\tcv_agg's l2: 0.168448 + 0.0328234\n",
      "[100]\tcv_agg's l2: 0.17938 + 0.0376933\n",
      "[200]\tcv_agg's l2: 0.173997 + 0.0350064\n"
     ]
    },
    {
     "name": "stderr",
     "output_type": "stream",
     "text": [
      "feature_fraction, val_score: 0.168448: 100%|#############################################| 7/7 [00:11<00:00,  1.56s/it][I 2023-10-28 22:48:58,920] Trial 6 finished with value: 0.17408074895853318 and parameters: {'feature_fraction': 0.7}. Best is trial 5 with value: 0.1684482880322061.\n",
      "feature_fraction, val_score: 0.168448: 100%|#############################################| 7/7 [00:11<00:00,  1.67s/it]\n"
     ]
    },
    {
     "name": "stdout",
     "output_type": "stream",
     "text": [
      "Early stopping, best iteration is:\n",
      "[195]\tcv_agg's l2: 0.168448 + 0.0328234\n"
     ]
    },
    {
     "name": "stderr",
     "output_type": "stream",
     "text": [
      "num_leaves, val_score: 0.168448:   0%|                                                          | 0/20 [00:00<?, ?it/s]"
     ]
    },
    {
     "name": "stdout",
     "output_type": "stream",
     "text": [
      "[100]\tcv_agg's l2: 0.171388 + 0.0333339\n",
      "[200]\tcv_agg's l2: 0.168686 + 0.032978\n"
     ]
    },
    {
     "name": "stderr",
     "output_type": "stream",
     "text": [
      "num_leaves, val_score: 0.168448:   5%|##5                                               | 1/20 [00:01<00:27,  1.47s/it][I 2023-10-28 22:49:00,395] Trial 7 finished with value: 0.1684482880322061 and parameters: {'num_leaves': 50}. Best is trial 7 with value: 0.1684482880322061.\n",
      "num_leaves, val_score: 0.168448:   5%|##5                                               | 1/20 [00:01<00:27,  1.47s/it]"
     ]
    },
    {
     "name": "stdout",
     "output_type": "stream",
     "text": [
      "Early stopping, best iteration is:\n",
      "[195]\tcv_agg's l2: 0.168448 + 0.0328234\n",
      "[100]\tcv_agg's l2: 0.175707 + 0.0326174\n",
      "[200]\tcv_agg's l2: 0.168609 + 0.0281875\n"
     ]
    },
    {
     "name": "stderr",
     "output_type": "stream",
     "text": [
      "num_leaves, val_score: 0.168441:  10%|#####                                             | 2/20 [00:02<00:22,  1.28s/it][I 2023-10-28 22:49:01,540] Trial 8 finished with value: 0.16844055766867072 and parameters: {'num_leaves': 17}. Best is trial 8 with value: 0.16844055766867072.\n",
      "num_leaves, val_score: 0.168441:  10%|#####                                             | 2/20 [00:02<00:22,  1.28s/it]"
     ]
    },
    {
     "name": "stdout",
     "output_type": "stream",
     "text": [
      "[300]\tcv_agg's l2: 0.169245 + 0.0292486\n",
      "Early stopping, best iteration is:\n",
      "[216]\tcv_agg's l2: 0.168441 + 0.0285556\n",
      "[100]\tcv_agg's l2: 0.171388 + 0.0333339\n",
      "[200]\tcv_agg's l2: 0.168686 + 0.032978\n"
     ]
    },
    {
     "name": "stderr",
     "output_type": "stream",
     "text": [
      "num_leaves, val_score: 0.168441:  15%|#######5                                          | 3/20 [00:04<00:23,  1.36s/it][I 2023-10-28 22:49:03,001] Trial 9 finished with value: 0.16865132587639806 and parameters: {'num_leaves': 164}. Best is trial 8 with value: 0.16844055766867072.\n",
      "num_leaves, val_score: 0.168441:  15%|#######5                                          | 3/20 [00:04<00:23,  1.36s/it]"
     ]
    },
    {
     "name": "stdout",
     "output_type": "stream",
     "text": [
      "[300]\tcv_agg's l2: 0.169334 + 0.0332524\n",
      "Early stopping, best iteration is:\n",
      "[216]\tcv_agg's l2: 0.168441 + 0.0285556\n",
      "[100]\tcv_agg's l2: 0.170493 + 0.0292518\n",
      "[200]\tcv_agg's l2: 0.162965 + 0.0261152\n",
      "[300]\tcv_agg's l2: 0.161853 + 0.0266148\n",
      "[400]\tcv_agg's l2: 0.161001 + 0.026632\n"
     ]
    },
    {
     "name": "stderr",
     "output_type": "stream",
     "text": [
      "num_leaves, val_score: 0.160601:  20%|##########                                        | 4/20 [00:05<00:21,  1.33s/it][I 2023-10-28 22:49:04,295] Trial 10 finished with value: 0.16060142948310854 and parameters: {'num_leaves': 11}. Best is trial 10 with value: 0.16060142948310854.\n",
      "num_leaves, val_score: 0.160601:  20%|##########                                        | 4/20 [00:05<00:21,  1.33s/it]"
     ]
    },
    {
     "name": "stdout",
     "output_type": "stream",
     "text": [
      "[500]\tcv_agg's l2: 0.161049 + 0.026844\n",
      "Early stopping, best iteration is:\n",
      "[424]\tcv_agg's l2: 0.160601 + 0.0265256\n",
      "[100]\tcv_agg's l2: 0.183137 + 0.0344869\n",
      "[200]\tcv_agg's l2: 0.173161 + 0.0285178\n",
      "[300]\tcv_agg's l2: 0.169373 + 0.0262955\n",
      "[400]\tcv_agg's l2: 0.168472 + 0.026694\n",
      "[500]\tcv_agg's l2: 0.167942 + 0.0273624\n"
     ]
    },
    {
     "name": "stderr",
     "output_type": "stream",
     "text": [
      "num_leaves, val_score: 0.160601:  25%|############5                                     | 5/20 [00:06<00:19,  1.30s/it][I 2023-10-28 22:49:05,546] Trial 11 finished with value: 0.16823625628777655 and parameters: {'num_leaves': 9}. Best is trial 10 with value: 0.16060142948310854.\n",
      "num_leaves, val_score: 0.160601:  25%|############5                                     | 5/20 [00:06<00:19,  1.30s/it]"
     ]
    },
    {
     "name": "stdout",
     "output_type": "stream",
     "text": [
      "Early stopping, best iteration is:\n",
      "[424]\tcv_agg's l2: 0.160601 + 0.0265256\n",
      "[100]\tcv_agg's l2: 0.175371 + 0.0403517\n",
      "[200]\tcv_agg's l2: 0.171817 + 0.037172\n",
      "[300]\tcv_agg's l2: 0.172242 + 0.0361334\n",
      "[400]\tcv_agg's l2: 0.173148 + 0.0360177\n"
     ]
    },
    {
     "name": "stderr",
     "output_type": "stream",
     "text": [
      "num_leaves, val_score: 0.160601:  30%|###############                                   | 6/20 [00:08<00:22,  1.58s/it][I 2023-10-28 22:49:07,671] Trial 12 finished with value: 0.17331793601630213 and parameters: {'num_leaves': 20}. Best is trial 10 with value: 0.16060142948310854.\n",
      "num_leaves, val_score: 0.160601:  30%|###############                                   | 6/20 [00:08<00:22,  1.58s/it]"
     ]
    },
    {
     "name": "stdout",
     "output_type": "stream",
     "text": [
      "[500]\tcv_agg's l2: 0.174145 + 0.0353417\n",
      "Early stopping, best iteration is:\n",
      "[424]\tcv_agg's l2: 0.160601 + 0.0265256\n",
      "[100]\tcv_agg's l2: 0.171388 + 0.0333339\n",
      "[200]\tcv_agg's l2: 0.168686 + 0.032978\n",
      "[300]\tcv_agg's l2: 0.169334 + 0.0332524\n",
      "[400]\tcv_agg's l2: 0.170666 + 0.034435\n"
     ]
    },
    {
     "name": "stderr",
     "output_type": "stream",
     "text": [
      "num_leaves, val_score: 0.160601:  35%|#################5                                | 7/20 [00:11<00:24,  1.91s/it][I 2023-10-28 22:49:10,243] Trial 13 finished with value: 0.17092801727091286 and parameters: {'num_leaves': 241}. Best is trial 10 with value: 0.16060142948310854.\n",
      "num_leaves, val_score: 0.160601:  35%|#################5                                | 7/20 [00:11<00:24,  1.91s/it]"
     ]
    },
    {
     "name": "stdout",
     "output_type": "stream",
     "text": [
      "[500]\tcv_agg's l2: 0.171837 + 0.0348174\n",
      "Early stopping, best iteration is:\n",
      "[424]\tcv_agg's l2: 0.160601 + 0.0265256\n",
      "[100]\tcv_agg's l2: 0.171388 + 0.0333339\n",
      "[200]\tcv_agg's l2: 0.168686 + 0.032978\n",
      "[300]\tcv_agg's l2: 0.169334 + 0.0332524\n",
      "[400]\tcv_agg's l2: 0.170666 + 0.034435\n"
     ]
    },
    {
     "name": "stderr",
     "output_type": "stream",
     "text": [
      "num_leaves, val_score: 0.160601:  40%|####################                              | 8/20 [00:13<00:25,  2.09s/it][I 2023-10-28 22:49:12,718] Trial 14 finished with value: 0.17092801727091286 and parameters: {'num_leaves': 101}. Best is trial 10 with value: 0.16060142948310854.\n",
      "num_leaves, val_score: 0.160601:  40%|####################                              | 8/20 [00:13<00:25,  2.09s/it]"
     ]
    },
    {
     "name": "stdout",
     "output_type": "stream",
     "text": [
      "[500]\tcv_agg's l2: 0.171837 + 0.0348174\n",
      "Early stopping, best iteration is:\n",
      "[424]\tcv_agg's l2: 0.160601 + 0.0265256\n",
      "[100]\tcv_agg's l2: 0.171388 + 0.0333339\n",
      "[200]\tcv_agg's l2: 0.168686 + 0.032978\n",
      "[300]\tcv_agg's l2: 0.169334 + 0.0332524\n",
      "[400]\tcv_agg's l2: 0.170666 + 0.034435\n"
     ]
    },
    {
     "name": "stderr",
     "output_type": "stream",
     "text": [
      "num_leaves, val_score: 0.160601:  45%|######################5                           | 9/20 [00:16<00:24,  2.19s/it][I 2023-10-28 22:49:15,139] Trial 15 finished with value: 0.17092801727091286 and parameters: {'num_leaves': 86}. Best is trial 10 with value: 0.16060142948310854.\n",
      "num_leaves, val_score: 0.160601:  45%|######################5                           | 9/20 [00:16<00:24,  2.19s/it]"
     ]
    },
    {
     "name": "stdout",
     "output_type": "stream",
     "text": [
      "[500]\tcv_agg's l2: 0.171837 + 0.0348174\n",
      "Early stopping, best iteration is:\n",
      "[424]\tcv_agg's l2: 0.160601 + 0.0265256\n",
      "[100]\tcv_agg's l2: 0.180888 + 0.0264224\n",
      "[200]\tcv_agg's l2: 0.166082 + 0.0234761\n",
      "[300]\tcv_agg's l2: 0.161435 + 0.0219186\n",
      "[400]\tcv_agg's l2: 0.160841 + 0.0207805\n"
     ]
    },
    {
     "name": "stderr",
     "output_type": "stream",
     "text": [
      "num_leaves, val_score: 0.159254:  50%|########################5                        | 10/20 [00:17<00:18,  1.88s/it][I 2023-10-28 22:49:16,309] Trial 16 finished with value: 0.15925400280736945 and parameters: {'num_leaves': 7}. Best is trial 16 with value: 0.15925400280736945.\n",
      "num_leaves, val_score: 0.159254:  50%|########################5                        | 10/20 [00:17<00:18,  1.88s/it]"
     ]
    },
    {
     "name": "stdout",
     "output_type": "stream",
     "text": [
      "[500]\tcv_agg's l2: 0.159414 + 0.0202688\n",
      "Early stopping, best iteration is:\n",
      "[496]\tcv_agg's l2: 0.159254 + 0.0200867\n",
      "[100]\tcv_agg's l2: 0.171388 + 0.0333339\n",
      "[200]\tcv_agg's l2: 0.168686 + 0.032978\n",
      "[300]\tcv_agg's l2: 0.169334 + 0.0332524\n",
      "[400]\tcv_agg's l2: 0.170666 + 0.034435\n",
      "[500]\tcv_agg's l2: 0.171837 + 0.0348174\n"
     ]
    },
    {
     "name": "stderr",
     "output_type": "stream",
     "text": [
      "num_leaves, val_score: 0.159254:  55%|##########################9                      | 11/20 [00:20<00:20,  2.24s/it][I 2023-10-28 22:49:19,382] Trial 17 finished with value: 0.17175461999351968 and parameters: {'num_leaves': 159}. Best is trial 16 with value: 0.15925400280736945.\n",
      "num_leaves, val_score: 0.159254:  55%|##########################9                      | 11/20 [00:20<00:20,  2.24s/it]"
     ]
    },
    {
     "name": "stdout",
     "output_type": "stream",
     "text": [
      "Early stopping, best iteration is:\n",
      "[496]\tcv_agg's l2: 0.159254 + 0.0200867\n",
      "[100]\tcv_agg's l2: 0.171388 + 0.0333339\n",
      "[200]\tcv_agg's l2: 0.168686 + 0.032978\n",
      "[300]\tcv_agg's l2: 0.169334 + 0.0332524\n",
      "[400]\tcv_agg's l2: 0.170666 + 0.034435\n",
      "[500]\tcv_agg's l2: 0.171837 + 0.0348174\n"
     ]
    },
    {
     "name": "stderr",
     "output_type": "stream",
     "text": [
      "num_leaves, val_score: 0.159254:  60%|#############################4                   | 12/20 [00:23<00:20,  2.59s/it][I 2023-10-28 22:49:22,768] Trial 18 finished with value: 0.17175461999351968 and parameters: {'num_leaves': 63}. Best is trial 16 with value: 0.15925400280736945.\n",
      "num_leaves, val_score: 0.159254:  60%|#############################4                   | 12/20 [00:23<00:20,  2.59s/it]"
     ]
    },
    {
     "name": "stdout",
     "output_type": "stream",
     "text": [
      "Early stopping, best iteration is:\n",
      "[496]\tcv_agg's l2: 0.159254 + 0.0200867\n",
      "[100]\tcv_agg's l2: 0.246934 + 0.052663\n",
      "[200]\tcv_agg's l2: 0.222559 + 0.043811\n",
      "[300]\tcv_agg's l2: 0.209432 + 0.0382145\n",
      "[400]\tcv_agg's l2: 0.200119 + 0.0332931\n",
      "[500]\tcv_agg's l2: 0.194234 + 0.0314528\n"
     ]
    },
    {
     "name": "stderr",
     "output_type": "stream",
     "text": [
      "num_leaves, val_score: 0.159254:  65%|###############################8                 | 13/20 [00:24<00:14,  2.04s/it][I 2023-10-28 22:49:23,553] Trial 19 finished with value: 0.19455216104575956 and parameters: {'num_leaves': 3}. Best is trial 16 with value: 0.15925400280736945.\n",
      "num_leaves, val_score: 0.159254:  65%|###############################8                 | 13/20 [00:24<00:14,  2.04s/it]"
     ]
    },
    {
     "name": "stdout",
     "output_type": "stream",
     "text": [
      "Early stopping, best iteration is:\n",
      "[496]\tcv_agg's l2: 0.159254 + 0.0200867\n",
      "[100]\tcv_agg's l2: 0.171388 + 0.0333339\n",
      "[200]\tcv_agg's l2: 0.168686 + 0.032978\n",
      "[300]\tcv_agg's l2: 0.169334 + 0.0332524\n",
      "[400]\tcv_agg's l2: 0.170666 + 0.034435\n",
      "[500]\tcv_agg's l2: 0.171837 + 0.0348174\n"
     ]
    },
    {
     "name": "stderr",
     "output_type": "stream",
     "text": [
      "num_leaves, val_score: 0.159254:  70%|##################################3              | 14/20 [00:27<00:14,  2.33s/it][I 2023-10-28 22:49:26,561] Trial 20 finished with value: 0.17175461999351968 and parameters: {'num_leaves': 127}. Best is trial 16 with value: 0.15925400280736945.\n",
      "num_leaves, val_score: 0.159254:  70%|##################################3              | 14/20 [00:27<00:14,  2.33s/it]"
     ]
    },
    {
     "name": "stdout",
     "output_type": "stream",
     "text": [
      "Early stopping, best iteration is:\n",
      "[496]\tcv_agg's l2: 0.159254 + 0.0200867\n",
      "[100]\tcv_agg's l2: 0.171388 + 0.0333339\n",
      "[200]\tcv_agg's l2: 0.168686 + 0.032978\n",
      "[300]\tcv_agg's l2: 0.169334 + 0.0332524\n",
      "[400]\tcv_agg's l2: 0.170666 + 0.034435\n",
      "[500]\tcv_agg's l2: 0.171837 + 0.0348174\n"
     ]
    },
    {
     "name": "stderr",
     "output_type": "stream",
     "text": [
      "num_leaves, val_score: 0.159254:  75%|####################################7            | 15/20 [00:30<00:11,  2.36s/it][I 2023-10-28 22:49:28,979] Trial 21 finished with value: 0.17175461999351968 and parameters: {'num_leaves': 38}. Best is trial 16 with value: 0.15925400280736945.\n",
      "num_leaves, val_score: 0.159254:  75%|####################################7            | 15/20 [00:30<00:11,  2.36s/it]"
     ]
    },
    {
     "name": "stdout",
     "output_type": "stream",
     "text": [
      "Early stopping, best iteration is:\n",
      "[496]\tcv_agg's l2: 0.159254 + 0.0200867\n",
      "[100]\tcv_agg's l2: 0.193547 + 0.0249004\n",
      "[200]\tcv_agg's l2: 0.175847 + 0.0203471\n",
      "[300]\tcv_agg's l2: 0.166948 + 0.0159458\n",
      "[400]\tcv_agg's l2: 0.163908 + 0.0151219\n",
      "[500]\tcv_agg's l2: 0.16133 + 0.0151465\n"
     ]
    },
    {
     "name": "stderr",
     "output_type": "stream",
     "text": [
      "num_leaves, val_score: 0.159254:  80%|#######################################2         | 16/20 [00:30<00:07,  1.90s/it][I 2023-10-28 22:49:29,826] Trial 22 finished with value: 0.16131144109519663 and parameters: {'num_leaves': 5}. Best is trial 16 with value: 0.15925400280736945.\n",
      "num_leaves, val_score: 0.159254:  80%|#######################################2         | 16/20 [00:30<00:07,  1.90s/it]"
     ]
    },
    {
     "name": "stdout",
     "output_type": "stream",
     "text": [
      "Early stopping, best iteration is:\n",
      "[496]\tcv_agg's l2: 0.159254 + 0.0200867\n",
      "[100]\tcv_agg's l2: 0.171388 + 0.0333339\n",
      "[200]\tcv_agg's l2: 0.168686 + 0.032978\n",
      "[300]\tcv_agg's l2: 0.169334 + 0.0332524\n",
      "[400]\tcv_agg's l2: 0.170666 + 0.034435\n",
      "[500]\tcv_agg's l2: 0.171837 + 0.0348174\n"
     ]
    },
    {
     "name": "stderr",
     "output_type": "stream",
     "text": [
      "num_leaves, val_score: 0.159254:  85%|#########################################6       | 17/20 [00:33<00:06,  2.11s/it][I 2023-10-28 22:49:32,400] Trial 23 finished with value: 0.17175461999351968 and parameters: {'num_leaves': 67}. Best is trial 16 with value: 0.15925400280736945.\n",
      "num_leaves, val_score: 0.159254:  85%|#########################################6       | 17/20 [00:33<00:06,  2.11s/it]"
     ]
    },
    {
     "name": "stdout",
     "output_type": "stream",
     "text": [
      "Early stopping, best iteration is:\n",
      "[496]\tcv_agg's l2: 0.159254 + 0.0200867\n",
      "[100]\tcv_agg's l2: 0.171388 + 0.0333339\n",
      "[200]\tcv_agg's l2: 0.168686 + 0.032978\n",
      "[300]\tcv_agg's l2: 0.169334 + 0.0332524\n",
      "[400]\tcv_agg's l2: 0.170666 + 0.034435\n",
      "[500]\tcv_agg's l2: 0.171837 + 0.0348174\n"
     ]
    },
    {
     "name": "stderr",
     "output_type": "stream",
     "text": [
      "num_leaves, val_score: 0.159254:  90%|############################################1    | 18/20 [00:36<00:04,  2.37s/it][I 2023-10-28 22:49:35,375] Trial 24 finished with value: 0.17175461999351968 and parameters: {'num_leaves': 37}. Best is trial 16 with value: 0.15925400280736945.\n",
      "num_leaves, val_score: 0.159254:  90%|############################################1    | 18/20 [00:36<00:04,  2.37s/it]"
     ]
    },
    {
     "name": "stdout",
     "output_type": "stream",
     "text": [
      "Early stopping, best iteration is:\n",
      "[496]\tcv_agg's l2: 0.159254 + 0.0200867\n",
      "[100]\tcv_agg's l2: 0.193547 + 0.0249004\n",
      "[200]\tcv_agg's l2: 0.175847 + 0.0203471\n",
      "[300]\tcv_agg's l2: 0.166948 + 0.0159458\n",
      "[400]\tcv_agg's l2: 0.163908 + 0.0151219\n",
      "[500]\tcv_agg's l2: 0.16133 + 0.0151465\n"
     ]
    },
    {
     "name": "stderr",
     "output_type": "stream",
     "text": [
      "num_leaves, val_score: 0.159254:  95%|##############################################5  | 19/20 [00:37<00:02,  2.03s/it][I 2023-10-28 22:49:36,622] Trial 25 finished with value: 0.16131144109519663 and parameters: {'num_leaves': 5}. Best is trial 16 with value: 0.15925400280736945.\n",
      "num_leaves, val_score: 0.159254:  95%|##############################################5  | 19/20 [00:37<00:02,  2.03s/it]"
     ]
    },
    {
     "name": "stdout",
     "output_type": "stream",
     "text": [
      "Early stopping, best iteration is:\n",
      "[496]\tcv_agg's l2: 0.159254 + 0.0200867\n",
      "[100]\tcv_agg's l2: 0.171388 + 0.0333339\n",
      "[200]\tcv_agg's l2: 0.168686 + 0.032978\n",
      "[300]\tcv_agg's l2: 0.169334 + 0.0332524\n",
      "[400]\tcv_agg's l2: 0.170666 + 0.034435\n",
      "[500]\tcv_agg's l2: 0.171837 + 0.0348174\n"
     ]
    },
    {
     "name": "stderr",
     "output_type": "stream",
     "text": [
      "num_leaves, val_score: 0.159254: 100%|#################################################| 20/20 [00:41<00:00,  2.46s/it][I 2023-10-28 22:49:40,070] Trial 26 finished with value: 0.17175461999351968 and parameters: {'num_leaves': 38}. Best is trial 16 with value: 0.15925400280736945.\n",
      "num_leaves, val_score: 0.159254: 100%|#################################################| 20/20 [00:41<00:00,  2.06s/it]\n"
     ]
    },
    {
     "name": "stdout",
     "output_type": "stream",
     "text": [
      "Early stopping, best iteration is:\n",
      "[496]\tcv_agg's l2: 0.159254 + 0.0200867\n"
     ]
    },
    {
     "name": "stderr",
     "output_type": "stream",
     "text": [
      "bagging, val_score: 0.159254:   0%|                                                             | 0/10 [00:00<?, ?it/s]"
     ]
    },
    {
     "name": "stdout",
     "output_type": "stream",
     "text": [
      "[100]\tcv_agg's l2: 0.205241 + 0.0301776\n",
      "[200]\tcv_agg's l2: 0.191876 + 0.0273477\n",
      "[300]\tcv_agg's l2: 0.191209 + 0.0252357\n",
      "[400]\tcv_agg's l2: 0.187358 + 0.0231862\n",
      "[500]\tcv_agg's l2: 0.185324 + 0.0200979\n"
     ]
    },
    {
     "name": "stderr",
     "output_type": "stream",
     "text": [
      "bagging, val_score: 0.159254:  10%|#####3                                               | 1/10 [00:01<00:14,  1.65s/it][I 2023-10-28 22:49:41,732] Trial 27 finished with value: 0.18558863428808312 and parameters: {'bagging_fraction': 0.6197735130474766, 'bagging_freq': 7}. Best is trial 27 with value: 0.18558863428808312.\n",
      "bagging, val_score: 0.159254:  10%|#####3                                               | 1/10 [00:01<00:14,  1.65s/it]"
     ]
    },
    {
     "name": "stdout",
     "output_type": "stream",
     "text": [
      "Early stopping, best iteration is:\n",
      "[496]\tcv_agg's l2: 0.159254 + 0.0200867\n",
      "[100]\tcv_agg's l2: 0.177202 + 0.0270421\n",
      "[200]\tcv_agg's l2: 0.163632 + 0.0209672\n",
      "[300]\tcv_agg's l2: 0.158126 + 0.0185465\n",
      "[400]\tcv_agg's l2: 0.155561 + 0.0176018\n"
     ]
    },
    {
     "name": "stderr",
     "output_type": "stream",
     "text": [
      "\r",
      "bagging, val_score: 0.154977:  10%|#####3                                               | 1/10 [00:03<00:14,  1.65s/it]"
     ]
    },
    {
     "name": "stdout",
     "output_type": "stream",
     "text": [
      "[500]\tcv_agg's l2: 0.155409 + 0.0170373\n",
      "Early stopping, best iteration is:\n",
      "[457]\tcv_agg's l2: 0.154977 + 0.0172471\n"
     ]
    },
    {
     "name": "stderr",
     "output_type": "stream",
     "text": [
      "bagging, val_score: 0.154977:  20%|##########6                                          | 2/10 [00:03<00:12,  1.57s/it][I 2023-10-28 22:49:43,253] Trial 28 finished with value: 0.15497665711472974 and parameters: {'bagging_fraction': 0.9716649604350438, 'bagging_freq': 1}. Best is trial 28 with value: 0.15497665711472974.\n",
      "bagging, val_score: 0.154977:  20%|##########6                                          | 2/10 [00:03<00:12,  1.57s/it]"
     ]
    },
    {
     "name": "stdout",
     "output_type": "stream",
     "text": [
      "[100]\tcv_agg's l2: 0.174403 + 0.0198595\n",
      "[200]\tcv_agg's l2: 0.162528 + 0.0183925\n",
      "[300]\tcv_agg's l2: 0.157756 + 0.0187963\n",
      "[400]\tcv_agg's l2: 0.156094 + 0.0195104\n",
      "[500]\tcv_agg's l2: 0.155069 + 0.0197841\n",
      "[600]\tcv_agg's l2: 0.15487 + 0.0206512\n",
      "[700]\tcv_agg's l2: 0.154397 + 0.0202664\n",
      "[800]\tcv_agg's l2: 0.154394 + 0.0200742\n"
     ]
    },
    {
     "name": "stderr",
     "output_type": "stream",
     "text": [
      "bagging, val_score: 0.154256:  30%|###############9                                     | 3/10 [00:05<00:12,  1.76s/it][I 2023-10-28 22:49:45,237] Trial 29 finished with value: 0.15425578528468184 and parameters: {'bagging_fraction': 0.9959761646800922, 'bagging_freq': 1}. Best is trial 29 with value: 0.15425578528468184.\n",
      "bagging, val_score: 0.154256:  30%|###############9                                     | 3/10 [00:05<00:12,  1.76s/it]"
     ]
    },
    {
     "name": "stdout",
     "output_type": "stream",
     "text": [
      "Early stopping, best iteration is:\n",
      "[751]\tcv_agg's l2: 0.154256 + 0.0199635\n",
      "[100]\tcv_agg's l2: 0.177987 + 0.0229545\n",
      "[200]\tcv_agg's l2: 0.163844 + 0.0189239\n",
      "[300]\tcv_agg's l2: 0.158205 + 0.0178204\n",
      "[400]\tcv_agg's l2: 0.156553 + 0.017741\n",
      "[500]\tcv_agg's l2: 0.155129 + 0.0185536\n",
      "[600]\tcv_agg's l2: 0.154829 + 0.0187959\n",
      "[700]\tcv_agg's l2: 0.155238 + 0.019138\n"
     ]
    },
    {
     "name": "stderr",
     "output_type": "stream",
     "text": [
      "\r",
      "bagging, val_score: 0.154256:  30%|###############9                                     | 3/10 [00:07<00:12,  1.76s/it]"
     ]
    },
    {
     "name": "stdout",
     "output_type": "stream",
     "text": [
      "[800]\tcv_agg's l2: 0.15543 + 0.0193295\n",
      "Early stopping, best iteration is:\n",
      "[751]\tcv_agg's l2: 0.154256 + 0.0199635\n"
     ]
    },
    {
     "name": "stderr",
     "output_type": "stream",
     "text": [
      "bagging, val_score: 0.154256:  40%|#####################2                               | 4/10 [00:07<00:11,  1.93s/it][I 2023-10-28 22:49:47,429] Trial 30 finished with value: 0.15512482786428108 and parameters: {'bagging_fraction': 0.9867625575075784, 'bagging_freq': 1}. Best is trial 29 with value: 0.15425578528468184.\n",
      "bagging, val_score: 0.154256:  40%|#####################2                               | 4/10 [00:07<00:11,  1.93s/it]"
     ]
    },
    {
     "name": "stdout",
     "output_type": "stream",
     "text": [
      "[100]\tcv_agg's l2: 0.180888 + 0.0264224\n",
      "[200]\tcv_agg's l2: 0.166082 + 0.0234761\n",
      "[300]\tcv_agg's l2: 0.161435 + 0.0219186\n",
      "[400]\tcv_agg's l2: 0.160841 + 0.0207805\n",
      "[500]\tcv_agg's l2: 0.159414 + 0.0202688\n",
      "[600]\tcv_agg's l2: 0.159746 + 0.0203467\n",
      "[700]\tcv_agg's l2: 0.159432 + 0.0205377\n"
     ]
    },
    {
     "name": "stderr",
     "output_type": "stream",
     "text": [
      "bagging, val_score: 0.154256:  50%|##########################5                          | 5/10 [00:09<00:10,  2.01s/it][I 2023-10-28 22:49:49,567] Trial 31 finished with value: 0.15952432070188818 and parameters: {'bagging_fraction': 0.9993032363836147, 'bagging_freq': 1}. Best is trial 29 with value: 0.15425578528468184.\n",
      "bagging, val_score: 0.154256:  50%|##########################5                          | 5/10 [00:09<00:10,  2.01s/it]"
     ]
    },
    {
     "name": "stdout",
     "output_type": "stream",
     "text": [
      "[800]\tcv_agg's l2: 0.159801 + 0.0205865\n",
      "Early stopping, best iteration is:\n",
      "[751]\tcv_agg's l2: 0.154256 + 0.0199635\n",
      "[100]\tcv_agg's l2: 0.184605 + 0.0286451\n",
      "[200]\tcv_agg's l2: 0.171385 + 0.0244615\n",
      "[300]\tcv_agg's l2: 0.166634 + 0.0225985\n",
      "[400]\tcv_agg's l2: 0.165263 + 0.022362\n",
      "[500]\tcv_agg's l2: 0.163243 + 0.0212487\n",
      "[600]\tcv_agg's l2: 0.162616 + 0.0215183\n",
      "[700]\tcv_agg's l2: 0.16237 + 0.0216545\n"
     ]
    },
    {
     "name": "stderr",
     "output_type": "stream",
     "text": [
      "bagging, val_score: 0.154256:  60%|###############################8                     | 6/10 [00:11<00:08,  2.10s/it][I 2023-10-28 22:49:51,862] Trial 32 finished with value: 0.162164941205103 and parameters: {'bagging_fraction': 0.9774346663898202, 'bagging_freq': 1}. Best is trial 29 with value: 0.15425578528468184.\n",
      "bagging, val_score: 0.154256:  60%|###############################8                     | 6/10 [00:11<00:08,  2.10s/it]"
     ]
    },
    {
     "name": "stdout",
     "output_type": "stream",
     "text": [
      "[800]\tcv_agg's l2: 0.161852 + 0.0222096\n",
      "Early stopping, best iteration is:\n",
      "[751]\tcv_agg's l2: 0.154256 + 0.0199635\n",
      "[100]\tcv_agg's l2: 0.180699 + 0.0274273\n",
      "[200]\tcv_agg's l2: 0.168037 + 0.0239962\n",
      "[300]\tcv_agg's l2: 0.163043 + 0.0224866\n",
      "[400]\tcv_agg's l2: 0.161323 + 0.0211454\n",
      "[500]\tcv_agg's l2: 0.16058 + 0.0211241\n",
      "[600]\tcv_agg's l2: 0.160181 + 0.0207702\n",
      "[700]\tcv_agg's l2: 0.160152 + 0.0210821\n"
     ]
    },
    {
     "name": "stderr",
     "output_type": "stream",
     "text": [
      "bagging, val_score: 0.154256:  70%|#####################################                | 7/10 [00:14<00:06,  2.17s/it][I 2023-10-28 22:49:54,154] Trial 33 finished with value: 0.1597553710552461 and parameters: {'bagging_fraction': 0.9814069245456981, 'bagging_freq': 1}. Best is trial 29 with value: 0.15425578528468184.\n",
      "bagging, val_score: 0.154256:  70%|#####################################                | 7/10 [00:14<00:06,  2.17s/it]"
     ]
    },
    {
     "name": "stdout",
     "output_type": "stream",
     "text": [
      "[800]\tcv_agg's l2: 0.159653 + 0.021306\n",
      "Early stopping, best iteration is:\n",
      "[751]\tcv_agg's l2: 0.154256 + 0.0199635\n",
      "[100]\tcv_agg's l2: 0.196041 + 0.0353663\n",
      "[200]\tcv_agg's l2: 0.18059 + 0.0288363\n",
      "[300]\tcv_agg's l2: 0.174161 + 0.027375\n",
      "[400]\tcv_agg's l2: 0.17112 + 0.0248104\n",
      "[500]\tcv_agg's l2: 0.167387 + 0.0229315\n",
      "[600]\tcv_agg's l2: 0.166322 + 0.0210441\n",
      "[700]\tcv_agg's l2: 0.165521 + 0.0195563\n"
     ]
    },
    {
     "name": "stderr",
     "output_type": "stream",
     "text": [
      "bagging, val_score: 0.154256:  80%|##########################################4          | 8/10 [00:16<00:04,  2.31s/it][I 2023-10-28 22:49:56,770] Trial 34 finished with value: 0.16526940094231285 and parameters: {'bagging_fraction': 0.8428607205162764, 'bagging_freq': 3}. Best is trial 29 with value: 0.15425578528468184.\n",
      "bagging, val_score: 0.154256:  80%|##########################################4          | 8/10 [00:16<00:04,  2.31s/it]"
     ]
    },
    {
     "name": "stdout",
     "output_type": "stream",
     "text": [
      "[800]\tcv_agg's l2: 0.165056 + 0.0201591\n",
      "Early stopping, best iteration is:\n",
      "[751]\tcv_agg's l2: 0.154256 + 0.0199635\n",
      "[100]\tcv_agg's l2: 0.192488 + 0.0292723\n",
      "[200]\tcv_agg's l2: 0.178712 + 0.0230624\n",
      "[300]\tcv_agg's l2: 0.174447 + 0.0228918\n",
      "[400]\tcv_agg's l2: 0.172448 + 0.0223781\n",
      "[500]\tcv_agg's l2: 0.169965 + 0.0204702\n",
      "[600]\tcv_agg's l2: 0.168044 + 0.0199069\n",
      "[700]\tcv_agg's l2: 0.168457 + 0.0192263\n"
     ]
    },
    {
     "name": "stderr",
     "output_type": "stream",
     "text": [
      "bagging, val_score: 0.154256:  90%|###############################################7     | 9/10 [00:19<00:02,  2.35s/it][I 2023-10-28 22:49:59,210] Trial 35 finished with value: 0.16832095099522787 and parameters: {'bagging_fraction': 0.8009436434608382, 'bagging_freq': 3}. Best is trial 29 with value: 0.15425578528468184.\n",
      "bagging, val_score: 0.154256:  90%|###############################################7     | 9/10 [00:19<00:02,  2.35s/it]"
     ]
    },
    {
     "name": "stdout",
     "output_type": "stream",
     "text": [
      "[800]\tcv_agg's l2: 0.168507 + 0.0208053\n",
      "Early stopping, best iteration is:\n",
      "[751]\tcv_agg's l2: 0.154256 + 0.0199635\n",
      "[100]\tcv_agg's l2: 0.208395 + 0.0225807\n",
      "[200]\tcv_agg's l2: 0.194933 + 0.0213874\n",
      "[300]\tcv_agg's l2: 0.189601 + 0.0230571\n",
      "[400]\tcv_agg's l2: 0.185414 + 0.0215488\n",
      "[500]\tcv_agg's l2: 0.184172 + 0.0190522\n",
      "[600]\tcv_agg's l2: 0.182531 + 0.0189553\n",
      "[700]\tcv_agg's l2: 0.181354 + 0.0178665\n"
     ]
    },
    {
     "name": "stderr",
     "output_type": "stream",
     "text": [
      "\r",
      "bagging, val_score: 0.154256:  90%|###############################################7     | 9/10 [00:21<00:02,  2.35s/it]"
     ]
    },
    {
     "name": "stdout",
     "output_type": "stream",
     "text": [
      "[800]\tcv_agg's l2: 0.180755 + 0.0188971\n",
      "Early stopping, best iteration is:\n",
      "[751]\tcv_agg's l2: 0.154256 + 0.0199635\n"
     ]
    },
    {
     "name": "stderr",
     "output_type": "stream",
     "text": [
      "bagging, val_score: 0.154256: 100%|####################################################| 10/10 [00:21<00:00,  2.46s/it][I 2023-10-28 22:50:01,913] Trial 36 finished with value: 0.181254538705091 and parameters: {'bagging_fraction': 0.47770546643112455, 'bagging_freq': 1}. Best is trial 29 with value: 0.15425578528468184.\n",
      "bagging, val_score: 0.154256: 100%|####################################################| 10/10 [00:21<00:00,  2.18s/it]\n",
      "feature_fraction_stage2, val_score: 0.154256:   0%|                                              | 0/6 [00:00<?, ?it/s]"
     ]
    },
    {
     "name": "stdout",
     "output_type": "stream",
     "text": [
      "[100]\tcv_agg's l2: 0.178821 + 0.0279526\n",
      "[200]\tcv_agg's l2: 0.166785 + 0.0235565\n",
      "[300]\tcv_agg's l2: 0.162725 + 0.0210318\n",
      "[400]\tcv_agg's l2: 0.161295 + 0.0224351\n",
      "[500]\tcv_agg's l2: 0.161145 + 0.0232342\n",
      "[600]\tcv_agg's l2: 0.160544 + 0.0222773\n",
      "[700]\tcv_agg's l2: 0.159352 + 0.0226618\n",
      "[800]\tcv_agg's l2: 0.15928 + 0.0228492\n"
     ]
    },
    {
     "name": "stderr",
     "output_type": "stream",
     "text": [
      "feature_fraction_stage2, val_score: 0.154256:  17%|######3                               | 1/6 [00:02<00:12,  2.55s/it][I 2023-10-28 22:50:04,469] Trial 37 finished with value: 0.15931214777857244 and parameters: {'feature_fraction': 0.6799999999999999}. Best is trial 37 with value: 0.15931214777857244.\n",
      "feature_fraction_stage2, val_score: 0.154256:  17%|######3                               | 1/6 [00:02<00:12,  2.55s/it]"
     ]
    },
    {
     "name": "stdout",
     "output_type": "stream",
     "text": [
      "Early stopping, best iteration is:\n",
      "[751]\tcv_agg's l2: 0.154256 + 0.0199635\n",
      "[100]\tcv_agg's l2: 0.181312 + 0.0238175\n",
      "[200]\tcv_agg's l2: 0.166815 + 0.021627\n",
      "[300]\tcv_agg's l2: 0.162247 + 0.0207389\n",
      "[400]\tcv_agg's l2: 0.159917 + 0.0200854\n",
      "[500]\tcv_agg's l2: 0.158995 + 0.0200922\n",
      "[600]\tcv_agg's l2: 0.158192 + 0.0193921\n",
      "[700]\tcv_agg's l2: 0.157783 + 0.0194253\n"
     ]
    },
    {
     "name": "stderr",
     "output_type": "stream",
     "text": [
      "feature_fraction_stage2, val_score: 0.154256:  33%|############6                         | 2/6 [00:04<00:09,  2.29s/it][I 2023-10-28 22:50:06,570] Trial 38 finished with value: 0.15811124852142666 and parameters: {'feature_fraction': 0.552}. Best is trial 38 with value: 0.15811124852142666.\n",
      "feature_fraction_stage2, val_score: 0.154256:  33%|############6                         | 2/6 [00:04<00:09,  2.29s/it]"
     ]
    },
    {
     "name": "stdout",
     "output_type": "stream",
     "text": [
      "[800]\tcv_agg's l2: 0.158165 + 0.0199822\n",
      "Early stopping, best iteration is:\n",
      "[751]\tcv_agg's l2: 0.154256 + 0.0199635\n",
      "[100]\tcv_agg's l2: 0.174403 + 0.0198595\n",
      "[200]\tcv_agg's l2: 0.162528 + 0.0183925\n",
      "[300]\tcv_agg's l2: 0.157756 + 0.0187963\n",
      "[400]\tcv_agg's l2: 0.156094 + 0.0195104\n",
      "[500]\tcv_agg's l2: 0.155069 + 0.0197841\n",
      "[600]\tcv_agg's l2: 0.15487 + 0.0206512\n",
      "[700]\tcv_agg's l2: 0.154397 + 0.0202664\n"
     ]
    },
    {
     "name": "stderr",
     "output_type": "stream",
     "text": [
      "feature_fraction_stage2, val_score: 0.154256:  50%|###################                   | 3/6 [00:06<00:06,  2.11s/it][I 2023-10-28 22:50:08,466] Trial 39 finished with value: 0.15425578528468184 and parameters: {'feature_fraction': 0.584}. Best is trial 39 with value: 0.15425578528468184.\n",
      "feature_fraction_stage2, val_score: 0.154256:  50%|###################                   | 3/6 [00:06<00:06,  2.11s/it]"
     ]
    },
    {
     "name": "stdout",
     "output_type": "stream",
     "text": [
      "[800]\tcv_agg's l2: 0.154394 + 0.0200742\n",
      "Early stopping, best iteration is:\n",
      "[751]\tcv_agg's l2: 0.154256 + 0.0199635\n",
      "[100]\tcv_agg's l2: 0.181312 + 0.0238175\n",
      "[200]\tcv_agg's l2: 0.166815 + 0.021627\n",
      "[300]\tcv_agg's l2: 0.162247 + 0.0207389\n",
      "[400]\tcv_agg's l2: 0.159917 + 0.0200854\n",
      "[500]\tcv_agg's l2: 0.158995 + 0.0200922\n",
      "[600]\tcv_agg's l2: 0.158192 + 0.0193921\n",
      "[700]\tcv_agg's l2: 0.157783 + 0.0194253\n"
     ]
    },
    {
     "name": "stderr",
     "output_type": "stream",
     "text": [
      "feature_fraction_stage2, val_score: 0.154256:  67%|#########################3            | 4/6 [00:08<00:04,  2.08s/it][I 2023-10-28 22:50:10,495] Trial 40 finished with value: 0.15811124852142666 and parameters: {'feature_fraction': 0.52}. Best is trial 39 with value: 0.15425578528468184.\n",
      "feature_fraction_stage2, val_score: 0.154256:  67%|#########################3            | 4/6 [00:08<00:04,  2.08s/it]"
     ]
    },
    {
     "name": "stdout",
     "output_type": "stream",
     "text": [
      "[800]\tcv_agg's l2: 0.158165 + 0.0199822\n",
      "Early stopping, best iteration is:\n",
      "[751]\tcv_agg's l2: 0.154256 + 0.0199635\n",
      "[100]\tcv_agg's l2: 0.174403 + 0.0198595\n",
      "[200]\tcv_agg's l2: 0.162528 + 0.0183925\n",
      "[300]\tcv_agg's l2: 0.157756 + 0.0187963\n",
      "[400]\tcv_agg's l2: 0.156094 + 0.0195104\n",
      "[500]\tcv_agg's l2: 0.155069 + 0.0197841\n",
      "[600]\tcv_agg's l2: 0.15487 + 0.0206512\n",
      "[700]\tcv_agg's l2: 0.154397 + 0.0202664\n"
     ]
    },
    {
     "name": "stderr",
     "output_type": "stream",
     "text": [
      "feature_fraction_stage2, val_score: 0.154256:  83%|###############################6      | 5/6 [00:10<00:02,  2.11s/it][I 2023-10-28 22:50:12,679] Trial 41 finished with value: 0.15425578528468184 and parameters: {'feature_fraction': 0.616}. Best is trial 39 with value: 0.15425578528468184.\n",
      "feature_fraction_stage2, val_score: 0.154256:  83%|###############################6      | 5/6 [00:10<00:02,  2.11s/it]"
     ]
    },
    {
     "name": "stdout",
     "output_type": "stream",
     "text": [
      "[800]\tcv_agg's l2: 0.154394 + 0.0200742\n",
      "Early stopping, best iteration is:\n",
      "[751]\tcv_agg's l2: 0.154256 + 0.0199635\n",
      "[100]\tcv_agg's l2: 0.174403 + 0.0198595\n",
      "[200]\tcv_agg's l2: 0.162528 + 0.0183925\n",
      "[300]\tcv_agg's l2: 0.157756 + 0.0187963\n",
      "[400]\tcv_agg's l2: 0.156094 + 0.0195104\n",
      "[500]\tcv_agg's l2: 0.155069 + 0.0197841\n",
      "[600]\tcv_agg's l2: 0.15487 + 0.0206512\n",
      "[700]\tcv_agg's l2: 0.154397 + 0.0202664\n"
     ]
    },
    {
     "name": "stderr",
     "output_type": "stream",
     "text": [
      "feature_fraction_stage2, val_score: 0.154256: 100%|######################################| 6/6 [00:12<00:00,  2.14s/it][I 2023-10-28 22:50:14,860] Trial 42 finished with value: 0.15425578528468184 and parameters: {'feature_fraction': 0.6479999999999999}. Best is trial 39 with value: 0.15425578528468184.\n",
      "feature_fraction_stage2, val_score: 0.154256: 100%|######################################| 6/6 [00:12<00:00,  2.16s/it]\n"
     ]
    },
    {
     "name": "stdout",
     "output_type": "stream",
     "text": [
      "[800]\tcv_agg's l2: 0.154394 + 0.0200742\n",
      "Early stopping, best iteration is:\n",
      "[751]\tcv_agg's l2: 0.154256 + 0.0199635\n"
     ]
    },
    {
     "name": "stderr",
     "output_type": "stream",
     "text": [
      "regularization_factors, val_score: 0.154256:   0%|                                              | 0/20 [00:00<?, ?it/s]"
     ]
    },
    {
     "name": "stdout",
     "output_type": "stream",
     "text": [
      "[100]\tcv_agg's l2: 0.174646 + 0.0202559\n",
      "[200]\tcv_agg's l2: 0.160988 + 0.0173474\n",
      "[300]\tcv_agg's l2: 0.157327 + 0.017169\n",
      "[400]\tcv_agg's l2: 0.156757 + 0.017954\n",
      "[500]\tcv_agg's l2: 0.156642 + 0.0184822\n",
      "[600]\tcv_agg's l2: 0.156459 + 0.0188504\n",
      "[700]\tcv_agg's l2: 0.156573 + 0.0187728\n"
     ]
    },
    {
     "name": "stderr",
     "output_type": "stream",
     "text": [
      "\r",
      "regularization_factors, val_score: 0.154256:   0%|                                              | 0/20 [00:02<?, ?it/s]"
     ]
    },
    {
     "name": "stdout",
     "output_type": "stream",
     "text": [
      "[800]\tcv_agg's l2: 0.156503 + 0.0187647\n",
      "Early stopping, best iteration is:\n",
      "[751]\tcv_agg's l2: 0.154256 + 0.0199635\n"
     ]
    },
    {
     "name": "stderr",
     "output_type": "stream",
     "text": [
      "regularization_factors, val_score: 0.154256:   5%|#9                                    | 1/20 [00:02<00:44,  2.36s/it][I 2023-10-28 22:50:17,232] Trial 43 finished with value: 0.1564158711627962 and parameters: {'lambda_l1': 0.033143188735004575, 'lambda_l2': 4.1903086333671225e-05}. Best is trial 43 with value: 0.1564158711627962.\n",
      "regularization_factors, val_score: 0.154256:   5%|#9                                    | 1/20 [00:02<00:44,  2.36s/it]"
     ]
    },
    {
     "name": "stdout",
     "output_type": "stream",
     "text": [
      "[100]\tcv_agg's l2: 0.194358 + 0.0340043\n",
      "[200]\tcv_agg's l2: 0.180208 + 0.0282582\n",
      "[300]\tcv_agg's l2: 0.17576 + 0.0256168\n",
      "[400]\tcv_agg's l2: 0.173628 + 0.0250612\n",
      "[500]\tcv_agg's l2: 0.173121 + 0.0251649\n",
      "[600]\tcv_agg's l2: 0.172466 + 0.0244704\n",
      "[700]\tcv_agg's l2: 0.171477 + 0.0239338\n"
     ]
    },
    {
     "name": "stderr",
     "output_type": "stream",
     "text": [
      "regularization_factors, val_score: 0.154256:  10%|###8                                  | 2/20 [00:04<00:39,  2.22s/it][I 2023-10-28 22:50:19,353] Trial 44 finished with value: 0.17076676247580674 and parameters: {'lambda_l1': 2.4298598407601984e-08, 'lambda_l2': 3.2624491604092953}. Best is trial 43 with value: 0.1564158711627962.\n",
      "regularization_factors, val_score: 0.154256:  10%|###8                                  | 2/20 [00:04<00:39,  2.22s/it]"
     ]
    },
    {
     "name": "stdout",
     "output_type": "stream",
     "text": [
      "[800]\tcv_agg's l2: 0.171278 + 0.0231433\n",
      "Early stopping, best iteration is:\n",
      "[751]\tcv_agg's l2: 0.154256 + 0.0199635\n",
      "[100]\tcv_agg's l2: 0.192014 + 0.026316\n",
      "[200]\tcv_agg's l2: 0.18362 + 0.0246267\n",
      "[300]\tcv_agg's l2: 0.182616 + 0.0248006\n",
      "[400]\tcv_agg's l2: 0.182456 + 0.0248598\n",
      "[500]\tcv_agg's l2: 0.182445 + 0.0248639\n",
      "[600]\tcv_agg's l2: 0.182445 + 0.0248639\n",
      "[700]\tcv_agg's l2: 0.182445 + 0.0248639\n"
     ]
    },
    {
     "name": "stderr",
     "output_type": "stream",
     "text": [
      "regularization_factors, val_score: 0.154256:  15%|#####7                                | 3/20 [00:05<00:29,  1.72s/it][I 2023-10-28 22:50:20,484] Trial 45 finished with value: 0.1824453156570352 and parameters: {'lambda_l1': 3.138499272108296, 'lambda_l2': 1.8030645544100038e-08}. Best is trial 43 with value: 0.1564158711627962.\n",
      "regularization_factors, val_score: 0.154256:  15%|#####7                                | 3/20 [00:05<00:29,  1.72s/it]"
     ]
    },
    {
     "name": "stdout",
     "output_type": "stream",
     "text": [
      "[800]\tcv_agg's l2: 0.182445 + 0.0248639\n",
      "Early stopping, best iteration is:\n",
      "[751]\tcv_agg's l2: 0.154256 + 0.0199635\n",
      "[100]\tcv_agg's l2: 0.177733 + 0.0207243\n",
      "[200]\tcv_agg's l2: 0.166036 + 0.0201077\n",
      "[300]\tcv_agg's l2: 0.161951 + 0.019653\n",
      "[400]\tcv_agg's l2: 0.160936 + 0.0198042\n",
      "[500]\tcv_agg's l2: 0.159505 + 0.0198834\n",
      "[600]\tcv_agg's l2: 0.159132 + 0.0200263\n",
      "[700]\tcv_agg's l2: 0.159027 + 0.0204045\n"
     ]
    },
    {
     "name": "stderr",
     "output_type": "stream",
     "text": [
      "regularization_factors, val_score: 0.154256:  20%|#######6                              | 4/20 [00:07<00:28,  1.81s/it][I 2023-10-28 22:50:22,426] Trial 46 finished with value: 0.15914522649778806 and parameters: {'lambda_l1': 1.1760276962230996e-05, 'lambda_l2': 1.4360872265017184}. Best is trial 43 with value: 0.1564158711627962.\n",
      "regularization_factors, val_score: 0.154256:  20%|#######6                              | 4/20 [00:07<00:28,  1.81s/it]"
     ]
    },
    {
     "name": "stdout",
     "output_type": "stream",
     "text": [
      "[800]\tcv_agg's l2: 0.159158 + 0.0197905\n",
      "Early stopping, best iteration is:\n",
      "[751]\tcv_agg's l2: 0.154256 + 0.0199635\n",
      "[100]\tcv_agg's l2: 0.174654 + 0.019813\n",
      "[200]\tcv_agg's l2: 0.16236 + 0.0184535\n",
      "[300]\tcv_agg's l2: 0.157113 + 0.0180739\n",
      "[400]\tcv_agg's l2: 0.155835 + 0.0182073\n",
      "[500]\tcv_agg's l2: 0.155001 + 0.0186602\n",
      "[600]\tcv_agg's l2: 0.1549 + 0.0201823\n",
      "[700]\tcv_agg's l2: 0.154708 + 0.0200464\n"
     ]
    },
    {
     "name": "stderr",
     "output_type": "stream",
     "text": [
      "regularization_factors, val_score: 0.154256:  25%|#########5                            | 5/20 [00:09<00:28,  1.87s/it][I 2023-10-28 22:50:24,406] Trial 47 finished with value: 0.15496801356158635 and parameters: {'lambda_l1': 0.0001441553333377823, 'lambda_l2': 1.2217834076125424e-08}. Best is trial 47 with value: 0.15496801356158635.\n",
      "regularization_factors, val_score: 0.154256:  25%|#########5                            | 5/20 [00:09<00:28,  1.87s/it]"
     ]
    },
    {
     "name": "stdout",
     "output_type": "stream",
     "text": [
      "[800]\tcv_agg's l2: 0.154865 + 0.0204823\n",
      "Early stopping, best iteration is:\n",
      "[751]\tcv_agg's l2: 0.154256 + 0.0199635\n",
      "[100]\tcv_agg's l2: 0.174403 + 0.0198596\n",
      "[200]\tcv_agg's l2: 0.162528 + 0.0183926\n",
      "[300]\tcv_agg's l2: 0.157756 + 0.0187963\n",
      "[400]\tcv_agg's l2: 0.156094 + 0.0195104\n",
      "[500]\tcv_agg's l2: 0.155069 + 0.0197841\n",
      "[600]\tcv_agg's l2: 0.15487 + 0.0206511\n",
      "[700]\tcv_agg's l2: 0.154396 + 0.0202663\n"
     ]
    },
    {
     "name": "stderr",
     "output_type": "stream",
     "text": [
      "regularization_factors, val_score: 0.154256:  30%|###########4                          | 6/20 [00:11<00:27,  1.97s/it][I 2023-10-28 22:50:26,572] Trial 48 finished with value: 0.15425558810920145 and parameters: {'lambda_l1': 4.192990051638167e-05, 'lambda_l2': 1.166248534532327e-08}. Best is trial 48 with value: 0.15425558810920145.\n",
      "regularization_factors, val_score: 0.154256:  30%|###########4                          | 6/20 [00:11<00:27,  1.97s/it]"
     ]
    },
    {
     "name": "stdout",
     "output_type": "stream",
     "text": [
      "[800]\tcv_agg's l2: 0.154384 + 0.0200797\n",
      "Early stopping, best iteration is:\n",
      "[751]\tcv_agg's l2: 0.154256 + 0.0199635\n",
      "[100]\tcv_agg's l2: 0.174403 + 0.0198595\n",
      "[200]\tcv_agg's l2: 0.162528 + 0.0183925\n",
      "[300]\tcv_agg's l2: 0.157756 + 0.0187963\n",
      "[400]\tcv_agg's l2: 0.156094 + 0.0195104\n",
      "[500]\tcv_agg's l2: 0.155069 + 0.0197841\n",
      "[600]\tcv_agg's l2: 0.15487 + 0.0206512\n",
      "[700]\tcv_agg's l2: 0.154397 + 0.0202664\n"
     ]
    },
    {
     "name": "stderr",
     "output_type": "stream",
     "text": [
      "regularization_factors, val_score: 0.154256:  35%|#############3                        | 7/20 [00:13<00:26,  2.06s/it][I 2023-10-28 22:50:28,831] Trial 49 finished with value: 0.15425577069084123 and parameters: {'lambda_l1': 2.681281206869204e-06, 'lambda_l2': 4.453138080719302e-06}. Best is trial 48 with value: 0.15425558810920145.\n",
      "regularization_factors, val_score: 0.154256:  35%|#############3                        | 7/20 [00:13<00:26,  2.06s/it]"
     ]
    },
    {
     "name": "stdout",
     "output_type": "stream",
     "text": [
      "[800]\tcv_agg's l2: 0.154394 + 0.0200742\n",
      "Early stopping, best iteration is:\n",
      "[751]\tcv_agg's l2: 0.154256 + 0.0199635\n",
      "[100]\tcv_agg's l2: 0.174403 + 0.0198595\n",
      "[200]\tcv_agg's l2: 0.162528 + 0.0183925\n",
      "[300]\tcv_agg's l2: 0.157756 + 0.0187963\n",
      "[400]\tcv_agg's l2: 0.156094 + 0.0195104\n",
      "[500]\tcv_agg's l2: 0.155069 + 0.0197841\n",
      "[600]\tcv_agg's l2: 0.15487 + 0.0206512\n",
      "[700]\tcv_agg's l2: 0.154397 + 0.0202664\n"
     ]
    },
    {
     "name": "stderr",
     "output_type": "stream",
     "text": [
      "regularization_factors, val_score: 0.154256:  40%|###############2                      | 8/20 [00:16<00:24,  2.07s/it][I 2023-10-28 22:50:30,906] Trial 50 finished with value: 0.15425576767751364 and parameters: {'lambda_l1': 3.517903612116391e-06, 'lambda_l2': 2.2978033855534845e-06}. Best is trial 48 with value: 0.15425558810920145.\n",
      "regularization_factors, val_score: 0.154256:  40%|###############2                      | 8/20 [00:16<00:24,  2.07s/it]"
     ]
    },
    {
     "name": "stdout",
     "output_type": "stream",
     "text": [
      "[800]\tcv_agg's l2: 0.154394 + 0.0200742\n",
      "Early stopping, best iteration is:\n",
      "[751]\tcv_agg's l2: 0.154256 + 0.0199635\n",
      "[100]\tcv_agg's l2: 0.174403 + 0.0198595\n",
      "[200]\tcv_agg's l2: 0.162528 + 0.0183925\n",
      "[300]\tcv_agg's l2: 0.157756 + 0.0187963\n",
      "[400]\tcv_agg's l2: 0.156094 + 0.0195104\n",
      "[500]\tcv_agg's l2: 0.155069 + 0.0197841\n",
      "[600]\tcv_agg's l2: 0.15487 + 0.0206512\n",
      "[700]\tcv_agg's l2: 0.154397 + 0.0202664\n"
     ]
    },
    {
     "name": "stderr",
     "output_type": "stream",
     "text": [
      "regularization_factors, val_score: 0.154256:  45%|#################1                    | 9/20 [00:18<00:22,  2.06s/it][I 2023-10-28 22:50:32,947] Trial 51 finished with value: 0.1542557686336584 and parameters: {'lambda_l1': 3.2861038495081004e-06, 'lambda_l2': 2.908044445915921e-06}. Best is trial 48 with value: 0.15425558810920145.\n",
      "regularization_factors, val_score: 0.154256:  45%|#################1                    | 9/20 [00:18<00:22,  2.06s/it]"
     ]
    },
    {
     "name": "stdout",
     "output_type": "stream",
     "text": [
      "[800]\tcv_agg's l2: 0.154394 + 0.0200742\n",
      "Early stopping, best iteration is:\n",
      "[751]\tcv_agg's l2: 0.154256 + 0.0199635\n",
      "[100]\tcv_agg's l2: 0.174403 + 0.0198595\n",
      "[200]\tcv_agg's l2: 0.162528 + 0.0183925\n",
      "[300]\tcv_agg's l2: 0.157756 + 0.0187963\n",
      "[400]\tcv_agg's l2: 0.156094 + 0.0195104\n",
      "[500]\tcv_agg's l2: 0.155069 + 0.0197841\n",
      "[600]\tcv_agg's l2: 0.15487 + 0.0206512\n",
      "[700]\tcv_agg's l2: 0.154397 + 0.0202664\n"
     ]
    },
    {
     "name": "stderr",
     "output_type": "stream",
     "text": [
      "regularization_factors, val_score: 0.154256:  50%|##################5                  | 10/20 [00:20<00:20,  2.03s/it][I 2023-10-28 22:50:34,911] Trial 52 finished with value: 0.1542557696009733 and parameters: {'lambda_l1': 3.0090449387231227e-06, 'lambda_l2': 3.4607427052361663e-06}. Best is trial 48 with value: 0.15425558810920145.\n",
      "regularization_factors, val_score: 0.154256:  50%|##################5                  | 10/20 [00:20<00:20,  2.03s/it]"
     ]
    },
    {
     "name": "stdout",
     "output_type": "stream",
     "text": [
      "[800]\tcv_agg's l2: 0.154394 + 0.0200742\n",
      "Early stopping, best iteration is:\n",
      "[751]\tcv_agg's l2: 0.154256 + 0.0199635\n",
      "[100]\tcv_agg's l2: 0.174403 + 0.0198595\n",
      "[200]\tcv_agg's l2: 0.162528 + 0.0183925\n",
      "[300]\tcv_agg's l2: 0.157756 + 0.0187963\n",
      "[400]\tcv_agg's l2: 0.156094 + 0.0195104\n",
      "[500]\tcv_agg's l2: 0.155069 + 0.0197841\n",
      "[600]\tcv_agg's l2: 0.15487 + 0.0206512\n",
      "[700]\tcv_agg's l2: 0.154397 + 0.0202664\n"
     ]
    },
    {
     "name": "stderr",
     "output_type": "stream",
     "text": [
      "regularization_factors, val_score: 0.154256:  55%|####################3                | 11/20 [00:21<00:17,  1.98s/it][I 2023-10-28 22:50:36,770] Trial 53 finished with value: 0.15425577098991194 and parameters: {'lambda_l1': 2.704720461718747e-06, 'lambda_l2': 3.5136052158498193e-06}. Best is trial 48 with value: 0.15425558810920145.\n",
      "regularization_factors, val_score: 0.154256:  55%|####################3                | 11/20 [00:21<00:17,  1.98s/it]"
     ]
    },
    {
     "name": "stdout",
     "output_type": "stream",
     "text": [
      "[800]\tcv_agg's l2: 0.154394 + 0.0200742\n",
      "Early stopping, best iteration is:\n",
      "[751]\tcv_agg's l2: 0.154256 + 0.0199635\n",
      "[100]\tcv_agg's l2: 0.174403 + 0.0198595\n",
      "[200]\tcv_agg's l2: 0.162528 + 0.0183925\n",
      "[300]\tcv_agg's l2: 0.157756 + 0.0187963\n",
      "[400]\tcv_agg's l2: 0.156094 + 0.0195104\n",
      "[500]\tcv_agg's l2: 0.155069 + 0.0197841\n",
      "[600]\tcv_agg's l2: 0.15487 + 0.0206512\n",
      "[700]\tcv_agg's l2: 0.154397 + 0.0202664\n"
     ]
    },
    {
     "name": "stderr",
     "output_type": "stream",
     "text": [
      "regularization_factors, val_score: 0.154256:  60%|######################2              | 12/20 [00:23<00:15,  1.95s/it][I 2023-10-28 22:50:38,664] Trial 54 finished with value: 0.1542557649506689 and parameters: {'lambda_l1': 3.869419387419809e-06, 'lambda_l2': 5.028965158429643e-06}. Best is trial 48 with value: 0.15425558810920145.\n",
      "regularization_factors, val_score: 0.154256:  60%|######################2              | 12/20 [00:23<00:15,  1.95s/it]"
     ]
    },
    {
     "name": "stdout",
     "output_type": "stream",
     "text": [
      "[800]\tcv_agg's l2: 0.154394 + 0.0200742\n",
      "Early stopping, best iteration is:\n",
      "[751]\tcv_agg's l2: 0.154256 + 0.0199635\n",
      "[100]\tcv_agg's l2: 0.174403 + 0.0198595\n",
      "[200]\tcv_agg's l2: 0.162528 + 0.0183925\n",
      "[300]\tcv_agg's l2: 0.157756 + 0.0187963\n",
      "[400]\tcv_agg's l2: 0.156094 + 0.0195104\n",
      "[500]\tcv_agg's l2: 0.155069 + 0.0197841\n",
      "[600]\tcv_agg's l2: 0.15487 + 0.0206512\n",
      "[700]\tcv_agg's l2: 0.154397 + 0.0202664\n"
     ]
    },
    {
     "name": "stderr",
     "output_type": "stream",
     "text": [
      "regularization_factors, val_score: 0.154256:  65%|########################             | 13/20 [00:25<00:13,  1.98s/it][I 2023-10-28 22:50:40,719] Trial 55 finished with value: 0.15425576995958462 and parameters: {'lambda_l1': 2.811679235260999e-06, 'lambda_l2': 5.1223922152039695e-06}. Best is trial 48 with value: 0.15425558810920145.\n",
      "regularization_factors, val_score: 0.154256:  65%|########################             | 13/20 [00:25<00:13,  1.98s/it]"
     ]
    },
    {
     "name": "stdout",
     "output_type": "stream",
     "text": [
      "[800]\tcv_agg's l2: 0.154394 + 0.0200742\n",
      "Early stopping, best iteration is:\n",
      "[751]\tcv_agg's l2: 0.154256 + 0.0199635\n",
      "[100]\tcv_agg's l2: 0.174403 + 0.0198595\n",
      "[200]\tcv_agg's l2: 0.162528 + 0.0183925\n",
      "[300]\tcv_agg's l2: 0.157756 + 0.0187963\n",
      "[400]\tcv_agg's l2: 0.156094 + 0.0195104\n",
      "[500]\tcv_agg's l2: 0.155069 + 0.0197841\n",
      "[600]\tcv_agg's l2: 0.15487 + 0.0206512\n",
      "[700]\tcv_agg's l2: 0.154397 + 0.0202664\n"
     ]
    },
    {
     "name": "stderr",
     "output_type": "stream",
     "text": [
      "regularization_factors, val_score: 0.154256:  70%|#########################9           | 14/20 [00:27<00:12,  2.00s/it][I 2023-10-28 22:50:42,759] Trial 56 finished with value: 0.15425577197450266 and parameters: {'lambda_l1': 2.6695479455622547e-06, 'lambda_l2': 1.750626630670602e-06}. Best is trial 48 with value: 0.15425558810920145.\n",
      "regularization_factors, val_score: 0.154256:  70%|#########################9           | 14/20 [00:27<00:12,  2.00s/it]"
     ]
    },
    {
     "name": "stdout",
     "output_type": "stream",
     "text": [
      "[800]\tcv_agg's l2: 0.154394 + 0.0200742\n",
      "Early stopping, best iteration is:\n",
      "[751]\tcv_agg's l2: 0.154256 + 0.0199635\n",
      "[100]\tcv_agg's l2: 0.174403 + 0.0198595\n",
      "[200]\tcv_agg's l2: 0.162528 + 0.0183925\n",
      "[300]\tcv_agg's l2: 0.157756 + 0.0187963\n",
      "[400]\tcv_agg's l2: 0.156094 + 0.0195104\n",
      "[500]\tcv_agg's l2: 0.155069 + 0.0197841\n",
      "[600]\tcv_agg's l2: 0.15487 + 0.0206512\n",
      "[700]\tcv_agg's l2: 0.154397 + 0.0202664\n"
     ]
    },
    {
     "name": "stderr",
     "output_type": "stream",
     "text": [
      "regularization_factors, val_score: 0.154256:  75%|###########################7         | 15/20 [00:30<00:10,  2.06s/it][I 2023-10-28 22:50:44,955] Trial 57 finished with value: 0.15425577262936543 and parameters: {'lambda_l1': 2.5955252429959247e-06, 'lambda_l2': 1.119585417271998e-06}. Best is trial 48 with value: 0.15425558810920145.\n",
      "regularization_factors, val_score: 0.154256:  75%|###########################7         | 15/20 [00:30<00:10,  2.06s/it]"
     ]
    },
    {
     "name": "stdout",
     "output_type": "stream",
     "text": [
      "[800]\tcv_agg's l2: 0.154394 + 0.0200742\n",
      "Early stopping, best iteration is:\n",
      "[751]\tcv_agg's l2: 0.154256 + 0.0199635\n",
      "[100]\tcv_agg's l2: 0.174403 + 0.0198596\n",
      "[200]\tcv_agg's l2: 0.162528 + 0.0183926\n",
      "[300]\tcv_agg's l2: 0.157756 + 0.0187963\n",
      "[400]\tcv_agg's l2: 0.156094 + 0.0195104\n",
      "[500]\tcv_agg's l2: 0.155069 + 0.0197841\n",
      "[600]\tcv_agg's l2: 0.15487 + 0.0206512\n",
      "[700]\tcv_agg's l2: 0.154397 + 0.0202664\n"
     ]
    },
    {
     "name": "stderr",
     "output_type": "stream",
     "text": [
      "regularization_factors, val_score: 0.154256:  80%|#############################6       | 16/20 [00:31<00:08,  2.01s/it][I 2023-10-28 22:50:46,841] Trial 58 finished with value: 0.154255715306487 and parameters: {'lambda_l1': 1.4829993713738887e-05, 'lambda_l2': 4.0100949682045124e-07}. Best is trial 48 with value: 0.15425558810920145.\n",
      "regularization_factors, val_score: 0.154256:  80%|#############################6       | 16/20 [00:31<00:08,  2.01s/it]"
     ]
    },
    {
     "name": "stdout",
     "output_type": "stream",
     "text": [
      "[800]\tcv_agg's l2: 0.154385 + 0.0200798\n",
      "Early stopping, best iteration is:\n",
      "[751]\tcv_agg's l2: 0.154256 + 0.0199635\n",
      "[100]\tcv_agg's l2: 0.174403 + 0.0198596\n",
      "[200]\tcv_agg's l2: 0.162528 + 0.0183926\n",
      "[300]\tcv_agg's l2: 0.157756 + 0.0187963\n",
      "[400]\tcv_agg's l2: 0.156094 + 0.0195104\n",
      "[500]\tcv_agg's l2: 0.155069 + 0.0197841\n",
      "[600]\tcv_agg's l2: 0.15487 + 0.0206511\n",
      "[700]\tcv_agg's l2: 0.154396 + 0.0202664\n"
     ]
    },
    {
     "name": "stderr",
     "output_type": "stream",
     "text": [
      "regularization_factors, val_score: 0.154256:  85%|###############################4     | 17/20 [00:33<00:06,  2.01s/it][I 2023-10-28 22:50:48,843] Trial 59 finished with value: 0.1542556206038012 and parameters: {'lambda_l1': 3.5010303061648705e-05, 'lambda_l2': 2.2472784346529377e-07}. Best is trial 48 with value: 0.15425558810920145.\n",
      "regularization_factors, val_score: 0.154256:  85%|###############################4     | 17/20 [00:33<00:06,  2.01s/it]"
     ]
    },
    {
     "name": "stdout",
     "output_type": "stream",
     "text": [
      "[800]\tcv_agg's l2: 0.154384 + 0.0200798\n",
      "Early stopping, best iteration is:\n",
      "[751]\tcv_agg's l2: 0.154256 + 0.0199635\n",
      "[100]\tcv_agg's l2: 0.174403 + 0.0198596\n",
      "[200]\tcv_agg's l2: 0.162528 + 0.0183926\n",
      "[300]\tcv_agg's l2: 0.157756 + 0.0187962\n",
      "[400]\tcv_agg's l2: 0.156094 + 0.0195104\n",
      "[500]\tcv_agg's l2: 0.155069 + 0.0197841\n",
      "[600]\tcv_agg's l2: 0.15487 + 0.0206511\n",
      "[700]\tcv_agg's l2: 0.154396 + 0.0202663\n",
      "[800]\tcv_agg's l2: 0.154384 + 0.0200797\n"
     ]
    },
    {
     "name": "stderr",
     "output_type": "stream",
     "text": [
      "regularization_factors, val_score: 0.154256:  90%|#################################3   | 18/20 [00:35<00:03,  1.97s/it][I 2023-10-28 22:50:50,739] Trial 60 finished with value: 0.1542555187954159 and parameters: {'lambda_l1': 5.66099728266048e-05, 'lambda_l2': 1.993049644919911e-07}. Best is trial 60 with value: 0.1542555187954159.\n",
      "regularization_factors, val_score: 0.154256:  90%|#################################3   | 18/20 [00:35<00:03,  1.97s/it]"
     ]
    },
    {
     "name": "stdout",
     "output_type": "stream",
     "text": [
      "Early stopping, best iteration is:\n",
      "[751]\tcv_agg's l2: 0.154256 + 0.0199635\n",
      "[100]\tcv_agg's l2: 0.174403 + 0.0198596\n",
      "[200]\tcv_agg's l2: 0.162528 + 0.0183926\n",
      "[300]\tcv_agg's l2: 0.157776 + 0.0187692\n",
      "[400]\tcv_agg's l2: 0.156712 + 0.0189861\n",
      "[500]\tcv_agg's l2: 0.155483 + 0.0193463\n",
      "[600]\tcv_agg's l2: 0.155266 + 0.0202216\n",
      "[700]\tcv_agg's l2: 0.155096 + 0.0196538\n",
      "[800]\tcv_agg's l2: 0.154974 + 0.0194972\n"
     ]
    },
    {
     "name": "stderr",
     "output_type": "stream",
     "text": [
      "regularization_factors, val_score: 0.154256:  95%|###################################1 | 19/20 [00:37<00:01,  1.95s/it][I 2023-10-28 22:50:52,652] Trial 61 finished with value: 0.15487451943620684 and parameters: {'lambda_l1': 7.733889749288507e-05, 'lambda_l2': 9.035614439875014e-08}. Best is trial 60 with value: 0.1542555187954159.\n",
      "regularization_factors, val_score: 0.154256:  95%|###################################1 | 19/20 [00:37<00:01,  1.95s/it]"
     ]
    },
    {
     "name": "stdout",
     "output_type": "stream",
     "text": [
      "Early stopping, best iteration is:\n",
      "[751]\tcv_agg's l2: 0.154256 + 0.0199635\n",
      "[100]\tcv_agg's l2: 0.174403 + 0.0198596\n",
      "[200]\tcv_agg's l2: 0.162528 + 0.0183926\n",
      "[300]\tcv_agg's l2: 0.157756 + 0.0187963\n",
      "[400]\tcv_agg's l2: 0.156094 + 0.0195104\n",
      "[500]\tcv_agg's l2: 0.155069 + 0.0197841\n",
      "[600]\tcv_agg's l2: 0.15487 + 0.0206511\n",
      "[700]\tcv_agg's l2: 0.154396 + 0.0202663\n",
      "[800]\tcv_agg's l2: 0.154384 + 0.0200797\n"
     ]
    },
    {
     "name": "stderr",
     "output_type": "stream",
     "text": [
      "regularization_factors, val_score: 0.154256: 100%|#####################################| 20/20 [00:39<00:00,  1.93s/it][I 2023-10-28 22:50:54,526] Trial 62 finished with value: 0.15425558410460055 and parameters: {'lambda_l1': 4.2751232379292164e-05, 'lambda_l2': 2.3151512288411625e-07}. Best is trial 60 with value: 0.1542555187954159.\n",
      "regularization_factors, val_score: 0.154256: 100%|#####################################| 20/20 [00:39<00:00,  1.98s/it]\n"
     ]
    },
    {
     "name": "stdout",
     "output_type": "stream",
     "text": [
      "Early stopping, best iteration is:\n",
      "[751]\tcv_agg's l2: 0.154256 + 0.0199635\n"
     ]
    },
    {
     "name": "stderr",
     "output_type": "stream",
     "text": [
      "min_data_in_leaf, val_score: 0.154256:   0%|                                                     | 0/5 [00:00<?, ?it/s]"
     ]
    },
    {
     "name": "stdout",
     "output_type": "stream",
     "text": [
      "[100]\tcv_agg's l2: 0.187829 + 0.0199101\n",
      "[200]\tcv_agg's l2: 0.173267 + 0.0182758\n",
      "[300]\tcv_agg's l2: 0.16839 + 0.0175449\n",
      "[400]\tcv_agg's l2: 0.165268 + 0.0173373\n",
      "[500]\tcv_agg's l2: 0.162652 + 0.0176482\n",
      "[600]\tcv_agg's l2: 0.161926 + 0.0172501\n",
      "[700]\tcv_agg's l2: 0.161144 + 0.0171869\n"
     ]
    },
    {
     "name": "stderr",
     "output_type": "stream",
     "text": [
      "min_data_in_leaf, val_score: 0.154256:  20%|#########                                    | 1/5 [00:01<00:07,  1.99s/it][I 2023-10-28 22:50:56,521] Trial 63 finished with value: 0.160800094245542 and parameters: {'min_child_samples': 25}. Best is trial 63 with value: 0.160800094245542.\n",
      "min_data_in_leaf, val_score: 0.154256:  20%|#########                                    | 1/5 [00:01<00:07,  1.99s/it]"
     ]
    },
    {
     "name": "stdout",
     "output_type": "stream",
     "text": [
      "[800]\tcv_agg's l2: 0.161056 + 0.017224\n",
      "Early stopping, best iteration is:\n",
      "[751]\tcv_agg's l2: 0.154256 + 0.0199635\n",
      "[100]\tcv_agg's l2: 0.154166 + 0.0206081\n",
      "[200]\tcv_agg's l2: 0.141927 + 0.0154354\n",
      "[300]\tcv_agg's l2: 0.13714 + 0.0113079\n",
      "[400]\tcv_agg's l2: 0.134587 + 0.0109218\n",
      "[500]\tcv_agg's l2: 0.134122 + 0.00958822\n",
      "[600]\tcv_agg's l2: 0.133821 + 0.00959613\n",
      "[700]\tcv_agg's l2: 0.133349 + 0.00977619\n",
      "[800]\tcv_agg's l2: 0.133304 + 0.00999714\n",
      "[900]\tcv_agg's l2: 0.132629 + 0.00959685\n"
     ]
    },
    {
     "name": "stderr",
     "output_type": "stream",
     "text": [
      "min_data_in_leaf, val_score: 0.132461:  40%|##################                           | 2/5 [00:04<00:06,  2.15s/it][I 2023-10-28 22:50:58,781] Trial 64 finished with value: 0.132461312375251 and parameters: {'min_child_samples': 5}. Best is trial 64 with value: 0.132461312375251.\n",
      "min_data_in_leaf, val_score: 0.132461:  40%|##################                           | 2/5 [00:04<00:06,  2.15s/it]"
     ]
    },
    {
     "name": "stdout",
     "output_type": "stream",
     "text": [
      "[1000]\tcv_agg's l2: 0.132605 + 0.00976239\n",
      "Early stopping, best iteration is:\n",
      "[932]\tcv_agg's l2: 0.132461 + 0.00973613\n",
      "[100]\tcv_agg's l2: 0.748803 + 0.118791\n",
      "[200]\tcv_agg's l2: 0.732351 + 0.127054\n",
      "[300]\tcv_agg's l2: 0.727501 + 0.134647\n",
      "[400]\tcv_agg's l2: 0.722376 + 0.139475\n",
      "[500]\tcv_agg's l2: 0.71799 + 0.142229\n",
      "[600]\tcv_agg's l2: 0.712769 + 0.143031\n",
      "[700]\tcv_agg's l2: 0.708786 + 0.144307\n",
      "[800]\tcv_agg's l2: 0.706881 + 0.145382\n",
      "[900]\tcv_agg's l2: 0.707292 + 0.148052\n"
     ]
    },
    {
     "name": "stderr",
     "output_type": "stream",
     "text": [
      "min_data_in_leaf, val_score: 0.132461:  60%|###########################                  | 3/5 [00:06<00:04,  2.03s/it][I 2023-10-28 22:51:00,671] Trial 65 finished with value: 0.7071277947213938 and parameters: {'min_child_samples': 100}. Best is trial 64 with value: 0.132461312375251.\n",
      "min_data_in_leaf, val_score: 0.132461:  60%|###########################                  | 3/5 [00:06<00:04,  2.03s/it]"
     ]
    },
    {
     "name": "stdout",
     "output_type": "stream",
     "text": [
      "[1000]\tcv_agg's l2: 0.706247 + 0.151059\n",
      "Early stopping, best iteration is:\n",
      "[932]\tcv_agg's l2: 0.132461 + 0.00973613\n",
      "[100]\tcv_agg's l2: 0.153115 + 0.0183722\n",
      "[200]\tcv_agg's l2: 0.141656 + 0.0141673\n",
      "[300]\tcv_agg's l2: 0.138336 + 0.0129627\n",
      "[400]\tcv_agg's l2: 0.136626 + 0.0110342\n",
      "[500]\tcv_agg's l2: 0.135519 + 0.0103372\n",
      "[600]\tcv_agg's l2: 0.134662 + 0.00945399\n",
      "[700]\tcv_agg's l2: 0.134592 + 0.00965759\n",
      "[800]\tcv_agg's l2: 0.134424 + 0.00952064\n",
      "[900]\tcv_agg's l2: 0.134334 + 0.00958961\n",
      "[1000]\tcv_agg's l2: 0.134731 + 0.00948817\n"
     ]
    },
    {
     "name": "stderr",
     "output_type": "stream",
     "text": [
      "min_data_in_leaf, val_score: 0.132461:  80%|####################################         | 4/5 [00:08<00:02,  2.15s/it][I 2023-10-28 22:51:02,995] Trial 66 finished with value: 0.134416874726396 and parameters: {'min_child_samples': 10}. Best is trial 64 with value: 0.132461312375251.\n",
      "min_data_in_leaf, val_score: 0.132461:  80%|####################################         | 4/5 [00:08<00:02,  2.15s/it]"
     ]
    },
    {
     "name": "stdout",
     "output_type": "stream",
     "text": [
      "Early stopping, best iteration is:\n",
      "[932]\tcv_agg's l2: 0.132461 + 0.00973613\n",
      "[100]\tcv_agg's l2: 0.254288 + 0.0418025\n",
      "[200]\tcv_agg's l2: 0.236711 + 0.0433096\n",
      "[300]\tcv_agg's l2: 0.230466 + 0.0451524\n",
      "[400]\tcv_agg's l2: 0.228472 + 0.0468741\n",
      "[500]\tcv_agg's l2: 0.227668 + 0.0461772\n",
      "[600]\tcv_agg's l2: 0.228614 + 0.0476967\n",
      "[700]\tcv_agg's l2: 0.229677 + 0.0485424\n",
      "[800]\tcv_agg's l2: 0.230641 + 0.0498055\n",
      "[900]\tcv_agg's l2: 0.230893 + 0.0497459\n"
     ]
    },
    {
     "name": "stderr",
     "output_type": "stream",
     "text": [
      "min_data_in_leaf, val_score: 0.132461: 100%|#############################################| 5/5 [00:10<00:00,  2.27s/it][I 2023-10-28 22:51:05,487] Trial 67 finished with value: 0.23112923066396657 and parameters: {'min_child_samples': 50}. Best is trial 64 with value: 0.132461312375251.\n",
      "min_data_in_leaf, val_score: 0.132461: 100%|#############################################| 5/5 [00:10<00:00,  2.19s/it]"
     ]
    },
    {
     "name": "stdout",
     "output_type": "stream",
     "text": [
      "[1000]\tcv_agg's l2: 0.232277 + 0.0517701\n",
      "Early stopping, best iteration is:\n",
      "[932]\tcv_agg's l2: 0.132461 + 0.00973613\n"
     ]
    },
    {
     "name": "stderr",
     "output_type": "stream",
     "text": [
      "\n"
     ]
    }
   ],
   "source": [
    "import optuna.integration.lightgbm as lgb\n",
    "from lightgbm import early_stopping, log_evaluation\n",
    "from sklearn.model_selection import KFold\n",
    "from sklearn.model_selection import RepeatedKFold\n",
    "\n",
    "\n",
    "lgb_train = lgb.Dataset(X_train, y_train)\n",
    "\n",
    "params = {\n",
    "    \"boosting_type\": \"gbdt\",\n",
    "    \"objective\": \"regression\",\n",
    "    \"metric\": \"l2\",\n",
    "    \"verbosity\": -1,\n",
    "}\n",
    "\n",
    "tuner = lgb.LightGBMTunerCV(\n",
    "    params,\n",
    "    lgb_train,\n",
    "    folds=KFold(n_splits=5),\n",
    "    num_boost_round=10000,\n",
    "    callbacks=[early_stopping(100), log_evaluation(100)],\n",
    ")\n",
    "\n",
    "tuner.run()"
   ]
  },
  {
   "cell_type": "code",
   "execution_count": 71,
   "id": "8406fc3e",
   "metadata": {},
   "outputs": [
    {
     "name": "stdout",
     "output_type": "stream",
     "text": [
      "Best score: 0.132461312375251\n",
      "Params: \n",
      "    boosting_type: gbdt\n",
      "    objective: regression\n",
      "    metric: l2\n",
      "    verbosity: -1\n",
      "    feature_pre_filter: False\n",
      "    lambda_l1: 5.66099728266048e-05\n",
      "    lambda_l2: 1.993049644919911e-07\n",
      "    num_leaves: 7\n",
      "    feature_fraction: 0.6\n",
      "    bagging_fraction: 0.9959761646800922\n",
      "    bagging_freq: 1\n",
      "    min_child_samples: 5\n"
     ]
    }
   ],
   "source": [
    "print(f\"Best score: {tuner.best_score}\")\n",
    "best_params = tuner.best_params\n",
    "print(\"Params: \")\n",
    "for key, value in best_params.items():\n",
    "    print(\"    {}: {}\".format(key, value))"
   ]
  },
  {
   "cell_type": "code",
   "execution_count": 72,
   "id": "880974ce",
   "metadata": {},
   "outputs": [],
   "source": [
    "import lightgbm as lgb\n",
    "\n",
    "lgb_tuned = lgb.train(\n",
    "    best_params,\n",
    "    lgb_train,\n",
    "    num_boost_round=10000,\n",
    ")"
   ]
  },
  {
   "cell_type": "code",
   "execution_count": 73,
   "id": "53d87b2c",
   "metadata": {},
   "outputs": [
    {
     "name": "stdout",
     "output_type": "stream",
     "text": [
      "RMSE train: 0.00\n",
      "RMSE test: 0.48\n",
      "MSE test: 0.23\n",
      "MAE test: 0.34\n",
      "\n"
     ]
    }
   ],
   "source": [
    "rmse, mse, mae = assess_regression_model(lgb_tuned, X_train, X_test, y_train, y_test)"
   ]
  },
  {
   "cell_type": "code",
   "execution_count": 74,
   "id": "843255bc",
   "metadata": {},
   "outputs": [],
   "source": [
    "results.loc[1] = [\n",
    "    \"chronological\",\n",
    "    \"Optuna\",\n",
    "    len(X_test.columns),\n",
    "    mse,\n",
    "    rmse,\n",
    "    mae,\n",
    "]"
   ]
  },
  {
   "cell_type": "markdown",
   "id": "1c9ef70d",
   "metadata": {},
   "source": [
    "###### MAE by level"
   ]
  },
  {
   "cell_type": "code",
   "execution_count": 75,
   "id": "9481d1fe",
   "metadata": {},
   "outputs": [
    {
     "data": {
      "image/png": "[encoded data removed]",
      "text/plain": [
       "<Figure size 720x432 with 1 Axes>"
      ]
     },
     "metadata": {
      "needs_background": "light"
     },
     "output_type": "display_data"
    }
   ],
   "source": [
    "import matplotlib.pyplot as plt\n",
    "\n",
    "y_test = y_test.reset_index(drop=True)\n",
    "level_max = y_test.max()\n",
    "\n",
    "mae_by_level = pd.DataFrame(columns=[\"level\", \"mae\"])\n",
    "for lvl in range(-1, level_max + 1):\n",
    "    y_test_curr = y_test[y_test == lvl]\n",
    "    y_pred_test_curr = pd.DataFrame(y_pred_test)[y_test == lvl]\n",
    "\n",
    "    mae = mean_absolute_error(y_test_curr, y_pred_test_curr)\n",
    "    mae_by_level.loc[lvl + 1] = [lvl, mae]\n",
    "\n",
    "\n",
    "plt.figure(figsize=(10, 6))\n",
    "plt.bar(mae_by_level[\"level\"], mae_by_level[\"mae\"])\n",
    "plt.xlabel(\"Level\")\n",
    "plt.ylabel(\"Mean Absolute Error (MAE)\")\n",
    "plt.title(\"MAE by level\")\n",
    "plt.xticks(mae_by_level[\"level\"])\n",
    "plt.show()"
   ]
  },
  {
   "cell_type": "code",
   "execution_count": 76,
   "id": "778f84c5",
   "metadata": {},
   "outputs": [
    {
     "name": "stdout",
     "output_type": "stream",
     "text": [
      "Normal:\n",
      "MSE: 0.23\n",
      "RMSE: 0.48\n",
      "\n",
      "Round type: round\n",
      "MSE: 0.25\n",
      "RMSE: 0.50\n",
      "\n",
      "Round type: 0.33\n",
      "MSE: 0.29\n",
      "RMSE: 0.54\n",
      "\n",
      "Round type: 0.45\n",
      "MSE: 0.23\n",
      "RMSE: 0.48\n",
      "\n"
     ]
    }
   ],
   "source": [
    "predict = lgb_tuned.predict(X_test)\n",
    "check_round_predictions([\"round\", 0.33, 0.45], y_test, predict)"
   ]
  },
  {
   "cell_type": "code",
   "execution_count": 77,
   "id": "7823441a",
   "metadata": {},
   "outputs": [
    {
     "data": {
      "image/png": "[encoded data removed]",
      "text/plain": [
       "<Figure size 432x288 with 2 Axes>"
      ]
     },
     "metadata": {
      "needs_background": "light"
     },
     "output_type": "display_data"
    }
   ],
   "source": [
    "plot_confusion_matrix(\"round\", predict, y_test)"
   ]
  },
  {
   "cell_type": "markdown",
   "id": "35088cc9",
   "metadata": {},
   "source": [
    "## Random split"
   ]
  },
  {
   "cell_type": "code",
   "execution_count": 78,
   "id": "692c4056",
   "metadata": {},
   "outputs": [
    {
     "name": "stdout",
     "output_type": "stream",
     "text": [
      "[LightGBM] [Warning] Auto-choosing col-wise multi-threading, the overhead of testing was 0.000247 seconds.\n",
      "You can set `force_col_wise=true` to remove the overhead.\n",
      "[LightGBM] [Info] Total Bins 392\n",
      "[LightGBM] [Info] Number of data points in the train set: 904, number of used features: 13\n",
      "[LightGBM] [Info] Start training from score 7.162611\n",
      "Training until validation scores don't improve for 5 rounds\n",
      "Early stopping, best iteration is:\n",
      "[88]\tvalid_0's l1: 0.267273\tvalid_0's l2: 0.148111\n"
     ]
    }
   ],
   "source": [
    "import lightgbm as lgb\n",
    "from sklearn.metrics import mean_squared_error\n",
    "\n",
    "lgb_train = lgb.Dataset(X_train_random_split, y_train_random_split)\n",
    "lgb_eval = lgb.Dataset(X_test_random_split, y_test_random_split, reference=lgb_train)\n",
    "\n",
    "params = {\n",
    "    \"boosting_type\": \"gbdt\",\n",
    "    \"objective\": \"regression\",\n",
    "    \"metric\": {\"l2\", \"l1\"},\n",
    "}\n",
    "\n",
    "gbm = lgb.train(\n",
    "    params,\n",
    "    lgb_train,\n",
    "    num_boost_round=100,\n",
    "    valid_sets=lgb_eval,\n",
    "    callbacks=[lgb.early_stopping(stopping_rounds=5)],\n",
    ")"
   ]
  },
  {
   "cell_type": "code",
   "execution_count": 79,
   "id": "24879a40",
   "metadata": {},
   "outputs": [],
   "source": [
    "y_pred_train = gbm.predict(X_train_random_split, num_iteration=gbm.best_iteration)\n",
    "y_pred_test = gbm.predict(X_test_random_split, num_iteration=gbm.best_iteration)"
   ]
  },
  {
   "cell_type": "code",
   "execution_count": 80,
   "id": "b5a760c1",
   "metadata": {},
   "outputs": [
    {
     "name": "stdout",
     "output_type": "stream",
     "text": [
      "MSE: 0.15\n",
      "RMSE: 0.38\n",
      "MAE: 0.27\n"
     ]
    }
   ],
   "source": [
    "from sklearn.metrics import mean_squared_error, mean_absolute_error\n",
    "\n",
    "\n",
    "mse = mean_squared_error(y_test_random_split, y_pred_test)\n",
    "rmse = mean_squared_error(y_test_random_split, y_pred_test, squared=False)\n",
    "mae = mean_absolute_error(y_test_random_split, y_pred_test)\n",
    "\n",
    "print(f\"MSE: {mse:.2f}\")\n",
    "print(f\"RMSE: {rmse:.2f}\")\n",
    "print(f\"MAE: {mae:.2f}\")"
   ]
  },
  {
   "cell_type": "code",
   "execution_count": 81,
   "id": "a52e182e",
   "metadata": {},
   "outputs": [],
   "source": [
    "results.loc[2] = [\"random\", \"normal\", len(X_test.columns), mse, rmse, mae]"
   ]
  },
  {
   "cell_type": "markdown",
   "id": "17a44a91",
   "metadata": {},
   "source": [
    "###### MAE by level"
   ]
  },
  {
   "cell_type": "code",
   "execution_count": 82,
   "id": "3320b590",
   "metadata": {},
   "outputs": [
    {
     "data": {
      "image/png": "[encoded data removed]",
      "text/plain": [
       "<Figure size 720x432 with 1 Axes>"
      ]
     },
     "metadata": {
      "needs_background": "light"
     },
     "output_type": "display_data"
    }
   ],
   "source": [
    "import matplotlib.pyplot as plt\n",
    "\n",
    "y_test_random_split = y_test_random_split.reset_index(drop=True)\n",
    "level_max = y_test_random_split.max()\n",
    "\n",
    "mae_by_level = pd.DataFrame(columns=[\"level\", \"mae\"])\n",
    "for lvl in range(-1, level_max + 1):\n",
    "    y_test_curr = y_test_random_split[y_test_random_split == lvl]\n",
    "    y_pred_test_curr = pd.DataFrame(y_pred_test)[y_test_random_split == lvl]\n",
    "\n",
    "    mae = mean_absolute_error(y_test_curr, y_pred_test_curr)\n",
    "    mae_by_level.loc[lvl + 1] = [lvl, mae]\n",
    "\n",
    "\n",
    "plt.figure(figsize=(10, 6))\n",
    "plt.bar(mae_by_level[\"level\"], mae_by_level[\"mae\"])\n",
    "plt.xlabel(\"Level\")\n",
    "plt.ylabel(\"Mean Absolute Error (MAE)\")\n",
    "plt.title(\"MAE by level\")\n",
    "plt.xticks(mae_by_level[\"level\"])\n",
    "plt.show()"
   ]
  },
  {
   "cell_type": "code",
   "execution_count": 83,
   "id": "b42be07c",
   "metadata": {},
   "outputs": [
    {
     "name": "stdout",
     "output_type": "stream",
     "text": [
      "Normal:\n",
      "MSE: 0.15\n",
      "RMSE: 0.38\n",
      "\n",
      "Round type: round\n",
      "MSE: 0.15\n",
      "RMSE: 0.39\n",
      "\n",
      "Round type: 0.33\n",
      "MSE: 0.21\n",
      "RMSE: 0.45\n",
      "\n",
      "Round type: 0.45\n",
      "MSE: 0.17\n",
      "RMSE: 0.41\n",
      "\n"
     ]
    }
   ],
   "source": [
    "check_round_predictions([\"round\", 0.33, 0.45], y_test_random_split, y_pred_test)"
   ]
  },
  {
   "cell_type": "code",
   "execution_count": 84,
   "id": "79174d21",
   "metadata": {},
   "outputs": [
    {
     "data": {
      "image/png": "[encoded data removed]",
      "text/plain": [
       "<Figure size 432x288 with 2 Axes>"
      ]
     },
     "metadata": {
      "needs_background": "light"
     },
     "output_type": "display_data"
    }
   ],
   "source": [
    "plot_confusion_matrix(\"round\", y_pred_test, y_test_random_split)"
   ]
  },
  {
   "cell_type": "markdown",
   "id": "79bbd5ec",
   "metadata": {},
   "source": [
    "### Tuning"
   ]
  },
  {
   "cell_type": "code",
   "execution_count": 85,
   "id": "62270e6b",
   "metadata": {
    "scrolled": true
   },
   "outputs": [
    {
     "name": "stderr",
     "output_type": "stream",
     "text": [
      "[I 2023-10-28 22:51:14,241] A new study created in memory with name: no-name-5748074f-f7b9-4707-b9be-aae222a0c2d0\n",
      "feature_fraction, val_score: inf:   0%|                                                          | 0/7 [00:00<?, ?it/s]"
     ]
    },
    {
     "name": "stdout",
     "output_type": "stream",
     "text": [
      "Training until validation scores don't improve for 100 rounds\n",
      "[100]\tcv_agg's l2: 0.189029 + 0.0421512\n"
     ]
    },
    {
     "name": "stderr",
     "output_type": "stream",
     "text": [
      "\r",
      "feature_fraction, val_score: 0.187126:   0%|                                                     | 0/7 [00:01<?, ?it/s]"
     ]
    },
    {
     "name": "stdout",
     "output_type": "stream",
     "text": [
      "[200]\tcv_agg's l2: 0.187439 + 0.0395924\n",
      "Early stopping, best iteration is:\n",
      "[129]\tcv_agg's l2: 0.187126 + 0.0396375\n"
     ]
    },
    {
     "name": "stderr",
     "output_type": "stream",
     "text": [
      "feature_fraction, val_score: 0.187126:  14%|######4                                      | 1/7 [00:01<00:07,  1.33s/it][I 2023-10-28 22:51:15,574] Trial 0 finished with value: 0.18712638687935298 and parameters: {'feature_fraction': 0.8999999999999999}. Best is trial 0 with value: 0.18712638687935298.\n",
      "feature_fraction, val_score: 0.187126:  14%|######4                                      | 1/7 [00:01<00:07,  1.33s/it]"
     ]
    },
    {
     "name": "stdout",
     "output_type": "stream",
     "text": [
      "[100]\tcv_agg's l2: 0.193604 + 0.044553\n"
     ]
    },
    {
     "name": "stderr",
     "output_type": "stream",
     "text": [
      "feature_fraction, val_score: 0.187126:  29%|############8                                | 2/7 [00:02<00:06,  1.36s/it][I 2023-10-28 22:51:16,959] Trial 1 finished with value: 0.19078168045369767 and parameters: {'feature_fraction': 1.0}. Best is trial 0 with value: 0.18712638687935298.\n",
      "feature_fraction, val_score: 0.187126:  29%|############8                                | 2/7 [00:02<00:06,  1.36s/it]"
     ]
    },
    {
     "name": "stdout",
     "output_type": "stream",
     "text": [
      "[200]\tcv_agg's l2: 0.189449 + 0.0412207\n",
      "Early stopping, best iteration is:\n",
      "[129]\tcv_agg's l2: 0.187126 + 0.0396375\n",
      "[100]\tcv_agg's l2: 0.197112 + 0.0468621\n"
     ]
    },
    {
     "name": "stderr",
     "output_type": "stream",
     "text": [
      "\r",
      "feature_fraction, val_score: 0.187126:  29%|############8                                | 2/7 [00:03<00:06,  1.36s/it]"
     ]
    },
    {
     "name": "stdout",
     "output_type": "stream",
     "text": [
      "[200]\tcv_agg's l2: 0.192544 + 0.0436263\n",
      "Early stopping, best iteration is:\n",
      "[129]\tcv_agg's l2: 0.187126 + 0.0396375\n"
     ]
    },
    {
     "name": "stderr",
     "output_type": "stream",
     "text": [
      "feature_fraction, val_score: 0.187126:  43%|###################2                         | 3/7 [00:03<00:05,  1.32s/it][I 2023-10-28 22:51:18,223] Trial 2 finished with value: 0.1954150054918387 and parameters: {'feature_fraction': 0.7}. Best is trial 0 with value: 0.18712638687935298.\n",
      "feature_fraction, val_score: 0.187126:  43%|###################2                         | 3/7 [00:03<00:05,  1.32s/it]"
     ]
    },
    {
     "name": "stdout",
     "output_type": "stream",
     "text": [
      "[100]\tcv_agg's l2: 0.193348 + 0.0492434\n"
     ]
    },
    {
     "name": "stderr",
     "output_type": "stream",
     "text": [
      "feature_fraction, val_score: 0.187126:  57%|#########################7                   | 4/7 [00:05<00:03,  1.33s/it]"
     ]
    },
    {
     "name": "stdout",
     "output_type": "stream",
     "text": [
      "[200]\tcv_agg's l2: 0.188999 + 0.0455931\n",
      "Early stopping, best iteration is:\n",
      "[129]\tcv_agg's l2: 0.187126 + 0.0396375\n"
     ]
    },
    {
     "name": "stderr",
     "output_type": "stream",
     "text": [
      "[I 2023-10-28 22:51:19,578] Trial 3 finished with value: 0.1904896139834802 and parameters: {'feature_fraction': 0.8}. Best is trial 0 with value: 0.18712638687935298.\n",
      "feature_fraction, val_score: 0.187126:  57%|#########################7                   | 4/7 [00:05<00:03,  1.33s/it]"
     ]
    },
    {
     "name": "stdout",
     "output_type": "stream",
     "text": [
      "[100]\tcv_agg's l2: 0.183069 + 0.0400372\n",
      "[200]\tcv_agg's l2: 0.182468 + 0.038895\n"
     ]
    },
    {
     "name": "stderr",
     "output_type": "stream",
     "text": [
      "feature_fraction, val_score: 0.181620:  71%|################################1            | 5/7 [00:06<00:02,  1.36s/it][I 2023-10-28 22:51:21,002] Trial 4 finished with value: 0.1816200494982388 and parameters: {'feature_fraction': 0.5}. Best is trial 4 with value: 0.1816200494982388.\n",
      "feature_fraction, val_score: 0.181620:  71%|################################1            | 5/7 [00:06<00:02,  1.36s/it]"
     ]
    },
    {
     "name": "stdout",
     "output_type": "stream",
     "text": [
      "Early stopping, best iteration is:\n",
      "[149]\tcv_agg's l2: 0.18162 + 0.039126\n",
      "[100]\tcv_agg's l2: 0.211092 + 0.0319903\n",
      "[200]\tcv_agg's l2: 0.205759 + 0.0279106\n"
     ]
    },
    {
     "name": "stderr",
     "output_type": "stream",
     "text": [
      "feature_fraction, val_score: 0.181620:  86%|######################################5      | 6/7 [00:08<00:01,  1.36s/it][I 2023-10-28 22:51:22,365] Trial 5 finished with value: 0.20725051801670386 and parameters: {'feature_fraction': 0.4}. Best is trial 4 with value: 0.1816200494982388.\n",
      "feature_fraction, val_score: 0.181620:  86%|######################################5      | 6/7 [00:08<00:01,  1.36s/it]"
     ]
    },
    {
     "name": "stdout",
     "output_type": "stream",
     "text": [
      "Early stopping, best iteration is:\n",
      "[149]\tcv_agg's l2: 0.18162 + 0.039126\n",
      "[100]\tcv_agg's l2: 0.18438 + 0.0449524\n",
      "[200]\tcv_agg's l2: 0.183193 + 0.0433851\n"
     ]
    },
    {
     "name": "stderr",
     "output_type": "stream",
     "text": [
      "feature_fraction, val_score: 0.181620: 100%|#############################################| 7/7 [00:09<00:00,  1.41s/it][I 2023-10-28 22:51:23,857] Trial 6 finished with value: 0.18288741436283523 and parameters: {'feature_fraction': 0.6}. Best is trial 4 with value: 0.1816200494982388.\n",
      "feature_fraction, val_score: 0.181620: 100%|#############################################| 7/7 [00:09<00:00,  1.37s/it]\n"
     ]
    },
    {
     "name": "stdout",
     "output_type": "stream",
     "text": [
      "Early stopping, best iteration is:\n",
      "[149]\tcv_agg's l2: 0.18162 + 0.039126\n"
     ]
    },
    {
     "name": "stderr",
     "output_type": "stream",
     "text": [
      "num_leaves, val_score: 0.181620:   0%|                                                          | 0/20 [00:00<?, ?it/s]"
     ]
    },
    {
     "name": "stdout",
     "output_type": "stream",
     "text": [
      "[100]\tcv_agg's l2: 0.183069 + 0.0400372\n",
      "[200]\tcv_agg's l2: 0.182468 + 0.038895\n"
     ]
    },
    {
     "name": "stderr",
     "output_type": "stream",
     "text": [
      "num_leaves, val_score: 0.181620:   5%|##5                                               | 1/20 [00:01<00:31,  1.67s/it][I 2023-10-28 22:51:25,538] Trial 7 finished with value: 0.1816200494982388 and parameters: {'num_leaves': 196}. Best is trial 7 with value: 0.1816200494982388.\n",
      "num_leaves, val_score: 0.181620:   5%|##5                                               | 1/20 [00:01<00:31,  1.67s/it]"
     ]
    },
    {
     "name": "stdout",
     "output_type": "stream",
     "text": [
      "Early stopping, best iteration is:\n",
      "[149]\tcv_agg's l2: 0.18162 + 0.039126\n",
      "[100]\tcv_agg's l2: 0.192627 + 0.0505598\n",
      "[200]\tcv_agg's l2: 0.181594 + 0.0439183\n",
      "[300]\tcv_agg's l2: 0.176702 + 0.0410536\n",
      "[400]\tcv_agg's l2: 0.173965 + 0.0384729\n",
      "[500]\tcv_agg's l2: 0.171684 + 0.036953\n",
      "[600]\tcv_agg's l2: 0.171061 + 0.0358728\n"
     ]
    },
    {
     "name": "stderr",
     "output_type": "stream",
     "text": [
      "num_leaves, val_score: 0.170850:  10%|#####                                             | 2/20 [00:03<00:28,  1.60s/it][I 2023-10-28 22:51:27,088] Trial 8 finished with value: 0.17085024710143704 and parameters: {'num_leaves': 6}. Best is trial 8 with value: 0.17085024710143704.\n",
      "num_leaves, val_score: 0.170850:  10%|#####                                             | 2/20 [00:03<00:28,  1.60s/it]"
     ]
    },
    {
     "name": "stdout",
     "output_type": "stream",
     "text": [
      "[700]\tcv_agg's l2: 0.171371 + 0.0362584\n",
      "Early stopping, best iteration is:\n",
      "[629]\tcv_agg's l2: 0.17085 + 0.0362369\n",
      "[100]\tcv_agg's l2: 0.183069 + 0.0400372\n",
      "[200]\tcv_agg's l2: 0.182468 + 0.038895\n",
      "[300]\tcv_agg's l2: 0.182662 + 0.038338\n",
      "[400]\tcv_agg's l2: 0.183332 + 0.0376441\n",
      "[500]\tcv_agg's l2: 0.183885 + 0.0376662\n",
      "[600]\tcv_agg's l2: 0.18457 + 0.0378966\n"
     ]
    },
    {
     "name": "stderr",
     "output_type": "stream",
     "text": [
      "\r",
      "num_leaves, val_score: 0.170850:  10%|#####                                             | 2/20 [00:08<00:28,  1.60s/it]"
     ]
    },
    {
     "name": "stdout",
     "output_type": "stream",
     "text": [
      "[700]\tcv_agg's l2: 0.185235 + 0.0380708\n",
      "Early stopping, best iteration is:\n",
      "[629]\tcv_agg's l2: 0.17085 + 0.0362369\n"
     ]
    },
    {
     "name": "stderr",
     "output_type": "stream",
     "text": [
      "num_leaves, val_score: 0.170850:  15%|#######5                                          | 3/20 [00:08<00:53,  3.14s/it][I 2023-10-28 22:51:32,063] Trial 9 finished with value: 0.18479182526861881 and parameters: {'num_leaves': 188}. Best is trial 8 with value: 0.17085024710143704.\n",
      "num_leaves, val_score: 0.170850:  15%|#######5                                          | 3/20 [00:08<00:53,  3.14s/it]"
     ]
    },
    {
     "name": "stdout",
     "output_type": "stream",
     "text": [
      "[100]\tcv_agg's l2: 0.205388 + 0.0620366\n",
      "[200]\tcv_agg's l2: 0.185795 + 0.0503854\n",
      "[300]\tcv_agg's l2: 0.1798 + 0.0430902\n",
      "[400]\tcv_agg's l2: 0.176543 + 0.0396884\n",
      "[500]\tcv_agg's l2: 0.173627 + 0.0367\n",
      "[600]\tcv_agg's l2: 0.171287 + 0.0353216\n",
      "[700]\tcv_agg's l2: 0.169807 + 0.034365\n",
      "[800]\tcv_agg's l2: 0.168546 + 0.0344482\n",
      "[900]\tcv_agg's l2: 0.168108 + 0.0338656\n",
      "[1000]\tcv_agg's l2: 0.16762 + 0.0331463\n"
     ]
    },
    {
     "name": "stderr",
     "output_type": "stream",
     "text": [
      "num_leaves, val_score: 0.167251:  20%|##########                                        | 4/20 [00:10<00:42,  2.64s/it][I 2023-10-28 22:51:33,930] Trial 10 finished with value: 0.1672511544567795 and parameters: {'num_leaves': 4}. Best is trial 10 with value: 0.1672511544567795.\n",
      "num_leaves, val_score: 0.167251:  20%|##########                                        | 4/20 [00:10<00:42,  2.64s/it]"
     ]
    },
    {
     "name": "stdout",
     "output_type": "stream",
     "text": [
      "[1100]\tcv_agg's l2: 0.168122 + 0.0331992\n",
      "Early stopping, best iteration is:\n",
      "[1034]\tcv_agg's l2: 0.167251 + 0.0327139\n",
      "[100]\tcv_agg's l2: 0.327744 + 0.0525015\n",
      "[200]\tcv_agg's l2: 0.292965 + 0.0414451\n",
      "[300]\tcv_agg's l2: 0.283857 + 0.0383261\n",
      "[400]\tcv_agg's l2: 0.276493 + 0.0374932\n",
      "[500]\tcv_agg's l2: 0.270766 + 0.0372945\n",
      "[600]\tcv_agg's l2: 0.265419 + 0.0371788\n",
      "[700]\tcv_agg's l2: 0.261289 + 0.0373602\n",
      "[800]\tcv_agg's l2: 0.257346 + 0.0374912\n",
      "[900]\tcv_agg's l2: 0.254179 + 0.0377817\n",
      "[1000]\tcv_agg's l2: 0.251216 + 0.0380356\n"
     ]
    },
    {
     "name": "stderr",
     "output_type": "stream",
     "text": [
      "num_leaves, val_score: 0.167251:  25%|############5                                     | 5/20 [00:11<00:32,  2.15s/it][I 2023-10-28 22:51:35,216] Trial 11 finished with value: 0.2501980785089353 and parameters: {'num_leaves': 2}. Best is trial 10 with value: 0.1672511544567795.\n",
      "num_leaves, val_score: 0.167251:  25%|############5                                     | 5/20 [00:11<00:32,  2.15s/it]"
     ]
    },
    {
     "name": "stdout",
     "output_type": "stream",
     "text": [
      "[1100]\tcv_agg's l2: 0.248455 + 0.0379825\n",
      "Early stopping, best iteration is:\n",
      "[1034]\tcv_agg's l2: 0.167251 + 0.0327139\n",
      "[100]\tcv_agg's l2: 0.187793 + 0.046817\n",
      "[200]\tcv_agg's l2: 0.178261 + 0.0392295\n",
      "[300]\tcv_agg's l2: 0.174987 + 0.0378484\n",
      "[400]\tcv_agg's l2: 0.173793 + 0.035851\n",
      "[500]\tcv_agg's l2: 0.173253 + 0.0356467\n",
      "[600]\tcv_agg's l2: 0.173467 + 0.0350041\n",
      "[700]\tcv_agg's l2: 0.174202 + 0.0344424\n",
      "[800]\tcv_agg's l2: 0.174547 + 0.0341659\n",
      "[900]\tcv_agg's l2: 0.174867 + 0.0343892\n",
      "[1000]\tcv_agg's l2: 0.175102 + 0.0345303\n"
     ]
    },
    {
     "name": "stderr",
     "output_type": "stream",
     "text": [
      "num_leaves, val_score: 0.167251:  30%|###############                                   | 6/20 [00:13<00:31,  2.28s/it][I 2023-10-28 22:51:37,743] Trial 12 finished with value: 0.17549454008476134 and parameters: {'num_leaves': 7}. Best is trial 10 with value: 0.1672511544567795.\n",
      "num_leaves, val_score: 0.167251:  30%|###############                                   | 6/20 [00:13<00:31,  2.28s/it]"
     ]
    },
    {
     "name": "stdout",
     "output_type": "stream",
     "text": [
      "[1100]\tcv_agg's l2: 0.175558 + 0.0344279\n",
      "Early stopping, best iteration is:\n",
      "[1034]\tcv_agg's l2: 0.167251 + 0.0327139\n",
      "[100]\tcv_agg's l2: 0.183069 + 0.0400372\n",
      "[200]\tcv_agg's l2: 0.182468 + 0.038895\n",
      "[300]\tcv_agg's l2: 0.182662 + 0.038338\n",
      "[400]\tcv_agg's l2: 0.183332 + 0.0376441\n",
      "[500]\tcv_agg's l2: 0.183885 + 0.0376662\n",
      "[600]\tcv_agg's l2: 0.18457 + 0.0378966\n",
      "[700]\tcv_agg's l2: 0.185235 + 0.0380708\n",
      "[800]\tcv_agg's l2: 0.185688 + 0.0380577\n",
      "[900]\tcv_agg's l2: 0.186185 + 0.0383936\n",
      "[1000]\tcv_agg's l2: 0.186488 + 0.0384646\n",
      "[1100]\tcv_agg's l2: 0.186842 + 0.0384176\n"
     ]
    },
    {
     "name": "stderr",
     "output_type": "stream",
     "text": [
      "num_leaves, val_score: 0.167251:  35%|#################5                                | 7/20 [00:20<00:48,  3.73s/it][I 2023-10-28 22:51:44,459] Trial 13 finished with value: 0.18659429038863645 and parameters: {'num_leaves': 78}. Best is trial 10 with value: 0.1672511544567795.\n",
      "num_leaves, val_score: 0.167251:  35%|#################5                                | 7/20 [00:20<00:48,  3.73s/it]"
     ]
    },
    {
     "name": "stdout",
     "output_type": "stream",
     "text": [
      "Early stopping, best iteration is:\n",
      "[1034]\tcv_agg's l2: 0.167251 + 0.0327139\n",
      "[100]\tcv_agg's l2: 0.183069 + 0.0400372\n",
      "[200]\tcv_agg's l2: 0.182468 + 0.038895\n",
      "[300]\tcv_agg's l2: 0.182662 + 0.038338\n",
      "[400]\tcv_agg's l2: 0.183332 + 0.0376441\n",
      "[500]\tcv_agg's l2: 0.183885 + 0.0376662\n",
      "[600]\tcv_agg's l2: 0.18457 + 0.0378966\n",
      "[700]\tcv_agg's l2: 0.185235 + 0.0380708\n",
      "[800]\tcv_agg's l2: 0.185688 + 0.0380577\n",
      "[900]\tcv_agg's l2: 0.186185 + 0.0383936\n",
      "[1000]\tcv_agg's l2: 0.186488 + 0.0384646\n",
      "[1100]\tcv_agg's l2: 0.186842 + 0.0384176\n",
      "Early stopping, best iteration is:\n",
      "[1034]\tcv_agg's l2: 0.167251 + 0.0327139\n"
     ]
    },
    {
     "name": "stderr",
     "output_type": "stream",
     "text": [
      "num_leaves, val_score: 0.167251:  40%|####################                              | 8/20 [00:27<00:56,  4.74s/it][I 2023-10-28 22:51:51,367] Trial 14 finished with value: 0.18659429038863645 and parameters: {'num_leaves': 75}. Best is trial 10 with value: 0.1672511544567795.\n",
      "num_leaves, val_score: 0.167251:  40%|####################                              | 8/20 [00:27<00:56,  4.74s/it]"
     ]
    },
    {
     "name": "stdout",
     "output_type": "stream",
     "text": [
      "[100]\tcv_agg's l2: 0.183069 + 0.0400372\n",
      "[200]\tcv_agg's l2: 0.182468 + 0.038895\n",
      "[300]\tcv_agg's l2: 0.182662 + 0.038338\n",
      "[400]\tcv_agg's l2: 0.183332 + 0.0376441\n",
      "[500]\tcv_agg's l2: 0.183885 + 0.0376662\n",
      "[600]\tcv_agg's l2: 0.18457 + 0.0378966\n",
      "[700]\tcv_agg's l2: 0.185235 + 0.0380708\n",
      "[800]\tcv_agg's l2: 0.185688 + 0.0380577\n",
      "[900]\tcv_agg's l2: 0.186185 + 0.0383936\n",
      "[1000]\tcv_agg's l2: 0.186488 + 0.0384646\n",
      "[1100]\tcv_agg's l2: 0.186842 + 0.0384176\n",
      "Early stopping, best iteration is:\n",
      "[1034]\tcv_agg's l2: 0.167251 + 0.0327139\n"
     ]
    },
    {
     "name": "stderr",
     "output_type": "stream",
     "text": [
      "num_leaves, val_score: 0.167251:  45%|######################5                           | 9/20 [00:34<00:58,  5.33s/it][I 2023-10-28 22:51:58,003] Trial 15 finished with value: 0.18659429038863645 and parameters: {'num_leaves': 68}. Best is trial 10 with value: 0.1672511544567795.\n",
      "num_leaves, val_score: 0.167251:  45%|######################5                           | 9/20 [00:34<00:58,  5.33s/it]"
     ]
    },
    {
     "name": "stdout",
     "output_type": "stream",
     "text": [
      "[100]\tcv_agg's l2: 0.183069 + 0.0400372\n",
      "[200]\tcv_agg's l2: 0.182468 + 0.038895\n",
      "[300]\tcv_agg's l2: 0.182662 + 0.038338\n",
      "[400]\tcv_agg's l2: 0.183332 + 0.0376441\n",
      "[500]\tcv_agg's l2: 0.183903 + 0.0376662\n",
      "[600]\tcv_agg's l2: 0.184525 + 0.0378974\n",
      "[700]\tcv_agg's l2: 0.185293 + 0.0380685\n",
      "[800]\tcv_agg's l2: 0.185801 + 0.0380518\n",
      "[900]\tcv_agg's l2: 0.186338 + 0.0383844\n",
      "[1000]\tcv_agg's l2: 0.186633 + 0.0384555\n"
     ]
    },
    {
     "name": "stderr",
     "output_type": "stream",
     "text": [
      "\r",
      "num_leaves, val_score: 0.167251:  45%|######################5                           | 9/20 [00:42<00:58,  5.33s/it]"
     ]
    },
    {
     "name": "stdout",
     "output_type": "stream",
     "text": [
      "[1100]\tcv_agg's l2: 0.187011 + 0.0384067\n",
      "Early stopping, best iteration is:\n",
      "[1034]\tcv_agg's l2: 0.167251 + 0.0327139\n"
     ]
    },
    {
     "name": "stderr",
     "output_type": "stream",
     "text": [
      "num_leaves, val_score: 0.167251:  50%|########################5                        | 10/20 [00:42<01:02,  6.22s/it][I 2023-10-28 22:52:06,195] Trial 16 finished with value: 0.18673799327810342 and parameters: {'num_leaves': 31}. Best is trial 10 with value: 0.1672511544567795.\n",
      "num_leaves, val_score: 0.167251:  50%|########################5                        | 10/20 [00:42<01:02,  6.22s/it]"
     ]
    },
    {
     "name": "stdout",
     "output_type": "stream",
     "text": [
      "[100]\tcv_agg's l2: 0.183069 + 0.0400372\n",
      "[200]\tcv_agg's l2: 0.182468 + 0.038895\n",
      "[300]\tcv_agg's l2: 0.182662 + 0.038338\n",
      "[400]\tcv_agg's l2: 0.183332 + 0.0376441\n",
      "[500]\tcv_agg's l2: 0.183885 + 0.0376662\n",
      "[600]\tcv_agg's l2: 0.18457 + 0.0378966\n",
      "[700]\tcv_agg's l2: 0.185235 + 0.0380708\n",
      "[800]\tcv_agg's l2: 0.185688 + 0.0380577\n",
      "[900]\tcv_agg's l2: 0.186185 + 0.0383936\n",
      "[1000]\tcv_agg's l2: 0.186488 + 0.0384646\n",
      "[1100]\tcv_agg's l2: 0.186842 + 0.0384176\n"
     ]
    },
    {
     "name": "stderr",
     "output_type": "stream",
     "text": [
      "num_leaves, val_score: 0.167251:  55%|##########################9                      | 11/20 [00:49<00:58,  6.53s/it][I 2023-10-28 22:52:13,424] Trial 17 finished with value: 0.18659429038863645 and parameters: {'num_leaves': 130}. Best is trial 10 with value: 0.1672511544567795.\n",
      "num_leaves, val_score: 0.167251:  55%|##########################9                      | 11/20 [00:49<00:58,  6.53s/it]"
     ]
    },
    {
     "name": "stdout",
     "output_type": "stream",
     "text": [
      "Early stopping, best iteration is:\n",
      "[1034]\tcv_agg's l2: 0.167251 + 0.0327139\n",
      "[100]\tcv_agg's l2: 0.183069 + 0.0400372\n",
      "[200]\tcv_agg's l2: 0.182468 + 0.038895\n",
      "[300]\tcv_agg's l2: 0.182662 + 0.038338\n",
      "[400]\tcv_agg's l2: 0.183332 + 0.0376441\n",
      "[500]\tcv_agg's l2: 0.183885 + 0.0376662\n",
      "[600]\tcv_agg's l2: 0.18457 + 0.0378966\n",
      "[700]\tcv_agg's l2: 0.185235 + 0.0380708\n",
      "[800]\tcv_agg's l2: 0.185688 + 0.0380577\n",
      "[900]\tcv_agg's l2: 0.186185 + 0.0383936\n",
      "[1000]\tcv_agg's l2: 0.186488 + 0.0384646\n",
      "[1100]\tcv_agg's l2: 0.186842 + 0.0384176\n",
      "Early stopping, best iteration is:\n",
      "[1034]\tcv_agg's l2: 0.167251 + 0.0327139\n"
     ]
    },
    {
     "name": "stderr",
     "output_type": "stream",
     "text": [
      "num_leaves, val_score: 0.167251:  60%|#############################4                   | 12/20 [00:56<00:54,  6.77s/it][I 2023-10-28 22:52:20,744] Trial 18 finished with value: 0.18659429038863645 and parameters: {'num_leaves': 249}. Best is trial 10 with value: 0.1672511544567795.\n",
      "num_leaves, val_score: 0.167251:  60%|#############################4                   | 12/20 [00:56<00:54,  6.77s/it]"
     ]
    },
    {
     "name": "stdout",
     "output_type": "stream",
     "text": [
      "[100]\tcv_agg's l2: 0.183069 + 0.0400372\n",
      "[200]\tcv_agg's l2: 0.182468 + 0.038895\n",
      "[300]\tcv_agg's l2: 0.182662 + 0.038338\n",
      "[400]\tcv_agg's l2: 0.183332 + 0.0376441\n",
      "[500]\tcv_agg's l2: 0.183885 + 0.0376662\n",
      "[600]\tcv_agg's l2: 0.18457 + 0.0378966\n",
      "[700]\tcv_agg's l2: 0.185235 + 0.0380708\n",
      "[800]\tcv_agg's l2: 0.185688 + 0.0380577\n",
      "[900]\tcv_agg's l2: 0.186185 + 0.0383936\n",
      "[1000]\tcv_agg's l2: 0.186488 + 0.0384646\n",
      "[1100]\tcv_agg's l2: 0.186842 + 0.0384176\n",
      "Early stopping, best iteration is:\n",
      "[1034]\tcv_agg's l2: 0.167251 + 0.0327139\n"
     ]
    },
    {
     "name": "stderr",
     "output_type": "stream",
     "text": [
      "num_leaves, val_score: 0.167251:  65%|###############################8                 | 13/20 [01:03<00:46,  6.68s/it][I 2023-10-28 22:52:27,217] Trial 19 finished with value: 0.18659429038863645 and parameters: {'num_leaves': 44}. Best is trial 10 with value: 0.1672511544567795.\n",
      "num_leaves, val_score: 0.167251:  65%|###############################8                 | 13/20 [01:03<00:46,  6.68s/it]"
     ]
    },
    {
     "name": "stdout",
     "output_type": "stream",
     "text": [
      "[100]\tcv_agg's l2: 0.183069 + 0.0400372\n",
      "[200]\tcv_agg's l2: 0.182468 + 0.038895\n",
      "[300]\tcv_agg's l2: 0.182662 + 0.038338\n",
      "[400]\tcv_agg's l2: 0.183332 + 0.0376441\n",
      "[500]\tcv_agg's l2: 0.183885 + 0.0376662\n",
      "[600]\tcv_agg's l2: 0.18457 + 0.0378966\n",
      "[700]\tcv_agg's l2: 0.185235 + 0.0380708\n",
      "[800]\tcv_agg's l2: 0.185688 + 0.0380577\n",
      "[900]\tcv_agg's l2: 0.186185 + 0.0383936\n",
      "[1000]\tcv_agg's l2: 0.186488 + 0.0384646\n",
      "[1100]\tcv_agg's l2: 0.186842 + 0.0384176\n"
     ]
    },
    {
     "name": "stderr",
     "output_type": "stream",
     "text": [
      "num_leaves, val_score: 0.167251:  70%|##################################3              | 14/20 [01:10<00:40,  6.79s/it][I 2023-10-28 22:52:34,252] Trial 20 finished with value: 0.18659429038863645 and parameters: {'num_leaves': 136}. Best is trial 10 with value: 0.1672511544567795.\n",
      "num_leaves, val_score: 0.167251:  70%|##################################3              | 14/20 [01:10<00:40,  6.79s/it]"
     ]
    },
    {
     "name": "stdout",
     "output_type": "stream",
     "text": [
      "Early stopping, best iteration is:\n",
      "[1034]\tcv_agg's l2: 0.167251 + 0.0327139\n",
      "[100]\tcv_agg's l2: 0.201446 + 0.0399518\n",
      "[200]\tcv_agg's l2: 0.185779 + 0.0324278\n",
      "[300]\tcv_agg's l2: 0.180464 + 0.0301054\n",
      "[400]\tcv_agg's l2: 0.177665 + 0.0277318\n",
      "[500]\tcv_agg's l2: 0.175998 + 0.0266414\n",
      "[600]\tcv_agg's l2: 0.175108 + 0.0257079\n",
      "[700]\tcv_agg's l2: 0.174697 + 0.0248986\n",
      "[800]\tcv_agg's l2: 0.174892 + 0.025887\n",
      "[900]\tcv_agg's l2: 0.175488 + 0.0266134\n",
      "[1000]\tcv_agg's l2: 0.175168 + 0.0265082\n"
     ]
    },
    {
     "name": "stderr",
     "output_type": "stream",
     "text": [
      "num_leaves, val_score: 0.167251:  75%|####################################7            | 15/20 [01:12<00:26,  5.40s/it][I 2023-10-28 22:52:36,438] Trial 21 finished with value: 0.17517040817931104 and parameters: {'num_leaves': 5}. Best is trial 10 with value: 0.1672511544567795.\n",
      "num_leaves, val_score: 0.167251:  75%|####################################7            | 15/20 [01:12<00:26,  5.40s/it]"
     ]
    },
    {
     "name": "stdout",
     "output_type": "stream",
     "text": [
      "[1100]\tcv_agg's l2: 0.174639 + 0.0265756\n",
      "Early stopping, best iteration is:\n",
      "[1034]\tcv_agg's l2: 0.167251 + 0.0327139\n",
      "[100]\tcv_agg's l2: 0.183069 + 0.0400372\n",
      "[200]\tcv_agg's l2: 0.182468 + 0.038895\n",
      "[300]\tcv_agg's l2: 0.182662 + 0.038338\n",
      "[400]\tcv_agg's l2: 0.183332 + 0.0376441\n",
      "[500]\tcv_agg's l2: 0.183885 + 0.0376662\n",
      "[600]\tcv_agg's l2: 0.18457 + 0.0378966\n",
      "[700]\tcv_agg's l2: 0.185235 + 0.0380708\n",
      "[800]\tcv_agg's l2: 0.185688 + 0.0380577\n",
      "[900]\tcv_agg's l2: 0.186185 + 0.0383936\n",
      "[1000]\tcv_agg's l2: 0.186488 + 0.0384646\n",
      "[1100]\tcv_agg's l2: 0.186842 + 0.0384176\n"
     ]
    },
    {
     "name": "stderr",
     "output_type": "stream",
     "text": [
      "num_leaves, val_score: 0.167251:  80%|#######################################2         | 16/20 [01:19<00:23,  5.86s/it][I 2023-10-28 22:52:43,367] Trial 22 finished with value: 0.18659429038863645 and parameters: {'num_leaves': 37}. Best is trial 10 with value: 0.1672511544567795.\n",
      "num_leaves, val_score: 0.167251:  80%|#######################################2         | 16/20 [01:19<00:23,  5.86s/it]"
     ]
    },
    {
     "name": "stdout",
     "output_type": "stream",
     "text": [
      "Early stopping, best iteration is:\n",
      "[1034]\tcv_agg's l2: 0.167251 + 0.0327139\n",
      "[100]\tcv_agg's l2: 0.187951 + 0.0461293\n",
      "[200]\tcv_agg's l2: 0.180446 + 0.0365084\n",
      "[300]\tcv_agg's l2: 0.177545 + 0.0341193\n",
      "[400]\tcv_agg's l2: 0.175921 + 0.0325718\n",
      "[500]\tcv_agg's l2: 0.175763 + 0.0319388\n",
      "[600]\tcv_agg's l2: 0.175749 + 0.0309752\n",
      "[700]\tcv_agg's l2: 0.175578 + 0.0306067\n",
      "[800]\tcv_agg's l2: 0.176227 + 0.0302153\n",
      "[900]\tcv_agg's l2: 0.176076 + 0.0295526\n",
      "[1000]\tcv_agg's l2: 0.176413 + 0.0292116\n"
     ]
    },
    {
     "name": "stderr",
     "output_type": "stream",
     "text": [
      "num_leaves, val_score: 0.167251:  85%|#########################################6       | 17/20 [01:22<00:14,  4.96s/it][I 2023-10-28 22:52:46,239] Trial 23 finished with value: 0.1764120160162465 and parameters: {'num_leaves': 8}. Best is trial 10 with value: 0.1672511544567795.\n",
      "num_leaves, val_score: 0.167251:  85%|#########################################6       | 17/20 [01:22<00:14,  4.96s/it]"
     ]
    },
    {
     "name": "stdout",
     "output_type": "stream",
     "text": [
      "[1100]\tcv_agg's l2: 0.176528 + 0.0292666\n",
      "Early stopping, best iteration is:\n",
      "[1034]\tcv_agg's l2: 0.167251 + 0.0327139\n",
      "[100]\tcv_agg's l2: 0.183069 + 0.0400372\n",
      "[200]\tcv_agg's l2: 0.182468 + 0.038895\n",
      "[300]\tcv_agg's l2: 0.182662 + 0.038338\n",
      "[400]\tcv_agg's l2: 0.183332 + 0.0376441\n",
      "[500]\tcv_agg's l2: 0.183885 + 0.0376662\n",
      "[600]\tcv_agg's l2: 0.18457 + 0.0378966\n",
      "[700]\tcv_agg's l2: 0.185235 + 0.0380708\n",
      "[800]\tcv_agg's l2: 0.185688 + 0.0380577\n",
      "[900]\tcv_agg's l2: 0.186185 + 0.0383936\n",
      "[1000]\tcv_agg's l2: 0.186488 + 0.0384646\n",
      "[1100]\tcv_agg's l2: 0.186842 + 0.0384176\n",
      "Early stopping, best iteration is:\n",
      "[1034]\tcv_agg's l2: 0.167251 + 0.0327139\n"
     ]
    },
    {
     "name": "stderr",
     "output_type": "stream",
     "text": [
      "num_leaves, val_score: 0.167251:  90%|############################################1    | 18/20 [01:29<00:11,  5.63s/it][I 2023-10-28 22:52:53,413] Trial 24 finished with value: 0.18659429038863645 and parameters: {'num_leaves': 48}. Best is trial 10 with value: 0.1672511544567795.\n",
      "num_leaves, val_score: 0.167251:  90%|############################################1    | 18/20 [01:29<00:11,  5.63s/it]"
     ]
    },
    {
     "name": "stdout",
     "output_type": "stream",
     "text": [
      "[100]\tcv_agg's l2: 0.183069 + 0.0400372\n",
      "[200]\tcv_agg's l2: 0.182468 + 0.038895\n",
      "[300]\tcv_agg's l2: 0.182662 + 0.038338\n",
      "[400]\tcv_agg's l2: 0.183332 + 0.0376441\n",
      "[500]\tcv_agg's l2: 0.183885 + 0.0376662\n",
      "[600]\tcv_agg's l2: 0.18457 + 0.0378966\n",
      "[700]\tcv_agg's l2: 0.185235 + 0.0380708\n",
      "[800]\tcv_agg's l2: 0.185688 + 0.0380577\n",
      "[900]\tcv_agg's l2: 0.186185 + 0.0383936\n",
      "[1000]\tcv_agg's l2: 0.186488 + 0.0384646\n",
      "[1100]\tcv_agg's l2: 0.186842 + 0.0384176\n",
      "Early stopping, best iteration is:\n",
      "[1034]\tcv_agg's l2: 0.167251 + 0.0327139\n"
     ]
    },
    {
     "name": "stderr",
     "output_type": "stream",
     "text": [
      "num_leaves, val_score: 0.167251:  95%|##############################################5  | 19/20 [01:36<00:06,  6.14s/it][I 2023-10-28 22:53:00,749] Trial 25 finished with value: 0.18659429038863645 and parameters: {'num_leaves': 97}. Best is trial 10 with value: 0.1672511544567795.\n",
      "num_leaves, val_score: 0.167251:  95%|##############################################5  | 19/20 [01:36<00:06,  6.14s/it]"
     ]
    },
    {
     "name": "stdout",
     "output_type": "stream",
     "text": [
      "[100]\tcv_agg's l2: 0.18189 + 0.0420923\n",
      "[200]\tcv_agg's l2: 0.181803 + 0.0408356\n",
      "[300]\tcv_agg's l2: 0.182234 + 0.039627\n",
      "[400]\tcv_agg's l2: 0.183454 + 0.0395822\n",
      "[500]\tcv_agg's l2: 0.184205 + 0.0400321\n",
      "[600]\tcv_agg's l2: 0.185174 + 0.0403093\n",
      "[700]\tcv_agg's l2: 0.185749 + 0.0402157\n",
      "[800]\tcv_agg's l2: 0.186122 + 0.0402053\n",
      "[900]\tcv_agg's l2: 0.186517 + 0.0401429\n",
      "[1000]\tcv_agg's l2: 0.186795 + 0.0401771\n"
     ]
    },
    {
     "name": "stderr",
     "output_type": "stream",
     "text": [
      "\r",
      "num_leaves, val_score: 0.167251:  95%|##############################################5  | 19/20 [01:43<00:06,  6.14s/it]"
     ]
    },
    {
     "name": "stdout",
     "output_type": "stream",
     "text": [
      "[1100]\tcv_agg's l2: 0.187082 + 0.040255\n",
      "Early stopping, best iteration is:\n",
      "[1034]\tcv_agg's l2: 0.167251 + 0.0327139\n"
     ]
    },
    {
     "name": "stderr",
     "output_type": "stream",
     "text": [
      "num_leaves, val_score: 0.167251: 100%|#################################################| 20/20 [01:43<00:00,  6.38s/it][I 2023-10-28 22:53:07,678] Trial 26 finished with value: 0.18690565587918712 and parameters: {'num_leaves': 25}. Best is trial 10 with value: 0.1672511544567795.\n",
      "num_leaves, val_score: 0.167251: 100%|#################################################| 20/20 [01:43<00:00,  5.19s/it]\n",
      "bagging, val_score: 0.167251:   0%|                                                             | 0/10 [00:00<?, ?it/s]"
     ]
    },
    {
     "name": "stdout",
     "output_type": "stream",
     "text": [
      "[100]\tcv_agg's l2: 0.261027 + 0.0658032\n",
      "[200]\tcv_agg's l2: 0.237117 + 0.0541641\n",
      "[300]\tcv_agg's l2: 0.230864 + 0.0502011\n",
      "[400]\tcv_agg's l2: 0.225895 + 0.0455849\n",
      "[500]\tcv_agg's l2: 0.222065 + 0.0448813\n",
      "[600]\tcv_agg's l2: 0.220556 + 0.0469792\n",
      "[700]\tcv_agg's l2: 0.219082 + 0.0476339\n",
      "[800]\tcv_agg's l2: 0.215951 + 0.0459873\n",
      "[900]\tcv_agg's l2: 0.214241 + 0.0465454\n",
      "[1000]\tcv_agg's l2: 0.210739 + 0.0438845\n"
     ]
    },
    {
     "name": "stderr",
     "output_type": "stream",
     "text": [
      "bagging, val_score: 0.167251:  10%|#####3                                               | 1/10 [00:02<00:20,  2.24s/it][I 2023-10-28 22:53:09,931] Trial 27 finished with value: 0.20992639760893023 and parameters: {'bagging_fraction': 0.4248453603364204, 'bagging_freq': 5}. Best is trial 27 with value: 0.20992639760893023.\n",
      "bagging, val_score: 0.167251:  10%|#####3                                               | 1/10 [00:02<00:20,  2.24s/it]"
     ]
    },
    {
     "name": "stdout",
     "output_type": "stream",
     "text": [
      "[1100]\tcv_agg's l2: 0.210817 + 0.045138\n",
      "Early stopping, best iteration is:\n",
      "[1034]\tcv_agg's l2: 0.167251 + 0.0327139\n",
      "[100]\tcv_agg's l2: 0.20803 + 0.0550602\n",
      "[200]\tcv_agg's l2: 0.190637 + 0.0416296\n",
      "[300]\tcv_agg's l2: 0.184839 + 0.0367067\n",
      "[400]\tcv_agg's l2: 0.181991 + 0.035122\n",
      "[500]\tcv_agg's l2: 0.180046 + 0.0334517\n",
      "[600]\tcv_agg's l2: 0.178553 + 0.0314633\n",
      "[700]\tcv_agg's l2: 0.177955 + 0.0305813\n",
      "[800]\tcv_agg's l2: 0.176949 + 0.0303955\n",
      "[900]\tcv_agg's l2: 0.176269 + 0.0304043\n",
      "[1000]\tcv_agg's l2: 0.176126 + 0.0310122\n"
     ]
    },
    {
     "name": "stderr",
     "output_type": "stream",
     "text": [
      "bagging, val_score: 0.167251:  20%|##########6                                          | 2/10 [00:04<00:16,  2.06s/it][I 2023-10-28 22:53:11,864] Trial 28 finished with value: 0.1763171352932747 and parameters: {'bagging_fraction': 0.9934028368424668, 'bagging_freq': 1}. Best is trial 28 with value: 0.1763171352932747.\n",
      "bagging, val_score: 0.167251:  20%|##########6                                          | 2/10 [00:04<00:16,  2.06s/it]"
     ]
    },
    {
     "name": "stdout",
     "output_type": "stream",
     "text": [
      "[1100]\tcv_agg's l2: 0.176573 + 0.0318492\n",
      "Early stopping, best iteration is:\n",
      "[1034]\tcv_agg's l2: 0.167251 + 0.0327139\n",
      "[100]\tcv_agg's l2: 0.235355 + 0.0474685\n",
      "[200]\tcv_agg's l2: 0.209769 + 0.039565\n",
      "[300]\tcv_agg's l2: 0.199393 + 0.0345431\n",
      "[400]\tcv_agg's l2: 0.196482 + 0.034091\n",
      "[500]\tcv_agg's l2: 0.192616 + 0.0299645\n",
      "[600]\tcv_agg's l2: 0.19199 + 0.0311154\n",
      "[700]\tcv_agg's l2: 0.192162 + 0.0319067\n",
      "[800]\tcv_agg's l2: 0.191342 + 0.0308221\n",
      "[900]\tcv_agg's l2: 0.190795 + 0.0303426\n",
      "[1000]\tcv_agg's l2: 0.188103 + 0.0295058\n",
      "[1100]\tcv_agg's l2: 0.187604 + 0.0300225\n"
     ]
    },
    {
     "name": "stderr",
     "output_type": "stream",
     "text": [
      "bagging, val_score: 0.167251:  30%|###############9                                     | 3/10 [00:06<00:14,  2.04s/it][I 2023-10-28 22:53:13,876] Trial 29 finished with value: 0.18733892108311295 and parameters: {'bagging_fraction': 0.6843944251531658, 'bagging_freq': 6}. Best is trial 28 with value: 0.1763171352932747.\n",
      "bagging, val_score: 0.167251:  30%|###############9                                     | 3/10 [00:06<00:14,  2.04s/it]"
     ]
    },
    {
     "name": "stdout",
     "output_type": "stream",
     "text": [
      "Early stopping, best iteration is:\n",
      "[1034]\tcv_agg's l2: 0.167251 + 0.0327139\n",
      "[100]\tcv_agg's l2: 0.205388 + 0.0620366\n",
      "[200]\tcv_agg's l2: 0.185795 + 0.0503854\n",
      "[300]\tcv_agg's l2: 0.1798 + 0.0430902\n",
      "[400]\tcv_agg's l2: 0.176543 + 0.0396884\n",
      "[500]\tcv_agg's l2: 0.173627 + 0.0367\n",
      "[600]\tcv_agg's l2: 0.171287 + 0.0353216\n",
      "[700]\tcv_agg's l2: 0.169807 + 0.034365\n",
      "[800]\tcv_agg's l2: 0.168546 + 0.0344482\n",
      "[900]\tcv_agg's l2: 0.168108 + 0.0338656\n",
      "[1000]\tcv_agg's l2: 0.16762 + 0.0331463\n"
     ]
    },
    {
     "name": "stderr",
     "output_type": "stream",
     "text": [
      "bagging, val_score: 0.167251:  40%|#####################2                               | 4/10 [00:08<00:11,  2.00s/it][I 2023-10-28 22:53:15,813] Trial 30 finished with value: 0.1672511544567795 and parameters: {'bagging_fraction': 0.9987460851387385, 'bagging_freq': 1}. Best is trial 30 with value: 0.1672511544567795.\n",
      "bagging, val_score: 0.167251:  40%|#####################2                               | 4/10 [00:08<00:11,  2.00s/it]"
     ]
    },
    {
     "name": "stdout",
     "output_type": "stream",
     "text": [
      "[1100]\tcv_agg's l2: 0.168122 + 0.0331992\n",
      "Early stopping, best iteration is:\n",
      "[1034]\tcv_agg's l2: 0.167251 + 0.0327139\n",
      "[100]\tcv_agg's l2: 0.21038 + 0.0561985\n",
      "[200]\tcv_agg's l2: 0.190893 + 0.0436455\n",
      "[300]\tcv_agg's l2: 0.182505 + 0.0394673\n",
      "[400]\tcv_agg's l2: 0.178915 + 0.0343745\n",
      "[500]\tcv_agg's l2: 0.177193 + 0.0337205\n",
      "[600]\tcv_agg's l2: 0.176361 + 0.0341629\n",
      "[700]\tcv_agg's l2: 0.175 + 0.0327014\n",
      "[800]\tcv_agg's l2: 0.174283 + 0.0322234\n",
      "[900]\tcv_agg's l2: 0.174358 + 0.0316831\n",
      "[1000]\tcv_agg's l2: 0.173943 + 0.0312587\n"
     ]
    },
    {
     "name": "stderr",
     "output_type": "stream",
     "text": [
      "bagging, val_score: 0.167251:  50%|##########################5                          | 5/10 [00:09<00:09,  1.94s/it][I 2023-10-28 22:53:17,651] Trial 31 finished with value: 0.174357766858103 and parameters: {'bagging_fraction': 0.992187677457067, 'bagging_freq': 1}. Best is trial 30 with value: 0.1672511544567795.\n",
      "bagging, val_score: 0.167251:  50%|##########################5                          | 5/10 [00:09<00:09,  1.94s/it]"
     ]
    },
    {
     "name": "stdout",
     "output_type": "stream",
     "text": [
      "[1100]\tcv_agg's l2: 0.174116 + 0.0315046\n",
      "Early stopping, best iteration is:\n",
      "[1034]\tcv_agg's l2: 0.167251 + 0.0327139\n",
      "[100]\tcv_agg's l2: 0.20952 + 0.053864\n",
      "[200]\tcv_agg's l2: 0.19062 + 0.0443892\n",
      "[300]\tcv_agg's l2: 0.184283 + 0.038998\n",
      "[400]\tcv_agg's l2: 0.181129 + 0.0367525\n",
      "[500]\tcv_agg's l2: 0.17893 + 0.0343611\n",
      "[600]\tcv_agg's l2: 0.176561 + 0.0324012\n",
      "[700]\tcv_agg's l2: 0.176235 + 0.0315242\n",
      "[800]\tcv_agg's l2: 0.176297 + 0.0296647\n",
      "[900]\tcv_agg's l2: 0.17669 + 0.0299101\n",
      "[1000]\tcv_agg's l2: 0.176687 + 0.0305519\n"
     ]
    },
    {
     "name": "stderr",
     "output_type": "stream",
     "text": [
      "bagging, val_score: 0.167251:  60%|###############################8                     | 6/10 [00:11<00:07,  1.90s/it][I 2023-10-28 22:53:19,468] Trial 32 finished with value: 0.17598316789660814 and parameters: {'bagging_fraction': 0.9944353516417944, 'bagging_freq': 1}. Best is trial 30 with value: 0.1672511544567795.\n",
      "bagging, val_score: 0.167251:  60%|###############################8                     | 6/10 [00:11<00:07,  1.90s/it]"
     ]
    },
    {
     "name": "stdout",
     "output_type": "stream",
     "text": [
      "[1100]\tcv_agg's l2: 0.176496 + 0.0296714\n",
      "Early stopping, best iteration is:\n",
      "[1034]\tcv_agg's l2: 0.167251 + 0.0327139\n",
      "[100]\tcv_agg's l2: 0.21342 + 0.0590701\n",
      "[200]\tcv_agg's l2: 0.194768 + 0.043115\n",
      "[300]\tcv_agg's l2: 0.186574 + 0.0377174\n",
      "[400]\tcv_agg's l2: 0.183071 + 0.0352039\n",
      "[500]\tcv_agg's l2: 0.180376 + 0.0340226\n",
      "[600]\tcv_agg's l2: 0.178261 + 0.0317481\n",
      "[700]\tcv_agg's l2: 0.177592 + 0.0305396\n",
      "[800]\tcv_agg's l2: 0.177407 + 0.0301531\n",
      "[900]\tcv_agg's l2: 0.176923 + 0.0287473\n",
      "[1000]\tcv_agg's l2: 0.176182 + 0.0285556\n"
     ]
    },
    {
     "name": "stderr",
     "output_type": "stream",
     "text": [
      "bagging, val_score: 0.167251:  70%|#####################################                | 7/10 [00:13<00:05,  1.98s/it][I 2023-10-28 22:53:21,615] Trial 33 finished with value: 0.17569699798386593 and parameters: {'bagging_fraction': 0.9801523657451898, 'bagging_freq': 3}. Best is trial 30 with value: 0.1672511544567795.\n",
      "bagging, val_score: 0.167251:  70%|#####################################                | 7/10 [00:13<00:05,  1.98s/it]"
     ]
    },
    {
     "name": "stdout",
     "output_type": "stream",
     "text": [
      "[1100]\tcv_agg's l2: 0.175806 + 0.0277283\n",
      "Early stopping, best iteration is:\n",
      "[1034]\tcv_agg's l2: 0.167251 + 0.0327139\n",
      "[100]\tcv_agg's l2: 0.220553 + 0.0470533\n",
      "[200]\tcv_agg's l2: 0.200642 + 0.0389351\n",
      "[300]\tcv_agg's l2: 0.192184 + 0.0361649\n",
      "[400]\tcv_agg's l2: 0.188327 + 0.0333784\n",
      "[500]\tcv_agg's l2: 0.186394 + 0.0300067\n",
      "[600]\tcv_agg's l2: 0.183705 + 0.029835\n",
      "[700]\tcv_agg's l2: 0.18246 + 0.0286993\n",
      "[800]\tcv_agg's l2: 0.18091 + 0.0279355\n",
      "[900]\tcv_agg's l2: 0.180491 + 0.0265165\n",
      "[1000]\tcv_agg's l2: 0.179655 + 0.0274786\n",
      "[1100]\tcv_agg's l2: 0.180539 + 0.0262629\n"
     ]
    },
    {
     "name": "stderr",
     "output_type": "stream",
     "text": [
      "bagging, val_score: 0.167251:  80%|##########################################4          | 8/10 [00:16<00:04,  2.07s/it][I 2023-10-28 22:53:23,871] Trial 34 finished with value: 0.18039514755145422 and parameters: {'bagging_fraction': 0.8230007310458969, 'bagging_freq': 3}. Best is trial 30 with value: 0.1672511544567795.\n",
      "bagging, val_score: 0.167251:  80%|##########################################4          | 8/10 [00:16<00:04,  2.07s/it]"
     ]
    },
    {
     "name": "stdout",
     "output_type": "stream",
     "text": [
      "Early stopping, best iteration is:\n",
      "[1034]\tcv_agg's l2: 0.167251 + 0.0327139\n",
      "[100]\tcv_agg's l2: 0.218573 + 0.0368843\n",
      "[200]\tcv_agg's l2: 0.196973 + 0.0328724\n",
      "[300]\tcv_agg's l2: 0.187377 + 0.0269236\n",
      "[400]\tcv_agg's l2: 0.183732 + 0.0255739\n",
      "[500]\tcv_agg's l2: 0.181045 + 0.0244898\n",
      "[600]\tcv_agg's l2: 0.180101 + 0.0226393\n",
      "[700]\tcv_agg's l2: 0.178987 + 0.0228546\n",
      "[800]\tcv_agg's l2: 0.178264 + 0.0217268\n",
      "[900]\tcv_agg's l2: 0.177255 + 0.0199378\n",
      "[1000]\tcv_agg's l2: 0.176571 + 0.0192758\n"
     ]
    },
    {
     "name": "stderr",
     "output_type": "stream",
     "text": [
      "bagging, val_score: 0.167251:  90%|###############################################7     | 9/10 [00:18<00:02,  2.09s/it][I 2023-10-28 22:53:26,020] Trial 35 finished with value: 0.1765439122728705 and parameters: {'bagging_fraction': 0.8339656351890369, 'bagging_freq': 1}. Best is trial 30 with value: 0.1672511544567795.\n",
      "bagging, val_score: 0.167251:  90%|###############################################7     | 9/10 [00:18<00:02,  2.09s/it]"
     ]
    },
    {
     "name": "stdout",
     "output_type": "stream",
     "text": [
      "[1100]\tcv_agg's l2: 0.176075 + 0.0189344\n",
      "Early stopping, best iteration is:\n",
      "[1034]\tcv_agg's l2: 0.167251 + 0.0327139\n",
      "[100]\tcv_agg's l2: 0.210096 + 0.0506457\n",
      "[200]\tcv_agg's l2: 0.19014 + 0.0397636\n",
      "[300]\tcv_agg's l2: 0.183831 + 0.0361329\n",
      "[400]\tcv_agg's l2: 0.18145 + 0.0360514\n",
      "[500]\tcv_agg's l2: 0.178899 + 0.0322712\n",
      "[600]\tcv_agg's l2: 0.17712 + 0.0313401\n",
      "[700]\tcv_agg's l2: 0.175563 + 0.0310708\n",
      "[800]\tcv_agg's l2: 0.174438 + 0.0291295\n",
      "[900]\tcv_agg's l2: 0.173725 + 0.0276192\n",
      "[1000]\tcv_agg's l2: 0.173747 + 0.0274682\n"
     ]
    },
    {
     "name": "stderr",
     "output_type": "stream",
     "text": [
      "bagging, val_score: 0.167251: 100%|####################################################| 10/10 [00:20<00:00,  2.09s/it][I 2023-10-28 22:53:28,097] Trial 36 finished with value: 0.17421933131183756 and parameters: {'bagging_fraction': 0.8583191048586158, 'bagging_freq': 3}. Best is trial 30 with value: 0.1672511544567795.\n",
      "bagging, val_score: 0.167251: 100%|####################################################| 10/10 [00:20<00:00,  2.04s/it]\n"
     ]
    },
    {
     "name": "stdout",
     "output_type": "stream",
     "text": [
      "[1100]\tcv_agg's l2: 0.17443 + 0.0274835\n",
      "Early stopping, best iteration is:\n",
      "[1034]\tcv_agg's l2: 0.167251 + 0.0327139\n"
     ]
    },
    {
     "name": "stderr",
     "output_type": "stream",
     "text": [
      "feature_fraction_stage2, val_score: 0.167251:   0%|                                              | 0/6 [00:00<?, ?it/s]"
     ]
    },
    {
     "name": "stdout",
     "output_type": "stream",
     "text": [
      "[100]\tcv_agg's l2: 0.212557 + 0.0602036\n",
      "[200]\tcv_agg's l2: 0.191632 + 0.0472127\n",
      "[300]\tcv_agg's l2: 0.183863 + 0.0418065\n",
      "[400]\tcv_agg's l2: 0.180232 + 0.0386791\n",
      "[500]\tcv_agg's l2: 0.177575 + 0.036716\n",
      "[600]\tcv_agg's l2: 0.175732 + 0.0353622\n",
      "[700]\tcv_agg's l2: 0.1744 + 0.0345266\n",
      "[800]\tcv_agg's l2: 0.173786 + 0.0341679\n",
      "[900]\tcv_agg's l2: 0.172162 + 0.034433\n",
      "[1000]\tcv_agg's l2: 0.171775 + 0.0341268\n"
     ]
    },
    {
     "name": "stderr",
     "output_type": "stream",
     "text": [
      "feature_fraction_stage2, val_score: 0.167251:  17%|######3                               | 1/6 [00:01<00:09,  1.86s/it][I 2023-10-28 22:53:29,967] Trial 37 finished with value: 0.17194448254348565 and parameters: {'feature_fraction': 0.58}. Best is trial 37 with value: 0.17194448254348565.\n",
      "feature_fraction_stage2, val_score: 0.167251:  17%|######3                               | 1/6 [00:01<00:09,  1.86s/it]"
     ]
    },
    {
     "name": "stdout",
     "output_type": "stream",
     "text": [
      "[1100]\tcv_agg's l2: 0.172192 + 0.0347017\n",
      "Early stopping, best iteration is:\n",
      "[1034]\tcv_agg's l2: 0.167251 + 0.0327139\n",
      "[100]\tcv_agg's l2: 0.213128 + 0.0446233\n",
      "[200]\tcv_agg's l2: 0.190653 + 0.0375812\n",
      "[300]\tcv_agg's l2: 0.182898 + 0.0362424\n",
      "[400]\tcv_agg's l2: 0.180243 + 0.0339547\n",
      "[500]\tcv_agg's l2: 0.178802 + 0.0325069\n",
      "[600]\tcv_agg's l2: 0.177964 + 0.0323996\n",
      "[700]\tcv_agg's l2: 0.177901 + 0.0322311\n",
      "[800]\tcv_agg's l2: 0.177161 + 0.0321238\n",
      "[900]\tcv_agg's l2: 0.176442 + 0.0320728\n",
      "[1000]\tcv_agg's l2: 0.17617 + 0.0326993\n"
     ]
    },
    {
     "name": "stderr",
     "output_type": "stream",
     "text": [
      "feature_fraction_stage2, val_score: 0.167251:  33%|############6                         | 2/6 [00:03<00:07,  1.92s/it][I 2023-10-28 22:53:31,924] Trial 38 finished with value: 0.176218254430218 and parameters: {'feature_fraction': 0.45199999999999996}. Best is trial 37 with value: 0.17194448254348565.\n",
      "feature_fraction_stage2, val_score: 0.167251:  33%|############6                         | 2/6 [00:03<00:07,  1.92s/it]"
     ]
    },
    {
     "name": "stdout",
     "output_type": "stream",
     "text": [
      "[1100]\tcv_agg's l2: 0.176153 + 0.0321232\n",
      "Early stopping, best iteration is:\n",
      "[1034]\tcv_agg's l2: 0.167251 + 0.0327139\n",
      "[100]\tcv_agg's l2: 0.269686 + 0.032694\n",
      "[200]\tcv_agg's l2: 0.22587 + 0.0212418\n",
      "[300]\tcv_agg's l2: 0.210709 + 0.0185996\n",
      "[400]\tcv_agg's l2: 0.201351 + 0.0152996\n",
      "[500]\tcv_agg's l2: 0.196374 + 0.0147038\n",
      "[600]\tcv_agg's l2: 0.191676 + 0.0141476\n",
      "[700]\tcv_agg's l2: 0.189608 + 0.0140824\n",
      "[800]\tcv_agg's l2: 0.187698 + 0.0137798\n",
      "[900]\tcv_agg's l2: 0.187219 + 0.0137569\n",
      "[1000]\tcv_agg's l2: 0.185915 + 0.0131442\n"
     ]
    },
    {
     "name": "stderr",
     "output_type": "stream",
     "text": [
      "feature_fraction_stage2, val_score: 0.167251:  50%|###################                   | 3/6 [00:05<00:05,  1.87s/it][I 2023-10-28 22:53:33,732] Trial 39 finished with value: 0.18542748697698516 and parameters: {'feature_fraction': 0.42}. Best is trial 37 with value: 0.17194448254348565.\n",
      "feature_fraction_stage2, val_score: 0.167251:  50%|###################                   | 3/6 [00:05<00:05,  1.87s/it]"
     ]
    },
    {
     "name": "stdout",
     "output_type": "stream",
     "text": [
      "[1100]\tcv_agg's l2: 0.185189 + 0.0136536\n",
      "Early stopping, best iteration is:\n",
      "[1034]\tcv_agg's l2: 0.167251 + 0.0327139\n",
      "[100]\tcv_agg's l2: 0.213128 + 0.0446233\n",
      "[200]\tcv_agg's l2: 0.190653 + 0.0375812\n",
      "[300]\tcv_agg's l2: 0.182898 + 0.0362424\n",
      "[400]\tcv_agg's l2: 0.180243 + 0.0339547\n",
      "[500]\tcv_agg's l2: 0.178802 + 0.0325069\n",
      "[600]\tcv_agg's l2: 0.177964 + 0.0323996\n",
      "[700]\tcv_agg's l2: 0.177901 + 0.0322311\n",
      "[800]\tcv_agg's l2: 0.177161 + 0.0321238\n",
      "[900]\tcv_agg's l2: 0.176442 + 0.0320728\n",
      "[1000]\tcv_agg's l2: 0.17617 + 0.0326993\n"
     ]
    },
    {
     "name": "stderr",
     "output_type": "stream",
     "text": [
      "feature_fraction_stage2, val_score: 0.167251:  67%|#########################3            | 4/6 [00:07<00:03,  1.87s/it][I 2023-10-28 22:53:35,602] Trial 40 finished with value: 0.176218254430218 and parameters: {'feature_fraction': 0.484}. Best is trial 37 with value: 0.17194448254348565.\n",
      "feature_fraction_stage2, val_score: 0.167251:  67%|#########################3            | 4/6 [00:07<00:03,  1.87s/it]"
     ]
    },
    {
     "name": "stdout",
     "output_type": "stream",
     "text": [
      "[1100]\tcv_agg's l2: 0.176153 + 0.0321232\n",
      "Early stopping, best iteration is:\n",
      "[1034]\tcv_agg's l2: 0.167251 + 0.0327139\n",
      "[100]\tcv_agg's l2: 0.205388 + 0.0620366\n",
      "[200]\tcv_agg's l2: 0.185795 + 0.0503854\n",
      "[300]\tcv_agg's l2: 0.1798 + 0.0430902\n",
      "[400]\tcv_agg's l2: 0.176543 + 0.0396884\n",
      "[500]\tcv_agg's l2: 0.173627 + 0.0367\n",
      "[600]\tcv_agg's l2: 0.171287 + 0.0353216\n",
      "[700]\tcv_agg's l2: 0.169807 + 0.034365\n",
      "[800]\tcv_agg's l2: 0.168546 + 0.0344482\n",
      "[900]\tcv_agg's l2: 0.168108 + 0.0338656\n",
      "[1000]\tcv_agg's l2: 0.16762 + 0.0331463\n"
     ]
    },
    {
     "name": "stderr",
     "output_type": "stream",
     "text": [
      "feature_fraction_stage2, val_score: 0.167251:  83%|###############################6      | 5/6 [00:09<00:01,  1.88s/it][I 2023-10-28 22:53:37,498] Trial 41 finished with value: 0.1672511544567795 and parameters: {'feature_fraction': 0.516}. Best is trial 41 with value: 0.1672511544567795.\n",
      "feature_fraction_stage2, val_score: 0.167251:  83%|###############################6      | 5/6 [00:09<00:01,  1.88s/it]"
     ]
    },
    {
     "name": "stdout",
     "output_type": "stream",
     "text": [
      "[1100]\tcv_agg's l2: 0.168122 + 0.0331992\n",
      "Early stopping, best iteration is:\n",
      "[1034]\tcv_agg's l2: 0.167251 + 0.0327139\n",
      "[100]\tcv_agg's l2: 0.205388 + 0.0620366\n",
      "[200]\tcv_agg's l2: 0.185795 + 0.0503854\n",
      "[300]\tcv_agg's l2: 0.1798 + 0.0430902\n",
      "[400]\tcv_agg's l2: 0.176543 + 0.0396884\n",
      "[500]\tcv_agg's l2: 0.173627 + 0.0367\n",
      "[600]\tcv_agg's l2: 0.171287 + 0.0353216\n",
      "[700]\tcv_agg's l2: 0.169807 + 0.034365\n",
      "[800]\tcv_agg's l2: 0.168546 + 0.0344482\n",
      "[900]\tcv_agg's l2: 0.168108 + 0.0338656\n",
      "[1000]\tcv_agg's l2: 0.16762 + 0.0331463\n"
     ]
    },
    {
     "name": "stderr",
     "output_type": "stream",
     "text": [
      "feature_fraction_stage2, val_score: 0.167251: 100%|######################################| 6/6 [00:11<00:00,  1.84s/it][I 2023-10-28 22:53:39,275] Trial 42 finished with value: 0.1672511544567795 and parameters: {'feature_fraction': 0.5479999999999999}. Best is trial 41 with value: 0.1672511544567795.\n",
      "feature_fraction_stage2, val_score: 0.167251: 100%|######################################| 6/6 [00:11<00:00,  1.86s/it]\n"
     ]
    },
    {
     "name": "stdout",
     "output_type": "stream",
     "text": [
      "[1100]\tcv_agg's l2: 0.168122 + 0.0331992\n",
      "Early stopping, best iteration is:\n",
      "[1034]\tcv_agg's l2: 0.167251 + 0.0327139\n"
     ]
    },
    {
     "name": "stderr",
     "output_type": "stream",
     "text": [
      "regularization_factors, val_score: 0.167251:   0%|                                              | 0/20 [00:00<?, ?it/s]"
     ]
    },
    {
     "name": "stdout",
     "output_type": "stream",
     "text": [
      "[100]\tcv_agg's l2: 0.207002 + 0.0642934\n",
      "[200]\tcv_agg's l2: 0.186727 + 0.0506166\n",
      "[300]\tcv_agg's l2: 0.180275 + 0.0450821\n",
      "[400]\tcv_agg's l2: 0.176958 + 0.0404708\n",
      "[500]\tcv_agg's l2: 0.173316 + 0.0390793\n",
      "[600]\tcv_agg's l2: 0.171334 + 0.0376579\n",
      "[700]\tcv_agg's l2: 0.17121 + 0.0369463\n",
      "[800]\tcv_agg's l2: 0.171537 + 0.036773\n",
      "[900]\tcv_agg's l2: 0.171042 + 0.0364114\n",
      "[1000]\tcv_agg's l2: 0.170697 + 0.0356335\n",
      "[1100]\tcv_agg's l2: 0.17063 + 0.0356754\n"
     ]
    },
    {
     "name": "stderr",
     "output_type": "stream",
     "text": [
      "regularization_factors, val_score: 0.167251:   5%|#9                                    | 1/20 [00:02<00:38,  2.00s/it][I 2023-10-28 22:53:41,285] Trial 43 finished with value: 0.17044922989187242 and parameters: {'lambda_l1': 0.025359086191366346, 'lambda_l2': 2.5274102784382957e-08}. Best is trial 43 with value: 0.17044922989187242.\n",
      "regularization_factors, val_score: 0.167251:   5%|#9                                    | 1/20 [00:02<00:38,  2.00s/it]"
     ]
    },
    {
     "name": "stdout",
     "output_type": "stream",
     "text": [
      "Early stopping, best iteration is:\n",
      "[1034]\tcv_agg's l2: 0.167251 + 0.0327139\n",
      "[100]\tcv_agg's l2: 0.206414 + 0.0642318\n",
      "[200]\tcv_agg's l2: 0.185236 + 0.0516313\n",
      "[300]\tcv_agg's l2: 0.17804 + 0.0430976\n",
      "[400]\tcv_agg's l2: 0.174574 + 0.0403192\n",
      "[500]\tcv_agg's l2: 0.171864 + 0.0376923\n",
      "[600]\tcv_agg's l2: 0.169625 + 0.0358499\n",
      "[700]\tcv_agg's l2: 0.167862 + 0.0352013\n",
      "[800]\tcv_agg's l2: 0.166794 + 0.0342626\n"
     ]
    },
    {
     "name": "stderr",
     "output_type": "stream",
     "text": [
      "regularization_factors, val_score: 0.166391:  10%|###8                                  | 2/20 [00:03<00:30,  1.68s/it][I 2023-10-28 22:53:42,739] Trial 44 finished with value: 0.1663914682652073 and parameters: {'lambda_l1': 0.03614293377106285, 'lambda_l2': 1.3169595758136168e-08}. Best is trial 44 with value: 0.1663914682652073.\n",
      "regularization_factors, val_score: 0.166391:  10%|###8                                  | 2/20 [00:03<00:30,  1.68s/it]"
     ]
    },
    {
     "name": "stdout",
     "output_type": "stream",
     "text": [
      "Early stopping, best iteration is:\n",
      "[780]\tcv_agg's l2: 0.166391 + 0.0341343\n",
      "[100]\tcv_agg's l2: 0.250283 + 0.0641952\n",
      "[200]\tcv_agg's l2: 0.237441 + 0.0637465\n",
      "[300]\tcv_agg's l2: 0.236717 + 0.0639175\n",
      "[400]\tcv_agg's l2: 0.236716 + 0.0639179\n",
      "[500]\tcv_agg's l2: 0.236716 + 0.0639179\n",
      "[600]\tcv_agg's l2: 0.236716 + 0.0639179\n",
      "[700]\tcv_agg's l2: 0.236716 + 0.0639179\n",
      "[800]\tcv_agg's l2: 0.236716 + 0.0639179\n"
     ]
    },
    {
     "name": "stderr",
     "output_type": "stream",
     "text": [
      "regularization_factors, val_score: 0.166391:  15%|#####7                                | 3/20 [00:04<00:23,  1.40s/it][I 2023-10-28 22:53:43,809] Trial 45 finished with value: 0.2367155204190773 and parameters: {'lambda_l1': 8.866786628865974, 'lambda_l2': 1.1998187314974994e-08}. Best is trial 44 with value: 0.1663914682652073.\n",
      "regularization_factors, val_score: 0.166391:  15%|#####7                                | 3/20 [00:04<00:23,  1.40s/it]"
     ]
    },
    {
     "name": "stdout",
     "output_type": "stream",
     "text": [
      "Early stopping, best iteration is:\n",
      "[780]\tcv_agg's l2: 0.166391 + 0.0341343\n",
      "[100]\tcv_agg's l2: 0.214066 + 0.0522895\n",
      "[200]\tcv_agg's l2: 0.192283 + 0.0439268\n",
      "[300]\tcv_agg's l2: 0.184251 + 0.0406744\n",
      "[400]\tcv_agg's l2: 0.180763 + 0.038911\n",
      "[500]\tcv_agg's l2: 0.178854 + 0.036897\n",
      "[600]\tcv_agg's l2: 0.176693 + 0.0341851\n",
      "[700]\tcv_agg's l2: 0.175582 + 0.0336026\n"
     ]
    },
    {
     "name": "stderr",
     "output_type": "stream",
     "text": [
      "regularization_factors, val_score: 0.166391:  20%|#######6                              | 4/20 [00:05<00:22,  1.41s/it][I 2023-10-28 22:53:45,232] Trial 46 finished with value: 0.17478806337869007 and parameters: {'lambda_l1': 6.576683831415983e-07, 'lambda_l2': 0.9868809066191926}. Best is trial 44 with value: 0.1663914682652073.\n",
      "regularization_factors, val_score: 0.166391:  20%|#######6                              | 4/20 [00:05<00:22,  1.41s/it]"
     ]
    },
    {
     "name": "stdout",
     "output_type": "stream",
     "text": [
      "[800]\tcv_agg's l2: 0.17472 + 0.0331275\n",
      "Early stopping, best iteration is:\n",
      "[780]\tcv_agg's l2: 0.166391 + 0.0341343\n",
      "[100]\tcv_agg's l2: 0.205389 + 0.0620374\n",
      "[200]\tcv_agg's l2: 0.185595 + 0.0505669\n",
      "[300]\tcv_agg's l2: 0.179213 + 0.0423383\n",
      "[400]\tcv_agg's l2: 0.175683 + 0.0387863\n",
      "[500]\tcv_agg's l2: 0.172522 + 0.0366311\n",
      "[600]\tcv_agg's l2: 0.170453 + 0.0361282\n",
      "[700]\tcv_agg's l2: 0.169423 + 0.036502\n",
      "[800]\tcv_agg's l2: 0.168474 + 0.0355105\n"
     ]
    },
    {
     "name": "stderr",
     "output_type": "stream",
     "text": [
      "regularization_factors, val_score: 0.166391:  25%|#########5                            | 5/20 [00:07<00:21,  1.43s/it][I 2023-10-28 22:53:46,697] Trial 47 finished with value: 0.16848952599854553 and parameters: {'lambda_l1': 0.0004536326963139213, 'lambda_l2': 2.837046637708302e-05}. Best is trial 44 with value: 0.1663914682652073.\n",
      "regularization_factors, val_score: 0.166391:  25%|#########5                            | 5/20 [00:07<00:21,  1.43s/it]"
     ]
    },
    {
     "name": "stdout",
     "output_type": "stream",
     "text": [
      "Early stopping, best iteration is:\n",
      "[780]\tcv_agg's l2: 0.166391 + 0.0341343\n",
      "[100]\tcv_agg's l2: 0.205388 + 0.0620366\n",
      "[200]\tcv_agg's l2: 0.185795 + 0.0503854\n",
      "[300]\tcv_agg's l2: 0.1798 + 0.0430902\n",
      "[400]\tcv_agg's l2: 0.176543 + 0.0396884\n",
      "[500]\tcv_agg's l2: 0.173627 + 0.0367\n",
      "[600]\tcv_agg's l2: 0.171287 + 0.0353216\n",
      "[700]\tcv_agg's l2: 0.169807 + 0.034365\n"
     ]
    },
    {
     "name": "stderr",
     "output_type": "stream",
     "text": [
      "regularization_factors, val_score: 0.166391:  30%|###########4                          | 6/20 [00:08<00:19,  1.42s/it][I 2023-10-28 22:53:48,107] Trial 48 finished with value: 0.16869168050179856 and parameters: {'lambda_l1': 2.62291358465246e-08, 'lambda_l2': 2.4134972130300598e-05}. Best is trial 44 with value: 0.1663914682652073.\n",
      "regularization_factors, val_score: 0.166391:  30%|###########4                          | 6/20 [00:08<00:19,  1.42s/it]"
     ]
    },
    {
     "name": "stdout",
     "output_type": "stream",
     "text": [
      "[800]\tcv_agg's l2: 0.168546 + 0.0344482\n",
      "Early stopping, best iteration is:\n",
      "[780]\tcv_agg's l2: 0.166391 + 0.0341343\n",
      "[100]\tcv_agg's l2: 0.210465 + 0.0618282\n",
      "[200]\tcv_agg's l2: 0.189462 + 0.0485468\n",
      "[300]\tcv_agg's l2: 0.181466 + 0.0426339\n",
      "[400]\tcv_agg's l2: 0.178313 + 0.0406281\n",
      "[500]\tcv_agg's l2: 0.173958 + 0.0378716\n",
      "[600]\tcv_agg's l2: 0.17201 + 0.0376884\n",
      "[700]\tcv_agg's l2: 0.171174 + 0.0362226\n",
      "[800]\tcv_agg's l2: 0.170027 + 0.0343782\n"
     ]
    },
    {
     "name": "stderr",
     "output_type": "stream",
     "text": [
      "regularization_factors, val_score: 0.166391:  35%|#############3                        | 7/20 [00:10<00:19,  1.47s/it][I 2023-10-28 22:53:49,664] Trial 49 finished with value: 0.17012664172006237 and parameters: {'lambda_l1': 0.023827802807868843, 'lambda_l2': 0.010429764203948685}. Best is trial 44 with value: 0.1663914682652073.\n",
      "regularization_factors, val_score: 0.166391:  35%|#############3                        | 7/20 [00:10<00:19,  1.47s/it]"
     ]
    },
    {
     "name": "stdout",
     "output_type": "stream",
     "text": [
      "Early stopping, best iteration is:\n",
      "[780]\tcv_agg's l2: 0.166391 + 0.0341343\n",
      "[100]\tcv_agg's l2: 0.236999 + 0.065004\n",
      "[200]\tcv_agg's l2: 0.22305 + 0.0626357\n",
      "[300]\tcv_agg's l2: 0.221402 + 0.0631866\n",
      "[400]\tcv_agg's l2: 0.2214 + 0.0631875\n",
      "[500]\tcv_agg's l2: 0.2214 + 0.0631875\n",
      "[600]\tcv_agg's l2: 0.2214 + 0.0631875\n",
      "[700]\tcv_agg's l2: 0.2214 + 0.0631875\n"
     ]
    },
    {
     "name": "stderr",
     "output_type": "stream",
     "text": [
      "regularization_factors, val_score: 0.166391:  40%|###############2                      | 8/20 [00:11<00:16,  1.39s/it][I 2023-10-28 22:53:50,880] Trial 50 finished with value: 0.22139991934458442 and parameters: {'lambda_l1': 6.884278221547683, 'lambda_l2': 1.4281412785490586e-06}. Best is trial 44 with value: 0.1663914682652073.\n",
      "regularization_factors, val_score: 0.166391:  40%|###############2                      | 8/20 [00:11<00:16,  1.39s/it]"
     ]
    },
    {
     "name": "stdout",
     "output_type": "stream",
     "text": [
      "[800]\tcv_agg's l2: 0.2214 + 0.0631875\n",
      "Early stopping, best iteration is:\n",
      "[780]\tcv_agg's l2: 0.166391 + 0.0341343\n",
      "[100]\tcv_agg's l2: 0.205388 + 0.0620369\n",
      "[200]\tcv_agg's l2: 0.185594 + 0.050566\n",
      "[300]\tcv_agg's l2: 0.179338 + 0.0422943\n",
      "[400]\tcv_agg's l2: 0.175886 + 0.0390397\n",
      "[500]\tcv_agg's l2: 0.172639 + 0.0368858\n",
      "[600]\tcv_agg's l2: 0.170521 + 0.036381\n",
      "[700]\tcv_agg's l2: 0.169564 + 0.0363815\n",
      "[800]\tcv_agg's l2: 0.168579 + 0.0348616\n"
     ]
    },
    {
     "name": "stderr",
     "output_type": "stream",
     "text": [
      "regularization_factors, val_score: 0.166391:  45%|#################1                    | 9/20 [00:13<00:16,  1.51s/it][I 2023-10-28 22:53:52,655] Trial 51 finished with value: 0.16883430267926058 and parameters: {'lambda_l1': 0.0001607390957589712, 'lambda_l2': 0.00020000271744521176}. Best is trial 44 with value: 0.1663914682652073.\n",
      "regularization_factors, val_score: 0.166391:  45%|#################1                    | 9/20 [00:13<00:16,  1.51s/it]"
     ]
    },
    {
     "name": "stdout",
     "output_type": "stream",
     "text": [
      "Early stopping, best iteration is:\n",
      "[780]\tcv_agg's l2: 0.166391 + 0.0341343\n",
      "[100]\tcv_agg's l2: 0.205388 + 0.062037\n",
      "[200]\tcv_agg's l2: 0.185595 + 0.0505662\n",
      "[300]\tcv_agg's l2: 0.179338 + 0.0422946\n",
      "[400]\tcv_agg's l2: 0.175886 + 0.0390401\n",
      "[500]\tcv_agg's l2: 0.172647 + 0.0368829\n",
      "[600]\tcv_agg's l2: 0.170694 + 0.0363062\n",
      "[700]\tcv_agg's l2: 0.169799 + 0.036278\n",
      "[800]\tcv_agg's l2: 0.168412 + 0.0349567\n"
     ]
    },
    {
     "name": "stderr",
     "output_type": "stream",
     "text": [
      "regularization_factors, val_score: 0.166391:  50%|##################5                  | 10/20 [00:14<00:15,  1.51s/it][I 2023-10-28 22:53:54,177] Trial 52 finished with value: 0.16864186383652555 and parameters: {'lambda_l1': 0.00024134564444665225, 'lambda_l2': 1.4259519029653607e-06}. Best is trial 44 with value: 0.1663914682652073.\n",
      "regularization_factors, val_score: 0.166391:  50%|##################5                  | 10/20 [00:14<00:15,  1.51s/it]"
     ]
    },
    {
     "name": "stdout",
     "output_type": "stream",
     "text": [
      "Early stopping, best iteration is:\n",
      "[780]\tcv_agg's l2: 0.166391 + 0.0341343\n",
      "[100]\tcv_agg's l2: 0.21037 + 0.0620941\n",
      "[200]\tcv_agg's l2: 0.189166 + 0.0491805\n",
      "[300]\tcv_agg's l2: 0.181823 + 0.0440739\n",
      "[400]\tcv_agg's l2: 0.17675 + 0.0409515\n",
      "[500]\tcv_agg's l2: 0.174007 + 0.0396165\n",
      "[600]\tcv_agg's l2: 0.171286 + 0.0371205\n",
      "[700]\tcv_agg's l2: 0.170654 + 0.035843\n",
      "[800]\tcv_agg's l2: 0.169977 + 0.035555\n"
     ]
    },
    {
     "name": "stderr",
     "output_type": "stream",
     "text": [
      "regularization_factors, val_score: 0.166391:  55%|####################3                | 11/20 [00:16<00:13,  1.52s/it][I 2023-10-28 22:53:55,725] Trial 53 finished with value: 0.17017963723198667 and parameters: {'lambda_l1': 0.013345913250566674, 'lambda_l2': 0.007837325282816436}. Best is trial 44 with value: 0.1663914682652073.\n",
      "regularization_factors, val_score: 0.166391:  55%|####################3                | 11/20 [00:16<00:13,  1.52s/it]"
     ]
    },
    {
     "name": "stdout",
     "output_type": "stream",
     "text": [
      "Early stopping, best iteration is:\n",
      "[780]\tcv_agg's l2: 0.166391 + 0.0341343\n",
      "[100]\tcv_agg's l2: 0.205388 + 0.0620366\n",
      "[200]\tcv_agg's l2: 0.185795 + 0.0503855\n",
      "[300]\tcv_agg's l2: 0.1798 + 0.0430902\n",
      "[400]\tcv_agg's l2: 0.17652 + 0.0397105\n",
      "[500]\tcv_agg's l2: 0.173694 + 0.0365401\n",
      "[600]\tcv_agg's l2: 0.171566 + 0.0349831\n",
      "[700]\tcv_agg's l2: 0.170475 + 0.0337514\n",
      "[800]\tcv_agg's l2: 0.169646 + 0.03357\n"
     ]
    },
    {
     "name": "stderr",
     "output_type": "stream",
     "text": [
      "regularization_factors, val_score: 0.166391:  60%|######################2              | 12/20 [00:17<00:11,  1.49s/it][I 2023-10-28 22:53:57,137] Trial 54 finished with value: 0.16981727232881524 and parameters: {'lambda_l1': 2.020740976287717e-05, 'lambda_l2': 3.6921707996902e-07}. Best is trial 44 with value: 0.1663914682652073.\n",
      "regularization_factors, val_score: 0.166391:  60%|######################2              | 12/20 [00:17<00:11,  1.49s/it]"
     ]
    },
    {
     "name": "stdout",
     "output_type": "stream",
     "text": [
      "Early stopping, best iteration is:\n",
      "[780]\tcv_agg's l2: 0.166391 + 0.0341343\n",
      "[100]\tcv_agg's l2: 0.205395 + 0.062042\n",
      "[200]\tcv_agg's l2: 0.185735 + 0.0504627\n",
      "[300]\tcv_agg's l2: 0.178586 + 0.0432511\n",
      "[400]\tcv_agg's l2: 0.175559 + 0.0390039\n",
      "[500]\tcv_agg's l2: 0.173899 + 0.0379579\n",
      "[600]\tcv_agg's l2: 0.172314 + 0.0368249\n",
      "[700]\tcv_agg's l2: 0.171843 + 0.0371735\n"
     ]
    },
    {
     "name": "stderr",
     "output_type": "stream",
     "text": [
      "regularization_factors, val_score: 0.166391:  65%|########################             | 13/20 [00:19<00:10,  1.50s/it][I 2023-10-28 22:53:58,659] Trial 55 finished with value: 0.17104081381883124 and parameters: {'lambda_l1': 0.0031190567272821263, 'lambda_l2': 4.7989584587126635e-05}. Best is trial 44 with value: 0.1663914682652073.\n",
      "regularization_factors, val_score: 0.166391:  65%|########################             | 13/20 [00:19<00:10,  1.50s/it]"
     ]
    },
    {
     "name": "stdout",
     "output_type": "stream",
     "text": [
      "[800]\tcv_agg's l2: 0.170966 + 0.0369241\n",
      "Early stopping, best iteration is:\n",
      "[780]\tcv_agg's l2: 0.166391 + 0.0341343\n",
      "[100]\tcv_agg's l2: 0.212305 + 0.0600711\n",
      "[200]\tcv_agg's l2: 0.193284 + 0.0476989\n",
      "[300]\tcv_agg's l2: 0.18479 + 0.0420507\n",
      "[400]\tcv_agg's l2: 0.181022 + 0.0388098\n",
      "[500]\tcv_agg's l2: 0.178308 + 0.0378687\n",
      "[600]\tcv_agg's l2: 0.17664 + 0.035024\n",
      "[700]\tcv_agg's l2: 0.174448 + 0.0332081\n"
     ]
    },
    {
     "name": "stderr",
     "output_type": "stream",
     "text": [
      "regularization_factors, val_score: 0.166391:  70%|#########################9           | 14/20 [00:20<00:09,  1.53s/it][I 2023-10-28 22:54:00,257] Trial 56 finished with value: 0.17355171758734755 and parameters: {'lambda_l1': 0.22353237588917885, 'lambda_l2': 1.7959485500844417e-07}. Best is trial 44 with value: 0.1663914682652073.\n",
      "regularization_factors, val_score: 0.166391:  70%|#########################9           | 14/20 [00:20<00:09,  1.53s/it]"
     ]
    },
    {
     "name": "stdout",
     "output_type": "stream",
     "text": [
      "[800]\tcv_agg's l2: 0.173632 + 0.0323374\n",
      "Early stopping, best iteration is:\n",
      "[780]\tcv_agg's l2: 0.166391 + 0.0341343\n",
      "[100]\tcv_agg's l2: 0.205388 + 0.0620366\n",
      "[200]\tcv_agg's l2: 0.185795 + 0.0503855\n",
      "[300]\tcv_agg's l2: 0.1798 + 0.0430902\n",
      "[400]\tcv_agg's l2: 0.17652 + 0.0397105\n",
      "[500]\tcv_agg's l2: 0.173694 + 0.0365401\n",
      "[600]\tcv_agg's l2: 0.171566 + 0.034983\n",
      "[700]\tcv_agg's l2: 0.170475 + 0.0337514\n",
      "[800]\tcv_agg's l2: 0.169646 + 0.03357\n"
     ]
    },
    {
     "name": "stderr",
     "output_type": "stream",
     "text": [
      "regularization_factors, val_score: 0.166391:  75%|###########################7         | 15/20 [00:22<00:07,  1.54s/it][I 2023-10-28 22:54:01,826] Trial 57 finished with value: 0.1698172806356342 and parameters: {'lambda_l1': 1.4619380496388718e-05, 'lambda_l2': 1.033385510230626e-05}. Best is trial 44 with value: 0.1663914682652073.\n",
      "regularization_factors, val_score: 0.166391:  75%|###########################7         | 15/20 [00:22<00:07,  1.54s/it]"
     ]
    },
    {
     "name": "stdout",
     "output_type": "stream",
     "text": [
      "Early stopping, best iteration is:\n",
      "[780]\tcv_agg's l2: 0.166391 + 0.0341343\n",
      "[100]\tcv_agg's l2: 0.20539 + 0.0620385\n",
      "[200]\tcv_agg's l2: 0.185597 + 0.0505688\n",
      "[300]\tcv_agg's l2: 0.179068 + 0.042928\n",
      "[400]\tcv_agg's l2: 0.175928 + 0.0393719\n",
      "[500]\tcv_agg's l2: 0.173919 + 0.0373684\n",
      "[600]\tcv_agg's l2: 0.172235 + 0.0366286\n",
      "[700]\tcv_agg's l2: 0.170845 + 0.0355106\n",
      "[800]\tcv_agg's l2: 0.170124 + 0.0348436\n"
     ]
    },
    {
     "name": "stderr",
     "output_type": "stream",
     "text": [
      "regularization_factors, val_score: 0.166391:  80%|#############################6       | 16/20 [00:24<00:06,  1.57s/it][I 2023-10-28 22:54:03,448] Trial 58 finished with value: 0.1700294001775018 and parameters: {'lambda_l1': 0.001093477764588093, 'lambda_l2': 9.915733436976712e-08}. Best is trial 44 with value: 0.1663914682652073.\n",
      "regularization_factors, val_score: 0.166391:  80%|#############################6       | 16/20 [00:24<00:06,  1.57s/it]"
     ]
    },
    {
     "name": "stdout",
     "output_type": "stream",
     "text": [
      "Early stopping, best iteration is:\n",
      "[780]\tcv_agg's l2: 0.166391 + 0.0341343\n",
      "[100]\tcv_agg's l2: 0.212302 + 0.0620512\n",
      "[200]\tcv_agg's l2: 0.191271 + 0.0475519\n",
      "[300]\tcv_agg's l2: 0.182893 + 0.0445204\n",
      "[400]\tcv_agg's l2: 0.179542 + 0.0407484\n",
      "[500]\tcv_agg's l2: 0.177183 + 0.039646\n",
      "[600]\tcv_agg's l2: 0.175618 + 0.0378125\n",
      "[700]\tcv_agg's l2: 0.173449 + 0.0367001\n"
     ]
    },
    {
     "name": "stderr",
     "output_type": "stream",
     "text": [
      "regularization_factors, val_score: 0.166391:  85%|###############################4     | 17/20 [00:25<00:04,  1.55s/it][I 2023-10-28 22:54:04,966] Trial 59 finished with value: 0.1725431328724617 and parameters: {'lambda_l1': 0.5234458275488798, 'lambda_l2': 1.388143037810109e-08}. Best is trial 44 with value: 0.1663914682652073.\n",
      "regularization_factors, val_score: 0.166391:  85%|###############################4     | 17/20 [00:25<00:04,  1.55s/it]"
     ]
    },
    {
     "name": "stdout",
     "output_type": "stream",
     "text": [
      "[800]\tcv_agg's l2: 0.172335 + 0.0359935\n",
      "Early stopping, best iteration is:\n",
      "[780]\tcv_agg's l2: 0.166391 + 0.0341343\n",
      "[100]\tcv_agg's l2: 0.205389 + 0.0620377\n",
      "[200]\tcv_agg's l2: 0.185596 + 0.0505674\n",
      "[300]\tcv_agg's l2: 0.179213 + 0.0423391\n",
      "[400]\tcv_agg's l2: 0.175683 + 0.0387873\n",
      "[500]\tcv_agg's l2: 0.172522 + 0.0366321\n",
      "[600]\tcv_agg's l2: 0.170453 + 0.036129\n",
      "[700]\tcv_agg's l2: 0.16952 + 0.0365343\n",
      "[800]\tcv_agg's l2: 0.168999 + 0.0364297\n"
     ]
    },
    {
     "name": "stderr",
     "output_type": "stream",
     "text": [
      "regularization_factors, val_score: 0.166391:  90%|#################################3   | 18/20 [00:27<00:03,  1.51s/it][I 2023-10-28 22:54:06,382] Trial 60 finished with value: 0.16935907216919877 and parameters: {'lambda_l1': 0.0006447511175594574, 'lambda_l2': 2.5521707185081437e-06}. Best is trial 44 with value: 0.1663914682652073.\n",
      "regularization_factors, val_score: 0.166391:  90%|#################################3   | 18/20 [00:27<00:03,  1.51s/it]"
     ]
    },
    {
     "name": "stdout",
     "output_type": "stream",
     "text": [
      "Early stopping, best iteration is:\n",
      "[780]\tcv_agg's l2: 0.166391 + 0.0341343\n",
      "[100]\tcv_agg's l2: 0.205388 + 0.0620368\n",
      "[200]\tcv_agg's l2: 0.185795 + 0.0503857\n",
      "[300]\tcv_agg's l2: 0.1798 + 0.0430906\n",
      "[400]\tcv_agg's l2: 0.17652 + 0.0397109\n",
      "[500]\tcv_agg's l2: 0.173807 + 0.0367432\n",
      "[600]\tcv_agg's l2: 0.172336 + 0.0363732\n",
      "[700]\tcv_agg's l2: 0.171059 + 0.0348127\n"
     ]
    },
    {
     "name": "stderr",
     "output_type": "stream",
     "text": [
      "regularization_factors, val_score: 0.166391:  95%|###################################1 | 19/20 [00:28<00:01,  1.49s/it][I 2023-10-28 22:54:07,822] Trial 61 finished with value: 0.17040285583566567 and parameters: {'lambda_l1': 0.00010475267164843334, 'lambda_l2': 9.016024293261276e-07}. Best is trial 44 with value: 0.1663914682652073.\n",
      "regularization_factors, val_score: 0.166391:  95%|###################################1 | 19/20 [00:28<00:01,  1.49s/it]"
     ]
    },
    {
     "name": "stdout",
     "output_type": "stream",
     "text": [
      "[800]\tcv_agg's l2: 0.170224 + 0.0346175\n",
      "Early stopping, best iteration is:\n",
      "[780]\tcv_agg's l2: 0.166391 + 0.0341343\n",
      "[100]\tcv_agg's l2: 0.206035 + 0.0632196\n",
      "[200]\tcv_agg's l2: 0.186692 + 0.0522083\n",
      "[300]\tcv_agg's l2: 0.179615 + 0.0451378\n",
      "[400]\tcv_agg's l2: 0.176715 + 0.0411403\n",
      "[500]\tcv_agg's l2: 0.173916 + 0.0379891\n",
      "[600]\tcv_agg's l2: 0.172235 + 0.036681\n",
      "[700]\tcv_agg's l2: 0.171335 + 0.0361819\n",
      "[800]\tcv_agg's l2: 0.170735 + 0.0367243\n"
     ]
    },
    {
     "name": "stderr",
     "output_type": "stream",
     "text": [
      "regularization_factors, val_score: 0.166391: 100%|#####################################| 20/20 [00:29<00:00,  1.46s/it][I 2023-10-28 22:54:09,228] Trial 62 finished with value: 0.17096352804344214 and parameters: {'lambda_l1': 0.003202297329660374, 'lambda_l2': 4.4872519499509904e-06}. Best is trial 44 with value: 0.1663914682652073.\n",
      "regularization_factors, val_score: 0.166391: 100%|#####################################| 20/20 [00:29<00:00,  1.50s/it]\n"
     ]
    },
    {
     "name": "stdout",
     "output_type": "stream",
     "text": [
      "Early stopping, best iteration is:\n",
      "[780]\tcv_agg's l2: 0.166391 + 0.0341343\n"
     ]
    },
    {
     "name": "stderr",
     "output_type": "stream",
     "text": [
      "min_data_in_leaf, val_score: 0.166391:   0%|                                                     | 0/5 [00:00<?, ?it/s]"
     ]
    },
    {
     "name": "stdout",
     "output_type": "stream",
     "text": [
      "[100]\tcv_agg's l2: 0.197163 + 0.0597941\n",
      "[200]\tcv_agg's l2: 0.171497 + 0.0457868\n",
      "[300]\tcv_agg's l2: 0.161101 + 0.0368793\n",
      "[400]\tcv_agg's l2: 0.156937 + 0.0306542\n",
      "[500]\tcv_agg's l2: 0.155196 + 0.0281465\n",
      "[600]\tcv_agg's l2: 0.152282 + 0.026341\n",
      "[700]\tcv_agg's l2: 0.151238 + 0.0249805\n",
      "[800]\tcv_agg's l2: 0.150081 + 0.0236185\n",
      "[900]\tcv_agg's l2: 0.149314 + 0.0220663\n",
      "[1000]\tcv_agg's l2: 0.148801 + 0.020353\n",
      "[1100]\tcv_agg's l2: 0.148665 + 0.0186578\n",
      "[1200]\tcv_agg's l2: 0.148831 + 0.0186399\n",
      "Early stopping, best iteration is:\n",
      "[1140]\tcv_agg's l2: 0.148345 + 0.0186142\n"
     ]
    },
    {
     "name": "stderr",
     "output_type": "stream",
     "text": [
      "min_data_in_leaf, val_score: 0.148345:  20%|#########                                    | 1/5 [00:01<00:07,  1.99s/it][I 2023-10-28 22:54:11,226] Trial 63 finished with value: 0.14834492685221662 and parameters: {'min_child_samples': 5}. Best is trial 63 with value: 0.14834492685221662.\n",
      "min_data_in_leaf, val_score: 0.148345:  20%|#########                                    | 1/5 [00:01<00:07,  1.99s/it]"
     ]
    },
    {
     "name": "stdout",
     "output_type": "stream",
     "text": [
      "[100]\tcv_agg's l2: 0.274695 + 0.0694262\n",
      "[200]\tcv_agg's l2: 0.254202 + 0.055922\n",
      "[300]\tcv_agg's l2: 0.244324 + 0.0521014\n",
      "[400]\tcv_agg's l2: 0.239522 + 0.0503075\n",
      "[500]\tcv_agg's l2: 0.235974 + 0.0472691\n",
      "[600]\tcv_agg's l2: 0.232733 + 0.0465403\n",
      "[700]\tcv_agg's l2: 0.230606 + 0.0456431\n",
      "[800]\tcv_agg's l2: 0.229175 + 0.0449609\n",
      "[900]\tcv_agg's l2: 0.227068 + 0.0439373\n",
      "[1000]\tcv_agg's l2: 0.225742 + 0.0436813\n",
      "[1100]\tcv_agg's l2: 0.224245 + 0.0424865\n",
      "[1200]\tcv_agg's l2: 0.223446 + 0.04299\n"
     ]
    },
    {
     "name": "stderr",
     "output_type": "stream",
     "text": [
      "min_data_in_leaf, val_score: 0.148345:  40%|##################                           | 2/5 [00:04<00:06,  2.03s/it][I 2023-10-28 22:54:13,281] Trial 64 finished with value: 0.22407176090913977 and parameters: {'min_child_samples': 50}. Best is trial 63 with value: 0.14834492685221662.\n",
      "min_data_in_leaf, val_score: 0.148345:  40%|##################                           | 2/5 [00:04<00:06,  2.03s/it]"
     ]
    },
    {
     "name": "stdout",
     "output_type": "stream",
     "text": [
      "Early stopping, best iteration is:\n",
      "[1140]\tcv_agg's l2: 0.148345 + 0.0186142\n",
      "[100]\tcv_agg's l2: 0.69845 + 0.0858651\n",
      "[200]\tcv_agg's l2: 0.659824 + 0.0818525\n",
      "[300]\tcv_agg's l2: 0.637792 + 0.0812847\n",
      "[400]\tcv_agg's l2: 0.62378 + 0.0814631\n",
      "[500]\tcv_agg's l2: 0.614513 + 0.0825368\n",
      "[600]\tcv_agg's l2: 0.607649 + 0.084935\n",
      "[700]\tcv_agg's l2: 0.604873 + 0.0862937\n",
      "[800]\tcv_agg's l2: 0.600369 + 0.0862994\n",
      "[900]\tcv_agg's l2: 0.597609 + 0.0874323\n",
      "[1000]\tcv_agg's l2: 0.596649 + 0.0881717\n",
      "[1100]\tcv_agg's l2: 0.596256 + 0.088212\n"
     ]
    },
    {
     "name": "stderr",
     "output_type": "stream",
     "text": [
      "min_data_in_leaf, val_score: 0.148345:  60%|###########################                  | 3/5 [00:06<00:04,  2.04s/it][I 2023-10-28 22:54:15,337] Trial 65 finished with value: 0.5959099613534302 and parameters: {'min_child_samples': 100}. Best is trial 63 with value: 0.14834492685221662.\n",
      "min_data_in_leaf, val_score: 0.148345:  60%|###########################                  | 3/5 [00:06<00:04,  2.04s/it]"
     ]
    },
    {
     "name": "stdout",
     "output_type": "stream",
     "text": [
      "[1200]\tcv_agg's l2: 0.595463 + 0.0878631\n",
      "Early stopping, best iteration is:\n",
      "[1140]\tcv_agg's l2: 0.148345 + 0.0186142\n",
      "[100]\tcv_agg's l2: 0.196981 + 0.0599108\n",
      "[200]\tcv_agg's l2: 0.174611 + 0.0479616\n",
      "[300]\tcv_agg's l2: 0.166702 + 0.0409128\n",
      "[400]\tcv_agg's l2: 0.161473 + 0.0339702\n",
      "[500]\tcv_agg's l2: 0.158573 + 0.0307509\n",
      "[600]\tcv_agg's l2: 0.156234 + 0.0294546\n",
      "[700]\tcv_agg's l2: 0.154227 + 0.02784\n",
      "[800]\tcv_agg's l2: 0.15301 + 0.0264472\n",
      "[900]\tcv_agg's l2: 0.151728 + 0.0253485\n",
      "[1000]\tcv_agg's l2: 0.150704 + 0.0243224\n",
      "[1100]\tcv_agg's l2: 0.150217 + 0.0237227\n",
      "[1200]\tcv_agg's l2: 0.150598 + 0.023096\n"
     ]
    },
    {
     "name": "stderr",
     "output_type": "stream",
     "text": [
      "min_data_in_leaf, val_score: 0.148345:  80%|####################################         | 4/5 [00:08<00:02,  2.02s/it][I 2023-10-28 22:54:17,331] Trial 66 finished with value: 0.15069837719988502 and parameters: {'min_child_samples': 10}. Best is trial 63 with value: 0.14834492685221662.\n",
      "min_data_in_leaf, val_score: 0.148345:  80%|####################################         | 4/5 [00:08<00:02,  2.02s/it]"
     ]
    },
    {
     "name": "stdout",
     "output_type": "stream",
     "text": [
      "Early stopping, best iteration is:\n",
      "[1140]\tcv_agg's l2: 0.148345 + 0.0186142\n",
      "[100]\tcv_agg's l2: 0.218603 + 0.0614588\n",
      "[200]\tcv_agg's l2: 0.197564 + 0.0502475\n",
      "[300]\tcv_agg's l2: 0.191805 + 0.0453317\n",
      "[400]\tcv_agg's l2: 0.188918 + 0.0427126\n",
      "[500]\tcv_agg's l2: 0.185052 + 0.0403489\n",
      "[600]\tcv_agg's l2: 0.182457 + 0.0389302\n",
      "[700]\tcv_agg's l2: 0.180556 + 0.0382583\n",
      "[800]\tcv_agg's l2: 0.179928 + 0.0376861\n",
      "[900]\tcv_agg's l2: 0.179052 + 0.0359408\n",
      "[1000]\tcv_agg's l2: 0.178745 + 0.0356359\n",
      "[1100]\tcv_agg's l2: 0.178734 + 0.0359826\n",
      "[1200]\tcv_agg's l2: 0.178947 + 0.0359476\n"
     ]
    },
    {
     "name": "stderr",
     "output_type": "stream",
     "text": [
      "min_data_in_leaf, val_score: 0.148345: 100%|#############################################| 5/5 [00:10<00:00,  2.08s/it][I 2023-10-28 22:54:19,512] Trial 67 finished with value: 0.17902525012396742 and parameters: {'min_child_samples': 25}. Best is trial 63 with value: 0.14834492685221662.\n",
      "min_data_in_leaf, val_score: 0.148345: 100%|#############################################| 5/5 [00:10<00:00,  2.06s/it]"
     ]
    },
    {
     "name": "stdout",
     "output_type": "stream",
     "text": [
      "Early stopping, best iteration is:\n",
      "[1140]\tcv_agg's l2: 0.148345 + 0.0186142\n"
     ]
    },
    {
     "name": "stderr",
     "output_type": "stream",
     "text": [
      "\n"
     ]
    }
   ],
   "source": [
    "import optuna.integration.lightgbm as lgb\n",
    "from lightgbm import early_stopping\n",
    "from sklearn.model_selection import KFold\n",
    "from sklearn.model_selection import RepeatedKFold\n",
    "\n",
    "\n",
    "lgb_train = lgb.Dataset(X_train_random_split, y_train_random_split)\n",
    "\n",
    "params = {\n",
    "    \"boosting_type\": \"gbdt\",\n",
    "    \"objective\": \"regression\",\n",
    "    \"metric\": \"l2\",\n",
    "    \"verbosity\": -1,\n",
    "}\n",
    "\n",
    "tuner = lgb.LightGBMTunerCV(\n",
    "    params,\n",
    "    lgb_train,\n",
    "    folds=KFold(n_splits=5),\n",
    "    num_boost_round=10000,\n",
    "    callbacks=[early_stopping(100), log_evaluation(100)],\n",
    ")\n",
    "\n",
    "tuner.run()"
   ]
  },
  {
   "cell_type": "code",
   "execution_count": 86,
   "id": "c07cf3c6",
   "metadata": {},
   "outputs": [
    {
     "name": "stdout",
     "output_type": "stream",
     "text": [
      "Best score: 0.14834492685221662\n",
      "Params: \n",
      "    boosting_type: gbdt\n",
      "    objective: regression\n",
      "    metric: l2\n",
      "    verbosity: -1\n",
      "    feature_pre_filter: False\n",
      "    lambda_l1: 0.03614293377106285\n",
      "    lambda_l2: 1.3169595758136168e-08\n",
      "    num_leaves: 4\n",
      "    feature_fraction: 0.5\n",
      "    bagging_fraction: 1.0\n",
      "    bagging_freq: 0\n",
      "    min_child_samples: 5\n"
     ]
    }
   ],
   "source": [
    "print(f\"Best score: {tuner.best_score}\")\n",
    "best_params = tuner.best_params\n",
    "print(\"Params: \")\n",
    "for key, value in best_params.items():\n",
    "    print(\"    {}: {}\".format(key, value))"
   ]
  },
  {
   "cell_type": "code",
   "execution_count": 87,
   "id": "47a1bc33",
   "metadata": {},
   "outputs": [],
   "source": [
    "import lightgbm as lgb\n",
    "\n",
    "lgb_tuned = lgb.train(\n",
    "    best_params,\n",
    "    lgb_train,\n",
    "    num_boost_round=10000,\n",
    ")"
   ]
  },
  {
   "cell_type": "code",
   "execution_count": 88,
   "id": "4c17765e",
   "metadata": {},
   "outputs": [
    {
     "name": "stdout",
     "output_type": "stream",
     "text": [
      "RMSE train: 0.02\n",
      "RMSE test: 0.37\n",
      "MSE test: 0.14\n",
      "MAE test: 0.25\n",
      "\n"
     ]
    }
   ],
   "source": [
    "rmse, mse, mae = assess_regression_model(\n",
    "    lgb_tuned,\n",
    "    X_train_random_split,\n",
    "    X_test_random_split,\n",
    "    y_train_random_split,\n",
    "    y_test_random_split,\n",
    ")"
   ]
  },
  {
   "cell_type": "code",
   "execution_count": 89,
   "id": "9caec811",
   "metadata": {},
   "outputs": [],
   "source": [
    "results.loc[3] = [\"random\", \"Optuna\", len(X_test.columns), mse, rmse, mae]"
   ]
  },
  {
   "cell_type": "markdown",
   "id": "47fed830",
   "metadata": {},
   "source": [
    "###### MAE by level"
   ]
  },
  {
   "cell_type": "code",
   "execution_count": 90,
   "id": "12eb7c1a",
   "metadata": {},
   "outputs": [
    {
     "data": {
      "image/png": "[encoded data removed]",
      "text/plain": [
       "<Figure size 720x432 with 1 Axes>"
      ]
     },
     "metadata": {
      "needs_background": "light"
     },
     "output_type": "display_data"
    }
   ],
   "source": [
    "import matplotlib.pyplot as plt\n",
    "\n",
    "y_test_random_split = y_test_random_split.reset_index(drop=True)\n",
    "level_max = y_test_random_split.max()\n",
    "\n",
    "mae_by_level = pd.DataFrame(columns=[\"level\", \"mae\"])\n",
    "for lvl in range(-1, level_max + 1):\n",
    "    y_test_curr = y_test_random_split[y_test_random_split == lvl]\n",
    "    y_pred_test_curr = pd.DataFrame(y_pred_test)[y_test_random_split == lvl]\n",
    "\n",
    "    mae = mean_absolute_error(y_test_curr, y_pred_test_curr)\n",
    "    mae_by_level.loc[lvl + 1] = [lvl, mae]\n",
    "\n",
    "\n",
    "plt.figure(figsize=(10, 6))\n",
    "plt.bar(mae_by_level[\"level\"], mae_by_level[\"mae\"])\n",
    "plt.xlabel(\"Level\")\n",
    "plt.ylabel(\"Mean Absolute Error (MAE)\")\n",
    "plt.title(\"MAE by level\")\n",
    "plt.xticks(mae_by_level[\"level\"])\n",
    "plt.show()"
   ]
  },
  {
   "cell_type": "code",
   "execution_count": 91,
   "id": "859f12f2",
   "metadata": {},
   "outputs": [
    {
     "name": "stdout",
     "output_type": "stream",
     "text": [
      "Normal:\n",
      "MSE: 0.05\n",
      "RMSE: 0.23\n",
      "\n",
      "Round type: round\n",
      "MSE: 0.08\n",
      "RMSE: 0.28\n",
      "\n",
      "Round type: 0.33\n",
      "MSE: 0.07\n",
      "RMSE: 0.26\n",
      "\n",
      "Round type: 0.45\n",
      "MSE: 0.07\n",
      "RMSE: 0.27\n",
      "\n"
     ]
    }
   ],
   "source": [
    "predict = lgb_tuned.predict(X_test)\n",
    "check_round_predictions([\"round\", 0.33, 0.45], y_test, predict)"
   ]
  },
  {
   "cell_type": "code",
   "execution_count": 92,
   "id": "a046eead",
   "metadata": {},
   "outputs": [
    {
     "data": {
      "image/png": "[encoded data removed]",
      "text/plain": [
       "<Figure size 432x288 with 2 Axes>"
      ]
     },
     "metadata": {
      "needs_background": "light"
     },
     "output_type": "display_data"
    }
   ],
   "source": [
    "plot_confusion_matrix(\"round\", predict, y_test)"
   ]
  },
  {
   "cell_type": "markdown",
   "id": "2e230699",
   "metadata": {},
   "source": [
    "## Summary"
   ]
  },
  {
   "cell_type": "code",
   "execution_count": 93,
   "id": "2edd08be",
   "metadata": {},
   "outputs": [
    {
     "data": {
      "text/html": [
       "<div>\n",
       "<style scoped>\n",
       "    .dataframe tbody tr th:only-of-type {\n",
       "        vertical-align: middle;\n",
       "    }\n",
       "\n",
       "    .dataframe tbody tr th {\n",
       "        vertical-align: top;\n",
       "    }\n",
       "\n",
       "    .dataframe thead th {\n",
       "        text-align: right;\n",
       "    }\n",
       "</style>\n",
       "<table border=\"1\" class=\"dataframe\">\n",
       "  <thead>\n",
       "    <tr style=\"text-align: right;\">\n",
       "      <th></th>\n",
       "      <th>Split type</th>\n",
       "      <th>Tuning type</th>\n",
       "      <th>Number of characteristics</th>\n",
       "      <th>MSE</th>\n",
       "      <th>RMSE</th>\n",
       "      <th>MAE</th>\n",
       "    </tr>\n",
       "  </thead>\n",
       "  <tbody>\n",
       "    <tr>\n",
       "      <th>0</th>\n",
       "      <td>chronological</td>\n",
       "      <td>normal</td>\n",
       "      <td>13</td>\n",
       "      <td>0.260893</td>\n",
       "      <td>0.510777</td>\n",
       "      <td>0.357209</td>\n",
       "    </tr>\n",
       "    <tr>\n",
       "      <th>1</th>\n",
       "      <td>chronological</td>\n",
       "      <td>Optuna</td>\n",
       "      <td>13</td>\n",
       "      <td>0.226251</td>\n",
       "      <td>0.475659</td>\n",
       "      <td>0.343464</td>\n",
       "    </tr>\n",
       "    <tr>\n",
       "      <th>2</th>\n",
       "      <td>random</td>\n",
       "      <td>normal</td>\n",
       "      <td>13</td>\n",
       "      <td>0.148111</td>\n",
       "      <td>0.384853</td>\n",
       "      <td>0.267273</td>\n",
       "    </tr>\n",
       "    <tr>\n",
       "      <th>3</th>\n",
       "      <td>random</td>\n",
       "      <td>Optuna</td>\n",
       "      <td>13</td>\n",
       "      <td>0.136451</td>\n",
       "      <td>0.369393</td>\n",
       "      <td>0.248118</td>\n",
       "    </tr>\n",
       "  </tbody>\n",
       "</table>\n",
       "</div>"
      ],
      "text/plain": [
       "      Split type Tuning type  Number of characteristics       MSE      RMSE  \\\n",
       "0  chronological      normal                         13  0.260893  0.510777   \n",
       "1  chronological      Optuna                         13  0.226251  0.475659   \n",
       "2         random      normal                         13  0.148111  0.384853   \n",
       "3         random      Optuna                         13  0.136451  0.369393   \n",
       "\n",
       "        MAE  \n",
       "0  0.357209  \n",
       "1  0.343464  \n",
       "2  0.267273  \n",
       "3  0.248118  "
      ]
     },
     "execution_count": 93,
     "metadata": {},
     "output_type": "execute_result"
    }
   ],
   "source": [
    "results"
   ]
  },
  {
   "cell_type": "code",
   "execution_count": 94,
   "id": "7e403b40",
   "metadata": {},
   "outputs": [],
   "source": [
    "from training.results import plot_summary"
   ]
  },
  {
   "cell_type": "code",
   "execution_count": 95,
   "id": "e26ba349",
   "metadata": {},
   "outputs": [
    {
     "data": {
      "image/png": "[encoded data removed]",
      "text/plain": [
       "<Figure size 1440x576 with 1 Axes>"
      ]
     },
     "metadata": {
      "needs_background": "light"
     },
     "output_type": "display_data"
    }
   ],
   "source": [
    "plot_summary(results, \"MSE\")"
   ]
  },
  {
   "cell_type": "code",
   "execution_count": 96,
   "id": "1072db81",
   "metadata": {},
   "outputs": [
    {
     "data": {
      "image/png": "[encoded data removed]",
      "text/plain": [
       "<Figure size 1440x576 with 1 Axes>"
      ]
     },
     "metadata": {
      "needs_background": "light"
     },
     "output_type": "display_data"
    }
   ],
   "source": [
    "plot_summary(results, \"RMSE\")"
   ]
  },
  {
   "cell_type": "code",
   "execution_count": 97,
   "id": "0a073f44",
   "metadata": {},
   "outputs": [
    {
     "data": {
      "image/png": "[encoded data removed]",
      "text/plain": [
       "<Figure size 1440x576 with 1 Axes>"
      ]
     },
     "metadata": {
      "needs_background": "light"
     },
     "output_type": "display_data"
    }
   ],
   "source": [
    "plot_summary(results, \"MAE\")"
   ]
  },
  {
   "cell_type": "code",
   "execution_count": 98,
   "id": "157af270",
   "metadata": {},
   "outputs": [],
   "source": [
    "results.to_json(\"./lightgbm_second_results.json\")"
   ]
  },
  {
   "cell_type": "code",
   "execution_count": null,
   "id": "1b44b486",
   "metadata": {},
   "outputs": [],
   "source": []
  }
 ],
 "metadata": {
  "kernelspec": {
   "display_name": "Python 3 (ipykernel)",
   "language": "python",
   "name": "python3"
  },
  "language_info": {
   "codemirror_mode": {
    "name": "ipython",
    "version": 3
   },
   "file_extension": ".py",
   "mimetype": "text/x-python",
   "name": "python",
   "nbconvert_exporter": "python",
   "pygments_lexer": "ipython3",
   "version": "3.10.4"
  }
 },
 "nbformat": 4,
 "nbformat_minor": 5
}
