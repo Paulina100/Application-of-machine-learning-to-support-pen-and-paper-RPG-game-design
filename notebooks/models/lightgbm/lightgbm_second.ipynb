{
 "cells": [
  {
   "cell_type": "markdown",
   "id": "b61f8435",
   "metadata": {},
   "source": [
    "# LightGBM\n",
    "### Parameters:\n",
    "* **abilities**:\n",
    "    * **cha**\n",
    "    * **con**\n",
    "    * **dex**\n",
    "    * **int**\n",
    "    * **str**\n",
    "    * **wis**\n",
    "* **attributes**\n",
    "    * **hp**\n",
    "    * **ac**\n",
    "    * **perception**\n",
    "* **saves**\n",
    "    * **fortitude**\n",
    "    * **reflex**\n",
    "    * **will**\n",
    "* **resources**\n",
    "    * **focus**\n",
    "\n",
    "### Prediction: *level*\n",
    "\n",
    "## Loading data"
   ]
  },
  {
   "cell_type": "code",
   "execution_count": 30,
   "id": "64151d43",
   "metadata": {},
   "outputs": [],
   "source": [
    "import numpy as np\n",
    "import pandas as pd\n",
    "import sys\n",
    "\n",
    "import os\n",
    "import pathlib\n",
    "\n",
    "sys.path.append(\"../../..\")\n",
    "from training.creating_dataset import load_and_preprocess_data\n",
    "\n",
    "current_path = os.getcwd()\n",
    "DATASETS_DIR = pathlib.Path(current_path).parent.parent.parent / \"pathfinder_2e_data\"\n",
    "DATASET_FILES = [\n",
    "    \"pathfinder-bestiary.db\",\n",
    "    \"pathfinder-bestiary-2.db\",\n",
    "    \"pathfinder-bestiary-3.db\",\n",
    "]\n",
    "DATASET_PATHS = [f\"{DATASETS_DIR}/{file}\" for file in DATASET_FILES]\n",
    "characteristics = [\n",
    "    \"cha\",\n",
    "    \"con\",\n",
    "    \"dex\",\n",
    "    \"int\",\n",
    "    \"str\",\n",
    "    \"wis\",\n",
    "    \"ac\",\n",
    "    \"hp\",\n",
    "    \"perception\",\n",
    "    \"fortitude\",\n",
    "    \"reflex\",\n",
    "    \"will\",\n",
    "    \"focus\",\n",
    "]\n",
    "\n",
    "df = load_and_preprocess_data(\n",
    "    DATASET_PATHS,\n",
    "    characteristics=characteristics,\n",
    ")"
   ]
  },
  {
   "cell_type": "code",
   "execution_count": 31,
   "id": "ec1e8424",
   "metadata": {},
   "outputs": [
    {
     "name": "stdout",
     "output_type": "stream",
     "text": [
      "<class 'pandas.core.frame.DataFrame'>\n",
      "Int64Index: 1206 entries, 0 to 1205\n",
      "Data columns (total 15 columns):\n",
      " #   Column      Non-Null Count  Dtype \n",
      "---  ------      --------------  ----- \n",
      " 0   con         1206 non-null   int64 \n",
      " 1   wis         1206 non-null   int64 \n",
      " 2   perception  1206 non-null   int64 \n",
      " 3   fortitude   1206 non-null   int64 \n",
      " 4   level       1206 non-null   int64 \n",
      " 5   book        1206 non-null   object\n",
      " 6   int         1206 non-null   int64 \n",
      " 7   focus       1206 non-null   int32 \n",
      " 8   cha         1206 non-null   int64 \n",
      " 9   hp          1206 non-null   int64 \n",
      " 10  str         1206 non-null   int64 \n",
      " 11  ac          1206 non-null   int64 \n",
      " 12  dex         1206 non-null   int64 \n",
      " 13  will        1206 non-null   int64 \n",
      " 14  reflex      1206 non-null   int64 \n",
      "dtypes: int32(1), int64(13), object(1)\n",
      "memory usage: 146.0+ KB\n"
     ]
    }
   ],
   "source": [
    "df.info()"
   ]
  },
  {
   "cell_type": "code",
   "execution_count": 32,
   "id": "211d736c",
   "metadata": {},
   "outputs": [
    {
     "data": {
      "text/html": [
       "<div>\n",
       "<style scoped>\n",
       "    .dataframe tbody tr th:only-of-type {\n",
       "        vertical-align: middle;\n",
       "    }\n",
       "\n",
       "    .dataframe tbody tr th {\n",
       "        vertical-align: top;\n",
       "    }\n",
       "\n",
       "    .dataframe thead th {\n",
       "        text-align: right;\n",
       "    }\n",
       "</style>\n",
       "<table border=\"1\" class=\"dataframe\">\n",
       "  <thead>\n",
       "    <tr style=\"text-align: right;\">\n",
       "      <th></th>\n",
       "      <th>con</th>\n",
       "      <th>wis</th>\n",
       "      <th>perception</th>\n",
       "      <th>fortitude</th>\n",
       "      <th>level</th>\n",
       "      <th>book</th>\n",
       "      <th>int</th>\n",
       "      <th>focus</th>\n",
       "      <th>cha</th>\n",
       "      <th>hp</th>\n",
       "      <th>str</th>\n",
       "      <th>ac</th>\n",
       "      <th>dex</th>\n",
       "      <th>will</th>\n",
       "      <th>reflex</th>\n",
       "    </tr>\n",
       "  </thead>\n",
       "  <tbody>\n",
       "    <tr>\n",
       "      <th>0</th>\n",
       "      <td>5</td>\n",
       "      <td>2</td>\n",
       "      <td>20</td>\n",
       "      <td>22</td>\n",
       "      <td>10</td>\n",
       "      <td>Pathfinder Bestiary</td>\n",
       "      <td>1</td>\n",
       "      <td>1</td>\n",
       "      <td>1</td>\n",
       "      <td>215</td>\n",
       "      <td>7</td>\n",
       "      <td>29</td>\n",
       "      <td>2</td>\n",
       "      <td>17</td>\n",
       "      <td>19</td>\n",
       "    </tr>\n",
       "    <tr>\n",
       "      <th>1</th>\n",
       "      <td>5</td>\n",
       "      <td>2</td>\n",
       "      <td>16</td>\n",
       "      <td>21</td>\n",
       "      <td>10</td>\n",
       "      <td>Pathfinder Bestiary</td>\n",
       "      <td>-4</td>\n",
       "      <td>0</td>\n",
       "      <td>1</td>\n",
       "      <td>220</td>\n",
       "      <td>9</td>\n",
       "      <td>28</td>\n",
       "      <td>0</td>\n",
       "      <td>16</td>\n",
       "      <td>14</td>\n",
       "    </tr>\n",
       "    <tr>\n",
       "      <th>2</th>\n",
       "      <td>6</td>\n",
       "      <td>3</td>\n",
       "      <td>17</td>\n",
       "      <td>20</td>\n",
       "      <td>8</td>\n",
       "      <td>Pathfinder Bestiary</td>\n",
       "      <td>-4</td>\n",
       "      <td>0</td>\n",
       "      <td>-2</td>\n",
       "      <td>175</td>\n",
       "      <td>7</td>\n",
       "      <td>25</td>\n",
       "      <td>3</td>\n",
       "      <td>15</td>\n",
       "      <td>17</td>\n",
       "    </tr>\n",
       "    <tr>\n",
       "      <th>3</th>\n",
       "      <td>5</td>\n",
       "      <td>5</td>\n",
       "      <td>30</td>\n",
       "      <td>30</td>\n",
       "      <td>17</td>\n",
       "      <td>Pathfinder Bestiary</td>\n",
       "      <td>6</td>\n",
       "      <td>1</td>\n",
       "      <td>6</td>\n",
       "      <td>315</td>\n",
       "      <td>7</td>\n",
       "      <td>41</td>\n",
       "      <td>4</td>\n",
       "      <td>32</td>\n",
       "      <td>29</td>\n",
       "    </tr>\n",
       "    <tr>\n",
       "      <th>4</th>\n",
       "      <td>1</td>\n",
       "      <td>1</td>\n",
       "      <td>6</td>\n",
       "      <td>6</td>\n",
       "      <td>1</td>\n",
       "      <td>Pathfinder Bestiary</td>\n",
       "      <td>-1</td>\n",
       "      <td>1</td>\n",
       "      <td>1</td>\n",
       "      <td>20</td>\n",
       "      <td>-5</td>\n",
       "      <td>16</td>\n",
       "      <td>3</td>\n",
       "      <td>4</td>\n",
       "      <td>10</td>\n",
       "    </tr>\n",
       "  </tbody>\n",
       "</table>\n",
       "</div>"
      ],
      "text/plain": [
       "   con  wis  perception  fortitude  level                 book  int  focus  \\\n",
       "0    5    2          20         22     10  Pathfinder Bestiary    1      1   \n",
       "1    5    2          16         21     10  Pathfinder Bestiary   -4      0   \n",
       "2    6    3          17         20      8  Pathfinder Bestiary   -4      0   \n",
       "3    5    5          30         30     17  Pathfinder Bestiary    6      1   \n",
       "4    1    1           6          6      1  Pathfinder Bestiary   -1      1   \n",
       "\n",
       "   cha   hp  str  ac  dex  will  reflex  \n",
       "0    1  215    7  29    2    17      19  \n",
       "1    1  220    9  28    0    16      14  \n",
       "2   -2  175    7  25    3    15      17  \n",
       "3    6  315    7  41    4    32      29  \n",
       "4    1   20   -5  16    3     4      10  "
      ]
     },
     "execution_count": 32,
     "metadata": {},
     "output_type": "execute_result"
    }
   ],
   "source": [
    "df.head()"
   ]
  },
  {
   "cell_type": "markdown",
   "id": "1bf55cc1",
   "metadata": {},
   "source": [
    "###### Level"
   ]
  },
  {
   "cell_type": "code",
   "execution_count": 33,
   "id": "2d322d72",
   "metadata": {},
   "outputs": [
    {
     "data": {
      "text/plain": [
       "0       10\n",
       "1       10\n",
       "2        8\n",
       "3       17\n",
       "4        1\n",
       "        ..\n",
       "1201    20\n",
       "1202    -1\n",
       "1203    12\n",
       "1204     6\n",
       "1205     6\n",
       "Name: level, Length: 1206, dtype: int64"
      ]
     },
     "execution_count": 33,
     "metadata": {},
     "output_type": "execute_result"
    }
   ],
   "source": [
    "y = df[\"level\"]\n",
    "y"
   ]
  },
  {
   "cell_type": "code",
   "execution_count": 34,
   "id": "e7887f19",
   "metadata": {},
   "outputs": [],
   "source": [
    "from collections import defaultdict\n",
    "\n",
    "\n",
    "lvl_stat = defaultdict(lambda: 0)\n",
    "\n",
    "for lvl in y:\n",
    "    lvl_stat[lvl] += 1"
   ]
  },
  {
   "cell_type": "code",
   "execution_count": 35,
   "id": "c982e6d0",
   "metadata": {},
   "outputs": [
    {
     "data": {
      "text/html": [
       "<div>\n",
       "<style scoped>\n",
       "    .dataframe tbody tr th:only-of-type {\n",
       "        vertical-align: middle;\n",
       "    }\n",
       "\n",
       "    .dataframe tbody tr th {\n",
       "        vertical-align: top;\n",
       "    }\n",
       "\n",
       "    .dataframe thead th {\n",
       "        text-align: right;\n",
       "    }\n",
       "</style>\n",
       "<table border=\"1\" class=\"dataframe\">\n",
       "  <thead>\n",
       "    <tr style=\"text-align: right;\">\n",
       "      <th></th>\n",
       "      <th>lvl</th>\n",
       "      <th>count</th>\n",
       "    </tr>\n",
       "  </thead>\n",
       "  <tbody>\n",
       "    <tr>\n",
       "      <th>0</th>\n",
       "      <td>-1</td>\n",
       "      <td>34</td>\n",
       "    </tr>\n",
       "    <tr>\n",
       "      <th>1</th>\n",
       "      <td>0</td>\n",
       "      <td>27</td>\n",
       "    </tr>\n",
       "    <tr>\n",
       "      <th>2</th>\n",
       "      <td>1</td>\n",
       "      <td>127</td>\n",
       "    </tr>\n",
       "    <tr>\n",
       "      <th>3</th>\n",
       "      <td>2</td>\n",
       "      <td>121</td>\n",
       "    </tr>\n",
       "    <tr>\n",
       "      <th>4</th>\n",
       "      <td>3</td>\n",
       "      <td>95</td>\n",
       "    </tr>\n",
       "    <tr>\n",
       "      <th>5</th>\n",
       "      <td>4</td>\n",
       "      <td>82</td>\n",
       "    </tr>\n",
       "    <tr>\n",
       "      <th>6</th>\n",
       "      <td>5</td>\n",
       "      <td>76</td>\n",
       "    </tr>\n",
       "    <tr>\n",
       "      <th>7</th>\n",
       "      <td>6</td>\n",
       "      <td>72</td>\n",
       "    </tr>\n",
       "    <tr>\n",
       "      <th>8</th>\n",
       "      <td>7</td>\n",
       "      <td>77</td>\n",
       "    </tr>\n",
       "    <tr>\n",
       "      <th>9</th>\n",
       "      <td>8</td>\n",
       "      <td>68</td>\n",
       "    </tr>\n",
       "    <tr>\n",
       "      <th>10</th>\n",
       "      <td>9</td>\n",
       "      <td>63</td>\n",
       "    </tr>\n",
       "    <tr>\n",
       "      <th>11</th>\n",
       "      <td>10</td>\n",
       "      <td>58</td>\n",
       "    </tr>\n",
       "    <tr>\n",
       "      <th>12</th>\n",
       "      <td>11</td>\n",
       "      <td>40</td>\n",
       "    </tr>\n",
       "    <tr>\n",
       "      <th>13</th>\n",
       "      <td>12</td>\n",
       "      <td>41</td>\n",
       "    </tr>\n",
       "    <tr>\n",
       "      <th>14</th>\n",
       "      <td>13</td>\n",
       "      <td>36</td>\n",
       "    </tr>\n",
       "    <tr>\n",
       "      <th>15</th>\n",
       "      <td>14</td>\n",
       "      <td>33</td>\n",
       "    </tr>\n",
       "    <tr>\n",
       "      <th>16</th>\n",
       "      <td>15</td>\n",
       "      <td>31</td>\n",
       "    </tr>\n",
       "    <tr>\n",
       "      <th>17</th>\n",
       "      <td>16</td>\n",
       "      <td>25</td>\n",
       "    </tr>\n",
       "    <tr>\n",
       "      <th>18</th>\n",
       "      <td>17</td>\n",
       "      <td>21</td>\n",
       "    </tr>\n",
       "    <tr>\n",
       "      <th>19</th>\n",
       "      <td>18</td>\n",
       "      <td>21</td>\n",
       "    </tr>\n",
       "    <tr>\n",
       "      <th>20</th>\n",
       "      <td>19</td>\n",
       "      <td>18</td>\n",
       "    </tr>\n",
       "    <tr>\n",
       "      <th>21</th>\n",
       "      <td>20</td>\n",
       "      <td>24</td>\n",
       "    </tr>\n",
       "    <tr>\n",
       "      <th>22</th>\n",
       "      <td>21</td>\n",
       "      <td>16</td>\n",
       "    </tr>\n",
       "  </tbody>\n",
       "</table>\n",
       "</div>"
      ],
      "text/plain": [
       "    lvl  count\n",
       "0    -1     34\n",
       "1     0     27\n",
       "2     1    127\n",
       "3     2    121\n",
       "4     3     95\n",
       "5     4     82\n",
       "6     5     76\n",
       "7     6     72\n",
       "8     7     77\n",
       "9     8     68\n",
       "10    9     63\n",
       "11   10     58\n",
       "12   11     40\n",
       "13   12     41\n",
       "14   13     36\n",
       "15   14     33\n",
       "16   15     31\n",
       "17   16     25\n",
       "18   17     21\n",
       "19   18     21\n",
       "20   19     18\n",
       "21   20     24\n",
       "22   21     16"
      ]
     },
     "execution_count": 35,
     "metadata": {},
     "output_type": "execute_result"
    }
   ],
   "source": [
    "level_count = pd.DataFrame(\n",
    "    data={\n",
    "        \"lvl\": [key for key in sorted(lvl_stat.keys())],\n",
    "        \"count\": [lvl_stat.get(key) for key in sorted(lvl_stat.keys())],\n",
    "    }\n",
    ")\n",
    "level_count"
   ]
  },
  {
   "cell_type": "code",
   "execution_count": 36,
   "id": "686877dd",
   "metadata": {},
   "outputs": [
    {
     "data": {
      "image/png": "[encoded data removed]",
      "text/plain": [
       "<Figure size 432x288 with 1 Axes>"
      ]
     },
     "metadata": {
      "needs_background": "light"
     },
     "output_type": "display_data"
    }
   ],
   "source": [
    "import matplotlib.pyplot as plt\n",
    "\n",
    "\n",
    "level_count.plot.bar(x=\"lvl\", y=\"count\", title=\"Count of levels\")\n",
    "plt.show()"
   ]
  },
  {
   "cell_type": "markdown",
   "id": "3f976e4a",
   "metadata": {},
   "source": [
    "## Train test split"
   ]
  },
  {
   "cell_type": "markdown",
   "id": "eb8cec62",
   "metadata": {},
   "source": [
    "### Chronological split"
   ]
  },
  {
   "cell_type": "code",
   "execution_count": 37,
   "id": "c6c29573",
   "metadata": {},
   "outputs": [],
   "source": [
    "from training.splitting_dataset import split_dataframe\n",
    "\n",
    "\n",
    "os.chdir(\"../../../training\")\n",
    "X_train, X_test, y_train, y_test = split_dataframe(df, test_size=0.31)\n",
    "os.chdir(\"../notebooks/models/lightgbm\")"
   ]
  },
  {
   "cell_type": "code",
   "execution_count": 38,
   "id": "f6894cc0",
   "metadata": {},
   "outputs": [],
   "source": [
    "X_train = X_train.drop(columns=[\"book\"])\n",
    "X_test = X_test.drop(columns=[\"book\"])"
   ]
  },
  {
   "cell_type": "markdown",
   "id": "31a0109c",
   "metadata": {},
   "source": [
    "### Random split"
   ]
  },
  {
   "cell_type": "code",
   "execution_count": 39,
   "id": "4d3e1121",
   "metadata": {},
   "outputs": [],
   "source": [
    "(\n",
    "    X_train_random_split,\n",
    "    X_test_random_split,\n",
    "    y_train_random_split,\n",
    "    y_test_random_split,\n",
    ") = split_dataframe(df, chronological_split=False)"
   ]
  },
  {
   "cell_type": "code",
   "execution_count": 40,
   "id": "f0c2041a",
   "metadata": {},
   "outputs": [],
   "source": [
    "X_train_random_split = X_train_random_split.drop(columns=[\"book\"])\n",
    "X_test_random_split = X_test_random_split.drop(columns=[\"book\"])"
   ]
  },
  {
   "cell_type": "markdown",
   "id": "e4776792",
   "metadata": {},
   "source": [
    "## LightGBM"
   ]
  },
  {
   "cell_type": "markdown",
   "id": "3f629b2d",
   "metadata": {},
   "source": [
    "## Chronological split"
   ]
  },
  {
   "cell_type": "code",
   "execution_count": 41,
   "id": "e818a3cc",
   "metadata": {},
   "outputs": [
    {
     "name": "stdout",
     "output_type": "stream",
     "text": [
      "[LightGBM] [Warning] Auto-choosing col-wise multi-threading, the overhead of testing was 0.000339 seconds.\n",
      "You can set `force_col_wise=true` to remove the overhead.\n",
      "[LightGBM] [Info] Total Bins 379\n",
      "[LightGBM] [Info] Number of data points in the train set: 841, number of used features: 13\n",
      "[LightGBM] [Info] Start training from score 6.966706\n",
      "Training until validation scores don't improve for 5 rounds\n",
      "[LightGBM] [Warning] No further splits with positive gain, best gain: -inf\n",
      "[LightGBM] [Warning] No further splits with positive gain, best gain: -inf\n",
      "[LightGBM] [Warning] No further splits with positive gain, best gain: -inf\n",
      "[LightGBM] [Warning] No further splits with positive gain, best gain: -inf\n",
      "[LightGBM] [Warning] No further splits with positive gain, best gain: -inf\n",
      "[LightGBM] [Warning] No further splits with positive gain, best gain: -inf\n",
      "[LightGBM] [Warning] No further splits with positive gain, best gain: -inf\n",
      "[LightGBM] [Warning] No further splits with positive gain, best gain: -inf\n",
      "[LightGBM] [Warning] No further splits with positive gain, best gain: -inf\n",
      "[LightGBM] [Warning] No further splits with positive gain, best gain: -inf\n",
      "[LightGBM] [Warning] No further splits with positive gain, best gain: -inf\n",
      "[LightGBM] [Warning] No further splits with positive gain, best gain: -inf\n",
      "Early stopping, best iteration is:\n",
      "[66]\tvalid_0's l2: 0.260866\tvalid_0's l1: 0.357177\n"
     ]
    }
   ],
   "source": [
    "import lightgbm as lgb\n",
    "\n",
    "lgb_train = lgb.Dataset(X_train, y_train)\n",
    "lgb_eval = lgb.Dataset(X_test, y_test, reference=lgb_train)\n",
    "\n",
    "params = {\n",
    "    \"boosting_type\": \"gbdt\",\n",
    "    \"objective\": \"regression\",\n",
    "    \"metric\": {\"l2\", \"l1\"},\n",
    "}\n",
    "\n",
    "gbm = lgb.train(\n",
    "    params,\n",
    "    lgb_train,\n",
    "    num_boost_round=100,\n",
    "    valid_sets=lgb_eval,\n",
    "    callbacks=[lgb.early_stopping(stopping_rounds=5)],\n",
    ")"
   ]
  },
  {
   "cell_type": "code",
   "execution_count": 42,
   "id": "b2dd69b5",
   "metadata": {},
   "outputs": [],
   "source": [
    "y_pred_train = gbm.predict(X_train, num_iteration=gbm.best_iteration)\n",
    "y_pred_test = gbm.predict(X_test, num_iteration=gbm.best_iteration)"
   ]
  },
  {
   "cell_type": "code",
   "execution_count": 43,
   "id": "68b425f7",
   "metadata": {},
   "outputs": [
    {
     "name": "stdout",
     "output_type": "stream",
     "text": [
      "MSE: 0.26\n",
      "RMSE: 0.51\n",
      "MAE: 0.36\n"
     ]
    }
   ],
   "source": [
    "from sklearn.metrics import mean_squared_error, mean_absolute_error\n",
    "\n",
    "\n",
    "mse = mean_squared_error(y_test, y_pred_test)\n",
    "rmse = mean_squared_error(y_test, y_pred_test, squared=False)\n",
    "mae = mean_absolute_error(y_test, y_pred_test)\n",
    "\n",
    "print(f\"MSE: {mse:.2f}\")\n",
    "print(f\"RMSE: {rmse:.2f}\")\n",
    "print(f\"MAE: {mae:.2f}\")"
   ]
  },
  {
   "cell_type": "code",
   "execution_count": 44,
   "id": "a615e9df",
   "metadata": {},
   "outputs": [],
   "source": [
    "results = pd.DataFrame(\n",
    "    data={\n",
    "        \"Split type\": [],\n",
    "        \"Tuning type\": [],\n",
    "        \"Number of characteristics\": [],\n",
    "        \"MSE\": [],\n",
    "        \"RMSE\": [],\n",
    "        \"MAE\": [],\n",
    "    }\n",
    ")\n",
    "\n",
    "results.loc[0] = [\"chronological\", \"normal\", len(X_test.columns), mse, rmse, mae]"
   ]
  },
  {
   "cell_type": "code",
   "execution_count": 45,
   "id": "9d777b5d",
   "metadata": {},
   "outputs": [
    {
     "name": "stdout",
     "output_type": "stream",
     "text": [
      "RMSE train: 0.21\n",
      "RMSE test: 0.51\n"
     ]
    }
   ],
   "source": [
    "rmse_train = mean_squared_error(y_train, y_pred_train, squared=False)\n",
    "rmse_test = mean_squared_error(y_test, y_pred_test, squared=False)\n",
    "print(f\"RMSE train: {rmse_train:.2f}\")\n",
    "print(f\"RMSE test: {rmse_test:.2f}\")"
   ]
  },
  {
   "cell_type": "markdown",
   "id": "c8d83c18",
   "metadata": {},
   "source": [
    "###### MAE by level"
   ]
  },
  {
   "cell_type": "code",
   "execution_count": 46,
   "id": "ac580d53",
   "metadata": {},
   "outputs": [],
   "source": [
    "from training.results import plot_mae_by_level"
   ]
  },
  {
   "cell_type": "code",
   "execution_count": 47,
   "id": "53b88797",
   "metadata": {},
   "outputs": [
    {
     "data": {
      "image/png": "[encoded data removed]",
      "text/plain": [
       "<Figure size 720x432 with 1 Axes>"
      ]
     },
     "metadata": {
      "needs_background": "light"
     },
     "output_type": "display_data"
    }
   ],
   "source": [
    "plot_mae_by_level(y_test, y_pred_test)"
   ]
  },
  {
   "cell_type": "code",
   "execution_count": 48,
   "id": "4135d981",
   "metadata": {},
   "outputs": [
    {
     "name": "stdout",
     "output_type": "stream",
     "text": [
      "Normal:\n",
      "MSE: 0.26\n",
      "RMSE: 0.51\n",
      "\n",
      "Round type: round\n",
      "MSE: 0.30\n",
      "RMSE: 0.55\n",
      "\n",
      "Round type: 0.33\n",
      "MSE: 0.29\n",
      "RMSE: 0.54\n",
      "\n",
      "Round type: 0.45\n",
      "MSE: 0.29\n",
      "RMSE: 0.54\n",
      "\n"
     ]
    }
   ],
   "source": [
    "from training.results import check_round_predictions, plot_confusion_matrix\n",
    "\n",
    "\n",
    "check_round_predictions([\"round\", 0.33, 0.45], y_test, y_pred_test)"
   ]
  },
  {
   "cell_type": "code",
   "execution_count": 49,
   "id": "4741e1ec",
   "metadata": {},
   "outputs": [
    {
     "data": {
      "image/png": "[encoded data removed]",
      "text/plain": [
       "<Figure size 432x288 with 2 Axes>"
      ]
     },
     "metadata": {
      "needs_background": "light"
     },
     "output_type": "display_data"
    }
   ],
   "source": [
    "plot_confusion_matrix(\"round\", y_pred_test, y_test)"
   ]
  },
  {
   "cell_type": "markdown",
   "id": "a6b03404",
   "metadata": {},
   "source": [
    "#### Tuning"
   ]
  },
  {
   "cell_type": "code",
   "execution_count": 50,
   "id": "e7f8b7ee",
   "metadata": {},
   "outputs": [],
   "source": [
    "from training.results import assess_regression_model"
   ]
  },
  {
   "cell_type": "code",
   "execution_count": 51,
   "id": "10cd6bac",
   "metadata": {
    "scrolled": true
   },
   "outputs": [
    {
     "name": "stderr",
     "output_type": "stream",
     "text": [
      "[I 2023-11-04 13:57:49,198] A new study created in memory with name: no-name-abc85c5a-c14a-4da1-a7bf-d57fa53906b8\n",
      "feature_fraction, val_score: inf:   0%|                                                          | 0/7 [00:00<?, ?it/s]"
     ]
    },
    {
     "name": "stdout",
     "output_type": "stream",
     "text": [
      "Training until validation scores don't improve for 100 rounds\n",
      "[100]\tcv_agg's l2: 0.178763 + 0.0309869\n",
      "[200]\tcv_agg's l2: 0.177233 + 0.0307626\n"
     ]
    },
    {
     "name": "stderr",
     "output_type": "stream",
     "text": [
      "feature_fraction, val_score: 0.176561:  14%|######4                                      | 1/7 [00:02<00:17,  2.95s/it][I 2023-11-04 13:57:52,154] Trial 0 finished with value: 0.17656123626160627 and parameters: {'feature_fraction': 0.8}. Best is trial 0 with value: 0.17656123626160627.\n",
      "feature_fraction, val_score: 0.176561:  14%|######4                                      | 1/7 [00:02<00:17,  2.95s/it]"
     ]
    },
    {
     "name": "stdout",
     "output_type": "stream",
     "text": [
      "Early stopping, best iteration is:\n",
      "[170]\tcv_agg's l2: 0.176561 + 0.0304913\n",
      "[100]\tcv_agg's l2: 0.174425 + 0.0308807\n",
      "[200]\tcv_agg's l2: 0.170448 + 0.0287735\n",
      "[300]\tcv_agg's l2: 0.171289 + 0.0289134\n"
     ]
    },
    {
     "name": "stderr",
     "output_type": "stream",
     "text": [
      "feature_fraction, val_score: 0.170161:  29%|############8                                | 2/7 [00:05<00:14,  2.96s/it][I 2023-11-04 13:57:55,126] Trial 1 finished with value: 0.17016135685707087 and parameters: {'feature_fraction': 0.6}. Best is trial 1 with value: 0.17016135685707087.\n",
      "feature_fraction, val_score: 0.170161:  29%|############8                                | 2/7 [00:05<00:14,  2.96s/it]"
     ]
    },
    {
     "name": "stdout",
     "output_type": "stream",
     "text": [
      "Early stopping, best iteration is:\n",
      "[251]\tcv_agg's l2: 0.170161 + 0.0287902\n",
      "[100]\tcv_agg's l2: 0.173714 + 0.0308209\n",
      "[200]\tcv_agg's l2: 0.171089 + 0.029611\n",
      "[300]\tcv_agg's l2: 0.171043 + 0.0289592\n"
     ]
    },
    {
     "name": "stderr",
     "output_type": "stream",
     "text": [
      "feature_fraction, val_score: 0.170161:  43%|###################2                         | 3/7 [00:09<00:12,  3.04s/it][I 2023-11-04 13:57:58,258] Trial 2 finished with value: 0.17083431089245849 and parameters: {'feature_fraction': 0.7}. Best is trial 1 with value: 0.17016135685707087.\n",
      "feature_fraction, val_score: 0.170161:  43%|###################2                         | 3/7 [00:09<00:12,  3.04s/it]"
     ]
    },
    {
     "name": "stdout",
     "output_type": "stream",
     "text": [
      "Early stopping, best iteration is:\n",
      "[251]\tcv_agg's l2: 0.170161 + 0.0287902\n",
      "[100]\tcv_agg's l2: 0.16764 + 0.026502\n",
      "[200]\tcv_agg's l2: 0.165595 + 0.0254371\n",
      "[300]\tcv_agg's l2: 0.166117 + 0.0254648\n",
      "Early stopping, best iteration is:\n",
      "[219]\tcv_agg's l2: 0.165189 + 0.0254108\n"
     ]
    },
    {
     "name": "stderr",
     "output_type": "stream",
     "text": [
      "feature_fraction, val_score: 0.165189:  57%|#########################7                   | 4/7 [00:12<00:09,  3.05s/it][I 2023-11-04 13:58:01,335] Trial 3 finished with value: 0.16518881260669352 and parameters: {'feature_fraction': 0.5}. Best is trial 3 with value: 0.16518881260669352.\n",
      "feature_fraction, val_score: 0.165189:  57%|#########################7                   | 4/7 [00:12<00:09,  3.05s/it]"
     ]
    },
    {
     "name": "stdout",
     "output_type": "stream",
     "text": [
      "[100]\tcv_agg's l2: 0.18941 + 0.0383339\n",
      "[200]\tcv_agg's l2: 0.186187 + 0.036368\n"
     ]
    },
    {
     "name": "stderr",
     "output_type": "stream",
     "text": [
      "\r",
      "feature_fraction, val_score: 0.165189:  57%|#########################7                   | 4/7 [00:15<00:09,  3.05s/it]"
     ]
    },
    {
     "name": "stdout",
     "output_type": "stream",
     "text": [
      "[300]\tcv_agg's l2: 0.185644 + 0.0359688\n",
      "Early stopping, best iteration is:\n",
      "[219]\tcv_agg's l2: 0.165189 + 0.0254108\n"
     ]
    },
    {
     "name": "stderr",
     "output_type": "stream",
     "text": [
      "feature_fraction, val_score: 0.165189:  71%|################################1            | 5/7 [00:15<00:06,  3.06s/it][I 2023-11-04 13:58:04,392] Trial 4 finished with value: 0.1859023603796639 and parameters: {'feature_fraction': 1.0}. Best is trial 3 with value: 0.16518881260669352.\n",
      "feature_fraction, val_score: 0.165189:  71%|################################1            | 5/7 [00:15<00:06,  3.06s/it]"
     ]
    },
    {
     "name": "stdout",
     "output_type": "stream",
     "text": [
      "[100]\tcv_agg's l2: 0.165 + 0.0209332\n",
      "[200]\tcv_agg's l2: 0.163423 + 0.0211548\n"
     ]
    },
    {
     "name": "stderr",
     "output_type": "stream",
     "text": [
      "feature_fraction, val_score: 0.161600:  86%|######################################5      | 6/7 [00:17<00:02,  2.76s/it][I 2023-11-04 13:58:06,567] Trial 5 finished with value: 0.1615995128881131 and parameters: {'feature_fraction': 0.4}. Best is trial 5 with value: 0.1615995128881131.\n",
      "feature_fraction, val_score: 0.161600:  86%|######################################5      | 6/7 [00:17<00:02,  2.76s/it]"
     ]
    },
    {
     "name": "stdout",
     "output_type": "stream",
     "text": [
      "Early stopping, best iteration is:\n",
      "[155]\tcv_agg's l2: 0.1616 + 0.0210736\n",
      "[100]\tcv_agg's l2: 0.179989 + 0.0291132\n",
      "[200]\tcv_agg's l2: 0.177268 + 0.0284709\n"
     ]
    },
    {
     "name": "stderr",
     "output_type": "stream",
     "text": [
      "feature_fraction, val_score: 0.161600: 100%|#############################################| 7/7 [00:19<00:00,  2.60s/it][I 2023-11-04 13:58:08,854] Trial 6 finished with value: 0.178092964599701 and parameters: {'feature_fraction': 0.8999999999999999}. Best is trial 5 with value: 0.1615995128881131.\n",
      "feature_fraction, val_score: 0.161600: 100%|#############################################| 7/7 [00:19<00:00,  2.81s/it]\n"
     ]
    },
    {
     "name": "stdout",
     "output_type": "stream",
     "text": [
      "Early stopping, best iteration is:\n",
      "[155]\tcv_agg's l2: 0.1616 + 0.0210736\n"
     ]
    },
    {
     "name": "stderr",
     "output_type": "stream",
     "text": [
      "num_leaves, val_score: 0.161600:   0%|                                                          | 0/20 [00:00<?, ?it/s]"
     ]
    },
    {
     "name": "stdout",
     "output_type": "stream",
     "text": [
      "[100]\tcv_agg's l2: 0.165 + 0.0209332\n",
      "[200]\tcv_agg's l2: 0.163423 + 0.0211548\n"
     ]
    },
    {
     "name": "stderr",
     "output_type": "stream",
     "text": [
      "num_leaves, val_score: 0.161600:   5%|##5                                               | 1/20 [00:02<00:38,  2.05s/it][I 2023-11-04 13:58:10,905] Trial 7 finished with value: 0.1615995128881131 and parameters: {'num_leaves': 67}. Best is trial 7 with value: 0.1615995128881131.\n",
      "num_leaves, val_score: 0.161600:   5%|##5                                               | 1/20 [00:02<00:38,  2.05s/it]"
     ]
    },
    {
     "name": "stdout",
     "output_type": "stream",
     "text": [
      "Early stopping, best iteration is:\n",
      "[155]\tcv_agg's l2: 0.1616 + 0.0210736\n",
      "[100]\tcv_agg's l2: 0.165 + 0.0209332\n",
      "[200]\tcv_agg's l2: 0.163423 + 0.0211548\n"
     ]
    },
    {
     "name": "stderr",
     "output_type": "stream",
     "text": [
      "num_leaves, val_score: 0.161600:  10%|#####                                             | 2/20 [00:04<00:40,  2.23s/it][I 2023-11-04 13:58:13,269] Trial 8 finished with value: 0.1615995128881131 and parameters: {'num_leaves': 194}. Best is trial 7 with value: 0.1615995128881131.\n",
      "num_leaves, val_score: 0.161600:  10%|#####                                             | 2/20 [00:04<00:40,  2.23s/it]"
     ]
    },
    {
     "name": "stdout",
     "output_type": "stream",
     "text": [
      "Early stopping, best iteration is:\n",
      "[155]\tcv_agg's l2: 0.1616 + 0.0210736\n",
      "[100]\tcv_agg's l2: 0.165 + 0.0209332\n",
      "[200]\tcv_agg's l2: 0.163423 + 0.0211548\n"
     ]
    },
    {
     "name": "stderr",
     "output_type": "stream",
     "text": [
      "num_leaves, val_score: 0.161600:  15%|#######5                                          | 3/20 [00:06<00:39,  2.33s/it][I 2023-11-04 13:58:15,721] Trial 9 finished with value: 0.1615995128881131 and parameters: {'num_leaves': 139}. Best is trial 7 with value: 0.1615995128881131.\n",
      "num_leaves, val_score: 0.161600:  15%|#######5                                          | 3/20 [00:06<00:39,  2.33s/it]"
     ]
    },
    {
     "name": "stdout",
     "output_type": "stream",
     "text": [
      "Early stopping, best iteration is:\n",
      "[155]\tcv_agg's l2: 0.1616 + 0.0210736\n",
      "[100]\tcv_agg's l2: 0.247453 + 0.0163546\n",
      "[200]\tcv_agg's l2: 0.216682 + 0.0151836\n"
     ]
    },
    {
     "name": "stderr",
     "output_type": "stream",
     "text": [
      "num_leaves, val_score: 0.161600:  20%|##########                                        | 4/20 [00:07<00:25,  1.61s/it][I 2023-11-04 13:58:16,225] Trial 10 finished with value: 0.22748379574577307 and parameters: {'num_leaves': 3}. Best is trial 7 with value: 0.1615995128881131.\n",
      "num_leaves, val_score: 0.161600:  20%|##########                                        | 4/20 [00:07<00:25,  1.61s/it]"
     ]
    },
    {
     "name": "stdout",
     "output_type": "stream",
     "text": [
      "Early stopping, best iteration is:\n",
      "[155]\tcv_agg's l2: 0.1616 + 0.0210736\n",
      "[100]\tcv_agg's l2: 0.165 + 0.0209332\n",
      "[200]\tcv_agg's l2: 0.163423 + 0.0211548\n"
     ]
    },
    {
     "name": "stderr",
     "output_type": "stream",
     "text": [
      "num_leaves, val_score: 0.161600:  25%|############5                                     | 5/20 [00:09<00:27,  1.80s/it][I 2023-11-04 13:58:18,373] Trial 11 finished with value: 0.1615995128881131 and parameters: {'num_leaves': 35}. Best is trial 7 with value: 0.1615995128881131.\n",
      "num_leaves, val_score: 0.161600:  25%|############5                                     | 5/20 [00:09<00:27,  1.80s/it]"
     ]
    },
    {
     "name": "stdout",
     "output_type": "stream",
     "text": [
      "Early stopping, best iteration is:\n",
      "[155]\tcv_agg's l2: 0.1616 + 0.0210736\n",
      "[100]\tcv_agg's l2: 0.165 + 0.0209332\n",
      "[200]\tcv_agg's l2: 0.163423 + 0.0211548\n"
     ]
    },
    {
     "name": "stderr",
     "output_type": "stream",
     "text": [
      "num_leaves, val_score: 0.161600:  30%|###############                                   | 6/20 [00:11<00:27,  1.98s/it][I 2023-11-04 13:58:20,706] Trial 12 finished with value: 0.1615995128881131 and parameters: {'num_leaves': 86}. Best is trial 7 with value: 0.1615995128881131.\n",
      "num_leaves, val_score: 0.161600:  30%|###############                                   | 6/20 [00:11<00:27,  1.98s/it]"
     ]
    },
    {
     "name": "stdout",
     "output_type": "stream",
     "text": [
      "Early stopping, best iteration is:\n",
      "[155]\tcv_agg's l2: 0.1616 + 0.0210736\n",
      "[100]\tcv_agg's l2: 0.165 + 0.0209332\n",
      "[200]\tcv_agg's l2: 0.163423 + 0.0211548\n"
     ]
    },
    {
     "name": "stderr",
     "output_type": "stream",
     "text": [
      "num_leaves, val_score: 0.161600:  35%|#################5                                | 7/20 [00:14<00:27,  2.13s/it][I 2023-11-04 13:58:23,136] Trial 13 finished with value: 0.1615995128881131 and parameters: {'num_leaves': 100}. Best is trial 7 with value: 0.1615995128881131.\n",
      "num_leaves, val_score: 0.161600:  35%|#################5                                | 7/20 [00:14<00:27,  2.13s/it]"
     ]
    },
    {
     "name": "stdout",
     "output_type": "stream",
     "text": [
      "Early stopping, best iteration is:\n",
      "[155]\tcv_agg's l2: 0.1616 + 0.0210736\n",
      "[100]\tcv_agg's l2: 0.165 + 0.0209332\n",
      "[200]\tcv_agg's l2: 0.163423 + 0.0211548\n"
     ]
    },
    {
     "name": "stderr",
     "output_type": "stream",
     "text": [
      "num_leaves, val_score: 0.161600:  40%|####################                              | 8/20 [00:16<00:27,  2.26s/it][I 2023-11-04 13:58:25,660] Trial 14 finished with value: 0.1615995128881131 and parameters: {'num_leaves': 192}. Best is trial 7 with value: 0.1615995128881131.\n",
      "num_leaves, val_score: 0.161600:  40%|####################                              | 8/20 [00:16<00:27,  2.26s/it]"
     ]
    },
    {
     "name": "stdout",
     "output_type": "stream",
     "text": [
      "Early stopping, best iteration is:\n",
      "[155]\tcv_agg's l2: 0.1616 + 0.0210736\n",
      "[100]\tcv_agg's l2: 0.165 + 0.0209332\n",
      "[200]\tcv_agg's l2: 0.163423 + 0.0211548\n"
     ]
    },
    {
     "name": "stderr",
     "output_type": "stream",
     "text": [
      "num_leaves, val_score: 0.161600:  45%|######################5                           | 9/20 [00:19<00:25,  2.30s/it][I 2023-11-04 13:58:28,048] Trial 15 finished with value: 0.1615995128881131 and parameters: {'num_leaves': 64}. Best is trial 7 with value: 0.1615995128881131.\n",
      "num_leaves, val_score: 0.161600:  45%|######################5                           | 9/20 [00:19<00:25,  2.30s/it]"
     ]
    },
    {
     "name": "stdout",
     "output_type": "stream",
     "text": [
      "Early stopping, best iteration is:\n",
      "[155]\tcv_agg's l2: 0.1616 + 0.0210736\n",
      "[100]\tcv_agg's l2: 0.165 + 0.0209332\n",
      "[200]\tcv_agg's l2: 0.163423 + 0.0211548\n"
     ]
    },
    {
     "name": "stderr",
     "output_type": "stream",
     "text": [
      "num_leaves, val_score: 0.161600:  50%|########################5                        | 10/20 [00:21<00:22,  2.27s/it][I 2023-11-04 13:58:30,248] Trial 16 finished with value: 0.1615995128881131 and parameters: {'num_leaves': 136}. Best is trial 7 with value: 0.1615995128881131.\n",
      "num_leaves, val_score: 0.161600:  50%|########################5                        | 10/20 [00:21<00:22,  2.27s/it]"
     ]
    },
    {
     "name": "stdout",
     "output_type": "stream",
     "text": [
      "Early stopping, best iteration is:\n",
      "[155]\tcv_agg's l2: 0.1616 + 0.0210736\n",
      "[100]\tcv_agg's l2: 0.165 + 0.0209332\n",
      "[200]\tcv_agg's l2: 0.163423 + 0.0211548\n"
     ]
    },
    {
     "name": "stderr",
     "output_type": "stream",
     "text": [
      "num_leaves, val_score: 0.161600:  55%|##########################9                      | 11/20 [00:23<00:20,  2.25s/it][I 2023-11-04 13:58:32,471] Trial 17 finished with value: 0.1615995128881131 and parameters: {'num_leaves': 246}. Best is trial 7 with value: 0.1615995128881131.\n",
      "num_leaves, val_score: 0.161600:  55%|##########################9                      | 11/20 [00:23<00:20,  2.25s/it]"
     ]
    },
    {
     "name": "stdout",
     "output_type": "stream",
     "text": [
      "Early stopping, best iteration is:\n",
      "[155]\tcv_agg's l2: 0.1616 + 0.0210736\n",
      "[100]\tcv_agg's l2: 0.165 + 0.0209332\n",
      "[200]\tcv_agg's l2: 0.163423 + 0.0211548\n"
     ]
    },
    {
     "name": "stderr",
     "output_type": "stream",
     "text": [
      "num_leaves, val_score: 0.161600:  60%|#############################4                   | 12/20 [00:25<00:17,  2.22s/it][I 2023-11-04 13:58:34,606] Trial 18 finished with value: 0.1615995128881131 and parameters: {'num_leaves': 37}. Best is trial 7 with value: 0.1615995128881131.\n",
      "num_leaves, val_score: 0.161600:  60%|#############################4                   | 12/20 [00:25<00:17,  2.22s/it]"
     ]
    },
    {
     "name": "stdout",
     "output_type": "stream",
     "text": [
      "Early stopping, best iteration is:\n",
      "[155]\tcv_agg's l2: 0.1616 + 0.0210736\n",
      "[100]\tcv_agg's l2: 0.165 + 0.0209332\n",
      "[200]\tcv_agg's l2: 0.163423 + 0.0211548\n"
     ]
    },
    {
     "name": "stderr",
     "output_type": "stream",
     "text": [
      "num_leaves, val_score: 0.161600:  65%|###############################8                 | 13/20 [00:28<00:16,  2.36s/it][I 2023-11-04 13:58:37,310] Trial 19 finished with value: 0.1615995128881131 and parameters: {'num_leaves': 184}. Best is trial 7 with value: 0.1615995128881131.\n",
      "num_leaves, val_score: 0.161600:  65%|###############################8                 | 13/20 [00:28<00:16,  2.36s/it]"
     ]
    },
    {
     "name": "stdout",
     "output_type": "stream",
     "text": [
      "Early stopping, best iteration is:\n",
      "[155]\tcv_agg's l2: 0.1616 + 0.0210736\n",
      "[100]\tcv_agg's l2: 0.354908 + 0.0587264\n",
      "[200]\tcv_agg's l2: 0.31512 + 0.0528942\n"
     ]
    },
    {
     "name": "stderr",
     "output_type": "stream",
     "text": [
      "num_leaves, val_score: 0.161600:  70%|##################################3              | 14/20 [00:28<00:10,  1.79s/it][I 2023-11-04 13:58:37,760] Trial 20 finished with value: 0.32610717221798174 and parameters: {'num_leaves': 2}. Best is trial 7 with value: 0.1615995128881131.\n",
      "num_leaves, val_score: 0.161600:  70%|##################################3              | 14/20 [00:28<00:10,  1.79s/it]"
     ]
    },
    {
     "name": "stdout",
     "output_type": "stream",
     "text": [
      "Early stopping, best iteration is:\n",
      "[155]\tcv_agg's l2: 0.1616 + 0.0210736\n",
      "[100]\tcv_agg's l2: 0.165 + 0.0209332\n",
      "[200]\tcv_agg's l2: 0.163423 + 0.0211548\n"
     ]
    },
    {
     "name": "stderr",
     "output_type": "stream",
     "text": [
      "num_leaves, val_score: 0.161600:  75%|####################################7            | 15/20 [00:31<00:09,  1.98s/it][I 2023-11-04 13:58:40,201] Trial 21 finished with value: 0.1615995128881131 and parameters: {'num_leaves': 183}. Best is trial 7 with value: 0.1615995128881131.\n",
      "num_leaves, val_score: 0.161600:  75%|####################################7            | 15/20 [00:31<00:09,  1.98s/it]"
     ]
    },
    {
     "name": "stdout",
     "output_type": "stream",
     "text": [
      "Early stopping, best iteration is:\n",
      "[155]\tcv_agg's l2: 0.1616 + 0.0210736\n",
      "[100]\tcv_agg's l2: 0.165 + 0.0209332\n",
      "[200]\tcv_agg's l2: 0.163423 + 0.0211548\n"
     ]
    },
    {
     "name": "stderr",
     "output_type": "stream",
     "text": [
      "num_leaves, val_score: 0.161600:  80%|#######################################2         | 16/20 [00:33<00:08,  2.04s/it][I 2023-11-04 13:58:42,384] Trial 22 finished with value: 0.1615995128881131 and parameters: {'num_leaves': 239}. Best is trial 7 with value: 0.1615995128881131.\n",
      "num_leaves, val_score: 0.161600:  80%|#######################################2         | 16/20 [00:33<00:08,  2.04s/it]"
     ]
    },
    {
     "name": "stdout",
     "output_type": "stream",
     "text": [
      "Early stopping, best iteration is:\n",
      "[155]\tcv_agg's l2: 0.1616 + 0.0210736\n",
      "[100]\tcv_agg's l2: 0.165 + 0.0209332\n",
      "[200]\tcv_agg's l2: 0.163423 + 0.0211548\n"
     ]
    },
    {
     "name": "stderr",
     "output_type": "stream",
     "text": [
      "num_leaves, val_score: 0.161600:  85%|#########################################6       | 17/20 [00:35<00:06,  2.09s/it][I 2023-11-04 13:58:44,570] Trial 23 finished with value: 0.1615995128881131 and parameters: {'num_leaves': 213}. Best is trial 7 with value: 0.1615995128881131.\n",
      "num_leaves, val_score: 0.161600:  85%|#########################################6       | 17/20 [00:35<00:06,  2.09s/it]"
     ]
    },
    {
     "name": "stdout",
     "output_type": "stream",
     "text": [
      "Early stopping, best iteration is:\n",
      "[155]\tcv_agg's l2: 0.1616 + 0.0210736\n",
      "[100]\tcv_agg's l2: 0.165 + 0.0209332\n",
      "[200]\tcv_agg's l2: 0.163423 + 0.0211548\n"
     ]
    },
    {
     "name": "stderr",
     "output_type": "stream",
     "text": [
      "num_leaves, val_score: 0.161600:  90%|############################################1    | 18/20 [00:37<00:04,  2.07s/it][I 2023-11-04 13:58:46,606] Trial 24 finished with value: 0.1615995128881131 and parameters: {'num_leaves': 148}. Best is trial 7 with value: 0.1615995128881131.\n",
      "num_leaves, val_score: 0.161600:  90%|############################################1    | 18/20 [00:37<00:04,  2.07s/it]"
     ]
    },
    {
     "name": "stdout",
     "output_type": "stream",
     "text": [
      "Early stopping, best iteration is:\n",
      "[155]\tcv_agg's l2: 0.1616 + 0.0210736\n",
      "[100]\tcv_agg's l2: 0.165 + 0.0209332\n",
      "[200]\tcv_agg's l2: 0.163423 + 0.0211548\n"
     ]
    },
    {
     "name": "stderr",
     "output_type": "stream",
     "text": [
      "num_leaves, val_score: 0.161600:  95%|##############################################5  | 19/20 [00:39<00:02,  2.07s/it][I 2023-11-04 13:58:48,670] Trial 25 finished with value: 0.1615995128881131 and parameters: {'num_leaves': 113}. Best is trial 7 with value: 0.1615995128881131.\n",
      "num_leaves, val_score: 0.161600:  95%|##############################################5  | 19/20 [00:39<00:02,  2.07s/it]"
     ]
    },
    {
     "name": "stdout",
     "output_type": "stream",
     "text": [
      "Early stopping, best iteration is:\n",
      "[155]\tcv_agg's l2: 0.1616 + 0.0210736\n",
      "[100]\tcv_agg's l2: 0.165 + 0.0209332\n",
      "[200]\tcv_agg's l2: 0.163423 + 0.0211548\n"
     ]
    },
    {
     "name": "stderr",
     "output_type": "stream",
     "text": [
      "num_leaves, val_score: 0.161600: 100%|#################################################| 20/20 [00:42<00:00,  2.12s/it][I 2023-11-04 13:58:50,924] Trial 26 finished with value: 0.1615995128881131 and parameters: {'num_leaves': 161}. Best is trial 7 with value: 0.1615995128881131.\n",
      "num_leaves, val_score: 0.161600: 100%|#################################################| 20/20 [00:42<00:00,  2.10s/it]\n"
     ]
    },
    {
     "name": "stdout",
     "output_type": "stream",
     "text": [
      "Early stopping, best iteration is:\n",
      "[155]\tcv_agg's l2: 0.1616 + 0.0210736\n"
     ]
    },
    {
     "name": "stderr",
     "output_type": "stream",
     "text": [
      "bagging, val_score: 0.161600:   0%|                                                             | 0/10 [00:00<?, ?it/s]"
     ]
    },
    {
     "name": "stdout",
     "output_type": "stream",
     "text": [
      "[100]\tcv_agg's l2: 0.177048 + 0.0248358\n",
      "[200]\tcv_agg's l2: 0.1717 + 0.0209544\n"
     ]
    },
    {
     "name": "stderr",
     "output_type": "stream",
     "text": [
      "bagging, val_score: 0.161600:  10%|#####3                                               | 1/10 [00:01<00:17,  1.90s/it][I 2023-11-04 13:58:52,833] Trial 27 finished with value: 0.17167986284578485 and parameters: {'bagging_fraction': 0.7908039007118717, 'bagging_freq': 3}. Best is trial 27 with value: 0.17167986284578485.\n",
      "bagging, val_score: 0.161600:  10%|#####3                                               | 1/10 [00:01<00:17,  1.90s/it]"
     ]
    },
    {
     "name": "stdout",
     "output_type": "stream",
     "text": [
      "Early stopping, best iteration is:\n",
      "[155]\tcv_agg's l2: 0.1616 + 0.0210736\n",
      "[100]\tcv_agg's l2: 0.225864 + 0.0189661\n",
      "[200]\tcv_agg's l2: 0.207087 + 0.0197601\n"
     ]
    },
    {
     "name": "stderr",
     "output_type": "stream",
     "text": [
      "bagging, val_score: 0.161600:  20%|##########6                                          | 2/10 [00:02<00:11,  1.39s/it][I 2023-11-04 13:58:53,869] Trial 28 finished with value: 0.21327844012009273 and parameters: {'bagging_fraction': 0.408146032385625, 'bagging_freq': 7}. Best is trial 27 with value: 0.17167986284578485.\n",
      "bagging, val_score: 0.161600:  20%|##########6                                          | 2/10 [00:02<00:11,  1.39s/it]"
     ]
    },
    {
     "name": "stdout",
     "output_type": "stream",
     "text": [
      "Early stopping, best iteration is:\n",
      "[155]\tcv_agg's l2: 0.1616 + 0.0210736\n",
      "[100]\tcv_agg's l2: 0.162576 + 0.0210527\n",
      "[200]\tcv_agg's l2: 0.158506 + 0.0195024\n",
      "[300]\tcv_agg's l2: 0.158449 + 0.0188568\n"
     ]
    },
    {
     "name": "stderr",
     "output_type": "stream",
     "text": [
      "bagging, val_score: 0.158249:  30%|###############9                                     | 3/10 [00:05<00:13,  1.91s/it][I 2023-11-04 13:58:56,389] Trial 29 finished with value: 0.15824855950658567 and parameters: {'bagging_fraction': 0.9500825464643999, 'bagging_freq': 1}. Best is trial 29 with value: 0.15824855950658567.\n",
      "bagging, val_score: 0.158249:  30%|###############9                                     | 3/10 [00:05<00:13,  1.91s/it]"
     ]
    },
    {
     "name": "stdout",
     "output_type": "stream",
     "text": [
      "Early stopping, best iteration is:\n",
      "[229]\tcv_agg's l2: 0.158249 + 0.019102\n",
      "[100]\tcv_agg's l2: 0.161569 + 0.0220725\n",
      "[200]\tcv_agg's l2: 0.158926 + 0.0224023\n",
      "[300]\tcv_agg's l2: 0.160649 + 0.0226924\n"
     ]
    },
    {
     "name": "stderr",
     "output_type": "stream",
     "text": [
      "bagging, val_score: 0.158249:  40%|#####################2                               | 4/10 [00:08<00:13,  2.20s/it][I 2023-11-04 13:58:59,036] Trial 30 finished with value: 0.1589906692345202 and parameters: {'bagging_fraction': 0.9744574312489627, 'bagging_freq': 1}. Best is trial 29 with value: 0.15824855950658567.\n",
      "bagging, val_score: 0.158249:  40%|#####################2                               | 4/10 [00:08<00:13,  2.20s/it]"
     ]
    },
    {
     "name": "stdout",
     "output_type": "stream",
     "text": [
      "Early stopping, best iteration is:\n",
      "[229]\tcv_agg's l2: 0.158249 + 0.019102\n",
      "[100]\tcv_agg's l2: 0.162207 + 0.0222409\n",
      "[200]\tcv_agg's l2: 0.159338 + 0.0222769\n",
      "[300]\tcv_agg's l2: 0.159961 + 0.0226725\n"
     ]
    },
    {
     "name": "stderr",
     "output_type": "stream",
     "text": [
      "bagging, val_score: 0.158249:  50%|##########################5                          | 5/10 [00:10<00:11,  2.36s/it][I 2023-11-04 13:59:01,687] Trial 31 finished with value: 0.15897052234702894 and parameters: {'bagging_fraction': 0.9905552395183695, 'bagging_freq': 1}. Best is trial 29 with value: 0.15824855950658567.\n",
      "bagging, val_score: 0.158249:  50%|##########################5                          | 5/10 [00:10<00:11,  2.36s/it]"
     ]
    },
    {
     "name": "stdout",
     "output_type": "stream",
     "text": [
      "Early stopping, best iteration is:\n",
      "[229]\tcv_agg's l2: 0.158249 + 0.019102\n",
      "[100]\tcv_agg's l2: 0.160699 + 0.0192839\n",
      "[200]\tcv_agg's l2: 0.160614 + 0.0189042\n"
     ]
    },
    {
     "name": "stderr",
     "output_type": "stream",
     "text": [
      "bagging, val_score: 0.158249:  60%|###############################8                     | 6/10 [00:14<00:11,  2.91s/it][I 2023-11-04 13:59:05,660] Trial 32 finished with value: 0.16104570448406616 and parameters: {'bagging_fraction': 0.9848058180775074, 'bagging_freq': 1}. Best is trial 29 with value: 0.15824855950658567.\n",
      "bagging, val_score: 0.158249:  60%|###############################8                     | 6/10 [00:14<00:11,  2.91s/it]"
     ]
    },
    {
     "name": "stdout",
     "output_type": "stream",
     "text": [
      "[300]\tcv_agg's l2: 0.161523 + 0.0182515\n",
      "Early stopping, best iteration is:\n",
      "[229]\tcv_agg's l2: 0.158249 + 0.019102\n",
      "[100]\tcv_agg's l2: 0.163916 + 0.0206542\n",
      "[200]\tcv_agg's l2: 0.163139 + 0.0198974\n"
     ]
    },
    {
     "name": "stderr",
     "output_type": "stream",
     "text": [
      "bagging, val_score: 0.158249:  70%|#####################################                | 7/10 [00:16<00:07,  2.55s/it][I 2023-11-04 13:59:07,482] Trial 33 finished with value: 0.16317505145500272 and parameters: {'bagging_fraction': 0.998112882173659, 'bagging_freq': 1}. Best is trial 29 with value: 0.15824855950658567.\n",
      "bagging, val_score: 0.158249:  70%|#####################################                | 7/10 [00:16<00:07,  2.55s/it]"
     ]
    },
    {
     "name": "stdout",
     "output_type": "stream",
     "text": [
      "[300]\tcv_agg's l2: 0.165211 + 0.0201398\n",
      "Early stopping, best iteration is:\n",
      "[229]\tcv_agg's l2: 0.158249 + 0.019102\n",
      "[100]\tcv_agg's l2: 0.164567 + 0.0208642\n",
      "[200]\tcv_agg's l2: 0.165623 + 0.0226847\n"
     ]
    },
    {
     "name": "stderr",
     "output_type": "stream",
     "text": [
      "bagging, val_score: 0.158249:  80%|##########################################4          | 8/10 [00:18<00:04,  2.33s/it][I 2023-11-04 13:59:09,347] Trial 34 finished with value: 0.1656034103758822 and parameters: {'bagging_fraction': 0.9948706108568673, 'bagging_freq': 1}. Best is trial 29 with value: 0.15824855950658567.\n",
      "bagging, val_score: 0.158249:  80%|##########################################4          | 8/10 [00:18<00:04,  2.33s/it]"
     ]
    },
    {
     "name": "stdout",
     "output_type": "stream",
     "text": [
      "[300]\tcv_agg's l2: 0.166484 + 0.0226283\n",
      "Early stopping, best iteration is:\n",
      "[229]\tcv_agg's l2: 0.158249 + 0.019102\n",
      "[100]\tcv_agg's l2: 0.166069 + 0.0196223\n",
      "[200]\tcv_agg's l2: 0.164167 + 0.0216404\n"
     ]
    },
    {
     "name": "stderr",
     "output_type": "stream",
     "text": [
      "bagging, val_score: 0.158249:  90%|###############################################7     | 9/10 [00:19<00:02,  2.09s/it][I 2023-11-04 13:59:10,914] Trial 35 finished with value: 0.1639464134907551 and parameters: {'bagging_fraction': 0.9932502335666668, 'bagging_freq': 1}. Best is trial 29 with value: 0.15824855950658567.\n",
      "bagging, val_score: 0.158249:  90%|###############################################7     | 9/10 [00:19<00:02,  2.09s/it]"
     ]
    },
    {
     "name": "stdout",
     "output_type": "stream",
     "text": [
      "[300]\tcv_agg's l2: 0.165202 + 0.0219367\n",
      "Early stopping, best iteration is:\n",
      "[229]\tcv_agg's l2: 0.158249 + 0.019102\n",
      "[100]\tcv_agg's l2: 0.159579 + 0.0229813\n",
      "[200]\tcv_agg's l2: 0.156999 + 0.0210609\n"
     ]
    },
    {
     "name": "stderr",
     "output_type": "stream",
     "text": [
      "bagging, val_score: 0.156666: 100%|####################################################| 10/10 [00:21<00:00,  1.85s/it][I 2023-11-04 13:59:12,212] Trial 36 finished with value: 0.1566664850003665 and parameters: {'bagging_fraction': 0.9412192276451357, 'bagging_freq': 1}. Best is trial 36 with value: 0.1566664850003665.\n",
      "bagging, val_score: 0.156666: 100%|####################################################| 10/10 [00:21<00:00,  2.13s/it]\n"
     ]
    },
    {
     "name": "stdout",
     "output_type": "stream",
     "text": [
      "Early stopping, best iteration is:\n",
      "[171]\tcv_agg's l2: 0.156666 + 0.0205646\n"
     ]
    },
    {
     "name": "stderr",
     "output_type": "stream",
     "text": [
      "feature_fraction_stage2, val_score: 0.156666:   0%|                                              | 0/3 [00:00<?, ?it/s]"
     ]
    },
    {
     "name": "stdout",
     "output_type": "stream",
     "text": [
      "[100]\tcv_agg's l2: 0.165642 + 0.0313727\n",
      "[200]\tcv_agg's l2: 0.164447 + 0.0310573\n"
     ]
    },
    {
     "name": "stderr",
     "output_type": "stream",
     "text": [
      "feature_fraction_stage2, val_score: 0.156666:  33%|############6                         | 1/3 [00:01<00:03,  1.59s/it][I 2023-11-04 13:59:13,808] Trial 37 finished with value: 0.16401936826892705 and parameters: {'feature_fraction': 0.44800000000000006}. Best is trial 37 with value: 0.16401936826892705.\n",
      "feature_fraction_stage2, val_score: 0.156666:  33%|############6                         | 1/3 [00:01<00:03,  1.59s/it]"
     ]
    },
    {
     "name": "stdout",
     "output_type": "stream",
     "text": [
      "Early stopping, best iteration is:\n",
      "[171]\tcv_agg's l2: 0.156666 + 0.0205646\n",
      "[100]\tcv_agg's l2: 0.159579 + 0.0229813\n",
      "[200]\tcv_agg's l2: 0.156999 + 0.0210609\n"
     ]
    },
    {
     "name": "stderr",
     "output_type": "stream",
     "text": [
      "feature_fraction_stage2, val_score: 0.156666:  67%|#########################3            | 2/3 [00:03<00:01,  1.91s/it][I 2023-11-04 13:59:15,946] Trial 38 finished with value: 0.1566664850003665 and parameters: {'feature_fraction': 0.41600000000000004}. Best is trial 38 with value: 0.1566664850003665.\n",
      "feature_fraction_stage2, val_score: 0.156666:  67%|#########################3            | 2/3 [00:03<00:01,  1.91s/it]"
     ]
    },
    {
     "name": "stdout",
     "output_type": "stream",
     "text": [
      "Early stopping, best iteration is:\n",
      "[171]\tcv_agg's l2: 0.156666 + 0.0205646\n",
      "[100]\tcv_agg's l2: 0.165642 + 0.0313727\n",
      "[200]\tcv_agg's l2: 0.164447 + 0.0310573\n"
     ]
    },
    {
     "name": "stderr",
     "output_type": "stream",
     "text": [
      "feature_fraction_stage2, val_score: 0.156666: 100%|######################################| 3/3 [00:05<00:00,  1.99s/it][I 2023-11-04 13:59:18,029] Trial 39 finished with value: 0.16401936826892705 and parameters: {'feature_fraction': 0.48000000000000004}. Best is trial 38 with value: 0.1566664850003665.\n",
      "feature_fraction_stage2, val_score: 0.156666: 100%|######################################| 3/3 [00:05<00:00,  1.94s/it]\n"
     ]
    },
    {
     "name": "stdout",
     "output_type": "stream",
     "text": [
      "Early stopping, best iteration is:\n",
      "[171]\tcv_agg's l2: 0.156666 + 0.0205646\n"
     ]
    },
    {
     "name": "stderr",
     "output_type": "stream",
     "text": [
      "regularization_factors, val_score: 0.156666:   0%|                                              | 0/20 [00:00<?, ?it/s]"
     ]
    },
    {
     "name": "stdout",
     "output_type": "stream",
     "text": [
      "[100]\tcv_agg's l2: 0.161083 + 0.0212015\n",
      "[200]\tcv_agg's l2: 0.157171 + 0.0199148\n",
      "[300]\tcv_agg's l2: 0.157034 + 0.0199115\n"
     ]
    },
    {
     "name": "stderr",
     "output_type": "stream",
     "text": [
      "regularization_factors, val_score: 0.156613:   5%|#9                                    | 1/20 [00:03<00:57,  3.00s/it][I 2023-11-04 13:59:21,039] Trial 40 finished with value: 0.15661274278609513 and parameters: {'lambda_l1': 3.4444740264896464e-05, 'lambda_l2': 0.14422091295263334}. Best is trial 40 with value: 0.15661274278609513.\n",
      "regularization_factors, val_score: 0.156613:   5%|#9                                    | 1/20 [00:03<00:57,  3.00s/it]"
     ]
    },
    {
     "name": "stdout",
     "output_type": "stream",
     "text": [
      "Early stopping, best iteration is:\n",
      "[279]\tcv_agg's l2: 0.156613 + 0.0200031\n",
      "[100]\tcv_agg's l2: 0.160302 + 0.0208357\n",
      "[200]\tcv_agg's l2: 0.15686 + 0.0198359\n"
     ]
    },
    {
     "name": "stderr",
     "output_type": "stream",
     "text": [
      "regularization_factors, val_score: 0.156240:  10%|###8                                  | 2/20 [00:05<00:46,  2.59s/it][I 2023-11-04 13:59:23,345] Trial 41 finished with value: 0.15623988333984426 and parameters: {'lambda_l1': 1.3369005093056231e-05, 'lambda_l2': 0.4589168476991133}. Best is trial 41 with value: 0.15623988333984426.\n",
      "regularization_factors, val_score: 0.156240:  10%|###8                                  | 2/20 [00:05<00:46,  2.59s/it]"
     ]
    },
    {
     "name": "stdout",
     "output_type": "stream",
     "text": [
      "Early stopping, best iteration is:\n",
      "[168]\tcv_agg's l2: 0.15624 + 0.0187993\n",
      "[100]\tcv_agg's l2: 0.162041 + 0.0214612\n",
      "[200]\tcv_agg's l2: 0.15831 + 0.0205323\n"
     ]
    },
    {
     "name": "stderr",
     "output_type": "stream",
     "text": [
      "regularization_factors, val_score: 0.156240:  15%|#####7                                | 3/20 [00:07<00:40,  2.36s/it][I 2023-11-04 13:59:25,434] Trial 42 finished with value: 0.15729781339563917 and parameters: {'lambda_l1': 3.39201153264843e-05, 'lambda_l2': 0.5414227119799254}. Best is trial 41 with value: 0.15623988333984426.\n",
      "regularization_factors, val_score: 0.156240:  15%|#####7                                | 3/20 [00:07<00:40,  2.36s/it]"
     ]
    },
    {
     "name": "stdout",
     "output_type": "stream",
     "text": [
      "Early stopping, best iteration is:\n",
      "[168]\tcv_agg's l2: 0.15624 + 0.0187993\n",
      "[100]\tcv_agg's l2: 0.163138 + 0.0188784\n",
      "[200]\tcv_agg's l2: 0.159866 + 0.0173865\n"
     ]
    },
    {
     "name": "stderr",
     "output_type": "stream",
     "text": [
      "regularization_factors, val_score: 0.156240:  20%|#######6                              | 4/20 [00:09<00:37,  2.34s/it][I 2023-11-04 13:59:27,728] Trial 43 finished with value: 0.15929656683863222 and parameters: {'lambda_l1': 3.555533135194378e-05, 'lambda_l2': 0.4931616443734532}. Best is trial 41 with value: 0.15623988333984426.\n",
      "regularization_factors, val_score: 0.156240:  20%|#######6                              | 4/20 [00:09<00:37,  2.34s/it]"
     ]
    },
    {
     "name": "stdout",
     "output_type": "stream",
     "text": [
      "Early stopping, best iteration is:\n",
      "[168]\tcv_agg's l2: 0.15624 + 0.0187993\n",
      "[100]\tcv_agg's l2: 0.164413 + 0.0201876\n",
      "[200]\tcv_agg's l2: 0.160458 + 0.0174228\n"
     ]
    },
    {
     "name": "stderr",
     "output_type": "stream",
     "text": [
      "regularization_factors, val_score: 0.156240:  25%|#########5                            | 5/20 [00:12<00:35,  2.34s/it][I 2023-11-04 13:59:30,064] Trial 44 finished with value: 0.16050967307364042 and parameters: {'lambda_l1': 2.515916952063484e-05, 'lambda_l2': 0.4910659644087542}. Best is trial 41 with value: 0.15623988333984426.\n",
      "regularization_factors, val_score: 0.156240:  25%|#########5                            | 5/20 [00:12<00:35,  2.34s/it]"
     ]
    },
    {
     "name": "stdout",
     "output_type": "stream",
     "text": [
      "Early stopping, best iteration is:\n",
      "[168]\tcv_agg's l2: 0.15624 + 0.0187993\n",
      "[100]\tcv_agg's l2: 0.158994 + 0.0190182\n",
      "[200]\tcv_agg's l2: 0.156031 + 0.0177293\n"
     ]
    },
    {
     "name": "stderr",
     "output_type": "stream",
     "text": [
      "regularization_factors, val_score: 0.155116:  30%|###########4                          | 6/20 [00:14<00:31,  2.25s/it][I 2023-11-04 13:59:32,148] Trial 45 finished with value: 0.15511561104883786 and parameters: {'lambda_l1': 3.139734381403512e-05, 'lambda_l2': 0.27388125746755376}. Best is trial 45 with value: 0.15511561104883786.\n",
      "regularization_factors, val_score: 0.155116:  30%|###########4                          | 6/20 [00:14<00:31,  2.25s/it]"
     ]
    },
    {
     "name": "stdout",
     "output_type": "stream",
     "text": [
      "Early stopping, best iteration is:\n",
      "[142]\tcv_agg's l2: 0.155116 + 0.0179764\n",
      "[100]\tcv_agg's l2: 0.160016 + 0.022756\n",
      "[200]\tcv_agg's l2: 0.155957 + 0.020695\n"
     ]
    },
    {
     "name": "stderr",
     "output_type": "stream",
     "text": [
      "regularization_factors, val_score: 0.155116:  35%|#############3                        | 7/20 [00:16<00:28,  2.18s/it][I 2023-11-04 13:59:34,191] Trial 46 finished with value: 0.1566850098265904 and parameters: {'lambda_l1': 8.938412517481493e-08, 'lambda_l2': 0.0013442509636839974}. Best is trial 45 with value: 0.15511561104883786.\n",
      "regularization_factors, val_score: 0.155116:  35%|#############3                        | 7/20 [00:16<00:28,  2.18s/it]"
     ]
    },
    {
     "name": "stdout",
     "output_type": "stream",
     "text": [
      "Early stopping, best iteration is:\n",
      "[142]\tcv_agg's l2: 0.155116 + 0.0179764\n",
      "[100]\tcv_agg's l2: 0.161035 + 0.0234727\n",
      "[200]\tcv_agg's l2: 0.156788 + 0.0216009\n"
     ]
    },
    {
     "name": "stderr",
     "output_type": "stream",
     "text": [
      "regularization_factors, val_score: 0.155116:  40%|###############2                      | 8/20 [00:18<00:25,  2.11s/it][I 2023-11-04 13:59:36,138] Trial 47 finished with value: 0.15779215896238488 and parameters: {'lambda_l1': 0.07215198460893127, 'lambda_l2': 0.005380168278961615}. Best is trial 45 with value: 0.15511561104883786.\n",
      "regularization_factors, val_score: 0.155116:  40%|###############2                      | 8/20 [00:18<00:25,  2.11s/it]"
     ]
    },
    {
     "name": "stdout",
     "output_type": "stream",
     "text": [
      "Early stopping, best iteration is:\n",
      "[142]\tcv_agg's l2: 0.155116 + 0.0179764\n",
      "[100]\tcv_agg's l2: 0.159579 + 0.0229813\n",
      "[200]\tcv_agg's l2: 0.156699 + 0.0209257\n"
     ]
    },
    {
     "name": "stderr",
     "output_type": "stream",
     "text": [
      "regularization_factors, val_score: 0.155116:  45%|#################1                    | 9/20 [00:20<00:22,  2.06s/it][I 2023-11-04 13:59:38,100] Trial 48 finished with value: 0.1573680485431374 and parameters: {'lambda_l1': 3.2733915398897156e-06, 'lambda_l2': 3.323632912005357e-08}. Best is trial 45 with value: 0.15511561104883786.\n",
      "regularization_factors, val_score: 0.155116:  45%|#################1                    | 9/20 [00:20<00:22,  2.06s/it]"
     ]
    },
    {
     "name": "stdout",
     "output_type": "stream",
     "text": [
      "Early stopping, best iteration is:\n",
      "[142]\tcv_agg's l2: 0.155116 + 0.0179764\n",
      "[100]\tcv_agg's l2: 0.173927 + 0.0222717\n",
      "[200]\tcv_agg's l2: 0.16629 + 0.0220224\n"
     ]
    },
    {
     "name": "stderr",
     "output_type": "stream",
     "text": [
      "regularization_factors, val_score: 0.155116:  50%|##################5                  | 10/20 [00:22<00:20,  2.04s/it][I 2023-11-04 13:59:40,101] Trial 49 finished with value: 0.1679788209009049 and parameters: {'lambda_l1': 0.0017777056941706622, 'lambda_l2': 3.5918361528778138}. Best is trial 45 with value: 0.15511561104883786.\n",
      "regularization_factors, val_score: 0.155116:  50%|##################5                  | 10/20 [00:22<00:20,  2.04s/it]"
     ]
    },
    {
     "name": "stdout",
     "output_type": "stream",
     "text": [
      "Early stopping, best iteration is:\n",
      "[142]\tcv_agg's l2: 0.155116 + 0.0179764\n",
      "[100]\tcv_agg's l2: 0.160831 + 0.0233426\n",
      "[200]\tcv_agg's l2: 0.157007 + 0.021962\n"
     ]
    },
    {
     "name": "stderr",
     "output_type": "stream",
     "text": [
      "regularization_factors, val_score: 0.155116:  55%|####################3                | 11/20 [00:24<00:18,  2.06s/it][I 2023-11-04 13:59:42,190] Trial 50 finished with value: 0.15769127409416134 and parameters: {'lambda_l1': 0.0005935183103384855, 'lambda_l2': 0.025560901228561587}. Best is trial 45 with value: 0.15511561104883786.\n",
      "regularization_factors, val_score: 0.155116:  55%|####################3                | 11/20 [00:24<00:18,  2.06s/it]"
     ]
    },
    {
     "name": "stdout",
     "output_type": "stream",
     "text": [
      "Early stopping, best iteration is:\n",
      "[142]\tcv_agg's l2: 0.155116 + 0.0179764\n",
      "[100]\tcv_agg's l2: 0.16 + 0.0227586\n",
      "[200]\tcv_agg's l2: 0.156608 + 0.0204776\n"
     ]
    },
    {
     "name": "stderr",
     "output_type": "stream",
     "text": [
      "regularization_factors, val_score: 0.155116:  60%|######################2              | 12/20 [00:26<00:16,  2.05s/it][I 2023-11-04 13:59:44,212] Trial 51 finished with value: 0.15713271003837126 and parameters: {'lambda_l1': 1.2860881544253784e-08, 'lambda_l2': 0.001383848286288044}. Best is trial 45 with value: 0.15511561104883786.\n",
      "regularization_factors, val_score: 0.155116:  60%|######################2              | 12/20 [00:26<00:16,  2.05s/it]"
     ]
    },
    {
     "name": "stdout",
     "output_type": "stream",
     "text": [
      "Early stopping, best iteration is:\n",
      "[142]\tcv_agg's l2: 0.155116 + 0.0179764\n",
      "[100]\tcv_agg's l2: 0.158463 + 0.0242337\n",
      "[200]\tcv_agg's l2: 0.155001 + 0.0208999\n"
     ]
    },
    {
     "name": "stderr",
     "output_type": "stream",
     "text": [
      "regularization_factors, val_score: 0.154820:  65%|########################             | 13/20 [00:28<00:14,  2.11s/it][I 2023-11-04 13:59:46,472] Trial 52 finished with value: 0.15481954790615862 and parameters: {'lambda_l1': 4.205278821080142e-07, 'lambda_l2': 0.041858797347544094}. Best is trial 52 with value: 0.15481954790615862.\n",
      "regularization_factors, val_score: 0.154820:  65%|########################             | 13/20 [00:28<00:14,  2.11s/it]"
     ]
    },
    {
     "name": "stdout",
     "output_type": "stream",
     "text": [
      "Early stopping, best iteration is:\n",
      "[180]\tcv_agg's l2: 0.15482 + 0.0206737\n",
      "[100]\tcv_agg's l2: 0.157285 + 0.0219736\n",
      "[200]\tcv_agg's l2: 0.154216 + 0.0205728\n"
     ]
    },
    {
     "name": "stderr",
     "output_type": "stream",
     "text": [
      "regularization_factors, val_score: 0.153322:  70%|#########################9           | 14/20 [00:30<00:12,  2.16s/it][I 2023-11-04 13:59:48,751] Trial 53 finished with value: 0.1533223462378259 and parameters: {'lambda_l1': 2.3553203931047317e-06, 'lambda_l2': 0.04607120158815861}. Best is trial 53 with value: 0.1533223462378259.\n",
      "regularization_factors, val_score: 0.153322:  70%|#########################9           | 14/20 [00:30<00:12,  2.16s/it]"
     ]
    },
    {
     "name": "stdout",
     "output_type": "stream",
     "text": [
      "Early stopping, best iteration is:\n",
      "[171]\tcv_agg's l2: 0.153322 + 0.0203638\n",
      "[100]\tcv_agg's l2: 0.161084 + 0.0204298\n",
      "[200]\tcv_agg's l2: 0.157614 + 0.0204911\n"
     ]
    },
    {
     "name": "stderr",
     "output_type": "stream",
     "text": [
      "regularization_factors, val_score: 0.153322:  75%|###########################7         | 15/20 [00:32<00:10,  2.15s/it][I 2023-11-04 13:59:50,881] Trial 54 finished with value: 0.15672755533770083 and parameters: {'lambda_l1': 1.2499543495491414e-06, 'lambda_l2': 0.08370510455103009}. Best is trial 53 with value: 0.1533223462378259.\n",
      "regularization_factors, val_score: 0.153322:  75%|###########################7         | 15/20 [00:32<00:10,  2.15s/it]"
     ]
    },
    {
     "name": "stdout",
     "output_type": "stream",
     "text": [
      "Early stopping, best iteration is:\n",
      "[171]\tcv_agg's l2: 0.153322 + 0.0203638\n",
      "[100]\tcv_agg's l2: 0.158166 + 0.023688\n",
      "[200]\tcv_agg's l2: 0.155983 + 0.0224038\n"
     ]
    },
    {
     "name": "stderr",
     "output_type": "stream",
     "text": [
      "regularization_factors, val_score: 0.153322:  80%|#############################6       | 16/20 [00:35<00:08,  2.16s/it][I 2023-11-04 13:59:53,068] Trial 55 finished with value: 0.15530303545402582 and parameters: {'lambda_l1': 1.2211152508716446e-06, 'lambda_l2': 0.05207554365453345}. Best is trial 53 with value: 0.1533223462378259.\n",
      "regularization_factors, val_score: 0.153322:  80%|#############################6       | 16/20 [00:35<00:08,  2.16s/it]"
     ]
    },
    {
     "name": "stdout",
     "output_type": "stream",
     "text": [
      "Early stopping, best iteration is:\n",
      "[171]\tcv_agg's l2: 0.153322 + 0.0203638\n",
      "[100]\tcv_agg's l2: 0.157449 + 0.0238412\n",
      "[200]\tcv_agg's l2: 0.154353 + 0.0212022\n"
     ]
    },
    {
     "name": "stderr",
     "output_type": "stream",
     "text": [
      "regularization_factors, val_score: 0.153322:  85%|###############################4     | 17/20 [00:37<00:06,  2.14s/it][I 2023-11-04 13:59:55,155] Trial 56 finished with value: 0.15368693280248988 and parameters: {'lambda_l1': 1.22765288695935e-06, 'lambda_l2': 0.0608047849716755}. Best is trial 53 with value: 0.1533223462378259.\n",
      "regularization_factors, val_score: 0.153322:  85%|###############################4     | 17/20 [00:37<00:06,  2.14s/it]"
     ]
    },
    {
     "name": "stdout",
     "output_type": "stream",
     "text": [
      "Early stopping, best iteration is:\n",
      "[171]\tcv_agg's l2: 0.153322 + 0.0203638\n",
      "[100]\tcv_agg's l2: 0.160629 + 0.0227092\n",
      "[200]\tcv_agg's l2: 0.156474 + 0.0203211\n"
     ]
    },
    {
     "name": "stderr",
     "output_type": "stream",
     "text": [
      "regularization_factors, val_score: 0.153322:  90%|#################################3   | 18/20 [00:39<00:04,  2.16s/it][I 2023-11-04 13:59:57,362] Trial 57 finished with value: 0.15608702548548387 and parameters: {'lambda_l1': 6.893505146861781e-07, 'lambda_l2': 0.031489968619486004}. Best is trial 53 with value: 0.1533223462378259.\n",
      "regularization_factors, val_score: 0.153322:  90%|#################################3   | 18/20 [00:39<00:04,  2.16s/it]"
     ]
    },
    {
     "name": "stdout",
     "output_type": "stream",
     "text": [
      "Early stopping, best iteration is:\n",
      "[171]\tcv_agg's l2: 0.153322 + 0.0203638\n",
      "[100]\tcv_agg's l2: 0.161483 + 0.0230783\n",
      "[200]\tcv_agg's l2: 0.157404 + 0.021283\n"
     ]
    },
    {
     "name": "stderr",
     "output_type": "stream",
     "text": [
      "regularization_factors, val_score: 0.153322:  95%|###################################1 | 19/20 [00:41<00:02,  2.16s/it][I 2023-11-04 13:59:59,518] Trial 58 finished with value: 0.15747341182692978 and parameters: {'lambda_l1': 6.415890244574302e-07, 'lambda_l2': 0.027825154693408644}. Best is trial 53 with value: 0.1533223462378259.\n",
      "regularization_factors, val_score: 0.153322:  95%|###################################1 | 19/20 [00:41<00:02,  2.16s/it]"
     ]
    },
    {
     "name": "stdout",
     "output_type": "stream",
     "text": [
      "Early stopping, best iteration is:\n",
      "[171]\tcv_agg's l2: 0.153322 + 0.0203638\n",
      "[100]\tcv_agg's l2: 0.159705 + 0.0210984\n",
      "[200]\tcv_agg's l2: 0.156634 + 0.0193296\n"
     ]
    },
    {
     "name": "stderr",
     "output_type": "stream",
     "text": [
      "regularization_factors, val_score: 0.153322: 100%|#####################################| 20/20 [00:43<00:00,  2.16s/it][I 2023-11-04 14:00:01,685] Trial 59 finished with value: 0.15652258821878767 and parameters: {'lambda_l1': 4.332330494436874e-07, 'lambda_l2': 0.016431930246646877}. Best is trial 53 with value: 0.1533223462378259.\n",
      "regularization_factors, val_score: 0.153322: 100%|#####################################| 20/20 [00:43<00:00,  2.18s/it]\n"
     ]
    },
    {
     "name": "stdout",
     "output_type": "stream",
     "text": [
      "Early stopping, best iteration is:\n",
      "[171]\tcv_agg's l2: 0.153322 + 0.0203638\n"
     ]
    },
    {
     "name": "stderr",
     "output_type": "stream",
     "text": [
      "min_data_in_leaf, val_score: 0.153322:   0%|                                                     | 0/5 [00:00<?, ?it/s]"
     ]
    },
    {
     "name": "stdout",
     "output_type": "stream",
     "text": [
      "[100]\tcv_agg's l2: 0.150375 + 0.0227675\n",
      "[200]\tcv_agg's l2: 0.149205 + 0.0227508\n"
     ]
    },
    {
     "name": "stderr",
     "output_type": "stream",
     "text": [
      "min_data_in_leaf, val_score: 0.149191:  20%|#########                                    | 1/5 [00:03<00:12,  3.14s/it][I 2023-11-04 14:00:04,828] Trial 60 finished with value: 0.14919051394521143 and parameters: {'min_child_samples': 5}. Best is trial 60 with value: 0.14919051394521143.\n",
      "min_data_in_leaf, val_score: 0.149191:  20%|#########                                    | 1/5 [00:03<00:12,  3.14s/it]"
     ]
    },
    {
     "name": "stdout",
     "output_type": "stream",
     "text": [
      "Early stopping, best iteration is:\n",
      "[179]\tcv_agg's l2: 0.149191 + 0.0225111\n",
      "[100]\tcv_agg's l2: 0.813146 + 0.127842\n",
      "[200]\tcv_agg's l2: 0.780174 + 0.139509\n"
     ]
    },
    {
     "name": "stderr",
     "output_type": "stream",
     "text": [
      "min_data_in_leaf, val_score: 0.149191:  40%|##################                           | 2/5 [00:03<00:05,  1.77s/it][I 2023-11-04 14:00:05,647] Trial 61 finished with value: 0.7859039602693396 and parameters: {'min_child_samples': 100}. Best is trial 60 with value: 0.14919051394521143.\n",
      "min_data_in_leaf, val_score: 0.149191:  40%|##################                           | 2/5 [00:03<00:05,  1.77s/it]"
     ]
    },
    {
     "name": "stdout",
     "output_type": "stream",
     "text": [
      "Early stopping, best iteration is:\n",
      "[179]\tcv_agg's l2: 0.149191 + 0.0225111\n",
      "[100]\tcv_agg's l2: 0.147078 + 0.0268049\n",
      "[200]\tcv_agg's l2: 0.146269 + 0.0268461\n"
     ]
    },
    {
     "name": "stderr",
     "output_type": "stream",
     "text": [
      "min_data_in_leaf, val_score: 0.145941:  60%|###########################                  | 3/5 [00:07<00:04,  2.44s/it][I 2023-11-04 14:00:08,883] Trial 62 finished with value: 0.14594124845945636 and parameters: {'min_child_samples': 10}. Best is trial 62 with value: 0.14594124845945636.\n",
      "min_data_in_leaf, val_score: 0.145941:  60%|###########################                  | 3/5 [00:07<00:04,  2.44s/it]"
     ]
    },
    {
     "name": "stdout",
     "output_type": "stream",
     "text": [
      "Early stopping, best iteration is:\n",
      "[187]\tcv_agg's l2: 0.145941 + 0.0268\n",
      "[100]\tcv_agg's l2: 0.173471 + 0.0216301\n",
      "[200]\tcv_agg's l2: 0.168793 + 0.0180197\n"
     ]
    },
    {
     "name": "stderr",
     "output_type": "stream",
     "text": [
      "min_data_in_leaf, val_score: 0.145941:  80%|####################################         | 4/5 [00:09<00:02,  2.29s/it][I 2023-11-04 14:00:10,946] Trial 63 finished with value: 0.16903988499215855 and parameters: {'min_child_samples': 25}. Best is trial 62 with value: 0.14594124845945636.\n",
      "min_data_in_leaf, val_score: 0.145941:  80%|####################################         | 4/5 [00:09<00:02,  2.29s/it]"
     ]
    },
    {
     "name": "stdout",
     "output_type": "stream",
     "text": [
      "Early stopping, best iteration is:\n",
      "[187]\tcv_agg's l2: 0.145941 + 0.0268\n",
      "[100]\tcv_agg's l2: 0.249512 + 0.0155629\n",
      "[200]\tcv_agg's l2: 0.228665 + 0.018686\n"
     ]
    },
    {
     "name": "stderr",
     "output_type": "stream",
     "text": [
      "min_data_in_leaf, val_score: 0.145941: 100%|#############################################| 5/5 [00:10<00:00,  1.93s/it][I 2023-11-04 14:00:12,236] Trial 64 finished with value: 0.22998459389678289 and parameters: {'min_child_samples': 50}. Best is trial 62 with value: 0.14594124845945636.\n",
      "min_data_in_leaf, val_score: 0.145941: 100%|#############################################| 5/5 [00:10<00:00,  2.11s/it]"
     ]
    },
    {
     "name": "stdout",
     "output_type": "stream",
     "text": [
      "Early stopping, best iteration is:\n",
      "[187]\tcv_agg's l2: 0.145941 + 0.0268\n"
     ]
    },
    {
     "name": "stderr",
     "output_type": "stream",
     "text": [
      "\n"
     ]
    }
   ],
   "source": [
    "import optuna.integration.lightgbm as lgb\n",
    "from lightgbm import early_stopping, log_evaluation\n",
    "from sklearn.model_selection import KFold\n",
    "from sklearn.model_selection import RepeatedKFold\n",
    "\n",
    "\n",
    "lgb_train = lgb.Dataset(X_train, y_train)\n",
    "\n",
    "params = {\n",
    "    \"boosting_type\": \"gbdt\",\n",
    "    \"objective\": \"regression\",\n",
    "    \"metric\": \"l2\",\n",
    "    \"verbosity\": -1,\n",
    "}\n",
    "\n",
    "tuner = lgb.LightGBMTunerCV(\n",
    "    params,\n",
    "    lgb_train,\n",
    "    folds=KFold(n_splits=5),\n",
    "    num_boost_round=10000,\n",
    "    callbacks=[early_stopping(100), log_evaluation(100)],\n",
    ")\n",
    "\n",
    "tuner.run()"
   ]
  },
  {
   "cell_type": "code",
   "execution_count": 52,
   "id": "8406fc3e",
   "metadata": {},
   "outputs": [
    {
     "name": "stdout",
     "output_type": "stream",
     "text": [
      "Best score: 0.14594124845945636\n",
      "Params: \n",
      "    boosting_type: gbdt\n",
      "    objective: regression\n",
      "    metric: l2\n",
      "    verbosity: -1\n",
      "    feature_pre_filter: False\n",
      "    lambda_l1: 2.3553203931047317e-06\n",
      "    lambda_l2: 0.04607120158815861\n",
      "    num_leaves: 31\n",
      "    feature_fraction: 0.4\n",
      "    bagging_fraction: 0.9412192276451357\n",
      "    bagging_freq: 1\n",
      "    min_child_samples: 10\n"
     ]
    }
   ],
   "source": [
    "print(f\"Best score: {tuner.best_score}\")\n",
    "best_params = tuner.best_params\n",
    "print(\"Params: \")\n",
    "for key, value in best_params.items():\n",
    "    print(\"    {}: {}\".format(key, value))"
   ]
  },
  {
   "cell_type": "code",
   "execution_count": 53,
   "id": "880974ce",
   "metadata": {},
   "outputs": [],
   "source": [
    "import lightgbm as lgb\n",
    "\n",
    "lgb_tuned = lgb.train(\n",
    "    best_params,\n",
    "    lgb_train,\n",
    "    num_boost_round=10000,\n",
    ")"
   ]
  },
  {
   "cell_type": "code",
   "execution_count": 54,
   "id": "53d87b2c",
   "metadata": {},
   "outputs": [
    {
     "name": "stdout",
     "output_type": "stream",
     "text": [
      "RMSE train: 0.00\n",
      "RMSE test: 0.44\n",
      "MSE test: 0.19\n",
      "MAE test: 0.31\n",
      "\n"
     ]
    }
   ],
   "source": [
    "rmse, mse, mae = assess_regression_model(lgb_tuned, X_train, X_test, y_train, y_test)"
   ]
  },
  {
   "cell_type": "code",
   "execution_count": 55,
   "id": "843255bc",
   "metadata": {},
   "outputs": [],
   "source": [
    "results.loc[1] = [\n",
    "    \"chronological\",\n",
    "    \"Optuna\",\n",
    "    len(X_test.columns),\n",
    "    mse,\n",
    "    rmse,\n",
    "    mae,\n",
    "]"
   ]
  },
  {
   "cell_type": "markdown",
   "id": "1c9ef70d",
   "metadata": {},
   "source": [
    "###### MAE by level"
   ]
  },
  {
   "cell_type": "code",
   "execution_count": 56,
   "id": "eab77fc8",
   "metadata": {},
   "outputs": [
    {
     "data": {
      "image/png": "[encoded data removed]",
      "text/plain": [
       "<Figure size 720x432 with 1 Axes>"
      ]
     },
     "metadata": {
      "needs_background": "light"
     },
     "output_type": "display_data"
    }
   ],
   "source": [
    "plot_mae_by_level(y_test, y_pred_test)"
   ]
  },
  {
   "cell_type": "code",
   "execution_count": 57,
   "id": "778f84c5",
   "metadata": {},
   "outputs": [
    {
     "name": "stdout",
     "output_type": "stream",
     "text": [
      "Normal:\n",
      "MSE: 0.19\n",
      "RMSE: 0.44\n",
      "\n",
      "Round type: round\n",
      "MSE: 0.22\n",
      "RMSE: 0.47\n",
      "\n",
      "Round type: 0.33\n",
      "MSE: 0.23\n",
      "RMSE: 0.48\n",
      "\n",
      "Round type: 0.45\n",
      "MSE: 0.21\n",
      "RMSE: 0.46\n",
      "\n"
     ]
    }
   ],
   "source": [
    "predict = lgb_tuned.predict(X_test)\n",
    "check_round_predictions([\"round\", 0.33, 0.45], y_test, predict)"
   ]
  },
  {
   "cell_type": "code",
   "execution_count": 58,
   "id": "7823441a",
   "metadata": {},
   "outputs": [
    {
     "data": {
      "image/png": "[encoded data removed]",
      "text/plain": [
       "<Figure size 432x288 with 2 Axes>"
      ]
     },
     "metadata": {
      "needs_background": "light"
     },
     "output_type": "display_data"
    }
   ],
   "source": [
    "plot_confusion_matrix(\"round\", predict, y_test)"
   ]
  },
  {
   "cell_type": "markdown",
   "id": "35088cc9",
   "metadata": {},
   "source": [
    "## Random split"
   ]
  },
  {
   "cell_type": "code",
   "execution_count": 59,
   "id": "692c4056",
   "metadata": {},
   "outputs": [
    {
     "name": "stdout",
     "output_type": "stream",
     "text": [
      "[LightGBM] [Warning] Auto-choosing col-wise multi-threading, the overhead of testing was 0.000435 seconds.\n",
      "You can set `force_col_wise=true` to remove the overhead.\n",
      "[LightGBM] [Info] Total Bins 392\n",
      "[LightGBM] [Info] Number of data points in the train set: 904, number of used features: 13\n",
      "[LightGBM] [Info] Start training from score 7.162611\n",
      "Training until validation scores don't improve for 5 rounds\n",
      "Early stopping, best iteration is:\n",
      "[88]\tvalid_0's l2: 0.148111\tvalid_0's l1: 0.267273\n"
     ]
    }
   ],
   "source": [
    "import lightgbm as lgb\n",
    "from sklearn.metrics import mean_squared_error\n",
    "\n",
    "lgb_train = lgb.Dataset(X_train_random_split, y_train_random_split)\n",
    "lgb_eval = lgb.Dataset(X_test_random_split, y_test_random_split, reference=lgb_train)\n",
    "\n",
    "params = {\n",
    "    \"boosting_type\": \"gbdt\",\n",
    "    \"objective\": \"regression\",\n",
    "    \"metric\": {\"l2\", \"l1\"},\n",
    "}\n",
    "\n",
    "gbm = lgb.train(\n",
    "    params,\n",
    "    lgb_train,\n",
    "    num_boost_round=100,\n",
    "    valid_sets=lgb_eval,\n",
    "    callbacks=[lgb.early_stopping(stopping_rounds=5)],\n",
    ")"
   ]
  },
  {
   "cell_type": "code",
   "execution_count": 60,
   "id": "24879a40",
   "metadata": {},
   "outputs": [],
   "source": [
    "y_pred_train = gbm.predict(X_train_random_split, num_iteration=gbm.best_iteration)\n",
    "y_pred_test = gbm.predict(X_test_random_split, num_iteration=gbm.best_iteration)"
   ]
  },
  {
   "cell_type": "code",
   "execution_count": 61,
   "id": "b5a760c1",
   "metadata": {},
   "outputs": [
    {
     "name": "stdout",
     "output_type": "stream",
     "text": [
      "MSE: 0.15\n",
      "RMSE: 0.38\n",
      "MAE: 0.27\n"
     ]
    }
   ],
   "source": [
    "from sklearn.metrics import mean_squared_error, mean_absolute_error\n",
    "\n",
    "\n",
    "mse = mean_squared_error(y_test_random_split, y_pred_test)\n",
    "rmse = mean_squared_error(y_test_random_split, y_pred_test, squared=False)\n",
    "mae = mean_absolute_error(y_test_random_split, y_pred_test)\n",
    "\n",
    "print(f\"MSE: {mse:.2f}\")\n",
    "print(f\"RMSE: {rmse:.2f}\")\n",
    "print(f\"MAE: {mae:.2f}\")"
   ]
  },
  {
   "cell_type": "code",
   "execution_count": 62,
   "id": "a52e182e",
   "metadata": {},
   "outputs": [],
   "source": [
    "results.loc[2] = [\"random\", \"normal\", len(X_test.columns), mse, rmse, mae]"
   ]
  },
  {
   "cell_type": "markdown",
   "id": "17a44a91",
   "metadata": {},
   "source": [
    "###### MAE by level"
   ]
  },
  {
   "cell_type": "code",
   "execution_count": 63,
   "id": "180f64e4",
   "metadata": {},
   "outputs": [
    {
     "data": {
      "image/png": "[encoded data removed]",
      "text/plain": [
       "<Figure size 720x432 with 1 Axes>"
      ]
     },
     "metadata": {
      "needs_background": "light"
     },
     "output_type": "display_data"
    }
   ],
   "source": [
    "plot_mae_by_level(y_test_random_split, y_pred_test)"
   ]
  },
  {
   "cell_type": "code",
   "execution_count": 64,
   "id": "b42be07c",
   "metadata": {},
   "outputs": [
    {
     "name": "stdout",
     "output_type": "stream",
     "text": [
      "Normal:\n",
      "MSE: 0.15\n",
      "RMSE: 0.38\n",
      "\n",
      "Round type: round\n",
      "MSE: 0.15\n",
      "RMSE: 0.39\n",
      "\n",
      "Round type: 0.33\n",
      "MSE: 0.21\n",
      "RMSE: 0.45\n",
      "\n",
      "Round type: 0.45\n",
      "MSE: 0.17\n",
      "RMSE: 0.41\n",
      "\n"
     ]
    }
   ],
   "source": [
    "check_round_predictions([\"round\", 0.33, 0.45], y_test_random_split, y_pred_test)"
   ]
  },
  {
   "cell_type": "code",
   "execution_count": 65,
   "id": "79174d21",
   "metadata": {},
   "outputs": [
    {
     "data": {
      "image/png": "[encoded data removed]",
      "text/plain": [
       "<Figure size 432x288 with 2 Axes>"
      ]
     },
     "metadata": {
      "needs_background": "light"
     },
     "output_type": "display_data"
    }
   ],
   "source": [
    "plot_confusion_matrix(\"round\", y_pred_test, y_test_random_split)"
   ]
  },
  {
   "cell_type": "markdown",
   "id": "79bbd5ec",
   "metadata": {},
   "source": [
    "### Tuning"
   ]
  },
  {
   "cell_type": "code",
   "execution_count": 66,
   "id": "62270e6b",
   "metadata": {
    "scrolled": true
   },
   "outputs": [
    {
     "name": "stderr",
     "output_type": "stream",
     "text": [
      "[I 2023-11-04 14:00:39,152] A new study created in memory with name: no-name-0b51f6d4-4181-4101-bc0a-6e64e1cf7880\n",
      "feature_fraction, val_score: inf:   0%|                                                          | 0/7 [00:00<?, ?it/s]"
     ]
    },
    {
     "name": "stdout",
     "output_type": "stream",
     "text": [
      "Training until validation scores don't improve for 100 rounds\n",
      "[100]\tcv_agg's l2: 0.193746 + 0.0445184\n",
      "[200]\tcv_agg's l2: 0.189689 + 0.0411654\n"
     ]
    },
    {
     "name": "stderr",
     "output_type": "stream",
     "text": [
      "feature_fraction, val_score: 0.189040:  14%|######4                                      | 1/7 [00:02<00:15,  2.64s/it][I 2023-11-04 14:00:41,796] Trial 0 finished with value: 0.18903993254621962 and parameters: {'feature_fraction': 1.0}. Best is trial 0 with value: 0.18903993254621962.\n",
      "feature_fraction, val_score: 0.189040:  14%|######4                                      | 1/7 [00:02<00:15,  2.64s/it]"
     ]
    },
    {
     "name": "stdout",
     "output_type": "stream",
     "text": [
      "Early stopping, best iteration is:\n",
      "[187]\tcv_agg's l2: 0.18904 + 0.0411858\n",
      "[100]\tcv_agg's l2: 0.18579 + 0.058983\n"
     ]
    },
    {
     "name": "stderr",
     "output_type": "stream",
     "text": [
      "feature_fraction, val_score: 0.185652:  29%|############8                                | 2/7 [00:04<00:10,  2.10s/it][I 2023-11-04 14:00:43,527] Trial 1 finished with value: 0.18565209896020876 and parameters: {'feature_fraction': 0.7}. Best is trial 1 with value: 0.18565209896020876.\n",
      "feature_fraction, val_score: 0.185652:  29%|############8                                | 2/7 [00:04<00:10,  2.10s/it]"
     ]
    },
    {
     "name": "stdout",
     "output_type": "stream",
     "text": [
      "Early stopping, best iteration is:\n",
      "[98]\tcv_agg's l2: 0.185652 + 0.0586453\n",
      "[100]\tcv_agg's l2: 0.176155 + 0.0475409\n",
      "[200]\tcv_agg's l2: 0.174777 + 0.0433107\n"
     ]
    },
    {
     "name": "stderr",
     "output_type": "stream",
     "text": [
      "feature_fraction, val_score: 0.174514:  43%|###################2                         | 3/7 [00:07<00:09,  2.37s/it][I 2023-11-04 14:00:46,223] Trial 2 finished with value: 0.1745142933341657 and parameters: {'feature_fraction': 0.5}. Best is trial 2 with value: 0.1745142933341657.\n",
      "feature_fraction, val_score: 0.174514:  43%|###################2                         | 3/7 [00:07<00:09,  2.37s/it]"
     ]
    },
    {
     "name": "stdout",
     "output_type": "stream",
     "text": [
      "[300]\tcv_agg's l2: 0.175545 + 0.0426359\n",
      "Early stopping, best iteration is:\n",
      "[213]\tcv_agg's l2: 0.174514 + 0.0427682\n",
      "[100]\tcv_agg's l2: 0.165895 + 0.0225784\n",
      "[200]\tcv_agg's l2: 0.165765 + 0.0218917\n"
     ]
    },
    {
     "name": "stderr",
     "output_type": "stream",
     "text": [
      "feature_fraction, val_score: 0.164789:  57%|#########################7                   | 4/7 [00:09<00:06,  2.28s/it][I 2023-11-04 14:00:48,366] Trial 3 finished with value: 0.16478865497021394 and parameters: {'feature_fraction': 0.4}. Best is trial 3 with value: 0.16478865497021394.\n",
      "feature_fraction, val_score: 0.164789:  57%|#########################7                   | 4/7 [00:09<00:06,  2.28s/it]"
     ]
    },
    {
     "name": "stdout",
     "output_type": "stream",
     "text": [
      "Early stopping, best iteration is:\n",
      "[153]\tcv_agg's l2: 0.164789 + 0.0226064\n",
      "[100]\tcv_agg's l2: 0.174766 + 0.0519624\n",
      "[200]\tcv_agg's l2: 0.174493 + 0.0510939\n"
     ]
    },
    {
     "name": "stderr",
     "output_type": "stream",
     "text": [
      "feature_fraction, val_score: 0.164789:  71%|################################1            | 5/7 [00:11<00:04,  2.29s/it][I 2023-11-04 14:00:50,683] Trial 4 finished with value: 0.17398821538715145 and parameters: {'feature_fraction': 0.6}. Best is trial 3 with value: 0.16478865497021394.\n",
      "feature_fraction, val_score: 0.164789:  71%|################################1            | 5/7 [00:11<00:04,  2.29s/it]"
     ]
    },
    {
     "name": "stdout",
     "output_type": "stream",
     "text": [
      "Early stopping, best iteration is:\n",
      "[153]\tcv_agg's l2: 0.164789 + 0.0226064\n",
      "[100]\tcv_agg's l2: 0.184289 + 0.0450428\n",
      "[200]\tcv_agg's l2: 0.182447 + 0.0433615\n"
     ]
    },
    {
     "name": "stderr",
     "output_type": "stream",
     "text": [
      "feature_fraction, val_score: 0.164789:  86%|######################################5      | 6/7 [00:13<00:02,  2.33s/it][I 2023-11-04 14:00:53,082] Trial 5 finished with value: 0.1825007145354976 and parameters: {'feature_fraction': 0.8999999999999999}. Best is trial 3 with value: 0.16478865497021394.\n",
      "feature_fraction, val_score: 0.164789:  86%|######################################5      | 6/7 [00:13<00:02,  2.33s/it]"
     ]
    },
    {
     "name": "stdout",
     "output_type": "stream",
     "text": [
      "Early stopping, best iteration is:\n",
      "[153]\tcv_agg's l2: 0.164789 + 0.0226064\n",
      "[100]\tcv_agg's l2: 0.191562 + 0.0499245\n",
      "[200]\tcv_agg's l2: 0.188012 + 0.0458458\n"
     ]
    },
    {
     "name": "stderr",
     "output_type": "stream",
     "text": [
      "feature_fraction, val_score: 0.164789: 100%|#############################################| 7/7 [00:16<00:00,  2.39s/it][I 2023-11-04 14:00:55,595] Trial 6 finished with value: 0.18948124568681352 and parameters: {'feature_fraction': 0.8}. Best is trial 3 with value: 0.16478865497021394.\n",
      "feature_fraction, val_score: 0.164789: 100%|#############################################| 7/7 [00:16<00:00,  2.35s/it]\n"
     ]
    },
    {
     "name": "stdout",
     "output_type": "stream",
     "text": [
      "Early stopping, best iteration is:\n",
      "[153]\tcv_agg's l2: 0.164789 + 0.0226064\n"
     ]
    },
    {
     "name": "stderr",
     "output_type": "stream",
     "text": [
      "num_leaves, val_score: 0.164789:   0%|                                                          | 0/20 [00:00<?, ?it/s]"
     ]
    },
    {
     "name": "stdout",
     "output_type": "stream",
     "text": [
      "[100]\tcv_agg's l2: 0.165895 + 0.0225784\n",
      "[200]\tcv_agg's l2: 0.165765 + 0.0218917\n"
     ]
    },
    {
     "name": "stderr",
     "output_type": "stream",
     "text": [
      "num_leaves, val_score: 0.164789:   5%|##5                                               | 1/20 [00:02<00:41,  2.18s/it][I 2023-11-04 14:00:57,782] Trial 7 finished with value: 0.16478865497021394 and parameters: {'num_leaves': 238}. Best is trial 7 with value: 0.16478865497021394.\n",
      "num_leaves, val_score: 0.164789:   5%|##5                                               | 1/20 [00:02<00:41,  2.18s/it]"
     ]
    },
    {
     "name": "stdout",
     "output_type": "stream",
     "text": [
      "Early stopping, best iteration is:\n",
      "[153]\tcv_agg's l2: 0.164789 + 0.0226064\n",
      "[100]\tcv_agg's l2: 0.165895 + 0.0225784\n",
      "[200]\tcv_agg's l2: 0.165765 + 0.0218917\n"
     ]
    },
    {
     "name": "stderr",
     "output_type": "stream",
     "text": [
      "num_leaves, val_score: 0.164789:  10%|#####                                             | 2/20 [00:04<00:40,  2.24s/it][I 2023-11-04 14:01:00,058] Trial 8 finished with value: 0.16478865497021394 and parameters: {'num_leaves': 152}. Best is trial 7 with value: 0.16478865497021394.\n",
      "num_leaves, val_score: 0.164789:  10%|#####                                             | 2/20 [00:04<00:40,  2.24s/it]"
     ]
    },
    {
     "name": "stdout",
     "output_type": "stream",
     "text": [
      "Early stopping, best iteration is:\n",
      "[153]\tcv_agg's l2: 0.164789 + 0.0226064\n",
      "[100]\tcv_agg's l2: 0.165895 + 0.0225784\n",
      "[200]\tcv_agg's l2: 0.165765 + 0.0218917\n"
     ]
    },
    {
     "name": "stderr",
     "output_type": "stream",
     "text": [
      "num_leaves, val_score: 0.164789:  15%|#######5                                          | 3/20 [00:06<00:37,  2.20s/it][I 2023-11-04 14:01:02,204] Trial 9 finished with value: 0.16478865497021394 and parameters: {'num_leaves': 78}. Best is trial 7 with value: 0.16478865497021394.\n",
      "num_leaves, val_score: 0.164789:  15%|#######5                                          | 3/20 [00:06<00:37,  2.20s/it]"
     ]
    },
    {
     "name": "stdout",
     "output_type": "stream",
     "text": [
      "Early stopping, best iteration is:\n",
      "[153]\tcv_agg's l2: 0.164789 + 0.0226064\n",
      "[100]\tcv_agg's l2: 0.169047 + 0.0188749\n",
      "[200]\tcv_agg's l2: 0.168104 + 0.0179058\n"
     ]
    },
    {
     "name": "stderr",
     "output_type": "stream",
     "text": [
      "num_leaves, val_score: 0.164789:  20%|##########                                        | 4/20 [00:08<00:31,  1.97s/it][I 2023-11-04 14:01:03,821] Trial 10 finished with value: 0.16740266512098248 and parameters: {'num_leaves': 18}. Best is trial 7 with value: 0.16478865497021394.\n",
      "num_leaves, val_score: 0.164789:  20%|##########                                        | 4/20 [00:08<00:31,  1.97s/it]"
     ]
    },
    {
     "name": "stdout",
     "output_type": "stream",
     "text": [
      "Early stopping, best iteration is:\n",
      "[153]\tcv_agg's l2: 0.164789 + 0.0226064\n",
      "[100]\tcv_agg's l2: 0.165895 + 0.0225784\n",
      "[200]\tcv_agg's l2: 0.165765 + 0.0218917\n"
     ]
    },
    {
     "name": "stderr",
     "output_type": "stream",
     "text": [
      "num_leaves, val_score: 0.164789:  25%|############5                                     | 5/20 [00:10<00:31,  2.07s/it][I 2023-11-04 14:01:06,074] Trial 11 finished with value: 0.16478865497021394 and parameters: {'num_leaves': 255}. Best is trial 7 with value: 0.16478865497021394.\n",
      "num_leaves, val_score: 0.164789:  25%|############5                                     | 5/20 [00:10<00:31,  2.07s/it]"
     ]
    },
    {
     "name": "stdout",
     "output_type": "stream",
     "text": [
      "Early stopping, best iteration is:\n",
      "[153]\tcv_agg's l2: 0.164789 + 0.0226064\n",
      "[100]\tcv_agg's l2: 0.165895 + 0.0225784\n",
      "[200]\tcv_agg's l2: 0.165765 + 0.0218917\n"
     ]
    },
    {
     "name": "stderr",
     "output_type": "stream",
     "text": [
      "num_leaves, val_score: 0.164789:  30%|###############                                   | 6/20 [00:12<00:30,  2.14s/it][I 2023-11-04 14:01:08,360] Trial 12 finished with value: 0.16478865497021394 and parameters: {'num_leaves': 253}. Best is trial 7 with value: 0.16478865497021394.\n",
      "num_leaves, val_score: 0.164789:  30%|###############                                   | 6/20 [00:12<00:30,  2.14s/it]"
     ]
    },
    {
     "name": "stdout",
     "output_type": "stream",
     "text": [
      "Early stopping, best iteration is:\n",
      "[153]\tcv_agg's l2: 0.164789 + 0.0226064\n",
      "[100]\tcv_agg's l2: 0.165895 + 0.0225784\n",
      "[200]\tcv_agg's l2: 0.165765 + 0.0218917\n"
     ]
    },
    {
     "name": "stderr",
     "output_type": "stream",
     "text": [
      "num_leaves, val_score: 0.164789:  35%|#################5                                | 7/20 [00:14<00:28,  2.17s/it][I 2023-11-04 14:01:10,595] Trial 13 finished with value: 0.16478865497021394 and parameters: {'num_leaves': 163}. Best is trial 7 with value: 0.16478865497021394.\n",
      "num_leaves, val_score: 0.164789:  35%|#################5                                | 7/20 [00:14<00:28,  2.17s/it]"
     ]
    },
    {
     "name": "stdout",
     "output_type": "stream",
     "text": [
      "Early stopping, best iteration is:\n",
      "[153]\tcv_agg's l2: 0.164789 + 0.0226064\n",
      "[100]\tcv_agg's l2: 0.165895 + 0.0225784\n",
      "[200]\tcv_agg's l2: 0.165765 + 0.0218917\n"
     ]
    },
    {
     "name": "stderr",
     "output_type": "stream",
     "text": [
      "num_leaves, val_score: 0.164789:  40%|####################                              | 8/20 [00:17<00:26,  2.18s/it][I 2023-11-04 14:01:12,792] Trial 14 finished with value: 0.16478865497021394 and parameters: {'num_leaves': 199}. Best is trial 7 with value: 0.16478865497021394.\n",
      "num_leaves, val_score: 0.164789:  40%|####################                              | 8/20 [00:17<00:26,  2.18s/it]"
     ]
    },
    {
     "name": "stdout",
     "output_type": "stream",
     "text": [
      "Early stopping, best iteration is:\n",
      "[153]\tcv_agg's l2: 0.164789 + 0.0226064\n",
      "[100]\tcv_agg's l2: 0.165895 + 0.0225784\n",
      "[200]\tcv_agg's l2: 0.165765 + 0.0218917\n"
     ]
    },
    {
     "name": "stderr",
     "output_type": "stream",
     "text": [
      "num_leaves, val_score: 0.164789:  45%|######################5                           | 9/20 [00:19<00:24,  2.20s/it][I 2023-11-04 14:01:15,025] Trial 15 finished with value: 0.16478865497021394 and parameters: {'num_leaves': 95}. Best is trial 7 with value: 0.16478865497021394.\n",
      "num_leaves, val_score: 0.164789:  45%|######################5                           | 9/20 [00:19<00:24,  2.20s/it]"
     ]
    },
    {
     "name": "stdout",
     "output_type": "stream",
     "text": [
      "Early stopping, best iteration is:\n",
      "[153]\tcv_agg's l2: 0.164789 + 0.0226064\n",
      "[100]\tcv_agg's l2: 0.165895 + 0.0225784\n",
      "[200]\tcv_agg's l2: 0.165765 + 0.0218917\n"
     ]
    },
    {
     "name": "stderr",
     "output_type": "stream",
     "text": [
      "num_leaves, val_score: 0.164789:  50%|########################5                        | 10/20 [00:21<00:21,  2.20s/it][I 2023-11-04 14:01:17,218] Trial 16 finished with value: 0.16478865497021394 and parameters: {'num_leaves': 201}. Best is trial 7 with value: 0.16478865497021394.\n",
      "num_leaves, val_score: 0.164789:  50%|########################5                        | 10/20 [00:21<00:21,  2.20s/it]"
     ]
    },
    {
     "name": "stdout",
     "output_type": "stream",
     "text": [
      "Early stopping, best iteration is:\n",
      "[153]\tcv_agg's l2: 0.164789 + 0.0226064\n",
      "[100]\tcv_agg's l2: 0.169047 + 0.0188749\n",
      "[200]\tcv_agg's l2: 0.168104 + 0.0179058\n"
     ]
    },
    {
     "name": "stderr",
     "output_type": "stream",
     "text": [
      "num_leaves, val_score: 0.164789:  55%|##########################9                      | 11/20 [00:23<00:18,  2.01s/it][I 2023-11-04 14:01:18,801] Trial 17 finished with value: 0.16740266512098248 and parameters: {'num_leaves': 18}. Best is trial 7 with value: 0.16478865497021394.\n",
      "num_leaves, val_score: 0.164789:  55%|##########################9                      | 11/20 [00:23<00:18,  2.01s/it]"
     ]
    },
    {
     "name": "stdout",
     "output_type": "stream",
     "text": [
      "Early stopping, best iteration is:\n",
      "[153]\tcv_agg's l2: 0.164789 + 0.0226064\n",
      "[100]\tcv_agg's l2: 0.165895 + 0.0225784\n",
      "[200]\tcv_agg's l2: 0.165765 + 0.0218917\n"
     ]
    },
    {
     "name": "stderr",
     "output_type": "stream",
     "text": [
      "num_leaves, val_score: 0.164789:  60%|#############################4                   | 12/20 [00:25<00:16,  2.08s/it][I 2023-11-04 14:01:21,045] Trial 18 finished with value: 0.16478865497021394 and parameters: {'num_leaves': 204}. Best is trial 7 with value: 0.16478865497021394.\n",
      "num_leaves, val_score: 0.164789:  60%|#############################4                   | 12/20 [00:25<00:16,  2.08s/it]"
     ]
    },
    {
     "name": "stdout",
     "output_type": "stream",
     "text": [
      "Early stopping, best iteration is:\n",
      "[153]\tcv_agg's l2: 0.164789 + 0.0226064\n",
      "[100]\tcv_agg's l2: 0.165895 + 0.0225784\n",
      "[200]\tcv_agg's l2: 0.165765 + 0.0218917\n"
     ]
    },
    {
     "name": "stderr",
     "output_type": "stream",
     "text": [
      "num_leaves, val_score: 0.164789:  65%|###############################8                 | 13/20 [00:27<00:15,  2.16s/it][I 2023-11-04 14:01:23,400] Trial 19 finished with value: 0.16478865497021394 and parameters: {'num_leaves': 105}. Best is trial 7 with value: 0.16478865497021394.\n",
      "num_leaves, val_score: 0.164789:  65%|###############################8                 | 13/20 [00:27<00:15,  2.16s/it]"
     ]
    },
    {
     "name": "stdout",
     "output_type": "stream",
     "text": [
      "Early stopping, best iteration is:\n",
      "[153]\tcv_agg's l2: 0.164789 + 0.0226064\n",
      "[100]\tcv_agg's l2: 0.165895 + 0.0225784\n",
      "[200]\tcv_agg's l2: 0.165765 + 0.0218917\n"
     ]
    },
    {
     "name": "stderr",
     "output_type": "stream",
     "text": [
      "num_leaves, val_score: 0.164789:  70%|##################################3              | 14/20 [00:29<00:12,  2.16s/it][I 2023-11-04 14:01:25,561] Trial 20 finished with value: 0.16478865497021394 and parameters: {'num_leaves': 61}. Best is trial 7 with value: 0.16478865497021394.\n",
      "num_leaves, val_score: 0.164789:  70%|##################################3              | 14/20 [00:29<00:12,  2.16s/it]"
     ]
    },
    {
     "name": "stdout",
     "output_type": "stream",
     "text": [
      "Early stopping, best iteration is:\n",
      "[153]\tcv_agg's l2: 0.164789 + 0.0226064\n",
      "[100]\tcv_agg's l2: 0.165895 + 0.0225784\n",
      "[200]\tcv_agg's l2: 0.165765 + 0.0218917\n"
     ]
    },
    {
     "name": "stderr",
     "output_type": "stream",
     "text": [
      "num_leaves, val_score: 0.164789:  75%|####################################7            | 15/20 [00:32<00:10,  2.18s/it][I 2023-11-04 14:01:27,778] Trial 21 finished with value: 0.16478865497021394 and parameters: {'num_leaves': 145}. Best is trial 7 with value: 0.16478865497021394.\n",
      "num_leaves, val_score: 0.164789:  75%|####################################7            | 15/20 [00:32<00:10,  2.18s/it]"
     ]
    },
    {
     "name": "stdout",
     "output_type": "stream",
     "text": [
      "Early stopping, best iteration is:\n",
      "[153]\tcv_agg's l2: 0.164789 + 0.0226064\n",
      "[100]\tcv_agg's l2: 0.165895 + 0.0225784\n",
      "[200]\tcv_agg's l2: 0.165765 + 0.0218917\n"
     ]
    },
    {
     "name": "stderr",
     "output_type": "stream",
     "text": [
      "num_leaves, val_score: 0.164789:  80%|#######################################2         | 16/20 [00:34<00:08,  2.17s/it][I 2023-11-04 14:01:29,918] Trial 22 finished with value: 0.16478865497021394 and parameters: {'num_leaves': 177}. Best is trial 7 with value: 0.16478865497021394.\n",
      "num_leaves, val_score: 0.164789:  80%|#######################################2         | 16/20 [00:34<00:08,  2.17s/it]"
     ]
    },
    {
     "name": "stdout",
     "output_type": "stream",
     "text": [
      "Early stopping, best iteration is:\n",
      "[153]\tcv_agg's l2: 0.164789 + 0.0226064\n",
      "[100]\tcv_agg's l2: 0.165895 + 0.0225784\n",
      "[200]\tcv_agg's l2: 0.165765 + 0.0218917\n"
     ]
    },
    {
     "name": "stderr",
     "output_type": "stream",
     "text": [
      "num_leaves, val_score: 0.164789:  85%|#########################################6       | 17/20 [00:36<00:06,  2.20s/it][I 2023-11-04 14:01:32,182] Trial 23 finished with value: 0.16478865497021394 and parameters: {'num_leaves': 226}. Best is trial 7 with value: 0.16478865497021394.\n",
      "num_leaves, val_score: 0.164789:  85%|#########################################6       | 17/20 [00:36<00:06,  2.20s/it]"
     ]
    },
    {
     "name": "stdout",
     "output_type": "stream",
     "text": [
      "Early stopping, best iteration is:\n",
      "[153]\tcv_agg's l2: 0.164789 + 0.0226064\n",
      "[100]\tcv_agg's l2: 0.165895 + 0.0225784\n",
      "[200]\tcv_agg's l2: 0.165765 + 0.0218917\n"
     ]
    },
    {
     "name": "stderr",
     "output_type": "stream",
     "text": [
      "num_leaves, val_score: 0.164789:  90%|############################################1    | 18/20 [00:38<00:04,  2.22s/it][I 2023-11-04 14:01:34,470] Trial 24 finished with value: 0.16478865497021394 and parameters: {'num_leaves': 127}. Best is trial 7 with value: 0.16478865497021394.\n",
      "num_leaves, val_score: 0.164789:  90%|############################################1    | 18/20 [00:38<00:04,  2.22s/it]"
     ]
    },
    {
     "name": "stdout",
     "output_type": "stream",
     "text": [
      "Early stopping, best iteration is:\n",
      "[153]\tcv_agg's l2: 0.164789 + 0.0226064\n",
      "[100]\tcv_agg's l2: 0.165895 + 0.0225784\n",
      "[200]\tcv_agg's l2: 0.165765 + 0.0218917\n"
     ]
    },
    {
     "name": "stderr",
     "output_type": "stream",
     "text": [
      "num_leaves, val_score: 0.164789:  95%|##############################################5  | 19/20 [00:41<00:02,  2.21s/it][I 2023-11-04 14:01:36,659] Trial 25 finished with value: 0.16478865497021394 and parameters: {'num_leaves': 225}. Best is trial 7 with value: 0.16478865497021394.\n",
      "num_leaves, val_score: 0.164789:  95%|##############################################5  | 19/20 [00:41<00:02,  2.21s/it]"
     ]
    },
    {
     "name": "stdout",
     "output_type": "stream",
     "text": [
      "Early stopping, best iteration is:\n",
      "[153]\tcv_agg's l2: 0.164789 + 0.0226064\n",
      "[100]\tcv_agg's l2: 0.165895 + 0.0225784\n",
      "[200]\tcv_agg's l2: 0.165765 + 0.0218917\n"
     ]
    },
    {
     "name": "stderr",
     "output_type": "stream",
     "text": [
      "num_leaves, val_score: 0.164789: 100%|#################################################| 20/20 [00:43<00:00,  2.21s/it][I 2023-11-04 14:01:38,853] Trial 26 finished with value: 0.16478865497021394 and parameters: {'num_leaves': 133}. Best is trial 7 with value: 0.16478865497021394.\n",
      "num_leaves, val_score: 0.164789: 100%|#################################################| 20/20 [00:43<00:00,  2.16s/it]\n"
     ]
    },
    {
     "name": "stdout",
     "output_type": "stream",
     "text": [
      "Early stopping, best iteration is:\n",
      "[153]\tcv_agg's l2: 0.164789 + 0.0226064\n"
     ]
    },
    {
     "name": "stderr",
     "output_type": "stream",
     "text": [
      "bagging, val_score: 0.164789:   0%|                                                             | 0/10 [00:00<?, ?it/s]"
     ]
    },
    {
     "name": "stdout",
     "output_type": "stream",
     "text": [
      "[100]\tcv_agg's l2: 0.211969 + 0.0261565\n",
      "[200]\tcv_agg's l2: 0.205105 + 0.0223455\n"
     ]
    },
    {
     "name": "stderr",
     "output_type": "stream",
     "text": [
      "bagging, val_score: 0.164789:  10%|#####3                                               | 1/10 [00:01<00:11,  1.23s/it][I 2023-11-04 14:01:40,091] Trial 27 finished with value: 0.20535913970862896 and parameters: {'bagging_fraction': 0.4602353207499572, 'bagging_freq': 5}. Best is trial 27 with value: 0.20535913970862896.\n",
      "bagging, val_score: 0.164789:  10%|#####3                                               | 1/10 [00:01<00:11,  1.23s/it]"
     ]
    },
    {
     "name": "stdout",
     "output_type": "stream",
     "text": [
      "Early stopping, best iteration is:\n",
      "[153]\tcv_agg's l2: 0.164789 + 0.0226064\n",
      "[100]\tcv_agg's l2: 0.165065 + 0.0232895\n",
      "[200]\tcv_agg's l2: 0.16179 + 0.0213701\n"
     ]
    },
    {
     "name": "stderr",
     "output_type": "stream",
     "text": [
      "bagging, val_score: 0.161363:  20%|##########6                                          | 2/10 [00:03<00:15,  1.99s/it][I 2023-11-04 14:01:42,612] Trial 28 finished with value: 0.16136296799838276 and parameters: {'bagging_fraction': 0.9168569289322823, 'bagging_freq': 1}. Best is trial 28 with value: 0.16136296799838276.\n",
      "bagging, val_score: 0.161363:  20%|##########6                                          | 2/10 [00:03<00:15,  1.99s/it]"
     ]
    },
    {
     "name": "stdout",
     "output_type": "stream",
     "text": [
      "Early stopping, best iteration is:\n",
      "[197]\tcv_agg's l2: 0.161363 + 0.0214322\n",
      "[100]\tcv_agg's l2: 0.166043 + 0.0243238\n",
      "[200]\tcv_agg's l2: 0.164484 + 0.0212817\n"
     ]
    },
    {
     "name": "stderr",
     "output_type": "stream",
     "text": [
      "bagging, val_score: 0.161363:  30%|###############9                                     | 3/10 [00:06<00:15,  2.25s/it][I 2023-11-04 14:01:45,170] Trial 29 finished with value: 0.16433834832104055 and parameters: {'bagging_fraction': 0.975235717282182, 'bagging_freq': 1}. Best is trial 28 with value: 0.16136296799838276.\n",
      "bagging, val_score: 0.161363:  30%|###############9                                     | 3/10 [00:06<00:15,  2.25s/it]"
     ]
    },
    {
     "name": "stdout",
     "output_type": "stream",
     "text": [
      "Early stopping, best iteration is:\n",
      "[197]\tcv_agg's l2: 0.161363 + 0.0214322\n",
      "[100]\tcv_agg's l2: 0.166029 + 0.0229835\n",
      "[200]\tcv_agg's l2: 0.165411 + 0.0236962\n"
     ]
    },
    {
     "name": "stderr",
     "output_type": "stream",
     "text": [
      "bagging, val_score: 0.161363:  40%|#####################2                               | 4/10 [00:08<00:14,  2.36s/it][I 2023-11-04 14:01:47,694] Trial 30 finished with value: 0.16549426868472122 and parameters: {'bagging_fraction': 0.9930757889825106, 'bagging_freq': 1}. Best is trial 28 with value: 0.16136296799838276.\n",
      "bagging, val_score: 0.161363:  40%|#####################2                               | 4/10 [00:08<00:14,  2.36s/it]"
     ]
    },
    {
     "name": "stdout",
     "output_type": "stream",
     "text": [
      "Early stopping, best iteration is:\n",
      "[197]\tcv_agg's l2: 0.161363 + 0.0214322\n",
      "[100]\tcv_agg's l2: 0.165024 + 0.0254141\n",
      "[200]\tcv_agg's l2: 0.161961 + 0.0226817\n"
     ]
    },
    {
     "name": "stderr",
     "output_type": "stream",
     "text": [
      "bagging, val_score: 0.161363:  50%|##########################5                          | 5/10 [00:11<00:12,  2.44s/it][I 2023-11-04 14:01:50,289] Trial 31 finished with value: 0.16172329717971654 and parameters: {'bagging_fraction': 0.9732890836558501, 'bagging_freq': 1}. Best is trial 28 with value: 0.16136296799838276.\n",
      "bagging, val_score: 0.161363:  50%|##########################5                          | 5/10 [00:11<00:12,  2.44s/it]"
     ]
    },
    {
     "name": "stdout",
     "output_type": "stream",
     "text": [
      "Early stopping, best iteration is:\n",
      "[197]\tcv_agg's l2: 0.161363 + 0.0214322\n",
      "[100]\tcv_agg's l2: 0.166972 + 0.0249813\n",
      "[200]\tcv_agg's l2: 0.16393 + 0.023701\n"
     ]
    },
    {
     "name": "stderr",
     "output_type": "stream",
     "text": [
      "bagging, val_score: 0.161363:  60%|###############################8                     | 6/10 [00:13<00:09,  2.48s/it][I 2023-11-04 14:01:52,839] Trial 32 finished with value: 0.16374299305264278 and parameters: {'bagging_fraction': 0.9685878389473649, 'bagging_freq': 1}. Best is trial 28 with value: 0.16136296799838276.\n",
      "bagging, val_score: 0.161363:  60%|###############################8                     | 6/10 [00:13<00:09,  2.48s/it]"
     ]
    },
    {
     "name": "stdout",
     "output_type": "stream",
     "text": [
      "Early stopping, best iteration is:\n",
      "[197]\tcv_agg's l2: 0.161363 + 0.0214322\n",
      "[100]\tcv_agg's l2: 0.168991 + 0.0281112\n",
      "[200]\tcv_agg's l2: 0.167375 + 0.0273307\n"
     ]
    },
    {
     "name": "stderr",
     "output_type": "stream",
     "text": [
      "bagging, val_score: 0.161363:  70%|#####################################                | 7/10 [00:16<00:07,  2.56s/it][I 2023-11-04 14:01:55,554] Trial 33 finished with value: 0.1671265756174934 and parameters: {'bagging_fraction': 0.9771596366957618, 'bagging_freq': 1}. Best is trial 28 with value: 0.16136296799838276.\n",
      "bagging, val_score: 0.161363:  70%|#####################################                | 7/10 [00:16<00:07,  2.56s/it]"
     ]
    },
    {
     "name": "stdout",
     "output_type": "stream",
     "text": [
      "Early stopping, best iteration is:\n",
      "[197]\tcv_agg's l2: 0.161363 + 0.0214322\n",
      "[100]\tcv_agg's l2: 0.168143 + 0.0220749\n",
      "[200]\tcv_agg's l2: 0.164989 + 0.020663\n"
     ]
    },
    {
     "name": "stderr",
     "output_type": "stream",
     "text": [
      "bagging, val_score: 0.161363:  80%|##########################################4          | 8/10 [00:19<00:05,  2.59s/it][I 2023-11-04 14:01:58,220] Trial 34 finished with value: 0.16489928358297962 and parameters: {'bagging_fraction': 0.9661562543378105, 'bagging_freq': 1}. Best is trial 28 with value: 0.16136296799838276.\n",
      "bagging, val_score: 0.161363:  80%|##########################################4          | 8/10 [00:19<00:05,  2.59s/it]"
     ]
    },
    {
     "name": "stdout",
     "output_type": "stream",
     "text": [
      "Early stopping, best iteration is:\n",
      "[197]\tcv_agg's l2: 0.161363 + 0.0214322\n",
      "[100]\tcv_agg's l2: 0.167487 + 0.0243641\n",
      "[200]\tcv_agg's l2: 0.164258 + 0.0223329\n"
     ]
    },
    {
     "name": "stderr",
     "output_type": "stream",
     "text": [
      "bagging, val_score: 0.161363:  90%|###############################################7     | 9/10 [00:21<00:02,  2.55s/it][I 2023-11-04 14:02:00,664] Trial 35 finished with value: 0.16418432648309272 and parameters: {'bagging_fraction': 0.9421703443704684, 'bagging_freq': 1}. Best is trial 28 with value: 0.16136296799838276.\n",
      "bagging, val_score: 0.161363:  90%|###############################################7     | 9/10 [00:21<00:02,  2.55s/it]"
     ]
    },
    {
     "name": "stdout",
     "output_type": "stream",
     "text": [
      "Early stopping, best iteration is:\n",
      "[197]\tcv_agg's l2: 0.161363 + 0.0214322\n",
      "[100]\tcv_agg's l2: 0.166611 + 0.0217404\n",
      "[200]\tcv_agg's l2: 0.162945 + 0.0175755\n"
     ]
    },
    {
     "name": "stderr",
     "output_type": "stream",
     "text": [
      "bagging, val_score: 0.161363: 100%|####################################################| 10/10 [00:24<00:00,  2.48s/it][I 2023-11-04 14:02:03,004] Trial 36 finished with value: 0.16281880265246768 and parameters: {'bagging_fraction': 0.850395479074494, 'bagging_freq': 3}. Best is trial 28 with value: 0.16136296799838276.\n",
      "bagging, val_score: 0.161363: 100%|####################################################| 10/10 [00:24<00:00,  2.41s/it]\n"
     ]
    },
    {
     "name": "stdout",
     "output_type": "stream",
     "text": [
      "Early stopping, best iteration is:\n",
      "[197]\tcv_agg's l2: 0.161363 + 0.0214322\n"
     ]
    },
    {
     "name": "stderr",
     "output_type": "stream",
     "text": [
      "feature_fraction_stage2, val_score: 0.161363:   0%|                                              | 0/3 [00:00<?, ?it/s]"
     ]
    },
    {
     "name": "stdout",
     "output_type": "stream",
     "text": [
      "[100]\tcv_agg's l2: 0.163652 + 0.0367363\n",
      "[200]\tcv_agg's l2: 0.164907 + 0.0333012\n"
     ]
    },
    {
     "name": "stderr",
     "output_type": "stream",
     "text": [
      "feature_fraction_stage2, val_score: 0.161363:  33%|############6                         | 1/3 [00:02<00:04,  2.43s/it][I 2023-11-04 14:02:05,441] Trial 37 finished with value: 0.1649094781959179 and parameters: {'feature_fraction': 0.44800000000000006}. Best is trial 37 with value: 0.1649094781959179.\n",
      "feature_fraction_stage2, val_score: 0.161363:  33%|############6                         | 1/3 [00:02<00:04,  2.43s/it]"
     ]
    },
    {
     "name": "stdout",
     "output_type": "stream",
     "text": [
      "Early stopping, best iteration is:\n",
      "[197]\tcv_agg's l2: 0.161363 + 0.0214322\n",
      "[100]\tcv_agg's l2: 0.165065 + 0.0232895\n",
      "[200]\tcv_agg's l2: 0.16179 + 0.0213701\n"
     ]
    },
    {
     "name": "stderr",
     "output_type": "stream",
     "text": [
      "feature_fraction_stage2, val_score: 0.161363:  67%|#########################3            | 2/3 [00:04<00:02,  2.43s/it][I 2023-11-04 14:02:07,863] Trial 38 finished with value: 0.16136296799838276 and parameters: {'feature_fraction': 0.41600000000000004}. Best is trial 38 with value: 0.16136296799838276.\n",
      "feature_fraction_stage2, val_score: 0.161363:  67%|#########################3            | 2/3 [00:04<00:02,  2.43s/it]"
     ]
    },
    {
     "name": "stdout",
     "output_type": "stream",
     "text": [
      "Early stopping, best iteration is:\n",
      "[197]\tcv_agg's l2: 0.161363 + 0.0214322\n",
      "[100]\tcv_agg's l2: 0.163652 + 0.0367363\n",
      "[200]\tcv_agg's l2: 0.164907 + 0.0333012\n"
     ]
    },
    {
     "name": "stderr",
     "output_type": "stream",
     "text": [
      "feature_fraction_stage2, val_score: 0.161363: 100%|######################################| 3/3 [00:07<00:00,  2.44s/it][I 2023-11-04 14:02:10,320] Trial 39 finished with value: 0.1649094781959179 and parameters: {'feature_fraction': 0.48000000000000004}. Best is trial 38 with value: 0.16136296799838276.\n",
      "feature_fraction_stage2, val_score: 0.161363: 100%|######################################| 3/3 [00:07<00:00,  2.44s/it]\n"
     ]
    },
    {
     "name": "stdout",
     "output_type": "stream",
     "text": [
      "Early stopping, best iteration is:\n",
      "[197]\tcv_agg's l2: 0.161363 + 0.0214322\n"
     ]
    },
    {
     "name": "stderr",
     "output_type": "stream",
     "text": [
      "regularization_factors, val_score: 0.161363:   0%|                                              | 0/20 [00:00<?, ?it/s]"
     ]
    },
    {
     "name": "stdout",
     "output_type": "stream",
     "text": [
      "[100]\tcv_agg's l2: 0.164861 + 0.0247688\n",
      "[200]\tcv_agg's l2: 0.160019 + 0.0215908\n"
     ]
    },
    {
     "name": "stderr",
     "output_type": "stream",
     "text": [
      "regularization_factors, val_score: 0.159951:   5%|#9                                    | 1/20 [00:02<00:48,  2.53s/it][I 2023-11-04 14:02:12,860] Trial 40 finished with value: 0.15995122281573695 and parameters: {'lambda_l1': 5.515988208261109e-06, 'lambda_l2': 0.0013286040048487641}. Best is trial 40 with value: 0.15995122281573695.\n",
      "regularization_factors, val_score: 0.159951:   5%|#9                                    | 1/20 [00:02<00:48,  2.53s/it]"
     ]
    },
    {
     "name": "stdout",
     "output_type": "stream",
     "text": [
      "Early stopping, best iteration is:\n",
      "[197]\tcv_agg's l2: 0.159951 + 0.0217244\n",
      "[100]\tcv_agg's l2: 0.166092 + 0.0247273\n",
      "[200]\tcv_agg's l2: 0.162987 + 0.0220837\n"
     ]
    },
    {
     "name": "stderr",
     "output_type": "stream",
     "text": [
      "regularization_factors, val_score: 0.159951:  10%|###8                                  | 2/20 [00:05<00:44,  2.49s/it][I 2023-11-04 14:02:15,327] Trial 41 finished with value: 0.16273697301936327 and parameters: {'lambda_l1': 1.8314277222019108e-06, 'lambda_l2': 0.01106851754719506}. Best is trial 40 with value: 0.15995122281573695.\n",
      "regularization_factors, val_score: 0.159951:  10%|###8                                  | 2/20 [00:05<00:44,  2.49s/it]"
     ]
    },
    {
     "name": "stdout",
     "output_type": "stream",
     "text": [
      "Early stopping, best iteration is:\n",
      "[197]\tcv_agg's l2: 0.159951 + 0.0217244\n",
      "[100]\tcv_agg's l2: 0.166795 + 0.0243073\n",
      "[200]\tcv_agg's l2: 0.162844 + 0.0230857\n"
     ]
    },
    {
     "name": "stderr",
     "output_type": "stream",
     "text": [
      "regularization_factors, val_score: 0.159951:  15%|#####7                                | 3/20 [00:07<00:42,  2.51s/it][I 2023-11-04 14:02:17,855] Trial 42 finished with value: 0.1626175882065913 and parameters: {'lambda_l1': 1.0566721356950945e-06, 'lambda_l2': 0.006166959933407325}. Best is trial 40 with value: 0.15995122281573695.\n",
      "regularization_factors, val_score: 0.159951:  15%|#####7                                | 3/20 [00:07<00:42,  2.51s/it]"
     ]
    },
    {
     "name": "stdout",
     "output_type": "stream",
     "text": [
      "Early stopping, best iteration is:\n",
      "[197]\tcv_agg's l2: 0.159951 + 0.0217244\n",
      "[100]\tcv_agg's l2: 0.164446 + 0.0248143\n",
      "[200]\tcv_agg's l2: 0.160109 + 0.0215722\n"
     ]
    },
    {
     "name": "stderr",
     "output_type": "stream",
     "text": [
      "regularization_factors, val_score: 0.159951:  20%|#######6                              | 4/20 [00:09<00:39,  2.47s/it][I 2023-11-04 14:02:20,271] Trial 43 finished with value: 0.16005312682583184 and parameters: {'lambda_l1': 2.54267926918353e-06, 'lambda_l2': 0.0012016523932019219}. Best is trial 40 with value: 0.15995122281573695.\n",
      "regularization_factors, val_score: 0.159951:  20%|#######6                              | 4/20 [00:09<00:39,  2.47s/it]"
     ]
    },
    {
     "name": "stdout",
     "output_type": "stream",
     "text": [
      "Early stopping, best iteration is:\n",
      "[197]\tcv_agg's l2: 0.159951 + 0.0217244\n",
      "[100]\tcv_agg's l2: 0.165489 + 0.0244914\n",
      "[200]\tcv_agg's l2: 0.162901 + 0.0209954\n"
     ]
    },
    {
     "name": "stderr",
     "output_type": "stream",
     "text": [
      "regularization_factors, val_score: 0.159951:  25%|#########5                            | 5/20 [00:12<00:36,  2.46s/it][I 2023-11-04 14:02:22,698] Trial 44 finished with value: 0.16291550711159547 and parameters: {'lambda_l1': 0.001960956636795791, 'lambda_l2': 5.888629320724441e-06}. Best is trial 40 with value: 0.15995122281573695.\n",
      "regularization_factors, val_score: 0.159951:  25%|#########5                            | 5/20 [00:12<00:36,  2.46s/it]"
     ]
    },
    {
     "name": "stdout",
     "output_type": "stream",
     "text": [
      "Early stopping, best iteration is:\n",
      "[197]\tcv_agg's l2: 0.159951 + 0.0217244\n",
      "[100]\tcv_agg's l2: 0.170757 + 0.0251694\n",
      "[200]\tcv_agg's l2: 0.164795 + 0.0207588\n"
     ]
    },
    {
     "name": "stderr",
     "output_type": "stream",
     "text": [
      "regularization_factors, val_score: 0.159951:  30%|###########4                          | 6/20 [00:14<00:33,  2.42s/it][I 2023-11-04 14:02:25,047] Trial 45 finished with value: 0.1646432205282531 and parameters: {'lambda_l1': 1.1069137621049188e-08, 'lambda_l2': 5.695383099030159}. Best is trial 40 with value: 0.15995122281573695.\n",
      "regularization_factors, val_score: 0.159951:  30%|###########4                          | 6/20 [00:14<00:33,  2.42s/it]"
     ]
    },
    {
     "name": "stdout",
     "output_type": "stream",
     "text": [
      "Early stopping, best iteration is:\n",
      "[197]\tcv_agg's l2: 0.159951 + 0.0217244\n",
      "[100]\tcv_agg's l2: 0.168872 + 0.0275928\n",
      "[200]\tcv_agg's l2: 0.164499 + 0.0256104\n"
     ]
    },
    {
     "name": "stderr",
     "output_type": "stream",
     "text": [
      "regularization_factors, val_score: 0.159951:  35%|#############3                        | 7/20 [00:16<00:27,  2.13s/it][I 2023-11-04 14:02:26,592] Trial 46 finished with value: 0.16467802096960982 and parameters: {'lambda_l1': 1.6836148562177402, 'lambda_l2': 2.8847264336990822e-08}. Best is trial 40 with value: 0.15995122281573695.\n",
      "regularization_factors, val_score: 0.159951:  35%|#############3                        | 7/20 [00:16<00:27,  2.13s/it]"
     ]
    },
    {
     "name": "stdout",
     "output_type": "stream",
     "text": [
      "Early stopping, best iteration is:\n",
      "[197]\tcv_agg's l2: 0.159951 + 0.0217244\n",
      "[100]\tcv_agg's l2: 0.164492 + 0.0234046\n",
      "[200]\tcv_agg's l2: 0.160713 + 0.0218319\n"
     ]
    },
    {
     "name": "stderr",
     "output_type": "stream",
     "text": [
      "regularization_factors, val_score: 0.159951:  40%|###############2                      | 8/20 [00:18<00:27,  2.31s/it][I 2023-11-04 14:02:29,289] Trial 47 finished with value: 0.1605414907977103 and parameters: {'lambda_l1': 4.473685056440168e-05, 'lambda_l2': 0.00014031203910228098}. Best is trial 40 with value: 0.15995122281573695.\n",
      "regularization_factors, val_score: 0.159951:  40%|###############2                      | 8/20 [00:18<00:27,  2.31s/it]"
     ]
    },
    {
     "name": "stdout",
     "output_type": "stream",
     "text": [
      "Early stopping, best iteration is:\n",
      "[197]\tcv_agg's l2: 0.159951 + 0.0217244\n",
      "[100]\tcv_agg's l2: 0.16443 + 0.023434\n",
      "[200]\tcv_agg's l2: 0.161303 + 0.0220396\n"
     ]
    },
    {
     "name": "stderr",
     "output_type": "stream",
     "text": [
      "regularization_factors, val_score: 0.159951:  45%|#################1                    | 9/20 [00:21<00:25,  2.35s/it][I 2023-11-04 14:02:31,721] Trial 48 finished with value: 0.1611096629167051 and parameters: {'lambda_l1': 2.6267222193009998e-05, 'lambda_l2': 0.00018079202702555005}. Best is trial 40 with value: 0.15995122281573695.\n",
      "regularization_factors, val_score: 0.159951:  45%|#################1                    | 9/20 [00:21<00:25,  2.35s/it]"
     ]
    },
    {
     "name": "stdout",
     "output_type": "stream",
     "text": [
      "Early stopping, best iteration is:\n",
      "[197]\tcv_agg's l2: 0.159951 + 0.0217244\n",
      "[100]\tcv_agg's l2: 0.164371 + 0.0237478\n",
      "[200]\tcv_agg's l2: 0.161451 + 0.0223606\n"
     ]
    },
    {
     "name": "stderr",
     "output_type": "stream",
     "text": [
      "regularization_factors, val_score: 0.159951:  50%|##################5                  | 10/20 [00:23<00:24,  2.41s/it][I 2023-11-04 14:02:34,254] Trial 49 finished with value: 0.16128896922016317 and parameters: {'lambda_l1': 1.939093790177018e-05, 'lambda_l2': 0.0002484992756622704}. Best is trial 40 with value: 0.15995122281573695.\n",
      "regularization_factors, val_score: 0.159951:  50%|##################5                  | 10/20 [00:23<00:24,  2.41s/it]"
     ]
    },
    {
     "name": "stdout",
     "output_type": "stream",
     "text": [
      "Early stopping, best iteration is:\n",
      "[197]\tcv_agg's l2: 0.159951 + 0.0217244\n",
      "[100]\tcv_agg's l2: 0.164106 + 0.0238338\n",
      "[200]\tcv_agg's l2: 0.160293 + 0.0223854\n"
     ]
    },
    {
     "name": "stderr",
     "output_type": "stream",
     "text": [
      "regularization_factors, val_score: 0.159951:  55%|####################3                | 11/20 [00:26<00:22,  2.48s/it][I 2023-11-04 14:02:36,901] Trial 50 finished with value: 0.16012888353815644 and parameters: {'lambda_l1': 3.125586177980453e-05, 'lambda_l2': 0.00030042423852389316}. Best is trial 40 with value: 0.15995122281573695.\n",
      "regularization_factors, val_score: 0.159951:  55%|####################3                | 11/20 [00:26<00:22,  2.48s/it]"
     ]
    },
    {
     "name": "stdout",
     "output_type": "stream",
     "text": [
      "Early stopping, best iteration is:\n",
      "[197]\tcv_agg's l2: 0.159951 + 0.0217244\n",
      "[100]\tcv_agg's l2: 0.164371 + 0.0237478\n",
      "[200]\tcv_agg's l2: 0.161451 + 0.0223606\n"
     ]
    },
    {
     "name": "stderr",
     "output_type": "stream",
     "text": [
      "regularization_factors, val_score: 0.159951:  60%|######################2              | 12/20 [00:28<00:19,  2.46s/it][I 2023-11-04 14:02:39,310] Trial 51 finished with value: 0.16128898557832724 and parameters: {'lambda_l1': 2.0113165181038957e-05, 'lambda_l2': 0.00022218225514225996}. Best is trial 40 with value: 0.15995122281573695.\n",
      "regularization_factors, val_score: 0.159951:  60%|######################2              | 12/20 [00:28<00:19,  2.46s/it]"
     ]
    },
    {
     "name": "stdout",
     "output_type": "stream",
     "text": [
      "Early stopping, best iteration is:\n",
      "[197]\tcv_agg's l2: 0.159951 + 0.0217244\n",
      "[100]\tcv_agg's l2: 0.164043 + 0.0238617\n",
      "[200]\tcv_agg's l2: 0.160502 + 0.0228728\n"
     ]
    },
    {
     "name": "stderr",
     "output_type": "stream",
     "text": [
      "regularization_factors, val_score: 0.159951:  65%|########################             | 13/20 [00:31<00:18,  2.59s/it][I 2023-11-04 14:02:42,204] Trial 52 finished with value: 0.16029887314403118 and parameters: {'lambda_l1': 2.5919241935599017e-05, 'lambda_l2': 0.00028486361866160556}. Best is trial 40 with value: 0.15995122281573695.\n",
      "regularization_factors, val_score: 0.159951:  65%|########################             | 13/20 [00:31<00:18,  2.59s/it]"
     ]
    },
    {
     "name": "stdout",
     "output_type": "stream",
     "text": [
      "Early stopping, best iteration is:\n",
      "[197]\tcv_agg's l2: 0.159951 + 0.0217244\n",
      "[100]\tcv_agg's l2: 0.164106 + 0.0238338\n",
      "[200]\tcv_agg's l2: 0.160293 + 0.0223854\n"
     ]
    },
    {
     "name": "stderr",
     "output_type": "stream",
     "text": [
      "regularization_factors, val_score: 0.159951:  70%|#########################9           | 14/20 [00:34<00:15,  2.56s/it][I 2023-11-04 14:02:44,696] Trial 53 finished with value: 0.16012888074543086 and parameters: {'lambda_l1': 3.621113050528968e-05, 'lambda_l2': 0.0002870383745365434}. Best is trial 40 with value: 0.15995122281573695.\n",
      "regularization_factors, val_score: 0.159951:  70%|#########################9           | 14/20 [00:34<00:15,  2.56s/it]"
     ]
    },
    {
     "name": "stdout",
     "output_type": "stream",
     "text": [
      "Early stopping, best iteration is:\n",
      "[197]\tcv_agg's l2: 0.159951 + 0.0217244\n",
      "[100]\tcv_agg's l2: 0.165432 + 0.0244945\n",
      "[200]\tcv_agg's l2: 0.161964 + 0.0219411\n"
     ]
    },
    {
     "name": "stderr",
     "output_type": "stream",
     "text": [
      "regularization_factors, val_score: 0.159951:  75%|###########################7         | 15/20 [00:36<00:12,  2.54s/it][I 2023-11-04 14:02:47,193] Trial 54 finished with value: 0.16171279527856325 and parameters: {'lambda_l1': 5.661738725925458e-05, 'lambda_l2': 0.0005076665888799837}. Best is trial 40 with value: 0.15995122281573695.\n",
      "regularization_factors, val_score: 0.159951:  75%|###########################7         | 15/20 [00:36<00:12,  2.54s/it]"
     ]
    },
    {
     "name": "stdout",
     "output_type": "stream",
     "text": [
      "Early stopping, best iteration is:\n",
      "[197]\tcv_agg's l2: 0.159951 + 0.0217244\n",
      "[100]\tcv_agg's l2: 0.165794 + 0.0243753\n",
      "[200]\tcv_agg's l2: 0.162085 + 0.0207327\n"
     ]
    },
    {
     "name": "stderr",
     "output_type": "stream",
     "text": [
      "regularization_factors, val_score: 0.159951:  80%|#############################6       | 16/20 [00:39<00:10,  2.52s/it][I 2023-11-04 14:02:49,673] Trial 55 finished with value: 0.1621357614001153 and parameters: {'lambda_l1': 8.214086254212404e-06, 'lambda_l2': 0.0006507822245291981}. Best is trial 40 with value: 0.15995122281573695.\n",
      "regularization_factors, val_score: 0.159951:  80%|#############################6       | 16/20 [00:39<00:10,  2.52s/it]"
     ]
    },
    {
     "name": "stdout",
     "output_type": "stream",
     "text": [
      "Early stopping, best iteration is:\n",
      "[197]\tcv_agg's l2: 0.159951 + 0.0217244\n",
      "[100]\tcv_agg's l2: 0.164603 + 0.0236186\n",
      "[200]\tcv_agg's l2: 0.162246 + 0.0216099\n"
     ]
    },
    {
     "name": "stderr",
     "output_type": "stream",
     "text": [
      "regularization_factors, val_score: 0.159951:  85%|###############################4     | 17/20 [00:41<00:07,  2.50s/it][I 2023-11-04 14:02:52,118] Trial 56 finished with value: 0.16200250587378334 and parameters: {'lambda_l1': 0.00043080290184365703, 'lambda_l2': 6.970968779955205e-05}. Best is trial 40 with value: 0.15995122281573695.\n",
      "regularization_factors, val_score: 0.159951:  85%|###############################4     | 17/20 [00:41<00:07,  2.50s/it]"
     ]
    },
    {
     "name": "stdout",
     "output_type": "stream",
     "text": [
      "Early stopping, best iteration is:\n",
      "[197]\tcv_agg's l2: 0.159951 + 0.0217244\n",
      "[100]\tcv_agg's l2: 0.166611 + 0.0252488\n",
      "[200]\tcv_agg's l2: 0.162815 + 0.0229565\n"
     ]
    },
    {
     "name": "stderr",
     "output_type": "stream",
     "text": [
      "regularization_factors, val_score: 0.159951:  90%|#################################3   | 18/20 [00:44<00:05,  2.50s/it][I 2023-11-04 14:02:54,631] Trial 57 finished with value: 0.1626657364307676 and parameters: {'lambda_l1': 0.00010354471429663091, 'lambda_l2': 0.0032078414156407123}. Best is trial 40 with value: 0.15995122281573695.\n",
      "regularization_factors, val_score: 0.159951:  90%|#################################3   | 18/20 [00:44<00:05,  2.50s/it]"
     ]
    },
    {
     "name": "stdout",
     "output_type": "stream",
     "text": [
      "Early stopping, best iteration is:\n",
      "[197]\tcv_agg's l2: 0.159951 + 0.0217244\n",
      "[100]\tcv_agg's l2: 0.164939 + 0.0233321\n",
      "[200]\tcv_agg's l2: 0.161506 + 0.0214333\n"
     ]
    },
    {
     "name": "stderr",
     "output_type": "stream",
     "text": [
      "regularization_factors, val_score: 0.159951:  95%|###################################1 | 19/20 [00:46<00:02,  2.50s/it][I 2023-11-04 14:02:57,110] Trial 58 finished with value: 0.16122332413316073 and parameters: {'lambda_l1': 3.2524506940511983e-06, 'lambda_l2': 4.2354289899331376e-05}. Best is trial 40 with value: 0.15995122281573695.\n",
      "regularization_factors, val_score: 0.159951:  95%|###################################1 | 19/20 [00:46<00:02,  2.50s/it]"
     ]
    },
    {
     "name": "stdout",
     "output_type": "stream",
     "text": [
      "Early stopping, best iteration is:\n",
      "[197]\tcv_agg's l2: 0.159951 + 0.0217244\n",
      "[100]\tcv_agg's l2: 0.165659 + 0.0259813\n",
      "[200]\tcv_agg's l2: 0.162203 + 0.0232868\n"
     ]
    },
    {
     "name": "stderr",
     "output_type": "stream",
     "text": [
      "regularization_factors, val_score: 0.159951: 100%|#####################################| 20/20 [00:49<00:00,  2.47s/it][I 2023-11-04 14:02:59,510] Trial 59 finished with value: 0.16204679320078832 and parameters: {'lambda_l1': 0.00021288831364103, 'lambda_l2': 0.002146806594852612}. Best is trial 40 with value: 0.15995122281573695.\n",
      "regularization_factors, val_score: 0.159951: 100%|#####################################| 20/20 [00:49<00:00,  2.46s/it]\n"
     ]
    },
    {
     "name": "stdout",
     "output_type": "stream",
     "text": [
      "Early stopping, best iteration is:\n",
      "[197]\tcv_agg's l2: 0.159951 + 0.0217244\n"
     ]
    },
    {
     "name": "stderr",
     "output_type": "stream",
     "text": [
      "min_data_in_leaf, val_score: 0.159951:   0%|                                                     | 0/5 [00:00<?, ?it/s]"
     ]
    },
    {
     "name": "stdout",
     "output_type": "stream",
     "text": [
      "[100]\tcv_agg's l2: 0.247156 + 0.0273213\n",
      "[200]\tcv_agg's l2: 0.23084 + 0.0225214\n"
     ]
    },
    {
     "name": "stderr",
     "output_type": "stream",
     "text": [
      "min_data_in_leaf, val_score: 0.159951:  20%|#########                                    | 1/5 [00:01<00:04,  1.24s/it][I 2023-11-04 14:03:00,760] Trial 60 finished with value: 0.2312774511426118 and parameters: {'min_child_samples': 50}. Best is trial 60 with value: 0.2312774511426118.\n",
      "min_data_in_leaf, val_score: 0.159951:  20%|#########                                    | 1/5 [00:01<00:04,  1.24s/it]"
     ]
    },
    {
     "name": "stdout",
     "output_type": "stream",
     "text": [
      "Early stopping, best iteration is:\n",
      "[197]\tcv_agg's l2: 0.159951 + 0.0217244\n",
      "[100]\tcv_agg's l2: 0.150965 + 0.0284329\n",
      "[200]\tcv_agg's l2: 0.148859 + 0.0284241\n",
      "[300]\tcv_agg's l2: 0.148739 + 0.028658\n"
     ]
    },
    {
     "name": "stderr",
     "output_type": "stream",
     "text": [
      "min_data_in_leaf, val_score: 0.148527:  40%|##################                           | 2/5 [00:04<00:07,  2.55s/it][I 2023-11-04 14:03:04,231] Trial 61 finished with value: 0.14852703992500155 and parameters: {'min_child_samples': 5}. Best is trial 61 with value: 0.14852703992500155.\n",
      "min_data_in_leaf, val_score: 0.148527:  40%|##################                           | 2/5 [00:04<00:07,  2.55s/it]"
     ]
    },
    {
     "name": "stdout",
     "output_type": "stream",
     "text": [
      "Early stopping, best iteration is:\n",
      "[229]\tcv_agg's l2: 0.148527 + 0.0285125\n",
      "[100]\tcv_agg's l2: 0.152965 + 0.0203803\n",
      "[200]\tcv_agg's l2: 0.149549 + 0.0192683\n",
      "[300]\tcv_agg's l2: 0.14943 + 0.0196624\n"
     ]
    },
    {
     "name": "stderr",
     "output_type": "stream",
     "text": [
      "min_data_in_leaf, val_score: 0.148527:  60%|###########################                  | 3/5 [00:08<00:05,  2.90s/it][I 2023-11-04 14:03:07,537] Trial 62 finished with value: 0.14929304617880262 and parameters: {'min_child_samples': 10}. Best is trial 61 with value: 0.14852703992500155.\n",
      "min_data_in_leaf, val_score: 0.148527:  60%|###########################                  | 3/5 [00:08<00:05,  2.90s/it]"
     ]
    },
    {
     "name": "stdout",
     "output_type": "stream",
     "text": [
      "Early stopping, best iteration is:\n",
      "[229]\tcv_agg's l2: 0.148527 + 0.0285125\n",
      "[100]\tcv_agg's l2: 0.730464 + 0.0973115\n",
      "[200]\tcv_agg's l2: 0.68305 + 0.0860649\n"
     ]
    },
    {
     "name": "stderr",
     "output_type": "stream",
     "text": [
      "min_data_in_leaf, val_score: 0.148527:  80%|####################################         | 4/5 [00:08<00:02,  2.13s/it][I 2023-11-04 14:03:08,491] Trial 63 finished with value: 0.6744608361932969 and parameters: {'min_child_samples': 100}. Best is trial 61 with value: 0.14852703992500155.\n",
      "min_data_in_leaf, val_score: 0.148527:  80%|####################################         | 4/5 [00:08<00:02,  2.13s/it]"
     ]
    },
    {
     "name": "stdout",
     "output_type": "stream",
     "text": [
      "[300]\tcv_agg's l2: 0.657434 + 0.0800755\n",
      "Early stopping, best iteration is:\n",
      "[229]\tcv_agg's l2: 0.148527 + 0.0285125\n",
      "[100]\tcv_agg's l2: 0.169769 + 0.0221996\n",
      "[200]\tcv_agg's l2: 0.166632 + 0.0220886\n"
     ]
    },
    {
     "name": "stderr",
     "output_type": "stream",
     "text": [
      "\r",
      "min_data_in_leaf, val_score: 0.148527:  80%|####################################         | 4/5 [00:11<00:02,  2.13s/it]"
     ]
    },
    {
     "name": "stdout",
     "output_type": "stream",
     "text": [
      "[300]\tcv_agg's l2: 0.167226 + 0.0221496\n",
      "Early stopping, best iteration is:\n",
      "[229]\tcv_agg's l2: 0.148527 + 0.0285125\n"
     ]
    },
    {
     "name": "stderr",
     "output_type": "stream",
     "text": [
      "min_data_in_leaf, val_score: 0.148527: 100%|#############################################| 5/5 [00:11<00:00,  2.19s/it][I 2023-11-04 14:03:10,794] Trial 64 finished with value: 0.16597742948729038 and parameters: {'min_child_samples': 25}. Best is trial 61 with value: 0.14852703992500155.\n",
      "min_data_in_leaf, val_score: 0.148527: 100%|#############################################| 5/5 [00:11<00:00,  2.26s/it]\n"
     ]
    }
   ],
   "source": [
    "import optuna.integration.lightgbm as lgb\n",
    "from lightgbm import early_stopping\n",
    "from sklearn.model_selection import KFold\n",
    "from sklearn.model_selection import RepeatedKFold\n",
    "\n",
    "\n",
    "lgb_train = lgb.Dataset(X_train_random_split, y_train_random_split)\n",
    "\n",
    "params = {\n",
    "    \"boosting_type\": \"gbdt\",\n",
    "    \"objective\": \"regression\",\n",
    "    \"metric\": \"l2\",\n",
    "    \"verbosity\": -1,\n",
    "}\n",
    "\n",
    "tuner = lgb.LightGBMTunerCV(\n",
    "    params,\n",
    "    lgb_train,\n",
    "    folds=KFold(n_splits=5),\n",
    "    num_boost_round=10000,\n",
    "    callbacks=[early_stopping(100), log_evaluation(100)],\n",
    ")\n",
    "\n",
    "tuner.run()"
   ]
  },
  {
   "cell_type": "code",
   "execution_count": 67,
   "id": "c07cf3c6",
   "metadata": {},
   "outputs": [
    {
     "name": "stdout",
     "output_type": "stream",
     "text": [
      "Best score: 0.14852703992500155\n",
      "Params: \n",
      "    boosting_type: gbdt\n",
      "    objective: regression\n",
      "    metric: l2\n",
      "    verbosity: -1\n",
      "    feature_pre_filter: False\n",
      "    lambda_l1: 5.515988208261109e-06\n",
      "    lambda_l2: 0.0013286040048487641\n",
      "    num_leaves: 31\n",
      "    feature_fraction: 0.4\n",
      "    bagging_fraction: 0.9168569289322823\n",
      "    bagging_freq: 1\n",
      "    min_child_samples: 5\n"
     ]
    }
   ],
   "source": [
    "print(f\"Best score: {tuner.best_score}\")\n",
    "best_params = tuner.best_params\n",
    "print(\"Params: \")\n",
    "for key, value in best_params.items():\n",
    "    print(\"    {}: {}\".format(key, value))"
   ]
  },
  {
   "cell_type": "code",
   "execution_count": 68,
   "id": "47a1bc33",
   "metadata": {},
   "outputs": [],
   "source": [
    "import lightgbm as lgb\n",
    "\n",
    "lgb_tuned = lgb.train(\n",
    "    best_params,\n",
    "    lgb_train,\n",
    "    num_boost_round=10000,\n",
    ")"
   ]
  },
  {
   "cell_type": "code",
   "execution_count": 69,
   "id": "4c17765e",
   "metadata": {},
   "outputs": [
    {
     "name": "stdout",
     "output_type": "stream",
     "text": [
      "RMSE train: 0.00\n",
      "RMSE test: 0.34\n",
      "MSE test: 0.11\n",
      "MAE test: 0.24\n",
      "\n"
     ]
    }
   ],
   "source": [
    "rmse, mse, mae = assess_regression_model(\n",
    "    lgb_tuned,\n",
    "    X_train_random_split,\n",
    "    X_test_random_split,\n",
    "    y_train_random_split,\n",
    "    y_test_random_split,\n",
    ")"
   ]
  },
  {
   "cell_type": "code",
   "execution_count": 70,
   "id": "9caec811",
   "metadata": {},
   "outputs": [],
   "source": [
    "results.loc[3] = [\"random\", \"Optuna\", len(X_test.columns), mse, rmse, mae]"
   ]
  },
  {
   "cell_type": "markdown",
   "id": "47fed830",
   "metadata": {},
   "source": [
    "###### MAE by level"
   ]
  },
  {
   "cell_type": "code",
   "execution_count": 71,
   "id": "c12fe14b",
   "metadata": {},
   "outputs": [
    {
     "data": {
      "image/png": "[encoded data removed]",
      "text/plain": [
       "<Figure size 720x432 with 1 Axes>"
      ]
     },
     "metadata": {
      "needs_background": "light"
     },
     "output_type": "display_data"
    }
   ],
   "source": [
    "plot_mae_by_level(y_test_random_split, y_pred_test)"
   ]
  },
  {
   "cell_type": "code",
   "execution_count": 72,
   "id": "859f12f2",
   "metadata": {},
   "outputs": [
    {
     "name": "stdout",
     "output_type": "stream",
     "text": [
      "Normal:\n",
      "MSE: 0.04\n",
      "RMSE: 0.19\n",
      "\n",
      "Round type: round\n",
      "MSE: 0.04\n",
      "RMSE: 0.21\n",
      "\n",
      "Round type: 0.33\n",
      "MSE: 0.05\n",
      "RMSE: 0.22\n",
      "\n",
      "Round type: 0.45\n",
      "MSE: 0.04\n",
      "RMSE: 0.21\n",
      "\n"
     ]
    }
   ],
   "source": [
    "predict = lgb_tuned.predict(X_test)\n",
    "check_round_predictions([\"round\", 0.33, 0.45], y_test, predict)"
   ]
  },
  {
   "cell_type": "code",
   "execution_count": 73,
   "id": "a046eead",
   "metadata": {},
   "outputs": [
    {
     "data": {
      "image/png": "[encoded data removed]",
      "text/plain": [
       "<Figure size 432x288 with 2 Axes>"
      ]
     },
     "metadata": {
      "needs_background": "light"
     },
     "output_type": "display_data"
    }
   ],
   "source": [
    "plot_confusion_matrix(\"round\", predict, y_test)"
   ]
  },
  {
   "cell_type": "markdown",
   "id": "2e230699",
   "metadata": {},
   "source": [
    "## Summary"
   ]
  },
  {
   "cell_type": "code",
   "execution_count": 74,
   "id": "2edd08be",
   "metadata": {},
   "outputs": [
    {
     "data": {
      "text/html": [
       "<div>\n",
       "<style scoped>\n",
       "    .dataframe tbody tr th:only-of-type {\n",
       "        vertical-align: middle;\n",
       "    }\n",
       "\n",
       "    .dataframe tbody tr th {\n",
       "        vertical-align: top;\n",
       "    }\n",
       "\n",
       "    .dataframe thead th {\n",
       "        text-align: right;\n",
       "    }\n",
       "</style>\n",
       "<table border=\"1\" class=\"dataframe\">\n",
       "  <thead>\n",
       "    <tr style=\"text-align: right;\">\n",
       "      <th></th>\n",
       "      <th>Split type</th>\n",
       "      <th>Tuning type</th>\n",
       "      <th>Number of characteristics</th>\n",
       "      <th>MSE</th>\n",
       "      <th>RMSE</th>\n",
       "      <th>MAE</th>\n",
       "    </tr>\n",
       "  </thead>\n",
       "  <tbody>\n",
       "    <tr>\n",
       "      <th>0</th>\n",
       "      <td>chronological</td>\n",
       "      <td>normal</td>\n",
       "      <td>13</td>\n",
       "      <td>0.260866</td>\n",
       "      <td>0.510751</td>\n",
       "      <td>0.357177</td>\n",
       "    </tr>\n",
       "    <tr>\n",
       "      <th>1</th>\n",
       "      <td>chronological</td>\n",
       "      <td>Optuna</td>\n",
       "      <td>13</td>\n",
       "      <td>0.193395</td>\n",
       "      <td>0.439767</td>\n",
       "      <td>0.312398</td>\n",
       "    </tr>\n",
       "    <tr>\n",
       "      <th>2</th>\n",
       "      <td>random</td>\n",
       "      <td>normal</td>\n",
       "      <td>13</td>\n",
       "      <td>0.148111</td>\n",
       "      <td>0.384853</td>\n",
       "      <td>0.267273</td>\n",
       "    </tr>\n",
       "    <tr>\n",
       "      <th>3</th>\n",
       "      <td>random</td>\n",
       "      <td>Optuna</td>\n",
       "      <td>13</td>\n",
       "      <td>0.114576</td>\n",
       "      <td>0.338490</td>\n",
       "      <td>0.235578</td>\n",
       "    </tr>\n",
       "  </tbody>\n",
       "</table>\n",
       "</div>"
      ],
      "text/plain": [
       "      Split type Tuning type  Number of characteristics       MSE      RMSE  \\\n",
       "0  chronological      normal                         13  0.260866  0.510751   \n",
       "1  chronological      Optuna                         13  0.193395  0.439767   \n",
       "2         random      normal                         13  0.148111  0.384853   \n",
       "3         random      Optuna                         13  0.114576  0.338490   \n",
       "\n",
       "        MAE  \n",
       "0  0.357177  \n",
       "1  0.312398  \n",
       "2  0.267273  \n",
       "3  0.235578  "
      ]
     },
     "execution_count": 74,
     "metadata": {},
     "output_type": "execute_result"
    }
   ],
   "source": [
    "results"
   ]
  },
  {
   "cell_type": "code",
   "execution_count": 75,
   "id": "7e403b40",
   "metadata": {},
   "outputs": [],
   "source": [
    "from training.results import plot_summary"
   ]
  },
  {
   "cell_type": "code",
   "execution_count": 76,
   "id": "1072db81",
   "metadata": {},
   "outputs": [
    {
     "data": {
      "image/png": "[encoded data removed]",
      "text/plain": [
       "<Figure size 1440x576 with 1 Axes>"
      ]
     },
     "metadata": {
      "needs_background": "light"
     },
     "output_type": "display_data"
    }
   ],
   "source": [
    "plot_summary(results, \"RMSE\", title=\"RMSE for LightGBM with expanded features\")"
   ]
  },
  {
   "cell_type": "code",
   "execution_count": 77,
   "id": "0a073f44",
   "metadata": {},
   "outputs": [
    {
     "data": {
      "image/png": "[encoded data removed]",
      "text/plain": [
       "<Figure size 1440x576 with 1 Axes>"
      ]
     },
     "metadata": {
      "needs_background": "light"
     },
     "output_type": "display_data"
    }
   ],
   "source": [
    "plot_summary(results, \"MAE\", title=\"MAE for LightGBM with expanded features\")"
   ]
  },
  {
   "cell_type": "code",
   "execution_count": 78,
   "id": "157af270",
   "metadata": {},
   "outputs": [],
   "source": [
    "results.to_json(\"./lightgbm_second_results.json\")"
   ]
  },
  {
   "cell_type": "code",
   "execution_count": null,
   "id": "1b44b486",
   "metadata": {},
   "outputs": [],
   "source": []
  }
 ],
 "metadata": {
  "kernelspec": {
   "display_name": "Python 3 (ipykernel)",
   "language": "python",
   "name": "python3"
  },
  "language_info": {
   "codemirror_mode": {
    "name": "ipython",
    "version": 3
   },
   "file_extension": ".py",
   "mimetype": "text/x-python",
   "name": "python",
   "nbconvert_exporter": "python",
   "pygments_lexer": "ipython3",
   "version": "3.10.4"
  }
 },
 "nbformat": 4,
 "nbformat_minor": 5
}
