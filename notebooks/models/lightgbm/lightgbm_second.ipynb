{
 "cells": [
  {
   "cell_type": "markdown",
   "id": "b61f8435",
   "metadata": {},
   "source": [
    "# LightGBM\n",
    "### Parameters:\n",
    "* **abilities**:\n",
    "    * **cha**\n",
    "    * **con**\n",
    "    * **dex**\n",
    "    * **int**\n",
    "    * **str**\n",
    "    * **wis**\n",
    "* **attributes**\n",
    "    * **hp**\n",
    "    * **ac**\n",
    "    * **perception**\n",
    "* **saves**\n",
    "    * **fortitude**\n",
    "    * **reflex**\n",
    "    * **will**\n",
    "* **resources**\n",
    "    * **focus**\n",
    "\n",
    "### Prediction: *level*\n",
    "\n",
    "## Loading data"
   ]
  },
  {
   "cell_type": "code",
   "execution_count": 50,
   "id": "64151d43",
   "metadata": {},
   "outputs": [],
   "source": [
    "import numpy as np\n",
    "import pandas as pd\n",
    "import sys\n",
    "\n",
    "import os\n",
    "import pathlib\n",
    "\n",
    "sys.path.append(\"../../..\")\n",
    "from training.creating_dataset import load_and_preprocess_data\n",
    "\n",
    "current_path = os.getcwd()\n",
    "DATASETS_DIR = pathlib.Path(current_path).parent.parent.parent / \"pathfinder_2e_data\"\n",
    "DATASET_FILES = [\n",
    "    \"pathfinder-bestiary.db\",\n",
    "    \"pathfinder-bestiary-2.db\",\n",
    "    \"pathfinder-bestiary-3.db\",\n",
    "]\n",
    "DATASET_PATHS = [f\"{DATASETS_DIR}/{file}\" for file in DATASET_FILES]\n",
    "features = [\n",
    "    \"cha\",\n",
    "    \"con\",\n",
    "    \"dex\",\n",
    "    \"int\",\n",
    "    \"str\",\n",
    "    \"wis\",\n",
    "    \"ac\",\n",
    "    \"hp\",\n",
    "    \"perception\",\n",
    "    \"fortitude\",\n",
    "    \"reflex\",\n",
    "    \"will\",\n",
    "    \"focus\",\n",
    "]\n",
    "\n",
    "df = load_and_preprocess_data(\n",
    "    DATASET_PATHS,\n",
    "    characteristics=features,\n",
    ")"
   ]
  },
  {
   "cell_type": "code",
   "execution_count": 51,
   "id": "ec1e8424",
   "metadata": {},
   "outputs": [
    {
     "name": "stdout",
     "output_type": "stream",
     "text": [
      "<class 'pandas.core.frame.DataFrame'>\n",
      "Int64Index: 1206 entries, 0 to 1205\n",
      "Data columns (total 15 columns):\n",
      " #   Column      Non-Null Count  Dtype \n",
      "---  ------      --------------  ----- \n",
      " 0   cha         1206 non-null   int64 \n",
      " 1   wis         1206 non-null   int64 \n",
      " 2   perception  1206 non-null   int64 \n",
      " 3   book        1206 non-null   object\n",
      " 4   con         1206 non-null   int64 \n",
      " 5   focus       1206 non-null   int32 \n",
      " 6   hp          1206 non-null   int64 \n",
      " 7   will        1206 non-null   int64 \n",
      " 8   ac          1206 non-null   int64 \n",
      " 9   fortitude   1206 non-null   int64 \n",
      " 10  int         1206 non-null   int64 \n",
      " 11  str         1206 non-null   int64 \n",
      " 12  dex         1206 non-null   int64 \n",
      " 13  reflex      1206 non-null   int64 \n",
      " 14  level       1206 non-null   int64 \n",
      "dtypes: int32(1), int64(13), object(1)\n",
      "memory usage: 146.0+ KB\n"
     ]
    }
   ],
   "source": [
    "df.info()"
   ]
  },
  {
   "cell_type": "code",
   "execution_count": 52,
   "id": "211d736c",
   "metadata": {},
   "outputs": [
    {
     "data": {
      "text/html": [
       "<div>\n",
       "<style scoped>\n",
       "    .dataframe tbody tr th:only-of-type {\n",
       "        vertical-align: middle;\n",
       "    }\n",
       "\n",
       "    .dataframe tbody tr th {\n",
       "        vertical-align: top;\n",
       "    }\n",
       "\n",
       "    .dataframe thead th {\n",
       "        text-align: right;\n",
       "    }\n",
       "</style>\n",
       "<table border=\"1\" class=\"dataframe\">\n",
       "  <thead>\n",
       "    <tr style=\"text-align: right;\">\n",
       "      <th></th>\n",
       "      <th>cha</th>\n",
       "      <th>wis</th>\n",
       "      <th>perception</th>\n",
       "      <th>book</th>\n",
       "      <th>con</th>\n",
       "      <th>focus</th>\n",
       "      <th>hp</th>\n",
       "      <th>will</th>\n",
       "      <th>ac</th>\n",
       "      <th>fortitude</th>\n",
       "      <th>int</th>\n",
       "      <th>str</th>\n",
       "      <th>dex</th>\n",
       "      <th>reflex</th>\n",
       "      <th>level</th>\n",
       "    </tr>\n",
       "  </thead>\n",
       "  <tbody>\n",
       "    <tr>\n",
       "      <th>0</th>\n",
       "      <td>1</td>\n",
       "      <td>2</td>\n",
       "      <td>20</td>\n",
       "      <td>Pathfinder Bestiary</td>\n",
       "      <td>5</td>\n",
       "      <td>1</td>\n",
       "      <td>215</td>\n",
       "      <td>17</td>\n",
       "      <td>29</td>\n",
       "      <td>22</td>\n",
       "      <td>1</td>\n",
       "      <td>7</td>\n",
       "      <td>2</td>\n",
       "      <td>19</td>\n",
       "      <td>10</td>\n",
       "    </tr>\n",
       "    <tr>\n",
       "      <th>1</th>\n",
       "      <td>1</td>\n",
       "      <td>2</td>\n",
       "      <td>16</td>\n",
       "      <td>Pathfinder Bestiary</td>\n",
       "      <td>5</td>\n",
       "      <td>0</td>\n",
       "      <td>220</td>\n",
       "      <td>16</td>\n",
       "      <td>28</td>\n",
       "      <td>21</td>\n",
       "      <td>-4</td>\n",
       "      <td>9</td>\n",
       "      <td>0</td>\n",
       "      <td>14</td>\n",
       "      <td>10</td>\n",
       "    </tr>\n",
       "    <tr>\n",
       "      <th>2</th>\n",
       "      <td>-2</td>\n",
       "      <td>3</td>\n",
       "      <td>17</td>\n",
       "      <td>Pathfinder Bestiary</td>\n",
       "      <td>6</td>\n",
       "      <td>0</td>\n",
       "      <td>175</td>\n",
       "      <td>15</td>\n",
       "      <td>25</td>\n",
       "      <td>20</td>\n",
       "      <td>-4</td>\n",
       "      <td>7</td>\n",
       "      <td>3</td>\n",
       "      <td>17</td>\n",
       "      <td>8</td>\n",
       "    </tr>\n",
       "    <tr>\n",
       "      <th>3</th>\n",
       "      <td>6</td>\n",
       "      <td>5</td>\n",
       "      <td>30</td>\n",
       "      <td>Pathfinder Bestiary</td>\n",
       "      <td>5</td>\n",
       "      <td>1</td>\n",
       "      <td>315</td>\n",
       "      <td>32</td>\n",
       "      <td>41</td>\n",
       "      <td>30</td>\n",
       "      <td>6</td>\n",
       "      <td>7</td>\n",
       "      <td>4</td>\n",
       "      <td>29</td>\n",
       "      <td>17</td>\n",
       "    </tr>\n",
       "    <tr>\n",
       "      <th>4</th>\n",
       "      <td>1</td>\n",
       "      <td>1</td>\n",
       "      <td>6</td>\n",
       "      <td>Pathfinder Bestiary</td>\n",
       "      <td>1</td>\n",
       "      <td>1</td>\n",
       "      <td>20</td>\n",
       "      <td>4</td>\n",
       "      <td>16</td>\n",
       "      <td>6</td>\n",
       "      <td>-1</td>\n",
       "      <td>-5</td>\n",
       "      <td>3</td>\n",
       "      <td>10</td>\n",
       "      <td>1</td>\n",
       "    </tr>\n",
       "  </tbody>\n",
       "</table>\n",
       "</div>"
      ],
      "text/plain": [
       "   cha  wis  perception                 book  con  focus   hp  will  ac  \\\n",
       "0    1    2          20  Pathfinder Bestiary    5      1  215    17  29   \n",
       "1    1    2          16  Pathfinder Bestiary    5      0  220    16  28   \n",
       "2   -2    3          17  Pathfinder Bestiary    6      0  175    15  25   \n",
       "3    6    5          30  Pathfinder Bestiary    5      1  315    32  41   \n",
       "4    1    1           6  Pathfinder Bestiary    1      1   20     4  16   \n",
       "\n",
       "   fortitude  int  str  dex  reflex  level  \n",
       "0         22    1    7    2      19     10  \n",
       "1         21   -4    9    0      14     10  \n",
       "2         20   -4    7    3      17      8  \n",
       "3         30    6    7    4      29     17  \n",
       "4          6   -1   -5    3      10      1  "
      ]
     },
     "execution_count": 52,
     "metadata": {},
     "output_type": "execute_result"
    }
   ],
   "source": [
    "df.head()"
   ]
  },
  {
   "cell_type": "markdown",
   "id": "1bf55cc1",
   "metadata": {},
   "source": [
    "###### Level"
   ]
  },
  {
   "cell_type": "code",
   "execution_count": 53,
   "id": "2d322d72",
   "metadata": {},
   "outputs": [
    {
     "data": {
      "text/plain": [
       "0       10\n",
       "1       10\n",
       "2        8\n",
       "3       17\n",
       "4        1\n",
       "        ..\n",
       "1201    20\n",
       "1202    -1\n",
       "1203    12\n",
       "1204     6\n",
       "1205     6\n",
       "Name: level, Length: 1206, dtype: int64"
      ]
     },
     "execution_count": 53,
     "metadata": {},
     "output_type": "execute_result"
    }
   ],
   "source": [
    "y = df[\"level\"]\n",
    "y"
   ]
  },
  {
   "cell_type": "code",
   "execution_count": 54,
   "id": "e7887f19",
   "metadata": {},
   "outputs": [],
   "source": [
    "from collections import defaultdict\n",
    "\n",
    "\n",
    "lvl_stat = defaultdict(lambda: 0)\n",
    "\n",
    "for lvl in y:\n",
    "    lvl_stat[lvl] += 1"
   ]
  },
  {
   "cell_type": "code",
   "execution_count": 55,
   "id": "c982e6d0",
   "metadata": {},
   "outputs": [
    {
     "data": {
      "text/html": [
       "<div>\n",
       "<style scoped>\n",
       "    .dataframe tbody tr th:only-of-type {\n",
       "        vertical-align: middle;\n",
       "    }\n",
       "\n",
       "    .dataframe tbody tr th {\n",
       "        vertical-align: top;\n",
       "    }\n",
       "\n",
       "    .dataframe thead th {\n",
       "        text-align: right;\n",
       "    }\n",
       "</style>\n",
       "<table border=\"1\" class=\"dataframe\">\n",
       "  <thead>\n",
       "    <tr style=\"text-align: right;\">\n",
       "      <th></th>\n",
       "      <th>lvl</th>\n",
       "      <th>count</th>\n",
       "    </tr>\n",
       "  </thead>\n",
       "  <tbody>\n",
       "    <tr>\n",
       "      <th>0</th>\n",
       "      <td>-1</td>\n",
       "      <td>34</td>\n",
       "    </tr>\n",
       "    <tr>\n",
       "      <th>1</th>\n",
       "      <td>0</td>\n",
       "      <td>27</td>\n",
       "    </tr>\n",
       "    <tr>\n",
       "      <th>2</th>\n",
       "      <td>1</td>\n",
       "      <td>127</td>\n",
       "    </tr>\n",
       "    <tr>\n",
       "      <th>3</th>\n",
       "      <td>2</td>\n",
       "      <td>121</td>\n",
       "    </tr>\n",
       "    <tr>\n",
       "      <th>4</th>\n",
       "      <td>3</td>\n",
       "      <td>95</td>\n",
       "    </tr>\n",
       "    <tr>\n",
       "      <th>5</th>\n",
       "      <td>4</td>\n",
       "      <td>82</td>\n",
       "    </tr>\n",
       "    <tr>\n",
       "      <th>6</th>\n",
       "      <td>5</td>\n",
       "      <td>76</td>\n",
       "    </tr>\n",
       "    <tr>\n",
       "      <th>7</th>\n",
       "      <td>6</td>\n",
       "      <td>72</td>\n",
       "    </tr>\n",
       "    <tr>\n",
       "      <th>8</th>\n",
       "      <td>7</td>\n",
       "      <td>77</td>\n",
       "    </tr>\n",
       "    <tr>\n",
       "      <th>9</th>\n",
       "      <td>8</td>\n",
       "      <td>68</td>\n",
       "    </tr>\n",
       "    <tr>\n",
       "      <th>10</th>\n",
       "      <td>9</td>\n",
       "      <td>63</td>\n",
       "    </tr>\n",
       "    <tr>\n",
       "      <th>11</th>\n",
       "      <td>10</td>\n",
       "      <td>58</td>\n",
       "    </tr>\n",
       "    <tr>\n",
       "      <th>12</th>\n",
       "      <td>11</td>\n",
       "      <td>40</td>\n",
       "    </tr>\n",
       "    <tr>\n",
       "      <th>13</th>\n",
       "      <td>12</td>\n",
       "      <td>41</td>\n",
       "    </tr>\n",
       "    <tr>\n",
       "      <th>14</th>\n",
       "      <td>13</td>\n",
       "      <td>36</td>\n",
       "    </tr>\n",
       "    <tr>\n",
       "      <th>15</th>\n",
       "      <td>14</td>\n",
       "      <td>33</td>\n",
       "    </tr>\n",
       "    <tr>\n",
       "      <th>16</th>\n",
       "      <td>15</td>\n",
       "      <td>31</td>\n",
       "    </tr>\n",
       "    <tr>\n",
       "      <th>17</th>\n",
       "      <td>16</td>\n",
       "      <td>25</td>\n",
       "    </tr>\n",
       "    <tr>\n",
       "      <th>18</th>\n",
       "      <td>17</td>\n",
       "      <td>21</td>\n",
       "    </tr>\n",
       "    <tr>\n",
       "      <th>19</th>\n",
       "      <td>18</td>\n",
       "      <td>21</td>\n",
       "    </tr>\n",
       "    <tr>\n",
       "      <th>20</th>\n",
       "      <td>19</td>\n",
       "      <td>18</td>\n",
       "    </tr>\n",
       "    <tr>\n",
       "      <th>21</th>\n",
       "      <td>20</td>\n",
       "      <td>24</td>\n",
       "    </tr>\n",
       "    <tr>\n",
       "      <th>22</th>\n",
       "      <td>21</td>\n",
       "      <td>16</td>\n",
       "    </tr>\n",
       "  </tbody>\n",
       "</table>\n",
       "</div>"
      ],
      "text/plain": [
       "    lvl  count\n",
       "0    -1     34\n",
       "1     0     27\n",
       "2     1    127\n",
       "3     2    121\n",
       "4     3     95\n",
       "5     4     82\n",
       "6     5     76\n",
       "7     6     72\n",
       "8     7     77\n",
       "9     8     68\n",
       "10    9     63\n",
       "11   10     58\n",
       "12   11     40\n",
       "13   12     41\n",
       "14   13     36\n",
       "15   14     33\n",
       "16   15     31\n",
       "17   16     25\n",
       "18   17     21\n",
       "19   18     21\n",
       "20   19     18\n",
       "21   20     24\n",
       "22   21     16"
      ]
     },
     "execution_count": 55,
     "metadata": {},
     "output_type": "execute_result"
    }
   ],
   "source": [
    "level_count = pd.DataFrame(\n",
    "    data={\n",
    "        \"lvl\": [key for key in sorted(lvl_stat.keys())],\n",
    "        \"count\": [lvl_stat.get(key) for key in sorted(lvl_stat.keys())],\n",
    "    }\n",
    ")\n",
    "level_count"
   ]
  },
  {
   "cell_type": "code",
   "execution_count": 56,
   "id": "686877dd",
   "metadata": {},
   "outputs": [
    {
     "data": {
      "image/png": "[encoded data removed]",
      "text/plain": [
       "<Figure size 432x288 with 1 Axes>"
      ]
     },
     "metadata": {
      "needs_background": "light"
     },
     "output_type": "display_data"
    }
   ],
   "source": [
    "import matplotlib.pyplot as plt\n",
    "\n",
    "\n",
    "level_count.plot.bar(x=\"lvl\", y=\"count\", title=\"Count of levels\")\n",
    "plt.show()"
   ]
  },
  {
   "cell_type": "markdown",
   "id": "3f976e4a",
   "metadata": {},
   "source": [
    "## Train test split"
   ]
  },
  {
   "cell_type": "markdown",
   "id": "eb8cec62",
   "metadata": {},
   "source": [
    "### Chronological split"
   ]
  },
  {
   "cell_type": "code",
   "execution_count": 57,
   "id": "c6c29573",
   "metadata": {},
   "outputs": [],
   "source": [
    "from training.splitting_dataset import split_dataframe\n",
    "\n",
    "\n",
    "os.chdir(\"../../../training\")\n",
    "X_train, X_test, y_train, y_test = split_dataframe(df, test_size=0.31)\n",
    "os.chdir(\"../notebooks/models/lightgbm\")"
   ]
  },
  {
   "cell_type": "code",
   "execution_count": 58,
   "id": "f6894cc0",
   "metadata": {},
   "outputs": [],
   "source": [
    "X_train = X_train.drop(columns=[\"book\"])\n",
    "X_test = X_test.drop(columns=[\"book\"])"
   ]
  },
  {
   "cell_type": "markdown",
   "id": "31a0109c",
   "metadata": {},
   "source": [
    "### Random split"
   ]
  },
  {
   "cell_type": "code",
   "execution_count": 59,
   "id": "4d3e1121",
   "metadata": {},
   "outputs": [],
   "source": [
    "(\n",
    "    X_train_random_split,\n",
    "    X_test_random_split,\n",
    "    y_train_random_split,\n",
    "    y_test_random_split,\n",
    ") = split_dataframe(df, chronological_split=False)"
   ]
  },
  {
   "cell_type": "code",
   "execution_count": 60,
   "id": "f0c2041a",
   "metadata": {},
   "outputs": [],
   "source": [
    "X_train_random_split = X_train_random_split.drop(columns=[\"book\"])\n",
    "X_test_random_split = X_test_random_split.drop(columns=[\"book\"])"
   ]
  },
  {
   "cell_type": "markdown",
   "id": "e4776792",
   "metadata": {},
   "source": [
    "## LightGBM"
   ]
  },
  {
   "cell_type": "markdown",
   "id": "3f629b2d",
   "metadata": {},
   "source": [
    "## Chronological split"
   ]
  },
  {
   "cell_type": "code",
   "execution_count": 61,
   "id": "e818a3cc",
   "metadata": {},
   "outputs": [
    {
     "name": "stdout",
     "output_type": "stream",
     "text": [
      "[LightGBM] [Warning] Auto-choosing col-wise multi-threading, the overhead of testing was 0.000377 seconds.\n",
      "You can set `force_col_wise=true` to remove the overhead.\n",
      "[LightGBM] [Info] Total Bins 379\n",
      "[LightGBM] [Info] Number of data points in the train set: 841, number of used features: 13\n",
      "[LightGBM] [Info] Start training from score 6.966706\n",
      "Training until validation scores don't improve for 5 rounds\n",
      "[LightGBM] [Warning] No further splits with positive gain, best gain: -inf\n",
      "[LightGBM] [Warning] No further splits with positive gain, best gain: -inf\n",
      "[LightGBM] [Warning] No further splits with positive gain, best gain: -inf\n",
      "[LightGBM] [Warning] No further splits with positive gain, best gain: -inf\n",
      "[LightGBM] [Warning] No further splits with positive gain, best gain: -inf\n",
      "[LightGBM] [Warning] No further splits with positive gain, best gain: -inf\n",
      "[LightGBM] [Warning] No further splits with positive gain, best gain: -inf\n",
      "[LightGBM] [Warning] No further splits with positive gain, best gain: -inf\n",
      "[LightGBM] [Warning] No further splits with positive gain, best gain: -inf\n",
      "[LightGBM] [Warning] No further splits with positive gain, best gain: -inf\n",
      "[LightGBM] [Warning] No further splits with positive gain, best gain: -inf\n",
      "[LightGBM] [Warning] No further splits with positive gain, best gain: -inf\n",
      "Early stopping, best iteration is:\n",
      "[66]\tvalid_0's l1: 0.357177\tvalid_0's l2: 0.260866\n"
     ]
    }
   ],
   "source": [
    "import lightgbm as lgb\n",
    "\n",
    "lgb_train = lgb.Dataset(X_train, y_train)\n",
    "lgb_eval = lgb.Dataset(X_test, y_test, reference=lgb_train)\n",
    "\n",
    "params = {\n",
    "    \"boosting_type\": \"gbdt\",\n",
    "    \"objective\": \"regression\",\n",
    "    \"metric\": {\"l2\", \"l1\"},\n",
    "}\n",
    "\n",
    "gbm = lgb.train(\n",
    "    params,\n",
    "    lgb_train,\n",
    "    num_boost_round=100,\n",
    "    valid_sets=lgb_eval,\n",
    "    callbacks=[lgb.early_stopping(stopping_rounds=5)],\n",
    ")"
   ]
  },
  {
   "cell_type": "code",
   "execution_count": 62,
   "id": "b2dd69b5",
   "metadata": {},
   "outputs": [],
   "source": [
    "y_pred_train = gbm.predict(X_train, num_iteration=gbm.best_iteration)\n",
    "y_pred_test = gbm.predict(X_test, num_iteration=gbm.best_iteration)"
   ]
  },
  {
   "cell_type": "code",
   "execution_count": 63,
   "id": "68b425f7",
   "metadata": {},
   "outputs": [
    {
     "name": "stdout",
     "output_type": "stream",
     "text": [
      "MSE: 0.26\n",
      "RMSE: 0.51\n",
      "MAE: 0.36\n"
     ]
    }
   ],
   "source": [
    "from sklearn.metrics import mean_squared_error, mean_absolute_error\n",
    "\n",
    "\n",
    "mse = mean_squared_error(y_test, y_pred_test)\n",
    "rmse = mean_squared_error(y_test, y_pred_test, squared=False)\n",
    "mae = mean_absolute_error(y_test, y_pred_test)\n",
    "\n",
    "print(f\"MSE: {mse:.2f}\")\n",
    "print(f\"RMSE: {rmse:.2f}\")\n",
    "print(f\"MAE: {mae:.2f}\")"
   ]
  },
  {
   "cell_type": "code",
   "execution_count": 64,
   "id": "a615e9df",
   "metadata": {},
   "outputs": [],
   "source": [
    "results = pd.DataFrame(\n",
    "    data={\n",
    "        \"Split type\": [],\n",
    "        \"Tuning type\": [],\n",
    "        \"Set of features\": [],\n",
    "        \"MSE\": [],\n",
    "        \"RMSE\": [],\n",
    "        \"MAE\": [],\n",
    "    }\n",
    ")\n",
    "\n",
    "results.loc[0] = [\"chronological\", \"default\", \"expanded\", mse, rmse, mae]"
   ]
  },
  {
   "cell_type": "code",
   "execution_count": 65,
   "id": "9d777b5d",
   "metadata": {},
   "outputs": [
    {
     "name": "stdout",
     "output_type": "stream",
     "text": [
      "RMSE train: 0.21\n",
      "RMSE test: 0.51\n"
     ]
    }
   ],
   "source": [
    "rmse_train = mean_squared_error(y_train, y_pred_train, squared=False)\n",
    "rmse_test = mean_squared_error(y_test, y_pred_test, squared=False)\n",
    "print(f\"RMSE train: {rmse_train:.2f}\")\n",
    "print(f\"RMSE test: {rmse_test:.2f}\")"
   ]
  },
  {
   "cell_type": "markdown",
   "id": "c8d83c18",
   "metadata": {},
   "source": [
    "###### MAE by level"
   ]
  },
  {
   "cell_type": "code",
   "execution_count": 66,
   "id": "ac580d53",
   "metadata": {},
   "outputs": [],
   "source": [
    "from training.results import plot_mae_by_level"
   ]
  },
  {
   "cell_type": "code",
   "execution_count": 67,
   "id": "53b88797",
   "metadata": {},
   "outputs": [
    {
     "data": {
      "image/png": "[encoded data removed]",
      "text/plain": [
       "<Figure size 720x432 with 1 Axes>"
      ]
     },
     "metadata": {
      "needs_background": "light"
     },
     "output_type": "display_data"
    }
   ],
   "source": [
    "plot_mae_by_level(\n",
    "    y_test,\n",
    "    y_pred_test,\n",
    "    title=\"MAE by level for default LightGBM with expanded features and chronological split\",\n",
    ")"
   ]
  },
  {
   "cell_type": "code",
   "execution_count": 68,
   "id": "4135d981",
   "metadata": {},
   "outputs": [
    {
     "name": "stdout",
     "output_type": "stream",
     "text": [
      "Normal:\n",
      "MSE: 0.26\n",
      "RMSE: 0.51\n",
      "\n",
      "Round type: round\n",
      "MSE: 0.30\n",
      "RMSE: 0.55\n",
      "\n",
      "Round type: 0.33\n",
      "MSE: 0.29\n",
      "RMSE: 0.54\n",
      "\n",
      "Round type: 0.45\n",
      "MSE: 0.29\n",
      "RMSE: 0.54\n",
      "\n"
     ]
    }
   ],
   "source": [
    "from training.results import check_round_predictions, plot_confusion_matrix\n",
    "\n",
    "\n",
    "check_round_predictions([\"round\", 0.33, 0.45], y_test, y_pred_test)"
   ]
  },
  {
   "cell_type": "code",
   "execution_count": 69,
   "id": "4741e1ec",
   "metadata": {},
   "outputs": [
    {
     "data": {
      "image/png": "[encoded data removed]",
      "text/plain": [
       "<Figure size 432x288 with 2 Axes>"
      ]
     },
     "metadata": {
      "needs_background": "light"
     },
     "output_type": "display_data"
    }
   ],
   "source": [
    "plot_confusion_matrix(\n",
    "    \"round\",\n",
    "    y_pred_test,\n",
    "    y_test,\n",
    "    title=\"Confusion matrix for default LightGBM with expanded features and chronological split\",\n",
    ")"
   ]
  },
  {
   "cell_type": "markdown",
   "id": "a6b03404",
   "metadata": {},
   "source": [
    "#### Tuning"
   ]
  },
  {
   "cell_type": "code",
   "execution_count": 70,
   "id": "e7f8b7ee",
   "metadata": {},
   "outputs": [],
   "source": [
    "from training.results import assess_regression_model"
   ]
  },
  {
   "cell_type": "code",
   "execution_count": 71,
   "id": "10cd6bac",
   "metadata": {
    "scrolled": true
   },
   "outputs": [
    {
     "name": "stderr",
     "output_type": "stream",
     "text": [
      "[I 2023-11-04 19:52:38,135] A new study created in memory with name: no-name-1285cb7a-7cd0-4f49-913a-6f8cb3c6eff4\n",
      "feature_fraction, val_score: inf:   0%|                                                          | 0/7 [00:00<?, ?it/s]"
     ]
    },
    {
     "name": "stdout",
     "output_type": "stream",
     "text": [
      "Training until validation scores don't improve for 100 rounds\n",
      "[100]\tcv_agg's l2: 0.183573 + 0.0398666\n",
      "[200]\tcv_agg's l2: 0.179042 + 0.0386216\n",
      "[300]\tcv_agg's l2: 0.179231 + 0.0380819\n"
     ]
    },
    {
     "name": "stderr",
     "output_type": "stream",
     "text": [
      "feature_fraction, val_score: 0.178542:  14%|######4                                      | 1/7 [00:06<00:37,  6.19s/it][I 2023-11-04 19:52:44,330] Trial 0 finished with value: 0.17854231945520305 and parameters: {'feature_fraction': 0.8999999999999999}. Best is trial 0 with value: 0.17854231945520305.\n",
      "feature_fraction, val_score: 0.178542:  14%|######4                                      | 1/7 [00:06<00:37,  6.19s/it]"
     ]
    },
    {
     "name": "stdout",
     "output_type": "stream",
     "text": [
      "Early stopping, best iteration is:\n",
      "[230]\tcv_agg's l2: 0.178542 + 0.0381337\n",
      "[100]\tcv_agg's l2: 0.176994 + 0.0337436\n",
      "[200]\tcv_agg's l2: 0.173299 + 0.0333576\n"
     ]
    },
    {
     "name": "stderr",
     "output_type": "stream",
     "text": [
      "feature_fraction, val_score: 0.173074:  29%|############8                                | 2/7 [00:10<00:25,  5.02s/it][I 2023-11-04 19:52:48,528] Trial 1 finished with value: 0.17307443599435873 and parameters: {'feature_fraction': 0.5}. Best is trial 1 with value: 0.17307443599435873.\n",
      "feature_fraction, val_score: 0.173074:  29%|############8                                | 2/7 [00:10<00:25,  5.02s/it]"
     ]
    },
    {
     "name": "stdout",
     "output_type": "stream",
     "text": [
      "Early stopping, best iteration is:\n",
      "[175]\tcv_agg's l2: 0.173074 + 0.0335446\n",
      "[100]\tcv_agg's l2: 0.174235 + 0.0350545\n",
      "[200]\tcv_agg's l2: 0.170979 + 0.033012\n"
     ]
    },
    {
     "name": "stderr",
     "output_type": "stream",
     "text": [
      "feature_fraction, val_score: 0.170501:  43%|###################2                         | 3/7 [00:14<00:18,  4.59s/it][I 2023-11-04 19:52:52,608] Trial 2 finished with value: 0.17050095585165342 and parameters: {'feature_fraction': 0.6}. Best is trial 2 with value: 0.17050095585165342.\n",
      "feature_fraction, val_score: 0.170501:  43%|###################2                         | 3/7 [00:14<00:18,  4.59s/it]"
     ]
    },
    {
     "name": "stdout",
     "output_type": "stream",
     "text": [
      "Early stopping, best iteration is:\n",
      "[160]\tcv_agg's l2: 0.170501 + 0.0330227\n",
      "[100]\tcv_agg's l2: 0.188451 + 0.039066\n",
      "[200]\tcv_agg's l2: 0.185932 + 0.0365916\n"
     ]
    },
    {
     "name": "stderr",
     "output_type": "stream",
     "text": [
      "feature_fraction, val_score: 0.170501:  57%|#########################7                   | 4/7 [00:18<00:12,  4.18s/it][I 2023-11-04 19:52:56,151] Trial 3 finished with value: 0.1860195828848253 and parameters: {'feature_fraction': 1.0}. Best is trial 2 with value: 0.17050095585165342.\n",
      "feature_fraction, val_score: 0.170501:  57%|#########################7                   | 4/7 [00:18<00:12,  4.18s/it]"
     ]
    },
    {
     "name": "stdout",
     "output_type": "stream",
     "text": [
      "Early stopping, best iteration is:\n",
      "[160]\tcv_agg's l2: 0.170501 + 0.0330227\n",
      "[100]\tcv_agg's l2: 0.182664 + 0.0389225\n",
      "[200]\tcv_agg's l2: 0.180001 + 0.0361941\n"
     ]
    },
    {
     "name": "stderr",
     "output_type": "stream",
     "text": [
      "feature_fraction, val_score: 0.170501:  71%|################################1            | 5/7 [00:21<00:07,  3.90s/it][I 2023-11-04 19:52:59,549] Trial 4 finished with value: 0.180339183154602 and parameters: {'feature_fraction': 0.8}. Best is trial 2 with value: 0.17050095585165342.\n",
      "feature_fraction, val_score: 0.170501:  71%|################################1            | 5/7 [00:21<00:07,  3.90s/it]"
     ]
    },
    {
     "name": "stdout",
     "output_type": "stream",
     "text": [
      "Early stopping, best iteration is:\n",
      "[160]\tcv_agg's l2: 0.170501 + 0.0330227\n",
      "[100]\tcv_agg's l2: 0.160939 + 0.0268114\n",
      "[200]\tcv_agg's l2: 0.159004 + 0.0248617\n"
     ]
    },
    {
     "name": "stderr",
     "output_type": "stream",
     "text": [
      "feature_fraction, val_score: 0.158673:  86%|######################################5      | 6/7 [00:24<00:03,  3.73s/it][I 2023-11-04 19:53:02,945] Trial 5 finished with value: 0.15867293260848092 and parameters: {'feature_fraction': 0.4}. Best is trial 5 with value: 0.15867293260848092.\n",
      "feature_fraction, val_score: 0.158673:  86%|######################################5      | 6/7 [00:24<00:03,  3.73s/it]"
     ]
    },
    {
     "name": "stdout",
     "output_type": "stream",
     "text": [
      "Early stopping, best iteration is:\n",
      "[185]\tcv_agg's l2: 0.158673 + 0.0243201\n",
      "[100]\tcv_agg's l2: 0.182552 + 0.0433539\n",
      "[200]\tcv_agg's l2: 0.179358 + 0.0413495\n"
     ]
    },
    {
     "name": "stderr",
     "output_type": "stream",
     "text": [
      "feature_fraction, val_score: 0.158673: 100%|#############################################| 7/7 [00:28<00:00,  3.71s/it][I 2023-11-04 19:53:06,618] Trial 6 finished with value: 0.1800961341263208 and parameters: {'feature_fraction': 0.7}. Best is trial 5 with value: 0.15867293260848092.\n",
      "feature_fraction, val_score: 0.158673: 100%|#############################################| 7/7 [00:28<00:00,  4.07s/it]\n"
     ]
    },
    {
     "name": "stdout",
     "output_type": "stream",
     "text": [
      "Early stopping, best iteration is:\n",
      "[185]\tcv_agg's l2: 0.158673 + 0.0243201\n"
     ]
    },
    {
     "name": "stderr",
     "output_type": "stream",
     "text": [
      "num_leaves, val_score: 0.158673:   0%|                                                          | 0/20 [00:00<?, ?it/s]"
     ]
    },
    {
     "name": "stdout",
     "output_type": "stream",
     "text": [
      "[100]\tcv_agg's l2: 0.160939 + 0.0268114\n",
      "[200]\tcv_agg's l2: 0.159004 + 0.0248617\n"
     ]
    },
    {
     "name": "stderr",
     "output_type": "stream",
     "text": [
      "num_leaves, val_score: 0.158673:   5%|##5                                               | 1/20 [00:03<01:04,  3.38s/it][I 2023-11-04 19:53:10,002] Trial 7 finished with value: 0.15867293260848092 and parameters: {'num_leaves': 121}. Best is trial 7 with value: 0.15867293260848092.\n",
      "num_leaves, val_score: 0.158673:   5%|##5                                               | 1/20 [00:03<01:04,  3.38s/it]"
     ]
    },
    {
     "name": "stdout",
     "output_type": "stream",
     "text": [
      "Early stopping, best iteration is:\n",
      "[185]\tcv_agg's l2: 0.158673 + 0.0243201\n",
      "[100]\tcv_agg's l2: 0.160939 + 0.0268114\n",
      "[200]\tcv_agg's l2: 0.159004 + 0.0248617\n"
     ]
    },
    {
     "name": "stderr",
     "output_type": "stream",
     "text": [
      "num_leaves, val_score: 0.158673:  10%|#####                                             | 2/20 [00:06<01:01,  3.39s/it][I 2023-11-04 19:53:13,407] Trial 8 finished with value: 0.15867293260848092 and parameters: {'num_leaves': 238}. Best is trial 7 with value: 0.15867293260848092.\n",
      "num_leaves, val_score: 0.158673:  10%|#####                                             | 2/20 [00:06<01:01,  3.39s/it]"
     ]
    },
    {
     "name": "stdout",
     "output_type": "stream",
     "text": [
      "Early stopping, best iteration is:\n",
      "[185]\tcv_agg's l2: 0.158673 + 0.0243201\n",
      "[100]\tcv_agg's l2: 0.160939 + 0.0268114\n",
      "[200]\tcv_agg's l2: 0.159004 + 0.0248617\n"
     ]
    },
    {
     "name": "stderr",
     "output_type": "stream",
     "text": [
      "num_leaves, val_score: 0.158673:  15%|#######5                                          | 3/20 [00:10<00:57,  3.37s/it][I 2023-11-04 19:53:16,758] Trial 9 finished with value: 0.15867293260848092 and parameters: {'num_leaves': 58}. Best is trial 7 with value: 0.15867293260848092.\n",
      "num_leaves, val_score: 0.158673:  15%|#######5                                          | 3/20 [00:10<00:57,  3.37s/it]"
     ]
    },
    {
     "name": "stdout",
     "output_type": "stream",
     "text": [
      "Early stopping, best iteration is:\n",
      "[185]\tcv_agg's l2: 0.158673 + 0.0243201\n",
      "[100]\tcv_agg's l2: 0.160939 + 0.0268114\n",
      "[200]\tcv_agg's l2: 0.159004 + 0.0248617\n"
     ]
    },
    {
     "name": "stderr",
     "output_type": "stream",
     "text": [
      "num_leaves, val_score: 0.158673:  20%|##########                                        | 4/20 [00:13<00:54,  3.38s/it][I 2023-11-04 19:53:20,152] Trial 10 finished with value: 0.15867293260848092 and parameters: {'num_leaves': 239}. Best is trial 7 with value: 0.15867293260848092.\n",
      "num_leaves, val_score: 0.158673:  20%|##########                                        | 4/20 [00:13<00:54,  3.38s/it]"
     ]
    },
    {
     "name": "stdout",
     "output_type": "stream",
     "text": [
      "Early stopping, best iteration is:\n",
      "[185]\tcv_agg's l2: 0.158673 + 0.0243201\n",
      "[100]\tcv_agg's l2: 0.160939 + 0.0268114\n",
      "[200]\tcv_agg's l2: 0.159004 + 0.0248617\n"
     ]
    },
    {
     "name": "stderr",
     "output_type": "stream",
     "text": [
      "num_leaves, val_score: 0.158673:  25%|############5                                     | 5/20 [00:16<00:50,  3.37s/it][I 2023-11-04 19:53:23,500] Trial 11 finished with value: 0.15867293260848092 and parameters: {'num_leaves': 111}. Best is trial 7 with value: 0.15867293260848092.\n",
      "num_leaves, val_score: 0.158673:  25%|############5                                     | 5/20 [00:16<00:50,  3.37s/it]"
     ]
    },
    {
     "name": "stdout",
     "output_type": "stream",
     "text": [
      "Early stopping, best iteration is:\n",
      "[185]\tcv_agg's l2: 0.158673 + 0.0243201\n",
      "[100]\tcv_agg's l2: 0.160939 + 0.0268114\n",
      "[200]\tcv_agg's l2: 0.159004 + 0.0248617\n"
     ]
    },
    {
     "name": "stderr",
     "output_type": "stream",
     "text": [
      "num_leaves, val_score: 0.158673:  30%|###############                                   | 6/20 [00:20<00:47,  3.36s/it][I 2023-11-04 19:53:26,848] Trial 12 finished with value: 0.15867293260848092 and parameters: {'num_leaves': 143}. Best is trial 7 with value: 0.15867293260848092.\n",
      "num_leaves, val_score: 0.158673:  30%|###############                                   | 6/20 [00:20<00:47,  3.36s/it]"
     ]
    },
    {
     "name": "stdout",
     "output_type": "stream",
     "text": [
      "Early stopping, best iteration is:\n",
      "[185]\tcv_agg's l2: 0.158673 + 0.0243201\n",
      "[100]\tcv_agg's l2: 0.198824 + 0.0177961\n",
      "[200]\tcv_agg's l2: 0.175844 + 0.0140668\n"
     ]
    },
    {
     "name": "stderr",
     "output_type": "stream",
     "text": [
      "num_leaves, val_score: 0.158673:  35%|#################5                                | 7/20 [00:21<00:33,  2.60s/it][I 2023-11-04 19:53:27,872] Trial 13 finished with value: 0.17788171501773165 and parameters: {'num_leaves': 5}. Best is trial 7 with value: 0.15867293260848092.\n",
      "num_leaves, val_score: 0.158673:  35%|#################5                                | 7/20 [00:21<00:33,  2.60s/it]"
     ]
    },
    {
     "name": "stdout",
     "output_type": "stream",
     "text": [
      "Early stopping, best iteration is:\n",
      "[185]\tcv_agg's l2: 0.158673 + 0.0243201\n",
      "[100]\tcv_agg's l2: 0.160939 + 0.0268114\n",
      "[200]\tcv_agg's l2: 0.159004 + 0.0248617\n"
     ]
    },
    {
     "name": "stderr",
     "output_type": "stream",
     "text": [
      "num_leaves, val_score: 0.158673:  40%|####################                              | 8/20 [00:24<00:34,  2.86s/it][I 2023-11-04 19:53:31,284] Trial 14 finished with value: 0.15867293260848092 and parameters: {'num_leaves': 152}. Best is trial 7 with value: 0.15867293260848092.\n",
      "num_leaves, val_score: 0.158673:  40%|####################                              | 8/20 [00:24<00:34,  2.86s/it]"
     ]
    },
    {
     "name": "stdout",
     "output_type": "stream",
     "text": [
      "Early stopping, best iteration is:\n",
      "[185]\tcv_agg's l2: 0.158673 + 0.0243201\n",
      "[100]\tcv_agg's l2: 0.160939 + 0.0268114\n",
      "[200]\tcv_agg's l2: 0.159004 + 0.0248617\n"
     ]
    },
    {
     "name": "stderr",
     "output_type": "stream",
     "text": [
      "num_leaves, val_score: 0.158673:  45%|######################5                           | 9/20 [00:28<00:33,  3.06s/it][I 2023-11-04 19:53:34,793] Trial 15 finished with value: 0.15867293260848092 and parameters: {'num_leaves': 183}. Best is trial 7 with value: 0.15867293260848092.\n",
      "num_leaves, val_score: 0.158673:  45%|######################5                           | 9/20 [00:28<00:33,  3.06s/it]"
     ]
    },
    {
     "name": "stdout",
     "output_type": "stream",
     "text": [
      "Early stopping, best iteration is:\n",
      "[185]\tcv_agg's l2: 0.158673 + 0.0243201\n",
      "[100]\tcv_agg's l2: 0.160939 + 0.0268114\n",
      "[200]\tcv_agg's l2: 0.159004 + 0.0248617\n"
     ]
    },
    {
     "name": "stderr",
     "output_type": "stream",
     "text": [
      "num_leaves, val_score: 0.158673:  50%|########################5                        | 10/20 [00:31<00:31,  3.16s/it][I 2023-11-04 19:53:38,171] Trial 16 finished with value: 0.15867293260848092 and parameters: {'num_leaves': 70}. Best is trial 7 with value: 0.15867293260848092.\n",
      "num_leaves, val_score: 0.158673:  50%|########################5                        | 10/20 [00:31<00:31,  3.16s/it]"
     ]
    },
    {
     "name": "stdout",
     "output_type": "stream",
     "text": [
      "Early stopping, best iteration is:\n",
      "[185]\tcv_agg's l2: 0.158673 + 0.0243201\n",
      "[100]\tcv_agg's l2: 0.160939 + 0.0268114\n",
      "[200]\tcv_agg's l2: 0.159004 + 0.0248617\n"
     ]
    },
    {
     "name": "stderr",
     "output_type": "stream",
     "text": [
      "num_leaves, val_score: 0.158673:  55%|##########################9                      | 11/20 [00:34<00:29,  3.25s/it][I 2023-11-04 19:53:41,611] Trial 17 finished with value: 0.15867293260848092 and parameters: {'num_leaves': 188}. Best is trial 7 with value: 0.15867293260848092.\n",
      "num_leaves, val_score: 0.158673:  55%|##########################9                      | 11/20 [00:34<00:29,  3.25s/it]"
     ]
    },
    {
     "name": "stdout",
     "output_type": "stream",
     "text": [
      "Early stopping, best iteration is:\n",
      "[185]\tcv_agg's l2: 0.158673 + 0.0243201\n",
      "[100]\tcv_agg's l2: 0.160939 + 0.0268114\n",
      "[200]\tcv_agg's l2: 0.159004 + 0.0248617\n"
     ]
    },
    {
     "name": "stderr",
     "output_type": "stream",
     "text": [
      "num_leaves, val_score: 0.158673:  60%|#############################4                   | 12/20 [00:38<00:27,  3.45s/it][I 2023-11-04 19:53:45,537] Trial 18 finished with value: 0.15867293260848092 and parameters: {'num_leaves': 93}. Best is trial 7 with value: 0.15867293260848092.\n",
      "num_leaves, val_score: 0.158673:  60%|#############################4                   | 12/20 [00:38<00:27,  3.45s/it]"
     ]
    },
    {
     "name": "stdout",
     "output_type": "stream",
     "text": [
      "Early stopping, best iteration is:\n",
      "[185]\tcv_agg's l2: 0.158673 + 0.0243201\n",
      "[100]\tcv_agg's l2: 0.160243 + 0.0272878\n",
      "[200]\tcv_agg's l2: 0.158944 + 0.0260491\n"
     ]
    },
    {
     "name": "stderr",
     "output_type": "stream",
     "text": [
      "num_leaves, val_score: 0.158333:  65%|###############################8                 | 13/20 [00:42<00:23,  3.38s/it][I 2023-11-04 19:53:48,751] Trial 19 finished with value: 0.15833309621641284 and parameters: {'num_leaves': 23}. Best is trial 19 with value: 0.15833309621641284.\n",
      "num_leaves, val_score: 0.158333:  65%|###############################8                 | 13/20 [00:42<00:23,  3.38s/it]"
     ]
    },
    {
     "name": "stdout",
     "output_type": "stream",
     "text": [
      "Early stopping, best iteration is:\n",
      "[122]\tcv_agg's l2: 0.158333 + 0.0272746\n",
      "[100]\tcv_agg's l2: 0.198824 + 0.0177961\n"
     ]
    },
    {
     "name": "stderr",
     "output_type": "stream",
     "text": [
      "num_leaves, val_score: 0.158333:  70%|##################################3              | 14/20 [00:42<00:15,  2.59s/it][I 2023-11-04 19:53:49,505] Trial 20 finished with value: 0.19161218227481408 and parameters: {'num_leaves': 5}. Best is trial 19 with value: 0.15833309621641284.\n",
      "num_leaves, val_score: 0.158333:  70%|##################################3              | 14/20 [00:42<00:15,  2.59s/it]"
     ]
    },
    {
     "name": "stdout",
     "output_type": "stream",
     "text": [
      "[200]\tcv_agg's l2: 0.175844 + 0.0140668\n",
      "Early stopping, best iteration is:\n",
      "[122]\tcv_agg's l2: 0.158333 + 0.0272746\n",
      "[100]\tcv_agg's l2: 0.160939 + 0.0268114\n",
      "[200]\tcv_agg's l2: 0.159004 + 0.0248617\n"
     ]
    },
    {
     "name": "stderr",
     "output_type": "stream",
     "text": [
      "num_leaves, val_score: 0.158333:  75%|####################################7            | 15/20 [00:45<00:13,  2.67s/it][I 2023-11-04 19:53:52,359] Trial 21 finished with value: 0.15931677894360996 and parameters: {'num_leaves': 54}. Best is trial 19 with value: 0.15833309621641284.\n",
      "num_leaves, val_score: 0.158333:  75%|####################################7            | 15/20 [00:45<00:13,  2.67s/it]"
     ]
    },
    {
     "name": "stdout",
     "output_type": "stream",
     "text": [
      "Early stopping, best iteration is:\n",
      "[122]\tcv_agg's l2: 0.158333 + 0.0272746\n",
      "[100]\tcv_agg's l2: 0.160939 + 0.0268114\n",
      "[200]\tcv_agg's l2: 0.159004 + 0.0248617\n"
     ]
    },
    {
     "name": "stderr",
     "output_type": "stream",
     "text": [
      "num_leaves, val_score: 0.158333:  80%|#######################################2         | 16/20 [00:48<00:10,  2.71s/it][I 2023-11-04 19:53:55,171] Trial 22 finished with value: 0.15931677894360996 and parameters: {'num_leaves': 31}. Best is trial 19 with value: 0.15833309621641284.\n",
      "num_leaves, val_score: 0.158333:  80%|#######################################2         | 16/20 [00:48<00:10,  2.71s/it]"
     ]
    },
    {
     "name": "stdout",
     "output_type": "stream",
     "text": [
      "Early stopping, best iteration is:\n",
      "[122]\tcv_agg's l2: 0.158333 + 0.0272746\n",
      "[100]\tcv_agg's l2: 0.160939 + 0.0268114\n",
      "[200]\tcv_agg's l2: 0.159004 + 0.0248617\n"
     ]
    },
    {
     "name": "stderr",
     "output_type": "stream",
     "text": [
      "num_leaves, val_score: 0.158333:  85%|#########################################6       | 17/20 [00:51<00:07,  2.67s/it][I 2023-11-04 19:53:57,730] Trial 23 finished with value: 0.15931677894360996 and parameters: {'num_leaves': 92}. Best is trial 19 with value: 0.15833309621641284.\n",
      "num_leaves, val_score: 0.158333:  85%|#########################################6       | 17/20 [00:51<00:07,  2.67s/it]"
     ]
    },
    {
     "name": "stdout",
     "output_type": "stream",
     "text": [
      "Early stopping, best iteration is:\n",
      "[122]\tcv_agg's l2: 0.158333 + 0.0272746\n",
      "[100]\tcv_agg's l2: 0.160939 + 0.0268114\n",
      "[200]\tcv_agg's l2: 0.159004 + 0.0248617\n"
     ]
    },
    {
     "name": "stderr",
     "output_type": "stream",
     "text": [
      "num_leaves, val_score: 0.158333:  90%|############################################1    | 18/20 [00:53<00:05,  2.69s/it][I 2023-11-04 19:54:00,472] Trial 24 finished with value: 0.15931677894360996 and parameters: {'num_leaves': 181}. Best is trial 19 with value: 0.15833309621641284.\n",
      "num_leaves, val_score: 0.158333:  90%|############################################1    | 18/20 [00:53<00:05,  2.69s/it]"
     ]
    },
    {
     "name": "stdout",
     "output_type": "stream",
     "text": [
      "Early stopping, best iteration is:\n",
      "[122]\tcv_agg's l2: 0.158333 + 0.0272746\n",
      "[100]\tcv_agg's l2: 0.160939 + 0.0268114\n",
      "[200]\tcv_agg's l2: 0.159004 + 0.0248617\n"
     ]
    },
    {
     "name": "stderr",
     "output_type": "stream",
     "text": [
      "num_leaves, val_score: 0.158333:  95%|##############################################5  | 19/20 [00:56<00:02,  2.69s/it][I 2023-11-04 19:54:03,179] Trial 25 finished with value: 0.15931677894360996 and parameters: {'num_leaves': 122}. Best is trial 19 with value: 0.15833309621641284.\n",
      "num_leaves, val_score: 0.158333:  95%|##############################################5  | 19/20 [00:56<00:02,  2.69s/it]"
     ]
    },
    {
     "name": "stdout",
     "output_type": "stream",
     "text": [
      "Early stopping, best iteration is:\n",
      "[122]\tcv_agg's l2: 0.158333 + 0.0272746\n",
      "[100]\tcv_agg's l2: 0.160939 + 0.0268114\n",
      "[200]\tcv_agg's l2: 0.159004 + 0.0248617\n"
     ]
    },
    {
     "name": "stderr",
     "output_type": "stream",
     "text": [
      "num_leaves, val_score: 0.158333: 100%|#################################################| 20/20 [00:59<00:00,  2.66s/it][I 2023-11-04 19:54:05,758] Trial 26 finished with value: 0.15931677894360996 and parameters: {'num_leaves': 31}. Best is trial 19 with value: 0.15833309621641284.\n",
      "num_leaves, val_score: 0.158333: 100%|#################################################| 20/20 [00:59<00:00,  2.96s/it]\n"
     ]
    },
    {
     "name": "stdout",
     "output_type": "stream",
     "text": [
      "Early stopping, best iteration is:\n",
      "[122]\tcv_agg's l2: 0.158333 + 0.0272746\n"
     ]
    },
    {
     "name": "stderr",
     "output_type": "stream",
     "text": [
      "bagging, val_score: 0.158333:   0%|                                                             | 0/10 [00:00<?, ?it/s]"
     ]
    },
    {
     "name": "stdout",
     "output_type": "stream",
     "text": [
      "[100]\tcv_agg's l2: 0.209483 + 0.0280606\n"
     ]
    },
    {
     "name": "stderr",
     "output_type": "stream",
     "text": [
      "\r",
      "bagging, val_score: 0.158333:   0%|                                                             | 0/10 [00:01<?, ?it/s]"
     ]
    },
    {
     "name": "stdout",
     "output_type": "stream",
     "text": [
      "[200]\tcv_agg's l2: 0.196286 + 0.028136\n",
      "Early stopping, best iteration is:\n",
      "[122]\tcv_agg's l2: 0.158333 + 0.0272746\n"
     ]
    },
    {
     "name": "stderr",
     "output_type": "stream",
     "text": [
      "bagging, val_score: 0.158333:  10%|#####3                                               | 1/10 [00:01<00:14,  1.58s/it][I 2023-11-04 19:54:07,344] Trial 27 finished with value: 0.206260515989646 and parameters: {'bagging_fraction': 0.47361418140757716, 'bagging_freq': 1}. Best is trial 27 with value: 0.206260515989646.\n",
      "bagging, val_score: 0.158333:  10%|#####3                                               | 1/10 [00:01<00:14,  1.58s/it]"
     ]
    },
    {
     "name": "stdout",
     "output_type": "stream",
     "text": [
      "[100]\tcv_agg's l2: 0.165009 + 0.02854\n",
      "[200]\tcv_agg's l2: 0.162739 + 0.0281469\n"
     ]
    },
    {
     "name": "stderr",
     "output_type": "stream",
     "text": [
      "bagging, val_score: 0.158333:  20%|##########6                                          | 2/10 [00:04<00:17,  2.13s/it][I 2023-11-04 19:54:09,864] Trial 28 finished with value: 0.16275253333643297 and parameters: {'bagging_fraction': 0.9808913275943898, 'bagging_freq': 7}. Best is trial 28 with value: 0.16275253333643297.\n",
      "bagging, val_score: 0.158333:  20%|##########6                                          | 2/10 [00:04<00:17,  2.13s/it]"
     ]
    },
    {
     "name": "stdout",
     "output_type": "stream",
     "text": [
      "Early stopping, best iteration is:\n",
      "[122]\tcv_agg's l2: 0.158333 + 0.0272746\n",
      "[100]\tcv_agg's l2: 0.209466 + 0.0214357\n"
     ]
    },
    {
     "name": "stderr",
     "output_type": "stream",
     "text": [
      "bagging, val_score: 0.158333:  30%|###############9                                     | 3/10 [00:05<00:12,  1.80s/it][I 2023-11-04 19:54:11,277] Trial 29 finished with value: 0.20195858927705918 and parameters: {'bagging_fraction': 0.4154214756775033, 'bagging_freq': 4}. Best is trial 28 with value: 0.16275253333643297.\n",
      "bagging, val_score: 0.158333:  30%|###############9                                     | 3/10 [00:05<00:12,  1.80s/it]"
     ]
    },
    {
     "name": "stdout",
     "output_type": "stream",
     "text": [
      "[200]\tcv_agg's l2: 0.194176 + 0.0178181\n",
      "Early stopping, best iteration is:\n",
      "[122]\tcv_agg's l2: 0.158333 + 0.0272746\n",
      "[100]\tcv_agg's l2: 0.17654 + 0.0251544\n",
      "[200]\tcv_agg's l2: 0.171048 + 0.0220202\n"
     ]
    },
    {
     "name": "stderr",
     "output_type": "stream",
     "text": [
      "bagging, val_score: 0.158333:  40%|#####################2                               | 4/10 [00:07<00:12,  2.02s/it][I 2023-11-04 19:54:13,628] Trial 30 finished with value: 0.17404776806281938 and parameters: {'bagging_fraction': 0.7741498467681966, 'bagging_freq': 7}. Best is trial 28 with value: 0.16275253333643297.\n",
      "bagging, val_score: 0.158333:  40%|#####################2                               | 4/10 [00:07<00:12,  2.02s/it]"
     ]
    },
    {
     "name": "stdout",
     "output_type": "stream",
     "text": [
      "Early stopping, best iteration is:\n",
      "[122]\tcv_agg's l2: 0.158333 + 0.0272746\n",
      "[100]\tcv_agg's l2: 0.182997 + 0.024688\n"
     ]
    },
    {
     "name": "stderr",
     "output_type": "stream",
     "text": [
      "\r",
      "bagging, val_score: 0.158333:  40%|#####################2                               | 4/10 [00:09<00:12,  2.02s/it]"
     ]
    },
    {
     "name": "stdout",
     "output_type": "stream",
     "text": [
      "[200]\tcv_agg's l2: 0.176365 + 0.0220269\n",
      "Early stopping, best iteration is:\n",
      "[122]\tcv_agg's l2: 0.158333 + 0.0272746\n"
     ]
    },
    {
     "name": "stderr",
     "output_type": "stream",
     "text": [
      "bagging, val_score: 0.158333:  50%|##########################5                          | 5/10 [00:09<00:09,  2.00s/it][I 2023-11-04 19:54:15,587] Trial 31 finished with value: 0.18071389999822812 and parameters: {'bagging_fraction': 0.6630719232482845, 'bagging_freq': 1}. Best is trial 28 with value: 0.16275253333643297.\n",
      "bagging, val_score: 0.158333:  50%|##########################5                          | 5/10 [00:09<00:09,  2.00s/it]"
     ]
    },
    {
     "name": "stdout",
     "output_type": "stream",
     "text": [
      "[100]\tcv_agg's l2: 0.162083 + 0.025713\n",
      "[200]\tcv_agg's l2: 0.160358 + 0.0239722\n"
     ]
    },
    {
     "name": "stderr",
     "output_type": "stream",
     "text": [
      "bagging, val_score: 0.158333:  60%|###############################8                     | 6/10 [00:12<00:08,  2.18s/it][I 2023-11-04 19:54:18,113] Trial 32 finished with value: 0.16074441026611247 and parameters: {'bagging_fraction': 0.9949768652728099, 'bagging_freq': 4}. Best is trial 32 with value: 0.16074441026611247.\n",
      "bagging, val_score: 0.158333:  60%|###############################8                     | 6/10 [00:12<00:08,  2.18s/it]"
     ]
    },
    {
     "name": "stdout",
     "output_type": "stream",
     "text": [
      "Early stopping, best iteration is:\n",
      "[122]\tcv_agg's l2: 0.158333 + 0.0272746\n",
      "[100]\tcv_agg's l2: 0.185727 + 0.0223372\n"
     ]
    },
    {
     "name": "stderr",
     "output_type": "stream",
     "text": [
      "bagging, val_score: 0.158333:  70%|#####################################                | 7/10 [00:14<00:06,  2.01s/it][I 2023-11-04 19:54:19,773] Trial 33 finished with value: 0.18296764752607814 and parameters: {'bagging_fraction': 0.5727217888655184, 'bagging_freq': 5}. Best is trial 32 with value: 0.16074441026611247.\n",
      "bagging, val_score: 0.158333:  70%|#####################################                | 7/10 [00:14<00:06,  2.01s/it]"
     ]
    },
    {
     "name": "stdout",
     "output_type": "stream",
     "text": [
      "[200]\tcv_agg's l2: 0.178085 + 0.0182503\n",
      "Early stopping, best iteration is:\n",
      "[122]\tcv_agg's l2: 0.158333 + 0.0272746\n",
      "[100]\tcv_agg's l2: 0.172955 + 0.0250372\n",
      "[200]\tcv_agg's l2: 0.167013 + 0.0225842\n"
     ]
    },
    {
     "name": "stderr",
     "output_type": "stream",
     "text": [
      "bagging, val_score: 0.158333:  80%|##########################################4          | 8/10 [00:16<00:04,  2.10s/it][I 2023-11-04 19:54:22,066] Trial 34 finished with value: 0.16873100902040378 and parameters: {'bagging_fraction': 0.8020659302407404, 'bagging_freq': 3}. Best is trial 32 with value: 0.16074441026611247.\n",
      "bagging, val_score: 0.158333:  80%|##########################################4          | 8/10 [00:16<00:04,  2.10s/it]"
     ]
    },
    {
     "name": "stdout",
     "output_type": "stream",
     "text": [
      "Early stopping, best iteration is:\n",
      "[122]\tcv_agg's l2: 0.158333 + 0.0272746\n",
      "[100]\tcv_agg's l2: 0.199443 + 0.0271936\n"
     ]
    },
    {
     "name": "stderr",
     "output_type": "stream",
     "text": [
      "bagging, val_score: 0.158333:  90%|###############################################7     | 9/10 [00:18<00:01,  2.00s/it][I 2023-11-04 19:54:23,833] Trial 35 finished with value: 0.195021110485705 and parameters: {'bagging_fraction': 0.5615734567824784, 'bagging_freq': 2}. Best is trial 32 with value: 0.16074441026611247.\n",
      "bagging, val_score: 0.158333:  90%|###############################################7     | 9/10 [00:18<00:01,  2.00s/it]"
     ]
    },
    {
     "name": "stdout",
     "output_type": "stream",
     "text": [
      "[200]\tcv_agg's l2: 0.189667 + 0.0242885\n",
      "Early stopping, best iteration is:\n",
      "[122]\tcv_agg's l2: 0.158333 + 0.0272746\n",
      "[100]\tcv_agg's l2: 0.168235 + 0.0202722\n",
      "[200]\tcv_agg's l2: 0.16394 + 0.0183074\n"
     ]
    },
    {
     "name": "stderr",
     "output_type": "stream",
     "text": [
      "bagging, val_score: 0.158333: 100%|####################################################| 10/10 [00:20<00:00,  2.18s/it][I 2023-11-04 19:54:26,414] Trial 36 finished with value: 0.16632462426234135 and parameters: {'bagging_fraction': 0.8364559583977094, 'bagging_freq': 6}. Best is trial 32 with value: 0.16074441026611247.\n",
      "bagging, val_score: 0.158333: 100%|####################################################| 10/10 [00:20<00:00,  2.07s/it]\n"
     ]
    },
    {
     "name": "stdout",
     "output_type": "stream",
     "text": [
      "Early stopping, best iteration is:\n",
      "[122]\tcv_agg's l2: 0.158333 + 0.0272746\n"
     ]
    },
    {
     "name": "stderr",
     "output_type": "stream",
     "text": [
      "feature_fraction_stage2, val_score: 0.158333:   0%|                                              | 0/3 [00:00<?, ?it/s]"
     ]
    },
    {
     "name": "stdout",
     "output_type": "stream",
     "text": [
      "[100]\tcv_agg's l2: 0.166486 + 0.0226133\n",
      "[200]\tcv_agg's l2: 0.162785 + 0.0217481\n"
     ]
    },
    {
     "name": "stderr",
     "output_type": "stream",
     "text": [
      "feature_fraction_stage2, val_score: 0.158333:  33%|############6                         | 1/3 [00:02<00:05,  2.63s/it][I 2023-11-04 19:54:29,046] Trial 37 finished with value: 0.16398200378503164 and parameters: {'feature_fraction': 0.44800000000000006}. Best is trial 37 with value: 0.16398200378503164.\n",
      "feature_fraction_stage2, val_score: 0.158333:  33%|############6                         | 1/3 [00:02<00:05,  2.63s/it]"
     ]
    },
    {
     "name": "stdout",
     "output_type": "stream",
     "text": [
      "Early stopping, best iteration is:\n",
      "[122]\tcv_agg's l2: 0.158333 + 0.0272746\n",
      "[100]\tcv_agg's l2: 0.160243 + 0.0272878\n",
      "[200]\tcv_agg's l2: 0.158944 + 0.0260491\n"
     ]
    },
    {
     "name": "stderr",
     "output_type": "stream",
     "text": [
      "feature_fraction_stage2, val_score: 0.158333:  67%|#########################3            | 2/3 [00:05<00:02,  2.64s/it][I 2023-11-04 19:54:31,689] Trial 38 finished with value: 0.15833309621641284 and parameters: {'feature_fraction': 0.41600000000000004}. Best is trial 38 with value: 0.15833309621641284.\n",
      "feature_fraction_stage2, val_score: 0.158333:  67%|#########################3            | 2/3 [00:05<00:02,  2.64s/it]"
     ]
    },
    {
     "name": "stdout",
     "output_type": "stream",
     "text": [
      "Early stopping, best iteration is:\n",
      "[122]\tcv_agg's l2: 0.158333 + 0.0272746\n",
      "[100]\tcv_agg's l2: 0.166486 + 0.0226133\n",
      "[200]\tcv_agg's l2: 0.162785 + 0.0217481\n"
     ]
    },
    {
     "name": "stderr",
     "output_type": "stream",
     "text": [
      "feature_fraction_stage2, val_score: 0.158333: 100%|######################################| 3/3 [00:07<00:00,  2.63s/it][I 2023-11-04 19:54:34,317] Trial 39 finished with value: 0.16398200378503164 and parameters: {'feature_fraction': 0.48000000000000004}. Best is trial 38 with value: 0.15833309621641284.\n",
      "feature_fraction_stage2, val_score: 0.158333: 100%|######################################| 3/3 [00:07<00:00,  2.63s/it]\n"
     ]
    },
    {
     "name": "stdout",
     "output_type": "stream",
     "text": [
      "Early stopping, best iteration is:\n",
      "[122]\tcv_agg's l2: 0.158333 + 0.0272746\n"
     ]
    },
    {
     "name": "stderr",
     "output_type": "stream",
     "text": [
      "regularization_factors, val_score: 0.158333:   0%|                                              | 0/20 [00:00<?, ?it/s]"
     ]
    },
    {
     "name": "stdout",
     "output_type": "stream",
     "text": [
      "[100]\tcv_agg's l2: 0.160048 + 0.0270616\n",
      "[200]\tcv_agg's l2: 0.159133 + 0.0256394\n"
     ]
    },
    {
     "name": "stderr",
     "output_type": "stream",
     "text": [
      "regularization_factors, val_score: 0.158333:   5%|#9                                    | 1/20 [00:03<00:58,  3.10s/it][I 2023-11-04 19:54:37,423] Trial 40 finished with value: 0.1585086299104783 and parameters: {'lambda_l1': 0.00011229993389585989, 'lambda_l2': 1.84819428411661e-05}. Best is trial 40 with value: 0.1585086299104783.\n",
      "regularization_factors, val_score: 0.158333:   5%|#9                                    | 1/20 [00:03<00:58,  3.10s/it]"
     ]
    },
    {
     "name": "stdout",
     "output_type": "stream",
     "text": [
      "Early stopping, best iteration is:\n",
      "[122]\tcv_agg's l2: 0.158333 + 0.0272746\n",
      "[100]\tcv_agg's l2: 0.159914 + 0.0269936\n",
      "[200]\tcv_agg's l2: 0.159793 + 0.0265237\n"
     ]
    },
    {
     "name": "stderr",
     "output_type": "stream",
     "text": [
      "regularization_factors, val_score: 0.158333:  10%|###8                                  | 2/20 [00:06<01:02,  3.49s/it][I 2023-11-04 19:54:41,185] Trial 41 finished with value: 0.15871461442628065 and parameters: {'lambda_l1': 0.00015186965777310552, 'lambda_l2': 9.549236587478671e-06}. Best is trial 40 with value: 0.1585086299104783.\n",
      "regularization_factors, val_score: 0.158333:  10%|###8                                  | 2/20 [00:06<01:02,  3.49s/it]"
     ]
    },
    {
     "name": "stdout",
     "output_type": "stream",
     "text": [
      "Early stopping, best iteration is:\n",
      "[122]\tcv_agg's l2: 0.158333 + 0.0272746\n",
      "[100]\tcv_agg's l2: 0.160037 + 0.0237958\n",
      "[200]\tcv_agg's l2: 0.159344 + 0.023246\n"
     ]
    },
    {
     "name": "stderr",
     "output_type": "stream",
     "text": [
      "regularization_factors, val_score: 0.158245:  15%|#####7                                | 3/20 [00:09<00:55,  3.29s/it][I 2023-11-04 19:54:44,239] Trial 42 finished with value: 0.15824544261519158 and parameters: {'lambda_l1': 2.0223154596549725e-07, 'lambda_l2': 0.08569967816962658}. Best is trial 42 with value: 0.15824544261519158.\n",
      "regularization_factors, val_score: 0.158245:  15%|#####7                                | 3/20 [00:09<00:55,  3.29s/it]"
     ]
    },
    {
     "name": "stdout",
     "output_type": "stream",
     "text": [
      "Early stopping, best iteration is:\n",
      "[150]\tcv_agg's l2: 0.158245 + 0.0221549\n",
      "[100]\tcv_agg's l2: 0.161918 + 0.0231085\n",
      "[200]\tcv_agg's l2: 0.159554 + 0.0229264\n"
     ]
    },
    {
     "name": "stderr",
     "output_type": "stream",
     "text": [
      "regularization_factors, val_score: 0.158245:  20%|#######6                              | 4/20 [00:12<00:49,  3.12s/it][I 2023-11-04 19:54:47,108] Trial 43 finished with value: 0.1597230661216678 and parameters: {'lambda_l1': 1.974208718196375e-08, 'lambda_l2': 0.44187300972582305}. Best is trial 42 with value: 0.15824544261519158.\n",
      "regularization_factors, val_score: 0.158245:  20%|#######6                              | 4/20 [00:12<00:49,  3.12s/it]"
     ]
    },
    {
     "name": "stdout",
     "output_type": "stream",
     "text": [
      "Early stopping, best iteration is:\n",
      "[150]\tcv_agg's l2: 0.158245 + 0.0221549\n",
      "[100]\tcv_agg's l2: 0.161361 + 0.0277594\n",
      "[200]\tcv_agg's l2: 0.159966 + 0.0264766\n"
     ]
    },
    {
     "name": "stderr",
     "output_type": "stream",
     "text": [
      "regularization_factors, val_score: 0.158245:  25%|#########5                            | 5/20 [00:15<00:46,  3.09s/it][I 2023-11-04 19:54:50,126] Trial 44 finished with value: 0.15928558231101309 and parameters: {'lambda_l1': 1.912540172713461e-05, 'lambda_l2': 0.0025344556704933485}. Best is trial 42 with value: 0.15824544261519158.\n",
      "regularization_factors, val_score: 0.158245:  25%|#########5                            | 5/20 [00:15<00:46,  3.09s/it]"
     ]
    },
    {
     "name": "stdout",
     "output_type": "stream",
     "text": [
      "Early stopping, best iteration is:\n",
      "[150]\tcv_agg's l2: 0.158245 + 0.0221549\n",
      "[100]\tcv_agg's l2: 0.168303 + 0.0284082\n",
      "[200]\tcv_agg's l2: 0.162257 + 0.0245621\n"
     ]
    },
    {
     "name": "stderr",
     "output_type": "stream",
     "text": [
      "regularization_factors, val_score: 0.158245:  30%|###########4                          | 6/20 [00:18<00:40,  2.86s/it][I 2023-11-04 19:54:52,542] Trial 45 finished with value: 0.16372710676959285 and parameters: {'lambda_l1': 0.8583821817264734, 'lambda_l2': 1.2772451039874723e-07}. Best is trial 42 with value: 0.15824544261519158.\n",
      "regularization_factors, val_score: 0.158245:  30%|###########4                          | 6/20 [00:18<00:40,  2.86s/it]"
     ]
    },
    {
     "name": "stdout",
     "output_type": "stream",
     "text": [
      "Early stopping, best iteration is:\n",
      "[150]\tcv_agg's l2: 0.158245 + 0.0221549\n",
      "[100]\tcv_agg's l2: 0.173446 + 0.023175\n",
      "[200]\tcv_agg's l2: 0.164113 + 0.0225173\n"
     ]
    },
    {
     "name": "stderr",
     "output_type": "stream",
     "text": [
      "regularization_factors, val_score: 0.158245:  35%|#############3                        | 7/20 [00:20<00:36,  2.83s/it][I 2023-11-04 19:54:55,310] Trial 46 finished with value: 0.166436022313714 and parameters: {'lambda_l1': 2.2271016980676584e-07, 'lambda_l2': 8.693766927867468}. Best is trial 42 with value: 0.15824544261519158.\n",
      "regularization_factors, val_score: 0.158245:  35%|#############3                        | 7/20 [00:20<00:36,  2.83s/it]"
     ]
    },
    {
     "name": "stdout",
     "output_type": "stream",
     "text": [
      "Early stopping, best iteration is:\n",
      "[150]\tcv_agg's l2: 0.158245 + 0.0221549\n",
      "[100]\tcv_agg's l2: 0.159721 + 0.0269877\n",
      "[200]\tcv_agg's l2: 0.158548 + 0.0259902\n"
     ]
    },
    {
     "name": "stderr",
     "output_type": "stream",
     "text": [
      "regularization_factors, val_score: 0.158026:  40%|###############2                      | 8/20 [00:24<00:35,  2.98s/it][I 2023-11-04 19:54:58,622] Trial 47 finished with value: 0.1580260768139428 and parameters: {'lambda_l1': 1.7877833512739676e-06, 'lambda_l2': 0.0015977442512422045}. Best is trial 47 with value: 0.1580260768139428.\n",
      "regularization_factors, val_score: 0.158026:  40%|###############2                      | 8/20 [00:24<00:35,  2.98s/it]"
     ]
    },
    {
     "name": "stdout",
     "output_type": "stream",
     "text": [
      "Early stopping, best iteration is:\n",
      "[187]\tcv_agg's l2: 0.158026 + 0.0256652\n",
      "[100]\tcv_agg's l2: 0.161215 + 0.0277228\n",
      "[200]\tcv_agg's l2: 0.15965 + 0.026508\n"
     ]
    },
    {
     "name": "stderr",
     "output_type": "stream",
     "text": [
      "regularization_factors, val_score: 0.158026:  45%|#################1                    | 9/20 [00:28<00:36,  3.33s/it][I 2023-11-04 19:55:02,708] Trial 48 finished with value: 0.15903472106470276 and parameters: {'lambda_l1': 1.6696116949994363e-06, 'lambda_l2': 0.0025244728855263734}. Best is trial 47 with value: 0.1580260768139428.\n",
      "regularization_factors, val_score: 0.158026:  45%|#################1                    | 9/20 [00:28<00:36,  3.33s/it]"
     ]
    },
    {
     "name": "stdout",
     "output_type": "stream",
     "text": [
      "Early stopping, best iteration is:\n",
      "[187]\tcv_agg's l2: 0.158026 + 0.0256652\n",
      "[100]\tcv_agg's l2: 0.16003 + 0.0274317\n",
      "[200]\tcv_agg's l2: 0.158871 + 0.0261923\n"
     ]
    },
    {
     "name": "stderr",
     "output_type": "stream",
     "text": [
      "regularization_factors, val_score: 0.158026:  50%|##################5                  | 10/20 [00:32<00:34,  3.49s/it][I 2023-11-04 19:55:06,558] Trial 49 finished with value: 0.1585081658061571 and parameters: {'lambda_l1': 3.6355744032926532e-06, 'lambda_l2': 0.00012047369805331816}. Best is trial 47 with value: 0.1580260768139428.\n",
      "regularization_factors, val_score: 0.158026:  50%|##################5                  | 10/20 [00:32<00:34,  3.49s/it]"
     ]
    },
    {
     "name": "stdout",
     "output_type": "stream",
     "text": [
      "Early stopping, best iteration is:\n",
      "[187]\tcv_agg's l2: 0.158026 + 0.0256652\n",
      "[100]\tcv_agg's l2: 0.162313 + 0.0263012\n",
      "[200]\tcv_agg's l2: 0.161654 + 0.0257281\n"
     ]
    },
    {
     "name": "stderr",
     "output_type": "stream",
     "text": [
      "regularization_factors, val_score: 0.158026:  55%|####################3                | 11/20 [00:35<00:31,  3.50s/it][I 2023-11-04 19:55:10,092] Trial 50 finished with value: 0.16103773323077503 and parameters: {'lambda_l1': 8.010024756773835e-07, 'lambda_l2': 0.03077073400814494}. Best is trial 47 with value: 0.1580260768139428.\n",
      "regularization_factors, val_score: 0.158026:  55%|####################3                | 11/20 [00:35<00:31,  3.50s/it]"
     ]
    },
    {
     "name": "stdout",
     "output_type": "stream",
     "text": [
      "Early stopping, best iteration is:\n",
      "[187]\tcv_agg's l2: 0.158026 + 0.0256652\n",
      "[100]\tcv_agg's l2: 0.16003 + 0.0274317\n",
      "[200]\tcv_agg's l2: 0.158901 + 0.0261904\n"
     ]
    },
    {
     "name": "stderr",
     "output_type": "stream",
     "text": [
      "regularization_factors, val_score: 0.158026:  60%|######################2              | 12/20 [00:39<00:28,  3.52s/it][I 2023-11-04 19:55:13,657] Trial 51 finished with value: 0.15869613165640756 and parameters: {'lambda_l1': 1.1596462468114614e-05, 'lambda_l2': 5.896612298683202e-05}. Best is trial 47 with value: 0.1580260768139428.\n",
      "regularization_factors, val_score: 0.158026:  60%|######################2              | 12/20 [00:39<00:28,  3.52s/it]"
     ]
    },
    {
     "name": "stdout",
     "output_type": "stream",
     "text": [
      "Early stopping, best iteration is:\n",
      "[187]\tcv_agg's l2: 0.158026 + 0.0256652\n",
      "[100]\tcv_agg's l2: 0.160557 + 0.0282409\n",
      "[200]\tcv_agg's l2: 0.158643 + 0.0271244\n"
     ]
    },
    {
     "name": "stderr",
     "output_type": "stream",
     "text": [
      "regularization_factors, val_score: 0.158000:  65%|########################             | 13/20 [00:42<00:23,  3.40s/it][I 2023-11-04 19:55:16,783] Trial 52 finished with value: 0.15800004744936075 and parameters: {'lambda_l1': 0.00064267284512997, 'lambda_l2': 7.316514618368992e-05}. Best is trial 52 with value: 0.15800004744936075.\n",
      "regularization_factors, val_score: 0.158000:  65%|########################             | 13/20 [00:42<00:23,  3.40s/it]"
     ]
    },
    {
     "name": "stdout",
     "output_type": "stream",
     "text": [
      "Early stopping, best iteration is:\n",
      "[166]\tcv_agg's l2: 0.158 + 0.026503\n",
      "[100]\tcv_agg's l2: 0.159494 + 0.0276053\n",
      "[200]\tcv_agg's l2: 0.157642 + 0.0261685\n"
     ]
    },
    {
     "name": "stderr",
     "output_type": "stream",
     "text": [
      "regularization_factors, val_score: 0.156816:  70%|#########################9           | 14/20 [00:45<00:19,  3.33s/it][I 2023-11-04 19:55:19,947] Trial 53 finished with value: 0.15681586447184173 and parameters: {'lambda_l1': 0.0038655747042938846, 'lambda_l2': 0.0006085495969988751}. Best is trial 53 with value: 0.15681586447184173.\n",
      "regularization_factors, val_score: 0.156816:  70%|#########################9           | 14/20 [00:45<00:19,  3.33s/it]"
     ]
    },
    {
     "name": "stdout",
     "output_type": "stream",
     "text": [
      "Early stopping, best iteration is:\n",
      "[166]\tcv_agg's l2: 0.156816 + 0.0259966\n",
      "[100]\tcv_agg's l2: 0.160672 + 0.026858\n",
      "[200]\tcv_agg's l2: 0.159011 + 0.0257309\n"
     ]
    },
    {
     "name": "stderr",
     "output_type": "stream",
     "text": [
      "regularization_factors, val_score: 0.156816:  75%|###########################7         | 15/20 [00:48<00:16,  3.30s/it][I 2023-11-04 19:55:23,163] Trial 54 finished with value: 0.1590004970231306 and parameters: {'lambda_l1': 0.005095676911364176, 'lambda_l2': 0.0025548971225527713}. Best is trial 53 with value: 0.15681586447184173.\n",
      "regularization_factors, val_score: 0.156816:  75%|###########################7         | 15/20 [00:48<00:16,  3.30s/it]"
     ]
    },
    {
     "name": "stdout",
     "output_type": "stream",
     "text": [
      "Early stopping, best iteration is:\n",
      "[166]\tcv_agg's l2: 0.156816 + 0.0259966\n",
      "[100]\tcv_agg's l2: 0.159749 + 0.0239952\n",
      "[200]\tcv_agg's l2: 0.157751 + 0.0219422\n"
     ]
    },
    {
     "name": "stderr",
     "output_type": "stream",
     "text": [
      "regularization_factors, val_score: 0.156816:  80%|#############################6       | 16/20 [00:52<00:13,  3.28s/it][I 2023-11-04 19:55:26,402] Trial 55 finished with value: 0.15737746477188225 and parameters: {'lambda_l1': 0.004209191160140236, 'lambda_l2': 0.04199093464886918}. Best is trial 53 with value: 0.15681586447184173.\n",
      "regularization_factors, val_score: 0.156816:  80%|#############################6       | 16/20 [00:52<00:13,  3.28s/it]"
     ]
    },
    {
     "name": "stdout",
     "output_type": "stream",
     "text": [
      "Early stopping, best iteration is:\n",
      "[166]\tcv_agg's l2: 0.156816 + 0.0259966\n",
      "[100]\tcv_agg's l2: 0.161613 + 0.026362\n",
      "[200]\tcv_agg's l2: 0.159493 + 0.0247393\n"
     ]
    },
    {
     "name": "stderr",
     "output_type": "stream",
     "text": [
      "regularization_factors, val_score: 0.156816:  85%|###############################4     | 17/20 [00:55<00:09,  3.19s/it][I 2023-11-04 19:55:29,398] Trial 56 finished with value: 0.159246067467113 and parameters: {'lambda_l1': 0.0017460055502991393, 'lambda_l2': 0.05171006590441727}. Best is trial 53 with value: 0.15681586447184173.\n",
      "regularization_factors, val_score: 0.156816:  85%|###############################4     | 17/20 [00:55<00:09,  3.19s/it]"
     ]
    },
    {
     "name": "stdout",
     "output_type": "stream",
     "text": [
      "Early stopping, best iteration is:\n",
      "[166]\tcv_agg's l2: 0.156816 + 0.0259966\n",
      "[100]\tcv_agg's l2: 0.159494 + 0.0276051\n",
      "[200]\tcv_agg's l2: 0.157392 + 0.025761\n"
     ]
    },
    {
     "name": "stderr",
     "output_type": "stream",
     "text": [
      "regularization_factors, val_score: 0.156622:  90%|#################################3   | 18/20 [00:58<00:06,  3.34s/it][I 2023-11-04 19:55:33,069] Trial 57 finished with value: 0.15662248164494846 and parameters: {'lambda_l1': 0.0038249872169225855, 'lambda_l2': 0.0007868863371538626}. Best is trial 57 with value: 0.15662248164494846.\n",
      "regularization_factors, val_score: 0.156622:  90%|#################################3   | 18/20 [00:58<00:06,  3.34s/it]"
     ]
    },
    {
     "name": "stdout",
     "output_type": "stream",
     "text": [
      "Early stopping, best iteration is:\n",
      "[166]\tcv_agg's l2: 0.156622 + 0.0259806\n",
      "[100]\tcv_agg's l2: 0.160205 + 0.0270267\n",
      "[200]\tcv_agg's l2: 0.158367 + 0.0257289\n"
     ]
    },
    {
     "name": "stderr",
     "output_type": "stream",
     "text": [
      "regularization_factors, val_score: 0.156622:  95%|###################################1 | 19/20 [01:02<00:03,  3.34s/it][I 2023-11-04 19:55:36,416] Trial 58 finished with value: 0.15824391856685344 and parameters: {'lambda_l1': 0.007565109222906078, 'lambda_l2': 0.0005113639030051342}. Best is trial 57 with value: 0.15662248164494846.\n",
      "regularization_factors, val_score: 0.156622:  95%|###################################1 | 19/20 [01:02<00:03,  3.34s/it]"
     ]
    },
    {
     "name": "stdout",
     "output_type": "stream",
     "text": [
      "Early stopping, best iteration is:\n",
      "[166]\tcv_agg's l2: 0.156622 + 0.0259806\n",
      "[100]\tcv_agg's l2: 0.159497 + 0.0262938\n",
      "[200]\tcv_agg's l2: 0.157989 + 0.0263421\n"
     ]
    },
    {
     "name": "stderr",
     "output_type": "stream",
     "text": [
      "regularization_factors, val_score: 0.156622: 100%|#####################################| 20/20 [01:05<00:00,  3.33s/it][I 2023-11-04 19:55:39,733] Trial 59 finished with value: 0.1576408691745352 and parameters: {'lambda_l1': 0.005596086128726839, 'lambda_l2': 0.0005041853986750467}. Best is trial 57 with value: 0.15662248164494846.\n",
      "regularization_factors, val_score: 0.156622: 100%|#####################################| 20/20 [01:05<00:00,  3.27s/it]\n"
     ]
    },
    {
     "name": "stdout",
     "output_type": "stream",
     "text": [
      "Early stopping, best iteration is:\n",
      "[166]\tcv_agg's l2: 0.156622 + 0.0259806\n"
     ]
    },
    {
     "name": "stderr",
     "output_type": "stream",
     "text": [
      "min_data_in_leaf, val_score: 0.156622:   0%|                                                     | 0/5 [00:00<?, ?it/s]"
     ]
    },
    {
     "name": "stdout",
     "output_type": "stream",
     "text": [
      "[100]\tcv_agg's l2: 0.144356 + 0.0210213\n",
      "[200]\tcv_agg's l2: 0.142142 + 0.0197487\n"
     ]
    },
    {
     "name": "stderr",
     "output_type": "stream",
     "text": [
      "min_data_in_leaf, val_score: 0.141772:  20%|#########                                    | 1/5 [00:03<00:13,  3.36s/it][I 2023-11-04 19:55:43,102] Trial 60 finished with value: 0.1417721867946073 and parameters: {'min_child_samples': 5}. Best is trial 60 with value: 0.1417721867946073.\n",
      "min_data_in_leaf, val_score: 0.141772:  20%|#########                                    | 1/5 [00:03<00:13,  3.36s/it]"
     ]
    },
    {
     "name": "stdout",
     "output_type": "stream",
     "text": [
      "Early stopping, best iteration is:\n",
      "[159]\tcv_agg's l2: 0.141772 + 0.0198507\n",
      "[100]\tcv_agg's l2: 0.736689 + 0.104169\n"
     ]
    },
    {
     "name": "stderr",
     "output_type": "stream",
     "text": [
      "\r",
      "min_data_in_leaf, val_score: 0.141772:  20%|#########                                    | 1/5 [00:04<00:13,  3.36s/it]"
     ]
    },
    {
     "name": "stdout",
     "output_type": "stream",
     "text": [
      "[200]\tcv_agg's l2: 0.714035 + 0.107883\n",
      "Early stopping, best iteration is:\n",
      "[159]\tcv_agg's l2: 0.141772 + 0.0198507\n"
     ]
    },
    {
     "name": "stderr",
     "output_type": "stream",
     "text": [
      "min_data_in_leaf, val_score: 0.141772:  40%|##################                           | 2/5 [00:04<00:05,  1.93s/it][I 2023-11-04 19:55:44,031] Trial 61 finished with value: 0.7210978433648203 and parameters: {'min_child_samples': 100}. Best is trial 60 with value: 0.1417721867946073.\n",
      "min_data_in_leaf, val_score: 0.141772:  40%|##################                           | 2/5 [00:04<00:05,  1.93s/it]"
     ]
    },
    {
     "name": "stdout",
     "output_type": "stream",
     "text": [
      "[100]\tcv_agg's l2: 0.14552 + 0.0200967\n",
      "[200]\tcv_agg's l2: 0.142055 + 0.0197174\n",
      "[300]\tcv_agg's l2: 0.142084 + 0.0198998\n"
     ]
    },
    {
     "name": "stderr",
     "output_type": "stream",
     "text": [
      "min_data_in_leaf, val_score: 0.141520:  60%|###########################                  | 3/5 [00:08<00:06,  3.07s/it][I 2023-11-04 19:55:48,464] Trial 62 finished with value: 0.1415195579306136 and parameters: {'min_child_samples': 10}. Best is trial 62 with value: 0.1415195579306136.\n",
      "min_data_in_leaf, val_score: 0.141520:  60%|###########################                  | 3/5 [00:08<00:06,  3.07s/it]"
     ]
    },
    {
     "name": "stdout",
     "output_type": "stream",
     "text": [
      "Early stopping, best iteration is:\n",
      "[244]\tcv_agg's l2: 0.14152 + 0.0200423\n",
      "[100]\tcv_agg's l2: 0.173878 + 0.0273446\n",
      "[200]\tcv_agg's l2: 0.168858 + 0.0231303\n",
      "[300]\tcv_agg's l2: 0.168382 + 0.0230387\n"
     ]
    },
    {
     "name": "stderr",
     "output_type": "stream",
     "text": [
      "min_data_in_leaf, val_score: 0.141520:  80%|####################################         | 4/5 [00:12<00:03,  3.41s/it][I 2023-11-04 19:55:52,398] Trial 63 finished with value: 0.1677795235231208 and parameters: {'min_child_samples': 25}. Best is trial 62 with value: 0.1415195579306136.\n",
      "min_data_in_leaf, val_score: 0.141520:  80%|####################################         | 4/5 [00:12<00:03,  3.41s/it]"
     ]
    },
    {
     "name": "stdout",
     "output_type": "stream",
     "text": [
      "Early stopping, best iteration is:\n",
      "[244]\tcv_agg's l2: 0.14152 + 0.0200423\n",
      "[100]\tcv_agg's l2: 0.236154 + 0.0268227\n",
      "[200]\tcv_agg's l2: 0.220156 + 0.0321847\n",
      "[300]\tcv_agg's l2: 0.215861 + 0.0346807\n"
     ]
    },
    {
     "name": "stderr",
     "output_type": "stream",
     "text": [
      "min_data_in_leaf, val_score: 0.141520: 100%|#############################################| 5/5 [00:14<00:00,  2.92s/it][I 2023-11-04 19:55:54,445] Trial 64 finished with value: 0.2185065798935998 and parameters: {'min_child_samples': 50}. Best is trial 62 with value: 0.1415195579306136.\n",
      "min_data_in_leaf, val_score: 0.141520: 100%|#############################################| 5/5 [00:14<00:00,  2.94s/it]"
     ]
    },
    {
     "name": "stdout",
     "output_type": "stream",
     "text": [
      "Early stopping, best iteration is:\n",
      "[244]\tcv_agg's l2: 0.14152 + 0.0200423\n"
     ]
    },
    {
     "name": "stderr",
     "output_type": "stream",
     "text": [
      "\n"
     ]
    }
   ],
   "source": [
    "import optuna.integration.lightgbm as lgb\n",
    "from lightgbm import early_stopping, log_evaluation\n",
    "from sklearn.model_selection import KFold\n",
    "from sklearn.model_selection import RepeatedKFold\n",
    "\n",
    "\n",
    "lgb_train = lgb.Dataset(X_train, y_train)\n",
    "\n",
    "params = {\n",
    "    \"boosting_type\": \"gbdt\",\n",
    "    \"objective\": \"regression\",\n",
    "    \"metric\": \"l2\",\n",
    "    \"verbosity\": -1,\n",
    "}\n",
    "\n",
    "tuner = lgb.LightGBMTunerCV(\n",
    "    params,\n",
    "    lgb_train,\n",
    "    folds=KFold(n_splits=5),\n",
    "    num_boost_round=10000,\n",
    "    callbacks=[early_stopping(100), log_evaluation(100)],\n",
    ")\n",
    "\n",
    "tuner.run()"
   ]
  },
  {
   "cell_type": "code",
   "execution_count": 72,
   "id": "8406fc3e",
   "metadata": {},
   "outputs": [
    {
     "name": "stdout",
     "output_type": "stream",
     "text": [
      "Best score: 0.1415195579306136\n",
      "Params: \n",
      "    boosting_type: gbdt\n",
      "    objective: regression\n",
      "    metric: l2\n",
      "    verbosity: -1\n",
      "    feature_pre_filter: False\n",
      "    lambda_l1: 0.0038249872169225855\n",
      "    lambda_l2: 0.0007868863371538626\n",
      "    num_leaves: 23\n",
      "    feature_fraction: 0.4\n",
      "    bagging_fraction: 1.0\n",
      "    bagging_freq: 0\n",
      "    min_child_samples: 10\n"
     ]
    }
   ],
   "source": [
    "print(f\"Best score: {tuner.best_score}\")\n",
    "best_params = tuner.best_params\n",
    "print(\"Params: \")\n",
    "for key, value in best_params.items():\n",
    "    print(\"    {}: {}\".format(key, value))"
   ]
  },
  {
   "cell_type": "code",
   "execution_count": 73,
   "id": "880974ce",
   "metadata": {},
   "outputs": [],
   "source": [
    "import lightgbm as lgb\n",
    "\n",
    "lgb_tuned = lgb.train(\n",
    "    best_params,\n",
    "    lgb_train,\n",
    "    num_boost_round=10000,\n",
    ")"
   ]
  },
  {
   "cell_type": "code",
   "execution_count": 74,
   "id": "53d87b2c",
   "metadata": {},
   "outputs": [
    {
     "name": "stdout",
     "output_type": "stream",
     "text": [
      "RMSE train: 0.00\n",
      "RMSE test: 0.46\n",
      "MSE test: 0.21\n",
      "MAE test: 0.33\n",
      "\n"
     ]
    }
   ],
   "source": [
    "rmse, mse, mae = assess_regression_model(lgb_tuned, X_train, X_test, y_train, y_test)"
   ]
  },
  {
   "cell_type": "code",
   "execution_count": 75,
   "id": "843255bc",
   "metadata": {},
   "outputs": [],
   "source": [
    "results.loc[1] = [\n",
    "    \"chronological\",\n",
    "    \"Optuna\",\n",
    "    \"expanded\",\n",
    "    mse,\n",
    "    rmse,\n",
    "    mae,\n",
    "]"
   ]
  },
  {
   "cell_type": "markdown",
   "id": "1c9ef70d",
   "metadata": {},
   "source": [
    "###### MAE by level"
   ]
  },
  {
   "cell_type": "code",
   "execution_count": 76,
   "id": "eab77fc8",
   "metadata": {},
   "outputs": [
    {
     "data": {
      "image/png": "[encoded data removed]",
      "text/plain": [
       "<Figure size 720x432 with 1 Axes>"
      ]
     },
     "metadata": {
      "needs_background": "light"
     },
     "output_type": "display_data"
    }
   ],
   "source": [
    "plot_mae_by_level(\n",
    "    y_test,\n",
    "    y_pred_test,\n",
    "    title=\"MAE by level for tuned LightGBM with expanded features and chronological split\",\n",
    ")"
   ]
  },
  {
   "cell_type": "code",
   "execution_count": 77,
   "id": "778f84c5",
   "metadata": {},
   "outputs": [
    {
     "name": "stdout",
     "output_type": "stream",
     "text": [
      "Normal:\n",
      "MSE: 0.21\n",
      "RMSE: 0.46\n",
      "\n",
      "Round type: round\n",
      "MSE: 0.24\n",
      "RMSE: 0.49\n",
      "\n",
      "Round type: 0.33\n",
      "MSE: 0.25\n",
      "RMSE: 0.50\n",
      "\n",
      "Round type: 0.45\n",
      "MSE: 0.24\n",
      "RMSE: 0.49\n",
      "\n"
     ]
    }
   ],
   "source": [
    "predict = lgb_tuned.predict(X_test)\n",
    "check_round_predictions([\"round\", 0.33, 0.45], y_test, predict)"
   ]
  },
  {
   "cell_type": "code",
   "execution_count": 78,
   "id": "7823441a",
   "metadata": {},
   "outputs": [
    {
     "data": {
      "image/png": "[encoded data removed]",
      "text/plain": [
       "<Figure size 432x288 with 2 Axes>"
      ]
     },
     "metadata": {
      "needs_background": "light"
     },
     "output_type": "display_data"
    }
   ],
   "source": [
    "plot_confusion_matrix(\n",
    "    \"round\",\n",
    "    predict,\n",
    "    y_test,\n",
    "    title=\"Confusion matrix for tuned LightGBM with expanded features and chronological split\",\n",
    ")"
   ]
  },
  {
   "cell_type": "markdown",
   "id": "35088cc9",
   "metadata": {},
   "source": [
    "## Random split"
   ]
  },
  {
   "cell_type": "code",
   "execution_count": 79,
   "id": "692c4056",
   "metadata": {},
   "outputs": [
    {
     "name": "stdout",
     "output_type": "stream",
     "text": [
      "[LightGBM] [Warning] Auto-choosing row-wise multi-threading, the overhead of testing was 0.000425 seconds.\n",
      "You can set `force_row_wise=true` to remove the overhead.\n",
      "And if memory is not enough, you can set `force_col_wise=true`.\n",
      "[LightGBM] [Info] Total Bins 392\n",
      "[LightGBM] [Info] Number of data points in the train set: 904, number of used features: 13\n",
      "[LightGBM] [Info] Start training from score 7.162611\n",
      "Training until validation scores don't improve for 5 rounds\n",
      "Early stopping, best iteration is:\n",
      "[88]\tvalid_0's l1: 0.267273\tvalid_0's l2: 0.148111\n"
     ]
    }
   ],
   "source": [
    "import lightgbm as lgb\n",
    "from sklearn.metrics import mean_squared_error\n",
    "\n",
    "lgb_train = lgb.Dataset(X_train_random_split, y_train_random_split)\n",
    "lgb_eval = lgb.Dataset(X_test_random_split, y_test_random_split, reference=lgb_train)\n",
    "\n",
    "params = {\n",
    "    \"boosting_type\": \"gbdt\",\n",
    "    \"objective\": \"regression\",\n",
    "    \"metric\": {\"l2\", \"l1\"},\n",
    "}\n",
    "\n",
    "gbm = lgb.train(\n",
    "    params,\n",
    "    lgb_train,\n",
    "    num_boost_round=100,\n",
    "    valid_sets=lgb_eval,\n",
    "    callbacks=[lgb.early_stopping(stopping_rounds=5)],\n",
    ")"
   ]
  },
  {
   "cell_type": "code",
   "execution_count": 80,
   "id": "24879a40",
   "metadata": {},
   "outputs": [],
   "source": [
    "y_pred_train = gbm.predict(X_train_random_split, num_iteration=gbm.best_iteration)\n",
    "y_pred_test = gbm.predict(X_test_random_split, num_iteration=gbm.best_iteration)"
   ]
  },
  {
   "cell_type": "code",
   "execution_count": 81,
   "id": "b5a760c1",
   "metadata": {},
   "outputs": [
    {
     "name": "stdout",
     "output_type": "stream",
     "text": [
      "MSE: 0.15\n",
      "RMSE: 0.38\n",
      "MAE: 0.27\n"
     ]
    }
   ],
   "source": [
    "from sklearn.metrics import mean_squared_error, mean_absolute_error\n",
    "\n",
    "\n",
    "mse = mean_squared_error(y_test_random_split, y_pred_test)\n",
    "rmse = mean_squared_error(y_test_random_split, y_pred_test, squared=False)\n",
    "mae = mean_absolute_error(y_test_random_split, y_pred_test)\n",
    "\n",
    "print(f\"MSE: {mse:.2f}\")\n",
    "print(f\"RMSE: {rmse:.2f}\")\n",
    "print(f\"MAE: {mae:.2f}\")"
   ]
  },
  {
   "cell_type": "code",
   "execution_count": 82,
   "id": "a52e182e",
   "metadata": {},
   "outputs": [],
   "source": [
    "results.loc[2] = [\"random\", \"default\", \"expanded\", mse, rmse, mae]"
   ]
  },
  {
   "cell_type": "markdown",
   "id": "17a44a91",
   "metadata": {},
   "source": [
    "###### MAE by level"
   ]
  },
  {
   "cell_type": "code",
   "execution_count": 83,
   "id": "180f64e4",
   "metadata": {},
   "outputs": [
    {
     "data": {
      "image/png": "[encoded data removed]",
      "text/plain": [
       "<Figure size 720x432 with 1 Axes>"
      ]
     },
     "metadata": {
      "needs_background": "light"
     },
     "output_type": "display_data"
    }
   ],
   "source": [
    "plot_mae_by_level(\n",
    "    y_test_random_split,\n",
    "    y_pred_test,\n",
    "    title=\"MAE by level for default LightGBM with expanded features and random split\",\n",
    ")"
   ]
  },
  {
   "cell_type": "code",
   "execution_count": 84,
   "id": "b42be07c",
   "metadata": {},
   "outputs": [
    {
     "name": "stdout",
     "output_type": "stream",
     "text": [
      "Normal:\n",
      "MSE: 0.15\n",
      "RMSE: 0.38\n",
      "\n",
      "Round type: round\n",
      "MSE: 0.15\n",
      "RMSE: 0.39\n",
      "\n",
      "Round type: 0.33\n",
      "MSE: 0.21\n",
      "RMSE: 0.45\n",
      "\n",
      "Round type: 0.45\n",
      "MSE: 0.17\n",
      "RMSE: 0.41\n",
      "\n"
     ]
    }
   ],
   "source": [
    "check_round_predictions([\"round\", 0.33, 0.45], y_test_random_split, y_pred_test)"
   ]
  },
  {
   "cell_type": "code",
   "execution_count": 85,
   "id": "79174d21",
   "metadata": {},
   "outputs": [
    {
     "data": {
      "image/png": "[encoded data removed]",
      "text/plain": [
       "<Figure size 432x288 with 2 Axes>"
      ]
     },
     "metadata": {
      "needs_background": "light"
     },
     "output_type": "display_data"
    }
   ],
   "source": [
    "plot_confusion_matrix(\n",
    "    \"round\",\n",
    "    y_pred_test,\n",
    "    y_test_random_split,\n",
    "    title=\"Confusion matrix for default LightGBM with expanded features and random split\",\n",
    ")"
   ]
  },
  {
   "cell_type": "markdown",
   "id": "79bbd5ec",
   "metadata": {},
   "source": [
    "### Tuning"
   ]
  },
  {
   "cell_type": "code",
   "execution_count": 86,
   "id": "62270e6b",
   "metadata": {
    "scrolled": true
   },
   "outputs": [
    {
     "name": "stderr",
     "output_type": "stream",
     "text": [
      "[I 2023-11-04 19:56:14,100] A new study created in memory with name: no-name-dfe7237d-bef8-40c1-a1b2-e9e48df9fa12\n",
      "feature_fraction, val_score: inf:   0%|                                                          | 0/7 [00:00<?, ?it/s]"
     ]
    },
    {
     "name": "stdout",
     "output_type": "stream",
     "text": [
      "Training until validation scores don't improve for 100 rounds\n",
      "[100]\tcv_agg's l2: 0.17843 + 0.0475402\n",
      "[200]\tcv_agg's l2: 0.176202 + 0.0443822\n"
     ]
    },
    {
     "name": "stderr",
     "output_type": "stream",
     "text": [
      "feature_fraction, val_score: 0.176027:  14%|######4                                      | 1/7 [00:04<00:24,  4.12s/it][I 2023-11-04 19:56:18,229] Trial 0 finished with value: 0.1760269240174964 and parameters: {'feature_fraction': 0.5}. Best is trial 0 with value: 0.1760269240174964.\n",
      "feature_fraction, val_score: 0.176027:  14%|######4                                      | 1/7 [00:04<00:24,  4.12s/it]"
     ]
    },
    {
     "name": "stdout",
     "output_type": "stream",
     "text": [
      "[300]\tcv_agg's l2: 0.177334 + 0.0439612\n",
      "Early stopping, best iteration is:\n",
      "[211]\tcv_agg's l2: 0.176027 + 0.0441033\n",
      "[100]\tcv_agg's l2: 0.193498 + 0.0481775\n",
      "[200]\tcv_agg's l2: 0.191187 + 0.0444983\n"
     ]
    },
    {
     "name": "stderr",
     "output_type": "stream",
     "text": [
      "feature_fraction, val_score: 0.176027:  29%|############8                                | 2/7 [00:08<00:20,  4.19s/it][I 2023-11-04 19:56:22,475] Trial 1 finished with value: 0.1910700492734667 and parameters: {'feature_fraction': 0.7}. Best is trial 0 with value: 0.1760269240174964.\n",
      "feature_fraction, val_score: 0.176027:  29%|############8                                | 2/7 [00:08<00:20,  4.19s/it]"
     ]
    },
    {
     "name": "stdout",
     "output_type": "stream",
     "text": [
      "[300]\tcv_agg's l2: 0.191962 + 0.0433211\n",
      "Early stopping, best iteration is:\n",
      "[211]\tcv_agg's l2: 0.176027 + 0.0441033\n",
      "[100]\tcv_agg's l2: 0.178675 + 0.0455247\n",
      "[200]\tcv_agg's l2: 0.178056 + 0.0429543\n"
     ]
    },
    {
     "name": "stderr",
     "output_type": "stream",
     "text": [
      "feature_fraction, val_score: 0.176027:  43%|###################2                         | 3/7 [00:12<00:17,  4.32s/it][I 2023-11-04 19:56:26,940] Trial 2 finished with value: 0.17818191116225665 and parameters: {'feature_fraction': 0.6}. Best is trial 0 with value: 0.1760269240174964.\n",
      "feature_fraction, val_score: 0.176027:  43%|###################2                         | 3/7 [00:12<00:17,  4.32s/it]"
     ]
    },
    {
     "name": "stdout",
     "output_type": "stream",
     "text": [
      "[300]\tcv_agg's l2: 0.17887 + 0.041101\n",
      "Early stopping, best iteration is:\n",
      "[211]\tcv_agg's l2: 0.176027 + 0.0441033\n",
      "[100]\tcv_agg's l2: 0.189366 + 0.0477434\n",
      "[200]\tcv_agg's l2: 0.186178 + 0.0437624\n"
     ]
    },
    {
     "name": "stderr",
     "output_type": "stream",
     "text": [
      "feature_fraction, val_score: 0.176027:  57%|#########################7                   | 4/7 [00:17<00:13,  4.35s/it][I 2023-11-04 19:56:31,342] Trial 3 finished with value: 0.1860916477343148 and parameters: {'feature_fraction': 0.8}. Best is trial 0 with value: 0.1760269240174964.\n",
      "feature_fraction, val_score: 0.176027:  57%|#########################7                   | 4/7 [00:17<00:13,  4.35s/it]"
     ]
    },
    {
     "name": "stdout",
     "output_type": "stream",
     "text": [
      "[300]\tcv_agg's l2: 0.186775 + 0.0423966\n",
      "Early stopping, best iteration is:\n",
      "[211]\tcv_agg's l2: 0.176027 + 0.0441033\n",
      "[100]\tcv_agg's l2: 0.193746 + 0.0445184\n",
      "[200]\tcv_agg's l2: 0.189696 + 0.0411612\n"
     ]
    },
    {
     "name": "stderr",
     "output_type": "stream",
     "text": [
      "feature_fraction, val_score: 0.176027:  71%|################################1            | 5/7 [00:23<00:09,  4.97s/it][I 2023-11-04 19:56:37,409] Trial 4 finished with value: 0.18935812186103826 and parameters: {'feature_fraction': 1.0}. Best is trial 0 with value: 0.1760269240174964.\n",
      "feature_fraction, val_score: 0.176027:  71%|################################1            | 5/7 [00:23<00:09,  4.97s/it]"
     ]
    },
    {
     "name": "stdout",
     "output_type": "stream",
     "text": [
      "[300]\tcv_agg's l2: 0.18996 + 0.0395298\n",
      "Early stopping, best iteration is:\n",
      "[211]\tcv_agg's l2: 0.176027 + 0.0441033\n",
      "[100]\tcv_agg's l2: 0.167619 + 0.0306238\n",
      "[200]\tcv_agg's l2: 0.166308 + 0.0282845\n"
     ]
    },
    {
     "name": "stderr",
     "output_type": "stream",
     "text": [
      "feature_fraction, val_score: 0.165822:  86%|######################################5      | 6/7 [00:26<00:04,  4.52s/it][I 2023-11-04 19:56:41,068] Trial 5 finished with value: 0.16582157302022343 and parameters: {'feature_fraction': 0.4}. Best is trial 5 with value: 0.16582157302022343.\n",
      "feature_fraction, val_score: 0.165822:  86%|######################################5      | 6/7 [00:26<00:04,  4.52s/it]"
     ]
    },
    {
     "name": "stdout",
     "output_type": "stream",
     "text": [
      "Early stopping, best iteration is:\n",
      "[166]\tcv_agg's l2: 0.165822 + 0.0285272\n",
      "[100]\tcv_agg's l2: 0.189919 + 0.0468699\n",
      "[200]\tcv_agg's l2: 0.187937 + 0.0444818\n"
     ]
    },
    {
     "name": "stderr",
     "output_type": "stream",
     "text": [
      "feature_fraction, val_score: 0.165822: 100%|#############################################| 7/7 [00:30<00:00,  4.27s/it][I 2023-11-04 19:56:44,802] Trial 6 finished with value: 0.18765523232429426 and parameters: {'feature_fraction': 0.8999999999999999}. Best is trial 5 with value: 0.16582157302022343.\n",
      "feature_fraction, val_score: 0.165822: 100%|#############################################| 7/7 [00:30<00:00,  4.39s/it]\n"
     ]
    },
    {
     "name": "stdout",
     "output_type": "stream",
     "text": [
      "Early stopping, best iteration is:\n",
      "[166]\tcv_agg's l2: 0.165822 + 0.0285272\n"
     ]
    },
    {
     "name": "stderr",
     "output_type": "stream",
     "text": [
      "num_leaves, val_score: 0.165822:   0%|                                                          | 0/20 [00:00<?, ?it/s]"
     ]
    },
    {
     "name": "stdout",
     "output_type": "stream",
     "text": [
      "[100]\tcv_agg's l2: 0.167619 + 0.0306238\n",
      "[200]\tcv_agg's l2: 0.166308 + 0.0282845\n"
     ]
    },
    {
     "name": "stderr",
     "output_type": "stream",
     "text": [
      "num_leaves, val_score: 0.165822:   5%|##5                                               | 1/20 [00:03<01:07,  3.56s/it][I 2023-11-04 19:56:48,370] Trial 7 finished with value: 0.16582157302022343 and parameters: {'num_leaves': 250}. Best is trial 7 with value: 0.16582157302022343.\n",
      "num_leaves, val_score: 0.165822:   5%|##5                                               | 1/20 [00:03<01:07,  3.56s/it]"
     ]
    },
    {
     "name": "stdout",
     "output_type": "stream",
     "text": [
      "Early stopping, best iteration is:\n",
      "[166]\tcv_agg's l2: 0.165822 + 0.0285272\n",
      "[100]\tcv_agg's l2: 0.167619 + 0.0306238\n",
      "[200]\tcv_agg's l2: 0.166308 + 0.0282845\n"
     ]
    },
    {
     "name": "stderr",
     "output_type": "stream",
     "text": [
      "num_leaves, val_score: 0.165822:  10%|#####                                             | 2/20 [00:06<01:02,  3.45s/it][I 2023-11-04 19:56:51,748] Trial 8 finished with value: 0.16582157302022343 and parameters: {'num_leaves': 129}. Best is trial 7 with value: 0.16582157302022343.\n",
      "num_leaves, val_score: 0.165822:  10%|#####                                             | 2/20 [00:06<01:02,  3.45s/it]"
     ]
    },
    {
     "name": "stdout",
     "output_type": "stream",
     "text": [
      "Early stopping, best iteration is:\n",
      "[166]\tcv_agg's l2: 0.165822 + 0.0285272\n",
      "[100]\tcv_agg's l2: 0.168643 + 0.0309421\n",
      "[200]\tcv_agg's l2: 0.166954 + 0.0284888\n"
     ]
    },
    {
     "name": "stderr",
     "output_type": "stream",
     "text": [
      "num_leaves, val_score: 0.165822:  15%|#######5                                          | 3/20 [00:10<00:58,  3.42s/it][I 2023-11-04 19:56:55,118] Trial 9 finished with value: 0.16634866439187196 and parameters: {'num_leaves': 28}. Best is trial 7 with value: 0.16582157302022343.\n",
      "num_leaves, val_score: 0.165822:  15%|#######5                                          | 3/20 [00:10<00:58,  3.42s/it]"
     ]
    },
    {
     "name": "stdout",
     "output_type": "stream",
     "text": [
      "Early stopping, best iteration is:\n",
      "[166]\tcv_agg's l2: 0.165822 + 0.0285272\n",
      "[100]\tcv_agg's l2: 0.167619 + 0.0306238\n",
      "[200]\tcv_agg's l2: 0.166308 + 0.0282845\n"
     ]
    },
    {
     "name": "stderr",
     "output_type": "stream",
     "text": [
      "num_leaves, val_score: 0.165822:  20%|##########                                        | 4/20 [00:13<00:54,  3.43s/it][I 2023-11-04 19:56:58,568] Trial 10 finished with value: 0.16582157302022343 and parameters: {'num_leaves': 234}. Best is trial 7 with value: 0.16582157302022343.\n",
      "num_leaves, val_score: 0.165822:  20%|##########                                        | 4/20 [00:13<00:54,  3.43s/it]"
     ]
    },
    {
     "name": "stdout",
     "output_type": "stream",
     "text": [
      "Early stopping, best iteration is:\n",
      "[166]\tcv_agg's l2: 0.165822 + 0.0285272\n",
      "[100]\tcv_agg's l2: 0.167619 + 0.0306238\n",
      "[200]\tcv_agg's l2: 0.166308 + 0.0282845\n"
     ]
    },
    {
     "name": "stderr",
     "output_type": "stream",
     "text": [
      "num_leaves, val_score: 0.165822:  25%|############5                                     | 5/20 [00:17<00:52,  3.47s/it][I 2023-11-04 19:57:02,121] Trial 11 finished with value: 0.16582157302022343 and parameters: {'num_leaves': 256}. Best is trial 7 with value: 0.16582157302022343.\n",
      "num_leaves, val_score: 0.165822:  25%|############5                                     | 5/20 [00:17<00:52,  3.47s/it]"
     ]
    },
    {
     "name": "stdout",
     "output_type": "stream",
     "text": [
      "Early stopping, best iteration is:\n",
      "[166]\tcv_agg's l2: 0.165822 + 0.0285272\n",
      "[100]\tcv_agg's l2: 0.167619 + 0.0306238\n",
      "[200]\tcv_agg's l2: 0.166308 + 0.0282845\n"
     ]
    },
    {
     "name": "stderr",
     "output_type": "stream",
     "text": [
      "num_leaves, val_score: 0.165822:  30%|###############                                   | 6/20 [00:22<00:59,  4.23s/it][I 2023-11-04 19:57:07,806] Trial 12 finished with value: 0.16582157302022343 and parameters: {'num_leaves': 160}. Best is trial 7 with value: 0.16582157302022343.\n",
      "num_leaves, val_score: 0.165822:  30%|###############                                   | 6/20 [00:22<00:59,  4.23s/it]"
     ]
    },
    {
     "name": "stdout",
     "output_type": "stream",
     "text": [
      "Early stopping, best iteration is:\n",
      "[166]\tcv_agg's l2: 0.165822 + 0.0285272\n",
      "[100]\tcv_agg's l2: 0.167619 + 0.0306238\n",
      "[200]\tcv_agg's l2: 0.166308 + 0.0282845\n"
     ]
    },
    {
     "name": "stderr",
     "output_type": "stream",
     "text": [
      "num_leaves, val_score: 0.165822:  35%|#################5                                | 7/20 [00:26<00:51,  3.98s/it][I 2023-11-04 19:57:11,275] Trial 13 finished with value: 0.16582157302022343 and parameters: {'num_leaves': 165}. Best is trial 7 with value: 0.16582157302022343.\n",
      "num_leaves, val_score: 0.165822:  35%|#################5                                | 7/20 [00:26<00:51,  3.98s/it]"
     ]
    },
    {
     "name": "stdout",
     "output_type": "stream",
     "text": [
      "Early stopping, best iteration is:\n",
      "[166]\tcv_agg's l2: 0.165822 + 0.0285272\n",
      "[100]\tcv_agg's l2: 0.167619 + 0.0306238\n",
      "[200]\tcv_agg's l2: 0.166308 + 0.0282845\n"
     ]
    },
    {
     "name": "stderr",
     "output_type": "stream",
     "text": [
      "num_leaves, val_score: 0.165822:  40%|####################                              | 8/20 [00:29<00:45,  3.82s/it][I 2023-11-04 19:57:14,762] Trial 14 finished with value: 0.16582157302022343 and parameters: {'num_leaves': 72}. Best is trial 7 with value: 0.16582157302022343.\n",
      "num_leaves, val_score: 0.165822:  40%|####################                              | 8/20 [00:29<00:45,  3.82s/it]"
     ]
    },
    {
     "name": "stdout",
     "output_type": "stream",
     "text": [
      "Early stopping, best iteration is:\n",
      "[166]\tcv_agg's l2: 0.165822 + 0.0285272\n",
      "[100]\tcv_agg's l2: 0.167619 + 0.0306238\n",
      "[200]\tcv_agg's l2: 0.166308 + 0.0282845\n"
     ]
    },
    {
     "name": "stderr",
     "output_type": "stream",
     "text": [
      "num_leaves, val_score: 0.165822:  45%|######################5                           | 9/20 [00:33<00:41,  3.78s/it][I 2023-11-04 19:57:18,448] Trial 15 finished with value: 0.16582157302022343 and parameters: {'num_leaves': 207}. Best is trial 7 with value: 0.16582157302022343.\n",
      "num_leaves, val_score: 0.165822:  45%|######################5                           | 9/20 [00:33<00:41,  3.78s/it]"
     ]
    },
    {
     "name": "stdout",
     "output_type": "stream",
     "text": [
      "Early stopping, best iteration is:\n",
      "[166]\tcv_agg's l2: 0.165822 + 0.0285272\n",
      "[100]\tcv_agg's l2: 0.167619 + 0.0306238\n",
      "[200]\tcv_agg's l2: 0.166308 + 0.0282845\n"
     ]
    },
    {
     "name": "stderr",
     "output_type": "stream",
     "text": [
      "num_leaves, val_score: 0.165822:  50%|########################5                        | 10/20 [00:37<00:36,  3.70s/it][I 2023-11-04 19:57:21,959] Trial 16 finished with value: 0.16582157302022343 and parameters: {'num_leaves': 107}. Best is trial 7 with value: 0.16582157302022343.\n",
      "num_leaves, val_score: 0.165822:  50%|########################5                        | 10/20 [00:37<00:36,  3.70s/it]"
     ]
    },
    {
     "name": "stdout",
     "output_type": "stream",
     "text": [
      "Early stopping, best iteration is:\n",
      "[166]\tcv_agg's l2: 0.165822 + 0.0285272\n",
      "[100]\tcv_agg's l2: 0.167619 + 0.0306238\n",
      "[200]\tcv_agg's l2: 0.166308 + 0.0282845\n"
     ]
    },
    {
     "name": "stderr",
     "output_type": "stream",
     "text": [
      "num_leaves, val_score: 0.165822:  55%|##########################9                      | 11/20 [00:40<00:33,  3.68s/it][I 2023-11-04 19:57:25,601] Trial 17 finished with value: 0.16582157302022343 and parameters: {'num_leaves': 196}. Best is trial 7 with value: 0.16582157302022343.\n",
      "num_leaves, val_score: 0.165822:  55%|##########################9                      | 11/20 [00:40<00:33,  3.68s/it]"
     ]
    },
    {
     "name": "stdout",
     "output_type": "stream",
     "text": [
      "Early stopping, best iteration is:\n",
      "[166]\tcv_agg's l2: 0.165822 + 0.0285272\n",
      "[100]\tcv_agg's l2: 0.176587 + 0.034716\n",
      "[200]\tcv_agg's l2: 0.16929 + 0.0286746\n"
     ]
    },
    {
     "name": "stderr",
     "output_type": "stream",
     "text": [
      "num_leaves, val_score: 0.165822:  60%|#############################4                   | 12/20 [00:42<00:24,  3.06s/it][I 2023-11-04 19:57:27,227] Trial 18 finished with value: 0.17030231061696977 and parameters: {'num_leaves': 10}. Best is trial 7 with value: 0.16582157302022343.\n",
      "num_leaves, val_score: 0.165822:  60%|#############################4                   | 12/20 [00:42<00:24,  3.06s/it]"
     ]
    },
    {
     "name": "stdout",
     "output_type": "stream",
     "text": [
      "Early stopping, best iteration is:\n",
      "[166]\tcv_agg's l2: 0.165822 + 0.0285272\n",
      "[100]\tcv_agg's l2: 0.167619 + 0.0306238\n",
      "[200]\tcv_agg's l2: 0.166308 + 0.0282845\n"
     ]
    },
    {
     "name": "stderr",
     "output_type": "stream",
     "text": [
      "num_leaves, val_score: 0.165822:  65%|###############################8                 | 13/20 [00:45<00:22,  3.20s/it][I 2023-11-04 19:57:30,770] Trial 19 finished with value: 0.16582157302022343 and parameters: {'num_leaves': 72}. Best is trial 7 with value: 0.16582157302022343.\n",
      "num_leaves, val_score: 0.165822:  65%|###############################8                 | 13/20 [00:45<00:22,  3.20s/it]"
     ]
    },
    {
     "name": "stdout",
     "output_type": "stream",
     "text": [
      "Early stopping, best iteration is:\n",
      "[166]\tcv_agg's l2: 0.165822 + 0.0285272\n",
      "[100]\tcv_agg's l2: 0.167619 + 0.0306238\n",
      "[200]\tcv_agg's l2: 0.166308 + 0.0282845\n"
     ]
    },
    {
     "name": "stderr",
     "output_type": "stream",
     "text": [
      "num_leaves, val_score: 0.165822:  70%|##################################3              | 14/20 [00:49<00:20,  3.35s/it][I 2023-11-04 19:57:34,455] Trial 20 finished with value: 0.16582157302022343 and parameters: {'num_leaves': 190}. Best is trial 7 with value: 0.16582157302022343.\n",
      "num_leaves, val_score: 0.165822:  70%|##################################3              | 14/20 [00:49<00:20,  3.35s/it]"
     ]
    },
    {
     "name": "stdout",
     "output_type": "stream",
     "text": [
      "Early stopping, best iteration is:\n",
      "[166]\tcv_agg's l2: 0.165822 + 0.0285272\n",
      "[100]\tcv_agg's l2: 0.167619 + 0.0306238\n",
      "[200]\tcv_agg's l2: 0.166308 + 0.0282845\n"
     ]
    },
    {
     "name": "stderr",
     "output_type": "stream",
     "text": [
      "num_leaves, val_score: 0.165822:  75%|####################################7            | 15/20 [00:53<00:17,  3.42s/it][I 2023-11-04 19:57:38,032] Trial 21 finished with value: 0.16582157302022343 and parameters: {'num_leaves': 125}. Best is trial 7 with value: 0.16582157302022343.\n",
      "num_leaves, val_score: 0.165822:  75%|####################################7            | 15/20 [00:53<00:17,  3.42s/it]"
     ]
    },
    {
     "name": "stdout",
     "output_type": "stream",
     "text": [
      "Early stopping, best iteration is:\n",
      "[166]\tcv_agg's l2: 0.165822 + 0.0285272\n",
      "[100]\tcv_agg's l2: 0.167619 + 0.0306238\n",
      "[200]\tcv_agg's l2: 0.166308 + 0.0282845\n"
     ]
    },
    {
     "name": "stderr",
     "output_type": "stream",
     "text": [
      "num_leaves, val_score: 0.165822:  80%|#######################################2         | 16/20 [00:56<00:13,  3.47s/it][I 2023-11-04 19:57:41,632] Trial 22 finished with value: 0.16582157302022343 and parameters: {'num_leaves': 99}. Best is trial 7 with value: 0.16582157302022343.\n",
      "num_leaves, val_score: 0.165822:  80%|#######################################2         | 16/20 [00:56<00:13,  3.47s/it]"
     ]
    },
    {
     "name": "stdout",
     "output_type": "stream",
     "text": [
      "Early stopping, best iteration is:\n",
      "[166]\tcv_agg's l2: 0.165822 + 0.0285272\n",
      "[100]\tcv_agg's l2: 0.167619 + 0.0306238\n",
      "[200]\tcv_agg's l2: 0.166308 + 0.0282845\n"
     ]
    },
    {
     "name": "stderr",
     "output_type": "stream",
     "text": [
      "num_leaves, val_score: 0.165822:  85%|#########################################6       | 17/20 [01:00<00:10,  3.53s/it][I 2023-11-04 19:57:45,291] Trial 23 finished with value: 0.16582157302022343 and parameters: {'num_leaves': 158}. Best is trial 7 with value: 0.16582157302022343.\n",
      "num_leaves, val_score: 0.165822:  85%|#########################################6       | 17/20 [01:00<00:10,  3.53s/it]"
     ]
    },
    {
     "name": "stdout",
     "output_type": "stream",
     "text": [
      "Early stopping, best iteration is:\n",
      "[166]\tcv_agg's l2: 0.165822 + 0.0285272\n",
      "[100]\tcv_agg's l2: 0.167619 + 0.0306238\n",
      "[200]\tcv_agg's l2: 0.166308 + 0.0282845\n"
     ]
    },
    {
     "name": "stderr",
     "output_type": "stream",
     "text": [
      "num_leaves, val_score: 0.165822:  90%|############################################1    | 18/20 [01:04<00:07,  3.71s/it][I 2023-11-04 19:57:49,430] Trial 24 finished with value: 0.16582157302022343 and parameters: {'num_leaves': 64}. Best is trial 7 with value: 0.16582157302022343.\n",
      "num_leaves, val_score: 0.165822:  90%|############################################1    | 18/20 [01:04<00:07,  3.71s/it]"
     ]
    },
    {
     "name": "stdout",
     "output_type": "stream",
     "text": [
      "Early stopping, best iteration is:\n",
      "[166]\tcv_agg's l2: 0.165822 + 0.0285272\n",
      "[100]\tcv_agg's l2: 0.167619 + 0.0306238\n",
      "[200]\tcv_agg's l2: 0.166308 + 0.0282845\n"
     ]
    },
    {
     "name": "stderr",
     "output_type": "stream",
     "text": [
      "num_leaves, val_score: 0.165822:  95%|##############################################5  | 19/20 [01:08<00:03,  3.62s/it][I 2023-11-04 19:57:52,847] Trial 25 finished with value: 0.16582157302022343 and parameters: {'num_leaves': 134}. Best is trial 7 with value: 0.16582157302022343.\n",
      "num_leaves, val_score: 0.165822:  95%|##############################################5  | 19/20 [01:08<00:03,  3.62s/it]"
     ]
    },
    {
     "name": "stdout",
     "output_type": "stream",
     "text": [
      "Early stopping, best iteration is:\n",
      "[166]\tcv_agg's l2: 0.165822 + 0.0285272\n",
      "[100]\tcv_agg's l2: 0.167619 + 0.0306238\n",
      "[200]\tcv_agg's l2: 0.166308 + 0.0282845\n"
     ]
    },
    {
     "name": "stderr",
     "output_type": "stream",
     "text": [
      "num_leaves, val_score: 0.165822: 100%|#################################################| 20/20 [01:11<00:00,  3.56s/it][I 2023-11-04 19:57:56,266] Trial 26 finished with value: 0.16582157302022343 and parameters: {'num_leaves': 239}. Best is trial 7 with value: 0.16582157302022343.\n",
      "num_leaves, val_score: 0.165822: 100%|#################################################| 20/20 [01:11<00:00,  3.57s/it]\n"
     ]
    },
    {
     "name": "stdout",
     "output_type": "stream",
     "text": [
      "Early stopping, best iteration is:\n",
      "[166]\tcv_agg's l2: 0.165822 + 0.0285272\n"
     ]
    },
    {
     "name": "stderr",
     "output_type": "stream",
     "text": [
      "bagging, val_score: 0.165822:   0%|                                                             | 0/10 [00:00<?, ?it/s]"
     ]
    },
    {
     "name": "stdout",
     "output_type": "stream",
     "text": [
      "[100]\tcv_agg's l2: 0.164476 + 0.0191717\n",
      "[200]\tcv_agg's l2: 0.163123 + 0.0145622\n",
      "[300]\tcv_agg's l2: 0.163368 + 0.0125705\n"
     ]
    },
    {
     "name": "stderr",
     "output_type": "stream",
     "text": [
      "bagging, val_score: 0.162700:  10%|#####3                                               | 1/10 [00:04<00:39,  4.38s/it][I 2023-11-04 19:58:00,658] Trial 27 finished with value: 0.16270001875729645 and parameters: {'bagging_fraction': 0.9043398105850105, 'bagging_freq': 2}. Best is trial 27 with value: 0.16270001875729645.\n",
      "bagging, val_score: 0.162700:  10%|#####3                                               | 1/10 [00:04<00:39,  4.38s/it]"
     ]
    },
    {
     "name": "stdout",
     "output_type": "stream",
     "text": [
      "Early stopping, best iteration is:\n",
      "[272]\tcv_agg's l2: 0.1627 + 0.0130383\n",
      "[100]\tcv_agg's l2: 0.166728 + 0.0234709\n",
      "[200]\tcv_agg's l2: 0.165184 + 0.0171174\n",
      "[300]\tcv_agg's l2: 0.166338 + 0.0165023\n"
     ]
    },
    {
     "name": "stderr",
     "output_type": "stream",
     "text": [
      "bagging, val_score: 0.162700:  20%|##########6                                          | 2/10 [00:09<00:37,  4.63s/it][I 2023-11-04 19:58:05,453] Trial 28 finished with value: 0.1658909152192026 and parameters: {'bagging_fraction': 0.9295126393855369, 'bagging_freq': 2}. Best is trial 27 with value: 0.16270001875729645.\n",
      "bagging, val_score: 0.162700:  20%|##########6                                          | 2/10 [00:09<00:37,  4.63s/it]"
     ]
    },
    {
     "name": "stdout",
     "output_type": "stream",
     "text": [
      "Early stopping, best iteration is:\n",
      "[272]\tcv_agg's l2: 0.1627 + 0.0130383\n",
      "[100]\tcv_agg's l2: 0.205824 + 0.0221532\n",
      "[200]\tcv_agg's l2: 0.194766 + 0.0185994\n",
      "[300]\tcv_agg's l2: 0.190166 + 0.0211549\n"
     ]
    },
    {
     "name": "stderr",
     "output_type": "stream",
     "text": [
      "bagging, val_score: 0.162700:  30%|###############9                                     | 3/10 [00:11<00:25,  3.67s/it][I 2023-11-04 19:58:07,991] Trial 29 finished with value: 0.1925770954482317 and parameters: {'bagging_fraction': 0.434814885289546, 'bagging_freq': 2}. Best is trial 27 with value: 0.16270001875729645.\n",
      "bagging, val_score: 0.162700:  30%|###############9                                     | 3/10 [00:11<00:25,  3.67s/it]"
     ]
    },
    {
     "name": "stdout",
     "output_type": "stream",
     "text": [
      "Early stopping, best iteration is:\n",
      "[272]\tcv_agg's l2: 0.1627 + 0.0130383\n",
      "[100]\tcv_agg's l2: 0.170778 + 0.0323671\n",
      "[200]\tcv_agg's l2: 0.169258 + 0.0286759\n",
      "[300]\tcv_agg's l2: 0.170061 + 0.0282492\n"
     ]
    },
    {
     "name": "stderr",
     "output_type": "stream",
     "text": [
      "bagging, val_score: 0.162700:  40%|#####################2                               | 4/10 [00:16<00:24,  4.08s/it][I 2023-11-04 19:58:12,706] Trial 30 finished with value: 0.1703883780478197 and parameters: {'bagging_fraction': 0.9738769239949154, 'bagging_freq': 7}. Best is trial 27 with value: 0.16270001875729645.\n",
      "bagging, val_score: 0.162700:  40%|#####################2                               | 4/10 [00:16<00:24,  4.08s/it]"
     ]
    },
    {
     "name": "stdout",
     "output_type": "stream",
     "text": [
      "Early stopping, best iteration is:\n",
      "[272]\tcv_agg's l2: 0.1627 + 0.0130383\n",
      "[100]\tcv_agg's l2: 0.179465 + 0.0341529\n",
      "[200]\tcv_agg's l2: 0.171528 + 0.0293146\n",
      "[300]\tcv_agg's l2: 0.174167 + 0.0275134\n"
     ]
    },
    {
     "name": "stderr",
     "output_type": "stream",
     "text": [
      "bagging, val_score: 0.162700:  50%|##########################5                          | 5/10 [00:20<00:20,  4.15s/it][I 2023-11-04 19:58:16,974] Trial 31 finished with value: 0.17288908728784297 and parameters: {'bagging_fraction': 0.7722055239277629, 'bagging_freq': 5}. Best is trial 27 with value: 0.16270001875729645.\n",
      "bagging, val_score: 0.162700:  50%|##########################5                          | 5/10 [00:20<00:20,  4.15s/it]"
     ]
    },
    {
     "name": "stdout",
     "output_type": "stream",
     "text": [
      "Early stopping, best iteration is:\n",
      "[272]\tcv_agg's l2: 0.1627 + 0.0130383\n",
      "[100]\tcv_agg's l2: 0.169181 + 0.0326778\n",
      "[200]\tcv_agg's l2: 0.165517 + 0.0290266\n",
      "[300]\tcv_agg's l2: 0.165068 + 0.0280378\n"
     ]
    },
    {
     "name": "stderr",
     "output_type": "stream",
     "text": [
      "bagging, val_score: 0.162700:  60%|###############################8                     | 6/10 [00:24<00:16,  4.20s/it][I 2023-11-04 19:58:21,255] Trial 32 finished with value: 0.16542769120840284 and parameters: {'bagging_fraction': 0.7678190557467157, 'bagging_freq': 1}. Best is trial 27 with value: 0.16270001875729645.\n",
      "bagging, val_score: 0.162700:  60%|###############################8                     | 6/10 [00:24<00:16,  4.20s/it]"
     ]
    },
    {
     "name": "stdout",
     "output_type": "stream",
     "text": [
      "Early stopping, best iteration is:\n",
      "[272]\tcv_agg's l2: 0.1627 + 0.0130383\n",
      "[100]\tcv_agg's l2: 0.170548 + 0.0250587\n",
      "[200]\tcv_agg's l2: 0.166913 + 0.0199035\n",
      "[300]\tcv_agg's l2: 0.166312 + 0.0183071\n"
     ]
    },
    {
     "name": "stderr",
     "output_type": "stream",
     "text": [
      "bagging, val_score: 0.162700:  70%|#####################################                | 7/10 [00:28<00:12,  4.10s/it][I 2023-11-04 19:58:25,174] Trial 33 finished with value: 0.1658081922261785 and parameters: {'bagging_fraction': 0.7691011682106533, 'bagging_freq': 1}. Best is trial 27 with value: 0.16270001875729645.\n",
      "bagging, val_score: 0.162700:  70%|#####################################                | 7/10 [00:28<00:12,  4.10s/it]"
     ]
    },
    {
     "name": "stdout",
     "output_type": "stream",
     "text": [
      "Early stopping, best iteration is:\n",
      "[272]\tcv_agg's l2: 0.1627 + 0.0130383\n",
      "[100]\tcv_agg's l2: 0.173428 + 0.0314075\n",
      "[200]\tcv_agg's l2: 0.169684 + 0.0269002\n",
      "[300]\tcv_agg's l2: 0.168372 + 0.0245146\n"
     ]
    },
    {
     "name": "stderr",
     "output_type": "stream",
     "text": [
      "bagging, val_score: 0.162700:  80%|##########################################4          | 8/10 [00:33<00:08,  4.13s/it][I 2023-11-04 19:58:29,369] Trial 34 finished with value: 0.16875785051605635 and parameters: {'bagging_fraction': 0.76699707223834, 'bagging_freq': 1}. Best is trial 27 with value: 0.16270001875729645.\n",
      "bagging, val_score: 0.162700:  80%|##########################################4          | 8/10 [00:33<00:08,  4.13s/it]"
     ]
    },
    {
     "name": "stdout",
     "output_type": "stream",
     "text": [
      "Early stopping, best iteration is:\n",
      "[272]\tcv_agg's l2: 0.1627 + 0.0130383\n",
      "[100]\tcv_agg's l2: 0.166267 + 0.0246764\n",
      "[200]\tcv_agg's l2: 0.165023 + 0.0222056\n",
      "[300]\tcv_agg's l2: 0.165479 + 0.0209105\n"
     ]
    },
    {
     "name": "stderr",
     "output_type": "stream",
     "text": [
      "bagging, val_score: 0.162700:  90%|###############################################7     | 9/10 [00:37<00:04,  4.15s/it][I 2023-11-04 19:58:33,553] Trial 35 finished with value: 0.16494638136881992 and parameters: {'bagging_fraction': 0.8010199923162021, 'bagging_freq': 1}. Best is trial 27 with value: 0.16270001875729645.\n",
      "bagging, val_score: 0.162700:  90%|###############################################7     | 9/10 [00:37<00:04,  4.15s/it]"
     ]
    },
    {
     "name": "stdout",
     "output_type": "stream",
     "text": [
      "Early stopping, best iteration is:\n",
      "[272]\tcv_agg's l2: 0.1627 + 0.0130383\n",
      "[100]\tcv_agg's l2: 0.165102 + 0.0244884\n",
      "[200]\tcv_agg's l2: 0.162389 + 0.0218192\n",
      "[300]\tcv_agg's l2: 0.162555 + 0.019985\n"
     ]
    },
    {
     "name": "stderr",
     "output_type": "stream",
     "text": [
      "bagging, val_score: 0.161466: 100%|####################################################| 10/10 [00:41<00:00,  4.20s/it][I 2023-11-04 19:58:37,856] Trial 36 finished with value: 0.16146628499625587 and parameters: {'bagging_fraction': 0.8094455953416014, 'bagging_freq': 1}. Best is trial 36 with value: 0.16146628499625587.\n",
      "bagging, val_score: 0.161466: 100%|####################################################| 10/10 [00:41<00:00,  4.16s/it]\n"
     ]
    },
    {
     "name": "stdout",
     "output_type": "stream",
     "text": [
      "Early stopping, best iteration is:\n",
      "[265]\tcv_agg's l2: 0.161466 + 0.0201158\n"
     ]
    },
    {
     "name": "stderr",
     "output_type": "stream",
     "text": [
      "feature_fraction_stage2, val_score: 0.161466:   0%|                                              | 0/3 [00:00<?, ?it/s]"
     ]
    },
    {
     "name": "stdout",
     "output_type": "stream",
     "text": [
      "[100]\tcv_agg's l2: 0.171868 + 0.0281763\n",
      "[200]\tcv_agg's l2: 0.169621 + 0.025798\n",
      "[300]\tcv_agg's l2: 0.169508 + 0.0252531\n"
     ]
    },
    {
     "name": "stderr",
     "output_type": "stream",
     "text": [
      "feature_fraction_stage2, val_score: 0.161466:  33%|############6                         | 1/3 [00:04<00:08,  4.29s/it][I 2023-11-04 19:58:42,149] Trial 37 finished with value: 0.16930737067954982 and parameters: {'feature_fraction': 0.48000000000000004}. Best is trial 37 with value: 0.16930737067954982.\n",
      "feature_fraction_stage2, val_score: 0.161466:  33%|############6                         | 1/3 [00:04<00:08,  4.29s/it]"
     ]
    },
    {
     "name": "stdout",
     "output_type": "stream",
     "text": [
      "Early stopping, best iteration is:\n",
      "[265]\tcv_agg's l2: 0.161466 + 0.0201158\n",
      "[100]\tcv_agg's l2: 0.165102 + 0.0244884\n",
      "[200]\tcv_agg's l2: 0.162389 + 0.0218192\n",
      "[300]\tcv_agg's l2: 0.162555 + 0.019985\n"
     ]
    },
    {
     "name": "stderr",
     "output_type": "stream",
     "text": [
      "feature_fraction_stage2, val_score: 0.161466:  67%|#########################3            | 2/3 [00:08<00:04,  4.44s/it][I 2023-11-04 19:58:46,690] Trial 38 finished with value: 0.16146628499625587 and parameters: {'feature_fraction': 0.41600000000000004}. Best is trial 38 with value: 0.16146628499625587.\n",
      "feature_fraction_stage2, val_score: 0.161466:  67%|#########################3            | 2/3 [00:08<00:04,  4.44s/it]"
     ]
    },
    {
     "name": "stdout",
     "output_type": "stream",
     "text": [
      "Early stopping, best iteration is:\n",
      "[265]\tcv_agg's l2: 0.161466 + 0.0201158\n",
      "[100]\tcv_agg's l2: 0.171868 + 0.0281763\n",
      "[200]\tcv_agg's l2: 0.169621 + 0.025798\n",
      "[300]\tcv_agg's l2: 0.169508 + 0.0252531\n"
     ]
    },
    {
     "name": "stderr",
     "output_type": "stream",
     "text": [
      "feature_fraction_stage2, val_score: 0.161466: 100%|######################################| 3/3 [00:13<00:00,  4.49s/it][I 2023-11-04 19:58:51,243] Trial 39 finished with value: 0.16930737067954982 and parameters: {'feature_fraction': 0.44800000000000006}. Best is trial 38 with value: 0.16146628499625587.\n",
      "feature_fraction_stage2, val_score: 0.161466: 100%|######################################| 3/3 [00:13<00:00,  4.46s/it]\n"
     ]
    },
    {
     "name": "stdout",
     "output_type": "stream",
     "text": [
      "Early stopping, best iteration is:\n",
      "[265]\tcv_agg's l2: 0.161466 + 0.0201158\n"
     ]
    },
    {
     "name": "stderr",
     "output_type": "stream",
     "text": [
      "regularization_factors, val_score: 0.161466:   0%|                                              | 0/20 [00:00<?, ?it/s]"
     ]
    },
    {
     "name": "stdout",
     "output_type": "stream",
     "text": [
      "[100]\tcv_agg's l2: 0.164238 + 0.0228622\n",
      "[200]\tcv_agg's l2: 0.162705 + 0.0221861\n",
      "[300]\tcv_agg's l2: 0.16288 + 0.0210611\n"
     ]
    },
    {
     "name": "stderr",
     "output_type": "stream",
     "text": [
      "regularization_factors, val_score: 0.161466:   5%|#9                                    | 1/20 [00:04<01:20,  4.22s/it][I 2023-11-04 19:58:55,468] Trial 40 finished with value: 0.16219397831523613 and parameters: {'lambda_l1': 6.513298671882012e-06, 'lambda_l2': 3.1069883838466233e-08}. Best is trial 40 with value: 0.16219397831523613.\n",
      "regularization_factors, val_score: 0.161466:   5%|#9                                    | 1/20 [00:04<01:20,  4.22s/it]"
     ]
    },
    {
     "name": "stdout",
     "output_type": "stream",
     "text": [
      "Early stopping, best iteration is:\n",
      "[265]\tcv_agg's l2: 0.161466 + 0.0201158\n",
      "[100]\tcv_agg's l2: 0.164248 + 0.0228606\n",
      "[200]\tcv_agg's l2: 0.162479 + 0.0222621\n",
      "[300]\tcv_agg's l2: 0.16266 + 0.0210156\n"
     ]
    },
    {
     "name": "stderr",
     "output_type": "stream",
     "text": [
      "regularization_factors, val_score: 0.161466:  10%|###8                                  | 2/20 [00:08<01:13,  4.06s/it][I 2023-11-04 19:58:59,421] Trial 41 finished with value: 0.16195477329380278 and parameters: {'lambda_l1': 1.323311335340655e-06, 'lambda_l2': 1.404389990107552e-08}. Best is trial 41 with value: 0.16195477329380278.\n",
      "regularization_factors, val_score: 0.161466:  10%|###8                                  | 2/20 [00:08<01:13,  4.06s/it]"
     ]
    },
    {
     "name": "stdout",
     "output_type": "stream",
     "text": [
      "Early stopping, best iteration is:\n",
      "[265]\tcv_agg's l2: 0.161466 + 0.0201158\n",
      "[100]\tcv_agg's l2: 0.164238 + 0.0228622\n",
      "[200]\tcv_agg's l2: 0.162705 + 0.0221861\n",
      "[300]\tcv_agg's l2: 0.163026 + 0.0208936\n"
     ]
    },
    {
     "name": "stderr",
     "output_type": "stream",
     "text": [
      "regularization_factors, val_score: 0.161466:  15%|#####7                                | 3/20 [00:12<01:08,  4.06s/it][I 2023-11-04 19:59:03,473] Trial 42 finished with value: 0.162194029614897 and parameters: {'lambda_l1': 1.9636892195856787e-06, 'lambda_l2': 1.097703001259765e-08}. Best is trial 41 with value: 0.16195477329380278.\n",
      "regularization_factors, val_score: 0.161466:  15%|#####7                                | 3/20 [00:12<01:08,  4.06s/it]"
     ]
    },
    {
     "name": "stdout",
     "output_type": "stream",
     "text": [
      "Early stopping, best iteration is:\n",
      "[265]\tcv_agg's l2: 0.161466 + 0.0201158\n",
      "[100]\tcv_agg's l2: 0.164238 + 0.0228622\n",
      "[200]\tcv_agg's l2: 0.162705 + 0.0221861\n",
      "[300]\tcv_agg's l2: 0.163026 + 0.0208936\n"
     ]
    },
    {
     "name": "stderr",
     "output_type": "stream",
     "text": [
      "regularization_factors, val_score: 0.161466:  20%|#######6                              | 4/20 [00:16<01:04,  4.01s/it][I 2023-11-04 19:59:07,399] Trial 43 finished with value: 0.16219402869941907 and parameters: {'lambda_l1': 2.1399098998299636e-06, 'lambda_l2': 1.1887187666753356e-08}. Best is trial 41 with value: 0.16195477329380278.\n",
      "regularization_factors, val_score: 0.161466:  20%|#######6                              | 4/20 [00:16<01:04,  4.01s/it]"
     ]
    },
    {
     "name": "stdout",
     "output_type": "stream",
     "text": [
      "Early stopping, best iteration is:\n",
      "[265]\tcv_agg's l2: 0.161466 + 0.0201158\n",
      "[100]\tcv_agg's l2: 0.164238 + 0.0228622\n",
      "[200]\tcv_agg's l2: 0.162705 + 0.0221861\n",
      "[300]\tcv_agg's l2: 0.163026 + 0.0208936\n"
     ]
    },
    {
     "name": "stderr",
     "output_type": "stream",
     "text": [
      "regularization_factors, val_score: 0.161466:  25%|#########5                            | 5/20 [00:19<00:58,  3.92s/it][I 2023-11-04 19:59:11,169] Trial 44 finished with value: 0.16219403275450223 and parameters: {'lambda_l1': 1.3893949517456554e-06, 'lambda_l2': 1.0890226377204292e-08}. Best is trial 41 with value: 0.16195477329380278.\n",
      "regularization_factors, val_score: 0.161466:  25%|#########5                            | 5/20 [00:19<00:58,  3.92s/it]"
     ]
    },
    {
     "name": "stdout",
     "output_type": "stream",
     "text": [
      "Early stopping, best iteration is:\n",
      "[265]\tcv_agg's l2: 0.161466 + 0.0201158\n",
      "[100]\tcv_agg's l2: 0.164238 + 0.0228622\n",
      "[200]\tcv_agg's l2: 0.162705 + 0.0221861\n",
      "[300]\tcv_agg's l2: 0.163026 + 0.0208936\n"
     ]
    },
    {
     "name": "stderr",
     "output_type": "stream",
     "text": [
      "regularization_factors, val_score: 0.161466:  30%|###########4                          | 6/20 [00:23<00:55,  3.94s/it][I 2023-11-04 19:59:15,158] Trial 45 finished with value: 0.1621940227394927 and parameters: {'lambda_l1': 3.2318459606797795e-06, 'lambda_l2': 2.013804569168169e-08}. Best is trial 41 with value: 0.16195477329380278.\n",
      "regularization_factors, val_score: 0.161466:  30%|###########4                          | 6/20 [00:23<00:55,  3.94s/it]"
     ]
    },
    {
     "name": "stdout",
     "output_type": "stream",
     "text": [
      "Early stopping, best iteration is:\n",
      "[265]\tcv_agg's l2: 0.161466 + 0.0201158\n",
      "[100]\tcv_agg's l2: 0.164904 + 0.024487\n",
      "[200]\tcv_agg's l2: 0.162429 + 0.0229246\n",
      "[300]\tcv_agg's l2: 0.162384 + 0.0216817\n"
     ]
    },
    {
     "name": "stderr",
     "output_type": "stream",
     "text": [
      "regularization_factors, val_score: 0.161466:  35%|#############3                        | 7/20 [00:27<00:51,  3.94s/it][I 2023-11-04 19:59:19,075] Trial 46 finished with value: 0.16207596962581716 and parameters: {'lambda_l1': 0.0003318880305620229, 'lambda_l2': 3.66182559735472e-06}. Best is trial 41 with value: 0.16195477329380278.\n",
      "regularization_factors, val_score: 0.161466:  35%|#############3                        | 7/20 [00:27<00:51,  3.94s/it]"
     ]
    },
    {
     "name": "stdout",
     "output_type": "stream",
     "text": [
      "Early stopping, best iteration is:\n",
      "[265]\tcv_agg's l2: 0.161466 + 0.0201158\n",
      "[100]\tcv_agg's l2: 0.163734 + 0.0240282\n",
      "[200]\tcv_agg's l2: 0.162005 + 0.0237308\n",
      "[300]\tcv_agg's l2: 0.164 + 0.0225797\n"
     ]
    },
    {
     "name": "stderr",
     "output_type": "stream",
     "text": [
      "regularization_factors, val_score: 0.161466:  40%|###############2                      | 8/20 [00:31<00:47,  3.92s/it][I 2023-11-04 19:59:22,959] Trial 47 finished with value: 0.16224239635105345 and parameters: {'lambda_l1': 0.006284197559063609, 'lambda_l2': 2.9580463752968808e-05}. Best is trial 41 with value: 0.16195477329380278.\n",
      "regularization_factors, val_score: 0.161466:  40%|###############2                      | 8/20 [00:31<00:47,  3.92s/it]"
     ]
    },
    {
     "name": "stdout",
     "output_type": "stream",
     "text": [
      "Early stopping, best iteration is:\n",
      "[265]\tcv_agg's l2: 0.161466 + 0.0201158\n",
      "[100]\tcv_agg's l2: 0.164064 + 0.0247613\n",
      "[200]\tcv_agg's l2: 0.160788 + 0.0246417\n",
      "[300]\tcv_agg's l2: 0.160689 + 0.0228871\n"
     ]
    },
    {
     "name": "stderr",
     "output_type": "stream",
     "text": [
      "regularization_factors, val_score: 0.160078:  45%|#################1                    | 9/20 [00:35<00:43,  3.92s/it][I 2023-11-04 19:59:26,874] Trial 48 finished with value: 0.16007836628883507 and parameters: {'lambda_l1': 0.0005943000123595144, 'lambda_l2': 5.663828891415128e-06}. Best is trial 48 with value: 0.16007836628883507.\n",
      "regularization_factors, val_score: 0.160078:  45%|#################1                    | 9/20 [00:35<00:43,  3.92s/it]"
     ]
    },
    {
     "name": "stdout",
     "output_type": "stream",
     "text": [
      "Early stopping, best iteration is:\n",
      "[222]\tcv_agg's l2: 0.160078 + 0.0238052\n",
      "[100]\tcv_agg's l2: 0.164923 + 0.0246037\n",
      "[200]\tcv_agg's l2: 0.161874 + 0.0229264\n",
      "[300]\tcv_agg's l2: 0.16286 + 0.0207441\n"
     ]
    },
    {
     "name": "stderr",
     "output_type": "stream",
     "text": [
      "regularization_factors, val_score: 0.160078:  50%|##################5                  | 10/20 [00:39<00:38,  3.89s/it][I 2023-11-04 19:59:30,696] Trial 49 finished with value: 0.16153992161784342 and parameters: {'lambda_l1': 0.0012630112700587688, 'lambda_l2': 2.788399732099327e-05}. Best is trial 48 with value: 0.16007836628883507.\n",
      "regularization_factors, val_score: 0.160078:  50%|##################5                  | 10/20 [00:39<00:38,  3.89s/it]"
     ]
    },
    {
     "name": "stdout",
     "output_type": "stream",
     "text": [
      "Early stopping, best iteration is:\n",
      "[222]\tcv_agg's l2: 0.160078 + 0.0238052\n",
      "[100]\tcv_agg's l2: 0.164595 + 0.0265597\n",
      "[200]\tcv_agg's l2: 0.161622 + 0.0218491\n",
      "[300]\tcv_agg's l2: 0.161078 + 0.020388\n"
     ]
    },
    {
     "name": "stderr",
     "output_type": "stream",
     "text": [
      "regularization_factors, val_score: 0.160078:  55%|####################3                | 11/20 [00:43<00:34,  3.81s/it][I 2023-11-04 19:59:34,338] Trial 50 finished with value: 0.16072524142262376 and parameters: {'lambda_l1': 0.3115409368217733, 'lambda_l2': 0.0034505351790933532}. Best is trial 48 with value: 0.16007836628883507.\n",
      "regularization_factors, val_score: 0.160078:  55%|####################3                | 11/20 [00:43<00:34,  3.81s/it]"
     ]
    },
    {
     "name": "stdout",
     "output_type": "stream",
     "text": [
      "Early stopping, best iteration is:\n",
      "[222]\tcv_agg's l2: 0.160078 + 0.0238052\n",
      "[100]\tcv_agg's l2: 0.173164 + 0.0288329\n",
      "[200]\tcv_agg's l2: 0.166848 + 0.0256974\n"
     ]
    },
    {
     "name": "stderr",
     "output_type": "stream",
     "text": [
      "regularization_factors, val_score: 0.160078:  60%|######################2              | 12/20 [00:47<00:32,  4.08s/it][I 2023-11-04 19:59:39,024] Trial 51 finished with value: 0.16593396873954713 and parameters: {'lambda_l1': 1.3986957226663659, 'lambda_l2': 0.0077941609365596255}. Best is trial 48 with value: 0.16007836628883507.\n",
      "regularization_factors, val_score: 0.160078:  60%|######################2              | 12/20 [00:47<00:32,  4.08s/it]"
     ]
    },
    {
     "name": "stdout",
     "output_type": "stream",
     "text": [
      "[300]\tcv_agg's l2: 0.164118 + 0.0246254\n",
      "Early stopping, best iteration is:\n",
      "[222]\tcv_agg's l2: 0.160078 + 0.0238052\n",
      "[100]\tcv_agg's l2: 0.165088 + 0.0244046\n",
      "[200]\tcv_agg's l2: 0.162426 + 0.0225932\n",
      "[300]\tcv_agg's l2: 0.163208 + 0.0217298\n"
     ]
    },
    {
     "name": "stderr",
     "output_type": "stream",
     "text": [
      "regularization_factors, val_score: 0.160078:  65%|########################             | 13/20 [00:51<00:27,  3.89s/it][I 2023-11-04 19:59:42,464] Trial 52 finished with value: 0.1620270919160575 and parameters: {'lambda_l1': 1.157749529079493e-08, 'lambda_l2': 0.0008011682387854728}. Best is trial 48 with value: 0.16007836628883507.\n",
      "regularization_factors, val_score: 0.160078:  65%|########################             | 13/20 [00:51<00:27,  3.89s/it]"
     ]
    },
    {
     "name": "stdout",
     "output_type": "stream",
     "text": [
      "Early stopping, best iteration is:\n",
      "[222]\tcv_agg's l2: 0.160078 + 0.0238052\n",
      "[100]\tcv_agg's l2: 0.168653 + 0.0229188\n",
      "[200]\tcv_agg's l2: 0.164304 + 0.0215045\n",
      "[300]\tcv_agg's l2: 0.164834 + 0.02119\n"
     ]
    },
    {
     "name": "stderr",
     "output_type": "stream",
     "text": [
      "regularization_factors, val_score: 0.160078:  70%|#########################9           | 14/20 [00:53<00:21,  3.55s/it][I 2023-11-04 19:59:45,239] Trial 53 finished with value: 0.16376862386301938 and parameters: {'lambda_l1': 0.007985241634795796, 'lambda_l2': 0.5431550612521645}. Best is trial 48 with value: 0.16007836628883507.\n",
      "regularization_factors, val_score: 0.160078:  70%|#########################9           | 14/20 [00:53<00:21,  3.55s/it]"
     ]
    },
    {
     "name": "stdout",
     "output_type": "stream",
     "text": [
      "Early stopping, best iteration is:\n",
      "[222]\tcv_agg's l2: 0.160078 + 0.0238052\n",
      "[100]\tcv_agg's l2: 0.170581 + 0.0271649\n",
      "[200]\tcv_agg's l2: 0.165237 + 0.022952\n"
     ]
    },
    {
     "name": "stderr",
     "output_type": "stream",
     "text": [
      "\r",
      "regularization_factors, val_score: 0.160078:  70%|#########################9           | 14/20 [00:56<00:21,  3.55s/it]"
     ]
    },
    {
     "name": "stdout",
     "output_type": "stream",
     "text": [
      "[300]\tcv_agg's l2: 0.163647 + 0.0223003\n",
      "Early stopping, best iteration is:\n",
      "[222]\tcv_agg's l2: 0.160078 + 0.0238052\n"
     ]
    },
    {
     "name": "stderr",
     "output_type": "stream",
     "text": [
      "regularization_factors, val_score: 0.160078:  75%|###########################7         | 15/20 [00:56<00:16,  3.35s/it][I 2023-11-04 19:59:48,127] Trial 54 finished with value: 0.16430719023848228 and parameters: {'lambda_l1': 0.8383354661678861, 'lambda_l2': 1.7281530380133263e-06}. Best is trial 48 with value: 0.16007836628883507.\n",
      "regularization_factors, val_score: 0.160078:  75%|###########################7         | 15/20 [00:56<00:16,  3.35s/it]"
     ]
    },
    {
     "name": "stdout",
     "output_type": "stream",
     "text": [
      "[100]\tcv_agg's l2: 0.164878 + 0.0221283\n",
      "[200]\tcv_agg's l2: 0.162267 + 0.0218716\n",
      "[300]\tcv_agg's l2: 0.163234 + 0.0208482\n"
     ]
    },
    {
     "name": "stderr",
     "output_type": "stream",
     "text": [
      "regularization_factors, val_score: 0.160078:  80%|#############################6       | 16/20 [01:00<00:13,  3.35s/it][I 2023-11-04 19:59:51,477] Trial 55 finished with value: 0.16195525010238015 and parameters: {'lambda_l1': 0.018199950453627305, 'lambda_l2': 0.00011765679071892298}. Best is trial 48 with value: 0.16007836628883507.\n",
      "regularization_factors, val_score: 0.160078:  80%|#############################6       | 16/20 [01:00<00:13,  3.35s/it]"
     ]
    },
    {
     "name": "stdout",
     "output_type": "stream",
     "text": [
      "Early stopping, best iteration is:\n",
      "[222]\tcv_agg's l2: 0.160078 + 0.0238052\n",
      "[100]\tcv_agg's l2: 0.164856 + 0.0243026\n",
      "[200]\tcv_agg's l2: 0.162255 + 0.0226804\n",
      "[300]\tcv_agg's l2: 0.162817 + 0.020977\n"
     ]
    },
    {
     "name": "stderr",
     "output_type": "stream",
     "text": [
      "regularization_factors, val_score: 0.160078:  85%|###############################4     | 17/20 [01:03<00:10,  3.41s/it][I 2023-11-04 19:59:55,037] Trial 56 finished with value: 0.1619673845268464 and parameters: {'lambda_l1': 0.00012042614394363249, 'lambda_l2': 6.380383505251751e-07}. Best is trial 48 with value: 0.16007836628883507.\n",
      "regularization_factors, val_score: 0.160078:  85%|###############################4     | 17/20 [01:03<00:10,  3.41s/it]"
     ]
    },
    {
     "name": "stdout",
     "output_type": "stream",
     "text": [
      "Early stopping, best iteration is:\n",
      "[222]\tcv_agg's l2: 0.160078 + 0.0238052\n",
      "[100]\tcv_agg's l2: 0.162577 + 0.0247221\n",
      "[200]\tcv_agg's l2: 0.160758 + 0.0228241\n",
      "[300]\tcv_agg's l2: 0.16098 + 0.0207909\n"
     ]
    },
    {
     "name": "stderr",
     "output_type": "stream",
     "text": [
      "regularization_factors, val_score: 0.160078:  90%|#################################3   | 18/20 [01:07<00:06,  3.48s/it][I 2023-11-04 19:59:58,673] Trial 57 finished with value: 0.16029440252920585 and parameters: {'lambda_l1': 0.1180839056452039, 'lambda_l2': 0.0006434750840997166}. Best is trial 48 with value: 0.16007836628883507.\n",
      "regularization_factors, val_score: 0.160078:  90%|#################################3   | 18/20 [01:07<00:06,  3.48s/it]"
     ]
    },
    {
     "name": "stdout",
     "output_type": "stream",
     "text": [
      "Early stopping, best iteration is:\n",
      "[222]\tcv_agg's l2: 0.160078 + 0.0238052\n",
      "[100]\tcv_agg's l2: 0.163842 + 0.0258548\n",
      "[200]\tcv_agg's l2: 0.160689 + 0.023103\n",
      "[300]\tcv_agg's l2: 0.160962 + 0.0218138\n"
     ]
    },
    {
     "name": "stderr",
     "output_type": "stream",
     "text": [
      "regularization_factors, val_score: 0.160078:  95%|###################################1 | 19/20 [01:11<00:03,  3.53s/it][I 2023-11-04 20:00:02,320] Trial 58 finished with value: 0.16038976518406695 and parameters: {'lambda_l1': 0.1464284154443711, 'lambda_l2': 0.0016868251535690111}. Best is trial 48 with value: 0.16007836628883507.\n",
      "regularization_factors, val_score: 0.160078:  95%|###################################1 | 19/20 [01:11<00:03,  3.53s/it]"
     ]
    },
    {
     "name": "stdout",
     "output_type": "stream",
     "text": [
      "Early stopping, best iteration is:\n",
      "[222]\tcv_agg's l2: 0.160078 + 0.0238052\n",
      "[100]\tcv_agg's l2: 0.164849 + 0.0261735\n",
      "[200]\tcv_agg's l2: 0.162297 + 0.0233239\n",
      "[300]\tcv_agg's l2: 0.163464 + 0.0221691\n"
     ]
    },
    {
     "name": "stderr",
     "output_type": "stream",
     "text": [
      "regularization_factors, val_score: 0.160078: 100%|#####################################| 20/20 [01:14<00:00,  3.51s/it][I 2023-11-04 20:00:05,770] Trial 59 finished with value: 0.1622414307642107 and parameters: {'lambda_l1': 0.14238122402541625, 'lambda_l2': 0.0024874707106019227}. Best is trial 48 with value: 0.16007836628883507.\n",
      "regularization_factors, val_score: 0.160078: 100%|#####################################| 20/20 [01:14<00:00,  3.73s/it]\n"
     ]
    },
    {
     "name": "stdout",
     "output_type": "stream",
     "text": [
      "Early stopping, best iteration is:\n",
      "[222]\tcv_agg's l2: 0.160078 + 0.0238052\n"
     ]
    },
    {
     "name": "stderr",
     "output_type": "stream",
     "text": [
      "min_data_in_leaf, val_score: 0.160078:   0%|                                                     | 0/5 [00:00<?, ?it/s]"
     ]
    },
    {
     "name": "stdout",
     "output_type": "stream",
     "text": [
      "[100]\tcv_agg's l2: 0.149175 + 0.0120859\n",
      "[200]\tcv_agg's l2: 0.149117 + 0.0135921\n"
     ]
    },
    {
     "name": "stderr",
     "output_type": "stream",
     "text": [
      "min_data_in_leaf, val_score: 0.148489:  20%|#########                                    | 1/5 [00:03<00:13,  3.33s/it][I 2023-11-04 20:00:09,108] Trial 60 finished with value: 0.14848850788612494 and parameters: {'min_child_samples': 5}. Best is trial 60 with value: 0.14848850788612494.\n",
      "min_data_in_leaf, val_score: 0.148489:  20%|#########                                    | 1/5 [00:03<00:13,  3.33s/it]"
     ]
    },
    {
     "name": "stdout",
     "output_type": "stream",
     "text": [
      "Early stopping, best iteration is:\n",
      "[118]\tcv_agg's l2: 0.148489 + 0.0124858\n",
      "[100]\tcv_agg's l2: 0.146433 + 0.0175188\n",
      "[200]\tcv_agg's l2: 0.145748 + 0.0169933\n"
     ]
    },
    {
     "name": "stderr",
     "output_type": "stream",
     "text": [
      "min_data_in_leaf, val_score: 0.145192:  40%|##################                           | 2/5 [00:07<00:10,  3.58s/it][I 2023-11-04 20:00:12,854] Trial 61 finished with value: 0.14519241337478303 and parameters: {'min_child_samples': 10}. Best is trial 61 with value: 0.14519241337478303.\n",
      "min_data_in_leaf, val_score: 0.145192:  40%|##################                           | 2/5 [00:07<00:10,  3.58s/it]"
     ]
    },
    {
     "name": "stdout",
     "output_type": "stream",
     "text": [
      "Early stopping, best iteration is:\n",
      "[136]\tcv_agg's l2: 0.145192 + 0.0173503\n",
      "[100]\tcv_agg's l2: 0.181209 + 0.0266628\n",
      "[200]\tcv_agg's l2: 0.177151 + 0.0242736\n"
     ]
    },
    {
     "name": "stderr",
     "output_type": "stream",
     "text": [
      "min_data_in_leaf, val_score: 0.145192:  60%|###########################                  | 3/5 [00:09<00:06,  3.02s/it][I 2023-11-04 20:00:15,217] Trial 62 finished with value: 0.18031624119091982 and parameters: {'min_child_samples': 25}. Best is trial 61 with value: 0.14519241337478303.\n",
      "min_data_in_leaf, val_score: 0.145192:  60%|###########################                  | 3/5 [00:09<00:06,  3.02s/it]"
     ]
    },
    {
     "name": "stdout",
     "output_type": "stream",
     "text": [
      "Early stopping, best iteration is:\n",
      "[136]\tcv_agg's l2: 0.145192 + 0.0173503\n",
      "[100]\tcv_agg's l2: 0.895341 + 0.0817678\n"
     ]
    },
    {
     "name": "stderr",
     "output_type": "stream",
     "text": [
      "min_data_in_leaf, val_score: 0.145192:  80%|####################################         | 4/5 [00:10<00:02,  2.19s/it][I 2023-11-04 20:00:16,125] Trial 63 finished with value: 0.8717482828323613 and parameters: {'min_child_samples': 100}. Best is trial 61 with value: 0.14519241337478303.\n",
      "min_data_in_leaf, val_score: 0.145192:  80%|####################################         | 4/5 [00:10<00:02,  2.19s/it]"
     ]
    },
    {
     "name": "stdout",
     "output_type": "stream",
     "text": [
      "[200]\tcv_agg's l2: 0.841866 + 0.0748104\n",
      "Early stopping, best iteration is:\n",
      "[136]\tcv_agg's l2: 0.145192 + 0.0173503\n",
      "[100]\tcv_agg's l2: 0.296384 + 0.047727\n"
     ]
    },
    {
     "name": "stderr",
     "output_type": "stream",
     "text": [
      "\r",
      "min_data_in_leaf, val_score: 0.145192:  80%|####################################         | 4/5 [00:11<00:02,  2.19s/it]"
     ]
    },
    {
     "name": "stdout",
     "output_type": "stream",
     "text": [
      "[200]\tcv_agg's l2: 0.2761 + 0.0358772\n",
      "Early stopping, best iteration is:\n",
      "[136]\tcv_agg's l2: 0.145192 + 0.0173503\n"
     ]
    },
    {
     "name": "stderr",
     "output_type": "stream",
     "text": [
      "min_data_in_leaf, val_score: 0.145192: 100%|#############################################| 5/5 [00:11<00:00,  1.92s/it][I 2023-11-04 20:00:17,564] Trial 64 finished with value: 0.2843244228873452 and parameters: {'min_child_samples': 50}. Best is trial 61 with value: 0.14519241337478303.\n",
      "min_data_in_leaf, val_score: 0.145192: 100%|#############################################| 5/5 [00:11<00:00,  2.36s/it]\n"
     ]
    }
   ],
   "source": [
    "import optuna.integration.lightgbm as lgb\n",
    "from lightgbm import early_stopping\n",
    "from sklearn.model_selection import KFold\n",
    "from sklearn.model_selection import RepeatedKFold\n",
    "\n",
    "\n",
    "lgb_train = lgb.Dataset(X_train_random_split, y_train_random_split)\n",
    "\n",
    "params = {\n",
    "    \"boosting_type\": \"gbdt\",\n",
    "    \"objective\": \"regression\",\n",
    "    \"metric\": \"l2\",\n",
    "    \"verbosity\": -1,\n",
    "}\n",
    "\n",
    "tuner = lgb.LightGBMTunerCV(\n",
    "    params,\n",
    "    lgb_train,\n",
    "    folds=KFold(n_splits=5),\n",
    "    num_boost_round=10000,\n",
    "    callbacks=[early_stopping(100), log_evaluation(100)],\n",
    ")\n",
    "\n",
    "tuner.run()"
   ]
  },
  {
   "cell_type": "code",
   "execution_count": 87,
   "id": "c07cf3c6",
   "metadata": {},
   "outputs": [
    {
     "name": "stdout",
     "output_type": "stream",
     "text": [
      "Best score: 0.14519241337478303\n",
      "Params: \n",
      "    boosting_type: gbdt\n",
      "    objective: regression\n",
      "    metric: l2\n",
      "    verbosity: -1\n",
      "    feature_pre_filter: False\n",
      "    lambda_l1: 0.0005943000123595144\n",
      "    lambda_l2: 5.663828891415128e-06\n",
      "    num_leaves: 31\n",
      "    feature_fraction: 0.4\n",
      "    bagging_fraction: 0.8094455953416014\n",
      "    bagging_freq: 1\n",
      "    min_child_samples: 10\n"
     ]
    }
   ],
   "source": [
    "print(f\"Best score: {tuner.best_score}\")\n",
    "best_params = tuner.best_params\n",
    "print(\"Params: \")\n",
    "for key, value in best_params.items():\n",
    "    print(\"    {}: {}\".format(key, value))"
   ]
  },
  {
   "cell_type": "code",
   "execution_count": 88,
   "id": "47a1bc33",
   "metadata": {},
   "outputs": [],
   "source": [
    "import lightgbm as lgb\n",
    "\n",
    "lgb_tuned = lgb.train(\n",
    "    best_params,\n",
    "    lgb_train,\n",
    "    num_boost_round=10000,\n",
    ")"
   ]
  },
  {
   "cell_type": "code",
   "execution_count": 89,
   "id": "4c17765e",
   "metadata": {},
   "outputs": [
    {
     "name": "stdout",
     "output_type": "stream",
     "text": [
      "RMSE train: 0.00\n",
      "RMSE test: 0.34\n",
      "MSE test: 0.12\n",
      "MAE test: 0.23\n",
      "\n"
     ]
    }
   ],
   "source": [
    "rmse, mse, mae = assess_regression_model(\n",
    "    lgb_tuned,\n",
    "    X_train_random_split,\n",
    "    X_test_random_split,\n",
    "    y_train_random_split,\n",
    "    y_test_random_split,\n",
    ")"
   ]
  },
  {
   "cell_type": "code",
   "execution_count": 90,
   "id": "9caec811",
   "metadata": {},
   "outputs": [],
   "source": [
    "results.loc[3] = [\"random\", \"Optuna\", \"expanded\", mse, rmse, mae]"
   ]
  },
  {
   "cell_type": "markdown",
   "id": "47fed830",
   "metadata": {},
   "source": [
    "###### MAE by level"
   ]
  },
  {
   "cell_type": "code",
   "execution_count": 91,
   "id": "c12fe14b",
   "metadata": {},
   "outputs": [
    {
     "data": {
      "image/png": "[encoded data removed]",
      "text/plain": [
       "<Figure size 720x432 with 1 Axes>"
      ]
     },
     "metadata": {
      "needs_background": "light"
     },
     "output_type": "display_data"
    }
   ],
   "source": [
    "plot_mae_by_level(\n",
    "    y_test_random_split,\n",
    "    y_pred_test,\n",
    "    title=\"MAE by level for tuned LightGBM with expanded features and random split\",\n",
    ")"
   ]
  },
  {
   "cell_type": "code",
   "execution_count": 92,
   "id": "859f12f2",
   "metadata": {},
   "outputs": [
    {
     "name": "stdout",
     "output_type": "stream",
     "text": [
      "Normal:\n",
      "MSE: 0.04\n",
      "RMSE: 0.21\n",
      "\n",
      "Round type: round\n",
      "MSE: 0.05\n",
      "RMSE: 0.23\n",
      "\n",
      "Round type: 0.33\n",
      "MSE: 0.05\n",
      "RMSE: 0.23\n",
      "\n",
      "Round type: 0.45\n",
      "MSE: 0.04\n",
      "RMSE: 0.21\n",
      "\n"
     ]
    }
   ],
   "source": [
    "predict = lgb_tuned.predict(X_test)\n",
    "check_round_predictions([\"round\", 0.33, 0.45], y_test, predict)"
   ]
  },
  {
   "cell_type": "code",
   "execution_count": 93,
   "id": "a046eead",
   "metadata": {},
   "outputs": [
    {
     "data": {
      "image/png": "[encoded data removed]",
      "text/plain": [
       "<Figure size 432x288 with 2 Axes>"
      ]
     },
     "metadata": {
      "needs_background": "light"
     },
     "output_type": "display_data"
    }
   ],
   "source": [
    "plot_confusion_matrix(\n",
    "    \"round\",\n",
    "    predict,\n",
    "    y_test,\n",
    "    title=\"Confusion matrix for tuned LightGBM with expanded features and random split\",\n",
    ")"
   ]
  },
  {
   "cell_type": "markdown",
   "id": "2e230699",
   "metadata": {},
   "source": [
    "## Summary"
   ]
  },
  {
   "cell_type": "code",
   "execution_count": 94,
   "id": "2edd08be",
   "metadata": {},
   "outputs": [
    {
     "data": {
      "text/html": [
       "<div>\n",
       "<style scoped>\n",
       "    .dataframe tbody tr th:only-of-type {\n",
       "        vertical-align: middle;\n",
       "    }\n",
       "\n",
       "    .dataframe tbody tr th {\n",
       "        vertical-align: top;\n",
       "    }\n",
       "\n",
       "    .dataframe thead th {\n",
       "        text-align: right;\n",
       "    }\n",
       "</style>\n",
       "<table border=\"1\" class=\"dataframe\">\n",
       "  <thead>\n",
       "    <tr style=\"text-align: right;\">\n",
       "      <th></th>\n",
       "      <th>Split type</th>\n",
       "      <th>Tuning type</th>\n",
       "      <th>Set of features</th>\n",
       "      <th>MSE</th>\n",
       "      <th>RMSE</th>\n",
       "      <th>MAE</th>\n",
       "    </tr>\n",
       "  </thead>\n",
       "  <tbody>\n",
       "    <tr>\n",
       "      <th>0</th>\n",
       "      <td>chronological</td>\n",
       "      <td>default</td>\n",
       "      <td>expanded</td>\n",
       "      <td>0.260866</td>\n",
       "      <td>0.510751</td>\n",
       "      <td>0.357177</td>\n",
       "    </tr>\n",
       "    <tr>\n",
       "      <th>1</th>\n",
       "      <td>chronological</td>\n",
       "      <td>Optuna</td>\n",
       "      <td>expanded</td>\n",
       "      <td>0.212029</td>\n",
       "      <td>0.460466</td>\n",
       "      <td>0.328358</td>\n",
       "    </tr>\n",
       "    <tr>\n",
       "      <th>2</th>\n",
       "      <td>random</td>\n",
       "      <td>default</td>\n",
       "      <td>expanded</td>\n",
       "      <td>0.148111</td>\n",
       "      <td>0.384853</td>\n",
       "      <td>0.267273</td>\n",
       "    </tr>\n",
       "    <tr>\n",
       "      <th>3</th>\n",
       "      <td>random</td>\n",
       "      <td>Optuna</td>\n",
       "      <td>expanded</td>\n",
       "      <td>0.115864</td>\n",
       "      <td>0.340387</td>\n",
       "      <td>0.233378</td>\n",
       "    </tr>\n",
       "  </tbody>\n",
       "</table>\n",
       "</div>"
      ],
      "text/plain": [
       "      Split type Tuning type Set of features       MSE      RMSE       MAE\n",
       "0  chronological     default        expanded  0.260866  0.510751  0.357177\n",
       "1  chronological      Optuna        expanded  0.212029  0.460466  0.328358\n",
       "2         random     default        expanded  0.148111  0.384853  0.267273\n",
       "3         random      Optuna        expanded  0.115864  0.340387  0.233378"
      ]
     },
     "execution_count": 94,
     "metadata": {},
     "output_type": "execute_result"
    }
   ],
   "source": [
    "results"
   ]
  },
  {
   "cell_type": "code",
   "execution_count": 95,
   "id": "7e403b40",
   "metadata": {},
   "outputs": [],
   "source": [
    "from training.results import plot_summary"
   ]
  },
  {
   "cell_type": "code",
   "execution_count": 96,
   "id": "1072db81",
   "metadata": {},
   "outputs": [
    {
     "data": {
      "image/png": "[encoded data removed]",
      "text/plain": [
       "<Figure size 1440x576 with 1 Axes>"
      ]
     },
     "metadata": {
      "needs_background": "light"
     },
     "output_type": "display_data"
    }
   ],
   "source": [
    "plot_summary(results, \"RMSE\", title=\"RMSE for LightGBM with expanded features\")"
   ]
  },
  {
   "cell_type": "code",
   "execution_count": 97,
   "id": "0a073f44",
   "metadata": {},
   "outputs": [
    {
     "data": {
      "image/png": "[encoded data removed]",
      "text/plain": [
       "<Figure size 1440x576 with 1 Axes>"
      ]
     },
     "metadata": {
      "needs_background": "light"
     },
     "output_type": "display_data"
    }
   ],
   "source": [
    "plot_summary(results, \"MAE\", title=\"MAE for LightGBM with expanded features\")"
   ]
  },
  {
   "cell_type": "code",
   "execution_count": 98,
   "id": "157af270",
   "metadata": {},
   "outputs": [],
   "source": [
    "results.to_json(\"./lightgbm_second_results.json\")"
   ]
  },
  {
   "cell_type": "code",
   "execution_count": null,
   "id": "1b44b486",
   "metadata": {},
   "outputs": [],
   "source": []
  }
 ],
 "metadata": {
  "kernelspec": {
   "display_name": "Python 3 (ipykernel)",
   "language": "python",
   "name": "python3"
  },
  "language_info": {
   "codemirror_mode": {
    "name": "ipython",
    "version": 3
   },
   "file_extension": ".py",
   "mimetype": "text/x-python",
   "name": "python",
   "nbconvert_exporter": "python",
   "pygments_lexer": "ipython3",
   "version": "3.10.4"
  }
 },
 "nbformat": 4,
 "nbformat_minor": 5
}
