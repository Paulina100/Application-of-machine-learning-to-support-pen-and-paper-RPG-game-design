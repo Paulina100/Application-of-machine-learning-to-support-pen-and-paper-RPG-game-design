{
 "cells": [
  {
   "cell_type": "markdown",
   "id": "f64a671f",
   "metadata": {},
   "source": [
    "# LightGBM\n",
    "### Parameters:\n",
    "System:\n",
    "* **abilities**:\n",
    "    * **cha**\n",
    "    * **con**\n",
    "    * **dex**\n",
    "    * **int**\n",
    "    * **str**\n",
    "    * **wis**\n",
    "* **attributes**\n",
    "    * **hp**\n",
    "    * **ac**\n",
    "    * **perception**\n",
    "    * **speed** (*land speed*)\n",
    "        * **other speeds**: fly, climb, swim\n",
    "    * **num immunities**\n",
    "    * **resistances**: fire, cold, electricity, acid, piercing, slashing, physical, bludgeoning, mental, poison, all-damage\n",
    "    * **weaknesses**: cold-iron, good, fire, cold, area-damage, splash-damage, evil, slashing\n",
    "* **saves**\n",
    "    * **fortitude**\n",
    "    * **reflex**\n",
    "    * **will**\n",
    "* **resources**\n",
    "    * **focus**\n",
    "\n",
    "Items\n",
    "* **items**\n",
    "    * **melee**\n",
    "    * **ranged**\n",
    "    * **spells nr**\n",
    "\n",
    "### Prediction: *level*\n",
    "\n",
    "## Loading data"
   ]
  },
  {
   "cell_type": "code",
   "execution_count": 1,
   "id": "1f2515e7",
   "metadata": {},
   "outputs": [],
   "source": [
    "import numpy as np\n",
    "import pandas as pd\n",
    "import sys\n",
    "\n",
    "import os\n",
    "import pathlib\n",
    "\n",
    "sys.path.append(\"../../..\")\n",
    "from training.creating_dataset import load_and_preprocess_data\n",
    "\n",
    "current_path = os.getcwd()\n",
    "DATASETS_DIR = pathlib.Path(current_path).parent.parent.parent / \"pathfinder_2e_data\"\n",
    "DATASET_FILES = [\n",
    "    \"pathfinder-bestiary.db\",\n",
    "    \"pathfinder-bestiary-2.db\",\n",
    "    \"pathfinder-bestiary-3.db\",\n",
    "]\n",
    "DATASET_PATHS = [f\"{DATASETS_DIR}/{file}\" for file in DATASET_FILES]\n",
    "characteristics = [\n",
    "    \"cha\",\n",
    "    \"con\",\n",
    "    \"dex\",\n",
    "    \"int\",\n",
    "    \"str\",\n",
    "    \"wis\",\n",
    "    \"ac\",\n",
    "    \"hp\",\n",
    "    \"perception\",\n",
    "    \"fortitude\",\n",
    "    \"reflex\",\n",
    "    \"will\",\n",
    "    \"focus\",\n",
    "    \"land_speed\",\n",
    "    \"num_immunities\",\n",
    "    \"fly\",\n",
    "    \"swim\",\n",
    "    \"climb\",\n",
    "    \"fire_resistance\",\n",
    "    \"cold_resistance\",\n",
    "    \"electricity_resistance\",\n",
    "    \"acid_resistance\",\n",
    "    \"piercing_resistance\",\n",
    "    \"slashing_resistance\",\n",
    "    \"physical_resistance\",\n",
    "    \"bludgeoning_resistance\",\n",
    "    \"mental_resistance\",\n",
    "    \"poison_resistance\",\n",
    "    \"all-damage_resistance\",\n",
    "    \"cold-iron_weakness\",\n",
    "    \"good_weakness\",\n",
    "    \"fire_weakness\",\n",
    "    \"cold_weakness\",\n",
    "    \"area-damage_weakness\",\n",
    "    \"splash-damage_weakness\",\n",
    "    \"evil_weakness\",\n",
    "    \"slashing_weakness\",\n",
    "    \"melee\",\n",
    "    \"ranged\",\n",
    "    \"spells\",\n",
    "]\n",
    "\n",
    "df = load_and_preprocess_data(\n",
    "    DATASET_PATHS,\n",
    "    characteristics=characteristics,\n",
    ")"
   ]
  },
  {
   "cell_type": "code",
   "execution_count": 2,
   "id": "b522f880",
   "metadata": {},
   "outputs": [
    {
     "name": "stdout",
     "output_type": "stream",
     "text": [
      "<class 'pandas.core.frame.DataFrame'>\n",
      "Int64Index: 1206 entries, 0 to 1205\n",
      "Data columns (total 52 columns):\n",
      " #   Column                  Non-Null Count  Dtype  \n",
      "---  ------                  --------------  -----  \n",
      " 0   ac                      1206 non-null   int64  \n",
      " 1   dex                     1206 non-null   int64  \n",
      " 2   reflex                  1206 non-null   int64  \n",
      " 3   perception              1206 non-null   int64  \n",
      " 4   num_immunities          1206 non-null   int64  \n",
      " 5   fortitude               1206 non-null   int64  \n",
      " 6   int                     1206 non-null   int64  \n",
      " 7   wis                     1206 non-null   int64  \n",
      " 8   hp                      1206 non-null   int64  \n",
      " 9   will                    1206 non-null   int64  \n",
      " 10  focus                   1206 non-null   int32  \n",
      " 11  level                   1206 non-null   int64  \n",
      " 12  book                    1206 non-null   object \n",
      " 13  con                     1206 non-null   int64  \n",
      " 14  cha                     1206 non-null   int64  \n",
      " 15  str                     1206 non-null   int64  \n",
      " 16  land_speed              1206 non-null   float64\n",
      " 17  cold_resistance         1206 non-null   int64  \n",
      " 18  poison_resistance       1206 non-null   int64  \n",
      " 19  all-damage_resistance   1206 non-null   int64  \n",
      " 20  mental_resistance       1206 non-null   int64  \n",
      " 21  electricity_resistance  1206 non-null   int64  \n",
      " 22  slashing_resistance     1206 non-null   int64  \n",
      " 23  acid_resistance         1206 non-null   int64  \n",
      " 24  fire_resistance         1206 non-null   int64  \n",
      " 25  piercing_resistance     1206 non-null   int64  \n",
      " 26  physical_resistance     1206 non-null   int64  \n",
      " 27  bludgeoning_resistance  1206 non-null   int64  \n",
      " 28  cold_weakness           1206 non-null   int64  \n",
      " 29  evil_weakness           1206 non-null   int64  \n",
      " 30  area-damage_weakness    1206 non-null   int64  \n",
      " 31  good_weakness           1206 non-null   int64  \n",
      " 32  fire_weakness           1206 non-null   int64  \n",
      " 33  slashing_weakness       1206 non-null   int64  \n",
      " 34  cold-iron_weakness      1206 non-null   int64  \n",
      " 35  splash-damage_weakness  1206 non-null   int64  \n",
      " 36  climb                   1206 non-null   int64  \n",
      " 37  swim                    1206 non-null   int64  \n",
      " 38  fly                     1206 non-null   int64  \n",
      " 39  spells_nr_lvl_1         1206 non-null   int64  \n",
      " 40  spells_nr_lvl_2         1206 non-null   int64  \n",
      " 41  spells_nr_lvl_3         1206 non-null   int64  \n",
      " 42  spells_nr_lvl_4         1206 non-null   int64  \n",
      " 43  spells_nr_lvl_5         1206 non-null   int64  \n",
      " 44  spells_nr_lvl_6         1206 non-null   int64  \n",
      " 45  spells_nr_lvl_7         1206 non-null   int64  \n",
      " 46  spells_nr_lvl_8         1206 non-null   int64  \n",
      " 47  spells_nr_lvl_9         1206 non-null   int64  \n",
      " 48  melee_max_bonus         1206 non-null   int64  \n",
      " 49  avg_melee_dmg           1206 non-null   float64\n",
      " 50  ranged_max_bonus        1206 non-null   int64  \n",
      " 51  avg_ranged_dmg          1206 non-null   float64\n",
      "dtypes: float64(3), int32(1), int64(47), object(1)\n",
      "memory usage: 494.6+ KB\n"
     ]
    }
   ],
   "source": [
    "df.info()"
   ]
  },
  {
   "cell_type": "code",
   "execution_count": 3,
   "id": "1b5450d3",
   "metadata": {},
   "outputs": [
    {
     "data": {
      "text/html": [
       "<div>\n",
       "<style scoped>\n",
       "    .dataframe tbody tr th:only-of-type {\n",
       "        vertical-align: middle;\n",
       "    }\n",
       "\n",
       "    .dataframe tbody tr th {\n",
       "        vertical-align: top;\n",
       "    }\n",
       "\n",
       "    .dataframe thead th {\n",
       "        text-align: right;\n",
       "    }\n",
       "</style>\n",
       "<table border=\"1\" class=\"dataframe\">\n",
       "  <thead>\n",
       "    <tr style=\"text-align: right;\">\n",
       "      <th></th>\n",
       "      <th>ac</th>\n",
       "      <th>dex</th>\n",
       "      <th>reflex</th>\n",
       "      <th>perception</th>\n",
       "      <th>num_immunities</th>\n",
       "      <th>fortitude</th>\n",
       "      <th>int</th>\n",
       "      <th>wis</th>\n",
       "      <th>hp</th>\n",
       "      <th>will</th>\n",
       "      <th>...</th>\n",
       "      <th>spells_nr_lvl_4</th>\n",
       "      <th>spells_nr_lvl_5</th>\n",
       "      <th>spells_nr_lvl_6</th>\n",
       "      <th>spells_nr_lvl_7</th>\n",
       "      <th>spells_nr_lvl_8</th>\n",
       "      <th>spells_nr_lvl_9</th>\n",
       "      <th>melee_max_bonus</th>\n",
       "      <th>avg_melee_dmg</th>\n",
       "      <th>ranged_max_bonus</th>\n",
       "      <th>avg_ranged_dmg</th>\n",
       "    </tr>\n",
       "  </thead>\n",
       "  <tbody>\n",
       "    <tr>\n",
       "      <th>0</th>\n",
       "      <td>29</td>\n",
       "      <td>2</td>\n",
       "      <td>19</td>\n",
       "      <td>20</td>\n",
       "      <td>3</td>\n",
       "      <td>22</td>\n",
       "      <td>1</td>\n",
       "      <td>2</td>\n",
       "      <td>215</td>\n",
       "      <td>17</td>\n",
       "      <td>...</td>\n",
       "      <td>0</td>\n",
       "      <td>0</td>\n",
       "      <td>0</td>\n",
       "      <td>0</td>\n",
       "      <td>0</td>\n",
       "      <td>0</td>\n",
       "      <td>23</td>\n",
       "      <td>22.0</td>\n",
       "      <td>0</td>\n",
       "      <td>0.0</td>\n",
       "    </tr>\n",
       "    <tr>\n",
       "      <th>1</th>\n",
       "      <td>28</td>\n",
       "      <td>0</td>\n",
       "      <td>14</td>\n",
       "      <td>16</td>\n",
       "      <td>0</td>\n",
       "      <td>21</td>\n",
       "      <td>-4</td>\n",
       "      <td>2</td>\n",
       "      <td>220</td>\n",
       "      <td>16</td>\n",
       "      <td>...</td>\n",
       "      <td>0</td>\n",
       "      <td>0</td>\n",
       "      <td>0</td>\n",
       "      <td>0</td>\n",
       "      <td>0</td>\n",
       "      <td>0</td>\n",
       "      <td>23</td>\n",
       "      <td>22.0</td>\n",
       "      <td>0</td>\n",
       "      <td>0.0</td>\n",
       "    </tr>\n",
       "    <tr>\n",
       "      <th>2</th>\n",
       "      <td>25</td>\n",
       "      <td>3</td>\n",
       "      <td>17</td>\n",
       "      <td>17</td>\n",
       "      <td>0</td>\n",
       "      <td>20</td>\n",
       "      <td>-4</td>\n",
       "      <td>3</td>\n",
       "      <td>175</td>\n",
       "      <td>15</td>\n",
       "      <td>...</td>\n",
       "      <td>0</td>\n",
       "      <td>0</td>\n",
       "      <td>0</td>\n",
       "      <td>0</td>\n",
       "      <td>0</td>\n",
       "      <td>0</td>\n",
       "      <td>21</td>\n",
       "      <td>16.0</td>\n",
       "      <td>0</td>\n",
       "      <td>0.0</td>\n",
       "    </tr>\n",
       "    <tr>\n",
       "      <th>3</th>\n",
       "      <td>41</td>\n",
       "      <td>4</td>\n",
       "      <td>29</td>\n",
       "      <td>30</td>\n",
       "      <td>3</td>\n",
       "      <td>30</td>\n",
       "      <td>6</td>\n",
       "      <td>5</td>\n",
       "      <td>315</td>\n",
       "      <td>32</td>\n",
       "      <td>...</td>\n",
       "      <td>1</td>\n",
       "      <td>0</td>\n",
       "      <td>1</td>\n",
       "      <td>0</td>\n",
       "      <td>0</td>\n",
       "      <td>0</td>\n",
       "      <td>33</td>\n",
       "      <td>31.5</td>\n",
       "      <td>0</td>\n",
       "      <td>0.0</td>\n",
       "    </tr>\n",
       "    <tr>\n",
       "      <th>4</th>\n",
       "      <td>16</td>\n",
       "      <td>3</td>\n",
       "      <td>10</td>\n",
       "      <td>6</td>\n",
       "      <td>0</td>\n",
       "      <td>6</td>\n",
       "      <td>-1</td>\n",
       "      <td>1</td>\n",
       "      <td>20</td>\n",
       "      <td>4</td>\n",
       "      <td>...</td>\n",
       "      <td>1</td>\n",
       "      <td>0</td>\n",
       "      <td>0</td>\n",
       "      <td>0</td>\n",
       "      <td>0</td>\n",
       "      <td>0</td>\n",
       "      <td>0</td>\n",
       "      <td>0.0</td>\n",
       "      <td>8</td>\n",
       "      <td>5.0</td>\n",
       "    </tr>\n",
       "  </tbody>\n",
       "</table>\n",
       "<p>5 rows × 52 columns</p>\n",
       "</div>"
      ],
      "text/plain": [
       "   ac  dex  reflex  perception  num_immunities  fortitude  int  wis   hp  \\\n",
       "0  29    2      19          20               3         22    1    2  215   \n",
       "1  28    0      14          16               0         21   -4    2  220   \n",
       "2  25    3      17          17               0         20   -4    3  175   \n",
       "3  41    4      29          30               3         30    6    5  315   \n",
       "4  16    3      10           6               0          6   -1    1   20   \n",
       "\n",
       "   will  ...  spells_nr_lvl_4  spells_nr_lvl_5 spells_nr_lvl_6  \\\n",
       "0    17  ...                0                0               0   \n",
       "1    16  ...                0                0               0   \n",
       "2    15  ...                0                0               0   \n",
       "3    32  ...                1                0               1   \n",
       "4     4  ...                1                0               0   \n",
       "\n",
       "   spells_nr_lvl_7  spells_nr_lvl_8  spells_nr_lvl_9  melee_max_bonus  \\\n",
       "0                0                0                0               23   \n",
       "1                0                0                0               23   \n",
       "2                0                0                0               21   \n",
       "3                0                0                0               33   \n",
       "4                0                0                0                0   \n",
       "\n",
       "   avg_melee_dmg  ranged_max_bonus  avg_ranged_dmg  \n",
       "0           22.0                 0             0.0  \n",
       "1           22.0                 0             0.0  \n",
       "2           16.0                 0             0.0  \n",
       "3           31.5                 0             0.0  \n",
       "4            0.0                 8             5.0  \n",
       "\n",
       "[5 rows x 52 columns]"
      ]
     },
     "execution_count": 3,
     "metadata": {},
     "output_type": "execute_result"
    }
   ],
   "source": [
    "df.head()"
   ]
  },
  {
   "cell_type": "markdown",
   "id": "0caa661f",
   "metadata": {},
   "source": [
    "###### Level"
   ]
  },
  {
   "cell_type": "code",
   "execution_count": 4,
   "id": "c200d2b4",
   "metadata": {},
   "outputs": [
    {
     "data": {
      "text/plain": [
       "0       10\n",
       "1       10\n",
       "2        8\n",
       "3       17\n",
       "4        1\n",
       "        ..\n",
       "1201    20\n",
       "1202    -1\n",
       "1203    12\n",
       "1204     6\n",
       "1205     6\n",
       "Name: level, Length: 1206, dtype: int64"
      ]
     },
     "execution_count": 4,
     "metadata": {},
     "output_type": "execute_result"
    }
   ],
   "source": [
    "y = df[\"level\"]\n",
    "y"
   ]
  },
  {
   "cell_type": "code",
   "execution_count": 5,
   "id": "553822a7",
   "metadata": {},
   "outputs": [],
   "source": [
    "from collections import defaultdict\n",
    "\n",
    "\n",
    "lvl_stat = defaultdict(lambda: 0)\n",
    "\n",
    "for lvl in y:\n",
    "    lvl_stat[lvl] += 1"
   ]
  },
  {
   "cell_type": "code",
   "execution_count": 6,
   "id": "e45d6c29",
   "metadata": {},
   "outputs": [
    {
     "data": {
      "text/html": [
       "<div>\n",
       "<style scoped>\n",
       "    .dataframe tbody tr th:only-of-type {\n",
       "        vertical-align: middle;\n",
       "    }\n",
       "\n",
       "    .dataframe tbody tr th {\n",
       "        vertical-align: top;\n",
       "    }\n",
       "\n",
       "    .dataframe thead th {\n",
       "        text-align: right;\n",
       "    }\n",
       "</style>\n",
       "<table border=\"1\" class=\"dataframe\">\n",
       "  <thead>\n",
       "    <tr style=\"text-align: right;\">\n",
       "      <th></th>\n",
       "      <th>lvl</th>\n",
       "      <th>count</th>\n",
       "    </tr>\n",
       "  </thead>\n",
       "  <tbody>\n",
       "    <tr>\n",
       "      <th>0</th>\n",
       "      <td>-1</td>\n",
       "      <td>34</td>\n",
       "    </tr>\n",
       "    <tr>\n",
       "      <th>1</th>\n",
       "      <td>0</td>\n",
       "      <td>27</td>\n",
       "    </tr>\n",
       "    <tr>\n",
       "      <th>2</th>\n",
       "      <td>1</td>\n",
       "      <td>127</td>\n",
       "    </tr>\n",
       "    <tr>\n",
       "      <th>3</th>\n",
       "      <td>2</td>\n",
       "      <td>121</td>\n",
       "    </tr>\n",
       "    <tr>\n",
       "      <th>4</th>\n",
       "      <td>3</td>\n",
       "      <td>95</td>\n",
       "    </tr>\n",
       "    <tr>\n",
       "      <th>5</th>\n",
       "      <td>4</td>\n",
       "      <td>82</td>\n",
       "    </tr>\n",
       "    <tr>\n",
       "      <th>6</th>\n",
       "      <td>5</td>\n",
       "      <td>76</td>\n",
       "    </tr>\n",
       "    <tr>\n",
       "      <th>7</th>\n",
       "      <td>6</td>\n",
       "      <td>72</td>\n",
       "    </tr>\n",
       "    <tr>\n",
       "      <th>8</th>\n",
       "      <td>7</td>\n",
       "      <td>77</td>\n",
       "    </tr>\n",
       "    <tr>\n",
       "      <th>9</th>\n",
       "      <td>8</td>\n",
       "      <td>68</td>\n",
       "    </tr>\n",
       "    <tr>\n",
       "      <th>10</th>\n",
       "      <td>9</td>\n",
       "      <td>63</td>\n",
       "    </tr>\n",
       "    <tr>\n",
       "      <th>11</th>\n",
       "      <td>10</td>\n",
       "      <td>58</td>\n",
       "    </tr>\n",
       "    <tr>\n",
       "      <th>12</th>\n",
       "      <td>11</td>\n",
       "      <td>40</td>\n",
       "    </tr>\n",
       "    <tr>\n",
       "      <th>13</th>\n",
       "      <td>12</td>\n",
       "      <td>41</td>\n",
       "    </tr>\n",
       "    <tr>\n",
       "      <th>14</th>\n",
       "      <td>13</td>\n",
       "      <td>36</td>\n",
       "    </tr>\n",
       "    <tr>\n",
       "      <th>15</th>\n",
       "      <td>14</td>\n",
       "      <td>33</td>\n",
       "    </tr>\n",
       "    <tr>\n",
       "      <th>16</th>\n",
       "      <td>15</td>\n",
       "      <td>31</td>\n",
       "    </tr>\n",
       "    <tr>\n",
       "      <th>17</th>\n",
       "      <td>16</td>\n",
       "      <td>25</td>\n",
       "    </tr>\n",
       "    <tr>\n",
       "      <th>18</th>\n",
       "      <td>17</td>\n",
       "      <td>21</td>\n",
       "    </tr>\n",
       "    <tr>\n",
       "      <th>19</th>\n",
       "      <td>18</td>\n",
       "      <td>21</td>\n",
       "    </tr>\n",
       "    <tr>\n",
       "      <th>20</th>\n",
       "      <td>19</td>\n",
       "      <td>18</td>\n",
       "    </tr>\n",
       "    <tr>\n",
       "      <th>21</th>\n",
       "      <td>20</td>\n",
       "      <td>24</td>\n",
       "    </tr>\n",
       "    <tr>\n",
       "      <th>22</th>\n",
       "      <td>21</td>\n",
       "      <td>16</td>\n",
       "    </tr>\n",
       "  </tbody>\n",
       "</table>\n",
       "</div>"
      ],
      "text/plain": [
       "    lvl  count\n",
       "0    -1     34\n",
       "1     0     27\n",
       "2     1    127\n",
       "3     2    121\n",
       "4     3     95\n",
       "5     4     82\n",
       "6     5     76\n",
       "7     6     72\n",
       "8     7     77\n",
       "9     8     68\n",
       "10    9     63\n",
       "11   10     58\n",
       "12   11     40\n",
       "13   12     41\n",
       "14   13     36\n",
       "15   14     33\n",
       "16   15     31\n",
       "17   16     25\n",
       "18   17     21\n",
       "19   18     21\n",
       "20   19     18\n",
       "21   20     24\n",
       "22   21     16"
      ]
     },
     "execution_count": 6,
     "metadata": {},
     "output_type": "execute_result"
    }
   ],
   "source": [
    "level_count = pd.DataFrame(\n",
    "    data={\n",
    "        \"lvl\": [key for key in sorted(lvl_stat.keys())],\n",
    "        \"count\": [lvl_stat.get(key) for key in sorted(lvl_stat.keys())],\n",
    "    }\n",
    ")\n",
    "level_count"
   ]
  },
  {
   "cell_type": "code",
   "execution_count": 7,
   "id": "bdbfe8de",
   "metadata": {},
   "outputs": [
    {
     "data": {
      "image/png": "[encoded data removed]",
      "text/plain": [
       "<Figure size 432x288 with 1 Axes>"
      ]
     },
     "metadata": {
      "needs_background": "light"
     },
     "output_type": "display_data"
    }
   ],
   "source": [
    "import matplotlib.pyplot as plt\n",
    "\n",
    "\n",
    "level_count.plot.bar(x=\"lvl\", y=\"count\", title=\"Count of levels\")\n",
    "plt.show()"
   ]
  },
  {
   "cell_type": "markdown",
   "id": "9fdb6541",
   "metadata": {},
   "source": [
    "## Train test split"
   ]
  },
  {
   "cell_type": "markdown",
   "id": "18f56629",
   "metadata": {},
   "source": [
    "### Chronological split"
   ]
  },
  {
   "cell_type": "code",
   "execution_count": 8,
   "id": "dcda359b",
   "metadata": {},
   "outputs": [],
   "source": [
    "from training.splitting_dataset import split_dataframe\n",
    "\n",
    "\n",
    "os.chdir(\"../../../training\")\n",
    "X_train, X_test, y_train, y_test = split_dataframe(df, test_size=0.31)\n",
    "os.chdir(\"../notebooks/models/lightgbm\")"
   ]
  },
  {
   "cell_type": "code",
   "execution_count": 9,
   "id": "17dbc875",
   "metadata": {},
   "outputs": [],
   "source": [
    "X_train = X_train.drop(columns=[\"book\"])\n",
    "X_test = X_test.drop(columns=[\"book\"])"
   ]
  },
  {
   "cell_type": "markdown",
   "id": "25879636",
   "metadata": {},
   "source": [
    "### Random split"
   ]
  },
  {
   "cell_type": "code",
   "execution_count": 10,
   "id": "982ec5eb",
   "metadata": {},
   "outputs": [],
   "source": [
    "(\n",
    "    X_train_random_split,\n",
    "    X_test_random_split,\n",
    "    y_train_random_split,\n",
    "    y_test_random_split,\n",
    ") = split_dataframe(df, chronological_split=False)"
   ]
  },
  {
   "cell_type": "code",
   "execution_count": 11,
   "id": "90569e78",
   "metadata": {},
   "outputs": [],
   "source": [
    "X_train_random_split = X_train_random_split.drop(columns=[\"book\"])\n",
    "X_test_random_split = X_test_random_split.drop(columns=[\"book\"])"
   ]
  },
  {
   "cell_type": "markdown",
   "id": "9b259fbf",
   "metadata": {},
   "source": [
    "## LightGBM"
   ]
  },
  {
   "cell_type": "markdown",
   "id": "14f37d9b",
   "metadata": {},
   "source": [
    "## Chronological split"
   ]
  },
  {
   "cell_type": "code",
   "execution_count": 12,
   "id": "2bc4c90e",
   "metadata": {},
   "outputs": [
    {
     "name": "stdout",
     "output_type": "stream",
     "text": [
      "[LightGBM] [Warning] Auto-choosing row-wise multi-threading, the overhead of testing was 0.001772 seconds.\n",
      "You can set `force_row_wise=true` to remove the overhead.\n",
      "And if memory is not enough, you can set `force_col_wise=true`.\n",
      "[LightGBM] [Info] Total Bins 756\n",
      "[LightGBM] [Info] Number of data points in the train set: 841, number of used features: 45\n",
      "[LightGBM] [Info] Start training from score 6.966706\n",
      "Training until validation scores don't improve for 5 rounds\n",
      "[LightGBM] [Warning] No further splits with positive gain, best gain: -inf\n",
      "[LightGBM] [Warning] No further splits with positive gain, best gain: -inf\n",
      "[LightGBM] [Warning] No further splits with positive gain, best gain: -inf\n",
      "[LightGBM] [Warning] No further splits with positive gain, best gain: -inf\n",
      "[LightGBM] [Warning] No further splits with positive gain, best gain: -inf\n",
      "[LightGBM] [Warning] No further splits with positive gain, best gain: -inf\n",
      "[LightGBM] [Warning] No further splits with positive gain, best gain: -inf\n",
      "Did not meet early stopping. Best iteration is:\n",
      "[100]\tvalid_0's l1: 0.45963\tvalid_0's l2: 0.913544\n"
     ]
    }
   ],
   "source": [
    "import lightgbm as lgb\n",
    "\n",
    "lgb_train = lgb.Dataset(X_train, y_train)\n",
    "lgb_eval = lgb.Dataset(X_test, y_test, reference=lgb_train)\n",
    "\n",
    "params = {\n",
    "    \"boosting_type\": \"gbdt\",\n",
    "    \"objective\": \"regression\",\n",
    "    \"metric\": {\"l2\", \"l1\"},\n",
    "}\n",
    "\n",
    "gbm = lgb.train(\n",
    "    params,\n",
    "    lgb_train,\n",
    "    num_boost_round=100,\n",
    "    valid_sets=lgb_eval,\n",
    "    callbacks=[lgb.early_stopping(stopping_rounds=5)],\n",
    ")"
   ]
  },
  {
   "cell_type": "code",
   "execution_count": 13,
   "id": "f1ae2eaa",
   "metadata": {},
   "outputs": [],
   "source": [
    "y_pred_train = gbm.predict(X_train, num_iteration=gbm.best_iteration)\n",
    "y_pred_test = gbm.predict(X_test, num_iteration=gbm.best_iteration)"
   ]
  },
  {
   "cell_type": "code",
   "execution_count": 14,
   "id": "ef9d09eb",
   "metadata": {},
   "outputs": [
    {
     "name": "stdout",
     "output_type": "stream",
     "text": [
      "MSE: 0.91\n",
      "RMSE: 0.96\n",
      "MAE: 0.46\n"
     ]
    }
   ],
   "source": [
    "from sklearn.metrics import mean_squared_error, mean_absolute_error\n",
    "\n",
    "\n",
    "mse = mean_squared_error(y_test, y_pred_test)\n",
    "rmse = mean_squared_error(y_test, y_pred_test, squared=False)\n",
    "mae = mean_absolute_error(y_test, y_pred_test)\n",
    "\n",
    "print(f\"MSE: {mse:.2f}\")\n",
    "print(f\"RMSE: {rmse:.2f}\")\n",
    "print(f\"MAE: {mae:.2f}\")"
   ]
  },
  {
   "cell_type": "code",
   "execution_count": 15,
   "id": "6e288d53",
   "metadata": {},
   "outputs": [],
   "source": [
    "results = pd.DataFrame(\n",
    "    data={\n",
    "        \"Split type\": [],\n",
    "        \"Tuning type\": [],\n",
    "        \"Number of characteristics\": [],\n",
    "        \"MSE\": [],\n",
    "        \"RMSE\": [],\n",
    "        \"MAE\": [],\n",
    "    }\n",
    ")\n",
    "\n",
    "results.loc[0] = [\"chronological\", \"normal\", len(X_test.columns), mse, rmse, mae]"
   ]
  },
  {
   "cell_type": "code",
   "execution_count": 16,
   "id": "78bb7ffa",
   "metadata": {},
   "outputs": [
    {
     "name": "stdout",
     "output_type": "stream",
     "text": [
      "RMSE train: 0.11\n",
      "RMSE test: 0.96\n"
     ]
    }
   ],
   "source": [
    "rmse_train = mean_squared_error(y_train, y_pred_train, squared=False)\n",
    "rmse_test = mean_squared_error(y_test, y_pred_test, squared=False)\n",
    "print(f\"RMSE train: {rmse_train:.2f}\")\n",
    "print(f\"RMSE test: {rmse_test:.2f}\")"
   ]
  },
  {
   "cell_type": "markdown",
   "id": "1822ab4b",
   "metadata": {},
   "source": [
    "###### MAE by level"
   ]
  },
  {
   "cell_type": "code",
   "execution_count": 17,
   "id": "89d4733e",
   "metadata": {},
   "outputs": [],
   "source": [
    "from training.results import plot_mae_by_level"
   ]
  },
  {
   "cell_type": "code",
   "execution_count": 18,
   "id": "062bc79b",
   "metadata": {},
   "outputs": [
    {
     "data": {
      "image/png": "[encoded data removed]",
      "text/plain": [
       "<Figure size 720x432 with 1 Axes>"
      ]
     },
     "metadata": {
      "needs_background": "light"
     },
     "output_type": "display_data"
    }
   ],
   "source": [
    "plot_mae_by_level(y_test, y_pred_test)"
   ]
  },
  {
   "cell_type": "code",
   "execution_count": 19,
   "id": "ec8cab49",
   "metadata": {
    "scrolled": true
   },
   "outputs": [
    {
     "name": "stdout",
     "output_type": "stream",
     "text": [
      "Normal:\n",
      "MSE: 0.91\n",
      "RMSE: 0.96\n",
      "\n",
      "Round type: round\n",
      "MSE: 0.94\n",
      "RMSE: 0.97\n",
      "\n",
      "Round type: 0.33\n",
      "MSE: 0.91\n",
      "RMSE: 0.96\n",
      "\n",
      "Round type: 0.45\n",
      "MSE: 0.90\n",
      "RMSE: 0.95\n",
      "\n"
     ]
    }
   ],
   "source": [
    "from training.results import check_round_predictions, plot_confusion_matrix\n",
    "\n",
    "\n",
    "check_round_predictions([\"round\", 0.33, 0.45], y_test, y_pred_test)"
   ]
  },
  {
   "cell_type": "code",
   "execution_count": 20,
   "id": "9129a0ae",
   "metadata": {},
   "outputs": [
    {
     "data": {
      "image/png": "[encoded data removed]",
      "text/plain": [
       "<Figure size 432x288 with 2 Axes>"
      ]
     },
     "metadata": {
      "needs_background": "light"
     },
     "output_type": "display_data"
    }
   ],
   "source": [
    "plot_confusion_matrix(\"round\", y_pred_test, y_test)"
   ]
  },
  {
   "cell_type": "markdown",
   "id": "0e591f6c",
   "metadata": {},
   "source": [
    "#### Tuning"
   ]
  },
  {
   "cell_type": "code",
   "execution_count": 21,
   "id": "2f781cab",
   "metadata": {},
   "outputs": [],
   "source": [
    "from training.results import assess_regression_model"
   ]
  },
  {
   "cell_type": "code",
   "execution_count": 22,
   "id": "d8734e01",
   "metadata": {},
   "outputs": [
    {
     "name": "stderr",
     "output_type": "stream",
     "text": [
      "[I 2023-11-04 13:51:46,452] A new study created in memory with name: no-name-786df58b-8688-473b-a3d0-9ad862660246\n",
      "feature_fraction, val_score: inf:   0%|                                                          | 0/7 [00:00<?, ?it/s]"
     ]
    },
    {
     "name": "stdout",
     "output_type": "stream",
     "text": [
      "Training until validation scores don't improve for 100 rounds\n",
      "[100]\tcv_agg's l2: 0.141966 + 0.0307739\n",
      "[200]\tcv_agg's l2: 0.138724 + 0.0299803\n",
      "[300]\tcv_agg's l2: 0.137928 + 0.0294349\n",
      "[400]\tcv_agg's l2: 0.137663 + 0.0294396\n",
      "[500]\tcv_agg's l2: 0.137494 + 0.0292925\n",
      "[600]\tcv_agg's l2: 0.137429 + 0.0292935\n",
      "[700]\tcv_agg's l2: 0.13742 + 0.0293965\n"
     ]
    },
    {
     "name": "stderr",
     "output_type": "stream",
     "text": [
      "feature_fraction, val_score: 0.137355:  14%|######4                                      | 1/7 [00:15<01:31, 15.27s/it][I 2023-11-04 13:52:01,727] Trial 0 finished with value: 0.13735474937711178 and parameters: {'feature_fraction': 0.7}. Best is trial 0 with value: 0.13735474937711178.\n",
      "feature_fraction, val_score: 0.137355:  14%|######4                                      | 1/7 [00:15<01:31, 15.27s/it]"
     ]
    },
    {
     "name": "stdout",
     "output_type": "stream",
     "text": [
      "Early stopping, best iteration is:\n",
      "[666]\tcv_agg's l2: 0.137355 + 0.0293748\n",
      "[100]\tcv_agg's l2: 0.141087 + 0.0319219\n",
      "[200]\tcv_agg's l2: 0.13831 + 0.0301992\n",
      "[300]\tcv_agg's l2: 0.136812 + 0.0294985\n",
      "[400]\tcv_agg's l2: 0.135911 + 0.0296365\n",
      "[500]\tcv_agg's l2: 0.135939 + 0.0294235\n"
     ]
    },
    {
     "name": "stderr",
     "output_type": "stream",
     "text": [
      "feature_fraction, val_score: 0.135787:  29%|############8                                | 2/7 [00:25<01:02, 12.45s/it][I 2023-11-04 13:52:12,205] Trial 1 finished with value: 0.13578724852356153 and parameters: {'feature_fraction': 0.6}. Best is trial 1 with value: 0.13578724852356153.\n",
      "feature_fraction, val_score: 0.135787:  29%|############8                                | 2/7 [00:25<01:02, 12.45s/it]"
     ]
    },
    {
     "name": "stdout",
     "output_type": "stream",
     "text": [
      "Early stopping, best iteration is:\n",
      "[457]\tcv_agg's l2: 0.135787 + 0.029443\n",
      "[100]\tcv_agg's l2: 0.144932 + 0.0354833\n",
      "[200]\tcv_agg's l2: 0.140918 + 0.0350618\n",
      "[300]\tcv_agg's l2: 0.139622 + 0.0340435\n",
      "[400]\tcv_agg's l2: 0.138968 + 0.0332552\n",
      "[500]\tcv_agg's l2: 0.138552 + 0.0333019\n"
     ]
    },
    {
     "name": "stderr",
     "output_type": "stream",
     "text": [
      "feature_fraction, val_score: 0.135787:  43%|###################2                         | 3/7 [00:35<00:45, 11.33s/it][I 2023-11-04 13:52:22,212] Trial 2 finished with value: 0.13877375227270577 and parameters: {'feature_fraction': 0.4}. Best is trial 1 with value: 0.13578724852356153.\n",
      "feature_fraction, val_score: 0.135787:  43%|###################2                         | 3/7 [00:35<00:45, 11.33s/it]"
     ]
    },
    {
     "name": "stdout",
     "output_type": "stream",
     "text": [
      "Early stopping, best iteration is:\n",
      "[457]\tcv_agg's l2: 0.135787 + 0.029443\n",
      "[100]\tcv_agg's l2: 0.139189 + 0.030512\n",
      "[200]\tcv_agg's l2: 0.135563 + 0.028169\n",
      "[300]\tcv_agg's l2: 0.13502 + 0.0277975\n"
     ]
    },
    {
     "name": "stderr",
     "output_type": "stream",
     "text": [
      "feature_fraction, val_score: 0.134872:  57%|#########################7                   | 4/7 [00:41<00:27,  9.31s/it][I 2023-11-04 13:52:28,409] Trial 3 finished with value: 0.1348724077943838 and parameters: {'feature_fraction': 0.8}. Best is trial 3 with value: 0.1348724077943838.\n",
      "feature_fraction, val_score: 0.134872:  57%|#########################7                   | 4/7 [00:41<00:27,  9.31s/it]"
     ]
    },
    {
     "name": "stdout",
     "output_type": "stream",
     "text": [
      "Early stopping, best iteration is:\n",
      "[258]\tcv_agg's l2: 0.134872 + 0.0276268\n",
      "[100]\tcv_agg's l2: 0.152168 + 0.0369166\n",
      "[200]\tcv_agg's l2: 0.149945 + 0.0370571\n",
      "[300]\tcv_agg's l2: 0.149451 + 0.0369843\n"
     ]
    },
    {
     "name": "stderr",
     "output_type": "stream",
     "text": [
      "feature_fraction, val_score: 0.134872:  71%|################################1            | 5/7 [00:48<00:16,  8.21s/it][I 2023-11-04 13:52:34,672] Trial 4 finished with value: 0.14984477635722232 and parameters: {'feature_fraction': 1.0}. Best is trial 3 with value: 0.1348724077943838.\n",
      "feature_fraction, val_score: 0.134872:  71%|################################1            | 5/7 [00:48<00:16,  8.21s/it]"
     ]
    },
    {
     "name": "stdout",
     "output_type": "stream",
     "text": [
      "Early stopping, best iteration is:\n",
      "[258]\tcv_agg's l2: 0.134872 + 0.0276268\n",
      "[100]\tcv_agg's l2: 0.149446 + 0.0345664\n",
      "[200]\tcv_agg's l2: 0.146274 + 0.034474\n",
      "[300]\tcv_agg's l2: 0.145863 + 0.0343339\n"
     ]
    },
    {
     "name": "stderr",
     "output_type": "stream",
     "text": [
      "feature_fraction, val_score: 0.134872:  86%|######################################5      | 6/7 [00:56<00:08,  8.10s/it][I 2023-11-04 13:52:42,571] Trial 5 finished with value: 0.14570839590351575 and parameters: {'feature_fraction': 0.8999999999999999}. Best is trial 3 with value: 0.1348724077943838.\n",
      "feature_fraction, val_score: 0.134872:  86%|######################################5      | 6/7 [00:56<00:08,  8.10s/it]"
     ]
    },
    {
     "name": "stdout",
     "output_type": "stream",
     "text": [
      "Early stopping, best iteration is:\n",
      "[258]\tcv_agg's l2: 0.134872 + 0.0276268\n",
      "[100]\tcv_agg's l2: 0.141479 + 0.0350286\n",
      "[200]\tcv_agg's l2: 0.135993 + 0.0323897\n",
      "[300]\tcv_agg's l2: 0.135652 + 0.0315328\n"
     ]
    },
    {
     "name": "stderr",
     "output_type": "stream",
     "text": [
      "feature_fraction, val_score: 0.134872: 100%|#############################################| 7/7 [01:04<00:00,  8.11s/it][I 2023-11-04 13:52:50,701] Trial 6 finished with value: 0.1355833864572593 and parameters: {'feature_fraction': 0.5}. Best is trial 3 with value: 0.1348724077943838.\n",
      "feature_fraction, val_score: 0.134872: 100%|#############################################| 7/7 [01:04<00:00,  9.18s/it]\n"
     ]
    },
    {
     "name": "stdout",
     "output_type": "stream",
     "text": [
      "Early stopping, best iteration is:\n",
      "[258]\tcv_agg's l2: 0.134872 + 0.0276268\n"
     ]
    },
    {
     "name": "stderr",
     "output_type": "stream",
     "text": [
      "num_leaves, val_score: 0.134872:   0%|                                                          | 0/20 [00:00<?, ?it/s]"
     ]
    },
    {
     "name": "stdout",
     "output_type": "stream",
     "text": [
      "[100]\tcv_agg's l2: 0.139189 + 0.030512\n",
      "[200]\tcv_agg's l2: 0.135563 + 0.028169\n",
      "[300]\tcv_agg's l2: 0.13502 + 0.0277975\n"
     ]
    },
    {
     "name": "stderr",
     "output_type": "stream",
     "text": [
      "num_leaves, val_score: 0.134872:   5%|##5                                               | 1/20 [00:07<02:21,  7.46s/it][I 2023-11-04 13:52:58,166] Trial 7 finished with value: 0.1348724077943838 and parameters: {'num_leaves': 33}. Best is trial 7 with value: 0.1348724077943838.\n",
      "num_leaves, val_score: 0.134872:   5%|##5                                               | 1/20 [00:07<02:21,  7.46s/it]"
     ]
    },
    {
     "name": "stdout",
     "output_type": "stream",
     "text": [
      "Early stopping, best iteration is:\n",
      "[258]\tcv_agg's l2: 0.134872 + 0.0276268\n",
      "[100]\tcv_agg's l2: 0.139189 + 0.030512\n",
      "[200]\tcv_agg's l2: 0.135563 + 0.028169\n",
      "[300]\tcv_agg's l2: 0.13502 + 0.0277975\n"
     ]
    },
    {
     "name": "stderr",
     "output_type": "stream",
     "text": [
      "num_leaves, val_score: 0.134872:  10%|#####                                             | 2/20 [00:16<02:33,  8.53s/it][I 2023-11-04 13:53:07,446] Trial 8 finished with value: 0.1348724077943838 and parameters: {'num_leaves': 36}. Best is trial 7 with value: 0.1348724077943838.\n",
      "num_leaves, val_score: 0.134872:  10%|#####                                             | 2/20 [00:16<02:33,  8.53s/it]"
     ]
    },
    {
     "name": "stdout",
     "output_type": "stream",
     "text": [
      "Early stopping, best iteration is:\n",
      "[258]\tcv_agg's l2: 0.134872 + 0.0276268\n",
      "[100]\tcv_agg's l2: 0.139189 + 0.030512\n",
      "[200]\tcv_agg's l2: 0.135563 + 0.028169\n",
      "[300]\tcv_agg's l2: 0.13502 + 0.0277975\n"
     ]
    },
    {
     "name": "stderr",
     "output_type": "stream",
     "text": [
      "num_leaves, val_score: 0.134872:  15%|#######5                                          | 3/20 [00:23<02:09,  7.64s/it][I 2023-11-04 13:53:14,030] Trial 9 finished with value: 0.1348724077943838 and parameters: {'num_leaves': 157}. Best is trial 7 with value: 0.1348724077943838.\n",
      "num_leaves, val_score: 0.134872:  15%|#######5                                          | 3/20 [00:23<02:09,  7.64s/it]"
     ]
    },
    {
     "name": "stdout",
     "output_type": "stream",
     "text": [
      "Early stopping, best iteration is:\n",
      "[258]\tcv_agg's l2: 0.134872 + 0.0276268\n",
      "[100]\tcv_agg's l2: 0.139189 + 0.030512\n",
      "[200]\tcv_agg's l2: 0.135563 + 0.028169\n",
      "[300]\tcv_agg's l2: 0.13502 + 0.0277975\n"
     ]
    },
    {
     "name": "stderr",
     "output_type": "stream",
     "text": [
      "num_leaves, val_score: 0.134872:  20%|##########                                        | 4/20 [00:29<01:54,  7.17s/it][I 2023-11-04 13:53:20,489] Trial 10 finished with value: 0.1348724077943838 and parameters: {'num_leaves': 240}. Best is trial 7 with value: 0.1348724077943838.\n",
      "num_leaves, val_score: 0.134872:  20%|##########                                        | 4/20 [00:29<01:54,  7.17s/it]"
     ]
    },
    {
     "name": "stdout",
     "output_type": "stream",
     "text": [
      "Early stopping, best iteration is:\n",
      "[258]\tcv_agg's l2: 0.134872 + 0.0276268\n",
      "[100]\tcv_agg's l2: 0.141415 + 0.0272483\n",
      "[200]\tcv_agg's l2: 0.136211 + 0.0256533\n",
      "[300]\tcv_agg's l2: 0.135798 + 0.0247016\n"
     ]
    },
    {
     "name": "stderr",
     "output_type": "stream",
     "text": [
      "num_leaves, val_score: 0.134872:  25%|############5                                     | 5/20 [00:33<01:28,  5.88s/it][I 2023-11-04 13:53:24,070] Trial 11 finished with value: 0.1355863972636435 and parameters: {'num_leaves': 13}. Best is trial 7 with value: 0.1348724077943838.\n",
      "num_leaves, val_score: 0.134872:  25%|############5                                     | 5/20 [00:33<01:28,  5.88s/it]"
     ]
    },
    {
     "name": "stdout",
     "output_type": "stream",
     "text": [
      "Early stopping, best iteration is:\n",
      "[258]\tcv_agg's l2: 0.134872 + 0.0276268\n",
      "[100]\tcv_agg's l2: 0.139189 + 0.030512\n",
      "[200]\tcv_agg's l2: 0.135563 + 0.028169\n",
      "[300]\tcv_agg's l2: 0.13502 + 0.0277975\n"
     ]
    },
    {
     "name": "stderr",
     "output_type": "stream",
     "text": [
      "num_leaves, val_score: 0.134872:  30%|###############                                   | 6/20 [00:39<01:23,  5.97s/it][I 2023-11-04 13:53:30,218] Trial 12 finished with value: 0.1348724077943838 and parameters: {'num_leaves': 98}. Best is trial 7 with value: 0.1348724077943838.\n",
      "num_leaves, val_score: 0.134872:  30%|###############                                   | 6/20 [00:39<01:23,  5.97s/it]"
     ]
    },
    {
     "name": "stdout",
     "output_type": "stream",
     "text": [
      "Early stopping, best iteration is:\n",
      "[258]\tcv_agg's l2: 0.134872 + 0.0276268\n",
      "[100]\tcv_agg's l2: 0.139189 + 0.030512\n",
      "[200]\tcv_agg's l2: 0.135563 + 0.028169\n",
      "[300]\tcv_agg's l2: 0.13502 + 0.0277975\n"
     ]
    },
    {
     "name": "stderr",
     "output_type": "stream",
     "text": [
      "num_leaves, val_score: 0.134872:  35%|#################5                                | 7/20 [00:46<01:20,  6.20s/it][I 2023-11-04 13:53:36,886] Trial 13 finished with value: 0.1348724077943838 and parameters: {'num_leaves': 98}. Best is trial 7 with value: 0.1348724077943838.\n",
      "num_leaves, val_score: 0.134872:  35%|#################5                                | 7/20 [00:46<01:20,  6.20s/it]"
     ]
    },
    {
     "name": "stdout",
     "output_type": "stream",
     "text": [
      "Early stopping, best iteration is:\n",
      "[258]\tcv_agg's l2: 0.134872 + 0.0276268\n",
      "[100]\tcv_agg's l2: 0.139189 + 0.030512\n",
      "[200]\tcv_agg's l2: 0.135563 + 0.028169\n",
      "[300]\tcv_agg's l2: 0.13502 + 0.0277975\n"
     ]
    },
    {
     "name": "stderr",
     "output_type": "stream",
     "text": [
      "num_leaves, val_score: 0.134872:  40%|####################                              | 8/20 [00:52<01:16,  6.37s/it][I 2023-11-04 13:53:43,631] Trial 14 finished with value: 0.1348724077943838 and parameters: {'num_leaves': 166}. Best is trial 7 with value: 0.1348724077943838.\n",
      "num_leaves, val_score: 0.134872:  40%|####################                              | 8/20 [00:52<01:16,  6.37s/it]"
     ]
    },
    {
     "name": "stdout",
     "output_type": "stream",
     "text": [
      "Early stopping, best iteration is:\n",
      "[258]\tcv_agg's l2: 0.134872 + 0.0276268\n",
      "[100]\tcv_agg's l2: 0.139189 + 0.030512\n",
      "[200]\tcv_agg's l2: 0.135563 + 0.028169\n",
      "[300]\tcv_agg's l2: 0.13502 + 0.0277975\n"
     ]
    },
    {
     "name": "stderr",
     "output_type": "stream",
     "text": [
      "num_leaves, val_score: 0.134872:  45%|######################5                           | 9/20 [00:59<01:10,  6.43s/it][I 2023-11-04 13:53:50,187] Trial 15 finished with value: 0.1348724077943838 and parameters: {'num_leaves': 59}. Best is trial 7 with value: 0.1348724077943838.\n",
      "num_leaves, val_score: 0.134872:  45%|######################5                           | 9/20 [00:59<01:10,  6.43s/it]"
     ]
    },
    {
     "name": "stdout",
     "output_type": "stream",
     "text": [
      "Early stopping, best iteration is:\n",
      "[258]\tcv_agg's l2: 0.134872 + 0.0276268\n",
      "[100]\tcv_agg's l2: 0.139189 + 0.030512\n",
      "[200]\tcv_agg's l2: 0.135563 + 0.028169\n",
      "[300]\tcv_agg's l2: 0.13502 + 0.0277975\n"
     ]
    },
    {
     "name": "stderr",
     "output_type": "stream",
     "text": [
      "num_leaves, val_score: 0.134872:  50%|########################5                        | 10/20 [01:07<01:09,  6.95s/it][I 2023-11-04 13:53:58,297] Trial 16 finished with value: 0.1348724077943838 and parameters: {'num_leaves': 226}. Best is trial 7 with value: 0.1348724077943838.\n",
      "num_leaves, val_score: 0.134872:  50%|########################5                        | 10/20 [01:07<01:09,  6.95s/it]"
     ]
    },
    {
     "name": "stdout",
     "output_type": "stream",
     "text": [
      "Early stopping, best iteration is:\n",
      "[258]\tcv_agg's l2: 0.134872 + 0.0276268\n",
      "[100]\tcv_agg's l2: 0.139189 + 0.030512\n",
      "[200]\tcv_agg's l2: 0.135563 + 0.028169\n",
      "[300]\tcv_agg's l2: 0.13502 + 0.0277975\n"
     ]
    },
    {
     "name": "stderr",
     "output_type": "stream",
     "text": [
      "num_leaves, val_score: 0.134872:  55%|##########################9                      | 11/20 [01:19<01:16,  8.49s/it][I 2023-11-04 13:54:10,286] Trial 17 finished with value: 0.1348724077943838 and parameters: {'num_leaves': 67}. Best is trial 7 with value: 0.1348724077943838.\n",
      "num_leaves, val_score: 0.134872:  55%|##########################9                      | 11/20 [01:19<01:16,  8.49s/it]"
     ]
    },
    {
     "name": "stdout",
     "output_type": "stream",
     "text": [
      "Early stopping, best iteration is:\n",
      "[258]\tcv_agg's l2: 0.134872 + 0.0276268\n",
      "[100]\tcv_agg's l2: 0.279507 + 0.0431361\n",
      "[200]\tcv_agg's l2: 0.248171 + 0.0399418\n"
     ]
    },
    {
     "name": "stderr",
     "output_type": "stream",
     "text": [
      "num_leaves, val_score: 0.134872:  60%|#############################4                   | 12/20 [01:20<00:49,  6.22s/it][I 2023-11-04 13:54:11,313] Trial 18 finished with value: 0.24376284096242157 and parameters: {'num_leaves': 2}. Best is trial 7 with value: 0.1348724077943838.\n",
      "num_leaves, val_score: 0.134872:  60%|#############################4                   | 12/20 [01:20<00:49,  6.22s/it]"
     ]
    },
    {
     "name": "stdout",
     "output_type": "stream",
     "text": [
      "[300]\tcv_agg's l2: 0.240852 + 0.0377117\n",
      "Early stopping, best iteration is:\n",
      "[258]\tcv_agg's l2: 0.134872 + 0.0276268\n",
      "[100]\tcv_agg's l2: 0.139189 + 0.030512\n",
      "[200]\tcv_agg's l2: 0.135563 + 0.028169\n",
      "[300]\tcv_agg's l2: 0.13502 + 0.0277975\n"
     ]
    },
    {
     "name": "stderr",
     "output_type": "stream",
     "text": [
      "num_leaves, val_score: 0.134872:  65%|###############################8                 | 13/20 [01:29<00:48,  6.91s/it][I 2023-11-04 13:54:19,820] Trial 19 finished with value: 0.1348724077943838 and parameters: {'num_leaves': 133}. Best is trial 7 with value: 0.1348724077943838.\n",
      "num_leaves, val_score: 0.134872:  65%|###############################8                 | 13/20 [01:29<00:48,  6.91s/it]"
     ]
    },
    {
     "name": "stdout",
     "output_type": "stream",
     "text": [
      "Early stopping, best iteration is:\n",
      "[258]\tcv_agg's l2: 0.134872 + 0.0276268\n",
      "[100]\tcv_agg's l2: 0.139189 + 0.030512\n",
      "[200]\tcv_agg's l2: 0.135563 + 0.028169\n",
      "[300]\tcv_agg's l2: 0.13502 + 0.0277975\n"
     ]
    },
    {
     "name": "stderr",
     "output_type": "stream",
     "text": [
      "num_leaves, val_score: 0.134872:  70%|##################################3              | 14/20 [01:37<00:44,  7.43s/it][I 2023-11-04 13:54:28,460] Trial 20 finished with value: 0.1348724077943838 and parameters: {'num_leaves': 199}. Best is trial 7 with value: 0.1348724077943838.\n",
      "num_leaves, val_score: 0.134872:  70%|##################################3              | 14/20 [01:37<00:44,  7.43s/it]"
     ]
    },
    {
     "name": "stdout",
     "output_type": "stream",
     "text": [
      "Early stopping, best iteration is:\n",
      "[258]\tcv_agg's l2: 0.134872 + 0.0276268\n",
      "[100]\tcv_agg's l2: 0.139189 + 0.030512\n",
      "[200]\tcv_agg's l2: 0.135563 + 0.028169\n",
      "[300]\tcv_agg's l2: 0.13502 + 0.0277975\n"
     ]
    },
    {
     "name": "stderr",
     "output_type": "stream",
     "text": [
      "num_leaves, val_score: 0.134872:  75%|####################################7            | 15/20 [01:44<00:35,  7.10s/it][I 2023-11-04 13:54:34,787] Trial 21 finished with value: 0.1348724077943838 and parameters: {'num_leaves': 41}. Best is trial 7 with value: 0.1348724077943838.\n",
      "num_leaves, val_score: 0.134872:  75%|####################################7            | 15/20 [01:44<00:35,  7.10s/it]"
     ]
    },
    {
     "name": "stdout",
     "output_type": "stream",
     "text": [
      "Early stopping, best iteration is:\n",
      "[258]\tcv_agg's l2: 0.134872 + 0.0276268\n",
      "[100]\tcv_agg's l2: 0.139189 + 0.030512\n",
      "[200]\tcv_agg's l2: 0.135563 + 0.028169\n",
      "[300]\tcv_agg's l2: 0.13502 + 0.0277975\n"
     ]
    },
    {
     "name": "stderr",
     "output_type": "stream",
     "text": [
      "num_leaves, val_score: 0.134872:  80%|#######################################2         | 16/20 [01:49<00:26,  6.58s/it][I 2023-11-04 13:54:40,144] Trial 22 finished with value: 0.1348724077943838 and parameters: {'num_leaves': 34}. Best is trial 7 with value: 0.1348724077943838.\n",
      "num_leaves, val_score: 0.134872:  80%|#######################################2         | 16/20 [01:49<00:26,  6.58s/it]"
     ]
    },
    {
     "name": "stdout",
     "output_type": "stream",
     "text": [
      "Early stopping, best iteration is:\n",
      "[258]\tcv_agg's l2: 0.134872 + 0.0276268\n",
      "[100]\tcv_agg's l2: 0.139189 + 0.030512\n",
      "[200]\tcv_agg's l2: 0.135563 + 0.028169\n",
      "[300]\tcv_agg's l2: 0.13502 + 0.0277975\n"
     ]
    },
    {
     "name": "stderr",
     "output_type": "stream",
     "text": [
      "num_leaves, val_score: 0.134872:  85%|#########################################6       | 17/20 [01:53<00:17,  5.95s/it][I 2023-11-04 13:54:44,652] Trial 23 finished with value: 0.1348724077943838 and parameters: {'num_leaves': 88}. Best is trial 7 with value: 0.1348724077943838.\n",
      "num_leaves, val_score: 0.134872:  85%|#########################################6       | 17/20 [01:53<00:17,  5.95s/it]"
     ]
    },
    {
     "name": "stdout",
     "output_type": "stream",
     "text": [
      "Early stopping, best iteration is:\n",
      "[258]\tcv_agg's l2: 0.134872 + 0.0276268\n",
      "[100]\tcv_agg's l2: 0.139189 + 0.030512\n",
      "[200]\tcv_agg's l2: 0.135369 + 0.0282791\n",
      "[300]\tcv_agg's l2: 0.134836 + 0.0279063\n"
     ]
    },
    {
     "name": "stderr",
     "output_type": "stream",
     "text": [
      "num_leaves, val_score: 0.134611:  90%|############################################1    | 18/20 [01:58<00:11,  5.55s/it][I 2023-11-04 13:54:49,253] Trial 24 finished with value: 0.13461133232355457 and parameters: {'num_leaves': 29}. Best is trial 24 with value: 0.13461133232355457.\n",
      "num_leaves, val_score: 0.134611:  90%|############################################1    | 18/20 [01:58<00:11,  5.55s/it]"
     ]
    },
    {
     "name": "stdout",
     "output_type": "stream",
     "text": [
      "Early stopping, best iteration is:\n",
      "[257]\tcv_agg's l2: 0.134611 + 0.0276918\n",
      "[100]\tcv_agg's l2: 0.139189 + 0.030512\n",
      "[200]\tcv_agg's l2: 0.135563 + 0.028169\n",
      "[300]\tcv_agg's l2: 0.13502 + 0.0277975\n"
     ]
    },
    {
     "name": "stderr",
     "output_type": "stream",
     "text": [
      "num_leaves, val_score: 0.134611:  95%|##############################################5  | 19/20 [02:03<00:05,  5.28s/it][I 2023-11-04 13:54:53,914] Trial 25 finished with value: 0.13490227559802298 and parameters: {'num_leaves': 125}. Best is trial 24 with value: 0.13461133232355457.\n",
      "num_leaves, val_score: 0.134611:  95%|##############################################5  | 19/20 [02:03<00:05,  5.28s/it]"
     ]
    },
    {
     "name": "stdout",
     "output_type": "stream",
     "text": [
      "Early stopping, best iteration is:\n",
      "[257]\tcv_agg's l2: 0.134611 + 0.0276918\n",
      "[100]\tcv_agg's l2: 0.139189 + 0.030512\n",
      "[200]\tcv_agg's l2: 0.135563 + 0.028169\n",
      "[300]\tcv_agg's l2: 0.13502 + 0.0277975\n"
     ]
    },
    {
     "name": "stderr",
     "output_type": "stream",
     "text": [
      "num_leaves, val_score: 0.134611: 100%|#################################################| 20/20 [02:08<00:00,  5.17s/it][I 2023-11-04 13:54:58,831] Trial 26 finished with value: 0.13490227559802298 and parameters: {'num_leaves': 69}. Best is trial 24 with value: 0.13461133232355457.\n",
      "num_leaves, val_score: 0.134611: 100%|#################################################| 20/20 [02:08<00:00,  6.41s/it]\n"
     ]
    },
    {
     "name": "stdout",
     "output_type": "stream",
     "text": [
      "Early stopping, best iteration is:\n",
      "[257]\tcv_agg's l2: 0.134611 + 0.0276918\n"
     ]
    },
    {
     "name": "stderr",
     "output_type": "stream",
     "text": [
      "bagging, val_score: 0.134611:   0%|                                                             | 0/10 [00:00<?, ?it/s]"
     ]
    },
    {
     "name": "stdout",
     "output_type": "stream",
     "text": [
      "[100]\tcv_agg's l2: 0.150218 + 0.033425\n",
      "[200]\tcv_agg's l2: 0.146592 + 0.0321107\n",
      "[300]\tcv_agg's l2: 0.145632 + 0.0317633\n"
     ]
    },
    {
     "name": "stderr",
     "output_type": "stream",
     "text": [
      "bagging, val_score: 0.134611:  10%|#####3                                               | 1/10 [00:04<00:36,  4.10s/it][I 2023-11-04 13:55:02,938] Trial 27 finished with value: 0.1458825676826213 and parameters: {'bagging_fraction': 0.9029480156491804, 'bagging_freq': 7}. Best is trial 27 with value: 0.1458825676826213.\n",
      "bagging, val_score: 0.134611:  10%|#####3                                               | 1/10 [00:04<00:36,  4.10s/it]"
     ]
    },
    {
     "name": "stdout",
     "output_type": "stream",
     "text": [
      "Early stopping, best iteration is:\n",
      "[257]\tcv_agg's l2: 0.134611 + 0.0276918\n",
      "[100]\tcv_agg's l2: 0.196071 + 0.0339247\n",
      "[200]\tcv_agg's l2: 0.182051 + 0.036763\n",
      "[300]\tcv_agg's l2: 0.17824 + 0.0360129\n"
     ]
    },
    {
     "name": "stderr",
     "output_type": "stream",
     "text": [
      "bagging, val_score: 0.134611:  20%|##########6                                          | 2/10 [00:06<00:24,  3.08s/it][I 2023-11-04 13:55:05,296] Trial 28 finished with value: 0.18006434875339886 and parameters: {'bagging_fraction': 0.41496332907786765, 'bagging_freq': 1}. Best is trial 27 with value: 0.1458825676826213.\n",
      "bagging, val_score: 0.134611:  20%|##########6                                          | 2/10 [00:06<00:24,  3.08s/it]"
     ]
    },
    {
     "name": "stdout",
     "output_type": "stream",
     "text": [
      "Early stopping, best iteration is:\n",
      "[257]\tcv_agg's l2: 0.134611 + 0.0276918\n",
      "[100]\tcv_agg's l2: 0.142492 + 0.0310843\n",
      "[200]\tcv_agg's l2: 0.138717 + 0.0295024\n",
      "[300]\tcv_agg's l2: 0.137859 + 0.028731\n"
     ]
    },
    {
     "name": "stderr",
     "output_type": "stream",
     "text": [
      "bagging, val_score: 0.134611:  30%|###############9                                     | 3/10 [00:11<00:28,  4.03s/it][I 2023-11-04 13:55:10,464] Trial 29 finished with value: 0.13808899775357772 and parameters: {'bagging_fraction': 0.9914629150803314, 'bagging_freq': 4}. Best is trial 29 with value: 0.13808899775357772.\n",
      "bagging, val_score: 0.134611:  30%|###############9                                     | 3/10 [00:11<00:28,  4.03s/it]"
     ]
    },
    {
     "name": "stdout",
     "output_type": "stream",
     "text": [
      "Early stopping, best iteration is:\n",
      "[257]\tcv_agg's l2: 0.134611 + 0.0276918\n",
      "[100]\tcv_agg's l2: 0.174273 + 0.0260082\n",
      "[200]\tcv_agg's l2: 0.167574 + 0.023702\n",
      "[300]\tcv_agg's l2: 0.168198 + 0.0245157\n"
     ]
    },
    {
     "name": "stderr",
     "output_type": "stream",
     "text": [
      "bagging, val_score: 0.134611:  40%|#####################2                               | 4/10 [00:20<00:36,  6.05s/it][I 2023-11-04 13:55:19,617] Trial 30 finished with value: 0.1668156452902661 and parameters: {'bagging_fraction': 0.635883368246733, 'bagging_freq': 7}. Best is trial 29 with value: 0.13808899775357772.\n",
      "bagging, val_score: 0.134611:  40%|#####################2                               | 4/10 [00:20<00:36,  6.05s/it]"
     ]
    },
    {
     "name": "stdout",
     "output_type": "stream",
     "text": [
      "Early stopping, best iteration is:\n",
      "[257]\tcv_agg's l2: 0.134611 + 0.0276918\n",
      "[100]\tcv_agg's l2: 0.159932 + 0.0306411\n",
      "[200]\tcv_agg's l2: 0.156081 + 0.0293935\n",
      "[300]\tcv_agg's l2: 0.154833 + 0.0289698\n"
     ]
    },
    {
     "name": "stderr",
     "output_type": "stream",
     "text": [
      "bagging, val_score: 0.134611:  50%|##########################5                          | 5/10 [00:27<00:32,  6.45s/it][I 2023-11-04 13:55:26,769] Trial 31 finished with value: 0.1555936075050123 and parameters: {'bagging_fraction': 0.7419879744565403, 'bagging_freq': 1}. Best is trial 29 with value: 0.13808899775357772.\n",
      "bagging, val_score: 0.134611:  50%|##########################5                          | 5/10 [00:27<00:32,  6.45s/it]"
     ]
    },
    {
     "name": "stdout",
     "output_type": "stream",
     "text": [
      "Early stopping, best iteration is:\n",
      "[257]\tcv_agg's l2: 0.134611 + 0.0276918\n",
      "[100]\tcv_agg's l2: 0.194465 + 0.0328871\n",
      "[200]\tcv_agg's l2: 0.18482 + 0.0291073\n",
      "[300]\tcv_agg's l2: 0.186342 + 0.0292166\n"
     ]
    },
    {
     "name": "stderr",
     "output_type": "stream",
     "text": [
      "bagging, val_score: 0.134611:  60%|###############################8                     | 6/10 [00:31<00:22,  5.59s/it][I 2023-11-04 13:55:30,695] Trial 32 finished with value: 0.1867986979129261 and parameters: {'bagging_fraction': 0.4568679811386007, 'bagging_freq': 4}. Best is trial 29 with value: 0.13808899775357772.\n",
      "bagging, val_score: 0.134611:  60%|###############################8                     | 6/10 [00:31<00:22,  5.59s/it]"
     ]
    },
    {
     "name": "stdout",
     "output_type": "stream",
     "text": [
      "Early stopping, best iteration is:\n",
      "[257]\tcv_agg's l2: 0.134611 + 0.0276918\n",
      "[100]\tcv_agg's l2: 0.154414 + 0.0307647\n",
      "[200]\tcv_agg's l2: 0.150464 + 0.0270484\n",
      "[300]\tcv_agg's l2: 0.149255 + 0.0276954\n"
     ]
    },
    {
     "name": "stderr",
     "output_type": "stream",
     "text": [
      "bagging, val_score: 0.134611:  70%|#####################################                | 7/10 [00:36<00:15,  5.15s/it][I 2023-11-04 13:55:34,923] Trial 33 finished with value: 0.14932645076285156 and parameters: {'bagging_fraction': 0.7860218901902495, 'bagging_freq': 3}. Best is trial 29 with value: 0.13808899775357772.\n",
      "bagging, val_score: 0.134611:  70%|#####################################                | 7/10 [00:36<00:15,  5.15s/it]"
     ]
    },
    {
     "name": "stdout",
     "output_type": "stream",
     "text": [
      "Early stopping, best iteration is:\n",
      "[257]\tcv_agg's l2: 0.134611 + 0.0276918\n",
      "[100]\tcv_agg's l2: 0.165284 + 0.0212896\n",
      "[200]\tcv_agg's l2: 0.15751 + 0.0199643\n",
      "[300]\tcv_agg's l2: 0.156579 + 0.0196152\n"
     ]
    },
    {
     "name": "stderr",
     "output_type": "stream",
     "text": [
      "bagging, val_score: 0.134611:  80%|##########################################4          | 8/10 [00:39<00:09,  4.75s/it][I 2023-11-04 13:55:38,816] Trial 34 finished with value: 0.15795188141555697 and parameters: {'bagging_fraction': 0.5950677086136388, 'bagging_freq': 6}. Best is trial 29 with value: 0.13808899775357772.\n",
      "bagging, val_score: 0.134611:  80%|##########################################4          | 8/10 [00:39<00:09,  4.75s/it]"
     ]
    },
    {
     "name": "stdout",
     "output_type": "stream",
     "text": [
      "Early stopping, best iteration is:\n",
      "[257]\tcv_agg's l2: 0.134611 + 0.0276918\n",
      "[100]\tcv_agg's l2: 0.174457 + 0.0405268\n",
      "[200]\tcv_agg's l2: 0.164265 + 0.0384061\n",
      "[300]\tcv_agg's l2: 0.160931 + 0.0340146\n"
     ]
    },
    {
     "name": "stderr",
     "output_type": "stream",
     "text": [
      "bagging, val_score: 0.134611:  90%|###############################################7     | 9/10 [00:42<00:04,  4.20s/it][I 2023-11-04 13:55:41,822] Trial 35 finished with value: 0.1620159341918088 and parameters: {'bagging_fraction': 0.5368554818868599, 'bagging_freq': 2}. Best is trial 29 with value: 0.13808899775357772.\n",
      "bagging, val_score: 0.134611:  90%|###############################################7     | 9/10 [00:42<00:04,  4.20s/it]"
     ]
    },
    {
     "name": "stdout",
     "output_type": "stream",
     "text": [
      "Early stopping, best iteration is:\n",
      "[257]\tcv_agg's l2: 0.134611 + 0.0276918\n",
      "[100]\tcv_agg's l2: 0.154005 + 0.0275911\n",
      "[200]\tcv_agg's l2: 0.150018 + 0.0259499\n",
      "[300]\tcv_agg's l2: 0.148828 + 0.0251355\n"
     ]
    },
    {
     "name": "stderr",
     "output_type": "stream",
     "text": [
      "bagging, val_score: 0.134611: 100%|####################################################| 10/10 [00:46<00:00,  3.96s/it][I 2023-11-04 13:55:45,242] Trial 36 finished with value: 0.1492711068370381 and parameters: {'bagging_fraction': 0.7926567413558077, 'bagging_freq': 5}. Best is trial 29 with value: 0.13808899775357772.\n",
      "bagging, val_score: 0.134611: 100%|####################################################| 10/10 [00:46<00:00,  4.64s/it]\n"
     ]
    },
    {
     "name": "stdout",
     "output_type": "stream",
     "text": [
      "Early stopping, best iteration is:\n",
      "[257]\tcv_agg's l2: 0.134611 + 0.0276918\n"
     ]
    },
    {
     "name": "stderr",
     "output_type": "stream",
     "text": [
      "feature_fraction_stage2, val_score: 0.134611:   0%|                                              | 0/6 [00:00<?, ?it/s]"
     ]
    },
    {
     "name": "stdout",
     "output_type": "stream",
     "text": [
      "[100]\tcv_agg's l2: 0.140797 + 0.0280936\n",
      "[200]\tcv_agg's l2: 0.136937 + 0.0266252\n",
      "[300]\tcv_agg's l2: 0.136079 + 0.0259208\n"
     ]
    },
    {
     "name": "stderr",
     "output_type": "stream",
     "text": [
      "feature_fraction_stage2, val_score: 0.134611:  17%|######3                               | 1/6 [00:04<00:20,  4.01s/it][I 2023-11-04 13:55:49,256] Trial 37 finished with value: 0.13629709623000466 and parameters: {'feature_fraction': 0.7200000000000001}. Best is trial 37 with value: 0.13629709623000466.\n",
      "feature_fraction_stage2, val_score: 0.134611:  17%|######3                               | 1/6 [00:04<00:20,  4.01s/it]"
     ]
    },
    {
     "name": "stdout",
     "output_type": "stream",
     "text": [
      "Early stopping, best iteration is:\n",
      "[257]\tcv_agg's l2: 0.134611 + 0.0276918\n",
      "[100]\tcv_agg's l2: 0.145269 + 0.0361091\n",
      "[200]\tcv_agg's l2: 0.142421 + 0.0354184\n",
      "[300]\tcv_agg's l2: 0.141793 + 0.0355715\n"
     ]
    },
    {
     "name": "stderr",
     "output_type": "stream",
     "text": [
      "feature_fraction_stage2, val_score: 0.134611:  33%|############6                         | 2/6 [00:07<00:15,  3.93s/it][I 2023-11-04 13:55:53,139] Trial 38 finished with value: 0.14218600128787467 and parameters: {'feature_fraction': 0.8160000000000001}. Best is trial 37 with value: 0.13629709623000466.\n",
      "feature_fraction_stage2, val_score: 0.134611:  33%|############6                         | 2/6 [00:07<00:15,  3.93s/it]"
     ]
    },
    {
     "name": "stdout",
     "output_type": "stream",
     "text": [
      "Early stopping, best iteration is:\n",
      "[257]\tcv_agg's l2: 0.134611 + 0.0276918\n",
      "[100]\tcv_agg's l2: 0.13866 + 0.0246674\n",
      "[200]\tcv_agg's l2: 0.135754 + 0.0238709\n",
      "[300]\tcv_agg's l2: 0.135816 + 0.0241302\n"
     ]
    },
    {
     "name": "stderr",
     "output_type": "stream",
     "text": [
      "feature_fraction_stage2, val_score: 0.134611:  50%|###################                   | 3/6 [00:12<00:12,  4.02s/it][I 2023-11-04 13:55:57,261] Trial 39 finished with value: 0.13594773358872492 and parameters: {'feature_fraction': 0.784}. Best is trial 39 with value: 0.13594773358872492.\n",
      "feature_fraction_stage2, val_score: 0.134611:  50%|###################                   | 3/6 [00:12<00:12,  4.02s/it]"
     ]
    },
    {
     "name": "stdout",
     "output_type": "stream",
     "text": [
      "Early stopping, best iteration is:\n",
      "[257]\tcv_agg's l2: 0.134611 + 0.0276918\n",
      "[100]\tcv_agg's l2: 0.144883 + 0.0291644\n",
      "[200]\tcv_agg's l2: 0.142473 + 0.0287141\n",
      "[300]\tcv_agg's l2: 0.141584 + 0.0285951\n"
     ]
    },
    {
     "name": "stderr",
     "output_type": "stream",
     "text": [
      "feature_fraction_stage2, val_score: 0.134611:  67%|#########################3            | 4/6 [00:17<00:09,  4.55s/it][I 2023-11-04 13:56:02,612] Trial 40 finished with value: 0.14184012582123987 and parameters: {'feature_fraction': 0.8480000000000001}. Best is trial 39 with value: 0.13594773358872492.\n",
      "feature_fraction_stage2, val_score: 0.134611:  67%|#########################3            | 4/6 [00:17<00:09,  4.55s/it]"
     ]
    },
    {
     "name": "stdout",
     "output_type": "stream",
     "text": [
      "Early stopping, best iteration is:\n",
      "[257]\tcv_agg's l2: 0.134611 + 0.0276918\n",
      "[100]\tcv_agg's l2: 0.148706 + 0.0350208\n",
      "[200]\tcv_agg's l2: 0.144555 + 0.0330377\n",
      "[300]\tcv_agg's l2: 0.144156 + 0.0332276\n"
     ]
    },
    {
     "name": "stderr",
     "output_type": "stream",
     "text": [
      "feature_fraction_stage2, val_score: 0.134611:  83%|###############################6      | 5/6 [00:21<00:04,  4.34s/it][I 2023-11-04 13:56:06,599] Trial 41 finished with value: 0.14412130774615411 and parameters: {'feature_fraction': 0.88}. Best is trial 39 with value: 0.13594773358872492.\n",
      "feature_fraction_stage2, val_score: 0.134611:  83%|###############################6      | 5/6 [00:21<00:04,  4.34s/it]"
     ]
    },
    {
     "name": "stdout",
     "output_type": "stream",
     "text": [
      "Early stopping, best iteration is:\n",
      "[257]\tcv_agg's l2: 0.134611 + 0.0276918\n",
      "[100]\tcv_agg's l2: 0.138724 + 0.0260985\n",
      "[200]\tcv_agg's l2: 0.135884 + 0.0247783\n",
      "[300]\tcv_agg's l2: 0.135562 + 0.0242667\n"
     ]
    },
    {
     "name": "stderr",
     "output_type": "stream",
     "text": [
      "feature_fraction_stage2, val_score: 0.134611: 100%|######################################| 6/6 [00:25<00:00,  4.37s/it][I 2023-11-04 13:56:11,013] Trial 42 finished with value: 0.13569244869870573 and parameters: {'feature_fraction': 0.7520000000000001}. Best is trial 42 with value: 0.13569244869870573.\n",
      "feature_fraction_stage2, val_score: 0.134611: 100%|######################################| 6/6 [00:25<00:00,  4.29s/it]\n"
     ]
    },
    {
     "name": "stdout",
     "output_type": "stream",
     "text": [
      "Early stopping, best iteration is:\n",
      "[257]\tcv_agg's l2: 0.134611 + 0.0276918\n"
     ]
    },
    {
     "name": "stderr",
     "output_type": "stream",
     "text": [
      "regularization_factors, val_score: 0.134611:   0%|                                              | 0/20 [00:00<?, ?it/s]"
     ]
    },
    {
     "name": "stdout",
     "output_type": "stream",
     "text": [
      "[100]\tcv_agg's l2: 0.139972 + 0.0313007\n",
      "[200]\tcv_agg's l2: 0.137419 + 0.0310985\n",
      "[300]\tcv_agg's l2: 0.136923 + 0.029717\n"
     ]
    },
    {
     "name": "stderr",
     "output_type": "stream",
     "text": [
      "regularization_factors, val_score: 0.134611:   5%|#9                                    | 1/20 [00:04<01:31,  4.80s/it][I 2023-11-04 13:56:15,816] Trial 43 finished with value: 0.1370580494639142 and parameters: {'lambda_l1': 0.01087202994350742, 'lambda_l2': 4.381243307535027e-05}. Best is trial 43 with value: 0.1370580494639142.\n",
      "regularization_factors, val_score: 0.134611:   5%|#9                                    | 1/20 [00:04<01:31,  4.80s/it]"
     ]
    },
    {
     "name": "stdout",
     "output_type": "stream",
     "text": [
      "Early stopping, best iteration is:\n",
      "[257]\tcv_agg's l2: 0.134611 + 0.0276918\n",
      "[100]\tcv_agg's l2: 0.146573 + 0.0277244\n",
      "[200]\tcv_agg's l2: 0.141578 + 0.0278289\n",
      "[300]\tcv_agg's l2: 0.14045 + 0.0276283\n"
     ]
    },
    {
     "name": "stderr",
     "output_type": "stream",
     "text": [
      "regularization_factors, val_score: 0.134611:  10%|###8                                  | 2/20 [00:08<01:17,  4.28s/it][I 2023-11-04 13:56:19,733] Trial 44 finished with value: 0.14069728862860947 and parameters: {'lambda_l1': 5.503385463485065e-08, 'lambda_l2': 5.554833956625791}. Best is trial 43 with value: 0.1370580494639142.\n",
      "regularization_factors, val_score: 0.134611:  10%|###8                                  | 2/20 [00:08<01:17,  4.28s/it]"
     ]
    },
    {
     "name": "stdout",
     "output_type": "stream",
     "text": [
      "Early stopping, best iteration is:\n",
      "[257]\tcv_agg's l2: 0.134611 + 0.0276918\n",
      "[100]\tcv_agg's l2: 0.160678 + 0.0267662\n",
      "[200]\tcv_agg's l2: 0.156763 + 0.0263421\n",
      "[300]\tcv_agg's l2: 0.156672 + 0.0262777\n"
     ]
    },
    {
     "name": "stderr",
     "output_type": "stream",
     "text": [
      "regularization_factors, val_score: 0.134611:  15%|#####7                                | 3/20 [00:09<00:49,  2.89s/it][I 2023-11-04 13:56:20,977] Trial 45 finished with value: 0.15667188309049113 and parameters: {'lambda_l1': 2.8837246867079482, 'lambda_l2': 5.271658009873254e-08}. Best is trial 43 with value: 0.1370580494639142.\n",
      "regularization_factors, val_score: 0.134611:  15%|#####7                                | 3/20 [00:09<00:49,  2.89s/it]"
     ]
    },
    {
     "name": "stdout",
     "output_type": "stream",
     "text": [
      "Early stopping, best iteration is:\n",
      "[257]\tcv_agg's l2: 0.134611 + 0.0276918\n",
      "[100]\tcv_agg's l2: 0.141042 + 0.029551\n",
      "[200]\tcv_agg's l2: 0.137189 + 0.0277009\n",
      "[300]\tcv_agg's l2: 0.137092 + 0.0277804\n"
     ]
    },
    {
     "name": "stderr",
     "output_type": "stream",
     "text": [
      "regularization_factors, val_score: 0.134611:  20%|#######6                              | 4/20 [00:14<00:53,  3.37s/it][I 2023-11-04 13:56:25,077] Trial 46 finished with value: 0.13722230660301132 and parameters: {'lambda_l1': 1.5814439394089526e-08, 'lambda_l2': 2.0780003891123573}. Best is trial 43 with value: 0.1370580494639142.\n",
      "regularization_factors, val_score: 0.134611:  20%|#######6                              | 4/20 [00:14<00:53,  3.37s/it]"
     ]
    },
    {
     "name": "stdout",
     "output_type": "stream",
     "text": [
      "Early stopping, best iteration is:\n",
      "[257]\tcv_agg's l2: 0.134611 + 0.0276918\n",
      "[100]\tcv_agg's l2: 0.140566 + 0.029953\n",
      "[200]\tcv_agg's l2: 0.136798 + 0.0278121\n",
      "[300]\tcv_agg's l2: 0.136017 + 0.0275733\n"
     ]
    },
    {
     "name": "stderr",
     "output_type": "stream",
     "text": [
      "regularization_factors, val_score: 0.134611:  25%|#########5                            | 5/20 [00:18<00:54,  3.63s/it][I 2023-11-04 13:56:29,158] Trial 47 finished with value: 0.13627541064015047 and parameters: {'lambda_l1': 0.00018430421664748377, 'lambda_l2': 1.9253808053065535e-08}. Best is trial 47 with value: 0.13627541064015047.\n",
      "regularization_factors, val_score: 0.134611:  25%|#########5                            | 5/20 [00:18<00:54,  3.63s/it]"
     ]
    },
    {
     "name": "stdout",
     "output_type": "stream",
     "text": [
      "Early stopping, best iteration is:\n",
      "[257]\tcv_agg's l2: 0.134611 + 0.0276918\n",
      "[100]\tcv_agg's l2: 0.204075 + 0.0320609\n",
      "[200]\tcv_agg's l2: 0.202456 + 0.0317748\n"
     ]
    },
    {
     "name": "stderr",
     "output_type": "stream",
     "text": [
      "regularization_factors, val_score: 0.134611:  30%|###########4                          | 6/20 [00:19<00:37,  2.69s/it][I 2023-11-04 13:56:30,028] Trial 48 finished with value: 0.2024557301096809 and parameters: {'lambda_l1': 8.846809907707511, 'lambda_l2': 0.0037113996700891268}. Best is trial 47 with value: 0.13627541064015047.\n",
      "regularization_factors, val_score: 0.134611:  30%|###########4                          | 6/20 [00:19<00:37,  2.69s/it]"
     ]
    },
    {
     "name": "stdout",
     "output_type": "stream",
     "text": [
      "[300]\tcv_agg's l2: 0.202456 + 0.031775\n",
      "Early stopping, best iteration is:\n",
      "[257]\tcv_agg's l2: 0.134611 + 0.0276918\n",
      "[100]\tcv_agg's l2: 0.138973 + 0.0295948\n",
      "[200]\tcv_agg's l2: 0.135787 + 0.0284593\n",
      "[300]\tcv_agg's l2: 0.135289 + 0.0279028\n"
     ]
    },
    {
     "name": "stderr",
     "output_type": "stream",
     "text": [
      "regularization_factors, val_score: 0.134611:  35%|#############3                        | 7/20 [00:23<00:41,  3.20s/it][I 2023-11-04 13:56:34,292] Trial 49 finished with value: 0.13546598923182535 and parameters: {'lambda_l1': 1.1759699799653327e-05, 'lambda_l2': 2.008806409728505e-05}. Best is trial 49 with value: 0.13546598923182535.\n",
      "regularization_factors, val_score: 0.134611:  35%|#############3                        | 7/20 [00:23<00:41,  3.20s/it]"
     ]
    },
    {
     "name": "stdout",
     "output_type": "stream",
     "text": [
      "Early stopping, best iteration is:\n",
      "[257]\tcv_agg's l2: 0.134611 + 0.0276918\n",
      "[100]\tcv_agg's l2: 0.141965 + 0.0307538\n",
      "[200]\tcv_agg's l2: 0.1381 + 0.0291405\n",
      "[300]\tcv_agg's l2: 0.138026 + 0.0292725\n"
     ]
    },
    {
     "name": "stderr",
     "output_type": "stream",
     "text": [
      "regularization_factors, val_score: 0.134611:  40%|###############2                      | 8/20 [00:27<00:41,  3.47s/it][I 2023-11-04 13:56:38,333] Trial 50 finished with value: 0.1381372169604163 and parameters: {'lambda_l1': 0.03176086006922425, 'lambda_l2': 0.01282932092991733}. Best is trial 49 with value: 0.13546598923182535.\n",
      "regularization_factors, val_score: 0.134611:  40%|###############2                      | 8/20 [00:27<00:41,  3.47s/it]"
     ]
    },
    {
     "name": "stdout",
     "output_type": "stream",
     "text": [
      "Early stopping, best iteration is:\n",
      "[257]\tcv_agg's l2: 0.134611 + 0.0276918\n",
      "[100]\tcv_agg's l2: 0.139373 + 0.0303705\n",
      "[200]\tcv_agg's l2: 0.135225 + 0.0283821\n",
      "[300]\tcv_agg's l2: 0.134825 + 0.0278615\n"
     ]
    },
    {
     "name": "stderr",
     "output_type": "stream",
     "text": [
      "regularization_factors, val_score: 0.134611:  45%|#################1                    | 9/20 [00:31<00:42,  3.84s/it][I 2023-11-04 13:56:42,974] Trial 51 finished with value: 0.13462879459013316 and parameters: {'lambda_l1': 2.0288251392609626e-06, 'lambda_l2': 1.1814507699855564e-06}. Best is trial 51 with value: 0.13462879459013316.\n",
      "regularization_factors, val_score: 0.134611:  45%|#################1                    | 9/20 [00:31<00:42,  3.84s/it]"
     ]
    },
    {
     "name": "stdout",
     "output_type": "stream",
     "text": [
      "Early stopping, best iteration is:\n",
      "[257]\tcv_agg's l2: 0.134611 + 0.0276918\n",
      "[100]\tcv_agg's l2: 0.13907 + 0.0306059\n",
      "[200]\tcv_agg's l2: 0.135535 + 0.0281643\n",
      "[300]\tcv_agg's l2: 0.135171 + 0.027635\n"
     ]
    },
    {
     "name": "stderr",
     "output_type": "stream",
     "text": [
      "regularization_factors, val_score: 0.134611:  50%|##################5                  | 10/20 [00:36<00:39,  3.99s/it][I 2023-11-04 13:56:47,300] Trial 52 finished with value: 0.13485515182913627 and parameters: {'lambda_l1': 1.1752354725105833e-06, 'lambda_l2': 5.493998300093338e-07}. Best is trial 51 with value: 0.13462879459013316.\n",
      "regularization_factors, val_score: 0.134611:  50%|##################5                  | 10/20 [00:36<00:39,  3.99s/it]"
     ]
    },
    {
     "name": "stdout",
     "output_type": "stream",
     "text": [
      "Early stopping, best iteration is:\n",
      "[257]\tcv_agg's l2: 0.134611 + 0.0276918\n",
      "[100]\tcv_agg's l2: 0.139373 + 0.0303705\n",
      "[200]\tcv_agg's l2: 0.135225 + 0.0283821\n",
      "[300]\tcv_agg's l2: 0.134825 + 0.0278615\n"
     ]
    },
    {
     "name": "stderr",
     "output_type": "stream",
     "text": [
      "regularization_factors, val_score: 0.134611:  55%|####################3                | 11/20 [00:41<00:38,  4.32s/it][I 2023-11-04 13:56:52,366] Trial 53 finished with value: 0.13462879484554166 and parameters: {'lambda_l1': 1.6560079402330672e-06, 'lambda_l2': 1.051525918332306e-06}. Best is trial 51 with value: 0.13462879459013316.\n",
      "regularization_factors, val_score: 0.134611:  55%|####################3                | 11/20 [00:41<00:38,  4.32s/it]"
     ]
    },
    {
     "name": "stdout",
     "output_type": "stream",
     "text": [
      "Early stopping, best iteration is:\n",
      "[257]\tcv_agg's l2: 0.134611 + 0.0276918\n",
      "[100]\tcv_agg's l2: 0.139373 + 0.0303705\n",
      "[200]\tcv_agg's l2: 0.135225 + 0.0283821\n",
      "[300]\tcv_agg's l2: 0.134825 + 0.0278615\n"
     ]
    },
    {
     "name": "stderr",
     "output_type": "stream",
     "text": [
      "regularization_factors, val_score: 0.134611:  60%|######################2              | 12/20 [00:46<00:36,  4.53s/it][I 2023-11-04 13:56:57,379] Trial 54 finished with value: 0.13462879438397338 and parameters: {'lambda_l1': 1.6109518439189552e-06, 'lambda_l2': 1.5159110913319129e-06}. Best is trial 54 with value: 0.13462879438397338.\n",
      "regularization_factors, val_score: 0.134611:  60%|######################2              | 12/20 [00:46<00:36,  4.53s/it]"
     ]
    },
    {
     "name": "stdout",
     "output_type": "stream",
     "text": [
      "Early stopping, best iteration is:\n",
      "[257]\tcv_agg's l2: 0.134611 + 0.0276918\n",
      "[100]\tcv_agg's l2: 0.139373 + 0.0303705\n",
      "[200]\tcv_agg's l2: 0.135225 + 0.0283821\n",
      "[300]\tcv_agg's l2: 0.134825 + 0.0278615\n"
     ]
    },
    {
     "name": "stderr",
     "output_type": "stream",
     "text": [
      "regularization_factors, val_score: 0.134611:  65%|########################             | 13/20 [00:52<00:34,  4.87s/it][I 2023-11-04 13:57:03,040] Trial 55 finished with value: 0.1346287951101717 and parameters: {'lambda_l1': 1.5488096826697317e-06, 'lambda_l2': 7.992560396475272e-07}. Best is trial 54 with value: 0.13462879438397338.\n",
      "regularization_factors, val_score: 0.134611:  65%|########################             | 13/20 [00:52<00:34,  4.87s/it]"
     ]
    },
    {
     "name": "stdout",
     "output_type": "stream",
     "text": [
      "Early stopping, best iteration is:\n",
      "[257]\tcv_agg's l2: 0.134611 + 0.0276918\n",
      "[100]\tcv_agg's l2: 0.13907 + 0.0306059\n",
      "[200]\tcv_agg's l2: 0.135535 + 0.0281643\n",
      "[300]\tcv_agg's l2: 0.135171 + 0.027635\n"
     ]
    },
    {
     "name": "stderr",
     "output_type": "stream",
     "text": [
      "regularization_factors, val_score: 0.134611:  70%|#########################9           | 14/20 [00:56<00:28,  4.70s/it][I 2023-11-04 13:57:07,354] Trial 56 finished with value: 0.13485515159353406 and parameters: {'lambda_l1': 1.2092918234673543e-06, 'lambda_l2': 8.443043559091375e-07}. Best is trial 54 with value: 0.13462879438397338.\n",
      "regularization_factors, val_score: 0.134611:  70%|#########################9           | 14/20 [00:56<00:28,  4.70s/it]"
     ]
    },
    {
     "name": "stdout",
     "output_type": "stream",
     "text": [
      "Early stopping, best iteration is:\n",
      "[257]\tcv_agg's l2: 0.134611 + 0.0276918\n",
      "[100]\tcv_agg's l2: 0.139373 + 0.0303705\n",
      "[200]\tcv_agg's l2: 0.135225 + 0.0283821\n",
      "[300]\tcv_agg's l2: 0.134825 + 0.0278615\n"
     ]
    },
    {
     "name": "stderr",
     "output_type": "stream",
     "text": [
      "regularization_factors, val_score: 0.134611:  75%|###########################7         | 15/20 [01:01<00:24,  4.99s/it][I 2023-11-04 13:57:13,012] Trial 57 finished with value: 0.13462879477657536 and parameters: {'lambda_l1': 1.5038740906858027e-06, 'lambda_l2': 1.3356818327757839e-06}. Best is trial 54 with value: 0.13462879438397338.\n",
      "regularization_factors, val_score: 0.134611:  75%|###########################7         | 15/20 [01:01<00:24,  4.99s/it]"
     ]
    },
    {
     "name": "stdout",
     "output_type": "stream",
     "text": [
      "Early stopping, best iteration is:\n",
      "[257]\tcv_agg's l2: 0.134611 + 0.0276918\n",
      "[100]\tcv_agg's l2: 0.139373 + 0.0303705\n",
      "[200]\tcv_agg's l2: 0.135225 + 0.0283821\n",
      "[300]\tcv_agg's l2: 0.134825 + 0.0278615\n"
     ]
    },
    {
     "name": "stderr",
     "output_type": "stream",
     "text": [
      "regularization_factors, val_score: 0.134611:  80%|#############################6       | 16/20 [01:05<00:18,  4.67s/it][I 2023-11-04 13:57:16,936] Trial 58 finished with value: 0.13462879469479255 and parameters: {'lambda_l1': 1.808510258270283e-06, 'lambda_l2': 1.3932185187646047e-06}. Best is trial 54 with value: 0.13462879438397338.\n",
      "regularization_factors, val_score: 0.134611:  80%|#############################6       | 16/20 [01:05<00:18,  4.67s/it]"
     ]
    },
    {
     "name": "stdout",
     "output_type": "stream",
     "text": [
      "Early stopping, best iteration is:\n",
      "[257]\tcv_agg's l2: 0.134611 + 0.0276918\n",
      "[100]\tcv_agg's l2: 0.139747 + 0.0301541\n",
      "[200]\tcv_agg's l2: 0.135953 + 0.0283276\n",
      "[300]\tcv_agg's l2: 0.135645 + 0.0278103\n"
     ]
    },
    {
     "name": "stderr",
     "output_type": "stream",
     "text": [
      "regularization_factors, val_score: 0.134611:  85%|###############################4     | 17/20 [01:08<00:12,  4.18s/it][I 2023-11-04 13:57:19,966] Trial 59 finished with value: 0.13573247778863282 and parameters: {'lambda_l1': 4.930390068365161e-06, 'lambda_l2': 2.864702238831539e-06}. Best is trial 54 with value: 0.13462879438397338.\n",
      "regularization_factors, val_score: 0.134611:  85%|###############################4     | 17/20 [01:08<00:12,  4.18s/it]"
     ]
    },
    {
     "name": "stdout",
     "output_type": "stream",
     "text": [
      "Early stopping, best iteration is:\n",
      "[257]\tcv_agg's l2: 0.134611 + 0.0276918\n",
      "[100]\tcv_agg's l2: 0.139373 + 0.0303705\n",
      "[200]\tcv_agg's l2: 0.135225 + 0.0283821\n",
      "[300]\tcv_agg's l2: 0.134821 + 0.0278642\n"
     ]
    },
    {
     "name": "stderr",
     "output_type": "stream",
     "text": [
      "regularization_factors, val_score: 0.134611:  90%|#################################3   | 18/20 [01:11<00:07,  3.68s/it][I 2023-11-04 13:57:22,500] Trial 60 finished with value: 0.13468786699794705 and parameters: {'lambda_l1': 2.313796902666148e-07, 'lambda_l2': 3.1057547476789493e-06}. Best is trial 54 with value: 0.13462879438397338.\n",
      "regularization_factors, val_score: 0.134611:  90%|#################################3   | 18/20 [01:11<00:07,  3.68s/it]"
     ]
    },
    {
     "name": "stdout",
     "output_type": "stream",
     "text": [
      "Early stopping, best iteration is:\n",
      "[257]\tcv_agg's l2: 0.134611 + 0.0276918\n",
      "[100]\tcv_agg's l2: 0.13907 + 0.0306059\n",
      "[200]\tcv_agg's l2: 0.135535 + 0.0281643\n",
      "[300]\tcv_agg's l2: 0.135171 + 0.027635\n"
     ]
    },
    {
     "name": "stderr",
     "output_type": "stream",
     "text": [
      "regularization_factors, val_score: 0.134611:  95%|###################################1 | 19/20 [01:13<00:03,  3.28s/it][I 2023-11-04 13:57:24,845] Trial 61 finished with value: 0.1348551521697329 and parameters: {'lambda_l1': 9.99963950377655e-07, 'lambda_l2': 2.691485260190184e-07}. Best is trial 54 with value: 0.13462879438397338.\n",
      "regularization_factors, val_score: 0.134611:  95%|###################################1 | 19/20 [01:13<00:03,  3.28s/it]"
     ]
    },
    {
     "name": "stdout",
     "output_type": "stream",
     "text": [
      "Early stopping, best iteration is:\n",
      "[257]\tcv_agg's l2: 0.134611 + 0.0276918\n",
      "[100]\tcv_agg's l2: 0.139747 + 0.0301541\n",
      "[200]\tcv_agg's l2: 0.135765 + 0.0284582\n",
      "[300]\tcv_agg's l2: 0.135145 + 0.0279908\n"
     ]
    },
    {
     "name": "stderr",
     "output_type": "stream",
     "text": [
      "regularization_factors, val_score: 0.134611: 100%|#####################################| 20/20 [01:16<00:00,  3.11s/it][I 2023-11-04 13:57:27,562] Trial 62 finished with value: 0.13538275131446062 and parameters: {'lambda_l1': 1.2615124702637092e-05, 'lambda_l2': 3.1750630697258164e-07}. Best is trial 54 with value: 0.13462879438397338.\n",
      "regularization_factors, val_score: 0.134611: 100%|#####################################| 20/20 [01:16<00:00,  3.83s/it]\n"
     ]
    },
    {
     "name": "stdout",
     "output_type": "stream",
     "text": [
      "Early stopping, best iteration is:\n",
      "[257]\tcv_agg's l2: 0.134611 + 0.0276918\n"
     ]
    },
    {
     "name": "stderr",
     "output_type": "stream",
     "text": [
      "min_data_in_leaf, val_score: 0.134611:   0%|                                                     | 0/5 [00:00<?, ?it/s]"
     ]
    },
    {
     "name": "stdout",
     "output_type": "stream",
     "text": [
      "[100]\tcv_agg's l2: 0.213713 + 0.0443241\n",
      "[200]\tcv_agg's l2: 0.204527 + 0.0460435\n",
      "[300]\tcv_agg's l2: 0.203355 + 0.0486183\n",
      "Early stopping, best iteration is:\n",
      "[257]\tcv_agg's l2: 0.134611 + 0.0276918\n"
     ]
    },
    {
     "name": "stderr",
     "output_type": "stream",
     "text": [
      "min_data_in_leaf, val_score: 0.134611:  20%|#########                                    | 1/5 [00:01<00:04,  1.18s/it][I 2023-11-04 13:57:28,749] Trial 63 finished with value: 0.20331536432437755 and parameters: {'min_child_samples': 50}. Best is trial 63 with value: 0.20331536432437755.\n",
      "min_data_in_leaf, val_score: 0.134611:  20%|#########                                    | 1/5 [00:01<00:04,  1.18s/it]"
     ]
    },
    {
     "name": "stdout",
     "output_type": "stream",
     "text": [
      "[100]\tcv_agg's l2: 0.15995 + 0.0342644\n",
      "[200]\tcv_agg's l2: 0.154377 + 0.031596\n",
      "[300]\tcv_agg's l2: 0.153304 + 0.030803\n"
     ]
    },
    {
     "name": "stderr",
     "output_type": "stream",
     "text": [
      "min_data_in_leaf, val_score: 0.134611:  40%|##################                           | 2/5 [00:03<00:05,  1.71s/it][I 2023-11-04 13:57:30,826] Trial 64 finished with value: 0.1537691385591096 and parameters: {'min_child_samples': 25}. Best is trial 64 with value: 0.1537691385591096.\n",
      "min_data_in_leaf, val_score: 0.134611:  40%|##################                           | 2/5 [00:03<00:05,  1.71s/it]"
     ]
    },
    {
     "name": "stdout",
     "output_type": "stream",
     "text": [
      "Early stopping, best iteration is:\n",
      "[257]\tcv_agg's l2: 0.134611 + 0.0276918\n",
      "[100]\tcv_agg's l2: 0.706967 + 0.122441\n",
      "[200]\tcv_agg's l2: 0.672294 + 0.131167\n"
     ]
    },
    {
     "name": "stderr",
     "output_type": "stream",
     "text": [
      "min_data_in_leaf, val_score: 0.134611:  60%|###########################                  | 3/5 [00:03<00:02,  1.26s/it][I 2023-11-04 13:57:31,547] Trial 65 finished with value: 0.6627073462075601 and parameters: {'min_child_samples': 100}. Best is trial 64 with value: 0.1537691385591096.\n",
      "min_data_in_leaf, val_score: 0.134611:  60%|###########################                  | 3/5 [00:03<00:02,  1.26s/it]"
     ]
    },
    {
     "name": "stdout",
     "output_type": "stream",
     "text": [
      "[300]\tcv_agg's l2: 0.661062 + 0.135389\n",
      "Early stopping, best iteration is:\n",
      "[257]\tcv_agg's l2: 0.134611 + 0.0276918\n",
      "[100]\tcv_agg's l2: 0.129715 + 0.0210057\n",
      "[200]\tcv_agg's l2: 0.128187 + 0.0213187\n",
      "[300]\tcv_agg's l2: 0.128022 + 0.0214896\n",
      "[400]\tcv_agg's l2: 0.127983 + 0.0215525\n",
      "[500]\tcv_agg's l2: 0.127919 + 0.0215317\n",
      "[600]\tcv_agg's l2: 0.127895 + 0.0215419\n",
      "[700]\tcv_agg's l2: 0.127883 + 0.0215464\n",
      "[800]\tcv_agg's l2: 0.12788 + 0.021546\n",
      "[900]\tcv_agg's l2: 0.127879 + 0.0215461\n",
      "[1000]\tcv_agg's l2: 0.127878 + 0.0215463\n",
      "[1100]\tcv_agg's l2: 0.127878 + 0.0215466\n",
      "[1200]\tcv_agg's l2: 0.127878 + 0.0215465\n",
      "[1300]\tcv_agg's l2: 0.127878 + 0.0215465\n",
      "[1400]\tcv_agg's l2: 0.127878 + 0.0215464\n",
      "[1500]\tcv_agg's l2: 0.127878 + 0.0215464\n",
      "[1600]\tcv_agg's l2: 0.127878 + 0.0215464\n",
      "[1700]\tcv_agg's l2: 0.127878 + 0.0215464\n",
      "[1800]\tcv_agg's l2: 0.127878 + 0.0215464\n",
      "[1900]\tcv_agg's l2: 0.127878 + 0.0215464\n",
      "[2000]\tcv_agg's l2: 0.127878 + 0.0215464\n",
      "[2100]\tcv_agg's l2: 0.127878 + 0.0215464\n",
      "[2200]\tcv_agg's l2: 0.127878 + 0.0215464\n",
      "[2300]\tcv_agg's l2: 0.127878 + 0.0215464\n",
      "[2400]\tcv_agg's l2: 0.127878 + 0.0215464\n",
      "[2500]\tcv_agg's l2: 0.127878 + 0.0215464\n",
      "[2600]\tcv_agg's l2: 0.127878 + 0.0215464\n",
      "[2700]\tcv_agg's l2: 0.127878 + 0.0215464\n",
      "[2800]\tcv_agg's l2: 0.127878 + 0.0215464\n"
     ]
    },
    {
     "name": "stderr",
     "output_type": "stream",
     "text": [
      "min_data_in_leaf, val_score: 0.127878:  80%|####################################         | 4/5 [00:28<00:10, 10.33s/it][I 2023-11-04 13:57:55,799] Trial 66 finished with value: 0.12787795426143006 and parameters: {'min_child_samples': 5}. Best is trial 66 with value: 0.12787795426143006.\n",
      "min_data_in_leaf, val_score: 0.127878:  80%|####################################         | 4/5 [00:28<00:10, 10.33s/it]"
     ]
    },
    {
     "name": "stdout",
     "output_type": "stream",
     "text": [
      "[2900]\tcv_agg's l2: 0.127878 + 0.0215464\n",
      "Early stopping, best iteration is:\n",
      "[2802]\tcv_agg's l2: 0.127878 + 0.0215464\n",
      "[100]\tcv_agg's l2: 0.131779 + 0.0226457\n",
      "[200]\tcv_agg's l2: 0.131558 + 0.0228607\n",
      "[300]\tcv_agg's l2: 0.131374 + 0.0230696\n",
      "[400]\tcv_agg's l2: 0.13133 + 0.0231312\n",
      "[500]\tcv_agg's l2: 0.131323 + 0.0231141\n",
      "[600]\tcv_agg's l2: 0.13136 + 0.0231569\n",
      "[700]\tcv_agg's l2: 0.131356 + 0.0231911\n",
      "[800]\tcv_agg's l2: 0.131349 + 0.0232057\n",
      "[900]\tcv_agg's l2: 0.131341 + 0.0232089\n",
      "[1000]\tcv_agg's l2: 0.13133 + 0.0232182\n",
      "[1100]\tcv_agg's l2: 0.131324 + 0.0232228\n",
      "[1200]\tcv_agg's l2: 0.13132 + 0.0232269\n",
      "[1300]\tcv_agg's l2: 0.131317 + 0.0232304\n",
      "[1400]\tcv_agg's l2: 0.131314 + 0.023234\n",
      "[1500]\tcv_agg's l2: 0.131313 + 0.0232355\n",
      "[1600]\tcv_agg's l2: 0.131311 + 0.0232385\n",
      "[1700]\tcv_agg's l2: 0.131311 + 0.0232382\n",
      "[1800]\tcv_agg's l2: 0.13131 + 0.0232391\n",
      "[1900]\tcv_agg's l2: 0.131309 + 0.0232401\n",
      "[2000]\tcv_agg's l2: 0.13131 + 0.0232397\n",
      "[2100]\tcv_agg's l2: 0.13131 + 0.0232397\n",
      "[2200]\tcv_agg's l2: 0.13131 + 0.0232397\n",
      "[2300]\tcv_agg's l2: 0.13131 + 0.0232395\n",
      "[2400]\tcv_agg's l2: 0.13131 + 0.0232396\n",
      "[2500]\tcv_agg's l2: 0.13131 + 0.0232397\n",
      "[2600]\tcv_agg's l2: 0.13131 + 0.0232398\n",
      "[2700]\tcv_agg's l2: 0.13131 + 0.0232399\n",
      "[2800]\tcv_agg's l2: 0.13131 + 0.0232399\n"
     ]
    },
    {
     "name": "stderr",
     "output_type": "stream",
     "text": [
      "min_data_in_leaf, val_score: 0.127878: 100%|#############################################| 5/5 [01:09<00:00, 21.55s/it][I 2023-11-04 13:58:37,230] Trial 67 finished with value: 0.13131004386329692 and parameters: {'min_child_samples': 10}. Best is trial 66 with value: 0.12787795426143006.\n",
      "min_data_in_leaf, val_score: 0.127878: 100%|#############################################| 5/5 [01:09<00:00, 13.93s/it]"
     ]
    },
    {
     "name": "stdout",
     "output_type": "stream",
     "text": [
      "[2900]\tcv_agg's l2: 0.13131 + 0.0232399\n",
      "Early stopping, best iteration is:\n",
      "[2802]\tcv_agg's l2: 0.127878 + 0.0215464\n"
     ]
    },
    {
     "name": "stderr",
     "output_type": "stream",
     "text": [
      "\n"
     ]
    }
   ],
   "source": [
    "import optuna.integration.lightgbm as lgb\n",
    "from lightgbm import early_stopping, log_evaluation\n",
    "from sklearn.model_selection import KFold\n",
    "from sklearn.model_selection import RepeatedKFold\n",
    "\n",
    "\n",
    "lgb_train = lgb.Dataset(X_train, y_train)\n",
    "\n",
    "params = {\n",
    "    \"boosting_type\": \"gbdt\",\n",
    "    \"objective\": \"regression\",\n",
    "    \"metric\": \"l2\",\n",
    "    \"verbosity\": -1,\n",
    "}\n",
    "\n",
    "tuner = lgb.LightGBMTunerCV(\n",
    "    params,\n",
    "    lgb_train,\n",
    "    folds=KFold(n_splits=5),\n",
    "    num_boost_round=10000,\n",
    "    callbacks=[early_stopping(100), log_evaluation(100)],\n",
    ")\n",
    "\n",
    "tuner.run()"
   ]
  },
  {
   "cell_type": "code",
   "execution_count": 23,
   "id": "d9ab9a30",
   "metadata": {},
   "outputs": [
    {
     "name": "stdout",
     "output_type": "stream",
     "text": [
      "Best score: 0.12787795426143006\n",
      "Params: \n",
      "    boosting_type: gbdt\n",
      "    objective: regression\n",
      "    metric: l2\n",
      "    verbosity: -1\n",
      "    feature_pre_filter: False\n",
      "    lambda_l1: 0.0\n",
      "    lambda_l2: 0.0\n",
      "    num_leaves: 29\n",
      "    feature_fraction: 0.8\n",
      "    bagging_fraction: 1.0\n",
      "    bagging_freq: 0\n",
      "    min_child_samples: 5\n"
     ]
    }
   ],
   "source": [
    "print(f\"Best score: {tuner.best_score}\")\n",
    "best_params = tuner.best_params\n",
    "print(\"Params: \")\n",
    "for key, value in best_params.items():\n",
    "    print(\"    {}: {}\".format(key, value))"
   ]
  },
  {
   "cell_type": "code",
   "execution_count": 24,
   "id": "0cb62c30",
   "metadata": {},
   "outputs": [],
   "source": [
    "import lightgbm as lgb\n",
    "\n",
    "lgb_tuned = lgb.train(\n",
    "    best_params,\n",
    "    lgb_train,\n",
    "    num_boost_round=10000,\n",
    ")"
   ]
  },
  {
   "cell_type": "code",
   "execution_count": 25,
   "id": "eb6b8188",
   "metadata": {},
   "outputs": [
    {
     "name": "stdout",
     "output_type": "stream",
     "text": [
      "RMSE train: 0.00\n",
      "RMSE test: 0.88\n",
      "MSE test: 0.77\n",
      "MAE test: 0.44\n",
      "\n"
     ]
    }
   ],
   "source": [
    "rmse, mse, mae = assess_regression_model(lgb_tuned, X_train, X_test, y_train, y_test)"
   ]
  },
  {
   "cell_type": "code",
   "execution_count": 26,
   "id": "90047108",
   "metadata": {},
   "outputs": [],
   "source": [
    "results.loc[1] = [\n",
    "    \"chronological\",\n",
    "    \"Optuna\",\n",
    "    len(X_test.columns),\n",
    "    mse,\n",
    "    rmse,\n",
    "    mae,\n",
    "]"
   ]
  },
  {
   "cell_type": "markdown",
   "id": "b26d94f2",
   "metadata": {},
   "source": [
    "###### MAE by level"
   ]
  },
  {
   "cell_type": "code",
   "execution_count": 27,
   "id": "bb716b92",
   "metadata": {},
   "outputs": [
    {
     "data": {
      "image/png": "[encoded data removed]",
      "text/plain": [
       "<Figure size 720x432 with 1 Axes>"
      ]
     },
     "metadata": {
      "needs_background": "light"
     },
     "output_type": "display_data"
    }
   ],
   "source": [
    "plot_mae_by_level(y_test, y_pred_test)"
   ]
  },
  {
   "cell_type": "code",
   "execution_count": 28,
   "id": "79785820",
   "metadata": {
    "scrolled": false
   },
   "outputs": [
    {
     "name": "stdout",
     "output_type": "stream",
     "text": [
      "Normal:\n",
      "MSE: 0.77\n",
      "RMSE: 0.88\n",
      "\n",
      "Round type: round\n",
      "MSE: 0.80\n",
      "RMSE: 0.89\n",
      "\n",
      "Round type: 0.33\n",
      "MSE: 0.78\n",
      "RMSE: 0.88\n",
      "\n",
      "Round type: 0.45\n",
      "MSE: 0.78\n",
      "RMSE: 0.88\n",
      "\n"
     ]
    }
   ],
   "source": [
    "predict = lgb_tuned.predict(X_test)\n",
    "check_round_predictions([\"round\", 0.33, 0.45], y_test, predict)"
   ]
  },
  {
   "cell_type": "code",
   "execution_count": 29,
   "id": "63a9eab9",
   "metadata": {},
   "outputs": [
    {
     "data": {
      "image/png": "[encoded data removed]",
      "text/plain": [
       "<Figure size 432x288 with 2 Axes>"
      ]
     },
     "metadata": {
      "needs_background": "light"
     },
     "output_type": "display_data"
    }
   ],
   "source": [
    "plot_confusion_matrix(\"round\", predict, y_test)"
   ]
  },
  {
   "cell_type": "markdown",
   "id": "a1fa0d3e",
   "metadata": {},
   "source": [
    "## Random split"
   ]
  },
  {
   "cell_type": "code",
   "execution_count": 30,
   "id": "69148859",
   "metadata": {},
   "outputs": [
    {
     "name": "stdout",
     "output_type": "stream",
     "text": [
      "[LightGBM] [Warning] Auto-choosing col-wise multi-threading, the overhead of testing was 0.001828 seconds.\n",
      "You can set `force_col_wise=true` to remove the overhead.\n",
      "[LightGBM] [Info] Total Bins 804\n",
      "[LightGBM] [Info] Number of data points in the train set: 904, number of used features: 48\n",
      "[LightGBM] [Info] Start training from score 7.162611\n",
      "Training until validation scores don't improve for 5 rounds\n",
      "Early stopping, best iteration is:\n",
      "[75]\tvalid_0's l1: 0.246737\tvalid_0's l2: 0.1379\n"
     ]
    }
   ],
   "source": [
    "import lightgbm as lgb\n",
    "from sklearn.metrics import mean_squared_error\n",
    "\n",
    "lgb_train = lgb.Dataset(X_train_random_split, y_train_random_split)\n",
    "lgb_eval = lgb.Dataset(X_test_random_split, y_test_random_split, reference=lgb_train)\n",
    "\n",
    "params = {\n",
    "    \"boosting_type\": \"gbdt\",\n",
    "    \"objective\": \"regression\",\n",
    "    \"metric\": {\"l2\", \"l1\"},\n",
    "}\n",
    "\n",
    "gbm = lgb.train(\n",
    "    params,\n",
    "    lgb_train,\n",
    "    num_boost_round=100,\n",
    "    valid_sets=lgb_eval,\n",
    "    callbacks=[lgb.early_stopping(stopping_rounds=5)],\n",
    ")"
   ]
  },
  {
   "cell_type": "code",
   "execution_count": 31,
   "id": "792899a7",
   "metadata": {},
   "outputs": [],
   "source": [
    "y_pred_train = gbm.predict(X_train_random_split, num_iteration=gbm.best_iteration)\n",
    "y_pred_test = gbm.predict(X_test_random_split, num_iteration=gbm.best_iteration)"
   ]
  },
  {
   "cell_type": "code",
   "execution_count": 32,
   "id": "92e8b92d",
   "metadata": {},
   "outputs": [
    {
     "name": "stdout",
     "output_type": "stream",
     "text": [
      "MSE: 0.14\n",
      "RMSE: 0.37\n",
      "MAE: 0.25\n"
     ]
    }
   ],
   "source": [
    "from sklearn.metrics import mean_squared_error, mean_absolute_error\n",
    "\n",
    "\n",
    "mse = mean_squared_error(y_test_random_split, y_pred_test)\n",
    "rmse = mean_squared_error(y_test_random_split, y_pred_test, squared=False)\n",
    "mae = mean_absolute_error(y_test_random_split, y_pred_test)\n",
    "\n",
    "print(f\"MSE: {mse:.2f}\")\n",
    "print(f\"RMSE: {rmse:.2f}\")\n",
    "print(f\"MAE: {mae:.2f}\")"
   ]
  },
  {
   "cell_type": "code",
   "execution_count": 33,
   "id": "e9b9f08d",
   "metadata": {},
   "outputs": [],
   "source": [
    "results.loc[2] = [\"random\", \"normal\", len(X_test.columns), mse, rmse, mae]"
   ]
  },
  {
   "cell_type": "markdown",
   "id": "e2f3fc5d",
   "metadata": {},
   "source": [
    "###### MAE by level"
   ]
  },
  {
   "cell_type": "code",
   "execution_count": 34,
   "id": "591c040e",
   "metadata": {},
   "outputs": [
    {
     "data": {
      "image/png": "[encoded data removed]",
      "text/plain": [
       "<Figure size 720x432 with 1 Axes>"
      ]
     },
     "metadata": {
      "needs_background": "light"
     },
     "output_type": "display_data"
    }
   ],
   "source": [
    "plot_mae_by_level(y_test_random_split, y_pred_test)"
   ]
  },
  {
   "cell_type": "code",
   "execution_count": 35,
   "id": "2122d102",
   "metadata": {
    "scrolled": true
   },
   "outputs": [
    {
     "name": "stdout",
     "output_type": "stream",
     "text": [
      "Normal:\n",
      "MSE: 0.14\n",
      "RMSE: 0.37\n",
      "\n",
      "Round type: round\n",
      "MSE: 0.14\n",
      "RMSE: 0.38\n",
      "\n",
      "Round type: 0.33\n",
      "MSE: 0.19\n",
      "RMSE: 0.43\n",
      "\n",
      "Round type: 0.45\n",
      "MSE: 0.15\n",
      "RMSE: 0.38\n",
      "\n"
     ]
    }
   ],
   "source": [
    "check_round_predictions([\"round\", 0.33, 0.45], y_test_random_split, y_pred_test)"
   ]
  },
  {
   "cell_type": "code",
   "execution_count": 36,
   "id": "3b4c77ab",
   "metadata": {},
   "outputs": [
    {
     "data": {
      "image/png": "[encoded data removed]",
      "text/plain": [
       "<Figure size 432x288 with 2 Axes>"
      ]
     },
     "metadata": {
      "needs_background": "light"
     },
     "output_type": "display_data"
    }
   ],
   "source": [
    "plot_confusion_matrix(\"round\", y_pred_test, y_test_random_split)"
   ]
  },
  {
   "cell_type": "markdown",
   "id": "295f8eff",
   "metadata": {},
   "source": [
    "### Tuning"
   ]
  },
  {
   "cell_type": "code",
   "execution_count": 37,
   "id": "14fca15b",
   "metadata": {},
   "outputs": [
    {
     "name": "stderr",
     "output_type": "stream",
     "text": [
      "[I 2023-11-04 13:59:12,922] A new study created in memory with name: no-name-2bee595b-291e-40e7-af33-4aa720de6647\n",
      "feature_fraction, val_score: inf:   0%|                                                          | 0/7 [00:00<?, ?it/s]"
     ]
    },
    {
     "name": "stdout",
     "output_type": "stream",
     "text": [
      "Training until validation scores don't improve for 100 rounds\n",
      "[100]\tcv_agg's l2: 0.141687 + 0.0221908\n",
      "[200]\tcv_agg's l2: 0.13778 + 0.0213617\n",
      "[300]\tcv_agg's l2: 0.136104 + 0.0200901\n",
      "[400]\tcv_agg's l2: 0.135712 + 0.0197729\n",
      "[500]\tcv_agg's l2: 0.135215 + 0.0195215\n",
      "[600]\tcv_agg's l2: 0.13503 + 0.0193277\n",
      "[700]\tcv_agg's l2: 0.134819 + 0.0191627\n",
      "[800]\tcv_agg's l2: 0.134703 + 0.019073\n",
      "[900]\tcv_agg's l2: 0.134714 + 0.0190109\n"
     ]
    },
    {
     "name": "stderr",
     "output_type": "stream",
     "text": [
      "feature_fraction, val_score: 0.134667:  14%|######4                                      | 1/7 [00:12<01:12, 12.12s/it][I 2023-11-04 13:59:25,051] Trial 0 finished with value: 0.13466731838334983 and parameters: {'feature_fraction': 0.4}. Best is trial 0 with value: 0.13466731838334983.\n",
      "feature_fraction, val_score: 0.134667:  14%|######4                                      | 1/7 [00:12<01:12, 12.12s/it]"
     ]
    },
    {
     "name": "stdout",
     "output_type": "stream",
     "text": [
      "Early stopping, best iteration is:\n",
      "[821]\tcv_agg's l2: 0.134667 + 0.0190514\n",
      "[100]\tcv_agg's l2: 0.171543 + 0.0383237\n",
      "[200]\tcv_agg's l2: 0.167466 + 0.0373908\n",
      "[300]\tcv_agg's l2: 0.166283 + 0.0366186\n",
      "[400]\tcv_agg's l2: 0.165984 + 0.0363403\n",
      "[500]\tcv_agg's l2: 0.166001 + 0.0361512\n",
      "[600]\tcv_agg's l2: 0.166099 + 0.0361272\n",
      "[700]\tcv_agg's l2: 0.166051 + 0.0360338\n",
      "[800]\tcv_agg's l2: 0.166028 + 0.0359957\n",
      "[900]\tcv_agg's l2: 0.166053 + 0.0359343\n"
     ]
    },
    {
     "name": "stderr",
     "output_type": "stream",
     "text": [
      "feature_fraction, val_score: 0.134667:  29%|############8                                | 2/7 [00:23<00:59, 11.97s/it][I 2023-11-04 13:59:36,913] Trial 1 finished with value: 0.1660535162770395 and parameters: {'feature_fraction': 1.0}. Best is trial 0 with value: 0.13466731838334983.\n",
      "feature_fraction, val_score: 0.134667:  29%|############8                                | 2/7 [00:23<00:59, 11.97s/it]"
     ]
    },
    {
     "name": "stdout",
     "output_type": "stream",
     "text": [
      "Early stopping, best iteration is:\n",
      "[821]\tcv_agg's l2: 0.134667 + 0.0190514\n",
      "[100]\tcv_agg's l2: 0.160002 + 0.0361861\n",
      "[200]\tcv_agg's l2: 0.157426 + 0.0350442\n",
      "[300]\tcv_agg's l2: 0.156467 + 0.0339897\n",
      "[400]\tcv_agg's l2: 0.15626 + 0.0336526\n",
      "[500]\tcv_agg's l2: 0.156057 + 0.0333373\n",
      "[600]\tcv_agg's l2: 0.156067 + 0.0332054\n",
      "[700]\tcv_agg's l2: 0.155993 + 0.0329547\n",
      "[800]\tcv_agg's l2: 0.155974 + 0.032815\n",
      "[900]\tcv_agg's l2: 0.155938 + 0.0327344\n"
     ]
    },
    {
     "name": "stderr",
     "output_type": "stream",
     "text": [
      "feature_fraction, val_score: 0.134667:  43%|###################2                         | 3/7 [00:34<00:45, 11.30s/it][I 2023-11-04 13:59:47,412] Trial 2 finished with value: 0.15598955674248594 and parameters: {'feature_fraction': 0.8}. Best is trial 0 with value: 0.13466731838334983.\n",
      "feature_fraction, val_score: 0.134667:  43%|###################2                         | 3/7 [00:34<00:45, 11.30s/it]"
     ]
    },
    {
     "name": "stdout",
     "output_type": "stream",
     "text": [
      "Early stopping, best iteration is:\n",
      "[821]\tcv_agg's l2: 0.134667 + 0.0190514\n",
      "[100]\tcv_agg's l2: 0.145888 + 0.0287949\n",
      "[200]\tcv_agg's l2: 0.144216 + 0.0268886\n",
      "[300]\tcv_agg's l2: 0.143194 + 0.025674\n",
      "[400]\tcv_agg's l2: 0.143016 + 0.0250472\n",
      "[500]\tcv_agg's l2: 0.142529 + 0.0249156\n",
      "[600]\tcv_agg's l2: 0.142197 + 0.0245736\n",
      "[700]\tcv_agg's l2: 0.142087 + 0.0245059\n",
      "[800]\tcv_agg's l2: 0.142027 + 0.0244671\n",
      "[900]\tcv_agg's l2: 0.141952 + 0.0243638\n"
     ]
    },
    {
     "name": "stderr",
     "output_type": "stream",
     "text": [
      "feature_fraction, val_score: 0.134667:  57%|#########################7                   | 4/7 [00:46<00:34, 11.50s/it][I 2023-11-04 13:59:59,234] Trial 3 finished with value: 0.14202340034975075 and parameters: {'feature_fraction': 0.5}. Best is trial 0 with value: 0.13466731838334983.\n",
      "feature_fraction, val_score: 0.134667:  57%|#########################7                   | 4/7 [00:46<00:34, 11.50s/it]"
     ]
    },
    {
     "name": "stdout",
     "output_type": "stream",
     "text": [
      "Early stopping, best iteration is:\n",
      "[821]\tcv_agg's l2: 0.134667 + 0.0190514\n",
      "[100]\tcv_agg's l2: 0.181766 + 0.0616563\n",
      "[200]\tcv_agg's l2: 0.17838 + 0.0595271\n",
      "[300]\tcv_agg's l2: 0.176719 + 0.0575478\n",
      "[400]\tcv_agg's l2: 0.175422 + 0.0562756\n",
      "[500]\tcv_agg's l2: 0.174844 + 0.0555277\n",
      "[600]\tcv_agg's l2: 0.17478 + 0.0551626\n",
      "[700]\tcv_agg's l2: 0.174598 + 0.0548763\n",
      "[800]\tcv_agg's l2: 0.174493 + 0.0547107\n",
      "[900]\tcv_agg's l2: 0.174379 + 0.0545195\n"
     ]
    },
    {
     "name": "stderr",
     "output_type": "stream",
     "text": [
      "feature_fraction, val_score: 0.134667:  71%|################################1            | 5/7 [00:58<00:23, 11.83s/it][I 2023-11-04 14:00:11,646] Trial 4 finished with value: 0.17446047098997086 and parameters: {'feature_fraction': 0.8999999999999999}. Best is trial 0 with value: 0.13466731838334983.\n",
      "feature_fraction, val_score: 0.134667:  71%|################################1            | 5/7 [00:58<00:23, 11.83s/it]"
     ]
    },
    {
     "name": "stdout",
     "output_type": "stream",
     "text": [
      "Early stopping, best iteration is:\n",
      "[821]\tcv_agg's l2: 0.134667 + 0.0190514\n",
      "[100]\tcv_agg's l2: 0.158356 + 0.0453444\n",
      "[200]\tcv_agg's l2: 0.156212 + 0.0422413\n",
      "[300]\tcv_agg's l2: 0.155324 + 0.0406649\n",
      "[400]\tcv_agg's l2: 0.154667 + 0.0396775\n",
      "[500]\tcv_agg's l2: 0.154439 + 0.0394894\n",
      "[600]\tcv_agg's l2: 0.154312 + 0.0394405\n",
      "[700]\tcv_agg's l2: 0.154084 + 0.0392172\n",
      "[800]\tcv_agg's l2: 0.153993 + 0.0390601\n",
      "[900]\tcv_agg's l2: 0.153959 + 0.0390403\n"
     ]
    },
    {
     "name": "stderr",
     "output_type": "stream",
     "text": [
      "feature_fraction, val_score: 0.134667:  86%|######################################5      | 6/7 [01:10<00:11, 11.77s/it][I 2023-11-04 14:00:23,293] Trial 5 finished with value: 0.1539740486285774 and parameters: {'feature_fraction': 0.6}. Best is trial 0 with value: 0.13466731838334983.\n",
      "feature_fraction, val_score: 0.134667:  86%|######################################5      | 6/7 [01:10<00:11, 11.77s/it]"
     ]
    },
    {
     "name": "stdout",
     "output_type": "stream",
     "text": [
      "Early stopping, best iteration is:\n",
      "[821]\tcv_agg's l2: 0.134667 + 0.0190514\n",
      "[100]\tcv_agg's l2: 0.159626 + 0.0379434\n",
      "[200]\tcv_agg's l2: 0.15676 + 0.0356162\n",
      "[300]\tcv_agg's l2: 0.155895 + 0.0341011\n",
      "[400]\tcv_agg's l2: 0.155149 + 0.0331573\n",
      "[500]\tcv_agg's l2: 0.154912 + 0.0328459\n",
      "[600]\tcv_agg's l2: 0.154718 + 0.0326854\n",
      "[700]\tcv_agg's l2: 0.154668 + 0.0326551\n",
      "[800]\tcv_agg's l2: 0.154553 + 0.0325036\n"
     ]
    },
    {
     "name": "stderr",
     "output_type": "stream",
     "text": [
      "\r",
      "feature_fraction, val_score: 0.134667:  86%|######################################5      | 6/7 [01:22<00:11, 11.77s/it]"
     ]
    },
    {
     "name": "stdout",
     "output_type": "stream",
     "text": [
      "[900]\tcv_agg's l2: 0.154433 + 0.032501\n",
      "Early stopping, best iteration is:\n",
      "[821]\tcv_agg's l2: 0.134667 + 0.0190514\n"
     ]
    },
    {
     "name": "stderr",
     "output_type": "stream",
     "text": [
      "feature_fraction, val_score: 0.134667: 100%|#############################################| 7/7 [01:22<00:00, 11.96s/it][I 2023-11-04 14:00:35,639] Trial 6 finished with value: 0.1545360266941179 and parameters: {'feature_fraction': 0.7}. Best is trial 0 with value: 0.13466731838334983.\n",
      "feature_fraction, val_score: 0.134667: 100%|#############################################| 7/7 [01:22<00:00, 11.82s/it]\n",
      "num_leaves, val_score: 0.134667:   0%|                                                          | 0/20 [00:00<?, ?it/s]"
     ]
    },
    {
     "name": "stdout",
     "output_type": "stream",
     "text": [
      "[100]\tcv_agg's l2: 0.142749 + 0.0226578\n",
      "[200]\tcv_agg's l2: 0.136269 + 0.0204972\n",
      "[300]\tcv_agg's l2: 0.134364 + 0.0190944\n",
      "[400]\tcv_agg's l2: 0.13378 + 0.0184919\n",
      "[500]\tcv_agg's l2: 0.133331 + 0.0181503\n",
      "[600]\tcv_agg's l2: 0.133273 + 0.0179798\n"
     ]
    },
    {
     "name": "stderr",
     "output_type": "stream",
     "text": [
      "num_leaves, val_score: 0.133202:   5%|##5                                               | 1/20 [00:05<01:41,  5.36s/it][I 2023-11-04 14:00:41,011] Trial 7 finished with value: 0.13320232420982675 and parameters: {'num_leaves': 23}. Best is trial 7 with value: 0.13320232420982675.\n",
      "num_leaves, val_score: 0.133202:   5%|##5                                               | 1/20 [00:05<01:41,  5.36s/it]"
     ]
    },
    {
     "name": "stdout",
     "output_type": "stream",
     "text": [
      "Early stopping, best iteration is:\n",
      "[575]\tcv_agg's l2: 0.133202 + 0.0179492\n",
      "[100]\tcv_agg's l2: 0.141687 + 0.0221908\n",
      "[200]\tcv_agg's l2: 0.13785 + 0.0213589\n",
      "[300]\tcv_agg's l2: 0.136095 + 0.0200902\n",
      "[400]\tcv_agg's l2: 0.135507 + 0.0197683\n",
      "[500]\tcv_agg's l2: 0.134916 + 0.0195129\n",
      "[600]\tcv_agg's l2: 0.134715 + 0.019317\n"
     ]
    },
    {
     "name": "stderr",
     "output_type": "stream",
     "text": [
      "num_leaves, val_score: 0.133202:  10%|#####                                             | 2/20 [00:14<02:11,  7.29s/it][I 2023-11-04 14:00:49,653] Trial 8 finished with value: 0.13471519925314707 and parameters: {'num_leaves': 157}. Best is trial 7 with value: 0.13320232420982675.\n",
      "num_leaves, val_score: 0.133202:  10%|#####                                             | 2/20 [00:14<02:11,  7.29s/it]"
     ]
    },
    {
     "name": "stdout",
     "output_type": "stream",
     "text": [
      "Early stopping, best iteration is:\n",
      "[575]\tcv_agg's l2: 0.133202 + 0.0179492\n",
      "[100]\tcv_agg's l2: 0.141687 + 0.0221908\n",
      "[200]\tcv_agg's l2: 0.13785 + 0.0213589\n",
      "[300]\tcv_agg's l2: 0.136095 + 0.0200902\n",
      "[400]\tcv_agg's l2: 0.135507 + 0.0197683\n",
      "[500]\tcv_agg's l2: 0.134916 + 0.0195129\n",
      "[600]\tcv_agg's l2: 0.134715 + 0.019317\n"
     ]
    },
    {
     "name": "stderr",
     "output_type": "stream",
     "text": [
      "num_leaves, val_score: 0.133202:  15%|#######5                                          | 3/20 [00:23<02:18,  8.14s/it][I 2023-11-04 14:00:58,796] Trial 9 finished with value: 0.13471519925314707 and parameters: {'num_leaves': 40}. Best is trial 7 with value: 0.13320232420982675.\n",
      "num_leaves, val_score: 0.133202:  15%|#######5                                          | 3/20 [00:23<02:18,  8.14s/it]"
     ]
    },
    {
     "name": "stdout",
     "output_type": "stream",
     "text": [
      "Early stopping, best iteration is:\n",
      "[575]\tcv_agg's l2: 0.133202 + 0.0179492\n",
      "[100]\tcv_agg's l2: 0.237433 + 0.0544622\n",
      "[200]\tcv_agg's l2: 0.20796 + 0.0501258\n",
      "[300]\tcv_agg's l2: 0.195451 + 0.0509901\n",
      "[400]\tcv_agg's l2: 0.186071 + 0.0486365\n",
      "[500]\tcv_agg's l2: 0.179533 + 0.046678\n",
      "[600]\tcv_agg's l2: 0.174347 + 0.0452285\n"
     ]
    },
    {
     "name": "stderr",
     "output_type": "stream",
     "text": [
      "num_leaves, val_score: 0.133202:  20%|##########                                        | 4/20 [00:25<01:31,  5.71s/it][I 2023-11-04 14:01:00,774] Trial 10 finished with value: 0.17550883788453048 and parameters: {'num_leaves': 3}. Best is trial 7 with value: 0.13320232420982675.\n",
      "num_leaves, val_score: 0.133202:  20%|##########                                        | 4/20 [00:25<01:31,  5.71s/it]"
     ]
    },
    {
     "name": "stdout",
     "output_type": "stream",
     "text": [
      "Early stopping, best iteration is:\n",
      "[575]\tcv_agg's l2: 0.133202 + 0.0179492\n",
      "[100]\tcv_agg's l2: 0.141687 + 0.0221908\n",
      "[200]\tcv_agg's l2: 0.13785 + 0.0213589\n",
      "[300]\tcv_agg's l2: 0.136095 + 0.0200902\n",
      "[400]\tcv_agg's l2: 0.135507 + 0.0197683\n",
      "[500]\tcv_agg's l2: 0.134916 + 0.0195129\n",
      "[600]\tcv_agg's l2: 0.134715 + 0.019317\n"
     ]
    },
    {
     "name": "stderr",
     "output_type": "stream",
     "text": [
      "num_leaves, val_score: 0.133202:  25%|############5                                     | 5/20 [00:33<01:42,  6.84s/it][I 2023-11-04 14:01:09,634] Trial 11 finished with value: 0.13471519925314707 and parameters: {'num_leaves': 255}. Best is trial 7 with value: 0.13320232420982675.\n",
      "num_leaves, val_score: 0.133202:  25%|############5                                     | 5/20 [00:33<01:42,  6.84s/it]"
     ]
    },
    {
     "name": "stdout",
     "output_type": "stream",
     "text": [
      "Early stopping, best iteration is:\n",
      "[575]\tcv_agg's l2: 0.133202 + 0.0179492\n",
      "[100]\tcv_agg's l2: 0.141687 + 0.0221908\n",
      "[200]\tcv_agg's l2: 0.13785 + 0.0213589\n",
      "[300]\tcv_agg's l2: 0.136095 + 0.0200902\n",
      "[400]\tcv_agg's l2: 0.135507 + 0.0197683\n",
      "[500]\tcv_agg's l2: 0.134916 + 0.0195129\n",
      "[600]\tcv_agg's l2: 0.134715 + 0.019317\n"
     ]
    },
    {
     "name": "stderr",
     "output_type": "stream",
     "text": [
      "num_leaves, val_score: 0.133202:  30%|###############                                   | 6/20 [00:42<01:44,  7.49s/it][I 2023-11-04 14:01:18,387] Trial 12 finished with value: 0.13471519925314707 and parameters: {'num_leaves': 89}. Best is trial 7 with value: 0.13320232420982675.\n",
      "num_leaves, val_score: 0.133202:  30%|###############                                   | 6/20 [00:42<01:44,  7.49s/it]"
     ]
    },
    {
     "name": "stdout",
     "output_type": "stream",
     "text": [
      "Early stopping, best iteration is:\n",
      "[575]\tcv_agg's l2: 0.133202 + 0.0179492\n",
      "[100]\tcv_agg's l2: 0.141687 + 0.0221908\n",
      "[200]\tcv_agg's l2: 0.13785 + 0.0213589\n",
      "[300]\tcv_agg's l2: 0.136095 + 0.0200902\n",
      "[400]\tcv_agg's l2: 0.135507 + 0.0197683\n",
      "[500]\tcv_agg's l2: 0.134916 + 0.0195129\n",
      "[600]\tcv_agg's l2: 0.134715 + 0.019317\n"
     ]
    },
    {
     "name": "stderr",
     "output_type": "stream",
     "text": [
      "num_leaves, val_score: 0.133202:  35%|#################5                                | 7/20 [00:51<01:42,  7.92s/it][I 2023-11-04 14:01:27,180] Trial 13 finished with value: 0.13471519925314707 and parameters: {'num_leaves': 131}. Best is trial 7 with value: 0.13320232420982675.\n",
      "num_leaves, val_score: 0.133202:  35%|#################5                                | 7/20 [00:51<01:42,  7.92s/it]"
     ]
    },
    {
     "name": "stdout",
     "output_type": "stream",
     "text": [
      "Early stopping, best iteration is:\n",
      "[575]\tcv_agg's l2: 0.133202 + 0.0179492\n",
      "[100]\tcv_agg's l2: 0.141687 + 0.0221908\n",
      "[200]\tcv_agg's l2: 0.13785 + 0.0213589\n",
      "[300]\tcv_agg's l2: 0.136095 + 0.0200902\n",
      "[400]\tcv_agg's l2: 0.135507 + 0.0197683\n",
      "[500]\tcv_agg's l2: 0.134916 + 0.0195129\n",
      "[600]\tcv_agg's l2: 0.134715 + 0.019317\n"
     ]
    },
    {
     "name": "stderr",
     "output_type": "stream",
     "text": [
      "num_leaves, val_score: 0.133202:  40%|####################                              | 8/20 [01:00<01:38,  8.24s/it][I 2023-11-04 14:01:36,097] Trial 14 finished with value: 0.13471519925314707 and parameters: {'num_leaves': 199}. Best is trial 7 with value: 0.13320232420982675.\n",
      "num_leaves, val_score: 0.133202:  40%|####################                              | 8/20 [01:00<01:38,  8.24s/it]"
     ]
    },
    {
     "name": "stdout",
     "output_type": "stream",
     "text": [
      "Early stopping, best iteration is:\n",
      "[575]\tcv_agg's l2: 0.133202 + 0.0179492\n",
      "[100]\tcv_agg's l2: 0.141687 + 0.0221908\n",
      "[200]\tcv_agg's l2: 0.13785 + 0.0213589\n",
      "[300]\tcv_agg's l2: 0.136095 + 0.0200902\n",
      "[400]\tcv_agg's l2: 0.135507 + 0.0197683\n",
      "[500]\tcv_agg's l2: 0.134916 + 0.0195129\n",
      "[600]\tcv_agg's l2: 0.134715 + 0.019317\n"
     ]
    },
    {
     "name": "stderr",
     "output_type": "stream",
     "text": [
      "num_leaves, val_score: 0.133202:  45%|######################5                           | 9/20 [01:09<01:33,  8.46s/it][I 2023-11-04 14:01:45,055] Trial 15 finished with value: 0.13471519925314707 and parameters: {'num_leaves': 69}. Best is trial 7 with value: 0.13320232420982675.\n",
      "num_leaves, val_score: 0.133202:  45%|######################5                           | 9/20 [01:09<01:33,  8.46s/it]"
     ]
    },
    {
     "name": "stdout",
     "output_type": "stream",
     "text": [
      "Early stopping, best iteration is:\n",
      "[575]\tcv_agg's l2: 0.133202 + 0.0179492\n",
      "[100]\tcv_agg's l2: 0.161976 + 0.038733\n",
      "[200]\tcv_agg's l2: 0.147075 + 0.0334942\n",
      "[300]\tcv_agg's l2: 0.142318 + 0.0309204\n",
      "[400]\tcv_agg's l2: 0.138893 + 0.0292706\n",
      "[500]\tcv_agg's l2: 0.137427 + 0.0296827\n",
      "[600]\tcv_agg's l2: 0.136197 + 0.0290696\n"
     ]
    },
    {
     "name": "stderr",
     "output_type": "stream",
     "text": [
      "num_leaves, val_score: 0.133202:  50%|########################5                        | 10/20 [01:12<01:08,  6.81s/it][I 2023-11-04 14:01:48,154] Trial 16 finished with value: 0.13635311303205536 and parameters: {'num_leaves': 7}. Best is trial 7 with value: 0.13320232420982675.\n",
      "num_leaves, val_score: 0.133202:  50%|########################5                        | 10/20 [01:12<01:08,  6.81s/it]"
     ]
    },
    {
     "name": "stdout",
     "output_type": "stream",
     "text": [
      "Early stopping, best iteration is:\n",
      "[575]\tcv_agg's l2: 0.133202 + 0.0179492\n",
      "[100]\tcv_agg's l2: 0.141687 + 0.0221908\n",
      "[200]\tcv_agg's l2: 0.13785 + 0.0213589\n",
      "[300]\tcv_agg's l2: 0.136095 + 0.0200902\n",
      "[400]\tcv_agg's l2: 0.135507 + 0.0197683\n",
      "[500]\tcv_agg's l2: 0.134916 + 0.0195129\n",
      "[600]\tcv_agg's l2: 0.134715 + 0.019317\n"
     ]
    },
    {
     "name": "stderr",
     "output_type": "stream",
     "text": [
      "num_leaves, val_score: 0.133202:  55%|##########################9                      | 11/20 [01:21<01:07,  7.45s/it][I 2023-11-04 14:01:57,058] Trial 17 finished with value: 0.13471519925314707 and parameters: {'num_leaves': 91}. Best is trial 7 with value: 0.13320232420982675.\n",
      "num_leaves, val_score: 0.133202:  55%|##########################9                      | 11/20 [01:21<01:07,  7.45s/it]"
     ]
    },
    {
     "name": "stdout",
     "output_type": "stream",
     "text": [
      "Early stopping, best iteration is:\n",
      "[575]\tcv_agg's l2: 0.133202 + 0.0179492\n",
      "[100]\tcv_agg's l2: 0.141687 + 0.0221908\n",
      "[200]\tcv_agg's l2: 0.13785 + 0.0213589\n",
      "[300]\tcv_agg's l2: 0.136095 + 0.0200902\n",
      "[400]\tcv_agg's l2: 0.135507 + 0.0197683\n",
      "[500]\tcv_agg's l2: 0.134916 + 0.0195129\n",
      "[600]\tcv_agg's l2: 0.134715 + 0.019317\n"
     ]
    },
    {
     "name": "stderr",
     "output_type": "stream",
     "text": [
      "num_leaves, val_score: 0.133202:  60%|#############################4                   | 12/20 [01:30<01:03,  7.96s/it][I 2023-11-04 14:02:06,199] Trial 18 finished with value: 0.13471519925314707 and parameters: {'num_leaves': 185}. Best is trial 7 with value: 0.13320232420982675.\n",
      "num_leaves, val_score: 0.133202:  60%|#############################4                   | 12/20 [01:30<01:03,  7.96s/it]"
     ]
    },
    {
     "name": "stdout",
     "output_type": "stream",
     "text": [
      "Early stopping, best iteration is:\n",
      "[575]\tcv_agg's l2: 0.133202 + 0.0179492\n",
      "[100]\tcv_agg's l2: 0.141687 + 0.0221908\n",
      "[200]\tcv_agg's l2: 0.13785 + 0.0213589\n",
      "[300]\tcv_agg's l2: 0.136095 + 0.0200902\n",
      "[400]\tcv_agg's l2: 0.135507 + 0.0197683\n",
      "[500]\tcv_agg's l2: 0.134916 + 0.0195129\n",
      "[600]\tcv_agg's l2: 0.134715 + 0.019317\n"
     ]
    },
    {
     "name": "stderr",
     "output_type": "stream",
     "text": [
      "num_leaves, val_score: 0.133202:  65%|###############################8                 | 13/20 [01:39<00:57,  8.27s/it][I 2023-11-04 14:02:15,169] Trial 19 finished with value: 0.13471519925314707 and parameters: {'num_leaves': 52}. Best is trial 7 with value: 0.13320232420982675.\n",
      "num_leaves, val_score: 0.133202:  65%|###############################8                 | 13/20 [01:39<00:57,  8.27s/it]"
     ]
    },
    {
     "name": "stdout",
     "output_type": "stream",
     "text": [
      "Early stopping, best iteration is:\n",
      "[575]\tcv_agg's l2: 0.133202 + 0.0179492\n",
      "[100]\tcv_agg's l2: 0.141687 + 0.0221908\n",
      "[200]\tcv_agg's l2: 0.13785 + 0.0213589\n",
      "[300]\tcv_agg's l2: 0.136095 + 0.0200902\n",
      "[400]\tcv_agg's l2: 0.135507 + 0.0197683\n",
      "[500]\tcv_agg's l2: 0.134916 + 0.0195129\n",
      "[600]\tcv_agg's l2: 0.134715 + 0.019317\n"
     ]
    },
    {
     "name": "stderr",
     "output_type": "stream",
     "text": [
      "num_leaves, val_score: 0.133202:  70%|##################################3              | 14/20 [01:48<00:50,  8.42s/it][I 2023-11-04 14:02:23,924] Trial 20 finished with value: 0.13471519925314707 and parameters: {'num_leaves': 118}. Best is trial 7 with value: 0.13320232420982675.\n",
      "num_leaves, val_score: 0.133202:  70%|##################################3              | 14/20 [01:48<00:50,  8.42s/it]"
     ]
    },
    {
     "name": "stdout",
     "output_type": "stream",
     "text": [
      "Early stopping, best iteration is:\n",
      "[575]\tcv_agg's l2: 0.133202 + 0.0179492\n",
      "[100]\tcv_agg's l2: 0.141687 + 0.0221908\n",
      "[200]\tcv_agg's l2: 0.13785 + 0.0213589\n",
      "[300]\tcv_agg's l2: 0.136095 + 0.0200902\n",
      "[400]\tcv_agg's l2: 0.135507 + 0.0197683\n",
      "[500]\tcv_agg's l2: 0.134916 + 0.0195129\n",
      "[600]\tcv_agg's l2: 0.134715 + 0.019317\n"
     ]
    },
    {
     "name": "stderr",
     "output_type": "stream",
     "text": [
      "num_leaves, val_score: 0.133202:  75%|####################################7            | 15/20 [01:57<00:43,  8.66s/it][I 2023-11-04 14:02:33,155] Trial 21 finished with value: 0.13471519925314707 and parameters: {'num_leaves': 163}. Best is trial 7 with value: 0.13320232420982675.\n",
      "num_leaves, val_score: 0.133202:  75%|####################################7            | 15/20 [01:57<00:43,  8.66s/it]"
     ]
    },
    {
     "name": "stdout",
     "output_type": "stream",
     "text": [
      "Early stopping, best iteration is:\n",
      "[575]\tcv_agg's l2: 0.133202 + 0.0179492\n",
      "[100]\tcv_agg's l2: 0.141687 + 0.0221908\n",
      "[200]\tcv_agg's l2: 0.13785 + 0.0213589\n",
      "[300]\tcv_agg's l2: 0.136095 + 0.0200902\n",
      "[400]\tcv_agg's l2: 0.135507 + 0.0197683\n",
      "[500]\tcv_agg's l2: 0.134916 + 0.0195129\n",
      "[600]\tcv_agg's l2: 0.134715 + 0.019317\n"
     ]
    },
    {
     "name": "stderr",
     "output_type": "stream",
     "text": [
      "num_leaves, val_score: 0.133202:  80%|#######################################2         | 16/20 [02:06<00:35,  8.88s/it][I 2023-11-04 14:02:42,554] Trial 22 finished with value: 0.13471519925314707 and parameters: {'num_leaves': 228}. Best is trial 7 with value: 0.13320232420982675.\n",
      "num_leaves, val_score: 0.133202:  80%|#######################################2         | 16/20 [02:06<00:35,  8.88s/it]"
     ]
    },
    {
     "name": "stdout",
     "output_type": "stream",
     "text": [
      "Early stopping, best iteration is:\n",
      "[575]\tcv_agg's l2: 0.133202 + 0.0179492\n",
      "[100]\tcv_agg's l2: 0.141687 + 0.0221908\n",
      "[200]\tcv_agg's l2: 0.13785 + 0.0213589\n",
      "[300]\tcv_agg's l2: 0.136095 + 0.0200902\n",
      "[400]\tcv_agg's l2: 0.135507 + 0.0197683\n",
      "[500]\tcv_agg's l2: 0.134916 + 0.0195129\n",
      "[600]\tcv_agg's l2: 0.134715 + 0.019317\n"
     ]
    },
    {
     "name": "stderr",
     "output_type": "stream",
     "text": [
      "num_leaves, val_score: 0.133202:  85%|#########################################6       | 17/20 [02:16<00:26,  8.98s/it][I 2023-11-04 14:02:51,745] Trial 23 finished with value: 0.13471519925314707 and parameters: {'num_leaves': 142}. Best is trial 7 with value: 0.13320232420982675.\n",
      "num_leaves, val_score: 0.133202:  85%|#########################################6       | 17/20 [02:16<00:26,  8.98s/it]"
     ]
    },
    {
     "name": "stdout",
     "output_type": "stream",
     "text": [
      "Early stopping, best iteration is:\n",
      "[575]\tcv_agg's l2: 0.133202 + 0.0179492\n",
      "[100]\tcv_agg's l2: 0.141687 + 0.0221908\n",
      "[200]\tcv_agg's l2: 0.13785 + 0.0213589\n",
      "[300]\tcv_agg's l2: 0.136095 + 0.0200902\n",
      "[400]\tcv_agg's l2: 0.135507 + 0.0197683\n",
      "[500]\tcv_agg's l2: 0.134916 + 0.0195129\n",
      "[600]\tcv_agg's l2: 0.134715 + 0.019317\n"
     ]
    },
    {
     "name": "stderr",
     "output_type": "stream",
     "text": [
      "num_leaves, val_score: 0.133202:  90%|############################################1    | 18/20 [02:24<00:17,  8.93s/it][I 2023-11-04 14:03:00,560] Trial 24 finished with value: 0.13471519925314707 and parameters: {'num_leaves': 105}. Best is trial 7 with value: 0.13320232420982675.\n",
      "num_leaves, val_score: 0.133202:  90%|############################################1    | 18/20 [02:24<00:17,  8.93s/it]"
     ]
    },
    {
     "name": "stdout",
     "output_type": "stream",
     "text": [
      "Early stopping, best iteration is:\n",
      "[575]\tcv_agg's l2: 0.133202 + 0.0179492\n",
      "[100]\tcv_agg's l2: 0.141687 + 0.0221908\n",
      "[200]\tcv_agg's l2: 0.13785 + 0.0213589\n",
      "[300]\tcv_agg's l2: 0.136095 + 0.0200902\n",
      "[400]\tcv_agg's l2: 0.135507 + 0.0197683\n",
      "[500]\tcv_agg's l2: 0.134916 + 0.0195129\n",
      "[600]\tcv_agg's l2: 0.134715 + 0.019317\n"
     ]
    },
    {
     "name": "stderr",
     "output_type": "stream",
     "text": [
      "num_leaves, val_score: 0.133202:  95%|##############################################5  | 19/20 [02:33<00:08,  8.87s/it][I 2023-11-04 14:03:09,299] Trial 25 finished with value: 0.13471519925314707 and parameters: {'num_leaves': 185}. Best is trial 7 with value: 0.13320232420982675.\n",
      "num_leaves, val_score: 0.133202:  95%|##############################################5  | 19/20 [02:33<00:08,  8.87s/it]"
     ]
    },
    {
     "name": "stdout",
     "output_type": "stream",
     "text": [
      "Early stopping, best iteration is:\n",
      "[575]\tcv_agg's l2: 0.133202 + 0.0179492\n",
      "[100]\tcv_agg's l2: 0.141687 + 0.0221908\n",
      "[200]\tcv_agg's l2: 0.13785 + 0.0213589\n",
      "[300]\tcv_agg's l2: 0.136095 + 0.0200902\n",
      "[400]\tcv_agg's l2: 0.135507 + 0.0197683\n",
      "[500]\tcv_agg's l2: 0.134916 + 0.0195129\n",
      "[600]\tcv_agg's l2: 0.134715 + 0.019317\n"
     ]
    },
    {
     "name": "stderr",
     "output_type": "stream",
     "text": [
      "num_leaves, val_score: 0.133202: 100%|#################################################| 20/20 [02:42<00:00,  8.78s/it][I 2023-11-04 14:03:17,865] Trial 26 finished with value: 0.13471519925314707 and parameters: {'num_leaves': 156}. Best is trial 7 with value: 0.13320232420982675.\n",
      "num_leaves, val_score: 0.133202: 100%|#################################################| 20/20 [02:42<00:00,  8.11s/it]\n"
     ]
    },
    {
     "name": "stdout",
     "output_type": "stream",
     "text": [
      "Early stopping, best iteration is:\n",
      "[575]\tcv_agg's l2: 0.133202 + 0.0179492\n"
     ]
    },
    {
     "name": "stderr",
     "output_type": "stream",
     "text": [
      "bagging, val_score: 0.133202:   0%|                                                             | 0/10 [00:00<?, ?it/s]"
     ]
    },
    {
     "name": "stdout",
     "output_type": "stream",
     "text": [
      "[100]\tcv_agg's l2: 0.151542 + 0.0237288\n",
      "[200]\tcv_agg's l2: 0.142445 + 0.0217904\n",
      "[300]\tcv_agg's l2: 0.140084 + 0.0190315\n",
      "[400]\tcv_agg's l2: 0.139333 + 0.0199997\n",
      "[500]\tcv_agg's l2: 0.13899 + 0.0198503\n",
      "[600]\tcv_agg's l2: 0.138524 + 0.019907\n"
     ]
    },
    {
     "name": "stderr",
     "output_type": "stream",
     "text": [
      "bagging, val_score: 0.133202:  10%|#####3                                               | 1/10 [00:07<01:04,  7.17s/it][I 2023-11-04 14:03:25,045] Trial 27 finished with value: 0.13872423806267833 and parameters: {'bagging_fraction': 0.705883647094785, 'bagging_freq': 6}. Best is trial 27 with value: 0.13872423806267833.\n",
      "bagging, val_score: 0.133202:  10%|#####3                                               | 1/10 [00:07<01:04,  7.17s/it]"
     ]
    },
    {
     "name": "stdout",
     "output_type": "stream",
     "text": [
      "Early stopping, best iteration is:\n",
      "[575]\tcv_agg's l2: 0.133202 + 0.0179492\n",
      "[100]\tcv_agg's l2: 0.20065 + 0.0249932\n",
      "[200]\tcv_agg's l2: 0.185728 + 0.0262079\n",
      "[300]\tcv_agg's l2: 0.181988 + 0.0224829\n",
      "[400]\tcv_agg's l2: 0.180643 + 0.0213449\n",
      "[500]\tcv_agg's l2: 0.180529 + 0.0201218\n",
      "[600]\tcv_agg's l2: 0.181519 + 0.0207889\n"
     ]
    },
    {
     "name": "stderr",
     "output_type": "stream",
     "text": [
      "bagging, val_score: 0.133202:  20%|##########6                                          | 2/10 [00:10<00:37,  4.73s/it][I 2023-11-04 14:03:28,057] Trial 28 finished with value: 0.1812882074473356 and parameters: {'bagging_fraction': 0.40594556376553226, 'bagging_freq': 1}. Best is trial 27 with value: 0.13872423806267833.\n",
      "bagging, val_score: 0.133202:  20%|##########6                                          | 2/10 [00:10<00:37,  4.73s/it]"
     ]
    },
    {
     "name": "stdout",
     "output_type": "stream",
     "text": [
      "Early stopping, best iteration is:\n",
      "[575]\tcv_agg's l2: 0.133202 + 0.0179492\n",
      "[100]\tcv_agg's l2: 0.148349 + 0.0221309\n",
      "[200]\tcv_agg's l2: 0.142222 + 0.0204705\n",
      "[300]\tcv_agg's l2: 0.140046 + 0.0198439\n",
      "[400]\tcv_agg's l2: 0.139031 + 0.0194657\n",
      "[500]\tcv_agg's l2: 0.138751 + 0.0194007\n",
      "[600]\tcv_agg's l2: 0.138537 + 0.0191427\n"
     ]
    },
    {
     "name": "stderr",
     "output_type": "stream",
     "text": [
      "bagging, val_score: 0.133202:  30%|###############9                                     | 3/10 [00:14<00:32,  4.62s/it][I 2023-11-04 14:03:32,543] Trial 29 finished with value: 0.13857501100999056 and parameters: {'bagging_fraction': 0.9796001420515466, 'bagging_freq': 2}. Best is trial 29 with value: 0.13857501100999056.\n",
      "bagging, val_score: 0.133202:  30%|###############9                                     | 3/10 [00:14<00:32,  4.62s/it]"
     ]
    },
    {
     "name": "stdout",
     "output_type": "stream",
     "text": [
      "Early stopping, best iteration is:\n",
      "[575]\tcv_agg's l2: 0.133202 + 0.0179492\n",
      "[100]\tcv_agg's l2: 0.211193 + 0.0297937\n",
      "[200]\tcv_agg's l2: 0.195911 + 0.0280128\n",
      "[300]\tcv_agg's l2: 0.19464 + 0.0258731\n",
      "[400]\tcv_agg's l2: 0.190647 + 0.0243881\n",
      "[500]\tcv_agg's l2: 0.18793 + 0.0236937\n",
      "[600]\tcv_agg's l2: 0.186277 + 0.0224957\n"
     ]
    },
    {
     "name": "stderr",
     "output_type": "stream",
     "text": [
      "bagging, val_score: 0.133202:  40%|#####################2                               | 4/10 [00:17<00:23,  3.85s/it][I 2023-11-04 14:03:35,212] Trial 30 finished with value: 0.188002052000997 and parameters: {'bagging_fraction': 0.4122970626851784, 'bagging_freq': 7}. Best is trial 29 with value: 0.13857501100999056.\n",
      "bagging, val_score: 0.133202:  40%|#####################2                               | 4/10 [00:17<00:23,  3.85s/it]"
     ]
    },
    {
     "name": "stdout",
     "output_type": "stream",
     "text": [
      "Early stopping, best iteration is:\n",
      "[575]\tcv_agg's l2: 0.133202 + 0.0179492\n",
      "[100]\tcv_agg's l2: 0.141521 + 0.0256847\n",
      "[200]\tcv_agg's l2: 0.134906 + 0.0242749\n",
      "[300]\tcv_agg's l2: 0.133542 + 0.0241735\n",
      "[400]\tcv_agg's l2: 0.132785 + 0.0233376\n",
      "[500]\tcv_agg's l2: 0.132827 + 0.0230205\n",
      "[600]\tcv_agg's l2: 0.132719 + 0.0228638\n"
     ]
    },
    {
     "name": "stderr",
     "output_type": "stream",
     "text": [
      "bagging, val_score: 0.132645:  50%|##########################5                          | 5/10 [00:21<00:19,  4.00s/it][I 2023-11-04 14:03:39,473] Trial 31 finished with value: 0.13264453528676196 and parameters: {'bagging_fraction': 0.9744228710483762, 'bagging_freq': 4}. Best is trial 31 with value: 0.13264453528676196.\n",
      "bagging, val_score: 0.132645:  50%|##########################5                          | 5/10 [00:21<00:19,  4.00s/it]"
     ]
    },
    {
     "name": "stdout",
     "output_type": "stream",
     "text": [
      "Early stopping, best iteration is:\n",
      "[546]\tcv_agg's l2: 0.132645 + 0.0229198\n",
      "[100]\tcv_agg's l2: 0.147347 + 0.0321127\n",
      "[200]\tcv_agg's l2: 0.142902 + 0.030474\n",
      "[300]\tcv_agg's l2: 0.141731 + 0.0295502\n",
      "[400]\tcv_agg's l2: 0.141398 + 0.029234\n",
      "[500]\tcv_agg's l2: 0.141034 + 0.0292102\n",
      "[600]\tcv_agg's l2: 0.141103 + 0.0290972\n"
     ]
    },
    {
     "name": "stderr",
     "output_type": "stream",
     "text": [
      "bagging, val_score: 0.132645:  60%|###############################8                     | 6/10 [00:25<00:15,  3.99s/it][I 2023-11-04 14:03:43,443] Trial 32 finished with value: 0.14115697018556753 and parameters: {'bagging_fraction': 0.9416620225721035, 'bagging_freq': 4}. Best is trial 31 with value: 0.13264453528676196.\n",
      "bagging, val_score: 0.132645:  60%|###############################8                     | 6/10 [00:25<00:15,  3.99s/it]"
     ]
    },
    {
     "name": "stdout",
     "output_type": "stream",
     "text": [
      "Early stopping, best iteration is:\n",
      "[546]\tcv_agg's l2: 0.132645 + 0.0229198\n",
      "[100]\tcv_agg's l2: 0.150798 + 0.0307871\n",
      "[200]\tcv_agg's l2: 0.145844 + 0.0287511\n",
      "[300]\tcv_agg's l2: 0.145321 + 0.0294619\n",
      "[400]\tcv_agg's l2: 0.144587 + 0.0294385\n",
      "[500]\tcv_agg's l2: 0.144023 + 0.0289193\n",
      "[600]\tcv_agg's l2: 0.14423 + 0.0289442\n"
     ]
    },
    {
     "name": "stderr",
     "output_type": "stream",
     "text": [
      "bagging, val_score: 0.132645:  70%|#####################################                | 7/10 [00:29<00:11,  3.91s/it][I 2023-11-04 14:03:47,198] Trial 33 finished with value: 0.14401600058578562 and parameters: {'bagging_fraction': 0.8349338849620045, 'bagging_freq': 4}. Best is trial 31 with value: 0.13264453528676196.\n",
      "bagging, val_score: 0.132645:  70%|#####################################                | 7/10 [00:29<00:11,  3.91s/it]"
     ]
    },
    {
     "name": "stdout",
     "output_type": "stream",
     "text": [
      "Early stopping, best iteration is:\n",
      "[546]\tcv_agg's l2: 0.132645 + 0.0229198\n",
      "[100]\tcv_agg's l2: 0.150993 + 0.0254363\n",
      "[200]\tcv_agg's l2: 0.145605 + 0.0226363\n",
      "[300]\tcv_agg's l2: 0.145011 + 0.0220185\n",
      "[400]\tcv_agg's l2: 0.144091 + 0.0215568\n",
      "[500]\tcv_agg's l2: 0.14405 + 0.021125\n",
      "[600]\tcv_agg's l2: 0.144085 + 0.0214695\n"
     ]
    },
    {
     "name": "stderr",
     "output_type": "stream",
     "text": [
      "bagging, val_score: 0.132645:  80%|##########################################4          | 8/10 [00:32<00:07,  3.79s/it][I 2023-11-04 14:03:50,732] Trial 34 finished with value: 0.14398811216969776 and parameters: {'bagging_fraction': 0.8110572268609448, 'bagging_freq': 5}. Best is trial 31 with value: 0.13264453528676196.\n",
      "bagging, val_score: 0.132645:  80%|##########################################4          | 8/10 [00:32<00:07,  3.79s/it]"
     ]
    },
    {
     "name": "stdout",
     "output_type": "stream",
     "text": [
      "Early stopping, best iteration is:\n",
      "[546]\tcv_agg's l2: 0.132645 + 0.0229198\n",
      "[100]\tcv_agg's l2: 0.141546 + 0.0238805\n",
      "[200]\tcv_agg's l2: 0.137285 + 0.0223292\n",
      "[300]\tcv_agg's l2: 0.136024 + 0.0215253\n",
      "[400]\tcv_agg's l2: 0.135565 + 0.0211018\n",
      "[500]\tcv_agg's l2: 0.13527 + 0.0205509\n",
      "[600]\tcv_agg's l2: 0.134961 + 0.0203684\n"
     ]
    },
    {
     "name": "stderr",
     "output_type": "stream",
     "text": [
      "bagging, val_score: 0.132645:  90%|###############################################7     | 9/10 [00:36<00:03,  3.90s/it][I 2023-11-04 14:03:54,860] Trial 35 finished with value: 0.13508129667896893 and parameters: {'bagging_fraction': 0.9982427122925891, 'bagging_freq': 3}. Best is trial 31 with value: 0.13264453528676196.\n",
      "bagging, val_score: 0.132645:  90%|###############################################7     | 9/10 [00:36<00:03,  3.90s/it]"
     ]
    },
    {
     "name": "stdout",
     "output_type": "stream",
     "text": [
      "Early stopping, best iteration is:\n",
      "[546]\tcv_agg's l2: 0.132645 + 0.0229198\n",
      "[100]\tcv_agg's l2: 0.176427 + 0.0256047\n",
      "[200]\tcv_agg's l2: 0.168294 + 0.0242512\n",
      "[300]\tcv_agg's l2: 0.163789 + 0.0226819\n",
      "[400]\tcv_agg's l2: 0.162106 + 0.0217912\n",
      "[500]\tcv_agg's l2: 0.161037 + 0.021909\n",
      "[600]\tcv_agg's l2: 0.15987 + 0.0214259\n",
      "Early stopping, best iteration is:\n",
      "[546]\tcv_agg's l2: 0.132645 + 0.0229198\n"
     ]
    },
    {
     "name": "stderr",
     "output_type": "stream",
     "text": [
      "bagging, val_score: 0.132645: 100%|####################################################| 10/10 [00:39<00:00,  3.57s/it][I 2023-11-04 14:03:57,693] Trial 36 finished with value: 0.15981275753908036 and parameters: {'bagging_fraction': 0.5886633922120479, 'bagging_freq': 5}. Best is trial 31 with value: 0.13264453528676196.\n",
      "bagging, val_score: 0.132645: 100%|####################################################| 10/10 [00:39<00:00,  3.98s/it]\n",
      "feature_fraction_stage2, val_score: 0.132645:   0%|                                              | 0/3 [00:00<?, ?it/s]"
     ]
    },
    {
     "name": "stdout",
     "output_type": "stream",
     "text": [
      "[100]\tcv_agg's l2: 0.149872 + 0.0363343\n",
      "[200]\tcv_agg's l2: 0.144843 + 0.0342307\n",
      "[300]\tcv_agg's l2: 0.142776 + 0.0332723\n",
      "[400]\tcv_agg's l2: 0.142486 + 0.0329325\n",
      "[500]\tcv_agg's l2: 0.142251 + 0.0325299\n",
      "[600]\tcv_agg's l2: 0.14195 + 0.032185\n"
     ]
    },
    {
     "name": "stderr",
     "output_type": "stream",
     "text": [
      "feature_fraction_stage2, val_score: 0.132645:  33%|############6                         | 1/3 [00:04<00:08,  4.09s/it][I 2023-11-04 14:04:01,787] Trial 37 finished with value: 0.14208787449376364 and parameters: {'feature_fraction': 0.44800000000000006}. Best is trial 37 with value: 0.14208787449376364.\n",
      "feature_fraction_stage2, val_score: 0.132645:  33%|############6                         | 1/3 [00:04<00:08,  4.09s/it]"
     ]
    },
    {
     "name": "stdout",
     "output_type": "stream",
     "text": [
      "Early stopping, best iteration is:\n",
      "[546]\tcv_agg's l2: 0.132645 + 0.0229198\n",
      "[100]\tcv_agg's l2: 0.143486 + 0.0240593\n",
      "[200]\tcv_agg's l2: 0.137921 + 0.0230562\n",
      "[300]\tcv_agg's l2: 0.136134 + 0.0219506\n",
      "[400]\tcv_agg's l2: 0.135309 + 0.0215646\n",
      "[500]\tcv_agg's l2: 0.135081 + 0.0214083\n",
      "[600]\tcv_agg's l2: 0.134885 + 0.0210182\n"
     ]
    },
    {
     "name": "stderr",
     "output_type": "stream",
     "text": [
      "feature_fraction_stage2, val_score: 0.132645:  67%|#########################3            | 2/3 [00:08<00:03,  3.99s/it][I 2023-11-04 14:04:05,702] Trial 38 finished with value: 0.13493936904168427 and parameters: {'feature_fraction': 0.41600000000000004}. Best is trial 38 with value: 0.13493936904168427.\n",
      "feature_fraction_stage2, val_score: 0.132645:  67%|#########################3            | 2/3 [00:08<00:03,  3.99s/it]"
     ]
    },
    {
     "name": "stdout",
     "output_type": "stream",
     "text": [
      "Early stopping, best iteration is:\n",
      "[546]\tcv_agg's l2: 0.132645 + 0.0229198\n",
      "[100]\tcv_agg's l2: 0.15237 + 0.0356051\n",
      "[200]\tcv_agg's l2: 0.14865 + 0.0341314\n",
      "[300]\tcv_agg's l2: 0.147374 + 0.032585\n",
      "[400]\tcv_agg's l2: 0.147038 + 0.0325429\n",
      "[500]\tcv_agg's l2: 0.146949 + 0.0325854\n",
      "[600]\tcv_agg's l2: 0.14679 + 0.0326057\n"
     ]
    },
    {
     "name": "stderr",
     "output_type": "stream",
     "text": [
      "feature_fraction_stage2, val_score: 0.132645: 100%|######################################| 3/3 [00:12<00:00,  4.07s/it][I 2023-11-04 14:04:09,865] Trial 39 finished with value: 0.14679427801089093 and parameters: {'feature_fraction': 0.48000000000000004}. Best is trial 38 with value: 0.13493936904168427.\n",
      "feature_fraction_stage2, val_score: 0.132645: 100%|######################################| 3/3 [00:12<00:00,  4.06s/it]\n"
     ]
    },
    {
     "name": "stdout",
     "output_type": "stream",
     "text": [
      "Early stopping, best iteration is:\n",
      "[546]\tcv_agg's l2: 0.132645 + 0.0229198\n"
     ]
    },
    {
     "name": "stderr",
     "output_type": "stream",
     "text": [
      "regularization_factors, val_score: 0.132645:   0%|                                              | 0/20 [00:00<?, ?it/s]"
     ]
    },
    {
     "name": "stdout",
     "output_type": "stream",
     "text": [
      "[100]\tcv_agg's l2: 0.140922 + 0.0260408\n",
      "[200]\tcv_agg's l2: 0.135948 + 0.0263924\n",
      "[300]\tcv_agg's l2: 0.134601 + 0.0254483\n",
      "[400]\tcv_agg's l2: 0.133845 + 0.0251037\n",
      "[500]\tcv_agg's l2: 0.133808 + 0.0252975\n",
      "[600]\tcv_agg's l2: 0.13389 + 0.0253714\n"
     ]
    },
    {
     "name": "stderr",
     "output_type": "stream",
     "text": [
      "regularization_factors, val_score: 0.132645:   5%|#9                                    | 1/20 [00:04<01:16,  4.00s/it][I 2023-11-04 14:04:13,873] Trial 40 finished with value: 0.13381761429116643 and parameters: {'lambda_l1': 0.05372381911752018, 'lambda_l2': 7.104668476772553e-07}. Best is trial 40 with value: 0.13381761429116643.\n",
      "regularization_factors, val_score: 0.132645:   5%|#9                                    | 1/20 [00:04<01:16,  4.00s/it]"
     ]
    },
    {
     "name": "stdout",
     "output_type": "stream",
     "text": [
      "Early stopping, best iteration is:\n",
      "[546]\tcv_agg's l2: 0.132645 + 0.0229198\n",
      "[100]\tcv_agg's l2: 0.142049 + 0.0277194\n",
      "[200]\tcv_agg's l2: 0.136236 + 0.0260424\n",
      "[300]\tcv_agg's l2: 0.134733 + 0.0257479\n",
      "[400]\tcv_agg's l2: 0.13435 + 0.024801\n",
      "[500]\tcv_agg's l2: 0.134177 + 0.0248138\n",
      "[600]\tcv_agg's l2: 0.134218 + 0.0246109\n"
     ]
    },
    {
     "name": "stderr",
     "output_type": "stream",
     "text": [
      "regularization_factors, val_score: 0.132645:  10%|###8                                  | 2/20 [00:07<01:09,  3.87s/it][I 2023-11-04 14:04:17,645] Trial 41 finished with value: 0.13414106393503872 and parameters: {'lambda_l1': 0.15327447923294985, 'lambda_l2': 3.3607779596684245e-07}. Best is trial 40 with value: 0.13381761429116643.\n",
      "regularization_factors, val_score: 0.132645:  10%|###8                                  | 2/20 [00:07<01:09,  3.87s/it]"
     ]
    },
    {
     "name": "stdout",
     "output_type": "stream",
     "text": [
      "Early stopping, best iteration is:\n",
      "[546]\tcv_agg's l2: 0.132645 + 0.0229198\n",
      "[100]\tcv_agg's l2: 0.140013 + 0.0249173\n",
      "[200]\tcv_agg's l2: 0.133917 + 0.0246446\n",
      "[300]\tcv_agg's l2: 0.132442 + 0.0247375\n",
      "[400]\tcv_agg's l2: 0.131743 + 0.0239713\n",
      "[500]\tcv_agg's l2: 0.13147 + 0.0237006\n",
      "[600]\tcv_agg's l2: 0.131535 + 0.0238165\n"
     ]
    },
    {
     "name": "stderr",
     "output_type": "stream",
     "text": [
      "regularization_factors, val_score: 0.131377:  15%|#####7                                | 3/20 [00:11<01:04,  3.80s/it][I 2023-11-04 14:04:21,373] Trial 42 finished with value: 0.13137674947325945 and parameters: {'lambda_l1': 0.14477303977169495, 'lambda_l2': 3.835292322493803e-07}. Best is trial 42 with value: 0.13137674947325945.\n",
      "regularization_factors, val_score: 0.131377:  15%|#####7                                | 3/20 [00:11<01:04,  3.80s/it]"
     ]
    },
    {
     "name": "stdout",
     "output_type": "stream",
     "text": [
      "Early stopping, best iteration is:\n",
      "[539]\tcv_agg's l2: 0.131377 + 0.0237116\n",
      "[100]\tcv_agg's l2: 0.141475 + 0.0271253\n",
      "[200]\tcv_agg's l2: 0.136476 + 0.0269328\n",
      "[300]\tcv_agg's l2: 0.134623 + 0.0267097\n",
      "[400]\tcv_agg's l2: 0.134092 + 0.0258655\n",
      "[500]\tcv_agg's l2: 0.134081 + 0.0257719\n"
     ]
    },
    {
     "name": "stderr",
     "output_type": "stream",
     "text": [
      "\r",
      "regularization_factors, val_score: 0.131377:  15%|#####7                                | 3/20 [00:15<01:04,  3.80s/it]"
     ]
    },
    {
     "name": "stdout",
     "output_type": "stream",
     "text": [
      "[600]\tcv_agg's l2: 0.134126 + 0.0256788\n",
      "Early stopping, best iteration is:\n",
      "[539]\tcv_agg's l2: 0.131377 + 0.0237116\n"
     ]
    },
    {
     "name": "stderr",
     "output_type": "stream",
     "text": [
      "regularization_factors, val_score: 0.131377:  20%|#######6                              | 4/20 [00:15<01:00,  3.75s/it][I 2023-11-04 14:04:25,048] Trial 43 finished with value: 0.13403541137187464 and parameters: {'lambda_l1': 0.17808888536396883, 'lambda_l2': 2.8315964255189906e-07}. Best is trial 42 with value: 0.13137674947325945.\n",
      "regularization_factors, val_score: 0.131377:  20%|#######6                              | 4/20 [00:15<01:00,  3.75s/it]"
     ]
    },
    {
     "name": "stdout",
     "output_type": "stream",
     "text": [
      "[100]\tcv_agg's l2: 0.141537 + 0.0264513\n",
      "[200]\tcv_agg's l2: 0.136563 + 0.0258222\n",
      "[300]\tcv_agg's l2: 0.134485 + 0.0252774\n",
      "[400]\tcv_agg's l2: 0.133911 + 0.0248881\n",
      "[500]\tcv_agg's l2: 0.133751 + 0.0247616\n"
     ]
    },
    {
     "name": "stderr",
     "output_type": "stream",
     "text": [
      "regularization_factors, val_score: 0.131377:  25%|#########5                            | 5/20 [00:19<00:56,  3.79s/it][I 2023-11-04 14:04:28,911] Trial 44 finished with value: 0.13357859737624445 and parameters: {'lambda_l1': 0.1838226187603857, 'lambda_l2': 2.7701777979811215e-07}. Best is trial 42 with value: 0.13137674947325945.\n",
      "regularization_factors, val_score: 0.131377:  25%|#########5                            | 5/20 [00:19<00:56,  3.79s/it]"
     ]
    },
    {
     "name": "stdout",
     "output_type": "stream",
     "text": [
      "[600]\tcv_agg's l2: 0.13359 + 0.0247128\n",
      "Early stopping, best iteration is:\n",
      "[539]\tcv_agg's l2: 0.131377 + 0.0237116\n",
      "[100]\tcv_agg's l2: 0.141643 + 0.0282898\n",
      "[200]\tcv_agg's l2: 0.137251 + 0.0275216\n",
      "[300]\tcv_agg's l2: 0.136038 + 0.0274229\n",
      "[400]\tcv_agg's l2: 0.135718 + 0.0269358\n",
      "[500]\tcv_agg's l2: 0.135498 + 0.0267023\n",
      "[600]\tcv_agg's l2: 0.135559 + 0.0266241\n"
     ]
    },
    {
     "name": "stderr",
     "output_type": "stream",
     "text": [
      "regularization_factors, val_score: 0.131377:  30%|###########4                          | 6/20 [00:22<00:53,  3.80s/it][I 2023-11-04 14:04:32,723] Trial 45 finished with value: 0.13544958655582726 and parameters: {'lambda_l1': 0.12235048365290213, 'lambda_l2': 4.165019463901008e-07}. Best is trial 42 with value: 0.13137674947325945.\n",
      "regularization_factors, val_score: 0.131377:  30%|###########4                          | 6/20 [00:22<00:53,  3.80s/it]"
     ]
    },
    {
     "name": "stdout",
     "output_type": "stream",
     "text": [
      "Early stopping, best iteration is:\n",
      "[539]\tcv_agg's l2: 0.131377 + 0.0237116\n",
      "[100]\tcv_agg's l2: 0.139153 + 0.0285219\n",
      "[200]\tcv_agg's l2: 0.135213 + 0.0280183\n",
      "[300]\tcv_agg's l2: 0.133302 + 0.0271045\n",
      "[400]\tcv_agg's l2: 0.13237 + 0.0261424\n",
      "[500]\tcv_agg's l2: 0.132279 + 0.0259779\n",
      "[600]\tcv_agg's l2: 0.132116 + 0.0255568\n"
     ]
    },
    {
     "name": "stderr",
     "output_type": "stream",
     "text": [
      "regularization_factors, val_score: 0.131377:  35%|#############3                        | 7/20 [00:26<00:50,  3.90s/it][I 2023-11-04 14:04:36,844] Trial 46 finished with value: 0.13213533374642125 and parameters: {'lambda_l1': 0.00402196922914173, 'lambda_l2': 3.5461061047485126e-05}. Best is trial 42 with value: 0.13137674947325945.\n",
      "regularization_factors, val_score: 0.131377:  35%|#############3                        | 7/20 [00:26<00:50,  3.90s/it]"
     ]
    },
    {
     "name": "stdout",
     "output_type": "stream",
     "text": [
      "Early stopping, best iteration is:\n",
      "[539]\tcv_agg's l2: 0.131377 + 0.0237116\n",
      "[100]\tcv_agg's l2: 0.140426 + 0.0285403\n",
      "[200]\tcv_agg's l2: 0.134069 + 0.0272604\n",
      "[300]\tcv_agg's l2: 0.13196 + 0.0264753\n",
      "[400]\tcv_agg's l2: 0.131166 + 0.0260282\n",
      "[500]\tcv_agg's l2: 0.13109 + 0.0258783\n"
     ]
    },
    {
     "name": "stderr",
     "output_type": "stream",
     "text": [
      "regularization_factors, val_score: 0.130943:  40%|###############2                      | 8/20 [00:32<00:51,  4.27s/it][I 2023-11-04 14:04:41,897] Trial 47 finished with value: 0.13094326521112507 and parameters: {'lambda_l1': 0.00011907954626802272, 'lambda_l2': 0.00099616579847887}. Best is trial 47 with value: 0.13094326521112507.\n",
      "regularization_factors, val_score: 0.130943:  40%|###############2                      | 8/20 [00:32<00:51,  4.27s/it]"
     ]
    },
    {
     "name": "stdout",
     "output_type": "stream",
     "text": [
      "[600]\tcv_agg's l2: 0.13103 + 0.0256839\n",
      "Early stopping, best iteration is:\n",
      "[515]\tcv_agg's l2: 0.130943 + 0.0258379\n",
      "[100]\tcv_agg's l2: 0.139474 + 0.028441\n",
      "[200]\tcv_agg's l2: 0.133302 + 0.0262139\n",
      "[300]\tcv_agg's l2: 0.131701 + 0.0255895\n",
      "[400]\tcv_agg's l2: 0.131081 + 0.0250142\n",
      "[500]\tcv_agg's l2: 0.131081 + 0.0249124\n",
      "[600]\tcv_agg's l2: 0.130752 + 0.024753\n",
      "[700]\tcv_agg's l2: 0.13066 + 0.024618\n",
      "[800]\tcv_agg's l2: 0.13061 + 0.0243947\n"
     ]
    },
    {
     "name": "stderr",
     "output_type": "stream",
     "text": [
      "regularization_factors, val_score: 0.130588:  45%|#################1                    | 9/20 [00:40<00:59,  5.44s/it][I 2023-11-04 14:04:49,898] Trial 48 finished with value: 0.13058750245908637 and parameters: {'lambda_l1': 4.103968835725062e-05, 'lambda_l2': 0.0016377446297639144}. Best is trial 48 with value: 0.13058750245908637.\n",
      "regularization_factors, val_score: 0.130588:  45%|#################1                    | 9/20 [00:40<00:59,  5.44s/it]"
     ]
    },
    {
     "name": "stdout",
     "output_type": "stream",
     "text": [
      "Early stopping, best iteration is:\n",
      "[796]\tcv_agg's l2: 0.130588 + 0.0244025\n",
      "[100]\tcv_agg's l2: 0.140643 + 0.0281096\n",
      "[200]\tcv_agg's l2: 0.134551 + 0.0257343\n",
      "[300]\tcv_agg's l2: 0.132574 + 0.0254102\n",
      "[400]\tcv_agg's l2: 0.131724 + 0.0249827\n",
      "[500]\tcv_agg's l2: 0.131626 + 0.0248623\n",
      "[600]\tcv_agg's l2: 0.131467 + 0.024614\n",
      "[700]\tcv_agg's l2: 0.131362 + 0.0243975\n",
      "[800]\tcv_agg's l2: 0.131452 + 0.0243867\n"
     ]
    },
    {
     "name": "stderr",
     "output_type": "stream",
     "text": [
      "regularization_factors, val_score: 0.130588:  50%|##################5                  | 10/20 [00:48<01:03,  6.34s/it][I 2023-11-04 14:04:58,250] Trial 49 finished with value: 0.1314287326325266 and parameters: {'lambda_l1': 1.5351028143419035e-05, 'lambda_l2': 0.0031658206489687873}. Best is trial 48 with value: 0.13058750245908637.\n",
      "regularization_factors, val_score: 0.130588:  50%|##################5                  | 10/20 [00:48<01:03,  6.34s/it]"
     ]
    },
    {
     "name": "stdout",
     "output_type": "stream",
     "text": [
      "Early stopping, best iteration is:\n",
      "[796]\tcv_agg's l2: 0.130588 + 0.0244025\n",
      "[100]\tcv_agg's l2: 0.138528 + 0.0284964\n",
      "[200]\tcv_agg's l2: 0.134117 + 0.0268441\n",
      "[300]\tcv_agg's l2: 0.131508 + 0.0261498\n",
      "[400]\tcv_agg's l2: 0.131518 + 0.0250391\n",
      "[500]\tcv_agg's l2: 0.131373 + 0.0248621\n",
      "[600]\tcv_agg's l2: 0.131353 + 0.024601\n",
      "[700]\tcv_agg's l2: 0.131253 + 0.024484\n",
      "[800]\tcv_agg's l2: 0.131312 + 0.0244467\n"
     ]
    },
    {
     "name": "stderr",
     "output_type": "stream",
     "text": [
      "regularization_factors, val_score: 0.130588:  55%|####################3                | 11/20 [00:54<00:55,  6.15s/it][I 2023-11-04 14:05:03,985] Trial 50 finished with value: 0.13128724548259285 and parameters: {'lambda_l1': 2.781933627030559e-05, 'lambda_l2': 0.005064939412846144}. Best is trial 48 with value: 0.13058750245908637.\n",
      "regularization_factors, val_score: 0.130588:  55%|####################3                | 11/20 [00:54<00:55,  6.15s/it]"
     ]
    },
    {
     "name": "stdout",
     "output_type": "stream",
     "text": [
      "Early stopping, best iteration is:\n",
      "[796]\tcv_agg's l2: 0.130588 + 0.0244025\n",
      "[100]\tcv_agg's l2: 0.139852 + 0.0281367\n",
      "[200]\tcv_agg's l2: 0.134148 + 0.0265777\n",
      "[300]\tcv_agg's l2: 0.132249 + 0.0258233\n",
      "[400]\tcv_agg's l2: 0.131252 + 0.0253741\n",
      "[500]\tcv_agg's l2: 0.131208 + 0.0251942\n",
      "[600]\tcv_agg's l2: 0.131281 + 0.0249366\n",
      "[700]\tcv_agg's l2: 0.131186 + 0.0248014\n",
      "[800]\tcv_agg's l2: 0.131166 + 0.0247501\n"
     ]
    },
    {
     "name": "stderr",
     "output_type": "stream",
     "text": [
      "regularization_factors, val_score: 0.130588:  60%|######################2              | 12/20 [00:59<00:48,  6.03s/it][I 2023-11-04 14:05:09,747] Trial 51 finished with value: 0.1311679435082574 and parameters: {'lambda_l1': 2.4333835117525493e-05, 'lambda_l2': 0.004112657698167421}. Best is trial 48 with value: 0.13058750245908637.\n",
      "regularization_factors, val_score: 0.130588:  60%|######################2              | 12/20 [00:59<00:48,  6.03s/it]"
     ]
    },
    {
     "name": "stdout",
     "output_type": "stream",
     "text": [
      "Early stopping, best iteration is:\n",
      "[796]\tcv_agg's l2: 0.130588 + 0.0244025\n",
      "[100]\tcv_agg's l2: 0.139668 + 0.0280802\n",
      "[200]\tcv_agg's l2: 0.134759 + 0.0267865\n",
      "[300]\tcv_agg's l2: 0.13316 + 0.025987\n",
      "[400]\tcv_agg's l2: 0.132525 + 0.0253167\n",
      "[500]\tcv_agg's l2: 0.132332 + 0.0250521\n",
      "[600]\tcv_agg's l2: 0.132458 + 0.0247249\n",
      "[700]\tcv_agg's l2: 0.132504 + 0.0245588\n",
      "[800]\tcv_agg's l2: 0.132426 + 0.0245061\n"
     ]
    },
    {
     "name": "stderr",
     "output_type": "stream",
     "text": [
      "regularization_factors, val_score: 0.130588:  65%|########################             | 13/20 [01:05<00:41,  5.98s/it][I 2023-11-04 14:05:15,595] Trial 52 finished with value: 0.13241993755383613 and parameters: {'lambda_l1': 1.4643046767981766e-05, 'lambda_l2': 0.004483726678621182}. Best is trial 48 with value: 0.13058750245908637.\n",
      "regularization_factors, val_score: 0.130588:  65%|########################             | 13/20 [01:05<00:41,  5.98s/it]"
     ]
    },
    {
     "name": "stdout",
     "output_type": "stream",
     "text": [
      "Early stopping, best iteration is:\n",
      "[796]\tcv_agg's l2: 0.130588 + 0.0244025\n",
      "[100]\tcv_agg's l2: 0.138527 + 0.0284964\n",
      "[200]\tcv_agg's l2: 0.134117 + 0.026844\n",
      "[300]\tcv_agg's l2: 0.131595 + 0.0260826\n",
      "[400]\tcv_agg's l2: 0.131313 + 0.0252021\n",
      "[500]\tcv_agg's l2: 0.131186 + 0.0250773\n",
      "[600]\tcv_agg's l2: 0.131079 + 0.0249069\n",
      "[700]\tcv_agg's l2: 0.131088 + 0.0248457\n",
      "[800]\tcv_agg's l2: 0.131107 + 0.02477\n"
     ]
    },
    {
     "name": "stderr",
     "output_type": "stream",
     "text": [
      "regularization_factors, val_score: 0.130588:  70%|#########################9           | 14/20 [01:11<00:36,  6.03s/it][I 2023-11-04 14:05:21,732] Trial 53 finished with value: 0.1310829417637902 and parameters: {'lambda_l1': 3.186122868570381e-05, 'lambda_l2': 0.005098964613419397}. Best is trial 48 with value: 0.13058750245908637.\n",
      "regularization_factors, val_score: 0.130588:  70%|#########################9           | 14/20 [01:11<00:36,  6.03s/it]"
     ]
    },
    {
     "name": "stdout",
     "output_type": "stream",
     "text": [
      "Early stopping, best iteration is:\n",
      "[796]\tcv_agg's l2: 0.130588 + 0.0244025\n",
      "[100]\tcv_agg's l2: 0.138967 + 0.0283629\n",
      "[200]\tcv_agg's l2: 0.13433 + 0.0269385\n",
      "[300]\tcv_agg's l2: 0.132848 + 0.0267668\n",
      "[400]\tcv_agg's l2: 0.132819 + 0.0263344\n",
      "[500]\tcv_agg's l2: 0.132523 + 0.0261467\n",
      "[600]\tcv_agg's l2: 0.132457 + 0.0257794\n",
      "[700]\tcv_agg's l2: 0.132412 + 0.0255976\n",
      "[800]\tcv_agg's l2: 0.132439 + 0.0254275\n"
     ]
    },
    {
     "name": "stderr",
     "output_type": "stream",
     "text": [
      "regularization_factors, val_score: 0.130588:  75%|###########################7         | 15/20 [01:17<00:29,  5.96s/it][I 2023-11-04 14:05:27,532] Trial 54 finished with value: 0.13241645526873183 and parameters: {'lambda_l1': 9.686982717089632e-05, 'lambda_l2': 0.005739715986021556}. Best is trial 48 with value: 0.13058750245908637.\n",
      "regularization_factors, val_score: 0.130588:  75%|###########################7         | 15/20 [01:17<00:29,  5.96s/it]"
     ]
    },
    {
     "name": "stdout",
     "output_type": "stream",
     "text": [
      "Early stopping, best iteration is:\n",
      "[796]\tcv_agg's l2: 0.130588 + 0.0244025\n",
      "[100]\tcv_agg's l2: 0.14168 + 0.0276618\n",
      "[200]\tcv_agg's l2: 0.135683 + 0.0257303\n",
      "[300]\tcv_agg's l2: 0.133623 + 0.0255927\n",
      "[400]\tcv_agg's l2: 0.13276 + 0.0246615\n",
      "[500]\tcv_agg's l2: 0.132645 + 0.0243622\n",
      "[600]\tcv_agg's l2: 0.132583 + 0.0242893\n",
      "[700]\tcv_agg's l2: 0.132637 + 0.0241265\n",
      "[800]\tcv_agg's l2: 0.132639 + 0.0239762\n"
     ]
    },
    {
     "name": "stderr",
     "output_type": "stream",
     "text": [
      "regularization_factors, val_score: 0.130588:  80%|#############################6       | 16/20 [01:23<00:23,  5.99s/it][I 2023-11-04 14:05:33,604] Trial 55 finished with value: 0.13262233219059225 and parameters: {'lambda_l1': 0.00014860805757031624, 'lambda_l2': 0.00040022766301089273}. Best is trial 48 with value: 0.13058750245908637.\n",
      "regularization_factors, val_score: 0.130588:  80%|#############################6       | 16/20 [01:23<00:23,  5.99s/it]"
     ]
    },
    {
     "name": "stdout",
     "output_type": "stream",
     "text": [
      "Early stopping, best iteration is:\n",
      "[796]\tcv_agg's l2: 0.130588 + 0.0244025\n",
      "[100]\tcv_agg's l2: 0.139045 + 0.0286908\n",
      "[200]\tcv_agg's l2: 0.134171 + 0.02754\n",
      "[300]\tcv_agg's l2: 0.132659 + 0.0264514\n",
      "[400]\tcv_agg's l2: 0.132357 + 0.0263718\n",
      "[500]\tcv_agg's l2: 0.13271 + 0.026539\n",
      "[600]\tcv_agg's l2: 0.132663 + 0.0264042\n",
      "[700]\tcv_agg's l2: 0.132603 + 0.0262605\n",
      "[800]\tcv_agg's l2: 0.132584 + 0.0262425\n"
     ]
    },
    {
     "name": "stderr",
     "output_type": "stream",
     "text": [
      "regularization_factors, val_score: 0.130588:  85%|###############################4     | 17/20 [01:29<00:17,  5.90s/it][I 2023-11-04 14:05:39,299] Trial 56 finished with value: 0.13254340147384652 and parameters: {'lambda_l1': 1.5846846914464955e-06, 'lambda_l2': 0.11146372152742241}. Best is trial 48 with value: 0.13058750245908637.\n",
      "regularization_factors, val_score: 0.130588:  85%|###############################4     | 17/20 [01:29<00:17,  5.90s/it]"
     ]
    },
    {
     "name": "stdout",
     "output_type": "stream",
     "text": [
      "Early stopping, best iteration is:\n",
      "[796]\tcv_agg's l2: 0.130588 + 0.0244025\n",
      "[100]\tcv_agg's l2: 0.140425 + 0.0285402\n",
      "[200]\tcv_agg's l2: 0.133901 + 0.026557\n",
      "[300]\tcv_agg's l2: 0.132692 + 0.0257731\n",
      "[400]\tcv_agg's l2: 0.131927 + 0.0253212\n",
      "[500]\tcv_agg's l2: 0.131936 + 0.0253775\n",
      "[600]\tcv_agg's l2: 0.131933 + 0.025329\n",
      "[700]\tcv_agg's l2: 0.13188 + 0.0251635\n",
      "[800]\tcv_agg's l2: 0.131918 + 0.0251159\n"
     ]
    },
    {
     "name": "stderr",
     "output_type": "stream",
     "text": [
      "regularization_factors, val_score: 0.130588:  90%|#################################3   | 18/20 [01:35<00:11,  5.88s/it][I 2023-11-04 14:05:45,138] Trial 57 finished with value: 0.13189919270521638 and parameters: {'lambda_l1': 4.744684276870737e-05, 'lambda_l2': 0.0010014810307669994}. Best is trial 48 with value: 0.13058750245908637.\n",
      "regularization_factors, val_score: 0.130588:  90%|#################################3   | 18/20 [01:35<00:11,  5.88s/it]"
     ]
    },
    {
     "name": "stdout",
     "output_type": "stream",
     "text": [
      "Early stopping, best iteration is:\n",
      "[796]\tcv_agg's l2: 0.130588 + 0.0244025\n",
      "[100]\tcv_agg's l2: 0.142022 + 0.028395\n",
      "[200]\tcv_agg's l2: 0.137237 + 0.0256477\n",
      "[300]\tcv_agg's l2: 0.135585 + 0.0255429\n",
      "[400]\tcv_agg's l2: 0.134771 + 0.0249822\n",
      "[500]\tcv_agg's l2: 0.134675 + 0.0247833\n",
      "[600]\tcv_agg's l2: 0.134626 + 0.0247059\n",
      "[700]\tcv_agg's l2: 0.134687 + 0.0247164\n",
      "[800]\tcv_agg's l2: 0.134767 + 0.0246806\n"
     ]
    },
    {
     "name": "stderr",
     "output_type": "stream",
     "text": [
      "regularization_factors, val_score: 0.130588:  95%|###################################1 | 19/20 [01:41<00:05,  5.91s/it][I 2023-11-04 14:05:51,107] Trial 58 finished with value: 0.1347587392161681 and parameters: {'lambda_l1': 0.0010386540690478516, 'lambda_l2': 0.025436844600469913}. Best is trial 48 with value: 0.13058750245908637.\n",
      "regularization_factors, val_score: 0.130588:  95%|###################################1 | 19/20 [01:41<00:05,  5.91s/it]"
     ]
    },
    {
     "name": "stdout",
     "output_type": "stream",
     "text": [
      "Early stopping, best iteration is:\n",
      "[796]\tcv_agg's l2: 0.130588 + 0.0244025\n",
      "[100]\tcv_agg's l2: 0.209106 + 0.0402086\n",
      "[200]\tcv_agg's l2: 0.202989 + 0.0389284\n",
      "[300]\tcv_agg's l2: 0.202746 + 0.0391168\n",
      "[400]\tcv_agg's l2: 0.202746 + 0.0391168\n",
      "[500]\tcv_agg's l2: 0.202746 + 0.0391168\n",
      "[600]\tcv_agg's l2: 0.202746 + 0.0391168\n",
      "[700]\tcv_agg's l2: 0.202746 + 0.0391168\n",
      "[800]\tcv_agg's l2: 0.202746 + 0.0391168\n",
      "Early stopping, best iteration is:\n",
      "[796]\tcv_agg's l2: 0.130588 + 0.0244025\n"
     ]
    },
    {
     "name": "stderr",
     "output_type": "stream",
     "text": [
      "regularization_factors, val_score: 0.130588: 100%|#####################################| 20/20 [01:43<00:00,  4.70s/it][I 2023-11-04 14:05:52,994] Trial 59 finished with value: 0.20274617962842784 and parameters: {'lambda_l1': 8.867484014001185, 'lambda_l2': 0.00024405339362734046}. Best is trial 48 with value: 0.13058750245908637.\n",
      "regularization_factors, val_score: 0.130588: 100%|#####################################| 20/20 [01:43<00:00,  5.16s/it]\n",
      "min_data_in_leaf, val_score: 0.130588:   0%|                                                     | 0/5 [00:00<?, ?it/s]"
     ]
    },
    {
     "name": "stdout",
     "output_type": "stream",
     "text": [
      "[100]\tcv_agg's l2: 0.148377 + 0.0253399\n",
      "[200]\tcv_agg's l2: 0.142377 + 0.0228795\n",
      "[300]\tcv_agg's l2: 0.141722 + 0.0241668\n",
      "[400]\tcv_agg's l2: 0.141294 + 0.0239371\n",
      "[500]\tcv_agg's l2: 0.140654 + 0.0238483\n",
      "[600]\tcv_agg's l2: 0.140765 + 0.0237562\n",
      "[700]\tcv_agg's l2: 0.140663 + 0.0236639\n",
      "[800]\tcv_agg's l2: 0.140633 + 0.0238145\n"
     ]
    },
    {
     "name": "stderr",
     "output_type": "stream",
     "text": [
      "min_data_in_leaf, val_score: 0.130588:  20%|#########                                    | 1/5 [00:05<00:20,  5.23s/it][I 2023-11-04 14:05:58,229] Trial 60 finished with value: 0.14063478373189814 and parameters: {'min_child_samples': 25}. Best is trial 60 with value: 0.14063478373189814.\n",
      "min_data_in_leaf, val_score: 0.130588:  20%|#########                                    | 1/5 [00:05<00:20,  5.23s/it]"
     ]
    },
    {
     "name": "stdout",
     "output_type": "stream",
     "text": [
      "Early stopping, best iteration is:\n",
      "[796]\tcv_agg's l2: 0.130588 + 0.0244025\n",
      "[100]\tcv_agg's l2: 0.137398 + 0.0326726\n",
      "[200]\tcv_agg's l2: 0.133378 + 0.031732\n",
      "[300]\tcv_agg's l2: 0.132711 + 0.0317746\n",
      "[400]\tcv_agg's l2: 0.132288 + 0.0314898\n",
      "[500]\tcv_agg's l2: 0.132067 + 0.0313081\n",
      "[600]\tcv_agg's l2: 0.132021 + 0.0312575\n",
      "[700]\tcv_agg's l2: 0.131895 + 0.031114\n",
      "[800]\tcv_agg's l2: 0.131859 + 0.0310294\n"
     ]
    },
    {
     "name": "stderr",
     "output_type": "stream",
     "text": [
      "min_data_in_leaf, val_score: 0.130588:  40%|##################                           | 2/5 [00:10<00:16,  5.39s/it][I 2023-11-04 14:06:03,728] Trial 61 finished with value: 0.1318637559968511 and parameters: {'min_child_samples': 10}. Best is trial 61 with value: 0.1318637559968511.\n",
      "min_data_in_leaf, val_score: 0.130588:  40%|##################                           | 2/5 [00:10<00:16,  5.39s/it]"
     ]
    },
    {
     "name": "stdout",
     "output_type": "stream",
     "text": [
      "Early stopping, best iteration is:\n",
      "[796]\tcv_agg's l2: 0.130588 + 0.0244025\n",
      "[100]\tcv_agg's l2: 0.695818 + 0.0569992\n",
      "[200]\tcv_agg's l2: 0.646138 + 0.0490851\n",
      "[300]\tcv_agg's l2: 0.623026 + 0.0458977\n",
      "[400]\tcv_agg's l2: 0.607812 + 0.0482158\n",
      "[500]\tcv_agg's l2: 0.596615 + 0.0511635\n",
      "[600]\tcv_agg's l2: 0.589858 + 0.0537579\n",
      "[700]\tcv_agg's l2: 0.584769 + 0.0541394\n",
      "[800]\tcv_agg's l2: 0.579374 + 0.0542193\n"
     ]
    },
    {
     "name": "stderr",
     "output_type": "stream",
     "text": [
      "min_data_in_leaf, val_score: 0.130588:  60%|###########################                  | 3/5 [00:13<00:08,  4.12s/it][I 2023-11-04 14:06:06,329] Trial 62 finished with value: 0.5800494923922523 and parameters: {'min_child_samples': 100}. Best is trial 61 with value: 0.1318637559968511.\n",
      "min_data_in_leaf, val_score: 0.130588:  60%|###########################                  | 3/5 [00:13<00:08,  4.12s/it]"
     ]
    },
    {
     "name": "stdout",
     "output_type": "stream",
     "text": [
      "Early stopping, best iteration is:\n",
      "[796]\tcv_agg's l2: 0.130588 + 0.0244025\n",
      "[100]\tcv_agg's l2: 0.229418 + 0.029568\n",
      "[200]\tcv_agg's l2: 0.215008 + 0.0257734\n",
      "[300]\tcv_agg's l2: 0.213047 + 0.0261938\n",
      "[400]\tcv_agg's l2: 0.213484 + 0.0259635\n",
      "[500]\tcv_agg's l2: 0.212223 + 0.0249372\n",
      "[600]\tcv_agg's l2: 0.213065 + 0.0257037\n",
      "[700]\tcv_agg's l2: 0.214677 + 0.0257412\n",
      "[800]\tcv_agg's l2: 0.215223 + 0.02588\n"
     ]
    },
    {
     "name": "stderr",
     "output_type": "stream",
     "text": [
      "min_data_in_leaf, val_score: 0.130588:  80%|####################################         | 4/5 [00:16<00:03,  3.92s/it][I 2023-11-04 14:06:09,956] Trial 63 finished with value: 0.21515090827365393 and parameters: {'min_child_samples': 50}. Best is trial 61 with value: 0.1318637559968511.\n",
      "min_data_in_leaf, val_score: 0.130588:  80%|####################################         | 4/5 [00:16<00:03,  3.92s/it]"
     ]
    },
    {
     "name": "stdout",
     "output_type": "stream",
     "text": [
      "Early stopping, best iteration is:\n",
      "[796]\tcv_agg's l2: 0.130588 + 0.0244025\n",
      "[100]\tcv_agg's l2: 0.144075 + 0.0411627\n",
      "[200]\tcv_agg's l2: 0.141224 + 0.039926\n",
      "[300]\tcv_agg's l2: 0.140058 + 0.0398417\n",
      "[400]\tcv_agg's l2: 0.139752 + 0.0395955\n",
      "[500]\tcv_agg's l2: 0.139688 + 0.0392913\n",
      "[600]\tcv_agg's l2: 0.139677 + 0.0392713\n",
      "[700]\tcv_agg's l2: 0.139627 + 0.0392127\n",
      "[800]\tcv_agg's l2: 0.139602 + 0.0391843\n"
     ]
    },
    {
     "name": "stderr",
     "output_type": "stream",
     "text": [
      "min_data_in_leaf, val_score: 0.130588: 100%|#############################################| 5/5 [00:22<00:00,  4.47s/it][I 2023-11-04 14:06:15,410] Trial 64 finished with value: 0.13960055491286705 and parameters: {'min_child_samples': 5}. Best is trial 61 with value: 0.1318637559968511.\n",
      "min_data_in_leaf, val_score: 0.130588: 100%|#############################################| 5/5 [00:22<00:00,  4.48s/it]"
     ]
    },
    {
     "name": "stdout",
     "output_type": "stream",
     "text": [
      "Early stopping, best iteration is:\n",
      "[796]\tcv_agg's l2: 0.130588 + 0.0244025\n"
     ]
    },
    {
     "name": "stderr",
     "output_type": "stream",
     "text": [
      "\n"
     ]
    }
   ],
   "source": [
    "import optuna.integration.lightgbm as lgb\n",
    "from lightgbm import early_stopping\n",
    "from sklearn.model_selection import KFold\n",
    "from sklearn.model_selection import RepeatedKFold\n",
    "\n",
    "\n",
    "lgb_train = lgb.Dataset(X_train_random_split, y_train_random_split)\n",
    "\n",
    "params = {\n",
    "    \"boosting_type\": \"gbdt\",\n",
    "    \"objective\": \"regression\",\n",
    "    \"metric\": \"l2\",\n",
    "    \"verbosity\": -1,\n",
    "}\n",
    "\n",
    "tuner = lgb.LightGBMTunerCV(\n",
    "    params,\n",
    "    lgb_train,\n",
    "    folds=KFold(n_splits=5),\n",
    "    num_boost_round=10000,\n",
    "    callbacks=[early_stopping(100), log_evaluation(100)],\n",
    ")\n",
    "\n",
    "tuner.run()"
   ]
  },
  {
   "cell_type": "code",
   "execution_count": 38,
   "id": "175988ae",
   "metadata": {},
   "outputs": [
    {
     "name": "stdout",
     "output_type": "stream",
     "text": [
      "Best score: 0.13058750245908637\n",
      "Params: \n",
      "    boosting_type: gbdt\n",
      "    objective: regression\n",
      "    metric: l2\n",
      "    verbosity: -1\n",
      "    feature_pre_filter: False\n",
      "    lambda_l1: 4.103968835725062e-05\n",
      "    lambda_l2: 0.0016377446297639144\n",
      "    num_leaves: 23\n",
      "    feature_fraction: 0.4\n",
      "    bagging_fraction: 0.9744228710483762\n",
      "    bagging_freq: 4\n",
      "    min_child_samples: 20\n"
     ]
    }
   ],
   "source": [
    "print(f\"Best score: {tuner.best_score}\")\n",
    "best_params = tuner.best_params\n",
    "print(\"Params: \")\n",
    "for key, value in best_params.items():\n",
    "    print(\"    {}: {}\".format(key, value))"
   ]
  },
  {
   "cell_type": "code",
   "execution_count": 39,
   "id": "b8e0ae76",
   "metadata": {},
   "outputs": [],
   "source": [
    "import lightgbm as lgb\n",
    "\n",
    "lgb_tuned = lgb.train(\n",
    "    best_params,\n",
    "    lgb_train,\n",
    "    num_boost_round=10000,\n",
    ")"
   ]
  },
  {
   "cell_type": "code",
   "execution_count": 40,
   "id": "ab41f140",
   "metadata": {},
   "outputs": [
    {
     "name": "stdout",
     "output_type": "stream",
     "text": [
      "RMSE train: 0.00\n",
      "RMSE test: 0.31\n",
      "MSE test: 0.10\n",
      "MAE test: 0.22\n",
      "\n"
     ]
    }
   ],
   "source": [
    "rmse, mse, mae = assess_regression_model(\n",
    "    lgb_tuned,\n",
    "    X_train_random_split,\n",
    "    X_test_random_split,\n",
    "    y_train_random_split,\n",
    "    y_test_random_split,\n",
    ")"
   ]
  },
  {
   "cell_type": "code",
   "execution_count": 41,
   "id": "36a7d705",
   "metadata": {},
   "outputs": [],
   "source": [
    "results.loc[3] = [\"random\", \"Optuna\", len(X_test.columns), mse, rmse, mae]"
   ]
  },
  {
   "cell_type": "markdown",
   "id": "baffe730",
   "metadata": {},
   "source": [
    "###### MAE by level"
   ]
  },
  {
   "cell_type": "code",
   "execution_count": 42,
   "id": "4206dff5",
   "metadata": {},
   "outputs": [
    {
     "data": {
      "image/png": "[encoded data removed]",
      "text/plain": [
       "<Figure size 720x432 with 1 Axes>"
      ]
     },
     "metadata": {
      "needs_background": "light"
     },
     "output_type": "display_data"
    }
   ],
   "source": [
    "plot_mae_by_level(y_test_random_split, y_pred_test)"
   ]
  },
  {
   "cell_type": "code",
   "execution_count": 43,
   "id": "502bdb9c",
   "metadata": {
    "scrolled": true
   },
   "outputs": [
    {
     "name": "stdout",
     "output_type": "stream",
     "text": [
      "Normal:\n",
      "MSE: 0.03\n",
      "RMSE: 0.18\n",
      "\n",
      "Round type: round\n",
      "MSE: 0.04\n",
      "RMSE: 0.20\n",
      "\n",
      "Round type: 0.33\n",
      "MSE: 0.05\n",
      "RMSE: 0.22\n",
      "\n",
      "Round type: 0.45\n",
      "MSE: 0.04\n",
      "RMSE: 0.20\n",
      "\n"
     ]
    }
   ],
   "source": [
    "predict = lgb_tuned.predict(X_test)\n",
    "check_round_predictions([\"round\", 0.33, 0.45], y_test, predict)"
   ]
  },
  {
   "cell_type": "code",
   "execution_count": 44,
   "id": "378511d8",
   "metadata": {},
   "outputs": [
    {
     "data": {
      "image/png": "[encoded data removed]",
      "text/plain": [
       "<Figure size 432x288 with 2 Axes>"
      ]
     },
     "metadata": {
      "needs_background": "light"
     },
     "output_type": "display_data"
    }
   ],
   "source": [
    "plot_confusion_matrix(\"round\", predict, y_test)"
   ]
  },
  {
   "cell_type": "markdown",
   "id": "cbf21c29",
   "metadata": {},
   "source": [
    "## Summary"
   ]
  },
  {
   "cell_type": "code",
   "execution_count": 45,
   "id": "d065edf6",
   "metadata": {
    "scrolled": false
   },
   "outputs": [
    {
     "data": {
      "text/html": [
       "<div>\n",
       "<style scoped>\n",
       "    .dataframe tbody tr th:only-of-type {\n",
       "        vertical-align: middle;\n",
       "    }\n",
       "\n",
       "    .dataframe tbody tr th {\n",
       "        vertical-align: top;\n",
       "    }\n",
       "\n",
       "    .dataframe thead th {\n",
       "        text-align: right;\n",
       "    }\n",
       "</style>\n",
       "<table border=\"1\" class=\"dataframe\">\n",
       "  <thead>\n",
       "    <tr style=\"text-align: right;\">\n",
       "      <th></th>\n",
       "      <th>Split type</th>\n",
       "      <th>Tuning type</th>\n",
       "      <th>Number of characteristics</th>\n",
       "      <th>MSE</th>\n",
       "      <th>RMSE</th>\n",
       "      <th>MAE</th>\n",
       "    </tr>\n",
       "  </thead>\n",
       "  <tbody>\n",
       "    <tr>\n",
       "      <th>0</th>\n",
       "      <td>chronological</td>\n",
       "      <td>normal</td>\n",
       "      <td>50</td>\n",
       "      <td>0.913544</td>\n",
       "      <td>0.955795</td>\n",
       "      <td>0.459630</td>\n",
       "    </tr>\n",
       "    <tr>\n",
       "      <th>1</th>\n",
       "      <td>chronological</td>\n",
       "      <td>Optuna</td>\n",
       "      <td>50</td>\n",
       "      <td>0.769451</td>\n",
       "      <td>0.877184</td>\n",
       "      <td>0.441060</td>\n",
       "    </tr>\n",
       "    <tr>\n",
       "      <th>2</th>\n",
       "      <td>random</td>\n",
       "      <td>normal</td>\n",
       "      <td>50</td>\n",
       "      <td>0.137900</td>\n",
       "      <td>0.371349</td>\n",
       "      <td>0.246737</td>\n",
       "    </tr>\n",
       "    <tr>\n",
       "      <th>3</th>\n",
       "      <td>random</td>\n",
       "      <td>Optuna</td>\n",
       "      <td>50</td>\n",
       "      <td>0.097734</td>\n",
       "      <td>0.312624</td>\n",
       "      <td>0.221938</td>\n",
       "    </tr>\n",
       "  </tbody>\n",
       "</table>\n",
       "</div>"
      ],
      "text/plain": [
       "      Split type Tuning type  Number of characteristics       MSE      RMSE  \\\n",
       "0  chronological      normal                         50  0.913544  0.955795   \n",
       "1  chronological      Optuna                         50  0.769451  0.877184   \n",
       "2         random      normal                         50  0.137900  0.371349   \n",
       "3         random      Optuna                         50  0.097734  0.312624   \n",
       "\n",
       "        MAE  \n",
       "0  0.459630  \n",
       "1  0.441060  \n",
       "2  0.246737  \n",
       "3  0.221938  "
      ]
     },
     "execution_count": 45,
     "metadata": {},
     "output_type": "execute_result"
    }
   ],
   "source": [
    "results"
   ]
  },
  {
   "cell_type": "code",
   "execution_count": 46,
   "id": "5ab8f79f",
   "metadata": {},
   "outputs": [],
   "source": [
    "from training.results import plot_summary"
   ]
  },
  {
   "cell_type": "code",
   "execution_count": 47,
   "id": "a642225d",
   "metadata": {},
   "outputs": [
    {
     "data": {
      "image/png": "[encoded data removed]",
      "text/plain": [
       "<Figure size 1440x576 with 1 Axes>"
      ]
     },
     "metadata": {
      "needs_background": "light"
     },
     "output_type": "display_data"
    }
   ],
   "source": [
    "plot_summary(results, \"RMSE\", title=\"RMSE for LightGBM with full features\")"
   ]
  },
  {
   "cell_type": "code",
   "execution_count": 48,
   "id": "07e30e23",
   "metadata": {},
   "outputs": [
    {
     "data": {
      "image/png": "[encoded data removed]",
      "text/plain": [
       "<Figure size 1440x576 with 1 Axes>"
      ]
     },
     "metadata": {
      "needs_background": "light"
     },
     "output_type": "display_data"
    }
   ],
   "source": [
    "plot_summary(results, \"MAE\", title=\"MAE for LightGBM with full features\")"
   ]
  },
  {
   "cell_type": "code",
   "execution_count": 49,
   "id": "ae68a99c",
   "metadata": {},
   "outputs": [],
   "source": [
    "results.to_json(\"./lightgbm_final_results.json\")"
   ]
  },
  {
   "cell_type": "code",
   "execution_count": null,
   "id": "745b56ef",
   "metadata": {},
   "outputs": [],
   "source": []
  }
 ],
 "metadata": {
  "kernelspec": {
   "display_name": "Python 3 (ipykernel)",
   "language": "python",
   "name": "python3"
  },
  "language_info": {
   "codemirror_mode": {
    "name": "ipython",
    "version": 3
   },
   "file_extension": ".py",
   "mimetype": "text/x-python",
   "name": "python",
   "nbconvert_exporter": "python",
   "pygments_lexer": "ipython3",
   "version": "3.10.4"
  }
 },
 "nbformat": 4,
 "nbformat_minor": 5
}
