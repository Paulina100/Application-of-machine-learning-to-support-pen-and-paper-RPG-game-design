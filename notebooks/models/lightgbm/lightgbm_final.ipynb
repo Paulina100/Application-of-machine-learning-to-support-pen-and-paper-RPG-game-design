{
 "cells": [
  {
   "cell_type": "markdown",
   "id": "f64a671f",
   "metadata": {},
   "source": [
    "# LightGBM\n",
    "### Parameters:\n",
    "System:\n",
    "* **abilities**:\n",
    "    * **cha**\n",
    "    * **con**\n",
    "    * **dex**\n",
    "    * **int**\n",
    "    * **str**\n",
    "    * **wis**\n",
    "* **attributes**\n",
    "    * **hp**\n",
    "    * **ac**\n",
    "    * **perception**\n",
    "    * **speed** (*land speed*)\n",
    "        * **other speeds**: fly, climb, swim\n",
    "    * **num immunities**\n",
    "    * **resistances**: fire, cold, electricity, acid, piercing, slashing, physical, bludgeoning, mental, poison, all-damage\n",
    "    * **weaknesses**: cold-iron, good, fire, cold, area-damage, splash-damage, evil, slashing\n",
    "* **saves**\n",
    "    * **fortitude**\n",
    "    * **reflex**\n",
    "    * **will**\n",
    "* **resources**\n",
    "    * **focus**\n",
    "\n",
    "Items\n",
    "* **items**\n",
    "    * **melee**\n",
    "    * **ranged**\n",
    "    * **spells nr**\n",
    "\n",
    "### Prediction: *level*\n",
    "\n",
    "## Loading data"
   ]
  },
  {
   "cell_type": "code",
   "execution_count": 1,
   "id": "1f2515e7",
   "metadata": {},
   "outputs": [],
   "source": [
    "import numpy as np\n",
    "import pandas as pd\n",
    "import sys\n",
    "\n",
    "import os\n",
    "import pathlib\n",
    "\n",
    "sys.path.append(\"../../..\")\n",
    "from training.creating_dataset import load_and_preprocess_data\n",
    "\n",
    "current_path = os.getcwd()\n",
    "DATASETS_DIR = pathlib.Path(current_path).parent.parent.parent / \"pathfinder_2e_data\"\n",
    "DATASET_FILES = [\n",
    "    \"pathfinder-bestiary.db\",\n",
    "    \"pathfinder-bestiary-2.db\",\n",
    "    \"pathfinder-bestiary-3.db\",\n",
    "]\n",
    "DATASET_PATHS = [f\"{DATASETS_DIR}/{file}\" for file in DATASET_FILES]\n",
    "characteristics = [\n",
    "    \"cha\",\n",
    "    \"con\",\n",
    "    \"dex\",\n",
    "    \"int\",\n",
    "    \"str\",\n",
    "    \"wis\",\n",
    "    \"ac\",\n",
    "    \"hp\",\n",
    "    \"perception\",\n",
    "    \"fortitude\",\n",
    "    \"reflex\",\n",
    "    \"will\",\n",
    "    \"focus\",\n",
    "    \"land_speed\",\n",
    "    \"num_immunities\",\n",
    "    \"fly\",\n",
    "    \"swim\",\n",
    "    \"climb\",\n",
    "    \"fire_resistance\",\n",
    "    \"cold_resistance\",\n",
    "    \"electricity_resistance\",\n",
    "    \"acid_resistance\",\n",
    "    \"piercing_resistance\",\n",
    "    \"slashing_resistance\",\n",
    "    \"physical_resistance\",\n",
    "    \"bludgeoning_resistance\",\n",
    "    \"mental_resistance\",\n",
    "    \"poison_resistance\",\n",
    "    \"all-damage_resistance\",\n",
    "    \"cold-iron_weakness\",\n",
    "    \"good_weakness\",\n",
    "    \"fire_weakness\",\n",
    "    \"cold_weakness\",\n",
    "    \"area-damage_weakness\",\n",
    "    \"splash-damage_weakness\",\n",
    "    \"evil_weakness\",\n",
    "    \"slashing_weakness\",\n",
    "    \"melee\",\n",
    "    \"ranged\",\n",
    "    \"spells\",\n",
    "]\n",
    "\n",
    "df = load_and_preprocess_data(\n",
    "    DATASET_PATHS,\n",
    "    characteristics=characteristics,\n",
    ")"
   ]
  },
  {
   "cell_type": "code",
   "execution_count": 2,
   "id": "b522f880",
   "metadata": {},
   "outputs": [
    {
     "name": "stdout",
     "output_type": "stream",
     "text": [
      "<class 'pandas.core.frame.DataFrame'>\n",
      "Int64Index: 1206 entries, 0 to 1205\n",
      "Data columns (total 52 columns):\n",
      " #   Column                  Non-Null Count  Dtype  \n",
      "---  ------                  --------------  -----  \n",
      " 0   con                     1206 non-null   int64  \n",
      " 1   wis                     1206 non-null   int64  \n",
      " 2   fortitude               1206 non-null   int64  \n",
      " 3   book                    1206 non-null   object \n",
      " 4   str                     1206 non-null   int64  \n",
      " 5   int                     1206 non-null   int64  \n",
      " 6   dex                     1206 non-null   int64  \n",
      " 7   cha                     1206 non-null   int64  \n",
      " 8   land_speed              1206 non-null   float64\n",
      " 9   reflex                  1206 non-null   int64  \n",
      " 10  ac                      1206 non-null   int64  \n",
      " 11  will                    1206 non-null   int64  \n",
      " 12  num_immunities          1206 non-null   int64  \n",
      " 13  perception              1206 non-null   int64  \n",
      " 14  level                   1206 non-null   int64  \n",
      " 15  hp                      1206 non-null   int64  \n",
      " 16  focus                   1206 non-null   int32  \n",
      " 17  cold_resistance         1206 non-null   int64  \n",
      " 18  mental_resistance       1206 non-null   int64  \n",
      " 19  all-damage_resistance   1206 non-null   int64  \n",
      " 20  slashing_resistance     1206 non-null   int64  \n",
      " 21  acid_resistance         1206 non-null   int64  \n",
      " 22  poison_resistance       1206 non-null   int64  \n",
      " 23  bludgeoning_resistance  1206 non-null   int64  \n",
      " 24  electricity_resistance  1206 non-null   int64  \n",
      " 25  physical_resistance     1206 non-null   int64  \n",
      " 26  fire_resistance         1206 non-null   int64  \n",
      " 27  piercing_resistance     1206 non-null   int64  \n",
      " 28  good_weakness           1206 non-null   int64  \n",
      " 29  splash-damage_weakness  1206 non-null   int64  \n",
      " 30  slashing_weakness       1206 non-null   int64  \n",
      " 31  cold-iron_weakness      1206 non-null   int64  \n",
      " 32  evil_weakness           1206 non-null   int64  \n",
      " 33  cold_weakness           1206 non-null   int64  \n",
      " 34  area-damage_weakness    1206 non-null   int64  \n",
      " 35  fire_weakness           1206 non-null   int64  \n",
      " 36  fly                     1206 non-null   int64  \n",
      " 37  swim                    1206 non-null   int64  \n",
      " 38  climb                   1206 non-null   int64  \n",
      " 39  spells_nr_lvl_1         1206 non-null   int64  \n",
      " 40  spells_nr_lvl_2         1206 non-null   int64  \n",
      " 41  spells_nr_lvl_3         1206 non-null   int64  \n",
      " 42  spells_nr_lvl_4         1206 non-null   int64  \n",
      " 43  spells_nr_lvl_5         1206 non-null   int64  \n",
      " 44  spells_nr_lvl_6         1206 non-null   int64  \n",
      " 45  spells_nr_lvl_7         1206 non-null   int64  \n",
      " 46  spells_nr_lvl_8         1206 non-null   int64  \n",
      " 47  spells_nr_lvl_9         1206 non-null   int64  \n",
      " 48  melee_max_bonus         1206 non-null   int64  \n",
      " 49  avg_melee_dmg           1206 non-null   float64\n",
      " 50  ranged_max_bonus        1206 non-null   int64  \n",
      " 51  avg_ranged_dmg          1206 non-null   float64\n",
      "dtypes: float64(3), int32(1), int64(47), object(1)\n",
      "memory usage: 494.6+ KB\n"
     ]
    }
   ],
   "source": [
    "df.info()"
   ]
  },
  {
   "cell_type": "code",
   "execution_count": 3,
   "id": "1b5450d3",
   "metadata": {},
   "outputs": [
    {
     "data": {
      "text/html": [
       "<div>\n",
       "<style scoped>\n",
       "    .dataframe tbody tr th:only-of-type {\n",
       "        vertical-align: middle;\n",
       "    }\n",
       "\n",
       "    .dataframe tbody tr th {\n",
       "        vertical-align: top;\n",
       "    }\n",
       "\n",
       "    .dataframe thead th {\n",
       "        text-align: right;\n",
       "    }\n",
       "</style>\n",
       "<table border=\"1\" class=\"dataframe\">\n",
       "  <thead>\n",
       "    <tr style=\"text-align: right;\">\n",
       "      <th></th>\n",
       "      <th>con</th>\n",
       "      <th>wis</th>\n",
       "      <th>fortitude</th>\n",
       "      <th>book</th>\n",
       "      <th>str</th>\n",
       "      <th>int</th>\n",
       "      <th>dex</th>\n",
       "      <th>cha</th>\n",
       "      <th>land_speed</th>\n",
       "      <th>reflex</th>\n",
       "      <th>...</th>\n",
       "      <th>spells_nr_lvl_4</th>\n",
       "      <th>spells_nr_lvl_5</th>\n",
       "      <th>spells_nr_lvl_6</th>\n",
       "      <th>spells_nr_lvl_7</th>\n",
       "      <th>spells_nr_lvl_8</th>\n",
       "      <th>spells_nr_lvl_9</th>\n",
       "      <th>melee_max_bonus</th>\n",
       "      <th>avg_melee_dmg</th>\n",
       "      <th>ranged_max_bonus</th>\n",
       "      <th>avg_ranged_dmg</th>\n",
       "    </tr>\n",
       "  </thead>\n",
       "  <tbody>\n",
       "    <tr>\n",
       "      <th>0</th>\n",
       "      <td>5</td>\n",
       "      <td>2</td>\n",
       "      <td>22</td>\n",
       "      <td>Pathfinder Bestiary</td>\n",
       "      <td>7</td>\n",
       "      <td>1</td>\n",
       "      <td>2</td>\n",
       "      <td>1</td>\n",
       "      <td>30.0</td>\n",
       "      <td>19</td>\n",
       "      <td>...</td>\n",
       "      <td>0</td>\n",
       "      <td>0</td>\n",
       "      <td>0</td>\n",
       "      <td>0</td>\n",
       "      <td>0</td>\n",
       "      <td>0</td>\n",
       "      <td>23</td>\n",
       "      <td>22.0</td>\n",
       "      <td>0</td>\n",
       "      <td>0.0</td>\n",
       "    </tr>\n",
       "    <tr>\n",
       "      <th>1</th>\n",
       "      <td>5</td>\n",
       "      <td>2</td>\n",
       "      <td>21</td>\n",
       "      <td>Pathfinder Bestiary</td>\n",
       "      <td>9</td>\n",
       "      <td>-4</td>\n",
       "      <td>0</td>\n",
       "      <td>1</td>\n",
       "      <td>35.0</td>\n",
       "      <td>14</td>\n",
       "      <td>...</td>\n",
       "      <td>0</td>\n",
       "      <td>0</td>\n",
       "      <td>0</td>\n",
       "      <td>0</td>\n",
       "      <td>0</td>\n",
       "      <td>0</td>\n",
       "      <td>23</td>\n",
       "      <td>22.0</td>\n",
       "      <td>0</td>\n",
       "      <td>0.0</td>\n",
       "    </tr>\n",
       "    <tr>\n",
       "      <th>2</th>\n",
       "      <td>6</td>\n",
       "      <td>3</td>\n",
       "      <td>20</td>\n",
       "      <td>Pathfinder Bestiary</td>\n",
       "      <td>7</td>\n",
       "      <td>-4</td>\n",
       "      <td>3</td>\n",
       "      <td>-2</td>\n",
       "      <td>30.0</td>\n",
       "      <td>17</td>\n",
       "      <td>...</td>\n",
       "      <td>0</td>\n",
       "      <td>0</td>\n",
       "      <td>0</td>\n",
       "      <td>0</td>\n",
       "      <td>0</td>\n",
       "      <td>0</td>\n",
       "      <td>21</td>\n",
       "      <td>16.0</td>\n",
       "      <td>0</td>\n",
       "      <td>0.0</td>\n",
       "    </tr>\n",
       "    <tr>\n",
       "      <th>3</th>\n",
       "      <td>5</td>\n",
       "      <td>5</td>\n",
       "      <td>30</td>\n",
       "      <td>Pathfinder Bestiary</td>\n",
       "      <td>7</td>\n",
       "      <td>6</td>\n",
       "      <td>4</td>\n",
       "      <td>6</td>\n",
       "      <td>50.0</td>\n",
       "      <td>29</td>\n",
       "      <td>...</td>\n",
       "      <td>1</td>\n",
       "      <td>0</td>\n",
       "      <td>1</td>\n",
       "      <td>0</td>\n",
       "      <td>0</td>\n",
       "      <td>0</td>\n",
       "      <td>33</td>\n",
       "      <td>31.5</td>\n",
       "      <td>0</td>\n",
       "      <td>0.0</td>\n",
       "    </tr>\n",
       "    <tr>\n",
       "      <th>4</th>\n",
       "      <td>1</td>\n",
       "      <td>1</td>\n",
       "      <td>6</td>\n",
       "      <td>Pathfinder Bestiary</td>\n",
       "      <td>-5</td>\n",
       "      <td>-1</td>\n",
       "      <td>3</td>\n",
       "      <td>1</td>\n",
       "      <td>0.0</td>\n",
       "      <td>10</td>\n",
       "      <td>...</td>\n",
       "      <td>1</td>\n",
       "      <td>0</td>\n",
       "      <td>0</td>\n",
       "      <td>0</td>\n",
       "      <td>0</td>\n",
       "      <td>0</td>\n",
       "      <td>0</td>\n",
       "      <td>0.0</td>\n",
       "      <td>8</td>\n",
       "      <td>5.0</td>\n",
       "    </tr>\n",
       "  </tbody>\n",
       "</table>\n",
       "<p>5 rows × 52 columns</p>\n",
       "</div>"
      ],
      "text/plain": [
       "   con  wis  fortitude                 book  str  int  dex  cha  land_speed  \\\n",
       "0    5    2         22  Pathfinder Bestiary    7    1    2    1        30.0   \n",
       "1    5    2         21  Pathfinder Bestiary    9   -4    0    1        35.0   \n",
       "2    6    3         20  Pathfinder Bestiary    7   -4    3   -2        30.0   \n",
       "3    5    5         30  Pathfinder Bestiary    7    6    4    6        50.0   \n",
       "4    1    1          6  Pathfinder Bestiary   -5   -1    3    1         0.0   \n",
       "\n",
       "   reflex  ...  spells_nr_lvl_4  spells_nr_lvl_5  spells_nr_lvl_6  \\\n",
       "0      19  ...                0                0                0   \n",
       "1      14  ...                0                0                0   \n",
       "2      17  ...                0                0                0   \n",
       "3      29  ...                1                0                1   \n",
       "4      10  ...                1                0                0   \n",
       "\n",
       "   spells_nr_lvl_7  spells_nr_lvl_8  spells_nr_lvl_9  melee_max_bonus  \\\n",
       "0                0                0                0               23   \n",
       "1                0                0                0               23   \n",
       "2                0                0                0               21   \n",
       "3                0                0                0               33   \n",
       "4                0                0                0                0   \n",
       "\n",
       "   avg_melee_dmg  ranged_max_bonus  avg_ranged_dmg  \n",
       "0           22.0                 0             0.0  \n",
       "1           22.0                 0             0.0  \n",
       "2           16.0                 0             0.0  \n",
       "3           31.5                 0             0.0  \n",
       "4            0.0                 8             5.0  \n",
       "\n",
       "[5 rows x 52 columns]"
      ]
     },
     "execution_count": 3,
     "metadata": {},
     "output_type": "execute_result"
    }
   ],
   "source": [
    "df.head()"
   ]
  },
  {
   "cell_type": "markdown",
   "id": "0caa661f",
   "metadata": {},
   "source": [
    "###### Level"
   ]
  },
  {
   "cell_type": "code",
   "execution_count": 4,
   "id": "c200d2b4",
   "metadata": {},
   "outputs": [
    {
     "data": {
      "text/plain": [
       "0       10\n",
       "1       10\n",
       "2        8\n",
       "3       17\n",
       "4        1\n",
       "        ..\n",
       "1201    20\n",
       "1202    -1\n",
       "1203    12\n",
       "1204     6\n",
       "1205     6\n",
       "Name: level, Length: 1206, dtype: int64"
      ]
     },
     "execution_count": 4,
     "metadata": {},
     "output_type": "execute_result"
    }
   ],
   "source": [
    "y = df[\"level\"]\n",
    "y"
   ]
  },
  {
   "cell_type": "code",
   "execution_count": 5,
   "id": "553822a7",
   "metadata": {},
   "outputs": [],
   "source": [
    "from collections import defaultdict\n",
    "\n",
    "\n",
    "lvl_stat = defaultdict(lambda: 0)\n",
    "\n",
    "for lvl in y:\n",
    "    lvl_stat[lvl] += 1"
   ]
  },
  {
   "cell_type": "code",
   "execution_count": 6,
   "id": "e45d6c29",
   "metadata": {},
   "outputs": [
    {
     "data": {
      "text/html": [
       "<div>\n",
       "<style scoped>\n",
       "    .dataframe tbody tr th:only-of-type {\n",
       "        vertical-align: middle;\n",
       "    }\n",
       "\n",
       "    .dataframe tbody tr th {\n",
       "        vertical-align: top;\n",
       "    }\n",
       "\n",
       "    .dataframe thead th {\n",
       "        text-align: right;\n",
       "    }\n",
       "</style>\n",
       "<table border=\"1\" class=\"dataframe\">\n",
       "  <thead>\n",
       "    <tr style=\"text-align: right;\">\n",
       "      <th></th>\n",
       "      <th>lvl</th>\n",
       "      <th>count</th>\n",
       "    </tr>\n",
       "  </thead>\n",
       "  <tbody>\n",
       "    <tr>\n",
       "      <th>0</th>\n",
       "      <td>-1</td>\n",
       "      <td>34</td>\n",
       "    </tr>\n",
       "    <tr>\n",
       "      <th>1</th>\n",
       "      <td>0</td>\n",
       "      <td>27</td>\n",
       "    </tr>\n",
       "    <tr>\n",
       "      <th>2</th>\n",
       "      <td>1</td>\n",
       "      <td>127</td>\n",
       "    </tr>\n",
       "    <tr>\n",
       "      <th>3</th>\n",
       "      <td>2</td>\n",
       "      <td>121</td>\n",
       "    </tr>\n",
       "    <tr>\n",
       "      <th>4</th>\n",
       "      <td>3</td>\n",
       "      <td>95</td>\n",
       "    </tr>\n",
       "    <tr>\n",
       "      <th>5</th>\n",
       "      <td>4</td>\n",
       "      <td>82</td>\n",
       "    </tr>\n",
       "    <tr>\n",
       "      <th>6</th>\n",
       "      <td>5</td>\n",
       "      <td>76</td>\n",
       "    </tr>\n",
       "    <tr>\n",
       "      <th>7</th>\n",
       "      <td>6</td>\n",
       "      <td>72</td>\n",
       "    </tr>\n",
       "    <tr>\n",
       "      <th>8</th>\n",
       "      <td>7</td>\n",
       "      <td>77</td>\n",
       "    </tr>\n",
       "    <tr>\n",
       "      <th>9</th>\n",
       "      <td>8</td>\n",
       "      <td>68</td>\n",
       "    </tr>\n",
       "    <tr>\n",
       "      <th>10</th>\n",
       "      <td>9</td>\n",
       "      <td>63</td>\n",
       "    </tr>\n",
       "    <tr>\n",
       "      <th>11</th>\n",
       "      <td>10</td>\n",
       "      <td>58</td>\n",
       "    </tr>\n",
       "    <tr>\n",
       "      <th>12</th>\n",
       "      <td>11</td>\n",
       "      <td>40</td>\n",
       "    </tr>\n",
       "    <tr>\n",
       "      <th>13</th>\n",
       "      <td>12</td>\n",
       "      <td>41</td>\n",
       "    </tr>\n",
       "    <tr>\n",
       "      <th>14</th>\n",
       "      <td>13</td>\n",
       "      <td>36</td>\n",
       "    </tr>\n",
       "    <tr>\n",
       "      <th>15</th>\n",
       "      <td>14</td>\n",
       "      <td>33</td>\n",
       "    </tr>\n",
       "    <tr>\n",
       "      <th>16</th>\n",
       "      <td>15</td>\n",
       "      <td>31</td>\n",
       "    </tr>\n",
       "    <tr>\n",
       "      <th>17</th>\n",
       "      <td>16</td>\n",
       "      <td>25</td>\n",
       "    </tr>\n",
       "    <tr>\n",
       "      <th>18</th>\n",
       "      <td>17</td>\n",
       "      <td>21</td>\n",
       "    </tr>\n",
       "    <tr>\n",
       "      <th>19</th>\n",
       "      <td>18</td>\n",
       "      <td>21</td>\n",
       "    </tr>\n",
       "    <tr>\n",
       "      <th>20</th>\n",
       "      <td>19</td>\n",
       "      <td>18</td>\n",
       "    </tr>\n",
       "    <tr>\n",
       "      <th>21</th>\n",
       "      <td>20</td>\n",
       "      <td>24</td>\n",
       "    </tr>\n",
       "    <tr>\n",
       "      <th>22</th>\n",
       "      <td>21</td>\n",
       "      <td>16</td>\n",
       "    </tr>\n",
       "  </tbody>\n",
       "</table>\n",
       "</div>"
      ],
      "text/plain": [
       "    lvl  count\n",
       "0    -1     34\n",
       "1     0     27\n",
       "2     1    127\n",
       "3     2    121\n",
       "4     3     95\n",
       "5     4     82\n",
       "6     5     76\n",
       "7     6     72\n",
       "8     7     77\n",
       "9     8     68\n",
       "10    9     63\n",
       "11   10     58\n",
       "12   11     40\n",
       "13   12     41\n",
       "14   13     36\n",
       "15   14     33\n",
       "16   15     31\n",
       "17   16     25\n",
       "18   17     21\n",
       "19   18     21\n",
       "20   19     18\n",
       "21   20     24\n",
       "22   21     16"
      ]
     },
     "execution_count": 6,
     "metadata": {},
     "output_type": "execute_result"
    }
   ],
   "source": [
    "level_count = pd.DataFrame(\n",
    "    data={\n",
    "        \"lvl\": [key for key in sorted(lvl_stat.keys())],\n",
    "        \"count\": [lvl_stat.get(key) for key in sorted(lvl_stat.keys())],\n",
    "    }\n",
    ")\n",
    "level_count"
   ]
  },
  {
   "cell_type": "code",
   "execution_count": 7,
   "id": "bdbfe8de",
   "metadata": {},
   "outputs": [
    {
     "data": {
      "image/png": "[encoded data removed]",
      "text/plain": [
       "<Figure size 432x288 with 1 Axes>"
      ]
     },
     "metadata": {
      "needs_background": "light"
     },
     "output_type": "display_data"
    }
   ],
   "source": [
    "import matplotlib.pyplot as plt\n",
    "\n",
    "\n",
    "level_count.plot.bar(x=\"lvl\", y=\"count\", title=\"Count of levels\")\n",
    "plt.show()"
   ]
  },
  {
   "cell_type": "markdown",
   "id": "9fdb6541",
   "metadata": {},
   "source": [
    "## Train test split"
   ]
  },
  {
   "cell_type": "markdown",
   "id": "18f56629",
   "metadata": {},
   "source": [
    "### Chronological split"
   ]
  },
  {
   "cell_type": "code",
   "execution_count": 8,
   "id": "dcda359b",
   "metadata": {},
   "outputs": [],
   "source": [
    "from training.splitting_dataset import split_dataframe\n",
    "\n",
    "\n",
    "os.chdir(\"../../../training\")\n",
    "X_train, X_test, y_train, y_test = split_dataframe(df, test_size=0.31)\n",
    "os.chdir(\"../notebooks/models/lightgbm\")"
   ]
  },
  {
   "cell_type": "code",
   "execution_count": 9,
   "id": "17dbc875",
   "metadata": {},
   "outputs": [],
   "source": [
    "X_train = X_train.drop(columns=[\"book\"])\n",
    "X_test = X_test.drop(columns=[\"book\"])"
   ]
  },
  {
   "cell_type": "markdown",
   "id": "25879636",
   "metadata": {},
   "source": [
    "### Random split"
   ]
  },
  {
   "cell_type": "code",
   "execution_count": 10,
   "id": "982ec5eb",
   "metadata": {},
   "outputs": [],
   "source": [
    "(\n",
    "    X_train_random_split,\n",
    "    X_test_random_split,\n",
    "    y_train_random_split,\n",
    "    y_test_random_split,\n",
    ") = split_dataframe(df, chronological_split=False)"
   ]
  },
  {
   "cell_type": "code",
   "execution_count": 11,
   "id": "90569e78",
   "metadata": {},
   "outputs": [],
   "source": [
    "X_train_random_split = X_train_random_split.drop(columns=[\"book\"])\n",
    "X_test_random_split = X_test_random_split.drop(columns=[\"book\"])"
   ]
  },
  {
   "cell_type": "markdown",
   "id": "9b259fbf",
   "metadata": {},
   "source": [
    "## LightGBM"
   ]
  },
  {
   "cell_type": "markdown",
   "id": "14f37d9b",
   "metadata": {},
   "source": [
    "## Chronological split"
   ]
  },
  {
   "cell_type": "code",
   "execution_count": 12,
   "id": "2bc4c90e",
   "metadata": {},
   "outputs": [
    {
     "name": "stdout",
     "output_type": "stream",
     "text": [
      "[LightGBM] [Warning] Auto-choosing col-wise multi-threading, the overhead of testing was 0.001519 seconds.\n",
      "You can set `force_col_wise=true` to remove the overhead.\n",
      "[LightGBM] [Info] Total Bins 756\n",
      "[LightGBM] [Info] Number of data points in the train set: 841, number of used features: 45\n",
      "[LightGBM] [Info] Start training from score 6.966706\n",
      "Training until validation scores don't improve for 5 rounds\n",
      "[LightGBM] [Warning] No further splits with positive gain, best gain: -inf\n",
      "Did not meet early stopping. Best iteration is:\n",
      "[99]\tvalid_0's l2: 0.927292\tvalid_0's l1: 0.460853\n"
     ]
    }
   ],
   "source": [
    "import lightgbm as lgb\n",
    "\n",
    "lgb_train = lgb.Dataset(X_train, y_train)\n",
    "lgb_eval = lgb.Dataset(X_test, y_test, reference=lgb_train)\n",
    "\n",
    "params = {\n",
    "    \"boosting_type\": \"gbdt\",\n",
    "    \"objective\": \"regression\",\n",
    "    \"metric\": {\"l2\", \"l1\"},\n",
    "}\n",
    "\n",
    "gbm = lgb.train(\n",
    "    params,\n",
    "    lgb_train,\n",
    "    num_boost_round=100,\n",
    "    valid_sets=lgb_eval,\n",
    "    callbacks=[lgb.early_stopping(stopping_rounds=5)],\n",
    ")"
   ]
  },
  {
   "cell_type": "code",
   "execution_count": 13,
   "id": "f1ae2eaa",
   "metadata": {},
   "outputs": [],
   "source": [
    "y_pred_train = gbm.predict(X_train, num_iteration=gbm.best_iteration)\n",
    "y_pred_test = gbm.predict(X_test, num_iteration=gbm.best_iteration)"
   ]
  },
  {
   "cell_type": "code",
   "execution_count": 14,
   "id": "ef9d09eb",
   "metadata": {},
   "outputs": [
    {
     "name": "stdout",
     "output_type": "stream",
     "text": [
      "MSE: 0.93\n",
      "RMSE: 0.96\n",
      "MAE: 0.46\n"
     ]
    }
   ],
   "source": [
    "from sklearn.metrics import mean_squared_error, mean_absolute_error\n",
    "\n",
    "\n",
    "mse = mean_squared_error(y_test, y_pred_test)\n",
    "rmse = mean_squared_error(y_test, y_pred_test, squared=False)\n",
    "mae = mean_absolute_error(y_test, y_pred_test)\n",
    "\n",
    "print(f\"MSE: {mse:.2f}\")\n",
    "print(f\"RMSE: {rmse:.2f}\")\n",
    "print(f\"MAE: {mae:.2f}\")"
   ]
  },
  {
   "cell_type": "code",
   "execution_count": 15,
   "id": "6e288d53",
   "metadata": {},
   "outputs": [],
   "source": [
    "results = pd.DataFrame(\n",
    "    data={\n",
    "        \"Split type\": [],\n",
    "        \"Tuning type\": [],\n",
    "        \"Number of characteristics\": [],\n",
    "        \"MSE\": [],\n",
    "        \"RMSE\": [],\n",
    "        \"MAE\": [],\n",
    "    }\n",
    ")\n",
    "\n",
    "results.loc[0] = [\"chronological\", \"normal\", len(X_test.columns), mse, rmse, mae]"
   ]
  },
  {
   "cell_type": "code",
   "execution_count": 16,
   "id": "78bb7ffa",
   "metadata": {},
   "outputs": [
    {
     "name": "stdout",
     "output_type": "stream",
     "text": [
      "RMSE train: 0.12\n",
      "RMSE test: 0.96\n"
     ]
    }
   ],
   "source": [
    "rmse_train = mean_squared_error(y_train, y_pred_train, squared=False)\n",
    "rmse_test = mean_squared_error(y_test, y_pred_test, squared=False)\n",
    "print(f\"RMSE train: {rmse_train:.2f}\")\n",
    "print(f\"RMSE test: {rmse_test:.2f}\")"
   ]
  },
  {
   "cell_type": "markdown",
   "id": "1822ab4b",
   "metadata": {},
   "source": [
    "###### MAE by level"
   ]
  },
  {
   "cell_type": "code",
   "execution_count": 17,
   "id": "89d4733e",
   "metadata": {},
   "outputs": [],
   "source": [
    "from training.results import plot_mae_by_level"
   ]
  },
  {
   "cell_type": "code",
   "execution_count": 18,
   "id": "062bc79b",
   "metadata": {},
   "outputs": [
    {
     "data": {
      "image/png": "[encoded data removed]",
      "text/plain": [
       "<Figure size 720x432 with 1 Axes>"
      ]
     },
     "metadata": {
      "needs_background": "light"
     },
     "output_type": "display_data"
    }
   ],
   "source": [
    "plot_mae_by_level(y_test, y_pred_test)"
   ]
  },
  {
   "cell_type": "code",
   "execution_count": 19,
   "id": "ec8cab49",
   "metadata": {
    "scrolled": true
   },
   "outputs": [
    {
     "name": "stdout",
     "output_type": "stream",
     "text": [
      "Normal:\n",
      "MSE: 0.93\n",
      "RMSE: 0.96\n",
      "\n",
      "Round type: round\n",
      "MSE: 0.96\n",
      "RMSE: 0.98\n",
      "\n",
      "Round type: 0.33\n",
      "MSE: 0.91\n",
      "RMSE: 0.95\n",
      "\n",
      "Round type: 0.45\n",
      "MSE: 0.93\n",
      "RMSE: 0.96\n",
      "\n"
     ]
    }
   ],
   "source": [
    "from training.results import check_round_predictions, plot_confusion_matrix\n",
    "\n",
    "\n",
    "check_round_predictions([\"round\", 0.33, 0.45], y_test, y_pred_test)"
   ]
  },
  {
   "cell_type": "code",
   "execution_count": 20,
   "id": "9129a0ae",
   "metadata": {},
   "outputs": [
    {
     "data": {
      "image/png": "[encoded data removed]",
      "text/plain": [
       "<Figure size 432x288 with 2 Axes>"
      ]
     },
     "metadata": {
      "needs_background": "light"
     },
     "output_type": "display_data"
    }
   ],
   "source": [
    "plot_confusion_matrix(\"round\", y_pred_test, y_test)"
   ]
  },
  {
   "cell_type": "markdown",
   "id": "0e591f6c",
   "metadata": {},
   "source": [
    "#### Tuning"
   ]
  },
  {
   "cell_type": "code",
   "execution_count": 21,
   "id": "2f781cab",
   "metadata": {},
   "outputs": [],
   "source": [
    "from training.results import assess_regression_model"
   ]
  },
  {
   "cell_type": "code",
   "execution_count": 22,
   "id": "d8734e01",
   "metadata": {},
   "outputs": [
    {
     "name": "stderr",
     "output_type": "stream",
     "text": [
      "[I 2023-11-03 20:12:23,859] A new study created in memory with name: no-name-22f33497-960a-4818-bc03-cb6bccdd07a1\n",
      "feature_fraction, val_score: inf:   0%|                                                          | 0/7 [00:00<?, ?it/s]"
     ]
    },
    {
     "name": "stdout",
     "output_type": "stream",
     "text": [
      "Training until validation scores don't improve for 100 rounds\n",
      "[100]\tcv_agg's l2: 0.145867 + 0.0367984\n",
      "[200]\tcv_agg's l2: 0.142435 + 0.0335063\n",
      "[300]\tcv_agg's l2: 0.142277 + 0.0322317\n"
     ]
    },
    {
     "name": "stderr",
     "output_type": "stream",
     "text": [
      "\r",
      "feature_fraction, val_score: 0.141949:   0%|                                                     | 0/7 [00:03<?, ?it/s]"
     ]
    },
    {
     "name": "stdout",
     "output_type": "stream",
     "text": [
      "[400]\tcv_agg's l2: 0.142029 + 0.0323715\n",
      "Early stopping, best iteration is:\n",
      "[326]\tcv_agg's l2: 0.141949 + 0.0321828\n"
     ]
    },
    {
     "name": "stderr",
     "output_type": "stream",
     "text": [
      "feature_fraction, val_score: 0.141949:  14%|######4                                      | 1/7 [00:03<00:18,  3.06s/it][I 2023-11-03 20:12:26,929] Trial 0 finished with value: 0.14194905377924122 and parameters: {'feature_fraction': 0.6}. Best is trial 0 with value: 0.14194905377924122.\n",
      "feature_fraction, val_score: 0.141949:  14%|######4                                      | 1/7 [00:03<00:18,  3.06s/it]"
     ]
    },
    {
     "name": "stdout",
     "output_type": "stream",
     "text": [
      "[100]\tcv_agg's l2: 0.153477 + 0.0340435\n",
      "[200]\tcv_agg's l2: 0.150369 + 0.0338086\n",
      "[300]\tcv_agg's l2: 0.150324 + 0.0337079\n",
      "[400]\tcv_agg's l2: 0.150481 + 0.0337475\n"
     ]
    },
    {
     "name": "stderr",
     "output_type": "stream",
     "text": [
      "feature_fraction, val_score: 0.141949:  29%|############8                                | 2/7 [00:07<00:18,  3.71s/it][I 2023-11-03 20:12:31,094] Trial 1 finished with value: 0.15027639435222503 and parameters: {'feature_fraction': 1.0}. Best is trial 0 with value: 0.14194905377924122.\n",
      "feature_fraction, val_score: 0.141949:  29%|############8                                | 2/7 [00:07<00:18,  3.71s/it]"
     ]
    },
    {
     "name": "stdout",
     "output_type": "stream",
     "text": [
      "Early stopping, best iteration is:\n",
      "[326]\tcv_agg's l2: 0.141949 + 0.0321828\n",
      "[100]\tcv_agg's l2: 0.148047 + 0.0331359\n",
      "[200]\tcv_agg's l2: 0.145093 + 0.0325521\n",
      "[300]\tcv_agg's l2: 0.144854 + 0.0326871\n",
      "[400]\tcv_agg's l2: 0.144313 + 0.0325655\n"
     ]
    },
    {
     "name": "stderr",
     "output_type": "stream",
     "text": [
      "feature_fraction, val_score: 0.141949:  43%|###################2                         | 3/7 [00:12<00:16,  4.23s/it][I 2023-11-03 20:12:35,940] Trial 2 finished with value: 0.1446238832812143 and parameters: {'feature_fraction': 0.8}. Best is trial 0 with value: 0.14194905377924122.\n",
      "feature_fraction, val_score: 0.141949:  43%|###################2                         | 3/7 [00:12<00:16,  4.23s/it]"
     ]
    },
    {
     "name": "stdout",
     "output_type": "stream",
     "text": [
      "Early stopping, best iteration is:\n",
      "[326]\tcv_agg's l2: 0.141949 + 0.0321828\n",
      "[100]\tcv_agg's l2: 0.147055 + 0.042925\n",
      "[200]\tcv_agg's l2: 0.143156 + 0.0396987\n",
      "[300]\tcv_agg's l2: 0.141538 + 0.0384299\n",
      "[400]\tcv_agg's l2: 0.141634 + 0.0385567\n"
     ]
    },
    {
     "name": "stderr",
     "output_type": "stream",
     "text": [
      "feature_fraction, val_score: 0.141416:  57%|#########################7                   | 4/7 [00:17<00:14,  4.88s/it][I 2023-11-03 20:12:41,821] Trial 3 finished with value: 0.14141588515650627 and parameters: {'feature_fraction': 0.5}. Best is trial 3 with value: 0.14141588515650627.\n",
      "feature_fraction, val_score: 0.141416:  57%|#########################7                   | 4/7 [00:17<00:14,  4.88s/it]"
     ]
    },
    {
     "name": "stdout",
     "output_type": "stream",
     "text": [
      "Early stopping, best iteration is:\n",
      "[371]\tcv_agg's l2: 0.141416 + 0.0384599\n",
      "[100]\tcv_agg's l2: 0.145991 + 0.0336441\n",
      "[200]\tcv_agg's l2: 0.142971 + 0.0334422\n",
      "[300]\tcv_agg's l2: 0.142787 + 0.0333699\n",
      "[400]\tcv_agg's l2: 0.142624 + 0.0336367\n"
     ]
    },
    {
     "name": "stderr",
     "output_type": "stream",
     "text": [
      "feature_fraction, val_score: 0.141416:  71%|################################1            | 5/7 [00:24<00:11,  5.65s/it][I 2023-11-03 20:12:48,832] Trial 4 finished with value: 0.1426499863377465 and parameters: {'feature_fraction': 0.8999999999999999}. Best is trial 3 with value: 0.14141588515650627.\n",
      "feature_fraction, val_score: 0.141416:  71%|################################1            | 5/7 [00:24<00:11,  5.65s/it]"
     ]
    },
    {
     "name": "stdout",
     "output_type": "stream",
     "text": [
      "Early stopping, best iteration is:\n",
      "[371]\tcv_agg's l2: 0.141416 + 0.0384599\n",
      "[100]\tcv_agg's l2: 0.150115 + 0.0377139\n",
      "[200]\tcv_agg's l2: 0.146765 + 0.0350294\n",
      "[300]\tcv_agg's l2: 0.146379 + 0.0352867\n",
      "[400]\tcv_agg's l2: 0.145778 + 0.0349132\n"
     ]
    },
    {
     "name": "stderr",
     "output_type": "stream",
     "text": [
      "feature_fraction, val_score: 0.141416:  86%|######################################5      | 6/7 [00:30<00:05,  5.75s/it][I 2023-11-03 20:12:54,764] Trial 5 finished with value: 0.14595267158843542 and parameters: {'feature_fraction': 0.7}. Best is trial 3 with value: 0.14141588515650627.\n",
      "feature_fraction, val_score: 0.141416:  86%|######################################5      | 6/7 [00:30<00:05,  5.75s/it]"
     ]
    },
    {
     "name": "stdout",
     "output_type": "stream",
     "text": [
      "Early stopping, best iteration is:\n",
      "[371]\tcv_agg's l2: 0.141416 + 0.0384599\n",
      "[100]\tcv_agg's l2: 0.144025 + 0.0288164\n",
      "[200]\tcv_agg's l2: 0.141649 + 0.0280589\n",
      "[300]\tcv_agg's l2: 0.14031 + 0.0267642\n",
      "[400]\tcv_agg's l2: 0.140381 + 0.0262626\n"
     ]
    },
    {
     "name": "stderr",
     "output_type": "stream",
     "text": [
      "feature_fraction, val_score: 0.140015: 100%|#############################################| 7/7 [00:37<00:00,  5.95s/it][I 2023-11-03 20:13:01,143] Trial 6 finished with value: 0.14001507202326588 and parameters: {'feature_fraction': 0.4}. Best is trial 6 with value: 0.14001507202326588.\n",
      "feature_fraction, val_score: 0.140015: 100%|#############################################| 7/7 [00:37<00:00,  5.33s/it]\n"
     ]
    },
    {
     "name": "stdout",
     "output_type": "stream",
     "text": [
      "Early stopping, best iteration is:\n",
      "[363]\tcv_agg's l2: 0.140015 + 0.0264199\n"
     ]
    },
    {
     "name": "stderr",
     "output_type": "stream",
     "text": [
      "num_leaves, val_score: 0.140015:   0%|                                                          | 0/20 [00:00<?, ?it/s]"
     ]
    },
    {
     "name": "stdout",
     "output_type": "stream",
     "text": [
      "[100]\tcv_agg's l2: 0.144025 + 0.0288164\n",
      "[200]\tcv_agg's l2: 0.141649 + 0.0280589\n",
      "[300]\tcv_agg's l2: 0.14031 + 0.0267642\n",
      "[400]\tcv_agg's l2: 0.140381 + 0.0262626\n"
     ]
    },
    {
     "name": "stderr",
     "output_type": "stream",
     "text": [
      "num_leaves, val_score: 0.140015:   5%|##5                                               | 1/20 [00:06<01:58,  6.24s/it][I 2023-11-03 20:13:07,389] Trial 7 finished with value: 0.14001507202326588 and parameters: {'num_leaves': 216}. Best is trial 7 with value: 0.14001507202326588.\n",
      "num_leaves, val_score: 0.140015:   5%|##5                                               | 1/20 [00:06<01:58,  6.24s/it]"
     ]
    },
    {
     "name": "stdout",
     "output_type": "stream",
     "text": [
      "Early stopping, best iteration is:\n",
      "[363]\tcv_agg's l2: 0.140015 + 0.0264199\n",
      "[100]\tcv_agg's l2: 0.144025 + 0.0288164\n",
      "[200]\tcv_agg's l2: 0.141649 + 0.0280589\n",
      "[300]\tcv_agg's l2: 0.14031 + 0.0267642\n",
      "[400]\tcv_agg's l2: 0.140381 + 0.0262626\n"
     ]
    },
    {
     "name": "stderr",
     "output_type": "stream",
     "text": [
      "num_leaves, val_score: 0.140015:  10%|#####                                             | 2/20 [00:12<01:54,  6.35s/it][I 2023-11-03 20:13:13,812] Trial 8 finished with value: 0.14001507202326588 and parameters: {'num_leaves': 116}. Best is trial 7 with value: 0.14001507202326588.\n",
      "num_leaves, val_score: 0.140015:  10%|#####                                             | 2/20 [00:12<01:54,  6.35s/it]"
     ]
    },
    {
     "name": "stdout",
     "output_type": "stream",
     "text": [
      "Early stopping, best iteration is:\n",
      "[363]\tcv_agg's l2: 0.140015 + 0.0264199\n",
      "[100]\tcv_agg's l2: 0.144025 + 0.0288164\n",
      "[200]\tcv_agg's l2: 0.141649 + 0.0280589\n",
      "[300]\tcv_agg's l2: 0.14031 + 0.0267642\n",
      "[400]\tcv_agg's l2: 0.140381 + 0.0262626\n"
     ]
    },
    {
     "name": "stderr",
     "output_type": "stream",
     "text": [
      "num_leaves, val_score: 0.140015:  15%|#######5                                          | 3/20 [00:18<01:46,  6.26s/it][I 2023-11-03 20:13:19,970] Trial 9 finished with value: 0.14001507202326588 and parameters: {'num_leaves': 243}. Best is trial 7 with value: 0.14001507202326588.\n",
      "num_leaves, val_score: 0.140015:  15%|#######5                                          | 3/20 [00:18<01:46,  6.26s/it]"
     ]
    },
    {
     "name": "stdout",
     "output_type": "stream",
     "text": [
      "Early stopping, best iteration is:\n",
      "[363]\tcv_agg's l2: 0.140015 + 0.0264199\n",
      "[100]\tcv_agg's l2: 0.144025 + 0.0288164\n",
      "[200]\tcv_agg's l2: 0.141649 + 0.0280589\n",
      "[300]\tcv_agg's l2: 0.14031 + 0.0267642\n",
      "[400]\tcv_agg's l2: 0.140381 + 0.0262626\n"
     ]
    },
    {
     "name": "stderr",
     "output_type": "stream",
     "text": [
      "num_leaves, val_score: 0.140015:  20%|##########                                        | 4/20 [00:26<01:50,  6.89s/it][I 2023-11-03 20:13:27,826] Trial 10 finished with value: 0.14001507202326588 and parameters: {'num_leaves': 41}. Best is trial 7 with value: 0.14001507202326588.\n",
      "num_leaves, val_score: 0.140015:  20%|##########                                        | 4/20 [00:26<01:50,  6.89s/it]"
     ]
    },
    {
     "name": "stdout",
     "output_type": "stream",
     "text": [
      "Early stopping, best iteration is:\n",
      "[363]\tcv_agg's l2: 0.140015 + 0.0264199\n",
      "[100]\tcv_agg's l2: 0.144025 + 0.0288164\n",
      "[200]\tcv_agg's l2: 0.141649 + 0.0280589\n",
      "[300]\tcv_agg's l2: 0.14031 + 0.0267642\n",
      "[400]\tcv_agg's l2: 0.140381 + 0.0262626\n"
     ]
    },
    {
     "name": "stderr",
     "output_type": "stream",
     "text": [
      "num_leaves, val_score: 0.140015:  25%|############5                                     | 5/20 [00:33<01:41,  6.74s/it][I 2023-11-03 20:13:34,312] Trial 11 finished with value: 0.14001507202326588 and parameters: {'num_leaves': 256}. Best is trial 7 with value: 0.14001507202326588.\n",
      "num_leaves, val_score: 0.140015:  25%|############5                                     | 5/20 [00:33<01:41,  6.74s/it]"
     ]
    },
    {
     "name": "stdout",
     "output_type": "stream",
     "text": [
      "Early stopping, best iteration is:\n",
      "[363]\tcv_agg's l2: 0.140015 + 0.0264199\n",
      "[100]\tcv_agg's l2: 0.144025 + 0.0288164\n",
      "[200]\tcv_agg's l2: 0.141649 + 0.0280589\n",
      "[300]\tcv_agg's l2: 0.14031 + 0.0267642\n",
      "[400]\tcv_agg's l2: 0.140381 + 0.0262626\n"
     ]
    },
    {
     "name": "stderr",
     "output_type": "stream",
     "text": [
      "num_leaves, val_score: 0.140015:  30%|###############                                   | 6/20 [00:39<01:31,  6.53s/it][I 2023-11-03 20:13:40,416] Trial 12 finished with value: 0.14001507202326588 and parameters: {'num_leaves': 175}. Best is trial 7 with value: 0.14001507202326588.\n",
      "num_leaves, val_score: 0.140015:  30%|###############                                   | 6/20 [00:39<01:31,  6.53s/it]"
     ]
    },
    {
     "name": "stdout",
     "output_type": "stream",
     "text": [
      "Early stopping, best iteration is:\n",
      "[363]\tcv_agg's l2: 0.140015 + 0.0264199\n",
      "[100]\tcv_agg's l2: 0.144025 + 0.0288164\n",
      "[200]\tcv_agg's l2: 0.141649 + 0.0280589\n",
      "[300]\tcv_agg's l2: 0.14031 + 0.0267642\n",
      "[400]\tcv_agg's l2: 0.140381 + 0.0262626\n"
     ]
    },
    {
     "name": "stderr",
     "output_type": "stream",
     "text": [
      "num_leaves, val_score: 0.140015:  35%|#################5                                | 7/20 [00:46<01:27,  6.76s/it][I 2023-11-03 20:13:47,651] Trial 13 finished with value: 0.14001507202326588 and parameters: {'num_leaves': 169}. Best is trial 7 with value: 0.14001507202326588.\n",
      "num_leaves, val_score: 0.140015:  35%|#################5                                | 7/20 [00:46<01:27,  6.76s/it]"
     ]
    },
    {
     "name": "stdout",
     "output_type": "stream",
     "text": [
      "Early stopping, best iteration is:\n",
      "[363]\tcv_agg's l2: 0.140015 + 0.0264199\n",
      "[100]\tcv_agg's l2: 0.144025 + 0.0288164\n",
      "[200]\tcv_agg's l2: 0.141649 + 0.0280589\n",
      "[300]\tcv_agg's l2: 0.14031 + 0.0267642\n",
      "[400]\tcv_agg's l2: 0.140381 + 0.0262626\n"
     ]
    },
    {
     "name": "stderr",
     "output_type": "stream",
     "text": [
      "num_leaves, val_score: 0.140015:  40%|####################                              | 8/20 [00:53<01:20,  6.71s/it][I 2023-11-03 20:13:54,261] Trial 14 finished with value: 0.14001507202326588 and parameters: {'num_leaves': 190}. Best is trial 7 with value: 0.14001507202326588.\n",
      "num_leaves, val_score: 0.140015:  40%|####################                              | 8/20 [00:53<01:20,  6.71s/it]"
     ]
    },
    {
     "name": "stdout",
     "output_type": "stream",
     "text": [
      "Early stopping, best iteration is:\n",
      "[363]\tcv_agg's l2: 0.140015 + 0.0264199\n",
      "[100]\tcv_agg's l2: 0.144025 + 0.0288164\n",
      "[200]\tcv_agg's l2: 0.141649 + 0.0280589\n",
      "[300]\tcv_agg's l2: 0.14031 + 0.0267642\n",
      "[400]\tcv_agg's l2: 0.140381 + 0.0262626\n"
     ]
    },
    {
     "name": "stderr",
     "output_type": "stream",
     "text": [
      "num_leaves, val_score: 0.140015:  45%|######################5                           | 9/20 [00:58<01:10,  6.40s/it][I 2023-11-03 20:13:59,990] Trial 15 finished with value: 0.14001507202326588 and parameters: {'num_leaves': 69}. Best is trial 7 with value: 0.14001507202326588.\n",
      "num_leaves, val_score: 0.140015:  45%|######################5                           | 9/20 [00:58<01:10,  6.40s/it]"
     ]
    },
    {
     "name": "stdout",
     "output_type": "stream",
     "text": [
      "Early stopping, best iteration is:\n",
      "[363]\tcv_agg's l2: 0.140015 + 0.0264199\n",
      "[100]\tcv_agg's l2: 0.144025 + 0.0288164\n",
      "[200]\tcv_agg's l2: 0.141649 + 0.0280589\n",
      "[300]\tcv_agg's l2: 0.14031 + 0.0267642\n",
      "[400]\tcv_agg's l2: 0.140381 + 0.0262626\n"
     ]
    },
    {
     "name": "stderr",
     "output_type": "stream",
     "text": [
      "num_leaves, val_score: 0.140015:  50%|########################5                        | 10/20 [01:05<01:05,  6.55s/it][I 2023-11-03 20:14:06,882] Trial 16 finished with value: 0.14001507202326588 and parameters: {'num_leaves': 101}. Best is trial 7 with value: 0.14001507202326588.\n",
      "num_leaves, val_score: 0.140015:  50%|########################5                        | 10/20 [01:05<01:05,  6.55s/it]"
     ]
    },
    {
     "name": "stdout",
     "output_type": "stream",
     "text": [
      "Early stopping, best iteration is:\n",
      "[363]\tcv_agg's l2: 0.140015 + 0.0264199\n",
      "[100]\tcv_agg's l2: 0.154137 + 0.0393863\n",
      "[200]\tcv_agg's l2: 0.14364 + 0.0367793\n",
      "[300]\tcv_agg's l2: 0.139298 + 0.0352731\n",
      "[400]\tcv_agg's l2: 0.137705 + 0.0349869\n",
      "[500]\tcv_agg's l2: 0.137004 + 0.0348346\n",
      "[600]\tcv_agg's l2: 0.136455 + 0.0344713\n"
     ]
    },
    {
     "name": "stderr",
     "output_type": "stream",
     "text": [
      "num_leaves, val_score: 0.136425:  55%|##########################9                      | 11/20 [01:10<00:53,  5.95s/it][I 2023-11-03 20:14:11,456] Trial 17 finished with value: 0.13642529181742966 and parameters: {'num_leaves': 10}. Best is trial 17 with value: 0.13642529181742966.\n",
      "num_leaves, val_score: 0.136425:  55%|##########################9                      | 11/20 [01:10<00:53,  5.95s/it]"
     ]
    },
    {
     "name": "stdout",
     "output_type": "stream",
     "text": [
      "Early stopping, best iteration is:\n",
      "[592]\tcv_agg's l2: 0.136425 + 0.0344298\n",
      "[100]\tcv_agg's l2: 0.323247 + 0.0683779\n",
      "[200]\tcv_agg's l2: 0.288811 + 0.0630817\n",
      "[300]\tcv_agg's l2: 0.27844 + 0.0596602\n",
      "[400]\tcv_agg's l2: 0.270947 + 0.0586625\n",
      "[500]\tcv_agg's l2: 0.265428 + 0.0574742\n",
      "[600]\tcv_agg's l2: 0.260686 + 0.0565867\n"
     ]
    },
    {
     "name": "stderr",
     "output_type": "stream",
     "text": [
      "num_leaves, val_score: 0.136425:  60%|#############################4                   | 12/20 [01:12<00:37,  4.68s/it][I 2023-11-03 20:14:13,220] Trial 18 finished with value: 0.26117670912918983 and parameters: {'num_leaves': 2}. Best is trial 17 with value: 0.13642529181742966.\n",
      "num_leaves, val_score: 0.136425:  60%|#############################4                   | 12/20 [01:12<00:37,  4.68s/it]"
     ]
    },
    {
     "name": "stdout",
     "output_type": "stream",
     "text": [
      "Early stopping, best iteration is:\n",
      "[592]\tcv_agg's l2: 0.136425 + 0.0344298\n",
      "[100]\tcv_agg's l2: 0.172382 + 0.0344846\n",
      "[200]\tcv_agg's l2: 0.158806 + 0.0319872\n",
      "[300]\tcv_agg's l2: 0.154311 + 0.0315473\n",
      "[400]\tcv_agg's l2: 0.152033 + 0.0311845\n",
      "[500]\tcv_agg's l2: 0.151081 + 0.0309122\n",
      "[600]\tcv_agg's l2: 0.148979 + 0.0304926\n"
     ]
    },
    {
     "name": "stderr",
     "output_type": "stream",
     "text": [
      "num_leaves, val_score: 0.136425:  65%|###############################8                 | 13/20 [01:15<00:30,  4.41s/it][I 2023-11-03 20:14:17,007] Trial 19 finished with value: 0.1490028822196133 and parameters: {'num_leaves': 7}. Best is trial 17 with value: 0.13642529181742966.\n",
      "num_leaves, val_score: 0.136425:  65%|###############################8                 | 13/20 [01:15<00:30,  4.41s/it]"
     ]
    },
    {
     "name": "stdout",
     "output_type": "stream",
     "text": [
      "Early stopping, best iteration is:\n",
      "[592]\tcv_agg's l2: 0.136425 + 0.0344298\n",
      "[100]\tcv_agg's l2: 0.144025 + 0.0288164\n",
      "[200]\tcv_agg's l2: 0.141649 + 0.0280589\n",
      "[300]\tcv_agg's l2: 0.14031 + 0.0267642\n",
      "[400]\tcv_agg's l2: 0.140381 + 0.0262626\n",
      "[500]\tcv_agg's l2: 0.140722 + 0.0263476\n",
      "[600]\tcv_agg's l2: 0.140831 + 0.0262944\n"
     ]
    },
    {
     "name": "stderr",
     "output_type": "stream",
     "text": [
      "num_leaves, val_score: 0.136425:  70%|##################################3              | 14/20 [01:24<00:35,  5.84s/it][I 2023-11-03 20:14:26,145] Trial 20 finished with value: 0.14084537983579098 and parameters: {'num_leaves': 63}. Best is trial 17 with value: 0.13642529181742966.\n",
      "num_leaves, val_score: 0.136425:  70%|##################################3              | 14/20 [01:24<00:35,  5.84s/it]"
     ]
    },
    {
     "name": "stdout",
     "output_type": "stream",
     "text": [
      "Early stopping, best iteration is:\n",
      "[592]\tcv_agg's l2: 0.136425 + 0.0344298\n",
      "[100]\tcv_agg's l2: 0.144025 + 0.0288164\n",
      "[200]\tcv_agg's l2: 0.141649 + 0.0280589\n",
      "[300]\tcv_agg's l2: 0.14031 + 0.0267642\n",
      "[400]\tcv_agg's l2: 0.140381 + 0.0262626\n",
      "[500]\tcv_agg's l2: 0.140722 + 0.0263476\n",
      "[600]\tcv_agg's l2: 0.140831 + 0.0262944\n"
     ]
    },
    {
     "name": "stderr",
     "output_type": "stream",
     "text": [
      "num_leaves, val_score: 0.136425:  75%|####################################7            | 15/20 [01:34<00:34,  6.93s/it][I 2023-11-03 20:14:35,622] Trial 21 finished with value: 0.14084537983579098 and parameters: {'num_leaves': 207}. Best is trial 17 with value: 0.13642529181742966.\n",
      "num_leaves, val_score: 0.136425:  75%|####################################7            | 15/20 [01:34<00:34,  6.93s/it]"
     ]
    },
    {
     "name": "stdout",
     "output_type": "stream",
     "text": [
      "Early stopping, best iteration is:\n",
      "[592]\tcv_agg's l2: 0.136425 + 0.0344298\n",
      "[100]\tcv_agg's l2: 0.144025 + 0.0288164\n",
      "[200]\tcv_agg's l2: 0.141649 + 0.0280589\n",
      "[300]\tcv_agg's l2: 0.14031 + 0.0267642\n",
      "[400]\tcv_agg's l2: 0.140381 + 0.0262626\n",
      "[500]\tcv_agg's l2: 0.140722 + 0.0263476\n",
      "[600]\tcv_agg's l2: 0.140831 + 0.0262944\n"
     ]
    },
    {
     "name": "stderr",
     "output_type": "stream",
     "text": [
      "num_leaves, val_score: 0.136425:  80%|#######################################2         | 16/20 [01:43<00:30,  7.58s/it][I 2023-11-03 20:14:44,709] Trial 22 finished with value: 0.14084537983579098 and parameters: {'num_leaves': 125}. Best is trial 17 with value: 0.13642529181742966.\n",
      "num_leaves, val_score: 0.136425:  80%|#######################################2         | 16/20 [01:43<00:30,  7.58s/it]"
     ]
    },
    {
     "name": "stdout",
     "output_type": "stream",
     "text": [
      "Early stopping, best iteration is:\n",
      "[592]\tcv_agg's l2: 0.136425 + 0.0344298\n",
      "[100]\tcv_agg's l2: 0.144025 + 0.0288164\n",
      "[200]\tcv_agg's l2: 0.141649 + 0.0280589\n",
      "[300]\tcv_agg's l2: 0.14031 + 0.0267642\n",
      "[400]\tcv_agg's l2: 0.140381 + 0.0262626\n",
      "[500]\tcv_agg's l2: 0.140722 + 0.0263476\n",
      "[600]\tcv_agg's l2: 0.140831 + 0.0262944\n"
     ]
    },
    {
     "name": "stderr",
     "output_type": "stream",
     "text": [
      "num_leaves, val_score: 0.136425:  85%|#########################################6       | 17/20 [01:52<00:23,  7.85s/it][I 2023-11-03 20:14:53,181] Trial 23 finished with value: 0.14084537983579098 and parameters: {'num_leaves': 154}. Best is trial 17 with value: 0.13642529181742966.\n",
      "num_leaves, val_score: 0.136425:  85%|#########################################6       | 17/20 [01:52<00:23,  7.85s/it]"
     ]
    },
    {
     "name": "stdout",
     "output_type": "stream",
     "text": [
      "Early stopping, best iteration is:\n",
      "[592]\tcv_agg's l2: 0.136425 + 0.0344298\n",
      "[100]\tcv_agg's l2: 0.144025 + 0.0288164\n",
      "[200]\tcv_agg's l2: 0.141649 + 0.0280589\n",
      "[300]\tcv_agg's l2: 0.14031 + 0.0267642\n",
      "[400]\tcv_agg's l2: 0.140381 + 0.0262626\n",
      "[500]\tcv_agg's l2: 0.140722 + 0.0263476\n",
      "[600]\tcv_agg's l2: 0.140831 + 0.0262944\n"
     ]
    },
    {
     "name": "stderr",
     "output_type": "stream",
     "text": [
      "num_leaves, val_score: 0.136425:  90%|############################################1    | 18/20 [01:57<00:14,  7.00s/it][I 2023-11-03 20:14:58,217] Trial 24 finished with value: 0.14084537983579098 and parameters: {'num_leaves': 215}. Best is trial 17 with value: 0.13642529181742966.\n",
      "num_leaves, val_score: 0.136425:  90%|############################################1    | 18/20 [01:57<00:14,  7.00s/it]"
     ]
    },
    {
     "name": "stdout",
     "output_type": "stream",
     "text": [
      "Early stopping, best iteration is:\n",
      "[592]\tcv_agg's l2: 0.136425 + 0.0344298\n",
      "[100]\tcv_agg's l2: 0.144025 + 0.0288164\n",
      "[200]\tcv_agg's l2: 0.141649 + 0.0280589\n",
      "[300]\tcv_agg's l2: 0.14031 + 0.0267642\n",
      "[400]\tcv_agg's l2: 0.140381 + 0.0262626\n",
      "[500]\tcv_agg's l2: 0.140722 + 0.0263476\n",
      "[600]\tcv_agg's l2: 0.140831 + 0.0262944\n"
     ]
    },
    {
     "name": "stderr",
     "output_type": "stream",
     "text": [
      "num_leaves, val_score: 0.136425:  95%|##############################################5  | 19/20 [02:02<00:06,  6.48s/it][I 2023-11-03 20:15:03,480] Trial 25 finished with value: 0.14084537983579098 and parameters: {'num_leaves': 83}. Best is trial 17 with value: 0.13642529181742966.\n",
      "num_leaves, val_score: 0.136425:  95%|##############################################5  | 19/20 [02:02<00:06,  6.48s/it]"
     ]
    },
    {
     "name": "stdout",
     "output_type": "stream",
     "text": [
      "Early stopping, best iteration is:\n",
      "[592]\tcv_agg's l2: 0.136425 + 0.0344298\n",
      "[100]\tcv_agg's l2: 0.144025 + 0.0288164\n",
      "[200]\tcv_agg's l2: 0.141649 + 0.0280589\n",
      "[300]\tcv_agg's l2: 0.14031 + 0.0267642\n",
      "[400]\tcv_agg's l2: 0.140381 + 0.0262626\n",
      "[500]\tcv_agg's l2: 0.140722 + 0.0263476\n",
      "[600]\tcv_agg's l2: 0.140831 + 0.0262944\n"
     ]
    },
    {
     "name": "stderr",
     "output_type": "stream",
     "text": [
      "num_leaves, val_score: 0.136425: 100%|#################################################| 20/20 [02:08<00:00,  6.41s/it][I 2023-11-03 20:15:09,734] Trial 26 finished with value: 0.14084537983579098 and parameters: {'num_leaves': 153}. Best is trial 17 with value: 0.13642529181742966.\n",
      "num_leaves, val_score: 0.136425: 100%|#################################################| 20/20 [02:08<00:00,  6.43s/it]\n"
     ]
    },
    {
     "name": "stdout",
     "output_type": "stream",
     "text": [
      "Early stopping, best iteration is:\n",
      "[592]\tcv_agg's l2: 0.136425 + 0.0344298\n"
     ]
    },
    {
     "name": "stderr",
     "output_type": "stream",
     "text": [
      "bagging, val_score: 0.136425:   0%|                                                             | 0/10 [00:00<?, ?it/s]"
     ]
    },
    {
     "name": "stdout",
     "output_type": "stream",
     "text": [
      "[100]\tcv_agg's l2: 0.152101 + 0.035258\n",
      "[200]\tcv_agg's l2: 0.142315 + 0.0353031\n",
      "[300]\tcv_agg's l2: 0.140431 + 0.035096\n",
      "[400]\tcv_agg's l2: 0.139425 + 0.0344595\n",
      "[500]\tcv_agg's l2: 0.139522 + 0.034469\n",
      "[600]\tcv_agg's l2: 0.139273 + 0.0338498\n"
     ]
    },
    {
     "name": "stderr",
     "output_type": "stream",
     "text": [
      "bagging, val_score: 0.136425:  10%|#####3                                               | 1/10 [00:03<00:27,  3.01s/it][I 2023-11-03 20:15:12,748] Trial 27 finished with value: 0.13937772480120453 and parameters: {'bagging_fraction': 0.9699319155013194, 'bagging_freq': 1}. Best is trial 27 with value: 0.13937772480120453.\n",
      "bagging, val_score: 0.136425:  10%|#####3                                               | 1/10 [00:03<00:27,  3.01s/it]"
     ]
    },
    {
     "name": "stdout",
     "output_type": "stream",
     "text": [
      "Early stopping, best iteration is:\n",
      "[592]\tcv_agg's l2: 0.136425 + 0.0344298\n",
      "[100]\tcv_agg's l2: 0.153749 + 0.0329788\n",
      "[200]\tcv_agg's l2: 0.143808 + 0.0310386\n",
      "[300]\tcv_agg's l2: 0.139898 + 0.0297433\n",
      "[400]\tcv_agg's l2: 0.137798 + 0.0286977\n",
      "[500]\tcv_agg's l2: 0.136935 + 0.0285099\n",
      "[600]\tcv_agg's l2: 0.136523 + 0.0281521\n"
     ]
    },
    {
     "name": "stderr",
     "output_type": "stream",
     "text": [
      "bagging, val_score: 0.136425:  20%|##########6                                          | 2/10 [00:06<00:24,  3.06s/it][I 2023-11-03 20:15:15,841] Trial 28 finished with value: 0.13649214210467697 and parameters: {'bagging_fraction': 0.9774772060356623, 'bagging_freq': 1}. Best is trial 28 with value: 0.13649214210467697.\n",
      "bagging, val_score: 0.136425:  20%|##########6                                          | 2/10 [00:06<00:24,  3.06s/it]"
     ]
    },
    {
     "name": "stdout",
     "output_type": "stream",
     "text": [
      "Early stopping, best iteration is:\n",
      "[592]\tcv_agg's l2: 0.136425 + 0.0344298\n",
      "[100]\tcv_agg's l2: 0.147902 + 0.0372088\n",
      "[200]\tcv_agg's l2: 0.138767 + 0.0343593\n",
      "[300]\tcv_agg's l2: 0.136296 + 0.0334686\n",
      "[400]\tcv_agg's l2: 0.134845 + 0.0317551\n",
      "[500]\tcv_agg's l2: 0.134427 + 0.0313508\n",
      "[600]\tcv_agg's l2: 0.133927 + 0.030819\n"
     ]
    },
    {
     "name": "stderr",
     "output_type": "stream",
     "text": [
      "bagging, val_score: 0.133921:  30%|###############9                                     | 3/10 [00:08<00:19,  2.81s/it][I 2023-11-03 20:15:18,347] Trial 29 finished with value: 0.13392053833407908 and parameters: {'bagging_fraction': 0.9803017946091741, 'bagging_freq': 1}. Best is trial 29 with value: 0.13392053833407908.\n",
      "bagging, val_score: 0.133921:  30%|###############9                                     | 3/10 [00:08<00:19,  2.81s/it]"
     ]
    },
    {
     "name": "stdout",
     "output_type": "stream",
     "text": [
      "Early stopping, best iteration is:\n",
      "[599]\tcv_agg's l2: 0.133921 + 0.0308293\n",
      "[100]\tcv_agg's l2: 0.15154 + 0.0364094\n",
      "[200]\tcv_agg's l2: 0.140715 + 0.0340993\n",
      "[300]\tcv_agg's l2: 0.138024 + 0.0323559\n",
      "[400]\tcv_agg's l2: 0.136439 + 0.0313795\n",
      "[500]\tcv_agg's l2: 0.136119 + 0.0309207\n",
      "[600]\tcv_agg's l2: 0.135915 + 0.0299235\n"
     ]
    },
    {
     "name": "stderr",
     "output_type": "stream",
     "text": [
      "bagging, val_score: 0.133921:  40%|#####################2                               | 4/10 [00:11<00:16,  2.79s/it][I 2023-11-03 20:15:21,106] Trial 30 finished with value: 0.13585933485551982 and parameters: {'bagging_fraction': 0.9837121838551013, 'bagging_freq': 1}. Best is trial 29 with value: 0.13392053833407908.\n",
      "bagging, val_score: 0.133921:  40%|#####################2                               | 4/10 [00:11<00:16,  2.79s/it]"
     ]
    },
    {
     "name": "stdout",
     "output_type": "stream",
     "text": [
      "Early stopping, best iteration is:\n",
      "[599]\tcv_agg's l2: 0.133921 + 0.0308293\n",
      "[100]\tcv_agg's l2: 0.151343 + 0.0341009\n",
      "[200]\tcv_agg's l2: 0.142072 + 0.0315187\n",
      "[300]\tcv_agg's l2: 0.13947 + 0.0302907\n",
      "[400]\tcv_agg's l2: 0.137895 + 0.0298109\n",
      "[500]\tcv_agg's l2: 0.137213 + 0.029718\n",
      "[600]\tcv_agg's l2: 0.137227 + 0.0294892\n"
     ]
    },
    {
     "name": "stderr",
     "output_type": "stream",
     "text": [
      "bagging, val_score: 0.133921:  50%|##########################5                          | 5/10 [00:13<00:13,  2.67s/it][I 2023-11-03 20:15:23,562] Trial 31 finished with value: 0.13728030048325054 and parameters: {'bagging_fraction': 0.9881611421151827, 'bagging_freq': 1}. Best is trial 29 with value: 0.13392053833407908.\n",
      "bagging, val_score: 0.133921:  50%|##########################5                          | 5/10 [00:13<00:13,  2.67s/it]"
     ]
    },
    {
     "name": "stdout",
     "output_type": "stream",
     "text": [
      "Early stopping, best iteration is:\n",
      "[599]\tcv_agg's l2: 0.133921 + 0.0308293\n",
      "[100]\tcv_agg's l2: 0.151939 + 0.0343848\n",
      "[200]\tcv_agg's l2: 0.14292 + 0.0345348\n",
      "[300]\tcv_agg's l2: 0.139522 + 0.0332366\n",
      "[400]\tcv_agg's l2: 0.13878 + 0.0330673\n",
      "[500]\tcv_agg's l2: 0.138215 + 0.0323107\n",
      "[600]\tcv_agg's l2: 0.137205 + 0.0320006\n"
     ]
    },
    {
     "name": "stderr",
     "output_type": "stream",
     "text": [
      "bagging, val_score: 0.133921:  60%|###############################8                     | 6/10 [00:16<00:10,  2.65s/it][I 2023-11-03 20:15:26,168] Trial 32 finished with value: 0.13723531061703248 and parameters: {'bagging_fraction': 0.9857148605465691, 'bagging_freq': 1}. Best is trial 29 with value: 0.13392053833407908.\n",
      "bagging, val_score: 0.133921:  60%|###############################8                     | 6/10 [00:16<00:10,  2.65s/it]"
     ]
    },
    {
     "name": "stdout",
     "output_type": "stream",
     "text": [
      "Early stopping, best iteration is:\n",
      "[599]\tcv_agg's l2: 0.133921 + 0.0308293\n",
      "[100]\tcv_agg's l2: 0.152466 + 0.0257753\n",
      "[200]\tcv_agg's l2: 0.144747 + 0.0246247\n",
      "[300]\tcv_agg's l2: 0.143663 + 0.022766\n",
      "[400]\tcv_agg's l2: 0.142264 + 0.022459\n",
      "[500]\tcv_agg's l2: 0.141605 + 0.0218792\n",
      "[600]\tcv_agg's l2: 0.141667 + 0.0223363\n"
     ]
    },
    {
     "name": "stderr",
     "output_type": "stream",
     "text": [
      "bagging, val_score: 0.133921:  70%|#####################################                | 7/10 [00:19<00:08,  2.75s/it][I 2023-11-03 20:15:29,132] Trial 33 finished with value: 0.141658927953979 and parameters: {'bagging_fraction': 0.7817224655786931, 'bagging_freq': 7}. Best is trial 29 with value: 0.13392053833407908.\n",
      "bagging, val_score: 0.133921:  70%|#####################################                | 7/10 [00:19<00:08,  2.75s/it]"
     ]
    },
    {
     "name": "stdout",
     "output_type": "stream",
     "text": [
      "Early stopping, best iteration is:\n",
      "[599]\tcv_agg's l2: 0.133921 + 0.0308293\n",
      "[100]\tcv_agg's l2: 0.202701 + 0.0366787\n",
      "[200]\tcv_agg's l2: 0.190524 + 0.0373225\n",
      "[300]\tcv_agg's l2: 0.186107 + 0.0321128\n",
      "[400]\tcv_agg's l2: 0.182491 + 0.028404\n",
      "[500]\tcv_agg's l2: 0.182909 + 0.0261395\n",
      "[600]\tcv_agg's l2: 0.183836 + 0.0283425\n"
     ]
    },
    {
     "name": "stderr",
     "output_type": "stream",
     "text": [
      "bagging, val_score: 0.133921:  80%|##########################################4          | 8/10 [00:21<00:05,  2.67s/it][I 2023-11-03 20:15:31,620] Trial 34 finished with value: 0.18403680823768384 and parameters: {'bagging_fraction': 0.4533946165855715, 'bagging_freq': 3}. Best is trial 29 with value: 0.13392053833407908.\n",
      "bagging, val_score: 0.133921:  80%|##########################################4          | 8/10 [00:21<00:05,  2.67s/it]"
     ]
    },
    {
     "name": "stdout",
     "output_type": "stream",
     "text": [
      "Early stopping, best iteration is:\n",
      "[599]\tcv_agg's l2: 0.133921 + 0.0308293\n",
      "[100]\tcv_agg's l2: 0.154151 + 0.0336309\n",
      "[200]\tcv_agg's l2: 0.145831 + 0.0303516\n",
      "[300]\tcv_agg's l2: 0.142581 + 0.0291404\n",
      "[400]\tcv_agg's l2: 0.14165 + 0.0293117\n",
      "[500]\tcv_agg's l2: 0.140744 + 0.0291569\n",
      "[600]\tcv_agg's l2: 0.140865 + 0.0293831\n"
     ]
    },
    {
     "name": "stderr",
     "output_type": "stream",
     "text": [
      "bagging, val_score: 0.133921:  90%|###############################################7     | 9/10 [00:24<00:02,  2.68s/it][I 2023-11-03 20:15:34,332] Trial 35 finished with value: 0.1408966089871705 and parameters: {'bagging_fraction': 0.8864159467126902, 'bagging_freq': 3}. Best is trial 29 with value: 0.13392053833407908.\n",
      "bagging, val_score: 0.133921:  90%|###############################################7     | 9/10 [00:24<00:02,  2.68s/it]"
     ]
    },
    {
     "name": "stdout",
     "output_type": "stream",
     "text": [
      "Early stopping, best iteration is:\n",
      "[599]\tcv_agg's l2: 0.133921 + 0.0308293\n",
      "[100]\tcv_agg's l2: 0.161271 + 0.0363974\n",
      "[200]\tcv_agg's l2: 0.151064 + 0.0329336\n",
      "[300]\tcv_agg's l2: 0.148046 + 0.0322821\n",
      "[400]\tcv_agg's l2: 0.145468 + 0.0306644\n",
      "[500]\tcv_agg's l2: 0.145495 + 0.0307209\n",
      "[600]\tcv_agg's l2: 0.145871 + 0.0309271\n"
     ]
    },
    {
     "name": "stderr",
     "output_type": "stream",
     "text": [
      "bagging, val_score: 0.133921: 100%|####################################################| 10/10 [00:27<00:00,  2.66s/it][I 2023-11-03 20:15:36,929] Trial 36 finished with value: 0.14589553476816414 and parameters: {'bagging_fraction': 0.8479390155218276, 'bagging_freq': 1}. Best is trial 29 with value: 0.13392053833407908.\n",
      "bagging, val_score: 0.133921: 100%|####################################################| 10/10 [00:27<00:00,  2.72s/it]\n"
     ]
    },
    {
     "name": "stdout",
     "output_type": "stream",
     "text": [
      "Early stopping, best iteration is:\n",
      "[599]\tcv_agg's l2: 0.133921 + 0.0308293\n"
     ]
    },
    {
     "name": "stderr",
     "output_type": "stream",
     "text": [
      "feature_fraction_stage2, val_score: 0.133921:   0%|                                              | 0/3 [00:00<?, ?it/s]"
     ]
    },
    {
     "name": "stdout",
     "output_type": "stream",
     "text": [
      "[100]\tcv_agg's l2: 0.149612 + 0.0383498\n",
      "[200]\tcv_agg's l2: 0.138822 + 0.0333488\n",
      "[300]\tcv_agg's l2: 0.136387 + 0.0315199\n",
      "[400]\tcv_agg's l2: 0.134647 + 0.0304492\n",
      "[500]\tcv_agg's l2: 0.133941 + 0.029562\n",
      "[600]\tcv_agg's l2: 0.133386 + 0.0292138\n"
     ]
    },
    {
     "name": "stderr",
     "output_type": "stream",
     "text": [
      "feature_fraction_stage2, val_score: 0.133386:  33%|############6                         | 1/3 [00:02<00:04,  2.47s/it][I 2023-11-03 20:15:39,407] Trial 37 finished with value: 0.13338626813486876 and parameters: {'feature_fraction': 0.41600000000000004}. Best is trial 37 with value: 0.13338626813486876.\n",
      "feature_fraction_stage2, val_score: 0.133386:  33%|############6                         | 1/3 [00:02<00:04,  2.47s/it]"
     ]
    },
    {
     "name": "stdout",
     "output_type": "stream",
     "text": [
      "[700]\tcv_agg's l2: 0.133973 + 0.0292356\n",
      "Early stopping, best iteration is:\n",
      "[600]\tcv_agg's l2: 0.133386 + 0.0292138\n",
      "[100]\tcv_agg's l2: 0.151757 + 0.0392379\n",
      "[200]\tcv_agg's l2: 0.145424 + 0.0381605\n",
      "[300]\tcv_agg's l2: 0.14314 + 0.0366785\n",
      "[400]\tcv_agg's l2: 0.141726 + 0.0363132\n",
      "[500]\tcv_agg's l2: 0.141642 + 0.0364613\n",
      "[600]\tcv_agg's l2: 0.141787 + 0.0361369\n"
     ]
    },
    {
     "name": "stderr",
     "output_type": "stream",
     "text": [
      "feature_fraction_stage2, val_score: 0.133386:  67%|#########################3            | 2/3 [00:04<00:02,  2.49s/it][I 2023-11-03 20:15:41,911] Trial 38 finished with value: 0.14178675563653567 and parameters: {'feature_fraction': 0.44800000000000006}. Best is trial 37 with value: 0.13338626813486876.\n",
      "feature_fraction_stage2, val_score: 0.133386:  67%|#########################3            | 2/3 [00:04<00:02,  2.49s/it]"
     ]
    },
    {
     "name": "stdout",
     "output_type": "stream",
     "text": [
      "[700]\tcv_agg's l2: 0.141429 + 0.0358091\n",
      "Early stopping, best iteration is:\n",
      "[600]\tcv_agg's l2: 0.133386 + 0.0292138\n",
      "[100]\tcv_agg's l2: 0.148417 + 0.0358819\n",
      "[200]\tcv_agg's l2: 0.138285 + 0.0338875\n",
      "[300]\tcv_agg's l2: 0.135938 + 0.0326281\n",
      "[400]\tcv_agg's l2: 0.134766 + 0.0322894\n",
      "[500]\tcv_agg's l2: 0.133397 + 0.0316672\n",
      "[600]\tcv_agg's l2: 0.133317 + 0.0309136\n"
     ]
    },
    {
     "name": "stderr",
     "output_type": "stream",
     "text": [
      "feature_fraction_stage2, val_score: 0.133228: 100%|######################################| 3/3 [00:07<00:00,  2.47s/it][I 2023-11-03 20:15:44,368] Trial 39 finished with value: 0.13322750807305467 and parameters: {'feature_fraction': 0.48000000000000004}. Best is trial 39 with value: 0.13322750807305467.\n",
      "feature_fraction_stage2, val_score: 0.133228: 100%|######################################| 3/3 [00:07<00:00,  2.48s/it]\n"
     ]
    },
    {
     "name": "stdout",
     "output_type": "stream",
     "text": [
      "[700]\tcv_agg's l2: 0.133375 + 0.0310527\n",
      "Early stopping, best iteration is:\n",
      "[604]\tcv_agg's l2: 0.133228 + 0.0308177\n"
     ]
    },
    {
     "name": "stderr",
     "output_type": "stream",
     "text": [
      "regularization_factors, val_score: 0.133228:   0%|                                              | 0/20 [00:00<?, ?it/s]"
     ]
    },
    {
     "name": "stdout",
     "output_type": "stream",
     "text": [
      "[100]\tcv_agg's l2: 0.148295 + 0.0338715\n",
      "[200]\tcv_agg's l2: 0.138761 + 0.0326224\n",
      "[300]\tcv_agg's l2: 0.135146 + 0.0322518\n",
      "[400]\tcv_agg's l2: 0.134409 + 0.0324974\n",
      "[500]\tcv_agg's l2: 0.134212 + 0.0325006\n",
      "[600]\tcv_agg's l2: 0.133873 + 0.0321239\n"
     ]
    },
    {
     "name": "stderr",
     "output_type": "stream",
     "text": [
      "regularization_factors, val_score: 0.133228:   5%|#9                                    | 1/20 [00:02<00:50,  2.65s/it][I 2023-11-03 20:15:47,023] Trial 40 finished with value: 0.1338798899691346 and parameters: {'lambda_l1': 0.01926063249338935, 'lambda_l2': 0.0008922986776972197}. Best is trial 40 with value: 0.1338798899691346.\n",
      "regularization_factors, val_score: 0.133228:   5%|#9                                    | 1/20 [00:02<00:50,  2.65s/it]"
     ]
    },
    {
     "name": "stdout",
     "output_type": "stream",
     "text": [
      "[700]\tcv_agg's l2: 0.133871 + 0.0322266\n",
      "Early stopping, best iteration is:\n",
      "[604]\tcv_agg's l2: 0.133228 + 0.0308177\n",
      "[100]\tcv_agg's l2: 0.148519 + 0.0363756\n",
      "[200]\tcv_agg's l2: 0.140051 + 0.0349279\n",
      "[300]\tcv_agg's l2: 0.137185 + 0.0341639\n",
      "[400]\tcv_agg's l2: 0.1363 + 0.0343746\n",
      "[500]\tcv_agg's l2: 0.136213 + 0.033861\n",
      "[600]\tcv_agg's l2: 0.135881 + 0.0337592\n"
     ]
    },
    {
     "name": "stderr",
     "output_type": "stream",
     "text": [
      "regularization_factors, val_score: 0.133228:  10%|###8                                  | 2/20 [00:05<00:47,  2.63s/it][I 2023-11-03 20:15:49,635] Trial 41 finished with value: 0.135816015514916 and parameters: {'lambda_l1': 0.02866091340620142, 'lambda_l2': 0.001259391686533629}. Best is trial 40 with value: 0.1338798899691346.\n",
      "regularization_factors, val_score: 0.133228:  10%|###8                                  | 2/20 [00:05<00:47,  2.63s/it]"
     ]
    },
    {
     "name": "stdout",
     "output_type": "stream",
     "text": [
      "[700]\tcv_agg's l2: 0.136154 + 0.0335573\n",
      "Early stopping, best iteration is:\n",
      "[604]\tcv_agg's l2: 0.133228 + 0.0308177\n",
      "[100]\tcv_agg's l2: 0.147868 + 0.0360382\n",
      "[200]\tcv_agg's l2: 0.139591 + 0.0355566\n",
      "[300]\tcv_agg's l2: 0.137006 + 0.035048\n",
      "[400]\tcv_agg's l2: 0.135971 + 0.0346566\n",
      "[500]\tcv_agg's l2: 0.135672 + 0.0344692\n",
      "[600]\tcv_agg's l2: 0.135649 + 0.0341015\n"
     ]
    },
    {
     "name": "stderr",
     "output_type": "stream",
     "text": [
      "regularization_factors, val_score: 0.133228:  15%|#####7                                | 3/20 [00:07<00:45,  2.66s/it][I 2023-11-03 20:15:52,330] Trial 42 finished with value: 0.13564844758750283 and parameters: {'lambda_l1': 0.05454326486558599, 'lambda_l2': 0.0008713916733500159}. Best is trial 40 with value: 0.1338798899691346.\n",
      "regularization_factors, val_score: 0.133228:  15%|#####7                                | 3/20 [00:07<00:45,  2.66s/it]"
     ]
    },
    {
     "name": "stdout",
     "output_type": "stream",
     "text": [
      "[700]\tcv_agg's l2: 0.13555 + 0.0341629\n",
      "Early stopping, best iteration is:\n",
      "[604]\tcv_agg's l2: 0.133228 + 0.0308177\n",
      "[100]\tcv_agg's l2: 0.149124 + 0.037594\n",
      "[200]\tcv_agg's l2: 0.140818 + 0.03546\n",
      "[300]\tcv_agg's l2: 0.13806 + 0.0358039\n",
      "[400]\tcv_agg's l2: 0.137091 + 0.0353085\n",
      "[500]\tcv_agg's l2: 0.136972 + 0.0354078\n",
      "[600]\tcv_agg's l2: 0.13672 + 0.0348152\n"
     ]
    },
    {
     "name": "stderr",
     "output_type": "stream",
     "text": [
      "regularization_factors, val_score: 0.133228:  20%|#######6                              | 4/20 [00:10<00:44,  2.76s/it][I 2023-11-03 20:15:55,239] Trial 43 finished with value: 0.1367211888219607 and parameters: {'lambda_l1': 0.04143418569592505, 'lambda_l2': 0.0007020977531841815}. Best is trial 40 with value: 0.1338798899691346.\n",
      "regularization_factors, val_score: 0.133228:  20%|#######6                              | 4/20 [00:10<00:44,  2.76s/it]"
     ]
    },
    {
     "name": "stdout",
     "output_type": "stream",
     "text": [
      "[700]\tcv_agg's l2: 0.136719 + 0.0349546\n",
      "Early stopping, best iteration is:\n",
      "[604]\tcv_agg's l2: 0.133228 + 0.0308177\n",
      "[100]\tcv_agg's l2: 0.148417 + 0.0358819\n",
      "[200]\tcv_agg's l2: 0.138559 + 0.0341146\n",
      "[300]\tcv_agg's l2: 0.136283 + 0.0329125\n",
      "[400]\tcv_agg's l2: 0.135144 + 0.0325827\n",
      "[500]\tcv_agg's l2: 0.133872 + 0.0318997\n",
      "[600]\tcv_agg's l2: 0.133696 + 0.0310287\n"
     ]
    },
    {
     "name": "stderr",
     "output_type": "stream",
     "text": [
      "regularization_factors, val_score: 0.133228:  25%|#########5                            | 5/20 [00:13<00:41,  2.73s/it][I 2023-11-03 20:15:57,934] Trial 44 finished with value: 0.13368711056684235 and parameters: {'lambda_l1': 2.2343232515815042e-05, 'lambda_l2': 2.046577703258029e-06}. Best is trial 44 with value: 0.13368711056684235.\n",
      "regularization_factors, val_score: 0.133228:  25%|#########5                            | 5/20 [00:13<00:41,  2.73s/it]"
     ]
    },
    {
     "name": "stdout",
     "output_type": "stream",
     "text": [
      "[700]\tcv_agg's l2: 0.133715 + 0.0313195\n",
      "Early stopping, best iteration is:\n",
      "[604]\tcv_agg's l2: 0.133228 + 0.0308177\n",
      "[100]\tcv_agg's l2: 0.148417 + 0.0358819\n",
      "[200]\tcv_agg's l2: 0.138285 + 0.0338875\n",
      "[300]\tcv_agg's l2: 0.135938 + 0.0326281\n",
      "[400]\tcv_agg's l2: 0.134766 + 0.0322894\n",
      "[500]\tcv_agg's l2: 0.133397 + 0.0316672\n",
      "[600]\tcv_agg's l2: 0.133317 + 0.0309136\n"
     ]
    },
    {
     "name": "stderr",
     "output_type": "stream",
     "text": [
      "regularization_factors, val_score: 0.133222:  30%|###########4                          | 6/20 [00:16<00:40,  2.88s/it][I 2023-11-03 20:16:01,088] Trial 45 finished with value: 0.13322216430847614 and parameters: {'lambda_l1': 3.820322011539307e-06, 'lambda_l2': 8.284242245921873e-08}. Best is trial 45 with value: 0.13322216430847614.\n",
      "regularization_factors, val_score: 0.133222:  30%|###########4                          | 6/20 [00:16<00:40,  2.88s/it]"
     ]
    },
    {
     "name": "stdout",
     "output_type": "stream",
     "text": [
      "[700]\tcv_agg's l2: 0.133398 + 0.031084\n",
      "Early stopping, best iteration is:\n",
      "[604]\tcv_agg's l2: 0.133222 + 0.0308104\n",
      "[100]\tcv_agg's l2: 0.148417 + 0.0358819\n",
      "[200]\tcv_agg's l2: 0.138285 + 0.0338875\n",
      "[300]\tcv_agg's l2: 0.135938 + 0.0326281\n",
      "[400]\tcv_agg's l2: 0.134766 + 0.0322894\n",
      "[500]\tcv_agg's l2: 0.133397 + 0.0316672\n",
      "[600]\tcv_agg's l2: 0.133317 + 0.0309136\n"
     ]
    },
    {
     "name": "stderr",
     "output_type": "stream",
     "text": [
      "regularization_factors, val_score: 0.133222:  35%|#############3                        | 7/20 [00:20<00:39,  3.06s/it][I 2023-11-03 20:16:04,538] Trial 46 finished with value: 0.13322216462540798 and parameters: {'lambda_l1': 1.960370464272138e-06, 'lambda_l2': 3.303831024311645e-08}. Best is trial 45 with value: 0.13322216430847614.\n",
      "regularization_factors, val_score: 0.133222:  35%|#############3                        | 7/20 [00:20<00:39,  3.06s/it]"
     ]
    },
    {
     "name": "stdout",
     "output_type": "stream",
     "text": [
      "[700]\tcv_agg's l2: 0.133364 + 0.0310382\n",
      "Early stopping, best iteration is:\n",
      "[604]\tcv_agg's l2: 0.133222 + 0.0308104\n",
      "[100]\tcv_agg's l2: 0.148417 + 0.0358819\n",
      "[200]\tcv_agg's l2: 0.138285 + 0.0338875\n",
      "[300]\tcv_agg's l2: 0.135938 + 0.0326281\n",
      "[400]\tcv_agg's l2: 0.134766 + 0.0322894\n",
      "[500]\tcv_agg's l2: 0.133397 + 0.0316672\n",
      "[600]\tcv_agg's l2: 0.133317 + 0.0309136\n"
     ]
    },
    {
     "name": "stderr",
     "output_type": "stream",
     "text": [
      "regularization_factors, val_score: 0.133222:  40%|###############2                      | 8/20 [00:23<00:38,  3.23s/it][I 2023-11-03 20:16:08,109] Trial 47 finished with value: 0.13322216461258624 and parameters: {'lambda_l1': 9.185916208088319e-07, 'lambda_l2': 4.431595955030273e-08}. Best is trial 45 with value: 0.13322216430847614.\n",
      "regularization_factors, val_score: 0.133222:  40%|###############2                      | 8/20 [00:23<00:38,  3.23s/it]"
     ]
    },
    {
     "name": "stdout",
     "output_type": "stream",
     "text": [
      "[700]\tcv_agg's l2: 0.133364 + 0.0310382\n",
      "Early stopping, best iteration is:\n",
      "[604]\tcv_agg's l2: 0.133222 + 0.0308104\n",
      "[100]\tcv_agg's l2: 0.148417 + 0.0358819\n",
      "[200]\tcv_agg's l2: 0.138285 + 0.0338875\n",
      "[300]\tcv_agg's l2: 0.135938 + 0.0326281\n",
      "[400]\tcv_agg's l2: 0.134766 + 0.0322894\n",
      "[500]\tcv_agg's l2: 0.133397 + 0.0316672\n",
      "[600]\tcv_agg's l2: 0.133317 + 0.0309136\n"
     ]
    },
    {
     "name": "stderr",
     "output_type": "stream",
     "text": [
      "regularization_factors, val_score: 0.133222:  45%|#################1                    | 9/20 [00:27<00:35,  3.26s/it][I 2023-11-03 20:16:11,443] Trial 48 finished with value: 0.13322216479100676 and parameters: {'lambda_l1': 2.1943529384109663e-07, 'lambda_l2': 1.4917929912943376e-08}. Best is trial 45 with value: 0.13322216430847614.\n",
      "regularization_factors, val_score: 0.133222:  45%|#################1                    | 9/20 [00:27<00:35,  3.26s/it]"
     ]
    },
    {
     "name": "stdout",
     "output_type": "stream",
     "text": [
      "[700]\tcv_agg's l2: 0.133364 + 0.0310382\n",
      "Early stopping, best iteration is:\n",
      "[604]\tcv_agg's l2: 0.133222 + 0.0308104\n",
      "[100]\tcv_agg's l2: 0.148417 + 0.0358819\n",
      "[200]\tcv_agg's l2: 0.138285 + 0.0338875\n",
      "[300]\tcv_agg's l2: 0.135938 + 0.0326281\n",
      "[400]\tcv_agg's l2: 0.134766 + 0.0322894\n",
      "[500]\tcv_agg's l2: 0.133397 + 0.0316672\n",
      "[600]\tcv_agg's l2: 0.133317 + 0.0309136\n"
     ]
    },
    {
     "name": "stderr",
     "output_type": "stream",
     "text": [
      "regularization_factors, val_score: 0.133222:  50%|##################5                  | 10/20 [00:31<00:37,  3.75s/it][I 2023-11-03 20:16:16,289] Trial 49 finished with value: 0.13322216476902923 and parameters: {'lambda_l1': 2.1745432870594233e-07, 'lambda_l2': 1.4299296109910919e-08}. Best is trial 45 with value: 0.13322216430847614.\n",
      "regularization_factors, val_score: 0.133222:  50%|##################5                  | 10/20 [00:31<00:37,  3.75s/it]"
     ]
    },
    {
     "name": "stdout",
     "output_type": "stream",
     "text": [
      "[700]\tcv_agg's l2: 0.133364 + 0.0310382\n",
      "Early stopping, best iteration is:\n",
      "[604]\tcv_agg's l2: 0.133222 + 0.0308104\n",
      "[100]\tcv_agg's l2: 0.148417 + 0.0358819\n",
      "[200]\tcv_agg's l2: 0.138285 + 0.0338875\n",
      "[300]\tcv_agg's l2: 0.135938 + 0.0326281\n",
      "[400]\tcv_agg's l2: 0.134766 + 0.0322894\n",
      "[500]\tcv_agg's l2: 0.133397 + 0.0316672\n",
      "[600]\tcv_agg's l2: 0.133317 + 0.0309136\n"
     ]
    },
    {
     "name": "stderr",
     "output_type": "stream",
     "text": [
      "regularization_factors, val_score: 0.133222:  55%|####################3                | 11/20 [00:35<00:33,  3.67s/it][I 2023-11-03 20:16:19,782] Trial 50 finished with value: 0.13322216480105875 and parameters: {'lambda_l1': 2.0708183979734962e-07, 'lambda_l2': 1.2860129148487732e-08}. Best is trial 45 with value: 0.13322216430847614.\n",
      "regularization_factors, val_score: 0.133222:  55%|####################3                | 11/20 [00:35<00:33,  3.67s/it]"
     ]
    },
    {
     "name": "stdout",
     "output_type": "stream",
     "text": [
      "[700]\tcv_agg's l2: 0.133364 + 0.0310382\n",
      "Early stopping, best iteration is:\n",
      "[604]\tcv_agg's l2: 0.133222 + 0.0308104\n",
      "[100]\tcv_agg's l2: 0.148417 + 0.0358819\n",
      "[200]\tcv_agg's l2: 0.138285 + 0.0338875\n",
      "[300]\tcv_agg's l2: 0.135938 + 0.0326281\n",
      "[400]\tcv_agg's l2: 0.134766 + 0.0322894\n",
      "[500]\tcv_agg's l2: 0.133397 + 0.0316672\n",
      "[600]\tcv_agg's l2: 0.133317 + 0.0309136\n"
     ]
    },
    {
     "name": "stderr",
     "output_type": "stream",
     "text": [
      "regularization_factors, val_score: 0.133222:  60%|######################2              | 12/20 [00:38<00:28,  3.61s/it][I 2023-11-03 20:16:23,246] Trial 51 finished with value: 0.13322216479713672 and parameters: {'lambda_l1': 2.415580813138722e-07, 'lambda_l2': 1.0286778783755186e-08}. Best is trial 45 with value: 0.13322216430847614.\n",
      "regularization_factors, val_score: 0.133222:  60%|######################2              | 12/20 [00:38<00:28,  3.61s/it]"
     ]
    },
    {
     "name": "stdout",
     "output_type": "stream",
     "text": [
      "[700]\tcv_agg's l2: 0.133364 + 0.0310382\n",
      "Early stopping, best iteration is:\n",
      "[604]\tcv_agg's l2: 0.133222 + 0.0308104\n",
      "[100]\tcv_agg's l2: 0.148417 + 0.0358819\n",
      "[200]\tcv_agg's l2: 0.138285 + 0.0338875\n",
      "[300]\tcv_agg's l2: 0.135938 + 0.0326281\n",
      "[400]\tcv_agg's l2: 0.134766 + 0.0322894\n",
      "[500]\tcv_agg's l2: 0.133397 + 0.0316672\n",
      "[600]\tcv_agg's l2: 0.133317 + 0.0309136\n"
     ]
    },
    {
     "name": "stderr",
     "output_type": "stream",
     "text": [
      "regularization_factors, val_score: 0.133222:  65%|########################             | 13/20 [00:42<00:24,  3.50s/it][I 2023-11-03 20:16:26,509] Trial 52 finished with value: 0.13322216479896376 and parameters: {'lambda_l1': 3.2847669225879615e-07, 'lambda_l2': 1.3563062937461235e-08}. Best is trial 45 with value: 0.13322216430847614.\n",
      "regularization_factors, val_score: 0.133222:  65%|########################             | 13/20 [00:42<00:24,  3.50s/it]"
     ]
    },
    {
     "name": "stdout",
     "output_type": "stream",
     "text": [
      "[700]\tcv_agg's l2: 0.133364 + 0.0310382\n",
      "Early stopping, best iteration is:\n",
      "[604]\tcv_agg's l2: 0.133222 + 0.0308104\n",
      "[100]\tcv_agg's l2: 0.148417 + 0.0358819\n",
      "[200]\tcv_agg's l2: 0.138285 + 0.0338875\n",
      "[300]\tcv_agg's l2: 0.135938 + 0.0326281\n",
      "[400]\tcv_agg's l2: 0.134766 + 0.0322894\n",
      "[500]\tcv_agg's l2: 0.133397 + 0.0316672\n",
      "[600]\tcv_agg's l2: 0.133317 + 0.0309136\n"
     ]
    },
    {
     "name": "stderr",
     "output_type": "stream",
     "text": [
      "regularization_factors, val_score: 0.133222:  70%|#########################9           | 14/20 [00:45<00:20,  3.38s/it][I 2023-11-03 20:16:29,619] Trial 53 finished with value: 0.13322216473777565 and parameters: {'lambda_l1': 5.755340497981333e-07, 'lambda_l2': 2.3000271554900797e-08}. Best is trial 45 with value: 0.13322216430847614.\n",
      "regularization_factors, val_score: 0.133222:  70%|#########################9           | 14/20 [00:45<00:20,  3.38s/it]"
     ]
    },
    {
     "name": "stdout",
     "output_type": "stream",
     "text": [
      "[700]\tcv_agg's l2: 0.133364 + 0.0310382\n",
      "Early stopping, best iteration is:\n",
      "[604]\tcv_agg's l2: 0.133222 + 0.0308104\n",
      "[100]\tcv_agg's l2: 0.148417 + 0.0358819\n",
      "[200]\tcv_agg's l2: 0.138285 + 0.0338875\n",
      "[300]\tcv_agg's l2: 0.135938 + 0.0326281\n",
      "[400]\tcv_agg's l2: 0.134766 + 0.0322894\n",
      "[500]\tcv_agg's l2: 0.133397 + 0.0316672\n",
      "[600]\tcv_agg's l2: 0.133317 + 0.0309136\n"
     ]
    },
    {
     "name": "stderr",
     "output_type": "stream",
     "text": [
      "regularization_factors, val_score: 0.133222:  75%|###########################7         | 15/20 [00:48<00:16,  3.30s/it][I 2023-11-03 20:16:32,735] Trial 54 finished with value: 0.13322216453755448 and parameters: {'lambda_l1': 2.081040532604962e-06, 'lambda_l2': 1.2721419397075884e-07}. Best is trial 45 with value: 0.13322216430847614.\n",
      "regularization_factors, val_score: 0.133222:  75%|###########################7         | 15/20 [00:48<00:16,  3.30s/it]"
     ]
    },
    {
     "name": "stdout",
     "output_type": "stream",
     "text": [
      "[700]\tcv_agg's l2: 0.133364 + 0.0310382\n",
      "Early stopping, best iteration is:\n",
      "[604]\tcv_agg's l2: 0.133222 + 0.0308104\n",
      "[100]\tcv_agg's l2: 0.148417 + 0.0358819\n",
      "[200]\tcv_agg's l2: 0.138285 + 0.0338875\n",
      "[300]\tcv_agg's l2: 0.135938 + 0.0326281\n",
      "[400]\tcv_agg's l2: 0.134766 + 0.0322894\n",
      "[500]\tcv_agg's l2: 0.133397 + 0.0316672\n",
      "[600]\tcv_agg's l2: 0.133317 + 0.0309136\n"
     ]
    },
    {
     "name": "stderr",
     "output_type": "stream",
     "text": [
      "regularization_factors, val_score: 0.133222:  80%|#############################6       | 16/20 [00:51<00:12,  3.17s/it][I 2023-11-03 20:16:35,587] Trial 55 finished with value: 0.13322216358669553 and parameters: {'lambda_l1': 7.525461855715185e-06, 'lambda_l2': 3.32057996652655e-07}. Best is trial 55 with value: 0.13322216358669553.\n",
      "regularization_factors, val_score: 0.133222:  80%|#############################6       | 16/20 [00:51<00:12,  3.17s/it]"
     ]
    },
    {
     "name": "stdout",
     "output_type": "stream",
     "text": [
      "[700]\tcv_agg's l2: 0.133398 + 0.031084\n",
      "Early stopping, best iteration is:\n",
      "[604]\tcv_agg's l2: 0.133222 + 0.0308104\n",
      "[100]\tcv_agg's l2: 0.148417 + 0.0358819\n",
      "[200]\tcv_agg's l2: 0.138285 + 0.0338875\n",
      "[300]\tcv_agg's l2: 0.135938 + 0.0326281\n",
      "[400]\tcv_agg's l2: 0.134766 + 0.0322894\n",
      "[500]\tcv_agg's l2: 0.133397 + 0.0316672\n",
      "[600]\tcv_agg's l2: 0.133317 + 0.0309136\n"
     ]
    },
    {
     "name": "stderr",
     "output_type": "stream",
     "text": [
      "regularization_factors, val_score: 0.133222:  85%|###############################4     | 17/20 [00:53<00:09,  3.05s/it][I 2023-11-03 20:16:38,363] Trial 56 finished with value: 0.13322216355741617 and parameters: {'lambda_l1': 7.6288815034905806e-06, 'lambda_l2': 3.061824925939571e-07}. Best is trial 56 with value: 0.13322216355741617.\n",
      "regularization_factors, val_score: 0.133222:  85%|###############################4     | 17/20 [00:53<00:09,  3.05s/it]"
     ]
    },
    {
     "name": "stdout",
     "output_type": "stream",
     "text": [
      "[700]\tcv_agg's l2: 0.133398 + 0.031084\n",
      "Early stopping, best iteration is:\n",
      "[604]\tcv_agg's l2: 0.133222 + 0.0308104\n",
      "[100]\tcv_agg's l2: 0.148417 + 0.0358819\n",
      "[200]\tcv_agg's l2: 0.138285 + 0.0338875\n",
      "[300]\tcv_agg's l2: 0.135938 + 0.0326281\n",
      "[400]\tcv_agg's l2: 0.134773 + 0.0322795\n",
      "[500]\tcv_agg's l2: 0.133486 + 0.0315498\n",
      "[600]\tcv_agg's l2: 0.133423 + 0.0307717\n"
     ]
    },
    {
     "name": "stderr",
     "output_type": "stream",
     "text": [
      "regularization_factors, val_score: 0.133222:  90%|#################################3   | 18/20 [00:56<00:05,  2.97s/it][I 2023-11-03 20:16:41,141] Trial 57 finished with value: 0.1333382313042925 and parameters: {'lambda_l1': 9.265161851132083e-06, 'lambda_l2': 7.011916760456325e-07}. Best is trial 56 with value: 0.13322216355741617.\n",
      "regularization_factors, val_score: 0.133222:  90%|#################################3   | 18/20 [00:56<00:05,  2.97s/it]"
     ]
    },
    {
     "name": "stdout",
     "output_type": "stream",
     "text": [
      "[700]\tcv_agg's l2: 0.13343 + 0.0310418\n",
      "Early stopping, best iteration is:\n",
      "[604]\tcv_agg's l2: 0.133222 + 0.0308104\n",
      "[100]\tcv_agg's l2: 0.148417 + 0.0358819\n",
      "[200]\tcv_agg's l2: 0.138285 + 0.0338875\n",
      "[300]\tcv_agg's l2: 0.135938 + 0.0326281\n",
      "[400]\tcv_agg's l2: 0.134766 + 0.0322894\n",
      "[500]\tcv_agg's l2: 0.133397 + 0.0316672\n",
      "[600]\tcv_agg's l2: 0.133317 + 0.0309136\n"
     ]
    },
    {
     "name": "stderr",
     "output_type": "stream",
     "text": [
      "regularization_factors, val_score: 0.133222:  95%|###################################1 | 19/20 [00:59<00:02,  2.96s/it][I 2023-11-03 20:16:44,065] Trial 58 finished with value: 0.13322216345654042 and parameters: {'lambda_l1': 7.943019834987324e-06, 'lambda_l2': 3.9880240466372547e-07}. Best is trial 58 with value: 0.13322216345654042.\n",
      "regularization_factors, val_score: 0.133222:  95%|###################################1 | 19/20 [00:59<00:02,  2.96s/it]"
     ]
    },
    {
     "name": "stdout",
     "output_type": "stream",
     "text": [
      "[700]\tcv_agg's l2: 0.133398 + 0.031084\n",
      "Early stopping, best iteration is:\n",
      "[604]\tcv_agg's l2: 0.133222 + 0.0308104\n",
      "[100]\tcv_agg's l2: 0.148417 + 0.0358819\n",
      "[200]\tcv_agg's l2: 0.138285 + 0.0338875\n",
      "[300]\tcv_agg's l2: 0.135938 + 0.0326281\n",
      "[400]\tcv_agg's l2: 0.134773 + 0.0322796\n",
      "[500]\tcv_agg's l2: 0.133486 + 0.0315498\n",
      "[600]\tcv_agg's l2: 0.133423 + 0.0307717\n"
     ]
    },
    {
     "name": "stderr",
     "output_type": "stream",
     "text": [
      "regularization_factors, val_score: 0.133222: 100%|#####################################| 20/20 [01:02<00:00,  2.89s/it][I 2023-11-03 20:16:46,797] Trial 59 finished with value: 0.13333823224189723 and parameters: {'lambda_l1': 1.6096296585852313e-05, 'lambda_l2': 7.797187319826784e-07}. Best is trial 58 with value: 0.13322216345654042.\n",
      "regularization_factors, val_score: 0.133222: 100%|#####################################| 20/20 [01:02<00:00,  3.12s/it]\n"
     ]
    },
    {
     "name": "stdout",
     "output_type": "stream",
     "text": [
      "[700]\tcv_agg's l2: 0.13343 + 0.0310418\n",
      "Early stopping, best iteration is:\n",
      "[604]\tcv_agg's l2: 0.133222 + 0.0308104\n"
     ]
    },
    {
     "name": "stderr",
     "output_type": "stream",
     "text": [
      "min_data_in_leaf, val_score: 0.133222:   0%|                                                     | 0/5 [00:00<?, ?it/s]"
     ]
    },
    {
     "name": "stdout",
     "output_type": "stream",
     "text": [
      "[100]\tcv_agg's l2: 0.142425 + 0.0341719\n",
      "[200]\tcv_agg's l2: 0.136025 + 0.0333652\n",
      "[300]\tcv_agg's l2: 0.133383 + 0.0326373\n",
      "[400]\tcv_agg's l2: 0.132664 + 0.0330072\n",
      "[500]\tcv_agg's l2: 0.132151 + 0.0326047\n",
      "[600]\tcv_agg's l2: 0.131705 + 0.032613\n"
     ]
    },
    {
     "name": "stderr",
     "output_type": "stream",
     "text": [
      "min_data_in_leaf, val_score: 0.131567:  20%|#########                                    | 1/5 [00:03<00:12,  3.18s/it][I 2023-11-03 20:16:49,981] Trial 60 finished with value: 0.13156682324217417 and parameters: {'min_child_samples': 5}. Best is trial 60 with value: 0.13156682324217417.\n",
      "min_data_in_leaf, val_score: 0.131567:  20%|#########                                    | 1/5 [00:03<00:12,  3.18s/it]"
     ]
    },
    {
     "name": "stdout",
     "output_type": "stream",
     "text": [
      "[700]\tcv_agg's l2: 0.131727 + 0.0326676\n",
      "Early stopping, best iteration is:\n",
      "[624]\tcv_agg's l2: 0.131567 + 0.0325387\n",
      "[100]\tcv_agg's l2: 0.172048 + 0.0422568\n",
      "[200]\tcv_agg's l2: 0.162671 + 0.041334\n",
      "[300]\tcv_agg's l2: 0.159369 + 0.0394088\n",
      "[400]\tcv_agg's l2: 0.157946 + 0.0392108\n",
      "[500]\tcv_agg's l2: 0.157227 + 0.0389404\n",
      "[600]\tcv_agg's l2: 0.156627 + 0.0393459\n"
     ]
    },
    {
     "name": "stderr",
     "output_type": "stream",
     "text": [
      "min_data_in_leaf, val_score: 0.131567:  40%|##################                           | 2/5 [00:05<00:08,  2.91s/it][I 2023-11-03 20:16:52,703] Trial 61 finished with value: 0.15664486584707155 and parameters: {'min_child_samples': 25}. Best is trial 60 with value: 0.13156682324217417.\n",
      "min_data_in_leaf, val_score: 0.131567:  40%|##################                           | 2/5 [00:05<00:08,  2.91s/it]"
     ]
    },
    {
     "name": "stdout",
     "output_type": "stream",
     "text": [
      "[700]\tcv_agg's l2: 0.156847 + 0.0393044\n",
      "Early stopping, best iteration is:\n",
      "[624]\tcv_agg's l2: 0.131567 + 0.0325387\n",
      "[100]\tcv_agg's l2: 0.22518 + 0.0513489\n",
      "[200]\tcv_agg's l2: 0.213526 + 0.0546965\n",
      "[300]\tcv_agg's l2: 0.208927 + 0.054035\n",
      "[400]\tcv_agg's l2: 0.207155 + 0.0548081\n",
      "[500]\tcv_agg's l2: 0.206881 + 0.056578\n",
      "[600]\tcv_agg's l2: 0.207038 + 0.0564358\n"
     ]
    },
    {
     "name": "stderr",
     "output_type": "stream",
     "text": [
      "min_data_in_leaf, val_score: 0.131567:  60%|###########################                  | 3/5 [00:08<00:05,  2.88s/it][I 2023-11-03 20:16:55,540] Trial 62 finished with value: 0.2067429751106374 and parameters: {'min_child_samples': 50}. Best is trial 60 with value: 0.13156682324217417.\n",
      "min_data_in_leaf, val_score: 0.131567:  60%|###########################                  | 3/5 [00:08<00:05,  2.88s/it]"
     ]
    },
    {
     "name": "stdout",
     "output_type": "stream",
     "text": [
      "[700]\tcv_agg's l2: 0.206985 + 0.0571493\n",
      "Early stopping, best iteration is:\n",
      "[624]\tcv_agg's l2: 0.131567 + 0.0325387\n",
      "[100]\tcv_agg's l2: 0.733568 + 0.135573\n",
      "[200]\tcv_agg's l2: 0.692466 + 0.138869\n",
      "[300]\tcv_agg's l2: 0.670597 + 0.138319\n",
      "[400]\tcv_agg's l2: 0.66123 + 0.135444\n",
      "[500]\tcv_agg's l2: 0.653596 + 0.135935\n",
      "[600]\tcv_agg's l2: 0.64893 + 0.134499\n"
     ]
    },
    {
     "name": "stderr",
     "output_type": "stream",
     "text": [
      "min_data_in_leaf, val_score: 0.131567:  80%|####################################         | 4/5 [00:10<00:02,  2.56s/it][I 2023-11-03 20:16:57,623] Trial 63 finished with value: 0.64789540823683 and parameters: {'min_child_samples': 100}. Best is trial 60 with value: 0.13156682324217417.\n",
      "min_data_in_leaf, val_score: 0.131567:  80%|####################################         | 4/5 [00:10<00:02,  2.56s/it]"
     ]
    },
    {
     "name": "stdout",
     "output_type": "stream",
     "text": [
      "[700]\tcv_agg's l2: 0.643365 + 0.133589\n",
      "Early stopping, best iteration is:\n",
      "[624]\tcv_agg's l2: 0.131567 + 0.0325387\n",
      "[100]\tcv_agg's l2: 0.134603 + 0.0339268\n",
      "[200]\tcv_agg's l2: 0.127224 + 0.0312683\n",
      "[300]\tcv_agg's l2: 0.125527 + 0.030792\n",
      "[400]\tcv_agg's l2: 0.125041 + 0.0305896\n",
      "[500]\tcv_agg's l2: 0.124222 + 0.0301974\n",
      "[600]\tcv_agg's l2: 0.123822 + 0.0300939\n",
      "[700]\tcv_agg's l2: 0.123683 + 0.0298544\n"
     ]
    },
    {
     "name": "stderr",
     "output_type": "stream",
     "text": [
      "min_data_in_leaf, val_score: 0.123668: 100%|#############################################| 5/5 [00:13<00:00,  2.77s/it][I 2023-11-03 20:17:00,765] Trial 64 finished with value: 0.12366786631480009 and parameters: {'min_child_samples': 10}. Best is trial 64 with value: 0.12366786631480009.\n",
      "min_data_in_leaf, val_score: 0.123668: 100%|#############################################| 5/5 [00:13<00:00,  2.79s/it]"
     ]
    },
    {
     "name": "stdout",
     "output_type": "stream",
     "text": [
      "[800]\tcv_agg's l2: 0.123879 + 0.0300102\n",
      "Early stopping, best iteration is:\n",
      "[712]\tcv_agg's l2: 0.123668 + 0.0298574\n"
     ]
    },
    {
     "name": "stderr",
     "output_type": "stream",
     "text": [
      "\n"
     ]
    }
   ],
   "source": [
    "import optuna.integration.lightgbm as lgb\n",
    "from lightgbm import early_stopping, log_evaluation\n",
    "from sklearn.model_selection import KFold\n",
    "from sklearn.model_selection import RepeatedKFold\n",
    "\n",
    "\n",
    "lgb_train = lgb.Dataset(X_train, y_train)\n",
    "\n",
    "params = {\n",
    "    \"boosting_type\": \"gbdt\",\n",
    "    \"objective\": \"regression\",\n",
    "    \"metric\": \"l2\",\n",
    "    \"verbosity\": -1,\n",
    "}\n",
    "\n",
    "tuner = lgb.LightGBMTunerCV(\n",
    "    params,\n",
    "    lgb_train,\n",
    "    folds=KFold(n_splits=5),\n",
    "    num_boost_round=10000,\n",
    "    callbacks=[early_stopping(100), log_evaluation(100)],\n",
    ")\n",
    "\n",
    "tuner.run()"
   ]
  },
  {
   "cell_type": "code",
   "execution_count": 23,
   "id": "d9ab9a30",
   "metadata": {},
   "outputs": [
    {
     "name": "stdout",
     "output_type": "stream",
     "text": [
      "Best score: 0.12366786631480009\n",
      "Params: \n",
      "    boosting_type: gbdt\n",
      "    objective: regression\n",
      "    metric: l2\n",
      "    verbosity: -1\n",
      "    feature_pre_filter: False\n",
      "    lambda_l1: 7.943019834987324e-06\n",
      "    lambda_l2: 3.9880240466372547e-07\n",
      "    num_leaves: 10\n",
      "    feature_fraction: 0.48000000000000004\n",
      "    bagging_fraction: 0.9803017946091741\n",
      "    bagging_freq: 1\n",
      "    min_child_samples: 10\n"
     ]
    }
   ],
   "source": [
    "print(f\"Best score: {tuner.best_score}\")\n",
    "best_params = tuner.best_params\n",
    "print(\"Params: \")\n",
    "for key, value in best_params.items():\n",
    "    print(\"    {}: {}\".format(key, value))"
   ]
  },
  {
   "cell_type": "code",
   "execution_count": 24,
   "id": "0cb62c30",
   "metadata": {},
   "outputs": [],
   "source": [
    "import lightgbm as lgb\n",
    "\n",
    "lgb_tuned = lgb.train(\n",
    "    best_params,\n",
    "    lgb_train,\n",
    "    num_boost_round=10000,\n",
    ")"
   ]
  },
  {
   "cell_type": "code",
   "execution_count": 25,
   "id": "eb6b8188",
   "metadata": {},
   "outputs": [
    {
     "name": "stdout",
     "output_type": "stream",
     "text": [
      "RMSE train: 0.00\n",
      "RMSE test: 0.63\n",
      "MSE test: 0.40\n",
      "MAE test: 0.37\n",
      "\n"
     ]
    }
   ],
   "source": [
    "rmse, mse, mae = assess_regression_model(lgb_tuned, X_train, X_test, y_train, y_test)"
   ]
  },
  {
   "cell_type": "code",
   "execution_count": 26,
   "id": "90047108",
   "metadata": {},
   "outputs": [],
   "source": [
    "results.loc[1] = [\n",
    "    \"chronological\",\n",
    "    \"Optuna\",\n",
    "    len(X_test.columns),\n",
    "    mse,\n",
    "    rmse,\n",
    "    mae,\n",
    "]"
   ]
  },
  {
   "cell_type": "markdown",
   "id": "b26d94f2",
   "metadata": {},
   "source": [
    "###### MAE by level"
   ]
  },
  {
   "cell_type": "code",
   "execution_count": 27,
   "id": "bb716b92",
   "metadata": {},
   "outputs": [
    {
     "data": {
      "image/png": "[encoded data removed]",
      "text/plain": [
       "<Figure size 720x432 with 1 Axes>"
      ]
     },
     "metadata": {
      "needs_background": "light"
     },
     "output_type": "display_data"
    }
   ],
   "source": [
    "plot_mae_by_level(y_test, y_pred_test)"
   ]
  },
  {
   "cell_type": "code",
   "execution_count": 28,
   "id": "79785820",
   "metadata": {
    "scrolled": false
   },
   "outputs": [
    {
     "name": "stdout",
     "output_type": "stream",
     "text": [
      "Normal:\n",
      "MSE: 0.40\n",
      "RMSE: 0.63\n",
      "\n",
      "Round type: round\n",
      "MSE: 0.45\n",
      "RMSE: 0.67\n",
      "\n",
      "Round type: 0.33\n",
      "MSE: 0.40\n",
      "RMSE: 0.63\n",
      "\n",
      "Round type: 0.45\n",
      "MSE: 0.43\n",
      "RMSE: 0.65\n",
      "\n"
     ]
    }
   ],
   "source": [
    "predict = lgb_tuned.predict(X_test)\n",
    "check_round_predictions([\"round\", 0.33, 0.45], y_test, predict)"
   ]
  },
  {
   "cell_type": "code",
   "execution_count": 29,
   "id": "63a9eab9",
   "metadata": {},
   "outputs": [
    {
     "data": {
      "image/png": "[encoded data removed]",
      "text/plain": [
       "<Figure size 432x288 with 2 Axes>"
      ]
     },
     "metadata": {
      "needs_background": "light"
     },
     "output_type": "display_data"
    }
   ],
   "source": [
    "plot_confusion_matrix(\"round\", predict, y_test)"
   ]
  },
  {
   "cell_type": "markdown",
   "id": "a1fa0d3e",
   "metadata": {},
   "source": [
    "## Random split"
   ]
  },
  {
   "cell_type": "code",
   "execution_count": 30,
   "id": "69148859",
   "metadata": {},
   "outputs": [
    {
     "name": "stdout",
     "output_type": "stream",
     "text": [
      "[LightGBM] [Warning] Auto-choosing col-wise multi-threading, the overhead of testing was 0.001129 seconds.\n",
      "You can set `force_col_wise=true` to remove the overhead.\n",
      "[LightGBM] [Info] Total Bins 804\n",
      "[LightGBM] [Info] Number of data points in the train set: 904, number of used features: 48\n",
      "[LightGBM] [Info] Start training from score 7.162611\n",
      "Training until validation scores don't improve for 5 rounds\n",
      "Early stopping, best iteration is:\n",
      "[75]\tvalid_0's l2: 0.1379\tvalid_0's l1: 0.246737\n"
     ]
    }
   ],
   "source": [
    "import lightgbm as lgb\n",
    "from sklearn.metrics import mean_squared_error\n",
    "\n",
    "lgb_train = lgb.Dataset(X_train_random_split, y_train_random_split)\n",
    "lgb_eval = lgb.Dataset(X_test_random_split, y_test_random_split, reference=lgb_train)\n",
    "\n",
    "params = {\n",
    "    \"boosting_type\": \"gbdt\",\n",
    "    \"objective\": \"regression\",\n",
    "    \"metric\": {\"l2\", \"l1\"},\n",
    "}\n",
    "\n",
    "gbm = lgb.train(\n",
    "    params,\n",
    "    lgb_train,\n",
    "    num_boost_round=100,\n",
    "    valid_sets=lgb_eval,\n",
    "    callbacks=[lgb.early_stopping(stopping_rounds=5)],\n",
    ")"
   ]
  },
  {
   "cell_type": "code",
   "execution_count": 31,
   "id": "792899a7",
   "metadata": {},
   "outputs": [],
   "source": [
    "y_pred_train = gbm.predict(X_train_random_split, num_iteration=gbm.best_iteration)\n",
    "y_pred_test = gbm.predict(X_test_random_split, num_iteration=gbm.best_iteration)"
   ]
  },
  {
   "cell_type": "code",
   "execution_count": 32,
   "id": "92e8b92d",
   "metadata": {},
   "outputs": [
    {
     "name": "stdout",
     "output_type": "stream",
     "text": [
      "MSE: 0.14\n",
      "RMSE: 0.37\n",
      "MAE: 0.25\n"
     ]
    }
   ],
   "source": [
    "from sklearn.metrics import mean_squared_error, mean_absolute_error\n",
    "\n",
    "\n",
    "mse = mean_squared_error(y_test_random_split, y_pred_test)\n",
    "rmse = mean_squared_error(y_test_random_split, y_pred_test, squared=False)\n",
    "mae = mean_absolute_error(y_test_random_split, y_pred_test)\n",
    "\n",
    "print(f\"MSE: {mse:.2f}\")\n",
    "print(f\"RMSE: {rmse:.2f}\")\n",
    "print(f\"MAE: {mae:.2f}\")"
   ]
  },
  {
   "cell_type": "code",
   "execution_count": 33,
   "id": "e9b9f08d",
   "metadata": {},
   "outputs": [],
   "source": [
    "results.loc[2] = [\"random\", \"normal\", len(X_test.columns), mse, rmse, mae]"
   ]
  },
  {
   "cell_type": "markdown",
   "id": "e2f3fc5d",
   "metadata": {},
   "source": [
    "###### MAE by level"
   ]
  },
  {
   "cell_type": "code",
   "execution_count": 34,
   "id": "591c040e",
   "metadata": {},
   "outputs": [
    {
     "data": {
      "image/png": "[encoded data removed]",
      "text/plain": [
       "<Figure size 720x432 with 1 Axes>"
      ]
     },
     "metadata": {
      "needs_background": "light"
     },
     "output_type": "display_data"
    }
   ],
   "source": [
    "plot_mae_by_level(y_test_random_split, y_pred_test)"
   ]
  },
  {
   "cell_type": "code",
   "execution_count": 35,
   "id": "2122d102",
   "metadata": {
    "scrolled": true
   },
   "outputs": [
    {
     "name": "stdout",
     "output_type": "stream",
     "text": [
      "Normal:\n",
      "MSE: 0.14\n",
      "RMSE: 0.37\n",
      "\n",
      "Round type: round\n",
      "MSE: 0.14\n",
      "RMSE: 0.38\n",
      "\n",
      "Round type: 0.33\n",
      "MSE: 0.19\n",
      "RMSE: 0.43\n",
      "\n",
      "Round type: 0.45\n",
      "MSE: 0.15\n",
      "RMSE: 0.38\n",
      "\n"
     ]
    }
   ],
   "source": [
    "check_round_predictions([\"round\", 0.33, 0.45], y_test_random_split, y_pred_test)"
   ]
  },
  {
   "cell_type": "code",
   "execution_count": 36,
   "id": "3b4c77ab",
   "metadata": {},
   "outputs": [
    {
     "data": {
      "image/png": "[encoded data removed]",
      "text/plain": [
       "<Figure size 432x288 with 2 Axes>"
      ]
     },
     "metadata": {
      "needs_background": "light"
     },
     "output_type": "display_data"
    }
   ],
   "source": [
    "plot_confusion_matrix(\"round\", y_pred_test, y_test_random_split)"
   ]
  },
  {
   "cell_type": "markdown",
   "id": "295f8eff",
   "metadata": {},
   "source": [
    "### Tuning"
   ]
  },
  {
   "cell_type": "code",
   "execution_count": 37,
   "id": "14fca15b",
   "metadata": {},
   "outputs": [
    {
     "name": "stderr",
     "output_type": "stream",
     "text": [
      "[I 2023-11-03 20:17:12,128] A new study created in memory with name: no-name-b1b2bc5f-ed28-4857-b323-e260b1bd3bdf\n",
      "feature_fraction, val_score: inf:   0%|                                                          | 0/7 [00:00<?, ?it/s]"
     ]
    },
    {
     "name": "stdout",
     "output_type": "stream",
     "text": [
      "Training until validation scores don't improve for 100 rounds\n",
      "[100]\tcv_agg's l2: 0.166357 + 0.0480914\n",
      "[200]\tcv_agg's l2: 0.163345 + 0.046693\n",
      "[300]\tcv_agg's l2: 0.162648 + 0.0459699\n",
      "[400]\tcv_agg's l2: 0.162197 + 0.045978\n",
      "[500]\tcv_agg's l2: 0.161809 + 0.0454161\n",
      "[600]\tcv_agg's l2: 0.161727 + 0.04525\n",
      "[700]\tcv_agg's l2: 0.161429 + 0.0449114\n",
      "[800]\tcv_agg's l2: 0.161424 + 0.0448161\n",
      "[900]\tcv_agg's l2: 0.161353 + 0.0447303\n"
     ]
    },
    {
     "name": "stderr",
     "output_type": "stream",
     "text": [
      "feature_fraction, val_score: 0.161325:  14%|######4                                      | 1/7 [00:06<00:40,  6.79s/it][I 2023-11-03 20:17:18,919] Trial 0 finished with value: 0.16132491552914013 and parameters: {'feature_fraction': 0.6}. Best is trial 0 with value: 0.16132491552914013.\n",
      "feature_fraction, val_score: 0.161325:  14%|######4                                      | 1/7 [00:06<00:40,  6.79s/it]"
     ]
    },
    {
     "name": "stdout",
     "output_type": "stream",
     "text": [
      "Early stopping, best iteration is:\n",
      "[876]\tcv_agg's l2: 0.161325 + 0.0447077\n",
      "[100]\tcv_agg's l2: 0.165378 + 0.0455512\n",
      "[200]\tcv_agg's l2: 0.161328 + 0.0437072\n",
      "[300]\tcv_agg's l2: 0.160235 + 0.0424084\n",
      "[400]\tcv_agg's l2: 0.159959 + 0.0418961\n",
      "[500]\tcv_agg's l2: 0.159718 + 0.0417642\n",
      "[600]\tcv_agg's l2: 0.159657 + 0.0416622\n"
     ]
    },
    {
     "name": "stderr",
     "output_type": "stream",
     "text": [
      "feature_fraction, val_score: 0.159623:  29%|############8                                | 2/7 [00:11<00:26,  5.33s/it][I 2023-11-03 20:17:23,236] Trial 1 finished with value: 0.15962258109822663 and parameters: {'feature_fraction': 0.7}. Best is trial 1 with value: 0.15962258109822663.\n",
      "feature_fraction, val_score: 0.159623:  29%|############8                                | 2/7 [00:11<00:26,  5.33s/it]"
     ]
    },
    {
     "name": "stdout",
     "output_type": "stream",
     "text": [
      "Early stopping, best iteration is:\n",
      "[580]\tcv_agg's l2: 0.159623 + 0.0416001\n",
      "[100]\tcv_agg's l2: 0.151925 + 0.0488314\n",
      "[200]\tcv_agg's l2: 0.147456 + 0.0467522\n",
      "[300]\tcv_agg's l2: 0.146983 + 0.0455379\n",
      "[400]\tcv_agg's l2: 0.146509 + 0.0451902\n",
      "[500]\tcv_agg's l2: 0.146359 + 0.0447353\n",
      "[600]\tcv_agg's l2: 0.146184 + 0.0445006\n",
      "[700]\tcv_agg's l2: 0.14613 + 0.0442065\n"
     ]
    },
    {
     "name": "stderr",
     "output_type": "stream",
     "text": [
      "feature_fraction, val_score: 0.146099:  43%|###################2                         | 3/7 [00:17<00:22,  5.66s/it][I 2023-11-03 20:17:29,285] Trial 2 finished with value: 0.14609896080987506 and parameters: {'feature_fraction': 0.5}. Best is trial 2 with value: 0.14609896080987506.\n",
      "feature_fraction, val_score: 0.146099:  43%|###################2                         | 3/7 [00:17<00:22,  5.66s/it]"
     ]
    },
    {
     "name": "stdout",
     "output_type": "stream",
     "text": [
      "Early stopping, best iteration is:\n",
      "[662]\tcv_agg's l2: 0.146099 + 0.0442605\n",
      "[100]\tcv_agg's l2: 0.173329 + 0.0421214\n",
      "[200]\tcv_agg's l2: 0.16885 + 0.0403238\n",
      "[300]\tcv_agg's l2: 0.16772 + 0.0395197\n",
      "[400]\tcv_agg's l2: 0.16718 + 0.0389958\n",
      "[500]\tcv_agg's l2: 0.167008 + 0.0387596\n",
      "[600]\tcv_agg's l2: 0.167107 + 0.038632\n",
      "[700]\tcv_agg's l2: 0.167086 + 0.0385921\n"
     ]
    },
    {
     "name": "stderr",
     "output_type": "stream",
     "text": [
      "feature_fraction, val_score: 0.146099:  57%|#########################7                   | 4/7 [00:22<00:16,  5.43s/it][I 2023-11-03 20:17:34,357] Trial 3 finished with value: 0.16713177112229832 and parameters: {'feature_fraction': 1.0}. Best is trial 2 with value: 0.14609896080987506.\n",
      "feature_fraction, val_score: 0.146099:  57%|#########################7                   | 4/7 [00:22<00:16,  5.43s/it]"
     ]
    },
    {
     "name": "stdout",
     "output_type": "stream",
     "text": [
      "Early stopping, best iteration is:\n",
      "[662]\tcv_agg's l2: 0.146099 + 0.0442605\n",
      "[100]\tcv_agg's l2: 0.174998 + 0.0457681\n",
      "[200]\tcv_agg's l2: 0.170824 + 0.0441309\n",
      "[300]\tcv_agg's l2: 0.16946 + 0.0428201\n",
      "[400]\tcv_agg's l2: 0.168977 + 0.0424554\n",
      "[500]\tcv_agg's l2: 0.168729 + 0.0419182\n",
      "[600]\tcv_agg's l2: 0.168706 + 0.0416716\n",
      "[700]\tcv_agg's l2: 0.168588 + 0.0415007\n"
     ]
    },
    {
     "name": "stderr",
     "output_type": "stream",
     "text": [
      "feature_fraction, val_score: 0.146099:  71%|################################1            | 5/7 [00:27<00:10,  5.25s/it][I 2023-11-03 20:17:39,297] Trial 4 finished with value: 0.16864316955877948 and parameters: {'feature_fraction': 0.8}. Best is trial 2 with value: 0.14609896080987506.\n",
      "feature_fraction, val_score: 0.146099:  71%|################################1            | 5/7 [00:27<00:10,  5.25s/it]"
     ]
    },
    {
     "name": "stdout",
     "output_type": "stream",
     "text": [
      "Early stopping, best iteration is:\n",
      "[662]\tcv_agg's l2: 0.146099 + 0.0442605\n",
      "[100]\tcv_agg's l2: 0.145309 + 0.0415008\n",
      "[200]\tcv_agg's l2: 0.142126 + 0.0388462\n",
      "[300]\tcv_agg's l2: 0.140288 + 0.0380098\n",
      "[400]\tcv_agg's l2: 0.139935 + 0.0372789\n",
      "[500]\tcv_agg's l2: 0.139622 + 0.0366936\n",
      "[600]\tcv_agg's l2: 0.139381 + 0.0364637\n"
     ]
    },
    {
     "name": "stderr",
     "output_type": "stream",
     "text": [
      "feature_fraction, val_score: 0.139355:  86%|######################################5      | 6/7 [00:33<00:05,  5.67s/it][I 2023-11-03 20:17:45,788] Trial 5 finished with value: 0.13935532567945605 and parameters: {'feature_fraction': 0.4}. Best is trial 5 with value: 0.13935532567945605.\n",
      "feature_fraction, val_score: 0.139355:  86%|######################################5      | 6/7 [00:33<00:05,  5.67s/it]"
     ]
    },
    {
     "name": "stdout",
     "output_type": "stream",
     "text": [
      "[700]\tcv_agg's l2: 0.139405 + 0.0362546\n",
      "Early stopping, best iteration is:\n",
      "[618]\tcv_agg's l2: 0.139355 + 0.0363977\n",
      "[100]\tcv_agg's l2: 0.178638 + 0.0445067\n",
      "[200]\tcv_agg's l2: 0.17238 + 0.0429635\n",
      "[300]\tcv_agg's l2: 0.171305 + 0.0418539\n",
      "[400]\tcv_agg's l2: 0.17091 + 0.0413865\n",
      "[500]\tcv_agg's l2: 0.170714 + 0.0411266\n",
      "[600]\tcv_agg's l2: 0.170757 + 0.0410647\n"
     ]
    },
    {
     "name": "stderr",
     "output_type": "stream",
     "text": [
      "feature_fraction, val_score: 0.139355: 100%|#############################################| 7/7 [00:39<00:00,  5.74s/it][I 2023-11-03 20:17:51,653] Trial 6 finished with value: 0.17072084968505474 and parameters: {'feature_fraction': 0.8999999999999999}. Best is trial 5 with value: 0.13935532567945605.\n",
      "feature_fraction, val_score: 0.139355: 100%|#############################################| 7/7 [00:39<00:00,  5.65s/it]\n"
     ]
    },
    {
     "name": "stdout",
     "output_type": "stream",
     "text": [
      "[700]\tcv_agg's l2: 0.170576 + 0.0408787\n",
      "Early stopping, best iteration is:\n",
      "[618]\tcv_agg's l2: 0.139355 + 0.0363977\n"
     ]
    },
    {
     "name": "stderr",
     "output_type": "stream",
     "text": [
      "num_leaves, val_score: 0.139355:   0%|                                                          | 0/20 [00:00<?, ?it/s]"
     ]
    },
    {
     "name": "stdout",
     "output_type": "stream",
     "text": [
      "[100]\tcv_agg's l2: 0.143685 + 0.0439396\n",
      "[200]\tcv_agg's l2: 0.138441 + 0.0395829\n",
      "[300]\tcv_agg's l2: 0.136711 + 0.0390941\n",
      "[400]\tcv_agg's l2: 0.136541 + 0.0387271\n",
      "[500]\tcv_agg's l2: 0.136417 + 0.0385473\n",
      "[600]\tcv_agg's l2: 0.136324 + 0.0380521\n"
     ]
    },
    {
     "name": "stderr",
     "output_type": "stream",
     "text": [
      "num_leaves, val_score: 0.136198:   5%|##5                                               | 1/20 [00:03<01:07,  3.54s/it][I 2023-11-03 20:17:55,200] Trial 7 finished with value: 0.13619830081307635 and parameters: {'num_leaves': 18}. Best is trial 7 with value: 0.13619830081307635.\n",
      "num_leaves, val_score: 0.136198:   5%|##5                                               | 1/20 [00:03<01:07,  3.54s/it]"
     ]
    },
    {
     "name": "stdout",
     "output_type": "stream",
     "text": [
      "Early stopping, best iteration is:\n",
      "[573]\tcv_agg's l2: 0.136198 + 0.038048\n",
      "[100]\tcv_agg's l2: 0.145309 + 0.0415008\n",
      "[200]\tcv_agg's l2: 0.142126 + 0.0388462\n",
      "[300]\tcv_agg's l2: 0.140288 + 0.0380098\n",
      "[400]\tcv_agg's l2: 0.139935 + 0.0372789\n",
      "[500]\tcv_agg's l2: 0.139622 + 0.0366936\n",
      "[600]\tcv_agg's l2: 0.139381 + 0.0364637\n"
     ]
    },
    {
     "name": "stderr",
     "output_type": "stream",
     "text": [
      "num_leaves, val_score: 0.136198:  10%|#####                                             | 2/20 [00:08<01:19,  4.42s/it][I 2023-11-03 20:18:00,232] Trial 8 finished with value: 0.13941803688564064 and parameters: {'num_leaves': 139}. Best is trial 7 with value: 0.13619830081307635.\n",
      "num_leaves, val_score: 0.136198:  10%|#####                                             | 2/20 [00:08<01:19,  4.42s/it]"
     ]
    },
    {
     "name": "stdout",
     "output_type": "stream",
     "text": [
      "Early stopping, best iteration is:\n",
      "[573]\tcv_agg's l2: 0.136198 + 0.038048\n",
      "[100]\tcv_agg's l2: 0.145309 + 0.0415008\n",
      "[200]\tcv_agg's l2: 0.142126 + 0.0388462\n",
      "[300]\tcv_agg's l2: 0.140288 + 0.0380098\n",
      "[400]\tcv_agg's l2: 0.139935 + 0.0372789\n",
      "[500]\tcv_agg's l2: 0.139622 + 0.0366936\n",
      "[600]\tcv_agg's l2: 0.139381 + 0.0364637\n"
     ]
    },
    {
     "name": "stderr",
     "output_type": "stream",
     "text": [
      "num_leaves, val_score: 0.136198:  15%|#######5                                          | 3/20 [00:14<01:24,  4.97s/it][I 2023-11-03 20:18:05,861] Trial 9 finished with value: 0.13941803688564064 and parameters: {'num_leaves': 111}. Best is trial 7 with value: 0.13619830081307635.\n",
      "num_leaves, val_score: 0.136198:  15%|#######5                                          | 3/20 [00:14<01:24,  4.97s/it]"
     ]
    },
    {
     "name": "stdout",
     "output_type": "stream",
     "text": [
      "Early stopping, best iteration is:\n",
      "[573]\tcv_agg's l2: 0.136198 + 0.038048\n",
      "[100]\tcv_agg's l2: 0.173841 + 0.0476013\n",
      "[200]\tcv_agg's l2: 0.161048 + 0.042321\n",
      "[300]\tcv_agg's l2: 0.153993 + 0.0396855\n",
      "[400]\tcv_agg's l2: 0.151035 + 0.0389615\n",
      "[500]\tcv_agg's l2: 0.147398 + 0.0363923\n",
      "[600]\tcv_agg's l2: 0.146092 + 0.0359014\n"
     ]
    },
    {
     "name": "stderr",
     "output_type": "stream",
     "text": [
      "num_leaves, val_score: 0.136198:  20%|##########                                        | 4/20 [00:16<01:01,  3.86s/it][I 2023-11-03 20:18:08,006] Trial 10 finished with value: 0.1465320315461183 and parameters: {'num_leaves': 6}. Best is trial 7 with value: 0.13619830081307635.\n",
      "num_leaves, val_score: 0.136198:  20%|##########                                        | 4/20 [00:16<01:01,  3.86s/it]"
     ]
    },
    {
     "name": "stdout",
     "output_type": "stream",
     "text": [
      "Early stopping, best iteration is:\n",
      "[573]\tcv_agg's l2: 0.136198 + 0.038048\n",
      "[100]\tcv_agg's l2: 0.194921 + 0.052315\n",
      "[200]\tcv_agg's l2: 0.175089 + 0.0499995\n",
      "[300]\tcv_agg's l2: 0.165757 + 0.0465672\n",
      "[400]\tcv_agg's l2: 0.160136 + 0.043795\n",
      "[500]\tcv_agg's l2: 0.155687 + 0.0421242\n"
     ]
    },
    {
     "name": "stderr",
     "output_type": "stream",
     "text": [
      "\r",
      "num_leaves, val_score: 0.136198:  20%|##########                                        | 4/20 [00:18<01:01,  3.86s/it]"
     ]
    },
    {
     "name": "stdout",
     "output_type": "stream",
     "text": [
      "[600]\tcv_agg's l2: 0.153265 + 0.0409104\n",
      "Early stopping, best iteration is:\n",
      "[573]\tcv_agg's l2: 0.136198 + 0.038048\n"
     ]
    },
    {
     "name": "stderr",
     "output_type": "stream",
     "text": [
      "num_leaves, val_score: 0.136198:  25%|############5                                     | 5/20 [00:18<00:46,  3.13s/it][I 2023-11-03 20:18:09,837] Trial 11 finished with value: 0.15425406352681215 and parameters: {'num_leaves': 4}. Best is trial 7 with value: 0.13619830081307635.\n",
      "num_leaves, val_score: 0.136198:  25%|############5                                     | 5/20 [00:18<00:46,  3.13s/it]"
     ]
    },
    {
     "name": "stdout",
     "output_type": "stream",
     "text": [
      "[100]\tcv_agg's l2: 0.145309 + 0.0415008\n",
      "[200]\tcv_agg's l2: 0.142126 + 0.0388462\n",
      "[300]\tcv_agg's l2: 0.140288 + 0.0380098\n",
      "[400]\tcv_agg's l2: 0.139935 + 0.0372789\n",
      "[500]\tcv_agg's l2: 0.139622 + 0.0366936\n",
      "[600]\tcv_agg's l2: 0.139381 + 0.0364637\n"
     ]
    },
    {
     "name": "stderr",
     "output_type": "stream",
     "text": [
      "num_leaves, val_score: 0.136198:  30%|###############                                   | 6/20 [00:24<00:58,  4.21s/it][I 2023-11-03 20:18:16,149] Trial 12 finished with value: 0.13941803688564064 and parameters: {'num_leaves': 254}. Best is trial 7 with value: 0.13619830081307635.\n",
      "num_leaves, val_score: 0.136198:  30%|###############                                   | 6/20 [00:24<00:58,  4.21s/it]"
     ]
    },
    {
     "name": "stdout",
     "output_type": "stream",
     "text": [
      "Early stopping, best iteration is:\n",
      "[573]\tcv_agg's l2: 0.136198 + 0.038048\n",
      "[100]\tcv_agg's l2: 0.145309 + 0.0415008\n",
      "[200]\tcv_agg's l2: 0.142126 + 0.0388462\n",
      "[300]\tcv_agg's l2: 0.140288 + 0.0380098\n",
      "[400]\tcv_agg's l2: 0.139935 + 0.0372789\n",
      "[500]\tcv_agg's l2: 0.139622 + 0.0366936\n",
      "[600]\tcv_agg's l2: 0.139381 + 0.0364637\n"
     ]
    },
    {
     "name": "stderr",
     "output_type": "stream",
     "text": [
      "num_leaves, val_score: 0.136198:  35%|#################5                                | 7/20 [00:32<01:09,  5.31s/it][I 2023-11-03 20:18:23,722] Trial 13 finished with value: 0.13941803688564064 and parameters: {'num_leaves': 85}. Best is trial 7 with value: 0.13619830081307635.\n",
      "num_leaves, val_score: 0.136198:  35%|#################5                                | 7/20 [00:32<01:09,  5.31s/it]"
     ]
    },
    {
     "name": "stdout",
     "output_type": "stream",
     "text": [
      "Early stopping, best iteration is:\n",
      "[573]\tcv_agg's l2: 0.136198 + 0.038048\n",
      "[100]\tcv_agg's l2: 0.145309 + 0.0415008\n",
      "[200]\tcv_agg's l2: 0.142126 + 0.0388462\n",
      "[300]\tcv_agg's l2: 0.140288 + 0.0380098\n",
      "[400]\tcv_agg's l2: 0.139935 + 0.0372789\n",
      "[500]\tcv_agg's l2: 0.139622 + 0.0366936\n",
      "[600]\tcv_agg's l2: 0.139381 + 0.0364637\n"
     ]
    },
    {
     "name": "stderr",
     "output_type": "stream",
     "text": [
      "num_leaves, val_score: 0.136198:  40%|####################                              | 8/20 [00:38<01:09,  5.81s/it][I 2023-11-03 20:18:30,596] Trial 14 finished with value: 0.13941803688564064 and parameters: {'num_leaves': 201}. Best is trial 7 with value: 0.13619830081307635.\n",
      "num_leaves, val_score: 0.136198:  40%|####################                              | 8/20 [00:38<01:09,  5.81s/it]"
     ]
    },
    {
     "name": "stdout",
     "output_type": "stream",
     "text": [
      "Early stopping, best iteration is:\n",
      "[573]\tcv_agg's l2: 0.136198 + 0.038048\n",
      "[100]\tcv_agg's l2: 0.145309 + 0.0415008\n",
      "[200]\tcv_agg's l2: 0.142126 + 0.0388462\n",
      "[300]\tcv_agg's l2: 0.140288 + 0.0380098\n",
      "[400]\tcv_agg's l2: 0.139935 + 0.0372789\n",
      "[500]\tcv_agg's l2: 0.139622 + 0.0366936\n",
      "[600]\tcv_agg's l2: 0.139381 + 0.0364637\n"
     ]
    },
    {
     "name": "stderr",
     "output_type": "stream",
     "text": [
      "num_leaves, val_score: 0.136198:  45%|######################5                           | 9/20 [00:45<01:06,  6.02s/it][I 2023-11-03 20:18:37,071] Trial 15 finished with value: 0.13941803688564064 and parameters: {'num_leaves': 59}. Best is trial 7 with value: 0.13619830081307635.\n",
      "num_leaves, val_score: 0.136198:  45%|######################5                           | 9/20 [00:45<01:06,  6.02s/it]"
     ]
    },
    {
     "name": "stdout",
     "output_type": "stream",
     "text": [
      "Early stopping, best iteration is:\n",
      "[573]\tcv_agg's l2: 0.136198 + 0.038048\n",
      "[100]\tcv_agg's l2: 0.145309 + 0.0415008\n",
      "[200]\tcv_agg's l2: 0.142126 + 0.0388462\n",
      "[300]\tcv_agg's l2: 0.140288 + 0.0380098\n",
      "[400]\tcv_agg's l2: 0.139935 + 0.0372789\n",
      "[500]\tcv_agg's l2: 0.139622 + 0.0366936\n",
      "[600]\tcv_agg's l2: 0.139381 + 0.0364637\n"
     ]
    },
    {
     "name": "stderr",
     "output_type": "stream",
     "text": [
      "num_leaves, val_score: 0.136198:  50%|########################5                        | 10/20 [00:50<00:57,  5.77s/it][I 2023-11-03 20:18:42,287] Trial 16 finished with value: 0.13941803688564064 and parameters: {'num_leaves': 162}. Best is trial 7 with value: 0.13619830081307635.\n",
      "num_leaves, val_score: 0.136198:  50%|########################5                        | 10/20 [00:50<00:57,  5.77s/it]"
     ]
    },
    {
     "name": "stdout",
     "output_type": "stream",
     "text": [
      "Early stopping, best iteration is:\n",
      "[573]\tcv_agg's l2: 0.136198 + 0.038048\n",
      "[100]\tcv_agg's l2: 0.145309 + 0.0415008\n",
      "[200]\tcv_agg's l2: 0.142126 + 0.0388462\n",
      "[300]\tcv_agg's l2: 0.140288 + 0.0380098\n",
      "[400]\tcv_agg's l2: 0.139935 + 0.0372789\n",
      "[500]\tcv_agg's l2: 0.139622 + 0.0366936\n",
      "[600]\tcv_agg's l2: 0.139381 + 0.0364637\n"
     ]
    },
    {
     "name": "stderr",
     "output_type": "stream",
     "text": [
      "num_leaves, val_score: 0.136198:  55%|##########################9                      | 11/20 [00:55<00:49,  5.46s/it][I 2023-11-03 20:18:47,034] Trial 17 finished with value: 0.13941803688564064 and parameters: {'num_leaves': 48}. Best is trial 7 with value: 0.13619830081307635.\n",
      "num_leaves, val_score: 0.136198:  55%|##########################9                      | 11/20 [00:55<00:49,  5.46s/it]"
     ]
    },
    {
     "name": "stdout",
     "output_type": "stream",
     "text": [
      "Early stopping, best iteration is:\n",
      "[573]\tcv_agg's l2: 0.136198 + 0.038048\n",
      "[100]\tcv_agg's l2: 0.145309 + 0.0415008\n",
      "[200]\tcv_agg's l2: 0.142126 + 0.0388462\n",
      "[300]\tcv_agg's l2: 0.140288 + 0.0380098\n",
      "[400]\tcv_agg's l2: 0.139935 + 0.0372789\n",
      "[500]\tcv_agg's l2: 0.139622 + 0.0366936\n",
      "[600]\tcv_agg's l2: 0.139381 + 0.0364637\n"
     ]
    },
    {
     "name": "stderr",
     "output_type": "stream",
     "text": [
      "num_leaves, val_score: 0.136198:  60%|#############################4                   | 12/20 [01:00<00:41,  5.24s/it][I 2023-11-03 20:18:51,768] Trial 18 finished with value: 0.13941803688564064 and parameters: {'num_leaves': 46}. Best is trial 7 with value: 0.13619830081307635.\n",
      "num_leaves, val_score: 0.136198:  60%|#############################4                   | 12/20 [01:00<00:41,  5.24s/it]"
     ]
    },
    {
     "name": "stdout",
     "output_type": "stream",
     "text": [
      "Early stopping, best iteration is:\n",
      "[573]\tcv_agg's l2: 0.136198 + 0.038048\n",
      "[100]\tcv_agg's l2: 0.145309 + 0.0415008\n",
      "[200]\tcv_agg's l2: 0.142126 + 0.0388462\n",
      "[300]\tcv_agg's l2: 0.140288 + 0.0380098\n",
      "[400]\tcv_agg's l2: 0.139935 + 0.0372789\n",
      "[500]\tcv_agg's l2: 0.139622 + 0.0366936\n",
      "[600]\tcv_agg's l2: 0.139381 + 0.0364637\n"
     ]
    },
    {
     "name": "stderr",
     "output_type": "stream",
     "text": [
      "num_leaves, val_score: 0.136198:  65%|###############################8                 | 13/20 [01:05<00:36,  5.19s/it][I 2023-11-03 20:18:56,859] Trial 19 finished with value: 0.13941803688564064 and parameters: {'num_leaves': 176}. Best is trial 7 with value: 0.13619830081307635.\n",
      "num_leaves, val_score: 0.136198:  65%|###############################8                 | 13/20 [01:05<00:36,  5.19s/it]"
     ]
    },
    {
     "name": "stdout",
     "output_type": "stream",
     "text": [
      "Early stopping, best iteration is:\n",
      "[573]\tcv_agg's l2: 0.136198 + 0.038048\n",
      "[100]\tcv_agg's l2: 0.145309 + 0.0415008\n",
      "[200]\tcv_agg's l2: 0.142126 + 0.0388462\n",
      "[300]\tcv_agg's l2: 0.140288 + 0.0380098\n",
      "[400]\tcv_agg's l2: 0.139935 + 0.0372789\n",
      "[500]\tcv_agg's l2: 0.139622 + 0.0366936\n",
      "[600]\tcv_agg's l2: 0.139381 + 0.0364637\n"
     ]
    },
    {
     "name": "stderr",
     "output_type": "stream",
     "text": [
      "num_leaves, val_score: 0.136198:  70%|##################################3              | 14/20 [01:09<00:30,  5.02s/it][I 2023-11-03 20:19:01,493] Trial 20 finished with value: 0.13941803688564064 and parameters: {'num_leaves': 101}. Best is trial 7 with value: 0.13619830081307635.\n",
      "num_leaves, val_score: 0.136198:  70%|##################################3              | 14/20 [01:09<00:30,  5.02s/it]"
     ]
    },
    {
     "name": "stdout",
     "output_type": "stream",
     "text": [
      "Early stopping, best iteration is:\n",
      "[573]\tcv_agg's l2: 0.136198 + 0.038048\n",
      "[100]\tcv_agg's l2: 0.145309 + 0.0415008\n",
      "[200]\tcv_agg's l2: 0.142126 + 0.0388462\n",
      "[300]\tcv_agg's l2: 0.140288 + 0.0380098\n",
      "[400]\tcv_agg's l2: 0.139935 + 0.0372789\n",
      "[500]\tcv_agg's l2: 0.139622 + 0.0366936\n",
      "[600]\tcv_agg's l2: 0.139381 + 0.0364637\n"
     ]
    },
    {
     "name": "stderr",
     "output_type": "stream",
     "text": [
      "num_leaves, val_score: 0.136198:  75%|####################################7            | 15/20 [01:14<00:24,  4.91s/it][I 2023-11-03 20:19:06,152] Trial 21 finished with value: 0.13941803688564064 and parameters: {'num_leaves': 140}. Best is trial 7 with value: 0.13619830081307635.\n",
      "num_leaves, val_score: 0.136198:  75%|####################################7            | 15/20 [01:14<00:24,  4.91s/it]"
     ]
    },
    {
     "name": "stdout",
     "output_type": "stream",
     "text": [
      "Early stopping, best iteration is:\n",
      "[573]\tcv_agg's l2: 0.136198 + 0.038048\n",
      "[100]\tcv_agg's l2: 0.145309 + 0.0415008\n",
      "[200]\tcv_agg's l2: 0.142126 + 0.0388462\n",
      "[300]\tcv_agg's l2: 0.140288 + 0.0380098\n",
      "[400]\tcv_agg's l2: 0.139935 + 0.0372789\n",
      "[500]\tcv_agg's l2: 0.139622 + 0.0366936\n",
      "[600]\tcv_agg's l2: 0.139381 + 0.0364637\n"
     ]
    },
    {
     "name": "stderr",
     "output_type": "stream",
     "text": [
      "num_leaves, val_score: 0.136198:  80%|#######################################2         | 16/20 [01:19<00:20,  5.02s/it][I 2023-11-03 20:19:11,426] Trial 22 finished with value: 0.13941803688564064 and parameters: {'num_leaves': 203}. Best is trial 7 with value: 0.13619830081307635.\n",
      "num_leaves, val_score: 0.136198:  80%|#######################################2         | 16/20 [01:19<00:20,  5.02s/it]"
     ]
    },
    {
     "name": "stdout",
     "output_type": "stream",
     "text": [
      "Early stopping, best iteration is:\n",
      "[573]\tcv_agg's l2: 0.136198 + 0.038048\n",
      "[100]\tcv_agg's l2: 0.145309 + 0.0415008\n",
      "[200]\tcv_agg's l2: 0.142126 + 0.0388462\n",
      "[300]\tcv_agg's l2: 0.140288 + 0.0380098\n",
      "[400]\tcv_agg's l2: 0.139935 + 0.0372789\n",
      "[500]\tcv_agg's l2: 0.139622 + 0.0366936\n",
      "[600]\tcv_agg's l2: 0.139381 + 0.0364637\n"
     ]
    },
    {
     "name": "stderr",
     "output_type": "stream",
     "text": [
      "num_leaves, val_score: 0.136198:  85%|#########################################6       | 17/20 [01:24<00:14,  4.95s/it][I 2023-11-03 20:19:16,196] Trial 23 finished with value: 0.13941803688564064 and parameters: {'num_leaves': 133}. Best is trial 7 with value: 0.13619830081307635.\n",
      "num_leaves, val_score: 0.136198:  85%|#########################################6       | 17/20 [01:24<00:14,  4.95s/it]"
     ]
    },
    {
     "name": "stdout",
     "output_type": "stream",
     "text": [
      "Early stopping, best iteration is:\n",
      "[573]\tcv_agg's l2: 0.136198 + 0.038048\n",
      "[100]\tcv_agg's l2: 0.145309 + 0.0415008\n",
      "[200]\tcv_agg's l2: 0.142126 + 0.0388462\n",
      "[300]\tcv_agg's l2: 0.140288 + 0.0380098\n",
      "[400]\tcv_agg's l2: 0.139935 + 0.0372789\n",
      "[500]\tcv_agg's l2: 0.139622 + 0.0366936\n",
      "[600]\tcv_agg's l2: 0.139381 + 0.0364637\n"
     ]
    },
    {
     "name": "stderr",
     "output_type": "stream",
     "text": [
      "num_leaves, val_score: 0.136198:  90%|############################################1    | 18/20 [01:29<00:09,  4.81s/it][I 2023-11-03 20:19:20,697] Trial 24 finished with value: 0.13941803688564064 and parameters: {'num_leaves': 75}. Best is trial 7 with value: 0.13619830081307635.\n",
      "num_leaves, val_score: 0.136198:  90%|############################################1    | 18/20 [01:29<00:09,  4.81s/it]"
     ]
    },
    {
     "name": "stdout",
     "output_type": "stream",
     "text": [
      "Early stopping, best iteration is:\n",
      "[573]\tcv_agg's l2: 0.136198 + 0.038048\n",
      "[100]\tcv_agg's l2: 0.145309 + 0.0415008\n",
      "[200]\tcv_agg's l2: 0.142126 + 0.0388462\n",
      "[300]\tcv_agg's l2: 0.140288 + 0.0380098\n",
      "[400]\tcv_agg's l2: 0.139935 + 0.0372789\n",
      "[500]\tcv_agg's l2: 0.139622 + 0.0366936\n",
      "[600]\tcv_agg's l2: 0.139381 + 0.0364637\n"
     ]
    },
    {
     "name": "stderr",
     "output_type": "stream",
     "text": [
      "num_leaves, val_score: 0.136198:  95%|##############################################5  | 19/20 [01:34<00:04,  4.94s/it][I 2023-11-03 20:19:25,929] Trial 25 finished with value: 0.13941803688564064 and parameters: {'num_leaves': 253}. Best is trial 7 with value: 0.13619830081307635.\n",
      "num_leaves, val_score: 0.136198:  95%|##############################################5  | 19/20 [01:34<00:04,  4.94s/it]"
     ]
    },
    {
     "name": "stdout",
     "output_type": "stream",
     "text": [
      "Early stopping, best iteration is:\n",
      "[573]\tcv_agg's l2: 0.136198 + 0.038048\n",
      "[100]\tcv_agg's l2: 0.145092 + 0.0408379\n",
      "[200]\tcv_agg's l2: 0.141161 + 0.036965\n",
      "[300]\tcv_agg's l2: 0.139492 + 0.0358003\n",
      "[400]\tcv_agg's l2: 0.139027 + 0.0354873\n",
      "[500]\tcv_agg's l2: 0.138876 + 0.0352323\n",
      "[600]\tcv_agg's l2: 0.138747 + 0.0350773\n"
     ]
    },
    {
     "name": "stderr",
     "output_type": "stream",
     "text": [
      "num_leaves, val_score: 0.136198: 100%|#################################################| 20/20 [01:39<00:00,  4.96s/it][I 2023-11-03 20:19:30,954] Trial 26 finished with value: 0.1387169699507912 and parameters: {'num_leaves': 29}. Best is trial 7 with value: 0.13619830081307635.\n",
      "num_leaves, val_score: 0.136198: 100%|#################################################| 20/20 [01:39<00:00,  4.96s/it]\n"
     ]
    },
    {
     "name": "stdout",
     "output_type": "stream",
     "text": [
      "Early stopping, best iteration is:\n",
      "[573]\tcv_agg's l2: 0.136198 + 0.038048\n"
     ]
    },
    {
     "name": "stderr",
     "output_type": "stream",
     "text": [
      "bagging, val_score: 0.136198:   0%|                                                             | 0/10 [00:00<?, ?it/s]"
     ]
    },
    {
     "name": "stdout",
     "output_type": "stream",
     "text": [
      "[100]\tcv_agg's l2: 0.161986 + 0.0349733\n",
      "[200]\tcv_agg's l2: 0.155217 + 0.0349643\n",
      "[300]\tcv_agg's l2: 0.151515 + 0.035878\n",
      "[400]\tcv_agg's l2: 0.150838 + 0.0355286\n",
      "[500]\tcv_agg's l2: 0.149934 + 0.0349055\n",
      "[600]\tcv_agg's l2: 0.149632 + 0.0358305\n"
     ]
    },
    {
     "name": "stderr",
     "output_type": "stream",
     "text": [
      "bagging, val_score: 0.136198:  10%|#####3                                               | 1/10 [00:03<00:35,  3.95s/it][I 2023-11-03 20:19:34,908] Trial 27 finished with value: 0.14970108678839672 and parameters: {'bagging_fraction': 0.7380369714533402, 'bagging_freq': 4}. Best is trial 27 with value: 0.14970108678839672.\n",
      "bagging, val_score: 0.136198:  10%|#####3                                               | 1/10 [00:03<00:35,  3.95s/it]"
     ]
    },
    {
     "name": "stdout",
     "output_type": "stream",
     "text": [
      "Early stopping, best iteration is:\n",
      "[573]\tcv_agg's l2: 0.136198 + 0.038048\n",
      "[100]\tcv_agg's l2: 0.196163 + 0.0407442\n",
      "[200]\tcv_agg's l2: 0.179315 + 0.0311347\n",
      "[300]\tcv_agg's l2: 0.175935 + 0.0306742\n",
      "[400]\tcv_agg's l2: 0.172125 + 0.0289815\n",
      "[500]\tcv_agg's l2: 0.171862 + 0.0296941\n",
      "[600]\tcv_agg's l2: 0.168918 + 0.031414\n"
     ]
    },
    {
     "name": "stderr",
     "output_type": "stream",
     "text": [
      "bagging, val_score: 0.136198:  20%|##########6                                          | 2/10 [00:06<00:25,  3.14s/it][I 2023-11-03 20:19:37,491] Trial 28 finished with value: 0.17117280606675947 and parameters: {'bagging_fraction': 0.4470561869366163, 'bagging_freq': 7}. Best is trial 27 with value: 0.14970108678839672.\n",
      "bagging, val_score: 0.136198:  20%|##########6                                          | 2/10 [00:06<00:25,  3.14s/it]"
     ]
    },
    {
     "name": "stdout",
     "output_type": "stream",
     "text": [
      "Early stopping, best iteration is:\n",
      "[573]\tcv_agg's l2: 0.136198 + 0.038048\n",
      "[100]\tcv_agg's l2: 0.143781 + 0.0425554\n",
      "[200]\tcv_agg's l2: 0.139233 + 0.0399814\n",
      "[300]\tcv_agg's l2: 0.137051 + 0.0393555\n",
      "[400]\tcv_agg's l2: 0.13658 + 0.0386994\n",
      "[500]\tcv_agg's l2: 0.136472 + 0.038411\n",
      "[600]\tcv_agg's l2: 0.136327 + 0.0381541\n",
      "[700]\tcv_agg's l2: 0.136204 + 0.0379752\n"
     ]
    },
    {
     "name": "stderr",
     "output_type": "stream",
     "text": [
      "bagging, val_score: 0.136101:  30%|###############9                                     | 3/10 [00:10<00:25,  3.59s/it][I 2023-11-03 20:19:41,602] Trial 29 finished with value: 0.13610064405200067 and parameters: {'bagging_fraction': 0.9941147101435768, 'bagging_freq': 1}. Best is trial 29 with value: 0.13610064405200067.\n",
      "bagging, val_score: 0.136101:  30%|###############9                                     | 3/10 [00:10<00:25,  3.59s/it]"
     ]
    },
    {
     "name": "stdout",
     "output_type": "stream",
     "text": [
      "[800]\tcv_agg's l2: 0.136238 + 0.0377753\n",
      "Early stopping, best iteration is:\n",
      "[727]\tcv_agg's l2: 0.136101 + 0.0378661\n",
      "[100]\tcv_agg's l2: 0.143685 + 0.0439396\n",
      "[200]\tcv_agg's l2: 0.138441 + 0.0395829\n",
      "[300]\tcv_agg's l2: 0.136711 + 0.0390941\n",
      "[400]\tcv_agg's l2: 0.136541 + 0.0387271\n",
      "[500]\tcv_agg's l2: 0.136417 + 0.0385473\n",
      "[600]\tcv_agg's l2: 0.136324 + 0.0380521\n",
      "[700]\tcv_agg's l2: 0.136378 + 0.0378087\n"
     ]
    },
    {
     "name": "stderr",
     "output_type": "stream",
     "text": [
      "bagging, val_score: 0.136101:  40%|#####################2                               | 4/10 [00:14<00:23,  3.86s/it][I 2023-11-03 20:19:45,882] Trial 30 finished with value: 0.13634364608062527 and parameters: {'bagging_fraction': 0.9990586729271098, 'bagging_freq': 1}. Best is trial 29 with value: 0.13610064405200067.\n",
      "bagging, val_score: 0.136101:  40%|#####################2                               | 4/10 [00:14<00:23,  3.86s/it]"
     ]
    },
    {
     "name": "stdout",
     "output_type": "stream",
     "text": [
      "[800]\tcv_agg's l2: 0.136334 + 0.0373961\n",
      "Early stopping, best iteration is:\n",
      "[727]\tcv_agg's l2: 0.136101 + 0.0378661\n",
      "[100]\tcv_agg's l2: 0.145712 + 0.0412839\n",
      "[200]\tcv_agg's l2: 0.139682 + 0.0380243\n",
      "[300]\tcv_agg's l2: 0.137562 + 0.037506\n",
      "[400]\tcv_agg's l2: 0.137208 + 0.0374055\n",
      "[500]\tcv_agg's l2: 0.13702 + 0.0371894\n",
      "[600]\tcv_agg's l2: 0.136821 + 0.0371044\n",
      "[700]\tcv_agg's l2: 0.136866 + 0.0371404\n"
     ]
    },
    {
     "name": "stderr",
     "output_type": "stream",
     "text": [
      "\r",
      "bagging, val_score: 0.136101:  40%|#####################2                               | 4/10 [00:19<00:23,  3.86s/it]"
     ]
    },
    {
     "name": "stdout",
     "output_type": "stream",
     "text": [
      "[800]\tcv_agg's l2: 0.137015 + 0.0370852\n",
      "Early stopping, best iteration is:\n",
      "[727]\tcv_agg's l2: 0.136101 + 0.0378661\n"
     ]
    },
    {
     "name": "stderr",
     "output_type": "stream",
     "text": [
      "bagging, val_score: 0.136101:  50%|##########################5                          | 5/10 [00:19<00:20,  4.07s/it][I 2023-11-03 20:19:50,335] Trial 31 finished with value: 0.1369554436096205 and parameters: {'bagging_fraction': 0.9981793819976503, 'bagging_freq': 1}. Best is trial 29 with value: 0.13610064405200067.\n",
      "bagging, val_score: 0.136101:  50%|##########################5                          | 5/10 [00:19<00:20,  4.07s/it]"
     ]
    },
    {
     "name": "stdout",
     "output_type": "stream",
     "text": [
      "[100]\tcv_agg's l2: 0.141537 + 0.0423075\n",
      "[200]\tcv_agg's l2: 0.136585 + 0.0398839\n",
      "[300]\tcv_agg's l2: 0.134046 + 0.038107\n",
      "[400]\tcv_agg's l2: 0.133336 + 0.037318\n",
      "[500]\tcv_agg's l2: 0.133049 + 0.0369241\n",
      "[600]\tcv_agg's l2: 0.132882 + 0.0366864\n",
      "[700]\tcv_agg's l2: 0.132721 + 0.036451\n"
     ]
    },
    {
     "name": "stderr",
     "output_type": "stream",
     "text": [
      "bagging, val_score: 0.132643:  60%|###############################8                     | 6/10 [00:23<00:16,  4.16s/it][I 2023-11-03 20:19:54,673] Trial 32 finished with value: 0.1326430349107363 and parameters: {'bagging_fraction': 0.9946149768409821, 'bagging_freq': 1}. Best is trial 32 with value: 0.1326430349107363.\n",
      "bagging, val_score: 0.132643:  60%|###############################8                     | 6/10 [00:23<00:16,  4.16s/it]"
     ]
    },
    {
     "name": "stdout",
     "output_type": "stream",
     "text": [
      "[800]\tcv_agg's l2: 0.13269 + 0.036434\n",
      "Early stopping, best iteration is:\n",
      "[718]\tcv_agg's l2: 0.132643 + 0.03636\n",
      "[100]\tcv_agg's l2: 0.143204 + 0.0410106\n",
      "[200]\tcv_agg's l2: 0.138322 + 0.0389672\n",
      "[300]\tcv_agg's l2: 0.13592 + 0.0375149\n",
      "[400]\tcv_agg's l2: 0.135031 + 0.0368701\n",
      "[500]\tcv_agg's l2: 0.134638 + 0.0368257\n",
      "[600]\tcv_agg's l2: 0.134252 + 0.0363194\n",
      "[700]\tcv_agg's l2: 0.134171 + 0.0363148\n"
     ]
    },
    {
     "name": "stderr",
     "output_type": "stream",
     "text": [
      "bagging, val_score: 0.132643:  70%|#####################################                | 7/10 [00:28<00:12,  4.25s/it][I 2023-11-03 20:19:59,087] Trial 33 finished with value: 0.1341320158959389 and parameters: {'bagging_fraction': 0.9964683128500118, 'bagging_freq': 1}. Best is trial 32 with value: 0.1326430349107363.\n",
      "bagging, val_score: 0.132643:  70%|#####################################                | 7/10 [00:28<00:12,  4.25s/it]"
     ]
    },
    {
     "name": "stdout",
     "output_type": "stream",
     "text": [
      "[800]\tcv_agg's l2: 0.134112 + 0.036056\n",
      "Early stopping, best iteration is:\n",
      "[718]\tcv_agg's l2: 0.132643 + 0.03636\n",
      "[100]\tcv_agg's l2: 0.146641 + 0.0389221\n",
      "[200]\tcv_agg's l2: 0.141574 + 0.0361418\n",
      "[300]\tcv_agg's l2: 0.139541 + 0.0354708\n",
      "[400]\tcv_agg's l2: 0.139176 + 0.0353699\n",
      "[500]\tcv_agg's l2: 0.138753 + 0.0352928\n",
      "[600]\tcv_agg's l2: 0.138736 + 0.0350063\n",
      "[700]\tcv_agg's l2: 0.138849 + 0.034827\n"
     ]
    },
    {
     "name": "stderr",
     "output_type": "stream",
     "text": [
      "bagging, val_score: 0.132643:  80%|##########################################4          | 8/10 [00:32<00:08,  4.32s/it][I 2023-11-03 20:20:03,581] Trial 34 finished with value: 0.13879209589169966 and parameters: {'bagging_fraction': 0.9869621579332559, 'bagging_freq': 1}. Best is trial 32 with value: 0.1326430349107363.\n",
      "bagging, val_score: 0.132643:  80%|##########################################4          | 8/10 [00:32<00:08,  4.32s/it]"
     ]
    },
    {
     "name": "stdout",
     "output_type": "stream",
     "text": [
      "[800]\tcv_agg's l2: 0.138799 + 0.0346525\n",
      "Early stopping, best iteration is:\n",
      "[718]\tcv_agg's l2: 0.132643 + 0.03636\n",
      "[100]\tcv_agg's l2: 0.148743 + 0.0357649\n",
      "[200]\tcv_agg's l2: 0.145515 + 0.0337021\n",
      "[300]\tcv_agg's l2: 0.142793 + 0.0327765\n",
      "[400]\tcv_agg's l2: 0.142449 + 0.0320601\n",
      "[500]\tcv_agg's l2: 0.142128 + 0.0318945\n",
      "[600]\tcv_agg's l2: 0.141845 + 0.0318629\n",
      "[700]\tcv_agg's l2: 0.141859 + 0.0316572\n"
     ]
    },
    {
     "name": "stderr",
     "output_type": "stream",
     "text": [
      "bagging, val_score: 0.132643:  90%|###############################################7     | 9/10 [00:37<00:04,  4.37s/it][I 2023-11-03 20:20:08,049] Trial 35 finished with value: 0.14179391828202603 and parameters: {'bagging_fraction': 0.8876487283193084, 'bagging_freq': 3}. Best is trial 32 with value: 0.1326430349107363.\n",
      "bagging, val_score: 0.132643:  90%|###############################################7     | 9/10 [00:37<00:04,  4.37s/it]"
     ]
    },
    {
     "name": "stdout",
     "output_type": "stream",
     "text": [
      "[800]\tcv_agg's l2: 0.141793 + 0.0316804\n",
      "Early stopping, best iteration is:\n",
      "[718]\tcv_agg's l2: 0.132643 + 0.03636\n",
      "[100]\tcv_agg's l2: 0.14719 + 0.0363695\n",
      "[200]\tcv_agg's l2: 0.140867 + 0.0319724\n",
      "[300]\tcv_agg's l2: 0.139493 + 0.0308516\n",
      "[400]\tcv_agg's l2: 0.138218 + 0.0307584\n",
      "[500]\tcv_agg's l2: 0.137628 + 0.0301563\n",
      "[600]\tcv_agg's l2: 0.137284 + 0.0296975\n",
      "[700]\tcv_agg's l2: 0.136957 + 0.0296457\n"
     ]
    },
    {
     "name": "stderr",
     "output_type": "stream",
     "text": [
      "bagging, val_score: 0.132643: 100%|####################################################| 10/10 [00:41<00:00,  4.41s/it][I 2023-11-03 20:20:12,550] Trial 36 finished with value: 0.13699983756549922 and parameters: {'bagging_fraction': 0.8592763409281711, 'bagging_freq': 2}. Best is trial 32 with value: 0.1326430349107363.\n",
      "bagging, val_score: 0.132643: 100%|####################################################| 10/10 [00:41<00:00,  4.16s/it]\n"
     ]
    },
    {
     "name": "stdout",
     "output_type": "stream",
     "text": [
      "[800]\tcv_agg's l2: 0.13674 + 0.0295886\n",
      "Early stopping, best iteration is:\n",
      "[718]\tcv_agg's l2: 0.132643 + 0.03636\n"
     ]
    },
    {
     "name": "stderr",
     "output_type": "stream",
     "text": [
      "feature_fraction_stage2, val_score: 0.132643:   0%|                                              | 0/3 [00:00<?, ?it/s]"
     ]
    },
    {
     "name": "stdout",
     "output_type": "stream",
     "text": [
      "[100]\tcv_agg's l2: 0.145032 + 0.041103\n",
      "[200]\tcv_agg's l2: 0.138452 + 0.0377183\n",
      "[300]\tcv_agg's l2: 0.136756 + 0.03636\n",
      "[400]\tcv_agg's l2: 0.136231 + 0.0363819\n",
      "[500]\tcv_agg's l2: 0.135942 + 0.0359565\n",
      "[600]\tcv_agg's l2: 0.136143 + 0.0358357\n",
      "[700]\tcv_agg's l2: 0.136181 + 0.0356731\n"
     ]
    },
    {
     "name": "stderr",
     "output_type": "stream",
     "text": [
      "feature_fraction_stage2, val_score: 0.132643:  33%|############6                         | 1/3 [00:04<00:08,  4.38s/it][I 2023-11-03 20:20:16,935] Trial 37 finished with value: 0.13614241392509815 and parameters: {'feature_fraction': 0.44800000000000006}. Best is trial 37 with value: 0.13614241392509815.\n",
      "feature_fraction_stage2, val_score: 0.132643:  33%|############6                         | 1/3 [00:04<00:08,  4.38s/it]"
     ]
    },
    {
     "name": "stdout",
     "output_type": "stream",
     "text": [
      "[800]\tcv_agg's l2: 0.136124 + 0.0357509\n",
      "Early stopping, best iteration is:\n",
      "[718]\tcv_agg's l2: 0.132643 + 0.03636\n",
      "[100]\tcv_agg's l2: 0.147751 + 0.0523644\n",
      "[200]\tcv_agg's l2: 0.142736 + 0.0464897\n",
      "[300]\tcv_agg's l2: 0.140794 + 0.0453427\n",
      "[400]\tcv_agg's l2: 0.140593 + 0.0449021\n",
      "[500]\tcv_agg's l2: 0.140466 + 0.044641\n",
      "[600]\tcv_agg's l2: 0.140227 + 0.0443415\n",
      "[700]\tcv_agg's l2: 0.140263 + 0.0440901\n"
     ]
    },
    {
     "name": "stderr",
     "output_type": "stream",
     "text": [
      "feature_fraction_stage2, val_score: 0.132643:  67%|#########################3            | 2/3 [00:08<00:04,  4.22s/it][I 2023-11-03 20:20:21,040] Trial 38 finished with value: 0.14019991701448348 and parameters: {'feature_fraction': 0.48000000000000004}. Best is trial 37 with value: 0.13614241392509815.\n",
      "feature_fraction_stage2, val_score: 0.132643:  67%|#########################3            | 2/3 [00:08<00:04,  4.22s/it]"
     ]
    },
    {
     "name": "stdout",
     "output_type": "stream",
     "text": [
      "[800]\tcv_agg's l2: 0.140078 + 0.0437541\n",
      "Early stopping, best iteration is:\n",
      "[718]\tcv_agg's l2: 0.132643 + 0.03636\n",
      "[100]\tcv_agg's l2: 0.147088 + 0.0448932\n",
      "[200]\tcv_agg's l2: 0.14106 + 0.0419302\n",
      "[300]\tcv_agg's l2: 0.138635 + 0.0405832\n",
      "[400]\tcv_agg's l2: 0.137832 + 0.0398383\n",
      "[500]\tcv_agg's l2: 0.137725 + 0.039852\n",
      "[600]\tcv_agg's l2: 0.137782 + 0.0396148\n",
      "[700]\tcv_agg's l2: 0.137595 + 0.0392301\n"
     ]
    },
    {
     "name": "stderr",
     "output_type": "stream",
     "text": [
      "feature_fraction_stage2, val_score: 0.132643: 100%|######################################| 3/3 [00:12<00:00,  4.24s/it][I 2023-11-03 20:20:25,316] Trial 39 finished with value: 0.13754211021824386 and parameters: {'feature_fraction': 0.41600000000000004}. Best is trial 37 with value: 0.13614241392509815.\n",
      "feature_fraction_stage2, val_score: 0.132643: 100%|######################################| 3/3 [00:12<00:00,  4.25s/it]\n"
     ]
    },
    {
     "name": "stdout",
     "output_type": "stream",
     "text": [
      "[800]\tcv_agg's l2: 0.137437 + 0.0389564\n",
      "Early stopping, best iteration is:\n",
      "[718]\tcv_agg's l2: 0.132643 + 0.03636\n"
     ]
    },
    {
     "name": "stderr",
     "output_type": "stream",
     "text": [
      "regularization_factors, val_score: 0.132643:   0%|                                              | 0/20 [00:00<?, ?it/s]"
     ]
    },
    {
     "name": "stdout",
     "output_type": "stream",
     "text": [
      "[100]\tcv_agg's l2: 0.196828 + 0.0545796\n",
      "[200]\tcv_agg's l2: 0.193574 + 0.0538007\n",
      "[300]\tcv_agg's l2: 0.193562 + 0.0537961\n",
      "[400]\tcv_agg's l2: 0.193562 + 0.0537959\n",
      "[500]\tcv_agg's l2: 0.193562 + 0.0537959\n",
      "[600]\tcv_agg's l2: 0.193562 + 0.0537959\n",
      "[700]\tcv_agg's l2: 0.193562 + 0.0537959\n"
     ]
    },
    {
     "name": "stderr",
     "output_type": "stream",
     "text": [
      "regularization_factors, val_score: 0.132643:   5%|#9                                    | 1/20 [00:01<00:33,  1.78s/it][I 2023-11-03 20:20:27,108] Trial 40 finished with value: 0.1935618618043521 and parameters: {'lambda_l1': 8.010107584577431, 'lambda_l2': 0.032161896781697216}. Best is trial 40 with value: 0.1935618618043521.\n",
      "regularization_factors, val_score: 0.132643:   5%|#9                                    | 1/20 [00:01<00:33,  1.78s/it]"
     ]
    },
    {
     "name": "stdout",
     "output_type": "stream",
     "text": [
      "[800]\tcv_agg's l2: 0.193562 + 0.0537959\n",
      "Early stopping, best iteration is:\n",
      "[718]\tcv_agg's l2: 0.132643 + 0.03636\n",
      "[100]\tcv_agg's l2: 0.141537 + 0.0423075\n",
      "[200]\tcv_agg's l2: 0.136534 + 0.0398609\n",
      "[300]\tcv_agg's l2: 0.134304 + 0.0382337\n",
      "[400]\tcv_agg's l2: 0.13353 + 0.0374189\n",
      "[500]\tcv_agg's l2: 0.133495 + 0.0371958\n",
      "[600]\tcv_agg's l2: 0.133251 + 0.0370285\n",
      "[700]\tcv_agg's l2: 0.133169 + 0.0367229\n"
     ]
    },
    {
     "name": "stderr",
     "output_type": "stream",
     "text": [
      "regularization_factors, val_score: 0.132643:  10%|###8                                  | 2/20 [00:06<01:03,  3.55s/it][I 2023-11-03 20:20:31,894] Trial 41 finished with value: 0.13308240696224022 and parameters: {'lambda_l1': 9.798420681691429e-08, 'lambda_l2': 1.2098682420224943e-08}. Best is trial 41 with value: 0.13308240696224022.\n",
      "regularization_factors, val_score: 0.132643:  10%|###8                                  | 2/20 [00:06<01:03,  3.55s/it]"
     ]
    },
    {
     "name": "stdout",
     "output_type": "stream",
     "text": [
      "[800]\tcv_agg's l2: 0.133162 + 0.0367291\n",
      "Early stopping, best iteration is:\n",
      "[718]\tcv_agg's l2: 0.132643 + 0.03636\n",
      "[100]\tcv_agg's l2: 0.141537 + 0.0423075\n",
      "[200]\tcv_agg's l2: 0.136534 + 0.0398609\n",
      "[300]\tcv_agg's l2: 0.134304 + 0.0382337\n",
      "[400]\tcv_agg's l2: 0.13353 + 0.0374189\n",
      "[500]\tcv_agg's l2: 0.133525 + 0.0371723\n",
      "[600]\tcv_agg's l2: 0.133357 + 0.0369431\n",
      "[700]\tcv_agg's l2: 0.13319 + 0.0367067\n"
     ]
    },
    {
     "name": "stderr",
     "output_type": "stream",
     "text": [
      "regularization_factors, val_score: 0.132643:  15%|#####7                                | 3/20 [00:12<01:15,  4.41s/it][I 2023-11-03 20:20:37,337] Trial 42 finished with value: 0.13310176432606916 and parameters: {'lambda_l1': 3.145120309598639e-08, 'lambda_l2': 1.2102205143096475e-08}. Best is trial 41 with value: 0.13308240696224022.\n",
      "regularization_factors, val_score: 0.132643:  15%|#####7                                | 3/20 [00:12<01:15,  4.41s/it]"
     ]
    },
    {
     "name": "stdout",
     "output_type": "stream",
     "text": [
      "[800]\tcv_agg's l2: 0.133191 + 0.0367058\n",
      "Early stopping, best iteration is:\n",
      "[718]\tcv_agg's l2: 0.132643 + 0.03636\n",
      "[100]\tcv_agg's l2: 0.141537 + 0.0423075\n",
      "[200]\tcv_agg's l2: 0.136534 + 0.0398609\n",
      "[300]\tcv_agg's l2: 0.134304 + 0.0382337\n",
      "[400]\tcv_agg's l2: 0.13353 + 0.0374189\n",
      "[500]\tcv_agg's l2: 0.133525 + 0.0371723\n",
      "[600]\tcv_agg's l2: 0.133357 + 0.0369431\n",
      "[700]\tcv_agg's l2: 0.13319 + 0.0367067\n"
     ]
    },
    {
     "name": "stderr",
     "output_type": "stream",
     "text": [
      "regularization_factors, val_score: 0.132643:  20%|#######6                              | 4/20 [00:17<01:19,  4.97s/it][I 2023-11-03 20:20:43,154] Trial 43 finished with value: 0.13310176437874166 and parameters: {'lambda_l1': 1.0361683891642219e-08, 'lambda_l2': 1.3648171952223723e-08}. Best is trial 41 with value: 0.13308240696224022.\n",
      "regularization_factors, val_score: 0.132643:  20%|#######6                              | 4/20 [00:17<01:19,  4.97s/it]"
     ]
    },
    {
     "name": "stdout",
     "output_type": "stream",
     "text": [
      "[800]\tcv_agg's l2: 0.133191 + 0.0367058\n",
      "Early stopping, best iteration is:\n",
      "[718]\tcv_agg's l2: 0.132643 + 0.03636\n",
      "[100]\tcv_agg's l2: 0.141537 + 0.0423075\n",
      "[200]\tcv_agg's l2: 0.136534 + 0.0398609\n",
      "[300]\tcv_agg's l2: 0.134304 + 0.0382337\n",
      "[400]\tcv_agg's l2: 0.13353 + 0.0374189\n",
      "[500]\tcv_agg's l2: 0.133525 + 0.0371723\n",
      "[600]\tcv_agg's l2: 0.133357 + 0.0369431\n",
      "[700]\tcv_agg's l2: 0.13319 + 0.0367067\n"
     ]
    },
    {
     "name": "stderr",
     "output_type": "stream",
     "text": [
      "regularization_factors, val_score: 0.132643:  25%|#########5                            | 5/20 [00:22<01:14,  4.96s/it][I 2023-11-03 20:20:48,113] Trial 44 finished with value: 0.13310176436204618 and parameters: {'lambda_l1': 1.0264390353954176e-08, 'lambda_l2': 1.0394890854669642e-08}. Best is trial 41 with value: 0.13308240696224022.\n",
      "regularization_factors, val_score: 0.132643:  25%|#########5                            | 5/20 [00:22<01:14,  4.96s/it]"
     ]
    },
    {
     "name": "stdout",
     "output_type": "stream",
     "text": [
      "[800]\tcv_agg's l2: 0.133191 + 0.0367058\n",
      "Early stopping, best iteration is:\n",
      "[718]\tcv_agg's l2: 0.132643 + 0.03636\n",
      "[100]\tcv_agg's l2: 0.141537 + 0.0423075\n",
      "[200]\tcv_agg's l2: 0.136534 + 0.0398609\n",
      "[300]\tcv_agg's l2: 0.134304 + 0.0382337\n",
      "[400]\tcv_agg's l2: 0.13353 + 0.0374189\n",
      "[500]\tcv_agg's l2: 0.133525 + 0.0371723\n",
      "[600]\tcv_agg's l2: 0.133357 + 0.0369431\n",
      "[700]\tcv_agg's l2: 0.13319 + 0.0367067\n"
     ]
    },
    {
     "name": "stderr",
     "output_type": "stream",
     "text": [
      "regularization_factors, val_score: 0.132643:  30%|###########4                          | 6/20 [00:27<01:10,  5.01s/it][I 2023-11-03 20:20:53,206] Trial 45 finished with value: 0.13310176437757923 and parameters: {'lambda_l1': 1.1129241881418427e-08, 'lambda_l2': 1.4141324003324791e-08}. Best is trial 41 with value: 0.13308240696224022.\n",
      "regularization_factors, val_score: 0.132643:  30%|###########4                          | 6/20 [00:27<01:10,  5.01s/it]"
     ]
    },
    {
     "name": "stdout",
     "output_type": "stream",
     "text": [
      "[800]\tcv_agg's l2: 0.133191 + 0.0367058\n",
      "Early stopping, best iteration is:\n",
      "[718]\tcv_agg's l2: 0.132643 + 0.03636\n",
      "[100]\tcv_agg's l2: 0.141537 + 0.0423075\n",
      "[200]\tcv_agg's l2: 0.136534 + 0.0398609\n",
      "[300]\tcv_agg's l2: 0.134304 + 0.0382337\n",
      "[400]\tcv_agg's l2: 0.13353 + 0.0374189\n",
      "[500]\tcv_agg's l2: 0.133525 + 0.0371723\n",
      "[600]\tcv_agg's l2: 0.133357 + 0.0369431\n",
      "[700]\tcv_agg's l2: 0.13319 + 0.0367067\n"
     ]
    },
    {
     "name": "stderr",
     "output_type": "stream",
     "text": [
      "regularization_factors, val_score: 0.132643:  35%|#############3                        | 7/20 [00:33<01:09,  5.35s/it][I 2023-11-03 20:20:59,267] Trial 46 finished with value: 0.13310176436351862 and parameters: {'lambda_l1': 1.2660848046732629e-08, 'lambda_l2': 1.6050223529921212e-08}. Best is trial 41 with value: 0.13308240696224022.\n",
      "regularization_factors, val_score: 0.132643:  35%|#############3                        | 7/20 [00:33<01:09,  5.35s/it]"
     ]
    },
    {
     "name": "stdout",
     "output_type": "stream",
     "text": [
      "[800]\tcv_agg's l2: 0.133191 + 0.0367058\n",
      "Early stopping, best iteration is:\n",
      "[718]\tcv_agg's l2: 0.132643 + 0.03636\n",
      "[100]\tcv_agg's l2: 0.141537 + 0.0423075\n",
      "[200]\tcv_agg's l2: 0.136534 + 0.0398609\n",
      "[300]\tcv_agg's l2: 0.134304 + 0.0382337\n",
      "[400]\tcv_agg's l2: 0.13353 + 0.0374189\n",
      "[500]\tcv_agg's l2: 0.133525 + 0.0371723\n",
      "[600]\tcv_agg's l2: 0.133357 + 0.0369431\n",
      "[700]\tcv_agg's l2: 0.13319 + 0.0367067\n"
     ]
    },
    {
     "name": "stderr",
     "output_type": "stream",
     "text": [
      "regularization_factors, val_score: 0.132643:  40%|###############2                      | 8/20 [00:40<01:07,  5.63s/it][I 2023-11-03 20:21:05,496] Trial 47 finished with value: 0.13310176438951535 and parameters: {'lambda_l1': 1.847033794043602e-08, 'lambda_l2': 1.059647256473098e-08}. Best is trial 41 with value: 0.13308240696224022.\n",
      "regularization_factors, val_score: 0.132643:  40%|###############2                      | 8/20 [00:40<01:07,  5.63s/it]"
     ]
    },
    {
     "name": "stdout",
     "output_type": "stream",
     "text": [
      "[800]\tcv_agg's l2: 0.133191 + 0.0367058\n",
      "Early stopping, best iteration is:\n",
      "[718]\tcv_agg's l2: 0.132643 + 0.03636\n",
      "[100]\tcv_agg's l2: 0.141537 + 0.0423075\n",
      "[200]\tcv_agg's l2: 0.136534 + 0.0398609\n",
      "[300]\tcv_agg's l2: 0.134304 + 0.0382337\n",
      "[400]\tcv_agg's l2: 0.13353 + 0.0374189\n",
      "[500]\tcv_agg's l2: 0.133495 + 0.0371958\n",
      "[600]\tcv_agg's l2: 0.133251 + 0.0370285\n",
      "[700]\tcv_agg's l2: 0.133169 + 0.0367229\n"
     ]
    },
    {
     "name": "stderr",
     "output_type": "stream",
     "text": [
      "regularization_factors, val_score: 0.132643:  45%|#################1                    | 9/20 [00:45<01:02,  5.64s/it][I 2023-11-03 20:21:11,164] Trial 48 finished with value: 0.1330824070250977 and parameters: {'lambda_l1': 5.928761922307593e-08, 'lambda_l2': 1.3148110706338062e-08}. Best is trial 41 with value: 0.13308240696224022.\n",
      "regularization_factors, val_score: 0.132643:  45%|#################1                    | 9/20 [00:45<01:02,  5.64s/it]"
     ]
    },
    {
     "name": "stdout",
     "output_type": "stream",
     "text": [
      "[800]\tcv_agg's l2: 0.133162 + 0.0367291\n",
      "Early stopping, best iteration is:\n",
      "[718]\tcv_agg's l2: 0.132643 + 0.03636\n",
      "[100]\tcv_agg's l2: 0.141537 + 0.0423075\n",
      "[200]\tcv_agg's l2: 0.136534 + 0.0398609\n",
      "[300]\tcv_agg's l2: 0.134304 + 0.0382337\n",
      "[400]\tcv_agg's l2: 0.13353 + 0.0374189\n",
      "[500]\tcv_agg's l2: 0.133495 + 0.0371958\n",
      "[600]\tcv_agg's l2: 0.133233 + 0.0370839\n",
      "[700]\tcv_agg's l2: 0.133185 + 0.036929\n"
     ]
    },
    {
     "name": "stderr",
     "output_type": "stream",
     "text": [
      "regularization_factors, val_score: 0.132643:  50%|##################5                  | 10/20 [00:52<00:59,  5.98s/it][I 2023-11-03 20:21:17,888] Trial 49 finished with value: 0.133116630861196 and parameters: {'lambda_l1': 1.4248492691479885e-06, 'lambda_l2': 1.2787549981857693e-06}. Best is trial 41 with value: 0.13308240696224022.\n",
      "regularization_factors, val_score: 0.132643:  50%|##################5                  | 10/20 [00:52<00:59,  5.98s/it]"
     ]
    },
    {
     "name": "stdout",
     "output_type": "stream",
     "text": [
      "[800]\tcv_agg's l2: 0.133067 + 0.0367798\n",
      "Early stopping, best iteration is:\n",
      "[718]\tcv_agg's l2: 0.132643 + 0.03636\n",
      "[100]\tcv_agg's l2: 0.141537 + 0.0423075\n",
      "[200]\tcv_agg's l2: 0.136534 + 0.0398609\n",
      "[300]\tcv_agg's l2: 0.134304 + 0.0382337\n",
      "[400]\tcv_agg's l2: 0.13353 + 0.0374189\n",
      "[500]\tcv_agg's l2: 0.133495 + 0.0371958\n",
      "[600]\tcv_agg's l2: 0.133233 + 0.0370839\n",
      "[700]\tcv_agg's l2: 0.133185 + 0.036929\n"
     ]
    },
    {
     "name": "stderr",
     "output_type": "stream",
     "text": [
      "regularization_factors, val_score: 0.132643:  55%|####################3                | 11/20 [00:58<00:52,  5.87s/it][I 2023-11-03 20:21:23,523] Trial 50 finished with value: 0.13311663020373704 and parameters: {'lambda_l1': 2.2222896782065226e-06, 'lambda_l2': 1.648168911559534e-06}. Best is trial 41 with value: 0.13308240696224022.\n",
      "regularization_factors, val_score: 0.132643:  55%|####################3                | 11/20 [00:58<00:52,  5.87s/it]"
     ]
    },
    {
     "name": "stdout",
     "output_type": "stream",
     "text": [
      "[800]\tcv_agg's l2: 0.133067 + 0.0367798\n",
      "Early stopping, best iteration is:\n",
      "[718]\tcv_agg's l2: 0.132643 + 0.03636\n",
      "[100]\tcv_agg's l2: 0.141537 + 0.0423075\n",
      "[200]\tcv_agg's l2: 0.136534 + 0.0398609\n",
      "[300]\tcv_agg's l2: 0.134304 + 0.0382337\n",
      "[400]\tcv_agg's l2: 0.13353 + 0.0374189\n",
      "[500]\tcv_agg's l2: 0.133525 + 0.0371723\n",
      "[600]\tcv_agg's l2: 0.133357 + 0.0369431\n",
      "[700]\tcv_agg's l2: 0.13319 + 0.0367067\n"
     ]
    },
    {
     "name": "stderr",
     "output_type": "stream",
     "text": [
      "regularization_factors, val_score: 0.132643:  60%|######################2              | 12/20 [01:03<00:46,  5.83s/it][I 2023-11-03 20:21:29,272] Trial 51 finished with value: 0.13310176435372065 and parameters: {'lambda_l1': 3.3920130880426054e-08, 'lambda_l2': 1.0563860910554196e-08}. Best is trial 41 with value: 0.13308240696224022.\n",
      "regularization_factors, val_score: 0.132643:  60%|######################2              | 12/20 [01:03<00:46,  5.83s/it]"
     ]
    },
    {
     "name": "stdout",
     "output_type": "stream",
     "text": [
      "[800]\tcv_agg's l2: 0.133191 + 0.0367058\n",
      "Early stopping, best iteration is:\n",
      "[718]\tcv_agg's l2: 0.132643 + 0.03636\n",
      "[100]\tcv_agg's l2: 0.141537 + 0.0423075\n",
      "[200]\tcv_agg's l2: 0.136534 + 0.0398609\n",
      "[300]\tcv_agg's l2: 0.134304 + 0.0382337\n",
      "[400]\tcv_agg's l2: 0.13353 + 0.0374189\n",
      "[500]\tcv_agg's l2: 0.133495 + 0.0371958\n",
      "[600]\tcv_agg's l2: 0.133251 + 0.0370285\n",
      "[700]\tcv_agg's l2: 0.133169 + 0.0367229\n"
     ]
    },
    {
     "name": "stderr",
     "output_type": "stream",
     "text": [
      "regularization_factors, val_score: 0.132643:  65%|########################             | 13/20 [01:08<00:38,  5.51s/it][I 2023-11-03 20:21:34,028] Trial 52 finished with value: 0.13308240687813394 and parameters: {'lambda_l1': 1.8950199893601603e-07, 'lambda_l2': 1.0579041505587095e-08}. Best is trial 52 with value: 0.13308240687813394.\n",
      "regularization_factors, val_score: 0.132643:  65%|########################             | 13/20 [01:08<00:38,  5.51s/it]"
     ]
    },
    {
     "name": "stdout",
     "output_type": "stream",
     "text": [
      "[800]\tcv_agg's l2: 0.133162 + 0.0367291\n",
      "Early stopping, best iteration is:\n",
      "[718]\tcv_agg's l2: 0.132643 + 0.03636\n",
      "[100]\tcv_agg's l2: 0.141537 + 0.0423075\n",
      "[200]\tcv_agg's l2: 0.136534 + 0.0398609\n",
      "[300]\tcv_agg's l2: 0.134304 + 0.0382337\n",
      "[400]\tcv_agg's l2: 0.13353 + 0.0374189\n",
      "[500]\tcv_agg's l2: 0.133495 + 0.0371958\n",
      "[600]\tcv_agg's l2: 0.133251 + 0.0370285\n",
      "[700]\tcv_agg's l2: 0.133169 + 0.036723\n"
     ]
    },
    {
     "name": "stderr",
     "output_type": "stream",
     "text": [
      "regularization_factors, val_score: 0.132643:  70%|#########################9           | 14/20 [01:13<00:31,  5.20s/it][I 2023-11-03 20:21:38,522] Trial 53 finished with value: 0.1330824061235935 and parameters: {'lambda_l1': 5.202784681546486e-07, 'lambda_l2': 3.947321341756086e-07}. Best is trial 53 with value: 0.1330824061235935.\n",
      "regularization_factors, val_score: 0.132643:  70%|#########################9           | 14/20 [01:13<00:31,  5.20s/it]"
     ]
    },
    {
     "name": "stdout",
     "output_type": "stream",
     "text": [
      "[800]\tcv_agg's l2: 0.133162 + 0.0367291\n",
      "Early stopping, best iteration is:\n",
      "[718]\tcv_agg's l2: 0.132643 + 0.03636\n",
      "[100]\tcv_agg's l2: 0.141537 + 0.0423075\n",
      "[200]\tcv_agg's l2: 0.136534 + 0.0398609\n",
      "[300]\tcv_agg's l2: 0.134304 + 0.0382337\n",
      "[400]\tcv_agg's l2: 0.13353 + 0.0374189\n",
      "[500]\tcv_agg's l2: 0.133495 + 0.0371958\n",
      "[600]\tcv_agg's l2: 0.133212 + 0.0370485\n",
      "[700]\tcv_agg's l2: 0.133089 + 0.0367658\n"
     ]
    },
    {
     "name": "stderr",
     "output_type": "stream",
     "text": [
      "regularization_factors, val_score: 0.132643:  75%|###########################7         | 15/20 [01:17<00:24,  4.98s/it][I 2023-11-03 20:21:42,981] Trial 54 finished with value: 0.13298626824661544 and parameters: {'lambda_l1': 8.49324860654275e-07, 'lambda_l2': 4.530990803487446e-07}. Best is trial 54 with value: 0.13298626824661544.\n",
      "regularization_factors, val_score: 0.132643:  75%|###########################7         | 15/20 [01:17<00:24,  4.98s/it]"
     ]
    },
    {
     "name": "stdout",
     "output_type": "stream",
     "text": [
      "[800]\tcv_agg's l2: 0.133003 + 0.0366706\n",
      "Early stopping, best iteration is:\n",
      "[718]\tcv_agg's l2: 0.132643 + 0.03636\n",
      "[100]\tcv_agg's l2: 0.141537 + 0.0423075\n",
      "[200]\tcv_agg's l2: 0.136534 + 0.0398609\n",
      "[300]\tcv_agg's l2: 0.134304 + 0.0382337\n",
      "[400]\tcv_agg's l2: 0.13353 + 0.0374189\n",
      "[500]\tcv_agg's l2: 0.133495 + 0.0371958\n",
      "[600]\tcv_agg's l2: 0.133233 + 0.0370839\n",
      "[700]\tcv_agg's l2: 0.133185 + 0.036929\n"
     ]
    },
    {
     "name": "stderr",
     "output_type": "stream",
     "text": [
      "regularization_factors, val_score: 0.132643:  80%|#############################6       | 16/20 [01:21<00:19,  4.77s/it][I 2023-11-03 20:21:47,268] Trial 55 finished with value: 0.13311663098611484 and parameters: {'lambda_l1': 1.3090033049488694e-06, 'lambda_l2': 1.095283384512073e-06}. Best is trial 54 with value: 0.13298626824661544.\n",
      "regularization_factors, val_score: 0.132643:  80%|#############################6       | 16/20 [01:21<00:19,  4.77s/it]"
     ]
    },
    {
     "name": "stdout",
     "output_type": "stream",
     "text": [
      "[800]\tcv_agg's l2: 0.133067 + 0.0367798\n",
      "Early stopping, best iteration is:\n",
      "[718]\tcv_agg's l2: 0.132643 + 0.03636\n",
      "[100]\tcv_agg's l2: 0.141537 + 0.0423075\n",
      "[200]\tcv_agg's l2: 0.136534 + 0.0398609\n",
      "[300]\tcv_agg's l2: 0.134304 + 0.0382337\n",
      "[400]\tcv_agg's l2: 0.13353 + 0.0374189\n",
      "[500]\tcv_agg's l2: 0.133495 + 0.0371958\n",
      "[600]\tcv_agg's l2: 0.133212 + 0.0370485\n",
      "[700]\tcv_agg's l2: 0.133089 + 0.0367658\n"
     ]
    },
    {
     "name": "stderr",
     "output_type": "stream",
     "text": [
      "regularization_factors, val_score: 0.132643:  85%|###############################4     | 17/20 [01:26<00:14,  4.83s/it][I 2023-11-03 20:21:52,232] Trial 56 finished with value: 0.13298626824223517 and parameters: {'lambda_l1': 8.027930937677296e-07, 'lambda_l2': 4.07043338840781e-07}. Best is trial 56 with value: 0.13298626824223517.\n",
      "regularization_factors, val_score: 0.132643:  85%|###############################4     | 17/20 [01:26<00:14,  4.83s/it]"
     ]
    },
    {
     "name": "stdout",
     "output_type": "stream",
     "text": [
      "[800]\tcv_agg's l2: 0.133003 + 0.0366706\n",
      "Early stopping, best iteration is:\n",
      "[718]\tcv_agg's l2: 0.132643 + 0.03636\n",
      "[100]\tcv_agg's l2: 0.141537 + 0.0423075\n",
      "[200]\tcv_agg's l2: 0.136534 + 0.0398609\n",
      "[300]\tcv_agg's l2: 0.134304 + 0.0382337\n",
      "[400]\tcv_agg's l2: 0.13353 + 0.0374189\n",
      "[500]\tcv_agg's l2: 0.133495 + 0.0371958\n",
      "[600]\tcv_agg's l2: 0.133212 + 0.0370485\n",
      "[700]\tcv_agg's l2: 0.133089 + 0.0367658\n"
     ]
    },
    {
     "name": "stderr",
     "output_type": "stream",
     "text": [
      "regularization_factors, val_score: 0.132643:  90%|#################################3   | 18/20 [01:31<00:09,  4.82s/it][I 2023-11-03 20:21:57,034] Trial 57 finished with value: 0.13298626823948517 and parameters: {'lambda_l1': 8.68844497070193e-07, 'lambda_l2': 4.740374941997366e-07}. Best is trial 57 with value: 0.13298626823948517.\n",
      "regularization_factors, val_score: 0.132643:  90%|#################################3   | 18/20 [01:31<00:09,  4.82s/it]"
     ]
    },
    {
     "name": "stdout",
     "output_type": "stream",
     "text": [
      "[800]\tcv_agg's l2: 0.133003 + 0.0366706\n",
      "Early stopping, best iteration is:\n",
      "[718]\tcv_agg's l2: 0.132643 + 0.03636\n",
      "[100]\tcv_agg's l2: 0.141676 + 0.0421933\n",
      "[200]\tcv_agg's l2: 0.136265 + 0.0401085\n",
      "[300]\tcv_agg's l2: 0.133863 + 0.0386524\n",
      "[400]\tcv_agg's l2: 0.13329 + 0.0376483\n",
      "[500]\tcv_agg's l2: 0.133162 + 0.0374591\n",
      "[600]\tcv_agg's l2: 0.132988 + 0.0372148\n",
      "[700]\tcv_agg's l2: 0.133009 + 0.0370203\n"
     ]
    },
    {
     "name": "stderr",
     "output_type": "stream",
     "text": [
      "regularization_factors, val_score: 0.132643:  95%|###################################1 | 19/20 [01:35<00:04,  4.66s/it][I 2023-11-03 20:22:01,322] Trial 58 finished with value: 0.13300698821579088 and parameters: {'lambda_l1': 4.498136653666419e-06, 'lambda_l2': 5.429421607068679e-07}. Best is trial 57 with value: 0.13298626823948517.\n",
      "regularization_factors, val_score: 0.132643:  95%|###################################1 | 19/20 [01:36<00:04,  4.66s/it]"
     ]
    },
    {
     "name": "stdout",
     "output_type": "stream",
     "text": [
      "[800]\tcv_agg's l2: 0.132891 + 0.0369337\n",
      "Early stopping, best iteration is:\n",
      "[718]\tcv_agg's l2: 0.132643 + 0.03636\n",
      "[100]\tcv_agg's l2: 0.141816 + 0.0420669\n",
      "[200]\tcv_agg's l2: 0.136837 + 0.0396338\n",
      "[300]\tcv_agg's l2: 0.134559 + 0.0381292\n",
      "[400]\tcv_agg's l2: 0.133715 + 0.0374521\n",
      "[500]\tcv_agg's l2: 0.133622 + 0.037281\n",
      "[600]\tcv_agg's l2: 0.133414 + 0.037014\n",
      "[700]\tcv_agg's l2: 0.13341 + 0.0368826\n"
     ]
    },
    {
     "name": "stderr",
     "output_type": "stream",
     "text": [
      "regularization_factors, val_score: 0.132643: 100%|#####################################| 20/20 [01:40<00:00,  4.59s/it][I 2023-11-03 20:22:05,761] Trial 59 finished with value: 0.1333693019251217 and parameters: {'lambda_l1': 1.1998865356115337e-05, 'lambda_l2': 8.034370526383309e-07}. Best is trial 57 with value: 0.13298626823948517.\n",
      "regularization_factors, val_score: 0.132643: 100%|#####################################| 20/20 [01:40<00:00,  5.02s/it]\n"
     ]
    },
    {
     "name": "stdout",
     "output_type": "stream",
     "text": [
      "[800]\tcv_agg's l2: 0.133342 + 0.0367422\n",
      "Early stopping, best iteration is:\n",
      "[718]\tcv_agg's l2: 0.132643 + 0.03636\n"
     ]
    },
    {
     "name": "stderr",
     "output_type": "stream",
     "text": [
      "min_data_in_leaf, val_score: 0.132643:   0%|                                                     | 0/5 [00:00<?, ?it/s]"
     ]
    },
    {
     "name": "stdout",
     "output_type": "stream",
     "text": [
      "[100]\tcv_agg's l2: 0.150983 + 0.0431367\n",
      "[200]\tcv_agg's l2: 0.14409 + 0.0412901\n",
      "[300]\tcv_agg's l2: 0.142423 + 0.0401598\n",
      "[400]\tcv_agg's l2: 0.141198 + 0.0394136\n",
      "[500]\tcv_agg's l2: 0.140788 + 0.03893\n",
      "[600]\tcv_agg's l2: 0.140748 + 0.0383287\n",
      "[700]\tcv_agg's l2: 0.140731 + 0.0380951\n"
     ]
    },
    {
     "name": "stderr",
     "output_type": "stream",
     "text": [
      "min_data_in_leaf, val_score: 0.132643:  20%|#########                                    | 1/5 [00:04<00:17,  4.29s/it][I 2023-11-03 20:22:10,053] Trial 60 finished with value: 0.14073511347668266 and parameters: {'min_child_samples': 25}. Best is trial 60 with value: 0.14073511347668266.\n",
      "min_data_in_leaf, val_score: 0.132643:  20%|#########                                    | 1/5 [00:04<00:17,  4.29s/it]"
     ]
    },
    {
     "name": "stdout",
     "output_type": "stream",
     "text": [
      "[800]\tcv_agg's l2: 0.140906 + 0.0380616\n",
      "Early stopping, best iteration is:\n",
      "[718]\tcv_agg's l2: 0.132643 + 0.03636\n",
      "[100]\tcv_agg's l2: 0.138012 + 0.0393322\n",
      "[200]\tcv_agg's l2: 0.134424 + 0.0378436\n",
      "[300]\tcv_agg's l2: 0.133393 + 0.0377698\n",
      "[400]\tcv_agg's l2: 0.132992 + 0.0372858\n",
      "[500]\tcv_agg's l2: 0.132673 + 0.037119\n",
      "[600]\tcv_agg's l2: 0.132602 + 0.0370898\n"
     ]
    },
    {
     "name": "stderr",
     "output_type": "stream",
     "text": [
      "min_data_in_leaf, val_score: 0.132545:  40%|##################                           | 2/5 [00:07<00:11,  3.84s/it][I 2023-11-03 20:22:13,581] Trial 61 finished with value: 0.13254521795529953 and parameters: {'min_child_samples': 5}. Best is trial 61 with value: 0.13254521795529953.\n",
      "min_data_in_leaf, val_score: 0.132545:  40%|##################                           | 2/5 [00:07<00:11,  3.84s/it]"
     ]
    },
    {
     "name": "stdout",
     "output_type": "stream",
     "text": [
      "Early stopping, best iteration is:\n",
      "[566]\tcv_agg's l2: 0.132545 + 0.0370351\n",
      "[100]\tcv_agg's l2: 0.138289 + 0.0380245\n",
      "[200]\tcv_agg's l2: 0.132374 + 0.0348271\n",
      "[300]\tcv_agg's l2: 0.131227 + 0.0341389\n",
      "[400]\tcv_agg's l2: 0.130956 + 0.0335453\n"
     ]
    },
    {
     "name": "stderr",
     "output_type": "stream",
     "text": [
      "min_data_in_leaf, val_score: 0.130820:  60%|###########################                  | 3/5 [00:10<00:06,  3.25s/it][I 2023-11-03 20:22:16,140] Trial 62 finished with value: 0.13082042257004597 and parameters: {'min_child_samples': 10}. Best is trial 62 with value: 0.13082042257004597.\n",
      "min_data_in_leaf, val_score: 0.130820:  60%|###########################                  | 3/5 [00:10<00:06,  3.25s/it]"
     ]
    },
    {
     "name": "stdout",
     "output_type": "stream",
     "text": [
      "Early stopping, best iteration is:\n",
      "[387]\tcv_agg's l2: 0.13082 + 0.0335058\n",
      "[100]\tcv_agg's l2: 0.672167 + 0.0650386\n",
      "[200]\tcv_agg's l2: 0.642391 + 0.058128\n",
      "[300]\tcv_agg's l2: 0.627349 + 0.0598669\n",
      "[400]\tcv_agg's l2: 0.616758 + 0.0612672\n"
     ]
    },
    {
     "name": "stderr",
     "output_type": "stream",
     "text": [
      "min_data_in_leaf, val_score: 0.130820:  80%|####################################         | 4/5 [00:11<00:02,  2.48s/it][I 2023-11-03 20:22:17,426] Trial 63 finished with value: 0.6175327824696785 and parameters: {'min_child_samples': 100}. Best is trial 62 with value: 0.13082042257004597.\n",
      "min_data_in_leaf, val_score: 0.130820:  80%|####################################         | 4/5 [00:11<00:02,  2.48s/it]"
     ]
    },
    {
     "name": "stdout",
     "output_type": "stream",
     "text": [
      "Early stopping, best iteration is:\n",
      "[387]\tcv_agg's l2: 0.13082 + 0.0335058\n",
      "[100]\tcv_agg's l2: 0.21952 + 0.0408493\n",
      "[200]\tcv_agg's l2: 0.207767 + 0.0371763\n",
      "[300]\tcv_agg's l2: 0.206852 + 0.0362757\n",
      "[400]\tcv_agg's l2: 0.205403 + 0.0371794\n"
     ]
    },
    {
     "name": "stderr",
     "output_type": "stream",
     "text": [
      "min_data_in_leaf, val_score: 0.130820: 100%|#############################################| 5/5 [00:13<00:00,  2.28s/it][I 2023-11-03 20:22:19,360] Trial 64 finished with value: 0.20581661711912633 and parameters: {'min_child_samples': 50}. Best is trial 62 with value: 0.13082042257004597.\n",
      "min_data_in_leaf, val_score: 0.130820: 100%|#############################################| 5/5 [00:13<00:00,  2.72s/it]"
     ]
    },
    {
     "name": "stdout",
     "output_type": "stream",
     "text": [
      "Early stopping, best iteration is:\n",
      "[387]\tcv_agg's l2: 0.13082 + 0.0335058\n"
     ]
    },
    {
     "name": "stderr",
     "output_type": "stream",
     "text": [
      "\n"
     ]
    }
   ],
   "source": [
    "import optuna.integration.lightgbm as lgb\n",
    "from lightgbm import early_stopping\n",
    "from sklearn.model_selection import KFold\n",
    "from sklearn.model_selection import RepeatedKFold\n",
    "\n",
    "\n",
    "lgb_train = lgb.Dataset(X_train_random_split, y_train_random_split)\n",
    "\n",
    "params = {\n",
    "    \"boosting_type\": \"gbdt\",\n",
    "    \"objective\": \"regression\",\n",
    "    \"metric\": \"l2\",\n",
    "    \"verbosity\": -1,\n",
    "}\n",
    "\n",
    "tuner = lgb.LightGBMTunerCV(\n",
    "    params,\n",
    "    lgb_train,\n",
    "    folds=KFold(n_splits=5),\n",
    "    num_boost_round=10000,\n",
    "    callbacks=[early_stopping(100), log_evaluation(100)],\n",
    ")\n",
    "\n",
    "tuner.run()"
   ]
  },
  {
   "cell_type": "code",
   "execution_count": 38,
   "id": "175988ae",
   "metadata": {},
   "outputs": [
    {
     "name": "stdout",
     "output_type": "stream",
     "text": [
      "Best score: 0.13082042257004597\n",
      "Params: \n",
      "    boosting_type: gbdt\n",
      "    objective: regression\n",
      "    metric: l2\n",
      "    verbosity: -1\n",
      "    feature_pre_filter: False\n",
      "    lambda_l1: 0.0\n",
      "    lambda_l2: 0.0\n",
      "    num_leaves: 18\n",
      "    feature_fraction: 0.4\n",
      "    bagging_fraction: 0.9946149768409821\n",
      "    bagging_freq: 1\n",
      "    min_child_samples: 10\n"
     ]
    }
   ],
   "source": [
    "print(f\"Best score: {tuner.best_score}\")\n",
    "best_params = tuner.best_params\n",
    "print(\"Params: \")\n",
    "for key, value in best_params.items():\n",
    "    print(\"    {}: {}\".format(key, value))"
   ]
  },
  {
   "cell_type": "code",
   "execution_count": 39,
   "id": "b8e0ae76",
   "metadata": {},
   "outputs": [],
   "source": [
    "import lightgbm as lgb\n",
    "\n",
    "lgb_tuned = lgb.train(\n",
    "    best_params,\n",
    "    lgb_train,\n",
    "    num_boost_round=10000,\n",
    ")"
   ]
  },
  {
   "cell_type": "code",
   "execution_count": 40,
   "id": "ab41f140",
   "metadata": {},
   "outputs": [
    {
     "name": "stdout",
     "output_type": "stream",
     "text": [
      "RMSE train: 0.00\n",
      "RMSE test: 0.30\n",
      "MSE test: 0.09\n",
      "MAE test: 0.22\n",
      "\n"
     ]
    }
   ],
   "source": [
    "rmse, mse, mae = assess_regression_model(\n",
    "    lgb_tuned,\n",
    "    X_train_random_split,\n",
    "    X_test_random_split,\n",
    "    y_train_random_split,\n",
    "    y_test_random_split,\n",
    ")"
   ]
  },
  {
   "cell_type": "code",
   "execution_count": 41,
   "id": "36a7d705",
   "metadata": {},
   "outputs": [],
   "source": [
    "results.loc[3] = [\"random\", \"Optuna\", len(X_test.columns), mse, rmse, mae]"
   ]
  },
  {
   "cell_type": "markdown",
   "id": "baffe730",
   "metadata": {},
   "source": [
    "###### MAE by level"
   ]
  },
  {
   "cell_type": "code",
   "execution_count": 42,
   "id": "4206dff5",
   "metadata": {},
   "outputs": [
    {
     "data": {
      "image/png": "[encoded data removed]",
      "text/plain": [
       "<Figure size 720x432 with 1 Axes>"
      ]
     },
     "metadata": {
      "needs_background": "light"
     },
     "output_type": "display_data"
    }
   ],
   "source": [
    "plot_mae_by_level(y_test_random_split, y_pred_test)"
   ]
  },
  {
   "cell_type": "code",
   "execution_count": 43,
   "id": "502bdb9c",
   "metadata": {
    "scrolled": true
   },
   "outputs": [
    {
     "name": "stdout",
     "output_type": "stream",
     "text": [
      "Normal:\n",
      "MSE: 0.03\n",
      "RMSE: 0.17\n",
      "\n",
      "Round type: round\n",
      "MSE: 0.04\n",
      "RMSE: 0.19\n",
      "\n",
      "Round type: 0.33\n",
      "MSE: 0.05\n",
      "RMSE: 0.22\n",
      "\n",
      "Round type: 0.45\n",
      "MSE: 0.04\n",
      "RMSE: 0.21\n",
      "\n"
     ]
    }
   ],
   "source": [
    "predict = lgb_tuned.predict(X_test)\n",
    "check_round_predictions([\"round\", 0.33, 0.45], y_test, predict)"
   ]
  },
  {
   "cell_type": "code",
   "execution_count": 44,
   "id": "378511d8",
   "metadata": {},
   "outputs": [
    {
     "data": {
      "image/png": "[encoded data removed]",
      "text/plain": [
       "<Figure size 432x288 with 2 Axes>"
      ]
     },
     "metadata": {
      "needs_background": "light"
     },
     "output_type": "display_data"
    }
   ],
   "source": [
    "plot_confusion_matrix(\"round\", predict, y_test)"
   ]
  },
  {
   "cell_type": "markdown",
   "id": "cbf21c29",
   "metadata": {},
   "source": [
    "## Summary"
   ]
  },
  {
   "cell_type": "code",
   "execution_count": 45,
   "id": "d065edf6",
   "metadata": {
    "scrolled": false
   },
   "outputs": [
    {
     "data": {
      "text/html": [
       "<div>\n",
       "<style scoped>\n",
       "    .dataframe tbody tr th:only-of-type {\n",
       "        vertical-align: middle;\n",
       "    }\n",
       "\n",
       "    .dataframe tbody tr th {\n",
       "        vertical-align: top;\n",
       "    }\n",
       "\n",
       "    .dataframe thead th {\n",
       "        text-align: right;\n",
       "    }\n",
       "</style>\n",
       "<table border=\"1\" class=\"dataframe\">\n",
       "  <thead>\n",
       "    <tr style=\"text-align: right;\">\n",
       "      <th></th>\n",
       "      <th>Split type</th>\n",
       "      <th>Tuning type</th>\n",
       "      <th>Number of characteristics</th>\n",
       "      <th>MSE</th>\n",
       "      <th>RMSE</th>\n",
       "      <th>MAE</th>\n",
       "    </tr>\n",
       "  </thead>\n",
       "  <tbody>\n",
       "    <tr>\n",
       "      <th>0</th>\n",
       "      <td>chronological</td>\n",
       "      <td>normal</td>\n",
       "      <td>50</td>\n",
       "      <td>0.927292</td>\n",
       "      <td>0.962960</td>\n",
       "      <td>0.460853</td>\n",
       "    </tr>\n",
       "    <tr>\n",
       "      <th>1</th>\n",
       "      <td>chronological</td>\n",
       "      <td>Optuna</td>\n",
       "      <td>50</td>\n",
       "      <td>0.401520</td>\n",
       "      <td>0.633656</td>\n",
       "      <td>0.367590</td>\n",
       "    </tr>\n",
       "    <tr>\n",
       "      <th>2</th>\n",
       "      <td>random</td>\n",
       "      <td>normal</td>\n",
       "      <td>50</td>\n",
       "      <td>0.137900</td>\n",
       "      <td>0.371349</td>\n",
       "      <td>0.246737</td>\n",
       "    </tr>\n",
       "    <tr>\n",
       "      <th>3</th>\n",
       "      <td>random</td>\n",
       "      <td>Optuna</td>\n",
       "      <td>50</td>\n",
       "      <td>0.090469</td>\n",
       "      <td>0.300781</td>\n",
       "      <td>0.216199</td>\n",
       "    </tr>\n",
       "  </tbody>\n",
       "</table>\n",
       "</div>"
      ],
      "text/plain": [
       "      Split type Tuning type  Number of characteristics       MSE      RMSE  \\\n",
       "0  chronological      normal                         50  0.927292  0.962960   \n",
       "1  chronological      Optuna                         50  0.401520  0.633656   \n",
       "2         random      normal                         50  0.137900  0.371349   \n",
       "3         random      Optuna                         50  0.090469  0.300781   \n",
       "\n",
       "        MAE  \n",
       "0  0.460853  \n",
       "1  0.367590  \n",
       "2  0.246737  \n",
       "3  0.216199  "
      ]
     },
     "execution_count": 45,
     "metadata": {},
     "output_type": "execute_result"
    }
   ],
   "source": [
    "results"
   ]
  },
  {
   "cell_type": "code",
   "execution_count": 46,
   "id": "5ab8f79f",
   "metadata": {},
   "outputs": [],
   "source": [
    "from training.results import plot_summary"
   ]
  },
  {
   "cell_type": "code",
   "execution_count": 47,
   "id": "941b0359",
   "metadata": {},
   "outputs": [
    {
     "data": {
      "image/png": "[encoded data removed]",
      "text/plain": [
       "<Figure size 1440x576 with 1 Axes>"
      ]
     },
     "metadata": {
      "needs_background": "light"
     },
     "output_type": "display_data"
    }
   ],
   "source": [
    "plot_summary(results, \"MSE\")"
   ]
  },
  {
   "cell_type": "code",
   "execution_count": 48,
   "id": "a642225d",
   "metadata": {},
   "outputs": [
    {
     "data": {
      "image/png": "[encoded data removed]",
      "text/plain": [
       "<Figure size 1440x576 with 1 Axes>"
      ]
     },
     "metadata": {
      "needs_background": "light"
     },
     "output_type": "display_data"
    }
   ],
   "source": [
    "plot_summary(results, \"RMSE\")"
   ]
  },
  {
   "cell_type": "code",
   "execution_count": 49,
   "id": "07e30e23",
   "metadata": {},
   "outputs": [
    {
     "data": {
      "image/png": "[encoded data removed]",
      "text/plain": [
       "<Figure size 1440x576 with 1 Axes>"
      ]
     },
     "metadata": {
      "needs_background": "light"
     },
     "output_type": "display_data"
    }
   ],
   "source": [
    "plot_summary(results, \"MAE\")"
   ]
  },
  {
   "cell_type": "code",
   "execution_count": 50,
   "id": "ae68a99c",
   "metadata": {},
   "outputs": [],
   "source": [
    "results.to_json(\"./lightgbm_final_results.json\")"
   ]
  },
  {
   "cell_type": "code",
   "execution_count": null,
   "id": "745b56ef",
   "metadata": {},
   "outputs": [],
   "source": []
  }
 ],
 "metadata": {
  "kernelspec": {
   "display_name": "Python 3 (ipykernel)",
   "language": "python",
   "name": "python3"
  },
  "language_info": {
   "codemirror_mode": {
    "name": "ipython",
    "version": 3
   },
   "file_extension": ".py",
   "mimetype": "text/x-python",
   "name": "python",
   "nbconvert_exporter": "python",
   "pygments_lexer": "ipython3",
   "version": "3.10.4"
  }
 },
 "nbformat": 4,
 "nbformat_minor": 5
}
