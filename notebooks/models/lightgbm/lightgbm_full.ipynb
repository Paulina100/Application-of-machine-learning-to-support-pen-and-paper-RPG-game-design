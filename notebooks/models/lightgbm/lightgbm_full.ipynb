{
 "cells": [
  {
   "cell_type": "markdown",
   "id": "f64a671f",
   "metadata": {},
   "source": [
    "# LightGBM\n",
    "### Parameters:\n",
    "System:\n",
    "* **abilities**:\n",
    "    * **cha**\n",
    "    * **con**\n",
    "    * **dex**\n",
    "    * **int**\n",
    "    * **str**\n",
    "    * **wis**\n",
    "* **attributes**\n",
    "    * **hp**\n",
    "    * **ac**\n",
    "    * **perception**\n",
    "    * **speed** (*land speed*)\n",
    "        * **other speeds**: fly, climb, swim\n",
    "    * **num immunities**\n",
    "    * **resistances**: fire, cold, electricity, acid, piercing, slashing, physical, bludgeoning, mental, poison, all-damage\n",
    "    * **weaknesses**: cold-iron, good, fire, cold, area-damage, splash-damage, evil, slashing\n",
    "* **saves**\n",
    "    * **fortitude**\n",
    "    * **reflex**\n",
    "    * **will**\n",
    "* **resources**\n",
    "    * **focus**\n",
    "\n",
    "Items\n",
    "* **items**\n",
    "    * **melee**\n",
    "    * **ranged**\n",
    "    * **spells nr**\n",
    "\n",
    "### Prediction: *level*\n",
    "\n",
    "## Loading data"
   ]
  },
  {
   "cell_type": "code",
   "execution_count": 1,
   "id": "1f2515e7",
   "metadata": {},
   "outputs": [],
   "source": [
    "import numpy as np\n",
    "import pandas as pd\n",
    "import sys\n",
    "\n",
    "import os\n",
    "import pathlib\n",
    "\n",
    "sys.path.append(\"../../..\")\n",
    "from training.creating_dataset import load_and_preprocess_data\n",
    "\n",
    "current_path = os.getcwd()\n",
    "DATASETS_DIR = pathlib.Path(current_path).parent.parent.parent / \"pathfinder_2e_data\"\n",
    "DATASET_FILES = [\n",
    "    \"pathfinder-bestiary.db\",\n",
    "    \"pathfinder-bestiary-2.db\",\n",
    "    \"pathfinder-bestiary-3.db\",\n",
    "]\n",
    "DATASET_PATHS = [f\"{DATASETS_DIR}/{file}\" for file in DATASET_FILES]\n",
    "features = [\n",
    "    \"cha\",\n",
    "    \"con\",\n",
    "    \"dex\",\n",
    "    \"int\",\n",
    "    \"str\",\n",
    "    \"wis\",\n",
    "    \"ac\",\n",
    "    \"hp\",\n",
    "    \"perception\",\n",
    "    \"fortitude\",\n",
    "    \"reflex\",\n",
    "    \"will\",\n",
    "    \"focus\",\n",
    "    \"land_speed\",\n",
    "    \"num_immunities\",\n",
    "    \"fly\",\n",
    "    \"swim\",\n",
    "    \"climb\",\n",
    "    \"fire_resistance\",\n",
    "    \"cold_resistance\",\n",
    "    \"electricity_resistance\",\n",
    "    \"acid_resistance\",\n",
    "    \"piercing_resistance\",\n",
    "    \"slashing_resistance\",\n",
    "    \"physical_resistance\",\n",
    "    \"bludgeoning_resistance\",\n",
    "    \"mental_resistance\",\n",
    "    \"poison_resistance\",\n",
    "    \"all-damage_resistance\",\n",
    "    \"cold-iron_weakness\",\n",
    "    \"good_weakness\",\n",
    "    \"fire_weakness\",\n",
    "    \"cold_weakness\",\n",
    "    \"area-damage_weakness\",\n",
    "    \"splash-damage_weakness\",\n",
    "    \"evil_weakness\",\n",
    "    \"slashing_weakness\",\n",
    "    \"melee\",\n",
    "    \"ranged\",\n",
    "    \"spells\",\n",
    "]\n",
    "\n",
    "df = load_and_preprocess_data(\n",
    "    DATASET_PATHS,\n",
    "    characteristics=features,\n",
    ")"
   ]
  },
  {
   "cell_type": "code",
   "execution_count": 2,
   "id": "b522f880",
   "metadata": {},
   "outputs": [
    {
     "name": "stdout",
     "output_type": "stream",
     "text": [
      "<class 'pandas.core.frame.DataFrame'>\n",
      "Int64Index: 1206 entries, 0 to 1205\n",
      "Data columns (total 52 columns):\n",
      " #   Column                  Non-Null Count  Dtype  \n",
      "---  ------                  --------------  -----  \n",
      " 0   land_speed              1206 non-null   float64\n",
      " 1   num_immunities          1206 non-null   int64  \n",
      " 2   ac                      1206 non-null   int64  \n",
      " 3   wis                     1206 non-null   int64  \n",
      " 4   hp                      1206 non-null   int64  \n",
      " 5   con                     1206 non-null   int64  \n",
      " 6   reflex                  1206 non-null   int64  \n",
      " 7   int                     1206 non-null   int64  \n",
      " 8   book                    1206 non-null   object \n",
      " 9   focus                   1206 non-null   int32  \n",
      " 10  will                    1206 non-null   int64  \n",
      " 11  perception              1206 non-null   int64  \n",
      " 12  level                   1206 non-null   int64  \n",
      " 13  str                     1206 non-null   int64  \n",
      " 14  dex                     1206 non-null   int64  \n",
      " 15  cha                     1206 non-null   int64  \n",
      " 16  fortitude               1206 non-null   int64  \n",
      " 17  fire_resistance         1206 non-null   int64  \n",
      " 18  bludgeoning_resistance  1206 non-null   int64  \n",
      " 19  electricity_resistance  1206 non-null   int64  \n",
      " 20  acid_resistance         1206 non-null   int64  \n",
      " 21  mental_resistance       1206 non-null   int64  \n",
      " 22  physical_resistance     1206 non-null   int64  \n",
      " 23  poison_resistance       1206 non-null   int64  \n",
      " 24  slashing_resistance     1206 non-null   int64  \n",
      " 25  all-damage_resistance   1206 non-null   int64  \n",
      " 26  cold_resistance         1206 non-null   int64  \n",
      " 27  piercing_resistance     1206 non-null   int64  \n",
      " 28  cold-iron_weakness      1206 non-null   int64  \n",
      " 29  evil_weakness           1206 non-null   int64  \n",
      " 30  area-damage_weakness    1206 non-null   int64  \n",
      " 31  cold_weakness           1206 non-null   int64  \n",
      " 32  slashing_weakness       1206 non-null   int64  \n",
      " 33  good_weakness           1206 non-null   int64  \n",
      " 34  fire_weakness           1206 non-null   int64  \n",
      " 35  splash-damage_weakness  1206 non-null   int64  \n",
      " 36  fly                     1206 non-null   int64  \n",
      " 37  climb                   1206 non-null   int64  \n",
      " 38  swim                    1206 non-null   int64  \n",
      " 39  spells_nr_lvl_1         1206 non-null   int64  \n",
      " 40  spells_nr_lvl_2         1206 non-null   int64  \n",
      " 41  spells_nr_lvl_3         1206 non-null   int64  \n",
      " 42  spells_nr_lvl_4         1206 non-null   int64  \n",
      " 43  spells_nr_lvl_5         1206 non-null   int64  \n",
      " 44  spells_nr_lvl_6         1206 non-null   int64  \n",
      " 45  spells_nr_lvl_7         1206 non-null   int64  \n",
      " 46  spells_nr_lvl_8         1206 non-null   int64  \n",
      " 47  spells_nr_lvl_9         1206 non-null   int64  \n",
      " 48  melee_max_bonus         1206 non-null   int64  \n",
      " 49  avg_melee_dmg           1206 non-null   float64\n",
      " 50  ranged_max_bonus        1206 non-null   int64  \n",
      " 51  avg_ranged_dmg          1206 non-null   float64\n",
      "dtypes: float64(3), int32(1), int64(47), object(1)\n",
      "memory usage: 494.6+ KB\n"
     ]
    }
   ],
   "source": [
    "df.info()"
   ]
  },
  {
   "cell_type": "code",
   "execution_count": 3,
   "id": "1b5450d3",
   "metadata": {},
   "outputs": [
    {
     "data": {
      "text/html": [
       "<div>\n",
       "<style scoped>\n",
       "    .dataframe tbody tr th:only-of-type {\n",
       "        vertical-align: middle;\n",
       "    }\n",
       "\n",
       "    .dataframe tbody tr th {\n",
       "        vertical-align: top;\n",
       "    }\n",
       "\n",
       "    .dataframe thead th {\n",
       "        text-align: right;\n",
       "    }\n",
       "</style>\n",
       "<table border=\"1\" class=\"dataframe\">\n",
       "  <thead>\n",
       "    <tr style=\"text-align: right;\">\n",
       "      <th></th>\n",
       "      <th>land_speed</th>\n",
       "      <th>num_immunities</th>\n",
       "      <th>ac</th>\n",
       "      <th>wis</th>\n",
       "      <th>hp</th>\n",
       "      <th>con</th>\n",
       "      <th>reflex</th>\n",
       "      <th>int</th>\n",
       "      <th>book</th>\n",
       "      <th>focus</th>\n",
       "      <th>...</th>\n",
       "      <th>spells_nr_lvl_4</th>\n",
       "      <th>spells_nr_lvl_5</th>\n",
       "      <th>spells_nr_lvl_6</th>\n",
       "      <th>spells_nr_lvl_7</th>\n",
       "      <th>spells_nr_lvl_8</th>\n",
       "      <th>spells_nr_lvl_9</th>\n",
       "      <th>melee_max_bonus</th>\n",
       "      <th>avg_melee_dmg</th>\n",
       "      <th>ranged_max_bonus</th>\n",
       "      <th>avg_ranged_dmg</th>\n",
       "    </tr>\n",
       "  </thead>\n",
       "  <tbody>\n",
       "    <tr>\n",
       "      <th>0</th>\n",
       "      <td>30.0</td>\n",
       "      <td>3</td>\n",
       "      <td>29</td>\n",
       "      <td>2</td>\n",
       "      <td>215</td>\n",
       "      <td>5</td>\n",
       "      <td>19</td>\n",
       "      <td>1</td>\n",
       "      <td>Pathfinder Bestiary</td>\n",
       "      <td>1</td>\n",
       "      <td>...</td>\n",
       "      <td>0</td>\n",
       "      <td>0</td>\n",
       "      <td>0</td>\n",
       "      <td>0</td>\n",
       "      <td>0</td>\n",
       "      <td>0</td>\n",
       "      <td>23</td>\n",
       "      <td>22.0</td>\n",
       "      <td>0</td>\n",
       "      <td>0.0</td>\n",
       "    </tr>\n",
       "    <tr>\n",
       "      <th>1</th>\n",
       "      <td>35.0</td>\n",
       "      <td>0</td>\n",
       "      <td>28</td>\n",
       "      <td>2</td>\n",
       "      <td>220</td>\n",
       "      <td>5</td>\n",
       "      <td>14</td>\n",
       "      <td>-4</td>\n",
       "      <td>Pathfinder Bestiary</td>\n",
       "      <td>0</td>\n",
       "      <td>...</td>\n",
       "      <td>0</td>\n",
       "      <td>0</td>\n",
       "      <td>0</td>\n",
       "      <td>0</td>\n",
       "      <td>0</td>\n",
       "      <td>0</td>\n",
       "      <td>23</td>\n",
       "      <td>22.0</td>\n",
       "      <td>0</td>\n",
       "      <td>0.0</td>\n",
       "    </tr>\n",
       "    <tr>\n",
       "      <th>2</th>\n",
       "      <td>30.0</td>\n",
       "      <td>0</td>\n",
       "      <td>25</td>\n",
       "      <td>3</td>\n",
       "      <td>175</td>\n",
       "      <td>6</td>\n",
       "      <td>17</td>\n",
       "      <td>-4</td>\n",
       "      <td>Pathfinder Bestiary</td>\n",
       "      <td>0</td>\n",
       "      <td>...</td>\n",
       "      <td>0</td>\n",
       "      <td>0</td>\n",
       "      <td>0</td>\n",
       "      <td>0</td>\n",
       "      <td>0</td>\n",
       "      <td>0</td>\n",
       "      <td>21</td>\n",
       "      <td>16.0</td>\n",
       "      <td>0</td>\n",
       "      <td>0.0</td>\n",
       "    </tr>\n",
       "    <tr>\n",
       "      <th>3</th>\n",
       "      <td>50.0</td>\n",
       "      <td>3</td>\n",
       "      <td>41</td>\n",
       "      <td>5</td>\n",
       "      <td>315</td>\n",
       "      <td>5</td>\n",
       "      <td>29</td>\n",
       "      <td>6</td>\n",
       "      <td>Pathfinder Bestiary</td>\n",
       "      <td>1</td>\n",
       "      <td>...</td>\n",
       "      <td>1</td>\n",
       "      <td>0</td>\n",
       "      <td>1</td>\n",
       "      <td>0</td>\n",
       "      <td>0</td>\n",
       "      <td>0</td>\n",
       "      <td>33</td>\n",
       "      <td>31.5</td>\n",
       "      <td>0</td>\n",
       "      <td>0.0</td>\n",
       "    </tr>\n",
       "    <tr>\n",
       "      <th>4</th>\n",
       "      <td>0.0</td>\n",
       "      <td>0</td>\n",
       "      <td>16</td>\n",
       "      <td>1</td>\n",
       "      <td>20</td>\n",
       "      <td>1</td>\n",
       "      <td>10</td>\n",
       "      <td>-1</td>\n",
       "      <td>Pathfinder Bestiary</td>\n",
       "      <td>1</td>\n",
       "      <td>...</td>\n",
       "      <td>1</td>\n",
       "      <td>0</td>\n",
       "      <td>0</td>\n",
       "      <td>0</td>\n",
       "      <td>0</td>\n",
       "      <td>0</td>\n",
       "      <td>0</td>\n",
       "      <td>0.0</td>\n",
       "      <td>8</td>\n",
       "      <td>5.0</td>\n",
       "    </tr>\n",
       "  </tbody>\n",
       "</table>\n",
       "<p>5 rows × 52 columns</p>\n",
       "</div>"
      ],
      "text/plain": [
       "   land_speed  num_immunities  ac  wis   hp  con  reflex  int  \\\n",
       "0        30.0               3  29    2  215    5      19    1   \n",
       "1        35.0               0  28    2  220    5      14   -4   \n",
       "2        30.0               0  25    3  175    6      17   -4   \n",
       "3        50.0               3  41    5  315    5      29    6   \n",
       "4         0.0               0  16    1   20    1      10   -1   \n",
       "\n",
       "                  book  focus  ...  spells_nr_lvl_4  spells_nr_lvl_5  \\\n",
       "0  Pathfinder Bestiary      1  ...                0                0   \n",
       "1  Pathfinder Bestiary      0  ...                0                0   \n",
       "2  Pathfinder Bestiary      0  ...                0                0   \n",
       "3  Pathfinder Bestiary      1  ...                1                0   \n",
       "4  Pathfinder Bestiary      1  ...                1                0   \n",
       "\n",
       "   spells_nr_lvl_6  spells_nr_lvl_7  spells_nr_lvl_8  spells_nr_lvl_9  \\\n",
       "0                0                0                0                0   \n",
       "1                0                0                0                0   \n",
       "2                0                0                0                0   \n",
       "3                1                0                0                0   \n",
       "4                0                0                0                0   \n",
       "\n",
       "   melee_max_bonus  avg_melee_dmg  ranged_max_bonus  avg_ranged_dmg  \n",
       "0               23           22.0                 0             0.0  \n",
       "1               23           22.0                 0             0.0  \n",
       "2               21           16.0                 0             0.0  \n",
       "3               33           31.5                 0             0.0  \n",
       "4                0            0.0                 8             5.0  \n",
       "\n",
       "[5 rows x 52 columns]"
      ]
     },
     "execution_count": 3,
     "metadata": {},
     "output_type": "execute_result"
    }
   ],
   "source": [
    "df.head()"
   ]
  },
  {
   "cell_type": "markdown",
   "id": "0caa661f",
   "metadata": {},
   "source": [
    "###### Level"
   ]
  },
  {
   "cell_type": "code",
   "execution_count": 4,
   "id": "c200d2b4",
   "metadata": {},
   "outputs": [
    {
     "data": {
      "text/plain": [
       "0       10\n",
       "1       10\n",
       "2        8\n",
       "3       17\n",
       "4        1\n",
       "        ..\n",
       "1201    20\n",
       "1202    -1\n",
       "1203    12\n",
       "1204     6\n",
       "1205     6\n",
       "Name: level, Length: 1206, dtype: int64"
      ]
     },
     "execution_count": 4,
     "metadata": {},
     "output_type": "execute_result"
    }
   ],
   "source": [
    "y = df[\"level\"]\n",
    "y"
   ]
  },
  {
   "cell_type": "code",
   "execution_count": 5,
   "id": "553822a7",
   "metadata": {},
   "outputs": [],
   "source": [
    "from collections import defaultdict\n",
    "\n",
    "\n",
    "lvl_stat = defaultdict(lambda: 0)\n",
    "\n",
    "for lvl in y:\n",
    "    lvl_stat[lvl] += 1"
   ]
  },
  {
   "cell_type": "code",
   "execution_count": 6,
   "id": "e45d6c29",
   "metadata": {},
   "outputs": [
    {
     "data": {
      "text/html": [
       "<div>\n",
       "<style scoped>\n",
       "    .dataframe tbody tr th:only-of-type {\n",
       "        vertical-align: middle;\n",
       "    }\n",
       "\n",
       "    .dataframe tbody tr th {\n",
       "        vertical-align: top;\n",
       "    }\n",
       "\n",
       "    .dataframe thead th {\n",
       "        text-align: right;\n",
       "    }\n",
       "</style>\n",
       "<table border=\"1\" class=\"dataframe\">\n",
       "  <thead>\n",
       "    <tr style=\"text-align: right;\">\n",
       "      <th></th>\n",
       "      <th>lvl</th>\n",
       "      <th>count</th>\n",
       "    </tr>\n",
       "  </thead>\n",
       "  <tbody>\n",
       "    <tr>\n",
       "      <th>0</th>\n",
       "      <td>-1</td>\n",
       "      <td>34</td>\n",
       "    </tr>\n",
       "    <tr>\n",
       "      <th>1</th>\n",
       "      <td>0</td>\n",
       "      <td>27</td>\n",
       "    </tr>\n",
       "    <tr>\n",
       "      <th>2</th>\n",
       "      <td>1</td>\n",
       "      <td>127</td>\n",
       "    </tr>\n",
       "    <tr>\n",
       "      <th>3</th>\n",
       "      <td>2</td>\n",
       "      <td>121</td>\n",
       "    </tr>\n",
       "    <tr>\n",
       "      <th>4</th>\n",
       "      <td>3</td>\n",
       "      <td>95</td>\n",
       "    </tr>\n",
       "    <tr>\n",
       "      <th>5</th>\n",
       "      <td>4</td>\n",
       "      <td>82</td>\n",
       "    </tr>\n",
       "    <tr>\n",
       "      <th>6</th>\n",
       "      <td>5</td>\n",
       "      <td>76</td>\n",
       "    </tr>\n",
       "    <tr>\n",
       "      <th>7</th>\n",
       "      <td>6</td>\n",
       "      <td>72</td>\n",
       "    </tr>\n",
       "    <tr>\n",
       "      <th>8</th>\n",
       "      <td>7</td>\n",
       "      <td>77</td>\n",
       "    </tr>\n",
       "    <tr>\n",
       "      <th>9</th>\n",
       "      <td>8</td>\n",
       "      <td>68</td>\n",
       "    </tr>\n",
       "    <tr>\n",
       "      <th>10</th>\n",
       "      <td>9</td>\n",
       "      <td>63</td>\n",
       "    </tr>\n",
       "    <tr>\n",
       "      <th>11</th>\n",
       "      <td>10</td>\n",
       "      <td>58</td>\n",
       "    </tr>\n",
       "    <tr>\n",
       "      <th>12</th>\n",
       "      <td>11</td>\n",
       "      <td>40</td>\n",
       "    </tr>\n",
       "    <tr>\n",
       "      <th>13</th>\n",
       "      <td>12</td>\n",
       "      <td>41</td>\n",
       "    </tr>\n",
       "    <tr>\n",
       "      <th>14</th>\n",
       "      <td>13</td>\n",
       "      <td>36</td>\n",
       "    </tr>\n",
       "    <tr>\n",
       "      <th>15</th>\n",
       "      <td>14</td>\n",
       "      <td>33</td>\n",
       "    </tr>\n",
       "    <tr>\n",
       "      <th>16</th>\n",
       "      <td>15</td>\n",
       "      <td>31</td>\n",
       "    </tr>\n",
       "    <tr>\n",
       "      <th>17</th>\n",
       "      <td>16</td>\n",
       "      <td>25</td>\n",
       "    </tr>\n",
       "    <tr>\n",
       "      <th>18</th>\n",
       "      <td>17</td>\n",
       "      <td>21</td>\n",
       "    </tr>\n",
       "    <tr>\n",
       "      <th>19</th>\n",
       "      <td>18</td>\n",
       "      <td>21</td>\n",
       "    </tr>\n",
       "    <tr>\n",
       "      <th>20</th>\n",
       "      <td>19</td>\n",
       "      <td>18</td>\n",
       "    </tr>\n",
       "    <tr>\n",
       "      <th>21</th>\n",
       "      <td>20</td>\n",
       "      <td>24</td>\n",
       "    </tr>\n",
       "    <tr>\n",
       "      <th>22</th>\n",
       "      <td>21</td>\n",
       "      <td>16</td>\n",
       "    </tr>\n",
       "  </tbody>\n",
       "</table>\n",
       "</div>"
      ],
      "text/plain": [
       "    lvl  count\n",
       "0    -1     34\n",
       "1     0     27\n",
       "2     1    127\n",
       "3     2    121\n",
       "4     3     95\n",
       "5     4     82\n",
       "6     5     76\n",
       "7     6     72\n",
       "8     7     77\n",
       "9     8     68\n",
       "10    9     63\n",
       "11   10     58\n",
       "12   11     40\n",
       "13   12     41\n",
       "14   13     36\n",
       "15   14     33\n",
       "16   15     31\n",
       "17   16     25\n",
       "18   17     21\n",
       "19   18     21\n",
       "20   19     18\n",
       "21   20     24\n",
       "22   21     16"
      ]
     },
     "execution_count": 6,
     "metadata": {},
     "output_type": "execute_result"
    }
   ],
   "source": [
    "level_count = pd.DataFrame(\n",
    "    data={\n",
    "        \"lvl\": [key for key in sorted(lvl_stat.keys())],\n",
    "        \"count\": [lvl_stat.get(key) for key in sorted(lvl_stat.keys())],\n",
    "    }\n",
    ")\n",
    "level_count"
   ]
  },
  {
   "cell_type": "code",
   "execution_count": 7,
   "id": "bdbfe8de",
   "metadata": {},
   "outputs": [
    {
     "data": {
      "image/png": "[encoded data removed]",
      "text/plain": [
       "<Figure size 432x288 with 1 Axes>"
      ]
     },
     "metadata": {
      "needs_background": "light"
     },
     "output_type": "display_data"
    }
   ],
   "source": [
    "import matplotlib.pyplot as plt\n",
    "\n",
    "\n",
    "level_count.plot.bar(x=\"lvl\", y=\"count\", title=\"Count of levels\")\n",
    "plt.show()"
   ]
  },
  {
   "cell_type": "markdown",
   "id": "9fdb6541",
   "metadata": {},
   "source": [
    "## Train test split"
   ]
  },
  {
   "cell_type": "markdown",
   "id": "18f56629",
   "metadata": {},
   "source": [
    "### Chronological split"
   ]
  },
  {
   "cell_type": "code",
   "execution_count": 8,
   "id": "dcda359b",
   "metadata": {},
   "outputs": [],
   "source": [
    "from training.splitting_dataset import split_dataframe\n",
    "\n",
    "\n",
    "os.chdir(\"../../../training\")\n",
    "X_train, X_test, y_train, y_test = split_dataframe(df, test_size=0.31)\n",
    "os.chdir(\"../notebooks/models/lightgbm\")"
   ]
  },
  {
   "cell_type": "code",
   "execution_count": 9,
   "id": "17dbc875",
   "metadata": {},
   "outputs": [],
   "source": [
    "X_train = X_train.drop(columns=[\"book\"])\n",
    "X_test = X_test.drop(columns=[\"book\"])"
   ]
  },
  {
   "cell_type": "markdown",
   "id": "25879636",
   "metadata": {},
   "source": [
    "### Random split"
   ]
  },
  {
   "cell_type": "code",
   "execution_count": 10,
   "id": "982ec5eb",
   "metadata": {},
   "outputs": [],
   "source": [
    "(\n",
    "    X_train_random_split,\n",
    "    X_test_random_split,\n",
    "    y_train_random_split,\n",
    "    y_test_random_split,\n",
    ") = split_dataframe(df, chronological_split=False)"
   ]
  },
  {
   "cell_type": "code",
   "execution_count": 11,
   "id": "90569e78",
   "metadata": {},
   "outputs": [],
   "source": [
    "X_train_random_split = X_train_random_split.drop(columns=[\"book\"])\n",
    "X_test_random_split = X_test_random_split.drop(columns=[\"book\"])"
   ]
  },
  {
   "cell_type": "markdown",
   "id": "9b259fbf",
   "metadata": {},
   "source": [
    "## LightGBM"
   ]
  },
  {
   "cell_type": "markdown",
   "id": "14f37d9b",
   "metadata": {},
   "source": [
    "## Chronological split"
   ]
  },
  {
   "cell_type": "code",
   "execution_count": 12,
   "id": "2bc4c90e",
   "metadata": {},
   "outputs": [
    {
     "name": "stdout",
     "output_type": "stream",
     "text": [
      "[LightGBM] [Warning] Auto-choosing row-wise multi-threading, the overhead of testing was 0.001334 seconds.\n",
      "You can set `force_row_wise=true` to remove the overhead.\n",
      "And if memory is not enough, you can set `force_col_wise=true`.\n",
      "[LightGBM] [Info] Total Bins 756\n",
      "[LightGBM] [Info] Number of data points in the train set: 841, number of used features: 45\n",
      "[LightGBM] [Info] Start training from score 6.966706\n",
      "Training until validation scores don't improve for 5 rounds\n",
      "[LightGBM] [Warning] No further splits with positive gain, best gain: -inf\n",
      "[LightGBM] [Warning] No further splits with positive gain, best gain: -inf\n",
      "[LightGBM] [Warning] No further splits with positive gain, best gain: -inf\n",
      "[LightGBM] [Warning] No further splits with positive gain, best gain: -inf\n",
      "[LightGBM] [Warning] No further splits with positive gain, best gain: -inf\n",
      "Early stopping, best iteration is:\n",
      "[88]\tvalid_0's l1: 0.463517\tvalid_0's l2: 0.932502\n"
     ]
    }
   ],
   "source": [
    "import lightgbm as lgb\n",
    "\n",
    "lgb_train = lgb.Dataset(X_train, y_train)\n",
    "lgb_eval = lgb.Dataset(X_test, y_test, reference=lgb_train)\n",
    "\n",
    "params = {\n",
    "    \"boosting_type\": \"gbdt\",\n",
    "    \"objective\": \"regression\",\n",
    "    \"metric\": {\"l2\", \"l1\"},\n",
    "}\n",
    "\n",
    "gbm = lgb.train(\n",
    "    params,\n",
    "    lgb_train,\n",
    "    num_boost_round=100,\n",
    "    valid_sets=lgb_eval,\n",
    "    callbacks=[lgb.early_stopping(stopping_rounds=5)],\n",
    ")"
   ]
  },
  {
   "cell_type": "code",
   "execution_count": 13,
   "id": "f1ae2eaa",
   "metadata": {},
   "outputs": [],
   "source": [
    "y_pred_train = gbm.predict(X_train, num_iteration=gbm.best_iteration)\n",
    "y_pred_test = gbm.predict(X_test, num_iteration=gbm.best_iteration)"
   ]
  },
  {
   "cell_type": "code",
   "execution_count": 14,
   "id": "ef9d09eb",
   "metadata": {},
   "outputs": [
    {
     "name": "stdout",
     "output_type": "stream",
     "text": [
      "RMSE: 0.97\n",
      "MAE: 0.46\n"
     ]
    }
   ],
   "source": [
    "from sklearn.metrics import mean_squared_error, mean_absolute_error\n",
    "\n",
    "\n",
    "rmse = mean_squared_error(y_test, y_pred_test, squared=False)\n",
    "mae = mean_absolute_error(y_test, y_pred_test)\n",
    "\n",
    "print(f\"RMSE: {rmse:.2f}\")\n",
    "print(f\"MAE: {mae:.2f}\")"
   ]
  },
  {
   "cell_type": "code",
   "execution_count": 15,
   "id": "6e288d53",
   "metadata": {},
   "outputs": [],
   "source": [
    "results = pd.DataFrame(\n",
    "    data={\n",
    "        \"Split type\": [],\n",
    "        \"Tuning type\": [],\n",
    "        \"Set of features\": [],\n",
    "        \"RMSE\": [],\n",
    "        \"MAE\": [],\n",
    "    }\n",
    ")\n",
    "\n",
    "results.loc[0] = [\"chronological\", \"default\", \"full\", rmse, mae]"
   ]
  },
  {
   "cell_type": "code",
   "execution_count": 16,
   "id": "78bb7ffa",
   "metadata": {},
   "outputs": [
    {
     "name": "stdout",
     "output_type": "stream",
     "text": [
      "RMSE train: 0.13\n",
      "RMSE test: 0.97\n"
     ]
    }
   ],
   "source": [
    "rmse_train = mean_squared_error(y_train, y_pred_train, squared=False)\n",
    "rmse_test = mean_squared_error(y_test, y_pred_test, squared=False)\n",
    "print(f\"RMSE train: {rmse_train:.2f}\")\n",
    "print(f\"RMSE test: {rmse_test:.2f}\")"
   ]
  },
  {
   "cell_type": "markdown",
   "id": "1822ab4b",
   "metadata": {},
   "source": [
    "###### MAE by level"
   ]
  },
  {
   "cell_type": "code",
   "execution_count": 17,
   "id": "89d4733e",
   "metadata": {},
   "outputs": [],
   "source": [
    "from training.results import plot_mae_by_level"
   ]
  },
  {
   "cell_type": "code",
   "execution_count": 18,
   "id": "062bc79b",
   "metadata": {},
   "outputs": [
    {
     "data": {
      "image/png": "[encoded data removed]",
      "text/plain": [
       "<Figure size 720x432 with 1 Axes>"
      ]
     },
     "metadata": {
      "needs_background": "light"
     },
     "output_type": "display_data"
    }
   ],
   "source": [
    "plot_mae_by_level(\n",
    "    y_test,\n",
    "    y_pred_test,\n",
    "    title=\"MAE by level for default LightGBM with full features and chronological split\",\n",
    ")"
   ]
  },
  {
   "cell_type": "code",
   "execution_count": 19,
   "id": "ec8cab49",
   "metadata": {
    "scrolled": true
   },
   "outputs": [
    {
     "name": "stdout",
     "output_type": "stream",
     "text": [
      "Default:\n",
      "RMSE: 0.97\n",
      "\n",
      "Round type: round\n",
      "RMSE: 0.98\n",
      "\n",
      "Round type: 0.33\n",
      "RMSE: 0.96\n",
      "\n",
      "Round type: 0.45\n",
      "RMSE: 0.96\n",
      "\n"
     ]
    }
   ],
   "source": [
    "from training.results import check_round_predictions, plot_confusion_matrix\n",
    "\n",
    "\n",
    "check_round_predictions([\"round\", 0.33, 0.45], y_test, y_pred_test)"
   ]
  },
  {
   "cell_type": "code",
   "execution_count": 20,
   "id": "9129a0ae",
   "metadata": {},
   "outputs": [
    {
     "data": {
      "image/png": "[encoded data removed]",
      "text/plain": [
       "<Figure size 432x288 with 2 Axes>"
      ]
     },
     "metadata": {
      "needs_background": "light"
     },
     "output_type": "display_data"
    }
   ],
   "source": [
    "plot_confusion_matrix(\n",
    "    \"round\",\n",
    "    y_pred_test,\n",
    "    y_test,\n",
    "    title=\"Confusion matrix for default LightGBM with full features and chronological split\",\n",
    ")"
   ]
  },
  {
   "cell_type": "markdown",
   "id": "0e591f6c",
   "metadata": {},
   "source": [
    "#### Tuning"
   ]
  },
  {
   "cell_type": "code",
   "execution_count": 21,
   "id": "2f781cab",
   "metadata": {},
   "outputs": [],
   "source": [
    "from training.results import assess_regression_model"
   ]
  },
  {
   "cell_type": "code",
   "execution_count": 22,
   "id": "d8734e01",
   "metadata": {},
   "outputs": [
    {
     "name": "stderr",
     "output_type": "stream",
     "text": [
      "[I 2023-11-05 12:40:08,955] A new study created in memory with name: no-name-3aee44e3-8c20-4797-8516-2531890c5dd9\n",
      "feature_fraction, val_score: inf:   0%|                                                          | 0/7 [00:00<?, ?it/s]"
     ]
    },
    {
     "name": "stdout",
     "output_type": "stream",
     "text": [
      "Training until validation scores don't improve for 100 rounds\n",
      "[100]\tcv_agg's l2: 0.147165 + 0.0304089\n",
      "[200]\tcv_agg's l2: 0.143698 + 0.02958\n",
      "[300]\tcv_agg's l2: 0.142047 + 0.0283975\n",
      "[400]\tcv_agg's l2: 0.141423 + 0.0281346\n",
      "[500]\tcv_agg's l2: 0.141255 + 0.0282385\n",
      "[600]\tcv_agg's l2: 0.141035 + 0.0280663\n",
      "[700]\tcv_agg's l2: 0.140958 + 0.0280362\n",
      "[800]\tcv_agg's l2: 0.140931 + 0.0280483\n",
      "[900]\tcv_agg's l2: 0.140897 + 0.0279579\n"
     ]
    },
    {
     "name": "stderr",
     "output_type": "stream",
     "text": [
      "feature_fraction, val_score: 0.140872:  14%|######4                                      | 1/7 [00:17<01:46, 17.72s/it][I 2023-11-05 12:40:26,685] Trial 0 finished with value: 0.14087200068524638 and parameters: {'feature_fraction': 0.8}. Best is trial 0 with value: 0.14087200068524638.\n",
      "feature_fraction, val_score: 0.140872:  14%|######4                                      | 1/7 [00:17<01:46, 17.72s/it]"
     ]
    },
    {
     "name": "stdout",
     "output_type": "stream",
     "text": [
      "Early stopping, best iteration is:\n",
      "[852]\tcv_agg's l2: 0.140872 + 0.0279681\n",
      "[100]\tcv_agg's l2: 0.151393 + 0.0376705\n",
      "[200]\tcv_agg's l2: 0.149682 + 0.0372732\n",
      "[300]\tcv_agg's l2: 0.148999 + 0.0373818\n",
      "[400]\tcv_agg's l2: 0.14885 + 0.0376309\n",
      "[500]\tcv_agg's l2: 0.148963 + 0.0379128\n",
      "[600]\tcv_agg's l2: 0.148957 + 0.0379075\n",
      "[700]\tcv_agg's l2: 0.149061 + 0.037818\n",
      "[800]\tcv_agg's l2: 0.149212 + 0.0378339\n",
      "[900]\tcv_agg's l2: 0.149262 + 0.037718\n"
     ]
    },
    {
     "name": "stderr",
     "output_type": "stream",
     "text": [
      "feature_fraction, val_score: 0.140872:  29%|############8                                | 2/7 [00:39<01:39, 19.91s/it][I 2023-11-05 12:40:48,124] Trial 1 finished with value: 0.14923778889918532 and parameters: {'feature_fraction': 1.0}. Best is trial 0 with value: 0.14087200068524638.\n",
      "feature_fraction, val_score: 0.140872:  29%|############8                                | 2/7 [00:39<01:39, 19.91s/it]"
     ]
    },
    {
     "name": "stdout",
     "output_type": "stream",
     "text": [
      "Early stopping, best iteration is:\n",
      "[852]\tcv_agg's l2: 0.140872 + 0.0279681\n",
      "[100]\tcv_agg's l2: 0.135333 + 0.0241253\n",
      "[200]\tcv_agg's l2: 0.131246 + 0.0232086\n",
      "[300]\tcv_agg's l2: 0.130922 + 0.0237165\n",
      "[400]\tcv_agg's l2: 0.130607 + 0.0238819\n"
     ]
    },
    {
     "name": "stderr",
     "output_type": "stream",
     "text": [
      "feature_fraction, val_score: 0.130514:  43%|###################2                         | 3/7 [00:47<00:58, 14.56s/it][I 2023-11-05 12:40:56,314] Trial 2 finished with value: 0.13051357452121087 and parameters: {'feature_fraction': 0.6}. Best is trial 2 with value: 0.13051357452121087.\n",
      "feature_fraction, val_score: 0.130514:  43%|###################2                         | 3/7 [00:47<00:58, 14.56s/it]"
     ]
    },
    {
     "name": "stdout",
     "output_type": "stream",
     "text": [
      "Early stopping, best iteration is:\n",
      "[350]\tcv_agg's l2: 0.130514 + 0.0236286\n",
      "[100]\tcv_agg's l2: 0.131847 + 0.0273334\n",
      "[200]\tcv_agg's l2: 0.128352 + 0.0269428\n",
      "[300]\tcv_agg's l2: 0.127225 + 0.0264705\n",
      "[400]\tcv_agg's l2: 0.126764 + 0.0262893\n"
     ]
    },
    {
     "name": "stderr",
     "output_type": "stream",
     "text": [
      "feature_fraction, val_score: 0.126672:  57%|#########################7                   | 4/7 [00:56<00:37, 12.43s/it][I 2023-11-05 12:41:05,469] Trial 3 finished with value: 0.12667182172399183 and parameters: {'feature_fraction': 0.5}. Best is trial 3 with value: 0.12667182172399183.\n",
      "feature_fraction, val_score: 0.126672:  57%|#########################7                   | 4/7 [00:56<00:37, 12.43s/it]"
     ]
    },
    {
     "name": "stdout",
     "output_type": "stream",
     "text": [
      "Early stopping, best iteration is:\n",
      "[372]\tcv_agg's l2: 0.126672 + 0.0262447\n",
      "[100]\tcv_agg's l2: 0.143287 + 0.0251992\n",
      "[200]\tcv_agg's l2: 0.139024 + 0.0252343\n",
      "[300]\tcv_agg's l2: 0.136816 + 0.0248923\n",
      "[400]\tcv_agg's l2: 0.136185 + 0.0252706\n"
     ]
    },
    {
     "name": "stderr",
     "output_type": "stream",
     "text": [
      "feature_fraction, val_score: 0.126672:  71%|################################1            | 5/7 [01:05<00:22, 11.01s/it][I 2023-11-05 12:41:13,962] Trial 4 finished with value: 0.13616687263612612 and parameters: {'feature_fraction': 0.4}. Best is trial 3 with value: 0.12667182172399183.\n",
      "feature_fraction, val_score: 0.126672:  71%|################################1            | 5/7 [01:05<00:22, 11.01s/it]"
     ]
    },
    {
     "name": "stdout",
     "output_type": "stream",
     "text": [
      "Early stopping, best iteration is:\n",
      "[372]\tcv_agg's l2: 0.126672 + 0.0262447\n",
      "[100]\tcv_agg's l2: 0.144141 + 0.0316979\n",
      "[200]\tcv_agg's l2: 0.14156 + 0.0314114\n",
      "[300]\tcv_agg's l2: 0.141729 + 0.0315731\n",
      "[400]\tcv_agg's l2: 0.141712 + 0.0314676\n"
     ]
    },
    {
     "name": "stderr",
     "output_type": "stream",
     "text": [
      "feature_fraction, val_score: 0.126672:  86%|######################################5      | 6/7 [01:13<00:10, 10.15s/it][I 2023-11-05 12:41:22,462] Trial 5 finished with value: 0.14165502909370437 and parameters: {'feature_fraction': 0.8999999999999999}. Best is trial 3 with value: 0.12667182172399183.\n",
      "feature_fraction, val_score: 0.126672:  86%|######################################5      | 6/7 [01:13<00:10, 10.15s/it]"
     ]
    },
    {
     "name": "stdout",
     "output_type": "stream",
     "text": [
      "Early stopping, best iteration is:\n",
      "[372]\tcv_agg's l2: 0.126672 + 0.0262447\n",
      "[100]\tcv_agg's l2: 0.147013 + 0.0330895\n",
      "[200]\tcv_agg's l2: 0.144666 + 0.0329384\n",
      "[300]\tcv_agg's l2: 0.143901 + 0.0323946\n",
      "[400]\tcv_agg's l2: 0.143583 + 0.0322806\n"
     ]
    },
    {
     "name": "stderr",
     "output_type": "stream",
     "text": [
      "feature_fraction, val_score: 0.126672: 100%|#############################################| 7/7 [01:22<00:00,  9.91s/it][I 2023-11-05 12:41:31,884] Trial 6 finished with value: 0.14359496793285936 and parameters: {'feature_fraction': 0.7}. Best is trial 3 with value: 0.12667182172399183.\n",
      "feature_fraction, val_score: 0.126672: 100%|#############################################| 7/7 [01:22<00:00, 11.85s/it]\n"
     ]
    },
    {
     "name": "stdout",
     "output_type": "stream",
     "text": [
      "Early stopping, best iteration is:\n",
      "[372]\tcv_agg's l2: 0.126672 + 0.0262447\n"
     ]
    },
    {
     "name": "stderr",
     "output_type": "stream",
     "text": [
      "num_leaves, val_score: 0.126672:   0%|                                                          | 0/20 [00:00<?, ?it/s]"
     ]
    },
    {
     "name": "stdout",
     "output_type": "stream",
     "text": [
      "[100]\tcv_agg's l2: 0.131847 + 0.0273334\n",
      "[200]\tcv_agg's l2: 0.128352 + 0.0269428\n",
      "[300]\tcv_agg's l2: 0.127225 + 0.0264705\n",
      "[400]\tcv_agg's l2: 0.126764 + 0.0262893\n"
     ]
    },
    {
     "name": "stderr",
     "output_type": "stream",
     "text": [
      "num_leaves, val_score: 0.126672:   5%|##5                                               | 1/20 [00:09<03:01,  9.57s/it][I 2023-11-05 12:41:41,457] Trial 7 finished with value: 0.12667182172399183 and parameters: {'num_leaves': 239}. Best is trial 7 with value: 0.12667182172399183.\n",
      "num_leaves, val_score: 0.126672:   5%|##5                                               | 1/20 [00:09<03:01,  9.57s/it]"
     ]
    },
    {
     "name": "stdout",
     "output_type": "stream",
     "text": [
      "Early stopping, best iteration is:\n",
      "[372]\tcv_agg's l2: 0.126672 + 0.0262447\n",
      "[100]\tcv_agg's l2: 0.131847 + 0.0273334\n",
      "[200]\tcv_agg's l2: 0.128352 + 0.0269428\n",
      "[300]\tcv_agg's l2: 0.127225 + 0.0264705\n",
      "[400]\tcv_agg's l2: 0.126764 + 0.0262893\n"
     ]
    },
    {
     "name": "stderr",
     "output_type": "stream",
     "text": [
      "num_leaves, val_score: 0.126672:  10%|#####                                             | 2/20 [00:19<02:55,  9.76s/it][I 2023-11-05 12:41:51,358] Trial 8 finished with value: 0.12667182172399183 and parameters: {'num_leaves': 241}. Best is trial 7 with value: 0.12667182172399183.\n",
      "num_leaves, val_score: 0.126672:  10%|#####                                             | 2/20 [00:19<02:55,  9.76s/it]"
     ]
    },
    {
     "name": "stdout",
     "output_type": "stream",
     "text": [
      "Early stopping, best iteration is:\n",
      "[372]\tcv_agg's l2: 0.126672 + 0.0262447\n",
      "[100]\tcv_agg's l2: 0.131847 + 0.0273334\n",
      "[200]\tcv_agg's l2: 0.128352 + 0.0269428\n",
      "[300]\tcv_agg's l2: 0.127225 + 0.0264705\n",
      "[400]\tcv_agg's l2: 0.126764 + 0.0262893\n"
     ]
    },
    {
     "name": "stderr",
     "output_type": "stream",
     "text": [
      "num_leaves, val_score: 0.126672:  15%|#######5                                          | 3/20 [00:28<02:44,  9.65s/it][I 2023-11-05 12:42:00,884] Trial 9 finished with value: 0.12667182172399183 and parameters: {'num_leaves': 252}. Best is trial 7 with value: 0.12667182172399183.\n",
      "num_leaves, val_score: 0.126672:  15%|#######5                                          | 3/20 [00:28<02:44,  9.65s/it]"
     ]
    },
    {
     "name": "stdout",
     "output_type": "stream",
     "text": [
      "Early stopping, best iteration is:\n",
      "[372]\tcv_agg's l2: 0.126672 + 0.0262447\n",
      "[100]\tcv_agg's l2: 0.135595 + 0.0213965\n",
      "[200]\tcv_agg's l2: 0.127612 + 0.0222829\n",
      "[300]\tcv_agg's l2: 0.125468 + 0.0227007\n",
      "[400]\tcv_agg's l2: 0.125044 + 0.022116\n",
      "[500]\tcv_agg's l2: 0.12461 + 0.0218206\n",
      "[600]\tcv_agg's l2: 0.124374 + 0.022036\n",
      "[700]\tcv_agg's l2: 0.12426 + 0.0220878\n"
     ]
    },
    {
     "name": "stderr",
     "output_type": "stream",
     "text": [
      "num_leaves, val_score: 0.124135:  20%|##########                                        | 4/20 [00:35<02:14,  8.39s/it][I 2023-11-05 12:42:07,347] Trial 10 finished with value: 0.12413472823306544 and parameters: {'num_leaves': 10}. Best is trial 10 with value: 0.12413472823306544.\n",
      "num_leaves, val_score: 0.124135:  20%|##########                                        | 4/20 [00:35<02:14,  8.39s/it]"
     ]
    },
    {
     "name": "stdout",
     "output_type": "stream",
     "text": [
      "Early stopping, best iteration is:\n",
      "[627]\tcv_agg's l2: 0.124135 + 0.0221179\n",
      "[100]\tcv_agg's l2: 0.164784 + 0.0187537\n",
      "[200]\tcv_agg's l2: 0.148064 + 0.0165883\n",
      "[300]\tcv_agg's l2: 0.142957 + 0.0174007\n",
      "[400]\tcv_agg's l2: 0.138935 + 0.0171631\n",
      "[500]\tcv_agg's l2: 0.137764 + 0.0167903\n",
      "[600]\tcv_agg's l2: 0.136537 + 0.0170014\n"
     ]
    },
    {
     "name": "stderr",
     "output_type": "stream",
     "text": [
      "num_leaves, val_score: 0.124135:  25%|############5                                     | 5/20 [00:39<01:41,  6.74s/it][I 2023-11-05 12:42:11,145] Trial 11 finished with value: 0.136530732010602 and parameters: {'num_leaves': 5}. Best is trial 10 with value: 0.12413472823306544.\n",
      "num_leaves, val_score: 0.124135:  25%|############5                                     | 5/20 [00:39<01:41,  6.74s/it]"
     ]
    },
    {
     "name": "stdout",
     "output_type": "stream",
     "text": [
      "[700]\tcv_agg's l2: 0.136402 + 0.0176825\n",
      "Early stopping, best iteration is:\n",
      "[627]\tcv_agg's l2: 0.124135 + 0.0221179\n",
      "[100]\tcv_agg's l2: 0.164784 + 0.0187537\n",
      "[200]\tcv_agg's l2: 0.148064 + 0.0165883\n",
      "[300]\tcv_agg's l2: 0.142957 + 0.0174007\n",
      "[400]\tcv_agg's l2: 0.138935 + 0.0171631\n",
      "[500]\tcv_agg's l2: 0.137764 + 0.0167903\n",
      "[600]\tcv_agg's l2: 0.136537 + 0.0170014\n"
     ]
    },
    {
     "name": "stderr",
     "output_type": "stream",
     "text": [
      "num_leaves, val_score: 0.124135:  30%|###############                                   | 6/20 [00:44<01:28,  6.31s/it][I 2023-11-05 12:42:16,630] Trial 12 finished with value: 0.136530732010602 and parameters: {'num_leaves': 5}. Best is trial 10 with value: 0.12413472823306544.\n",
      "num_leaves, val_score: 0.124135:  30%|###############                                   | 6/20 [00:44<01:28,  6.31s/it]"
     ]
    },
    {
     "name": "stdout",
     "output_type": "stream",
     "text": [
      "[700]\tcv_agg's l2: 0.136402 + 0.0176825\n",
      "Early stopping, best iteration is:\n",
      "[627]\tcv_agg's l2: 0.124135 + 0.0221179\n",
      "[100]\tcv_agg's l2: 0.131847 + 0.0273334\n",
      "[200]\tcv_agg's l2: 0.128352 + 0.0269428\n",
      "[300]\tcv_agg's l2: 0.127225 + 0.0264705\n",
      "[400]\tcv_agg's l2: 0.126764 + 0.0262893\n",
      "[500]\tcv_agg's l2: 0.126675 + 0.0262378\n",
      "[600]\tcv_agg's l2: 0.126563 + 0.0262239\n",
      "[700]\tcv_agg's l2: 0.126621 + 0.0261697\n"
     ]
    },
    {
     "name": "stderr",
     "output_type": "stream",
     "text": [
      "num_leaves, val_score: 0.124135:  35%|#################5                                | 7/20 [00:57<01:51,  8.54s/it][I 2023-11-05 12:42:29,764] Trial 13 finished with value: 0.12661134589831305 and parameters: {'num_leaves': 100}. Best is trial 10 with value: 0.12413472823306544.\n",
      "num_leaves, val_score: 0.124135:  35%|#################5                                | 7/20 [00:57<01:51,  8.54s/it]"
     ]
    },
    {
     "name": "stdout",
     "output_type": "stream",
     "text": [
      "Early stopping, best iteration is:\n",
      "[627]\tcv_agg's l2: 0.124135 + 0.0221179\n",
      "[100]\tcv_agg's l2: 0.131847 + 0.0273334\n",
      "[200]\tcv_agg's l2: 0.128352 + 0.0269428\n",
      "[300]\tcv_agg's l2: 0.127225 + 0.0264705\n",
      "[400]\tcv_agg's l2: 0.126764 + 0.0262893\n",
      "[500]\tcv_agg's l2: 0.126675 + 0.0262378\n",
      "[600]\tcv_agg's l2: 0.126563 + 0.0262239\n",
      "[700]\tcv_agg's l2: 0.126621 + 0.0261697\n"
     ]
    },
    {
     "name": "stderr",
     "output_type": "stream",
     "text": [
      "num_leaves, val_score: 0.124135:  40%|####################                              | 8/20 [01:11<02:02, 10.18s/it][I 2023-11-05 12:42:43,438] Trial 14 finished with value: 0.12661134589831305 and parameters: {'num_leaves': 98}. Best is trial 10 with value: 0.12413472823306544.\n",
      "num_leaves, val_score: 0.124135:  40%|####################                              | 8/20 [01:11<02:02, 10.18s/it]"
     ]
    },
    {
     "name": "stdout",
     "output_type": "stream",
     "text": [
      "Early stopping, best iteration is:\n",
      "[627]\tcv_agg's l2: 0.124135 + 0.0221179\n",
      "[100]\tcv_agg's l2: 0.131847 + 0.0273334\n",
      "[200]\tcv_agg's l2: 0.128352 + 0.0269428\n",
      "[300]\tcv_agg's l2: 0.127225 + 0.0264705\n",
      "[400]\tcv_agg's l2: 0.126764 + 0.0262893\n",
      "[500]\tcv_agg's l2: 0.126675 + 0.0262378\n",
      "[600]\tcv_agg's l2: 0.126563 + 0.0262239\n",
      "[700]\tcv_agg's l2: 0.126621 + 0.0261697\n"
     ]
    },
    {
     "name": "stderr",
     "output_type": "stream",
     "text": [
      "num_leaves, val_score: 0.124135:  45%|######################5                           | 9/20 [01:25<02:05, 11.42s/it][I 2023-11-05 12:42:57,590] Trial 15 finished with value: 0.12661134589831305 and parameters: {'num_leaves': 95}. Best is trial 10 with value: 0.12413472823306544.\n",
      "num_leaves, val_score: 0.124135:  45%|######################5                           | 9/20 [01:25<02:05, 11.42s/it]"
     ]
    },
    {
     "name": "stdout",
     "output_type": "stream",
     "text": [
      "Early stopping, best iteration is:\n",
      "[627]\tcv_agg's l2: 0.124135 + 0.0221179\n",
      "[100]\tcv_agg's l2: 0.131847 + 0.0273334\n",
      "[200]\tcv_agg's l2: 0.128352 + 0.0269428\n",
      "[300]\tcv_agg's l2: 0.127225 + 0.0264705\n",
      "[400]\tcv_agg's l2: 0.126764 + 0.0262893\n",
      "[500]\tcv_agg's l2: 0.126675 + 0.0262378\n",
      "[600]\tcv_agg's l2: 0.126563 + 0.0262239\n",
      "[700]\tcv_agg's l2: 0.126621 + 0.0261697\n"
     ]
    },
    {
     "name": "stderr",
     "output_type": "stream",
     "text": [
      "num_leaves, val_score: 0.124135:  50%|########################5                        | 10/20 [01:39<02:01, 12.17s/it][I 2023-11-05 12:43:11,446] Trial 16 finished with value: 0.12661134589831305 and parameters: {'num_leaves': 157}. Best is trial 10 with value: 0.12413472823306544.\n",
      "num_leaves, val_score: 0.124135:  50%|########################5                        | 10/20 [01:39<02:01, 12.17s/it]"
     ]
    },
    {
     "name": "stdout",
     "output_type": "stream",
     "text": [
      "Early stopping, best iteration is:\n",
      "[627]\tcv_agg's l2: 0.124135 + 0.0221179\n",
      "[100]\tcv_agg's l2: 0.131847 + 0.0273334\n",
      "[200]\tcv_agg's l2: 0.128352 + 0.0269428\n",
      "[300]\tcv_agg's l2: 0.127225 + 0.0264705\n",
      "[400]\tcv_agg's l2: 0.126764 + 0.0262893\n",
      "[500]\tcv_agg's l2: 0.126675 + 0.0262378\n",
      "[600]\tcv_agg's l2: 0.126563 + 0.0262239\n",
      "[700]\tcv_agg's l2: 0.126621 + 0.0261697\n"
     ]
    },
    {
     "name": "stderr",
     "output_type": "stream",
     "text": [
      "num_leaves, val_score: 0.124135:  55%|##########################9                      | 11/20 [01:52<01:51, 12.36s/it][I 2023-11-05 12:43:24,234] Trial 17 finished with value: 0.12661134589831305 and parameters: {'num_leaves': 51}. Best is trial 10 with value: 0.12413472823306544.\n",
      "num_leaves, val_score: 0.124135:  55%|##########################9                      | 11/20 [01:52<01:51, 12.36s/it]"
     ]
    },
    {
     "name": "stdout",
     "output_type": "stream",
     "text": [
      "Early stopping, best iteration is:\n",
      "[627]\tcv_agg's l2: 0.124135 + 0.0221179\n",
      "[100]\tcv_agg's l2: 0.131847 + 0.0273334\n",
      "[200]\tcv_agg's l2: 0.128352 + 0.0269428\n",
      "[300]\tcv_agg's l2: 0.127225 + 0.0264705\n",
      "[400]\tcv_agg's l2: 0.126764 + 0.0262893\n",
      "[500]\tcv_agg's l2: 0.126675 + 0.0262378\n",
      "[600]\tcv_agg's l2: 0.126563 + 0.0262239\n",
      "[700]\tcv_agg's l2: 0.126621 + 0.0261697\n"
     ]
    },
    {
     "name": "stderr",
     "output_type": "stream",
     "text": [
      "num_leaves, val_score: 0.124135:  60%|#############################4                   | 12/20 [02:05<01:41, 12.67s/it][I 2023-11-05 12:43:37,623] Trial 18 finished with value: 0.12661134589831305 and parameters: {'num_leaves': 163}. Best is trial 10 with value: 0.12413472823306544.\n",
      "num_leaves, val_score: 0.124135:  60%|#############################4                   | 12/20 [02:05<01:41, 12.67s/it]"
     ]
    },
    {
     "name": "stdout",
     "output_type": "stream",
     "text": [
      "Early stopping, best iteration is:\n",
      "[627]\tcv_agg's l2: 0.124135 + 0.0221179\n",
      "[100]\tcv_agg's l2: 0.131847 + 0.0273334\n",
      "[200]\tcv_agg's l2: 0.128352 + 0.0269428\n",
      "[300]\tcv_agg's l2: 0.127225 + 0.0264705\n",
      "[400]\tcv_agg's l2: 0.126764 + 0.0262893\n",
      "[500]\tcv_agg's l2: 0.126675 + 0.0262378\n",
      "[600]\tcv_agg's l2: 0.126563 + 0.0262239\n",
      "[700]\tcv_agg's l2: 0.126621 + 0.0261697\n"
     ]
    },
    {
     "name": "stderr",
     "output_type": "stream",
     "text": [
      "num_leaves, val_score: 0.124135:  65%|###############################8                 | 13/20 [02:19<01:31, 13.03s/it][I 2023-11-05 12:43:51,489] Trial 19 finished with value: 0.12661134589831305 and parameters: {'num_leaves': 58}. Best is trial 10 with value: 0.12413472823306544.\n",
      "num_leaves, val_score: 0.124135:  65%|###############################8                 | 13/20 [02:19<01:31, 13.03s/it]"
     ]
    },
    {
     "name": "stdout",
     "output_type": "stream",
     "text": [
      "Early stopping, best iteration is:\n",
      "[627]\tcv_agg's l2: 0.124135 + 0.0221179\n",
      "[100]\tcv_agg's l2: 0.131847 + 0.0273334\n",
      "[200]\tcv_agg's l2: 0.128352 + 0.0269428\n",
      "[300]\tcv_agg's l2: 0.127225 + 0.0264705\n",
      "[400]\tcv_agg's l2: 0.126764 + 0.0262893\n",
      "[500]\tcv_agg's l2: 0.126675 + 0.0262378\n",
      "[600]\tcv_agg's l2: 0.126563 + 0.0262239\n",
      "[700]\tcv_agg's l2: 0.126621 + 0.0261697\n"
     ]
    },
    {
     "name": "stderr",
     "output_type": "stream",
     "text": [
      "num_leaves, val_score: 0.124135:  70%|##################################3              | 14/20 [02:32<01:18, 13.03s/it][I 2023-11-05 12:44:04,499] Trial 20 finished with value: 0.12661134589831305 and parameters: {'num_leaves': 187}. Best is trial 10 with value: 0.12413472823306544.\n",
      "num_leaves, val_score: 0.124135:  70%|##################################3              | 14/20 [02:32<01:18, 13.03s/it]"
     ]
    },
    {
     "name": "stdout",
     "output_type": "stream",
     "text": [
      "Early stopping, best iteration is:\n",
      "[627]\tcv_agg's l2: 0.124135 + 0.0221179\n",
      "[100]\tcv_agg's l2: 0.131847 + 0.0273334\n",
      "[200]\tcv_agg's l2: 0.128352 + 0.0269428\n",
      "[300]\tcv_agg's l2: 0.127225 + 0.0264705\n",
      "[400]\tcv_agg's l2: 0.126764 + 0.0262893\n",
      "[500]\tcv_agg's l2: 0.126675 + 0.0262378\n",
      "[600]\tcv_agg's l2: 0.126563 + 0.0262239\n",
      "[700]\tcv_agg's l2: 0.126621 + 0.0261697\n"
     ]
    },
    {
     "name": "stderr",
     "output_type": "stream",
     "text": [
      "num_leaves, val_score: 0.124135:  75%|####################################7            | 15/20 [02:48<01:09, 13.90s/it][I 2023-11-05 12:44:20,422] Trial 21 finished with value: 0.12661134589831305 and parameters: {'num_leaves': 105}. Best is trial 10 with value: 0.12413472823306544.\n",
      "num_leaves, val_score: 0.124135:  75%|####################################7            | 15/20 [02:48<01:09, 13.90s/it]"
     ]
    },
    {
     "name": "stdout",
     "output_type": "stream",
     "text": [
      "Early stopping, best iteration is:\n",
      "[627]\tcv_agg's l2: 0.124135 + 0.0221179\n",
      "[100]\tcv_agg's l2: 0.131847 + 0.0273334\n",
      "[200]\tcv_agg's l2: 0.128352 + 0.0269428\n",
      "[300]\tcv_agg's l2: 0.127225 + 0.0264705\n",
      "[400]\tcv_agg's l2: 0.126764 + 0.0262893\n",
      "[500]\tcv_agg's l2: 0.126675 + 0.0262378\n",
      "[600]\tcv_agg's l2: 0.126563 + 0.0262239\n",
      "[700]\tcv_agg's l2: 0.126621 + 0.0261697\n"
     ]
    },
    {
     "name": "stderr",
     "output_type": "stream",
     "text": [
      "num_leaves, val_score: 0.124135:  80%|#######################################2         | 16/20 [03:04<00:57, 14.39s/it][I 2023-11-05 12:44:35,933] Trial 22 finished with value: 0.12661134589831305 and parameters: {'num_leaves': 60}. Best is trial 10 with value: 0.12413472823306544.\n",
      "num_leaves, val_score: 0.124135:  80%|#######################################2         | 16/20 [03:04<00:57, 14.39s/it]"
     ]
    },
    {
     "name": "stdout",
     "output_type": "stream",
     "text": [
      "Early stopping, best iteration is:\n",
      "[627]\tcv_agg's l2: 0.124135 + 0.0221179\n",
      "[100]\tcv_agg's l2: 0.131847 + 0.0273334\n",
      "[200]\tcv_agg's l2: 0.128352 + 0.0269428\n",
      "[300]\tcv_agg's l2: 0.127225 + 0.0264705\n",
      "[400]\tcv_agg's l2: 0.126764 + 0.0262893\n",
      "[500]\tcv_agg's l2: 0.126675 + 0.0262378\n",
      "[600]\tcv_agg's l2: 0.126563 + 0.0262239\n",
      "[700]\tcv_agg's l2: 0.126621 + 0.0261697\n"
     ]
    },
    {
     "name": "stderr",
     "output_type": "stream",
     "text": [
      "num_leaves, val_score: 0.124135:  85%|#########################################6       | 17/20 [03:15<00:40, 13.38s/it][I 2023-11-05 12:44:46,965] Trial 23 finished with value: 0.12661134589831305 and parameters: {'num_leaves': 112}. Best is trial 10 with value: 0.12413472823306544.\n",
      "num_leaves, val_score: 0.124135:  85%|#########################################6       | 17/20 [03:15<00:40, 13.38s/it]"
     ]
    },
    {
     "name": "stdout",
     "output_type": "stream",
     "text": [
      "Early stopping, best iteration is:\n",
      "[627]\tcv_agg's l2: 0.124135 + 0.0221179\n",
      "[100]\tcv_agg's l2: 0.131847 + 0.0273334\n",
      "[200]\tcv_agg's l2: 0.128352 + 0.0269428\n",
      "[300]\tcv_agg's l2: 0.127225 + 0.0264705\n",
      "[400]\tcv_agg's l2: 0.126764 + 0.0262893\n",
      "[500]\tcv_agg's l2: 0.126675 + 0.0262378\n",
      "[600]\tcv_agg's l2: 0.126563 + 0.0262239\n",
      "[700]\tcv_agg's l2: 0.126621 + 0.0261697\n"
     ]
    },
    {
     "name": "stderr",
     "output_type": "stream",
     "text": [
      "num_leaves, val_score: 0.124135:  90%|############################################1    | 18/20 [03:24<00:24, 12.23s/it][I 2023-11-05 12:44:56,526] Trial 24 finished with value: 0.12661134589831305 and parameters: {'num_leaves': 81}. Best is trial 10 with value: 0.12413472823306544.\n",
      "num_leaves, val_score: 0.124135:  90%|############################################1    | 18/20 [03:24<00:24, 12.23s/it]"
     ]
    },
    {
     "name": "stdout",
     "output_type": "stream",
     "text": [
      "Early stopping, best iteration is:\n",
      "[627]\tcv_agg's l2: 0.124135 + 0.0221179\n",
      "[100]\tcv_agg's l2: 0.131847 + 0.0273334\n",
      "[200]\tcv_agg's l2: 0.128352 + 0.0269428\n",
      "[300]\tcv_agg's l2: 0.127225 + 0.0264705\n",
      "[400]\tcv_agg's l2: 0.126764 + 0.0262893\n",
      "[500]\tcv_agg's l2: 0.126675 + 0.0262378\n",
      "[600]\tcv_agg's l2: 0.126563 + 0.0262239\n",
      "[700]\tcv_agg's l2: 0.126621 + 0.0261697\n"
     ]
    },
    {
     "name": "stderr",
     "output_type": "stream",
     "text": [
      "num_leaves, val_score: 0.124135:  95%|##############################################5  | 19/20 [03:33<00:11, 11.36s/it][I 2023-11-05 12:45:05,848] Trial 25 finished with value: 0.12661134589831305 and parameters: {'num_leaves': 132}. Best is trial 10 with value: 0.12413472823306544.\n",
      "num_leaves, val_score: 0.124135:  95%|##############################################5  | 19/20 [03:33<00:11, 11.36s/it]"
     ]
    },
    {
     "name": "stdout",
     "output_type": "stream",
     "text": [
      "Early stopping, best iteration is:\n",
      "[627]\tcv_agg's l2: 0.124135 + 0.0221179\n",
      "[100]\tcv_agg's l2: 0.131847 + 0.0273334\n",
      "[200]\tcv_agg's l2: 0.128352 + 0.0269428\n",
      "[300]\tcv_agg's l2: 0.127225 + 0.0264705\n",
      "[400]\tcv_agg's l2: 0.126764 + 0.0262893\n",
      "[500]\tcv_agg's l2: 0.126675 + 0.0262378\n",
      "[600]\tcv_agg's l2: 0.126563 + 0.0262239\n",
      "[700]\tcv_agg's l2: 0.126621 + 0.0261697\n"
     ]
    },
    {
     "name": "stderr",
     "output_type": "stream",
     "text": [
      "num_leaves, val_score: 0.124135: 100%|#################################################| 20/20 [03:43<00:00, 10.74s/it][I 2023-11-05 12:45:15,165] Trial 26 finished with value: 0.12661134589831305 and parameters: {'num_leaves': 29}. Best is trial 10 with value: 0.12413472823306544.\n",
      "num_leaves, val_score: 0.124135: 100%|#################################################| 20/20 [03:43<00:00, 11.16s/it]\n"
     ]
    },
    {
     "name": "stdout",
     "output_type": "stream",
     "text": [
      "Early stopping, best iteration is:\n",
      "[627]\tcv_agg's l2: 0.124135 + 0.0221179\n"
     ]
    },
    {
     "name": "stderr",
     "output_type": "stream",
     "text": [
      "bagging, val_score: 0.124135:   0%|                                                             | 0/10 [00:00<?, ?it/s]"
     ]
    },
    {
     "name": "stdout",
     "output_type": "stream",
     "text": [
      "[100]\tcv_agg's l2: 0.176352 + 0.0202993\n",
      "[200]\tcv_agg's l2: 0.164556 + 0.0220535\n",
      "[300]\tcv_agg's l2: 0.160044 + 0.022218\n",
      "[400]\tcv_agg's l2: 0.161105 + 0.0194396\n",
      "[500]\tcv_agg's l2: 0.161962 + 0.0190467\n",
      "[600]\tcv_agg's l2: 0.163442 + 0.0193763\n"
     ]
    },
    {
     "name": "stderr",
     "output_type": "stream",
     "text": [
      "\r",
      "bagging, val_score: 0.124135:   0%|                                                             | 0/10 [00:04<?, ?it/s]"
     ]
    },
    {
     "name": "stdout",
     "output_type": "stream",
     "text": [
      "[700]\tcv_agg's l2: 0.161119 + 0.016914\n",
      "Early stopping, best iteration is:\n",
      "[627]\tcv_agg's l2: 0.124135 + 0.0221179\n"
     ]
    },
    {
     "name": "stderr",
     "output_type": "stream",
     "text": [
      "bagging, val_score: 0.124135:  10%|#####3                                               | 1/10 [00:04<00:40,  4.55s/it][I 2023-11-05 12:45:19,717] Trial 27 finished with value: 0.16231128665553635 and parameters: {'bagging_fraction': 0.5290110616198336, 'bagging_freq': 6}. Best is trial 27 with value: 0.16231128665553635.\n",
      "bagging, val_score: 0.124135:  10%|#####3                                               | 1/10 [00:04<00:40,  4.55s/it]"
     ]
    },
    {
     "name": "stdout",
     "output_type": "stream",
     "text": [
      "[100]\tcv_agg's l2: 0.136608 + 0.0230547\n",
      "[200]\tcv_agg's l2: 0.130906 + 0.0249402\n",
      "[300]\tcv_agg's l2: 0.129329 + 0.024723\n",
      "[400]\tcv_agg's l2: 0.127927 + 0.0254698\n",
      "[500]\tcv_agg's l2: 0.127412 + 0.0250188\n",
      "[600]\tcv_agg's l2: 0.126874 + 0.024391\n"
     ]
    },
    {
     "name": "stderr",
     "output_type": "stream",
     "text": [
      "bagging, val_score: 0.124135:  20%|##########6                                          | 2/10 [00:09<00:37,  4.63s/it][I 2023-11-05 12:45:24,411] Trial 28 finished with value: 0.12684677800361197 and parameters: {'bagging_fraction': 0.9821078087550839, 'bagging_freq': 1}. Best is trial 28 with value: 0.12684677800361197.\n",
      "bagging, val_score: 0.124135:  20%|##########6                                          | 2/10 [00:09<00:37,  4.63s/it]"
     ]
    },
    {
     "name": "stdout",
     "output_type": "stream",
     "text": [
      "[700]\tcv_agg's l2: 0.126548 + 0.0245236\n",
      "Early stopping, best iteration is:\n",
      "[627]\tcv_agg's l2: 0.124135 + 0.0221179\n",
      "[100]\tcv_agg's l2: 0.189072 + 0.0202396\n",
      "[200]\tcv_agg's l2: 0.180192 + 0.0226035\n",
      "[300]\tcv_agg's l2: 0.176469 + 0.0191454\n",
      "[400]\tcv_agg's l2: 0.171446 + 0.0192172\n",
      "[500]\tcv_agg's l2: 0.173916 + 0.0193431\n",
      "[600]\tcv_agg's l2: 0.17352 + 0.0201565\n"
     ]
    },
    {
     "name": "stderr",
     "output_type": "stream",
     "text": [
      "bagging, val_score: 0.124135:  30%|###############9                                     | 3/10 [00:13<00:31,  4.56s/it][I 2023-11-05 12:45:28,881] Trial 29 finished with value: 0.17462999469216722 and parameters: {'bagging_fraction': 0.43766307970342, 'bagging_freq': 2}. Best is trial 28 with value: 0.12684677800361197.\n",
      "bagging, val_score: 0.124135:  30%|###############9                                     | 3/10 [00:13<00:31,  4.56s/it]"
     ]
    },
    {
     "name": "stdout",
     "output_type": "stream",
     "text": [
      "[700]\tcv_agg's l2: 0.173886 + 0.0199141\n",
      "Early stopping, best iteration is:\n",
      "[627]\tcv_agg's l2: 0.124135 + 0.0221179\n",
      "[100]\tcv_agg's l2: 0.154836 + 0.0279646\n",
      "[200]\tcv_agg's l2: 0.145049 + 0.0269457\n",
      "[300]\tcv_agg's l2: 0.144329 + 0.0260291\n",
      "[400]\tcv_agg's l2: 0.143905 + 0.0256256\n",
      "[500]\tcv_agg's l2: 0.143065 + 0.0254163\n",
      "[600]\tcv_agg's l2: 0.142737 + 0.0251912\n"
     ]
    },
    {
     "name": "stderr",
     "output_type": "stream",
     "text": [
      "bagging, val_score: 0.124135:  40%|#####################2                               | 4/10 [00:18<00:27,  4.61s/it]"
     ]
    },
    {
     "name": "stdout",
     "output_type": "stream",
     "text": [
      "[700]\tcv_agg's l2: 0.14311 + 0.0253273\n",
      "Early stopping, best iteration is:\n",
      "[627]\tcv_agg's l2: 0.124135 + 0.0221179\n"
     ]
    },
    {
     "name": "stderr",
     "output_type": "stream",
     "text": [
      "[I 2023-11-05 12:45:33,574] Trial 30 finished with value: 0.14263976828527122 and parameters: {'bagging_fraction': 0.7829733742079408, 'bagging_freq': 7}. Best is trial 28 with value: 0.12684677800361197.\n",
      "bagging, val_score: 0.124135:  40%|#####################2                               | 4/10 [00:18<00:27,  4.61s/it]"
     ]
    },
    {
     "name": "stdout",
     "output_type": "stream",
     "text": [
      "[100]\tcv_agg's l2: 0.163104 + 0.0213015\n",
      "[200]\tcv_agg's l2: 0.15264 + 0.0203917\n",
      "[300]\tcv_agg's l2: 0.149946 + 0.0179439\n",
      "[400]\tcv_agg's l2: 0.150152 + 0.0177671\n",
      "[500]\tcv_agg's l2: 0.149802 + 0.0176633\n",
      "[600]\tcv_agg's l2: 0.150668 + 0.0173355\n"
     ]
    },
    {
     "name": "stderr",
     "output_type": "stream",
     "text": [
      "\r",
      "bagging, val_score: 0.124135:  40%|#####################2                               | 4/10 [00:23<00:27,  4.61s/it]"
     ]
    },
    {
     "name": "stdout",
     "output_type": "stream",
     "text": [
      "[700]\tcv_agg's l2: 0.150995 + 0.0179402\n",
      "Early stopping, best iteration is:\n",
      "[627]\tcv_agg's l2: 0.124135 + 0.0221179\n"
     ]
    },
    {
     "name": "stderr",
     "output_type": "stream",
     "text": [
      "bagging, val_score: 0.124135:  50%|##########################5                          | 5/10 [00:23<00:23,  4.64s/it][I 2023-11-05 12:45:38,277] Trial 31 finished with value: 0.14978513363236162 and parameters: {'bagging_fraction': 0.6886004103309358, 'bagging_freq': 4}. Best is trial 28 with value: 0.12684677800361197.\n",
      "bagging, val_score: 0.124135:  50%|##########################5                          | 5/10 [00:23<00:23,  4.64s/it]"
     ]
    },
    {
     "name": "stdout",
     "output_type": "stream",
     "text": [
      "[100]\tcv_agg's l2: 0.206393 + 0.0498162\n",
      "[200]\tcv_agg's l2: 0.187951 + 0.047867\n",
      "[300]\tcv_agg's l2: 0.188808 + 0.0514764\n",
      "[400]\tcv_agg's l2: 0.184368 + 0.0498634\n",
      "[500]\tcv_agg's l2: 0.183345 + 0.0488785\n",
      "[600]\tcv_agg's l2: 0.182798 + 0.0464251\n"
     ]
    },
    {
     "name": "stderr",
     "output_type": "stream",
     "text": [
      "bagging, val_score: 0.124135:  60%|###############################8                     | 6/10 [00:27<00:18,  4.53s/it][I 2023-11-05 12:45:42,596] Trial 32 finished with value: 0.1827180701949084 and parameters: {'bagging_fraction': 0.40372825381452954, 'bagging_freq': 4}. Best is trial 28 with value: 0.12684677800361197.\n",
      "bagging, val_score: 0.124135:  60%|###############################8                     | 6/10 [00:27<00:18,  4.53s/it]"
     ]
    },
    {
     "name": "stdout",
     "output_type": "stream",
     "text": [
      "[700]\tcv_agg's l2: 0.184532 + 0.0474649\n",
      "Early stopping, best iteration is:\n",
      "[627]\tcv_agg's l2: 0.124135 + 0.0221179\n",
      "[100]\tcv_agg's l2: 0.143406 + 0.0242879\n",
      "[200]\tcv_agg's l2: 0.134358 + 0.0262858\n",
      "[300]\tcv_agg's l2: 0.132241 + 0.0269779\n",
      "[400]\tcv_agg's l2: 0.131614 + 0.0272259\n",
      "[500]\tcv_agg's l2: 0.13116 + 0.0261161\n",
      "[600]\tcv_agg's l2: 0.131293 + 0.0264486\n"
     ]
    },
    {
     "name": "stderr",
     "output_type": "stream",
     "text": [
      "\r",
      "bagging, val_score: 0.124135:  60%|###############################8                     | 6/10 [00:32<00:18,  4.53s/it]"
     ]
    },
    {
     "name": "stdout",
     "output_type": "stream",
     "text": [
      "[700]\tcv_agg's l2: 0.131252 + 0.0267129\n",
      "Early stopping, best iteration is:\n",
      "[627]\tcv_agg's l2: 0.124135 + 0.0221179\n"
     ]
    },
    {
     "name": "stderr",
     "output_type": "stream",
     "text": [
      "bagging, val_score: 0.124135:  70%|#####################################                | 7/10 [00:32<00:13,  4.56s/it][I 2023-11-05 12:45:47,200] Trial 33 finished with value: 0.1311475143169037 and parameters: {'bagging_fraction': 0.9862431963814553, 'bagging_freq': 5}. Best is trial 28 with value: 0.12684677800361197.\n",
      "bagging, val_score: 0.124135:  70%|#####################################                | 7/10 [00:32<00:13,  4.56s/it]"
     ]
    },
    {
     "name": "stdout",
     "output_type": "stream",
     "text": [
      "[100]\tcv_agg's l2: 0.164131 + 0.0227406\n",
      "[200]\tcv_agg's l2: 0.159946 + 0.0226504\n",
      "[300]\tcv_agg's l2: 0.157005 + 0.0217248\n",
      "[400]\tcv_agg's l2: 0.156085 + 0.0238021\n",
      "[500]\tcv_agg's l2: 0.1562 + 0.0237069\n",
      "[600]\tcv_agg's l2: 0.156522 + 0.0253169\n",
      "[700]\tcv_agg's l2: 0.156265 + 0.0259927\n"
     ]
    },
    {
     "name": "stderr",
     "output_type": "stream",
     "text": [
      "bagging, val_score: 0.124135:  80%|##########################################4          | 8/10 [00:37<00:09,  4.80s/it][I 2023-11-05 12:45:52,531] Trial 34 finished with value: 0.1565367402850666 and parameters: {'bagging_fraction': 0.6800440121648811, 'bagging_freq': 2}. Best is trial 28 with value: 0.12684677800361197.\n",
      "bagging, val_score: 0.124135:  80%|##########################################4          | 8/10 [00:37<00:09,  4.80s/it]"
     ]
    },
    {
     "name": "stdout",
     "output_type": "stream",
     "text": [
      "Early stopping, best iteration is:\n",
      "[627]\tcv_agg's l2: 0.124135 + 0.0221179\n",
      "[100]\tcv_agg's l2: 0.150502 + 0.029136\n",
      "[200]\tcv_agg's l2: 0.142319 + 0.0283056\n",
      "[300]\tcv_agg's l2: 0.14029 + 0.0271293\n",
      "[400]\tcv_agg's l2: 0.139095 + 0.0263288\n",
      "[500]\tcv_agg's l2: 0.138033 + 0.0267078\n",
      "[600]\tcv_agg's l2: 0.137751 + 0.026512\n"
     ]
    },
    {
     "name": "stderr",
     "output_type": "stream",
     "text": [
      "bagging, val_score: 0.124135:  90%|###############################################7     | 9/10 [00:40<00:04,  4.33s/it][I 2023-11-05 12:45:55,807] Trial 35 finished with value: 0.1374691917004543 and parameters: {'bagging_fraction': 0.8478737152114302, 'bagging_freq': 7}. Best is trial 28 with value: 0.12684677800361197.\n",
      "bagging, val_score: 0.124135:  90%|###############################################7     | 9/10 [00:40<00:04,  4.33s/it]"
     ]
    },
    {
     "name": "stdout",
     "output_type": "stream",
     "text": [
      "[700]\tcv_agg's l2: 0.137733 + 0.026958\n",
      "Early stopping, best iteration is:\n",
      "[627]\tcv_agg's l2: 0.124135 + 0.0221179\n",
      "[100]\tcv_agg's l2: 0.167576 + 0.0214181\n",
      "[200]\tcv_agg's l2: 0.157308 + 0.0173847\n",
      "[300]\tcv_agg's l2: 0.15718 + 0.0202156\n",
      "[400]\tcv_agg's l2: 0.153866 + 0.0189336\n",
      "[500]\tcv_agg's l2: 0.154249 + 0.0194693\n",
      "[600]\tcv_agg's l2: 0.155356 + 0.0195048\n"
     ]
    },
    {
     "name": "stderr",
     "output_type": "stream",
     "text": [
      "bagging, val_score: 0.124135: 100%|####################################################| 10/10 [00:43<00:00,  3.76s/it][I 2023-11-05 12:45:58,291] Trial 36 finished with value: 0.15575727757308153 and parameters: {'bagging_fraction': 0.5732081997072591, 'bagging_freq': 3}. Best is trial 28 with value: 0.12684677800361197.\n",
      "bagging, val_score: 0.124135: 100%|####################################################| 10/10 [00:43<00:00,  4.31s/it]\n"
     ]
    },
    {
     "name": "stdout",
     "output_type": "stream",
     "text": [
      "[700]\tcv_agg's l2: 0.156221 + 0.0198884\n",
      "Early stopping, best iteration is:\n",
      "[627]\tcv_agg's l2: 0.124135 + 0.0221179\n"
     ]
    },
    {
     "name": "stderr",
     "output_type": "stream",
     "text": [
      "feature_fraction_stage2, val_score: 0.124135:   0%|                                              | 0/6 [00:00<?, ?it/s]"
     ]
    },
    {
     "name": "stdout",
     "output_type": "stream",
     "text": [
      "[100]\tcv_agg's l2: 0.1348 + 0.0194646\n",
      "[200]\tcv_agg's l2: 0.127664 + 0.0199457\n",
      "[300]\tcv_agg's l2: 0.125494 + 0.0196958\n",
      "[400]\tcv_agg's l2: 0.124423 + 0.0200338\n",
      "[500]\tcv_agg's l2: 0.124253 + 0.0196384\n",
      "[600]\tcv_agg's l2: 0.123907 + 0.0196541\n"
     ]
    },
    {
     "name": "stderr",
     "output_type": "stream",
     "text": [
      "feature_fraction_stage2, val_score: 0.123837:  17%|######3                               | 1/6 [00:02<00:11,  2.29s/it][I 2023-11-05 12:46:00,589] Trial 37 finished with value: 0.12383692903532298 and parameters: {'feature_fraction': 0.45199999999999996}. Best is trial 37 with value: 0.12383692903532298.\n",
      "feature_fraction_stage2, val_score: 0.123837:  17%|######3                               | 1/6 [00:02<00:11,  2.29s/it]"
     ]
    },
    {
     "name": "stdout",
     "output_type": "stream",
     "text": [
      "Early stopping, best iteration is:\n",
      "[577]\tcv_agg's l2: 0.123837 + 0.0196582\n",
      "[100]\tcv_agg's l2: 0.133684 + 0.0205901\n",
      "[200]\tcv_agg's l2: 0.126626 + 0.0208562\n",
      "[300]\tcv_agg's l2: 0.125279 + 0.0210185\n",
      "[400]\tcv_agg's l2: 0.124157 + 0.0215675\n",
      "[500]\tcv_agg's l2: 0.124239 + 0.0212154\n",
      "[600]\tcv_agg's l2: 0.123905 + 0.0213331\n"
     ]
    },
    {
     "name": "stderr",
     "output_type": "stream",
     "text": [
      "feature_fraction_stage2, val_score: 0.123837:  33%|############6                         | 2/6 [00:04<00:09,  2.30s/it][I 2023-11-05 12:46:02,893] Trial 38 finished with value: 0.12404376661372159 and parameters: {'feature_fraction': 0.516}. Best is trial 37 with value: 0.12383692903532298.\n",
      "feature_fraction_stage2, val_score: 0.123837:  33%|############6                         | 2/6 [00:04<00:09,  2.30s/it]"
     ]
    },
    {
     "name": "stdout",
     "output_type": "stream",
     "text": [
      "Early stopping, best iteration is:\n",
      "[577]\tcv_agg's l2: 0.123837 + 0.0196582\n",
      "[100]\tcv_agg's l2: 0.136455 + 0.0235566\n",
      "[200]\tcv_agg's l2: 0.130148 + 0.0234674\n",
      "[300]\tcv_agg's l2: 0.127642 + 0.0232686\n",
      "[400]\tcv_agg's l2: 0.126825 + 0.0231626\n",
      "[500]\tcv_agg's l2: 0.126527 + 0.0231401\n",
      "[600]\tcv_agg's l2: 0.126505 + 0.0231119\n"
     ]
    },
    {
     "name": "stderr",
     "output_type": "stream",
     "text": [
      "feature_fraction_stage2, val_score: 0.123837:  50%|###################                   | 3/6 [00:06<00:06,  2.23s/it][I 2023-11-05 12:46:05,042] Trial 39 finished with value: 0.12638702302491497 and parameters: {'feature_fraction': 0.58}. Best is trial 37 with value: 0.12383692903532298.\n",
      "feature_fraction_stage2, val_score: 0.123837:  50%|###################                   | 3/6 [00:06<00:06,  2.23s/it]"
     ]
    },
    {
     "name": "stdout",
     "output_type": "stream",
     "text": [
      "Early stopping, best iteration is:\n",
      "[577]\tcv_agg's l2: 0.123837 + 0.0196582\n",
      "[100]\tcv_agg's l2: 0.143682 + 0.0225176\n",
      "[200]\tcv_agg's l2: 0.135364 + 0.0218308\n",
      "[300]\tcv_agg's l2: 0.132516 + 0.0218282\n",
      "[400]\tcv_agg's l2: 0.132047 + 0.0221188\n",
      "[500]\tcv_agg's l2: 0.13144 + 0.0220522\n",
      "[600]\tcv_agg's l2: 0.131226 + 0.0217545\n"
     ]
    },
    {
     "name": "stderr",
     "output_type": "stream",
     "text": [
      "feature_fraction_stage2, val_score: 0.123837:  67%|#########################3            | 4/6 [00:09<00:04,  2.30s/it][I 2023-11-05 12:46:07,439] Trial 40 finished with value: 0.1312291146579973 and parameters: {'feature_fraction': 0.42}. Best is trial 37 with value: 0.12383692903532298.\n",
      "feature_fraction_stage2, val_score: 0.123837:  67%|#########################3            | 4/6 [00:09<00:04,  2.30s/it]"
     ]
    },
    {
     "name": "stdout",
     "output_type": "stream",
     "text": [
      "Early stopping, best iteration is:\n",
      "[577]\tcv_agg's l2: 0.123837 + 0.0196582\n",
      "[100]\tcv_agg's l2: 0.135278 + 0.0219468\n",
      "[200]\tcv_agg's l2: 0.128067 + 0.0213045\n",
      "[300]\tcv_agg's l2: 0.124938 + 0.020736\n",
      "[400]\tcv_agg's l2: 0.124305 + 0.0209795\n",
      "[500]\tcv_agg's l2: 0.124373 + 0.0205412\n",
      "[600]\tcv_agg's l2: 0.124172 + 0.020763\n"
     ]
    },
    {
     "name": "stderr",
     "output_type": "stream",
     "text": [
      "feature_fraction_stage2, val_score: 0.123837:  83%|###############################6      | 5/6 [00:11<00:02,  2.41s/it][I 2023-11-05 12:46:10,058] Trial 41 finished with value: 0.1241869728453215 and parameters: {'feature_fraction': 0.484}. Best is trial 37 with value: 0.12383692903532298.\n",
      "feature_fraction_stage2, val_score: 0.123837:  83%|###############################6      | 5/6 [00:11<00:02,  2.41s/it]"
     ]
    },
    {
     "name": "stdout",
     "output_type": "stream",
     "text": [
      "Early stopping, best iteration is:\n",
      "[577]\tcv_agg's l2: 0.123837 + 0.0196582\n",
      "[100]\tcv_agg's l2: 0.13671 + 0.0232241\n",
      "[200]\tcv_agg's l2: 0.129116 + 0.0231411\n",
      "[300]\tcv_agg's l2: 0.125993 + 0.0228692\n",
      "[400]\tcv_agg's l2: 0.126087 + 0.0228618\n",
      "[500]\tcv_agg's l2: 0.125886 + 0.0224071\n",
      "[600]\tcv_agg's l2: 0.125567 + 0.0228255\n"
     ]
    },
    {
     "name": "stderr",
     "output_type": "stream",
     "text": [
      "feature_fraction_stage2, val_score: 0.123837: 100%|######################################| 6/6 [00:14<00:00,  2.38s/it][I 2023-11-05 12:46:12,368] Trial 42 finished with value: 0.12547237068521228 and parameters: {'feature_fraction': 0.5479999999999999}. Best is trial 37 with value: 0.12383692903532298.\n",
      "feature_fraction_stage2, val_score: 0.123837: 100%|######################################| 6/6 [00:14<00:00,  2.35s/it]\n"
     ]
    },
    {
     "name": "stdout",
     "output_type": "stream",
     "text": [
      "Early stopping, best iteration is:\n",
      "[577]\tcv_agg's l2: 0.123837 + 0.0196582\n"
     ]
    },
    {
     "name": "stderr",
     "output_type": "stream",
     "text": [
      "regularization_factors, val_score: 0.123837:   0%|                                              | 0/20 [00:00<?, ?it/s]"
     ]
    },
    {
     "name": "stdout",
     "output_type": "stream",
     "text": [
      "[100]\tcv_agg's l2: 0.133545 + 0.0202659\n",
      "[200]\tcv_agg's l2: 0.126247 + 0.0206112\n",
      "[300]\tcv_agg's l2: 0.124109 + 0.0211441\n",
      "[400]\tcv_agg's l2: 0.123621 + 0.0213847\n",
      "[500]\tcv_agg's l2: 0.12348 + 0.0208796\n"
     ]
    },
    {
     "name": "stderr",
     "output_type": "stream",
     "text": [
      "regularization_factors, val_score: 0.123121:   5%|#9                                    | 1/20 [00:02<00:38,  2.02s/it][I 2023-11-05 12:46:14,400] Trial 43 finished with value: 0.12312142485927055 and parameters: {'lambda_l1': 0.002304426423448689, 'lambda_l2': 0.0003358139826449658}. Best is trial 43 with value: 0.12312142485927055.\n",
      "regularization_factors, val_score: 0.123121:   5%|#9                                    | 1/20 [00:02<00:38,  2.02s/it]"
     ]
    },
    {
     "name": "stdout",
     "output_type": "stream",
     "text": [
      "Early stopping, best iteration is:\n",
      "[478]\tcv_agg's l2: 0.123121 + 0.0209673\n",
      "[100]\tcv_agg's l2: 0.134747 + 0.0195692\n",
      "[200]\tcv_agg's l2: 0.127326 + 0.0204796\n",
      "[300]\tcv_agg's l2: 0.125746 + 0.0205368\n",
      "[400]\tcv_agg's l2: 0.124808 + 0.0196907\n",
      "[500]\tcv_agg's l2: 0.124758 + 0.0199931\n"
     ]
    },
    {
     "name": "stderr",
     "output_type": "stream",
     "text": [
      "regularization_factors, val_score: 0.123121:  10%|###8                                  | 2/20 [00:03<00:35,  1.95s/it][I 2023-11-05 12:46:16,300] Trial 44 finished with value: 0.12485680483397243 and parameters: {'lambda_l1': 0.0018190753773145944, 'lambda_l2': 0.0003506757384099593}. Best is trial 43 with value: 0.12312142485927055.\n",
      "regularization_factors, val_score: 0.123121:  10%|###8                                  | 2/20 [00:03<00:35,  1.95s/it]"
     ]
    },
    {
     "name": "stdout",
     "output_type": "stream",
     "text": [
      "Early stopping, best iteration is:\n",
      "[478]\tcv_agg's l2: 0.123121 + 0.0209673\n",
      "[100]\tcv_agg's l2: 0.210818 + 0.0277813\n",
      "[200]\tcv_agg's l2: 0.20881 + 0.0276971\n",
      "[300]\tcv_agg's l2: 0.208808 + 0.0276989\n",
      "[400]\tcv_agg's l2: 0.208808 + 0.0276989\n"
     ]
    },
    {
     "name": "stderr",
     "output_type": "stream",
     "text": [
      "regularization_factors, val_score: 0.123121:  15%|#####7                                | 3/20 [00:05<00:27,  1.62s/it][I 2023-11-05 12:46:17,518] Trial 45 finished with value: 0.20880829690792285 and parameters: {'lambda_l1': 9.83370273491283, 'lambda_l2': 4.352402080088342e-08}. Best is trial 43 with value: 0.12312142485927055.\n",
      "regularization_factors, val_score: 0.123121:  15%|#####7                                | 3/20 [00:05<00:27,  1.62s/it]"
     ]
    },
    {
     "name": "stdout",
     "output_type": "stream",
     "text": [
      "[500]\tcv_agg's l2: 0.208808 + 0.0276989\n",
      "Early stopping, best iteration is:\n",
      "[478]\tcv_agg's l2: 0.123121 + 0.0209673\n",
      "[100]\tcv_agg's l2: 0.157498 + 0.0316834\n",
      "[200]\tcv_agg's l2: 0.145986 + 0.0320808\n",
      "[300]\tcv_agg's l2: 0.142302 + 0.0311471\n",
      "[400]\tcv_agg's l2: 0.141426 + 0.0302739\n",
      "[500]\tcv_agg's l2: 0.141094 + 0.0295659\n"
     ]
    },
    {
     "name": "stderr",
     "output_type": "stream",
     "text": [
      "regularization_factors, val_score: 0.123121:  20%|#######6                              | 4/20 [00:07<00:30,  1.89s/it][I 2023-11-05 12:46:19,826] Trial 46 finished with value: 0.1411168880579568 and parameters: {'lambda_l1': 1.6256846838892726e-06, 'lambda_l2': 6.237427007291904}. Best is trial 43 with value: 0.12312142485927055.\n",
      "regularization_factors, val_score: 0.123121:  20%|#######6                              | 4/20 [00:07<00:30,  1.89s/it]"
     ]
    },
    {
     "name": "stdout",
     "output_type": "stream",
     "text": [
      "Early stopping, best iteration is:\n",
      "[478]\tcv_agg's l2: 0.123121 + 0.0209673\n",
      "[100]\tcv_agg's l2: 0.134035 + 0.0189774\n",
      "[200]\tcv_agg's l2: 0.126529 + 0.0195332\n",
      "[300]\tcv_agg's l2: 0.124974 + 0.0199519\n",
      "[400]\tcv_agg's l2: 0.124645 + 0.0205869\n",
      "[500]\tcv_agg's l2: 0.124832 + 0.020838\n"
     ]
    },
    {
     "name": "stderr",
     "output_type": "stream",
     "text": [
      "regularization_factors, val_score: 0.123121:  25%|#########5                            | 5/20 [00:09<00:30,  2.03s/it][I 2023-11-05 12:46:22,111] Trial 47 finished with value: 0.12492407745203996 and parameters: {'lambda_l1': 1.6178047122393395e-08, 'lambda_l2': 0.00035400074638004304}. Best is trial 43 with value: 0.12312142485927055.\n",
      "regularization_factors, val_score: 0.123121:  25%|#########5                            | 5/20 [00:09<00:30,  2.03s/it]"
     ]
    },
    {
     "name": "stdout",
     "output_type": "stream",
     "text": [
      "Early stopping, best iteration is:\n",
      "[478]\tcv_agg's l2: 0.123121 + 0.0209673\n",
      "[100]\tcv_agg's l2: 0.133128 + 0.0197415\n",
      "[200]\tcv_agg's l2: 0.126631 + 0.0204514\n",
      "[300]\tcv_agg's l2: 0.124026 + 0.0201854\n",
      "[400]\tcv_agg's l2: 0.122663 + 0.0209132\n"
     ]
    },
    {
     "name": "stderr",
     "output_type": "stream",
     "text": [
      "regularization_factors, val_score: 0.122576:  30%|###########4                          | 6/20 [00:11<00:27,  1.97s/it][I 2023-11-05 12:46:23,971] Trial 48 finished with value: 0.12257558289029516 and parameters: {'lambda_l1': 0.003166169412459591, 'lambda_l2': 9.88447205276724e-07}. Best is trial 48 with value: 0.12257558289029516.\n",
      "regularization_factors, val_score: 0.122576:  30%|###########4                          | 6/20 [00:11<00:27,  1.97s/it]"
     ]
    },
    {
     "name": "stdout",
     "output_type": "stream",
     "text": [
      "[500]\tcv_agg's l2: 0.123043 + 0.0209074\n",
      "Early stopping, best iteration is:\n",
      "[438]\tcv_agg's l2: 0.122576 + 0.0209895\n",
      "[100]\tcv_agg's l2: 0.134746 + 0.0195691\n",
      "[200]\tcv_agg's l2: 0.127325 + 0.0204795\n",
      "[300]\tcv_agg's l2: 0.125627 + 0.020592\n",
      "[400]\tcv_agg's l2: 0.125296 + 0.0204973\n"
     ]
    },
    {
     "name": "stderr",
     "output_type": "stream",
     "text": [
      "regularization_factors, val_score: 0.122576:  35%|#############3                        | 7/20 [00:13<00:25,  1.93s/it][I 2023-11-05 12:46:25,801] Trial 49 finished with value: 0.12478315178897414 and parameters: {'lambda_l1': 0.001430101409057998, 'lambda_l2': 5.988493894406362e-07}. Best is trial 48 with value: 0.12257558289029516.\n",
      "regularization_factors, val_score: 0.122576:  35%|#############3                        | 7/20 [00:13<00:25,  1.93s/it]"
     ]
    },
    {
     "name": "stdout",
     "output_type": "stream",
     "text": [
      "[500]\tcv_agg's l2: 0.124778 + 0.0207815\n",
      "Early stopping, best iteration is:\n",
      "[438]\tcv_agg's l2: 0.122576 + 0.0209895\n",
      "[100]\tcv_agg's l2: 0.135979 + 0.0193398\n",
      "[200]\tcv_agg's l2: 0.127734 + 0.0205051\n",
      "[300]\tcv_agg's l2: 0.125426 + 0.0199294\n",
      "[400]\tcv_agg's l2: 0.124627 + 0.0202574\n"
     ]
    },
    {
     "name": "stderr",
     "output_type": "stream",
     "text": [
      "regularization_factors, val_score: 0.122576:  40%|###############2                      | 8/20 [00:15<00:22,  1.88s/it][I 2023-11-05 12:46:27,574] Trial 50 finished with value: 0.12438829612252308 and parameters: {'lambda_l1': 0.01977189782865131, 'lambda_l2': 5.195932510849252e-06}. Best is trial 48 with value: 0.12257558289029516.\n",
      "regularization_factors, val_score: 0.122576:  40%|###############2                      | 8/20 [00:15<00:22,  1.88s/it]"
     ]
    },
    {
     "name": "stdout",
     "output_type": "stream",
     "text": [
      "[500]\tcv_agg's l2: 0.124404 + 0.0198861\n",
      "Early stopping, best iteration is:\n",
      "[438]\tcv_agg's l2: 0.122576 + 0.0209895\n",
      "[100]\tcv_agg's l2: 0.1348 + 0.0194646\n",
      "[200]\tcv_agg's l2: 0.127864 + 0.0198823\n",
      "[300]\tcv_agg's l2: 0.125571 + 0.0196703\n",
      "[400]\tcv_agg's l2: 0.12481 + 0.0200549\n"
     ]
    },
    {
     "name": "stderr",
     "output_type": "stream",
     "text": [
      "regularization_factors, val_score: 0.122576:  45%|#################1                    | 9/20 [00:17<00:20,  1.88s/it][I 2023-11-05 12:46:29,474] Trial 51 finished with value: 0.12458204200843559 and parameters: {'lambda_l1': 3.298904265821343e-05, 'lambda_l2': 2.0223099517179934e-05}. Best is trial 48 with value: 0.12257558289029516.\n",
      "regularization_factors, val_score: 0.122576:  45%|#################1                    | 9/20 [00:17<00:20,  1.88s/it]"
     ]
    },
    {
     "name": "stdout",
     "output_type": "stream",
     "text": [
      "[500]\tcv_agg's l2: 0.124816 + 0.0199378\n",
      "Early stopping, best iteration is:\n",
      "[438]\tcv_agg's l2: 0.122576 + 0.0209895\n",
      "[100]\tcv_agg's l2: 0.136735 + 0.0179778\n",
      "[200]\tcv_agg's l2: 0.129758 + 0.0177548\n",
      "[300]\tcv_agg's l2: 0.126776 + 0.0172299\n",
      "[400]\tcv_agg's l2: 0.125968 + 0.0171255\n"
     ]
    },
    {
     "name": "stderr",
     "output_type": "stream",
     "text": [
      "regularization_factors, val_score: 0.122576:  50%|##################5                  | 10/20 [00:18<00:18,  1.86s/it][I 2023-11-05 12:46:31,292] Trial 52 finished with value: 0.12600027327739388 and parameters: {'lambda_l1': 0.051999404924237005, 'lambda_l2': 0.0010271921238052051}. Best is trial 48 with value: 0.12257558289029516.\n",
      "regularization_factors, val_score: 0.122576:  50%|##################5                  | 10/20 [00:18<00:18,  1.86s/it]"
     ]
    },
    {
     "name": "stdout",
     "output_type": "stream",
     "text": [
      "[500]\tcv_agg's l2: 0.126281 + 0.0175001\n",
      "Early stopping, best iteration is:\n",
      "[438]\tcv_agg's l2: 0.122576 + 0.0209895\n",
      "[100]\tcv_agg's l2: 0.134801 + 0.0194646\n",
      "[200]\tcv_agg's l2: 0.128081 + 0.0203361\n",
      "[300]\tcv_agg's l2: 0.125719 + 0.0202652\n",
      "[400]\tcv_agg's l2: 0.124948 + 0.0206739\n"
     ]
    },
    {
     "name": "stderr",
     "output_type": "stream",
     "text": [
      "regularization_factors, val_score: 0.122576:  55%|####################3                | 11/20 [00:20<00:16,  1.88s/it][I 2023-11-05 12:46:33,217] Trial 53 finished with value: 0.12487776313033963 and parameters: {'lambda_l1': 7.62463539986431e-05, 'lambda_l2': 2.1677075348092634e-08}. Best is trial 48 with value: 0.12257558289029516.\n",
      "regularization_factors, val_score: 0.122576:  55%|####################3                | 11/20 [00:20<00:16,  1.88s/it]"
     ]
    },
    {
     "name": "stdout",
     "output_type": "stream",
     "text": [
      "[500]\tcv_agg's l2: 0.125178 + 0.0209688\n",
      "Early stopping, best iteration is:\n",
      "[438]\tcv_agg's l2: 0.122576 + 0.0209895\n",
      "[100]\tcv_agg's l2: 0.135465 + 0.0191475\n",
      "[200]\tcv_agg's l2: 0.127683 + 0.0187725\n",
      "[300]\tcv_agg's l2: 0.12691 + 0.019691\n",
      "[400]\tcv_agg's l2: 0.125728 + 0.0193985\n"
     ]
    },
    {
     "name": "stderr",
     "output_type": "stream",
     "text": [
      "regularization_factors, val_score: 0.122576:  60%|######################2              | 12/20 [00:22<00:15,  1.95s/it][I 2023-11-05 12:46:35,320] Trial 54 finished with value: 0.1256177338281136 and parameters: {'lambda_l1': 0.12322238488919077, 'lambda_l2': 0.011809468481256694}. Best is trial 48 with value: 0.12257558289029516.\n",
      "regularization_factors, val_score: 0.122576:  60%|######################2              | 12/20 [00:22<00:15,  1.95s/it]"
     ]
    },
    {
     "name": "stdout",
     "output_type": "stream",
     "text": [
      "[500]\tcv_agg's l2: 0.125691 + 0.0201051\n",
      "Early stopping, best iteration is:\n",
      "[438]\tcv_agg's l2: 0.122576 + 0.0209895\n",
      "[100]\tcv_agg's l2: 0.134801 + 0.0194647\n",
      "[200]\tcv_agg's l2: 0.12801 + 0.0205092\n",
      "[300]\tcv_agg's l2: 0.126309 + 0.0210506\n",
      "[400]\tcv_agg's l2: 0.125381 + 0.0211217\n"
     ]
    },
    {
     "name": "stderr",
     "output_type": "stream",
     "text": [
      "regularization_factors, val_score: 0.122576:  65%|########################             | 13/20 [00:24<00:13,  1.93s/it][I 2023-11-05 12:46:37,210] Trial 55 finished with value: 0.12518333089284356 and parameters: {'lambda_l1': 0.00034519806321123004, 'lambda_l2': 3.2019834892292784e-06}. Best is trial 48 with value: 0.12257558289029516.\n",
      "regularization_factors, val_score: 0.122576:  65%|########################             | 13/20 [00:24<00:13,  1.93s/it]"
     ]
    },
    {
     "name": "stdout",
     "output_type": "stream",
     "text": [
      "[500]\tcv_agg's l2: 0.124574 + 0.0211419\n",
      "Early stopping, best iteration is:\n",
      "[438]\tcv_agg's l2: 0.122576 + 0.0209895\n",
      "[100]\tcv_agg's l2: 0.133443 + 0.0194487\n",
      "[200]\tcv_agg's l2: 0.126997 + 0.0196477\n",
      "[300]\tcv_agg's l2: 0.12437 + 0.019735\n",
      "[400]\tcv_agg's l2: 0.123027 + 0.0199028\n"
     ]
    },
    {
     "name": "stderr",
     "output_type": "stream",
     "text": [
      "regularization_factors, val_score: 0.122576:  70%|#########################9           | 14/20 [00:26<00:11,  1.91s/it][I 2023-11-05 12:46:39,065] Trial 56 finished with value: 0.12297858768624818 and parameters: {'lambda_l1': 0.005033219851453448, 'lambda_l2': 3.2023995422238485e-07}. Best is trial 48 with value: 0.12257558289029516.\n",
      "regularization_factors, val_score: 0.122576:  70%|#########################9           | 14/20 [00:26<00:11,  1.91s/it]"
     ]
    },
    {
     "name": "stdout",
     "output_type": "stream",
     "text": [
      "[500]\tcv_agg's l2: 0.123223 + 0.0199718\n",
      "Early stopping, best iteration is:\n",
      "[438]\tcv_agg's l2: 0.122576 + 0.0209895\n",
      "[100]\tcv_agg's l2: 0.133445 + 0.0194488\n",
      "[200]\tcv_agg's l2: 0.126924 + 0.0196618\n",
      "[300]\tcv_agg's l2: 0.124865 + 0.0200499\n",
      "[400]\tcv_agg's l2: 0.12382 + 0.0198159\n"
     ]
    },
    {
     "name": "stderr",
     "output_type": "stream",
     "text": [
      "regularization_factors, val_score: 0.122576:  75%|###########################7         | 15/20 [00:28<00:09,  1.89s/it][I 2023-11-05 12:46:40,922] Trial 57 finished with value: 0.12394659090532525 and parameters: {'lambda_l1': 0.005656454987560182, 'lambda_l2': 1.538068725079481e-07}. Best is trial 48 with value: 0.12257558289029516.\n",
      "regularization_factors, val_score: 0.122576:  75%|###########################7         | 15/20 [00:28<00:09,  1.89s/it]"
     ]
    },
    {
     "name": "stdout",
     "output_type": "stream",
     "text": [
      "[500]\tcv_agg's l2: 0.124011 + 0.0195794\n",
      "Early stopping, best iteration is:\n",
      "[438]\tcv_agg's l2: 0.122576 + 0.0209895\n",
      "[100]\tcv_agg's l2: 0.134656 + 0.0197761\n",
      "[200]\tcv_agg's l2: 0.127208 + 0.0196507\n",
      "[300]\tcv_agg's l2: 0.124646 + 0.0191615\n",
      "[400]\tcv_agg's l2: 0.123769 + 0.0189245\n"
     ]
    },
    {
     "name": "stderr",
     "output_type": "stream",
     "text": [
      "regularization_factors, val_score: 0.122576:  80%|#############################6       | 16/20 [00:30<00:08,  2.04s/it][I 2023-11-05 12:46:43,288] Trial 58 finished with value: 0.12391322545497148 and parameters: {'lambda_l1': 0.00783862041708897, 'lambda_l2': 2.3814307779867878e-07}. Best is trial 48 with value: 0.12257558289029516.\n",
      "regularization_factors, val_score: 0.122576:  80%|#############################6       | 16/20 [00:30<00:08,  2.04s/it]"
     ]
    },
    {
     "name": "stdout",
     "output_type": "stream",
     "text": [
      "[500]\tcv_agg's l2: 0.123759 + 0.0190295\n",
      "Early stopping, best iteration is:\n",
      "[438]\tcv_agg's l2: 0.122576 + 0.0209895\n",
      "[100]\tcv_agg's l2: 0.134808 + 0.0194818\n",
      "[200]\tcv_agg's l2: 0.127425 + 0.0191479\n",
      "[300]\tcv_agg's l2: 0.125181 + 0.0187342\n",
      "[400]\tcv_agg's l2: 0.123921 + 0.0185926\n"
     ]
    },
    {
     "name": "stderr",
     "output_type": "stream",
     "text": [
      "regularization_factors, val_score: 0.122576:  85%|###############################4     | 17/20 [00:32<00:05,  1.95s/it][I 2023-11-05 12:46:45,036] Trial 59 finished with value: 0.1237189795907582 and parameters: {'lambda_l1': 0.006356021984153677, 'lambda_l2': 4.826045623173768e-07}. Best is trial 48 with value: 0.12257558289029516.\n",
      "regularization_factors, val_score: 0.122576:  85%|###############################4     | 17/20 [00:32<00:05,  1.95s/it]"
     ]
    },
    {
     "name": "stdout",
     "output_type": "stream",
     "text": [
      "[500]\tcv_agg's l2: 0.123752 + 0.0182039\n",
      "Early stopping, best iteration is:\n",
      "[438]\tcv_agg's l2: 0.122576 + 0.0209895\n",
      "[100]\tcv_agg's l2: 0.133444 + 0.0194487\n",
      "[200]\tcv_agg's l2: 0.126998 + 0.0196477\n",
      "[300]\tcv_agg's l2: 0.124383 + 0.0197438\n",
      "[400]\tcv_agg's l2: 0.122662 + 0.0197358\n"
     ]
    },
    {
     "name": "stderr",
     "output_type": "stream",
     "text": [
      "regularization_factors, val_score: 0.122491:  90%|#################################3   | 18/20 [00:34<00:03,  1.93s/it][I 2023-11-05 12:46:46,919] Trial 60 finished with value: 0.12249131991602802 and parameters: {'lambda_l1': 0.00518498937978904, 'lambda_l2': 2.650393884447217e-07}. Best is trial 60 with value: 0.12249131991602802.\n",
      "regularization_factors, val_score: 0.122491:  90%|#################################3   | 18/20 [00:34<00:03,  1.93s/it]"
     ]
    },
    {
     "name": "stdout",
     "output_type": "stream",
     "text": [
      "[500]\tcv_agg's l2: 0.122765 + 0.019566\n",
      "Early stopping, best iteration is:\n",
      "[448]\tcv_agg's l2: 0.122491 + 0.0196281\n",
      "[100]\tcv_agg's l2: 0.133868 + 0.0186969\n",
      "[200]\tcv_agg's l2: 0.127049 + 0.0189022\n",
      "[300]\tcv_agg's l2: 0.125293 + 0.0183012\n",
      "[400]\tcv_agg's l2: 0.124411 + 0.0191704\n"
     ]
    },
    {
     "name": "stderr",
     "output_type": "stream",
     "text": [
      "regularization_factors, val_score: 0.122491:  95%|###################################1 | 19/20 [00:36<00:01,  1.93s/it][I 2023-11-05 12:46:48,866] Trial 61 finished with value: 0.12396051041747284 and parameters: {'lambda_l1': 0.005896889512223669, 'lambda_l2': 2.7711779906719046e-07}. Best is trial 60 with value: 0.12249131991602802.\n",
      "regularization_factors, val_score: 0.122491:  95%|###################################1 | 19/20 [00:36<00:01,  1.93s/it]"
     ]
    },
    {
     "name": "stdout",
     "output_type": "stream",
     "text": [
      "[500]\tcv_agg's l2: 0.123866 + 0.0186585\n",
      "Early stopping, best iteration is:\n",
      "[448]\tcv_agg's l2: 0.122491 + 0.0196281\n",
      "[100]\tcv_agg's l2: 0.133246 + 0.0189512\n",
      "[200]\tcv_agg's l2: 0.126712 + 0.0193699\n",
      "[300]\tcv_agg's l2: 0.124186 + 0.019135\n",
      "[400]\tcv_agg's l2: 0.122896 + 0.0188552\n"
     ]
    },
    {
     "name": "stderr",
     "output_type": "stream",
     "text": [
      "regularization_factors, val_score: 0.122491: 100%|#####################################| 20/20 [00:38<00:00,  1.91s/it][I 2023-11-05 12:46:50,717] Trial 62 finished with value: 0.12304116165820331 and parameters: {'lambda_l1': 0.007931948489283948, 'lambda_l2': 5.355033296749524e-07}. Best is trial 60 with value: 0.12249131991602802.\n",
      "regularization_factors, val_score: 0.122491: 100%|#####################################| 20/20 [00:38<00:00,  1.92s/it]\n"
     ]
    },
    {
     "name": "stdout",
     "output_type": "stream",
     "text": [
      "[500]\tcv_agg's l2: 0.12288 + 0.0185469\n",
      "Early stopping, best iteration is:\n",
      "[448]\tcv_agg's l2: 0.122491 + 0.0196281\n"
     ]
    },
    {
     "name": "stderr",
     "output_type": "stream",
     "text": [
      "min_data_in_leaf, val_score: 0.122491:   0%|                                                     | 0/5 [00:00<?, ?it/s]"
     ]
    },
    {
     "name": "stdout",
     "output_type": "stream",
     "text": [
      "[100]\tcv_agg's l2: 0.729468 + 0.106882\n",
      "[200]\tcv_agg's l2: 0.693583 + 0.117105\n",
      "[300]\tcv_agg's l2: 0.672894 + 0.118347\n",
      "[400]\tcv_agg's l2: 0.66224 + 0.117974\n"
     ]
    },
    {
     "name": "stderr",
     "output_type": "stream",
     "text": [
      "min_data_in_leaf, val_score: 0.122491:  20%|#########                                    | 1/5 [00:01<00:05,  1.29s/it][I 2023-11-05 12:46:52,017] Trial 63 finished with value: 0.6573593811188166 and parameters: {'min_child_samples': 100}. Best is trial 63 with value: 0.6573593811188166.\n",
      "min_data_in_leaf, val_score: 0.122491:  20%|#########                                    | 1/5 [00:01<00:05,  1.29s/it]"
     ]
    },
    {
     "name": "stdout",
     "output_type": "stream",
     "text": [
      "[500]\tcv_agg's l2: 0.654137 + 0.120207\n",
      "Early stopping, best iteration is:\n",
      "[448]\tcv_agg's l2: 0.122491 + 0.0196281\n",
      "[100]\tcv_agg's l2: 0.123103 + 0.0158717\n",
      "[200]\tcv_agg's l2: 0.118387 + 0.0161876\n",
      "[300]\tcv_agg's l2: 0.118197 + 0.0176589\n"
     ]
    },
    {
     "name": "stderr",
     "output_type": "stream",
     "text": [
      "min_data_in_leaf, val_score: 0.117869:  40%|##################                           | 2/5 [00:02<00:04,  1.46s/it][I 2023-11-05 12:46:53,601] Trial 64 finished with value: 0.1178689501430994 and parameters: {'min_child_samples': 10}. Best is trial 64 with value: 0.1178689501430994.\n",
      "min_data_in_leaf, val_score: 0.117869:  40%|##################                           | 2/5 [00:02<00:04,  1.46s/it]"
     ]
    },
    {
     "name": "stdout",
     "output_type": "stream",
     "text": [
      "[400]\tcv_agg's l2: 0.118212 + 0.0176524\n",
      "Early stopping, best iteration is:\n",
      "[344]\tcv_agg's l2: 0.117869 + 0.0177748\n",
      "[100]\tcv_agg's l2: 0.212211 + 0.0248701\n",
      "[200]\tcv_agg's l2: 0.202436 + 0.0239909\n",
      "[300]\tcv_agg's l2: 0.200572 + 0.0268298\n"
     ]
    },
    {
     "name": "stderr",
     "output_type": "stream",
     "text": [
      "min_data_in_leaf, val_score: 0.117869:  60%|###########################                  | 3/5 [00:04<00:02,  1.45s/it][I 2023-11-05 12:46:55,040] Trial 65 finished with value: 0.19956248874511384 and parameters: {'min_child_samples': 50}. Best is trial 64 with value: 0.1178689501430994.\n",
      "min_data_in_leaf, val_score: 0.117869:  60%|###########################                  | 3/5 [00:04<00:02,  1.45s/it]"
     ]
    },
    {
     "name": "stdout",
     "output_type": "stream",
     "text": [
      "[400]\tcv_agg's l2: 0.199387 + 0.0279832\n",
      "Early stopping, best iteration is:\n",
      "[344]\tcv_agg's l2: 0.117869 + 0.0177748\n",
      "[100]\tcv_agg's l2: 0.129418 + 0.0140123\n",
      "[200]\tcv_agg's l2: 0.125062 + 0.014832\n",
      "[300]\tcv_agg's l2: 0.123652 + 0.0139947\n"
     ]
    },
    {
     "name": "stderr",
     "output_type": "stream",
     "text": [
      "min_data_in_leaf, val_score: 0.117869:  80%|####################################         | 4/5 [00:06<00:01,  1.55s/it][I 2023-11-05 12:46:56,735] Trial 66 finished with value: 0.1235094723653265 and parameters: {'min_child_samples': 5}. Best is trial 64 with value: 0.1178689501430994.\n",
      "min_data_in_leaf, val_score: 0.117869:  80%|####################################         | 4/5 [00:06<00:01,  1.55s/it]"
     ]
    },
    {
     "name": "stdout",
     "output_type": "stream",
     "text": [
      "[400]\tcv_agg's l2: 0.12335 + 0.0141152\n",
      "Early stopping, best iteration is:\n",
      "[344]\tcv_agg's l2: 0.117869 + 0.0177748\n",
      "[100]\tcv_agg's l2: 0.151492 + 0.024299\n",
      "[200]\tcv_agg's l2: 0.144898 + 0.02525\n",
      "[300]\tcv_agg's l2: 0.143434 + 0.025117\n"
     ]
    },
    {
     "name": "stderr",
     "output_type": "stream",
     "text": [
      "min_data_in_leaf, val_score: 0.117869: 100%|#############################################| 5/5 [00:07<00:00,  1.57s/it][I 2023-11-05 12:46:58,334] Trial 67 finished with value: 0.14277577775746328 and parameters: {'min_child_samples': 25}. Best is trial 64 with value: 0.1178689501430994.\n",
      "min_data_in_leaf, val_score: 0.117869: 100%|#############################################| 5/5 [00:07<00:00,  1.52s/it]"
     ]
    },
    {
     "name": "stdout",
     "output_type": "stream",
     "text": [
      "[400]\tcv_agg's l2: 0.142645 + 0.0254365\n",
      "Early stopping, best iteration is:\n",
      "[344]\tcv_agg's l2: 0.117869 + 0.0177748\n"
     ]
    },
    {
     "name": "stderr",
     "output_type": "stream",
     "text": [
      "\n"
     ]
    }
   ],
   "source": [
    "import optuna.integration.lightgbm as lgb\n",
    "from lightgbm import early_stopping, log_evaluation\n",
    "from sklearn.model_selection import KFold\n",
    "from sklearn.model_selection import RepeatedKFold\n",
    "\n",
    "\n",
    "lgb_train = lgb.Dataset(X_train, y_train)\n",
    "\n",
    "params = {\n",
    "    \"boosting_type\": \"gbdt\",\n",
    "    \"objective\": \"regression\",\n",
    "    \"metric\": \"l2\",\n",
    "    \"verbosity\": -1,\n",
    "}\n",
    "\n",
    "tuner = lgb.LightGBMTunerCV(\n",
    "    params,\n",
    "    lgb_train,\n",
    "    folds=KFold(n_splits=5),\n",
    "    num_boost_round=10000,\n",
    "    callbacks=[early_stopping(100), log_evaluation(100)],\n",
    ")\n",
    "\n",
    "tuner.run()"
   ]
  },
  {
   "cell_type": "code",
   "execution_count": 23,
   "id": "d9ab9a30",
   "metadata": {},
   "outputs": [
    {
     "name": "stdout",
     "output_type": "stream",
     "text": [
      "Best score: 0.1178689501430994\n",
      "Params: \n",
      "    boosting_type: gbdt\n",
      "    objective: regression\n",
      "    metric: l2\n",
      "    verbosity: -1\n",
      "    feature_pre_filter: False\n",
      "    lambda_l1: 0.00518498937978904\n",
      "    lambda_l2: 2.650393884447217e-07\n",
      "    num_leaves: 10\n",
      "    feature_fraction: 0.45199999999999996\n",
      "    bagging_fraction: 1.0\n",
      "    bagging_freq: 0\n",
      "    min_child_samples: 10\n"
     ]
    }
   ],
   "source": [
    "print(f\"Best score: {tuner.best_score}\")\n",
    "best_params = tuner.best_params\n",
    "print(\"Params: \")\n",
    "for key, value in best_params.items():\n",
    "    print(\"    {}: {}\".format(key, value))"
   ]
  },
  {
   "cell_type": "code",
   "execution_count": 24,
   "id": "0cb62c30",
   "metadata": {},
   "outputs": [],
   "source": [
    "import lightgbm as lgb\n",
    "\n",
    "lgb_tuned = lgb.train(\n",
    "    best_params,\n",
    "    lgb_train,\n",
    "    num_boost_round=10000,\n",
    ")"
   ]
  },
  {
   "cell_type": "code",
   "execution_count": 25,
   "id": "eb6b8188",
   "metadata": {},
   "outputs": [
    {
     "name": "stdout",
     "output_type": "stream",
     "text": [
      "RMSE train: 0.00\n",
      "RMSE test: 0.63\n",
      "MAE test: 0.37\n",
      "\n"
     ]
    }
   ],
   "source": [
    "rmse, mae = assess_regression_model(lgb_tuned, X_train, X_test, y_train, y_test)"
   ]
  },
  {
   "cell_type": "code",
   "execution_count": 26,
   "id": "90047108",
   "metadata": {},
   "outputs": [],
   "source": [
    "results.loc[1] = [\n",
    "    \"chronological\",\n",
    "    \"Optuna\",\n",
    "    \"full\",\n",
    "    rmse,\n",
    "    mae,\n",
    "]"
   ]
  },
  {
   "cell_type": "markdown",
   "id": "b26d94f2",
   "metadata": {},
   "source": [
    "###### MAE by level"
   ]
  },
  {
   "cell_type": "code",
   "execution_count": 27,
   "id": "bb716b92",
   "metadata": {},
   "outputs": [
    {
     "data": {
      "image/png": "[encoded data removed]",
      "text/plain": [
       "<Figure size 720x432 with 1 Axes>"
      ]
     },
     "metadata": {
      "needs_background": "light"
     },
     "output_type": "display_data"
    }
   ],
   "source": [
    "plot_mae_by_level(\n",
    "    y_test,\n",
    "    y_pred_test,\n",
    "    title=\"MAE by level for tuned LightGBM with full features and chronological split\",\n",
    ")"
   ]
  },
  {
   "cell_type": "code",
   "execution_count": 28,
   "id": "79785820",
   "metadata": {
    "scrolled": false
   },
   "outputs": [
    {
     "name": "stdout",
     "output_type": "stream",
     "text": [
      "Default:\n",
      "RMSE: 0.63\n",
      "\n",
      "Round type: round\n",
      "RMSE: 0.68\n",
      "\n",
      "Round type: 0.33\n",
      "RMSE: 0.60\n",
      "\n",
      "Round type: 0.45\n",
      "RMSE: 0.65\n",
      "\n"
     ]
    }
   ],
   "source": [
    "predict = lgb_tuned.predict(X_test)\n",
    "check_round_predictions([\"round\", 0.33, 0.45], y_test, predict)"
   ]
  },
  {
   "cell_type": "code",
   "execution_count": 29,
   "id": "63a9eab9",
   "metadata": {},
   "outputs": [
    {
     "data": {
      "image/png": "[encoded data removed]",
      "text/plain": [
       "<Figure size 432x288 with 2 Axes>"
      ]
     },
     "metadata": {
      "needs_background": "light"
     },
     "output_type": "display_data"
    }
   ],
   "source": [
    "plot_confusion_matrix(\n",
    "    \"round\",\n",
    "    predict,\n",
    "    y_test,\n",
    "    title=\"Confusion matrix for tuned LightGBM with full features and chronological split\",\n",
    ")"
   ]
  },
  {
   "cell_type": "markdown",
   "id": "a1fa0d3e",
   "metadata": {},
   "source": [
    "## Random split"
   ]
  },
  {
   "cell_type": "code",
   "execution_count": 30,
   "id": "69148859",
   "metadata": {},
   "outputs": [
    {
     "name": "stdout",
     "output_type": "stream",
     "text": [
      "[LightGBM] [Warning] Auto-choosing row-wise multi-threading, the overhead of testing was 0.000670 seconds.\n",
      "You can set `force_row_wise=true` to remove the overhead.\n",
      "And if memory is not enough, you can set `force_col_wise=true`.\n",
      "[LightGBM] [Info] Total Bins 804\n",
      "[LightGBM] [Info] Number of data points in the train set: 904, number of used features: 48\n",
      "[LightGBM] [Info] Start training from score 7.162611\n",
      "Training until validation scores don't improve for 5 rounds\n",
      "Early stopping, best iteration is:\n",
      "[75]\tvalid_0's l1: 0.246737\tvalid_0's l2: 0.1379\n"
     ]
    }
   ],
   "source": [
    "import lightgbm as lgb\n",
    "from sklearn.metrics import mean_squared_error\n",
    "\n",
    "lgb_train = lgb.Dataset(X_train_random_split, y_train_random_split)\n",
    "lgb_eval = lgb.Dataset(X_test_random_split, y_test_random_split, reference=lgb_train)\n",
    "\n",
    "params = {\n",
    "    \"boosting_type\": \"gbdt\",\n",
    "    \"objective\": \"regression\",\n",
    "    \"metric\": {\"l2\", \"l1\"},\n",
    "}\n",
    "\n",
    "gbm = lgb.train(\n",
    "    params,\n",
    "    lgb_train,\n",
    "    num_boost_round=100,\n",
    "    valid_sets=lgb_eval,\n",
    "    callbacks=[lgb.early_stopping(stopping_rounds=5)],\n",
    ")"
   ]
  },
  {
   "cell_type": "code",
   "execution_count": 31,
   "id": "792899a7",
   "metadata": {},
   "outputs": [],
   "source": [
    "y_pred_train = gbm.predict(X_train_random_split, num_iteration=gbm.best_iteration)\n",
    "y_pred_test = gbm.predict(X_test_random_split, num_iteration=gbm.best_iteration)"
   ]
  },
  {
   "cell_type": "code",
   "execution_count": 32,
   "id": "92e8b92d",
   "metadata": {},
   "outputs": [
    {
     "name": "stdout",
     "output_type": "stream",
     "text": [
      "RMSE: 0.37\n",
      "MAE: 0.25\n"
     ]
    }
   ],
   "source": [
    "from sklearn.metrics import mean_squared_error, mean_absolute_error\n",
    "\n",
    "\n",
    "rmse = mean_squared_error(y_test_random_split, y_pred_test, squared=False)\n",
    "mae = mean_absolute_error(y_test_random_split, y_pred_test)\n",
    "\n",
    "print(f\"RMSE: {rmse:.2f}\")\n",
    "print(f\"MAE: {mae:.2f}\")"
   ]
  },
  {
   "cell_type": "code",
   "execution_count": 33,
   "id": "e9b9f08d",
   "metadata": {},
   "outputs": [],
   "source": [
    "results.loc[2] = [\"random\", \"default\", \"full\", rmse, mae]"
   ]
  },
  {
   "cell_type": "markdown",
   "id": "e2f3fc5d",
   "metadata": {},
   "source": [
    "###### MAE by level"
   ]
  },
  {
   "cell_type": "code",
   "execution_count": 34,
   "id": "591c040e",
   "metadata": {},
   "outputs": [
    {
     "data": {
      "image/png": "[encoded data removed]",
      "text/plain": [
       "<Figure size 720x432 with 1 Axes>"
      ]
     },
     "metadata": {
      "needs_background": "light"
     },
     "output_type": "display_data"
    }
   ],
   "source": [
    "plot_mae_by_level(\n",
    "    y_test_random_split,\n",
    "    y_pred_test,\n",
    "    title=\"MAE by level for default LightGBM with full features and random split\",\n",
    ")"
   ]
  },
  {
   "cell_type": "code",
   "execution_count": 35,
   "id": "2122d102",
   "metadata": {
    "scrolled": true
   },
   "outputs": [
    {
     "name": "stdout",
     "output_type": "stream",
     "text": [
      "Default:\n",
      "RMSE: 0.37\n",
      "\n",
      "Round type: round\n",
      "RMSE: 0.38\n",
      "\n",
      "Round type: 0.33\n",
      "RMSE: 0.43\n",
      "\n",
      "Round type: 0.45\n",
      "RMSE: 0.38\n",
      "\n"
     ]
    }
   ],
   "source": [
    "check_round_predictions([\"round\", 0.33, 0.45], y_test_random_split, y_pred_test)"
   ]
  },
  {
   "cell_type": "code",
   "execution_count": 36,
   "id": "3b4c77ab",
   "metadata": {},
   "outputs": [
    {
     "data": {
      "image/png": "[encoded data removed]",
      "text/plain": [
       "<Figure size 432x288 with 2 Axes>"
      ]
     },
     "metadata": {
      "needs_background": "light"
     },
     "output_type": "display_data"
    }
   ],
   "source": [
    "plot_confusion_matrix(\n",
    "    \"round\",\n",
    "    y_pred_test,\n",
    "    y_test_random_split,\n",
    "    title=\"Confusion matrix for default LightGBM with full features and random split\",\n",
    ")"
   ]
  },
  {
   "cell_type": "markdown",
   "id": "295f8eff",
   "metadata": {},
   "source": [
    "### Tuning"
   ]
  },
  {
   "cell_type": "code",
   "execution_count": 37,
   "id": "14fca15b",
   "metadata": {},
   "outputs": [
    {
     "name": "stderr",
     "output_type": "stream",
     "text": [
      "[I 2023-11-05 12:47:06,032] A new study created in memory with name: no-name-c3776b3a-5bf4-4121-a9b9-a584d02e4edd\n",
      "feature_fraction, val_score: inf:   0%|                                                          | 0/7 [00:00<?, ?it/s]"
     ]
    },
    {
     "name": "stdout",
     "output_type": "stream",
     "text": [
      "Training until validation scores don't improve for 100 rounds\n",
      "[100]\tcv_agg's l2: 0.170019 + 0.0535297\n",
      "[200]\tcv_agg's l2: 0.167321 + 0.0512705\n",
      "[300]\tcv_agg's l2: 0.166338 + 0.0500137\n",
      "[400]\tcv_agg's l2: 0.165673 + 0.048914\n",
      "[500]\tcv_agg's l2: 0.165243 + 0.0484187\n",
      "[600]\tcv_agg's l2: 0.165033 + 0.0481282\n",
      "[700]\tcv_agg's l2: 0.16497 + 0.0480635\n",
      "[800]\tcv_agg's l2: 0.164875 + 0.0480185\n",
      "[900]\tcv_agg's l2: 0.164793 + 0.0479648\n",
      "[1000]\tcv_agg's l2: 0.164775 + 0.0479472\n"
     ]
    },
    {
     "name": "stderr",
     "output_type": "stream",
     "text": [
      "feature_fraction, val_score: 0.164769:  14%|######4                                      | 1/7 [00:06<00:38,  6.50s/it][I 2023-11-05 12:47:12,533] Trial 0 finished with value: 0.16476930900033548 and parameters: {'feature_fraction': 0.7}. Best is trial 0 with value: 0.16476930900033548.\n",
      "feature_fraction, val_score: 0.164769:  14%|######4                                      | 1/7 [00:06<00:38,  6.50s/it]"
     ]
    },
    {
     "name": "stdout",
     "output_type": "stream",
     "text": [
      "[1100]\tcv_agg's l2: 0.164785 + 0.0479465\n",
      "Early stopping, best iteration is:\n",
      "[1016]\tcv_agg's l2: 0.164769 + 0.0479291\n",
      "[100]\tcv_agg's l2: 0.14577 + 0.0190072\n",
      "[200]\tcv_agg's l2: 0.141968 + 0.0190092\n",
      "[300]\tcv_agg's l2: 0.140393 + 0.0187957\n",
      "[400]\tcv_agg's l2: 0.139954 + 0.0192357\n",
      "[500]\tcv_agg's l2: 0.139775 + 0.0192077\n",
      "[600]\tcv_agg's l2: 0.139566 + 0.0192705\n",
      "[700]\tcv_agg's l2: 0.139304 + 0.0191916\n",
      "[800]\tcv_agg's l2: 0.139179 + 0.0192118\n",
      "[900]\tcv_agg's l2: 0.139131 + 0.0193297\n",
      "[1000]\tcv_agg's l2: 0.139046 + 0.0193156\n",
      "[1100]\tcv_agg's l2: 0.139032 + 0.0193225\n",
      "[1200]\tcv_agg's l2: 0.138976 + 0.019336\n",
      "[1300]\tcv_agg's l2: 0.13893 + 0.0193193\n",
      "[1400]\tcv_agg's l2: 0.138917 + 0.0193098\n"
     ]
    },
    {
     "name": "stderr",
     "output_type": "stream",
     "text": [
      "feature_fraction, val_score: 0.138910:  29%|############8                                | 2/7 [00:19<00:51, 10.39s/it][I 2023-11-05 12:47:25,652] Trial 1 finished with value: 0.13890974247638868 and parameters: {'feature_fraction': 0.4}. Best is trial 1 with value: 0.13890974247638868.\n",
      "feature_fraction, val_score: 0.138910:  29%|############8                                | 2/7 [00:19<00:51, 10.39s/it]"
     ]
    },
    {
     "name": "stdout",
     "output_type": "stream",
     "text": [
      "Early stopping, best iteration is:\n",
      "[1385]\tcv_agg's l2: 0.13891 + 0.0193004\n",
      "[100]\tcv_agg's l2: 0.154721 + 0.0245814\n",
      "[200]\tcv_agg's l2: 0.150806 + 0.0234789\n",
      "[300]\tcv_agg's l2: 0.150039 + 0.0232775\n",
      "[400]\tcv_agg's l2: 0.149408 + 0.0228823\n",
      "[500]\tcv_agg's l2: 0.148855 + 0.0225708\n",
      "[600]\tcv_agg's l2: 0.148766 + 0.0224291\n",
      "[700]\tcv_agg's l2: 0.14858 + 0.0223809\n",
      "[800]\tcv_agg's l2: 0.14849 + 0.0223332\n",
      "[900]\tcv_agg's l2: 0.148411 + 0.0223147\n",
      "[1000]\tcv_agg's l2: 0.148349 + 0.022307\n",
      "[1100]\tcv_agg's l2: 0.148315 + 0.0222827\n",
      "[1200]\tcv_agg's l2: 0.148333 + 0.0223009\n",
      "[1300]\tcv_agg's l2: 0.148345 + 0.0223165\n",
      "[1400]\tcv_agg's l2: 0.148352 + 0.0223179\n"
     ]
    },
    {
     "name": "stderr",
     "output_type": "stream",
     "text": [
      "feature_fraction, val_score: 0.138910:  43%|###################2                         | 3/7 [00:29<00:40, 10.13s/it][I 2023-11-05 12:47:35,459] Trial 2 finished with value: 0.14834962008485922 and parameters: {'feature_fraction': 0.6}. Best is trial 1 with value: 0.13890974247638868.\n",
      "feature_fraction, val_score: 0.138910:  43%|###################2                         | 3/7 [00:29<00:40, 10.13s/it]"
     ]
    },
    {
     "name": "stdout",
     "output_type": "stream",
     "text": [
      "Early stopping, best iteration is:\n",
      "[1385]\tcv_agg's l2: 0.13891 + 0.0193004\n",
      "[100]\tcv_agg's l2: 0.16542 + 0.0516656\n",
      "[200]\tcv_agg's l2: 0.160834 + 0.0491199\n",
      "[300]\tcv_agg's l2: 0.159854 + 0.0480067\n",
      "[400]\tcv_agg's l2: 0.159587 + 0.047579\n",
      "[500]\tcv_agg's l2: 0.159513 + 0.0472735\n",
      "[600]\tcv_agg's l2: 0.159598 + 0.0471779\n",
      "[700]\tcv_agg's l2: 0.159568 + 0.0471626\n",
      "[800]\tcv_agg's l2: 0.159604 + 0.047127\n",
      "[900]\tcv_agg's l2: 0.159608 + 0.0470322\n",
      "[1000]\tcv_agg's l2: 0.159625 + 0.0469946\n",
      "[1100]\tcv_agg's l2: 0.159616 + 0.0469423\n",
      "[1200]\tcv_agg's l2: 0.159636 + 0.046915\n",
      "[1300]\tcv_agg's l2: 0.159669 + 0.0468881\n",
      "[1400]\tcv_agg's l2: 0.159695 + 0.0468845\n"
     ]
    },
    {
     "name": "stderr",
     "output_type": "stream",
     "text": [
      "feature_fraction, val_score: 0.138910:  57%|#########################7                   | 4/7 [00:40<00:31, 10.58s/it][I 2023-11-05 12:47:46,726] Trial 3 finished with value: 0.15968735486564645 and parameters: {'feature_fraction': 0.8}. Best is trial 1 with value: 0.13890974247638868.\n",
      "feature_fraction, val_score: 0.138910:  57%|#########################7                   | 4/7 [00:40<00:31, 10.58s/it]"
     ]
    },
    {
     "name": "stdout",
     "output_type": "stream",
     "text": [
      "Early stopping, best iteration is:\n",
      "[1385]\tcv_agg's l2: 0.13891 + 0.0193004\n",
      "[100]\tcv_agg's l2: 0.17296 + 0.0492151\n",
      "[200]\tcv_agg's l2: 0.16883 + 0.046995\n",
      "[300]\tcv_agg's l2: 0.168456 + 0.0462632\n",
      "[400]\tcv_agg's l2: 0.167919 + 0.0458558\n",
      "[500]\tcv_agg's l2: 0.16771 + 0.045463\n",
      "[600]\tcv_agg's l2: 0.167736 + 0.0452154\n",
      "[700]\tcv_agg's l2: 0.167664 + 0.0450023\n",
      "[800]\tcv_agg's l2: 0.167645 + 0.0448276\n",
      "[900]\tcv_agg's l2: 0.167622 + 0.0447179\n",
      "[1000]\tcv_agg's l2: 0.167626 + 0.0446352\n",
      "[1100]\tcv_agg's l2: 0.16768 + 0.0446224\n",
      "[1200]\tcv_agg's l2: 0.167731 + 0.0446364\n",
      "[1300]\tcv_agg's l2: 0.167742 + 0.0446114\n",
      "[1400]\tcv_agg's l2: 0.167762 + 0.0446176\n"
     ]
    },
    {
     "name": "stderr",
     "output_type": "stream",
     "text": [
      "feature_fraction, val_score: 0.138910:  71%|################################1            | 5/7 [00:50<00:20, 10.45s/it][I 2023-11-05 12:47:56,952] Trial 4 finished with value: 0.16776010004528646 and parameters: {'feature_fraction': 0.8999999999999999}. Best is trial 1 with value: 0.13890974247638868.\n",
      "feature_fraction, val_score: 0.138910:  71%|################################1            | 5/7 [00:50<00:20, 10.45s/it]"
     ]
    },
    {
     "name": "stdout",
     "output_type": "stream",
     "text": [
      "Early stopping, best iteration is:\n",
      "[1385]\tcv_agg's l2: 0.13891 + 0.0193004\n",
      "[100]\tcv_agg's l2: 0.172377 + 0.0397532\n",
      "[200]\tcv_agg's l2: 0.168498 + 0.0377503\n",
      "[300]\tcv_agg's l2: 0.167595 + 0.0375984\n",
      "[400]\tcv_agg's l2: 0.167074 + 0.0372104\n",
      "[500]\tcv_agg's l2: 0.167048 + 0.036957\n",
      "[600]\tcv_agg's l2: 0.167118 + 0.036831\n",
      "[700]\tcv_agg's l2: 0.167049 + 0.036733\n",
      "[800]\tcv_agg's l2: 0.166998 + 0.0366605\n",
      "[900]\tcv_agg's l2: 0.16702 + 0.0365834\n",
      "[1000]\tcv_agg's l2: 0.167008 + 0.0365164\n",
      "[1100]\tcv_agg's l2: 0.166961 + 0.0364114\n",
      "[1200]\tcv_agg's l2: 0.166916 + 0.036341\n",
      "[1300]\tcv_agg's l2: 0.166912 + 0.0363021\n",
      "[1400]\tcv_agg's l2: 0.166914 + 0.0362878\n"
     ]
    },
    {
     "name": "stderr",
     "output_type": "stream",
     "text": [
      "feature_fraction, val_score: 0.138910:  86%|######################################5      | 6/7 [01:02<00:10, 10.82s/it][I 2023-11-05 12:48:08,486] Trial 5 finished with value: 0.1669143483553866 and parameters: {'feature_fraction': 1.0}. Best is trial 1 with value: 0.13890974247638868.\n",
      "feature_fraction, val_score: 0.138910:  86%|######################################5      | 6/7 [01:02<00:10, 10.82s/it]"
     ]
    },
    {
     "name": "stdout",
     "output_type": "stream",
     "text": [
      "Early stopping, best iteration is:\n",
      "[1385]\tcv_agg's l2: 0.13891 + 0.0193004\n",
      "[100]\tcv_agg's l2: 0.144204 + 0.0236616\n",
      "[200]\tcv_agg's l2: 0.141978 + 0.0235058\n",
      "[300]\tcv_agg's l2: 0.141442 + 0.0241937\n",
      "[400]\tcv_agg's l2: 0.141074 + 0.023954\n",
      "[500]\tcv_agg's l2: 0.140804 + 0.0239369\n",
      "[600]\tcv_agg's l2: 0.14054 + 0.0237426\n",
      "[700]\tcv_agg's l2: 0.140432 + 0.0236117\n",
      "[800]\tcv_agg's l2: 0.140237 + 0.0236123\n",
      "[900]\tcv_agg's l2: 0.140238 + 0.023641\n",
      "[1000]\tcv_agg's l2: 0.140205 + 0.0236286\n",
      "[1100]\tcv_agg's l2: 0.140136 + 0.0236216\n",
      "[1200]\tcv_agg's l2: 0.140131 + 0.0236275\n",
      "[1300]\tcv_agg's l2: 0.140111 + 0.0236111\n",
      "[1400]\tcv_agg's l2: 0.140106 + 0.0236151\n"
     ]
    },
    {
     "name": "stderr",
     "output_type": "stream",
     "text": [
      "feature_fraction, val_score: 0.138910: 100%|#############################################| 7/7 [01:11<00:00, 10.32s/it][I 2023-11-05 12:48:17,786] Trial 6 finished with value: 0.14010296660187524 and parameters: {'feature_fraction': 0.5}. Best is trial 1 with value: 0.13890974247638868.\n",
      "feature_fraction, val_score: 0.138910: 100%|#############################################| 7/7 [01:11<00:00, 10.25s/it]\n"
     ]
    },
    {
     "name": "stdout",
     "output_type": "stream",
     "text": [
      "Early stopping, best iteration is:\n",
      "[1385]\tcv_agg's l2: 0.13891 + 0.0193004\n"
     ]
    },
    {
     "name": "stderr",
     "output_type": "stream",
     "text": [
      "num_leaves, val_score: 0.138910:   0%|                                                          | 0/20 [00:00<?, ?it/s]"
     ]
    },
    {
     "name": "stdout",
     "output_type": "stream",
     "text": [
      "[100]\tcv_agg's l2: 0.14577 + 0.0190072\n",
      "[200]\tcv_agg's l2: 0.141968 + 0.0190092\n",
      "[300]\tcv_agg's l2: 0.140393 + 0.0187957\n",
      "[400]\tcv_agg's l2: 0.139954 + 0.0192357\n",
      "[500]\tcv_agg's l2: 0.139775 + 0.0192077\n",
      "[600]\tcv_agg's l2: 0.139566 + 0.0192705\n",
      "[700]\tcv_agg's l2: 0.139304 + 0.0191916\n",
      "[800]\tcv_agg's l2: 0.139179 + 0.0192118\n",
      "[900]\tcv_agg's l2: 0.139131 + 0.0193297\n",
      "[1000]\tcv_agg's l2: 0.139065 + 0.0193256\n",
      "[1100]\tcv_agg's l2: 0.139053 + 0.0193333\n",
      "[1200]\tcv_agg's l2: 0.138989 + 0.0193426\n",
      "[1300]\tcv_agg's l2: 0.13895 + 0.0193278\n",
      "[1400]\tcv_agg's l2: 0.138951 + 0.0193368\n"
     ]
    },
    {
     "name": "stderr",
     "output_type": "stream",
     "text": [
      "num_leaves, val_score: 0.138910:   5%|##5                                               | 1/20 [00:11<03:32, 11.17s/it][I 2023-11-05 12:48:28,966] Trial 7 finished with value: 0.13894798000058733 and parameters: {'num_leaves': 167}. Best is trial 7 with value: 0.13894798000058733.\n",
      "num_leaves, val_score: 0.138910:   5%|##5                                               | 1/20 [00:11<03:32, 11.17s/it]"
     ]
    },
    {
     "name": "stdout",
     "output_type": "stream",
     "text": [
      "Early stopping, best iteration is:\n",
      "[1385]\tcv_agg's l2: 0.13891 + 0.0193004\n",
      "[100]\tcv_agg's l2: 0.14577 + 0.0190072\n",
      "[200]\tcv_agg's l2: 0.141968 + 0.0190092\n",
      "[300]\tcv_agg's l2: 0.140393 + 0.0187957\n",
      "[400]\tcv_agg's l2: 0.139954 + 0.0192357\n",
      "[500]\tcv_agg's l2: 0.139775 + 0.0192077\n",
      "[600]\tcv_agg's l2: 0.139566 + 0.0192705\n",
      "[700]\tcv_agg's l2: 0.139304 + 0.0191916\n",
      "[800]\tcv_agg's l2: 0.139179 + 0.0192118\n",
      "[900]\tcv_agg's l2: 0.139131 + 0.0193297\n",
      "[1000]\tcv_agg's l2: 0.139065 + 0.0193256\n",
      "[1100]\tcv_agg's l2: 0.139053 + 0.0193333\n",
      "[1200]\tcv_agg's l2: 0.138989 + 0.0193426\n",
      "[1300]\tcv_agg's l2: 0.13895 + 0.0193278\n",
      "[1400]\tcv_agg's l2: 0.138951 + 0.0193368\n"
     ]
    },
    {
     "name": "stderr",
     "output_type": "stream",
     "text": [
      "num_leaves, val_score: 0.138910:  10%|#####                                             | 2/20 [00:23<03:31, 11.74s/it][I 2023-11-05 12:48:41,104] Trial 8 finished with value: 0.13894798000058733 and parameters: {'num_leaves': 187}. Best is trial 7 with value: 0.13894798000058733.\n",
      "num_leaves, val_score: 0.138910:  10%|#####                                             | 2/20 [00:23<03:31, 11.74s/it]"
     ]
    },
    {
     "name": "stdout",
     "output_type": "stream",
     "text": [
      "Early stopping, best iteration is:\n",
      "[1385]\tcv_agg's l2: 0.13891 + 0.0193004\n",
      "[100]\tcv_agg's l2: 0.14577 + 0.0190072\n",
      "[200]\tcv_agg's l2: 0.141968 + 0.0190092\n",
      "[300]\tcv_agg's l2: 0.140393 + 0.0187957\n",
      "[400]\tcv_agg's l2: 0.139954 + 0.0192357\n",
      "[500]\tcv_agg's l2: 0.139775 + 0.0192077\n",
      "[600]\tcv_agg's l2: 0.139566 + 0.0192705\n",
      "[700]\tcv_agg's l2: 0.139304 + 0.0191916\n",
      "[800]\tcv_agg's l2: 0.139179 + 0.0192118\n",
      "[900]\tcv_agg's l2: 0.139131 + 0.0193297\n",
      "[1000]\tcv_agg's l2: 0.139065 + 0.0193256\n",
      "[1100]\tcv_agg's l2: 0.139053 + 0.0193333\n",
      "[1200]\tcv_agg's l2: 0.138989 + 0.0193426\n",
      "[1300]\tcv_agg's l2: 0.13895 + 0.0193278\n",
      "[1400]\tcv_agg's l2: 0.138951 + 0.0193368\n"
     ]
    },
    {
     "name": "stderr",
     "output_type": "stream",
     "text": [
      "num_leaves, val_score: 0.138910:  15%|#######5                                          | 3/20 [00:33<03:08, 11.06s/it][I 2023-11-05 12:48:51,362] Trial 9 finished with value: 0.13894798000058733 and parameters: {'num_leaves': 123}. Best is trial 7 with value: 0.13894798000058733.\n",
      "num_leaves, val_score: 0.138910:  15%|#######5                                          | 3/20 [00:33<03:08, 11.06s/it]"
     ]
    },
    {
     "name": "stdout",
     "output_type": "stream",
     "text": [
      "Early stopping, best iteration is:\n",
      "[1385]\tcv_agg's l2: 0.13891 + 0.0193004\n",
      "[100]\tcv_agg's l2: 0.153403 + 0.0333904\n",
      "[200]\tcv_agg's l2: 0.146584 + 0.0316596\n",
      "[300]\tcv_agg's l2: 0.143996 + 0.0309525\n",
      "[400]\tcv_agg's l2: 0.142735 + 0.0300418\n",
      "[500]\tcv_agg's l2: 0.141551 + 0.0286736\n",
      "[600]\tcv_agg's l2: 0.141694 + 0.0282299\n",
      "[700]\tcv_agg's l2: 0.141512 + 0.0277644\n",
      "[800]\tcv_agg's l2: 0.141507 + 0.0275447\n",
      "[900]\tcv_agg's l2: 0.141402 + 0.0271158\n",
      "[1000]\tcv_agg's l2: 0.141055 + 0.026957\n",
      "[1100]\tcv_agg's l2: 0.141219 + 0.0266651\n",
      "[1200]\tcv_agg's l2: 0.141175 + 0.0263962\n",
      "[1300]\tcv_agg's l2: 0.140905 + 0.0263701\n",
      "[1400]\tcv_agg's l2: 0.140839 + 0.0260482\n"
     ]
    },
    {
     "name": "stderr",
     "output_type": "stream",
     "text": [
      "num_leaves, val_score: 0.138910:  20%|##########                                        | 4/20 [00:39<02:21,  8.85s/it][I 2023-11-05 12:48:56,817] Trial 10 finished with value: 0.1407931317329393 and parameters: {'num_leaves': 10}. Best is trial 7 with value: 0.13894798000058733.\n",
      "num_leaves, val_score: 0.138910:  20%|##########                                        | 4/20 [00:39<02:21,  8.85s/it]"
     ]
    },
    {
     "name": "stdout",
     "output_type": "stream",
     "text": [
      "Early stopping, best iteration is:\n",
      "[1385]\tcv_agg's l2: 0.13891 + 0.0193004\n",
      "[100]\tcv_agg's l2: 0.14577 + 0.0190072\n",
      "[200]\tcv_agg's l2: 0.141968 + 0.0190092\n",
      "[300]\tcv_agg's l2: 0.140393 + 0.0187957\n",
      "[400]\tcv_agg's l2: 0.139954 + 0.0192357\n",
      "[500]\tcv_agg's l2: 0.139775 + 0.0192077\n",
      "[600]\tcv_agg's l2: 0.139566 + 0.0192705\n",
      "[700]\tcv_agg's l2: 0.139304 + 0.0191916\n",
      "[800]\tcv_agg's l2: 0.139179 + 0.0192118\n",
      "[900]\tcv_agg's l2: 0.139131 + 0.0193297\n",
      "[1000]\tcv_agg's l2: 0.139065 + 0.0193256\n",
      "[1100]\tcv_agg's l2: 0.139053 + 0.0193333\n",
      "[1200]\tcv_agg's l2: 0.138989 + 0.0193426\n",
      "[1300]\tcv_agg's l2: 0.13895 + 0.0193278\n",
      "[1400]\tcv_agg's l2: 0.138951 + 0.0193368\n"
     ]
    },
    {
     "name": "stderr",
     "output_type": "stream",
     "text": [
      "num_leaves, val_score: 0.138910:  25%|############5                                     | 5/20 [00:49<02:23,  9.54s/it][I 2023-11-05 12:49:07,575] Trial 11 finished with value: 0.13894798000058733 and parameters: {'num_leaves': 252}. Best is trial 7 with value: 0.13894798000058733.\n",
      "num_leaves, val_score: 0.138910:  25%|############5                                     | 5/20 [00:49<02:23,  9.54s/it]"
     ]
    },
    {
     "name": "stdout",
     "output_type": "stream",
     "text": [
      "Early stopping, best iteration is:\n",
      "[1385]\tcv_agg's l2: 0.13891 + 0.0193004\n",
      "[100]\tcv_agg's l2: 0.14577 + 0.0190072\n",
      "[200]\tcv_agg's l2: 0.141968 + 0.0190092\n",
      "[300]\tcv_agg's l2: 0.140393 + 0.0187957\n",
      "[400]\tcv_agg's l2: 0.139954 + 0.0192357\n",
      "[500]\tcv_agg's l2: 0.139775 + 0.0192077\n",
      "[600]\tcv_agg's l2: 0.139566 + 0.0192705\n",
      "[700]\tcv_agg's l2: 0.139304 + 0.0191916\n",
      "[800]\tcv_agg's l2: 0.139179 + 0.0192118\n",
      "[900]\tcv_agg's l2: 0.139131 + 0.0193297\n",
      "[1000]\tcv_agg's l2: 0.139065 + 0.0193256\n",
      "[1100]\tcv_agg's l2: 0.139053 + 0.0193333\n",
      "[1200]\tcv_agg's l2: 0.138989 + 0.0193426\n",
      "[1300]\tcv_agg's l2: 0.13895 + 0.0193278\n",
      "[1400]\tcv_agg's l2: 0.138951 + 0.0193368\n"
     ]
    },
    {
     "name": "stderr",
     "output_type": "stream",
     "text": [
      "num_leaves, val_score: 0.138910:  30%|###############                                   | 6/20 [01:00<02:17,  9.81s/it][I 2023-11-05 12:49:17,919] Trial 12 finished with value: 0.13894798000058733 and parameters: {'num_leaves': 111}. Best is trial 7 with value: 0.13894798000058733.\n",
      "num_leaves, val_score: 0.138910:  30%|###############                                   | 6/20 [01:00<02:17,  9.81s/it]"
     ]
    },
    {
     "name": "stdout",
     "output_type": "stream",
     "text": [
      "Early stopping, best iteration is:\n",
      "[1385]\tcv_agg's l2: 0.13891 + 0.0193004\n",
      "[100]\tcv_agg's l2: 0.14577 + 0.0190072\n",
      "[200]\tcv_agg's l2: 0.141968 + 0.0190092\n",
      "[300]\tcv_agg's l2: 0.140393 + 0.0187957\n",
      "[400]\tcv_agg's l2: 0.139954 + 0.0192357\n",
      "[500]\tcv_agg's l2: 0.139775 + 0.0192077\n",
      "[600]\tcv_agg's l2: 0.139566 + 0.0192705\n",
      "[700]\tcv_agg's l2: 0.139304 + 0.0191916\n",
      "[800]\tcv_agg's l2: 0.139179 + 0.0192118\n",
      "[900]\tcv_agg's l2: 0.139131 + 0.0193297\n",
      "[1000]\tcv_agg's l2: 0.139065 + 0.0193256\n",
      "[1100]\tcv_agg's l2: 0.139053 + 0.0193333\n",
      "[1200]\tcv_agg's l2: 0.138989 + 0.0193426\n",
      "[1300]\tcv_agg's l2: 0.13895 + 0.0193278\n",
      "[1400]\tcv_agg's l2: 0.138951 + 0.0193368\n"
     ]
    },
    {
     "name": "stderr",
     "output_type": "stream",
     "text": [
      "num_leaves, val_score: 0.138910:  35%|#################5                                | 7/20 [01:10<02:10, 10.04s/it][I 2023-11-05 12:49:28,444] Trial 13 finished with value: 0.13894798000058733 and parameters: {'num_leaves': 197}. Best is trial 7 with value: 0.13894798000058733.\n",
      "num_leaves, val_score: 0.138910:  35%|#################5                                | 7/20 [01:10<02:10, 10.04s/it]"
     ]
    },
    {
     "name": "stdout",
     "output_type": "stream",
     "text": [
      "Early stopping, best iteration is:\n",
      "[1385]\tcv_agg's l2: 0.13891 + 0.0193004\n",
      "[100]\tcv_agg's l2: 0.14577 + 0.0190072\n",
      "[200]\tcv_agg's l2: 0.141968 + 0.0190092\n",
      "[300]\tcv_agg's l2: 0.140393 + 0.0187957\n",
      "[400]\tcv_agg's l2: 0.139954 + 0.0192357\n",
      "[500]\tcv_agg's l2: 0.139775 + 0.0192077\n",
      "[600]\tcv_agg's l2: 0.139566 + 0.0192705\n",
      "[700]\tcv_agg's l2: 0.139304 + 0.0191916\n",
      "[800]\tcv_agg's l2: 0.139179 + 0.0192118\n",
      "[900]\tcv_agg's l2: 0.139131 + 0.0193297\n",
      "[1000]\tcv_agg's l2: 0.139065 + 0.0193256\n",
      "[1100]\tcv_agg's l2: 0.139053 + 0.0193333\n",
      "[1200]\tcv_agg's l2: 0.138989 + 0.0193426\n",
      "[1300]\tcv_agg's l2: 0.13895 + 0.0193278\n",
      "[1400]\tcv_agg's l2: 0.138951 + 0.0193368\n"
     ]
    },
    {
     "name": "stderr",
     "output_type": "stream",
     "text": [
      "num_leaves, val_score: 0.138910:  40%|####################                              | 8/20 [01:20<01:58,  9.91s/it][I 2023-11-05 12:49:38,072] Trial 14 finished with value: 0.13894798000058733 and parameters: {'num_leaves': 53}. Best is trial 7 with value: 0.13894798000058733.\n",
      "num_leaves, val_score: 0.138910:  40%|####################                              | 8/20 [01:20<01:58,  9.91s/it]"
     ]
    },
    {
     "name": "stdout",
     "output_type": "stream",
     "text": [
      "Early stopping, best iteration is:\n",
      "[1385]\tcv_agg's l2: 0.13891 + 0.0193004\n",
      "[100]\tcv_agg's l2: 0.14577 + 0.0190072\n",
      "[200]\tcv_agg's l2: 0.141968 + 0.0190092\n",
      "[300]\tcv_agg's l2: 0.140393 + 0.0187957\n",
      "[400]\tcv_agg's l2: 0.139954 + 0.0192357\n",
      "[500]\tcv_agg's l2: 0.139775 + 0.0192077\n",
      "[600]\tcv_agg's l2: 0.139566 + 0.0192705\n",
      "[700]\tcv_agg's l2: 0.139304 + 0.0191916\n",
      "[800]\tcv_agg's l2: 0.139179 + 0.0192118\n",
      "[900]\tcv_agg's l2: 0.139131 + 0.0193297\n",
      "[1000]\tcv_agg's l2: 0.139065 + 0.0193256\n",
      "[1100]\tcv_agg's l2: 0.139053 + 0.0193333\n",
      "[1200]\tcv_agg's l2: 0.138989 + 0.0193426\n",
      "[1300]\tcv_agg's l2: 0.13895 + 0.0193278\n",
      "[1400]\tcv_agg's l2: 0.138951 + 0.0193368\n"
     ]
    },
    {
     "name": "stderr",
     "output_type": "stream",
     "text": [
      "num_leaves, val_score: 0.138910:  45%|######################5                           | 9/20 [01:31<01:52, 10.23s/it][I 2023-11-05 12:49:48,990] Trial 15 finished with value: 0.13894798000058733 and parameters: {'num_leaves': 187}. Best is trial 7 with value: 0.13894798000058733.\n",
      "num_leaves, val_score: 0.138910:  45%|######################5                           | 9/20 [01:31<01:52, 10.23s/it]"
     ]
    },
    {
     "name": "stdout",
     "output_type": "stream",
     "text": [
      "Early stopping, best iteration is:\n",
      "[1385]\tcv_agg's l2: 0.13891 + 0.0193004\n",
      "[100]\tcv_agg's l2: 0.14577 + 0.0190072\n",
      "[200]\tcv_agg's l2: 0.141968 + 0.0190092\n",
      "[300]\tcv_agg's l2: 0.140393 + 0.0187957\n",
      "[400]\tcv_agg's l2: 0.139954 + 0.0192357\n",
      "[500]\tcv_agg's l2: 0.139775 + 0.0192077\n",
      "[600]\tcv_agg's l2: 0.139566 + 0.0192705\n",
      "[700]\tcv_agg's l2: 0.139304 + 0.0191916\n",
      "[800]\tcv_agg's l2: 0.139179 + 0.0192118\n",
      "[900]\tcv_agg's l2: 0.139131 + 0.0193297\n",
      "[1000]\tcv_agg's l2: 0.139065 + 0.0193256\n",
      "[1100]\tcv_agg's l2: 0.139053 + 0.0193333\n",
      "[1200]\tcv_agg's l2: 0.138989 + 0.0193426\n",
      "[1300]\tcv_agg's l2: 0.13895 + 0.0193278\n",
      "[1400]\tcv_agg's l2: 0.138951 + 0.0193368\n"
     ]
    },
    {
     "name": "stderr",
     "output_type": "stream",
     "text": [
      "num_leaves, val_score: 0.138910:  50%|########################5                        | 10/20 [01:42<01:46, 10.69s/it][I 2023-11-05 12:50:00,704] Trial 16 finished with value: 0.13894798000058733 and parameters: {'num_leaves': 249}. Best is trial 7 with value: 0.13894798000058733.\n",
      "num_leaves, val_score: 0.138910:  50%|########################5                        | 10/20 [01:42<01:46, 10.69s/it]"
     ]
    },
    {
     "name": "stdout",
     "output_type": "stream",
     "text": [
      "Early stopping, best iteration is:\n",
      "[1385]\tcv_agg's l2: 0.13891 + 0.0193004\n",
      "[100]\tcv_agg's l2: 0.14577 + 0.0190072\n",
      "[200]\tcv_agg's l2: 0.141968 + 0.0190092\n",
      "[300]\tcv_agg's l2: 0.140393 + 0.0187957\n",
      "[400]\tcv_agg's l2: 0.139954 + 0.0192357\n",
      "[500]\tcv_agg's l2: 0.139775 + 0.0192077\n",
      "[600]\tcv_agg's l2: 0.139566 + 0.0192705\n",
      "[700]\tcv_agg's l2: 0.139304 + 0.0191916\n",
      "[800]\tcv_agg's l2: 0.139179 + 0.0192118\n",
      "[900]\tcv_agg's l2: 0.139131 + 0.0193297\n",
      "[1000]\tcv_agg's l2: 0.139065 + 0.0193256\n",
      "[1100]\tcv_agg's l2: 0.139053 + 0.0193333\n",
      "[1200]\tcv_agg's l2: 0.138989 + 0.0193426\n",
      "[1300]\tcv_agg's l2: 0.13895 + 0.0193278\n",
      "[1400]\tcv_agg's l2: 0.138951 + 0.0193368\n"
     ]
    },
    {
     "name": "stderr",
     "output_type": "stream",
     "text": [
      "num_leaves, val_score: 0.138910:  55%|##########################9                      | 11/20 [01:55<01:40, 11.17s/it][I 2023-11-05 12:50:12,978] Trial 17 finished with value: 0.13894798000058733 and parameters: {'num_leaves': 77}. Best is trial 7 with value: 0.13894798000058733.\n",
      "num_leaves, val_score: 0.138910:  55%|##########################9                      | 11/20 [01:55<01:40, 11.17s/it]"
     ]
    },
    {
     "name": "stdout",
     "output_type": "stream",
     "text": [
      "Early stopping, best iteration is:\n",
      "[1385]\tcv_agg's l2: 0.13891 + 0.0193004\n",
      "[100]\tcv_agg's l2: 0.14577 + 0.0190072\n",
      "[200]\tcv_agg's l2: 0.141968 + 0.0190092\n",
      "[300]\tcv_agg's l2: 0.140393 + 0.0187957\n",
      "[400]\tcv_agg's l2: 0.139954 + 0.0192357\n",
      "[500]\tcv_agg's l2: 0.139775 + 0.0192077\n",
      "[600]\tcv_agg's l2: 0.139566 + 0.0192705\n",
      "[700]\tcv_agg's l2: 0.139304 + 0.0191916\n",
      "[800]\tcv_agg's l2: 0.139179 + 0.0192118\n",
      "[900]\tcv_agg's l2: 0.139131 + 0.0193297\n",
      "[1000]\tcv_agg's l2: 0.139065 + 0.0193256\n",
      "[1100]\tcv_agg's l2: 0.139053 + 0.0193333\n",
      "[1200]\tcv_agg's l2: 0.138989 + 0.0193426\n",
      "[1300]\tcv_agg's l2: 0.13895 + 0.0193278\n",
      "[1400]\tcv_agg's l2: 0.138951 + 0.0193368\n"
     ]
    },
    {
     "name": "stderr",
     "output_type": "stream",
     "text": [
      "num_leaves, val_score: 0.138910:  60%|#############################4                   | 12/20 [02:05<01:28, 11.03s/it][I 2023-11-05 12:50:23,670] Trial 18 finished with value: 0.13894798000058733 and parameters: {'num_leaves': 165}. Best is trial 7 with value: 0.13894798000058733.\n",
      "num_leaves, val_score: 0.138910:  60%|#############################4                   | 12/20 [02:05<01:28, 11.03s/it]"
     ]
    },
    {
     "name": "stdout",
     "output_type": "stream",
     "text": [
      "Early stopping, best iteration is:\n",
      "[1385]\tcv_agg's l2: 0.13891 + 0.0193004\n",
      "[100]\tcv_agg's l2: 0.14577 + 0.0190072\n",
      "[200]\tcv_agg's l2: 0.141968 + 0.0190092\n",
      "[300]\tcv_agg's l2: 0.140393 + 0.0187957\n",
      "[400]\tcv_agg's l2: 0.139954 + 0.0192357\n",
      "[500]\tcv_agg's l2: 0.139775 + 0.0192077\n",
      "[600]\tcv_agg's l2: 0.139566 + 0.0192705\n",
      "[700]\tcv_agg's l2: 0.139304 + 0.0191916\n",
      "[800]\tcv_agg's l2: 0.139179 + 0.0192118\n",
      "[900]\tcv_agg's l2: 0.139131 + 0.0193297\n",
      "[1000]\tcv_agg's l2: 0.139065 + 0.0193256\n",
      "[1100]\tcv_agg's l2: 0.139053 + 0.0193333\n",
      "[1200]\tcv_agg's l2: 0.138989 + 0.0193426\n",
      "[1300]\tcv_agg's l2: 0.13895 + 0.0193278\n",
      "[1400]\tcv_agg's l2: 0.138951 + 0.0193368\n"
     ]
    },
    {
     "name": "stderr",
     "output_type": "stream",
     "text": [
      "num_leaves, val_score: 0.138910:  65%|###############################8                 | 13/20 [02:25<01:34, 13.55s/it][I 2023-11-05 12:50:43,013] Trial 19 finished with value: 0.13894798000058733 and parameters: {'num_leaves': 155}. Best is trial 7 with value: 0.13894798000058733.\n",
      "num_leaves, val_score: 0.138910:  65%|###############################8                 | 13/20 [02:25<01:34, 13.55s/it]"
     ]
    },
    {
     "name": "stdout",
     "output_type": "stream",
     "text": [
      "Early stopping, best iteration is:\n",
      "[1385]\tcv_agg's l2: 0.13891 + 0.0193004\n",
      "[100]\tcv_agg's l2: 0.14577 + 0.0190072\n",
      "[200]\tcv_agg's l2: 0.141968 + 0.0190092\n",
      "[300]\tcv_agg's l2: 0.140393 + 0.0187957\n",
      "[400]\tcv_agg's l2: 0.139954 + 0.0192357\n",
      "[500]\tcv_agg's l2: 0.139775 + 0.0192077\n",
      "[600]\tcv_agg's l2: 0.139566 + 0.0192705\n",
      "[700]\tcv_agg's l2: 0.139304 + 0.0191916\n",
      "[800]\tcv_agg's l2: 0.139179 + 0.0192118\n",
      "[900]\tcv_agg's l2: 0.139131 + 0.0193297\n",
      "[1000]\tcv_agg's l2: 0.139065 + 0.0193256\n",
      "[1100]\tcv_agg's l2: 0.139053 + 0.0193333\n",
      "[1200]\tcv_agg's l2: 0.138989 + 0.0193426\n",
      "[1300]\tcv_agg's l2: 0.13895 + 0.0193278\n",
      "[1400]\tcv_agg's l2: 0.138951 + 0.0193368\n"
     ]
    },
    {
     "name": "stderr",
     "output_type": "stream",
     "text": [
      "num_leaves, val_score: 0.138910:  70%|##################################3              | 14/20 [02:41<01:25, 14.23s/it][I 2023-11-05 12:50:58,825] Trial 20 finished with value: 0.13894798000058733 and parameters: {'num_leaves': 222}. Best is trial 7 with value: 0.13894798000058733.\n",
      "num_leaves, val_score: 0.138910:  70%|##################################3              | 14/20 [02:41<01:25, 14.23s/it]"
     ]
    },
    {
     "name": "stdout",
     "output_type": "stream",
     "text": [
      "Early stopping, best iteration is:\n",
      "[1385]\tcv_agg's l2: 0.13891 + 0.0193004\n",
      "[100]\tcv_agg's l2: 0.14577 + 0.0190072\n",
      "[200]\tcv_agg's l2: 0.141968 + 0.0190092\n",
      "[300]\tcv_agg's l2: 0.140393 + 0.0187957\n",
      "[400]\tcv_agg's l2: 0.139954 + 0.0192357\n",
      "[500]\tcv_agg's l2: 0.139775 + 0.0192077\n",
      "[600]\tcv_agg's l2: 0.139566 + 0.0192705\n",
      "[700]\tcv_agg's l2: 0.139304 + 0.0191916\n",
      "[800]\tcv_agg's l2: 0.139179 + 0.0192118\n",
      "[900]\tcv_agg's l2: 0.139131 + 0.0193297\n",
      "[1000]\tcv_agg's l2: 0.139065 + 0.0193256\n",
      "[1100]\tcv_agg's l2: 0.139053 + 0.0193333\n",
      "[1200]\tcv_agg's l2: 0.138989 + 0.0193426\n",
      "[1300]\tcv_agg's l2: 0.13895 + 0.0193278\n",
      "[1400]\tcv_agg's l2: 0.138951 + 0.0193368\n"
     ]
    },
    {
     "name": "stderr",
     "output_type": "stream",
     "text": [
      "num_leaves, val_score: 0.138910:  75%|####################################7            | 15/20 [02:53<01:07, 13.58s/it][I 2023-11-05 12:51:10,895] Trial 21 finished with value: 0.13894798000058733 and parameters: {'num_leaves': 139}. Best is trial 7 with value: 0.13894798000058733.\n",
      "num_leaves, val_score: 0.138910:  75%|####################################7            | 15/20 [02:53<01:07, 13.58s/it]"
     ]
    },
    {
     "name": "stdout",
     "output_type": "stream",
     "text": [
      "Early stopping, best iteration is:\n",
      "[1385]\tcv_agg's l2: 0.13891 + 0.0193004\n",
      "[100]\tcv_agg's l2: 0.14577 + 0.0190072\n",
      "[200]\tcv_agg's l2: 0.141968 + 0.0190092\n",
      "[300]\tcv_agg's l2: 0.140393 + 0.0187957\n",
      "[400]\tcv_agg's l2: 0.139954 + 0.0192357\n",
      "[500]\tcv_agg's l2: 0.139775 + 0.0192077\n",
      "[600]\tcv_agg's l2: 0.139566 + 0.0192705\n",
      "[700]\tcv_agg's l2: 0.139304 + 0.0191916\n",
      "[800]\tcv_agg's l2: 0.139179 + 0.0192118\n",
      "[900]\tcv_agg's l2: 0.139131 + 0.0193297\n",
      "[1000]\tcv_agg's l2: 0.139065 + 0.0193256\n",
      "[1100]\tcv_agg's l2: 0.139053 + 0.0193333\n",
      "[1200]\tcv_agg's l2: 0.138989 + 0.0193426\n",
      "[1300]\tcv_agg's l2: 0.13895 + 0.0193278\n",
      "[1400]\tcv_agg's l2: 0.138951 + 0.0193368\n"
     ]
    },
    {
     "name": "stderr",
     "output_type": "stream",
     "text": [
      "num_leaves, val_score: 0.138910:  80%|#######################################2         | 16/20 [03:04<00:51, 12.81s/it][I 2023-11-05 12:51:21,930] Trial 22 finished with value: 0.13894798000058733 and parameters: {'num_leaves': 202}. Best is trial 7 with value: 0.13894798000058733.\n",
      "num_leaves, val_score: 0.138910:  80%|#######################################2         | 16/20 [03:04<00:51, 12.81s/it]"
     ]
    },
    {
     "name": "stdout",
     "output_type": "stream",
     "text": [
      "Early stopping, best iteration is:\n",
      "[1385]\tcv_agg's l2: 0.13891 + 0.0193004\n",
      "[100]\tcv_agg's l2: 0.14577 + 0.0190072\n",
      "[200]\tcv_agg's l2: 0.141968 + 0.0190092\n",
      "[300]\tcv_agg's l2: 0.140393 + 0.0187957\n",
      "[400]\tcv_agg's l2: 0.139954 + 0.0192357\n",
      "[500]\tcv_agg's l2: 0.139775 + 0.0192077\n",
      "[600]\tcv_agg's l2: 0.139566 + 0.0192705\n",
      "[700]\tcv_agg's l2: 0.139304 + 0.0191916\n",
      "[800]\tcv_agg's l2: 0.139179 + 0.0192118\n",
      "[900]\tcv_agg's l2: 0.139131 + 0.0193297\n",
      "[1000]\tcv_agg's l2: 0.139065 + 0.0193256\n",
      "[1100]\tcv_agg's l2: 0.139053 + 0.0193333\n",
      "[1200]\tcv_agg's l2: 0.138989 + 0.0193426\n",
      "[1300]\tcv_agg's l2: 0.13895 + 0.0193278\n",
      "[1400]\tcv_agg's l2: 0.138951 + 0.0193368\n"
     ]
    },
    {
     "name": "stderr",
     "output_type": "stream",
     "text": [
      "num_leaves, val_score: 0.138910:  85%|#########################################6       | 17/20 [03:15<00:36, 12.30s/it][I 2023-11-05 12:51:33,044] Trial 23 finished with value: 0.13894798000058733 and parameters: {'num_leaves': 169}. Best is trial 7 with value: 0.13894798000058733.\n",
      "num_leaves, val_score: 0.138910:  85%|#########################################6       | 17/20 [03:15<00:36, 12.30s/it]"
     ]
    },
    {
     "name": "stdout",
     "output_type": "stream",
     "text": [
      "Early stopping, best iteration is:\n",
      "[1385]\tcv_agg's l2: 0.13891 + 0.0193004\n",
      "[100]\tcv_agg's l2: 0.14577 + 0.0190072\n",
      "[200]\tcv_agg's l2: 0.141968 + 0.0190092\n",
      "[300]\tcv_agg's l2: 0.140393 + 0.0187957\n",
      "[400]\tcv_agg's l2: 0.139954 + 0.0192357\n",
      "[500]\tcv_agg's l2: 0.139775 + 0.0192077\n",
      "[600]\tcv_agg's l2: 0.139566 + 0.0192705\n",
      "[700]\tcv_agg's l2: 0.139304 + 0.0191916\n",
      "[800]\tcv_agg's l2: 0.139179 + 0.0192118\n",
      "[900]\tcv_agg's l2: 0.139131 + 0.0193297\n",
      "[1000]\tcv_agg's l2: 0.139065 + 0.0193256\n",
      "[1100]\tcv_agg's l2: 0.139053 + 0.0193333\n",
      "[1200]\tcv_agg's l2: 0.138989 + 0.0193426\n",
      "[1300]\tcv_agg's l2: 0.13895 + 0.0193278\n",
      "[1400]\tcv_agg's l2: 0.138951 + 0.0193368\n"
     ]
    },
    {
     "name": "stderr",
     "output_type": "stream",
     "text": [
      "num_leaves, val_score: 0.138910:  90%|############################################1    | 18/20 [03:25<00:23, 11.74s/it][I 2023-11-05 12:51:43,488] Trial 24 finished with value: 0.13894798000058733 and parameters: {'num_leaves': 87}. Best is trial 7 with value: 0.13894798000058733.\n",
      "num_leaves, val_score: 0.138910:  90%|############################################1    | 18/20 [03:25<00:23, 11.74s/it]"
     ]
    },
    {
     "name": "stdout",
     "output_type": "stream",
     "text": [
      "Early stopping, best iteration is:\n",
      "[1385]\tcv_agg's l2: 0.13891 + 0.0193004\n",
      "[100]\tcv_agg's l2: 0.14577 + 0.0190072\n",
      "[200]\tcv_agg's l2: 0.141968 + 0.0190092\n",
      "[300]\tcv_agg's l2: 0.140393 + 0.0187957\n",
      "[400]\tcv_agg's l2: 0.139954 + 0.0192357\n",
      "[500]\tcv_agg's l2: 0.139775 + 0.0192077\n",
      "[600]\tcv_agg's l2: 0.139566 + 0.0192705\n",
      "[700]\tcv_agg's l2: 0.139304 + 0.0191916\n",
      "[800]\tcv_agg's l2: 0.139179 + 0.0192118\n",
      "[900]\tcv_agg's l2: 0.139131 + 0.0193297\n",
      "[1000]\tcv_agg's l2: 0.139065 + 0.0193256\n",
      "[1100]\tcv_agg's l2: 0.139053 + 0.0193333\n",
      "[1200]\tcv_agg's l2: 0.138989 + 0.0193426\n",
      "[1300]\tcv_agg's l2: 0.13895 + 0.0193278\n",
      "[1400]\tcv_agg's l2: 0.138951 + 0.0193368\n"
     ]
    },
    {
     "name": "stderr",
     "output_type": "stream",
     "text": [
      "num_leaves, val_score: 0.138910:  95%|##############################################5  | 19/20 [03:36<00:11, 11.35s/it][I 2023-11-05 12:51:53,932] Trial 25 finished with value: 0.13894798000058733 and parameters: {'num_leaves': 208}. Best is trial 7 with value: 0.13894798000058733.\n",
      "num_leaves, val_score: 0.138910:  95%|##############################################5  | 19/20 [03:36<00:11, 11.35s/it]"
     ]
    },
    {
     "name": "stdout",
     "output_type": "stream",
     "text": [
      "Early stopping, best iteration is:\n",
      "[1385]\tcv_agg's l2: 0.13891 + 0.0193004\n",
      "[100]\tcv_agg's l2: 0.14577 + 0.0190072\n",
      "[200]\tcv_agg's l2: 0.141968 + 0.0190092\n",
      "[300]\tcv_agg's l2: 0.140393 + 0.0187957\n",
      "[400]\tcv_agg's l2: 0.139954 + 0.0192357\n",
      "[500]\tcv_agg's l2: 0.139775 + 0.0192077\n",
      "[600]\tcv_agg's l2: 0.139566 + 0.0192705\n",
      "[700]\tcv_agg's l2: 0.139304 + 0.0191916\n",
      "[800]\tcv_agg's l2: 0.139179 + 0.0192118\n",
      "[900]\tcv_agg's l2: 0.139131 + 0.0193297\n",
      "[1000]\tcv_agg's l2: 0.139065 + 0.0193256\n",
      "[1100]\tcv_agg's l2: 0.139053 + 0.0193333\n",
      "[1200]\tcv_agg's l2: 0.138989 + 0.0193426\n",
      "[1300]\tcv_agg's l2: 0.13895 + 0.0193278\n",
      "[1400]\tcv_agg's l2: 0.138951 + 0.0193368\n"
     ]
    },
    {
     "name": "stderr",
     "output_type": "stream",
     "text": [
      "num_leaves, val_score: 0.138910: 100%|#################################################| 20/20 [03:46<00:00, 11.01s/it][I 2023-11-05 12:52:04,137] Trial 26 finished with value: 0.13894798000058733 and parameters: {'num_leaves': 142}. Best is trial 7 with value: 0.13894798000058733.\n",
      "num_leaves, val_score: 0.138910: 100%|#################################################| 20/20 [03:46<00:00, 11.32s/it]\n"
     ]
    },
    {
     "name": "stdout",
     "output_type": "stream",
     "text": [
      "Early stopping, best iteration is:\n",
      "[1385]\tcv_agg's l2: 0.13891 + 0.0193004\n"
     ]
    },
    {
     "name": "stderr",
     "output_type": "stream",
     "text": [
      "bagging, val_score: 0.138910:   0%|                                                             | 0/10 [00:00<?, ?it/s]"
     ]
    },
    {
     "name": "stdout",
     "output_type": "stream",
     "text": [
      "[100]\tcv_agg's l2: 0.158631 + 0.0148811\n",
      "[200]\tcv_agg's l2: 0.152513 + 0.0159581\n",
      "[300]\tcv_agg's l2: 0.151726 + 0.0149552\n",
      "[400]\tcv_agg's l2: 0.151372 + 0.0155679\n",
      "[500]\tcv_agg's l2: 0.151904 + 0.0154491\n",
      "[600]\tcv_agg's l2: 0.151376 + 0.0160674\n",
      "[700]\tcv_agg's l2: 0.150906 + 0.0160809\n",
      "[800]\tcv_agg's l2: 0.151102 + 0.0158225\n",
      "[900]\tcv_agg's l2: 0.150603 + 0.0160924\n",
      "[1000]\tcv_agg's l2: 0.150747 + 0.0162008\n",
      "[1100]\tcv_agg's l2: 0.150645 + 0.0162329\n",
      "[1200]\tcv_agg's l2: 0.150326 + 0.0159878\n",
      "[1300]\tcv_agg's l2: 0.150266 + 0.0159706\n",
      "[1400]\tcv_agg's l2: 0.15018 + 0.0159988\n"
     ]
    },
    {
     "name": "stderr",
     "output_type": "stream",
     "text": [
      "bagging, val_score: 0.138910:  10%|#####3                                               | 1/10 [00:07<01:11,  7.98s/it][I 2023-11-05 12:52:12,130] Trial 27 finished with value: 0.15018109680337305 and parameters: {'bagging_fraction': 0.6819529441473371, 'bagging_freq': 7}. Best is trial 27 with value: 0.15018109680337305.\n",
      "bagging, val_score: 0.138910:  10%|#####3                                               | 1/10 [00:07<01:11,  7.98s/it]"
     ]
    },
    {
     "name": "stdout",
     "output_type": "stream",
     "text": [
      "Early stopping, best iteration is:\n",
      "[1385]\tcv_agg's l2: 0.13891 + 0.0193004\n",
      "[100]\tcv_agg's l2: 0.143612 + 0.0199061\n",
      "[200]\tcv_agg's l2: 0.139222 + 0.0197203\n",
      "[300]\tcv_agg's l2: 0.137901 + 0.0206352\n",
      "[400]\tcv_agg's l2: 0.137869 + 0.0209169\n",
      "[500]\tcv_agg's l2: 0.137772 + 0.0212041\n",
      "[600]\tcv_agg's l2: 0.137489 + 0.0212694\n",
      "[700]\tcv_agg's l2: 0.137292 + 0.0211261\n",
      "[800]\tcv_agg's l2: 0.13719 + 0.0210394\n",
      "[900]\tcv_agg's l2: 0.13715 + 0.0211198\n"
     ]
    },
    {
     "name": "stderr",
     "output_type": "stream",
     "text": [
      "bagging, val_score: 0.137125:  20%|##########6                                          | 2/10 [00:14<00:57,  7.22s/it][I 2023-11-05 12:52:18,814] Trial 28 finished with value: 0.13712471296201417 and parameters: {'bagging_fraction': 0.9918467146559768, 'bagging_freq': 1}. Best is trial 28 with value: 0.13712471296201417.\n",
      "bagging, val_score: 0.137125:  20%|##########6                                          | 2/10 [00:14<00:57,  7.22s/it]"
     ]
    },
    {
     "name": "stdout",
     "output_type": "stream",
     "text": [
      "Early stopping, best iteration is:\n",
      "[873]\tcv_agg's l2: 0.137125 + 0.0210851\n",
      "[100]\tcv_agg's l2: 0.146102 + 0.0182736\n",
      "[200]\tcv_agg's l2: 0.142929 + 0.0182823\n",
      "[300]\tcv_agg's l2: 0.142279 + 0.0180679\n",
      "[400]\tcv_agg's l2: 0.141864 + 0.0178141\n",
      "[500]\tcv_agg's l2: 0.141441 + 0.0176953\n",
      "[600]\tcv_agg's l2: 0.141308 + 0.0176352\n",
      "[700]\tcv_agg's l2: 0.14119 + 0.0176394\n",
      "[800]\tcv_agg's l2: 0.141143 + 0.0176914\n",
      "[900]\tcv_agg's l2: 0.141085 + 0.0177248\n"
     ]
    },
    {
     "name": "stderr",
     "output_type": "stream",
     "text": [
      "bagging, val_score: 0.137125:  30%|###############9                                     | 3/10 [00:21<00:49,  7.04s/it][I 2023-11-05 12:52:25,651] Trial 29 finished with value: 0.14111123555564026 and parameters: {'bagging_fraction': 0.9904480610284646, 'bagging_freq': 1}. Best is trial 28 with value: 0.13712471296201417.\n",
      "bagging, val_score: 0.137125:  30%|###############9                                     | 3/10 [00:21<00:49,  7.04s/it]"
     ]
    },
    {
     "name": "stdout",
     "output_type": "stream",
     "text": [
      "Early stopping, best iteration is:\n",
      "[873]\tcv_agg's l2: 0.137125 + 0.0210851\n",
      "[100]\tcv_agg's l2: 0.145114 + 0.0200834\n",
      "[200]\tcv_agg's l2: 0.139849 + 0.0201849\n",
      "[300]\tcv_agg's l2: 0.138725 + 0.0200739\n",
      "[400]\tcv_agg's l2: 0.138027 + 0.0197737\n",
      "[500]\tcv_agg's l2: 0.137899 + 0.0200317\n",
      "[600]\tcv_agg's l2: 0.137757 + 0.0199015\n",
      "[700]\tcv_agg's l2: 0.137619 + 0.01987\n",
      "[800]\tcv_agg's l2: 0.137449 + 0.0197025\n",
      "[900]\tcv_agg's l2: 0.137398 + 0.0196214\n"
     ]
    },
    {
     "name": "stderr",
     "output_type": "stream",
     "text": [
      "bagging, val_score: 0.137125:  40%|#####################2                               | 4/10 [00:28<00:41,  6.89s/it][I 2023-11-05 12:52:32,302] Trial 30 finished with value: 0.13742325365986624 and parameters: {'bagging_fraction': 0.9863505619659418, 'bagging_freq': 1}. Best is trial 28 with value: 0.13712471296201417.\n",
      "bagging, val_score: 0.137125:  40%|#####################2                               | 4/10 [00:28<00:41,  6.89s/it]"
     ]
    },
    {
     "name": "stdout",
     "output_type": "stream",
     "text": [
      "Early stopping, best iteration is:\n",
      "[873]\tcv_agg's l2: 0.137125 + 0.0210851\n",
      "[100]\tcv_agg's l2: 0.14383 + 0.0195703\n",
      "[200]\tcv_agg's l2: 0.138817 + 0.0178812\n",
      "[300]\tcv_agg's l2: 0.137869 + 0.0173857\n",
      "[400]\tcv_agg's l2: 0.137462 + 0.0174249\n",
      "[500]\tcv_agg's l2: 0.137436 + 0.0172999\n",
      "[600]\tcv_agg's l2: 0.137228 + 0.017272\n",
      "[700]\tcv_agg's l2: 0.136919 + 0.0171979\n",
      "[800]\tcv_agg's l2: 0.136797 + 0.0171937\n",
      "[900]\tcv_agg's l2: 0.136774 + 0.0171969\n",
      "[1000]\tcv_agg's l2: 0.136712 + 0.0171836\n",
      "[1100]\tcv_agg's l2: 0.136675 + 0.017229\n",
      "[1200]\tcv_agg's l2: 0.136649 + 0.0172348\n",
      "[1300]\tcv_agg's l2: 0.136629 + 0.0172451\n",
      "[1400]\tcv_agg's l2: 0.136609 + 0.0172528\n"
     ]
    },
    {
     "name": "stderr",
     "output_type": "stream",
     "text": [
      "bagging, val_score: 0.136598:  50%|##########################5                          | 5/10 [00:38<00:40,  8.00s/it][I 2023-11-05 12:52:42,271] Trial 31 finished with value: 0.1365979130242559 and parameters: {'bagging_fraction': 0.9974903000285387, 'bagging_freq': 1}. Best is trial 31 with value: 0.1365979130242559.\n",
      "bagging, val_score: 0.136598:  50%|##########################5                          | 5/10 [00:38<00:40,  8.00s/it]"
     ]
    },
    {
     "name": "stdout",
     "output_type": "stream",
     "text": [
      "Early stopping, best iteration is:\n",
      "[1386]\tcv_agg's l2: 0.136598 + 0.0172478\n",
      "[100]\tcv_agg's l2: 0.145184 + 0.0167022\n",
      "[200]\tcv_agg's l2: 0.140176 + 0.0166117\n",
      "[300]\tcv_agg's l2: 0.139032 + 0.0170146\n",
      "[400]\tcv_agg's l2: 0.138277 + 0.0170092\n",
      "[500]\tcv_agg's l2: 0.137946 + 0.0168518\n",
      "[600]\tcv_agg's l2: 0.137836 + 0.0167976\n",
      "[700]\tcv_agg's l2: 0.137717 + 0.0167803\n",
      "[800]\tcv_agg's l2: 0.137614 + 0.0167531\n",
      "[900]\tcv_agg's l2: 0.13751 + 0.0167561\n",
      "[1000]\tcv_agg's l2: 0.137413 + 0.0166513\n",
      "[1100]\tcv_agg's l2: 0.137345 + 0.0166031\n",
      "[1200]\tcv_agg's l2: 0.137331 + 0.0165996\n",
      "[1300]\tcv_agg's l2: 0.137316 + 0.0166167\n",
      "[1400]\tcv_agg's l2: 0.13729 + 0.0166236\n"
     ]
    },
    {
     "name": "stderr",
     "output_type": "stream",
     "text": [
      "bagging, val_score: 0.136598:  60%|###############################8                     | 6/10 [00:48<00:34,  8.67s/it][I 2023-11-05 12:52:52,256] Trial 32 finished with value: 0.13728944240332358 and parameters: {'bagging_fraction': 0.9832741819601064, 'bagging_freq': 1}. Best is trial 31 with value: 0.1365979130242559.\n",
      "bagging, val_score: 0.136598:  60%|###############################8                     | 6/10 [00:48<00:34,  8.67s/it]"
     ]
    },
    {
     "name": "stdout",
     "output_type": "stream",
     "text": [
      "Early stopping, best iteration is:\n",
      "[1386]\tcv_agg's l2: 0.136598 + 0.0172478\n",
      "[100]\tcv_agg's l2: 0.14577 + 0.0190072\n",
      "[200]\tcv_agg's l2: 0.141968 + 0.0190092\n",
      "[300]\tcv_agg's l2: 0.140393 + 0.0187957\n",
      "[400]\tcv_agg's l2: 0.139954 + 0.0192357\n",
      "[500]\tcv_agg's l2: 0.139775 + 0.0192077\n",
      "[600]\tcv_agg's l2: 0.139566 + 0.0192705\n",
      "[700]\tcv_agg's l2: 0.139304 + 0.0191916\n",
      "[800]\tcv_agg's l2: 0.139179 + 0.0192118\n",
      "[900]\tcv_agg's l2: 0.139131 + 0.0193297\n",
      "[1000]\tcv_agg's l2: 0.139046 + 0.0193156\n",
      "[1100]\tcv_agg's l2: 0.139032 + 0.0193225\n",
      "[1200]\tcv_agg's l2: 0.138976 + 0.019336\n",
      "[1300]\tcv_agg's l2: 0.13893 + 0.0193193\n",
      "[1400]\tcv_agg's l2: 0.138917 + 0.0193098\n"
     ]
    },
    {
     "name": "stderr",
     "output_type": "stream",
     "text": [
      "bagging, val_score: 0.136598:  70%|#####################################                | 7/10 [00:58<00:27,  9.17s/it][I 2023-11-05 12:53:02,454] Trial 33 finished with value: 0.13890977135044508 and parameters: {'bagging_fraction': 0.9995479582626636, 'bagging_freq': 1}. Best is trial 31 with value: 0.1365979130242559.\n",
      "bagging, val_score: 0.136598:  70%|#####################################                | 7/10 [00:58<00:27,  9.17s/it]"
     ]
    },
    {
     "name": "stdout",
     "output_type": "stream",
     "text": [
      "Early stopping, best iteration is:\n",
      "[1386]\tcv_agg's l2: 0.136598 + 0.0172478\n",
      "[100]\tcv_agg's l2: 0.146184 + 0.0186254\n",
      "[200]\tcv_agg's l2: 0.140677 + 0.0167891\n",
      "[300]\tcv_agg's l2: 0.139879 + 0.0168274\n",
      "[400]\tcv_agg's l2: 0.139268 + 0.0166101\n",
      "[500]\tcv_agg's l2: 0.13861 + 0.0168301\n",
      "[600]\tcv_agg's l2: 0.138358 + 0.0167063\n",
      "[700]\tcv_agg's l2: 0.138118 + 0.0167646\n",
      "[800]\tcv_agg's l2: 0.138043 + 0.0168388\n",
      "[900]\tcv_agg's l2: 0.137961 + 0.0168799\n",
      "[1000]\tcv_agg's l2: 0.137897 + 0.0168755\n",
      "[1100]\tcv_agg's l2: 0.137826 + 0.0168702\n",
      "[1200]\tcv_agg's l2: 0.137769 + 0.016877\n",
      "[1300]\tcv_agg's l2: 0.137753 + 0.0168904\n",
      "[1400]\tcv_agg's l2: 0.13775 + 0.0168863\n"
     ]
    },
    {
     "name": "stderr",
     "output_type": "stream",
     "text": [
      "bagging, val_score: 0.136598:  80%|##########################################4          | 8/10 [01:08<00:18,  9.39s/it][I 2023-11-05 12:53:12,298] Trial 34 finished with value: 0.1377508065105918 and parameters: {'bagging_fraction': 0.9937334898273941, 'bagging_freq': 1}. Best is trial 31 with value: 0.1365979130242559.\n",
      "bagging, val_score: 0.136598:  80%|##########################################4          | 8/10 [01:08<00:18,  9.39s/it]"
     ]
    },
    {
     "name": "stdout",
     "output_type": "stream",
     "text": [
      "Early stopping, best iteration is:\n",
      "[1386]\tcv_agg's l2: 0.136598 + 0.0172478\n",
      "[100]\tcv_agg's l2: 0.142588 + 0.018054\n",
      "[200]\tcv_agg's l2: 0.138676 + 0.018368\n",
      "[300]\tcv_agg's l2: 0.137548 + 0.0180764\n",
      "[400]\tcv_agg's l2: 0.136758 + 0.0183788\n",
      "[500]\tcv_agg's l2: 0.136399 + 0.0182881\n",
      "[600]\tcv_agg's l2: 0.136159 + 0.0182854\n",
      "[700]\tcv_agg's l2: 0.136092 + 0.0183207\n",
      "[800]\tcv_agg's l2: 0.136011 + 0.0183645\n",
      "[900]\tcv_agg's l2: 0.13594 + 0.0183683\n",
      "[1000]\tcv_agg's l2: 0.135859 + 0.0183307\n",
      "[1100]\tcv_agg's l2: 0.135794 + 0.0183346\n",
      "[1200]\tcv_agg's l2: 0.135772 + 0.0183563\n",
      "[1300]\tcv_agg's l2: 0.135739 + 0.0183372\n",
      "[1400]\tcv_agg's l2: 0.135713 + 0.0183318\n",
      "[1500]\tcv_agg's l2: 0.135702 + 0.018319\n",
      "[1600]\tcv_agg's l2: 0.135688 + 0.0183318\n"
     ]
    },
    {
     "name": "stderr",
     "output_type": "stream",
     "text": [
      "bagging, val_score: 0.135678:  90%|###############################################7     | 9/10 [01:19<00:10, 10.01s/it][I 2023-11-05 12:53:23,671] Trial 35 finished with value: 0.1356778142907713 and parameters: {'bagging_fraction': 0.9774934629683883, 'bagging_freq': 1}. Best is trial 35 with value: 0.1356778142907713.\n",
      "bagging, val_score: 0.135678:  90%|###############################################7     | 9/10 [01:19<00:10, 10.01s/it]"
     ]
    },
    {
     "name": "stdout",
     "output_type": "stream",
     "text": [
      "Early stopping, best iteration is:\n",
      "[1549]\tcv_agg's l2: 0.135678 + 0.0183184\n",
      "[100]\tcv_agg's l2: 0.143764 + 0.0262345\n",
      "[200]\tcv_agg's l2: 0.137758 + 0.0234234\n",
      "[300]\tcv_agg's l2: 0.136567 + 0.0230436\n",
      "[400]\tcv_agg's l2: 0.135876 + 0.0228534\n",
      "[500]\tcv_agg's l2: 0.135718 + 0.022682\n",
      "[600]\tcv_agg's l2: 0.135509 + 0.0225784\n",
      "[700]\tcv_agg's l2: 0.135491 + 0.0227669\n"
     ]
    },
    {
     "name": "stderr",
     "output_type": "stream",
     "text": [
      "bagging, val_score: 0.135387: 100%|####################################################| 10/10 [01:24<00:00,  8.43s/it][I 2023-11-05 12:53:28,552] Trial 36 finished with value: 0.13538683086196457 and parameters: {'bagging_fraction': 0.8632872598962595, 'bagging_freq': 3}. Best is trial 36 with value: 0.13538683086196457.\n",
      "bagging, val_score: 0.135387: 100%|####################################################| 10/10 [01:24<00:00,  8.44s/it]\n"
     ]
    },
    {
     "name": "stdout",
     "output_type": "stream",
     "text": [
      "Early stopping, best iteration is:\n",
      "[637]\tcv_agg's l2: 0.135387 + 0.0226196\n"
     ]
    },
    {
     "name": "stderr",
     "output_type": "stream",
     "text": [
      "feature_fraction_stage2, val_score: 0.135387:   0%|                                              | 0/3 [00:00<?, ?it/s]"
     ]
    },
    {
     "name": "stdout",
     "output_type": "stream",
     "text": [
      "[100]\tcv_agg's l2: 0.146938 + 0.0287256\n",
      "[200]\tcv_agg's l2: 0.14408 + 0.0271484\n",
      "[300]\tcv_agg's l2: 0.142625 + 0.0263282\n",
      "[400]\tcv_agg's l2: 0.141803 + 0.0255563\n",
      "[500]\tcv_agg's l2: 0.141608 + 0.0251992\n",
      "[600]\tcv_agg's l2: 0.141553 + 0.0250003\n",
      "[700]\tcv_agg's l2: 0.141398 + 0.0249137\n"
     ]
    },
    {
     "name": "stderr",
     "output_type": "stream",
     "text": [
      "feature_fraction_stage2, val_score: 0.135387:  33%|############6                         | 1/3 [00:04<00:09,  4.87s/it][I 2023-11-05 12:53:33,424] Trial 37 finished with value: 0.14136854720773842 and parameters: {'feature_fraction': 0.48000000000000004}. Best is trial 37 with value: 0.14136854720773842.\n",
      "feature_fraction_stage2, val_score: 0.135387:  33%|############6                         | 1/3 [00:04<00:09,  4.87s/it]"
     ]
    },
    {
     "name": "stdout",
     "output_type": "stream",
     "text": [
      "Early stopping, best iteration is:\n",
      "[637]\tcv_agg's l2: 0.135387 + 0.0226196\n",
      "[100]\tcv_agg's l2: 0.144264 + 0.0270562\n",
      "[200]\tcv_agg's l2: 0.137382 + 0.0251488\n",
      "[300]\tcv_agg's l2: 0.136162 + 0.0246162\n",
      "[400]\tcv_agg's l2: 0.135543 + 0.0245898\n",
      "[500]\tcv_agg's l2: 0.134994 + 0.0249209\n",
      "[600]\tcv_agg's l2: 0.13486 + 0.0245498\n",
      "[700]\tcv_agg's l2: 0.134751 + 0.0246209\n"
     ]
    },
    {
     "name": "stderr",
     "output_type": "stream",
     "text": [
      "feature_fraction_stage2, val_score: 0.134624:  67%|#########################3            | 2/3 [00:09<00:04,  4.95s/it][I 2023-11-05 12:53:38,441] Trial 38 finished with value: 0.13462387797366784 and parameters: {'feature_fraction': 0.41600000000000004}. Best is trial 38 with value: 0.13462387797366784.\n",
      "feature_fraction_stage2, val_score: 0.134624:  67%|#########################3            | 2/3 [00:09<00:04,  4.95s/it]"
     ]
    },
    {
     "name": "stdout",
     "output_type": "stream",
     "text": [
      "Early stopping, best iteration is:\n",
      "[672]\tcv_agg's l2: 0.134624 + 0.0245059\n",
      "[100]\tcv_agg's l2: 0.143925 + 0.0246891\n",
      "[200]\tcv_agg's l2: 0.139631 + 0.0234055\n",
      "[300]\tcv_agg's l2: 0.1384 + 0.023015\n",
      "[400]\tcv_agg's l2: 0.138445 + 0.0226175\n",
      "[500]\tcv_agg's l2: 0.138049 + 0.0222906\n",
      "[600]\tcv_agg's l2: 0.137871 + 0.0223054\n",
      "[700]\tcv_agg's l2: 0.137809 + 0.0221626\n"
     ]
    },
    {
     "name": "stderr",
     "output_type": "stream",
     "text": [
      "feature_fraction_stage2, val_score: 0.134624: 100%|######################################| 3/3 [00:14<00:00,  4.94s/it][I 2023-11-05 12:53:43,364] Trial 39 finished with value: 0.13773298305026033 and parameters: {'feature_fraction': 0.44800000000000006}. Best is trial 38 with value: 0.13462387797366784.\n",
      "feature_fraction_stage2, val_score: 0.134624: 100%|######################################| 3/3 [00:14<00:00,  4.94s/it]\n"
     ]
    },
    {
     "name": "stdout",
     "output_type": "stream",
     "text": [
      "Early stopping, best iteration is:\n",
      "[672]\tcv_agg's l2: 0.134624 + 0.0245059\n"
     ]
    },
    {
     "name": "stderr",
     "output_type": "stream",
     "text": [
      "regularization_factors, val_score: 0.134624:   0%|                                              | 0/20 [00:00<?, ?it/s]"
     ]
    },
    {
     "name": "stdout",
     "output_type": "stream",
     "text": [
      "[100]\tcv_agg's l2: 0.141945 + 0.0243008\n",
      "[200]\tcv_agg's l2: 0.138392 + 0.0247385\n",
      "[300]\tcv_agg's l2: 0.137126 + 0.0240259\n",
      "[400]\tcv_agg's l2: 0.136749 + 0.0241404\n",
      "[500]\tcv_agg's l2: 0.136462 + 0.0241891\n",
      "[600]\tcv_agg's l2: 0.136182 + 0.0239326\n",
      "[700]\tcv_agg's l2: 0.13626 + 0.0239897\n"
     ]
    },
    {
     "name": "stderr",
     "output_type": "stream",
     "text": [
      "regularization_factors, val_score: 0.134624:   5%|#9                                    | 1/20 [00:04<01:33,  4.92s/it][I 2023-11-05 12:53:48,297] Trial 40 finished with value: 0.13620085419894593 and parameters: {'lambda_l1': 0.07237015509066243, 'lambda_l2': 1.2018470507457455e-06}. Best is trial 40 with value: 0.13620085419894593.\n",
      "regularization_factors, val_score: 0.134624:   5%|#9                                    | 1/20 [00:04<01:33,  4.92s/it]"
     ]
    },
    {
     "name": "stdout",
     "output_type": "stream",
     "text": [
      "Early stopping, best iteration is:\n",
      "[672]\tcv_agg's l2: 0.134624 + 0.0245059\n",
      "[100]\tcv_agg's l2: 0.14297 + 0.0252124\n",
      "[200]\tcv_agg's l2: 0.138814 + 0.0248181\n",
      "[300]\tcv_agg's l2: 0.137507 + 0.0240267\n",
      "[400]\tcv_agg's l2: 0.137015 + 0.0238194\n",
      "[500]\tcv_agg's l2: 0.13666 + 0.0241067\n",
      "[600]\tcv_agg's l2: 0.136481 + 0.0240105\n",
      "[700]\tcv_agg's l2: 0.136551 + 0.0240699\n"
     ]
    },
    {
     "name": "stderr",
     "output_type": "stream",
     "text": [
      "regularization_factors, val_score: 0.134624:  10%|###8                                  | 2/20 [00:09<01:27,  4.84s/it][I 2023-11-05 12:53:53,069] Trial 41 finished with value: 0.1365000496656722 and parameters: {'lambda_l1': 0.18573056079104922, 'lambda_l2': 5.645940700422727e-07}. Best is trial 40 with value: 0.13620085419894593.\n",
      "regularization_factors, val_score: 0.134624:  10%|###8                                  | 2/20 [00:09<01:27,  4.84s/it]"
     ]
    },
    {
     "name": "stdout",
     "output_type": "stream",
     "text": [
      "Early stopping, best iteration is:\n",
      "[672]\tcv_agg's l2: 0.134624 + 0.0245059\n",
      "[100]\tcv_agg's l2: 0.140104 + 0.0251248\n",
      "[200]\tcv_agg's l2: 0.135622 + 0.0243937\n",
      "[300]\tcv_agg's l2: 0.134167 + 0.0233031\n",
      "[400]\tcv_agg's l2: 0.133977 + 0.0231999\n",
      "Early stopping, best iteration is:\n",
      "[329]\tcv_agg's l2: 0.133755 + 0.0232107\n"
     ]
    },
    {
     "name": "stderr",
     "output_type": "stream",
     "text": [
      "regularization_factors, val_score: 0.133755:  15%|#####7                                | 3/20 [00:12<01:07,  3.94s/it][I 2023-11-05 12:53:55,951] Trial 42 finished with value: 0.13375464842988372 and parameters: {'lambda_l1': 0.10187113535859052, 'lambda_l2': 6.29523944395487e-07}. Best is trial 42 with value: 0.13375464842988372.\n",
      "regularization_factors, val_score: 0.133755:  15%|#####7                                | 3/20 [00:12<01:07,  3.94s/it]"
     ]
    },
    {
     "name": "stdout",
     "output_type": "stream",
     "text": [
      "[100]\tcv_agg's l2: 0.140274 + 0.0251954\n",
      "[200]\tcv_agg's l2: 0.136034 + 0.0242353\n",
      "[300]\tcv_agg's l2: 0.134808 + 0.0236908\n",
      "[400]\tcv_agg's l2: 0.134431 + 0.023545\n"
     ]
    },
    {
     "name": "stderr",
     "output_type": "stream",
     "text": [
      "regularization_factors, val_score: 0.133755:  20%|#######6                              | 4/20 [00:15<00:56,  3.54s/it][I 2023-11-05 12:53:58,867] Trial 43 finished with value: 0.13467529794809638 and parameters: {'lambda_l1': 0.05564346528606653, 'lambda_l2': 2.167854572871016e-06}. Best is trial 42 with value: 0.13375464842988372.\n",
      "regularization_factors, val_score: 0.133755:  20%|#######6                              | 4/20 [00:15<00:56,  3.54s/it]"
     ]
    },
    {
     "name": "stdout",
     "output_type": "stream",
     "text": [
      "Early stopping, best iteration is:\n",
      "[329]\tcv_agg's l2: 0.133755 + 0.0232107\n",
      "[100]\tcv_agg's l2: 0.143072 + 0.0277422\n",
      "[200]\tcv_agg's l2: 0.13866 + 0.0264296\n",
      "[300]\tcv_agg's l2: 0.137137 + 0.0259311\n"
     ]
    },
    {
     "name": "stderr",
     "output_type": "stream",
     "text": [
      "\r",
      "regularization_factors, val_score: 0.133755:  20%|#######6                              | 4/20 [00:18<00:56,  3.54s/it]"
     ]
    },
    {
     "name": "stdout",
     "output_type": "stream",
     "text": [
      "[400]\tcv_agg's l2: 0.136618 + 0.0258641\n",
      "Early stopping, best iteration is:\n",
      "[329]\tcv_agg's l2: 0.133755 + 0.0232107\n"
     ]
    },
    {
     "name": "stderr",
     "output_type": "stream",
     "text": [
      "regularization_factors, val_score: 0.133755:  25%|#########5                            | 5/20 [00:18<00:49,  3.32s/it][I 2023-11-05 12:54:01,797] Trial 44 finished with value: 0.13679626912480325 and parameters: {'lambda_l1': 0.00021546409207791033, 'lambda_l2': 0.00015319092967142994}. Best is trial 42 with value: 0.13375464842988372.\n",
      "regularization_factors, val_score: 0.133755:  25%|#########5                            | 5/20 [00:18<00:49,  3.32s/it]"
     ]
    },
    {
     "name": "stdout",
     "output_type": "stream",
     "text": [
      "[100]\tcv_agg's l2: 0.169464 + 0.0357468\n",
      "[200]\tcv_agg's l2: 0.159772 + 0.0346513\n",
      "[300]\tcv_agg's l2: 0.156911 + 0.034979\n"
     ]
    },
    {
     "name": "stderr",
     "output_type": "stream",
     "text": [
      "regularization_factors, val_score: 0.133755:  30%|###########4                          | 6/20 [00:19<00:37,  2.68s/it][I 2023-11-05 12:54:03,234] Trial 45 finished with value: 0.15669526881703857 and parameters: {'lambda_l1': 3.2951985334055984, 'lambda_l2': 1.1618906570336562e-08}. Best is trial 42 with value: 0.13375464842988372.\n",
      "regularization_factors, val_score: 0.133755:  30%|###########4                          | 6/20 [00:19<00:37,  2.68s/it]"
     ]
    },
    {
     "name": "stdout",
     "output_type": "stream",
     "text": [
      "[400]\tcv_agg's l2: 0.156208 + 0.0349757\n",
      "Early stopping, best iteration is:\n",
      "[329]\tcv_agg's l2: 0.133755 + 0.0232107\n",
      "[100]\tcv_agg's l2: 0.140359 + 0.0279398\n",
      "[200]\tcv_agg's l2: 0.13602 + 0.0259934\n",
      "[300]\tcv_agg's l2: 0.134336 + 0.0256832\n",
      "[400]\tcv_agg's l2: 0.134192 + 0.0254054\n"
     ]
    },
    {
     "name": "stderr",
     "output_type": "stream",
     "text": [
      "regularization_factors, val_score: 0.133755:  35%|#############3                        | 7/20 [00:22<00:35,  2.75s/it][I 2023-11-05 12:54:06,124] Trial 46 finished with value: 0.1338626584906089 and parameters: {'lambda_l1': 1.6554200504979548e-07, 'lambda_l2': 0.04531756407633788}. Best is trial 42 with value: 0.13375464842988372.\n",
      "regularization_factors, val_score: 0.133755:  35%|#############3                        | 7/20 [00:22<00:35,  2.75s/it]"
     ]
    },
    {
     "name": "stdout",
     "output_type": "stream",
     "text": [
      "Early stopping, best iteration is:\n",
      "[329]\tcv_agg's l2: 0.133755 + 0.0232107\n",
      "[100]\tcv_agg's l2: 0.142572 + 0.0214062\n",
      "[200]\tcv_agg's l2: 0.136095 + 0.0211273\n",
      "[300]\tcv_agg's l2: 0.134989 + 0.0208602\n"
     ]
    },
    {
     "name": "stderr",
     "output_type": "stream",
     "text": [
      "\r",
      "regularization_factors, val_score: 0.133755:  35%|#############3                        | 7/20 [00:25<00:35,  2.75s/it]"
     ]
    },
    {
     "name": "stdout",
     "output_type": "stream",
     "text": [
      "[400]\tcv_agg's l2: 0.134208 + 0.0209557\n",
      "Early stopping, best iteration is:\n",
      "[329]\tcv_agg's l2: 0.133755 + 0.0232107\n"
     ]
    },
    {
     "name": "stderr",
     "output_type": "stream",
     "text": [
      "regularization_factors, val_score: 0.133755:  40%|###############2                      | 8/20 [00:25<00:33,  2.79s/it][I 2023-11-05 12:54:08,998] Trial 47 finished with value: 0.13440769343099251 and parameters: {'lambda_l1': 1.2425250295295361e-08, 'lambda_l2': 0.2624370176788602}. Best is trial 42 with value: 0.13375464842988372.\n",
      "regularization_factors, val_score: 0.133755:  40%|###############2                      | 8/20 [00:25<00:33,  2.79s/it]"
     ]
    },
    {
     "name": "stdout",
     "output_type": "stream",
     "text": [
      "[100]\tcv_agg's l2: 0.141503 + 0.0270013\n",
      "[200]\tcv_agg's l2: 0.136336 + 0.0256791\n",
      "[300]\tcv_agg's l2: 0.135018 + 0.0255068\n"
     ]
    },
    {
     "name": "stderr",
     "output_type": "stream",
     "text": [
      "\r",
      "regularization_factors, val_score: 0.133755:  40%|###############2                      | 8/20 [00:28<00:33,  2.79s/it]"
     ]
    },
    {
     "name": "stdout",
     "output_type": "stream",
     "text": [
      "[400]\tcv_agg's l2: 0.134851 + 0.0253068\n",
      "Early stopping, best iteration is:\n",
      "[329]\tcv_agg's l2: 0.133755 + 0.0232107\n"
     ]
    },
    {
     "name": "stderr",
     "output_type": "stream",
     "text": [
      "regularization_factors, val_score: 0.133755:  45%|#################1                    | 9/20 [00:28<00:31,  2.84s/it][I 2023-11-05 12:54:11,961] Trial 48 finished with value: 0.1348855283093083 and parameters: {'lambda_l1': 1.0401534534561073e-07, 'lambda_l2': 0.24271695604649376}. Best is trial 42 with value: 0.13375464842988372.\n",
      "regularization_factors, val_score: 0.133755:  45%|#################1                    | 9/20 [00:28<00:31,  2.84s/it]"
     ]
    },
    {
     "name": "stdout",
     "output_type": "stream",
     "text": [
      "[100]\tcv_agg's l2: 0.138437 + 0.0233532\n",
      "[200]\tcv_agg's l2: 0.133351 + 0.0213705\n",
      "[300]\tcv_agg's l2: 0.131986 + 0.02167\n",
      "[400]\tcv_agg's l2: 0.131974 + 0.0223403\n",
      "[500]\tcv_agg's l2: 0.131461 + 0.0223821\n",
      "[600]\tcv_agg's l2: 0.131326 + 0.0223623\n",
      "[700]\tcv_agg's l2: 0.131262 + 0.0224559\n"
     ]
    },
    {
     "name": "stderr",
     "output_type": "stream",
     "text": [
      "regularization_factors, val_score: 0.131207:  50%|##################5                  | 10/20 [00:33<00:35,  3.51s/it][I 2023-11-05 12:54:16,970] Trial 49 finished with value: 0.1312066432263787 and parameters: {'lambda_l1': 3.0003803763933366e-08, 'lambda_l2': 0.09118255892448525}. Best is trial 49 with value: 0.1312066432263787.\n",
      "regularization_factors, val_score: 0.131207:  50%|##################5                  | 10/20 [00:33<00:35,  3.51s/it]"
     ]
    },
    {
     "name": "stdout",
     "output_type": "stream",
     "text": [
      "Early stopping, best iteration is:\n",
      "[636]\tcv_agg's l2: 0.131207 + 0.0222327\n",
      "[100]\tcv_agg's l2: 0.139722 + 0.024095\n",
      "[200]\tcv_agg's l2: 0.135064 + 0.0216832\n",
      "[300]\tcv_agg's l2: 0.134209 + 0.0212773\n",
      "[400]\tcv_agg's l2: 0.13322 + 0.0213704\n",
      "[500]\tcv_agg's l2: 0.132976 + 0.0212245\n",
      "[600]\tcv_agg's l2: 0.132784 + 0.021096\n",
      "[700]\tcv_agg's l2: 0.132836 + 0.0210735\n"
     ]
    },
    {
     "name": "stderr",
     "output_type": "stream",
     "text": [
      "regularization_factors, val_score: 0.131207:  55%|####################3                | 11/20 [00:38<00:36,  4.04s/it][I 2023-11-05 12:54:22,217] Trial 50 finished with value: 0.13271396555639772 and parameters: {'lambda_l1': 1.808118302310267e-08, 'lambda_l2': 0.15390903627583213}. Best is trial 49 with value: 0.1312066432263787.\n",
      "regularization_factors, val_score: 0.131207:  55%|####################3                | 11/20 [00:38<00:36,  4.04s/it]"
     ]
    },
    {
     "name": "stdout",
     "output_type": "stream",
     "text": [
      "Early stopping, best iteration is:\n",
      "[636]\tcv_agg's l2: 0.131207 + 0.0222327\n",
      "[100]\tcv_agg's l2: 0.14017 + 0.0260889\n",
      "[200]\tcv_agg's l2: 0.135877 + 0.0253585\n",
      "[300]\tcv_agg's l2: 0.134725 + 0.0258841\n",
      "[400]\tcv_agg's l2: 0.134619 + 0.0257518\n",
      "[500]\tcv_agg's l2: 0.134101 + 0.0256831\n",
      "[600]\tcv_agg's l2: 0.133711 + 0.0253873\n",
      "[700]\tcv_agg's l2: 0.133534 + 0.025405\n"
     ]
    },
    {
     "name": "stderr",
     "output_type": "stream",
     "text": [
      "regularization_factors, val_score: 0.131207:  60%|######################2              | 12/20 [00:43<00:34,  4.31s/it][I 2023-11-05 12:54:27,154] Trial 51 finished with value: 0.13352939793403482 and parameters: {'lambda_l1': 1.7072898533719008e-08, 'lambda_l2': 0.21831501902906403}. Best is trial 49 with value: 0.1312066432263787.\n",
      "regularization_factors, val_score: 0.131207:  60%|######################2              | 12/20 [00:43<00:34,  4.31s/it]"
     ]
    },
    {
     "name": "stdout",
     "output_type": "stream",
     "text": [
      "Early stopping, best iteration is:\n",
      "[636]\tcv_agg's l2: 0.131207 + 0.0222327\n",
      "[100]\tcv_agg's l2: 0.140265 + 0.0230659\n",
      "[200]\tcv_agg's l2: 0.136079 + 0.0229268\n",
      "[300]\tcv_agg's l2: 0.135251 + 0.0235633\n",
      "[400]\tcv_agg's l2: 0.134565 + 0.0237187\n",
      "[500]\tcv_agg's l2: 0.134229 + 0.0238744\n",
      "[600]\tcv_agg's l2: 0.134227 + 0.0238236\n",
      "[700]\tcv_agg's l2: 0.134086 + 0.0236083\n"
     ]
    },
    {
     "name": "stderr",
     "output_type": "stream",
     "text": [
      "regularization_factors, val_score: 0.131207:  65%|########################             | 13/20 [00:48<00:31,  4.51s/it][I 2023-11-05 12:54:32,113] Trial 52 finished with value: 0.1341485761264264 and parameters: {'lambda_l1': 1.3017231090475455e-08, 'lambda_l2': 0.21215653949901636}. Best is trial 49 with value: 0.1312066432263787.\n",
      "regularization_factors, val_score: 0.131207:  65%|########################             | 13/20 [00:48<00:31,  4.51s/it]"
     ]
    },
    {
     "name": "stdout",
     "output_type": "stream",
     "text": [
      "Early stopping, best iteration is:\n",
      "[636]\tcv_agg's l2: 0.131207 + 0.0222327\n",
      "[100]\tcv_agg's l2: 0.139495 + 0.0232003\n",
      "[200]\tcv_agg's l2: 0.134929 + 0.0221383\n",
      "[300]\tcv_agg's l2: 0.13321 + 0.0216998\n",
      "[400]\tcv_agg's l2: 0.133325 + 0.0208632\n",
      "[500]\tcv_agg's l2: 0.133022 + 0.0207879\n",
      "[600]\tcv_agg's l2: 0.1326 + 0.020793\n",
      "[700]\tcv_agg's l2: 0.132481 + 0.0205354\n"
     ]
    },
    {
     "name": "stderr",
     "output_type": "stream",
     "text": [
      "regularization_factors, val_score: 0.131207:  70%|#########################9           | 14/20 [00:53<00:27,  4.63s/it][I 2023-11-05 12:54:37,022] Trial 53 finished with value: 0.13244237237585801 and parameters: {'lambda_l1': 1.740404986246161e-08, 'lambda_l2': 0.1596632189021377}. Best is trial 49 with value: 0.1312066432263787.\n",
      "regularization_factors, val_score: 0.131207:  70%|#########################9           | 14/20 [00:53<00:27,  4.63s/it]"
     ]
    },
    {
     "name": "stdout",
     "output_type": "stream",
     "text": [
      "Early stopping, best iteration is:\n",
      "[636]\tcv_agg's l2: 0.131207 + 0.0222327\n",
      "[100]\tcv_agg's l2: 0.142071 + 0.0256382\n",
      "[200]\tcv_agg's l2: 0.137069 + 0.0260501\n",
      "[300]\tcv_agg's l2: 0.135865 + 0.0248302\n",
      "[400]\tcv_agg's l2: 0.135907 + 0.0245436\n",
      "[500]\tcv_agg's l2: 0.135633 + 0.0245413\n",
      "[600]\tcv_agg's l2: 0.135477 + 0.0243763\n",
      "[700]\tcv_agg's l2: 0.135361 + 0.0244177\n"
     ]
    },
    {
     "name": "stderr",
     "output_type": "stream",
     "text": [
      "regularization_factors, val_score: 0.131207:  75%|###########################7         | 15/20 [00:58<00:23,  4.73s/it][I 2023-11-05 12:54:41,980] Trial 54 finished with value: 0.13537211082016914 and parameters: {'lambda_l1': 4.7623399806198105e-08, 'lambda_l2': 0.053119581649694804}. Best is trial 49 with value: 0.1312066432263787.\n",
      "regularization_factors, val_score: 0.131207:  75%|###########################7         | 15/20 [00:58<00:23,  4.73s/it]"
     ]
    },
    {
     "name": "stdout",
     "output_type": "stream",
     "text": [
      "Early stopping, best iteration is:\n",
      "[636]\tcv_agg's l2: 0.131207 + 0.0222327\n",
      "[100]\tcv_agg's l2: 0.140194 + 0.0247049\n",
      "[200]\tcv_agg's l2: 0.134803 + 0.0223448\n",
      "[300]\tcv_agg's l2: 0.134312 + 0.022407\n",
      "[400]\tcv_agg's l2: 0.133945 + 0.0222338\n",
      "[500]\tcv_agg's l2: 0.133188 + 0.022196\n",
      "[600]\tcv_agg's l2: 0.133246 + 0.0223205\n",
      "[700]\tcv_agg's l2: 0.133241 + 0.0223877\n"
     ]
    },
    {
     "name": "stderr",
     "output_type": "stream",
     "text": [
      "regularization_factors, val_score: 0.131207:  80%|#############################6       | 16/20 [01:03<00:19,  4.86s/it][I 2023-11-05 12:54:47,136] Trial 55 finished with value: 0.13310286386440318 and parameters: {'lambda_l1': 1.1999547560535572e-07, 'lambda_l2': 0.018239542466969523}. Best is trial 49 with value: 0.1312066432263787.\n",
      "regularization_factors, val_score: 0.131207:  80%|#############################6       | 16/20 [01:03<00:19,  4.86s/it]"
     ]
    },
    {
     "name": "stdout",
     "output_type": "stream",
     "text": [
      "Early stopping, best iteration is:\n",
      "[636]\tcv_agg's l2: 0.131207 + 0.0222327\n",
      "[100]\tcv_agg's l2: 0.139974 + 0.0251884\n",
      "[200]\tcv_agg's l2: 0.135718 + 0.0264247\n",
      "[300]\tcv_agg's l2: 0.134541 + 0.0251023\n",
      "[400]\tcv_agg's l2: 0.133966 + 0.0248586\n",
      "[500]\tcv_agg's l2: 0.133587 + 0.0251864\n",
      "[600]\tcv_agg's l2: 0.133588 + 0.0252215\n",
      "[700]\tcv_agg's l2: 0.133432 + 0.0251177\n"
     ]
    },
    {
     "name": "stderr",
     "output_type": "stream",
     "text": [
      "regularization_factors, val_score: 0.131207:  85%|###############################4     | 17/20 [01:08<00:14,  4.96s/it][I 2023-11-05 12:54:52,325] Trial 56 finished with value: 0.1334504617242174 and parameters: {'lambda_l1': 1.0483198975896585e-08, 'lambda_l2': 0.011047508328156042}. Best is trial 49 with value: 0.1312066432263787.\n",
      "regularization_factors, val_score: 0.131207:  85%|###############################4     | 17/20 [01:08<00:14,  4.96s/it]"
     ]
    },
    {
     "name": "stdout",
     "output_type": "stream",
     "text": [
      "Early stopping, best iteration is:\n",
      "[636]\tcv_agg's l2: 0.131207 + 0.0222327\n",
      "[100]\tcv_agg's l2: 0.141793 + 0.0271222\n",
      "[200]\tcv_agg's l2: 0.135211 + 0.0258264\n",
      "[300]\tcv_agg's l2: 0.134239 + 0.025097\n",
      "[400]\tcv_agg's l2: 0.134003 + 0.0250921\n",
      "[500]\tcv_agg's l2: 0.133936 + 0.0249526\n",
      "[600]\tcv_agg's l2: 0.133495 + 0.0244977\n",
      "[700]\tcv_agg's l2: 0.133417 + 0.02455\n"
     ]
    },
    {
     "name": "stderr",
     "output_type": "stream",
     "text": [
      "regularization_factors, val_score: 0.131207:  90%|#################################3   | 18/20 [01:13<00:09,  4.96s/it][I 2023-11-05 12:54:57,275] Trial 57 finished with value: 0.13343479688706938 and parameters: {'lambda_l1': 1.2030389141838849e-08, 'lambda_l2': 0.015667465887172077}. Best is trial 49 with value: 0.1312066432263787.\n",
      "regularization_factors, val_score: 0.131207:  90%|#################################3   | 18/20 [01:13<00:09,  4.96s/it]"
     ]
    },
    {
     "name": "stdout",
     "output_type": "stream",
     "text": [
      "Early stopping, best iteration is:\n",
      "[636]\tcv_agg's l2: 0.131207 + 0.0222327\n",
      "[100]\tcv_agg's l2: 0.142239 + 0.0263487\n",
      "[200]\tcv_agg's l2: 0.13828 + 0.0256946\n",
      "[300]\tcv_agg's l2: 0.136854 + 0.0249772\n",
      "[400]\tcv_agg's l2: 0.136159 + 0.0248539\n",
      "[500]\tcv_agg's l2: 0.135394 + 0.0247344\n",
      "[600]\tcv_agg's l2: 0.135391 + 0.0245902\n",
      "[700]\tcv_agg's l2: 0.135263 + 0.0243699\n"
     ]
    },
    {
     "name": "stderr",
     "output_type": "stream",
     "text": [
      "regularization_factors, val_score: 0.131207:  95%|###################################1 | 19/20 [01:18<00:04,  4.92s/it][I 2023-11-05 12:55:02,109] Trial 58 finished with value: 0.1353729149204095 and parameters: {'lambda_l1': 2.610760276512772e-07, 'lambda_l2': 0.00790715217508668}. Best is trial 49 with value: 0.1312066432263787.\n",
      "regularization_factors, val_score: 0.131207:  95%|###################################1 | 19/20 [01:18<00:04,  4.92s/it]"
     ]
    },
    {
     "name": "stdout",
     "output_type": "stream",
     "text": [
      "Early stopping, best iteration is:\n",
      "[636]\tcv_agg's l2: 0.131207 + 0.0222327\n",
      "[100]\tcv_agg's l2: 0.169259 + 0.0337092\n",
      "[200]\tcv_agg's l2: 0.157618 + 0.0333116\n",
      "[300]\tcv_agg's l2: 0.154391 + 0.0321316\n",
      "[400]\tcv_agg's l2: 0.152968 + 0.0322594\n",
      "[500]\tcv_agg's l2: 0.152287 + 0.0321573\n",
      "[600]\tcv_agg's l2: 0.151764 + 0.032353\n",
      "[700]\tcv_agg's l2: 0.151513 + 0.0325069\n"
     ]
    },
    {
     "name": "stderr",
     "output_type": "stream",
     "text": [
      "regularization_factors, val_score: 0.131207: 100%|#####################################| 20/20 [01:23<00:00,  4.85s/it][I 2023-11-05 12:55:06,800] Trial 59 finished with value: 0.1514772614726513 and parameters: {'lambda_l1': 3.2918221489340903e-07, 'lambda_l2': 8.834312703790193}. Best is trial 49 with value: 0.1312066432263787.\n",
      "regularization_factors, val_score: 0.131207: 100%|#####################################| 20/20 [01:23<00:00,  4.17s/it]\n"
     ]
    },
    {
     "name": "stdout",
     "output_type": "stream",
     "text": [
      "Early stopping, best iteration is:\n",
      "[636]\tcv_agg's l2: 0.131207 + 0.0222327\n"
     ]
    },
    {
     "name": "stderr",
     "output_type": "stream",
     "text": [
      "min_data_in_leaf, val_score: 0.131207:   0%|                                                     | 0/5 [00:00<?, ?it/s]"
     ]
    },
    {
     "name": "stdout",
     "output_type": "stream",
     "text": [
      "[100]\tcv_agg's l2: 0.800732 + 0.0965133\n",
      "[200]\tcv_agg's l2: 0.759242 + 0.0992302\n",
      "[300]\tcv_agg's l2: 0.734217 + 0.103485\n",
      "[400]\tcv_agg's l2: 0.719244 + 0.100084\n",
      "[500]\tcv_agg's l2: 0.706956 + 0.0929245\n",
      "[600]\tcv_agg's l2: 0.706764 + 0.0915373\n"
     ]
    },
    {
     "name": "stderr",
     "output_type": "stream",
     "text": [
      "min_data_in_leaf, val_score: 0.131207:  20%|#########                                    | 1/5 [00:02<00:08,  2.15s/it][I 2023-11-05 12:55:08,959] Trial 60 finished with value: 0.7035636358191523 and parameters: {'min_child_samples': 100}. Best is trial 60 with value: 0.7035636358191523.\n",
      "min_data_in_leaf, val_score: 0.131207:  20%|#########                                    | 1/5 [00:02<00:08,  2.15s/it]"
     ]
    },
    {
     "name": "stdout",
     "output_type": "stream",
     "text": [
      "[700]\tcv_agg's l2: 0.697941 + 0.0906987\n",
      "Early stopping, best iteration is:\n",
      "[636]\tcv_agg's l2: 0.131207 + 0.0222327\n",
      "[100]\tcv_agg's l2: 0.247619 + 0.0349065\n",
      "[200]\tcv_agg's l2: 0.233134 + 0.0275524\n",
      "[300]\tcv_agg's l2: 0.226167 + 0.0238621\n",
      "[400]\tcv_agg's l2: 0.223473 + 0.0211321\n",
      "[500]\tcv_agg's l2: 0.223889 + 0.0200012\n",
      "[600]\tcv_agg's l2: 0.226035 + 0.0192759\n"
     ]
    },
    {
     "name": "stderr",
     "output_type": "stream",
     "text": [
      "min_data_in_leaf, val_score: 0.131207:  40%|##################                           | 2/5 [00:05<00:07,  2.63s/it][I 2023-11-05 12:55:11,919] Trial 61 finished with value: 0.22623323779772378 and parameters: {'min_child_samples': 50}. Best is trial 61 with value: 0.22623323779772378.\n",
      "min_data_in_leaf, val_score: 0.131207:  40%|##################                           | 2/5 [00:05<00:07,  2.63s/it]"
     ]
    },
    {
     "name": "stdout",
     "output_type": "stream",
     "text": [
      "[700]\tcv_agg's l2: 0.226337 + 0.0183866\n",
      "Early stopping, best iteration is:\n",
      "[636]\tcv_agg's l2: 0.131207 + 0.0222327\n",
      "[100]\tcv_agg's l2: 0.153179 + 0.0245763\n",
      "[200]\tcv_agg's l2: 0.148171 + 0.0227625\n",
      "[300]\tcv_agg's l2: 0.146236 + 0.0211398\n",
      "[400]\tcv_agg's l2: 0.145572 + 0.0204323\n",
      "[500]\tcv_agg's l2: 0.144286 + 0.0200017\n",
      "[600]\tcv_agg's l2: 0.144248 + 0.0202437\n",
      "[700]\tcv_agg's l2: 0.144152 + 0.0207082\n",
      "Early stopping, best iteration is:\n",
      "[636]\tcv_agg's l2: 0.131207 + 0.0222327\n"
     ]
    },
    {
     "name": "stderr",
     "output_type": "stream",
     "text": [
      "min_data_in_leaf, val_score: 0.131207:  60%|###########################                  | 3/5 [00:09<00:06,  3.36s/it][I 2023-11-05 12:55:16,154] Trial 62 finished with value: 0.14436919325078698 and parameters: {'min_child_samples': 25}. Best is trial 62 with value: 0.14436919325078698.\n",
      "min_data_in_leaf, val_score: 0.131207:  60%|###########################                  | 3/5 [00:09<00:06,  3.36s/it]"
     ]
    },
    {
     "name": "stdout",
     "output_type": "stream",
     "text": [
      "[100]\tcv_agg's l2: 0.136391 + 0.0148835\n",
      "[200]\tcv_agg's l2: 0.133865 + 0.0154325\n",
      "[300]\tcv_agg's l2: 0.1332 + 0.0149746\n",
      "[400]\tcv_agg's l2: 0.133083 + 0.0147527\n",
      "[500]\tcv_agg's l2: 0.133 + 0.0147511\n",
      "[600]\tcv_agg's l2: 0.133022 + 0.0147269\n",
      "[700]\tcv_agg's l2: 0.132988 + 0.0146849\n"
     ]
    },
    {
     "name": "stderr",
     "output_type": "stream",
     "text": [
      "min_data_in_leaf, val_score: 0.131207:  80%|####################################         | 4/5 [00:15<00:04,  4.43s/it][I 2023-11-05 12:55:22,232] Trial 63 finished with value: 0.13300706888295866 and parameters: {'min_child_samples': 10}. Best is trial 63 with value: 0.13300706888295866.\n",
      "min_data_in_leaf, val_score: 0.131207:  80%|####################################         | 4/5 [00:15<00:04,  4.43s/it]"
     ]
    },
    {
     "name": "stdout",
     "output_type": "stream",
     "text": [
      "Early stopping, best iteration is:\n",
      "[636]\tcv_agg's l2: 0.131207 + 0.0222327\n",
      "[100]\tcv_agg's l2: 0.142614 + 0.0166391\n",
      "[200]\tcv_agg's l2: 0.140712 + 0.0167712\n",
      "[300]\tcv_agg's l2: 0.140355 + 0.0171058\n",
      "[400]\tcv_agg's l2: 0.140343 + 0.017067\n",
      "[500]\tcv_agg's l2: 0.140315 + 0.0170799\n",
      "[600]\tcv_agg's l2: 0.140301 + 0.0170663\n",
      "[700]\tcv_agg's l2: 0.140302 + 0.017065\n"
     ]
    },
    {
     "name": "stderr",
     "output_type": "stream",
     "text": [
      "min_data_in_leaf, val_score: 0.131207: 100%|#############################################| 5/5 [00:21<00:00,  5.12s/it][I 2023-11-05 12:55:28,556] Trial 64 finished with value: 0.14029738415340726 and parameters: {'min_child_samples': 5}. Best is trial 63 with value: 0.13300706888295866.\n",
      "min_data_in_leaf, val_score: 0.131207: 100%|#############################################| 5/5 [00:21<00:00,  4.35s/it]"
     ]
    },
    {
     "name": "stdout",
     "output_type": "stream",
     "text": [
      "Early stopping, best iteration is:\n",
      "[636]\tcv_agg's l2: 0.131207 + 0.0222327\n"
     ]
    },
    {
     "name": "stderr",
     "output_type": "stream",
     "text": [
      "\n"
     ]
    }
   ],
   "source": [
    "import optuna.integration.lightgbm as lgb\n",
    "from lightgbm import early_stopping\n",
    "from sklearn.model_selection import KFold\n",
    "from sklearn.model_selection import RepeatedKFold\n",
    "\n",
    "\n",
    "lgb_train = lgb.Dataset(X_train_random_split, y_train_random_split)\n",
    "\n",
    "params = {\n",
    "    \"boosting_type\": \"gbdt\",\n",
    "    \"objective\": \"regression\",\n",
    "    \"metric\": \"l2\",\n",
    "    \"verbosity\": -1,\n",
    "}\n",
    "\n",
    "tuner = lgb.LightGBMTunerCV(\n",
    "    params,\n",
    "    lgb_train,\n",
    "    folds=KFold(n_splits=5),\n",
    "    num_boost_round=10000,\n",
    "    callbacks=[early_stopping(100), log_evaluation(100)],\n",
    ")\n",
    "\n",
    "tuner.run()"
   ]
  },
  {
   "cell_type": "code",
   "execution_count": 38,
   "id": "175988ae",
   "metadata": {},
   "outputs": [
    {
     "name": "stdout",
     "output_type": "stream",
     "text": [
      "Best score: 0.1312066432263787\n",
      "Params: \n",
      "    boosting_type: gbdt\n",
      "    objective: regression\n",
      "    metric: l2\n",
      "    verbosity: -1\n",
      "    feature_pre_filter: False\n",
      "    lambda_l1: 3.0003803763933366e-08\n",
      "    lambda_l2: 0.09118255892448525\n",
      "    num_leaves: 31\n",
      "    feature_fraction: 0.41600000000000004\n",
      "    bagging_fraction: 0.8632872598962595\n",
      "    bagging_freq: 3\n",
      "    min_child_samples: 20\n"
     ]
    }
   ],
   "source": [
    "print(f\"Best score: {tuner.best_score}\")\n",
    "best_params = tuner.best_params\n",
    "print(\"Params: \")\n",
    "for key, value in best_params.items():\n",
    "    print(\"    {}: {}\".format(key, value))"
   ]
  },
  {
   "cell_type": "code",
   "execution_count": 39,
   "id": "b8e0ae76",
   "metadata": {},
   "outputs": [],
   "source": [
    "import lightgbm as lgb\n",
    "\n",
    "lgb_tuned = lgb.train(\n",
    "    best_params,\n",
    "    lgb_train,\n",
    "    num_boost_round=10000,\n",
    ")"
   ]
  },
  {
   "cell_type": "code",
   "execution_count": 40,
   "id": "ab41f140",
   "metadata": {},
   "outputs": [
    {
     "name": "stdout",
     "output_type": "stream",
     "text": [
      "RMSE train: 0.00\n",
      "RMSE test: 0.32\n",
      "MAE test: 0.23\n",
      "\n"
     ]
    }
   ],
   "source": [
    "rmse, mae = assess_regression_model(\n",
    "    lgb_tuned,\n",
    "    X_train_random_split,\n",
    "    X_test_random_split,\n",
    "    y_train_random_split,\n",
    "    y_test_random_split,\n",
    ")"
   ]
  },
  {
   "cell_type": "code",
   "execution_count": 41,
   "id": "36a7d705",
   "metadata": {},
   "outputs": [],
   "source": [
    "results.loc[3] = [\"random\", \"Optuna\", \"full\", rmse, mae]"
   ]
  },
  {
   "cell_type": "markdown",
   "id": "baffe730",
   "metadata": {},
   "source": [
    "###### MAE by level"
   ]
  },
  {
   "cell_type": "code",
   "execution_count": 42,
   "id": "4206dff5",
   "metadata": {},
   "outputs": [
    {
     "data": {
      "image/png": "[encoded data removed]",
      "text/plain": [
       "<Figure size 720x432 with 1 Axes>"
      ]
     },
     "metadata": {
      "needs_background": "light"
     },
     "output_type": "display_data"
    }
   ],
   "source": [
    "plot_mae_by_level(\n",
    "    y_test_random_split,\n",
    "    y_pred_test,\n",
    "    title=\"MAE by level for tuned LightGBM with full features and random split\",\n",
    ")"
   ]
  },
  {
   "cell_type": "code",
   "execution_count": 43,
   "id": "502bdb9c",
   "metadata": {
    "scrolled": true
   },
   "outputs": [
    {
     "name": "stdout",
     "output_type": "stream",
     "text": [
      "Default:\n",
      "RMSE: 0.18\n",
      "\n",
      "Round type: round\n",
      "RMSE: 0.20\n",
      "\n",
      "Round type: 0.33\n",
      "RMSE: 0.20\n",
      "\n",
      "Round type: 0.45\n",
      "RMSE: 0.20\n",
      "\n"
     ]
    }
   ],
   "source": [
    "predict = lgb_tuned.predict(X_test)\n",
    "check_round_predictions([\"round\", 0.33, 0.45], y_test, predict)"
   ]
  },
  {
   "cell_type": "code",
   "execution_count": 44,
   "id": "378511d8",
   "metadata": {},
   "outputs": [
    {
     "data": {
      "image/png": "[encoded data removed]",
      "text/plain": [
       "<Figure size 432x288 with 2 Axes>"
      ]
     },
     "metadata": {
      "needs_background": "light"
     },
     "output_type": "display_data"
    }
   ],
   "source": [
    "plot_confusion_matrix(\n",
    "    \"round\",\n",
    "    predict,\n",
    "    y_test,\n",
    "    title=\"Confusion matrix for tuned LightGBM with full features and random split\",\n",
    ")"
   ]
  },
  {
   "cell_type": "markdown",
   "id": "cbf21c29",
   "metadata": {},
   "source": [
    "## Summary"
   ]
  },
  {
   "cell_type": "code",
   "execution_count": 45,
   "id": "d065edf6",
   "metadata": {
    "scrolled": false
   },
   "outputs": [
    {
     "data": {
      "text/html": [
       "<div>\n",
       "<style scoped>\n",
       "    .dataframe tbody tr th:only-of-type {\n",
       "        vertical-align: middle;\n",
       "    }\n",
       "\n",
       "    .dataframe tbody tr th {\n",
       "        vertical-align: top;\n",
       "    }\n",
       "\n",
       "    .dataframe thead th {\n",
       "        text-align: right;\n",
       "    }\n",
       "</style>\n",
       "<table border=\"1\" class=\"dataframe\">\n",
       "  <thead>\n",
       "    <tr style=\"text-align: right;\">\n",
       "      <th></th>\n",
       "      <th>Split type</th>\n",
       "      <th>Tuning type</th>\n",
       "      <th>Set of features</th>\n",
       "      <th>RMSE</th>\n",
       "      <th>MAE</th>\n",
       "    </tr>\n",
       "  </thead>\n",
       "  <tbody>\n",
       "    <tr>\n",
       "      <th>0</th>\n",
       "      <td>chronological</td>\n",
       "      <td>default</td>\n",
       "      <td>full</td>\n",
       "      <td>0.965662</td>\n",
       "      <td>0.463517</td>\n",
       "    </tr>\n",
       "    <tr>\n",
       "      <th>1</th>\n",
       "      <td>chronological</td>\n",
       "      <td>Optuna</td>\n",
       "      <td>full</td>\n",
       "      <td>0.629814</td>\n",
       "      <td>0.370587</td>\n",
       "    </tr>\n",
       "    <tr>\n",
       "      <th>2</th>\n",
       "      <td>random</td>\n",
       "      <td>default</td>\n",
       "      <td>full</td>\n",
       "      <td>0.371349</td>\n",
       "      <td>0.246737</td>\n",
       "    </tr>\n",
       "    <tr>\n",
       "      <th>3</th>\n",
       "      <td>random</td>\n",
       "      <td>Optuna</td>\n",
       "      <td>full</td>\n",
       "      <td>0.318295</td>\n",
       "      <td>0.225673</td>\n",
       "    </tr>\n",
       "  </tbody>\n",
       "</table>\n",
       "</div>"
      ],
      "text/plain": [
       "      Split type Tuning type Set of features      RMSE       MAE\n",
       "0  chronological     default            full  0.965662  0.463517\n",
       "1  chronological      Optuna            full  0.629814  0.370587\n",
       "2         random     default            full  0.371349  0.246737\n",
       "3         random      Optuna            full  0.318295  0.225673"
      ]
     },
     "execution_count": 45,
     "metadata": {},
     "output_type": "execute_result"
    }
   ],
   "source": [
    "results"
   ]
  },
  {
   "cell_type": "code",
   "execution_count": 46,
   "id": "5ab8f79f",
   "metadata": {},
   "outputs": [],
   "source": [
    "from training.results import plot_summary"
   ]
  },
  {
   "cell_type": "code",
   "execution_count": 47,
   "id": "a642225d",
   "metadata": {},
   "outputs": [
    {
     "data": {
      "image/png": "[encoded data removed]",
      "text/plain": [
       "<Figure size 1440x576 with 1 Axes>"
      ]
     },
     "metadata": {
      "needs_background": "light"
     },
     "output_type": "display_data"
    }
   ],
   "source": [
    "plot_summary(results, \"RMSE\", title=\"RMSE for LightGBM with full features\")"
   ]
  },
  {
   "cell_type": "code",
   "execution_count": 48,
   "id": "07e30e23",
   "metadata": {},
   "outputs": [
    {
     "data": {
      "image/png": "[encoded data removed]",
      "text/plain": [
       "<Figure size 1440x576 with 1 Axes>"
      ]
     },
     "metadata": {
      "needs_background": "light"
     },
     "output_type": "display_data"
    }
   ],
   "source": [
    "plot_summary(results, \"MAE\", title=\"MAE for LightGBM with full features\")"
   ]
  },
  {
   "cell_type": "code",
   "execution_count": 49,
   "id": "ae68a99c",
   "metadata": {},
   "outputs": [],
   "source": [
    "results.to_json(\"./lightgbm_full_results.json\", indent=2)"
   ]
  },
  {
   "cell_type": "code",
   "execution_count": null,
   "id": "745b56ef",
   "metadata": {},
   "outputs": [],
   "source": []
  }
 ],
 "metadata": {
  "kernelspec": {
   "display_name": "Python 3 (ipykernel)",
   "language": "python",
   "name": "python3"
  },
  "language_info": {
   "codemirror_mode": {
    "name": "ipython",
    "version": 3
   },
   "file_extension": ".py",
   "mimetype": "text/x-python",
   "name": "python",
   "nbconvert_exporter": "python",
   "pygments_lexer": "ipython3",
   "version": "3.10.4"
  }
 },
 "nbformat": 4,
 "nbformat_minor": 5
}
