{
 "cells": [
  {
   "cell_type": "markdown",
   "id": "f64a671f",
   "metadata": {},
   "source": [
    "# LightGBM\n",
    "### Parameters:\n",
    "System:\n",
    "* **abilities**:\n",
    "    * **cha**\n",
    "    * **con**\n",
    "    * **dex**\n",
    "    * **int**\n",
    "    * **str**\n",
    "    * **wis**\n",
    "* **attributes**\n",
    "    * **hp**\n",
    "    * **ac**\n",
    "    * **perception**\n",
    "    * **speed** (*land speed*)\n",
    "        * **other speeds**: fly, climb, swim\n",
    "    * **num immunities**\n",
    "    * **resistances**: fire, cold, electricity, acid, piercing, slashing, physical, bludgeoning, mental, poison, all-damage\n",
    "    * **weaknesses**: cold-iron, good, fire, cold, area-damage, splash-damage, evil, slashing\n",
    "* **saves**\n",
    "    * **fortitude**\n",
    "    * **reflex**\n",
    "    * **will**\n",
    "* **resources**\n",
    "    * **focus**\n",
    "\n",
    "Items\n",
    "* **items**\n",
    "    * **melee**\n",
    "    * **ranged**\n",
    "    * **spells nr**\n",
    "\n",
    "### Prediction: *level*\n",
    "\n",
    "## Loading data"
   ]
  },
  {
   "cell_type": "code",
   "execution_count": 1,
   "id": "1f2515e7",
   "metadata": {},
   "outputs": [],
   "source": [
    "import numpy as np\n",
    "import pandas as pd\n",
    "import sys\n",
    "\n",
    "import os\n",
    "import pathlib\n",
    "\n",
    "sys.path.append(\"../../..\")\n",
    "from training.creating_dataset import load_and_preprocess_data\n",
    "\n",
    "current_path = os.getcwd()\n",
    "DATASETS_DIR = pathlib.Path(current_path).parent.parent.parent / \"pathfinder_2e_data\"\n",
    "DATASET_FILES = [\n",
    "    \"pathfinder-bestiary.db\",\n",
    "    \"pathfinder-bestiary-2.db\",\n",
    "    \"pathfinder-bestiary-3.db\",\n",
    "]\n",
    "DATASET_PATHS = [f\"{DATASETS_DIR}/{file}\" for file in DATASET_FILES]\n",
    "features = [\n",
    "    \"cha\",\n",
    "    \"con\",\n",
    "    \"dex\",\n",
    "    \"int\",\n",
    "    \"str\",\n",
    "    \"wis\",\n",
    "    \"ac\",\n",
    "    \"hp\",\n",
    "    \"perception\",\n",
    "    \"fortitude\",\n",
    "    \"reflex\",\n",
    "    \"will\",\n",
    "    \"focus\",\n",
    "    \"land_speed\",\n",
    "    \"num_immunities\",\n",
    "    \"fly\",\n",
    "    \"swim\",\n",
    "    \"climb\",\n",
    "    \"fire_resistance\",\n",
    "    \"cold_resistance\",\n",
    "    \"electricity_resistance\",\n",
    "    \"acid_resistance\",\n",
    "    \"piercing_resistance\",\n",
    "    \"slashing_resistance\",\n",
    "    \"physical_resistance\",\n",
    "    \"bludgeoning_resistance\",\n",
    "    \"mental_resistance\",\n",
    "    \"poison_resistance\",\n",
    "    \"all-damage_resistance\",\n",
    "    \"cold-iron_weakness\",\n",
    "    \"good_weakness\",\n",
    "    \"fire_weakness\",\n",
    "    \"cold_weakness\",\n",
    "    \"area-damage_weakness\",\n",
    "    \"splash-damage_weakness\",\n",
    "    \"evil_weakness\",\n",
    "    \"slashing_weakness\",\n",
    "    \"melee\",\n",
    "    \"ranged\",\n",
    "    \"spells\",\n",
    "]\n",
    "\n",
    "df = load_and_preprocess_data(\n",
    "    DATASET_PATHS,\n",
    "    characteristics=features,\n",
    ")"
   ]
  },
  {
   "cell_type": "code",
   "execution_count": 2,
   "id": "b522f880",
   "metadata": {},
   "outputs": [
    {
     "name": "stdout",
     "output_type": "stream",
     "text": [
      "<class 'pandas.core.frame.DataFrame'>\n",
      "Int64Index: 1206 entries, 0 to 1205\n",
      "Data columns (total 52 columns):\n",
      " #   Column                  Non-Null Count  Dtype  \n",
      "---  ------                  --------------  -----  \n",
      " 0   num_immunities          1206 non-null   int64  \n",
      " 1   hp                      1206 non-null   int64  \n",
      " 2   book                    1206 non-null   object \n",
      " 3   reflex                  1206 non-null   int64  \n",
      " 4   fortitude               1206 non-null   int64  \n",
      " 5   str                     1206 non-null   int64  \n",
      " 6   con                     1206 non-null   int64  \n",
      " 7   int                     1206 non-null   int64  \n",
      " 8   perception              1206 non-null   int64  \n",
      " 9   wis                     1206 non-null   int64  \n",
      " 10  focus                   1206 non-null   int32  \n",
      " 11  land_speed              1206 non-null   float64\n",
      " 12  level                   1206 non-null   int64  \n",
      " 13  cha                     1206 non-null   int64  \n",
      " 14  dex                     1206 non-null   int64  \n",
      " 15  will                    1206 non-null   int64  \n",
      " 16  ac                      1206 non-null   int64  \n",
      " 17  physical_resistance     1206 non-null   int64  \n",
      " 18  piercing_resistance     1206 non-null   int64  \n",
      " 19  slashing_resistance     1206 non-null   int64  \n",
      " 20  all-damage_resistance   1206 non-null   int64  \n",
      " 21  electricity_resistance  1206 non-null   int64  \n",
      " 22  bludgeoning_resistance  1206 non-null   int64  \n",
      " 23  acid_resistance         1206 non-null   int64  \n",
      " 24  mental_resistance       1206 non-null   int64  \n",
      " 25  cold_resistance         1206 non-null   int64  \n",
      " 26  poison_resistance       1206 non-null   int64  \n",
      " 27  fire_resistance         1206 non-null   int64  \n",
      " 28  area-damage_weakness    1206 non-null   int64  \n",
      " 29  evil_weakness           1206 non-null   int64  \n",
      " 30  splash-damage_weakness  1206 non-null   int64  \n",
      " 31  fire_weakness           1206 non-null   int64  \n",
      " 32  cold_weakness           1206 non-null   int64  \n",
      " 33  slashing_weakness       1206 non-null   int64  \n",
      " 34  cold-iron_weakness      1206 non-null   int64  \n",
      " 35  good_weakness           1206 non-null   int64  \n",
      " 36  swim                    1206 non-null   int64  \n",
      " 37  climb                   1206 non-null   int64  \n",
      " 38  fly                     1206 non-null   int64  \n",
      " 39  spells_nr_lvl_1         1206 non-null   int64  \n",
      " 40  spells_nr_lvl_2         1206 non-null   int64  \n",
      " 41  spells_nr_lvl_3         1206 non-null   int64  \n",
      " 42  spells_nr_lvl_4         1206 non-null   int64  \n",
      " 43  spells_nr_lvl_5         1206 non-null   int64  \n",
      " 44  spells_nr_lvl_6         1206 non-null   int64  \n",
      " 45  spells_nr_lvl_7         1206 non-null   int64  \n",
      " 46  spells_nr_lvl_8         1206 non-null   int64  \n",
      " 47  spells_nr_lvl_9         1206 non-null   int64  \n",
      " 48  melee_max_bonus         1206 non-null   int64  \n",
      " 49  avg_melee_dmg           1206 non-null   float64\n",
      " 50  ranged_max_bonus        1206 non-null   int64  \n",
      " 51  avg_ranged_dmg          1206 non-null   float64\n",
      "dtypes: float64(3), int32(1), int64(47), object(1)\n",
      "memory usage: 494.6+ KB\n"
     ]
    }
   ],
   "source": [
    "df.info()"
   ]
  },
  {
   "cell_type": "code",
   "execution_count": 3,
   "id": "1b5450d3",
   "metadata": {},
   "outputs": [
    {
     "data": {
      "text/html": [
       "<div>\n",
       "<style scoped>\n",
       "    .dataframe tbody tr th:only-of-type {\n",
       "        vertical-align: middle;\n",
       "    }\n",
       "\n",
       "    .dataframe tbody tr th {\n",
       "        vertical-align: top;\n",
       "    }\n",
       "\n",
       "    .dataframe thead th {\n",
       "        text-align: right;\n",
       "    }\n",
       "</style>\n",
       "<table border=\"1\" class=\"dataframe\">\n",
       "  <thead>\n",
       "    <tr style=\"text-align: right;\">\n",
       "      <th></th>\n",
       "      <th>num_immunities</th>\n",
       "      <th>hp</th>\n",
       "      <th>book</th>\n",
       "      <th>reflex</th>\n",
       "      <th>fortitude</th>\n",
       "      <th>str</th>\n",
       "      <th>con</th>\n",
       "      <th>int</th>\n",
       "      <th>perception</th>\n",
       "      <th>wis</th>\n",
       "      <th>...</th>\n",
       "      <th>spells_nr_lvl_4</th>\n",
       "      <th>spells_nr_lvl_5</th>\n",
       "      <th>spells_nr_lvl_6</th>\n",
       "      <th>spells_nr_lvl_7</th>\n",
       "      <th>spells_nr_lvl_8</th>\n",
       "      <th>spells_nr_lvl_9</th>\n",
       "      <th>melee_max_bonus</th>\n",
       "      <th>avg_melee_dmg</th>\n",
       "      <th>ranged_max_bonus</th>\n",
       "      <th>avg_ranged_dmg</th>\n",
       "    </tr>\n",
       "  </thead>\n",
       "  <tbody>\n",
       "    <tr>\n",
       "      <th>0</th>\n",
       "      <td>3</td>\n",
       "      <td>215</td>\n",
       "      <td>Pathfinder Bestiary</td>\n",
       "      <td>19</td>\n",
       "      <td>22</td>\n",
       "      <td>7</td>\n",
       "      <td>5</td>\n",
       "      <td>1</td>\n",
       "      <td>20</td>\n",
       "      <td>2</td>\n",
       "      <td>...</td>\n",
       "      <td>0</td>\n",
       "      <td>0</td>\n",
       "      <td>0</td>\n",
       "      <td>0</td>\n",
       "      <td>0</td>\n",
       "      <td>0</td>\n",
       "      <td>23</td>\n",
       "      <td>22.0</td>\n",
       "      <td>0</td>\n",
       "      <td>0.0</td>\n",
       "    </tr>\n",
       "    <tr>\n",
       "      <th>1</th>\n",
       "      <td>0</td>\n",
       "      <td>220</td>\n",
       "      <td>Pathfinder Bestiary</td>\n",
       "      <td>14</td>\n",
       "      <td>21</td>\n",
       "      <td>9</td>\n",
       "      <td>5</td>\n",
       "      <td>-4</td>\n",
       "      <td>16</td>\n",
       "      <td>2</td>\n",
       "      <td>...</td>\n",
       "      <td>0</td>\n",
       "      <td>0</td>\n",
       "      <td>0</td>\n",
       "      <td>0</td>\n",
       "      <td>0</td>\n",
       "      <td>0</td>\n",
       "      <td>23</td>\n",
       "      <td>22.0</td>\n",
       "      <td>0</td>\n",
       "      <td>0.0</td>\n",
       "    </tr>\n",
       "    <tr>\n",
       "      <th>2</th>\n",
       "      <td>0</td>\n",
       "      <td>175</td>\n",
       "      <td>Pathfinder Bestiary</td>\n",
       "      <td>17</td>\n",
       "      <td>20</td>\n",
       "      <td>7</td>\n",
       "      <td>6</td>\n",
       "      <td>-4</td>\n",
       "      <td>17</td>\n",
       "      <td>3</td>\n",
       "      <td>...</td>\n",
       "      <td>0</td>\n",
       "      <td>0</td>\n",
       "      <td>0</td>\n",
       "      <td>0</td>\n",
       "      <td>0</td>\n",
       "      <td>0</td>\n",
       "      <td>21</td>\n",
       "      <td>16.0</td>\n",
       "      <td>0</td>\n",
       "      <td>0.0</td>\n",
       "    </tr>\n",
       "    <tr>\n",
       "      <th>3</th>\n",
       "      <td>3</td>\n",
       "      <td>315</td>\n",
       "      <td>Pathfinder Bestiary</td>\n",
       "      <td>29</td>\n",
       "      <td>30</td>\n",
       "      <td>7</td>\n",
       "      <td>5</td>\n",
       "      <td>6</td>\n",
       "      <td>30</td>\n",
       "      <td>5</td>\n",
       "      <td>...</td>\n",
       "      <td>1</td>\n",
       "      <td>0</td>\n",
       "      <td>1</td>\n",
       "      <td>0</td>\n",
       "      <td>0</td>\n",
       "      <td>0</td>\n",
       "      <td>33</td>\n",
       "      <td>31.5</td>\n",
       "      <td>0</td>\n",
       "      <td>0.0</td>\n",
       "    </tr>\n",
       "    <tr>\n",
       "      <th>4</th>\n",
       "      <td>0</td>\n",
       "      <td>20</td>\n",
       "      <td>Pathfinder Bestiary</td>\n",
       "      <td>10</td>\n",
       "      <td>6</td>\n",
       "      <td>-5</td>\n",
       "      <td>1</td>\n",
       "      <td>-1</td>\n",
       "      <td>6</td>\n",
       "      <td>1</td>\n",
       "      <td>...</td>\n",
       "      <td>1</td>\n",
       "      <td>0</td>\n",
       "      <td>0</td>\n",
       "      <td>0</td>\n",
       "      <td>0</td>\n",
       "      <td>0</td>\n",
       "      <td>0</td>\n",
       "      <td>0.0</td>\n",
       "      <td>8</td>\n",
       "      <td>5.0</td>\n",
       "    </tr>\n",
       "  </tbody>\n",
       "</table>\n",
       "<p>5 rows × 52 columns</p>\n",
       "</div>"
      ],
      "text/plain": [
       "   num_immunities   hp                 book  reflex  fortitude  str  con  int  \\\n",
       "0               3  215  Pathfinder Bestiary      19         22    7    5    1   \n",
       "1               0  220  Pathfinder Bestiary      14         21    9    5   -4   \n",
       "2               0  175  Pathfinder Bestiary      17         20    7    6   -4   \n",
       "3               3  315  Pathfinder Bestiary      29         30    7    5    6   \n",
       "4               0   20  Pathfinder Bestiary      10          6   -5    1   -1   \n",
       "\n",
       "   perception  wis  ...  spells_nr_lvl_4  spells_nr_lvl_5  spells_nr_lvl_6  \\\n",
       "0          20    2  ...                0                0                0   \n",
       "1          16    2  ...                0                0                0   \n",
       "2          17    3  ...                0                0                0   \n",
       "3          30    5  ...                1                0                1   \n",
       "4           6    1  ...                1                0                0   \n",
       "\n",
       "   spells_nr_lvl_7  spells_nr_lvl_8  spells_nr_lvl_9  melee_max_bonus  \\\n",
       "0                0                0                0               23   \n",
       "1                0                0                0               23   \n",
       "2                0                0                0               21   \n",
       "3                0                0                0               33   \n",
       "4                0                0                0                0   \n",
       "\n",
       "   avg_melee_dmg  ranged_max_bonus  avg_ranged_dmg  \n",
       "0           22.0                 0             0.0  \n",
       "1           22.0                 0             0.0  \n",
       "2           16.0                 0             0.0  \n",
       "3           31.5                 0             0.0  \n",
       "4            0.0                 8             5.0  \n",
       "\n",
       "[5 rows x 52 columns]"
      ]
     },
     "execution_count": 3,
     "metadata": {},
     "output_type": "execute_result"
    }
   ],
   "source": [
    "df.head()"
   ]
  },
  {
   "cell_type": "markdown",
   "id": "0caa661f",
   "metadata": {},
   "source": [
    "###### Level"
   ]
  },
  {
   "cell_type": "code",
   "execution_count": 4,
   "id": "c200d2b4",
   "metadata": {},
   "outputs": [
    {
     "data": {
      "text/plain": [
       "0       10\n",
       "1       10\n",
       "2        8\n",
       "3       17\n",
       "4        1\n",
       "        ..\n",
       "1201    20\n",
       "1202    -1\n",
       "1203    12\n",
       "1204     6\n",
       "1205     6\n",
       "Name: level, Length: 1206, dtype: int64"
      ]
     },
     "execution_count": 4,
     "metadata": {},
     "output_type": "execute_result"
    }
   ],
   "source": [
    "y = df[\"level\"]\n",
    "y"
   ]
  },
  {
   "cell_type": "code",
   "execution_count": 5,
   "id": "553822a7",
   "metadata": {},
   "outputs": [],
   "source": [
    "from collections import defaultdict\n",
    "\n",
    "\n",
    "lvl_stat = defaultdict(lambda: 0)\n",
    "\n",
    "for lvl in y:\n",
    "    lvl_stat[lvl] += 1"
   ]
  },
  {
   "cell_type": "code",
   "execution_count": 6,
   "id": "e45d6c29",
   "metadata": {},
   "outputs": [
    {
     "data": {
      "text/html": [
       "<div>\n",
       "<style scoped>\n",
       "    .dataframe tbody tr th:only-of-type {\n",
       "        vertical-align: middle;\n",
       "    }\n",
       "\n",
       "    .dataframe tbody tr th {\n",
       "        vertical-align: top;\n",
       "    }\n",
       "\n",
       "    .dataframe thead th {\n",
       "        text-align: right;\n",
       "    }\n",
       "</style>\n",
       "<table border=\"1\" class=\"dataframe\">\n",
       "  <thead>\n",
       "    <tr style=\"text-align: right;\">\n",
       "      <th></th>\n",
       "      <th>lvl</th>\n",
       "      <th>count</th>\n",
       "    </tr>\n",
       "  </thead>\n",
       "  <tbody>\n",
       "    <tr>\n",
       "      <th>0</th>\n",
       "      <td>-1</td>\n",
       "      <td>34</td>\n",
       "    </tr>\n",
       "    <tr>\n",
       "      <th>1</th>\n",
       "      <td>0</td>\n",
       "      <td>27</td>\n",
       "    </tr>\n",
       "    <tr>\n",
       "      <th>2</th>\n",
       "      <td>1</td>\n",
       "      <td>127</td>\n",
       "    </tr>\n",
       "    <tr>\n",
       "      <th>3</th>\n",
       "      <td>2</td>\n",
       "      <td>121</td>\n",
       "    </tr>\n",
       "    <tr>\n",
       "      <th>4</th>\n",
       "      <td>3</td>\n",
       "      <td>95</td>\n",
       "    </tr>\n",
       "    <tr>\n",
       "      <th>5</th>\n",
       "      <td>4</td>\n",
       "      <td>82</td>\n",
       "    </tr>\n",
       "    <tr>\n",
       "      <th>6</th>\n",
       "      <td>5</td>\n",
       "      <td>76</td>\n",
       "    </tr>\n",
       "    <tr>\n",
       "      <th>7</th>\n",
       "      <td>6</td>\n",
       "      <td>72</td>\n",
       "    </tr>\n",
       "    <tr>\n",
       "      <th>8</th>\n",
       "      <td>7</td>\n",
       "      <td>77</td>\n",
       "    </tr>\n",
       "    <tr>\n",
       "      <th>9</th>\n",
       "      <td>8</td>\n",
       "      <td>68</td>\n",
       "    </tr>\n",
       "    <tr>\n",
       "      <th>10</th>\n",
       "      <td>9</td>\n",
       "      <td>63</td>\n",
       "    </tr>\n",
       "    <tr>\n",
       "      <th>11</th>\n",
       "      <td>10</td>\n",
       "      <td>58</td>\n",
       "    </tr>\n",
       "    <tr>\n",
       "      <th>12</th>\n",
       "      <td>11</td>\n",
       "      <td>40</td>\n",
       "    </tr>\n",
       "    <tr>\n",
       "      <th>13</th>\n",
       "      <td>12</td>\n",
       "      <td>41</td>\n",
       "    </tr>\n",
       "    <tr>\n",
       "      <th>14</th>\n",
       "      <td>13</td>\n",
       "      <td>36</td>\n",
       "    </tr>\n",
       "    <tr>\n",
       "      <th>15</th>\n",
       "      <td>14</td>\n",
       "      <td>33</td>\n",
       "    </tr>\n",
       "    <tr>\n",
       "      <th>16</th>\n",
       "      <td>15</td>\n",
       "      <td>31</td>\n",
       "    </tr>\n",
       "    <tr>\n",
       "      <th>17</th>\n",
       "      <td>16</td>\n",
       "      <td>25</td>\n",
       "    </tr>\n",
       "    <tr>\n",
       "      <th>18</th>\n",
       "      <td>17</td>\n",
       "      <td>21</td>\n",
       "    </tr>\n",
       "    <tr>\n",
       "      <th>19</th>\n",
       "      <td>18</td>\n",
       "      <td>21</td>\n",
       "    </tr>\n",
       "    <tr>\n",
       "      <th>20</th>\n",
       "      <td>19</td>\n",
       "      <td>18</td>\n",
       "    </tr>\n",
       "    <tr>\n",
       "      <th>21</th>\n",
       "      <td>20</td>\n",
       "      <td>24</td>\n",
       "    </tr>\n",
       "    <tr>\n",
       "      <th>22</th>\n",
       "      <td>21</td>\n",
       "      <td>16</td>\n",
       "    </tr>\n",
       "  </tbody>\n",
       "</table>\n",
       "</div>"
      ],
      "text/plain": [
       "    lvl  count\n",
       "0    -1     34\n",
       "1     0     27\n",
       "2     1    127\n",
       "3     2    121\n",
       "4     3     95\n",
       "5     4     82\n",
       "6     5     76\n",
       "7     6     72\n",
       "8     7     77\n",
       "9     8     68\n",
       "10    9     63\n",
       "11   10     58\n",
       "12   11     40\n",
       "13   12     41\n",
       "14   13     36\n",
       "15   14     33\n",
       "16   15     31\n",
       "17   16     25\n",
       "18   17     21\n",
       "19   18     21\n",
       "20   19     18\n",
       "21   20     24\n",
       "22   21     16"
      ]
     },
     "execution_count": 6,
     "metadata": {},
     "output_type": "execute_result"
    }
   ],
   "source": [
    "level_count = pd.DataFrame(\n",
    "    data={\n",
    "        \"lvl\": [key for key in sorted(lvl_stat.keys())],\n",
    "        \"count\": [lvl_stat.get(key) for key in sorted(lvl_stat.keys())],\n",
    "    }\n",
    ")\n",
    "level_count"
   ]
  },
  {
   "cell_type": "code",
   "execution_count": 7,
   "id": "bdbfe8de",
   "metadata": {},
   "outputs": [
    {
     "data": {
      "image/png": "[encoded data removed]",
      "text/plain": [
       "<Figure size 432x288 with 1 Axes>"
      ]
     },
     "metadata": {
      "needs_background": "light"
     },
     "output_type": "display_data"
    }
   ],
   "source": [
    "import matplotlib.pyplot as plt\n",
    "\n",
    "\n",
    "level_count.plot.bar(x=\"lvl\", y=\"count\", title=\"Count of levels\")\n",
    "plt.show()"
   ]
  },
  {
   "cell_type": "markdown",
   "id": "9fdb6541",
   "metadata": {},
   "source": [
    "## Train test split"
   ]
  },
  {
   "cell_type": "markdown",
   "id": "18f56629",
   "metadata": {},
   "source": [
    "### Chronological split"
   ]
  },
  {
   "cell_type": "code",
   "execution_count": 8,
   "id": "dcda359b",
   "metadata": {},
   "outputs": [],
   "source": [
    "from training.splitting_dataset import split_dataframe\n",
    "\n",
    "\n",
    "os.chdir(\"../../../training\")\n",
    "X_train, X_test, y_train, y_test = split_dataframe(df, test_size=0.31)\n",
    "os.chdir(\"../notebooks/models/lightgbm\")"
   ]
  },
  {
   "cell_type": "code",
   "execution_count": 9,
   "id": "17dbc875",
   "metadata": {},
   "outputs": [],
   "source": [
    "X_train = X_train.drop(columns=[\"book\"])\n",
    "X_test = X_test.drop(columns=[\"book\"])"
   ]
  },
  {
   "cell_type": "markdown",
   "id": "25879636",
   "metadata": {},
   "source": [
    "### Random split"
   ]
  },
  {
   "cell_type": "code",
   "execution_count": 10,
   "id": "982ec5eb",
   "metadata": {},
   "outputs": [],
   "source": [
    "(\n",
    "    X_train_random_split,\n",
    "    X_test_random_split,\n",
    "    y_train_random_split,\n",
    "    y_test_random_split,\n",
    ") = split_dataframe(df, chronological_split=False)"
   ]
  },
  {
   "cell_type": "code",
   "execution_count": 11,
   "id": "90569e78",
   "metadata": {},
   "outputs": [],
   "source": [
    "X_train_random_split = X_train_random_split.drop(columns=[\"book\"])\n",
    "X_test_random_split = X_test_random_split.drop(columns=[\"book\"])"
   ]
  },
  {
   "cell_type": "markdown",
   "id": "9b259fbf",
   "metadata": {},
   "source": [
    "## LightGBM"
   ]
  },
  {
   "cell_type": "markdown",
   "id": "14f37d9b",
   "metadata": {},
   "source": [
    "## Chronological split"
   ]
  },
  {
   "cell_type": "code",
   "execution_count": 12,
   "id": "2bc4c90e",
   "metadata": {},
   "outputs": [
    {
     "name": "stdout",
     "output_type": "stream",
     "text": [
      "[LightGBM] [Warning] Auto-choosing row-wise multi-threading, the overhead of testing was 0.000960 seconds.\n",
      "You can set `force_row_wise=true` to remove the overhead.\n",
      "And if memory is not enough, you can set `force_col_wise=true`.\n",
      "[LightGBM] [Info] Total Bins 756\n",
      "[LightGBM] [Info] Number of data points in the train set: 841, number of used features: 45\n",
      "[LightGBM] [Info] Start training from score 6.966706\n",
      "Training until validation scores don't improve for 5 rounds\n",
      "[LightGBM] [Warning] No further splits with positive gain, best gain: -inf\n",
      "[LightGBM] [Warning] No further splits with positive gain, best gain: -inf\n",
      "[LightGBM] [Warning] No further splits with positive gain, best gain: -inf\n",
      "[LightGBM] [Warning] No further splits with positive gain, best gain: -inf\n",
      "[LightGBM] [Warning] No further splits with positive gain, best gain: -inf\n",
      "Early stopping, best iteration is:\n",
      "[88]\tvalid_0's l1: 0.463517\tvalid_0's l2: 0.932502\n"
     ]
    }
   ],
   "source": [
    "import lightgbm as lgb\n",
    "\n",
    "lgb_train = lgb.Dataset(X_train, y_train)\n",
    "lgb_eval = lgb.Dataset(X_test, y_test, reference=lgb_train)\n",
    "\n",
    "params = {\n",
    "    \"boosting_type\": \"gbdt\",\n",
    "    \"objective\": \"regression\",\n",
    "    \"metric\": {\"l2\", \"l1\"},\n",
    "}\n",
    "\n",
    "gbm = lgb.train(\n",
    "    params,\n",
    "    lgb_train,\n",
    "    num_boost_round=100,\n",
    "    valid_sets=lgb_eval,\n",
    "    callbacks=[lgb.early_stopping(stopping_rounds=5)],\n",
    ")"
   ]
  },
  {
   "cell_type": "code",
   "execution_count": 13,
   "id": "f1ae2eaa",
   "metadata": {},
   "outputs": [],
   "source": [
    "y_pred_train = gbm.predict(X_train, num_iteration=gbm.best_iteration)\n",
    "y_pred_test = gbm.predict(X_test, num_iteration=gbm.best_iteration)"
   ]
  },
  {
   "cell_type": "code",
   "execution_count": 14,
   "id": "ef9d09eb",
   "metadata": {},
   "outputs": [
    {
     "name": "stdout",
     "output_type": "stream",
     "text": [
      "RMSE: 0.97\n",
      "MAE: 0.46\n"
     ]
    }
   ],
   "source": [
    "from sklearn.metrics import mean_squared_error, mean_absolute_error\n",
    "\n",
    "\n",
    "rmse = mean_squared_error(y_test, y_pred_test, squared=False)\n",
    "mae = mean_absolute_error(y_test, y_pred_test)\n",
    "\n",
    "print(f\"RMSE: {rmse:.2f}\")\n",
    "print(f\"MAE: {mae:.2f}\")"
   ]
  },
  {
   "cell_type": "code",
   "execution_count": 15,
   "id": "6e288d53",
   "metadata": {},
   "outputs": [],
   "source": [
    "results = pd.DataFrame(\n",
    "    data={\n",
    "        \"Split type\": [],\n",
    "        \"Tuning type\": [],\n",
    "        \"Set of features\": [],\n",
    "        \"RMSE\": [],\n",
    "        \"MAE\": [],\n",
    "    }\n",
    ")\n",
    "\n",
    "results.loc[0] = [\"chronological\", \"default\", \"full\", rmse, mae]"
   ]
  },
  {
   "cell_type": "code",
   "execution_count": 16,
   "id": "78bb7ffa",
   "metadata": {},
   "outputs": [
    {
     "name": "stdout",
     "output_type": "stream",
     "text": [
      "RMSE train: 0.13\n",
      "RMSE test: 0.97\n"
     ]
    }
   ],
   "source": [
    "rmse_train = mean_squared_error(y_train, y_pred_train, squared=False)\n",
    "rmse_test = mean_squared_error(y_test, y_pred_test, squared=False)\n",
    "print(f\"RMSE train: {rmse_train:.2f}\")\n",
    "print(f\"RMSE test: {rmse_test:.2f}\")"
   ]
  },
  {
   "cell_type": "markdown",
   "id": "1822ab4b",
   "metadata": {},
   "source": [
    "###### MAE by level"
   ]
  },
  {
   "cell_type": "code",
   "execution_count": 17,
   "id": "89d4733e",
   "metadata": {},
   "outputs": [],
   "source": [
    "from training.results import plot_mae_by_level"
   ]
  },
  {
   "cell_type": "code",
   "execution_count": 18,
   "id": "062bc79b",
   "metadata": {},
   "outputs": [
    {
     "data": {
      "image/png": "[encoded data removed]",
      "text/plain": [
       "<Figure size 1440x576 with 1 Axes>"
      ]
     },
     "metadata": {
      "needs_background": "light"
     },
     "output_type": "display_data"
    }
   ],
   "source": [
    "plot_mae_by_level(\n",
    "    y_test,\n",
    "    y_pred_test,\n",
    "    title=\"MAE by level for default LightGBM with full features and chronological split\",\n",
    ")"
   ]
  },
  {
   "cell_type": "code",
   "execution_count": 19,
   "id": "ec8cab49",
   "metadata": {
    "scrolled": true
   },
   "outputs": [
    {
     "name": "stdout",
     "output_type": "stream",
     "text": [
      "Default:\n",
      "RMSE: 0.97\n",
      "\n",
      "Round type: 0.5\n",
      "RMSE: 0.98\n",
      "\n",
      "Round type: 0.33\n",
      "RMSE: 0.96\n",
      "\n",
      "Round type: 0.45\n",
      "RMSE: 0.96\n",
      "\n"
     ]
    }
   ],
   "source": [
    "from training.results import check_round_predictions, plot_confusion_matrix\n",
    "\n",
    "\n",
    "check_round_predictions([0.5, 0.33, 0.45], y_test, y_pred_test)"
   ]
  },
  {
   "cell_type": "code",
   "execution_count": 20,
   "id": "9129a0ae",
   "metadata": {},
   "outputs": [
    {
     "data": {
      "image/png": "[encoded data removed]",
      "text/plain": [
       "<Figure size 720x720 with 2 Axes>"
      ]
     },
     "metadata": {
      "needs_background": "light"
     },
     "output_type": "display_data"
    }
   ],
   "source": [
    "plot_confusion_matrix(\n",
    "    y_pred_test,\n",
    "    y_test,\n",
    "    title=\"Confusion matrix for default LightGBM with\\nfull features and chronological split\",\n",
    ")"
   ]
  },
  {
   "cell_type": "markdown",
   "id": "0e591f6c",
   "metadata": {},
   "source": [
    "#### Tuning"
   ]
  },
  {
   "cell_type": "code",
   "execution_count": 21,
   "id": "2f781cab",
   "metadata": {},
   "outputs": [],
   "source": [
    "from training.results import assess_regression_model"
   ]
  },
  {
   "cell_type": "code",
   "execution_count": 22,
   "id": "d8734e01",
   "metadata": {},
   "outputs": [
    {
     "name": "stderr",
     "output_type": "stream",
     "text": [
      "[I 2023-11-09 13:20:02,370] A new study created in memory with name: no-name-04666131-eb34-4172-998b-39137e54efc9\n",
      "feature_fraction, val_score: inf:   0%|                                                          | 0/7 [00:00<?, ?it/s]"
     ]
    },
    {
     "name": "stdout",
     "output_type": "stream",
     "text": [
      "Training until validation scores don't improve for 100 rounds\n",
      "[100]\tcv_agg's l2: 0.147141 + 0.0339963\n",
      "[200]\tcv_agg's l2: 0.143569 + 0.0324626\n",
      "[300]\tcv_agg's l2: 0.14305 + 0.0323676\n"
     ]
    },
    {
     "name": "stderr",
     "output_type": "stream",
     "text": [
      "feature_fraction, val_score: 0.142682:  14%|######4                                      | 1/7 [00:06<00:40,  6.76s/it][I 2023-11-09 13:20:09,135] Trial 0 finished with value: 0.14268150859276746 and parameters: {'feature_fraction': 0.8}. Best is trial 0 with value: 0.14268150859276746.\n",
      "feature_fraction, val_score: 0.142682:  14%|######4                                      | 1/7 [00:06<00:40,  6.76s/it]"
     ]
    },
    {
     "name": "stdout",
     "output_type": "stream",
     "text": [
      "Early stopping, best iteration is:\n",
      "[259]\tcv_agg's l2: 0.142682 + 0.0323331\n",
      "[100]\tcv_agg's l2: 0.149085 + 0.0431141\n",
      "[200]\tcv_agg's l2: 0.143257 + 0.0394899\n",
      "[300]\tcv_agg's l2: 0.142 + 0.039474\n",
      "[400]\tcv_agg's l2: 0.141072 + 0.0392175\n",
      "[500]\tcv_agg's l2: 0.140832 + 0.0391198\n",
      "[600]\tcv_agg's l2: 0.140812 + 0.0392933\n"
     ]
    },
    {
     "name": "stderr",
     "output_type": "stream",
     "text": [
      "feature_fraction, val_score: 0.140741:  29%|############8                                | 2/7 [00:17<00:44,  8.82s/it][I 2023-11-09 13:20:19,395] Trial 1 finished with value: 0.1407405535871707 and parameters: {'feature_fraction': 0.4}. Best is trial 1 with value: 0.1407405535871707.\n",
      "feature_fraction, val_score: 0.140741:  29%|############8                                | 2/7 [00:17<00:44,  8.82s/it]"
     ]
    },
    {
     "name": "stdout",
     "output_type": "stream",
     "text": [
      "Early stopping, best iteration is:\n",
      "[592]\tcv_agg's l2: 0.140741 + 0.0393081\n",
      "[100]\tcv_agg's l2: 0.153433 + 0.0361593\n",
      "[200]\tcv_agg's l2: 0.151284 + 0.0361474\n",
      "[300]\tcv_agg's l2: 0.150988 + 0.0360248\n",
      "[400]\tcv_agg's l2: 0.151056 + 0.0361271\n",
      "[500]\tcv_agg's l2: 0.151145 + 0.0364054\n",
      "[600]\tcv_agg's l2: 0.151174 + 0.036402\n"
     ]
    },
    {
     "name": "stderr",
     "output_type": "stream",
     "text": [
      "feature_fraction, val_score: 0.140741:  43%|###################2                         | 3/7 [00:26<00:37,  9.34s/it][I 2023-11-09 13:20:29,345] Trial 2 finished with value: 0.15117544670528943 and parameters: {'feature_fraction': 1.0}. Best is trial 1 with value: 0.1407405535871707.\n",
      "feature_fraction, val_score: 0.140741:  43%|###################2                         | 3/7 [00:26<00:37,  9.34s/it]"
     ]
    },
    {
     "name": "stdout",
     "output_type": "stream",
     "text": [
      "Early stopping, best iteration is:\n",
      "[592]\tcv_agg's l2: 0.140741 + 0.0393081\n",
      "[100]\tcv_agg's l2: 0.144924 + 0.0325426\n",
      "[200]\tcv_agg's l2: 0.141683 + 0.0311121\n",
      "[300]\tcv_agg's l2: 0.140849 + 0.0301638\n",
      "[400]\tcv_agg's l2: 0.140714 + 0.0301373\n",
      "[500]\tcv_agg's l2: 0.140727 + 0.030046\n"
     ]
    },
    {
     "name": "stderr",
     "output_type": "stream",
     "text": [
      "feature_fraction, val_score: 0.140573:  57%|#########################7                   | 4/7 [00:35<00:27,  9.20s/it][I 2023-11-09 13:20:38,331] Trial 3 finished with value: 0.14057330613397034 and parameters: {'feature_fraction': 0.8999999999999999}. Best is trial 3 with value: 0.14057330613397034.\n",
      "feature_fraction, val_score: 0.140573:  57%|#########################7                   | 4/7 [00:35<00:27,  9.20s/it]"
     ]
    },
    {
     "name": "stdout",
     "output_type": "stream",
     "text": [
      "Early stopping, best iteration is:\n",
      "[441]\tcv_agg's l2: 0.140573 + 0.0299096\n",
      "[100]\tcv_agg's l2: 0.142787 + 0.0390276\n",
      "[200]\tcv_agg's l2: 0.138839 + 0.0363351\n",
      "[300]\tcv_agg's l2: 0.138152 + 0.0354178\n",
      "[400]\tcv_agg's l2: 0.137952 + 0.0347705\n",
      "[500]\tcv_agg's l2: 0.137803 + 0.0345155\n",
      "[600]\tcv_agg's l2: 0.137724 + 0.0342233\n",
      "[700]\tcv_agg's l2: 0.137661 + 0.0341299\n",
      "[800]\tcv_agg's l2: 0.137681 + 0.0340453\n"
     ]
    },
    {
     "name": "stderr",
     "output_type": "stream",
     "text": [
      "feature_fraction, val_score: 0.137600:  71%|################################1            | 5/7 [00:50<00:21, 10.98s/it][I 2023-11-09 13:20:52,476] Trial 4 finished with value: 0.13759994141489185 and parameters: {'feature_fraction': 0.7}. Best is trial 4 with value: 0.13759994141489185.\n",
      "feature_fraction, val_score: 0.137600:  71%|################################1            | 5/7 [00:50<00:21, 10.98s/it]"
     ]
    },
    {
     "name": "stdout",
     "output_type": "stream",
     "text": [
      "Early stopping, best iteration is:\n",
      "[729]\tcv_agg's l2: 0.1376 + 0.034107\n",
      "[100]\tcv_agg's l2: 0.13813 + 0.0344683\n",
      "[200]\tcv_agg's l2: 0.133618 + 0.0323802\n",
      "[300]\tcv_agg's l2: 0.132715 + 0.0324646\n",
      "[400]\tcv_agg's l2: 0.132409 + 0.0320448\n"
     ]
    },
    {
     "name": "stderr",
     "output_type": "stream",
     "text": [
      "feature_fraction, val_score: 0.132339:  86%|######################################5      | 6/7 [00:58<00:10, 10.16s/it][I 2023-11-09 13:21:01,050] Trial 5 finished with value: 0.13233858303261845 and parameters: {'feature_fraction': 0.6}. Best is trial 5 with value: 0.13233858303261845.\n",
      "feature_fraction, val_score: 0.132339:  86%|######################################5      | 6/7 [00:58<00:10, 10.16s/it]"
     ]
    },
    {
     "name": "stdout",
     "output_type": "stream",
     "text": [
      "Early stopping, best iteration is:\n",
      "[384]\tcv_agg's l2: 0.132339 + 0.0321137\n",
      "[100]\tcv_agg's l2: 0.138029 + 0.0347771\n",
      "[200]\tcv_agg's l2: 0.133246 + 0.0329534\n",
      "[300]\tcv_agg's l2: 0.132059 + 0.0323665\n",
      "[400]\tcv_agg's l2: 0.13197 + 0.0322145\n"
     ]
    },
    {
     "name": "stderr",
     "output_type": "stream",
     "text": [
      "feature_fraction, val_score: 0.131830: 100%|#############################################| 7/7 [01:07<00:00,  9.77s/it][I 2023-11-09 13:21:10,021] Trial 6 finished with value: 0.13183043983930992 and parameters: {'feature_fraction': 0.5}. Best is trial 6 with value: 0.13183043983930992.\n",
      "feature_fraction, val_score: 0.131830: 100%|#############################################| 7/7 [01:07<00:00,  9.66s/it]\n"
     ]
    },
    {
     "name": "stdout",
     "output_type": "stream",
     "text": [
      "Early stopping, best iteration is:\n",
      "[361]\tcv_agg's l2: 0.13183 + 0.0322448\n"
     ]
    },
    {
     "name": "stderr",
     "output_type": "stream",
     "text": [
      "num_leaves, val_score: 0.131830:   0%|                                                          | 0/20 [00:00<?, ?it/s]"
     ]
    },
    {
     "name": "stdout",
     "output_type": "stream",
     "text": [
      "[100]\tcv_agg's l2: 0.241162 + 0.0405064\n",
      "[200]\tcv_agg's l2: 0.216172 + 0.0365431\n",
      "[300]\tcv_agg's l2: 0.201285 + 0.0350276\n",
      "[400]\tcv_agg's l2: 0.191554 + 0.0330505\n"
     ]
    },
    {
     "name": "stderr",
     "output_type": "stream",
     "text": [
      "num_leaves, val_score: 0.131830:   5%|##5                                               | 1/20 [00:01<00:33,  1.77s/it][I 2023-11-09 13:21:11,797] Trial 7 finished with value: 0.19564775895673447 and parameters: {'num_leaves': 3}. Best is trial 7 with value: 0.19564775895673447.\n",
      "num_leaves, val_score: 0.131830:   5%|##5                                               | 1/20 [00:01<00:33,  1.77s/it]"
     ]
    },
    {
     "name": "stdout",
     "output_type": "stream",
     "text": [
      "Early stopping, best iteration is:\n",
      "[361]\tcv_agg's l2: 0.13183 + 0.0322448\n",
      "[100]\tcv_agg's l2: 0.138029 + 0.0347771\n",
      "[200]\tcv_agg's l2: 0.133246 + 0.0329534\n",
      "[300]\tcv_agg's l2: 0.132059 + 0.0323665\n",
      "[400]\tcv_agg's l2: 0.13197 + 0.0322145\n"
     ]
    },
    {
     "name": "stderr",
     "output_type": "stream",
     "text": [
      "num_leaves, val_score: 0.131830:  10%|#####                                             | 2/20 [00:11<01:52,  6.25s/it][I 2023-11-09 13:21:21,181] Trial 8 finished with value: 0.13183043983930992 and parameters: {'num_leaves': 144}. Best is trial 8 with value: 0.13183043983930992.\n",
      "num_leaves, val_score: 0.131830:  10%|#####                                             | 2/20 [00:11<01:52,  6.25s/it]"
     ]
    },
    {
     "name": "stdout",
     "output_type": "stream",
     "text": [
      "Early stopping, best iteration is:\n",
      "[361]\tcv_agg's l2: 0.13183 + 0.0322448\n",
      "[100]\tcv_agg's l2: 0.138029 + 0.0347771\n",
      "[200]\tcv_agg's l2: 0.133246 + 0.0329534\n",
      "[300]\tcv_agg's l2: 0.132059 + 0.0323665\n",
      "[400]\tcv_agg's l2: 0.13197 + 0.0322145\n"
     ]
    },
    {
     "name": "stderr",
     "output_type": "stream",
     "text": [
      "num_leaves, val_score: 0.131830:  15%|#######5                                          | 3/20 [00:21<02:14,  7.91s/it][I 2023-11-09 13:21:31,062] Trial 9 finished with value: 0.13183043983930992 and parameters: {'num_leaves': 120}. Best is trial 8 with value: 0.13183043983930992.\n",
      "num_leaves, val_score: 0.131830:  15%|#######5                                          | 3/20 [00:21<02:14,  7.91s/it]"
     ]
    },
    {
     "name": "stdout",
     "output_type": "stream",
     "text": [
      "Early stopping, best iteration is:\n",
      "[361]\tcv_agg's l2: 0.13183 + 0.0322448\n",
      "[100]\tcv_agg's l2: 0.138029 + 0.0347771\n",
      "[200]\tcv_agg's l2: 0.133246 + 0.0329534\n",
      "[300]\tcv_agg's l2: 0.132059 + 0.0323665\n",
      "[400]\tcv_agg's l2: 0.13197 + 0.0322145\n"
     ]
    },
    {
     "name": "stderr",
     "output_type": "stream",
     "text": [
      "num_leaves, val_score: 0.131830:  20%|##########                                        | 4/20 [00:31<02:25,  9.11s/it][I 2023-11-09 13:21:42,010] Trial 10 finished with value: 0.13183043983930992 and parameters: {'num_leaves': 250}. Best is trial 8 with value: 0.13183043983930992.\n",
      "num_leaves, val_score: 0.131830:  20%|##########                                        | 4/20 [00:31<02:25,  9.11s/it]"
     ]
    },
    {
     "name": "stdout",
     "output_type": "stream",
     "text": [
      "Early stopping, best iteration is:\n",
      "[361]\tcv_agg's l2: 0.13183 + 0.0322448\n",
      "[100]\tcv_agg's l2: 0.138029 + 0.0347771\n",
      "[200]\tcv_agg's l2: 0.133246 + 0.0329534\n",
      "[300]\tcv_agg's l2: 0.132059 + 0.0323665\n",
      "[400]\tcv_agg's l2: 0.13197 + 0.0322145\n"
     ]
    },
    {
     "name": "stderr",
     "output_type": "stream",
     "text": [
      "num_leaves, val_score: 0.131830:  25%|############5                                     | 5/20 [00:41<02:19,  9.27s/it][I 2023-11-09 13:21:51,564] Trial 11 finished with value: 0.13183043983930992 and parameters: {'num_leaves': 149}. Best is trial 8 with value: 0.13183043983930992.\n",
      "num_leaves, val_score: 0.131830:  25%|############5                                     | 5/20 [00:41<02:19,  9.27s/it]"
     ]
    },
    {
     "name": "stdout",
     "output_type": "stream",
     "text": [
      "Early stopping, best iteration is:\n",
      "[361]\tcv_agg's l2: 0.13183 + 0.0322448\n",
      "[100]\tcv_agg's l2: 0.138029 + 0.0347771\n",
      "[200]\tcv_agg's l2: 0.133246 + 0.0329534\n",
      "[300]\tcv_agg's l2: 0.132059 + 0.0323665\n",
      "[400]\tcv_agg's l2: 0.13197 + 0.0322145\n"
     ]
    },
    {
     "name": "stderr",
     "output_type": "stream",
     "text": [
      "num_leaves, val_score: 0.131830:  30%|###############                                   | 6/20 [00:50<02:08,  9.19s/it][I 2023-11-09 13:22:00,604] Trial 12 finished with value: 0.13183043983930992 and parameters: {'num_leaves': 136}. Best is trial 8 with value: 0.13183043983930992.\n",
      "num_leaves, val_score: 0.131830:  30%|###############                                   | 6/20 [00:50<02:08,  9.19s/it]"
     ]
    },
    {
     "name": "stdout",
     "output_type": "stream",
     "text": [
      "Early stopping, best iteration is:\n",
      "[361]\tcv_agg's l2: 0.13183 + 0.0322448\n",
      "[100]\tcv_agg's l2: 0.138029 + 0.0347771\n",
      "[200]\tcv_agg's l2: 0.133246 + 0.0329534\n",
      "[300]\tcv_agg's l2: 0.132059 + 0.0323665\n",
      "[400]\tcv_agg's l2: 0.13197 + 0.0322145\n"
     ]
    },
    {
     "name": "stderr",
     "output_type": "stream",
     "text": [
      "num_leaves, val_score: 0.131830:  35%|#################5                                | 7/20 [00:59<01:57,  9.06s/it][I 2023-11-09 13:22:09,396] Trial 13 finished with value: 0.13183043983930992 and parameters: {'num_leaves': 219}. Best is trial 8 with value: 0.13183043983930992.\n",
      "num_leaves, val_score: 0.131830:  35%|#################5                                | 7/20 [00:59<01:57,  9.06s/it]"
     ]
    },
    {
     "name": "stdout",
     "output_type": "stream",
     "text": [
      "Early stopping, best iteration is:\n",
      "[361]\tcv_agg's l2: 0.13183 + 0.0322448\n",
      "[100]\tcv_agg's l2: 0.138029 + 0.0347771\n",
      "[200]\tcv_agg's l2: 0.133246 + 0.0329534\n",
      "[300]\tcv_agg's l2: 0.132059 + 0.0323665\n",
      "[400]\tcv_agg's l2: 0.13197 + 0.0322145\n"
     ]
    },
    {
     "name": "stderr",
     "output_type": "stream",
     "text": [
      "num_leaves, val_score: 0.131830:  40%|####################                              | 8/20 [01:08<01:47,  8.94s/it][I 2023-11-09 13:22:18,086] Trial 14 finished with value: 0.13183043983930992 and parameters: {'num_leaves': 40}. Best is trial 8 with value: 0.13183043983930992.\n",
      "num_leaves, val_score: 0.131830:  40%|####################                              | 8/20 [01:08<01:47,  8.94s/it]"
     ]
    },
    {
     "name": "stdout",
     "output_type": "stream",
     "text": [
      "Early stopping, best iteration is:\n",
      "[361]\tcv_agg's l2: 0.13183 + 0.0322448\n",
      "[100]\tcv_agg's l2: 0.138029 + 0.0347771\n",
      "[200]\tcv_agg's l2: 0.133246 + 0.0329534\n",
      "[300]\tcv_agg's l2: 0.132059 + 0.0323665\n",
      "[400]\tcv_agg's l2: 0.13197 + 0.0322145\n"
     ]
    },
    {
     "name": "stderr",
     "output_type": "stream",
     "text": [
      "num_leaves, val_score: 0.131830:  45%|######################5                           | 9/20 [01:16<01:36,  8.76s/it][I 2023-11-09 13:22:26,450] Trial 15 finished with value: 0.13183043983930992 and parameters: {'num_leaves': 78}. Best is trial 8 with value: 0.13183043983930992.\n",
      "num_leaves, val_score: 0.131830:  45%|######################5                           | 9/20 [01:16<01:36,  8.76s/it]"
     ]
    },
    {
     "name": "stdout",
     "output_type": "stream",
     "text": [
      "Early stopping, best iteration is:\n",
      "[361]\tcv_agg's l2: 0.13183 + 0.0322448\n",
      "[100]\tcv_agg's l2: 0.138029 + 0.0347771\n",
      "[200]\tcv_agg's l2: 0.133246 + 0.0329534\n",
      "[300]\tcv_agg's l2: 0.132059 + 0.0323665\n",
      "[400]\tcv_agg's l2: 0.13197 + 0.0322145\n"
     ]
    },
    {
     "name": "stderr",
     "output_type": "stream",
     "text": [
      "num_leaves, val_score: 0.131830:  50%|########################5                        | 10/20 [01:25<01:27,  8.71s/it][I 2023-11-09 13:22:35,053] Trial 16 finished with value: 0.13183043983930992 and parameters: {'num_leaves': 155}. Best is trial 8 with value: 0.13183043983930992.\n",
      "num_leaves, val_score: 0.131830:  50%|########################5                        | 10/20 [01:25<01:27,  8.71s/it]"
     ]
    },
    {
     "name": "stdout",
     "output_type": "stream",
     "text": [
      "Early stopping, best iteration is:\n",
      "[361]\tcv_agg's l2: 0.13183 + 0.0322448\n",
      "[100]\tcv_agg's l2: 0.138029 + 0.0347771\n",
      "[200]\tcv_agg's l2: 0.133246 + 0.0329534\n",
      "[300]\tcv_agg's l2: 0.132059 + 0.0323665\n",
      "[400]\tcv_agg's l2: 0.13197 + 0.0322145\n"
     ]
    },
    {
     "name": "stderr",
     "output_type": "stream",
     "text": [
      "num_leaves, val_score: 0.131830:  55%|##########################9                      | 11/20 [01:34<01:21,  9.08s/it][I 2023-11-09 13:22:44,973] Trial 17 finished with value: 0.13183043983930992 and parameters: {'num_leaves': 185}. Best is trial 8 with value: 0.13183043983930992.\n",
      "num_leaves, val_score: 0.131830:  55%|##########################9                      | 11/20 [01:34<01:21,  9.08s/it]"
     ]
    },
    {
     "name": "stdout",
     "output_type": "stream",
     "text": [
      "Early stopping, best iteration is:\n",
      "[361]\tcv_agg's l2: 0.13183 + 0.0322448\n",
      "[100]\tcv_agg's l2: 0.138029 + 0.0347771\n",
      "[200]\tcv_agg's l2: 0.133246 + 0.0329534\n",
      "[300]\tcv_agg's l2: 0.132059 + 0.0323665\n",
      "[400]\tcv_agg's l2: 0.13197 + 0.0322145\n"
     ]
    },
    {
     "name": "stderr",
     "output_type": "stream",
     "text": [
      "num_leaves, val_score: 0.131830:  60%|#############################4                   | 12/20 [01:46<01:19,  9.88s/it][I 2023-11-09 13:22:56,678] Trial 18 finished with value: 0.13183043983930992 and parameters: {'num_leaves': 89}. Best is trial 8 with value: 0.13183043983930992.\n",
      "num_leaves, val_score: 0.131830:  60%|#############################4                   | 12/20 [01:46<01:19,  9.88s/it]"
     ]
    },
    {
     "name": "stdout",
     "output_type": "stream",
     "text": [
      "Early stopping, best iteration is:\n",
      "[361]\tcv_agg's l2: 0.13183 + 0.0322448\n",
      "[100]\tcv_agg's l2: 0.138029 + 0.0347771\n",
      "[200]\tcv_agg's l2: 0.133246 + 0.0329534\n",
      "[300]\tcv_agg's l2: 0.132059 + 0.0323665\n",
      "[400]\tcv_agg's l2: 0.13197 + 0.0322145\n"
     ]
    },
    {
     "name": "stderr",
     "output_type": "stream",
     "text": [
      "num_leaves, val_score: 0.131830:  65%|###############################8                 | 13/20 [01:56<01:09,  9.91s/it][I 2023-11-09 13:23:06,666] Trial 19 finished with value: 0.13183043983930992 and parameters: {'num_leaves': 195}. Best is trial 8 with value: 0.13183043983930992.\n",
      "num_leaves, val_score: 0.131830:  65%|###############################8                 | 13/20 [01:56<01:09,  9.91s/it]"
     ]
    },
    {
     "name": "stdout",
     "output_type": "stream",
     "text": [
      "Early stopping, best iteration is:\n",
      "[361]\tcv_agg's l2: 0.13183 + 0.0322448\n",
      "[100]\tcv_agg's l2: 0.138029 + 0.0347771\n",
      "[200]\tcv_agg's l2: 0.133246 + 0.0329534\n",
      "[300]\tcv_agg's l2: 0.132059 + 0.0323665\n",
      "[400]\tcv_agg's l2: 0.13197 + 0.0322145\n"
     ]
    },
    {
     "name": "stderr",
     "output_type": "stream",
     "text": [
      "num_leaves, val_score: 0.131830:  70%|##################################3              | 14/20 [02:09<01:04, 10.82s/it][I 2023-11-09 13:23:19,599] Trial 20 finished with value: 0.13183043983930992 and parameters: {'num_leaves': 89}. Best is trial 8 with value: 0.13183043983930992.\n",
      "num_leaves, val_score: 0.131830:  70%|##################################3              | 14/20 [02:09<01:04, 10.82s/it]"
     ]
    },
    {
     "name": "stdout",
     "output_type": "stream",
     "text": [
      "Early stopping, best iteration is:\n",
      "[361]\tcv_agg's l2: 0.13183 + 0.0322448\n",
      "[100]\tcv_agg's l2: 0.138029 + 0.0347771\n",
      "[200]\tcv_agg's l2: 0.133246 + 0.0329534\n",
      "[300]\tcv_agg's l2: 0.132059 + 0.0323665\n",
      "[400]\tcv_agg's l2: 0.13197 + 0.0322145\n"
     ]
    },
    {
     "name": "stderr",
     "output_type": "stream",
     "text": [
      "num_leaves, val_score: 0.131830:  75%|####################################7            | 15/20 [02:18<00:51, 10.30s/it][I 2023-11-09 13:23:28,683] Trial 21 finished with value: 0.13183043983930992 and parameters: {'num_leaves': 122}. Best is trial 8 with value: 0.13183043983930992.\n",
      "num_leaves, val_score: 0.131830:  75%|####################################7            | 15/20 [02:18<00:51, 10.30s/it]"
     ]
    },
    {
     "name": "stdout",
     "output_type": "stream",
     "text": [
      "Early stopping, best iteration is:\n",
      "[361]\tcv_agg's l2: 0.13183 + 0.0322448\n",
      "[100]\tcv_agg's l2: 0.138029 + 0.0347771\n",
      "[200]\tcv_agg's l2: 0.133246 + 0.0329534\n",
      "[300]\tcv_agg's l2: 0.132059 + 0.0323665\n",
      "[400]\tcv_agg's l2: 0.13197 + 0.0322145\n"
     ]
    },
    {
     "name": "stderr",
     "output_type": "stream",
     "text": [
      "num_leaves, val_score: 0.131830:  80%|#######################################2         | 16/20 [02:26<00:38,  9.70s/it][I 2023-11-09 13:23:36,976] Trial 22 finished with value: 0.13183043983930992 and parameters: {'num_leaves': 110}. Best is trial 8 with value: 0.13183043983930992.\n",
      "num_leaves, val_score: 0.131830:  80%|#######################################2         | 16/20 [02:26<00:38,  9.70s/it]"
     ]
    },
    {
     "name": "stdout",
     "output_type": "stream",
     "text": [
      "Early stopping, best iteration is:\n",
      "[361]\tcv_agg's l2: 0.13183 + 0.0322448\n",
      "[100]\tcv_agg's l2: 0.138029 + 0.0347771\n",
      "[200]\tcv_agg's l2: 0.133246 + 0.0329534\n",
      "[300]\tcv_agg's l2: 0.132059 + 0.0323665\n",
      "[400]\tcv_agg's l2: 0.13197 + 0.0322145\n"
     ]
    },
    {
     "name": "stderr",
     "output_type": "stream",
     "text": [
      "num_leaves, val_score: 0.131830:  85%|#########################################6       | 17/20 [02:36<00:29,  9.69s/it][I 2023-11-09 13:23:46,659] Trial 23 finished with value: 0.13183043983930992 and parameters: {'num_leaves': 169}. Best is trial 8 with value: 0.13183043983930992.\n",
      "num_leaves, val_score: 0.131830:  85%|#########################################6       | 17/20 [02:36<00:29,  9.69s/it]"
     ]
    },
    {
     "name": "stdout",
     "output_type": "stream",
     "text": [
      "Early stopping, best iteration is:\n",
      "[361]\tcv_agg's l2: 0.13183 + 0.0322448\n",
      "[100]\tcv_agg's l2: 0.138029 + 0.0347771\n",
      "[200]\tcv_agg's l2: 0.133246 + 0.0329534\n",
      "[300]\tcv_agg's l2: 0.132059 + 0.0323665\n",
      "[400]\tcv_agg's l2: 0.13197 + 0.0322145\n"
     ]
    },
    {
     "name": "stderr",
     "output_type": "stream",
     "text": [
      "num_leaves, val_score: 0.131830:  90%|############################################1    | 18/20 [02:44<00:18,  9.00s/it][I 2023-11-09 13:23:54,052] Trial 24 finished with value: 0.13183043983930992 and parameters: {'num_leaves': 54}. Best is trial 8 with value: 0.13183043983930992.\n",
      "num_leaves, val_score: 0.131830:  90%|############################################1    | 18/20 [02:44<00:18,  9.00s/it]"
     ]
    },
    {
     "name": "stdout",
     "output_type": "stream",
     "text": [
      "Early stopping, best iteration is:\n",
      "[361]\tcv_agg's l2: 0.13183 + 0.0322448\n",
      "[100]\tcv_agg's l2: 0.138029 + 0.0347771\n",
      "[200]\tcv_agg's l2: 0.133246 + 0.0329534\n",
      "[300]\tcv_agg's l2: 0.132059 + 0.0323665\n",
      "[400]\tcv_agg's l2: 0.13197 + 0.0322145\n"
     ]
    },
    {
     "name": "stderr",
     "output_type": "stream",
     "text": [
      "num_leaves, val_score: 0.131830:  95%|##############################################5  | 19/20 [02:52<00:08,  8.80s/it][I 2023-11-09 13:24:02,388] Trial 25 finished with value: 0.13183043983930992 and parameters: {'num_leaves': 214}. Best is trial 8 with value: 0.13183043983930992.\n",
      "num_leaves, val_score: 0.131830:  95%|##############################################5  | 19/20 [02:52<00:08,  8.80s/it]"
     ]
    },
    {
     "name": "stdout",
     "output_type": "stream",
     "text": [
      "Early stopping, best iteration is:\n",
      "[361]\tcv_agg's l2: 0.13183 + 0.0322448\n",
      "[100]\tcv_agg's l2: 0.138029 + 0.0347771\n",
      "[200]\tcv_agg's l2: 0.133246 + 0.0329534\n",
      "[300]\tcv_agg's l2: 0.132059 + 0.0323665\n",
      "[400]\tcv_agg's l2: 0.13197 + 0.0322145\n"
     ]
    },
    {
     "name": "stderr",
     "output_type": "stream",
     "text": [
      "num_leaves, val_score: 0.131830: 100%|#################################################| 20/20 [03:01<00:00,  8.87s/it][I 2023-11-09 13:24:11,413] Trial 26 finished with value: 0.13183043983930992 and parameters: {'num_leaves': 116}. Best is trial 8 with value: 0.13183043983930992.\n",
      "num_leaves, val_score: 0.131830: 100%|#################################################| 20/20 [03:01<00:00,  9.07s/it]\n"
     ]
    },
    {
     "name": "stdout",
     "output_type": "stream",
     "text": [
      "Early stopping, best iteration is:\n",
      "[361]\tcv_agg's l2: 0.13183 + 0.0322448\n"
     ]
    },
    {
     "name": "stderr",
     "output_type": "stream",
     "text": [
      "bagging, val_score: 0.131830:   0%|                                                             | 0/10 [00:00<?, ?it/s]"
     ]
    },
    {
     "name": "stdout",
     "output_type": "stream",
     "text": [
      "[100]\tcv_agg's l2: 0.153049 + 0.0315374\n",
      "[200]\tcv_agg's l2: 0.147983 + 0.0299803\n",
      "[300]\tcv_agg's l2: 0.146833 + 0.02997\n",
      "[400]\tcv_agg's l2: 0.14713 + 0.0311492\n"
     ]
    },
    {
     "name": "stderr",
     "output_type": "stream",
     "text": [
      "bagging, val_score: 0.131830:  10%|#####3                                               | 1/10 [00:06<01:00,  6.77s/it][I 2023-11-09 13:24:18,187] Trial 27 finished with value: 0.14736105044049166 and parameters: {'bagging_fraction': 0.7580765728434377, 'bagging_freq': 5}. Best is trial 27 with value: 0.14736105044049166.\n",
      "bagging, val_score: 0.131830:  10%|#####3                                               | 1/10 [00:06<01:00,  6.77s/it]"
     ]
    },
    {
     "name": "stdout",
     "output_type": "stream",
     "text": [
      "Early stopping, best iteration is:\n",
      "[361]\tcv_agg's l2: 0.13183 + 0.0322448\n",
      "[100]\tcv_agg's l2: 0.178586 + 0.0346562\n",
      "[200]\tcv_agg's l2: 0.169667 + 0.0340728\n",
      "[300]\tcv_agg's l2: 0.165281 + 0.0340536\n",
      "[400]\tcv_agg's l2: 0.164122 + 0.0320205\n"
     ]
    },
    {
     "name": "stderr",
     "output_type": "stream",
     "text": [
      "bagging, val_score: 0.131830:  20%|##########6                                          | 2/10 [00:11<00:42,  5.35s/it][I 2023-11-09 13:24:22,543] Trial 28 finished with value: 0.16352216960766447 and parameters: {'bagging_fraction': 0.4455782924655054, 'bagging_freq': 1}. Best is trial 27 with value: 0.14736105044049166.\n",
      "bagging, val_score: 0.131830:  20%|##########6                                          | 2/10 [00:11<00:42,  5.35s/it]"
     ]
    },
    {
     "name": "stdout",
     "output_type": "stream",
     "text": [
      "Early stopping, best iteration is:\n",
      "[361]\tcv_agg's l2: 0.13183 + 0.0322448\n",
      "[100]\tcv_agg's l2: 0.146264 + 0.0376827\n",
      "[200]\tcv_agg's l2: 0.141143 + 0.0361944\n",
      "[300]\tcv_agg's l2: 0.140164 + 0.035764\n",
      "[400]\tcv_agg's l2: 0.139979 + 0.0357691\n"
     ]
    },
    {
     "name": "stderr",
     "output_type": "stream",
     "text": [
      "bagging, val_score: 0.131830:  30%|###############9                                     | 3/10 [00:19<00:46,  6.66s/it][I 2023-11-09 13:24:30,759] Trial 29 finished with value: 0.14018665256357504 and parameters: {'bagging_fraction': 0.949059589459326, 'bagging_freq': 7}. Best is trial 29 with value: 0.14018665256357504.\n",
      "bagging, val_score: 0.131830:  30%|###############9                                     | 3/10 [00:19<00:46,  6.66s/it]"
     ]
    },
    {
     "name": "stdout",
     "output_type": "stream",
     "text": [
      "Early stopping, best iteration is:\n",
      "[361]\tcv_agg's l2: 0.13183 + 0.0322448\n",
      "[100]\tcv_agg's l2: 0.19325 + 0.0372615\n",
      "[200]\tcv_agg's l2: 0.177817 + 0.0379326\n",
      "[300]\tcv_agg's l2: 0.173768 + 0.0422806\n",
      "[400]\tcv_agg's l2: 0.171252 + 0.03974\n"
     ]
    },
    {
     "name": "stderr",
     "output_type": "stream",
     "text": [
      "bagging, val_score: 0.131830:  40%|#####################2                               | 4/10 [00:23<00:34,  5.81s/it][I 2023-11-09 13:24:35,280] Trial 30 finished with value: 0.17168528842018432 and parameters: {'bagging_fraction': 0.4096506927414893, 'bagging_freq': 1}. Best is trial 29 with value: 0.14018665256357504.\n",
      "bagging, val_score: 0.131830:  40%|#####################2                               | 4/10 [00:23<00:34,  5.81s/it]"
     ]
    },
    {
     "name": "stdout",
     "output_type": "stream",
     "text": [
      "Early stopping, best iteration is:\n",
      "[361]\tcv_agg's l2: 0.13183 + 0.0322448\n",
      "[100]\tcv_agg's l2: 0.137655 + 0.0325472\n",
      "[200]\tcv_agg's l2: 0.133329 + 0.0321179\n",
      "[300]\tcv_agg's l2: 0.132409 + 0.0313801\n",
      "[400]\tcv_agg's l2: 0.13216 + 0.0310569\n"
     ]
    },
    {
     "name": "stderr",
     "output_type": "stream",
     "text": [
      "bagging, val_score: 0.131830:  50%|##########################5                          | 5/10 [00:32<00:34,  6.87s/it][I 2023-11-09 13:24:44,035] Trial 31 finished with value: 0.13220264198542248 and parameters: {'bagging_fraction': 0.9959354790167044, 'bagging_freq': 4}. Best is trial 31 with value: 0.13220264198542248.\n",
      "bagging, val_score: 0.131830:  50%|##########################5                          | 5/10 [00:32<00:34,  6.87s/it]"
     ]
    },
    {
     "name": "stdout",
     "output_type": "stream",
     "text": [
      "Early stopping, best iteration is:\n",
      "[361]\tcv_agg's l2: 0.13183 + 0.0322448\n",
      "[100]\tcv_agg's l2: 0.164607 + 0.0350942\n",
      "[200]\tcv_agg's l2: 0.161169 + 0.0344631\n",
      "[300]\tcv_agg's l2: 0.159538 + 0.0336909\n",
      "[400]\tcv_agg's l2: 0.158793 + 0.0323719\n"
     ]
    },
    {
     "name": "stderr",
     "output_type": "stream",
     "text": [
      "bagging, val_score: 0.131830:  60%|###############################8                     | 6/10 [00:38<00:25,  6.43s/it][I 2023-11-09 13:24:49,598] Trial 32 finished with value: 0.15902798315650873 and parameters: {'bagging_fraction': 0.62761259925119, 'bagging_freq': 3}. Best is trial 31 with value: 0.13220264198542248.\n",
      "bagging, val_score: 0.131830:  60%|###############################8                     | 6/10 [00:38<00:25,  6.43s/it]"
     ]
    },
    {
     "name": "stdout",
     "output_type": "stream",
     "text": [
      "Early stopping, best iteration is:\n",
      "[361]\tcv_agg's l2: 0.13183 + 0.0322448\n",
      "[100]\tcv_agg's l2: 0.157612 + 0.029416\n",
      "[200]\tcv_agg's l2: 0.151766 + 0.0305484\n",
      "[300]\tcv_agg's l2: 0.151051 + 0.0297271\n",
      "[400]\tcv_agg's l2: 0.150339 + 0.0294473\n"
     ]
    },
    {
     "name": "stderr",
     "output_type": "stream",
     "text": [
      "bagging, val_score: 0.131830:  70%|#####################################                | 7/10 [00:44<00:19,  6.51s/it][I 2023-11-09 13:24:56,288] Trial 33 finished with value: 0.15063664203755897 and parameters: {'bagging_fraction': 0.7738088301971972, 'bagging_freq': 7}. Best is trial 31 with value: 0.13220264198542248.\n",
      "bagging, val_score: 0.131830:  70%|#####################################                | 7/10 [00:44<00:19,  6.51s/it]"
     ]
    },
    {
     "name": "stdout",
     "output_type": "stream",
     "text": [
      "Early stopping, best iteration is:\n",
      "[361]\tcv_agg's l2: 0.13183 + 0.0322448\n",
      "[100]\tcv_agg's l2: 0.164965 + 0.0354557\n",
      "[200]\tcv_agg's l2: 0.161603 + 0.0319693\n",
      "[300]\tcv_agg's l2: 0.161608 + 0.0315971\n",
      "[400]\tcv_agg's l2: 0.16214 + 0.0330673\n"
     ]
    },
    {
     "name": "stderr",
     "output_type": "stream",
     "text": [
      "bagging, val_score: 0.131830:  80%|##########################################4          | 8/10 [00:50<00:12,  6.25s/it][I 2023-11-09 13:25:01,973] Trial 34 finished with value: 0.1617579959294494 and parameters: {'bagging_fraction': 0.5930505268179449, 'bagging_freq': 3}. Best is trial 31 with value: 0.13220264198542248.\n",
      "bagging, val_score: 0.131830:  80%|##########################################4          | 8/10 [00:50<00:12,  6.25s/it]"
     ]
    },
    {
     "name": "stdout",
     "output_type": "stream",
     "text": [
      "Early stopping, best iteration is:\n",
      "[361]\tcv_agg's l2: 0.13183 + 0.0322448\n",
      "[100]\tcv_agg's l2: 0.139524 + 0.0321089\n",
      "[200]\tcv_agg's l2: 0.132447 + 0.0295642\n",
      "[300]\tcv_agg's l2: 0.132478 + 0.0294711\n",
      "[400]\tcv_agg's l2: 0.132381 + 0.029494\n"
     ]
    },
    {
     "name": "stderr",
     "output_type": "stream",
     "text": [
      "bagging, val_score: 0.131830:  90%|###############################################7     | 9/10 [00:59<00:06,  6.96s/it][I 2023-11-09 13:25:10,481] Trial 35 finished with value: 0.13208633574695355 and parameters: {'bagging_fraction': 0.8424892276474627, 'bagging_freq': 5}. Best is trial 35 with value: 0.13208633574695355.\n",
      "bagging, val_score: 0.131830:  90%|###############################################7     | 9/10 [00:59<00:06,  6.96s/it]"
     ]
    },
    {
     "name": "stdout",
     "output_type": "stream",
     "text": [
      "Early stopping, best iteration is:\n",
      "[361]\tcv_agg's l2: 0.13183 + 0.0322448\n",
      "[100]\tcv_agg's l2: 0.171254 + 0.0314269\n",
      "[200]\tcv_agg's l2: 0.166664 + 0.0302208\n",
      "[300]\tcv_agg's l2: 0.162411 + 0.0308985\n",
      "[400]\tcv_agg's l2: 0.161117 + 0.0291934\n"
     ]
    },
    {
     "name": "stderr",
     "output_type": "stream",
     "text": [
      "bagging, val_score: 0.131830: 100%|####################################################| 10/10 [01:04<00:00,  6.40s/it][I 2023-11-09 13:25:15,650] Trial 36 finished with value: 0.1619050046399295 and parameters: {'bagging_fraction': 0.5476280026405449, 'bagging_freq': 6}. Best is trial 35 with value: 0.13208633574695355.\n",
      "bagging, val_score: 0.131830: 100%|####################################################| 10/10 [01:04<00:00,  6.42s/it]\n"
     ]
    },
    {
     "name": "stdout",
     "output_type": "stream",
     "text": [
      "Early stopping, best iteration is:\n",
      "[361]\tcv_agg's l2: 0.13183 + 0.0322448\n"
     ]
    },
    {
     "name": "stderr",
     "output_type": "stream",
     "text": [
      "feature_fraction_stage2, val_score: 0.131830:   0%|                                              | 0/6 [00:00<?, ?it/s]"
     ]
    },
    {
     "name": "stdout",
     "output_type": "stream",
     "text": [
      "[100]\tcv_agg's l2: 0.149584 + 0.0401624\n",
      "[200]\tcv_agg's l2: 0.14246 + 0.0374796\n",
      "[300]\tcv_agg's l2: 0.1407 + 0.0363591\n",
      "[400]\tcv_agg's l2: 0.140266 + 0.0358344\n"
     ]
    },
    {
     "name": "stderr",
     "output_type": "stream",
     "text": [
      "feature_fraction_stage2, val_score: 0.131830:  17%|######3                               | 1/6 [00:08<00:41,  8.31s/it][I 2023-11-09 13:25:23,966] Trial 37 finished with value: 0.14043333858230816 and parameters: {'feature_fraction': 0.42}. Best is trial 37 with value: 0.14043333858230816.\n",
      "feature_fraction_stage2, val_score: 0.131830:  17%|######3                               | 1/6 [00:08<00:41,  8.31s/it]"
     ]
    },
    {
     "name": "stdout",
     "output_type": "stream",
     "text": [
      "Early stopping, best iteration is:\n",
      "[361]\tcv_agg's l2: 0.13183 + 0.0322448\n",
      "[100]\tcv_agg's l2: 0.136836 + 0.0352008\n",
      "[200]\tcv_agg's l2: 0.130307 + 0.0340637\n",
      "[300]\tcv_agg's l2: 0.12918 + 0.0336656\n",
      "[400]\tcv_agg's l2: 0.128762 + 0.0332093\n"
     ]
    },
    {
     "name": "stderr",
     "output_type": "stream",
     "text": [
      "feature_fraction_stage2, val_score: 0.128618:  33%|############6                         | 2/6 [00:18<00:36,  9.19s/it][I 2023-11-09 13:25:33,774] Trial 38 finished with value: 0.12861751807070648 and parameters: {'feature_fraction': 0.45199999999999996}. Best is trial 38 with value: 0.12861751807070648.\n",
      "feature_fraction_stage2, val_score: 0.128618:  33%|############6                         | 2/6 [00:18<00:36,  9.19s/it]"
     ]
    },
    {
     "name": "stdout",
     "output_type": "stream",
     "text": [
      "Early stopping, best iteration is:\n",
      "[392]\tcv_agg's l2: 0.128618 + 0.0332162\n",
      "[100]\tcv_agg's l2: 0.139594 + 0.036764\n",
      "[200]\tcv_agg's l2: 0.135218 + 0.0359023\n",
      "[300]\tcv_agg's l2: 0.135012 + 0.0348201\n",
      "[400]\tcv_agg's l2: 0.134451 + 0.0344333\n"
     ]
    },
    {
     "name": "stderr",
     "output_type": "stream",
     "text": [
      "feature_fraction_stage2, val_score: 0.128618:  50%|###################                   | 3/6 [00:28<00:29,  9.80s/it][I 2023-11-09 13:25:44,302] Trial 39 finished with value: 0.1344988668331108 and parameters: {'feature_fraction': 0.516}. Best is trial 38 with value: 0.12861751807070648.\n",
      "feature_fraction_stage2, val_score: 0.128618:  50%|###################                   | 3/6 [00:28<00:29,  9.80s/it]"
     ]
    },
    {
     "name": "stdout",
     "output_type": "stream",
     "text": [
      "Early stopping, best iteration is:\n",
      "[392]\tcv_agg's l2: 0.128618 + 0.0332162\n",
      "[100]\tcv_agg's l2: 0.134861 + 0.0332399\n",
      "[200]\tcv_agg's l2: 0.129151 + 0.032795\n",
      "[300]\tcv_agg's l2: 0.128509 + 0.032741\n",
      "[400]\tcv_agg's l2: 0.128516 + 0.0324668\n"
     ]
    },
    {
     "name": "stderr",
     "output_type": "stream",
     "text": [
      "feature_fraction_stage2, val_score: 0.128427:  67%|#########################3            | 4/6 [00:37<00:18,  9.25s/it][I 2023-11-09 13:25:52,712] Trial 40 finished with value: 0.12842651418968704 and parameters: {'feature_fraction': 0.484}. Best is trial 40 with value: 0.12842651418968704.\n",
      "feature_fraction_stage2, val_score: 0.128427:  67%|#########################3            | 4/6 [00:37<00:18,  9.25s/it]"
     ]
    },
    {
     "name": "stdout",
     "output_type": "stream",
     "text": [
      "Early stopping, best iteration is:\n",
      "[394]\tcv_agg's l2: 0.128427 + 0.0324547\n",
      "[100]\tcv_agg's l2: 0.135773 + 0.0329917\n",
      "[200]\tcv_agg's l2: 0.131599 + 0.0314493\n",
      "[300]\tcv_agg's l2: 0.130561 + 0.0309275\n",
      "[400]\tcv_agg's l2: 0.129872 + 0.0307032\n"
     ]
    },
    {
     "name": "stderr",
     "output_type": "stream",
     "text": [
      "feature_fraction_stage2, val_score: 0.128427:  83%|###############################6      | 5/6 [00:45<00:08,  8.98s/it][I 2023-11-09 13:26:01,219] Trial 41 finished with value: 0.1298805424960658 and parameters: {'feature_fraction': 0.5479999999999999}. Best is trial 40 with value: 0.12842651418968704.\n",
      "feature_fraction_stage2, val_score: 0.128427:  83%|###############################6      | 5/6 [00:45<00:08,  8.98s/it]"
     ]
    },
    {
     "name": "stdout",
     "output_type": "stream",
     "text": [
      "Early stopping, best iteration is:\n",
      "[394]\tcv_agg's l2: 0.128427 + 0.0324547\n",
      "[100]\tcv_agg's l2: 0.135194 + 0.0295179\n",
      "[200]\tcv_agg's l2: 0.130332 + 0.0281026\n",
      "[300]\tcv_agg's l2: 0.130237 + 0.0277612\n",
      "[400]\tcv_agg's l2: 0.130113 + 0.0273341\n"
     ]
    },
    {
     "name": "stderr",
     "output_type": "stream",
     "text": [
      "feature_fraction_stage2, val_score: 0.128427: 100%|######################################| 6/6 [00:55<00:00,  9.37s/it][I 2023-11-09 13:26:11,352] Trial 42 finished with value: 0.13009481814555166 and parameters: {'feature_fraction': 0.58}. Best is trial 40 with value: 0.12842651418968704.\n",
      "feature_fraction_stage2, val_score: 0.128427: 100%|######################################| 6/6 [00:55<00:00,  9.28s/it]\n"
     ]
    },
    {
     "name": "stdout",
     "output_type": "stream",
     "text": [
      "Early stopping, best iteration is:\n",
      "[394]\tcv_agg's l2: 0.128427 + 0.0324547\n"
     ]
    },
    {
     "name": "stderr",
     "output_type": "stream",
     "text": [
      "regularization_factors, val_score: 0.128427:   0%|                                              | 0/20 [00:00<?, ?it/s]"
     ]
    },
    {
     "name": "stdout",
     "output_type": "stream",
     "text": [
      "[100]\tcv_agg's l2: 0.134558 + 0.0315773\n",
      "[200]\tcv_agg's l2: 0.128586 + 0.0304366\n",
      "[300]\tcv_agg's l2: 0.126994 + 0.0305176\n",
      "[400]\tcv_agg's l2: 0.126577 + 0.0304747\n",
      "[500]\tcv_agg's l2: 0.126531 + 0.0301637\n"
     ]
    },
    {
     "name": "stderr",
     "output_type": "stream",
     "text": [
      "regularization_factors, val_score: 0.126445:   5%|#9                                    | 1/20 [00:09<03:04,  9.69s/it][I 2023-11-09 13:26:21,052] Trial 43 finished with value: 0.1264449214512952 and parameters: {'lambda_l1': 0.052922006679322724, 'lambda_l2': 1.1494071682794985e-06}. Best is trial 43 with value: 0.1264449214512952.\n",
      "regularization_factors, val_score: 0.126445:   5%|#9                                    | 1/20 [00:09<03:04,  9.69s/it]"
     ]
    },
    {
     "name": "stdout",
     "output_type": "stream",
     "text": [
      "Early stopping, best iteration is:\n",
      "[432]\tcv_agg's l2: 0.126445 + 0.030395\n",
      "[100]\tcv_agg's l2: 0.135547 + 0.0339163\n",
      "[200]\tcv_agg's l2: 0.131 + 0.0332159\n",
      "[300]\tcv_agg's l2: 0.129527 + 0.0328046\n",
      "[400]\tcv_agg's l2: 0.129566 + 0.0325594\n",
      "[500]\tcv_agg's l2: 0.129706 + 0.0324599\n"
     ]
    },
    {
     "name": "stderr",
     "output_type": "stream",
     "text": [
      "regularization_factors, val_score: 0.126445:  10%|###8                                  | 2/20 [00:19<02:50,  9.50s/it][I 2023-11-09 13:26:30,414] Trial 44 finished with value: 0.1295005051267612 and parameters: {'lambda_l1': 0.11287814128535892, 'lambda_l2': 3.72485255245495e-07}. Best is trial 43 with value: 0.1264449214512952.\n",
      "regularization_factors, val_score: 0.126445:  10%|###8                                  | 2/20 [00:19<02:50,  9.50s/it]"
     ]
    },
    {
     "name": "stdout",
     "output_type": "stream",
     "text": [
      "Early stopping, best iteration is:\n",
      "[432]\tcv_agg's l2: 0.126445 + 0.030395\n",
      "[100]\tcv_agg's l2: 0.13343 + 0.0314152\n",
      "[200]\tcv_agg's l2: 0.126709 + 0.0297614\n",
      "[300]\tcv_agg's l2: 0.125689 + 0.0296614\n",
      "[400]\tcv_agg's l2: 0.12558 + 0.0295745\n",
      "[500]\tcv_agg's l2: 0.125267 + 0.0295478\n"
     ]
    },
    {
     "name": "stderr",
     "output_type": "stream",
     "text": [
      "regularization_factors, val_score: 0.125234:  15%|#####7                                | 3/20 [00:29<02:51, 10.10s/it][I 2023-11-09 13:26:41,225] Trial 45 finished with value: 0.12523356408955197 and parameters: {'lambda_l1': 0.053421555697420825, 'lambda_l2': 6.662440528430685e-07}. Best is trial 45 with value: 0.12523356408955197.\n",
      "regularization_factors, val_score: 0.125234:  15%|#####7                                | 3/20 [00:29<02:51, 10.10s/it]"
     ]
    },
    {
     "name": "stdout",
     "output_type": "stream",
     "text": [
      "[600]\tcv_agg's l2: 0.1253 + 0.0295575\n",
      "Early stopping, best iteration is:\n",
      "[503]\tcv_agg's l2: 0.125234 + 0.0295621\n",
      "[100]\tcv_agg's l2: 0.134634 + 0.0332348\n",
      "[200]\tcv_agg's l2: 0.12892 + 0.0315627\n",
      "[300]\tcv_agg's l2: 0.127846 + 0.0307828\n",
      "[400]\tcv_agg's l2: 0.127273 + 0.0300944\n",
      "[500]\tcv_agg's l2: 0.127358 + 0.0300915\n"
     ]
    },
    {
     "name": "stderr",
     "output_type": "stream",
     "text": [
      "regularization_factors, val_score: 0.125234:  20%|#######6                              | 4/20 [00:40<02:47, 10.47s/it][I 2023-11-09 13:26:52,266] Trial 46 finished with value: 0.12734784207953792 and parameters: {'lambda_l1': 0.07039078270916338, 'lambda_l2': 4.657961627851044e-07}. Best is trial 45 with value: 0.12523356408955197.\n",
      "regularization_factors, val_score: 0.125234:  20%|#######6                              | 4/20 [00:40<02:47, 10.47s/it]"
     ]
    },
    {
     "name": "stdout",
     "output_type": "stream",
     "text": [
      "[600]\tcv_agg's l2: 0.127652 + 0.0300929\n",
      "Early stopping, best iteration is:\n",
      "[503]\tcv_agg's l2: 0.125234 + 0.0295621\n",
      "[100]\tcv_agg's l2: 0.136203 + 0.0347032\n",
      "[200]\tcv_agg's l2: 0.131988 + 0.0349861\n",
      "[300]\tcv_agg's l2: 0.130321 + 0.0340569\n",
      "[400]\tcv_agg's l2: 0.130308 + 0.0338142\n",
      "[500]\tcv_agg's l2: 0.130471 + 0.0338251\n"
     ]
    },
    {
     "name": "stderr",
     "output_type": "stream",
     "text": [
      "regularization_factors, val_score: 0.125234:  25%|#########5                            | 5/20 [00:51<02:37, 10.51s/it][I 2023-11-09 13:27:02,839] Trial 47 finished with value: 0.1304242271494188 and parameters: {'lambda_l1': 0.07991565400149502, 'lambda_l2': 8.438649738501234e-07}. Best is trial 45 with value: 0.12523356408955197.\n",
      "regularization_factors, val_score: 0.125234:  25%|#########5                            | 5/20 [00:51<02:37, 10.51s/it]"
     ]
    },
    {
     "name": "stdout",
     "output_type": "stream",
     "text": [
      "[600]\tcv_agg's l2: 0.13048 + 0.0337153\n",
      "Early stopping, best iteration is:\n",
      "[503]\tcv_agg's l2: 0.125234 + 0.0295621\n",
      "[100]\tcv_agg's l2: 0.134212 + 0.0339679\n",
      "[200]\tcv_agg's l2: 0.129959 + 0.0319736\n",
      "[300]\tcv_agg's l2: 0.128631 + 0.0308676\n",
      "[400]\tcv_agg's l2: 0.128183 + 0.0302379\n",
      "[500]\tcv_agg's l2: 0.128109 + 0.0300427\n"
     ]
    },
    {
     "name": "stderr",
     "output_type": "stream",
     "text": [
      "regularization_factors, val_score: 0.125234:  30%|###########4                          | 6/20 [01:02<02:31, 10.79s/it][I 2023-11-09 13:27:14,180] Trial 48 finished with value: 0.12809146413085662 and parameters: {'lambda_l1': 0.03359848286261799, 'lambda_l2': 7.810281905158145e-07}. Best is trial 45 with value: 0.12523356408955197.\n",
      "regularization_factors, val_score: 0.125234:  30%|###########4                          | 6/20 [01:02<02:31, 10.79s/it]"
     ]
    },
    {
     "name": "stdout",
     "output_type": "stream",
     "text": [
      "[600]\tcv_agg's l2: 0.128035 + 0.029979\n",
      "Early stopping, best iteration is:\n",
      "[503]\tcv_agg's l2: 0.125234 + 0.0295621\n",
      "[100]\tcv_agg's l2: 0.132856 + 0.0306147\n",
      "[200]\tcv_agg's l2: 0.12762 + 0.0298933\n",
      "[300]\tcv_agg's l2: 0.126086 + 0.0294302\n",
      "[400]\tcv_agg's l2: 0.125949 + 0.0293031\n",
      "[500]\tcv_agg's l2: 0.126002 + 0.0294502\n"
     ]
    },
    {
     "name": "stderr",
     "output_type": "stream",
     "text": [
      "regularization_factors, val_score: 0.125234:  35%|#############3                        | 7/20 [01:14<02:22, 10.93s/it][I 2023-11-09 13:27:25,406] Trial 49 finished with value: 0.1259783977131756 and parameters: {'lambda_l1': 0.03962180196028962, 'lambda_l2': 7.216186981807137e-07}. Best is trial 45 with value: 0.12523356408955197.\n",
      "regularization_factors, val_score: 0.125234:  35%|#############3                        | 7/20 [01:14<02:22, 10.93s/it]"
     ]
    },
    {
     "name": "stdout",
     "output_type": "stream",
     "text": [
      "[600]\tcv_agg's l2: 0.12598 + 0.0294101\n",
      "Early stopping, best iteration is:\n",
      "[503]\tcv_agg's l2: 0.125234 + 0.0295621\n",
      "[100]\tcv_agg's l2: 0.132234 + 0.0339537\n",
      "[200]\tcv_agg's l2: 0.127783 + 0.0324671\n",
      "[300]\tcv_agg's l2: 0.126396 + 0.0318458\n",
      "[400]\tcv_agg's l2: 0.126073 + 0.0317944\n",
      "[500]\tcv_agg's l2: 0.125813 + 0.0317389\n"
     ]
    },
    {
     "name": "stderr",
     "output_type": "stream",
     "text": [
      "regularization_factors, val_score: 0.125234:  40%|###############2                      | 8/20 [01:24<02:09, 10.81s/it][I 2023-11-09 13:27:35,940] Trial 50 finished with value: 0.12576264239698937 and parameters: {'lambda_l1': 0.04436384545661029, 'lambda_l2': 1.0064005627724571e-06}. Best is trial 45 with value: 0.12523356408955197.\n",
      "regularization_factors, val_score: 0.125234:  40%|###############2                      | 8/20 [01:24<02:09, 10.81s/it]"
     ]
    },
    {
     "name": "stdout",
     "output_type": "stream",
     "text": [
      "[600]\tcv_agg's l2: 0.125864 + 0.0315711\n",
      "Early stopping, best iteration is:\n",
      "[503]\tcv_agg's l2: 0.125234 + 0.0295621\n",
      "[100]\tcv_agg's l2: 0.13342 + 0.0307867\n",
      "[200]\tcv_agg's l2: 0.127973 + 0.0308202\n",
      "[300]\tcv_agg's l2: 0.1271 + 0.030934\n",
      "[400]\tcv_agg's l2: 0.126482 + 0.030591\n",
      "[500]\tcv_agg's l2: 0.126393 + 0.0305146\n"
     ]
    },
    {
     "name": "stderr",
     "output_type": "stream",
     "text": [
      "regularization_factors, val_score: 0.125234:  45%|#################1                    | 9/20 [01:35<01:58, 10.76s/it][I 2023-11-09 13:27:46,597] Trial 51 finished with value: 0.1263420563923167 and parameters: {'lambda_l1': 0.05480944270331732, 'lambda_l2': 6.325474236804032e-07}. Best is trial 45 with value: 0.12523356408955197.\n",
      "regularization_factors, val_score: 0.125234:  45%|#################1                    | 9/20 [01:35<01:58, 10.76s/it]"
     ]
    },
    {
     "name": "stdout",
     "output_type": "stream",
     "text": [
      "[600]\tcv_agg's l2: 0.126385 + 0.0303693\n",
      "Early stopping, best iteration is:\n",
      "[503]\tcv_agg's l2: 0.125234 + 0.0295621\n",
      "[100]\tcv_agg's l2: 0.133082 + 0.0305192\n",
      "[200]\tcv_agg's l2: 0.128453 + 0.029976\n",
      "[300]\tcv_agg's l2: 0.12751 + 0.0297663\n",
      "[400]\tcv_agg's l2: 0.127196 + 0.0293761\n",
      "[500]\tcv_agg's l2: 0.127092 + 0.0291191\n"
     ]
    },
    {
     "name": "stderr",
     "output_type": "stream",
     "text": [
      "regularization_factors, val_score: 0.125234:  50%|##################5                  | 10/20 [01:46<01:49, 10.93s/it][I 2023-11-09 13:27:57,897] Trial 52 finished with value: 0.12708597189192034 and parameters: {'lambda_l1': 0.05140671660432089, 'lambda_l2': 8.861705670028457e-07}. Best is trial 45 with value: 0.12523356408955197.\n",
      "regularization_factors, val_score: 0.125234:  50%|##################5                  | 10/20 [01:46<01:49, 10.93s/it]"
     ]
    },
    {
     "name": "stdout",
     "output_type": "stream",
     "text": [
      "[600]\tcv_agg's l2: 0.127161 + 0.028976\n",
      "Early stopping, best iteration is:\n",
      "[503]\tcv_agg's l2: 0.125234 + 0.0295621\n",
      "[100]\tcv_agg's l2: 0.135615 + 0.0316497\n",
      "[200]\tcv_agg's l2: 0.129772 + 0.0309313\n",
      "[300]\tcv_agg's l2: 0.129062 + 0.0312252\n",
      "[400]\tcv_agg's l2: 0.128719 + 0.0308332\n",
      "[500]\tcv_agg's l2: 0.128642 + 0.0305418\n"
     ]
    },
    {
     "name": "stderr",
     "output_type": "stream",
     "text": [
      "regularization_factors, val_score: 0.125234:  55%|####################3                | 11/20 [01:58<01:40, 11.12s/it][I 2023-11-09 13:28:09,450] Trial 53 finished with value: 0.1286448208461458 and parameters: {'lambda_l1': 0.02538665821595342, 'lambda_l2': 1.3269420480640935e-06}. Best is trial 45 with value: 0.12523356408955197.\n",
      "regularization_factors, val_score: 0.125234:  55%|####################3                | 11/20 [01:58<01:40, 11.12s/it]"
     ]
    },
    {
     "name": "stdout",
     "output_type": "stream",
     "text": [
      "[600]\tcv_agg's l2: 0.128557 + 0.0303716\n",
      "Early stopping, best iteration is:\n",
      "[503]\tcv_agg's l2: 0.125234 + 0.0295621\n",
      "[100]\tcv_agg's l2: 0.134034 + 0.0323946\n",
      "[200]\tcv_agg's l2: 0.129394 + 0.0326238\n",
      "[300]\tcv_agg's l2: 0.12865 + 0.0325399\n",
      "[400]\tcv_agg's l2: 0.128025 + 0.0322962\n",
      "[500]\tcv_agg's l2: 0.128201 + 0.0323134\n"
     ]
    },
    {
     "name": "stderr",
     "output_type": "stream",
     "text": [
      "regularization_factors, val_score: 0.125234:  60%|######################2              | 12/20 [02:05<01:20, 10.00s/it][I 2023-11-09 13:28:16,900] Trial 54 finished with value: 0.1281535066967472 and parameters: {'lambda_l1': 0.04477462166772501, 'lambda_l2': 1.1999883875414115e-06}. Best is trial 45 with value: 0.12523356408955197.\n",
      "regularization_factors, val_score: 0.125234:  60%|######################2              | 12/20 [02:05<01:20, 10.00s/it]"
     ]
    },
    {
     "name": "stdout",
     "output_type": "stream",
     "text": [
      "[600]\tcv_agg's l2: 0.128092 + 0.032234\n",
      "Early stopping, best iteration is:\n",
      "[503]\tcv_agg's l2: 0.125234 + 0.0295621\n",
      "[100]\tcv_agg's l2: 0.133823 + 0.0312971\n",
      "[200]\tcv_agg's l2: 0.12926 + 0.0308719\n",
      "[300]\tcv_agg's l2: 0.127726 + 0.029855\n",
      "[400]\tcv_agg's l2: 0.127287 + 0.0296834\n",
      "[500]\tcv_agg's l2: 0.127443 + 0.0295246\n"
     ]
    },
    {
     "name": "stderr",
     "output_type": "stream",
     "text": [
      "regularization_factors, val_score: 0.125234:  65%|########################             | 13/20 [02:14<01:07,  9.64s/it][I 2023-11-09 13:28:25,722] Trial 55 finished with value: 0.12745615471988708 and parameters: {'lambda_l1': 0.003032957879138292, 'lambda_l2': 1.4064712871614655e-05}. Best is trial 45 with value: 0.12523356408955197.\n",
      "regularization_factors, val_score: 0.125234:  65%|########################             | 13/20 [02:14<01:07,  9.64s/it]"
     ]
    },
    {
     "name": "stdout",
     "output_type": "stream",
     "text": [
      "[600]\tcv_agg's l2: 0.127579 + 0.0295352\n",
      "Early stopping, best iteration is:\n",
      "[503]\tcv_agg's l2: 0.125234 + 0.0295621\n",
      "[100]\tcv_agg's l2: 0.180308 + 0.0339701\n",
      "[200]\tcv_agg's l2: 0.177571 + 0.034118\n",
      "[300]\tcv_agg's l2: 0.177571 + 0.0341181\n",
      "[400]\tcv_agg's l2: 0.177571 + 0.0341181\n",
      "[500]\tcv_agg's l2: 0.177571 + 0.0341181\n"
     ]
    },
    {
     "name": "stderr",
     "output_type": "stream",
     "text": [
      "regularization_factors, val_score: 0.125234:  70%|#########################9           | 14/20 [02:16<00:43,  7.31s/it][I 2023-11-09 13:28:27,639] Trial 56 finished with value: 0.17757117008824289 and parameters: {'lambda_l1': 5.412450797938653, 'lambda_l2': 2.38909240083412e-08}. Best is trial 45 with value: 0.12523356408955197.\n",
      "regularization_factors, val_score: 0.125234:  70%|#########################9           | 14/20 [02:16<00:43,  7.31s/it]"
     ]
    },
    {
     "name": "stdout",
     "output_type": "stream",
     "text": [
      "[600]\tcv_agg's l2: 0.177571 + 0.0341181\n",
      "Early stopping, best iteration is:\n",
      "[503]\tcv_agg's l2: 0.125234 + 0.0295621\n",
      "[100]\tcv_agg's l2: 0.132024 + 0.0314772\n",
      "[200]\tcv_agg's l2: 0.12748 + 0.030742\n",
      "[300]\tcv_agg's l2: 0.125983 + 0.0302791\n",
      "[400]\tcv_agg's l2: 0.125626 + 0.0302292\n",
      "[500]\tcv_agg's l2: 0.125613 + 0.0299943\n"
     ]
    },
    {
     "name": "stderr",
     "output_type": "stream",
     "text": [
      "regularization_factors, val_score: 0.125234:  75%|###########################7         | 15/20 [02:24<00:37,  7.52s/it][I 2023-11-09 13:28:35,649] Trial 57 finished with value: 0.12562925811057107 and parameters: {'lambda_l1': 1.0414245846075492e-05, 'lambda_l2': 0.002780780256740491}. Best is trial 45 with value: 0.12523356408955197.\n",
      "regularization_factors, val_score: 0.125234:  75%|###########################7         | 15/20 [02:24<00:37,  7.52s/it]"
     ]
    },
    {
     "name": "stdout",
     "output_type": "stream",
     "text": [
      "[600]\tcv_agg's l2: 0.125689 + 0.0298993\n",
      "Early stopping, best iteration is:\n",
      "[503]\tcv_agg's l2: 0.125234 + 0.0295621\n",
      "[100]\tcv_agg's l2: 0.135253 + 0.0335738\n",
      "[200]\tcv_agg's l2: 0.13073 + 0.0333812\n",
      "[300]\tcv_agg's l2: 0.129844 + 0.0327097\n",
      "[400]\tcv_agg's l2: 0.129646 + 0.0322715\n",
      "[500]\tcv_agg's l2: 0.129465 + 0.0319653\n"
     ]
    },
    {
     "name": "stderr",
     "output_type": "stream",
     "text": [
      "regularization_factors, val_score: 0.125234:  80%|#############################6       | 16/20 [02:32<00:30,  7.71s/it][I 2023-11-09 13:28:43,789] Trial 58 finished with value: 0.12945062828363402 and parameters: {'lambda_l1': 9.529777872842177e-06, 'lambda_l2': 0.004925147283543738}. Best is trial 45 with value: 0.12523356408955197.\n",
      "regularization_factors, val_score: 0.125234:  80%|#############################6       | 16/20 [02:32<00:30,  7.71s/it]"
     ]
    },
    {
     "name": "stdout",
     "output_type": "stream",
     "text": [
      "[600]\tcv_agg's l2: 0.129481 + 0.0320106\n",
      "Early stopping, best iteration is:\n",
      "[503]\tcv_agg's l2: 0.125234 + 0.0295621\n",
      "[100]\tcv_agg's l2: 0.133899 + 0.0333683\n",
      "[200]\tcv_agg's l2: 0.12945 + 0.0326715\n",
      "[300]\tcv_agg's l2: 0.12865 + 0.0322301\n",
      "[400]\tcv_agg's l2: 0.128479 + 0.0321218\n",
      "[500]\tcv_agg's l2: 0.128533 + 0.0318642\n"
     ]
    },
    {
     "name": "stderr",
     "output_type": "stream",
     "text": [
      "regularization_factors, val_score: 0.125234:  85%|###############################4     | 17/20 [02:40<00:23,  7.80s/it][I 2023-11-09 13:28:51,800] Trial 59 finished with value: 0.1285397569013522 and parameters: {'lambda_l1': 2.1603667936859288e-05, 'lambda_l2': 0.00012288070877579775}. Best is trial 45 with value: 0.12523356408955197.\n",
      "regularization_factors, val_score: 0.125234:  85%|###############################4     | 17/20 [02:40<00:23,  7.80s/it]"
     ]
    },
    {
     "name": "stdout",
     "output_type": "stream",
     "text": [
      "[600]\tcv_agg's l2: 0.128633 + 0.0318555\n",
      "Early stopping, best iteration is:\n",
      "[503]\tcv_agg's l2: 0.125234 + 0.0295621\n",
      "[100]\tcv_agg's l2: 0.135239 + 0.0338319\n",
      "[200]\tcv_agg's l2: 0.131027 + 0.0326699\n",
      "[300]\tcv_agg's l2: 0.129698 + 0.0317234\n",
      "[400]\tcv_agg's l2: 0.129262 + 0.0317147\n",
      "[500]\tcv_agg's l2: 0.129122 + 0.0316684\n"
     ]
    },
    {
     "name": "stderr",
     "output_type": "stream",
     "text": [
      "regularization_factors, val_score: 0.125234:  90%|#################################3   | 18/20 [02:48<00:15,  7.82s/it][I 2023-11-09 13:28:59,659] Trial 60 finished with value: 0.12914420458153247 and parameters: {'lambda_l1': 0.0004818162241980814, 'lambda_l2': 0.07566404180125677}. Best is trial 45 with value: 0.12523356408955197.\n",
      "regularization_factors, val_score: 0.125234:  90%|#################################3   | 18/20 [02:48<00:15,  7.82s/it]"
     ]
    },
    {
     "name": "stdout",
     "output_type": "stream",
     "text": [
      "[600]\tcv_agg's l2: 0.12922 + 0.0316841\n",
      "Early stopping, best iteration is:\n",
      "[503]\tcv_agg's l2: 0.125234 + 0.0295621\n",
      "[100]\tcv_agg's l2: 0.134863 + 0.0332388\n",
      "[200]\tcv_agg's l2: 0.129463 + 0.0325955\n",
      "[300]\tcv_agg's l2: 0.128708 + 0.0326121\n",
      "[400]\tcv_agg's l2: 0.1287 + 0.032346\n",
      "[500]\tcv_agg's l2: 0.128735 + 0.0323727\n"
     ]
    },
    {
     "name": "stderr",
     "output_type": "stream",
     "text": [
      "regularization_factors, val_score: 0.125234:  95%|###################################1 | 19/20 [02:56<00:08,  8.06s/it][I 2023-11-09 13:29:08,293] Trial 61 finished with value: 0.12871879658237978 and parameters: {'lambda_l1': 6.323545382369508e-07, 'lambda_l2': 1.1656982619973005e-05}. Best is trial 45 with value: 0.12523356408955197.\n",
      "regularization_factors, val_score: 0.125234:  95%|###################################1 | 19/20 [02:56<00:08,  8.06s/it]"
     ]
    },
    {
     "name": "stdout",
     "output_type": "stream",
     "text": [
      "[600]\tcv_agg's l2: 0.128791 + 0.0323479\n",
      "Early stopping, best iteration is:\n",
      "[503]\tcv_agg's l2: 0.125234 + 0.0295621\n",
      "[100]\tcv_agg's l2: 0.145578 + 0.0341099\n",
      "[200]\tcv_agg's l2: 0.138677 + 0.0328975\n",
      "[300]\tcv_agg's l2: 0.137683 + 0.0325739\n",
      "[400]\tcv_agg's l2: 0.137687 + 0.0325683\n",
      "[500]\tcv_agg's l2: 0.137687 + 0.0325683\n"
     ]
    },
    {
     "name": "stderr",
     "output_type": "stream",
     "text": [
      "regularization_factors, val_score: 0.125234: 100%|#####################################| 20/20 [03:00<00:00,  6.72s/it][I 2023-11-09 13:29:11,895] Trial 62 finished with value: 0.13768665285418366 and parameters: {'lambda_l1': 0.6881904385280173, 'lambda_l2': 4.482478679866987e-08}. Best is trial 45 with value: 0.12523356408955197.\n",
      "regularization_factors, val_score: 0.125234: 100%|#####################################| 20/20 [03:00<00:00,  9.03s/it]\n"
     ]
    },
    {
     "name": "stdout",
     "output_type": "stream",
     "text": [
      "[600]\tcv_agg's l2: 0.137687 + 0.0325681\n",
      "Early stopping, best iteration is:\n",
      "[503]\tcv_agg's l2: 0.125234 + 0.0295621\n"
     ]
    },
    {
     "name": "stderr",
     "output_type": "stream",
     "text": [
      "min_data_in_leaf, val_score: 0.125234:   0%|                                                     | 0/5 [00:00<?, ?it/s]"
     ]
    },
    {
     "name": "stdout",
     "output_type": "stream",
     "text": [
      "[100]\tcv_agg's l2: 0.219812 + 0.0403836\n",
      "[200]\tcv_agg's l2: 0.205244 + 0.037536\n",
      "[300]\tcv_agg's l2: 0.200599 + 0.0383038\n",
      "[400]\tcv_agg's l2: 0.200013 + 0.0398262\n",
      "[500]\tcv_agg's l2: 0.201742 + 0.0424438\n"
     ]
    },
    {
     "name": "stderr",
     "output_type": "stream",
     "text": [
      "min_data_in_leaf, val_score: 0.125234:  20%|#########                                    | 1/5 [00:05<00:21,  5.47s/it][I 2023-11-09 13:29:17,374] Trial 63 finished with value: 0.201770323691514 and parameters: {'min_child_samples': 50}. Best is trial 63 with value: 0.201770323691514.\n",
      "min_data_in_leaf, val_score: 0.125234:  20%|#########                                    | 1/5 [00:05<00:21,  5.47s/it]"
     ]
    },
    {
     "name": "stdout",
     "output_type": "stream",
     "text": [
      "[600]\tcv_agg's l2: 0.202545 + 0.0436198\n",
      "Early stopping, best iteration is:\n",
      "[503]\tcv_agg's l2: 0.125234 + 0.0295621\n",
      "[100]\tcv_agg's l2: 0.156867 + 0.0378976\n",
      "[200]\tcv_agg's l2: 0.149276 + 0.0363383\n",
      "[300]\tcv_agg's l2: 0.147458 + 0.0349057\n",
      "[400]\tcv_agg's l2: 0.14731 + 0.0348772\n",
      "[500]\tcv_agg's l2: 0.146914 + 0.0344485\n"
     ]
    },
    {
     "name": "stderr",
     "output_type": "stream",
     "text": [
      "min_data_in_leaf, val_score: 0.125234:  40%|##################                           | 2/5 [00:09<00:13,  4.64s/it][I 2023-11-09 13:29:21,433] Trial 64 finished with value: 0.14695038356252868 and parameters: {'min_child_samples': 25}. Best is trial 64 with value: 0.14695038356252868.\n",
      "min_data_in_leaf, val_score: 0.125234:  40%|##################                           | 2/5 [00:09<00:13,  4.64s/it]"
     ]
    },
    {
     "name": "stdout",
     "output_type": "stream",
     "text": [
      "[600]\tcv_agg's l2: 0.146992 + 0.0341297\n",
      "Early stopping, best iteration is:\n",
      "[503]\tcv_agg's l2: 0.125234 + 0.0295621\n",
      "[100]\tcv_agg's l2: 0.721724 + 0.104137\n",
      "[200]\tcv_agg's l2: 0.687613 + 0.116381\n",
      "[300]\tcv_agg's l2: 0.669874 + 0.124419\n",
      "[400]\tcv_agg's l2: 0.662813 + 0.12842\n",
      "[500]\tcv_agg's l2: 0.65472 + 0.128882\n"
     ]
    },
    {
     "name": "stderr",
     "output_type": "stream",
     "text": [
      "min_data_in_leaf, val_score: 0.125234:  60%|###########################                  | 3/5 [00:11<00:06,  3.28s/it][I 2023-11-09 13:29:23,085] Trial 65 finished with value: 0.6549334528359063 and parameters: {'min_child_samples': 100}. Best is trial 64 with value: 0.14695038356252868.\n",
      "min_data_in_leaf, val_score: 0.125234:  60%|###########################                  | 3/5 [00:11<00:06,  3.28s/it]"
     ]
    },
    {
     "name": "stdout",
     "output_type": "stream",
     "text": [
      "[600]\tcv_agg's l2: 0.648128 + 0.126\n",
      "Early stopping, best iteration is:\n",
      "[503]\tcv_agg's l2: 0.125234 + 0.0295621\n",
      "[100]\tcv_agg's l2: 0.129834 + 0.0309499\n",
      "[200]\tcv_agg's l2: 0.128099 + 0.0307919\n",
      "[300]\tcv_agg's l2: 0.127692 + 0.0307978\n",
      "[400]\tcv_agg's l2: 0.127666 + 0.0307965\n",
      "[500]\tcv_agg's l2: 0.127666 + 0.0307965\n"
     ]
    },
    {
     "name": "stderr",
     "output_type": "stream",
     "text": [
      "min_data_in_leaf, val_score: 0.125234:  80%|####################################         | 4/5 [00:14<00:03,  3.32s/it][I 2023-11-09 13:29:26,463] Trial 66 finished with value: 0.1276657380632717 and parameters: {'min_child_samples': 5}. Best is trial 66 with value: 0.1276657380632717.\n",
      "min_data_in_leaf, val_score: 0.125234:  80%|####################################         | 4/5 [00:14<00:03,  3.32s/it]"
     ]
    },
    {
     "name": "stdout",
     "output_type": "stream",
     "text": [
      "[600]\tcv_agg's l2: 0.127666 + 0.0307965\n",
      "Early stopping, best iteration is:\n",
      "[503]\tcv_agg's l2: 0.125234 + 0.0295621\n",
      "[100]\tcv_agg's l2: 0.124775 + 0.0283734\n",
      "[200]\tcv_agg's l2: 0.122819 + 0.0279723\n",
      "[300]\tcv_agg's l2: 0.122086 + 0.0280726\n",
      "[400]\tcv_agg's l2: 0.121806 + 0.0281948\n"
     ]
    },
    {
     "name": "stderr",
     "output_type": "stream",
     "text": [
      "\r",
      "min_data_in_leaf, val_score: 0.121731:  80%|####################################         | 4/5 [00:18<00:03,  3.32s/it]"
     ]
    },
    {
     "name": "stdout",
     "output_type": "stream",
     "text": [
      "[500]\tcv_agg's l2: 0.121732 + 0.0282138\n",
      "[600]\tcv_agg's l2: 0.121731 + 0.0282155\n",
      "Early stopping, best iteration is:\n",
      "[512]\tcv_agg's l2: 0.121731 + 0.0282157\n"
     ]
    },
    {
     "name": "stderr",
     "output_type": "stream",
     "text": [
      "min_data_in_leaf, val_score: 0.121731: 100%|#############################################| 5/5 [00:18<00:00,  3.47s/it][I 2023-11-09 13:29:30,204] Trial 67 finished with value: 0.12173054771100822 and parameters: {'min_child_samples': 10}. Best is trial 67 with value: 0.12173054771100822.\n",
      "min_data_in_leaf, val_score: 0.121731: 100%|#############################################| 5/5 [00:18<00:00,  3.66s/it]\n"
     ]
    }
   ],
   "source": [
    "import optuna.integration.lightgbm as lgb\n",
    "from lightgbm import early_stopping, log_evaluation\n",
    "from sklearn.model_selection import KFold\n",
    "from sklearn.model_selection import RepeatedKFold\n",
    "\n",
    "\n",
    "lgb_train = lgb.Dataset(X_train, y_train)\n",
    "\n",
    "params = {\n",
    "    \"boosting_type\": \"gbdt\",\n",
    "    \"objective\": \"regression\",\n",
    "    \"metric\": \"l2\",\n",
    "    \"verbosity\": -1,\n",
    "}\n",
    "\n",
    "tuner = lgb.LightGBMTunerCV(\n",
    "    params,\n",
    "    lgb_train,\n",
    "    folds=KFold(n_splits=5),\n",
    "    num_boost_round=10000,\n",
    "    callbacks=[early_stopping(100), log_evaluation(100)],\n",
    ")\n",
    "\n",
    "tuner.run()"
   ]
  },
  {
   "cell_type": "code",
   "execution_count": 23,
   "id": "d9ab9a30",
   "metadata": {},
   "outputs": [
    {
     "name": "stdout",
     "output_type": "stream",
     "text": [
      "Best score: 0.12173054771100822\n",
      "Params: \n",
      "    boosting_type: gbdt\n",
      "    objective: regression\n",
      "    metric: l2\n",
      "    verbosity: -1\n",
      "    feature_pre_filter: False\n",
      "    lambda_l1: 0.053421555697420825\n",
      "    lambda_l2: 6.662440528430685e-07\n",
      "    num_leaves: 31\n",
      "    feature_fraction: 0.484\n",
      "    bagging_fraction: 1.0\n",
      "    bagging_freq: 0\n",
      "    min_child_samples: 10\n"
     ]
    }
   ],
   "source": [
    "print(f\"Best score: {tuner.best_score}\")\n",
    "best_params = tuner.best_params\n",
    "print(\"Params: \")\n",
    "for key, value in best_params.items():\n",
    "    print(\"    {}: {}\".format(key, value))"
   ]
  },
  {
   "cell_type": "code",
   "execution_count": 24,
   "id": "0cb62c30",
   "metadata": {},
   "outputs": [],
   "source": [
    "import lightgbm as lgb\n",
    "\n",
    "lgb_tuned = lgb.train(\n",
    "    best_params,\n",
    "    lgb_train,\n",
    "    num_boost_round=10000,\n",
    ")"
   ]
  },
  {
   "cell_type": "code",
   "execution_count": 25,
   "id": "eb6b8188",
   "metadata": {},
   "outputs": [
    {
     "name": "stdout",
     "output_type": "stream",
     "text": [
      "RMSE train: 0.01\n",
      "RMSE test: 0.70\n",
      "MAE test: 0.40\n",
      "\n"
     ]
    }
   ],
   "source": [
    "rmse, mae = assess_regression_model(lgb_tuned, X_train, X_test, y_train, y_test)"
   ]
  },
  {
   "cell_type": "code",
   "execution_count": 26,
   "id": "90047108",
   "metadata": {},
   "outputs": [],
   "source": [
    "results.loc[1] = [\n",
    "    \"chronological\",\n",
    "    \"Optuna\",\n",
    "    \"full\",\n",
    "    rmse,\n",
    "    mae,\n",
    "]"
   ]
  },
  {
   "cell_type": "markdown",
   "id": "b26d94f2",
   "metadata": {},
   "source": [
    "###### MAE by level"
   ]
  },
  {
   "cell_type": "code",
   "execution_count": 27,
   "id": "bb716b92",
   "metadata": {},
   "outputs": [
    {
     "data": {
      "image/png": "[encoded data removed]",
      "text/plain": [
       "<Figure size 1440x576 with 1 Axes>"
      ]
     },
     "metadata": {
      "needs_background": "light"
     },
     "output_type": "display_data"
    }
   ],
   "source": [
    "plot_mae_by_level(\n",
    "    y_test,\n",
    "    y_pred_test,\n",
    "    title=\"MAE by level for tuned LightGBM with full features and chronological split\",\n",
    ")"
   ]
  },
  {
   "cell_type": "code",
   "execution_count": 28,
   "id": "79785820",
   "metadata": {
    "scrolled": false
   },
   "outputs": [
    {
     "name": "stdout",
     "output_type": "stream",
     "text": [
      "Default:\n",
      "RMSE: 0.70\n",
      "\n",
      "Round type: 0.5\n",
      "RMSE: 0.75\n",
      "\n",
      "Round type: 0.33\n",
      "RMSE: 0.70\n",
      "\n",
      "Round type: 0.45\n",
      "RMSE: 0.74\n",
      "\n"
     ]
    }
   ],
   "source": [
    "predict = lgb_tuned.predict(X_test)\n",
    "check_round_predictions([0.5, 0.33, 0.45], y_test, predict)"
   ]
  },
  {
   "cell_type": "code",
   "execution_count": 29,
   "id": "63a9eab9",
   "metadata": {},
   "outputs": [
    {
     "data": {
      "image/png": "[encoded data removed]",
      "text/plain": [
       "<Figure size 720x720 with 2 Axes>"
      ]
     },
     "metadata": {
      "needs_background": "light"
     },
     "output_type": "display_data"
    }
   ],
   "source": [
    "plot_confusion_matrix(\n",
    "    predict,\n",
    "    y_test,\n",
    "    title=\"Confusion matrix for tuned LightGBM with\\nfull features and chronological split\",\n",
    ")"
   ]
  },
  {
   "cell_type": "markdown",
   "id": "a1fa0d3e",
   "metadata": {},
   "source": [
    "## Random split"
   ]
  },
  {
   "cell_type": "code",
   "execution_count": 30,
   "id": "69148859",
   "metadata": {},
   "outputs": [
    {
     "name": "stdout",
     "output_type": "stream",
     "text": [
      "[LightGBM] [Warning] Auto-choosing row-wise multi-threading, the overhead of testing was 0.000640 seconds.\n",
      "You can set `force_row_wise=true` to remove the overhead.\n",
      "And if memory is not enough, you can set `force_col_wise=true`.\n",
      "[LightGBM] [Info] Total Bins 804\n",
      "[LightGBM] [Info] Number of data points in the train set: 904, number of used features: 48\n",
      "[LightGBM] [Info] Start training from score 7.162611\n",
      "Training until validation scores don't improve for 5 rounds\n",
      "Early stopping, best iteration is:\n",
      "[75]\tvalid_0's l1: 0.246737\tvalid_0's l2: 0.1379\n"
     ]
    }
   ],
   "source": [
    "import lightgbm as lgb\n",
    "from sklearn.metrics import mean_squared_error\n",
    "\n",
    "lgb_train = lgb.Dataset(X_train_random_split, y_train_random_split)\n",
    "lgb_eval = lgb.Dataset(X_test_random_split, y_test_random_split, reference=lgb_train)\n",
    "\n",
    "params = {\n",
    "    \"boosting_type\": \"gbdt\",\n",
    "    \"objective\": \"regression\",\n",
    "    \"metric\": {\"l2\", \"l1\"},\n",
    "}\n",
    "\n",
    "gbm = lgb.train(\n",
    "    params,\n",
    "    lgb_train,\n",
    "    num_boost_round=100,\n",
    "    valid_sets=lgb_eval,\n",
    "    callbacks=[lgb.early_stopping(stopping_rounds=5)],\n",
    ")"
   ]
  },
  {
   "cell_type": "code",
   "execution_count": 31,
   "id": "792899a7",
   "metadata": {},
   "outputs": [],
   "source": [
    "y_pred_train = gbm.predict(X_train_random_split, num_iteration=gbm.best_iteration)\n",
    "y_pred_test = gbm.predict(X_test_random_split, num_iteration=gbm.best_iteration)"
   ]
  },
  {
   "cell_type": "code",
   "execution_count": 32,
   "id": "92e8b92d",
   "metadata": {},
   "outputs": [
    {
     "name": "stdout",
     "output_type": "stream",
     "text": [
      "RMSE: 0.37\n",
      "MAE: 0.25\n"
     ]
    }
   ],
   "source": [
    "from sklearn.metrics import mean_squared_error, mean_absolute_error\n",
    "\n",
    "\n",
    "rmse = mean_squared_error(y_test_random_split, y_pred_test, squared=False)\n",
    "mae = mean_absolute_error(y_test_random_split, y_pred_test)\n",
    "\n",
    "print(f\"RMSE: {rmse:.2f}\")\n",
    "print(f\"MAE: {mae:.2f}\")"
   ]
  },
  {
   "cell_type": "code",
   "execution_count": 33,
   "id": "e9b9f08d",
   "metadata": {},
   "outputs": [],
   "source": [
    "results.loc[2] = [\"random\", \"default\", \"full\", rmse, mae]"
   ]
  },
  {
   "cell_type": "markdown",
   "id": "e2f3fc5d",
   "metadata": {},
   "source": [
    "###### MAE by level"
   ]
  },
  {
   "cell_type": "code",
   "execution_count": 34,
   "id": "591c040e",
   "metadata": {},
   "outputs": [
    {
     "data": {
      "image/png": "[encoded data removed]",
      "text/plain": [
       "<Figure size 1440x576 with 1 Axes>"
      ]
     },
     "metadata": {
      "needs_background": "light"
     },
     "output_type": "display_data"
    }
   ],
   "source": [
    "plot_mae_by_level(\n",
    "    y_test_random_split,\n",
    "    y_pred_test,\n",
    "    title=\"MAE by level for default LightGBM with full features and random split\",\n",
    ")"
   ]
  },
  {
   "cell_type": "code",
   "execution_count": 35,
   "id": "2122d102",
   "metadata": {
    "scrolled": true
   },
   "outputs": [
    {
     "name": "stdout",
     "output_type": "stream",
     "text": [
      "Default:\n",
      "RMSE: 0.37\n",
      "\n",
      "Round type: 0.5\n",
      "RMSE: 0.38\n",
      "\n",
      "Round type: 0.33\n",
      "RMSE: 0.43\n",
      "\n",
      "Round type: 0.45\n",
      "RMSE: 0.38\n",
      "\n"
     ]
    }
   ],
   "source": [
    "check_round_predictions([0.5, 0.33, 0.45], y_test_random_split, y_pred_test)"
   ]
  },
  {
   "cell_type": "code",
   "execution_count": 36,
   "id": "3b4c77ab",
   "metadata": {},
   "outputs": [
    {
     "data": {
      "image/png": "[encoded data removed]",
      "text/plain": [
       "<Figure size 720x720 with 2 Axes>"
      ]
     },
     "metadata": {
      "needs_background": "light"
     },
     "output_type": "display_data"
    }
   ],
   "source": [
    "plot_confusion_matrix(\n",
    "    y_pred_test,\n",
    "    y_test_random_split,\n",
    "    title=\"Confusion matrix for default LightGBM with\\nfull features and random split\",\n",
    ")"
   ]
  },
  {
   "cell_type": "markdown",
   "id": "295f8eff",
   "metadata": {},
   "source": [
    "### Tuning"
   ]
  },
  {
   "cell_type": "code",
   "execution_count": 37,
   "id": "14fca15b",
   "metadata": {},
   "outputs": [
    {
     "name": "stderr",
     "output_type": "stream",
     "text": [
      "[I 2023-11-09 13:29:37,647] A new study created in memory with name: no-name-738568c1-16c7-452f-8742-f187451ebde9\n",
      "feature_fraction, val_score: inf:   0%|                                                          | 0/7 [00:00<?, ?it/s]"
     ]
    },
    {
     "name": "stdout",
     "output_type": "stream",
     "text": [
      "Training until validation scores don't improve for 100 rounds\n",
      "[100]\tcv_agg's l2: 0.150894 + 0.0457215\n",
      "[200]\tcv_agg's l2: 0.144559 + 0.0420919\n",
      "[300]\tcv_agg's l2: 0.142986 + 0.041463\n",
      "[400]\tcv_agg's l2: 0.142093 + 0.041546\n",
      "[500]\tcv_agg's l2: 0.141892 + 0.0412928\n",
      "[600]\tcv_agg's l2: 0.141661 + 0.0411157\n",
      "[700]\tcv_agg's l2: 0.141421 + 0.040923\n",
      "[800]\tcv_agg's l2: 0.14129 + 0.0409153\n",
      "[900]\tcv_agg's l2: 0.141284 + 0.0409018\n",
      "[1000]\tcv_agg's l2: 0.14129 + 0.0408562\n",
      "[1100]\tcv_agg's l2: 0.141235 + 0.0408164\n"
     ]
    },
    {
     "name": "stderr",
     "output_type": "stream",
     "text": [
      "feature_fraction, val_score: 0.141222:  14%|######4                                      | 1/7 [00:08<00:49,  8.31s/it][I 2023-11-09 13:29:45,960] Trial 0 finished with value: 0.14122177182645385 and parameters: {'feature_fraction': 0.4}. Best is trial 0 with value: 0.14122177182645385.\n",
      "feature_fraction, val_score: 0.141222:  14%|######4                                      | 1/7 [00:08<00:49,  8.31s/it]"
     ]
    },
    {
     "name": "stdout",
     "output_type": "stream",
     "text": [
      "Early stopping, best iteration is:\n",
      "[1084]\tcv_agg's l2: 0.141222 + 0.040796\n",
      "[100]\tcv_agg's l2: 0.172334 + 0.042053\n",
      "[200]\tcv_agg's l2: 0.168986 + 0.0412238\n",
      "[300]\tcv_agg's l2: 0.168127 + 0.0402121\n",
      "[400]\tcv_agg's l2: 0.167939 + 0.0398056\n",
      "[500]\tcv_agg's l2: 0.167589 + 0.0394759\n",
      "[600]\tcv_agg's l2: 0.16748 + 0.0394527\n",
      "[700]\tcv_agg's l2: 0.167367 + 0.0393743\n",
      "[800]\tcv_agg's l2: 0.167303 + 0.0392741\n",
      "[900]\tcv_agg's l2: 0.167172 + 0.039144\n",
      "[1000]\tcv_agg's l2: 0.167099 + 0.0390631\n",
      "[1100]\tcv_agg's l2: 0.167033 + 0.0389819\n"
     ]
    },
    {
     "name": "stderr",
     "output_type": "stream",
     "text": [
      "feature_fraction, val_score: 0.141222:  29%|############8                                | 2/7 [00:16<00:41,  8.27s/it][I 2023-11-09 13:29:54,195] Trial 1 finished with value: 0.1670325179455198 and parameters: {'feature_fraction': 0.8}. Best is trial 0 with value: 0.14122177182645385.\n",
      "feature_fraction, val_score: 0.141222:  29%|############8                                | 2/7 [00:16<00:41,  8.27s/it]"
     ]
    },
    {
     "name": "stdout",
     "output_type": "stream",
     "text": [
      "Early stopping, best iteration is:\n",
      "[1084]\tcv_agg's l2: 0.141222 + 0.040796\n",
      "[100]\tcv_agg's l2: 0.178213 + 0.0507607\n",
      "[200]\tcv_agg's l2: 0.174713 + 0.0503862\n",
      "[300]\tcv_agg's l2: 0.173802 + 0.0502044\n",
      "[400]\tcv_agg's l2: 0.173289 + 0.0500017\n",
      "[500]\tcv_agg's l2: 0.173217 + 0.0497584\n",
      "[600]\tcv_agg's l2: 0.173025 + 0.0493394\n",
      "[700]\tcv_agg's l2: 0.172934 + 0.0491954\n",
      "[800]\tcv_agg's l2: 0.17295 + 0.049049\n",
      "[900]\tcv_agg's l2: 0.172925 + 0.048952\n",
      "[1000]\tcv_agg's l2: 0.172835 + 0.048857\n",
      "[1100]\tcv_agg's l2: 0.172822 + 0.0488237\n"
     ]
    },
    {
     "name": "stderr",
     "output_type": "stream",
     "text": [
      "feature_fraction, val_score: 0.141222:  43%|###################2                         | 3/7 [00:25<00:33,  8.40s/it][I 2023-11-09 13:30:02,755] Trial 2 finished with value: 0.17281887676476643 and parameters: {'feature_fraction': 0.8999999999999999}. Best is trial 0 with value: 0.14122177182645385.\n",
      "feature_fraction, val_score: 0.141222:  43%|###################2                         | 3/7 [00:25<00:33,  8.40s/it]"
     ]
    },
    {
     "name": "stdout",
     "output_type": "stream",
     "text": [
      "Early stopping, best iteration is:\n",
      "[1084]\tcv_agg's l2: 0.141222 + 0.040796\n",
      "[100]\tcv_agg's l2: 0.172351 + 0.0397583\n",
      "[200]\tcv_agg's l2: 0.168372 + 0.0376864\n",
      "[300]\tcv_agg's l2: 0.167696 + 0.0376949\n",
      "[400]\tcv_agg's l2: 0.167117 + 0.0372692\n",
      "[500]\tcv_agg's l2: 0.166965 + 0.0369309\n",
      "[600]\tcv_agg's l2: 0.166927 + 0.0367331\n",
      "[700]\tcv_agg's l2: 0.16686 + 0.0366369\n",
      "[800]\tcv_agg's l2: 0.166793 + 0.0365553\n",
      "[900]\tcv_agg's l2: 0.166792 + 0.0364638\n",
      "[1000]\tcv_agg's l2: 0.166754 + 0.0363794\n",
      "[1100]\tcv_agg's l2: 0.166674 + 0.0362533\n"
     ]
    },
    {
     "name": "stderr",
     "output_type": "stream",
     "text": [
      "feature_fraction, val_score: 0.141222:  57%|#########################7                   | 4/7 [00:33<00:25,  8.57s/it][I 2023-11-09 13:30:11,575] Trial 3 finished with value: 0.16668575671642072 and parameters: {'feature_fraction': 1.0}. Best is trial 0 with value: 0.14122177182645385.\n",
      "feature_fraction, val_score: 0.141222:  57%|#########################7                   | 4/7 [00:33<00:25,  8.57s/it]"
     ]
    },
    {
     "name": "stdout",
     "output_type": "stream",
     "text": [
      "Early stopping, best iteration is:\n",
      "[1084]\tcv_agg's l2: 0.141222 + 0.040796\n",
      "[100]\tcv_agg's l2: 0.168521 + 0.0554628\n",
      "[200]\tcv_agg's l2: 0.164251 + 0.0530763\n",
      "[300]\tcv_agg's l2: 0.16318 + 0.0513101\n",
      "[400]\tcv_agg's l2: 0.162435 + 0.0506564\n",
      "[500]\tcv_agg's l2: 0.162199 + 0.0503688\n",
      "[600]\tcv_agg's l2: 0.162226 + 0.0501763\n",
      "[700]\tcv_agg's l2: 0.162085 + 0.0499092\n",
      "[800]\tcv_agg's l2: 0.162094 + 0.0497114\n",
      "[900]\tcv_agg's l2: 0.162036 + 0.0495859\n",
      "[1000]\tcv_agg's l2: 0.162041 + 0.0494917\n",
      "[1100]\tcv_agg's l2: 0.162069 + 0.0494758\n"
     ]
    },
    {
     "name": "stderr",
     "output_type": "stream",
     "text": [
      "feature_fraction, val_score: 0.141222:  71%|################################1            | 5/7 [00:41<00:16,  8.12s/it][I 2023-11-09 13:30:18,912] Trial 4 finished with value: 0.16205729065759655 and parameters: {'feature_fraction': 0.7}. Best is trial 0 with value: 0.14122177182645385.\n",
      "feature_fraction, val_score: 0.141222:  71%|################################1            | 5/7 [00:41<00:16,  8.12s/it]"
     ]
    },
    {
     "name": "stdout",
     "output_type": "stream",
     "text": [
      "Early stopping, best iteration is:\n",
      "[1084]\tcv_agg's l2: 0.141222 + 0.040796\n",
      "[100]\tcv_agg's l2: 0.153382 + 0.0436856\n",
      "[200]\tcv_agg's l2: 0.148916 + 0.0420943\n",
      "[300]\tcv_agg's l2: 0.147196 + 0.0411962\n",
      "[400]\tcv_agg's l2: 0.146616 + 0.0406682\n",
      "[500]\tcv_agg's l2: 0.146028 + 0.0401192\n",
      "[600]\tcv_agg's l2: 0.14571 + 0.0398678\n",
      "[700]\tcv_agg's l2: 0.145442 + 0.039609\n",
      "[800]\tcv_agg's l2: 0.145248 + 0.0394982\n",
      "[900]\tcv_agg's l2: 0.145159 + 0.0394057\n",
      "[1000]\tcv_agg's l2: 0.145045 + 0.0393345\n",
      "[1100]\tcv_agg's l2: 0.144938 + 0.0392749\n"
     ]
    },
    {
     "name": "stderr",
     "output_type": "stream",
     "text": [
      "feature_fraction, val_score: 0.141222:  86%|######################################5      | 6/7 [00:49<00:08,  8.21s/it][I 2023-11-09 13:30:27,289] Trial 5 finished with value: 0.1449483337997225 and parameters: {'feature_fraction': 0.5}. Best is trial 0 with value: 0.14122177182645385.\n",
      "feature_fraction, val_score: 0.141222:  86%|######################################5      | 6/7 [00:49<00:08,  8.21s/it]"
     ]
    },
    {
     "name": "stdout",
     "output_type": "stream",
     "text": [
      "Early stopping, best iteration is:\n",
      "[1084]\tcv_agg's l2: 0.141222 + 0.040796\n",
      "[100]\tcv_agg's l2: 0.167771 + 0.0619724\n",
      "[200]\tcv_agg's l2: 0.163848 + 0.0584553\n",
      "[300]\tcv_agg's l2: 0.162937 + 0.0569901\n",
      "[400]\tcv_agg's l2: 0.162434 + 0.0564138\n",
      "[500]\tcv_agg's l2: 0.162117 + 0.0558444\n",
      "[600]\tcv_agg's l2: 0.16209 + 0.0555988\n",
      "[700]\tcv_agg's l2: 0.161994 + 0.0554463\n",
      "[800]\tcv_agg's l2: 0.162009 + 0.0553263\n",
      "[900]\tcv_agg's l2: 0.161941 + 0.0552453\n",
      "[1000]\tcv_agg's l2: 0.161903 + 0.0552057\n",
      "[1100]\tcv_agg's l2: 0.161846 + 0.0551428\n"
     ]
    },
    {
     "name": "stderr",
     "output_type": "stream",
     "text": [
      "feature_fraction, val_score: 0.141222: 100%|#############################################| 7/7 [00:58<00:00,  8.28s/it][I 2023-11-09 13:30:35,714] Trial 6 finished with value: 0.1618594197470243 and parameters: {'feature_fraction': 0.6}. Best is trial 0 with value: 0.14122177182645385.\n",
      "feature_fraction, val_score: 0.141222: 100%|#############################################| 7/7 [00:58<00:00,  8.30s/it]\n"
     ]
    },
    {
     "name": "stdout",
     "output_type": "stream",
     "text": [
      "Early stopping, best iteration is:\n",
      "[1084]\tcv_agg's l2: 0.141222 + 0.040796\n"
     ]
    },
    {
     "name": "stderr",
     "output_type": "stream",
     "text": [
      "num_leaves, val_score: 0.141222:   0%|                                                          | 0/20 [00:00<?, ?it/s]"
     ]
    },
    {
     "name": "stdout",
     "output_type": "stream",
     "text": [
      "[100]\tcv_agg's l2: 0.150894 + 0.0457215\n",
      "[200]\tcv_agg's l2: 0.144559 + 0.0420919\n",
      "[300]\tcv_agg's l2: 0.142986 + 0.041463\n",
      "[400]\tcv_agg's l2: 0.142093 + 0.041546\n",
      "[500]\tcv_agg's l2: 0.141892 + 0.0412928\n",
      "[600]\tcv_agg's l2: 0.141661 + 0.0411157\n",
      "[700]\tcv_agg's l2: 0.141421 + 0.040923\n",
      "[800]\tcv_agg's l2: 0.14129 + 0.0409153\n",
      "[900]\tcv_agg's l2: 0.141284 + 0.0409018\n",
      "[1000]\tcv_agg's l2: 0.141295 + 0.0408652\n",
      "[1100]\tcv_agg's l2: 0.141251 + 0.0408449\n"
     ]
    },
    {
     "name": "stderr",
     "output_type": "stream",
     "text": [
      "num_leaves, val_score: 0.141222:   5%|##5                                               | 1/20 [00:09<02:51,  9.05s/it][I 2023-11-09 13:30:44,772] Trial 7 finished with value: 0.14125726723817833 and parameters: {'num_leaves': 146}. Best is trial 7 with value: 0.14125726723817833.\n",
      "num_leaves, val_score: 0.141222:   5%|##5                                               | 1/20 [00:09<02:51,  9.05s/it]"
     ]
    },
    {
     "name": "stdout",
     "output_type": "stream",
     "text": [
      "Early stopping, best iteration is:\n",
      "[1084]\tcv_agg's l2: 0.141222 + 0.040796\n",
      "[100]\tcv_agg's l2: 0.158042 + 0.0387961\n",
      "[200]\tcv_agg's l2: 0.14796 + 0.0351245\n",
      "[300]\tcv_agg's l2: 0.14367 + 0.0355571\n",
      "[400]\tcv_agg's l2: 0.141597 + 0.0352504\n",
      "[500]\tcv_agg's l2: 0.139908 + 0.0352147\n",
      "[600]\tcv_agg's l2: 0.139349 + 0.035461\n",
      "[700]\tcv_agg's l2: 0.138964 + 0.034903\n",
      "[800]\tcv_agg's l2: 0.138376 + 0.0344383\n",
      "[900]\tcv_agg's l2: 0.137984 + 0.0342364\n",
      "[1000]\tcv_agg's l2: 0.137979 + 0.0341809\n",
      "[1100]\tcv_agg's l2: 0.137795 + 0.0338165\n"
     ]
    },
    {
     "name": "stderr",
     "output_type": "stream",
     "text": [
      "num_leaves, val_score: 0.137777:  10%|#####                                             | 2/20 [00:12<01:48,  6.01s/it][I 2023-11-09 13:30:48,660] Trial 8 finished with value: 0.13777674547450053 and parameters: {'num_leaves': 8}. Best is trial 8 with value: 0.13777674547450053.\n",
      "num_leaves, val_score: 0.137777:  10%|#####                                             | 2/20 [00:12<01:48,  6.01s/it]"
     ]
    },
    {
     "name": "stdout",
     "output_type": "stream",
     "text": [
      "Early stopping, best iteration is:\n",
      "[1086]\tcv_agg's l2: 0.137777 + 0.0339006\n",
      "[100]\tcv_agg's l2: 0.150894 + 0.0457215\n",
      "[200]\tcv_agg's l2: 0.144559 + 0.0420919\n",
      "[300]\tcv_agg's l2: 0.142986 + 0.041463\n",
      "[400]\tcv_agg's l2: 0.142093 + 0.041546\n",
      "[500]\tcv_agg's l2: 0.141892 + 0.0412928\n",
      "[600]\tcv_agg's l2: 0.141661 + 0.0411157\n",
      "[700]\tcv_agg's l2: 0.141421 + 0.040923\n",
      "[800]\tcv_agg's l2: 0.14129 + 0.0409153\n",
      "[900]\tcv_agg's l2: 0.141284 + 0.0409018\n",
      "[1000]\tcv_agg's l2: 0.141295 + 0.0408652\n",
      "[1100]\tcv_agg's l2: 0.141251 + 0.0408449\n"
     ]
    },
    {
     "name": "stderr",
     "output_type": "stream",
     "text": [
      "num_leaves, val_score: 0.137777:  15%|#######5                                          | 3/20 [00:21<01:59,  7.03s/it][I 2023-11-09 13:30:56,904] Trial 9 finished with value: 0.1412604246587226 and parameters: {'num_leaves': 227}. Best is trial 8 with value: 0.13777674547450053.\n",
      "num_leaves, val_score: 0.137777:  15%|#######5                                          | 3/20 [00:21<01:59,  7.03s/it]"
     ]
    },
    {
     "name": "stdout",
     "output_type": "stream",
     "text": [
      "Early stopping, best iteration is:\n",
      "[1086]\tcv_agg's l2: 0.137777 + 0.0339006\n",
      "[100]\tcv_agg's l2: 0.169618 + 0.0439397\n",
      "[200]\tcv_agg's l2: 0.159635 + 0.0422712\n",
      "[300]\tcv_agg's l2: 0.153567 + 0.0417983\n",
      "[400]\tcv_agg's l2: 0.15073 + 0.0406751\n",
      "[500]\tcv_agg's l2: 0.149417 + 0.0405327\n",
      "[600]\tcv_agg's l2: 0.147822 + 0.0398642\n",
      "[700]\tcv_agg's l2: 0.14765 + 0.0395364\n",
      "[800]\tcv_agg's l2: 0.147418 + 0.0386817\n",
      "[900]\tcv_agg's l2: 0.146982 + 0.0376832\n",
      "[1000]\tcv_agg's l2: 0.146259 + 0.0371192\n",
      "[1100]\tcv_agg's l2: 0.145709 + 0.0365168\n"
     ]
    },
    {
     "name": "stderr",
     "output_type": "stream",
     "text": [
      "num_leaves, val_score: 0.137777:  20%|##########                                        | 4/20 [00:24<01:28,  5.53s/it][I 2023-11-09 13:31:00,143] Trial 10 finished with value: 0.14580210576148891 and parameters: {'num_leaves': 6}. Best is trial 8 with value: 0.13777674547450053.\n",
      "num_leaves, val_score: 0.137777:  20%|##########                                        | 4/20 [00:24<01:28,  5.53s/it]"
     ]
    },
    {
     "name": "stdout",
     "output_type": "stream",
     "text": [
      "Early stopping, best iteration is:\n",
      "[1086]\tcv_agg's l2: 0.137777 + 0.0339006\n",
      "[100]\tcv_agg's l2: 0.158522 + 0.0463807\n",
      "[200]\tcv_agg's l2: 0.152266 + 0.0447224\n",
      "[300]\tcv_agg's l2: 0.15012 + 0.0436749\n",
      "[400]\tcv_agg's l2: 0.149228 + 0.0430697\n",
      "[500]\tcv_agg's l2: 0.148977 + 0.0425456\n",
      "[600]\tcv_agg's l2: 0.148497 + 0.0422372\n",
      "[700]\tcv_agg's l2: 0.148485 + 0.0419186\n",
      "[800]\tcv_agg's l2: 0.148327 + 0.0417818\n",
      "[900]\tcv_agg's l2: 0.148203 + 0.0415753\n",
      "[1000]\tcv_agg's l2: 0.148038 + 0.0414365\n",
      "[1100]\tcv_agg's l2: 0.147982 + 0.0413619\n"
     ]
    },
    {
     "name": "stderr",
     "output_type": "stream",
     "text": [
      "num_leaves, val_score: 0.137777:  25%|############5                                     | 5/20 [00:30<01:23,  5.56s/it][I 2023-11-09 13:31:05,739] Trial 11 finished with value: 0.14795267078405494 and parameters: {'num_leaves': 15}. Best is trial 8 with value: 0.13777674547450053.\n",
      "num_leaves, val_score: 0.137777:  25%|############5                                     | 5/20 [00:30<01:23,  5.56s/it]"
     ]
    },
    {
     "name": "stdout",
     "output_type": "stream",
     "text": [
      "Early stopping, best iteration is:\n",
      "[1086]\tcv_agg's l2: 0.137777 + 0.0339006\n",
      "[100]\tcv_agg's l2: 0.150894 + 0.0457215\n",
      "[200]\tcv_agg's l2: 0.144559 + 0.0420919\n",
      "[300]\tcv_agg's l2: 0.142986 + 0.041463\n",
      "[400]\tcv_agg's l2: 0.142093 + 0.041546\n",
      "[500]\tcv_agg's l2: 0.141892 + 0.0412928\n",
      "[600]\tcv_agg's l2: 0.141661 + 0.0411157\n",
      "[700]\tcv_agg's l2: 0.141421 + 0.040923\n",
      "[800]\tcv_agg's l2: 0.14129 + 0.0409153\n",
      "[900]\tcv_agg's l2: 0.141284 + 0.0409018\n",
      "[1000]\tcv_agg's l2: 0.141295 + 0.0408652\n",
      "[1100]\tcv_agg's l2: 0.141251 + 0.0408449\n"
     ]
    },
    {
     "name": "stderr",
     "output_type": "stream",
     "text": [
      "num_leaves, val_score: 0.137777:  30%|###############                                   | 6/20 [00:38<01:29,  6.42s/it][I 2023-11-09 13:31:13,831] Trial 12 finished with value: 0.1412604246587226 and parameters: {'num_leaves': 82}. Best is trial 8 with value: 0.13777674547450053.\n",
      "num_leaves, val_score: 0.137777:  30%|###############                                   | 6/20 [00:38<01:29,  6.42s/it]"
     ]
    },
    {
     "name": "stdout",
     "output_type": "stream",
     "text": [
      "Early stopping, best iteration is:\n",
      "[1086]\tcv_agg's l2: 0.137777 + 0.0339006\n",
      "[100]\tcv_agg's l2: 0.150894 + 0.0457215\n",
      "[200]\tcv_agg's l2: 0.144559 + 0.0420919\n",
      "[300]\tcv_agg's l2: 0.142986 + 0.041463\n",
      "[400]\tcv_agg's l2: 0.142093 + 0.041546\n",
      "[500]\tcv_agg's l2: 0.141892 + 0.0412928\n",
      "[600]\tcv_agg's l2: 0.141661 + 0.0411157\n",
      "[700]\tcv_agg's l2: 0.141421 + 0.040923\n",
      "[800]\tcv_agg's l2: 0.14129 + 0.0409153\n",
      "[900]\tcv_agg's l2: 0.141284 + 0.0409018\n",
      "[1000]\tcv_agg's l2: 0.141295 + 0.0408652\n",
      "[1100]\tcv_agg's l2: 0.141251 + 0.0408449\n"
     ]
    },
    {
     "name": "stderr",
     "output_type": "stream",
     "text": [
      "num_leaves, val_score: 0.137777:  35%|#################5                                | 7/20 [00:46<01:33,  7.16s/it][I 2023-11-09 13:31:22,508] Trial 13 finished with value: 0.1412604246587226 and parameters: {'num_leaves': 108}. Best is trial 8 with value: 0.13777674547450053.\n",
      "num_leaves, val_score: 0.137777:  35%|#################5                                | 7/20 [00:46<01:33,  7.16s/it]"
     ]
    },
    {
     "name": "stdout",
     "output_type": "stream",
     "text": [
      "Early stopping, best iteration is:\n",
      "[1086]\tcv_agg's l2: 0.137777 + 0.0339006\n",
      "[100]\tcv_agg's l2: 0.150894 + 0.0457215\n",
      "[200]\tcv_agg's l2: 0.144559 + 0.0420919\n",
      "[300]\tcv_agg's l2: 0.142986 + 0.041463\n",
      "[400]\tcv_agg's l2: 0.142093 + 0.041546\n",
      "[500]\tcv_agg's l2: 0.141892 + 0.0412928\n",
      "[600]\tcv_agg's l2: 0.141661 + 0.0411157\n",
      "[700]\tcv_agg's l2: 0.141421 + 0.040923\n",
      "[800]\tcv_agg's l2: 0.14129 + 0.0409153\n",
      "[900]\tcv_agg's l2: 0.141284 + 0.0409018\n",
      "[1000]\tcv_agg's l2: 0.141295 + 0.0408652\n",
      "[1100]\tcv_agg's l2: 0.141251 + 0.0408449\n"
     ]
    },
    {
     "name": "stderr",
     "output_type": "stream",
     "text": [
      "num_leaves, val_score: 0.137777:  40%|####################                              | 8/20 [00:55<01:30,  7.56s/it][I 2023-11-09 13:31:30,935] Trial 14 finished with value: 0.1412604246587226 and parameters: {'num_leaves': 187}. Best is trial 8 with value: 0.13777674547450053.\n",
      "num_leaves, val_score: 0.137777:  40%|####################                              | 8/20 [00:55<01:30,  7.56s/it]"
     ]
    },
    {
     "name": "stdout",
     "output_type": "stream",
     "text": [
      "Early stopping, best iteration is:\n",
      "[1086]\tcv_agg's l2: 0.137777 + 0.0339006\n",
      "[100]\tcv_agg's l2: 0.150894 + 0.0457215\n",
      "[200]\tcv_agg's l2: 0.144559 + 0.0420919\n",
      "[300]\tcv_agg's l2: 0.142986 + 0.041463\n",
      "[400]\tcv_agg's l2: 0.142093 + 0.041546\n",
      "[500]\tcv_agg's l2: 0.141892 + 0.0412928\n",
      "[600]\tcv_agg's l2: 0.141661 + 0.0411157\n",
      "[700]\tcv_agg's l2: 0.141421 + 0.040923\n",
      "[800]\tcv_agg's l2: 0.14129 + 0.0409153\n",
      "[900]\tcv_agg's l2: 0.141284 + 0.0409018\n",
      "[1000]\tcv_agg's l2: 0.141295 + 0.0408652\n",
      "[1100]\tcv_agg's l2: 0.141251 + 0.0408449\n"
     ]
    },
    {
     "name": "stderr",
     "output_type": "stream",
     "text": [
      "num_leaves, val_score: 0.137777:  45%|######################5                           | 9/20 [01:03<01:24,  7.71s/it][I 2023-11-09 13:31:38,976] Trial 15 finished with value: 0.1412604246587226 and parameters: {'num_leaves': 53}. Best is trial 8 with value: 0.13777674547450053.\n",
      "num_leaves, val_score: 0.137777:  45%|######################5                           | 9/20 [01:03<01:24,  7.71s/it]"
     ]
    },
    {
     "name": "stdout",
     "output_type": "stream",
     "text": [
      "Early stopping, best iteration is:\n",
      "[1086]\tcv_agg's l2: 0.137777 + 0.0339006\n",
      "[100]\tcv_agg's l2: 0.150894 + 0.0457215\n",
      "[200]\tcv_agg's l2: 0.144559 + 0.0420919\n",
      "[300]\tcv_agg's l2: 0.142986 + 0.041463\n",
      "[400]\tcv_agg's l2: 0.142093 + 0.041546\n",
      "[500]\tcv_agg's l2: 0.141892 + 0.0412928\n",
      "[600]\tcv_agg's l2: 0.141661 + 0.0411157\n",
      "[700]\tcv_agg's l2: 0.141421 + 0.040923\n",
      "[800]\tcv_agg's l2: 0.14129 + 0.0409153\n",
      "[900]\tcv_agg's l2: 0.141284 + 0.0409018\n",
      "[1000]\tcv_agg's l2: 0.141295 + 0.0408652\n",
      "[1100]\tcv_agg's l2: 0.141251 + 0.0408449\n"
     ]
    },
    {
     "name": "stderr",
     "output_type": "stream",
     "text": [
      "num_leaves, val_score: 0.137777:  50%|########################5                        | 10/20 [01:13<01:24,  8.43s/it][I 2023-11-09 13:31:49,008] Trial 16 finished with value: 0.1412604246587226 and parameters: {'num_leaves': 256}. Best is trial 8 with value: 0.13777674547450053.\n",
      "num_leaves, val_score: 0.137777:  50%|########################5                        | 10/20 [01:13<01:24,  8.43s/it]"
     ]
    },
    {
     "name": "stdout",
     "output_type": "stream",
     "text": [
      "Early stopping, best iteration is:\n",
      "[1086]\tcv_agg's l2: 0.137777 + 0.0339006\n",
      "[100]\tcv_agg's l2: 0.150894 + 0.0457215\n",
      "[200]\tcv_agg's l2: 0.144559 + 0.0420919\n",
      "[300]\tcv_agg's l2: 0.142986 + 0.041463\n",
      "[400]\tcv_agg's l2: 0.142093 + 0.041546\n",
      "[500]\tcv_agg's l2: 0.141892 + 0.0412928\n",
      "[600]\tcv_agg's l2: 0.141661 + 0.0411157\n",
      "[700]\tcv_agg's l2: 0.141421 + 0.040923\n",
      "[800]\tcv_agg's l2: 0.14129 + 0.0409153\n",
      "[900]\tcv_agg's l2: 0.141284 + 0.0409018\n",
      "[1000]\tcv_agg's l2: 0.141295 + 0.0408652\n",
      "[1100]\tcv_agg's l2: 0.141251 + 0.0408449\n"
     ]
    },
    {
     "name": "stderr",
     "output_type": "stream",
     "text": [
      "num_leaves, val_score: 0.137777:  55%|##########################9                      | 11/20 [01:22<01:17,  8.62s/it][I 2023-11-09 13:31:58,078] Trial 17 finished with value: 0.1412604246587226 and parameters: {'num_leaves': 158}. Best is trial 8 with value: 0.13777674547450053.\n",
      "num_leaves, val_score: 0.137777:  55%|##########################9                      | 11/20 [01:22<01:17,  8.62s/it]"
     ]
    },
    {
     "name": "stdout",
     "output_type": "stream",
     "text": [
      "Early stopping, best iteration is:\n",
      "[1086]\tcv_agg's l2: 0.137777 + 0.0339006\n",
      "[100]\tcv_agg's l2: 0.150894 + 0.0457215\n",
      "[200]\tcv_agg's l2: 0.144559 + 0.0420919\n",
      "[300]\tcv_agg's l2: 0.142986 + 0.041463\n",
      "[400]\tcv_agg's l2: 0.142093 + 0.041546\n",
      "[500]\tcv_agg's l2: 0.141892 + 0.0412928\n",
      "[600]\tcv_agg's l2: 0.141661 + 0.0411157\n",
      "[700]\tcv_agg's l2: 0.141421 + 0.040923\n",
      "[800]\tcv_agg's l2: 0.14129 + 0.0409153\n",
      "[900]\tcv_agg's l2: 0.141284 + 0.0409018\n",
      "[1000]\tcv_agg's l2: 0.141295 + 0.0408652\n",
      "[1100]\tcv_agg's l2: 0.141251 + 0.0408449\n"
     ]
    },
    {
     "name": "stderr",
     "output_type": "stream",
     "text": [
      "num_leaves, val_score: 0.137777:  60%|#############################4                   | 12/20 [01:33<01:14,  9.28s/it][I 2023-11-09 13:32:08,883] Trial 18 finished with value: 0.1412604246587226 and parameters: {'num_leaves': 51}. Best is trial 8 with value: 0.13777674547450053.\n",
      "num_leaves, val_score: 0.137777:  60%|#############################4                   | 12/20 [01:33<01:14,  9.28s/it]"
     ]
    },
    {
     "name": "stdout",
     "output_type": "stream",
     "text": [
      "Early stopping, best iteration is:\n",
      "[1086]\tcv_agg's l2: 0.137777 + 0.0339006\n",
      "[100]\tcv_agg's l2: 0.150894 + 0.0457215\n",
      "[200]\tcv_agg's l2: 0.144559 + 0.0420919\n",
      "[300]\tcv_agg's l2: 0.142986 + 0.041463\n",
      "[400]\tcv_agg's l2: 0.142093 + 0.041546\n",
      "[500]\tcv_agg's l2: 0.141892 + 0.0412928\n",
      "[600]\tcv_agg's l2: 0.141661 + 0.0411157\n",
      "[700]\tcv_agg's l2: 0.141421 + 0.040923\n",
      "[800]\tcv_agg's l2: 0.14129 + 0.0409153\n",
      "[900]\tcv_agg's l2: 0.141284 + 0.0409018\n",
      "[1000]\tcv_agg's l2: 0.141295 + 0.0408652\n",
      "[1100]\tcv_agg's l2: 0.141251 + 0.0408449\n"
     ]
    },
    {
     "name": "stderr",
     "output_type": "stream",
     "text": [
      "num_leaves, val_score: 0.137777:  65%|###############################8                 | 13/20 [01:42<01:05,  9.30s/it][I 2023-11-09 13:32:18,205] Trial 19 finished with value: 0.1412604246587226 and parameters: {'num_leaves': 97}. Best is trial 8 with value: 0.13777674547450053.\n",
      "num_leaves, val_score: 0.137777:  65%|###############################8                 | 13/20 [01:42<01:05,  9.30s/it]"
     ]
    },
    {
     "name": "stdout",
     "output_type": "stream",
     "text": [
      "Early stopping, best iteration is:\n",
      "[1086]\tcv_agg's l2: 0.137777 + 0.0339006\n",
      "[100]\tcv_agg's l2: 0.150894 + 0.0457215\n",
      "[200]\tcv_agg's l2: 0.144559 + 0.0420919\n",
      "[300]\tcv_agg's l2: 0.142986 + 0.041463\n",
      "[400]\tcv_agg's l2: 0.142093 + 0.041546\n",
      "[500]\tcv_agg's l2: 0.141892 + 0.0412928\n",
      "[600]\tcv_agg's l2: 0.141661 + 0.0411157\n",
      "[700]\tcv_agg's l2: 0.141421 + 0.040923\n",
      "[800]\tcv_agg's l2: 0.14129 + 0.0409153\n",
      "[900]\tcv_agg's l2: 0.141284 + 0.0409018\n",
      "[1000]\tcv_agg's l2: 0.141295 + 0.0408652\n",
      "[1100]\tcv_agg's l2: 0.141251 + 0.0408449\n"
     ]
    },
    {
     "name": "stderr",
     "output_type": "stream",
     "text": [
      "num_leaves, val_score: 0.137777:  70%|##################################3              | 14/20 [01:50<00:53,  8.90s/it][I 2023-11-09 13:32:26,186] Trial 20 finished with value: 0.1412604246587226 and parameters: {'num_leaves': 52}. Best is trial 8 with value: 0.13777674547450053.\n",
      "num_leaves, val_score: 0.137777:  70%|##################################3              | 14/20 [01:50<00:53,  8.90s/it]"
     ]
    },
    {
     "name": "stdout",
     "output_type": "stream",
     "text": [
      "Early stopping, best iteration is:\n",
      "[1086]\tcv_agg's l2: 0.137777 + 0.0339006\n",
      "[100]\tcv_agg's l2: 0.150894 + 0.0457215\n",
      "[200]\tcv_agg's l2: 0.144559 + 0.0420919\n",
      "[300]\tcv_agg's l2: 0.142986 + 0.041463\n",
      "[400]\tcv_agg's l2: 0.142093 + 0.041546\n",
      "[500]\tcv_agg's l2: 0.141892 + 0.0412928\n",
      "[600]\tcv_agg's l2: 0.141661 + 0.0411157\n",
      "[700]\tcv_agg's l2: 0.141421 + 0.040923\n",
      "[800]\tcv_agg's l2: 0.14129 + 0.0409153\n",
      "[900]\tcv_agg's l2: 0.141284 + 0.0409018\n",
      "[1000]\tcv_agg's l2: 0.141295 + 0.0408652\n",
      "[1100]\tcv_agg's l2: 0.141251 + 0.0408449\n"
     ]
    },
    {
     "name": "stderr",
     "output_type": "stream",
     "text": [
      "num_leaves, val_score: 0.137777:  75%|####################################7            | 15/20 [01:58<00:43,  8.64s/it][I 2023-11-09 13:32:34,238] Trial 21 finished with value: 0.1412604246587226 and parameters: {'num_leaves': 150}. Best is trial 8 with value: 0.13777674547450053.\n",
      "num_leaves, val_score: 0.137777:  75%|####################################7            | 15/20 [01:58<00:43,  8.64s/it]"
     ]
    },
    {
     "name": "stdout",
     "output_type": "stream",
     "text": [
      "Early stopping, best iteration is:\n",
      "[1086]\tcv_agg's l2: 0.137777 + 0.0339006\n",
      "[100]\tcv_agg's l2: 0.150894 + 0.0457215\n",
      "[200]\tcv_agg's l2: 0.144559 + 0.0420919\n",
      "[300]\tcv_agg's l2: 0.142986 + 0.041463\n",
      "[400]\tcv_agg's l2: 0.142093 + 0.041546\n",
      "[500]\tcv_agg's l2: 0.141892 + 0.0412928\n",
      "[600]\tcv_agg's l2: 0.141661 + 0.0411157\n",
      "[700]\tcv_agg's l2: 0.141421 + 0.040923\n",
      "[800]\tcv_agg's l2: 0.14129 + 0.0409153\n",
      "[900]\tcv_agg's l2: 0.141284 + 0.0409018\n",
      "[1000]\tcv_agg's l2: 0.141295 + 0.0408652\n",
      "[1100]\tcv_agg's l2: 0.141251 + 0.0408449\n"
     ]
    },
    {
     "name": "stderr",
     "output_type": "stream",
     "text": [
      "num_leaves, val_score: 0.137777:  80%|#######################################2         | 16/20 [02:07<00:34,  8.68s/it][I 2023-11-09 13:32:42,999] Trial 22 finished with value: 0.1412604246587226 and parameters: {'num_leaves': 185}. Best is trial 8 with value: 0.13777674547450053.\n",
      "num_leaves, val_score: 0.137777:  80%|#######################################2         | 16/20 [02:07<00:34,  8.68s/it]"
     ]
    },
    {
     "name": "stdout",
     "output_type": "stream",
     "text": [
      "Early stopping, best iteration is:\n",
      "[1086]\tcv_agg's l2: 0.137777 + 0.0339006\n",
      "[100]\tcv_agg's l2: 0.150894 + 0.0457215\n",
      "[200]\tcv_agg's l2: 0.144559 + 0.0420919\n",
      "[300]\tcv_agg's l2: 0.142986 + 0.041463\n",
      "[400]\tcv_agg's l2: 0.142093 + 0.041546\n",
      "[500]\tcv_agg's l2: 0.141892 + 0.0412928\n",
      "[600]\tcv_agg's l2: 0.141661 + 0.0411157\n",
      "[700]\tcv_agg's l2: 0.141421 + 0.040923\n",
      "[800]\tcv_agg's l2: 0.14129 + 0.0409153\n",
      "[900]\tcv_agg's l2: 0.141284 + 0.0409018\n",
      "[1000]\tcv_agg's l2: 0.141295 + 0.0408652\n",
      "[1100]\tcv_agg's l2: 0.141251 + 0.0408449\n"
     ]
    },
    {
     "name": "stderr",
     "output_type": "stream",
     "text": [
      "num_leaves, val_score: 0.137777:  85%|#########################################6       | 17/20 [02:15<00:25,  8.57s/it][I 2023-11-09 13:32:51,321] Trial 23 finished with value: 0.1412604246587226 and parameters: {'num_leaves': 129}. Best is trial 8 with value: 0.13777674547450053.\n",
      "num_leaves, val_score: 0.137777:  85%|#########################################6       | 17/20 [02:15<00:25,  8.57s/it]"
     ]
    },
    {
     "name": "stdout",
     "output_type": "stream",
     "text": [
      "Early stopping, best iteration is:\n",
      "[1086]\tcv_agg's l2: 0.137777 + 0.0339006\n",
      "[100]\tcv_agg's l2: 0.150894 + 0.0457215\n",
      "[200]\tcv_agg's l2: 0.144559 + 0.0420919\n",
      "[300]\tcv_agg's l2: 0.142986 + 0.041463\n",
      "[400]\tcv_agg's l2: 0.142093 + 0.041546\n",
      "[500]\tcv_agg's l2: 0.141892 + 0.0412928\n",
      "[600]\tcv_agg's l2: 0.141661 + 0.0411157\n",
      "[700]\tcv_agg's l2: 0.141421 + 0.040923\n",
      "[800]\tcv_agg's l2: 0.14129 + 0.0409153\n",
      "[900]\tcv_agg's l2: 0.141284 + 0.0409018\n",
      "[1000]\tcv_agg's l2: 0.141295 + 0.0408652\n",
      "[1100]\tcv_agg's l2: 0.141251 + 0.0408449\n"
     ]
    },
    {
     "name": "stderr",
     "output_type": "stream",
     "text": [
      "num_leaves, val_score: 0.137777:  90%|############################################1    | 18/20 [02:23<00:16,  8.41s/it][I 2023-11-09 13:32:59,345] Trial 24 finished with value: 0.1412604246587226 and parameters: {'num_leaves': 189}. Best is trial 8 with value: 0.13777674547450053.\n",
      "num_leaves, val_score: 0.137777:  90%|############################################1    | 18/20 [02:23<00:16,  8.41s/it]"
     ]
    },
    {
     "name": "stdout",
     "output_type": "stream",
     "text": [
      "Early stopping, best iteration is:\n",
      "[1086]\tcv_agg's l2: 0.137777 + 0.0339006\n",
      "[100]\tcv_agg's l2: 0.150894 + 0.0457215\n",
      "[200]\tcv_agg's l2: 0.144559 + 0.0420919\n",
      "[300]\tcv_agg's l2: 0.142986 + 0.041463\n",
      "[400]\tcv_agg's l2: 0.142093 + 0.041546\n",
      "[500]\tcv_agg's l2: 0.141892 + 0.0412928\n",
      "[600]\tcv_agg's l2: 0.141661 + 0.0411157\n",
      "[700]\tcv_agg's l2: 0.141421 + 0.040923\n",
      "[800]\tcv_agg's l2: 0.14129 + 0.0409153\n",
      "[900]\tcv_agg's l2: 0.141284 + 0.0409018\n",
      "[1000]\tcv_agg's l2: 0.141295 + 0.0408652\n",
      "[1100]\tcv_agg's l2: 0.141251 + 0.0408449\n"
     ]
    },
    {
     "name": "stderr",
     "output_type": "stream",
     "text": [
      "num_leaves, val_score: 0.137777:  95%|##############################################5  | 19/20 [02:31<00:08,  8.33s/it][I 2023-11-09 13:33:07,506] Trial 25 finished with value: 0.1412604246587226 and parameters: {'num_leaves': 130}. Best is trial 8 with value: 0.13777674547450053.\n",
      "num_leaves, val_score: 0.137777:  95%|##############################################5  | 19/20 [02:31<00:08,  8.33s/it]"
     ]
    },
    {
     "name": "stdout",
     "output_type": "stream",
     "text": [
      "Early stopping, best iteration is:\n",
      "[1086]\tcv_agg's l2: 0.137777 + 0.0339006\n",
      "[100]\tcv_agg's l2: 0.150894 + 0.0457215\n",
      "[200]\tcv_agg's l2: 0.144559 + 0.0420919\n",
      "[300]\tcv_agg's l2: 0.142986 + 0.041463\n",
      "[400]\tcv_agg's l2: 0.142093 + 0.041546\n",
      "[500]\tcv_agg's l2: 0.141892 + 0.0412928\n",
      "[600]\tcv_agg's l2: 0.141661 + 0.0411157\n",
      "[700]\tcv_agg's l2: 0.141421 + 0.040923\n",
      "[800]\tcv_agg's l2: 0.14129 + 0.0409153\n",
      "[900]\tcv_agg's l2: 0.141284 + 0.0409018\n",
      "[1000]\tcv_agg's l2: 0.141295 + 0.0408652\n",
      "[1100]\tcv_agg's l2: 0.141251 + 0.0408449\n"
     ]
    },
    {
     "name": "stderr",
     "output_type": "stream",
     "text": [
      "num_leaves, val_score: 0.137777: 100%|#################################################| 20/20 [02:39<00:00,  8.19s/it][I 2023-11-09 13:33:15,347] Trial 26 finished with value: 0.1412604246587226 and parameters: {'num_leaves': 83}. Best is trial 8 with value: 0.13777674547450053.\n",
      "num_leaves, val_score: 0.137777: 100%|#################################################| 20/20 [02:39<00:00,  7.98s/it]\n"
     ]
    },
    {
     "name": "stdout",
     "output_type": "stream",
     "text": [
      "Early stopping, best iteration is:\n",
      "[1086]\tcv_agg's l2: 0.137777 + 0.0339006\n"
     ]
    },
    {
     "name": "stderr",
     "output_type": "stream",
     "text": [
      "bagging, val_score: 0.137777:   0%|                                                             | 0/10 [00:00<?, ?it/s]"
     ]
    },
    {
     "name": "stdout",
     "output_type": "stream",
     "text": [
      "[100]\tcv_agg's l2: 0.202081 + 0.0358951\n",
      "[200]\tcv_agg's l2: 0.182574 + 0.0336389\n",
      "[300]\tcv_agg's l2: 0.171809 + 0.0326067\n",
      "[400]\tcv_agg's l2: 0.168037 + 0.031088\n",
      "[500]\tcv_agg's l2: 0.167242 + 0.0315126\n",
      "[600]\tcv_agg's l2: 0.166098 + 0.0289348\n",
      "[700]\tcv_agg's l2: 0.165414 + 0.0260496\n",
      "[800]\tcv_agg's l2: 0.164899 + 0.0262267\n",
      "[900]\tcv_agg's l2: 0.165465 + 0.0257883\n",
      "[1000]\tcv_agg's l2: 0.164861 + 0.0259518\n",
      "[1100]\tcv_agg's l2: 0.16523 + 0.0256121\n"
     ]
    },
    {
     "name": "stderr",
     "output_type": "stream",
     "text": [
      "bagging, val_score: 0.137777:  10%|#####3                                               | 1/10 [00:04<00:36,  4.05s/it][I 2023-11-09 13:33:19,401] Trial 27 finished with value: 0.16515000891766585 and parameters: {'bagging_fraction': 0.47509230580306494, 'bagging_freq': 4}. Best is trial 27 with value: 0.16515000891766585.\n",
      "bagging, val_score: 0.137777:  10%|#####3                                               | 1/10 [00:04<00:36,  4.05s/it]"
     ]
    },
    {
     "name": "stdout",
     "output_type": "stream",
     "text": [
      "Early stopping, best iteration is:\n",
      "[1086]\tcv_agg's l2: 0.137777 + 0.0339006\n",
      "[100]\tcv_agg's l2: 0.158978 + 0.0430536\n",
      "[200]\tcv_agg's l2: 0.148627 + 0.0402827\n",
      "[300]\tcv_agg's l2: 0.143848 + 0.0386245\n",
      "[400]\tcv_agg's l2: 0.141966 + 0.0376999\n",
      "[500]\tcv_agg's l2: 0.140561 + 0.0373173\n",
      "[600]\tcv_agg's l2: 0.139624 + 0.0371169\n",
      "[700]\tcv_agg's l2: 0.13889 + 0.0366371\n",
      "[800]\tcv_agg's l2: 0.138645 + 0.0363824\n",
      "[900]\tcv_agg's l2: 0.138182 + 0.0361851\n",
      "[1000]\tcv_agg's l2: 0.137939 + 0.036129\n",
      "[1100]\tcv_agg's l2: 0.138209 + 0.036356\n"
     ]
    },
    {
     "name": "stderr",
     "output_type": "stream",
     "text": [
      "bagging, val_score: 0.137777:  20%|##########6                                          | 2/10 [00:08<00:33,  4.14s/it][I 2023-11-09 13:33:23,615] Trial 28 finished with value: 0.13828702080368005 and parameters: {'bagging_fraction': 0.9712353407777259, 'bagging_freq': 1}. Best is trial 28 with value: 0.13828702080368005.\n",
      "bagging, val_score: 0.137777:  20%|##########6                                          | 2/10 [00:08<00:33,  4.14s/it]"
     ]
    },
    {
     "name": "stdout",
     "output_type": "stream",
     "text": [
      "Early stopping, best iteration is:\n",
      "[1086]\tcv_agg's l2: 0.137777 + 0.0339006\n",
      "[100]\tcv_agg's l2: 0.1603 + 0.0368774\n",
      "[200]\tcv_agg's l2: 0.152959 + 0.0368278\n",
      "[300]\tcv_agg's l2: 0.149016 + 0.03626\n",
      "[400]\tcv_agg's l2: 0.146471 + 0.035048\n",
      "[500]\tcv_agg's l2: 0.144649 + 0.0344028\n",
      "[600]\tcv_agg's l2: 0.143825 + 0.0343684\n",
      "[700]\tcv_agg's l2: 0.14299 + 0.0342191\n",
      "[800]\tcv_agg's l2: 0.142847 + 0.0341233\n",
      "[900]\tcv_agg's l2: 0.142964 + 0.0343469\n",
      "[1000]\tcv_agg's l2: 0.143183 + 0.0346559\n",
      "[1100]\tcv_agg's l2: 0.143094 + 0.0344217\n"
     ]
    },
    {
     "name": "stderr",
     "output_type": "stream",
     "text": [
      "bagging, val_score: 0.137777:  30%|###############9                                     | 3/10 [00:12<00:28,  4.07s/it][I 2023-11-09 13:33:27,604] Trial 29 finished with value: 0.1431006845355941 and parameters: {'bagging_fraction': 0.9565631954961599, 'bagging_freq': 1}. Best is trial 28 with value: 0.13828702080368005.\n",
      "bagging, val_score: 0.137777:  30%|###############9                                     | 3/10 [00:12<00:28,  4.07s/it]"
     ]
    },
    {
     "name": "stdout",
     "output_type": "stream",
     "text": [
      "Early stopping, best iteration is:\n",
      "[1086]\tcv_agg's l2: 0.137777 + 0.0339006\n",
      "[100]\tcv_agg's l2: 0.156103 + 0.0464529\n",
      "[200]\tcv_agg's l2: 0.14693 + 0.0411807\n",
      "[300]\tcv_agg's l2: 0.141906 + 0.0398442\n",
      "[400]\tcv_agg's l2: 0.139978 + 0.0394805\n",
      "[500]\tcv_agg's l2: 0.138639 + 0.0392708\n",
      "[600]\tcv_agg's l2: 0.137401 + 0.0390165\n",
      "[700]\tcv_agg's l2: 0.136812 + 0.0388385\n",
      "[800]\tcv_agg's l2: 0.136416 + 0.0385488\n",
      "[900]\tcv_agg's l2: 0.136254 + 0.0379494\n",
      "[1000]\tcv_agg's l2: 0.135834 + 0.0377201\n",
      "[1100]\tcv_agg's l2: 0.135761 + 0.0374124\n",
      "[1200]\tcv_agg's l2: 0.135518 + 0.037149\n"
     ]
    },
    {
     "name": "stderr",
     "output_type": "stream",
     "text": [
      "bagging, val_score: 0.135428:  40%|#####################2                               | 4/10 [00:16<00:24,  4.13s/it][I 2023-11-09 13:33:31,812] Trial 30 finished with value: 0.13542842593134 and parameters: {'bagging_fraction': 0.9898287216420012, 'bagging_freq': 1}. Best is trial 30 with value: 0.13542842593134.\n",
      "bagging, val_score: 0.135428:  40%|#####################2                               | 4/10 [00:16<00:24,  4.13s/it]"
     ]
    },
    {
     "name": "stdout",
     "output_type": "stream",
     "text": [
      "Early stopping, best iteration is:\n",
      "[1166]\tcv_agg's l2: 0.135428 + 0.0371263\n",
      "[100]\tcv_agg's l2: 0.158042 + 0.0387961\n",
      "[200]\tcv_agg's l2: 0.14796 + 0.0351245\n",
      "[300]\tcv_agg's l2: 0.14367 + 0.0355571\n",
      "[400]\tcv_agg's l2: 0.141597 + 0.0352504\n",
      "[500]\tcv_agg's l2: 0.139908 + 0.0352147\n",
      "[600]\tcv_agg's l2: 0.139349 + 0.035461\n",
      "[700]\tcv_agg's l2: 0.138964 + 0.034903\n",
      "[800]\tcv_agg's l2: 0.138376 + 0.0344383\n",
      "[900]\tcv_agg's l2: 0.137984 + 0.0342364\n",
      "[1000]\tcv_agg's l2: 0.137979 + 0.0341809\n",
      "[1100]\tcv_agg's l2: 0.137795 + 0.0338165\n",
      "[1200]\tcv_agg's l2: 0.137832 + 0.0337163\n",
      "Early stopping, best iteration is:\n",
      "[1166]\tcv_agg's l2: 0.135428 + 0.0371263\n"
     ]
    },
    {
     "name": "stderr",
     "output_type": "stream",
     "text": [
      "bagging, val_score: 0.135428:  50%|##########################5                          | 5/10 [00:20<00:20,  4.15s/it][I 2023-11-09 13:33:35,992] Trial 31 finished with value: 0.13796301582780246 and parameters: {'bagging_fraction': 0.9988693789454521, 'bagging_freq': 1}. Best is trial 30 with value: 0.13542842593134.\n",
      "bagging, val_score: 0.135428:  50%|##########################5                          | 5/10 [00:20<00:20,  4.15s/it]"
     ]
    },
    {
     "name": "stdout",
     "output_type": "stream",
     "text": [
      "[100]\tcv_agg's l2: 0.156833 + 0.0390849\n",
      "[200]\tcv_agg's l2: 0.146784 + 0.0359885\n",
      "[300]\tcv_agg's l2: 0.141862 + 0.0349447\n",
      "[400]\tcv_agg's l2: 0.139449 + 0.0347105\n",
      "[500]\tcv_agg's l2: 0.138444 + 0.0348213\n",
      "[600]\tcv_agg's l2: 0.137588 + 0.0349384\n",
      "[700]\tcv_agg's l2: 0.13723 + 0.0349009\n",
      "[800]\tcv_agg's l2: 0.136722 + 0.0343885\n",
      "[900]\tcv_agg's l2: 0.136536 + 0.0341633\n",
      "[1000]\tcv_agg's l2: 0.136617 + 0.034311\n",
      "[1100]\tcv_agg's l2: 0.136597 + 0.0342158\n",
      "[1200]\tcv_agg's l2: 0.136697 + 0.0344486\n"
     ]
    },
    {
     "name": "stderr",
     "output_type": "stream",
     "text": [
      "bagging, val_score: 0.135428:  60%|###############################8                     | 6/10 [00:24<00:16,  4.22s/it][I 2023-11-09 13:33:40,351] Trial 32 finished with value: 0.13660370706658173 and parameters: {'bagging_fraction': 0.976403705316356, 'bagging_freq': 1}. Best is trial 30 with value: 0.13542842593134.\n",
      "bagging, val_score: 0.135428:  60%|###############################8                     | 6/10 [00:24<00:16,  4.22s/it]"
     ]
    },
    {
     "name": "stdout",
     "output_type": "stream",
     "text": [
      "Early stopping, best iteration is:\n",
      "[1166]\tcv_agg's l2: 0.135428 + 0.0371263\n",
      "[100]\tcv_agg's l2: 0.159705 + 0.0445336\n",
      "[200]\tcv_agg's l2: 0.1481 + 0.0409156\n",
      "[300]\tcv_agg's l2: 0.145406 + 0.0408735\n",
      "[400]\tcv_agg's l2: 0.144863 + 0.0414386\n",
      "[500]\tcv_agg's l2: 0.142697 + 0.0411122\n",
      "[600]\tcv_agg's l2: 0.141946 + 0.040158\n",
      "[700]\tcv_agg's l2: 0.141159 + 0.039989\n",
      "[800]\tcv_agg's l2: 0.140581 + 0.0396274\n",
      "[900]\tcv_agg's l2: 0.140768 + 0.0397582\n",
      "[1000]\tcv_agg's l2: 0.140696 + 0.0399018\n",
      "[1100]\tcv_agg's l2: 0.140628 + 0.0396082\n",
      "[1200]\tcv_agg's l2: 0.140757 + 0.0392111\n"
     ]
    },
    {
     "name": "stderr",
     "output_type": "stream",
     "text": [
      "bagging, val_score: 0.135428:  70%|#####################################                | 7/10 [00:29<00:12,  4.24s/it][I 2023-11-09 13:33:44,646] Trial 33 finished with value: 0.14062567985098845 and parameters: {'bagging_fraction': 0.9932745608952431, 'bagging_freq': 1}. Best is trial 30 with value: 0.13542842593134.\n",
      "bagging, val_score: 0.135428:  70%|#####################################                | 7/10 [00:29<00:12,  4.24s/it]"
     ]
    },
    {
     "name": "stdout",
     "output_type": "stream",
     "text": [
      "Early stopping, best iteration is:\n",
      "[1166]\tcv_agg's l2: 0.135428 + 0.0371263\n",
      "[100]\tcv_agg's l2: 0.160005 + 0.0407488\n",
      "[200]\tcv_agg's l2: 0.148712 + 0.0373571\n",
      "[300]\tcv_agg's l2: 0.144962 + 0.0366504\n",
      "[400]\tcv_agg's l2: 0.141817 + 0.0360348\n",
      "[500]\tcv_agg's l2: 0.140313 + 0.0358483\n",
      "[600]\tcv_agg's l2: 0.139767 + 0.0358043\n",
      "[700]\tcv_agg's l2: 0.139429 + 0.0354294\n",
      "[800]\tcv_agg's l2: 0.138807 + 0.0349928\n",
      "[900]\tcv_agg's l2: 0.138195 + 0.0346056\n",
      "[1000]\tcv_agg's l2: 0.137868 + 0.034128\n",
      "[1100]\tcv_agg's l2: 0.13784 + 0.0344202\n",
      "[1200]\tcv_agg's l2: 0.137702 + 0.0340936\n"
     ]
    },
    {
     "name": "stderr",
     "output_type": "stream",
     "text": [
      "bagging, val_score: 0.135428:  80%|##########################################4          | 8/10 [00:34<00:08,  4.41s/it][I 2023-11-09 13:33:49,428] Trial 34 finished with value: 0.137678428220534 and parameters: {'bagging_fraction': 0.9957452991295533, 'bagging_freq': 3}. Best is trial 30 with value: 0.13542842593134.\n",
      "bagging, val_score: 0.135428:  80%|##########################################4          | 8/10 [00:34<00:08,  4.41s/it]"
     ]
    },
    {
     "name": "stdout",
     "output_type": "stream",
     "text": [
      "Early stopping, best iteration is:\n",
      "[1166]\tcv_agg's l2: 0.135428 + 0.0371263\n",
      "[100]\tcv_agg's l2: 0.169364 + 0.046892\n",
      "[200]\tcv_agg's l2: 0.15811 + 0.0431861\n",
      "[300]\tcv_agg's l2: 0.15388 + 0.0430638\n",
      "[400]\tcv_agg's l2: 0.151591 + 0.0420686\n",
      "[500]\tcv_agg's l2: 0.149878 + 0.0404374\n",
      "[600]\tcv_agg's l2: 0.149767 + 0.0407781\n",
      "[700]\tcv_agg's l2: 0.148981 + 0.0392911\n",
      "[800]\tcv_agg's l2: 0.148164 + 0.0390021\n",
      "[900]\tcv_agg's l2: 0.147565 + 0.0385028\n",
      "[1000]\tcv_agg's l2: 0.147152 + 0.0378835\n",
      "[1100]\tcv_agg's l2: 0.146988 + 0.0378068\n",
      "[1200]\tcv_agg's l2: 0.146624 + 0.0371925\n"
     ]
    },
    {
     "name": "stderr",
     "output_type": "stream",
     "text": [
      "bagging, val_score: 0.135428:  90%|###############################################7     | 9/10 [00:39<00:04,  4.64s/it][I 2023-11-09 13:33:54,565] Trial 35 finished with value: 0.14703977143253855 and parameters: {'bagging_fraction': 0.8314983528773161, 'bagging_freq': 4}. Best is trial 30 with value: 0.13542842593134.\n",
      "bagging, val_score: 0.135428:  90%|###############################################7     | 9/10 [00:39<00:04,  4.64s/it]"
     ]
    },
    {
     "name": "stdout",
     "output_type": "stream",
     "text": [
      "Early stopping, best iteration is:\n",
      "[1166]\tcv_agg's l2: 0.135428 + 0.0371263\n",
      "[100]\tcv_agg's l2: 0.174755 + 0.0495336\n",
      "[200]\tcv_agg's l2: 0.161632 + 0.0455892\n",
      "[300]\tcv_agg's l2: 0.156731 + 0.0433242\n",
      "[400]\tcv_agg's l2: 0.153624 + 0.0416255\n",
      "[500]\tcv_agg's l2: 0.150349 + 0.0409621\n",
      "[600]\tcv_agg's l2: 0.150049 + 0.0401102\n",
      "[700]\tcv_agg's l2: 0.149278 + 0.0404963\n",
      "[800]\tcv_agg's l2: 0.148384 + 0.0402053\n",
      "[900]\tcv_agg's l2: 0.148294 + 0.0404579\n",
      "[1000]\tcv_agg's l2: 0.147727 + 0.039862\n",
      "[1100]\tcv_agg's l2: 0.147404 + 0.0396962\n",
      "[1200]\tcv_agg's l2: 0.147011 + 0.0393554\n"
     ]
    },
    {
     "name": "stderr",
     "output_type": "stream",
     "text": [
      "bagging, val_score: 0.135428: 100%|####################################################| 10/10 [00:43<00:00,  4.59s/it][I 2023-11-09 13:33:59,044] Trial 36 finished with value: 0.1471408592439231 and parameters: {'bagging_fraction': 0.8465912116659411, 'bagging_freq': 3}. Best is trial 30 with value: 0.13542842593134.\n",
      "bagging, val_score: 0.135428: 100%|####################################################| 10/10 [00:43<00:00,  4.37s/it]\n"
     ]
    },
    {
     "name": "stdout",
     "output_type": "stream",
     "text": [
      "Early stopping, best iteration is:\n",
      "[1166]\tcv_agg's l2: 0.135428 + 0.0371263\n"
     ]
    },
    {
     "name": "stderr",
     "output_type": "stream",
     "text": [
      "feature_fraction_stage2, val_score: 0.135428:   0%|                                              | 0/3 [00:00<?, ?it/s]"
     ]
    },
    {
     "name": "stdout",
     "output_type": "stream",
     "text": [
      "[100]\tcv_agg's l2: 0.149651 + 0.0345894\n",
      "[200]\tcv_agg's l2: 0.139758 + 0.0298982\n",
      "[300]\tcv_agg's l2: 0.134393 + 0.0284866\n",
      "[400]\tcv_agg's l2: 0.131608 + 0.0270853\n",
      "[500]\tcv_agg's l2: 0.130343 + 0.0263474\n",
      "[600]\tcv_agg's l2: 0.129333 + 0.02618\n",
      "[700]\tcv_agg's l2: 0.128827 + 0.0259373\n"
     ]
    },
    {
     "name": "stderr",
     "output_type": "stream",
     "text": [
      "feature_fraction_stage2, val_score: 0.128596:  33%|############6                         | 1/3 [00:02<00:05,  2.85s/it][I 2023-11-09 13:34:01,905] Trial 37 finished with value: 0.12859584081641756 and parameters: {'feature_fraction': 0.48000000000000004}. Best is trial 37 with value: 0.12859584081641756.\n",
      "feature_fraction_stage2, val_score: 0.128596:  33%|############6                         | 1/3 [00:02<00:05,  2.85s/it]"
     ]
    },
    {
     "name": "stdout",
     "output_type": "stream",
     "text": [
      "[800]\tcv_agg's l2: 0.128842 + 0.0256233\n",
      "Early stopping, best iteration is:\n",
      "[721]\tcv_agg's l2: 0.128596 + 0.0258124\n",
      "[100]\tcv_agg's l2: 0.152869 + 0.0369863\n",
      "[200]\tcv_agg's l2: 0.145126 + 0.0347671\n",
      "[300]\tcv_agg's l2: 0.141374 + 0.0330363\n",
      "[400]\tcv_agg's l2: 0.139193 + 0.0318634\n",
      "[500]\tcv_agg's l2: 0.137185 + 0.0309226\n",
      "[600]\tcv_agg's l2: 0.136803 + 0.0310534\n",
      "[700]\tcv_agg's l2: 0.135804 + 0.0306843\n"
     ]
    },
    {
     "name": "stderr",
     "output_type": "stream",
     "text": [
      "feature_fraction_stage2, val_score: 0.128596:  67%|#########################3            | 2/3 [00:05<00:02,  2.83s/it][I 2023-11-09 13:34:04,722] Trial 38 finished with value: 0.13560005372635248 and parameters: {'feature_fraction': 0.44800000000000006}. Best is trial 37 with value: 0.12859584081641756.\n",
      "feature_fraction_stage2, val_score: 0.128596:  67%|#########################3            | 2/3 [00:05<00:02,  2.83s/it]"
     ]
    },
    {
     "name": "stdout",
     "output_type": "stream",
     "text": [
      "[800]\tcv_agg's l2: 0.135352 + 0.03009\n",
      "Early stopping, best iteration is:\n",
      "[721]\tcv_agg's l2: 0.128596 + 0.0258124\n",
      "[100]\tcv_agg's l2: 0.160876 + 0.0395234\n",
      "[200]\tcv_agg's l2: 0.149752 + 0.0362567\n",
      "[300]\tcv_agg's l2: 0.144921 + 0.0348204\n",
      "[400]\tcv_agg's l2: 0.142153 + 0.0337786\n",
      "[500]\tcv_agg's l2: 0.140343 + 0.0326322\n",
      "[600]\tcv_agg's l2: 0.139049 + 0.0322607\n",
      "[700]\tcv_agg's l2: 0.138479 + 0.0317706\n"
     ]
    },
    {
     "name": "stderr",
     "output_type": "stream",
     "text": [
      "feature_fraction_stage2, val_score: 0.128596: 100%|######################################| 3/3 [00:08<00:00,  2.83s/it][I 2023-11-09 13:34:07,544] Trial 39 finished with value: 0.13842830482528662 and parameters: {'feature_fraction': 0.41600000000000004}. Best is trial 37 with value: 0.12859584081641756.\n",
      "feature_fraction_stage2, val_score: 0.128596: 100%|######################################| 3/3 [00:08<00:00,  2.83s/it]\n"
     ]
    },
    {
     "name": "stdout",
     "output_type": "stream",
     "text": [
      "[800]\tcv_agg's l2: 0.137829 + 0.0314365\n",
      "Early stopping, best iteration is:\n",
      "[721]\tcv_agg's l2: 0.128596 + 0.0258124\n"
     ]
    },
    {
     "name": "stderr",
     "output_type": "stream",
     "text": [
      "regularization_factors, val_score: 0.128596:   0%|                                              | 0/20 [00:00<?, ?it/s]"
     ]
    },
    {
     "name": "stdout",
     "output_type": "stream",
     "text": [
      "[100]\tcv_agg's l2: 0.149079 + 0.034999\n",
      "[200]\tcv_agg's l2: 0.138586 + 0.0312424\n",
      "[300]\tcv_agg's l2: 0.13379 + 0.0296606\n",
      "[400]\tcv_agg's l2: 0.131833 + 0.0296093\n",
      "[500]\tcv_agg's l2: 0.1305 + 0.027996\n",
      "[600]\tcv_agg's l2: 0.129841 + 0.0275306\n",
      "[700]\tcv_agg's l2: 0.129341 + 0.0269516\n"
     ]
    },
    {
     "name": "stderr",
     "output_type": "stream",
     "text": [
      "regularization_factors, val_score: 0.128596:   5%|#9                                    | 1/20 [00:02<00:55,  2.91s/it][I 2023-11-09 13:34:10,464] Trial 40 finished with value: 0.12923409233290628 and parameters: {'lambda_l1': 0.0014119622628558071, 'lambda_l2': 0.02972982544140481}. Best is trial 40 with value: 0.12923409233290628.\n",
      "regularization_factors, val_score: 0.128596:   5%|#9                                    | 1/20 [00:02<00:55,  2.91s/it]"
     ]
    },
    {
     "name": "stdout",
     "output_type": "stream",
     "text": [
      "[800]\tcv_agg's l2: 0.128708 + 0.0264948\n",
      "Early stopping, best iteration is:\n",
      "[721]\tcv_agg's l2: 0.128596 + 0.0258124\n",
      "[100]\tcv_agg's l2: 0.148666 + 0.0328658\n",
      "[200]\tcv_agg's l2: 0.139274 + 0.0284433\n",
      "[300]\tcv_agg's l2: 0.134805 + 0.0272717\n",
      "[400]\tcv_agg's l2: 0.133125 + 0.025912\n",
      "[500]\tcv_agg's l2: 0.131649 + 0.0249255\n",
      "[600]\tcv_agg's l2: 0.131173 + 0.0244751\n",
      "[700]\tcv_agg's l2: 0.130427 + 0.0244691\n"
     ]
    },
    {
     "name": "stderr",
     "output_type": "stream",
     "text": [
      "regularization_factors, val_score: 0.128596:  10%|###8                                  | 2/20 [00:05<00:54,  3.01s/it][I 2023-11-09 13:34:13,550] Trial 41 finished with value: 0.13046017251995196 and parameters: {'lambda_l1': 0.0033497100880441172, 'lambda_l2': 0.04233918016357554}. Best is trial 40 with value: 0.12923409233290628.\n",
      "regularization_factors, val_score: 0.128596:  10%|###8                                  | 2/20 [00:06<00:54,  3.01s/it]"
     ]
    },
    {
     "name": "stdout",
     "output_type": "stream",
     "text": [
      "[800]\tcv_agg's l2: 0.130013 + 0.0239704\n",
      "Early stopping, best iteration is:\n",
      "[721]\tcv_agg's l2: 0.128596 + 0.0258124\n",
      "[100]\tcv_agg's l2: 0.149079 + 0.034999\n",
      "[200]\tcv_agg's l2: 0.138586 + 0.0312423\n",
      "[300]\tcv_agg's l2: 0.13379 + 0.0296604\n",
      "[400]\tcv_agg's l2: 0.131833 + 0.0296092\n",
      "[500]\tcv_agg's l2: 0.1305 + 0.0279958\n",
      "[600]\tcv_agg's l2: 0.12984 + 0.0275304\n",
      "[700]\tcv_agg's l2: 0.129341 + 0.0269514\n"
     ]
    },
    {
     "name": "stderr",
     "output_type": "stream",
     "text": [
      "regularization_factors, val_score: 0.128596:  15%|#####7                                | 3/20 [00:09<00:51,  3.06s/it][I 2023-11-09 13:34:16,656] Trial 42 finished with value: 0.12923399154565868 and parameters: {'lambda_l1': 0.0013660051130539258, 'lambda_l2': 0.030087852220329843}. Best is trial 42 with value: 0.12923399154565868.\n",
      "regularization_factors, val_score: 0.128596:  15%|#####7                                | 3/20 [00:09<00:51,  3.06s/it]"
     ]
    },
    {
     "name": "stdout",
     "output_type": "stream",
     "text": [
      "[800]\tcv_agg's l2: 0.128708 + 0.0264946\n",
      "Early stopping, best iteration is:\n",
      "[721]\tcv_agg's l2: 0.128596 + 0.0258124\n",
      "[100]\tcv_agg's l2: 0.14735 + 0.0337457\n",
      "[200]\tcv_agg's l2: 0.138037 + 0.0287191\n",
      "[300]\tcv_agg's l2: 0.132462 + 0.0272668\n",
      "[400]\tcv_agg's l2: 0.130094 + 0.0253612\n",
      "[500]\tcv_agg's l2: 0.129941 + 0.0244318\n",
      "[600]\tcv_agg's l2: 0.129158 + 0.0242249\n",
      "[700]\tcv_agg's l2: 0.128481 + 0.0236297\n",
      "[800]\tcv_agg's l2: 0.128065 + 0.0227362\n"
     ]
    },
    {
     "name": "stderr",
     "output_type": "stream",
     "text": [
      "regularization_factors, val_score: 0.127943:  20%|#######6                              | 4/20 [00:12<00:51,  3.21s/it][I 2023-11-09 13:34:20,092] Trial 43 finished with value: 0.12794322045466935 and parameters: {'lambda_l1': 0.0016461822809929144, 'lambda_l2': 0.039496758776274656}. Best is trial 43 with value: 0.12794322045466935.\n"
     ]
    },
    {
     "name": "stdout",
     "output_type": "stream",
     "text": [
      "[900]\tcv_agg's l2: 0.128139 + 0.0226212\n",
      "Early stopping, best iteration is:\n",
      "[848]\tcv_agg's l2: 0.127943 + 0.0226085\n"
     ]
    },
    {
     "name": "stderr",
     "output_type": "stream",
     "text": [
      "\r",
      "regularization_factors, val_score: 0.127943:  20%|#######6                              | 4/20 [00:12<00:51,  3.21s/it]"
     ]
    },
    {
     "name": "stdout",
     "output_type": "stream",
     "text": [
      "[100]\tcv_agg's l2: 0.147695 + 0.0335864\n",
      "[200]\tcv_agg's l2: 0.138322 + 0.0292192\n",
      "[300]\tcv_agg's l2: 0.13415 + 0.0277856\n",
      "[400]\tcv_agg's l2: 0.132063 + 0.0272649\n",
      "[500]\tcv_agg's l2: 0.131088 + 0.0266517\n",
      "[600]\tcv_agg's l2: 0.130586 + 0.0259117\n",
      "[700]\tcv_agg's l2: 0.130174 + 0.0248648\n",
      "[800]\tcv_agg's l2: 0.129821 + 0.0247624\n"
     ]
    },
    {
     "name": "stderr",
     "output_type": "stream",
     "text": [
      "regularization_factors, val_score: 0.127943:  25%|#########5                            | 5/20 [00:16<00:50,  3.37s/it][I 2023-11-09 13:34:23,745] Trial 44 finished with value: 0.12962721661675541 and parameters: {'lambda_l1': 0.001540230859732876, 'lambda_l2': 0.03632955634656858}. Best is trial 43 with value: 0.12794322045466935.\n",
      "regularization_factors, val_score: 0.127943:  25%|#########5                            | 5/20 [00:16<00:50,  3.37s/it]"
     ]
    },
    {
     "name": "stdout",
     "output_type": "stream",
     "text": [
      "[900]\tcv_agg's l2: 0.12965 + 0.0247462\n",
      "Early stopping, best iteration is:\n",
      "[848]\tcv_agg's l2: 0.127943 + 0.0226085\n",
      "[100]\tcv_agg's l2: 0.14688 + 0.0340436\n",
      "[200]\tcv_agg's l2: 0.137453 + 0.0291735\n",
      "[300]\tcv_agg's l2: 0.132461 + 0.0274691\n",
      "[400]\tcv_agg's l2: 0.13014 + 0.0256596\n",
      "[500]\tcv_agg's l2: 0.129144 + 0.025013\n",
      "[600]\tcv_agg's l2: 0.128369 + 0.02485\n",
      "[700]\tcv_agg's l2: 0.127745 + 0.0243499\n",
      "[800]\tcv_agg's l2: 0.127098 + 0.0235387\n"
     ]
    },
    {
     "name": "stderr",
     "output_type": "stream",
     "text": [
      "\r",
      "regularization_factors, val_score: 0.126953:  25%|#########5                            | 5/20 [00:19<00:50,  3.37s/it]"
     ]
    },
    {
     "name": "stdout",
     "output_type": "stream",
     "text": [
      "[900]\tcv_agg's l2: 0.127096 + 0.0234219\n",
      "Early stopping, best iteration is:\n",
      "[852]\tcv_agg's l2: 0.126953 + 0.0234028\n"
     ]
    },
    {
     "name": "stderr",
     "output_type": "stream",
     "text": [
      "regularization_factors, val_score: 0.126953:  30%|###########4                          | 6/20 [00:19<00:46,  3.32s/it][I 2023-11-09 13:34:26,964] Trial 45 finished with value: 0.12695313379260303 and parameters: {'lambda_l1': 0.001278563507542555, 'lambda_l2': 0.038899104409389165}. Best is trial 45 with value: 0.12695313379260303.\n",
      "regularization_factors, val_score: 0.126953:  30%|###########4                          | 6/20 [00:19<00:46,  3.32s/it]"
     ]
    },
    {
     "name": "stdout",
     "output_type": "stream",
     "text": [
      "[100]\tcv_agg's l2: 0.147814 + 0.0324612\n",
      "[200]\tcv_agg's l2: 0.13859 + 0.0278477\n",
      "[300]\tcv_agg's l2: 0.134097 + 0.0262334\n",
      "[400]\tcv_agg's l2: 0.131631 + 0.0251292\n",
      "[500]\tcv_agg's l2: 0.130176 + 0.0242113\n",
      "[600]\tcv_agg's l2: 0.13017 + 0.0236236\n",
      "[700]\tcv_agg's l2: 0.129449 + 0.023307\n",
      "[800]\tcv_agg's l2: 0.12917 + 0.0232158\n"
     ]
    },
    {
     "name": "stderr",
     "output_type": "stream",
     "text": [
      "\r",
      "regularization_factors, val_score: 0.126953:  30%|###########4                          | 6/20 [00:22<00:46,  3.32s/it]"
     ]
    },
    {
     "name": "stdout",
     "output_type": "stream",
     "text": [
      "[900]\tcv_agg's l2: 0.12907 + 0.0226961\n",
      "Early stopping, best iteration is:\n",
      "[852]\tcv_agg's l2: 0.126953 + 0.0234028\n"
     ]
    },
    {
     "name": "stderr",
     "output_type": "stream",
     "text": [
      "regularization_factors, val_score: 0.126953:  35%|#############3                        | 7/20 [00:22<00:43,  3.31s/it][I 2023-11-09 13:34:30,255] Trial 46 finished with value: 0.1290807206404005 and parameters: {'lambda_l1': 0.0010018103537198745, 'lambda_l2': 0.03301733583881469}. Best is trial 45 with value: 0.12695313379260303.\n",
      "regularization_factors, val_score: 0.126953:  35%|#############3                        | 7/20 [00:22<00:43,  3.31s/it]"
     ]
    },
    {
     "name": "stdout",
     "output_type": "stream",
     "text": [
      "[100]\tcv_agg's l2: 0.148243 + 0.0330028\n",
      "[200]\tcv_agg's l2: 0.138358 + 0.0285666\n",
      "[300]\tcv_agg's l2: 0.133512 + 0.0259643\n",
      "[400]\tcv_agg's l2: 0.131535 + 0.0247458\n",
      "[500]\tcv_agg's l2: 0.129795 + 0.0235811\n",
      "[600]\tcv_agg's l2: 0.128623 + 0.0224998\n",
      "[700]\tcv_agg's l2: 0.128132 + 0.0222866\n",
      "[800]\tcv_agg's l2: 0.127413 + 0.0218358\n",
      "[900]\tcv_agg's l2: 0.127425 + 0.0213986\n",
      "Early stopping, best iteration is:\n",
      "[852]\tcv_agg's l2: 0.126953 + 0.0234028\n"
     ]
    },
    {
     "name": "stderr",
     "output_type": "stream",
     "text": [
      "regularization_factors, val_score: 0.126953:  40%|###############2                      | 8/20 [00:26<00:41,  3.47s/it][I 2023-11-09 13:34:34,084] Trial 47 finished with value: 0.12746328655347086 and parameters: {'lambda_l1': 0.0003879077377745589, 'lambda_l2': 0.030668186074367054}. Best is trial 45 with value: 0.12695313379260303.\n",
      "regularization_factors, val_score: 0.126953:  40%|###############2                      | 8/20 [00:26<00:41,  3.47s/it]"
     ]
    },
    {
     "name": "stdout",
     "output_type": "stream",
     "text": [
      "[100]\tcv_agg's l2: 0.171561 + 0.051455\n",
      "[200]\tcv_agg's l2: 0.157607 + 0.0498379\n",
      "[300]\tcv_agg's l2: 0.152503 + 0.0491356\n",
      "[400]\tcv_agg's l2: 0.149581 + 0.0478592\n",
      "[500]\tcv_agg's l2: 0.147693 + 0.0468239\n",
      "[600]\tcv_agg's l2: 0.145988 + 0.0450076\n",
      "[700]\tcv_agg's l2: 0.144616 + 0.0438607\n",
      "[800]\tcv_agg's l2: 0.144121 + 0.0430498\n"
     ]
    },
    {
     "name": "stderr",
     "output_type": "stream",
     "text": [
      "regularization_factors, val_score: 0.126953:  45%|#################1                    | 9/20 [00:30<00:38,  3.49s/it][I 2023-11-09 13:34:37,619] Trial 48 finished with value: 0.14389308050436986 and parameters: {'lambda_l1': 2.0024818008262753e-05, 'lambda_l2': 8.927036407903719}. Best is trial 45 with value: 0.12695313379260303.\n",
      "regularization_factors, val_score: 0.126953:  45%|#################1                    | 9/20 [00:30<00:38,  3.49s/it]"
     ]
    },
    {
     "name": "stdout",
     "output_type": "stream",
     "text": [
      "[900]\tcv_agg's l2: 0.143781 + 0.0426733\n",
      "Early stopping, best iteration is:\n",
      "[852]\tcv_agg's l2: 0.126953 + 0.0234028\n",
      "[100]\tcv_agg's l2: 0.16537 + 0.0410426\n",
      "[200]\tcv_agg's l2: 0.156506 + 0.0392906\n",
      "[300]\tcv_agg's l2: 0.154042 + 0.0386751\n",
      "[400]\tcv_agg's l2: 0.152953 + 0.0385669\n",
      "[500]\tcv_agg's l2: 0.152338 + 0.0383151\n",
      "[600]\tcv_agg's l2: 0.151966 + 0.03825\n",
      "[700]\tcv_agg's l2: 0.151681 + 0.0381585\n",
      "[800]\tcv_agg's l2: 0.151429 + 0.0381322\n",
      "[900]\tcv_agg's l2: 0.151152 + 0.0381204\n"
     ]
    },
    {
     "name": "stderr",
     "output_type": "stream",
     "text": [
      "regularization_factors, val_score: 0.126953:  50%|##################5                  | 10/20 [00:32<00:32,  3.23s/it][I 2023-11-09 13:34:40,250] Trial 49 finished with value: 0.15123655292147828 and parameters: {'lambda_l1': 2.493664810795287, 'lambda_l2': 1.071835637179661e-07}. Best is trial 45 with value: 0.12695313379260303.\n",
      "regularization_factors, val_score: 0.126953:  50%|##################5                  | 10/20 [00:32<00:32,  3.23s/it]"
     ]
    },
    {
     "name": "stdout",
     "output_type": "stream",
     "text": [
      "Early stopping, best iteration is:\n",
      "[852]\tcv_agg's l2: 0.126953 + 0.0234028\n",
      "[100]\tcv_agg's l2: 0.149571 + 0.0346146\n",
      "[200]\tcv_agg's l2: 0.141499 + 0.0299776\n",
      "[300]\tcv_agg's l2: 0.13616 + 0.0290788\n",
      "[400]\tcv_agg's l2: 0.133263 + 0.027855\n",
      "[500]\tcv_agg's l2: 0.131778 + 0.0271634\n",
      "[600]\tcv_agg's l2: 0.13072 + 0.0272486\n",
      "[700]\tcv_agg's l2: 0.130153 + 0.0267562\n",
      "[800]\tcv_agg's l2: 0.129962 + 0.0262659\n"
     ]
    },
    {
     "name": "stderr",
     "output_type": "stream",
     "text": [
      "\r",
      "regularization_factors, val_score: 0.126953:  50%|##################5                  | 10/20 [00:36<00:32,  3.23s/it]"
     ]
    },
    {
     "name": "stdout",
     "output_type": "stream",
     "text": [
      "[900]\tcv_agg's l2: 0.129944 + 0.0262476\n",
      "Early stopping, best iteration is:\n",
      "[852]\tcv_agg's l2: 0.126953 + 0.0234028\n"
     ]
    },
    {
     "name": "stderr",
     "output_type": "stream",
     "text": [
      "regularization_factors, val_score: 0.126953:  55%|####################3                | 11/20 [00:36<00:29,  3.30s/it][I 2023-11-09 13:34:43,705] Trial 50 finished with value: 0.1298207932421215 and parameters: {'lambda_l1': 7.256873274828506e-05, 'lambda_l2': 0.002497208135553057}. Best is trial 45 with value: 0.12695313379260303.\n",
      "regularization_factors, val_score: 0.126953:  55%|####################3                | 11/20 [00:36<00:29,  3.30s/it]"
     ]
    },
    {
     "name": "stdout",
     "output_type": "stream",
     "text": [
      "[100]\tcv_agg's l2: 0.150903 + 0.0340794\n",
      "[200]\tcv_agg's l2: 0.142102 + 0.0287916\n",
      "[300]\tcv_agg's l2: 0.138202 + 0.0283602\n",
      "[400]\tcv_agg's l2: 0.135298 + 0.0270873\n",
      "[500]\tcv_agg's l2: 0.133842 + 0.0263394\n",
      "[600]\tcv_agg's l2: 0.133373 + 0.02554\n",
      "[700]\tcv_agg's l2: 0.132666 + 0.0252637\n",
      "[800]\tcv_agg's l2: 0.132229 + 0.0249124\n",
      "[900]\tcv_agg's l2: 0.132044 + 0.0249636\n",
      "Early stopping, best iteration is:\n",
      "[852]\tcv_agg's l2: 0.126953 + 0.0234028\n"
     ]
    },
    {
     "name": "stderr",
     "output_type": "stream",
     "text": [
      "regularization_factors, val_score: 0.126953:  60%|######################2              | 12/20 [00:39<00:26,  3.30s/it][I 2023-11-09 13:34:47,025] Trial 51 finished with value: 0.13222437803416162 and parameters: {'lambda_l1': 0.0017932666570200926, 'lambda_l2': 0.07886868394461903}. Best is trial 45 with value: 0.12695313379260303.\n",
      "regularization_factors, val_score: 0.126953:  60%|######################2              | 12/20 [00:39<00:26,  3.30s/it]"
     ]
    },
    {
     "name": "stdout",
     "output_type": "stream",
     "text": [
      "[100]\tcv_agg's l2: 0.150072 + 0.0343643\n",
      "[200]\tcv_agg's l2: 0.139838 + 0.0302087\n",
      "[300]\tcv_agg's l2: 0.135324 + 0.0282059\n",
      "[400]\tcv_agg's l2: 0.133585 + 0.0265138\n",
      "[500]\tcv_agg's l2: 0.132354 + 0.0261095\n",
      "[600]\tcv_agg's l2: 0.131745 + 0.0256777\n",
      "[700]\tcv_agg's l2: 0.131055 + 0.0259382\n",
      "[800]\tcv_agg's l2: 0.131099 + 0.0257826\n"
     ]
    },
    {
     "name": "stderr",
     "output_type": "stream",
     "text": [
      "\r",
      "regularization_factors, val_score: 0.126953:  60%|######################2              | 12/20 [00:42<00:26,  3.30s/it]"
     ]
    },
    {
     "name": "stdout",
     "output_type": "stream",
     "text": [
      "[900]\tcv_agg's l2: 0.130988 + 0.0254089\n",
      "Early stopping, best iteration is:\n",
      "[852]\tcv_agg's l2: 0.126953 + 0.0234028\n"
     ]
    },
    {
     "name": "stderr",
     "output_type": "stream",
     "text": [
      "regularization_factors, val_score: 0.126953:  65%|########################             | 13/20 [00:42<00:23,  3.32s/it][I 2023-11-09 13:34:50,378] Trial 52 finished with value: 0.1311032360197849 and parameters: {'lambda_l1': 0.001096650250584753, 'lambda_l2': 0.057648300770709836}. Best is trial 45 with value: 0.12695313379260303.\n",
      "regularization_factors, val_score: 0.126953:  65%|########################             | 13/20 [00:42<00:23,  3.32s/it]"
     ]
    },
    {
     "name": "stdout",
     "output_type": "stream",
     "text": [
      "[100]\tcv_agg's l2: 0.149572 + 0.0346151\n",
      "[200]\tcv_agg's l2: 0.1415 + 0.0299782\n",
      "[300]\tcv_agg's l2: 0.136001 + 0.0292072\n",
      "[400]\tcv_agg's l2: 0.132437 + 0.0283739\n",
      "[500]\tcv_agg's l2: 0.131309 + 0.027546\n",
      "[600]\tcv_agg's l2: 0.130581 + 0.0272395\n",
      "[700]\tcv_agg's l2: 0.129687 + 0.0263337\n",
      "[800]\tcv_agg's l2: 0.129397 + 0.0260381\n"
     ]
    },
    {
     "name": "stderr",
     "output_type": "stream",
     "text": [
      "regularization_factors, val_score: 0.126953:  70%|#########################9           | 14/20 [00:46<00:19,  3.29s/it][I 2023-11-09 13:34:53,618] Trial 53 finished with value: 0.12908505064206127 and parameters: {'lambda_l1': 0.00029407556092028725, 'lambda_l2': 0.001046426398281767}. Best is trial 45 with value: 0.12695313379260303.\n",
      "regularization_factors, val_score: 0.126953:  70%|#########################9           | 14/20 [00:46<00:19,  3.29s/it]"
     ]
    },
    {
     "name": "stdout",
     "output_type": "stream",
     "text": [
      "[900]\tcv_agg's l2: 0.129036 + 0.0257128\n",
      "Early stopping, best iteration is:\n",
      "[852]\tcv_agg's l2: 0.126953 + 0.0234028\n",
      "[100]\tcv_agg's l2: 0.149651 + 0.0345894\n",
      "[200]\tcv_agg's l2: 0.13965 + 0.0299794\n",
      "[300]\tcv_agg's l2: 0.134224 + 0.0286351\n",
      "[400]\tcv_agg's l2: 0.131199 + 0.0274699\n",
      "[500]\tcv_agg's l2: 0.13 + 0.026679\n",
      "[600]\tcv_agg's l2: 0.129088 + 0.0264163\n",
      "[700]\tcv_agg's l2: 0.128499 + 0.0262541\n",
      "[800]\tcv_agg's l2: 0.128443 + 0.0260034\n"
     ]
    },
    {
     "name": "stderr",
     "output_type": "stream",
     "text": [
      "regularization_factors, val_score: 0.126953:  75%|###########################7         | 15/20 [00:49<00:16,  3.27s/it][I 2023-11-09 13:34:56,827] Trial 54 finished with value: 0.12848717408339214 and parameters: {'lambda_l1': 4.340621959506074e-08, 'lambda_l2': 0.00021639488357255354}. Best is trial 45 with value: 0.12695313379260303.\n"
     ]
    },
    {
     "name": "stdout",
     "output_type": "stream",
     "text": [
      "[900]\tcv_agg's l2: 0.128303 + 0.0256082\n",
      "Early stopping, best iteration is:\n",
      "[852]\tcv_agg's l2: 0.126953 + 0.0234028\n"
     ]
    },
    {
     "name": "stderr",
     "output_type": "stream",
     "text": [
      "\r",
      "regularization_factors, val_score: 0.126953:  75%|###########################7         | 15/20 [00:49<00:16,  3.27s/it]"
     ]
    },
    {
     "name": "stdout",
     "output_type": "stream",
     "text": [
      "[100]\tcv_agg's l2: 0.149651 + 0.0345894\n",
      "[200]\tcv_agg's l2: 0.13965 + 0.0299794\n",
      "[300]\tcv_agg's l2: 0.134224 + 0.0286351\n",
      "[400]\tcv_agg's l2: 0.131199 + 0.0274699\n",
      "[500]\tcv_agg's l2: 0.13 + 0.026679\n",
      "[600]\tcv_agg's l2: 0.129088 + 0.0264164\n",
      "[700]\tcv_agg's l2: 0.128499 + 0.0262542\n",
      "[800]\tcv_agg's l2: 0.128443 + 0.0260034\n"
     ]
    },
    {
     "name": "stderr",
     "output_type": "stream",
     "text": [
      "regularization_factors, val_score: 0.126953:  80%|#############################6       | 16/20 [00:52<00:12,  3.24s/it][I 2023-11-09 13:35:00,007] Trial 55 finished with value: 0.1284872518275182 and parameters: {'lambda_l1': 3.731434951489937e-08, 'lambda_l2': 6.407942318114566e-05}. Best is trial 45 with value: 0.12695313379260303.\n",
      "regularization_factors, val_score: 0.126953:  80%|#############################6       | 16/20 [00:52<00:12,  3.24s/it]"
     ]
    },
    {
     "name": "stdout",
     "output_type": "stream",
     "text": [
      "[900]\tcv_agg's l2: 0.128304 + 0.0256082\n",
      "Early stopping, best iteration is:\n",
      "[852]\tcv_agg's l2: 0.126953 + 0.0234028\n",
      "[100]\tcv_agg's l2: 0.149651 + 0.0345894\n",
      "[200]\tcv_agg's l2: 0.139758 + 0.0298982\n",
      "[300]\tcv_agg's l2: 0.134393 + 0.0284866\n",
      "[400]\tcv_agg's l2: 0.131608 + 0.0270853\n",
      "[500]\tcv_agg's l2: 0.130343 + 0.0263474\n",
      "[600]\tcv_agg's l2: 0.129333 + 0.02618\n",
      "[700]\tcv_agg's l2: 0.128827 + 0.0259373\n",
      "[800]\tcv_agg's l2: 0.128842 + 0.0256232\n"
     ]
    },
    {
     "name": "stderr",
     "output_type": "stream",
     "text": [
      "\r",
      "regularization_factors, val_score: 0.126953:  80%|#############################6       | 16/20 [00:55<00:12,  3.24s/it]"
     ]
    },
    {
     "name": "stdout",
     "output_type": "stream",
     "text": [
      "[900]\tcv_agg's l2: 0.128686 + 0.0253242\n",
      "Early stopping, best iteration is:\n",
      "[852]\tcv_agg's l2: 0.126953 + 0.0234028\n"
     ]
    },
    {
     "name": "stderr",
     "output_type": "stream",
     "text": [
      "regularization_factors, val_score: 0.126953:  85%|###############################4     | 17/20 [00:55<00:09,  3.25s/it][I 2023-11-09 13:35:03,267] Trial 56 finished with value: 0.12879586198760776 and parameters: {'lambda_l1': 3.3893890113957513e-08, 'lambda_l2': 2.0767763219900822e-05}. Best is trial 45 with value: 0.12695313379260303.\n",
      "regularization_factors, val_score: 0.126953:  85%|###############################4     | 17/20 [00:55<00:09,  3.25s/it]"
     ]
    },
    {
     "name": "stdout",
     "output_type": "stream",
     "text": [
      "[100]\tcv_agg's l2: 0.149651 + 0.0345894\n",
      "[200]\tcv_agg's l2: 0.13965 + 0.0299794\n",
      "[300]\tcv_agg's l2: 0.134224 + 0.0286351\n",
      "[400]\tcv_agg's l2: 0.131199 + 0.0274699\n",
      "[500]\tcv_agg's l2: 0.13 + 0.026679\n",
      "[600]\tcv_agg's l2: 0.129088 + 0.0264164\n",
      "[700]\tcv_agg's l2: 0.128499 + 0.0262542\n",
      "[800]\tcv_agg's l2: 0.128443 + 0.0260034\n"
     ]
    },
    {
     "name": "stderr",
     "output_type": "stream",
     "text": [
      "\r",
      "regularization_factors, val_score: 0.126953:  85%|###############################4     | 17/20 [00:58<00:09,  3.25s/it]"
     ]
    },
    {
     "name": "stdout",
     "output_type": "stream",
     "text": [
      "[900]\tcv_agg's l2: 0.128387 + 0.0256136\n",
      "Early stopping, best iteration is:\n",
      "[852]\tcv_agg's l2: 0.126953 + 0.0234028\n"
     ]
    },
    {
     "name": "stderr",
     "output_type": "stream",
     "text": [
      "regularization_factors, val_score: 0.126953:  90%|#################################3   | 18/20 [00:58<00:06,  3.24s/it][I 2023-11-09 13:35:06,502] Trial 57 finished with value: 0.12845065753285828 and parameters: {'lambda_l1': 2.0933391458418875e-08, 'lambda_l2': 5.624358112809218e-05}. Best is trial 45 with value: 0.12695313379260303.\n",
      "regularization_factors, val_score: 0.126953:  90%|#################################3   | 18/20 [00:58<00:06,  3.24s/it]"
     ]
    },
    {
     "name": "stdout",
     "output_type": "stream",
     "text": [
      "[100]\tcv_agg's l2: 0.149651 + 0.0345894\n",
      "[200]\tcv_agg's l2: 0.13965 + 0.0299794\n",
      "[300]\tcv_agg's l2: 0.134224 + 0.0286351\n",
      "[400]\tcv_agg's l2: 0.131199 + 0.0274699\n",
      "[500]\tcv_agg's l2: 0.13 + 0.026679\n",
      "[600]\tcv_agg's l2: 0.129088 + 0.0264164\n",
      "[700]\tcv_agg's l2: 0.128499 + 0.0262542\n",
      "[800]\tcv_agg's l2: 0.128443 + 0.0260034\n"
     ]
    },
    {
     "name": "stderr",
     "output_type": "stream",
     "text": [
      "\r",
      "regularization_factors, val_score: 0.126953:  90%|#################################3   | 18/20 [01:02<00:06,  3.24s/it]"
     ]
    },
    {
     "name": "stdout",
     "output_type": "stream",
     "text": [
      "[900]\tcv_agg's l2: 0.128387 + 0.0256136\n",
      "Early stopping, best iteration is:\n",
      "[852]\tcv_agg's l2: 0.126953 + 0.0234028\n"
     ]
    },
    {
     "name": "stderr",
     "output_type": "stream",
     "text": [
      "regularization_factors, val_score: 0.126953:  95%|###################################1 | 19/20 [01:02<00:03,  3.22s/it][I 2023-11-09 13:35:09,678] Trial 58 finished with value: 0.12845066023292956 and parameters: {'lambda_l1': 2.8219417181524243e-08, 'lambda_l2': 5.1459952445519666e-05}. Best is trial 45 with value: 0.12695313379260303.\n",
      "regularization_factors, val_score: 0.126953:  95%|###################################1 | 19/20 [01:02<00:03,  3.22s/it]"
     ]
    },
    {
     "name": "stdout",
     "output_type": "stream",
     "text": [
      "[100]\tcv_agg's l2: 0.149651 + 0.0345894\n",
      "[200]\tcv_agg's l2: 0.13965 + 0.0299794\n",
      "[300]\tcv_agg's l2: 0.134224 + 0.0286351\n",
      "[400]\tcv_agg's l2: 0.131199 + 0.0274699\n",
      "[500]\tcv_agg's l2: 0.13 + 0.026679\n",
      "[600]\tcv_agg's l2: 0.129088 + 0.0264164\n",
      "[700]\tcv_agg's l2: 0.128499 + 0.0262542\n",
      "[800]\tcv_agg's l2: 0.128443 + 0.0260034\n"
     ]
    },
    {
     "name": "stderr",
     "output_type": "stream",
     "text": [
      "\r",
      "regularization_factors, val_score: 0.126953:  95%|###################################1 | 19/20 [01:05<00:03,  3.22s/it]"
     ]
    },
    {
     "name": "stdout",
     "output_type": "stream",
     "text": [
      "[900]\tcv_agg's l2: 0.128387 + 0.0256136\n",
      "Early stopping, best iteration is:\n",
      "[852]\tcv_agg's l2: 0.126953 + 0.0234028\n"
     ]
    },
    {
     "name": "stderr",
     "output_type": "stream",
     "text": [
      "regularization_factors, val_score: 0.126953: 100%|#####################################| 20/20 [01:05<00:00,  3.37s/it][I 2023-11-09 13:35:13,395] Trial 59 finished with value: 0.12845065672666128 and parameters: {'lambda_l1': 2.019003804298433e-08, 'lambda_l2': 5.7604477027826887e-05}. Best is trial 45 with value: 0.12695313379260303.\n",
      "regularization_factors, val_score: 0.126953: 100%|#####################################| 20/20 [01:05<00:00,  3.29s/it]\n",
      "min_data_in_leaf, val_score: 0.126953:   0%|                                                     | 0/5 [00:00<?, ?it/s]"
     ]
    },
    {
     "name": "stdout",
     "output_type": "stream",
     "text": [
      "[100]\tcv_agg's l2: 0.686355 + 0.0675466\n",
      "[200]\tcv_agg's l2: 0.64282 + 0.0537953\n",
      "[300]\tcv_agg's l2: 0.623465 + 0.0509231\n",
      "[400]\tcv_agg's l2: 0.609125 + 0.0520201\n",
      "[500]\tcv_agg's l2: 0.600162 + 0.0559775\n",
      "[600]\tcv_agg's l2: 0.595263 + 0.0582744\n",
      "[700]\tcv_agg's l2: 0.593047 + 0.0575896\n",
      "[800]\tcv_agg's l2: 0.588789 + 0.0563473\n"
     ]
    },
    {
     "name": "stderr",
     "output_type": "stream",
     "text": [
      "min_data_in_leaf, val_score: 0.126953:  20%|#########                                    | 1/5 [00:02<00:11,  2.89s/it][I 2023-11-09 13:35:16,298] Trial 60 finished with value: 0.5890220904602901 and parameters: {'min_child_samples': 100}. Best is trial 60 with value: 0.5890220904602901.\n",
      "min_data_in_leaf, val_score: 0.126953:  20%|#########                                    | 1/5 [00:02<00:11,  2.89s/it]"
     ]
    },
    {
     "name": "stdout",
     "output_type": "stream",
     "text": [
      "[900]\tcv_agg's l2: 0.588778 + 0.0536976\n",
      "Early stopping, best iteration is:\n",
      "[852]\tcv_agg's l2: 0.126953 + 0.0234028\n",
      "[100]\tcv_agg's l2: 0.164625 + 0.0392186\n",
      "[200]\tcv_agg's l2: 0.154977 + 0.034912\n",
      "[300]\tcv_agg's l2: 0.149684 + 0.0318042\n",
      "[400]\tcv_agg's l2: 0.147592 + 0.0310914\n",
      "[500]\tcv_agg's l2: 0.145102 + 0.0306126\n",
      "[600]\tcv_agg's l2: 0.143398 + 0.030085\n",
      "[700]\tcv_agg's l2: 0.142521 + 0.0297136\n",
      "[800]\tcv_agg's l2: 0.141863 + 0.0294241\n"
     ]
    },
    {
     "name": "stderr",
     "output_type": "stream",
     "text": [
      "min_data_in_leaf, val_score: 0.126953:  40%|##################                           | 2/5 [00:06<00:09,  3.07s/it][I 2023-11-09 13:35:19,498] Trial 61 finished with value: 0.1418657561696012 and parameters: {'min_child_samples': 25}. Best is trial 61 with value: 0.1418657561696012.\n"
     ]
    },
    {
     "name": "stdout",
     "output_type": "stream",
     "text": [
      "[900]\tcv_agg's l2: 0.141762 + 0.0291422\n",
      "Early stopping, best iteration is:\n",
      "[852]\tcv_agg's l2: 0.126953 + 0.0234028\n"
     ]
    },
    {
     "name": "stderr",
     "output_type": "stream",
     "text": [
      "\r",
      "min_data_in_leaf, val_score: 0.126953:  40%|##################                           | 2/5 [00:06<00:09,  3.07s/it]"
     ]
    },
    {
     "name": "stdout",
     "output_type": "stream",
     "text": [
      "[100]\tcv_agg's l2: 0.145041 + 0.0332792\n",
      "[200]\tcv_agg's l2: 0.135775 + 0.0298385\n",
      "[300]\tcv_agg's l2: 0.132035 + 0.0286394\n",
      "[400]\tcv_agg's l2: 0.130354 + 0.0282672\n",
      "[500]\tcv_agg's l2: 0.129529 + 0.0276134\n",
      "[600]\tcv_agg's l2: 0.129413 + 0.0269106\n",
      "[700]\tcv_agg's l2: 0.129372 + 0.0268017\n",
      "[800]\tcv_agg's l2: 0.129462 + 0.027047\n"
     ]
    },
    {
     "name": "stderr",
     "output_type": "stream",
     "text": [
      "min_data_in_leaf, val_score: 0.126953:  60%|###########################                  | 3/5 [00:09<00:06,  3.14s/it][I 2023-11-09 13:35:22,714] Trial 62 finished with value: 0.1293561088685979 and parameters: {'min_child_samples': 5}. Best is trial 62 with value: 0.1293561088685979.\n",
      "min_data_in_leaf, val_score: 0.126953:  60%|###########################                  | 3/5 [00:09<00:06,  3.14s/it]"
     ]
    },
    {
     "name": "stdout",
     "output_type": "stream",
     "text": [
      "[900]\tcv_agg's l2: 0.129248 + 0.026835\n",
      "Early stopping, best iteration is:\n",
      "[852]\tcv_agg's l2: 0.126953 + 0.0234028\n",
      "[100]\tcv_agg's l2: 0.222725 + 0.0397538\n",
      "[200]\tcv_agg's l2: 0.211473 + 0.0359229\n",
      "[300]\tcv_agg's l2: 0.207901 + 0.0348525\n",
      "[400]\tcv_agg's l2: 0.205732 + 0.0335778\n",
      "[500]\tcv_agg's l2: 0.205427 + 0.0328285\n",
      "[600]\tcv_agg's l2: 0.206677 + 0.0316106\n",
      "[700]\tcv_agg's l2: 0.206955 + 0.0317723\n",
      "[800]\tcv_agg's l2: 0.2075 + 0.0309151\n"
     ]
    },
    {
     "name": "stderr",
     "output_type": "stream",
     "text": [
      "min_data_in_leaf, val_score: 0.126953:  80%|####################################         | 4/5 [00:12<00:03,  3.17s/it][I 2023-11-09 13:35:25,932] Trial 63 finished with value: 0.20796835572354397 and parameters: {'min_child_samples': 50}. Best is trial 62 with value: 0.1293561088685979.\n",
      "min_data_in_leaf, val_score: 0.126953:  80%|####################################         | 4/5 [00:12<00:03,  3.17s/it]"
     ]
    },
    {
     "name": "stdout",
     "output_type": "stream",
     "text": [
      "[900]\tcv_agg's l2: 0.208366 + 0.0300838\n",
      "Early stopping, best iteration is:\n",
      "[852]\tcv_agg's l2: 0.126953 + 0.0234028\n",
      "[100]\tcv_agg's l2: 0.143115 + 0.0307893\n",
      "[200]\tcv_agg's l2: 0.132697 + 0.0289663\n",
      "[300]\tcv_agg's l2: 0.127717 + 0.026931\n",
      "[400]\tcv_agg's l2: 0.124903 + 0.0259213\n",
      "[500]\tcv_agg's l2: 0.123207 + 0.0253973\n"
     ]
    },
    {
     "name": "stderr",
     "output_type": "stream",
     "text": [
      "min_data_in_leaf, val_score: 0.123166: 100%|#############################################| 5/5 [00:14<00:00,  2.84s/it][I 2023-11-09 13:35:28,174] Trial 64 finished with value: 0.1231656333812525 and parameters: {'min_child_samples': 10}. Best is trial 64 with value: 0.1231656333812525.\n",
      "min_data_in_leaf, val_score: 0.123166: 100%|#############################################| 5/5 [00:14<00:00,  2.95s/it]"
     ]
    },
    {
     "name": "stdout",
     "output_type": "stream",
     "text": [
      "[600]\tcv_agg's l2: 0.12342 + 0.0254932\n",
      "Early stopping, best iteration is:\n",
      "[505]\tcv_agg's l2: 0.123166 + 0.0251882\n"
     ]
    },
    {
     "name": "stderr",
     "output_type": "stream",
     "text": [
      "\n"
     ]
    }
   ],
   "source": [
    "import optuna.integration.lightgbm as lgb\n",
    "from lightgbm import early_stopping\n",
    "from sklearn.model_selection import KFold\n",
    "from sklearn.model_selection import RepeatedKFold\n",
    "\n",
    "\n",
    "lgb_train = lgb.Dataset(X_train_random_split, y_train_random_split)\n",
    "\n",
    "params = {\n",
    "    \"boosting_type\": \"gbdt\",\n",
    "    \"objective\": \"regression\",\n",
    "    \"metric\": \"l2\",\n",
    "    \"verbosity\": -1,\n",
    "}\n",
    "\n",
    "tuner = lgb.LightGBMTunerCV(\n",
    "    params,\n",
    "    lgb_train,\n",
    "    folds=KFold(n_splits=5),\n",
    "    num_boost_round=10000,\n",
    "    callbacks=[early_stopping(100), log_evaluation(100)],\n",
    ")\n",
    "\n",
    "tuner.run()"
   ]
  },
  {
   "cell_type": "code",
   "execution_count": 38,
   "id": "175988ae",
   "metadata": {},
   "outputs": [
    {
     "name": "stdout",
     "output_type": "stream",
     "text": [
      "Best score: 0.1231656333812525\n",
      "Params: \n",
      "    boosting_type: gbdt\n",
      "    objective: regression\n",
      "    metric: l2\n",
      "    verbosity: -1\n",
      "    feature_pre_filter: False\n",
      "    lambda_l1: 0.001278563507542555\n",
      "    lambda_l2: 0.038899104409389165\n",
      "    num_leaves: 8\n",
      "    feature_fraction: 0.48000000000000004\n",
      "    bagging_fraction: 0.9898287216420012\n",
      "    bagging_freq: 1\n",
      "    min_child_samples: 10\n"
     ]
    }
   ],
   "source": [
    "print(f\"Best score: {tuner.best_score}\")\n",
    "best_params = tuner.best_params\n",
    "print(\"Params: \")\n",
    "for key, value in best_params.items():\n",
    "    print(\"    {}: {}\".format(key, value))"
   ]
  },
  {
   "cell_type": "code",
   "execution_count": 39,
   "id": "b8e0ae76",
   "metadata": {},
   "outputs": [],
   "source": [
    "import lightgbm as lgb\n",
    "\n",
    "lgb_tuned = lgb.train(\n",
    "    best_params,\n",
    "    lgb_train,\n",
    "    num_boost_round=10000,\n",
    ")"
   ]
  },
  {
   "cell_type": "code",
   "execution_count": 40,
   "id": "ab41f140",
   "metadata": {},
   "outputs": [
    {
     "name": "stdout",
     "output_type": "stream",
     "text": [
      "RMSE train: 0.00\n",
      "RMSE test: 0.33\n",
      "MAE test: 0.23\n",
      "\n"
     ]
    }
   ],
   "source": [
    "rmse, mae = assess_regression_model(\n",
    "    lgb_tuned,\n",
    "    X_train_random_split,\n",
    "    X_test_random_split,\n",
    "    y_train_random_split,\n",
    "    y_test_random_split,\n",
    ")"
   ]
  },
  {
   "cell_type": "code",
   "execution_count": 41,
   "id": "36a7d705",
   "metadata": {},
   "outputs": [],
   "source": [
    "results.loc[3] = [\"random\", \"Optuna\", \"full\", rmse, mae]"
   ]
  },
  {
   "cell_type": "markdown",
   "id": "baffe730",
   "metadata": {},
   "source": [
    "###### MAE by level"
   ]
  },
  {
   "cell_type": "code",
   "execution_count": 42,
   "id": "4206dff5",
   "metadata": {},
   "outputs": [
    {
     "data": {
      "image/png": "[encoded data removed]",
      "text/plain": [
       "<Figure size 1440x576 with 1 Axes>"
      ]
     },
     "metadata": {
      "needs_background": "light"
     },
     "output_type": "display_data"
    }
   ],
   "source": [
    "plot_mae_by_level(\n",
    "    y_test_random_split,\n",
    "    y_pred_test,\n",
    "    title=\"MAE by level for tuned LightGBM with full features and random split\",\n",
    ")"
   ]
  },
  {
   "cell_type": "code",
   "execution_count": 43,
   "id": "502bdb9c",
   "metadata": {
    "scrolled": true
   },
   "outputs": [
    {
     "name": "stdout",
     "output_type": "stream",
     "text": [
      "Default:\n",
      "RMSE: 0.20\n",
      "\n",
      "Round type: 0.5\n",
      "RMSE: 0.20\n",
      "\n",
      "Round type: 0.33\n",
      "RMSE: 0.22\n",
      "\n",
      "Round type: 0.45\n",
      "RMSE: 0.20\n",
      "\n"
     ]
    }
   ],
   "source": [
    "predict = lgb_tuned.predict(X_test)\n",
    "check_round_predictions([0.5, 0.33, 0.45], y_test, predict)"
   ]
  },
  {
   "cell_type": "code",
   "execution_count": 44,
   "id": "378511d8",
   "metadata": {},
   "outputs": [
    {
     "data": {
      "image/png": "[encoded data removed]",
      "text/plain": [
       "<Figure size 720x720 with 2 Axes>"
      ]
     },
     "metadata": {
      "needs_background": "light"
     },
     "output_type": "display_data"
    }
   ],
   "source": [
    "plot_confusion_matrix(\n",
    "    predict,\n",
    "    y_test,\n",
    "    title=\"Confusion matrix for tuned LightGBM with\\nfull features and random split\",\n",
    ")"
   ]
  },
  {
   "cell_type": "markdown",
   "id": "cbf21c29",
   "metadata": {},
   "source": [
    "## Summary"
   ]
  },
  {
   "cell_type": "code",
   "execution_count": 45,
   "id": "d065edf6",
   "metadata": {
    "scrolled": false
   },
   "outputs": [
    {
     "data": {
      "text/html": [
       "<div>\n",
       "<style scoped>\n",
       "    .dataframe tbody tr th:only-of-type {\n",
       "        vertical-align: middle;\n",
       "    }\n",
       "\n",
       "    .dataframe tbody tr th {\n",
       "        vertical-align: top;\n",
       "    }\n",
       "\n",
       "    .dataframe thead th {\n",
       "        text-align: right;\n",
       "    }\n",
       "</style>\n",
       "<table border=\"1\" class=\"dataframe\">\n",
       "  <thead>\n",
       "    <tr style=\"text-align: right;\">\n",
       "      <th></th>\n",
       "      <th>Split type</th>\n",
       "      <th>Tuning type</th>\n",
       "      <th>Set of features</th>\n",
       "      <th>RMSE</th>\n",
       "      <th>MAE</th>\n",
       "    </tr>\n",
       "  </thead>\n",
       "  <tbody>\n",
       "    <tr>\n",
       "      <th>0</th>\n",
       "      <td>chronological</td>\n",
       "      <td>default</td>\n",
       "      <td>full</td>\n",
       "      <td>0.965662</td>\n",
       "      <td>0.463517</td>\n",
       "    </tr>\n",
       "    <tr>\n",
       "      <th>1</th>\n",
       "      <td>chronological</td>\n",
       "      <td>Optuna</td>\n",
       "      <td>full</td>\n",
       "      <td>0.702718</td>\n",
       "      <td>0.404602</td>\n",
       "    </tr>\n",
       "    <tr>\n",
       "      <th>2</th>\n",
       "      <td>random</td>\n",
       "      <td>default</td>\n",
       "      <td>full</td>\n",
       "      <td>0.371349</td>\n",
       "      <td>0.246737</td>\n",
       "    </tr>\n",
       "    <tr>\n",
       "      <th>3</th>\n",
       "      <td>random</td>\n",
       "      <td>Optuna</td>\n",
       "      <td>full</td>\n",
       "      <td>0.329225</td>\n",
       "      <td>0.229756</td>\n",
       "    </tr>\n",
       "  </tbody>\n",
       "</table>\n",
       "</div>"
      ],
      "text/plain": [
       "      Split type Tuning type Set of features      RMSE       MAE\n",
       "0  chronological     default            full  0.965662  0.463517\n",
       "1  chronological      Optuna            full  0.702718  0.404602\n",
       "2         random     default            full  0.371349  0.246737\n",
       "3         random      Optuna            full  0.329225  0.229756"
      ]
     },
     "execution_count": 45,
     "metadata": {},
     "output_type": "execute_result"
    }
   ],
   "source": [
    "results"
   ]
  },
  {
   "cell_type": "code",
   "execution_count": 46,
   "id": "5ab8f79f",
   "metadata": {},
   "outputs": [],
   "source": [
    "from training.results import plot_summary"
   ]
  },
  {
   "cell_type": "code",
   "execution_count": 47,
   "id": "a642225d",
   "metadata": {},
   "outputs": [
    {
     "data": {
      "image/png": "[encoded data removed]",
      "text/plain": [
       "<Figure size 1440x576 with 1 Axes>"
      ]
     },
     "metadata": {
      "needs_background": "light"
     },
     "output_type": "display_data"
    }
   ],
   "source": [
    "plot_summary(results, \"RMSE\", title=\"RMSE for LightGBM with full features\")"
   ]
  },
  {
   "cell_type": "code",
   "execution_count": 48,
   "id": "07e30e23",
   "metadata": {},
   "outputs": [
    {
     "data": {
      "image/png": "[encoded data removed]",
      "text/plain": [
       "<Figure size 1440x576 with 1 Axes>"
      ]
     },
     "metadata": {
      "needs_background": "light"
     },
     "output_type": "display_data"
    }
   ],
   "source": [
    "plot_summary(results, \"MAE\", title=\"MAE for LightGBM with full features\")"
   ]
  },
  {
   "cell_type": "code",
   "execution_count": 49,
   "id": "ae68a99c",
   "metadata": {},
   "outputs": [],
   "source": [
    "results.to_json(\"./lightgbm_full_results.json\", indent=2)"
   ]
  },
  {
   "cell_type": "code",
   "execution_count": null,
   "id": "745b56ef",
   "metadata": {},
   "outputs": [],
   "source": []
  }
 ],
 "metadata": {
  "kernelspec": {
   "display_name": "Python 3 (ipykernel)",
   "language": "python",
   "name": "python3"
  },
  "language_info": {
   "codemirror_mode": {
    "name": "ipython",
    "version": 3
   },
   "file_extension": ".py",
   "mimetype": "text/x-python",
   "name": "python",
   "nbconvert_exporter": "python",
   "pygments_lexer": "ipython3",
   "version": "3.10.4"
  }
 },
 "nbformat": 4,
 "nbformat_minor": 5
}
