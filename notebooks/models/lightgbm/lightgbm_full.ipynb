{
 "cells": [
  {
   "cell_type": "markdown",
   "id": "f64a671f",
   "metadata": {},
   "source": [
    "# LightGBM\n",
    "### Parameters:\n",
    "System:\n",
    "* **abilities**:\n",
    "    * **cha**\n",
    "    * **con**\n",
    "    * **dex**\n",
    "    * **int**\n",
    "    * **str**\n",
    "    * **wis**\n",
    "* **attributes**\n",
    "    * **hp**\n",
    "    * **ac**\n",
    "    * **perception**\n",
    "    * **speed** (*land speed*)\n",
    "        * **other speeds**: fly, climb, swim\n",
    "    * **num immunities**\n",
    "    * **resistances**: fire, cold, electricity, acid, piercing, slashing, physical, bludgeoning, mental, poison, all-damage\n",
    "    * **weaknesses**: cold-iron, good, fire, cold, area-damage, splash-damage, evil, slashing\n",
    "* **saves**\n",
    "    * **fortitude**\n",
    "    * **reflex**\n",
    "    * **will**\n",
    "* **resources**\n",
    "    * **focus**\n",
    "\n",
    "Items\n",
    "* **items**\n",
    "    * **melee**\n",
    "    * **ranged**\n",
    "    * **spells nr**\n",
    "\n",
    "### Prediction: *level*\n",
    "\n",
    "## Loading data"
   ]
  },
  {
   "cell_type": "code",
   "execution_count": 1,
   "id": "1f2515e7",
   "metadata": {},
   "outputs": [],
   "source": [
    "import numpy as np\n",
    "import pandas as pd\n",
    "import sys\n",
    "\n",
    "import os\n",
    "import pathlib\n",
    "\n",
    "sys.path.append(\"../../..\")\n",
    "from training.creating_dataset import load_and_preprocess_data\n",
    "\n",
    "current_path = os.getcwd()\n",
    "DATASETS_DIR = pathlib.Path(current_path).parent.parent.parent / \"pathfinder_2e_data\"\n",
    "DATASET_FILES = [\n",
    "    \"pathfinder-bestiary.db\",\n",
    "    \"pathfinder-bestiary-2.db\",\n",
    "    \"pathfinder-bestiary-3.db\",\n",
    "]\n",
    "DATASET_PATHS = [f\"{DATASETS_DIR}/{file}\" for file in DATASET_FILES]\n",
    "features = [\n",
    "    \"cha\",\n",
    "    \"con\",\n",
    "    \"dex\",\n",
    "    \"int\",\n",
    "    \"str\",\n",
    "    \"wis\",\n",
    "    \"ac\",\n",
    "    \"hp\",\n",
    "    \"perception\",\n",
    "    \"fortitude\",\n",
    "    \"reflex\",\n",
    "    \"will\",\n",
    "    \"focus\",\n",
    "    \"land_speed\",\n",
    "    \"num_immunities\",\n",
    "    \"fly\",\n",
    "    \"swim\",\n",
    "    \"climb\",\n",
    "    \"fire_resistance\",\n",
    "    \"cold_resistance\",\n",
    "    \"electricity_resistance\",\n",
    "    \"acid_resistance\",\n",
    "    \"piercing_resistance\",\n",
    "    \"slashing_resistance\",\n",
    "    \"physical_resistance\",\n",
    "    \"bludgeoning_resistance\",\n",
    "    \"mental_resistance\",\n",
    "    \"poison_resistance\",\n",
    "    \"all-damage_resistance\",\n",
    "    \"cold-iron_weakness\",\n",
    "    \"good_weakness\",\n",
    "    \"fire_weakness\",\n",
    "    \"cold_weakness\",\n",
    "    \"area-damage_weakness\",\n",
    "    \"splash-damage_weakness\",\n",
    "    \"evil_weakness\",\n",
    "    \"slashing_weakness\",\n",
    "    \"melee\",\n",
    "    \"ranged\",\n",
    "    \"spells\",\n",
    "]\n",
    "\n",
    "df = load_and_preprocess_data(\n",
    "    DATASET_PATHS,\n",
    "    characteristics=features,\n",
    ")"
   ]
  },
  {
   "cell_type": "code",
   "execution_count": 2,
   "id": "b522f880",
   "metadata": {},
   "outputs": [
    {
     "name": "stdout",
     "output_type": "stream",
     "text": [
      "<class 'pandas.core.frame.DataFrame'>\n",
      "Int64Index: 1206 entries, 0 to 1205\n",
      "Data columns (total 52 columns):\n",
      " #   Column                  Non-Null Count  Dtype  \n",
      "---  ------                  --------------  -----  \n",
      " 0   ac                      1206 non-null   int64  \n",
      " 1   hp                      1206 non-null   int64  \n",
      " 2   book                    1206 non-null   object \n",
      " 3   str                     1206 non-null   int64  \n",
      " 4   reflex                  1206 non-null   int64  \n",
      " 5   land_speed              1206 non-null   float64\n",
      " 6   con                     1206 non-null   int64  \n",
      " 7   num_immunities          1206 non-null   int64  \n",
      " 8   int                     1206 non-null   int64  \n",
      " 9   level                   1206 non-null   int64  \n",
      " 10  fortitude               1206 non-null   int64  \n",
      " 11  will                    1206 non-null   int64  \n",
      " 12  perception              1206 non-null   int64  \n",
      " 13  cha                     1206 non-null   int64  \n",
      " 14  focus                   1206 non-null   int32  \n",
      " 15  dex                     1206 non-null   int64  \n",
      " 16  wis                     1206 non-null   int64  \n",
      " 17  poison_resistance       1206 non-null   int64  \n",
      " 18  electricity_resistance  1206 non-null   int64  \n",
      " 19  fire_resistance         1206 non-null   int64  \n",
      " 20  mental_resistance       1206 non-null   int64  \n",
      " 21  slashing_resistance     1206 non-null   int64  \n",
      " 22  cold_resistance         1206 non-null   int64  \n",
      " 23  physical_resistance     1206 non-null   int64  \n",
      " 24  bludgeoning_resistance  1206 non-null   int64  \n",
      " 25  piercing_resistance     1206 non-null   int64  \n",
      " 26  acid_resistance         1206 non-null   int64  \n",
      " 27  all-damage_resistance   1206 non-null   int64  \n",
      " 28  good_weakness           1206 non-null   int64  \n",
      " 29  area-damage_weakness    1206 non-null   int64  \n",
      " 30  splash-damage_weakness  1206 non-null   int64  \n",
      " 31  cold-iron_weakness      1206 non-null   int64  \n",
      " 32  cold_weakness           1206 non-null   int64  \n",
      " 33  slashing_weakness       1206 non-null   int64  \n",
      " 34  fire_weakness           1206 non-null   int64  \n",
      " 35  evil_weakness           1206 non-null   int64  \n",
      " 36  climb                   1206 non-null   int64  \n",
      " 37  fly                     1206 non-null   int64  \n",
      " 38  swim                    1206 non-null   int64  \n",
      " 39  spells_nr_lvl_1         1206 non-null   int64  \n",
      " 40  spells_nr_lvl_2         1206 non-null   int64  \n",
      " 41  spells_nr_lvl_3         1206 non-null   int64  \n",
      " 42  spells_nr_lvl_4         1206 non-null   int64  \n",
      " 43  spells_nr_lvl_5         1206 non-null   int64  \n",
      " 44  spells_nr_lvl_6         1206 non-null   int64  \n",
      " 45  spells_nr_lvl_7         1206 non-null   int64  \n",
      " 46  spells_nr_lvl_8         1206 non-null   int64  \n",
      " 47  spells_nr_lvl_9         1206 non-null   int64  \n",
      " 48  melee_max_bonus         1206 non-null   int64  \n",
      " 49  avg_melee_dmg           1206 non-null   float64\n",
      " 50  ranged_max_bonus        1206 non-null   int64  \n",
      " 51  avg_ranged_dmg          1206 non-null   float64\n",
      "dtypes: float64(3), int32(1), int64(47), object(1)\n",
      "memory usage: 494.6+ KB\n"
     ]
    }
   ],
   "source": [
    "df.info()"
   ]
  },
  {
   "cell_type": "code",
   "execution_count": 3,
   "id": "1b5450d3",
   "metadata": {},
   "outputs": [
    {
     "data": {
      "text/html": [
       "<div>\n",
       "<style scoped>\n",
       "    .dataframe tbody tr th:only-of-type {\n",
       "        vertical-align: middle;\n",
       "    }\n",
       "\n",
       "    .dataframe tbody tr th {\n",
       "        vertical-align: top;\n",
       "    }\n",
       "\n",
       "    .dataframe thead th {\n",
       "        text-align: right;\n",
       "    }\n",
       "</style>\n",
       "<table border=\"1\" class=\"dataframe\">\n",
       "  <thead>\n",
       "    <tr style=\"text-align: right;\">\n",
       "      <th></th>\n",
       "      <th>ac</th>\n",
       "      <th>hp</th>\n",
       "      <th>book</th>\n",
       "      <th>str</th>\n",
       "      <th>reflex</th>\n",
       "      <th>land_speed</th>\n",
       "      <th>con</th>\n",
       "      <th>num_immunities</th>\n",
       "      <th>int</th>\n",
       "      <th>level</th>\n",
       "      <th>...</th>\n",
       "      <th>spells_nr_lvl_4</th>\n",
       "      <th>spells_nr_lvl_5</th>\n",
       "      <th>spells_nr_lvl_6</th>\n",
       "      <th>spells_nr_lvl_7</th>\n",
       "      <th>spells_nr_lvl_8</th>\n",
       "      <th>spells_nr_lvl_9</th>\n",
       "      <th>melee_max_bonus</th>\n",
       "      <th>avg_melee_dmg</th>\n",
       "      <th>ranged_max_bonus</th>\n",
       "      <th>avg_ranged_dmg</th>\n",
       "    </tr>\n",
       "  </thead>\n",
       "  <tbody>\n",
       "    <tr>\n",
       "      <th>0</th>\n",
       "      <td>29</td>\n",
       "      <td>215</td>\n",
       "      <td>Pathfinder Bestiary</td>\n",
       "      <td>7</td>\n",
       "      <td>19</td>\n",
       "      <td>30.0</td>\n",
       "      <td>5</td>\n",
       "      <td>3</td>\n",
       "      <td>1</td>\n",
       "      <td>10</td>\n",
       "      <td>...</td>\n",
       "      <td>0</td>\n",
       "      <td>0</td>\n",
       "      <td>0</td>\n",
       "      <td>0</td>\n",
       "      <td>0</td>\n",
       "      <td>0</td>\n",
       "      <td>23</td>\n",
       "      <td>22.0</td>\n",
       "      <td>0</td>\n",
       "      <td>0.0</td>\n",
       "    </tr>\n",
       "    <tr>\n",
       "      <th>1</th>\n",
       "      <td>28</td>\n",
       "      <td>220</td>\n",
       "      <td>Pathfinder Bestiary</td>\n",
       "      <td>9</td>\n",
       "      <td>14</td>\n",
       "      <td>35.0</td>\n",
       "      <td>5</td>\n",
       "      <td>0</td>\n",
       "      <td>-4</td>\n",
       "      <td>10</td>\n",
       "      <td>...</td>\n",
       "      <td>0</td>\n",
       "      <td>0</td>\n",
       "      <td>0</td>\n",
       "      <td>0</td>\n",
       "      <td>0</td>\n",
       "      <td>0</td>\n",
       "      <td>23</td>\n",
       "      <td>22.0</td>\n",
       "      <td>0</td>\n",
       "      <td>0.0</td>\n",
       "    </tr>\n",
       "    <tr>\n",
       "      <th>2</th>\n",
       "      <td>25</td>\n",
       "      <td>175</td>\n",
       "      <td>Pathfinder Bestiary</td>\n",
       "      <td>7</td>\n",
       "      <td>17</td>\n",
       "      <td>30.0</td>\n",
       "      <td>6</td>\n",
       "      <td>0</td>\n",
       "      <td>-4</td>\n",
       "      <td>8</td>\n",
       "      <td>...</td>\n",
       "      <td>0</td>\n",
       "      <td>0</td>\n",
       "      <td>0</td>\n",
       "      <td>0</td>\n",
       "      <td>0</td>\n",
       "      <td>0</td>\n",
       "      <td>21</td>\n",
       "      <td>16.0</td>\n",
       "      <td>0</td>\n",
       "      <td>0.0</td>\n",
       "    </tr>\n",
       "    <tr>\n",
       "      <th>3</th>\n",
       "      <td>41</td>\n",
       "      <td>315</td>\n",
       "      <td>Pathfinder Bestiary</td>\n",
       "      <td>7</td>\n",
       "      <td>29</td>\n",
       "      <td>50.0</td>\n",
       "      <td>5</td>\n",
       "      <td>3</td>\n",
       "      <td>6</td>\n",
       "      <td>17</td>\n",
       "      <td>...</td>\n",
       "      <td>1</td>\n",
       "      <td>0</td>\n",
       "      <td>1</td>\n",
       "      <td>0</td>\n",
       "      <td>0</td>\n",
       "      <td>0</td>\n",
       "      <td>33</td>\n",
       "      <td>31.5</td>\n",
       "      <td>0</td>\n",
       "      <td>0.0</td>\n",
       "    </tr>\n",
       "    <tr>\n",
       "      <th>4</th>\n",
       "      <td>16</td>\n",
       "      <td>20</td>\n",
       "      <td>Pathfinder Bestiary</td>\n",
       "      <td>-5</td>\n",
       "      <td>10</td>\n",
       "      <td>0.0</td>\n",
       "      <td>1</td>\n",
       "      <td>0</td>\n",
       "      <td>-1</td>\n",
       "      <td>1</td>\n",
       "      <td>...</td>\n",
       "      <td>1</td>\n",
       "      <td>0</td>\n",
       "      <td>0</td>\n",
       "      <td>0</td>\n",
       "      <td>0</td>\n",
       "      <td>0</td>\n",
       "      <td>0</td>\n",
       "      <td>0.0</td>\n",
       "      <td>8</td>\n",
       "      <td>5.0</td>\n",
       "    </tr>\n",
       "  </tbody>\n",
       "</table>\n",
       "<p>5 rows × 52 columns</p>\n",
       "</div>"
      ],
      "text/plain": [
       "   ac   hp                 book  str  reflex  land_speed  con  num_immunities  \\\n",
       "0  29  215  Pathfinder Bestiary    7      19        30.0    5               3   \n",
       "1  28  220  Pathfinder Bestiary    9      14        35.0    5               0   \n",
       "2  25  175  Pathfinder Bestiary    7      17        30.0    6               0   \n",
       "3  41  315  Pathfinder Bestiary    7      29        50.0    5               3   \n",
       "4  16   20  Pathfinder Bestiary   -5      10         0.0    1               0   \n",
       "\n",
       "   int  level  ...  spells_nr_lvl_4  spells_nr_lvl_5  spells_nr_lvl_6  \\\n",
       "0    1     10  ...                0                0                0   \n",
       "1   -4     10  ...                0                0                0   \n",
       "2   -4      8  ...                0                0                0   \n",
       "3    6     17  ...                1                0                1   \n",
       "4   -1      1  ...                1                0                0   \n",
       "\n",
       "   spells_nr_lvl_7  spells_nr_lvl_8  spells_nr_lvl_9  melee_max_bonus  \\\n",
       "0                0                0                0               23   \n",
       "1                0                0                0               23   \n",
       "2                0                0                0               21   \n",
       "3                0                0                0               33   \n",
       "4                0                0                0                0   \n",
       "\n",
       "   avg_melee_dmg  ranged_max_bonus  avg_ranged_dmg  \n",
       "0           22.0                 0             0.0  \n",
       "1           22.0                 0             0.0  \n",
       "2           16.0                 0             0.0  \n",
       "3           31.5                 0             0.0  \n",
       "4            0.0                 8             5.0  \n",
       "\n",
       "[5 rows x 52 columns]"
      ]
     },
     "execution_count": 3,
     "metadata": {},
     "output_type": "execute_result"
    }
   ],
   "source": [
    "df.head()"
   ]
  },
  {
   "cell_type": "markdown",
   "id": "0caa661f",
   "metadata": {},
   "source": [
    "###### Level"
   ]
  },
  {
   "cell_type": "code",
   "execution_count": 4,
   "id": "c200d2b4",
   "metadata": {},
   "outputs": [
    {
     "data": {
      "text/plain": [
       "0       10\n",
       "1       10\n",
       "2        8\n",
       "3       17\n",
       "4        1\n",
       "        ..\n",
       "1201    20\n",
       "1202    -1\n",
       "1203    12\n",
       "1204     6\n",
       "1205     6\n",
       "Name: level, Length: 1206, dtype: int64"
      ]
     },
     "execution_count": 4,
     "metadata": {},
     "output_type": "execute_result"
    }
   ],
   "source": [
    "y = df[\"level\"]\n",
    "y"
   ]
  },
  {
   "cell_type": "code",
   "execution_count": 5,
   "id": "553822a7",
   "metadata": {},
   "outputs": [],
   "source": [
    "from collections import defaultdict\n",
    "\n",
    "\n",
    "lvl_stat = defaultdict(lambda: 0)\n",
    "\n",
    "for lvl in y:\n",
    "    lvl_stat[lvl] += 1"
   ]
  },
  {
   "cell_type": "code",
   "execution_count": 6,
   "id": "e45d6c29",
   "metadata": {},
   "outputs": [
    {
     "data": {
      "text/html": [
       "<div>\n",
       "<style scoped>\n",
       "    .dataframe tbody tr th:only-of-type {\n",
       "        vertical-align: middle;\n",
       "    }\n",
       "\n",
       "    .dataframe tbody tr th {\n",
       "        vertical-align: top;\n",
       "    }\n",
       "\n",
       "    .dataframe thead th {\n",
       "        text-align: right;\n",
       "    }\n",
       "</style>\n",
       "<table border=\"1\" class=\"dataframe\">\n",
       "  <thead>\n",
       "    <tr style=\"text-align: right;\">\n",
       "      <th></th>\n",
       "      <th>lvl</th>\n",
       "      <th>count</th>\n",
       "    </tr>\n",
       "  </thead>\n",
       "  <tbody>\n",
       "    <tr>\n",
       "      <th>0</th>\n",
       "      <td>-1</td>\n",
       "      <td>34</td>\n",
       "    </tr>\n",
       "    <tr>\n",
       "      <th>1</th>\n",
       "      <td>0</td>\n",
       "      <td>27</td>\n",
       "    </tr>\n",
       "    <tr>\n",
       "      <th>2</th>\n",
       "      <td>1</td>\n",
       "      <td>127</td>\n",
       "    </tr>\n",
       "    <tr>\n",
       "      <th>3</th>\n",
       "      <td>2</td>\n",
       "      <td>121</td>\n",
       "    </tr>\n",
       "    <tr>\n",
       "      <th>4</th>\n",
       "      <td>3</td>\n",
       "      <td>95</td>\n",
       "    </tr>\n",
       "    <tr>\n",
       "      <th>5</th>\n",
       "      <td>4</td>\n",
       "      <td>82</td>\n",
       "    </tr>\n",
       "    <tr>\n",
       "      <th>6</th>\n",
       "      <td>5</td>\n",
       "      <td>76</td>\n",
       "    </tr>\n",
       "    <tr>\n",
       "      <th>7</th>\n",
       "      <td>6</td>\n",
       "      <td>72</td>\n",
       "    </tr>\n",
       "    <tr>\n",
       "      <th>8</th>\n",
       "      <td>7</td>\n",
       "      <td>77</td>\n",
       "    </tr>\n",
       "    <tr>\n",
       "      <th>9</th>\n",
       "      <td>8</td>\n",
       "      <td>68</td>\n",
       "    </tr>\n",
       "    <tr>\n",
       "      <th>10</th>\n",
       "      <td>9</td>\n",
       "      <td>63</td>\n",
       "    </tr>\n",
       "    <tr>\n",
       "      <th>11</th>\n",
       "      <td>10</td>\n",
       "      <td>58</td>\n",
       "    </tr>\n",
       "    <tr>\n",
       "      <th>12</th>\n",
       "      <td>11</td>\n",
       "      <td>40</td>\n",
       "    </tr>\n",
       "    <tr>\n",
       "      <th>13</th>\n",
       "      <td>12</td>\n",
       "      <td>41</td>\n",
       "    </tr>\n",
       "    <tr>\n",
       "      <th>14</th>\n",
       "      <td>13</td>\n",
       "      <td>36</td>\n",
       "    </tr>\n",
       "    <tr>\n",
       "      <th>15</th>\n",
       "      <td>14</td>\n",
       "      <td>33</td>\n",
       "    </tr>\n",
       "    <tr>\n",
       "      <th>16</th>\n",
       "      <td>15</td>\n",
       "      <td>31</td>\n",
       "    </tr>\n",
       "    <tr>\n",
       "      <th>17</th>\n",
       "      <td>16</td>\n",
       "      <td>25</td>\n",
       "    </tr>\n",
       "    <tr>\n",
       "      <th>18</th>\n",
       "      <td>17</td>\n",
       "      <td>21</td>\n",
       "    </tr>\n",
       "    <tr>\n",
       "      <th>19</th>\n",
       "      <td>18</td>\n",
       "      <td>21</td>\n",
       "    </tr>\n",
       "    <tr>\n",
       "      <th>20</th>\n",
       "      <td>19</td>\n",
       "      <td>18</td>\n",
       "    </tr>\n",
       "    <tr>\n",
       "      <th>21</th>\n",
       "      <td>20</td>\n",
       "      <td>24</td>\n",
       "    </tr>\n",
       "    <tr>\n",
       "      <th>22</th>\n",
       "      <td>21</td>\n",
       "      <td>16</td>\n",
       "    </tr>\n",
       "  </tbody>\n",
       "</table>\n",
       "</div>"
      ],
      "text/plain": [
       "    lvl  count\n",
       "0    -1     34\n",
       "1     0     27\n",
       "2     1    127\n",
       "3     2    121\n",
       "4     3     95\n",
       "5     4     82\n",
       "6     5     76\n",
       "7     6     72\n",
       "8     7     77\n",
       "9     8     68\n",
       "10    9     63\n",
       "11   10     58\n",
       "12   11     40\n",
       "13   12     41\n",
       "14   13     36\n",
       "15   14     33\n",
       "16   15     31\n",
       "17   16     25\n",
       "18   17     21\n",
       "19   18     21\n",
       "20   19     18\n",
       "21   20     24\n",
       "22   21     16"
      ]
     },
     "execution_count": 6,
     "metadata": {},
     "output_type": "execute_result"
    }
   ],
   "source": [
    "level_count = pd.DataFrame(\n",
    "    data={\n",
    "        \"lvl\": [key for key in sorted(lvl_stat.keys())],\n",
    "        \"count\": [lvl_stat.get(key) for key in sorted(lvl_stat.keys())],\n",
    "    }\n",
    ")\n",
    "level_count"
   ]
  },
  {
   "cell_type": "code",
   "execution_count": 7,
   "id": "bdbfe8de",
   "metadata": {},
   "outputs": [
    {
     "data": {
      "image/png": "[encoded data removed]",
      "text/plain": [
       "<Figure size 432x288 with 1 Axes>"
      ]
     },
     "metadata": {
      "needs_background": "light"
     },
     "output_type": "display_data"
    }
   ],
   "source": [
    "import matplotlib.pyplot as plt\n",
    "\n",
    "\n",
    "level_count.plot.bar(x=\"lvl\", y=\"count\", title=\"Count of levels\")\n",
    "plt.show()"
   ]
  },
  {
   "cell_type": "markdown",
   "id": "9fdb6541",
   "metadata": {},
   "source": [
    "## Train test split"
   ]
  },
  {
   "cell_type": "markdown",
   "id": "18f56629",
   "metadata": {},
   "source": [
    "### Chronological split"
   ]
  },
  {
   "cell_type": "code",
   "execution_count": 8,
   "id": "dcda359b",
   "metadata": {},
   "outputs": [],
   "source": [
    "from training.splitting_dataset import split_dataframe\n",
    "\n",
    "\n",
    "os.chdir(\"../../../training\")\n",
    "X_train, X_test, y_train, y_test = split_dataframe(df, test_size=0.31)\n",
    "os.chdir(\"../notebooks/models/lightgbm\")"
   ]
  },
  {
   "cell_type": "code",
   "execution_count": 9,
   "id": "17dbc875",
   "metadata": {},
   "outputs": [],
   "source": [
    "X_train = X_train.drop(columns=[\"book\"])\n",
    "X_test = X_test.drop(columns=[\"book\"])"
   ]
  },
  {
   "cell_type": "markdown",
   "id": "25879636",
   "metadata": {},
   "source": [
    "### Random split"
   ]
  },
  {
   "cell_type": "code",
   "execution_count": 10,
   "id": "982ec5eb",
   "metadata": {},
   "outputs": [],
   "source": [
    "(\n",
    "    X_train_random_split,\n",
    "    X_test_random_split,\n",
    "    y_train_random_split,\n",
    "    y_test_random_split,\n",
    ") = split_dataframe(df, chronological_split=False)"
   ]
  },
  {
   "cell_type": "code",
   "execution_count": 11,
   "id": "90569e78",
   "metadata": {},
   "outputs": [],
   "source": [
    "X_train_random_split = X_train_random_split.drop(columns=[\"book\"])\n",
    "X_test_random_split = X_test_random_split.drop(columns=[\"book\"])"
   ]
  },
  {
   "cell_type": "markdown",
   "id": "9b259fbf",
   "metadata": {},
   "source": [
    "## LightGBM"
   ]
  },
  {
   "cell_type": "markdown",
   "id": "14f37d9b",
   "metadata": {},
   "source": [
    "## Chronological split"
   ]
  },
  {
   "cell_type": "code",
   "execution_count": 12,
   "id": "2bc4c90e",
   "metadata": {},
   "outputs": [
    {
     "name": "stdout",
     "output_type": "stream",
     "text": [
      "[LightGBM] [Warning] Auto-choosing row-wise multi-threading, the overhead of testing was 0.001299 seconds.\n",
      "You can set `force_row_wise=true` to remove the overhead.\n",
      "And if memory is not enough, you can set `force_col_wise=true`.\n",
      "[LightGBM] [Info] Total Bins 756\n",
      "[LightGBM] [Info] Number of data points in the train set: 841, number of used features: 45\n",
      "[LightGBM] [Info] Start training from score 6.966706\n",
      "Training until validation scores don't improve for 5 rounds\n",
      "[LightGBM] [Warning] No further splits with positive gain, best gain: -inf\n",
      "[LightGBM] [Warning] No further splits with positive gain, best gain: -inf\n",
      "[LightGBM] [Warning] No further splits with positive gain, best gain: -inf\n",
      "[LightGBM] [Warning] No further splits with positive gain, best gain: -inf\n",
      "[LightGBM] [Warning] No further splits with positive gain, best gain: -inf\n",
      "Early stopping, best iteration is:\n",
      "[88]\tvalid_0's l2: 0.932502\tvalid_0's l1: 0.463517\n"
     ]
    }
   ],
   "source": [
    "import lightgbm as lgb\n",
    "\n",
    "lgb_train = lgb.Dataset(X_train, y_train)\n",
    "lgb_eval = lgb.Dataset(X_test, y_test, reference=lgb_train)\n",
    "\n",
    "params = {\n",
    "    \"boosting_type\": \"gbdt\",\n",
    "    \"objective\": \"regression\",\n",
    "    \"metric\": {\"l2\", \"l1\"},\n",
    "}\n",
    "\n",
    "gbm = lgb.train(\n",
    "    params,\n",
    "    lgb_train,\n",
    "    num_boost_round=100,\n",
    "    valid_sets=lgb_eval,\n",
    "    callbacks=[lgb.early_stopping(stopping_rounds=5)],\n",
    ")"
   ]
  },
  {
   "cell_type": "code",
   "execution_count": 13,
   "id": "f1ae2eaa",
   "metadata": {},
   "outputs": [],
   "source": [
    "y_pred_train = gbm.predict(X_train, num_iteration=gbm.best_iteration)\n",
    "y_pred_test = gbm.predict(X_test, num_iteration=gbm.best_iteration)"
   ]
  },
  {
   "cell_type": "code",
   "execution_count": 14,
   "id": "ef9d09eb",
   "metadata": {},
   "outputs": [
    {
     "name": "stdout",
     "output_type": "stream",
     "text": [
      "RMSE: 0.97\n",
      "MAE: 0.46\n"
     ]
    }
   ],
   "source": [
    "from sklearn.metrics import mean_squared_error, mean_absolute_error\n",
    "\n",
    "\n",
    "rmse = mean_squared_error(y_test, y_pred_test, squared=False)\n",
    "mae = mean_absolute_error(y_test, y_pred_test)\n",
    "\n",
    "print(f\"RMSE: {rmse:.2f}\")\n",
    "print(f\"MAE: {mae:.2f}\")"
   ]
  },
  {
   "cell_type": "code",
   "execution_count": 15,
   "id": "6e288d53",
   "metadata": {},
   "outputs": [],
   "source": [
    "results = pd.DataFrame(\n",
    "    data={\n",
    "        \"Split type\": [],\n",
    "        \"Tuning type\": [],\n",
    "        \"Set of features\": [],\n",
    "        \"RMSE\": [],\n",
    "        \"MAE\": [],\n",
    "    }\n",
    ")\n",
    "\n",
    "results.loc[0] = [\"chronological\", \"default\", \"full\", rmse, mae]"
   ]
  },
  {
   "cell_type": "code",
   "execution_count": 16,
   "id": "78bb7ffa",
   "metadata": {},
   "outputs": [
    {
     "name": "stdout",
     "output_type": "stream",
     "text": [
      "RMSE train: 0.13\n",
      "RMSE test: 0.97\n"
     ]
    }
   ],
   "source": [
    "rmse_train = mean_squared_error(y_train, y_pred_train, squared=False)\n",
    "rmse_test = mean_squared_error(y_test, y_pred_test, squared=False)\n",
    "print(f\"RMSE train: {rmse_train:.2f}\")\n",
    "print(f\"RMSE test: {rmse_test:.2f}\")"
   ]
  },
  {
   "cell_type": "markdown",
   "id": "1822ab4b",
   "metadata": {},
   "source": [
    "###### MAE by level"
   ]
  },
  {
   "cell_type": "code",
   "execution_count": 17,
   "id": "89d4733e",
   "metadata": {},
   "outputs": [],
   "source": [
    "from training.results import plot_mae_by_level"
   ]
  },
  {
   "cell_type": "code",
   "execution_count": 18,
   "id": "062bc79b",
   "metadata": {},
   "outputs": [
    {
     "data": {
      "image/png": "[encoded data removed]",
      "text/plain": [
       "<Figure size 1440x576 with 1 Axes>"
      ]
     },
     "metadata": {
      "needs_background": "light"
     },
     "output_type": "display_data"
    }
   ],
   "source": [
    "plot_mae_by_level(\n",
    "    y_test,\n",
    "    y_pred_test,\n",
    "    title=\"MAE by level for default LightGBM with full features and chronological split\",\n",
    ")"
   ]
  },
  {
   "cell_type": "code",
   "execution_count": 19,
   "id": "ec8cab49",
   "metadata": {
    "scrolled": true
   },
   "outputs": [
    {
     "name": "stdout",
     "output_type": "stream",
     "text": [
      "Default:\n",
      "RMSE: 0.97\n",
      "\n",
      "Round type: 0.5\n",
      "RMSE: 0.98\n",
      "\n",
      "Round type: 0.33\n",
      "RMSE: 0.96\n",
      "\n",
      "Round type: 0.45\n",
      "RMSE: 0.96\n",
      "\n"
     ]
    }
   ],
   "source": [
    "from training.results import evaluate_round_predictions, plot_confusion_matrix\n",
    "\n",
    "\n",
    "evaluate_round_predictions([0.5, 0.33, 0.45], y_test, y_pred_test)"
   ]
  },
  {
   "cell_type": "code",
   "execution_count": 20,
   "id": "9129a0ae",
   "metadata": {},
   "outputs": [
    {
     "data": {
      "image/png": "[encoded data removed]",
      "text/plain": [
       "<Figure size 720x720 with 2 Axes>"
      ]
     },
     "metadata": {
      "needs_background": "light"
     },
     "output_type": "display_data"
    }
   ],
   "source": [
    "plot_confusion_matrix(\n",
    "    y_pred_test,\n",
    "    y_test,\n",
    "    title=\"Confusion matrix for default LightGBM with\\nfull features and chronological split\",\n",
    ")"
   ]
  },
  {
   "cell_type": "markdown",
   "id": "0e591f6c",
   "metadata": {},
   "source": [
    "#### Tuning"
   ]
  },
  {
   "cell_type": "code",
   "execution_count": 21,
   "id": "2f781cab",
   "metadata": {},
   "outputs": [],
   "source": [
    "from training.results import assess_regression_model"
   ]
  },
  {
   "cell_type": "code",
   "execution_count": 22,
   "id": "d8734e01",
   "metadata": {},
   "outputs": [
    {
     "name": "stderr",
     "output_type": "stream",
     "text": [
      "[I 2023-11-09 20:46:52,604] A new study created in memory with name: no-name-08632538-4bfb-4625-b033-356903ec2622\n",
      "feature_fraction, val_score: inf:   0%|                                                          | 0/7 [00:00<?, ?it/s]"
     ]
    },
    {
     "name": "stdout",
     "output_type": "stream",
     "text": [
      "Training until validation scores don't improve for 100 rounds\n",
      "[100]\tcv_agg's l2: 0.151172 + 0.0362745\n",
      "[200]\tcv_agg's l2: 0.147807 + 0.035733\n",
      "[300]\tcv_agg's l2: 0.147081 + 0.0362655\n",
      "[400]\tcv_agg's l2: 0.146852 + 0.0362315\n",
      "[500]\tcv_agg's l2: 0.146539 + 0.0358125\n"
     ]
    },
    {
     "name": "stderr",
     "output_type": "stream",
     "text": [
      "feature_fraction, val_score: 0.146458:  14%|######4                                      | 1/7 [00:12<01:12, 12.11s/it][I 2023-11-09 20:47:04,718] Trial 0 finished with value: 0.14645849963391977 and parameters: {'feature_fraction': 0.8999999999999999}. Best is trial 0 with value: 0.14645849963391977.\n",
      "feature_fraction, val_score: 0.146458:  14%|######4                                      | 1/7 [00:12<01:12, 12.11s/it]"
     ]
    },
    {
     "name": "stdout",
     "output_type": "stream",
     "text": [
      "Early stopping, best iteration is:\n",
      "[488]\tcv_agg's l2: 0.146458 + 0.0357838\n",
      "[100]\tcv_agg's l2: 0.151393 + 0.0376705\n",
      "[200]\tcv_agg's l2: 0.149682 + 0.0372732\n",
      "[300]\tcv_agg's l2: 0.148999 + 0.0373819\n",
      "[400]\tcv_agg's l2: 0.14885 + 0.0376309\n",
      "[500]\tcv_agg's l2: 0.148963 + 0.0379129\n"
     ]
    },
    {
     "name": "stderr",
     "output_type": "stream",
     "text": [
      "feature_fraction, val_score: 0.146458:  29%|############8                                | 2/7 [00:21<00:53, 10.62s/it][I 2023-11-09 20:47:14,303] Trial 1 finished with value: 0.14898447653890973 and parameters: {'feature_fraction': 1.0}. Best is trial 0 with value: 0.14645849963391977.\n",
      "feature_fraction, val_score: 0.146458:  29%|############8                                | 2/7 [00:21<00:53, 10.62s/it]"
     ]
    },
    {
     "name": "stdout",
     "output_type": "stream",
     "text": [
      "Early stopping, best iteration is:\n",
      "[488]\tcv_agg's l2: 0.146458 + 0.0357838\n",
      "[100]\tcv_agg's l2: 0.139602 + 0.0303038\n",
      "[200]\tcv_agg's l2: 0.136249 + 0.0301424\n",
      "[300]\tcv_agg's l2: 0.135656 + 0.0294605\n",
      "[400]\tcv_agg's l2: 0.135733 + 0.0293938\n"
     ]
    },
    {
     "name": "stderr",
     "output_type": "stream",
     "text": [
      "feature_fraction, val_score: 0.135445:  43%|###################2                         | 3/7 [00:29<00:37,  9.26s/it][I 2023-11-09 20:47:21,948] Trial 2 finished with value: 0.13544538310514806 and parameters: {'feature_fraction': 0.7}. Best is trial 2 with value: 0.13544538310514806.\n",
      "feature_fraction, val_score: 0.135445:  43%|###################2                         | 3/7 [00:29<00:37,  9.26s/it]"
     ]
    },
    {
     "name": "stdout",
     "output_type": "stream",
     "text": [
      "Early stopping, best iteration is:\n",
      "[322]\tcv_agg's l2: 0.135445 + 0.0294075\n",
      "[100]\tcv_agg's l2: 0.142295 + 0.0295492\n",
      "[200]\tcv_agg's l2: 0.138578 + 0.0289395\n",
      "[300]\tcv_agg's l2: 0.13813 + 0.0288636\n",
      "[400]\tcv_agg's l2: 0.137706 + 0.0285171\n"
     ]
    },
    {
     "name": "stderr",
     "output_type": "stream",
     "text": [
      "feature_fraction, val_score: 0.135445:  57%|#########################7                   | 4/7 [00:36<00:25,  8.41s/it][I 2023-11-09 20:47:29,059] Trial 3 finished with value: 0.13798093169779793 and parameters: {'feature_fraction': 0.6}. Best is trial 2 with value: 0.13544538310514806.\n",
      "feature_fraction, val_score: 0.135445:  57%|#########################7                   | 4/7 [00:36<00:25,  8.41s/it]"
     ]
    },
    {
     "name": "stdout",
     "output_type": "stream",
     "text": [
      "Early stopping, best iteration is:\n",
      "[322]\tcv_agg's l2: 0.135445 + 0.0294075\n",
      "[100]\tcv_agg's l2: 0.140273 + 0.0295095\n",
      "[200]\tcv_agg's l2: 0.138006 + 0.0283372\n",
      "[300]\tcv_agg's l2: 0.137821 + 0.0283476\n",
      "[400]\tcv_agg's l2: 0.137655 + 0.028449\n"
     ]
    },
    {
     "name": "stderr",
     "output_type": "stream",
     "text": [
      "feature_fraction, val_score: 0.135445:  71%|################################1            | 5/7 [00:43<00:15,  7.98s/it][I 2023-11-09 20:47:36,275] Trial 4 finished with value: 0.13757983517531663 and parameters: {'feature_fraction': 0.8}. Best is trial 2 with value: 0.13544538310514806.\n",
      "feature_fraction, val_score: 0.135445:  71%|################################1            | 5/7 [00:43<00:15,  7.98s/it]"
     ]
    },
    {
     "name": "stdout",
     "output_type": "stream",
     "text": [
      "Early stopping, best iteration is:\n",
      "[322]\tcv_agg's l2: 0.135445 + 0.0294075\n",
      "[100]\tcv_agg's l2: 0.136763 + 0.0331273\n",
      "[200]\tcv_agg's l2: 0.133201 + 0.0292263\n",
      "[300]\tcv_agg's l2: 0.132313 + 0.0291824\n",
      "[400]\tcv_agg's l2: 0.131823 + 0.0289118\n"
     ]
    },
    {
     "name": "stderr",
     "output_type": "stream",
     "text": [
      "feature_fraction, val_score: 0.131757:  86%|######################################5      | 6/7 [00:52<00:08,  8.12s/it][I 2023-11-09 20:47:44,658] Trial 5 finished with value: 0.13175734679149304 and parameters: {'feature_fraction': 0.4}. Best is trial 5 with value: 0.13175734679149304.\n",
      "feature_fraction, val_score: 0.131757:  86%|######################################5      | 6/7 [00:52<00:08,  8.12s/it]"
     ]
    },
    {
     "name": "stdout",
     "output_type": "stream",
     "text": [
      "[500]\tcv_agg's l2: 0.131825 + 0.028844\n",
      "Early stopping, best iteration is:\n",
      "[403]\tcv_agg's l2: 0.131757 + 0.0288995\n",
      "[100]\tcv_agg's l2: 0.135816 + 0.0324853\n",
      "[200]\tcv_agg's l2: 0.130532 + 0.0296941\n",
      "[300]\tcv_agg's l2: 0.129665 + 0.0293044\n",
      "[400]\tcv_agg's l2: 0.129449 + 0.0293716\n"
     ]
    },
    {
     "name": "stderr",
     "output_type": "stream",
     "text": [
      "feature_fraction, val_score: 0.129380: 100%|#############################################| 7/7 [01:00<00:00,  8.38s/it][I 2023-11-09 20:47:53,589] Trial 6 finished with value: 0.12938033345400385 and parameters: {'feature_fraction': 0.5}. Best is trial 6 with value: 0.12938033345400385.\n",
      "feature_fraction, val_score: 0.129380: 100%|#############################################| 7/7 [01:00<00:00,  8.71s/it]\n"
     ]
    },
    {
     "name": "stdout",
     "output_type": "stream",
     "text": [
      "[500]\tcv_agg's l2: 0.12953 + 0.0293363\n",
      "Early stopping, best iteration is:\n",
      "[406]\tcv_agg's l2: 0.12938 + 0.0293756\n"
     ]
    },
    {
     "name": "stderr",
     "output_type": "stream",
     "text": [
      "num_leaves, val_score: 0.129380:   0%|                                                          | 0/20 [00:00<?, ?it/s]"
     ]
    },
    {
     "name": "stdout",
     "output_type": "stream",
     "text": [
      "[100]\tcv_agg's l2: 0.135816 + 0.0324853\n",
      "[200]\tcv_agg's l2: 0.130532 + 0.0296941\n",
      "[300]\tcv_agg's l2: 0.129665 + 0.0293044\n",
      "[400]\tcv_agg's l2: 0.129449 + 0.0293716\n"
     ]
    },
    {
     "name": "stderr",
     "output_type": "stream",
     "text": [
      "num_leaves, val_score: 0.129380:   5%|##5                                               | 1/20 [00:09<02:56,  9.28s/it][I 2023-11-09 20:48:02,877] Trial 7 finished with value: 0.12938033345400385 and parameters: {'num_leaves': 195}. Best is trial 7 with value: 0.12938033345400385.\n",
      "num_leaves, val_score: 0.129380:   5%|##5                                               | 1/20 [00:09<02:56,  9.28s/it]"
     ]
    },
    {
     "name": "stdout",
     "output_type": "stream",
     "text": [
      "[500]\tcv_agg's l2: 0.12953 + 0.0293363\n",
      "Early stopping, best iteration is:\n",
      "[406]\tcv_agg's l2: 0.12938 + 0.0293756\n",
      "[100]\tcv_agg's l2: 0.135816 + 0.0324853\n",
      "[200]\tcv_agg's l2: 0.130532 + 0.0296941\n",
      "[300]\tcv_agg's l2: 0.129665 + 0.0293044\n",
      "[400]\tcv_agg's l2: 0.129449 + 0.0293716\n"
     ]
    },
    {
     "name": "stderr",
     "output_type": "stream",
     "text": [
      "num_leaves, val_score: 0.129380:  10%|#####                                             | 2/20 [00:19<03:01, 10.09s/it][I 2023-11-09 20:48:13,535] Trial 8 finished with value: 0.12938033345400385 and parameters: {'num_leaves': 68}. Best is trial 7 with value: 0.12938033345400385.\n",
      "num_leaves, val_score: 0.129380:  10%|#####                                             | 2/20 [00:19<03:01, 10.09s/it]"
     ]
    },
    {
     "name": "stdout",
     "output_type": "stream",
     "text": [
      "[500]\tcv_agg's l2: 0.12953 + 0.0293363\n",
      "Early stopping, best iteration is:\n",
      "[406]\tcv_agg's l2: 0.12938 + 0.0293756\n",
      "[100]\tcv_agg's l2: 0.135816 + 0.0324853\n",
      "[200]\tcv_agg's l2: 0.130532 + 0.0296941\n",
      "[300]\tcv_agg's l2: 0.129665 + 0.0293044\n",
      "[400]\tcv_agg's l2: 0.129449 + 0.0293716\n"
     ]
    },
    {
     "name": "stderr",
     "output_type": "stream",
     "text": [
      "num_leaves, val_score: 0.129380:  15%|#######5                                          | 3/20 [00:28<02:43,  9.62s/it][I 2023-11-09 20:48:22,584] Trial 9 finished with value: 0.12938033345400385 and parameters: {'num_leaves': 118}. Best is trial 7 with value: 0.12938033345400385.\n",
      "num_leaves, val_score: 0.129380:  15%|#######5                                          | 3/20 [00:28<02:43,  9.62s/it]"
     ]
    },
    {
     "name": "stdout",
     "output_type": "stream",
     "text": [
      "[500]\tcv_agg's l2: 0.12953 + 0.0293363\n",
      "Early stopping, best iteration is:\n",
      "[406]\tcv_agg's l2: 0.12938 + 0.0293756\n",
      "[100]\tcv_agg's l2: 0.295541 + 0.033896\n",
      "[200]\tcv_agg's l2: 0.261302 + 0.0318862\n",
      "[300]\tcv_agg's l2: 0.251453 + 0.02813\n",
      "[400]\tcv_agg's l2: 0.244245 + 0.0268973\n"
     ]
    },
    {
     "name": "stderr",
     "output_type": "stream",
     "text": [
      "num_leaves, val_score: 0.129380:  20%|##########                                        | 4/20 [00:30<01:41,  6.37s/it][I 2023-11-09 20:48:23,985] Trial 10 finished with value: 0.2437863813385416 and parameters: {'num_leaves': 2}. Best is trial 7 with value: 0.12938033345400385.\n",
      "num_leaves, val_score: 0.129380:  20%|##########                                        | 4/20 [00:30<01:41,  6.37s/it]"
     ]
    },
    {
     "name": "stdout",
     "output_type": "stream",
     "text": [
      "[500]\tcv_agg's l2: 0.238489 + 0.0262987\n",
      "Early stopping, best iteration is:\n",
      "[406]\tcv_agg's l2: 0.12938 + 0.0293756\n",
      "[100]\tcv_agg's l2: 0.135816 + 0.0324853\n",
      "[200]\tcv_agg's l2: 0.130532 + 0.0296941\n",
      "[300]\tcv_agg's l2: 0.129665 + 0.0293044\n",
      "[400]\tcv_agg's l2: 0.129449 + 0.0293716\n"
     ]
    },
    {
     "name": "stderr",
     "output_type": "stream",
     "text": [
      "num_leaves, val_score: 0.129380:  25%|############5                                     | 5/20 [00:39<01:51,  7.40s/it][I 2023-11-09 20:48:33,212] Trial 11 finished with value: 0.12938033345400385 and parameters: {'num_leaves': 248}. Best is trial 7 with value: 0.12938033345400385.\n",
      "num_leaves, val_score: 0.129380:  25%|############5                                     | 5/20 [00:39<01:51,  7.40s/it]"
     ]
    },
    {
     "name": "stdout",
     "output_type": "stream",
     "text": [
      "[500]\tcv_agg's l2: 0.12953 + 0.0293363\n",
      "Early stopping, best iteration is:\n",
      "[406]\tcv_agg's l2: 0.12938 + 0.0293756\n",
      "[100]\tcv_agg's l2: 0.135816 + 0.0324853\n",
      "[200]\tcv_agg's l2: 0.130532 + 0.0296941\n",
      "[300]\tcv_agg's l2: 0.129665 + 0.0293044\n",
      "[400]\tcv_agg's l2: 0.129449 + 0.0293716\n"
     ]
    },
    {
     "name": "stderr",
     "output_type": "stream",
     "text": [
      "num_leaves, val_score: 0.129380:  30%|###############                                   | 6/20 [00:48<01:51,  7.97s/it][I 2023-11-09 20:48:42,279] Trial 12 finished with value: 0.12938033345400385 and parameters: {'num_leaves': 225}. Best is trial 7 with value: 0.12938033345400385.\n",
      "num_leaves, val_score: 0.129380:  30%|###############                                   | 6/20 [00:48<01:51,  7.97s/it]"
     ]
    },
    {
     "name": "stdout",
     "output_type": "stream",
     "text": [
      "[500]\tcv_agg's l2: 0.12953 + 0.0293363\n",
      "Early stopping, best iteration is:\n",
      "[406]\tcv_agg's l2: 0.12938 + 0.0293756\n",
      "[100]\tcv_agg's l2: 0.135816 + 0.0324853\n",
      "[200]\tcv_agg's l2: 0.130532 + 0.0296941\n",
      "[300]\tcv_agg's l2: 0.129665 + 0.0293044\n",
      "[400]\tcv_agg's l2: 0.129449 + 0.0293716\n"
     ]
    },
    {
     "name": "stderr",
     "output_type": "stream",
     "text": [
      "\r",
      "num_leaves, val_score: 0.129380:  30%|###############                                   | 6/20 [00:58<01:51,  7.97s/it]"
     ]
    },
    {
     "name": "stdout",
     "output_type": "stream",
     "text": [
      "[500]\tcv_agg's l2: 0.12953 + 0.0293363\n",
      "Early stopping, best iteration is:\n",
      "[406]\tcv_agg's l2: 0.12938 + 0.0293756\n"
     ]
    },
    {
     "name": "stderr",
     "output_type": "stream",
     "text": [
      "num_leaves, val_score: 0.129380:  35%|#################5                                | 7/20 [00:58<01:51,  8.54s/it][I 2023-11-09 20:48:52,002] Trial 13 finished with value: 0.12938033345400385 and parameters: {'num_leaves': 176}. Best is trial 7 with value: 0.12938033345400385.\n",
      "num_leaves, val_score: 0.129380:  35%|#################5                                | 7/20 [00:58<01:51,  8.54s/it]"
     ]
    },
    {
     "name": "stdout",
     "output_type": "stream",
     "text": [
      "[100]\tcv_agg's l2: 0.135816 + 0.0324853\n",
      "[200]\tcv_agg's l2: 0.130532 + 0.0296941\n",
      "[300]\tcv_agg's l2: 0.129665 + 0.0293044\n",
      "[400]\tcv_agg's l2: 0.129449 + 0.0293716\n"
     ]
    },
    {
     "name": "stderr",
     "output_type": "stream",
     "text": [
      "\r",
      "num_leaves, val_score: 0.129380:  35%|#################5                                | 7/20 [01:07<01:51,  8.54s/it]"
     ]
    },
    {
     "name": "stdout",
     "output_type": "stream",
     "text": [
      "[500]\tcv_agg's l2: 0.12953 + 0.0293363\n",
      "Early stopping, best iteration is:\n",
      "[406]\tcv_agg's l2: 0.12938 + 0.0293756\n"
     ]
    },
    {
     "name": "stderr",
     "output_type": "stream",
     "text": [
      "num_leaves, val_score: 0.129380:  40%|####################                              | 8/20 [01:07<01:46,  8.87s/it][I 2023-11-09 20:49:01,579] Trial 14 finished with value: 0.12938033345400385 and parameters: {'num_leaves': 161}. Best is trial 7 with value: 0.12938033345400385.\n",
      "num_leaves, val_score: 0.129380:  40%|####################                              | 8/20 [01:07<01:46,  8.87s/it]"
     ]
    },
    {
     "name": "stdout",
     "output_type": "stream",
     "text": [
      "[100]\tcv_agg's l2: 0.135816 + 0.0324853\n",
      "[200]\tcv_agg's l2: 0.130532 + 0.0296941\n",
      "[300]\tcv_agg's l2: 0.129665 + 0.0293044\n",
      "[400]\tcv_agg's l2: 0.129449 + 0.0293716\n"
     ]
    },
    {
     "name": "stderr",
     "output_type": "stream",
     "text": [
      "num_leaves, val_score: 0.129380:  45%|######################5                           | 9/20 [01:17<01:41,  9.22s/it][I 2023-11-09 20:49:11,578] Trial 15 finished with value: 0.12938033345400385 and parameters: {'num_leaves': 193}. Best is trial 7 with value: 0.12938033345400385.\n",
      "num_leaves, val_score: 0.129380:  45%|######################5                           | 9/20 [01:17<01:41,  9.22s/it]"
     ]
    },
    {
     "name": "stdout",
     "output_type": "stream",
     "text": [
      "[500]\tcv_agg's l2: 0.12953 + 0.0293363\n",
      "Early stopping, best iteration is:\n",
      "[406]\tcv_agg's l2: 0.12938 + 0.0293756\n",
      "[100]\tcv_agg's l2: 0.135816 + 0.0324853\n",
      "[200]\tcv_agg's l2: 0.130532 + 0.0296941\n",
      "[300]\tcv_agg's l2: 0.129665 + 0.0293044\n",
      "[400]\tcv_agg's l2: 0.129449 + 0.0293716\n"
     ]
    },
    {
     "name": "stderr",
     "output_type": "stream",
     "text": [
      "num_leaves, val_score: 0.129380:  50%|########################5                        | 10/20 [01:27<01:32,  9.20s/it][I 2023-11-09 20:49:20,740] Trial 16 finished with value: 0.12938033345400385 and parameters: {'num_leaves': 107}. Best is trial 7 with value: 0.12938033345400385.\n",
      "num_leaves, val_score: 0.129380:  50%|########################5                        | 10/20 [01:27<01:32,  9.20s/it]"
     ]
    },
    {
     "name": "stdout",
     "output_type": "stream",
     "text": [
      "[500]\tcv_agg's l2: 0.12953 + 0.0293363\n",
      "Early stopping, best iteration is:\n",
      "[406]\tcv_agg's l2: 0.12938 + 0.0293756\n",
      "[100]\tcv_agg's l2: 0.135816 + 0.0324853\n",
      "[200]\tcv_agg's l2: 0.130532 + 0.0296941\n",
      "[300]\tcv_agg's l2: 0.129665 + 0.0293044\n",
      "[400]\tcv_agg's l2: 0.129449 + 0.0293716\n"
     ]
    },
    {
     "name": "stderr",
     "output_type": "stream",
     "text": [
      "num_leaves, val_score: 0.129380:  55%|##########################9                      | 11/20 [01:36<01:23,  9.25s/it][I 2023-11-09 20:49:30,079] Trial 17 finished with value: 0.12938033345400385 and parameters: {'num_leaves': 62}. Best is trial 7 with value: 0.12938033345400385.\n",
      "num_leaves, val_score: 0.129380:  55%|##########################9                      | 11/20 [01:36<01:23,  9.25s/it]"
     ]
    },
    {
     "name": "stdout",
     "output_type": "stream",
     "text": [
      "[500]\tcv_agg's l2: 0.12953 + 0.0293363\n",
      "Early stopping, best iteration is:\n",
      "[406]\tcv_agg's l2: 0.12938 + 0.0293756\n",
      "[100]\tcv_agg's l2: 0.135816 + 0.0324853\n",
      "[200]\tcv_agg's l2: 0.130532 + 0.0296941\n",
      "[300]\tcv_agg's l2: 0.129665 + 0.0293044\n",
      "[400]\tcv_agg's l2: 0.129449 + 0.0293716\n"
     ]
    },
    {
     "name": "stderr",
     "output_type": "stream",
     "text": [
      "num_leaves, val_score: 0.129380:  60%|#############################4                   | 12/20 [01:46<01:14,  9.34s/it][I 2023-11-09 20:49:39,635] Trial 18 finished with value: 0.12938033345400385 and parameters: {'num_leaves': 213}. Best is trial 7 with value: 0.12938033345400385.\n",
      "num_leaves, val_score: 0.129380:  60%|#############################4                   | 12/20 [01:46<01:14,  9.34s/it]"
     ]
    },
    {
     "name": "stdout",
     "output_type": "stream",
     "text": [
      "[500]\tcv_agg's l2: 0.12953 + 0.0293363\n",
      "Early stopping, best iteration is:\n",
      "[406]\tcv_agg's l2: 0.12938 + 0.0293756\n",
      "[100]\tcv_agg's l2: 0.135816 + 0.0324853\n",
      "[200]\tcv_agg's l2: 0.130532 + 0.0296941\n",
      "[300]\tcv_agg's l2: 0.129665 + 0.0293044\n",
      "[400]\tcv_agg's l2: 0.129449 + 0.0293716\n"
     ]
    },
    {
     "name": "stderr",
     "output_type": "stream",
     "text": [
      "num_leaves, val_score: 0.129380:  65%|###############################8                 | 13/20 [01:55<01:05,  9.34s/it][I 2023-11-09 20:49:48,959] Trial 19 finished with value: 0.12938033345400385 and parameters: {'num_leaves': 148}. Best is trial 7 with value: 0.12938033345400385.\n",
      "num_leaves, val_score: 0.129380:  65%|###############################8                 | 13/20 [01:55<01:05,  9.34s/it]"
     ]
    },
    {
     "name": "stdout",
     "output_type": "stream",
     "text": [
      "[500]\tcv_agg's l2: 0.12953 + 0.0293363\n",
      "Early stopping, best iteration is:\n",
      "[406]\tcv_agg's l2: 0.12938 + 0.0293756\n",
      "[100]\tcv_agg's l2: 0.135816 + 0.0324853\n",
      "[200]\tcv_agg's l2: 0.130532 + 0.0296941\n",
      "[300]\tcv_agg's l2: 0.129665 + 0.0293044\n",
      "[400]\tcv_agg's l2: 0.129449 + 0.0293716\n"
     ]
    },
    {
     "name": "stderr",
     "output_type": "stream",
     "text": [
      "num_leaves, val_score: 0.129380:  70%|##################################3              | 14/20 [02:04<00:55,  9.22s/it][I 2023-11-09 20:49:57,919] Trial 20 finished with value: 0.12938033345400385 and parameters: {'num_leaves': 94}. Best is trial 7 with value: 0.12938033345400385.\n",
      "num_leaves, val_score: 0.129380:  70%|##################################3              | 14/20 [02:04<00:55,  9.22s/it]"
     ]
    },
    {
     "name": "stdout",
     "output_type": "stream",
     "text": [
      "[500]\tcv_agg's l2: 0.12953 + 0.0293363\n",
      "Early stopping, best iteration is:\n",
      "[406]\tcv_agg's l2: 0.12938 + 0.0293756\n",
      "[100]\tcv_agg's l2: 0.135816 + 0.0324853\n",
      "[200]\tcv_agg's l2: 0.130532 + 0.0296941\n",
      "[300]\tcv_agg's l2: 0.129665 + 0.0293044\n",
      "[400]\tcv_agg's l2: 0.129449 + 0.0293716\n"
     ]
    },
    {
     "name": "stderr",
     "output_type": "stream",
     "text": [
      "num_leaves, val_score: 0.129380:  75%|####################################7            | 15/20 [02:13<00:45,  9.19s/it][I 2023-11-09 20:50:07,041] Trial 21 finished with value: 0.12938033345400385 and parameters: {'num_leaves': 51}. Best is trial 7 with value: 0.12938033345400385.\n",
      "num_leaves, val_score: 0.129380:  75%|####################################7            | 15/20 [02:13<00:45,  9.19s/it]"
     ]
    },
    {
     "name": "stdout",
     "output_type": "stream",
     "text": [
      "[500]\tcv_agg's l2: 0.12953 + 0.0293363\n",
      "Early stopping, best iteration is:\n",
      "[406]\tcv_agg's l2: 0.12938 + 0.0293756\n",
      "[100]\tcv_agg's l2: 0.135816 + 0.0324853\n",
      "[200]\tcv_agg's l2: 0.130532 + 0.0296941\n",
      "[300]\tcv_agg's l2: 0.129665 + 0.0293044\n",
      "[400]\tcv_agg's l2: 0.129449 + 0.0293716\n"
     ]
    },
    {
     "name": "stderr",
     "output_type": "stream",
     "text": [
      "num_leaves, val_score: 0.129380:  80%|#######################################2         | 16/20 [02:22<00:36,  9.17s/it][I 2023-11-09 20:50:16,149] Trial 22 finished with value: 0.12938033345400385 and parameters: {'num_leaves': 61}. Best is trial 7 with value: 0.12938033345400385.\n",
      "num_leaves, val_score: 0.129380:  80%|#######################################2         | 16/20 [02:22<00:36,  9.17s/it]"
     ]
    },
    {
     "name": "stdout",
     "output_type": "stream",
     "text": [
      "[500]\tcv_agg's l2: 0.12953 + 0.0293363\n",
      "Early stopping, best iteration is:\n",
      "[406]\tcv_agg's l2: 0.12938 + 0.0293756\n",
      "[100]\tcv_agg's l2: 0.135816 + 0.0324853\n",
      "[200]\tcv_agg's l2: 0.130532 + 0.0296941\n",
      "[300]\tcv_agg's l2: 0.129665 + 0.0293044\n",
      "[400]\tcv_agg's l2: 0.129449 + 0.0293716\n"
     ]
    },
    {
     "name": "stderr",
     "output_type": "stream",
     "text": [
      "num_leaves, val_score: 0.129380:  85%|#########################################6       | 17/20 [02:31<00:27,  9.16s/it][I 2023-11-09 20:50:25,304] Trial 23 finished with value: 0.12938033345400385 and parameters: {'num_leaves': 135}. Best is trial 7 with value: 0.12938033345400385.\n",
      "num_leaves, val_score: 0.129380:  85%|#########################################6       | 17/20 [02:31<00:27,  9.16s/it]"
     ]
    },
    {
     "name": "stdout",
     "output_type": "stream",
     "text": [
      "[500]\tcv_agg's l2: 0.12953 + 0.0293363\n",
      "Early stopping, best iteration is:\n",
      "[406]\tcv_agg's l2: 0.12938 + 0.0293756\n",
      "[100]\tcv_agg's l2: 0.146442 + 0.0280866\n",
      "[200]\tcv_agg's l2: 0.139021 + 0.0251411\n",
      "[300]\tcv_agg's l2: 0.136383 + 0.0248899\n",
      "[400]\tcv_agg's l2: 0.135379 + 0.0241111\n"
     ]
    },
    {
     "name": "stderr",
     "output_type": "stream",
     "text": [
      "num_leaves, val_score: 0.129380:  90%|############################################1    | 18/20 [02:35<00:15,  7.65s/it][I 2023-11-09 20:50:29,418] Trial 24 finished with value: 0.1355227005802085 and parameters: {'num_leaves': 10}. Best is trial 7 with value: 0.12938033345400385.\n",
      "num_leaves, val_score: 0.129380:  90%|############################################1    | 18/20 [02:35<00:15,  7.65s/it]"
     ]
    },
    {
     "name": "stdout",
     "output_type": "stream",
     "text": [
      "[500]\tcv_agg's l2: 0.135425 + 0.0247987\n",
      "Early stopping, best iteration is:\n",
      "[406]\tcv_agg's l2: 0.12938 + 0.0293756\n",
      "[100]\tcv_agg's l2: 0.135816 + 0.0324853\n",
      "[200]\tcv_agg's l2: 0.130532 + 0.0296941\n",
      "[300]\tcv_agg's l2: 0.129665 + 0.0293044\n",
      "[400]\tcv_agg's l2: 0.129449 + 0.0293716\n"
     ]
    },
    {
     "name": "stderr",
     "output_type": "stream",
     "text": [
      "num_leaves, val_score: 0.129380:  95%|##############################################5  | 19/20 [02:44<00:08,  8.05s/it][I 2023-11-09 20:50:38,418] Trial 25 finished with value: 0.12938033345400385 and parameters: {'num_leaves': 74}. Best is trial 7 with value: 0.12938033345400385.\n",
      "num_leaves, val_score: 0.129380:  95%|##############################################5  | 19/20 [02:44<00:08,  8.05s/it]"
     ]
    },
    {
     "name": "stdout",
     "output_type": "stream",
     "text": [
      "[500]\tcv_agg's l2: 0.12953 + 0.0293363\n",
      "Early stopping, best iteration is:\n",
      "[406]\tcv_agg's l2: 0.12938 + 0.0293756\n",
      "[100]\tcv_agg's l2: 0.135816 + 0.0324853\n",
      "[200]\tcv_agg's l2: 0.130532 + 0.0296941\n",
      "[300]\tcv_agg's l2: 0.129665 + 0.0293044\n",
      "[400]\tcv_agg's l2: 0.129449 + 0.0293716\n"
     ]
    },
    {
     "name": "stderr",
     "output_type": "stream",
     "text": [
      "num_leaves, val_score: 0.129380: 100%|#################################################| 20/20 [02:53<00:00,  8.35s/it][I 2023-11-09 20:50:47,475] Trial 26 finished with value: 0.12938033345400385 and parameters: {'num_leaves': 190}. Best is trial 7 with value: 0.12938033345400385.\n",
      "num_leaves, val_score: 0.129380: 100%|#################################################| 20/20 [02:53<00:00,  8.69s/it]\n"
     ]
    },
    {
     "name": "stdout",
     "output_type": "stream",
     "text": [
      "[500]\tcv_agg's l2: 0.12953 + 0.0293363\n",
      "Early stopping, best iteration is:\n",
      "[406]\tcv_agg's l2: 0.12938 + 0.0293756\n"
     ]
    },
    {
     "name": "stderr",
     "output_type": "stream",
     "text": [
      "bagging, val_score: 0.129380:   0%|                                                             | 0/10 [00:00<?, ?it/s]"
     ]
    },
    {
     "name": "stdout",
     "output_type": "stream",
     "text": [
      "[100]\tcv_agg's l2: 0.173548 + 0.0463414\n",
      "[200]\tcv_agg's l2: 0.165293 + 0.0426818\n",
      "[300]\tcv_agg's l2: 0.163784 + 0.0426931\n",
      "[400]\tcv_agg's l2: 0.164839 + 0.0428706\n"
     ]
    },
    {
     "name": "stderr",
     "output_type": "stream",
     "text": [
      "bagging, val_score: 0.129380:  10%|#####3                                               | 1/10 [00:05<00:49,  5.50s/it][I 2023-11-09 20:50:52,983] Trial 27 finished with value: 0.16466678116587435 and parameters: {'bagging_fraction': 0.5627490615426337, 'bagging_freq': 5}. Best is trial 27 with value: 0.16466678116587435.\n",
      "bagging, val_score: 0.129380:  10%|#####3                                               | 1/10 [00:05<00:49,  5.50s/it]"
     ]
    },
    {
     "name": "stdout",
     "output_type": "stream",
     "text": [
      "[500]\tcv_agg's l2: 0.165143 + 0.0444317\n",
      "Early stopping, best iteration is:\n",
      "[406]\tcv_agg's l2: 0.12938 + 0.0293756\n",
      "[100]\tcv_agg's l2: 0.138209 + 0.030631\n",
      "[200]\tcv_agg's l2: 0.134217 + 0.029675\n",
      "[300]\tcv_agg's l2: 0.133435 + 0.029502\n",
      "[400]\tcv_agg's l2: 0.133024 + 0.029263\n",
      "[500]\tcv_agg's l2: 0.132866 + 0.0290185\n"
     ]
    },
    {
     "name": "stderr",
     "output_type": "stream",
     "text": [
      "bagging, val_score: 0.129380:  20%|##########6                                          | 2/10 [00:15<01:06,  8.28s/it][I 2023-11-09 20:51:03,203] Trial 28 finished with value: 0.1329498550884869 and parameters: {'bagging_fraction': 0.9814339755141339, 'bagging_freq': 1}. Best is trial 28 with value: 0.1329498550884869.\n",
      "bagging, val_score: 0.129380:  20%|##########6                                          | 2/10 [00:15<01:06,  8.28s/it]"
     ]
    },
    {
     "name": "stdout",
     "output_type": "stream",
     "text": [
      "Early stopping, best iteration is:\n",
      "[406]\tcv_agg's l2: 0.12938 + 0.0293756\n",
      "[100]\tcv_agg's l2: 0.208072 + 0.0352465\n",
      "[200]\tcv_agg's l2: 0.190867 + 0.0382839\n",
      "[300]\tcv_agg's l2: 0.191673 + 0.0367848\n",
      "[400]\tcv_agg's l2: 0.186406 + 0.0393048\n"
     ]
    },
    {
     "name": "stderr",
     "output_type": "stream",
     "text": [
      "bagging, val_score: 0.129380:  30%|###############9                                     | 3/10 [00:21<00:50,  7.19s/it][I 2023-11-09 20:51:09,105] Trial 29 finished with value: 0.18646491344398625 and parameters: {'bagging_fraction': 0.41170451098269306, 'bagging_freq': 7}. Best is trial 28 with value: 0.1329498550884869.\n",
      "bagging, val_score: 0.129380:  30%|###############9                                     | 3/10 [00:21<00:50,  7.19s/it]"
     ]
    },
    {
     "name": "stdout",
     "output_type": "stream",
     "text": [
      "[500]\tcv_agg's l2: 0.188649 + 0.0396595\n",
      "Early stopping, best iteration is:\n",
      "[406]\tcv_agg's l2: 0.12938 + 0.0293756\n",
      "[100]\tcv_agg's l2: 0.149849 + 0.0267984\n",
      "[200]\tcv_agg's l2: 0.145785 + 0.026772\n",
      "[300]\tcv_agg's l2: 0.144417 + 0.026325\n",
      "[400]\tcv_agg's l2: 0.144236 + 0.0259396\n"
     ]
    },
    {
     "name": "stderr",
     "output_type": "stream",
     "text": [
      "bagging, val_score: 0.129380:  40%|#####################2                               | 4/10 [00:27<00:40,  6.83s/it][I 2023-11-09 20:51:15,387] Trial 30 finished with value: 0.1443854607279555 and parameters: {'bagging_fraction': 0.8068555536314403, 'bagging_freq': 1}. Best is trial 28 with value: 0.1329498550884869.\n",
      "bagging, val_score: 0.129380:  40%|#####################2                               | 4/10 [00:27<00:40,  6.83s/it]"
     ]
    },
    {
     "name": "stdout",
     "output_type": "stream",
     "text": [
      "[500]\tcv_agg's l2: 0.144282 + 0.0260472\n",
      "Early stopping, best iteration is:\n",
      "[406]\tcv_agg's l2: 0.12938 + 0.0293756\n",
      "[100]\tcv_agg's l2: 0.15539 + 0.0346455\n",
      "[200]\tcv_agg's l2: 0.149849 + 0.0330367\n",
      "[300]\tcv_agg's l2: 0.14959 + 0.0326146\n",
      "[400]\tcv_agg's l2: 0.149871 + 0.0327823\n"
     ]
    },
    {
     "name": "stderr",
     "output_type": "stream",
     "text": [
      "bagging, val_score: 0.129380:  50%|##########################5                          | 5/10 [00:34<00:32,  6.57s/it][I 2023-11-09 20:51:21,500] Trial 31 finished with value: 0.1496927205263467 and parameters: {'bagging_fraction': 0.7155464754251815, 'bagging_freq': 4}. Best is trial 28 with value: 0.1329498550884869.\n",
      "bagging, val_score: 0.129380:  50%|##########################5                          | 5/10 [00:34<00:32,  6.57s/it]"
     ]
    },
    {
     "name": "stdout",
     "output_type": "stream",
     "text": [
      "[500]\tcv_agg's l2: 0.150918 + 0.0338744\n",
      "Early stopping, best iteration is:\n",
      "[406]\tcv_agg's l2: 0.12938 + 0.0293756\n",
      "[100]\tcv_agg's l2: 0.137944 + 0.0304516\n",
      "[200]\tcv_agg's l2: 0.133087 + 0.0284984\n",
      "[300]\tcv_agg's l2: 0.132113 + 0.027905\n",
      "[400]\tcv_agg's l2: 0.131987 + 0.0279466\n"
     ]
    },
    {
     "name": "stderr",
     "output_type": "stream",
     "text": [
      "bagging, val_score: 0.129380:  60%|###############################8                     | 6/10 [00:42<00:28,  7.15s/it][I 2023-11-09 20:51:29,764] Trial 32 finished with value: 0.13202484543862048 and parameters: {'bagging_fraction': 0.9974923484959753, 'bagging_freq': 3}. Best is trial 32 with value: 0.13202484543862048.\n",
      "bagging, val_score: 0.129380:  60%|###############################8                     | 6/10 [00:42<00:28,  7.15s/it]"
     ]
    },
    {
     "name": "stdout",
     "output_type": "stream",
     "text": [
      "[500]\tcv_agg's l2: 0.132426 + 0.0282109\n",
      "Early stopping, best iteration is:\n",
      "[406]\tcv_agg's l2: 0.12938 + 0.0293756\n",
      "[100]\tcv_agg's l2: 0.222336 + 0.0634127\n",
      "[200]\tcv_agg's l2: 0.204405 + 0.0626711\n",
      "[300]\tcv_agg's l2: 0.205244 + 0.0620765\n",
      "[400]\tcv_agg's l2: 0.203412 + 0.0663469\n"
     ]
    },
    {
     "name": "stderr",
     "output_type": "stream",
     "text": [
      "bagging, val_score: 0.129380:  70%|#####################################                | 7/10 [00:45<00:18,  6.01s/it][I 2023-11-09 20:51:33,443] Trial 33 finished with value: 0.20437999896271802 and parameters: {'bagging_fraction': 0.4014271471618548, 'bagging_freq': 7}. Best is trial 32 with value: 0.13202484543862048.\n",
      "bagging, val_score: 0.129380:  70%|#####################################                | 7/10 [00:45<00:18,  6.01s/it]"
     ]
    },
    {
     "name": "stdout",
     "output_type": "stream",
     "text": [
      "[500]\tcv_agg's l2: 0.202905 + 0.0630602\n",
      "Early stopping, best iteration is:\n",
      "[406]\tcv_agg's l2: 0.12938 + 0.0293756\n",
      "[100]\tcv_agg's l2: 0.159104 + 0.0324344\n",
      "[200]\tcv_agg's l2: 0.155006 + 0.0271218\n",
      "[300]\tcv_agg's l2: 0.154684 + 0.027466\n",
      "[400]\tcv_agg's l2: 0.15462 + 0.0264649\n"
     ]
    },
    {
     "name": "stderr",
     "output_type": "stream",
     "text": [
      "bagging, val_score: 0.129380:  80%|##########################################4          | 8/10 [00:51<00:11,  5.94s/it][I 2023-11-09 20:51:39,230] Trial 34 finished with value: 0.15457934558426045 and parameters: {'bagging_fraction': 0.5929228920292641, 'bagging_freq': 3}. Best is trial 32 with value: 0.13202484543862048.\n",
      "bagging, val_score: 0.129380:  80%|##########################################4          | 8/10 [00:51<00:11,  5.94s/it]"
     ]
    },
    {
     "name": "stdout",
     "output_type": "stream",
     "text": [
      "[500]\tcv_agg's l2: 0.154928 + 0.0242459\n",
      "Early stopping, best iteration is:\n",
      "[406]\tcv_agg's l2: 0.12938 + 0.0293756\n",
      "[100]\tcv_agg's l2: 0.152611 + 0.0435281\n",
      "[200]\tcv_agg's l2: 0.147316 + 0.0405306\n",
      "[300]\tcv_agg's l2: 0.147168 + 0.0384943\n",
      "[400]\tcv_agg's l2: 0.147079 + 0.037288\n"
     ]
    },
    {
     "name": "stderr",
     "output_type": "stream",
     "text": [
      "bagging, val_score: 0.129380:  90%|###############################################7     | 9/10 [00:59<00:06,  6.46s/it][I 2023-11-09 20:51:46,834] Trial 35 finished with value: 0.1469807909850554 and parameters: {'bagging_fraction': 0.8045543482508153, 'bagging_freq': 5}. Best is trial 32 with value: 0.13202484543862048.\n",
      "bagging, val_score: 0.129380:  90%|###############################################7     | 9/10 [00:59<00:06,  6.46s/it]"
     ]
    },
    {
     "name": "stdout",
     "output_type": "stream",
     "text": [
      "[500]\tcv_agg's l2: 0.146355 + 0.0362646\n",
      "Early stopping, best iteration is:\n",
      "[406]\tcv_agg's l2: 0.12938 + 0.0293756\n",
      "[100]\tcv_agg's l2: 0.143906 + 0.032791\n",
      "[200]\tcv_agg's l2: 0.13932 + 0.0311104\n",
      "[300]\tcv_agg's l2: 0.138269 + 0.0304734\n",
      "[400]\tcv_agg's l2: 0.137845 + 0.0305217\n"
     ]
    },
    {
     "name": "stderr",
     "output_type": "stream",
     "text": [
      "bagging, val_score: 0.129380: 100%|####################################################| 10/10 [01:07<00:00,  6.91s/it][I 2023-11-09 20:51:54,760] Trial 36 finished with value: 0.13797633490280337 and parameters: {'bagging_fraction': 0.8465403196004335, 'bagging_freq': 2}. Best is trial 32 with value: 0.13202484543862048.\n",
      "bagging, val_score: 0.129380: 100%|####################################################| 10/10 [01:07<00:00,  6.73s/it]\n"
     ]
    },
    {
     "name": "stdout",
     "output_type": "stream",
     "text": [
      "[500]\tcv_agg's l2: 0.13791 + 0.0300329\n",
      "Early stopping, best iteration is:\n",
      "[406]\tcv_agg's l2: 0.12938 + 0.0293756\n"
     ]
    },
    {
     "name": "stderr",
     "output_type": "stream",
     "text": [
      "feature_fraction_stage2, val_score: 0.129380:   0%|                                              | 0/6 [00:00<?, ?it/s]"
     ]
    },
    {
     "name": "stdout",
     "output_type": "stream",
     "text": [
      "[100]\tcv_agg's l2: 0.143481 + 0.0368109\n",
      "[200]\tcv_agg's l2: 0.14091 + 0.0359799\n",
      "[300]\tcv_agg's l2: 0.140171 + 0.0349962\n",
      "[400]\tcv_agg's l2: 0.139892 + 0.0346039\n"
     ]
    },
    {
     "name": "stderr",
     "output_type": "stream",
     "text": [
      "feature_fraction_stage2, val_score: 0.129380:  17%|######3                               | 1/6 [00:09<00:46,  9.24s/it][I 2023-11-09 20:52:04,006] Trial 37 finished with value: 0.13998706038586844 and parameters: {'feature_fraction': 0.58}. Best is trial 37 with value: 0.13998706038586844.\n",
      "feature_fraction_stage2, val_score: 0.129380:  17%|######3                               | 1/6 [00:09<00:46,  9.24s/it]"
     ]
    },
    {
     "name": "stdout",
     "output_type": "stream",
     "text": [
      "[500]\tcv_agg's l2: 0.139658 + 0.0342894\n",
      "Early stopping, best iteration is:\n",
      "[406]\tcv_agg's l2: 0.12938 + 0.0293756\n",
      "[100]\tcv_agg's l2: 0.139562 + 0.0337024\n",
      "[200]\tcv_agg's l2: 0.136052 + 0.0330496\n",
      "[300]\tcv_agg's l2: 0.135664 + 0.0324422\n",
      "[400]\tcv_agg's l2: 0.135477 + 0.0325419\n"
     ]
    },
    {
     "name": "stderr",
     "output_type": "stream",
     "text": [
      "feature_fraction_stage2, val_score: 0.129380:  33%|############6                         | 2/6 [00:18<00:36,  9.08s/it][I 2023-11-09 20:52:12,970] Trial 38 finished with value: 0.1354012997939563 and parameters: {'feature_fraction': 0.42}. Best is trial 38 with value: 0.1354012997939563.\n",
      "feature_fraction_stage2, val_score: 0.129380:  33%|############6                         | 2/6 [00:18<00:36,  9.08s/it]"
     ]
    },
    {
     "name": "stdout",
     "output_type": "stream",
     "text": [
      "[500]\tcv_agg's l2: 0.135236 + 0.0326663\n",
      "Early stopping, best iteration is:\n",
      "[406]\tcv_agg's l2: 0.12938 + 0.0293756\n",
      "[100]\tcv_agg's l2: 0.140592 + 0.0327434\n",
      "[200]\tcv_agg's l2: 0.136401 + 0.0299106\n",
      "[300]\tcv_agg's l2: 0.135675 + 0.029006\n",
      "[400]\tcv_agg's l2: 0.135643 + 0.0287864\n"
     ]
    },
    {
     "name": "stderr",
     "output_type": "stream",
     "text": [
      "feature_fraction_stage2, val_score: 0.129380:  50%|###################                   | 3/6 [00:26<00:26,  8.73s/it][I 2023-11-09 20:52:21,289] Trial 39 finished with value: 0.13567502882123061 and parameters: {'feature_fraction': 0.5479999999999999}. Best is trial 38 with value: 0.1354012997939563.\n",
      "feature_fraction_stage2, val_score: 0.129380:  50%|###################                   | 3/6 [00:26<00:26,  8.73s/it]"
     ]
    },
    {
     "name": "stdout",
     "output_type": "stream",
     "text": [
      "[500]\tcv_agg's l2: 0.135478 + 0.0285997\n",
      "Early stopping, best iteration is:\n",
      "[406]\tcv_agg's l2: 0.12938 + 0.0293756\n",
      "[100]\tcv_agg's l2: 0.132027 + 0.0280752\n",
      "[200]\tcv_agg's l2: 0.128112 + 0.0259803\n",
      "[300]\tcv_agg's l2: 0.127962 + 0.0254438\n"
     ]
    },
    {
     "name": "stderr",
     "output_type": "stream",
     "text": [
      "feature_fraction_stage2, val_score: 0.127768:  67%|#########################3            | 4/6 [00:32<00:15,  7.53s/it][I 2023-11-09 20:52:26,976] Trial 40 finished with value: 0.12776757942743605 and parameters: {'feature_fraction': 0.484}. Best is trial 40 with value: 0.12776757942743605.\n",
      "feature_fraction_stage2, val_score: 0.127768:  67%|#########################3            | 4/6 [00:32<00:15,  7.53s/it]"
     ]
    },
    {
     "name": "stdout",
     "output_type": "stream",
     "text": [
      "Early stopping, best iteration is:\n",
      "[230]\tcv_agg's l2: 0.127768 + 0.025418\n",
      "[100]\tcv_agg's l2: 0.13861 + 0.0315068\n",
      "[200]\tcv_agg's l2: 0.135459 + 0.0288234\n",
      "[300]\tcv_agg's l2: 0.134847 + 0.0288127\n"
     ]
    },
    {
     "name": "stderr",
     "output_type": "stream",
     "text": [
      "feature_fraction_stage2, val_score: 0.127768:  83%|###############################6      | 5/6 [00:37<00:06,  6.80s/it][I 2023-11-09 20:52:32,474] Trial 41 finished with value: 0.13546486426699783 and parameters: {'feature_fraction': 0.516}. Best is trial 40 with value: 0.12776757942743605.\n",
      "feature_fraction_stage2, val_score: 0.127768:  83%|###############################6      | 5/6 [00:37<00:06,  6.80s/it]"
     ]
    },
    {
     "name": "stdout",
     "output_type": "stream",
     "text": [
      "Early stopping, best iteration is:\n",
      "[230]\tcv_agg's l2: 0.127768 + 0.025418\n",
      "[100]\tcv_agg's l2: 0.135548 + 0.0303853\n",
      "[200]\tcv_agg's l2: 0.12996 + 0.0278673\n",
      "[300]\tcv_agg's l2: 0.129044 + 0.0274912\n"
     ]
    },
    {
     "name": "stderr",
     "output_type": "stream",
     "text": [
      "feature_fraction_stage2, val_score: 0.127768: 100%|######################################| 6/6 [00:43<00:00,  6.37s/it][I 2023-11-09 20:52:38,004] Trial 42 finished with value: 0.12920480035781062 and parameters: {'feature_fraction': 0.45199999999999996}. Best is trial 40 with value: 0.12776757942743605.\n",
      "feature_fraction_stage2, val_score: 0.127768: 100%|######################################| 6/6 [00:43<00:00,  7.21s/it]\n"
     ]
    },
    {
     "name": "stdout",
     "output_type": "stream",
     "text": [
      "Early stopping, best iteration is:\n",
      "[230]\tcv_agg's l2: 0.127768 + 0.025418\n"
     ]
    },
    {
     "name": "stderr",
     "output_type": "stream",
     "text": [
      "regularization_factors, val_score: 0.127768:   0%|                                              | 0/20 [00:00<?, ?it/s]"
     ]
    },
    {
     "name": "stdout",
     "output_type": "stream",
     "text": [
      "[100]\tcv_agg's l2: 0.130662 + 0.0267816\n",
      "[200]\tcv_agg's l2: 0.127461 + 0.0242728\n",
      "[300]\tcv_agg's l2: 0.126922 + 0.0239095\n"
     ]
    },
    {
     "name": "stderr",
     "output_type": "stream",
     "text": [
      "regularization_factors, val_score: 0.126872:   5%|#9                                    | 1/20 [00:07<02:21,  7.46s/it][I 2023-11-09 20:52:45,468] Trial 43 finished with value: 0.12687167942114486 and parameters: {'lambda_l1': 0.011371261346929128, 'lambda_l2': 1.1679987787365405e-05}. Best is trial 43 with value: 0.12687167942114486.\n",
      "regularization_factors, val_score: 0.126872:   5%|#9                                    | 1/20 [00:07<02:21,  7.46s/it]"
     ]
    },
    {
     "name": "stdout",
     "output_type": "stream",
     "text": [
      "[400]\tcv_agg's l2: 0.127074 + 0.0234925\n",
      "Early stopping, best iteration is:\n",
      "[306]\tcv_agg's l2: 0.126872 + 0.0238295\n",
      "[100]\tcv_agg's l2: 0.133456 + 0.0301086\n",
      "[200]\tcv_agg's l2: 0.130649 + 0.0280846\n",
      "[300]\tcv_agg's l2: 0.130249 + 0.0287151\n"
     ]
    },
    {
     "name": "stderr",
     "output_type": "stream",
     "text": [
      "regularization_factors, val_score: 0.126872:  10%|###8                                  | 2/20 [00:14<02:06,  7.02s/it][I 2023-11-09 20:52:52,187] Trial 44 finished with value: 0.13029034533017697 and parameters: {'lambda_l1': 0.02364962476285988, 'lambda_l2': 2.59072850708089e-05}. Best is trial 43 with value: 0.12687167942114486.\n",
      "regularization_factors, val_score: 0.126872:  10%|###8                                  | 2/20 [00:14<02:06,  7.02s/it]"
     ]
    },
    {
     "name": "stdout",
     "output_type": "stream",
     "text": [
      "[400]\tcv_agg's l2: 0.130118 + 0.0282563\n",
      "Early stopping, best iteration is:\n",
      "[306]\tcv_agg's l2: 0.126872 + 0.0238295\n",
      "[100]\tcv_agg's l2: 0.132027 + 0.0280752\n",
      "[200]\tcv_agg's l2: 0.128112 + 0.0259803\n",
      "[300]\tcv_agg's l2: 0.12789 + 0.0254636\n"
     ]
    },
    {
     "name": "stderr",
     "output_type": "stream",
     "text": [
      "regularization_factors, val_score: 0.126872:  15%|#####7                                | 3/20 [00:20<01:57,  6.93s/it][I 2023-11-09 20:52:59,006] Trial 45 finished with value: 0.12787565743385967 and parameters: {'lambda_l1': 1.563920430262382e-06, 'lambda_l2': 2.229459652811848e-08}. Best is trial 43 with value: 0.12687167942114486.\n",
      "regularization_factors, val_score: 0.126872:  15%|#####7                                | 3/20 [00:20<01:57,  6.93s/it]"
     ]
    },
    {
     "name": "stdout",
     "output_type": "stream",
     "text": [
      "[400]\tcv_agg's l2: 0.128028 + 0.0251753\n",
      "Early stopping, best iteration is:\n",
      "[306]\tcv_agg's l2: 0.126872 + 0.0238295\n",
      "[100]\tcv_agg's l2: 0.132027 + 0.0280752\n",
      "[200]\tcv_agg's l2: 0.128112 + 0.0259803\n",
      "[300]\tcv_agg's l2: 0.127962 + 0.0254438\n"
     ]
    },
    {
     "name": "stderr",
     "output_type": "stream",
     "text": [
      "regularization_factors, val_score: 0.126872:  20%|#######6                              | 4/20 [00:28<01:52,  7.05s/it][I 2023-11-09 20:53:06,252] Trial 46 finished with value: 0.12800907949428328 and parameters: {'lambda_l1': 1.0008945631514303e-07, 'lambda_l2': 2.085267802719925e-08}. Best is trial 43 with value: 0.12687167942114486.\n",
      "regularization_factors, val_score: 0.126872:  20%|#######6                              | 4/20 [00:28<01:52,  7.05s/it]"
     ]
    },
    {
     "name": "stdout",
     "output_type": "stream",
     "text": [
      "[400]\tcv_agg's l2: 0.128115 + 0.0252108\n",
      "Early stopping, best iteration is:\n",
      "[306]\tcv_agg's l2: 0.126872 + 0.0238295\n",
      "[100]\tcv_agg's l2: 0.132027 + 0.0280752\n",
      "[200]\tcv_agg's l2: 0.128112 + 0.0259803\n",
      "[300]\tcv_agg's l2: 0.127962 + 0.0254438\n"
     ]
    },
    {
     "name": "stderr",
     "output_type": "stream",
     "text": [
      "regularization_factors, val_score: 0.126872:  25%|#########5                            | 5/20 [00:35<01:45,  7.01s/it][I 2023-11-09 20:53:13,177] Trial 47 finished with value: 0.1280090795427727 and parameters: {'lambda_l1': 5.62889376941617e-08, 'lambda_l2': 1.0888561416006762e-08}. Best is trial 43 with value: 0.12687167942114486.\n",
      "regularization_factors, val_score: 0.126872:  25%|#########5                            | 5/20 [00:35<01:45,  7.01s/it]"
     ]
    },
    {
     "name": "stdout",
     "output_type": "stream",
     "text": [
      "[400]\tcv_agg's l2: 0.128115 + 0.0252108\n",
      "Early stopping, best iteration is:\n",
      "[306]\tcv_agg's l2: 0.126872 + 0.0238295\n",
      "[100]\tcv_agg's l2: 0.132027 + 0.0280752\n",
      "[200]\tcv_agg's l2: 0.128112 + 0.0259803\n",
      "[300]\tcv_agg's l2: 0.127962 + 0.0254438\n"
     ]
    },
    {
     "name": "stderr",
     "output_type": "stream",
     "text": [
      "regularization_factors, val_score: 0.126872:  30%|###########4                          | 6/20 [00:42<01:40,  7.18s/it][I 2023-11-09 20:53:20,677] Trial 48 finished with value: 0.12800907955724425 and parameters: {'lambda_l1': 4.857027911617117e-08, 'lambda_l2': 1.578775406158386e-08}. Best is trial 43 with value: 0.12687167942114486.\n",
      "regularization_factors, val_score: 0.126872:  30%|###########4                          | 6/20 [00:42<01:40,  7.18s/it]"
     ]
    },
    {
     "name": "stdout",
     "output_type": "stream",
     "text": [
      "[400]\tcv_agg's l2: 0.128115 + 0.0252108\n",
      "Early stopping, best iteration is:\n",
      "[306]\tcv_agg's l2: 0.126872 + 0.0238295\n",
      "[100]\tcv_agg's l2: 0.132027 + 0.0280752\n",
      "[200]\tcv_agg's l2: 0.128112 + 0.0259803\n",
      "[300]\tcv_agg's l2: 0.127962 + 0.0254438\n"
     ]
    },
    {
     "name": "stderr",
     "output_type": "stream",
     "text": [
      "regularization_factors, val_score: 0.126872:  35%|#############3                        | 7/20 [00:49<01:33,  7.16s/it][I 2023-11-09 20:53:27,799] Trial 49 finished with value: 0.12800907908931192 and parameters: {'lambda_l1': 2.3256549088242846e-07, 'lambda_l2': 1.4223885571536416e-08}. Best is trial 43 with value: 0.12687167942114486.\n",
      "regularization_factors, val_score: 0.126872:  35%|#############3                        | 7/20 [00:49<01:33,  7.16s/it]"
     ]
    },
    {
     "name": "stdout",
     "output_type": "stream",
     "text": [
      "[400]\tcv_agg's l2: 0.128115 + 0.0252108\n",
      "Early stopping, best iteration is:\n",
      "[306]\tcv_agg's l2: 0.126872 + 0.0238295\n",
      "[100]\tcv_agg's l2: 0.132027 + 0.0280752\n",
      "[200]\tcv_agg's l2: 0.128112 + 0.0259803\n",
      "[300]\tcv_agg's l2: 0.12789 + 0.0254636\n"
     ]
    },
    {
     "name": "stderr",
     "output_type": "stream",
     "text": [
      "regularization_factors, val_score: 0.126872:  40%|###############2                      | 8/20 [00:56<01:25,  7.16s/it][I 2023-11-09 20:53:34,974] Trial 50 finished with value: 0.12787565834242912 and parameters: {'lambda_l1': 6.886312410772774e-07, 'lambda_l2': 2.997347244721961e-08}. Best is trial 43 with value: 0.12687167942114486.\n",
      "regularization_factors, val_score: 0.126872:  40%|###############2                      | 8/20 [00:56<01:25,  7.16s/it]"
     ]
    },
    {
     "name": "stdout",
     "output_type": "stream",
     "text": [
      "[400]\tcv_agg's l2: 0.12805 + 0.025228\n",
      "Early stopping, best iteration is:\n",
      "[306]\tcv_agg's l2: 0.126872 + 0.0238295\n",
      "[100]\tcv_agg's l2: 0.132027 + 0.0280752\n",
      "[200]\tcv_agg's l2: 0.128112 + 0.0259803\n",
      "[300]\tcv_agg's l2: 0.12789 + 0.0254636\n"
     ]
    },
    {
     "name": "stderr",
     "output_type": "stream",
     "text": [
      "regularization_factors, val_score: 0.126872:  45%|#################1                    | 9/20 [01:04<01:19,  7.19s/it][I 2023-11-09 20:53:42,222] Trial 51 finished with value: 0.12787565853977254 and parameters: {'lambda_l1': 5.508087118707609e-07, 'lambda_l2': 2.7339898242449357e-08}. Best is trial 43 with value: 0.12687167942114486.\n",
      "regularization_factors, val_score: 0.126872:  45%|#################1                    | 9/20 [01:04<01:19,  7.19s/it]"
     ]
    },
    {
     "name": "stdout",
     "output_type": "stream",
     "text": [
      "[400]\tcv_agg's l2: 0.12805 + 0.025228\n",
      "Early stopping, best iteration is:\n",
      "[306]\tcv_agg's l2: 0.126872 + 0.0238295\n",
      "[100]\tcv_agg's l2: 0.132027 + 0.0280752\n",
      "[200]\tcv_agg's l2: 0.128113 + 0.0259802\n",
      "[300]\tcv_agg's l2: 0.127954 + 0.0254249\n"
     ]
    },
    {
     "name": "stderr",
     "output_type": "stream",
     "text": [
      "regularization_factors, val_score: 0.126872:  50%|##################5                  | 10/20 [01:14<01:22,  8.26s/it][I 2023-11-09 20:53:52,885] Trial 52 finished with value: 0.12797670267989938 and parameters: {'lambda_l1': 3.878010281476399e-06, 'lambda_l2': 6.260473408200658e-08}. Best is trial 43 with value: 0.12687167942114486.\n",
      "regularization_factors, val_score: 0.126872:  50%|##################5                  | 10/20 [01:14<01:22,  8.26s/it]"
     ]
    },
    {
     "name": "stdout",
     "output_type": "stream",
     "text": [
      "[400]\tcv_agg's l2: 0.128145 + 0.0251048\n",
      "Early stopping, best iteration is:\n",
      "[306]\tcv_agg's l2: 0.126872 + 0.0238295\n",
      "[100]\tcv_agg's l2: 0.131528 + 0.027345\n",
      "[200]\tcv_agg's l2: 0.128032 + 0.0258715\n",
      "[300]\tcv_agg's l2: 0.127652 + 0.0250192\n"
     ]
    },
    {
     "name": "stderr",
     "output_type": "stream",
     "text": [
      "regularization_factors, val_score: 0.126872:  55%|####################3                | 11/20 [01:23<01:15,  8.43s/it][I 2023-11-09 20:54:01,686] Trial 53 finished with value: 0.12762420327797702 and parameters: {'lambda_l1': 1.0456821328961771e-05, 'lambda_l2': 7.817219219431142e-07}. Best is trial 43 with value: 0.12687167942114486.\n",
      "regularization_factors, val_score: 0.126872:  55%|####################3                | 11/20 [01:23<01:15,  8.43s/it]"
     ]
    },
    {
     "name": "stdout",
     "output_type": "stream",
     "text": [
      "[400]\tcv_agg's l2: 0.127715 + 0.0246489\n",
      "Early stopping, best iteration is:\n",
      "[306]\tcv_agg's l2: 0.126872 + 0.0238295\n",
      "[100]\tcv_agg's l2: 0.13104 + 0.0278774\n",
      "[200]\tcv_agg's l2: 0.129072 + 0.0265301\n",
      "[300]\tcv_agg's l2: 0.128718 + 0.0261369\n"
     ]
    },
    {
     "name": "stderr",
     "output_type": "stream",
     "text": [
      "regularization_factors, val_score: 0.126872:  60%|######################2              | 12/20 [01:30<01:03,  7.88s/it][I 2023-11-09 20:54:08,304] Trial 54 finished with value: 0.12874016246728295 and parameters: {'lambda_l1': 1.902925333512419e-05, 'lambda_l2': 4.01601382335352e-06}. Best is trial 43 with value: 0.12687167942114486.\n",
      "regularization_factors, val_score: 0.126872:  60%|######################2              | 12/20 [01:30<01:03,  7.88s/it]"
     ]
    },
    {
     "name": "stdout",
     "output_type": "stream",
     "text": [
      "[400]\tcv_agg's l2: 0.128568 + 0.0256386\n",
      "Early stopping, best iteration is:\n",
      "[306]\tcv_agg's l2: 0.126872 + 0.0238295\n",
      "[100]\tcv_agg's l2: 0.131528 + 0.027345\n",
      "[200]\tcv_agg's l2: 0.128032 + 0.0258715\n",
      "[300]\tcv_agg's l2: 0.127652 + 0.0250192\n"
     ]
    },
    {
     "name": "stderr",
     "output_type": "stream",
     "text": [
      "regularization_factors, val_score: 0.126872:  65%|########################             | 13/20 [01:35<00:50,  7.21s/it][I 2023-11-09 20:54:13,990] Trial 55 finished with value: 0.12762420387033419 and parameters: {'lambda_l1': 8.784585969346993e-06, 'lambda_l2': 2.2521971703954474e-06}. Best is trial 43 with value: 0.12687167942114486.\n",
      "regularization_factors, val_score: 0.126872:  65%|########################             | 13/20 [01:35<00:50,  7.21s/it]"
     ]
    },
    {
     "name": "stdout",
     "output_type": "stream",
     "text": [
      "[400]\tcv_agg's l2: 0.127715 + 0.0246489\n",
      "Early stopping, best iteration is:\n",
      "[306]\tcv_agg's l2: 0.126872 + 0.0238295\n",
      "[100]\tcv_agg's l2: 0.131059 + 0.0278579\n",
      "[200]\tcv_agg's l2: 0.129301 + 0.0258954\n",
      "[300]\tcv_agg's l2: 0.128964 + 0.0254493\n"
     ]
    },
    {
     "name": "stderr",
     "output_type": "stream",
     "text": [
      "regularization_factors, val_score: 0.126872:  70%|#########################9           | 14/20 [01:45<00:48,  8.04s/it][I 2023-11-09 20:54:23,948] Trial 56 finished with value: 0.12912723473786913 and parameters: {'lambda_l1': 4.967794339089353e-05, 'lambda_l2': 2.5183648777024472e-06}. Best is trial 43 with value: 0.12687167942114486.\n",
      "regularization_factors, val_score: 0.126872:  70%|#########################9           | 14/20 [01:45<00:48,  8.04s/it]"
     ]
    },
    {
     "name": "stdout",
     "output_type": "stream",
     "text": [
      "[400]\tcv_agg's l2: 0.128977 + 0.0253334\n",
      "Early stopping, best iteration is:\n",
      "[306]\tcv_agg's l2: 0.126872 + 0.0238295\n",
      "[100]\tcv_agg's l2: 0.132104 + 0.0274561\n",
      "[200]\tcv_agg's l2: 0.129592 + 0.0260074\n",
      "[300]\tcv_agg's l2: 0.128882 + 0.0252405\n"
     ]
    },
    {
     "name": "stderr",
     "output_type": "stream",
     "text": [
      "regularization_factors, val_score: 0.126872:  75%|###########################7         | 15/20 [01:49<00:34,  6.80s/it][I 2023-11-09 20:54:27,882] Trial 57 finished with value: 0.12881481110194976 and parameters: {'lambda_l1': 0.0010248355922022397, 'lambda_l2': 1.1704743949669742e-06}. Best is trial 43 with value: 0.12687167942114486.\n",
      "regularization_factors, val_score: 0.126872:  75%|###########################7         | 15/20 [01:49<00:34,  6.80s/it]"
     ]
    },
    {
     "name": "stdout",
     "output_type": "stream",
     "text": [
      "[400]\tcv_agg's l2: 0.128718 + 0.0249019\n",
      "Early stopping, best iteration is:\n",
      "[306]\tcv_agg's l2: 0.126872 + 0.0238295\n",
      "[100]\tcv_agg's l2: 0.130227 + 0.0264637\n",
      "[200]\tcv_agg's l2: 0.128113 + 0.0250043\n",
      "[300]\tcv_agg's l2: 0.127255 + 0.0246308\n"
     ]
    },
    {
     "name": "stderr",
     "output_type": "stream",
     "text": [
      "\r",
      "regularization_factors, val_score: 0.126872:  75%|###########################7         | 15/20 [01:54<00:34,  6.80s/it]"
     ]
    },
    {
     "name": "stdout",
     "output_type": "stream",
     "text": [
      "[400]\tcv_agg's l2: 0.127412 + 0.0247977\n",
      "Early stopping, best iteration is:\n",
      "[306]\tcv_agg's l2: 0.126872 + 0.0238295\n"
     ]
    },
    {
     "name": "stderr",
     "output_type": "stream",
     "text": [
      "regularization_factors, val_score: 0.126872:  80%|#############################6       | 16/20 [01:54<00:24,  6.04s/it][I 2023-11-09 20:54:32,137] Trial 58 finished with value: 0.1273105377699471 and parameters: {'lambda_l1': 4.004159842120466e-06, 'lambda_l2': 0.0030211205367594966}. Best is trial 43 with value: 0.12687167942114486.\n",
      "regularization_factors, val_score: 0.126872:  80%|#############################6       | 16/20 [01:54<00:24,  6.04s/it]"
     ]
    },
    {
     "name": "stdout",
     "output_type": "stream",
     "text": [
      "[100]\tcv_agg's l2: 0.132916 + 0.0309195\n",
      "[200]\tcv_agg's l2: 0.13031 + 0.0284676\n",
      "[300]\tcv_agg's l2: 0.129747 + 0.0269891\n"
     ]
    },
    {
     "name": "stderr",
     "output_type": "stream",
     "text": [
      "regularization_factors, val_score: 0.126872:  85%|###############################4     | 17/20 [01:57<00:15,  5.17s/it][I 2023-11-09 20:54:35,279] Trial 59 finished with value: 0.12967493174828598 and parameters: {'lambda_l1': 6.479330181770372e-06, 'lambda_l2': 0.0013802796278262913}. Best is trial 43 with value: 0.12687167942114486.\n",
      "regularization_factors, val_score: 0.126872:  85%|###############################4     | 17/20 [01:57<00:15,  5.17s/it]"
     ]
    },
    {
     "name": "stdout",
     "output_type": "stream",
     "text": [
      "[400]\tcv_agg's l2: 0.129443 + 0.0267302\n",
      "Early stopping, best iteration is:\n",
      "[306]\tcv_agg's l2: 0.126872 + 0.0238295\n",
      "[100]\tcv_agg's l2: 0.134234 + 0.0308324\n",
      "[200]\tcv_agg's l2: 0.1311 + 0.030443\n",
      "[300]\tcv_agg's l2: 0.130437 + 0.0298343\n"
     ]
    },
    {
     "name": "stderr",
     "output_type": "stream",
     "text": [
      "regularization_factors, val_score: 0.126872:  90%|#################################3   | 18/20 [01:59<00:08,  4.36s/it][I 2023-11-09 20:54:37,746] Trial 60 finished with value: 0.13041788672957827 and parameters: {'lambda_l1': 0.00039936135543713425, 'lambda_l2': 0.0074929418746723766}. Best is trial 43 with value: 0.12687167942114486.\n",
      "regularization_factors, val_score: 0.126872:  90%|#################################3   | 18/20 [01:59<00:08,  4.36s/it]"
     ]
    },
    {
     "name": "stdout",
     "output_type": "stream",
     "text": [
      "[400]\tcv_agg's l2: 0.130566 + 0.0296686\n",
      "Early stopping, best iteration is:\n",
      "[306]\tcv_agg's l2: 0.126872 + 0.0238295\n",
      "[100]\tcv_agg's l2: 0.132027 + 0.0280752\n",
      "[200]\tcv_agg's l2: 0.128113 + 0.0259802\n",
      "[300]\tcv_agg's l2: 0.127954 + 0.0254249\n"
     ]
    },
    {
     "name": "stderr",
     "output_type": "stream",
     "text": [
      "regularization_factors, val_score: 0.126872:  95%|###################################1 | 19/20 [02:02<00:03,  3.77s/it][I 2023-11-09 20:54:40,149] Trial 61 finished with value: 0.12797670428613458 and parameters: {'lambda_l1': 2.6422260934700258e-06, 'lambda_l2': 3.519072994400773e-07}. Best is trial 43 with value: 0.12687167942114486.\n",
      "regularization_factors, val_score: 0.126872:  95%|###################################1 | 19/20 [02:02<00:03,  3.77s/it]"
     ]
    },
    {
     "name": "stdout",
     "output_type": "stream",
     "text": [
      "[400]\tcv_agg's l2: 0.128145 + 0.0251048\n",
      "Early stopping, best iteration is:\n",
      "[306]\tcv_agg's l2: 0.126872 + 0.0238295\n",
      "[100]\tcv_agg's l2: 0.131643 + 0.0283846\n",
      "[200]\tcv_agg's l2: 0.127838 + 0.0261529\n",
      "[300]\tcv_agg's l2: 0.127676 + 0.0255999\n"
     ]
    },
    {
     "name": "stderr",
     "output_type": "stream",
     "text": [
      "regularization_factors, val_score: 0.126872: 100%|#####################################| 20/20 [02:04<00:00,  3.35s/it][I 2023-11-09 20:54:42,539] Trial 62 finished with value: 0.1276954255416875 and parameters: {'lambda_l1': 1.7310693340448457e-06, 'lambda_l2': 4.97256048085073e-05}. Best is trial 43 with value: 0.12687167942114486.\n",
      "regularization_factors, val_score: 0.126872: 100%|#####################################| 20/20 [02:04<00:00,  6.23s/it]\n"
     ]
    },
    {
     "name": "stdout",
     "output_type": "stream",
     "text": [
      "[400]\tcv_agg's l2: 0.12765 + 0.0253868\n",
      "Early stopping, best iteration is:\n",
      "[306]\tcv_agg's l2: 0.126872 + 0.0238295\n"
     ]
    },
    {
     "name": "stderr",
     "output_type": "stream",
     "text": [
      "min_data_in_leaf, val_score: 0.126872:   0%|                                                     | 0/5 [00:00<?, ?it/s]"
     ]
    },
    {
     "name": "stdout",
     "output_type": "stream",
     "text": [
      "[100]\tcv_agg's l2: 0.154479 + 0.0330317\n",
      "[200]\tcv_agg's l2: 0.15103 + 0.0292136\n",
      "[300]\tcv_agg's l2: 0.149461 + 0.0272138\n"
     ]
    },
    {
     "name": "stderr",
     "output_type": "stream",
     "text": [
      "min_data_in_leaf, val_score: 0.126872:  20%|#########                                    | 1/5 [00:02<00:09,  2.48s/it][I 2023-11-09 20:54:45,026] Trial 63 finished with value: 0.14942101703905192 and parameters: {'min_child_samples': 25}. Best is trial 63 with value: 0.14942101703905192.\n",
      "min_data_in_leaf, val_score: 0.126872:  20%|#########                                    | 1/5 [00:02<00:09,  2.48s/it]"
     ]
    },
    {
     "name": "stdout",
     "output_type": "stream",
     "text": [
      "[400]\tcv_agg's l2: 0.149423 + 0.0268656\n",
      "Early stopping, best iteration is:\n",
      "[306]\tcv_agg's l2: 0.126872 + 0.0238295\n",
      "[100]\tcv_agg's l2: 0.213239 + 0.035842\n",
      "[200]\tcv_agg's l2: 0.202131 + 0.0357642\n",
      "[300]\tcv_agg's l2: 0.198496 + 0.0372248\n"
     ]
    },
    {
     "name": "stderr",
     "output_type": "stream",
     "text": [
      "min_data_in_leaf, val_score: 0.126872:  40%|##################                           | 2/5 [00:03<00:05,  1.83s/it][I 2023-11-09 20:54:46,402] Trial 64 finished with value: 0.19824757569476972 and parameters: {'min_child_samples': 50}. Best is trial 63 with value: 0.14942101703905192.\n",
      "min_data_in_leaf, val_score: 0.126872:  40%|##################                           | 2/5 [00:03<00:05,  1.83s/it]"
     ]
    },
    {
     "name": "stdout",
     "output_type": "stream",
     "text": [
      "[400]\tcv_agg's l2: 0.198664 + 0.0387309\n",
      "Early stopping, best iteration is:\n",
      "[306]\tcv_agg's l2: 0.126872 + 0.0238295\n",
      "[100]\tcv_agg's l2: 0.123229 + 0.026488\n",
      "[200]\tcv_agg's l2: 0.122012 + 0.0262652\n",
      "[300]\tcv_agg's l2: 0.121723 + 0.0263771\n",
      "[400]\tcv_agg's l2: 0.121446 + 0.0263371\n",
      "[500]\tcv_agg's l2: 0.12139 + 0.0263358\n"
     ]
    },
    {
     "name": "stderr",
     "output_type": "stream",
     "text": [
      "min_data_in_leaf, val_score: 0.121377:  60%|###########################                  | 3/5 [00:08<00:05,  2.98s/it][I 2023-11-09 20:54:50,744] Trial 65 finished with value: 0.12137675602644449 and parameters: {'min_child_samples': 10}. Best is trial 65 with value: 0.12137675602644449.\n",
      "min_data_in_leaf, val_score: 0.121377:  60%|###########################                  | 3/5 [00:08<00:05,  2.98s/it]"
     ]
    },
    {
     "name": "stdout",
     "output_type": "stream",
     "text": [
      "Early stopping, best iteration is:\n",
      "[464]\tcv_agg's l2: 0.121377 + 0.0263158\n",
      "[100]\tcv_agg's l2: 0.120892 + 0.0201758\n",
      "[200]\tcv_agg's l2: 0.120447 + 0.0198928\n",
      "[300]\tcv_agg's l2: 0.120321 + 0.0199536\n",
      "[400]\tcv_agg's l2: 0.120165 + 0.0199218\n"
     ]
    },
    {
     "name": "stderr",
     "output_type": "stream",
     "text": [
      "min_data_in_leaf, val_score: 0.120132:  80%|####################################         | 4/5 [00:11<00:03,  3.16s/it][I 2023-11-09 20:54:54,189] Trial 66 finished with value: 0.12013241021798529 and parameters: {'min_child_samples': 5}. Best is trial 66 with value: 0.12013241021798529.\n",
      "min_data_in_leaf, val_score: 0.120132:  80%|####################################         | 4/5 [00:11<00:03,  3.16s/it]"
     ]
    },
    {
     "name": "stdout",
     "output_type": "stream",
     "text": [
      "[500]\tcv_agg's l2: 0.120134 + 0.0199245\n",
      "Early stopping, best iteration is:\n",
      "[467]\tcv_agg's l2: 0.120132 + 0.019927\n",
      "[100]\tcv_agg's l2: 0.719503 + 0.121424\n",
      "[200]\tcv_agg's l2: 0.677703 + 0.129362\n",
      "[300]\tcv_agg's l2: 0.661062 + 0.128572\n",
      "[400]\tcv_agg's l2: 0.652966 + 0.131874\n"
     ]
    },
    {
     "name": "stderr",
     "output_type": "stream",
     "text": [
      "min_data_in_leaf, val_score: 0.120132: 100%|#############################################| 5/5 [00:13<00:00,  2.53s/it][I 2023-11-09 20:54:55,590] Trial 67 finished with value: 0.6499684280705382 and parameters: {'min_child_samples': 100}. Best is trial 66 with value: 0.12013241021798529.\n",
      "min_data_in_leaf, val_score: 0.120132: 100%|#############################################| 5/5 [00:13<00:00,  2.61s/it]"
     ]
    },
    {
     "name": "stdout",
     "output_type": "stream",
     "text": [
      "[500]\tcv_agg's l2: 0.648267 + 0.132573\n",
      "Early stopping, best iteration is:\n",
      "[467]\tcv_agg's l2: 0.120132 + 0.019927\n"
     ]
    },
    {
     "name": "stderr",
     "output_type": "stream",
     "text": [
      "\n"
     ]
    }
   ],
   "source": [
    "import optuna.integration.lightgbm as lgb\n",
    "from lightgbm import early_stopping, log_evaluation\n",
    "from sklearn.model_selection import KFold\n",
    "from sklearn.model_selection import RepeatedKFold\n",
    "\n",
    "\n",
    "lgb_train = lgb.Dataset(X_train, y_train)\n",
    "\n",
    "params = {\n",
    "    \"boosting_type\": \"gbdt\",\n",
    "    \"objective\": \"regression\",\n",
    "    \"metric\": \"l2\",\n",
    "    \"verbosity\": -1,\n",
    "}\n",
    "\n",
    "tuner = lgb.LightGBMTunerCV(\n",
    "    params,\n",
    "    lgb_train,\n",
    "    folds=KFold(n_splits=5),\n",
    "    num_boost_round=10000,\n",
    "    callbacks=[early_stopping(100), log_evaluation(100)],\n",
    ")\n",
    "\n",
    "tuner.run()"
   ]
  },
  {
   "cell_type": "code",
   "execution_count": 23,
   "id": "d9ab9a30",
   "metadata": {},
   "outputs": [
    {
     "name": "stdout",
     "output_type": "stream",
     "text": [
      "Best score: 0.12013241021798529\n",
      "Params: \n",
      "    boosting_type: gbdt\n",
      "    objective: regression\n",
      "    metric: l2\n",
      "    verbosity: -1\n",
      "    feature_pre_filter: False\n",
      "    lambda_l1: 0.011371261346929128\n",
      "    lambda_l2: 1.1679987787365405e-05\n",
      "    num_leaves: 31\n",
      "    feature_fraction: 0.484\n",
      "    bagging_fraction: 1.0\n",
      "    bagging_freq: 0\n",
      "    min_child_samples: 5\n"
     ]
    }
   ],
   "source": [
    "print(f\"Best score: {tuner.best_score}\")\n",
    "best_params = tuner.best_params\n",
    "print(\"Params: \")\n",
    "for key, value in best_params.items():\n",
    "    print(\"    {}: {}\".format(key, value))"
   ]
  },
  {
   "cell_type": "code",
   "execution_count": 24,
   "id": "0cb62c30",
   "metadata": {},
   "outputs": [],
   "source": [
    "import lightgbm as lgb\n",
    "\n",
    "lgb_tuned = lgb.train(\n",
    "    best_params,\n",
    "    lgb_train,\n",
    "    num_boost_round=10000,\n",
    ")"
   ]
  },
  {
   "cell_type": "code",
   "execution_count": 25,
   "id": "eb6b8188",
   "metadata": {},
   "outputs": [
    {
     "name": "stdout",
     "output_type": "stream",
     "text": [
      "RMSE train: 0.00\n",
      "RMSE test: 0.68\n",
      "MAE test: 0.39\n",
      "\n"
     ]
    }
   ],
   "source": [
    "rmse, mae = assess_regression_model(lgb_tuned, X_train, X_test, y_train, y_test)"
   ]
  },
  {
   "cell_type": "code",
   "execution_count": 26,
   "id": "90047108",
   "metadata": {},
   "outputs": [],
   "source": [
    "results.loc[1] = [\n",
    "    \"chronological\",\n",
    "    \"Optuna\",\n",
    "    \"full\",\n",
    "    rmse,\n",
    "    mae,\n",
    "]"
   ]
  },
  {
   "cell_type": "markdown",
   "id": "b26d94f2",
   "metadata": {},
   "source": [
    "###### MAE by level"
   ]
  },
  {
   "cell_type": "code",
   "execution_count": 27,
   "id": "bb716b92",
   "metadata": {},
   "outputs": [
    {
     "data": {
      "image/png": "[encoded data removed]",
      "text/plain": [
       "<Figure size 1440x576 with 1 Axes>"
      ]
     },
     "metadata": {
      "needs_background": "light"
     },
     "output_type": "display_data"
    }
   ],
   "source": [
    "plot_mae_by_level(\n",
    "    y_test,\n",
    "    y_pred_test,\n",
    "    title=\"MAE by level for tuned LightGBM with full features and chronological split\",\n",
    ")"
   ]
  },
  {
   "cell_type": "code",
   "execution_count": 28,
   "id": "79785820",
   "metadata": {
    "scrolled": false
   },
   "outputs": [
    {
     "name": "stdout",
     "output_type": "stream",
     "text": [
      "Default:\n",
      "RMSE: 0.68\n",
      "\n",
      "Round type: 0.5\n",
      "RMSE: 0.73\n",
      "\n",
      "Round type: 0.33\n",
      "RMSE: 0.68\n",
      "\n",
      "Round type: 0.45\n",
      "RMSE: 0.71\n",
      "\n"
     ]
    }
   ],
   "source": [
    "predict = lgb_tuned.predict(X_test)\n",
    "evaluate_round_predictions([0.5, 0.33, 0.45], y_test, predict)"
   ]
  },
  {
   "cell_type": "code",
   "execution_count": 29,
   "id": "63a9eab9",
   "metadata": {},
   "outputs": [
    {
     "data": {
      "image/png": "[encoded data removed]",
      "text/plain": [
       "<Figure size 720x720 with 2 Axes>"
      ]
     },
     "metadata": {
      "needs_background": "light"
     },
     "output_type": "display_data"
    }
   ],
   "source": [
    "plot_confusion_matrix(\n",
    "    predict,\n",
    "    y_test,\n",
    "    title=\"Confusion matrix for tuned LightGBM with\\nfull features and chronological split\",\n",
    ")"
   ]
  },
  {
   "cell_type": "markdown",
   "id": "a1fa0d3e",
   "metadata": {},
   "source": [
    "## Random split"
   ]
  },
  {
   "cell_type": "code",
   "execution_count": 30,
   "id": "69148859",
   "metadata": {},
   "outputs": [
    {
     "name": "stdout",
     "output_type": "stream",
     "text": [
      "[LightGBM] [Warning] Auto-choosing col-wise multi-threading, the overhead of testing was 0.001132 seconds.\n",
      "You can set `force_col_wise=true` to remove the overhead.\n",
      "[LightGBM] [Info] Total Bins 804\n",
      "[LightGBM] [Info] Number of data points in the train set: 904, number of used features: 48\n",
      "[LightGBM] [Info] Start training from score 7.162611\n",
      "Training until validation scores don't improve for 5 rounds\n",
      "Early stopping, best iteration is:\n",
      "[75]\tvalid_0's l2: 0.1379\tvalid_0's l1: 0.246737\n"
     ]
    }
   ],
   "source": [
    "import lightgbm as lgb\n",
    "from sklearn.metrics import mean_squared_error\n",
    "\n",
    "lgb_train = lgb.Dataset(X_train_random_split, y_train_random_split)\n",
    "lgb_eval = lgb.Dataset(X_test_random_split, y_test_random_split, reference=lgb_train)\n",
    "\n",
    "params = {\n",
    "    \"boosting_type\": \"gbdt\",\n",
    "    \"objective\": \"regression\",\n",
    "    \"metric\": {\"l2\", \"l1\"},\n",
    "}\n",
    "\n",
    "gbm = lgb.train(\n",
    "    params,\n",
    "    lgb_train,\n",
    "    num_boost_round=100,\n",
    "    valid_sets=lgb_eval,\n",
    "    callbacks=[lgb.early_stopping(stopping_rounds=5)],\n",
    ")"
   ]
  },
  {
   "cell_type": "code",
   "execution_count": 31,
   "id": "792899a7",
   "metadata": {},
   "outputs": [],
   "source": [
    "y_pred_train = gbm.predict(X_train_random_split, num_iteration=gbm.best_iteration)\n",
    "y_pred_test = gbm.predict(X_test_random_split, num_iteration=gbm.best_iteration)"
   ]
  },
  {
   "cell_type": "code",
   "execution_count": 32,
   "id": "92e8b92d",
   "metadata": {},
   "outputs": [
    {
     "name": "stdout",
     "output_type": "stream",
     "text": [
      "RMSE: 0.37\n",
      "MAE: 0.25\n"
     ]
    }
   ],
   "source": [
    "from sklearn.metrics import mean_squared_error, mean_absolute_error\n",
    "\n",
    "\n",
    "rmse = mean_squared_error(y_test_random_split, y_pred_test, squared=False)\n",
    "mae = mean_absolute_error(y_test_random_split, y_pred_test)\n",
    "\n",
    "print(f\"RMSE: {rmse:.2f}\")\n",
    "print(f\"MAE: {mae:.2f}\")"
   ]
  },
  {
   "cell_type": "code",
   "execution_count": 33,
   "id": "e9b9f08d",
   "metadata": {},
   "outputs": [],
   "source": [
    "results.loc[2] = [\"random\", \"default\", \"full\", rmse, mae]"
   ]
  },
  {
   "cell_type": "markdown",
   "id": "e2f3fc5d",
   "metadata": {},
   "source": [
    "###### MAE by level"
   ]
  },
  {
   "cell_type": "code",
   "execution_count": 34,
   "id": "591c040e",
   "metadata": {},
   "outputs": [
    {
     "data": {
      "image/png": "[encoded data removed]",
      "text/plain": [
       "<Figure size 1440x576 with 1 Axes>"
      ]
     },
     "metadata": {
      "needs_background": "light"
     },
     "output_type": "display_data"
    }
   ],
   "source": [
    "plot_mae_by_level(\n",
    "    y_test_random_split,\n",
    "    y_pred_test,\n",
    "    title=\"MAE by level for default LightGBM with full features and random split\",\n",
    ")"
   ]
  },
  {
   "cell_type": "code",
   "execution_count": 35,
   "id": "2122d102",
   "metadata": {
    "scrolled": true
   },
   "outputs": [
    {
     "name": "stdout",
     "output_type": "stream",
     "text": [
      "Default:\n",
      "RMSE: 0.37\n",
      "\n",
      "Round type: 0.5\n",
      "RMSE: 0.38\n",
      "\n",
      "Round type: 0.33\n",
      "RMSE: 0.43\n",
      "\n",
      "Round type: 0.45\n",
      "RMSE: 0.38\n",
      "\n"
     ]
    }
   ],
   "source": [
    "evaluate_round_predictions([0.5, 0.33, 0.45], y_test_random_split, y_pred_test)"
   ]
  },
  {
   "cell_type": "code",
   "execution_count": 36,
   "id": "3b4c77ab",
   "metadata": {},
   "outputs": [
    {
     "data": {
      "image/png": "[encoded data removed]",
      "text/plain": [
       "<Figure size 720x720 with 2 Axes>"
      ]
     },
     "metadata": {
      "needs_background": "light"
     },
     "output_type": "display_data"
    }
   ],
   "source": [
    "plot_confusion_matrix(\n",
    "    y_pred_test,\n",
    "    y_test_random_split,\n",
    "    title=\"Confusion matrix for default LightGBM with\\nfull features and random split\",\n",
    ")"
   ]
  },
  {
   "cell_type": "markdown",
   "id": "295f8eff",
   "metadata": {},
   "source": [
    "### Tuning"
   ]
  },
  {
   "cell_type": "code",
   "execution_count": 37,
   "id": "14fca15b",
   "metadata": {},
   "outputs": [
    {
     "name": "stderr",
     "output_type": "stream",
     "text": [
      "[I 2023-11-09 20:55:01,823] A new study created in memory with name: no-name-169653f4-b68b-4f41-8db8-3a6beb715932\n",
      "feature_fraction, val_score: inf:   0%|                                                          | 0/7 [00:00<?, ?it/s]"
     ]
    },
    {
     "name": "stdout",
     "output_type": "stream",
     "text": [
      "Training until validation scores don't improve for 100 rounds\n",
      "[100]\tcv_agg's l2: 0.169515 + 0.0492299\n",
      "[200]\tcv_agg's l2: 0.165402 + 0.0447806\n"
     ]
    },
    {
     "name": "stderr",
     "output_type": "stream",
     "text": [
      "feature_fraction, val_score: 0.165094:  14%|######4                                      | 1/7 [00:01<00:11,  1.91s/it][I 2023-11-09 20:55:03,733] Trial 0 finished with value: 0.1650943659464813 and parameters: {'feature_fraction': 0.8}. Best is trial 0 with value: 0.1650943659464813.\n",
      "feature_fraction, val_score: 0.165094:  14%|######4                                      | 1/7 [00:01<00:11,  1.91s/it]"
     ]
    },
    {
     "name": "stdout",
     "output_type": "stream",
     "text": [
      "[300]\tcv_agg's l2: 0.165329 + 0.0437112\n",
      "Early stopping, best iteration is:\n",
      "[225]\tcv_agg's l2: 0.165094 + 0.0442879\n",
      "[100]\tcv_agg's l2: 0.159734 + 0.0370272\n",
      "[200]\tcv_agg's l2: 0.157451 + 0.0359185\n",
      "[300]\tcv_agg's l2: 0.15648 + 0.0345154\n",
      "[400]\tcv_agg's l2: 0.155771 + 0.0339543\n",
      "[500]\tcv_agg's l2: 0.155637 + 0.033652\n",
      "[600]\tcv_agg's l2: 0.155531 + 0.0333637\n"
     ]
    },
    {
     "name": "stderr",
     "output_type": "stream",
     "text": [
      "feature_fraction, val_score: 0.155512:  29%|############8                                | 2/7 [00:05<00:15,  3.17s/it][I 2023-11-09 20:55:07,793] Trial 1 finished with value: 0.15551164247579316 and parameters: {'feature_fraction': 0.7}. Best is trial 1 with value: 0.15551164247579316.\n",
      "feature_fraction, val_score: 0.155512:  29%|############8                                | 2/7 [00:05<00:15,  3.17s/it]"
     ]
    },
    {
     "name": "stdout",
     "output_type": "stream",
     "text": [
      "Early stopping, best iteration is:\n",
      "[547]\tcv_agg's l2: 0.155512 + 0.0334849\n",
      "[100]\tcv_agg's l2: 0.145455 + 0.0275924\n",
      "[200]\tcv_agg's l2: 0.142794 + 0.0270841\n",
      "[300]\tcv_agg's l2: 0.141382 + 0.0269302\n",
      "[400]\tcv_agg's l2: 0.141203 + 0.026856\n",
      "[500]\tcv_agg's l2: 0.140808 + 0.0266109\n",
      "[600]\tcv_agg's l2: 0.140672 + 0.0266882\n",
      "[700]\tcv_agg's l2: 0.140591 + 0.0266084\n",
      "[800]\tcv_agg's l2: 0.14045 + 0.0265713\n",
      "[900]\tcv_agg's l2: 0.14041 + 0.0264855\n",
      "[1000]\tcv_agg's l2: 0.140329 + 0.0264957\n",
      "[1100]\tcv_agg's l2: 0.140274 + 0.0264739\n",
      "[1200]\tcv_agg's l2: 0.140243 + 0.0264855\n",
      "[1300]\tcv_agg's l2: 0.140217 + 0.0265011\n",
      "[1400]\tcv_agg's l2: 0.140184 + 0.0265056\n",
      "[1500]\tcv_agg's l2: 0.140179 + 0.0265192\n",
      "[1600]\tcv_agg's l2: 0.140171 + 0.0265213\n",
      "[1700]\tcv_agg's l2: 0.140164 + 0.0265374\n"
     ]
    },
    {
     "name": "stderr",
     "output_type": "stream",
     "text": [
      "feature_fraction, val_score: 0.140157:  43%|###################2                         | 3/7 [00:16<00:26,  6.53s/it][I 2023-11-09 20:55:18,318] Trial 2 finished with value: 0.14015695325931782 and parameters: {'feature_fraction': 0.4}. Best is trial 2 with value: 0.14015695325931782.\n",
      "feature_fraction, val_score: 0.140157:  43%|###################2                         | 3/7 [00:16<00:26,  6.53s/it]"
     ]
    },
    {
     "name": "stdout",
     "output_type": "stream",
     "text": [
      "Early stopping, best iteration is:\n",
      "[1633]\tcv_agg's l2: 0.140157 + 0.0265161\n",
      "[100]\tcv_agg's l2: 0.147306 + 0.0387148\n",
      "[200]\tcv_agg's l2: 0.144658 + 0.038793\n",
      "[300]\tcv_agg's l2: 0.144182 + 0.0381445\n",
      "[400]\tcv_agg's l2: 0.14359 + 0.0378249\n",
      "[500]\tcv_agg's l2: 0.143443 + 0.037729\n",
      "[600]\tcv_agg's l2: 0.143288 + 0.0376232\n",
      "[700]\tcv_agg's l2: 0.143126 + 0.0374164\n",
      "[800]\tcv_agg's l2: 0.143088 + 0.0373784\n",
      "[900]\tcv_agg's l2: 0.143129 + 0.0373659\n",
      "[1000]\tcv_agg's l2: 0.143117 + 0.0373575\n",
      "[1100]\tcv_agg's l2: 0.143124 + 0.037366\n",
      "[1200]\tcv_agg's l2: 0.14313 + 0.0373389\n",
      "[1300]\tcv_agg's l2: 0.14311 + 0.0373229\n",
      "[1400]\tcv_agg's l2: 0.143132 + 0.0373332\n",
      "[1500]\tcv_agg's l2: 0.14313 + 0.0373087\n",
      "[1600]\tcv_agg's l2: 0.143133 + 0.0373163\n",
      "[1700]\tcv_agg's l2: 0.143155 + 0.0373185\n",
      "Early stopping, best iteration is:\n",
      "[1633]\tcv_agg's l2: 0.140157 + 0.0265161\n"
     ]
    },
    {
     "name": "stderr",
     "output_type": "stream",
     "text": [
      "feature_fraction, val_score: 0.140157:  57%|#########################7                   | 4/7 [00:29<00:27,  9.20s/it][I 2023-11-09 20:55:31,624] Trial 3 finished with value: 0.1431430538152556 and parameters: {'feature_fraction': 0.5}. Best is trial 2 with value: 0.14015695325931782.\n",
      "feature_fraction, val_score: 0.140157:  57%|#########################7                   | 4/7 [00:29<00:27,  9.20s/it]"
     ]
    },
    {
     "name": "stdout",
     "output_type": "stream",
     "text": [
      "[100]\tcv_agg's l2: 0.173097 + 0.0409737\n",
      "[200]\tcv_agg's l2: 0.169008 + 0.0385966\n",
      "[300]\tcv_agg's l2: 0.167673 + 0.0377288\n",
      "[400]\tcv_agg's l2: 0.167278 + 0.0375462\n",
      "[500]\tcv_agg's l2: 0.167268 + 0.0373202\n",
      "[600]\tcv_agg's l2: 0.167394 + 0.0372869\n",
      "[700]\tcv_agg's l2: 0.16736 + 0.0372481\n",
      "[800]\tcv_agg's l2: 0.167326 + 0.0372045\n",
      "[900]\tcv_agg's l2: 0.167395 + 0.0372059\n",
      "[1000]\tcv_agg's l2: 0.167431 + 0.0372172\n",
      "[1100]\tcv_agg's l2: 0.167429 + 0.0371871\n",
      "[1200]\tcv_agg's l2: 0.167389 + 0.0371269\n",
      "[1300]\tcv_agg's l2: 0.167389 + 0.0370953\n",
      "[1400]\tcv_agg's l2: 0.167396 + 0.037088\n",
      "[1500]\tcv_agg's l2: 0.167389 + 0.0370612\n",
      "[1600]\tcv_agg's l2: 0.16739 + 0.0370662\n",
      "[1700]\tcv_agg's l2: 0.167397 + 0.0370711\n",
      "Early stopping, best iteration is:\n",
      "[1633]\tcv_agg's l2: 0.140157 + 0.0265161\n"
     ]
    },
    {
     "name": "stderr",
     "output_type": "stream",
     "text": [
      "feature_fraction, val_score: 0.140157:  71%|################################1            | 5/7 [00:43<00:21, 10.70s/it][I 2023-11-09 20:55:44,983] Trial 4 finished with value: 0.1673939291778463 and parameters: {'feature_fraction': 1.0}. Best is trial 2 with value: 0.14015695325931782.\n",
      "feature_fraction, val_score: 0.140157:  71%|################################1            | 5/7 [00:43<00:21, 10.70s/it]"
     ]
    },
    {
     "name": "stdout",
     "output_type": "stream",
     "text": [
      "[100]\tcv_agg's l2: 0.157507 + 0.0369287\n",
      "[200]\tcv_agg's l2: 0.152981 + 0.0353241\n",
      "[300]\tcv_agg's l2: 0.151559 + 0.0343905\n",
      "[400]\tcv_agg's l2: 0.151006 + 0.0337403\n",
      "[500]\tcv_agg's l2: 0.150692 + 0.0334611\n",
      "[600]\tcv_agg's l2: 0.150528 + 0.0331037\n",
      "[700]\tcv_agg's l2: 0.150413 + 0.033057\n",
      "[800]\tcv_agg's l2: 0.150316 + 0.0328866\n",
      "[900]\tcv_agg's l2: 0.150342 + 0.032828\n",
      "[1000]\tcv_agg's l2: 0.150286 + 0.0328382\n",
      "[1100]\tcv_agg's l2: 0.1503 + 0.0328045\n",
      "[1200]\tcv_agg's l2: 0.150304 + 0.0328003\n",
      "[1300]\tcv_agg's l2: 0.150329 + 0.0328102\n",
      "[1400]\tcv_agg's l2: 0.150328 + 0.0328052\n",
      "[1500]\tcv_agg's l2: 0.150335 + 0.0327903\n",
      "[1600]\tcv_agg's l2: 0.150341 + 0.0327967\n",
      "[1700]\tcv_agg's l2: 0.150356 + 0.032798\n"
     ]
    },
    {
     "name": "stderr",
     "output_type": "stream",
     "text": [
      "feature_fraction, val_score: 0.140157:  86%|######################################5      | 6/7 [00:54<00:10, 10.88s/it][I 2023-11-09 20:55:56,215] Trial 5 finished with value: 0.1503439418064127 and parameters: {'feature_fraction': 0.6}. Best is trial 2 with value: 0.14015695325931782.\n",
      "feature_fraction, val_score: 0.140157:  86%|######################################5      | 6/7 [00:54<00:10, 10.88s/it]"
     ]
    },
    {
     "name": "stdout",
     "output_type": "stream",
     "text": [
      "Early stopping, best iteration is:\n",
      "[1633]\tcv_agg's l2: 0.140157 + 0.0265161\n",
      "[100]\tcv_agg's l2: 0.173738 + 0.0459502\n",
      "[200]\tcv_agg's l2: 0.170098 + 0.044718\n",
      "[300]\tcv_agg's l2: 0.169105 + 0.044108\n",
      "[400]\tcv_agg's l2: 0.168228 + 0.0437707\n",
      "[500]\tcv_agg's l2: 0.168099 + 0.0436623\n",
      "[600]\tcv_agg's l2: 0.168024 + 0.043369\n",
      "[700]\tcv_agg's l2: 0.167951 + 0.0431419\n",
      "[800]\tcv_agg's l2: 0.167773 + 0.0429654\n",
      "[900]\tcv_agg's l2: 0.16768 + 0.0428228\n",
      "[1000]\tcv_agg's l2: 0.167591 + 0.042757\n",
      "[1100]\tcv_agg's l2: 0.167557 + 0.0427185\n",
      "[1200]\tcv_agg's l2: 0.167505 + 0.0426435\n",
      "[1300]\tcv_agg's l2: 0.16748 + 0.0426389\n",
      "[1400]\tcv_agg's l2: 0.167468 + 0.042634\n",
      "[1500]\tcv_agg's l2: 0.167464 + 0.0426405\n",
      "[1600]\tcv_agg's l2: 0.167454 + 0.042634\n",
      "[1700]\tcv_agg's l2: 0.167462 + 0.0426332\n"
     ]
    },
    {
     "name": "stderr",
     "output_type": "stream",
     "text": [
      "feature_fraction, val_score: 0.140157: 100%|#############################################| 7/7 [01:07<00:00, 11.55s/it][I 2023-11-09 20:56:09,129] Trial 6 finished with value: 0.16745790913139066 and parameters: {'feature_fraction': 0.8999999999999999}. Best is trial 2 with value: 0.14015695325931782.\n",
      "feature_fraction, val_score: 0.140157: 100%|#############################################| 7/7 [01:07<00:00,  9.61s/it]\n"
     ]
    },
    {
     "name": "stdout",
     "output_type": "stream",
     "text": [
      "Early stopping, best iteration is:\n",
      "[1633]\tcv_agg's l2: 0.140157 + 0.0265161\n"
     ]
    },
    {
     "name": "stderr",
     "output_type": "stream",
     "text": [
      "num_leaves, val_score: 0.140157:   0%|                                                          | 0/20 [00:00<?, ?it/s]"
     ]
    },
    {
     "name": "stdout",
     "output_type": "stream",
     "text": [
      "[100]\tcv_agg's l2: 0.145455 + 0.0275924\n",
      "[200]\tcv_agg's l2: 0.142794 + 0.0270841\n",
      "[300]\tcv_agg's l2: 0.141382 + 0.0269302\n",
      "[400]\tcv_agg's l2: 0.141203 + 0.026856\n",
      "[500]\tcv_agg's l2: 0.140808 + 0.0266109\n",
      "[600]\tcv_agg's l2: 0.140672 + 0.0266882\n",
      "[700]\tcv_agg's l2: 0.140591 + 0.0266084\n",
      "[800]\tcv_agg's l2: 0.14045 + 0.0265713\n",
      "[900]\tcv_agg's l2: 0.14041 + 0.0264855\n",
      "[1000]\tcv_agg's l2: 0.140329 + 0.0264957\n",
      "[1100]\tcv_agg's l2: 0.140273 + 0.0264746\n",
      "[1200]\tcv_agg's l2: 0.140241 + 0.0264872\n",
      "[1300]\tcv_agg's l2: 0.140217 + 0.0265011\n",
      "[1400]\tcv_agg's l2: 0.140188 + 0.0265016\n",
      "[1500]\tcv_agg's l2: 0.140187 + 0.0265119\n",
      "[1600]\tcv_agg's l2: 0.140185 + 0.0265079\n",
      "[1700]\tcv_agg's l2: 0.140178 + 0.0265253\n",
      "Early stopping, best iteration is:\n",
      "[1633]\tcv_agg's l2: 0.140157 + 0.0265161\n"
     ]
    },
    {
     "name": "stderr",
     "output_type": "stream",
     "text": [
      "num_leaves, val_score: 0.140157:   5%|##5                                               | 1/20 [00:11<03:47, 12.00s/it][I 2023-11-09 20:56:21,133] Trial 7 finished with value: 0.14017116001993238 and parameters: {'num_leaves': 45}. Best is trial 7 with value: 0.14017116001993238.\n",
      "num_leaves, val_score: 0.140157:   5%|##5                                               | 1/20 [00:11<03:47, 12.00s/it]"
     ]
    },
    {
     "name": "stdout",
     "output_type": "stream",
     "text": [
      "[100]\tcv_agg's l2: 0.145455 + 0.0275924\n",
      "[200]\tcv_agg's l2: 0.142794 + 0.0270841\n",
      "[300]\tcv_agg's l2: 0.141382 + 0.0269302\n",
      "[400]\tcv_agg's l2: 0.141203 + 0.026856\n",
      "[500]\tcv_agg's l2: 0.140808 + 0.0266109\n",
      "[600]\tcv_agg's l2: 0.140672 + 0.0266882\n",
      "[700]\tcv_agg's l2: 0.140591 + 0.0266084\n",
      "[800]\tcv_agg's l2: 0.14045 + 0.0265713\n",
      "[900]\tcv_agg's l2: 0.14041 + 0.0264855\n",
      "[1000]\tcv_agg's l2: 0.140329 + 0.0264957\n",
      "[1100]\tcv_agg's l2: 0.140273 + 0.0264746\n",
      "[1200]\tcv_agg's l2: 0.140241 + 0.0264872\n",
      "[1300]\tcv_agg's l2: 0.140217 + 0.0265011\n",
      "[1400]\tcv_agg's l2: 0.140188 + 0.0265016\n",
      "[1500]\tcv_agg's l2: 0.140187 + 0.0265119\n",
      "[1600]\tcv_agg's l2: 0.140185 + 0.0265079\n",
      "[1700]\tcv_agg's l2: 0.140178 + 0.0265253\n"
     ]
    },
    {
     "name": "stderr",
     "output_type": "stream",
     "text": [
      "num_leaves, val_score: 0.140157:  10%|#####                                             | 2/20 [00:25<03:50, 12.80s/it][I 2023-11-09 20:56:34,498] Trial 8 finished with value: 0.14017116001993238 and parameters: {'num_leaves': 157}. Best is trial 7 with value: 0.14017116001993238.\n",
      "num_leaves, val_score: 0.140157:  10%|#####                                             | 2/20 [00:25<03:50, 12.80s/it]"
     ]
    },
    {
     "name": "stdout",
     "output_type": "stream",
     "text": [
      "Early stopping, best iteration is:\n",
      "[1633]\tcv_agg's l2: 0.140157 + 0.0265161\n",
      "[100]\tcv_agg's l2: 0.145455 + 0.0275924\n",
      "[200]\tcv_agg's l2: 0.142794 + 0.0270841\n",
      "[300]\tcv_agg's l2: 0.141382 + 0.0269302\n",
      "[400]\tcv_agg's l2: 0.141203 + 0.026856\n",
      "[500]\tcv_agg's l2: 0.140808 + 0.0266109\n",
      "[600]\tcv_agg's l2: 0.140672 + 0.0266882\n",
      "[700]\tcv_agg's l2: 0.140591 + 0.0266084\n",
      "[800]\tcv_agg's l2: 0.14045 + 0.0265713\n",
      "[900]\tcv_agg's l2: 0.14041 + 0.0264855\n",
      "[1000]\tcv_agg's l2: 0.140329 + 0.0264957\n",
      "[1100]\tcv_agg's l2: 0.140273 + 0.0264746\n",
      "[1200]\tcv_agg's l2: 0.140241 + 0.0264872\n",
      "[1300]\tcv_agg's l2: 0.140217 + 0.0265011\n",
      "[1400]\tcv_agg's l2: 0.140188 + 0.0265016\n",
      "[1500]\tcv_agg's l2: 0.140187 + 0.0265119\n",
      "[1600]\tcv_agg's l2: 0.140185 + 0.0265079\n",
      "[1700]\tcv_agg's l2: 0.140178 + 0.0265253\n"
     ]
    },
    {
     "name": "stderr",
     "output_type": "stream",
     "text": [
      "num_leaves, val_score: 0.140157:  15%|#######5                                          | 3/20 [00:37<03:31, 12.45s/it][I 2023-11-09 20:56:46,534] Trial 9 finished with value: 0.14017116001993238 and parameters: {'num_leaves': 220}. Best is trial 7 with value: 0.14017116001993238.\n",
      "num_leaves, val_score: 0.140157:  15%|#######5                                          | 3/20 [00:37<03:31, 12.45s/it]"
     ]
    },
    {
     "name": "stdout",
     "output_type": "stream",
     "text": [
      "Early stopping, best iteration is:\n",
      "[1633]\tcv_agg's l2: 0.140157 + 0.0265161\n",
      "[100]\tcv_agg's l2: 0.145455 + 0.0275924\n",
      "[200]\tcv_agg's l2: 0.142794 + 0.0270841\n",
      "[300]\tcv_agg's l2: 0.141382 + 0.0269302\n",
      "[400]\tcv_agg's l2: 0.141203 + 0.026856\n",
      "[500]\tcv_agg's l2: 0.140808 + 0.0266109\n",
      "[600]\tcv_agg's l2: 0.140672 + 0.0266882\n",
      "[700]\tcv_agg's l2: 0.140591 + 0.0266084\n",
      "[800]\tcv_agg's l2: 0.14045 + 0.0265713\n",
      "[900]\tcv_agg's l2: 0.14041 + 0.0264855\n",
      "[1000]\tcv_agg's l2: 0.140329 + 0.0264957\n",
      "[1100]\tcv_agg's l2: 0.140273 + 0.0264746\n",
      "[1200]\tcv_agg's l2: 0.140241 + 0.0264872\n",
      "[1300]\tcv_agg's l2: 0.140217 + 0.0265011\n",
      "[1400]\tcv_agg's l2: 0.140188 + 0.0265016\n",
      "[1500]\tcv_agg's l2: 0.140187 + 0.0265119\n",
      "[1600]\tcv_agg's l2: 0.140185 + 0.0265079\n",
      "[1700]\tcv_agg's l2: 0.140178 + 0.0265253\n"
     ]
    },
    {
     "name": "stderr",
     "output_type": "stream",
     "text": [
      "num_leaves, val_score: 0.140157:  20%|##########                                        | 4/20 [00:53<03:42, 13.93s/it][I 2023-11-09 20:57:02,727] Trial 10 finished with value: 0.14017116001993238 and parameters: {'num_leaves': 32}. Best is trial 7 with value: 0.14017116001993238.\n",
      "num_leaves, val_score: 0.140157:  20%|##########                                        | 4/20 [00:53<03:42, 13.93s/it]"
     ]
    },
    {
     "name": "stdout",
     "output_type": "stream",
     "text": [
      "Early stopping, best iteration is:\n",
      "[1633]\tcv_agg's l2: 0.140157 + 0.0265161\n",
      "[100]\tcv_agg's l2: 0.145761 + 0.0305625\n",
      "[200]\tcv_agg's l2: 0.141154 + 0.0296949\n",
      "[300]\tcv_agg's l2: 0.140377 + 0.0288054\n",
      "[400]\tcv_agg's l2: 0.13925 + 0.028792\n",
      "[500]\tcv_agg's l2: 0.138844 + 0.0284532\n",
      "[600]\tcv_agg's l2: 0.138625 + 0.0281051\n",
      "[700]\tcv_agg's l2: 0.138585 + 0.0279351\n"
     ]
    },
    {
     "name": "stderr",
     "output_type": "stream",
     "text": [
      "num_leaves, val_score: 0.138475:  25%|############5                                     | 5/20 [00:58<02:38, 10.57s/it][I 2023-11-09 20:57:07,352] Trial 11 finished with value: 0.13847459417554292 and parameters: {'num_leaves': 13}. Best is trial 11 with value: 0.13847459417554292.\n",
      "num_leaves, val_score: 0.138475:  25%|############5                                     | 5/20 [00:58<02:38, 10.57s/it]"
     ]
    },
    {
     "name": "stdout",
     "output_type": "stream",
     "text": [
      "[800]\tcv_agg's l2: 0.138557 + 0.027803\n",
      "Early stopping, best iteration is:\n",
      "[730]\tcv_agg's l2: 0.138475 + 0.0279588\n",
      "[100]\tcv_agg's l2: 0.210876 + 0.054475\n",
      "[200]\tcv_agg's l2: 0.187903 + 0.0540914\n",
      "[300]\tcv_agg's l2: 0.175145 + 0.0505239\n",
      "[400]\tcv_agg's l2: 0.170649 + 0.0483571\n",
      "[500]\tcv_agg's l2: 0.167903 + 0.0462654\n",
      "[600]\tcv_agg's l2: 0.164798 + 0.0450096\n",
      "[700]\tcv_agg's l2: 0.163101 + 0.0430478\n"
     ]
    },
    {
     "name": "stderr",
     "output_type": "stream",
     "text": [
      "num_leaves, val_score: 0.138475:  30%|###############                                   | 6/20 [01:00<01:48,  7.77s/it][I 2023-11-09 20:57:09,665] Trial 12 finished with value: 0.1628003587629075 and parameters: {'num_leaves': 4}. Best is trial 11 with value: 0.13847459417554292.\n",
      "num_leaves, val_score: 0.138475:  30%|###############                                   | 6/20 [01:00<01:48,  7.77s/it]"
     ]
    },
    {
     "name": "stdout",
     "output_type": "stream",
     "text": [
      "[800]\tcv_agg's l2: 0.161607 + 0.0419095\n",
      "Early stopping, best iteration is:\n",
      "[730]\tcv_agg's l2: 0.138475 + 0.0279588\n",
      "[100]\tcv_agg's l2: 0.145455 + 0.0275924\n",
      "[200]\tcv_agg's l2: 0.142794 + 0.0270841\n",
      "[300]\tcv_agg's l2: 0.141382 + 0.0269302\n",
      "[400]\tcv_agg's l2: 0.141203 + 0.026856\n",
      "[500]\tcv_agg's l2: 0.140808 + 0.0266109\n",
      "[600]\tcv_agg's l2: 0.140672 + 0.0266882\n",
      "[700]\tcv_agg's l2: 0.140591 + 0.0266084\n",
      "[800]\tcv_agg's l2: 0.14045 + 0.0265713\n"
     ]
    },
    {
     "name": "stderr",
     "output_type": "stream",
     "text": [
      "num_leaves, val_score: 0.138475:  35%|#################5                                | 7/20 [01:06<01:35,  7.34s/it][I 2023-11-09 20:57:16,117] Trial 13 finished with value: 0.14051687321547693 and parameters: {'num_leaves': 106}. Best is trial 11 with value: 0.13847459417554292.\n",
      "num_leaves, val_score: 0.138475:  35%|#################5                                | 7/20 [01:06<01:35,  7.34s/it]"
     ]
    },
    {
     "name": "stdout",
     "output_type": "stream",
     "text": [
      "Early stopping, best iteration is:\n",
      "[730]\tcv_agg's l2: 0.138475 + 0.0279588\n",
      "[100]\tcv_agg's l2: 0.145455 + 0.0275924\n",
      "[200]\tcv_agg's l2: 0.142794 + 0.0270841\n",
      "[300]\tcv_agg's l2: 0.141382 + 0.0269302\n",
      "[400]\tcv_agg's l2: 0.141203 + 0.026856\n",
      "[500]\tcv_agg's l2: 0.140808 + 0.0266109\n",
      "[600]\tcv_agg's l2: 0.140672 + 0.0266882\n",
      "[700]\tcv_agg's l2: 0.140591 + 0.0266084\n",
      "[800]\tcv_agg's l2: 0.14045 + 0.0265713\n"
     ]
    },
    {
     "name": "stderr",
     "output_type": "stream",
     "text": [
      "num_leaves, val_score: 0.138475:  40%|####################                              | 8/20 [01:13<01:25,  7.15s/it][I 2023-11-09 20:57:22,878] Trial 14 finished with value: 0.14051687321547693 and parameters: {'num_leaves': 100}. Best is trial 11 with value: 0.13847459417554292.\n",
      "num_leaves, val_score: 0.138475:  40%|####################                              | 8/20 [01:13<01:25,  7.15s/it]"
     ]
    },
    {
     "name": "stdout",
     "output_type": "stream",
     "text": [
      "Early stopping, best iteration is:\n",
      "[730]\tcv_agg's l2: 0.138475 + 0.0279588\n",
      "[100]\tcv_agg's l2: 0.145455 + 0.0275924\n",
      "[200]\tcv_agg's l2: 0.142794 + 0.0270841\n",
      "[300]\tcv_agg's l2: 0.141382 + 0.0269302\n",
      "[400]\tcv_agg's l2: 0.141203 + 0.026856\n",
      "[500]\tcv_agg's l2: 0.140808 + 0.0266109\n",
      "[600]\tcv_agg's l2: 0.140672 + 0.0266882\n",
      "[700]\tcv_agg's l2: 0.140591 + 0.0266084\n",
      "[800]\tcv_agg's l2: 0.14045 + 0.0265713\n"
     ]
    },
    {
     "name": "stderr",
     "output_type": "stream",
     "text": [
      "num_leaves, val_score: 0.138475:  45%|######################5                           | 9/20 [01:21<01:19,  7.21s/it][I 2023-11-09 20:57:30,199] Trial 15 finished with value: 0.14051687321547693 and parameters: {'num_leaves': 239}. Best is trial 11 with value: 0.13847459417554292.\n",
      "num_leaves, val_score: 0.138475:  45%|######################5                           | 9/20 [01:21<01:19,  7.21s/it]"
     ]
    },
    {
     "name": "stdout",
     "output_type": "stream",
     "text": [
      "Early stopping, best iteration is:\n",
      "[730]\tcv_agg's l2: 0.138475 + 0.0279588\n",
      "[100]\tcv_agg's l2: 0.145455 + 0.0275924\n",
      "[200]\tcv_agg's l2: 0.142794 + 0.0270841\n",
      "[300]\tcv_agg's l2: 0.141382 + 0.0269302\n",
      "[400]\tcv_agg's l2: 0.141203 + 0.026856\n",
      "[500]\tcv_agg's l2: 0.140808 + 0.0266109\n",
      "[600]\tcv_agg's l2: 0.140672 + 0.0266882\n",
      "[700]\tcv_agg's l2: 0.140591 + 0.0266084\n",
      "[800]\tcv_agg's l2: 0.14045 + 0.0265713\n"
     ]
    },
    {
     "name": "stderr",
     "output_type": "stream",
     "text": [
      "num_leaves, val_score: 0.138475:  50%|########################5                        | 10/20 [01:26<01:07,  6.79s/it][I 2023-11-09 20:57:36,064] Trial 16 finished with value: 0.14051687321547693 and parameters: {'num_leaves': 165}. Best is trial 11 with value: 0.13847459417554292.\n",
      "num_leaves, val_score: 0.138475:  50%|########################5                        | 10/20 [01:26<01:07,  6.79s/it]"
     ]
    },
    {
     "name": "stdout",
     "output_type": "stream",
     "text": [
      "Early stopping, best iteration is:\n",
      "[730]\tcv_agg's l2: 0.138475 + 0.0279588\n",
      "[100]\tcv_agg's l2: 0.145455 + 0.0275924\n",
      "[200]\tcv_agg's l2: 0.142794 + 0.0270841\n",
      "[300]\tcv_agg's l2: 0.141382 + 0.0269302\n",
      "[400]\tcv_agg's l2: 0.141203 + 0.026856\n",
      "[500]\tcv_agg's l2: 0.140808 + 0.0266109\n",
      "[600]\tcv_agg's l2: 0.140672 + 0.0266882\n",
      "[700]\tcv_agg's l2: 0.140591 + 0.0266084\n",
      "[800]\tcv_agg's l2: 0.14045 + 0.0265713\n",
      "Early stopping, best iteration is:\n",
      "[730]\tcv_agg's l2: 0.138475 + 0.0279588\n"
     ]
    },
    {
     "name": "stderr",
     "output_type": "stream",
     "text": [
      "num_leaves, val_score: 0.138475:  55%|##########################9                      | 11/20 [01:32<00:58,  6.45s/it][I 2023-11-09 20:57:41,743] Trial 17 finished with value: 0.14051687321547693 and parameters: {'num_leaves': 68}. Best is trial 11 with value: 0.13847459417554292.\n",
      "num_leaves, val_score: 0.138475:  55%|##########################9                      | 11/20 [01:32<00:58,  6.45s/it]"
     ]
    },
    {
     "name": "stdout",
     "output_type": "stream",
     "text": [
      "[100]\tcv_agg's l2: 0.246016 + 0.0512017\n",
      "[200]\tcv_agg's l2: 0.212157 + 0.0432642\n",
      "[300]\tcv_agg's l2: 0.196074 + 0.0400315\n",
      "[400]\tcv_agg's l2: 0.187026 + 0.037179\n",
      "[500]\tcv_agg's l2: 0.180159 + 0.0365284\n",
      "[600]\tcv_agg's l2: 0.176475 + 0.0353521\n",
      "[700]\tcv_agg's l2: 0.173288 + 0.0348211\n"
     ]
    },
    {
     "name": "stderr",
     "output_type": "stream",
     "text": [
      "num_leaves, val_score: 0.138475:  60%|#############################4                   | 12/20 [01:34<00:41,  5.13s/it][I 2023-11-09 20:57:43,842] Trial 18 finished with value: 0.17247334324265984 and parameters: {'num_leaves': 3}. Best is trial 11 with value: 0.13847459417554292.\n",
      "num_leaves, val_score: 0.138475:  60%|#############################4                   | 12/20 [01:34<00:41,  5.13s/it]"
     ]
    },
    {
     "name": "stdout",
     "output_type": "stream",
     "text": [
      "[800]\tcv_agg's l2: 0.171101 + 0.0335858\n",
      "Early stopping, best iteration is:\n",
      "[730]\tcv_agg's l2: 0.138475 + 0.0279588\n",
      "[100]\tcv_agg's l2: 0.145455 + 0.0275924\n",
      "[200]\tcv_agg's l2: 0.142794 + 0.0270841\n",
      "[300]\tcv_agg's l2: 0.141382 + 0.0269302\n",
      "[400]\tcv_agg's l2: 0.141203 + 0.026856\n",
      "[500]\tcv_agg's l2: 0.140808 + 0.0266109\n",
      "[600]\tcv_agg's l2: 0.140672 + 0.0266882\n",
      "[700]\tcv_agg's l2: 0.140591 + 0.0266084\n",
      "[800]\tcv_agg's l2: 0.14045 + 0.0265713\n"
     ]
    },
    {
     "name": "stderr",
     "output_type": "stream",
     "text": [
      "num_leaves, val_score: 0.138475:  65%|###############################8                 | 13/20 [01:41<00:38,  5.50s/it][I 2023-11-09 20:57:50,206] Trial 19 finished with value: 0.14051687321547693 and parameters: {'num_leaves': 190}. Best is trial 11 with value: 0.13847459417554292.\n",
      "num_leaves, val_score: 0.138475:  65%|###############################8                 | 13/20 [01:41<00:38,  5.50s/it]"
     ]
    },
    {
     "name": "stdout",
     "output_type": "stream",
     "text": [
      "Early stopping, best iteration is:\n",
      "[730]\tcv_agg's l2: 0.138475 + 0.0279588\n",
      "[100]\tcv_agg's l2: 0.145455 + 0.0275924\n",
      "[200]\tcv_agg's l2: 0.142794 + 0.0270841\n",
      "[300]\tcv_agg's l2: 0.141382 + 0.0269302\n",
      "[400]\tcv_agg's l2: 0.141203 + 0.026856\n",
      "[500]\tcv_agg's l2: 0.140808 + 0.0266109\n",
      "[600]\tcv_agg's l2: 0.140672 + 0.0266882\n",
      "[700]\tcv_agg's l2: 0.140591 + 0.0266084\n",
      "[800]\tcv_agg's l2: 0.14045 + 0.0265713\n",
      "Early stopping, best iteration is:\n",
      "[730]\tcv_agg's l2: 0.138475 + 0.0279588\n"
     ]
    },
    {
     "name": "stderr",
     "output_type": "stream",
     "text": [
      "num_leaves, val_score: 0.138475:  70%|##################################3              | 14/20 [01:47<00:34,  5.68s/it][I 2023-11-09 20:57:56,304] Trial 20 finished with value: 0.14051687321547693 and parameters: {'num_leaves': 81}. Best is trial 11 with value: 0.13847459417554292.\n",
      "num_leaves, val_score: 0.138475:  70%|##################################3              | 14/20 [01:47<00:34,  5.68s/it]"
     ]
    },
    {
     "name": "stdout",
     "output_type": "stream",
     "text": [
      "[100]\tcv_agg's l2: 0.145455 + 0.0275924\n",
      "[200]\tcv_agg's l2: 0.142794 + 0.0270841\n",
      "[300]\tcv_agg's l2: 0.141382 + 0.0269302\n",
      "[400]\tcv_agg's l2: 0.141203 + 0.026856\n",
      "[500]\tcv_agg's l2: 0.140808 + 0.0266109\n",
      "[600]\tcv_agg's l2: 0.140672 + 0.0266882\n",
      "[700]\tcv_agg's l2: 0.140591 + 0.0266084\n",
      "[800]\tcv_agg's l2: 0.14045 + 0.0265713\n"
     ]
    },
    {
     "name": "stderr",
     "output_type": "stream",
     "text": [
      "num_leaves, val_score: 0.138475:  75%|####################################7            | 15/20 [01:53<00:28,  5.75s/it][I 2023-11-09 20:58:02,200] Trial 21 finished with value: 0.14051687321547693 and parameters: {'num_leaves': 39}. Best is trial 11 with value: 0.13847459417554292.\n",
      "num_leaves, val_score: 0.138475:  75%|####################################7            | 15/20 [01:53<00:28,  5.75s/it]"
     ]
    },
    {
     "name": "stdout",
     "output_type": "stream",
     "text": [
      "Early stopping, best iteration is:\n",
      "[730]\tcv_agg's l2: 0.138475 + 0.0279588\n",
      "[100]\tcv_agg's l2: 0.145455 + 0.0275924\n",
      "[200]\tcv_agg's l2: 0.142794 + 0.0270841\n",
      "[300]\tcv_agg's l2: 0.141382 + 0.0269302\n",
      "[400]\tcv_agg's l2: 0.141203 + 0.026856\n",
      "[500]\tcv_agg's l2: 0.140808 + 0.0266109\n",
      "[600]\tcv_agg's l2: 0.140672 + 0.0266882\n",
      "[700]\tcv_agg's l2: 0.140591 + 0.0266084\n",
      "[800]\tcv_agg's l2: 0.14045 + 0.0265713\n"
     ]
    },
    {
     "name": "stderr",
     "output_type": "stream",
     "text": [
      "num_leaves, val_score: 0.138475:  80%|#######################################2         | 16/20 [01:58<00:22,  5.72s/it][I 2023-11-09 20:58:07,872] Trial 22 finished with value: 0.14051687321547693 and parameters: {'num_leaves': 48}. Best is trial 11 with value: 0.13847459417554292.\n",
      "num_leaves, val_score: 0.138475:  80%|#######################################2         | 16/20 [01:58<00:22,  5.72s/it]"
     ]
    },
    {
     "name": "stdout",
     "output_type": "stream",
     "text": [
      "Early stopping, best iteration is:\n",
      "[730]\tcv_agg's l2: 0.138475 + 0.0279588\n",
      "[100]\tcv_agg's l2: 0.145455 + 0.0275924\n",
      "[200]\tcv_agg's l2: 0.142794 + 0.0270841\n",
      "[300]\tcv_agg's l2: 0.141382 + 0.0269302\n",
      "[400]\tcv_agg's l2: 0.141203 + 0.026856\n",
      "[500]\tcv_agg's l2: 0.140808 + 0.0266109\n",
      "[600]\tcv_agg's l2: 0.140672 + 0.0266882\n",
      "[700]\tcv_agg's l2: 0.140591 + 0.0266084\n"
     ]
    },
    {
     "name": "stderr",
     "output_type": "stream",
     "text": [
      "\r",
      "num_leaves, val_score: 0.138475:  80%|#######################################2         | 16/20 [02:04<00:22,  5.72s/it]"
     ]
    },
    {
     "name": "stdout",
     "output_type": "stream",
     "text": [
      "[800]\tcv_agg's l2: 0.14045 + 0.0265713\n",
      "Early stopping, best iteration is:\n",
      "[730]\tcv_agg's l2: 0.138475 + 0.0279588\n"
     ]
    },
    {
     "name": "stderr",
     "output_type": "stream",
     "text": [
      "num_leaves, val_score: 0.138475:  85%|#########################################6       | 17/20 [02:04<00:16,  5.61s/it][I 2023-11-09 20:58:13,200] Trial 23 finished with value: 0.14051687321547693 and parameters: {'num_leaves': 131}. Best is trial 11 with value: 0.13847459417554292.\n",
      "num_leaves, val_score: 0.138475:  85%|#########################################6       | 17/20 [02:04<00:16,  5.61s/it]"
     ]
    },
    {
     "name": "stdout",
     "output_type": "stream",
     "text": [
      "[100]\tcv_agg's l2: 0.145455 + 0.0275924\n",
      "[200]\tcv_agg's l2: 0.142794 + 0.0270841\n",
      "[300]\tcv_agg's l2: 0.141382 + 0.0269302\n",
      "[400]\tcv_agg's l2: 0.141203 + 0.026856\n",
      "[500]\tcv_agg's l2: 0.140808 + 0.0266109\n",
      "[600]\tcv_agg's l2: 0.140672 + 0.0266882\n",
      "[700]\tcv_agg's l2: 0.140591 + 0.0266084\n",
      "[800]\tcv_agg's l2: 0.14045 + 0.0265713\n"
     ]
    },
    {
     "name": "stderr",
     "output_type": "stream",
     "text": [
      "num_leaves, val_score: 0.138475:  90%|############################################1    | 18/20 [02:11<00:12,  6.15s/it][I 2023-11-09 20:58:20,629] Trial 24 finished with value: 0.14051687321547693 and parameters: {'num_leaves': 61}. Best is trial 11 with value: 0.13847459417554292.\n",
      "num_leaves, val_score: 0.138475:  90%|############################################1    | 18/20 [02:11<00:12,  6.15s/it]"
     ]
    },
    {
     "name": "stdout",
     "output_type": "stream",
     "text": [
      "Early stopping, best iteration is:\n",
      "[730]\tcv_agg's l2: 0.138475 + 0.0279588\n",
      "[100]\tcv_agg's l2: 0.145094 + 0.0247873\n",
      "[200]\tcv_agg's l2: 0.141908 + 0.0247366\n",
      "[300]\tcv_agg's l2: 0.141169 + 0.0244367\n",
      "[400]\tcv_agg's l2: 0.141082 + 0.0243378\n",
      "[500]\tcv_agg's l2: 0.141015 + 0.0244693\n",
      "[600]\tcv_agg's l2: 0.140877 + 0.0245308\n",
      "[700]\tcv_agg's l2: 0.140794 + 0.0245948\n",
      "[800]\tcv_agg's l2: 0.140654 + 0.0245899\n",
      "Early stopping, best iteration is:\n",
      "[730]\tcv_agg's l2: 0.138475 + 0.0279588\n"
     ]
    },
    {
     "name": "stderr",
     "output_type": "stream",
     "text": [
      "num_leaves, val_score: 0.138475:  95%|##############################################5  | 19/20 [02:17<00:06,  6.05s/it][I 2023-11-09 20:58:26,423] Trial 25 finished with value: 0.1407224074823433 and parameters: {'num_leaves': 28}. Best is trial 11 with value: 0.13847459417554292.\n",
      "num_leaves, val_score: 0.138475:  95%|##############################################5  | 19/20 [02:17<00:06,  6.05s/it]"
     ]
    },
    {
     "name": "stdout",
     "output_type": "stream",
     "text": [
      "[100]\tcv_agg's l2: 0.145455 + 0.0275924\n",
      "[200]\tcv_agg's l2: 0.142794 + 0.0270841\n",
      "[300]\tcv_agg's l2: 0.141382 + 0.0269302\n",
      "[400]\tcv_agg's l2: 0.141203 + 0.026856\n",
      "[500]\tcv_agg's l2: 0.140808 + 0.0266109\n",
      "[600]\tcv_agg's l2: 0.140672 + 0.0266882\n",
      "[700]\tcv_agg's l2: 0.140591 + 0.0266084\n",
      "[800]\tcv_agg's l2: 0.14045 + 0.0265713\n",
      "Early stopping, best iteration is:\n",
      "[730]\tcv_agg's l2: 0.138475 + 0.0279588\n"
     ]
    },
    {
     "name": "stderr",
     "output_type": "stream",
     "text": [
      "num_leaves, val_score: 0.138475: 100%|#################################################| 20/20 [02:23<00:00,  5.96s/it][I 2023-11-09 20:58:32,195] Trial 26 finished with value: 0.14051687321547693 and parameters: {'num_leaves': 94}. Best is trial 11 with value: 0.13847459417554292.\n",
      "num_leaves, val_score: 0.138475: 100%|#################################################| 20/20 [02:23<00:00,  7.15s/it]\n",
      "bagging, val_score: 0.138475:   0%|                                                             | 0/10 [00:00<?, ?it/s]"
     ]
    },
    {
     "name": "stdout",
     "output_type": "stream",
     "text": [
      "[100]\tcv_agg's l2: 0.171085 + 0.0257379\n",
      "[200]\tcv_agg's l2: 0.163345 + 0.0252202\n",
      "[300]\tcv_agg's l2: 0.159739 + 0.0209135\n",
      "[400]\tcv_agg's l2: 0.156343 + 0.019624\n",
      "[500]\tcv_agg's l2: 0.157113 + 0.0192623\n",
      "[600]\tcv_agg's l2: 0.155203 + 0.0190747\n",
      "[700]\tcv_agg's l2: 0.154947 + 0.0191372\n"
     ]
    },
    {
     "name": "stderr",
     "output_type": "stream",
     "text": [
      "bagging, val_score: 0.138475:  10%|#####3                                               | 1/10 [00:03<00:34,  3.87s/it][I 2023-11-09 20:58:36,073] Trial 27 finished with value: 0.15476185253615213 and parameters: {'bagging_fraction': 0.6160875973636223, 'bagging_freq': 7}. Best is trial 27 with value: 0.15476185253615213.\n",
      "bagging, val_score: 0.138475:  10%|#####3                                               | 1/10 [00:03<00:34,  3.87s/it]"
     ]
    },
    {
     "name": "stdout",
     "output_type": "stream",
     "text": [
      "[800]\tcv_agg's l2: 0.154633 + 0.0196971\n",
      "Early stopping, best iteration is:\n",
      "[730]\tcv_agg's l2: 0.138475 + 0.0279588\n",
      "[100]\tcv_agg's l2: 0.144159 + 0.035459\n",
      "[200]\tcv_agg's l2: 0.138727 + 0.0329252\n",
      "[300]\tcv_agg's l2: 0.136822 + 0.0334194\n"
     ]
    },
    {
     "name": "stderr",
     "output_type": "stream",
     "text": [
      "bagging, val_score: 0.136585:  20%|##########6                                          | 2/10 [00:05<00:21,  2.73s/it][I 2023-11-09 20:58:38,002] Trial 28 finished with value: 0.13658538442378654 and parameters: {'bagging_fraction': 0.9768880970664675, 'bagging_freq': 1}. Best is trial 28 with value: 0.13658538442378654.\n",
      "bagging, val_score: 0.136585:  20%|##########6                                          | 2/10 [00:05<00:21,  2.73s/it]"
     ]
    },
    {
     "name": "stdout",
     "output_type": "stream",
     "text": [
      "[400]\tcv_agg's l2: 0.136825 + 0.0329389\n",
      "Early stopping, best iteration is:\n",
      "[317]\tcv_agg's l2: 0.136585 + 0.0333627\n",
      "[100]\tcv_agg's l2: 0.148123 + 0.0313514\n",
      "[200]\tcv_agg's l2: 0.143892 + 0.0302308\n",
      "[300]\tcv_agg's l2: 0.141989 + 0.030004\n"
     ]
    },
    {
     "name": "stderr",
     "output_type": "stream",
     "text": [
      "bagging, val_score: 0.136585:  30%|###############9                                     | 3/10 [00:07<00:16,  2.38s/it][I 2023-11-09 20:58:39,974] Trial 29 finished with value: 0.1421760005159312 and parameters: {'bagging_fraction': 0.9965326713695161, 'bagging_freq': 1}. Best is trial 28 with value: 0.13658538442378654.\n",
      "bagging, val_score: 0.136585:  30%|###############9                                     | 3/10 [00:07<00:16,  2.38s/it]"
     ]
    },
    {
     "name": "stdout",
     "output_type": "stream",
     "text": [
      "[400]\tcv_agg's l2: 0.14122 + 0.029949\n",
      "Early stopping, best iteration is:\n",
      "[317]\tcv_agg's l2: 0.136585 + 0.0333627\n",
      "[100]\tcv_agg's l2: 0.14901 + 0.0352049\n",
      "[200]\tcv_agg's l2: 0.143671 + 0.0318607\n",
      "[300]\tcv_agg's l2: 0.142005 + 0.0312605\n"
     ]
    },
    {
     "name": "stderr",
     "output_type": "stream",
     "text": [
      "bagging, val_score: 0.136585:  40%|#####################2                               | 4/10 [00:09<00:13,  2.31s/it][I 2023-11-09 20:58:42,172] Trial 30 finished with value: 0.1418589512597576 and parameters: {'bagging_fraction': 0.9632462360687191, 'bagging_freq': 1}. Best is trial 28 with value: 0.13658538442378654.\n",
      "bagging, val_score: 0.136585:  40%|#####################2                               | 4/10 [00:09<00:13,  2.31s/it]"
     ]
    },
    {
     "name": "stdout",
     "output_type": "stream",
     "text": [
      "[400]\tcv_agg's l2: 0.141272 + 0.0314962\n",
      "Early stopping, best iteration is:\n",
      "[317]\tcv_agg's l2: 0.136585 + 0.0333627\n",
      "[100]\tcv_agg's l2: 0.211981 + 0.0264968\n",
      "[200]\tcv_agg's l2: 0.204472 + 0.0205901\n",
      "[300]\tcv_agg's l2: 0.200892 + 0.0153329\n"
     ]
    },
    {
     "name": "stderr",
     "output_type": "stream",
     "text": [
      "bagging, val_score: 0.136585:  50%|##########################5                          | 5/10 [00:11<00:10,  2.06s/it][I 2023-11-09 20:58:43,780] Trial 31 finished with value: 0.2016879436696198 and parameters: {'bagging_fraction': 0.4002716989179818, 'bagging_freq': 4}. Best is trial 28 with value: 0.13658538442378654.\n",
      "bagging, val_score: 0.136585:  50%|##########################5                          | 5/10 [00:11<00:10,  2.06s/it]"
     ]
    },
    {
     "name": "stdout",
     "output_type": "stream",
     "text": [
      "[400]\tcv_agg's l2: 0.197877 + 0.0140883\n",
      "Early stopping, best iteration is:\n",
      "[317]\tcv_agg's l2: 0.136585 + 0.0333627\n",
      "[100]\tcv_agg's l2: 0.158032 + 0.0297643\n",
      "[200]\tcv_agg's l2: 0.150723 + 0.0295177\n",
      "[300]\tcv_agg's l2: 0.148474 + 0.0294852\n"
     ]
    },
    {
     "name": "stderr",
     "output_type": "stream",
     "text": [
      "bagging, val_score: 0.136585:  60%|###############################8                     | 6/10 [00:13<00:08,  2.09s/it][I 2023-11-09 20:58:45,924] Trial 32 finished with value: 0.14819902612480898 and parameters: {'bagging_fraction': 0.7999954382021481, 'bagging_freq': 3}. Best is trial 28 with value: 0.13658538442378654.\n",
      "bagging, val_score: 0.136585:  60%|###############################8                     | 6/10 [00:13<00:08,  2.09s/it]"
     ]
    },
    {
     "name": "stdout",
     "output_type": "stream",
     "text": [
      "[400]\tcv_agg's l2: 0.146956 + 0.0286569\n",
      "Early stopping, best iteration is:\n",
      "[317]\tcv_agg's l2: 0.136585 + 0.0333627\n",
      "[100]\tcv_agg's l2: 0.155625 + 0.0319049\n",
      "[200]\tcv_agg's l2: 0.14741 + 0.029578\n",
      "[300]\tcv_agg's l2: 0.145835 + 0.0289565\n"
     ]
    },
    {
     "name": "stderr",
     "output_type": "stream",
     "text": [
      "bagging, val_score: 0.136585:  70%|#####################################                | 7/10 [00:15<00:06,  2.10s/it][I 2023-11-09 20:58:48,060] Trial 33 finished with value: 0.1455509517279053 and parameters: {'bagging_fraction': 0.7897976010290308, 'bagging_freq': 7}. Best is trial 28 with value: 0.13658538442378654.\n",
      "bagging, val_score: 0.136585:  70%|#####################################                | 7/10 [00:15<00:06,  2.10s/it]"
     ]
    },
    {
     "name": "stdout",
     "output_type": "stream",
     "text": [
      "[400]\tcv_agg's l2: 0.145443 + 0.0289336\n",
      "Early stopping, best iteration is:\n",
      "[317]\tcv_agg's l2: 0.136585 + 0.0333627\n",
      "[100]\tcv_agg's l2: 0.153507 + 0.0336038\n",
      "[200]\tcv_agg's l2: 0.148709 + 0.0340207\n",
      "[300]\tcv_agg's l2: 0.146414 + 0.0322414\n"
     ]
    },
    {
     "name": "stderr",
     "output_type": "stream",
     "text": [
      "bagging, val_score: 0.136585:  80%|##########################################4          | 8/10 [00:18<00:04,  2.13s/it][I 2023-11-09 20:58:50,254] Trial 34 finished with value: 0.14648038503407962 and parameters: {'bagging_fraction': 0.9038173897453495, 'bagging_freq': 3}. Best is trial 28 with value: 0.13658538442378654.\n",
      "bagging, val_score: 0.136585:  80%|##########################################4          | 8/10 [00:18<00:04,  2.13s/it]"
     ]
    },
    {
     "name": "stdout",
     "output_type": "stream",
     "text": [
      "[400]\tcv_agg's l2: 0.145838 + 0.0318988\n",
      "Early stopping, best iteration is:\n",
      "[317]\tcv_agg's l2: 0.136585 + 0.0333627\n",
      "[100]\tcv_agg's l2: 0.161942 + 0.0283598\n",
      "[200]\tcv_agg's l2: 0.153135 + 0.0272305\n",
      "[300]\tcv_agg's l2: 0.150852 + 0.0274247\n"
     ]
    },
    {
     "name": "stderr",
     "output_type": "stream",
     "text": [
      "bagging, val_score: 0.136585:  90%|###############################################7     | 9/10 [00:20<00:02,  2.15s/it][I 2023-11-09 20:58:52,442] Trial 35 finished with value: 0.15105792920261565 and parameters: {'bagging_fraction': 0.6682089388144831, 'bagging_freq': 5}. Best is trial 28 with value: 0.13658538442378654.\n",
      "bagging, val_score: 0.136585:  90%|###############################################7     | 9/10 [00:20<00:02,  2.15s/it]"
     ]
    },
    {
     "name": "stdout",
     "output_type": "stream",
     "text": [
      "[400]\tcv_agg's l2: 0.149801 + 0.0260204\n",
      "Early stopping, best iteration is:\n",
      "[317]\tcv_agg's l2: 0.136585 + 0.0333627\n",
      "[100]\tcv_agg's l2: 0.154503 + 0.0352418\n",
      "[200]\tcv_agg's l2: 0.149268 + 0.033681\n",
      "[300]\tcv_agg's l2: 0.14648 + 0.0329423\n"
     ]
    },
    {
     "name": "stderr",
     "output_type": "stream",
     "text": [
      "bagging, val_score: 0.136585: 100%|####################################################| 10/10 [00:22<00:00,  2.13s/it][I 2023-11-09 20:58:54,515] Trial 36 finished with value: 0.14609802621539125 and parameters: {'bagging_fraction': 0.831484150072279, 'bagging_freq': 2}. Best is trial 28 with value: 0.13658538442378654.\n",
      "bagging, val_score: 0.136585: 100%|####################################################| 10/10 [00:22<00:00,  2.23s/it]\n"
     ]
    },
    {
     "name": "stdout",
     "output_type": "stream",
     "text": [
      "[400]\tcv_agg's l2: 0.145665 + 0.0327155\n",
      "Early stopping, best iteration is:\n",
      "[317]\tcv_agg's l2: 0.136585 + 0.0333627\n"
     ]
    },
    {
     "name": "stderr",
     "output_type": "stream",
     "text": [
      "feature_fraction_stage2, val_score: 0.136585:   0%|                                              | 0/3 [00:00<?, ?it/s]"
     ]
    },
    {
     "name": "stdout",
     "output_type": "stream",
     "text": [
      "[100]\tcv_agg's l2: 0.148095 + 0.0380479\n",
      "[200]\tcv_agg's l2: 0.144505 + 0.0371212\n",
      "[300]\tcv_agg's l2: 0.143192 + 0.0367894\n"
     ]
    },
    {
     "name": "stderr",
     "output_type": "stream",
     "text": [
      "feature_fraction_stage2, val_score: 0.136585:  33%|############6                         | 1/3 [00:01<00:03,  1.89s/it][I 2023-11-09 20:58:56,416] Trial 37 finished with value: 0.14331486569029644 and parameters: {'feature_fraction': 0.48000000000000004}. Best is trial 37 with value: 0.14331486569029644.\n",
      "feature_fraction_stage2, val_score: 0.136585:  33%|############6                         | 1/3 [00:01<00:03,  1.89s/it]"
     ]
    },
    {
     "name": "stdout",
     "output_type": "stream",
     "text": [
      "[400]\tcv_agg's l2: 0.143209 + 0.0369106\n",
      "Early stopping, best iteration is:\n",
      "[317]\tcv_agg's l2: 0.136585 + 0.0333627\n",
      "[100]\tcv_agg's l2: 0.141754 + 0.0339256\n",
      "[200]\tcv_agg's l2: 0.13845 + 0.0312306\n",
      "[300]\tcv_agg's l2: 0.137935 + 0.0301985\n"
     ]
    },
    {
     "name": "stderr",
     "output_type": "stream",
     "text": [
      "feature_fraction_stage2, val_score: 0.136585:  67%|#########################3            | 2/3 [00:03<00:01,  1.87s/it][I 2023-11-09 20:58:58,271] Trial 38 finished with value: 0.1376042072608561 and parameters: {'feature_fraction': 0.41600000000000004}. Best is trial 38 with value: 0.1376042072608561.\n",
      "feature_fraction_stage2, val_score: 0.136585:  67%|#########################3            | 2/3 [00:03<00:01,  1.87s/it]"
     ]
    },
    {
     "name": "stdout",
     "output_type": "stream",
     "text": [
      "[400]\tcv_agg's l2: 0.137747 + 0.0296259\n",
      "Early stopping, best iteration is:\n",
      "[317]\tcv_agg's l2: 0.136585 + 0.0333627\n",
      "[100]\tcv_agg's l2: 0.148972 + 0.0434202\n",
      "[200]\tcv_agg's l2: 0.14506 + 0.0411449\n",
      "[300]\tcv_agg's l2: 0.143021 + 0.0400701\n"
     ]
    },
    {
     "name": "stderr",
     "output_type": "stream",
     "text": [
      "feature_fraction_stage2, val_score: 0.136585: 100%|######################################| 3/3 [00:05<00:00,  1.86s/it][I 2023-11-09 20:59:00,119] Trial 39 finished with value: 0.14281237946366648 and parameters: {'feature_fraction': 0.44800000000000006}. Best is trial 38 with value: 0.1376042072608561.\n",
      "feature_fraction_stage2, val_score: 0.136585: 100%|######################################| 3/3 [00:05<00:00,  1.87s/it]\n"
     ]
    },
    {
     "name": "stdout",
     "output_type": "stream",
     "text": [
      "[400]\tcv_agg's l2: 0.142655 + 0.040076\n",
      "Early stopping, best iteration is:\n",
      "[317]\tcv_agg's l2: 0.136585 + 0.0333627\n"
     ]
    },
    {
     "name": "stderr",
     "output_type": "stream",
     "text": [
      "regularization_factors, val_score: 0.136585:   0%|                                              | 0/20 [00:00<?, ?it/s]"
     ]
    },
    {
     "name": "stdout",
     "output_type": "stream",
     "text": [
      "[100]\tcv_agg's l2: 0.14418 + 0.0354585\n",
      "[200]\tcv_agg's l2: 0.139468 + 0.0330071\n",
      "[300]\tcv_agg's l2: 0.137735 + 0.0335742\n"
     ]
    },
    {
     "name": "stderr",
     "output_type": "stream",
     "text": [
      "regularization_factors, val_score: 0.136585:   5%|#9                                    | 1/20 [00:01<00:36,  1.93s/it][I 2023-11-09 20:59:02,057] Trial 40 finished with value: 0.1376092565913464 and parameters: {'lambda_l1': 1.3942359612608087e-06, 'lambda_l2': 6.699608390032556e-07}. Best is trial 40 with value: 0.1376092565913464.\n",
      "regularization_factors, val_score: 0.136585:   5%|#9                                    | 1/20 [00:01<00:36,  1.93s/it]"
     ]
    },
    {
     "name": "stdout",
     "output_type": "stream",
     "text": [
      "[400]\tcv_agg's l2: 0.137936 + 0.0331563\n",
      "Early stopping, best iteration is:\n",
      "[317]\tcv_agg's l2: 0.136585 + 0.0333627\n",
      "[100]\tcv_agg's l2: 0.14418 + 0.0354585\n",
      "[200]\tcv_agg's l2: 0.139468 + 0.0330071\n",
      "[300]\tcv_agg's l2: 0.137735 + 0.0335742\n"
     ]
    },
    {
     "name": "stderr",
     "output_type": "stream",
     "text": [
      "regularization_factors, val_score: 0.136585:  10%|###8                                  | 2/20 [00:03<00:34,  1.90s/it][I 2023-11-09 20:59:03,943] Trial 41 finished with value: 0.1376092572952063 and parameters: {'lambda_l1': 4.24984877200054e-07, 'lambda_l2': 3.118391595522278e-07}. Best is trial 40 with value: 0.1376092565913464.\n",
      "regularization_factors, val_score: 0.136585:  10%|###8                                  | 2/20 [00:03<00:34,  1.90s/it]"
     ]
    },
    {
     "name": "stdout",
     "output_type": "stream",
     "text": [
      "[400]\tcv_agg's l2: 0.137936 + 0.0331563\n",
      "Early stopping, best iteration is:\n",
      "[317]\tcv_agg's l2: 0.136585 + 0.0333627\n",
      "[100]\tcv_agg's l2: 0.14418 + 0.0354585\n",
      "[200]\tcv_agg's l2: 0.139468 + 0.0330071\n",
      "[300]\tcv_agg's l2: 0.137735 + 0.0335742\n"
     ]
    },
    {
     "name": "stderr",
     "output_type": "stream",
     "text": [
      "regularization_factors, val_score: 0.136585:  15%|#####7                                | 3/20 [00:05<00:32,  1.90s/it][I 2023-11-09 20:59:05,835] Trial 42 finished with value: 0.13760925730094764 and parameters: {'lambda_l1': 4.6950355564761153e-07, 'lambda_l2': 4.4885237037026263e-07}. Best is trial 40 with value: 0.1376092565913464.\n",
      "regularization_factors, val_score: 0.136585:  15%|#####7                                | 3/20 [00:05<00:32,  1.90s/it]"
     ]
    },
    {
     "name": "stdout",
     "output_type": "stream",
     "text": [
      "[400]\tcv_agg's l2: 0.137936 + 0.0331563\n",
      "Early stopping, best iteration is:\n",
      "[317]\tcv_agg's l2: 0.136585 + 0.0333627\n",
      "[100]\tcv_agg's l2: 0.14418 + 0.0354585\n",
      "[200]\tcv_agg's l2: 0.139468 + 0.0330071\n",
      "[300]\tcv_agg's l2: 0.137735 + 0.0335742\n"
     ]
    },
    {
     "name": "stderr",
     "output_type": "stream",
     "text": [
      "regularization_factors, val_score: 0.136585:  20%|#######6                              | 4/20 [00:07<00:30,  1.90s/it][I 2023-11-09 20:59:07,744] Trial 43 finished with value: 0.13760925729026635 and parameters: {'lambda_l1': 4.936943132477062e-07, 'lambda_l2': 4.6092720549023113e-07}. Best is trial 40 with value: 0.1376092565913464.\n",
      "regularization_factors, val_score: 0.136585:  20%|#######6                              | 4/20 [00:07<00:30,  1.90s/it]"
     ]
    },
    {
     "name": "stdout",
     "output_type": "stream",
     "text": [
      "[400]\tcv_agg's l2: 0.137936 + 0.0331563\n",
      "Early stopping, best iteration is:\n",
      "[317]\tcv_agg's l2: 0.136585 + 0.0333627\n",
      "[100]\tcv_agg's l2: 0.14418 + 0.0354585\n",
      "[200]\tcv_agg's l2: 0.139468 + 0.0330071\n",
      "[300]\tcv_agg's l2: 0.137735 + 0.0335742\n"
     ]
    },
    {
     "name": "stderr",
     "output_type": "stream",
     "text": [
      "regularization_factors, val_score: 0.136585:  25%|#########5                            | 5/20 [00:09<00:28,  1.93s/it][I 2023-11-09 20:59:09,713] Trial 44 finished with value: 0.13760925736891022 and parameters: {'lambda_l1': 4.20316035239921e-07, 'lambda_l2': 3.8735019490068904e-07}. Best is trial 40 with value: 0.1376092565913464.\n",
      "regularization_factors, val_score: 0.136585:  25%|#########5                            | 5/20 [00:09<00:28,  1.93s/it]"
     ]
    },
    {
     "name": "stdout",
     "output_type": "stream",
     "text": [
      "[400]\tcv_agg's l2: 0.137936 + 0.0331563\n",
      "Early stopping, best iteration is:\n",
      "[317]\tcv_agg's l2: 0.136585 + 0.0333627\n",
      "[100]\tcv_agg's l2: 0.14418 + 0.0354585\n",
      "[200]\tcv_agg's l2: 0.139468 + 0.0330071\n",
      "[300]\tcv_agg's l2: 0.137735 + 0.0335742\n"
     ]
    },
    {
     "name": "stderr",
     "output_type": "stream",
     "text": [
      "regularization_factors, val_score: 0.136585:  30%|###########4                          | 6/20 [00:11<00:27,  1.94s/it][I 2023-11-09 20:59:11,673] Trial 45 finished with value: 0.13760925706719052 and parameters: {'lambda_l1': 6.867967522146444e-07, 'lambda_l2': 6.812555572291462e-07}. Best is trial 40 with value: 0.1376092565913464.\n",
      "regularization_factors, val_score: 0.136585:  30%|###########4                          | 6/20 [00:11<00:27,  1.94s/it]"
     ]
    },
    {
     "name": "stdout",
     "output_type": "stream",
     "text": [
      "[400]\tcv_agg's l2: 0.137936 + 0.0331563\n",
      "Early stopping, best iteration is:\n",
      "[317]\tcv_agg's l2: 0.136585 + 0.0333627\n",
      "[100]\tcv_agg's l2: 0.143724 + 0.0357997\n",
      "[200]\tcv_agg's l2: 0.139598 + 0.035685\n",
      "[300]\tcv_agg's l2: 0.137805 + 0.0355215\n"
     ]
    },
    {
     "name": "stderr",
     "output_type": "stream",
     "text": [
      "regularization_factors, val_score: 0.136585:  35%|#############3                        | 7/20 [00:13<00:25,  1.95s/it][I 2023-11-09 20:59:13,657] Trial 46 finished with value: 0.13741507376754586 and parameters: {'lambda_l1': 6.278102385476511e-05, 'lambda_l2': 0.0001179750694001625}. Best is trial 46 with value: 0.13741507376754586.\n",
      "regularization_factors, val_score: 0.136585:  35%|#############3                        | 7/20 [00:13<00:25,  1.95s/it]"
     ]
    },
    {
     "name": "stdout",
     "output_type": "stream",
     "text": [
      "[400]\tcv_agg's l2: 0.137206 + 0.0358264\n",
      "Early stopping, best iteration is:\n",
      "[317]\tcv_agg's l2: 0.136585 + 0.0333627\n",
      "[100]\tcv_agg's l2: 0.144209 + 0.0371086\n",
      "[200]\tcv_agg's l2: 0.139447 + 0.0346606\n",
      "[300]\tcv_agg's l2: 0.137073 + 0.033608\n",
      "[400]\tcv_agg's l2: 0.135938 + 0.0326871\n",
      "[500]\tcv_agg's l2: 0.135458 + 0.0326886\n"
     ]
    },
    {
     "name": "stderr",
     "output_type": "stream",
     "text": [
      "regularization_factors, val_score: 0.135270:  40%|###############2                      | 8/20 [00:16<00:25,  2.16s/it][I 2023-11-09 20:59:16,271] Trial 47 finished with value: 0.13527021224848076 and parameters: {'lambda_l1': 0.0018317720173456036, 'lambda_l2': 0.0018271230515732254}. Best is trial 47 with value: 0.13527021224848076.\n",
      "regularization_factors, val_score: 0.135270:  40%|###############2                      | 8/20 [00:16<00:25,  2.16s/it]"
     ]
    },
    {
     "name": "stdout",
     "output_type": "stream",
     "text": [
      "Early stopping, best iteration is:\n",
      "[467]\tcv_agg's l2: 0.13527 + 0.0325392\n",
      "[100]\tcv_agg's l2: 0.143868 + 0.0364801\n",
      "[200]\tcv_agg's l2: 0.137995 + 0.0341859\n",
      "[300]\tcv_agg's l2: 0.136916 + 0.0333202\n",
      "[400]\tcv_agg's l2: 0.136064 + 0.0326467\n",
      "[500]\tcv_agg's l2: 0.135732 + 0.0321719\n"
     ]
    },
    {
     "name": "stderr",
     "output_type": "stream",
     "text": [
      "regularization_factors, val_score: 0.135270:  45%|#################1                    | 9/20 [00:18<00:25,  2.31s/it][I 2023-11-09 20:59:18,888] Trial 48 finished with value: 0.13571492385026301 and parameters: {'lambda_l1': 0.001013678079143993, 'lambda_l2': 0.005376958954923401}. Best is trial 47 with value: 0.13527021224848076.\n",
      "regularization_factors, val_score: 0.135270:  45%|#################1                    | 9/20 [00:18<00:25,  2.31s/it]"
     ]
    },
    {
     "name": "stdout",
     "output_type": "stream",
     "text": [
      "Early stopping, best iteration is:\n",
      "[467]\tcv_agg's l2: 0.13527 + 0.0325392\n",
      "[100]\tcv_agg's l2: 0.144721 + 0.0372798\n",
      "[200]\tcv_agg's l2: 0.139369 + 0.0349598\n",
      "[300]\tcv_agg's l2: 0.138167 + 0.0332051\n",
      "[400]\tcv_agg's l2: 0.13763 + 0.0329995\n",
      "[500]\tcv_agg's l2: 0.137223 + 0.0323479\n"
     ]
    },
    {
     "name": "stderr",
     "output_type": "stream",
     "text": [
      "regularization_factors, val_score: 0.135270:  50%|##################5                  | 10/20 [00:22<00:26,  2.63s/it][I 2023-11-09 20:59:22,255] Trial 49 finished with value: 0.13723821710805825 and parameters: {'lambda_l1': 0.003596605646635352, 'lambda_l2': 0.007554108011131535}. Best is trial 47 with value: 0.13527021224848076.\n",
      "regularization_factors, val_score: 0.135270:  50%|##################5                  | 10/20 [00:22<00:26,  2.63s/it]"
     ]
    },
    {
     "name": "stdout",
     "output_type": "stream",
     "text": [
      "Early stopping, best iteration is:\n",
      "[467]\tcv_agg's l2: 0.13527 + 0.0325392\n",
      "[100]\tcv_agg's l2: 0.145065 + 0.0350915\n",
      "[200]\tcv_agg's l2: 0.139221 + 0.0327223\n",
      "[300]\tcv_agg's l2: 0.137603 + 0.0320249\n",
      "[400]\tcv_agg's l2: 0.137151 + 0.0314917\n",
      "[500]\tcv_agg's l2: 0.136123 + 0.0311133\n"
     ]
    },
    {
     "name": "stderr",
     "output_type": "stream",
     "text": [
      "regularization_factors, val_score: 0.135270:  55%|####################3                | 11/20 [00:25<00:25,  2.79s/it][I 2023-11-09 20:59:25,410] Trial 50 finished with value: 0.13628389108711567 and parameters: {'lambda_l1': 0.003779170574822989, 'lambda_l2': 0.0036235407832932542}. Best is trial 47 with value: 0.13527021224848076.\n",
      "regularization_factors, val_score: 0.135270:  55%|####################3                | 11/20 [00:25<00:25,  2.79s/it]"
     ]
    },
    {
     "name": "stdout",
     "output_type": "stream",
     "text": [
      "Early stopping, best iteration is:\n",
      "[467]\tcv_agg's l2: 0.13527 + 0.0325392\n",
      "[100]\tcv_agg's l2: 0.145206 + 0.0353581\n",
      "[200]\tcv_agg's l2: 0.13961 + 0.03391\n",
      "[300]\tcv_agg's l2: 0.13882 + 0.0336912\n",
      "[400]\tcv_agg's l2: 0.138322 + 0.0336503\n",
      "[500]\tcv_agg's l2: 0.138156 + 0.0333239\n"
     ]
    },
    {
     "name": "stderr",
     "output_type": "stream",
     "text": [
      "regularization_factors, val_score: 0.135270:  60%|######################2              | 12/20 [00:28<00:23,  2.90s/it][I 2023-11-09 20:59:28,560] Trial 51 finished with value: 0.1383591762924905 and parameters: {'lambda_l1': 0.0031084519868130414, 'lambda_l2': 0.004824903612866274}. Best is trial 47 with value: 0.13527021224848076.\n",
      "regularization_factors, val_score: 0.135270:  60%|######################2              | 12/20 [00:28<00:23,  2.90s/it]"
     ]
    },
    {
     "name": "stdout",
     "output_type": "stream",
     "text": [
      "Early stopping, best iteration is:\n",
      "[467]\tcv_agg's l2: 0.13527 + 0.0325392\n",
      "[100]\tcv_agg's l2: 0.143872 + 0.0364611\n",
      "[200]\tcv_agg's l2: 0.138885 + 0.0339648\n",
      "[300]\tcv_agg's l2: 0.137009 + 0.0333773\n",
      "[400]\tcv_agg's l2: 0.136062 + 0.0330073\n",
      "[500]\tcv_agg's l2: 0.135552 + 0.0329733\n"
     ]
    },
    {
     "name": "stderr",
     "output_type": "stream",
     "text": [
      "regularization_factors, val_score: 0.135270:  65%|########################             | 13/20 [00:31<00:19,  2.82s/it][I 2023-11-09 20:59:31,204] Trial 52 finished with value: 0.13563285464531374 and parameters: {'lambda_l1': 0.0015313334505367736, 'lambda_l2': 0.003391481594369736}. Best is trial 47 with value: 0.13527021224848076.\n",
      "regularization_factors, val_score: 0.135270:  65%|########################             | 13/20 [00:31<00:19,  2.82s/it]"
     ]
    },
    {
     "name": "stdout",
     "output_type": "stream",
     "text": [
      "Early stopping, best iteration is:\n",
      "[467]\tcv_agg's l2: 0.13527 + 0.0325392\n",
      "[100]\tcv_agg's l2: 0.143306 + 0.0337118\n",
      "[200]\tcv_agg's l2: 0.137684 + 0.0326277\n",
      "[300]\tcv_agg's l2: 0.136405 + 0.0329866\n",
      "[400]\tcv_agg's l2: 0.136311 + 0.033257\n",
      "[500]\tcv_agg's l2: 0.136419 + 0.0330874\n"
     ]
    },
    {
     "name": "stderr",
     "output_type": "stream",
     "text": [
      "regularization_factors, val_score: 0.135270:  70%|#########################9           | 14/20 [00:33<00:16,  2.75s/it][I 2023-11-09 20:59:33,781] Trial 53 finished with value: 0.13648109098618214 and parameters: {'lambda_l1': 0.007965822425575255, 'lambda_l2': 0.009589371954018417}. Best is trial 47 with value: 0.13527021224848076.\n",
      "regularization_factors, val_score: 0.135270:  70%|#########################9           | 14/20 [00:33<00:16,  2.75s/it]"
     ]
    },
    {
     "name": "stdout",
     "output_type": "stream",
     "text": [
      "Early stopping, best iteration is:\n",
      "[467]\tcv_agg's l2: 0.13527 + 0.0325392\n",
      "[100]\tcv_agg's l2: 0.147392 + 0.0314461\n",
      "[200]\tcv_agg's l2: 0.141199 + 0.0299383\n",
      "[300]\tcv_agg's l2: 0.140208 + 0.0304255\n",
      "[400]\tcv_agg's l2: 0.139348 + 0.0303016\n",
      "[500]\tcv_agg's l2: 0.139273 + 0.0301141\n"
     ]
    },
    {
     "name": "stderr",
     "output_type": "stream",
     "text": [
      "regularization_factors, val_score: 0.135270:  75%|###########################7         | 15/20 [00:36<00:13,  2.71s/it][I 2023-11-09 20:59:36,392] Trial 54 finished with value: 0.1394652052225996 and parameters: {'lambda_l1': 0.04445362997761772, 'lambda_l2': 0.05267863215185158}. Best is trial 47 with value: 0.13527021224848076.\n",
      "regularization_factors, val_score: 0.135270:  75%|###########################7         | 15/20 [00:36<00:13,  2.71s/it]"
     ]
    },
    {
     "name": "stdout",
     "output_type": "stream",
     "text": [
      "Early stopping, best iteration is:\n",
      "[467]\tcv_agg's l2: 0.13527 + 0.0325392\n",
      "[100]\tcv_agg's l2: 0.144204 + 0.0371274\n",
      "[200]\tcv_agg's l2: 0.138922 + 0.0349219\n",
      "[300]\tcv_agg's l2: 0.137468 + 0.0332939\n",
      "[400]\tcv_agg's l2: 0.137134 + 0.0329312\n",
      "[500]\tcv_agg's l2: 0.136736 + 0.0323765\n"
     ]
    },
    {
     "name": "stderr",
     "output_type": "stream",
     "text": [
      "regularization_factors, val_score: 0.135270:  80%|#############################6       | 16/20 [00:38<00:10,  2.67s/it][I 2023-11-09 20:59:38,967] Trial 55 finished with value: 0.13660673883068128 and parameters: {'lambda_l1': 0.001054695056025622, 'lambda_l2': 0.002190613665236767}. Best is trial 47 with value: 0.13527021224848076.\n",
      "regularization_factors, val_score: 0.135270:  80%|#############################6       | 16/20 [00:38<00:10,  2.67s/it]"
     ]
    },
    {
     "name": "stdout",
     "output_type": "stream",
     "text": [
      "Early stopping, best iteration is:\n",
      "[467]\tcv_agg's l2: 0.13527 + 0.0325392\n",
      "[100]\tcv_agg's l2: 0.147792 + 0.0336593\n",
      "[200]\tcv_agg's l2: 0.141493 + 0.0314745\n",
      "[300]\tcv_agg's l2: 0.139591 + 0.030744\n",
      "[400]\tcv_agg's l2: 0.138993 + 0.03037\n",
      "[500]\tcv_agg's l2: 0.139101 + 0.030607\n"
     ]
    },
    {
     "name": "stderr",
     "output_type": "stream",
     "text": [
      "regularization_factors, val_score: 0.135270:  85%|###############################4     | 17/20 [00:41<00:07,  2.64s/it][I 2023-11-09 20:59:41,556] Trial 56 finished with value: 0.1389848723749212 and parameters: {'lambda_l1': 0.02331095506303732, 'lambda_l2': 0.18416780541268554}. Best is trial 47 with value: 0.13527021224848076.\n",
      "regularization_factors, val_score: 0.135270:  85%|###############################4     | 17/20 [00:41<00:07,  2.64s/it]"
     ]
    },
    {
     "name": "stdout",
     "output_type": "stream",
     "text": [
      "Early stopping, best iteration is:\n",
      "[467]\tcv_agg's l2: 0.13527 + 0.0325392\n",
      "[100]\tcv_agg's l2: 0.143724 + 0.0357995\n",
      "[200]\tcv_agg's l2: 0.139434 + 0.035586\n",
      "[300]\tcv_agg's l2: 0.137509 + 0.0349367\n",
      "[400]\tcv_agg's l2: 0.137177 + 0.0350976\n",
      "[500]\tcv_agg's l2: 0.137082 + 0.0348201\n"
     ]
    },
    {
     "name": "stderr",
     "output_type": "stream",
     "text": [
      "regularization_factors, val_score: 0.135270:  90%|#################################3   | 18/20 [00:43<00:05,  2.62s/it][I 2023-11-09 20:59:44,105] Trial 57 finished with value: 0.1370494270760099 and parameters: {'lambda_l1': 0.00033732473511207333, 'lambda_l2': 0.0005431359173548513}. Best is trial 47 with value: 0.13527021224848076.\n",
      "regularization_factors, val_score: 0.135270:  90%|#################################3   | 18/20 [00:43<00:05,  2.62s/it]"
     ]
    },
    {
     "name": "stdout",
     "output_type": "stream",
     "text": [
      "Early stopping, best iteration is:\n",
      "[467]\tcv_agg's l2: 0.13527 + 0.0325392\n",
      "[100]\tcv_agg's l2: 0.152215 + 0.0318694\n",
      "[200]\tcv_agg's l2: 0.14598 + 0.0318927\n",
      "[300]\tcv_agg's l2: 0.144761 + 0.0319291\n",
      "[400]\tcv_agg's l2: 0.143891 + 0.0311664\n",
      "[500]\tcv_agg's l2: 0.143702 + 0.0310796\n"
     ]
    },
    {
     "name": "stderr",
     "output_type": "stream",
     "text": [
      "regularization_factors, val_score: 0.135270:  95%|###################################1 | 19/20 [00:46<00:02,  2.64s/it][I 2023-11-09 20:59:46,792] Trial 58 finished with value: 0.14370684623830016 and parameters: {'lambda_l1': 0.3223562560912661, 'lambda_l2': 0.04142245139813204}. Best is trial 47 with value: 0.13527021224848076.\n",
      "regularization_factors, val_score: 0.135270:  95%|###################################1 | 19/20 [00:46<00:02,  2.64s/it]"
     ]
    },
    {
     "name": "stdout",
     "output_type": "stream",
     "text": [
      "Early stopping, best iteration is:\n",
      "[467]\tcv_agg's l2: 0.13527 + 0.0325392\n",
      "[100]\tcv_agg's l2: 0.146138 + 0.0378339\n",
      "[200]\tcv_agg's l2: 0.140241 + 0.0376178\n",
      "[300]\tcv_agg's l2: 0.138232 + 0.0363684\n",
      "[400]\tcv_agg's l2: 0.137746 + 0.0356651\n",
      "[500]\tcv_agg's l2: 0.137035 + 0.0347611\n"
     ]
    },
    {
     "name": "stderr",
     "output_type": "stream",
     "text": [
      "regularization_factors, val_score: 0.135270: 100%|#####################################| 20/20 [00:49<00:00,  2.63s/it][I 2023-11-09 20:59:49,407] Trial 59 finished with value: 0.13711846976754957 and parameters: {'lambda_l1': 0.006940683207063963, 'lambda_l2': 0.0006937696162941002}. Best is trial 47 with value: 0.13527021224848076.\n",
      "regularization_factors, val_score: 0.135270: 100%|#####################################| 20/20 [00:49<00:00,  2.46s/it]\n"
     ]
    },
    {
     "name": "stdout",
     "output_type": "stream",
     "text": [
      "Early stopping, best iteration is:\n",
      "[467]\tcv_agg's l2: 0.13527 + 0.0325392\n"
     ]
    },
    {
     "name": "stderr",
     "output_type": "stream",
     "text": [
      "min_data_in_leaf, val_score: 0.135270:   0%|                                                     | 0/5 [00:00<?, ?it/s]"
     ]
    },
    {
     "name": "stdout",
     "output_type": "stream",
     "text": [
      "[100]\tcv_agg's l2: 0.141545 + 0.0343076\n",
      "[200]\tcv_agg's l2: 0.13568 + 0.0320136\n",
      "[300]\tcv_agg's l2: 0.134363 + 0.0314957\n",
      "[400]\tcv_agg's l2: 0.132957 + 0.0311426\n",
      "[500]\tcv_agg's l2: 0.1325 + 0.0308258\n"
     ]
    },
    {
     "name": "stderr",
     "output_type": "stream",
     "text": [
      "min_data_in_leaf, val_score: 0.132387:  20%|#########                                    | 1/5 [00:02<00:09,  2.35s/it][I 2023-11-09 20:59:51,766] Trial 60 finished with value: 0.1323871410200013 and parameters: {'min_child_samples': 10}. Best is trial 60 with value: 0.1323871410200013.\n",
      "min_data_in_leaf, val_score: 0.132387:  20%|#########                                    | 1/5 [00:02<00:09,  2.35s/it]"
     ]
    },
    {
     "name": "stdout",
     "output_type": "stream",
     "text": [
      "Early stopping, best iteration is:\n",
      "[463]\tcv_agg's l2: 0.132387 + 0.0308515\n",
      "[100]\tcv_agg's l2: 0.141347 + 0.0439029\n",
      "[200]\tcv_agg's l2: 0.138704 + 0.0426046\n",
      "[300]\tcv_agg's l2: 0.138345 + 0.042136\n",
      "[400]\tcv_agg's l2: 0.138047 + 0.0417972\n",
      "[500]\tcv_agg's l2: 0.137924 + 0.0416086\n"
     ]
    },
    {
     "name": "stderr",
     "output_type": "stream",
     "text": [
      "min_data_in_leaf, val_score: 0.132387:  40%|##################                           | 2/5 [00:04<00:07,  2.42s/it][I 2023-11-09 20:59:54,239] Trial 61 finished with value: 0.13788260782862707 and parameters: {'min_child_samples': 5}. Best is trial 60 with value: 0.1323871410200013.\n",
      "min_data_in_leaf, val_score: 0.132387:  40%|##################                           | 2/5 [00:04<00:07,  2.42s/it]"
     ]
    },
    {
     "name": "stdout",
     "output_type": "stream",
     "text": [
      "Early stopping, best iteration is:\n",
      "[463]\tcv_agg's l2: 0.132387 + 0.0308515\n",
      "[100]\tcv_agg's l2: 0.683438 + 0.0833848\n",
      "[200]\tcv_agg's l2: 0.643492 + 0.0630723\n",
      "[300]\tcv_agg's l2: 0.617378 + 0.0587806\n",
      "[400]\tcv_agg's l2: 0.603955 + 0.0594942\n"
     ]
    },
    {
     "name": "stderr",
     "output_type": "stream",
     "text": [
      "min_data_in_leaf, val_score: 0.132387:  60%|###########################                  | 3/5 [00:06<00:04,  2.06s/it][I 2023-11-09 20:59:55,858] Trial 62 finished with value: 0.5976711025052933 and parameters: {'min_child_samples': 100}. Best is trial 60 with value: 0.1323871410200013.\n"
     ]
    },
    {
     "name": "stdout",
     "output_type": "stream",
     "text": [
      "[500]\tcv_agg's l2: 0.594296 + 0.0573595\n",
      "Early stopping, best iteration is:\n",
      "[463]\tcv_agg's l2: 0.132387 + 0.0308515\n"
     ]
    },
    {
     "name": "stderr",
     "output_type": "stream",
     "text": [
      "\r",
      "min_data_in_leaf, val_score: 0.132387:  60%|###########################                  | 3/5 [00:06<00:04,  2.06s/it]"
     ]
    },
    {
     "name": "stdout",
     "output_type": "stream",
     "text": [
      "[100]\tcv_agg's l2: 0.153696 + 0.0327842\n",
      "[200]\tcv_agg's l2: 0.147104 + 0.0316084\n",
      "[300]\tcv_agg's l2: 0.145414 + 0.0313802\n",
      "[400]\tcv_agg's l2: 0.14476 + 0.0313178\n",
      "[500]\tcv_agg's l2: 0.144404 + 0.0311972\n"
     ]
    },
    {
     "name": "stderr",
     "output_type": "stream",
     "text": [
      "min_data_in_leaf, val_score: 0.132387:  80%|####################################         | 4/5 [00:09<00:02,  2.37s/it][I 2023-11-09 20:59:58,718] Trial 63 finished with value: 0.1446652362389551 and parameters: {'min_child_samples': 25}. Best is trial 60 with value: 0.1323871410200013.\n",
      "min_data_in_leaf, val_score: 0.132387:  80%|####################################         | 4/5 [00:09<00:02,  2.37s/it]"
     ]
    },
    {
     "name": "stdout",
     "output_type": "stream",
     "text": [
      "Early stopping, best iteration is:\n",
      "[463]\tcv_agg's l2: 0.132387 + 0.0308515\n",
      "[100]\tcv_agg's l2: 0.221648 + 0.0418647\n",
      "[200]\tcv_agg's l2: 0.213524 + 0.0367181\n",
      "[300]\tcv_agg's l2: 0.210768 + 0.0355825\n",
      "[400]\tcv_agg's l2: 0.209949 + 0.0348668\n",
      "[500]\tcv_agg's l2: 0.210133 + 0.0345866\n"
     ]
    },
    {
     "name": "stderr",
     "output_type": "stream",
     "text": [
      "min_data_in_leaf, val_score: 0.132387: 100%|#############################################| 5/5 [00:11<00:00,  2.40s/it][I 2023-11-09 21:00:01,172] Trial 64 finished with value: 0.20989708325843376 and parameters: {'min_child_samples': 50}. Best is trial 60 with value: 0.1323871410200013.\n",
      "min_data_in_leaf, val_score: 0.132387: 100%|#############################################| 5/5 [00:11<00:00,  2.35s/it]"
     ]
    },
    {
     "name": "stdout",
     "output_type": "stream",
     "text": [
      "Early stopping, best iteration is:\n",
      "[463]\tcv_agg's l2: 0.132387 + 0.0308515\n"
     ]
    },
    {
     "name": "stderr",
     "output_type": "stream",
     "text": [
      "\n"
     ]
    }
   ],
   "source": [
    "import optuna.integration.lightgbm as lgb\n",
    "from lightgbm import early_stopping\n",
    "from sklearn.model_selection import KFold\n",
    "from sklearn.model_selection import RepeatedKFold\n",
    "\n",
    "\n",
    "lgb_train = lgb.Dataset(X_train_random_split, y_train_random_split)\n",
    "\n",
    "params = {\n",
    "    \"boosting_type\": \"gbdt\",\n",
    "    \"objective\": \"regression\",\n",
    "    \"metric\": \"l2\",\n",
    "    \"verbosity\": -1,\n",
    "}\n",
    "\n",
    "tuner = lgb.LightGBMTunerCV(\n",
    "    params,\n",
    "    lgb_train,\n",
    "    folds=KFold(n_splits=5),\n",
    "    num_boost_round=10000,\n",
    "    callbacks=[early_stopping(100), log_evaluation(100)],\n",
    ")\n",
    "\n",
    "tuner.run()"
   ]
  },
  {
   "cell_type": "code",
   "execution_count": 38,
   "id": "175988ae",
   "metadata": {},
   "outputs": [
    {
     "name": "stdout",
     "output_type": "stream",
     "text": [
      "Best score: 0.1323871410200013\n",
      "Params: \n",
      "    boosting_type: gbdt\n",
      "    objective: regression\n",
      "    metric: l2\n",
      "    verbosity: -1\n",
      "    feature_pre_filter: False\n",
      "    lambda_l1: 0.0018317720173456036\n",
      "    lambda_l2: 0.0018271230515732254\n",
      "    num_leaves: 13\n",
      "    feature_fraction: 0.4\n",
      "    bagging_fraction: 0.9768880970664675\n",
      "    bagging_freq: 1\n",
      "    min_child_samples: 10\n"
     ]
    }
   ],
   "source": [
    "print(f\"Best score: {tuner.best_score}\")\n",
    "best_params = tuner.best_params\n",
    "print(\"Params: \")\n",
    "for key, value in best_params.items():\n",
    "    print(\"    {}: {}\".format(key, value))"
   ]
  },
  {
   "cell_type": "code",
   "execution_count": 39,
   "id": "b8e0ae76",
   "metadata": {},
   "outputs": [],
   "source": [
    "import lightgbm as lgb\n",
    "\n",
    "lgb_tuned = lgb.train(\n",
    "    best_params,\n",
    "    lgb_train,\n",
    "    num_boost_round=10000,\n",
    ")"
   ]
  },
  {
   "cell_type": "code",
   "execution_count": 40,
   "id": "ab41f140",
   "metadata": {},
   "outputs": [
    {
     "name": "stdout",
     "output_type": "stream",
     "text": [
      "RMSE train: 0.00\n",
      "RMSE test: 0.31\n",
      "MAE test: 0.22\n",
      "\n"
     ]
    }
   ],
   "source": [
    "rmse, mae = assess_regression_model(\n",
    "    lgb_tuned,\n",
    "    X_train_random_split,\n",
    "    X_test_random_split,\n",
    "    y_train_random_split,\n",
    "    y_test_random_split,\n",
    ")"
   ]
  },
  {
   "cell_type": "code",
   "execution_count": 41,
   "id": "36a7d705",
   "metadata": {},
   "outputs": [],
   "source": [
    "results.loc[3] = [\"random\", \"Optuna\", \"full\", rmse, mae]"
   ]
  },
  {
   "cell_type": "markdown",
   "id": "baffe730",
   "metadata": {},
   "source": [
    "###### MAE by level"
   ]
  },
  {
   "cell_type": "code",
   "execution_count": 42,
   "id": "4206dff5",
   "metadata": {},
   "outputs": [
    {
     "data": {
      "image/png": "[encoded data removed]",
      "text/plain": [
       "<Figure size 1440x576 with 1 Axes>"
      ]
     },
     "metadata": {
      "needs_background": "light"
     },
     "output_type": "display_data"
    }
   ],
   "source": [
    "plot_mae_by_level(\n",
    "    y_test_random_split,\n",
    "    y_pred_test,\n",
    "    title=\"MAE by level for tuned LightGBM with full features and random split\",\n",
    ")"
   ]
  },
  {
   "cell_type": "code",
   "execution_count": 43,
   "id": "502bdb9c",
   "metadata": {
    "scrolled": true
   },
   "outputs": [
    {
     "name": "stdout",
     "output_type": "stream",
     "text": [
      "Default:\n",
      "RMSE: 0.18\n",
      "\n",
      "Round type: 0.5\n",
      "RMSE: 0.20\n",
      "\n",
      "Round type: 0.33\n",
      "RMSE: 0.22\n",
      "\n",
      "Round type: 0.45\n",
      "RMSE: 0.20\n",
      "\n"
     ]
    }
   ],
   "source": [
    "predict = lgb_tuned.predict(X_test)\n",
    "evaluate_round_predictions([0.5, 0.33, 0.45], y_test, predict)"
   ]
  },
  {
   "cell_type": "code",
   "execution_count": 44,
   "id": "378511d8",
   "metadata": {},
   "outputs": [
    {
     "data": {
      "image/png": "[encoded data removed]",
      "text/plain": [
       "<Figure size 720x720 with 2 Axes>"
      ]
     },
     "metadata": {
      "needs_background": "light"
     },
     "output_type": "display_data"
    }
   ],
   "source": [
    "plot_confusion_matrix(\n",
    "    predict,\n",
    "    y_test,\n",
    "    title=\"Confusion matrix for tuned LightGBM with\\nfull features and random split\",\n",
    ")"
   ]
  },
  {
   "cell_type": "markdown",
   "id": "cbf21c29",
   "metadata": {},
   "source": [
    "## Summary"
   ]
  },
  {
   "cell_type": "code",
   "execution_count": 45,
   "id": "d065edf6",
   "metadata": {
    "scrolled": false
   },
   "outputs": [
    {
     "data": {
      "text/html": [
       "<div>\n",
       "<style scoped>\n",
       "    .dataframe tbody tr th:only-of-type {\n",
       "        vertical-align: middle;\n",
       "    }\n",
       "\n",
       "    .dataframe tbody tr th {\n",
       "        vertical-align: top;\n",
       "    }\n",
       "\n",
       "    .dataframe thead th {\n",
       "        text-align: right;\n",
       "    }\n",
       "</style>\n",
       "<table border=\"1\" class=\"dataframe\">\n",
       "  <thead>\n",
       "    <tr style=\"text-align: right;\">\n",
       "      <th></th>\n",
       "      <th>Split type</th>\n",
       "      <th>Tuning type</th>\n",
       "      <th>Set of features</th>\n",
       "      <th>RMSE</th>\n",
       "      <th>MAE</th>\n",
       "    </tr>\n",
       "  </thead>\n",
       "  <tbody>\n",
       "    <tr>\n",
       "      <th>0</th>\n",
       "      <td>chronological</td>\n",
       "      <td>default</td>\n",
       "      <td>full</td>\n",
       "      <td>0.965662</td>\n",
       "      <td>0.463517</td>\n",
       "    </tr>\n",
       "    <tr>\n",
       "      <th>1</th>\n",
       "      <td>chronological</td>\n",
       "      <td>Optuna</td>\n",
       "      <td>full</td>\n",
       "      <td>0.678976</td>\n",
       "      <td>0.389351</td>\n",
       "    </tr>\n",
       "    <tr>\n",
       "      <th>2</th>\n",
       "      <td>random</td>\n",
       "      <td>default</td>\n",
       "      <td>full</td>\n",
       "      <td>0.371349</td>\n",
       "      <td>0.246737</td>\n",
       "    </tr>\n",
       "    <tr>\n",
       "      <th>3</th>\n",
       "      <td>random</td>\n",
       "      <td>Optuna</td>\n",
       "      <td>full</td>\n",
       "      <td>0.312773</td>\n",
       "      <td>0.219705</td>\n",
       "    </tr>\n",
       "  </tbody>\n",
       "</table>\n",
       "</div>"
      ],
      "text/plain": [
       "      Split type Tuning type Set of features      RMSE       MAE\n",
       "0  chronological     default            full  0.965662  0.463517\n",
       "1  chronological      Optuna            full  0.678976  0.389351\n",
       "2         random     default            full  0.371349  0.246737\n",
       "3         random      Optuna            full  0.312773  0.219705"
      ]
     },
     "execution_count": 45,
     "metadata": {},
     "output_type": "execute_result"
    }
   ],
   "source": [
    "results"
   ]
  },
  {
   "cell_type": "code",
   "execution_count": 46,
   "id": "5ab8f79f",
   "metadata": {},
   "outputs": [],
   "source": [
    "from training.results import plot_summary"
   ]
  },
  {
   "cell_type": "code",
   "execution_count": 47,
   "id": "a642225d",
   "metadata": {},
   "outputs": [
    {
     "data": {
      "image/png": "[encoded data removed]",
      "text/plain": [
       "<Figure size 1440x576 with 1 Axes>"
      ]
     },
     "metadata": {
      "needs_background": "light"
     },
     "output_type": "display_data"
    }
   ],
   "source": [
    "plot_summary(results, \"RMSE\", title=\"RMSE for LightGBM with full features\")"
   ]
  },
  {
   "cell_type": "code",
   "execution_count": 48,
   "id": "07e30e23",
   "metadata": {},
   "outputs": [
    {
     "data": {
      "image/png": "[encoded data removed]",
      "text/plain": [
       "<Figure size 1440x576 with 1 Axes>"
      ]
     },
     "metadata": {
      "needs_background": "light"
     },
     "output_type": "display_data"
    }
   ],
   "source": [
    "plot_summary(results, \"MAE\", title=\"MAE for LightGBM with full features\")"
   ]
  },
  {
   "cell_type": "code",
   "execution_count": 49,
   "id": "ae68a99c",
   "metadata": {},
   "outputs": [],
   "source": [
    "results.to_csv(\"./lightgbm_full_results.csv\")"
   ]
  },
  {
   "cell_type": "code",
   "execution_count": null,
   "id": "745b56ef",
   "metadata": {},
   "outputs": [],
   "source": []
  }
 ],
 "metadata": {
  "kernelspec": {
   "display_name": "Python 3 (ipykernel)",
   "language": "python",
   "name": "python3"
  },
  "language_info": {
   "codemirror_mode": {
    "name": "ipython",
    "version": 3
   },
   "file_extension": ".py",
   "mimetype": "text/x-python",
   "name": "python",
   "nbconvert_exporter": "python",
   "pygments_lexer": "ipython3",
   "version": "3.10.4"
  }
 },
 "nbformat": 4,
 "nbformat_minor": 5
}
