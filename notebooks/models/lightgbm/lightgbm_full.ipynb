{
 "cells": [
  {
   "cell_type": "markdown",
   "id": "f64a671f",
   "metadata": {},
   "source": [
    "# LightGBM\n",
    "### Parameters:\n",
    "System:\n",
    "* **abilities**:\n",
    "    * **cha**\n",
    "    * **con**\n",
    "    * **dex**\n",
    "    * **int**\n",
    "    * **str**\n",
    "    * **wis**\n",
    "* **attributes**\n",
    "    * **hp**\n",
    "    * **ac**\n",
    "    * **perception**\n",
    "    * **speed** (*land speed*)\n",
    "        * **other speeds**: fly, climb, swim\n",
    "    * **num immunities**\n",
    "    * **resistances**: fire, cold, electricity, acid, piercing, slashing, physical, bludgeoning, mental, poison, all-damage\n",
    "    * **weaknesses**: cold-iron, good, fire, cold, area-damage, splash-damage, evil, slashing\n",
    "* **saves**\n",
    "    * **fortitude**\n",
    "    * **reflex**\n",
    "    * **will**\n",
    "* **resources**\n",
    "    * **focus**\n",
    "\n",
    "Items\n",
    "* **items**\n",
    "    * **melee**\n",
    "    * **ranged**\n",
    "    * **spells nr**\n",
    "\n",
    "### Prediction: *level*\n",
    "\n",
    "## Loading data"
   ]
  },
  {
   "cell_type": "code",
   "execution_count": 1,
   "id": "1f2515e7",
   "metadata": {},
   "outputs": [],
   "source": [
    "import numpy as np\n",
    "import pandas as pd\n",
    "import sys\n",
    "\n",
    "import os\n",
    "import pathlib\n",
    "\n",
    "sys.path.append(\"../../..\")\n",
    "from training.creating_dataset import load_and_preprocess_data\n",
    "\n",
    "current_path = os.getcwd()\n",
    "DATASETS_DIR = pathlib.Path(current_path).parent.parent.parent / \"pathfinder_2e_data\"\n",
    "DATASET_FILES = [\n",
    "    \"pathfinder-bestiary.db\",\n",
    "    \"pathfinder-bestiary-2.db\",\n",
    "    \"pathfinder-bestiary-3.db\",\n",
    "]\n",
    "DATASET_PATHS = [f\"{DATASETS_DIR}/{file}\" for file in DATASET_FILES]\n",
    "features = [\n",
    "    \"cha\",\n",
    "    \"con\",\n",
    "    \"dex\",\n",
    "    \"int\",\n",
    "    \"str\",\n",
    "    \"wis\",\n",
    "    \"ac\",\n",
    "    \"hp\",\n",
    "    \"perception\",\n",
    "    \"fortitude\",\n",
    "    \"reflex\",\n",
    "    \"will\",\n",
    "    \"focus\",\n",
    "    \"land_speed\",\n",
    "    \"num_immunities\",\n",
    "    \"fly\",\n",
    "    \"swim\",\n",
    "    \"climb\",\n",
    "    \"fire_resistance\",\n",
    "    \"cold_resistance\",\n",
    "    \"electricity_resistance\",\n",
    "    \"acid_resistance\",\n",
    "    \"piercing_resistance\",\n",
    "    \"slashing_resistance\",\n",
    "    \"physical_resistance\",\n",
    "    \"bludgeoning_resistance\",\n",
    "    \"mental_resistance\",\n",
    "    \"poison_resistance\",\n",
    "    \"all-damage_resistance\",\n",
    "    \"cold-iron_weakness\",\n",
    "    \"good_weakness\",\n",
    "    \"fire_weakness\",\n",
    "    \"cold_weakness\",\n",
    "    \"area-damage_weakness\",\n",
    "    \"splash-damage_weakness\",\n",
    "    \"evil_weakness\",\n",
    "    \"slashing_weakness\",\n",
    "    \"melee\",\n",
    "    \"ranged\",\n",
    "    \"spells\",\n",
    "]\n",
    "\n",
    "df = load_and_preprocess_data(\n",
    "    DATASET_PATHS,\n",
    "    characteristics=features,\n",
    ")"
   ]
  },
  {
   "cell_type": "code",
   "execution_count": 2,
   "id": "b522f880",
   "metadata": {},
   "outputs": [
    {
     "name": "stdout",
     "output_type": "stream",
     "text": [
      "<class 'pandas.core.frame.DataFrame'>\n",
      "Int64Index: 1206 entries, 0 to 1205\n",
      "Data columns (total 52 columns):\n",
      " #   Column                  Non-Null Count  Dtype  \n",
      "---  ------                  --------------  -----  \n",
      " 0   int                     1206 non-null   int64  \n",
      " 1   level                   1206 non-null   int64  \n",
      " 2   num_immunities          1206 non-null   int64  \n",
      " 3   con                     1206 non-null   int64  \n",
      " 4   will                    1206 non-null   int64  \n",
      " 5   ac                      1206 non-null   int64  \n",
      " 6   str                     1206 non-null   int64  \n",
      " 7   hp                      1206 non-null   int64  \n",
      " 8   cha                     1206 non-null   int64  \n",
      " 9   perception              1206 non-null   int64  \n",
      " 10  fortitude               1206 non-null   int64  \n",
      " 11  focus                   1206 non-null   int32  \n",
      " 12  wis                     1206 non-null   int64  \n",
      " 13  land_speed              1206 non-null   float64\n",
      " 14  dex                     1206 non-null   int64  \n",
      " 15  book                    1206 non-null   object \n",
      " 16  reflex                  1206 non-null   int64  \n",
      " 17  all-damage_resistance   1206 non-null   int64  \n",
      " 18  piercing_resistance     1206 non-null   int64  \n",
      " 19  cold_resistance         1206 non-null   int64  \n",
      " 20  bludgeoning_resistance  1206 non-null   int64  \n",
      " 21  physical_resistance     1206 non-null   int64  \n",
      " 22  electricity_resistance  1206 non-null   int64  \n",
      " 23  poison_resistance       1206 non-null   int64  \n",
      " 24  acid_resistance         1206 non-null   int64  \n",
      " 25  slashing_resistance     1206 non-null   int64  \n",
      " 26  fire_resistance         1206 non-null   int64  \n",
      " 27  mental_resistance       1206 non-null   int64  \n",
      " 28  slashing_weakness       1206 non-null   int64  \n",
      " 29  good_weakness           1206 non-null   int64  \n",
      " 30  cold_weakness           1206 non-null   int64  \n",
      " 31  evil_weakness           1206 non-null   int64  \n",
      " 32  cold-iron_weakness      1206 non-null   int64  \n",
      " 33  fire_weakness           1206 non-null   int64  \n",
      " 34  area-damage_weakness    1206 non-null   int64  \n",
      " 35  splash-damage_weakness  1206 non-null   int64  \n",
      " 36  swim                    1206 non-null   int64  \n",
      " 37  fly                     1206 non-null   int64  \n",
      " 38  climb                   1206 non-null   int64  \n",
      " 39  spells_nr_lvl_1         1206 non-null   int64  \n",
      " 40  spells_nr_lvl_2         1206 non-null   int64  \n",
      " 41  spells_nr_lvl_3         1206 non-null   int64  \n",
      " 42  spells_nr_lvl_4         1206 non-null   int64  \n",
      " 43  spells_nr_lvl_5         1206 non-null   int64  \n",
      " 44  spells_nr_lvl_6         1206 non-null   int64  \n",
      " 45  spells_nr_lvl_7         1206 non-null   int64  \n",
      " 46  spells_nr_lvl_8         1206 non-null   int64  \n",
      " 47  spells_nr_lvl_9         1206 non-null   int64  \n",
      " 48  melee_max_bonus         1206 non-null   int64  \n",
      " 49  avg_melee_dmg           1206 non-null   float64\n",
      " 50  ranged_max_bonus        1206 non-null   int64  \n",
      " 51  avg_ranged_dmg          1206 non-null   float64\n",
      "dtypes: float64(3), int32(1), int64(47), object(1)\n",
      "memory usage: 494.6+ KB\n"
     ]
    }
   ],
   "source": [
    "df.info()"
   ]
  },
  {
   "cell_type": "code",
   "execution_count": 3,
   "id": "1b5450d3",
   "metadata": {},
   "outputs": [
    {
     "data": {
      "text/html": [
       "<div>\n",
       "<style scoped>\n",
       "    .dataframe tbody tr th:only-of-type {\n",
       "        vertical-align: middle;\n",
       "    }\n",
       "\n",
       "    .dataframe tbody tr th {\n",
       "        vertical-align: top;\n",
       "    }\n",
       "\n",
       "    .dataframe thead th {\n",
       "        text-align: right;\n",
       "    }\n",
       "</style>\n",
       "<table border=\"1\" class=\"dataframe\">\n",
       "  <thead>\n",
       "    <tr style=\"text-align: right;\">\n",
       "      <th></th>\n",
       "      <th>int</th>\n",
       "      <th>level</th>\n",
       "      <th>num_immunities</th>\n",
       "      <th>con</th>\n",
       "      <th>will</th>\n",
       "      <th>ac</th>\n",
       "      <th>str</th>\n",
       "      <th>hp</th>\n",
       "      <th>cha</th>\n",
       "      <th>perception</th>\n",
       "      <th>...</th>\n",
       "      <th>spells_nr_lvl_4</th>\n",
       "      <th>spells_nr_lvl_5</th>\n",
       "      <th>spells_nr_lvl_6</th>\n",
       "      <th>spells_nr_lvl_7</th>\n",
       "      <th>spells_nr_lvl_8</th>\n",
       "      <th>spells_nr_lvl_9</th>\n",
       "      <th>melee_max_bonus</th>\n",
       "      <th>avg_melee_dmg</th>\n",
       "      <th>ranged_max_bonus</th>\n",
       "      <th>avg_ranged_dmg</th>\n",
       "    </tr>\n",
       "  </thead>\n",
       "  <tbody>\n",
       "    <tr>\n",
       "      <th>0</th>\n",
       "      <td>1</td>\n",
       "      <td>10</td>\n",
       "      <td>3</td>\n",
       "      <td>5</td>\n",
       "      <td>17</td>\n",
       "      <td>29</td>\n",
       "      <td>7</td>\n",
       "      <td>215</td>\n",
       "      <td>1</td>\n",
       "      <td>20</td>\n",
       "      <td>...</td>\n",
       "      <td>0</td>\n",
       "      <td>0</td>\n",
       "      <td>0</td>\n",
       "      <td>0</td>\n",
       "      <td>0</td>\n",
       "      <td>0</td>\n",
       "      <td>23</td>\n",
       "      <td>22.0</td>\n",
       "      <td>0</td>\n",
       "      <td>0.0</td>\n",
       "    </tr>\n",
       "    <tr>\n",
       "      <th>1</th>\n",
       "      <td>-4</td>\n",
       "      <td>10</td>\n",
       "      <td>0</td>\n",
       "      <td>5</td>\n",
       "      <td>16</td>\n",
       "      <td>28</td>\n",
       "      <td>9</td>\n",
       "      <td>220</td>\n",
       "      <td>1</td>\n",
       "      <td>16</td>\n",
       "      <td>...</td>\n",
       "      <td>0</td>\n",
       "      <td>0</td>\n",
       "      <td>0</td>\n",
       "      <td>0</td>\n",
       "      <td>0</td>\n",
       "      <td>0</td>\n",
       "      <td>23</td>\n",
       "      <td>22.0</td>\n",
       "      <td>0</td>\n",
       "      <td>0.0</td>\n",
       "    </tr>\n",
       "    <tr>\n",
       "      <th>2</th>\n",
       "      <td>-4</td>\n",
       "      <td>8</td>\n",
       "      <td>0</td>\n",
       "      <td>6</td>\n",
       "      <td>15</td>\n",
       "      <td>25</td>\n",
       "      <td>7</td>\n",
       "      <td>175</td>\n",
       "      <td>-2</td>\n",
       "      <td>17</td>\n",
       "      <td>...</td>\n",
       "      <td>0</td>\n",
       "      <td>0</td>\n",
       "      <td>0</td>\n",
       "      <td>0</td>\n",
       "      <td>0</td>\n",
       "      <td>0</td>\n",
       "      <td>21</td>\n",
       "      <td>16.0</td>\n",
       "      <td>0</td>\n",
       "      <td>0.0</td>\n",
       "    </tr>\n",
       "    <tr>\n",
       "      <th>3</th>\n",
       "      <td>6</td>\n",
       "      <td>17</td>\n",
       "      <td>3</td>\n",
       "      <td>5</td>\n",
       "      <td>32</td>\n",
       "      <td>41</td>\n",
       "      <td>7</td>\n",
       "      <td>315</td>\n",
       "      <td>6</td>\n",
       "      <td>30</td>\n",
       "      <td>...</td>\n",
       "      <td>1</td>\n",
       "      <td>0</td>\n",
       "      <td>1</td>\n",
       "      <td>0</td>\n",
       "      <td>0</td>\n",
       "      <td>0</td>\n",
       "      <td>33</td>\n",
       "      <td>31.5</td>\n",
       "      <td>0</td>\n",
       "      <td>0.0</td>\n",
       "    </tr>\n",
       "    <tr>\n",
       "      <th>4</th>\n",
       "      <td>-1</td>\n",
       "      <td>1</td>\n",
       "      <td>0</td>\n",
       "      <td>1</td>\n",
       "      <td>4</td>\n",
       "      <td>16</td>\n",
       "      <td>-5</td>\n",
       "      <td>20</td>\n",
       "      <td>1</td>\n",
       "      <td>6</td>\n",
       "      <td>...</td>\n",
       "      <td>1</td>\n",
       "      <td>0</td>\n",
       "      <td>0</td>\n",
       "      <td>0</td>\n",
       "      <td>0</td>\n",
       "      <td>0</td>\n",
       "      <td>0</td>\n",
       "      <td>0.0</td>\n",
       "      <td>8</td>\n",
       "      <td>5.0</td>\n",
       "    </tr>\n",
       "  </tbody>\n",
       "</table>\n",
       "<p>5 rows × 52 columns</p>\n",
       "</div>"
      ],
      "text/plain": [
       "   int  level  num_immunities  con  will  ac  str   hp  cha  perception  ...  \\\n",
       "0    1     10               3    5    17  29    7  215    1          20  ...   \n",
       "1   -4     10               0    5    16  28    9  220    1          16  ...   \n",
       "2   -4      8               0    6    15  25    7  175   -2          17  ...   \n",
       "3    6     17               3    5    32  41    7  315    6          30  ...   \n",
       "4   -1      1               0    1     4  16   -5   20    1           6  ...   \n",
       "\n",
       "   spells_nr_lvl_4  spells_nr_lvl_5  spells_nr_lvl_6  spells_nr_lvl_7  \\\n",
       "0                0                0                0                0   \n",
       "1                0                0                0                0   \n",
       "2                0                0                0                0   \n",
       "3                1                0                1                0   \n",
       "4                1                0                0                0   \n",
       "\n",
       "   spells_nr_lvl_8 spells_nr_lvl_9  melee_max_bonus  avg_melee_dmg  \\\n",
       "0                0               0               23           22.0   \n",
       "1                0               0               23           22.0   \n",
       "2                0               0               21           16.0   \n",
       "3                0               0               33           31.5   \n",
       "4                0               0                0            0.0   \n",
       "\n",
       "   ranged_max_bonus  avg_ranged_dmg  \n",
       "0                 0             0.0  \n",
       "1                 0             0.0  \n",
       "2                 0             0.0  \n",
       "3                 0             0.0  \n",
       "4                 8             5.0  \n",
       "\n",
       "[5 rows x 52 columns]"
      ]
     },
     "execution_count": 3,
     "metadata": {},
     "output_type": "execute_result"
    }
   ],
   "source": [
    "df.head()"
   ]
  },
  {
   "cell_type": "markdown",
   "id": "0caa661f",
   "metadata": {},
   "source": [
    "###### Level"
   ]
  },
  {
   "cell_type": "code",
   "execution_count": 4,
   "id": "c200d2b4",
   "metadata": {},
   "outputs": [
    {
     "data": {
      "text/plain": [
       "0       10\n",
       "1       10\n",
       "2        8\n",
       "3       17\n",
       "4        1\n",
       "        ..\n",
       "1201    20\n",
       "1202    -1\n",
       "1203    12\n",
       "1204     6\n",
       "1205     6\n",
       "Name: level, Length: 1206, dtype: int64"
      ]
     },
     "execution_count": 4,
     "metadata": {},
     "output_type": "execute_result"
    }
   ],
   "source": [
    "y = df[\"level\"]\n",
    "y"
   ]
  },
  {
   "cell_type": "code",
   "execution_count": 5,
   "id": "553822a7",
   "metadata": {},
   "outputs": [],
   "source": [
    "from collections import defaultdict\n",
    "\n",
    "\n",
    "lvl_stat = defaultdict(lambda: 0)\n",
    "\n",
    "for lvl in y:\n",
    "    lvl_stat[lvl] += 1"
   ]
  },
  {
   "cell_type": "code",
   "execution_count": 6,
   "id": "e45d6c29",
   "metadata": {},
   "outputs": [
    {
     "data": {
      "text/html": [
       "<div>\n",
       "<style scoped>\n",
       "    .dataframe tbody tr th:only-of-type {\n",
       "        vertical-align: middle;\n",
       "    }\n",
       "\n",
       "    .dataframe tbody tr th {\n",
       "        vertical-align: top;\n",
       "    }\n",
       "\n",
       "    .dataframe thead th {\n",
       "        text-align: right;\n",
       "    }\n",
       "</style>\n",
       "<table border=\"1\" class=\"dataframe\">\n",
       "  <thead>\n",
       "    <tr style=\"text-align: right;\">\n",
       "      <th></th>\n",
       "      <th>lvl</th>\n",
       "      <th>count</th>\n",
       "    </tr>\n",
       "  </thead>\n",
       "  <tbody>\n",
       "    <tr>\n",
       "      <th>0</th>\n",
       "      <td>-1</td>\n",
       "      <td>34</td>\n",
       "    </tr>\n",
       "    <tr>\n",
       "      <th>1</th>\n",
       "      <td>0</td>\n",
       "      <td>27</td>\n",
       "    </tr>\n",
       "    <tr>\n",
       "      <th>2</th>\n",
       "      <td>1</td>\n",
       "      <td>127</td>\n",
       "    </tr>\n",
       "    <tr>\n",
       "      <th>3</th>\n",
       "      <td>2</td>\n",
       "      <td>121</td>\n",
       "    </tr>\n",
       "    <tr>\n",
       "      <th>4</th>\n",
       "      <td>3</td>\n",
       "      <td>95</td>\n",
       "    </tr>\n",
       "    <tr>\n",
       "      <th>5</th>\n",
       "      <td>4</td>\n",
       "      <td>82</td>\n",
       "    </tr>\n",
       "    <tr>\n",
       "      <th>6</th>\n",
       "      <td>5</td>\n",
       "      <td>76</td>\n",
       "    </tr>\n",
       "    <tr>\n",
       "      <th>7</th>\n",
       "      <td>6</td>\n",
       "      <td>72</td>\n",
       "    </tr>\n",
       "    <tr>\n",
       "      <th>8</th>\n",
       "      <td>7</td>\n",
       "      <td>77</td>\n",
       "    </tr>\n",
       "    <tr>\n",
       "      <th>9</th>\n",
       "      <td>8</td>\n",
       "      <td>68</td>\n",
       "    </tr>\n",
       "    <tr>\n",
       "      <th>10</th>\n",
       "      <td>9</td>\n",
       "      <td>63</td>\n",
       "    </tr>\n",
       "    <tr>\n",
       "      <th>11</th>\n",
       "      <td>10</td>\n",
       "      <td>58</td>\n",
       "    </tr>\n",
       "    <tr>\n",
       "      <th>12</th>\n",
       "      <td>11</td>\n",
       "      <td>40</td>\n",
       "    </tr>\n",
       "    <tr>\n",
       "      <th>13</th>\n",
       "      <td>12</td>\n",
       "      <td>41</td>\n",
       "    </tr>\n",
       "    <tr>\n",
       "      <th>14</th>\n",
       "      <td>13</td>\n",
       "      <td>36</td>\n",
       "    </tr>\n",
       "    <tr>\n",
       "      <th>15</th>\n",
       "      <td>14</td>\n",
       "      <td>33</td>\n",
       "    </tr>\n",
       "    <tr>\n",
       "      <th>16</th>\n",
       "      <td>15</td>\n",
       "      <td>31</td>\n",
       "    </tr>\n",
       "    <tr>\n",
       "      <th>17</th>\n",
       "      <td>16</td>\n",
       "      <td>25</td>\n",
       "    </tr>\n",
       "    <tr>\n",
       "      <th>18</th>\n",
       "      <td>17</td>\n",
       "      <td>21</td>\n",
       "    </tr>\n",
       "    <tr>\n",
       "      <th>19</th>\n",
       "      <td>18</td>\n",
       "      <td>21</td>\n",
       "    </tr>\n",
       "    <tr>\n",
       "      <th>20</th>\n",
       "      <td>19</td>\n",
       "      <td>18</td>\n",
       "    </tr>\n",
       "    <tr>\n",
       "      <th>21</th>\n",
       "      <td>20</td>\n",
       "      <td>24</td>\n",
       "    </tr>\n",
       "    <tr>\n",
       "      <th>22</th>\n",
       "      <td>21</td>\n",
       "      <td>16</td>\n",
       "    </tr>\n",
       "  </tbody>\n",
       "</table>\n",
       "</div>"
      ],
      "text/plain": [
       "    lvl  count\n",
       "0    -1     34\n",
       "1     0     27\n",
       "2     1    127\n",
       "3     2    121\n",
       "4     3     95\n",
       "5     4     82\n",
       "6     5     76\n",
       "7     6     72\n",
       "8     7     77\n",
       "9     8     68\n",
       "10    9     63\n",
       "11   10     58\n",
       "12   11     40\n",
       "13   12     41\n",
       "14   13     36\n",
       "15   14     33\n",
       "16   15     31\n",
       "17   16     25\n",
       "18   17     21\n",
       "19   18     21\n",
       "20   19     18\n",
       "21   20     24\n",
       "22   21     16"
      ]
     },
     "execution_count": 6,
     "metadata": {},
     "output_type": "execute_result"
    }
   ],
   "source": [
    "level_count = pd.DataFrame(\n",
    "    data={\n",
    "        \"lvl\": [key for key in sorted(lvl_stat.keys())],\n",
    "        \"count\": [lvl_stat.get(key) for key in sorted(lvl_stat.keys())],\n",
    "    }\n",
    ")\n",
    "level_count"
   ]
  },
  {
   "cell_type": "code",
   "execution_count": 7,
   "id": "bdbfe8de",
   "metadata": {},
   "outputs": [
    {
     "data": {
      "image/png": "[encoded data removed]",
      "text/plain": [
       "<Figure size 432x288 with 1 Axes>"
      ]
     },
     "metadata": {
      "needs_background": "light"
     },
     "output_type": "display_data"
    }
   ],
   "source": [
    "import matplotlib.pyplot as plt\n",
    "\n",
    "\n",
    "level_count.plot.bar(x=\"lvl\", y=\"count\", title=\"Count of levels\")\n",
    "plt.show()"
   ]
  },
  {
   "cell_type": "markdown",
   "id": "9fdb6541",
   "metadata": {},
   "source": [
    "## Train test split"
   ]
  },
  {
   "cell_type": "markdown",
   "id": "18f56629",
   "metadata": {},
   "source": [
    "### Chronological split"
   ]
  },
  {
   "cell_type": "code",
   "execution_count": 8,
   "id": "dcda359b",
   "metadata": {},
   "outputs": [],
   "source": [
    "from training.splitting_dataset import split_dataframe\n",
    "\n",
    "\n",
    "os.chdir(\"../../../training\")\n",
    "X_train, X_test, y_train, y_test = split_dataframe(df, test_size=0.31)\n",
    "os.chdir(\"../notebooks/models/lightgbm\")"
   ]
  },
  {
   "cell_type": "code",
   "execution_count": 9,
   "id": "17dbc875",
   "metadata": {},
   "outputs": [],
   "source": [
    "X_train = X_train.drop(columns=[\"book\"])\n",
    "X_test = X_test.drop(columns=[\"book\"])"
   ]
  },
  {
   "cell_type": "markdown",
   "id": "25879636",
   "metadata": {},
   "source": [
    "### Random split"
   ]
  },
  {
   "cell_type": "code",
   "execution_count": 10,
   "id": "982ec5eb",
   "metadata": {},
   "outputs": [],
   "source": [
    "(\n",
    "    X_train_random_split,\n",
    "    X_test_random_split,\n",
    "    y_train_random_split,\n",
    "    y_test_random_split,\n",
    ") = split_dataframe(df, chronological_split=False)"
   ]
  },
  {
   "cell_type": "code",
   "execution_count": 11,
   "id": "90569e78",
   "metadata": {},
   "outputs": [],
   "source": [
    "X_train_random_split = X_train_random_split.drop(columns=[\"book\"])\n",
    "X_test_random_split = X_test_random_split.drop(columns=[\"book\"])"
   ]
  },
  {
   "cell_type": "markdown",
   "id": "9b259fbf",
   "metadata": {},
   "source": [
    "## LightGBM"
   ]
  },
  {
   "cell_type": "markdown",
   "id": "14f37d9b",
   "metadata": {},
   "source": [
    "## Chronological split"
   ]
  },
  {
   "cell_type": "code",
   "execution_count": 12,
   "id": "2bc4c90e",
   "metadata": {},
   "outputs": [
    {
     "name": "stdout",
     "output_type": "stream",
     "text": [
      "[LightGBM] [Warning] Auto-choosing row-wise multi-threading, the overhead of testing was 0.001220 seconds.\n",
      "You can set `force_row_wise=true` to remove the overhead.\n",
      "And if memory is not enough, you can set `force_col_wise=true`.\n",
      "[LightGBM] [Info] Total Bins 756\n",
      "[LightGBM] [Info] Number of data points in the train set: 841, number of used features: 45\n",
      "[LightGBM] [Info] Start training from score 6.966706\n",
      "Training until validation scores don't improve for 5 rounds\n",
      "[LightGBM] [Warning] No further splits with positive gain, best gain: -inf\n",
      "Did not meet early stopping. Best iteration is:\n",
      "[99]\tvalid_0's l1: 0.460853\tvalid_0's l2: 0.927292\n"
     ]
    }
   ],
   "source": [
    "import lightgbm as lgb\n",
    "\n",
    "lgb_train = lgb.Dataset(X_train, y_train)\n",
    "lgb_eval = lgb.Dataset(X_test, y_test, reference=lgb_train)\n",
    "\n",
    "params = {\n",
    "    \"boosting_type\": \"gbdt\",\n",
    "    \"objective\": \"regression\",\n",
    "    \"metric\": {\"l2\", \"l1\"},\n",
    "}\n",
    "\n",
    "gbm = lgb.train(\n",
    "    params,\n",
    "    lgb_train,\n",
    "    num_boost_round=100,\n",
    "    valid_sets=lgb_eval,\n",
    "    callbacks=[lgb.early_stopping(stopping_rounds=5)],\n",
    ")"
   ]
  },
  {
   "cell_type": "code",
   "execution_count": 13,
   "id": "f1ae2eaa",
   "metadata": {},
   "outputs": [],
   "source": [
    "y_pred_train = gbm.predict(X_train, num_iteration=gbm.best_iteration)\n",
    "y_pred_test = gbm.predict(X_test, num_iteration=gbm.best_iteration)"
   ]
  },
  {
   "cell_type": "code",
   "execution_count": 14,
   "id": "ef9d09eb",
   "metadata": {},
   "outputs": [
    {
     "name": "stdout",
     "output_type": "stream",
     "text": [
      "RMSE: 0.96\n",
      "MAE: 0.46\n"
     ]
    }
   ],
   "source": [
    "from sklearn.metrics import mean_squared_error, mean_absolute_error\n",
    "\n",
    "\n",
    "rmse = mean_squared_error(y_test, y_pred_test, squared=False)\n",
    "mae = mean_absolute_error(y_test, y_pred_test)\n",
    "\n",
    "print(f\"RMSE: {rmse:.2f}\")\n",
    "print(f\"MAE: {mae:.2f}\")"
   ]
  },
  {
   "cell_type": "code",
   "execution_count": 15,
   "id": "6e288d53",
   "metadata": {},
   "outputs": [],
   "source": [
    "results = pd.DataFrame(\n",
    "    data={\n",
    "        \"Split type\": [],\n",
    "        \"Tuning type\": [],\n",
    "        \"Set of features\": [],\n",
    "        \"RMSE\": [],\n",
    "        \"MAE\": [],\n",
    "    }\n",
    ")\n",
    "\n",
    "results.loc[0] = [\"chronological\", \"default\", \"full\", rmse, mae]"
   ]
  },
  {
   "cell_type": "code",
   "execution_count": 16,
   "id": "78bb7ffa",
   "metadata": {},
   "outputs": [
    {
     "name": "stdout",
     "output_type": "stream",
     "text": [
      "RMSE train: 0.12\n",
      "RMSE test: 0.96\n"
     ]
    }
   ],
   "source": [
    "rmse_train = mean_squared_error(y_train, y_pred_train, squared=False)\n",
    "rmse_test = mean_squared_error(y_test, y_pred_test, squared=False)\n",
    "print(f\"RMSE train: {rmse_train:.2f}\")\n",
    "print(f\"RMSE test: {rmse_test:.2f}\")"
   ]
  },
  {
   "cell_type": "markdown",
   "id": "1822ab4b",
   "metadata": {},
   "source": [
    "###### MAE by level"
   ]
  },
  {
   "cell_type": "code",
   "execution_count": 17,
   "id": "89d4733e",
   "metadata": {},
   "outputs": [],
   "source": [
    "from training.results import plot_mae_by_level"
   ]
  },
  {
   "cell_type": "code",
   "execution_count": 18,
   "id": "062bc79b",
   "metadata": {},
   "outputs": [
    {
     "data": {
      "image/png": "[encoded data removed]",
      "text/plain": [
       "<Figure size 720x432 with 1 Axes>"
      ]
     },
     "metadata": {
      "needs_background": "light"
     },
     "output_type": "display_data"
    }
   ],
   "source": [
    "plot_mae_by_level(\n",
    "    y_test,\n",
    "    y_pred_test,\n",
    "    title=\"MAE by level for default LightGBM with full features and chronological split\",\n",
    ")"
   ]
  },
  {
   "cell_type": "code",
   "execution_count": 19,
   "id": "ec8cab49",
   "metadata": {
    "scrolled": true
   },
   "outputs": [
    {
     "name": "stdout",
     "output_type": "stream",
     "text": [
      "Default:\n",
      "RMSE: 0.96\n",
      "\n",
      "Round type: 0.5\n",
      "RMSE: 0.98\n",
      "\n",
      "Round type: 0.33\n",
      "RMSE: 0.95\n",
      "\n",
      "Round type: 0.45\n",
      "RMSE: 0.96\n",
      "\n"
     ]
    }
   ],
   "source": [
    "from training.results import check_round_predictions, plot_confusion_matrix\n",
    "\n",
    "\n",
    "check_round_predictions([0.5, 0.33, 0.45], y_test, y_pred_test)"
   ]
  },
  {
   "cell_type": "code",
   "execution_count": 20,
   "id": "9129a0ae",
   "metadata": {},
   "outputs": [
    {
     "data": {
      "image/png": "[encoded data removed]",
      "text/plain": [
       "<Figure size 432x288 with 2 Axes>"
      ]
     },
     "metadata": {
      "needs_background": "light"
     },
     "output_type": "display_data"
    }
   ],
   "source": [
    "plot_confusion_matrix(\n",
    "    y_pred_test,\n",
    "    y_test,\n",
    "    title=\"Confusion matrix for default LightGBM with full features and chronological split\",\n",
    ")"
   ]
  },
  {
   "cell_type": "markdown",
   "id": "0e591f6c",
   "metadata": {},
   "source": [
    "#### Tuning"
   ]
  },
  {
   "cell_type": "code",
   "execution_count": 21,
   "id": "2f781cab",
   "metadata": {},
   "outputs": [],
   "source": [
    "from training.results import assess_regression_model"
   ]
  },
  {
   "cell_type": "code",
   "execution_count": 22,
   "id": "d8734e01",
   "metadata": {},
   "outputs": [
    {
     "name": "stderr",
     "output_type": "stream",
     "text": [
      "[I 2023-11-05 13:56:58,820] A new study created in memory with name: no-name-35f23fc2-12c8-4a24-ad47-4c550d1cc9a7\n",
      "feature_fraction, val_score: inf:   0%|                                                          | 0/7 [00:00<?, ?it/s]"
     ]
    },
    {
     "name": "stdout",
     "output_type": "stream",
     "text": [
      "Training until validation scores don't improve for 100 rounds\n",
      "[100]\tcv_agg's l2: 0.150665 + 0.0364174\n",
      "[200]\tcv_agg's l2: 0.148526 + 0.035229\n",
      "[300]\tcv_agg's l2: 0.147961 + 0.0355227\n",
      "[400]\tcv_agg's l2: 0.147825 + 0.0357864\n"
     ]
    },
    {
     "name": "stderr",
     "output_type": "stream",
     "text": [
      "feature_fraction, val_score: 0.147628:  14%|######4                                      | 1/7 [00:08<00:53,  8.93s/it][I 2023-11-05 13:57:07,754] Trial 0 finished with value: 0.14762771549531614 and parameters: {'feature_fraction': 1.0}. Best is trial 0 with value: 0.14762771549531614.\n",
      "feature_fraction, val_score: 0.147628:  14%|######4                                      | 1/7 [00:08<00:53,  8.93s/it]"
     ]
    },
    {
     "name": "stdout",
     "output_type": "stream",
     "text": [
      "Early stopping, best iteration is:\n",
      "[331]\tcv_agg's l2: 0.147628 + 0.0354611\n",
      "[100]\tcv_agg's l2: 0.13632 + 0.0305262\n",
      "[200]\tcv_agg's l2: 0.131457 + 0.0277485\n",
      "[300]\tcv_agg's l2: 0.130898 + 0.0277215\n",
      "[400]\tcv_agg's l2: 0.130847 + 0.0273477\n"
     ]
    },
    {
     "name": "stderr",
     "output_type": "stream",
     "text": [
      "feature_fraction, val_score: 0.130643:  29%|############8                                | 2/7 [00:16<00:40,  8.12s/it][I 2023-11-05 13:57:15,303] Trial 1 finished with value: 0.1306428436733124 and parameters: {'feature_fraction': 0.5}. Best is trial 1 with value: 0.1306428436733124.\n",
      "feature_fraction, val_score: 0.130643:  29%|############8                                | 2/7 [00:16<00:40,  8.12s/it]"
     ]
    },
    {
     "name": "stdout",
     "output_type": "stream",
     "text": [
      "Early stopping, best iteration is:\n",
      "[365]\tcv_agg's l2: 0.130643 + 0.0274677\n",
      "[100]\tcv_agg's l2: 0.134122 + 0.0272516\n",
      "[200]\tcv_agg's l2: 0.131818 + 0.0248679\n",
      "[300]\tcv_agg's l2: 0.131424 + 0.024509\n",
      "[400]\tcv_agg's l2: 0.131368 + 0.0242714\n"
     ]
    },
    {
     "name": "stderr",
     "output_type": "stream",
     "text": [
      "feature_fraction, val_score: 0.130643:  43%|###################2                         | 3/7 [00:23<00:30,  7.63s/it][I 2023-11-05 13:57:22,349] Trial 2 finished with value: 0.13138675250783874 and parameters: {'feature_fraction': 0.4}. Best is trial 1 with value: 0.1306428436733124.\n",
      "feature_fraction, val_score: 0.130643:  43%|###################2                         | 3/7 [00:23<00:30,  7.63s/it]"
     ]
    },
    {
     "name": "stdout",
     "output_type": "stream",
     "text": [
      "Early stopping, best iteration is:\n",
      "[365]\tcv_agg's l2: 0.130643 + 0.0274677\n",
      "[100]\tcv_agg's l2: 0.144204 + 0.0326398\n",
      "[200]\tcv_agg's l2: 0.140463 + 0.0313273\n",
      "[300]\tcv_agg's l2: 0.140176 + 0.0316848\n",
      "[400]\tcv_agg's l2: 0.14047 + 0.031658\n"
     ]
    },
    {
     "name": "stderr",
     "output_type": "stream",
     "text": [
      "feature_fraction, val_score: 0.130643:  57%|#########################7                   | 4/7 [00:30<00:22,  7.39s/it][I 2023-11-05 13:57:29,372] Trial 3 finished with value: 0.14041876282996413 and parameters: {'feature_fraction': 0.6}. Best is trial 1 with value: 0.1306428436733124.\n",
      "feature_fraction, val_score: 0.130643:  57%|#########################7                   | 4/7 [00:30<00:22,  7.39s/it]"
     ]
    },
    {
     "name": "stdout",
     "output_type": "stream",
     "text": [
      "Early stopping, best iteration is:\n",
      "[365]\tcv_agg's l2: 0.130643 + 0.0274677\n",
      "[100]\tcv_agg's l2: 0.142486 + 0.0309103\n",
      "[200]\tcv_agg's l2: 0.139574 + 0.0294592\n",
      "[300]\tcv_agg's l2: 0.139082 + 0.0295514\n",
      "[400]\tcv_agg's l2: 0.138817 + 0.0294528\n"
     ]
    },
    {
     "name": "stderr",
     "output_type": "stream",
     "text": [
      "feature_fraction, val_score: 0.130643:  71%|################################1            | 5/7 [00:37<00:14,  7.09s/it][I 2023-11-05 13:57:35,929] Trial 4 finished with value: 0.1389588694086154 and parameters: {'feature_fraction': 0.8}. Best is trial 1 with value: 0.1306428436733124.\n",
      "feature_fraction, val_score: 0.130643:  71%|################################1            | 5/7 [00:37<00:14,  7.09s/it]"
     ]
    },
    {
     "name": "stdout",
     "output_type": "stream",
     "text": [
      "Early stopping, best iteration is:\n",
      "[365]\tcv_agg's l2: 0.130643 + 0.0274677\n",
      "[100]\tcv_agg's l2: 0.14454 + 0.034287\n",
      "[200]\tcv_agg's l2: 0.142961 + 0.0340269\n",
      "[300]\tcv_agg's l2: 0.142266 + 0.0335688\n",
      "[400]\tcv_agg's l2: 0.142401 + 0.0338913\n"
     ]
    },
    {
     "name": "stderr",
     "output_type": "stream",
     "text": [
      "feature_fraction, val_score: 0.130643:  86%|######################################5      | 6/7 [00:45<00:07,  7.41s/it][I 2023-11-05 13:57:43,959] Trial 5 finished with value: 0.1421957365016882 and parameters: {'feature_fraction': 0.8999999999999999}. Best is trial 1 with value: 0.1306428436733124.\n",
      "feature_fraction, val_score: 0.130643:  86%|######################################5      | 6/7 [00:45<00:07,  7.41s/it]"
     ]
    },
    {
     "name": "stdout",
     "output_type": "stream",
     "text": [
      "Early stopping, best iteration is:\n",
      "[365]\tcv_agg's l2: 0.130643 + 0.0274677\n",
      "[100]\tcv_agg's l2: 0.144773 + 0.0323578\n",
      "[200]\tcv_agg's l2: 0.14182 + 0.0314689\n",
      "[300]\tcv_agg's l2: 0.141437 + 0.0313515\n",
      "[400]\tcv_agg's l2: 0.141157 + 0.0313057\n"
     ]
    },
    {
     "name": "stderr",
     "output_type": "stream",
     "text": [
      "feature_fraction, val_score: 0.130643: 100%|#############################################| 7/7 [00:51<00:00,  7.22s/it][I 2023-11-05 13:57:50,785] Trial 6 finished with value: 0.14112054703408686 and parameters: {'feature_fraction': 0.7}. Best is trial 1 with value: 0.1306428436733124.\n",
      "feature_fraction, val_score: 0.130643: 100%|#############################################| 7/7 [00:51<00:00,  7.42s/it]\n"
     ]
    },
    {
     "name": "stdout",
     "output_type": "stream",
     "text": [
      "Early stopping, best iteration is:\n",
      "[365]\tcv_agg's l2: 0.130643 + 0.0274677\n"
     ]
    },
    {
     "name": "stderr",
     "output_type": "stream",
     "text": [
      "num_leaves, val_score: 0.130643:   0%|                                                          | 0/20 [00:00<?, ?it/s]"
     ]
    },
    {
     "name": "stdout",
     "output_type": "stream",
     "text": [
      "[100]\tcv_agg's l2: 0.13632 + 0.0305262\n",
      "[200]\tcv_agg's l2: 0.131457 + 0.0277485\n",
      "[300]\tcv_agg's l2: 0.130898 + 0.0277215\n",
      "[400]\tcv_agg's l2: 0.130847 + 0.0273477\n"
     ]
    },
    {
     "name": "stderr",
     "output_type": "stream",
     "text": [
      "num_leaves, val_score: 0.130643:   5%|##5                                               | 1/20 [00:08<02:44,  8.66s/it][I 2023-11-05 13:57:59,455] Trial 7 finished with value: 0.1306428436733124 and parameters: {'num_leaves': 197}. Best is trial 7 with value: 0.1306428436733124.\n",
      "num_leaves, val_score: 0.130643:   5%|##5                                               | 1/20 [00:08<02:44,  8.66s/it]"
     ]
    },
    {
     "name": "stdout",
     "output_type": "stream",
     "text": [
      "Early stopping, best iteration is:\n",
      "[365]\tcv_agg's l2: 0.130643 + 0.0274677\n",
      "[100]\tcv_agg's l2: 0.13632 + 0.0305262\n",
      "[200]\tcv_agg's l2: 0.131588 + 0.0275737\n",
      "[300]\tcv_agg's l2: 0.131041 + 0.0275296\n",
      "[400]\tcv_agg's l2: 0.131102 + 0.0271377\n"
     ]
    },
    {
     "name": "stderr",
     "output_type": "stream",
     "text": [
      "num_leaves, val_score: 0.130643:  10%|#####                                             | 2/20 [00:15<02:19,  7.73s/it][I 2023-11-05 13:58:06,532] Trial 8 finished with value: 0.13086114105158622 and parameters: {'num_leaves': 28}. Best is trial 7 with value: 0.1306428436733124.\n",
      "num_leaves, val_score: 0.130643:  10%|#####                                             | 2/20 [00:15<02:19,  7.73s/it]"
     ]
    },
    {
     "name": "stdout",
     "output_type": "stream",
     "text": [
      "Early stopping, best iteration is:\n",
      "[365]\tcv_agg's l2: 0.130643 + 0.0274677\n",
      "[100]\tcv_agg's l2: 0.13632 + 0.0305262\n",
      "[200]\tcv_agg's l2: 0.131457 + 0.0277485\n",
      "[300]\tcv_agg's l2: 0.130898 + 0.0277215\n",
      "[400]\tcv_agg's l2: 0.130847 + 0.0273477\n"
     ]
    },
    {
     "name": "stderr",
     "output_type": "stream",
     "text": [
      "num_leaves, val_score: 0.130643:  15%|#######5                                          | 3/20 [00:23<02:08,  7.57s/it][I 2023-11-05 13:58:13,922] Trial 9 finished with value: 0.1306428436733124 and parameters: {'num_leaves': 166}. Best is trial 7 with value: 0.1306428436733124.\n",
      "num_leaves, val_score: 0.130643:  15%|#######5                                          | 3/20 [00:23<02:08,  7.57s/it]"
     ]
    },
    {
     "name": "stdout",
     "output_type": "stream",
     "text": [
      "Early stopping, best iteration is:\n",
      "[365]\tcv_agg's l2: 0.130643 + 0.0274677\n",
      "[100]\tcv_agg's l2: 0.143138 + 0.0286939\n",
      "[200]\tcv_agg's l2: 0.136358 + 0.0258479\n",
      "[300]\tcv_agg's l2: 0.135583 + 0.0250125\n",
      "[400]\tcv_agg's l2: 0.135477 + 0.0245002\n"
     ]
    },
    {
     "name": "stderr",
     "output_type": "stream",
     "text": [
      "num_leaves, val_score: 0.130643:  20%|##########                                        | 4/20 [00:27<01:40,  6.28s/it][I 2023-11-05 13:58:18,226] Trial 10 finished with value: 0.1355411487562558 and parameters: {'num_leaves': 13}. Best is trial 7 with value: 0.1306428436733124.\n",
      "num_leaves, val_score: 0.130643:  20%|##########                                        | 4/20 [00:27<01:40,  6.28s/it]"
     ]
    },
    {
     "name": "stdout",
     "output_type": "stream",
     "text": [
      "Early stopping, best iteration is:\n",
      "[365]\tcv_agg's l2: 0.130643 + 0.0274677\n",
      "[100]\tcv_agg's l2: 0.13632 + 0.0305262\n",
      "[200]\tcv_agg's l2: 0.131457 + 0.0277485\n",
      "[300]\tcv_agg's l2: 0.130898 + 0.0277215\n",
      "[400]\tcv_agg's l2: 0.130847 + 0.0273477\n"
     ]
    },
    {
     "name": "stderr",
     "output_type": "stream",
     "text": [
      "num_leaves, val_score: 0.130643:  25%|############5                                     | 5/20 [00:35<01:42,  6.83s/it][I 2023-11-05 13:58:26,026] Trial 11 finished with value: 0.1306428436733124 and parameters: {'num_leaves': 243}. Best is trial 7 with value: 0.1306428436733124.\n",
      "num_leaves, val_score: 0.130643:  25%|############5                                     | 5/20 [00:35<01:42,  6.83s/it]"
     ]
    },
    {
     "name": "stdout",
     "output_type": "stream",
     "text": [
      "Early stopping, best iteration is:\n",
      "[365]\tcv_agg's l2: 0.130643 + 0.0274677\n",
      "[100]\tcv_agg's l2: 0.13632 + 0.0305262\n",
      "[200]\tcv_agg's l2: 0.131457 + 0.0277485\n",
      "[300]\tcv_agg's l2: 0.130898 + 0.0277215\n",
      "[400]\tcv_agg's l2: 0.130847 + 0.0273477\n"
     ]
    },
    {
     "name": "stderr",
     "output_type": "stream",
     "text": [
      "num_leaves, val_score: 0.130643:  30%|###############                                   | 6/20 [00:43<01:41,  7.24s/it][I 2023-11-05 13:58:34,057] Trial 12 finished with value: 0.1306428436733124 and parameters: {'num_leaves': 190}. Best is trial 7 with value: 0.1306428436733124.\n",
      "num_leaves, val_score: 0.130643:  30%|###############                                   | 6/20 [00:43<01:41,  7.24s/it]"
     ]
    },
    {
     "name": "stdout",
     "output_type": "stream",
     "text": [
      "Early stopping, best iteration is:\n",
      "[365]\tcv_agg's l2: 0.130643 + 0.0274677\n",
      "[100]\tcv_agg's l2: 0.13632 + 0.0305262\n",
      "[200]\tcv_agg's l2: 0.131457 + 0.0277485\n",
      "[300]\tcv_agg's l2: 0.130898 + 0.0277215\n",
      "[400]\tcv_agg's l2: 0.130847 + 0.0273477\n"
     ]
    },
    {
     "name": "stderr",
     "output_type": "stream",
     "text": [
      "num_leaves, val_score: 0.130643:  35%|#################5                                | 7/20 [00:51<01:38,  7.55s/it][I 2023-11-05 13:58:42,259] Trial 13 finished with value: 0.1306428436733124 and parameters: {'num_leaves': 102}. Best is trial 7 with value: 0.1306428436733124.\n",
      "num_leaves, val_score: 0.130643:  35%|#################5                                | 7/20 [00:51<01:38,  7.55s/it]"
     ]
    },
    {
     "name": "stdout",
     "output_type": "stream",
     "text": [
      "Early stopping, best iteration is:\n",
      "[365]\tcv_agg's l2: 0.130643 + 0.0274677\n",
      "[100]\tcv_agg's l2: 0.13632 + 0.0305262\n",
      "[200]\tcv_agg's l2: 0.131457 + 0.0277485\n",
      "[300]\tcv_agg's l2: 0.130898 + 0.0277215\n",
      "[400]\tcv_agg's l2: 0.130847 + 0.0273477\n"
     ]
    },
    {
     "name": "stderr",
     "output_type": "stream",
     "text": [
      "num_leaves, val_score: 0.130643:  40%|####################                              | 8/20 [00:59<01:34,  7.86s/it][I 2023-11-05 13:58:50,767] Trial 14 finished with value: 0.1306428436733124 and parameters: {'num_leaves': 256}. Best is trial 7 with value: 0.1306428436733124.\n",
      "num_leaves, val_score: 0.130643:  40%|####################                              | 8/20 [00:59<01:34,  7.86s/it]"
     ]
    },
    {
     "name": "stdout",
     "output_type": "stream",
     "text": [
      "Early stopping, best iteration is:\n",
      "[365]\tcv_agg's l2: 0.130643 + 0.0274677\n",
      "[100]\tcv_agg's l2: 0.13632 + 0.0305262\n",
      "[200]\tcv_agg's l2: 0.131457 + 0.0277485\n",
      "[300]\tcv_agg's l2: 0.130898 + 0.0277215\n",
      "[400]\tcv_agg's l2: 0.130847 + 0.0273477\n"
     ]
    },
    {
     "name": "stderr",
     "output_type": "stream",
     "text": [
      "num_leaves, val_score: 0.130643:  45%|######################5                           | 9/20 [01:08<01:30,  8.20s/it][I 2023-11-05 13:58:59,718] Trial 15 finished with value: 0.1306428436733124 and parameters: {'num_leaves': 109}. Best is trial 7 with value: 0.1306428436733124.\n",
      "num_leaves, val_score: 0.130643:  45%|######################5                           | 9/20 [01:08<01:30,  8.20s/it]"
     ]
    },
    {
     "name": "stdout",
     "output_type": "stream",
     "text": [
      "Early stopping, best iteration is:\n",
      "[365]\tcv_agg's l2: 0.130643 + 0.0274677\n",
      "[100]\tcv_agg's l2: 0.13632 + 0.0305262\n",
      "[200]\tcv_agg's l2: 0.131457 + 0.0277485\n",
      "[300]\tcv_agg's l2: 0.130898 + 0.0277215\n",
      "[400]\tcv_agg's l2: 0.130847 + 0.0273477\n"
     ]
    },
    {
     "name": "stderr",
     "output_type": "stream",
     "text": [
      "num_leaves, val_score: 0.130643:  50%|########################5                        | 10/20 [01:18<01:27,  8.71s/it][I 2023-11-05 13:59:09,575] Trial 16 finished with value: 0.1306428436733124 and parameters: {'num_leaves': 192}. Best is trial 7 with value: 0.1306428436733124.\n",
      "num_leaves, val_score: 0.130643:  50%|########################5                        | 10/20 [01:18<01:27,  8.71s/it]"
     ]
    },
    {
     "name": "stdout",
     "output_type": "stream",
     "text": [
      "Early stopping, best iteration is:\n",
      "[365]\tcv_agg's l2: 0.130643 + 0.0274677\n",
      "[100]\tcv_agg's l2: 0.13632 + 0.0305262\n",
      "[200]\tcv_agg's l2: 0.131457 + 0.0277485\n",
      "[300]\tcv_agg's l2: 0.130898 + 0.0277215\n",
      "[400]\tcv_agg's l2: 0.130847 + 0.0273477\n"
     ]
    },
    {
     "name": "stderr",
     "output_type": "stream",
     "text": [
      "num_leaves, val_score: 0.130643:  55%|##########################9                      | 11/20 [01:29<01:24,  9.40s/it][I 2023-11-05 13:59:20,534] Trial 17 finished with value: 0.1306428436733124 and parameters: {'num_leaves': 67}. Best is trial 7 with value: 0.1306428436733124.\n",
      "num_leaves, val_score: 0.130643:  55%|##########################9                      | 11/20 [01:29<01:24,  9.40s/it]"
     ]
    },
    {
     "name": "stdout",
     "output_type": "stream",
     "text": [
      "Early stopping, best iteration is:\n",
      "[365]\tcv_agg's l2: 0.130643 + 0.0274677\n",
      "[100]\tcv_agg's l2: 0.13632 + 0.0305262\n",
      "[200]\tcv_agg's l2: 0.131457 + 0.0277485\n",
      "[300]\tcv_agg's l2: 0.130898 + 0.0277215\n",
      "[400]\tcv_agg's l2: 0.130847 + 0.0273477\n"
     ]
    },
    {
     "name": "stderr",
     "output_type": "stream",
     "text": [
      "num_leaves, val_score: 0.130643:  60%|#############################4                   | 12/20 [01:39<01:15,  9.39s/it][I 2023-11-05 13:59:29,915] Trial 18 finished with value: 0.1306428436733124 and parameters: {'num_leaves': 153}. Best is trial 7 with value: 0.1306428436733124.\n",
      "num_leaves, val_score: 0.130643:  60%|#############################4                   | 12/20 [01:39<01:15,  9.39s/it]"
     ]
    },
    {
     "name": "stdout",
     "output_type": "stream",
     "text": [
      "Early stopping, best iteration is:\n",
      "[365]\tcv_agg's l2: 0.130643 + 0.0274677\n",
      "[100]\tcv_agg's l2: 0.13632 + 0.0305262\n",
      "[200]\tcv_agg's l2: 0.131457 + 0.0277485\n",
      "[300]\tcv_agg's l2: 0.130898 + 0.0277215\n",
      "[400]\tcv_agg's l2: 0.130847 + 0.0273477\n"
     ]
    },
    {
     "name": "stderr",
     "output_type": "stream",
     "text": [
      "num_leaves, val_score: 0.130643:  65%|###############################8                 | 13/20 [01:50<01:10, 10.10s/it][I 2023-11-05 13:59:41,623] Trial 19 finished with value: 0.1306428436733124 and parameters: {'num_leaves': 207}. Best is trial 7 with value: 0.1306428436733124.\n",
      "num_leaves, val_score: 0.130643:  65%|###############################8                 | 13/20 [01:50<01:10, 10.10s/it]"
     ]
    },
    {
     "name": "stdout",
     "output_type": "stream",
     "text": [
      "Early stopping, best iteration is:\n",
      "[365]\tcv_agg's l2: 0.130643 + 0.0274677\n",
      "[100]\tcv_agg's l2: 0.13632 + 0.0305262\n",
      "[200]\tcv_agg's l2: 0.131457 + 0.0277485\n",
      "[300]\tcv_agg's l2: 0.130898 + 0.0277215\n",
      "[400]\tcv_agg's l2: 0.130847 + 0.0273477\n"
     ]
    },
    {
     "name": "stderr",
     "output_type": "stream",
     "text": [
      "num_leaves, val_score: 0.130643:  70%|##################################3              | 14/20 [02:01<01:02, 10.40s/it][I 2023-11-05 13:59:52,742] Trial 20 finished with value: 0.1306428436733124 and parameters: {'num_leaves': 130}. Best is trial 7 with value: 0.1306428436733124.\n",
      "num_leaves, val_score: 0.130643:  70%|##################################3              | 14/20 [02:01<01:02, 10.40s/it]"
     ]
    },
    {
     "name": "stdout",
     "output_type": "stream",
     "text": [
      "Early stopping, best iteration is:\n",
      "[365]\tcv_agg's l2: 0.130643 + 0.0274677\n",
      "[100]\tcv_agg's l2: 0.13632 + 0.0305262\n",
      "[200]\tcv_agg's l2: 0.131457 + 0.0277485\n",
      "[300]\tcv_agg's l2: 0.130898 + 0.0277215\n",
      "[400]\tcv_agg's l2: 0.130847 + 0.0273477\n"
     ]
    },
    {
     "name": "stderr",
     "output_type": "stream",
     "text": [
      "num_leaves, val_score: 0.130643:  75%|####################################7            | 15/20 [02:13<00:53, 10.77s/it][I 2023-11-05 14:00:04,347] Trial 21 finished with value: 0.1306428436733124 and parameters: {'num_leaves': 166}. Best is trial 7 with value: 0.1306428436733124.\n",
      "num_leaves, val_score: 0.130643:  75%|####################################7            | 15/20 [02:13<00:53, 10.77s/it]"
     ]
    },
    {
     "name": "stdout",
     "output_type": "stream",
     "text": [
      "Early stopping, best iteration is:\n",
      "[365]\tcv_agg's l2: 0.130643 + 0.0274677\n",
      "[100]\tcv_agg's l2: 0.13632 + 0.0305262\n",
      "[200]\tcv_agg's l2: 0.131457 + 0.0277485\n",
      "[300]\tcv_agg's l2: 0.130898 + 0.0277215\n",
      "[400]\tcv_agg's l2: 0.130847 + 0.0273477\n"
     ]
    },
    {
     "name": "stderr",
     "output_type": "stream",
     "text": [
      "num_leaves, val_score: 0.130643:  80%|#######################################2         | 16/20 [02:24<00:43, 10.76s/it][I 2023-11-05 14:00:15,106] Trial 22 finished with value: 0.1306428436733124 and parameters: {'num_leaves': 216}. Best is trial 7 with value: 0.1306428436733124.\n",
      "num_leaves, val_score: 0.130643:  80%|#######################################2         | 16/20 [02:24<00:43, 10.76s/it]"
     ]
    },
    {
     "name": "stdout",
     "output_type": "stream",
     "text": [
      "Early stopping, best iteration is:\n",
      "[365]\tcv_agg's l2: 0.130643 + 0.0274677\n",
      "[100]\tcv_agg's l2: 0.13632 + 0.0305262\n",
      "[200]\tcv_agg's l2: 0.131457 + 0.0277485\n",
      "[300]\tcv_agg's l2: 0.130898 + 0.0277215\n",
      "[400]\tcv_agg's l2: 0.130847 + 0.0273477\n"
     ]
    },
    {
     "name": "stderr",
     "output_type": "stream",
     "text": [
      "num_leaves, val_score: 0.130643:  85%|#########################################6       | 17/20 [02:34<00:31, 10.55s/it][I 2023-11-05 14:00:25,146] Trial 23 finished with value: 0.1306428436733124 and parameters: {'num_leaves': 157}. Best is trial 7 with value: 0.1306428436733124.\n",
      "num_leaves, val_score: 0.130643:  85%|#########################################6       | 17/20 [02:34<00:31, 10.55s/it]"
     ]
    },
    {
     "name": "stdout",
     "output_type": "stream",
     "text": [
      "Early stopping, best iteration is:\n",
      "[365]\tcv_agg's l2: 0.130643 + 0.0274677\n",
      "[100]\tcv_agg's l2: 0.13632 + 0.0305262\n",
      "[200]\tcv_agg's l2: 0.131457 + 0.0277485\n",
      "[300]\tcv_agg's l2: 0.130898 + 0.0277215\n",
      "[400]\tcv_agg's l2: 0.130847 + 0.0273477\n"
     ]
    },
    {
     "name": "stderr",
     "output_type": "stream",
     "text": [
      "num_leaves, val_score: 0.130643:  90%|############################################1    | 18/20 [02:44<00:20, 10.45s/it][I 2023-11-05 14:00:35,373] Trial 24 finished with value: 0.1306428436733124 and parameters: {'num_leaves': 231}. Best is trial 7 with value: 0.1306428436733124.\n",
      "num_leaves, val_score: 0.130643:  90%|############################################1    | 18/20 [02:44<00:20, 10.45s/it]"
     ]
    },
    {
     "name": "stdout",
     "output_type": "stream",
     "text": [
      "Early stopping, best iteration is:\n",
      "[365]\tcv_agg's l2: 0.130643 + 0.0274677\n",
      "[100]\tcv_agg's l2: 0.13632 + 0.0305262\n",
      "[200]\tcv_agg's l2: 0.131457 + 0.0277485\n",
      "[300]\tcv_agg's l2: 0.130898 + 0.0277215\n",
      "[400]\tcv_agg's l2: 0.130847 + 0.0273477\n"
     ]
    },
    {
     "name": "stderr",
     "output_type": "stream",
     "text": [
      "num_leaves, val_score: 0.130643:  95%|##############################################5  | 19/20 [02:56<00:10, 10.78s/it][I 2023-11-05 14:00:46,916] Trial 25 finished with value: 0.1306428436733124 and parameters: {'num_leaves': 177}. Best is trial 7 with value: 0.1306428436733124.\n",
      "num_leaves, val_score: 0.130643:  95%|##############################################5  | 19/20 [02:56<00:10, 10.78s/it]"
     ]
    },
    {
     "name": "stdout",
     "output_type": "stream",
     "text": [
      "Early stopping, best iteration is:\n",
      "[365]\tcv_agg's l2: 0.130643 + 0.0274677\n",
      "[100]\tcv_agg's l2: 0.13632 + 0.0305262\n",
      "[200]\tcv_agg's l2: 0.131457 + 0.0277485\n",
      "[300]\tcv_agg's l2: 0.130898 + 0.0277215\n",
      "[400]\tcv_agg's l2: 0.130847 + 0.0273477\n"
     ]
    },
    {
     "name": "stderr",
     "output_type": "stream",
     "text": [
      "num_leaves, val_score: 0.130643: 100%|#################################################| 20/20 [03:07<00:00, 11.04s/it][I 2023-11-05 14:00:58,551] Trial 26 finished with value: 0.1306428436733124 and parameters: {'num_leaves': 127}. Best is trial 7 with value: 0.1306428436733124.\n",
      "num_leaves, val_score: 0.130643: 100%|#################################################| 20/20 [03:07<00:00,  9.39s/it]\n"
     ]
    },
    {
     "name": "stdout",
     "output_type": "stream",
     "text": [
      "Early stopping, best iteration is:\n",
      "[365]\tcv_agg's l2: 0.130643 + 0.0274677\n"
     ]
    },
    {
     "name": "stderr",
     "output_type": "stream",
     "text": [
      "bagging, val_score: 0.130643:   0%|                                                             | 0/10 [00:00<?, ?it/s]"
     ]
    },
    {
     "name": "stdout",
     "output_type": "stream",
     "text": [
      "[100]\tcv_agg's l2: 0.179195 + 0.0300828\n",
      "[200]\tcv_agg's l2: 0.172075 + 0.029609\n",
      "[300]\tcv_agg's l2: 0.169726 + 0.026279\n",
      "[400]\tcv_agg's l2: 0.16875 + 0.0241965\n"
     ]
    },
    {
     "name": "stderr",
     "output_type": "stream",
     "text": [
      "bagging, val_score: 0.130643:  10%|#####3                                               | 1/10 [00:06<00:54,  6.01s/it][I 2023-11-05 14:01:04,569] Trial 27 finished with value: 0.17082848014925042 and parameters: {'bagging_fraction': 0.475048784254268, 'bagging_freq': 2}. Best is trial 27 with value: 0.17082848014925042.\n",
      "bagging, val_score: 0.130643:  10%|#####3                                               | 1/10 [00:06<00:54,  6.01s/it]"
     ]
    },
    {
     "name": "stdout",
     "output_type": "stream",
     "text": [
      "Early stopping, best iteration is:\n",
      "[365]\tcv_agg's l2: 0.130643 + 0.0274677\n",
      "[100]\tcv_agg's l2: 0.139105 + 0.0270118\n",
      "[200]\tcv_agg's l2: 0.135589 + 0.0245389\n",
      "[300]\tcv_agg's l2: 0.135154 + 0.0241637\n",
      "[400]\tcv_agg's l2: 0.134912 + 0.0244366\n"
     ]
    },
    {
     "name": "stderr",
     "output_type": "stream",
     "text": [
      "bagging, val_score: 0.130643:  20%|##########6                                          | 2/10 [00:23<01:41, 12.63s/it][I 2023-11-05 14:01:21,839] Trial 28 finished with value: 0.13495008216006718 and parameters: {'bagging_fraction': 0.9812653354235392, 'bagging_freq': 7}. Best is trial 28 with value: 0.13495008216006718.\n",
      "bagging, val_score: 0.130643:  20%|##########6                                          | 2/10 [00:23<01:41, 12.63s/it]"
     ]
    },
    {
     "name": "stdout",
     "output_type": "stream",
     "text": [
      "Early stopping, best iteration is:\n",
      "[365]\tcv_agg's l2: 0.130643 + 0.0274677\n",
      "[100]\tcv_agg's l2: 0.201847 + 0.0282686\n",
      "[200]\tcv_agg's l2: 0.186232 + 0.030481\n",
      "[300]\tcv_agg's l2: 0.183076 + 0.0349318\n",
      "[400]\tcv_agg's l2: 0.1827 + 0.0367137\n"
     ]
    },
    {
     "name": "stderr",
     "output_type": "stream",
     "text": [
      "bagging, val_score: 0.130643:  30%|###############9                                     | 3/10 [00:27<01:01,  8.83s/it][I 2023-11-05 14:01:26,137] Trial 29 finished with value: 0.1842224211378618 and parameters: {'bagging_fraction': 0.40981980474316604, 'bagging_freq': 6}. Best is trial 28 with value: 0.13495008216006718.\n",
      "bagging, val_score: 0.130643:  30%|###############9                                     | 3/10 [00:27<01:01,  8.83s/it]"
     ]
    },
    {
     "name": "stdout",
     "output_type": "stream",
     "text": [
      "Early stopping, best iteration is:\n",
      "[365]\tcv_agg's l2: 0.130643 + 0.0274677\n",
      "[100]\tcv_agg's l2: 0.154737 + 0.0353464\n",
      "[200]\tcv_agg's l2: 0.150475 + 0.0340681\n",
      "[300]\tcv_agg's l2: 0.150831 + 0.0346369\n",
      "[400]\tcv_agg's l2: 0.150736 + 0.0341114\n"
     ]
    },
    {
     "name": "stderr",
     "output_type": "stream",
     "text": [
      "bagging, val_score: 0.130643:  40%|#####################2                               | 4/10 [00:34<00:49,  8.22s/it][I 2023-11-05 14:01:33,426] Trial 30 finished with value: 0.1508943166046115 and parameters: {'bagging_fraction': 0.7382998732457217, 'bagging_freq': 1}. Best is trial 28 with value: 0.13495008216006718.\n",
      "bagging, val_score: 0.130643:  40%|#####################2                               | 4/10 [00:34<00:49,  8.22s/it]"
     ]
    },
    {
     "name": "stdout",
     "output_type": "stream",
     "text": [
      "Early stopping, best iteration is:\n",
      "[365]\tcv_agg's l2: 0.130643 + 0.0274677\n",
      "[100]\tcv_agg's l2: 0.136998 + 0.0270925\n",
      "[200]\tcv_agg's l2: 0.133432 + 0.0246103\n",
      "[300]\tcv_agg's l2: 0.132137 + 0.0244499\n",
      "[400]\tcv_agg's l2: 0.132228 + 0.0242362\n"
     ]
    },
    {
     "name": "stderr",
     "output_type": "stream",
     "text": [
      "bagging, val_score: 0.130643:  50%|##########################5                          | 5/10 [00:43<00:42,  8.41s/it][I 2023-11-05 14:01:42,185] Trial 31 finished with value: 0.1322766142791066 and parameters: {'bagging_fraction': 0.9831040299538214, 'bagging_freq': 4}. Best is trial 31 with value: 0.1322766142791066.\n",
      "bagging, val_score: 0.130643:  50%|##########################5                          | 5/10 [00:43<00:42,  8.41s/it]"
     ]
    },
    {
     "name": "stdout",
     "output_type": "stream",
     "text": [
      "Early stopping, best iteration is:\n",
      "[365]\tcv_agg's l2: 0.130643 + 0.0274677\n",
      "[100]\tcv_agg's l2: 0.170698 + 0.0349653\n",
      "[200]\tcv_agg's l2: 0.161512 + 0.0314802\n",
      "[300]\tcv_agg's l2: 0.159609 + 0.0283572\n",
      "[400]\tcv_agg's l2: 0.160589 + 0.0283884\n"
     ]
    },
    {
     "name": "stderr",
     "output_type": "stream",
     "text": [
      "bagging, val_score: 0.130643:  60%|###############################8                     | 6/10 [00:49<00:30,  7.67s/it][I 2023-11-05 14:01:48,418] Trial 32 finished with value: 0.15989988732848487 and parameters: {'bagging_fraction': 0.6533302142281976, 'bagging_freq': 4}. Best is trial 31 with value: 0.1322766142791066.\n",
      "bagging, val_score: 0.130643:  60%|###############################8                     | 6/10 [00:49<00:30,  7.67s/it]"
     ]
    },
    {
     "name": "stdout",
     "output_type": "stream",
     "text": [
      "Early stopping, best iteration is:\n",
      "[365]\tcv_agg's l2: 0.130643 + 0.0274677\n",
      "[100]\tcv_agg's l2: 0.161131 + 0.0365181\n",
      "[200]\tcv_agg's l2: 0.157902 + 0.0329145\n",
      "[300]\tcv_agg's l2: 0.158094 + 0.0318542\n",
      "[400]\tcv_agg's l2: 0.15857 + 0.032789\n"
     ]
    },
    {
     "name": "stderr",
     "output_type": "stream",
     "text": [
      "bagging, val_score: 0.130643:  70%|#####################################                | 7/10 [00:56<00:22,  7.44s/it][I 2023-11-05 14:01:55,390] Trial 33 finished with value: 0.15833984739704202 and parameters: {'bagging_fraction': 0.7380519108612512, 'bagging_freq': 3}. Best is trial 31 with value: 0.1322766142791066.\n",
      "bagging, val_score: 0.130643:  70%|#####################################                | 7/10 [00:56<00:22,  7.44s/it]"
     ]
    },
    {
     "name": "stdout",
     "output_type": "stream",
     "text": [
      "Early stopping, best iteration is:\n",
      "[365]\tcv_agg's l2: 0.130643 + 0.0274677\n",
      "[100]\tcv_agg's l2: 0.170267 + 0.0216501\n",
      "[200]\tcv_agg's l2: 0.162699 + 0.026353\n",
      "[300]\tcv_agg's l2: 0.16279 + 0.0266363\n",
      "[400]\tcv_agg's l2: 0.162552 + 0.0244669\n"
     ]
    },
    {
     "name": "stderr",
     "output_type": "stream",
     "text": [
      "bagging, val_score: 0.130643:  80%|##########################################4          | 8/10 [01:02<00:13,  6.92s/it][I 2023-11-05 14:02:01,201] Trial 34 finished with value: 0.16278721875148938 and parameters: {'bagging_fraction': 0.5654288512622808, 'bagging_freq': 6}. Best is trial 31 with value: 0.1322766142791066.\n",
      "bagging, val_score: 0.130643:  80%|##########################################4          | 8/10 [01:02<00:13,  6.92s/it]"
     ]
    },
    {
     "name": "stdout",
     "output_type": "stream",
     "text": [
      "Early stopping, best iteration is:\n",
      "[365]\tcv_agg's l2: 0.130643 + 0.0274677\n",
      "[100]\tcv_agg's l2: 0.154485 + 0.0390696\n",
      "[200]\tcv_agg's l2: 0.14976 + 0.0380729\n",
      "[300]\tcv_agg's l2: 0.147444 + 0.0358497\n",
      "[400]\tcv_agg's l2: 0.14754 + 0.0353756\n"
     ]
    },
    {
     "name": "stderr",
     "output_type": "stream",
     "text": [
      "bagging, val_score: 0.130643:  90%|###############################################7     | 9/10 [01:11<00:07,  7.41s/it][I 2023-11-05 14:02:09,674] Trial 35 finished with value: 0.14750303575960616 and parameters: {'bagging_fraction': 0.8458344600298352, 'bagging_freq': 1}. Best is trial 31 with value: 0.1322766142791066.\n",
      "bagging, val_score: 0.130643:  90%|###############################################7     | 9/10 [01:11<00:07,  7.41s/it]"
     ]
    },
    {
     "name": "stdout",
     "output_type": "stream",
     "text": [
      "Early stopping, best iteration is:\n",
      "[365]\tcv_agg's l2: 0.130643 + 0.0274677\n",
      "[100]\tcv_agg's l2: 0.174978 + 0.0355533\n",
      "[200]\tcv_agg's l2: 0.165859 + 0.0344279\n",
      "[300]\tcv_agg's l2: 0.16535 + 0.0298008\n",
      "[400]\tcv_agg's l2: 0.16462 + 0.026092\n"
     ]
    },
    {
     "name": "stderr",
     "output_type": "stream",
     "text": [
      "bagging, val_score: 0.130643: 100%|####################################################| 10/10 [01:18<00:00,  7.45s/it][I 2023-11-05 14:02:17,222] Trial 36 finished with value: 0.16461790566932327 and parameters: {'bagging_fraction': 0.5574396277619279, 'bagging_freq': 5}. Best is trial 31 with value: 0.1322766142791066.\n",
      "bagging, val_score: 0.130643: 100%|####################################################| 10/10 [01:18<00:00,  7.87s/it]\n"
     ]
    },
    {
     "name": "stdout",
     "output_type": "stream",
     "text": [
      "Early stopping, best iteration is:\n",
      "[365]\tcv_agg's l2: 0.130643 + 0.0274677\n"
     ]
    },
    {
     "name": "stderr",
     "output_type": "stream",
     "text": [
      "feature_fraction_stage2, val_score: 0.130643:   0%|                                              | 0/6 [00:00<?, ?it/s]"
     ]
    },
    {
     "name": "stdout",
     "output_type": "stream",
     "text": [
      "[100]\tcv_agg's l2: 0.148965 + 0.0386458\n",
      "[200]\tcv_agg's l2: 0.144979 + 0.0370178\n",
      "[300]\tcv_agg's l2: 0.144161 + 0.0357932\n",
      "[400]\tcv_agg's l2: 0.143866 + 0.0349748\n"
     ]
    },
    {
     "name": "stderr",
     "output_type": "stream",
     "text": [
      "feature_fraction_stage2, val_score: 0.130643:  17%|######3                               | 1/6 [00:09<00:48,  9.69s/it][I 2023-11-05 14:02:26,916] Trial 37 finished with value: 0.14398381449207992 and parameters: {'feature_fraction': 0.58}. Best is trial 37 with value: 0.14398381449207992.\n",
      "feature_fraction_stage2, val_score: 0.130643:  17%|######3                               | 1/6 [00:09<00:48,  9.69s/it]"
     ]
    },
    {
     "name": "stdout",
     "output_type": "stream",
     "text": [
      "Early stopping, best iteration is:\n",
      "[365]\tcv_agg's l2: 0.130643 + 0.0274677\n",
      "[100]\tcv_agg's l2: 0.141749 + 0.0282936\n",
      "[200]\tcv_agg's l2: 0.138342 + 0.0282231\n",
      "[300]\tcv_agg's l2: 0.137297 + 0.0265256\n",
      "[400]\tcv_agg's l2: 0.137154 + 0.0261782\n"
     ]
    },
    {
     "name": "stderr",
     "output_type": "stream",
     "text": [
      "feature_fraction_stage2, val_score: 0.130643:  33%|############6                         | 2/6 [00:18<00:35,  8.96s/it][I 2023-11-05 14:02:35,370] Trial 38 finished with value: 0.13710917072365242 and parameters: {'feature_fraction': 0.5479999999999999}. Best is trial 38 with value: 0.13710917072365242.\n",
      "feature_fraction_stage2, val_score: 0.130643:  33%|############6                         | 2/6 [00:18<00:35,  8.96s/it]"
     ]
    },
    {
     "name": "stdout",
     "output_type": "stream",
     "text": [
      "Early stopping, best iteration is:\n",
      "[365]\tcv_agg's l2: 0.130643 + 0.0274677\n",
      "[100]\tcv_agg's l2: 0.138415 + 0.0286472\n",
      "[200]\tcv_agg's l2: 0.135389 + 0.0260972\n",
      "[300]\tcv_agg's l2: 0.134693 + 0.0258208\n",
      "[400]\tcv_agg's l2: 0.134421 + 0.0258137\n"
     ]
    },
    {
     "name": "stderr",
     "output_type": "stream",
     "text": [
      "feature_fraction_stage2, val_score: 0.130643:  50%|###################                   | 3/6 [00:26<00:25,  8.65s/it][I 2023-11-05 14:02:43,656] Trial 39 finished with value: 0.1346112952340922 and parameters: {'feature_fraction': 0.45199999999999996}. Best is trial 39 with value: 0.1346112952340922.\n",
      "feature_fraction_stage2, val_score: 0.130643:  50%|###################                   | 3/6 [00:26<00:25,  8.65s/it]"
     ]
    },
    {
     "name": "stdout",
     "output_type": "stream",
     "text": [
      "Early stopping, best iteration is:\n",
      "[365]\tcv_agg's l2: 0.130643 + 0.0274677\n",
      "[100]\tcv_agg's l2: 0.14224 + 0.0333368\n",
      "[200]\tcv_agg's l2: 0.137869 + 0.031954\n",
      "[300]\tcv_agg's l2: 0.137393 + 0.031388\n",
      "[400]\tcv_agg's l2: 0.137207 + 0.0311258\n"
     ]
    },
    {
     "name": "stderr",
     "output_type": "stream",
     "text": [
      "feature_fraction_stage2, val_score: 0.130643:  67%|#########################3            | 4/6 [00:34<00:16,  8.35s/it][I 2023-11-05 14:02:51,529] Trial 40 finished with value: 0.13716453182164004 and parameters: {'feature_fraction': 0.516}. Best is trial 39 with value: 0.1346112952340922.\n",
      "feature_fraction_stage2, val_score: 0.130643:  67%|#########################3            | 4/6 [00:34<00:16,  8.35s/it]"
     ]
    },
    {
     "name": "stdout",
     "output_type": "stream",
     "text": [
      "Early stopping, best iteration is:\n",
      "[365]\tcv_agg's l2: 0.130643 + 0.0274677\n",
      "[100]\tcv_agg's l2: 0.136932 + 0.0312905\n",
      "[200]\tcv_agg's l2: 0.131756 + 0.0294936\n",
      "[300]\tcv_agg's l2: 0.131462 + 0.0293966\n",
      "[400]\tcv_agg's l2: 0.131162 + 0.0292877\n"
     ]
    },
    {
     "name": "stderr",
     "output_type": "stream",
     "text": [
      "feature_fraction_stage2, val_score: 0.130643:  83%|###############################6      | 5/6 [00:42<00:08,  8.45s/it][I 2023-11-05 14:03:00,152] Trial 41 finished with value: 0.1312083966160456 and parameters: {'feature_fraction': 0.484}. Best is trial 41 with value: 0.1312083966160456.\n",
      "feature_fraction_stage2, val_score: 0.130643:  83%|###############################6      | 5/6 [00:42<00:08,  8.45s/it]"
     ]
    },
    {
     "name": "stdout",
     "output_type": "stream",
     "text": [
      "Early stopping, best iteration is:\n",
      "[365]\tcv_agg's l2: 0.130643 + 0.0274677\n",
      "[100]\tcv_agg's l2: 0.132209 + 0.028162\n",
      "[200]\tcv_agg's l2: 0.130029 + 0.0254954\n",
      "[300]\tcv_agg's l2: 0.129447 + 0.0252933\n",
      "[400]\tcv_agg's l2: 0.128965 + 0.0248093\n",
      "[500]\tcv_agg's l2: 0.12898 + 0.0244286\n"
     ]
    },
    {
     "name": "stderr",
     "output_type": "stream",
     "text": [
      "feature_fraction_stage2, val_score: 0.128933: 100%|######################################| 6/6 [00:54<00:00,  9.37s/it][I 2023-11-05 14:03:11,327] Trial 42 finished with value: 0.12893289444848363 and parameters: {'feature_fraction': 0.42}. Best is trial 42 with value: 0.12893289444848363.\n",
      "feature_fraction_stage2, val_score: 0.128933: 100%|######################################| 6/6 [00:54<00:00,  9.02s/it]\n"
     ]
    },
    {
     "name": "stdout",
     "output_type": "stream",
     "text": [
      "Early stopping, best iteration is:\n",
      "[489]\tcv_agg's l2: 0.128933 + 0.0244935\n"
     ]
    },
    {
     "name": "stderr",
     "output_type": "stream",
     "text": [
      "regularization_factors, val_score: 0.128933:   0%|                                              | 0/20 [00:00<?, ?it/s]"
     ]
    },
    {
     "name": "stdout",
     "output_type": "stream",
     "text": [
      "[100]\tcv_agg's l2: 0.134565 + 0.0281956\n",
      "[200]\tcv_agg's l2: 0.131487 + 0.0279887\n",
      "[300]\tcv_agg's l2: 0.130844 + 0.0278171\n",
      "[400]\tcv_agg's l2: 0.130705 + 0.0273519\n",
      "[500]\tcv_agg's l2: 0.130977 + 0.0275226\n"
     ]
    },
    {
     "name": "stderr",
     "output_type": "stream",
     "text": [
      "regularization_factors, val_score: 0.128933:   5%|#9                                    | 1/20 [00:10<03:10, 10.03s/it][I 2023-11-05 14:03:21,366] Trial 43 finished with value: 0.13097264937005146 and parameters: {'lambda_l1': 2.3130128688706218e-08, 'lambda_l2': 0.19014308784579564}. Best is trial 43 with value: 0.13097264937005146.\n",
      "regularization_factors, val_score: 0.128933:   5%|#9                                    | 1/20 [00:10<03:10, 10.03s/it]"
     ]
    },
    {
     "name": "stdout",
     "output_type": "stream",
     "text": [
      "Early stopping, best iteration is:\n",
      "[489]\tcv_agg's l2: 0.128933 + 0.0244935\n",
      "[100]\tcv_agg's l2: 0.155679 + 0.0332239\n",
      "[200]\tcv_agg's l2: 0.150715 + 0.0321698\n",
      "[300]\tcv_agg's l2: 0.150678 + 0.0322006\n",
      "[400]\tcv_agg's l2: 0.150679 + 0.0321891\n"
     ]
    },
    {
     "name": "stderr",
     "output_type": "stream",
     "text": [
      "regularization_factors, val_score: 0.128933:  10%|###8                                  | 2/20 [00:11<01:34,  5.26s/it][I 2023-11-05 14:03:23,294] Trial 44 finished with value: 0.15067879424161384 and parameters: {'lambda_l1': 3.0039516850555636, 'lambda_l2': 1.716121158757365e-08}. Best is trial 43 with value: 0.13097264937005146.\n",
      "regularization_factors, val_score: 0.128933:  10%|###8                                  | 2/20 [00:11<01:34,  5.26s/it]"
     ]
    },
    {
     "name": "stdout",
     "output_type": "stream",
     "text": [
      "[500]\tcv_agg's l2: 0.150679 + 0.0321891\n",
      "Early stopping, best iteration is:\n",
      "[489]\tcv_agg's l2: 0.128933 + 0.0244935\n",
      "[100]\tcv_agg's l2: 0.139678 + 0.0284682\n",
      "[200]\tcv_agg's l2: 0.134372 + 0.0257531\n",
      "[300]\tcv_agg's l2: 0.133332 + 0.0253409\n",
      "[400]\tcv_agg's l2: 0.132796 + 0.025067\n",
      "[500]\tcv_agg's l2: 0.132718 + 0.0247655\n"
     ]
    },
    {
     "name": "stderr",
     "output_type": "stream",
     "text": [
      "regularization_factors, val_score: 0.128933:  15%|#####7                                | 3/20 [00:18<01:40,  5.92s/it][I 2023-11-05 14:03:29,989] Trial 45 finished with value: 0.13267053009078106 and parameters: {'lambda_l1': 0.00016506041238440592, 'lambda_l2': 2.9515832521850283}. Best is trial 43 with value: 0.13097264937005146.\n",
      "regularization_factors, val_score: 0.128933:  15%|#####7                                | 3/20 [00:18<01:40,  5.92s/it]"
     ]
    },
    {
     "name": "stdout",
     "output_type": "stream",
     "text": [
      "Early stopping, best iteration is:\n",
      "[489]\tcv_agg's l2: 0.128933 + 0.0244935\n",
      "[100]\tcv_agg's l2: 0.182586 + 0.0340454\n",
      "[200]\tcv_agg's l2: 0.180021 + 0.0331847\n",
      "[300]\tcv_agg's l2: 0.180016 + 0.0331873\n",
      "[400]\tcv_agg's l2: 0.180015 + 0.0331877\n",
      "[500]\tcv_agg's l2: 0.180015 + 0.0331877\n"
     ]
    },
    {
     "name": "stderr",
     "output_type": "stream",
     "text": [
      "regularization_factors, val_score: 0.128933:  20%|#######6                              | 4/20 [00:20<01:11,  4.45s/it][I 2023-11-05 14:03:32,193] Trial 46 finished with value: 0.180014993439643 and parameters: {'lambda_l1': 6.923812768643716, 'lambda_l2': 1.6772687453559567e-05}. Best is trial 43 with value: 0.13097264937005146.\n",
      "regularization_factors, val_score: 0.128933:  20%|#######6                              | 4/20 [00:20<01:11,  4.45s/it]"
     ]
    },
    {
     "name": "stdout",
     "output_type": "stream",
     "text": [
      "Early stopping, best iteration is:\n",
      "[489]\tcv_agg's l2: 0.128933 + 0.0244935\n",
      "[100]\tcv_agg's l2: 0.132062 + 0.0284816\n",
      "[200]\tcv_agg's l2: 0.129391 + 0.0279108\n",
      "[300]\tcv_agg's l2: 0.128264 + 0.0277242\n",
      "[400]\tcv_agg's l2: 0.12802 + 0.0277882\n"
     ]
    },
    {
     "name": "stderr",
     "output_type": "stream",
     "text": [
      "regularization_factors, val_score: 0.127901:  25%|#########5                            | 5/20 [00:27<01:19,  5.28s/it][I 2023-11-05 14:03:38,934] Trial 47 finished with value: 0.12790077788593332 and parameters: {'lambda_l1': 2.219922735628003e-07, 'lambda_l2': 0.001247953299151923}. Best is trial 47 with value: 0.12790077788593332.\n",
      "regularization_factors, val_score: 0.127901:  25%|#########5                            | 5/20 [00:27<01:19,  5.28s/it]"
     ]
    },
    {
     "name": "stdout",
     "output_type": "stream",
     "text": [
      "Early stopping, best iteration is:\n",
      "[383]\tcv_agg's l2: 0.127901 + 0.0277743\n",
      "[100]\tcv_agg's l2: 0.132012 + 0.0284137\n",
      "[200]\tcv_agg's l2: 0.128539 + 0.0267754\n",
      "[300]\tcv_agg's l2: 0.127519 + 0.0265503\n",
      "[400]\tcv_agg's l2: 0.12728 + 0.0266421\n"
     ]
    },
    {
     "name": "stderr",
     "output_type": "stream",
     "text": [
      "regularization_factors, val_score: 0.127171:  30%|###########4                          | 6/20 [00:33<01:15,  5.37s/it][I 2023-11-05 14:03:44,478] Trial 48 finished with value: 0.12717115245784588 and parameters: {'lambda_l1': 3.761921035208209e-08, 'lambda_l2': 0.0013254483245010622}. Best is trial 48 with value: 0.12717115245784588.\n",
      "regularization_factors, val_score: 0.127171:  30%|###########4                          | 6/20 [00:33<01:15,  5.37s/it]"
     ]
    },
    {
     "name": "stdout",
     "output_type": "stream",
     "text": [
      "Early stopping, best iteration is:\n",
      "[368]\tcv_agg's l2: 0.127171 + 0.0265941\n",
      "[100]\tcv_agg's l2: 0.13253 + 0.0286952\n",
      "[200]\tcv_agg's l2: 0.129052 + 0.0271762\n",
      "[300]\tcv_agg's l2: 0.128275 + 0.0272983\n",
      "[400]\tcv_agg's l2: 0.128199 + 0.0272483\n"
     ]
    },
    {
     "name": "stderr",
     "output_type": "stream",
     "text": [
      "regularization_factors, val_score: 0.127171:  35%|#############3                        | 7/20 [00:39<01:15,  5.82s/it][I 2023-11-05 14:03:51,242] Trial 49 finished with value: 0.12820231547039762 and parameters: {'lambda_l1': 1.0677238095259673e-08, 'lambda_l2': 0.0007332550998884412}. Best is trial 48 with value: 0.12717115245784588.\n",
      "regularization_factors, val_score: 0.127171:  35%|#############3                        | 7/20 [00:39<01:15,  5.82s/it]"
     ]
    },
    {
     "name": "stdout",
     "output_type": "stream",
     "text": [
      "Early stopping, best iteration is:\n",
      "[368]\tcv_agg's l2: 0.127171 + 0.0265941\n",
      "[100]\tcv_agg's l2: 0.131778 + 0.0281814\n",
      "[200]\tcv_agg's l2: 0.127699 + 0.0259842\n",
      "[300]\tcv_agg's l2: 0.127213 + 0.0257435\n",
      "[400]\tcv_agg's l2: 0.127206 + 0.0257704\n"
     ]
    },
    {
     "name": "stderr",
     "output_type": "stream",
     "text": [
      "regularization_factors, val_score: 0.127121:  40%|###############2                      | 8/20 [00:46<01:13,  6.09s/it][I 2023-11-05 14:03:57,895] Trial 50 finished with value: 0.1271212416890595 and parameters: {'lambda_l1': 1.2167557112228009e-08, 'lambda_l2': 0.0015947179724224542}. Best is trial 50 with value: 0.1271212416890595.\n",
      "regularization_factors, val_score: 0.127121:  40%|###############2                      | 8/20 [00:46<01:13,  6.09s/it]"
     ]
    },
    {
     "name": "stdout",
     "output_type": "stream",
     "text": [
      "Early stopping, best iteration is:\n",
      "[332]\tcv_agg's l2: 0.127121 + 0.0257752\n",
      "[100]\tcv_agg's l2: 0.132062 + 0.0284816\n",
      "[200]\tcv_agg's l2: 0.129391 + 0.0279108\n",
      "[300]\tcv_agg's l2: 0.128311 + 0.0276133\n",
      "[400]\tcv_agg's l2: 0.127962 + 0.0275601\n"
     ]
    },
    {
     "name": "stderr",
     "output_type": "stream",
     "text": [
      "regularization_factors, val_score: 0.127121:  45%|#################1                    | 9/20 [00:52<01:05,  5.92s/it][I 2023-11-05 14:04:03,449] Trial 51 finished with value: 0.1282327674435918 and parameters: {'lambda_l1': 1.0292488510815602e-08, 'lambda_l2': 0.0012697453475440889}. Best is trial 50 with value: 0.1271212416890595.\n",
      "regularization_factors, val_score: 0.127121:  45%|#################1                    | 9/20 [00:52<01:05,  5.92s/it]"
     ]
    },
    {
     "name": "stdout",
     "output_type": "stream",
     "text": [
      "Early stopping, best iteration is:\n",
      "[332]\tcv_agg's l2: 0.127121 + 0.0257752\n",
      "[100]\tcv_agg's l2: 0.132432 + 0.028991\n",
      "[200]\tcv_agg's l2: 0.129576 + 0.0281635\n",
      "[300]\tcv_agg's l2: 0.128512 + 0.0278912\n",
      "[400]\tcv_agg's l2: 0.128229 + 0.0279299\n"
     ]
    },
    {
     "name": "stderr",
     "output_type": "stream",
     "text": [
      "regularization_factors, val_score: 0.127121:  50%|##################5                  | 10/20 [00:59<01:02,  6.26s/it][I 2023-11-05 14:04:10,469] Trial 52 finished with value: 0.12832869402119126 and parameters: {'lambda_l1': 1.0817877813628974e-08, 'lambda_l2': 0.001007659197221812}. Best is trial 50 with value: 0.1271212416890595.\n",
      "regularization_factors, val_score: 0.127121:  50%|##################5                  | 10/20 [00:59<01:02,  6.26s/it]"
     ]
    },
    {
     "name": "stdout",
     "output_type": "stream",
     "text": [
      "Early stopping, best iteration is:\n",
      "[332]\tcv_agg's l2: 0.127121 + 0.0257752\n",
      "[100]\tcv_agg's l2: 0.132062 + 0.0284816\n",
      "[200]\tcv_agg's l2: 0.129391 + 0.0279108\n",
      "[300]\tcv_agg's l2: 0.128311 + 0.0276134\n",
      "[400]\tcv_agg's l2: 0.127962 + 0.0275601\n"
     ]
    },
    {
     "name": "stderr",
     "output_type": "stream",
     "text": [
      "regularization_factors, val_score: 0.127121:  55%|####################3                | 11/20 [01:06<00:58,  6.54s/it][I 2023-11-05 14:04:17,644] Trial 53 finished with value: 0.12823278157436513 and parameters: {'lambda_l1': 1.0562858302947494e-08, 'lambda_l2': 0.0012433792911950724}. Best is trial 50 with value: 0.1271212416890595.\n",
      "regularization_factors, val_score: 0.127121:  55%|####################3                | 11/20 [01:06<00:58,  6.54s/it]"
     ]
    },
    {
     "name": "stdout",
     "output_type": "stream",
     "text": [
      "Early stopping, best iteration is:\n",
      "[332]\tcv_agg's l2: 0.127121 + 0.0257752\n",
      "[100]\tcv_agg's l2: 0.132062 + 0.0284816\n",
      "[200]\tcv_agg's l2: 0.129392 + 0.0279108\n",
      "[300]\tcv_agg's l2: 0.128311 + 0.0276134\n",
      "[400]\tcv_agg's l2: 0.127962 + 0.0275601\n"
     ]
    },
    {
     "name": "stderr",
     "output_type": "stream",
     "text": [
      "regularization_factors, val_score: 0.127121:  60%|######################2              | 12/20 [01:13<00:53,  6.63s/it][I 2023-11-05 14:04:24,463] Trial 54 finished with value: 0.12823279096899923 and parameters: {'lambda_l1': 1.4242108569415822e-08, 'lambda_l2': 0.0012258582107031904}. Best is trial 50 with value: 0.1271212416890595.\n",
      "regularization_factors, val_score: 0.127121:  60%|######################2              | 12/20 [01:13<00:53,  6.63s/it]"
     ]
    },
    {
     "name": "stdout",
     "output_type": "stream",
     "text": [
      "Early stopping, best iteration is:\n",
      "[332]\tcv_agg's l2: 0.127121 + 0.0257752\n",
      "[100]\tcv_agg's l2: 0.132661 + 0.0288762\n",
      "[200]\tcv_agg's l2: 0.129757 + 0.0280669\n",
      "[300]\tcv_agg's l2: 0.128535 + 0.0278785\n",
      "[400]\tcv_agg's l2: 0.128226 + 0.0279318\n"
     ]
    },
    {
     "name": "stderr",
     "output_type": "stream",
     "text": [
      "regularization_factors, val_score: 0.127121:  65%|########################             | 13/20 [01:19<00:46,  6.63s/it][I 2023-11-05 14:04:31,099] Trial 55 finished with value: 0.12839770896529573 and parameters: {'lambda_l1': 1.0289818946986986e-08, 'lambda_l2': 0.0008398903068808117}. Best is trial 50 with value: 0.1271212416890595.\n",
      "regularization_factors, val_score: 0.127121:  65%|########################             | 13/20 [01:19<00:46,  6.63s/it]"
     ]
    },
    {
     "name": "stdout",
     "output_type": "stream",
     "text": [
      "Early stopping, best iteration is:\n",
      "[332]\tcv_agg's l2: 0.127121 + 0.0257752\n",
      "[100]\tcv_agg's l2: 0.132012 + 0.0284137\n",
      "[200]\tcv_agg's l2: 0.128538 + 0.0267753\n",
      "[300]\tcv_agg's l2: 0.127519 + 0.0265503\n",
      "[400]\tcv_agg's l2: 0.12728 + 0.0266421\n"
     ]
    },
    {
     "name": "stderr",
     "output_type": "stream",
     "text": [
      "regularization_factors, val_score: 0.127121:  70%|#########################9           | 14/20 [01:25<00:38,  6.41s/it][I 2023-11-05 14:04:36,987] Trial 56 finished with value: 0.12741540504901874 and parameters: {'lambda_l1': 2.221580146201646e-08, 'lambda_l2': 0.001516515481543878}. Best is trial 50 with value: 0.1271212416890595.\n",
      "regularization_factors, val_score: 0.127121:  70%|#########################9           | 14/20 [01:25<00:38,  6.41s/it]"
     ]
    },
    {
     "name": "stdout",
     "output_type": "stream",
     "text": [
      "Early stopping, best iteration is:\n",
      "[332]\tcv_agg's l2: 0.127121 + 0.0257752\n",
      "[100]\tcv_agg's l2: 0.133541 + 0.0281867\n",
      "[200]\tcv_agg's l2: 0.130336 + 0.0265292\n",
      "[300]\tcv_agg's l2: 0.129583 + 0.0261556\n",
      "[400]\tcv_agg's l2: 0.129342 + 0.0262016\n"
     ]
    },
    {
     "name": "stderr",
     "output_type": "stream",
     "text": [
      "regularization_factors, val_score: 0.127121:  75%|###########################7         | 15/20 [01:31<00:30,  6.12s/it][I 2023-11-05 14:04:42,437] Trial 57 finished with value: 0.1293349583244638 and parameters: {'lambda_l1': 2.486262692609536e-07, 'lambda_l2': 0.0023776347509785285}. Best is trial 50 with value: 0.1271212416890595.\n",
      "regularization_factors, val_score: 0.127121:  75%|###########################7         | 15/20 [01:31<00:30,  6.12s/it]"
     ]
    },
    {
     "name": "stdout",
     "output_type": "stream",
     "text": [
      "Early stopping, best iteration is:\n",
      "[332]\tcv_agg's l2: 0.127121 + 0.0257752\n",
      "[100]\tcv_agg's l2: 0.134566 + 0.0285065\n",
      "[200]\tcv_agg's l2: 0.131202 + 0.0268205\n",
      "[300]\tcv_agg's l2: 0.130623 + 0.0265611\n",
      "[400]\tcv_agg's l2: 0.130312 + 0.0263235\n"
     ]
    },
    {
     "name": "stderr",
     "output_type": "stream",
     "text": [
      "regularization_factors, val_score: 0.127121:  80%|#############################6       | 16/20 [01:36<00:23,  5.88s/it][I 2023-11-05 14:04:47,775] Trial 58 finished with value: 0.13038752996055017 and parameters: {'lambda_l1': 3.2561978446601184e-07, 'lambda_l2': 0.004313725470502513}. Best is trial 50 with value: 0.1271212416890595.\n",
      "regularization_factors, val_score: 0.127121:  80%|#############################6       | 16/20 [01:36<00:23,  5.88s/it]"
     ]
    },
    {
     "name": "stdout",
     "output_type": "stream",
     "text": [
      "Early stopping, best iteration is:\n",
      "[332]\tcv_agg's l2: 0.127121 + 0.0257752\n",
      "[100]\tcv_agg's l2: 0.132563 + 0.0286908\n",
      "[200]\tcv_agg's l2: 0.129281 + 0.0262578\n",
      "[300]\tcv_agg's l2: 0.128947 + 0.0263062\n",
      "[400]\tcv_agg's l2: 0.128903 + 0.0260749\n"
     ]
    },
    {
     "name": "stderr",
     "output_type": "stream",
     "text": [
      "regularization_factors, val_score: 0.127121:  85%|###############################4     | 17/20 [01:42<00:18,  6.05s/it][I 2023-11-05 14:04:54,230] Trial 59 finished with value: 0.12900549329331185 and parameters: {'lambda_l1': 1.8041017298944576e-07, 'lambda_l2': 0.00014598646745166293}. Best is trial 50 with value: 0.1271212416890595.\n",
      "regularization_factors, val_score: 0.127121:  85%|###############################4     | 17/20 [01:42<00:18,  6.05s/it]"
     ]
    },
    {
     "name": "stdout",
     "output_type": "stream",
     "text": [
      "Early stopping, best iteration is:\n",
      "[332]\tcv_agg's l2: 0.127121 + 0.0257752\n",
      "[100]\tcv_agg's l2: 0.136197 + 0.0259988\n",
      "[200]\tcv_agg's l2: 0.133748 + 0.0256071\n",
      "[300]\tcv_agg's l2: 0.133166 + 0.0251108\n",
      "[400]\tcv_agg's l2: 0.132614 + 0.0247754\n"
     ]
    },
    {
     "name": "stderr",
     "output_type": "stream",
     "text": [
      "regularization_factors, val_score: 0.127121:  90%|#################################3   | 18/20 [01:46<00:10,  5.41s/it][I 2023-11-05 14:04:58,135] Trial 60 finished with value: 0.1329003608100608 and parameters: {'lambda_l1': 2.0796629966458247e-07, 'lambda_l2': 0.015919442008899106}. Best is trial 50 with value: 0.1271212416890595.\n",
      "regularization_factors, val_score: 0.127121:  90%|#################################3   | 18/20 [01:46<00:10,  5.41s/it]"
     ]
    },
    {
     "name": "stdout",
     "output_type": "stream",
     "text": [
      "Early stopping, best iteration is:\n",
      "[332]\tcv_agg's l2: 0.127121 + 0.0257752\n",
      "[100]\tcv_agg's l2: 0.132266 + 0.0293847\n",
      "[200]\tcv_agg's l2: 0.129467 + 0.0271258\n",
      "[300]\tcv_agg's l2: 0.129151 + 0.0271825\n",
      "[400]\tcv_agg's l2: 0.128856 + 0.0271483\n"
     ]
    },
    {
     "name": "stderr",
     "output_type": "stream",
     "text": [
      "regularization_factors, val_score: 0.127121:  95%|###################################1 | 19/20 [01:50<00:04,  4.87s/it][I 2023-11-05 14:05:01,742] Trial 61 finished with value: 0.12907819295553896 and parameters: {'lambda_l1': 1.031722557692809e-08, 'lambda_l2': 0.0003059922194545394}. Best is trial 50 with value: 0.1271212416890595.\n",
      "regularization_factors, val_score: 0.127121:  95%|###################################1 | 19/20 [01:50<00:04,  4.87s/it]"
     ]
    },
    {
     "name": "stdout",
     "output_type": "stream",
     "text": [
      "Early stopping, best iteration is:\n",
      "[332]\tcv_agg's l2: 0.127121 + 0.0257752\n",
      "[100]\tcv_agg's l2: 0.132637 + 0.0278195\n",
      "[200]\tcv_agg's l2: 0.129788 + 0.026274\n",
      "[300]\tcv_agg's l2: 0.129303 + 0.0264954\n",
      "[400]\tcv_agg's l2: 0.128971 + 0.0261166\n",
      "Early stopping, best iteration is:\n",
      "[332]\tcv_agg's l2: 0.127121 + 0.0257752\n"
     ]
    },
    {
     "name": "stderr",
     "output_type": "stream",
     "text": [
      "regularization_factors, val_score: 0.127121: 100%|#####################################| 20/20 [01:53<00:00,  4.42s/it][I 2023-11-05 14:05:05,107] Trial 62 finished with value: 0.12906055107040196 and parameters: {'lambda_l1': 1.0952243777091808e-08, 'lambda_l2': 0.006215567657777461}. Best is trial 50 with value: 0.1271212416890595.\n",
      "regularization_factors, val_score: 0.127121: 100%|#####################################| 20/20 [01:53<00:00,  5.69s/it]\n",
      "min_data_in_leaf, val_score: 0.127121:   0%|                                                     | 0/5 [00:00<?, ?it/s]"
     ]
    },
    {
     "name": "stdout",
     "output_type": "stream",
     "text": [
      "[100]\tcv_agg's l2: 0.125457 + 0.0196479\n",
      "[200]\tcv_agg's l2: 0.123724 + 0.0191578\n",
      "[300]\tcv_agg's l2: 0.123431 + 0.0191398\n",
      "[400]\tcv_agg's l2: 0.12338 + 0.0191318\n",
      "[500]\tcv_agg's l2: 0.123338 + 0.0191176\n"
     ]
    },
    {
     "name": "stderr",
     "output_type": "stream",
     "text": [
      "\r",
      "min_data_in_leaf, val_score: 0.123329:   0%|                                                     | 0/5 [00:05<?, ?it/s]"
     ]
    },
    {
     "name": "stdout",
     "output_type": "stream",
     "text": [
      "[600]\tcv_agg's l2: 0.123344 + 0.0191249\n",
      "Early stopping, best iteration is:\n",
      "[531]\tcv_agg's l2: 0.123329 + 0.0191162\n"
     ]
    },
    {
     "name": "stderr",
     "output_type": "stream",
     "text": [
      "min_data_in_leaf, val_score: 0.123329:  20%|#########                                    | 1/5 [00:05<00:20,  5.09s/it][I 2023-11-05 14:05:10,208] Trial 63 finished with value: 0.12332926130768829 and parameters: {'min_child_samples': 5}. Best is trial 63 with value: 0.12332926130768829.\n",
      "min_data_in_leaf, val_score: 0.123329:  20%|#########                                    | 1/5 [00:05<00:20,  5.09s/it]"
     ]
    },
    {
     "name": "stdout",
     "output_type": "stream",
     "text": [
      "[100]\tcv_agg's l2: 0.151484 + 0.0341525\n",
      "[200]\tcv_agg's l2: 0.147584 + 0.0309512\n",
      "[300]\tcv_agg's l2: 0.146429 + 0.0299722\n",
      "[400]\tcv_agg's l2: 0.146723 + 0.0297539\n",
      "[500]\tcv_agg's l2: 0.14705 + 0.030159\n"
     ]
    },
    {
     "name": "stderr",
     "output_type": "stream",
     "text": [
      "min_data_in_leaf, val_score: 0.123329:  40%|##################                           | 2/5 [00:09<00:13,  4.57s/it][I 2023-11-05 14:05:14,416] Trial 64 finished with value: 0.14709328627227478 and parameters: {'min_child_samples': 25}. Best is trial 63 with value: 0.12332926130768829.\n",
      "min_data_in_leaf, val_score: 0.123329:  40%|##################                           | 2/5 [00:09<00:13,  4.57s/it]"
     ]
    },
    {
     "name": "stdout",
     "output_type": "stream",
     "text": [
      "[600]\tcv_agg's l2: 0.147594 + 0.0302891\n",
      "Early stopping, best iteration is:\n",
      "[531]\tcv_agg's l2: 0.123329 + 0.0191162\n",
      "[100]\tcv_agg's l2: 0.228761 + 0.037933\n",
      "[200]\tcv_agg's l2: 0.215562 + 0.0411006\n",
      "[300]\tcv_agg's l2: 0.213807 + 0.0462736\n",
      "[400]\tcv_agg's l2: 0.212503 + 0.04621\n",
      "[500]\tcv_agg's l2: 0.212683 + 0.0497453\n"
     ]
    },
    {
     "name": "stderr",
     "output_type": "stream",
     "text": [
      "min_data_in_leaf, val_score: 0.123329:  60%|###########################                  | 3/5 [00:11<00:06,  3.47s/it][I 2023-11-05 14:05:16,573] Trial 65 finished with value: 0.2128530259172421 and parameters: {'min_child_samples': 50}. Best is trial 63 with value: 0.12332926130768829.\n",
      "min_data_in_leaf, val_score: 0.123329:  60%|###########################                  | 3/5 [00:11<00:06,  3.47s/it]"
     ]
    },
    {
     "name": "stdout",
     "output_type": "stream",
     "text": [
      "[600]\tcv_agg's l2: 0.213471 + 0.0518283\n",
      "Early stopping, best iteration is:\n",
      "[531]\tcv_agg's l2: 0.123329 + 0.0191162\n",
      "[100]\tcv_agg's l2: 0.722704 + 0.107055\n",
      "[200]\tcv_agg's l2: 0.678773 + 0.116659\n",
      "[300]\tcv_agg's l2: 0.660278 + 0.120576\n",
      "[400]\tcv_agg's l2: 0.650657 + 0.124564\n",
      "[500]\tcv_agg's l2: 0.644937 + 0.125705\n"
     ]
    },
    {
     "name": "stderr",
     "output_type": "stream",
     "text": [
      "min_data_in_leaf, val_score: 0.123329:  80%|####################################         | 4/5 [00:13<00:02,  2.74s/it][I 2023-11-05 14:05:18,187] Trial 66 finished with value: 0.6444536505113168 and parameters: {'min_child_samples': 100}. Best is trial 63 with value: 0.12332926130768829.\n",
      "min_data_in_leaf, val_score: 0.123329:  80%|####################################         | 4/5 [00:13<00:02,  2.74s/it]"
     ]
    },
    {
     "name": "stdout",
     "output_type": "stream",
     "text": [
      "[600]\tcv_agg's l2: 0.642111 + 0.124853\n",
      "Early stopping, best iteration is:\n",
      "[531]\tcv_agg's l2: 0.123329 + 0.0191162\n",
      "[100]\tcv_agg's l2: 0.11871 + 0.020391\n",
      "[200]\tcv_agg's l2: 0.117119 + 0.0212315\n"
     ]
    },
    {
     "name": "stderr",
     "output_type": "stream",
     "text": [
      "min_data_in_leaf, val_score: 0.116989: 100%|#############################################| 5/5 [00:15<00:00,  2.61s/it][I 2023-11-05 14:05:20,580] Trial 67 finished with value: 0.11698883904428736 and parameters: {'min_child_samples': 10}. Best is trial 67 with value: 0.11698883904428736.\n",
      "min_data_in_leaf, val_score: 0.116989: 100%|#############################################| 5/5 [00:15<00:00,  3.09s/it]"
     ]
    },
    {
     "name": "stdout",
     "output_type": "stream",
     "text": [
      "[300]\tcv_agg's l2: 0.117074 + 0.0212673\n",
      "Early stopping, best iteration is:\n",
      "[216]\tcv_agg's l2: 0.116989 + 0.0212612\n"
     ]
    },
    {
     "name": "stderr",
     "output_type": "stream",
     "text": [
      "\n"
     ]
    }
   ],
   "source": [
    "import optuna.integration.lightgbm as lgb\n",
    "from lightgbm import early_stopping, log_evaluation\n",
    "from sklearn.model_selection import KFold\n",
    "from sklearn.model_selection import RepeatedKFold\n",
    "\n",
    "\n",
    "lgb_train = lgb.Dataset(X_train, y_train)\n",
    "\n",
    "params = {\n",
    "    \"boosting_type\": \"gbdt\",\n",
    "    \"objective\": \"regression\",\n",
    "    \"metric\": \"l2\",\n",
    "    \"verbosity\": -1,\n",
    "}\n",
    "\n",
    "tuner = lgb.LightGBMTunerCV(\n",
    "    params,\n",
    "    lgb_train,\n",
    "    folds=KFold(n_splits=5),\n",
    "    num_boost_round=10000,\n",
    "    callbacks=[early_stopping(100), log_evaluation(100)],\n",
    ")\n",
    "\n",
    "tuner.run()"
   ]
  },
  {
   "cell_type": "code",
   "execution_count": 23,
   "id": "d9ab9a30",
   "metadata": {},
   "outputs": [
    {
     "name": "stdout",
     "output_type": "stream",
     "text": [
      "Best score: 0.11698883904428736\n",
      "Params: \n",
      "    boosting_type: gbdt\n",
      "    objective: regression\n",
      "    metric: l2\n",
      "    verbosity: -1\n",
      "    feature_pre_filter: False\n",
      "    lambda_l1: 1.2167557112228009e-08\n",
      "    lambda_l2: 0.0015947179724224542\n",
      "    num_leaves: 31\n",
      "    feature_fraction: 0.42\n",
      "    bagging_fraction: 1.0\n",
      "    bagging_freq: 0\n",
      "    min_child_samples: 10\n"
     ]
    }
   ],
   "source": [
    "print(f\"Best score: {tuner.best_score}\")\n",
    "best_params = tuner.best_params\n",
    "print(\"Params: \")\n",
    "for key, value in best_params.items():\n",
    "    print(\"    {}: {}\".format(key, value))"
   ]
  },
  {
   "cell_type": "code",
   "execution_count": 24,
   "id": "0cb62c30",
   "metadata": {},
   "outputs": [],
   "source": [
    "import lightgbm as lgb\n",
    "\n",
    "lgb_tuned = lgb.train(\n",
    "    best_params,\n",
    "    lgb_train,\n",
    "    num_boost_round=10000,\n",
    ")"
   ]
  },
  {
   "cell_type": "code",
   "execution_count": 25,
   "id": "eb6b8188",
   "metadata": {},
   "outputs": [
    {
     "name": "stdout",
     "output_type": "stream",
     "text": [
      "RMSE train: 0.00\n",
      "RMSE test: 0.57\n",
      "MAE test: 0.35\n",
      "\n"
     ]
    }
   ],
   "source": [
    "rmse, mae = assess_regression_model(lgb_tuned, X_train, X_test, y_train, y_test)"
   ]
  },
  {
   "cell_type": "code",
   "execution_count": 26,
   "id": "90047108",
   "metadata": {},
   "outputs": [],
   "source": [
    "results.loc[1] = [\n",
    "    \"chronological\",\n",
    "    \"Optuna\",\n",
    "    \"full\",\n",
    "    rmse,\n",
    "    mae,\n",
    "]"
   ]
  },
  {
   "cell_type": "markdown",
   "id": "b26d94f2",
   "metadata": {},
   "source": [
    "###### MAE by level"
   ]
  },
  {
   "cell_type": "code",
   "execution_count": 27,
   "id": "bb716b92",
   "metadata": {},
   "outputs": [
    {
     "data": {
      "image/png": "[encoded data removed]",
      "text/plain": [
       "<Figure size 720x432 with 1 Axes>"
      ]
     },
     "metadata": {
      "needs_background": "light"
     },
     "output_type": "display_data"
    }
   ],
   "source": [
    "plot_mae_by_level(\n",
    "    y_test,\n",
    "    y_pred_test,\n",
    "    title=\"MAE by level for tuned LightGBM with full features and chronological split\",\n",
    ")"
   ]
  },
  {
   "cell_type": "code",
   "execution_count": 28,
   "id": "79785820",
   "metadata": {
    "scrolled": false
   },
   "outputs": [
    {
     "name": "stdout",
     "output_type": "stream",
     "text": [
      "Default:\n",
      "RMSE: 0.57\n",
      "\n",
      "Round type: 0.5\n",
      "RMSE: 0.58\n",
      "\n",
      "Round type: 0.33\n",
      "RMSE: 0.56\n",
      "\n",
      "Round type: 0.45\n",
      "RMSE: 0.58\n",
      "\n"
     ]
    }
   ],
   "source": [
    "predict = lgb_tuned.predict(X_test)\n",
    "check_round_predictions([0.5, 0.33, 0.45], y_test, predict)"
   ]
  },
  {
   "cell_type": "code",
   "execution_count": 29,
   "id": "63a9eab9",
   "metadata": {},
   "outputs": [
    {
     "data": {
      "image/png": "[encoded data removed]",
      "text/plain": [
       "<Figure size 432x288 with 2 Axes>"
      ]
     },
     "metadata": {
      "needs_background": "light"
     },
     "output_type": "display_data"
    }
   ],
   "source": [
    "plot_confusion_matrix(\n",
    "    predict,\n",
    "    y_test,\n",
    "    title=\"Confusion matrix for tuned LightGBM with full features and chronological split\",\n",
    ")"
   ]
  },
  {
   "cell_type": "markdown",
   "id": "a1fa0d3e",
   "metadata": {},
   "source": [
    "## Random split"
   ]
  },
  {
   "cell_type": "code",
   "execution_count": 30,
   "id": "69148859",
   "metadata": {},
   "outputs": [
    {
     "name": "stdout",
     "output_type": "stream",
     "text": [
      "[LightGBM] [Warning] Auto-choosing col-wise multi-threading, the overhead of testing was 0.001164 seconds.\n",
      "You can set `force_col_wise=true` to remove the overhead.\n",
      "[LightGBM] [Info] Total Bins 804\n",
      "[LightGBM] [Info] Number of data points in the train set: 904, number of used features: 48\n",
      "[LightGBM] [Info] Start training from score 7.162611\n",
      "Training until validation scores don't improve for 5 rounds\n",
      "Early stopping, best iteration is:\n",
      "[75]\tvalid_0's l1: 0.246737\tvalid_0's l2: 0.1379\n"
     ]
    }
   ],
   "source": [
    "import lightgbm as lgb\n",
    "from sklearn.metrics import mean_squared_error\n",
    "\n",
    "lgb_train = lgb.Dataset(X_train_random_split, y_train_random_split)\n",
    "lgb_eval = lgb.Dataset(X_test_random_split, y_test_random_split, reference=lgb_train)\n",
    "\n",
    "params = {\n",
    "    \"boosting_type\": \"gbdt\",\n",
    "    \"objective\": \"regression\",\n",
    "    \"metric\": {\"l2\", \"l1\"},\n",
    "}\n",
    "\n",
    "gbm = lgb.train(\n",
    "    params,\n",
    "    lgb_train,\n",
    "    num_boost_round=100,\n",
    "    valid_sets=lgb_eval,\n",
    "    callbacks=[lgb.early_stopping(stopping_rounds=5)],\n",
    ")"
   ]
  },
  {
   "cell_type": "code",
   "execution_count": 31,
   "id": "792899a7",
   "metadata": {},
   "outputs": [],
   "source": [
    "y_pred_train = gbm.predict(X_train_random_split, num_iteration=gbm.best_iteration)\n",
    "y_pred_test = gbm.predict(X_test_random_split, num_iteration=gbm.best_iteration)"
   ]
  },
  {
   "cell_type": "code",
   "execution_count": 32,
   "id": "92e8b92d",
   "metadata": {},
   "outputs": [
    {
     "name": "stdout",
     "output_type": "stream",
     "text": [
      "RMSE: 0.37\n",
      "MAE: 0.25\n"
     ]
    }
   ],
   "source": [
    "from sklearn.metrics import mean_squared_error, mean_absolute_error\n",
    "\n",
    "\n",
    "rmse = mean_squared_error(y_test_random_split, y_pred_test, squared=False)\n",
    "mae = mean_absolute_error(y_test_random_split, y_pred_test)\n",
    "\n",
    "print(f\"RMSE: {rmse:.2f}\")\n",
    "print(f\"MAE: {mae:.2f}\")"
   ]
  },
  {
   "cell_type": "code",
   "execution_count": 33,
   "id": "e9b9f08d",
   "metadata": {},
   "outputs": [],
   "source": [
    "results.loc[2] = [\"random\", \"default\", \"full\", rmse, mae]"
   ]
  },
  {
   "cell_type": "markdown",
   "id": "e2f3fc5d",
   "metadata": {},
   "source": [
    "###### MAE by level"
   ]
  },
  {
   "cell_type": "code",
   "execution_count": 34,
   "id": "591c040e",
   "metadata": {},
   "outputs": [
    {
     "data": {
      "image/png": "[encoded data removed]",
      "text/plain": [
       "<Figure size 720x432 with 1 Axes>"
      ]
     },
     "metadata": {
      "needs_background": "light"
     },
     "output_type": "display_data"
    }
   ],
   "source": [
    "plot_mae_by_level(\n",
    "    y_test_random_split,\n",
    "    y_pred_test,\n",
    "    title=\"MAE by level for default LightGBM with full features and random split\",\n",
    ")"
   ]
  },
  {
   "cell_type": "code",
   "execution_count": 35,
   "id": "2122d102",
   "metadata": {
    "scrolled": true
   },
   "outputs": [
    {
     "name": "stdout",
     "output_type": "stream",
     "text": [
      "Default:\n",
      "RMSE: 0.37\n",
      "\n",
      "Round type: 0.5\n",
      "RMSE: 0.38\n",
      "\n",
      "Round type: 0.33\n",
      "RMSE: 0.43\n",
      "\n",
      "Round type: 0.45\n",
      "RMSE: 0.38\n",
      "\n"
     ]
    }
   ],
   "source": [
    "check_round_predictions([0.5, 0.33, 0.45], y_test_random_split, y_pred_test)"
   ]
  },
  {
   "cell_type": "code",
   "execution_count": 36,
   "id": "3b4c77ab",
   "metadata": {},
   "outputs": [
    {
     "data": {
      "image/png": "[encoded data removed]",
      "text/plain": [
       "<Figure size 432x288 with 2 Axes>"
      ]
     },
     "metadata": {
      "needs_background": "light"
     },
     "output_type": "display_data"
    }
   ],
   "source": [
    "plot_confusion_matrix(\n",
    "    y_pred_test,\n",
    "    y_test_random_split,\n",
    "    title=\"Confusion matrix for default LightGBM with full features and random split\",\n",
    ")"
   ]
  },
  {
   "cell_type": "markdown",
   "id": "295f8eff",
   "metadata": {},
   "source": [
    "### Tuning"
   ]
  },
  {
   "cell_type": "code",
   "execution_count": 37,
   "id": "14fca15b",
   "metadata": {},
   "outputs": [
    {
     "name": "stderr",
     "output_type": "stream",
     "text": [
      "[I 2023-11-05 14:05:34,352] A new study created in memory with name: no-name-8bc02465-77bf-436c-a466-ce3df5c9746e\n",
      "feature_fraction, val_score: inf:   0%|                                                          | 0/7 [00:00<?, ?it/s]"
     ]
    },
    {
     "name": "stdout",
     "output_type": "stream",
     "text": [
      "Training until validation scores don't improve for 100 rounds\n",
      "[100]\tcv_agg's l2: 0.169779 + 0.0512793\n",
      "[200]\tcv_agg's l2: 0.164047 + 0.0476074\n",
      "[300]\tcv_agg's l2: 0.162921 + 0.0465607\n",
      "[400]\tcv_agg's l2: 0.16284 + 0.0463917\n",
      "[500]\tcv_agg's l2: 0.162423 + 0.0460353\n",
      "[600]\tcv_agg's l2: 0.162313 + 0.0459229\n",
      "[700]\tcv_agg's l2: 0.162235 + 0.0457002\n"
     ]
    },
    {
     "name": "stderr",
     "output_type": "stream",
     "text": [
      "feature_fraction, val_score: 0.162230:  14%|######4                                      | 1/7 [00:05<00:31,  5.24s/it][I 2023-11-05 14:05:39,597] Trial 0 finished with value: 0.1622303601119817 and parameters: {'feature_fraction': 0.8}. Best is trial 0 with value: 0.1622303601119817.\n",
      "feature_fraction, val_score: 0.162230:  14%|######4                                      | 1/7 [00:05<00:31,  5.24s/it]"
     ]
    },
    {
     "name": "stdout",
     "output_type": "stream",
     "text": [
      "[800]\tcv_agg's l2: 0.162275 + 0.0457673\n",
      "Early stopping, best iteration is:\n",
      "[714]\tcv_agg's l2: 0.16223 + 0.0457438\n",
      "[100]\tcv_agg's l2: 0.13722 + 0.0296393\n",
      "[200]\tcv_agg's l2: 0.134383 + 0.0293884\n",
      "[300]\tcv_agg's l2: 0.133005 + 0.0292928\n",
      "[400]\tcv_agg's l2: 0.132541 + 0.0293922\n",
      "[500]\tcv_agg's l2: 0.132435 + 0.0293248\n",
      "[600]\tcv_agg's l2: 0.132339 + 0.0291518\n",
      "[700]\tcv_agg's l2: 0.132317 + 0.0290427\n",
      "[800]\tcv_agg's l2: 0.132229 + 0.0289264\n",
      "[900]\tcv_agg's l2: 0.132146 + 0.0288244\n",
      "[1000]\tcv_agg's l2: 0.132121 + 0.0287781\n",
      "[1100]\tcv_agg's l2: 0.132068 + 0.0287227\n",
      "[1200]\tcv_agg's l2: 0.132058 + 0.0286909\n"
     ]
    },
    {
     "name": "stderr",
     "output_type": "stream",
     "text": [
      "feature_fraction, val_score: 0.132052:  29%|############8                                | 2/7 [00:13<00:34,  6.99s/it][I 2023-11-05 14:05:47,811] Trial 1 finished with value: 0.13205240843270616 and parameters: {'feature_fraction': 0.4}. Best is trial 1 with value: 0.13205240843270616.\n",
      "feature_fraction, val_score: 0.132052:  29%|############8                                | 2/7 [00:13<00:34,  6.99s/it]"
     ]
    },
    {
     "name": "stdout",
     "output_type": "stream",
     "text": [
      "Early stopping, best iteration is:\n",
      "[1171]\tcv_agg's l2: 0.132052 + 0.0286898\n",
      "[100]\tcv_agg's l2: 0.162568 + 0.050186\n",
      "[200]\tcv_agg's l2: 0.158736 + 0.049075\n",
      "[300]\tcv_agg's l2: 0.157619 + 0.0479239\n",
      "[400]\tcv_agg's l2: 0.157196 + 0.0475804\n",
      "[500]\tcv_agg's l2: 0.156857 + 0.0471636\n",
      "[600]\tcv_agg's l2: 0.1566 + 0.0467607\n",
      "[700]\tcv_agg's l2: 0.15656 + 0.0466386\n",
      "[800]\tcv_agg's l2: 0.156559 + 0.0465701\n",
      "[900]\tcv_agg's l2: 0.156512 + 0.046468\n",
      "[1000]\tcv_agg's l2: 0.156522 + 0.0464151\n",
      "[1100]\tcv_agg's l2: 0.156527 + 0.0463976\n",
      "[1200]\tcv_agg's l2: 0.156531 + 0.046367\n"
     ]
    },
    {
     "name": "stderr",
     "output_type": "stream",
     "text": [
      "feature_fraction, val_score: 0.132052:  43%|###################2                         | 3/7 [00:21<00:29,  7.38s/it][I 2023-11-05 14:05:55,665] Trial 2 finished with value: 0.15653741770270388 and parameters: {'feature_fraction': 0.7}. Best is trial 1 with value: 0.13205240843270616.\n",
      "feature_fraction, val_score: 0.132052:  43%|###################2                         | 3/7 [00:21<00:29,  7.38s/it]"
     ]
    },
    {
     "name": "stdout",
     "output_type": "stream",
     "text": [
      "Early stopping, best iteration is:\n",
      "[1171]\tcv_agg's l2: 0.132052 + 0.0286898\n",
      "[100]\tcv_agg's l2: 0.173104 + 0.0409861\n",
      "[200]\tcv_agg's l2: 0.169018 + 0.0386093\n",
      "[300]\tcv_agg's l2: 0.167683 + 0.0377418\n",
      "[400]\tcv_agg's l2: 0.167287 + 0.0375598\n",
      "[500]\tcv_agg's l2: 0.167278 + 0.0373334\n",
      "[600]\tcv_agg's l2: 0.167403 + 0.0373001\n",
      "[700]\tcv_agg's l2: 0.16737 + 0.0372613\n",
      "[800]\tcv_agg's l2: 0.167335 + 0.0372178\n",
      "[900]\tcv_agg's l2: 0.167404 + 0.037219\n",
      "[1000]\tcv_agg's l2: 0.16744 + 0.0372303\n",
      "[1100]\tcv_agg's l2: 0.167438 + 0.0372002\n",
      "[1200]\tcv_agg's l2: 0.167399 + 0.0371402\n"
     ]
    },
    {
     "name": "stderr",
     "output_type": "stream",
     "text": [
      "feature_fraction, val_score: 0.132052:  57%|#########################7                   | 4/7 [00:29<00:22,  7.56s/it][I 2023-11-05 14:06:03,497] Trial 3 finished with value: 0.16741952434131052 and parameters: {'feature_fraction': 1.0}. Best is trial 1 with value: 0.13205240843270616.\n",
      "feature_fraction, val_score: 0.132052:  57%|#########################7                   | 4/7 [00:29<00:22,  7.56s/it]"
     ]
    },
    {
     "name": "stdout",
     "output_type": "stream",
     "text": [
      "Early stopping, best iteration is:\n",
      "[1171]\tcv_agg's l2: 0.132052 + 0.0286898\n",
      "[100]\tcv_agg's l2: 0.171474 + 0.0470364\n",
      "[200]\tcv_agg's l2: 0.166536 + 0.0461847\n",
      "[300]\tcv_agg's l2: 0.16537 + 0.0454758\n",
      "[400]\tcv_agg's l2: 0.164967 + 0.0453036\n",
      "[500]\tcv_agg's l2: 0.164869 + 0.0451928\n",
      "[600]\tcv_agg's l2: 0.164859 + 0.045158\n",
      "[700]\tcv_agg's l2: 0.164841 + 0.0451886\n",
      "[800]\tcv_agg's l2: 0.164808 + 0.0451013\n",
      "[900]\tcv_agg's l2: 0.164823 + 0.0451003\n",
      "[1000]\tcv_agg's l2: 0.164831 + 0.0450991\n",
      "[1100]\tcv_agg's l2: 0.164833 + 0.0451137\n",
      "[1200]\tcv_agg's l2: 0.164849 + 0.0450947\n"
     ]
    },
    {
     "name": "stderr",
     "output_type": "stream",
     "text": [
      "feature_fraction, val_score: 0.132052:  71%|################################1            | 5/7 [00:37<00:15,  7.80s/it][I 2023-11-05 14:06:11,716] Trial 4 finished with value: 0.1648406686930592 and parameters: {'feature_fraction': 0.8999999999999999}. Best is trial 1 with value: 0.13205240843270616.\n",
      "feature_fraction, val_score: 0.132052:  71%|################################1            | 5/7 [00:37<00:15,  7.80s/it]"
     ]
    },
    {
     "name": "stdout",
     "output_type": "stream",
     "text": [
      "Early stopping, best iteration is:\n",
      "[1171]\tcv_agg's l2: 0.132052 + 0.0286898\n",
      "[100]\tcv_agg's l2: 0.156599 + 0.0440737\n",
      "[200]\tcv_agg's l2: 0.152929 + 0.0427997\n",
      "[300]\tcv_agg's l2: 0.152166 + 0.0423426\n",
      "[400]\tcv_agg's l2: 0.15182 + 0.0419162\n",
      "[500]\tcv_agg's l2: 0.15157 + 0.0415837\n",
      "[600]\tcv_agg's l2: 0.151441 + 0.0415139\n",
      "[700]\tcv_agg's l2: 0.151454 + 0.0415199\n",
      "[800]\tcv_agg's l2: 0.151495 + 0.0415521\n",
      "[900]\tcv_agg's l2: 0.151495 + 0.0415312\n",
      "[1000]\tcv_agg's l2: 0.151493 + 0.0414923\n",
      "[1100]\tcv_agg's l2: 0.151476 + 0.0414722\n",
      "[1200]\tcv_agg's l2: 0.151471 + 0.0414687\n"
     ]
    },
    {
     "name": "stderr",
     "output_type": "stream",
     "text": [
      "feature_fraction, val_score: 0.132052:  86%|######################################5      | 6/7 [00:45<00:08,  8.04s/it][I 2023-11-05 14:06:20,211] Trial 5 finished with value: 0.15146639308627205 and parameters: {'feature_fraction': 0.6}. Best is trial 1 with value: 0.13205240843270616.\n",
      "feature_fraction, val_score: 0.132052:  86%|######################################5      | 6/7 [00:45<00:08,  8.04s/it]"
     ]
    },
    {
     "name": "stdout",
     "output_type": "stream",
     "text": [
      "Early stopping, best iteration is:\n",
      "[1171]\tcv_agg's l2: 0.132052 + 0.0286898\n",
      "[100]\tcv_agg's l2: 0.14661 + 0.0384955\n",
      "[200]\tcv_agg's l2: 0.14317 + 0.0369486\n",
      "[300]\tcv_agg's l2: 0.142157 + 0.0371392\n",
      "[400]\tcv_agg's l2: 0.141799 + 0.0370335\n",
      "[500]\tcv_agg's l2: 0.141461 + 0.0369785\n",
      "[600]\tcv_agg's l2: 0.141374 + 0.0370912\n",
      "[700]\tcv_agg's l2: 0.141249 + 0.037109\n",
      "[800]\tcv_agg's l2: 0.141186 + 0.0369735\n",
      "[900]\tcv_agg's l2: 0.141177 + 0.0369422\n",
      "[1000]\tcv_agg's l2: 0.141226 + 0.0369592\n",
      "[1100]\tcv_agg's l2: 0.141245 + 0.0369675\n",
      "[1200]\tcv_agg's l2: 0.141264 + 0.0369485\n"
     ]
    },
    {
     "name": "stderr",
     "output_type": "stream",
     "text": [
      "feature_fraction, val_score: 0.132052: 100%|#############################################| 7/7 [00:54<00:00,  8.20s/it][I 2023-11-05 14:06:28,740] Trial 6 finished with value: 0.14125171360830108 and parameters: {'feature_fraction': 0.5}. Best is trial 1 with value: 0.13205240843270616.\n",
      "feature_fraction, val_score: 0.132052: 100%|#############################################| 7/7 [00:54<00:00,  7.77s/it]\n"
     ]
    },
    {
     "name": "stdout",
     "output_type": "stream",
     "text": [
      "Early stopping, best iteration is:\n",
      "[1171]\tcv_agg's l2: 0.132052 + 0.0286898\n"
     ]
    },
    {
     "name": "stderr",
     "output_type": "stream",
     "text": [
      "num_leaves, val_score: 0.132052:   0%|                                                          | 0/20 [00:00<?, ?it/s]"
     ]
    },
    {
     "name": "stdout",
     "output_type": "stream",
     "text": [
      "[100]\tcv_agg's l2: 0.13722 + 0.0296393\n",
      "[200]\tcv_agg's l2: 0.134383 + 0.0293884\n",
      "[300]\tcv_agg's l2: 0.133005 + 0.0292928\n",
      "[400]\tcv_agg's l2: 0.132541 + 0.0293922\n",
      "[500]\tcv_agg's l2: 0.132435 + 0.0293248\n",
      "[600]\tcv_agg's l2: 0.132339 + 0.0291518\n",
      "[700]\tcv_agg's l2: 0.132317 + 0.0290427\n",
      "[800]\tcv_agg's l2: 0.132229 + 0.0289264\n",
      "[900]\tcv_agg's l2: 0.132146 + 0.0288244\n",
      "[1000]\tcv_agg's l2: 0.132121 + 0.0287781\n",
      "[1100]\tcv_agg's l2: 0.132068 + 0.0287227\n",
      "[1200]\tcv_agg's l2: 0.132058 + 0.0286909\n"
     ]
    },
    {
     "name": "stderr",
     "output_type": "stream",
     "text": [
      "num_leaves, val_score: 0.132052:   5%|##5                                               | 1/20 [00:08<02:40,  8.43s/it][I 2023-11-05 14:06:37,182] Trial 7 finished with value: 0.13205240843270616 and parameters: {'num_leaves': 59}. Best is trial 7 with value: 0.13205240843270616.\n",
      "num_leaves, val_score: 0.132052:   5%|##5                                               | 1/20 [00:08<02:40,  8.43s/it]"
     ]
    },
    {
     "name": "stdout",
     "output_type": "stream",
     "text": [
      "Early stopping, best iteration is:\n",
      "[1171]\tcv_agg's l2: 0.132052 + 0.0286898\n",
      "[100]\tcv_agg's l2: 0.13722 + 0.0296393\n",
      "[200]\tcv_agg's l2: 0.134383 + 0.0293884\n",
      "[300]\tcv_agg's l2: 0.133005 + 0.0292928\n",
      "[400]\tcv_agg's l2: 0.132541 + 0.0293922\n",
      "[500]\tcv_agg's l2: 0.132435 + 0.0293248\n",
      "[600]\tcv_agg's l2: 0.132339 + 0.0291518\n",
      "[700]\tcv_agg's l2: 0.132317 + 0.0290427\n",
      "[800]\tcv_agg's l2: 0.132229 + 0.0289264\n",
      "[900]\tcv_agg's l2: 0.132146 + 0.0288244\n",
      "[1000]\tcv_agg's l2: 0.132121 + 0.0287781\n",
      "[1100]\tcv_agg's l2: 0.132068 + 0.0287227\n",
      "[1200]\tcv_agg's l2: 0.132058 + 0.0286909\n"
     ]
    },
    {
     "name": "stderr",
     "output_type": "stream",
     "text": [
      "num_leaves, val_score: 0.132052:  10%|#####                                             | 2/20 [00:17<02:33,  8.55s/it][I 2023-11-05 14:06:45,807] Trial 8 finished with value: 0.13205240843270616 and parameters: {'num_leaves': 225}. Best is trial 7 with value: 0.13205240843270616.\n",
      "num_leaves, val_score: 0.132052:  10%|#####                                             | 2/20 [00:17<02:33,  8.55s/it]"
     ]
    },
    {
     "name": "stdout",
     "output_type": "stream",
     "text": [
      "Early stopping, best iteration is:\n",
      "[1171]\tcv_agg's l2: 0.132052 + 0.0286898\n",
      "[100]\tcv_agg's l2: 0.13722 + 0.0296393\n",
      "[200]\tcv_agg's l2: 0.134383 + 0.0293884\n",
      "[300]\tcv_agg's l2: 0.133005 + 0.0292928\n",
      "[400]\tcv_agg's l2: 0.132541 + 0.0293922\n",
      "[500]\tcv_agg's l2: 0.132435 + 0.0293248\n",
      "[600]\tcv_agg's l2: 0.132339 + 0.0291518\n",
      "[700]\tcv_agg's l2: 0.132317 + 0.0290427\n",
      "[800]\tcv_agg's l2: 0.132229 + 0.0289264\n",
      "[900]\tcv_agg's l2: 0.132146 + 0.0288244\n",
      "[1000]\tcv_agg's l2: 0.132121 + 0.0287781\n",
      "[1100]\tcv_agg's l2: 0.132068 + 0.0287227\n",
      "[1200]\tcv_agg's l2: 0.132058 + 0.0286909\n"
     ]
    },
    {
     "name": "stderr",
     "output_type": "stream",
     "text": [
      "num_leaves, val_score: 0.132052:  15%|#######5                                          | 3/20 [00:25<02:25,  8.57s/it][I 2023-11-05 14:06:54,395] Trial 9 finished with value: 0.13205240843270616 and parameters: {'num_leaves': 167}. Best is trial 7 with value: 0.13205240843270616.\n",
      "num_leaves, val_score: 0.132052:  15%|#######5                                          | 3/20 [00:25<02:25,  8.57s/it]"
     ]
    },
    {
     "name": "stdout",
     "output_type": "stream",
     "text": [
      "Early stopping, best iteration is:\n",
      "[1171]\tcv_agg's l2: 0.132052 + 0.0286898\n",
      "[100]\tcv_agg's l2: 0.200005 + 0.0426016\n",
      "[200]\tcv_agg's l2: 0.182558 + 0.0361509\n",
      "[300]\tcv_agg's l2: 0.173642 + 0.0334622\n",
      "[400]\tcv_agg's l2: 0.168584 + 0.0321082\n",
      "[500]\tcv_agg's l2: 0.166036 + 0.0304379\n",
      "[600]\tcv_agg's l2: 0.164027 + 0.030141\n",
      "[700]\tcv_agg's l2: 0.1618 + 0.0300197\n",
      "[800]\tcv_agg's l2: 0.161187 + 0.0293559\n",
      "[900]\tcv_agg's l2: 0.159933 + 0.0283527\n",
      "[1000]\tcv_agg's l2: 0.159285 + 0.0279779\n",
      "[1100]\tcv_agg's l2: 0.15815 + 0.0275156\n",
      "[1200]\tcv_agg's l2: 0.157361 + 0.0277063\n",
      "Early stopping, best iteration is:\n",
      "[1171]\tcv_agg's l2: 0.132052 + 0.0286898\n"
     ]
    },
    {
     "name": "stderr",
     "output_type": "stream",
     "text": [
      "num_leaves, val_score: 0.132052:  20%|##########                                        | 4/20 [00:28<01:42,  6.39s/it][I 2023-11-05 14:06:57,455] Trial 10 finished with value: 0.15760031927794985 and parameters: {'num_leaves': 4}. Best is trial 7 with value: 0.13205240843270616.\n",
      "num_leaves, val_score: 0.132052:  20%|##########                                        | 4/20 [00:28<01:42,  6.39s/it]"
     ]
    },
    {
     "name": "stdout",
     "output_type": "stream",
     "text": [
      "[100]\tcv_agg's l2: 0.13722 + 0.0296393\n",
      "[200]\tcv_agg's l2: 0.134383 + 0.0293884\n",
      "[300]\tcv_agg's l2: 0.133005 + 0.0292928\n",
      "[400]\tcv_agg's l2: 0.132541 + 0.0293922\n",
      "[500]\tcv_agg's l2: 0.132435 + 0.0293248\n",
      "[600]\tcv_agg's l2: 0.132339 + 0.0291518\n",
      "[700]\tcv_agg's l2: 0.132317 + 0.0290427\n",
      "[800]\tcv_agg's l2: 0.132229 + 0.0289264\n",
      "[900]\tcv_agg's l2: 0.132146 + 0.0288244\n",
      "[1000]\tcv_agg's l2: 0.132121 + 0.0287781\n",
      "[1100]\tcv_agg's l2: 0.132068 + 0.0287227\n",
      "[1200]\tcv_agg's l2: 0.132058 + 0.0286909\n"
     ]
    },
    {
     "name": "stderr",
     "output_type": "stream",
     "text": [
      "num_leaves, val_score: 0.132052:  25%|############5                                     | 5/20 [00:36<01:45,  7.02s/it][I 2023-11-05 14:07:05,579] Trial 11 finished with value: 0.13205240843270616 and parameters: {'num_leaves': 43}. Best is trial 7 with value: 0.13205240843270616.\n",
      "num_leaves, val_score: 0.132052:  25%|############5                                     | 5/20 [00:36<01:45,  7.02s/it]"
     ]
    },
    {
     "name": "stdout",
     "output_type": "stream",
     "text": [
      "Early stopping, best iteration is:\n",
      "[1171]\tcv_agg's l2: 0.132052 + 0.0286898\n",
      "[100]\tcv_agg's l2: 0.13722 + 0.0296393\n",
      "[200]\tcv_agg's l2: 0.134383 + 0.0293884\n",
      "[300]\tcv_agg's l2: 0.133005 + 0.0292928\n",
      "[400]\tcv_agg's l2: 0.132541 + 0.0293922\n",
      "[500]\tcv_agg's l2: 0.132435 + 0.0293248\n",
      "[600]\tcv_agg's l2: 0.132339 + 0.0291518\n",
      "[700]\tcv_agg's l2: 0.132317 + 0.0290427\n",
      "[800]\tcv_agg's l2: 0.132229 + 0.0289264\n",
      "[900]\tcv_agg's l2: 0.132146 + 0.0288244\n",
      "[1000]\tcv_agg's l2: 0.132121 + 0.0287781\n",
      "[1100]\tcv_agg's l2: 0.132068 + 0.0287227\n",
      "[1200]\tcv_agg's l2: 0.132058 + 0.0286909\n"
     ]
    },
    {
     "name": "stderr",
     "output_type": "stream",
     "text": [
      "num_leaves, val_score: 0.132052:  30%|###############                                   | 6/20 [00:45<01:44,  7.43s/it][I 2023-11-05 14:07:13,813] Trial 12 finished with value: 0.13205240843270616 and parameters: {'num_leaves': 100}. Best is trial 7 with value: 0.13205240843270616.\n",
      "num_leaves, val_score: 0.132052:  30%|###############                                   | 6/20 [00:45<01:44,  7.43s/it]"
     ]
    },
    {
     "name": "stdout",
     "output_type": "stream",
     "text": [
      "Early stopping, best iteration is:\n",
      "[1171]\tcv_agg's l2: 0.132052 + 0.0286898\n",
      "[100]\tcv_agg's l2: 0.13722 + 0.0296393\n",
      "[200]\tcv_agg's l2: 0.134383 + 0.0293884\n",
      "[300]\tcv_agg's l2: 0.133005 + 0.0292928\n",
      "[400]\tcv_agg's l2: 0.132541 + 0.0293922\n",
      "[500]\tcv_agg's l2: 0.132435 + 0.0293248\n",
      "[600]\tcv_agg's l2: 0.132339 + 0.0291518\n",
      "[700]\tcv_agg's l2: 0.132317 + 0.0290427\n",
      "[800]\tcv_agg's l2: 0.132229 + 0.0289264\n",
      "[900]\tcv_agg's l2: 0.132146 + 0.0288244\n",
      "[1000]\tcv_agg's l2: 0.132121 + 0.0287781\n",
      "[1100]\tcv_agg's l2: 0.132068 + 0.0287227\n",
      "[1200]\tcv_agg's l2: 0.132058 + 0.0286909\n"
     ]
    },
    {
     "name": "stderr",
     "output_type": "stream",
     "text": [
      "num_leaves, val_score: 0.132052:  35%|#################5                                | 7/20 [00:53<01:41,  7.82s/it][I 2023-11-05 14:07:22,449] Trial 13 finished with value: 0.13205240843270616 and parameters: {'num_leaves': 94}. Best is trial 7 with value: 0.13205240843270616.\n",
      "num_leaves, val_score: 0.132052:  35%|#################5                                | 7/20 [00:53<01:41,  7.82s/it]"
     ]
    },
    {
     "name": "stdout",
     "output_type": "stream",
     "text": [
      "Early stopping, best iteration is:\n",
      "[1171]\tcv_agg's l2: 0.132052 + 0.0286898\n",
      "[100]\tcv_agg's l2: 0.13722 + 0.0296393\n",
      "[200]\tcv_agg's l2: 0.134383 + 0.0293884\n",
      "[300]\tcv_agg's l2: 0.133005 + 0.0292928\n",
      "[400]\tcv_agg's l2: 0.132541 + 0.0293922\n",
      "[500]\tcv_agg's l2: 0.132435 + 0.0293248\n",
      "[600]\tcv_agg's l2: 0.132339 + 0.0291518\n",
      "[700]\tcv_agg's l2: 0.132317 + 0.0290427\n",
      "[800]\tcv_agg's l2: 0.132229 + 0.0289264\n",
      "[900]\tcv_agg's l2: 0.132146 + 0.0288244\n",
      "[1000]\tcv_agg's l2: 0.132121 + 0.0287781\n",
      "[1100]\tcv_agg's l2: 0.132068 + 0.0287227\n",
      "[1200]\tcv_agg's l2: 0.132058 + 0.0286909\n"
     ]
    },
    {
     "name": "stderr",
     "output_type": "stream",
     "text": [
      "num_leaves, val_score: 0.132052:  40%|####################                              | 8/20 [01:03<01:39,  8.32s/it][I 2023-11-05 14:07:31,844] Trial 14 finished with value: 0.13205240843270616 and parameters: {'num_leaves': 163}. Best is trial 7 with value: 0.13205240843270616.\n",
      "num_leaves, val_score: 0.132052:  40%|####################                              | 8/20 [01:03<01:39,  8.32s/it]"
     ]
    },
    {
     "name": "stdout",
     "output_type": "stream",
     "text": [
      "Early stopping, best iteration is:\n",
      "[1171]\tcv_agg's l2: 0.132052 + 0.0286898\n",
      "[100]\tcv_agg's l2: 0.13722 + 0.0296393\n",
      "[200]\tcv_agg's l2: 0.134383 + 0.0293884\n",
      "[300]\tcv_agg's l2: 0.133005 + 0.0292928\n",
      "[400]\tcv_agg's l2: 0.132541 + 0.0293922\n",
      "[500]\tcv_agg's l2: 0.132435 + 0.0293248\n",
      "[600]\tcv_agg's l2: 0.132339 + 0.0291518\n",
      "[700]\tcv_agg's l2: 0.132317 + 0.0290427\n",
      "[800]\tcv_agg's l2: 0.132229 + 0.0289264\n",
      "[900]\tcv_agg's l2: 0.132146 + 0.0288244\n",
      "[1000]\tcv_agg's l2: 0.132121 + 0.0287781\n",
      "[1100]\tcv_agg's l2: 0.132068 + 0.0287227\n",
      "[1200]\tcv_agg's l2: 0.132058 + 0.0286909\n"
     ]
    },
    {
     "name": "stderr",
     "output_type": "stream",
     "text": [
      "num_leaves, val_score: 0.132052:  45%|######################5                           | 9/20 [01:11<01:31,  8.32s/it][I 2023-11-05 14:07:40,165] Trial 15 finished with value: 0.13205240843270616 and parameters: {'num_leaves': 57}. Best is trial 7 with value: 0.13205240843270616.\n",
      "num_leaves, val_score: 0.132052:  45%|######################5                           | 9/20 [01:11<01:31,  8.32s/it]"
     ]
    },
    {
     "name": "stdout",
     "output_type": "stream",
     "text": [
      "Early stopping, best iteration is:\n",
      "[1171]\tcv_agg's l2: 0.132052 + 0.0286898\n",
      "[100]\tcv_agg's l2: 0.200005 + 0.0426016\n",
      "[200]\tcv_agg's l2: 0.182558 + 0.0361509\n",
      "[300]\tcv_agg's l2: 0.173642 + 0.0334622\n",
      "[400]\tcv_agg's l2: 0.168584 + 0.0321082\n",
      "[500]\tcv_agg's l2: 0.166036 + 0.0304379\n",
      "[600]\tcv_agg's l2: 0.164027 + 0.030141\n",
      "[700]\tcv_agg's l2: 0.1618 + 0.0300197\n",
      "[800]\tcv_agg's l2: 0.161187 + 0.0293559\n",
      "[900]\tcv_agg's l2: 0.159933 + 0.0283527\n",
      "[1000]\tcv_agg's l2: 0.159285 + 0.0279779\n",
      "[1100]\tcv_agg's l2: 0.15815 + 0.0275156\n"
     ]
    },
    {
     "name": "stderr",
     "output_type": "stream",
     "text": [
      "\r",
      "num_leaves, val_score: 0.132052:  45%|######################5                           | 9/20 [01:14<01:31,  8.32s/it]"
     ]
    },
    {
     "name": "stdout",
     "output_type": "stream",
     "text": [
      "[1200]\tcv_agg's l2: 0.157361 + 0.0277063\n",
      "Early stopping, best iteration is:\n",
      "[1171]\tcv_agg's l2: 0.132052 + 0.0286898\n"
     ]
    },
    {
     "name": "stderr",
     "output_type": "stream",
     "text": [
      "num_leaves, val_score: 0.132052:  50%|########################5                        | 10/20 [01:14<01:06,  6.69s/it][I 2023-11-05 14:07:43,187] Trial 16 finished with value: 0.15760031927794985 and parameters: {'num_leaves': 4}. Best is trial 7 with value: 0.13205240843270616.\n",
      "num_leaves, val_score: 0.132052:  50%|########################5                        | 10/20 [01:14<01:06,  6.69s/it]"
     ]
    },
    {
     "name": "stdout",
     "output_type": "stream",
     "text": [
      "[100]\tcv_agg's l2: 0.13722 + 0.0296393\n",
      "[200]\tcv_agg's l2: 0.134383 + 0.0293884\n",
      "[300]\tcv_agg's l2: 0.133005 + 0.0292928\n",
      "[400]\tcv_agg's l2: 0.132541 + 0.0293922\n",
      "[500]\tcv_agg's l2: 0.132435 + 0.0293248\n",
      "[600]\tcv_agg's l2: 0.132339 + 0.0291518\n",
      "[700]\tcv_agg's l2: 0.132317 + 0.0290427\n",
      "[800]\tcv_agg's l2: 0.132229 + 0.0289264\n",
      "[900]\tcv_agg's l2: 0.132146 + 0.0288244\n",
      "[1000]\tcv_agg's l2: 0.132121 + 0.0287781\n",
      "[1100]\tcv_agg's l2: 0.132068 + 0.0287227\n",
      "[1200]\tcv_agg's l2: 0.132058 + 0.0286909\n"
     ]
    },
    {
     "name": "stderr",
     "output_type": "stream",
     "text": [
      "num_leaves, val_score: 0.132052:  55%|##########################9                      | 11/20 [01:23<01:06,  7.40s/it][I 2023-11-05 14:07:52,215] Trial 17 finished with value: 0.13205240843270616 and parameters: {'num_leaves': 244}. Best is trial 7 with value: 0.13205240843270616.\n",
      "num_leaves, val_score: 0.132052:  55%|##########################9                      | 11/20 [01:23<01:06,  7.40s/it]"
     ]
    },
    {
     "name": "stdout",
     "output_type": "stream",
     "text": [
      "Early stopping, best iteration is:\n",
      "[1171]\tcv_agg's l2: 0.132052 + 0.0286898\n",
      "[100]\tcv_agg's l2: 0.13722 + 0.0296393\n",
      "[200]\tcv_agg's l2: 0.134383 + 0.0293884\n",
      "[300]\tcv_agg's l2: 0.133005 + 0.0292928\n",
      "[400]\tcv_agg's l2: 0.132541 + 0.0293922\n",
      "[500]\tcv_agg's l2: 0.132435 + 0.0293248\n",
      "[600]\tcv_agg's l2: 0.132339 + 0.0291518\n",
      "[700]\tcv_agg's l2: 0.132317 + 0.0290427\n",
      "[800]\tcv_agg's l2: 0.132229 + 0.0289264\n",
      "[900]\tcv_agg's l2: 0.132146 + 0.0288244\n",
      "[1000]\tcv_agg's l2: 0.132121 + 0.0287781\n",
      "[1100]\tcv_agg's l2: 0.132068 + 0.0287227\n",
      "[1200]\tcv_agg's l2: 0.132058 + 0.0286909\n"
     ]
    },
    {
     "name": "stderr",
     "output_type": "stream",
     "text": [
      "num_leaves, val_score: 0.132052:  60%|#############################4                   | 12/20 [01:31<01:01,  7.70s/it][I 2023-11-05 14:08:00,587] Trial 18 finished with value: 0.13205240843270616 and parameters: {'num_leaves': 134}. Best is trial 7 with value: 0.13205240843270616.\n",
      "num_leaves, val_score: 0.132052:  60%|#############################4                   | 12/20 [01:31<01:01,  7.70s/it]"
     ]
    },
    {
     "name": "stdout",
     "output_type": "stream",
     "text": [
      "Early stopping, best iteration is:\n",
      "[1171]\tcv_agg's l2: 0.132052 + 0.0286898\n",
      "[100]\tcv_agg's l2: 0.13722 + 0.0296393\n",
      "[200]\tcv_agg's l2: 0.134383 + 0.0293884\n",
      "[300]\tcv_agg's l2: 0.133005 + 0.0292928\n",
      "[400]\tcv_agg's l2: 0.132541 + 0.0293922\n",
      "[500]\tcv_agg's l2: 0.132435 + 0.0293248\n",
      "[600]\tcv_agg's l2: 0.132339 + 0.0291518\n",
      "[700]\tcv_agg's l2: 0.132317 + 0.0290427\n",
      "[800]\tcv_agg's l2: 0.132229 + 0.0289264\n",
      "[900]\tcv_agg's l2: 0.132146 + 0.0288244\n",
      "[1000]\tcv_agg's l2: 0.132121 + 0.0287781\n",
      "[1100]\tcv_agg's l2: 0.132068 + 0.0287227\n",
      "[1200]\tcv_agg's l2: 0.132058 + 0.0286909\n"
     ]
    },
    {
     "name": "stderr",
     "output_type": "stream",
     "text": [
      "num_leaves, val_score: 0.132052:  65%|###############################8                 | 13/20 [01:40<00:56,  8.02s/it][I 2023-11-05 14:08:09,357] Trial 19 finished with value: 0.13205240843270616 and parameters: {'num_leaves': 61}. Best is trial 7 with value: 0.13205240843270616.\n",
      "num_leaves, val_score: 0.132052:  65%|###############################8                 | 13/20 [01:40<00:56,  8.02s/it]"
     ]
    },
    {
     "name": "stdout",
     "output_type": "stream",
     "text": [
      "Early stopping, best iteration is:\n",
      "[1171]\tcv_agg's l2: 0.132052 + 0.0286898\n",
      "[100]\tcv_agg's l2: 0.13722 + 0.0296393\n",
      "[200]\tcv_agg's l2: 0.134383 + 0.0293884\n",
      "[300]\tcv_agg's l2: 0.133005 + 0.0292928\n",
      "[400]\tcv_agg's l2: 0.132541 + 0.0293922\n",
      "[500]\tcv_agg's l2: 0.132435 + 0.0293248\n",
      "[600]\tcv_agg's l2: 0.132339 + 0.0291518\n",
      "[700]\tcv_agg's l2: 0.132317 + 0.0290427\n",
      "[800]\tcv_agg's l2: 0.132229 + 0.0289264\n",
      "[900]\tcv_agg's l2: 0.132146 + 0.0288244\n",
      "[1000]\tcv_agg's l2: 0.132121 + 0.0287781\n",
      "[1100]\tcv_agg's l2: 0.132068 + 0.0287227\n",
      "[1200]\tcv_agg's l2: 0.132058 + 0.0286909\n"
     ]
    },
    {
     "name": "stderr",
     "output_type": "stream",
     "text": [
      "num_leaves, val_score: 0.132052:  70%|##################################3              | 14/20 [01:51<00:52,  8.76s/it][I 2023-11-05 14:08:19,805] Trial 20 finished with value: 0.13205240843270616 and parameters: {'num_leaves': 200}. Best is trial 7 with value: 0.13205240843270616.\n",
      "num_leaves, val_score: 0.132052:  70%|##################################3              | 14/20 [01:51<00:52,  8.76s/it]"
     ]
    },
    {
     "name": "stdout",
     "output_type": "stream",
     "text": [
      "Early stopping, best iteration is:\n",
      "[1171]\tcv_agg's l2: 0.132052 + 0.0286898\n",
      "[100]\tcv_agg's l2: 0.13722 + 0.0296393\n",
      "[200]\tcv_agg's l2: 0.134383 + 0.0293884\n",
      "[300]\tcv_agg's l2: 0.133005 + 0.0292928\n",
      "[400]\tcv_agg's l2: 0.132541 + 0.0293922\n",
      "[500]\tcv_agg's l2: 0.132435 + 0.0293248\n",
      "[600]\tcv_agg's l2: 0.132339 + 0.0291518\n",
      "[700]\tcv_agg's l2: 0.132317 + 0.0290427\n",
      "[800]\tcv_agg's l2: 0.132229 + 0.0289264\n",
      "[900]\tcv_agg's l2: 0.132146 + 0.0288244\n",
      "[1000]\tcv_agg's l2: 0.132121 + 0.0287781\n",
      "[1100]\tcv_agg's l2: 0.132068 + 0.0287227\n",
      "[1200]\tcv_agg's l2: 0.132058 + 0.0286909\n"
     ]
    },
    {
     "name": "stderr",
     "output_type": "stream",
     "text": [
      "num_leaves, val_score: 0.132052:  75%|####################################7            | 15/20 [02:03<00:48,  9.73s/it][I 2023-11-05 14:08:31,808] Trial 21 finished with value: 0.13205240843270616 and parameters: {'num_leaves': 254}. Best is trial 7 with value: 0.13205240843270616.\n",
      "num_leaves, val_score: 0.132052:  75%|####################################7            | 15/20 [02:03<00:48,  9.73s/it]"
     ]
    },
    {
     "name": "stdout",
     "output_type": "stream",
     "text": [
      "Early stopping, best iteration is:\n",
      "[1171]\tcv_agg's l2: 0.132052 + 0.0286898\n",
      "[100]\tcv_agg's l2: 0.13722 + 0.0296393\n",
      "[200]\tcv_agg's l2: 0.134383 + 0.0293884\n",
      "[300]\tcv_agg's l2: 0.133005 + 0.0292928\n",
      "[400]\tcv_agg's l2: 0.132541 + 0.0293922\n",
      "[500]\tcv_agg's l2: 0.132435 + 0.0293248\n",
      "[600]\tcv_agg's l2: 0.132339 + 0.0291518\n",
      "[700]\tcv_agg's l2: 0.132317 + 0.0290427\n",
      "[800]\tcv_agg's l2: 0.132229 + 0.0289264\n",
      "[900]\tcv_agg's l2: 0.132146 + 0.0288244\n",
      "[1000]\tcv_agg's l2: 0.132121 + 0.0287781\n",
      "[1100]\tcv_agg's l2: 0.132068 + 0.0287227\n",
      "[1200]\tcv_agg's l2: 0.132058 + 0.0286909\n"
     ]
    },
    {
     "name": "stderr",
     "output_type": "stream",
     "text": [
      "num_leaves, val_score: 0.132052:  80%|#######################################2         | 16/20 [02:11<00:37,  9.35s/it][I 2023-11-05 14:08:40,274] Trial 22 finished with value: 0.13205240843270616 and parameters: {'num_leaves': 196}. Best is trial 7 with value: 0.13205240843270616.\n",
      "num_leaves, val_score: 0.132052:  80%|#######################################2         | 16/20 [02:11<00:37,  9.35s/it]"
     ]
    },
    {
     "name": "stdout",
     "output_type": "stream",
     "text": [
      "Early stopping, best iteration is:\n",
      "[1171]\tcv_agg's l2: 0.132052 + 0.0286898\n",
      "[100]\tcv_agg's l2: 0.13722 + 0.0296393\n",
      "[200]\tcv_agg's l2: 0.134383 + 0.0293884\n",
      "[300]\tcv_agg's l2: 0.133005 + 0.0292928\n",
      "[400]\tcv_agg's l2: 0.132541 + 0.0293922\n",
      "[500]\tcv_agg's l2: 0.132435 + 0.0293248\n",
      "[600]\tcv_agg's l2: 0.132339 + 0.0291518\n",
      "[700]\tcv_agg's l2: 0.132317 + 0.0290427\n",
      "[800]\tcv_agg's l2: 0.132229 + 0.0289264\n",
      "[900]\tcv_agg's l2: 0.132146 + 0.0288244\n",
      "[1000]\tcv_agg's l2: 0.132121 + 0.0287781\n",
      "[1100]\tcv_agg's l2: 0.132068 + 0.0287227\n",
      "[1200]\tcv_agg's l2: 0.132058 + 0.0286909\n"
     ]
    },
    {
     "name": "stderr",
     "output_type": "stream",
     "text": [
      "num_leaves, val_score: 0.132052:  85%|#########################################6       | 17/20 [02:20<00:28,  9.36s/it][I 2023-11-05 14:08:49,667] Trial 23 finished with value: 0.13205240843270616 and parameters: {'num_leaves': 104}. Best is trial 7 with value: 0.13205240843270616.\n",
      "num_leaves, val_score: 0.132052:  85%|#########################################6       | 17/20 [02:20<00:28,  9.36s/it]"
     ]
    },
    {
     "name": "stdout",
     "output_type": "stream",
     "text": [
      "Early stopping, best iteration is:\n",
      "[1171]\tcv_agg's l2: 0.132052 + 0.0286898\n",
      "[100]\tcv_agg's l2: 0.13722 + 0.0296393\n",
      "[200]\tcv_agg's l2: 0.134383 + 0.0293884\n",
      "[300]\tcv_agg's l2: 0.133005 + 0.0292928\n",
      "[400]\tcv_agg's l2: 0.132541 + 0.0293922\n",
      "[500]\tcv_agg's l2: 0.132435 + 0.0293248\n",
      "[600]\tcv_agg's l2: 0.132339 + 0.0291518\n",
      "[700]\tcv_agg's l2: 0.132317 + 0.0290427\n",
      "[800]\tcv_agg's l2: 0.132229 + 0.0289264\n",
      "[900]\tcv_agg's l2: 0.132146 + 0.0288244\n",
      "[1000]\tcv_agg's l2: 0.132121 + 0.0287781\n",
      "[1100]\tcv_agg's l2: 0.132068 + 0.0287227\n",
      "[1200]\tcv_agg's l2: 0.132058 + 0.0286909\n"
     ]
    },
    {
     "name": "stderr",
     "output_type": "stream",
     "text": [
      "num_leaves, val_score: 0.132052:  90%|############################################1    | 18/20 [02:34<00:20, 10.50s/it][I 2023-11-05 14:09:02,806] Trial 24 finished with value: 0.13205240843270616 and parameters: {'num_leaves': 221}. Best is trial 7 with value: 0.13205240843270616.\n",
      "num_leaves, val_score: 0.132052:  90%|############################################1    | 18/20 [02:34<00:20, 10.50s/it]"
     ]
    },
    {
     "name": "stdout",
     "output_type": "stream",
     "text": [
      "Early stopping, best iteration is:\n",
      "[1171]\tcv_agg's l2: 0.132052 + 0.0286898\n",
      "[100]\tcv_agg's l2: 0.13722 + 0.0296393\n",
      "[200]\tcv_agg's l2: 0.134383 + 0.0293884\n",
      "[300]\tcv_agg's l2: 0.133005 + 0.0292928\n",
      "[400]\tcv_agg's l2: 0.132541 + 0.0293922\n",
      "[500]\tcv_agg's l2: 0.132435 + 0.0293248\n",
      "[600]\tcv_agg's l2: 0.132339 + 0.0291518\n",
      "[700]\tcv_agg's l2: 0.132317 + 0.0290427\n",
      "[800]\tcv_agg's l2: 0.132229 + 0.0289264\n",
      "[900]\tcv_agg's l2: 0.132146 + 0.0288244\n",
      "[1000]\tcv_agg's l2: 0.132121 + 0.0287781\n",
      "[1100]\tcv_agg's l2: 0.132068 + 0.0287227\n",
      "[1200]\tcv_agg's l2: 0.132058 + 0.0286909\n"
     ]
    },
    {
     "name": "stderr",
     "output_type": "stream",
     "text": [
      "num_leaves, val_score: 0.132052:  95%|##############################################5  | 19/20 [02:48<00:11, 11.77s/it][I 2023-11-05 14:09:17,549] Trial 25 finished with value: 0.13205240843270616 and parameters: {'num_leaves': 130}. Best is trial 7 with value: 0.13205240843270616.\n",
      "num_leaves, val_score: 0.132052:  95%|##############################################5  | 19/20 [02:48<00:11, 11.77s/it]"
     ]
    },
    {
     "name": "stdout",
     "output_type": "stream",
     "text": [
      "Early stopping, best iteration is:\n",
      "[1171]\tcv_agg's l2: 0.132052 + 0.0286898\n",
      "[100]\tcv_agg's l2: 0.13722 + 0.0296393\n",
      "[200]\tcv_agg's l2: 0.134383 + 0.0293884\n",
      "[300]\tcv_agg's l2: 0.133005 + 0.0292928\n",
      "[400]\tcv_agg's l2: 0.132541 + 0.0293922\n",
      "[500]\tcv_agg's l2: 0.132435 + 0.0293248\n",
      "[600]\tcv_agg's l2: 0.132339 + 0.0291518\n",
      "[700]\tcv_agg's l2: 0.132317 + 0.0290427\n",
      "[800]\tcv_agg's l2: 0.132229 + 0.0289264\n",
      "[900]\tcv_agg's l2: 0.132146 + 0.0288244\n",
      "[1000]\tcv_agg's l2: 0.132121 + 0.0287781\n",
      "[1100]\tcv_agg's l2: 0.132068 + 0.0287227\n",
      "[1200]\tcv_agg's l2: 0.132058 + 0.0286909\n"
     ]
    },
    {
     "name": "stderr",
     "output_type": "stream",
     "text": [
      "num_leaves, val_score: 0.132052: 100%|#################################################| 20/20 [03:01<00:00, 11.95s/it][I 2023-11-05 14:09:29,901] Trial 26 finished with value: 0.13205240843270616 and parameters: {'num_leaves': 37}. Best is trial 7 with value: 0.13205240843270616.\n",
      "num_leaves, val_score: 0.132052: 100%|#################################################| 20/20 [03:01<00:00,  9.06s/it]\n"
     ]
    },
    {
     "name": "stdout",
     "output_type": "stream",
     "text": [
      "Early stopping, best iteration is:\n",
      "[1171]\tcv_agg's l2: 0.132052 + 0.0286898\n"
     ]
    },
    {
     "name": "stderr",
     "output_type": "stream",
     "text": [
      "bagging, val_score: 0.132052:   0%|                                                             | 0/10 [00:00<?, ?it/s]"
     ]
    },
    {
     "name": "stdout",
     "output_type": "stream",
     "text": [
      "[100]\tcv_agg's l2: 0.145041 + 0.0247977\n",
      "[200]\tcv_agg's l2: 0.138674 + 0.0241853\n",
      "[300]\tcv_agg's l2: 0.137341 + 0.0251152\n",
      "[400]\tcv_agg's l2: 0.136442 + 0.0258071\n",
      "[500]\tcv_agg's l2: 0.136558 + 0.0263824\n",
      "[600]\tcv_agg's l2: 0.136296 + 0.0263324\n",
      "[700]\tcv_agg's l2: 0.13637 + 0.0264377\n",
      "[800]\tcv_agg's l2: 0.136151 + 0.0265615\n",
      "[900]\tcv_agg's l2: 0.13612 + 0.0266558\n",
      "[1000]\tcv_agg's l2: 0.136103 + 0.0267595\n",
      "[1100]\tcv_agg's l2: 0.136028 + 0.0268147\n",
      "[1200]\tcv_agg's l2: 0.135932 + 0.0267447\n"
     ]
    },
    {
     "name": "stderr",
     "output_type": "stream",
     "text": [
      "bagging, val_score: 0.132052:  10%|#####3                                               | 1/10 [00:09<01:22,  9.18s/it][I 2023-11-05 14:09:39,091] Trial 27 finished with value: 0.1359592645148751 and parameters: {'bagging_fraction': 0.7667044761817633, 'bagging_freq': 1}. Best is trial 27 with value: 0.1359592645148751.\n",
      "bagging, val_score: 0.132052:  10%|#####3                                               | 1/10 [00:09<01:22,  9.18s/it]"
     ]
    },
    {
     "name": "stdout",
     "output_type": "stream",
     "text": [
      "Early stopping, best iteration is:\n",
      "[1171]\tcv_agg's l2: 0.132052 + 0.0286898\n",
      "[100]\tcv_agg's l2: 0.201651 + 0.0253954\n",
      "[200]\tcv_agg's l2: 0.189573 + 0.0171129\n",
      "[300]\tcv_agg's l2: 0.18875 + 0.0193435\n",
      "[400]\tcv_agg's l2: 0.184676 + 0.017388\n",
      "[500]\tcv_agg's l2: 0.182915 + 0.0162477\n",
      "[600]\tcv_agg's l2: 0.181771 + 0.0158015\n",
      "[700]\tcv_agg's l2: 0.182415 + 0.0146023\n",
      "[800]\tcv_agg's l2: 0.183844 + 0.0172825\n",
      "[900]\tcv_agg's l2: 0.18341 + 0.0175628\n",
      "[1000]\tcv_agg's l2: 0.183906 + 0.0188355\n",
      "[1100]\tcv_agg's l2: 0.183924 + 0.0178824\n",
      "[1200]\tcv_agg's l2: 0.183556 + 0.0163923\n"
     ]
    },
    {
     "name": "stderr",
     "output_type": "stream",
     "text": [
      "bagging, val_score: 0.132052:  20%|##########6                                          | 2/10 [00:14<00:54,  6.78s/it][I 2023-11-05 14:09:44,199] Trial 28 finished with value: 0.18348068866026065 and parameters: {'bagging_fraction': 0.4127129586803752, 'bagging_freq': 7}. Best is trial 27 with value: 0.1359592645148751.\n",
      "bagging, val_score: 0.132052:  20%|##########6                                          | 2/10 [00:14<00:54,  6.78s/it]"
     ]
    },
    {
     "name": "stdout",
     "output_type": "stream",
     "text": [
      "Early stopping, best iteration is:\n",
      "[1171]\tcv_agg's l2: 0.132052 + 0.0286898\n",
      "[100]\tcv_agg's l2: 0.144943 + 0.0269538\n",
      "[200]\tcv_agg's l2: 0.141929 + 0.0294997\n",
      "[300]\tcv_agg's l2: 0.140894 + 0.0305092\n",
      "[400]\tcv_agg's l2: 0.140719 + 0.0307741\n",
      "[500]\tcv_agg's l2: 0.140634 + 0.0310434\n",
      "[600]\tcv_agg's l2: 0.140467 + 0.0310034\n",
      "[700]\tcv_agg's l2: 0.14036 + 0.0310053\n",
      "[800]\tcv_agg's l2: 0.14026 + 0.0310138\n",
      "[900]\tcv_agg's l2: 0.140256 + 0.0309628\n",
      "[1000]\tcv_agg's l2: 0.140282 + 0.0309638\n",
      "[1100]\tcv_agg's l2: 0.140233 + 0.0309263\n",
      "[1200]\tcv_agg's l2: 0.140204 + 0.0308685\n"
     ]
    },
    {
     "name": "stderr",
     "output_type": "stream",
     "text": [
      "bagging, val_score: 0.132052:  30%|###############9                                     | 3/10 [00:24<00:58,  8.43s/it][I 2023-11-05 14:09:54,581] Trial 29 finished with value: 0.14020242296258018 and parameters: {'bagging_fraction': 0.9675610633629093, 'bagging_freq': 4}. Best is trial 27 with value: 0.1359592645148751.\n",
      "bagging, val_score: 0.132052:  30%|###############9                                     | 3/10 [00:24<00:58,  8.43s/it]"
     ]
    },
    {
     "name": "stdout",
     "output_type": "stream",
     "text": [
      "Early stopping, best iteration is:\n",
      "[1171]\tcv_agg's l2: 0.132052 + 0.0286898\n",
      "[100]\tcv_agg's l2: 0.20266 + 0.0235687\n",
      "[200]\tcv_agg's l2: 0.194228 + 0.0213397\n",
      "[300]\tcv_agg's l2: 0.19126 + 0.0228551\n",
      "[400]\tcv_agg's l2: 0.189261 + 0.0213223\n",
      "[500]\tcv_agg's l2: 0.189613 + 0.0227095\n",
      "[600]\tcv_agg's l2: 0.187269 + 0.0208086\n",
      "[700]\tcv_agg's l2: 0.188089 + 0.0212767\n",
      "[800]\tcv_agg's l2: 0.18759 + 0.0245341\n",
      "[900]\tcv_agg's l2: 0.187764 + 0.0245854\n",
      "[1000]\tcv_agg's l2: 0.187801 + 0.0233603\n",
      "[1100]\tcv_agg's l2: 0.187096 + 0.0222078\n",
      "[1200]\tcv_agg's l2: 0.187139 + 0.0218968\n"
     ]
    },
    {
     "name": "stderr",
     "output_type": "stream",
     "text": [
      "bagging, val_score: 0.132052:  40%|#####################2                               | 4/10 [00:31<00:46,  7.72s/it][I 2023-11-05 14:10:01,218] Trial 30 finished with value: 0.18674284366705635 and parameters: {'bagging_fraction': 0.4136786564797726, 'bagging_freq': 7}. Best is trial 27 with value: 0.1359592645148751.\n",
      "bagging, val_score: 0.132052:  40%|#####################2                               | 4/10 [00:31<00:46,  7.72s/it]"
     ]
    },
    {
     "name": "stdout",
     "output_type": "stream",
     "text": [
      "Early stopping, best iteration is:\n",
      "[1171]\tcv_agg's l2: 0.132052 + 0.0286898\n",
      "[100]\tcv_agg's l2: 0.140899 + 0.024829\n",
      "[200]\tcv_agg's l2: 0.137822 + 0.0251995\n",
      "[300]\tcv_agg's l2: 0.136365 + 0.0252566\n",
      "[400]\tcv_agg's l2: 0.136056 + 0.025547\n",
      "[500]\tcv_agg's l2: 0.135888 + 0.0255722\n",
      "[600]\tcv_agg's l2: 0.135663 + 0.0256114\n",
      "[700]\tcv_agg's l2: 0.135757 + 0.0255726\n",
      "[800]\tcv_agg's l2: 0.135711 + 0.0255482\n",
      "[900]\tcv_agg's l2: 0.135585 + 0.0254429\n",
      "[1000]\tcv_agg's l2: 0.135555 + 0.0254035\n",
      "[1100]\tcv_agg's l2: 0.135523 + 0.0253443\n",
      "[1200]\tcv_agg's l2: 0.135498 + 0.0253256\n"
     ]
    },
    {
     "name": "stderr",
     "output_type": "stream",
     "text": [
      "bagging, val_score: 0.132052:  50%|##########################5                          | 5/10 [00:40<00:42,  8.40s/it][I 2023-11-05 14:10:10,832] Trial 31 finished with value: 0.13549803759016793 and parameters: {'bagging_fraction': 0.9940575866149127, 'bagging_freq': 1}. Best is trial 31 with value: 0.13549803759016793.\n",
      "bagging, val_score: 0.132052:  50%|##########################5                          | 5/10 [00:40<00:42,  8.40s/it]"
     ]
    },
    {
     "name": "stdout",
     "output_type": "stream",
     "text": [
      "Early stopping, best iteration is:\n",
      "[1171]\tcv_agg's l2: 0.132052 + 0.0286898\n",
      "[100]\tcv_agg's l2: 0.165628 + 0.0335446\n",
      "[200]\tcv_agg's l2: 0.157646 + 0.0287276\n",
      "[300]\tcv_agg's l2: 0.153294 + 0.0280146\n",
      "[400]\tcv_agg's l2: 0.151512 + 0.0280236\n",
      "[500]\tcv_agg's l2: 0.150183 + 0.0273049\n",
      "[600]\tcv_agg's l2: 0.149362 + 0.0274464\n",
      "[700]\tcv_agg's l2: 0.148636 + 0.0275155\n",
      "[800]\tcv_agg's l2: 0.148317 + 0.0282564\n",
      "[900]\tcv_agg's l2: 0.148094 + 0.0285881\n",
      "[1000]\tcv_agg's l2: 0.147919 + 0.0283114\n",
      "[1100]\tcv_agg's l2: 0.148098 + 0.0283069\n",
      "[1200]\tcv_agg's l2: 0.148031 + 0.028538\n"
     ]
    },
    {
     "name": "stderr",
     "output_type": "stream",
     "text": [
      "bagging, val_score: 0.132052:  60%|###############################8                     | 6/10 [00:47<00:31,  7.86s/it][I 2023-11-05 14:10:17,648] Trial 32 finished with value: 0.14811466912723062 and parameters: {'bagging_fraction': 0.6378783867811719, 'bagging_freq': 4}. Best is trial 31 with value: 0.13549803759016793.\n",
      "bagging, val_score: 0.132052:  60%|###############################8                     | 6/10 [00:47<00:31,  7.86s/it]"
     ]
    },
    {
     "name": "stdout",
     "output_type": "stream",
     "text": [
      "Early stopping, best iteration is:\n",
      "[1171]\tcv_agg's l2: 0.132052 + 0.0286898\n",
      "[100]\tcv_agg's l2: 0.169011 + 0.0450119\n",
      "[200]\tcv_agg's l2: 0.160278 + 0.0387703\n",
      "[300]\tcv_agg's l2: 0.157939 + 0.0396833\n",
      "[400]\tcv_agg's l2: 0.156692 + 0.0388119\n",
      "[500]\tcv_agg's l2: 0.154762 + 0.038524\n",
      "[600]\tcv_agg's l2: 0.154428 + 0.0383835\n",
      "[700]\tcv_agg's l2: 0.153873 + 0.0391464\n",
      "[800]\tcv_agg's l2: 0.153873 + 0.0392345\n",
      "[900]\tcv_agg's l2: 0.153127 + 0.0389547\n",
      "[1000]\tcv_agg's l2: 0.153165 + 0.0393652\n",
      "[1100]\tcv_agg's l2: 0.1528 + 0.0390791\n",
      "[1200]\tcv_agg's l2: 0.15283 + 0.0394345\n"
     ]
    },
    {
     "name": "stderr",
     "output_type": "stream",
     "text": [
      "bagging, val_score: 0.132052:  70%|#####################################                | 7/10 [00:53<00:21,  7.28s/it][I 2023-11-05 14:10:23,720] Trial 33 finished with value: 0.15271157385453657 and parameters: {'bagging_fraction': 0.6417603235418664, 'bagging_freq': 5}. Best is trial 31 with value: 0.13549803759016793.\n",
      "bagging, val_score: 0.132052:  70%|#####################################                | 7/10 [00:53<00:21,  7.28s/it]"
     ]
    },
    {
     "name": "stdout",
     "output_type": "stream",
     "text": [
      "Early stopping, best iteration is:\n",
      "[1171]\tcv_agg's l2: 0.132052 + 0.0286898\n",
      "[100]\tcv_agg's l2: 0.151206 + 0.0380639\n",
      "[200]\tcv_agg's l2: 0.146447 + 0.0367963\n",
      "[300]\tcv_agg's l2: 0.14469 + 0.0363363\n",
      "[400]\tcv_agg's l2: 0.144096 + 0.0367998\n",
      "[500]\tcv_agg's l2: 0.143638 + 0.0368278\n",
      "[600]\tcv_agg's l2: 0.143495 + 0.0371152\n",
      "[700]\tcv_agg's l2: 0.143435 + 0.0372116\n",
      "[800]\tcv_agg's l2: 0.143284 + 0.0375131\n",
      "[900]\tcv_agg's l2: 0.143197 + 0.0373013\n",
      "[1000]\tcv_agg's l2: 0.143201 + 0.0374285\n",
      "[1100]\tcv_agg's l2: 0.14308 + 0.0375074\n",
      "[1200]\tcv_agg's l2: 0.142999 + 0.0373712\n"
     ]
    },
    {
     "name": "stderr",
     "output_type": "stream",
     "text": [
      "bagging, val_score: 0.132052:  80%|##########################################4          | 8/10 [01:03<00:15,  7.97s/it][I 2023-11-05 14:10:33,185] Trial 34 finished with value: 0.14304159784134546 and parameters: {'bagging_fraction': 0.8090408255825671, 'bagging_freq': 3}. Best is trial 31 with value: 0.13549803759016793.\n",
      "bagging, val_score: 0.132052:  80%|##########################################4          | 8/10 [01:03<00:15,  7.97s/it]"
     ]
    },
    {
     "name": "stdout",
     "output_type": "stream",
     "text": [
      "Early stopping, best iteration is:\n",
      "[1171]\tcv_agg's l2: 0.132052 + 0.0286898\n",
      "[100]\tcv_agg's l2: 0.174984 + 0.0266775\n",
      "[200]\tcv_agg's l2: 0.168613 + 0.0247389\n",
      "[300]\tcv_agg's l2: 0.167786 + 0.0268934\n",
      "[400]\tcv_agg's l2: 0.168908 + 0.0274119\n",
      "[500]\tcv_agg's l2: 0.165971 + 0.0279633\n",
      "[600]\tcv_agg's l2: 0.164259 + 0.0285282\n",
      "[700]\tcv_agg's l2: 0.164194 + 0.0277412\n",
      "[800]\tcv_agg's l2: 0.16357 + 0.0281718\n",
      "[900]\tcv_agg's l2: 0.163433 + 0.028983\n",
      "[1000]\tcv_agg's l2: 0.162668 + 0.0289465\n",
      "[1100]\tcv_agg's l2: 0.162744 + 0.0288745\n",
      "[1200]\tcv_agg's l2: 0.162406 + 0.0280308\n"
     ]
    },
    {
     "name": "stderr",
     "output_type": "stream",
     "text": [
      "bagging, val_score: 0.132052:  90%|###############################################7     | 9/10 [01:10<00:07,  7.80s/it][I 2023-11-05 14:10:40,588] Trial 35 finished with value: 0.16235100786763607 and parameters: {'bagging_fraction': 0.5451634103279148, 'bagging_freq': 6}. Best is trial 31 with value: 0.13549803759016793.\n",
      "bagging, val_score: 0.132052:  90%|###############################################7     | 9/10 [01:10<00:07,  7.80s/it]"
     ]
    },
    {
     "name": "stdout",
     "output_type": "stream",
     "text": [
      "Early stopping, best iteration is:\n",
      "[1171]\tcv_agg's l2: 0.132052 + 0.0286898\n",
      "[100]\tcv_agg's l2: 0.145901 + 0.0294657\n",
      "[200]\tcv_agg's l2: 0.142428 + 0.0304821\n",
      "[300]\tcv_agg's l2: 0.141172 + 0.0310999\n",
      "[400]\tcv_agg's l2: 0.140276 + 0.0310298\n",
      "[500]\tcv_agg's l2: 0.140041 + 0.0312337\n",
      "[600]\tcv_agg's l2: 0.139923 + 0.0312226\n",
      "[700]\tcv_agg's l2: 0.139922 + 0.0311648\n",
      "[800]\tcv_agg's l2: 0.139838 + 0.0311671\n",
      "[900]\tcv_agg's l2: 0.139716 + 0.0311663\n",
      "[1000]\tcv_agg's l2: 0.139504 + 0.0310359\n",
      "[1100]\tcv_agg's l2: 0.139518 + 0.031046\n",
      "[1200]\tcv_agg's l2: 0.139581 + 0.0310425\n"
     ]
    },
    {
     "name": "stderr",
     "output_type": "stream",
     "text": [
      "bagging, val_score: 0.132052: 100%|####################################################| 10/10 [01:19<00:00,  8.10s/it][I 2023-11-05 14:10:49,357] Trial 36 finished with value: 0.13954356049212574 and parameters: {'bagging_fraction': 0.8841804568480636, 'bagging_freq': 2}. Best is trial 31 with value: 0.13549803759016793.\n",
      "bagging, val_score: 0.132052: 100%|####################################################| 10/10 [01:19<00:00,  7.94s/it]\n"
     ]
    },
    {
     "name": "stdout",
     "output_type": "stream",
     "text": [
      "Early stopping, best iteration is:\n",
      "[1171]\tcv_agg's l2: 0.132052 + 0.0286898\n"
     ]
    },
    {
     "name": "stderr",
     "output_type": "stream",
     "text": [
      "feature_fraction_stage2, val_score: 0.132052:   0%|                                              | 0/3 [00:00<?, ?it/s]"
     ]
    },
    {
     "name": "stdout",
     "output_type": "stream",
     "text": [
      "[100]\tcv_agg's l2: 0.138332 + 0.0353495\n",
      "[200]\tcv_agg's l2: 0.135845 + 0.0337624\n",
      "[300]\tcv_agg's l2: 0.136075 + 0.03407\n",
      "[400]\tcv_agg's l2: 0.13622 + 0.0345463\n",
      "[500]\tcv_agg's l2: 0.136178 + 0.0344975\n",
      "[600]\tcv_agg's l2: 0.136276 + 0.0345436\n",
      "[700]\tcv_agg's l2: 0.136232 + 0.0344403\n",
      "[800]\tcv_agg's l2: 0.136199 + 0.0343962\n",
      "[900]\tcv_agg's l2: 0.136236 + 0.0344043\n",
      "[1000]\tcv_agg's l2: 0.136288 + 0.0344016\n",
      "[1100]\tcv_agg's l2: 0.136303 + 0.0343755\n",
      "[1200]\tcv_agg's l2: 0.136334 + 0.0344072\n"
     ]
    },
    {
     "name": "stderr",
     "output_type": "stream",
     "text": [
      "feature_fraction_stage2, val_score: 0.132052:  33%|############6                         | 1/3 [00:10<00:21, 10.91s/it][I 2023-11-05 14:11:00,280] Trial 37 finished with value: 0.1363307934679701 and parameters: {'feature_fraction': 0.44800000000000006}. Best is trial 37 with value: 0.1363307934679701.\n",
      "feature_fraction_stage2, val_score: 0.132052:  33%|############6                         | 1/3 [00:10<00:21, 10.91s/it]"
     ]
    },
    {
     "name": "stdout",
     "output_type": "stream",
     "text": [
      "Early stopping, best iteration is:\n",
      "[1171]\tcv_agg's l2: 0.132052 + 0.0286898\n",
      "[100]\tcv_agg's l2: 0.137367 + 0.0329556\n",
      "[200]\tcv_agg's l2: 0.134408 + 0.0325202\n",
      "[300]\tcv_agg's l2: 0.134032 + 0.0331437\n",
      "[400]\tcv_agg's l2: 0.133836 + 0.0328249\n",
      "[500]\tcv_agg's l2: 0.133618 + 0.0327483\n",
      "[600]\tcv_agg's l2: 0.133526 + 0.0326035\n",
      "[700]\tcv_agg's l2: 0.133461 + 0.0324727\n",
      "[800]\tcv_agg's l2: 0.13346 + 0.0323973\n",
      "[900]\tcv_agg's l2: 0.133344 + 0.032279\n",
      "[1000]\tcv_agg's l2: 0.133323 + 0.032247\n",
      "[1100]\tcv_agg's l2: 0.133316 + 0.0322487\n",
      "[1200]\tcv_agg's l2: 0.133307 + 0.0322206\n"
     ]
    },
    {
     "name": "stderr",
     "output_type": "stream",
     "text": [
      "feature_fraction_stage2, val_score: 0.132052:  67%|#########################3            | 2/3 [00:21<00:10, 10.66s/it][I 2023-11-05 14:11:10,761] Trial 38 finished with value: 0.13330632186573801 and parameters: {'feature_fraction': 0.41600000000000004}. Best is trial 38 with value: 0.13330632186573801.\n",
      "feature_fraction_stage2, val_score: 0.132052:  67%|#########################3            | 2/3 [00:21<00:10, 10.66s/it]"
     ]
    },
    {
     "name": "stdout",
     "output_type": "stream",
     "text": [
      "Early stopping, best iteration is:\n",
      "[1171]\tcv_agg's l2: 0.132052 + 0.0286898\n",
      "[100]\tcv_agg's l2: 0.146079 + 0.0374343\n",
      "[200]\tcv_agg's l2: 0.143146 + 0.0358445\n",
      "[300]\tcv_agg's l2: 0.142002 + 0.0354292\n",
      "[400]\tcv_agg's l2: 0.141887 + 0.0357818\n",
      "[500]\tcv_agg's l2: 0.141594 + 0.0353795\n",
      "[600]\tcv_agg's l2: 0.141507 + 0.0353585\n",
      "[700]\tcv_agg's l2: 0.141461 + 0.0353216\n",
      "[800]\tcv_agg's l2: 0.141374 + 0.0352861\n",
      "[900]\tcv_agg's l2: 0.141384 + 0.0352673\n",
      "[1000]\tcv_agg's l2: 0.141352 + 0.0352121\n",
      "[1100]\tcv_agg's l2: 0.141367 + 0.0351998\n",
      "[1200]\tcv_agg's l2: 0.141402 + 0.035254\n"
     ]
    },
    {
     "name": "stderr",
     "output_type": "stream",
     "text": [
      "feature_fraction_stage2, val_score: 0.132052: 100%|######################################| 3/3 [00:31<00:00, 10.56s/it][I 2023-11-05 14:11:21,209] Trial 39 finished with value: 0.14138205273140453 and parameters: {'feature_fraction': 0.48000000000000004}. Best is trial 38 with value: 0.13330632186573801.\n",
      "feature_fraction_stage2, val_score: 0.132052: 100%|######################################| 3/3 [00:31<00:00, 10.62s/it]\n"
     ]
    },
    {
     "name": "stdout",
     "output_type": "stream",
     "text": [
      "Early stopping, best iteration is:\n",
      "[1171]\tcv_agg's l2: 0.132052 + 0.0286898\n"
     ]
    },
    {
     "name": "stderr",
     "output_type": "stream",
     "text": [
      "regularization_factors, val_score: 0.132052:   0%|                                              | 0/20 [00:00<?, ?it/s]"
     ]
    },
    {
     "name": "stdout",
     "output_type": "stream",
     "text": [
      "[100]\tcv_agg's l2: 0.138193 + 0.0304932\n",
      "[200]\tcv_agg's l2: 0.135366 + 0.0309064\n",
      "[300]\tcv_agg's l2: 0.135248 + 0.0311161\n",
      "[400]\tcv_agg's l2: 0.134796 + 0.0308095\n",
      "[500]\tcv_agg's l2: 0.134566 + 0.0305592\n",
      "[600]\tcv_agg's l2: 0.134409 + 0.0303961\n",
      "[700]\tcv_agg's l2: 0.134247 + 0.030191\n",
      "[800]\tcv_agg's l2: 0.13423 + 0.0301754\n",
      "[900]\tcv_agg's l2: 0.134213 + 0.0301598\n",
      "[1000]\tcv_agg's l2: 0.13422 + 0.0301314\n",
      "[1100]\tcv_agg's l2: 0.134174 + 0.030098\n",
      "[1200]\tcv_agg's l2: 0.13414 + 0.0300596\n"
     ]
    },
    {
     "name": "stderr",
     "output_type": "stream",
     "text": [
      "regularization_factors, val_score: 0.132052:   5%|#9                                    | 1/20 [00:14<04:36, 14.56s/it][I 2023-11-05 14:11:35,777] Trial 40 finished with value: 0.1341480827660133 and parameters: {'lambda_l1': 0.0003191986207046446, 'lambda_l2': 6.958714746022854e-05}. Best is trial 40 with value: 0.1341480827660133.\n",
      "regularization_factors, val_score: 0.132052:   5%|#9                                    | 1/20 [00:14<04:36, 14.56s/it]"
     ]
    },
    {
     "name": "stdout",
     "output_type": "stream",
     "text": [
      "Early stopping, best iteration is:\n",
      "[1171]\tcv_agg's l2: 0.132052 + 0.0286898\n",
      "[100]\tcv_agg's l2: 0.182075 + 0.0412593\n",
      "[200]\tcv_agg's l2: 0.178117 + 0.0397679\n",
      "[300]\tcv_agg's l2: 0.178106 + 0.0397669\n",
      "[400]\tcv_agg's l2: 0.178105 + 0.0397674\n",
      "[500]\tcv_agg's l2: 0.178105 + 0.0397674\n",
      "[600]\tcv_agg's l2: 0.178105 + 0.0397674\n",
      "[700]\tcv_agg's l2: 0.178105 + 0.0397674\n",
      "[800]\tcv_agg's l2: 0.178105 + 0.0397674\n",
      "[900]\tcv_agg's l2: 0.178105 + 0.0397674\n",
      "[1000]\tcv_agg's l2: 0.178105 + 0.0397674\n",
      "[1100]\tcv_agg's l2: 0.178105 + 0.0397674\n"
     ]
    },
    {
     "name": "stderr",
     "output_type": "stream",
     "text": [
      "\r",
      "regularization_factors, val_score: 0.132052:   5%|#9                                    | 1/20 [00:17<04:36, 14.56s/it]"
     ]
    },
    {
     "name": "stdout",
     "output_type": "stream",
     "text": [
      "[1200]\tcv_agg's l2: 0.178105 + 0.0397674\n",
      "Early stopping, best iteration is:\n",
      "[1171]\tcv_agg's l2: 0.132052 + 0.0286898\n"
     ]
    },
    {
     "name": "stderr",
     "output_type": "stream",
     "text": [
      "regularization_factors, val_score: 0.132052:  10%|###8                                  | 2/20 [00:17<02:18,  7.68s/it][I 2023-11-05 14:11:38,641] Trial 41 finished with value: 0.17810460238404602 and parameters: {'lambda_l1': 7.5975633535827285, 'lambda_l2': 1.2108294760432754}. Best is trial 40 with value: 0.1341480827660133.\n",
      "regularization_factors, val_score: 0.132052:  10%|###8                                  | 2/20 [00:17<02:18,  7.68s/it]"
     ]
    },
    {
     "name": "stdout",
     "output_type": "stream",
     "text": [
      "[100]\tcv_agg's l2: 0.13722 + 0.0296393\n",
      "[200]\tcv_agg's l2: 0.134383 + 0.0293884\n",
      "[300]\tcv_agg's l2: 0.133005 + 0.0292928\n",
      "[400]\tcv_agg's l2: 0.132696 + 0.0295856\n",
      "[500]\tcv_agg's l2: 0.132522 + 0.0294313\n",
      "[600]\tcv_agg's l2: 0.132471 + 0.0293145\n",
      "[700]\tcv_agg's l2: 0.132414 + 0.0291618\n",
      "[800]\tcv_agg's l2: 0.132331 + 0.0290517\n",
      "[900]\tcv_agg's l2: 0.132284 + 0.0289762\n",
      "[1000]\tcv_agg's l2: 0.132242 + 0.0288972\n",
      "[1100]\tcv_agg's l2: 0.132201 + 0.0288299\n",
      "[1200]\tcv_agg's l2: 0.132183 + 0.0287992\n"
     ]
    },
    {
     "name": "stderr",
     "output_type": "stream",
     "text": [
      "regularization_factors, val_score: 0.132052:  15%|#####7                                | 3/20 [00:27<02:27,  8.69s/it][I 2023-11-05 14:11:48,540] Trial 42 finished with value: 0.13219756453172116 and parameters: {'lambda_l1': 1.2986345611473834e-08, 'lambda_l2': 1.9380072064024747e-08}. Best is trial 42 with value: 0.13219756453172116.\n",
      "regularization_factors, val_score: 0.132052:  15%|#####7                                | 3/20 [00:27<02:27,  8.69s/it]"
     ]
    },
    {
     "name": "stdout",
     "output_type": "stream",
     "text": [
      "Early stopping, best iteration is:\n",
      "[1171]\tcv_agg's l2: 0.132052 + 0.0286898\n",
      "[100]\tcv_agg's l2: 0.157333 + 0.0305782\n",
      "[200]\tcv_agg's l2: 0.148476 + 0.0305845\n",
      "[300]\tcv_agg's l2: 0.146296 + 0.0305733\n",
      "[400]\tcv_agg's l2: 0.145503 + 0.0311751\n",
      "[500]\tcv_agg's l2: 0.144939 + 0.0313976\n",
      "[600]\tcv_agg's l2: 0.144585 + 0.0314574\n",
      "[700]\tcv_agg's l2: 0.144172 + 0.0314403\n",
      "[800]\tcv_agg's l2: 0.14395 + 0.0316354\n",
      "[900]\tcv_agg's l2: 0.143835 + 0.0317248\n",
      "[1000]\tcv_agg's l2: 0.143791 + 0.0318021\n",
      "[1100]\tcv_agg's l2: 0.143732 + 0.0318935\n",
      "[1200]\tcv_agg's l2: 0.143692 + 0.0319085\n"
     ]
    },
    {
     "name": "stderr",
     "output_type": "stream",
     "text": [
      "regularization_factors, val_score: 0.132052:  20%|#######6                              | 4/20 [00:37<02:28,  9.30s/it][I 2023-11-05 14:11:58,759] Trial 43 finished with value: 0.14369596169053475 and parameters: {'lambda_l1': 1.23322122020876e-08, 'lambda_l2': 7.2684856804526845}. Best is trial 42 with value: 0.13219756453172116.\n",
      "regularization_factors, val_score: 0.132052:  20%|#######6                              | 4/20 [00:37<02:28,  9.30s/it]"
     ]
    },
    {
     "name": "stdout",
     "output_type": "stream",
     "text": [
      "Early stopping, best iteration is:\n",
      "[1171]\tcv_agg's l2: 0.132052 + 0.0286898\n",
      "[100]\tcv_agg's l2: 0.155189 + 0.0351622\n",
      "[200]\tcv_agg's l2: 0.150954 + 0.0347562\n",
      "[300]\tcv_agg's l2: 0.150955 + 0.0347616\n",
      "[400]\tcv_agg's l2: 0.150956 + 0.034762\n",
      "[500]\tcv_agg's l2: 0.150956 + 0.034762\n",
      "[600]\tcv_agg's l2: 0.150956 + 0.034762\n",
      "[700]\tcv_agg's l2: 0.150956 + 0.034762\n",
      "[800]\tcv_agg's l2: 0.150956 + 0.034762\n",
      "[900]\tcv_agg's l2: 0.150956 + 0.034762\n",
      "[1000]\tcv_agg's l2: 0.150956 + 0.034762\n",
      "[1100]\tcv_agg's l2: 0.150956 + 0.034762\n",
      "[1200]\tcv_agg's l2: 0.150956 + 0.034762\n"
     ]
    },
    {
     "name": "stderr",
     "output_type": "stream",
     "text": [
      "regularization_factors, val_score: 0.132052:  25%|#########5                            | 5/20 [00:40<01:45,  7.06s/it][I 2023-11-05 14:12:01,867] Trial 44 finished with value: 0.15095606909387257 and parameters: {'lambda_l1': 4.028710519146127, 'lambda_l2': 3.2092286524119754e-08}. Best is trial 42 with value: 0.13219756453172116.\n",
      "regularization_factors, val_score: 0.132052:  25%|#########5                            | 5/20 [00:40<01:45,  7.06s/it]"
     ]
    },
    {
     "name": "stdout",
     "output_type": "stream",
     "text": [
      "Early stopping, best iteration is:\n",
      "[1171]\tcv_agg's l2: 0.132052 + 0.0286898\n",
      "[100]\tcv_agg's l2: 0.137464 + 0.0317117\n",
      "[200]\tcv_agg's l2: 0.134771 + 0.031925\n",
      "[300]\tcv_agg's l2: 0.133971 + 0.0322838\n",
      "[400]\tcv_agg's l2: 0.133898 + 0.032158\n",
      "[500]\tcv_agg's l2: 0.133451 + 0.0319247\n",
      "[600]\tcv_agg's l2: 0.133262 + 0.0317791\n",
      "[700]\tcv_agg's l2: 0.133246 + 0.0318025\n",
      "[800]\tcv_agg's l2: 0.133176 + 0.0317547\n",
      "[900]\tcv_agg's l2: 0.133127 + 0.0316941\n",
      "[1000]\tcv_agg's l2: 0.133107 + 0.031641\n",
      "[1100]\tcv_agg's l2: 0.133066 + 0.031556\n",
      "[1200]\tcv_agg's l2: 0.133073 + 0.0315124\n"
     ]
    },
    {
     "name": "stderr",
     "output_type": "stream",
     "text": [
      "regularization_factors, val_score: 0.132052:  30%|###########4                          | 6/20 [00:51<01:58,  8.45s/it][I 2023-11-05 14:12:13,021] Trial 45 finished with value: 0.13306839742969817 and parameters: {'lambda_l1': 0.0003365563654810586, 'lambda_l2': 0.0017938101532555043}. Best is trial 42 with value: 0.13219756453172116.\n",
      "regularization_factors, val_score: 0.132052:  30%|###########4                          | 6/20 [00:51<01:58,  8.45s/it]"
     ]
    },
    {
     "name": "stdout",
     "output_type": "stream",
     "text": [
      "Early stopping, best iteration is:\n",
      "[1171]\tcv_agg's l2: 0.132052 + 0.0286898\n",
      "[100]\tcv_agg's l2: 0.136097 + 0.0283865\n",
      "[200]\tcv_agg's l2: 0.131789 + 0.0277202\n",
      "[300]\tcv_agg's l2: 0.131188 + 0.0277702\n",
      "[400]\tcv_agg's l2: 0.13096 + 0.0275983\n",
      "[500]\tcv_agg's l2: 0.130809 + 0.0273935\n",
      "[600]\tcv_agg's l2: 0.130753 + 0.0274298\n",
      "[700]\tcv_agg's l2: 0.130596 + 0.0272339\n"
     ]
    },
    {
     "name": "stderr",
     "output_type": "stream",
     "text": [
      "regularization_factors, val_score: 0.130549:  35%|#############3                        | 7/20 [00:58<01:40,  7.75s/it][I 2023-11-05 14:12:19,330] Trial 46 finished with value: 0.13054906023671312 and parameters: {'lambda_l1': 0.03459202957711342, 'lambda_l2': 1.949345794261655e-05}. Best is trial 46 with value: 0.13054906023671312.\n",
      "regularization_factors, val_score: 0.130549:  35%|#############3                        | 7/20 [00:58<01:40,  7.75s/it]"
     ]
    },
    {
     "name": "stdout",
     "output_type": "stream",
     "text": [
      "[800]\tcv_agg's l2: 0.130657 + 0.0272429\n",
      "Early stopping, best iteration is:\n",
      "[713]\tcv_agg's l2: 0.130549 + 0.0272327\n",
      "[100]\tcv_agg's l2: 0.136635 + 0.0301032\n",
      "[200]\tcv_agg's l2: 0.134487 + 0.0305105\n",
      "[300]\tcv_agg's l2: 0.133886 + 0.0310253\n",
      "[400]\tcv_agg's l2: 0.133929 + 0.0309116\n",
      "[500]\tcv_agg's l2: 0.133683 + 0.0307598\n",
      "[600]\tcv_agg's l2: 0.133597 + 0.0306875\n",
      "[700]\tcv_agg's l2: 0.133489 + 0.0306094\n"
     ]
    },
    {
     "name": "stderr",
     "output_type": "stream",
     "text": [
      "regularization_factors, val_score: 0.130549:  40%|###############2                      | 8/20 [01:04<01:27,  7.27s/it][I 2023-11-05 14:12:25,555] Trial 47 finished with value: 0.13347762463928756 and parameters: {'lambda_l1': 0.06071544658596755, 'lambda_l2': 1.4122985163312976e-05}. Best is trial 46 with value: 0.13054906023671312.\n",
      "regularization_factors, val_score: 0.130549:  40%|###############2                      | 8/20 [01:04<01:27,  7.27s/it]"
     ]
    },
    {
     "name": "stdout",
     "output_type": "stream",
     "text": [
      "[800]\tcv_agg's l2: 0.133428 + 0.0305836\n",
      "Early stopping, best iteration is:\n",
      "[713]\tcv_agg's l2: 0.130549 + 0.0272327\n",
      "[100]\tcv_agg's l2: 0.137459 + 0.0290202\n",
      "[200]\tcv_agg's l2: 0.135091 + 0.028912\n",
      "[300]\tcv_agg's l2: 0.134668 + 0.0289316\n",
      "[400]\tcv_agg's l2: 0.134395 + 0.0285044\n",
      "[500]\tcv_agg's l2: 0.134352 + 0.0282667\n",
      "[600]\tcv_agg's l2: 0.134086 + 0.0280313\n",
      "[700]\tcv_agg's l2: 0.13401 + 0.0279371\n"
     ]
    },
    {
     "name": "stderr",
     "output_type": "stream",
     "text": [
      "regularization_factors, val_score: 0.130549:  45%|#################1                    | 9/20 [01:12<01:21,  7.41s/it][I 2023-11-05 14:12:33,268] Trial 48 finished with value: 0.1339909184195393 and parameters: {'lambda_l1': 0.02302618213177187, 'lambda_l2': 0.004167826299966703}. Best is trial 46 with value: 0.13054906023671312.\n",
      "regularization_factors, val_score: 0.130549:  45%|#################1                    | 9/20 [01:12<01:21,  7.41s/it]"
     ]
    },
    {
     "name": "stdout",
     "output_type": "stream",
     "text": [
      "[800]\tcv_agg's l2: 0.134001 + 0.0278857\n",
      "Early stopping, best iteration is:\n",
      "[713]\tcv_agg's l2: 0.130549 + 0.0272327\n",
      "[100]\tcv_agg's l2: 0.13722 + 0.0296393\n",
      "[200]\tcv_agg's l2: 0.134515 + 0.0293575\n",
      "[300]\tcv_agg's l2: 0.133233 + 0.029309\n",
      "[400]\tcv_agg's l2: 0.132667 + 0.02902\n",
      "[500]\tcv_agg's l2: 0.132392 + 0.0289099\n",
      "[600]\tcv_agg's l2: 0.132285 + 0.0288522\n",
      "[700]\tcv_agg's l2: 0.132088 + 0.0286681\n"
     ]
    },
    {
     "name": "stderr",
     "output_type": "stream",
     "text": [
      "regularization_factors, val_score: 0.130549:  50%|##################5                  | 10/20 [01:18<01:12,  7.23s/it][I 2023-11-05 14:12:40,089] Trial 49 finished with value: 0.13208345792594334 and parameters: {'lambda_l1': 3.4214341681078487e-06, 'lambda_l2': 3.0560935253477582e-06}. Best is trial 46 with value: 0.13054906023671312.\n",
      "regularization_factors, val_score: 0.130549:  50%|##################5                  | 10/20 [01:18<01:12,  7.23s/it]"
     ]
    },
    {
     "name": "stdout",
     "output_type": "stream",
     "text": [
      "[800]\tcv_agg's l2: 0.132092 + 0.0285238\n",
      "Early stopping, best iteration is:\n",
      "[713]\tcv_agg's l2: 0.130549 + 0.0272327\n",
      "[100]\tcv_agg's l2: 0.136426 + 0.0286672\n",
      "[200]\tcv_agg's l2: 0.132815 + 0.0285148\n",
      "[300]\tcv_agg's l2: 0.132196 + 0.0289718\n",
      "[400]\tcv_agg's l2: 0.132037 + 0.0290035\n",
      "[500]\tcv_agg's l2: 0.132014 + 0.0288794\n",
      "[600]\tcv_agg's l2: 0.13201 + 0.0289184\n",
      "[700]\tcv_agg's l2: 0.131843 + 0.0287952\n"
     ]
    },
    {
     "name": "stderr",
     "output_type": "stream",
     "text": [
      "regularization_factors, val_score: 0.130549:  55%|####################3                | 11/20 [01:25<01:03,  7.11s/it][I 2023-11-05 14:12:46,932] Trial 50 finished with value: 0.131846063828561 and parameters: {'lambda_l1': 0.0645806248554636, 'lambda_l2': 5.95132991386864e-07}. Best is trial 46 with value: 0.13054906023671312.\n",
      "regularization_factors, val_score: 0.130549:  55%|####################3                | 11/20 [01:25<01:03,  7.11s/it]"
     ]
    },
    {
     "name": "stdout",
     "output_type": "stream",
     "text": [
      "[800]\tcv_agg's l2: 0.131824 + 0.0287577\n",
      "Early stopping, best iteration is:\n",
      "[713]\tcv_agg's l2: 0.130549 + 0.0272327\n",
      "[100]\tcv_agg's l2: 0.13705 + 0.0307569\n",
      "[200]\tcv_agg's l2: 0.134685 + 0.0299577\n",
      "[300]\tcv_agg's l2: 0.133959 + 0.0299505\n",
      "[400]\tcv_agg's l2: 0.133609 + 0.0299551\n",
      "[500]\tcv_agg's l2: 0.133423 + 0.0296634\n",
      "[600]\tcv_agg's l2: 0.133342 + 0.0293987\n",
      "[700]\tcv_agg's l2: 0.133231 + 0.0292921\n"
     ]
    },
    {
     "name": "stderr",
     "output_type": "stream",
     "text": [
      "regularization_factors, val_score: 0.130549:  60%|######################2              | 12/20 [01:31<00:54,  6.76s/it][I 2023-11-05 14:12:52,905] Trial 51 finished with value: 0.1332179560822496 and parameters: {'lambda_l1': 0.03261940156070909, 'lambda_l2': 3.9046060737174084e-07}. Best is trial 46 with value: 0.13054906023671312.\n",
      "regularization_factors, val_score: 0.130549:  60%|######################2              | 12/20 [01:31<00:54,  6.76s/it]"
     ]
    },
    {
     "name": "stdout",
     "output_type": "stream",
     "text": [
      "[800]\tcv_agg's l2: 0.133215 + 0.0292596\n",
      "Early stopping, best iteration is:\n",
      "[713]\tcv_agg's l2: 0.130549 + 0.0272327\n",
      "[100]\tcv_agg's l2: 0.139127 + 0.0304447\n",
      "[200]\tcv_agg's l2: 0.134994 + 0.0291106\n",
      "[300]\tcv_agg's l2: 0.134831 + 0.029361\n",
      "[400]\tcv_agg's l2: 0.13455 + 0.0292358\n",
      "[500]\tcv_agg's l2: 0.134352 + 0.0291488\n",
      "[600]\tcv_agg's l2: 0.134335 + 0.0291519\n"
     ]
    },
    {
     "name": "stderr",
     "output_type": "stream",
     "text": [
      "\r",
      "regularization_factors, val_score: 0.130549:  60%|######################2              | 12/20 [01:35<00:54,  6.76s/it]"
     ]
    },
    {
     "name": "stdout",
     "output_type": "stream",
     "text": [
      "[700]\tcv_agg's l2: 0.134335 + 0.0291519\n",
      "[800]\tcv_agg's l2: 0.134335 + 0.0291519\n",
      "Early stopping, best iteration is:\n",
      "[713]\tcv_agg's l2: 0.130549 + 0.0272327\n"
     ]
    },
    {
     "name": "stderr",
     "output_type": "stream",
     "text": [
      "regularization_factors, val_score: 0.130549:  65%|########################             | 13/20 [01:35<00:40,  5.81s/it][I 2023-11-05 14:12:56,516] Trial 52 finished with value: 0.13433548202796516 and parameters: {'lambda_l1': 0.2546609397607876, 'lambda_l2': 1.346979465644595e-06}. Best is trial 46 with value: 0.13054906023671312.\n",
      "regularization_factors, val_score: 0.130549:  65%|########################             | 13/20 [01:35<00:40,  5.81s/it]"
     ]
    },
    {
     "name": "stdout",
     "output_type": "stream",
     "text": [
      "[100]\tcv_agg's l2: 0.138118 + 0.030199\n",
      "[200]\tcv_agg's l2: 0.135305 + 0.0317043\n",
      "[300]\tcv_agg's l2: 0.134454 + 0.0313946\n",
      "[400]\tcv_agg's l2: 0.134203 + 0.0318191\n",
      "[500]\tcv_agg's l2: 0.133935 + 0.03146\n",
      "[600]\tcv_agg's l2: 0.133701 + 0.0314939\n",
      "[700]\tcv_agg's l2: 0.133553 + 0.0313041\n"
     ]
    },
    {
     "name": "stderr",
     "output_type": "stream",
     "text": [
      "regularization_factors, val_score: 0.130549:  70%|#########################9           | 14/20 [01:43<00:38,  6.41s/it][I 2023-11-05 14:13:04,325] Trial 53 finished with value: 0.13353561643759873 and parameters: {'lambda_l1': 0.0022073186174116385, 'lambda_l2': 9.888447604605934e-05}. Best is trial 46 with value: 0.13054906023671312.\n",
      "regularization_factors, val_score: 0.130549:  70%|#########################9           | 14/20 [01:43<00:38,  6.41s/it]"
     ]
    },
    {
     "name": "stdout",
     "output_type": "stream",
     "text": [
      "[800]\tcv_agg's l2: 0.133481 + 0.0312588\n",
      "Early stopping, best iteration is:\n",
      "[713]\tcv_agg's l2: 0.130549 + 0.0272327\n",
      "[100]\tcv_agg's l2: 0.140773 + 0.0322879\n",
      "[200]\tcv_agg's l2: 0.136036 + 0.031333\n",
      "[300]\tcv_agg's l2: 0.134958 + 0.0315518\n",
      "[400]\tcv_agg's l2: 0.134918 + 0.0315704\n",
      "[500]\tcv_agg's l2: 0.134918 + 0.0315704\n",
      "[600]\tcv_agg's l2: 0.134918 + 0.0315704\n",
      "[700]\tcv_agg's l2: 0.134918 + 0.0315704\n"
     ]
    },
    {
     "name": "stderr",
     "output_type": "stream",
     "text": [
      "regularization_factors, val_score: 0.130549:  75%|###########################7         | 15/20 [01:45<00:26,  5.33s/it][I 2023-11-05 14:13:07,132] Trial 54 finished with value: 0.13491768946273394 and parameters: {'lambda_l1': 0.6264079576068741, 'lambda_l2': 2.61992622497634e-07}. Best is trial 46 with value: 0.13054906023671312.\n",
      "regularization_factors, val_score: 0.130549:  75%|###########################7         | 15/20 [01:45<00:26,  5.33s/it]"
     ]
    },
    {
     "name": "stdout",
     "output_type": "stream",
     "text": [
      "[800]\tcv_agg's l2: 0.134918 + 0.0315704\n",
      "Early stopping, best iteration is:\n",
      "[713]\tcv_agg's l2: 0.130549 + 0.0272327\n",
      "[100]\tcv_agg's l2: 0.136579 + 0.028418\n",
      "[200]\tcv_agg's l2: 0.134231 + 0.0297535\n",
      "[300]\tcv_agg's l2: 0.133091 + 0.0300514\n",
      "[400]\tcv_agg's l2: 0.13248 + 0.0298177\n",
      "[500]\tcv_agg's l2: 0.132268 + 0.0296763\n",
      "[600]\tcv_agg's l2: 0.132131 + 0.0296881\n",
      "[700]\tcv_agg's l2: 0.132061 + 0.0295112\n"
     ]
    },
    {
     "name": "stderr",
     "output_type": "stream",
     "text": [
      "regularization_factors, val_score: 0.130549:  80%|#############################6       | 16/20 [01:52<00:22,  5.58s/it][I 2023-11-05 14:13:13,289] Trial 55 finished with value: 0.1320306563070744 and parameters: {'lambda_l1': 0.006459720300133483, 'lambda_l2': 5.91657153052313e-06}. Best is trial 46 with value: 0.13054906023671312.\n",
      "regularization_factors, val_score: 0.130549:  80%|#############################6       | 16/20 [01:52<00:22,  5.58s/it]"
     ]
    },
    {
     "name": "stdout",
     "output_type": "stream",
     "text": [
      "[800]\tcv_agg's l2: 0.132069 + 0.0294406\n",
      "Early stopping, best iteration is:\n",
      "[713]\tcv_agg's l2: 0.130549 + 0.0272327\n",
      "[100]\tcv_agg's l2: 0.137424 + 0.029835\n",
      "[200]\tcv_agg's l2: 0.134435 + 0.0302148\n",
      "[300]\tcv_agg's l2: 0.133344 + 0.0310121\n",
      "[400]\tcv_agg's l2: 0.133172 + 0.0308045\n",
      "[500]\tcv_agg's l2: 0.133205 + 0.0306471\n",
      "[600]\tcv_agg's l2: 0.133055 + 0.0305734\n",
      "[700]\tcv_agg's l2: 0.132981 + 0.0304749\n"
     ]
    },
    {
     "name": "stderr",
     "output_type": "stream",
     "text": [
      "regularization_factors, val_score: 0.130549:  85%|###############################4     | 17/20 [01:58<00:17,  5.73s/it][I 2023-11-05 14:13:19,365] Trial 56 finished with value: 0.13296125206026652 and parameters: {'lambda_l1': 0.002981151428005959, 'lambda_l2': 1.028791662205467e-05}. Best is trial 46 with value: 0.13054906023671312.\n",
      "regularization_factors, val_score: 0.130549:  85%|###############################4     | 17/20 [01:58<00:17,  5.73s/it]"
     ]
    },
    {
     "name": "stdout",
     "output_type": "stream",
     "text": [
      "[800]\tcv_agg's l2: 0.132898 + 0.0303841\n",
      "Early stopping, best iteration is:\n",
      "[713]\tcv_agg's l2: 0.130549 + 0.0272327\n",
      "[100]\tcv_agg's l2: 0.136689 + 0.0288464\n",
      "[200]\tcv_agg's l2: 0.134509 + 0.0298728\n",
      "[300]\tcv_agg's l2: 0.133203 + 0.0301906\n",
      "[400]\tcv_agg's l2: 0.132891 + 0.030292\n",
      "[500]\tcv_agg's l2: 0.132544 + 0.0301759\n",
      "[600]\tcv_agg's l2: 0.132403 + 0.0300979\n",
      "[700]\tcv_agg's l2: 0.132278 + 0.0300497\n"
     ]
    },
    {
     "name": "stderr",
     "output_type": "stream",
     "text": [
      "regularization_factors, val_score: 0.130549:  90%|#################################3   | 18/20 [02:03<00:11,  5.72s/it][I 2023-11-05 14:13:25,059] Trial 57 finished with value: 0.13226777776622495 and parameters: {'lambda_l1': 0.005754738130082671, 'lambda_l2': 5.087430309944071e-07}. Best is trial 46 with value: 0.13054906023671312.\n",
      "regularization_factors, val_score: 0.130549:  90%|#################################3   | 18/20 [02:03<00:11,  5.72s/it]"
     ]
    },
    {
     "name": "stdout",
     "output_type": "stream",
     "text": [
      "[800]\tcv_agg's l2: 0.132206 + 0.0300284\n",
      "Early stopping, best iteration is:\n",
      "[713]\tcv_agg's l2: 0.130549 + 0.0272327\n",
      "[100]\tcv_agg's l2: 0.139525 + 0.0303393\n",
      "[200]\tcv_agg's l2: 0.136266 + 0.0293337\n",
      "[300]\tcv_agg's l2: 0.135307 + 0.0298203\n",
      "[400]\tcv_agg's l2: 0.134672 + 0.0299255\n",
      "[500]\tcv_agg's l2: 0.134451 + 0.0299299\n",
      "[600]\tcv_agg's l2: 0.134412 + 0.0298878\n",
      "[700]\tcv_agg's l2: 0.134393 + 0.0298593\n"
     ]
    },
    {
     "name": "stderr",
     "output_type": "stream",
     "text": [
      "regularization_factors, val_score: 0.130549:  95%|###################################1 | 19/20 [02:07<00:05,  5.03s/it][I 2023-11-05 14:13:28,485] Trial 58 finished with value: 0.1343927938201942 and parameters: {'lambda_l1': 0.20962949435933892, 'lambda_l2': 1.3380345976886885e-05}. Best is trial 46 with value: 0.13054906023671312.\n",
      "regularization_factors, val_score: 0.130549:  95%|###################################1 | 19/20 [02:07<00:05,  5.03s/it]"
     ]
    },
    {
     "name": "stdout",
     "output_type": "stream",
     "text": [
      "[800]\tcv_agg's l2: 0.134393 + 0.0298593\n",
      "Early stopping, best iteration is:\n",
      "[713]\tcv_agg's l2: 0.130549 + 0.0272327\n",
      "[100]\tcv_agg's l2: 0.137684 + 0.0300045\n",
      "[200]\tcv_agg's l2: 0.134713 + 0.0311153\n",
      "[300]\tcv_agg's l2: 0.134566 + 0.0314056\n",
      "[400]\tcv_agg's l2: 0.134513 + 0.0316393\n",
      "[500]\tcv_agg's l2: 0.134246 + 0.0312711\n",
      "[600]\tcv_agg's l2: 0.134209 + 0.0310501\n",
      "[700]\tcv_agg's l2: 0.134179 + 0.030918\n"
     ]
    },
    {
     "name": "stderr",
     "output_type": "stream",
     "text": [
      "regularization_factors, val_score: 0.130549: 100%|#####################################| 20/20 [02:12<00:00,  5.20s/it][I 2023-11-05 14:13:34,077] Trial 59 finished with value: 0.13415659966743756 and parameters: {'lambda_l1': 0.016094845695979396, 'lambda_l2': 1.3323529305008722e-07}. Best is trial 46 with value: 0.13054906023671312.\n",
      "regularization_factors, val_score: 0.130549: 100%|#####################################| 20/20 [02:12<00:00,  6.64s/it]\n"
     ]
    },
    {
     "name": "stdout",
     "output_type": "stream",
     "text": [
      "[800]\tcv_agg's l2: 0.13415 + 0.0308536\n",
      "Early stopping, best iteration is:\n",
      "[713]\tcv_agg's l2: 0.130549 + 0.0272327\n"
     ]
    },
    {
     "name": "stderr",
     "output_type": "stream",
     "text": [
      "min_data_in_leaf, val_score: 0.130549:   0%|                                                     | 0/5 [00:00<?, ?it/s]"
     ]
    },
    {
     "name": "stdout",
     "output_type": "stream",
     "text": [
      "[100]\tcv_agg's l2: 0.214515 + 0.0186826\n",
      "[200]\tcv_agg's l2: 0.205307 + 0.0195981\n",
      "[300]\tcv_agg's l2: 0.204256 + 0.0229418\n",
      "[400]\tcv_agg's l2: 0.204054 + 0.0250857\n",
      "[500]\tcv_agg's l2: 0.205019 + 0.0263357\n",
      "[600]\tcv_agg's l2: 0.205391 + 0.0269083\n",
      "[700]\tcv_agg's l2: 0.20537 + 0.0268562\n"
     ]
    },
    {
     "name": "stderr",
     "output_type": "stream",
     "text": [
      "min_data_in_leaf, val_score: 0.130549:  20%|#########                                    | 1/5 [00:03<00:12,  3.06s/it][I 2023-11-05 14:13:37,144] Trial 60 finished with value: 0.2055093357054345 and parameters: {'min_child_samples': 50}. Best is trial 60 with value: 0.2055093357054345.\n",
      "min_data_in_leaf, val_score: 0.130549:  20%|#########                                    | 1/5 [00:03<00:12,  3.06s/it]"
     ]
    },
    {
     "name": "stdout",
     "output_type": "stream",
     "text": [
      "[800]\tcv_agg's l2: 0.206507 + 0.0271143\n",
      "Early stopping, best iteration is:\n",
      "[713]\tcv_agg's l2: 0.130549 + 0.0272327\n",
      "[100]\tcv_agg's l2: 0.129268 + 0.0310453\n",
      "[200]\tcv_agg's l2: 0.127893 + 0.032051\n",
      "[300]\tcv_agg's l2: 0.127356 + 0.0318061\n",
      "[400]\tcv_agg's l2: 0.127154 + 0.0316947\n"
     ]
    },
    {
     "name": "stderr",
     "output_type": "stream",
     "text": [
      "\r",
      "min_data_in_leaf, val_score: 0.127039:  20%|#########                                    | 1/5 [00:06<00:12,  3.06s/it]"
     ]
    },
    {
     "name": "stdout",
     "output_type": "stream",
     "text": [
      "[500]\tcv_agg's l2: 0.127041 + 0.0316818\n",
      "Early stopping, best iteration is:\n",
      "[494]\tcv_agg's l2: 0.127039 + 0.0316818\n"
     ]
    },
    {
     "name": "stderr",
     "output_type": "stream",
     "text": [
      "min_data_in_leaf, val_score: 0.127039:  40%|##################                           | 2/5 [00:06<00:10,  3.57s/it][I 2023-11-05 14:13:41,065] Trial 61 finished with value: 0.1270394586837299 and parameters: {'min_child_samples': 10}. Best is trial 61 with value: 0.1270394586837299.\n",
      "min_data_in_leaf, val_score: 0.127039:  40%|##################                           | 2/5 [00:06<00:10,  3.57s/it]"
     ]
    },
    {
     "name": "stdout",
     "output_type": "stream",
     "text": [
      "[100]\tcv_agg's l2: 0.652807 + 0.0621087\n",
      "[200]\tcv_agg's l2: 0.619503 + 0.0573077\n",
      "[300]\tcv_agg's l2: 0.602576 + 0.0545561\n",
      "[400]\tcv_agg's l2: 0.58824 + 0.057525\n",
      "[500]\tcv_agg's l2: 0.578444 + 0.0570186\n"
     ]
    },
    {
     "name": "stderr",
     "output_type": "stream",
     "text": [
      "min_data_in_leaf, val_score: 0.127039:  60%|###########################                  | 3/5 [00:08<00:05,  2.73s/it][I 2023-11-05 14:13:42,795] Trial 62 finished with value: 0.5788676572468819 and parameters: {'min_child_samples': 100}. Best is trial 61 with value: 0.1270394586837299.\n",
      "min_data_in_leaf, val_score: 0.127039:  60%|###########################                  | 3/5 [00:08<00:05,  2.73s/it]"
     ]
    },
    {
     "name": "stdout",
     "output_type": "stream",
     "text": [
      "Early stopping, best iteration is:\n",
      "[494]\tcv_agg's l2: 0.127039 + 0.0316818\n",
      "[100]\tcv_agg's l2: 0.13277 + 0.0361469\n",
      "[200]\tcv_agg's l2: 0.131009 + 0.0348948\n",
      "[300]\tcv_agg's l2: 0.130751 + 0.0345912\n",
      "[400]\tcv_agg's l2: 0.130606 + 0.0346015\n"
     ]
    },
    {
     "name": "stderr",
     "output_type": "stream",
     "text": [
      "min_data_in_leaf, val_score: 0.127039:  80%|####################################         | 4/5 [00:11<00:02,  2.92s/it][I 2023-11-05 14:13:46,001] Trial 63 finished with value: 0.13059687023816188 and parameters: {'min_child_samples': 5}. Best is trial 61 with value: 0.1270394586837299.\n",
      "min_data_in_leaf, val_score: 0.127039:  80%|####################################         | 4/5 [00:11<00:02,  2.92s/it]"
     ]
    },
    {
     "name": "stdout",
     "output_type": "stream",
     "text": [
      "[500]\tcv_agg's l2: 0.130597 + 0.0346005\n",
      "Early stopping, best iteration is:\n",
      "[494]\tcv_agg's l2: 0.127039 + 0.0316818\n",
      "[100]\tcv_agg's l2: 0.147791 + 0.0358535\n",
      "[200]\tcv_agg's l2: 0.144837 + 0.0357076\n",
      "[300]\tcv_agg's l2: 0.14399 + 0.035788\n",
      "[400]\tcv_agg's l2: 0.143684 + 0.0358187\n",
      "[500]\tcv_agg's l2: 0.143309 + 0.0359908\n"
     ]
    },
    {
     "name": "stderr",
     "output_type": "stream",
     "text": [
      "min_data_in_leaf, val_score: 0.127039: 100%|#############################################| 5/5 [00:15<00:00,  3.13s/it][I 2023-11-05 14:13:49,506] Trial 64 finished with value: 0.14333565193828185 and parameters: {'min_child_samples': 25}. Best is trial 61 with value: 0.1270394586837299.\n",
      "min_data_in_leaf, val_score: 0.127039: 100%|#############################################| 5/5 [00:15<00:00,  3.08s/it]"
     ]
    },
    {
     "name": "stdout",
     "output_type": "stream",
     "text": [
      "Early stopping, best iteration is:\n",
      "[494]\tcv_agg's l2: 0.127039 + 0.0316818\n"
     ]
    },
    {
     "name": "stderr",
     "output_type": "stream",
     "text": [
      "\n"
     ]
    }
   ],
   "source": [
    "import optuna.integration.lightgbm as lgb\n",
    "from lightgbm import early_stopping\n",
    "from sklearn.model_selection import KFold\n",
    "from sklearn.model_selection import RepeatedKFold\n",
    "\n",
    "\n",
    "lgb_train = lgb.Dataset(X_train_random_split, y_train_random_split)\n",
    "\n",
    "params = {\n",
    "    \"boosting_type\": \"gbdt\",\n",
    "    \"objective\": \"regression\",\n",
    "    \"metric\": \"l2\",\n",
    "    \"verbosity\": -1,\n",
    "}\n",
    "\n",
    "tuner = lgb.LightGBMTunerCV(\n",
    "    params,\n",
    "    lgb_train,\n",
    "    folds=KFold(n_splits=5),\n",
    "    num_boost_round=10000,\n",
    "    callbacks=[early_stopping(100), log_evaluation(100)],\n",
    ")\n",
    "\n",
    "tuner.run()"
   ]
  },
  {
   "cell_type": "code",
   "execution_count": 38,
   "id": "175988ae",
   "metadata": {},
   "outputs": [
    {
     "name": "stdout",
     "output_type": "stream",
     "text": [
      "Best score: 0.1270394586837299\n",
      "Params: \n",
      "    boosting_type: gbdt\n",
      "    objective: regression\n",
      "    metric: l2\n",
      "    verbosity: -1\n",
      "    feature_pre_filter: False\n",
      "    lambda_l1: 0.03459202957711342\n",
      "    lambda_l2: 1.949345794261655e-05\n",
      "    num_leaves: 31\n",
      "    feature_fraction: 0.4\n",
      "    bagging_fraction: 1.0\n",
      "    bagging_freq: 0\n",
      "    min_child_samples: 10\n"
     ]
    }
   ],
   "source": [
    "print(f\"Best score: {tuner.best_score}\")\n",
    "best_params = tuner.best_params\n",
    "print(\"Params: \")\n",
    "for key, value in best_params.items():\n",
    "    print(\"    {}: {}\".format(key, value))"
   ]
  },
  {
   "cell_type": "code",
   "execution_count": 39,
   "id": "b8e0ae76",
   "metadata": {},
   "outputs": [],
   "source": [
    "import lightgbm as lgb\n",
    "\n",
    "lgb_tuned = lgb.train(\n",
    "    best_params,\n",
    "    lgb_train,\n",
    "    num_boost_round=10000,\n",
    ")"
   ]
  },
  {
   "cell_type": "code",
   "execution_count": 40,
   "id": "ab41f140",
   "metadata": {},
   "outputs": [
    {
     "name": "stdout",
     "output_type": "stream",
     "text": [
      "RMSE train: 0.01\n",
      "RMSE test: 0.30\n",
      "MAE test: 0.21\n",
      "\n"
     ]
    }
   ],
   "source": [
    "rmse, mae = assess_regression_model(\n",
    "    lgb_tuned,\n",
    "    X_train_random_split,\n",
    "    X_test_random_split,\n",
    "    y_train_random_split,\n",
    "    y_test_random_split,\n",
    ")"
   ]
  },
  {
   "cell_type": "code",
   "execution_count": 41,
   "id": "36a7d705",
   "metadata": {},
   "outputs": [],
   "source": [
    "results.loc[3] = [\"random\", \"Optuna\", \"full\", rmse, mae]"
   ]
  },
  {
   "cell_type": "markdown",
   "id": "baffe730",
   "metadata": {},
   "source": [
    "###### MAE by level"
   ]
  },
  {
   "cell_type": "code",
   "execution_count": 42,
   "id": "4206dff5",
   "metadata": {},
   "outputs": [
    {
     "data": {
      "image/png": "[encoded data removed]",
      "text/plain": [
       "<Figure size 720x432 with 1 Axes>"
      ]
     },
     "metadata": {
      "needs_background": "light"
     },
     "output_type": "display_data"
    }
   ],
   "source": [
    "plot_mae_by_level(\n",
    "    y_test_random_split,\n",
    "    y_pred_test,\n",
    "    title=\"MAE by level for tuned LightGBM with full features and random split\",\n",
    ")"
   ]
  },
  {
   "cell_type": "code",
   "execution_count": 43,
   "id": "502bdb9c",
   "metadata": {
    "scrolled": true
   },
   "outputs": [
    {
     "name": "stdout",
     "output_type": "stream",
     "text": [
      "Default:\n",
      "RMSE: 0.17\n",
      "\n",
      "Round type: 0.5\n",
      "RMSE: 0.20\n",
      "\n",
      "Round type: 0.33\n",
      "RMSE: 0.22\n",
      "\n",
      "Round type: 0.45\n",
      "RMSE: 0.20\n",
      "\n"
     ]
    }
   ],
   "source": [
    "predict = lgb_tuned.predict(X_test)\n",
    "check_round_predictions([0.5, 0.33, 0.45], y_test, predict)"
   ]
  },
  {
   "cell_type": "code",
   "execution_count": 44,
   "id": "378511d8",
   "metadata": {},
   "outputs": [
    {
     "data": {
      "image/png": "[encoded data removed]",
      "text/plain": [
       "<Figure size 432x288 with 2 Axes>"
      ]
     },
     "metadata": {
      "needs_background": "light"
     },
     "output_type": "display_data"
    }
   ],
   "source": [
    "plot_confusion_matrix(\n",
    "    predict,\n",
    "    y_test,\n",
    "    title=\"Confusion matrix for tuned LightGBM with full features and random split\",\n",
    ")"
   ]
  },
  {
   "cell_type": "markdown",
   "id": "cbf21c29",
   "metadata": {},
   "source": [
    "## Summary"
   ]
  },
  {
   "cell_type": "code",
   "execution_count": 45,
   "id": "d065edf6",
   "metadata": {
    "scrolled": false
   },
   "outputs": [
    {
     "data": {
      "text/html": [
       "<div>\n",
       "<style scoped>\n",
       "    .dataframe tbody tr th:only-of-type {\n",
       "        vertical-align: middle;\n",
       "    }\n",
       "\n",
       "    .dataframe tbody tr th {\n",
       "        vertical-align: top;\n",
       "    }\n",
       "\n",
       "    .dataframe thead th {\n",
       "        text-align: right;\n",
       "    }\n",
       "</style>\n",
       "<table border=\"1\" class=\"dataframe\">\n",
       "  <thead>\n",
       "    <tr style=\"text-align: right;\">\n",
       "      <th></th>\n",
       "      <th>Split type</th>\n",
       "      <th>Tuning type</th>\n",
       "      <th>Set of features</th>\n",
       "      <th>RMSE</th>\n",
       "      <th>MAE</th>\n",
       "    </tr>\n",
       "  </thead>\n",
       "  <tbody>\n",
       "    <tr>\n",
       "      <th>0</th>\n",
       "      <td>chronological</td>\n",
       "      <td>default</td>\n",
       "      <td>full</td>\n",
       "      <td>0.962960</td>\n",
       "      <td>0.460853</td>\n",
       "    </tr>\n",
       "    <tr>\n",
       "      <th>1</th>\n",
       "      <td>chronological</td>\n",
       "      <td>Optuna</td>\n",
       "      <td>full</td>\n",
       "      <td>0.570186</td>\n",
       "      <td>0.354511</td>\n",
       "    </tr>\n",
       "    <tr>\n",
       "      <th>2</th>\n",
       "      <td>random</td>\n",
       "      <td>default</td>\n",
       "      <td>full</td>\n",
       "      <td>0.371349</td>\n",
       "      <td>0.246737</td>\n",
       "    </tr>\n",
       "    <tr>\n",
       "      <th>3</th>\n",
       "      <td>random</td>\n",
       "      <td>Optuna</td>\n",
       "      <td>full</td>\n",
       "      <td>0.301093</td>\n",
       "      <td>0.211254</td>\n",
       "    </tr>\n",
       "  </tbody>\n",
       "</table>\n",
       "</div>"
      ],
      "text/plain": [
       "      Split type Tuning type Set of features      RMSE       MAE\n",
       "0  chronological     default            full  0.962960  0.460853\n",
       "1  chronological      Optuna            full  0.570186  0.354511\n",
       "2         random     default            full  0.371349  0.246737\n",
       "3         random      Optuna            full  0.301093  0.211254"
      ]
     },
     "execution_count": 45,
     "metadata": {},
     "output_type": "execute_result"
    }
   ],
   "source": [
    "results"
   ]
  },
  {
   "cell_type": "code",
   "execution_count": 46,
   "id": "5ab8f79f",
   "metadata": {},
   "outputs": [],
   "source": [
    "from training.results import plot_summary"
   ]
  },
  {
   "cell_type": "code",
   "execution_count": 47,
   "id": "a642225d",
   "metadata": {},
   "outputs": [
    {
     "data": {
      "image/png": "[encoded data removed]",
      "text/plain": [
       "<Figure size 1440x576 with 1 Axes>"
      ]
     },
     "metadata": {
      "needs_background": "light"
     },
     "output_type": "display_data"
    }
   ],
   "source": [
    "plot_summary(results, \"RMSE\", title=\"RMSE for LightGBM with full features\")"
   ]
  },
  {
   "cell_type": "code",
   "execution_count": 48,
   "id": "07e30e23",
   "metadata": {},
   "outputs": [
    {
     "data": {
      "image/png": "[encoded data removed]",
      "text/plain": [
       "<Figure size 1440x576 with 1 Axes>"
      ]
     },
     "metadata": {
      "needs_background": "light"
     },
     "output_type": "display_data"
    }
   ],
   "source": [
    "plot_summary(results, \"MAE\", title=\"MAE for LightGBM with full features\")"
   ]
  },
  {
   "cell_type": "code",
   "execution_count": 49,
   "id": "ae68a99c",
   "metadata": {},
   "outputs": [],
   "source": [
    "results.to_json(\"./lightgbm_full_results.json\", indent=2)"
   ]
  },
  {
   "cell_type": "code",
   "execution_count": null,
   "id": "745b56ef",
   "metadata": {},
   "outputs": [],
   "source": []
  }
 ],
 "metadata": {
  "kernelspec": {
   "display_name": "Python 3 (ipykernel)",
   "language": "python",
   "name": "python3"
  },
  "language_info": {
   "codemirror_mode": {
    "name": "ipython",
    "version": 3
   },
   "file_extension": ".py",
   "mimetype": "text/x-python",
   "name": "python",
   "nbconvert_exporter": "python",
   "pygments_lexer": "ipython3",
   "version": "3.10.4"
  }
 },
 "nbformat": 4,
 "nbformat_minor": 5
}
