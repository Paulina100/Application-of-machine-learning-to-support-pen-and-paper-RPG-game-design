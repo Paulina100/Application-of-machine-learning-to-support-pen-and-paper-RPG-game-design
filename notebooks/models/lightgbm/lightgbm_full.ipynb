{
 "cells": [
  {
   "cell_type": "markdown",
   "id": "f64a671f",
   "metadata": {},
   "source": [
    "# LightGBM\n",
    "### Parameters:\n",
    "System:\n",
    "* **abilities**:\n",
    "    * **cha**\n",
    "    * **con**\n",
    "    * **dex**\n",
    "    * **int**\n",
    "    * **str**\n",
    "    * **wis**\n",
    "* **attributes**\n",
    "    * **hp**\n",
    "    * **ac**\n",
    "    * **perception**\n",
    "    * **speed** (*land speed*)\n",
    "        * **other speeds**: fly, climb, swim\n",
    "    * **num immunities**\n",
    "    * **resistances**: fire, cold, electricity, acid, piercing, slashing, physical, bludgeoning, mental, poison, all-damage\n",
    "    * **weaknesses**: cold-iron, good, fire, cold, area-damage, splash-damage, evil, slashing\n",
    "* **saves**\n",
    "    * **fortitude**\n",
    "    * **reflex**\n",
    "    * **will**\n",
    "* **resources**\n",
    "    * **focus**\n",
    "\n",
    "Items\n",
    "* **items**\n",
    "    * **melee**\n",
    "    * **ranged**\n",
    "    * **spells nr**\n",
    "\n",
    "### Prediction: *level*\n",
    "\n",
    "## Loading data"
   ]
  },
  {
   "cell_type": "code",
   "execution_count": 1,
   "id": "1f2515e7",
   "metadata": {},
   "outputs": [],
   "source": [
    "import numpy as np\n",
    "import pandas as pd\n",
    "import sys\n",
    "\n",
    "import os\n",
    "import pathlib\n",
    "\n",
    "sys.path.append(\"../../..\")\n",
    "from training.creating_dataset import load_and_preprocess_data\n",
    "\n",
    "current_path = os.getcwd()\n",
    "DATASETS_DIR = pathlib.Path(current_path).parent.parent.parent / \"pathfinder_2e_data\"\n",
    "DATASET_FILES = [\n",
    "    \"abomination-vaults-bestiary.db\",\n",
    "    \"age-of-ashes-bestiary.db\",\n",
    "    \"agents-of-edgewatch-bestiary.db\",\n",
    "    \"april-fools-bestiary.db\",\n",
    "    \"blog-bestiary.db\",\n",
    "    \"blood-lords-bestiary.db\",\n",
    "    \"book-of-the-dead-bestiary.db\",\n",
    "    \"crown-of-the-kobold-king-bestiary.db\",\n",
    "    \"extinction-curse-bestiary.db\",\n",
    "    \"fall-of-plaguestone.db\",\n",
    "    \"fists-of-the-ruby-phoenix-bestiary.db\",\n",
    "    \"gatewalkers-bestiary.db\",\n",
    "    \"impossible-lands-bestiary.db\",\n",
    "    \"kingmaker-bestiary.db\",\n",
    "    \"malevolence-bestiary.db\",\n",
    "    \"menace-under-otari-bestiary.db\",\n",
    "    \"monsters-of-myth-bestiary.db\",\n",
    "    \"mwangi-expanse-bestiary.db\",\n",
    "    \"night-of-the-gray-death-bestiary.db\",\n",
    "    \"npc-gallery.db\",\n",
    "    \"one-shot-bestiary.db\",\n",
    "    \"outlaws-of-alkenstar-bestiary.db\",\n",
    "    \"pathfinder-bestiary-2.db\",\n",
    "    \"pathfinder-bestiary-3.db\",\n",
    "    \"pathfinder-bestiary.db\",\n",
    "    \"pathfinder-dark-archive.db\",\n",
    "    \"pfs-introductions-bestiary.db\",\n",
    "    \"pfs-season-1-bestiary.db\",\n",
    "    \"pfs-season-2-bestiary.db\",\n",
    "    \"pfs-season-3-bestiary.db\",\n",
    "    \"pfs-season-4-bestiary.db\",\n",
    "    \"quest-for-the-frozen-flame-bestiary.db\",\n",
    "    \"shadows-at-sundown-bestiary.db\",\n",
    "    \"strength-of-thousands-bestiary.db\",\n",
    "    \"the-slithering-bestiary.db\",\n",
    "    \"travel-guide-bestiary.db\",\n",
    "    \"troubles-in-otari-bestiary.db\",\n",
    "]\n",
    "DATASET_PATHS = [f\"{DATASETS_DIR}/{file}\" for file in DATASET_FILES]\n",
    "features = [\n",
    "    \"cha\",\n",
    "    \"con\",\n",
    "    \"dex\",\n",
    "    \"int\",\n",
    "    \"str\",\n",
    "    \"wis\",\n",
    "    \"ac\",\n",
    "    \"hp\",\n",
    "    \"perception\",\n",
    "    \"fortitude\",\n",
    "    \"reflex\",\n",
    "    \"will\",\n",
    "    \"focus\",\n",
    "    \"land_speed\",\n",
    "    \"num_immunities\",\n",
    "    \"fly\",\n",
    "    \"swim\",\n",
    "    \"climb\",\n",
    "    \"fire_resistance\",\n",
    "    \"cold_resistance\",\n",
    "    \"electricity_resistance\",\n",
    "    \"acid_resistance\",\n",
    "    \"piercing_resistance\",\n",
    "    \"slashing_resistance\",\n",
    "    \"physical_resistance\",\n",
    "    \"bludgeoning_resistance\",\n",
    "    \"mental_resistance\",\n",
    "    \"poison_resistance\",\n",
    "    \"all-damage_resistance\",\n",
    "    \"cold-iron_weakness\",\n",
    "    \"good_weakness\",\n",
    "    \"fire_weakness\",\n",
    "    \"cold_weakness\",\n",
    "    \"area-damage_weakness\",\n",
    "    \"splash-damage_weakness\",\n",
    "    \"evil_weakness\",\n",
    "    \"slashing_weakness\",\n",
    "    \"melee\",\n",
    "    \"ranged\",\n",
    "    \"spells\",\n",
    "]\n",
    "\n",
    "df = load_and_preprocess_data(\n",
    "    DATASET_PATHS,\n",
    "    characteristics=features,\n",
    ")"
   ]
  },
  {
   "cell_type": "code",
   "execution_count": 2,
   "id": "b522f880",
   "metadata": {},
   "outputs": [
    {
     "name": "stdout",
     "output_type": "stream",
     "text": [
      "<class 'pandas.core.frame.DataFrame'>\n",
      "Int64Index: 3690 entries, 0 to 4327\n",
      "Data columns (total 52 columns):\n",
      " #   Column                  Non-Null Count  Dtype  \n",
      "---  ------                  --------------  -----  \n",
      " 0   con                     3690 non-null   float64\n",
      " 1   perception              3690 non-null   float64\n",
      " 2   ac                      3690 non-null   float64\n",
      " 3   cha                     3690 non-null   float64\n",
      " 4   focus                   3690 non-null   int32  \n",
      " 5   will                    3690 non-null   float64\n",
      " 6   fortitude               3690 non-null   float64\n",
      " 7   land_speed              3690 non-null   float64\n",
      " 8   level                   3690 non-null   int64  \n",
      " 9   hp                      3690 non-null   int32  \n",
      " 10  wis                     3690 non-null   float64\n",
      " 11  reflex                  3690 non-null   float64\n",
      " 12  int                     3690 non-null   float64\n",
      " 13  num_immunities          3690 non-null   int64  \n",
      " 14  dex                     3690 non-null   float64\n",
      " 15  str                     3690 non-null   float64\n",
      " 16  book                    3690 non-null   object \n",
      " 17  electricity_resistance  3690 non-null   int64  \n",
      " 18  fire_resistance         3690 non-null   int64  \n",
      " 19  bludgeoning_resistance  3690 non-null   int64  \n",
      " 20  slashing_resistance     3690 non-null   int64  \n",
      " 21  acid_resistance         3690 non-null   int64  \n",
      " 22  mental_resistance       3690 non-null   int64  \n",
      " 23  all-damage_resistance   3690 non-null   int64  \n",
      " 24  piercing_resistance     3690 non-null   int64  \n",
      " 25  cold_resistance         3690 non-null   int64  \n",
      " 26  poison_resistance       3690 non-null   int64  \n",
      " 27  physical_resistance     3690 non-null   int64  \n",
      " 28  good_weakness           3690 non-null   int64  \n",
      " 29  fire_weakness           3690 non-null   int64  \n",
      " 30  cold-iron_weakness      3690 non-null   int64  \n",
      " 31  cold_weakness           3690 non-null   int64  \n",
      " 32  splash-damage_weakness  3690 non-null   int64  \n",
      " 33  slashing_weakness       3690 non-null   int64  \n",
      " 34  evil_weakness           3690 non-null   int64  \n",
      " 35  area-damage_weakness    3690 non-null   int64  \n",
      " 36  climb                   3690 non-null   int64  \n",
      " 37  fly                     3690 non-null   int64  \n",
      " 38  swim                    3690 non-null   int64  \n",
      " 39  spells_nr_lvl_1         3690 non-null   int64  \n",
      " 40  spells_nr_lvl_2         3690 non-null   int64  \n",
      " 41  spells_nr_lvl_3         3690 non-null   int64  \n",
      " 42  spells_nr_lvl_4         3690 non-null   int64  \n",
      " 43  spells_nr_lvl_5         3690 non-null   int64  \n",
      " 44  spells_nr_lvl_6         3690 non-null   int64  \n",
      " 45  spells_nr_lvl_7         3690 non-null   int64  \n",
      " 46  spells_nr_lvl_8         3690 non-null   int64  \n",
      " 47  spells_nr_lvl_9         3690 non-null   int64  \n",
      " 48  melee_max_bonus         3690 non-null   int64  \n",
      " 49  avg_melee_dmg           3690 non-null   float64\n",
      " 50  ranged_max_bonus        3690 non-null   int64  \n",
      " 51  avg_ranged_dmg          3690 non-null   float64\n",
      "dtypes: float64(14), int32(2), int64(35), object(1)\n",
      "memory usage: 1.5+ MB\n"
     ]
    }
   ],
   "source": [
    "df.info()"
   ]
  },
  {
   "cell_type": "code",
   "execution_count": 3,
   "id": "1b5450d3",
   "metadata": {},
   "outputs": [
    {
     "data": {
      "text/html": [
       "<div>\n",
       "<style scoped>\n",
       "    .dataframe tbody tr th:only-of-type {\n",
       "        vertical-align: middle;\n",
       "    }\n",
       "\n",
       "    .dataframe tbody tr th {\n",
       "        vertical-align: top;\n",
       "    }\n",
       "\n",
       "    .dataframe thead th {\n",
       "        text-align: right;\n",
       "    }\n",
       "</style>\n",
       "<table border=\"1\" class=\"dataframe\">\n",
       "  <thead>\n",
       "    <tr style=\"text-align: right;\">\n",
       "      <th></th>\n",
       "      <th>con</th>\n",
       "      <th>perception</th>\n",
       "      <th>ac</th>\n",
       "      <th>cha</th>\n",
       "      <th>focus</th>\n",
       "      <th>will</th>\n",
       "      <th>fortitude</th>\n",
       "      <th>land_speed</th>\n",
       "      <th>level</th>\n",
       "      <th>hp</th>\n",
       "      <th>...</th>\n",
       "      <th>spells_nr_lvl_4</th>\n",
       "      <th>spells_nr_lvl_5</th>\n",
       "      <th>spells_nr_lvl_6</th>\n",
       "      <th>spells_nr_lvl_7</th>\n",
       "      <th>spells_nr_lvl_8</th>\n",
       "      <th>spells_nr_lvl_9</th>\n",
       "      <th>melee_max_bonus</th>\n",
       "      <th>avg_melee_dmg</th>\n",
       "      <th>ranged_max_bonus</th>\n",
       "      <th>avg_ranged_dmg</th>\n",
       "    </tr>\n",
       "  </thead>\n",
       "  <tbody>\n",
       "    <tr>\n",
       "      <th>0</th>\n",
       "      <td>0.0</td>\n",
       "      <td>18.0</td>\n",
       "      <td>28.0</td>\n",
       "      <td>0.0</td>\n",
       "      <td>1</td>\n",
       "      <td>20.0</td>\n",
       "      <td>15.0</td>\n",
       "      <td>20.0</td>\n",
       "      <td>9</td>\n",
       "      <td>155</td>\n",
       "      <td>...</td>\n",
       "      <td>2</td>\n",
       "      <td>0</td>\n",
       "      <td>0</td>\n",
       "      <td>0</td>\n",
       "      <td>0</td>\n",
       "      <td>0</td>\n",
       "      <td>21</td>\n",
       "      <td>19.0</td>\n",
       "      <td>0</td>\n",
       "      <td>0.0</td>\n",
       "    </tr>\n",
       "    <tr>\n",
       "      <th>1</th>\n",
       "      <td>6.0</td>\n",
       "      <td>19.0</td>\n",
       "      <td>30.0</td>\n",
       "      <td>0.0</td>\n",
       "      <td>0</td>\n",
       "      <td>19.0</td>\n",
       "      <td>22.0</td>\n",
       "      <td>40.0</td>\n",
       "      <td>10</td>\n",
       "      <td>175</td>\n",
       "      <td>...</td>\n",
       "      <td>0</td>\n",
       "      <td>0</td>\n",
       "      <td>0</td>\n",
       "      <td>0</td>\n",
       "      <td>0</td>\n",
       "      <td>0</td>\n",
       "      <td>23</td>\n",
       "      <td>22.0</td>\n",
       "      <td>0</td>\n",
       "      <td>0.0</td>\n",
       "    </tr>\n",
       "    <tr>\n",
       "      <th>2</th>\n",
       "      <td>1.0</td>\n",
       "      <td>7.0</td>\n",
       "      <td>17.0</td>\n",
       "      <td>1.0</td>\n",
       "      <td>0</td>\n",
       "      <td>9.0</td>\n",
       "      <td>7.0</td>\n",
       "      <td>30.0</td>\n",
       "      <td>2</td>\n",
       "      <td>38</td>\n",
       "      <td>...</td>\n",
       "      <td>0</td>\n",
       "      <td>0</td>\n",
       "      <td>0</td>\n",
       "      <td>0</td>\n",
       "      <td>0</td>\n",
       "      <td>0</td>\n",
       "      <td>9</td>\n",
       "      <td>6.5</td>\n",
       "      <td>8</td>\n",
       "      <td>6.5</td>\n",
       "    </tr>\n",
       "    <tr>\n",
       "      <th>3</th>\n",
       "      <td>3.0</td>\n",
       "      <td>16.0</td>\n",
       "      <td>27.0</td>\n",
       "      <td>1.0</td>\n",
       "      <td>0</td>\n",
       "      <td>15.0</td>\n",
       "      <td>17.0</td>\n",
       "      <td>30.0</td>\n",
       "      <td>8</td>\n",
       "      <td>140</td>\n",
       "      <td>...</td>\n",
       "      <td>0</td>\n",
       "      <td>0</td>\n",
       "      <td>0</td>\n",
       "      <td>0</td>\n",
       "      <td>0</td>\n",
       "      <td>0</td>\n",
       "      <td>20</td>\n",
       "      <td>18.0</td>\n",
       "      <td>20</td>\n",
       "      <td>9.5</td>\n",
       "    </tr>\n",
       "    <tr>\n",
       "      <th>4</th>\n",
       "      <td>0.0</td>\n",
       "      <td>20.0</td>\n",
       "      <td>31.0</td>\n",
       "      <td>2.0</td>\n",
       "      <td>0</td>\n",
       "      <td>18.0</td>\n",
       "      <td>14.0</td>\n",
       "      <td>0.0</td>\n",
       "      <td>9</td>\n",
       "      <td>90</td>\n",
       "      <td>...</td>\n",
       "      <td>0</td>\n",
       "      <td>0</td>\n",
       "      <td>0</td>\n",
       "      <td>0</td>\n",
       "      <td>0</td>\n",
       "      <td>0</td>\n",
       "      <td>17</td>\n",
       "      <td>21.5</td>\n",
       "      <td>0</td>\n",
       "      <td>0.0</td>\n",
       "    </tr>\n",
       "  </tbody>\n",
       "</table>\n",
       "<p>5 rows × 52 columns</p>\n",
       "</div>"
      ],
      "text/plain": [
       "   con  perception    ac  cha  focus  will  fortitude  land_speed  level   hp  \\\n",
       "0  0.0        18.0  28.0  0.0      1  20.0       15.0        20.0      9  155   \n",
       "1  6.0        19.0  30.0  0.0      0  19.0       22.0        40.0     10  175   \n",
       "2  1.0         7.0  17.0  1.0      0   9.0        7.0        30.0      2   38   \n",
       "3  3.0        16.0  27.0  1.0      0  15.0       17.0        30.0      8  140   \n",
       "4  0.0        20.0  31.0  2.0      0  18.0       14.0         0.0      9   90   \n",
       "\n",
       "   ...  spells_nr_lvl_4  spells_nr_lvl_5  spells_nr_lvl_6  spells_nr_lvl_7  \\\n",
       "0  ...                2                0                0                0   \n",
       "1  ...                0                0                0                0   \n",
       "2  ...                0                0                0                0   \n",
       "3  ...                0                0                0                0   \n",
       "4  ...                0                0                0                0   \n",
       "\n",
       "   spells_nr_lvl_8  spells_nr_lvl_9 melee_max_bonus  avg_melee_dmg  \\\n",
       "0                0                0              21           19.0   \n",
       "1                0                0              23           22.0   \n",
       "2                0                0               9            6.5   \n",
       "3                0                0              20           18.0   \n",
       "4                0                0              17           21.5   \n",
       "\n",
       "   ranged_max_bonus  avg_ranged_dmg  \n",
       "0                 0             0.0  \n",
       "1                 0             0.0  \n",
       "2                 8             6.5  \n",
       "3                20             9.5  \n",
       "4                 0             0.0  \n",
       "\n",
       "[5 rows x 52 columns]"
      ]
     },
     "execution_count": 3,
     "metadata": {},
     "output_type": "execute_result"
    }
   ],
   "source": [
    "df.head()"
   ]
  },
  {
   "cell_type": "markdown",
   "id": "0caa661f",
   "metadata": {},
   "source": [
    "###### Level"
   ]
  },
  {
   "cell_type": "code",
   "execution_count": 4,
   "id": "c200d2b4",
   "metadata": {},
   "outputs": [
    {
     "data": {
      "text/plain": [
       "0        9\n",
       "1       10\n",
       "2        2\n",
       "3        8\n",
       "4        9\n",
       "        ..\n",
       "4322     2\n",
       "4324     3\n",
       "4325     4\n",
       "4326     2\n",
       "4327     2\n",
       "Name: level, Length: 3690, dtype: int64"
      ]
     },
     "execution_count": 4,
     "metadata": {},
     "output_type": "execute_result"
    }
   ],
   "source": [
    "y = df[\"level\"]\n",
    "y"
   ]
  },
  {
   "cell_type": "code",
   "execution_count": 5,
   "id": "553822a7",
   "metadata": {},
   "outputs": [],
   "source": [
    "from collections import defaultdict\n",
    "\n",
    "\n",
    "lvl_stat = defaultdict(lambda: 0)\n",
    "\n",
    "for lvl in y:\n",
    "    lvl_stat[lvl] += 1"
   ]
  },
  {
   "cell_type": "code",
   "execution_count": 6,
   "id": "e45d6c29",
   "metadata": {},
   "outputs": [
    {
     "data": {
      "text/html": [
       "<div>\n",
       "<style scoped>\n",
       "    .dataframe tbody tr th:only-of-type {\n",
       "        vertical-align: middle;\n",
       "    }\n",
       "\n",
       "    .dataframe tbody tr th {\n",
       "        vertical-align: top;\n",
       "    }\n",
       "\n",
       "    .dataframe thead th {\n",
       "        text-align: right;\n",
       "    }\n",
       "</style>\n",
       "<table border=\"1\" class=\"dataframe\">\n",
       "  <thead>\n",
       "    <tr style=\"text-align: right;\">\n",
       "      <th></th>\n",
       "      <th>lvl</th>\n",
       "      <th>count</th>\n",
       "    </tr>\n",
       "  </thead>\n",
       "  <tbody>\n",
       "    <tr>\n",
       "      <th>0</th>\n",
       "      <td>-1</td>\n",
       "      <td>147</td>\n",
       "    </tr>\n",
       "    <tr>\n",
       "      <th>1</th>\n",
       "      <td>0</td>\n",
       "      <td>87</td>\n",
       "    </tr>\n",
       "    <tr>\n",
       "      <th>2</th>\n",
       "      <td>1</td>\n",
       "      <td>320</td>\n",
       "    </tr>\n",
       "    <tr>\n",
       "      <th>3</th>\n",
       "      <td>2</td>\n",
       "      <td>335</td>\n",
       "    </tr>\n",
       "    <tr>\n",
       "      <th>4</th>\n",
       "      <td>3</td>\n",
       "      <td>339</td>\n",
       "    </tr>\n",
       "    <tr>\n",
       "      <th>5</th>\n",
       "      <td>4</td>\n",
       "      <td>274</td>\n",
       "    </tr>\n",
       "    <tr>\n",
       "      <th>6</th>\n",
       "      <td>5</td>\n",
       "      <td>268</td>\n",
       "    </tr>\n",
       "    <tr>\n",
       "      <th>7</th>\n",
       "      <td>6</td>\n",
       "      <td>220</td>\n",
       "    </tr>\n",
       "    <tr>\n",
       "      <th>8</th>\n",
       "      <td>7</td>\n",
       "      <td>215</td>\n",
       "    </tr>\n",
       "    <tr>\n",
       "      <th>9</th>\n",
       "      <td>8</td>\n",
       "      <td>188</td>\n",
       "    </tr>\n",
       "    <tr>\n",
       "      <th>10</th>\n",
       "      <td>9</td>\n",
       "      <td>165</td>\n",
       "    </tr>\n",
       "    <tr>\n",
       "      <th>11</th>\n",
       "      <td>10</td>\n",
       "      <td>142</td>\n",
       "    </tr>\n",
       "    <tr>\n",
       "      <th>12</th>\n",
       "      <td>11</td>\n",
       "      <td>114</td>\n",
       "    </tr>\n",
       "    <tr>\n",
       "      <th>13</th>\n",
       "      <td>12</td>\n",
       "      <td>104</td>\n",
       "    </tr>\n",
       "    <tr>\n",
       "      <th>14</th>\n",
       "      <td>13</td>\n",
       "      <td>121</td>\n",
       "    </tr>\n",
       "    <tr>\n",
       "      <th>15</th>\n",
       "      <td>14</td>\n",
       "      <td>115</td>\n",
       "    </tr>\n",
       "    <tr>\n",
       "      <th>16</th>\n",
       "      <td>15</td>\n",
       "      <td>105</td>\n",
       "    </tr>\n",
       "    <tr>\n",
       "      <th>17</th>\n",
       "      <td>16</td>\n",
       "      <td>95</td>\n",
       "    </tr>\n",
       "    <tr>\n",
       "      <th>18</th>\n",
       "      <td>17</td>\n",
       "      <td>74</td>\n",
       "    </tr>\n",
       "    <tr>\n",
       "      <th>19</th>\n",
       "      <td>18</td>\n",
       "      <td>94</td>\n",
       "    </tr>\n",
       "    <tr>\n",
       "      <th>20</th>\n",
       "      <td>19</td>\n",
       "      <td>56</td>\n",
       "    </tr>\n",
       "    <tr>\n",
       "      <th>21</th>\n",
       "      <td>20</td>\n",
       "      <td>57</td>\n",
       "    </tr>\n",
       "    <tr>\n",
       "      <th>22</th>\n",
       "      <td>21</td>\n",
       "      <td>55</td>\n",
       "    </tr>\n",
       "  </tbody>\n",
       "</table>\n",
       "</div>"
      ],
      "text/plain": [
       "    lvl  count\n",
       "0    -1    147\n",
       "1     0     87\n",
       "2     1    320\n",
       "3     2    335\n",
       "4     3    339\n",
       "5     4    274\n",
       "6     5    268\n",
       "7     6    220\n",
       "8     7    215\n",
       "9     8    188\n",
       "10    9    165\n",
       "11   10    142\n",
       "12   11    114\n",
       "13   12    104\n",
       "14   13    121\n",
       "15   14    115\n",
       "16   15    105\n",
       "17   16     95\n",
       "18   17     74\n",
       "19   18     94\n",
       "20   19     56\n",
       "21   20     57\n",
       "22   21     55"
      ]
     },
     "execution_count": 6,
     "metadata": {},
     "output_type": "execute_result"
    }
   ],
   "source": [
    "level_count = pd.DataFrame(\n",
    "    data={\n",
    "        \"lvl\": [key for key in sorted(lvl_stat.keys())],\n",
    "        \"count\": [lvl_stat.get(key) for key in sorted(lvl_stat.keys())],\n",
    "    }\n",
    ")\n",
    "level_count"
   ]
  },
  {
   "cell_type": "code",
   "execution_count": 7,
   "id": "bdbfe8de",
   "metadata": {},
   "outputs": [
    {
     "data": {
      "image/png": "[encoded data removed]",
      "text/plain": [
       "<Figure size 432x288 with 1 Axes>"
      ]
     },
     "metadata": {
      "needs_background": "light"
     },
     "output_type": "display_data"
    }
   ],
   "source": [
    "import matplotlib.pyplot as plt\n",
    "\n",
    "\n",
    "level_count.plot.bar(x=\"lvl\", y=\"count\", title=\"Count of levels\")\n",
    "\n",
    "plt.savefig(f\"../results_diagrams/other/Count of levels.svg\")\n",
    "plt.show()"
   ]
  },
  {
   "cell_type": "markdown",
   "id": "9fdb6541",
   "metadata": {},
   "source": [
    "## Train test split"
   ]
  },
  {
   "cell_type": "markdown",
   "id": "18f56629",
   "metadata": {},
   "source": [
    "### Chronological split"
   ]
  },
  {
   "cell_type": "code",
   "execution_count": 8,
   "id": "dcda359b",
   "metadata": {},
   "outputs": [],
   "source": [
    "from training.splitting_dataset import split_dataframe\n",
    "\n",
    "\n",
    "os.chdir(\"../../../training\")\n",
    "X_train, X_test, y_train, y_test = split_dataframe(df, test_size=0.31)\n",
    "os.chdir(\"../notebooks/models/lightgbm\")"
   ]
  },
  {
   "cell_type": "code",
   "execution_count": 9,
   "id": "17dbc875",
   "metadata": {},
   "outputs": [],
   "source": [
    "X_train = X_train.drop(columns=[\"book\"])\n",
    "X_test = X_test.drop(columns=[\"book\"])"
   ]
  },
  {
   "cell_type": "markdown",
   "id": "25879636",
   "metadata": {},
   "source": [
    "### Random split"
   ]
  },
  {
   "cell_type": "code",
   "execution_count": 10,
   "id": "982ec5eb",
   "metadata": {},
   "outputs": [],
   "source": [
    "(\n",
    "    X_train_random_split,\n",
    "    X_test_random_split,\n",
    "    y_train_random_split,\n",
    "    y_test_random_split,\n",
    ") = split_dataframe(df, chronological_split=False)"
   ]
  },
  {
   "cell_type": "code",
   "execution_count": 11,
   "id": "90569e78",
   "metadata": {},
   "outputs": [],
   "source": [
    "X_train_random_split = X_train_random_split.drop(columns=[\"book\"])\n",
    "X_test_random_split = X_test_random_split.drop(columns=[\"book\"])"
   ]
  },
  {
   "cell_type": "markdown",
   "id": "9b259fbf",
   "metadata": {},
   "source": [
    "## LightGBM"
   ]
  },
  {
   "cell_type": "markdown",
   "id": "14f37d9b",
   "metadata": {},
   "source": [
    "## Chronological split"
   ]
  },
  {
   "cell_type": "code",
   "execution_count": 12,
   "id": "2bc4c90e",
   "metadata": {},
   "outputs": [
    {
     "name": "stdout",
     "output_type": "stream",
     "text": [
      "[LightGBM] [Warning] Auto-choosing row-wise multi-threading, the overhead of testing was 0.001355 seconds.\n",
      "You can set `force_row_wise=true` to remove the overhead.\n",
      "And if memory is not enough, you can set `force_col_wise=true`.\n",
      "[LightGBM] [Info] Total Bins 913\n",
      "[LightGBM] [Info] Number of data points in the train set: 1626, number of used features: 50\n",
      "[LightGBM] [Info] Start training from score 7.212177\n",
      "Training until validation scores don't improve for 5 rounds\n",
      "Did not meet early stopping. Best iteration is:\n",
      "[99]\tvalid_0's l1: 0.356037\tvalid_0's l2: 0.355836\n"
     ]
    }
   ],
   "source": [
    "import lightgbm as lgb\n",
    "\n",
    "lgb_train = lgb.Dataset(X_train, y_train)\n",
    "lgb_eval = lgb.Dataset(X_test, y_test, reference=lgb_train)\n",
    "\n",
    "params = {\n",
    "    \"boosting_type\": \"gbdt\",\n",
    "    \"objective\": \"regression\",\n",
    "    \"metric\": {\"l2\", \"l1\"},\n",
    "}\n",
    "\n",
    "gbm = lgb.train(\n",
    "    params,\n",
    "    lgb_train,\n",
    "    num_boost_round=100,\n",
    "    valid_sets=lgb_eval,\n",
    "    callbacks=[lgb.early_stopping(stopping_rounds=5)],\n",
    ")"
   ]
  },
  {
   "cell_type": "code",
   "execution_count": 13,
   "id": "f1ae2eaa",
   "metadata": {},
   "outputs": [],
   "source": [
    "y_pred_train = gbm.predict(X_train, num_iteration=gbm.best_iteration)\n",
    "y_pred_test = gbm.predict(X_test, num_iteration=gbm.best_iteration)"
   ]
  },
  {
   "cell_type": "code",
   "execution_count": 14,
   "id": "ef9d09eb",
   "metadata": {},
   "outputs": [
    {
     "name": "stdout",
     "output_type": "stream",
     "text": [
      "RMSE: 0.60\n",
      "MAE: 0.36\n"
     ]
    }
   ],
   "source": [
    "from sklearn.metrics import mean_squared_error, mean_absolute_error\n",
    "\n",
    "\n",
    "rmse = mean_squared_error(y_test, y_pred_test, squared=False)\n",
    "mae = mean_absolute_error(y_test, y_pred_test)\n",
    "\n",
    "print(f\"RMSE: {rmse:.2f}\")\n",
    "print(f\"MAE: {mae:.2f}\")"
   ]
  },
  {
   "cell_type": "code",
   "execution_count": 15,
   "id": "6e288d53",
   "metadata": {},
   "outputs": [],
   "source": [
    "results = pd.DataFrame(\n",
    "    data={\n",
    "        \"Split type\": [],\n",
    "        \"Tuning type\": [],\n",
    "        \"Set of features\": [],\n",
    "        \"RMSE\": [],\n",
    "        \"MAE\": [],\n",
    "    }\n",
    ")\n",
    "\n",
    "results.loc[0] = [\"chronological\", \"default\", \"full\", rmse, mae]"
   ]
  },
  {
   "cell_type": "code",
   "execution_count": 16,
   "id": "78bb7ffa",
   "metadata": {},
   "outputs": [
    {
     "name": "stdout",
     "output_type": "stream",
     "text": [
      "RMSE train: 0.17\n",
      "RMSE test: 0.60\n"
     ]
    }
   ],
   "source": [
    "rmse_train = mean_squared_error(y_train, y_pred_train, squared=False)\n",
    "rmse_test = mean_squared_error(y_test, y_pred_test, squared=False)\n",
    "print(f\"RMSE train: {rmse_train:.2f}\")\n",
    "print(f\"RMSE test: {rmse_test:.2f}\")"
   ]
  },
  {
   "cell_type": "markdown",
   "id": "1822ab4b",
   "metadata": {},
   "source": [
    "###### MAE by level"
   ]
  },
  {
   "cell_type": "code",
   "execution_count": 17,
   "id": "89d4733e",
   "metadata": {},
   "outputs": [],
   "source": [
    "from training.results import plot_mae_by_level"
   ]
  },
  {
   "cell_type": "code",
   "execution_count": 18,
   "id": "062bc79b",
   "metadata": {},
   "outputs": [
    {
     "data": {
      "image/png": "[encoded data removed]",
      "text/plain": [
       "<Figure size 1440x576 with 1 Axes>"
      ]
     },
     "metadata": {
      "needs_background": "light"
     },
     "output_type": "display_data"
    }
   ],
   "source": [
    "plot_mae_by_level(\n",
    "    y_test,\n",
    "    y_pred_test,\n",
    "    title=\"MAE by level for default LightGBM with full features and chronological split\",\n",
    ")"
   ]
  },
  {
   "cell_type": "code",
   "execution_count": 19,
   "id": "ec8cab49",
   "metadata": {
    "scrolled": true
   },
   "outputs": [
    {
     "name": "stdout",
     "output_type": "stream",
     "text": [
      "Default:\n",
      "RMSE: 0.60\n",
      "\n",
      "Round type: 0.5\n",
      "RMSE: 0.62\n",
      "\n",
      "Round type: 0.33\n",
      "RMSE: 0.64\n",
      "\n",
      "Round type: 0.45\n",
      "RMSE: 0.62\n",
      "\n"
     ]
    }
   ],
   "source": [
    "from training.results import evaluate_round_predictions, plot_confusion_matrix\n",
    "\n",
    "\n",
    "evaluate_round_predictions([0.5, 0.33, 0.45], y_test, y_pred_test)"
   ]
  },
  {
   "cell_type": "code",
   "execution_count": 20,
   "id": "9129a0ae",
   "metadata": {},
   "outputs": [
    {
     "data": {
      "image/png": "[encoded data removed]",
      "text/plain": [
       "<Figure size 720x720 with 2 Axes>"
      ]
     },
     "metadata": {
      "needs_background": "light"
     },
     "output_type": "display_data"
    }
   ],
   "source": [
    "plot_confusion_matrix(\n",
    "    y_pred_test,\n",
    "    y_test,\n",
    "    title=\"Confusion matrix for default LightGBM with\\nfull features and chronological split\",\n",
    ")"
   ]
  },
  {
   "cell_type": "markdown",
   "id": "0e591f6c",
   "metadata": {},
   "source": [
    "#### Tuning"
   ]
  },
  {
   "cell_type": "code",
   "execution_count": 21,
   "id": "2f781cab",
   "metadata": {},
   "outputs": [],
   "source": [
    "from training.results import assess_regression_model"
   ]
  },
  {
   "cell_type": "code",
   "execution_count": 22,
   "id": "d8734e01",
   "metadata": {},
   "outputs": [
    {
     "name": "stderr",
     "output_type": "stream",
     "text": [
      "[I 2023-12-01 17:43:15,140] A new study created in memory with name: no-name-aa016101-6e25-4093-8c5e-4ced397c2b12\n",
      "feature_fraction, val_score: inf:   0%|                                                          | 0/7 [00:00<?, ?it/s]"
     ]
    },
    {
     "name": "stdout",
     "output_type": "stream",
     "text": [
      "Training until validation scores don't improve for 100 rounds\n",
      "[100]\tcv_agg's l2: 0.178373 + 0.112111\n",
      "[200]\tcv_agg's l2: 0.176605 + 0.108465\n"
     ]
    },
    {
     "name": "stderr",
     "output_type": "stream",
     "text": [
      "feature_fraction, val_score: 0.176345:  14%|######4                                      | 1/7 [00:06<00:40,  6.70s/it][I 2023-12-01 17:43:21,849] Trial 0 finished with value: 0.17634469128751104 and parameters: {'feature_fraction': 0.6}. Best is trial 0 with value: 0.17634469128751104.\n",
      "feature_fraction, val_score: 0.176345:  14%|######4                                      | 1/7 [00:06<00:40,  6.70s/it]"
     ]
    },
    {
     "name": "stdout",
     "output_type": "stream",
     "text": [
      "Early stopping, best iteration is:\n",
      "[174]\tcv_agg's l2: 0.176345 + 0.108236\n",
      "[100]\tcv_agg's l2: 0.17668 + 0.102699\n",
      "[200]\tcv_agg's l2: 0.173587 + 0.100624\n"
     ]
    },
    {
     "name": "stderr",
     "output_type": "stream",
     "text": [
      "feature_fraction, val_score: 0.173475:  29%|############8                                | 2/7 [00:11<00:27,  5.55s/it][I 2023-12-01 17:43:26,589] Trial 1 finished with value: 0.17347476326936326 and parameters: {'feature_fraction': 0.4}. Best is trial 1 with value: 0.17347476326936326.\n",
      "feature_fraction, val_score: 0.173475:  29%|############8                                | 2/7 [00:11<00:27,  5.55s/it]"
     ]
    },
    {
     "name": "stdout",
     "output_type": "stream",
     "text": [
      "Early stopping, best iteration is:\n",
      "[168]\tcv_agg's l2: 0.173475 + 0.100786\n",
      "[100]\tcv_agg's l2: 0.17272 + 0.11437\n",
      "[200]\tcv_agg's l2: 0.168877 + 0.111125\n",
      "[300]\tcv_agg's l2: 0.168049 + 0.11026\n",
      "[400]\tcv_agg's l2: 0.168014 + 0.109485\n"
     ]
    },
    {
     "name": "stderr",
     "output_type": "stream",
     "text": [
      "feature_fraction, val_score: 0.167905:  43%|###################2                         | 3/7 [00:17<00:22,  5.70s/it][I 2023-12-01 17:43:32,463] Trial 2 finished with value: 0.1679050195062291 and parameters: {'feature_fraction': 0.7}. Best is trial 2 with value: 0.1679050195062291.\n",
      "feature_fraction, val_score: 0.167905:  43%|###################2                         | 3/7 [00:17<00:22,  5.70s/it]"
     ]
    },
    {
     "name": "stdout",
     "output_type": "stream",
     "text": [
      "Early stopping, best iteration is:\n",
      "[336]\tcv_agg's l2: 0.167905 + 0.10979\n",
      "[100]\tcv_agg's l2: 0.179626 + 0.11688\n",
      "[200]\tcv_agg's l2: 0.17528 + 0.114249\n",
      "[300]\tcv_agg's l2: 0.174793 + 0.113212\n",
      "[400]\tcv_agg's l2: 0.175066 + 0.112771\n"
     ]
    },
    {
     "name": "stderr",
     "output_type": "stream",
     "text": [
      "feature_fraction, val_score: 0.167905:  57%|#########################7                   | 4/7 [00:24<00:19,  6.48s/it][I 2023-12-01 17:43:40,141] Trial 3 finished with value: 0.17493077036070365 and parameters: {'feature_fraction': 0.8}. Best is trial 2 with value: 0.1679050195062291.\n",
      "feature_fraction, val_score: 0.167905:  57%|#########################7                   | 4/7 [00:24<00:19,  6.48s/it]"
     ]
    },
    {
     "name": "stdout",
     "output_type": "stream",
     "text": [
      "Early stopping, best iteration is:\n",
      "[336]\tcv_agg's l2: 0.167905 + 0.10979\n",
      "[100]\tcv_agg's l2: 0.188137 + 0.130897\n",
      "[200]\tcv_agg's l2: 0.183959 + 0.126495\n",
      "[300]\tcv_agg's l2: 0.183887 + 0.126002\n",
      "[400]\tcv_agg's l2: 0.184082 + 0.125316\n"
     ]
    },
    {
     "name": "stderr",
     "output_type": "stream",
     "text": [
      "feature_fraction, val_score: 0.167905:  71%|################################1            | 5/7 [00:30<00:12,  6.10s/it][I 2023-12-01 17:43:45,576] Trial 4 finished with value: 0.18380897635728968 and parameters: {'feature_fraction': 1.0}. Best is trial 2 with value: 0.1679050195062291.\n",
      "feature_fraction, val_score: 0.167905:  71%|################################1            | 5/7 [00:30<00:12,  6.10s/it]"
     ]
    },
    {
     "name": "stdout",
     "output_type": "stream",
     "text": [
      "Early stopping, best iteration is:\n",
      "[336]\tcv_agg's l2: 0.167905 + 0.10979\n",
      "[100]\tcv_agg's l2: 0.181278 + 0.124894\n",
      "[200]\tcv_agg's l2: 0.177467 + 0.119141\n",
      "[300]\tcv_agg's l2: 0.177587 + 0.117786\n",
      "[400]\tcv_agg's l2: 0.177824 + 0.11696\n"
     ]
    },
    {
     "name": "stderr",
     "output_type": "stream",
     "text": [
      "feature_fraction, val_score: 0.167905:  86%|######################################5      | 6/7 [00:36<00:06,  6.02s/it][I 2023-12-01 17:43:51,431] Trial 5 finished with value: 0.1775411716376519 and parameters: {'feature_fraction': 0.8999999999999999}. Best is trial 2 with value: 0.1679050195062291.\n",
      "feature_fraction, val_score: 0.167905:  86%|######################################5      | 6/7 [00:36<00:06,  6.02s/it]"
     ]
    },
    {
     "name": "stdout",
     "output_type": "stream",
     "text": [
      "Early stopping, best iteration is:\n",
      "[336]\tcv_agg's l2: 0.167905 + 0.10979\n",
      "[100]\tcv_agg's l2: 0.173534 + 0.103085\n",
      "[200]\tcv_agg's l2: 0.171859 + 0.101362\n",
      "[300]\tcv_agg's l2: 0.172861 + 0.10068\n",
      "[400]\tcv_agg's l2: 0.173998 + 0.100421\n"
     ]
    },
    {
     "name": "stderr",
     "output_type": "stream",
     "text": [
      "feature_fraction, val_score: 0.167905: 100%|#############################################| 7/7 [00:42<00:00,  5.97s/it][I 2023-12-01 17:43:57,288] Trial 6 finished with value: 0.17303290757370565 and parameters: {'feature_fraction': 0.5}. Best is trial 2 with value: 0.1679050195062291.\n",
      "feature_fraction, val_score: 0.167905: 100%|#############################################| 7/7 [00:42<00:00,  6.02s/it]\n"
     ]
    },
    {
     "name": "stdout",
     "output_type": "stream",
     "text": [
      "Early stopping, best iteration is:\n",
      "[336]\tcv_agg's l2: 0.167905 + 0.10979\n"
     ]
    },
    {
     "name": "stderr",
     "output_type": "stream",
     "text": [
      "num_leaves, val_score: 0.167905:   0%|                                                          | 0/20 [00:00<?, ?it/s]"
     ]
    },
    {
     "name": "stdout",
     "output_type": "stream",
     "text": [
      "[100]\tcv_agg's l2: 0.172525 + 0.112101\n",
      "[200]\tcv_agg's l2: 0.164747 + 0.106125\n",
      "[300]\tcv_agg's l2: 0.163652 + 0.10375\n"
     ]
    },
    {
     "name": "stderr",
     "output_type": "stream",
     "text": [
      "num_leaves, val_score: 0.163290:   5%|##5                                               | 1/20 [00:02<00:49,  2.60s/it][I 2023-12-01 17:43:59,896] Trial 7 finished with value: 0.16329020144820347 and parameters: {'num_leaves': 14}. Best is trial 7 with value: 0.16329020144820347.\n",
      "num_leaves, val_score: 0.163290:   5%|##5                                               | 1/20 [00:02<00:49,  2.60s/it]"
     ]
    },
    {
     "name": "stdout",
     "output_type": "stream",
     "text": [
      "[400]\tcv_agg's l2: 0.163952 + 0.102503\n",
      "Early stopping, best iteration is:\n",
      "[321]\tcv_agg's l2: 0.16329 + 0.103646\n",
      "[100]\tcv_agg's l2: 0.178302 + 0.120096\n",
      "[200]\tcv_agg's l2: 0.17444 + 0.114093\n",
      "[300]\tcv_agg's l2: 0.174416 + 0.113084\n",
      "[400]\tcv_agg's l2: 0.174159 + 0.112315\n"
     ]
    },
    {
     "name": "stderr",
     "output_type": "stream",
     "text": [
      "num_leaves, val_score: 0.163290:  10%|#####                                             | 2/20 [00:10<01:44,  5.78s/it][I 2023-12-01 17:44:07,904] Trial 8 finished with value: 0.1742854338290065 and parameters: {'num_leaves': 66}. Best is trial 7 with value: 0.16329020144820347.\n",
      "num_leaves, val_score: 0.163290:  10%|#####                                             | 2/20 [00:10<01:44,  5.78s/it]"
     ]
    },
    {
     "name": "stdout",
     "output_type": "stream",
     "text": [
      "Early stopping, best iteration is:\n",
      "[321]\tcv_agg's l2: 0.16329 + 0.103646\n",
      "[100]\tcv_agg's l2: 0.276752 + 0.131179\n",
      "[200]\tcv_agg's l2: 0.238139 + 0.11575\n",
      "[300]\tcv_agg's l2: 0.220363 + 0.107341\n"
     ]
    },
    {
     "name": "stderr",
     "output_type": "stream",
     "text": [
      "num_leaves, val_score: 0.163290:  15%|#######5                                          | 3/20 [00:11<01:00,  3.56s/it][I 2023-12-01 17:44:08,813] Trial 9 finished with value: 0.21672906499923875 and parameters: {'num_leaves': 3}. Best is trial 7 with value: 0.16329020144820347.\n",
      "num_leaves, val_score: 0.163290:  15%|#######5                                          | 3/20 [00:11<01:00,  3.56s/it]"
     ]
    },
    {
     "name": "stdout",
     "output_type": "stream",
     "text": [
      "[400]\tcv_agg's l2: 0.208125 + 0.10197\n",
      "Early stopping, best iteration is:\n",
      "[321]\tcv_agg's l2: 0.16329 + 0.103646\n",
      "[100]\tcv_agg's l2: 0.178302 + 0.120096\n",
      "[200]\tcv_agg's l2: 0.17444 + 0.114093\n",
      "[300]\tcv_agg's l2: 0.174416 + 0.113084\n",
      "[400]\tcv_agg's l2: 0.174159 + 0.112315\n"
     ]
    },
    {
     "name": "stderr",
     "output_type": "stream",
     "text": [
      "num_leaves, val_score: 0.163290:  20%|##########                                        | 4/20 [00:20<01:31,  5.69s/it][I 2023-12-01 17:44:17,786] Trial 10 finished with value: 0.1742854338290065 and parameters: {'num_leaves': 227}. Best is trial 7 with value: 0.16329020144820347.\n",
      "num_leaves, val_score: 0.163290:  20%|##########                                        | 4/20 [00:20<01:31,  5.69s/it]"
     ]
    },
    {
     "name": "stdout",
     "output_type": "stream",
     "text": [
      "Early stopping, best iteration is:\n",
      "[321]\tcv_agg's l2: 0.16329 + 0.103646\n",
      "[100]\tcv_agg's l2: 0.178302 + 0.120096\n",
      "[200]\tcv_agg's l2: 0.17444 + 0.114093\n",
      "[300]\tcv_agg's l2: 0.174416 + 0.113084\n",
      "[400]\tcv_agg's l2: 0.174159 + 0.112315\n"
     ]
    },
    {
     "name": "stderr",
     "output_type": "stream",
     "text": [
      "num_leaves, val_score: 0.163290:  25%|############5                                     | 5/20 [00:29<01:45,  7.02s/it][I 2023-12-01 17:44:27,162] Trial 11 finished with value: 0.1742854338290065 and parameters: {'num_leaves': 153}. Best is trial 7 with value: 0.16329020144820347.\n",
      "num_leaves, val_score: 0.163290:  25%|############5                                     | 5/20 [00:29<01:45,  7.02s/it]"
     ]
    },
    {
     "name": "stdout",
     "output_type": "stream",
     "text": [
      "Early stopping, best iteration is:\n",
      "[321]\tcv_agg's l2: 0.16329 + 0.103646\n",
      "[100]\tcv_agg's l2: 0.276752 + 0.131179\n",
      "[200]\tcv_agg's l2: 0.238139 + 0.11575\n",
      "[300]\tcv_agg's l2: 0.220363 + 0.107341\n"
     ]
    },
    {
     "name": "stderr",
     "output_type": "stream",
     "text": [
      "num_leaves, val_score: 0.163290:  30%|###############                                   | 6/20 [00:30<01:09,  4.98s/it][I 2023-12-01 17:44:28,163] Trial 12 finished with value: 0.21672906499923875 and parameters: {'num_leaves': 3}. Best is trial 7 with value: 0.16329020144820347.\n",
      "num_leaves, val_score: 0.163290:  30%|###############                                   | 6/20 [00:30<01:09,  4.98s/it]"
     ]
    },
    {
     "name": "stdout",
     "output_type": "stream",
     "text": [
      "[400]\tcv_agg's l2: 0.208125 + 0.10197\n",
      "Early stopping, best iteration is:\n",
      "[321]\tcv_agg's l2: 0.16329 + 0.103646\n",
      "[100]\tcv_agg's l2: 0.178302 + 0.120096\n",
      "[200]\tcv_agg's l2: 0.17444 + 0.114093\n",
      "[300]\tcv_agg's l2: 0.174416 + 0.113084\n",
      "[400]\tcv_agg's l2: 0.174159 + 0.112315\n"
     ]
    },
    {
     "name": "stderr",
     "output_type": "stream",
     "text": [
      "num_leaves, val_score: 0.163290:  35%|#################5                                | 7/20 [00:41<01:28,  6.81s/it][I 2023-12-01 17:44:38,763] Trial 13 finished with value: 0.1742854338290065 and parameters: {'num_leaves': 114}. Best is trial 7 with value: 0.16329020144820347.\n",
      "num_leaves, val_score: 0.163290:  35%|#################5                                | 7/20 [00:41<01:28,  6.81s/it]"
     ]
    },
    {
     "name": "stdout",
     "output_type": "stream",
     "text": [
      "Early stopping, best iteration is:\n",
      "[321]\tcv_agg's l2: 0.16329 + 0.103646\n",
      "[100]\tcv_agg's l2: 0.178302 + 0.120096\n",
      "[200]\tcv_agg's l2: 0.17444 + 0.114093\n",
      "[300]\tcv_agg's l2: 0.174416 + 0.113084\n",
      "[400]\tcv_agg's l2: 0.174159 + 0.112315\n"
     ]
    },
    {
     "name": "stderr",
     "output_type": "stream",
     "text": [
      "num_leaves, val_score: 0.163290:  40%|####################                              | 8/20 [00:49<01:27,  7.28s/it][I 2023-12-01 17:44:47,048] Trial 14 finished with value: 0.1742854338290065 and parameters: {'num_leaves': 76}. Best is trial 7 with value: 0.16329020144820347.\n",
      "num_leaves, val_score: 0.163290:  40%|####################                              | 8/20 [00:49<01:27,  7.28s/it]"
     ]
    },
    {
     "name": "stdout",
     "output_type": "stream",
     "text": [
      "Early stopping, best iteration is:\n",
      "[321]\tcv_agg's l2: 0.16329 + 0.103646\n",
      "[100]\tcv_agg's l2: 0.178302 + 0.120096\n",
      "[200]\tcv_agg's l2: 0.17444 + 0.114093\n",
      "[300]\tcv_agg's l2: 0.174416 + 0.113084\n",
      "[400]\tcv_agg's l2: 0.174159 + 0.112315\n"
     ]
    },
    {
     "name": "stderr",
     "output_type": "stream",
     "text": [
      "num_leaves, val_score: 0.163290:  45%|######################5                           | 9/20 [00:58<01:24,  7.69s/it][I 2023-12-01 17:44:55,651] Trial 15 finished with value: 0.1742854338290065 and parameters: {'num_leaves': 201}. Best is trial 7 with value: 0.16329020144820347.\n",
      "num_leaves, val_score: 0.163290:  45%|######################5                           | 9/20 [00:58<01:24,  7.69s/it]"
     ]
    },
    {
     "name": "stdout",
     "output_type": "stream",
     "text": [
      "Early stopping, best iteration is:\n",
      "[321]\tcv_agg's l2: 0.16329 + 0.103646\n",
      "[100]\tcv_agg's l2: 0.178302 + 0.120096\n",
      "[200]\tcv_agg's l2: 0.17444 + 0.114093\n",
      "[300]\tcv_agg's l2: 0.174416 + 0.113084\n",
      "[400]\tcv_agg's l2: 0.174159 + 0.112315\n"
     ]
    },
    {
     "name": "stderr",
     "output_type": "stream",
     "text": [
      "num_leaves, val_score: 0.163290:  50%|########################5                        | 10/20 [01:06<01:19,  7.94s/it][I 2023-12-01 17:45:04,143] Trial 16 finished with value: 0.1742854338290065 and parameters: {'num_leaves': 58}. Best is trial 7 with value: 0.16329020144820347.\n",
      "num_leaves, val_score: 0.163290:  50%|########################5                        | 10/20 [01:06<01:19,  7.94s/it]"
     ]
    },
    {
     "name": "stdout",
     "output_type": "stream",
     "text": [
      "Early stopping, best iteration is:\n",
      "[321]\tcv_agg's l2: 0.16329 + 0.103646\n",
      "[100]\tcv_agg's l2: 0.178302 + 0.120096\n",
      "[200]\tcv_agg's l2: 0.17444 + 0.114093\n",
      "[300]\tcv_agg's l2: 0.174416 + 0.113084\n",
      "[400]\tcv_agg's l2: 0.174159 + 0.112315\n"
     ]
    },
    {
     "name": "stderr",
     "output_type": "stream",
     "text": [
      "num_leaves, val_score: 0.163290:  55%|##########################9                      | 11/20 [01:15<01:13,  8.20s/it][I 2023-12-01 17:45:12,936] Trial 17 finished with value: 0.1742854338290065 and parameters: {'num_leaves': 162}. Best is trial 7 with value: 0.16329020144820347.\n",
      "num_leaves, val_score: 0.163290:  55%|##########################9                      | 11/20 [01:15<01:13,  8.20s/it]"
     ]
    },
    {
     "name": "stdout",
     "output_type": "stream",
     "text": [
      "Early stopping, best iteration is:\n",
      "[321]\tcv_agg's l2: 0.16329 + 0.103646\n",
      "[100]\tcv_agg's l2: 0.178302 + 0.120096\n",
      "[200]\tcv_agg's l2: 0.17444 + 0.114093\n",
      "[300]\tcv_agg's l2: 0.174416 + 0.113084\n",
      "[400]\tcv_agg's l2: 0.174159 + 0.112315\n"
     ]
    },
    {
     "name": "stderr",
     "output_type": "stream",
     "text": [
      "num_leaves, val_score: 0.163290:  60%|#############################4                   | 12/20 [01:24<01:08,  8.52s/it][I 2023-12-01 17:45:22,186] Trial 18 finished with value: 0.1742854338290065 and parameters: {'num_leaves': 107}. Best is trial 7 with value: 0.16329020144820347.\n",
      "num_leaves, val_score: 0.163290:  60%|#############################4                   | 12/20 [01:24<01:08,  8.52s/it]"
     ]
    },
    {
     "name": "stdout",
     "output_type": "stream",
     "text": [
      "Early stopping, best iteration is:\n",
      "[321]\tcv_agg's l2: 0.16329 + 0.103646\n",
      "[100]\tcv_agg's l2: 0.174358 + 0.115088\n",
      "[200]\tcv_agg's l2: 0.171011 + 0.110667\n",
      "[300]\tcv_agg's l2: 0.170871 + 0.108989\n",
      "[400]\tcv_agg's l2: 0.17115 + 0.108387\n"
     ]
    },
    {
     "name": "stderr",
     "output_type": "stream",
     "text": [
      "num_leaves, val_score: 0.163290:  65%|###############################8                 | 13/20 [01:32<00:57,  8.16s/it][I 2023-12-01 17:45:29,515] Trial 19 finished with value: 0.17090139090682221 and parameters: {'num_leaves': 38}. Best is trial 7 with value: 0.16329020144820347.\n",
      "num_leaves, val_score: 0.163290:  65%|###############################8                 | 13/20 [01:32<00:57,  8.16s/it]"
     ]
    },
    {
     "name": "stdout",
     "output_type": "stream",
     "text": [
      "Early stopping, best iteration is:\n",
      "[321]\tcv_agg's l2: 0.16329 + 0.103646\n",
      "[100]\tcv_agg's l2: 0.178302 + 0.120096\n",
      "[200]\tcv_agg's l2: 0.17444 + 0.114093\n",
      "[300]\tcv_agg's l2: 0.174416 + 0.113084\n",
      "[400]\tcv_agg's l2: 0.174159 + 0.112315\n"
     ]
    },
    {
     "name": "stderr",
     "output_type": "stream",
     "text": [
      "num_leaves, val_score: 0.163290:  70%|##################################3              | 14/20 [01:40<00:49,  8.32s/it][I 2023-12-01 17:45:38,199] Trial 20 finished with value: 0.1742854338290065 and parameters: {'num_leaves': 184}. Best is trial 7 with value: 0.16329020144820347.\n",
      "num_leaves, val_score: 0.163290:  70%|##################################3              | 14/20 [01:40<00:49,  8.32s/it]"
     ]
    },
    {
     "name": "stdout",
     "output_type": "stream",
     "text": [
      "Early stopping, best iteration is:\n",
      "[321]\tcv_agg's l2: 0.16329 + 0.103646\n",
      "[100]\tcv_agg's l2: 0.17414 + 0.115714\n",
      "[200]\tcv_agg's l2: 0.170962 + 0.11237\n",
      "[300]\tcv_agg's l2: 0.170712 + 0.111491\n",
      "[400]\tcv_agg's l2: 0.171016 + 0.11082\n"
     ]
    },
    {
     "name": "stderr",
     "output_type": "stream",
     "text": [
      "num_leaves, val_score: 0.163290:  75%|####################################7            | 15/20 [01:46<00:37,  7.49s/it][I 2023-12-01 17:45:43,777] Trial 21 finished with value: 0.1707852870469559 and parameters: {'num_leaves': 32}. Best is trial 7 with value: 0.16329020144820347.\n",
      "num_leaves, val_score: 0.163290:  75%|####################################7            | 15/20 [01:46<00:37,  7.49s/it]"
     ]
    },
    {
     "name": "stdout",
     "output_type": "stream",
     "text": [
      "Early stopping, best iteration is:\n",
      "[321]\tcv_agg's l2: 0.16329 + 0.103646\n",
      "[100]\tcv_agg's l2: 0.17414 + 0.115714\n",
      "[200]\tcv_agg's l2: 0.170962 + 0.11237\n",
      "[300]\tcv_agg's l2: 0.170712 + 0.111491\n",
      "[400]\tcv_agg's l2: 0.171016 + 0.11082\n"
     ]
    },
    {
     "name": "stderr",
     "output_type": "stream",
     "text": [
      "num_leaves, val_score: 0.163290:  80%|#######################################2         | 16/20 [01:52<00:27,  6.90s/it][I 2023-12-01 17:45:49,317] Trial 22 finished with value: 0.1707852870469559 and parameters: {'num_leaves': 32}. Best is trial 7 with value: 0.16329020144820347.\n",
      "num_leaves, val_score: 0.163290:  80%|#######################################2         | 16/20 [01:52<00:27,  6.90s/it]"
     ]
    },
    {
     "name": "stdout",
     "output_type": "stream",
     "text": [
      "Early stopping, best iteration is:\n",
      "[321]\tcv_agg's l2: 0.16329 + 0.103646\n",
      "[100]\tcv_agg's l2: 0.178302 + 0.120096\n",
      "[200]\tcv_agg's l2: 0.17444 + 0.114093\n",
      "[300]\tcv_agg's l2: 0.174416 + 0.113084\n",
      "[400]\tcv_agg's l2: 0.174159 + 0.112315\n"
     ]
    },
    {
     "name": "stderr",
     "output_type": "stream",
     "text": [
      "num_leaves, val_score: 0.163290:  85%|#########################################6       | 17/20 [02:00<00:21,  7.28s/it][I 2023-12-01 17:45:57,456] Trial 23 finished with value: 0.1742854338290065 and parameters: {'num_leaves': 88}. Best is trial 7 with value: 0.16329020144820347.\n",
      "num_leaves, val_score: 0.163290:  85%|#########################################6       | 17/20 [02:00<00:21,  7.28s/it]"
     ]
    },
    {
     "name": "stdout",
     "output_type": "stream",
     "text": [
      "Early stopping, best iteration is:\n",
      "[321]\tcv_agg's l2: 0.16329 + 0.103646\n",
      "[100]\tcv_agg's l2: 0.17414 + 0.115714\n",
      "[200]\tcv_agg's l2: 0.170962 + 0.11237\n",
      "[300]\tcv_agg's l2: 0.170712 + 0.111491\n",
      "[400]\tcv_agg's l2: 0.171016 + 0.11082\n"
     ]
    },
    {
     "name": "stderr",
     "output_type": "stream",
     "text": [
      "num_leaves, val_score: 0.163290:  90%|############################################1    | 18/20 [02:05<00:13,  6.73s/it][I 2023-12-01 17:46:02,923] Trial 24 finished with value: 0.1707852870469559 and parameters: {'num_leaves': 32}. Best is trial 7 with value: 0.16329020144820347.\n",
      "num_leaves, val_score: 0.163290:  90%|############################################1    | 18/20 [02:05<00:13,  6.73s/it]"
     ]
    },
    {
     "name": "stdout",
     "output_type": "stream",
     "text": [
      "Early stopping, best iteration is:\n",
      "[321]\tcv_agg's l2: 0.16329 + 0.103646\n",
      "[100]\tcv_agg's l2: 0.178302 + 0.120096\n",
      "[200]\tcv_agg's l2: 0.17444 + 0.114093\n",
      "[300]\tcv_agg's l2: 0.174416 + 0.113084\n",
      "[400]\tcv_agg's l2: 0.174159 + 0.112315\n"
     ]
    },
    {
     "name": "stderr",
     "output_type": "stream",
     "text": [
      "num_leaves, val_score: 0.163290:  95%|##############################################5  | 19/20 [02:14<00:07,  7.40s/it][I 2023-12-01 17:46:11,864] Trial 25 finished with value: 0.1742854338290065 and parameters: {'num_leaves': 134}. Best is trial 7 with value: 0.16329020144820347.\n",
      "num_leaves, val_score: 0.163290:  95%|##############################################5  | 19/20 [02:14<00:07,  7.40s/it]"
     ]
    },
    {
     "name": "stdout",
     "output_type": "stream",
     "text": [
      "Early stopping, best iteration is:\n",
      "[321]\tcv_agg's l2: 0.16329 + 0.103646\n",
      "[100]\tcv_agg's l2: 0.178933 + 0.121803\n",
      "[200]\tcv_agg's l2: 0.175984 + 0.118076\n",
      "[300]\tcv_agg's l2: 0.176459 + 0.116851\n",
      "[400]\tcv_agg's l2: 0.176505 + 0.115983\n"
     ]
    },
    {
     "name": "stderr",
     "output_type": "stream",
     "text": [
      "num_leaves, val_score: 0.163290: 100%|#################################################| 20/20 [02:22<00:00,  7.45s/it][I 2023-12-01 17:46:19,443] Trial 26 finished with value: 0.17645121910266504 and parameters: {'num_leaves': 43}. Best is trial 7 with value: 0.16329020144820347.\n",
      "num_leaves, val_score: 0.163290: 100%|#################################################| 20/20 [02:22<00:00,  7.11s/it]\n"
     ]
    },
    {
     "name": "stdout",
     "output_type": "stream",
     "text": [
      "Early stopping, best iteration is:\n",
      "[321]\tcv_agg's l2: 0.16329 + 0.103646\n"
     ]
    },
    {
     "name": "stderr",
     "output_type": "stream",
     "text": [
      "bagging, val_score: 0.163290:   0%|                                                             | 0/10 [00:00<?, ?it/s]"
     ]
    },
    {
     "name": "stdout",
     "output_type": "stream",
     "text": [
      "[100]\tcv_agg's l2: 0.194717 + 0.128284\n",
      "[200]\tcv_agg's l2: 0.183912 + 0.114737\n",
      "[300]\tcv_agg's l2: 0.184036 + 0.110874\n"
     ]
    },
    {
     "name": "stderr",
     "output_type": "stream",
     "text": [
      "bagging, val_score: 0.163290:  10%|#####3                                               | 1/10 [00:02<00:25,  2.84s/it][I 2023-12-01 17:46:22,290] Trial 27 finished with value: 0.18419751415101718 and parameters: {'bagging_fraction': 0.5381385183160088, 'bagging_freq': 7}. Best is trial 27 with value: 0.18419751415101718.\n",
      "bagging, val_score: 0.163290:  10%|#####3                                               | 1/10 [00:02<00:25,  2.84s/it]"
     ]
    },
    {
     "name": "stdout",
     "output_type": "stream",
     "text": [
      "[400]\tcv_agg's l2: 0.183742 + 0.108728\n",
      "Early stopping, best iteration is:\n",
      "[321]\tcv_agg's l2: 0.16329 + 0.103646\n",
      "[100]\tcv_agg's l2: 0.175574 + 0.11509\n",
      "[200]\tcv_agg's l2: 0.168362 + 0.108006\n",
      "[300]\tcv_agg's l2: 0.167543 + 0.106191\n"
     ]
    },
    {
     "name": "stderr",
     "output_type": "stream",
     "text": [
      "bagging, val_score: 0.163290:  20%|##########6                                          | 2/10 [00:05<00:23,  2.88s/it][I 2023-12-01 17:46:25,204] Trial 28 finished with value: 0.167529432052969 and parameters: {'bagging_fraction': 0.9735806474571862, 'bagging_freq': 1}. Best is trial 28 with value: 0.167529432052969.\n",
      "bagging, val_score: 0.163290:  20%|##########6                                          | 2/10 [00:05<00:23,  2.88s/it]"
     ]
    },
    {
     "name": "stdout",
     "output_type": "stream",
     "text": [
      "[400]\tcv_agg's l2: 0.168213 + 0.106491\n",
      "Early stopping, best iteration is:\n",
      "[321]\tcv_agg's l2: 0.16329 + 0.103646\n",
      "[100]\tcv_agg's l2: 0.1734 + 0.110546\n",
      "[200]\tcv_agg's l2: 0.167334 + 0.106977\n",
      "[300]\tcv_agg's l2: 0.165861 + 0.105256\n"
     ]
    },
    {
     "name": "stderr",
     "output_type": "stream",
     "text": [
      "bagging, val_score: 0.163290:  30%|###############9                                     | 3/10 [00:08<00:19,  2.78s/it][I 2023-12-01 17:46:27,854] Trial 29 finished with value: 0.1658074520519905 and parameters: {'bagging_fraction': 0.9779440247306187, 'bagging_freq': 1}. Best is trial 29 with value: 0.1658074520519905.\n",
      "bagging, val_score: 0.163290:  30%|###############9                                     | 3/10 [00:08<00:19,  2.78s/it]"
     ]
    },
    {
     "name": "stdout",
     "output_type": "stream",
     "text": [
      "[400]\tcv_agg's l2: 0.166325 + 0.104191\n",
      "Early stopping, best iteration is:\n",
      "[321]\tcv_agg's l2: 0.16329 + 0.103646\n",
      "[100]\tcv_agg's l2: 0.171192 + 0.110181\n",
      "[200]\tcv_agg's l2: 0.164266 + 0.101745\n",
      "[300]\tcv_agg's l2: 0.164104 + 0.0999867\n"
     ]
    },
    {
     "name": "stderr",
     "output_type": "stream",
     "text": [
      "bagging, val_score: 0.163290:  40%|#####################2                               | 4/10 [00:11<00:16,  2.74s/it][I 2023-12-01 17:46:30,543] Trial 30 finished with value: 0.16396000924184093 and parameters: {'bagging_fraction': 0.9666547623048064, 'bagging_freq': 1}. Best is trial 30 with value: 0.16396000924184093.\n",
      "bagging, val_score: 0.163290:  40%|#####################2                               | 4/10 [00:11<00:16,  2.74s/it]"
     ]
    },
    {
     "name": "stdout",
     "output_type": "stream",
     "text": [
      "[400]\tcv_agg's l2: 0.164158 + 0.0996616\n",
      "Early stopping, best iteration is:\n",
      "[321]\tcv_agg's l2: 0.16329 + 0.103646\n",
      "[100]\tcv_agg's l2: 0.173453 + 0.112436\n",
      "[200]\tcv_agg's l2: 0.167047 + 0.108261\n",
      "[300]\tcv_agg's l2: 0.166422 + 0.106789\n"
     ]
    },
    {
     "name": "stderr",
     "output_type": "stream",
     "text": [
      "bagging, val_score: 0.163290:  50%|##########################5                          | 5/10 [00:14<00:14,  2.86s/it][I 2023-12-01 17:46:33,603] Trial 31 finished with value: 0.1664957848627981 and parameters: {'bagging_fraction': 0.991626632305143, 'bagging_freq': 1}. Best is trial 30 with value: 0.16396000924184093.\n",
      "bagging, val_score: 0.163290:  50%|##########################5                          | 5/10 [00:14<00:14,  2.86s/it]"
     ]
    },
    {
     "name": "stdout",
     "output_type": "stream",
     "text": [
      "[400]\tcv_agg's l2: 0.166958 + 0.106614\n",
      "Early stopping, best iteration is:\n",
      "[321]\tcv_agg's l2: 0.16329 + 0.103646\n",
      "[100]\tcv_agg's l2: 0.171079 + 0.109679\n",
      "[200]\tcv_agg's l2: 0.165265 + 0.105351\n",
      "[300]\tcv_agg's l2: 0.164753 + 0.105054\n"
     ]
    },
    {
     "name": "stderr",
     "output_type": "stream",
     "text": [
      "bagging, val_score: 0.163290:  60%|###############################8                     | 6/10 [00:17<00:11,  2.87s/it][I 2023-12-01 17:46:36,498] Trial 32 finished with value: 0.1645499427325356 and parameters: {'bagging_fraction': 0.9932885963474838, 'bagging_freq': 1}. Best is trial 30 with value: 0.16396000924184093.\n",
      "bagging, val_score: 0.163290:  60%|###############################8                     | 6/10 [00:17<00:11,  2.87s/it]"
     ]
    },
    {
     "name": "stdout",
     "output_type": "stream",
     "text": [
      "[400]\tcv_agg's l2: 0.164982 + 0.10418\n",
      "Early stopping, best iteration is:\n",
      "[321]\tcv_agg's l2: 0.16329 + 0.103646\n",
      "[100]\tcv_agg's l2: 0.175655 + 0.115393\n",
      "[200]\tcv_agg's l2: 0.169152 + 0.110708\n",
      "[300]\tcv_agg's l2: 0.167813 + 0.108697\n"
     ]
    },
    {
     "name": "stderr",
     "output_type": "stream",
     "text": [
      "bagging, val_score: 0.163290:  70%|#####################################                | 7/10 [00:19<00:08,  2.79s/it][I 2023-12-01 17:46:39,109] Trial 33 finished with value: 0.16800161032454092 and parameters: {'bagging_fraction': 0.985332814010887, 'bagging_freq': 1}. Best is trial 30 with value: 0.16396000924184093.\n",
      "bagging, val_score: 0.163290:  70%|#####################################                | 7/10 [00:19<00:08,  2.79s/it]"
     ]
    },
    {
     "name": "stdout",
     "output_type": "stream",
     "text": [
      "[400]\tcv_agg's l2: 0.169255 + 0.108395\n",
      "Early stopping, best iteration is:\n",
      "[321]\tcv_agg's l2: 0.16329 + 0.103646\n",
      "[100]\tcv_agg's l2: 0.176824 + 0.105622\n",
      "[200]\tcv_agg's l2: 0.168351 + 0.098109\n",
      "[300]\tcv_agg's l2: 0.168383 + 0.0964879\n"
     ]
    },
    {
     "name": "stderr",
     "output_type": "stream",
     "text": [
      "bagging, val_score: 0.163290:  80%|##########################################4          | 8/10 [00:22<00:05,  2.81s/it][I 2023-12-01 17:46:41,982] Trial 34 finished with value: 0.16806238086230701 and parameters: {'bagging_fraction': 0.8479867150223068, 'bagging_freq': 3}. Best is trial 30 with value: 0.16396000924184093.\n",
      "bagging, val_score: 0.163290:  80%|##########################################4          | 8/10 [00:22<00:05,  2.81s/it]"
     ]
    },
    {
     "name": "stdout",
     "output_type": "stream",
     "text": [
      "[400]\tcv_agg's l2: 0.170379 + 0.0954391\n",
      "Early stopping, best iteration is:\n",
      "[321]\tcv_agg's l2: 0.16329 + 0.103646\n",
      "[100]\tcv_agg's l2: 0.174534 + 0.106999\n",
      "[200]\tcv_agg's l2: 0.166711 + 0.0990536\n",
      "[300]\tcv_agg's l2: 0.16674 + 0.0972528\n"
     ]
    },
    {
     "name": "stderr",
     "output_type": "stream",
     "text": [
      "bagging, val_score: 0.163290:  90%|###############################################7     | 9/10 [00:25<00:02,  2.90s/it][I 2023-12-01 17:46:45,074] Trial 35 finished with value: 0.16665150423137748 and parameters: {'bagging_fraction': 0.834051851993333, 'bagging_freq': 3}. Best is trial 30 with value: 0.16396000924184093.\n",
      "bagging, val_score: 0.163290:  90%|###############################################7     | 9/10 [00:25<00:02,  2.90s/it]"
     ]
    },
    {
     "name": "stdout",
     "output_type": "stream",
     "text": [
      "[400]\tcv_agg's l2: 0.168309 + 0.0957289\n",
      "Early stopping, best iteration is:\n",
      "[321]\tcv_agg's l2: 0.16329 + 0.103646\n",
      "[100]\tcv_agg's l2: 0.174091 + 0.115438\n",
      "[200]\tcv_agg's l2: 0.165259 + 0.107283\n",
      "[300]\tcv_agg's l2: 0.165309 + 0.103835\n"
     ]
    },
    {
     "name": "stderr",
     "output_type": "stream",
     "text": [
      "bagging, val_score: 0.163290: 100%|####################################################| 10/10 [00:28<00:00,  2.94s/it][I 2023-12-01 17:46:48,113] Trial 36 finished with value: 0.1651574100333045 and parameters: {'bagging_fraction': 0.8506184403111671, 'bagging_freq': 1}. Best is trial 30 with value: 0.16396000924184093.\n",
      "bagging, val_score: 0.163290: 100%|####################################################| 10/10 [00:28<00:00,  2.87s/it]\n"
     ]
    },
    {
     "name": "stdout",
     "output_type": "stream",
     "text": [
      "[400]\tcv_agg's l2: 0.165906 + 0.102489\n",
      "Early stopping, best iteration is:\n",
      "[321]\tcv_agg's l2: 0.16329 + 0.103646\n"
     ]
    },
    {
     "name": "stderr",
     "output_type": "stream",
     "text": [
      "feature_fraction_stage2, val_score: 0.163290:   0%|                                              | 0/6 [00:00<?, ?it/s]"
     ]
    },
    {
     "name": "stdout",
     "output_type": "stream",
     "text": [
      "[100]\tcv_agg's l2: 0.17378 + 0.106051\n",
      "[200]\tcv_agg's l2: 0.164721 + 0.0998499\n",
      "[300]\tcv_agg's l2: 0.163618 + 0.0974935\n"
     ]
    },
    {
     "name": "stderr",
     "output_type": "stream",
     "text": [
      "feature_fraction_stage2, val_score: 0.163290:  17%|######3                               | 1/6 [00:02<00:14,  2.81s/it][I 2023-12-01 17:46:50,926] Trial 37 finished with value: 0.1640702789176202 and parameters: {'feature_fraction': 0.62}. Best is trial 37 with value: 0.1640702789176202.\n",
      "feature_fraction_stage2, val_score: 0.163290:  17%|######3                               | 1/6 [00:02<00:14,  2.81s/it]"
     ]
    },
    {
     "name": "stdout",
     "output_type": "stream",
     "text": [
      "[400]\tcv_agg's l2: 0.164214 + 0.0957176\n",
      "Early stopping, best iteration is:\n",
      "[321]\tcv_agg's l2: 0.16329 + 0.103646\n",
      "[100]\tcv_agg's l2: 0.174366 + 0.104081\n",
      "[200]\tcv_agg's l2: 0.164673 + 0.0986944\n",
      "[300]\tcv_agg's l2: 0.163153 + 0.0956797\n"
     ]
    },
    {
     "name": "stderr",
     "output_type": "stream",
     "text": [
      "feature_fraction_stage2, val_score: 0.162586:  33%|############6                         | 2/6 [00:05<00:11,  2.87s/it][I 2023-12-01 17:46:53,837] Trial 38 finished with value: 0.1625864653517342 and parameters: {'feature_fraction': 0.652}. Best is trial 38 with value: 0.1625864653517342.\n",
      "feature_fraction_stage2, val_score: 0.162586:  33%|############6                         | 2/6 [00:05<00:11,  2.87s/it]"
     ]
    },
    {
     "name": "stdout",
     "output_type": "stream",
     "text": [
      "[400]\tcv_agg's l2: 0.163083 + 0.0954548\n",
      "Early stopping, best iteration is:\n",
      "[322]\tcv_agg's l2: 0.162586 + 0.0954625\n",
      "[100]\tcv_agg's l2: 0.175146 + 0.11006\n",
      "[200]\tcv_agg's l2: 0.165591 + 0.103546\n",
      "[300]\tcv_agg's l2: 0.163887 + 0.102871\n"
     ]
    },
    {
     "name": "stderr",
     "output_type": "stream",
     "text": [
      "feature_fraction_stage2, val_score: 0.162586:  50%|###################                   | 3/6 [00:12<00:13,  4.52s/it][I 2023-12-01 17:47:00,331] Trial 39 finished with value: 0.16406086741897688 and parameters: {'feature_fraction': 0.748}. Best is trial 38 with value: 0.1625864653517342.\n",
      "feature_fraction_stage2, val_score: 0.162586:  50%|###################                   | 3/6 [00:12<00:13,  4.52s/it]"
     ]
    },
    {
     "name": "stdout",
     "output_type": "stream",
     "text": [
      "[400]\tcv_agg's l2: 0.165011 + 0.102194\n",
      "Early stopping, best iteration is:\n",
      "[322]\tcv_agg's l2: 0.162586 + 0.0954625\n",
      "[100]\tcv_agg's l2: 0.172873 + 0.109543\n",
      "[200]\tcv_agg's l2: 0.165875 + 0.104184\n",
      "[300]\tcv_agg's l2: 0.165506 + 0.101894\n"
     ]
    },
    {
     "name": "stderr",
     "output_type": "stream",
     "text": [
      "feature_fraction_stage2, val_score: 0.162586:  67%|#########################3            | 4/6 [00:14<00:06,  3.47s/it][I 2023-12-01 17:47:02,189] Trial 40 finished with value: 0.1654620022866415 and parameters: {'feature_fraction': 0.6839999999999999}. Best is trial 38 with value: 0.1625864653517342.\n",
      "feature_fraction_stage2, val_score: 0.162586:  67%|#########################3            | 4/6 [00:14<00:06,  3.47s/it]"
     ]
    },
    {
     "name": "stdout",
     "output_type": "stream",
     "text": [
      "[400]\tcv_agg's l2: 0.165725 + 0.101445\n",
      "Early stopping, best iteration is:\n",
      "[322]\tcv_agg's l2: 0.162586 + 0.0954625\n",
      "[100]\tcv_agg's l2: 0.175636 + 0.118153\n",
      "[200]\tcv_agg's l2: 0.166406 + 0.111355\n",
      "[300]\tcv_agg's l2: 0.164518 + 0.110037\n"
     ]
    },
    {
     "name": "stderr",
     "output_type": "stream",
     "text": [
      "feature_fraction_stage2, val_score: 0.162586:  83%|###############################6      | 5/6 [00:15<00:02,  2.83s/it][I 2023-12-01 17:47:03,872] Trial 41 finished with value: 0.1646979641434501 and parameters: {'feature_fraction': 0.716}. Best is trial 38 with value: 0.1625864653517342.\n",
      "feature_fraction_stage2, val_score: 0.162586:  83%|###############################6      | 5/6 [00:15<00:02,  2.83s/it]"
     ]
    },
    {
     "name": "stdout",
     "output_type": "stream",
     "text": [
      "[400]\tcv_agg's l2: 0.164808 + 0.109364\n",
      "Early stopping, best iteration is:\n",
      "[322]\tcv_agg's l2: 0.162586 + 0.0954625\n",
      "[100]\tcv_agg's l2: 0.173926 + 0.11419\n",
      "[200]\tcv_agg's l2: 0.165398 + 0.108346\n",
      "[300]\tcv_agg's l2: 0.163578 + 0.108018\n"
     ]
    },
    {
     "name": "stderr",
     "output_type": "stream",
     "text": [
      "feature_fraction_stage2, val_score: 0.162586: 100%|######################################| 6/6 [00:17<00:00,  2.47s/it][I 2023-12-01 17:47:05,663] Trial 42 finished with value: 0.16327027899145255 and parameters: {'feature_fraction': 0.7799999999999999}. Best is trial 38 with value: 0.1625864653517342.\n",
      "feature_fraction_stage2, val_score: 0.162586: 100%|######################################| 6/6 [00:17<00:00,  2.92s/it]\n"
     ]
    },
    {
     "name": "stdout",
     "output_type": "stream",
     "text": [
      "[400]\tcv_agg's l2: 0.163062 + 0.107326\n",
      "Early stopping, best iteration is:\n",
      "[322]\tcv_agg's l2: 0.162586 + 0.0954625\n"
     ]
    },
    {
     "name": "stderr",
     "output_type": "stream",
     "text": [
      "regularization_factors, val_score: 0.162586:   0%|                                              | 0/20 [00:00<?, ?it/s]"
     ]
    },
    {
     "name": "stdout",
     "output_type": "stream",
     "text": [
      "[100]\tcv_agg's l2: 0.178051 + 0.106196\n",
      "[200]\tcv_agg's l2: 0.167851 + 0.0992368\n",
      "[300]\tcv_agg's l2: 0.165539 + 0.0967895\n"
     ]
    },
    {
     "name": "stderr",
     "output_type": "stream",
     "text": [
      "regularization_factors, val_score: 0.162586:   5%|#9                                    | 1/20 [00:01<00:30,  1.61s/it][I 2023-12-01 17:47:07,281] Trial 43 finished with value: 0.1657067716542015 and parameters: {'lambda_l1': 0.006337187017457488, 'lambda_l2': 0.0007448373400623585}. Best is trial 43 with value: 0.1657067716542015.\n",
      "regularization_factors, val_score: 0.162586:   5%|#9                                    | 1/20 [00:01<00:30,  1.61s/it]"
     ]
    },
    {
     "name": "stdout",
     "output_type": "stream",
     "text": [
      "[400]\tcv_agg's l2: 0.165935 + 0.0955478\n",
      "Early stopping, best iteration is:\n",
      "[322]\tcv_agg's l2: 0.162586 + 0.0954625\n",
      "[100]\tcv_agg's l2: 0.174366 + 0.104081\n",
      "[200]\tcv_agg's l2: 0.164673 + 0.0986944\n",
      "[300]\tcv_agg's l2: 0.163153 + 0.0956797\n"
     ]
    },
    {
     "name": "stderr",
     "output_type": "stream",
     "text": [
      "regularization_factors, val_score: 0.162586:  10%|###8                                  | 2/20 [00:03<00:28,  1.57s/it][I 2023-12-01 17:47:08,819] Trial 44 finished with value: 0.1625864652799204 and parameters: {'lambda_l1': 1.2277957013855592e-07, 'lambda_l2': 3.5857374268577255e-08}. Best is trial 44 with value: 0.1625864652799204.\n",
      "regularization_factors, val_score: 0.162586:  10%|###8                                  | 2/20 [00:03<00:28,  1.57s/it]"
     ]
    },
    {
     "name": "stdout",
     "output_type": "stream",
     "text": [
      "[400]\tcv_agg's l2: 0.163083 + 0.0954548\n",
      "Early stopping, best iteration is:\n",
      "[322]\tcv_agg's l2: 0.162586 + 0.0954625\n",
      "[100]\tcv_agg's l2: 0.174366 + 0.104081\n",
      "[200]\tcv_agg's l2: 0.164673 + 0.0986944\n",
      "[300]\tcv_agg's l2: 0.163153 + 0.0956797\n"
     ]
    },
    {
     "name": "stderr",
     "output_type": "stream",
     "text": [
      "regularization_factors, val_score: 0.162586:  15%|#####7                                | 3/20 [00:04<00:26,  1.56s/it][I 2023-12-01 17:47:10,361] Trial 45 finished with value: 0.16258646534999652 and parameters: {'lambda_l1': 1.8732910621511498e-08, 'lambda_l2': 1.2257918566372038e-08}. Best is trial 44 with value: 0.1625864652799204.\n",
      "regularization_factors, val_score: 0.162586:  15%|#####7                                | 3/20 [00:04<00:26,  1.56s/it]"
     ]
    },
    {
     "name": "stdout",
     "output_type": "stream",
     "text": [
      "[400]\tcv_agg's l2: 0.163083 + 0.0954548\n",
      "Early stopping, best iteration is:\n",
      "[322]\tcv_agg's l2: 0.162586 + 0.0954625\n",
      "[100]\tcv_agg's l2: 0.174366 + 0.104081\n",
      "[200]\tcv_agg's l2: 0.164673 + 0.0986944\n",
      "[300]\tcv_agg's l2: 0.163153 + 0.0956797\n"
     ]
    },
    {
     "name": "stderr",
     "output_type": "stream",
     "text": [
      "regularization_factors, val_score: 0.162586:  20%|#######6                              | 4/20 [00:06<00:24,  1.54s/it][I 2023-12-01 17:47:11,866] Trial 46 finished with value: 0.16258646532182727 and parameters: {'lambda_l1': 1.984795188917871e-08, 'lambda_l2': 2.015363634738156e-08}. Best is trial 44 with value: 0.1625864652799204.\n",
      "regularization_factors, val_score: 0.162586:  20%|#######6                              | 4/20 [00:06<00:24,  1.54s/it]"
     ]
    },
    {
     "name": "stdout",
     "output_type": "stream",
     "text": [
      "[400]\tcv_agg's l2: 0.163083 + 0.0954548\n",
      "Early stopping, best iteration is:\n",
      "[322]\tcv_agg's l2: 0.162586 + 0.0954625\n",
      "[100]\tcv_agg's l2: 0.174366 + 0.104081\n",
      "[200]\tcv_agg's l2: 0.164673 + 0.0986944\n",
      "[300]\tcv_agg's l2: 0.163153 + 0.0956797\n"
     ]
    },
    {
     "name": "stderr",
     "output_type": "stream",
     "text": [
      "regularization_factors, val_score: 0.162586:  25%|#########5                            | 5/20 [00:07<00:22,  1.53s/it][I 2023-12-01 17:47:13,372] Trial 47 finished with value: 0.16258646535514454 and parameters: {'lambda_l1': 1.2663936131894972e-08, 'lambda_l2': 1.3812563434401215e-08}. Best is trial 44 with value: 0.1625864652799204.\n",
      "regularization_factors, val_score: 0.162586:  25%|#########5                            | 5/20 [00:07<00:22,  1.53s/it]"
     ]
    },
    {
     "name": "stdout",
     "output_type": "stream",
     "text": [
      "[400]\tcv_agg's l2: 0.163083 + 0.0954548\n",
      "Early stopping, best iteration is:\n",
      "[322]\tcv_agg's l2: 0.162586 + 0.0954625\n",
      "[100]\tcv_agg's l2: 0.174366 + 0.104081\n",
      "[200]\tcv_agg's l2: 0.164673 + 0.0986944\n",
      "[300]\tcv_agg's l2: 0.163153 + 0.0956797\n"
     ]
    },
    {
     "name": "stderr",
     "output_type": "stream",
     "text": [
      "regularization_factors, val_score: 0.162586:  30%|###########4                          | 6/20 [00:09<00:21,  1.54s/it][I 2023-12-01 17:47:14,951] Trial 48 finished with value: 0.16258646535473129 and parameters: {'lambda_l1': 1.0750426802437669e-08, 'lambda_l2': 1.175334925896483e-08}. Best is trial 44 with value: 0.1625864652799204.\n",
      "regularization_factors, val_score: 0.162586:  30%|###########4                          | 6/20 [00:09<00:21,  1.54s/it]"
     ]
    },
    {
     "name": "stdout",
     "output_type": "stream",
     "text": [
      "[400]\tcv_agg's l2: 0.163083 + 0.0954548\n",
      "Early stopping, best iteration is:\n",
      "[322]\tcv_agg's l2: 0.162586 + 0.0954625\n",
      "[100]\tcv_agg's l2: 0.174366 + 0.104081\n",
      "[200]\tcv_agg's l2: 0.164673 + 0.0986944\n",
      "[300]\tcv_agg's l2: 0.163153 + 0.0956797\n"
     ]
    },
    {
     "name": "stderr",
     "output_type": "stream",
     "text": [
      "regularization_factors, val_score: 0.162586:  35%|#############3                        | 7/20 [00:10<00:20,  1.60s/it][I 2023-12-01 17:47:16,668] Trial 49 finished with value: 0.16258646535106513 and parameters: {'lambda_l1': 1.377594422743911e-08, 'lambda_l2': 1.0111437542838952e-08}. Best is trial 44 with value: 0.1625864652799204.\n",
      "regularization_factors, val_score: 0.162586:  35%|#############3                        | 7/20 [00:11<00:20,  1.60s/it]"
     ]
    },
    {
     "name": "stdout",
     "output_type": "stream",
     "text": [
      "[400]\tcv_agg's l2: 0.163083 + 0.0954548\n",
      "Early stopping, best iteration is:\n",
      "[322]\tcv_agg's l2: 0.162586 + 0.0954625\n",
      "[100]\tcv_agg's l2: 0.174366 + 0.104081\n",
      "[200]\tcv_agg's l2: 0.164673 + 0.0986944\n",
      "[300]\tcv_agg's l2: 0.163153 + 0.0956797\n"
     ]
    },
    {
     "name": "stderr",
     "output_type": "stream",
     "text": [
      "regularization_factors, val_score: 0.162586:  40%|###############2                      | 8/20 [00:12<00:18,  1.57s/it][I 2023-12-01 17:47:18,189] Trial 50 finished with value: 0.162586465332303 and parameters: {'lambda_l1': 2.4708568516532005e-08, 'lambda_l2': 2.6217235446467888e-08}. Best is trial 44 with value: 0.1625864652799204.\n",
      "regularization_factors, val_score: 0.162586:  40%|###############2                      | 8/20 [00:12<00:18,  1.57s/it]"
     ]
    },
    {
     "name": "stdout",
     "output_type": "stream",
     "text": [
      "[400]\tcv_agg's l2: 0.163083 + 0.0954548\n",
      "Early stopping, best iteration is:\n",
      "[322]\tcv_agg's l2: 0.162586 + 0.0954625\n",
      "[100]\tcv_agg's l2: 0.174366 + 0.104081\n",
      "[200]\tcv_agg's l2: 0.164673 + 0.0986944\n",
      "[300]\tcv_agg's l2: 0.163153 + 0.0956797\n"
     ]
    },
    {
     "name": "stderr",
     "output_type": "stream",
     "text": [
      "regularization_factors, val_score: 0.162586:  45%|#################1                    | 9/20 [00:14<00:17,  1.62s/it][I 2023-12-01 17:47:19,894] Trial 51 finished with value: 0.16258646532723053 and parameters: {'lambda_l1': 2.4201009085083403e-08, 'lambda_l2': 2.8391362650548288e-08}. Best is trial 44 with value: 0.1625864652799204.\n",
      "regularization_factors, val_score: 0.162586:  45%|#################1                    | 9/20 [00:14<00:17,  1.62s/it]"
     ]
    },
    {
     "name": "stdout",
     "output_type": "stream",
     "text": [
      "[400]\tcv_agg's l2: 0.163083 + 0.0954548\n",
      "Early stopping, best iteration is:\n",
      "[322]\tcv_agg's l2: 0.162586 + 0.0954625\n",
      "[100]\tcv_agg's l2: 0.174366 + 0.104081\n",
      "[200]\tcv_agg's l2: 0.164673 + 0.0986944\n",
      "[300]\tcv_agg's l2: 0.163153 + 0.0956797\n"
     ]
    },
    {
     "name": "stderr",
     "output_type": "stream",
     "text": [
      "regularization_factors, val_score: 0.162586:  50%|##################5                  | 10/20 [00:15<00:16,  1.63s/it][I 2023-12-01 17:47:21,546] Trial 52 finished with value: 0.1625864653189662 and parameters: {'lambda_l1': 2.3990351253248115e-08, 'lambda_l2': 2.1516576427965538e-08}. Best is trial 44 with value: 0.1625864652799204.\n",
      "regularization_factors, val_score: 0.162586:  50%|##################5                  | 10/20 [00:15<00:16,  1.63s/it]"
     ]
    },
    {
     "name": "stdout",
     "output_type": "stream",
     "text": [
      "[400]\tcv_agg's l2: 0.163083 + 0.0954548\n",
      "Early stopping, best iteration is:\n",
      "[322]\tcv_agg's l2: 0.162586 + 0.0954625\n",
      "[100]\tcv_agg's l2: 0.174366 + 0.104081\n",
      "[200]\tcv_agg's l2: 0.164673 + 0.0986944\n",
      "[300]\tcv_agg's l2: 0.163153 + 0.0956797\n"
     ]
    },
    {
     "name": "stderr",
     "output_type": "stream",
     "text": [
      "regularization_factors, val_score: 0.162586:  55%|####################3                | 11/20 [00:17<00:14,  1.62s/it][I 2023-12-01 17:47:23,152] Trial 53 finished with value: 0.1625864653148914 and parameters: {'lambda_l1': 3.489505339825134e-08, 'lambda_l2': 3.179572640261412e-08}. Best is trial 44 with value: 0.1625864652799204.\n",
      "regularization_factors, val_score: 0.162586:  55%|####################3                | 11/20 [00:17<00:14,  1.62s/it]"
     ]
    },
    {
     "name": "stdout",
     "output_type": "stream",
     "text": [
      "[400]\tcv_agg's l2: 0.163083 + 0.0954548\n",
      "Early stopping, best iteration is:\n",
      "[322]\tcv_agg's l2: 0.162586 + 0.0954625\n",
      "[100]\tcv_agg's l2: 0.174366 + 0.104081\n",
      "[200]\tcv_agg's l2: 0.164673 + 0.0986944\n",
      "[300]\tcv_agg's l2: 0.163153 + 0.0956797\n"
     ]
    },
    {
     "name": "stderr",
     "output_type": "stream",
     "text": [
      "regularization_factors, val_score: 0.162586:  60%|######################2              | 12/20 [00:19<00:13,  1.70s/it][I 2023-12-01 17:47:25,047] Trial 54 finished with value: 0.16258646520318148 and parameters: {'lambda_l1': 5.3276052408290226e-08, 'lambda_l2': 1.1108283273031798e-07}. Best is trial 54 with value: 0.16258646520318148.\n",
      "regularization_factors, val_score: 0.162586:  60%|######################2              | 12/20 [00:19<00:13,  1.70s/it]"
     ]
    },
    {
     "name": "stdout",
     "output_type": "stream",
     "text": [
      "[400]\tcv_agg's l2: 0.163083 + 0.0954548\n",
      "Early stopping, best iteration is:\n",
      "[322]\tcv_agg's l2: 0.162586 + 0.0954625\n",
      "[100]\tcv_agg's l2: 0.174366 + 0.104081\n",
      "[200]\tcv_agg's l2: 0.164673 + 0.0986944\n",
      "[300]\tcv_agg's l2: 0.163153 + 0.0956797\n"
     ]
    },
    {
     "name": "stderr",
     "output_type": "stream",
     "text": [
      "regularization_factors, val_score: 0.162586:  65%|########################             | 13/20 [00:21<00:11,  1.70s/it][I 2023-12-01 17:47:26,743] Trial 55 finished with value: 0.16258646497804458 and parameters: {'lambda_l1': 6.829131466498871e-07, 'lambda_l2': 4.5531329003307694e-07}. Best is trial 55 with value: 0.16258646497804458.\n",
      "regularization_factors, val_score: 0.162586:  65%|########################             | 13/20 [00:21<00:11,  1.70s/it]"
     ]
    },
    {
     "name": "stdout",
     "output_type": "stream",
     "text": [
      "[400]\tcv_agg's l2: 0.163083 + 0.0954548\n",
      "Early stopping, best iteration is:\n",
      "[322]\tcv_agg's l2: 0.162586 + 0.0954625\n",
      "[100]\tcv_agg's l2: 0.175249 + 0.103395\n",
      "[200]\tcv_agg's l2: 0.165278 + 0.0982046\n",
      "[300]\tcv_agg's l2: 0.163752 + 0.0951842\n"
     ]
    },
    {
     "name": "stderr",
     "output_type": "stream",
     "text": [
      "regularization_factors, val_score: 0.162586:  70%|#########################9           | 14/20 [00:22<00:10,  1.68s/it][I 2023-12-01 17:47:28,389] Trial 56 finished with value: 0.16323576428329845 and parameters: {'lambda_l1': 2.3286620458645946e-06, 'lambda_l2': 9.958458309854437e-07}. Best is trial 55 with value: 0.16258646497804458.\n",
      "regularization_factors, val_score: 0.162586:  70%|#########################9           | 14/20 [00:22<00:10,  1.68s/it]"
     ]
    },
    {
     "name": "stdout",
     "output_type": "stream",
     "text": [
      "[400]\tcv_agg's l2: 0.163575 + 0.0950442\n",
      "Early stopping, best iteration is:\n",
      "[322]\tcv_agg's l2: 0.162586 + 0.0954625\n",
      "[100]\tcv_agg's l2: 0.175249 + 0.103395\n",
      "[200]\tcv_agg's l2: 0.165278 + 0.0982046\n",
      "[300]\tcv_agg's l2: 0.163752 + 0.0951842\n"
     ]
    },
    {
     "name": "stderr",
     "output_type": "stream",
     "text": [
      "regularization_factors, val_score: 0.162586:  75%|###########################7         | 15/20 [00:24<00:08,  1.73s/it][I 2023-12-01 17:47:30,211] Trial 57 finished with value: 0.16323576539147167 and parameters: {'lambda_l1': 1.0253905706641874e-06, 'lambda_l2': 1.2407221249602171e-06}. Best is trial 55 with value: 0.16258646497804458.\n",
      "regularization_factors, val_score: 0.162586:  75%|###########################7         | 15/20 [00:24<00:08,  1.73s/it]"
     ]
    },
    {
     "name": "stdout",
     "output_type": "stream",
     "text": [
      "[400]\tcv_agg's l2: 0.163575 + 0.0950442\n",
      "Early stopping, best iteration is:\n",
      "[322]\tcv_agg's l2: 0.162586 + 0.0954625\n",
      "[100]\tcv_agg's l2: 0.174366 + 0.104081\n",
      "[200]\tcv_agg's l2: 0.164673 + 0.0986944\n",
      "[300]\tcv_agg's l2: 0.163153 + 0.0956797\n"
     ]
    },
    {
     "name": "stderr",
     "output_type": "stream",
     "text": [
      "regularization_factors, val_score: 0.162586:  80%|#############################6       | 16/20 [00:26<00:06,  1.69s/it][I 2023-12-01 17:47:31,827] Trial 58 finished with value: 0.1625864649179006 and parameters: {'lambda_l1': 5.5165771369e-07, 'lambda_l2': 8.499918958328592e-07}. Best is trial 58 with value: 0.1625864649179006.\n",
      "regularization_factors, val_score: 0.162586:  80%|#############################6       | 16/20 [00:26<00:06,  1.69s/it]"
     ]
    },
    {
     "name": "stdout",
     "output_type": "stream",
     "text": [
      "[400]\tcv_agg's l2: 0.163083 + 0.0954548\n",
      "Early stopping, best iteration is:\n",
      "[322]\tcv_agg's l2: 0.162586 + 0.0954625\n",
      "[100]\tcv_agg's l2: 0.175249 + 0.103395\n",
      "[200]\tcv_agg's l2: 0.165278 + 0.0982046\n",
      "[300]\tcv_agg's l2: 0.163752 + 0.0951842\n"
     ]
    },
    {
     "name": "stderr",
     "output_type": "stream",
     "text": [
      "regularization_factors, val_score: 0.162586:  85%|###############################4     | 17/20 [00:27<00:05,  1.69s/it][I 2023-12-01 17:47:33,517] Trial 59 finished with value: 0.16323576565732928 and parameters: {'lambda_l1': 1.0963839591224987e-06, 'lambda_l2': 3.872744743646966e-07}. Best is trial 58 with value: 0.1625864649179006.\n",
      "regularization_factors, val_score: 0.162586:  85%|###############################4     | 17/20 [00:27<00:05,  1.69s/it]"
     ]
    },
    {
     "name": "stdout",
     "output_type": "stream",
     "text": [
      "[400]\tcv_agg's l2: 0.163575 + 0.0950442\n",
      "Early stopping, best iteration is:\n",
      "[322]\tcv_agg's l2: 0.162586 + 0.0954625\n",
      "[100]\tcv_agg's l2: 0.174366 + 0.104081\n",
      "[200]\tcv_agg's l2: 0.164673 + 0.0986944\n",
      "[300]\tcv_agg's l2: 0.163153 + 0.0956797\n"
     ]
    },
    {
     "name": "stderr",
     "output_type": "stream",
     "text": [
      "regularization_factors, val_score: 0.162586:  90%|#################################3   | 18/20 [00:29<00:03,  1.65s/it][I 2023-12-01 17:47:35,084] Trial 60 finished with value: 0.16258646508526714 and parameters: {'lambda_l1': 5.209161771079026e-07, 'lambda_l2': 5.958822921852225e-07}. Best is trial 58 with value: 0.1625864649179006.\n",
      "regularization_factors, val_score: 0.162586:  90%|#################################3   | 18/20 [00:29<00:03,  1.65s/it]"
     ]
    },
    {
     "name": "stdout",
     "output_type": "stream",
     "text": [
      "[400]\tcv_agg's l2: 0.163083 + 0.0954548\n",
      "Early stopping, best iteration is:\n",
      "[322]\tcv_agg's l2: 0.162586 + 0.0954625\n",
      "[100]\tcv_agg's l2: 0.174366 + 0.104081\n",
      "[200]\tcv_agg's l2: 0.164673 + 0.0986944\n",
      "[300]\tcv_agg's l2: 0.163153 + 0.0956797\n"
     ]
    },
    {
     "name": "stderr",
     "output_type": "stream",
     "text": [
      "regularization_factors, val_score: 0.162586:  95%|###################################1 | 19/20 [00:31<00:01,  1.65s/it][I 2023-12-01 17:47:36,726] Trial 61 finished with value: 0.1625864650167143 and parameters: {'lambda_l1': 6.501959968842402e-07, 'lambda_l2': 7.468505609967659e-07}. Best is trial 58 with value: 0.1625864649179006.\n",
      "regularization_factors, val_score: 0.162586:  95%|###################################1 | 19/20 [00:31<00:01,  1.65s/it]"
     ]
    },
    {
     "name": "stdout",
     "output_type": "stream",
     "text": [
      "[400]\tcv_agg's l2: 0.163083 + 0.0954548\n",
      "Early stopping, best iteration is:\n",
      "[322]\tcv_agg's l2: 0.162586 + 0.0954625\n",
      "[100]\tcv_agg's l2: 0.174366 + 0.104081\n",
      "[200]\tcv_agg's l2: 0.164673 + 0.0986944\n",
      "[300]\tcv_agg's l2: 0.163153 + 0.0956797\n"
     ]
    },
    {
     "name": "stderr",
     "output_type": "stream",
     "text": [
      "regularization_factors, val_score: 0.162586: 100%|#####################################| 20/20 [00:32<00:00,  1.66s/it][I 2023-12-01 17:47:38,392] Trial 62 finished with value: 0.1625864650189402 and parameters: {'lambda_l1': 6.434115002402455e-07, 'lambda_l2': 7.459531215748888e-07}. Best is trial 58 with value: 0.1625864649179006.\n",
      "regularization_factors, val_score: 0.162586: 100%|#####################################| 20/20 [00:32<00:00,  1.64s/it]\n"
     ]
    },
    {
     "name": "stdout",
     "output_type": "stream",
     "text": [
      "[400]\tcv_agg's l2: 0.163083 + 0.0954548\n",
      "Early stopping, best iteration is:\n",
      "[322]\tcv_agg's l2: 0.162586 + 0.0954625\n"
     ]
    },
    {
     "name": "stderr",
     "output_type": "stream",
     "text": [
      "min_data_in_leaf, val_score: 0.162586:   0%|                                                     | 0/5 [00:00<?, ?it/s]"
     ]
    },
    {
     "name": "stdout",
     "output_type": "stream",
     "text": [
      "[100]\tcv_agg's l2: 0.174394 + 0.113755\n",
      "[200]\tcv_agg's l2: 0.16771 + 0.11082\n",
      "[300]\tcv_agg's l2: 0.167002 + 0.108581\n"
     ]
    },
    {
     "name": "stderr",
     "output_type": "stream",
     "text": [
      "min_data_in_leaf, val_score: 0.162586:  20%|#########                                    | 1/5 [00:01<00:06,  1.67s/it][I 2023-12-01 17:47:40,069] Trial 63 finished with value: 0.16713350515176195 and parameters: {'min_child_samples': 10}. Best is trial 63 with value: 0.16713350515176195.\n",
      "min_data_in_leaf, val_score: 0.162586:  20%|#########                                    | 1/5 [00:01<00:06,  1.67s/it]"
     ]
    },
    {
     "name": "stdout",
     "output_type": "stream",
     "text": [
      "[400]\tcv_agg's l2: 0.166774 + 0.107433\n",
      "Early stopping, best iteration is:\n",
      "[322]\tcv_agg's l2: 0.162586 + 0.0954625\n",
      "[100]\tcv_agg's l2: 0.206082 + 0.11497\n",
      "[200]\tcv_agg's l2: 0.192218 + 0.10641\n",
      "[300]\tcv_agg's l2: 0.187697 + 0.102907\n"
     ]
    },
    {
     "name": "stderr",
     "output_type": "stream",
     "text": [
      "min_data_in_leaf, val_score: 0.162586:  40%|##################                           | 2/5 [00:03<00:04,  1.65s/it][I 2023-12-01 17:47:41,697] Trial 64 finished with value: 0.18703278517906635 and parameters: {'min_child_samples': 50}. Best is trial 63 with value: 0.16713350515176195.\n",
      "min_data_in_leaf, val_score: 0.162586:  40%|##################                           | 2/5 [00:03<00:04,  1.65s/it]"
     ]
    },
    {
     "name": "stdout",
     "output_type": "stream",
     "text": [
      "[400]\tcv_agg's l2: 0.186234 + 0.100947\n",
      "Early stopping, best iteration is:\n",
      "[322]\tcv_agg's l2: 0.162586 + 0.0954625\n",
      "[100]\tcv_agg's l2: 0.178466 + 0.108278\n",
      "[200]\tcv_agg's l2: 0.171166 + 0.104391\n",
      "[300]\tcv_agg's l2: 0.16916 + 0.10373\n"
     ]
    },
    {
     "name": "stderr",
     "output_type": "stream",
     "text": [
      "min_data_in_leaf, val_score: 0.162586:  60%|###########################                  | 3/5 [00:04<00:03,  1.65s/it][I 2023-12-01 17:47:43,358] Trial 65 finished with value: 0.1691771783248484 and parameters: {'min_child_samples': 25}. Best is trial 63 with value: 0.16713350515176195.\n",
      "min_data_in_leaf, val_score: 0.162586:  60%|###########################                  | 3/5 [00:04<00:03,  1.65s/it]"
     ]
    },
    {
     "name": "stdout",
     "output_type": "stream",
     "text": [
      "[400]\tcv_agg's l2: 0.169022 + 0.101912\n",
      "Early stopping, best iteration is:\n",
      "[322]\tcv_agg's l2: 0.162586 + 0.0954625\n",
      "[100]\tcv_agg's l2: 0.178945 + 0.114431\n",
      "[200]\tcv_agg's l2: 0.171638 + 0.109648\n",
      "[300]\tcv_agg's l2: 0.170697 + 0.108743\n"
     ]
    },
    {
     "name": "stderr",
     "output_type": "stream",
     "text": [
      "min_data_in_leaf, val_score: 0.162586:  80%|####################################         | 4/5 [00:06<00:01,  1.68s/it][I 2023-12-01 17:47:45,084] Trial 66 finished with value: 0.17036665648034016 and parameters: {'min_child_samples': 5}. Best is trial 63 with value: 0.16713350515176195.\n",
      "min_data_in_leaf, val_score: 0.162586:  80%|####################################         | 4/5 [00:06<00:01,  1.68s/it]"
     ]
    },
    {
     "name": "stdout",
     "output_type": "stream",
     "text": [
      "[400]\tcv_agg's l2: 0.170127 + 0.108902\n",
      "Early stopping, best iteration is:\n",
      "[322]\tcv_agg's l2: 0.162586 + 0.0954625\n",
      "[100]\tcv_agg's l2: 0.308203 + 0.153291\n",
      "[200]\tcv_agg's l2: 0.287403 + 0.148715\n",
      "[300]\tcv_agg's l2: 0.278131 + 0.145916\n"
     ]
    },
    {
     "name": "stderr",
     "output_type": "stream",
     "text": [
      "min_data_in_leaf, val_score: 0.162586: 100%|#############################################| 5/5 [00:07<00:00,  1.51s/it][I 2023-12-01 17:47:46,300] Trial 67 finished with value: 0.27686398800703726 and parameters: {'min_child_samples': 100}. Best is trial 63 with value: 0.16713350515176195.\n",
      "min_data_in_leaf, val_score: 0.162586: 100%|#############################################| 5/5 [00:07<00:00,  1.58s/it]"
     ]
    },
    {
     "name": "stdout",
     "output_type": "stream",
     "text": [
      "[400]\tcv_agg's l2: 0.275034 + 0.144545\n",
      "Early stopping, best iteration is:\n",
      "[322]\tcv_agg's l2: 0.162586 + 0.0954625\n"
     ]
    },
    {
     "name": "stderr",
     "output_type": "stream",
     "text": [
      "\n"
     ]
    }
   ],
   "source": [
    "import optuna.integration.lightgbm as lgb\n",
    "from lightgbm import early_stopping, log_evaluation\n",
    "from sklearn.model_selection import KFold\n",
    "from sklearn.model_selection import RepeatedKFold\n",
    "\n",
    "\n",
    "lgb_train = lgb.Dataset(X_train, y_train)\n",
    "\n",
    "params = {\n",
    "    \"boosting_type\": \"gbdt\",\n",
    "    \"objective\": \"regression\",\n",
    "    \"metric\": \"l2\",\n",
    "    \"verbosity\": -1,\n",
    "}\n",
    "\n",
    "tuner = lgb.LightGBMTunerCV(\n",
    "    params,\n",
    "    lgb_train,\n",
    "    folds=KFold(n_splits=5),\n",
    "    num_boost_round=10000,\n",
    "    callbacks=[early_stopping(100), log_evaluation(100)],\n",
    ")\n",
    "\n",
    "tuner.run()"
   ]
  },
  {
   "cell_type": "code",
   "execution_count": 23,
   "id": "d9ab9a30",
   "metadata": {},
   "outputs": [
    {
     "name": "stdout",
     "output_type": "stream",
     "text": [
      "Best score: 0.1625864649179006\n",
      "Params: \n",
      "    boosting_type: gbdt\n",
      "    objective: regression\n",
      "    metric: l2\n",
      "    verbosity: -1\n",
      "    feature_pre_filter: False\n",
      "    lambda_l1: 5.5165771369e-07\n",
      "    lambda_l2: 8.499918958328592e-07\n",
      "    num_leaves: 14\n",
      "    feature_fraction: 0.652\n",
      "    bagging_fraction: 1.0\n",
      "    bagging_freq: 0\n",
      "    min_child_samples: 20\n"
     ]
    }
   ],
   "source": [
    "print(f\"Best score: {tuner.best_score}\")\n",
    "best_params = tuner.best_params\n",
    "print(\"Params: \")\n",
    "for key, value in best_params.items():\n",
    "    print(\"    {}: {}\".format(key, value))"
   ]
  },
  {
   "cell_type": "code",
   "execution_count": 24,
   "id": "0cb62c30",
   "metadata": {},
   "outputs": [],
   "source": [
    "import lightgbm as lgb\n",
    "\n",
    "lgb_tuned = lgb.train(\n",
    "    best_params,\n",
    "    lgb_train,\n",
    "    num_boost_round=10000,\n",
    ")"
   ]
  },
  {
   "cell_type": "code",
   "execution_count": 25,
   "id": "eb6b8188",
   "metadata": {},
   "outputs": [
    {
     "name": "stdout",
     "output_type": "stream",
     "text": [
      "RMSE train: 0.00\n",
      "RMSE test: 0.55\n",
      "MAE test: 0.35\n",
      "\n"
     ]
    }
   ],
   "source": [
    "rmse, mae = assess_regression_model(lgb_tuned, X_train, X_test, y_train, y_test)"
   ]
  },
  {
   "cell_type": "code",
   "execution_count": 26,
   "id": "90047108",
   "metadata": {},
   "outputs": [],
   "source": [
    "results.loc[1] = [\n",
    "    \"chronological\",\n",
    "    \"Optuna\",\n",
    "    \"full\",\n",
    "    rmse,\n",
    "    mae,\n",
    "]"
   ]
  },
  {
   "cell_type": "markdown",
   "id": "b26d94f2",
   "metadata": {},
   "source": [
    "###### MAE by level"
   ]
  },
  {
   "cell_type": "code",
   "execution_count": 27,
   "id": "bb716b92",
   "metadata": {},
   "outputs": [
    {
     "data": {
      "image/png": "[encoded data removed]",
      "text/plain": [
       "<Figure size 1440x576 with 1 Axes>"
      ]
     },
     "metadata": {
      "needs_background": "light"
     },
     "output_type": "display_data"
    }
   ],
   "source": [
    "plot_mae_by_level(\n",
    "    y_test,\n",
    "    y_pred_test,\n",
    "    title=\"MAE by level for tuned LightGBM with full features and chronological split\",\n",
    "    export=True,\n",
    ")"
   ]
  },
  {
   "cell_type": "code",
   "execution_count": 28,
   "id": "79785820",
   "metadata": {
    "scrolled": false
   },
   "outputs": [
    {
     "name": "stdout",
     "output_type": "stream",
     "text": [
      "Default:\n",
      "RMSE: 0.55\n",
      "\n",
      "Round type: 0.5\n",
      "RMSE: 0.59\n",
      "\n",
      "Round type: 0.33\n",
      "RMSE: 0.61\n",
      "\n",
      "Round type: 0.45\n",
      "RMSE: 0.59\n",
      "\n"
     ]
    }
   ],
   "source": [
    "predict = lgb_tuned.predict(X_test)\n",
    "evaluate_round_predictions([0.5, 0.33, 0.45], y_test, predict)"
   ]
  },
  {
   "cell_type": "code",
   "execution_count": 29,
   "id": "9d502ee2",
   "metadata": {},
   "outputs": [],
   "source": [
    "predict[predict < -1] = -1\n",
    "predict[predict > 21] = -1"
   ]
  },
  {
   "cell_type": "code",
   "execution_count": 30,
   "id": "63a9eab9",
   "metadata": {},
   "outputs": [
    {
     "data": {
      "image/png": "[encoded data removed]",
      "text/plain": [
       "<Figure size 720x720 with 2 Axes>"
      ]
     },
     "metadata": {
      "needs_background": "light"
     },
     "output_type": "display_data"
    }
   ],
   "source": [
    "plot_confusion_matrix(\n",
    "    predict,\n",
    "    y_test,\n",
    "    title=\"Confusion matrix for tuned LightGBM with\\nfull features and chronological split\",\n",
    "    export=True,\n",
    ")"
   ]
  },
  {
   "cell_type": "markdown",
   "id": "a1fa0d3e",
   "metadata": {},
   "source": [
    "## Random split"
   ]
  },
  {
   "cell_type": "code",
   "execution_count": 31,
   "id": "69148859",
   "metadata": {},
   "outputs": [
    {
     "name": "stdout",
     "output_type": "stream",
     "text": [
      "[LightGBM] [Warning] Auto-choosing row-wise multi-threading, the overhead of testing was 0.000853 seconds.\n",
      "You can set `force_row_wise=true` to remove the overhead.\n",
      "And if memory is not enough, you can set `force_col_wise=true`.\n",
      "[LightGBM] [Info] Total Bins 1020\n",
      "[LightGBM] [Info] Number of data points in the train set: 2767, number of used features: 50\n",
      "[LightGBM] [Info] Start training from score 7.220455\n",
      "Training until validation scores don't improve for 5 rounds\n",
      "Did not meet early stopping. Best iteration is:\n",
      "[100]\tvalid_0's l1: 0.258236\tvalid_0's l2: 0.144298\n"
     ]
    }
   ],
   "source": [
    "import lightgbm as lgb\n",
    "from sklearn.metrics import mean_squared_error\n",
    "\n",
    "lgb_train = lgb.Dataset(X_train_random_split, y_train_random_split)\n",
    "lgb_eval = lgb.Dataset(X_test_random_split, y_test_random_split, reference=lgb_train)\n",
    "\n",
    "params = {\n",
    "    \"boosting_type\": \"gbdt\",\n",
    "    \"objective\": \"regression\",\n",
    "    \"metric\": {\"l2\", \"l1\"},\n",
    "}\n",
    "\n",
    "gbm = lgb.train(\n",
    "    params,\n",
    "    lgb_train,\n",
    "    num_boost_round=100,\n",
    "    valid_sets=lgb_eval,\n",
    "    callbacks=[lgb.early_stopping(stopping_rounds=5)],\n",
    ")"
   ]
  },
  {
   "cell_type": "code",
   "execution_count": 32,
   "id": "792899a7",
   "metadata": {},
   "outputs": [],
   "source": [
    "y_pred_train = gbm.predict(X_train_random_split, num_iteration=gbm.best_iteration)\n",
    "y_pred_test = gbm.predict(X_test_random_split, num_iteration=gbm.best_iteration)"
   ]
  },
  {
   "cell_type": "code",
   "execution_count": 33,
   "id": "92e8b92d",
   "metadata": {},
   "outputs": [
    {
     "name": "stdout",
     "output_type": "stream",
     "text": [
      "RMSE: 0.38\n",
      "MAE: 0.26\n"
     ]
    }
   ],
   "source": [
    "from sklearn.metrics import mean_squared_error, mean_absolute_error\n",
    "\n",
    "\n",
    "rmse = mean_squared_error(y_test_random_split, y_pred_test, squared=False)\n",
    "mae = mean_absolute_error(y_test_random_split, y_pred_test)\n",
    "\n",
    "print(f\"RMSE: {rmse:.2f}\")\n",
    "print(f\"MAE: {mae:.2f}\")"
   ]
  },
  {
   "cell_type": "code",
   "execution_count": 34,
   "id": "e9b9f08d",
   "metadata": {},
   "outputs": [],
   "source": [
    "results.loc[2] = [\"random\", \"default\", \"full\", rmse, mae]"
   ]
  },
  {
   "cell_type": "markdown",
   "id": "e2f3fc5d",
   "metadata": {},
   "source": [
    "###### MAE by level"
   ]
  },
  {
   "cell_type": "code",
   "execution_count": 35,
   "id": "591c040e",
   "metadata": {},
   "outputs": [
    {
     "data": {
      "image/png": "[encoded data removed]",
      "text/plain": [
       "<Figure size 1440x576 with 1 Axes>"
      ]
     },
     "metadata": {
      "needs_background": "light"
     },
     "output_type": "display_data"
    }
   ],
   "source": [
    "plot_mae_by_level(\n",
    "    y_test_random_split,\n",
    "    y_pred_test,\n",
    "    title=\"MAE by level for default LightGBM with full features and random split\",\n",
    ")"
   ]
  },
  {
   "cell_type": "code",
   "execution_count": 36,
   "id": "2122d102",
   "metadata": {
    "scrolled": true
   },
   "outputs": [
    {
     "name": "stdout",
     "output_type": "stream",
     "text": [
      "Default:\n",
      "RMSE: 0.38\n",
      "\n",
      "Round type: 0.5\n",
      "RMSE: 0.41\n",
      "\n",
      "Round type: 0.33\n",
      "RMSE: 0.45\n",
      "\n",
      "Round type: 0.45\n",
      "RMSE: 0.42\n",
      "\n"
     ]
    }
   ],
   "source": [
    "evaluate_round_predictions([0.5, 0.33, 0.45], y_test_random_split, y_pred_test)"
   ]
  },
  {
   "cell_type": "code",
   "execution_count": 37,
   "id": "3b4c77ab",
   "metadata": {},
   "outputs": [
    {
     "data": {
      "image/png": "[encoded data removed]",
      "text/plain": [
       "<Figure size 720x720 with 2 Axes>"
      ]
     },
     "metadata": {
      "needs_background": "light"
     },
     "output_type": "display_data"
    }
   ],
   "source": [
    "plot_confusion_matrix(\n",
    "    y_pred_test,\n",
    "    y_test_random_split,\n",
    "    title=\"Confusion matrix for default LightGBM with\\nfull features and random split\",\n",
    ")"
   ]
  },
  {
   "cell_type": "markdown",
   "id": "295f8eff",
   "metadata": {},
   "source": [
    "### Tuning"
   ]
  },
  {
   "cell_type": "code",
   "execution_count": 38,
   "id": "14fca15b",
   "metadata": {},
   "outputs": [
    {
     "name": "stderr",
     "output_type": "stream",
     "text": [
      "[I 2023-12-01 17:47:58,888] A new study created in memory with name: no-name-e55c03b9-7bf6-4fa7-8f5e-6a3a05699324\n",
      "feature_fraction, val_score: inf:   0%|                                                          | 0/7 [00:00<?, ?it/s]"
     ]
    },
    {
     "name": "stdout",
     "output_type": "stream",
     "text": [
      "Training until validation scores don't improve for 100 rounds\n",
      "[100]\tcv_agg's l2: 0.207445 + 0.052438\n",
      "[200]\tcv_agg's l2: 0.204823 + 0.0507437\n"
     ]
    },
    {
     "name": "stderr",
     "output_type": "stream",
     "text": [
      "feature_fraction, val_score: 0.204742:  14%|######4                                      | 1/7 [00:02<00:12,  2.12s/it][I 2023-12-01 17:48:01,009] Trial 0 finished with value: 0.20474201272910034 and parameters: {'feature_fraction': 0.8}. Best is trial 0 with value: 0.20474201272910034.\n",
      "feature_fraction, val_score: 0.204742:  14%|######4                                      | 1/7 [00:02<00:12,  2.12s/it]"
     ]
    },
    {
     "name": "stdout",
     "output_type": "stream",
     "text": [
      "[300]\tcv_agg's l2: 0.206237 + 0.0502517\n",
      "Early stopping, best iteration is:\n",
      "[203]\tcv_agg's l2: 0.204742 + 0.0507545\n",
      "[100]\tcv_agg's l2: 0.206724 + 0.0457084\n",
      "[200]\tcv_agg's l2: 0.204508 + 0.0456553\n"
     ]
    },
    {
     "name": "stderr",
     "output_type": "stream",
     "text": [
      "\r",
      "feature_fraction, val_score: 0.203915:  14%|######4                                      | 1/7 [00:04<00:12,  2.12s/it]"
     ]
    },
    {
     "name": "stdout",
     "output_type": "stream",
     "text": [
      "[300]\tcv_agg's l2: 0.204506 + 0.0459229\n",
      "Early stopping, best iteration is:\n",
      "[228]\tcv_agg's l2: 0.203915 + 0.0459196\n"
     ]
    },
    {
     "name": "stderr",
     "output_type": "stream",
     "text": [
      "feature_fraction, val_score: 0.203915:  29%|############8                                | 2/7 [00:04<00:11,  2.27s/it][I 2023-12-01 17:48:03,392] Trial 1 finished with value: 0.2039154975351618 and parameters: {'feature_fraction': 0.5}. Best is trial 1 with value: 0.2039154975351618.\n",
      "feature_fraction, val_score: 0.203915:  29%|############8                                | 2/7 [00:04<00:11,  2.27s/it]"
     ]
    },
    {
     "name": "stdout",
     "output_type": "stream",
     "text": [
      "[100]\tcv_agg's l2: 0.219894 + 0.0593204\n",
      "[200]\tcv_agg's l2: 0.21546 + 0.0562051\n"
     ]
    },
    {
     "name": "stderr",
     "output_type": "stream",
     "text": [
      "\r",
      "feature_fraction, val_score: 0.203915:  29%|############8                                | 2/7 [00:07<00:11,  2.27s/it]"
     ]
    },
    {
     "name": "stdout",
     "output_type": "stream",
     "text": [
      "[300]\tcv_agg's l2: 0.216315 + 0.0552763\n",
      "Early stopping, best iteration is:\n",
      "[228]\tcv_agg's l2: 0.203915 + 0.0459196\n"
     ]
    },
    {
     "name": "stderr",
     "output_type": "stream",
     "text": [
      "feature_fraction, val_score: 0.203915:  43%|###################2                         | 3/7 [00:07<00:09,  2.39s/it][I 2023-12-01 17:48:05,926] Trial 2 finished with value: 0.21570001668849903 and parameters: {'feature_fraction': 1.0}. Best is trial 1 with value: 0.2039154975351618.\n",
      "feature_fraction, val_score: 0.203915:  43%|###################2                         | 3/7 [00:07<00:09,  2.39s/it]"
     ]
    },
    {
     "name": "stdout",
     "output_type": "stream",
     "text": [
      "[100]\tcv_agg's l2: 0.209979 + 0.0486148\n",
      "[200]\tcv_agg's l2: 0.207757 + 0.0471028\n"
     ]
    },
    {
     "name": "stderr",
     "output_type": "stream",
     "text": [
      "feature_fraction, val_score: 0.203915:  57%|#########################7                   | 4/7 [00:09<00:06,  2.32s/it][I 2023-12-01 17:48:08,131] Trial 3 finished with value: 0.20781556813752497 and parameters: {'feature_fraction': 0.7}. Best is trial 1 with value: 0.2039154975351618.\n",
      "feature_fraction, val_score: 0.203915:  57%|#########################7                   | 4/7 [00:09<00:06,  2.32s/it]"
     ]
    },
    {
     "name": "stdout",
     "output_type": "stream",
     "text": [
      "[300]\tcv_agg's l2: 0.208857 + 0.0471403\n",
      "Early stopping, best iteration is:\n",
      "[228]\tcv_agg's l2: 0.203915 + 0.0459196\n",
      "[100]\tcv_agg's l2: 0.219279 + 0.0616989\n",
      "[200]\tcv_agg's l2: 0.216678 + 0.0600617\n"
     ]
    },
    {
     "name": "stderr",
     "output_type": "stream",
     "text": [
      "feature_fraction, val_score: 0.203915:  71%|################################1            | 5/7 [00:11<00:04,  2.28s/it][I 2023-12-01 17:48:10,336] Trial 4 finished with value: 0.21701148583930477 and parameters: {'feature_fraction': 0.8999999999999999}. Best is trial 1 with value: 0.2039154975351618.\n",
      "feature_fraction, val_score: 0.203915:  71%|################################1            | 5/7 [00:11<00:04,  2.28s/it]"
     ]
    },
    {
     "name": "stdout",
     "output_type": "stream",
     "text": [
      "[300]\tcv_agg's l2: 0.217089 + 0.0594832\n",
      "Early stopping, best iteration is:\n",
      "[228]\tcv_agg's l2: 0.203915 + 0.0459196\n",
      "[100]\tcv_agg's l2: 0.213508 + 0.0381157\n",
      "[200]\tcv_agg's l2: 0.212453 + 0.0381714\n"
     ]
    },
    {
     "name": "stderr",
     "output_type": "stream",
     "text": [
      "\r",
      "feature_fraction, val_score: 0.203915:  71%|################################1            | 5/7 [00:13<00:04,  2.28s/it]"
     ]
    },
    {
     "name": "stdout",
     "output_type": "stream",
     "text": [
      "[300]\tcv_agg's l2: 0.212577 + 0.0388642\n",
      "Early stopping, best iteration is:\n",
      "[228]\tcv_agg's l2: 0.203915 + 0.0459196\n"
     ]
    },
    {
     "name": "stderr",
     "output_type": "stream",
     "text": [
      "feature_fraction, val_score: 0.203915:  86%|######################################5      | 6/7 [00:13<00:02,  2.30s/it][I 2023-12-01 17:48:12,674] Trial 5 finished with value: 0.21257515910222002 and parameters: {'feature_fraction': 0.4}. Best is trial 1 with value: 0.2039154975351618.\n",
      "feature_fraction, val_score: 0.203915:  86%|######################################5      | 6/7 [00:13<00:02,  2.30s/it]"
     ]
    },
    {
     "name": "stdout",
     "output_type": "stream",
     "text": [
      "[100]\tcv_agg's l2: 0.212565 + 0.0452236\n",
      "[200]\tcv_agg's l2: 0.211242 + 0.0450397\n"
     ]
    },
    {
     "name": "stderr",
     "output_type": "stream",
     "text": [
      "\r",
      "feature_fraction, val_score: 0.203915:  86%|######################################5      | 6/7 [00:16<00:02,  2.30s/it]"
     ]
    },
    {
     "name": "stdout",
     "output_type": "stream",
     "text": [
      "[300]\tcv_agg's l2: 0.212052 + 0.0447315\n",
      "Early stopping, best iteration is:\n",
      "[228]\tcv_agg's l2: 0.203915 + 0.0459196\n"
     ]
    },
    {
     "name": "stderr",
     "output_type": "stream",
     "text": [
      "feature_fraction, val_score: 0.203915: 100%|#############################################| 7/7 [00:16<00:00,  2.37s/it][I 2023-12-01 17:48:15,193] Trial 6 finished with value: 0.2108767431415302 and parameters: {'feature_fraction': 0.6}. Best is trial 1 with value: 0.2039154975351618.\n",
      "feature_fraction, val_score: 0.203915: 100%|#############################################| 7/7 [00:16<00:00,  2.33s/it]\n",
      "num_leaves, val_score: 0.203915:   0%|                                                          | 0/20 [00:00<?, ?it/s]"
     ]
    },
    {
     "name": "stdout",
     "output_type": "stream",
     "text": [
      "[100]\tcv_agg's l2: 0.208231 + 0.0455609\n",
      "[200]\tcv_agg's l2: 0.209013 + 0.0453051\n",
      "[300]\tcv_agg's l2: 0.209936 + 0.0452401\n"
     ]
    },
    {
     "name": "stderr",
     "output_type": "stream",
     "text": [
      "num_leaves, val_score: 0.203915:   5%|##5                                               | 1/20 [00:05<01:38,  5.20s/it][I 2023-12-01 17:48:20,405] Trial 7 finished with value: 0.20903441738921535 and parameters: {'num_leaves': 154}. Best is trial 7 with value: 0.20903441738921535.\n",
      "num_leaves, val_score: 0.203915:   5%|##5                                               | 1/20 [00:05<01:38,  5.20s/it]"
     ]
    },
    {
     "name": "stdout",
     "output_type": "stream",
     "text": [
      "Early stopping, best iteration is:\n",
      "[228]\tcv_agg's l2: 0.203915 + 0.0459196\n",
      "[100]\tcv_agg's l2: 0.208166 + 0.0403792\n",
      "[200]\tcv_agg's l2: 0.202772 + 0.0383998\n",
      "[300]\tcv_agg's l2: 0.202156 + 0.0376202\n"
     ]
    },
    {
     "name": "stderr",
     "output_type": "stream",
     "text": [
      "num_leaves, val_score: 0.201862:  10%|#####                                             | 2/20 [00:07<00:59,  3.31s/it][I 2023-12-01 17:48:22,392] Trial 8 finished with value: 0.20186231109000388 and parameters: {'num_leaves': 23}. Best is trial 8 with value: 0.20186231109000388.\n",
      "num_leaves, val_score: 0.201862:  10%|#####                                             | 2/20 [00:07<00:59,  3.31s/it]"
     ]
    },
    {
     "name": "stdout",
     "output_type": "stream",
     "text": [
      "Early stopping, best iteration is:\n",
      "[252]\tcv_agg's l2: 0.201862 + 0.0377168\n",
      "[100]\tcv_agg's l2: 0.207373 + 0.0419661\n",
      "[200]\tcv_agg's l2: 0.208023 + 0.0428111\n",
      "[300]\tcv_agg's l2: 0.209199 + 0.0427778\n"
     ]
    },
    {
     "name": "stderr",
     "output_type": "stream",
     "text": [
      "num_leaves, val_score: 0.201862:  15%|#######5                                          | 3/20 [00:11<01:04,  3.82s/it][I 2023-12-01 17:48:26,808] Trial 9 finished with value: 0.20841735270359507 and parameters: {'num_leaves': 67}. Best is trial 8 with value: 0.20186231109000388.\n",
      "num_leaves, val_score: 0.201862:  15%|#######5                                          | 3/20 [00:11<01:04,  3.82s/it]"
     ]
    },
    {
     "name": "stdout",
     "output_type": "stream",
     "text": [
      "Early stopping, best iteration is:\n",
      "[252]\tcv_agg's l2: 0.201862 + 0.0377168\n",
      "[100]\tcv_agg's l2: 0.271417 + 0.0499876\n",
      "[200]\tcv_agg's l2: 0.248029 + 0.0440608\n"
     ]
    },
    {
     "name": "stderr",
     "output_type": "stream",
     "text": [
      "num_leaves, val_score: 0.201862:  20%|##########                                        | 4/20 [00:12<00:43,  2.73s/it][I 2023-12-01 17:48:27,874] Trial 10 finished with value: 0.24179971323284902 and parameters: {'num_leaves': 7}. Best is trial 8 with value: 0.20186231109000388.\n",
      "num_leaves, val_score: 0.201862:  20%|##########                                        | 4/20 [00:12<00:43,  2.73s/it]"
     ]
    },
    {
     "name": "stdout",
     "output_type": "stream",
     "text": [
      "[300]\tcv_agg's l2: 0.236586 + 0.0418964\n",
      "Early stopping, best iteration is:\n",
      "[252]\tcv_agg's l2: 0.201862 + 0.0377168\n",
      "[100]\tcv_agg's l2: 0.208231 + 0.0455609\n",
      "[200]\tcv_agg's l2: 0.209013 + 0.0453051\n",
      "[300]\tcv_agg's l2: 0.209936 + 0.0452401\n"
     ]
    },
    {
     "name": "stderr",
     "output_type": "stream",
     "text": [
      "num_leaves, val_score: 0.201862:  25%|############5                                     | 5/20 [00:18<00:56,  3.76s/it][I 2023-12-01 17:48:33,450] Trial 11 finished with value: 0.20939975747510603 and parameters: {'num_leaves': 209}. Best is trial 8 with value: 0.20186231109000388.\n",
      "num_leaves, val_score: 0.201862:  25%|############5                                     | 5/20 [00:18<00:56,  3.76s/it]"
     ]
    },
    {
     "name": "stdout",
     "output_type": "stream",
     "text": [
      "Early stopping, best iteration is:\n",
      "[252]\tcv_agg's l2: 0.201862 + 0.0377168\n",
      "[100]\tcv_agg's l2: 0.241073 + 0.0473759\n",
      "[200]\tcv_agg's l2: 0.225811 + 0.0442824\n"
     ]
    },
    {
     "name": "stderr",
     "output_type": "stream",
     "text": [
      "num_leaves, val_score: 0.201862:  30%|###############                                   | 6/20 [00:19<00:40,  2.89s/it][I 2023-12-01 17:48:34,664] Trial 12 finished with value: 0.22250763330372808 and parameters: {'num_leaves': 10}. Best is trial 8 with value: 0.20186231109000388.\n",
      "num_leaves, val_score: 0.201862:  30%|###############                                   | 6/20 [00:19<00:40,  2.89s/it]"
     ]
    },
    {
     "name": "stdout",
     "output_type": "stream",
     "text": [
      "[300]\tcv_agg's l2: 0.217847 + 0.0441877\n",
      "Early stopping, best iteration is:\n",
      "[252]\tcv_agg's l2: 0.201862 + 0.0377168\n",
      "[100]\tcv_agg's l2: 0.208022 + 0.0456631\n",
      "[200]\tcv_agg's l2: 0.208856 + 0.0453246\n",
      "[300]\tcv_agg's l2: 0.210076 + 0.0450407\n"
     ]
    },
    {
     "name": "stderr",
     "output_type": "stream",
     "text": [
      "num_leaves, val_score: 0.201862:  35%|#################5                                | 7/20 [00:24<00:47,  3.64s/it][I 2023-12-01 17:48:39,843] Trial 13 finished with value: 0.20970884252956523 and parameters: {'num_leaves': 89}. Best is trial 8 with value: 0.20186231109000388.\n",
      "num_leaves, val_score: 0.201862:  35%|#################5                                | 7/20 [00:24<00:47,  3.64s/it]"
     ]
    },
    {
     "name": "stdout",
     "output_type": "stream",
     "text": [
      "Early stopping, best iteration is:\n",
      "[252]\tcv_agg's l2: 0.201862 + 0.0377168\n",
      "[100]\tcv_agg's l2: 0.208231 + 0.0455609\n",
      "[200]\tcv_agg's l2: 0.209013 + 0.0453051\n",
      "[300]\tcv_agg's l2: 0.209936 + 0.0452401\n"
     ]
    },
    {
     "name": "stderr",
     "output_type": "stream",
     "text": [
      "num_leaves, val_score: 0.201862:  40%|####################                              | 8/20 [00:30<00:53,  4.43s/it][I 2023-12-01 17:48:45,957] Trial 14 finished with value: 0.20939975747510603 and parameters: {'num_leaves': 253}. Best is trial 8 with value: 0.20186231109000388.\n",
      "num_leaves, val_score: 0.201862:  40%|####################                              | 8/20 [00:30<00:53,  4.43s/it]"
     ]
    },
    {
     "name": "stdout",
     "output_type": "stream",
     "text": [
      "Early stopping, best iteration is:\n",
      "[252]\tcv_agg's l2: 0.201862 + 0.0377168\n",
      "[100]\tcv_agg's l2: 0.208231 + 0.0455609\n",
      "[200]\tcv_agg's l2: 0.209013 + 0.0453051\n",
      "[300]\tcv_agg's l2: 0.209936 + 0.0452401\n"
     ]
    },
    {
     "name": "stderr",
     "output_type": "stream",
     "text": [
      "num_leaves, val_score: 0.201862:  45%|######################5                           | 9/20 [00:39<01:04,  5.85s/it][I 2023-12-01 17:48:54,936] Trial 15 finished with value: 0.20939975747510603 and parameters: {'num_leaves': 130}. Best is trial 8 with value: 0.20186231109000388.\n",
      "num_leaves, val_score: 0.201862:  45%|######################5                           | 9/20 [00:39<01:04,  5.85s/it]"
     ]
    },
    {
     "name": "stdout",
     "output_type": "stream",
     "text": [
      "Early stopping, best iteration is:\n",
      "[252]\tcv_agg's l2: 0.201862 + 0.0377168\n",
      "[100]\tcv_agg's l2: 0.204451 + 0.0426512\n",
      "[200]\tcv_agg's l2: 0.205706 + 0.0425777\n",
      "[300]\tcv_agg's l2: 0.207382 + 0.0430008\n"
     ]
    },
    {
     "name": "stderr",
     "output_type": "stream",
     "text": [
      "num_leaves, val_score: 0.201862:  50%|########################5                        | 10/20 [00:49<01:09,  6.98s/it][I 2023-12-01 17:49:04,450] Trial 16 finished with value: 0.20675565762130263 and parameters: {'num_leaves': 64}. Best is trial 8 with value: 0.20186231109000388.\n",
      "num_leaves, val_score: 0.201862:  50%|########################5                        | 10/20 [00:49<01:09,  6.98s/it]"
     ]
    },
    {
     "name": "stdout",
     "output_type": "stream",
     "text": [
      "Early stopping, best iteration is:\n",
      "[252]\tcv_agg's l2: 0.201862 + 0.0377168\n",
      "[100]\tcv_agg's l2: 0.208231 + 0.0455609\n",
      "[200]\tcv_agg's l2: 0.209013 + 0.0453051\n",
      "[300]\tcv_agg's l2: 0.209936 + 0.0452401\n"
     ]
    },
    {
     "name": "stderr",
     "output_type": "stream",
     "text": [
      "num_leaves, val_score: 0.201862:  55%|##########################9                      | 11/20 [01:00<01:13,  8.18s/it][I 2023-12-01 17:49:15,347] Trial 17 finished with value: 0.20939975747510603 and parameters: {'num_leaves': 183}. Best is trial 8 with value: 0.20186231109000388.\n",
      "num_leaves, val_score: 0.201862:  55%|##########################9                      | 11/20 [01:00<01:13,  8.18s/it]"
     ]
    },
    {
     "name": "stdout",
     "output_type": "stream",
     "text": [
      "Early stopping, best iteration is:\n",
      "[252]\tcv_agg's l2: 0.201862 + 0.0377168\n",
      "[100]\tcv_agg's l2: 0.205518 + 0.044805\n",
      "[200]\tcv_agg's l2: 0.205137 + 0.0445535\n",
      "[300]\tcv_agg's l2: 0.206077 + 0.0445411\n"
     ]
    },
    {
     "name": "stderr",
     "output_type": "stream",
     "text": [
      "num_leaves, val_score: 0.201862:  60%|#############################4                   | 12/20 [01:06<01:00,  7.54s/it][I 2023-12-01 17:49:21,420] Trial 18 finished with value: 0.20580991689949402 and parameters: {'num_leaves': 42}. Best is trial 8 with value: 0.20186231109000388.\n",
      "num_leaves, val_score: 0.201862:  60%|#############################4                   | 12/20 [01:06<01:00,  7.54s/it]"
     ]
    },
    {
     "name": "stdout",
     "output_type": "stream",
     "text": [
      "Early stopping, best iteration is:\n",
      "[252]\tcv_agg's l2: 0.201862 + 0.0377168\n",
      "[100]\tcv_agg's l2: 0.208231 + 0.0455609\n",
      "[200]\tcv_agg's l2: 0.209013 + 0.0453051\n",
      "[300]\tcv_agg's l2: 0.209936 + 0.0452401\n"
     ]
    },
    {
     "name": "stderr",
     "output_type": "stream",
     "text": [
      "num_leaves, val_score: 0.201862:  65%|###############################8                 | 13/20 [01:17<01:00,  8.57s/it][I 2023-12-01 17:49:32,368] Trial 19 finished with value: 0.20939975747510603 and parameters: {'num_leaves': 108}. Best is trial 8 with value: 0.20186231109000388.\n",
      "num_leaves, val_score: 0.201862:  65%|###############################8                 | 13/20 [01:17<01:00,  8.57s/it]"
     ]
    },
    {
     "name": "stdout",
     "output_type": "stream",
     "text": [
      "Early stopping, best iteration is:\n",
      "[252]\tcv_agg's l2: 0.201862 + 0.0377168\n",
      "[100]\tcv_agg's l2: 0.207086 + 0.0471875\n",
      "[200]\tcv_agg's l2: 0.205704 + 0.0454991\n",
      "[300]\tcv_agg's l2: 0.207434 + 0.0455503\n"
     ]
    },
    {
     "name": "stderr",
     "output_type": "stream",
     "text": [
      "num_leaves, val_score: 0.201862:  70%|##################################3              | 14/20 [01:22<00:46,  7.69s/it][I 2023-12-01 17:49:38,032] Trial 20 finished with value: 0.20668627796403474 and parameters: {'num_leaves': 37}. Best is trial 8 with value: 0.20186231109000388.\n",
      "num_leaves, val_score: 0.201862:  70%|##################################3              | 14/20 [01:22<00:46,  7.69s/it]"
     ]
    },
    {
     "name": "stdout",
     "output_type": "stream",
     "text": [
      "Early stopping, best iteration is:\n",
      "[252]\tcv_agg's l2: 0.201862 + 0.0377168\n",
      "[100]\tcv_agg's l2: 0.208231 + 0.0455609\n",
      "[200]\tcv_agg's l2: 0.209013 + 0.0453051\n",
      "[300]\tcv_agg's l2: 0.209936 + 0.0452401\n"
     ]
    },
    {
     "name": "stderr",
     "output_type": "stream",
     "text": [
      "num_leaves, val_score: 0.201862:  75%|####################################7            | 15/20 [01:33<00:42,  8.56s/it][I 2023-12-01 17:49:48,602] Trial 21 finished with value: 0.20939975747510603 and parameters: {'num_leaves': 143}. Best is trial 8 with value: 0.20186231109000388.\n",
      "num_leaves, val_score: 0.201862:  75%|####################################7            | 15/20 [01:33<00:42,  8.56s/it]"
     ]
    },
    {
     "name": "stdout",
     "output_type": "stream",
     "text": [
      "Early stopping, best iteration is:\n",
      "[252]\tcv_agg's l2: 0.201862 + 0.0377168\n",
      "[100]\tcv_agg's l2: 0.208231 + 0.0455609\n",
      "[200]\tcv_agg's l2: 0.209013 + 0.0453051\n",
      "[300]\tcv_agg's l2: 0.209936 + 0.0452401\n"
     ]
    },
    {
     "name": "stderr",
     "output_type": "stream",
     "text": [
      "num_leaves, val_score: 0.201862:  80%|#######################################2         | 16/20 [01:44<00:36,  9.24s/it][I 2023-12-01 17:49:59,417] Trial 22 finished with value: 0.20939975747510603 and parameters: {'num_leaves': 96}. Best is trial 8 with value: 0.20186231109000388.\n",
      "num_leaves, val_score: 0.201862:  80%|#######################################2         | 16/20 [01:44<00:36,  9.24s/it]"
     ]
    },
    {
     "name": "stdout",
     "output_type": "stream",
     "text": [
      "Early stopping, best iteration is:\n",
      "[252]\tcv_agg's l2: 0.201862 + 0.0377168\n",
      "[100]\tcv_agg's l2: 0.208231 + 0.0455609\n",
      "[200]\tcv_agg's l2: 0.209013 + 0.0453051\n",
      "[300]\tcv_agg's l2: 0.209936 + 0.0452401\n"
     ]
    },
    {
     "name": "stderr",
     "output_type": "stream",
     "text": [
      "num_leaves, val_score: 0.201862:  85%|#########################################6       | 17/20 [01:55<00:29,  9.72s/it][I 2023-12-01 17:50:10,255] Trial 23 finished with value: 0.20939975747510603 and parameters: {'num_leaves': 252}. Best is trial 8 with value: 0.20186231109000388.\n",
      "num_leaves, val_score: 0.201862:  85%|#########################################6       | 17/20 [01:55<00:29,  9.72s/it]"
     ]
    },
    {
     "name": "stdout",
     "output_type": "stream",
     "text": [
      "Early stopping, best iteration is:\n",
      "[252]\tcv_agg's l2: 0.201862 + 0.0377168\n",
      "[100]\tcv_agg's l2: 0.208231 + 0.0455609\n",
      "[200]\tcv_agg's l2: 0.209013 + 0.0453051\n",
      "[300]\tcv_agg's l2: 0.209936 + 0.0452401\n"
     ]
    },
    {
     "name": "stderr",
     "output_type": "stream",
     "text": [
      "num_leaves, val_score: 0.201862:  90%|############################################1    | 18/20 [02:07<00:21, 10.53s/it][I 2023-12-01 17:50:22,684] Trial 24 finished with value: 0.20939975747510603 and parameters: {'num_leaves': 187}. Best is trial 8 with value: 0.20186231109000388.\n",
      "num_leaves, val_score: 0.201862:  90%|############################################1    | 18/20 [02:07<00:21, 10.53s/it]"
     ]
    },
    {
     "name": "stdout",
     "output_type": "stream",
     "text": [
      "Early stopping, best iteration is:\n",
      "[252]\tcv_agg's l2: 0.201862 + 0.0377168\n",
      "[100]\tcv_agg's l2: 0.205659 + 0.0430991\n",
      "[200]\tcv_agg's l2: 0.206707 + 0.0437868\n",
      "[300]\tcv_agg's l2: 0.208732 + 0.0444465\n"
     ]
    },
    {
     "name": "stderr",
     "output_type": "stream",
     "text": [
      "num_leaves, val_score: 0.201862:  95%|##############################################5  | 19/20 [02:14<00:09,  9.34s/it][I 2023-12-01 17:50:29,235] Trial 25 finished with value: 0.20791801896359202 and parameters: {'num_leaves': 43}. Best is trial 8 with value: 0.20186231109000388.\n",
      "num_leaves, val_score: 0.201862:  95%|##############################################5  | 19/20 [02:14<00:09,  9.34s/it]"
     ]
    },
    {
     "name": "stdout",
     "output_type": "stream",
     "text": [
      "Early stopping, best iteration is:\n",
      "[252]\tcv_agg's l2: 0.201862 + 0.0377168\n",
      "[100]\tcv_agg's l2: 0.207068 + 0.0437094\n",
      "[200]\tcv_agg's l2: 0.207259 + 0.0440003\n",
      "[300]\tcv_agg's l2: 0.208356 + 0.0439732\n"
     ]
    },
    {
     "name": "stderr",
     "output_type": "stream",
     "text": [
      "num_leaves, val_score: 0.201862: 100%|#################################################| 20/20 [02:24<00:00,  9.56s/it][I 2023-12-01 17:50:39,316] Trial 26 finished with value: 0.20765624096042234 and parameters: {'num_leaves': 71}. Best is trial 8 with value: 0.20186231109000388.\n",
      "num_leaves, val_score: 0.201862: 100%|#################################################| 20/20 [02:24<00:00,  7.21s/it]\n"
     ]
    },
    {
     "name": "stdout",
     "output_type": "stream",
     "text": [
      "Early stopping, best iteration is:\n",
      "[252]\tcv_agg's l2: 0.201862 + 0.0377168\n"
     ]
    },
    {
     "name": "stderr",
     "output_type": "stream",
     "text": [
      "bagging, val_score: 0.201862:   0%|                                                             | 0/10 [00:00<?, ?it/s]"
     ]
    },
    {
     "name": "stdout",
     "output_type": "stream",
     "text": [
      "[100]\tcv_agg's l2: 0.226373 + 0.0430364\n",
      "[200]\tcv_agg's l2: 0.218149 + 0.0409522\n",
      "[300]\tcv_agg's l2: 0.216561 + 0.0373398\n"
     ]
    },
    {
     "name": "stderr",
     "output_type": "stream",
     "text": [
      "bagging, val_score: 0.201862:  10%|#####3                                               | 1/10 [00:03<00:34,  3.83s/it][I 2023-12-01 17:50:43,152] Trial 27 finished with value: 0.2162344155008961 and parameters: {'bagging_fraction': 0.5139767388976043, 'bagging_freq': 3}. Best is trial 27 with value: 0.2162344155008961.\n",
      "bagging, val_score: 0.201862:  10%|#####3                                               | 1/10 [00:03<00:34,  3.83s/it]"
     ]
    },
    {
     "name": "stdout",
     "output_type": "stream",
     "text": [
      "Early stopping, best iteration is:\n",
      "[252]\tcv_agg's l2: 0.201862 + 0.0377168\n",
      "[100]\tcv_agg's l2: 0.208166 + 0.0403792\n",
      "[200]\tcv_agg's l2: 0.202772 + 0.0383998\n",
      "[300]\tcv_agg's l2: 0.202156 + 0.0376202\n"
     ]
    },
    {
     "name": "stderr",
     "output_type": "stream",
     "text": [
      "bagging, val_score: 0.201862:  20%|##########6                                          | 2/10 [00:07<00:32,  4.02s/it][I 2023-12-01 17:50:47,302] Trial 28 finished with value: 0.20186231109000388 and parameters: {'bagging_fraction': 0.9987609873170784, 'bagging_freq': 7}. Best is trial 28 with value: 0.20186231109000388.\n",
      "bagging, val_score: 0.201862:  20%|##########6                                          | 2/10 [00:07<00:32,  4.02s/it]"
     ]
    },
    {
     "name": "stdout",
     "output_type": "stream",
     "text": [
      "Early stopping, best iteration is:\n",
      "[252]\tcv_agg's l2: 0.201862 + 0.0377168\n",
      "[100]\tcv_agg's l2: 0.217862 + 0.0439343\n",
      "[200]\tcv_agg's l2: 0.212234 + 0.0422806\n",
      "[300]\tcv_agg's l2: 0.211039 + 0.0408674\n"
     ]
    },
    {
     "name": "stderr",
     "output_type": "stream",
     "text": [
      "bagging, val_score: 0.201862:  30%|###############9                                     | 3/10 [00:12<00:28,  4.12s/it][I 2023-12-01 17:50:51,538] Trial 29 finished with value: 0.21097621292213925 and parameters: {'bagging_fraction': 0.9022932350740286, 'bagging_freq': 7}. Best is trial 28 with value: 0.20186231109000388.\n",
      "bagging, val_score: 0.201862:  30%|###############9                                     | 3/10 [00:12<00:28,  4.12s/it]"
     ]
    },
    {
     "name": "stdout",
     "output_type": "stream",
     "text": [
      "Early stopping, best iteration is:\n",
      "[252]\tcv_agg's l2: 0.201862 + 0.0377168\n",
      "[100]\tcv_agg's l2: 0.209707 + 0.0420055\n",
      "[200]\tcv_agg's l2: 0.203653 + 0.0397708\n",
      "[300]\tcv_agg's l2: 0.203275 + 0.0406948\n"
     ]
    },
    {
     "name": "stderr",
     "output_type": "stream",
     "text": [
      "bagging, val_score: 0.201862:  40%|#####################2                               | 4/10 [00:16<00:25,  4.24s/it][I 2023-12-01 17:50:55,954] Trial 30 finished with value: 0.2026749153075967 and parameters: {'bagging_fraction': 0.9835469221540558, 'bagging_freq': 7}. Best is trial 28 with value: 0.20186231109000388.\n",
      "bagging, val_score: 0.201862:  40%|#####################2                               | 4/10 [00:16<00:25,  4.24s/it]"
     ]
    },
    {
     "name": "stdout",
     "output_type": "stream",
     "text": [
      "Early stopping, best iteration is:\n",
      "[252]\tcv_agg's l2: 0.201862 + 0.0377168\n",
      "[100]\tcv_agg's l2: 0.212151 + 0.0432652\n",
      "[200]\tcv_agg's l2: 0.207081 + 0.041927\n",
      "[300]\tcv_agg's l2: 0.205929 + 0.0406404\n"
     ]
    },
    {
     "name": "stderr",
     "output_type": "stream",
     "text": [
      "bagging, val_score: 0.201862:  50%|##########################5                          | 5/10 [00:20<00:20,  4.12s/it][I 2023-12-01 17:50:59,882] Trial 31 finished with value: 0.20612252458344718 and parameters: {'bagging_fraction': 0.9720045428995603, 'bagging_freq': 7}. Best is trial 28 with value: 0.20186231109000388.\n",
      "bagging, val_score: 0.201862:  50%|##########################5                          | 5/10 [00:20<00:20,  4.12s/it]"
     ]
    },
    {
     "name": "stdout",
     "output_type": "stream",
     "text": [
      "Early stopping, best iteration is:\n",
      "[252]\tcv_agg's l2: 0.201862 + 0.0377168\n",
      "[100]\tcv_agg's l2: 0.214359 + 0.0446103\n",
      "[200]\tcv_agg's l2: 0.207717 + 0.0414808\n",
      "[300]\tcv_agg's l2: 0.207151 + 0.0398605\n"
     ]
    },
    {
     "name": "stderr",
     "output_type": "stream",
     "text": [
      "bagging, val_score: 0.201862:  60%|###############################8                     | 6/10 [00:24<00:16,  4.07s/it][I 2023-12-01 17:51:03,834] Trial 32 finished with value: 0.20746755681525048 and parameters: {'bagging_fraction': 0.9623083556719942, 'bagging_freq': 6}. Best is trial 28 with value: 0.20186231109000388.\n",
      "bagging, val_score: 0.201862:  60%|###############################8                     | 6/10 [00:24<00:16,  4.07s/it]"
     ]
    },
    {
     "name": "stdout",
     "output_type": "stream",
     "text": [
      "Early stopping, best iteration is:\n",
      "[252]\tcv_agg's l2: 0.201862 + 0.0377168\n",
      "[100]\tcv_agg's l2: 0.215135 + 0.0469076\n",
      "[200]\tcv_agg's l2: 0.21048 + 0.0430586\n",
      "[300]\tcv_agg's l2: 0.211015 + 0.0426544\n"
     ]
    },
    {
     "name": "stderr",
     "output_type": "stream",
     "text": [
      "bagging, val_score: 0.201862:  70%|#####################################                | 7/10 [00:28<00:12,  4.07s/it][I 2023-12-01 17:51:07,925] Trial 33 finished with value: 0.21072081421842973 and parameters: {'bagging_fraction': 0.7909713406721723, 'bagging_freq': 5}. Best is trial 28 with value: 0.20186231109000388.\n",
      "bagging, val_score: 0.201862:  70%|#####################################                | 7/10 [00:28<00:12,  4.07s/it]"
     ]
    },
    {
     "name": "stdout",
     "output_type": "stream",
     "text": [
      "Early stopping, best iteration is:\n",
      "[252]\tcv_agg's l2: 0.201862 + 0.0377168\n",
      "[100]\tcv_agg's l2: 0.211116 + 0.0467135\n",
      "[200]\tcv_agg's l2: 0.206223 + 0.0450878\n",
      "[300]\tcv_agg's l2: 0.205863 + 0.0447844\n"
     ]
    },
    {
     "name": "stderr",
     "output_type": "stream",
     "text": [
      "bagging, val_score: 0.201862:  80%|##########################################4          | 8/10 [00:32<00:08,  4.06s/it][I 2023-12-01 17:51:11,953] Trial 34 finished with value: 0.20551823524967777 and parameters: {'bagging_fraction': 0.9820469635684208, 'bagging_freq': 2}. Best is trial 28 with value: 0.20186231109000388.\n",
      "bagging, val_score: 0.201862:  80%|##########################################4          | 8/10 [00:32<00:08,  4.06s/it]"
     ]
    },
    {
     "name": "stdout",
     "output_type": "stream",
     "text": [
      "Early stopping, best iteration is:\n",
      "[252]\tcv_agg's l2: 0.201862 + 0.0377168\n",
      "[100]\tcv_agg's l2: 0.213804 + 0.045467\n",
      "[200]\tcv_agg's l2: 0.207026 + 0.0402587\n",
      "[300]\tcv_agg's l2: 0.206682 + 0.0398781\n"
     ]
    },
    {
     "name": "stderr",
     "output_type": "stream",
     "text": [
      "bagging, val_score: 0.201862:  90%|###############################################7     | 9/10 [00:36<00:04,  4.01s/it][I 2023-12-01 17:51:15,847] Trial 35 finished with value: 0.20665896195774475 and parameters: {'bagging_fraction': 0.7842639757391453, 'bagging_freq': 5}. Best is trial 28 with value: 0.20186231109000388.\n",
      "bagging, val_score: 0.201862:  90%|###############################################7     | 9/10 [00:36<00:04,  4.01s/it]"
     ]
    },
    {
     "name": "stdout",
     "output_type": "stream",
     "text": [
      "Early stopping, best iteration is:\n",
      "[252]\tcv_agg's l2: 0.201862 + 0.0377168\n",
      "[100]\tcv_agg's l2: 0.219968 + 0.0444454\n",
      "[200]\tcv_agg's l2: 0.21418 + 0.041655\n",
      "[300]\tcv_agg's l2: 0.213061 + 0.0408012\n"
     ]
    },
    {
     "name": "stderr",
     "output_type": "stream",
     "text": [
      "bagging, val_score: 0.201862: 100%|####################################################| 10/10 [00:40<00:00,  4.02s/it][I 2023-12-01 17:51:19,906] Trial 36 finished with value: 0.21301710187019304 and parameters: {'bagging_fraction': 0.8694539443267284, 'bagging_freq': 7}. Best is trial 28 with value: 0.20186231109000388.\n",
      "bagging, val_score: 0.201862: 100%|####################################################| 10/10 [00:40<00:00,  4.06s/it]\n"
     ]
    },
    {
     "name": "stdout",
     "output_type": "stream",
     "text": [
      "Early stopping, best iteration is:\n",
      "[252]\tcv_agg's l2: 0.201862 + 0.0377168\n"
     ]
    },
    {
     "name": "stderr",
     "output_type": "stream",
     "text": [
      "feature_fraction_stage2, val_score: 0.201862:   0%|                                              | 0/6 [00:00<?, ?it/s]"
     ]
    },
    {
     "name": "stdout",
     "output_type": "stream",
     "text": [
      "[100]\tcv_agg's l2: 0.212068 + 0.0408794\n",
      "[200]\tcv_agg's l2: 0.207502 + 0.0387784\n",
      "[300]\tcv_agg's l2: 0.208035 + 0.0388855\n"
     ]
    },
    {
     "name": "stderr",
     "output_type": "stream",
     "text": [
      "feature_fraction_stage2, val_score: 0.201862:  17%|######3                               | 1/6 [00:03<00:19,  3.96s/it][I 2023-12-01 17:51:23,874] Trial 37 finished with value: 0.20822081669006529 and parameters: {'feature_fraction': 0.45199999999999996}. Best is trial 37 with value: 0.20822081669006529.\n",
      "feature_fraction_stage2, val_score: 0.201862:  17%|######3                               | 1/6 [00:03<00:19,  3.96s/it]"
     ]
    },
    {
     "name": "stdout",
     "output_type": "stream",
     "text": [
      "Early stopping, best iteration is:\n",
      "[252]\tcv_agg's l2: 0.201862 + 0.0377168\n",
      "[100]\tcv_agg's l2: 0.212984 + 0.0419637\n",
      "[200]\tcv_agg's l2: 0.208047 + 0.0398103\n",
      "[300]\tcv_agg's l2: 0.207129 + 0.0389252\n"
     ]
    },
    {
     "name": "stderr",
     "output_type": "stream",
     "text": [
      "feature_fraction_stage2, val_score: 0.201862:  33%|############6                         | 2/6 [00:07<00:15,  3.90s/it][I 2023-12-01 17:51:27,731] Trial 38 finished with value: 0.20738428209164148 and parameters: {'feature_fraction': 0.484}. Best is trial 38 with value: 0.20738428209164148.\n",
      "feature_fraction_stage2, val_score: 0.201862:  33%|############6                         | 2/6 [00:07<00:15,  3.90s/it]"
     ]
    },
    {
     "name": "stdout",
     "output_type": "stream",
     "text": [
      "Early stopping, best iteration is:\n",
      "[252]\tcv_agg's l2: 0.201862 + 0.0377168\n",
      "[100]\tcv_agg's l2: 0.210958 + 0.0429264\n",
      "[200]\tcv_agg's l2: 0.20594 + 0.0422066\n",
      "[300]\tcv_agg's l2: 0.205182 + 0.0429219\n"
     ]
    },
    {
     "name": "stderr",
     "output_type": "stream",
     "text": [
      "feature_fraction_stage2, val_score: 0.201862:  50%|###################                   | 3/6 [00:11<00:11,  3.95s/it][I 2023-12-01 17:51:31,745] Trial 39 finished with value: 0.20536528811021162 and parameters: {'feature_fraction': 0.516}. Best is trial 39 with value: 0.20536528811021162.\n",
      "feature_fraction_stage2, val_score: 0.201862:  50%|###################                   | 3/6 [00:11<00:11,  3.95s/it]"
     ]
    },
    {
     "name": "stdout",
     "output_type": "stream",
     "text": [
      "Early stopping, best iteration is:\n",
      "[252]\tcv_agg's l2: 0.201862 + 0.0377168\n",
      "[100]\tcv_agg's l2: 0.212667 + 0.0425681\n",
      "[200]\tcv_agg's l2: 0.208508 + 0.0416746\n",
      "[300]\tcv_agg's l2: 0.207724 + 0.041994\n"
     ]
    },
    {
     "name": "stderr",
     "output_type": "stream",
     "text": [
      "feature_fraction_stage2, val_score: 0.201862:  67%|#########################3            | 4/6 [00:16<00:08,  4.05s/it][I 2023-12-01 17:51:35,939] Trial 40 finished with value: 0.2078441517243456 and parameters: {'feature_fraction': 0.5479999999999999}. Best is trial 39 with value: 0.20536528811021162.\n",
      "feature_fraction_stage2, val_score: 0.201862:  67%|#########################3            | 4/6 [00:16<00:08,  4.05s/it]"
     ]
    },
    {
     "name": "stdout",
     "output_type": "stream",
     "text": [
      "Early stopping, best iteration is:\n",
      "[252]\tcv_agg's l2: 0.201862 + 0.0377168\n",
      "[100]\tcv_agg's l2: 0.21255 + 0.0451252\n",
      "[200]\tcv_agg's l2: 0.207761 + 0.0429606\n",
      "[300]\tcv_agg's l2: 0.207759 + 0.0420204\n"
     ]
    },
    {
     "name": "stderr",
     "output_type": "stream",
     "text": [
      "feature_fraction_stage2, val_score: 0.201862:  83%|###############################6      | 5/6 [00:19<00:03,  3.94s/it][I 2023-12-01 17:51:39,682] Trial 41 finished with value: 0.20729657272889615 and parameters: {'feature_fraction': 0.58}. Best is trial 39 with value: 0.20536528811021162.\n",
      "feature_fraction_stage2, val_score: 0.201862:  83%|###############################6      | 5/6 [00:19<00:03,  3.94s/it]"
     ]
    },
    {
     "name": "stdout",
     "output_type": "stream",
     "text": [
      "Early stopping, best iteration is:\n",
      "[252]\tcv_agg's l2: 0.201862 + 0.0377168\n",
      "[100]\tcv_agg's l2: 0.216696 + 0.0349982\n",
      "[200]\tcv_agg's l2: 0.211467 + 0.0331942\n",
      "[300]\tcv_agg's l2: 0.210039 + 0.0337121\n"
     ]
    },
    {
     "name": "stderr",
     "output_type": "stream",
     "text": [
      "feature_fraction_stage2, val_score: 0.201862: 100%|######################################| 6/6 [00:23<00:00,  3.94s/it][I 2023-12-01 17:51:43,639] Trial 42 finished with value: 0.21051118846931427 and parameters: {'feature_fraction': 0.42}. Best is trial 39 with value: 0.20536528811021162.\n",
      "feature_fraction_stage2, val_score: 0.201862: 100%|######################################| 6/6 [00:23<00:00,  3.95s/it]\n"
     ]
    },
    {
     "name": "stdout",
     "output_type": "stream",
     "text": [
      "Early stopping, best iteration is:\n",
      "[252]\tcv_agg's l2: 0.201862 + 0.0377168\n"
     ]
    },
    {
     "name": "stderr",
     "output_type": "stream",
     "text": [
      "regularization_factors, val_score: 0.201862:   0%|                                              | 0/20 [00:00<?, ?it/s]"
     ]
    },
    {
     "name": "stdout",
     "output_type": "stream",
     "text": [
      "[100]\tcv_agg's l2: 0.22553 + 0.046039\n",
      "[200]\tcv_agg's l2: 0.216447 + 0.0447081\n"
     ]
    },
    {
     "name": "stderr",
     "output_type": "stream",
     "text": [
      "regularization_factors, val_score: 0.201862:   5%|#9                                    | 1/20 [00:02<00:51,  2.71s/it][I 2023-12-01 17:51:46,355] Trial 43 finished with value: 0.21595067403878146 and parameters: {'lambda_l1': 4.867487945034608, 'lambda_l2': 3.562103875162404e-07}. Best is trial 43 with value: 0.21595067403878146.\n",
      "regularization_factors, val_score: 0.201862:   5%|#9                                    | 1/20 [00:02<00:51,  2.71s/it]"
     ]
    },
    {
     "name": "stdout",
     "output_type": "stream",
     "text": [
      "[300]\tcv_agg's l2: 0.215872 + 0.0448004\n",
      "Early stopping, best iteration is:\n",
      "[252]\tcv_agg's l2: 0.201862 + 0.0377168\n",
      "[100]\tcv_agg's l2: 0.224978 + 0.0521311\n",
      "[200]\tcv_agg's l2: 0.215332 + 0.0493155\n",
      "[300]\tcv_agg's l2: 0.213682 + 0.0481521\n"
     ]
    },
    {
     "name": "stderr",
     "output_type": "stream",
     "text": [
      "regularization_factors, val_score: 0.201862:  10%|###8                                  | 2/20 [00:06<01:02,  3.45s/it][I 2023-12-01 17:51:50,318] Trial 44 finished with value: 0.21407924235687795 and parameters: {'lambda_l1': 4.673781921258266e-08, 'lambda_l2': 8.292229450143733}. Best is trial 44 with value: 0.21407924235687795.\n",
      "regularization_factors, val_score: 0.201862:  10%|###8                                  | 2/20 [00:06<01:02,  3.45s/it]"
     ]
    },
    {
     "name": "stdout",
     "output_type": "stream",
     "text": [
      "Early stopping, best iteration is:\n",
      "[252]\tcv_agg's l2: 0.201862 + 0.0377168\n",
      "[100]\tcv_agg's l2: 0.208167 + 0.0403794\n",
      "[200]\tcv_agg's l2: 0.202617 + 0.0381169\n",
      "[300]\tcv_agg's l2: 0.20204 + 0.0379832\n"
     ]
    },
    {
     "name": "stderr",
     "output_type": "stream",
     "text": [
      "regularization_factors, val_score: 0.201589:  15%|#####7                                | 3/20 [00:11<01:06,  3.91s/it][I 2023-12-01 17:51:54,786] Trial 45 finished with value: 0.20158937129949678 and parameters: {'lambda_l1': 0.0003014033485717253, 'lambda_l2': 1.7610017179033088e-08}. Best is trial 45 with value: 0.20158937129949678.\n",
      "regularization_factors, val_score: 0.201589:  15%|#####7                                | 3/20 [00:11<01:06,  3.91s/it]"
     ]
    },
    {
     "name": "stdout",
     "output_type": "stream",
     "text": [
      "Early stopping, best iteration is:\n",
      "[282]\tcv_agg's l2: 0.201589 + 0.0378864\n",
      "[100]\tcv_agg's l2: 0.208167 + 0.0403793\n",
      "[200]\tcv_agg's l2: 0.202623 + 0.0381075\n",
      "[300]\tcv_agg's l2: 0.202443 + 0.0372791\n"
     ]
    },
    {
     "name": "stderr",
     "output_type": "stream",
     "text": [
      "regularization_factors, val_score: 0.201589:  20%|#######6                              | 4/20 [00:15<01:06,  4.15s/it][I 2023-12-01 17:51:59,288] Trial 46 finished with value: 0.20210254041697073 and parameters: {'lambda_l1': 0.00016289501482308588, 'lambda_l2': 1.1460617813796272e-08}. Best is trial 45 with value: 0.20158937129949678.\n",
      "regularization_factors, val_score: 0.201589:  20%|#######6                              | 4/20 [00:15<01:06,  4.15s/it]"
     ]
    },
    {
     "name": "stdout",
     "output_type": "stream",
     "text": [
      "Early stopping, best iteration is:\n",
      "[282]\tcv_agg's l2: 0.201589 + 0.0378864\n",
      "[100]\tcv_agg's l2: 0.208167 + 0.0403794\n",
      "[200]\tcv_agg's l2: 0.202617 + 0.0381169\n",
      "[300]\tcv_agg's l2: 0.201768 + 0.0380898\n",
      "[400]\tcv_agg's l2: 0.201327 + 0.0380509\n"
     ]
    },
    {
     "name": "stderr",
     "output_type": "stream",
     "text": [
      "regularization_factors, val_score: 0.201149:  25%|#########5                            | 5/20 [00:21<01:11,  4.78s/it][I 2023-12-01 17:52:05,194] Trial 47 finished with value: 0.2011488629486604 and parameters: {'lambda_l1': 0.00036406929428131255, 'lambda_l2': 1.5252868543224502e-08}. Best is trial 47 with value: 0.2011488629486604.\n",
      "regularization_factors, val_score: 0.201149:  25%|#########5                            | 5/20 [00:21<01:11,  4.78s/it]"
     ]
    },
    {
     "name": "stdout",
     "output_type": "stream",
     "text": [
      "[500]\tcv_agg's l2: 0.201793 + 0.0376485\n",
      "Early stopping, best iteration is:\n",
      "[413]\tcv_agg's l2: 0.201149 + 0.0378171\n",
      "[100]\tcv_agg's l2: 0.208167 + 0.0403795\n",
      "[200]\tcv_agg's l2: 0.202617 + 0.038117\n",
      "[300]\tcv_agg's l2: 0.201768 + 0.0380898\n",
      "[400]\tcv_agg's l2: 0.201327 + 0.0380509\n"
     ]
    },
    {
     "name": "stderr",
     "output_type": "stream",
     "text": [
      "regularization_factors, val_score: 0.201149:  30%|###########4                          | 6/20 [00:27<01:12,  5.16s/it][I 2023-12-01 17:52:11,106] Trial 48 finished with value: 0.20114881494853226 and parameters: {'lambda_l1': 0.0003818099025518663, 'lambda_l2': 1.2658481883707619e-08}. Best is trial 48 with value: 0.20114881494853226.\n",
      "regularization_factors, val_score: 0.201149:  30%|###########4                          | 6/20 [00:27<01:12,  5.16s/it]"
     ]
    },
    {
     "name": "stdout",
     "output_type": "stream",
     "text": [
      "[500]\tcv_agg's l2: 0.201793 + 0.0376485\n",
      "Early stopping, best iteration is:\n",
      "[413]\tcv_agg's l2: 0.201149 + 0.0378171\n",
      "[100]\tcv_agg's l2: 0.208167 + 0.0403794\n",
      "[200]\tcv_agg's l2: 0.202617 + 0.0381169\n",
      "[300]\tcv_agg's l2: 0.20204 + 0.0379832\n",
      "[400]\tcv_agg's l2: 0.20203 + 0.0378119\n"
     ]
    },
    {
     "name": "stderr",
     "output_type": "stream",
     "text": [
      "regularization_factors, val_score: 0.201149:  35%|#############3                        | 7/20 [00:32<01:08,  5.27s/it][I 2023-12-01 17:52:16,600] Trial 49 finished with value: 0.201805514190061 and parameters: {'lambda_l1': 0.00028816134364810487, 'lambda_l2': 1.1707432249024064e-08}. Best is trial 48 with value: 0.20114881494853226.\n",
      "regularization_factors, val_score: 0.201149:  35%|#############3                        | 7/20 [00:32<01:08,  5.27s/it]"
     ]
    },
    {
     "name": "stdout",
     "output_type": "stream",
     "text": [
      "[500]\tcv_agg's l2: 0.202293 + 0.0373412\n",
      "Early stopping, best iteration is:\n",
      "[413]\tcv_agg's l2: 0.201149 + 0.0378171\n",
      "[100]\tcv_agg's l2: 0.208167 + 0.0403793\n",
      "[200]\tcv_agg's l2: 0.202623 + 0.0381075\n",
      "[300]\tcv_agg's l2: 0.202443 + 0.037279\n",
      "[400]\tcv_agg's l2: 0.202954 + 0.0378318\n"
     ]
    },
    {
     "name": "stderr",
     "output_type": "stream",
     "text": [
      "regularization_factors, val_score: 0.201149:  40%|###############2                      | 8/20 [00:38<01:03,  5.28s/it][I 2023-12-01 17:52:21,882] Trial 50 finished with value: 0.20338523118436883 and parameters: {'lambda_l1': 0.0001615155054722221, 'lambda_l2': 1.1232200972198693e-08}. Best is trial 48 with value: 0.20114881494853226.\n",
      "regularization_factors, val_score: 0.201149:  40%|###############2                      | 8/20 [00:38<01:03,  5.28s/it]"
     ]
    },
    {
     "name": "stdout",
     "output_type": "stream",
     "text": [
      "[500]\tcv_agg's l2: 0.203963 + 0.0380097\n",
      "Early stopping, best iteration is:\n",
      "[413]\tcv_agg's l2: 0.201149 + 0.0378171\n",
      "[100]\tcv_agg's l2: 0.208167 + 0.0403795\n",
      "[200]\tcv_agg's l2: 0.202617 + 0.038117\n",
      "[300]\tcv_agg's l2: 0.201768 + 0.0380898\n",
      "[400]\tcv_agg's l2: 0.201327 + 0.0380509\n"
     ]
    },
    {
     "name": "stderr",
     "output_type": "stream",
     "text": [
      "regularization_factors, val_score: 0.201149:  45%|#################1                    | 9/20 [00:43<00:59,  5.41s/it][I 2023-12-01 17:52:27,581] Trial 51 finished with value: 0.20114873217328405 and parameters: {'lambda_l1': 0.0004122543964904844, 'lambda_l2': 1.3107501146820723e-08}. Best is trial 51 with value: 0.20114873217328405.\n",
      "regularization_factors, val_score: 0.201149:  45%|#################1                    | 9/20 [00:43<00:59,  5.41s/it]"
     ]
    },
    {
     "name": "stdout",
     "output_type": "stream",
     "text": [
      "[500]\tcv_agg's l2: 0.201792 + 0.0376485\n",
      "Early stopping, best iteration is:\n",
      "[413]\tcv_agg's l2: 0.201149 + 0.0378172\n",
      "[100]\tcv_agg's l2: 0.208167 + 0.0403795\n",
      "[200]\tcv_agg's l2: 0.202617 + 0.038117\n",
      "[300]\tcv_agg's l2: 0.201774 + 0.0378956\n",
      "[400]\tcv_agg's l2: 0.201728 + 0.0385119\n"
     ]
    },
    {
     "name": "stderr",
     "output_type": "stream",
     "text": [
      "regularization_factors, val_score: 0.201077:  50%|##################5                  | 10/20 [00:49<00:54,  5.50s/it][I 2023-12-01 17:52:33,283] Trial 52 finished with value: 0.2010774338288154 and parameters: {'lambda_l1': 0.0004714984719906017, 'lambda_l2': 1.1589984806906116e-08}. Best is trial 52 with value: 0.2010774338288154.\n",
      "regularization_factors, val_score: 0.201077:  50%|##################5                  | 10/20 [00:49<00:54,  5.50s/it]"
     ]
    },
    {
     "name": "stdout",
     "output_type": "stream",
     "text": [
      "Early stopping, best iteration is:\n",
      "[352]\tcv_agg's l2: 0.201077 + 0.0378885\n",
      "[100]\tcv_agg's l2: 0.208168 + 0.0403796\n",
      "[200]\tcv_agg's l2: 0.202773 + 0.0381412\n",
      "[300]\tcv_agg's l2: 0.202733 + 0.038411\n",
      "[400]\tcv_agg's l2: 0.203051 + 0.038682\n"
     ]
    },
    {
     "name": "stderr",
     "output_type": "stream",
     "text": [
      "regularization_factors, val_score: 0.201077:  55%|####################3                | 11/20 [00:55<00:50,  5.59s/it][I 2023-12-01 17:52:39,075] Trial 53 finished with value: 0.20246269567740077 and parameters: {'lambda_l1': 0.0006686297768019991, 'lambda_l2': 1.0383917774288527e-08}. Best is trial 52 with value: 0.2010774338288154.\n",
      "regularization_factors, val_score: 0.201077:  55%|####################3                | 11/20 [00:55<00:50,  5.59s/it]"
     ]
    },
    {
     "name": "stdout",
     "output_type": "stream",
     "text": [
      "Early stopping, best iteration is:\n",
      "[352]\tcv_agg's l2: 0.201077 + 0.0378885\n",
      "[100]\tcv_agg's l2: 0.208167 + 0.0403794\n",
      "[200]\tcv_agg's l2: 0.202617 + 0.0381169\n",
      "[300]\tcv_agg's l2: 0.20204 + 0.0379832\n",
      "[400]\tcv_agg's l2: 0.20203 + 0.0378119\n"
     ]
    },
    {
     "name": "stderr",
     "output_type": "stream",
     "text": [
      "regularization_factors, val_score: 0.201077:  60%|######################2              | 12/20 [01:00<00:43,  5.48s/it][I 2023-12-01 17:52:44,296] Trial 54 finished with value: 0.20185541513874336 and parameters: {'lambda_l1': 0.00030368447135441863, 'lambda_l2': 1.0726344267770031e-08}. Best is trial 52 with value: 0.2010774338288154.\n",
      "regularization_factors, val_score: 0.201077:  60%|######################2              | 12/20 [01:00<00:43,  5.48s/it]"
     ]
    },
    {
     "name": "stdout",
     "output_type": "stream",
     "text": [
      "Early stopping, best iteration is:\n",
      "[352]\tcv_agg's l2: 0.201077 + 0.0378885\n",
      "[100]\tcv_agg's l2: 0.208167 + 0.0403795\n",
      "[200]\tcv_agg's l2: 0.202617 + 0.038117\n",
      "[300]\tcv_agg's l2: 0.201768 + 0.0380898\n",
      "[400]\tcv_agg's l2: 0.201327 + 0.0380509\n"
     ]
    },
    {
     "name": "stderr",
     "output_type": "stream",
     "text": [
      "regularization_factors, val_score: 0.201077:  65%|########################             | 13/20 [01:07<00:42,  6.02s/it][I 2023-12-01 17:52:51,585] Trial 55 finished with value: 0.20127440273479436 and parameters: {'lambda_l1': 0.00041192785499871644, 'lambda_l2': 1.648268759150068e-08}. Best is trial 52 with value: 0.2010774338288154.\n",
      "regularization_factors, val_score: 0.201077:  65%|########################             | 13/20 [01:07<00:42,  6.02s/it]"
     ]
    },
    {
     "name": "stdout",
     "output_type": "stream",
     "text": [
      "Early stopping, best iteration is:\n",
      "[352]\tcv_agg's l2: 0.201077 + 0.0378885\n",
      "[100]\tcv_agg's l2: 0.208598 + 0.0401588\n",
      "[200]\tcv_agg's l2: 0.202951 + 0.0380641\n",
      "[300]\tcv_agg's l2: 0.20358 + 0.0383863\n",
      "[400]\tcv_agg's l2: 0.203568 + 0.0388049\n"
     ]
    },
    {
     "name": "stderr",
     "output_type": "stream",
     "text": [
      "regularization_factors, val_score: 0.201077:  70%|#########################9           | 14/20 [01:14<00:36,  6.14s/it][I 2023-12-01 17:52:57,993] Trial 56 finished with value: 0.2035065657797695 and parameters: {'lambda_l1': 0.0007670766365278106, 'lambda_l2': 2.514155312049428e-07}. Best is trial 52 with value: 0.2010774338288154.\n",
      "regularization_factors, val_score: 0.201077:  70%|#########################9           | 14/20 [01:14<00:36,  6.14s/it]"
     ]
    },
    {
     "name": "stdout",
     "output_type": "stream",
     "text": [
      "Early stopping, best iteration is:\n",
      "[352]\tcv_agg's l2: 0.201077 + 0.0378885\n",
      "[100]\tcv_agg's l2: 0.208167 + 0.0403795\n",
      "[200]\tcv_agg's l2: 0.202617 + 0.038117\n",
      "[300]\tcv_agg's l2: 0.201774 + 0.0378956\n",
      "[400]\tcv_agg's l2: 0.201728 + 0.0385119\n"
     ]
    },
    {
     "name": "stderr",
     "output_type": "stream",
     "text": [
      "regularization_factors, val_score: 0.201077:  75%|###########################7         | 15/20 [01:19<00:29,  5.91s/it][I 2023-12-01 17:53:03,353] Trial 57 finished with value: 0.2010774379387096 and parameters: {'lambda_l1': 0.0004697093246712161, 'lambda_l2': 2.1894276323960867e-07}. Best is trial 52 with value: 0.2010774338288154.\n",
      "regularization_factors, val_score: 0.201077:  75%|###########################7         | 15/20 [01:19<00:29,  5.91s/it]"
     ]
    },
    {
     "name": "stdout",
     "output_type": "stream",
     "text": [
      "Early stopping, best iteration is:\n",
      "[352]\tcv_agg's l2: 0.201077 + 0.0378885\n",
      "[100]\tcv_agg's l2: 0.210727 + 0.0406328\n",
      "[200]\tcv_agg's l2: 0.206028 + 0.0391398\n",
      "[300]\tcv_agg's l2: 0.204551 + 0.0390418\n",
      "[400]\tcv_agg's l2: 0.204419 + 0.0387982\n"
     ]
    },
    {
     "name": "stderr",
     "output_type": "stream",
     "text": [
      "regularization_factors, val_score: 0.201077:  80%|#############################6       | 16/20 [01:25<00:23,  5.81s/it][I 2023-12-01 17:53:08,932] Trial 58 finished with value: 0.20427794891595547 and parameters: {'lambda_l1': 0.0018519983611204687, 'lambda_l2': 4.584366536521895e-07}. Best is trial 52 with value: 0.2010774338288154.\n",
      "regularization_factors, val_score: 0.201077:  80%|#############################6       | 16/20 [01:25<00:23,  5.81s/it]"
     ]
    },
    {
     "name": "stdout",
     "output_type": "stream",
     "text": [
      "Early stopping, best iteration is:\n",
      "[352]\tcv_agg's l2: 0.201077 + 0.0378885\n",
      "[100]\tcv_agg's l2: 0.20997 + 0.0414911\n",
      "[200]\tcv_agg's l2: 0.20547 + 0.04171\n",
      "[300]\tcv_agg's l2: 0.204372 + 0.041355\n",
      "[400]\tcv_agg's l2: 0.203785 + 0.0415882\n"
     ]
    },
    {
     "name": "stderr",
     "output_type": "stream",
     "text": [
      "regularization_factors, val_score: 0.201077:  85%|###############################4     | 17/20 [01:30<00:16,  5.52s/it][I 2023-12-01 17:53:13,769] Trial 59 finished with value: 0.20374914680970982 and parameters: {'lambda_l1': 0.002407196635182132, 'lambda_l2': 2.560342310462345e-07}. Best is trial 52 with value: 0.2010774338288154.\n",
      "regularization_factors, val_score: 0.201077:  85%|###############################4     | 17/20 [01:30<00:16,  5.52s/it]"
     ]
    },
    {
     "name": "stdout",
     "output_type": "stream",
     "text": [
      "Early stopping, best iteration is:\n",
      "[352]\tcv_agg's l2: 0.201077 + 0.0378885\n",
      "[100]\tcv_agg's l2: 0.208167 + 0.0403792\n",
      "[200]\tcv_agg's l2: 0.203533 + 0.0380915\n",
      "[300]\tcv_agg's l2: 0.202927 + 0.0372141\n",
      "[400]\tcv_agg's l2: 0.203535 + 0.0377145\n"
     ]
    },
    {
     "name": "stderr",
     "output_type": "stream",
     "text": [
      "regularization_factors, val_score: 0.201077:  90%|#################################3   | 18/20 [01:35<00:10,  5.49s/it][I 2023-12-01 17:53:19,202] Trial 60 finished with value: 0.20322540091309174 and parameters: {'lambda_l1': 3.861612069264432e-05, 'lambda_l2': 1.249983805451959e-07}. Best is trial 52 with value: 0.2010774338288154.\n",
      "regularization_factors, val_score: 0.201077:  90%|#################################3   | 18/20 [01:35<00:10,  5.49s/it]"
     ]
    },
    {
     "name": "stdout",
     "output_type": "stream",
     "text": [
      "Early stopping, best iteration is:\n",
      "[352]\tcv_agg's l2: 0.201077 + 0.0378885\n",
      "[100]\tcv_agg's l2: 0.210848 + 0.0407453\n",
      "[200]\tcv_agg's l2: 0.20527 + 0.038328\n",
      "[300]\tcv_agg's l2: 0.20332 + 0.0375972\n",
      "[400]\tcv_agg's l2: 0.203274 + 0.0372886\n"
     ]
    },
    {
     "name": "stderr",
     "output_type": "stream",
     "text": [
      "regularization_factors, val_score: 0.201077:  95%|###################################1 | 19/20 [01:40<00:05,  5.34s/it][I 2023-12-01 17:53:24,189] Trial 61 finished with value: 0.2032577457573883 and parameters: {'lambda_l1': 0.0016345005229251657, 'lambda_l2': 1.116927779189468e-08}. Best is trial 52 with value: 0.2010774338288154.\n",
      "regularization_factors, val_score: 0.201077:  95%|###################################1 | 19/20 [01:40<00:05,  5.34s/it]"
     ]
    },
    {
     "name": "stdout",
     "output_type": "stream",
     "text": [
      "Early stopping, best iteration is:\n",
      "[352]\tcv_agg's l2: 0.201077 + 0.0378885\n",
      "[100]\tcv_agg's l2: 0.208167 + 0.0403792\n",
      "[200]\tcv_agg's l2: 0.203278 + 0.0378485\n",
      "[300]\tcv_agg's l2: 0.202914 + 0.0371158\n",
      "[400]\tcv_agg's l2: 0.203431 + 0.0379214\n"
     ]
    },
    {
     "name": "stderr",
     "output_type": "stream",
     "text": [
      "regularization_factors, val_score: 0.201077: 100%|#####################################| 20/20 [01:45<00:00,  5.22s/it][I 2023-12-01 17:53:29,134] Trial 62 finished with value: 0.20293101490603246 and parameters: {'lambda_l1': 5.150028774672683e-05, 'lambda_l2': 7.544149500132388e-08}. Best is trial 52 with value: 0.2010774338288154.\n",
      "regularization_factors, val_score: 0.201077: 100%|#####################################| 20/20 [01:45<00:00,  5.27s/it]\n"
     ]
    },
    {
     "name": "stdout",
     "output_type": "stream",
     "text": [
      "Early stopping, best iteration is:\n",
      "[352]\tcv_agg's l2: 0.201077 + 0.0378885\n"
     ]
    },
    {
     "name": "stderr",
     "output_type": "stream",
     "text": [
      "min_data_in_leaf, val_score: 0.201077:   0%|                                                     | 0/5 [00:00<?, ?it/s]"
     ]
    },
    {
     "name": "stdout",
     "output_type": "stream",
     "text": [
      "[100]\tcv_agg's l2: 0.208311 + 0.0435424\n",
      "[200]\tcv_agg's l2: 0.203611 + 0.0439657\n",
      "[300]\tcv_agg's l2: 0.202436 + 0.0427755\n",
      "[400]\tcv_agg's l2: 0.202259 + 0.0424973\n"
     ]
    },
    {
     "name": "stderr",
     "output_type": "stream",
     "text": [
      "min_data_in_leaf, val_score: 0.201077:  20%|#########                                    | 1/5 [00:04<00:19,  4.92s/it][I 2023-12-01 17:53:34,059] Trial 63 finished with value: 0.20238713891888332 and parameters: {'min_child_samples': 10}. Best is trial 63 with value: 0.20238713891888332.\n",
      "min_data_in_leaf, val_score: 0.201077:  20%|#########                                    | 1/5 [00:04<00:19,  4.92s/it]"
     ]
    },
    {
     "name": "stdout",
     "output_type": "stream",
     "text": [
      "Early stopping, best iteration is:\n",
      "[352]\tcv_agg's l2: 0.201077 + 0.0378885\n",
      "[100]\tcv_agg's l2: 0.213906 + 0.0429891\n",
      "[200]\tcv_agg's l2: 0.208216 + 0.0413484\n",
      "[300]\tcv_agg's l2: 0.207568 + 0.0405278\n",
      "[400]\tcv_agg's l2: 0.208186 + 0.0408695\n"
     ]
    },
    {
     "name": "stderr",
     "output_type": "stream",
     "text": [
      "min_data_in_leaf, val_score: 0.201077:  40%|##################                           | 2/5 [00:10<00:15,  5.08s/it][I 2023-12-01 17:53:39,247] Trial 64 finished with value: 0.20810173319412034 and parameters: {'min_child_samples': 25}. Best is trial 63 with value: 0.20238713891888332.\n",
      "min_data_in_leaf, val_score: 0.201077:  40%|##################                           | 2/5 [00:10<00:15,  5.08s/it]"
     ]
    },
    {
     "name": "stdout",
     "output_type": "stream",
     "text": [
      "Early stopping, best iteration is:\n",
      "[352]\tcv_agg's l2: 0.201077 + 0.0378885\n",
      "[100]\tcv_agg's l2: 0.223016 + 0.0426248\n",
      "[200]\tcv_agg's l2: 0.214147 + 0.0392129\n",
      "[300]\tcv_agg's l2: 0.212301 + 0.0370328\n",
      "[400]\tcv_agg's l2: 0.211766 + 0.0362942\n"
     ]
    },
    {
     "name": "stderr",
     "output_type": "stream",
     "text": [
      "min_data_in_leaf, val_score: 0.201077:  60%|###########################                  | 3/5 [00:14<00:09,  4.95s/it][I 2023-12-01 17:53:44,043] Trial 65 finished with value: 0.21208641177468687 and parameters: {'min_child_samples': 50}. Best is trial 63 with value: 0.20238713891888332.\n",
      "min_data_in_leaf, val_score: 0.201077:  60%|###########################                  | 3/5 [00:14<00:09,  4.95s/it]"
     ]
    },
    {
     "name": "stdout",
     "output_type": "stream",
     "text": [
      "Early stopping, best iteration is:\n",
      "[352]\tcv_agg's l2: 0.201077 + 0.0378885\n",
      "[100]\tcv_agg's l2: 0.2618 + 0.0453859\n",
      "[200]\tcv_agg's l2: 0.244592 + 0.0442247\n",
      "[300]\tcv_agg's l2: 0.237395 + 0.043465\n",
      "[400]\tcv_agg's l2: 0.233363 + 0.042339\n"
     ]
    },
    {
     "name": "stderr",
     "output_type": "stream",
     "text": [
      "min_data_in_leaf, val_score: 0.201077:  80%|####################################         | 4/5 [00:18<00:04,  4.46s/it][I 2023-12-01 17:53:47,748] Trial 66 finished with value: 0.2346581868116811 and parameters: {'min_child_samples': 100}. Best is trial 63 with value: 0.20238713891888332.\n",
      "min_data_in_leaf, val_score: 0.201077:  80%|####################################         | 4/5 [00:18<00:04,  4.46s/it]"
     ]
    },
    {
     "name": "stdout",
     "output_type": "stream",
     "text": [
      "Early stopping, best iteration is:\n",
      "[352]\tcv_agg's l2: 0.201077 + 0.0378885\n",
      "[100]\tcv_agg's l2: 0.205974 + 0.0442674\n",
      "[200]\tcv_agg's l2: 0.199297 + 0.0421398\n",
      "[300]\tcv_agg's l2: 0.197684 + 0.0413629\n",
      "[400]\tcv_agg's l2: 0.197456 + 0.0413216\n"
     ]
    },
    {
     "name": "stderr",
     "output_type": "stream",
     "text": [
      "min_data_in_leaf, val_score: 0.197372: 100%|#############################################| 5/5 [00:24<00:00,  4.84s/it][I 2023-12-01 17:53:53,275] Trial 67 finished with value: 0.1973721023700303 and parameters: {'min_child_samples': 5}. Best is trial 67 with value: 0.1973721023700303.\n",
      "min_data_in_leaf, val_score: 0.197372: 100%|#############################################| 5/5 [00:24<00:00,  4.83s/it]"
     ]
    },
    {
     "name": "stdout",
     "output_type": "stream",
     "text": [
      "[500]\tcv_agg's l2: 0.19766 + 0.0411044\n",
      "Early stopping, best iteration is:\n",
      "[407]\tcv_agg's l2: 0.197372 + 0.0412579\n"
     ]
    },
    {
     "name": "stderr",
     "output_type": "stream",
     "text": [
      "\n"
     ]
    }
   ],
   "source": [
    "import optuna.integration.lightgbm as lgb\n",
    "from lightgbm import early_stopping\n",
    "from sklearn.model_selection import KFold\n",
    "from sklearn.model_selection import RepeatedKFold\n",
    "\n",
    "\n",
    "lgb_train = lgb.Dataset(X_train_random_split, y_train_random_split)\n",
    "\n",
    "params = {\n",
    "    \"boosting_type\": \"gbdt\",\n",
    "    \"objective\": \"regression\",\n",
    "    \"metric\": \"l2\",\n",
    "    \"verbosity\": -1,\n",
    "}\n",
    "\n",
    "tuner = lgb.LightGBMTunerCV(\n",
    "    params,\n",
    "    lgb_train,\n",
    "    folds=KFold(n_splits=5),\n",
    "    num_boost_round=10000,\n",
    "    callbacks=[early_stopping(100), log_evaluation(100)],\n",
    ")\n",
    "\n",
    "tuner.run()"
   ]
  },
  {
   "cell_type": "code",
   "execution_count": 39,
   "id": "175988ae",
   "metadata": {},
   "outputs": [
    {
     "name": "stdout",
     "output_type": "stream",
     "text": [
      "Best score: 0.1973721023700303\n",
      "Params: \n",
      "    boosting_type: gbdt\n",
      "    objective: regression\n",
      "    metric: l2\n",
      "    verbosity: -1\n",
      "    feature_pre_filter: False\n",
      "    lambda_l1: 0.0004714984719906017\n",
      "    lambda_l2: 1.1589984806906116e-08\n",
      "    num_leaves: 23\n",
      "    feature_fraction: 0.5\n",
      "    bagging_fraction: 1.0\n",
      "    bagging_freq: 0\n",
      "    min_child_samples: 5\n"
     ]
    }
   ],
   "source": [
    "print(f\"Best score: {tuner.best_score}\")\n",
    "best_params = tuner.best_params\n",
    "print(\"Params: \")\n",
    "for key, value in best_params.items():\n",
    "    print(\"    {}: {}\".format(key, value))"
   ]
  },
  {
   "cell_type": "code",
   "execution_count": 40,
   "id": "b8e0ae76",
   "metadata": {},
   "outputs": [],
   "source": [
    "import lightgbm as lgb\n",
    "\n",
    "lgb_tuned = lgb.train(\n",
    "    best_params,\n",
    "    lgb_train,\n",
    "    num_boost_round=10000,\n",
    ")"
   ]
  },
  {
   "cell_type": "code",
   "execution_count": 41,
   "id": "ab41f140",
   "metadata": {},
   "outputs": [
    {
     "name": "stdout",
     "output_type": "stream",
     "text": [
      "RMSE train: 0.02\n",
      "RMSE test: 0.35\n",
      "MAE test: 0.24\n",
      "\n"
     ]
    }
   ],
   "source": [
    "rmse, mae = assess_regression_model(\n",
    "    lgb_tuned,\n",
    "    X_train_random_split,\n",
    "    X_test_random_split,\n",
    "    y_train_random_split,\n",
    "    y_test_random_split,\n",
    ")"
   ]
  },
  {
   "cell_type": "code",
   "execution_count": 42,
   "id": "36a7d705",
   "metadata": {},
   "outputs": [],
   "source": [
    "results.loc[3] = [\"random\", \"Optuna\", \"full\", rmse, mae]"
   ]
  },
  {
   "cell_type": "markdown",
   "id": "baffe730",
   "metadata": {},
   "source": [
    "###### MAE by level"
   ]
  },
  {
   "cell_type": "code",
   "execution_count": 43,
   "id": "4206dff5",
   "metadata": {},
   "outputs": [
    {
     "data": {
      "image/png": "[encoded data removed]",
      "text/plain": [
       "<Figure size 1440x576 with 1 Axes>"
      ]
     },
     "metadata": {
      "needs_background": "light"
     },
     "output_type": "display_data"
    }
   ],
   "source": [
    "plot_mae_by_level(\n",
    "    y_test_random_split,\n",
    "    y_pred_test,\n",
    "    title=\"MAE by level for tuned LightGBM with full features and random split\",\n",
    "    export=True,\n",
    ")"
   ]
  },
  {
   "cell_type": "code",
   "execution_count": 44,
   "id": "502bdb9c",
   "metadata": {
    "scrolled": true
   },
   "outputs": [
    {
     "name": "stdout",
     "output_type": "stream",
     "text": [
      "Default:\n",
      "RMSE: 0.19\n",
      "\n",
      "Round type: 0.5\n",
      "RMSE: 0.20\n",
      "\n",
      "Round type: 0.33\n",
      "RMSE: 0.22\n",
      "\n",
      "Round type: 0.45\n",
      "RMSE: 0.20\n",
      "\n"
     ]
    }
   ],
   "source": [
    "predict = lgb_tuned.predict(X_test)\n",
    "evaluate_round_predictions([0.5, 0.33, 0.45], y_test, predict)"
   ]
  },
  {
   "cell_type": "code",
   "execution_count": 45,
   "id": "838ef017",
   "metadata": {},
   "outputs": [],
   "source": [
    "predict[predict < -1] = -1\n",
    "predict[predict > 21] = 21"
   ]
  },
  {
   "cell_type": "code",
   "execution_count": 46,
   "id": "378511d8",
   "metadata": {},
   "outputs": [
    {
     "data": {
      "image/png": "[encoded data removed]",
      "text/plain": [
       "<Figure size 720x720 with 2 Axes>"
      ]
     },
     "metadata": {
      "needs_background": "light"
     },
     "output_type": "display_data"
    }
   ],
   "source": [
    "plot_confusion_matrix(\n",
    "    predict,\n",
    "    y_test,\n",
    "    title=\"Confusion matrix for tuned LightGBM with\\nfull features and random split\",\n",
    "    export=True,\n",
    ")"
   ]
  },
  {
   "cell_type": "markdown",
   "id": "8d3e9b83",
   "metadata": {},
   "source": [
    "### Best features"
   ]
  },
  {
   "cell_type": "code",
   "execution_count": 47,
   "id": "a423e411",
   "metadata": {},
   "outputs": [
    {
     "data": {
      "image/png": "[encoded data removed]",
      "text/plain": [
       "<Figure size 576x576 with 1 Axes>"
      ]
     },
     "metadata": {
      "needs_background": "light"
     },
     "output_type": "display_data"
    }
   ],
   "source": [
    "lgb_importances = lgb_tuned.feature_importance(importance_type=\"gain\")\n",
    "lgb_importances = (lgb_importances / lgb_importances.sum()) * 100\n",
    "feature_names = lgb_tuned.feature_name()\n",
    "\n",
    "\n",
    "data = list(zip(lgb_importances, feature_names))\n",
    "sorted_data = sorted(data, key=lambda x: x[0], reverse=True)\n",
    "lgb_importances, feature_names = zip(*sorted_data)\n",
    "\n",
    "plt.figure(figsize=(8, 8))\n",
    "plt.barh(feature_names, lgb_importances)\n",
    "plt.xlabel(\"Importance [%]\", fontweight=\"bold\", fontsize=15)\n",
    "plt.ylabel(\"Features\", fontweight=\"bold\", fontsize=15)\n",
    "plt.title(\"Best features\", fontweight=\"bold\", fontsize=20)\n",
    "plt.tight_layout()\n",
    "\n",
    "plt.show()"
   ]
  },
  {
   "cell_type": "code",
   "execution_count": 48,
   "id": "b6818461",
   "metadata": {},
   "outputs": [
    {
     "data": {
      "image/png": "[encoded data removed]",
      "text/plain": [
       "<Figure size 576x576 with 1 Axes>"
      ]
     },
     "metadata": {
      "needs_background": "light"
     },
     "output_type": "display_data"
    }
   ],
   "source": [
    "top_features = sorted_data[:10]\n",
    "lgb_importances, feature_names = zip(*top_features)\n",
    "\n",
    "lgb_importances = list(lgb_importances)\n",
    "feature_names = list(feature_names)\n",
    "\n",
    "lgb_importances.append(100 - sum(lgb_importances))\n",
    "feature_names.append(\"other\")\n",
    "\n",
    "\n",
    "plt.figure(figsize=(8, 8))\n",
    "bars = plt.barh(feature_names, lgb_importances, label=lgb_importances)\n",
    "for bar in bars:\n",
    "    plt.text(\n",
    "        bar.get_width(),\n",
    "        bar.get_y() + bar.get_height() / 2,\n",
    "        round(bar.get_width(), 2),\n",
    "        ha=\"left\",\n",
    "        va=\"center\",\n",
    "    )\n",
    "\n",
    "\n",
    "plt.xlabel(\"Importance [%]\", fontweight=\"bold\", fontsize=15)\n",
    "plt.ylabel(\"Features\", fontweight=\"bold\", fontsize=15)\n",
    "plt.title(\"Best features\", fontweight=\"bold\", fontsize=20)\n",
    "\n",
    "plt.xlim(0, max(lgb_importances) + 4)\n",
    "\n",
    "plt.tight_layout()\n",
    "plt.savefig(f\"../results_diagrams/other/Best features.svg\")\n",
    "plt.show()"
   ]
  },
  {
   "cell_type": "markdown",
   "id": "cbf21c29",
   "metadata": {},
   "source": [
    "## Summary"
   ]
  },
  {
   "cell_type": "code",
   "execution_count": 49,
   "id": "d065edf6",
   "metadata": {
    "scrolled": false
   },
   "outputs": [
    {
     "data": {
      "text/html": [
       "<div>\n",
       "<style scoped>\n",
       "    .dataframe tbody tr th:only-of-type {\n",
       "        vertical-align: middle;\n",
       "    }\n",
       "\n",
       "    .dataframe tbody tr th {\n",
       "        vertical-align: top;\n",
       "    }\n",
       "\n",
       "    .dataframe thead th {\n",
       "        text-align: right;\n",
       "    }\n",
       "</style>\n",
       "<table border=\"1\" class=\"dataframe\">\n",
       "  <thead>\n",
       "    <tr style=\"text-align: right;\">\n",
       "      <th></th>\n",
       "      <th>Split type</th>\n",
       "      <th>Tuning type</th>\n",
       "      <th>Set of features</th>\n",
       "      <th>RMSE</th>\n",
       "      <th>MAE</th>\n",
       "    </tr>\n",
       "  </thead>\n",
       "  <tbody>\n",
       "    <tr>\n",
       "      <th>0</th>\n",
       "      <td>chronological</td>\n",
       "      <td>default</td>\n",
       "      <td>full</td>\n",
       "      <td>0.596520</td>\n",
       "      <td>0.356037</td>\n",
       "    </tr>\n",
       "    <tr>\n",
       "      <th>1</th>\n",
       "      <td>chronological</td>\n",
       "      <td>Optuna</td>\n",
       "      <td>full</td>\n",
       "      <td>0.554453</td>\n",
       "      <td>0.349337</td>\n",
       "    </tr>\n",
       "    <tr>\n",
       "      <th>2</th>\n",
       "      <td>random</td>\n",
       "      <td>default</td>\n",
       "      <td>full</td>\n",
       "      <td>0.379865</td>\n",
       "      <td>0.258236</td>\n",
       "    </tr>\n",
       "    <tr>\n",
       "      <th>3</th>\n",
       "      <td>random</td>\n",
       "      <td>Optuna</td>\n",
       "      <td>full</td>\n",
       "      <td>0.348791</td>\n",
       "      <td>0.236097</td>\n",
       "    </tr>\n",
       "  </tbody>\n",
       "</table>\n",
       "</div>"
      ],
      "text/plain": [
       "      Split type Tuning type Set of features      RMSE       MAE\n",
       "0  chronological     default            full  0.596520  0.356037\n",
       "1  chronological      Optuna            full  0.554453  0.349337\n",
       "2         random     default            full  0.379865  0.258236\n",
       "3         random      Optuna            full  0.348791  0.236097"
      ]
     },
     "execution_count": 49,
     "metadata": {},
     "output_type": "execute_result"
    }
   ],
   "source": [
    "results"
   ]
  },
  {
   "cell_type": "code",
   "execution_count": 50,
   "id": "5ab8f79f",
   "metadata": {},
   "outputs": [],
   "source": [
    "from training.results import plot_summary"
   ]
  },
  {
   "cell_type": "code",
   "execution_count": 51,
   "id": "a642225d",
   "metadata": {},
   "outputs": [
    {
     "data": {
      "image/png": "[encoded data removed]",
      "text/plain": [
       "<Figure size 1440x576 with 1 Axes>"
      ]
     },
     "metadata": {
      "needs_background": "light"
     },
     "output_type": "display_data"
    }
   ],
   "source": [
    "plot_summary(results, \"RMSE\", title=\"RMSE for LightGBM with full features\")"
   ]
  },
  {
   "cell_type": "code",
   "execution_count": 52,
   "id": "07e30e23",
   "metadata": {},
   "outputs": [
    {
     "data": {
      "image/png": "[encoded data removed]",
      "text/plain": [
       "<Figure size 1440x576 with 1 Axes>"
      ]
     },
     "metadata": {
      "needs_background": "light"
     },
     "output_type": "display_data"
    }
   ],
   "source": [
    "plot_summary(results, \"MAE\", title=\"MAE for LightGBM with full features\")"
   ]
  },
  {
   "cell_type": "code",
   "execution_count": 53,
   "id": "ae68a99c",
   "metadata": {},
   "outputs": [],
   "source": [
    "results.to_csv(\"./lightgbm_full_results.csv\")"
   ]
  },
  {
   "cell_type": "code",
   "execution_count": null,
   "id": "745b56ef",
   "metadata": {},
   "outputs": [],
   "source": []
  }
 ],
 "metadata": {
  "kernelspec": {
   "display_name": "Python 3 (ipykernel)",
   "language": "python",
   "name": "python3"
  },
  "language_info": {
   "codemirror_mode": {
    "name": "ipython",
    "version": 3
   },
   "file_extension": ".py",
   "mimetype": "text/x-python",
   "name": "python",
   "nbconvert_exporter": "python",
   "pygments_lexer": "ipython3",
   "version": "3.10.4"
  }
 },
 "nbformat": 4,
 "nbformat_minor": 5
}
