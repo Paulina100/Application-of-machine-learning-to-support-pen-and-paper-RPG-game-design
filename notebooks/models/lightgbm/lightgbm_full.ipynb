{
 "cells": [
  {
   "cell_type": "markdown",
   "id": "f64a671f",
   "metadata": {},
   "source": [
    "# LightGBM\n",
    "### Parameters:\n",
    "System:\n",
    "* **abilities**:\n",
    "    * **cha**\n",
    "    * **con**\n",
    "    * **dex**\n",
    "    * **int**\n",
    "    * **str**\n",
    "    * **wis**\n",
    "* **attributes**\n",
    "    * **hp**\n",
    "    * **ac**\n",
    "    * **perception**\n",
    "    * **speed** (*land speed*)\n",
    "        * **other speeds**: fly, climb, swim\n",
    "    * **num immunities**\n",
    "    * **resistances**: fire, cold, electricity, acid, piercing, slashing, physical, bludgeoning, mental, poison, all-damage\n",
    "    * **weaknesses**: cold-iron, good, fire, cold, area-damage, splash-damage, evil, slashing\n",
    "* **saves**\n",
    "    * **fortitude**\n",
    "    * **reflex**\n",
    "    * **will**\n",
    "* **resources**\n",
    "    * **focus**\n",
    "\n",
    "Items\n",
    "* **items**\n",
    "    * **melee**\n",
    "    * **ranged**\n",
    "    * **spells nr**\n",
    "\n",
    "### Prediction: *level*\n",
    "\n",
    "## Loading data"
   ]
  },
  {
   "cell_type": "code",
   "execution_count": 77,
   "id": "1f2515e7",
   "metadata": {},
   "outputs": [],
   "source": [
    "import numpy as np\n",
    "import pandas as pd\n",
    "import sys\n",
    "\n",
    "import os\n",
    "import pathlib\n",
    "\n",
    "sys.path.append(\"../../..\")\n",
    "from training.creating_dataset import load_and_preprocess_data\n",
    "\n",
    "current_path = os.getcwd()\n",
    "DATASETS_DIR = pathlib.Path(current_path).parent.parent.parent / \"pathfinder_2e_data\"\n",
    "DATASET_FILES = [\n",
    "    \"pathfinder-bestiary.db\",\n",
    "    \"pathfinder-bestiary-2.db\",\n",
    "    \"pathfinder-bestiary-3.db\",\n",
    "]\n",
    "DATASET_PATHS = [f\"{DATASETS_DIR}/{file}\" for file in DATASET_FILES]\n",
    "features = [\n",
    "    \"cha\",\n",
    "    \"con\",\n",
    "    \"dex\",\n",
    "    \"int\",\n",
    "    \"str\",\n",
    "    \"wis\",\n",
    "    \"ac\",\n",
    "    \"hp\",\n",
    "    \"perception\",\n",
    "    \"fortitude\",\n",
    "    \"reflex\",\n",
    "    \"will\",\n",
    "    \"focus\",\n",
    "    \"land_speed\",\n",
    "    \"num_immunities\",\n",
    "    \"fly\",\n",
    "    \"swim\",\n",
    "    \"climb\",\n",
    "    \"fire_resistance\",\n",
    "    \"cold_resistance\",\n",
    "    \"electricity_resistance\",\n",
    "    \"acid_resistance\",\n",
    "    \"piercing_resistance\",\n",
    "    \"slashing_resistance\",\n",
    "    \"physical_resistance\",\n",
    "    \"bludgeoning_resistance\",\n",
    "    \"mental_resistance\",\n",
    "    \"poison_resistance\",\n",
    "    \"all-damage_resistance\",\n",
    "    \"cold-iron_weakness\",\n",
    "    \"good_weakness\",\n",
    "    \"fire_weakness\",\n",
    "    \"cold_weakness\",\n",
    "    \"area-damage_weakness\",\n",
    "    \"splash-damage_weakness\",\n",
    "    \"evil_weakness\",\n",
    "    \"slashing_weakness\",\n",
    "    \"melee\",\n",
    "    \"ranged\",\n",
    "    \"spells\",\n",
    "]\n",
    "\n",
    "df = load_and_preprocess_data(\n",
    "    DATASET_PATHS,\n",
    "    characteristics=features,\n",
    ")"
   ]
  },
  {
   "cell_type": "code",
   "execution_count": 78,
   "id": "b522f880",
   "metadata": {},
   "outputs": [
    {
     "name": "stdout",
     "output_type": "stream",
     "text": [
      "<class 'pandas.core.frame.DataFrame'>\n",
      "Int64Index: 1206 entries, 0 to 1205\n",
      "Data columns (total 52 columns):\n",
      " #   Column                  Non-Null Count  Dtype  \n",
      "---  ------                  --------------  -----  \n",
      " 0   cha                     1206 non-null   int64  \n",
      " 1   perception              1206 non-null   int64  \n",
      " 2   int                     1206 non-null   int64  \n",
      " 3   str                     1206 non-null   int64  \n",
      " 4   wis                     1206 non-null   int64  \n",
      " 5   con                     1206 non-null   int64  \n",
      " 6   reflex                  1206 non-null   int64  \n",
      " 7   ac                      1206 non-null   int64  \n",
      " 8   land_speed              1206 non-null   float64\n",
      " 9   hp                      1206 non-null   int64  \n",
      " 10  book                    1206 non-null   object \n",
      " 11  fortitude               1206 non-null   int64  \n",
      " 12  dex                     1206 non-null   int64  \n",
      " 13  num_immunities          1206 non-null   int64  \n",
      " 14  focus                   1206 non-null   int32  \n",
      " 15  level                   1206 non-null   int64  \n",
      " 16  will                    1206 non-null   int64  \n",
      " 17  acid_resistance         1206 non-null   int64  \n",
      " 18  bludgeoning_resistance  1206 non-null   int64  \n",
      " 19  cold_resistance         1206 non-null   int64  \n",
      " 20  all-damage_resistance   1206 non-null   int64  \n",
      " 21  piercing_resistance     1206 non-null   int64  \n",
      " 22  fire_resistance         1206 non-null   int64  \n",
      " 23  mental_resistance       1206 non-null   int64  \n",
      " 24  electricity_resistance  1206 non-null   int64  \n",
      " 25  slashing_resistance     1206 non-null   int64  \n",
      " 26  physical_resistance     1206 non-null   int64  \n",
      " 27  poison_resistance       1206 non-null   int64  \n",
      " 28  area-damage_weakness    1206 non-null   int64  \n",
      " 29  good_weakness           1206 non-null   int64  \n",
      " 30  evil_weakness           1206 non-null   int64  \n",
      " 31  slashing_weakness       1206 non-null   int64  \n",
      " 32  fire_weakness           1206 non-null   int64  \n",
      " 33  cold_weakness           1206 non-null   int64  \n",
      " 34  splash-damage_weakness  1206 non-null   int64  \n",
      " 35  cold-iron_weakness      1206 non-null   int64  \n",
      " 36  fly                     1206 non-null   int64  \n",
      " 37  swim                    1206 non-null   int64  \n",
      " 38  climb                   1206 non-null   int64  \n",
      " 39  spells_nr_lvl_1         1206 non-null   int64  \n",
      " 40  spells_nr_lvl_2         1206 non-null   int64  \n",
      " 41  spells_nr_lvl_3         1206 non-null   int64  \n",
      " 42  spells_nr_lvl_4         1206 non-null   int64  \n",
      " 43  spells_nr_lvl_5         1206 non-null   int64  \n",
      " 44  spells_nr_lvl_6         1206 non-null   int64  \n",
      " 45  spells_nr_lvl_7         1206 non-null   int64  \n",
      " 46  spells_nr_lvl_8         1206 non-null   int64  \n",
      " 47  spells_nr_lvl_9         1206 non-null   int64  \n",
      " 48  melee_max_bonus         1206 non-null   int64  \n",
      " 49  avg_melee_dmg           1206 non-null   float64\n",
      " 50  ranged_max_bonus        1206 non-null   int64  \n",
      " 51  avg_ranged_dmg          1206 non-null   float64\n",
      "dtypes: float64(3), int32(1), int64(47), object(1)\n",
      "memory usage: 494.6+ KB\n"
     ]
    }
   ],
   "source": [
    "df.info()"
   ]
  },
  {
   "cell_type": "code",
   "execution_count": 79,
   "id": "1b5450d3",
   "metadata": {},
   "outputs": [
    {
     "data": {
      "text/html": [
       "<div>\n",
       "<style scoped>\n",
       "    .dataframe tbody tr th:only-of-type {\n",
       "        vertical-align: middle;\n",
       "    }\n",
       "\n",
       "    .dataframe tbody tr th {\n",
       "        vertical-align: top;\n",
       "    }\n",
       "\n",
       "    .dataframe thead th {\n",
       "        text-align: right;\n",
       "    }\n",
       "</style>\n",
       "<table border=\"1\" class=\"dataframe\">\n",
       "  <thead>\n",
       "    <tr style=\"text-align: right;\">\n",
       "      <th></th>\n",
       "      <th>cha</th>\n",
       "      <th>perception</th>\n",
       "      <th>int</th>\n",
       "      <th>str</th>\n",
       "      <th>wis</th>\n",
       "      <th>con</th>\n",
       "      <th>reflex</th>\n",
       "      <th>ac</th>\n",
       "      <th>land_speed</th>\n",
       "      <th>hp</th>\n",
       "      <th>...</th>\n",
       "      <th>spells_nr_lvl_4</th>\n",
       "      <th>spells_nr_lvl_5</th>\n",
       "      <th>spells_nr_lvl_6</th>\n",
       "      <th>spells_nr_lvl_7</th>\n",
       "      <th>spells_nr_lvl_8</th>\n",
       "      <th>spells_nr_lvl_9</th>\n",
       "      <th>melee_max_bonus</th>\n",
       "      <th>avg_melee_dmg</th>\n",
       "      <th>ranged_max_bonus</th>\n",
       "      <th>avg_ranged_dmg</th>\n",
       "    </tr>\n",
       "  </thead>\n",
       "  <tbody>\n",
       "    <tr>\n",
       "      <th>0</th>\n",
       "      <td>1</td>\n",
       "      <td>20</td>\n",
       "      <td>1</td>\n",
       "      <td>7</td>\n",
       "      <td>2</td>\n",
       "      <td>5</td>\n",
       "      <td>19</td>\n",
       "      <td>29</td>\n",
       "      <td>30.0</td>\n",
       "      <td>215</td>\n",
       "      <td>...</td>\n",
       "      <td>0</td>\n",
       "      <td>0</td>\n",
       "      <td>0</td>\n",
       "      <td>0</td>\n",
       "      <td>0</td>\n",
       "      <td>0</td>\n",
       "      <td>23</td>\n",
       "      <td>22.0</td>\n",
       "      <td>0</td>\n",
       "      <td>0.0</td>\n",
       "    </tr>\n",
       "    <tr>\n",
       "      <th>1</th>\n",
       "      <td>1</td>\n",
       "      <td>16</td>\n",
       "      <td>-4</td>\n",
       "      <td>9</td>\n",
       "      <td>2</td>\n",
       "      <td>5</td>\n",
       "      <td>14</td>\n",
       "      <td>28</td>\n",
       "      <td>35.0</td>\n",
       "      <td>220</td>\n",
       "      <td>...</td>\n",
       "      <td>0</td>\n",
       "      <td>0</td>\n",
       "      <td>0</td>\n",
       "      <td>0</td>\n",
       "      <td>0</td>\n",
       "      <td>0</td>\n",
       "      <td>23</td>\n",
       "      <td>22.0</td>\n",
       "      <td>0</td>\n",
       "      <td>0.0</td>\n",
       "    </tr>\n",
       "    <tr>\n",
       "      <th>2</th>\n",
       "      <td>-2</td>\n",
       "      <td>17</td>\n",
       "      <td>-4</td>\n",
       "      <td>7</td>\n",
       "      <td>3</td>\n",
       "      <td>6</td>\n",
       "      <td>17</td>\n",
       "      <td>25</td>\n",
       "      <td>30.0</td>\n",
       "      <td>175</td>\n",
       "      <td>...</td>\n",
       "      <td>0</td>\n",
       "      <td>0</td>\n",
       "      <td>0</td>\n",
       "      <td>0</td>\n",
       "      <td>0</td>\n",
       "      <td>0</td>\n",
       "      <td>21</td>\n",
       "      <td>16.0</td>\n",
       "      <td>0</td>\n",
       "      <td>0.0</td>\n",
       "    </tr>\n",
       "    <tr>\n",
       "      <th>3</th>\n",
       "      <td>6</td>\n",
       "      <td>30</td>\n",
       "      <td>6</td>\n",
       "      <td>7</td>\n",
       "      <td>5</td>\n",
       "      <td>5</td>\n",
       "      <td>29</td>\n",
       "      <td>41</td>\n",
       "      <td>50.0</td>\n",
       "      <td>315</td>\n",
       "      <td>...</td>\n",
       "      <td>1</td>\n",
       "      <td>0</td>\n",
       "      <td>1</td>\n",
       "      <td>0</td>\n",
       "      <td>0</td>\n",
       "      <td>0</td>\n",
       "      <td>33</td>\n",
       "      <td>31.5</td>\n",
       "      <td>0</td>\n",
       "      <td>0.0</td>\n",
       "    </tr>\n",
       "    <tr>\n",
       "      <th>4</th>\n",
       "      <td>1</td>\n",
       "      <td>6</td>\n",
       "      <td>-1</td>\n",
       "      <td>-5</td>\n",
       "      <td>1</td>\n",
       "      <td>1</td>\n",
       "      <td>10</td>\n",
       "      <td>16</td>\n",
       "      <td>0.0</td>\n",
       "      <td>20</td>\n",
       "      <td>...</td>\n",
       "      <td>1</td>\n",
       "      <td>0</td>\n",
       "      <td>0</td>\n",
       "      <td>0</td>\n",
       "      <td>0</td>\n",
       "      <td>0</td>\n",
       "      <td>0</td>\n",
       "      <td>0.0</td>\n",
       "      <td>8</td>\n",
       "      <td>5.0</td>\n",
       "    </tr>\n",
       "  </tbody>\n",
       "</table>\n",
       "<p>5 rows × 52 columns</p>\n",
       "</div>"
      ],
      "text/plain": [
       "   cha  perception  int  str  wis  con  reflex  ac  land_speed   hp  ...  \\\n",
       "0    1          20    1    7    2    5      19  29        30.0  215  ...   \n",
       "1    1          16   -4    9    2    5      14  28        35.0  220  ...   \n",
       "2   -2          17   -4    7    3    6      17  25        30.0  175  ...   \n",
       "3    6          30    6    7    5    5      29  41        50.0  315  ...   \n",
       "4    1           6   -1   -5    1    1      10  16         0.0   20  ...   \n",
       "\n",
       "  spells_nr_lvl_4  spells_nr_lvl_5  spells_nr_lvl_6  spells_nr_lvl_7  \\\n",
       "0               0                0                0                0   \n",
       "1               0                0                0                0   \n",
       "2               0                0                0                0   \n",
       "3               1                0                1                0   \n",
       "4               1                0                0                0   \n",
       "\n",
       "   spells_nr_lvl_8  spells_nr_lvl_9  melee_max_bonus  avg_melee_dmg  \\\n",
       "0                0                0               23           22.0   \n",
       "1                0                0               23           22.0   \n",
       "2                0                0               21           16.0   \n",
       "3                0                0               33           31.5   \n",
       "4                0                0                0            0.0   \n",
       "\n",
       "   ranged_max_bonus  avg_ranged_dmg  \n",
       "0                 0             0.0  \n",
       "1                 0             0.0  \n",
       "2                 0             0.0  \n",
       "3                 0             0.0  \n",
       "4                 8             5.0  \n",
       "\n",
       "[5 rows x 52 columns]"
      ]
     },
     "execution_count": 79,
     "metadata": {},
     "output_type": "execute_result"
    }
   ],
   "source": [
    "df.head()"
   ]
  },
  {
   "cell_type": "markdown",
   "id": "0caa661f",
   "metadata": {},
   "source": [
    "###### Level"
   ]
  },
  {
   "cell_type": "code",
   "execution_count": 80,
   "id": "c200d2b4",
   "metadata": {},
   "outputs": [
    {
     "data": {
      "text/plain": [
       "0       10\n",
       "1       10\n",
       "2        8\n",
       "3       17\n",
       "4        1\n",
       "        ..\n",
       "1201    20\n",
       "1202    -1\n",
       "1203    12\n",
       "1204     6\n",
       "1205     6\n",
       "Name: level, Length: 1206, dtype: int64"
      ]
     },
     "execution_count": 80,
     "metadata": {},
     "output_type": "execute_result"
    }
   ],
   "source": [
    "y = df[\"level\"]\n",
    "y"
   ]
  },
  {
   "cell_type": "code",
   "execution_count": 81,
   "id": "553822a7",
   "metadata": {},
   "outputs": [],
   "source": [
    "from collections import defaultdict\n",
    "\n",
    "\n",
    "lvl_stat = defaultdict(lambda: 0)\n",
    "\n",
    "for lvl in y:\n",
    "    lvl_stat[lvl] += 1"
   ]
  },
  {
   "cell_type": "code",
   "execution_count": 82,
   "id": "e45d6c29",
   "metadata": {},
   "outputs": [
    {
     "data": {
      "text/html": [
       "<div>\n",
       "<style scoped>\n",
       "    .dataframe tbody tr th:only-of-type {\n",
       "        vertical-align: middle;\n",
       "    }\n",
       "\n",
       "    .dataframe tbody tr th {\n",
       "        vertical-align: top;\n",
       "    }\n",
       "\n",
       "    .dataframe thead th {\n",
       "        text-align: right;\n",
       "    }\n",
       "</style>\n",
       "<table border=\"1\" class=\"dataframe\">\n",
       "  <thead>\n",
       "    <tr style=\"text-align: right;\">\n",
       "      <th></th>\n",
       "      <th>lvl</th>\n",
       "      <th>count</th>\n",
       "    </tr>\n",
       "  </thead>\n",
       "  <tbody>\n",
       "    <tr>\n",
       "      <th>0</th>\n",
       "      <td>-1</td>\n",
       "      <td>34</td>\n",
       "    </tr>\n",
       "    <tr>\n",
       "      <th>1</th>\n",
       "      <td>0</td>\n",
       "      <td>27</td>\n",
       "    </tr>\n",
       "    <tr>\n",
       "      <th>2</th>\n",
       "      <td>1</td>\n",
       "      <td>127</td>\n",
       "    </tr>\n",
       "    <tr>\n",
       "      <th>3</th>\n",
       "      <td>2</td>\n",
       "      <td>121</td>\n",
       "    </tr>\n",
       "    <tr>\n",
       "      <th>4</th>\n",
       "      <td>3</td>\n",
       "      <td>95</td>\n",
       "    </tr>\n",
       "    <tr>\n",
       "      <th>5</th>\n",
       "      <td>4</td>\n",
       "      <td>82</td>\n",
       "    </tr>\n",
       "    <tr>\n",
       "      <th>6</th>\n",
       "      <td>5</td>\n",
       "      <td>76</td>\n",
       "    </tr>\n",
       "    <tr>\n",
       "      <th>7</th>\n",
       "      <td>6</td>\n",
       "      <td>72</td>\n",
       "    </tr>\n",
       "    <tr>\n",
       "      <th>8</th>\n",
       "      <td>7</td>\n",
       "      <td>77</td>\n",
       "    </tr>\n",
       "    <tr>\n",
       "      <th>9</th>\n",
       "      <td>8</td>\n",
       "      <td>68</td>\n",
       "    </tr>\n",
       "    <tr>\n",
       "      <th>10</th>\n",
       "      <td>9</td>\n",
       "      <td>63</td>\n",
       "    </tr>\n",
       "    <tr>\n",
       "      <th>11</th>\n",
       "      <td>10</td>\n",
       "      <td>58</td>\n",
       "    </tr>\n",
       "    <tr>\n",
       "      <th>12</th>\n",
       "      <td>11</td>\n",
       "      <td>40</td>\n",
       "    </tr>\n",
       "    <tr>\n",
       "      <th>13</th>\n",
       "      <td>12</td>\n",
       "      <td>41</td>\n",
       "    </tr>\n",
       "    <tr>\n",
       "      <th>14</th>\n",
       "      <td>13</td>\n",
       "      <td>36</td>\n",
       "    </tr>\n",
       "    <tr>\n",
       "      <th>15</th>\n",
       "      <td>14</td>\n",
       "      <td>33</td>\n",
       "    </tr>\n",
       "    <tr>\n",
       "      <th>16</th>\n",
       "      <td>15</td>\n",
       "      <td>31</td>\n",
       "    </tr>\n",
       "    <tr>\n",
       "      <th>17</th>\n",
       "      <td>16</td>\n",
       "      <td>25</td>\n",
       "    </tr>\n",
       "    <tr>\n",
       "      <th>18</th>\n",
       "      <td>17</td>\n",
       "      <td>21</td>\n",
       "    </tr>\n",
       "    <tr>\n",
       "      <th>19</th>\n",
       "      <td>18</td>\n",
       "      <td>21</td>\n",
       "    </tr>\n",
       "    <tr>\n",
       "      <th>20</th>\n",
       "      <td>19</td>\n",
       "      <td>18</td>\n",
       "    </tr>\n",
       "    <tr>\n",
       "      <th>21</th>\n",
       "      <td>20</td>\n",
       "      <td>24</td>\n",
       "    </tr>\n",
       "    <tr>\n",
       "      <th>22</th>\n",
       "      <td>21</td>\n",
       "      <td>16</td>\n",
       "    </tr>\n",
       "  </tbody>\n",
       "</table>\n",
       "</div>"
      ],
      "text/plain": [
       "    lvl  count\n",
       "0    -1     34\n",
       "1     0     27\n",
       "2     1    127\n",
       "3     2    121\n",
       "4     3     95\n",
       "5     4     82\n",
       "6     5     76\n",
       "7     6     72\n",
       "8     7     77\n",
       "9     8     68\n",
       "10    9     63\n",
       "11   10     58\n",
       "12   11     40\n",
       "13   12     41\n",
       "14   13     36\n",
       "15   14     33\n",
       "16   15     31\n",
       "17   16     25\n",
       "18   17     21\n",
       "19   18     21\n",
       "20   19     18\n",
       "21   20     24\n",
       "22   21     16"
      ]
     },
     "execution_count": 82,
     "metadata": {},
     "output_type": "execute_result"
    }
   ],
   "source": [
    "level_count = pd.DataFrame(\n",
    "    data={\n",
    "        \"lvl\": [key for key in sorted(lvl_stat.keys())],\n",
    "        \"count\": [lvl_stat.get(key) for key in sorted(lvl_stat.keys())],\n",
    "    }\n",
    ")\n",
    "level_count"
   ]
  },
  {
   "cell_type": "code",
   "execution_count": 83,
   "id": "bdbfe8de",
   "metadata": {},
   "outputs": [
    {
     "data": {
      "image/png": "[encoded data removed]",
      "text/plain": [
       "<Figure size 432x288 with 1 Axes>"
      ]
     },
     "metadata": {
      "needs_background": "light"
     },
     "output_type": "display_data"
    }
   ],
   "source": [
    "import matplotlib.pyplot as plt\n",
    "\n",
    "\n",
    "level_count.plot.bar(x=\"lvl\", y=\"count\", title=\"Count of levels\")\n",
    "\n",
    "plt.savefig(f\"../results_diagrams/other/Count of levels.svg\")\n",
    "\n",
    "plt.show()"
   ]
  },
  {
   "cell_type": "markdown",
   "id": "9fdb6541",
   "metadata": {},
   "source": [
    "## Train test split"
   ]
  },
  {
   "cell_type": "markdown",
   "id": "18f56629",
   "metadata": {},
   "source": [
    "### Chronological split"
   ]
  },
  {
   "cell_type": "code",
   "execution_count": 84,
   "id": "dcda359b",
   "metadata": {},
   "outputs": [],
   "source": [
    "from training.splitting_dataset import split_dataframe\n",
    "\n",
    "\n",
    "os.chdir(\"../../../training\")\n",
    "X_train, X_test, y_train, y_test = split_dataframe(df, test_size=0.31)\n",
    "os.chdir(\"../notebooks/models/lightgbm\")"
   ]
  },
  {
   "cell_type": "code",
   "execution_count": 85,
   "id": "17dbc875",
   "metadata": {},
   "outputs": [],
   "source": [
    "X_train = X_train.drop(columns=[\"book\"])\n",
    "X_test = X_test.drop(columns=[\"book\"])"
   ]
  },
  {
   "cell_type": "markdown",
   "id": "25879636",
   "metadata": {},
   "source": [
    "### Random split"
   ]
  },
  {
   "cell_type": "code",
   "execution_count": 86,
   "id": "982ec5eb",
   "metadata": {},
   "outputs": [],
   "source": [
    "(\n",
    "    X_train_random_split,\n",
    "    X_test_random_split,\n",
    "    y_train_random_split,\n",
    "    y_test_random_split,\n",
    ") = split_dataframe(df, chronological_split=False)"
   ]
  },
  {
   "cell_type": "code",
   "execution_count": 87,
   "id": "90569e78",
   "metadata": {},
   "outputs": [],
   "source": [
    "X_train_random_split = X_train_random_split.drop(columns=[\"book\"])\n",
    "X_test_random_split = X_test_random_split.drop(columns=[\"book\"])"
   ]
  },
  {
   "cell_type": "markdown",
   "id": "9b259fbf",
   "metadata": {},
   "source": [
    "## LightGBM"
   ]
  },
  {
   "cell_type": "markdown",
   "id": "14f37d9b",
   "metadata": {},
   "source": [
    "## Chronological split"
   ]
  },
  {
   "cell_type": "code",
   "execution_count": 88,
   "id": "2bc4c90e",
   "metadata": {},
   "outputs": [
    {
     "name": "stdout",
     "output_type": "stream",
     "text": [
      "[LightGBM] [Warning] Auto-choosing col-wise multi-threading, the overhead of testing was 0.001090 seconds.\n",
      "You can set `force_col_wise=true` to remove the overhead.\n",
      "[LightGBM] [Info] Total Bins 756\n",
      "[LightGBM] [Info] Number of data points in the train set: 841, number of used features: 45\n",
      "[LightGBM] [Info] Start training from score 6.966706\n",
      "Training until validation scores don't improve for 5 rounds\n",
      "[LightGBM] [Warning] No further splits with positive gain, best gain: -inf\n",
      "[LightGBM] [Warning] No further splits with positive gain, best gain: -inf\n",
      "[LightGBM] [Warning] No further splits with positive gain, best gain: -inf\n",
      "[LightGBM] [Warning] No further splits with positive gain, best gain: -inf\n",
      "Early stopping, best iteration is:\n",
      "[86]\tvalid_0's l2: 0.925346\tvalid_0's l1: 0.464806\n"
     ]
    }
   ],
   "source": [
    "import lightgbm as lgb\n",
    "\n",
    "lgb_train = lgb.Dataset(X_train, y_train)\n",
    "lgb_eval = lgb.Dataset(X_test, y_test, reference=lgb_train)\n",
    "\n",
    "params = {\n",
    "    \"boosting_type\": \"gbdt\",\n",
    "    \"objective\": \"regression\",\n",
    "    \"metric\": {\"l2\", \"l1\"},\n",
    "}\n",
    "\n",
    "gbm = lgb.train(\n",
    "    params,\n",
    "    lgb_train,\n",
    "    num_boost_round=100,\n",
    "    valid_sets=lgb_eval,\n",
    "    callbacks=[lgb.early_stopping(stopping_rounds=5)],\n",
    ")"
   ]
  },
  {
   "cell_type": "code",
   "execution_count": 89,
   "id": "f1ae2eaa",
   "metadata": {},
   "outputs": [],
   "source": [
    "y_pred_train = gbm.predict(X_train, num_iteration=gbm.best_iteration)\n",
    "y_pred_test = gbm.predict(X_test, num_iteration=gbm.best_iteration)"
   ]
  },
  {
   "cell_type": "code",
   "execution_count": 90,
   "id": "ef9d09eb",
   "metadata": {},
   "outputs": [
    {
     "name": "stdout",
     "output_type": "stream",
     "text": [
      "RMSE: 0.96\n",
      "MAE: 0.46\n"
     ]
    }
   ],
   "source": [
    "from sklearn.metrics import mean_squared_error, mean_absolute_error\n",
    "\n",
    "\n",
    "rmse = mean_squared_error(y_test, y_pred_test, squared=False)\n",
    "mae = mean_absolute_error(y_test, y_pred_test)\n",
    "\n",
    "print(f\"RMSE: {rmse:.2f}\")\n",
    "print(f\"MAE: {mae:.2f}\")"
   ]
  },
  {
   "cell_type": "code",
   "execution_count": 91,
   "id": "6e288d53",
   "metadata": {},
   "outputs": [],
   "source": [
    "results = pd.DataFrame(\n",
    "    data={\n",
    "        \"Split type\": [],\n",
    "        \"Tuning type\": [],\n",
    "        \"Set of features\": [],\n",
    "        \"RMSE\": [],\n",
    "        \"MAE\": [],\n",
    "    }\n",
    ")\n",
    "\n",
    "results.loc[0] = [\"chronological\", \"default\", \"full\", rmse, mae]"
   ]
  },
  {
   "cell_type": "code",
   "execution_count": 92,
   "id": "78bb7ffa",
   "metadata": {},
   "outputs": [
    {
     "name": "stdout",
     "output_type": "stream",
     "text": [
      "RMSE train: 0.13\n",
      "RMSE test: 0.96\n"
     ]
    }
   ],
   "source": [
    "rmse_train = mean_squared_error(y_train, y_pred_train, squared=False)\n",
    "rmse_test = mean_squared_error(y_test, y_pred_test, squared=False)\n",
    "print(f\"RMSE train: {rmse_train:.2f}\")\n",
    "print(f\"RMSE test: {rmse_test:.2f}\")"
   ]
  },
  {
   "cell_type": "markdown",
   "id": "1822ab4b",
   "metadata": {},
   "source": [
    "###### MAE by level"
   ]
  },
  {
   "cell_type": "code",
   "execution_count": 93,
   "id": "89d4733e",
   "metadata": {},
   "outputs": [],
   "source": [
    "from training.results import plot_mae_by_level"
   ]
  },
  {
   "cell_type": "code",
   "execution_count": 94,
   "id": "062bc79b",
   "metadata": {},
   "outputs": [
    {
     "data": {
      "image/png": "[encoded data removed]",
      "text/plain": [
       "<Figure size 1440x576 with 1 Axes>"
      ]
     },
     "metadata": {
      "needs_background": "light"
     },
     "output_type": "display_data"
    }
   ],
   "source": [
    "plot_mae_by_level(\n",
    "    y_test,\n",
    "    y_pred_test,\n",
    "    title=\"MAE by level for default LightGBM with full features and chronological split\",\n",
    ")"
   ]
  },
  {
   "cell_type": "code",
   "execution_count": 95,
   "id": "ec8cab49",
   "metadata": {
    "scrolled": true
   },
   "outputs": [
    {
     "name": "stdout",
     "output_type": "stream",
     "text": [
      "Default:\n",
      "RMSE: 0.96\n",
      "\n",
      "Round type: 0.5\n",
      "RMSE: 0.99\n",
      "\n",
      "Round type: 0.33\n",
      "RMSE: 0.94\n",
      "\n",
      "Round type: 0.45\n",
      "RMSE: 0.96\n",
      "\n"
     ]
    }
   ],
   "source": [
    "from training.results import evaluate_round_predictions, plot_confusion_matrix\n",
    "\n",
    "\n",
    "evaluate_round_predictions([0.5, 0.33, 0.45], y_test, y_pred_test)"
   ]
  },
  {
   "cell_type": "code",
   "execution_count": 96,
   "id": "9129a0ae",
   "metadata": {},
   "outputs": [
    {
     "data": {
      "image/png": "[encoded data removed]",
      "text/plain": [
       "<Figure size 720x720 with 2 Axes>"
      ]
     },
     "metadata": {
      "needs_background": "light"
     },
     "output_type": "display_data"
    }
   ],
   "source": [
    "plot_confusion_matrix(\n",
    "    y_pred_test,\n",
    "    y_test,\n",
    "    title=\"Confusion matrix for default LightGBM with\\nfull features and chronological split\",\n",
    ")"
   ]
  },
  {
   "cell_type": "markdown",
   "id": "0e591f6c",
   "metadata": {},
   "source": [
    "#### Tuning"
   ]
  },
  {
   "cell_type": "code",
   "execution_count": 97,
   "id": "2f781cab",
   "metadata": {},
   "outputs": [],
   "source": [
    "from training.results import assess_regression_model"
   ]
  },
  {
   "cell_type": "code",
   "execution_count": 98,
   "id": "d8734e01",
   "metadata": {},
   "outputs": [
    {
     "name": "stderr",
     "output_type": "stream",
     "text": [
      "[I 2023-11-25 18:06:30,267] A new study created in memory with name: no-name-fa942108-3b28-46e8-8ddc-2fb528515073\n",
      "feature_fraction, val_score: inf:   0%|                                                          | 0/7 [00:00<?, ?it/s]"
     ]
    },
    {
     "name": "stdout",
     "output_type": "stream",
     "text": [
      "Training until validation scores don't improve for 100 rounds\n",
      "[100]\tcv_agg's l2: 0.140311 + 0.0294919\n",
      "[200]\tcv_agg's l2: 0.136209 + 0.0283978\n",
      "[300]\tcv_agg's l2: 0.135758 + 0.0286044\n",
      "[400]\tcv_agg's l2: 0.135251 + 0.0285188\n"
     ]
    },
    {
     "name": "stderr",
     "output_type": "stream",
     "text": [
      "feature_fraction, val_score: 0.135111:  14%|######4                                      | 1/7 [00:02<00:17,  3.00s/it][I 2023-11-25 18:06:33,269] Trial 0 finished with value: 0.13511072529481452 and parameters: {'feature_fraction': 0.6}. Best is trial 0 with value: 0.13511072529481452.\n",
      "feature_fraction, val_score: 0.135111:  14%|######4                                      | 1/7 [00:02<00:17,  3.00s/it]"
     ]
    },
    {
     "name": "stdout",
     "output_type": "stream",
     "text": [
      "[500]\tcv_agg's l2: 0.135201 + 0.0282941\n",
      "Early stopping, best iteration is:\n",
      "[415]\tcv_agg's l2: 0.135111 + 0.0284396\n",
      "[100]\tcv_agg's l2: 0.142273 + 0.037953\n",
      "[200]\tcv_agg's l2: 0.138274 + 0.0363961\n",
      "[300]\tcv_agg's l2: 0.137481 + 0.0353441\n",
      "[400]\tcv_agg's l2: 0.136854 + 0.035265\n"
     ]
    },
    {
     "name": "stderr",
     "output_type": "stream",
     "text": [
      "feature_fraction, val_score: 0.135111:  29%|############8                                | 2/7 [00:06<00:17,  3.57s/it][I 2023-11-25 18:06:37,237] Trial 1 finished with value: 0.13686611396067008 and parameters: {'feature_fraction': 0.4}. Best is trial 0 with value: 0.13511072529481452.\n",
      "feature_fraction, val_score: 0.135111:  29%|############8                                | 2/7 [00:06<00:17,  3.57s/it]"
     ]
    },
    {
     "name": "stdout",
     "output_type": "stream",
     "text": [
      "[500]\tcv_agg's l2: 0.13666 + 0.0350902\n",
      "Early stopping, best iteration is:\n",
      "[415]\tcv_agg's l2: 0.135111 + 0.0284396\n",
      "[100]\tcv_agg's l2: 0.148404 + 0.0331389\n",
      "[200]\tcv_agg's l2: 0.14436 + 0.0318297\n",
      "[300]\tcv_agg's l2: 0.144326 + 0.0319602\n",
      "[400]\tcv_agg's l2: 0.143945 + 0.0318374\n"
     ]
    },
    {
     "name": "stderr",
     "output_type": "stream",
     "text": [
      "feature_fraction, val_score: 0.135111:  43%|###################2                         | 3/7 [00:11<00:15,  3.88s/it][I 2023-11-25 18:06:41,488] Trial 2 finished with value: 0.14404108355126177 and parameters: {'feature_fraction': 0.8999999999999999}. Best is trial 0 with value: 0.13511072529481452.\n",
      "feature_fraction, val_score: 0.135111:  43%|###################2                         | 3/7 [00:11<00:15,  3.88s/it]"
     ]
    },
    {
     "name": "stdout",
     "output_type": "stream",
     "text": [
      "[500]\tcv_agg's l2: 0.1439 + 0.0315536\n",
      "Early stopping, best iteration is:\n",
      "[415]\tcv_agg's l2: 0.135111 + 0.0284396\n",
      "[100]\tcv_agg's l2: 0.154209 + 0.0353285\n",
      "[200]\tcv_agg's l2: 0.15155 + 0.0359125\n",
      "[300]\tcv_agg's l2: 0.151393 + 0.0356411\n",
      "[400]\tcv_agg's l2: 0.151537 + 0.0356715\n"
     ]
    },
    {
     "name": "stderr",
     "output_type": "stream",
     "text": [
      "feature_fraction, val_score: 0.135111:  57%|#########################7                   | 4/7 [00:14<00:11,  3.78s/it][I 2023-11-25 18:06:45,103] Trial 3 finished with value: 0.1515916484986876 and parameters: {'feature_fraction': 1.0}. Best is trial 0 with value: 0.13511072529481452.\n",
      "feature_fraction, val_score: 0.135111:  57%|#########################7                   | 4/7 [00:14<00:11,  3.78s/it]"
     ]
    },
    {
     "name": "stdout",
     "output_type": "stream",
     "text": [
      "[500]\tcv_agg's l2: 0.151629 + 0.0359523\n",
      "Early stopping, best iteration is:\n",
      "[415]\tcv_agg's l2: 0.135111 + 0.0284396\n",
      "[100]\tcv_agg's l2: 0.147717 + 0.034079\n",
      "[200]\tcv_agg's l2: 0.142389 + 0.032341\n",
      "[300]\tcv_agg's l2: 0.142206 + 0.0318526\n",
      "[400]\tcv_agg's l2: 0.141914 + 0.0316362\n"
     ]
    },
    {
     "name": "stderr",
     "output_type": "stream",
     "text": [
      "feature_fraction, val_score: 0.135111:  71%|################################1            | 5/7 [00:18<00:07,  3.83s/it][I 2023-11-25 18:06:49,022] Trial 4 finished with value: 0.14193108824976128 and parameters: {'feature_fraction': 0.7}. Best is trial 0 with value: 0.13511072529481452.\n",
      "feature_fraction, val_score: 0.135111:  71%|################################1            | 5/7 [00:18<00:07,  3.83s/it]"
     ]
    },
    {
     "name": "stdout",
     "output_type": "stream",
     "text": [
      "[500]\tcv_agg's l2: 0.141987 + 0.0315848\n",
      "Early stopping, best iteration is:\n",
      "[415]\tcv_agg's l2: 0.135111 + 0.0284396\n",
      "[100]\tcv_agg's l2: 0.146161 + 0.0334119\n",
      "[200]\tcv_agg's l2: 0.144317 + 0.0330302\n",
      "[300]\tcv_agg's l2: 0.144121 + 0.0337734\n",
      "[400]\tcv_agg's l2: 0.143851 + 0.0334978\n"
     ]
    },
    {
     "name": "stderr",
     "output_type": "stream",
     "text": [
      "feature_fraction, val_score: 0.135111:  86%|######################################5      | 6/7 [00:22<00:03,  3.87s/it][I 2023-11-25 18:06:52,989] Trial 5 finished with value: 0.14387529786711958 and parameters: {'feature_fraction': 0.8}. Best is trial 0 with value: 0.13511072529481452.\n",
      "feature_fraction, val_score: 0.135111:  86%|######################################5      | 6/7 [00:22<00:03,  3.87s/it]"
     ]
    },
    {
     "name": "stdout",
     "output_type": "stream",
     "text": [
      "[500]\tcv_agg's l2: 0.143696 + 0.0334865\n",
      "Early stopping, best iteration is:\n",
      "[415]\tcv_agg's l2: 0.135111 + 0.0284396\n",
      "[100]\tcv_agg's l2: 0.137604 + 0.028626\n",
      "[200]\tcv_agg's l2: 0.134148 + 0.0281523\n",
      "[300]\tcv_agg's l2: 0.133723 + 0.0275728\n",
      "[400]\tcv_agg's l2: 0.133067 + 0.0273231\n",
      "[500]\tcv_agg's l2: 0.132938 + 0.0273618\n",
      "[600]\tcv_agg's l2: 0.132791 + 0.0273177\n",
      "[700]\tcv_agg's l2: 0.132641 + 0.0272019\n",
      "[800]\tcv_agg's l2: 0.132636 + 0.0272327\n"
     ]
    },
    {
     "name": "stderr",
     "output_type": "stream",
     "text": [
      "feature_fraction, val_score: 0.132613: 100%|#############################################| 7/7 [00:29<00:00,  4.92s/it][I 2023-11-25 18:07:00,058] Trial 6 finished with value: 0.13261332355611694 and parameters: {'feature_fraction': 0.5}. Best is trial 6 with value: 0.13261332355611694.\n",
      "feature_fraction, val_score: 0.132613: 100%|#############################################| 7/7 [00:29<00:00,  4.26s/it]\n"
     ]
    },
    {
     "name": "stdout",
     "output_type": "stream",
     "text": [
      "Early stopping, best iteration is:\n",
      "[796]\tcv_agg's l2: 0.132613 + 0.0272041\n"
     ]
    },
    {
     "name": "stderr",
     "output_type": "stream",
     "text": [
      "num_leaves, val_score: 0.132613:   0%|                                                          | 0/20 [00:00<?, ?it/s]"
     ]
    },
    {
     "name": "stdout",
     "output_type": "stream",
     "text": [
      "[100]\tcv_agg's l2: 0.137604 + 0.028626\n",
      "[200]\tcv_agg's l2: 0.134148 + 0.0281523\n",
      "[300]\tcv_agg's l2: 0.133723 + 0.0275728\n",
      "[400]\tcv_agg's l2: 0.133067 + 0.0273231\n",
      "[500]\tcv_agg's l2: 0.132938 + 0.0273618\n",
      "[600]\tcv_agg's l2: 0.132791 + 0.0273177\n",
      "[700]\tcv_agg's l2: 0.132641 + 0.0272019\n",
      "[800]\tcv_agg's l2: 0.132636 + 0.0272327\n"
     ]
    },
    {
     "name": "stderr",
     "output_type": "stream",
     "text": [
      "num_leaves, val_score: 0.132613:   5%|##5                                               | 1/20 [00:07<02:24,  7.63s/it][I 2023-11-25 18:07:07,692] Trial 7 finished with value: 0.13261332355611694 and parameters: {'num_leaves': 127}. Best is trial 7 with value: 0.13261332355611694.\n",
      "num_leaves, val_score: 0.132613:   5%|##5                                               | 1/20 [00:07<02:24,  7.63s/it]"
     ]
    },
    {
     "name": "stdout",
     "output_type": "stream",
     "text": [
      "Early stopping, best iteration is:\n",
      "[796]\tcv_agg's l2: 0.132613 + 0.0272041\n",
      "[100]\tcv_agg's l2: 0.137604 + 0.028626\n",
      "[200]\tcv_agg's l2: 0.134148 + 0.0281523\n",
      "[300]\tcv_agg's l2: 0.133723 + 0.0275728\n",
      "[400]\tcv_agg's l2: 0.133067 + 0.0273231\n",
      "[500]\tcv_agg's l2: 0.132938 + 0.0273618\n",
      "[600]\tcv_agg's l2: 0.132791 + 0.0273177\n",
      "[700]\tcv_agg's l2: 0.132641 + 0.0272019\n",
      "[800]\tcv_agg's l2: 0.132636 + 0.0272327\n"
     ]
    },
    {
     "name": "stderr",
     "output_type": "stream",
     "text": [
      "num_leaves, val_score: 0.132613:  10%|#####                                             | 2/20 [00:14<02:09,  7.18s/it][I 2023-11-25 18:07:14,558] Trial 8 finished with value: 0.13261332355611694 and parameters: {'num_leaves': 96}. Best is trial 7 with value: 0.13261332355611694.\n",
      "num_leaves, val_score: 0.132613:  10%|#####                                             | 2/20 [00:14<02:09,  7.18s/it]"
     ]
    },
    {
     "name": "stdout",
     "output_type": "stream",
     "text": [
      "Early stopping, best iteration is:\n",
      "[796]\tcv_agg's l2: 0.132613 + 0.0272041\n",
      "[100]\tcv_agg's l2: 0.137604 + 0.028626\n",
      "[200]\tcv_agg's l2: 0.134148 + 0.0281523\n",
      "[300]\tcv_agg's l2: 0.133723 + 0.0275728\n",
      "[400]\tcv_agg's l2: 0.133067 + 0.0273231\n",
      "[500]\tcv_agg's l2: 0.132938 + 0.0273618\n",
      "[600]\tcv_agg's l2: 0.132791 + 0.0273177\n",
      "[700]\tcv_agg's l2: 0.132641 + 0.0272019\n",
      "[800]\tcv_agg's l2: 0.132636 + 0.0272327\n"
     ]
    },
    {
     "name": "stderr",
     "output_type": "stream",
     "text": [
      "num_leaves, val_score: 0.132613:  15%|#######5                                          | 3/20 [00:21<01:58,  6.99s/it][I 2023-11-25 18:07:21,329] Trial 9 finished with value: 0.13261332355611694 and parameters: {'num_leaves': 174}. Best is trial 7 with value: 0.13261332355611694.\n",
      "num_leaves, val_score: 0.132613:  15%|#######5                                          | 3/20 [00:21<01:58,  6.99s/it]"
     ]
    },
    {
     "name": "stdout",
     "output_type": "stream",
     "text": [
      "Early stopping, best iteration is:\n",
      "[796]\tcv_agg's l2: 0.132613 + 0.0272041\n",
      "[100]\tcv_agg's l2: 0.137604 + 0.028626\n",
      "[200]\tcv_agg's l2: 0.134148 + 0.0281523\n",
      "[300]\tcv_agg's l2: 0.133723 + 0.0275728\n",
      "[400]\tcv_agg's l2: 0.133067 + 0.0273231\n",
      "[500]\tcv_agg's l2: 0.132938 + 0.0273618\n",
      "[600]\tcv_agg's l2: 0.132791 + 0.0273177\n",
      "[700]\tcv_agg's l2: 0.132641 + 0.0272019\n",
      "[800]\tcv_agg's l2: 0.132636 + 0.0272327\n"
     ]
    },
    {
     "name": "stderr",
     "output_type": "stream",
     "text": [
      "num_leaves, val_score: 0.132613:  20%|##########                                        | 4/20 [00:28<01:52,  7.06s/it][I 2023-11-25 18:07:28,483] Trial 10 finished with value: 0.13261332355611694 and parameters: {'num_leaves': 256}. Best is trial 7 with value: 0.13261332355611694.\n",
      "num_leaves, val_score: 0.132613:  20%|##########                                        | 4/20 [00:28<01:52,  7.06s/it]"
     ]
    },
    {
     "name": "stdout",
     "output_type": "stream",
     "text": [
      "Early stopping, best iteration is:\n",
      "[796]\tcv_agg's l2: 0.132613 + 0.0272041\n",
      "[100]\tcv_agg's l2: 0.137604 + 0.028626\n",
      "[200]\tcv_agg's l2: 0.134148 + 0.0281523\n",
      "[300]\tcv_agg's l2: 0.133723 + 0.0275728\n",
      "[400]\tcv_agg's l2: 0.133067 + 0.0273231\n",
      "[500]\tcv_agg's l2: 0.132938 + 0.0273618\n",
      "[600]\tcv_agg's l2: 0.132791 + 0.0273177\n",
      "[700]\tcv_agg's l2: 0.132641 + 0.0272019\n",
      "[800]\tcv_agg's l2: 0.132636 + 0.0272327\n"
     ]
    },
    {
     "name": "stderr",
     "output_type": "stream",
     "text": [
      "num_leaves, val_score: 0.132613:  25%|############5                                     | 5/20 [00:35<01:44,  6.95s/it][I 2023-11-25 18:07:35,251] Trial 11 finished with value: 0.13261332355611694 and parameters: {'num_leaves': 37}. Best is trial 7 with value: 0.13261332355611694.\n",
      "num_leaves, val_score: 0.132613:  25%|############5                                     | 5/20 [00:35<01:44,  6.95s/it]"
     ]
    },
    {
     "name": "stdout",
     "output_type": "stream",
     "text": [
      "Early stopping, best iteration is:\n",
      "[796]\tcv_agg's l2: 0.132613 + 0.0272041\n",
      "[100]\tcv_agg's l2: 0.137604 + 0.028626\n",
      "[200]\tcv_agg's l2: 0.134148 + 0.0281523\n",
      "[300]\tcv_agg's l2: 0.133723 + 0.0275728\n",
      "[400]\tcv_agg's l2: 0.133067 + 0.0273231\n",
      "[500]\tcv_agg's l2: 0.132938 + 0.0273618\n",
      "[600]\tcv_agg's l2: 0.132791 + 0.0273177\n",
      "[700]\tcv_agg's l2: 0.132641 + 0.0272019\n",
      "[800]\tcv_agg's l2: 0.132636 + 0.0272327\n"
     ]
    },
    {
     "name": "stderr",
     "output_type": "stream",
     "text": [
      "num_leaves, val_score: 0.132613:  30%|###############                                   | 6/20 [00:42<01:37,  6.97s/it][I 2023-11-25 18:07:42,259] Trial 12 finished with value: 0.13261332355611694 and parameters: {'num_leaves': 156}. Best is trial 7 with value: 0.13261332355611694.\n",
      "num_leaves, val_score: 0.132613:  30%|###############                                   | 6/20 [00:42<01:37,  6.97s/it]"
     ]
    },
    {
     "name": "stdout",
     "output_type": "stream",
     "text": [
      "Early stopping, best iteration is:\n",
      "[796]\tcv_agg's l2: 0.132613 + 0.0272041\n",
      "[100]\tcv_agg's l2: 0.137604 + 0.028626\n",
      "[200]\tcv_agg's l2: 0.134148 + 0.0281523\n",
      "[300]\tcv_agg's l2: 0.133723 + 0.0275728\n",
      "[400]\tcv_agg's l2: 0.133067 + 0.0273231\n",
      "[500]\tcv_agg's l2: 0.132938 + 0.0273618\n",
      "[600]\tcv_agg's l2: 0.132791 + 0.0273177\n",
      "[700]\tcv_agg's l2: 0.132641 + 0.0272019\n",
      "[800]\tcv_agg's l2: 0.132636 + 0.0272327\n"
     ]
    },
    {
     "name": "stderr",
     "output_type": "stream",
     "text": [
      "num_leaves, val_score: 0.132613:  35%|#################5                                | 7/20 [00:48<01:29,  6.89s/it][I 2023-11-25 18:07:48,969] Trial 13 finished with value: 0.13261332355611694 and parameters: {'num_leaves': 83}. Best is trial 7 with value: 0.13261332355611694.\n",
      "num_leaves, val_score: 0.132613:  35%|#################5                                | 7/20 [00:48<01:29,  6.89s/it]"
     ]
    },
    {
     "name": "stdout",
     "output_type": "stream",
     "text": [
      "Early stopping, best iteration is:\n",
      "[796]\tcv_agg's l2: 0.132613 + 0.0272041\n",
      "[100]\tcv_agg's l2: 0.137604 + 0.028626\n",
      "[200]\tcv_agg's l2: 0.134148 + 0.0281523\n",
      "[300]\tcv_agg's l2: 0.133723 + 0.0275728\n",
      "[400]\tcv_agg's l2: 0.133067 + 0.0273231\n",
      "[500]\tcv_agg's l2: 0.132938 + 0.0273618\n",
      "[600]\tcv_agg's l2: 0.132791 + 0.0273177\n",
      "[700]\tcv_agg's l2: 0.132641 + 0.0272019\n",
      "[800]\tcv_agg's l2: 0.132636 + 0.0272327\n"
     ]
    },
    {
     "name": "stderr",
     "output_type": "stream",
     "text": [
      "num_leaves, val_score: 0.132613:  40%|####################                              | 8/20 [00:55<01:22,  6.87s/it][I 2023-11-25 18:07:55,804] Trial 14 finished with value: 0.13261332355611694 and parameters: {'num_leaves': 212}. Best is trial 7 with value: 0.13261332355611694.\n",
      "num_leaves, val_score: 0.132613:  40%|####################                              | 8/20 [00:55<01:22,  6.87s/it]"
     ]
    },
    {
     "name": "stdout",
     "output_type": "stream",
     "text": [
      "Early stopping, best iteration is:\n",
      "[796]\tcv_agg's l2: 0.132613 + 0.0272041\n",
      "[100]\tcv_agg's l2: 0.144004 + 0.0353976\n",
      "[200]\tcv_agg's l2: 0.13749 + 0.0339645\n",
      "[300]\tcv_agg's l2: 0.135502 + 0.0330887\n",
      "[400]\tcv_agg's l2: 0.134888 + 0.0326007\n",
      "[500]\tcv_agg's l2: 0.134988 + 0.0321883\n",
      "[600]\tcv_agg's l2: 0.135162 + 0.0316498\n",
      "[700]\tcv_agg's l2: 0.135066 + 0.0317732\n",
      "[800]\tcv_agg's l2: 0.135123 + 0.0314937\n"
     ]
    },
    {
     "name": "stderr",
     "output_type": "stream",
     "text": [
      "num_leaves, val_score: 0.132613:  45%|######################5                           | 9/20 [00:59<01:05,  5.94s/it][I 2023-11-25 18:07:59,714] Trial 15 finished with value: 0.1351061758772088 and parameters: {'num_leaves': 11}. Best is trial 7 with value: 0.13261332355611694.\n",
      "num_leaves, val_score: 0.132613:  45%|######################5                           | 9/20 [00:59<01:05,  5.94s/it]"
     ]
    },
    {
     "name": "stdout",
     "output_type": "stream",
     "text": [
      "Early stopping, best iteration is:\n",
      "[796]\tcv_agg's l2: 0.132613 + 0.0272041\n",
      "[100]\tcv_agg's l2: 0.137604 + 0.028626\n",
      "[200]\tcv_agg's l2: 0.134148 + 0.0281523\n",
      "[300]\tcv_agg's l2: 0.133723 + 0.0275728\n",
      "[400]\tcv_agg's l2: 0.133067 + 0.0273231\n",
      "[500]\tcv_agg's l2: 0.132938 + 0.0273618\n",
      "[600]\tcv_agg's l2: 0.132791 + 0.0273177\n",
      "[700]\tcv_agg's l2: 0.132641 + 0.0272019\n",
      "[800]\tcv_agg's l2: 0.132636 + 0.0272327\n"
     ]
    },
    {
     "name": "stderr",
     "output_type": "stream",
     "text": [
      "num_leaves, val_score: 0.132613:  50%|########################5                        | 10/20 [01:06<01:02,  6.21s/it][I 2023-11-25 18:08:06,504] Trial 16 finished with value: 0.13261332355611694 and parameters: {'num_leaves': 115}. Best is trial 7 with value: 0.13261332355611694.\n",
      "num_leaves, val_score: 0.132613:  50%|########################5                        | 10/20 [01:06<01:02,  6.21s/it]"
     ]
    },
    {
     "name": "stdout",
     "output_type": "stream",
     "text": [
      "Early stopping, best iteration is:\n",
      "[796]\tcv_agg's l2: 0.132613 + 0.0272041\n",
      "[100]\tcv_agg's l2: 0.137604 + 0.028626\n",
      "[200]\tcv_agg's l2: 0.134148 + 0.0281523\n",
      "[300]\tcv_agg's l2: 0.133723 + 0.0275728\n",
      "[400]\tcv_agg's l2: 0.133067 + 0.0273231\n",
      "[500]\tcv_agg's l2: 0.132938 + 0.0273618\n",
      "[600]\tcv_agg's l2: 0.132791 + 0.0273177\n",
      "[700]\tcv_agg's l2: 0.132641 + 0.0272019\n",
      "[800]\tcv_agg's l2: 0.132636 + 0.0272327\n"
     ]
    },
    {
     "name": "stderr",
     "output_type": "stream",
     "text": [
      "num_leaves, val_score: 0.132613:  55%|##########################9                      | 11/20 [01:13<00:57,  6.36s/it][I 2023-11-25 18:08:13,219] Trial 17 finished with value: 0.13261332355611694 and parameters: {'num_leaves': 61}. Best is trial 7 with value: 0.13261332355611694.\n",
      "num_leaves, val_score: 0.132613:  55%|##########################9                      | 11/20 [01:13<00:57,  6.36s/it]"
     ]
    },
    {
     "name": "stdout",
     "output_type": "stream",
     "text": [
      "Early stopping, best iteration is:\n",
      "[796]\tcv_agg's l2: 0.132613 + 0.0272041\n",
      "[100]\tcv_agg's l2: 0.137604 + 0.028626\n",
      "[200]\tcv_agg's l2: 0.134148 + 0.0281523\n",
      "[300]\tcv_agg's l2: 0.133723 + 0.0275728\n",
      "[400]\tcv_agg's l2: 0.133067 + 0.0273231\n",
      "[500]\tcv_agg's l2: 0.132938 + 0.0273618\n",
      "[600]\tcv_agg's l2: 0.132791 + 0.0273177\n",
      "[700]\tcv_agg's l2: 0.132641 + 0.0272019\n",
      "[800]\tcv_agg's l2: 0.132636 + 0.0272327\n"
     ]
    },
    {
     "name": "stderr",
     "output_type": "stream",
     "text": [
      "num_leaves, val_score: 0.132613:  60%|#############################4                   | 12/20 [01:19<00:51,  6.50s/it][I 2023-11-25 18:08:20,024] Trial 18 finished with value: 0.13261332355611694 and parameters: {'num_leaves': 145}. Best is trial 7 with value: 0.13261332355611694.\n",
      "num_leaves, val_score: 0.132613:  60%|#############################4                   | 12/20 [01:19<00:51,  6.50s/it]"
     ]
    },
    {
     "name": "stdout",
     "output_type": "stream",
     "text": [
      "Early stopping, best iteration is:\n",
      "[796]\tcv_agg's l2: 0.132613 + 0.0272041\n",
      "[100]\tcv_agg's l2: 0.137604 + 0.028626\n",
      "[200]\tcv_agg's l2: 0.134148 + 0.0281523\n",
      "[300]\tcv_agg's l2: 0.133723 + 0.0275728\n",
      "[400]\tcv_agg's l2: 0.133067 + 0.0273231\n",
      "[500]\tcv_agg's l2: 0.132938 + 0.0273618\n",
      "[600]\tcv_agg's l2: 0.132791 + 0.0273177\n",
      "[700]\tcv_agg's l2: 0.132641 + 0.0272019\n",
      "[800]\tcv_agg's l2: 0.132636 + 0.0272327\n"
     ]
    },
    {
     "name": "stderr",
     "output_type": "stream",
     "text": [
      "num_leaves, val_score: 0.132613:  65%|###############################8                 | 13/20 [01:27<00:46,  6.66s/it][I 2023-11-25 18:08:27,071] Trial 19 finished with value: 0.13261332355611694 and parameters: {'num_leaves': 200}. Best is trial 7 with value: 0.13261332355611694.\n",
      "num_leaves, val_score: 0.132613:  65%|###############################8                 | 13/20 [01:27<00:46,  6.66s/it]"
     ]
    },
    {
     "name": "stdout",
     "output_type": "stream",
     "text": [
      "Early stopping, best iteration is:\n",
      "[796]\tcv_agg's l2: 0.132613 + 0.0272041\n",
      "[100]\tcv_agg's l2: 0.137604 + 0.028626\n",
      "[200]\tcv_agg's l2: 0.134148 + 0.0281523\n",
      "[300]\tcv_agg's l2: 0.133723 + 0.0275728\n",
      "[400]\tcv_agg's l2: 0.133067 + 0.0273231\n",
      "[500]\tcv_agg's l2: 0.132938 + 0.0273618\n",
      "[600]\tcv_agg's l2: 0.132791 + 0.0273177\n",
      "[700]\tcv_agg's l2: 0.132641 + 0.0272019\n",
      "[800]\tcv_agg's l2: 0.132636 + 0.0272327\n"
     ]
    },
    {
     "name": "stderr",
     "output_type": "stream",
     "text": [
      "num_leaves, val_score: 0.132613:  70%|##################################3              | 14/20 [01:33<00:40,  6.72s/it][I 2023-11-25 18:08:33,937] Trial 20 finished with value: 0.13261332355611694 and parameters: {'num_leaves': 256}. Best is trial 7 with value: 0.13261332355611694.\n",
      "num_leaves, val_score: 0.132613:  70%|##################################3              | 14/20 [01:33<00:40,  6.72s/it]"
     ]
    },
    {
     "name": "stdout",
     "output_type": "stream",
     "text": [
      "Early stopping, best iteration is:\n",
      "[796]\tcv_agg's l2: 0.132613 + 0.0272041\n",
      "[100]\tcv_agg's l2: 0.137604 + 0.028626\n",
      "[200]\tcv_agg's l2: 0.134148 + 0.0281523\n",
      "[300]\tcv_agg's l2: 0.133723 + 0.0275728\n",
      "[400]\tcv_agg's l2: 0.133067 + 0.0273231\n",
      "[500]\tcv_agg's l2: 0.132938 + 0.0273618\n",
      "[600]\tcv_agg's l2: 0.132791 + 0.0273177\n",
      "[700]\tcv_agg's l2: 0.132641 + 0.0272019\n",
      "[800]\tcv_agg's l2: 0.132636 + 0.0272327\n"
     ]
    },
    {
     "name": "stderr",
     "output_type": "stream",
     "text": [
      "num_leaves, val_score: 0.132613:  75%|####################################7            | 15/20 [01:40<00:33,  6.80s/it][I 2023-11-25 18:08:40,896] Trial 21 finished with value: 0.13261332355611694 and parameters: {'num_leaves': 102}. Best is trial 7 with value: 0.13261332355611694.\n",
      "num_leaves, val_score: 0.132613:  75%|####################################7            | 15/20 [01:40<00:33,  6.80s/it]"
     ]
    },
    {
     "name": "stdout",
     "output_type": "stream",
     "text": [
      "Early stopping, best iteration is:\n",
      "[796]\tcv_agg's l2: 0.132613 + 0.0272041\n",
      "[100]\tcv_agg's l2: 0.137604 + 0.028626\n",
      "[200]\tcv_agg's l2: 0.134148 + 0.0281523\n",
      "[300]\tcv_agg's l2: 0.133723 + 0.0275728\n",
      "[400]\tcv_agg's l2: 0.133067 + 0.0273231\n",
      "[500]\tcv_agg's l2: 0.132938 + 0.0273618\n",
      "[600]\tcv_agg's l2: 0.132791 + 0.0273177\n",
      "[700]\tcv_agg's l2: 0.132641 + 0.0272019\n",
      "[800]\tcv_agg's l2: 0.132636 + 0.0272327\n"
     ]
    },
    {
     "name": "stderr",
     "output_type": "stream",
     "text": [
      "num_leaves, val_score: 0.132613:  80%|#######################################2         | 16/20 [01:47<00:26,  6.73s/it][I 2023-11-25 18:08:47,463] Trial 22 finished with value: 0.13261332355611694 and parameters: {'num_leaves': 76}. Best is trial 7 with value: 0.13261332355611694.\n",
      "num_leaves, val_score: 0.132613:  80%|#######################################2         | 16/20 [01:47<00:26,  6.73s/it]"
     ]
    },
    {
     "name": "stdout",
     "output_type": "stream",
     "text": [
      "Early stopping, best iteration is:\n",
      "[796]\tcv_agg's l2: 0.132613 + 0.0272041\n",
      "[100]\tcv_agg's l2: 0.137604 + 0.028626\n",
      "[200]\tcv_agg's l2: 0.134148 + 0.0281523\n",
      "[300]\tcv_agg's l2: 0.133723 + 0.0275728\n",
      "[400]\tcv_agg's l2: 0.133067 + 0.0273231\n",
      "[500]\tcv_agg's l2: 0.132938 + 0.0273618\n",
      "[600]\tcv_agg's l2: 0.132791 + 0.0273177\n",
      "[700]\tcv_agg's l2: 0.132641 + 0.0272019\n",
      "[800]\tcv_agg's l2: 0.132636 + 0.0272327\n"
     ]
    },
    {
     "name": "stderr",
     "output_type": "stream",
     "text": [
      "num_leaves, val_score: 0.132613:  85%|#########################################6       | 17/20 [01:54<00:20,  6.78s/it][I 2023-11-25 18:08:54,355] Trial 23 finished with value: 0.13261332355611694 and parameters: {'num_leaves': 124}. Best is trial 7 with value: 0.13261332355611694.\n",
      "num_leaves, val_score: 0.132613:  85%|#########################################6       | 17/20 [01:54<00:20,  6.78s/it]"
     ]
    },
    {
     "name": "stdout",
     "output_type": "stream",
     "text": [
      "Early stopping, best iteration is:\n",
      "[796]\tcv_agg's l2: 0.132613 + 0.0272041\n",
      "[100]\tcv_agg's l2: 0.137604 + 0.028626\n",
      "[200]\tcv_agg's l2: 0.134148 + 0.0281523\n",
      "[300]\tcv_agg's l2: 0.133723 + 0.0275728\n",
      "[400]\tcv_agg's l2: 0.133067 + 0.0273231\n",
      "[500]\tcv_agg's l2: 0.132938 + 0.0273618\n",
      "[600]\tcv_agg's l2: 0.132791 + 0.0273177\n",
      "[700]\tcv_agg's l2: 0.132641 + 0.0272019\n",
      "[800]\tcv_agg's l2: 0.132636 + 0.0272327\n"
     ]
    },
    {
     "name": "stderr",
     "output_type": "stream",
     "text": [
      "num_leaves, val_score: 0.132613:  90%|############################################1    | 18/20 [02:00<00:13,  6.74s/it][I 2023-11-25 18:09:01,034] Trial 24 finished with value: 0.13261332355611694 and parameters: {'num_leaves': 56}. Best is trial 7 with value: 0.13261332355611694.\n",
      "num_leaves, val_score: 0.132613:  90%|############################################1    | 18/20 [02:00<00:13,  6.74s/it]"
     ]
    },
    {
     "name": "stdout",
     "output_type": "stream",
     "text": [
      "Early stopping, best iteration is:\n",
      "[796]\tcv_agg's l2: 0.132613 + 0.0272041\n",
      "[100]\tcv_agg's l2: 0.137604 + 0.028626\n",
      "[200]\tcv_agg's l2: 0.134148 + 0.0281523\n",
      "[300]\tcv_agg's l2: 0.133723 + 0.0275728\n",
      "[400]\tcv_agg's l2: 0.133067 + 0.0273231\n",
      "[500]\tcv_agg's l2: 0.132938 + 0.0273618\n",
      "[600]\tcv_agg's l2: 0.132791 + 0.0273177\n",
      "[700]\tcv_agg's l2: 0.132641 + 0.0272019\n",
      "[800]\tcv_agg's l2: 0.132636 + 0.0272327\n"
     ]
    },
    {
     "name": "stderr",
     "output_type": "stream",
     "text": [
      "num_leaves, val_score: 0.132613:  95%|##############################################5  | 19/20 [02:08<00:06,  6.92s/it][I 2023-11-25 18:09:08,350] Trial 25 finished with value: 0.13261332355611694 and parameters: {'num_leaves': 101}. Best is trial 7 with value: 0.13261332355611694.\n",
      "num_leaves, val_score: 0.132613:  95%|##############################################5  | 19/20 [02:08<00:06,  6.92s/it]"
     ]
    },
    {
     "name": "stdout",
     "output_type": "stream",
     "text": [
      "Early stopping, best iteration is:\n",
      "[796]\tcv_agg's l2: 0.132613 + 0.0272041\n",
      "[100]\tcv_agg's l2: 0.137604 + 0.028626\n",
      "[200]\tcv_agg's l2: 0.134148 + 0.0281523\n",
      "[300]\tcv_agg's l2: 0.133723 + 0.0275728\n",
      "[400]\tcv_agg's l2: 0.133067 + 0.0273231\n",
      "[500]\tcv_agg's l2: 0.132938 + 0.0273618\n",
      "[600]\tcv_agg's l2: 0.132791 + 0.0273177\n",
      "[700]\tcv_agg's l2: 0.132641 + 0.0272019\n",
      "[800]\tcv_agg's l2: 0.132636 + 0.0272327\n"
     ]
    },
    {
     "name": "stderr",
     "output_type": "stream",
     "text": [
      "num_leaves, val_score: 0.132613: 100%|#################################################| 20/20 [02:15<00:00,  6.93s/it][I 2023-11-25 18:09:15,305] Trial 26 finished with value: 0.13261332355611694 and parameters: {'num_leaves': 181}. Best is trial 7 with value: 0.13261332355611694.\n",
      "num_leaves, val_score: 0.132613: 100%|#################################################| 20/20 [02:15<00:00,  6.76s/it]\n"
     ]
    },
    {
     "name": "stdout",
     "output_type": "stream",
     "text": [
      "Early stopping, best iteration is:\n",
      "[796]\tcv_agg's l2: 0.132613 + 0.0272041\n"
     ]
    },
    {
     "name": "stderr",
     "output_type": "stream",
     "text": [
      "bagging, val_score: 0.132613:   0%|                                                             | 0/10 [00:00<?, ?it/s]"
     ]
    },
    {
     "name": "stdout",
     "output_type": "stream",
     "text": [
      "[100]\tcv_agg's l2: 0.1684 + 0.0335657\n",
      "[200]\tcv_agg's l2: 0.159394 + 0.0317021\n",
      "[300]\tcv_agg's l2: 0.158367 + 0.0313945\n",
      "[400]\tcv_agg's l2: 0.158152 + 0.0304817\n",
      "[500]\tcv_agg's l2: 0.158645 + 0.0304725\n",
      "[600]\tcv_agg's l2: 0.160921 + 0.0303033\n",
      "[700]\tcv_agg's l2: 0.160899 + 0.0298975\n",
      "[800]\tcv_agg's l2: 0.162417 + 0.0289464\n"
     ]
    },
    {
     "name": "stderr",
     "output_type": "stream",
     "text": [
      "bagging, val_score: 0.132613:  10%|#####3                                               | 1/10 [00:04<00:38,  4.29s/it][I 2023-11-25 18:09:19,604] Trial 27 finished with value: 0.162608211989204 and parameters: {'bagging_fraction': 0.47748919977825444, 'bagging_freq': 1}. Best is trial 27 with value: 0.162608211989204.\n",
      "bagging, val_score: 0.132613:  10%|#####3                                               | 1/10 [00:04<00:38,  4.29s/it]"
     ]
    },
    {
     "name": "stdout",
     "output_type": "stream",
     "text": [
      "Early stopping, best iteration is:\n",
      "[796]\tcv_agg's l2: 0.132613 + 0.0272041\n",
      "[100]\tcv_agg's l2: 0.135762 + 0.0267901\n",
      "[200]\tcv_agg's l2: 0.130929 + 0.0251357\n",
      "[300]\tcv_agg's l2: 0.129825 + 0.0243707\n",
      "[400]\tcv_agg's l2: 0.129435 + 0.0238749\n",
      "[500]\tcv_agg's l2: 0.12907 + 0.0237819\n",
      "[600]\tcv_agg's l2: 0.128915 + 0.0235734\n",
      "[700]\tcv_agg's l2: 0.12891 + 0.0235499\n"
     ]
    },
    {
     "name": "stderr",
     "output_type": "stream",
     "text": [
      "bagging, val_score: 0.128850:  20%|##########6                                          | 2/10 [00:10<00:41,  5.15s/it][I 2023-11-25 18:09:25,360] Trial 28 finished with value: 0.12884976435377754 and parameters: {'bagging_fraction': 0.9962248564703452, 'bagging_freq': 7}. Best is trial 28 with value: 0.12884976435377754.\n",
      "bagging, val_score: 0.128850:  20%|##########6                                          | 2/10 [00:10<00:41,  5.15s/it]"
     ]
    },
    {
     "name": "stdout",
     "output_type": "stream",
     "text": [
      "Early stopping, best iteration is:\n",
      "[624]\tcv_agg's l2: 0.12885 + 0.0235492\n",
      "[100]\tcv_agg's l2: 0.137801 + 0.0298143\n",
      "[200]\tcv_agg's l2: 0.131938 + 0.0269244\n",
      "[300]\tcv_agg's l2: 0.130126 + 0.026303\n",
      "[400]\tcv_agg's l2: 0.130022 + 0.0267555\n",
      "[500]\tcv_agg's l2: 0.129588 + 0.0266907\n",
      "[600]\tcv_agg's l2: 0.129572 + 0.0266908\n",
      "[700]\tcv_agg's l2: 0.129635 + 0.0268576\n",
      "Early stopping, best iteration is:\n",
      "[624]\tcv_agg's l2: 0.12885 + 0.0235492\n"
     ]
    },
    {
     "name": "stderr",
     "output_type": "stream",
     "text": [
      "bagging, val_score: 0.128850:  30%|###############9                                     | 3/10 [00:15<00:37,  5.33s/it][I 2023-11-25 18:09:30,903] Trial 29 finished with value: 0.1295940962379085 and parameters: {'bagging_fraction': 0.9795377115586561, 'bagging_freq': 7}. Best is trial 28 with value: 0.12884976435377754.\n",
      "bagging, val_score: 0.128850:  30%|###############9                                     | 3/10 [00:15<00:37,  5.33s/it]"
     ]
    },
    {
     "name": "stdout",
     "output_type": "stream",
     "text": [
      "[100]\tcv_agg's l2: 0.134691 + 0.0309609\n",
      "[200]\tcv_agg's l2: 0.131135 + 0.0286788\n",
      "[300]\tcv_agg's l2: 0.129921 + 0.0285162\n",
      "[400]\tcv_agg's l2: 0.129861 + 0.0285556\n",
      "[500]\tcv_agg's l2: 0.130051 + 0.0285569\n",
      "[600]\tcv_agg's l2: 0.129959 + 0.0282785\n"
     ]
    },
    {
     "name": "stderr",
     "output_type": "stream",
     "text": [
      "\r",
      "bagging, val_score: 0.128850:  30%|###############9                                     | 3/10 [00:21<00:37,  5.33s/it]"
     ]
    },
    {
     "name": "stdout",
     "output_type": "stream",
     "text": [
      "[700]\tcv_agg's l2: 0.129868 + 0.0281342\n",
      "Early stopping, best iteration is:\n",
      "[624]\tcv_agg's l2: 0.12885 + 0.0235492\n"
     ]
    },
    {
     "name": "stderr",
     "output_type": "stream",
     "text": [
      "bagging, val_score: 0.128850:  40%|#####################2                               | 4/10 [00:21<00:32,  5.45s/it][I 2023-11-25 18:09:36,542] Trial 30 finished with value: 0.12989887376922596 and parameters: {'bagging_fraction': 0.9943005835802132, 'bagging_freq': 7}. Best is trial 28 with value: 0.12884976435377754.\n",
      "bagging, val_score: 0.128850:  40%|#####################2                               | 4/10 [00:21<00:32,  5.45s/it]"
     ]
    },
    {
     "name": "stdout",
     "output_type": "stream",
     "text": [
      "[100]\tcv_agg's l2: 0.135677 + 0.030297\n",
      "[200]\tcv_agg's l2: 0.132029 + 0.0284892\n",
      "[300]\tcv_agg's l2: 0.131282 + 0.0278211\n",
      "[400]\tcv_agg's l2: 0.131244 + 0.0278203\n",
      "[500]\tcv_agg's l2: 0.131297 + 0.0276751\n",
      "[600]\tcv_agg's l2: 0.13114 + 0.0276854\n"
     ]
    },
    {
     "name": "stderr",
     "output_type": "stream",
     "text": [
      "\r",
      "bagging, val_score: 0.128850:  40%|#####################2                               | 4/10 [00:26<00:32,  5.45s/it]"
     ]
    },
    {
     "name": "stdout",
     "output_type": "stream",
     "text": [
      "[700]\tcv_agg's l2: 0.131067 + 0.0276999\n",
      "Early stopping, best iteration is:\n",
      "[624]\tcv_agg's l2: 0.12885 + 0.0235492\n"
     ]
    },
    {
     "name": "stderr",
     "output_type": "stream",
     "text": [
      "bagging, val_score: 0.128850:  50%|##########################5                          | 5/10 [00:26<00:27,  5.53s/it][I 2023-11-25 18:09:42,222] Trial 31 finished with value: 0.13109746542710485 and parameters: {'bagging_fraction': 0.9924802299660864, 'bagging_freq': 7}. Best is trial 28 with value: 0.12884976435377754.\n",
      "bagging, val_score: 0.128850:  50%|##########################5                          | 5/10 [00:26<00:27,  5.53s/it]"
     ]
    },
    {
     "name": "stdout",
     "output_type": "stream",
     "text": [
      "[100]\tcv_agg's l2: 0.137604 + 0.028626\n",
      "[200]\tcv_agg's l2: 0.134148 + 0.0281523\n",
      "[300]\tcv_agg's l2: 0.133723 + 0.0275728\n",
      "[400]\tcv_agg's l2: 0.133067 + 0.0273231\n",
      "[500]\tcv_agg's l2: 0.132938 + 0.0273618\n",
      "[600]\tcv_agg's l2: 0.132791 + 0.0273177\n",
      "[700]\tcv_agg's l2: 0.132641 + 0.0272019\n",
      "Early stopping, best iteration is:\n",
      "[624]\tcv_agg's l2: 0.12885 + 0.0235492\n"
     ]
    },
    {
     "name": "stderr",
     "output_type": "stream",
     "text": [
      "bagging, val_score: 0.128850:  60%|###############################8                     | 6/10 [00:32<00:22,  5.57s/it][I 2023-11-25 18:09:47,855] Trial 32 finished with value: 0.13272308722881312 and parameters: {'bagging_fraction': 0.9998727092384694, 'bagging_freq': 7}. Best is trial 28 with value: 0.12884976435377754.\n",
      "bagging, val_score: 0.128850:  60%|###############################8                     | 6/10 [00:32<00:22,  5.57s/it]"
     ]
    },
    {
     "name": "stdout",
     "output_type": "stream",
     "text": [
      "[100]\tcv_agg's l2: 0.13406 + 0.0313697\n",
      "[200]\tcv_agg's l2: 0.130609 + 0.0298998\n",
      "[300]\tcv_agg's l2: 0.128896 + 0.0290903\n",
      "[400]\tcv_agg's l2: 0.128846 + 0.0293972\n",
      "[500]\tcv_agg's l2: 0.128657 + 0.0297067\n"
     ]
    },
    {
     "name": "stderr",
     "output_type": "stream",
     "text": [
      "bagging, val_score: 0.128601:  70%|#####################################                | 7/10 [00:37<00:15,  5.27s/it][I 2023-11-25 18:09:52,507] Trial 33 finished with value: 0.12860133304839808 and parameters: {'bagging_fraction': 0.992119885016315, 'bagging_freq': 7}. Best is trial 33 with value: 0.12860133304839808.\n",
      "bagging, val_score: 0.128601:  70%|#####################################                | 7/10 [00:37<00:15,  5.27s/it]"
     ]
    },
    {
     "name": "stdout",
     "output_type": "stream",
     "text": [
      "Early stopping, best iteration is:\n",
      "[490]\tcv_agg's l2: 0.128601 + 0.0296503\n",
      "[100]\tcv_agg's l2: 0.137604 + 0.028626\n",
      "[200]\tcv_agg's l2: 0.134148 + 0.0281523\n",
      "[300]\tcv_agg's l2: 0.133723 + 0.0275728\n",
      "[400]\tcv_agg's l2: 0.133067 + 0.0273231\n",
      "[500]\tcv_agg's l2: 0.132938 + 0.0273618\n"
     ]
    },
    {
     "name": "stderr",
     "output_type": "stream",
     "text": [
      "bagging, val_score: 0.128601:  80%|##########################################4          | 8/10 [00:41<00:10,  5.10s/it][I 2023-11-25 18:09:57,246] Trial 34 finished with value: 0.1329107595476279 and parameters: {'bagging_fraction': 0.9987620563594353, 'bagging_freq': 7}. Best is trial 33 with value: 0.12860133304839808.\n",
      "bagging, val_score: 0.128601:  80%|##########################################4          | 8/10 [00:41<00:10,  5.10s/it]"
     ]
    },
    {
     "name": "stdout",
     "output_type": "stream",
     "text": [
      "Early stopping, best iteration is:\n",
      "[490]\tcv_agg's l2: 0.128601 + 0.0296503\n",
      "[100]\tcv_agg's l2: 0.141162 + 0.0329632\n",
      "[200]\tcv_agg's l2: 0.136695 + 0.0320581\n",
      "[300]\tcv_agg's l2: 0.135366 + 0.0318377\n",
      "[400]\tcv_agg's l2: 0.135116 + 0.0318086\n",
      "[500]\tcv_agg's l2: 0.135052 + 0.0319163\n"
     ]
    },
    {
     "name": "stderr",
     "output_type": "stream",
     "text": [
      "bagging, val_score: 0.128601:  90%|###############################################7     | 9/10 [00:46<00:04,  4.95s/it][I 2023-11-25 18:10:01,876] Trial 35 finished with value: 0.13499754071536266 and parameters: {'bagging_fraction': 0.9868026863075289, 'bagging_freq': 7}. Best is trial 33 with value: 0.12860133304839808.\n",
      "bagging, val_score: 0.128601:  90%|###############################################7     | 9/10 [00:46<00:04,  4.95s/it]"
     ]
    },
    {
     "name": "stdout",
     "output_type": "stream",
     "text": [
      "Early stopping, best iteration is:\n",
      "[490]\tcv_agg's l2: 0.128601 + 0.0296503\n",
      "[100]\tcv_agg's l2: 0.143348 + 0.0331074\n",
      "[200]\tcv_agg's l2: 0.139801 + 0.0340167\n",
      "[300]\tcv_agg's l2: 0.139173 + 0.0327359\n",
      "[400]\tcv_agg's l2: 0.138815 + 0.032626\n",
      "[500]\tcv_agg's l2: 0.138623 + 0.032646\n"
     ]
    },
    {
     "name": "stderr",
     "output_type": "stream",
     "text": [
      "bagging, val_score: 0.128601: 100%|####################################################| 10/10 [00:50<00:00,  4.72s/it][I 2023-11-25 18:10:06,070] Trial 36 finished with value: 0.13860477559471823 and parameters: {'bagging_fraction': 0.8652572903560463, 'bagging_freq': 5}. Best is trial 33 with value: 0.12860133304839808.\n",
      "bagging, val_score: 0.128601: 100%|####################################################| 10/10 [00:50<00:00,  5.08s/it]\n"
     ]
    },
    {
     "name": "stdout",
     "output_type": "stream",
     "text": [
      "Early stopping, best iteration is:\n",
      "[490]\tcv_agg's l2: 0.128601 + 0.0296503\n"
     ]
    },
    {
     "name": "stderr",
     "output_type": "stream",
     "text": [
      "feature_fraction_stage2, val_score: 0.128601:   0%|                                              | 0/6 [00:00<?, ?it/s]"
     ]
    },
    {
     "name": "stdout",
     "output_type": "stream",
     "text": [
      "[100]\tcv_agg's l2: 0.134316 + 0.030836\n",
      "[200]\tcv_agg's l2: 0.129659 + 0.0284486\n",
      "[300]\tcv_agg's l2: 0.12913 + 0.0278157\n",
      "[400]\tcv_agg's l2: 0.128749 + 0.0274549\n",
      "[500]\tcv_agg's l2: 0.128369 + 0.0274996\n",
      "[600]\tcv_agg's l2: 0.128141 + 0.0275304\n",
      "[700]\tcv_agg's l2: 0.128106 + 0.0273973\n",
      "[800]\tcv_agg's l2: 0.128169 + 0.0274351\n",
      "Early stopping, best iteration is:\n",
      "[725]\tcv_agg's l2: 0.128091 + 0.0273809\n"
     ]
    },
    {
     "name": "stderr",
     "output_type": "stream",
     "text": [
      "feature_fraction_stage2, val_score: 0.128091:  17%|######3                               | 1/6 [00:06<00:32,  6.45s/it][I 2023-11-25 18:10:12,531] Trial 37 finished with value: 0.12809134729014787 and parameters: {'feature_fraction': 0.58}. Best is trial 37 with value: 0.12809134729014787.\n",
      "feature_fraction_stage2, val_score: 0.128091:  17%|######3                               | 1/6 [00:06<00:32,  6.45s/it]"
     ]
    },
    {
     "name": "stdout",
     "output_type": "stream",
     "text": [
      "[100]\tcv_agg's l2: 0.134826 + 0.0289074\n",
      "[200]\tcv_agg's l2: 0.131332 + 0.026762\n",
      "[300]\tcv_agg's l2: 0.130742 + 0.0266061\n",
      "[400]\tcv_agg's l2: 0.13035 + 0.0266423\n",
      "[500]\tcv_agg's l2: 0.130047 + 0.0263097\n",
      "[600]\tcv_agg's l2: 0.129989 + 0.0263802\n",
      "[700]\tcv_agg's l2: 0.130044 + 0.0263491\n"
     ]
    },
    {
     "name": "stderr",
     "output_type": "stream",
     "text": [
      "\r",
      "feature_fraction_stage2, val_score: 0.128091:  17%|######3                               | 1/6 [00:13<00:32,  6.45s/it]"
     ]
    },
    {
     "name": "stdout",
     "output_type": "stream",
     "text": [
      "[800]\tcv_agg's l2: 0.130085 + 0.0262881\n",
      "Early stopping, best iteration is:\n",
      "[725]\tcv_agg's l2: 0.128091 + 0.0273809\n"
     ]
    },
    {
     "name": "stderr",
     "output_type": "stream",
     "text": [
      "feature_fraction_stage2, val_score: 0.128091:  33%|############6                         | 2/6 [00:13<00:26,  6.73s/it][I 2023-11-25 18:10:19,457] Trial 38 finished with value: 0.13007164256865694 and parameters: {'feature_fraction': 0.484}. Best is trial 37 with value: 0.12809134729014787.\n",
      "feature_fraction_stage2, val_score: 0.128091:  33%|############6                         | 2/6 [00:13<00:26,  6.73s/it]"
     ]
    },
    {
     "name": "stdout",
     "output_type": "stream",
     "text": [
      "[100]\tcv_agg's l2: 0.138443 + 0.0365501\n",
      "[200]\tcv_agg's l2: 0.132987 + 0.0344077\n",
      "[300]\tcv_agg's l2: 0.131887 + 0.0339369\n",
      "[400]\tcv_agg's l2: 0.131435 + 0.0340499\n",
      "[500]\tcv_agg's l2: 0.131244 + 0.0339114\n",
      "[600]\tcv_agg's l2: 0.131021 + 0.033684\n",
      "[700]\tcv_agg's l2: 0.131005 + 0.0337076\n",
      "[800]\tcv_agg's l2: 0.131041 + 0.0335861\n"
     ]
    },
    {
     "name": "stderr",
     "output_type": "stream",
     "text": [
      "feature_fraction_stage2, val_score: 0.128091:  50%|###################                   | 3/6 [00:19<00:19,  6.62s/it][I 2023-11-25 18:10:25,951] Trial 39 finished with value: 0.13101048076047744 and parameters: {'feature_fraction': 0.42}. Best is trial 37 with value: 0.12809134729014787.\n",
      "feature_fraction_stage2, val_score: 0.128091:  50%|###################                   | 3/6 [00:19<00:19,  6.62s/it]"
     ]
    },
    {
     "name": "stdout",
     "output_type": "stream",
     "text": [
      "Early stopping, best iteration is:\n",
      "[725]\tcv_agg's l2: 0.128091 + 0.0273809\n",
      "[100]\tcv_agg's l2: 0.137827 + 0.0301828\n",
      "[200]\tcv_agg's l2: 0.133155 + 0.0287755\n",
      "[300]\tcv_agg's l2: 0.13249 + 0.0281134\n",
      "[400]\tcv_agg's l2: 0.132086 + 0.028122\n",
      "[500]\tcv_agg's l2: 0.132189 + 0.0281531\n",
      "[600]\tcv_agg's l2: 0.132051 + 0.0281579\n",
      "[700]\tcv_agg's l2: 0.132054 + 0.0280029\n",
      "[800]\tcv_agg's l2: 0.132047 + 0.0279883\n",
      "Early stopping, best iteration is:\n",
      "[725]\tcv_agg's l2: 0.128091 + 0.0273809\n"
     ]
    },
    {
     "name": "stderr",
     "output_type": "stream",
     "text": [
      "feature_fraction_stage2, val_score: 0.128091:  67%|#########################3            | 4/6 [00:26<00:12,  6.50s/it][I 2023-11-25 18:10:32,252] Trial 40 finished with value: 0.13204526687349052 and parameters: {'feature_fraction': 0.45199999999999996}. Best is trial 37 with value: 0.12809134729014787.\n",
      "feature_fraction_stage2, val_score: 0.128091:  67%|#########################3            | 4/6 [00:26<00:12,  6.50s/it]"
     ]
    },
    {
     "name": "stdout",
     "output_type": "stream",
     "text": [
      "[100]\tcv_agg's l2: 0.134726 + 0.0297255\n",
      "[200]\tcv_agg's l2: 0.130105 + 0.0286258\n",
      "[300]\tcv_agg's l2: 0.129265 + 0.0285408\n",
      "[400]\tcv_agg's l2: 0.1292 + 0.0288877\n",
      "[500]\tcv_agg's l2: 0.129001 + 0.0287721\n",
      "[600]\tcv_agg's l2: 0.128938 + 0.0287901\n",
      "[700]\tcv_agg's l2: 0.128874 + 0.0287391\n"
     ]
    },
    {
     "name": "stderr",
     "output_type": "stream",
     "text": [
      "\r",
      "feature_fraction_stage2, val_score: 0.128091:  67%|#########################3            | 4/6 [00:32<00:12,  6.50s/it]"
     ]
    },
    {
     "name": "stdout",
     "output_type": "stream",
     "text": [
      "[800]\tcv_agg's l2: 0.128954 + 0.0288331\n",
      "Early stopping, best iteration is:\n",
      "[725]\tcv_agg's l2: 0.128091 + 0.0273809\n"
     ]
    },
    {
     "name": "stderr",
     "output_type": "stream",
     "text": [
      "feature_fraction_stage2, val_score: 0.128091:  83%|###############################6      | 5/6 [00:32<00:06,  6.44s/it][I 2023-11-25 18:10:38,606] Trial 41 finished with value: 0.1289228184448012 and parameters: {'feature_fraction': 0.516}. Best is trial 37 with value: 0.12809134729014787.\n",
      "feature_fraction_stage2, val_score: 0.128091:  83%|###############################6      | 5/6 [00:32<00:06,  6.44s/it]"
     ]
    },
    {
     "name": "stdout",
     "output_type": "stream",
     "text": [
      "[100]\tcv_agg's l2: 0.136944 + 0.0304376\n",
      "[200]\tcv_agg's l2: 0.133011 + 0.0295109\n",
      "[300]\tcv_agg's l2: 0.132038 + 0.0286838\n",
      "[400]\tcv_agg's l2: 0.131956 + 0.0286919\n",
      "[500]\tcv_agg's l2: 0.131557 + 0.0283627\n",
      "[600]\tcv_agg's l2: 0.131528 + 0.0282936\n",
      "[700]\tcv_agg's l2: 0.131483 + 0.0284375\n",
      "[800]\tcv_agg's l2: 0.131514 + 0.0284693\n"
     ]
    },
    {
     "name": "stderr",
     "output_type": "stream",
     "text": [
      "feature_fraction_stage2, val_score: 0.128091: 100%|######################################| 6/6 [00:39<00:00,  6.47s/it][I 2023-11-25 18:10:45,111] Trial 42 finished with value: 0.13152533824661417 and parameters: {'feature_fraction': 0.5479999999999999}. Best is trial 37 with value: 0.12809134729014787.\n",
      "feature_fraction_stage2, val_score: 0.128091: 100%|######################################| 6/6 [00:39<00:00,  6.51s/it]\n"
     ]
    },
    {
     "name": "stdout",
     "output_type": "stream",
     "text": [
      "Early stopping, best iteration is:\n",
      "[725]\tcv_agg's l2: 0.128091 + 0.0273809\n"
     ]
    },
    {
     "name": "stderr",
     "output_type": "stream",
     "text": [
      "regularization_factors, val_score: 0.128091:   0%|                                              | 0/20 [00:00<?, ?it/s]"
     ]
    },
    {
     "name": "stdout",
     "output_type": "stream",
     "text": [
      "[100]\tcv_agg's l2: 0.146192 + 0.0331048\n",
      "[200]\tcv_agg's l2: 0.141051 + 0.0316809\n",
      "[300]\tcv_agg's l2: 0.140505 + 0.0317974\n",
      "[400]\tcv_agg's l2: 0.140505 + 0.0317974\n",
      "[500]\tcv_agg's l2: 0.140505 + 0.0317974\n",
      "[600]\tcv_agg's l2: 0.140505 + 0.0317974\n"
     ]
    },
    {
     "name": "stderr",
     "output_type": "stream",
     "text": [
      "\r",
      "regularization_factors, val_score: 0.128091:   0%|                                              | 0/20 [00:02<?, ?it/s]"
     ]
    },
    {
     "name": "stdout",
     "output_type": "stream",
     "text": [
      "[700]\tcv_agg's l2: 0.140505 + 0.0317974\n",
      "[800]\tcv_agg's l2: 0.140505 + 0.0317974\n",
      "Early stopping, best iteration is:\n",
      "[725]\tcv_agg's l2: 0.128091 + 0.0273809\n"
     ]
    },
    {
     "name": "stderr",
     "output_type": "stream",
     "text": [
      "regularization_factors, val_score: 0.128091:   5%|#9                                    | 1/20 [00:02<00:44,  2.33s/it][I 2023-11-25 18:10:47,453] Trial 43 finished with value: 0.14050473556223902 and parameters: {'lambda_l1': 1.0247936466389826, 'lambda_l2': 0.5147338597204155}. Best is trial 43 with value: 0.14050473556223902.\n",
      "regularization_factors, val_score: 0.128091:   5%|#9                                    | 1/20 [00:02<00:44,  2.33s/it]"
     ]
    },
    {
     "name": "stdout",
     "output_type": "stream",
     "text": [
      "[100]\tcv_agg's l2: 0.134316 + 0.030836\n",
      "[200]\tcv_agg's l2: 0.129659 + 0.0284486\n",
      "[300]\tcv_agg's l2: 0.128789 + 0.0281505\n",
      "[400]\tcv_agg's l2: 0.128352 + 0.0279221\n",
      "[500]\tcv_agg's l2: 0.128136 + 0.0278545\n",
      "[600]\tcv_agg's l2: 0.127959 + 0.0278426\n",
      "[700]\tcv_agg's l2: 0.127859 + 0.0277753\n",
      "[800]\tcv_agg's l2: 0.127865 + 0.0278652\n"
     ]
    },
    {
     "name": "stderr",
     "output_type": "stream",
     "text": [
      "regularization_factors, val_score: 0.127815:  10%|###8                                  | 2/20 [00:09<01:32,  5.16s/it][I 2023-11-25 18:10:54,597] Trial 44 finished with value: 0.12781512671226225 and parameters: {'lambda_l1': 1.3564797964570913e-08, 'lambda_l2': 1.3137786009296132e-08}. Best is trial 44 with value: 0.12781512671226225.\n",
      "regularization_factors, val_score: 0.127815:  10%|###8                                  | 2/20 [00:09<01:32,  5.16s/it]"
     ]
    },
    {
     "name": "stdout",
     "output_type": "stream",
     "text": [
      "Early stopping, best iteration is:\n",
      "[776]\tcv_agg's l2: 0.127815 + 0.0278173\n",
      "[100]\tcv_agg's l2: 0.134316 + 0.030836\n",
      "[200]\tcv_agg's l2: 0.129659 + 0.0284486\n",
      "[300]\tcv_agg's l2: 0.128789 + 0.0281505\n",
      "[400]\tcv_agg's l2: 0.128352 + 0.0279221\n",
      "[500]\tcv_agg's l2: 0.128136 + 0.0278545\n",
      "[600]\tcv_agg's l2: 0.127959 + 0.0278426\n",
      "[700]\tcv_agg's l2: 0.127859 + 0.0277753\n",
      "[800]\tcv_agg's l2: 0.127863 + 0.0278665\n"
     ]
    },
    {
     "name": "stderr",
     "output_type": "stream",
     "text": [
      "regularization_factors, val_score: 0.127815:  15%|#####7                                | 3/20 [00:15<01:38,  5.77s/it][I 2023-11-25 18:11:01,098] Trial 45 finished with value: 0.12781881212203344 and parameters: {'lambda_l1': 1.6873277368363323e-08, 'lambda_l2': 1.7677984855617166e-08}. Best is trial 44 with value: 0.12781512671226225.\n",
      "regularization_factors, val_score: 0.127815:  15%|#####7                                | 3/20 [00:15<01:38,  5.77s/it]"
     ]
    },
    {
     "name": "stdout",
     "output_type": "stream",
     "text": [
      "Early stopping, best iteration is:\n",
      "[776]\tcv_agg's l2: 0.127815 + 0.0278173\n",
      "[100]\tcv_agg's l2: 0.134316 + 0.030836\n",
      "[200]\tcv_agg's l2: 0.129659 + 0.0284486\n",
      "[300]\tcv_agg's l2: 0.128789 + 0.0281505\n",
      "[400]\tcv_agg's l2: 0.128352 + 0.0279221\n",
      "[500]\tcv_agg's l2: 0.128136 + 0.0278545\n",
      "[600]\tcv_agg's l2: 0.127959 + 0.0278426\n",
      "[700]\tcv_agg's l2: 0.127859 + 0.0277753\n",
      "[800]\tcv_agg's l2: 0.127865 + 0.0278652\n"
     ]
    },
    {
     "name": "stderr",
     "output_type": "stream",
     "text": [
      "regularization_factors, val_score: 0.127815:  20%|#######6                              | 4/20 [00:22<01:35,  5.97s/it][I 2023-11-25 18:11:07,373] Trial 46 finished with value: 0.12781512608582032 and parameters: {'lambda_l1': 1.3018668475036848e-08, 'lambda_l2': 2.5074024976365225e-08}. Best is trial 46 with value: 0.12781512608582032.\n",
      "regularization_factors, val_score: 0.127815:  20%|#######6                              | 4/20 [00:22<01:35,  5.97s/it]"
     ]
    },
    {
     "name": "stdout",
     "output_type": "stream",
     "text": [
      "Early stopping, best iteration is:\n",
      "[776]\tcv_agg's l2: 0.127815 + 0.0278173\n",
      "[100]\tcv_agg's l2: 0.134316 + 0.030836\n",
      "[200]\tcv_agg's l2: 0.129659 + 0.0284486\n",
      "[300]\tcv_agg's l2: 0.128789 + 0.0281505\n",
      "[400]\tcv_agg's l2: 0.128352 + 0.0279221\n",
      "[500]\tcv_agg's l2: 0.128136 + 0.0278545\n",
      "[600]\tcv_agg's l2: 0.127959 + 0.0278426\n",
      "[700]\tcv_agg's l2: 0.127859 + 0.0277753\n",
      "[800]\tcv_agg's l2: 0.127863 + 0.0278665\n"
     ]
    },
    {
     "name": "stderr",
     "output_type": "stream",
     "text": [
      "regularization_factors, val_score: 0.127815:  25%|#########5                            | 5/20 [00:28<01:31,  6.10s/it][I 2023-11-25 18:11:13,693] Trial 47 finished with value: 0.12781881149345672 and parameters: {'lambda_l1': 1.984284776833142e-08, 'lambda_l2': 1.916817158474481e-08}. Best is trial 46 with value: 0.12781512608582032.\n",
      "regularization_factors, val_score: 0.127815:  25%|#########5                            | 5/20 [00:28<01:31,  6.10s/it]"
     ]
    },
    {
     "name": "stdout",
     "output_type": "stream",
     "text": [
      "Early stopping, best iteration is:\n",
      "[776]\tcv_agg's l2: 0.127815 + 0.0278173\n",
      "[100]\tcv_agg's l2: 0.134316 + 0.030836\n",
      "[200]\tcv_agg's l2: 0.129659 + 0.0284486\n",
      "[300]\tcv_agg's l2: 0.128789 + 0.0281505\n",
      "[400]\tcv_agg's l2: 0.128352 + 0.0279221\n",
      "[500]\tcv_agg's l2: 0.128136 + 0.0278545\n",
      "[600]\tcv_agg's l2: 0.127959 + 0.0278426\n",
      "[700]\tcv_agg's l2: 0.127859 + 0.0277753\n",
      "[800]\tcv_agg's l2: 0.127865 + 0.0278652\n"
     ]
    },
    {
     "name": "stderr",
     "output_type": "stream",
     "text": [
      "regularization_factors, val_score: 0.127815:  30%|###########4                          | 6/20 [00:34<01:26,  6.17s/it][I 2023-11-25 18:11:19,999] Trial 48 finished with value: 0.12781512618711272 and parameters: {'lambda_l1': 1.1353375590718572e-08, 'lambda_l2': 1.1963319247521536e-08}. Best is trial 46 with value: 0.12781512608582032.\n",
      "regularization_factors, val_score: 0.127815:  30%|###########4                          | 6/20 [00:34<01:26,  6.17s/it]"
     ]
    },
    {
     "name": "stdout",
     "output_type": "stream",
     "text": [
      "Early stopping, best iteration is:\n",
      "[776]\tcv_agg's l2: 0.127815 + 0.0278173\n",
      "[100]\tcv_agg's l2: 0.134316 + 0.030836\n",
      "[200]\tcv_agg's l2: 0.129659 + 0.0284486\n",
      "[300]\tcv_agg's l2: 0.128789 + 0.0281505\n",
      "[400]\tcv_agg's l2: 0.128352 + 0.0279221\n",
      "[500]\tcv_agg's l2: 0.128136 + 0.0278545\n",
      "[600]\tcv_agg's l2: 0.127959 + 0.0278426\n",
      "[700]\tcv_agg's l2: 0.127859 + 0.0277753\n",
      "[800]\tcv_agg's l2: 0.127865 + 0.0278652\n"
     ]
    },
    {
     "name": "stderr",
     "output_type": "stream",
     "text": [
      "regularization_factors, val_score: 0.127815:  35%|#############3                        | 7/20 [00:41<01:21,  6.29s/it][I 2023-11-25 18:11:26,529] Trial 49 finished with value: 0.1278151261677056 and parameters: {'lambda_l1': 1.195438958720413e-08, 'lambda_l2': 1.650127942921752e-08}. Best is trial 46 with value: 0.12781512608582032.\n",
      "regularization_factors, val_score: 0.127815:  35%|#############3                        | 7/20 [00:41<01:21,  6.29s/it]"
     ]
    },
    {
     "name": "stdout",
     "output_type": "stream",
     "text": [
      "Early stopping, best iteration is:\n",
      "[776]\tcv_agg's l2: 0.127815 + 0.0278173\n",
      "[100]\tcv_agg's l2: 0.134316 + 0.030836\n",
      "[200]\tcv_agg's l2: 0.129659 + 0.0284486\n",
      "[300]\tcv_agg's l2: 0.128789 + 0.0281505\n",
      "[400]\tcv_agg's l2: 0.128352 + 0.0279221\n",
      "[500]\tcv_agg's l2: 0.128136 + 0.0278545\n",
      "[600]\tcv_agg's l2: 0.127959 + 0.0278426\n",
      "[700]\tcv_agg's l2: 0.127859 + 0.0277753\n",
      "[800]\tcv_agg's l2: 0.127865 + 0.0278652\n"
     ]
    },
    {
     "name": "stderr",
     "output_type": "stream",
     "text": [
      "regularization_factors, val_score: 0.127815:  40%|###############2                      | 8/20 [00:48<01:17,  6.45s/it][I 2023-11-25 18:11:33,315] Trial 50 finished with value: 0.1278151261655772 and parameters: {'lambda_l1': 1.0637644871805066e-08, 'lambda_l2': 1.502399240212208e-08}. Best is trial 46 with value: 0.12781512608582032.\n",
      "regularization_factors, val_score: 0.127815:  40%|###############2                      | 8/20 [00:48<01:17,  6.45s/it]"
     ]
    },
    {
     "name": "stdout",
     "output_type": "stream",
     "text": [
      "Early stopping, best iteration is:\n",
      "[776]\tcv_agg's l2: 0.127815 + 0.0278173\n",
      "[100]\tcv_agg's l2: 0.134316 + 0.030836\n",
      "[200]\tcv_agg's l2: 0.129659 + 0.0284486\n",
      "[300]\tcv_agg's l2: 0.128789 + 0.0281505\n",
      "[400]\tcv_agg's l2: 0.128352 + 0.0279221\n",
      "[500]\tcv_agg's l2: 0.128136 + 0.0278545\n",
      "[600]\tcv_agg's l2: 0.127959 + 0.0278426\n",
      "[700]\tcv_agg's l2: 0.127859 + 0.0277753\n",
      "[800]\tcv_agg's l2: 0.127865 + 0.0278652\n"
     ]
    },
    {
     "name": "stderr",
     "output_type": "stream",
     "text": [
      "regularization_factors, val_score: 0.127815:  45%|#################1                    | 9/20 [00:54<01:11,  6.50s/it][I 2023-11-25 18:11:39,921] Trial 51 finished with value: 0.12781512618850605 and parameters: {'lambda_l1': 1.0032794158737296e-08, 'lambda_l2': 1.2415051400760543e-08}. Best is trial 46 with value: 0.12781512608582032.\n",
      "regularization_factors, val_score: 0.127815:  45%|#################1                    | 9/20 [00:54<01:11,  6.50s/it]"
     ]
    },
    {
     "name": "stdout",
     "output_type": "stream",
     "text": [
      "Early stopping, best iteration is:\n",
      "[776]\tcv_agg's l2: 0.127815 + 0.0278173\n",
      "[100]\tcv_agg's l2: 0.134316 + 0.030836\n",
      "[200]\tcv_agg's l2: 0.129659 + 0.0284486\n",
      "[300]\tcv_agg's l2: 0.128789 + 0.0281505\n",
      "[400]\tcv_agg's l2: 0.128352 + 0.0279221\n",
      "[500]\tcv_agg's l2: 0.128136 + 0.0278545\n",
      "[600]\tcv_agg's l2: 0.127959 + 0.0278426\n",
      "[700]\tcv_agg's l2: 0.127859 + 0.0277753\n",
      "[800]\tcv_agg's l2: 0.127865 + 0.0278652\n"
     ]
    },
    {
     "name": "stderr",
     "output_type": "stream",
     "text": [
      "regularization_factors, val_score: 0.127815:  50%|##################5                  | 10/20 [01:01<01:04,  6.47s/it][I 2023-11-25 18:11:46,348] Trial 52 finished with value: 0.12781512618071766 and parameters: {'lambda_l1': 1.233205788814801e-08, 'lambda_l2': 1.2267860629456487e-08}. Best is trial 46 with value: 0.12781512608582032.\n",
      "regularization_factors, val_score: 0.127815:  50%|##################5                  | 10/20 [01:01<01:04,  6.47s/it]"
     ]
    },
    {
     "name": "stdout",
     "output_type": "stream",
     "text": [
      "Early stopping, best iteration is:\n",
      "[776]\tcv_agg's l2: 0.127815 + 0.0278173\n",
      "[100]\tcv_agg's l2: 0.134316 + 0.030836\n",
      "[200]\tcv_agg's l2: 0.129659 + 0.0284486\n",
      "[300]\tcv_agg's l2: 0.128789 + 0.0281505\n",
      "[400]\tcv_agg's l2: 0.128352 + 0.0279221\n",
      "[500]\tcv_agg's l2: 0.128136 + 0.0278545\n",
      "[600]\tcv_agg's l2: 0.127959 + 0.0278426\n",
      "[700]\tcv_agg's l2: 0.127859 + 0.0277753\n",
      "[800]\tcv_agg's l2: 0.127865 + 0.0278652\n"
     ]
    },
    {
     "name": "stderr",
     "output_type": "stream",
     "text": [
      "regularization_factors, val_score: 0.127815:  55%|####################3                | 11/20 [01:08<00:59,  6.58s/it][I 2023-11-25 18:11:53,164] Trial 53 finished with value: 0.12781512620757438 and parameters: {'lambda_l1': 1.018592368991604e-08, 'lambda_l2': 1.1139729602641109e-08}. Best is trial 46 with value: 0.12781512608582032.\n",
      "regularization_factors, val_score: 0.127815:  55%|####################3                | 11/20 [01:08<00:59,  6.58s/it]"
     ]
    },
    {
     "name": "stdout",
     "output_type": "stream",
     "text": [
      "Early stopping, best iteration is:\n",
      "[776]\tcv_agg's l2: 0.127815 + 0.0278173\n",
      "[100]\tcv_agg's l2: 0.134316 + 0.030836\n",
      "[200]\tcv_agg's l2: 0.129659 + 0.0284486\n",
      "[300]\tcv_agg's l2: 0.128789 + 0.0281505\n",
      "[400]\tcv_agg's l2: 0.128352 + 0.0279221\n",
      "[500]\tcv_agg's l2: 0.128136 + 0.0278545\n",
      "[600]\tcv_agg's l2: 0.127959 + 0.0278426\n",
      "[700]\tcv_agg's l2: 0.127859 + 0.0277753\n",
      "[800]\tcv_agg's l2: 0.127865 + 0.0278652\n"
     ]
    },
    {
     "name": "stderr",
     "output_type": "stream",
     "text": [
      "regularization_factors, val_score: 0.127815:  60%|######################2              | 12/20 [01:14<00:52,  6.51s/it][I 2023-11-25 18:11:59,529] Trial 54 finished with value: 0.12781512619615984 and parameters: {'lambda_l1': 1.1094828180143722e-08, 'lambda_l2': 1.1102185651040733e-08}. Best is trial 46 with value: 0.12781512608582032.\n",
      "regularization_factors, val_score: 0.127815:  60%|######################2              | 12/20 [01:14<00:52,  6.51s/it]"
     ]
    },
    {
     "name": "stdout",
     "output_type": "stream",
     "text": [
      "Early stopping, best iteration is:\n",
      "[776]\tcv_agg's l2: 0.127815 + 0.0278173\n",
      "[100]\tcv_agg's l2: 0.134316 + 0.030836\n",
      "[200]\tcv_agg's l2: 0.129659 + 0.0284486\n",
      "[300]\tcv_agg's l2: 0.128789 + 0.0281505\n",
      "[400]\tcv_agg's l2: 0.128352 + 0.0279221\n",
      "[500]\tcv_agg's l2: 0.128136 + 0.0278545\n",
      "[600]\tcv_agg's l2: 0.127959 + 0.0278426\n",
      "[700]\tcv_agg's l2: 0.127859 + 0.0277753\n",
      "[800]\tcv_agg's l2: 0.127865 + 0.0278652\n"
     ]
    },
    {
     "name": "stderr",
     "output_type": "stream",
     "text": [
      "regularization_factors, val_score: 0.127815:  65%|########################             | 13/20 [01:21<00:46,  6.59s/it][I 2023-11-25 18:12:06,293] Trial 55 finished with value: 0.12781512671051712 and parameters: {'lambda_l1': 1.4086753820563311e-08, 'lambda_l2': 1.6723225566382205e-08}. Best is trial 46 with value: 0.12781512608582032.\n",
      "regularization_factors, val_score: 0.127815:  65%|########################             | 13/20 [01:21<00:46,  6.59s/it]"
     ]
    },
    {
     "name": "stdout",
     "output_type": "stream",
     "text": [
      "Early stopping, best iteration is:\n",
      "[776]\tcv_agg's l2: 0.127815 + 0.0278173\n",
      "[100]\tcv_agg's l2: 0.135013 + 0.0300119\n",
      "[200]\tcv_agg's l2: 0.130304 + 0.0276897\n",
      "[300]\tcv_agg's l2: 0.129388 + 0.0274387\n",
      "[400]\tcv_agg's l2: 0.129251 + 0.0271315\n",
      "[500]\tcv_agg's l2: 0.12899 + 0.0269695\n",
      "[600]\tcv_agg's l2: 0.128741 + 0.0269483\n",
      "[700]\tcv_agg's l2: 0.128789 + 0.0269272\n",
      "[800]\tcv_agg's l2: 0.128799 + 0.0268996\n"
     ]
    },
    {
     "name": "stderr",
     "output_type": "stream",
     "text": [
      "regularization_factors, val_score: 0.127815:  70%|#########################9           | 14/20 [01:28<00:40,  6.79s/it][I 2023-11-25 18:12:13,539] Trial 56 finished with value: 0.12876800496283464 and parameters: {'lambda_l1': 4.097726945076418e-07, 'lambda_l2': 3.504902984553808e-07}. Best is trial 46 with value: 0.12781512608582032.\n",
      "regularization_factors, val_score: 0.127815:  70%|#########################9           | 14/20 [01:28<00:40,  6.79s/it]"
     ]
    },
    {
     "name": "stdout",
     "output_type": "stream",
     "text": [
      "Early stopping, best iteration is:\n",
      "[776]\tcv_agg's l2: 0.127815 + 0.0278173\n",
      "[100]\tcv_agg's l2: 0.135013 + 0.0300119\n",
      "[200]\tcv_agg's l2: 0.130304 + 0.0276897\n",
      "[300]\tcv_agg's l2: 0.129388 + 0.0274387\n",
      "[400]\tcv_agg's l2: 0.129251 + 0.0271315\n",
      "[500]\tcv_agg's l2: 0.128948 + 0.0270032\n",
      "[600]\tcv_agg's l2: 0.128773 + 0.0269226\n",
      "[700]\tcv_agg's l2: 0.128735 + 0.026945\n",
      "[800]\tcv_agg's l2: 0.128714 + 0.0269574\n"
     ]
    },
    {
     "name": "stderr",
     "output_type": "stream",
     "text": [
      "regularization_factors, val_score: 0.127815:  75%|###########################7         | 15/20 [01:35<00:34,  6.81s/it][I 2023-11-25 18:12:20,400] Trial 57 finished with value: 0.1286754061146924 and parameters: {'lambda_l1': 7.378575099784752e-07, 'lambda_l2': 8.457715526185749e-07}. Best is trial 46 with value: 0.12781512608582032.\n",
      "regularization_factors, val_score: 0.127815:  75%|###########################7         | 15/20 [01:35<00:34,  6.81s/it]"
     ]
    },
    {
     "name": "stdout",
     "output_type": "stream",
     "text": [
      "Early stopping, best iteration is:\n",
      "[776]\tcv_agg's l2: 0.127815 + 0.0278173\n",
      "[100]\tcv_agg's l2: 0.135013 + 0.0300119\n",
      "[200]\tcv_agg's l2: 0.130256 + 0.0277291\n",
      "[300]\tcv_agg's l2: 0.12936 + 0.0274613\n",
      "[400]\tcv_agg's l2: 0.129132 + 0.0272283\n",
      "[500]\tcv_agg's l2: 0.128839 + 0.0270918\n",
      "[600]\tcv_agg's l2: 0.128646 + 0.027026\n",
      "[700]\tcv_agg's l2: 0.12865 + 0.0270403\n",
      "[800]\tcv_agg's l2: 0.128617 + 0.0270641\n"
     ]
    },
    {
     "name": "stderr",
     "output_type": "stream",
     "text": [
      "regularization_factors, val_score: 0.127815:  80%|#############################6       | 16/20 [01:42<00:27,  6.86s/it][I 2023-11-25 18:12:27,393] Trial 58 finished with value: 0.1286063078256537 and parameters: {'lambda_l1': 2.9440436488288334e-07, 'lambda_l2': 4.715692495679857e-07}. Best is trial 46 with value: 0.12781512608582032.\n",
      "regularization_factors, val_score: 0.127815:  80%|#############################6       | 16/20 [01:42<00:27,  6.86s/it]"
     ]
    },
    {
     "name": "stdout",
     "output_type": "stream",
     "text": [
      "Early stopping, best iteration is:\n",
      "[776]\tcv_agg's l2: 0.127815 + 0.0278173\n",
      "[100]\tcv_agg's l2: 0.134316 + 0.030836\n",
      "[200]\tcv_agg's l2: 0.129659 + 0.0284486\n",
      "[300]\tcv_agg's l2: 0.128766 + 0.028171\n",
      "[400]\tcv_agg's l2: 0.128367 + 0.0281317\n",
      "[500]\tcv_agg's l2: 0.128117 + 0.0279449\n",
      "[600]\tcv_agg's l2: 0.127917 + 0.0278842\n",
      "[700]\tcv_agg's l2: 0.127903 + 0.0279302\n",
      "[800]\tcv_agg's l2: 0.12789 + 0.0279757\n"
     ]
    },
    {
     "name": "stderr",
     "output_type": "stream",
     "text": [
      "regularization_factors, val_score: 0.127815:  85%|###############################4     | 17/20 [01:49<00:20,  6.98s/it][I 2023-11-25 18:12:34,650] Trial 59 finished with value: 0.12787569908897414 and parameters: {'lambda_l1': 1.7090654385108377e-07, 'lambda_l2': 1.7203254267582527e-07}. Best is trial 46 with value: 0.12781512608582032.\n",
      "regularization_factors, val_score: 0.127815:  85%|###############################4     | 17/20 [01:49<00:20,  6.98s/it]"
     ]
    },
    {
     "name": "stdout",
     "output_type": "stream",
     "text": [
      "Early stopping, best iteration is:\n",
      "[776]\tcv_agg's l2: 0.127815 + 0.0278173\n",
      "[100]\tcv_agg's l2: 0.134316 + 0.030836\n",
      "[200]\tcv_agg's l2: 0.129659 + 0.0284486\n",
      "[300]\tcv_agg's l2: 0.128766 + 0.028171\n",
      "[400]\tcv_agg's l2: 0.128367 + 0.0281317\n",
      "[500]\tcv_agg's l2: 0.128117 + 0.0279449\n",
      "[600]\tcv_agg's l2: 0.127917 + 0.0278842\n",
      "[700]\tcv_agg's l2: 0.127903 + 0.0279302\n",
      "[800]\tcv_agg's l2: 0.12789 + 0.0279757\n"
     ]
    },
    {
     "name": "stderr",
     "output_type": "stream",
     "text": [
      "regularization_factors, val_score: 0.127815:  90%|#################################3   | 18/20 [01:56<00:13,  6.91s/it][I 2023-11-25 18:12:41,387] Trial 60 finished with value: 0.12787569920356873 and parameters: {'lambda_l1': 1.3396392553448762e-07, 'lambda_l2': 1.2561908327217386e-07}. Best is trial 46 with value: 0.12781512608582032.\n",
      "regularization_factors, val_score: 0.127815:  90%|#################################3   | 18/20 [01:56<00:13,  6.91s/it]"
     ]
    },
    {
     "name": "stdout",
     "output_type": "stream",
     "text": [
      "Early stopping, best iteration is:\n",
      "[776]\tcv_agg's l2: 0.127815 + 0.0278173\n",
      "[100]\tcv_agg's l2: 0.134316 + 0.030836\n",
      "[200]\tcv_agg's l2: 0.129659 + 0.0284486\n",
      "[300]\tcv_agg's l2: 0.128789 + 0.0281505\n",
      "[400]\tcv_agg's l2: 0.128352 + 0.0279221\n",
      "[500]\tcv_agg's l2: 0.128136 + 0.0278545\n",
      "[600]\tcv_agg's l2: 0.127959 + 0.0278426\n",
      "[700]\tcv_agg's l2: 0.127859 + 0.0277753\n",
      "[800]\tcv_agg's l2: 0.127865 + 0.0278652\n"
     ]
    },
    {
     "name": "stderr",
     "output_type": "stream",
     "text": [
      "regularization_factors, val_score: 0.127815:  95%|###################################1 | 19/20 [02:03<00:06,  6.89s/it][I 2023-11-25 18:12:48,244] Trial 61 finished with value: 0.12781512618084728 and parameters: {'lambda_l1': 1.0324393372506598e-08, 'lambda_l2': 1.0422147715130746e-08}. Best is trial 46 with value: 0.12781512608582032.\n",
      "regularization_factors, val_score: 0.127815:  95%|###################################1 | 19/20 [02:03<00:06,  6.89s/it]"
     ]
    },
    {
     "name": "stdout",
     "output_type": "stream",
     "text": [
      "Early stopping, best iteration is:\n",
      "[776]\tcv_agg's l2: 0.127815 + 0.0278173\n",
      "[100]\tcv_agg's l2: 0.134316 + 0.030836\n",
      "[200]\tcv_agg's l2: 0.129659 + 0.0284486\n",
      "[300]\tcv_agg's l2: 0.128789 + 0.0281505\n",
      "[400]\tcv_agg's l2: 0.128352 + 0.0279221\n",
      "[500]\tcv_agg's l2: 0.128136 + 0.0278545\n",
      "[600]\tcv_agg's l2: 0.127959 + 0.0278426\n",
      "[700]\tcv_agg's l2: 0.127859 + 0.0277753\n",
      "[800]\tcv_agg's l2: 0.127865 + 0.0278652\n"
     ]
    },
    {
     "name": "stderr",
     "output_type": "stream",
     "text": [
      "regularization_factors, val_score: 0.127815: 100%|#####################################| 20/20 [02:09<00:00,  6.83s/it][I 2023-11-25 18:12:54,914] Trial 62 finished with value: 0.12781512617423457 and parameters: {'lambda_l1': 1.0125481867756827e-08, 'lambda_l2': 1.4100775125363329e-08}. Best is trial 46 with value: 0.12781512608582032.\n",
      "regularization_factors, val_score: 0.127815: 100%|#####################################| 20/20 [02:09<00:00,  6.49s/it]\n"
     ]
    },
    {
     "name": "stdout",
     "output_type": "stream",
     "text": [
      "Early stopping, best iteration is:\n",
      "[776]\tcv_agg's l2: 0.127815 + 0.0278173\n"
     ]
    },
    {
     "name": "stderr",
     "output_type": "stream",
     "text": [
      "min_data_in_leaf, val_score: 0.127815:   0%|                                                     | 0/5 [00:00<?, ?it/s]"
     ]
    },
    {
     "name": "stdout",
     "output_type": "stream",
     "text": [
      "[100]\tcv_agg's l2: 0.119896 + 0.0217027\n",
      "[200]\tcv_agg's l2: 0.119827 + 0.0214952\n"
     ]
    },
    {
     "name": "stderr",
     "output_type": "stream",
     "text": [
      "min_data_in_leaf, val_score: 0.119520:  20%|#########                                    | 1/5 [00:02<00:08,  2.22s/it][I 2023-11-25 18:12:57,143] Trial 63 finished with value: 0.11951970270643175 and parameters: {'min_child_samples': 5}. Best is trial 63 with value: 0.11951970270643175.\n",
      "min_data_in_leaf, val_score: 0.119520:  20%|#########                                    | 1/5 [00:02<00:08,  2.22s/it]"
     ]
    },
    {
     "name": "stdout",
     "output_type": "stream",
     "text": [
      "Early stopping, best iteration is:\n",
      "[129]\tcv_agg's l2: 0.11952 + 0.0216207\n",
      "[100]\tcv_agg's l2: 0.71065 + 0.122893\n"
     ]
    },
    {
     "name": "stderr",
     "output_type": "stream",
     "text": [
      "min_data_in_leaf, val_score: 0.119520:  40%|##################                           | 2/5 [00:02<00:04,  1.35s/it][I 2023-11-25 18:12:57,876] Trial 64 finished with value: 0.6992801463839741 and parameters: {'min_child_samples': 100}. Best is trial 63 with value: 0.11951970270643175.\n",
      "min_data_in_leaf, val_score: 0.119520:  40%|##################                           | 2/5 [00:02<00:04,  1.35s/it]"
     ]
    },
    {
     "name": "stdout",
     "output_type": "stream",
     "text": [
      "[200]\tcv_agg's l2: 0.676496 + 0.130505\n",
      "Early stopping, best iteration is:\n",
      "[129]\tcv_agg's l2: 0.11952 + 0.0216207\n",
      "[100]\tcv_agg's l2: 0.221049 + 0.0519863\n"
     ]
    },
    {
     "name": "stderr",
     "output_type": "stream",
     "text": [
      "min_data_in_leaf, val_score: 0.119520:  60%|###########################                  | 3/5 [00:03<00:02,  1.19s/it][I 2023-11-25 18:12:58,890] Trial 65 finished with value: 0.21457739681329507 and parameters: {'min_child_samples': 50}. Best is trial 63 with value: 0.11951970270643175.\n",
      "min_data_in_leaf, val_score: 0.119520:  60%|###########################                  | 3/5 [00:03<00:02,  1.19s/it]"
     ]
    },
    {
     "name": "stdout",
     "output_type": "stream",
     "text": [
      "[200]\tcv_agg's l2: 0.208163 + 0.0497933\n",
      "Early stopping, best iteration is:\n",
      "[129]\tcv_agg's l2: 0.11952 + 0.0216207\n",
      "[100]\tcv_agg's l2: 0.123203 + 0.0240908\n",
      "[200]\tcv_agg's l2: 0.122454 + 0.0239903\n"
     ]
    },
    {
     "name": "stderr",
     "output_type": "stream",
     "text": [
      "min_data_in_leaf, val_score: 0.119520:  80%|####################################         | 4/5 [00:06<00:01,  1.59s/it][I 2023-11-25 18:13:01,089] Trial 66 finished with value: 0.12281227550634802 and parameters: {'min_child_samples': 10}. Best is trial 63 with value: 0.11951970270643175.\n",
      "min_data_in_leaf, val_score: 0.119520:  80%|####################################         | 4/5 [00:06<00:01,  1.59s/it]"
     ]
    },
    {
     "name": "stdout",
     "output_type": "stream",
     "text": [
      "Early stopping, best iteration is:\n",
      "[129]\tcv_agg's l2: 0.11952 + 0.0216207\n",
      "[100]\tcv_agg's l2: 0.15831 + 0.0448918\n"
     ]
    },
    {
     "name": "stderr",
     "output_type": "stream",
     "text": [
      "\r",
      "min_data_in_leaf, val_score: 0.119520:  80%|####################################         | 4/5 [00:07<00:01,  1.59s/it]"
     ]
    },
    {
     "name": "stdout",
     "output_type": "stream",
     "text": [
      "[200]\tcv_agg's l2: 0.152424 + 0.0422176\n",
      "Early stopping, best iteration is:\n",
      "[129]\tcv_agg's l2: 0.11952 + 0.0216207\n"
     ]
    },
    {
     "name": "stderr",
     "output_type": "stream",
     "text": [
      "min_data_in_leaf, val_score: 0.119520: 100%|#############################################| 5/5 [00:07<00:00,  1.56s/it][I 2023-11-25 18:13:02,601] Trial 67 finished with value: 0.15589555098210953 and parameters: {'min_child_samples': 25}. Best is trial 63 with value: 0.11951970270643175.\n",
      "min_data_in_leaf, val_score: 0.119520: 100%|#############################################| 5/5 [00:07<00:00,  1.54s/it]\n"
     ]
    }
   ],
   "source": [
    "import optuna.integration.lightgbm as lgb\n",
    "from lightgbm import early_stopping, log_evaluation\n",
    "from sklearn.model_selection import KFold\n",
    "from sklearn.model_selection import RepeatedKFold\n",
    "\n",
    "\n",
    "lgb_train = lgb.Dataset(X_train, y_train)\n",
    "\n",
    "params = {\n",
    "    \"boosting_type\": \"gbdt\",\n",
    "    \"objective\": \"regression\",\n",
    "    \"metric\": \"l2\",\n",
    "    \"verbosity\": -1,\n",
    "}\n",
    "\n",
    "tuner = lgb.LightGBMTunerCV(\n",
    "    params,\n",
    "    lgb_train,\n",
    "    folds=KFold(n_splits=5),\n",
    "    num_boost_round=10000,\n",
    "    callbacks=[early_stopping(100), log_evaluation(100)],\n",
    ")\n",
    "\n",
    "tuner.run()"
   ]
  },
  {
   "cell_type": "code",
   "execution_count": 99,
   "id": "d9ab9a30",
   "metadata": {},
   "outputs": [
    {
     "name": "stdout",
     "output_type": "stream",
     "text": [
      "Best score: 0.11951970270643175\n",
      "Params: \n",
      "    boosting_type: gbdt\n",
      "    objective: regression\n",
      "    metric: l2\n",
      "    verbosity: -1\n",
      "    feature_pre_filter: False\n",
      "    lambda_l1: 1.3018668475036848e-08\n",
      "    lambda_l2: 2.5074024976365225e-08\n",
      "    num_leaves: 31\n",
      "    feature_fraction: 0.58\n",
      "    bagging_fraction: 0.992119885016315\n",
      "    bagging_freq: 7\n",
      "    min_child_samples: 5\n"
     ]
    }
   ],
   "source": [
    "print(f\"Best score: {tuner.best_score}\")\n",
    "best_params = tuner.best_params\n",
    "print(\"Params: \")\n",
    "for key, value in best_params.items():\n",
    "    print(\"    {}: {}\".format(key, value))"
   ]
  },
  {
   "cell_type": "code",
   "execution_count": 100,
   "id": "0cb62c30",
   "metadata": {},
   "outputs": [],
   "source": [
    "import lightgbm as lgb\n",
    "\n",
    "lgb_tuned = lgb.train(\n",
    "    best_params,\n",
    "    lgb_train,\n",
    "    num_boost_round=10000,\n",
    ")"
   ]
  },
  {
   "cell_type": "code",
   "execution_count": 101,
   "id": "eb6b8188",
   "metadata": {},
   "outputs": [
    {
     "name": "stdout",
     "output_type": "stream",
     "text": [
      "RMSE train: 0.00\n",
      "RMSE test: 0.73\n",
      "MAE test: 0.41\n",
      "\n"
     ]
    }
   ],
   "source": [
    "rmse, mae = assess_regression_model(lgb_tuned, X_train, X_test, y_train, y_test)"
   ]
  },
  {
   "cell_type": "code",
   "execution_count": 102,
   "id": "90047108",
   "metadata": {},
   "outputs": [],
   "source": [
    "results.loc[1] = [\n",
    "    \"chronological\",\n",
    "    \"Optuna\",\n",
    "    \"full\",\n",
    "    rmse,\n",
    "    mae,\n",
    "]"
   ]
  },
  {
   "cell_type": "markdown",
   "id": "b26d94f2",
   "metadata": {},
   "source": [
    "###### MAE by level"
   ]
  },
  {
   "cell_type": "code",
   "execution_count": 103,
   "id": "bb716b92",
   "metadata": {},
   "outputs": [
    {
     "data": {
      "image/png": "[encoded data removed]",
      "text/plain": [
       "<Figure size 1440x576 with 1 Axes>"
      ]
     },
     "metadata": {
      "needs_background": "light"
     },
     "output_type": "display_data"
    }
   ],
   "source": [
    "plot_mae_by_level(\n",
    "    y_test,\n",
    "    y_pred_test,\n",
    "    title=\"MAE by level for tuned LightGBM with full features and chronological split\",\n",
    "    export=True,\n",
    ")"
   ]
  },
  {
   "cell_type": "code",
   "execution_count": 104,
   "id": "79785820",
   "metadata": {
    "scrolled": false
   },
   "outputs": [
    {
     "name": "stdout",
     "output_type": "stream",
     "text": [
      "Default:\n",
      "RMSE: 0.73\n",
      "\n",
      "Round type: 0.5\n",
      "RMSE: 0.75\n",
      "\n",
      "Round type: 0.33\n",
      "RMSE: 0.74\n",
      "\n",
      "Round type: 0.45\n",
      "RMSE: 0.73\n",
      "\n"
     ]
    }
   ],
   "source": [
    "predict = lgb_tuned.predict(X_test)\n",
    "evaluate_round_predictions([0.5, 0.33, 0.45], y_test, predict)"
   ]
  },
  {
   "cell_type": "code",
   "execution_count": 105,
   "id": "63a9eab9",
   "metadata": {},
   "outputs": [
    {
     "data": {
      "image/png": "[encoded data removed]",
      "text/plain": [
       "<Figure size 720x720 with 2 Axes>"
      ]
     },
     "metadata": {
      "needs_background": "light"
     },
     "output_type": "display_data"
    }
   ],
   "source": [
    "plot_confusion_matrix(\n",
    "    predict,\n",
    "    y_test,\n",
    "    title=\"Confusion matrix for tuned LightGBM with\\nfull features and chronological split\",\n",
    "    export=True,\n",
    ")"
   ]
  },
  {
   "cell_type": "markdown",
   "id": "a1fa0d3e",
   "metadata": {},
   "source": [
    "## Random split"
   ]
  },
  {
   "cell_type": "code",
   "execution_count": 106,
   "id": "69148859",
   "metadata": {},
   "outputs": [
    {
     "name": "stdout",
     "output_type": "stream",
     "text": [
      "[LightGBM] [Warning] Auto-choosing row-wise multi-threading, the overhead of testing was 0.000754 seconds.\n",
      "You can set `force_row_wise=true` to remove the overhead.\n",
      "And if memory is not enough, you can set `force_col_wise=true`.\n",
      "[LightGBM] [Info] Total Bins 804\n",
      "[LightGBM] [Info] Number of data points in the train set: 904, number of used features: 48\n",
      "[LightGBM] [Info] Start training from score 7.162611\n",
      "Training until validation scores don't improve for 5 rounds\n",
      "Early stopping, best iteration is:\n",
      "[75]\tvalid_0's l2: 0.1379\tvalid_0's l1: 0.246737\n"
     ]
    }
   ],
   "source": [
    "import lightgbm as lgb\n",
    "from sklearn.metrics import mean_squared_error\n",
    "\n",
    "lgb_train = lgb.Dataset(X_train_random_split, y_train_random_split)\n",
    "lgb_eval = lgb.Dataset(X_test_random_split, y_test_random_split, reference=lgb_train)\n",
    "\n",
    "params = {\n",
    "    \"boosting_type\": \"gbdt\",\n",
    "    \"objective\": \"regression\",\n",
    "    \"metric\": {\"l2\", \"l1\"},\n",
    "}\n",
    "\n",
    "gbm = lgb.train(\n",
    "    params,\n",
    "    lgb_train,\n",
    "    num_boost_round=100,\n",
    "    valid_sets=lgb_eval,\n",
    "    callbacks=[lgb.early_stopping(stopping_rounds=5)],\n",
    ")"
   ]
  },
  {
   "cell_type": "code",
   "execution_count": 107,
   "id": "792899a7",
   "metadata": {},
   "outputs": [],
   "source": [
    "y_pred_train = gbm.predict(X_train_random_split, num_iteration=gbm.best_iteration)\n",
    "y_pred_test = gbm.predict(X_test_random_split, num_iteration=gbm.best_iteration)"
   ]
  },
  {
   "cell_type": "code",
   "execution_count": 108,
   "id": "92e8b92d",
   "metadata": {},
   "outputs": [
    {
     "name": "stdout",
     "output_type": "stream",
     "text": [
      "RMSE: 0.37\n",
      "MAE: 0.25\n"
     ]
    }
   ],
   "source": [
    "from sklearn.metrics import mean_squared_error, mean_absolute_error\n",
    "\n",
    "\n",
    "rmse = mean_squared_error(y_test_random_split, y_pred_test, squared=False)\n",
    "mae = mean_absolute_error(y_test_random_split, y_pred_test)\n",
    "\n",
    "print(f\"RMSE: {rmse:.2f}\")\n",
    "print(f\"MAE: {mae:.2f}\")"
   ]
  },
  {
   "cell_type": "code",
   "execution_count": 109,
   "id": "e9b9f08d",
   "metadata": {},
   "outputs": [],
   "source": [
    "results.loc[2] = [\"random\", \"default\", \"full\", rmse, mae]"
   ]
  },
  {
   "cell_type": "markdown",
   "id": "e2f3fc5d",
   "metadata": {},
   "source": [
    "###### MAE by level"
   ]
  },
  {
   "cell_type": "code",
   "execution_count": 110,
   "id": "591c040e",
   "metadata": {},
   "outputs": [
    {
     "data": {
      "image/png": "[encoded data removed]",
      "text/plain": [
       "<Figure size 1440x576 with 1 Axes>"
      ]
     },
     "metadata": {
      "needs_background": "light"
     },
     "output_type": "display_data"
    }
   ],
   "source": [
    "plot_mae_by_level(\n",
    "    y_test_random_split,\n",
    "    y_pred_test,\n",
    "    title=\"MAE by level for default LightGBM with full features and random split\",\n",
    ")"
   ]
  },
  {
   "cell_type": "code",
   "execution_count": 111,
   "id": "2122d102",
   "metadata": {
    "scrolled": true
   },
   "outputs": [
    {
     "name": "stdout",
     "output_type": "stream",
     "text": [
      "Default:\n",
      "RMSE: 0.37\n",
      "\n",
      "Round type: 0.5\n",
      "RMSE: 0.38\n",
      "\n",
      "Round type: 0.33\n",
      "RMSE: 0.43\n",
      "\n",
      "Round type: 0.45\n",
      "RMSE: 0.38\n",
      "\n"
     ]
    }
   ],
   "source": [
    "evaluate_round_predictions([0.5, 0.33, 0.45], y_test_random_split, y_pred_test)"
   ]
  },
  {
   "cell_type": "code",
   "execution_count": 112,
   "id": "3b4c77ab",
   "metadata": {},
   "outputs": [
    {
     "data": {
      "image/png": "[encoded data removed]",
      "text/plain": [
       "<Figure size 720x720 with 2 Axes>"
      ]
     },
     "metadata": {
      "needs_background": "light"
     },
     "output_type": "display_data"
    }
   ],
   "source": [
    "plot_confusion_matrix(\n",
    "    y_pred_test,\n",
    "    y_test_random_split,\n",
    "    title=\"Confusion matrix for default LightGBM with\\nfull features and random split\",\n",
    ")"
   ]
  },
  {
   "cell_type": "markdown",
   "id": "295f8eff",
   "metadata": {},
   "source": [
    "### Tuning"
   ]
  },
  {
   "cell_type": "code",
   "execution_count": 113,
   "id": "14fca15b",
   "metadata": {},
   "outputs": [
    {
     "name": "stderr",
     "output_type": "stream",
     "text": [
      "[I 2023-11-25 18:13:15,561] A new study created in memory with name: no-name-2324b821-f6fb-4bca-a589-09c9953ceeca\n",
      "feature_fraction, val_score: inf:   0%|                                                          | 0/7 [00:00<?, ?it/s]"
     ]
    },
    {
     "name": "stdout",
     "output_type": "stream",
     "text": [
      "Training until validation scores don't improve for 100 rounds\n",
      "[100]\tcv_agg's l2: 0.156984 + 0.048974\n",
      "[200]\tcv_agg's l2: 0.152589 + 0.0449877\n",
      "[300]\tcv_agg's l2: 0.151187 + 0.0438106\n",
      "[400]\tcv_agg's l2: 0.150254 + 0.0432927\n",
      "[500]\tcv_agg's l2: 0.149791 + 0.0427453\n",
      "[600]\tcv_agg's l2: 0.149719 + 0.0427652\n",
      "[700]\tcv_agg's l2: 0.149567 + 0.0425314\n",
      "[800]\tcv_agg's l2: 0.149413 + 0.0424027\n",
      "[900]\tcv_agg's l2: 0.149274 + 0.0423217\n",
      "[1000]\tcv_agg's l2: 0.149255 + 0.0422904\n",
      "[1100]\tcv_agg's l2: 0.149196 + 0.0422608\n",
      "[1200]\tcv_agg's l2: 0.149113 + 0.0422372\n",
      "[1300]\tcv_agg's l2: 0.149094 + 0.0422292\n"
     ]
    },
    {
     "name": "stderr",
     "output_type": "stream",
     "text": [
      "feature_fraction, val_score: 0.149082:  14%|######4                                      | 1/7 [00:10<01:02, 10.43s/it][I 2023-11-25 18:13:25,996] Trial 0 finished with value: 0.14908172699311129 and parameters: {'feature_fraction': 0.6}. Best is trial 0 with value: 0.14908172699311129.\n",
      "feature_fraction, val_score: 0.149082:  14%|######4                                      | 1/7 [00:10<01:02, 10.43s/it]"
     ]
    },
    {
     "name": "stdout",
     "output_type": "stream",
     "text": [
      "Early stopping, best iteration is:\n",
      "[1247]\tcv_agg's l2: 0.149082 + 0.0422141\n",
      "[100]\tcv_agg's l2: 0.17351 + 0.0426452\n",
      "[200]\tcv_agg's l2: 0.169233 + 0.0410951\n",
      "[300]\tcv_agg's l2: 0.167794 + 0.0399741\n",
      "[400]\tcv_agg's l2: 0.167584 + 0.03992\n",
      "[500]\tcv_agg's l2: 0.167618 + 0.0398984\n",
      "[600]\tcv_agg's l2: 0.167828 + 0.0398483\n",
      "[700]\tcv_agg's l2: 0.167753 + 0.0397151\n",
      "[800]\tcv_agg's l2: 0.167701 + 0.0396111\n",
      "[900]\tcv_agg's l2: 0.167748 + 0.0395253\n",
      "[1000]\tcv_agg's l2: 0.167758 + 0.0394465\n",
      "[1100]\tcv_agg's l2: 0.167745 + 0.0393902\n",
      "[1200]\tcv_agg's l2: 0.167686 + 0.0392797\n",
      "[1300]\tcv_agg's l2: 0.167671 + 0.0392205\n"
     ]
    },
    {
     "name": "stderr",
     "output_type": "stream",
     "text": [
      "feature_fraction, val_score: 0.149082:  29%|############8                                | 2/7 [00:23<01:00, 12.12s/it][I 2023-11-25 18:13:39,303] Trial 1 finished with value: 0.16767078671310245 and parameters: {'feature_fraction': 1.0}. Best is trial 0 with value: 0.14908172699311129.\n",
      "feature_fraction, val_score: 0.149082:  29%|############8                                | 2/7 [00:23<01:00, 12.12s/it]"
     ]
    },
    {
     "name": "stdout",
     "output_type": "stream",
     "text": [
      "Early stopping, best iteration is:\n",
      "[1247]\tcv_agg's l2: 0.149082 + 0.0422141\n",
      "[100]\tcv_agg's l2: 0.162194 + 0.0427761\n",
      "[200]\tcv_agg's l2: 0.158367 + 0.0407238\n",
      "[300]\tcv_agg's l2: 0.15724 + 0.0396193\n",
      "[400]\tcv_agg's l2: 0.157313 + 0.0392552\n",
      "[500]\tcv_agg's l2: 0.157069 + 0.0389637\n",
      "[600]\tcv_agg's l2: 0.156992 + 0.0389245\n",
      "[700]\tcv_agg's l2: 0.156851 + 0.0386013\n",
      "[800]\tcv_agg's l2: 0.156817 + 0.0385424\n",
      "[900]\tcv_agg's l2: 0.156836 + 0.0385073\n",
      "[1000]\tcv_agg's l2: 0.15685 + 0.0385241\n",
      "[1100]\tcv_agg's l2: 0.156891 + 0.0385357\n",
      "[1200]\tcv_agg's l2: 0.156915 + 0.0385454\n",
      "[1300]\tcv_agg's l2: 0.156924 + 0.0385502\n"
     ]
    },
    {
     "name": "stderr",
     "output_type": "stream",
     "text": [
      "feature_fraction, val_score: 0.149082:  43%|###################2                         | 3/7 [00:34<00:45, 11.34s/it][I 2023-11-25 18:13:49,723] Trial 2 finished with value: 0.15691303187001196 and parameters: {'feature_fraction': 0.7}. Best is trial 0 with value: 0.14908172699311129.\n",
      "feature_fraction, val_score: 0.149082:  43%|###################2                         | 3/7 [00:34<00:45, 11.34s/it]"
     ]
    },
    {
     "name": "stdout",
     "output_type": "stream",
     "text": [
      "Early stopping, best iteration is:\n",
      "[1247]\tcv_agg's l2: 0.149082 + 0.0422141\n",
      "[100]\tcv_agg's l2: 0.152753 + 0.0514921\n",
      "[200]\tcv_agg's l2: 0.147625 + 0.0466894\n",
      "[300]\tcv_agg's l2: 0.146886 + 0.0457202\n",
      "[400]\tcv_agg's l2: 0.146157 + 0.0447444\n",
      "[500]\tcv_agg's l2: 0.14588 + 0.0446184\n",
      "[600]\tcv_agg's l2: 0.145649 + 0.0443671\n",
      "[700]\tcv_agg's l2: 0.145606 + 0.0442502\n",
      "[800]\tcv_agg's l2: 0.145564 + 0.0441801\n",
      "[900]\tcv_agg's l2: 0.145519 + 0.0441772\n"
     ]
    },
    {
     "name": "stderr",
     "output_type": "stream",
     "text": [
      "feature_fraction, val_score: 0.145492:  57%|#########################7                   | 4/7 [00:42<00:30, 10.04s/it][I 2023-11-25 18:13:57,776] Trial 3 finished with value: 0.14549237623137634 and parameters: {'feature_fraction': 0.4}. Best is trial 3 with value: 0.14549237623137634.\n",
      "feature_fraction, val_score: 0.145492:  57%|#########################7                   | 4/7 [00:42<00:30, 10.04s/it]"
     ]
    },
    {
     "name": "stdout",
     "output_type": "stream",
     "text": [
      "Early stopping, best iteration is:\n",
      "[878]\tcv_agg's l2: 0.145492 + 0.0441524\n",
      "[100]\tcv_agg's l2: 0.169955 + 0.0459805\n",
      "[200]\tcv_agg's l2: 0.166714 + 0.0439395\n",
      "[300]\tcv_agg's l2: 0.165965 + 0.0441793\n",
      "[400]\tcv_agg's l2: 0.165687 + 0.0441846\n",
      "[500]\tcv_agg's l2: 0.165487 + 0.0438588\n",
      "[600]\tcv_agg's l2: 0.165444 + 0.0436017\n",
      "[700]\tcv_agg's l2: 0.165336 + 0.0433991\n",
      "[800]\tcv_agg's l2: 0.165246 + 0.0432547\n",
      "[900]\tcv_agg's l2: 0.165199 + 0.0431162\n"
     ]
    },
    {
     "name": "stderr",
     "output_type": "stream",
     "text": [
      "feature_fraction, val_score: 0.145492:  71%|################################1            | 5/7 [00:50<00:18,  9.28s/it][I 2023-11-25 18:14:05,690] Trial 4 finished with value: 0.16523102094388126 and parameters: {'feature_fraction': 0.8999999999999999}. Best is trial 3 with value: 0.14549237623137634.\n",
      "feature_fraction, val_score: 0.145492:  71%|################################1            | 5/7 [00:50<00:18,  9.28s/it]"
     ]
    },
    {
     "name": "stdout",
     "output_type": "stream",
     "text": [
      "Early stopping, best iteration is:\n",
      "[878]\tcv_agg's l2: 0.145492 + 0.0441524\n",
      "[100]\tcv_agg's l2: 0.171395 + 0.0513676\n",
      "[200]\tcv_agg's l2: 0.167365 + 0.0494024\n",
      "[300]\tcv_agg's l2: 0.166512 + 0.0487646\n",
      "[400]\tcv_agg's l2: 0.166172 + 0.0484842\n",
      "[500]\tcv_agg's l2: 0.16626 + 0.0483354\n",
      "[600]\tcv_agg's l2: 0.166312 + 0.0482423\n",
      "[700]\tcv_agg's l2: 0.166372 + 0.0481714\n",
      "[800]\tcv_agg's l2: 0.166404 + 0.048088\n",
      "[900]\tcv_agg's l2: 0.166407 + 0.0480444\n"
     ]
    },
    {
     "name": "stderr",
     "output_type": "stream",
     "text": [
      "feature_fraction, val_score: 0.145492:  86%|######################################5      | 6/7 [00:57<00:08,  8.60s/it][I 2023-11-25 18:14:12,969] Trial 5 finished with value: 0.16639917218074704 and parameters: {'feature_fraction': 0.8}. Best is trial 3 with value: 0.14549237623137634.\n",
      "feature_fraction, val_score: 0.145492:  86%|######################################5      | 6/7 [00:57<00:08,  8.60s/it]"
     ]
    },
    {
     "name": "stdout",
     "output_type": "stream",
     "text": [
      "Early stopping, best iteration is:\n",
      "[878]\tcv_agg's l2: 0.145492 + 0.0441524\n",
      "[100]\tcv_agg's l2: 0.166604 + 0.0544027\n",
      "[200]\tcv_agg's l2: 0.161763 + 0.0511945\n",
      "[300]\tcv_agg's l2: 0.160742 + 0.0493065\n",
      "[400]\tcv_agg's l2: 0.160239 + 0.0486908\n",
      "[500]\tcv_agg's l2: 0.160163 + 0.0481242\n",
      "[600]\tcv_agg's l2: 0.160072 + 0.0480743\n",
      "[700]\tcv_agg's l2: 0.159933 + 0.047967\n",
      "[800]\tcv_agg's l2: 0.159986 + 0.0479161\n",
      "[900]\tcv_agg's l2: 0.159917 + 0.047857\n"
     ]
    },
    {
     "name": "stderr",
     "output_type": "stream",
     "text": [
      "feature_fraction, val_score: 0.145492: 100%|#############################################| 7/7 [01:05<00:00,  8.46s/it][I 2023-11-25 18:14:21,132] Trial 6 finished with value: 0.15991977767964274 and parameters: {'feature_fraction': 0.5}. Best is trial 3 with value: 0.14549237623137634.\n",
      "feature_fraction, val_score: 0.145492: 100%|#############################################| 7/7 [01:05<00:00,  9.37s/it]\n"
     ]
    },
    {
     "name": "stdout",
     "output_type": "stream",
     "text": [
      "Early stopping, best iteration is:\n",
      "[878]\tcv_agg's l2: 0.145492 + 0.0441524\n"
     ]
    },
    {
     "name": "stderr",
     "output_type": "stream",
     "text": [
      "num_leaves, val_score: 0.145492:   0%|                                                          | 0/20 [00:00<?, ?it/s]"
     ]
    },
    {
     "name": "stdout",
     "output_type": "stream",
     "text": [
      "[100]\tcv_agg's l2: 0.152753 + 0.0514921\n",
      "[200]\tcv_agg's l2: 0.147625 + 0.0466894\n",
      "[300]\tcv_agg's l2: 0.146886 + 0.0457202\n",
      "[400]\tcv_agg's l2: 0.146157 + 0.0447444\n",
      "[500]\tcv_agg's l2: 0.14588 + 0.0446184\n",
      "[600]\tcv_agg's l2: 0.145649 + 0.0443671\n",
      "[700]\tcv_agg's l2: 0.145606 + 0.0442502\n",
      "[800]\tcv_agg's l2: 0.145564 + 0.0441801\n",
      "[900]\tcv_agg's l2: 0.145519 + 0.0441772\n"
     ]
    },
    {
     "name": "stderr",
     "output_type": "stream",
     "text": [
      "num_leaves, val_score: 0.145492:   5%|##5                                               | 1/20 [00:07<02:30,  7.90s/it][I 2023-11-25 18:14:29,036] Trial 7 finished with value: 0.14549237623137634 and parameters: {'num_leaves': 48}. Best is trial 7 with value: 0.14549237623137634.\n",
      "num_leaves, val_score: 0.145492:   5%|##5                                               | 1/20 [00:07<02:30,  7.90s/it]"
     ]
    },
    {
     "name": "stdout",
     "output_type": "stream",
     "text": [
      "Early stopping, best iteration is:\n",
      "[878]\tcv_agg's l2: 0.145492 + 0.0441524\n",
      "[100]\tcv_agg's l2: 0.152753 + 0.0514921\n",
      "[200]\tcv_agg's l2: 0.147625 + 0.0466894\n",
      "[300]\tcv_agg's l2: 0.146886 + 0.0457202\n",
      "[400]\tcv_agg's l2: 0.146157 + 0.0447444\n",
      "[500]\tcv_agg's l2: 0.14588 + 0.0446184\n",
      "[600]\tcv_agg's l2: 0.145649 + 0.0443671\n",
      "[700]\tcv_agg's l2: 0.145606 + 0.0442502\n",
      "[800]\tcv_agg's l2: 0.145564 + 0.0441801\n",
      "[900]\tcv_agg's l2: 0.145519 + 0.0441772\n"
     ]
    },
    {
     "name": "stderr",
     "output_type": "stream",
     "text": [
      "num_leaves, val_score: 0.145492:  10%|#####                                             | 2/20 [00:15<02:19,  7.73s/it][I 2023-11-25 18:14:36,647] Trial 8 finished with value: 0.14549237623137634 and parameters: {'num_leaves': 137}. Best is trial 7 with value: 0.14549237623137634.\n",
      "num_leaves, val_score: 0.145492:  10%|#####                                             | 2/20 [00:15<02:19,  7.73s/it]"
     ]
    },
    {
     "name": "stdout",
     "output_type": "stream",
     "text": [
      "Early stopping, best iteration is:\n",
      "[878]\tcv_agg's l2: 0.145492 + 0.0441524\n",
      "[100]\tcv_agg's l2: 0.152753 + 0.0514921\n",
      "[200]\tcv_agg's l2: 0.147625 + 0.0466894\n",
      "[300]\tcv_agg's l2: 0.146886 + 0.0457202\n",
      "[400]\tcv_agg's l2: 0.146157 + 0.0447444\n",
      "[500]\tcv_agg's l2: 0.14588 + 0.0446184\n",
      "[600]\tcv_agg's l2: 0.145649 + 0.0443671\n",
      "[700]\tcv_agg's l2: 0.145606 + 0.0442502\n",
      "[800]\tcv_agg's l2: 0.145564 + 0.0441801\n",
      "[900]\tcv_agg's l2: 0.145519 + 0.0441772\n"
     ]
    },
    {
     "name": "stderr",
     "output_type": "stream",
     "text": [
      "num_leaves, val_score: 0.145492:  15%|#######5                                          | 3/20 [00:22<02:05,  7.38s/it][I 2023-11-25 18:14:43,614] Trial 9 finished with value: 0.14549237623137634 and parameters: {'num_leaves': 112}. Best is trial 7 with value: 0.14549237623137634.\n",
      "num_leaves, val_score: 0.145492:  15%|#######5                                          | 3/20 [00:22<02:05,  7.38s/it]"
     ]
    },
    {
     "name": "stdout",
     "output_type": "stream",
     "text": [
      "Early stopping, best iteration is:\n",
      "[878]\tcv_agg's l2: 0.145492 + 0.0441524\n",
      "[100]\tcv_agg's l2: 0.152753 + 0.0514921\n",
      "[200]\tcv_agg's l2: 0.147625 + 0.0466894\n",
      "[300]\tcv_agg's l2: 0.146886 + 0.0457202\n",
      "[400]\tcv_agg's l2: 0.146157 + 0.0447444\n",
      "[500]\tcv_agg's l2: 0.14588 + 0.0446184\n",
      "[600]\tcv_agg's l2: 0.145649 + 0.0443671\n",
      "[700]\tcv_agg's l2: 0.145606 + 0.0442502\n",
      "[800]\tcv_agg's l2: 0.145564 + 0.0441801\n",
      "[900]\tcv_agg's l2: 0.145519 + 0.0441772\n"
     ]
    },
    {
     "name": "stderr",
     "output_type": "stream",
     "text": [
      "num_leaves, val_score: 0.145492:  20%|##########                                        | 4/20 [00:29<01:58,  7.39s/it][I 2023-11-25 18:14:51,033] Trial 10 finished with value: 0.14549237623137634 and parameters: {'num_leaves': 241}. Best is trial 7 with value: 0.14549237623137634.\n",
      "num_leaves, val_score: 0.145492:  20%|##########                                        | 4/20 [00:29<01:58,  7.39s/it]"
     ]
    },
    {
     "name": "stdout",
     "output_type": "stream",
     "text": [
      "Early stopping, best iteration is:\n",
      "[878]\tcv_agg's l2: 0.145492 + 0.0441524\n",
      "[100]\tcv_agg's l2: 0.287059 + 0.0487459\n",
      "[200]\tcv_agg's l2: 0.242153 + 0.0419972\n",
      "[300]\tcv_agg's l2: 0.231481 + 0.0419462\n",
      "[400]\tcv_agg's l2: 0.225963 + 0.0425744\n",
      "[500]\tcv_agg's l2: 0.221649 + 0.0444934\n",
      "[600]\tcv_agg's l2: 0.218261 + 0.0454912\n",
      "[700]\tcv_agg's l2: 0.215119 + 0.0457172\n",
      "[800]\tcv_agg's l2: 0.212356 + 0.0460375\n"
     ]
    },
    {
     "name": "stderr",
     "output_type": "stream",
     "text": [
      "num_leaves, val_score: 0.145492:  25%|############5                                     | 5/20 [00:31<01:20,  5.39s/it][I 2023-11-25 18:14:52,854] Trial 11 finished with value: 0.2102475721480336 and parameters: {'num_leaves': 2}. Best is trial 7 with value: 0.14549237623137634.\n",
      "num_leaves, val_score: 0.145492:  25%|############5                                     | 5/20 [00:31<01:20,  5.39s/it]"
     ]
    },
    {
     "name": "stdout",
     "output_type": "stream",
     "text": [
      "[900]\tcv_agg's l2: 0.209703 + 0.0461887\n",
      "Early stopping, best iteration is:\n",
      "[878]\tcv_agg's l2: 0.145492 + 0.0441524\n",
      "[100]\tcv_agg's l2: 0.161442 + 0.0472674\n",
      "[200]\tcv_agg's l2: 0.15142 + 0.0444852\n",
      "[300]\tcv_agg's l2: 0.146644 + 0.0429692\n",
      "[400]\tcv_agg's l2: 0.144361 + 0.0423603\n",
      "[500]\tcv_agg's l2: 0.143257 + 0.0408838\n",
      "[600]\tcv_agg's l2: 0.142145 + 0.0399456\n",
      "[700]\tcv_agg's l2: 0.141605 + 0.0393394\n",
      "[800]\tcv_agg's l2: 0.141521 + 0.0390962\n",
      "[900]\tcv_agg's l2: 0.141637 + 0.0386102\n"
     ]
    },
    {
     "name": "stderr",
     "output_type": "stream",
     "text": [
      "num_leaves, val_score: 0.141435:  30%|###############                                   | 6/20 [00:35<01:06,  4.72s/it][I 2023-11-25 18:14:56,268] Trial 12 finished with value: 0.14143503006055944 and parameters: {'num_leaves': 9}. Best is trial 12 with value: 0.14143503006055944.\n",
      "num_leaves, val_score: 0.141435:  30%|###############                                   | 6/20 [00:35<01:06,  4.72s/it]"
     ]
    },
    {
     "name": "stdout",
     "output_type": "stream",
     "text": [
      "Early stopping, best iteration is:\n",
      "[872]\tcv_agg's l2: 0.141435 + 0.0386315\n",
      "[100]\tcv_agg's l2: 0.152753 + 0.0514921\n",
      "[200]\tcv_agg's l2: 0.147625 + 0.0466894\n",
      "[300]\tcv_agg's l2: 0.146886 + 0.0457202\n",
      "[400]\tcv_agg's l2: 0.146157 + 0.0447444\n",
      "[500]\tcv_agg's l2: 0.14588 + 0.0446184\n",
      "[600]\tcv_agg's l2: 0.145649 + 0.0443671\n",
      "[700]\tcv_agg's l2: 0.145606 + 0.0442502\n",
      "[800]\tcv_agg's l2: 0.145564 + 0.0441801\n",
      "[900]\tcv_agg's l2: 0.145519 + 0.0441772\n"
     ]
    },
    {
     "name": "stderr",
     "output_type": "stream",
     "text": [
      "num_leaves, val_score: 0.141435:  35%|#################5                                | 7/20 [00:43<01:15,  5.81s/it][I 2023-11-25 18:15:04,327] Trial 13 finished with value: 0.14549327852487998 and parameters: {'num_leaves': 99}. Best is trial 12 with value: 0.14143503006055944.\n",
      "num_leaves, val_score: 0.141435:  35%|#################5                                | 7/20 [00:43<01:15,  5.81s/it]"
     ]
    },
    {
     "name": "stdout",
     "output_type": "stream",
     "text": [
      "Early stopping, best iteration is:\n",
      "[872]\tcv_agg's l2: 0.141435 + 0.0386315\n",
      "[100]\tcv_agg's l2: 0.152753 + 0.0514921\n",
      "[200]\tcv_agg's l2: 0.147625 + 0.0466894\n",
      "[300]\tcv_agg's l2: 0.146886 + 0.0457202\n",
      "[400]\tcv_agg's l2: 0.146157 + 0.0447444\n",
      "[500]\tcv_agg's l2: 0.14588 + 0.0446184\n",
      "[600]\tcv_agg's l2: 0.145649 + 0.0443671\n",
      "[700]\tcv_agg's l2: 0.145606 + 0.0442502\n",
      "[800]\tcv_agg's l2: 0.145564 + 0.0441801\n",
      "[900]\tcv_agg's l2: 0.145519 + 0.0441772\n"
     ]
    },
    {
     "name": "stderr",
     "output_type": "stream",
     "text": [
      "num_leaves, val_score: 0.141435:  40%|####################                              | 8/20 [00:51<01:18,  6.52s/it][I 2023-11-25 18:15:12,355] Trial 14 finished with value: 0.14549327852487998 and parameters: {'num_leaves': 196}. Best is trial 12 with value: 0.14143503006055944.\n",
      "num_leaves, val_score: 0.141435:  40%|####################                              | 8/20 [00:51<01:18,  6.52s/it]"
     ]
    },
    {
     "name": "stdout",
     "output_type": "stream",
     "text": [
      "Early stopping, best iteration is:\n",
      "[872]\tcv_agg's l2: 0.141435 + 0.0386315\n",
      "[100]\tcv_agg's l2: 0.287059 + 0.0487459\n",
      "[200]\tcv_agg's l2: 0.242153 + 0.0419972\n",
      "[300]\tcv_agg's l2: 0.231481 + 0.0419462\n",
      "[400]\tcv_agg's l2: 0.225963 + 0.0425744\n",
      "[500]\tcv_agg's l2: 0.221649 + 0.0444934\n",
      "[600]\tcv_agg's l2: 0.218261 + 0.0454912\n",
      "[700]\tcv_agg's l2: 0.215119 + 0.0457172\n",
      "[800]\tcv_agg's l2: 0.212356 + 0.0460375\n",
      "[900]\tcv_agg's l2: 0.209703 + 0.0461887\n"
     ]
    },
    {
     "name": "stderr",
     "output_type": "stream",
     "text": [
      "num_leaves, val_score: 0.141435:  45%|######################5                           | 9/20 [00:53<00:55,  5.09s/it][I 2023-11-25 18:15:14,305] Trial 15 finished with value: 0.21030516856578746 and parameters: {'num_leaves': 2}. Best is trial 12 with value: 0.14143503006055944.\n",
      "num_leaves, val_score: 0.141435:  45%|######################5                           | 9/20 [00:53<00:55,  5.09s/it]"
     ]
    },
    {
     "name": "stdout",
     "output_type": "stream",
     "text": [
      "Early stopping, best iteration is:\n",
      "[872]\tcv_agg's l2: 0.141435 + 0.0386315\n",
      "[100]\tcv_agg's l2: 0.152753 + 0.0514921\n",
      "[200]\tcv_agg's l2: 0.147625 + 0.0466894\n",
      "[300]\tcv_agg's l2: 0.146886 + 0.0457202\n",
      "[400]\tcv_agg's l2: 0.146157 + 0.0447444\n",
      "[500]\tcv_agg's l2: 0.14588 + 0.0446184\n",
      "[600]\tcv_agg's l2: 0.145649 + 0.0443671\n",
      "[700]\tcv_agg's l2: 0.145606 + 0.0442502\n",
      "[800]\tcv_agg's l2: 0.145564 + 0.0441801\n",
      "[900]\tcv_agg's l2: 0.145519 + 0.0441772\n"
     ]
    },
    {
     "name": "stderr",
     "output_type": "stream",
     "text": [
      "num_leaves, val_score: 0.141435:  50%|########################5                        | 10/20 [01:00<00:58,  5.88s/it][I 2023-11-25 18:15:21,949] Trial 16 finished with value: 0.14549327852487998 and parameters: {'num_leaves': 62}. Best is trial 12 with value: 0.14143503006055944.\n",
      "num_leaves, val_score: 0.141435:  50%|########################5                        | 10/20 [01:00<00:58,  5.88s/it]"
     ]
    },
    {
     "name": "stdout",
     "output_type": "stream",
     "text": [
      "Early stopping, best iteration is:\n",
      "[872]\tcv_agg's l2: 0.141435 + 0.0386315\n",
      "[100]\tcv_agg's l2: 0.152753 + 0.0514921\n",
      "[200]\tcv_agg's l2: 0.147625 + 0.0466894\n",
      "[300]\tcv_agg's l2: 0.146886 + 0.0457202\n",
      "[400]\tcv_agg's l2: 0.146157 + 0.0447444\n",
      "[500]\tcv_agg's l2: 0.14588 + 0.0446184\n",
      "[600]\tcv_agg's l2: 0.145649 + 0.0443671\n",
      "[700]\tcv_agg's l2: 0.145606 + 0.0442502\n",
      "[800]\tcv_agg's l2: 0.145564 + 0.0441801\n",
      "[900]\tcv_agg's l2: 0.145519 + 0.0441772\n"
     ]
    },
    {
     "name": "stderr",
     "output_type": "stream",
     "text": [
      "num_leaves, val_score: 0.141435:  55%|##########################9                      | 11/20 [01:08<00:57,  6.35s/it][I 2023-11-25 18:15:29,382] Trial 17 finished with value: 0.14549327852487998 and parameters: {'num_leaves': 168}. Best is trial 12 with value: 0.14143503006055944.\n",
      "num_leaves, val_score: 0.141435:  55%|##########################9                      | 11/20 [01:08<00:57,  6.35s/it]"
     ]
    },
    {
     "name": "stdout",
     "output_type": "stream",
     "text": [
      "Early stopping, best iteration is:\n",
      "[872]\tcv_agg's l2: 0.141435 + 0.0386315\n",
      "[100]\tcv_agg's l2: 0.152753 + 0.0514921\n",
      "[200]\tcv_agg's l2: 0.147625 + 0.0466894\n",
      "[300]\tcv_agg's l2: 0.146886 + 0.0457202\n",
      "[400]\tcv_agg's l2: 0.146157 + 0.0447444\n",
      "[500]\tcv_agg's l2: 0.14588 + 0.0446184\n",
      "[600]\tcv_agg's l2: 0.145649 + 0.0443671\n",
      "[700]\tcv_agg's l2: 0.145606 + 0.0442502\n",
      "[800]\tcv_agg's l2: 0.145564 + 0.0441801\n",
      "[900]\tcv_agg's l2: 0.145519 + 0.0441772\n"
     ]
    },
    {
     "name": "stderr",
     "output_type": "stream",
     "text": [
      "num_leaves, val_score: 0.141435:  60%|#############################4                   | 12/20 [01:15<00:52,  6.52s/it][I 2023-11-25 18:15:36,269] Trial 18 finished with value: 0.14549327852487998 and parameters: {'num_leaves': 56}. Best is trial 12 with value: 0.14143503006055944.\n",
      "num_leaves, val_score: 0.141435:  60%|#############################4                   | 12/20 [01:15<00:52,  6.52s/it]"
     ]
    },
    {
     "name": "stdout",
     "output_type": "stream",
     "text": [
      "Early stopping, best iteration is:\n",
      "[872]\tcv_agg's l2: 0.141435 + 0.0386315\n",
      "[100]\tcv_agg's l2: 0.152753 + 0.0514921\n",
      "[200]\tcv_agg's l2: 0.147625 + 0.0466894\n",
      "[300]\tcv_agg's l2: 0.146886 + 0.0457202\n",
      "[400]\tcv_agg's l2: 0.146157 + 0.0447444\n",
      "[500]\tcv_agg's l2: 0.14588 + 0.0446184\n",
      "[600]\tcv_agg's l2: 0.145649 + 0.0443671\n",
      "[700]\tcv_agg's l2: 0.145606 + 0.0442502\n",
      "[800]\tcv_agg's l2: 0.145564 + 0.0441801\n",
      "[900]\tcv_agg's l2: 0.145519 + 0.0441772\n"
     ]
    },
    {
     "name": "stderr",
     "output_type": "stream",
     "text": [
      "num_leaves, val_score: 0.141435:  65%|###############################8                 | 13/20 [01:22<00:47,  6.80s/it][I 2023-11-25 18:15:43,715] Trial 19 finished with value: 0.14549327852487998 and parameters: {'num_leaves': 233}. Best is trial 12 with value: 0.14143503006055944.\n",
      "num_leaves, val_score: 0.141435:  65%|###############################8                 | 13/20 [01:22<00:47,  6.80s/it]"
     ]
    },
    {
     "name": "stdout",
     "output_type": "stream",
     "text": [
      "Early stopping, best iteration is:\n",
      "[872]\tcv_agg's l2: 0.141435 + 0.0386315\n",
      "[100]\tcv_agg's l2: 0.152753 + 0.0514921\n",
      "[200]\tcv_agg's l2: 0.147625 + 0.0466894\n",
      "[300]\tcv_agg's l2: 0.146886 + 0.0457202\n",
      "[400]\tcv_agg's l2: 0.146157 + 0.0447444\n",
      "[500]\tcv_agg's l2: 0.14588 + 0.0446184\n",
      "[600]\tcv_agg's l2: 0.145649 + 0.0443671\n",
      "[700]\tcv_agg's l2: 0.145606 + 0.0442502\n",
      "[800]\tcv_agg's l2: 0.145564 + 0.0441801\n",
      "[900]\tcv_agg's l2: 0.145519 + 0.0441772\n"
     ]
    },
    {
     "name": "stderr",
     "output_type": "stream",
     "text": [
      "num_leaves, val_score: 0.141435:  70%|##################################3              | 14/20 [01:29<00:41,  6.85s/it][I 2023-11-25 18:15:50,683] Trial 20 finished with value: 0.14549327852487998 and parameters: {'num_leaves': 81}. Best is trial 12 with value: 0.14143503006055944.\n",
      "num_leaves, val_score: 0.141435:  70%|##################################3              | 14/20 [01:29<00:41,  6.85s/it]"
     ]
    },
    {
     "name": "stdout",
     "output_type": "stream",
     "text": [
      "Early stopping, best iteration is:\n",
      "[872]\tcv_agg's l2: 0.141435 + 0.0386315\n",
      "[100]\tcv_agg's l2: 0.152753 + 0.0514921\n",
      "[200]\tcv_agg's l2: 0.147625 + 0.0466894\n",
      "[300]\tcv_agg's l2: 0.146886 + 0.0457202\n",
      "[400]\tcv_agg's l2: 0.146157 + 0.0447444\n",
      "[500]\tcv_agg's l2: 0.14588 + 0.0446184\n",
      "[600]\tcv_agg's l2: 0.145649 + 0.0443671\n",
      "[700]\tcv_agg's l2: 0.145606 + 0.0442502\n",
      "[800]\tcv_agg's l2: 0.145564 + 0.0441801\n",
      "[900]\tcv_agg's l2: 0.145519 + 0.0441772\n"
     ]
    },
    {
     "name": "stderr",
     "output_type": "stream",
     "text": [
      "num_leaves, val_score: 0.141435:  75%|####################################7            | 15/20 [01:36<00:34,  6.86s/it][I 2023-11-25 18:15:57,552] Trial 21 finished with value: 0.14549327852487998 and parameters: {'num_leaves': 33}. Best is trial 12 with value: 0.14143503006055944.\n",
      "num_leaves, val_score: 0.141435:  75%|####################################7            | 15/20 [01:36<00:34,  6.86s/it]"
     ]
    },
    {
     "name": "stdout",
     "output_type": "stream",
     "text": [
      "Early stopping, best iteration is:\n",
      "[872]\tcv_agg's l2: 0.141435 + 0.0386315\n",
      "[100]\tcv_agg's l2: 0.152753 + 0.0514921\n",
      "[200]\tcv_agg's l2: 0.147625 + 0.0466894\n",
      "[300]\tcv_agg's l2: 0.146886 + 0.0457202\n",
      "[400]\tcv_agg's l2: 0.146157 + 0.0447444\n",
      "[500]\tcv_agg's l2: 0.14588 + 0.0446184\n",
      "[600]\tcv_agg's l2: 0.145649 + 0.0443671\n",
      "[700]\tcv_agg's l2: 0.145606 + 0.0442502\n",
      "[800]\tcv_agg's l2: 0.145564 + 0.0441801\n",
      "[900]\tcv_agg's l2: 0.145519 + 0.0441772\n"
     ]
    },
    {
     "name": "stderr",
     "output_type": "stream",
     "text": [
      "num_leaves, val_score: 0.141435:  80%|#######################################2         | 16/20 [01:43<00:27,  6.87s/it][I 2023-11-25 18:16:04,450] Trial 22 finished with value: 0.14549327852487998 and parameters: {'num_leaves': 43}. Best is trial 12 with value: 0.14143503006055944.\n",
      "num_leaves, val_score: 0.141435:  80%|#######################################2         | 16/20 [01:43<00:27,  6.87s/it]"
     ]
    },
    {
     "name": "stdout",
     "output_type": "stream",
     "text": [
      "Early stopping, best iteration is:\n",
      "[872]\tcv_agg's l2: 0.141435 + 0.0386315\n",
      "[100]\tcv_agg's l2: 0.149862 + 0.0496345\n",
      "[200]\tcv_agg's l2: 0.144335 + 0.0451427\n",
      "[300]\tcv_agg's l2: 0.143581 + 0.0443698\n",
      "[400]\tcv_agg's l2: 0.143343 + 0.044007\n",
      "[500]\tcv_agg's l2: 0.143243 + 0.0436046\n",
      "[600]\tcv_agg's l2: 0.143332 + 0.0435874\n",
      "[700]\tcv_agg's l2: 0.143366 + 0.0435528\n",
      "[800]\tcv_agg's l2: 0.143308 + 0.0433969\n",
      "[900]\tcv_agg's l2: 0.143321 + 0.0433226\n"
     ]
    },
    {
     "name": "stderr",
     "output_type": "stream",
     "text": [
      "num_leaves, val_score: 0.141435:  85%|#########################################6       | 17/20 [01:50<00:20,  6.94s/it][I 2023-11-25 18:16:11,560] Trial 23 finished with value: 0.14331928161082588 and parameters: {'num_leaves': 24}. Best is trial 12 with value: 0.14143503006055944.\n",
      "num_leaves, val_score: 0.141435:  85%|#########################################6       | 17/20 [01:50<00:20,  6.94s/it]"
     ]
    },
    {
     "name": "stdout",
     "output_type": "stream",
     "text": [
      "Early stopping, best iteration is:\n",
      "[872]\tcv_agg's l2: 0.141435 + 0.0386315\n",
      "[100]\tcv_agg's l2: 0.146133 + 0.047636\n",
      "[200]\tcv_agg's l2: 0.141479 + 0.0427791\n",
      "[300]\tcv_agg's l2: 0.140278 + 0.0432175\n"
     ]
    },
    {
     "name": "stderr",
     "output_type": "stream",
     "text": [
      "num_leaves, val_score: 0.140160:  90%|############################################1    | 18/20 [01:52<00:11,  5.50s/it][I 2023-11-25 18:16:13,714] Trial 24 finished with value: 0.14016034360640828 and parameters: {'num_leaves': 16}. Best is trial 24 with value: 0.14016034360640828.\n",
      "num_leaves, val_score: 0.140160:  90%|############################################1    | 18/20 [01:52<00:11,  5.50s/it]"
     ]
    },
    {
     "name": "stdout",
     "output_type": "stream",
     "text": [
      "Early stopping, best iteration is:\n",
      "[281]\tcv_agg's l2: 0.14016 + 0.0428426\n",
      "[100]\tcv_agg's l2: 0.149862 + 0.0496345\n",
      "[200]\tcv_agg's l2: 0.144335 + 0.0451427\n",
      "[300]\tcv_agg's l2: 0.143581 + 0.0443698\n"
     ]
    },
    {
     "name": "stderr",
     "output_type": "stream",
     "text": [
      "num_leaves, val_score: 0.140160:  95%|##############################################5  | 19/20 [01:55<00:04,  4.69s/it][I 2023-11-25 18:16:16,525] Trial 25 finished with value: 0.14356249655061834 and parameters: {'num_leaves': 24}. Best is trial 24 with value: 0.14016034360640828.\n",
      "num_leaves, val_score: 0.140160:  95%|##############################################5  | 19/20 [01:55<00:04,  4.69s/it]"
     ]
    },
    {
     "name": "stdout",
     "output_type": "stream",
     "text": [
      "Early stopping, best iteration is:\n",
      "[281]\tcv_agg's l2: 0.14016 + 0.0428426\n",
      "[100]\tcv_agg's l2: 0.152008 + 0.0543544\n",
      "[200]\tcv_agg's l2: 0.147194 + 0.050411\n",
      "[300]\tcv_agg's l2: 0.145717 + 0.0487478\n"
     ]
    },
    {
     "name": "stderr",
     "output_type": "stream",
     "text": [
      "num_leaves, val_score: 0.140160: 100%|#################################################| 20/20 [01:57<00:00,  4.03s/it][I 2023-11-25 18:16:19,007] Trial 26 finished with value: 0.14579080560360635 and parameters: {'num_leaves': 21}. Best is trial 24 with value: 0.14016034360640828.\n",
      "num_leaves, val_score: 0.140160: 100%|#################################################| 20/20 [01:57<00:00,  5.89s/it]\n"
     ]
    },
    {
     "name": "stdout",
     "output_type": "stream",
     "text": [
      "Early stopping, best iteration is:\n",
      "[281]\tcv_agg's l2: 0.14016 + 0.0428426\n"
     ]
    },
    {
     "name": "stderr",
     "output_type": "stream",
     "text": [
      "bagging, val_score: 0.140160:   0%|                                                             | 0/10 [00:00<?, ?it/s]"
     ]
    },
    {
     "name": "stdout",
     "output_type": "stream",
     "text": [
      "[100]\tcv_agg's l2: 0.172224 + 0.0475901\n",
      "[200]\tcv_agg's l2: 0.165456 + 0.04139\n",
      "[300]\tcv_agg's l2: 0.162922 + 0.0405026\n"
     ]
    },
    {
     "name": "stderr",
     "output_type": "stream",
     "text": [
      "bagging, val_score: 0.140160:  10%|#####3                                               | 1/10 [00:02<00:18,  2.09s/it][I 2023-11-25 18:16:21,106] Trial 27 finished with value: 0.1629129150335372 and parameters: {'bagging_fraction': 0.5945912746692738, 'bagging_freq': 3}. Best is trial 27 with value: 0.1629129150335372.\n",
      "bagging, val_score: 0.140160:  10%|#####3                                               | 1/10 [00:02<00:18,  2.09s/it]"
     ]
    },
    {
     "name": "stdout",
     "output_type": "stream",
     "text": [
      "Early stopping, best iteration is:\n",
      "[281]\tcv_agg's l2: 0.14016 + 0.0428426\n",
      "[100]\tcv_agg's l2: 0.157299 + 0.0546224\n",
      "[200]\tcv_agg's l2: 0.150645 + 0.0496946\n",
      "[300]\tcv_agg's l2: 0.149427 + 0.0488234\n"
     ]
    },
    {
     "name": "stderr",
     "output_type": "stream",
     "text": [
      "bagging, val_score: 0.140160:  20%|##########6                                          | 2/10 [00:04<00:17,  2.20s/it][I 2023-11-25 18:16:23,380] Trial 28 finished with value: 0.14949348345275504 and parameters: {'bagging_fraction': 0.9936226332657405, 'bagging_freq': 7}. Best is trial 28 with value: 0.14949348345275504.\n",
      "bagging, val_score: 0.140160:  20%|##########6                                          | 2/10 [00:04<00:17,  2.20s/it]"
     ]
    },
    {
     "name": "stdout",
     "output_type": "stream",
     "text": [
      "Early stopping, best iteration is:\n",
      "[281]\tcv_agg's l2: 0.14016 + 0.0428426\n",
      "[100]\tcv_agg's l2: 0.195032 + 0.0284582\n",
      "[200]\tcv_agg's l2: 0.181183 + 0.0267018\n",
      "[300]\tcv_agg's l2: 0.176924 + 0.0277042\n"
     ]
    },
    {
     "name": "stderr",
     "output_type": "stream",
     "text": [
      "bagging, val_score: 0.140160:  30%|###############9                                     | 3/10 [00:06<00:13,  1.99s/it][I 2023-11-25 18:16:25,119] Trial 29 finished with value: 0.17802526950591963 and parameters: {'bagging_fraction': 0.413547712595805, 'bagging_freq': 1}. Best is trial 28 with value: 0.14949348345275504.\n",
      "bagging, val_score: 0.140160:  30%|###############9                                     | 3/10 [00:06<00:13,  1.99s/it]"
     ]
    },
    {
     "name": "stdout",
     "output_type": "stream",
     "text": [
      "Early stopping, best iteration is:\n",
      "[281]\tcv_agg's l2: 0.14016 + 0.0428426\n",
      "[100]\tcv_agg's l2: 0.157948 + 0.0445141\n",
      "[200]\tcv_agg's l2: 0.151764 + 0.0396035\n",
      "[300]\tcv_agg's l2: 0.150536 + 0.0394305\n"
     ]
    },
    {
     "name": "stderr",
     "output_type": "stream",
     "text": [
      "bagging, val_score: 0.140160:  40%|#####################2                               | 4/10 [00:08<00:12,  2.12s/it][I 2023-11-25 18:16:27,446] Trial 30 finished with value: 0.150628431925876 and parameters: {'bagging_fraction': 0.8994113668011223, 'bagging_freq': 7}. Best is trial 28 with value: 0.14949348345275504.\n",
      "bagging, val_score: 0.140160:  40%|#####################2                               | 4/10 [00:08<00:12,  2.12s/it]"
     ]
    },
    {
     "name": "stdout",
     "output_type": "stream",
     "text": [
      "Early stopping, best iteration is:\n",
      "[281]\tcv_agg's l2: 0.14016 + 0.0428426\n",
      "[100]\tcv_agg's l2: 0.154591 + 0.0315217\n",
      "[200]\tcv_agg's l2: 0.147415 + 0.0280045\n",
      "[300]\tcv_agg's l2: 0.146668 + 0.0292015\n"
     ]
    },
    {
     "name": "stderr",
     "output_type": "stream",
     "text": [
      "bagging, val_score: 0.140160:  50%|##########################5                          | 5/10 [00:10<00:10,  2.15s/it][I 2023-11-25 18:16:29,649] Trial 31 finished with value: 0.1474558619332366 and parameters: {'bagging_fraction': 0.737752808707296, 'bagging_freq': 4}. Best is trial 31 with value: 0.1474558619332366.\n",
      "bagging, val_score: 0.140160:  50%|##########################5                          | 5/10 [00:10<00:10,  2.15s/it]"
     ]
    },
    {
     "name": "stdout",
     "output_type": "stream",
     "text": [
      "Early stopping, best iteration is:\n",
      "[281]\tcv_agg's l2: 0.14016 + 0.0428426\n",
      "[100]\tcv_agg's l2: 0.147614 + 0.0372805\n",
      "[200]\tcv_agg's l2: 0.14184 + 0.0357491\n",
      "[300]\tcv_agg's l2: 0.141084 + 0.0340859\n"
     ]
    },
    {
     "name": "stderr",
     "output_type": "stream",
     "text": [
      "bagging, val_score: 0.140160:  60%|###############################8                     | 6/10 [00:12<00:08,  2.18s/it][I 2023-11-25 18:16:31,873] Trial 32 finished with value: 0.14120209112966128 and parameters: {'bagging_fraction': 0.7759460154678662, 'bagging_freq': 1}. Best is trial 32 with value: 0.14120209112966128.\n",
      "bagging, val_score: 0.140160:  60%|###############################8                     | 6/10 [00:12<00:08,  2.18s/it]"
     ]
    },
    {
     "name": "stdout",
     "output_type": "stream",
     "text": [
      "Early stopping, best iteration is:\n",
      "[281]\tcv_agg's l2: 0.14016 + 0.0428426\n",
      "[100]\tcv_agg's l2: 0.151238 + 0.0444508\n",
      "[200]\tcv_agg's l2: 0.142606 + 0.0404989\n",
      "[300]\tcv_agg's l2: 0.141337 + 0.0387615\n"
     ]
    },
    {
     "name": "stderr",
     "output_type": "stream",
     "text": [
      "bagging, val_score: 0.140160:  70%|#####################################                | 7/10 [00:15<00:06,  2.17s/it][I 2023-11-25 18:16:34,039] Trial 33 finished with value: 0.14121521191514905 and parameters: {'bagging_fraction': 0.721463685827848, 'bagging_freq': 1}. Best is trial 32 with value: 0.14120209112966128.\n",
      "bagging, val_score: 0.140160:  70%|#####################################                | 7/10 [00:15<00:06,  2.17s/it]"
     ]
    },
    {
     "name": "stdout",
     "output_type": "stream",
     "text": [
      "Early stopping, best iteration is:\n",
      "[281]\tcv_agg's l2: 0.14016 + 0.0428426\n",
      "[100]\tcv_agg's l2: 0.150494 + 0.0385692\n",
      "[200]\tcv_agg's l2: 0.143952 + 0.0363459\n",
      "[300]\tcv_agg's l2: 0.142448 + 0.0356201\n"
     ]
    },
    {
     "name": "stderr",
     "output_type": "stream",
     "text": [
      "bagging, val_score: 0.140160:  80%|##########################################4          | 8/10 [00:17<00:04,  2.23s/it][I 2023-11-25 18:16:36,390] Trial 34 finished with value: 0.1424677493365124 and parameters: {'bagging_fraction': 0.7649959022202995, 'bagging_freq': 1}. Best is trial 32 with value: 0.14120209112966128.\n",
      "bagging, val_score: 0.140160:  80%|##########################################4          | 8/10 [00:17<00:04,  2.23s/it]"
     ]
    },
    {
     "name": "stdout",
     "output_type": "stream",
     "text": [
      "Early stopping, best iteration is:\n",
      "[281]\tcv_agg's l2: 0.14016 + 0.0428426\n",
      "[100]\tcv_agg's l2: 0.151222 + 0.0395358\n",
      "[200]\tcv_agg's l2: 0.146878 + 0.0398185\n",
      "[300]\tcv_agg's l2: 0.146778 + 0.0388541\n"
     ]
    },
    {
     "name": "stderr",
     "output_type": "stream",
     "text": [
      "bagging, val_score: 0.140160:  90%|###############################################7     | 9/10 [00:19<00:02,  2.25s/it][I 2023-11-25 18:16:38,673] Trial 35 finished with value: 0.14688858756923248 and parameters: {'bagging_fraction': 0.7947727432855817, 'bagging_freq': 2}. Best is trial 32 with value: 0.14120209112966128.\n",
      "bagging, val_score: 0.140160:  90%|###############################################7     | 9/10 [00:19<00:02,  2.25s/it]"
     ]
    },
    {
     "name": "stdout",
     "output_type": "stream",
     "text": [
      "Early stopping, best iteration is:\n",
      "[281]\tcv_agg's l2: 0.14016 + 0.0428426\n",
      "[100]\tcv_agg's l2: 0.165804 + 0.0333439\n",
      "[200]\tcv_agg's l2: 0.158265 + 0.0281416\n",
      "[300]\tcv_agg's l2: 0.155253 + 0.0277429\n"
     ]
    },
    {
     "name": "stderr",
     "output_type": "stream",
     "text": [
      "bagging, val_score: 0.140160: 100%|####################################################| 10/10 [00:22<00:00,  2.28s/it][I 2023-11-25 18:16:41,020] Trial 36 finished with value: 0.15610326795114432 and parameters: {'bagging_fraction': 0.6163568441696987, 'bagging_freq': 1}. Best is trial 32 with value: 0.14120209112966128.\n",
      "bagging, val_score: 0.140160: 100%|####################################################| 10/10 [00:22<00:00,  2.20s/it]\n"
     ]
    },
    {
     "name": "stdout",
     "output_type": "stream",
     "text": [
      "Early stopping, best iteration is:\n",
      "[281]\tcv_agg's l2: 0.14016 + 0.0428426\n"
     ]
    },
    {
     "name": "stderr",
     "output_type": "stream",
     "text": [
      "feature_fraction_stage2, val_score: 0.140160:   0%|                                              | 0/3 [00:00<?, ?it/s]"
     ]
    },
    {
     "name": "stdout",
     "output_type": "stream",
     "text": [
      "[100]\tcv_agg's l2: 0.151875 + 0.045401\n",
      "[200]\tcv_agg's l2: 0.145637 + 0.0408803\n",
      "[300]\tcv_agg's l2: 0.144344 + 0.0393772\n"
     ]
    },
    {
     "name": "stderr",
     "output_type": "stream",
     "text": [
      "feature_fraction_stage2, val_score: 0.140160:  33%|############6                         | 1/3 [00:02<00:04,  2.26s/it][I 2023-11-25 18:16:43,290] Trial 37 finished with value: 0.1442261618701035 and parameters: {'feature_fraction': 0.44800000000000006}. Best is trial 37 with value: 0.1442261618701035.\n",
      "feature_fraction_stage2, val_score: 0.140160:  33%|############6                         | 1/3 [00:02<00:04,  2.26s/it]"
     ]
    },
    {
     "name": "stdout",
     "output_type": "stream",
     "text": [
      "Early stopping, best iteration is:\n",
      "[281]\tcv_agg's l2: 0.14016 + 0.0428426\n",
      "[100]\tcv_agg's l2: 0.151148 + 0.0474295\n",
      "[200]\tcv_agg's l2: 0.144667 + 0.0436243\n",
      "[300]\tcv_agg's l2: 0.143062 + 0.0423651\n"
     ]
    },
    {
     "name": "stderr",
     "output_type": "stream",
     "text": [
      "feature_fraction_stage2, val_score: 0.140160:  67%|#########################3            | 2/3 [00:04<00:02,  2.22s/it][I 2023-11-25 18:16:45,480] Trial 38 finished with value: 0.14322539613240484 and parameters: {'feature_fraction': 0.48000000000000004}. Best is trial 38 with value: 0.14322539613240484.\n",
      "feature_fraction_stage2, val_score: 0.140160:  67%|#########################3            | 2/3 [00:04<00:02,  2.22s/it]"
     ]
    },
    {
     "name": "stdout",
     "output_type": "stream",
     "text": [
      "Early stopping, best iteration is:\n",
      "[281]\tcv_agg's l2: 0.14016 + 0.0428426\n",
      "[100]\tcv_agg's l2: 0.145311 + 0.0475425\n",
      "[200]\tcv_agg's l2: 0.139835 + 0.0447216\n",
      "[300]\tcv_agg's l2: 0.139435 + 0.0438455\n",
      "[400]\tcv_agg's l2: 0.138701 + 0.0432714\n"
     ]
    },
    {
     "name": "stderr",
     "output_type": "stream",
     "text": [
      "feature_fraction_stage2, val_score: 0.138516: 100%|######################################| 3/3 [00:07<00:00,  2.52s/it][I 2023-11-25 18:16:48,370] Trial 39 finished with value: 0.1385155612940828 and parameters: {'feature_fraction': 0.41600000000000004}. Best is trial 39 with value: 0.1385155612940828.\n",
      "feature_fraction_stage2, val_score: 0.138516: 100%|######################################| 3/3 [00:07<00:00,  2.45s/it]\n"
     ]
    },
    {
     "name": "stdout",
     "output_type": "stream",
     "text": [
      "[500]\tcv_agg's l2: 0.138872 + 0.0427434\n",
      "Early stopping, best iteration is:\n",
      "[416]\tcv_agg's l2: 0.138516 + 0.0431376\n"
     ]
    },
    {
     "name": "stderr",
     "output_type": "stream",
     "text": [
      "regularization_factors, val_score: 0.138516:   0%|                                              | 0/20 [00:00<?, ?it/s]"
     ]
    },
    {
     "name": "stdout",
     "output_type": "stream",
     "text": [
      "[100]\tcv_agg's l2: 0.145091 + 0.048982\n",
      "[200]\tcv_agg's l2: 0.139716 + 0.0449566\n",
      "[300]\tcv_agg's l2: 0.138472 + 0.0441477\n",
      "[400]\tcv_agg's l2: 0.137708 + 0.0435863\n",
      "[500]\tcv_agg's l2: 0.137725 + 0.0431196\n"
     ]
    },
    {
     "name": "stderr",
     "output_type": "stream",
     "text": [
      "regularization_factors, val_score: 0.137480:   5%|#9                                    | 1/20 [00:03<01:04,  3.38s/it][I 2023-11-25 18:16:51,761] Trial 40 finished with value: 0.13748035074585013 and parameters: {'lambda_l1': 0.003125537699354942, 'lambda_l2': 3.71828204040878e-05}. Best is trial 40 with value: 0.13748035074585013.\n",
      "regularization_factors, val_score: 0.137480:   5%|#9                                    | 1/20 [00:03<01:04,  3.38s/it]"
     ]
    },
    {
     "name": "stdout",
     "output_type": "stream",
     "text": [
      "Early stopping, best iteration is:\n",
      "[459]\tcv_agg's l2: 0.13748 + 0.0433012\n",
      "[100]\tcv_agg's l2: 0.14513 + 0.0489596\n",
      "[200]\tcv_agg's l2: 0.140186 + 0.045823\n",
      "[300]\tcv_agg's l2: 0.138725 + 0.044156\n",
      "[400]\tcv_agg's l2: 0.138477 + 0.0435963\n",
      "[500]\tcv_agg's l2: 0.138586 + 0.0432326\n"
     ]
    },
    {
     "name": "stderr",
     "output_type": "stream",
     "text": [
      "regularization_factors, val_score: 0.137480:  10%|###8                                  | 2/20 [00:06<00:58,  3.25s/it][I 2023-11-25 18:16:54,925] Trial 41 finished with value: 0.13850752638192865 and parameters: {'lambda_l1': 0.0035321298535857266, 'lambda_l2': 3.4546293377821295e-05}. Best is trial 40 with value: 0.13748035074585013.\n",
      "regularization_factors, val_score: 0.137480:  10%|###8                                  | 2/20 [00:06<00:58,  3.25s/it]"
     ]
    },
    {
     "name": "stdout",
     "output_type": "stream",
     "text": [
      "Early stopping, best iteration is:\n",
      "[459]\tcv_agg's l2: 0.13748 + 0.0433012\n",
      "[100]\tcv_agg's l2: 0.144191 + 0.0481449\n",
      "[200]\tcv_agg's l2: 0.139766 + 0.0454988\n",
      "[300]\tcv_agg's l2: 0.138485 + 0.0441819\n",
      "[400]\tcv_agg's l2: 0.138344 + 0.043607\n",
      "[500]\tcv_agg's l2: 0.138215 + 0.0429277\n"
     ]
    },
    {
     "name": "stderr",
     "output_type": "stream",
     "text": [
      "regularization_factors, val_score: 0.137480:  15%|#####7                                | 3/20 [00:09<00:54,  3.22s/it][I 2023-11-25 18:16:58,096] Trial 42 finished with value: 0.13836130953842876 and parameters: {'lambda_l1': 0.004429287911855743, 'lambda_l2': 4.342246854987756e-05}. Best is trial 40 with value: 0.13748035074585013.\n",
      "regularization_factors, val_score: 0.137480:  15%|#####7                                | 3/20 [00:09<00:54,  3.22s/it]"
     ]
    },
    {
     "name": "stdout",
     "output_type": "stream",
     "text": [
      "Early stopping, best iteration is:\n",
      "[459]\tcv_agg's l2: 0.13748 + 0.0433012\n",
      "[100]\tcv_agg's l2: 0.144691 + 0.0477563\n",
      "[200]\tcv_agg's l2: 0.139137 + 0.0447569\n",
      "[300]\tcv_agg's l2: 0.137876 + 0.0445394\n",
      "[400]\tcv_agg's l2: 0.137751 + 0.0436478\n",
      "[500]\tcv_agg's l2: 0.138218 + 0.0436786\n"
     ]
    },
    {
     "name": "stderr",
     "output_type": "stream",
     "text": [
      "regularization_factors, val_score: 0.137480:  20%|#######6                              | 4/20 [00:12<00:51,  3.20s/it][I 2023-11-25 18:17:01,262] Trial 43 finished with value: 0.13796094300432352 and parameters: {'lambda_l1': 0.004182329596850986, 'lambda_l2': 3.318069682978662e-05}. Best is trial 40 with value: 0.13748035074585013.\n",
      "regularization_factors, val_score: 0.137480:  20%|#######6                              | 4/20 [00:12<00:51,  3.20s/it]"
     ]
    },
    {
     "name": "stdout",
     "output_type": "stream",
     "text": [
      "Early stopping, best iteration is:\n",
      "[459]\tcv_agg's l2: 0.13748 + 0.0433012\n",
      "[100]\tcv_agg's l2: 0.144555 + 0.0478601\n",
      "[200]\tcv_agg's l2: 0.139208 + 0.0453193\n",
      "[300]\tcv_agg's l2: 0.137562 + 0.0452096\n",
      "[400]\tcv_agg's l2: 0.137264 + 0.0443561\n",
      "[500]\tcv_agg's l2: 0.137436 + 0.0443404\n"
     ]
    },
    {
     "name": "stderr",
     "output_type": "stream",
     "text": [
      "regularization_factors, val_score: 0.137063:  25%|#########5                            | 5/20 [00:16<00:47,  3.18s/it][I 2023-11-25 18:17:04,403] Trial 44 finished with value: 0.13706302480572977 and parameters: {'lambda_l1': 0.004064839568876865, 'lambda_l2': 3.48188902464538e-05}. Best is trial 44 with value: 0.13706302480572977.\n",
      "regularization_factors, val_score: 0.137063:  25%|#########5                            | 5/20 [00:16<00:47,  3.18s/it]"
     ]
    },
    {
     "name": "stdout",
     "output_type": "stream",
     "text": [
      "Early stopping, best iteration is:\n",
      "[451]\tcv_agg's l2: 0.137063 + 0.044253\n",
      "[100]\tcv_agg's l2: 0.144192 + 0.0481449\n",
      "[200]\tcv_agg's l2: 0.13911 + 0.0444018\n",
      "[300]\tcv_agg's l2: 0.13767 + 0.0440495\n",
      "[400]\tcv_agg's l2: 0.137338 + 0.043061\n",
      "[500]\tcv_agg's l2: 0.13746 + 0.0425484\n"
     ]
    },
    {
     "name": "stderr",
     "output_type": "stream",
     "text": [
      "regularization_factors, val_score: 0.137063:  30%|###########4                          | 6/20 [00:19<00:44,  3.17s/it][I 2023-11-25 18:17:07,556] Trial 45 finished with value: 0.13727924641545666 and parameters: {'lambda_l1': 0.004633050531718398, 'lambda_l2': 4.371602583187789e-05}. Best is trial 44 with value: 0.13706302480572977.\n",
      "regularization_factors, val_score: 0.137063:  30%|###########4                          | 6/20 [00:19<00:44,  3.17s/it]"
     ]
    },
    {
     "name": "stdout",
     "output_type": "stream",
     "text": [
      "Early stopping, best iteration is:\n",
      "[451]\tcv_agg's l2: 0.137063 + 0.044253\n",
      "[100]\tcv_agg's l2: 0.145243 + 0.0491724\n",
      "[200]\tcv_agg's l2: 0.139446 + 0.0444453\n",
      "[300]\tcv_agg's l2: 0.138068 + 0.0429059\n",
      "[400]\tcv_agg's l2: 0.137451 + 0.0422411\n",
      "[500]\tcv_agg's l2: 0.137468 + 0.0419045\n"
     ]
    },
    {
     "name": "stderr",
     "output_type": "stream",
     "text": [
      "regularization_factors, val_score: 0.137063:  35%|#############3                        | 7/20 [00:22<00:41,  3.16s/it][I 2023-11-25 18:17:10,710] Trial 46 finished with value: 0.13726627477654327 and parameters: {'lambda_l1': 0.003630699797935883, 'lambda_l2': 4.311047779299836e-05}. Best is trial 44 with value: 0.13706302480572977.\n",
      "regularization_factors, val_score: 0.137063:  35%|#############3                        | 7/20 [00:22<00:41,  3.16s/it]"
     ]
    },
    {
     "name": "stdout",
     "output_type": "stream",
     "text": [
      "Early stopping, best iteration is:\n",
      "[451]\tcv_agg's l2: 0.137063 + 0.044253\n",
      "[100]\tcv_agg's l2: 0.144692 + 0.0477562\n",
      "[200]\tcv_agg's l2: 0.139536 + 0.0456604\n",
      "[300]\tcv_agg's l2: 0.13816 + 0.0444058\n",
      "[400]\tcv_agg's l2: 0.13796 + 0.0438824\n",
      "[500]\tcv_agg's l2: 0.137884 + 0.0431402\n"
     ]
    },
    {
     "name": "stderr",
     "output_type": "stream",
     "text": [
      "regularization_factors, val_score: 0.137063:  40%|###############2                      | 8/20 [00:25<00:38,  3.17s/it][I 2023-11-25 18:17:13,895] Trial 47 finished with value: 0.1379442777082621 and parameters: {'lambda_l1': 0.004343589921517039, 'lambda_l2': 4.102708858622019e-05}. Best is trial 44 with value: 0.13706302480572977.\n",
      "regularization_factors, val_score: 0.137063:  40%|###############2                      | 8/20 [00:25<00:38,  3.17s/it]"
     ]
    },
    {
     "name": "stdout",
     "output_type": "stream",
     "text": [
      "Early stopping, best iteration is:\n",
      "[451]\tcv_agg's l2: 0.137063 + 0.044253\n",
      "[100]\tcv_agg's l2: 0.145091 + 0.048982\n",
      "[200]\tcv_agg's l2: 0.139469 + 0.0451117\n",
      "[300]\tcv_agg's l2: 0.138524 + 0.0442396\n",
      "[400]\tcv_agg's l2: 0.13846 + 0.0441793\n",
      "[500]\tcv_agg's l2: 0.138393 + 0.0438855\n"
     ]
    },
    {
     "name": "stderr",
     "output_type": "stream",
     "text": [
      "regularization_factors, val_score: 0.137063:  45%|#################1                    | 9/20 [00:28<00:34,  3.16s/it][I 2023-11-25 18:17:17,029] Trial 48 finished with value: 0.1382607570484682 and parameters: {'lambda_l1': 0.0032543685267672137, 'lambda_l2': 4.903013188623506e-05}. Best is trial 44 with value: 0.13706302480572977.\n",
      "regularization_factors, val_score: 0.137063:  45%|#################1                    | 9/20 [00:28<00:34,  3.16s/it]"
     ]
    },
    {
     "name": "stdout",
     "output_type": "stream",
     "text": [
      "Early stopping, best iteration is:\n",
      "[451]\tcv_agg's l2: 0.137063 + 0.044253\n",
      "[100]\tcv_agg's l2: 0.144553 + 0.0478609\n",
      "[200]\tcv_agg's l2: 0.139961 + 0.0450932\n",
      "[300]\tcv_agg's l2: 0.138546 + 0.0449219\n",
      "[400]\tcv_agg's l2: 0.137978 + 0.0441292\n",
      "[500]\tcv_agg's l2: 0.138241 + 0.0438294\n"
     ]
    },
    {
     "name": "stderr",
     "output_type": "stream",
     "text": [
      "regularization_factors, val_score: 0.137063:  50%|##################5                  | 10/20 [00:31<00:31,  3.14s/it][I 2023-11-25 18:17:20,143] Trial 49 finished with value: 0.13815847185061164 and parameters: {'lambda_l1': 0.003993781325528326, 'lambda_l2': 3.829010293834282e-05}. Best is trial 44 with value: 0.13706302480572977.\n",
      "regularization_factors, val_score: 0.137063:  50%|##################5                  | 10/20 [00:31<00:31,  3.14s/it]"
     ]
    },
    {
     "name": "stdout",
     "output_type": "stream",
     "text": [
      "Early stopping, best iteration is:\n",
      "[451]\tcv_agg's l2: 0.137063 + 0.044253\n",
      "[100]\tcv_agg's l2: 0.15165 + 0.0484922\n",
      "[200]\tcv_agg's l2: 0.146135 + 0.0457743\n",
      "[300]\tcv_agg's l2: 0.145041 + 0.0455426\n",
      "[400]\tcv_agg's l2: 0.144772 + 0.0449281\n",
      "[500]\tcv_agg's l2: 0.144298 + 0.0445206\n"
     ]
    },
    {
     "name": "stderr",
     "output_type": "stream",
     "text": [
      "regularization_factors, val_score: 0.137063:  55%|####################3                | 11/20 [00:35<00:30,  3.35s/it][I 2023-11-25 18:17:23,955] Trial 50 finished with value: 0.14447843745076208 and parameters: {'lambda_l1': 0.2025467150566478, 'lambda_l2': 0.0022798329586240325}. Best is trial 44 with value: 0.13706302480572977.\n",
      "regularization_factors, val_score: 0.137063:  55%|####################3                | 11/20 [00:35<00:30,  3.35s/it]"
     ]
    },
    {
     "name": "stdout",
     "output_type": "stream",
     "text": [
      "Early stopping, best iteration is:\n",
      "[451]\tcv_agg's l2: 0.137063 + 0.044253\n",
      "[100]\tcv_agg's l2: 0.145667 + 0.0487723\n",
      "[200]\tcv_agg's l2: 0.140256 + 0.0456555\n",
      "[300]\tcv_agg's l2: 0.13931 + 0.0442473\n",
      "[400]\tcv_agg's l2: 0.138877 + 0.0437299\n",
      "[500]\tcv_agg's l2: 0.138912 + 0.0436881\n"
     ]
    },
    {
     "name": "stderr",
     "output_type": "stream",
     "text": [
      "regularization_factors, val_score: 0.137063:  60%|######################2              | 12/20 [00:38<00:26,  3.30s/it][I 2023-11-25 18:17:27,130] Trial 51 finished with value: 0.13890814750669914 and parameters: {'lambda_l1': 0.002660915122066057, 'lambda_l2': 1.7003927360522222e-05}. Best is trial 44 with value: 0.13706302480572977.\n",
      "regularization_factors, val_score: 0.137063:  60%|######################2              | 12/20 [00:38<00:26,  3.30s/it]"
     ]
    },
    {
     "name": "stdout",
     "output_type": "stream",
     "text": [
      "Early stopping, best iteration is:\n",
      "[451]\tcv_agg's l2: 0.137063 + 0.044253\n",
      "[100]\tcv_agg's l2: 0.145243 + 0.0491724\n",
      "[200]\tcv_agg's l2: 0.139446 + 0.0444452\n",
      "[300]\tcv_agg's l2: 0.137922 + 0.0426371\n",
      "[400]\tcv_agg's l2: 0.137258 + 0.0418889\n",
      "[500]\tcv_agg's l2: 0.137291 + 0.0415821\n"
     ]
    },
    {
     "name": "stderr",
     "output_type": "stream",
     "text": [
      "regularization_factors, val_score: 0.137063:  65%|########################             | 13/20 [00:42<00:23,  3.39s/it][I 2023-11-25 18:17:30,751] Trial 52 finished with value: 0.1371210709121828 and parameters: {'lambda_l1': 0.003614987723344213, 'lambda_l2': 1.8607564092054375e-05}. Best is trial 44 with value: 0.13706302480572977.\n",
      "regularization_factors, val_score: 0.137063:  65%|########################             | 13/20 [00:42<00:23,  3.39s/it]"
     ]
    },
    {
     "name": "stdout",
     "output_type": "stream",
     "text": [
      "Early stopping, best iteration is:\n",
      "[451]\tcv_agg's l2: 0.137063 + 0.044253\n",
      "[100]\tcv_agg's l2: 0.145311 + 0.0475425\n",
      "[200]\tcv_agg's l2: 0.139835 + 0.0447216\n",
      "[300]\tcv_agg's l2: 0.139435 + 0.0438455\n",
      "[400]\tcv_agg's l2: 0.138701 + 0.0432714\n",
      "[500]\tcv_agg's l2: 0.138872 + 0.0427434\n"
     ]
    },
    {
     "name": "stderr",
     "output_type": "stream",
     "text": [
      "regularization_factors, val_score: 0.137063:  70%|#########################9           | 14/20 [00:45<00:19,  3.33s/it][I 2023-11-25 18:17:33,918] Trial 53 finished with value: 0.13876291101533272 and parameters: {'lambda_l1': 1.459908892869271e-07, 'lambda_l2': 4.813127766465378e-07}. Best is trial 44 with value: 0.13706302480572977.\n",
      "regularization_factors, val_score: 0.137063:  70%|#########################9           | 14/20 [00:45<00:19,  3.33s/it]"
     ]
    },
    {
     "name": "stdout",
     "output_type": "stream",
     "text": [
      "Early stopping, best iteration is:\n",
      "[451]\tcv_agg's l2: 0.137063 + 0.044253\n",
      "[100]\tcv_agg's l2: 0.154698 + 0.0506965\n",
      "[200]\tcv_agg's l2: 0.150523 + 0.0484924\n",
      "[300]\tcv_agg's l2: 0.148981 + 0.0476162\n",
      "[400]\tcv_agg's l2: 0.148506 + 0.0471967\n",
      "[500]\tcv_agg's l2: 0.148372 + 0.0470655\n"
     ]
    },
    {
     "name": "stderr",
     "output_type": "stream",
     "text": [
      "regularization_factors, val_score: 0.137063:  75%|###########################7         | 15/20 [00:48<00:16,  3.29s/it][I 2023-11-25 18:17:37,123] Trial 54 finished with value: 0.1483439991681813 and parameters: {'lambda_l1': 0.03189764515590285, 'lambda_l2': 0.9285556793612924}. Best is trial 44 with value: 0.13706302480572977.\n",
      "regularization_factors, val_score: 0.137063:  75%|###########################7         | 15/20 [00:48<00:16,  3.29s/it]"
     ]
    },
    {
     "name": "stdout",
     "output_type": "stream",
     "text": [
      "Early stopping, best iteration is:\n",
      "[451]\tcv_agg's l2: 0.137063 + 0.044253\n",
      "[100]\tcv_agg's l2: 0.145498 + 0.0474118\n",
      "[200]\tcv_agg's l2: 0.140015 + 0.0443602\n",
      "[300]\tcv_agg's l2: 0.138474 + 0.0436167\n",
      "[400]\tcv_agg's l2: 0.138318 + 0.0425932\n",
      "[500]\tcv_agg's l2: 0.138305 + 0.0420973\n"
     ]
    },
    {
     "name": "stderr",
     "output_type": "stream",
     "text": [
      "regularization_factors, val_score: 0.137063:  80%|#############################6       | 16/20 [00:52<00:14,  3.51s/it][I 2023-11-25 18:17:41,151] Trial 55 finished with value: 0.13839495532314697 and parameters: {'lambda_l1': 0.00016724511625734344, 'lambda_l2': 2.4481280199785945e-06}. Best is trial 44 with value: 0.13706302480572977.\n",
      "regularization_factors, val_score: 0.137063:  80%|#############################6       | 16/20 [00:52<00:14,  3.51s/it]"
     ]
    },
    {
     "name": "stdout",
     "output_type": "stream",
     "text": [
      "Early stopping, best iteration is:\n",
      "[451]\tcv_agg's l2: 0.137063 + 0.044253\n",
      "[100]\tcv_agg's l2: 0.144892 + 0.0467624\n",
      "[200]\tcv_agg's l2: 0.140094 + 0.0442922\n",
      "[300]\tcv_agg's l2: 0.139548 + 0.0431554\n",
      "[400]\tcv_agg's l2: 0.138931 + 0.0425129\n",
      "[500]\tcv_agg's l2: 0.13876 + 0.0416645\n"
     ]
    },
    {
     "name": "stderr",
     "output_type": "stream",
     "text": [
      "regularization_factors, val_score: 0.137063:  85%|###############################4     | 17/20 [00:56<00:10,  3.46s/it][I 2023-11-25 18:17:44,505] Trial 56 finished with value: 0.13869167654583933 and parameters: {'lambda_l1': 0.0005934482827623234, 'lambda_l2': 0.000640528651655986}. Best is trial 44 with value: 0.13706302480572977.\n",
      "regularization_factors, val_score: 0.137063:  85%|###############################4     | 17/20 [00:56<00:10,  3.46s/it]"
     ]
    },
    {
     "name": "stdout",
     "output_type": "stream",
     "text": [
      "Early stopping, best iteration is:\n",
      "[451]\tcv_agg's l2: 0.137063 + 0.044253\n",
      "[100]\tcv_agg's l2: 0.149943 + 0.050521\n",
      "[200]\tcv_agg's l2: 0.143875 + 0.0458276\n",
      "[300]\tcv_agg's l2: 0.142725 + 0.0442677\n",
      "[400]\tcv_agg's l2: 0.142369 + 0.0438182\n",
      "[500]\tcv_agg's l2: 0.142112 + 0.0437646\n"
     ]
    },
    {
     "name": "stderr",
     "output_type": "stream",
     "text": [
      "regularization_factors, val_score: 0.137063:  90%|#################################3   | 18/20 [00:59<00:06,  3.37s/it][I 2023-11-25 18:17:47,642] Trial 57 finished with value: 0.1423420713992373 and parameters: {'lambda_l1': 0.03896187414552163, 'lambda_l2': 1.8964312885865773e-06}. Best is trial 44 with value: 0.13706302480572977.\n",
      "regularization_factors, val_score: 0.137063:  90%|#################################3   | 18/20 [00:59<00:06,  3.37s/it]"
     ]
    },
    {
     "name": "stdout",
     "output_type": "stream",
     "text": [
      "Early stopping, best iteration is:\n",
      "[451]\tcv_agg's l2: 0.137063 + 0.044253\n",
      "[100]\tcv_agg's l2: 0.145498 + 0.0474117\n",
      "[200]\tcv_agg's l2: 0.140016 + 0.0443597\n",
      "[300]\tcv_agg's l2: 0.13891 + 0.0432894\n",
      "[400]\tcv_agg's l2: 0.138318 + 0.0426027\n",
      "[500]\tcv_agg's l2: 0.138037 + 0.0422882\n"
     ]
    },
    {
     "name": "stderr",
     "output_type": "stream",
     "text": [
      "regularization_factors, val_score: 0.137063:  95%|###################################1 | 19/20 [01:02<00:03,  3.27s/it][I 2023-11-25 18:17:50,676] Trial 58 finished with value: 0.13803837937397095 and parameters: {'lambda_l1': 0.00019530979592620546, 'lambda_l2': 0.0003347939085854055}. Best is trial 44 with value: 0.13706302480572977.\n",
      "regularization_factors, val_score: 0.137063:  95%|###################################1 | 19/20 [01:02<00:03,  3.27s/it]"
     ]
    },
    {
     "name": "stdout",
     "output_type": "stream",
     "text": [
      "Early stopping, best iteration is:\n",
      "[451]\tcv_agg's l2: 0.137063 + 0.044253\n",
      "[100]\tcv_agg's l2: 0.208458 + 0.0571183\n",
      "[200]\tcv_agg's l2: 0.206029 + 0.0566692\n",
      "[300]\tcv_agg's l2: 0.206022 + 0.0566686\n",
      "[400]\tcv_agg's l2: 0.206022 + 0.0566687\n",
      "[500]\tcv_agg's l2: 0.206022 + 0.0566687\n"
     ]
    },
    {
     "name": "stderr",
     "output_type": "stream",
     "text": [
      "regularization_factors, val_score: 0.137063: 100%|#####################################| 20/20 [01:03<00:00,  2.68s/it][I 2023-11-25 18:17:52,002] Trial 59 finished with value: 0.2060215342184873 and parameters: {'lambda_l1': 9.120686512440104, 'lambda_l2': 5.635650881386769e-06}. Best is trial 44 with value: 0.13706302480572977.\n",
      "regularization_factors, val_score: 0.137063: 100%|#####################################| 20/20 [01:03<00:00,  3.18s/it]\n"
     ]
    },
    {
     "name": "stdout",
     "output_type": "stream",
     "text": [
      "Early stopping, best iteration is:\n",
      "[451]\tcv_agg's l2: 0.137063 + 0.044253\n"
     ]
    },
    {
     "name": "stderr",
     "output_type": "stream",
     "text": [
      "min_data_in_leaf, val_score: 0.137063:   0%|                                                     | 0/5 [00:00<?, ?it/s]"
     ]
    },
    {
     "name": "stdout",
     "output_type": "stream",
     "text": [
      "[100]\tcv_agg's l2: 0.218954 + 0.056914\n",
      "[200]\tcv_agg's l2: 0.20968 + 0.0524959\n",
      "[300]\tcv_agg's l2: 0.209569 + 0.0526765\n",
      "[400]\tcv_agg's l2: 0.209525 + 0.0517442\n",
      "[500]\tcv_agg's l2: 0.211229 + 0.0513308\n",
      "Early stopping, best iteration is:\n",
      "[451]\tcv_agg's l2: 0.137063 + 0.044253\n"
     ]
    },
    {
     "name": "stderr",
     "output_type": "stream",
     "text": [
      "min_data_in_leaf, val_score: 0.137063:  20%|#########                                    | 1/5 [00:02<00:09,  2.39s/it][I 2023-11-25 18:17:54,396] Trial 60 finished with value: 0.21032558187333952 and parameters: {'min_child_samples': 50}. Best is trial 60 with value: 0.21032558187333952.\n",
      "min_data_in_leaf, val_score: 0.137063:  20%|#########                                    | 1/5 [00:02<00:09,  2.39s/it]"
     ]
    },
    {
     "name": "stdout",
     "output_type": "stream",
     "text": [
      "[100]\tcv_agg's l2: 0.67659 + 0.0570957\n",
      "[200]\tcv_agg's l2: 0.640998 + 0.0482802\n",
      "[300]\tcv_agg's l2: 0.622896 + 0.0524509\n",
      "[400]\tcv_agg's l2: 0.608919 + 0.0542374\n"
     ]
    },
    {
     "name": "stderr",
     "output_type": "stream",
     "text": [
      "min_data_in_leaf, val_score: 0.137063:  40%|##################                           | 2/5 [00:04<00:06,  2.21s/it]"
     ]
    },
    {
     "name": "stdout",
     "output_type": "stream",
     "text": [
      "[500]\tcv_agg's l2: 0.601556 + 0.0551809\n",
      "Early stopping, best iteration is:\n",
      "[451]\tcv_agg's l2: 0.137063 + 0.044253\n"
     ]
    },
    {
     "name": "stderr",
     "output_type": "stream",
     "text": [
      "[I 2023-11-25 18:17:56,483] Trial 61 finished with value: 0.6055672397055712 and parameters: {'min_child_samples': 100}. Best is trial 60 with value: 0.21032558187333952.\n",
      "min_data_in_leaf, val_score: 0.137063:  40%|##################                           | 2/5 [00:04<00:06,  2.21s/it]"
     ]
    },
    {
     "name": "stdout",
     "output_type": "stream",
     "text": [
      "[100]\tcv_agg's l2: 0.150113 + 0.0441\n",
      "[200]\tcv_agg's l2: 0.147119 + 0.0436223\n",
      "[300]\tcv_agg's l2: 0.146098 + 0.0432626\n",
      "[400]\tcv_agg's l2: 0.145998 + 0.0430912\n",
      "[500]\tcv_agg's l2: 0.145954 + 0.0429175\n"
     ]
    },
    {
     "name": "stderr",
     "output_type": "stream",
     "text": [
      "min_data_in_leaf, val_score: 0.137063:  60%|###########################                  | 3/5 [00:08<00:05,  2.82s/it][I 2023-11-25 18:18:00,022] Trial 62 finished with value: 0.14612499039679433 and parameters: {'min_child_samples': 5}. Best is trial 62 with value: 0.14612499039679433.\n",
      "min_data_in_leaf, val_score: 0.137063:  60%|###########################                  | 3/5 [00:08<00:05,  2.82s/it]"
     ]
    },
    {
     "name": "stdout",
     "output_type": "stream",
     "text": [
      "Early stopping, best iteration is:\n",
      "[451]\tcv_agg's l2: 0.137063 + 0.044253\n",
      "[100]\tcv_agg's l2: 0.142203 + 0.0432165\n",
      "[200]\tcv_agg's l2: 0.137953 + 0.0419311\n",
      "[300]\tcv_agg's l2: 0.136366 + 0.0418877\n"
     ]
    },
    {
     "name": "stderr",
     "output_type": "stream",
     "text": [
      "min_data_in_leaf, val_score: 0.136079:  80%|####################################         | 4/5 [00:10<00:02,  2.79s/it][I 2023-11-25 18:18:02,762] Trial 63 finished with value: 0.13607937410176643 and parameters: {'min_child_samples': 10}. Best is trial 63 with value: 0.13607937410176643.\n",
      "min_data_in_leaf, val_score: 0.136079:  80%|####################################         | 4/5 [00:10<00:02,  2.79s/it]"
     ]
    },
    {
     "name": "stdout",
     "output_type": "stream",
     "text": [
      "[400]\tcv_agg's l2: 0.136148 + 0.0414118\n",
      "Early stopping, best iteration is:\n",
      "[319]\tcv_agg's l2: 0.136079 + 0.0416269\n",
      "[100]\tcv_agg's l2: 0.15544 + 0.0482453\n",
      "[200]\tcv_agg's l2: 0.148672 + 0.0468165\n",
      "[300]\tcv_agg's l2: 0.14732 + 0.0456081\n"
     ]
    },
    {
     "name": "stderr",
     "output_type": "stream",
     "text": [
      "min_data_in_leaf, val_score: 0.136079: 100%|#############################################| 5/5 [00:13<00:00,  2.70s/it][I 2023-11-25 18:18:05,314] Trial 64 finished with value: 0.1475396836389984 and parameters: {'min_child_samples': 25}. Best is trial 63 with value: 0.13607937410176643.\n",
      "min_data_in_leaf, val_score: 0.136079: 100%|#############################################| 5/5 [00:13<00:00,  2.66s/it]"
     ]
    },
    {
     "name": "stdout",
     "output_type": "stream",
     "text": [
      "[400]\tcv_agg's l2: 0.147301 + 0.0452056\n",
      "Early stopping, best iteration is:\n",
      "[319]\tcv_agg's l2: 0.136079 + 0.0416269\n"
     ]
    },
    {
     "name": "stderr",
     "output_type": "stream",
     "text": [
      "\n"
     ]
    }
   ],
   "source": [
    "import optuna.integration.lightgbm as lgb\n",
    "from lightgbm import early_stopping\n",
    "from sklearn.model_selection import KFold\n",
    "from sklearn.model_selection import RepeatedKFold\n",
    "\n",
    "\n",
    "lgb_train = lgb.Dataset(X_train_random_split, y_train_random_split)\n",
    "\n",
    "params = {\n",
    "    \"boosting_type\": \"gbdt\",\n",
    "    \"objective\": \"regression\",\n",
    "    \"metric\": \"l2\",\n",
    "    \"verbosity\": -1,\n",
    "}\n",
    "\n",
    "tuner = lgb.LightGBMTunerCV(\n",
    "    params,\n",
    "    lgb_train,\n",
    "    folds=KFold(n_splits=5),\n",
    "    num_boost_round=10000,\n",
    "    callbacks=[early_stopping(100), log_evaluation(100)],\n",
    ")\n",
    "\n",
    "tuner.run()"
   ]
  },
  {
   "cell_type": "code",
   "execution_count": 114,
   "id": "175988ae",
   "metadata": {},
   "outputs": [
    {
     "name": "stdout",
     "output_type": "stream",
     "text": [
      "Best score: 0.13607937410176643\n",
      "Params: \n",
      "    boosting_type: gbdt\n",
      "    objective: regression\n",
      "    metric: l2\n",
      "    verbosity: -1\n",
      "    feature_pre_filter: False\n",
      "    lambda_l1: 0.004064839568876865\n",
      "    lambda_l2: 3.48188902464538e-05\n",
      "    num_leaves: 16\n",
      "    feature_fraction: 0.41600000000000004\n",
      "    bagging_fraction: 1.0\n",
      "    bagging_freq: 0\n",
      "    min_child_samples: 10\n"
     ]
    }
   ],
   "source": [
    "print(f\"Best score: {tuner.best_score}\")\n",
    "best_params = tuner.best_params\n",
    "print(\"Params: \")\n",
    "for key, value in best_params.items():\n",
    "    print(\"    {}: {}\".format(key, value))"
   ]
  },
  {
   "cell_type": "code",
   "execution_count": 115,
   "id": "b8e0ae76",
   "metadata": {},
   "outputs": [],
   "source": [
    "import lightgbm as lgb\n",
    "\n",
    "lgb_tuned = lgb.train(\n",
    "    best_params,\n",
    "    lgb_train,\n",
    "    num_boost_round=10000,\n",
    ")"
   ]
  },
  {
   "cell_type": "code",
   "execution_count": 116,
   "id": "ab41f140",
   "metadata": {},
   "outputs": [
    {
     "name": "stdout",
     "output_type": "stream",
     "text": [
      "RMSE train: 0.00\n",
      "RMSE test: 0.31\n",
      "MAE test: 0.21\n",
      "\n"
     ]
    }
   ],
   "source": [
    "rmse, mae = assess_regression_model(\n",
    "    lgb_tuned,\n",
    "    X_train_random_split,\n",
    "    X_test_random_split,\n",
    "    y_train_random_split,\n",
    "    y_test_random_split,\n",
    ")"
   ]
  },
  {
   "cell_type": "code",
   "execution_count": 117,
   "id": "36a7d705",
   "metadata": {},
   "outputs": [],
   "source": [
    "results.loc[3] = [\"random\", \"Optuna\", \"full\", rmse, mae]"
   ]
  },
  {
   "cell_type": "markdown",
   "id": "baffe730",
   "metadata": {},
   "source": [
    "###### MAE by level"
   ]
  },
  {
   "cell_type": "code",
   "execution_count": 118,
   "id": "4206dff5",
   "metadata": {},
   "outputs": [
    {
     "data": {
      "image/png": "[encoded data removed]",
      "text/plain": [
       "<Figure size 1440x576 with 1 Axes>"
      ]
     },
     "metadata": {
      "needs_background": "light"
     },
     "output_type": "display_data"
    }
   ],
   "source": [
    "plot_mae_by_level(\n",
    "    y_test_random_split,\n",
    "    y_pred_test,\n",
    "    title=\"MAE by level for tuned LightGBM with full features and random split\",\n",
    "    export=True,\n",
    ")"
   ]
  },
  {
   "cell_type": "code",
   "execution_count": 119,
   "id": "502bdb9c",
   "metadata": {
    "scrolled": true
   },
   "outputs": [
    {
     "name": "stdout",
     "output_type": "stream",
     "text": [
      "Default:\n",
      "RMSE: 0.19\n",
      "\n",
      "Round type: 0.5\n",
      "RMSE: 0.18\n",
      "\n",
      "Round type: 0.33\n",
      "RMSE: 0.22\n",
      "\n",
      "Round type: 0.45\n",
      "RMSE: 0.17\n",
      "\n"
     ]
    }
   ],
   "source": [
    "predict = lgb_tuned.predict(X_test)\n",
    "evaluate_round_predictions([0.5, 0.33, 0.45], y_test, predict)"
   ]
  },
  {
   "cell_type": "code",
   "execution_count": 120,
   "id": "378511d8",
   "metadata": {},
   "outputs": [
    {
     "data": {
      "image/png": "[encoded data removed]",
      "text/plain": [
       "<Figure size 720x720 with 2 Axes>"
      ]
     },
     "metadata": {
      "needs_background": "light"
     },
     "output_type": "display_data"
    }
   ],
   "source": [
    "plot_confusion_matrix(\n",
    "    predict,\n",
    "    y_test,\n",
    "    title=\"Confusion matrix for tuned LightGBM with\\nfull features and random split\",\n",
    "    export=True,\n",
    ")"
   ]
  },
  {
   "cell_type": "markdown",
   "id": "0c29183a",
   "metadata": {},
   "source": [
    "### Best features"
   ]
  },
  {
   "cell_type": "code",
   "execution_count": 121,
   "id": "49646b6d",
   "metadata": {
    "scrolled": false
   },
   "outputs": [
    {
     "data": {
      "image/png": "[encoded data removed]",
      "text/plain": [
       "<Figure size 576x576 with 1 Axes>"
      ]
     },
     "metadata": {
      "needs_background": "light"
     },
     "output_type": "display_data"
    }
   ],
   "source": [
    "lgb_importances = lgb_tuned.feature_importance(importance_type=\"gain\")\n",
    "lgb_importances = (lgb_importances / lgb_importances.sum()) * 100\n",
    "feature_names = lgb_tuned.feature_name()\n",
    "\n",
    "\n",
    "data = list(zip(lgb_importances, feature_names))\n",
    "sorted_data = sorted(data, key=lambda x: x[0], reverse=True)\n",
    "lgb_importances, feature_names = zip(*sorted_data)\n",
    "\n",
    "plt.figure(figsize=(8, 8))\n",
    "plt.barh(feature_names, lgb_importances)\n",
    "plt.xlabel(\"Importance [%]\", fontweight=\"bold\", fontsize=15)\n",
    "plt.ylabel(\"Features\", fontweight=\"bold\", fontsize=15)\n",
    "plt.title(\"Best features\", fontweight=\"bold\", fontsize=20)\n",
    "plt.tight_layout()\n",
    "\n",
    "plt.show()"
   ]
  },
  {
   "cell_type": "code",
   "execution_count": 128,
   "id": "9d6f8fdf",
   "metadata": {
    "slideshow": {
     "slide_type": "subslide"
    }
   },
   "outputs": [
    {
     "data": {
      "image/png": "[encoded data removed]",
      "text/plain": [
       "<Figure size 576x576 with 1 Axes>"
      ]
     },
     "metadata": {
      "needs_background": "light"
     },
     "output_type": "display_data"
    }
   ],
   "source": [
    "top_features = sorted_data[:10]\n",
    "lgb_importances, feature_names = zip(*top_features)\n",
    "\n",
    "lgb_importances = list(lgb_importances)\n",
    "feature_names = list(feature_names)\n",
    "\n",
    "lgb_importances.append(100 - sum(lgb_importances))\n",
    "feature_names.append(\"other\")\n",
    "\n",
    "\n",
    "plt.figure(figsize=(8, 8))\n",
    "bars = plt.barh(feature_names, lgb_importances, label=lgb_importances)\n",
    "for bar in bars:\n",
    "    plt.text(\n",
    "        bar.get_width(),\n",
    "        bar.get_y() + bar.get_height() / 2,\n",
    "        round(bar.get_width(), 2),\n",
    "        ha=\"left\",\n",
    "        va=\"center\",\n",
    "    )\n",
    "\n",
    "\n",
    "plt.xlabel(\"Importance [%]\", fontweight=\"bold\", fontsize=15)\n",
    "plt.ylabel(\"Features\", fontweight=\"bold\", fontsize=15)\n",
    "plt.title(\"Best features\", fontweight=\"bold\", fontsize=20)\n",
    "\n",
    "plt.xlim(0, max(lgb_importances) + 4)\n",
    "\n",
    "plt.tight_layout()\n",
    "plt.savefig(f\"../results_diagrams/other/Best features.svg\")\n",
    "plt.show()"
   ]
  },
  {
   "cell_type": "markdown",
   "id": "cbf21c29",
   "metadata": {},
   "source": [
    "## Summary"
   ]
  },
  {
   "cell_type": "code",
   "execution_count": 123,
   "id": "d065edf6",
   "metadata": {
    "scrolled": false
   },
   "outputs": [
    {
     "data": {
      "text/html": [
       "<div>\n",
       "<style scoped>\n",
       "    .dataframe tbody tr th:only-of-type {\n",
       "        vertical-align: middle;\n",
       "    }\n",
       "\n",
       "    .dataframe tbody tr th {\n",
       "        vertical-align: top;\n",
       "    }\n",
       "\n",
       "    .dataframe thead th {\n",
       "        text-align: right;\n",
       "    }\n",
       "</style>\n",
       "<table border=\"1\" class=\"dataframe\">\n",
       "  <thead>\n",
       "    <tr style=\"text-align: right;\">\n",
       "      <th></th>\n",
       "      <th>Split type</th>\n",
       "      <th>Tuning type</th>\n",
       "      <th>Set of features</th>\n",
       "      <th>RMSE</th>\n",
       "      <th>MAE</th>\n",
       "    </tr>\n",
       "  </thead>\n",
       "  <tbody>\n",
       "    <tr>\n",
       "      <th>0</th>\n",
       "      <td>chronological</td>\n",
       "      <td>default</td>\n",
       "      <td>full</td>\n",
       "      <td>0.961949</td>\n",
       "      <td>0.464806</td>\n",
       "    </tr>\n",
       "    <tr>\n",
       "      <th>1</th>\n",
       "      <td>chronological</td>\n",
       "      <td>Optuna</td>\n",
       "      <td>full</td>\n",
       "      <td>0.725729</td>\n",
       "      <td>0.410218</td>\n",
       "    </tr>\n",
       "    <tr>\n",
       "      <th>2</th>\n",
       "      <td>random</td>\n",
       "      <td>default</td>\n",
       "      <td>full</td>\n",
       "      <td>0.371349</td>\n",
       "      <td>0.246737</td>\n",
       "    </tr>\n",
       "    <tr>\n",
       "      <th>3</th>\n",
       "      <td>random</td>\n",
       "      <td>Optuna</td>\n",
       "      <td>full</td>\n",
       "      <td>0.309018</td>\n",
       "      <td>0.214958</td>\n",
       "    </tr>\n",
       "  </tbody>\n",
       "</table>\n",
       "</div>"
      ],
      "text/plain": [
       "      Split type Tuning type Set of features      RMSE       MAE\n",
       "0  chronological     default            full  0.961949  0.464806\n",
       "1  chronological      Optuna            full  0.725729  0.410218\n",
       "2         random     default            full  0.371349  0.246737\n",
       "3         random      Optuna            full  0.309018  0.214958"
      ]
     },
     "execution_count": 123,
     "metadata": {},
     "output_type": "execute_result"
    }
   ],
   "source": [
    "results"
   ]
  },
  {
   "cell_type": "code",
   "execution_count": 124,
   "id": "5ab8f79f",
   "metadata": {},
   "outputs": [],
   "source": [
    "from training.results import plot_summary"
   ]
  },
  {
   "cell_type": "code",
   "execution_count": 125,
   "id": "a642225d",
   "metadata": {},
   "outputs": [
    {
     "data": {
      "image/png": "[encoded data removed]",
      "text/plain": [
       "<Figure size 1440x576 with 1 Axes>"
      ]
     },
     "metadata": {
      "needs_background": "light"
     },
     "output_type": "display_data"
    }
   ],
   "source": [
    "plot_summary(results, \"RMSE\", title=\"RMSE for LightGBM with full features\")"
   ]
  },
  {
   "cell_type": "code",
   "execution_count": 126,
   "id": "07e30e23",
   "metadata": {},
   "outputs": [
    {
     "data": {
      "image/png": "[encoded data removed]",
      "text/plain": [
       "<Figure size 1440x576 with 1 Axes>"
      ]
     },
     "metadata": {
      "needs_background": "light"
     },
     "output_type": "display_data"
    }
   ],
   "source": [
    "plot_summary(results, \"MAE\", title=\"MAE for LightGBM with full features\")"
   ]
  },
  {
   "cell_type": "code",
   "execution_count": 127,
   "id": "ae68a99c",
   "metadata": {},
   "outputs": [],
   "source": [
    "results.to_csv(\"./lightgbm_full_results.csv\")"
   ]
  },
  {
   "cell_type": "code",
   "execution_count": null,
   "id": "745b56ef",
   "metadata": {},
   "outputs": [],
   "source": []
  }
 ],
 "metadata": {
  "kernelspec": {
   "display_name": "Python 3 (ipykernel)",
   "language": "python",
   "name": "python3"
  },
  "language_info": {
   "codemirror_mode": {
    "name": "ipython",
    "version": 3
   },
   "file_extension": ".py",
   "mimetype": "text/x-python",
   "name": "python",
   "nbconvert_exporter": "python",
   "pygments_lexer": "ipython3",
   "version": "3.10.4"
  }
 },
 "nbformat": 4,
 "nbformat_minor": 5
}
