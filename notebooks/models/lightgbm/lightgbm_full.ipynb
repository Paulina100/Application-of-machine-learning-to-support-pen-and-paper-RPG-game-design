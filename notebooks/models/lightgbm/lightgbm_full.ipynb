{
 "cells": [
  {
   "cell_type": "markdown",
   "id": "f64a671f",
   "metadata": {},
   "source": [
    "# LightGBM\n",
    "### Parameters:\n",
    "System:\n",
    "* **abilities**:\n",
    "    * **cha**\n",
    "    * **con**\n",
    "    * **dex**\n",
    "    * **int**\n",
    "    * **str**\n",
    "    * **wis**\n",
    "* **attributes**\n",
    "    * **hp**\n",
    "    * **ac**\n",
    "    * **perception**\n",
    "    * **speed** (*land speed*)\n",
    "        * **other speeds**: fly, climb, swim\n",
    "    * **num immunities**\n",
    "    * **resistances**: fire, cold, electricity, acid, piercing, slashing, physical, bludgeoning, mental, poison, all-damage\n",
    "    * **weaknesses**: cold-iron, good, fire, cold, area-damage, splash-damage, evil, slashing\n",
    "* **saves**\n",
    "    * **fortitude**\n",
    "    * **reflex**\n",
    "    * **will**\n",
    "* **resources**\n",
    "    * **focus**\n",
    "\n",
    "Items\n",
    "* **items**\n",
    "    * **melee**\n",
    "    * **ranged**\n",
    "    * **spells nr**\n",
    "\n",
    "### Prediction: *level*\n",
    "\n",
    "## Loading data"
   ]
  },
  {
   "cell_type": "code",
   "execution_count": 1,
   "id": "1f2515e7",
   "metadata": {},
   "outputs": [],
   "source": [
    "import numpy as np\n",
    "import pandas as pd\n",
    "import sys\n",
    "\n",
    "import os\n",
    "import pathlib\n",
    "\n",
    "sys.path.append(\"../../..\")\n",
    "from training.creating_dataset import load_and_preprocess_data\n",
    "\n",
    "current_path = os.getcwd()\n",
    "DATASETS_DIR = pathlib.Path(current_path).parent.parent.parent / \"pathfinder_2e_data\"\n",
    "DATASET_FILES = [\n",
    "    \"pathfinder-bestiary.db\",\n",
    "    \"pathfinder-bestiary-2.db\",\n",
    "    \"pathfinder-bestiary-3.db\",\n",
    "]\n",
    "DATASET_PATHS = [f\"{DATASETS_DIR}/{file}\" for file in DATASET_FILES]\n",
    "features = [\n",
    "    \"cha\",\n",
    "    \"con\",\n",
    "    \"dex\",\n",
    "    \"int\",\n",
    "    \"str\",\n",
    "    \"wis\",\n",
    "    \"ac\",\n",
    "    \"hp\",\n",
    "    \"perception\",\n",
    "    \"fortitude\",\n",
    "    \"reflex\",\n",
    "    \"will\",\n",
    "    \"focus\",\n",
    "    \"land_speed\",\n",
    "    \"num_immunities\",\n",
    "    \"fly\",\n",
    "    \"swim\",\n",
    "    \"climb\",\n",
    "    \"fire_resistance\",\n",
    "    \"cold_resistance\",\n",
    "    \"electricity_resistance\",\n",
    "    \"acid_resistance\",\n",
    "    \"piercing_resistance\",\n",
    "    \"slashing_resistance\",\n",
    "    \"physical_resistance\",\n",
    "    \"bludgeoning_resistance\",\n",
    "    \"mental_resistance\",\n",
    "    \"poison_resistance\",\n",
    "    \"all-damage_resistance\",\n",
    "    \"cold-iron_weakness\",\n",
    "    \"good_weakness\",\n",
    "    \"fire_weakness\",\n",
    "    \"cold_weakness\",\n",
    "    \"area-damage_weakness\",\n",
    "    \"splash-damage_weakness\",\n",
    "    \"evil_weakness\",\n",
    "    \"slashing_weakness\",\n",
    "    \"melee\",\n",
    "    \"ranged\",\n",
    "    \"spells\",\n",
    "]\n",
    "\n",
    "df = load_and_preprocess_data(\n",
    "    DATASET_PATHS,\n",
    "    characteristics=features,\n",
    ")"
   ]
  },
  {
   "cell_type": "code",
   "execution_count": 2,
   "id": "b522f880",
   "metadata": {},
   "outputs": [
    {
     "name": "stdout",
     "output_type": "stream",
     "text": [
      "<class 'pandas.core.frame.DataFrame'>\n",
      "Int64Index: 1206 entries, 0 to 1205\n",
      "Data columns (total 52 columns):\n",
      " #   Column                  Non-Null Count  Dtype  \n",
      "---  ------                  --------------  -----  \n",
      " 0   int                     1206 non-null   int64  \n",
      " 1   will                    1206 non-null   int64  \n",
      " 2   wis                     1206 non-null   int64  \n",
      " 3   num_immunities          1206 non-null   int64  \n",
      " 4   land_speed              1206 non-null   float64\n",
      " 5   book                    1206 non-null   object \n",
      " 6   perception              1206 non-null   int64  \n",
      " 7   level                   1206 non-null   int64  \n",
      " 8   focus                   1206 non-null   int32  \n",
      " 9   ac                      1206 non-null   int64  \n",
      " 10  dex                     1206 non-null   int64  \n",
      " 11  fortitude               1206 non-null   int64  \n",
      " 12  reflex                  1206 non-null   int64  \n",
      " 13  hp                      1206 non-null   int64  \n",
      " 14  str                     1206 non-null   int64  \n",
      " 15  con                     1206 non-null   int64  \n",
      " 16  cha                     1206 non-null   int64  \n",
      " 17  bludgeoning_resistance  1206 non-null   int64  \n",
      " 18  mental_resistance       1206 non-null   int64  \n",
      " 19  cold_resistance         1206 non-null   int64  \n",
      " 20  fire_resistance         1206 non-null   int64  \n",
      " 21  poison_resistance       1206 non-null   int64  \n",
      " 22  electricity_resistance  1206 non-null   int64  \n",
      " 23  slashing_resistance     1206 non-null   int64  \n",
      " 24  all-damage_resistance   1206 non-null   int64  \n",
      " 25  physical_resistance     1206 non-null   int64  \n",
      " 26  acid_resistance         1206 non-null   int64  \n",
      " 27  piercing_resistance     1206 non-null   int64  \n",
      " 28  cold-iron_weakness      1206 non-null   int64  \n",
      " 29  splash-damage_weakness  1206 non-null   int64  \n",
      " 30  good_weakness           1206 non-null   int64  \n",
      " 31  cold_weakness           1206 non-null   int64  \n",
      " 32  fire_weakness           1206 non-null   int64  \n",
      " 33  evil_weakness           1206 non-null   int64  \n",
      " 34  area-damage_weakness    1206 non-null   int64  \n",
      " 35  slashing_weakness       1206 non-null   int64  \n",
      " 36  fly                     1206 non-null   int64  \n",
      " 37  climb                   1206 non-null   int64  \n",
      " 38  swim                    1206 non-null   int64  \n",
      " 39  spells_nr_lvl_1         1206 non-null   int64  \n",
      " 40  spells_nr_lvl_2         1206 non-null   int64  \n",
      " 41  spells_nr_lvl_3         1206 non-null   int64  \n",
      " 42  spells_nr_lvl_4         1206 non-null   int64  \n",
      " 43  spells_nr_lvl_5         1206 non-null   int64  \n",
      " 44  spells_nr_lvl_6         1206 non-null   int64  \n",
      " 45  spells_nr_lvl_7         1206 non-null   int64  \n",
      " 46  spells_nr_lvl_8         1206 non-null   int64  \n",
      " 47  spells_nr_lvl_9         1206 non-null   int64  \n",
      " 48  melee_max_bonus         1206 non-null   int64  \n",
      " 49  avg_melee_dmg           1206 non-null   float64\n",
      " 50  ranged_max_bonus        1206 non-null   int64  \n",
      " 51  avg_ranged_dmg          1206 non-null   float64\n",
      "dtypes: float64(3), int32(1), int64(47), object(1)\n",
      "memory usage: 494.6+ KB\n"
     ]
    }
   ],
   "source": [
    "df.info()"
   ]
  },
  {
   "cell_type": "code",
   "execution_count": 3,
   "id": "1b5450d3",
   "metadata": {},
   "outputs": [
    {
     "data": {
      "text/html": [
       "<div>\n",
       "<style scoped>\n",
       "    .dataframe tbody tr th:only-of-type {\n",
       "        vertical-align: middle;\n",
       "    }\n",
       "\n",
       "    .dataframe tbody tr th {\n",
       "        vertical-align: top;\n",
       "    }\n",
       "\n",
       "    .dataframe thead th {\n",
       "        text-align: right;\n",
       "    }\n",
       "</style>\n",
       "<table border=\"1\" class=\"dataframe\">\n",
       "  <thead>\n",
       "    <tr style=\"text-align: right;\">\n",
       "      <th></th>\n",
       "      <th>int</th>\n",
       "      <th>will</th>\n",
       "      <th>wis</th>\n",
       "      <th>num_immunities</th>\n",
       "      <th>land_speed</th>\n",
       "      <th>book</th>\n",
       "      <th>perception</th>\n",
       "      <th>level</th>\n",
       "      <th>focus</th>\n",
       "      <th>ac</th>\n",
       "      <th>...</th>\n",
       "      <th>spells_nr_lvl_4</th>\n",
       "      <th>spells_nr_lvl_5</th>\n",
       "      <th>spells_nr_lvl_6</th>\n",
       "      <th>spells_nr_lvl_7</th>\n",
       "      <th>spells_nr_lvl_8</th>\n",
       "      <th>spells_nr_lvl_9</th>\n",
       "      <th>melee_max_bonus</th>\n",
       "      <th>avg_melee_dmg</th>\n",
       "      <th>ranged_max_bonus</th>\n",
       "      <th>avg_ranged_dmg</th>\n",
       "    </tr>\n",
       "  </thead>\n",
       "  <tbody>\n",
       "    <tr>\n",
       "      <th>0</th>\n",
       "      <td>1</td>\n",
       "      <td>17</td>\n",
       "      <td>2</td>\n",
       "      <td>3</td>\n",
       "      <td>30.0</td>\n",
       "      <td>Pathfinder Bestiary</td>\n",
       "      <td>20</td>\n",
       "      <td>10</td>\n",
       "      <td>1</td>\n",
       "      <td>29</td>\n",
       "      <td>...</td>\n",
       "      <td>0</td>\n",
       "      <td>0</td>\n",
       "      <td>0</td>\n",
       "      <td>0</td>\n",
       "      <td>0</td>\n",
       "      <td>0</td>\n",
       "      <td>23</td>\n",
       "      <td>22.0</td>\n",
       "      <td>0</td>\n",
       "      <td>0.0</td>\n",
       "    </tr>\n",
       "    <tr>\n",
       "      <th>1</th>\n",
       "      <td>-4</td>\n",
       "      <td>16</td>\n",
       "      <td>2</td>\n",
       "      <td>0</td>\n",
       "      <td>35.0</td>\n",
       "      <td>Pathfinder Bestiary</td>\n",
       "      <td>16</td>\n",
       "      <td>10</td>\n",
       "      <td>0</td>\n",
       "      <td>28</td>\n",
       "      <td>...</td>\n",
       "      <td>0</td>\n",
       "      <td>0</td>\n",
       "      <td>0</td>\n",
       "      <td>0</td>\n",
       "      <td>0</td>\n",
       "      <td>0</td>\n",
       "      <td>23</td>\n",
       "      <td>22.0</td>\n",
       "      <td>0</td>\n",
       "      <td>0.0</td>\n",
       "    </tr>\n",
       "    <tr>\n",
       "      <th>2</th>\n",
       "      <td>-4</td>\n",
       "      <td>15</td>\n",
       "      <td>3</td>\n",
       "      <td>0</td>\n",
       "      <td>30.0</td>\n",
       "      <td>Pathfinder Bestiary</td>\n",
       "      <td>17</td>\n",
       "      <td>8</td>\n",
       "      <td>0</td>\n",
       "      <td>25</td>\n",
       "      <td>...</td>\n",
       "      <td>0</td>\n",
       "      <td>0</td>\n",
       "      <td>0</td>\n",
       "      <td>0</td>\n",
       "      <td>0</td>\n",
       "      <td>0</td>\n",
       "      <td>21</td>\n",
       "      <td>16.0</td>\n",
       "      <td>0</td>\n",
       "      <td>0.0</td>\n",
       "    </tr>\n",
       "    <tr>\n",
       "      <th>3</th>\n",
       "      <td>6</td>\n",
       "      <td>32</td>\n",
       "      <td>5</td>\n",
       "      <td>3</td>\n",
       "      <td>50.0</td>\n",
       "      <td>Pathfinder Bestiary</td>\n",
       "      <td>30</td>\n",
       "      <td>17</td>\n",
       "      <td>1</td>\n",
       "      <td>41</td>\n",
       "      <td>...</td>\n",
       "      <td>1</td>\n",
       "      <td>0</td>\n",
       "      <td>1</td>\n",
       "      <td>0</td>\n",
       "      <td>0</td>\n",
       "      <td>0</td>\n",
       "      <td>33</td>\n",
       "      <td>31.5</td>\n",
       "      <td>0</td>\n",
       "      <td>0.0</td>\n",
       "    </tr>\n",
       "    <tr>\n",
       "      <th>4</th>\n",
       "      <td>-1</td>\n",
       "      <td>4</td>\n",
       "      <td>1</td>\n",
       "      <td>0</td>\n",
       "      <td>0.0</td>\n",
       "      <td>Pathfinder Bestiary</td>\n",
       "      <td>6</td>\n",
       "      <td>1</td>\n",
       "      <td>1</td>\n",
       "      <td>16</td>\n",
       "      <td>...</td>\n",
       "      <td>1</td>\n",
       "      <td>0</td>\n",
       "      <td>0</td>\n",
       "      <td>0</td>\n",
       "      <td>0</td>\n",
       "      <td>0</td>\n",
       "      <td>0</td>\n",
       "      <td>0.0</td>\n",
       "      <td>8</td>\n",
       "      <td>5.0</td>\n",
       "    </tr>\n",
       "  </tbody>\n",
       "</table>\n",
       "<p>5 rows × 52 columns</p>\n",
       "</div>"
      ],
      "text/plain": [
       "   int  will  wis  num_immunities  land_speed                 book  \\\n",
       "0    1    17    2               3        30.0  Pathfinder Bestiary   \n",
       "1   -4    16    2               0        35.0  Pathfinder Bestiary   \n",
       "2   -4    15    3               0        30.0  Pathfinder Bestiary   \n",
       "3    6    32    5               3        50.0  Pathfinder Bestiary   \n",
       "4   -1     4    1               0         0.0  Pathfinder Bestiary   \n",
       "\n",
       "   perception  level  focus  ac  ...  spells_nr_lvl_4  spells_nr_lvl_5  \\\n",
       "0          20     10      1  29  ...                0                0   \n",
       "1          16     10      0  28  ...                0                0   \n",
       "2          17      8      0  25  ...                0                0   \n",
       "3          30     17      1  41  ...                1                0   \n",
       "4           6      1      1  16  ...                1                0   \n",
       "\n",
       "   spells_nr_lvl_6  spells_nr_lvl_7  spells_nr_lvl_8  spells_nr_lvl_9  \\\n",
       "0                0                0                0                0   \n",
       "1                0                0                0                0   \n",
       "2                0                0                0                0   \n",
       "3                1                0                0                0   \n",
       "4                0                0                0                0   \n",
       "\n",
       "   melee_max_bonus  avg_melee_dmg  ranged_max_bonus  avg_ranged_dmg  \n",
       "0               23           22.0                 0             0.0  \n",
       "1               23           22.0                 0             0.0  \n",
       "2               21           16.0                 0             0.0  \n",
       "3               33           31.5                 0             0.0  \n",
       "4                0            0.0                 8             5.0  \n",
       "\n",
       "[5 rows x 52 columns]"
      ]
     },
     "execution_count": 3,
     "metadata": {},
     "output_type": "execute_result"
    }
   ],
   "source": [
    "df.head()"
   ]
  },
  {
   "cell_type": "markdown",
   "id": "0caa661f",
   "metadata": {},
   "source": [
    "###### Level"
   ]
  },
  {
   "cell_type": "code",
   "execution_count": 4,
   "id": "c200d2b4",
   "metadata": {},
   "outputs": [
    {
     "data": {
      "text/plain": [
       "0       10\n",
       "1       10\n",
       "2        8\n",
       "3       17\n",
       "4        1\n",
       "        ..\n",
       "1201    20\n",
       "1202    -1\n",
       "1203    12\n",
       "1204     6\n",
       "1205     6\n",
       "Name: level, Length: 1206, dtype: int64"
      ]
     },
     "execution_count": 4,
     "metadata": {},
     "output_type": "execute_result"
    }
   ],
   "source": [
    "y = df[\"level\"]\n",
    "y"
   ]
  },
  {
   "cell_type": "code",
   "execution_count": 5,
   "id": "553822a7",
   "metadata": {},
   "outputs": [],
   "source": [
    "from collections import defaultdict\n",
    "\n",
    "\n",
    "lvl_stat = defaultdict(lambda: 0)\n",
    "\n",
    "for lvl in y:\n",
    "    lvl_stat[lvl] += 1"
   ]
  },
  {
   "cell_type": "code",
   "execution_count": 6,
   "id": "e45d6c29",
   "metadata": {},
   "outputs": [
    {
     "data": {
      "text/html": [
       "<div>\n",
       "<style scoped>\n",
       "    .dataframe tbody tr th:only-of-type {\n",
       "        vertical-align: middle;\n",
       "    }\n",
       "\n",
       "    .dataframe tbody tr th {\n",
       "        vertical-align: top;\n",
       "    }\n",
       "\n",
       "    .dataframe thead th {\n",
       "        text-align: right;\n",
       "    }\n",
       "</style>\n",
       "<table border=\"1\" class=\"dataframe\">\n",
       "  <thead>\n",
       "    <tr style=\"text-align: right;\">\n",
       "      <th></th>\n",
       "      <th>lvl</th>\n",
       "      <th>count</th>\n",
       "    </tr>\n",
       "  </thead>\n",
       "  <tbody>\n",
       "    <tr>\n",
       "      <th>0</th>\n",
       "      <td>-1</td>\n",
       "      <td>34</td>\n",
       "    </tr>\n",
       "    <tr>\n",
       "      <th>1</th>\n",
       "      <td>0</td>\n",
       "      <td>27</td>\n",
       "    </tr>\n",
       "    <tr>\n",
       "      <th>2</th>\n",
       "      <td>1</td>\n",
       "      <td>127</td>\n",
       "    </tr>\n",
       "    <tr>\n",
       "      <th>3</th>\n",
       "      <td>2</td>\n",
       "      <td>121</td>\n",
       "    </tr>\n",
       "    <tr>\n",
       "      <th>4</th>\n",
       "      <td>3</td>\n",
       "      <td>95</td>\n",
       "    </tr>\n",
       "    <tr>\n",
       "      <th>5</th>\n",
       "      <td>4</td>\n",
       "      <td>82</td>\n",
       "    </tr>\n",
       "    <tr>\n",
       "      <th>6</th>\n",
       "      <td>5</td>\n",
       "      <td>76</td>\n",
       "    </tr>\n",
       "    <tr>\n",
       "      <th>7</th>\n",
       "      <td>6</td>\n",
       "      <td>72</td>\n",
       "    </tr>\n",
       "    <tr>\n",
       "      <th>8</th>\n",
       "      <td>7</td>\n",
       "      <td>77</td>\n",
       "    </tr>\n",
       "    <tr>\n",
       "      <th>9</th>\n",
       "      <td>8</td>\n",
       "      <td>68</td>\n",
       "    </tr>\n",
       "    <tr>\n",
       "      <th>10</th>\n",
       "      <td>9</td>\n",
       "      <td>63</td>\n",
       "    </tr>\n",
       "    <tr>\n",
       "      <th>11</th>\n",
       "      <td>10</td>\n",
       "      <td>58</td>\n",
       "    </tr>\n",
       "    <tr>\n",
       "      <th>12</th>\n",
       "      <td>11</td>\n",
       "      <td>40</td>\n",
       "    </tr>\n",
       "    <tr>\n",
       "      <th>13</th>\n",
       "      <td>12</td>\n",
       "      <td>41</td>\n",
       "    </tr>\n",
       "    <tr>\n",
       "      <th>14</th>\n",
       "      <td>13</td>\n",
       "      <td>36</td>\n",
       "    </tr>\n",
       "    <tr>\n",
       "      <th>15</th>\n",
       "      <td>14</td>\n",
       "      <td>33</td>\n",
       "    </tr>\n",
       "    <tr>\n",
       "      <th>16</th>\n",
       "      <td>15</td>\n",
       "      <td>31</td>\n",
       "    </tr>\n",
       "    <tr>\n",
       "      <th>17</th>\n",
       "      <td>16</td>\n",
       "      <td>25</td>\n",
       "    </tr>\n",
       "    <tr>\n",
       "      <th>18</th>\n",
       "      <td>17</td>\n",
       "      <td>21</td>\n",
       "    </tr>\n",
       "    <tr>\n",
       "      <th>19</th>\n",
       "      <td>18</td>\n",
       "      <td>21</td>\n",
       "    </tr>\n",
       "    <tr>\n",
       "      <th>20</th>\n",
       "      <td>19</td>\n",
       "      <td>18</td>\n",
       "    </tr>\n",
       "    <tr>\n",
       "      <th>21</th>\n",
       "      <td>20</td>\n",
       "      <td>24</td>\n",
       "    </tr>\n",
       "    <tr>\n",
       "      <th>22</th>\n",
       "      <td>21</td>\n",
       "      <td>16</td>\n",
       "    </tr>\n",
       "  </tbody>\n",
       "</table>\n",
       "</div>"
      ],
      "text/plain": [
       "    lvl  count\n",
       "0    -1     34\n",
       "1     0     27\n",
       "2     1    127\n",
       "3     2    121\n",
       "4     3     95\n",
       "5     4     82\n",
       "6     5     76\n",
       "7     6     72\n",
       "8     7     77\n",
       "9     8     68\n",
       "10    9     63\n",
       "11   10     58\n",
       "12   11     40\n",
       "13   12     41\n",
       "14   13     36\n",
       "15   14     33\n",
       "16   15     31\n",
       "17   16     25\n",
       "18   17     21\n",
       "19   18     21\n",
       "20   19     18\n",
       "21   20     24\n",
       "22   21     16"
      ]
     },
     "execution_count": 6,
     "metadata": {},
     "output_type": "execute_result"
    }
   ],
   "source": [
    "level_count = pd.DataFrame(\n",
    "    data={\n",
    "        \"lvl\": [key for key in sorted(lvl_stat.keys())],\n",
    "        \"count\": [lvl_stat.get(key) for key in sorted(lvl_stat.keys())],\n",
    "    }\n",
    ")\n",
    "level_count"
   ]
  },
  {
   "cell_type": "code",
   "execution_count": 9,
   "id": "bdbfe8de",
   "metadata": {},
   "outputs": [
    {
     "data": {
      "image/png": "[encoded data removed]",
      "text/plain": [
       "<Figure size 432x288 with 1 Axes>"
      ]
     },
     "metadata": {
      "needs_background": "light"
     },
     "output_type": "display_data"
    }
   ],
   "source": [
    "import matplotlib.pyplot as plt\n",
    "\n",
    "\n",
    "level_count.plot.bar(x=\"lvl\", y=\"count\", title=\"Count of levels\")\n",
    "\n",
    "plt.savefig(f\"../results_diagrams/other/Count of levels.svg\")\n",
    "\n",
    "plt.show()"
   ]
  },
  {
   "cell_type": "markdown",
   "id": "9fdb6541",
   "metadata": {},
   "source": [
    "## Train test split"
   ]
  },
  {
   "cell_type": "markdown",
   "id": "18f56629",
   "metadata": {},
   "source": [
    "### Chronological split"
   ]
  },
  {
   "cell_type": "code",
   "execution_count": 8,
   "id": "dcda359b",
   "metadata": {},
   "outputs": [],
   "source": [
    "from training.splitting_dataset import split_dataframe\n",
    "\n",
    "\n",
    "os.chdir(\"../../../training\")\n",
    "X_train, X_test, y_train, y_test = split_dataframe(df, test_size=0.31)\n",
    "os.chdir(\"../notebooks/models/lightgbm\")"
   ]
  },
  {
   "cell_type": "code",
   "execution_count": 9,
   "id": "17dbc875",
   "metadata": {},
   "outputs": [],
   "source": [
    "X_train = X_train.drop(columns=[\"book\"])\n",
    "X_test = X_test.drop(columns=[\"book\"])"
   ]
  },
  {
   "cell_type": "markdown",
   "id": "25879636",
   "metadata": {},
   "source": [
    "### Random split"
   ]
  },
  {
   "cell_type": "code",
   "execution_count": 10,
   "id": "982ec5eb",
   "metadata": {},
   "outputs": [],
   "source": [
    "(\n",
    "    X_train_random_split,\n",
    "    X_test_random_split,\n",
    "    y_train_random_split,\n",
    "    y_test_random_split,\n",
    ") = split_dataframe(df, chronological_split=False)"
   ]
  },
  {
   "cell_type": "code",
   "execution_count": 11,
   "id": "90569e78",
   "metadata": {},
   "outputs": [],
   "source": [
    "X_train_random_split = X_train_random_split.drop(columns=[\"book\"])\n",
    "X_test_random_split = X_test_random_split.drop(columns=[\"book\"])"
   ]
  },
  {
   "cell_type": "markdown",
   "id": "9b259fbf",
   "metadata": {},
   "source": [
    "## LightGBM"
   ]
  },
  {
   "cell_type": "markdown",
   "id": "14f37d9b",
   "metadata": {},
   "source": [
    "## Chronological split"
   ]
  },
  {
   "cell_type": "code",
   "execution_count": 12,
   "id": "2bc4c90e",
   "metadata": {},
   "outputs": [
    {
     "name": "stdout",
     "output_type": "stream",
     "text": [
      "[LightGBM] [Warning] Auto-choosing row-wise multi-threading, the overhead of testing was 0.000920 seconds.\n",
      "You can set `force_row_wise=true` to remove the overhead.\n",
      "And if memory is not enough, you can set `force_col_wise=true`.\n",
      "[LightGBM] [Info] Total Bins 756\n",
      "[LightGBM] [Info] Number of data points in the train set: 841, number of used features: 45\n",
      "[LightGBM] [Info] Start training from score 6.966706\n",
      "Training until validation scores don't improve for 5 rounds\n",
      "[LightGBM] [Warning] No further splits with positive gain, best gain: -inf\n",
      "[LightGBM] [Warning] No further splits with positive gain, best gain: -inf\n",
      "[LightGBM] [Warning] No further splits with positive gain, best gain: -inf\n",
      "[LightGBM] [Warning] No further splits with positive gain, best gain: -inf\n",
      "[LightGBM] [Warning] No further splits with positive gain, best gain: -inf\n",
      "Early stopping, best iteration is:\n",
      "[88]\tvalid_0's l1: 0.463517\tvalid_0's l2: 0.932502\n"
     ]
    }
   ],
   "source": [
    "import lightgbm as lgb\n",
    "\n",
    "lgb_train = lgb.Dataset(X_train, y_train)\n",
    "lgb_eval = lgb.Dataset(X_test, y_test, reference=lgb_train)\n",
    "\n",
    "params = {\n",
    "    \"boosting_type\": \"gbdt\",\n",
    "    \"objective\": \"regression\",\n",
    "    \"metric\": {\"l2\", \"l1\"},\n",
    "}\n",
    "\n",
    "gbm = lgb.train(\n",
    "    params,\n",
    "    lgb_train,\n",
    "    num_boost_round=100,\n",
    "    valid_sets=lgb_eval,\n",
    "    callbacks=[lgb.early_stopping(stopping_rounds=5)],\n",
    ")"
   ]
  },
  {
   "cell_type": "code",
   "execution_count": 13,
   "id": "f1ae2eaa",
   "metadata": {},
   "outputs": [],
   "source": [
    "y_pred_train = gbm.predict(X_train, num_iteration=gbm.best_iteration)\n",
    "y_pred_test = gbm.predict(X_test, num_iteration=gbm.best_iteration)"
   ]
  },
  {
   "cell_type": "code",
   "execution_count": 14,
   "id": "ef9d09eb",
   "metadata": {},
   "outputs": [
    {
     "name": "stdout",
     "output_type": "stream",
     "text": [
      "RMSE: 0.97\n",
      "MAE: 0.46\n"
     ]
    }
   ],
   "source": [
    "from sklearn.metrics import mean_squared_error, mean_absolute_error\n",
    "\n",
    "\n",
    "rmse = mean_squared_error(y_test, y_pred_test, squared=False)\n",
    "mae = mean_absolute_error(y_test, y_pred_test)\n",
    "\n",
    "print(f\"RMSE: {rmse:.2f}\")\n",
    "print(f\"MAE: {mae:.2f}\")"
   ]
  },
  {
   "cell_type": "code",
   "execution_count": 15,
   "id": "6e288d53",
   "metadata": {},
   "outputs": [],
   "source": [
    "results = pd.DataFrame(\n",
    "    data={\n",
    "        \"Split type\": [],\n",
    "        \"Tuning type\": [],\n",
    "        \"Set of features\": [],\n",
    "        \"RMSE\": [],\n",
    "        \"MAE\": [],\n",
    "    }\n",
    ")\n",
    "\n",
    "results.loc[0] = [\"chronological\", \"default\", \"full\", rmse, mae]"
   ]
  },
  {
   "cell_type": "code",
   "execution_count": 16,
   "id": "78bb7ffa",
   "metadata": {},
   "outputs": [
    {
     "name": "stdout",
     "output_type": "stream",
     "text": [
      "RMSE train: 0.13\n",
      "RMSE test: 0.97\n"
     ]
    }
   ],
   "source": [
    "rmse_train = mean_squared_error(y_train, y_pred_train, squared=False)\n",
    "rmse_test = mean_squared_error(y_test, y_pred_test, squared=False)\n",
    "print(f\"RMSE train: {rmse_train:.2f}\")\n",
    "print(f\"RMSE test: {rmse_test:.2f}\")"
   ]
  },
  {
   "cell_type": "markdown",
   "id": "1822ab4b",
   "metadata": {},
   "source": [
    "###### MAE by level"
   ]
  },
  {
   "cell_type": "code",
   "execution_count": 17,
   "id": "89d4733e",
   "metadata": {},
   "outputs": [],
   "source": [
    "from training.results import plot_mae_by_level"
   ]
  },
  {
   "cell_type": "code",
   "execution_count": 18,
   "id": "062bc79b",
   "metadata": {},
   "outputs": [
    {
     "data": {
      "image/png": "[encoded data removed]",
      "text/plain": [
       "<Figure size 1440x576 with 1 Axes>"
      ]
     },
     "metadata": {
      "needs_background": "light"
     },
     "output_type": "display_data"
    }
   ],
   "source": [
    "plot_mae_by_level(\n",
    "    y_test,\n",
    "    y_pred_test,\n",
    "    title=\"MAE by level for default LightGBM with full features and chronological split\",\n",
    ")"
   ]
  },
  {
   "cell_type": "code",
   "execution_count": 19,
   "id": "ec8cab49",
   "metadata": {
    "scrolled": true
   },
   "outputs": [
    {
     "name": "stdout",
     "output_type": "stream",
     "text": [
      "Default:\n",
      "RMSE: 0.97\n",
      "\n",
      "Round type: 0.5\n",
      "RMSE: 0.98\n",
      "\n",
      "Round type: 0.33\n",
      "RMSE: 0.96\n",
      "\n",
      "Round type: 0.45\n",
      "RMSE: 0.96\n",
      "\n"
     ]
    }
   ],
   "source": [
    "from training.results import evaluate_round_predictions, plot_confusion_matrix\n",
    "\n",
    "\n",
    "evaluate_round_predictions([0.5, 0.33, 0.45], y_test, y_pred_test)"
   ]
  },
  {
   "cell_type": "code",
   "execution_count": 20,
   "id": "9129a0ae",
   "metadata": {},
   "outputs": [
    {
     "data": {
      "image/png": "[encoded data removed]",
      "text/plain": [
       "<Figure size 720x720 with 2 Axes>"
      ]
     },
     "metadata": {
      "needs_background": "light"
     },
     "output_type": "display_data"
    }
   ],
   "source": [
    "plot_confusion_matrix(\n",
    "    y_pred_test,\n",
    "    y_test,\n",
    "    title=\"Confusion matrix for default LightGBM with\\nfull features and chronological split\",\n",
    ")"
   ]
  },
  {
   "cell_type": "markdown",
   "id": "0e591f6c",
   "metadata": {},
   "source": [
    "#### Tuning"
   ]
  },
  {
   "cell_type": "code",
   "execution_count": 21,
   "id": "2f781cab",
   "metadata": {},
   "outputs": [],
   "source": [
    "from training.results import assess_regression_model"
   ]
  },
  {
   "cell_type": "code",
   "execution_count": 22,
   "id": "d8734e01",
   "metadata": {},
   "outputs": [
    {
     "name": "stderr",
     "output_type": "stream",
     "text": [
      "[I 2023-11-10 12:01:32,668] A new study created in memory with name: no-name-7cbc132e-006b-4f9b-b1b1-d52ffe5a1fe1\n",
      "feature_fraction, val_score: inf:   0%|                                                          | 0/7 [00:00<?, ?it/s]"
     ]
    },
    {
     "name": "stdout",
     "output_type": "stream",
     "text": [
      "Training until validation scores don't improve for 100 rounds\n",
      "[100]\tcv_agg's l2: 0.149162 + 0.0385352\n",
      "[200]\tcv_agg's l2: 0.145245 + 0.0366082\n",
      "[300]\tcv_agg's l2: 0.144528 + 0.0360369\n"
     ]
    },
    {
     "name": "stderr",
     "output_type": "stream",
     "text": [
      "feature_fraction, val_score: 0.144186:  14%|######4                                      | 1/7 [00:06<00:41,  6.85s/it][I 2023-11-10 12:01:39,522] Trial 0 finished with value: 0.14418623539175418 and parameters: {'feature_fraction': 0.8999999999999999}. Best is trial 0 with value: 0.14418623539175418.\n",
      "feature_fraction, val_score: 0.144186:  14%|######4                                      | 1/7 [00:06<00:41,  6.85s/it]"
     ]
    },
    {
     "name": "stdout",
     "output_type": "stream",
     "text": [
      "Early stopping, best iteration is:\n",
      "[262]\tcv_agg's l2: 0.144186 + 0.0362493\n",
      "[100]\tcv_agg's l2: 0.145984 + 0.0308765\n",
      "[200]\tcv_agg's l2: 0.141342 + 0.0291316\n",
      "[300]\tcv_agg's l2: 0.140713 + 0.0285508\n",
      "[400]\tcv_agg's l2: 0.140143 + 0.0281729\n",
      "[500]\tcv_agg's l2: 0.140022 + 0.0282435\n"
     ]
    },
    {
     "name": "stderr",
     "output_type": "stream",
     "text": [
      "\r",
      "feature_fraction, val_score: 0.139909:  14%|######4                                      | 1/7 [00:16<00:41,  6.85s/it]"
     ]
    },
    {
     "name": "stdout",
     "output_type": "stream",
     "text": [
      "[600]\tcv_agg's l2: 0.140058 + 0.0281382\n",
      "Early stopping, best iteration is:\n",
      "[512]\tcv_agg's l2: 0.139909 + 0.0281467\n"
     ]
    },
    {
     "name": "stderr",
     "output_type": "stream",
     "text": [
      "feature_fraction, val_score: 0.139909:  29%|############8                                | 2/7 [00:16<00:43,  8.77s/it][I 2023-11-10 12:01:49,645] Trial 1 finished with value: 0.13990923405703215 and parameters: {'feature_fraction': 0.6}. Best is trial 1 with value: 0.13990923405703215.\n",
      "feature_fraction, val_score: 0.139909:  29%|############8                                | 2/7 [00:16<00:43,  8.77s/it]"
     ]
    },
    {
     "name": "stdout",
     "output_type": "stream",
     "text": [
      "[100]\tcv_agg's l2: 0.150377 + 0.0346715\n",
      "[200]\tcv_agg's l2: 0.147366 + 0.034376\n",
      "[300]\tcv_agg's l2: 0.146827 + 0.0343263\n",
      "[400]\tcv_agg's l2: 0.146474 + 0.0343222\n",
      "[500]\tcv_agg's l2: 0.146221 + 0.034257\n"
     ]
    },
    {
     "name": "stderr",
     "output_type": "stream",
     "text": [
      "\r",
      "feature_fraction, val_score: 0.139909:  29%|############8                                | 2/7 [00:26<00:43,  8.77s/it]"
     ]
    },
    {
     "name": "stdout",
     "output_type": "stream",
     "text": [
      "[600]\tcv_agg's l2: 0.146327 + 0.0342941\n",
      "Early stopping, best iteration is:\n",
      "[512]\tcv_agg's l2: 0.139909 + 0.0281467\n"
     ]
    },
    {
     "name": "stderr",
     "output_type": "stream",
     "text": [
      "feature_fraction, val_score: 0.139909:  43%|###################2                         | 3/7 [00:26<00:36,  9.08s/it][I 2023-11-10 12:01:59,088] Trial 2 finished with value: 0.14621477071847117 and parameters: {'feature_fraction': 0.8}. Best is trial 1 with value: 0.13990923405703215.\n",
      "feature_fraction, val_score: 0.139909:  43%|###################2                         | 3/7 [00:26<00:36,  9.08s/it]"
     ]
    },
    {
     "name": "stdout",
     "output_type": "stream",
     "text": [
      "[100]\tcv_agg's l2: 0.14059 + 0.0314911\n",
      "[200]\tcv_agg's l2: 0.137449 + 0.0310318\n",
      "[300]\tcv_agg's l2: 0.135829 + 0.0298936\n",
      "[400]\tcv_agg's l2: 0.135287 + 0.0295096\n",
      "[500]\tcv_agg's l2: 0.134972 + 0.0292666\n",
      "[600]\tcv_agg's l2: 0.134777 + 0.0290704\n"
     ]
    },
    {
     "name": "stderr",
     "output_type": "stream",
     "text": [
      "feature_fraction, val_score: 0.134777:  57%|#########################7                   | 4/7 [00:38<00:30, 10.27s/it][I 2023-11-10 12:02:11,186] Trial 3 finished with value: 0.13477658058128927 and parameters: {'feature_fraction': 0.5}. Best is trial 3 with value: 0.13477658058128927.\n",
      "feature_fraction, val_score: 0.134777:  57%|#########################7                   | 4/7 [00:38<00:30, 10.27s/it]"
     ]
    },
    {
     "name": "stdout",
     "output_type": "stream",
     "text": [
      "[700]\tcv_agg's l2: 0.134779 + 0.0292019\n",
      "Early stopping, best iteration is:\n",
      "[600]\tcv_agg's l2: 0.134777 + 0.0290704\n",
      "[100]\tcv_agg's l2: 0.14758 + 0.0371168\n",
      "[200]\tcv_agg's l2: 0.142599 + 0.0351987\n",
      "[300]\tcv_agg's l2: 0.141527 + 0.0348701\n",
      "[400]\tcv_agg's l2: 0.141077 + 0.0343942\n",
      "[500]\tcv_agg's l2: 0.140876 + 0.0343709\n",
      "[600]\tcv_agg's l2: 0.140995 + 0.0344517\n"
     ]
    },
    {
     "name": "stderr",
     "output_type": "stream",
     "text": [
      "feature_fraction, val_score: 0.134777:  71%|################################1            | 5/7 [00:51<00:22, 11.18s/it][I 2023-11-10 12:02:23,985] Trial 4 finished with value: 0.14099487618410605 and parameters: {'feature_fraction': 0.4}. Best is trial 3 with value: 0.13477658058128927.\n",
      "feature_fraction, val_score: 0.134777:  71%|################################1            | 5/7 [00:51<00:22, 11.18s/it]"
     ]
    },
    {
     "name": "stdout",
     "output_type": "stream",
     "text": [
      "[700]\tcv_agg's l2: 0.140933 + 0.0345459\n",
      "Early stopping, best iteration is:\n",
      "[600]\tcv_agg's l2: 0.134777 + 0.0290704\n",
      "[100]\tcv_agg's l2: 0.151393 + 0.0376705\n",
      "[200]\tcv_agg's l2: 0.149682 + 0.0372732\n",
      "[300]\tcv_agg's l2: 0.148998 + 0.037382\n",
      "[400]\tcv_agg's l2: 0.14885 + 0.0376311\n",
      "[500]\tcv_agg's l2: 0.148963 + 0.0379131\n",
      "[600]\tcv_agg's l2: 0.148958 + 0.0379088\n"
     ]
    },
    {
     "name": "stderr",
     "output_type": "stream",
     "text": [
      "feature_fraction, val_score: 0.134777:  86%|######################################5      | 6/7 [01:03<00:11, 11.48s/it][I 2023-11-10 12:02:36,053] Trial 5 finished with value: 0.14895772726949455 and parameters: {'feature_fraction': 1.0}. Best is trial 3 with value: 0.13477658058128927.\n",
      "feature_fraction, val_score: 0.134777:  86%|######################################5      | 6/7 [01:03<00:11, 11.48s/it]"
     ]
    },
    {
     "name": "stdout",
     "output_type": "stream",
     "text": [
      "[700]\tcv_agg's l2: 0.149061 + 0.0378193\n",
      "Early stopping, best iteration is:\n",
      "[600]\tcv_agg's l2: 0.134777 + 0.0290704\n",
      "[100]\tcv_agg's l2: 0.147242 + 0.0351278\n",
      "[200]\tcv_agg's l2: 0.143712 + 0.0340869\n",
      "[300]\tcv_agg's l2: 0.143063 + 0.034007\n",
      "[400]\tcv_agg's l2: 0.142757 + 0.0337817\n",
      "[500]\tcv_agg's l2: 0.142729 + 0.0336271\n",
      "[600]\tcv_agg's l2: 0.142755 + 0.0335428\n"
     ]
    },
    {
     "name": "stderr",
     "output_type": "stream",
     "text": [
      "feature_fraction, val_score: 0.134777: 100%|#############################################| 7/7 [01:17<00:00, 12.30s/it][I 2023-11-10 12:02:50,032] Trial 6 finished with value: 0.1427545668933032 and parameters: {'feature_fraction': 0.7}. Best is trial 3 with value: 0.13477658058128927.\n",
      "feature_fraction, val_score: 0.134777: 100%|#############################################| 7/7 [01:17<00:00, 11.05s/it]\n"
     ]
    },
    {
     "name": "stdout",
     "output_type": "stream",
     "text": [
      "[700]\tcv_agg's l2: 0.142828 + 0.0333623\n",
      "Early stopping, best iteration is:\n",
      "[600]\tcv_agg's l2: 0.134777 + 0.0290704\n"
     ]
    },
    {
     "name": "stderr",
     "output_type": "stream",
     "text": [
      "num_leaves, val_score: 0.134777:   0%|                                                          | 0/20 [00:00<?, ?it/s]"
     ]
    },
    {
     "name": "stdout",
     "output_type": "stream",
     "text": [
      "[100]\tcv_agg's l2: 0.14059 + 0.0314911\n",
      "[200]\tcv_agg's l2: 0.137449 + 0.0310318\n",
      "[300]\tcv_agg's l2: 0.135829 + 0.0298936\n",
      "[400]\tcv_agg's l2: 0.135287 + 0.0295096\n",
      "[500]\tcv_agg's l2: 0.134972 + 0.0292666\n",
      "[600]\tcv_agg's l2: 0.134777 + 0.0290704\n"
     ]
    },
    {
     "name": "stderr",
     "output_type": "stream",
     "text": [
      "num_leaves, val_score: 0.134777:   5%|##5                                               | 1/20 [00:12<04:06, 13.00s/it][I 2023-11-10 12:03:03,037] Trial 7 finished with value: 0.13477658058128927 and parameters: {'num_leaves': 121}. Best is trial 7 with value: 0.13477658058128927.\n",
      "num_leaves, val_score: 0.134777:   5%|##5                                               | 1/20 [00:12<04:06, 13.00s/it]"
     ]
    },
    {
     "name": "stdout",
     "output_type": "stream",
     "text": [
      "[700]\tcv_agg's l2: 0.134779 + 0.0292019\n",
      "Early stopping, best iteration is:\n",
      "[600]\tcv_agg's l2: 0.134777 + 0.0290704\n",
      "[100]\tcv_agg's l2: 0.14059 + 0.0314911\n",
      "[200]\tcv_agg's l2: 0.137449 + 0.0310318\n",
      "[300]\tcv_agg's l2: 0.135829 + 0.0298936\n",
      "[400]\tcv_agg's l2: 0.135287 + 0.0295096\n",
      "[500]\tcv_agg's l2: 0.134972 + 0.0292666\n",
      "[600]\tcv_agg's l2: 0.134777 + 0.0290704\n"
     ]
    },
    {
     "name": "stderr",
     "output_type": "stream",
     "text": [
      "num_leaves, val_score: 0.134777:  10%|#####                                             | 2/20 [00:26<04:03, 13.53s/it][I 2023-11-10 12:03:16,940] Trial 8 finished with value: 0.13477658058128927 and parameters: {'num_leaves': 197}. Best is trial 7 with value: 0.13477658058128927.\n",
      "num_leaves, val_score: 0.134777:  10%|#####                                             | 2/20 [00:26<04:03, 13.53s/it]"
     ]
    },
    {
     "name": "stdout",
     "output_type": "stream",
     "text": [
      "[700]\tcv_agg's l2: 0.134779 + 0.0292019\n",
      "Early stopping, best iteration is:\n",
      "[600]\tcv_agg's l2: 0.134777 + 0.0290704\n",
      "[100]\tcv_agg's l2: 0.14059 + 0.0314911\n",
      "[200]\tcv_agg's l2: 0.137449 + 0.0310318\n",
      "[300]\tcv_agg's l2: 0.135829 + 0.0298936\n",
      "[400]\tcv_agg's l2: 0.135287 + 0.0295096\n",
      "[500]\tcv_agg's l2: 0.134972 + 0.0292666\n",
      "[600]\tcv_agg's l2: 0.134777 + 0.0290704\n"
     ]
    },
    {
     "name": "stderr",
     "output_type": "stream",
     "text": [
      "num_leaves, val_score: 0.134777:  15%|#######5                                          | 3/20 [00:42<04:08, 14.61s/it][I 2023-11-10 12:03:32,825] Trial 9 finished with value: 0.13477658058128927 and parameters: {'num_leaves': 86}. Best is trial 7 with value: 0.13477658058128927.\n",
      "num_leaves, val_score: 0.134777:  15%|#######5                                          | 3/20 [00:42<04:08, 14.61s/it]"
     ]
    },
    {
     "name": "stdout",
     "output_type": "stream",
     "text": [
      "[700]\tcv_agg's l2: 0.134779 + 0.0292019\n",
      "Early stopping, best iteration is:\n",
      "[600]\tcv_agg's l2: 0.134777 + 0.0290704\n",
      "[100]\tcv_agg's l2: 0.145024 + 0.0351091\n",
      "[200]\tcv_agg's l2: 0.138945 + 0.0340674\n",
      "[300]\tcv_agg's l2: 0.137212 + 0.0339558\n",
      "[400]\tcv_agg's l2: 0.136749 + 0.0337064\n",
      "[500]\tcv_agg's l2: 0.136767 + 0.0333383\n",
      "[600]\tcv_agg's l2: 0.136682 + 0.0332964\n"
     ]
    },
    {
     "name": "stderr",
     "output_type": "stream",
     "text": [
      "num_leaves, val_score: 0.134777:  20%|##########                                        | 4/20 [00:50<03:10, 11.90s/it][I 2023-11-10 12:03:40,571] Trial 10 finished with value: 0.13668165293053497 and parameters: {'num_leaves': 12}. Best is trial 7 with value: 0.13477658058128927.\n",
      "num_leaves, val_score: 0.134777:  20%|##########                                        | 4/20 [00:50<03:10, 11.90s/it]"
     ]
    },
    {
     "name": "stdout",
     "output_type": "stream",
     "text": [
      "[700]\tcv_agg's l2: 0.136711 + 0.033199\n",
      "Early stopping, best iteration is:\n",
      "[600]\tcv_agg's l2: 0.134777 + 0.0290704\n",
      "[100]\tcv_agg's l2: 0.14059 + 0.0314911\n",
      "[200]\tcv_agg's l2: 0.137449 + 0.0310318\n",
      "[300]\tcv_agg's l2: 0.135829 + 0.0298936\n",
      "[400]\tcv_agg's l2: 0.135287 + 0.0295096\n",
      "[500]\tcv_agg's l2: 0.134972 + 0.0292666\n",
      "[600]\tcv_agg's l2: 0.134777 + 0.0290704\n"
     ]
    },
    {
     "name": "stderr",
     "output_type": "stream",
     "text": [
      "num_leaves, val_score: 0.134777:  25%|############5                                     | 5/20 [01:04<03:10, 12.71s/it][I 2023-11-10 12:03:54,733] Trial 11 finished with value: 0.13477658058128927 and parameters: {'num_leaves': 149}. Best is trial 7 with value: 0.13477658058128927.\n",
      "num_leaves, val_score: 0.134777:  25%|############5                                     | 5/20 [01:04<03:10, 12.71s/it]"
     ]
    },
    {
     "name": "stdout",
     "output_type": "stream",
     "text": [
      "[700]\tcv_agg's l2: 0.134779 + 0.0292019\n",
      "Early stopping, best iteration is:\n",
      "[600]\tcv_agg's l2: 0.134777 + 0.0290704\n",
      "[100]\tcv_agg's l2: 0.14059 + 0.0314911\n",
      "[200]\tcv_agg's l2: 0.137449 + 0.0310318\n",
      "[300]\tcv_agg's l2: 0.135829 + 0.0298936\n",
      "[400]\tcv_agg's l2: 0.135287 + 0.0295096\n",
      "[500]\tcv_agg's l2: 0.134972 + 0.0292666\n",
      "[600]\tcv_agg's l2: 0.134777 + 0.0290704\n"
     ]
    },
    {
     "name": "stderr",
     "output_type": "stream",
     "text": [
      "num_leaves, val_score: 0.134777:  30%|###############                                   | 6/20 [01:19<03:06, 13.32s/it][I 2023-11-10 12:04:09,218] Trial 12 finished with value: 0.13477658058128927 and parameters: {'num_leaves': 86}. Best is trial 7 with value: 0.13477658058128927.\n",
      "num_leaves, val_score: 0.134777:  30%|###############                                   | 6/20 [01:19<03:06, 13.32s/it]"
     ]
    },
    {
     "name": "stdout",
     "output_type": "stream",
     "text": [
      "[700]\tcv_agg's l2: 0.134779 + 0.0292019\n",
      "Early stopping, best iteration is:\n",
      "[600]\tcv_agg's l2: 0.134777 + 0.0290704\n",
      "[100]\tcv_agg's l2: 0.14059 + 0.0314911\n",
      "[200]\tcv_agg's l2: 0.137449 + 0.0310318\n",
      "[300]\tcv_agg's l2: 0.135829 + 0.0298936\n",
      "[400]\tcv_agg's l2: 0.135287 + 0.0295096\n",
      "[500]\tcv_agg's l2: 0.134972 + 0.0292666\n",
      "[600]\tcv_agg's l2: 0.134777 + 0.0290704\n"
     ]
    },
    {
     "name": "stderr",
     "output_type": "stream",
     "text": [
      "num_leaves, val_score: 0.134777:  35%|#################5                                | 7/20 [01:34<02:59, 13.81s/it][I 2023-11-10 12:04:24,054] Trial 13 finished with value: 0.13477658058128927 and parameters: {'num_leaves': 256}. Best is trial 7 with value: 0.13477658058128927.\n",
      "num_leaves, val_score: 0.134777:  35%|#################5                                | 7/20 [01:34<02:59, 13.81s/it]"
     ]
    },
    {
     "name": "stdout",
     "output_type": "stream",
     "text": [
      "[700]\tcv_agg's l2: 0.134779 + 0.0292019\n",
      "Early stopping, best iteration is:\n",
      "[600]\tcv_agg's l2: 0.134777 + 0.0290704\n",
      "[100]\tcv_agg's l2: 0.249513 + 0.0306068\n",
      "[200]\tcv_agg's l2: 0.220358 + 0.0290311\n",
      "[300]\tcv_agg's l2: 0.20348 + 0.0267718\n",
      "[400]\tcv_agg's l2: 0.194331 + 0.0265451\n",
      "[500]\tcv_agg's l2: 0.187661 + 0.0255809\n",
      "[600]\tcv_agg's l2: 0.181176 + 0.0243991\n"
     ]
    },
    {
     "name": "stderr",
     "output_type": "stream",
     "text": [
      "num_leaves, val_score: 0.134777:  40%|####################                              | 8/20 [01:36<02:04, 10.34s/it][I 2023-11-10 12:04:26,951] Trial 14 finished with value: 0.18117589183559216 and parameters: {'num_leaves': 3}. Best is trial 7 with value: 0.13477658058128927.\n",
      "num_leaves, val_score: 0.134777:  40%|####################                              | 8/20 [01:36<02:04, 10.34s/it]"
     ]
    },
    {
     "name": "stdout",
     "output_type": "stream",
     "text": [
      "[700]\tcv_agg's l2: 0.177703 + 0.0227949\n",
      "Early stopping, best iteration is:\n",
      "[600]\tcv_agg's l2: 0.134777 + 0.0290704\n",
      "[100]\tcv_agg's l2: 0.14059 + 0.0314911\n",
      "[200]\tcv_agg's l2: 0.137449 + 0.0310318\n",
      "[300]\tcv_agg's l2: 0.135829 + 0.0298936\n",
      "[400]\tcv_agg's l2: 0.135287 + 0.0295096\n",
      "[500]\tcv_agg's l2: 0.134972 + 0.0292666\n",
      "[600]\tcv_agg's l2: 0.134777 + 0.0290704\n"
     ]
    },
    {
     "name": "stderr",
     "output_type": "stream",
     "text": [
      "num_leaves, val_score: 0.134777:  45%|######################5                           | 9/20 [01:51<02:06, 11.52s/it][I 2023-11-10 12:04:41,070] Trial 15 finished with value: 0.13477658058128927 and parameters: {'num_leaves': 144}. Best is trial 7 with value: 0.13477658058128927.\n",
      "num_leaves, val_score: 0.134777:  45%|######################5                           | 9/20 [01:51<02:06, 11.52s/it]"
     ]
    },
    {
     "name": "stdout",
     "output_type": "stream",
     "text": [
      "[700]\tcv_agg's l2: 0.134779 + 0.0292019\n",
      "Early stopping, best iteration is:\n",
      "[600]\tcv_agg's l2: 0.134777 + 0.0290704\n",
      "[100]\tcv_agg's l2: 0.14059 + 0.0314911\n",
      "[200]\tcv_agg's l2: 0.137449 + 0.0310318\n",
      "[300]\tcv_agg's l2: 0.135829 + 0.0298936\n",
      "[400]\tcv_agg's l2: 0.135287 + 0.0295096\n",
      "[500]\tcv_agg's l2: 0.134972 + 0.0292666\n",
      "[600]\tcv_agg's l2: 0.134777 + 0.0290704\n"
     ]
    },
    {
     "name": "stderr",
     "output_type": "stream",
     "text": [
      "num_leaves, val_score: 0.134777:  50%|########################5                        | 10/20 [02:04<02:02, 12.20s/it][I 2023-11-10 12:04:54,797] Trial 16 finished with value: 0.13477658058128927 and parameters: {'num_leaves': 73}. Best is trial 7 with value: 0.13477658058128927.\n",
      "num_leaves, val_score: 0.134777:  50%|########################5                        | 10/20 [02:04<02:02, 12.20s/it]"
     ]
    },
    {
     "name": "stdout",
     "output_type": "stream",
     "text": [
      "[700]\tcv_agg's l2: 0.134779 + 0.0292019\n",
      "Early stopping, best iteration is:\n",
      "[600]\tcv_agg's l2: 0.134777 + 0.0290704\n",
      "[100]\tcv_agg's l2: 0.14059 + 0.0314911\n",
      "[200]\tcv_agg's l2: 0.137449 + 0.0310318\n",
      "[300]\tcv_agg's l2: 0.135829 + 0.0298936\n",
      "[400]\tcv_agg's l2: 0.135287 + 0.0295096\n",
      "[500]\tcv_agg's l2: 0.134972 + 0.0292666\n",
      "[600]\tcv_agg's l2: 0.134777 + 0.0290704\n"
     ]
    },
    {
     "name": "stderr",
     "output_type": "stream",
     "text": [
      "num_leaves, val_score: 0.134777:  55%|##########################9                      | 11/20 [02:20<02:00, 13.38s/it][I 2023-11-10 12:05:10,849] Trial 17 finished with value: 0.13477658058128927 and parameters: {'num_leaves': 196}. Best is trial 7 with value: 0.13477658058128927.\n",
      "num_leaves, val_score: 0.134777:  55%|##########################9                      | 11/20 [02:20<02:00, 13.38s/it]"
     ]
    },
    {
     "name": "stdout",
     "output_type": "stream",
     "text": [
      "[700]\tcv_agg's l2: 0.134779 + 0.0292019\n",
      "Early stopping, best iteration is:\n",
      "[600]\tcv_agg's l2: 0.134777 + 0.0290704\n",
      "[100]\tcv_agg's l2: 0.14059 + 0.0314911\n",
      "[200]\tcv_agg's l2: 0.137449 + 0.0310318\n",
      "[300]\tcv_agg's l2: 0.135829 + 0.0298936\n",
      "[400]\tcv_agg's l2: 0.135287 + 0.0295096\n",
      "[500]\tcv_agg's l2: 0.134972 + 0.0292666\n",
      "[600]\tcv_agg's l2: 0.134777 + 0.0290704\n"
     ]
    },
    {
     "name": "stderr",
     "output_type": "stream",
     "text": [
      "num_leaves, val_score: 0.134777:  60%|#############################4                   | 12/20 [02:34<01:47, 13.49s/it][I 2023-11-10 12:05:24,591] Trial 18 finished with value: 0.13477658058128927 and parameters: {'num_leaves': 50}. Best is trial 7 with value: 0.13477658058128927.\n",
      "num_leaves, val_score: 0.134777:  60%|#############################4                   | 12/20 [02:34<01:47, 13.49s/it]"
     ]
    },
    {
     "name": "stdout",
     "output_type": "stream",
     "text": [
      "[700]\tcv_agg's l2: 0.134779 + 0.0292019\n",
      "Early stopping, best iteration is:\n",
      "[600]\tcv_agg's l2: 0.134777 + 0.0290704\n",
      "[100]\tcv_agg's l2: 0.14059 + 0.0314911\n",
      "[200]\tcv_agg's l2: 0.137449 + 0.0310318\n",
      "[300]\tcv_agg's l2: 0.135829 + 0.0298936\n",
      "[400]\tcv_agg's l2: 0.135287 + 0.0295096\n",
      "[500]\tcv_agg's l2: 0.134972 + 0.0292666\n",
      "[600]\tcv_agg's l2: 0.134777 + 0.0290704\n"
     ]
    },
    {
     "name": "stderr",
     "output_type": "stream",
     "text": [
      "num_leaves, val_score: 0.134777:  65%|###############################8                 | 13/20 [02:46<01:30, 12.96s/it][I 2023-11-10 12:05:36,343] Trial 19 finished with value: 0.13477658058128927 and parameters: {'num_leaves': 179}. Best is trial 7 with value: 0.13477658058128927.\n",
      "num_leaves, val_score: 0.134777:  65%|###############################8                 | 13/20 [02:46<01:30, 12.96s/it]"
     ]
    },
    {
     "name": "stdout",
     "output_type": "stream",
     "text": [
      "[700]\tcv_agg's l2: 0.134779 + 0.0292019\n",
      "Early stopping, best iteration is:\n",
      "[600]\tcv_agg's l2: 0.134777 + 0.0290704\n",
      "[100]\tcv_agg's l2: 0.14059 + 0.0314911\n",
      "[200]\tcv_agg's l2: 0.137449 + 0.0310318\n",
      "[300]\tcv_agg's l2: 0.135829 + 0.0298936\n",
      "[400]\tcv_agg's l2: 0.135287 + 0.0295096\n",
      "[500]\tcv_agg's l2: 0.134972 + 0.0292666\n",
      "[600]\tcv_agg's l2: 0.134777 + 0.0290704\n"
     ]
    },
    {
     "name": "stderr",
     "output_type": "stream",
     "text": [
      "num_leaves, val_score: 0.134777:  70%|##################################3              | 14/20 [03:00<01:19, 13.29s/it][I 2023-11-10 12:05:50,387] Trial 20 finished with value: 0.13477658058128927 and parameters: {'num_leaves': 116}. Best is trial 7 with value: 0.13477658058128927.\n",
      "num_leaves, val_score: 0.134777:  70%|##################################3              | 14/20 [03:00<01:19, 13.29s/it]"
     ]
    },
    {
     "name": "stdout",
     "output_type": "stream",
     "text": [
      "[700]\tcv_agg's l2: 0.134779 + 0.0292019\n",
      "Early stopping, best iteration is:\n",
      "[600]\tcv_agg's l2: 0.134777 + 0.0290704\n",
      "[100]\tcv_agg's l2: 0.14059 + 0.0314911\n",
      "[200]\tcv_agg's l2: 0.137449 + 0.0310318\n",
      "[300]\tcv_agg's l2: 0.135829 + 0.0298936\n",
      "[400]\tcv_agg's l2: 0.135287 + 0.0295096\n",
      "[500]\tcv_agg's l2: 0.134972 + 0.0292666\n",
      "[600]\tcv_agg's l2: 0.134777 + 0.0290704\n"
     ]
    },
    {
     "name": "stderr",
     "output_type": "stream",
     "text": [
      "num_leaves, val_score: 0.134777:  75%|####################################7            | 15/20 [03:15<01:08, 13.72s/it][I 2023-11-10 12:06:05,089] Trial 21 finished with value: 0.13477658058128927 and parameters: {'num_leaves': 222}. Best is trial 7 with value: 0.13477658058128927.\n",
      "num_leaves, val_score: 0.134777:  75%|####################################7            | 15/20 [03:15<01:08, 13.72s/it]"
     ]
    },
    {
     "name": "stdout",
     "output_type": "stream",
     "text": [
      "[700]\tcv_agg's l2: 0.134779 + 0.0292019\n",
      "Early stopping, best iteration is:\n",
      "[600]\tcv_agg's l2: 0.134777 + 0.0290704\n",
      "[100]\tcv_agg's l2: 0.14059 + 0.0314911\n",
      "[200]\tcv_agg's l2: 0.137449 + 0.0310318\n",
      "[300]\tcv_agg's l2: 0.135829 + 0.0298936\n",
      "[400]\tcv_agg's l2: 0.135287 + 0.0295096\n",
      "[500]\tcv_agg's l2: 0.134972 + 0.0292666\n",
      "[600]\tcv_agg's l2: 0.134777 + 0.0290704\n"
     ]
    },
    {
     "name": "stderr",
     "output_type": "stream",
     "text": [
      "num_leaves, val_score: 0.134777:  80%|#######################################2         | 16/20 [03:30<00:56, 14.18s/it][I 2023-11-10 12:06:20,362] Trial 22 finished with value: 0.13477658058128927 and parameters: {'num_leaves': 184}. Best is trial 7 with value: 0.13477658058128927.\n",
      "num_leaves, val_score: 0.134777:  80%|#######################################2         | 16/20 [03:30<00:56, 14.18s/it]"
     ]
    },
    {
     "name": "stdout",
     "output_type": "stream",
     "text": [
      "[700]\tcv_agg's l2: 0.134779 + 0.0292019\n",
      "Early stopping, best iteration is:\n",
      "[600]\tcv_agg's l2: 0.134777 + 0.0290704\n",
      "[100]\tcv_agg's l2: 0.14059 + 0.0314911\n",
      "[200]\tcv_agg's l2: 0.137449 + 0.0310318\n",
      "[300]\tcv_agg's l2: 0.135829 + 0.0298936\n",
      "[400]\tcv_agg's l2: 0.135287 + 0.0295096\n",
      "[500]\tcv_agg's l2: 0.134972 + 0.0292666\n",
      "[600]\tcv_agg's l2: 0.134777 + 0.0290704\n"
     ]
    },
    {
     "name": "stderr",
     "output_type": "stream",
     "text": [
      "num_leaves, val_score: 0.134777:  85%|#########################################6       | 17/20 [03:44<00:42, 14.13s/it][I 2023-11-10 12:06:34,354] Trial 23 finished with value: 0.13477658058128927 and parameters: {'num_leaves': 125}. Best is trial 7 with value: 0.13477658058128927.\n",
      "num_leaves, val_score: 0.134777:  85%|#########################################6       | 17/20 [03:44<00:42, 14.13s/it]"
     ]
    },
    {
     "name": "stdout",
     "output_type": "stream",
     "text": [
      "[700]\tcv_agg's l2: 0.134779 + 0.0292019\n",
      "Early stopping, best iteration is:\n",
      "[600]\tcv_agg's l2: 0.134777 + 0.0290704\n",
      "[100]\tcv_agg's l2: 0.14059 + 0.0314911\n",
      "[200]\tcv_agg's l2: 0.137449 + 0.0310318\n",
      "[300]\tcv_agg's l2: 0.135829 + 0.0298936\n",
      "[400]\tcv_agg's l2: 0.135287 + 0.0295096\n",
      "[500]\tcv_agg's l2: 0.134972 + 0.0292666\n",
      "[600]\tcv_agg's l2: 0.134777 + 0.0290704\n"
     ]
    },
    {
     "name": "stderr",
     "output_type": "stream",
     "text": [
      "num_leaves, val_score: 0.134777:  90%|############################################1    | 18/20 [03:57<00:27, 13.94s/it][I 2023-11-10 12:06:47,855] Trial 24 finished with value: 0.13477658058128927 and parameters: {'num_leaves': 229}. Best is trial 7 with value: 0.13477658058128927.\n",
      "num_leaves, val_score: 0.134777:  90%|############################################1    | 18/20 [03:57<00:27, 13.94s/it]"
     ]
    },
    {
     "name": "stdout",
     "output_type": "stream",
     "text": [
      "[700]\tcv_agg's l2: 0.134779 + 0.0292019\n",
      "Early stopping, best iteration is:\n",
      "[600]\tcv_agg's l2: 0.134777 + 0.0290704\n",
      "[100]\tcv_agg's l2: 0.14059 + 0.0314911\n",
      "[200]\tcv_agg's l2: 0.137449 + 0.0310318\n",
      "[300]\tcv_agg's l2: 0.135829 + 0.0298936\n",
      "[400]\tcv_agg's l2: 0.135287 + 0.0295096\n",
      "[500]\tcv_agg's l2: 0.134972 + 0.0292666\n",
      "[600]\tcv_agg's l2: 0.134777 + 0.0290704\n"
     ]
    },
    {
     "name": "stderr",
     "output_type": "stream",
     "text": [
      "num_leaves, val_score: 0.134777:  95%|##############################################5  | 19/20 [04:10<00:13, 13.70s/it][I 2023-11-10 12:07:01,009] Trial 25 finished with value: 0.13477658058128927 and parameters: {'num_leaves': 161}. Best is trial 7 with value: 0.13477658058128927.\n",
      "num_leaves, val_score: 0.134777:  95%|##############################################5  | 19/20 [04:10<00:13, 13.70s/it]"
     ]
    },
    {
     "name": "stdout",
     "output_type": "stream",
     "text": [
      "[700]\tcv_agg's l2: 0.134779 + 0.0292019\n",
      "Early stopping, best iteration is:\n",
      "[600]\tcv_agg's l2: 0.134777 + 0.0290704\n",
      "[100]\tcv_agg's l2: 0.14059 + 0.0314911\n",
      "[200]\tcv_agg's l2: 0.137449 + 0.0310318\n",
      "[300]\tcv_agg's l2: 0.135829 + 0.0298936\n",
      "[400]\tcv_agg's l2: 0.135287 + 0.0295096\n",
      "[500]\tcv_agg's l2: 0.134972 + 0.0292666\n",
      "[600]\tcv_agg's l2: 0.134777 + 0.0290704\n"
     ]
    },
    {
     "name": "stderr",
     "output_type": "stream",
     "text": [
      "num_leaves, val_score: 0.134777: 100%|#################################################| 20/20 [04:24<00:00, 13.59s/it][I 2023-11-10 12:07:14,331] Trial 26 finished with value: 0.13477658058128927 and parameters: {'num_leaves': 113}. Best is trial 7 with value: 0.13477658058128927.\n",
      "num_leaves, val_score: 0.134777: 100%|#################################################| 20/20 [04:24<00:00, 13.21s/it]\n"
     ]
    },
    {
     "name": "stdout",
     "output_type": "stream",
     "text": [
      "[700]\tcv_agg's l2: 0.134779 + 0.0292019\n",
      "Early stopping, best iteration is:\n",
      "[600]\tcv_agg's l2: 0.134777 + 0.0290704\n"
     ]
    },
    {
     "name": "stderr",
     "output_type": "stream",
     "text": [
      "bagging, val_score: 0.134777:   0%|                                                             | 0/10 [00:00<?, ?it/s]"
     ]
    },
    {
     "name": "stdout",
     "output_type": "stream",
     "text": [
      "[100]\tcv_agg's l2: 0.185518 + 0.0337948\n",
      "[200]\tcv_agg's l2: 0.176415 + 0.0362823\n",
      "[300]\tcv_agg's l2: 0.17536 + 0.0355131\n",
      "[400]\tcv_agg's l2: 0.172379 + 0.0317188\n",
      "[500]\tcv_agg's l2: 0.173134 + 0.0323922\n",
      "[600]\tcv_agg's l2: 0.171277 + 0.0328509\n"
     ]
    },
    {
     "name": "stderr",
     "output_type": "stream",
     "text": [
      "bagging, val_score: 0.134777:  10%|#####3                                               | 1/10 [00:06<01:00,  6.78s/it][I 2023-11-10 12:07:21,115] Trial 27 finished with value: 0.17127677425426882 and parameters: {'bagging_fraction': 0.45362563688727964, 'bagging_freq': 3}. Best is trial 27 with value: 0.17127677425426882.\n",
      "bagging, val_score: 0.134777:  10%|#####3                                               | 1/10 [00:06<01:00,  6.78s/it]"
     ]
    },
    {
     "name": "stdout",
     "output_type": "stream",
     "text": [
      "[700]\tcv_agg's l2: 0.174952 + 0.0330387\n",
      "Early stopping, best iteration is:\n",
      "[600]\tcv_agg's l2: 0.134777 + 0.0290704\n",
      "[100]\tcv_agg's l2: 0.138015 + 0.030459\n",
      "[200]\tcv_agg's l2: 0.134136 + 0.0286951\n",
      "[300]\tcv_agg's l2: 0.133239 + 0.0278966\n",
      "[400]\tcv_agg's l2: 0.132372 + 0.0275383\n",
      "[500]\tcv_agg's l2: 0.132186 + 0.027287\n",
      "[600]\tcv_agg's l2: 0.132023 + 0.0271658\n",
      "[700]\tcv_agg's l2: 0.131907 + 0.0270761\n"
     ]
    },
    {
     "name": "stderr",
     "output_type": "stream",
     "text": [
      "bagging, val_score: 0.131846:  20%|##########6                                          | 2/10 [00:21<01:29, 11.20s/it][I 2023-11-10 12:07:35,417] Trial 28 finished with value: 0.1318455898364887 and parameters: {'bagging_fraction': 0.9756014819830299, 'bagging_freq': 7}. Best is trial 28 with value: 0.1318455898364887.\n",
      "bagging, val_score: 0.131846:  20%|##########6                                          | 2/10 [00:21<01:29, 11.20s/it]"
     ]
    },
    {
     "name": "stdout",
     "output_type": "stream",
     "text": [
      "Early stopping, best iteration is:\n",
      "[653]\tcv_agg's l2: 0.131846 + 0.027081\n",
      "[100]\tcv_agg's l2: 0.140347 + 0.0266515\n",
      "[200]\tcv_agg's l2: 0.136494 + 0.0263171\n",
      "[300]\tcv_agg's l2: 0.135654 + 0.0259986\n",
      "[400]\tcv_agg's l2: 0.134824 + 0.0257505\n",
      "[500]\tcv_agg's l2: 0.13503 + 0.0255621\n",
      "[600]\tcv_agg's l2: 0.134731 + 0.025252\n",
      "[700]\tcv_agg's l2: 0.134772 + 0.0251032\n"
     ]
    },
    {
     "name": "stderr",
     "output_type": "stream",
     "text": [
      "bagging, val_score: 0.131846:  30%|###############9                                     | 3/10 [00:35<01:28, 12.64s/it][I 2023-11-10 12:07:49,763] Trial 29 finished with value: 0.13475168886525474 and parameters: {'bagging_fraction': 0.9881157052317365, 'bagging_freq': 7}. Best is trial 28 with value: 0.1318455898364887.\n",
      "bagging, val_score: 0.131846:  30%|###############9                                     | 3/10 [00:35<01:28, 12.64s/it]"
     ]
    },
    {
     "name": "stdout",
     "output_type": "stream",
     "text": [
      "Early stopping, best iteration is:\n",
      "[653]\tcv_agg's l2: 0.131846 + 0.027081\n",
      "[100]\tcv_agg's l2: 0.140011 + 0.0287938\n",
      "[200]\tcv_agg's l2: 0.135346 + 0.0284802\n",
      "[300]\tcv_agg's l2: 0.134068 + 0.0290055\n",
      "[400]\tcv_agg's l2: 0.133753 + 0.0288854\n",
      "[500]\tcv_agg's l2: 0.133572 + 0.0288575\n",
      "[600]\tcv_agg's l2: 0.13339 + 0.0289208\n",
      "[700]\tcv_agg's l2: 0.133485 + 0.0289432\n"
     ]
    },
    {
     "name": "stderr",
     "output_type": "stream",
     "text": [
      "bagging, val_score: 0.131846:  40%|#####################2                               | 4/10 [00:52<01:25, 14.32s/it][I 2023-11-10 12:08:06,669] Trial 30 finished with value: 0.13344570897529434 and parameters: {'bagging_fraction': 0.9911428791835672, 'bagging_freq': 7}. Best is trial 28 with value: 0.1318455898364887.\n",
      "bagging, val_score: 0.131846:  40%|#####################2                               | 4/10 [00:52<01:25, 14.32s/it]"
     ]
    },
    {
     "name": "stdout",
     "output_type": "stream",
     "text": [
      "Early stopping, best iteration is:\n",
      "[653]\tcv_agg's l2: 0.131846 + 0.027081\n",
      "[100]\tcv_agg's l2: 0.141513 + 0.030771\n",
      "[200]\tcv_agg's l2: 0.138851 + 0.0300351\n",
      "[300]\tcv_agg's l2: 0.138742 + 0.0300346\n",
      "[400]\tcv_agg's l2: 0.138327 + 0.0299813\n",
      "[500]\tcv_agg's l2: 0.138291 + 0.030012\n",
      "[600]\tcv_agg's l2: 0.138167 + 0.029791\n",
      "[700]\tcv_agg's l2: 0.138004 + 0.0297926\n"
     ]
    },
    {
     "name": "stderr",
     "output_type": "stream",
     "text": [
      "bagging, val_score: 0.131846:  50%|##########################5                          | 5/10 [01:07<01:13, 14.67s/it][I 2023-11-10 12:08:21,962] Trial 31 finished with value: 0.13807504333324716 and parameters: {'bagging_fraction': 0.996354719501581, 'bagging_freq': 7}. Best is trial 28 with value: 0.1318455898364887.\n",
      "bagging, val_score: 0.131846:  50%|##########################5                          | 5/10 [01:07<01:13, 14.67s/it]"
     ]
    },
    {
     "name": "stdout",
     "output_type": "stream",
     "text": [
      "Early stopping, best iteration is:\n",
      "[653]\tcv_agg's l2: 0.131846 + 0.027081\n",
      "[100]\tcv_agg's l2: 0.140888 + 0.0292008\n",
      "[200]\tcv_agg's l2: 0.136399 + 0.0280856\n",
      "[300]\tcv_agg's l2: 0.135088 + 0.0273538\n",
      "[400]\tcv_agg's l2: 0.134844 + 0.0272678\n",
      "[500]\tcv_agg's l2: 0.134574 + 0.0272741\n",
      "[600]\tcv_agg's l2: 0.134412 + 0.0271327\n",
      "[700]\tcv_agg's l2: 0.134416 + 0.0271364\n"
     ]
    },
    {
     "name": "stderr",
     "output_type": "stream",
     "text": [
      "bagging, val_score: 0.131846:  60%|###############################8                     | 6/10 [01:23<00:59, 14.96s/it][I 2023-11-10 12:08:37,483] Trial 32 finished with value: 0.1344009779698511 and parameters: {'bagging_fraction': 0.9980714008537848, 'bagging_freq': 7}. Best is trial 28 with value: 0.1318455898364887.\n",
      "bagging, val_score: 0.131846:  60%|###############################8                     | 6/10 [01:23<00:59, 14.96s/it]"
     ]
    },
    {
     "name": "stdout",
     "output_type": "stream",
     "text": [
      "Early stopping, best iteration is:\n",
      "[653]\tcv_agg's l2: 0.131846 + 0.027081\n",
      "[100]\tcv_agg's l2: 0.139624 + 0.0318725\n",
      "[200]\tcv_agg's l2: 0.136384 + 0.0302056\n",
      "[300]\tcv_agg's l2: 0.13529 + 0.0297337\n",
      "[400]\tcv_agg's l2: 0.135111 + 0.0300992\n",
      "[500]\tcv_agg's l2: 0.134811 + 0.0299517\n",
      "[600]\tcv_agg's l2: 0.134723 + 0.0298236\n",
      "[700]\tcv_agg's l2: 0.134521 + 0.029605\n"
     ]
    },
    {
     "name": "stderr",
     "output_type": "stream",
     "text": [
      "bagging, val_score: 0.131846:  70%|#####################################                | 7/10 [01:41<00:47, 15.96s/it][I 2023-11-10 12:08:55,488] Trial 33 finished with value: 0.13461755077522214 and parameters: {'bagging_fraction': 0.9956401525314592, 'bagging_freq': 7}. Best is trial 28 with value: 0.1318455898364887.\n",
      "bagging, val_score: 0.131846:  70%|#####################################                | 7/10 [01:41<00:47, 15.96s/it]"
     ]
    },
    {
     "name": "stdout",
     "output_type": "stream",
     "text": [
      "Early stopping, best iteration is:\n",
      "[653]\tcv_agg's l2: 0.131846 + 0.027081\n",
      "[100]\tcv_agg's l2: 0.14059 + 0.0314911\n",
      "[200]\tcv_agg's l2: 0.137449 + 0.0310318\n",
      "[300]\tcv_agg's l2: 0.135829 + 0.0298936\n",
      "[400]\tcv_agg's l2: 0.135287 + 0.0295096\n",
      "[500]\tcv_agg's l2: 0.134972 + 0.0292666\n",
      "[600]\tcv_agg's l2: 0.134777 + 0.0290704\n",
      "[700]\tcv_agg's l2: 0.134779 + 0.0292019\n"
     ]
    },
    {
     "name": "stderr",
     "output_type": "stream",
     "text": [
      "bagging, val_score: 0.131846:  80%|##########################################4          | 8/10 [01:56<00:31, 15.71s/it][I 2023-11-10 12:09:10,668] Trial 34 finished with value: 0.134837165626093 and parameters: {'bagging_fraction': 0.999367061354206, 'bagging_freq': 7}. Best is trial 28 with value: 0.1318455898364887.\n",
      "bagging, val_score: 0.131846:  80%|##########################################4          | 8/10 [01:56<00:31, 15.71s/it]"
     ]
    },
    {
     "name": "stdout",
     "output_type": "stream",
     "text": [
      "Early stopping, best iteration is:\n",
      "[653]\tcv_agg's l2: 0.131846 + 0.027081\n",
      "[100]\tcv_agg's l2: 0.138947 + 0.0278205\n",
      "[200]\tcv_agg's l2: 0.135734 + 0.0272658\n",
      "[300]\tcv_agg's l2: 0.134506 + 0.0270684\n",
      "[400]\tcv_agg's l2: 0.134072 + 0.0269852\n",
      "[500]\tcv_agg's l2: 0.134034 + 0.0268842\n",
      "[600]\tcv_agg's l2: 0.134046 + 0.0265533\n",
      "[700]\tcv_agg's l2: 0.134083 + 0.0263455\n"
     ]
    },
    {
     "name": "stderr",
     "output_type": "stream",
     "text": [
      "bagging, val_score: 0.131846:  90%|###############################################7     | 9/10 [02:14<00:16, 16.47s/it][I 2023-11-10 12:09:28,801] Trial 35 finished with value: 0.13405728478030582 and parameters: {'bagging_fraction': 0.9943773925637043, 'bagging_freq': 7}. Best is trial 28 with value: 0.1318455898364887.\n",
      "bagging, val_score: 0.131846:  90%|###############################################7     | 9/10 [02:14<00:16, 16.47s/it]"
     ]
    },
    {
     "name": "stdout",
     "output_type": "stream",
     "text": [
      "Early stopping, best iteration is:\n",
      "[653]\tcv_agg's l2: 0.131846 + 0.027081\n",
      "[100]\tcv_agg's l2: 0.15305 + 0.0399027\n",
      "[200]\tcv_agg's l2: 0.147447 + 0.0396679\n",
      "[300]\tcv_agg's l2: 0.14678 + 0.0388843\n",
      "[400]\tcv_agg's l2: 0.145822 + 0.0383914\n",
      "[500]\tcv_agg's l2: 0.145282 + 0.0383115\n",
      "[600]\tcv_agg's l2: 0.145324 + 0.0382255\n",
      "[700]\tcv_agg's l2: 0.145149 + 0.0381242\n"
     ]
    },
    {
     "name": "stderr",
     "output_type": "stream",
     "text": [
      "bagging, val_score: 0.131846: 100%|####################################################| 10/10 [02:29<00:00, 15.99s/it][I 2023-11-10 12:09:43,728] Trial 36 finished with value: 0.14534672541899746 and parameters: {'bagging_fraction': 0.8913602379338645, 'bagging_freq': 5}. Best is trial 28 with value: 0.1318455898364887.\n",
      "bagging, val_score: 0.131846: 100%|####################################################| 10/10 [02:29<00:00, 14.94s/it]\n"
     ]
    },
    {
     "name": "stdout",
     "output_type": "stream",
     "text": [
      "Early stopping, best iteration is:\n",
      "[653]\tcv_agg's l2: 0.131846 + 0.027081\n"
     ]
    },
    {
     "name": "stderr",
     "output_type": "stream",
     "text": [
      "feature_fraction_stage2, val_score: 0.131846:   0%|                                              | 0/6 [00:00<?, ?it/s]"
     ]
    },
    {
     "name": "stdout",
     "output_type": "stream",
     "text": [
      "[100]\tcv_agg's l2: 0.150649 + 0.0334891\n",
      "[200]\tcv_agg's l2: 0.143639 + 0.0314355\n",
      "[300]\tcv_agg's l2: 0.143244 + 0.0314721\n",
      "[400]\tcv_agg's l2: 0.142156 + 0.0313146\n",
      "[500]\tcv_agg's l2: 0.142002 + 0.0314366\n",
      "[600]\tcv_agg's l2: 0.141547 + 0.0310336\n",
      "[700]\tcv_agg's l2: 0.141529 + 0.0309631\n"
     ]
    },
    {
     "name": "stderr",
     "output_type": "stream",
     "text": [
      "feature_fraction_stage2, val_score: 0.131846:  17%|######3                               | 1/6 [00:17<01:27, 17.50s/it][I 2023-11-10 12:10:01,236] Trial 37 finished with value: 0.14160524779539832 and parameters: {'feature_fraction': 0.42}. Best is trial 37 with value: 0.14160524779539832.\n",
      "feature_fraction_stage2, val_score: 0.131846:  17%|######3                               | 1/6 [00:17<01:27, 17.50s/it]"
     ]
    },
    {
     "name": "stdout",
     "output_type": "stream",
     "text": [
      "Early stopping, best iteration is:\n",
      "[653]\tcv_agg's l2: 0.131846 + 0.027081\n",
      "[100]\tcv_agg's l2: 0.140598 + 0.0307719\n",
      "[200]\tcv_agg's l2: 0.135041 + 0.0285908\n",
      "[300]\tcv_agg's l2: 0.13408 + 0.0287991\n",
      "[400]\tcv_agg's l2: 0.133642 + 0.0287701\n",
      "[500]\tcv_agg's l2: 0.13334 + 0.0291182\n",
      "[600]\tcv_agg's l2: 0.133125 + 0.0290852\n",
      "[700]\tcv_agg's l2: 0.133055 + 0.0292426\n"
     ]
    },
    {
     "name": "stderr",
     "output_type": "stream",
     "text": [
      "feature_fraction_stage2, val_score: 0.131846:  33%|############6                         | 2/6 [00:32<01:03, 15.84s/it][I 2023-11-10 12:10:15,917] Trial 38 finished with value: 0.13306856582482432 and parameters: {'feature_fraction': 0.484}. Best is trial 38 with value: 0.13306856582482432.\n",
      "feature_fraction_stage2, val_score: 0.131846:  33%|############6                         | 2/6 [00:32<01:03, 15.84s/it]"
     ]
    },
    {
     "name": "stdout",
     "output_type": "stream",
     "text": [
      "Early stopping, best iteration is:\n",
      "[653]\tcv_agg's l2: 0.131846 + 0.027081\n",
      "[100]\tcv_agg's l2: 0.141036 + 0.0294063\n",
      "[200]\tcv_agg's l2: 0.137156 + 0.0277777\n",
      "[300]\tcv_agg's l2: 0.136183 + 0.0280236\n",
      "[400]\tcv_agg's l2: 0.135559 + 0.0280054\n",
      "[500]\tcv_agg's l2: 0.135457 + 0.0280847\n",
      "[600]\tcv_agg's l2: 0.135326 + 0.027993\n",
      "[700]\tcv_agg's l2: 0.135188 + 0.0279415\n"
     ]
    },
    {
     "name": "stderr",
     "output_type": "stream",
     "text": [
      "feature_fraction_stage2, val_score: 0.131846:  50%|###################                   | 3/6 [00:46<00:45, 15.07s/it][I 2023-11-10 12:10:30,070] Trial 39 finished with value: 0.13525282738854977 and parameters: {'feature_fraction': 0.5479999999999999}. Best is trial 38 with value: 0.13306856582482432.\n",
      "feature_fraction_stage2, val_score: 0.131846:  50%|###################                   | 3/6 [00:46<00:45, 15.07s/it]"
     ]
    },
    {
     "name": "stdout",
     "output_type": "stream",
     "text": [
      "Early stopping, best iteration is:\n",
      "[653]\tcv_agg's l2: 0.131846 + 0.027081\n",
      "[100]\tcv_agg's l2: 0.14923 + 0.0320956\n",
      "[200]\tcv_agg's l2: 0.143587 + 0.0299514\n",
      "[300]\tcv_agg's l2: 0.142219 + 0.0296012\n",
      "[400]\tcv_agg's l2: 0.141712 + 0.0295836\n",
      "[500]\tcv_agg's l2: 0.141544 + 0.0295631\n",
      "[600]\tcv_agg's l2: 0.141456 + 0.0295501\n",
      "[700]\tcv_agg's l2: 0.141482 + 0.029534\n"
     ]
    },
    {
     "name": "stderr",
     "output_type": "stream",
     "text": [
      "feature_fraction_stage2, val_score: 0.131846:  67%|#########################3            | 4/6 [00:54<00:24, 12.15s/it][I 2023-11-10 12:10:37,745] Trial 40 finished with value: 0.1414880035866703 and parameters: {'feature_fraction': 0.58}. Best is trial 38 with value: 0.13306856582482432.\n",
      "feature_fraction_stage2, val_score: 0.131846:  67%|#########################3            | 4/6 [00:54<00:24, 12.15s/it]"
     ]
    },
    {
     "name": "stdout",
     "output_type": "stream",
     "text": [
      "Early stopping, best iteration is:\n",
      "[653]\tcv_agg's l2: 0.131846 + 0.027081\n",
      "[100]\tcv_agg's l2: 0.142285 + 0.0281248\n",
      "[200]\tcv_agg's l2: 0.137075 + 0.0272494\n",
      "[300]\tcv_agg's l2: 0.137016 + 0.0269009\n",
      "[400]\tcv_agg's l2: 0.136915 + 0.027334\n",
      "[500]\tcv_agg's l2: 0.136526 + 0.0272533\n",
      "[600]\tcv_agg's l2: 0.136485 + 0.0272363\n",
      "[700]\tcv_agg's l2: 0.136523 + 0.0272443\n"
     ]
    },
    {
     "name": "stderr",
     "output_type": "stream",
     "text": [
      "feature_fraction_stage2, val_score: 0.131846:  83%|###############################6      | 5/6 [00:59<00:09,  9.66s/it][I 2023-11-10 12:10:42,989] Trial 41 finished with value: 0.13650896260127204 and parameters: {'feature_fraction': 0.45199999999999996}. Best is trial 38 with value: 0.13306856582482432.\n",
      "feature_fraction_stage2, val_score: 0.131846:  83%|###############################6      | 5/6 [00:59<00:09,  9.66s/it]"
     ]
    },
    {
     "name": "stdout",
     "output_type": "stream",
     "text": [
      "Early stopping, best iteration is:\n",
      "[653]\tcv_agg's l2: 0.131846 + 0.027081\n",
      "[100]\tcv_agg's l2: 0.141917 + 0.0307693\n",
      "[200]\tcv_agg's l2: 0.136582 + 0.0288977\n",
      "[300]\tcv_agg's l2: 0.135193 + 0.0289408\n",
      "[400]\tcv_agg's l2: 0.134891 + 0.0290992\n",
      "[500]\tcv_agg's l2: 0.134479 + 0.0291379\n",
      "[600]\tcv_agg's l2: 0.134374 + 0.0290333\n",
      "[700]\tcv_agg's l2: 0.134187 + 0.0289298\n"
     ]
    },
    {
     "name": "stderr",
     "output_type": "stream",
     "text": [
      "feature_fraction_stage2, val_score: 0.131846: 100%|######################################| 6/6 [01:04<00:00,  8.15s/it][I 2023-11-10 12:10:48,203] Trial 42 finished with value: 0.13423632491393148 and parameters: {'feature_fraction': 0.516}. Best is trial 38 with value: 0.13306856582482432.\n",
      "feature_fraction_stage2, val_score: 0.131846: 100%|######################################| 6/6 [01:04<00:00, 10.75s/it]\n"
     ]
    },
    {
     "name": "stdout",
     "output_type": "stream",
     "text": [
      "Early stopping, best iteration is:\n",
      "[653]\tcv_agg's l2: 0.131846 + 0.027081\n"
     ]
    },
    {
     "name": "stderr",
     "output_type": "stream",
     "text": [
      "regularization_factors, val_score: 0.131846:   0%|                                              | 0/20 [00:00<?, ?it/s]"
     ]
    },
    {
     "name": "stdout",
     "output_type": "stream",
     "text": [
      "[100]\tcv_agg's l2: 0.138619 + 0.0285604\n",
      "[200]\tcv_agg's l2: 0.134237 + 0.0265141\n",
      "[300]\tcv_agg's l2: 0.133336 + 0.0266392\n",
      "[400]\tcv_agg's l2: 0.133741 + 0.0270309\n",
      "[500]\tcv_agg's l2: 0.133788 + 0.0270498\n",
      "[600]\tcv_agg's l2: 0.133689 + 0.026763\n",
      "[700]\tcv_agg's l2: 0.133728 + 0.0267816\n"
     ]
    },
    {
     "name": "stderr",
     "output_type": "stream",
     "text": [
      "regularization_factors, val_score: 0.131846:   5%|#9                                    | 1/20 [00:04<01:30,  4.76s/it][I 2023-11-10 12:10:52,971] Trial 43 finished with value: 0.13367817340605453 and parameters: {'lambda_l1': 0.1289895205248054, 'lambda_l2': 2.9558269829580024e-08}. Best is trial 43 with value: 0.13367817340605453.\n",
      "regularization_factors, val_score: 0.131846:   5%|#9                                    | 1/20 [00:04<01:30,  4.76s/it]"
     ]
    },
    {
     "name": "stdout",
     "output_type": "stream",
     "text": [
      "Early stopping, best iteration is:\n",
      "[653]\tcv_agg's l2: 0.131846 + 0.027081\n",
      "[100]\tcv_agg's l2: 0.139327 + 0.0280278\n",
      "[200]\tcv_agg's l2: 0.134648 + 0.0264422\n",
      "[300]\tcv_agg's l2: 0.133841 + 0.0260997\n",
      "[400]\tcv_agg's l2: 0.13412 + 0.0269374\n",
      "[500]\tcv_agg's l2: 0.133929 + 0.0271372\n",
      "[600]\tcv_agg's l2: 0.133984 + 0.0272083\n",
      "[700]\tcv_agg's l2: 0.134089 + 0.0273067\n",
      "Early stopping, best iteration is:\n",
      "[653]\tcv_agg's l2: 0.131846 + 0.027081\n"
     ]
    },
    {
     "name": "stderr",
     "output_type": "stream",
     "text": [
      "regularization_factors, val_score: 0.131846:  10%|###8                                  | 2/20 [00:09<01:20,  4.46s/it][I 2023-11-10 12:10:57,223] Trial 44 finished with value: 0.13398747588993182 and parameters: {'lambda_l1': 0.2402687766391877, 'lambda_l2': 3.541683946954326e-08}. Best is trial 43 with value: 0.13367817340605453.\n",
      "regularization_factors, val_score: 0.131846:  10%|###8                                  | 2/20 [00:09<01:20,  4.46s/it]"
     ]
    },
    {
     "name": "stdout",
     "output_type": "stream",
     "text": [
      "[100]\tcv_agg's l2: 0.145001 + 0.0318422\n",
      "[200]\tcv_agg's l2: 0.139245 + 0.0306022\n",
      "[300]\tcv_agg's l2: 0.138067 + 0.030465\n",
      "[400]\tcv_agg's l2: 0.138099 + 0.030479\n",
      "[500]\tcv_agg's l2: 0.137956 + 0.0304538\n",
      "[600]\tcv_agg's l2: 0.137956 + 0.0304538\n",
      "[700]\tcv_agg's l2: 0.137956 + 0.0304538\n"
     ]
    },
    {
     "name": "stderr",
     "output_type": "stream",
     "text": [
      "regularization_factors, val_score: 0.131846:  15%|#####7                                | 3/20 [00:11<01:00,  3.54s/it][I 2023-11-10 12:10:59,659] Trial 45 finished with value: 0.13795616407401443 and parameters: {'lambda_l1': 0.9075314175331933, 'lambda_l2': 1.2697395657105636e-08}. Best is trial 43 with value: 0.13367817340605453.\n",
      "regularization_factors, val_score: 0.131846:  15%|#####7                                | 3/20 [00:11<01:00,  3.54s/it]"
     ]
    },
    {
     "name": "stdout",
     "output_type": "stream",
     "text": [
      "Early stopping, best iteration is:\n",
      "[653]\tcv_agg's l2: 0.131846 + 0.027081\n",
      "[100]\tcv_agg's l2: 0.139528 + 0.0293107\n",
      "[200]\tcv_agg's l2: 0.136042 + 0.0276662\n",
      "[300]\tcv_agg's l2: 0.134596 + 0.0275959\n",
      "[400]\tcv_agg's l2: 0.134231 + 0.0275206\n",
      "[500]\tcv_agg's l2: 0.134256 + 0.0275077\n",
      "[600]\tcv_agg's l2: 0.134103 + 0.0274091\n",
      "[700]\tcv_agg's l2: 0.133941 + 0.0273809\n"
     ]
    },
    {
     "name": "stderr",
     "output_type": "stream",
     "text": [
      "regularization_factors, val_score: 0.131846:  20%|#######6                              | 4/20 [00:16<01:04,  4.06s/it][I 2023-11-10 12:11:04,513] Trial 46 finished with value: 0.13397229258958693 and parameters: {'lambda_l1': 0.08066241129810307, 'lambda_l2': 3.4573651963830996e-08}. Best is trial 43 with value: 0.13367817340605453.\n",
      "regularization_factors, val_score: 0.131846:  20%|#######6                              | 4/20 [00:16<01:04,  4.06s/it]"
     ]
    },
    {
     "name": "stdout",
     "output_type": "stream",
     "text": [
      "Early stopping, best iteration is:\n",
      "[653]\tcv_agg's l2: 0.131846 + 0.027081\n",
      "[100]\tcv_agg's l2: 0.138575 + 0.0299792\n",
      "[200]\tcv_agg's l2: 0.13527 + 0.0291964\n",
      "[300]\tcv_agg's l2: 0.134966 + 0.0291219\n",
      "[400]\tcv_agg's l2: 0.134612 + 0.0288233\n",
      "[500]\tcv_agg's l2: 0.134323 + 0.0286448\n",
      "[600]\tcv_agg's l2: 0.134153 + 0.0285093\n",
      "[700]\tcv_agg's l2: 0.134087 + 0.0285015\n"
     ]
    },
    {
     "name": "stderr",
     "output_type": "stream",
     "text": [
      "regularization_factors, val_score: 0.131846:  25%|#########5                            | 5/20 [00:21<01:08,  4.57s/it][I 2023-11-10 12:11:09,997] Trial 47 finished with value: 0.13409715150156248 and parameters: {'lambda_l1': 0.0009729775872728973, 'lambda_l2': 7.742370926229358e-05}. Best is trial 43 with value: 0.13367817340605453.\n",
      "regularization_factors, val_score: 0.131846:  25%|#########5                            | 5/20 [00:21<01:08,  4.57s/it]"
     ]
    },
    {
     "name": "stdout",
     "output_type": "stream",
     "text": [
      "Early stopping, best iteration is:\n",
      "[653]\tcv_agg's l2: 0.131846 + 0.027081\n",
      "[100]\tcv_agg's l2: 0.138015 + 0.030459\n",
      "[200]\tcv_agg's l2: 0.134136 + 0.0286951\n",
      "[300]\tcv_agg's l2: 0.133239 + 0.0278966\n",
      "[400]\tcv_agg's l2: 0.132291 + 0.0276709\n",
      "[500]\tcv_agg's l2: 0.132149 + 0.0273452\n",
      "[600]\tcv_agg's l2: 0.131976 + 0.0272198\n",
      "[700]\tcv_agg's l2: 0.131965 + 0.0270769\n"
     ]
    },
    {
     "name": "stderr",
     "output_type": "stream",
     "text": [
      "regularization_factors, val_score: 0.131846:  30%|###########4                          | 6/20 [00:27<01:07,  4.85s/it][I 2023-11-10 12:11:15,388] Trial 48 finished with value: 0.1318553490118412 and parameters: {'lambda_l1': 9.691850646417544e-08, 'lambda_l2': 2.4892630824001563e-06}. Best is trial 48 with value: 0.1318553490118412.\n",
      "regularization_factors, val_score: 0.131846:  30%|###########4                          | 6/20 [00:27<01:07,  4.85s/it]"
     ]
    },
    {
     "name": "stdout",
     "output_type": "stream",
     "text": [
      "Early stopping, best iteration is:\n",
      "[653]\tcv_agg's l2: 0.131846 + 0.027081\n",
      "[100]\tcv_agg's l2: 0.139317 + 0.0297007\n",
      "[200]\tcv_agg's l2: 0.135671 + 0.0285627\n",
      "[300]\tcv_agg's l2: 0.13464 + 0.028159\n",
      "[400]\tcv_agg's l2: 0.133886 + 0.0277669\n",
      "[500]\tcv_agg's l2: 0.13365 + 0.0276842\n",
      "[600]\tcv_agg's l2: 0.13339 + 0.0274416\n",
      "[700]\tcv_agg's l2: 0.133232 + 0.0273494\n"
     ]
    },
    {
     "name": "stderr",
     "output_type": "stream",
     "text": [
      "regularization_factors, val_score: 0.131846:  35%|#############3                        | 7/20 [00:32<01:05,  5.02s/it][I 2023-11-10 12:11:20,754] Trial 49 finished with value: 0.13322602635576758 and parameters: {'lambda_l1': 2.76563459369873e-07, 'lambda_l2': 4.9527395128846656e-05}. Best is trial 48 with value: 0.1318553490118412.\n",
      "regularization_factors, val_score: 0.131846:  35%|#############3                        | 7/20 [00:32<01:05,  5.02s/it]"
     ]
    },
    {
     "name": "stdout",
     "output_type": "stream",
     "text": [
      "Early stopping, best iteration is:\n",
      "[653]\tcv_agg's l2: 0.131846 + 0.027081\n",
      "[100]\tcv_agg's l2: 0.139079 + 0.0293946\n",
      "[200]\tcv_agg's l2: 0.135332 + 0.0281187\n",
      "[300]\tcv_agg's l2: 0.134247 + 0.0277502\n",
      "[400]\tcv_agg's l2: 0.133352 + 0.0272468\n",
      "[500]\tcv_agg's l2: 0.132886 + 0.0270481\n",
      "[600]\tcv_agg's l2: 0.132766 + 0.0267885\n",
      "[700]\tcv_agg's l2: 0.132713 + 0.0266879\n"
     ]
    },
    {
     "name": "stderr",
     "output_type": "stream",
     "text": [
      "regularization_factors, val_score: 0.131846:  40%|###############2                      | 8/20 [00:37<01:01,  5.14s/it][I 2023-11-10 12:11:26,169] Trial 50 finished with value: 0.13268762901260328 and parameters: {'lambda_l1': 2.356442459841631e-08, 'lambda_l2': 0.00016339208670161341}. Best is trial 48 with value: 0.1318553490118412.\n",
      "regularization_factors, val_score: 0.131846:  40%|###############2                      | 8/20 [00:37<01:01,  5.14s/it]"
     ]
    },
    {
     "name": "stdout",
     "output_type": "stream",
     "text": [
      "Early stopping, best iteration is:\n",
      "[653]\tcv_agg's l2: 0.131846 + 0.027081\n",
      "[100]\tcv_agg's l2: 0.139079 + 0.0293946\n",
      "[200]\tcv_agg's l2: 0.135332 + 0.0281187\n",
      "[300]\tcv_agg's l2: 0.134247 + 0.0277502\n",
      "[400]\tcv_agg's l2: 0.133352 + 0.0272468\n",
      "[500]\tcv_agg's l2: 0.132886 + 0.0270481\n",
      "[600]\tcv_agg's l2: 0.132766 + 0.0267885\n",
      "[700]\tcv_agg's l2: 0.132713 + 0.0266879\n"
     ]
    },
    {
     "name": "stderr",
     "output_type": "stream",
     "text": [
      "regularization_factors, val_score: 0.131846:  45%|#################1                    | 9/20 [00:43<00:56,  5.18s/it][I 2023-11-10 12:11:31,432] Trial 51 finished with value: 0.1326876286775413 and parameters: {'lambda_l1': 2.6389336561546964e-08, 'lambda_l2': 0.00016370673518419665}. Best is trial 48 with value: 0.1318553490118412.\n",
      "regularization_factors, val_score: 0.131846:  45%|#################1                    | 9/20 [00:43<00:56,  5.18s/it]"
     ]
    },
    {
     "name": "stdout",
     "output_type": "stream",
     "text": [
      "Early stopping, best iteration is:\n",
      "[653]\tcv_agg's l2: 0.131846 + 0.027081\n",
      "[100]\tcv_agg's l2: 0.139079 + 0.0293942\n",
      "[200]\tcv_agg's l2: 0.135331 + 0.0281185\n",
      "[300]\tcv_agg's l2: 0.134271 + 0.0277704\n",
      "[400]\tcv_agg's l2: 0.133424 + 0.0273078\n",
      "[500]\tcv_agg's l2: 0.133184 + 0.0273003\n",
      "[600]\tcv_agg's l2: 0.133032 + 0.0270095\n",
      "[700]\tcv_agg's l2: 0.132979 + 0.0269063\n"
     ]
    },
    {
     "name": "stderr",
     "output_type": "stream",
     "text": [
      "regularization_factors, val_score: 0.131846:  50%|##################5                  | 10/20 [00:48<00:52,  5.27s/it][I 2023-11-10 12:11:36,891] Trial 52 finished with value: 0.13294321682106022 and parameters: {'lambda_l1': 2.27884749547199e-08, 'lambda_l2': 0.0001741588208481314}. Best is trial 48 with value: 0.1318553490118412.\n",
      "regularization_factors, val_score: 0.131846:  50%|##################5                  | 10/20 [00:48<00:52,  5.27s/it]"
     ]
    },
    {
     "name": "stdout",
     "output_type": "stream",
     "text": [
      "Early stopping, best iteration is:\n",
      "[653]\tcv_agg's l2: 0.131846 + 0.027081\n",
      "[100]\tcv_agg's l2: 0.137704 + 0.0307962\n",
      "[200]\tcv_agg's l2: 0.135211 + 0.0295111\n",
      "[300]\tcv_agg's l2: 0.134008 + 0.0288676\n",
      "[400]\tcv_agg's l2: 0.133771 + 0.0288119\n",
      "[500]\tcv_agg's l2: 0.133799 + 0.0285353\n",
      "[600]\tcv_agg's l2: 0.133619 + 0.028452\n",
      "[700]\tcv_agg's l2: 0.133565 + 0.0283891\n"
     ]
    },
    {
     "name": "stderr",
     "output_type": "stream",
     "text": [
      "regularization_factors, val_score: 0.131846:  55%|####################3                | 11/20 [00:54<00:47,  5.31s/it][I 2023-11-10 12:11:42,293] Trial 53 finished with value: 0.13352689946728794 and parameters: {'lambda_l1': 1.3305358908716734e-08, 'lambda_l2': 0.0009813414589364526}. Best is trial 48 with value: 0.1318553490118412.\n",
      "regularization_factors, val_score: 0.131846:  55%|####################3                | 11/20 [00:54<00:47,  5.31s/it]"
     ]
    },
    {
     "name": "stdout",
     "output_type": "stream",
     "text": [
      "Early stopping, best iteration is:\n",
      "[653]\tcv_agg's l2: 0.131846 + 0.027081\n",
      "[100]\tcv_agg's l2: 0.138882 + 0.0291455\n",
      "[200]\tcv_agg's l2: 0.134725 + 0.0277664\n",
      "[300]\tcv_agg's l2: 0.13377 + 0.0270404\n",
      "[400]\tcv_agg's l2: 0.132908 + 0.0266735\n",
      "[500]\tcv_agg's l2: 0.132635 + 0.0265534\n",
      "[600]\tcv_agg's l2: 0.132499 + 0.026369\n",
      "[700]\tcv_agg's l2: 0.132449 + 0.0262256\n"
     ]
    },
    {
     "name": "stderr",
     "output_type": "stream",
     "text": [
      "regularization_factors, val_score: 0.131846:  60%|######################2              | 12/20 [00:59<00:43,  5.41s/it][I 2023-11-10 12:11:47,936] Trial 54 finished with value: 0.1324007134356435 and parameters: {'lambda_l1': 2.8498520285004595e-08, 'lambda_l2': 3.312404232592112e-05}. Best is trial 48 with value: 0.1318553490118412.\n",
      "regularization_factors, val_score: 0.131846:  60%|######################2              | 12/20 [00:59<00:43,  5.41s/it]"
     ]
    },
    {
     "name": "stdout",
     "output_type": "stream",
     "text": [
      "Early stopping, best iteration is:\n",
      "[653]\tcv_agg's l2: 0.131846 + 0.027081\n",
      "[100]\tcv_agg's l2: 0.138882 + 0.0291455\n",
      "[200]\tcv_agg's l2: 0.134725 + 0.0277664\n",
      "[300]\tcv_agg's l2: 0.13377 + 0.0270404\n",
      "[400]\tcv_agg's l2: 0.132908 + 0.0266735\n",
      "[500]\tcv_agg's l2: 0.132635 + 0.0265534\n",
      "[600]\tcv_agg's l2: 0.132499 + 0.026369\n",
      "[700]\tcv_agg's l2: 0.132449 + 0.0262256\n"
     ]
    },
    {
     "name": "stderr",
     "output_type": "stream",
     "text": [
      "regularization_factors, val_score: 0.131846:  65%|########################             | 13/20 [01:04<00:37,  5.34s/it][I 2023-11-10 12:11:53,099] Trial 55 finished with value: 0.13240071261398434 and parameters: {'lambda_l1': 2.7091212511083496e-08, 'lambda_l2': 3.3700153036985664e-05}. Best is trial 48 with value: 0.1318553490118412.\n",
      "regularization_factors, val_score: 0.131846:  65%|########################             | 13/20 [01:04<00:37,  5.34s/it]"
     ]
    },
    {
     "name": "stdout",
     "output_type": "stream",
     "text": [
      "Early stopping, best iteration is:\n",
      "[653]\tcv_agg's l2: 0.131846 + 0.027081\n",
      "[100]\tcv_agg's l2: 0.138015 + 0.030459\n",
      "[200]\tcv_agg's l2: 0.134136 + 0.0286951\n",
      "[300]\tcv_agg's l2: 0.133239 + 0.0278966\n",
      "[400]\tcv_agg's l2: 0.132268 + 0.0276512\n",
      "[500]\tcv_agg's l2: 0.132213 + 0.0273996\n",
      "[600]\tcv_agg's l2: 0.132117 + 0.0273213\n",
      "[700]\tcv_agg's l2: 0.132067 + 0.0271924\n"
     ]
    },
    {
     "name": "stderr",
     "output_type": "stream",
     "text": [
      "regularization_factors, val_score: 0.131846:  70%|#########################9           | 14/20 [01:10<00:31,  5.29s/it][I 2023-11-10 12:11:58,294] Trial 56 finished with value: 0.13200049921384216 and parameters: {'lambda_l1': 1.4227890563295977e-07, 'lambda_l2': 6.174014383273596e-06}. Best is trial 48 with value: 0.1318553490118412.\n",
      "regularization_factors, val_score: 0.131846:  70%|#########################9           | 14/20 [01:10<00:31,  5.29s/it]"
     ]
    },
    {
     "name": "stdout",
     "output_type": "stream",
     "text": [
      "Early stopping, best iteration is:\n",
      "[653]\tcv_agg's l2: 0.131846 + 0.027081\n",
      "[100]\tcv_agg's l2: 0.138015 + 0.030459\n",
      "[200]\tcv_agg's l2: 0.134375 + 0.0285853\n",
      "[300]\tcv_agg's l2: 0.133146 + 0.0278053\n",
      "[400]\tcv_agg's l2: 0.132109 + 0.0274017\n",
      "[500]\tcv_agg's l2: 0.132113 + 0.0273896\n",
      "[600]\tcv_agg's l2: 0.132076 + 0.0272831\n",
      "[700]\tcv_agg's l2: 0.131993 + 0.02714\n"
     ]
    },
    {
     "name": "stderr",
     "output_type": "stream",
     "text": [
      "regularization_factors, val_score: 0.131846:  75%|###########################7         | 15/20 [01:15<00:26,  5.32s/it][I 2023-11-10 12:12:03,692] Trial 57 finished with value: 0.13196818056996149 and parameters: {'lambda_l1': 8.097131709269417e-07, 'lambda_l2': 5.575195874566014e-06}. Best is trial 48 with value: 0.1318553490118412.\n",
      "regularization_factors, val_score: 0.131846:  75%|###########################7         | 15/20 [01:15<00:26,  5.32s/it]"
     ]
    },
    {
     "name": "stdout",
     "output_type": "stream",
     "text": [
      "Early stopping, best iteration is:\n",
      "[653]\tcv_agg's l2: 0.131846 + 0.027081\n",
      "[100]\tcv_agg's l2: 0.138015 + 0.030459\n",
      "[200]\tcv_agg's l2: 0.134375 + 0.0285853\n",
      "[300]\tcv_agg's l2: 0.133146 + 0.0278053\n",
      "[400]\tcv_agg's l2: 0.132109 + 0.0274017\n",
      "[500]\tcv_agg's l2: 0.132113 + 0.0273896\n",
      "[600]\tcv_agg's l2: 0.132076 + 0.0272831\n",
      "[700]\tcv_agg's l2: 0.131993 + 0.02714\n"
     ]
    },
    {
     "name": "stderr",
     "output_type": "stream",
     "text": [
      "regularization_factors, val_score: 0.131846:  80%|#############################6       | 16/20 [01:21<00:21,  5.39s/it][I 2023-11-10 12:12:09,222] Trial 58 finished with value: 0.13196818170418384 and parameters: {'lambda_l1': 7.552967529907377e-07, 'lambda_l2': 4.967907394888213e-06}. Best is trial 48 with value: 0.1318553490118412.\n",
      "regularization_factors, val_score: 0.131846:  80%|#############################6       | 16/20 [01:21<00:21,  5.39s/it]"
     ]
    },
    {
     "name": "stdout",
     "output_type": "stream",
     "text": [
      "Early stopping, best iteration is:\n",
      "[653]\tcv_agg's l2: 0.131846 + 0.027081\n",
      "[100]\tcv_agg's l2: 0.138015 + 0.030459\n",
      "[200]\tcv_agg's l2: 0.134375 + 0.0285853\n",
      "[300]\tcv_agg's l2: 0.133146 + 0.0278053\n",
      "[400]\tcv_agg's l2: 0.132109 + 0.0274017\n",
      "[500]\tcv_agg's l2: 0.132125 + 0.0273704\n",
      "[600]\tcv_agg's l2: 0.13208 + 0.0272772\n",
      "[700]\tcv_agg's l2: 0.131999 + 0.0271317\n"
     ]
    },
    {
     "name": "stderr",
     "output_type": "stream",
     "text": [
      "regularization_factors, val_score: 0.131846:  85%|###############################4     | 17/20 [01:26<00:16,  5.43s/it][I 2023-11-10 12:12:14,741] Trial 59 finished with value: 0.13197241559043035 and parameters: {'lambda_l1': 1.1360749153934195e-06, 'lambda_l2': 2.6629200718147225e-06}. Best is trial 48 with value: 0.1318553490118412.\n",
      "regularization_factors, val_score: 0.131846:  85%|###############################4     | 17/20 [01:26<00:16,  5.43s/it]"
     ]
    },
    {
     "name": "stdout",
     "output_type": "stream",
     "text": [
      "Early stopping, best iteration is:\n",
      "[653]\tcv_agg's l2: 0.131846 + 0.027081\n",
      "[100]\tcv_agg's l2: 0.138015 + 0.0304589\n",
      "[200]\tcv_agg's l2: 0.134252 + 0.0286406\n",
      "[300]\tcv_agg's l2: 0.133069 + 0.027841\n",
      "[400]\tcv_agg's l2: 0.132117 + 0.027398\n",
      "[500]\tcv_agg's l2: 0.132181 + 0.0273456\n",
      "[600]\tcv_agg's l2: 0.132148 + 0.0272455\n",
      "[700]\tcv_agg's l2: 0.132091 + 0.0270587\n"
     ]
    },
    {
     "name": "stderr",
     "output_type": "stream",
     "text": [
      "regularization_factors, val_score: 0.131846:  90%|#################################3   | 18/20 [01:31<00:10,  5.43s/it][I 2023-11-10 12:12:20,173] Trial 60 finished with value: 0.13200276732712077 and parameters: {'lambda_l1': 2.7080073774442875e-06, 'lambda_l2': 1.7678053774626818e-06}. Best is trial 48 with value: 0.1318553490118412.\n",
      "regularization_factors, val_score: 0.131846:  90%|#################################3   | 18/20 [01:31<00:10,  5.43s/it]"
     ]
    },
    {
     "name": "stdout",
     "output_type": "stream",
     "text": [
      "Early stopping, best iteration is:\n",
      "[653]\tcv_agg's l2: 0.131846 + 0.027081\n",
      "[100]\tcv_agg's l2: 0.138015 + 0.030459\n",
      "[200]\tcv_agg's l2: 0.134375 + 0.0285853\n",
      "[300]\tcv_agg's l2: 0.133146 + 0.0278053\n",
      "[400]\tcv_agg's l2: 0.132141 + 0.0273878\n",
      "[500]\tcv_agg's l2: 0.132149 + 0.0273598\n",
      "[600]\tcv_agg's l2: 0.132101 + 0.0272663\n",
      "[700]\tcv_agg's l2: 0.132019 + 0.0270706\n"
     ]
    },
    {
     "name": "stderr",
     "output_type": "stream",
     "text": [
      "regularization_factors, val_score: 0.131846:  95%|###################################1 | 19/20 [01:37<00:05,  5.39s/it][I 2023-11-10 12:12:25,480] Trial 61 finished with value: 0.13192064276875928 and parameters: {'lambda_l1': 1.6324842072594314e-06, 'lambda_l2': 1.8925807945864563e-06}. Best is trial 48 with value: 0.1318553490118412.\n",
      "regularization_factors, val_score: 0.131846:  95%|###################################1 | 19/20 [01:37<00:05,  5.39s/it]"
     ]
    },
    {
     "name": "stdout",
     "output_type": "stream",
     "text": [
      "Early stopping, best iteration is:\n",
      "[653]\tcv_agg's l2: 0.131846 + 0.027081\n",
      "[100]\tcv_agg's l2: 0.138015 + 0.030459\n",
      "[200]\tcv_agg's l2: 0.134375 + 0.0285853\n",
      "[300]\tcv_agg's l2: 0.133146 + 0.0278053\n",
      "[400]\tcv_agg's l2: 0.132109 + 0.0274017\n",
      "[500]\tcv_agg's l2: 0.132125 + 0.0273704\n",
      "[600]\tcv_agg's l2: 0.132077 + 0.0272771\n",
      "[700]\tcv_agg's l2: 0.131947 + 0.0271033\n"
     ]
    },
    {
     "name": "stderr",
     "output_type": "stream",
     "text": [
      "regularization_factors, val_score: 0.131846: 100%|#####################################| 20/20 [01:42<00:00,  5.38s/it][I 2023-11-10 12:12:30,826] Trial 62 finished with value: 0.13191360627085277 and parameters: {'lambda_l1': 1.4359017178984155e-06, 'lambda_l2': 2.7612848906275457e-06}. Best is trial 48 with value: 0.1318553490118412.\n",
      "regularization_factors, val_score: 0.131846: 100%|#####################################| 20/20 [01:42<00:00,  5.13s/it]\n"
     ]
    },
    {
     "name": "stdout",
     "output_type": "stream",
     "text": [
      "Early stopping, best iteration is:\n",
      "[653]\tcv_agg's l2: 0.131846 + 0.027081\n"
     ]
    },
    {
     "name": "stderr",
     "output_type": "stream",
     "text": [
      "min_data_in_leaf, val_score: 0.131846:   0%|                                                     | 0/5 [00:00<?, ?it/s]"
     ]
    },
    {
     "name": "stdout",
     "output_type": "stream",
     "text": [
      "[100]\tcv_agg's l2: 0.157011 + 0.0337818\n",
      "[200]\tcv_agg's l2: 0.150164 + 0.0327477\n",
      "[300]\tcv_agg's l2: 0.146887 + 0.0312638\n",
      "[400]\tcv_agg's l2: 0.147175 + 0.0307765\n",
      "[500]\tcv_agg's l2: 0.146781 + 0.0301069\n",
      "[600]\tcv_agg's l2: 0.146556 + 0.0295495\n",
      "[700]\tcv_agg's l2: 0.146454 + 0.0290581\n"
     ]
    },
    {
     "name": "stderr",
     "output_type": "stream",
     "text": [
      "min_data_in_leaf, val_score: 0.131846:  20%|#########                                    | 1/5 [00:04<00:19,  4.82s/it][I 2023-11-10 12:12:35,655] Trial 63 finished with value: 0.1465167092373999 and parameters: {'min_child_samples': 25}. Best is trial 63 with value: 0.1465167092373999.\n",
      "min_data_in_leaf, val_score: 0.131846:  20%|#########                                    | 1/5 [00:04<00:19,  4.82s/it]"
     ]
    },
    {
     "name": "stdout",
     "output_type": "stream",
     "text": [
      "Early stopping, best iteration is:\n",
      "[653]\tcv_agg's l2: 0.131846 + 0.027081\n",
      "[100]\tcv_agg's l2: 0.12236 + 0.0240498\n",
      "[200]\tcv_agg's l2: 0.121141 + 0.0249285\n",
      "[300]\tcv_agg's l2: 0.120821 + 0.025287\n",
      "[400]\tcv_agg's l2: 0.120703 + 0.0253491\n"
     ]
    },
    {
     "name": "stderr",
     "output_type": "stream",
     "text": [
      "min_data_in_leaf, val_score: 0.120698:  40%|##################                           | 2/5 [00:09<00:13,  4.57s/it][I 2023-11-10 12:12:40,041] Trial 64 finished with value: 0.12069827054833411 and parameters: {'min_child_samples': 10}. Best is trial 64 with value: 0.12069827054833411.\n",
      "min_data_in_leaf, val_score: 0.120698:  40%|##################                           | 2/5 [00:09<00:13,  4.57s/it]"
     ]
    },
    {
     "name": "stdout",
     "output_type": "stream",
     "text": [
      "[500]\tcv_agg's l2: 0.120707 + 0.0254385\n",
      "Early stopping, best iteration is:\n",
      "[401]\tcv_agg's l2: 0.120698 + 0.0253468\n",
      "[100]\tcv_agg's l2: 0.227604 + 0.0453906\n",
      "[200]\tcv_agg's l2: 0.210694 + 0.043238\n",
      "[300]\tcv_agg's l2: 0.206459 + 0.0461429\n",
      "[400]\tcv_agg's l2: 0.20598 + 0.0473142\n"
     ]
    },
    {
     "name": "stderr",
     "output_type": "stream",
     "text": [
      "min_data_in_leaf, val_score: 0.120698:  60%|###########################                  | 3/5 [00:11<00:06,  3.39s/it][I 2023-11-10 12:12:42,035] Trial 65 finished with value: 0.2058933192899449 and parameters: {'min_child_samples': 50}. Best is trial 64 with value: 0.12069827054833411.\n",
      "min_data_in_leaf, val_score: 0.120698:  60%|###########################                  | 3/5 [00:11<00:06,  3.39s/it]"
     ]
    },
    {
     "name": "stdout",
     "output_type": "stream",
     "text": [
      "[500]\tcv_agg's l2: 0.204309 + 0.0479975\n",
      "Early stopping, best iteration is:\n",
      "[401]\tcv_agg's l2: 0.120698 + 0.0253468\n",
      "[100]\tcv_agg's l2: 0.122858 + 0.0281763\n",
      "[200]\tcv_agg's l2: 0.121253 + 0.0280511\n",
      "[300]\tcv_agg's l2: 0.121057 + 0.0280898\n",
      "[400]\tcv_agg's l2: 0.121069 + 0.0280797\n"
     ]
    },
    {
     "name": "stderr",
     "output_type": "stream",
     "text": [
      "min_data_in_leaf, val_score: 0.120698:  80%|####################################         | 4/5 [00:15<00:03,  3.70s/it][I 2023-11-10 12:12:46,217] Trial 66 finished with value: 0.1210671670210121 and parameters: {'min_child_samples': 5}. Best is trial 64 with value: 0.12069827054833411.\n",
      "min_data_in_leaf, val_score: 0.120698:  80%|####################################         | 4/5 [00:15<00:03,  3.70s/it]"
     ]
    },
    {
     "name": "stdout",
     "output_type": "stream",
     "text": [
      "[500]\tcv_agg's l2: 0.121055 + 0.028053\n",
      "Early stopping, best iteration is:\n",
      "[401]\tcv_agg's l2: 0.120698 + 0.0253468\n",
      "[100]\tcv_agg's l2: 0.754752 + 0.115893\n",
      "[200]\tcv_agg's l2: 0.700409 + 0.120886\n",
      "[300]\tcv_agg's l2: 0.684798 + 0.1221\n",
      "[400]\tcv_agg's l2: 0.672029 + 0.122943\n"
     ]
    },
    {
     "name": "stderr",
     "output_type": "stream",
     "text": [
      "min_data_in_leaf, val_score: 0.120698: 100%|#############################################| 5/5 [00:16<00:00,  2.89s/it][I 2023-11-10 12:12:47,677] Trial 67 finished with value: 0.6719514448514857 and parameters: {'min_child_samples': 100}. Best is trial 64 with value: 0.12069827054833411.\n",
      "min_data_in_leaf, val_score: 0.120698: 100%|#############################################| 5/5 [00:16<00:00,  3.37s/it]"
     ]
    },
    {
     "name": "stdout",
     "output_type": "stream",
     "text": [
      "[500]\tcv_agg's l2: 0.663609 + 0.125776\n",
      "Early stopping, best iteration is:\n",
      "[401]\tcv_agg's l2: 0.120698 + 0.0253468\n"
     ]
    },
    {
     "name": "stderr",
     "output_type": "stream",
     "text": [
      "\n"
     ]
    }
   ],
   "source": [
    "import optuna.integration.lightgbm as lgb\n",
    "from lightgbm import early_stopping, log_evaluation\n",
    "from sklearn.model_selection import KFold\n",
    "from sklearn.model_selection import RepeatedKFold\n",
    "\n",
    "\n",
    "lgb_train = lgb.Dataset(X_train, y_train)\n",
    "\n",
    "params = {\n",
    "    \"boosting_type\": \"gbdt\",\n",
    "    \"objective\": \"regression\",\n",
    "    \"metric\": \"l2\",\n",
    "    \"verbosity\": -1,\n",
    "}\n",
    "\n",
    "tuner = lgb.LightGBMTunerCV(\n",
    "    params,\n",
    "    lgb_train,\n",
    "    folds=KFold(n_splits=5),\n",
    "    num_boost_round=10000,\n",
    "    callbacks=[early_stopping(100), log_evaluation(100)],\n",
    ")\n",
    "\n",
    "tuner.run()"
   ]
  },
  {
   "cell_type": "code",
   "execution_count": 23,
   "id": "d9ab9a30",
   "metadata": {},
   "outputs": [
    {
     "name": "stdout",
     "output_type": "stream",
     "text": [
      "Best score: 0.12069827054833411\n",
      "Params: \n",
      "    boosting_type: gbdt\n",
      "    objective: regression\n",
      "    metric: l2\n",
      "    verbosity: -1\n",
      "    feature_pre_filter: False\n",
      "    lambda_l1: 0.0\n",
      "    lambda_l2: 0.0\n",
      "    num_leaves: 31\n",
      "    feature_fraction: 0.5\n",
      "    bagging_fraction: 0.9756014819830299\n",
      "    bagging_freq: 7\n",
      "    min_child_samples: 10\n"
     ]
    }
   ],
   "source": [
    "print(f\"Best score: {tuner.best_score}\")\n",
    "best_params = tuner.best_params\n",
    "print(\"Params: \")\n",
    "for key, value in best_params.items():\n",
    "    print(\"    {}: {}\".format(key, value))"
   ]
  },
  {
   "cell_type": "code",
   "execution_count": 24,
   "id": "0cb62c30",
   "metadata": {},
   "outputs": [],
   "source": [
    "import lightgbm as lgb\n",
    "\n",
    "lgb_tuned = lgb.train(\n",
    "    best_params,\n",
    "    lgb_train,\n",
    "    num_boost_round=10000,\n",
    ")"
   ]
  },
  {
   "cell_type": "code",
   "execution_count": 25,
   "id": "eb6b8188",
   "metadata": {},
   "outputs": [
    {
     "name": "stdout",
     "output_type": "stream",
     "text": [
      "RMSE train: 0.00\n",
      "RMSE test: 0.68\n",
      "MAE test: 0.39\n",
      "\n"
     ]
    }
   ],
   "source": [
    "rmse, mae = assess_regression_model(lgb_tuned, X_train, X_test, y_train, y_test)"
   ]
  },
  {
   "cell_type": "code",
   "execution_count": 26,
   "id": "90047108",
   "metadata": {},
   "outputs": [],
   "source": [
    "results.loc[1] = [\n",
    "    \"chronological\",\n",
    "    \"Optuna\",\n",
    "    \"full\",\n",
    "    rmse,\n",
    "    mae,\n",
    "]"
   ]
  },
  {
   "cell_type": "markdown",
   "id": "b26d94f2",
   "metadata": {},
   "source": [
    "###### MAE by level"
   ]
  },
  {
   "cell_type": "code",
   "execution_count": 27,
   "id": "bb716b92",
   "metadata": {},
   "outputs": [
    {
     "data": {
      "image/png": "[encoded data removed]",
      "text/plain": [
       "<Figure size 1440x576 with 1 Axes>"
      ]
     },
     "metadata": {
      "needs_background": "light"
     },
     "output_type": "display_data"
    }
   ],
   "source": [
    "plot_mae_by_level(\n",
    "    y_test,\n",
    "    y_pred_test,\n",
    "    title=\"MAE by level for tuned LightGBM with full features and chronological split\",\n",
    ")"
   ]
  },
  {
   "cell_type": "code",
   "execution_count": 28,
   "id": "79785820",
   "metadata": {
    "scrolled": false
   },
   "outputs": [
    {
     "name": "stdout",
     "output_type": "stream",
     "text": [
      "Default:\n",
      "RMSE: 0.68\n",
      "\n",
      "Round type: 0.5\n",
      "RMSE: 0.72\n",
      "\n",
      "Round type: 0.33\n",
      "RMSE: 0.70\n",
      "\n",
      "Round type: 0.45\n",
      "RMSE: 0.71\n",
      "\n"
     ]
    }
   ],
   "source": [
    "predict = lgb_tuned.predict(X_test)\n",
    "evaluate_round_predictions([0.5, 0.33, 0.45], y_test, predict)"
   ]
  },
  {
   "cell_type": "code",
   "execution_count": 29,
   "id": "63a9eab9",
   "metadata": {},
   "outputs": [
    {
     "data": {
      "image/png": "[encoded data removed]",
      "text/plain": [
       "<Figure size 720x720 with 2 Axes>"
      ]
     },
     "metadata": {
      "needs_background": "light"
     },
     "output_type": "display_data"
    }
   ],
   "source": [
    "plot_confusion_matrix(\n",
    "    predict,\n",
    "    y_test,\n",
    "    title=\"Confusion matrix for tuned LightGBM with\\nfull features and chronological split\",\n",
    ")"
   ]
  },
  {
   "cell_type": "markdown",
   "id": "a1fa0d3e",
   "metadata": {},
   "source": [
    "## Random split"
   ]
  },
  {
   "cell_type": "code",
   "execution_count": 30,
   "id": "69148859",
   "metadata": {},
   "outputs": [
    {
     "name": "stdout",
     "output_type": "stream",
     "text": [
      "[LightGBM] [Warning] Auto-choosing col-wise multi-threading, the overhead of testing was 0.001235 seconds.\n",
      "You can set `force_col_wise=true` to remove the overhead.\n",
      "[LightGBM] [Info] Total Bins 804\n",
      "[LightGBM] [Info] Number of data points in the train set: 904, number of used features: 48\n",
      "[LightGBM] [Info] Start training from score 7.162611\n",
      "Training until validation scores don't improve for 5 rounds\n",
      "Early stopping, best iteration is:\n",
      "[75]\tvalid_0's l1: 0.246737\tvalid_0's l2: 0.1379\n"
     ]
    }
   ],
   "source": [
    "import lightgbm as lgb\n",
    "from sklearn.metrics import mean_squared_error\n",
    "\n",
    "lgb_train = lgb.Dataset(X_train_random_split, y_train_random_split)\n",
    "lgb_eval = lgb.Dataset(X_test_random_split, y_test_random_split, reference=lgb_train)\n",
    "\n",
    "params = {\n",
    "    \"boosting_type\": \"gbdt\",\n",
    "    \"objective\": \"regression\",\n",
    "    \"metric\": {\"l2\", \"l1\"},\n",
    "}\n",
    "\n",
    "gbm = lgb.train(\n",
    "    params,\n",
    "    lgb_train,\n",
    "    num_boost_round=100,\n",
    "    valid_sets=lgb_eval,\n",
    "    callbacks=[lgb.early_stopping(stopping_rounds=5)],\n",
    ")"
   ]
  },
  {
   "cell_type": "code",
   "execution_count": 31,
   "id": "792899a7",
   "metadata": {},
   "outputs": [],
   "source": [
    "y_pred_train = gbm.predict(X_train_random_split, num_iteration=gbm.best_iteration)\n",
    "y_pred_test = gbm.predict(X_test_random_split, num_iteration=gbm.best_iteration)"
   ]
  },
  {
   "cell_type": "code",
   "execution_count": 32,
   "id": "92e8b92d",
   "metadata": {},
   "outputs": [
    {
     "name": "stdout",
     "output_type": "stream",
     "text": [
      "RMSE: 0.37\n",
      "MAE: 0.25\n"
     ]
    }
   ],
   "source": [
    "from sklearn.metrics import mean_squared_error, mean_absolute_error\n",
    "\n",
    "\n",
    "rmse = mean_squared_error(y_test_random_split, y_pred_test, squared=False)\n",
    "mae = mean_absolute_error(y_test_random_split, y_pred_test)\n",
    "\n",
    "print(f\"RMSE: {rmse:.2f}\")\n",
    "print(f\"MAE: {mae:.2f}\")"
   ]
  },
  {
   "cell_type": "code",
   "execution_count": 33,
   "id": "e9b9f08d",
   "metadata": {},
   "outputs": [],
   "source": [
    "results.loc[2] = [\"random\", \"default\", \"full\", rmse, mae]"
   ]
  },
  {
   "cell_type": "markdown",
   "id": "e2f3fc5d",
   "metadata": {},
   "source": [
    "###### MAE by level"
   ]
  },
  {
   "cell_type": "code",
   "execution_count": 34,
   "id": "591c040e",
   "metadata": {},
   "outputs": [
    {
     "data": {
      "image/png": "[encoded data removed]",
      "text/plain": [
       "<Figure size 1440x576 with 1 Axes>"
      ]
     },
     "metadata": {
      "needs_background": "light"
     },
     "output_type": "display_data"
    }
   ],
   "source": [
    "plot_mae_by_level(\n",
    "    y_test_random_split,\n",
    "    y_pred_test,\n",
    "    title=\"MAE by level for default LightGBM with full features and random split\",\n",
    ")"
   ]
  },
  {
   "cell_type": "code",
   "execution_count": 35,
   "id": "2122d102",
   "metadata": {
    "scrolled": true
   },
   "outputs": [
    {
     "name": "stdout",
     "output_type": "stream",
     "text": [
      "Default:\n",
      "RMSE: 0.37\n",
      "\n",
      "Round type: 0.5\n",
      "RMSE: 0.38\n",
      "\n",
      "Round type: 0.33\n",
      "RMSE: 0.43\n",
      "\n",
      "Round type: 0.45\n",
      "RMSE: 0.38\n",
      "\n"
     ]
    }
   ],
   "source": [
    "evaluate_round_predictions([0.5, 0.33, 0.45], y_test_random_split, y_pred_test)"
   ]
  },
  {
   "cell_type": "code",
   "execution_count": 36,
   "id": "3b4c77ab",
   "metadata": {},
   "outputs": [
    {
     "data": {
      "image/png": "[encoded data removed]",
      "text/plain": [
       "<Figure size 720x720 with 2 Axes>"
      ]
     },
     "metadata": {
      "needs_background": "light"
     },
     "output_type": "display_data"
    }
   ],
   "source": [
    "plot_confusion_matrix(\n",
    "    y_pred_test,\n",
    "    y_test_random_split,\n",
    "    title=\"Confusion matrix for default LightGBM with\\nfull features and random split\",\n",
    ")"
   ]
  },
  {
   "cell_type": "markdown",
   "id": "295f8eff",
   "metadata": {},
   "source": [
    "### Tuning"
   ]
  },
  {
   "cell_type": "code",
   "execution_count": 37,
   "id": "14fca15b",
   "metadata": {},
   "outputs": [
    {
     "name": "stderr",
     "output_type": "stream",
     "text": [
      "[I 2023-11-10 12:13:09,791] A new study created in memory with name: no-name-4eec59f9-77bd-4c49-8ca0-5efee5e50014\n",
      "feature_fraction, val_score: inf:   0%|                                                          | 0/7 [00:00<?, ?it/s]"
     ]
    },
    {
     "name": "stdout",
     "output_type": "stream",
     "text": [
      "Training until validation scores don't improve for 100 rounds\n",
      "[100]\tcv_agg's l2: 0.173359 + 0.0411901\n",
      "[200]\tcv_agg's l2: 0.169756 + 0.039742\n",
      "[300]\tcv_agg's l2: 0.168722 + 0.0391668\n",
      "[400]\tcv_agg's l2: 0.168476 + 0.0393062\n",
      "[500]\tcv_agg's l2: 0.168423 + 0.0391467\n"
     ]
    },
    {
     "name": "stderr",
     "output_type": "stream",
     "text": [
      "feature_fraction, val_score: 0.168344:  14%|######4                                      | 1/7 [00:03<00:22,  3.78s/it][I 2023-11-10 12:13:13,573] Trial 0 finished with value: 0.16834364198146004 and parameters: {'feature_fraction': 1.0}. Best is trial 0 with value: 0.16834364198146004.\n",
      "feature_fraction, val_score: 0.168344:  14%|######4                                      | 1/7 [00:03<00:22,  3.78s/it]"
     ]
    },
    {
     "name": "stdout",
     "output_type": "stream",
     "text": [
      "Early stopping, best iteration is:\n",
      "[472]\tcv_agg's l2: 0.168344 + 0.0392177\n",
      "[100]\tcv_agg's l2: 0.170201 + 0.0497742\n",
      "[200]\tcv_agg's l2: 0.166602 + 0.0471048\n",
      "[300]\tcv_agg's l2: 0.165874 + 0.0468602\n",
      "[400]\tcv_agg's l2: 0.165405 + 0.046238\n",
      "[500]\tcv_agg's l2: 0.165058 + 0.0457714\n",
      "[600]\tcv_agg's l2: 0.165087 + 0.0456621\n"
     ]
    },
    {
     "name": "stderr",
     "output_type": "stream",
     "text": [
      "feature_fraction, val_score: 0.165011:  29%|############8                                | 2/7 [00:09<00:24,  4.85s/it][I 2023-11-10 12:13:19,168] Trial 1 finished with value: 0.1650106999181077 and parameters: {'feature_fraction': 0.8}. Best is trial 1 with value: 0.1650106999181077.\n",
      "feature_fraction, val_score: 0.165011:  29%|############8                                | 2/7 [00:09<00:24,  4.85s/it]"
     ]
    },
    {
     "name": "stdout",
     "output_type": "stream",
     "text": [
      "Early stopping, best iteration is:\n",
      "[543]\tcv_agg's l2: 0.165011 + 0.0457184\n",
      "[100]\tcv_agg's l2: 0.17067 + 0.0484906\n",
      "[200]\tcv_agg's l2: 0.167369 + 0.0466739\n",
      "[300]\tcv_agg's l2: 0.166322 + 0.0466153\n",
      "[400]\tcv_agg's l2: 0.166116 + 0.0462251\n",
      "[500]\tcv_agg's l2: 0.166084 + 0.04606\n",
      "[600]\tcv_agg's l2: 0.165933 + 0.0458746\n"
     ]
    },
    {
     "name": "stderr",
     "output_type": "stream",
     "text": [
      "feature_fraction, val_score: 0.165011:  43%|###################2                         | 3/7 [00:14<00:19,  4.86s/it][I 2023-11-10 12:13:24,051] Trial 2 finished with value: 0.16603569295148138 and parameters: {'feature_fraction': 0.8999999999999999}. Best is trial 1 with value: 0.1650106999181077.\n",
      "feature_fraction, val_score: 0.165011:  43%|###################2                         | 3/7 [00:14<00:19,  4.86s/it]"
     ]
    },
    {
     "name": "stdout",
     "output_type": "stream",
     "text": [
      "Early stopping, best iteration is:\n",
      "[543]\tcv_agg's l2: 0.165011 + 0.0457184\n",
      "[100]\tcv_agg's l2: 0.165504 + 0.0452766\n",
      "[200]\tcv_agg's l2: 0.162282 + 0.0431373\n",
      "[300]\tcv_agg's l2: 0.161939 + 0.0414281\n",
      "[400]\tcv_agg's l2: 0.161225 + 0.0406967\n",
      "[500]\tcv_agg's l2: 0.160741 + 0.0401195\n"
     ]
    },
    {
     "name": "stderr",
     "output_type": "stream",
     "text": [
      "feature_fraction, val_score: 0.160685:  57%|#########################7                   | 4/7 [00:18<00:14,  4.73s/it][I 2023-11-10 12:13:28,576] Trial 3 finished with value: 0.1606854414317864 and parameters: {'feature_fraction': 0.6}. Best is trial 3 with value: 0.1606854414317864.\n",
      "feature_fraction, val_score: 0.160685:  57%|#########################7                   | 4/7 [00:18<00:14,  4.73s/it]"
     ]
    },
    {
     "name": "stdout",
     "output_type": "stream",
     "text": [
      "Early stopping, best iteration is:\n",
      "[493]\tcv_agg's l2: 0.160685 + 0.0401396\n",
      "[100]\tcv_agg's l2: 0.171795 + 0.0493186\n",
      "[200]\tcv_agg's l2: 0.167808 + 0.0469403\n",
      "[300]\tcv_agg's l2: 0.166524 + 0.0459494\n",
      "[400]\tcv_agg's l2: 0.1664 + 0.0457052\n",
      "[500]\tcv_agg's l2: 0.166051 + 0.0452917\n"
     ]
    },
    {
     "name": "stderr",
     "output_type": "stream",
     "text": [
      "feature_fraction, val_score: 0.160685:  71%|################################1            | 5/7 [00:22<00:08,  4.44s/it][I 2023-11-10 12:13:32,495] Trial 4 finished with value: 0.16604683162235542 and parameters: {'feature_fraction': 0.7}. Best is trial 3 with value: 0.1606854414317864.\n",
      "feature_fraction, val_score: 0.160685:  71%|################################1            | 5/7 [00:22<00:08,  4.44s/it]"
     ]
    },
    {
     "name": "stdout",
     "output_type": "stream",
     "text": [
      "Early stopping, best iteration is:\n",
      "[493]\tcv_agg's l2: 0.160685 + 0.0401396\n",
      "[100]\tcv_agg's l2: 0.152045 + 0.0348854\n",
      "[200]\tcv_agg's l2: 0.148446 + 0.0327369\n",
      "[300]\tcv_agg's l2: 0.146461 + 0.0322\n",
      "[400]\tcv_agg's l2: 0.146053 + 0.0312933\n",
      "[500]\tcv_agg's l2: 0.14555 + 0.0308671\n",
      "[600]\tcv_agg's l2: 0.145364 + 0.0306216\n",
      "[700]\tcv_agg's l2: 0.145313 + 0.0304239\n",
      "[800]\tcv_agg's l2: 0.145269 + 0.0303414\n",
      "[900]\tcv_agg's l2: 0.145244 + 0.03028\n",
      "[1000]\tcv_agg's l2: 0.145214 + 0.0302837\n",
      "[1100]\tcv_agg's l2: 0.145164 + 0.0302165\n"
     ]
    },
    {
     "name": "stderr",
     "output_type": "stream",
     "text": [
      "feature_fraction, val_score: 0.145156:  86%|######################################5      | 6/7 [00:30<00:05,  5.64s/it][I 2023-11-10 12:13:40,484] Trial 5 finished with value: 0.1451557026214517 and parameters: {'feature_fraction': 0.4}. Best is trial 5 with value: 0.1451557026214517.\n",
      "feature_fraction, val_score: 0.145156:  86%|######################################5      | 6/7 [00:30<00:05,  5.64s/it]"
     ]
    },
    {
     "name": "stdout",
     "output_type": "stream",
     "text": [
      "Early stopping, best iteration is:\n",
      "[1082]\tcv_agg's l2: 0.145156 + 0.0301886\n",
      "[100]\tcv_agg's l2: 0.157462 + 0.0455328\n",
      "[200]\tcv_agg's l2: 0.152357 + 0.0428452\n",
      "[300]\tcv_agg's l2: 0.15048 + 0.0413018\n",
      "[400]\tcv_agg's l2: 0.150009 + 0.041088\n",
      "[500]\tcv_agg's l2: 0.149624 + 0.0404743\n",
      "[600]\tcv_agg's l2: 0.14965 + 0.0403328\n",
      "[700]\tcv_agg's l2: 0.149555 + 0.0400863\n",
      "[800]\tcv_agg's l2: 0.149585 + 0.0401061\n",
      "[900]\tcv_agg's l2: 0.149547 + 0.0401433\n",
      "[1000]\tcv_agg's l2: 0.149544 + 0.0401693\n",
      "[1100]\tcv_agg's l2: 0.149488 + 0.0401171\n"
     ]
    },
    {
     "name": "stderr",
     "output_type": "stream",
     "text": [
      "feature_fraction, val_score: 0.145156: 100%|#############################################| 7/7 [00:39<00:00,  6.82s/it][I 2023-11-10 12:13:49,711] Trial 6 finished with value: 0.14950287441641769 and parameters: {'feature_fraction': 0.5}. Best is trial 5 with value: 0.1451557026214517.\n",
      "feature_fraction, val_score: 0.145156: 100%|#############################################| 7/7 [00:39<00:00,  5.70s/it]\n"
     ]
    },
    {
     "name": "stdout",
     "output_type": "stream",
     "text": [
      "Early stopping, best iteration is:\n",
      "[1082]\tcv_agg's l2: 0.145156 + 0.0301886\n"
     ]
    },
    {
     "name": "stderr",
     "output_type": "stream",
     "text": [
      "num_leaves, val_score: 0.145156:   0%|                                                          | 0/20 [00:00<?, ?it/s]"
     ]
    },
    {
     "name": "stdout",
     "output_type": "stream",
     "text": [
      "[100]\tcv_agg's l2: 0.152045 + 0.0348854\n",
      "[200]\tcv_agg's l2: 0.148446 + 0.0327369\n",
      "[300]\tcv_agg's l2: 0.146461 + 0.0322\n",
      "[400]\tcv_agg's l2: 0.146053 + 0.0312933\n",
      "[500]\tcv_agg's l2: 0.14555 + 0.0308671\n",
      "[600]\tcv_agg's l2: 0.145364 + 0.0306216\n",
      "[700]\tcv_agg's l2: 0.145313 + 0.0304239\n",
      "[800]\tcv_agg's l2: 0.145269 + 0.0303414\n",
      "[900]\tcv_agg's l2: 0.145244 + 0.03028\n",
      "[1000]\tcv_agg's l2: 0.145214 + 0.0302837\n",
      "[1100]\tcv_agg's l2: 0.145164 + 0.0302165\n"
     ]
    },
    {
     "name": "stderr",
     "output_type": "stream",
     "text": [
      "num_leaves, val_score: 0.145156:   5%|##5                                               | 1/20 [00:09<02:58,  9.40s/it][I 2023-11-10 12:13:59,115] Trial 7 finished with value: 0.1451557026214517 and parameters: {'num_leaves': 254}. Best is trial 7 with value: 0.1451557026214517.\n",
      "num_leaves, val_score: 0.145156:   5%|##5                                               | 1/20 [00:09<02:58,  9.40s/it]"
     ]
    },
    {
     "name": "stdout",
     "output_type": "stream",
     "text": [
      "Early stopping, best iteration is:\n",
      "[1082]\tcv_agg's l2: 0.145156 + 0.0301886\n",
      "[100]\tcv_agg's l2: 0.152045 + 0.0348854\n",
      "[200]\tcv_agg's l2: 0.148446 + 0.0327369\n",
      "[300]\tcv_agg's l2: 0.146461 + 0.0322\n",
      "[400]\tcv_agg's l2: 0.146053 + 0.0312933\n",
      "[500]\tcv_agg's l2: 0.14555 + 0.0308671\n",
      "[600]\tcv_agg's l2: 0.145364 + 0.0306216\n",
      "[700]\tcv_agg's l2: 0.145313 + 0.0304239\n",
      "[800]\tcv_agg's l2: 0.145269 + 0.0303414\n",
      "[900]\tcv_agg's l2: 0.145244 + 0.03028\n",
      "[1000]\tcv_agg's l2: 0.145214 + 0.0302837\n",
      "[1100]\tcv_agg's l2: 0.145164 + 0.0302165\n"
     ]
    },
    {
     "name": "stderr",
     "output_type": "stream",
     "text": [
      "num_leaves, val_score: 0.145156:  10%|#####                                             | 2/20 [00:18<02:40,  8.94s/it][I 2023-11-10 12:14:07,735] Trial 8 finished with value: 0.1451557026214517 and parameters: {'num_leaves': 110}. Best is trial 7 with value: 0.1451557026214517.\n",
      "num_leaves, val_score: 0.145156:  10%|#####                                             | 2/20 [00:18<02:40,  8.94s/it]"
     ]
    },
    {
     "name": "stdout",
     "output_type": "stream",
     "text": [
      "Early stopping, best iteration is:\n",
      "[1082]\tcv_agg's l2: 0.145156 + 0.0301886\n",
      "[100]\tcv_agg's l2: 0.152045 + 0.0348854\n",
      "[200]\tcv_agg's l2: 0.148446 + 0.0327369\n",
      "[300]\tcv_agg's l2: 0.146461 + 0.0322\n",
      "[400]\tcv_agg's l2: 0.146053 + 0.0312933\n",
      "[500]\tcv_agg's l2: 0.14555 + 0.0308671\n",
      "[600]\tcv_agg's l2: 0.145364 + 0.0306216\n",
      "[700]\tcv_agg's l2: 0.145313 + 0.0304239\n",
      "[800]\tcv_agg's l2: 0.145269 + 0.0303414\n",
      "[900]\tcv_agg's l2: 0.145244 + 0.03028\n",
      "[1000]\tcv_agg's l2: 0.145214 + 0.0302837\n",
      "[1100]\tcv_agg's l2: 0.145164 + 0.0302165\n"
     ]
    },
    {
     "name": "stderr",
     "output_type": "stream",
     "text": [
      "num_leaves, val_score: 0.145156:  15%|#######5                                          | 3/20 [00:26<02:26,  8.62s/it][I 2023-11-10 12:14:15,980] Trial 9 finished with value: 0.1451557026214517 and parameters: {'num_leaves': 176}. Best is trial 7 with value: 0.1451557026214517.\n",
      "num_leaves, val_score: 0.145156:  15%|#######5                                          | 3/20 [00:26<02:26,  8.62s/it]"
     ]
    },
    {
     "name": "stdout",
     "output_type": "stream",
     "text": [
      "Early stopping, best iteration is:\n",
      "[1082]\tcv_agg's l2: 0.145156 + 0.0301886\n",
      "[100]\tcv_agg's l2: 0.205109 + 0.061742\n",
      "[200]\tcv_agg's l2: 0.179588 + 0.0523929\n",
      "[300]\tcv_agg's l2: 0.168199 + 0.0494628\n",
      "[400]\tcv_agg's l2: 0.162131 + 0.04606\n",
      "[500]\tcv_agg's l2: 0.158624 + 0.0447149\n",
      "[600]\tcv_agg's l2: 0.156272 + 0.0437694\n",
      "[700]\tcv_agg's l2: 0.15388 + 0.0436668\n",
      "[800]\tcv_agg's l2: 0.15187 + 0.0424642\n",
      "[900]\tcv_agg's l2: 0.149918 + 0.0417623\n",
      "[1000]\tcv_agg's l2: 0.148743 + 0.0412555\n"
     ]
    },
    {
     "name": "stderr",
     "output_type": "stream",
     "text": [
      "\r",
      "num_leaves, val_score: 0.145156:  15%|#######5                                          | 3/20 [00:29<02:26,  8.62s/it]"
     ]
    },
    {
     "name": "stdout",
     "output_type": "stream",
     "text": [
      "[1100]\tcv_agg's l2: 0.147792 + 0.0402706\n",
      "Early stopping, best iteration is:\n",
      "[1082]\tcv_agg's l2: 0.145156 + 0.0301886\n"
     ]
    },
    {
     "name": "stderr",
     "output_type": "stream",
     "text": [
      "num_leaves, val_score: 0.145156:  20%|##########                                        | 4/20 [00:29<01:41,  6.36s/it][I 2023-11-10 12:14:18,867] Trial 10 finished with value: 0.14824959198013798 and parameters: {'num_leaves': 4}. Best is trial 7 with value: 0.1451557026214517.\n",
      "num_leaves, val_score: 0.145156:  20%|##########                                        | 4/20 [00:29<01:41,  6.36s/it]"
     ]
    },
    {
     "name": "stdout",
     "output_type": "stream",
     "text": [
      "[100]\tcv_agg's l2: 0.152045 + 0.0348854\n",
      "[200]\tcv_agg's l2: 0.148446 + 0.0327369\n",
      "[300]\tcv_agg's l2: 0.146461 + 0.0322\n",
      "[400]\tcv_agg's l2: 0.146053 + 0.0312933\n",
      "[500]\tcv_agg's l2: 0.14555 + 0.0308671\n",
      "[600]\tcv_agg's l2: 0.145364 + 0.0306216\n",
      "[700]\tcv_agg's l2: 0.145313 + 0.0304239\n",
      "[800]\tcv_agg's l2: 0.145269 + 0.0303414\n",
      "[900]\tcv_agg's l2: 0.145244 + 0.03028\n",
      "[1000]\tcv_agg's l2: 0.145214 + 0.0302837\n",
      "[1100]\tcv_agg's l2: 0.145164 + 0.0302165\n"
     ]
    },
    {
     "name": "stderr",
     "output_type": "stream",
     "text": [
      "num_leaves, val_score: 0.145156:  25%|############5                                     | 5/20 [00:38<01:50,  7.33s/it][I 2023-11-10 12:14:27,934] Trial 11 finished with value: 0.1451557026214517 and parameters: {'num_leaves': 250}. Best is trial 7 with value: 0.1451557026214517.\n",
      "num_leaves, val_score: 0.145156:  25%|############5                                     | 5/20 [00:38<01:50,  7.33s/it]"
     ]
    },
    {
     "name": "stdout",
     "output_type": "stream",
     "text": [
      "Early stopping, best iteration is:\n",
      "[1082]\tcv_agg's l2: 0.145156 + 0.0301886\n",
      "[100]\tcv_agg's l2: 0.152045 + 0.0348854\n",
      "[200]\tcv_agg's l2: 0.148446 + 0.0327369\n",
      "[300]\tcv_agg's l2: 0.146461 + 0.0322\n",
      "[400]\tcv_agg's l2: 0.146053 + 0.0312933\n",
      "[500]\tcv_agg's l2: 0.14555 + 0.0308671\n",
      "[600]\tcv_agg's l2: 0.145364 + 0.0306216\n",
      "[700]\tcv_agg's l2: 0.145313 + 0.0304239\n",
      "[800]\tcv_agg's l2: 0.145269 + 0.0303414\n",
      "[900]\tcv_agg's l2: 0.145244 + 0.03028\n",
      "[1000]\tcv_agg's l2: 0.145214 + 0.0302837\n",
      "[1100]\tcv_agg's l2: 0.145164 + 0.0302165\n"
     ]
    },
    {
     "name": "stderr",
     "output_type": "stream",
     "text": [
      "num_leaves, val_score: 0.145156:  30%|###############                                   | 6/20 [00:47<01:51,  7.95s/it][I 2023-11-10 12:14:37,082] Trial 12 finished with value: 0.1451557026214517 and parameters: {'num_leaves': 256}. Best is trial 7 with value: 0.1451557026214517.\n",
      "num_leaves, val_score: 0.145156:  30%|###############                                   | 6/20 [00:47<01:51,  7.95s/it]"
     ]
    },
    {
     "name": "stdout",
     "output_type": "stream",
     "text": [
      "Early stopping, best iteration is:\n",
      "[1082]\tcv_agg's l2: 0.145156 + 0.0301886\n",
      "[100]\tcv_agg's l2: 0.152045 + 0.0348854\n",
      "[200]\tcv_agg's l2: 0.148446 + 0.0327369\n",
      "[300]\tcv_agg's l2: 0.146461 + 0.0322\n",
      "[400]\tcv_agg's l2: 0.146053 + 0.0312933\n",
      "[500]\tcv_agg's l2: 0.14555 + 0.0308671\n",
      "[600]\tcv_agg's l2: 0.145364 + 0.0306216\n",
      "[700]\tcv_agg's l2: 0.145313 + 0.0304239\n",
      "[800]\tcv_agg's l2: 0.145269 + 0.0303414\n",
      "[900]\tcv_agg's l2: 0.145244 + 0.03028\n",
      "[1000]\tcv_agg's l2: 0.145214 + 0.0302837\n",
      "[1100]\tcv_agg's l2: 0.145164 + 0.0302165\n"
     ]
    },
    {
     "name": "stderr",
     "output_type": "stream",
     "text": [
      "num_leaves, val_score: 0.145156:  35%|#################5                                | 7/20 [00:56<01:47,  8.28s/it][I 2023-11-10 12:14:46,045] Trial 13 finished with value: 0.1451557026214517 and parameters: {'num_leaves': 155}. Best is trial 7 with value: 0.1451557026214517.\n",
      "num_leaves, val_score: 0.145156:  35%|#################5                                | 7/20 [00:56<01:47,  8.28s/it]"
     ]
    },
    {
     "name": "stdout",
     "output_type": "stream",
     "text": [
      "Early stopping, best iteration is:\n",
      "[1082]\tcv_agg's l2: 0.145156 + 0.0301886\n",
      "[100]\tcv_agg's l2: 0.152045 + 0.0348854\n",
      "[200]\tcv_agg's l2: 0.148446 + 0.0327369\n",
      "[300]\tcv_agg's l2: 0.146461 + 0.0322\n",
      "[400]\tcv_agg's l2: 0.146053 + 0.0312933\n",
      "[500]\tcv_agg's l2: 0.14555 + 0.0308671\n",
      "[600]\tcv_agg's l2: 0.145364 + 0.0306216\n",
      "[700]\tcv_agg's l2: 0.145313 + 0.0304239\n",
      "[800]\tcv_agg's l2: 0.145269 + 0.0303414\n",
      "[900]\tcv_agg's l2: 0.145244 + 0.03028\n",
      "[1000]\tcv_agg's l2: 0.145214 + 0.0302837\n",
      "[1100]\tcv_agg's l2: 0.145164 + 0.0302165\n"
     ]
    },
    {
     "name": "stderr",
     "output_type": "stream",
     "text": [
      "num_leaves, val_score: 0.145156:  40%|####################                              | 8/20 [01:04<01:39,  8.29s/it][I 2023-11-10 12:14:54,366] Trial 14 finished with value: 0.1451557026214517 and parameters: {'num_leaves': 74}. Best is trial 7 with value: 0.1451557026214517.\n",
      "num_leaves, val_score: 0.145156:  40%|####################                              | 8/20 [01:04<01:39,  8.29s/it]"
     ]
    },
    {
     "name": "stdout",
     "output_type": "stream",
     "text": [
      "Early stopping, best iteration is:\n",
      "[1082]\tcv_agg's l2: 0.145156 + 0.0301886\n",
      "[100]\tcv_agg's l2: 0.152045 + 0.0348854\n",
      "[200]\tcv_agg's l2: 0.148446 + 0.0327369\n",
      "[300]\tcv_agg's l2: 0.146461 + 0.0322\n",
      "[400]\tcv_agg's l2: 0.146053 + 0.0312933\n",
      "[500]\tcv_agg's l2: 0.14555 + 0.0308671\n",
      "[600]\tcv_agg's l2: 0.145364 + 0.0306216\n",
      "[700]\tcv_agg's l2: 0.145313 + 0.0304239\n",
      "[800]\tcv_agg's l2: 0.145269 + 0.0303414\n",
      "[900]\tcv_agg's l2: 0.145244 + 0.03028\n",
      "[1000]\tcv_agg's l2: 0.145214 + 0.0302837\n",
      "[1100]\tcv_agg's l2: 0.145164 + 0.0302165\n"
     ]
    },
    {
     "name": "stderr",
     "output_type": "stream",
     "text": [
      "num_leaves, val_score: 0.145156:  45%|######################5                           | 9/20 [01:13<01:31,  8.36s/it][I 2023-11-10 12:15:02,854] Trial 15 finished with value: 0.1451557026214517 and parameters: {'num_leaves': 201}. Best is trial 7 with value: 0.1451557026214517.\n",
      "num_leaves, val_score: 0.145156:  45%|######################5                           | 9/20 [01:13<01:31,  8.36s/it]"
     ]
    },
    {
     "name": "stdout",
     "output_type": "stream",
     "text": [
      "Early stopping, best iteration is:\n",
      "[1082]\tcv_agg's l2: 0.145156 + 0.0301886\n",
      "[100]\tcv_agg's l2: 0.152045 + 0.0348854\n",
      "[200]\tcv_agg's l2: 0.148446 + 0.0327369\n",
      "[300]\tcv_agg's l2: 0.146461 + 0.0322\n",
      "[400]\tcv_agg's l2: 0.146053 + 0.0312933\n",
      "[500]\tcv_agg's l2: 0.14555 + 0.0308671\n",
      "[600]\tcv_agg's l2: 0.145364 + 0.0306216\n",
      "[700]\tcv_agg's l2: 0.145313 + 0.0304239\n",
      "[800]\tcv_agg's l2: 0.145269 + 0.0303414\n",
      "[900]\tcv_agg's l2: 0.145244 + 0.03028\n",
      "[1000]\tcv_agg's l2: 0.145214 + 0.0302837\n",
      "[1100]\tcv_agg's l2: 0.145164 + 0.0302165\n"
     ]
    },
    {
     "name": "stderr",
     "output_type": "stream",
     "text": [
      "num_leaves, val_score: 0.145156:  50%|########################5                        | 10/20 [01:21<01:23,  8.31s/it][I 2023-11-10 12:15:11,071] Trial 16 finished with value: 0.1451557026214517 and parameters: {'num_leaves': 65}. Best is trial 7 with value: 0.1451557026214517.\n",
      "num_leaves, val_score: 0.145156:  50%|########################5                        | 10/20 [01:21<01:23,  8.31s/it]"
     ]
    },
    {
     "name": "stdout",
     "output_type": "stream",
     "text": [
      "Early stopping, best iteration is:\n",
      "[1082]\tcv_agg's l2: 0.145156 + 0.0301886\n",
      "[100]\tcv_agg's l2: 0.152045 + 0.0348854\n",
      "[200]\tcv_agg's l2: 0.148446 + 0.0327369\n",
      "[300]\tcv_agg's l2: 0.146461 + 0.0322\n",
      "[400]\tcv_agg's l2: 0.146053 + 0.0312933\n",
      "[500]\tcv_agg's l2: 0.14555 + 0.0308671\n",
      "[600]\tcv_agg's l2: 0.145364 + 0.0306216\n",
      "[700]\tcv_agg's l2: 0.145313 + 0.0304239\n",
      "[800]\tcv_agg's l2: 0.145269 + 0.0303414\n",
      "[900]\tcv_agg's l2: 0.145244 + 0.03028\n",
      "[1000]\tcv_agg's l2: 0.145214 + 0.0302837\n",
      "[1100]\tcv_agg's l2: 0.145164 + 0.0302165\n"
     ]
    },
    {
     "name": "stderr",
     "output_type": "stream",
     "text": [
      "num_leaves, val_score: 0.145156:  55%|##########################9                      | 11/20 [01:30<01:16,  8.48s/it][I 2023-11-10 12:15:19,940] Trial 17 finished with value: 0.1451557026214517 and parameters: {'num_leaves': 211}. Best is trial 7 with value: 0.1451557026214517.\n",
      "num_leaves, val_score: 0.145156:  55%|##########################9                      | 11/20 [01:30<01:16,  8.48s/it]"
     ]
    },
    {
     "name": "stdout",
     "output_type": "stream",
     "text": [
      "Early stopping, best iteration is:\n",
      "[1082]\tcv_agg's l2: 0.145156 + 0.0301886\n",
      "[100]\tcv_agg's l2: 0.152045 + 0.0348854\n",
      "[200]\tcv_agg's l2: 0.148446 + 0.0327369\n",
      "[300]\tcv_agg's l2: 0.146461 + 0.0322\n",
      "[400]\tcv_agg's l2: 0.146053 + 0.0312933\n",
      "[500]\tcv_agg's l2: 0.14555 + 0.0308671\n",
      "[600]\tcv_agg's l2: 0.145364 + 0.0306216\n",
      "[700]\tcv_agg's l2: 0.145313 + 0.0304239\n",
      "[800]\tcv_agg's l2: 0.145269 + 0.0303414\n",
      "[900]\tcv_agg's l2: 0.145244 + 0.03028\n",
      "[1000]\tcv_agg's l2: 0.145214 + 0.0302837\n",
      "[1100]\tcv_agg's l2: 0.145164 + 0.0302165\n"
     ]
    },
    {
     "name": "stderr",
     "output_type": "stream",
     "text": [
      "num_leaves, val_score: 0.145156:  60%|#############################4                   | 12/20 [01:38<01:08,  8.55s/it][I 2023-11-10 12:15:28,634] Trial 18 finished with value: 0.1451557026214517 and parameters: {'num_leaves': 102}. Best is trial 7 with value: 0.1451557026214517.\n",
      "num_leaves, val_score: 0.145156:  60%|#############################4                   | 12/20 [01:38<01:08,  8.55s/it]"
     ]
    },
    {
     "name": "stdout",
     "output_type": "stream",
     "text": [
      "Early stopping, best iteration is:\n",
      "[1082]\tcv_agg's l2: 0.145156 + 0.0301886\n",
      "[100]\tcv_agg's l2: 0.18339 + 0.0502815\n",
      "[200]\tcv_agg's l2: 0.164954 + 0.0435404\n",
      "[300]\tcv_agg's l2: 0.157299 + 0.0405832\n",
      "[400]\tcv_agg's l2: 0.153499 + 0.0389681\n",
      "[500]\tcv_agg's l2: 0.151388 + 0.0385263\n",
      "[600]\tcv_agg's l2: 0.149783 + 0.0372874\n",
      "[700]\tcv_agg's l2: 0.148309 + 0.0368407\n",
      "[800]\tcv_agg's l2: 0.14738 + 0.0358534\n",
      "[900]\tcv_agg's l2: 0.146273 + 0.0343325\n",
      "[1000]\tcv_agg's l2: 0.1458 + 0.0339661\n",
      "[1100]\tcv_agg's l2: 0.145762 + 0.0332682\n",
      "Early stopping, best iteration is:\n",
      "[1082]\tcv_agg's l2: 0.145156 + 0.0301886\n"
     ]
    },
    {
     "name": "stderr",
     "output_type": "stream",
     "text": [
      "num_leaves, val_score: 0.145156:  65%|###############################8                 | 13/20 [01:42<00:48,  6.92s/it][I 2023-11-10 12:15:31,797] Trial 19 finished with value: 0.14579505139921722 and parameters: {'num_leaves': 5}. Best is trial 7 with value: 0.1451557026214517.\n",
      "num_leaves, val_score: 0.145156:  65%|###############################8                 | 13/20 [01:42<00:48,  6.92s/it]"
     ]
    },
    {
     "name": "stdout",
     "output_type": "stream",
     "text": [
      "[100]\tcv_agg's l2: 0.152045 + 0.0348854\n",
      "[200]\tcv_agg's l2: 0.148446 + 0.0327369\n",
      "[300]\tcv_agg's l2: 0.146461 + 0.0322\n",
      "[400]\tcv_agg's l2: 0.146053 + 0.0312933\n",
      "[500]\tcv_agg's l2: 0.14555 + 0.0308671\n",
      "[600]\tcv_agg's l2: 0.145364 + 0.0306216\n",
      "[700]\tcv_agg's l2: 0.145313 + 0.0304239\n",
      "[800]\tcv_agg's l2: 0.145269 + 0.0303414\n",
      "[900]\tcv_agg's l2: 0.145244 + 0.03028\n",
      "[1000]\tcv_agg's l2: 0.145214 + 0.0302837\n",
      "[1100]\tcv_agg's l2: 0.145164 + 0.0302165\n"
     ]
    },
    {
     "name": "stderr",
     "output_type": "stream",
     "text": [
      "num_leaves, val_score: 0.145156:  70%|##################################3              | 14/20 [01:50<00:44,  7.38s/it][I 2023-11-10 12:15:40,244] Trial 20 finished with value: 0.1451557026214517 and parameters: {'num_leaves': 214}. Best is trial 7 with value: 0.1451557026214517.\n",
      "num_leaves, val_score: 0.145156:  70%|##################################3              | 14/20 [01:50<00:44,  7.38s/it]"
     ]
    },
    {
     "name": "stdout",
     "output_type": "stream",
     "text": [
      "Early stopping, best iteration is:\n",
      "[1082]\tcv_agg's l2: 0.145156 + 0.0301886\n",
      "[100]\tcv_agg's l2: 0.152045 + 0.0348854\n",
      "[200]\tcv_agg's l2: 0.148446 + 0.0327369\n",
      "[300]\tcv_agg's l2: 0.146461 + 0.0322\n",
      "[400]\tcv_agg's l2: 0.146053 + 0.0312933\n",
      "[500]\tcv_agg's l2: 0.14555 + 0.0308671\n",
      "[600]\tcv_agg's l2: 0.145364 + 0.0306216\n",
      "[700]\tcv_agg's l2: 0.145313 + 0.0304239\n",
      "[800]\tcv_agg's l2: 0.145269 + 0.0303414\n",
      "[900]\tcv_agg's l2: 0.145244 + 0.03028\n",
      "[1000]\tcv_agg's l2: 0.145214 + 0.0302837\n",
      "[1100]\tcv_agg's l2: 0.145164 + 0.0302165\n"
     ]
    },
    {
     "name": "stderr",
     "output_type": "stream",
     "text": [
      "num_leaves, val_score: 0.145156:  75%|####################################7            | 15/20 [01:59<00:39,  7.95s/it][I 2023-11-10 12:15:49,532] Trial 21 finished with value: 0.1451557026214517 and parameters: {'num_leaves': 126}. Best is trial 7 with value: 0.1451557026214517.\n",
      "num_leaves, val_score: 0.145156:  75%|####################################7            | 15/20 [01:59<00:39,  7.95s/it]"
     ]
    },
    {
     "name": "stdout",
     "output_type": "stream",
     "text": [
      "Early stopping, best iteration is:\n",
      "[1082]\tcv_agg's l2: 0.145156 + 0.0301886\n",
      "[100]\tcv_agg's l2: 0.152045 + 0.0348854\n",
      "[200]\tcv_agg's l2: 0.148446 + 0.0327369\n",
      "[300]\tcv_agg's l2: 0.146461 + 0.0322\n",
      "[400]\tcv_agg's l2: 0.146053 + 0.0312933\n",
      "[500]\tcv_agg's l2: 0.14555 + 0.0308671\n",
      "[600]\tcv_agg's l2: 0.145364 + 0.0306216\n",
      "[700]\tcv_agg's l2: 0.145313 + 0.0304239\n",
      "[800]\tcv_agg's l2: 0.145269 + 0.0303414\n",
      "[900]\tcv_agg's l2: 0.145244 + 0.03028\n",
      "[1000]\tcv_agg's l2: 0.145214 + 0.0302837\n",
      "[1100]\tcv_agg's l2: 0.145164 + 0.0302165\n"
     ]
    },
    {
     "name": "stderr",
     "output_type": "stream",
     "text": [
      "num_leaves, val_score: 0.145156:  80%|#######################################2         | 16/20 [02:08<00:32,  8.16s/it][I 2023-11-10 12:15:58,177] Trial 22 finished with value: 0.1451557026214517 and parameters: {'num_leaves': 54}. Best is trial 7 with value: 0.1451557026214517.\n",
      "num_leaves, val_score: 0.145156:  80%|#######################################2         | 16/20 [02:08<00:32,  8.16s/it]"
     ]
    },
    {
     "name": "stdout",
     "output_type": "stream",
     "text": [
      "Early stopping, best iteration is:\n",
      "[1082]\tcv_agg's l2: 0.145156 + 0.0301886\n",
      "[100]\tcv_agg's l2: 0.152045 + 0.0348854\n",
      "[200]\tcv_agg's l2: 0.148446 + 0.0327369\n",
      "[300]\tcv_agg's l2: 0.146461 + 0.0322\n",
      "[400]\tcv_agg's l2: 0.146053 + 0.0312933\n",
      "[500]\tcv_agg's l2: 0.14555 + 0.0308671\n",
      "[600]\tcv_agg's l2: 0.145364 + 0.0306216\n",
      "[700]\tcv_agg's l2: 0.145313 + 0.0304239\n",
      "[800]\tcv_agg's l2: 0.145269 + 0.0303414\n",
      "[900]\tcv_agg's l2: 0.145244 + 0.03028\n",
      "[1000]\tcv_agg's l2: 0.145214 + 0.0302837\n",
      "[1100]\tcv_agg's l2: 0.145164 + 0.0302165\n"
     ]
    },
    {
     "name": "stderr",
     "output_type": "stream",
     "text": [
      "num_leaves, val_score: 0.145156:  85%|#########################################6       | 17/20 [02:17<00:25,  8.43s/it][I 2023-11-10 12:16:07,220] Trial 23 finished with value: 0.1451557026214517 and parameters: {'num_leaves': 132}. Best is trial 7 with value: 0.1451557026214517.\n",
      "num_leaves, val_score: 0.145156:  85%|#########################################6       | 17/20 [02:17<00:25,  8.43s/it]"
     ]
    },
    {
     "name": "stdout",
     "output_type": "stream",
     "text": [
      "Early stopping, best iteration is:\n",
      "[1082]\tcv_agg's l2: 0.145156 + 0.0301886\n",
      "[100]\tcv_agg's l2: 0.152045 + 0.0348854\n",
      "[200]\tcv_agg's l2: 0.148446 + 0.0327369\n",
      "[300]\tcv_agg's l2: 0.146461 + 0.0322\n",
      "[400]\tcv_agg's l2: 0.146053 + 0.0312933\n",
      "[500]\tcv_agg's l2: 0.14555 + 0.0308671\n",
      "[600]\tcv_agg's l2: 0.145364 + 0.0306216\n",
      "[700]\tcv_agg's l2: 0.145313 + 0.0304239\n",
      "[800]\tcv_agg's l2: 0.145269 + 0.0303414\n",
      "[900]\tcv_agg's l2: 0.145244 + 0.03028\n",
      "[1000]\tcv_agg's l2: 0.145214 + 0.0302837\n",
      "[1100]\tcv_agg's l2: 0.145164 + 0.0302165\n"
     ]
    },
    {
     "name": "stderr",
     "output_type": "stream",
     "text": [
      "num_leaves, val_score: 0.145156:  90%|############################################1    | 18/20 [02:25<00:16,  8.42s/it][I 2023-11-10 12:16:15,636] Trial 24 finished with value: 0.1451557026214517 and parameters: {'num_leaves': 104}. Best is trial 7 with value: 0.1451557026214517.\n",
      "num_leaves, val_score: 0.145156:  90%|############################################1    | 18/20 [02:25<00:16,  8.42s/it]"
     ]
    },
    {
     "name": "stdout",
     "output_type": "stream",
     "text": [
      "Early stopping, best iteration is:\n",
      "[1082]\tcv_agg's l2: 0.145156 + 0.0301886\n",
      "[100]\tcv_agg's l2: 0.152045 + 0.0348854\n",
      "[200]\tcv_agg's l2: 0.148446 + 0.0327369\n",
      "[300]\tcv_agg's l2: 0.146461 + 0.0322\n",
      "[400]\tcv_agg's l2: 0.146053 + 0.0312933\n",
      "[500]\tcv_agg's l2: 0.14555 + 0.0308671\n",
      "[600]\tcv_agg's l2: 0.145364 + 0.0306216\n",
      "[700]\tcv_agg's l2: 0.145313 + 0.0304239\n",
      "[800]\tcv_agg's l2: 0.145269 + 0.0303414\n",
      "[900]\tcv_agg's l2: 0.145244 + 0.03028\n",
      "[1000]\tcv_agg's l2: 0.145214 + 0.0302837\n",
      "[1100]\tcv_agg's l2: 0.145164 + 0.0302165\n"
     ]
    },
    {
     "name": "stderr",
     "output_type": "stream",
     "text": [
      "num_leaves, val_score: 0.145156:  95%|##############################################5  | 19/20 [02:34<00:08,  8.60s/it][I 2023-11-10 12:16:24,652] Trial 25 finished with value: 0.1451557026214517 and parameters: {'num_leaves': 171}. Best is trial 7 with value: 0.1451557026214517.\n",
      "num_leaves, val_score: 0.145156:  95%|##############################################5  | 19/20 [02:34<00:08,  8.60s/it]"
     ]
    },
    {
     "name": "stdout",
     "output_type": "stream",
     "text": [
      "Early stopping, best iteration is:\n",
      "[1082]\tcv_agg's l2: 0.145156 + 0.0301886\n",
      "[100]\tcv_agg's l2: 0.152045 + 0.0348854\n",
      "[200]\tcv_agg's l2: 0.148446 + 0.0327369\n",
      "[300]\tcv_agg's l2: 0.146461 + 0.0322\n",
      "[400]\tcv_agg's l2: 0.146053 + 0.0312933\n",
      "[500]\tcv_agg's l2: 0.14555 + 0.0308671\n",
      "[600]\tcv_agg's l2: 0.145364 + 0.0306216\n",
      "[700]\tcv_agg's l2: 0.145313 + 0.0304239\n",
      "[800]\tcv_agg's l2: 0.145269 + 0.0303414\n",
      "[900]\tcv_agg's l2: 0.145244 + 0.03028\n",
      "[1000]\tcv_agg's l2: 0.145214 + 0.0302837\n",
      "[1100]\tcv_agg's l2: 0.145164 + 0.0302165\n"
     ]
    },
    {
     "name": "stderr",
     "output_type": "stream",
     "text": [
      "num_leaves, val_score: 0.145156: 100%|#################################################| 20/20 [02:44<00:00,  8.76s/it][I 2023-11-10 12:16:33,791] Trial 26 finished with value: 0.1451557026214517 and parameters: {'num_leaves': 34}. Best is trial 7 with value: 0.1451557026214517.\n",
      "num_leaves, val_score: 0.145156: 100%|#################################################| 20/20 [02:44<00:00,  8.20s/it]\n"
     ]
    },
    {
     "name": "stdout",
     "output_type": "stream",
     "text": [
      "Early stopping, best iteration is:\n",
      "[1082]\tcv_agg's l2: 0.145156 + 0.0301886\n"
     ]
    },
    {
     "name": "stderr",
     "output_type": "stream",
     "text": [
      "bagging, val_score: 0.145156:   0%|                                                             | 0/10 [00:00<?, ?it/s]"
     ]
    },
    {
     "name": "stdout",
     "output_type": "stream",
     "text": [
      "[100]\tcv_agg's l2: 0.156225 + 0.0415041\n",
      "[200]\tcv_agg's l2: 0.149011 + 0.0385505\n",
      "[300]\tcv_agg's l2: 0.147173 + 0.037577\n",
      "[400]\tcv_agg's l2: 0.147201 + 0.0371901\n",
      "[500]\tcv_agg's l2: 0.14705 + 0.0364692\n",
      "[600]\tcv_agg's l2: 0.146861 + 0.0364567\n",
      "[700]\tcv_agg's l2: 0.147035 + 0.0364055\n",
      "[800]\tcv_agg's l2: 0.147094 + 0.0363621\n",
      "[900]\tcv_agg's l2: 0.147049 + 0.0363121\n",
      "[1000]\tcv_agg's l2: 0.146985 + 0.0361321\n",
      "[1100]\tcv_agg's l2: 0.14705 + 0.0361436\n"
     ]
    },
    {
     "name": "stderr",
     "output_type": "stream",
     "text": [
      "bagging, val_score: 0.145156:  10%|#####3                                               | 1/10 [00:08<01:14,  8.23s/it][I 2023-11-10 12:16:42,030] Trial 27 finished with value: 0.1470493411386738 and parameters: {'bagging_fraction': 0.9072170993694184, 'bagging_freq': 6}. Best is trial 27 with value: 0.1470493411386738.\n",
      "bagging, val_score: 0.145156:  10%|#####3                                               | 1/10 [00:08<01:14,  8.23s/it]"
     ]
    },
    {
     "name": "stdout",
     "output_type": "stream",
     "text": [
      "Early stopping, best iteration is:\n",
      "[1082]\tcv_agg's l2: 0.145156 + 0.0301886\n",
      "[100]\tcv_agg's l2: 0.194865 + 0.0305215\n",
      "[200]\tcv_agg's l2: 0.1822 + 0.0342771\n",
      "[300]\tcv_agg's l2: 0.179097 + 0.0303773\n",
      "[400]\tcv_agg's l2: 0.174707 + 0.0289921\n",
      "[500]\tcv_agg's l2: 0.172902 + 0.0277628\n",
      "[600]\tcv_agg's l2: 0.17267 + 0.0252816\n",
      "[700]\tcv_agg's l2: 0.172181 + 0.024635\n",
      "[800]\tcv_agg's l2: 0.173423 + 0.0255704\n",
      "[900]\tcv_agg's l2: 0.172729 + 0.0259618\n",
      "[1000]\tcv_agg's l2: 0.174836 + 0.0247279\n",
      "[1100]\tcv_agg's l2: 0.175741 + 0.0242407\n"
     ]
    },
    {
     "name": "stderr",
     "output_type": "stream",
     "text": [
      "bagging, val_score: 0.145156:  20%|##########6                                          | 2/10 [00:13<00:52,  6.58s/it][I 2023-11-10 12:16:47,452] Trial 28 finished with value: 0.17553771699857734 and parameters: {'bagging_fraction': 0.40398754723186847, 'bagging_freq': 1}. Best is trial 27 with value: 0.1470493411386738.\n",
      "bagging, val_score: 0.145156:  20%|##########6                                          | 2/10 [00:13<00:52,  6.58s/it]"
     ]
    },
    {
     "name": "stdout",
     "output_type": "stream",
     "text": [
      "Early stopping, best iteration is:\n",
      "[1082]\tcv_agg's l2: 0.145156 + 0.0301886\n",
      "[100]\tcv_agg's l2: 0.153153 + 0.0332231\n",
      "[200]\tcv_agg's l2: 0.148439 + 0.0315042\n",
      "[300]\tcv_agg's l2: 0.147857 + 0.031058\n",
      "[400]\tcv_agg's l2: 0.147263 + 0.0308592\n",
      "[500]\tcv_agg's l2: 0.146961 + 0.030803\n",
      "[600]\tcv_agg's l2: 0.146763 + 0.0305571\n",
      "[700]\tcv_agg's l2: 0.146705 + 0.0304278\n",
      "[800]\tcv_agg's l2: 0.14668 + 0.0303922\n",
      "[900]\tcv_agg's l2: 0.146651 + 0.0302988\n",
      "[1000]\tcv_agg's l2: 0.146623 + 0.0302081\n",
      "[1100]\tcv_agg's l2: 0.146598 + 0.0301625\n"
     ]
    },
    {
     "name": "stderr",
     "output_type": "stream",
     "text": [
      "bagging, val_score: 0.145156:  30%|###############9                                     | 3/10 [00:22<00:54,  7.75s/it][I 2023-11-10 12:16:56,589] Trial 29 finished with value: 0.1465973346753132 and parameters: {'bagging_fraction': 0.9826914627931004, 'bagging_freq': 2}. Best is trial 29 with value: 0.1465973346753132.\n",
      "bagging, val_score: 0.145156:  30%|###############9                                     | 3/10 [00:22<00:54,  7.75s/it]"
     ]
    },
    {
     "name": "stdout",
     "output_type": "stream",
     "text": [
      "Early stopping, best iteration is:\n",
      "[1082]\tcv_agg's l2: 0.145156 + 0.0301886\n",
      "[100]\tcv_agg's l2: 0.183151 + 0.031197\n",
      "[200]\tcv_agg's l2: 0.171218 + 0.0292494\n",
      "[300]\tcv_agg's l2: 0.166377 + 0.0284925\n",
      "[400]\tcv_agg's l2: 0.164207 + 0.0270734\n",
      "[500]\tcv_agg's l2: 0.165021 + 0.0268264\n",
      "[600]\tcv_agg's l2: 0.16343 + 0.0271919\n",
      "[700]\tcv_agg's l2: 0.162594 + 0.0270463\n",
      "[800]\tcv_agg's l2: 0.16256 + 0.0280172\n",
      "[900]\tcv_agg's l2: 0.162278 + 0.0280732\n",
      "[1000]\tcv_agg's l2: 0.162524 + 0.0289504\n",
      "[1100]\tcv_agg's l2: 0.16298 + 0.029507\n"
     ]
    },
    {
     "name": "stderr",
     "output_type": "stream",
     "text": [
      "bagging, val_score: 0.145156:  40%|#####################2                               | 4/10 [00:28<00:41,  6.98s/it][I 2023-11-10 12:17:02,403] Trial 30 finished with value: 0.1631648716753463 and parameters: {'bagging_fraction': 0.5983524985899458, 'bagging_freq': 7}. Best is trial 29 with value: 0.1465973346753132.\n",
      "bagging, val_score: 0.145156:  40%|#####################2                               | 4/10 [00:28<00:41,  6.98s/it]"
     ]
    },
    {
     "name": "stdout",
     "output_type": "stream",
     "text": [
      "Early stopping, best iteration is:\n",
      "[1082]\tcv_agg's l2: 0.145156 + 0.0301886\n",
      "[100]\tcv_agg's l2: 0.161688 + 0.0399828\n",
      "[200]\tcv_agg's l2: 0.153911 + 0.0364135\n",
      "[300]\tcv_agg's l2: 0.15241 + 0.0356084\n",
      "[400]\tcv_agg's l2: 0.151358 + 0.0344885\n",
      "[500]\tcv_agg's l2: 0.150887 + 0.0337523\n",
      "[600]\tcv_agg's l2: 0.15069 + 0.0336295\n",
      "[700]\tcv_agg's l2: 0.150391 + 0.0334061\n",
      "[800]\tcv_agg's l2: 0.150493 + 0.0335785\n",
      "[900]\tcv_agg's l2: 0.150404 + 0.0337691\n",
      "[1000]\tcv_agg's l2: 0.150301 + 0.0337567\n",
      "[1100]\tcv_agg's l2: 0.150321 + 0.0337917\n"
     ]
    },
    {
     "name": "stderr",
     "output_type": "stream",
     "text": [
      "bagging, val_score: 0.145156:  50%|##########################5                          | 5/10 [00:35<00:35,  7.04s/it][I 2023-11-10 12:17:09,540] Trial 31 finished with value: 0.15044633398407714 and parameters: {'bagging_fraction': 0.7521193750322482, 'bagging_freq': 4}. Best is trial 29 with value: 0.1465973346753132.\n",
      "bagging, val_score: 0.145156:  50%|##########################5                          | 5/10 [00:35<00:35,  7.04s/it]"
     ]
    },
    {
     "name": "stdout",
     "output_type": "stream",
     "text": [
      "Early stopping, best iteration is:\n",
      "[1082]\tcv_agg's l2: 0.145156 + 0.0301886\n",
      "[100]\tcv_agg's l2: 0.220221 + 0.041443\n",
      "[200]\tcv_agg's l2: 0.205951 + 0.0324697\n",
      "[300]\tcv_agg's l2: 0.20004 + 0.0266374\n",
      "[400]\tcv_agg's l2: 0.196798 + 0.0200157\n",
      "[500]\tcv_agg's l2: 0.19686 + 0.0215492\n",
      "[600]\tcv_agg's l2: 0.193902 + 0.0206501\n",
      "[700]\tcv_agg's l2: 0.190073 + 0.019357\n",
      "[800]\tcv_agg's l2: 0.1885 + 0.0179688\n",
      "[900]\tcv_agg's l2: 0.187908 + 0.0178158\n",
      "[1000]\tcv_agg's l2: 0.187864 + 0.0154222\n",
      "[1100]\tcv_agg's l2: 0.188385 + 0.0149647\n"
     ]
    },
    {
     "name": "stderr",
     "output_type": "stream",
     "text": [
      "bagging, val_score: 0.145156:  60%|###############################8                     | 6/10 [00:40<00:24,  6.18s/it][I 2023-11-10 12:17:14,040] Trial 32 finished with value: 0.18749017394717854 and parameters: {'bagging_fraction': 0.4063332365122992, 'bagging_freq': 4}. Best is trial 29 with value: 0.1465973346753132.\n",
      "bagging, val_score: 0.145156:  60%|###############################8                     | 6/10 [00:40<00:24,  6.18s/it]"
     ]
    },
    {
     "name": "stdout",
     "output_type": "stream",
     "text": [
      "Early stopping, best iteration is:\n",
      "[1082]\tcv_agg's l2: 0.145156 + 0.0301886\n",
      "[100]\tcv_agg's l2: 0.15889 + 0.0406952\n",
      "[200]\tcv_agg's l2: 0.149526 + 0.0361902\n",
      "[300]\tcv_agg's l2: 0.147963 + 0.0351937\n",
      "[400]\tcv_agg's l2: 0.146843 + 0.0340794\n",
      "[500]\tcv_agg's l2: 0.146843 + 0.033801\n",
      "[600]\tcv_agg's l2: 0.147011 + 0.0332926\n",
      "[700]\tcv_agg's l2: 0.147155 + 0.0333901\n",
      "[800]\tcv_agg's l2: 0.147171 + 0.0334468\n",
      "[900]\tcv_agg's l2: 0.147101 + 0.0334553\n",
      "[1000]\tcv_agg's l2: 0.147197 + 0.0335014\n",
      "[1100]\tcv_agg's l2: 0.14715 + 0.0335027\n"
     ]
    },
    {
     "name": "stderr",
     "output_type": "stream",
     "text": [
      "bagging, val_score: 0.145156:  70%|#####################################                | 7/10 [00:47<00:19,  6.50s/it][I 2023-11-10 12:17:21,219] Trial 33 finished with value: 0.14718310348447655 and parameters: {'bagging_fraction': 0.7770838040047907, 'bagging_freq': 5}. Best is trial 29 with value: 0.1465973346753132.\n",
      "bagging, val_score: 0.145156:  70%|#####################################                | 7/10 [00:47<00:19,  6.50s/it]"
     ]
    },
    {
     "name": "stdout",
     "output_type": "stream",
     "text": [
      "Early stopping, best iteration is:\n",
      "[1082]\tcv_agg's l2: 0.145156 + 0.0301886\n",
      "[100]\tcv_agg's l2: 0.178632 + 0.0453297\n",
      "[200]\tcv_agg's l2: 0.168 + 0.041283\n",
      "[300]\tcv_agg's l2: 0.161992 + 0.0376698\n",
      "[400]\tcv_agg's l2: 0.160492 + 0.0379145\n",
      "[500]\tcv_agg's l2: 0.160167 + 0.0380987\n",
      "[600]\tcv_agg's l2: 0.159296 + 0.036578\n",
      "[700]\tcv_agg's l2: 0.159182 + 0.0364987\n",
      "[800]\tcv_agg's l2: 0.159 + 0.036639\n",
      "[900]\tcv_agg's l2: 0.159105 + 0.0366511\n",
      "[1000]\tcv_agg's l2: 0.15891 + 0.0366849\n",
      "[1100]\tcv_agg's l2: 0.158748 + 0.0364293\n"
     ]
    },
    {
     "name": "stderr",
     "output_type": "stream",
     "text": [
      "bagging, val_score: 0.145156:  80%|##########################################4          | 8/10 [00:53<00:12,  6.35s/it][I 2023-11-10 12:17:27,235] Trial 34 finished with value: 0.1588100757827223 and parameters: {'bagging_fraction': 0.59508172553197, 'bagging_freq': 2}. Best is trial 29 with value: 0.1465973346753132.\n",
      "bagging, val_score: 0.145156:  80%|##########################################4          | 8/10 [00:53<00:12,  6.35s/it]"
     ]
    },
    {
     "name": "stdout",
     "output_type": "stream",
     "text": [
      "Early stopping, best iteration is:\n",
      "[1082]\tcv_agg's l2: 0.145156 + 0.0301886\n",
      "[100]\tcv_agg's l2: 0.157119 + 0.0331851\n",
      "[200]\tcv_agg's l2: 0.149414 + 0.0291366\n",
      "[300]\tcv_agg's l2: 0.14708 + 0.0274403\n",
      "[400]\tcv_agg's l2: 0.146401 + 0.0271571\n",
      "[500]\tcv_agg's l2: 0.146379 + 0.0271153\n",
      "[600]\tcv_agg's l2: 0.146226 + 0.0266857\n",
      "[700]\tcv_agg's l2: 0.146008 + 0.0264209\n",
      "[800]\tcv_agg's l2: 0.146189 + 0.0264899\n",
      "[900]\tcv_agg's l2: 0.145897 + 0.0263385\n",
      "[1000]\tcv_agg's l2: 0.146117 + 0.0264685\n",
      "[1100]\tcv_agg's l2: 0.146029 + 0.0264136\n"
     ]
    },
    {
     "name": "stderr",
     "output_type": "stream",
     "text": [
      "bagging, val_score: 0.145156:  90%|###############################################7     | 9/10 [01:01<00:06,  6.80s/it][I 2023-11-10 12:17:35,038] Trial 35 finished with value: 0.14605763734316216 and parameters: {'bagging_fraction': 0.8726722238367717, 'bagging_freq': 7}. Best is trial 35 with value: 0.14605763734316216.\n",
      "bagging, val_score: 0.145156:  90%|###############################################7     | 9/10 [01:01<00:06,  6.80s/it]"
     ]
    },
    {
     "name": "stdout",
     "output_type": "stream",
     "text": [
      "Early stopping, best iteration is:\n",
      "[1082]\tcv_agg's l2: 0.145156 + 0.0301886\n",
      "[100]\tcv_agg's l2: 0.153879 + 0.0340696\n",
      "[200]\tcv_agg's l2: 0.149007 + 0.0328659\n",
      "[300]\tcv_agg's l2: 0.147076 + 0.032554\n",
      "[400]\tcv_agg's l2: 0.14632 + 0.0322191\n",
      "[500]\tcv_agg's l2: 0.146127 + 0.0318558\n",
      "[600]\tcv_agg's l2: 0.145926 + 0.0319444\n",
      "[700]\tcv_agg's l2: 0.145872 + 0.031738\n",
      "[800]\tcv_agg's l2: 0.145768 + 0.03164\n",
      "[900]\tcv_agg's l2: 0.145724 + 0.0316241\n",
      "[1000]\tcv_agg's l2: 0.145773 + 0.0316016\n",
      "[1100]\tcv_agg's l2: 0.145777 + 0.0315548\n"
     ]
    },
    {
     "name": "stderr",
     "output_type": "stream",
     "text": [
      "bagging, val_score: 0.145156: 100%|####################################################| 10/10 [01:10<00:00,  7.41s/it][I 2023-11-10 12:17:43,819] Trial 36 finished with value: 0.14576575684120258 and parameters: {'bagging_fraction': 0.9947503551115693, 'bagging_freq': 3}. Best is trial 36 with value: 0.14576575684120258.\n",
      "bagging, val_score: 0.145156: 100%|####################################################| 10/10 [01:10<00:00,  7.00s/it]\n"
     ]
    },
    {
     "name": "stdout",
     "output_type": "stream",
     "text": [
      "Early stopping, best iteration is:\n",
      "[1082]\tcv_agg's l2: 0.145156 + 0.0301886\n"
     ]
    },
    {
     "name": "stderr",
     "output_type": "stream",
     "text": [
      "feature_fraction_stage2, val_score: 0.145156:   0%|                                              | 0/3 [00:00<?, ?it/s]"
     ]
    },
    {
     "name": "stdout",
     "output_type": "stream",
     "text": [
      "[100]\tcv_agg's l2: 0.157565 + 0.0413874\n",
      "[200]\tcv_agg's l2: 0.154093 + 0.0394549\n",
      "[300]\tcv_agg's l2: 0.152655 + 0.0378647\n",
      "[400]\tcv_agg's l2: 0.15198 + 0.036919\n",
      "[500]\tcv_agg's l2: 0.151546 + 0.036341\n",
      "[600]\tcv_agg's l2: 0.151406 + 0.0361148\n",
      "[700]\tcv_agg's l2: 0.151325 + 0.0360085\n",
      "[800]\tcv_agg's l2: 0.151313 + 0.0359611\n",
      "[900]\tcv_agg's l2: 0.151274 + 0.0359254\n",
      "[1000]\tcv_agg's l2: 0.151265 + 0.0359133\n",
      "[1100]\tcv_agg's l2: 0.151252 + 0.0358455\n"
     ]
    },
    {
     "name": "stderr",
     "output_type": "stream",
     "text": [
      "feature_fraction_stage2, val_score: 0.145156:  33%|############6                         | 1/3 [00:09<00:18,  9.12s/it][I 2023-11-10 12:17:52,950] Trial 37 finished with value: 0.15125352224276628 and parameters: {'feature_fraction': 0.44800000000000006}. Best is trial 37 with value: 0.15125352224276628.\n",
      "feature_fraction_stage2, val_score: 0.145156:  33%|############6                         | 1/3 [00:09<00:18,  9.12s/it]"
     ]
    },
    {
     "name": "stdout",
     "output_type": "stream",
     "text": [
      "Early stopping, best iteration is:\n",
      "[1082]\tcv_agg's l2: 0.145156 + 0.0301886\n",
      "[100]\tcv_agg's l2: 0.160065 + 0.0450887\n",
      "[200]\tcv_agg's l2: 0.155546 + 0.043486\n",
      "[300]\tcv_agg's l2: 0.153561 + 0.0422342\n",
      "[400]\tcv_agg's l2: 0.153016 + 0.0416454\n",
      "[500]\tcv_agg's l2: 0.152552 + 0.0412749\n",
      "[600]\tcv_agg's l2: 0.152429 + 0.0410127\n",
      "[700]\tcv_agg's l2: 0.152411 + 0.0407798\n",
      "[800]\tcv_agg's l2: 0.152304 + 0.0406825\n",
      "[900]\tcv_agg's l2: 0.152247 + 0.0405972\n",
      "[1000]\tcv_agg's l2: 0.152186 + 0.0405482\n",
      "[1100]\tcv_agg's l2: 0.152167 + 0.0405083\n"
     ]
    },
    {
     "name": "stderr",
     "output_type": "stream",
     "text": [
      "feature_fraction_stage2, val_score: 0.145156:  67%|#########################3            | 2/3 [00:18<00:09,  9.35s/it][I 2023-11-10 12:18:02,465] Trial 38 finished with value: 0.1521652336882709 and parameters: {'feature_fraction': 0.48000000000000004}. Best is trial 37 with value: 0.15125352224276628.\n",
      "feature_fraction_stage2, val_score: 0.145156:  67%|#########################3            | 2/3 [00:18<00:09,  9.35s/it]"
     ]
    },
    {
     "name": "stdout",
     "output_type": "stream",
     "text": [
      "Early stopping, best iteration is:\n",
      "[1082]\tcv_agg's l2: 0.145156 + 0.0301886\n",
      "[100]\tcv_agg's l2: 0.152299 + 0.03863\n",
      "[200]\tcv_agg's l2: 0.147169 + 0.0361424\n",
      "[300]\tcv_agg's l2: 0.145432 + 0.035461\n",
      "[400]\tcv_agg's l2: 0.144642 + 0.0344903\n",
      "[500]\tcv_agg's l2: 0.144455 + 0.034101\n"
     ]
    },
    {
     "name": "stderr",
     "output_type": "stream",
     "text": [
      "feature_fraction_stage2, val_score: 0.144357: 100%|######################################| 3/3 [00:23<00:00,  7.19s/it][I 2023-11-10 12:18:07,085] Trial 39 finished with value: 0.14435702351138402 and parameters: {'feature_fraction': 0.41600000000000004}. Best is trial 39 with value: 0.14435702351138402.\n",
      "feature_fraction_stage2, val_score: 0.144357: 100%|######################################| 3/3 [00:23<00:00,  7.75s/it]\n"
     ]
    },
    {
     "name": "stdout",
     "output_type": "stream",
     "text": [
      "Early stopping, best iteration is:\n",
      "[448]\tcv_agg's l2: 0.144357 + 0.0342619\n"
     ]
    },
    {
     "name": "stderr",
     "output_type": "stream",
     "text": [
      "regularization_factors, val_score: 0.144357:   0%|                                              | 0/20 [00:00<?, ?it/s]"
     ]
    },
    {
     "name": "stdout",
     "output_type": "stream",
     "text": [
      "[100]\tcv_agg's l2: 0.153528 + 0.0384319\n",
      "[200]\tcv_agg's l2: 0.147401 + 0.0362141\n",
      "[300]\tcv_agg's l2: 0.145923 + 0.0354545\n",
      "[400]\tcv_agg's l2: 0.144916 + 0.0345485\n",
      "[500]\tcv_agg's l2: 0.144663 + 0.0340787\n"
     ]
    },
    {
     "name": "stderr",
     "output_type": "stream",
     "text": [
      "regularization_factors, val_score: 0.144357:   5%|#9                                    | 1/20 [00:04<01:16,  4.02s/it][I 2023-11-10 12:18:11,115] Trial 40 finished with value: 0.14479950402908898 and parameters: {'lambda_l1': 1.3936394443958456e-06, 'lambda_l2': 8.395103109887862e-05}. Best is trial 40 with value: 0.14479950402908898.\n",
      "regularization_factors, val_score: 0.144357:   5%|#9                                    | 1/20 [00:04<01:16,  4.02s/it]"
     ]
    },
    {
     "name": "stdout",
     "output_type": "stream",
     "text": [
      "Early stopping, best iteration is:\n",
      "[448]\tcv_agg's l2: 0.144357 + 0.0342619\n",
      "[100]\tcv_agg's l2: 0.153021 + 0.0384947\n",
      "[200]\tcv_agg's l2: 0.147618 + 0.0362146\n",
      "[300]\tcv_agg's l2: 0.146113 + 0.0354559\n",
      "[400]\tcv_agg's l2: 0.145108 + 0.0345493\n",
      "[500]\tcv_agg's l2: 0.144929 + 0.03408\n"
     ]
    },
    {
     "name": "stderr",
     "output_type": "stream",
     "text": [
      "regularization_factors, val_score: 0.144357:  10%|###8                                  | 2/20 [00:07<01:10,  3.93s/it][I 2023-11-10 12:18:14,977] Trial 41 finished with value: 0.14509344462410984 and parameters: {'lambda_l1': 1.047040254066236e-06, 'lambda_l2': 9.079217395590102e-05}. Best is trial 40 with value: 0.14479950402908898.\n",
      "regularization_factors, val_score: 0.144357:  10%|###8                                  | 2/20 [00:07<01:10,  3.93s/it]"
     ]
    },
    {
     "name": "stdout",
     "output_type": "stream",
     "text": [
      "Early stopping, best iteration is:\n",
      "[448]\tcv_agg's l2: 0.144357 + 0.0342619\n",
      "[100]\tcv_agg's l2: 0.154156 + 0.0383911\n",
      "[200]\tcv_agg's l2: 0.148594 + 0.0362588\n",
      "[300]\tcv_agg's l2: 0.147006 + 0.0355298\n",
      "[400]\tcv_agg's l2: 0.146277 + 0.034635\n",
      "[500]\tcv_agg's l2: 0.145978 + 0.0341386\n"
     ]
    },
    {
     "name": "stderr",
     "output_type": "stream",
     "text": [
      "regularization_factors, val_score: 0.144357:  15%|#####7                                | 3/20 [00:11<01:06,  3.90s/it][I 2023-11-10 12:18:18,842] Trial 42 finished with value: 0.1460996711794409 and parameters: {'lambda_l1': 8.104482385266485e-07, 'lambda_l2': 4.162917029956555e-05}. Best is trial 40 with value: 0.14479950402908898.\n",
      "regularization_factors, val_score: 0.144357:  15%|#####7                                | 3/20 [00:11<01:06,  3.90s/it]"
     ]
    },
    {
     "name": "stdout",
     "output_type": "stream",
     "text": [
      "Early stopping, best iteration is:\n",
      "[448]\tcv_agg's l2: 0.144357 + 0.0342619\n",
      "[100]\tcv_agg's l2: 0.1534 + 0.0381772\n",
      "[200]\tcv_agg's l2: 0.147946 + 0.0355897\n",
      "[300]\tcv_agg's l2: 0.146093 + 0.0347724\n",
      "[400]\tcv_agg's l2: 0.145338 + 0.0344073\n",
      "[500]\tcv_agg's l2: 0.144985 + 0.0339754\n"
     ]
    },
    {
     "name": "stderr",
     "output_type": "stream",
     "text": [
      "regularization_factors, val_score: 0.144357:  20%|#######6                              | 4/20 [00:15<01:01,  3.87s/it][I 2023-11-10 12:18:22,660] Trial 43 finished with value: 0.14527365753591448 and parameters: {'lambda_l1': 1.5630919867163161e-06, 'lambda_l2': 0.0002448653605381641}. Best is trial 40 with value: 0.14479950402908898.\n",
      "regularization_factors, val_score: 0.144357:  20%|#######6                              | 4/20 [00:15<01:01,  3.87s/it]"
     ]
    },
    {
     "name": "stdout",
     "output_type": "stream",
     "text": [
      "Early stopping, best iteration is:\n",
      "[448]\tcv_agg's l2: 0.144357 + 0.0342619\n",
      "[100]\tcv_agg's l2: 0.153108 + 0.0361609\n",
      "[200]\tcv_agg's l2: 0.147629 + 0.0346058\n",
      "[300]\tcv_agg's l2: 0.145728 + 0.0336751\n",
      "[400]\tcv_agg's l2: 0.145201 + 0.0332897\n",
      "[500]\tcv_agg's l2: 0.145006 + 0.0329587\n"
     ]
    },
    {
     "name": "stderr",
     "output_type": "stream",
     "text": [
      "regularization_factors, val_score: 0.144357:  25%|#########5                            | 5/20 [00:19<00:58,  3.87s/it][I 2023-11-10 12:18:26,533] Trial 44 finished with value: 0.14507343078290785 and parameters: {'lambda_l1': 0.0010711288482262004, 'lambda_l2': 1.7215300018709718e-06}. Best is trial 40 with value: 0.14479950402908898.\n",
      "regularization_factors, val_score: 0.144357:  25%|#########5                            | 5/20 [00:19<00:58,  3.87s/it]"
     ]
    },
    {
     "name": "stdout",
     "output_type": "stream",
     "text": [
      "Early stopping, best iteration is:\n",
      "[448]\tcv_agg's l2: 0.144357 + 0.0342619\n",
      "[100]\tcv_agg's l2: 0.153156 + 0.0385172\n",
      "[200]\tcv_agg's l2: 0.148832 + 0.0359983\n",
      "[300]\tcv_agg's l2: 0.147486 + 0.0344017\n",
      "[400]\tcv_agg's l2: 0.14661 + 0.0335519\n",
      "[500]\tcv_agg's l2: 0.146011 + 0.0331248\n"
     ]
    },
    {
     "name": "stderr",
     "output_type": "stream",
     "text": [
      "regularization_factors, val_score: 0.144357:  30%|###########4                          | 6/20 [00:23<00:53,  3.85s/it][I 2023-11-10 12:18:30,342] Trial 45 finished with value: 0.14630077244752737 and parameters: {'lambda_l1': 0.002716081151169174, 'lambda_l2': 2.122334410044926e-06}. Best is trial 40 with value: 0.14479950402908898.\n",
      "regularization_factors, val_score: 0.144357:  30%|###########4                          | 6/20 [00:23<00:53,  3.85s/it]"
     ]
    },
    {
     "name": "stdout",
     "output_type": "stream",
     "text": [
      "Early stopping, best iteration is:\n",
      "[448]\tcv_agg's l2: 0.144357 + 0.0342619\n",
      "[100]\tcv_agg's l2: 0.152486 + 0.0376644\n",
      "[200]\tcv_agg's l2: 0.147797 + 0.0353553\n",
      "[300]\tcv_agg's l2: 0.146139 + 0.0342103\n",
      "[400]\tcv_agg's l2: 0.145367 + 0.0337896\n",
      "[500]\tcv_agg's l2: 0.144743 + 0.0335104\n"
     ]
    },
    {
     "name": "stderr",
     "output_type": "stream",
     "text": [
      "regularization_factors, val_score: 0.144357:  35%|#############3                        | 7/20 [00:27<00:50,  3.86s/it][I 2023-11-10 12:18:34,232] Trial 46 finished with value: 0.14500646748392942 and parameters: {'lambda_l1': 4.037894460944408e-05, 'lambda_l2': 6.192211525692312e-08}. Best is trial 40 with value: 0.14479950402908898.\n",
      "regularization_factors, val_score: 0.144357:  35%|#############3                        | 7/20 [00:27<00:50,  3.86s/it]"
     ]
    },
    {
     "name": "stdout",
     "output_type": "stream",
     "text": [
      "Early stopping, best iteration is:\n",
      "[448]\tcv_agg's l2: 0.144357 + 0.0342619\n",
      "[100]\tcv_agg's l2: 0.153422 + 0.0384428\n",
      "[200]\tcv_agg's l2: 0.147798 + 0.0358226\n",
      "[300]\tcv_agg's l2: 0.146377 + 0.0347067\n",
      "[400]\tcv_agg's l2: 0.145319 + 0.0338774\n",
      "[500]\tcv_agg's l2: 0.145059 + 0.0335878\n"
     ]
    },
    {
     "name": "stderr",
     "output_type": "stream",
     "text": [
      "regularization_factors, val_score: 0.144357:  40%|###############2                      | 8/20 [00:31<00:46,  3.88s/it][I 2023-11-10 12:18:38,136] Trial 47 finished with value: 0.14513064615873006 and parameters: {'lambda_l1': 1.6883808308978572e-05, 'lambda_l2': 1.7241169370360378e-08}. Best is trial 40 with value: 0.14479950402908898.\n",
      "regularization_factors, val_score: 0.144357:  40%|###############2                      | 8/20 [00:31<00:46,  3.88s/it]"
     ]
    },
    {
     "name": "stdout",
     "output_type": "stream",
     "text": [
      "Early stopping, best iteration is:\n",
      "[448]\tcv_agg's l2: 0.144357 + 0.0342619\n",
      "[100]\tcv_agg's l2: 0.153921 + 0.0372513\n",
      "[200]\tcv_agg's l2: 0.148679 + 0.0351316\n",
      "[300]\tcv_agg's l2: 0.146961 + 0.0345936\n",
      "[400]\tcv_agg's l2: 0.146318 + 0.0338812\n",
      "[500]\tcv_agg's l2: 0.145925 + 0.0334717\n"
     ]
    },
    {
     "name": "stderr",
     "output_type": "stream",
     "text": [
      "regularization_factors, val_score: 0.144357:  45%|#################1                    | 9/20 [00:34<00:42,  3.86s/it][I 2023-11-10 12:18:41,950] Trial 48 finished with value: 0.14605936223822524 and parameters: {'lambda_l1': 0.000358704940285647, 'lambda_l2': 9.876322815388957e-07}. Best is trial 40 with value: 0.14479950402908898.\n",
      "regularization_factors, val_score: 0.144357:  45%|#################1                    | 9/20 [00:34<00:42,  3.86s/it]"
     ]
    },
    {
     "name": "stdout",
     "output_type": "stream",
     "text": [
      "Early stopping, best iteration is:\n",
      "[448]\tcv_agg's l2: 0.144357 + 0.0342619\n",
      "[100]\tcv_agg's l2: 0.153958 + 0.0395749\n",
      "[200]\tcv_agg's l2: 0.149395 + 0.0360828\n",
      "[300]\tcv_agg's l2: 0.147556 + 0.0359163\n",
      "[400]\tcv_agg's l2: 0.147053 + 0.0353783\n",
      "[500]\tcv_agg's l2: 0.14673 + 0.0350564\n"
     ]
    },
    {
     "name": "stderr",
     "output_type": "stream",
     "text": [
      "regularization_factors, val_score: 0.144357:  50%|##################5                  | 10/20 [00:39<00:39,  3.99s/it][I 2023-11-10 12:18:46,237] Trial 49 finished with value: 0.14689072583175045 and parameters: {'lambda_l1': 2.5121911811423695e-08, 'lambda_l2': 0.017629606446569315}. Best is trial 40 with value: 0.14479950402908898.\n",
      "regularization_factors, val_score: 0.144357:  50%|##################5                  | 10/20 [00:39<00:39,  3.99s/it]"
     ]
    },
    {
     "name": "stdout",
     "output_type": "stream",
     "text": [
      "Early stopping, best iteration is:\n",
      "[448]\tcv_agg's l2: 0.144357 + 0.0342619\n",
      "[100]\tcv_agg's l2: 0.153422 + 0.0384428\n",
      "[200]\tcv_agg's l2: 0.147798 + 0.0358226\n",
      "[300]\tcv_agg's l2: 0.146377 + 0.0347067\n",
      "[400]\tcv_agg's l2: 0.145319 + 0.0338774\n",
      "[500]\tcv_agg's l2: 0.145059 + 0.0335878\n"
     ]
    },
    {
     "name": "stderr",
     "output_type": "stream",
     "text": [
      "regularization_factors, val_score: 0.144357:  55%|####################3                | 11/20 [00:43<00:36,  4.01s/it][I 2023-11-10 12:18:50,294] Trial 50 finished with value: 0.14513062039444294 and parameters: {'lambda_l1': 1.580078097756642e-05, 'lambda_l2': 2.043876597174894e-05}. Best is trial 40 with value: 0.14479950402908898.\n",
      "regularization_factors, val_score: 0.144357:  55%|####################3                | 11/20 [00:43<00:36,  4.01s/it]"
     ]
    },
    {
     "name": "stdout",
     "output_type": "stream",
     "text": [
      "Early stopping, best iteration is:\n",
      "[448]\tcv_agg's l2: 0.144357 + 0.0342619\n",
      "[100]\tcv_agg's l2: 0.152486 + 0.0376644\n",
      "[200]\tcv_agg's l2: 0.147729 + 0.0352298\n",
      "[300]\tcv_agg's l2: 0.146207 + 0.0340301\n",
      "[400]\tcv_agg's l2: 0.145423 + 0.0336141\n",
      "[500]\tcv_agg's l2: 0.145056 + 0.0332152\n"
     ]
    },
    {
     "name": "stderr",
     "output_type": "stream",
     "text": [
      "regularization_factors, val_score: 0.144357:  60%|######################2              | 12/20 [00:48<00:34,  4.25s/it][I 2023-11-10 12:18:55,105] Trial 51 finished with value: 0.14510266873784686 and parameters: {'lambda_l1': 3.4938935733921876e-05, 'lambda_l2': 3.0363668714743576e-05}. Best is trial 40 with value: 0.14479950402908898.\n",
      "regularization_factors, val_score: 0.144357:  60%|######################2              | 12/20 [00:48<00:34,  4.25s/it]"
     ]
    },
    {
     "name": "stdout",
     "output_type": "stream",
     "text": [
      "Early stopping, best iteration is:\n",
      "[448]\tcv_agg's l2: 0.144357 + 0.0342619\n",
      "[100]\tcv_agg's l2: 0.188597 + 0.053198\n",
      "[200]\tcv_agg's l2: 0.184103 + 0.0527056\n",
      "[300]\tcv_agg's l2: 0.184098 + 0.0527015\n",
      "[400]\tcv_agg's l2: 0.184098 + 0.0527013\n"
     ]
    },
    {
     "name": "stderr",
     "output_type": "stream",
     "text": [
      "regularization_factors, val_score: 0.144357:  65%|########################             | 13/20 [00:49<00:24,  3.43s/it][I 2023-11-10 12:18:56,648] Trial 52 finished with value: 0.18409770344285242 and parameters: {'lambda_l1': 5.31034267554471, 'lambda_l2': 0.00021529070256362325}. Best is trial 40 with value: 0.14479950402908898.\n",
      "regularization_factors, val_score: 0.144357:  65%|########################             | 13/20 [00:49<00:24,  3.43s/it]"
     ]
    },
    {
     "name": "stdout",
     "output_type": "stream",
     "text": [
      "[500]\tcv_agg's l2: 0.184098 + 0.0527013\n",
      "Early stopping, best iteration is:\n",
      "[448]\tcv_agg's l2: 0.144357 + 0.0342619\n",
      "[100]\tcv_agg's l2: 0.152486 + 0.0376644\n",
      "[200]\tcv_agg's l2: 0.147105 + 0.035623\n",
      "[300]\tcv_agg's l2: 0.145313 + 0.0347352\n",
      "[400]\tcv_agg's l2: 0.144662 + 0.0343529\n",
      "[500]\tcv_agg's l2: 0.144091 + 0.0339183\n",
      "[600]\tcv_agg's l2: 0.143741 + 0.0336497\n",
      "[700]\tcv_agg's l2: 0.143594 + 0.0335679\n",
      "[800]\tcv_agg's l2: 0.143585 + 0.0334986\n",
      "[900]\tcv_agg's l2: 0.143533 + 0.0334562\n"
     ]
    },
    {
     "name": "stderr",
     "output_type": "stream",
     "text": [
      "regularization_factors, val_score: 0.143490:  70%|#########################9           | 14/20 [00:56<00:27,  4.53s/it][I 2023-11-10 12:19:03,702] Trial 53 finished with value: 0.14349004838961338 and parameters: {'lambda_l1': 4.94663375350838e-05, 'lambda_l2': 5.914612594437475e-07}. Best is trial 53 with value: 0.14349004838961338.\n",
      "regularization_factors, val_score: 0.143490:  70%|#########################9           | 14/20 [00:56<00:27,  4.53s/it]"
     ]
    },
    {
     "name": "stdout",
     "output_type": "stream",
     "text": [
      "Early stopping, best iteration is:\n",
      "[878]\tcv_agg's l2: 0.14349 + 0.0334171\n",
      "[100]\tcv_agg's l2: 0.152626 + 0.0364808\n",
      "[200]\tcv_agg's l2: 0.147596 + 0.034675\n",
      "[300]\tcv_agg's l2: 0.146512 + 0.0337213\n",
      "[400]\tcv_agg's l2: 0.145934 + 0.0330179\n",
      "[500]\tcv_agg's l2: 0.145777 + 0.0328254\n",
      "[600]\tcv_agg's l2: 0.145602 + 0.0326198\n",
      "[700]\tcv_agg's l2: 0.14553 + 0.0324686\n",
      "[800]\tcv_agg's l2: 0.145467 + 0.0324539\n",
      "[900]\tcv_agg's l2: 0.145385 + 0.0323841\n"
     ]
    },
    {
     "name": "stderr",
     "output_type": "stream",
     "text": [
      "regularization_factors, val_score: 0.143490:  75%|###########################7         | 15/20 [01:03<00:26,  5.31s/it][I 2023-11-10 12:19:10,818] Trial 54 finished with value: 0.14537063804615352 and parameters: {'lambda_l1': 0.0012974186098423934, 'lambda_l2': 1.507195082060286e-07}. Best is trial 53 with value: 0.14349004838961338.\n",
      "regularization_factors, val_score: 0.143490:  75%|###########################7         | 15/20 [01:03<00:26,  5.31s/it]"
     ]
    },
    {
     "name": "stdout",
     "output_type": "stream",
     "text": [
      "Early stopping, best iteration is:\n",
      "[878]\tcv_agg's l2: 0.14349 + 0.0334171\n",
      "[100]\tcv_agg's l2: 0.154158 + 0.038391\n",
      "[200]\tcv_agg's l2: 0.148696 + 0.0361702\n",
      "[300]\tcv_agg's l2: 0.147084 + 0.0355241\n",
      "[400]\tcv_agg's l2: 0.146206 + 0.034624\n",
      "[500]\tcv_agg's l2: 0.14582 + 0.0343481\n",
      "[600]\tcv_agg's l2: 0.145541 + 0.034074\n",
      "[700]\tcv_agg's l2: 0.145337 + 0.0338764\n",
      "[800]\tcv_agg's l2: 0.145259 + 0.0337175\n",
      "[900]\tcv_agg's l2: 0.145251 + 0.0336631\n"
     ]
    },
    {
     "name": "stderr",
     "output_type": "stream",
     "text": [
      "regularization_factors, val_score: 0.143490:  80%|#############################6       | 16/20 [01:10<00:23,  5.85s/it][I 2023-11-10 12:19:17,917] Trial 55 finished with value: 0.1452529202672867 and parameters: {'lambda_l1': 6.479358490502469e-07, 'lambda_l2': 1.6167113517847578e-07}. Best is trial 53 with value: 0.14349004838961338.\n",
      "regularization_factors, val_score: 0.143490:  80%|#############################6       | 16/20 [01:10<00:23,  5.85s/it]"
     ]
    },
    {
     "name": "stdout",
     "output_type": "stream",
     "text": [
      "Early stopping, best iteration is:\n",
      "[878]\tcv_agg's l2: 0.14349 + 0.0334171\n",
      "[100]\tcv_agg's l2: 0.152952 + 0.0372743\n",
      "[200]\tcv_agg's l2: 0.147732 + 0.0343791\n",
      "[300]\tcv_agg's l2: 0.146042 + 0.032798\n",
      "[400]\tcv_agg's l2: 0.145192 + 0.0325\n",
      "[500]\tcv_agg's l2: 0.144777 + 0.0322387\n",
      "[600]\tcv_agg's l2: 0.144433 + 0.031842\n",
      "[700]\tcv_agg's l2: 0.144213 + 0.031579\n",
      "[800]\tcv_agg's l2: 0.144187 + 0.0314372\n",
      "[900]\tcv_agg's l2: 0.144117 + 0.0313085\n"
     ]
    },
    {
     "name": "stderr",
     "output_type": "stream",
     "text": [
      "regularization_factors, val_score: 0.143490:  85%|###############################4     | 17/20 [01:18<00:18,  6.31s/it][I 2023-11-10 12:19:25,304] Trial 56 finished with value: 0.14413777908279662 and parameters: {'lambda_l1': 8.173934846339075e-05, 'lambda_l2': 4.792767105200634e-06}. Best is trial 53 with value: 0.14349004838961338.\n",
      "regularization_factors, val_score: 0.143490:  85%|###############################4     | 17/20 [01:18<00:18,  6.31s/it]"
     ]
    },
    {
     "name": "stdout",
     "output_type": "stream",
     "text": [
      "Early stopping, best iteration is:\n",
      "[878]\tcv_agg's l2: 0.14349 + 0.0334171\n",
      "[100]\tcv_agg's l2: 0.15255 + 0.0373227\n",
      "[200]\tcv_agg's l2: 0.14724 + 0.0339406\n",
      "[300]\tcv_agg's l2: 0.145539 + 0.0329378\n",
      "[400]\tcv_agg's l2: 0.144688 + 0.0322667\n",
      "[500]\tcv_agg's l2: 0.144424 + 0.0318889\n",
      "[600]\tcv_agg's l2: 0.144278 + 0.0315592\n",
      "[700]\tcv_agg's l2: 0.144018 + 0.031219\n",
      "[800]\tcv_agg's l2: 0.143926 + 0.0312014\n",
      "[900]\tcv_agg's l2: 0.143908 + 0.0311953\n"
     ]
    },
    {
     "name": "stderr",
     "output_type": "stream",
     "text": [
      "regularization_factors, val_score: 0.143490:  90%|#################################3   | 18/20 [01:25<00:12,  6.48s/it][I 2023-11-10 12:19:32,170] Trial 57 finished with value: 0.14388296401438017 and parameters: {'lambda_l1': 0.00018208295934145767, 'lambda_l2': 2.8353442994727342e-06}. Best is trial 53 with value: 0.14349004838961338.\n",
      "regularization_factors, val_score: 0.143490:  90%|#################################3   | 18/20 [01:25<00:12,  6.48s/it]"
     ]
    },
    {
     "name": "stdout",
     "output_type": "stream",
     "text": [
      "Early stopping, best iteration is:\n",
      "[878]\tcv_agg's l2: 0.14349 + 0.0334171\n",
      "[100]\tcv_agg's l2: 0.152486 + 0.0376644\n",
      "[200]\tcv_agg's l2: 0.147105 + 0.035623\n",
      "[300]\tcv_agg's l2: 0.145313 + 0.0347352\n",
      "[400]\tcv_agg's l2: 0.144662 + 0.0343529\n",
      "[500]\tcv_agg's l2: 0.144116 + 0.033963\n",
      "[600]\tcv_agg's l2: 0.14372 + 0.0336103\n",
      "[700]\tcv_agg's l2: 0.143551 + 0.0334902\n",
      "[800]\tcv_agg's l2: 0.143565 + 0.0333826\n",
      "[900]\tcv_agg's l2: 0.143517 + 0.0333009\n"
     ]
    },
    {
     "name": "stderr",
     "output_type": "stream",
     "text": [
      "regularization_factors, val_score: 0.143469:  95%|###################################1 | 19/20 [01:32<00:06,  6.81s/it][I 2023-11-10 12:19:39,744] Trial 58 finished with value: 0.14346895854140365 and parameters: {'lambda_l1': 4.747763894433127e-05, 'lambda_l2': 5.272743257851296e-06}. Best is trial 58 with value: 0.14346895854140365.\n",
      "regularization_factors, val_score: 0.143469:  95%|###################################1 | 19/20 [01:32<00:06,  6.81s/it]"
     ]
    },
    {
     "name": "stdout",
     "output_type": "stream",
     "text": [
      "Early stopping, best iteration is:\n",
      "[870]\tcv_agg's l2: 0.143469 + 0.0332806\n",
      "[100]\tcv_agg's l2: 0.152952 + 0.0372743\n",
      "[200]\tcv_agg's l2: 0.147732 + 0.0343791\n",
      "[300]\tcv_agg's l2: 0.145917 + 0.0329073\n",
      "[400]\tcv_agg's l2: 0.145215 + 0.0323034\n",
      "[500]\tcv_agg's l2: 0.144653 + 0.0318198\n",
      "[600]\tcv_agg's l2: 0.144274 + 0.0314525\n",
      "[700]\tcv_agg's l2: 0.144179 + 0.0313707\n",
      "[800]\tcv_agg's l2: 0.144087 + 0.0311201\n",
      "[900]\tcv_agg's l2: 0.143995 + 0.0310531\n"
     ]
    },
    {
     "name": "stderr",
     "output_type": "stream",
     "text": [
      "regularization_factors, val_score: 0.143469: 100%|#####################################| 20/20 [01:39<00:00,  6.95s/it][I 2023-11-10 12:19:47,012] Trial 59 finished with value: 0.1439974380702232 and parameters: {'lambda_l1': 7.564445491125261e-05, 'lambda_l2': 4.6609474812790655e-06}. Best is trial 58 with value: 0.14346895854140365.\n",
      "regularization_factors, val_score: 0.143469: 100%|#####################################| 20/20 [01:39<00:00,  5.00s/it]\n"
     ]
    },
    {
     "name": "stdout",
     "output_type": "stream",
     "text": [
      "Early stopping, best iteration is:\n",
      "[870]\tcv_agg's l2: 0.143469 + 0.0332806\n"
     ]
    },
    {
     "name": "stderr",
     "output_type": "stream",
     "text": [
      "min_data_in_leaf, val_score: 0.143469:   0%|                                                     | 0/5 [00:00<?, ?it/s]"
     ]
    },
    {
     "name": "stdout",
     "output_type": "stream",
     "text": [
      "[100]\tcv_agg's l2: 0.145009 + 0.0306444\n",
      "[200]\tcv_agg's l2: 0.142314 + 0.0303897\n",
      "[300]\tcv_agg's l2: 0.141741 + 0.0298026\n",
      "[400]\tcv_agg's l2: 0.141319 + 0.0295231\n",
      "[500]\tcv_agg's l2: 0.141273 + 0.0294789\n",
      "[600]\tcv_agg's l2: 0.141235 + 0.0294133\n"
     ]
    },
    {
     "name": "stderr",
     "output_type": "stream",
     "text": [
      "min_data_in_leaf, val_score: 0.141231:  20%|#########                                    | 1/5 [00:05<00:20,  5.00s/it][I 2023-11-10 12:19:52,022] Trial 60 finished with value: 0.14123058749966586 and parameters: {'min_child_samples': 10}. Best is trial 60 with value: 0.14123058749966586.\n",
      "min_data_in_leaf, val_score: 0.141231:  20%|#########                                    | 1/5 [00:05<00:20,  5.00s/it]"
     ]
    },
    {
     "name": "stdout",
     "output_type": "stream",
     "text": [
      "Early stopping, best iteration is:\n",
      "[598]\tcv_agg's l2: 0.141231 + 0.0294087\n",
      "[100]\tcv_agg's l2: 0.22902 + 0.0460431\n",
      "[200]\tcv_agg's l2: 0.218956 + 0.0399012\n",
      "[300]\tcv_agg's l2: 0.216371 + 0.0405941\n",
      "[400]\tcv_agg's l2: 0.215759 + 0.0390634\n",
      "[500]\tcv_agg's l2: 0.215844 + 0.037502\n",
      "[600]\tcv_agg's l2: 0.216415 + 0.0369063\n"
     ]
    },
    {
     "name": "stderr",
     "output_type": "stream",
     "text": [
      "min_data_in_leaf, val_score: 0.141231:  40%|##################                           | 2/5 [00:08<00:11,  3.89s/it][I 2023-11-10 12:19:55,137] Trial 61 finished with value: 0.21648204122328957 and parameters: {'min_child_samples': 50}. Best is trial 60 with value: 0.14123058749966586.\n",
      "min_data_in_leaf, val_score: 0.141231:  40%|##################                           | 2/5 [00:08<00:11,  3.89s/it]"
     ]
    },
    {
     "name": "stdout",
     "output_type": "stream",
     "text": [
      "Early stopping, best iteration is:\n",
      "[598]\tcv_agg's l2: 0.141231 + 0.0294087\n",
      "[100]\tcv_agg's l2: 0.158711 + 0.0375026\n",
      "[200]\tcv_agg's l2: 0.152997 + 0.0326887\n",
      "[300]\tcv_agg's l2: 0.150692 + 0.0315875\n",
      "[400]\tcv_agg's l2: 0.149503 + 0.0302876\n",
      "[500]\tcv_agg's l2: 0.148895 + 0.0299696\n",
      "[600]\tcv_agg's l2: 0.148919 + 0.0297295\n"
     ]
    },
    {
     "name": "stderr",
     "output_type": "stream",
     "text": [
      "min_data_in_leaf, val_score: 0.141231:  60%|###########################                  | 3/5 [00:12<00:08,  4.14s/it][I 2023-11-10 12:19:59,570] Trial 62 finished with value: 0.1489342215822944 and parameters: {'min_child_samples': 25}. Best is trial 60 with value: 0.14123058749966586.\n",
      "min_data_in_leaf, val_score: 0.141231:  60%|###########################                  | 3/5 [00:12<00:08,  4.14s/it]"
     ]
    },
    {
     "name": "stdout",
     "output_type": "stream",
     "text": [
      "Early stopping, best iteration is:\n",
      "[598]\tcv_agg's l2: 0.141231 + 0.0294087\n",
      "[100]\tcv_agg's l2: 0.693818 + 0.0636843\n",
      "[200]\tcv_agg's l2: 0.658629 + 0.0531309\n",
      "[300]\tcv_agg's l2: 0.640014 + 0.0542277\n",
      "[400]\tcv_agg's l2: 0.625227 + 0.0567111\n",
      "[500]\tcv_agg's l2: 0.615698 + 0.062106\n",
      "[600]\tcv_agg's l2: 0.61199 + 0.0651285\n"
     ]
    },
    {
     "name": "stderr",
     "output_type": "stream",
     "text": [
      "min_data_in_leaf, val_score: 0.141231:  80%|####################################         | 4/5 [00:14<00:03,  3.20s/it][I 2023-11-10 12:20:01,335] Trial 63 finished with value: 0.6119158520006731 and parameters: {'min_child_samples': 100}. Best is trial 60 with value: 0.14123058749966586.\n",
      "min_data_in_leaf, val_score: 0.141231:  80%|####################################         | 4/5 [00:14<00:03,  3.20s/it]"
     ]
    },
    {
     "name": "stdout",
     "output_type": "stream",
     "text": [
      "Early stopping, best iteration is:\n",
      "[598]\tcv_agg's l2: 0.141231 + 0.0294087\n",
      "[100]\tcv_agg's l2: 0.146461 + 0.0365789\n",
      "[200]\tcv_agg's l2: 0.144579 + 0.0361231\n",
      "[300]\tcv_agg's l2: 0.144434 + 0.0355959\n",
      "[400]\tcv_agg's l2: 0.144317 + 0.0354391\n",
      "[500]\tcv_agg's l2: 0.144248 + 0.0353702\n",
      "[600]\tcv_agg's l2: 0.144221 + 0.0353258\n"
     ]
    },
    {
     "name": "stderr",
     "output_type": "stream",
     "text": [
      "min_data_in_leaf, val_score: 0.141231: 100%|#############################################| 5/5 [00:19<00:00,  3.95s/it][I 2023-11-10 12:20:06,603] Trial 64 finished with value: 0.14422089699052748 and parameters: {'min_child_samples': 5}. Best is trial 60 with value: 0.14123058749966586.\n",
      "min_data_in_leaf, val_score: 0.141231: 100%|#############################################| 5/5 [00:19<00:00,  3.92s/it]"
     ]
    },
    {
     "name": "stdout",
     "output_type": "stream",
     "text": [
      "Early stopping, best iteration is:\n",
      "[598]\tcv_agg's l2: 0.141231 + 0.0294087\n"
     ]
    },
    {
     "name": "stderr",
     "output_type": "stream",
     "text": [
      "\n"
     ]
    }
   ],
   "source": [
    "import optuna.integration.lightgbm as lgb\n",
    "from lightgbm import early_stopping\n",
    "from sklearn.model_selection import KFold\n",
    "from sklearn.model_selection import RepeatedKFold\n",
    "\n",
    "\n",
    "lgb_train = lgb.Dataset(X_train_random_split, y_train_random_split)\n",
    "\n",
    "params = {\n",
    "    \"boosting_type\": \"gbdt\",\n",
    "    \"objective\": \"regression\",\n",
    "    \"metric\": \"l2\",\n",
    "    \"verbosity\": -1,\n",
    "}\n",
    "\n",
    "tuner = lgb.LightGBMTunerCV(\n",
    "    params,\n",
    "    lgb_train,\n",
    "    folds=KFold(n_splits=5),\n",
    "    num_boost_round=10000,\n",
    "    callbacks=[early_stopping(100), log_evaluation(100)],\n",
    ")\n",
    "\n",
    "tuner.run()"
   ]
  },
  {
   "cell_type": "code",
   "execution_count": 38,
   "id": "175988ae",
   "metadata": {},
   "outputs": [
    {
     "name": "stdout",
     "output_type": "stream",
     "text": [
      "Best score: 0.14123058749966586\n",
      "Params: \n",
      "    boosting_type: gbdt\n",
      "    objective: regression\n",
      "    metric: l2\n",
      "    verbosity: -1\n",
      "    feature_pre_filter: False\n",
      "    lambda_l1: 4.747763894433127e-05\n",
      "    lambda_l2: 5.272743257851296e-06\n",
      "    num_leaves: 31\n",
      "    feature_fraction: 0.41600000000000004\n",
      "    bagging_fraction: 1.0\n",
      "    bagging_freq: 0\n",
      "    min_child_samples: 10\n"
     ]
    }
   ],
   "source": [
    "print(f\"Best score: {tuner.best_score}\")\n",
    "best_params = tuner.best_params\n",
    "print(\"Params: \")\n",
    "for key, value in best_params.items():\n",
    "    print(\"    {}: {}\".format(key, value))"
   ]
  },
  {
   "cell_type": "code",
   "execution_count": 39,
   "id": "b8e0ae76",
   "metadata": {},
   "outputs": [],
   "source": [
    "import lightgbm as lgb\n",
    "\n",
    "lgb_tuned = lgb.train(\n",
    "    best_params,\n",
    "    lgb_train,\n",
    "    num_boost_round=10000,\n",
    ")"
   ]
  },
  {
   "cell_type": "code",
   "execution_count": 40,
   "id": "ab41f140",
   "metadata": {},
   "outputs": [
    {
     "name": "stdout",
     "output_type": "stream",
     "text": [
      "RMSE train: 0.00\n",
      "RMSE test: 0.33\n",
      "MAE test: 0.23\n",
      "\n"
     ]
    }
   ],
   "source": [
    "rmse, mae = assess_regression_model(\n",
    "    lgb_tuned,\n",
    "    X_train_random_split,\n",
    "    X_test_random_split,\n",
    "    y_train_random_split,\n",
    "    y_test_random_split,\n",
    ")"
   ]
  },
  {
   "cell_type": "code",
   "execution_count": 41,
   "id": "36a7d705",
   "metadata": {},
   "outputs": [],
   "source": [
    "results.loc[3] = [\"random\", \"Optuna\", \"full\", rmse, mae]"
   ]
  },
  {
   "cell_type": "markdown",
   "id": "baffe730",
   "metadata": {},
   "source": [
    "###### MAE by level"
   ]
  },
  {
   "cell_type": "code",
   "execution_count": 42,
   "id": "4206dff5",
   "metadata": {},
   "outputs": [
    {
     "data": {
      "image/png": "[encoded data removed]",
      "text/plain": [
       "<Figure size 1440x576 with 1 Axes>"
      ]
     },
     "metadata": {
      "needs_background": "light"
     },
     "output_type": "display_data"
    }
   ],
   "source": [
    "plot_mae_by_level(\n",
    "    y_test_random_split,\n",
    "    y_pred_test,\n",
    "    title=\"MAE by level for tuned LightGBM with full features and random split\",\n",
    ")"
   ]
  },
  {
   "cell_type": "code",
   "execution_count": 43,
   "id": "502bdb9c",
   "metadata": {
    "scrolled": true
   },
   "outputs": [
    {
     "name": "stdout",
     "output_type": "stream",
     "text": [
      "Default:\n",
      "RMSE: 0.19\n",
      "\n",
      "Round type: 0.5\n",
      "RMSE: 0.17\n",
      "\n",
      "Round type: 0.33\n",
      "RMSE: 0.25\n",
      "\n",
      "Round type: 0.45\n",
      "RMSE: 0.20\n",
      "\n"
     ]
    }
   ],
   "source": [
    "predict = lgb_tuned.predict(X_test)\n",
    "evaluate_round_predictions([0.5, 0.33, 0.45], y_test, predict)"
   ]
  },
  {
   "cell_type": "code",
   "execution_count": 44,
   "id": "378511d8",
   "metadata": {},
   "outputs": [
    {
     "data": {
      "image/png": "[encoded data removed]",
      "text/plain": [
       "<Figure size 720x720 with 2 Axes>"
      ]
     },
     "metadata": {
      "needs_background": "light"
     },
     "output_type": "display_data"
    }
   ],
   "source": [
    "plot_confusion_matrix(\n",
    "    predict,\n",
    "    y_test,\n",
    "    title=\"Confusion matrix for tuned LightGBM with\\nfull features and random split\",\n",
    ")"
   ]
  },
  {
   "cell_type": "markdown",
   "id": "cbf21c29",
   "metadata": {},
   "source": [
    "## Summary"
   ]
  },
  {
   "cell_type": "code",
   "execution_count": 45,
   "id": "d065edf6",
   "metadata": {
    "scrolled": false
   },
   "outputs": [
    {
     "data": {
      "text/html": [
       "<div>\n",
       "<style scoped>\n",
       "    .dataframe tbody tr th:only-of-type {\n",
       "        vertical-align: middle;\n",
       "    }\n",
       "\n",
       "    .dataframe tbody tr th {\n",
       "        vertical-align: top;\n",
       "    }\n",
       "\n",
       "    .dataframe thead th {\n",
       "        text-align: right;\n",
       "    }\n",
       "</style>\n",
       "<table border=\"1\" class=\"dataframe\">\n",
       "  <thead>\n",
       "    <tr style=\"text-align: right;\">\n",
       "      <th></th>\n",
       "      <th>Split type</th>\n",
       "      <th>Tuning type</th>\n",
       "      <th>Set of features</th>\n",
       "      <th>RMSE</th>\n",
       "      <th>MAE</th>\n",
       "    </tr>\n",
       "  </thead>\n",
       "  <tbody>\n",
       "    <tr>\n",
       "      <th>0</th>\n",
       "      <td>chronological</td>\n",
       "      <td>default</td>\n",
       "      <td>full</td>\n",
       "      <td>0.965662</td>\n",
       "      <td>0.463517</td>\n",
       "    </tr>\n",
       "    <tr>\n",
       "      <th>1</th>\n",
       "      <td>chronological</td>\n",
       "      <td>Optuna</td>\n",
       "      <td>full</td>\n",
       "      <td>0.684602</td>\n",
       "      <td>0.393379</td>\n",
       "    </tr>\n",
       "    <tr>\n",
       "      <th>2</th>\n",
       "      <td>random</td>\n",
       "      <td>default</td>\n",
       "      <td>full</td>\n",
       "      <td>0.371349</td>\n",
       "      <td>0.246737</td>\n",
       "    </tr>\n",
       "    <tr>\n",
       "      <th>3</th>\n",
       "      <td>random</td>\n",
       "      <td>Optuna</td>\n",
       "      <td>full</td>\n",
       "      <td>0.329800</td>\n",
       "      <td>0.225846</td>\n",
       "    </tr>\n",
       "  </tbody>\n",
       "</table>\n",
       "</div>"
      ],
      "text/plain": [
       "      Split type Tuning type Set of features      RMSE       MAE\n",
       "0  chronological     default            full  0.965662  0.463517\n",
       "1  chronological      Optuna            full  0.684602  0.393379\n",
       "2         random     default            full  0.371349  0.246737\n",
       "3         random      Optuna            full  0.329800  0.225846"
      ]
     },
     "execution_count": 45,
     "metadata": {},
     "output_type": "execute_result"
    }
   ],
   "source": [
    "results"
   ]
  },
  {
   "cell_type": "code",
   "execution_count": 46,
   "id": "5ab8f79f",
   "metadata": {},
   "outputs": [],
   "source": [
    "from training.results import plot_summary"
   ]
  },
  {
   "cell_type": "code",
   "execution_count": 47,
   "id": "a642225d",
   "metadata": {},
   "outputs": [
    {
     "data": {
      "image/png": "[encoded data removed]",
      "text/plain": [
       "<Figure size 1440x576 with 1 Axes>"
      ]
     },
     "metadata": {
      "needs_background": "light"
     },
     "output_type": "display_data"
    }
   ],
   "source": [
    "plot_summary(results, \"RMSE\", title=\"RMSE for LightGBM with full features\")"
   ]
  },
  {
   "cell_type": "code",
   "execution_count": 48,
   "id": "07e30e23",
   "metadata": {},
   "outputs": [
    {
     "data": {
      "image/png": "[encoded data removed]",
      "text/plain": [
       "<Figure size 1440x576 with 1 Axes>"
      ]
     },
     "metadata": {
      "needs_background": "light"
     },
     "output_type": "display_data"
    }
   ],
   "source": [
    "plot_summary(results, \"MAE\", title=\"MAE for LightGBM with full features\")"
   ]
  },
  {
   "cell_type": "code",
   "execution_count": 49,
   "id": "ae68a99c",
   "metadata": {},
   "outputs": [],
   "source": [
    "results.to_csv(\"./lightgbm_full_results.csv\")"
   ]
  },
  {
   "cell_type": "code",
   "execution_count": null,
   "id": "745b56ef",
   "metadata": {},
   "outputs": [],
   "source": []
  }
 ],
 "metadata": {
  "kernelspec": {
   "display_name": "Python 3 (ipykernel)",
   "language": "python",
   "name": "python3"
  },
  "language_info": {
   "codemirror_mode": {
    "name": "ipython",
    "version": 3
   },
   "file_extension": ".py",
   "mimetype": "text/x-python",
   "name": "python",
   "nbconvert_exporter": "python",
   "pygments_lexer": "ipython3",
   "version": "3.10.4"
  }
 },
 "nbformat": 4,
 "nbformat_minor": 5
}
