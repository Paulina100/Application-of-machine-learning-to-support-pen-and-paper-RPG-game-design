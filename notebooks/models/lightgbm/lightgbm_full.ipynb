{
 "cells": [
  {
   "cell_type": "markdown",
   "id": "f64a671f",
   "metadata": {},
   "source": [
    "# LightGBM\n",
    "### Parameters:\n",
    "System:\n",
    "* **abilities**:\n",
    "    * **cha**\n",
    "    * **con**\n",
    "    * **dex**\n",
    "    * **int**\n",
    "    * **str**\n",
    "    * **wis**\n",
    "* **attributes**\n",
    "    * **hp**\n",
    "    * **ac**\n",
    "    * **perception**\n",
    "    * **speed** (*land speed*)\n",
    "        * **other speeds**: fly, climb, swim\n",
    "    * **num immunities**\n",
    "    * **resistances**: fire, cold, electricity, acid, piercing, slashing, physical, bludgeoning, mental, poison, all-damage\n",
    "    * **weaknesses**: cold-iron, good, fire, cold, area-damage, splash-damage, evil, slashing\n",
    "* **saves**\n",
    "    * **fortitude**\n",
    "    * **reflex**\n",
    "    * **will**\n",
    "* **resources**\n",
    "    * **focus**\n",
    "\n",
    "Items\n",
    "* **items**\n",
    "    * **melee**\n",
    "    * **ranged**\n",
    "    * **spells nr**\n",
    "\n",
    "### Prediction: *level*\n",
    "\n",
    "## Loading data"
   ]
  },
  {
   "cell_type": "code",
   "execution_count": 1,
   "id": "1f2515e7",
   "metadata": {},
   "outputs": [],
   "source": [
    "import numpy as np\n",
    "import pandas as pd\n",
    "import sys\n",
    "\n",
    "import os\n",
    "import pathlib\n",
    "\n",
    "sys.path.append(\"../../..\")\n",
    "from training.creating_dataset import load_and_preprocess_data\n",
    "\n",
    "current_path = os.getcwd()\n",
    "DATASETS_DIR = pathlib.Path(current_path).parent.parent.parent / \"pathfinder_2e_data\"\n",
    "DATASET_FILES = [\n",
    "    \"pathfinder-bestiary.db\",\n",
    "    \"pathfinder-bestiary-2.db\",\n",
    "    \"pathfinder-bestiary-3.db\",\n",
    "]\n",
    "DATASET_PATHS = [f\"{DATASETS_DIR}/{file}\" for file in DATASET_FILES]\n",
    "features = [\n",
    "    \"cha\",\n",
    "    \"con\",\n",
    "    \"dex\",\n",
    "    \"int\",\n",
    "    \"str\",\n",
    "    \"wis\",\n",
    "    \"ac\",\n",
    "    \"hp\",\n",
    "    \"perception\",\n",
    "    \"fortitude\",\n",
    "    \"reflex\",\n",
    "    \"will\",\n",
    "    \"focus\",\n",
    "    \"land_speed\",\n",
    "    \"num_immunities\",\n",
    "    \"fly\",\n",
    "    \"swim\",\n",
    "    \"climb\",\n",
    "    \"fire_resistance\",\n",
    "    \"cold_resistance\",\n",
    "    \"electricity_resistance\",\n",
    "    \"acid_resistance\",\n",
    "    \"piercing_resistance\",\n",
    "    \"slashing_resistance\",\n",
    "    \"physical_resistance\",\n",
    "    \"bludgeoning_resistance\",\n",
    "    \"mental_resistance\",\n",
    "    \"poison_resistance\",\n",
    "    \"all-damage_resistance\",\n",
    "    \"cold-iron_weakness\",\n",
    "    \"good_weakness\",\n",
    "    \"fire_weakness\",\n",
    "    \"cold_weakness\",\n",
    "    \"area-damage_weakness\",\n",
    "    \"splash-damage_weakness\",\n",
    "    \"evil_weakness\",\n",
    "    \"slashing_weakness\",\n",
    "    \"melee\",\n",
    "    \"ranged\",\n",
    "    \"spells\",\n",
    "]\n",
    "\n",
    "df = load_and_preprocess_data(\n",
    "    DATASET_PATHS,\n",
    "    characteristics=features,\n",
    ")"
   ]
  },
  {
   "cell_type": "code",
   "execution_count": 2,
   "id": "b522f880",
   "metadata": {},
   "outputs": [
    {
     "name": "stdout",
     "output_type": "stream",
     "text": [
      "<class 'pandas.core.frame.DataFrame'>\n",
      "Int64Index: 1206 entries, 0 to 1205\n",
      "Data columns (total 52 columns):\n",
      " #   Column                  Non-Null Count  Dtype  \n",
      "---  ------                  --------------  -----  \n",
      " 0   str                     1206 non-null   int64  \n",
      " 1   cha                     1206 non-null   int64  \n",
      " 2   wis                     1206 non-null   int64  \n",
      " 3   reflex                  1206 non-null   int64  \n",
      " 4   focus                   1206 non-null   int32  \n",
      " 5   land_speed              1206 non-null   float64\n",
      " 6   level                   1206 non-null   int64  \n",
      " 7   hp                      1206 non-null   int64  \n",
      " 8   num_immunities          1206 non-null   int64  \n",
      " 9   fortitude               1206 non-null   int64  \n",
      " 10  int                     1206 non-null   int64  \n",
      " 11  perception              1206 non-null   int64  \n",
      " 12  ac                      1206 non-null   int64  \n",
      " 13  will                    1206 non-null   int64  \n",
      " 14  con                     1206 non-null   int64  \n",
      " 15  book                    1206 non-null   object \n",
      " 16  dex                     1206 non-null   int64  \n",
      " 17  all-damage_resistance   1206 non-null   int64  \n",
      " 18  bludgeoning_resistance  1206 non-null   int64  \n",
      " 19  fire_resistance         1206 non-null   int64  \n",
      " 20  mental_resistance       1206 non-null   int64  \n",
      " 21  slashing_resistance     1206 non-null   int64  \n",
      " 22  acid_resistance         1206 non-null   int64  \n",
      " 23  cold_resistance         1206 non-null   int64  \n",
      " 24  electricity_resistance  1206 non-null   int64  \n",
      " 25  physical_resistance     1206 non-null   int64  \n",
      " 26  piercing_resistance     1206 non-null   int64  \n",
      " 27  poison_resistance       1206 non-null   int64  \n",
      " 28  slashing_weakness       1206 non-null   int64  \n",
      " 29  fire_weakness           1206 non-null   int64  \n",
      " 30  good_weakness           1206 non-null   int64  \n",
      " 31  evil_weakness           1206 non-null   int64  \n",
      " 32  area-damage_weakness    1206 non-null   int64  \n",
      " 33  cold_weakness           1206 non-null   int64  \n",
      " 34  cold-iron_weakness      1206 non-null   int64  \n",
      " 35  splash-damage_weakness  1206 non-null   int64  \n",
      " 36  climb                   1206 non-null   int64  \n",
      " 37  swim                    1206 non-null   int64  \n",
      " 38  fly                     1206 non-null   int64  \n",
      " 39  spells_nr_lvl_1         1206 non-null   int64  \n",
      " 40  spells_nr_lvl_2         1206 non-null   int64  \n",
      " 41  spells_nr_lvl_3         1206 non-null   int64  \n",
      " 42  spells_nr_lvl_4         1206 non-null   int64  \n",
      " 43  spells_nr_lvl_5         1206 non-null   int64  \n",
      " 44  spells_nr_lvl_6         1206 non-null   int64  \n",
      " 45  spells_nr_lvl_7         1206 non-null   int64  \n",
      " 46  spells_nr_lvl_8         1206 non-null   int64  \n",
      " 47  spells_nr_lvl_9         1206 non-null   int64  \n",
      " 48  melee_max_bonus         1206 non-null   int64  \n",
      " 49  avg_melee_dmg           1206 non-null   float64\n",
      " 50  ranged_max_bonus        1206 non-null   int64  \n",
      " 51  avg_ranged_dmg          1206 non-null   float64\n",
      "dtypes: float64(3), int32(1), int64(47), object(1)\n",
      "memory usage: 494.6+ KB\n"
     ]
    }
   ],
   "source": [
    "df.info()"
   ]
  },
  {
   "cell_type": "code",
   "execution_count": 3,
   "id": "1b5450d3",
   "metadata": {},
   "outputs": [
    {
     "data": {
      "text/html": [
       "<div>\n",
       "<style scoped>\n",
       "    .dataframe tbody tr th:only-of-type {\n",
       "        vertical-align: middle;\n",
       "    }\n",
       "\n",
       "    .dataframe tbody tr th {\n",
       "        vertical-align: top;\n",
       "    }\n",
       "\n",
       "    .dataframe thead th {\n",
       "        text-align: right;\n",
       "    }\n",
       "</style>\n",
       "<table border=\"1\" class=\"dataframe\">\n",
       "  <thead>\n",
       "    <tr style=\"text-align: right;\">\n",
       "      <th></th>\n",
       "      <th>str</th>\n",
       "      <th>cha</th>\n",
       "      <th>wis</th>\n",
       "      <th>reflex</th>\n",
       "      <th>focus</th>\n",
       "      <th>land_speed</th>\n",
       "      <th>level</th>\n",
       "      <th>hp</th>\n",
       "      <th>num_immunities</th>\n",
       "      <th>fortitude</th>\n",
       "      <th>...</th>\n",
       "      <th>spells_nr_lvl_4</th>\n",
       "      <th>spells_nr_lvl_5</th>\n",
       "      <th>spells_nr_lvl_6</th>\n",
       "      <th>spells_nr_lvl_7</th>\n",
       "      <th>spells_nr_lvl_8</th>\n",
       "      <th>spells_nr_lvl_9</th>\n",
       "      <th>melee_max_bonus</th>\n",
       "      <th>avg_melee_dmg</th>\n",
       "      <th>ranged_max_bonus</th>\n",
       "      <th>avg_ranged_dmg</th>\n",
       "    </tr>\n",
       "  </thead>\n",
       "  <tbody>\n",
       "    <tr>\n",
       "      <th>0</th>\n",
       "      <td>7</td>\n",
       "      <td>1</td>\n",
       "      <td>2</td>\n",
       "      <td>19</td>\n",
       "      <td>1</td>\n",
       "      <td>30.0</td>\n",
       "      <td>10</td>\n",
       "      <td>215</td>\n",
       "      <td>3</td>\n",
       "      <td>22</td>\n",
       "      <td>...</td>\n",
       "      <td>0</td>\n",
       "      <td>0</td>\n",
       "      <td>0</td>\n",
       "      <td>0</td>\n",
       "      <td>0</td>\n",
       "      <td>0</td>\n",
       "      <td>23</td>\n",
       "      <td>22.0</td>\n",
       "      <td>0</td>\n",
       "      <td>0.0</td>\n",
       "    </tr>\n",
       "    <tr>\n",
       "      <th>1</th>\n",
       "      <td>9</td>\n",
       "      <td>1</td>\n",
       "      <td>2</td>\n",
       "      <td>14</td>\n",
       "      <td>0</td>\n",
       "      <td>35.0</td>\n",
       "      <td>10</td>\n",
       "      <td>220</td>\n",
       "      <td>0</td>\n",
       "      <td>21</td>\n",
       "      <td>...</td>\n",
       "      <td>0</td>\n",
       "      <td>0</td>\n",
       "      <td>0</td>\n",
       "      <td>0</td>\n",
       "      <td>0</td>\n",
       "      <td>0</td>\n",
       "      <td>23</td>\n",
       "      <td>22.0</td>\n",
       "      <td>0</td>\n",
       "      <td>0.0</td>\n",
       "    </tr>\n",
       "    <tr>\n",
       "      <th>2</th>\n",
       "      <td>7</td>\n",
       "      <td>-2</td>\n",
       "      <td>3</td>\n",
       "      <td>17</td>\n",
       "      <td>0</td>\n",
       "      <td>30.0</td>\n",
       "      <td>8</td>\n",
       "      <td>175</td>\n",
       "      <td>0</td>\n",
       "      <td>20</td>\n",
       "      <td>...</td>\n",
       "      <td>0</td>\n",
       "      <td>0</td>\n",
       "      <td>0</td>\n",
       "      <td>0</td>\n",
       "      <td>0</td>\n",
       "      <td>0</td>\n",
       "      <td>21</td>\n",
       "      <td>16.0</td>\n",
       "      <td>0</td>\n",
       "      <td>0.0</td>\n",
       "    </tr>\n",
       "    <tr>\n",
       "      <th>3</th>\n",
       "      <td>7</td>\n",
       "      <td>6</td>\n",
       "      <td>5</td>\n",
       "      <td>29</td>\n",
       "      <td>1</td>\n",
       "      <td>50.0</td>\n",
       "      <td>17</td>\n",
       "      <td>315</td>\n",
       "      <td>3</td>\n",
       "      <td>30</td>\n",
       "      <td>...</td>\n",
       "      <td>1</td>\n",
       "      <td>0</td>\n",
       "      <td>1</td>\n",
       "      <td>0</td>\n",
       "      <td>0</td>\n",
       "      <td>0</td>\n",
       "      <td>33</td>\n",
       "      <td>31.5</td>\n",
       "      <td>0</td>\n",
       "      <td>0.0</td>\n",
       "    </tr>\n",
       "    <tr>\n",
       "      <th>4</th>\n",
       "      <td>-5</td>\n",
       "      <td>1</td>\n",
       "      <td>1</td>\n",
       "      <td>10</td>\n",
       "      <td>1</td>\n",
       "      <td>0.0</td>\n",
       "      <td>1</td>\n",
       "      <td>20</td>\n",
       "      <td>0</td>\n",
       "      <td>6</td>\n",
       "      <td>...</td>\n",
       "      <td>1</td>\n",
       "      <td>0</td>\n",
       "      <td>0</td>\n",
       "      <td>0</td>\n",
       "      <td>0</td>\n",
       "      <td>0</td>\n",
       "      <td>0</td>\n",
       "      <td>0.0</td>\n",
       "      <td>8</td>\n",
       "      <td>5.0</td>\n",
       "    </tr>\n",
       "  </tbody>\n",
       "</table>\n",
       "<p>5 rows × 52 columns</p>\n",
       "</div>"
      ],
      "text/plain": [
       "   str  cha  wis  reflex  focus  land_speed  level   hp  num_immunities  \\\n",
       "0    7    1    2      19      1        30.0     10  215               3   \n",
       "1    9    1    2      14      0        35.0     10  220               0   \n",
       "2    7   -2    3      17      0        30.0      8  175               0   \n",
       "3    7    6    5      29      1        50.0     17  315               3   \n",
       "4   -5    1    1      10      1         0.0      1   20               0   \n",
       "\n",
       "   fortitude  ...  spells_nr_lvl_4  spells_nr_lvl_5  spells_nr_lvl_6  \\\n",
       "0         22  ...                0                0                0   \n",
       "1         21  ...                0                0                0   \n",
       "2         20  ...                0                0                0   \n",
       "3         30  ...                1                0                1   \n",
       "4          6  ...                1                0                0   \n",
       "\n",
       "   spells_nr_lvl_7  spells_nr_lvl_8 spells_nr_lvl_9  melee_max_bonus  \\\n",
       "0                0                0               0               23   \n",
       "1                0                0               0               23   \n",
       "2                0                0               0               21   \n",
       "3                0                0               0               33   \n",
       "4                0                0               0                0   \n",
       "\n",
       "   avg_melee_dmg  ranged_max_bonus  avg_ranged_dmg  \n",
       "0           22.0                 0             0.0  \n",
       "1           22.0                 0             0.0  \n",
       "2           16.0                 0             0.0  \n",
       "3           31.5                 0             0.0  \n",
       "4            0.0                 8             5.0  \n",
       "\n",
       "[5 rows x 52 columns]"
      ]
     },
     "execution_count": 3,
     "metadata": {},
     "output_type": "execute_result"
    }
   ],
   "source": [
    "df.head()"
   ]
  },
  {
   "cell_type": "markdown",
   "id": "0caa661f",
   "metadata": {},
   "source": [
    "###### Level"
   ]
  },
  {
   "cell_type": "code",
   "execution_count": 4,
   "id": "c200d2b4",
   "metadata": {},
   "outputs": [
    {
     "data": {
      "text/plain": [
       "0       10\n",
       "1       10\n",
       "2        8\n",
       "3       17\n",
       "4        1\n",
       "        ..\n",
       "1201    20\n",
       "1202    -1\n",
       "1203    12\n",
       "1204     6\n",
       "1205     6\n",
       "Name: level, Length: 1206, dtype: int64"
      ]
     },
     "execution_count": 4,
     "metadata": {},
     "output_type": "execute_result"
    }
   ],
   "source": [
    "y = df[\"level\"]\n",
    "y"
   ]
  },
  {
   "cell_type": "code",
   "execution_count": 5,
   "id": "553822a7",
   "metadata": {},
   "outputs": [],
   "source": [
    "from collections import defaultdict\n",
    "\n",
    "\n",
    "lvl_stat = defaultdict(lambda: 0)\n",
    "\n",
    "for lvl in y:\n",
    "    lvl_stat[lvl] += 1"
   ]
  },
  {
   "cell_type": "code",
   "execution_count": 6,
   "id": "e45d6c29",
   "metadata": {},
   "outputs": [
    {
     "data": {
      "text/html": [
       "<div>\n",
       "<style scoped>\n",
       "    .dataframe tbody tr th:only-of-type {\n",
       "        vertical-align: middle;\n",
       "    }\n",
       "\n",
       "    .dataframe tbody tr th {\n",
       "        vertical-align: top;\n",
       "    }\n",
       "\n",
       "    .dataframe thead th {\n",
       "        text-align: right;\n",
       "    }\n",
       "</style>\n",
       "<table border=\"1\" class=\"dataframe\">\n",
       "  <thead>\n",
       "    <tr style=\"text-align: right;\">\n",
       "      <th></th>\n",
       "      <th>lvl</th>\n",
       "      <th>count</th>\n",
       "    </tr>\n",
       "  </thead>\n",
       "  <tbody>\n",
       "    <tr>\n",
       "      <th>0</th>\n",
       "      <td>-1</td>\n",
       "      <td>34</td>\n",
       "    </tr>\n",
       "    <tr>\n",
       "      <th>1</th>\n",
       "      <td>0</td>\n",
       "      <td>27</td>\n",
       "    </tr>\n",
       "    <tr>\n",
       "      <th>2</th>\n",
       "      <td>1</td>\n",
       "      <td>127</td>\n",
       "    </tr>\n",
       "    <tr>\n",
       "      <th>3</th>\n",
       "      <td>2</td>\n",
       "      <td>121</td>\n",
       "    </tr>\n",
       "    <tr>\n",
       "      <th>4</th>\n",
       "      <td>3</td>\n",
       "      <td>95</td>\n",
       "    </tr>\n",
       "    <tr>\n",
       "      <th>5</th>\n",
       "      <td>4</td>\n",
       "      <td>82</td>\n",
       "    </tr>\n",
       "    <tr>\n",
       "      <th>6</th>\n",
       "      <td>5</td>\n",
       "      <td>76</td>\n",
       "    </tr>\n",
       "    <tr>\n",
       "      <th>7</th>\n",
       "      <td>6</td>\n",
       "      <td>72</td>\n",
       "    </tr>\n",
       "    <tr>\n",
       "      <th>8</th>\n",
       "      <td>7</td>\n",
       "      <td>77</td>\n",
       "    </tr>\n",
       "    <tr>\n",
       "      <th>9</th>\n",
       "      <td>8</td>\n",
       "      <td>68</td>\n",
       "    </tr>\n",
       "    <tr>\n",
       "      <th>10</th>\n",
       "      <td>9</td>\n",
       "      <td>63</td>\n",
       "    </tr>\n",
       "    <tr>\n",
       "      <th>11</th>\n",
       "      <td>10</td>\n",
       "      <td>58</td>\n",
       "    </tr>\n",
       "    <tr>\n",
       "      <th>12</th>\n",
       "      <td>11</td>\n",
       "      <td>40</td>\n",
       "    </tr>\n",
       "    <tr>\n",
       "      <th>13</th>\n",
       "      <td>12</td>\n",
       "      <td>41</td>\n",
       "    </tr>\n",
       "    <tr>\n",
       "      <th>14</th>\n",
       "      <td>13</td>\n",
       "      <td>36</td>\n",
       "    </tr>\n",
       "    <tr>\n",
       "      <th>15</th>\n",
       "      <td>14</td>\n",
       "      <td>33</td>\n",
       "    </tr>\n",
       "    <tr>\n",
       "      <th>16</th>\n",
       "      <td>15</td>\n",
       "      <td>31</td>\n",
       "    </tr>\n",
       "    <tr>\n",
       "      <th>17</th>\n",
       "      <td>16</td>\n",
       "      <td>25</td>\n",
       "    </tr>\n",
       "    <tr>\n",
       "      <th>18</th>\n",
       "      <td>17</td>\n",
       "      <td>21</td>\n",
       "    </tr>\n",
       "    <tr>\n",
       "      <th>19</th>\n",
       "      <td>18</td>\n",
       "      <td>21</td>\n",
       "    </tr>\n",
       "    <tr>\n",
       "      <th>20</th>\n",
       "      <td>19</td>\n",
       "      <td>18</td>\n",
       "    </tr>\n",
       "    <tr>\n",
       "      <th>21</th>\n",
       "      <td>20</td>\n",
       "      <td>24</td>\n",
       "    </tr>\n",
       "    <tr>\n",
       "      <th>22</th>\n",
       "      <td>21</td>\n",
       "      <td>16</td>\n",
       "    </tr>\n",
       "  </tbody>\n",
       "</table>\n",
       "</div>"
      ],
      "text/plain": [
       "    lvl  count\n",
       "0    -1     34\n",
       "1     0     27\n",
       "2     1    127\n",
       "3     2    121\n",
       "4     3     95\n",
       "5     4     82\n",
       "6     5     76\n",
       "7     6     72\n",
       "8     7     77\n",
       "9     8     68\n",
       "10    9     63\n",
       "11   10     58\n",
       "12   11     40\n",
       "13   12     41\n",
       "14   13     36\n",
       "15   14     33\n",
       "16   15     31\n",
       "17   16     25\n",
       "18   17     21\n",
       "19   18     21\n",
       "20   19     18\n",
       "21   20     24\n",
       "22   21     16"
      ]
     },
     "execution_count": 6,
     "metadata": {},
     "output_type": "execute_result"
    }
   ],
   "source": [
    "level_count = pd.DataFrame(\n",
    "    data={\n",
    "        \"lvl\": [key for key in sorted(lvl_stat.keys())],\n",
    "        \"count\": [lvl_stat.get(key) for key in sorted(lvl_stat.keys())],\n",
    "    }\n",
    ")\n",
    "level_count"
   ]
  },
  {
   "cell_type": "code",
   "execution_count": 7,
   "id": "bdbfe8de",
   "metadata": {},
   "outputs": [
    {
     "data": {
      "image/png": "[encoded data removed]",
      "text/plain": [
       "<Figure size 432x288 with 1 Axes>"
      ]
     },
     "metadata": {
      "needs_background": "light"
     },
     "output_type": "display_data"
    }
   ],
   "source": [
    "import matplotlib.pyplot as plt\n",
    "\n",
    "\n",
    "level_count.plot.bar(x=\"lvl\", y=\"count\", title=\"Count of levels\")\n",
    "\n",
    "plt.savefig(f\"../results_diagrams/other/Count of levels.svg\")\n",
    "\n",
    "plt.show()"
   ]
  },
  {
   "cell_type": "markdown",
   "id": "9fdb6541",
   "metadata": {},
   "source": [
    "## Train test split"
   ]
  },
  {
   "cell_type": "markdown",
   "id": "18f56629",
   "metadata": {},
   "source": [
    "### Chronological split"
   ]
  },
  {
   "cell_type": "code",
   "execution_count": 8,
   "id": "dcda359b",
   "metadata": {},
   "outputs": [],
   "source": [
    "from training.splitting_dataset import split_dataframe\n",
    "\n",
    "\n",
    "os.chdir(\"../../../training\")\n",
    "X_train, X_test, y_train, y_test = split_dataframe(df, test_size=0.31)\n",
    "os.chdir(\"../notebooks/models/lightgbm\")"
   ]
  },
  {
   "cell_type": "code",
   "execution_count": 9,
   "id": "17dbc875",
   "metadata": {},
   "outputs": [],
   "source": [
    "X_train = X_train.drop(columns=[\"book\"])\n",
    "X_test = X_test.drop(columns=[\"book\"])"
   ]
  },
  {
   "cell_type": "markdown",
   "id": "25879636",
   "metadata": {},
   "source": [
    "### Random split"
   ]
  },
  {
   "cell_type": "code",
   "execution_count": 10,
   "id": "982ec5eb",
   "metadata": {},
   "outputs": [],
   "source": [
    "(\n",
    "    X_train_random_split,\n",
    "    X_test_random_split,\n",
    "    y_train_random_split,\n",
    "    y_test_random_split,\n",
    ") = split_dataframe(df, chronological_split=False)"
   ]
  },
  {
   "cell_type": "code",
   "execution_count": 11,
   "id": "90569e78",
   "metadata": {},
   "outputs": [],
   "source": [
    "X_train_random_split = X_train_random_split.drop(columns=[\"book\"])\n",
    "X_test_random_split = X_test_random_split.drop(columns=[\"book\"])"
   ]
  },
  {
   "cell_type": "markdown",
   "id": "9b259fbf",
   "metadata": {},
   "source": [
    "## LightGBM"
   ]
  },
  {
   "cell_type": "markdown",
   "id": "14f37d9b",
   "metadata": {},
   "source": [
    "## Chronological split"
   ]
  },
  {
   "cell_type": "code",
   "execution_count": 12,
   "id": "2bc4c90e",
   "metadata": {},
   "outputs": [
    {
     "name": "stdout",
     "output_type": "stream",
     "text": [
      "[LightGBM] [Warning] Auto-choosing row-wise multi-threading, the overhead of testing was 0.000636 seconds.\n",
      "You can set `force_row_wise=true` to remove the overhead.\n",
      "And if memory is not enough, you can set `force_col_wise=true`.\n",
      "[LightGBM] [Info] Total Bins 756\n",
      "[LightGBM] [Info] Number of data points in the train set: 841, number of used features: 45\n",
      "[LightGBM] [Info] Start training from score 6.966706\n",
      "Training until validation scores don't improve for 5 rounds\n",
      "[LightGBM] [Warning] No further splits with positive gain, best gain: -inf\n",
      "[LightGBM] [Warning] No further splits with positive gain, best gain: -inf\n",
      "[LightGBM] [Warning] No further splits with positive gain, best gain: -inf\n",
      "[LightGBM] [Warning] No further splits with positive gain, best gain: -inf\n",
      "Early stopping, best iteration is:\n",
      "[86]\tvalid_0's l1: 0.464806\tvalid_0's l2: 0.925346\n"
     ]
    }
   ],
   "source": [
    "import lightgbm as lgb\n",
    "\n",
    "lgb_train = lgb.Dataset(X_train, y_train)\n",
    "lgb_eval = lgb.Dataset(X_test, y_test, reference=lgb_train)\n",
    "\n",
    "params = {\n",
    "    \"boosting_type\": \"gbdt\",\n",
    "    \"objective\": \"regression\",\n",
    "    \"metric\": {\"l2\", \"l1\"},\n",
    "}\n",
    "\n",
    "gbm = lgb.train(\n",
    "    params,\n",
    "    lgb_train,\n",
    "    num_boost_round=100,\n",
    "    valid_sets=lgb_eval,\n",
    "    callbacks=[lgb.early_stopping(stopping_rounds=5)],\n",
    ")"
   ]
  },
  {
   "cell_type": "code",
   "execution_count": 13,
   "id": "f1ae2eaa",
   "metadata": {},
   "outputs": [],
   "source": [
    "y_pred_train = gbm.predict(X_train, num_iteration=gbm.best_iteration)\n",
    "y_pred_test = gbm.predict(X_test, num_iteration=gbm.best_iteration)"
   ]
  },
  {
   "cell_type": "code",
   "execution_count": 14,
   "id": "ef9d09eb",
   "metadata": {},
   "outputs": [
    {
     "name": "stdout",
     "output_type": "stream",
     "text": [
      "RMSE: 0.96\n",
      "MAE: 0.46\n"
     ]
    }
   ],
   "source": [
    "from sklearn.metrics import mean_squared_error, mean_absolute_error\n",
    "\n",
    "\n",
    "rmse = mean_squared_error(y_test, y_pred_test, squared=False)\n",
    "mae = mean_absolute_error(y_test, y_pred_test)\n",
    "\n",
    "print(f\"RMSE: {rmse:.2f}\")\n",
    "print(f\"MAE: {mae:.2f}\")"
   ]
  },
  {
   "cell_type": "code",
   "execution_count": 15,
   "id": "6e288d53",
   "metadata": {},
   "outputs": [],
   "source": [
    "results = pd.DataFrame(\n",
    "    data={\n",
    "        \"Split type\": [],\n",
    "        \"Tuning type\": [],\n",
    "        \"Set of features\": [],\n",
    "        \"RMSE\": [],\n",
    "        \"MAE\": [],\n",
    "    }\n",
    ")\n",
    "\n",
    "results.loc[0] = [\"chronological\", \"default\", \"full\", rmse, mae]"
   ]
  },
  {
   "cell_type": "code",
   "execution_count": 16,
   "id": "78bb7ffa",
   "metadata": {},
   "outputs": [
    {
     "name": "stdout",
     "output_type": "stream",
     "text": [
      "RMSE train: 0.13\n",
      "RMSE test: 0.96\n"
     ]
    }
   ],
   "source": [
    "rmse_train = mean_squared_error(y_train, y_pred_train, squared=False)\n",
    "rmse_test = mean_squared_error(y_test, y_pred_test, squared=False)\n",
    "print(f\"RMSE train: {rmse_train:.2f}\")\n",
    "print(f\"RMSE test: {rmse_test:.2f}\")"
   ]
  },
  {
   "cell_type": "markdown",
   "id": "1822ab4b",
   "metadata": {},
   "source": [
    "###### MAE by level"
   ]
  },
  {
   "cell_type": "code",
   "execution_count": 17,
   "id": "89d4733e",
   "metadata": {},
   "outputs": [],
   "source": [
    "from training.results import plot_mae_by_level"
   ]
  },
  {
   "cell_type": "code",
   "execution_count": 18,
   "id": "062bc79b",
   "metadata": {},
   "outputs": [
    {
     "data": {
      "image/png": "[encoded data removed]",
      "text/plain": [
       "<Figure size 1440x576 with 1 Axes>"
      ]
     },
     "metadata": {
      "needs_background": "light"
     },
     "output_type": "display_data"
    }
   ],
   "source": [
    "plot_mae_by_level(\n",
    "    y_test,\n",
    "    y_pred_test,\n",
    "    title=\"MAE by level for default LightGBM with full features and chronological split\",\n",
    ")"
   ]
  },
  {
   "cell_type": "code",
   "execution_count": 19,
   "id": "ec8cab49",
   "metadata": {
    "scrolled": true
   },
   "outputs": [
    {
     "name": "stdout",
     "output_type": "stream",
     "text": [
      "Default:\n",
      "RMSE: 0.96\n",
      "\n",
      "Round type: 0.5\n",
      "RMSE: 0.99\n",
      "\n",
      "Round type: 0.33\n",
      "RMSE: 0.94\n",
      "\n",
      "Round type: 0.45\n",
      "RMSE: 0.96\n",
      "\n"
     ]
    }
   ],
   "source": [
    "from training.results import evaluate_round_predictions, plot_confusion_matrix\n",
    "\n",
    "\n",
    "evaluate_round_predictions([0.5, 0.33, 0.45], y_test, y_pred_test)"
   ]
  },
  {
   "cell_type": "code",
   "execution_count": 20,
   "id": "9129a0ae",
   "metadata": {},
   "outputs": [
    {
     "data": {
      "image/png": "[encoded data removed]",
      "text/plain": [
       "<Figure size 720x720 with 2 Axes>"
      ]
     },
     "metadata": {
      "needs_background": "light"
     },
     "output_type": "display_data"
    }
   ],
   "source": [
    "plot_confusion_matrix(\n",
    "    y_pred_test,\n",
    "    y_test,\n",
    "    title=\"Confusion matrix for default LightGBM with\\nfull features and chronological split\",\n",
    ")"
   ]
  },
  {
   "cell_type": "markdown",
   "id": "0e591f6c",
   "metadata": {},
   "source": [
    "#### Tuning"
   ]
  },
  {
   "cell_type": "code",
   "execution_count": 21,
   "id": "2f781cab",
   "metadata": {},
   "outputs": [],
   "source": [
    "from training.results import assess_regression_model"
   ]
  },
  {
   "cell_type": "code",
   "execution_count": 22,
   "id": "d8734e01",
   "metadata": {},
   "outputs": [
    {
     "name": "stderr",
     "output_type": "stream",
     "text": [
      "[I 2023-11-24 14:56:07,627] A new study created in memory with name: no-name-39288d82-0010-4d5f-8bc1-185c2966f7b0\n",
      "feature_fraction, val_score: inf:   0%|                                                          | 0/7 [00:00<?, ?it/s]"
     ]
    },
    {
     "name": "stdout",
     "output_type": "stream",
     "text": [
      "Training until validation scores don't improve for 100 rounds\n",
      "[100]\tcv_agg's l2: 0.1378 + 0.0299665\n",
      "[200]\tcv_agg's l2: 0.134116 + 0.0281015\n",
      "[300]\tcv_agg's l2: 0.133249 + 0.0284213\n",
      "[400]\tcv_agg's l2: 0.132823 + 0.0284335\n"
     ]
    },
    {
     "name": "stderr",
     "output_type": "stream",
     "text": [
      "feature_fraction, val_score: 0.132727:  14%|######4                                      | 1/7 [00:03<00:23,  3.91s/it][I 2023-11-24 14:56:11,545] Trial 0 finished with value: 0.1327267490771598 and parameters: {'feature_fraction': 0.6}. Best is trial 0 with value: 0.1327267490771598.\n",
      "feature_fraction, val_score: 0.132727:  14%|######4                                      | 1/7 [00:03<00:23,  3.91s/it]"
     ]
    },
    {
     "name": "stdout",
     "output_type": "stream",
     "text": [
      "[500]\tcv_agg's l2: 0.132843 + 0.0284245\n",
      "Early stopping, best iteration is:\n",
      "[407]\tcv_agg's l2: 0.132727 + 0.028417\n",
      "[100]\tcv_agg's l2: 0.13879 + 0.0298725\n",
      "[200]\tcv_agg's l2: 0.135362 + 0.0293908\n",
      "[300]\tcv_agg's l2: 0.135029 + 0.0298287\n",
      "[400]\tcv_agg's l2: 0.134899 + 0.0298104\n"
     ]
    },
    {
     "name": "stderr",
     "output_type": "stream",
     "text": [
      "feature_fraction, val_score: 0.132727:  29%|############8                                | 2/7 [00:07<00:18,  3.70s/it][I 2023-11-24 14:56:15,101] Trial 1 finished with value: 0.1348523082753959 and parameters: {'feature_fraction': 0.8}. Best is trial 0 with value: 0.1327267490771598.\n",
      "feature_fraction, val_score: 0.132727:  29%|############8                                | 2/7 [00:07<00:18,  3.70s/it]"
     ]
    },
    {
     "name": "stdout",
     "output_type": "stream",
     "text": [
      "[500]\tcv_agg's l2: 0.134973 + 0.0297964\n",
      "Early stopping, best iteration is:\n",
      "[407]\tcv_agg's l2: 0.132727 + 0.028417\n",
      "[100]\tcv_agg's l2: 0.153433 + 0.0361594\n",
      "[200]\tcv_agg's l2: 0.151284 + 0.0361475\n",
      "[300]\tcv_agg's l2: 0.150936 + 0.0360814\n",
      "[400]\tcv_agg's l2: 0.150919 + 0.0362736\n"
     ]
    },
    {
     "name": "stderr",
     "output_type": "stream",
     "text": [
      "feature_fraction, val_score: 0.132727:  43%|###################2                         | 3/7 [00:11<00:15,  3.87s/it][I 2023-11-24 14:56:19,166] Trial 2 finished with value: 0.15092452659088548 and parameters: {'feature_fraction': 1.0}. Best is trial 0 with value: 0.1327267490771598.\n",
      "feature_fraction, val_score: 0.132727:  43%|###################2                         | 3/7 [00:11<00:15,  3.87s/it]"
     ]
    },
    {
     "name": "stdout",
     "output_type": "stream",
     "text": [
      "[500]\tcv_agg's l2: 0.150998 + 0.0365614\n",
      "Early stopping, best iteration is:\n",
      "[407]\tcv_agg's l2: 0.132727 + 0.028417\n",
      "[100]\tcv_agg's l2: 0.138727 + 0.0326364\n",
      "[200]\tcv_agg's l2: 0.136173 + 0.0321761\n",
      "[300]\tcv_agg's l2: 0.13599 + 0.0320788\n",
      "[400]\tcv_agg's l2: 0.135615 + 0.0320907\n"
     ]
    },
    {
     "name": "stderr",
     "output_type": "stream",
     "text": [
      "feature_fraction, val_score: 0.132727:  57%|#########################7                   | 4/7 [00:15<00:11,  3.99s/it][I 2023-11-24 14:56:23,347] Trial 3 finished with value: 0.13568657086587568 and parameters: {'feature_fraction': 0.7}. Best is trial 0 with value: 0.1327267490771598.\n",
      "feature_fraction, val_score: 0.132727:  57%|#########################7                   | 4/7 [00:15<00:11,  3.99s/it]"
     ]
    },
    {
     "name": "stdout",
     "output_type": "stream",
     "text": [
      "[500]\tcv_agg's l2: 0.135613 + 0.032065\n",
      "Early stopping, best iteration is:\n",
      "[407]\tcv_agg's l2: 0.132727 + 0.028417\n",
      "[100]\tcv_agg's l2: 0.146694 + 0.0335893\n",
      "[200]\tcv_agg's l2: 0.144161 + 0.0335346\n",
      "[300]\tcv_agg's l2: 0.143979 + 0.0343847\n",
      "[400]\tcv_agg's l2: 0.143508 + 0.0340938\n"
     ]
    },
    {
     "name": "stderr",
     "output_type": "stream",
     "text": [
      "feature_fraction, val_score: 0.132727:  71%|################################1            | 5/7 [00:19<00:08,  4.09s/it][I 2023-11-24 14:56:27,611] Trial 4 finished with value: 0.14350634768750342 and parameters: {'feature_fraction': 0.8999999999999999}. Best is trial 0 with value: 0.1327267490771598.\n",
      "feature_fraction, val_score: 0.132727:  71%|################################1            | 5/7 [00:19<00:08,  4.09s/it]"
     ]
    },
    {
     "name": "stdout",
     "output_type": "stream",
     "text": [
      "[500]\tcv_agg's l2: 0.143423 + 0.0338463\n",
      "Early stopping, best iteration is:\n",
      "[407]\tcv_agg's l2: 0.132727 + 0.028417\n",
      "[100]\tcv_agg's l2: 0.152385 + 0.0290252\n",
      "[200]\tcv_agg's l2: 0.147601 + 0.0280117\n",
      "[300]\tcv_agg's l2: 0.147283 + 0.0284284\n",
      "[400]\tcv_agg's l2: 0.147173 + 0.0285159\n"
     ]
    },
    {
     "name": "stderr",
     "output_type": "stream",
     "text": [
      "feature_fraction, val_score: 0.132727:  86%|######################################5      | 6/7 [00:25<00:04,  4.55s/it][I 2023-11-24 14:56:33,046] Trial 5 finished with value: 0.14716188825160745 and parameters: {'feature_fraction': 0.5}. Best is trial 0 with value: 0.1327267490771598.\n",
      "feature_fraction, val_score: 0.132727:  86%|######################################5      | 6/7 [00:25<00:04,  4.55s/it]"
     ]
    },
    {
     "name": "stdout",
     "output_type": "stream",
     "text": [
      "[500]\tcv_agg's l2: 0.147514 + 0.0286679\n",
      "Early stopping, best iteration is:\n",
      "[407]\tcv_agg's l2: 0.132727 + 0.028417\n",
      "[100]\tcv_agg's l2: 0.158721 + 0.0342888\n",
      "[200]\tcv_agg's l2: 0.15295 + 0.0333958\n",
      "[300]\tcv_agg's l2: 0.150434 + 0.0326883\n",
      "[400]\tcv_agg's l2: 0.149566 + 0.0324207\n"
     ]
    },
    {
     "name": "stderr",
     "output_type": "stream",
     "text": [
      "feature_fraction, val_score: 0.132727: 100%|#############################################| 7/7 [00:30<00:00,  4.82s/it][I 2023-11-24 14:56:38,430] Trial 6 finished with value: 0.14948243167527644 and parameters: {'feature_fraction': 0.4}. Best is trial 0 with value: 0.1327267490771598.\n",
      "feature_fraction, val_score: 0.132727: 100%|#############################################| 7/7 [00:30<00:00,  4.40s/it]\n"
     ]
    },
    {
     "name": "stdout",
     "output_type": "stream",
     "text": [
      "[500]\tcv_agg's l2: 0.149068 + 0.0321487\n",
      "Early stopping, best iteration is:\n",
      "[407]\tcv_agg's l2: 0.132727 + 0.028417\n"
     ]
    },
    {
     "name": "stderr",
     "output_type": "stream",
     "text": [
      "num_leaves, val_score: 0.132727:   0%|                                                          | 0/20 [00:00<?, ?it/s]"
     ]
    },
    {
     "name": "stdout",
     "output_type": "stream",
     "text": [
      "[100]\tcv_agg's l2: 0.1378 + 0.0299665\n",
      "[200]\tcv_agg's l2: 0.134116 + 0.0281015\n",
      "[300]\tcv_agg's l2: 0.133249 + 0.0284213\n",
      "[400]\tcv_agg's l2: 0.132823 + 0.0284335\n"
     ]
    },
    {
     "name": "stderr",
     "output_type": "stream",
     "text": [
      "num_leaves, val_score: 0.132727:   5%|##5                                               | 1/20 [00:05<01:41,  5.36s/it][I 2023-11-24 14:56:43,796] Trial 7 finished with value: 0.1327267490771598 and parameters: {'num_leaves': 131}. Best is trial 7 with value: 0.1327267490771598.\n",
      "num_leaves, val_score: 0.132727:   5%|##5                                               | 1/20 [00:05<01:41,  5.36s/it]"
     ]
    },
    {
     "name": "stdout",
     "output_type": "stream",
     "text": [
      "[500]\tcv_agg's l2: 0.132843 + 0.0284245\n",
      "Early stopping, best iteration is:\n",
      "[407]\tcv_agg's l2: 0.132727 + 0.028417\n",
      "[100]\tcv_agg's l2: 0.1378 + 0.0299665\n",
      "[200]\tcv_agg's l2: 0.134116 + 0.0281015\n",
      "[300]\tcv_agg's l2: 0.133249 + 0.0284213\n",
      "[400]\tcv_agg's l2: 0.132823 + 0.0284335\n"
     ]
    },
    {
     "name": "stderr",
     "output_type": "stream",
     "text": [
      "num_leaves, val_score: 0.132727:  10%|#####                                             | 2/20 [00:09<01:20,  4.49s/it][I 2023-11-24 14:56:47,676] Trial 8 finished with value: 0.1327267490771598 and parameters: {'num_leaves': 46}. Best is trial 7 with value: 0.1327267490771598.\n",
      "num_leaves, val_score: 0.132727:  10%|#####                                             | 2/20 [00:09<01:20,  4.49s/it]"
     ]
    },
    {
     "name": "stdout",
     "output_type": "stream",
     "text": [
      "[500]\tcv_agg's l2: 0.132843 + 0.0284245\n",
      "Early stopping, best iteration is:\n",
      "[407]\tcv_agg's l2: 0.132727 + 0.028417\n",
      "[100]\tcv_agg's l2: 0.1378 + 0.0299665\n",
      "[200]\tcv_agg's l2: 0.134116 + 0.0281015\n",
      "[300]\tcv_agg's l2: 0.133249 + 0.0284213\n",
      "[400]\tcv_agg's l2: 0.132823 + 0.0284335\n"
     ]
    },
    {
     "name": "stderr",
     "output_type": "stream",
     "text": [
      "num_leaves, val_score: 0.132727:  15%|#######5                                          | 3/20 [00:13<01:16,  4.49s/it][I 2023-11-24 14:56:52,169] Trial 9 finished with value: 0.1327267490771598 and parameters: {'num_leaves': 228}. Best is trial 7 with value: 0.1327267490771598.\n",
      "num_leaves, val_score: 0.132727:  15%|#######5                                          | 3/20 [00:13<01:16,  4.49s/it]"
     ]
    },
    {
     "name": "stdout",
     "output_type": "stream",
     "text": [
      "[500]\tcv_agg's l2: 0.132843 + 0.0284245\n",
      "Early stopping, best iteration is:\n",
      "[407]\tcv_agg's l2: 0.132727 + 0.028417\n",
      "[100]\tcv_agg's l2: 0.1378 + 0.0299665\n",
      "[200]\tcv_agg's l2: 0.134116 + 0.0281015\n",
      "[300]\tcv_agg's l2: 0.133249 + 0.0284213\n",
      "[400]\tcv_agg's l2: 0.132823 + 0.0284335\n"
     ]
    },
    {
     "name": "stderr",
     "output_type": "stream",
     "text": [
      "num_leaves, val_score: 0.132727:  20%|##########                                        | 4/20 [00:19<01:17,  4.82s/it][I 2023-11-24 14:56:57,506] Trial 10 finished with value: 0.1327267490771598 and parameters: {'num_leaves': 241}. Best is trial 7 with value: 0.1327267490771598.\n",
      "num_leaves, val_score: 0.132727:  20%|##########                                        | 4/20 [00:19<01:17,  4.82s/it]"
     ]
    },
    {
     "name": "stdout",
     "output_type": "stream",
     "text": [
      "[500]\tcv_agg's l2: 0.132843 + 0.0284245\n",
      "Early stopping, best iteration is:\n",
      "[407]\tcv_agg's l2: 0.132727 + 0.028417\n",
      "[100]\tcv_agg's l2: 0.1378 + 0.0299665\n",
      "[200]\tcv_agg's l2: 0.134116 + 0.0281015\n",
      "[300]\tcv_agg's l2: 0.133249 + 0.0284213\n",
      "[400]\tcv_agg's l2: 0.132823 + 0.0284335\n"
     ]
    },
    {
     "name": "stderr",
     "output_type": "stream",
     "text": [
      "num_leaves, val_score: 0.132727:  25%|############5                                     | 5/20 [00:23<01:10,  4.69s/it][I 2023-11-24 14:57:01,949] Trial 11 finished with value: 0.1327267490771598 and parameters: {'num_leaves': 124}. Best is trial 7 with value: 0.1327267490771598.\n",
      "num_leaves, val_score: 0.132727:  25%|############5                                     | 5/20 [00:23<01:10,  4.69s/it]"
     ]
    },
    {
     "name": "stdout",
     "output_type": "stream",
     "text": [
      "[500]\tcv_agg's l2: 0.132843 + 0.0284245\n",
      "Early stopping, best iteration is:\n",
      "[407]\tcv_agg's l2: 0.132727 + 0.028417\n",
      "[100]\tcv_agg's l2: 0.1378 + 0.0299665\n",
      "[200]\tcv_agg's l2: 0.134116 + 0.0281015\n",
      "[300]\tcv_agg's l2: 0.133249 + 0.0284213\n",
      "[400]\tcv_agg's l2: 0.132823 + 0.0284335\n"
     ]
    },
    {
     "name": "stderr",
     "output_type": "stream",
     "text": [
      "num_leaves, val_score: 0.132727:  30%|###############                                   | 6/20 [00:27<01:04,  4.60s/it][I 2023-11-24 14:57:06,370] Trial 12 finished with value: 0.1327267490771598 and parameters: {'num_leaves': 117}. Best is trial 7 with value: 0.1327267490771598.\n",
      "num_leaves, val_score: 0.132727:  30%|###############                                   | 6/20 [00:27<01:04,  4.60s/it]"
     ]
    },
    {
     "name": "stdout",
     "output_type": "stream",
     "text": [
      "[500]\tcv_agg's l2: 0.132843 + 0.0284245\n",
      "Early stopping, best iteration is:\n",
      "[407]\tcv_agg's l2: 0.132727 + 0.028417\n",
      "[100]\tcv_agg's l2: 0.137827 + 0.0316021\n",
      "[200]\tcv_agg's l2: 0.134248 + 0.0311297\n",
      "[300]\tcv_agg's l2: 0.133189 + 0.0310579\n",
      "[400]\tcv_agg's l2: 0.13292 + 0.0312309\n"
     ]
    },
    {
     "name": "stderr",
     "output_type": "stream",
     "text": [
      "num_leaves, val_score: 0.132727:  35%|#################5                                | 7/20 [00:32<00:57,  4.43s/it][I 2023-11-24 14:57:10,467] Trial 13 finished with value: 0.13292263654117903 and parameters: {'num_leaves': 26}. Best is trial 7 with value: 0.1327267490771598.\n",
      "num_leaves, val_score: 0.132727:  35%|#################5                                | 7/20 [00:32<00:57,  4.43s/it]"
     ]
    },
    {
     "name": "stdout",
     "output_type": "stream",
     "text": [
      "[500]\tcv_agg's l2: 0.132867 + 0.031318\n",
      "Early stopping, best iteration is:\n",
      "[407]\tcv_agg's l2: 0.132727 + 0.028417\n",
      "[100]\tcv_agg's l2: 0.1378 + 0.0299665\n",
      "[200]\tcv_agg's l2: 0.134116 + 0.0281015\n",
      "[300]\tcv_agg's l2: 0.133249 + 0.0284213\n",
      "[400]\tcv_agg's l2: 0.132823 + 0.0284335\n"
     ]
    },
    {
     "name": "stderr",
     "output_type": "stream",
     "text": [
      "num_leaves, val_score: 0.132727:  40%|####################                              | 8/20 [00:36<00:54,  4.55s/it][I 2023-11-24 14:57:15,264] Trial 14 finished with value: 0.1327267490771598 and parameters: {'num_leaves': 181}. Best is trial 7 with value: 0.1327267490771598.\n",
      "num_leaves, val_score: 0.132727:  40%|####################                              | 8/20 [00:36<00:54,  4.55s/it]"
     ]
    },
    {
     "name": "stdout",
     "output_type": "stream",
     "text": [
      "[500]\tcv_agg's l2: 0.132843 + 0.0284245\n",
      "Early stopping, best iteration is:\n",
      "[407]\tcv_agg's l2: 0.132727 + 0.028417\n",
      "[100]\tcv_agg's l2: 0.1378 + 0.0299665\n",
      "[200]\tcv_agg's l2: 0.134116 + 0.0281015\n",
      "[300]\tcv_agg's l2: 0.133249 + 0.0284213\n",
      "[400]\tcv_agg's l2: 0.132823 + 0.0284335\n"
     ]
    },
    {
     "name": "stderr",
     "output_type": "stream",
     "text": [
      "num_leaves, val_score: 0.132727:  45%|######################5                           | 9/20 [00:41<00:51,  4.72s/it][I 2023-11-24 14:57:20,368] Trial 15 finished with value: 0.1327267490771598 and parameters: {'num_leaves': 74}. Best is trial 7 with value: 0.1327267490771598.\n",
      "num_leaves, val_score: 0.132727:  45%|######################5                           | 9/20 [00:41<00:51,  4.72s/it]"
     ]
    },
    {
     "name": "stdout",
     "output_type": "stream",
     "text": [
      "[500]\tcv_agg's l2: 0.132843 + 0.0284245\n",
      "Early stopping, best iteration is:\n",
      "[407]\tcv_agg's l2: 0.132727 + 0.028417\n",
      "[100]\tcv_agg's l2: 0.1378 + 0.0299665\n",
      "[200]\tcv_agg's l2: 0.134116 + 0.0281015\n",
      "[300]\tcv_agg's l2: 0.133249 + 0.0284213\n",
      "[400]\tcv_agg's l2: 0.132823 + 0.0284335\n"
     ]
    },
    {
     "name": "stderr",
     "output_type": "stream",
     "text": [
      "num_leaves, val_score: 0.132727:  50%|########################5                        | 10/20 [00:46<00:48,  4.80s/it][I 2023-11-24 14:57:25,349] Trial 16 finished with value: 0.1327267490771598 and parameters: {'num_leaves': 166}. Best is trial 7 with value: 0.1327267490771598.\n",
      "num_leaves, val_score: 0.132727:  50%|########################5                        | 10/20 [00:46<00:48,  4.80s/it]"
     ]
    },
    {
     "name": "stdout",
     "output_type": "stream",
     "text": [
      "[500]\tcv_agg's l2: 0.132843 + 0.0284245\n",
      "Early stopping, best iteration is:\n",
      "[407]\tcv_agg's l2: 0.132727 + 0.028417\n",
      "[100]\tcv_agg's l2: 0.1378 + 0.0299665\n",
      "[200]\tcv_agg's l2: 0.134116 + 0.0281015\n",
      "[300]\tcv_agg's l2: 0.133249 + 0.0284213\n",
      "[400]\tcv_agg's l2: 0.132823 + 0.0284335\n"
     ]
    },
    {
     "name": "stderr",
     "output_type": "stream",
     "text": [
      "num_leaves, val_score: 0.132727:  55%|##########################9                      | 11/20 [00:52<00:46,  5.13s/it][I 2023-11-24 14:57:31,226] Trial 17 finished with value: 0.1327267490771598 and parameters: {'num_leaves': 91}. Best is trial 7 with value: 0.1327267490771598.\n",
      "num_leaves, val_score: 0.132727:  55%|##########################9                      | 11/20 [00:52<00:46,  5.13s/it]"
     ]
    },
    {
     "name": "stdout",
     "output_type": "stream",
     "text": [
      "[500]\tcv_agg's l2: 0.132843 + 0.0284245\n",
      "Early stopping, best iteration is:\n",
      "[407]\tcv_agg's l2: 0.132727 + 0.028417\n",
      "[100]\tcv_agg's l2: 0.1378 + 0.0299665\n",
      "[200]\tcv_agg's l2: 0.134116 + 0.0281015\n",
      "[300]\tcv_agg's l2: 0.133249 + 0.0284213\n",
      "[400]\tcv_agg's l2: 0.132823 + 0.0284335\n"
     ]
    },
    {
     "name": "stderr",
     "output_type": "stream",
     "text": [
      "num_leaves, val_score: 0.132727:  60%|#############################4                   | 12/20 [00:58<00:41,  5.19s/it][I 2023-11-24 14:57:36,550] Trial 18 finished with value: 0.1327267490771598 and parameters: {'num_leaves': 197}. Best is trial 7 with value: 0.1327267490771598.\n",
      "num_leaves, val_score: 0.132727:  60%|#############################4                   | 12/20 [00:58<00:41,  5.19s/it]"
     ]
    },
    {
     "name": "stdout",
     "output_type": "stream",
     "text": [
      "[500]\tcv_agg's l2: 0.132843 + 0.0284245\n",
      "Early stopping, best iteration is:\n",
      "[407]\tcv_agg's l2: 0.132727 + 0.028417\n",
      "[100]\tcv_agg's l2: 0.227685 + 0.0290268\n",
      "[200]\tcv_agg's l2: 0.206248 + 0.0290491\n",
      "[300]\tcv_agg's l2: 0.191588 + 0.0304824\n",
      "[400]\tcv_agg's l2: 0.184309 + 0.0313202\n"
     ]
    },
    {
     "name": "stderr",
     "output_type": "stream",
     "text": [
      "num_leaves, val_score: 0.132727:  65%|###############################8                 | 13/20 [00:59<00:27,  3.98s/it][I 2023-11-24 14:57:37,731] Trial 19 finished with value: 0.18350248568166974 and parameters: {'num_leaves': 3}. Best is trial 7 with value: 0.1327267490771598.\n",
      "num_leaves, val_score: 0.132727:  65%|###############################8                 | 13/20 [00:59<00:27,  3.98s/it]"
     ]
    },
    {
     "name": "stdout",
     "output_type": "stream",
     "text": [
      "[500]\tcv_agg's l2: 0.177 + 0.0304834\n",
      "Early stopping, best iteration is:\n",
      "[407]\tcv_agg's l2: 0.132727 + 0.028417\n",
      "[100]\tcv_agg's l2: 0.1378 + 0.0299665\n",
      "[200]\tcv_agg's l2: 0.134116 + 0.0281015\n",
      "[300]\tcv_agg's l2: 0.133249 + 0.0284213\n",
      "[400]\tcv_agg's l2: 0.132823 + 0.0284335\n"
     ]
    },
    {
     "name": "stderr",
     "output_type": "stream",
     "text": [
      "num_leaves, val_score: 0.132727:  70%|##################################3              | 14/20 [01:04<00:25,  4.28s/it][I 2023-11-24 14:57:42,710] Trial 20 finished with value: 0.1327267490771598 and parameters: {'num_leaves': 148}. Best is trial 7 with value: 0.1327267490771598.\n",
      "num_leaves, val_score: 0.132727:  70%|##################################3              | 14/20 [01:04<00:25,  4.28s/it]"
     ]
    },
    {
     "name": "stdout",
     "output_type": "stream",
     "text": [
      "[500]\tcv_agg's l2: 0.132843 + 0.0284245\n",
      "Early stopping, best iteration is:\n",
      "[407]\tcv_agg's l2: 0.132727 + 0.028417\n",
      "[100]\tcv_agg's l2: 0.1378 + 0.0299665\n",
      "[200]\tcv_agg's l2: 0.134116 + 0.0281015\n",
      "[300]\tcv_agg's l2: 0.133249 + 0.0284213\n",
      "[400]\tcv_agg's l2: 0.132823 + 0.0284335\n"
     ]
    },
    {
     "name": "stderr",
     "output_type": "stream",
     "text": [
      "num_leaves, val_score: 0.132727:  75%|####################################7            | 15/20 [01:09<00:22,  4.52s/it][I 2023-11-24 14:57:47,788] Trial 21 finished with value: 0.1327267490771598 and parameters: {'num_leaves': 59}. Best is trial 7 with value: 0.1327267490771598.\n",
      "num_leaves, val_score: 0.132727:  75%|####################################7            | 15/20 [01:09<00:22,  4.52s/it]"
     ]
    },
    {
     "name": "stdout",
     "output_type": "stream",
     "text": [
      "[500]\tcv_agg's l2: 0.132843 + 0.0284245\n",
      "Early stopping, best iteration is:\n",
      "[407]\tcv_agg's l2: 0.132727 + 0.028417\n",
      "[100]\tcv_agg's l2: 0.1378 + 0.0299665\n",
      "[200]\tcv_agg's l2: 0.134116 + 0.0281015\n",
      "[300]\tcv_agg's l2: 0.133249 + 0.0284213\n",
      "[400]\tcv_agg's l2: 0.132823 + 0.0284335\n"
     ]
    },
    {
     "name": "stderr",
     "output_type": "stream",
     "text": [
      "num_leaves, val_score: 0.132727:  80%|#######################################2         | 16/20 [01:14<00:19,  4.79s/it][I 2023-11-24 14:57:53,198] Trial 22 finished with value: 0.1327267490771598 and parameters: {'num_leaves': 49}. Best is trial 7 with value: 0.1327267490771598.\n",
      "num_leaves, val_score: 0.132727:  80%|#######################################2         | 16/20 [01:14<00:19,  4.79s/it]"
     ]
    },
    {
     "name": "stdout",
     "output_type": "stream",
     "text": [
      "[500]\tcv_agg's l2: 0.132843 + 0.0284245\n",
      "Early stopping, best iteration is:\n",
      "[407]\tcv_agg's l2: 0.132727 + 0.028417\n",
      "[100]\tcv_agg's l2: 0.1378 + 0.0299665\n",
      "[200]\tcv_agg's l2: 0.134116 + 0.0281015\n",
      "[300]\tcv_agg's l2: 0.133249 + 0.0284213\n",
      "[400]\tcv_agg's l2: 0.132823 + 0.0284335\n"
     ]
    },
    {
     "name": "stderr",
     "output_type": "stream",
     "text": [
      "num_leaves, val_score: 0.132727:  85%|#########################################6       | 17/20 [01:20<00:15,  5.10s/it][I 2023-11-24 14:57:59,022] Trial 23 finished with value: 0.1327267490771598 and parameters: {'num_leaves': 93}. Best is trial 7 with value: 0.1327267490771598.\n",
      "num_leaves, val_score: 0.132727:  85%|#########################################6       | 17/20 [01:20<00:15,  5.10s/it]"
     ]
    },
    {
     "name": "stdout",
     "output_type": "stream",
     "text": [
      "[500]\tcv_agg's l2: 0.132843 + 0.0284245\n",
      "Early stopping, best iteration is:\n",
      "[407]\tcv_agg's l2: 0.132727 + 0.028417\n",
      "[100]\tcv_agg's l2: 0.1378 + 0.0299665\n",
      "[200]\tcv_agg's l2: 0.134116 + 0.0281015\n",
      "[300]\tcv_agg's l2: 0.133249 + 0.0284213\n",
      "[400]\tcv_agg's l2: 0.132823 + 0.0284335\n",
      "[500]\tcv_agg's l2: 0.132843 + 0.0284245\n",
      "Early stopping, best iteration is:\n",
      "[407]\tcv_agg's l2: 0.132727 + 0.028417\n"
     ]
    },
    {
     "name": "stderr",
     "output_type": "stream",
     "text": [
      "num_leaves, val_score: 0.132727:  90%|############################################1    | 18/20 [01:29<00:12,  6.22s/it][I 2023-11-24 14:58:07,859] Trial 24 finished with value: 0.1327267490771598 and parameters: {'num_leaves': 145}. Best is trial 7 with value: 0.1327267490771598.\n",
      "num_leaves, val_score: 0.132727:  90%|############################################1    | 18/20 [01:29<00:12,  6.22s/it]"
     ]
    },
    {
     "name": "stdout",
     "output_type": "stream",
     "text": [
      "[100]\tcv_agg's l2: 0.1378 + 0.0299665\n",
      "[200]\tcv_agg's l2: 0.134116 + 0.0281015\n",
      "[300]\tcv_agg's l2: 0.133249 + 0.0284213\n",
      "[400]\tcv_agg's l2: 0.132823 + 0.0284335\n"
     ]
    },
    {
     "name": "stderr",
     "output_type": "stream",
     "text": [
      "num_leaves, val_score: 0.132727:  95%|##############################################5  | 19/20 [01:35<00:06,  6.19s/it][I 2023-11-24 14:58:13,971] Trial 25 finished with value: 0.1327267490771598 and parameters: {'num_leaves': 104}. Best is trial 7 with value: 0.1327267490771598.\n",
      "num_leaves, val_score: 0.132727:  95%|##############################################5  | 19/20 [01:35<00:06,  6.19s/it]"
     ]
    },
    {
     "name": "stdout",
     "output_type": "stream",
     "text": [
      "[500]\tcv_agg's l2: 0.132843 + 0.0284245\n",
      "Early stopping, best iteration is:\n",
      "[407]\tcv_agg's l2: 0.132727 + 0.028417\n",
      "[100]\tcv_agg's l2: 0.1378 + 0.0299665\n",
      "[200]\tcv_agg's l2: 0.134116 + 0.0281015\n",
      "[300]\tcv_agg's l2: 0.133249 + 0.0284213\n",
      "[400]\tcv_agg's l2: 0.132823 + 0.0284335\n"
     ]
    },
    {
     "name": "stderr",
     "output_type": "stream",
     "text": [
      "num_leaves, val_score: 0.132727: 100%|#################################################| 20/20 [01:41<00:00,  6.24s/it][I 2023-11-24 14:58:20,331] Trial 26 finished with value: 0.1327267490771598 and parameters: {'num_leaves': 35}. Best is trial 7 with value: 0.1327267490771598.\n",
      "num_leaves, val_score: 0.132727: 100%|#################################################| 20/20 [01:41<00:00,  5.09s/it]\n"
     ]
    },
    {
     "name": "stdout",
     "output_type": "stream",
     "text": [
      "[500]\tcv_agg's l2: 0.132843 + 0.0284245\n",
      "Early stopping, best iteration is:\n",
      "[407]\tcv_agg's l2: 0.132727 + 0.028417\n"
     ]
    },
    {
     "name": "stderr",
     "output_type": "stream",
     "text": [
      "bagging, val_score: 0.132727:   0%|                                                             | 0/10 [00:00<?, ?it/s]"
     ]
    },
    {
     "name": "stdout",
     "output_type": "stream",
     "text": [
      "[100]\tcv_agg's l2: 0.166537 + 0.0279961\n",
      "[200]\tcv_agg's l2: 0.155848 + 0.0204663\n",
      "[300]\tcv_agg's l2: 0.155269 + 0.0179191\n",
      "[400]\tcv_agg's l2: 0.155301 + 0.0189697\n"
     ]
    },
    {
     "name": "stderr",
     "output_type": "stream",
     "text": [
      "bagging, val_score: 0.132727:  10%|#####3                                               | 1/10 [00:04<00:39,  4.44s/it][I 2023-11-24 14:58:24,781] Trial 27 finished with value: 0.15424814946097848 and parameters: {'bagging_fraction': 0.5602975082725847, 'bagging_freq': 4}. Best is trial 27 with value: 0.15424814946097848.\n",
      "bagging, val_score: 0.132727:  10%|#####3                                               | 1/10 [00:04<00:39,  4.44s/it]"
     ]
    },
    {
     "name": "stdout",
     "output_type": "stream",
     "text": [
      "[500]\tcv_agg's l2: 0.155115 + 0.0186011\n",
      "Early stopping, best iteration is:\n",
      "[407]\tcv_agg's l2: 0.132727 + 0.028417\n",
      "[100]\tcv_agg's l2: 0.136559 + 0.029752\n",
      "[200]\tcv_agg's l2: 0.133364 + 0.0286051\n",
      "[300]\tcv_agg's l2: 0.132559 + 0.0284281\n",
      "[400]\tcv_agg's l2: 0.132337 + 0.0280948\n",
      "[500]\tcv_agg's l2: 0.131964 + 0.0278942\n",
      "[600]\tcv_agg's l2: 0.131824 + 0.0276625\n"
     ]
    },
    {
     "name": "stderr",
     "output_type": "stream",
     "text": [
      "bagging, val_score: 0.131784:  20%|##########6                                          | 2/10 [00:13<00:57,  7.17s/it][I 2023-11-24 14:58:33,854] Trial 28 finished with value: 0.13178393409997183 and parameters: {'bagging_fraction': 0.984534240713292, 'bagging_freq': 1}. Best is trial 28 with value: 0.13178393409997183.\n",
      "bagging, val_score: 0.131784:  20%|##########6                                          | 2/10 [00:13<00:57,  7.17s/it]"
     ]
    },
    {
     "name": "stdout",
     "output_type": "stream",
     "text": [
      "[700]\tcv_agg's l2: 0.131819 + 0.0274863\n",
      "Early stopping, best iteration is:\n",
      "[608]\tcv_agg's l2: 0.131784 + 0.0276333\n",
      "[100]\tcv_agg's l2: 0.136636 + 0.0300264\n",
      "[200]\tcv_agg's l2: 0.132089 + 0.0284555\n",
      "[300]\tcv_agg's l2: 0.130998 + 0.0282275\n",
      "[400]\tcv_agg's l2: 0.13074 + 0.0282462\n",
      "[500]\tcv_agg's l2: 0.130529 + 0.0281082\n"
     ]
    },
    {
     "name": "stderr",
     "output_type": "stream",
     "text": [
      "\r",
      "bagging, val_score: 0.130409:  20%|##########6                                          | 2/10 [00:20<00:57,  7.17s/it]"
     ]
    },
    {
     "name": "stdout",
     "output_type": "stream",
     "text": [
      "[600]\tcv_agg's l2: 0.130597 + 0.0279961\n",
      "Early stopping, best iteration is:\n",
      "[518]\tcv_agg's l2: 0.130409 + 0.0279803\n"
     ]
    },
    {
     "name": "stderr",
     "output_type": "stream",
     "text": [
      "bagging, val_score: 0.130409:  30%|###############9                                     | 3/10 [00:20<00:49,  7.09s/it][I 2023-11-24 14:58:40,862] Trial 29 finished with value: 0.13040925248046853 and parameters: {'bagging_fraction': 0.99779185607284, 'bagging_freq': 1}. Best is trial 29 with value: 0.13040925248046853.\n",
      "bagging, val_score: 0.130409:  30%|###############9                                     | 3/10 [00:20<00:49,  7.09s/it]"
     ]
    },
    {
     "name": "stdout",
     "output_type": "stream",
     "text": [
      "[100]\tcv_agg's l2: 0.14085 + 0.0326901\n",
      "[200]\tcv_agg's l2: 0.137734 + 0.0329484\n",
      "[300]\tcv_agg's l2: 0.137341 + 0.0327377\n",
      "[400]\tcv_agg's l2: 0.136588 + 0.0323242\n",
      "[500]\tcv_agg's l2: 0.136471 + 0.0320713\n",
      "[600]\tcv_agg's l2: 0.136505 + 0.0320085\n",
      "Early stopping, best iteration is:\n",
      "[518]\tcv_agg's l2: 0.130409 + 0.0279803\n"
     ]
    },
    {
     "name": "stderr",
     "output_type": "stream",
     "text": [
      "bagging, val_score: 0.130409:  40%|#####################2                               | 4/10 [00:29<00:45,  7.66s/it][I 2023-11-24 14:58:49,386] Trial 30 finished with value: 0.13639040287327495 and parameters: {'bagging_fraction': 0.9944739397993199, 'bagging_freq': 1}. Best is trial 29 with value: 0.13040925248046853.\n",
      "bagging, val_score: 0.130409:  40%|#####################2                               | 4/10 [00:29<00:45,  7.66s/it]"
     ]
    },
    {
     "name": "stdout",
     "output_type": "stream",
     "text": [
      "[100]\tcv_agg's l2: 0.137596 + 0.0307349\n",
      "[200]\tcv_agg's l2: 0.133443 + 0.0293999\n",
      "[300]\tcv_agg's l2: 0.132599 + 0.0288489\n",
      "[400]\tcv_agg's l2: 0.132366 + 0.0284377\n",
      "[500]\tcv_agg's l2: 0.132147 + 0.0281709\n"
     ]
    },
    {
     "name": "stderr",
     "output_type": "stream",
     "text": [
      "\r",
      "bagging, val_score: 0.130409:  40%|#####################2                               | 4/10 [00:36<00:45,  7.66s/it]"
     ]
    },
    {
     "name": "stdout",
     "output_type": "stream",
     "text": [
      "[600]\tcv_agg's l2: 0.132172 + 0.0279669\n",
      "Early stopping, best iteration is:\n",
      "[518]\tcv_agg's l2: 0.130409 + 0.0279803\n"
     ]
    },
    {
     "name": "stderr",
     "output_type": "stream",
     "text": [
      "bagging, val_score: 0.130409:  50%|##########################5                          | 5/10 [00:36<00:37,  7.58s/it][I 2023-11-24 14:58:56,832] Trial 31 finished with value: 0.1321769703224239 and parameters: {'bagging_fraction': 0.9650273198988965, 'bagging_freq': 1}. Best is trial 29 with value: 0.13040925248046853.\n",
      "bagging, val_score: 0.130409:  50%|##########################5                          | 5/10 [00:36<00:37,  7.58s/it]"
     ]
    },
    {
     "name": "stdout",
     "output_type": "stream",
     "text": [
      "[100]\tcv_agg's l2: 0.136636 + 0.0300264\n",
      "[200]\tcv_agg's l2: 0.132089 + 0.0284555\n",
      "[300]\tcv_agg's l2: 0.130998 + 0.0282275\n",
      "[400]\tcv_agg's l2: 0.13074 + 0.0282462\n",
      "[500]\tcv_agg's l2: 0.130529 + 0.0281082\n"
     ]
    },
    {
     "name": "stderr",
     "output_type": "stream",
     "text": [
      "\r",
      "bagging, val_score: 0.130409:  50%|##########################5                          | 5/10 [00:43<00:37,  7.58s/it]"
     ]
    },
    {
     "name": "stdout",
     "output_type": "stream",
     "text": [
      "[600]\tcv_agg's l2: 0.130597 + 0.0279961\n",
      "Early stopping, best iteration is:\n",
      "[518]\tcv_agg's l2: 0.130409 + 0.0279803\n"
     ]
    },
    {
     "name": "stderr",
     "output_type": "stream",
     "text": [
      "bagging, val_score: 0.130409:  60%|###############################8                     | 6/10 [00:43<00:29,  7.41s/it][I 2023-11-24 14:59:03,900] Trial 32 finished with value: 0.13040925248046853 and parameters: {'bagging_fraction': 0.997660118932066, 'bagging_freq': 1}. Best is trial 29 with value: 0.13040925248046853.\n",
      "bagging, val_score: 0.130409:  60%|###############################8                     | 6/10 [00:43<00:29,  7.41s/it]"
     ]
    },
    {
     "name": "stdout",
     "output_type": "stream",
     "text": [
      "[100]\tcv_agg's l2: 0.13819 + 0.0330635\n",
      "[200]\tcv_agg's l2: 0.135441 + 0.0336241\n",
      "[300]\tcv_agg's l2: 0.134695 + 0.0335639\n",
      "[400]\tcv_agg's l2: 0.134606 + 0.0332047\n",
      "[500]\tcv_agg's l2: 0.134591 + 0.0331265\n",
      "[600]\tcv_agg's l2: 0.13458 + 0.0329856\n"
     ]
    },
    {
     "name": "stderr",
     "output_type": "stream",
     "text": [
      "bagging, val_score: 0.130409:  70%|#####################################                | 7/10 [00:49<00:21,  7.09s/it][I 2023-11-24 14:59:10,339] Trial 33 finished with value: 0.13458790027712053 and parameters: {'bagging_fraction': 0.995611381226373, 'bagging_freq': 1}. Best is trial 29 with value: 0.13040925248046853.\n",
      "bagging, val_score: 0.130409:  70%|#####################################                | 7/10 [00:50<00:21,  7.09s/it]"
     ]
    },
    {
     "name": "stdout",
     "output_type": "stream",
     "text": [
      "Early stopping, best iteration is:\n",
      "[518]\tcv_agg's l2: 0.130409 + 0.0279803\n",
      "[100]\tcv_agg's l2: 0.141882 + 0.0286492\n",
      "[200]\tcv_agg's l2: 0.137198 + 0.0286165\n",
      "[300]\tcv_agg's l2: 0.136562 + 0.0287062\n",
      "[400]\tcv_agg's l2: 0.136146 + 0.0284788\n",
      "[500]\tcv_agg's l2: 0.135934 + 0.0283134\n"
     ]
    },
    {
     "name": "stderr",
     "output_type": "stream",
     "text": [
      "\r",
      "bagging, val_score: 0.130409:  70%|#####################################                | 7/10 [00:57<00:21,  7.09s/it]"
     ]
    },
    {
     "name": "stdout",
     "output_type": "stream",
     "text": [
      "[600]\tcv_agg's l2: 0.135996 + 0.0281828\n",
      "Early stopping, best iteration is:\n",
      "[518]\tcv_agg's l2: 0.130409 + 0.0279803\n"
     ]
    },
    {
     "name": "stderr",
     "output_type": "stream",
     "text": [
      "bagging, val_score: 0.130409:  80%|##########################################4          | 8/10 [00:57<00:14,  7.32s/it][I 2023-11-24 14:59:18,147] Trial 34 finished with value: 0.13593988471107538 and parameters: {'bagging_fraction': 0.9932803496891012, 'bagging_freq': 1}. Best is trial 29 with value: 0.13040925248046853.\n",
      "bagging, val_score: 0.130409:  80%|##########################################4          | 8/10 [00:57<00:14,  7.32s/it]"
     ]
    },
    {
     "name": "stdout",
     "output_type": "stream",
     "text": [
      "[100]\tcv_agg's l2: 0.137151 + 0.0330926\n",
      "[200]\tcv_agg's l2: 0.132903 + 0.0305653\n",
      "[300]\tcv_agg's l2: 0.131745 + 0.0302757\n",
      "[400]\tcv_agg's l2: 0.131502 + 0.0301125\n",
      "[500]\tcv_agg's l2: 0.131256 + 0.0297328\n"
     ]
    },
    {
     "name": "stderr",
     "output_type": "stream",
     "text": [
      "\r",
      "bagging, val_score: 0.130409:  80%|##########################################4          | 8/10 [01:04<00:14,  7.32s/it]"
     ]
    },
    {
     "name": "stdout",
     "output_type": "stream",
     "text": [
      "[600]\tcv_agg's l2: 0.131279 + 0.0296816\n",
      "Early stopping, best iteration is:\n",
      "[518]\tcv_agg's l2: 0.130409 + 0.0279803\n"
     ]
    },
    {
     "name": "stderr",
     "output_type": "stream",
     "text": [
      "bagging, val_score: 0.130409:  90%|###############################################7     | 9/10 [01:04<00:06,  7.00s/it][I 2023-11-24 14:59:24,440] Trial 35 finished with value: 0.13123135913858272 and parameters: {'bagging_fraction': 0.9962286187492115, 'bagging_freq': 1}. Best is trial 29 with value: 0.13040925248046853.\n",
      "bagging, val_score: 0.130409:  90%|###############################################7     | 9/10 [01:04<00:06,  7.00s/it]"
     ]
    },
    {
     "name": "stdout",
     "output_type": "stream",
     "text": [
      "[100]\tcv_agg's l2: 0.144804 + 0.0212902\n",
      "[200]\tcv_agg's l2: 0.140317 + 0.0186406\n",
      "[300]\tcv_agg's l2: 0.138304 + 0.0173395\n",
      "[400]\tcv_agg's l2: 0.137992 + 0.0173715\n",
      "[500]\tcv_agg's l2: 0.137846 + 0.0177806\n",
      "[600]\tcv_agg's l2: 0.137527 + 0.0179747\n",
      "Early stopping, best iteration is:\n",
      "[518]\tcv_agg's l2: 0.130409 + 0.0279803\n"
     ]
    },
    {
     "name": "stderr",
     "output_type": "stream",
     "text": [
      "bagging, val_score: 0.130409: 100%|####################################################| 10/10 [01:10<00:00,  6.89s/it][I 2023-11-24 14:59:31,092] Trial 36 finished with value: 0.13765681401262214 and parameters: {'bagging_fraction': 0.8640727487202531, 'bagging_freq': 3}. Best is trial 29 with value: 0.13040925248046853.\n",
      "bagging, val_score: 0.130409: 100%|####################################################| 10/10 [01:10<00:00,  7.08s/it]\n",
      "feature_fraction_stage2, val_score: 0.130409:   0%|                                              | 0/6 [00:00<?, ?it/s]"
     ]
    },
    {
     "name": "stdout",
     "output_type": "stream",
     "text": [
      "[100]\tcv_agg's l2: 0.156782 + 0.0314085\n",
      "[200]\tcv_agg's l2: 0.150988 + 0.0324973\n",
      "[300]\tcv_agg's l2: 0.149266 + 0.0326171\n",
      "[400]\tcv_agg's l2: 0.148922 + 0.0316428\n",
      "[500]\tcv_agg's l2: 0.148796 + 0.0314995\n",
      "[600]\tcv_agg's l2: 0.148793 + 0.0313425\n",
      "Early stopping, best iteration is:\n",
      "[518]\tcv_agg's l2: 0.130409 + 0.0279803\n"
     ]
    },
    {
     "name": "stderr",
     "output_type": "stream",
     "text": [
      "feature_fraction_stage2, val_score: 0.130409:  17%|######3                               | 1/6 [00:06<00:31,  6.22s/it][I 2023-11-24 14:59:37,323] Trial 37 finished with value: 0.1486952419945662 and parameters: {'feature_fraction': 0.52}. Best is trial 37 with value: 0.1486952419945662.\n",
      "feature_fraction_stage2, val_score: 0.130409:  17%|######3                               | 1/6 [00:06<00:31,  6.22s/it]"
     ]
    },
    {
     "name": "stdout",
     "output_type": "stream",
     "text": [
      "[100]\tcv_agg's l2: 0.136747 + 0.0282901\n",
      "[200]\tcv_agg's l2: 0.132746 + 0.0267531\n",
      "[300]\tcv_agg's l2: 0.132295 + 0.0268842\n",
      "[400]\tcv_agg's l2: 0.132224 + 0.0269081\n",
      "[500]\tcv_agg's l2: 0.13223 + 0.0269893\n"
     ]
    },
    {
     "name": "stderr",
     "output_type": "stream",
     "text": [
      "\r",
      "feature_fraction_stage2, val_score: 0.130409:  17%|######3                               | 1/6 [00:12<00:31,  6.22s/it]"
     ]
    },
    {
     "name": "stdout",
     "output_type": "stream",
     "text": [
      "[600]\tcv_agg's l2: 0.132305 + 0.0269142\n",
      "Early stopping, best iteration is:\n",
      "[518]\tcv_agg's l2: 0.130409 + 0.0279803\n"
     ]
    },
    {
     "name": "stderr",
     "output_type": "stream",
     "text": [
      "feature_fraction_stage2, val_score: 0.130409:  33%|############6                         | 2/6 [00:12<00:25,  6.38s/it][I 2023-11-24 14:59:43,820] Trial 38 finished with value: 0.13212829885740945 and parameters: {'feature_fraction': 0.616}. Best is trial 38 with value: 0.13212829885740945.\n",
      "feature_fraction_stage2, val_score: 0.130409:  33%|############6                         | 2/6 [00:12<00:25,  6.38s/it]"
     ]
    },
    {
     "name": "stdout",
     "output_type": "stream",
     "text": [
      "[100]\tcv_agg's l2: 0.140713 + 0.0339127\n",
      "[200]\tcv_agg's l2: 0.136247 + 0.0320545\n",
      "[300]\tcv_agg's l2: 0.136025 + 0.0316093\n",
      "[400]\tcv_agg's l2: 0.136107 + 0.0313833\n",
      "[500]\tcv_agg's l2: 0.136088 + 0.0312785\n"
     ]
    },
    {
     "name": "stderr",
     "output_type": "stream",
     "text": [
      "\r",
      "feature_fraction_stage2, val_score: 0.130409:  33%|############6                         | 2/6 [00:18<00:25,  6.38s/it]"
     ]
    },
    {
     "name": "stdout",
     "output_type": "stream",
     "text": [
      "[600]\tcv_agg's l2: 0.136105 + 0.0312\n",
      "Early stopping, best iteration is:\n",
      "[518]\tcv_agg's l2: 0.130409 + 0.0279803\n"
     ]
    },
    {
     "name": "stderr",
     "output_type": "stream",
     "text": [
      "feature_fraction_stage2, val_score: 0.130409:  50%|###################                   | 3/6 [00:18<00:19,  6.34s/it][I 2023-11-24 14:59:50,099] Trial 39 finished with value: 0.13612130171532713 and parameters: {'feature_fraction': 0.552}. Best is trial 38 with value: 0.13212829885740945.\n",
      "feature_fraction_stage2, val_score: 0.130409:  50%|###################                   | 3/6 [00:19<00:19,  6.34s/it]"
     ]
    },
    {
     "name": "stdout",
     "output_type": "stream",
     "text": [
      "[100]\tcv_agg's l2: 0.137997 + 0.0328915\n",
      "[200]\tcv_agg's l2: 0.135068 + 0.0309103\n",
      "[300]\tcv_agg's l2: 0.134446 + 0.030301\n",
      "[400]\tcv_agg's l2: 0.134606 + 0.0306853\n",
      "[500]\tcv_agg's l2: 0.134742 + 0.0308427\n",
      "[600]\tcv_agg's l2: 0.134727 + 0.0308241\n"
     ]
    },
    {
     "name": "stderr",
     "output_type": "stream",
     "text": [
      "feature_fraction_stage2, val_score: 0.130409:  67%|#########################3            | 4/6 [00:25<00:12,  6.25s/it][I 2023-11-24 14:59:56,215] Trial 40 finished with value: 0.13473822556798704 and parameters: {'feature_fraction': 0.6479999999999999}. Best is trial 38 with value: 0.13212829885740945.\n",
      "feature_fraction_stage2, val_score: 0.130409:  67%|#########################3            | 4/6 [00:25<00:12,  6.25s/it]"
     ]
    },
    {
     "name": "stdout",
     "output_type": "stream",
     "text": [
      "Early stopping, best iteration is:\n",
      "[518]\tcv_agg's l2: 0.130409 + 0.0279803\n",
      "[100]\tcv_agg's l2: 0.135312 + 0.0307867\n",
      "[200]\tcv_agg's l2: 0.132316 + 0.0310345\n",
      "[300]\tcv_agg's l2: 0.131824 + 0.0305716\n",
      "[400]\tcv_agg's l2: 0.131252 + 0.0307653\n",
      "[500]\tcv_agg's l2: 0.131137 + 0.0307045\n"
     ]
    },
    {
     "name": "stderr",
     "output_type": "stream",
     "text": [
      "\r",
      "feature_fraction_stage2, val_score: 0.130409:  67%|#########################3            | 4/6 [00:31<00:12,  6.25s/it]"
     ]
    },
    {
     "name": "stdout",
     "output_type": "stream",
     "text": [
      "[600]\tcv_agg's l2: 0.131185 + 0.0308308\n",
      "Early stopping, best iteration is:\n",
      "[518]\tcv_agg's l2: 0.130409 + 0.0279803\n"
     ]
    },
    {
     "name": "stderr",
     "output_type": "stream",
     "text": [
      "feature_fraction_stage2, val_score: 0.130409:  83%|###############################6      | 5/6 [00:31<00:06,  6.40s/it][I 2023-11-24 15:00:02,894] Trial 41 finished with value: 0.1311199762541094 and parameters: {'feature_fraction': 0.6799999999999999}. Best is trial 41 with value: 0.1311199762541094.\n",
      "feature_fraction_stage2, val_score: 0.130409:  83%|###############################6      | 5/6 [00:31<00:06,  6.40s/it]"
     ]
    },
    {
     "name": "stdout",
     "output_type": "stream",
     "text": [
      "[100]\tcv_agg's l2: 0.139808 + 0.0329047\n",
      "[200]\tcv_agg's l2: 0.137561 + 0.0321583\n",
      "[300]\tcv_agg's l2: 0.137414 + 0.0315912\n",
      "[400]\tcv_agg's l2: 0.137578 + 0.031911\n",
      "[500]\tcv_agg's l2: 0.137539 + 0.0320488\n",
      "[600]\tcv_agg's l2: 0.137648 + 0.0319348\n",
      "Early stopping, best iteration is:\n",
      "[518]\tcv_agg's l2: 0.130409 + 0.0279803\n"
     ]
    },
    {
     "name": "stderr",
     "output_type": "stream",
     "text": [
      "feature_fraction_stage2, val_score: 0.130409: 100%|######################################| 6/6 [00:38<00:00,  6.41s/it][I 2023-11-24 15:00:09,304] Trial 42 finished with value: 0.13760077457698822 and parameters: {'feature_fraction': 0.584}. Best is trial 41 with value: 0.1311199762541094.\n",
      "feature_fraction_stage2, val_score: 0.130409: 100%|######################################| 6/6 [00:38<00:00,  6.37s/it]\n",
      "regularization_factors, val_score: 0.130409:   0%|                                              | 0/20 [00:00<?, ?it/s]"
     ]
    },
    {
     "name": "stdout",
     "output_type": "stream",
     "text": [
      "[100]\tcv_agg's l2: 0.141744 + 0.0342192\n",
      "[200]\tcv_agg's l2: 0.136799 + 0.0347613\n",
      "[300]\tcv_agg's l2: 0.136329 + 0.0343976\n",
      "[400]\tcv_agg's l2: 0.136458 + 0.0344166\n",
      "[500]\tcv_agg's l2: 0.136458 + 0.0344166\n"
     ]
    },
    {
     "name": "stderr",
     "output_type": "stream",
     "text": [
      "regularization_factors, val_score: 0.130409:   5%|#9                                    | 1/20 [00:03<01:01,  3.22s/it][I 2023-11-24 15:00:12,526] Trial 43 finished with value: 0.1364584657427211 and parameters: {'lambda_l1': 0.4699613404481031, 'lambda_l2': 1.181012874134668e-08}. Best is trial 43 with value: 0.1364584657427211.\n",
      "regularization_factors, val_score: 0.130409:   5%|#9                                    | 1/20 [00:03<01:01,  3.22s/it]"
     ]
    },
    {
     "name": "stdout",
     "output_type": "stream",
     "text": [
      "[600]\tcv_agg's l2: 0.136458 + 0.0344166\n",
      "Early stopping, best iteration is:\n",
      "[518]\tcv_agg's l2: 0.130409 + 0.0279803\n",
      "[100]\tcv_agg's l2: 0.146796 + 0.0331879\n",
      "[200]\tcv_agg's l2: 0.141322 + 0.0311646\n",
      "[300]\tcv_agg's l2: 0.14011 + 0.0310431\n",
      "[400]\tcv_agg's l2: 0.139661 + 0.0306511\n",
      "[500]\tcv_agg's l2: 0.139569 + 0.0303233\n"
     ]
    },
    {
     "name": "stderr",
     "output_type": "stream",
     "text": [
      "regularization_factors, val_score: 0.130409:  10%|###8                                  | 2/20 [00:09<01:25,  4.75s/it][I 2023-11-24 15:00:18,352] Trial 44 finished with value: 0.13952478154350811 and parameters: {'lambda_l1': 1.2379217560986747e-08, 'lambda_l2': 3.582872409210823}. Best is trial 43 with value: 0.1364584657427211.\n",
      "regularization_factors, val_score: 0.130409:  10%|###8                                  | 2/20 [00:09<01:25,  4.75s/it]"
     ]
    },
    {
     "name": "stdout",
     "output_type": "stream",
     "text": [
      "[600]\tcv_agg's l2: 0.139453 + 0.030442\n",
      "Early stopping, best iteration is:\n",
      "[518]\tcv_agg's l2: 0.130409 + 0.0279803\n",
      "[100]\tcv_agg's l2: 0.199602 + 0.0398559\n",
      "[200]\tcv_agg's l2: 0.198357 + 0.0398786\n",
      "[300]\tcv_agg's l2: 0.198355 + 0.0398802\n",
      "[400]\tcv_agg's l2: 0.198355 + 0.0398802\n",
      "[500]\tcv_agg's l2: 0.198355 + 0.0398802\n"
     ]
    },
    {
     "name": "stderr",
     "output_type": "stream",
     "text": [
      "regularization_factors, val_score: 0.130409:  15%|#####7                                | 3/20 [00:10<00:56,  3.33s/it][I 2023-11-24 15:00:20,001] Trial 45 finished with value: 0.19835527798578084 and parameters: {'lambda_l1': 9.0229665242835, 'lambda_l2': 0.0002064201574727185}. Best is trial 43 with value: 0.1364584657427211.\n",
      "regularization_factors, val_score: 0.130409:  15%|#####7                                | 3/20 [00:10<00:56,  3.33s/it]"
     ]
    },
    {
     "name": "stdout",
     "output_type": "stream",
     "text": [
      "[600]\tcv_agg's l2: 0.198355 + 0.0398802\n",
      "Early stopping, best iteration is:\n",
      "[518]\tcv_agg's l2: 0.130409 + 0.0279803\n",
      "[100]\tcv_agg's l2: 0.14746 + 0.0248579\n",
      "[200]\tcv_agg's l2: 0.140117 + 0.0241659\n",
      "[300]\tcv_agg's l2: 0.138699 + 0.023944\n",
      "[400]\tcv_agg's l2: 0.138028 + 0.0239312\n",
      "[500]\tcv_agg's l2: 0.137759 + 0.0239449\n"
     ]
    },
    {
     "name": "stderr",
     "output_type": "stream",
     "text": [
      "\r",
      "regularization_factors, val_score: 0.130409:  15%|#####7                                | 3/20 [00:18<00:56,  3.33s/it]"
     ]
    },
    {
     "name": "stdout",
     "output_type": "stream",
     "text": [
      "[600]\tcv_agg's l2: 0.137918 + 0.0240215\n",
      "Early stopping, best iteration is:\n",
      "[518]\tcv_agg's l2: 0.130409 + 0.0279803\n"
     ]
    },
    {
     "name": "stderr",
     "output_type": "stream",
     "text": [
      "regularization_factors, val_score: 0.130409:  20%|#######6                              | 4/20 [00:18<01:19,  4.94s/it][I 2023-11-24 15:00:27,405] Trial 46 finished with value: 0.1377190735871658 and parameters: {'lambda_l1': 2.445865575326893e-05, 'lambda_l2': 6.738580051425716}. Best is trial 43 with value: 0.1364584657427211.\n",
      "regularization_factors, val_score: 0.130409:  20%|#######6                              | 4/20 [00:18<01:19,  4.94s/it]"
     ]
    },
    {
     "name": "stdout",
     "output_type": "stream",
     "text": [
      "[100]\tcv_agg's l2: 0.138119 + 0.0321985\n",
      "[200]\tcv_agg's l2: 0.134301 + 0.0299198\n",
      "[300]\tcv_agg's l2: 0.1337 + 0.0295277\n",
      "[400]\tcv_agg's l2: 0.13389 + 0.0293922\n",
      "[500]\tcv_agg's l2: 0.133965 + 0.0292736\n"
     ]
    },
    {
     "name": "stderr",
     "output_type": "stream",
     "text": [
      "regularization_factors, val_score: 0.130409:  25%|#########5                            | 5/20 [00:24<01:20,  5.40s/it][I 2023-11-24 15:00:33,608] Trial 47 finished with value: 0.13400735746670608 and parameters: {'lambda_l1': 0.002746787568273952, 'lambda_l2': 1.1196036621045407e-08}. Best is trial 47 with value: 0.13400735746670608.\n",
      "regularization_factors, val_score: 0.130409:  25%|#########5                            | 5/20 [00:24<01:20,  5.40s/it]"
     ]
    },
    {
     "name": "stdout",
     "output_type": "stream",
     "text": [
      "[600]\tcv_agg's l2: 0.134047 + 0.0291849\n",
      "Early stopping, best iteration is:\n",
      "[518]\tcv_agg's l2: 0.130409 + 0.0279803\n",
      "[100]\tcv_agg's l2: 0.136972 + 0.0296652\n",
      "[200]\tcv_agg's l2: 0.1335 + 0.0282207\n",
      "[300]\tcv_agg's l2: 0.132945 + 0.0277907\n",
      "[400]\tcv_agg's l2: 0.132486 + 0.027876\n",
      "[500]\tcv_agg's l2: 0.132277 + 0.0276793\n",
      "[600]\tcv_agg's l2: 0.132223 + 0.0275419\n"
     ]
    },
    {
     "name": "stderr",
     "output_type": "stream",
     "text": [
      "regularization_factors, val_score: 0.130409:  30%|###########4                          | 6/20 [00:30<01:20,  5.75s/it][I 2023-11-24 15:00:40,047] Trial 48 finished with value: 0.1322358303115197 and parameters: {'lambda_l1': 1.3195000444196957e-08, 'lambda_l2': 0.0010831442516516568}. Best is trial 48 with value: 0.1322358303115197.\n",
      "regularization_factors, val_score: 0.130409:  30%|###########4                          | 6/20 [00:30<01:20,  5.75s/it]"
     ]
    },
    {
     "name": "stdout",
     "output_type": "stream",
     "text": [
      "Early stopping, best iteration is:\n",
      "[518]\tcv_agg's l2: 0.130409 + 0.0279803\n",
      "[100]\tcv_agg's l2: 0.136191 + 0.030529\n",
      "[200]\tcv_agg's l2: 0.132771 + 0.0302546\n",
      "[300]\tcv_agg's l2: 0.132071 + 0.0299862\n",
      "[400]\tcv_agg's l2: 0.131852 + 0.029692\n",
      "[500]\tcv_agg's l2: 0.131939 + 0.0295583\n",
      "[600]\tcv_agg's l2: 0.131923 + 0.0293928\n",
      "Early stopping, best iteration is:\n",
      "[518]\tcv_agg's l2: 0.130409 + 0.0279803\n"
     ]
    },
    {
     "name": "stderr",
     "output_type": "stream",
     "text": [
      "regularization_factors, val_score: 0.130409:  35%|#############3                        | 7/20 [00:37<01:17,  5.99s/it][I 2023-11-24 15:00:46,536] Trial 49 finished with value: 0.1319102403587222 and parameters: {'lambda_l1': 2.75652785071742e-05, 'lambda_l2': 1.1584857703566885e-05}. Best is trial 49 with value: 0.1319102403587222.\n",
      "regularization_factors, val_score: 0.130409:  35%|#############3                        | 7/20 [00:37<01:17,  5.99s/it]"
     ]
    },
    {
     "name": "stdout",
     "output_type": "stream",
     "text": [
      "[100]\tcv_agg's l2: 0.13788 + 0.0307485\n",
      "[200]\tcv_agg's l2: 0.134856 + 0.0293323\n",
      "[300]\tcv_agg's l2: 0.133825 + 0.0298909\n",
      "[400]\tcv_agg's l2: 0.133745 + 0.0298796\n",
      "[500]\tcv_agg's l2: 0.133537 + 0.0296705\n"
     ]
    },
    {
     "name": "stderr",
     "output_type": "stream",
     "text": [
      "\r",
      "regularization_factors, val_score: 0.130409:  35%|#############3                        | 7/20 [00:43<01:17,  5.99s/it]"
     ]
    },
    {
     "name": "stdout",
     "output_type": "stream",
     "text": [
      "[600]\tcv_agg's l2: 0.13339 + 0.0295357\n",
      "Early stopping, best iteration is:\n",
      "[518]\tcv_agg's l2: 0.130409 + 0.0279803\n"
     ]
    },
    {
     "name": "stderr",
     "output_type": "stream",
     "text": [
      "regularization_factors, val_score: 0.130409:  40%|###############2                      | 8/20 [00:43<01:13,  6.13s/it][I 2023-11-24 15:00:52,971] Trial 50 finished with value: 0.13346438374366196 and parameters: {'lambda_l1': 0.014814138564891223, 'lambda_l2': 0.02354794473542092}. Best is trial 49 with value: 0.1319102403587222.\n",
      "regularization_factors, val_score: 0.130409:  40%|###############2                      | 8/20 [00:43<01:13,  6.13s/it]"
     ]
    },
    {
     "name": "stdout",
     "output_type": "stream",
     "text": [
      "[100]\tcv_agg's l2: 0.136191 + 0.030529\n",
      "[200]\tcv_agg's l2: 0.132771 + 0.0302546\n",
      "[300]\tcv_agg's l2: 0.132071 + 0.0299862\n",
      "[400]\tcv_agg's l2: 0.131929 + 0.0298184\n",
      "[500]\tcv_agg's l2: 0.132055 + 0.0297476\n"
     ]
    },
    {
     "name": "stderr",
     "output_type": "stream",
     "text": [
      "\r",
      "regularization_factors, val_score: 0.130409:  40%|###############2                      | 8/20 [00:50<01:13,  6.13s/it]"
     ]
    },
    {
     "name": "stdout",
     "output_type": "stream",
     "text": [
      "[600]\tcv_agg's l2: 0.132048 + 0.0295978\n",
      "Early stopping, best iteration is:\n",
      "[518]\tcv_agg's l2: 0.130409 + 0.0279803\n"
     ]
    },
    {
     "name": "stderr",
     "output_type": "stream",
     "text": [
      "regularization_factors, val_score: 0.130409:  45%|#################1                    | 9/20 [00:50<01:08,  6.20s/it][I 2023-11-24 15:00:59,333] Trial 51 finished with value: 0.1320062076456079 and parameters: {'lambda_l1': 2.6328785758839572e-05, 'lambda_l2': 6.286697793907589e-06}. Best is trial 49 with value: 0.1319102403587222.\n",
      "regularization_factors, val_score: 0.130409:  45%|#################1                    | 9/20 [00:50<01:08,  6.20s/it]"
     ]
    },
    {
     "name": "stdout",
     "output_type": "stream",
     "text": [
      "[100]\tcv_agg's l2: 0.136558 + 0.0301257\n",
      "[200]\tcv_agg's l2: 0.132638 + 0.0292404\n",
      "[300]\tcv_agg's l2: 0.131913 + 0.0292643\n",
      "[400]\tcv_agg's l2: 0.131753 + 0.0289138\n",
      "[500]\tcv_agg's l2: 0.131629 + 0.0285019\n"
     ]
    },
    {
     "name": "stderr",
     "output_type": "stream",
     "text": [
      "regularization_factors, val_score: 0.130409:  50%|##################5                  | 10/20 [00:56<01:03,  6.37s/it][I 2023-11-24 15:01:06,070] Trial 52 finished with value: 0.13160146007593798 and parameters: {'lambda_l1': 3.0054133160493486e-06, 'lambda_l2': 1.0676909991944496e-06}. Best is trial 52 with value: 0.13160146007593798.\n",
      "regularization_factors, val_score: 0.130409:  50%|##################5                  | 10/20 [00:56<01:03,  6.37s/it]"
     ]
    },
    {
     "name": "stdout",
     "output_type": "stream",
     "text": [
      "[600]\tcv_agg's l2: 0.131604 + 0.0285134\n",
      "Early stopping, best iteration is:\n",
      "[518]\tcv_agg's l2: 0.130409 + 0.0279803\n",
      "[100]\tcv_agg's l2: 0.136447 + 0.0297494\n",
      "[200]\tcv_agg's l2: 0.132218 + 0.0286584\n",
      "[300]\tcv_agg's l2: 0.131085 + 0.0282873\n",
      "[400]\tcv_agg's l2: 0.130861 + 0.0283295\n",
      "[500]\tcv_agg's l2: 0.130725 + 0.0283761\n"
     ]
    },
    {
     "name": "stderr",
     "output_type": "stream",
     "text": [
      "\r",
      "regularization_factors, val_score: 0.130409:  50%|##################5                  | 10/20 [01:03<01:03,  6.37s/it]"
     ]
    },
    {
     "name": "stdout",
     "output_type": "stream",
     "text": [
      "[600]\tcv_agg's l2: 0.130694 + 0.0284054\n",
      "Early stopping, best iteration is:\n",
      "[518]\tcv_agg's l2: 0.130409 + 0.0279803\n"
     ]
    },
    {
     "name": "stderr",
     "output_type": "stream",
     "text": [
      "regularization_factors, val_score: 0.130409:  55%|####################3                | 11/20 [01:03<00:57,  6.34s/it][I 2023-11-24 15:01:12,351] Trial 53 finished with value: 0.1306793489212357 and parameters: {'lambda_l1': 3.778655217302867e-07, 'lambda_l2': 2.360461895909894e-07}. Best is trial 53 with value: 0.1306793489212357.\n",
      "regularization_factors, val_score: 0.130409:  55%|####################3                | 11/20 [01:03<00:57,  6.34s/it]"
     ]
    },
    {
     "name": "stdout",
     "output_type": "stream",
     "text": [
      "[100]\tcv_agg's l2: 0.136447 + 0.0297494\n",
      "[200]\tcv_agg's l2: 0.132215 + 0.028654\n",
      "[300]\tcv_agg's l2: 0.131342 + 0.0287014\n",
      "[400]\tcv_agg's l2: 0.13102 + 0.028588\n",
      "[500]\tcv_agg's l2: 0.13095 + 0.0288054\n",
      "[600]\tcv_agg's l2: 0.1308 + 0.0287176\n"
     ]
    },
    {
     "name": "stderr",
     "output_type": "stream",
     "text": [
      "regularization_factors, val_score: 0.130409:  60%|######################2              | 12/20 [01:09<00:50,  6.26s/it][I 2023-11-24 15:01:18,433] Trial 54 finished with value: 0.13086475510692458 and parameters: {'lambda_l1': 6.21195491919434e-07, 'lambda_l2': 6.661483124007349e-07}. Best is trial 53 with value: 0.1306793489212357.\n",
      "regularization_factors, val_score: 0.130409:  60%|######################2              | 12/20 [01:09<00:50,  6.26s/it]"
     ]
    },
    {
     "name": "stdout",
     "output_type": "stream",
     "text": [
      "Early stopping, best iteration is:\n",
      "[518]\tcv_agg's l2: 0.130409 + 0.0279803\n",
      "[100]\tcv_agg's l2: 0.136447 + 0.0297494\n",
      "[200]\tcv_agg's l2: 0.132218 + 0.0286584\n",
      "[300]\tcv_agg's l2: 0.131085 + 0.0282873\n",
      "[400]\tcv_agg's l2: 0.130861 + 0.0283295\n",
      "[500]\tcv_agg's l2: 0.130725 + 0.0283761\n"
     ]
    },
    {
     "name": "stderr",
     "output_type": "stream",
     "text": [
      "\r",
      "regularization_factors, val_score: 0.130409:  60%|######################2              | 12/20 [01:16<00:50,  6.26s/it]"
     ]
    },
    {
     "name": "stdout",
     "output_type": "stream",
     "text": [
      "[600]\tcv_agg's l2: 0.130694 + 0.0284054\n",
      "Early stopping, best iteration is:\n",
      "[518]\tcv_agg's l2: 0.130409 + 0.0279803\n"
     ]
    },
    {
     "name": "stderr",
     "output_type": "stream",
     "text": [
      "regularization_factors, val_score: 0.130409:  65%|########################             | 13/20 [01:16<00:46,  6.62s/it][I 2023-11-24 15:01:25,882] Trial 55 finished with value: 0.13067934901902958 and parameters: {'lambda_l1': 4.040071786992923e-07, 'lambda_l2': 2.732504607838942e-07}. Best is trial 53 with value: 0.1306793489212357.\n",
      "regularization_factors, val_score: 0.130409:  65%|########################             | 13/20 [01:16<00:46,  6.62s/it]"
     ]
    },
    {
     "name": "stdout",
     "output_type": "stream",
     "text": [
      "[100]\tcv_agg's l2: 0.136447 + 0.0297494\n",
      "[200]\tcv_agg's l2: 0.132215 + 0.028654\n",
      "[300]\tcv_agg's l2: 0.131342 + 0.0287014\n",
      "[400]\tcv_agg's l2: 0.13102 + 0.028588\n",
      "[500]\tcv_agg's l2: 0.130972 + 0.0287801\n"
     ]
    },
    {
     "name": "stderr",
     "output_type": "stream",
     "text": [
      "\r",
      "regularization_factors, val_score: 0.130409:  65%|########################             | 13/20 [01:22<00:46,  6.62s/it]"
     ]
    },
    {
     "name": "stdout",
     "output_type": "stream",
     "text": [
      "[600]\tcv_agg's l2: 0.130854 + 0.0286682\n",
      "Early stopping, best iteration is:\n",
      "[518]\tcv_agg's l2: 0.130409 + 0.0279803\n"
     ]
    },
    {
     "name": "stderr",
     "output_type": "stream",
     "text": [
      "regularization_factors, val_score: 0.130409:  70%|#########################9           | 14/20 [01:22<00:39,  6.55s/it][I 2023-11-24 15:01:32,276] Trial 56 finished with value: 0.1308894419764814 and parameters: {'lambda_l1': 5.518017198882714e-07, 'lambda_l2': 2.739947009608172e-07}. Best is trial 53 with value: 0.1306793489212357.\n",
      "regularization_factors, val_score: 0.130409:  70%|#########################9           | 14/20 [01:22<00:39,  6.55s/it]"
     ]
    },
    {
     "name": "stdout",
     "output_type": "stream",
     "text": [
      "[100]\tcv_agg's l2: 0.136447 + 0.0297494\n",
      "[200]\tcv_agg's l2: 0.132215 + 0.028654\n",
      "[300]\tcv_agg's l2: 0.131342 + 0.0287014\n",
      "[400]\tcv_agg's l2: 0.13102 + 0.028588\n",
      "[500]\tcv_agg's l2: 0.13095 + 0.0288054\n"
     ]
    },
    {
     "name": "stderr",
     "output_type": "stream",
     "text": [
      "regularization_factors, val_score: 0.130409:  75%|###########################7         | 15/20 [01:29<00:32,  6.51s/it][I 2023-11-24 15:01:38,672] Trial 57 finished with value: 0.1308647549943492 and parameters: {'lambda_l1': 6.139613942139691e-07, 'lambda_l2': 3.1060996840732924e-07}. Best is trial 53 with value: 0.1306793489212357.\n",
      "regularization_factors, val_score: 0.130409:  75%|###########################7         | 15/20 [01:29<00:32,  6.51s/it]"
     ]
    },
    {
     "name": "stdout",
     "output_type": "stream",
     "text": [
      "[600]\tcv_agg's l2: 0.1308 + 0.0287176\n",
      "Early stopping, best iteration is:\n",
      "[518]\tcv_agg's l2: 0.130409 + 0.0279803\n",
      "[100]\tcv_agg's l2: 0.136447 + 0.0297494\n",
      "[200]\tcv_agg's l2: 0.132218 + 0.0286584\n",
      "[300]\tcv_agg's l2: 0.131085 + 0.0282873\n",
      "[400]\tcv_agg's l2: 0.130861 + 0.0283295\n",
      "[500]\tcv_agg's l2: 0.130725 + 0.0283761\n"
     ]
    },
    {
     "name": "stderr",
     "output_type": "stream",
     "text": [
      "\r",
      "regularization_factors, val_score: 0.130409:  75%|###########################7         | 15/20 [01:35<00:32,  6.51s/it]"
     ]
    },
    {
     "name": "stdout",
     "output_type": "stream",
     "text": [
      "[600]\tcv_agg's l2: 0.130694 + 0.0284054\n",
      "Early stopping, best iteration is:\n",
      "[518]\tcv_agg's l2: 0.130409 + 0.0279803\n"
     ]
    },
    {
     "name": "stderr",
     "output_type": "stream",
     "text": [
      "regularization_factors, val_score: 0.130409:  80%|#############################6       | 16/20 [01:35<00:25,  6.49s/it][I 2023-11-24 15:01:45,110] Trial 58 finished with value: 0.1306793490396402 and parameters: {'lambda_l1': 2.983719802158214e-07, 'lambda_l2': 1.5372520308638286e-07}. Best is trial 53 with value: 0.1306793489212357.\n",
      "regularization_factors, val_score: 0.130409:  80%|#############################6       | 16/20 [01:35<00:25,  6.49s/it]"
     ]
    },
    {
     "name": "stdout",
     "output_type": "stream",
     "text": [
      "[100]\tcv_agg's l2: 0.136447 + 0.0297494\n",
      "[200]\tcv_agg's l2: 0.132218 + 0.0286584\n",
      "[300]\tcv_agg's l2: 0.131039 + 0.0282933\n",
      "[400]\tcv_agg's l2: 0.130758 + 0.0283533\n",
      "[500]\tcv_agg's l2: 0.130754 + 0.0282462\n"
     ]
    },
    {
     "name": "stderr",
     "output_type": "stream",
     "text": [
      "\r",
      "regularization_factors, val_score: 0.130409:  80%|#############################6       | 16/20 [01:42<00:25,  6.49s/it]"
     ]
    },
    {
     "name": "stdout",
     "output_type": "stream",
     "text": [
      "[600]\tcv_agg's l2: 0.130829 + 0.0281758\n",
      "Early stopping, best iteration is:\n",
      "[518]\tcv_agg's l2: 0.130409 + 0.0279803\n"
     ]
    },
    {
     "name": "stderr",
     "output_type": "stream",
     "text": [
      "regularization_factors, val_score: 0.130409:  85%|###############################4     | 17/20 [01:42<00:19,  6.64s/it][I 2023-11-24 15:01:52,093] Trial 59 finished with value: 0.13074540010571634 and parameters: {'lambda_l1': 1.3192990088990308e-07, 'lambda_l2': 1.0561904229836239e-07}. Best is trial 53 with value: 0.1306793489212357.\n",
      "regularization_factors, val_score: 0.130409:  85%|###############################4     | 17/20 [01:42<00:19,  6.64s/it]"
     ]
    },
    {
     "name": "stdout",
     "output_type": "stream",
     "text": [
      "[100]\tcv_agg's l2: 0.136447 + 0.0297494\n",
      "[200]\tcv_agg's l2: 0.132218 + 0.0286584\n",
      "[300]\tcv_agg's l2: 0.131039 + 0.0282933\n",
      "[400]\tcv_agg's l2: 0.130758 + 0.0283533\n",
      "[500]\tcv_agg's l2: 0.130754 + 0.0282462\n"
     ]
    },
    {
     "name": "stderr",
     "output_type": "stream",
     "text": [
      "\r",
      "regularization_factors, val_score: 0.130409:  85%|###############################4     | 17/20 [01:48<00:19,  6.64s/it]"
     ]
    },
    {
     "name": "stdout",
     "output_type": "stream",
     "text": [
      "[600]\tcv_agg's l2: 0.130829 + 0.0281758\n",
      "Early stopping, best iteration is:\n",
      "[518]\tcv_agg's l2: 0.130409 + 0.0279803\n"
     ]
    },
    {
     "name": "stderr",
     "output_type": "stream",
     "text": [
      "regularization_factors, val_score: 0.130409:  90%|#################################3   | 18/20 [01:48<00:12,  6.50s/it][I 2023-11-24 15:01:58,266] Trial 60 finished with value: 0.13074540002830765 and parameters: {'lambda_l1': 1.222374060026405e-07, 'lambda_l2': 5.5676179137088956e-08}. Best is trial 53 with value: 0.1306793489212357.\n",
      "regularization_factors, val_score: 0.130409:  90%|#################################3   | 18/20 [01:48<00:12,  6.50s/it]"
     ]
    },
    {
     "name": "stdout",
     "output_type": "stream",
     "text": [
      "[100]\tcv_agg's l2: 0.136447 + 0.0297494\n",
      "[200]\tcv_agg's l2: 0.132218 + 0.0286584\n",
      "[300]\tcv_agg's l2: 0.131039 + 0.0282933\n",
      "[400]\tcv_agg's l2: 0.130758 + 0.0283533\n",
      "[500]\tcv_agg's l2: 0.130754 + 0.0282462\n"
     ]
    },
    {
     "name": "stderr",
     "output_type": "stream",
     "text": [
      "\r",
      "regularization_factors, val_score: 0.130409:  90%|#################################3   | 18/20 [01:54<00:12,  6.50s/it]"
     ]
    },
    {
     "name": "stdout",
     "output_type": "stream",
     "text": [
      "[600]\tcv_agg's l2: 0.130829 + 0.0281758\n",
      "Early stopping, best iteration is:\n",
      "[518]\tcv_agg's l2: 0.130409 + 0.0279803\n"
     ]
    },
    {
     "name": "stderr",
     "output_type": "stream",
     "text": [
      "regularization_factors, val_score: 0.130409:  95%|###################################1 | 19/20 [01:54<00:06,  6.35s/it][I 2023-11-24 15:02:04,268] Trial 61 finished with value: 0.1307454000481082 and parameters: {'lambda_l1': 1.139844951521919e-07, 'lambda_l2': 5.961198724996127e-08}. Best is trial 53 with value: 0.1306793489212357.\n",
      "regularization_factors, val_score: 0.130409:  95%|###################################1 | 19/20 [01:54<00:06,  6.35s/it]"
     ]
    },
    {
     "name": "stdout",
     "output_type": "stream",
     "text": [
      "[100]\tcv_agg's l2: 0.136447 + 0.0297494\n",
      "[200]\tcv_agg's l2: 0.132218 + 0.0286584\n",
      "[300]\tcv_agg's l2: 0.131039 + 0.0282933\n",
      "[400]\tcv_agg's l2: 0.130758 + 0.0283533\n",
      "[500]\tcv_agg's l2: 0.130754 + 0.0282462\n"
     ]
    },
    {
     "name": "stderr",
     "output_type": "stream",
     "text": [
      "\r",
      "regularization_factors, val_score: 0.130409:  95%|###################################1 | 19/20 [02:01<00:06,  6.35s/it]"
     ]
    },
    {
     "name": "stdout",
     "output_type": "stream",
     "text": [
      "[600]\tcv_agg's l2: 0.130829 + 0.0281758\n",
      "Early stopping, best iteration is:\n",
      "[518]\tcv_agg's l2: 0.130409 + 0.0279803\n"
     ]
    },
    {
     "name": "stderr",
     "output_type": "stream",
     "text": [
      "regularization_factors, val_score: 0.130409: 100%|#####################################| 20/20 [02:01<00:00,  6.52s/it][I 2023-11-24 15:02:11,205] Trial 62 finished with value: 0.13074540011441288 and parameters: {'lambda_l1': 1.1498538706525056e-07, 'lambda_l2': 4.460114431589524e-08}. Best is trial 53 with value: 0.1306793489212357.\n",
      "regularization_factors, val_score: 0.130409: 100%|#####################################| 20/20 [02:01<00:00,  6.09s/it]\n",
      "min_data_in_leaf, val_score: 0.130409:   0%|                                                     | 0/5 [00:00<?, ?it/s]"
     ]
    },
    {
     "name": "stdout",
     "output_type": "stream",
     "text": [
      "[100]\tcv_agg's l2: 0.156981 + 0.0329564\n",
      "[200]\tcv_agg's l2: 0.151138 + 0.0318929\n",
      "[300]\tcv_agg's l2: 0.14997 + 0.0325351\n",
      "[400]\tcv_agg's l2: 0.15028 + 0.0326327\n",
      "[500]\tcv_agg's l2: 0.150623 + 0.031793\n"
     ]
    },
    {
     "name": "stderr",
     "output_type": "stream",
     "text": [
      "min_data_in_leaf, val_score: 0.130409:  20%|#########                                    | 1/5 [00:05<00:20,  5.15s/it][I 2023-11-24 15:02:16,367] Trial 63 finished with value: 0.15064623195435792 and parameters: {'min_child_samples': 25}. Best is trial 63 with value: 0.15064623195435792.\n",
      "min_data_in_leaf, val_score: 0.130409:  20%|#########                                    | 1/5 [00:05<00:20,  5.15s/it]"
     ]
    },
    {
     "name": "stdout",
     "output_type": "stream",
     "text": [
      "[600]\tcv_agg's l2: 0.150886 + 0.0316705\n",
      "Early stopping, best iteration is:\n",
      "[518]\tcv_agg's l2: 0.130409 + 0.0279803\n",
      "[100]\tcv_agg's l2: 0.726417 + 0.120204\n",
      "[200]\tcv_agg's l2: 0.685945 + 0.130795\n",
      "[300]\tcv_agg's l2: 0.671933 + 0.136236\n",
      "[400]\tcv_agg's l2: 0.667833 + 0.136725\n",
      "[500]\tcv_agg's l2: 0.660417 + 0.135841\n"
     ]
    },
    {
     "name": "stderr",
     "output_type": "stream",
     "text": [
      "min_data_in_leaf, val_score: 0.130409:  40%|##################                           | 2/5 [00:07<00:09,  3.31s/it][I 2023-11-24 15:02:18,383] Trial 64 finished with value: 0.6592104416187832 and parameters: {'min_child_samples': 100}. Best is trial 63 with value: 0.15064623195435792.\n",
      "min_data_in_leaf, val_score: 0.130409:  40%|##################                           | 2/5 [00:07<00:09,  3.31s/it]"
     ]
    },
    {
     "name": "stdout",
     "output_type": "stream",
     "text": [
      "[600]\tcv_agg's l2: 0.655769 + 0.134298\n",
      "Early stopping, best iteration is:\n",
      "[518]\tcv_agg's l2: 0.130409 + 0.0279803\n",
      "[100]\tcv_agg's l2: 0.131551 + 0.029186\n",
      "[200]\tcv_agg's l2: 0.130236 + 0.02936\n",
      "[300]\tcv_agg's l2: 0.130336 + 0.0296842\n"
     ]
    },
    {
     "name": "stderr",
     "output_type": "stream",
     "text": [
      "min_data_in_leaf, val_score: 0.130225:  60%|###########################                  | 3/5 [00:10<00:06,  3.46s/it][I 2023-11-24 15:02:22,027] Trial 65 finished with value: 0.1302246680623486 and parameters: {'min_child_samples': 10}. Best is trial 65 with value: 0.1302246680623486.\n",
      "min_data_in_leaf, val_score: 0.130225:  60%|###########################                  | 3/5 [00:10<00:06,  3.46s/it]"
     ]
    },
    {
     "name": "stdout",
     "output_type": "stream",
     "text": [
      "Early stopping, best iteration is:\n",
      "[221]\tcv_agg's l2: 0.130225 + 0.0294488\n",
      "[100]\tcv_agg's l2: 0.131808 + 0.0248412\n",
      "[200]\tcv_agg's l2: 0.130993 + 0.0248704\n",
      "[300]\tcv_agg's l2: 0.130715 + 0.0248964\n"
     ]
    },
    {
     "name": "stderr",
     "output_type": "stream",
     "text": [
      "min_data_in_leaf, val_score: 0.130225:  80%|####################################         | 4/5 [00:14<00:03,  3.70s/it][I 2023-11-24 15:02:26,105] Trial 66 finished with value: 0.1308986252298014 and parameters: {'min_child_samples': 5}. Best is trial 65 with value: 0.1302246680623486.\n",
      "min_data_in_leaf, val_score: 0.130225:  80%|####################################         | 4/5 [00:14<00:03,  3.70s/it]"
     ]
    },
    {
     "name": "stdout",
     "output_type": "stream",
     "text": [
      "Early stopping, best iteration is:\n",
      "[221]\tcv_agg's l2: 0.130225 + 0.0294488\n",
      "[100]\tcv_agg's l2: 0.21781 + 0.0410849\n",
      "[200]\tcv_agg's l2: 0.205215 + 0.0389067\n"
     ]
    },
    {
     "name": "stderr",
     "output_type": "stream",
     "text": [
      "min_data_in_leaf, val_score: 0.130225: 100%|#############################################| 5/5 [00:16<00:00,  3.05s/it][I 2023-11-24 15:02:27,981] Trial 67 finished with value: 0.20434774476862314 and parameters: {'min_child_samples': 50}. Best is trial 65 with value: 0.1302246680623486.\n",
      "min_data_in_leaf, val_score: 0.130225: 100%|#############################################| 5/5 [00:16<00:00,  3.35s/it]"
     ]
    },
    {
     "name": "stdout",
     "output_type": "stream",
     "text": [
      "[300]\tcv_agg's l2: 0.203141 + 0.0397816\n",
      "Early stopping, best iteration is:\n",
      "[221]\tcv_agg's l2: 0.130225 + 0.0294488\n"
     ]
    },
    {
     "name": "stderr",
     "output_type": "stream",
     "text": [
      "\n"
     ]
    }
   ],
   "source": [
    "import optuna.integration.lightgbm as lgb\n",
    "from lightgbm import early_stopping, log_evaluation\n",
    "from sklearn.model_selection import KFold\n",
    "from sklearn.model_selection import RepeatedKFold\n",
    "\n",
    "\n",
    "lgb_train = lgb.Dataset(X_train, y_train)\n",
    "\n",
    "params = {\n",
    "    \"boosting_type\": \"gbdt\",\n",
    "    \"objective\": \"regression\",\n",
    "    \"metric\": \"l2\",\n",
    "    \"verbosity\": -1,\n",
    "}\n",
    "\n",
    "tuner = lgb.LightGBMTunerCV(\n",
    "    params,\n",
    "    lgb_train,\n",
    "    folds=KFold(n_splits=5),\n",
    "    num_boost_round=10000,\n",
    "    callbacks=[early_stopping(100), log_evaluation(100)],\n",
    ")\n",
    "\n",
    "tuner.run()"
   ]
  },
  {
   "cell_type": "code",
   "execution_count": 23,
   "id": "d9ab9a30",
   "metadata": {},
   "outputs": [
    {
     "name": "stdout",
     "output_type": "stream",
     "text": [
      "Best score: 0.1302246680623486\n",
      "Params: \n",
      "    boosting_type: gbdt\n",
      "    objective: regression\n",
      "    metric: l2\n",
      "    verbosity: -1\n",
      "    feature_pre_filter: False\n",
      "    lambda_l1: 0.0\n",
      "    lambda_l2: 0.0\n",
      "    num_leaves: 31\n",
      "    feature_fraction: 0.6\n",
      "    bagging_fraction: 0.99779185607284\n",
      "    bagging_freq: 1\n",
      "    min_child_samples: 10\n"
     ]
    }
   ],
   "source": [
    "print(f\"Best score: {tuner.best_score}\")\n",
    "best_params = tuner.best_params\n",
    "print(\"Params: \")\n",
    "for key, value in best_params.items():\n",
    "    print(\"    {}: {}\".format(key, value))"
   ]
  },
  {
   "cell_type": "code",
   "execution_count": 24,
   "id": "0cb62c30",
   "metadata": {},
   "outputs": [],
   "source": [
    "import lightgbm as lgb\n",
    "\n",
    "lgb_tuned = lgb.train(\n",
    "    best_params,\n",
    "    lgb_train,\n",
    "    num_boost_round=10000,\n",
    ")"
   ]
  },
  {
   "cell_type": "code",
   "execution_count": 25,
   "id": "eb6b8188",
   "metadata": {},
   "outputs": [
    {
     "name": "stdout",
     "output_type": "stream",
     "text": [
      "RMSE train: 0.00\n",
      "RMSE test: 0.80\n",
      "MAE test: 0.43\n",
      "\n"
     ]
    }
   ],
   "source": [
    "rmse, mae = assess_regression_model(lgb_tuned, X_train, X_test, y_train, y_test)"
   ]
  },
  {
   "cell_type": "code",
   "execution_count": 26,
   "id": "90047108",
   "metadata": {},
   "outputs": [],
   "source": [
    "results.loc[1] = [\n",
    "    \"chronological\",\n",
    "    \"Optuna\",\n",
    "    \"full\",\n",
    "    rmse,\n",
    "    mae,\n",
    "]"
   ]
  },
  {
   "cell_type": "markdown",
   "id": "b26d94f2",
   "metadata": {},
   "source": [
    "###### MAE by level"
   ]
  },
  {
   "cell_type": "code",
   "execution_count": 27,
   "id": "bb716b92",
   "metadata": {},
   "outputs": [
    {
     "data": {
      "image/png": "[encoded data removed]",
      "text/plain": [
       "<Figure size 1440x576 with 1 Axes>"
      ]
     },
     "metadata": {
      "needs_background": "light"
     },
     "output_type": "display_data"
    }
   ],
   "source": [
    "plot_mae_by_level(\n",
    "    y_test,\n",
    "    y_pred_test,\n",
    "    title=\"MAE by level for tuned LightGBM with full features and chronological split\",\n",
    "    export=True,\n",
    ")"
   ]
  },
  {
   "cell_type": "code",
   "execution_count": 28,
   "id": "79785820",
   "metadata": {
    "scrolled": false
   },
   "outputs": [
    {
     "name": "stdout",
     "output_type": "stream",
     "text": [
      "Default:\n",
      "RMSE: 0.80\n",
      "\n",
      "Round type: 0.5\n",
      "RMSE: 0.82\n",
      "\n",
      "Round type: 0.33\n",
      "RMSE: 0.78\n",
      "\n",
      "Round type: 0.45\n",
      "RMSE: 0.80\n",
      "\n"
     ]
    }
   ],
   "source": [
    "predict = lgb_tuned.predict(X_test)\n",
    "evaluate_round_predictions([0.5, 0.33, 0.45], y_test, predict)"
   ]
  },
  {
   "cell_type": "code",
   "execution_count": 29,
   "id": "63a9eab9",
   "metadata": {},
   "outputs": [
    {
     "data": {
      "image/png": "[encoded data removed]",
      "text/plain": [
       "<Figure size 720x720 with 2 Axes>"
      ]
     },
     "metadata": {
      "needs_background": "light"
     },
     "output_type": "display_data"
    }
   ],
   "source": [
    "plot_confusion_matrix(\n",
    "    predict,\n",
    "    y_test,\n",
    "    title=\"Confusion matrix for tuned LightGBM with\\nfull features and chronological split\",\n",
    "    export=True,\n",
    ")"
   ]
  },
  {
   "cell_type": "markdown",
   "id": "a1fa0d3e",
   "metadata": {},
   "source": [
    "## Random split"
   ]
  },
  {
   "cell_type": "code",
   "execution_count": 30,
   "id": "69148859",
   "metadata": {},
   "outputs": [
    {
     "name": "stdout",
     "output_type": "stream",
     "text": [
      "[LightGBM] [Warning] Auto-choosing row-wise multi-threading, the overhead of testing was 0.002141 seconds.\n",
      "You can set `force_row_wise=true` to remove the overhead.\n",
      "And if memory is not enough, you can set `force_col_wise=true`.\n",
      "[LightGBM] [Info] Total Bins 804\n",
      "[LightGBM] [Info] Number of data points in the train set: 904, number of used features: 48\n",
      "[LightGBM] [Info] Start training from score 7.162611\n",
      "Training until validation scores don't improve for 5 rounds\n",
      "Early stopping, best iteration is:\n",
      "[75]\tvalid_0's l1: 0.246737\tvalid_0's l2: 0.1379\n"
     ]
    }
   ],
   "source": [
    "import lightgbm as lgb\n",
    "from sklearn.metrics import mean_squared_error\n",
    "\n",
    "lgb_train = lgb.Dataset(X_train_random_split, y_train_random_split)\n",
    "lgb_eval = lgb.Dataset(X_test_random_split, y_test_random_split, reference=lgb_train)\n",
    "\n",
    "params = {\n",
    "    \"boosting_type\": \"gbdt\",\n",
    "    \"objective\": \"regression\",\n",
    "    \"metric\": {\"l2\", \"l1\"},\n",
    "}\n",
    "\n",
    "gbm = lgb.train(\n",
    "    params,\n",
    "    lgb_train,\n",
    "    num_boost_round=100,\n",
    "    valid_sets=lgb_eval,\n",
    "    callbacks=[lgb.early_stopping(stopping_rounds=5)],\n",
    ")"
   ]
  },
  {
   "cell_type": "code",
   "execution_count": 31,
   "id": "792899a7",
   "metadata": {},
   "outputs": [],
   "source": [
    "y_pred_train = gbm.predict(X_train_random_split, num_iteration=gbm.best_iteration)\n",
    "y_pred_test = gbm.predict(X_test_random_split, num_iteration=gbm.best_iteration)"
   ]
  },
  {
   "cell_type": "code",
   "execution_count": 32,
   "id": "92e8b92d",
   "metadata": {},
   "outputs": [
    {
     "name": "stdout",
     "output_type": "stream",
     "text": [
      "RMSE: 0.37\n",
      "MAE: 0.25\n"
     ]
    }
   ],
   "source": [
    "from sklearn.metrics import mean_squared_error, mean_absolute_error\n",
    "\n",
    "\n",
    "rmse = mean_squared_error(y_test_random_split, y_pred_test, squared=False)\n",
    "mae = mean_absolute_error(y_test_random_split, y_pred_test)\n",
    "\n",
    "print(f\"RMSE: {rmse:.2f}\")\n",
    "print(f\"MAE: {mae:.2f}\")"
   ]
  },
  {
   "cell_type": "code",
   "execution_count": 33,
   "id": "e9b9f08d",
   "metadata": {},
   "outputs": [],
   "source": [
    "results.loc[2] = [\"random\", \"default\", \"full\", rmse, mae]"
   ]
  },
  {
   "cell_type": "markdown",
   "id": "e2f3fc5d",
   "metadata": {},
   "source": [
    "###### MAE by level"
   ]
  },
  {
   "cell_type": "code",
   "execution_count": 34,
   "id": "591c040e",
   "metadata": {},
   "outputs": [
    {
     "data": {
      "image/png": "[encoded data removed]",
      "text/plain": [
       "<Figure size 1440x576 with 1 Axes>"
      ]
     },
     "metadata": {
      "needs_background": "light"
     },
     "output_type": "display_data"
    }
   ],
   "source": [
    "plot_mae_by_level(\n",
    "    y_test_random_split,\n",
    "    y_pred_test,\n",
    "    title=\"MAE by level for default LightGBM with full features and random split\",\n",
    ")"
   ]
  },
  {
   "cell_type": "code",
   "execution_count": 35,
   "id": "2122d102",
   "metadata": {
    "scrolled": true
   },
   "outputs": [
    {
     "name": "stdout",
     "output_type": "stream",
     "text": [
      "Default:\n",
      "RMSE: 0.37\n",
      "\n",
      "Round type: 0.5\n",
      "RMSE: 0.38\n",
      "\n",
      "Round type: 0.33\n",
      "RMSE: 0.43\n",
      "\n",
      "Round type: 0.45\n",
      "RMSE: 0.38\n",
      "\n"
     ]
    }
   ],
   "source": [
    "evaluate_round_predictions([0.5, 0.33, 0.45], y_test_random_split, y_pred_test)"
   ]
  },
  {
   "cell_type": "code",
   "execution_count": 36,
   "id": "3b4c77ab",
   "metadata": {},
   "outputs": [
    {
     "data": {
      "image/png": "[encoded data removed]",
      "text/plain": [
       "<Figure size 720x720 with 2 Axes>"
      ]
     },
     "metadata": {
      "needs_background": "light"
     },
     "output_type": "display_data"
    }
   ],
   "source": [
    "plot_confusion_matrix(\n",
    "    y_pred_test,\n",
    "    y_test_random_split,\n",
    "    title=\"Confusion matrix for default LightGBM with\\nfull features and random split\",\n",
    ")"
   ]
  },
  {
   "cell_type": "markdown",
   "id": "295f8eff",
   "metadata": {},
   "source": [
    "### Tuning"
   ]
  },
  {
   "cell_type": "code",
   "execution_count": 37,
   "id": "14fca15b",
   "metadata": {},
   "outputs": [
    {
     "name": "stderr",
     "output_type": "stream",
     "text": [
      "[I 2023-11-24 15:03:12,045] A new study created in memory with name: no-name-08a99f06-e841-406b-9134-26e891818583\n",
      "feature_fraction, val_score: inf:   0%|                                                          | 0/7 [00:00<?, ?it/s]"
     ]
    },
    {
     "name": "stdout",
     "output_type": "stream",
     "text": [
      "Training until validation scores don't improve for 100 rounds\n",
      "[100]\tcv_agg's l2: 0.161741 + 0.0396899\n",
      "[200]\tcv_agg's l2: 0.158315 + 0.0385642\n",
      "[300]\tcv_agg's l2: 0.157002 + 0.0374871\n",
      "[400]\tcv_agg's l2: 0.1566 + 0.0375648\n",
      "[500]\tcv_agg's l2: 0.15648 + 0.0372376\n",
      "[600]\tcv_agg's l2: 0.15642 + 0.0371857\n",
      "[700]\tcv_agg's l2: 0.156341 + 0.0370476\n",
      "[800]\tcv_agg's l2: 0.156221 + 0.0369429\n",
      "[900]\tcv_agg's l2: 0.156202 + 0.0368766\n",
      "[1000]\tcv_agg's l2: 0.156195 + 0.0368692\n"
     ]
    },
    {
     "name": "stderr",
     "output_type": "stream",
     "text": [
      "feature_fraction, val_score: 0.156181:  14%|######4                                      | 1/7 [00:12<01:13, 12.17s/it][I 2023-11-24 15:03:24,220] Trial 0 finished with value: 0.15618127650616462 and parameters: {'feature_fraction': 0.6}. Best is trial 0 with value: 0.15618127650616462.\n",
      "feature_fraction, val_score: 0.156181:  14%|######4                                      | 1/7 [00:12<01:13, 12.17s/it]"
     ]
    },
    {
     "name": "stdout",
     "output_type": "stream",
     "text": [
      "Early stopping, best iteration is:\n",
      "[972]\tcv_agg's l2: 0.156181 + 0.0368379\n",
      "[100]\tcv_agg's l2: 0.168957 + 0.0408028\n",
      "[200]\tcv_agg's l2: 0.163705 + 0.0406069\n",
      "[300]\tcv_agg's l2: 0.162394 + 0.0405902\n",
      "[400]\tcv_agg's l2: 0.161684 + 0.0405616\n",
      "[500]\tcv_agg's l2: 0.161292 + 0.0403371\n",
      "[600]\tcv_agg's l2: 0.161219 + 0.0402206\n",
      "[700]\tcv_agg's l2: 0.161136 + 0.04013\n",
      "[800]\tcv_agg's l2: 0.161058 + 0.0400737\n",
      "[900]\tcv_agg's l2: 0.161005 + 0.0399498\n",
      "[1000]\tcv_agg's l2: 0.16092 + 0.0398148\n"
     ]
    },
    {
     "name": "stderr",
     "output_type": "stream",
     "text": [
      "feature_fraction, val_score: 0.156181:  29%|############8                                | 2/7 [00:25<01:02, 12.56s/it][I 2023-11-24 15:03:37,060] Trial 1 finished with value: 0.16094218446852387 and parameters: {'feature_fraction': 0.8999999999999999}. Best is trial 0 with value: 0.15618127650616462.\n",
      "feature_fraction, val_score: 0.156181:  29%|############8                                | 2/7 [00:25<01:02, 12.56s/it]"
     ]
    },
    {
     "name": "stdout",
     "output_type": "stream",
     "text": [
      "Early stopping, best iteration is:\n",
      "[972]\tcv_agg's l2: 0.156181 + 0.0368379\n",
      "[100]\tcv_agg's l2: 0.170856 + 0.0440617\n",
      "[200]\tcv_agg's l2: 0.167646 + 0.0418728\n",
      "[300]\tcv_agg's l2: 0.165882 + 0.0405016\n",
      "[400]\tcv_agg's l2: 0.165258 + 0.0402562\n",
      "[500]\tcv_agg's l2: 0.164887 + 0.039861\n",
      "[600]\tcv_agg's l2: 0.164908 + 0.039662\n",
      "[700]\tcv_agg's l2: 0.164938 + 0.039696\n",
      "[800]\tcv_agg's l2: 0.164865 + 0.039649\n",
      "[900]\tcv_agg's l2: 0.164818 + 0.0396452\n",
      "[1000]\tcv_agg's l2: 0.164765 + 0.0396197\n"
     ]
    },
    {
     "name": "stderr",
     "output_type": "stream",
     "text": [
      "feature_fraction, val_score: 0.156181:  43%|###################2                         | 3/7 [00:37<00:49, 12.43s/it][I 2023-11-24 15:03:49,334] Trial 2 finished with value: 0.16477689266316795 and parameters: {'feature_fraction': 0.7}. Best is trial 0 with value: 0.15618127650616462.\n",
      "feature_fraction, val_score: 0.156181:  43%|###################2                         | 3/7 [00:37<00:49, 12.43s/it]"
     ]
    },
    {
     "name": "stdout",
     "output_type": "stream",
     "text": [
      "Early stopping, best iteration is:\n",
      "[972]\tcv_agg's l2: 0.156181 + 0.0368379\n",
      "[100]\tcv_agg's l2: 0.172292 + 0.0524739\n",
      "[200]\tcv_agg's l2: 0.167818 + 0.0492435\n",
      "[300]\tcv_agg's l2: 0.166399 + 0.0480984\n",
      "[400]\tcv_agg's l2: 0.165519 + 0.0477015\n",
      "[500]\tcv_agg's l2: 0.1654 + 0.0475794\n",
      "[600]\tcv_agg's l2: 0.165373 + 0.0474012\n",
      "[700]\tcv_agg's l2: 0.165315 + 0.0473379\n",
      "[800]\tcv_agg's l2: 0.165188 + 0.0473396\n",
      "[900]\tcv_agg's l2: 0.165162 + 0.0472975\n",
      "[1000]\tcv_agg's l2: 0.165115 + 0.0472795\n"
     ]
    },
    {
     "name": "stderr",
     "output_type": "stream",
     "text": [
      "feature_fraction, val_score: 0.156181:  57%|#########################7                   | 4/7 [00:49<00:36, 12.29s/it][I 2023-11-24 15:04:01,420] Trial 3 finished with value: 0.16514591795564493 and parameters: {'feature_fraction': 0.8}. Best is trial 0 with value: 0.15618127650616462.\n",
      "feature_fraction, val_score: 0.156181:  57%|#########################7                   | 4/7 [00:49<00:36, 12.29s/it]"
     ]
    },
    {
     "name": "stdout",
     "output_type": "stream",
     "text": [
      "Early stopping, best iteration is:\n",
      "[972]\tcv_agg's l2: 0.156181 + 0.0368379\n",
      "[100]\tcv_agg's l2: 0.168595 + 0.0264992\n",
      "[200]\tcv_agg's l2: 0.163125 + 0.0268834\n",
      "[300]\tcv_agg's l2: 0.162684 + 0.0265312\n",
      "[400]\tcv_agg's l2: 0.162138 + 0.0269268\n",
      "[500]\tcv_agg's l2: 0.161974 + 0.0270111\n",
      "[600]\tcv_agg's l2: 0.161797 + 0.0269038\n",
      "[700]\tcv_agg's l2: 0.161734 + 0.0268498\n",
      "[800]\tcv_agg's l2: 0.1616 + 0.026828\n",
      "[900]\tcv_agg's l2: 0.161554 + 0.0268372\n",
      "[1000]\tcv_agg's l2: 0.161498 + 0.0268338\n"
     ]
    },
    {
     "name": "stderr",
     "output_type": "stream",
     "text": [
      "feature_fraction, val_score: 0.156181:  71%|################################1            | 5/7 [01:02<00:25, 12.64s/it][I 2023-11-24 15:04:14,682] Trial 4 finished with value: 0.16150954713351479 and parameters: {'feature_fraction': 0.5}. Best is trial 0 with value: 0.15618127650616462.\n",
      "feature_fraction, val_score: 0.156181:  71%|################################1            | 5/7 [01:02<00:25, 12.64s/it]"
     ]
    },
    {
     "name": "stdout",
     "output_type": "stream",
     "text": [
      "Early stopping, best iteration is:\n",
      "[972]\tcv_agg's l2: 0.156181 + 0.0368379\n",
      "[100]\tcv_agg's l2: 0.16038 + 0.0198336\n",
      "[200]\tcv_agg's l2: 0.154897 + 0.0209446\n",
      "[300]\tcv_agg's l2: 0.154065 + 0.0219449\n",
      "[400]\tcv_agg's l2: 0.153557 + 0.022534\n",
      "[500]\tcv_agg's l2: 0.153064 + 0.0224325\n",
      "[600]\tcv_agg's l2: 0.152897 + 0.0224461\n",
      "[700]\tcv_agg's l2: 0.152739 + 0.022313\n",
      "[800]\tcv_agg's l2: 0.152708 + 0.0223141\n"
     ]
    },
    {
     "name": "stderr",
     "output_type": "stream",
     "text": [
      "feature_fraction, val_score: 0.152677:  86%|######################################5      | 6/7 [01:13<00:12, 12.07s/it][I 2023-11-24 15:04:25,631] Trial 5 finished with value: 0.15267669620398377 and parameters: {'feature_fraction': 0.4}. Best is trial 5 with value: 0.15267669620398377.\n",
      "feature_fraction, val_score: 0.152677:  86%|######################################5      | 6/7 [01:13<00:12, 12.07s/it]"
     ]
    },
    {
     "name": "stdout",
     "output_type": "stream",
     "text": [
      "[900]\tcv_agg's l2: 0.152701 + 0.0222699\n",
      "Early stopping, best iteration is:\n",
      "[815]\tcv_agg's l2: 0.152677 + 0.0222887\n",
      "[100]\tcv_agg's l2: 0.172668 + 0.0412758\n",
      "[200]\tcv_agg's l2: 0.168014 + 0.0392469\n",
      "[300]\tcv_agg's l2: 0.16694 + 0.0385005\n",
      "[400]\tcv_agg's l2: 0.166557 + 0.0382199\n",
      "[500]\tcv_agg's l2: 0.166368 + 0.0379503\n",
      "[600]\tcv_agg's l2: 0.166449 + 0.0377921\n",
      "[700]\tcv_agg's l2: 0.166427 + 0.037745\n",
      "[800]\tcv_agg's l2: 0.166391 + 0.0376808\n"
     ]
    },
    {
     "name": "stderr",
     "output_type": "stream",
     "text": [
      "feature_fraction, val_score: 0.152677: 100%|#############################################| 7/7 [01:24<00:00, 11.73s/it][I 2023-11-24 15:04:36,666] Trial 6 finished with value: 0.16641375244192297 and parameters: {'feature_fraction': 1.0}. Best is trial 5 with value: 0.15267669620398377.\n",
      "feature_fraction, val_score: 0.152677: 100%|#############################################| 7/7 [01:24<00:00, 12.09s/it]\n"
     ]
    },
    {
     "name": "stdout",
     "output_type": "stream",
     "text": [
      "[900]\tcv_agg's l2: 0.166458 + 0.0376509\n",
      "Early stopping, best iteration is:\n",
      "[815]\tcv_agg's l2: 0.152677 + 0.0222887\n"
     ]
    },
    {
     "name": "stderr",
     "output_type": "stream",
     "text": [
      "num_leaves, val_score: 0.152677:   0%|                                                          | 0/20 [00:00<?, ?it/s]"
     ]
    },
    {
     "name": "stdout",
     "output_type": "stream",
     "text": [
      "[100]\tcv_agg's l2: 0.16038 + 0.0198336\n",
      "[200]\tcv_agg's l2: 0.154897 + 0.0209446\n",
      "[300]\tcv_agg's l2: 0.154065 + 0.0219449\n",
      "[400]\tcv_agg's l2: 0.153557 + 0.022534\n",
      "[500]\tcv_agg's l2: 0.153064 + 0.0224325\n",
      "[600]\tcv_agg's l2: 0.152897 + 0.0224461\n",
      "[700]\tcv_agg's l2: 0.152739 + 0.022313\n",
      "[800]\tcv_agg's l2: 0.152708 + 0.0223141\n",
      "[900]\tcv_agg's l2: 0.152701 + 0.0222699\n",
      "Early stopping, best iteration is:\n",
      "[815]\tcv_agg's l2: 0.152677 + 0.0222887\n"
     ]
    },
    {
     "name": "stderr",
     "output_type": "stream",
     "text": [
      "num_leaves, val_score: 0.152677:   5%|##5                                               | 1/20 [00:12<04:05, 12.94s/it][I 2023-11-24 15:04:49,615] Trial 7 finished with value: 0.15267669620398377 and parameters: {'num_leaves': 130}. Best is trial 7 with value: 0.15267669620398377.\n",
      "num_leaves, val_score: 0.152677:   5%|##5                                               | 1/20 [00:12<04:05, 12.94s/it]"
     ]
    },
    {
     "name": "stdout",
     "output_type": "stream",
     "text": [
      "[100]\tcv_agg's l2: 0.155002 + 0.0213552\n",
      "[200]\tcv_agg's l2: 0.149384 + 0.0190737\n",
      "[300]\tcv_agg's l2: 0.147939 + 0.0199268\n",
      "[400]\tcv_agg's l2: 0.147574 + 0.0203313\n",
      "[500]\tcv_agg's l2: 0.147406 + 0.0201882\n",
      "[600]\tcv_agg's l2: 0.147405 + 0.0203103\n",
      "[700]\tcv_agg's l2: 0.147309 + 0.0203658\n"
     ]
    },
    {
     "name": "stderr",
     "output_type": "stream",
     "text": [
      "num_leaves, val_score: 0.147299:  10%|#####                                             | 2/20 [00:20<03:00, 10.00s/it][I 2023-11-24 15:04:57,564] Trial 8 finished with value: 0.14729873637959529 and parameters: {'num_leaves': 21}. Best is trial 8 with value: 0.14729873637959529.\n",
      "num_leaves, val_score: 0.147299:  10%|#####                                             | 2/20 [00:20<03:00, 10.00s/it]"
     ]
    },
    {
     "name": "stdout",
     "output_type": "stream",
     "text": [
      "[800]\tcv_agg's l2: 0.147307 + 0.0204949\n",
      "Early stopping, best iteration is:\n",
      "[702]\tcv_agg's l2: 0.147299 + 0.0203485\n",
      "[100]\tcv_agg's l2: 0.16038 + 0.0198336\n",
      "[200]\tcv_agg's l2: 0.154897 + 0.0209446\n",
      "[300]\tcv_agg's l2: 0.154065 + 0.0219449\n",
      "[400]\tcv_agg's l2: 0.153557 + 0.022534\n",
      "[500]\tcv_agg's l2: 0.153064 + 0.0224325\n",
      "[600]\tcv_agg's l2: 0.152897 + 0.0224461\n",
      "[700]\tcv_agg's l2: 0.152739 + 0.022313\n"
     ]
    },
    {
     "name": "stderr",
     "output_type": "stream",
     "text": [
      "num_leaves, val_score: 0.147299:  15%|#######5                                          | 3/20 [00:29<02:39,  9.38s/it][I 2023-11-24 15:05:06,211] Trial 9 finished with value: 0.1527439863326659 and parameters: {'num_leaves': 238}. Best is trial 8 with value: 0.14729873637959529.\n",
      "num_leaves, val_score: 0.147299:  15%|#######5                                          | 3/20 [00:29<02:39,  9.38s/it]"
     ]
    },
    {
     "name": "stdout",
     "output_type": "stream",
     "text": [
      "[800]\tcv_agg's l2: 0.152708 + 0.0223141\n",
      "Early stopping, best iteration is:\n",
      "[702]\tcv_agg's l2: 0.147299 + 0.0203485\n",
      "[100]\tcv_agg's l2: 0.355928 + 0.0845296\n",
      "[200]\tcv_agg's l2: 0.296933 + 0.0681709\n",
      "[300]\tcv_agg's l2: 0.274164 + 0.0603741\n",
      "[400]\tcv_agg's l2: 0.262921 + 0.0562308\n",
      "[500]\tcv_agg's l2: 0.254936 + 0.0545333\n",
      "[600]\tcv_agg's l2: 0.248721 + 0.0530649\n",
      "[700]\tcv_agg's l2: 0.244159 + 0.0519441\n"
     ]
    },
    {
     "name": "stderr",
     "output_type": "stream",
     "text": [
      "num_leaves, val_score: 0.147299:  20%|##########                                        | 4/20 [00:31<01:42,  6.43s/it][I 2023-11-24 15:05:08,121] Trial 10 finished with value: 0.24400821596457772 and parameters: {'num_leaves': 2}. Best is trial 8 with value: 0.14729873637959529.\n",
      "num_leaves, val_score: 0.147299:  20%|##########                                        | 4/20 [00:31<01:42,  6.43s/it]"
     ]
    },
    {
     "name": "stdout",
     "output_type": "stream",
     "text": [
      "[800]\tcv_agg's l2: 0.239558 + 0.0508837\n",
      "Early stopping, best iteration is:\n",
      "[702]\tcv_agg's l2: 0.147299 + 0.0203485\n",
      "[100]\tcv_agg's l2: 0.175191 + 0.0243665\n",
      "[200]\tcv_agg's l2: 0.161914 + 0.0246132\n",
      "[300]\tcv_agg's l2: 0.157607 + 0.0246892\n",
      "[400]\tcv_agg's l2: 0.154461 + 0.0247379\n",
      "[500]\tcv_agg's l2: 0.153285 + 0.0250875\n",
      "[600]\tcv_agg's l2: 0.152467 + 0.0257439\n",
      "[700]\tcv_agg's l2: 0.152226 + 0.0255893\n"
     ]
    },
    {
     "name": "stderr",
     "output_type": "stream",
     "text": [
      "num_leaves, val_score: 0.147299:  25%|############5                                     | 5/20 [00:36<01:26,  5.77s/it][I 2023-11-24 15:05:12,727] Trial 11 finished with value: 0.15222824228666457 and parameters: {'num_leaves': 10}. Best is trial 8 with value: 0.14729873637959529.\n",
      "num_leaves, val_score: 0.147299:  25%|############5                                     | 5/20 [00:36<01:26,  5.77s/it]"
     ]
    },
    {
     "name": "stdout",
     "output_type": "stream",
     "text": [
      "[800]\tcv_agg's l2: 0.152309 + 0.0255976\n",
      "Early stopping, best iteration is:\n",
      "[702]\tcv_agg's l2: 0.147299 + 0.0203485\n",
      "[100]\tcv_agg's l2: 0.16484 + 0.0277092\n",
      "[200]\tcv_agg's l2: 0.154881 + 0.0267789\n",
      "[300]\tcv_agg's l2: 0.151897 + 0.0265675\n",
      "[400]\tcv_agg's l2: 0.150669 + 0.0263589\n",
      "[500]\tcv_agg's l2: 0.150523 + 0.0266751\n",
      "[600]\tcv_agg's l2: 0.150315 + 0.0262922\n",
      "[700]\tcv_agg's l2: 0.150196 + 0.0261717\n"
     ]
    },
    {
     "name": "stderr",
     "output_type": "stream",
     "text": [
      "num_leaves, val_score: 0.147299:  30%|###############                                   | 6/20 [00:41<01:19,  5.66s/it][I 2023-11-24 15:05:18,163] Trial 12 finished with value: 0.15021175318135568 and parameters: {'num_leaves': 14}. Best is trial 8 with value: 0.14729873637959529.\n",
      "num_leaves, val_score: 0.147299:  30%|###############                                   | 6/20 [00:41<01:19,  5.66s/it]"
     ]
    },
    {
     "name": "stdout",
     "output_type": "stream",
     "text": [
      "[800]\tcv_agg's l2: 0.150419 + 0.0263749\n",
      "Early stopping, best iteration is:\n",
      "[702]\tcv_agg's l2: 0.147299 + 0.0203485\n",
      "[100]\tcv_agg's l2: 0.16038 + 0.0198336\n",
      "[200]\tcv_agg's l2: 0.154897 + 0.0209446\n",
      "[300]\tcv_agg's l2: 0.154065 + 0.0219449\n",
      "[400]\tcv_agg's l2: 0.153557 + 0.022534\n",
      "[500]\tcv_agg's l2: 0.153064 + 0.0224325\n",
      "[600]\tcv_agg's l2: 0.152897 + 0.0224461\n",
      "[700]\tcv_agg's l2: 0.152739 + 0.022313\n"
     ]
    },
    {
     "name": "stderr",
     "output_type": "stream",
     "text": [
      "num_leaves, val_score: 0.147299:  35%|#################5                                | 7/20 [00:52<01:35,  7.32s/it][I 2023-11-24 15:05:28,912] Trial 13 finished with value: 0.1527439863326659 and parameters: {'num_leaves': 73}. Best is trial 8 with value: 0.14729873637959529.\n",
      "num_leaves, val_score: 0.147299:  35%|#################5                                | 7/20 [00:52<01:35,  7.32s/it]"
     ]
    },
    {
     "name": "stdout",
     "output_type": "stream",
     "text": [
      "[800]\tcv_agg's l2: 0.152708 + 0.0223141\n",
      "Early stopping, best iteration is:\n",
      "[702]\tcv_agg's l2: 0.147299 + 0.0203485\n",
      "[100]\tcv_agg's l2: 0.16038 + 0.0198336\n",
      "[200]\tcv_agg's l2: 0.154897 + 0.0209446\n",
      "[300]\tcv_agg's l2: 0.154065 + 0.0219449\n",
      "[400]\tcv_agg's l2: 0.153557 + 0.022534\n",
      "[500]\tcv_agg's l2: 0.153064 + 0.0224325\n",
      "[600]\tcv_agg's l2: 0.152897 + 0.0224461\n",
      "[700]\tcv_agg's l2: 0.152739 + 0.022313\n"
     ]
    },
    {
     "name": "stderr",
     "output_type": "stream",
     "text": [
      "num_leaves, val_score: 0.147299:  40%|####################                              | 8/20 [01:03<01:41,  8.44s/it][I 2023-11-24 15:05:39,753] Trial 14 finished with value: 0.1527439863326659 and parameters: {'num_leaves': 86}. Best is trial 8 with value: 0.14729873637959529.\n",
      "num_leaves, val_score: 0.147299:  40%|####################                              | 8/20 [01:03<01:41,  8.44s/it]"
     ]
    },
    {
     "name": "stdout",
     "output_type": "stream",
     "text": [
      "[800]\tcv_agg's l2: 0.152708 + 0.0223141\n",
      "Early stopping, best iteration is:\n",
      "[702]\tcv_agg's l2: 0.147299 + 0.0203485\n",
      "[100]\tcv_agg's l2: 0.16038 + 0.0198336\n",
      "[200]\tcv_agg's l2: 0.154897 + 0.0209446\n",
      "[300]\tcv_agg's l2: 0.154065 + 0.0219449\n",
      "[400]\tcv_agg's l2: 0.153557 + 0.022534\n",
      "[500]\tcv_agg's l2: 0.153064 + 0.0224325\n",
      "[600]\tcv_agg's l2: 0.152897 + 0.0224461\n",
      "[700]\tcv_agg's l2: 0.152739 + 0.022313\n"
     ]
    },
    {
     "name": "stderr",
     "output_type": "stream",
     "text": [
      "num_leaves, val_score: 0.147299:  45%|######################5                           | 9/20 [01:13<01:38,  8.98s/it][I 2023-11-24 15:05:49,907] Trial 15 finished with value: 0.1527439863326659 and parameters: {'num_leaves': 55}. Best is trial 8 with value: 0.14729873637959529.\n",
      "num_leaves, val_score: 0.147299:  45%|######################5                           | 9/20 [01:13<01:38,  8.98s/it]"
     ]
    },
    {
     "name": "stdout",
     "output_type": "stream",
     "text": [
      "[800]\tcv_agg's l2: 0.152708 + 0.0223141\n",
      "Early stopping, best iteration is:\n",
      "[702]\tcv_agg's l2: 0.147299 + 0.0203485\n",
      "[100]\tcv_agg's l2: 0.16038 + 0.0198336\n",
      "[200]\tcv_agg's l2: 0.154897 + 0.0209446\n",
      "[300]\tcv_agg's l2: 0.154065 + 0.0219449\n",
      "[400]\tcv_agg's l2: 0.153557 + 0.022534\n",
      "[500]\tcv_agg's l2: 0.153064 + 0.0224325\n",
      "[600]\tcv_agg's l2: 0.152897 + 0.0224461\n",
      "[700]\tcv_agg's l2: 0.152739 + 0.022313\n"
     ]
    },
    {
     "name": "stderr",
     "output_type": "stream",
     "text": [
      "num_leaves, val_score: 0.147299:  50%|########################5                        | 10/20 [01:23<01:33,  9.35s/it][I 2023-11-24 15:06:00,074] Trial 16 finished with value: 0.1527439863326659 and parameters: {'num_leaves': 162}. Best is trial 8 with value: 0.14729873637959529.\n",
      "num_leaves, val_score: 0.147299:  50%|########################5                        | 10/20 [01:23<01:33,  9.35s/it]"
     ]
    },
    {
     "name": "stdout",
     "output_type": "stream",
     "text": [
      "[800]\tcv_agg's l2: 0.152708 + 0.0223141\n",
      "Early stopping, best iteration is:\n",
      "[702]\tcv_agg's l2: 0.147299 + 0.0203485\n",
      "[100]\tcv_agg's l2: 0.16038 + 0.0198336\n",
      "[200]\tcv_agg's l2: 0.154897 + 0.0209446\n",
      "[300]\tcv_agg's l2: 0.154065 + 0.0219449\n",
      "[400]\tcv_agg's l2: 0.153557 + 0.022534\n",
      "[500]\tcv_agg's l2: 0.153064 + 0.0224325\n",
      "[600]\tcv_agg's l2: 0.152897 + 0.0224461\n",
      "[700]\tcv_agg's l2: 0.152739 + 0.022313\n"
     ]
    },
    {
     "name": "stderr",
     "output_type": "stream",
     "text": [
      "num_leaves, val_score: 0.147299:  55%|##########################9                      | 11/20 [01:33<01:25,  9.45s/it][I 2023-11-24 15:06:09,774] Trial 17 finished with value: 0.1527439863326659 and parameters: {'num_leaves': 38}. Best is trial 8 with value: 0.14729873637959529.\n",
      "num_leaves, val_score: 0.147299:  55%|##########################9                      | 11/20 [01:33<01:25,  9.45s/it]"
     ]
    },
    {
     "name": "stdout",
     "output_type": "stream",
     "text": [
      "[800]\tcv_agg's l2: 0.152708 + 0.0223141\n",
      "Early stopping, best iteration is:\n",
      "[702]\tcv_agg's l2: 0.147299 + 0.0203485\n",
      "[100]\tcv_agg's l2: 0.16038 + 0.0198336\n",
      "[200]\tcv_agg's l2: 0.154897 + 0.0209446\n",
      "[300]\tcv_agg's l2: 0.154065 + 0.0219449\n",
      "[400]\tcv_agg's l2: 0.153557 + 0.022534\n",
      "[500]\tcv_agg's l2: 0.153064 + 0.0224325\n",
      "[600]\tcv_agg's l2: 0.152897 + 0.0224461\n",
      "[700]\tcv_agg's l2: 0.152739 + 0.022313\n"
     ]
    },
    {
     "name": "stderr",
     "output_type": "stream",
     "text": [
      "num_leaves, val_score: 0.147299:  60%|#############################4                   | 12/20 [01:42<01:15,  9.47s/it][I 2023-11-24 15:06:19,272] Trial 18 finished with value: 0.1527439863326659 and parameters: {'num_leaves': 108}. Best is trial 8 with value: 0.14729873637959529.\n",
      "num_leaves, val_score: 0.147299:  60%|#############################4                   | 12/20 [01:42<01:15,  9.47s/it]"
     ]
    },
    {
     "name": "stdout",
     "output_type": "stream",
     "text": [
      "[800]\tcv_agg's l2: 0.152708 + 0.0223141\n",
      "Early stopping, best iteration is:\n",
      "[702]\tcv_agg's l2: 0.147299 + 0.0203485\n",
      "[100]\tcv_agg's l2: 0.16038 + 0.0198336\n",
      "[200]\tcv_agg's l2: 0.154897 + 0.0209446\n",
      "[300]\tcv_agg's l2: 0.154065 + 0.0219449\n",
      "[400]\tcv_agg's l2: 0.153557 + 0.022534\n",
      "[500]\tcv_agg's l2: 0.153064 + 0.0224325\n",
      "[600]\tcv_agg's l2: 0.152897 + 0.0224461\n",
      "[700]\tcv_agg's l2: 0.152739 + 0.022313\n"
     ]
    },
    {
     "name": "stderr",
     "output_type": "stream",
     "text": [
      "num_leaves, val_score: 0.147299:  65%|###############################8                 | 13/20 [01:52<01:06,  9.47s/it][I 2023-11-24 15:06:28,733] Trial 19 finished with value: 0.1527439863326659 and parameters: {'num_leaves': 35}. Best is trial 8 with value: 0.14729873637959529.\n",
      "num_leaves, val_score: 0.147299:  65%|###############################8                 | 13/20 [01:52<01:06,  9.47s/it]"
     ]
    },
    {
     "name": "stdout",
     "output_type": "stream",
     "text": [
      "[800]\tcv_agg's l2: 0.152708 + 0.0223141\n",
      "Early stopping, best iteration is:\n",
      "[702]\tcv_agg's l2: 0.147299 + 0.0203485\n",
      "[100]\tcv_agg's l2: 0.16038 + 0.0198336\n",
      "[200]\tcv_agg's l2: 0.154897 + 0.0209446\n",
      "[300]\tcv_agg's l2: 0.154065 + 0.0219449\n",
      "[400]\tcv_agg's l2: 0.153557 + 0.022534\n",
      "[500]\tcv_agg's l2: 0.153064 + 0.0224325\n",
      "[600]\tcv_agg's l2: 0.152897 + 0.0224461\n",
      "[700]\tcv_agg's l2: 0.152739 + 0.022313\n"
     ]
    },
    {
     "name": "stderr",
     "output_type": "stream",
     "text": [
      "num_leaves, val_score: 0.147299:  70%|##################################3              | 14/20 [02:01<00:57,  9.60s/it][I 2023-11-24 15:06:38,651] Trial 20 finished with value: 0.1527439863326659 and parameters: {'num_leaves': 166}. Best is trial 8 with value: 0.14729873637959529.\n",
      "num_leaves, val_score: 0.147299:  70%|##################################3              | 14/20 [02:01<00:57,  9.60s/it]"
     ]
    },
    {
     "name": "stdout",
     "output_type": "stream",
     "text": [
      "[800]\tcv_agg's l2: 0.152708 + 0.0223141\n",
      "Early stopping, best iteration is:\n",
      "[702]\tcv_agg's l2: 0.147299 + 0.0203485\n",
      "[100]\tcv_agg's l2: 0.355928 + 0.0845296\n",
      "[200]\tcv_agg's l2: 0.296933 + 0.0681709\n",
      "[300]\tcv_agg's l2: 0.274164 + 0.0603741\n",
      "[400]\tcv_agg's l2: 0.262921 + 0.0562308\n",
      "[500]\tcv_agg's l2: 0.254936 + 0.0545333\n",
      "[600]\tcv_agg's l2: 0.248721 + 0.0530649\n",
      "[700]\tcv_agg's l2: 0.244159 + 0.0519441\n"
     ]
    },
    {
     "name": "stderr",
     "output_type": "stream",
     "text": [
      "num_leaves, val_score: 0.147299:  75%|####################################7            | 15/20 [02:04<00:37,  7.44s/it][I 2023-11-24 15:06:41,089] Trial 21 finished with value: 0.24400821596457772 and parameters: {'num_leaves': 2}. Best is trial 8 with value: 0.14729873637959529.\n",
      "num_leaves, val_score: 0.147299:  75%|####################################7            | 15/20 [02:04<00:37,  7.44s/it]"
     ]
    },
    {
     "name": "stdout",
     "output_type": "stream",
     "text": [
      "[800]\tcv_agg's l2: 0.239558 + 0.0508837\n",
      "Early stopping, best iteration is:\n",
      "[702]\tcv_agg's l2: 0.147299 + 0.0203485\n",
      "[100]\tcv_agg's l2: 0.157352 + 0.0212672\n",
      "[200]\tcv_agg's l2: 0.151732 + 0.0206654\n",
      "[300]\tcv_agg's l2: 0.150036 + 0.0217114\n",
      "[400]\tcv_agg's l2: 0.149737 + 0.0219591\n",
      "[500]\tcv_agg's l2: 0.149544 + 0.0221598\n",
      "[600]\tcv_agg's l2: 0.149274 + 0.0220876\n",
      "[700]\tcv_agg's l2: 0.149146 + 0.021991\n"
     ]
    },
    {
     "name": "stderr",
     "output_type": "stream",
     "text": [
      "num_leaves, val_score: 0.147299:  80%|#######################################2         | 16/20 [02:13<00:31,  7.87s/it][I 2023-11-24 15:06:49,957] Trial 22 finished with value: 0.1491602600597533 and parameters: {'num_leaves': 24}. Best is trial 8 with value: 0.14729873637959529.\n",
      "num_leaves, val_score: 0.147299:  80%|#######################################2         | 16/20 [02:13<00:31,  7.87s/it]"
     ]
    },
    {
     "name": "stdout",
     "output_type": "stream",
     "text": [
      "[800]\tcv_agg's l2: 0.149063 + 0.022055\n",
      "Early stopping, best iteration is:\n",
      "[702]\tcv_agg's l2: 0.147299 + 0.0203485\n",
      "[100]\tcv_agg's l2: 0.16038 + 0.0198336\n",
      "[200]\tcv_agg's l2: 0.154897 + 0.0209446\n",
      "[300]\tcv_agg's l2: 0.154065 + 0.0219449\n",
      "[400]\tcv_agg's l2: 0.153557 + 0.022534\n",
      "[500]\tcv_agg's l2: 0.153064 + 0.0224325\n",
      "[600]\tcv_agg's l2: 0.152897 + 0.0224461\n",
      "[700]\tcv_agg's l2: 0.152739 + 0.022313\n"
     ]
    },
    {
     "name": "stderr",
     "output_type": "stream",
     "text": [
      "num_leaves, val_score: 0.147299:  85%|#########################################6       | 17/20 [02:23<00:25,  8.50s/it][I 2023-11-24 15:06:59,920] Trial 23 finished with value: 0.1527439863326659 and parameters: {'num_leaves': 37}. Best is trial 8 with value: 0.14729873637959529.\n",
      "num_leaves, val_score: 0.147299:  85%|#########################################6       | 17/20 [02:23<00:25,  8.50s/it]"
     ]
    },
    {
     "name": "stdout",
     "output_type": "stream",
     "text": [
      "[800]\tcv_agg's l2: 0.152708 + 0.0223141\n",
      "Early stopping, best iteration is:\n",
      "[702]\tcv_agg's l2: 0.147299 + 0.0203485\n",
      "[100]\tcv_agg's l2: 0.16038 + 0.0198336\n",
      "[200]\tcv_agg's l2: 0.154897 + 0.0209446\n",
      "[300]\tcv_agg's l2: 0.154065 + 0.0219449\n",
      "[400]\tcv_agg's l2: 0.153557 + 0.022534\n",
      "[500]\tcv_agg's l2: 0.153064 + 0.0224325\n",
      "[600]\tcv_agg's l2: 0.152897 + 0.0224461\n",
      "[700]\tcv_agg's l2: 0.152739 + 0.022313\n"
     ]
    },
    {
     "name": "stderr",
     "output_type": "stream",
     "text": [
      "num_leaves, val_score: 0.147299:  90%|############################################1    | 18/20 [02:33<00:17,  8.88s/it][I 2023-11-24 15:07:09,680] Trial 24 finished with value: 0.1527439863326659 and parameters: {'num_leaves': 65}. Best is trial 8 with value: 0.14729873637959529.\n",
      "num_leaves, val_score: 0.147299:  90%|############################################1    | 18/20 [02:33<00:17,  8.88s/it]"
     ]
    },
    {
     "name": "stdout",
     "output_type": "stream",
     "text": [
      "[800]\tcv_agg's l2: 0.152708 + 0.0223141\n",
      "Early stopping, best iteration is:\n",
      "[702]\tcv_agg's l2: 0.147299 + 0.0203485\n",
      "[100]\tcv_agg's l2: 0.158979 + 0.022895\n",
      "[200]\tcv_agg's l2: 0.152904 + 0.0223865\n",
      "[300]\tcv_agg's l2: 0.151382 + 0.0236074\n",
      "[400]\tcv_agg's l2: 0.150842 + 0.0244747\n",
      "[500]\tcv_agg's l2: 0.150433 + 0.0244089\n",
      "[600]\tcv_agg's l2: 0.150096 + 0.0245645\n",
      "[700]\tcv_agg's l2: 0.149891 + 0.0244787\n"
     ]
    },
    {
     "name": "stderr",
     "output_type": "stream",
     "text": [
      "num_leaves, val_score: 0.147299:  95%|##############################################5  | 19/20 [02:42<00:09,  9.13s/it][I 2023-11-24 15:07:19,394] Trial 25 finished with value: 0.14988539578466722 and parameters: {'num_leaves': 28}. Best is trial 8 with value: 0.14729873637959529.\n",
      "num_leaves, val_score: 0.147299:  95%|##############################################5  | 19/20 [02:42<00:09,  9.13s/it]"
     ]
    },
    {
     "name": "stdout",
     "output_type": "stream",
     "text": [
      "[800]\tcv_agg's l2: 0.149791 + 0.0245545\n",
      "Early stopping, best iteration is:\n",
      "[702]\tcv_agg's l2: 0.147299 + 0.0203485\n",
      "[100]\tcv_agg's l2: 0.16038 + 0.0198336\n",
      "[200]\tcv_agg's l2: 0.154897 + 0.0209446\n",
      "[300]\tcv_agg's l2: 0.154065 + 0.0219449\n",
      "[400]\tcv_agg's l2: 0.153557 + 0.022534\n",
      "[500]\tcv_agg's l2: 0.153064 + 0.0224325\n",
      "[600]\tcv_agg's l2: 0.152897 + 0.0224461\n",
      "[700]\tcv_agg's l2: 0.152739 + 0.022313\n"
     ]
    },
    {
     "name": "stderr",
     "output_type": "stream",
     "text": [
      "num_leaves, val_score: 0.147299: 100%|#################################################| 20/20 [02:53<00:00,  9.50s/it][I 2023-11-24 15:07:29,744] Trial 26 finished with value: 0.1527439863326659 and parameters: {'num_leaves': 96}. Best is trial 8 with value: 0.14729873637959529.\n",
      "num_leaves, val_score: 0.147299: 100%|#################################################| 20/20 [02:53<00:00,  8.65s/it]\n"
     ]
    },
    {
     "name": "stdout",
     "output_type": "stream",
     "text": [
      "[800]\tcv_agg's l2: 0.152708 + 0.0223141\n",
      "Early stopping, best iteration is:\n",
      "[702]\tcv_agg's l2: 0.147299 + 0.0203485\n"
     ]
    },
    {
     "name": "stderr",
     "output_type": "stream",
     "text": [
      "bagging, val_score: 0.147299:   0%|                                                             | 0/10 [00:00<?, ?it/s]"
     ]
    },
    {
     "name": "stdout",
     "output_type": "stream",
     "text": [
      "[100]\tcv_agg's l2: 0.181547 + 0.0282657\n",
      "[200]\tcv_agg's l2: 0.177524 + 0.0279997\n",
      "[300]\tcv_agg's l2: 0.17312 + 0.0278014\n",
      "[400]\tcv_agg's l2: 0.172064 + 0.0280621\n",
      "[500]\tcv_agg's l2: 0.171696 + 0.0287261\n",
      "[600]\tcv_agg's l2: 0.170976 + 0.0285706\n",
      "[700]\tcv_agg's l2: 0.170439 + 0.0287368\n"
     ]
    },
    {
     "name": "stderr",
     "output_type": "stream",
     "text": [
      "bagging, val_score: 0.147299:  10%|#####3                                               | 1/10 [00:07<01:10,  7.79s/it][I 2023-11-24 15:07:37,546] Trial 27 finished with value: 0.1705076174359689 and parameters: {'bagging_fraction': 0.7307697538059761, 'bagging_freq': 3}. Best is trial 27 with value: 0.1705076174359689.\n",
      "bagging, val_score: 0.147299:  10%|#####3                                               | 1/10 [00:07<01:10,  7.79s/it]"
     ]
    },
    {
     "name": "stdout",
     "output_type": "stream",
     "text": [
      "[800]\tcv_agg's l2: 0.170588 + 0.029448\n",
      "Early stopping, best iteration is:\n",
      "[702]\tcv_agg's l2: 0.147299 + 0.0203485\n",
      "[100]\tcv_agg's l2: 0.236937 + 0.0229736\n",
      "[200]\tcv_agg's l2: 0.226303 + 0.0189368\n",
      "[300]\tcv_agg's l2: 0.221612 + 0.0168796\n",
      "[400]\tcv_agg's l2: 0.21591 + 0.0147153\n",
      "[500]\tcv_agg's l2: 0.213766 + 0.0128943\n",
      "[600]\tcv_agg's l2: 0.210427 + 0.0167635\n",
      "[700]\tcv_agg's l2: 0.209346 + 0.0167962\n"
     ]
    },
    {
     "name": "stderr",
     "output_type": "stream",
     "text": [
      "bagging, val_score: 0.147299:  20%|##########6                                          | 2/10 [00:13<00:53,  6.74s/it][I 2023-11-24 15:07:43,553] Trial 28 finished with value: 0.20910622827713912 and parameters: {'bagging_fraction': 0.40347316561629987, 'bagging_freq': 7}. Best is trial 27 with value: 0.1705076174359689.\n",
      "bagging, val_score: 0.147299:  20%|##########6                                          | 2/10 [00:13<00:53,  6.74s/it]"
     ]
    },
    {
     "name": "stdout",
     "output_type": "stream",
     "text": [
      "[800]\tcv_agg's l2: 0.209179 + 0.016317\n",
      "Early stopping, best iteration is:\n",
      "[702]\tcv_agg's l2: 0.147299 + 0.0203485\n",
      "[100]\tcv_agg's l2: 0.17043 + 0.0194606\n",
      "[200]\tcv_agg's l2: 0.161704 + 0.0185579\n",
      "[300]\tcv_agg's l2: 0.15976 + 0.0191814\n",
      "[400]\tcv_agg's l2: 0.159432 + 0.0200553\n",
      "[500]\tcv_agg's l2: 0.159453 + 0.020482\n",
      "[600]\tcv_agg's l2: 0.15935 + 0.0203201\n",
      "[700]\tcv_agg's l2: 0.159171 + 0.0203686\n"
     ]
    },
    {
     "name": "stderr",
     "output_type": "stream",
     "text": [
      "bagging, val_score: 0.147299:  30%|###############9                                     | 3/10 [00:22<00:52,  7.54s/it][I 2023-11-24 15:07:52,053] Trial 29 finished with value: 0.15916124313237304 and parameters: {'bagging_fraction': 0.945645917587508, 'bagging_freq': 1}. Best is trial 29 with value: 0.15916124313237304.\n",
      "bagging, val_score: 0.147299:  30%|###############9                                     | 3/10 [00:22<00:52,  7.54s/it]"
     ]
    },
    {
     "name": "stdout",
     "output_type": "stream",
     "text": [
      "[800]\tcv_agg's l2: 0.159191 + 0.0203793\n",
      "Early stopping, best iteration is:\n",
      "[702]\tcv_agg's l2: 0.147299 + 0.0203485\n",
      "[100]\tcv_agg's l2: 0.156162 + 0.0188695\n",
      "[200]\tcv_agg's l2: 0.147597 + 0.017973\n",
      "[300]\tcv_agg's l2: 0.146465 + 0.0181998\n",
      "[400]\tcv_agg's l2: 0.145541 + 0.0182373\n",
      "[500]\tcv_agg's l2: 0.145449 + 0.0184756\n",
      "[600]\tcv_agg's l2: 0.145409 + 0.0186846\n",
      "[700]\tcv_agg's l2: 0.145274 + 0.01873\n"
     ]
    },
    {
     "name": "stderr",
     "output_type": "stream",
     "text": [
      "bagging, val_score: 0.145220:  40%|#####################2                               | 4/10 [00:30<00:46,  7.78s/it][I 2023-11-24 15:08:00,182] Trial 30 finished with value: 0.1452202111253053 and parameters: {'bagging_fraction': 0.9982055173299748, 'bagging_freq': 7}. Best is trial 30 with value: 0.1452202111253053.\n",
      "bagging, val_score: 0.145220:  40%|#####################2                               | 4/10 [00:30<00:46,  7.78s/it]"
     ]
    },
    {
     "name": "stdout",
     "output_type": "stream",
     "text": [
      "Early stopping, best iteration is:\n",
      "[662]\tcv_agg's l2: 0.14522 + 0.0186475\n",
      "[100]\tcv_agg's l2: 0.155002 + 0.0213552\n",
      "[200]\tcv_agg's l2: 0.149384 + 0.0190737\n",
      "[300]\tcv_agg's l2: 0.147939 + 0.0199268\n",
      "[400]\tcv_agg's l2: 0.147574 + 0.0203313\n",
      "[500]\tcv_agg's l2: 0.147406 + 0.0201882\n",
      "[600]\tcv_agg's l2: 0.147405 + 0.0203103\n",
      "[700]\tcv_agg's l2: 0.147309 + 0.0203658\n"
     ]
    },
    {
     "name": "stderr",
     "output_type": "stream",
     "text": [
      "bagging, val_score: 0.145220:  50%|##########################5                          | 5/10 [00:38<00:39,  7.92s/it][I 2023-11-24 15:08:08,348] Trial 31 finished with value: 0.14735022749270352 and parameters: {'bagging_fraction': 0.9990131966935099, 'bagging_freq': 7}. Best is trial 30 with value: 0.1452202111253053.\n",
      "bagging, val_score: 0.145220:  50%|##########################5                          | 5/10 [00:38<00:39,  7.92s/it]"
     ]
    },
    {
     "name": "stdout",
     "output_type": "stream",
     "text": [
      "Early stopping, best iteration is:\n",
      "[662]\tcv_agg's l2: 0.14522 + 0.0186475\n",
      "[100]\tcv_agg's l2: 0.155002 + 0.0213552\n",
      "[200]\tcv_agg's l2: 0.149384 + 0.0190737\n",
      "[300]\tcv_agg's l2: 0.147939 + 0.0199268\n",
      "[400]\tcv_agg's l2: 0.147574 + 0.0203313\n",
      "[500]\tcv_agg's l2: 0.147406 + 0.0201882\n",
      "[600]\tcv_agg's l2: 0.147405 + 0.0203103\n",
      "[700]\tcv_agg's l2: 0.147309 + 0.0203658\n"
     ]
    },
    {
     "name": "stderr",
     "output_type": "stream",
     "text": [
      "bagging, val_score: 0.145220:  60%|###############################8                     | 6/10 [00:47<00:32,  8.17s/it][I 2023-11-24 15:08:17,002] Trial 32 finished with value: 0.14735022749270352 and parameters: {'bagging_fraction': 0.9999064135160365, 'bagging_freq': 7}. Best is trial 30 with value: 0.1452202111253053.\n",
      "bagging, val_score: 0.145220:  60%|###############################8                     | 6/10 [00:47<00:32,  8.17s/it]"
     ]
    },
    {
     "name": "stdout",
     "output_type": "stream",
     "text": [
      "Early stopping, best iteration is:\n",
      "[662]\tcv_agg's l2: 0.14522 + 0.0186475\n",
      "[100]\tcv_agg's l2: 0.159226 + 0.0187981\n",
      "[200]\tcv_agg's l2: 0.151829 + 0.0187106\n",
      "[300]\tcv_agg's l2: 0.149344 + 0.0193728\n",
      "[400]\tcv_agg's l2: 0.148364 + 0.0198476\n",
      "[500]\tcv_agg's l2: 0.147975 + 0.0201113\n",
      "[600]\tcv_agg's l2: 0.147909 + 0.0201223\n",
      "[700]\tcv_agg's l2: 0.147788 + 0.0200793\n"
     ]
    },
    {
     "name": "stderr",
     "output_type": "stream",
     "text": [
      "bagging, val_score: 0.145220:  70%|#####################################                | 7/10 [00:56<00:25,  8.45s/it][I 2023-11-24 15:08:26,018] Trial 33 finished with value: 0.14786822077703038 and parameters: {'bagging_fraction': 0.9937708126061197, 'bagging_freq': 7}. Best is trial 30 with value: 0.1452202111253053.\n",
      "bagging, val_score: 0.145220:  70%|#####################################                | 7/10 [00:56<00:25,  8.45s/it]"
     ]
    },
    {
     "name": "stdout",
     "output_type": "stream",
     "text": [
      "Early stopping, best iteration is:\n",
      "[662]\tcv_agg's l2: 0.14522 + 0.0186475\n",
      "[100]\tcv_agg's l2: 0.170907 + 0.0215044\n",
      "[200]\tcv_agg's l2: 0.161935 + 0.0205817\n",
      "[300]\tcv_agg's l2: 0.159756 + 0.0205776\n",
      "[400]\tcv_agg's l2: 0.158224 + 0.0204792\n",
      "[500]\tcv_agg's l2: 0.157486 + 0.0205027\n",
      "[600]\tcv_agg's l2: 0.157115 + 0.0207256\n",
      "[700]\tcv_agg's l2: 0.156957 + 0.0206973\n"
     ]
    },
    {
     "name": "stderr",
     "output_type": "stream",
     "text": [
      "bagging, val_score: 0.145220:  80%|##########################################4          | 8/10 [01:05<00:17,  8.64s/it][I 2023-11-24 15:08:35,085] Trial 34 finished with value: 0.15706737675968835 and parameters: {'bagging_fraction': 0.9729719046241411, 'bagging_freq': 7}. Best is trial 30 with value: 0.1452202111253053.\n",
      "bagging, val_score: 0.145220:  80%|##########################################4          | 8/10 [01:05<00:17,  8.64s/it]"
     ]
    },
    {
     "name": "stdout",
     "output_type": "stream",
     "text": [
      "Early stopping, best iteration is:\n",
      "[662]\tcv_agg's l2: 0.14522 + 0.0186475\n",
      "[100]\tcv_agg's l2: 0.165549 + 0.0248658\n",
      "[200]\tcv_agg's l2: 0.156753 + 0.0231447\n",
      "[300]\tcv_agg's l2: 0.154668 + 0.0238304\n",
      "[400]\tcv_agg's l2: 0.153787 + 0.0240923\n",
      "[500]\tcv_agg's l2: 0.15356 + 0.024152\n",
      "[600]\tcv_agg's l2: 0.153381 + 0.0241482\n",
      "[700]\tcv_agg's l2: 0.153331 + 0.0242028\n"
     ]
    },
    {
     "name": "stderr",
     "output_type": "stream",
     "text": [
      "bagging, val_score: 0.145220:  90%|###############################################7     | 9/10 [01:14<00:08,  8.69s/it][I 2023-11-24 15:08:43,872] Trial 35 finished with value: 0.1533134077589258 and parameters: {'bagging_fraction': 0.9907496559505049, 'bagging_freq': 5}. Best is trial 30 with value: 0.1452202111253053.\n",
      "bagging, val_score: 0.145220:  90%|###############################################7     | 9/10 [01:14<00:08,  8.69s/it]"
     ]
    },
    {
     "name": "stdout",
     "output_type": "stream",
     "text": [
      "Early stopping, best iteration is:\n",
      "[662]\tcv_agg's l2: 0.14522 + 0.0186475\n",
      "[100]\tcv_agg's l2: 0.169732 + 0.0262106\n",
      "[200]\tcv_agg's l2: 0.162537 + 0.0279898\n",
      "[300]\tcv_agg's l2: 0.159498 + 0.0290893\n",
      "[400]\tcv_agg's l2: 0.158816 + 0.0303782\n",
      "[500]\tcv_agg's l2: 0.158019 + 0.0304109\n",
      "[600]\tcv_agg's l2: 0.15731 + 0.0305056\n",
      "[700]\tcv_agg's l2: 0.156927 + 0.0307901\n"
     ]
    },
    {
     "name": "stderr",
     "output_type": "stream",
     "text": [
      "bagging, val_score: 0.145220: 100%|####################################################| 10/10 [01:21<00:00,  8.43s/it][I 2023-11-24 15:08:51,724] Trial 36 finished with value: 0.1571058061516763 and parameters: {'bagging_fraction': 0.8431456808778558, 'bagging_freq': 5}. Best is trial 30 with value: 0.1452202111253053.\n",
      "bagging, val_score: 0.145220: 100%|####################################################| 10/10 [01:21<00:00,  8.20s/it]\n"
     ]
    },
    {
     "name": "stdout",
     "output_type": "stream",
     "text": [
      "Early stopping, best iteration is:\n",
      "[662]\tcv_agg's l2: 0.14522 + 0.0186475\n"
     ]
    },
    {
     "name": "stderr",
     "output_type": "stream",
     "text": [
      "feature_fraction_stage2, val_score: 0.145220:   0%|                                              | 0/3 [00:00<?, ?it/s]"
     ]
    },
    {
     "name": "stdout",
     "output_type": "stream",
     "text": [
      "[100]\tcv_agg's l2: 0.164995 + 0.020705\n",
      "[200]\tcv_agg's l2: 0.157918 + 0.0220887\n",
      "[300]\tcv_agg's l2: 0.156393 + 0.0222658\n",
      "[400]\tcv_agg's l2: 0.155579 + 0.022516\n",
      "[500]\tcv_agg's l2: 0.15539 + 0.0225093\n",
      "[600]\tcv_agg's l2: 0.1552 + 0.0225619\n",
      "[700]\tcv_agg's l2: 0.155034 + 0.0224985\n"
     ]
    },
    {
     "name": "stderr",
     "output_type": "stream",
     "text": [
      "feature_fraction_stage2, val_score: 0.145220:  33%|############6                         | 1/3 [00:08<00:17,  8.68s/it][I 2023-11-24 15:09:00,414] Trial 37 finished with value: 0.1551441937728046 and parameters: {'feature_fraction': 0.44800000000000006}. Best is trial 37 with value: 0.1551441937728046.\n",
      "feature_fraction_stage2, val_score: 0.145220:  33%|############6                         | 1/3 [00:08<00:17,  8.68s/it]"
     ]
    },
    {
     "name": "stdout",
     "output_type": "stream",
     "text": [
      "Early stopping, best iteration is:\n",
      "[662]\tcv_agg's l2: 0.14522 + 0.0186475\n",
      "[100]\tcv_agg's l2: 0.158171 + 0.0163104\n",
      "[200]\tcv_agg's l2: 0.150946 + 0.0174696\n",
      "[300]\tcv_agg's l2: 0.149254 + 0.017582\n",
      "[400]\tcv_agg's l2: 0.148339 + 0.0180907\n",
      "[500]\tcv_agg's l2: 0.147787 + 0.0183249\n",
      "[600]\tcv_agg's l2: 0.147664 + 0.0182861\n",
      "[700]\tcv_agg's l2: 0.147396 + 0.0182568\n"
     ]
    },
    {
     "name": "stderr",
     "output_type": "stream",
     "text": [
      "feature_fraction_stage2, val_score: 0.145220:  67%|#########################3            | 2/3 [00:16<00:08,  8.25s/it][I 2023-11-24 15:09:08,355] Trial 38 finished with value: 0.14738186709890314 and parameters: {'feature_fraction': 0.41600000000000004}. Best is trial 38 with value: 0.14738186709890314.\n",
      "feature_fraction_stage2, val_score: 0.145220:  67%|#########################3            | 2/3 [00:16<00:08,  8.25s/it]"
     ]
    },
    {
     "name": "stdout",
     "output_type": "stream",
     "text": [
      "Early stopping, best iteration is:\n",
      "[662]\tcv_agg's l2: 0.14522 + 0.0186475\n",
      "[100]\tcv_agg's l2: 0.164892 + 0.0253403\n",
      "[200]\tcv_agg's l2: 0.159293 + 0.0259316\n",
      "[300]\tcv_agg's l2: 0.157931 + 0.0259088\n",
      "[400]\tcv_agg's l2: 0.157122 + 0.0260373\n",
      "[500]\tcv_agg's l2: 0.156953 + 0.0260851\n",
      "[600]\tcv_agg's l2: 0.156856 + 0.0261341\n",
      "[700]\tcv_agg's l2: 0.156764 + 0.0261188\n"
     ]
    },
    {
     "name": "stderr",
     "output_type": "stream",
     "text": [
      "feature_fraction_stage2, val_score: 0.145220: 100%|######################################| 3/3 [00:25<00:00,  8.54s/it][I 2023-11-24 15:09:17,252] Trial 39 finished with value: 0.1567585726552631 and parameters: {'feature_fraction': 0.48000000000000004}. Best is trial 38 with value: 0.14738186709890314.\n",
      "feature_fraction_stage2, val_score: 0.145220: 100%|######################################| 3/3 [00:25<00:00,  8.51s/it]\n"
     ]
    },
    {
     "name": "stdout",
     "output_type": "stream",
     "text": [
      "Early stopping, best iteration is:\n",
      "[662]\tcv_agg's l2: 0.14522 + 0.0186475\n"
     ]
    },
    {
     "name": "stderr",
     "output_type": "stream",
     "text": [
      "regularization_factors, val_score: 0.145220:   0%|                                              | 0/20 [00:00<?, ?it/s]"
     ]
    },
    {
     "name": "stdout",
     "output_type": "stream",
     "text": [
      "[100]\tcv_agg's l2: 0.155119 + 0.0194429\n",
      "[200]\tcv_agg's l2: 0.147324 + 0.0181519\n",
      "[300]\tcv_agg's l2: 0.145669 + 0.018682\n",
      "[400]\tcv_agg's l2: 0.144852 + 0.0187609\n",
      "[500]\tcv_agg's l2: 0.144757 + 0.0191629\n"
     ]
    },
    {
     "name": "stderr",
     "output_type": "stream",
     "text": [
      "regularization_factors, val_score: 0.144667:   5%|#9                                    | 1/20 [00:06<02:11,  6.91s/it][I 2023-11-24 15:09:24,172] Trial 40 finished with value: 0.14466688076320816 and parameters: {'lambda_l1': 1.1951576752819511e-06, 'lambda_l2': 2.6612759507166216e-08}. Best is trial 40 with value: 0.14466688076320816.\n",
      "regularization_factors, val_score: 0.144667:   5%|#9                                    | 1/20 [00:06<02:11,  6.91s/it]"
     ]
    },
    {
     "name": "stdout",
     "output_type": "stream",
     "text": [
      "[600]\tcv_agg's l2: 0.144914 + 0.0192725\n",
      "Early stopping, best iteration is:\n",
      "[507]\tcv_agg's l2: 0.144667 + 0.0191712\n",
      "[100]\tcv_agg's l2: 0.155119 + 0.0194429\n",
      "[200]\tcv_agg's l2: 0.147324 + 0.0181519\n",
      "[300]\tcv_agg's l2: 0.145669 + 0.018682\n",
      "[400]\tcv_agg's l2: 0.144852 + 0.0187609\n",
      "[500]\tcv_agg's l2: 0.144734 + 0.0191325\n"
     ]
    },
    {
     "name": "stderr",
     "output_type": "stream",
     "text": [
      "regularization_factors, val_score: 0.144628:  10%|###8                                  | 2/20 [00:13<02:04,  6.94s/it][I 2023-11-24 15:09:31,138] Trial 41 finished with value: 0.14462750946183472 and parameters: {'lambda_l1': 3.755985403749064e-07, 'lambda_l2': 1.2165449022122852e-08}. Best is trial 41 with value: 0.14462750946183472.\n",
      "regularization_factors, val_score: 0.144628:  10%|###8                                  | 2/20 [00:13<02:04,  6.94s/it]"
     ]
    },
    {
     "name": "stdout",
     "output_type": "stream",
     "text": [
      "[600]\tcv_agg's l2: 0.144863 + 0.0192064\n",
      "Early stopping, best iteration is:\n",
      "[507]\tcv_agg's l2: 0.144628 + 0.0191197\n",
      "[100]\tcv_agg's l2: 0.155119 + 0.0194429\n",
      "[200]\tcv_agg's l2: 0.147324 + 0.0181519\n",
      "[300]\tcv_agg's l2: 0.145669 + 0.018682\n",
      "[400]\tcv_agg's l2: 0.144852 + 0.0187609\n",
      "[500]\tcv_agg's l2: 0.144734 + 0.0191325\n"
     ]
    },
    {
     "name": "stderr",
     "output_type": "stream",
     "text": [
      "regularization_factors, val_score: 0.144628:  15%|#####7                                | 3/20 [00:20<01:57,  6.92s/it][I 2023-11-24 15:09:38,033] Trial 42 finished with value: 0.14462750942958186 and parameters: {'lambda_l1': 3.674355464960553e-07, 'lambda_l2': 1.0445516333902263e-08}. Best is trial 42 with value: 0.14462750942958186.\n",
      "regularization_factors, val_score: 0.144628:  15%|#####7                                | 3/20 [00:20<01:57,  6.92s/it]"
     ]
    },
    {
     "name": "stdout",
     "output_type": "stream",
     "text": [
      "[600]\tcv_agg's l2: 0.144863 + 0.0192064\n",
      "Early stopping, best iteration is:\n",
      "[507]\tcv_agg's l2: 0.144628 + 0.0191197\n",
      "[100]\tcv_agg's l2: 0.155119 + 0.0194429\n",
      "[200]\tcv_agg's l2: 0.147324 + 0.0181519\n",
      "[300]\tcv_agg's l2: 0.145669 + 0.018682\n",
      "[400]\tcv_agg's l2: 0.144852 + 0.0187609\n",
      "[500]\tcv_agg's l2: 0.144734 + 0.0191325\n"
     ]
    },
    {
     "name": "stderr",
     "output_type": "stream",
     "text": [
      "regularization_factors, val_score: 0.144628:  20%|#######6                              | 4/20 [00:27<01:49,  6.87s/it][I 2023-11-24 15:09:44,819] Trial 43 finished with value: 0.14462750949846703 and parameters: {'lambda_l1': 4.1550641181392777e-07, 'lambda_l2': 1.3177308586830186e-08}. Best is trial 42 with value: 0.14462750942958186.\n",
      "regularization_factors, val_score: 0.144628:  20%|#######6                              | 4/20 [00:27<01:49,  6.87s/it]"
     ]
    },
    {
     "name": "stdout",
     "output_type": "stream",
     "text": [
      "[600]\tcv_agg's l2: 0.144863 + 0.0192064\n",
      "Early stopping, best iteration is:\n",
      "[507]\tcv_agg's l2: 0.144628 + 0.0191197\n",
      "[100]\tcv_agg's l2: 0.155119 + 0.0194429\n",
      "[200]\tcv_agg's l2: 0.147324 + 0.0181519\n",
      "[300]\tcv_agg's l2: 0.145669 + 0.018682\n",
      "[400]\tcv_agg's l2: 0.144852 + 0.0187609\n",
      "[500]\tcv_agg's l2: 0.144734 + 0.0191325\n"
     ]
    },
    {
     "name": "stderr",
     "output_type": "stream",
     "text": [
      "regularization_factors, val_score: 0.144628:  25%|#########5                            | 5/20 [00:34<01:43,  6.90s/it][I 2023-11-24 15:09:51,790] Trial 44 finished with value: 0.14462750938867852 and parameters: {'lambda_l1': 3.523487235889483e-07, 'lambda_l2': 1.02603153469649e-08}. Best is trial 44 with value: 0.14462750938867852.\n",
      "regularization_factors, val_score: 0.144628:  25%|#########5                            | 5/20 [00:34<01:43,  6.90s/it]"
     ]
    },
    {
     "name": "stdout",
     "output_type": "stream",
     "text": [
      "[600]\tcv_agg's l2: 0.144863 + 0.0192064\n",
      "Early stopping, best iteration is:\n",
      "[507]\tcv_agg's l2: 0.144628 + 0.0191197\n",
      "[100]\tcv_agg's l2: 0.155119 + 0.0194429\n",
      "[200]\tcv_agg's l2: 0.147324 + 0.0181519\n",
      "[300]\tcv_agg's l2: 0.145669 + 0.018682\n",
      "[400]\tcv_agg's l2: 0.144852 + 0.0187609\n",
      "[500]\tcv_agg's l2: 0.144734 + 0.0191325\n"
     ]
    },
    {
     "name": "stderr",
     "output_type": "stream",
     "text": [
      "regularization_factors, val_score: 0.144628:  30%|###########4                          | 6/20 [00:41<01:35,  6.86s/it][I 2023-11-24 15:09:58,553] Trial 45 finished with value: 0.1446275094379151 and parameters: {'lambda_l1': 3.9067267527540615e-07, 'lambda_l2': 1.2088136512127612e-08}. Best is trial 44 with value: 0.14462750938867852.\n",
      "regularization_factors, val_score: 0.144628:  30%|###########4                          | 6/20 [00:41<01:35,  6.86s/it]"
     ]
    },
    {
     "name": "stdout",
     "output_type": "stream",
     "text": [
      "[600]\tcv_agg's l2: 0.144863 + 0.0192064\n",
      "Early stopping, best iteration is:\n",
      "[507]\tcv_agg's l2: 0.144628 + 0.0191197\n",
      "[100]\tcv_agg's l2: 0.155119 + 0.0194429\n",
      "[200]\tcv_agg's l2: 0.147324 + 0.0181519\n",
      "[300]\tcv_agg's l2: 0.145669 + 0.018682\n",
      "[400]\tcv_agg's l2: 0.144852 + 0.0187609\n",
      "[500]\tcv_agg's l2: 0.144734 + 0.0191325\n"
     ]
    },
    {
     "name": "stderr",
     "output_type": "stream",
     "text": [
      "regularization_factors, val_score: 0.144628:  35%|#############3                        | 7/20 [00:48<01:32,  7.09s/it][I 2023-11-24 15:10:06,127] Trial 46 finished with value: 0.14462750935634042 and parameters: {'lambda_l1': 2.893425400424595e-07, 'lambda_l2': 1.2234154269785301e-08}. Best is trial 46 with value: 0.14462750935634042.\n",
      "regularization_factors, val_score: 0.144628:  35%|#############3                        | 7/20 [00:48<01:32,  7.09s/it]"
     ]
    },
    {
     "name": "stdout",
     "output_type": "stream",
     "text": [
      "[600]\tcv_agg's l2: 0.144863 + 0.0192064\n",
      "Early stopping, best iteration is:\n",
      "[507]\tcv_agg's l2: 0.144628 + 0.0191197\n",
      "[100]\tcv_agg's l2: 0.155119 + 0.0194429\n",
      "[200]\tcv_agg's l2: 0.147324 + 0.0181519\n",
      "[300]\tcv_agg's l2: 0.145669 + 0.018682\n",
      "[400]\tcv_agg's l2: 0.144852 + 0.0187609\n",
      "[500]\tcv_agg's l2: 0.144734 + 0.0191325\n"
     ]
    },
    {
     "name": "stderr",
     "output_type": "stream",
     "text": [
      "regularization_factors, val_score: 0.144628:  40%|###############2                      | 8/20 [00:55<01:23,  7.00s/it][I 2023-11-24 15:10:12,926] Trial 47 finished with value: 0.14462750936338897 and parameters: {'lambda_l1': 2.6807225784619563e-07, 'lambda_l2': 1.0523836805377666e-08}. Best is trial 46 with value: 0.14462750935634042.\n",
      "regularization_factors, val_score: 0.144628:  40%|###############2                      | 8/20 [00:55<01:23,  7.00s/it]"
     ]
    },
    {
     "name": "stdout",
     "output_type": "stream",
     "text": [
      "[600]\tcv_agg's l2: 0.144863 + 0.0192064\n",
      "Early stopping, best iteration is:\n",
      "[507]\tcv_agg's l2: 0.144628 + 0.0191197\n",
      "[100]\tcv_agg's l2: 0.155119 + 0.0194429\n",
      "[200]\tcv_agg's l2: 0.147324 + 0.0181519\n",
      "[300]\tcv_agg's l2: 0.145669 + 0.018682\n",
      "[400]\tcv_agg's l2: 0.144852 + 0.0187609\n",
      "[500]\tcv_agg's l2: 0.144734 + 0.0191325\n"
     ]
    },
    {
     "name": "stderr",
     "output_type": "stream",
     "text": [
      "regularization_factors, val_score: 0.144628:  45%|#################1                    | 9/20 [01:01<01:13,  6.70s/it][I 2023-11-24 15:10:18,977] Trial 48 finished with value: 0.14462750931226737 and parameters: {'lambda_l1': 2.2164544734204813e-07, 'lambda_l2': 1.0079854974790642e-08}. Best is trial 48 with value: 0.14462750931226737.\n",
      "regularization_factors, val_score: 0.144628:  45%|#################1                    | 9/20 [01:01<01:13,  6.70s/it]"
     ]
    },
    {
     "name": "stdout",
     "output_type": "stream",
     "text": [
      "[600]\tcv_agg's l2: 0.144863 + 0.0192064\n",
      "Early stopping, best iteration is:\n",
      "[507]\tcv_agg's l2: 0.144628 + 0.0191197\n",
      "[100]\tcv_agg's l2: 0.156162 + 0.0188695\n",
      "[200]\tcv_agg's l2: 0.147597 + 0.017973\n",
      "[300]\tcv_agg's l2: 0.146277 + 0.0183167\n",
      "[400]\tcv_agg's l2: 0.145323 + 0.0183759\n",
      "[500]\tcv_agg's l2: 0.145048 + 0.0187573\n"
     ]
    },
    {
     "name": "stderr",
     "output_type": "stream",
     "text": [
      "regularization_factors, val_score: 0.144628:  50%|##################5                  | 10/20 [01:08<01:06,  6.69s/it][I 2023-11-24 15:10:25,653] Trial 49 finished with value: 0.14494120647773648 and parameters: {'lambda_l1': 7.87539727433458e-08, 'lambda_l2': 1.180368114444813e-08}. Best is trial 48 with value: 0.14462750931226737.\n",
      "regularization_factors, val_score: 0.144628:  50%|##################5                  | 10/20 [01:08<01:06,  6.69s/it]"
     ]
    },
    {
     "name": "stdout",
     "output_type": "stream",
     "text": [
      "[600]\tcv_agg's l2: 0.145062 + 0.0188843\n",
      "Early stopping, best iteration is:\n",
      "[507]\tcv_agg's l2: 0.144628 + 0.0191197\n",
      "[100]\tcv_agg's l2: 0.156162 + 0.0188695\n",
      "[200]\tcv_agg's l2: 0.147597 + 0.017973\n",
      "[300]\tcv_agg's l2: 0.146277 + 0.0183167\n",
      "[400]\tcv_agg's l2: 0.145325 + 0.018373\n",
      "[500]\tcv_agg's l2: 0.145079 + 0.0187088\n"
     ]
    },
    {
     "name": "stderr",
     "output_type": "stream",
     "text": [
      "regularization_factors, val_score: 0.144628:  55%|####################3                | 11/20 [01:15<01:00,  6.68s/it][I 2023-11-24 15:10:32,308] Trial 50 finished with value: 0.14499682260359667 and parameters: {'lambda_l1': 1.2593468651109901e-08, 'lambda_l2': 1.0674018792361458e-08}. Best is trial 48 with value: 0.14462750931226737.\n",
      "regularization_factors, val_score: 0.144628:  55%|####################3                | 11/20 [01:15<01:00,  6.68s/it]"
     ]
    },
    {
     "name": "stdout",
     "output_type": "stream",
     "text": [
      "[600]\tcv_agg's l2: 0.145035 + 0.018925\n",
      "Early stopping, best iteration is:\n",
      "[507]\tcv_agg's l2: 0.144628 + 0.0191197\n",
      "[100]\tcv_agg's l2: 0.155119 + 0.0194429\n",
      "[200]\tcv_agg's l2: 0.147324 + 0.0181519\n",
      "[300]\tcv_agg's l2: 0.145669 + 0.018682\n",
      "[400]\tcv_agg's l2: 0.144852 + 0.0187609\n",
      "[500]\tcv_agg's l2: 0.144757 + 0.0191629\n"
     ]
    },
    {
     "name": "stderr",
     "output_type": "stream",
     "text": [
      "regularization_factors, val_score: 0.144628:  60%|######################2              | 12/20 [01:21<00:52,  6.60s/it][I 2023-11-24 15:10:38,731] Trial 51 finished with value: 0.14466688044518783 and parameters: {'lambda_l1': 9.450016324186842e-07, 'lambda_l2': 1.4268443137910182e-08}. Best is trial 48 with value: 0.14462750931226737.\n",
      "regularization_factors, val_score: 0.144628:  60%|######################2              | 12/20 [01:21<00:52,  6.60s/it]"
     ]
    },
    {
     "name": "stdout",
     "output_type": "stream",
     "text": [
      "[600]\tcv_agg's l2: 0.144914 + 0.0192725\n",
      "Early stopping, best iteration is:\n",
      "[507]\tcv_agg's l2: 0.144628 + 0.0191197\n",
      "[100]\tcv_agg's l2: 0.155119 + 0.0194429\n",
      "[200]\tcv_agg's l2: 0.147324 + 0.0181519\n",
      "[300]\tcv_agg's l2: 0.145669 + 0.018682\n",
      "[400]\tcv_agg's l2: 0.144852 + 0.0187609\n",
      "[500]\tcv_agg's l2: 0.144757 + 0.0191629\n"
     ]
    },
    {
     "name": "stderr",
     "output_type": "stream",
     "text": [
      "regularization_factors, val_score: 0.144628:  65%|########################             | 13/20 [01:28<00:47,  6.81s/it][I 2023-11-24 15:10:46,008] Trial 52 finished with value: 0.14466688069972963 and parameters: {'lambda_l1': 1.156706662605978e-06, 'lambda_l2': 1.1122430796405953e-08}. Best is trial 48 with value: 0.14462750931226737.\n",
      "regularization_factors, val_score: 0.144628:  65%|########################             | 13/20 [01:28<00:47,  6.81s/it]"
     ]
    },
    {
     "name": "stdout",
     "output_type": "stream",
     "text": [
      "[600]\tcv_agg's l2: 0.144914 + 0.0192725\n",
      "Early stopping, best iteration is:\n",
      "[507]\tcv_agg's l2: 0.144628 + 0.0191197\n",
      "[100]\tcv_agg's l2: 0.158 + 0.0214493\n",
      "[200]\tcv_agg's l2: 0.151683 + 0.0220314\n",
      "[300]\tcv_agg's l2: 0.149819 + 0.022735\n",
      "[400]\tcv_agg's l2: 0.14869 + 0.0231533\n",
      "[500]\tcv_agg's l2: 0.148367 + 0.0233236\n"
     ]
    },
    {
     "name": "stderr",
     "output_type": "stream",
     "text": [
      "regularization_factors, val_score: 0.144628:  70%|#########################9           | 14/20 [01:35<00:40,  6.82s/it][I 2023-11-24 15:10:52,848] Trial 53 finished with value: 0.14833190289433806 and parameters: {'lambda_l1': 0.005375500281191656, 'lambda_l2': 2.231834319785044e-06}. Best is trial 48 with value: 0.14462750931226737.\n",
      "regularization_factors, val_score: 0.144628:  70%|#########################9           | 14/20 [01:35<00:40,  6.82s/it]"
     ]
    },
    {
     "name": "stdout",
     "output_type": "stream",
     "text": [
      "[600]\tcv_agg's l2: 0.148141 + 0.0233838\n",
      "Early stopping, best iteration is:\n",
      "[507]\tcv_agg's l2: 0.144628 + 0.0191197\n",
      "[100]\tcv_agg's l2: 0.15512 + 0.0194429\n",
      "[200]\tcv_agg's l2: 0.147955 + 0.0175051\n",
      "[300]\tcv_agg's l2: 0.146505 + 0.0175325\n",
      "[400]\tcv_agg's l2: 0.146113 + 0.0173771\n",
      "[500]\tcv_agg's l2: 0.145974 + 0.0178951\n"
     ]
    },
    {
     "name": "stderr",
     "output_type": "stream",
     "text": [
      "regularization_factors, val_score: 0.144628:  75%|###########################7         | 15/20 [01:43<00:35,  7.03s/it][I 2023-11-24 15:11:00,355] Trial 54 finished with value: 0.14589480371575841 and parameters: {'lambda_l1': 1.3014840375695081e-05, 'lambda_l2': 9.338988639036683e-07}. Best is trial 48 with value: 0.14462750931226737.\n",
      "regularization_factors, val_score: 0.144628:  75%|###########################7         | 15/20 [01:43<00:35,  7.03s/it]"
     ]
    },
    {
     "name": "stdout",
     "output_type": "stream",
     "text": [
      "[600]\tcv_agg's l2: 0.145825 + 0.0180975\n",
      "Early stopping, best iteration is:\n",
      "[507]\tcv_agg's l2: 0.144628 + 0.0191197\n",
      "[100]\tcv_agg's l2: 0.164418 + 0.027236\n",
      "[200]\tcv_agg's l2: 0.156781 + 0.0254933\n",
      "[300]\tcv_agg's l2: 0.153639 + 0.0259839\n",
      "[400]\tcv_agg's l2: 0.152727 + 0.0263415\n",
      "[500]\tcv_agg's l2: 0.152281 + 0.0264276\n"
     ]
    },
    {
     "name": "stderr",
     "output_type": "stream",
     "text": [
      "regularization_factors, val_score: 0.144628:  80%|#############################6       | 16/20 [01:49<00:27,  6.93s/it][I 2023-11-24 15:11:07,080] Trial 55 finished with value: 0.15216427540463845 and parameters: {'lambda_l1': 4.169373387738779e-08, 'lambda_l2': 0.4597261167602534}. Best is trial 48 with value: 0.14462750931226737.\n",
      "regularization_factors, val_score: 0.144628:  80%|#############################6       | 16/20 [01:49<00:27,  6.93s/it]"
     ]
    },
    {
     "name": "stdout",
     "output_type": "stream",
     "text": [
      "[600]\tcv_agg's l2: 0.152092 + 0.0264419\n",
      "Early stopping, best iteration is:\n",
      "[507]\tcv_agg's l2: 0.144628 + 0.0191197\n",
      "[100]\tcv_agg's l2: 0.15512 + 0.0194429\n",
      "[200]\tcv_agg's l2: 0.147955 + 0.0175051\n",
      "[300]\tcv_agg's l2: 0.146366 + 0.0174678\n",
      "[400]\tcv_agg's l2: 0.146041 + 0.0173438\n",
      "[500]\tcv_agg's l2: 0.146014 + 0.017833\n"
     ]
    },
    {
     "name": "stderr",
     "output_type": "stream",
     "text": [
      "regularization_factors, val_score: 0.144628:  85%|###############################4     | 17/20 [01:56<00:20,  6.88s/it][I 2023-11-24 15:11:13,816] Trial 56 finished with value: 0.14601261892271344 and parameters: {'lambda_l1': 1.011262540209596e-05, 'lambda_l2': 3.177879033674722e-07}. Best is trial 48 with value: 0.14462750931226737.\n",
      "regularization_factors, val_score: 0.144628:  85%|###############################4     | 17/20 [01:56<00:20,  6.88s/it]"
     ]
    },
    {
     "name": "stdout",
     "output_type": "stream",
     "text": [
      "[600]\tcv_agg's l2: 0.145841 + 0.0179527\n",
      "Early stopping, best iteration is:\n",
      "[507]\tcv_agg's l2: 0.144628 + 0.0191197\n",
      "[100]\tcv_agg's l2: 0.155119 + 0.0194429\n",
      "[200]\tcv_agg's l2: 0.147324 + 0.0181519\n",
      "[300]\tcv_agg's l2: 0.145717 + 0.0187048\n",
      "[400]\tcv_agg's l2: 0.144805 + 0.0187384\n",
      "[500]\tcv_agg's l2: 0.144602 + 0.0190703\n"
     ]
    },
    {
     "name": "stderr",
     "output_type": "stream",
     "text": [
      "regularization_factors, val_score: 0.144500:  90%|#################################3   | 18/20 [02:03<00:13,  6.87s/it][I 2023-11-24 15:11:20,681] Trial 57 finished with value: 0.14450027966986828 and parameters: {'lambda_l1': 1.2332561911697527e-07, 'lambda_l2': 2.2673344833178607e-07}. Best is trial 57 with value: 0.14450027966986828.\n",
      "regularization_factors, val_score: 0.144500:  90%|#################################3   | 18/20 [02:03<00:13,  6.87s/it]"
     ]
    },
    {
     "name": "stdout",
     "output_type": "stream",
     "text": [
      "[600]\tcv_agg's l2: 0.144711 + 0.0191348\n",
      "Early stopping, best iteration is:\n",
      "[507]\tcv_agg's l2: 0.1445 + 0.0190602\n",
      "[100]\tcv_agg's l2: 0.155119 + 0.0194429\n",
      "[200]\tcv_agg's l2: 0.147324 + 0.0181519\n",
      "[300]\tcv_agg's l2: 0.145717 + 0.0187048\n",
      "[400]\tcv_agg's l2: 0.144807 + 0.0187356\n",
      "[500]\tcv_agg's l2: 0.144633 + 0.0190234\n"
     ]
    },
    {
     "name": "stderr",
     "output_type": "stream",
     "text": [
      "regularization_factors, val_score: 0.144500:  95%|###################################1 | 19/20 [02:10<00:06,  6.92s/it][I 2023-11-24 15:11:27,701] Trial 58 finished with value: 0.14455589574958663 and parameters: {'lambda_l1': 1.03153176828581e-08, 'lambda_l2': 2.1136044620477094e-07}. Best is trial 57 with value: 0.14450027966986828.\n",
      "regularization_factors, val_score: 0.144500:  95%|###################################1 | 19/20 [02:10<00:06,  6.92s/it]"
     ]
    },
    {
     "name": "stdout",
     "output_type": "stream",
     "text": [
      "[600]\tcv_agg's l2: 0.144684 + 0.0191746\n",
      "Early stopping, best iteration is:\n",
      "[507]\tcv_agg's l2: 0.1445 + 0.0190602\n",
      "[100]\tcv_agg's l2: 0.155119 + 0.0194429\n",
      "[200]\tcv_agg's l2: 0.147324 + 0.0181519\n",
      "[300]\tcv_agg's l2: 0.145717 + 0.0187048\n",
      "[400]\tcv_agg's l2: 0.144807 + 0.0187356\n",
      "[500]\tcv_agg's l2: 0.144633 + 0.0190234\n"
     ]
    },
    {
     "name": "stderr",
     "output_type": "stream",
     "text": [
      "regularization_factors, val_score: 0.144500: 100%|#####################################| 20/20 [02:16<00:00,  6.75s/it][I 2023-11-24 15:11:34,075] Trial 59 finished with value: 0.14455589574069055 and parameters: {'lambda_l1': 1.8173083607874852e-08, 'lambda_l2': 3.242223488100138e-07}. Best is trial 57 with value: 0.14450027966986828.\n",
      "regularization_factors, val_score: 0.144500: 100%|#####################################| 20/20 [02:16<00:00,  6.84s/it]\n"
     ]
    },
    {
     "name": "stdout",
     "output_type": "stream",
     "text": [
      "[600]\tcv_agg's l2: 0.144684 + 0.0191746\n",
      "Early stopping, best iteration is:\n",
      "[507]\tcv_agg's l2: 0.1445 + 0.0190602\n"
     ]
    },
    {
     "name": "stderr",
     "output_type": "stream",
     "text": [
      "min_data_in_leaf, val_score: 0.144500:   0%|                                                     | 0/5 [00:00<?, ?it/s]"
     ]
    },
    {
     "name": "stdout",
     "output_type": "stream",
     "text": [
      "[100]\tcv_agg's l2: 0.162398 + 0.0271858\n",
      "[200]\tcv_agg's l2: 0.15846 + 0.0275962\n",
      "[300]\tcv_agg's l2: 0.157376 + 0.0279112\n",
      "[400]\tcv_agg's l2: 0.157137 + 0.0279251\n",
      "[500]\tcv_agg's l2: 0.156968 + 0.0276881\n"
     ]
    },
    {
     "name": "stderr",
     "output_type": "stream",
     "text": [
      "min_data_in_leaf, val_score: 0.144500:  20%|#########                                    | 1/5 [00:06<00:26,  6.53s/it][I 2023-11-24 15:11:40,608] Trial 60 finished with value: 0.1569515072348313 and parameters: {'min_child_samples': 10}. Best is trial 60 with value: 0.1569515072348313.\n",
      "min_data_in_leaf, val_score: 0.144500:  20%|#########                                    | 1/5 [00:06<00:26,  6.53s/it]"
     ]
    },
    {
     "name": "stdout",
     "output_type": "stream",
     "text": [
      "[600]\tcv_agg's l2: 0.156822 + 0.0275917\n",
      "Early stopping, best iteration is:\n",
      "[507]\tcv_agg's l2: 0.1445 + 0.0190602\n",
      "[100]\tcv_agg's l2: 0.672773 + 0.0573632\n",
      "[200]\tcv_agg's l2: 0.636088 + 0.0499773\n",
      "[300]\tcv_agg's l2: 0.616523 + 0.0528387\n",
      "[400]\tcv_agg's l2: 0.603676 + 0.0598406\n",
      "[500]\tcv_agg's l2: 0.594387 + 0.0613819\n"
     ]
    },
    {
     "name": "stderr",
     "output_type": "stream",
     "text": [
      "min_data_in_leaf, val_score: 0.144500:  40%|##################                           | 2/5 [00:09<00:13,  4.53s/it][I 2023-11-24 15:11:43,744] Trial 61 finished with value: 0.5943623817986674 and parameters: {'min_child_samples': 100}. Best is trial 60 with value: 0.1569515072348313.\n",
      "min_data_in_leaf, val_score: 0.144500:  40%|##################                           | 2/5 [00:09<00:13,  4.53s/it]"
     ]
    },
    {
     "name": "stdout",
     "output_type": "stream",
     "text": [
      "[600]\tcv_agg's l2: 0.587103 + 0.062952\n",
      "Early stopping, best iteration is:\n",
      "[507]\tcv_agg's l2: 0.1445 + 0.0190602\n",
      "[100]\tcv_agg's l2: 0.235525 + 0.0224527\n",
      "[200]\tcv_agg's l2: 0.218113 + 0.0226175\n",
      "[300]\tcv_agg's l2: 0.213398 + 0.0234748\n",
      "[400]\tcv_agg's l2: 0.21179 + 0.0246074\n",
      "[500]\tcv_agg's l2: 0.210891 + 0.0250574\n"
     ]
    },
    {
     "name": "stderr",
     "output_type": "stream",
     "text": [
      "min_data_in_leaf, val_score: 0.144500:  60%|###########################                  | 3/5 [00:13<00:08,  4.30s/it][I 2023-11-24 15:11:47,779] Trial 62 finished with value: 0.21066901361370144 and parameters: {'min_child_samples': 50}. Best is trial 60 with value: 0.1569515072348313.\n",
      "min_data_in_leaf, val_score: 0.144500:  60%|###########################                  | 3/5 [00:13<00:08,  4.30s/it]"
     ]
    },
    {
     "name": "stdout",
     "output_type": "stream",
     "text": [
      "[600]\tcv_agg's l2: 0.21127 + 0.0250817\n",
      "Early stopping, best iteration is:\n",
      "[507]\tcv_agg's l2: 0.1445 + 0.0190602\n",
      "[100]\tcv_agg's l2: 0.1746 + 0.0243584\n",
      "[200]\tcv_agg's l2: 0.168498 + 0.0235241\n",
      "[300]\tcv_agg's l2: 0.165969 + 0.0233739\n",
      "[400]\tcv_agg's l2: 0.164382 + 0.023216\n",
      "[500]\tcv_agg's l2: 0.163891 + 0.0231371\n"
     ]
    },
    {
     "name": "stderr",
     "output_type": "stream",
     "text": [
      "min_data_in_leaf, val_score: 0.144500:  80%|####################################         | 4/5 [00:20<00:05,  5.26s/it][I 2023-11-24 15:11:54,495] Trial 63 finished with value: 0.16378767441655878 and parameters: {'min_child_samples': 25}. Best is trial 60 with value: 0.1569515072348313.\n",
      "min_data_in_leaf, val_score: 0.144500:  80%|####################################         | 4/5 [00:20<00:05,  5.26s/it]"
     ]
    },
    {
     "name": "stdout",
     "output_type": "stream",
     "text": [
      "[600]\tcv_agg's l2: 0.163685 + 0.0234031\n",
      "Early stopping, best iteration is:\n",
      "[507]\tcv_agg's l2: 0.1445 + 0.0190602\n",
      "[100]\tcv_agg's l2: 0.158509 + 0.0291192\n",
      "[200]\tcv_agg's l2: 0.154644 + 0.0283938\n",
      "[300]\tcv_agg's l2: 0.153911 + 0.0282416\n",
      "[400]\tcv_agg's l2: 0.153789 + 0.028098\n",
      "[500]\tcv_agg's l2: 0.153763 + 0.0281177\n"
     ]
    },
    {
     "name": "stderr",
     "output_type": "stream",
     "text": [
      "min_data_in_leaf, val_score: 0.144500: 100%|#############################################| 5/5 [00:26<00:00,  5.69s/it][I 2023-11-24 15:12:00,949] Trial 64 finished with value: 0.1537644254068729 and parameters: {'min_child_samples': 5}. Best is trial 64 with value: 0.1537644254068729.\n",
      "min_data_in_leaf, val_score: 0.144500: 100%|#############################################| 5/5 [00:26<00:00,  5.37s/it]"
     ]
    },
    {
     "name": "stdout",
     "output_type": "stream",
     "text": [
      "[600]\tcv_agg's l2: 0.153737 + 0.0281433\n",
      "Early stopping, best iteration is:\n",
      "[507]\tcv_agg's l2: 0.1445 + 0.0190602\n"
     ]
    },
    {
     "name": "stderr",
     "output_type": "stream",
     "text": [
      "\n"
     ]
    }
   ],
   "source": [
    "import optuna.integration.lightgbm as lgb\n",
    "from lightgbm import early_stopping\n",
    "from sklearn.model_selection import KFold\n",
    "from sklearn.model_selection import RepeatedKFold\n",
    "\n",
    "\n",
    "lgb_train = lgb.Dataset(X_train_random_split, y_train_random_split)\n",
    "\n",
    "params = {\n",
    "    \"boosting_type\": \"gbdt\",\n",
    "    \"objective\": \"regression\",\n",
    "    \"metric\": \"l2\",\n",
    "    \"verbosity\": -1,\n",
    "}\n",
    "\n",
    "tuner = lgb.LightGBMTunerCV(\n",
    "    params,\n",
    "    lgb_train,\n",
    "    folds=KFold(n_splits=5),\n",
    "    num_boost_round=10000,\n",
    "    callbacks=[early_stopping(100), log_evaluation(100)],\n",
    ")\n",
    "\n",
    "tuner.run()"
   ]
  },
  {
   "cell_type": "code",
   "execution_count": 38,
   "id": "175988ae",
   "metadata": {},
   "outputs": [
    {
     "name": "stdout",
     "output_type": "stream",
     "text": [
      "Best score: 0.14450027966986828\n",
      "Params: \n",
      "    boosting_type: gbdt\n",
      "    objective: regression\n",
      "    metric: l2\n",
      "    verbosity: -1\n",
      "    feature_pre_filter: False\n",
      "    lambda_l1: 1.2332561911697527e-07\n",
      "    lambda_l2: 2.2673344833178607e-07\n",
      "    num_leaves: 21\n",
      "    feature_fraction: 0.4\n",
      "    bagging_fraction: 0.9982055173299748\n",
      "    bagging_freq: 7\n",
      "    min_child_samples: 20\n"
     ]
    }
   ],
   "source": [
    "print(f\"Best score: {tuner.best_score}\")\n",
    "best_params = tuner.best_params\n",
    "print(\"Params: \")\n",
    "for key, value in best_params.items():\n",
    "    print(\"    {}: {}\".format(key, value))"
   ]
  },
  {
   "cell_type": "code",
   "execution_count": 39,
   "id": "b8e0ae76",
   "metadata": {},
   "outputs": [],
   "source": [
    "import lightgbm as lgb\n",
    "\n",
    "lgb_tuned = lgb.train(\n",
    "    best_params,\n",
    "    lgb_train,\n",
    "    num_boost_round=10000,\n",
    ")"
   ]
  },
  {
   "cell_type": "code",
   "execution_count": 40,
   "id": "ab41f140",
   "metadata": {},
   "outputs": [
    {
     "name": "stdout",
     "output_type": "stream",
     "text": [
      "RMSE train: 0.00\n",
      "RMSE test: 0.32\n",
      "MAE test: 0.23\n",
      "\n"
     ]
    }
   ],
   "source": [
    "rmse, mae = assess_regression_model(\n",
    "    lgb_tuned,\n",
    "    X_train_random_split,\n",
    "    X_test_random_split,\n",
    "    y_train_random_split,\n",
    "    y_test_random_split,\n",
    ")"
   ]
  },
  {
   "cell_type": "code",
   "execution_count": 41,
   "id": "36a7d705",
   "metadata": {},
   "outputs": [],
   "source": [
    "results.loc[3] = [\"random\", \"Optuna\", \"full\", rmse, mae]"
   ]
  },
  {
   "cell_type": "markdown",
   "id": "baffe730",
   "metadata": {},
   "source": [
    "###### MAE by level"
   ]
  },
  {
   "cell_type": "code",
   "execution_count": 42,
   "id": "4206dff5",
   "metadata": {},
   "outputs": [
    {
     "data": {
      "image/png": "[encoded data removed]",
      "text/plain": [
       "<Figure size 1440x576 with 1 Axes>"
      ]
     },
     "metadata": {
      "needs_background": "light"
     },
     "output_type": "display_data"
    }
   ],
   "source": [
    "plot_mae_by_level(\n",
    "    y_test_random_split,\n",
    "    y_pred_test,\n",
    "    title=\"MAE by level for tuned LightGBM with full features and random split\",\n",
    "    export=True,\n",
    ")"
   ]
  },
  {
   "cell_type": "code",
   "execution_count": 43,
   "id": "502bdb9c",
   "metadata": {
    "scrolled": true
   },
   "outputs": [
    {
     "name": "stdout",
     "output_type": "stream",
     "text": [
      "Default:\n",
      "RMSE: 0.19\n",
      "\n",
      "Round type: 0.5\n",
      "RMSE: 0.20\n",
      "\n",
      "Round type: 0.33\n",
      "RMSE: 0.21\n",
      "\n",
      "Round type: 0.45\n",
      "RMSE: 0.21\n",
      "\n"
     ]
    }
   ],
   "source": [
    "predict = lgb_tuned.predict(X_test)\n",
    "evaluate_round_predictions([0.5, 0.33, 0.45], y_test, predict)"
   ]
  },
  {
   "cell_type": "code",
   "execution_count": 44,
   "id": "378511d8",
   "metadata": {},
   "outputs": [
    {
     "data": {
      "image/png": "[encoded data removed]",
      "text/plain": [
       "<Figure size 720x720 with 2 Axes>"
      ]
     },
     "metadata": {
      "needs_background": "light"
     },
     "output_type": "display_data"
    }
   ],
   "source": [
    "plot_confusion_matrix(\n",
    "    predict,\n",
    "    y_test,\n",
    "    title=\"Confusion matrix for tuned LightGBM with\\nfull features and random split\",\n",
    "    export=True,\n",
    ")"
   ]
  },
  {
   "cell_type": "markdown",
   "id": "cbf21c29",
   "metadata": {},
   "source": [
    "## Summary"
   ]
  },
  {
   "cell_type": "code",
   "execution_count": 45,
   "id": "d065edf6",
   "metadata": {
    "scrolled": false
   },
   "outputs": [
    {
     "data": {
      "text/html": [
       "<div>\n",
       "<style scoped>\n",
       "    .dataframe tbody tr th:only-of-type {\n",
       "        vertical-align: middle;\n",
       "    }\n",
       "\n",
       "    .dataframe tbody tr th {\n",
       "        vertical-align: top;\n",
       "    }\n",
       "\n",
       "    .dataframe thead th {\n",
       "        text-align: right;\n",
       "    }\n",
       "</style>\n",
       "<table border=\"1\" class=\"dataframe\">\n",
       "  <thead>\n",
       "    <tr style=\"text-align: right;\">\n",
       "      <th></th>\n",
       "      <th>Split type</th>\n",
       "      <th>Tuning type</th>\n",
       "      <th>Set of features</th>\n",
       "      <th>RMSE</th>\n",
       "      <th>MAE</th>\n",
       "    </tr>\n",
       "  </thead>\n",
       "  <tbody>\n",
       "    <tr>\n",
       "      <th>0</th>\n",
       "      <td>chronological</td>\n",
       "      <td>default</td>\n",
       "      <td>full</td>\n",
       "      <td>0.961949</td>\n",
       "      <td>0.464806</td>\n",
       "    </tr>\n",
       "    <tr>\n",
       "      <th>1</th>\n",
       "      <td>chronological</td>\n",
       "      <td>Optuna</td>\n",
       "      <td>full</td>\n",
       "      <td>0.803979</td>\n",
       "      <td>0.427331</td>\n",
       "    </tr>\n",
       "    <tr>\n",
       "      <th>2</th>\n",
       "      <td>random</td>\n",
       "      <td>default</td>\n",
       "      <td>full</td>\n",
       "      <td>0.371349</td>\n",
       "      <td>0.246737</td>\n",
       "    </tr>\n",
       "    <tr>\n",
       "      <th>3</th>\n",
       "      <td>random</td>\n",
       "      <td>Optuna</td>\n",
       "      <td>full</td>\n",
       "      <td>0.324906</td>\n",
       "      <td>0.228702</td>\n",
       "    </tr>\n",
       "  </tbody>\n",
       "</table>\n",
       "</div>"
      ],
      "text/plain": [
       "      Split type Tuning type Set of features      RMSE       MAE\n",
       "0  chronological     default            full  0.961949  0.464806\n",
       "1  chronological      Optuna            full  0.803979  0.427331\n",
       "2         random     default            full  0.371349  0.246737\n",
       "3         random      Optuna            full  0.324906  0.228702"
      ]
     },
     "execution_count": 45,
     "metadata": {},
     "output_type": "execute_result"
    }
   ],
   "source": [
    "results"
   ]
  },
  {
   "cell_type": "code",
   "execution_count": 46,
   "id": "5ab8f79f",
   "metadata": {},
   "outputs": [],
   "source": [
    "from training.results import plot_summary"
   ]
  },
  {
   "cell_type": "code",
   "execution_count": 47,
   "id": "a642225d",
   "metadata": {},
   "outputs": [
    {
     "data": {
      "image/png": "[encoded data removed]",
      "text/plain": [
       "<Figure size 1440x576 with 1 Axes>"
      ]
     },
     "metadata": {
      "needs_background": "light"
     },
     "output_type": "display_data"
    }
   ],
   "source": [
    "plot_summary(results, \"RMSE\", title=\"RMSE for LightGBM with full features\")"
   ]
  },
  {
   "cell_type": "code",
   "execution_count": 48,
   "id": "07e30e23",
   "metadata": {},
   "outputs": [
    {
     "data": {
      "image/png": "[encoded data removed]",
      "text/plain": [
       "<Figure size 1440x576 with 1 Axes>"
      ]
     },
     "metadata": {
      "needs_background": "light"
     },
     "output_type": "display_data"
    }
   ],
   "source": [
    "plot_summary(results, \"MAE\", title=\"MAE for LightGBM with full features\")"
   ]
  },
  {
   "cell_type": "code",
   "execution_count": 49,
   "id": "ae68a99c",
   "metadata": {},
   "outputs": [],
   "source": [
    "results.to_csv(\"./lightgbm_full_results.csv\")"
   ]
  },
  {
   "cell_type": "code",
   "execution_count": null,
   "id": "745b56ef",
   "metadata": {},
   "outputs": [],
   "source": []
  }
 ],
 "metadata": {
  "kernelspec": {
   "display_name": "Python 3 (ipykernel)",
   "language": "python",
   "name": "python3"
  },
  "language_info": {
   "codemirror_mode": {
    "name": "ipython",
    "version": 3
   },
   "file_extension": ".py",
   "mimetype": "text/x-python",
   "name": "python",
   "nbconvert_exporter": "python",
   "pygments_lexer": "ipython3",
   "version": "3.10.4"
  }
 },
 "nbformat": 4,
 "nbformat_minor": 5
}
