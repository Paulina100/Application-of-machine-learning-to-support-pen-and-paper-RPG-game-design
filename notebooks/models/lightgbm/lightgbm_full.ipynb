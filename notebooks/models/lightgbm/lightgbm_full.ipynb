{
 "cells": [
  {
   "cell_type": "markdown",
   "id": "f64a671f",
   "metadata": {},
   "source": [
    "# LightGBM\n",
    "### Parameters:\n",
    "System:\n",
    "* **abilities**:\n",
    "    * **cha**\n",
    "    * **con**\n",
    "    * **dex**\n",
    "    * **int**\n",
    "    * **str**\n",
    "    * **wis**\n",
    "* **attributes**\n",
    "    * **hp**\n",
    "    * **ac**\n",
    "    * **perception**\n",
    "    * **speed** (*land speed*)\n",
    "        * **other speeds**: fly, climb, swim\n",
    "    * **num immunities**\n",
    "    * **resistances**: fire, cold, electricity, acid, piercing, slashing, physical, bludgeoning, mental, poison, all-damage\n",
    "    * **weaknesses**: cold-iron, good, fire, cold, area-damage, splash-damage, evil, slashing\n",
    "* **saves**\n",
    "    * **fortitude**\n",
    "    * **reflex**\n",
    "    * **will**\n",
    "* **resources**\n",
    "    * **focus**\n",
    "\n",
    "Items\n",
    "* **items**\n",
    "    * **melee**\n",
    "    * **ranged**\n",
    "    * **spells nr**\n",
    "\n",
    "### Prediction: *level*\n",
    "\n",
    "## Loading data"
   ]
  },
  {
   "cell_type": "code",
   "execution_count": 1,
   "id": "1f2515e7",
   "metadata": {},
   "outputs": [],
   "source": [
    "import numpy as np\n",
    "import pandas as pd\n",
    "import sys\n",
    "\n",
    "import os\n",
    "import pathlib\n",
    "\n",
    "sys.path.append(\"../../..\")\n",
    "from training.creating_dataset import load_and_preprocess_data\n",
    "\n",
    "current_path = os.getcwd()\n",
    "DATASETS_DIR = pathlib.Path(current_path).parent.parent.parent / \"pathfinder_2e_data\"\n",
    "DATASET_FILES = [\n",
    "    \"pathfinder-bestiary.db\",\n",
    "    \"pathfinder-bestiary-2.db\",\n",
    "    \"pathfinder-bestiary-3.db\",\n",
    "]\n",
    "DATASET_PATHS = [f\"{DATASETS_DIR}/{file}\" for file in DATASET_FILES]\n",
    "features = [\n",
    "    \"cha\",\n",
    "    \"con\",\n",
    "    \"dex\",\n",
    "    \"int\",\n",
    "    \"str\",\n",
    "    \"wis\",\n",
    "    \"ac\",\n",
    "    \"hp\",\n",
    "    \"perception\",\n",
    "    \"fortitude\",\n",
    "    \"reflex\",\n",
    "    \"will\",\n",
    "    \"focus\",\n",
    "    \"land_speed\",\n",
    "    \"num_immunities\",\n",
    "    \"fly\",\n",
    "    \"swim\",\n",
    "    \"climb\",\n",
    "    \"fire_resistance\",\n",
    "    \"cold_resistance\",\n",
    "    \"electricity_resistance\",\n",
    "    \"acid_resistance\",\n",
    "    \"piercing_resistance\",\n",
    "    \"slashing_resistance\",\n",
    "    \"physical_resistance\",\n",
    "    \"bludgeoning_resistance\",\n",
    "    \"mental_resistance\",\n",
    "    \"poison_resistance\",\n",
    "    \"all-damage_resistance\",\n",
    "    \"cold-iron_weakness\",\n",
    "    \"good_weakness\",\n",
    "    \"fire_weakness\",\n",
    "    \"cold_weakness\",\n",
    "    \"area-damage_weakness\",\n",
    "    \"splash-damage_weakness\",\n",
    "    \"evil_weakness\",\n",
    "    \"slashing_weakness\",\n",
    "    \"melee\",\n",
    "    \"ranged\",\n",
    "    \"spells\",\n",
    "]\n",
    "\n",
    "df = load_and_preprocess_data(\n",
    "    DATASET_PATHS,\n",
    "    characteristics=features,\n",
    ")"
   ]
  },
  {
   "cell_type": "code",
   "execution_count": 2,
   "id": "b522f880",
   "metadata": {},
   "outputs": [
    {
     "name": "stdout",
     "output_type": "stream",
     "text": [
      "<class 'pandas.core.frame.DataFrame'>\n",
      "Int64Index: 1206 entries, 0 to 1205\n",
      "Data columns (total 52 columns):\n",
      " #   Column                  Non-Null Count  Dtype  \n",
      "---  ------                  --------------  -----  \n",
      " 0   perception              1206 non-null   int64  \n",
      " 1   hp                      1206 non-null   int64  \n",
      " 2   fortitude               1206 non-null   int64  \n",
      " 3   wis                     1206 non-null   int64  \n",
      " 4   reflex                  1206 non-null   int64  \n",
      " 5   str                     1206 non-null   int64  \n",
      " 6   level                   1206 non-null   int64  \n",
      " 7   int                     1206 non-null   int64  \n",
      " 8   will                    1206 non-null   int64  \n",
      " 9   focus                   1206 non-null   int32  \n",
      " 10  ac                      1206 non-null   int64  \n",
      " 11  num_immunities          1206 non-null   int64  \n",
      " 12  land_speed              1206 non-null   float64\n",
      " 13  con                     1206 non-null   int64  \n",
      " 14  cha                     1206 non-null   int64  \n",
      " 15  dex                     1206 non-null   int64  \n",
      " 16  book                    1206 non-null   object \n",
      " 17  all-damage_resistance   1206 non-null   int64  \n",
      " 18  electricity_resistance  1206 non-null   int64  \n",
      " 19  mental_resistance       1206 non-null   int64  \n",
      " 20  piercing_resistance     1206 non-null   int64  \n",
      " 21  cold_resistance         1206 non-null   int64  \n",
      " 22  physical_resistance     1206 non-null   int64  \n",
      " 23  fire_resistance         1206 non-null   int64  \n",
      " 24  acid_resistance         1206 non-null   int64  \n",
      " 25  bludgeoning_resistance  1206 non-null   int64  \n",
      " 26  slashing_resistance     1206 non-null   int64  \n",
      " 27  poison_resistance       1206 non-null   int64  \n",
      " 28  fire_weakness           1206 non-null   int64  \n",
      " 29  splash-damage_weakness  1206 non-null   int64  \n",
      " 30  good_weakness           1206 non-null   int64  \n",
      " 31  cold_weakness           1206 non-null   int64  \n",
      " 32  area-damage_weakness    1206 non-null   int64  \n",
      " 33  slashing_weakness       1206 non-null   int64  \n",
      " 34  cold-iron_weakness      1206 non-null   int64  \n",
      " 35  evil_weakness           1206 non-null   int64  \n",
      " 36  swim                    1206 non-null   int64  \n",
      " 37  climb                   1206 non-null   int64  \n",
      " 38  fly                     1206 non-null   int64  \n",
      " 39  spells_nr_lvl_1         1206 non-null   int64  \n",
      " 40  spells_nr_lvl_2         1206 non-null   int64  \n",
      " 41  spells_nr_lvl_3         1206 non-null   int64  \n",
      " 42  spells_nr_lvl_4         1206 non-null   int64  \n",
      " 43  spells_nr_lvl_5         1206 non-null   int64  \n",
      " 44  spells_nr_lvl_6         1206 non-null   int64  \n",
      " 45  spells_nr_lvl_7         1206 non-null   int64  \n",
      " 46  spells_nr_lvl_8         1206 non-null   int64  \n",
      " 47  spells_nr_lvl_9         1206 non-null   int64  \n",
      " 48  melee_max_bonus         1206 non-null   int64  \n",
      " 49  avg_melee_dmg           1206 non-null   float64\n",
      " 50  ranged_max_bonus        1206 non-null   int64  \n",
      " 51  avg_ranged_dmg          1206 non-null   float64\n",
      "dtypes: float64(3), int32(1), int64(47), object(1)\n",
      "memory usage: 494.6+ KB\n"
     ]
    }
   ],
   "source": [
    "df.info()"
   ]
  },
  {
   "cell_type": "code",
   "execution_count": 3,
   "id": "1b5450d3",
   "metadata": {},
   "outputs": [
    {
     "data": {
      "text/html": [
       "<div>\n",
       "<style scoped>\n",
       "    .dataframe tbody tr th:only-of-type {\n",
       "        vertical-align: middle;\n",
       "    }\n",
       "\n",
       "    .dataframe tbody tr th {\n",
       "        vertical-align: top;\n",
       "    }\n",
       "\n",
       "    .dataframe thead th {\n",
       "        text-align: right;\n",
       "    }\n",
       "</style>\n",
       "<table border=\"1\" class=\"dataframe\">\n",
       "  <thead>\n",
       "    <tr style=\"text-align: right;\">\n",
       "      <th></th>\n",
       "      <th>perception</th>\n",
       "      <th>hp</th>\n",
       "      <th>fortitude</th>\n",
       "      <th>wis</th>\n",
       "      <th>reflex</th>\n",
       "      <th>str</th>\n",
       "      <th>level</th>\n",
       "      <th>int</th>\n",
       "      <th>will</th>\n",
       "      <th>focus</th>\n",
       "      <th>...</th>\n",
       "      <th>spells_nr_lvl_4</th>\n",
       "      <th>spells_nr_lvl_5</th>\n",
       "      <th>spells_nr_lvl_6</th>\n",
       "      <th>spells_nr_lvl_7</th>\n",
       "      <th>spells_nr_lvl_8</th>\n",
       "      <th>spells_nr_lvl_9</th>\n",
       "      <th>melee_max_bonus</th>\n",
       "      <th>avg_melee_dmg</th>\n",
       "      <th>ranged_max_bonus</th>\n",
       "      <th>avg_ranged_dmg</th>\n",
       "    </tr>\n",
       "  </thead>\n",
       "  <tbody>\n",
       "    <tr>\n",
       "      <th>0</th>\n",
       "      <td>20</td>\n",
       "      <td>215</td>\n",
       "      <td>22</td>\n",
       "      <td>2</td>\n",
       "      <td>19</td>\n",
       "      <td>7</td>\n",
       "      <td>10</td>\n",
       "      <td>1</td>\n",
       "      <td>17</td>\n",
       "      <td>1</td>\n",
       "      <td>...</td>\n",
       "      <td>0</td>\n",
       "      <td>0</td>\n",
       "      <td>0</td>\n",
       "      <td>0</td>\n",
       "      <td>0</td>\n",
       "      <td>0</td>\n",
       "      <td>23</td>\n",
       "      <td>22.0</td>\n",
       "      <td>0</td>\n",
       "      <td>0.0</td>\n",
       "    </tr>\n",
       "    <tr>\n",
       "      <th>1</th>\n",
       "      <td>16</td>\n",
       "      <td>220</td>\n",
       "      <td>21</td>\n",
       "      <td>2</td>\n",
       "      <td>14</td>\n",
       "      <td>9</td>\n",
       "      <td>10</td>\n",
       "      <td>-4</td>\n",
       "      <td>16</td>\n",
       "      <td>0</td>\n",
       "      <td>...</td>\n",
       "      <td>0</td>\n",
       "      <td>0</td>\n",
       "      <td>0</td>\n",
       "      <td>0</td>\n",
       "      <td>0</td>\n",
       "      <td>0</td>\n",
       "      <td>23</td>\n",
       "      <td>22.0</td>\n",
       "      <td>0</td>\n",
       "      <td>0.0</td>\n",
       "    </tr>\n",
       "    <tr>\n",
       "      <th>2</th>\n",
       "      <td>17</td>\n",
       "      <td>175</td>\n",
       "      <td>20</td>\n",
       "      <td>3</td>\n",
       "      <td>17</td>\n",
       "      <td>7</td>\n",
       "      <td>8</td>\n",
       "      <td>-4</td>\n",
       "      <td>15</td>\n",
       "      <td>0</td>\n",
       "      <td>...</td>\n",
       "      <td>0</td>\n",
       "      <td>0</td>\n",
       "      <td>0</td>\n",
       "      <td>0</td>\n",
       "      <td>0</td>\n",
       "      <td>0</td>\n",
       "      <td>21</td>\n",
       "      <td>16.0</td>\n",
       "      <td>0</td>\n",
       "      <td>0.0</td>\n",
       "    </tr>\n",
       "    <tr>\n",
       "      <th>3</th>\n",
       "      <td>30</td>\n",
       "      <td>315</td>\n",
       "      <td>30</td>\n",
       "      <td>5</td>\n",
       "      <td>29</td>\n",
       "      <td>7</td>\n",
       "      <td>17</td>\n",
       "      <td>6</td>\n",
       "      <td>32</td>\n",
       "      <td>1</td>\n",
       "      <td>...</td>\n",
       "      <td>1</td>\n",
       "      <td>0</td>\n",
       "      <td>1</td>\n",
       "      <td>0</td>\n",
       "      <td>0</td>\n",
       "      <td>0</td>\n",
       "      <td>33</td>\n",
       "      <td>31.5</td>\n",
       "      <td>0</td>\n",
       "      <td>0.0</td>\n",
       "    </tr>\n",
       "    <tr>\n",
       "      <th>4</th>\n",
       "      <td>6</td>\n",
       "      <td>20</td>\n",
       "      <td>6</td>\n",
       "      <td>1</td>\n",
       "      <td>10</td>\n",
       "      <td>-5</td>\n",
       "      <td>1</td>\n",
       "      <td>-1</td>\n",
       "      <td>4</td>\n",
       "      <td>1</td>\n",
       "      <td>...</td>\n",
       "      <td>1</td>\n",
       "      <td>0</td>\n",
       "      <td>0</td>\n",
       "      <td>0</td>\n",
       "      <td>0</td>\n",
       "      <td>0</td>\n",
       "      <td>0</td>\n",
       "      <td>0.0</td>\n",
       "      <td>8</td>\n",
       "      <td>5.0</td>\n",
       "    </tr>\n",
       "  </tbody>\n",
       "</table>\n",
       "<p>5 rows × 52 columns</p>\n",
       "</div>"
      ],
      "text/plain": [
       "   perception   hp  fortitude  wis  reflex  str  level  int  will  focus  ...  \\\n",
       "0          20  215         22    2      19    7     10    1    17      1  ...   \n",
       "1          16  220         21    2      14    9     10   -4    16      0  ...   \n",
       "2          17  175         20    3      17    7      8   -4    15      0  ...   \n",
       "3          30  315         30    5      29    7     17    6    32      1  ...   \n",
       "4           6   20          6    1      10   -5      1   -1     4      1  ...   \n",
       "\n",
       "   spells_nr_lvl_4  spells_nr_lvl_5  spells_nr_lvl_6  spells_nr_lvl_7  \\\n",
       "0                0                0                0                0   \n",
       "1                0                0                0                0   \n",
       "2                0                0                0                0   \n",
       "3                1                0                1                0   \n",
       "4                1                0                0                0   \n",
       "\n",
       "   spells_nr_lvl_8  spells_nr_lvl_9 melee_max_bonus  avg_melee_dmg  \\\n",
       "0                0                0              23           22.0   \n",
       "1                0                0              23           22.0   \n",
       "2                0                0              21           16.0   \n",
       "3                0                0              33           31.5   \n",
       "4                0                0               0            0.0   \n",
       "\n",
       "   ranged_max_bonus  avg_ranged_dmg  \n",
       "0                 0             0.0  \n",
       "1                 0             0.0  \n",
       "2                 0             0.0  \n",
       "3                 0             0.0  \n",
       "4                 8             5.0  \n",
       "\n",
       "[5 rows x 52 columns]"
      ]
     },
     "execution_count": 3,
     "metadata": {},
     "output_type": "execute_result"
    }
   ],
   "source": [
    "df.head()"
   ]
  },
  {
   "cell_type": "markdown",
   "id": "0caa661f",
   "metadata": {},
   "source": [
    "###### Level"
   ]
  },
  {
   "cell_type": "code",
   "execution_count": 4,
   "id": "c200d2b4",
   "metadata": {},
   "outputs": [
    {
     "data": {
      "text/plain": [
       "0       10\n",
       "1       10\n",
       "2        8\n",
       "3       17\n",
       "4        1\n",
       "        ..\n",
       "1201    20\n",
       "1202    -1\n",
       "1203    12\n",
       "1204     6\n",
       "1205     6\n",
       "Name: level, Length: 1206, dtype: int64"
      ]
     },
     "execution_count": 4,
     "metadata": {},
     "output_type": "execute_result"
    }
   ],
   "source": [
    "y = df[\"level\"]\n",
    "y"
   ]
  },
  {
   "cell_type": "code",
   "execution_count": 5,
   "id": "553822a7",
   "metadata": {},
   "outputs": [],
   "source": [
    "from collections import defaultdict\n",
    "\n",
    "\n",
    "lvl_stat = defaultdict(lambda: 0)\n",
    "\n",
    "for lvl in y:\n",
    "    lvl_stat[lvl] += 1"
   ]
  },
  {
   "cell_type": "code",
   "execution_count": 6,
   "id": "e45d6c29",
   "metadata": {},
   "outputs": [
    {
     "data": {
      "text/html": [
       "<div>\n",
       "<style scoped>\n",
       "    .dataframe tbody tr th:only-of-type {\n",
       "        vertical-align: middle;\n",
       "    }\n",
       "\n",
       "    .dataframe tbody tr th {\n",
       "        vertical-align: top;\n",
       "    }\n",
       "\n",
       "    .dataframe thead th {\n",
       "        text-align: right;\n",
       "    }\n",
       "</style>\n",
       "<table border=\"1\" class=\"dataframe\">\n",
       "  <thead>\n",
       "    <tr style=\"text-align: right;\">\n",
       "      <th></th>\n",
       "      <th>lvl</th>\n",
       "      <th>count</th>\n",
       "    </tr>\n",
       "  </thead>\n",
       "  <tbody>\n",
       "    <tr>\n",
       "      <th>0</th>\n",
       "      <td>-1</td>\n",
       "      <td>34</td>\n",
       "    </tr>\n",
       "    <tr>\n",
       "      <th>1</th>\n",
       "      <td>0</td>\n",
       "      <td>27</td>\n",
       "    </tr>\n",
       "    <tr>\n",
       "      <th>2</th>\n",
       "      <td>1</td>\n",
       "      <td>127</td>\n",
       "    </tr>\n",
       "    <tr>\n",
       "      <th>3</th>\n",
       "      <td>2</td>\n",
       "      <td>121</td>\n",
       "    </tr>\n",
       "    <tr>\n",
       "      <th>4</th>\n",
       "      <td>3</td>\n",
       "      <td>95</td>\n",
       "    </tr>\n",
       "    <tr>\n",
       "      <th>5</th>\n",
       "      <td>4</td>\n",
       "      <td>82</td>\n",
       "    </tr>\n",
       "    <tr>\n",
       "      <th>6</th>\n",
       "      <td>5</td>\n",
       "      <td>76</td>\n",
       "    </tr>\n",
       "    <tr>\n",
       "      <th>7</th>\n",
       "      <td>6</td>\n",
       "      <td>72</td>\n",
       "    </tr>\n",
       "    <tr>\n",
       "      <th>8</th>\n",
       "      <td>7</td>\n",
       "      <td>77</td>\n",
       "    </tr>\n",
       "    <tr>\n",
       "      <th>9</th>\n",
       "      <td>8</td>\n",
       "      <td>68</td>\n",
       "    </tr>\n",
       "    <tr>\n",
       "      <th>10</th>\n",
       "      <td>9</td>\n",
       "      <td>63</td>\n",
       "    </tr>\n",
       "    <tr>\n",
       "      <th>11</th>\n",
       "      <td>10</td>\n",
       "      <td>58</td>\n",
       "    </tr>\n",
       "    <tr>\n",
       "      <th>12</th>\n",
       "      <td>11</td>\n",
       "      <td>40</td>\n",
       "    </tr>\n",
       "    <tr>\n",
       "      <th>13</th>\n",
       "      <td>12</td>\n",
       "      <td>41</td>\n",
       "    </tr>\n",
       "    <tr>\n",
       "      <th>14</th>\n",
       "      <td>13</td>\n",
       "      <td>36</td>\n",
       "    </tr>\n",
       "    <tr>\n",
       "      <th>15</th>\n",
       "      <td>14</td>\n",
       "      <td>33</td>\n",
       "    </tr>\n",
       "    <tr>\n",
       "      <th>16</th>\n",
       "      <td>15</td>\n",
       "      <td>31</td>\n",
       "    </tr>\n",
       "    <tr>\n",
       "      <th>17</th>\n",
       "      <td>16</td>\n",
       "      <td>25</td>\n",
       "    </tr>\n",
       "    <tr>\n",
       "      <th>18</th>\n",
       "      <td>17</td>\n",
       "      <td>21</td>\n",
       "    </tr>\n",
       "    <tr>\n",
       "      <th>19</th>\n",
       "      <td>18</td>\n",
       "      <td>21</td>\n",
       "    </tr>\n",
       "    <tr>\n",
       "      <th>20</th>\n",
       "      <td>19</td>\n",
       "      <td>18</td>\n",
       "    </tr>\n",
       "    <tr>\n",
       "      <th>21</th>\n",
       "      <td>20</td>\n",
       "      <td>24</td>\n",
       "    </tr>\n",
       "    <tr>\n",
       "      <th>22</th>\n",
       "      <td>21</td>\n",
       "      <td>16</td>\n",
       "    </tr>\n",
       "  </tbody>\n",
       "</table>\n",
       "</div>"
      ],
      "text/plain": [
       "    lvl  count\n",
       "0    -1     34\n",
       "1     0     27\n",
       "2     1    127\n",
       "3     2    121\n",
       "4     3     95\n",
       "5     4     82\n",
       "6     5     76\n",
       "7     6     72\n",
       "8     7     77\n",
       "9     8     68\n",
       "10    9     63\n",
       "11   10     58\n",
       "12   11     40\n",
       "13   12     41\n",
       "14   13     36\n",
       "15   14     33\n",
       "16   15     31\n",
       "17   16     25\n",
       "18   17     21\n",
       "19   18     21\n",
       "20   19     18\n",
       "21   20     24\n",
       "22   21     16"
      ]
     },
     "execution_count": 6,
     "metadata": {},
     "output_type": "execute_result"
    }
   ],
   "source": [
    "level_count = pd.DataFrame(\n",
    "    data={\n",
    "        \"lvl\": [key for key in sorted(lvl_stat.keys())],\n",
    "        \"count\": [lvl_stat.get(key) for key in sorted(lvl_stat.keys())],\n",
    "    }\n",
    ")\n",
    "level_count"
   ]
  },
  {
   "cell_type": "code",
   "execution_count": 7,
   "id": "bdbfe8de",
   "metadata": {},
   "outputs": [
    {
     "data": {
      "image/png": "[encoded data removed]",
      "text/plain": [
       "<Figure size 432x288 with 1 Axes>"
      ]
     },
     "metadata": {
      "needs_background": "light"
     },
     "output_type": "display_data"
    }
   ],
   "source": [
    "import matplotlib.pyplot as plt\n",
    "\n",
    "\n",
    "level_count.plot.bar(x=\"lvl\", y=\"count\", title=\"Count of levels\")\n",
    "plt.show()"
   ]
  },
  {
   "cell_type": "markdown",
   "id": "9fdb6541",
   "metadata": {},
   "source": [
    "## Train test split"
   ]
  },
  {
   "cell_type": "markdown",
   "id": "18f56629",
   "metadata": {},
   "source": [
    "### Chronological split"
   ]
  },
  {
   "cell_type": "code",
   "execution_count": 8,
   "id": "dcda359b",
   "metadata": {},
   "outputs": [],
   "source": [
    "from training.splitting_dataset import split_dataframe\n",
    "\n",
    "\n",
    "os.chdir(\"../../../training\")\n",
    "X_train, X_test, y_train, y_test = split_dataframe(df, test_size=0.31)\n",
    "os.chdir(\"../notebooks/models/lightgbm\")"
   ]
  },
  {
   "cell_type": "code",
   "execution_count": 9,
   "id": "17dbc875",
   "metadata": {},
   "outputs": [],
   "source": [
    "X_train = X_train.drop(columns=[\"book\"])\n",
    "X_test = X_test.drop(columns=[\"book\"])"
   ]
  },
  {
   "cell_type": "markdown",
   "id": "25879636",
   "metadata": {},
   "source": [
    "### Random split"
   ]
  },
  {
   "cell_type": "code",
   "execution_count": 10,
   "id": "982ec5eb",
   "metadata": {},
   "outputs": [],
   "source": [
    "(\n",
    "    X_train_random_split,\n",
    "    X_test_random_split,\n",
    "    y_train_random_split,\n",
    "    y_test_random_split,\n",
    ") = split_dataframe(df, chronological_split=False)"
   ]
  },
  {
   "cell_type": "code",
   "execution_count": 11,
   "id": "90569e78",
   "metadata": {},
   "outputs": [],
   "source": [
    "X_train_random_split = X_train_random_split.drop(columns=[\"book\"])\n",
    "X_test_random_split = X_test_random_split.drop(columns=[\"book\"])"
   ]
  },
  {
   "cell_type": "markdown",
   "id": "9b259fbf",
   "metadata": {},
   "source": [
    "## LightGBM"
   ]
  },
  {
   "cell_type": "markdown",
   "id": "14f37d9b",
   "metadata": {},
   "source": [
    "## Chronological split"
   ]
  },
  {
   "cell_type": "code",
   "execution_count": 12,
   "id": "2bc4c90e",
   "metadata": {},
   "outputs": [
    {
     "name": "stdout",
     "output_type": "stream",
     "text": [
      "[LightGBM] [Warning] Auto-choosing row-wise multi-threading, the overhead of testing was 0.001465 seconds.\n",
      "You can set `force_row_wise=true` to remove the overhead.\n",
      "And if memory is not enough, you can set `force_col_wise=true`.\n",
      "[LightGBM] [Info] Total Bins 756\n",
      "[LightGBM] [Info] Number of data points in the train set: 841, number of used features: 45\n",
      "[LightGBM] [Info] Start training from score 6.966706\n",
      "Training until validation scores don't improve for 5 rounds\n",
      "[LightGBM] [Warning] No further splits with positive gain, best gain: -inf\n",
      "[LightGBM] [Warning] No further splits with positive gain, best gain: -inf\n",
      "[LightGBM] [Warning] No further splits with positive gain, best gain: -inf\n",
      "[LightGBM] [Warning] No further splits with positive gain, best gain: -inf\n",
      "[LightGBM] [Warning] No further splits with positive gain, best gain: -inf\n",
      "Early stopping, best iteration is:\n",
      "[88]\tvalid_0's l1: 0.463517\tvalid_0's l2: 0.932502\n"
     ]
    }
   ],
   "source": [
    "import lightgbm as lgb\n",
    "\n",
    "lgb_train = lgb.Dataset(X_train, y_train)\n",
    "lgb_eval = lgb.Dataset(X_test, y_test, reference=lgb_train)\n",
    "\n",
    "params = {\n",
    "    \"boosting_type\": \"gbdt\",\n",
    "    \"objective\": \"regression\",\n",
    "    \"metric\": {\"l2\", \"l1\"},\n",
    "}\n",
    "\n",
    "gbm = lgb.train(\n",
    "    params,\n",
    "    lgb_train,\n",
    "    num_boost_round=100,\n",
    "    valid_sets=lgb_eval,\n",
    "    callbacks=[lgb.early_stopping(stopping_rounds=5)],\n",
    ")"
   ]
  },
  {
   "cell_type": "code",
   "execution_count": 13,
   "id": "f1ae2eaa",
   "metadata": {},
   "outputs": [],
   "source": [
    "y_pred_train = gbm.predict(X_train, num_iteration=gbm.best_iteration)\n",
    "y_pred_test = gbm.predict(X_test, num_iteration=gbm.best_iteration)"
   ]
  },
  {
   "cell_type": "code",
   "execution_count": 14,
   "id": "ef9d09eb",
   "metadata": {},
   "outputs": [
    {
     "name": "stdout",
     "output_type": "stream",
     "text": [
      "MSE: 0.93\n",
      "RMSE: 0.97\n",
      "MAE: 0.46\n"
     ]
    }
   ],
   "source": [
    "from sklearn.metrics import mean_squared_error, mean_absolute_error\n",
    "\n",
    "\n",
    "mse = mean_squared_error(y_test, y_pred_test)\n",
    "rmse = mean_squared_error(y_test, y_pred_test, squared=False)\n",
    "mae = mean_absolute_error(y_test, y_pred_test)\n",
    "\n",
    "print(f\"MSE: {mse:.2f}\")\n",
    "print(f\"RMSE: {rmse:.2f}\")\n",
    "print(f\"MAE: {mae:.2f}\")"
   ]
  },
  {
   "cell_type": "code",
   "execution_count": 15,
   "id": "6e288d53",
   "metadata": {},
   "outputs": [],
   "source": [
    "results = pd.DataFrame(\n",
    "    data={\n",
    "        \"Split type\": [],\n",
    "        \"Tuning type\": [],\n",
    "        \"Set of features\": [],\n",
    "        \"MSE\": [],\n",
    "        \"RMSE\": [],\n",
    "        \"MAE\": [],\n",
    "    }\n",
    ")\n",
    "\n",
    "results.loc[0] = [\"chronological\", \"default\", \"full\", mse, rmse, mae]"
   ]
  },
  {
   "cell_type": "code",
   "execution_count": 16,
   "id": "78bb7ffa",
   "metadata": {},
   "outputs": [
    {
     "name": "stdout",
     "output_type": "stream",
     "text": [
      "RMSE train: 0.13\n",
      "RMSE test: 0.97\n"
     ]
    }
   ],
   "source": [
    "rmse_train = mean_squared_error(y_train, y_pred_train, squared=False)\n",
    "rmse_test = mean_squared_error(y_test, y_pred_test, squared=False)\n",
    "print(f\"RMSE train: {rmse_train:.2f}\")\n",
    "print(f\"RMSE test: {rmse_test:.2f}\")"
   ]
  },
  {
   "cell_type": "markdown",
   "id": "1822ab4b",
   "metadata": {},
   "source": [
    "###### MAE by level"
   ]
  },
  {
   "cell_type": "code",
   "execution_count": 17,
   "id": "89d4733e",
   "metadata": {},
   "outputs": [],
   "source": [
    "from training.results import plot_mae_by_level"
   ]
  },
  {
   "cell_type": "code",
   "execution_count": 18,
   "id": "062bc79b",
   "metadata": {},
   "outputs": [
    {
     "data": {
      "image/png": "[encoded data removed]",
      "text/plain": [
       "<Figure size 720x432 with 1 Axes>"
      ]
     },
     "metadata": {
      "needs_background": "light"
     },
     "output_type": "display_data"
    }
   ],
   "source": [
    "plot_mae_by_level(\n",
    "    y_test,\n",
    "    y_pred_test,\n",
    "    title=\"MAE by level for default LightGBM with full features and chronological split\",\n",
    ")"
   ]
  },
  {
   "cell_type": "code",
   "execution_count": 19,
   "id": "ec8cab49",
   "metadata": {
    "scrolled": true
   },
   "outputs": [
    {
     "name": "stdout",
     "output_type": "stream",
     "text": [
      "Default:\n",
      "MSE: 0.93\n",
      "RMSE: 0.97\n",
      "\n",
      "Round type: round\n",
      "MSE: 0.97\n",
      "RMSE: 0.98\n",
      "\n",
      "Round type: 0.33\n",
      "MSE: 0.91\n",
      "RMSE: 0.96\n",
      "\n",
      "Round type: 0.45\n",
      "MSE: 0.93\n",
      "RMSE: 0.96\n",
      "\n"
     ]
    }
   ],
   "source": [
    "from training.results import check_round_predictions, plot_confusion_matrix\n",
    "\n",
    "\n",
    "check_round_predictions([\"round\", 0.33, 0.45], y_test, y_pred_test)"
   ]
  },
  {
   "cell_type": "code",
   "execution_count": 20,
   "id": "9129a0ae",
   "metadata": {},
   "outputs": [
    {
     "data": {
      "image/png": "[encoded data removed]",
      "text/plain": [
       "<Figure size 432x288 with 2 Axes>"
      ]
     },
     "metadata": {
      "needs_background": "light"
     },
     "output_type": "display_data"
    }
   ],
   "source": [
    "plot_confusion_matrix(\n",
    "    \"round\",\n",
    "    y_pred_test,\n",
    "    y_test,\n",
    "    title=\"Confusion matrix for default LightGBM with full features and chronological split\",\n",
    ")"
   ]
  },
  {
   "cell_type": "markdown",
   "id": "0e591f6c",
   "metadata": {},
   "source": [
    "#### Tuning"
   ]
  },
  {
   "cell_type": "code",
   "execution_count": 21,
   "id": "2f781cab",
   "metadata": {},
   "outputs": [],
   "source": [
    "from training.results import assess_regression_model"
   ]
  },
  {
   "cell_type": "code",
   "execution_count": 22,
   "id": "d8734e01",
   "metadata": {},
   "outputs": [
    {
     "name": "stderr",
     "output_type": "stream",
     "text": [
      "[I 2023-11-05 11:54:48,103] A new study created in memory with name: no-name-79aab4f7-aaf3-4710-b685-046747e247fa\n",
      "feature_fraction, val_score: inf:   0%|                                                          | 0/7 [00:00<?, ?it/s]"
     ]
    },
    {
     "name": "stdout",
     "output_type": "stream",
     "text": [
      "Training until validation scores don't improve for 100 rounds\n",
      "[100]\tcv_agg's l2: 0.14125 + 0.0328303\n",
      "[200]\tcv_agg's l2: 0.135086 + 0.0294776\n",
      "[300]\tcv_agg's l2: 0.134599 + 0.0282427\n",
      "[400]\tcv_agg's l2: 0.134125 + 0.0280716\n",
      "[500]\tcv_agg's l2: 0.133852 + 0.0278969\n",
      "[600]\tcv_agg's l2: 0.1339 + 0.0278854\n"
     ]
    },
    {
     "name": "stderr",
     "output_type": "stream",
     "text": [
      "feature_fraction, val_score: 0.133790:  14%|######4                                      | 1/7 [00:11<01:10, 11.82s/it][I 2023-11-05 11:54:59,936] Trial 0 finished with value: 0.1337902771264719 and parameters: {'feature_fraction': 0.5}. Best is trial 0 with value: 0.1337902771264719.\n",
      "feature_fraction, val_score: 0.133790:  14%|######4                                      | 1/7 [00:11<01:10, 11.82s/it]"
     ]
    },
    {
     "name": "stdout",
     "output_type": "stream",
     "text": [
      "Early stopping, best iteration is:\n",
      "[559]\tcv_agg's l2: 0.13379 + 0.0276974\n",
      "[100]\tcv_agg's l2: 0.143692 + 0.0387776\n",
      "[200]\tcv_agg's l2: 0.140008 + 0.0375969\n",
      "[300]\tcv_agg's l2: 0.138884 + 0.0371942\n",
      "[400]\tcv_agg's l2: 0.138437 + 0.0375449\n",
      "[500]\tcv_agg's l2: 0.138314 + 0.0372873\n",
      "[600]\tcv_agg's l2: 0.138313 + 0.037222\n"
     ]
    },
    {
     "name": "stderr",
     "output_type": "stream",
     "text": [
      "feature_fraction, val_score: 0.133790:  29%|############8                                | 2/7 [00:21<00:52, 10.52s/it][I 2023-11-05 11:55:09,549] Trial 1 finished with value: 0.13837625413337348 and parameters: {'feature_fraction': 0.7}. Best is trial 0 with value: 0.1337902771264719.\n",
      "feature_fraction, val_score: 0.133790:  29%|############8                                | 2/7 [00:21<00:52, 10.52s/it]"
     ]
    },
    {
     "name": "stdout",
     "output_type": "stream",
     "text": [
      "Early stopping, best iteration is:\n",
      "[559]\tcv_agg's l2: 0.13379 + 0.0276974\n",
      "[100]\tcv_agg's l2: 0.149095 + 0.0331897\n",
      "[200]\tcv_agg's l2: 0.147886 + 0.0337797\n",
      "[300]\tcv_agg's l2: 0.147072 + 0.0334326\n",
      "[400]\tcv_agg's l2: 0.1466 + 0.0335565\n",
      "[500]\tcv_agg's l2: 0.146492 + 0.0335602\n",
      "[600]\tcv_agg's l2: 0.146575 + 0.0334306\n"
     ]
    },
    {
     "name": "stderr",
     "output_type": "stream",
     "text": [
      "feature_fraction, val_score: 0.133790:  43%|###################2                         | 3/7 [00:31<00:41, 10.28s/it][I 2023-11-05 11:55:19,549] Trial 2 finished with value: 0.14654611671555468 and parameters: {'feature_fraction': 0.8999999999999999}. Best is trial 0 with value: 0.1337902771264719.\n",
      "feature_fraction, val_score: 0.133790:  43%|###################2                         | 3/7 [00:31<00:41, 10.28s/it]"
     ]
    },
    {
     "name": "stdout",
     "output_type": "stream",
     "text": [
      "Early stopping, best iteration is:\n",
      "[559]\tcv_agg's l2: 0.13379 + 0.0276974\n",
      "[100]\tcv_agg's l2: 0.140542 + 0.0294113\n",
      "[200]\tcv_agg's l2: 0.136693 + 0.0287692\n",
      "[300]\tcv_agg's l2: 0.136206 + 0.0280507\n",
      "[400]\tcv_agg's l2: 0.135906 + 0.0274343\n",
      "[500]\tcv_agg's l2: 0.135821 + 0.0276344\n",
      "[600]\tcv_agg's l2: 0.135922 + 0.027706\n"
     ]
    },
    {
     "name": "stderr",
     "output_type": "stream",
     "text": [
      "feature_fraction, val_score: 0.133790:  57%|#########################7                   | 4/7 [00:40<00:29,  9.85s/it][I 2023-11-05 11:55:28,736] Trial 3 finished with value: 0.13603472979522396 and parameters: {'feature_fraction': 0.4}. Best is trial 0 with value: 0.1337902771264719.\n",
      "feature_fraction, val_score: 0.133790:  57%|#########################7                   | 4/7 [00:40<00:29,  9.85s/it]"
     ]
    },
    {
     "name": "stdout",
     "output_type": "stream",
     "text": [
      "Early stopping, best iteration is:\n",
      "[559]\tcv_agg's l2: 0.13379 + 0.0276974\n",
      "[100]\tcv_agg's l2: 0.144511 + 0.0360381\n",
      "[200]\tcv_agg's l2: 0.140703 + 0.0333988\n",
      "[300]\tcv_agg's l2: 0.13973 + 0.0324964\n",
      "[400]\tcv_agg's l2: 0.139324 + 0.0322856\n",
      "[500]\tcv_agg's l2: 0.139295 + 0.032133\n",
      "[600]\tcv_agg's l2: 0.139324 + 0.0322055\n"
     ]
    },
    {
     "name": "stderr",
     "output_type": "stream",
     "text": [
      "feature_fraction, val_score: 0.133790:  71%|################################1            | 5/7 [00:50<00:19,  9.78s/it][I 2023-11-05 11:55:38,378] Trial 4 finished with value: 0.1392270708974072 and parameters: {'feature_fraction': 0.6}. Best is trial 0 with value: 0.1337902771264719.\n",
      "feature_fraction, val_score: 0.133790:  71%|################################1            | 5/7 [00:50<00:19,  9.78s/it]"
     ]
    },
    {
     "name": "stdout",
     "output_type": "stream",
     "text": [
      "Early stopping, best iteration is:\n",
      "[559]\tcv_agg's l2: 0.13379 + 0.0276974\n",
      "[100]\tcv_agg's l2: 0.154187 + 0.0353511\n",
      "[200]\tcv_agg's l2: 0.151938 + 0.0355101\n",
      "[300]\tcv_agg's l2: 0.151854 + 0.035169\n",
      "[400]\tcv_agg's l2: 0.152023 + 0.0351842\n",
      "[500]\tcv_agg's l2: 0.15215 + 0.0354372\n",
      "[600]\tcv_agg's l2: 0.152183 + 0.0354283\n"
     ]
    },
    {
     "name": "stderr",
     "output_type": "stream",
     "text": [
      "feature_fraction, val_score: 0.133790:  86%|######################################5      | 6/7 [01:03<00:10, 10.93s/it][I 2023-11-05 11:55:51,559] Trial 5 finished with value: 0.15212148873832868 and parameters: {'feature_fraction': 1.0}. Best is trial 0 with value: 0.1337902771264719.\n",
      "feature_fraction, val_score: 0.133790:  86%|######################################5      | 6/7 [01:03<00:10, 10.93s/it]"
     ]
    },
    {
     "name": "stdout",
     "output_type": "stream",
     "text": [
      "Early stopping, best iteration is:\n",
      "[559]\tcv_agg's l2: 0.13379 + 0.0276974\n",
      "[100]\tcv_agg's l2: 0.151153 + 0.038717\n",
      "[200]\tcv_agg's l2: 0.148451 + 0.0378034\n",
      "[300]\tcv_agg's l2: 0.148206 + 0.0380943\n",
      "[400]\tcv_agg's l2: 0.148186 + 0.0382394\n",
      "[500]\tcv_agg's l2: 0.148141 + 0.0383894\n",
      "[600]\tcv_agg's l2: 0.148078 + 0.0382069\n"
     ]
    },
    {
     "name": "stderr",
     "output_type": "stream",
     "text": [
      "feature_fraction, val_score: 0.133790: 100%|#############################################| 7/7 [01:15<00:00, 11.26s/it][I 2023-11-05 11:56:03,479] Trial 6 finished with value: 0.14813755774229043 and parameters: {'feature_fraction': 0.8}. Best is trial 0 with value: 0.1337902771264719.\n",
      "feature_fraction, val_score: 0.133790: 100%|#############################################| 7/7 [01:15<00:00, 10.77s/it]\n"
     ]
    },
    {
     "name": "stdout",
     "output_type": "stream",
     "text": [
      "Early stopping, best iteration is:\n",
      "[559]\tcv_agg's l2: 0.13379 + 0.0276974\n"
     ]
    },
    {
     "name": "stderr",
     "output_type": "stream",
     "text": [
      "num_leaves, val_score: 0.133790:   0%|                                                          | 0/20 [00:00<?, ?it/s]"
     ]
    },
    {
     "name": "stdout",
     "output_type": "stream",
     "text": [
      "[100]\tcv_agg's l2: 0.14125 + 0.0328303\n",
      "[200]\tcv_agg's l2: 0.135086 + 0.0294776\n",
      "[300]\tcv_agg's l2: 0.134599 + 0.0282427\n",
      "[400]\tcv_agg's l2: 0.134125 + 0.0280716\n",
      "[500]\tcv_agg's l2: 0.133852 + 0.0278969\n",
      "[600]\tcv_agg's l2: 0.1339 + 0.0278854\n"
     ]
    },
    {
     "name": "stderr",
     "output_type": "stream",
     "text": [
      "num_leaves, val_score: 0.133790:   5%|##5                                               | 1/20 [00:10<03:10, 10.01s/it][I 2023-11-05 11:56:13,498] Trial 7 finished with value: 0.1337902771264719 and parameters: {'num_leaves': 150}. Best is trial 7 with value: 0.1337902771264719.\n",
      "num_leaves, val_score: 0.133790:   5%|##5                                               | 1/20 [00:10<03:10, 10.01s/it]"
     ]
    },
    {
     "name": "stdout",
     "output_type": "stream",
     "text": [
      "Early stopping, best iteration is:\n",
      "[559]\tcv_agg's l2: 0.13379 + 0.0276974\n",
      "[100]\tcv_agg's l2: 0.14125 + 0.0328303\n",
      "[200]\tcv_agg's l2: 0.135086 + 0.0294776\n",
      "[300]\tcv_agg's l2: 0.134599 + 0.0282427\n",
      "[400]\tcv_agg's l2: 0.134125 + 0.0280716\n",
      "[500]\tcv_agg's l2: 0.133852 + 0.0278969\n",
      "[600]\tcv_agg's l2: 0.1339 + 0.0278854\n"
     ]
    },
    {
     "name": "stderr",
     "output_type": "stream",
     "text": [
      "num_leaves, val_score: 0.133790:  10%|#####                                             | 2/20 [00:21<03:19, 11.07s/it][I 2023-11-05 11:56:25,315] Trial 8 finished with value: 0.1337902771264719 and parameters: {'num_leaves': 162}. Best is trial 7 with value: 0.1337902771264719.\n",
      "num_leaves, val_score: 0.133790:  10%|#####                                             | 2/20 [00:21<03:19, 11.07s/it]"
     ]
    },
    {
     "name": "stdout",
     "output_type": "stream",
     "text": [
      "Early stopping, best iteration is:\n",
      "[559]\tcv_agg's l2: 0.13379 + 0.0276974\n",
      "[100]\tcv_agg's l2: 0.14125 + 0.0328303\n",
      "[200]\tcv_agg's l2: 0.135086 + 0.0294776\n",
      "[300]\tcv_agg's l2: 0.134599 + 0.0282427\n",
      "[400]\tcv_agg's l2: 0.134125 + 0.0280716\n",
      "[500]\tcv_agg's l2: 0.133852 + 0.0278969\n",
      "[600]\tcv_agg's l2: 0.1339 + 0.0278854\n"
     ]
    },
    {
     "name": "stderr",
     "output_type": "stream",
     "text": [
      "num_leaves, val_score: 0.133790:  15%|#######5                                          | 3/20 [00:32<03:04, 10.88s/it][I 2023-11-05 11:56:35,965] Trial 9 finished with value: 0.1337902771264719 and parameters: {'num_leaves': 96}. Best is trial 7 with value: 0.1337902771264719.\n",
      "num_leaves, val_score: 0.133790:  15%|#######5                                          | 3/20 [00:32<03:04, 10.88s/it]"
     ]
    },
    {
     "name": "stdout",
     "output_type": "stream",
     "text": [
      "Early stopping, best iteration is:\n",
      "[559]\tcv_agg's l2: 0.13379 + 0.0276974\n",
      "[100]\tcv_agg's l2: 0.14125 + 0.0328303\n",
      "[200]\tcv_agg's l2: 0.135086 + 0.0294776\n",
      "[300]\tcv_agg's l2: 0.134599 + 0.0282427\n",
      "[400]\tcv_agg's l2: 0.134125 + 0.0280716\n",
      "[500]\tcv_agg's l2: 0.133852 + 0.0278969\n",
      "[600]\tcv_agg's l2: 0.1339 + 0.0278854\n"
     ]
    },
    {
     "name": "stderr",
     "output_type": "stream",
     "text": [
      "num_leaves, val_score: 0.133790:  20%|##########                                        | 4/20 [00:46<03:16, 12.27s/it][I 2023-11-05 11:56:50,379] Trial 10 finished with value: 0.1337902771264719 and parameters: {'num_leaves': 255}. Best is trial 7 with value: 0.1337902771264719.\n",
      "num_leaves, val_score: 0.133790:  20%|##########                                        | 4/20 [00:46<03:16, 12.27s/it]"
     ]
    },
    {
     "name": "stdout",
     "output_type": "stream",
     "text": [
      "Early stopping, best iteration is:\n",
      "[559]\tcv_agg's l2: 0.13379 + 0.0276974\n",
      "[100]\tcv_agg's l2: 0.153428 + 0.0259427\n",
      "[200]\tcv_agg's l2: 0.141354 + 0.0244286\n",
      "[300]\tcv_agg's l2: 0.137646 + 0.024194\n",
      "[400]\tcv_agg's l2: 0.136021 + 0.0239868\n",
      "[500]\tcv_agg's l2: 0.135658 + 0.0242879\n",
      "[600]\tcv_agg's l2: 0.135086 + 0.0241916\n"
     ]
    },
    {
     "name": "stderr",
     "output_type": "stream",
     "text": [
      "num_leaves, val_score: 0.133790:  25%|############5                                     | 5/20 [00:52<02:26,  9.76s/it][I 2023-11-05 11:56:55,674] Trial 11 finished with value: 0.1352322427729447 and parameters: {'num_leaves': 9}. Best is trial 7 with value: 0.1337902771264719.\n",
      "num_leaves, val_score: 0.133790:  25%|############5                                     | 5/20 [00:52<02:26,  9.76s/it]"
     ]
    },
    {
     "name": "stdout",
     "output_type": "stream",
     "text": [
      "Early stopping, best iteration is:\n",
      "[559]\tcv_agg's l2: 0.13379 + 0.0276974\n",
      "[100]\tcv_agg's l2: 0.14125 + 0.0328303\n",
      "[200]\tcv_agg's l2: 0.135086 + 0.0294776\n",
      "[300]\tcv_agg's l2: 0.134599 + 0.0282427\n",
      "[400]\tcv_agg's l2: 0.134125 + 0.0280716\n",
      "[500]\tcv_agg's l2: 0.133852 + 0.0278969\n",
      "[600]\tcv_agg's l2: 0.1339 + 0.0278854\n"
     ]
    },
    {
     "name": "stderr",
     "output_type": "stream",
     "text": [
      "num_leaves, val_score: 0.133790:  30%|###############                                   | 6/20 [01:03<02:25, 10.37s/it][I 2023-11-05 11:57:07,238] Trial 12 finished with value: 0.1337902771264719 and parameters: {'num_leaves': 162}. Best is trial 7 with value: 0.1337902771264719.\n",
      "num_leaves, val_score: 0.133790:  30%|###############                                   | 6/20 [01:03<02:25, 10.37s/it]"
     ]
    },
    {
     "name": "stdout",
     "output_type": "stream",
     "text": [
      "Early stopping, best iteration is:\n",
      "[559]\tcv_agg's l2: 0.13379 + 0.0276974\n",
      "[100]\tcv_agg's l2: 0.14125 + 0.0328303\n",
      "[200]\tcv_agg's l2: 0.135086 + 0.0294776\n",
      "[300]\tcv_agg's l2: 0.134599 + 0.0282427\n",
      "[400]\tcv_agg's l2: 0.134125 + 0.0280716\n",
      "[500]\tcv_agg's l2: 0.133852 + 0.0278969\n",
      "[600]\tcv_agg's l2: 0.1339 + 0.0278854\n"
     ]
    },
    {
     "name": "stderr",
     "output_type": "stream",
     "text": [
      "num_leaves, val_score: 0.133790:  35%|#################5                                | 7/20 [01:13<02:11, 10.11s/it][I 2023-11-05 11:57:16,820] Trial 13 finished with value: 0.1337902771264719 and parameters: {'num_leaves': 94}. Best is trial 7 with value: 0.1337902771264719.\n",
      "num_leaves, val_score: 0.133790:  35%|#################5                                | 7/20 [01:13<02:11, 10.11s/it]"
     ]
    },
    {
     "name": "stdout",
     "output_type": "stream",
     "text": [
      "Early stopping, best iteration is:\n",
      "[559]\tcv_agg's l2: 0.13379 + 0.0276974\n",
      "[100]\tcv_agg's l2: 0.14125 + 0.0328303\n",
      "[200]\tcv_agg's l2: 0.135086 + 0.0294776\n",
      "[300]\tcv_agg's l2: 0.134599 + 0.0282427\n",
      "[400]\tcv_agg's l2: 0.134125 + 0.0280716\n",
      "[500]\tcv_agg's l2: 0.133852 + 0.0278969\n",
      "[600]\tcv_agg's l2: 0.1339 + 0.0278854\n"
     ]
    },
    {
     "name": "stderr",
     "output_type": "stream",
     "text": [
      "num_leaves, val_score: 0.133790:  40%|####################                              | 8/20 [01:25<02:09, 10.77s/it][I 2023-11-05 11:57:28,990] Trial 14 finished with value: 0.1337902771264719 and parameters: {'num_leaves': 239}. Best is trial 7 with value: 0.1337902771264719.\n",
      "num_leaves, val_score: 0.133790:  40%|####################                              | 8/20 [01:25<02:09, 10.77s/it]"
     ]
    },
    {
     "name": "stdout",
     "output_type": "stream",
     "text": [
      "Early stopping, best iteration is:\n",
      "[559]\tcv_agg's l2: 0.13379 + 0.0276974\n",
      "[100]\tcv_agg's l2: 0.14125 + 0.0328303\n",
      "[200]\tcv_agg's l2: 0.135086 + 0.0294776\n",
      "[300]\tcv_agg's l2: 0.134599 + 0.0282427\n",
      "[400]\tcv_agg's l2: 0.134125 + 0.0280716\n",
      "[500]\tcv_agg's l2: 0.133852 + 0.0278969\n",
      "[600]\tcv_agg's l2: 0.1339 + 0.0278854\n"
     ]
    },
    {
     "name": "stderr",
     "output_type": "stream",
     "text": [
      "num_leaves, val_score: 0.133790:  45%|######################5                           | 9/20 [01:36<01:58, 10.78s/it][I 2023-11-05 11:57:39,781] Trial 15 finished with value: 0.1337902771264719 and parameters: {'num_leaves': 191}. Best is trial 7 with value: 0.1337902771264719.\n",
      "num_leaves, val_score: 0.133790:  45%|######################5                           | 9/20 [01:36<01:58, 10.78s/it]"
     ]
    },
    {
     "name": "stdout",
     "output_type": "stream",
     "text": [
      "Early stopping, best iteration is:\n",
      "[559]\tcv_agg's l2: 0.13379 + 0.0276974\n",
      "[100]\tcv_agg's l2: 0.14125 + 0.0328303\n",
      "[200]\tcv_agg's l2: 0.135086 + 0.0294776\n",
      "[300]\tcv_agg's l2: 0.134599 + 0.0282427\n",
      "[400]\tcv_agg's l2: 0.134125 + 0.0280716\n",
      "[500]\tcv_agg's l2: 0.133852 + 0.0278969\n",
      "[600]\tcv_agg's l2: 0.1339 + 0.0278854\n"
     ]
    },
    {
     "name": "stderr",
     "output_type": "stream",
     "text": [
      "num_leaves, val_score: 0.133790:  50%|########################5                        | 10/20 [01:46<01:47, 10.73s/it][I 2023-11-05 11:57:50,404] Trial 16 finished with value: 0.1337902771264719 and parameters: {'num_leaves': 35}. Best is trial 7 with value: 0.1337902771264719.\n",
      "num_leaves, val_score: 0.133790:  50%|########################5                        | 10/20 [01:46<01:47, 10.73s/it]"
     ]
    },
    {
     "name": "stdout",
     "output_type": "stream",
     "text": [
      "Early stopping, best iteration is:\n",
      "[559]\tcv_agg's l2: 0.13379 + 0.0276974\n",
      "[100]\tcv_agg's l2: 0.14125 + 0.0328303\n",
      "[200]\tcv_agg's l2: 0.135086 + 0.0294776\n",
      "[300]\tcv_agg's l2: 0.134599 + 0.0282427\n",
      "[400]\tcv_agg's l2: 0.134125 + 0.0280716\n",
      "[500]\tcv_agg's l2: 0.133852 + 0.0278969\n",
      "[600]\tcv_agg's l2: 0.1339 + 0.0278854\n"
     ]
    },
    {
     "name": "stderr",
     "output_type": "stream",
     "text": [
      "num_leaves, val_score: 0.133790:  55%|##########################9                      | 11/20 [01:56<01:34, 10.45s/it][I 2023-11-05 11:58:00,222] Trial 17 finished with value: 0.1337902771264719 and parameters: {'num_leaves': 98}. Best is trial 7 with value: 0.1337902771264719.\n",
      "num_leaves, val_score: 0.133790:  55%|##########################9                      | 11/20 [01:56<01:34, 10.45s/it]"
     ]
    },
    {
     "name": "stdout",
     "output_type": "stream",
     "text": [
      "Early stopping, best iteration is:\n",
      "[559]\tcv_agg's l2: 0.13379 + 0.0276974\n",
      "[100]\tcv_agg's l2: 0.14125 + 0.0328303\n",
      "[200]\tcv_agg's l2: 0.135086 + 0.0294776\n",
      "[300]\tcv_agg's l2: 0.134599 + 0.0282427\n",
      "[400]\tcv_agg's l2: 0.134125 + 0.0280716\n",
      "[500]\tcv_agg's l2: 0.133852 + 0.0278969\n",
      "[600]\tcv_agg's l2: 0.1339 + 0.0278854\n"
     ]
    },
    {
     "name": "stderr",
     "output_type": "stream",
     "text": [
      "num_leaves, val_score: 0.133790:  60%|#############################4                   | 12/20 [02:06<01:22, 10.28s/it][I 2023-11-05 11:58:10,127] Trial 18 finished with value: 0.1337902771264719 and parameters: {'num_leaves': 200}. Best is trial 7 with value: 0.1337902771264719.\n",
      "num_leaves, val_score: 0.133790:  60%|#############################4                   | 12/20 [02:06<01:22, 10.28s/it]"
     ]
    },
    {
     "name": "stdout",
     "output_type": "stream",
     "text": [
      "Early stopping, best iteration is:\n",
      "[559]\tcv_agg's l2: 0.13379 + 0.0276974\n",
      "[100]\tcv_agg's l2: 0.14125 + 0.0328303\n",
      "[200]\tcv_agg's l2: 0.135086 + 0.0294776\n",
      "[300]\tcv_agg's l2: 0.134599 + 0.0282427\n",
      "[400]\tcv_agg's l2: 0.134125 + 0.0280716\n",
      "[500]\tcv_agg's l2: 0.133852 + 0.0278969\n",
      "[600]\tcv_agg's l2: 0.1339 + 0.0278854\n"
     ]
    },
    {
     "name": "stderr",
     "output_type": "stream",
     "text": [
      "num_leaves, val_score: 0.133790:  65%|###############################8                 | 13/20 [02:16<01:10, 10.10s/it][I 2023-11-05 11:58:19,792] Trial 19 finished with value: 0.1337902771264719 and parameters: {'num_leaves': 59}. Best is trial 7 with value: 0.1337902771264719.\n",
      "num_leaves, val_score: 0.133790:  65%|###############################8                 | 13/20 [02:16<01:10, 10.10s/it]"
     ]
    },
    {
     "name": "stdout",
     "output_type": "stream",
     "text": [
      "Early stopping, best iteration is:\n",
      "[559]\tcv_agg's l2: 0.13379 + 0.0276974\n",
      "[100]\tcv_agg's l2: 0.14125 + 0.0328303\n",
      "[200]\tcv_agg's l2: 0.135086 + 0.0294776\n",
      "[300]\tcv_agg's l2: 0.134599 + 0.0282427\n",
      "[400]\tcv_agg's l2: 0.134125 + 0.0280716\n",
      "[500]\tcv_agg's l2: 0.133852 + 0.0278969\n",
      "[600]\tcv_agg's l2: 0.1339 + 0.0278854\n"
     ]
    },
    {
     "name": "stderr",
     "output_type": "stream",
     "text": [
      "num_leaves, val_score: 0.133790:  70%|##################################3              | 14/20 [02:24<00:57,  9.51s/it][I 2023-11-05 11:58:27,958] Trial 20 finished with value: 0.1337902771264719 and parameters: {'num_leaves': 138}. Best is trial 7 with value: 0.1337902771264719.\n",
      "num_leaves, val_score: 0.133790:  70%|##################################3              | 14/20 [02:24<00:57,  9.51s/it]"
     ]
    },
    {
     "name": "stdout",
     "output_type": "stream",
     "text": [
      "Early stopping, best iteration is:\n",
      "[559]\tcv_agg's l2: 0.13379 + 0.0276974\n",
      "[100]\tcv_agg's l2: 0.14125 + 0.0328303\n",
      "[200]\tcv_agg's l2: 0.135086 + 0.0294776\n",
      "[300]\tcv_agg's l2: 0.134599 + 0.0282427\n",
      "[400]\tcv_agg's l2: 0.134125 + 0.0280716\n",
      "[500]\tcv_agg's l2: 0.133852 + 0.0278969\n",
      "[600]\tcv_agg's l2: 0.1339 + 0.0278854\n"
     ]
    },
    {
     "name": "stderr",
     "output_type": "stream",
     "text": [
      "num_leaves, val_score: 0.133790:  75%|####################################7            | 15/20 [02:33<00:47,  9.42s/it][I 2023-11-05 11:58:37,153] Trial 21 finished with value: 0.1337902771264719 and parameters: {'num_leaves': 174}. Best is trial 7 with value: 0.1337902771264719.\n",
      "num_leaves, val_score: 0.133790:  75%|####################################7            | 15/20 [02:33<00:47,  9.42s/it]"
     ]
    },
    {
     "name": "stdout",
     "output_type": "stream",
     "text": [
      "Early stopping, best iteration is:\n",
      "[559]\tcv_agg's l2: 0.13379 + 0.0276974\n",
      "[100]\tcv_agg's l2: 0.14125 + 0.0328303\n",
      "[200]\tcv_agg's l2: 0.135086 + 0.0294776\n",
      "[300]\tcv_agg's l2: 0.134599 + 0.0282427\n",
      "[400]\tcv_agg's l2: 0.134125 + 0.0280716\n",
      "[500]\tcv_agg's l2: 0.133852 + 0.0278969\n",
      "[600]\tcv_agg's l2: 0.1339 + 0.0278854\n"
     ]
    },
    {
     "name": "stderr",
     "output_type": "stream",
     "text": [
      "num_leaves, val_score: 0.133790:  80%|#######################################2         | 16/20 [02:42<00:37,  9.31s/it][I 2023-11-05 11:58:46,219] Trial 22 finished with value: 0.1337902771264719 and parameters: {'num_leaves': 137}. Best is trial 7 with value: 0.1337902771264719.\n",
      "num_leaves, val_score: 0.133790:  80%|#######################################2         | 16/20 [02:42<00:37,  9.31s/it]"
     ]
    },
    {
     "name": "stdout",
     "output_type": "stream",
     "text": [
      "Early stopping, best iteration is:\n",
      "[559]\tcv_agg's l2: 0.13379 + 0.0276974\n",
      "[100]\tcv_agg's l2: 0.14125 + 0.0328303\n",
      "[200]\tcv_agg's l2: 0.135086 + 0.0294776\n",
      "[300]\tcv_agg's l2: 0.134599 + 0.0282427\n",
      "[400]\tcv_agg's l2: 0.134125 + 0.0280716\n",
      "[500]\tcv_agg's l2: 0.133852 + 0.0278969\n",
      "[600]\tcv_agg's l2: 0.1339 + 0.0278854\n"
     ]
    },
    {
     "name": "stderr",
     "output_type": "stream",
     "text": [
      "num_leaves, val_score: 0.133790:  85%|#########################################6       | 17/20 [02:52<00:28,  9.57s/it][I 2023-11-05 11:58:56,392] Trial 23 finished with value: 0.1337902771264719 and parameters: {'num_leaves': 216}. Best is trial 7 with value: 0.1337902771264719.\n",
      "num_leaves, val_score: 0.133790:  85%|#########################################6       | 17/20 [02:52<00:28,  9.57s/it]"
     ]
    },
    {
     "name": "stdout",
     "output_type": "stream",
     "text": [
      "Early stopping, best iteration is:\n",
      "[559]\tcv_agg's l2: 0.13379 + 0.0276974\n",
      "[100]\tcv_agg's l2: 0.14125 + 0.0328303\n",
      "[200]\tcv_agg's l2: 0.135086 + 0.0294776\n",
      "[300]\tcv_agg's l2: 0.134599 + 0.0282427\n",
      "[400]\tcv_agg's l2: 0.134125 + 0.0280716\n",
      "[500]\tcv_agg's l2: 0.133852 + 0.0278969\n",
      "[600]\tcv_agg's l2: 0.1339 + 0.0278854\n"
     ]
    },
    {
     "name": "stderr",
     "output_type": "stream",
     "text": [
      "num_leaves, val_score: 0.133790:  90%|############################################1    | 18/20 [03:06<00:21, 10.83s/it][I 2023-11-05 11:59:10,164] Trial 24 finished with value: 0.1337902771264719 and parameters: {'num_leaves': 165}. Best is trial 7 with value: 0.1337902771264719.\n",
      "num_leaves, val_score: 0.133790:  90%|############################################1    | 18/20 [03:06<00:21, 10.83s/it]"
     ]
    },
    {
     "name": "stdout",
     "output_type": "stream",
     "text": [
      "Early stopping, best iteration is:\n",
      "[559]\tcv_agg's l2: 0.13379 + 0.0276974\n",
      "[100]\tcv_agg's l2: 0.14125 + 0.0328303\n",
      "[200]\tcv_agg's l2: 0.135086 + 0.0294776\n",
      "[300]\tcv_agg's l2: 0.134599 + 0.0282427\n",
      "[400]\tcv_agg's l2: 0.134125 + 0.0280716\n",
      "[500]\tcv_agg's l2: 0.133852 + 0.0278969\n",
      "[600]\tcv_agg's l2: 0.1339 + 0.0278854\n"
     ]
    },
    {
     "name": "stderr",
     "output_type": "stream",
     "text": [
      "num_leaves, val_score: 0.133790:  95%|##############################################5  | 19/20 [03:16<00:10, 10.62s/it][I 2023-11-05 11:59:20,277] Trial 25 finished with value: 0.1337902771264719 and parameters: {'num_leaves': 114}. Best is trial 7 with value: 0.1337902771264719.\n",
      "num_leaves, val_score: 0.133790:  95%|##############################################5  | 19/20 [03:16<00:10, 10.62s/it]"
     ]
    },
    {
     "name": "stdout",
     "output_type": "stream",
     "text": [
      "Early stopping, best iteration is:\n",
      "[559]\tcv_agg's l2: 0.13379 + 0.0276974\n",
      "[100]\tcv_agg's l2: 0.14125 + 0.0328303\n",
      "[200]\tcv_agg's l2: 0.135086 + 0.0294776\n",
      "[300]\tcv_agg's l2: 0.134599 + 0.0282427\n",
      "[400]\tcv_agg's l2: 0.134125 + 0.0280716\n",
      "[500]\tcv_agg's l2: 0.133852 + 0.0278969\n",
      "[600]\tcv_agg's l2: 0.1339 + 0.0278854\n"
     ]
    },
    {
     "name": "stderr",
     "output_type": "stream",
     "text": [
      "num_leaves, val_score: 0.133790: 100%|#################################################| 20/20 [03:26<00:00, 10.29s/it][I 2023-11-05 11:59:29,798] Trial 26 finished with value: 0.1337902771264719 and parameters: {'num_leaves': 67}. Best is trial 7 with value: 0.1337902771264719.\n",
      "num_leaves, val_score: 0.133790: 100%|#################################################| 20/20 [03:26<00:00, 10.32s/it]\n"
     ]
    },
    {
     "name": "stdout",
     "output_type": "stream",
     "text": [
      "Early stopping, best iteration is:\n",
      "[559]\tcv_agg's l2: 0.13379 + 0.0276974\n"
     ]
    },
    {
     "name": "stderr",
     "output_type": "stream",
     "text": [
      "bagging, val_score: 0.133790:   0%|                                                             | 0/10 [00:00<?, ?it/s]"
     ]
    },
    {
     "name": "stdout",
     "output_type": "stream",
     "text": [
      "[100]\tcv_agg's l2: 0.143859 + 0.0354171\n",
      "[200]\tcv_agg's l2: 0.138022 + 0.0319899\n",
      "[300]\tcv_agg's l2: 0.136171 + 0.0307284\n",
      "[400]\tcv_agg's l2: 0.135812 + 0.030633\n",
      "[500]\tcv_agg's l2: 0.135958 + 0.0305207\n",
      "[600]\tcv_agg's l2: 0.135888 + 0.0303216\n"
     ]
    },
    {
     "name": "stderr",
     "output_type": "stream",
     "text": [
      "bagging, val_score: 0.133790:  10%|#####3                                               | 1/10 [00:09<01:24,  9.43s/it][I 2023-11-05 11:59:39,237] Trial 27 finished with value: 0.13581536410322118 and parameters: {'bagging_fraction': 0.9682713589120316, 'bagging_freq': 6}. Best is trial 27 with value: 0.13581536410322118.\n",
      "bagging, val_score: 0.133790:  10%|#####3                                               | 1/10 [00:09<01:24,  9.43s/it]"
     ]
    },
    {
     "name": "stdout",
     "output_type": "stream",
     "text": [
      "Early stopping, best iteration is:\n",
      "[559]\tcv_agg's l2: 0.13379 + 0.0276974\n",
      "[100]\tcv_agg's l2: 0.190315 + 0.0386795\n",
      "[200]\tcv_agg's l2: 0.175623 + 0.044099\n",
      "[300]\tcv_agg's l2: 0.167953 + 0.041556\n",
      "[400]\tcv_agg's l2: 0.16765 + 0.0411807\n",
      "[500]\tcv_agg's l2: 0.169872 + 0.0430123\n",
      "[600]\tcv_agg's l2: 0.171759 + 0.0436044\n"
     ]
    },
    {
     "name": "stderr",
     "output_type": "stream",
     "text": [
      "bagging, val_score: 0.133790:  20%|##########6                                          | 2/10 [00:14<00:56,  7.02s/it][I 2023-11-05 11:59:44,562] Trial 28 finished with value: 0.17074449315167597 and parameters: {'bagging_fraction': 0.40878732532067386, 'bagging_freq': 1}. Best is trial 27 with value: 0.13581536410322118.\n",
      "bagging, val_score: 0.133790:  20%|##########6                                          | 2/10 [00:14<00:56,  7.02s/it]"
     ]
    },
    {
     "name": "stdout",
     "output_type": "stream",
     "text": [
      "Early stopping, best iteration is:\n",
      "[559]\tcv_agg's l2: 0.13379 + 0.0276974\n",
      "[100]\tcv_agg's l2: 0.163375 + 0.0333464\n",
      "[200]\tcv_agg's l2: 0.158156 + 0.0288792\n",
      "[300]\tcv_agg's l2: 0.156899 + 0.0290073\n",
      "[400]\tcv_agg's l2: 0.155956 + 0.0289248\n",
      "[500]\tcv_agg's l2: 0.156628 + 0.0285778\n",
      "[600]\tcv_agg's l2: 0.156924 + 0.029014\n"
     ]
    },
    {
     "name": "stderr",
     "output_type": "stream",
     "text": [
      "bagging, val_score: 0.133790:  30%|###############9                                     | 3/10 [00:22<00:50,  7.19s/it][I 2023-11-05 11:59:51,967] Trial 29 finished with value: 0.1568839560544647 and parameters: {'bagging_fraction': 0.6976830565751025, 'bagging_freq': 2}. Best is trial 27 with value: 0.13581536410322118.\n",
      "bagging, val_score: 0.133790:  30%|###############9                                     | 3/10 [00:22<00:50,  7.19s/it]"
     ]
    },
    {
     "name": "stdout",
     "output_type": "stream",
     "text": [
      "Early stopping, best iteration is:\n",
      "[559]\tcv_agg's l2: 0.13379 + 0.0276974\n",
      "[100]\tcv_agg's l2: 0.143128 + 0.0356843\n",
      "[200]\tcv_agg's l2: 0.13765 + 0.0341723\n",
      "[300]\tcv_agg's l2: 0.135818 + 0.0330834\n",
      "[400]\tcv_agg's l2: 0.135109 + 0.0329075\n",
      "[500]\tcv_agg's l2: 0.134981 + 0.0325858\n",
      "[600]\tcv_agg's l2: 0.134748 + 0.0324576\n"
     ]
    },
    {
     "name": "stderr",
     "output_type": "stream",
     "text": [
      "bagging, val_score: 0.133790:  40%|#####################2                               | 4/10 [00:31<00:48,  8.08s/it][I 2023-11-05 12:00:01,411] Trial 30 finished with value: 0.1347893820569487 and parameters: {'bagging_fraction': 0.9840528429871773, 'bagging_freq': 7}. Best is trial 30 with value: 0.1347893820569487.\n",
      "bagging, val_score: 0.133790:  40%|#####################2                               | 4/10 [00:31<00:48,  8.08s/it]"
     ]
    },
    {
     "name": "stdout",
     "output_type": "stream",
     "text": [
      "Early stopping, best iteration is:\n",
      "[559]\tcv_agg's l2: 0.13379 + 0.0276974\n",
      "[100]\tcv_agg's l2: 0.190315 + 0.0494642\n",
      "[200]\tcv_agg's l2: 0.179115 + 0.0437371\n",
      "[300]\tcv_agg's l2: 0.179074 + 0.0454874\n",
      "[400]\tcv_agg's l2: 0.180828 + 0.0471339\n",
      "[500]\tcv_agg's l2: 0.178218 + 0.0427539\n",
      "[600]\tcv_agg's l2: 0.179263 + 0.0424668\n"
     ]
    },
    {
     "name": "stderr",
     "output_type": "stream",
     "text": [
      "bagging, val_score: 0.133790:  50%|##########################5                          | 5/10 [00:37<00:36,  7.36s/it][I 2023-11-05 12:00:07,489] Trial 31 finished with value: 0.17769511486201145 and parameters: {'bagging_fraction': 0.4813552409150509, 'bagging_freq': 4}. Best is trial 30 with value: 0.1347893820569487.\n",
      "bagging, val_score: 0.133790:  50%|##########################5                          | 5/10 [00:37<00:36,  7.36s/it]"
     ]
    },
    {
     "name": "stdout",
     "output_type": "stream",
     "text": [
      "Early stopping, best iteration is:\n",
      "[559]\tcv_agg's l2: 0.13379 + 0.0276974\n",
      "[100]\tcv_agg's l2: 0.165932 + 0.031705\n",
      "[200]\tcv_agg's l2: 0.159458 + 0.0311228\n",
      "[300]\tcv_agg's l2: 0.157935 + 0.0312392\n",
      "[400]\tcv_agg's l2: 0.157267 + 0.0312231\n",
      "[500]\tcv_agg's l2: 0.157625 + 0.0327362\n",
      "[600]\tcv_agg's l2: 0.157618 + 0.0321721\n"
     ]
    },
    {
     "name": "stderr",
     "output_type": "stream",
     "text": [
      "bagging, val_score: 0.133790:  60%|###############################8                     | 6/10 [00:45<00:30,  7.51s/it][I 2023-11-05 12:00:15,301] Trial 32 finished with value: 0.1579078784173809 and parameters: {'bagging_fraction': 0.7318713278384338, 'bagging_freq': 4}. Best is trial 30 with value: 0.1347893820569487.\n",
      "bagging, val_score: 0.133790:  60%|###############################8                     | 6/10 [00:45<00:30,  7.51s/it]"
     ]
    },
    {
     "name": "stdout",
     "output_type": "stream",
     "text": [
      "Early stopping, best iteration is:\n",
      "[559]\tcv_agg's l2: 0.13379 + 0.0276974\n",
      "[100]\tcv_agg's l2: 0.17707 + 0.040537\n",
      "[200]\tcv_agg's l2: 0.170301 + 0.0421441\n",
      "[300]\tcv_agg's l2: 0.169337 + 0.0400525\n",
      "[400]\tcv_agg's l2: 0.169904 + 0.0395662\n",
      "[500]\tcv_agg's l2: 0.170708 + 0.0430233\n",
      "[600]\tcv_agg's l2: 0.170989 + 0.0420657\n"
     ]
    },
    {
     "name": "stderr",
     "output_type": "stream",
     "text": [
      "bagging, val_score: 0.133790:  70%|#####################################                | 7/10 [00:50<00:20,  6.85s/it][I 2023-11-05 12:00:20,789] Trial 33 finished with value: 0.17018779731106695 and parameters: {'bagging_fraction': 0.5676218739154322, 'bagging_freq': 5}. Best is trial 30 with value: 0.1347893820569487.\n",
      "bagging, val_score: 0.133790:  70%|#####################################                | 7/10 [00:50<00:20,  6.85s/it]"
     ]
    },
    {
     "name": "stdout",
     "output_type": "stream",
     "text": [
      "Early stopping, best iteration is:\n",
      "[559]\tcv_agg's l2: 0.13379 + 0.0276974\n",
      "[100]\tcv_agg's l2: 0.156878 + 0.0368166\n",
      "[200]\tcv_agg's l2: 0.15075 + 0.0340126\n",
      "[300]\tcv_agg's l2: 0.148755 + 0.033201\n",
      "[400]\tcv_agg's l2: 0.147527 + 0.0327008\n",
      "[500]\tcv_agg's l2: 0.14759 + 0.0327371\n",
      "[600]\tcv_agg's l2: 0.146919 + 0.0321691\n"
     ]
    },
    {
     "name": "stderr",
     "output_type": "stream",
     "text": [
      "bagging, val_score: 0.133790:  80%|##########################################4          | 8/10 [00:58<00:14,  7.06s/it][I 2023-11-05 12:00:28,311] Trial 34 finished with value: 0.14722039625277472 and parameters: {'bagging_fraction': 0.8344938246711477, 'bagging_freq': 2}. Best is trial 30 with value: 0.1347893820569487.\n",
      "bagging, val_score: 0.133790:  80%|##########################################4          | 8/10 [00:58<00:14,  7.06s/it]"
     ]
    },
    {
     "name": "stdout",
     "output_type": "stream",
     "text": [
      "Early stopping, best iteration is:\n",
      "[559]\tcv_agg's l2: 0.13379 + 0.0276974\n",
      "[100]\tcv_agg's l2: 0.181048 + 0.0345976\n",
      "[200]\tcv_agg's l2: 0.172141 + 0.0321641\n",
      "[300]\tcv_agg's l2: 0.168939 + 0.0317823\n",
      "[400]\tcv_agg's l2: 0.167219 + 0.029577\n",
      "[500]\tcv_agg's l2: 0.1672 + 0.0283803\n",
      "[600]\tcv_agg's l2: 0.167979 + 0.0287538\n"
     ]
    },
    {
     "name": "stderr",
     "output_type": "stream",
     "text": [
      "bagging, val_score: 0.133790:  90%|###############################################7     | 9/10 [01:04<00:06,  6.74s/it][I 2023-11-05 12:00:34,346] Trial 35 finished with value: 0.16765503124722944 and parameters: {'bagging_fraction': 0.6364959797991002, 'bagging_freq': 7}. Best is trial 30 with value: 0.1347893820569487.\n",
      "bagging, val_score: 0.133790:  90%|###############################################7     | 9/10 [01:04<00:06,  6.74s/it]"
     ]
    },
    {
     "name": "stdout",
     "output_type": "stream",
     "text": [
      "Early stopping, best iteration is:\n",
      "[559]\tcv_agg's l2: 0.13379 + 0.0276974\n",
      "[100]\tcv_agg's l2: 0.156151 + 0.0428061\n",
      "[200]\tcv_agg's l2: 0.149627 + 0.0394177\n",
      "[300]\tcv_agg's l2: 0.147241 + 0.038376\n",
      "[400]\tcv_agg's l2: 0.145736 + 0.0373381\n",
      "[500]\tcv_agg's l2: 0.144773 + 0.0370944\n",
      "[600]\tcv_agg's l2: 0.143996 + 0.0366225\n"
     ]
    },
    {
     "name": "stderr",
     "output_type": "stream",
     "text": [
      "bagging, val_score: 0.133790: 100%|####################################################| 10/10 [01:12<00:00,  7.05s/it][I 2023-11-05 12:00:42,079] Trial 36 finished with value: 0.1443781136920067 and parameters: {'bagging_fraction': 0.860810285587865, 'bagging_freq': 3}. Best is trial 30 with value: 0.1347893820569487.\n",
      "bagging, val_score: 0.133790: 100%|####################################################| 10/10 [01:12<00:00,  7.23s/it]\n"
     ]
    },
    {
     "name": "stdout",
     "output_type": "stream",
     "text": [
      "Early stopping, best iteration is:\n",
      "[559]\tcv_agg's l2: 0.13379 + 0.0276974\n"
     ]
    },
    {
     "name": "stderr",
     "output_type": "stream",
     "text": [
      "feature_fraction_stage2, val_score: 0.133790:   0%|                                              | 0/6 [00:00<?, ?it/s]"
     ]
    },
    {
     "name": "stdout",
     "output_type": "stream",
     "text": [
      "[100]\tcv_agg's l2: 0.138225 + 0.0317499\n",
      "[200]\tcv_agg's l2: 0.133159 + 0.0314406\n",
      "[300]\tcv_agg's l2: 0.13252 + 0.0307808\n",
      "[400]\tcv_agg's l2: 0.132163 + 0.0309872\n"
     ]
    },
    {
     "name": "stderr",
     "output_type": "stream",
     "text": [
      "feature_fraction_stage2, val_score: 0.131994:  17%|######3                               | 1/6 [00:06<00:30,  6.15s/it][I 2023-11-05 12:00:48,233] Trial 37 finished with value: 0.13199446100766188 and parameters: {'feature_fraction': 0.42}. Best is trial 37 with value: 0.13199446100766188.\n",
      "feature_fraction_stage2, val_score: 0.131994:  17%|######3                               | 1/6 [00:06<00:30,  6.15s/it]"
     ]
    },
    {
     "name": "stdout",
     "output_type": "stream",
     "text": [
      "Early stopping, best iteration is:\n",
      "[378]\tcv_agg's l2: 0.131994 + 0.0308173\n",
      "[100]\tcv_agg's l2: 0.143911 + 0.0382396\n",
      "[200]\tcv_agg's l2: 0.138312 + 0.0353466\n",
      "[300]\tcv_agg's l2: 0.137677 + 0.0342573\n",
      "[400]\tcv_agg's l2: 0.137737 + 0.0340126\n"
     ]
    },
    {
     "name": "stderr",
     "output_type": "stream",
     "text": [
      "feature_fraction_stage2, val_score: 0.131994:  33%|############6                         | 2/6 [00:12<00:24,  6.09s/it][I 2023-11-05 12:00:54,275] Trial 38 finished with value: 0.13761868784421577 and parameters: {'feature_fraction': 0.5479999999999999}. Best is trial 37 with value: 0.13199446100766188.\n",
      "feature_fraction_stage2, val_score: 0.131994:  33%|############6                         | 2/6 [00:12<00:24,  6.09s/it]"
     ]
    },
    {
     "name": "stdout",
     "output_type": "stream",
     "text": [
      "Early stopping, best iteration is:\n",
      "[378]\tcv_agg's l2: 0.131994 + 0.0308173\n",
      "[100]\tcv_agg's l2: 0.142237 + 0.0366285\n",
      "[200]\tcv_agg's l2: 0.137483 + 0.0348784\n",
      "[300]\tcv_agg's l2: 0.13636 + 0.0342668\n",
      "[400]\tcv_agg's l2: 0.136314 + 0.0341038\n"
     ]
    },
    {
     "name": "stderr",
     "output_type": "stream",
     "text": [
      "feature_fraction_stage2, val_score: 0.131994:  50%|###################                   | 3/6 [00:19<00:20,  6.71s/it][I 2023-11-05 12:01:01,721] Trial 39 finished with value: 0.136317241520214 and parameters: {'feature_fraction': 0.58}. Best is trial 37 with value: 0.13199446100766188.\n",
      "feature_fraction_stage2, val_score: 0.131994:  50%|###################                   | 3/6 [00:19<00:20,  6.71s/it]"
     ]
    },
    {
     "name": "stdout",
     "output_type": "stream",
     "text": [
      "Early stopping, best iteration is:\n",
      "[378]\tcv_agg's l2: 0.131994 + 0.0308173\n",
      "[100]\tcv_agg's l2: 0.142146 + 0.0347305\n",
      "[200]\tcv_agg's l2: 0.136571 + 0.0326451\n",
      "[300]\tcv_agg's l2: 0.135444 + 0.0319507\n",
      "[400]\tcv_agg's l2: 0.135418 + 0.0317167\n"
     ]
    },
    {
     "name": "stderr",
     "output_type": "stream",
     "text": [
      "feature_fraction_stage2, val_score: 0.131994:  67%|#########################3            | 4/6 [00:26<00:13,  6.71s/it][I 2023-11-05 12:01:08,435] Trial 40 finished with value: 0.1354077847502025 and parameters: {'feature_fraction': 0.45199999999999996}. Best is trial 37 with value: 0.13199446100766188.\n",
      "feature_fraction_stage2, val_score: 0.131994:  67%|#########################3            | 4/6 [00:26<00:13,  6.71s/it]"
     ]
    },
    {
     "name": "stdout",
     "output_type": "stream",
     "text": [
      "Early stopping, best iteration is:\n",
      "[378]\tcv_agg's l2: 0.131994 + 0.0308173\n",
      "[100]\tcv_agg's l2: 0.139031 + 0.033823\n",
      "[200]\tcv_agg's l2: 0.132373 + 0.0303337\n",
      "[300]\tcv_agg's l2: 0.131019 + 0.0301801\n",
      "[400]\tcv_agg's l2: 0.130901 + 0.0299267\n",
      "[500]\tcv_agg's l2: 0.1307 + 0.0296273\n",
      "[600]\tcv_agg's l2: 0.130594 + 0.0294539\n",
      "[700]\tcv_agg's l2: 0.130497 + 0.0292434\n",
      "[800]\tcv_agg's l2: 0.130482 + 0.0292251\n"
     ]
    },
    {
     "name": "stderr",
     "output_type": "stream",
     "text": [
      "feature_fraction_stage2, val_score: 0.130432:  83%|###############################6      | 5/6 [00:37<00:08,  8.23s/it][I 2023-11-05 12:01:19,369] Trial 41 finished with value: 0.13043184436328842 and parameters: {'feature_fraction': 0.484}. Best is trial 41 with value: 0.13043184436328842.\n",
      "feature_fraction_stage2, val_score: 0.130432:  83%|###############################6      | 5/6 [00:37<00:08,  8.23s/it]"
     ]
    },
    {
     "name": "stdout",
     "output_type": "stream",
     "text": [
      "Early stopping, best iteration is:\n",
      "[754]\tcv_agg's l2: 0.130432 + 0.0291563\n",
      "[100]\tcv_agg's l2: 0.144693 + 0.0390884\n",
      "[200]\tcv_agg's l2: 0.141938 + 0.0369105\n",
      "[300]\tcv_agg's l2: 0.140968 + 0.0358162\n",
      "[400]\tcv_agg's l2: 0.140998 + 0.0356539\n",
      "[500]\tcv_agg's l2: 0.14073 + 0.0353169\n",
      "[600]\tcv_agg's l2: 0.140708 + 0.0352432\n",
      "[700]\tcv_agg's l2: 0.140617 + 0.0351179\n",
      "[800]\tcv_agg's l2: 0.140685 + 0.0349976\n"
     ]
    },
    {
     "name": "stderr",
     "output_type": "stream",
     "text": [
      "feature_fraction_stage2, val_score: 0.130432: 100%|######################################| 6/6 [00:48<00:00,  9.22s/it][I 2023-11-05 12:01:30,502] Trial 42 finished with value: 0.1406419765169438 and parameters: {'feature_fraction': 0.516}. Best is trial 41 with value: 0.13043184436328842.\n",
      "feature_fraction_stage2, val_score: 0.130432: 100%|######################################| 6/6 [00:48<00:00,  8.07s/it]\n"
     ]
    },
    {
     "name": "stdout",
     "output_type": "stream",
     "text": [
      "Early stopping, best iteration is:\n",
      "[754]\tcv_agg's l2: 0.130432 + 0.0291563\n"
     ]
    },
    {
     "name": "stderr",
     "output_type": "stream",
     "text": [
      "regularization_factors, val_score: 0.130432:   0%|                                              | 0/20 [00:00<?, ?it/s]"
     ]
    },
    {
     "name": "stdout",
     "output_type": "stream",
     "text": [
      "[100]\tcv_agg's l2: 0.139803 + 0.0339998\n",
      "[200]\tcv_agg's l2: 0.134925 + 0.0310058\n",
      "[300]\tcv_agg's l2: 0.134666 + 0.0307925\n",
      "[400]\tcv_agg's l2: 0.134495 + 0.030469\n",
      "[500]\tcv_agg's l2: 0.13426 + 0.0303814\n",
      "[600]\tcv_agg's l2: 0.134384 + 0.0303637\n",
      "[700]\tcv_agg's l2: 0.13427 + 0.0302756\n",
      "[800]\tcv_agg's l2: 0.134288 + 0.0302229\n"
     ]
    },
    {
     "name": "stderr",
     "output_type": "stream",
     "text": [
      "regularization_factors, val_score: 0.130432:   5%|#9                                    | 1/20 [00:10<03:24, 10.79s/it][I 2023-11-05 12:01:41,297] Trial 43 finished with value: 0.13425561313917958 and parameters: {'lambda_l1': 0.02317113830772959, 'lambda_l2': 2.6592152896339783e-05}. Best is trial 43 with value: 0.13425561313917958.\n",
      "regularization_factors, val_score: 0.130432:   5%|#9                                    | 1/20 [00:10<03:24, 10.79s/it]"
     ]
    },
    {
     "name": "stdout",
     "output_type": "stream",
     "text": [
      "Early stopping, best iteration is:\n",
      "[754]\tcv_agg's l2: 0.130432 + 0.0291563\n",
      "[100]\tcv_agg's l2: 0.144178 + 0.0333865\n",
      "[200]\tcv_agg's l2: 0.13892 + 0.0309284\n",
      "[300]\tcv_agg's l2: 0.137998 + 0.0300729\n",
      "[400]\tcv_agg's l2: 0.137618 + 0.0297851\n",
      "[500]\tcv_agg's l2: 0.137419 + 0.0299135\n",
      "[600]\tcv_agg's l2: 0.137232 + 0.029624\n",
      "[700]\tcv_agg's l2: 0.137008 + 0.0293685\n",
      "[800]\tcv_agg's l2: 0.136965 + 0.0294007\n"
     ]
    },
    {
     "name": "stderr",
     "output_type": "stream",
     "text": [
      "regularization_factors, val_score: 0.130432:  10%|###8                                  | 2/20 [00:21<03:16, 10.89s/it][I 2023-11-05 12:01:52,263] Trial 44 finished with value: 0.13699958161593723 and parameters: {'lambda_l1': 1.2416306282377731e-08, 'lambda_l2': 0.9061056541180604}. Best is trial 43 with value: 0.13425561313917958.\n",
      "regularization_factors, val_score: 0.130432:  10%|###8                                  | 2/20 [00:21<03:16, 10.89s/it]"
     ]
    },
    {
     "name": "stdout",
     "output_type": "stream",
     "text": [
      "Early stopping, best iteration is:\n",
      "[754]\tcv_agg's l2: 0.130432 + 0.0291563\n",
      "[100]\tcv_agg's l2: 0.155868 + 0.0357936\n",
      "[200]\tcv_agg's l2: 0.149774 + 0.0342313\n",
      "[300]\tcv_agg's l2: 0.14973 + 0.0342778\n",
      "[400]\tcv_agg's l2: 0.149729 + 0.0342789\n",
      "[500]\tcv_agg's l2: 0.149729 + 0.0342789\n",
      "[600]\tcv_agg's l2: 0.149729 + 0.0342789\n",
      "[700]\tcv_agg's l2: 0.149729 + 0.0342789\n"
     ]
    },
    {
     "name": "stderr",
     "output_type": "stream",
     "text": [
      "regularization_factors, val_score: 0.130432:  15%|#####7                                | 3/20 [00:26<02:17,  8.11s/it]"
     ]
    },
    {
     "name": "stdout",
     "output_type": "stream",
     "text": [
      "[800]\tcv_agg's l2: 0.149729 + 0.0342789\n",
      "Early stopping, best iteration is:\n",
      "[754]\tcv_agg's l2: 0.130432 + 0.0291563\n"
     ]
    },
    {
     "name": "stderr",
     "output_type": "stream",
     "text": [
      "[I 2023-11-05 12:01:57,073] Trial 45 finished with value: 0.1497294107186922 and parameters: {'lambda_l1': 1.8214576472487445, 'lambda_l2': 3.34467812778213e-08}. Best is trial 43 with value: 0.13425561313917958.\n",
      "regularization_factors, val_score: 0.130432:  15%|#####7                                | 3/20 [00:26<02:17,  8.11s/it]"
     ]
    },
    {
     "name": "stdout",
     "output_type": "stream",
     "text": [
      "[100]\tcv_agg's l2: 0.153281 + 0.0323024\n",
      "[200]\tcv_agg's l2: 0.146255 + 0.0311263\n",
      "[300]\tcv_agg's l2: 0.145228 + 0.0308972\n",
      "[400]\tcv_agg's l2: 0.145314 + 0.0309336\n",
      "[500]\tcv_agg's l2: 0.14544 + 0.0308622\n",
      "[600]\tcv_agg's l2: 0.145522 + 0.0310752\n",
      "[700]\tcv_agg's l2: 0.145584 + 0.030953\n",
      "[800]\tcv_agg's l2: 0.145653 + 0.0311099\n"
     ]
    },
    {
     "name": "stderr",
     "output_type": "stream",
     "text": [
      "regularization_factors, val_score: 0.130432:  20%|#######6                              | 4/20 [00:36<02:19,  8.69s/it][I 2023-11-05 12:02:06,642] Trial 46 finished with value: 0.145565444636887 and parameters: {'lambda_l1': 1.652406639384434e-05, 'lambda_l2': 5.117226537558295}. Best is trial 43 with value: 0.13425561313917958.\n",
      "regularization_factors, val_score: 0.130432:  20%|#######6                              | 4/20 [00:36<02:19,  8.69s/it]"
     ]
    },
    {
     "name": "stdout",
     "output_type": "stream",
     "text": [
      "Early stopping, best iteration is:\n",
      "[754]\tcv_agg's l2: 0.130432 + 0.0291563\n",
      "[100]\tcv_agg's l2: 0.2092 + 0.0317362\n",
      "[200]\tcv_agg's l2: 0.207693 + 0.0320311\n",
      "[300]\tcv_agg's l2: 0.207692 + 0.0320324\n",
      "[400]\tcv_agg's l2: 0.207692 + 0.0320324\n",
      "[500]\tcv_agg's l2: 0.207692 + 0.0320324\n",
      "[600]\tcv_agg's l2: 0.207692 + 0.0320324\n",
      "[700]\tcv_agg's l2: 0.207692 + 0.0320324\n"
     ]
    },
    {
     "name": "stderr",
     "output_type": "stream",
     "text": [
      "regularization_factors, val_score: 0.130432:  25%|#########5                            | 5/20 [00:38<01:33,  6.24s/it][I 2023-11-05 12:02:08,538] Trial 47 finished with value: 0.20769154666156164 and parameters: {'lambda_l1': 9.625386466539949, 'lambda_l2': 0.002602110450351232}. Best is trial 43 with value: 0.13425561313917958.\n",
      "regularization_factors, val_score: 0.130432:  25%|#########5                            | 5/20 [00:38<01:33,  6.24s/it]"
     ]
    },
    {
     "name": "stdout",
     "output_type": "stream",
     "text": [
      "[800]\tcv_agg's l2: 0.207692 + 0.0320324\n",
      "Early stopping, best iteration is:\n",
      "[754]\tcv_agg's l2: 0.130432 + 0.0291563\n",
      "[100]\tcv_agg's l2: 0.139162 + 0.0344415\n",
      "[200]\tcv_agg's l2: 0.133241 + 0.0316999\n",
      "[300]\tcv_agg's l2: 0.131955 + 0.0302418\n",
      "[400]\tcv_agg's l2: 0.131449 + 0.0298328\n",
      "[500]\tcv_agg's l2: 0.131267 + 0.0296138\n",
      "[600]\tcv_agg's l2: 0.131105 + 0.0295578\n",
      "[700]\tcv_agg's l2: 0.131191 + 0.0294749\n",
      "[800]\tcv_agg's l2: 0.131268 + 0.0294182\n"
     ]
    },
    {
     "name": "stderr",
     "output_type": "stream",
     "text": [
      "regularization_factors, val_score: 0.130432:  30%|###########4                          | 6/20 [00:43<01:24,  6.07s/it][I 2023-11-05 12:02:14,272] Trial 48 finished with value: 0.13116525631584441 and parameters: {'lambda_l1': 0.000113813667777447, 'lambda_l2': 2.2514988613471136e-08}. Best is trial 48 with value: 0.13116525631584441.\n",
      "regularization_factors, val_score: 0.130432:  30%|###########4                          | 6/20 [00:43<01:24,  6.07s/it]"
     ]
    },
    {
     "name": "stdout",
     "output_type": "stream",
     "text": [
      "Early stopping, best iteration is:\n",
      "[754]\tcv_agg's l2: 0.130432 + 0.0291563\n",
      "[100]\tcv_agg's l2: 0.138345 + 0.0332742\n",
      "[200]\tcv_agg's l2: 0.132722 + 0.0309521\n",
      "[300]\tcv_agg's l2: 0.131547 + 0.029661\n",
      "[400]\tcv_agg's l2: 0.131289 + 0.029396\n",
      "[500]\tcv_agg's l2: 0.131188 + 0.0293554\n",
      "[600]\tcv_agg's l2: 0.131079 + 0.0292285\n",
      "[700]\tcv_agg's l2: 0.131052 + 0.0291154\n",
      "[800]\tcv_agg's l2: 0.131207 + 0.0291621\n"
     ]
    },
    {
     "name": "stderr",
     "output_type": "stream",
     "text": [
      "regularization_factors, val_score: 0.130432:  35%|#############3                        | 7/20 [00:49<01:15,  5.83s/it][I 2023-11-05 12:02:19,602] Trial 49 finished with value: 0.13117443036942056 and parameters: {'lambda_l1': 0.000122757428798802, 'lambda_l2': 4.499575697967836e-08}. Best is trial 48 with value: 0.13116525631584441.\n",
      "regularization_factors, val_score: 0.130432:  35%|#############3                        | 7/20 [00:49<01:15,  5.83s/it]"
     ]
    },
    {
     "name": "stdout",
     "output_type": "stream",
     "text": [
      "Early stopping, best iteration is:\n",
      "[754]\tcv_agg's l2: 0.130432 + 0.0291563\n",
      "[100]\tcv_agg's l2: 0.138345 + 0.0332742\n",
      "[200]\tcv_agg's l2: 0.132584 + 0.0310468\n",
      "[300]\tcv_agg's l2: 0.131294 + 0.029842\n",
      "[400]\tcv_agg's l2: 0.131087 + 0.0295428\n",
      "[500]\tcv_agg's l2: 0.131075 + 0.0295232\n",
      "[600]\tcv_agg's l2: 0.130929 + 0.0295082\n",
      "[700]\tcv_agg's l2: 0.130894 + 0.0294742\n",
      "[800]\tcv_agg's l2: 0.130977 + 0.0294973\n"
     ]
    },
    {
     "name": "stderr",
     "output_type": "stream",
     "text": [
      "regularization_factors, val_score: 0.130432:  40%|###############2                      | 8/20 [00:54<01:06,  5.54s/it][I 2023-11-05 12:02:24,527] Trial 50 finished with value: 0.13093182901190906 and parameters: {'lambda_l1': 0.00012539173345242532, 'lambda_l2': 1.1004206476227683e-08}. Best is trial 50 with value: 0.13093182901190906.\n",
      "regularization_factors, val_score: 0.130432:  40%|###############2                      | 8/20 [00:54<01:06,  5.54s/it]"
     ]
    },
    {
     "name": "stdout",
     "output_type": "stream",
     "text": [
      "Early stopping, best iteration is:\n",
      "[754]\tcv_agg's l2: 0.130432 + 0.0291563\n",
      "[100]\tcv_agg's l2: 0.138345 + 0.0332742\n",
      "[200]\tcv_agg's l2: 0.132584 + 0.0310468\n",
      "[300]\tcv_agg's l2: 0.131112 + 0.0295864\n",
      "[400]\tcv_agg's l2: 0.130692 + 0.0289985\n",
      "[500]\tcv_agg's l2: 0.130525 + 0.0288497\n"
     ]
    },
    {
     "name": "stderr",
     "output_type": "stream",
     "text": [
      "regularization_factors, val_score: 0.130397:  45%|#################1                    | 9/20 [00:57<00:53,  4.91s/it][I 2023-11-05 12:02:28,037] Trial 51 finished with value: 0.13039734402338315 and parameters: {'lambda_l1': 0.00013313812308667118, 'lambda_l2': 1.3004426810392838e-08}. Best is trial 51 with value: 0.13039734402338315.\n",
      "regularization_factors, val_score: 0.130397:  45%|#################1                    | 9/20 [00:57<00:53,  4.91s/it]"
     ]
    },
    {
     "name": "stdout",
     "output_type": "stream",
     "text": [
      "Early stopping, best iteration is:\n",
      "[492]\tcv_agg's l2: 0.130397 + 0.0287587\n",
      "[100]\tcv_agg's l2: 0.139162 + 0.0344415\n",
      "[200]\tcv_agg's l2: 0.133241 + 0.0316999\n",
      "[300]\tcv_agg's l2: 0.131955 + 0.0302418\n",
      "[400]\tcv_agg's l2: 0.131449 + 0.0298328\n",
      "[500]\tcv_agg's l2: 0.131267 + 0.0296138\n"
     ]
    },
    {
     "name": "stderr",
     "output_type": "stream",
     "text": [
      "regularization_factors, val_score: 0.130397:  50%|##################5                  | 10/20 [01:01<00:45,  4.55s/it][I 2023-11-05 12:02:31,806] Trial 52 finished with value: 0.13128421328860526 and parameters: {'lambda_l1': 0.00011668384942656029, 'lambda_l2': 1.6464096535946828e-08}. Best is trial 51 with value: 0.13039734402338315.\n",
      "regularization_factors, val_score: 0.130397:  50%|##################5                  | 10/20 [01:01<00:45,  4.55s/it]"
     ]
    },
    {
     "name": "stdout",
     "output_type": "stream",
     "text": [
      "Early stopping, best iteration is:\n",
      "[492]\tcv_agg's l2: 0.130397 + 0.0287587\n",
      "[100]\tcv_agg's l2: 0.138345 + 0.0332742\n",
      "[200]\tcv_agg's l2: 0.132584 + 0.0310468\n",
      "[300]\tcv_agg's l2: 0.131294 + 0.029842\n",
      "[400]\tcv_agg's l2: 0.131087 + 0.0295428\n",
      "[500]\tcv_agg's l2: 0.131075 + 0.0295232\n"
     ]
    },
    {
     "name": "stderr",
     "output_type": "stream",
     "text": [
      "regularization_factors, val_score: 0.130397:  55%|####################3                | 11/20 [01:04<00:38,  4.29s/it][I 2023-11-05 12:02:35,486] Trial 53 finished with value: 0.13101122465528262 and parameters: {'lambda_l1': 0.0001253698916927065, 'lambda_l2': 1.2577609240220934e-08}. Best is trial 51 with value: 0.13039734402338315.\n",
      "regularization_factors, val_score: 0.130397:  55%|####################3                | 11/20 [01:04<00:38,  4.29s/it]"
     ]
    },
    {
     "name": "stdout",
     "output_type": "stream",
     "text": [
      "Early stopping, best iteration is:\n",
      "[492]\tcv_agg's l2: 0.130397 + 0.0287587\n",
      "[100]\tcv_agg's l2: 0.139162 + 0.0344415\n",
      "[200]\tcv_agg's l2: 0.133241 + 0.0316999\n",
      "[300]\tcv_agg's l2: 0.131955 + 0.0302419\n",
      "[400]\tcv_agg's l2: 0.131449 + 0.0298328\n",
      "[500]\tcv_agg's l2: 0.131267 + 0.0296138\n"
     ]
    },
    {
     "name": "stderr",
     "output_type": "stream",
     "text": [
      "regularization_factors, val_score: 0.130397:  60%|######################2              | 12/20 [01:08<00:32,  4.05s/it][I 2023-11-05 12:02:39,007] Trial 54 finished with value: 0.1312842121145078 and parameters: {'lambda_l1': 0.00011849963714308679, 'lambda_l2': 1.062828861794226e-08}. Best is trial 51 with value: 0.13039734402338315.\n",
      "regularization_factors, val_score: 0.130397:  60%|######################2              | 12/20 [01:08<00:32,  4.05s/it]"
     ]
    },
    {
     "name": "stdout",
     "output_type": "stream",
     "text": [
      "Early stopping, best iteration is:\n",
      "[492]\tcv_agg's l2: 0.130397 + 0.0287587\n",
      "[100]\tcv_agg's l2: 0.138873 + 0.0340235\n",
      "[200]\tcv_agg's l2: 0.133441 + 0.0322905\n",
      "[300]\tcv_agg's l2: 0.13217 + 0.0310586\n",
      "[400]\tcv_agg's l2: 0.132072 + 0.0308164\n",
      "[500]\tcv_agg's l2: 0.132276 + 0.0307088\n"
     ]
    },
    {
     "name": "stderr",
     "output_type": "stream",
     "text": [
      "regularization_factors, val_score: 0.130397:  65%|########################             | 13/20 [01:13<00:29,  4.21s/it][I 2023-11-05 12:02:43,591] Trial 55 finished with value: 0.13229026377210987 and parameters: {'lambda_l1': 0.00018823967353119039, 'lambda_l2': 1.3947270315175092e-08}. Best is trial 51 with value: 0.13039734402338315.\n",
      "regularization_factors, val_score: 0.130397:  65%|########################             | 13/20 [01:13<00:29,  4.21s/it]"
     ]
    },
    {
     "name": "stdout",
     "output_type": "stream",
     "text": [
      "Early stopping, best iteration is:\n",
      "[492]\tcv_agg's l2: 0.130397 + 0.0287587\n",
      "[100]\tcv_agg's l2: 0.139258 + 0.0341155\n",
      "[200]\tcv_agg's l2: 0.132537 + 0.0316788\n",
      "[300]\tcv_agg's l2: 0.131146 + 0.031237\n",
      "[400]\tcv_agg's l2: 0.131275 + 0.0306815\n",
      "[500]\tcv_agg's l2: 0.131141 + 0.0304395\n"
     ]
    },
    {
     "name": "stderr",
     "output_type": "stream",
     "text": [
      "regularization_factors, val_score: 0.130397:  70%|#########################9           | 14/20 [01:17<00:24,  4.15s/it][I 2023-11-05 12:02:47,602] Trial 56 finished with value: 0.13107840732912363 and parameters: {'lambda_l1': 4.7416060288573546e-05, 'lambda_l2': 1.7743080208317969e-07}. Best is trial 51 with value: 0.13039734402338315.\n",
      "regularization_factors, val_score: 0.130397:  70%|#########################9           | 14/20 [01:17<00:24,  4.15s/it]"
     ]
    },
    {
     "name": "stdout",
     "output_type": "stream",
     "text": [
      "Early stopping, best iteration is:\n",
      "[492]\tcv_agg's l2: 0.130397 + 0.0287587\n",
      "[100]\tcv_agg's l2: 0.138852 + 0.0340821\n",
      "[200]\tcv_agg's l2: 0.132432 + 0.0304909\n",
      "[300]\tcv_agg's l2: 0.131576 + 0.0299881\n",
      "[400]\tcv_agg's l2: 0.131659 + 0.0297242\n",
      "[500]\tcv_agg's l2: 0.131661 + 0.0296632\n"
     ]
    },
    {
     "name": "stderr",
     "output_type": "stream",
     "text": [
      "regularization_factors, val_score: 0.130397:  75%|###########################7         | 15/20 [01:21<00:20,  4.08s/it][I 2023-11-05 12:02:51,509] Trial 57 finished with value: 0.13166061888158503 and parameters: {'lambda_l1': 9.684405802681416e-06, 'lambda_l2': 3.5590818718659977e-07}. Best is trial 51 with value: 0.13039734402338315.\n",
      "regularization_factors, val_score: 0.130397:  75%|###########################7         | 15/20 [01:21<00:20,  4.08s/it]"
     ]
    },
    {
     "name": "stdout",
     "output_type": "stream",
     "text": [
      "Early stopping, best iteration is:\n",
      "[492]\tcv_agg's l2: 0.130397 + 0.0287587\n",
      "[100]\tcv_agg's l2: 0.138974 + 0.0343255\n",
      "[200]\tcv_agg's l2: 0.133992 + 0.0319248\n",
      "[300]\tcv_agg's l2: 0.132295 + 0.0314581\n",
      "[400]\tcv_agg's l2: 0.131753 + 0.0311993\n",
      "[500]\tcv_agg's l2: 0.131707 + 0.0311155\n"
     ]
    },
    {
     "name": "stderr",
     "output_type": "stream",
     "text": [
      "regularization_factors, val_score: 0.130397:  80%|#############################6       | 16/20 [01:24<00:16,  4.02s/it][I 2023-11-05 12:02:55,397] Trial 58 finished with value: 0.1317471197012911 and parameters: {'lambda_l1': 0.0016012856072762458, 'lambda_l2': 4.2484945922969484e-07}. Best is trial 51 with value: 0.13039734402338315.\n",
      "regularization_factors, val_score: 0.130397:  80%|#############################6       | 16/20 [01:24<00:16,  4.02s/it]"
     ]
    },
    {
     "name": "stdout",
     "output_type": "stream",
     "text": [
      "Early stopping, best iteration is:\n",
      "[492]\tcv_agg's l2: 0.130397 + 0.0287587\n",
      "[100]\tcv_agg's l2: 0.138852 + 0.0340821\n",
      "[200]\tcv_agg's l2: 0.132062 + 0.0308617\n",
      "[300]\tcv_agg's l2: 0.131509 + 0.0301438\n",
      "[400]\tcv_agg's l2: 0.131274 + 0.0299375\n",
      "[500]\tcv_agg's l2: 0.130975 + 0.0297329\n"
     ]
    },
    {
     "name": "stderr",
     "output_type": "stream",
     "text": [
      "regularization_factors, val_score: 0.130397:  85%|###############################4     | 17/20 [01:28<00:11,  3.95s/it][I 2023-11-05 12:02:59,167] Trial 59 finished with value: 0.13096412234922566 and parameters: {'lambda_l1': 1.9661701628904106e-05, 'lambda_l2': 3.476316784251109e-07}. Best is trial 51 with value: 0.13039734402338315.\n",
      "regularization_factors, val_score: 0.130397:  85%|###############################4     | 17/20 [01:28<00:11,  3.95s/it]"
     ]
    },
    {
     "name": "stdout",
     "output_type": "stream",
     "text": [
      "Early stopping, best iteration is:\n",
      "[492]\tcv_agg's l2: 0.130397 + 0.0287587\n",
      "[100]\tcv_agg's l2: 0.138812 + 0.0341074\n",
      "[200]\tcv_agg's l2: 0.132447 + 0.0304805\n",
      "[300]\tcv_agg's l2: 0.131469 + 0.0302238\n",
      "[400]\tcv_agg's l2: 0.131323 + 0.0300428\n",
      "[500]\tcv_agg's l2: 0.131329 + 0.030064\n"
     ]
    },
    {
     "name": "stderr",
     "output_type": "stream",
     "text": [
      "regularization_factors, val_score: 0.130397:  90%|#################################3   | 18/20 [01:31<00:07,  3.76s/it][I 2023-11-05 12:03:02,482] Trial 60 finished with value: 0.13125742064005091 and parameters: {'lambda_l1': 5.534154305378189e-06, 'lambda_l2': 5.519140556167395e-07}. Best is trial 51 with value: 0.13039734402338315.\n",
      "regularization_factors, val_score: 0.130397:  90%|#################################3   | 18/20 [01:31<00:07,  3.76s/it]"
     ]
    },
    {
     "name": "stdout",
     "output_type": "stream",
     "text": [
      "Early stopping, best iteration is:\n",
      "[492]\tcv_agg's l2: 0.130397 + 0.0287587\n",
      "[100]\tcv_agg's l2: 0.138852 + 0.0340821\n",
      "[200]\tcv_agg's l2: 0.132062 + 0.0308617\n",
      "[300]\tcv_agg's l2: 0.131509 + 0.0301438\n",
      "[400]\tcv_agg's l2: 0.131274 + 0.0299375\n",
      "[500]\tcv_agg's l2: 0.130975 + 0.0297329\n"
     ]
    },
    {
     "name": "stderr",
     "output_type": "stream",
     "text": [
      "regularization_factors, val_score: 0.130397:  95%|###################################1 | 19/20 [01:35<00:03,  3.64s/it][I 2023-11-05 12:03:05,855] Trial 61 finished with value: 0.13096412267704582 and parameters: {'lambda_l1': 2.0000709601640893e-05, 'lambda_l2': 1.2922838516847516e-07}. Best is trial 51 with value: 0.13039734402338315.\n",
      "regularization_factors, val_score: 0.130397:  95%|###################################1 | 19/20 [01:35<00:03,  3.64s/it]"
     ]
    },
    {
     "name": "stdout",
     "output_type": "stream",
     "text": [
      "Early stopping, best iteration is:\n",
      "[492]\tcv_agg's l2: 0.130397 + 0.0287587\n",
      "[100]\tcv_agg's l2: 0.138852 + 0.0340821\n",
      "[200]\tcv_agg's l2: 0.132432 + 0.0304909\n",
      "[300]\tcv_agg's l2: 0.131609 + 0.0299809\n",
      "[400]\tcv_agg's l2: 0.131691 + 0.0297122\n",
      "[500]\tcv_agg's l2: 0.131621 + 0.0297266\n"
     ]
    },
    {
     "name": "stderr",
     "output_type": "stream",
     "text": [
      "regularization_factors, val_score: 0.130397: 100%|#####################################| 20/20 [01:38<00:00,  3.57s/it][I 2023-11-05 12:03:09,248] Trial 62 finished with value: 0.13157438745214745 and parameters: {'lambda_l1': 8.954460177162907e-06, 'lambda_l2': 2.557002975880986e-07}. Best is trial 51 with value: 0.13039734402338315.\n",
      "regularization_factors, val_score: 0.130397: 100%|#####################################| 20/20 [01:38<00:00,  4.94s/it]\n"
     ]
    },
    {
     "name": "stdout",
     "output_type": "stream",
     "text": [
      "Early stopping, best iteration is:\n",
      "[492]\tcv_agg's l2: 0.130397 + 0.0287587\n"
     ]
    },
    {
     "name": "stderr",
     "output_type": "stream",
     "text": [
      "min_data_in_leaf, val_score: 0.130397:   0%|                                                     | 0/5 [00:00<?, ?it/s]"
     ]
    },
    {
     "name": "stdout",
     "output_type": "stream",
     "text": [
      "[100]\tcv_agg's l2: 0.728413 + 0.124842\n",
      "[200]\tcv_agg's l2: 0.690054 + 0.12995\n",
      "[300]\tcv_agg's l2: 0.672244 + 0.131733\n",
      "[400]\tcv_agg's l2: 0.665836 + 0.135495\n",
      "[500]\tcv_agg's l2: 0.658124 + 0.134947\n"
     ]
    },
    {
     "name": "stderr",
     "output_type": "stream",
     "text": [
      "min_data_in_leaf, val_score: 0.130397:  20%|#########                                    | 1/5 [00:01<00:05,  1.44s/it][I 2023-11-05 12:03:10,697] Trial 63 finished with value: 0.6583252716027325 and parameters: {'min_child_samples': 100}. Best is trial 63 with value: 0.6583252716027325.\n",
      "min_data_in_leaf, val_score: 0.130397:  20%|#########                                    | 1/5 [00:01<00:05,  1.44s/it]"
     ]
    },
    {
     "name": "stdout",
     "output_type": "stream",
     "text": [
      "Early stopping, best iteration is:\n",
      "[492]\tcv_agg's l2: 0.130397 + 0.0287587\n",
      "[100]\tcv_agg's l2: 0.12464 + 0.0272957\n",
      "[200]\tcv_agg's l2: 0.123526 + 0.0266193\n",
      "[300]\tcv_agg's l2: 0.123293 + 0.0265375\n"
     ]
    },
    {
     "name": "stderr",
     "output_type": "stream",
     "text": [
      "min_data_in_leaf, val_score: 0.123259:  40%|##################                           | 2/5 [00:03<00:06,  2.04s/it][I 2023-11-05 12:03:13,154] Trial 64 finished with value: 0.12325918168017677 and parameters: {'min_child_samples': 5}. Best is trial 64 with value: 0.12325918168017677.\n",
      "min_data_in_leaf, val_score: 0.123259:  40%|##################                           | 2/5 [00:03<00:06,  2.04s/it]"
     ]
    },
    {
     "name": "stdout",
     "output_type": "stream",
     "text": [
      "Early stopping, best iteration is:\n",
      "[248]\tcv_agg's l2: 0.123259 + 0.0265238\n",
      "[100]\tcv_agg's l2: 0.217197 + 0.0415294\n",
      "[200]\tcv_agg's l2: 0.204525 + 0.0413965\n"
     ]
    },
    {
     "name": "stderr",
     "output_type": "stream",
     "text": [
      "min_data_in_leaf, val_score: 0.123259:  60%|###########################                  | 3/5 [00:05<00:03,  1.76s/it]"
     ]
    },
    {
     "name": "stdout",
     "output_type": "stream",
     "text": [
      "[300]\tcv_agg's l2: 0.202531 + 0.04292\n",
      "Early stopping, best iteration is:\n",
      "[248]\tcv_agg's l2: 0.123259 + 0.0265238\n"
     ]
    },
    {
     "name": "stderr",
     "output_type": "stream",
     "text": [
      "[I 2023-11-05 12:03:14,590] Trial 65 finished with value: 0.20218629260010612 and parameters: {'min_child_samples': 50}. Best is trial 64 with value: 0.12325918168017677.\n",
      "min_data_in_leaf, val_score: 0.123259:  60%|###########################                  | 3/5 [00:05<00:03,  1.76s/it]"
     ]
    },
    {
     "name": "stdout",
     "output_type": "stream",
     "text": [
      "[100]\tcv_agg's l2: 0.158198 + 0.0454392\n",
      "[200]\tcv_agg's l2: 0.152904 + 0.0431938\n",
      "[300]\tcv_agg's l2: 0.150881 + 0.041375\n"
     ]
    },
    {
     "name": "stderr",
     "output_type": "stream",
     "text": [
      "min_data_in_leaf, val_score: 0.123259:  80%|####################################         | 4/5 [00:07<00:01,  1.73s/it][I 2023-11-05 12:03:16,277] Trial 66 finished with value: 0.15150816872035336 and parameters: {'min_child_samples': 25}. Best is trial 64 with value: 0.12325918168017677.\n",
      "min_data_in_leaf, val_score: 0.123259:  80%|####################################         | 4/5 [00:07<00:01,  1.73s/it]"
     ]
    },
    {
     "name": "stdout",
     "output_type": "stream",
     "text": [
      "Early stopping, best iteration is:\n",
      "[248]\tcv_agg's l2: 0.123259 + 0.0265238\n",
      "[100]\tcv_agg's l2: 0.127483 + 0.0253416\n",
      "[200]\tcv_agg's l2: 0.126323 + 0.025131\n",
      "[300]\tcv_agg's l2: 0.126011 + 0.0253939\n"
     ]
    },
    {
     "name": "stderr",
     "output_type": "stream",
     "text": [
      "min_data_in_leaf, val_score: 0.123259: 100%|#############################################| 5/5 [00:09<00:00,  2.01s/it][I 2023-11-05 12:03:18,771] Trial 67 finished with value: 0.12603901690287508 and parameters: {'min_child_samples': 10}. Best is trial 64 with value: 0.12325918168017677.\n",
      "min_data_in_leaf, val_score: 0.123259: 100%|#############################################| 5/5 [00:09<00:00,  1.90s/it]"
     ]
    },
    {
     "name": "stdout",
     "output_type": "stream",
     "text": [
      "Early stopping, best iteration is:\n",
      "[248]\tcv_agg's l2: 0.123259 + 0.0265238\n"
     ]
    },
    {
     "name": "stderr",
     "output_type": "stream",
     "text": [
      "\n"
     ]
    }
   ],
   "source": [
    "import optuna.integration.lightgbm as lgb\n",
    "from lightgbm import early_stopping, log_evaluation\n",
    "from sklearn.model_selection import KFold\n",
    "from sklearn.model_selection import RepeatedKFold\n",
    "\n",
    "\n",
    "lgb_train = lgb.Dataset(X_train, y_train)\n",
    "\n",
    "params = {\n",
    "    \"boosting_type\": \"gbdt\",\n",
    "    \"objective\": \"regression\",\n",
    "    \"metric\": \"l2\",\n",
    "    \"verbosity\": -1,\n",
    "}\n",
    "\n",
    "tuner = lgb.LightGBMTunerCV(\n",
    "    params,\n",
    "    lgb_train,\n",
    "    folds=KFold(n_splits=5),\n",
    "    num_boost_round=10000,\n",
    "    callbacks=[early_stopping(100), log_evaluation(100)],\n",
    ")\n",
    "\n",
    "tuner.run()"
   ]
  },
  {
   "cell_type": "code",
   "execution_count": 23,
   "id": "d9ab9a30",
   "metadata": {},
   "outputs": [
    {
     "name": "stdout",
     "output_type": "stream",
     "text": [
      "Best score: 0.12325918168017677\n",
      "Params: \n",
      "    boosting_type: gbdt\n",
      "    objective: regression\n",
      "    metric: l2\n",
      "    verbosity: -1\n",
      "    feature_pre_filter: False\n",
      "    lambda_l1: 0.00013313812308667118\n",
      "    lambda_l2: 1.3004426810392838e-08\n",
      "    num_leaves: 31\n",
      "    feature_fraction: 0.484\n",
      "    bagging_fraction: 1.0\n",
      "    bagging_freq: 0\n",
      "    min_child_samples: 5\n"
     ]
    }
   ],
   "source": [
    "print(f\"Best score: {tuner.best_score}\")\n",
    "best_params = tuner.best_params\n",
    "print(\"Params: \")\n",
    "for key, value in best_params.items():\n",
    "    print(\"    {}: {}\".format(key, value))"
   ]
  },
  {
   "cell_type": "code",
   "execution_count": 24,
   "id": "0cb62c30",
   "metadata": {},
   "outputs": [],
   "source": [
    "import lightgbm as lgb\n",
    "\n",
    "lgb_tuned = lgb.train(\n",
    "    best_params,\n",
    "    lgb_train,\n",
    "    num_boost_round=10000,\n",
    ")"
   ]
  },
  {
   "cell_type": "code",
   "execution_count": 25,
   "id": "eb6b8188",
   "metadata": {},
   "outputs": [
    {
     "name": "stdout",
     "output_type": "stream",
     "text": [
      "RMSE train: 0.00\n",
      "RMSE test: 0.71\n",
      "MSE test: 0.50\n",
      "MAE test: 0.41\n",
      "\n"
     ]
    }
   ],
   "source": [
    "rmse, mse, mae = assess_regression_model(lgb_tuned, X_train, X_test, y_train, y_test)"
   ]
  },
  {
   "cell_type": "code",
   "execution_count": 26,
   "id": "90047108",
   "metadata": {},
   "outputs": [],
   "source": [
    "results.loc[1] = [\n",
    "    \"chronological\",\n",
    "    \"Optuna\",\n",
    "    \"full\",\n",
    "    mse,\n",
    "    rmse,\n",
    "    mae,\n",
    "]"
   ]
  },
  {
   "cell_type": "markdown",
   "id": "b26d94f2",
   "metadata": {},
   "source": [
    "###### MAE by level"
   ]
  },
  {
   "cell_type": "code",
   "execution_count": 27,
   "id": "bb716b92",
   "metadata": {},
   "outputs": [
    {
     "data": {
      "image/png": "[encoded data removed]",
      "text/plain": [
       "<Figure size 720x432 with 1 Axes>"
      ]
     },
     "metadata": {
      "needs_background": "light"
     },
     "output_type": "display_data"
    }
   ],
   "source": [
    "plot_mae_by_level(\n",
    "    y_test,\n",
    "    y_pred_test,\n",
    "    title=\"MAE by level for tuned LightGBM with full features and chronological split\",\n",
    ")"
   ]
  },
  {
   "cell_type": "code",
   "execution_count": 28,
   "id": "79785820",
   "metadata": {
    "scrolled": false
   },
   "outputs": [
    {
     "name": "stdout",
     "output_type": "stream",
     "text": [
      "Default:\n",
      "MSE: 0.50\n",
      "RMSE: 0.71\n",
      "\n",
      "Round type: round\n",
      "MSE: 0.56\n",
      "RMSE: 0.75\n",
      "\n",
      "Round type: 0.33\n",
      "MSE: 0.50\n",
      "RMSE: 0.70\n",
      "\n",
      "Round type: 0.45\n",
      "MSE: 0.54\n",
      "RMSE: 0.73\n",
      "\n"
     ]
    }
   ],
   "source": [
    "predict = lgb_tuned.predict(X_test)\n",
    "check_round_predictions([\"round\", 0.33, 0.45], y_test, predict)"
   ]
  },
  {
   "cell_type": "code",
   "execution_count": 29,
   "id": "63a9eab9",
   "metadata": {},
   "outputs": [
    {
     "data": {
      "image/png": "[encoded data removed]",
      "text/plain": [
       "<Figure size 432x288 with 2 Axes>"
      ]
     },
     "metadata": {
      "needs_background": "light"
     },
     "output_type": "display_data"
    }
   ],
   "source": [
    "plot_confusion_matrix(\n",
    "    \"round\",\n",
    "    predict,\n",
    "    y_test,\n",
    "    title=\"Confusion matrix for tuned LightGBM with full features and chronological split\",\n",
    ")"
   ]
  },
  {
   "cell_type": "markdown",
   "id": "a1fa0d3e",
   "metadata": {},
   "source": [
    "## Random split"
   ]
  },
  {
   "cell_type": "code",
   "execution_count": 30,
   "id": "69148859",
   "metadata": {},
   "outputs": [
    {
     "name": "stdout",
     "output_type": "stream",
     "text": [
      "[LightGBM] [Warning] Auto-choosing col-wise multi-threading, the overhead of testing was 0.001157 seconds.\n",
      "You can set `force_col_wise=true` to remove the overhead.\n",
      "[LightGBM] [Info] Total Bins 804\n",
      "[LightGBM] [Info] Number of data points in the train set: 904, number of used features: 48\n",
      "[LightGBM] [Info] Start training from score 7.162611\n",
      "Training until validation scores don't improve for 5 rounds\n",
      "Early stopping, best iteration is:\n",
      "[75]\tvalid_0's l1: 0.246737\tvalid_0's l2: 0.1379\n"
     ]
    }
   ],
   "source": [
    "import lightgbm as lgb\n",
    "from sklearn.metrics import mean_squared_error\n",
    "\n",
    "lgb_train = lgb.Dataset(X_train_random_split, y_train_random_split)\n",
    "lgb_eval = lgb.Dataset(X_test_random_split, y_test_random_split, reference=lgb_train)\n",
    "\n",
    "params = {\n",
    "    \"boosting_type\": \"gbdt\",\n",
    "    \"objective\": \"regression\",\n",
    "    \"metric\": {\"l2\", \"l1\"},\n",
    "}\n",
    "\n",
    "gbm = lgb.train(\n",
    "    params,\n",
    "    lgb_train,\n",
    "    num_boost_round=100,\n",
    "    valid_sets=lgb_eval,\n",
    "    callbacks=[lgb.early_stopping(stopping_rounds=5)],\n",
    ")"
   ]
  },
  {
   "cell_type": "code",
   "execution_count": 31,
   "id": "792899a7",
   "metadata": {},
   "outputs": [],
   "source": [
    "y_pred_train = gbm.predict(X_train_random_split, num_iteration=gbm.best_iteration)\n",
    "y_pred_test = gbm.predict(X_test_random_split, num_iteration=gbm.best_iteration)"
   ]
  },
  {
   "cell_type": "code",
   "execution_count": 32,
   "id": "92e8b92d",
   "metadata": {},
   "outputs": [
    {
     "name": "stdout",
     "output_type": "stream",
     "text": [
      "MSE: 0.14\n",
      "RMSE: 0.37\n",
      "MAE: 0.25\n"
     ]
    }
   ],
   "source": [
    "from sklearn.metrics import mean_squared_error, mean_absolute_error\n",
    "\n",
    "\n",
    "mse = mean_squared_error(y_test_random_split, y_pred_test)\n",
    "rmse = mean_squared_error(y_test_random_split, y_pred_test, squared=False)\n",
    "mae = mean_absolute_error(y_test_random_split, y_pred_test)\n",
    "\n",
    "print(f\"MSE: {mse:.2f}\")\n",
    "print(f\"RMSE: {rmse:.2f}\")\n",
    "print(f\"MAE: {mae:.2f}\")"
   ]
  },
  {
   "cell_type": "code",
   "execution_count": 33,
   "id": "e9b9f08d",
   "metadata": {},
   "outputs": [],
   "source": [
    "results.loc[2] = [\"random\", \"default\", \"full\", mse, rmse, mae]"
   ]
  },
  {
   "cell_type": "markdown",
   "id": "e2f3fc5d",
   "metadata": {},
   "source": [
    "###### MAE by level"
   ]
  },
  {
   "cell_type": "code",
   "execution_count": 34,
   "id": "591c040e",
   "metadata": {},
   "outputs": [
    {
     "data": {
      "image/png": "[encoded data removed]",
      "text/plain": [
       "<Figure size 720x432 with 1 Axes>"
      ]
     },
     "metadata": {
      "needs_background": "light"
     },
     "output_type": "display_data"
    }
   ],
   "source": [
    "plot_mae_by_level(\n",
    "    y_test_random_split,\n",
    "    y_pred_test,\n",
    "    title=\"MAE by level for default LightGBM with full features and random split\",\n",
    ")"
   ]
  },
  {
   "cell_type": "code",
   "execution_count": 35,
   "id": "2122d102",
   "metadata": {
    "scrolled": true
   },
   "outputs": [
    {
     "name": "stdout",
     "output_type": "stream",
     "text": [
      "Default:\n",
      "MSE: 0.14\n",
      "RMSE: 0.37\n",
      "\n",
      "Round type: round\n",
      "MSE: 0.14\n",
      "RMSE: 0.38\n",
      "\n",
      "Round type: 0.33\n",
      "MSE: 0.19\n",
      "RMSE: 0.43\n",
      "\n",
      "Round type: 0.45\n",
      "MSE: 0.15\n",
      "RMSE: 0.38\n",
      "\n"
     ]
    }
   ],
   "source": [
    "check_round_predictions([\"round\", 0.33, 0.45], y_test_random_split, y_pred_test)"
   ]
  },
  {
   "cell_type": "code",
   "execution_count": 36,
   "id": "3b4c77ab",
   "metadata": {},
   "outputs": [
    {
     "data": {
      "image/png": "[encoded data removed]",
      "text/plain": [
       "<Figure size 432x288 with 2 Axes>"
      ]
     },
     "metadata": {
      "needs_background": "light"
     },
     "output_type": "display_data"
    }
   ],
   "source": [
    "plot_confusion_matrix(\n",
    "    \"round\",\n",
    "    y_pred_test,\n",
    "    y_test_random_split,\n",
    "    title=\"Confusion matrix for default LightGBM with full features and random split\",\n",
    ")"
   ]
  },
  {
   "cell_type": "markdown",
   "id": "295f8eff",
   "metadata": {},
   "source": [
    "### Tuning"
   ]
  },
  {
   "cell_type": "code",
   "execution_count": 37,
   "id": "14fca15b",
   "metadata": {},
   "outputs": [
    {
     "name": "stderr",
     "output_type": "stream",
     "text": [
      "[I 2023-11-05 12:03:26,490] A new study created in memory with name: no-name-bb8a6e0d-1475-4db3-9216-ef5795201d49\n",
      "feature_fraction, val_score: inf:   0%|                                                          | 0/7 [00:00<?, ?it/s]"
     ]
    },
    {
     "name": "stdout",
     "output_type": "stream",
     "text": [
      "Training until validation scores don't improve for 100 rounds\n",
      "[100]\tcv_agg's l2: 0.145545 + 0.0280298\n",
      "[200]\tcv_agg's l2: 0.141679 + 0.0269664\n",
      "[300]\tcv_agg's l2: 0.14066 + 0.0263995\n",
      "[400]\tcv_agg's l2: 0.139993 + 0.0257257\n",
      "[500]\tcv_agg's l2: 0.139732 + 0.0255354\n",
      "[600]\tcv_agg's l2: 0.139653 + 0.0253083\n",
      "[700]\tcv_agg's l2: 0.139567 + 0.0251451\n",
      "Early stopping, best iteration is:\n",
      "[631]\tcv_agg's l2: 0.139539 + 0.0252567\n"
     ]
    },
    {
     "name": "stderr",
     "output_type": "stream",
     "text": [
      "feature_fraction, val_score: 0.139539:  14%|######4                                      | 1/7 [00:04<00:24,  4.11s/it][I 2023-11-05 12:03:30,606] Trial 0 finished with value: 0.13953927682489078 and parameters: {'feature_fraction': 0.4}. Best is trial 0 with value: 0.13953927682489078.\n",
      "feature_fraction, val_score: 0.139539:  14%|######4                                      | 1/7 [00:04<00:24,  4.11s/it]"
     ]
    },
    {
     "name": "stdout",
     "output_type": "stream",
     "text": [
      "[100]\tcv_agg's l2: 0.16188 + 0.0462029\n",
      "[200]\tcv_agg's l2: 0.157371 + 0.0441822\n",
      "[300]\tcv_agg's l2: 0.156155 + 0.044525\n",
      "[400]\tcv_agg's l2: 0.155675 + 0.0439743\n",
      "[500]\tcv_agg's l2: 0.155222 + 0.0435148\n",
      "[600]\tcv_agg's l2: 0.155154 + 0.0433292\n"
     ]
    },
    {
     "name": "stderr",
     "output_type": "stream",
     "text": [
      "feature_fraction, val_score: 0.139539:  29%|############8                                | 2/7 [00:08<00:22,  4.54s/it][I 2023-11-05 12:03:35,445] Trial 1 finished with value: 0.15505960844870573 and parameters: {'feature_fraction': 0.6}. Best is trial 0 with value: 0.13953927682489078.\n",
      "feature_fraction, val_score: 0.139539:  29%|############8                                | 2/7 [00:08<00:22,  4.54s/it]"
     ]
    },
    {
     "name": "stdout",
     "output_type": "stream",
     "text": [
      "[700]\tcv_agg's l2: 0.154971 + 0.0430233\n",
      "Early stopping, best iteration is:\n",
      "[631]\tcv_agg's l2: 0.139539 + 0.0252567\n",
      "[100]\tcv_agg's l2: 0.1745 + 0.0542813\n",
      "[200]\tcv_agg's l2: 0.170078 + 0.0514526\n",
      "[300]\tcv_agg's l2: 0.168684 + 0.0511311\n",
      "[400]\tcv_agg's l2: 0.167765 + 0.0501488\n",
      "[500]\tcv_agg's l2: 0.16745 + 0.0496344\n",
      "[600]\tcv_agg's l2: 0.167405 + 0.0493618\n"
     ]
    },
    {
     "name": "stderr",
     "output_type": "stream",
     "text": [
      "\r",
      "feature_fraction, val_score: 0.139539:  29%|############8                                | 2/7 [00:13<00:22,  4.54s/it]"
     ]
    },
    {
     "name": "stdout",
     "output_type": "stream",
     "text": [
      "[700]\tcv_agg's l2: 0.167254 + 0.0491069\n",
      "Early stopping, best iteration is:\n",
      "[631]\tcv_agg's l2: 0.139539 + 0.0252567\n"
     ]
    },
    {
     "name": "stderr",
     "output_type": "stream",
     "text": [
      "feature_fraction, val_score: 0.139539:  43%|###################2                         | 3/7 [00:13<00:18,  4.52s/it][I 2023-11-05 12:03:39,938] Trial 2 finished with value: 0.16736856427232988 and parameters: {'feature_fraction': 0.8}. Best is trial 0 with value: 0.13953927682489078.\n",
      "feature_fraction, val_score: 0.139539:  43%|###################2                         | 3/7 [00:13<00:18,  4.52s/it]"
     ]
    },
    {
     "name": "stdout",
     "output_type": "stream",
     "text": [
      "[100]\tcv_agg's l2: 0.176141 + 0.0442915\n",
      "[200]\tcv_agg's l2: 0.17209 + 0.0423175\n",
      "[300]\tcv_agg's l2: 0.17129 + 0.0411383\n",
      "[400]\tcv_agg's l2: 0.170976 + 0.0403597\n",
      "[500]\tcv_agg's l2: 0.170833 + 0.0401118\n",
      "[600]\tcv_agg's l2: 0.170689 + 0.0397988\n",
      "[700]\tcv_agg's l2: 0.170657 + 0.0396887\n",
      "Early stopping, best iteration is:\n",
      "[631]\tcv_agg's l2: 0.139539 + 0.0252567\n"
     ]
    },
    {
     "name": "stderr",
     "output_type": "stream",
     "text": [
      "feature_fraction, val_score: 0.139539:  57%|#########################7                   | 4/7 [00:17<00:13,  4.43s/it][I 2023-11-05 12:03:44,237] Trial 3 finished with value: 0.1706846589614062 and parameters: {'feature_fraction': 0.8999999999999999}. Best is trial 0 with value: 0.13953927682489078.\n",
      "feature_fraction, val_score: 0.139539:  57%|#########################7                   | 4/7 [00:17<00:13,  4.43s/it]"
     ]
    },
    {
     "name": "stdout",
     "output_type": "stream",
     "text": [
      "[100]\tcv_agg's l2: 0.146564 + 0.0456485\n",
      "[200]\tcv_agg's l2: 0.143586 + 0.0453039\n",
      "[300]\tcv_agg's l2: 0.142727 + 0.0445926\n",
      "[400]\tcv_agg's l2: 0.142149 + 0.0443566\n",
      "[500]\tcv_agg's l2: 0.141923 + 0.0439685\n",
      "[600]\tcv_agg's l2: 0.141836 + 0.0437563\n"
     ]
    },
    {
     "name": "stderr",
     "output_type": "stream",
     "text": [
      "\r",
      "feature_fraction, val_score: 0.139539:  57%|#########################7                   | 4/7 [00:22<00:13,  4.43s/it]"
     ]
    },
    {
     "name": "stdout",
     "output_type": "stream",
     "text": [
      "[700]\tcv_agg's l2: 0.141884 + 0.0437527\n",
      "Early stopping, best iteration is:\n",
      "[631]\tcv_agg's l2: 0.139539 + 0.0252567\n"
     ]
    },
    {
     "name": "stderr",
     "output_type": "stream",
     "text": [
      "feature_fraction, val_score: 0.139539:  71%|################################1            | 5/7 [00:22<00:08,  4.37s/it][I 2023-11-05 12:03:48,500] Trial 4 finished with value: 0.14183330204612157 and parameters: {'feature_fraction': 0.5}. Best is trial 0 with value: 0.13953927682489078.\n",
      "feature_fraction, val_score: 0.139539:  71%|################################1            | 5/7 [00:22<00:08,  4.37s/it]"
     ]
    },
    {
     "name": "stdout",
     "output_type": "stream",
     "text": [
      "[100]\tcv_agg's l2: 0.168687 + 0.0517401\n",
      "[200]\tcv_agg's l2: 0.164334 + 0.050007\n",
      "[300]\tcv_agg's l2: 0.162951 + 0.0483883\n",
      "[400]\tcv_agg's l2: 0.16222 + 0.0477072\n",
      "[500]\tcv_agg's l2: 0.161974 + 0.0472285\n",
      "[600]\tcv_agg's l2: 0.161895 + 0.0470414\n"
     ]
    },
    {
     "name": "stderr",
     "output_type": "stream",
     "text": [
      "\r",
      "feature_fraction, val_score: 0.139539:  71%|################################1            | 5/7 [00:27<00:08,  4.37s/it]"
     ]
    },
    {
     "name": "stdout",
     "output_type": "stream",
     "text": [
      "[700]\tcv_agg's l2: 0.161809 + 0.0468843\n",
      "Early stopping, best iteration is:\n",
      "[631]\tcv_agg's l2: 0.139539 + 0.0252567\n"
     ]
    },
    {
     "name": "stderr",
     "output_type": "stream",
     "text": [
      "feature_fraction, val_score: 0.139539:  86%|######################################5      | 6/7 [00:27<00:04,  4.75s/it][I 2023-11-05 12:03:53,997] Trial 5 finished with value: 0.16185643848047054 and parameters: {'feature_fraction': 0.7}. Best is trial 0 with value: 0.13953927682489078.\n",
      "feature_fraction, val_score: 0.139539:  86%|######################################5      | 6/7 [00:27<00:04,  4.75s/it]"
     ]
    },
    {
     "name": "stdout",
     "output_type": "stream",
     "text": [
      "[100]\tcv_agg's l2: 0.171774 + 0.0385179\n",
      "[200]\tcv_agg's l2: 0.168125 + 0.0370259\n",
      "[300]\tcv_agg's l2: 0.167077 + 0.0364716\n",
      "[400]\tcv_agg's l2: 0.166605 + 0.0362367\n",
      "[500]\tcv_agg's l2: 0.166486 + 0.0359509\n",
      "[600]\tcv_agg's l2: 0.166497 + 0.0358265\n"
     ]
    },
    {
     "name": "stderr",
     "output_type": "stream",
     "text": [
      "feature_fraction, val_score: 0.139539: 100%|#############################################| 7/7 [00:33<00:00,  5.01s/it][I 2023-11-05 12:03:59,533] Trial 6 finished with value: 0.16648050623344726 and parameters: {'feature_fraction': 1.0}. Best is trial 0 with value: 0.13953927682489078.\n",
      "feature_fraction, val_score: 0.139539: 100%|#############################################| 7/7 [00:33<00:00,  4.72s/it]\n"
     ]
    },
    {
     "name": "stdout",
     "output_type": "stream",
     "text": [
      "[700]\tcv_agg's l2: 0.166434 + 0.0357387\n",
      "Early stopping, best iteration is:\n",
      "[631]\tcv_agg's l2: 0.139539 + 0.0252567\n"
     ]
    },
    {
     "name": "stderr",
     "output_type": "stream",
     "text": [
      "num_leaves, val_score: 0.139539:   0%|                                                          | 0/20 [00:00<?, ?it/s]"
     ]
    },
    {
     "name": "stdout",
     "output_type": "stream",
     "text": [
      "[100]\tcv_agg's l2: 0.145545 + 0.0280298\n",
      "[200]\tcv_agg's l2: 0.141679 + 0.0269664\n",
      "[300]\tcv_agg's l2: 0.14066 + 0.0263995\n",
      "[400]\tcv_agg's l2: 0.139993 + 0.0257257\n",
      "[500]\tcv_agg's l2: 0.139732 + 0.0255354\n",
      "[600]\tcv_agg's l2: 0.139653 + 0.0253083\n"
     ]
    },
    {
     "name": "stderr",
     "output_type": "stream",
     "text": [
      "\r",
      "num_leaves, val_score: 0.139539:   0%|                                                          | 0/20 [00:05<?, ?it/s]"
     ]
    },
    {
     "name": "stdout",
     "output_type": "stream",
     "text": [
      "[700]\tcv_agg's l2: 0.139567 + 0.0251451\n",
      "Early stopping, best iteration is:\n",
      "[631]\tcv_agg's l2: 0.139539 + 0.0252567\n"
     ]
    },
    {
     "name": "stderr",
     "output_type": "stream",
     "text": [
      "num_leaves, val_score: 0.139539:   5%|##5                                               | 1/20 [00:05<01:35,  5.02s/it][I 2023-11-05 12:04:04,560] Trial 7 finished with value: 0.13953927682489078 and parameters: {'num_leaves': 68}. Best is trial 7 with value: 0.13953927682489078.\n",
      "num_leaves, val_score: 0.139539:   5%|##5                                               | 1/20 [00:05<01:35,  5.02s/it]"
     ]
    },
    {
     "name": "stdout",
     "output_type": "stream",
     "text": [
      "[100]\tcv_agg's l2: 0.145545 + 0.0280298\n",
      "[200]\tcv_agg's l2: 0.141679 + 0.0269664\n",
      "[300]\tcv_agg's l2: 0.14066 + 0.0263995\n",
      "[400]\tcv_agg's l2: 0.139993 + 0.0257257\n",
      "[500]\tcv_agg's l2: 0.139732 + 0.0255354\n",
      "[600]\tcv_agg's l2: 0.139653 + 0.0253083\n"
     ]
    },
    {
     "name": "stderr",
     "output_type": "stream",
     "text": [
      "num_leaves, val_score: 0.139539:  10%|#####                                             | 2/20 [00:09<01:28,  4.91s/it][I 2023-11-05 12:04:09,397] Trial 8 finished with value: 0.13953927682489078 and parameters: {'num_leaves': 38}. Best is trial 7 with value: 0.13953927682489078.\n",
      "num_leaves, val_score: 0.139539:  10%|#####                                             | 2/20 [00:09<01:28,  4.91s/it]"
     ]
    },
    {
     "name": "stdout",
     "output_type": "stream",
     "text": [
      "[700]\tcv_agg's l2: 0.139567 + 0.0251451\n",
      "Early stopping, best iteration is:\n",
      "[631]\tcv_agg's l2: 0.139539 + 0.0252567\n",
      "[100]\tcv_agg's l2: 0.145545 + 0.0280298\n",
      "[200]\tcv_agg's l2: 0.141679 + 0.0269664\n",
      "[300]\tcv_agg's l2: 0.14066 + 0.0263995\n",
      "[400]\tcv_agg's l2: 0.139993 + 0.0257257\n",
      "[500]\tcv_agg's l2: 0.139732 + 0.0255354\n",
      "[600]\tcv_agg's l2: 0.139653 + 0.0253083\n"
     ]
    },
    {
     "name": "stderr",
     "output_type": "stream",
     "text": [
      "\r",
      "num_leaves, val_score: 0.139539:  10%|#####                                             | 2/20 [00:14<01:28,  4.91s/it]"
     ]
    },
    {
     "name": "stdout",
     "output_type": "stream",
     "text": [
      "[700]\tcv_agg's l2: 0.139567 + 0.0251451\n",
      "Early stopping, best iteration is:\n",
      "[631]\tcv_agg's l2: 0.139539 + 0.0252567\n"
     ]
    },
    {
     "name": "stderr",
     "output_type": "stream",
     "text": [
      "num_leaves, val_score: 0.139539:  15%|#######5                                          | 3/20 [00:14<01:18,  4.64s/it][I 2023-11-05 12:04:13,711] Trial 9 finished with value: 0.13953927682489078 and parameters: {'num_leaves': 151}. Best is trial 7 with value: 0.13953927682489078.\n",
      "num_leaves, val_score: 0.139539:  15%|#######5                                          | 3/20 [00:14<01:18,  4.64s/it]"
     ]
    },
    {
     "name": "stdout",
     "output_type": "stream",
     "text": [
      "[100]\tcv_agg's l2: 0.145545 + 0.0280298\n",
      "[200]\tcv_agg's l2: 0.141679 + 0.0269664\n",
      "[300]\tcv_agg's l2: 0.14066 + 0.0263995\n",
      "[400]\tcv_agg's l2: 0.139993 + 0.0257257\n",
      "[500]\tcv_agg's l2: 0.139732 + 0.0255354\n",
      "[600]\tcv_agg's l2: 0.139653 + 0.0253083\n",
      "[700]\tcv_agg's l2: 0.139567 + 0.0251451\n",
      "Early stopping, best iteration is:\n",
      "[631]\tcv_agg's l2: 0.139539 + 0.0252567\n"
     ]
    },
    {
     "name": "stderr",
     "output_type": "stream",
     "text": [
      "num_leaves, val_score: 0.139539:  20%|##########                                        | 4/20 [00:18<01:13,  4.56s/it][I 2023-11-05 12:04:18,155] Trial 10 finished with value: 0.13953927682489078 and parameters: {'num_leaves': 249}. Best is trial 7 with value: 0.13953927682489078.\n",
      "num_leaves, val_score: 0.139539:  20%|##########                                        | 4/20 [00:18<01:13,  4.56s/it]"
     ]
    },
    {
     "name": "stdout",
     "output_type": "stream",
     "text": [
      "[100]\tcv_agg's l2: 0.184757 + 0.0464612\n",
      "[200]\tcv_agg's l2: 0.162939 + 0.0435426\n",
      "[300]\tcv_agg's l2: 0.154768 + 0.041226\n",
      "[400]\tcv_agg's l2: 0.150426 + 0.0398007\n",
      "[500]\tcv_agg's l2: 0.14846 + 0.0397042\n",
      "[600]\tcv_agg's l2: 0.146737 + 0.0393633\n"
     ]
    },
    {
     "name": "stderr",
     "output_type": "stream",
     "text": [
      "num_leaves, val_score: 0.139539:  25%|############5                                     | 5/20 [00:20<00:53,  3.54s/it][I 2023-11-05 12:04:19,874] Trial 11 finished with value: 0.1466086895387702 and parameters: {'num_leaves': 5}. Best is trial 7 with value: 0.13953927682489078.\n",
      "num_leaves, val_score: 0.139539:  25%|############5                                     | 5/20 [00:20<00:53,  3.54s/it]"
     ]
    },
    {
     "name": "stdout",
     "output_type": "stream",
     "text": [
      "[700]\tcv_agg's l2: 0.145298 + 0.0385202\n",
      "Early stopping, best iteration is:\n",
      "[631]\tcv_agg's l2: 0.139539 + 0.0252567\n",
      "[100]\tcv_agg's l2: 0.145545 + 0.0280298\n",
      "[200]\tcv_agg's l2: 0.141679 + 0.0269664\n",
      "[300]\tcv_agg's l2: 0.14066 + 0.0263995\n",
      "[400]\tcv_agg's l2: 0.139993 + 0.0257257\n",
      "[500]\tcv_agg's l2: 0.139732 + 0.0255354\n",
      "[600]\tcv_agg's l2: 0.139653 + 0.0253083\n"
     ]
    },
    {
     "name": "stderr",
     "output_type": "stream",
     "text": [
      "\r",
      "num_leaves, val_score: 0.139539:  25%|############5                                     | 5/20 [00:24<00:53,  3.54s/it]"
     ]
    },
    {
     "name": "stdout",
     "output_type": "stream",
     "text": [
      "[700]\tcv_agg's l2: 0.139567 + 0.0251451\n",
      "Early stopping, best iteration is:\n",
      "[631]\tcv_agg's l2: 0.139539 + 0.0252567\n"
     ]
    },
    {
     "name": "stderr",
     "output_type": "stream",
     "text": [
      "num_leaves, val_score: 0.139539:  30%|###############                                   | 6/20 [00:24<00:52,  3.76s/it][I 2023-11-05 12:04:24,062] Trial 12 finished with value: 0.13953927682489078 and parameters: {'num_leaves': 103}. Best is trial 7 with value: 0.13953927682489078.\n",
      "num_leaves, val_score: 0.139539:  30%|###############                                   | 6/20 [00:24<00:52,  3.76s/it]"
     ]
    },
    {
     "name": "stdout",
     "output_type": "stream",
     "text": [
      "[100]\tcv_agg's l2: 0.145545 + 0.0280298\n",
      "[200]\tcv_agg's l2: 0.141679 + 0.0269664\n",
      "[300]\tcv_agg's l2: 0.14066 + 0.0263995\n",
      "[400]\tcv_agg's l2: 0.139993 + 0.0257257\n",
      "[500]\tcv_agg's l2: 0.139732 + 0.0255354\n",
      "[600]\tcv_agg's l2: 0.139653 + 0.0253083\n",
      "[700]\tcv_agg's l2: 0.139567 + 0.0251451\n"
     ]
    },
    {
     "name": "stderr",
     "output_type": "stream",
     "text": [
      "num_leaves, val_score: 0.139539:  35%|#################5                                | 7/20 [00:29<00:52,  4.01s/it][I 2023-11-05 12:04:28,575] Trial 13 finished with value: 0.13953927682489078 and parameters: {'num_leaves': 112}. Best is trial 7 with value: 0.13953927682489078.\n",
      "num_leaves, val_score: 0.139539:  35%|#################5                                | 7/20 [00:29<00:52,  4.01s/it]"
     ]
    },
    {
     "name": "stdout",
     "output_type": "stream",
     "text": [
      "Early stopping, best iteration is:\n",
      "[631]\tcv_agg's l2: 0.139539 + 0.0252567\n",
      "[100]\tcv_agg's l2: 0.145545 + 0.0280298\n",
      "[200]\tcv_agg's l2: 0.141679 + 0.0269664\n",
      "[300]\tcv_agg's l2: 0.14066 + 0.0263995\n",
      "[400]\tcv_agg's l2: 0.139993 + 0.0257257\n",
      "[500]\tcv_agg's l2: 0.139732 + 0.0255354\n",
      "[600]\tcv_agg's l2: 0.139653 + 0.0253083\n"
     ]
    },
    {
     "name": "stderr",
     "output_type": "stream",
     "text": [
      "num_leaves, val_score: 0.139539:  40%|####################                              | 8/20 [00:33<00:48,  4.08s/it][I 2023-11-05 12:04:32,822] Trial 14 finished with value: 0.13953927682489078 and parameters: {'num_leaves': 66}. Best is trial 7 with value: 0.13953927682489078.\n",
      "num_leaves, val_score: 0.139539:  40%|####################                              | 8/20 [00:33<00:48,  4.08s/it]"
     ]
    },
    {
     "name": "stdout",
     "output_type": "stream",
     "text": [
      "[700]\tcv_agg's l2: 0.139567 + 0.0251451\n",
      "Early stopping, best iteration is:\n",
      "[631]\tcv_agg's l2: 0.139539 + 0.0252567\n",
      "[100]\tcv_agg's l2: 0.145545 + 0.0280298\n",
      "[200]\tcv_agg's l2: 0.141679 + 0.0269664\n",
      "[300]\tcv_agg's l2: 0.14066 + 0.0263995\n",
      "[400]\tcv_agg's l2: 0.139993 + 0.0257257\n",
      "[500]\tcv_agg's l2: 0.139732 + 0.0255354\n",
      "[600]\tcv_agg's l2: 0.139653 + 0.0253083\n"
     ]
    },
    {
     "name": "stderr",
     "output_type": "stream",
     "text": [
      "\r",
      "num_leaves, val_score: 0.139539:  40%|####################                              | 8/20 [00:37<00:48,  4.08s/it]"
     ]
    },
    {
     "name": "stdout",
     "output_type": "stream",
     "text": [
      "[700]\tcv_agg's l2: 0.139567 + 0.0251451\n",
      "Early stopping, best iteration is:\n",
      "[631]\tcv_agg's l2: 0.139539 + 0.0252567\n"
     ]
    },
    {
     "name": "stderr",
     "output_type": "stream",
     "text": [
      "num_leaves, val_score: 0.139539:  45%|######################5                           | 9/20 [00:37<00:45,  4.16s/it][I 2023-11-05 12:04:37,156] Trial 15 finished with value: 0.13953927682489078 and parameters: {'num_leaves': 194}. Best is trial 7 with value: 0.13953927682489078.\n",
      "num_leaves, val_score: 0.139539:  45%|######################5                           | 9/20 [00:37<00:45,  4.16s/it]"
     ]
    },
    {
     "name": "stdout",
     "output_type": "stream",
     "text": [
      "[100]\tcv_agg's l2: 0.145545 + 0.0280298\n",
      "[200]\tcv_agg's l2: 0.141679 + 0.0269664\n",
      "[300]\tcv_agg's l2: 0.14066 + 0.0263995\n",
      "[400]\tcv_agg's l2: 0.139993 + 0.0257257\n",
      "[500]\tcv_agg's l2: 0.139732 + 0.0255354\n",
      "[600]\tcv_agg's l2: 0.139653 + 0.0253083\n"
     ]
    },
    {
     "name": "stderr",
     "output_type": "stream",
     "text": [
      "\r",
      "num_leaves, val_score: 0.139539:  45%|######################5                           | 9/20 [00:41<00:45,  4.16s/it]"
     ]
    },
    {
     "name": "stdout",
     "output_type": "stream",
     "text": [
      "[700]\tcv_agg's l2: 0.139567 + 0.0251451\n",
      "Early stopping, best iteration is:\n",
      "[631]\tcv_agg's l2: 0.139539 + 0.0252567\n"
     ]
    },
    {
     "name": "stderr",
     "output_type": "stream",
     "text": [
      "num_leaves, val_score: 0.139539:  50%|########################5                        | 10/20 [00:41<00:41,  4.16s/it][I 2023-11-05 12:04:41,309] Trial 16 finished with value: 0.13953927682489078 and parameters: {'num_leaves': 67}. Best is trial 7 with value: 0.13953927682489078.\n",
      "num_leaves, val_score: 0.139539:  50%|########################5                        | 10/20 [00:41<00:41,  4.16s/it]"
     ]
    },
    {
     "name": "stdout",
     "output_type": "stream",
     "text": [
      "[100]\tcv_agg's l2: 0.145545 + 0.0280298\n",
      "[200]\tcv_agg's l2: 0.141679 + 0.0269664\n",
      "[300]\tcv_agg's l2: 0.14066 + 0.0263995\n",
      "[400]\tcv_agg's l2: 0.139993 + 0.0257257\n",
      "[500]\tcv_agg's l2: 0.139732 + 0.0255354\n",
      "[600]\tcv_agg's l2: 0.139653 + 0.0253083\n",
      "[700]\tcv_agg's l2: 0.139567 + 0.0251451\n"
     ]
    },
    {
     "name": "stderr",
     "output_type": "stream",
     "text": [
      "num_leaves, val_score: 0.139539:  55%|##########################9                      | 11/20 [00:46<00:38,  4.29s/it][I 2023-11-05 12:04:45,901] Trial 17 finished with value: 0.13953927682489078 and parameters: {'num_leaves': 155}. Best is trial 7 with value: 0.13953927682489078.\n",
      "num_leaves, val_score: 0.139539:  55%|##########################9                      | 11/20 [00:46<00:38,  4.29s/it]"
     ]
    },
    {
     "name": "stdout",
     "output_type": "stream",
     "text": [
      "Early stopping, best iteration is:\n",
      "[631]\tcv_agg's l2: 0.139539 + 0.0252567\n",
      "[100]\tcv_agg's l2: 0.145545 + 0.0280298\n",
      "[200]\tcv_agg's l2: 0.141679 + 0.0269664\n",
      "[300]\tcv_agg's l2: 0.14066 + 0.0263995\n",
      "[400]\tcv_agg's l2: 0.139993 + 0.0257257\n",
      "[500]\tcv_agg's l2: 0.139732 + 0.0255354\n",
      "[600]\tcv_agg's l2: 0.139653 + 0.0253083\n"
     ]
    },
    {
     "name": "stderr",
     "output_type": "stream",
     "text": [
      "\r",
      "num_leaves, val_score: 0.139539:  55%|##########################9                      | 11/20 [00:50<00:38,  4.29s/it]"
     ]
    },
    {
     "name": "stdout",
     "output_type": "stream",
     "text": [
      "[700]\tcv_agg's l2: 0.139567 + 0.0251451\n",
      "Early stopping, best iteration is:\n",
      "[631]\tcv_agg's l2: 0.139539 + 0.0252567\n"
     ]
    },
    {
     "name": "stderr",
     "output_type": "stream",
     "text": [
      "num_leaves, val_score: 0.139539:  60%|#############################4                   | 12/20 [00:50<00:34,  4.33s/it][I 2023-11-05 12:04:50,311] Trial 18 finished with value: 0.13953927682489078 and parameters: {'num_leaves': 205}. Best is trial 7 with value: 0.13953927682489078.\n",
      "num_leaves, val_score: 0.139539:  60%|#############################4                   | 12/20 [00:50<00:34,  4.33s/it]"
     ]
    },
    {
     "name": "stdout",
     "output_type": "stream",
     "text": [
      "[100]\tcv_agg's l2: 0.143573 + 0.0306494\n",
      "[200]\tcv_agg's l2: 0.140232 + 0.0285405\n",
      "[300]\tcv_agg's l2: 0.139153 + 0.0290154\n",
      "[400]\tcv_agg's l2: 0.139085 + 0.0285888\n"
     ]
    },
    {
     "name": "stderr",
     "output_type": "stream",
     "text": [
      "num_leaves, val_score: 0.138933:  65%|###############################8                 | 13/20 [00:52<00:25,  3.68s/it][I 2023-11-05 12:04:52,512] Trial 19 finished with value: 0.13893264177765752 and parameters: {'num_leaves': 21}. Best is trial 19 with value: 0.13893264177765752.\n",
      "num_leaves, val_score: 0.138933:  65%|###############################8                 | 13/20 [00:52<00:25,  3.68s/it]"
     ]
    },
    {
     "name": "stdout",
     "output_type": "stream",
     "text": [
      "Early stopping, best iteration is:\n",
      "[358]\tcv_agg's l2: 0.138933 + 0.0286609\n",
      "[100]\tcv_agg's l2: 0.166648 + 0.0447427\n",
      "[200]\tcv_agg's l2: 0.152808 + 0.0411914\n",
      "[300]\tcv_agg's l2: 0.147381 + 0.039625\n"
     ]
    },
    {
     "name": "stderr",
     "output_type": "stream",
     "text": [
      "num_leaves, val_score: 0.138933:  70%|##################################3              | 14/20 [00:54<00:17,  2.94s/it][I 2023-11-05 12:04:53,728] Trial 20 finished with value: 0.14513472152023893 and parameters: {'num_leaves': 6}. Best is trial 19 with value: 0.13893264177765752.\n",
      "num_leaves, val_score: 0.138933:  70%|##################################3              | 14/20 [00:54<00:17,  2.94s/it]"
     ]
    },
    {
     "name": "stdout",
     "output_type": "stream",
     "text": [
      "[400]\tcv_agg's l2: 0.144059 + 0.0386597\n",
      "Early stopping, best iteration is:\n",
      "[358]\tcv_agg's l2: 0.138933 + 0.0286609\n",
      "[100]\tcv_agg's l2: 0.145545 + 0.0280298\n",
      "[200]\tcv_agg's l2: 0.141679 + 0.0269664\n",
      "[300]\tcv_agg's l2: 0.14066 + 0.0263995\n",
      "[400]\tcv_agg's l2: 0.139993 + 0.0257257\n"
     ]
    },
    {
     "name": "stderr",
     "output_type": "stream",
     "text": [
      "num_leaves, val_score: 0.138933:  75%|####################################7            | 15/20 [00:56<00:14,  2.88s/it][I 2023-11-05 12:04:56,480] Trial 21 finished with value: 0.1404910991264317 and parameters: {'num_leaves': 57}. Best is trial 19 with value: 0.13893264177765752.\n",
      "num_leaves, val_score: 0.138933:  75%|####################################7            | 15/20 [00:56<00:14,  2.88s/it]"
     ]
    },
    {
     "name": "stdout",
     "output_type": "stream",
     "text": [
      "Early stopping, best iteration is:\n",
      "[358]\tcv_agg's l2: 0.138933 + 0.0286609\n",
      "[100]\tcv_agg's l2: 0.145545 + 0.0280298\n",
      "[200]\tcv_agg's l2: 0.141679 + 0.0269664\n",
      "[300]\tcv_agg's l2: 0.14066 + 0.0263995\n",
      "[400]\tcv_agg's l2: 0.139993 + 0.0257257\n"
     ]
    },
    {
     "name": "stderr",
     "output_type": "stream",
     "text": [
      "num_leaves, val_score: 0.138933:  80%|#######################################2         | 16/20 [00:59<00:11,  2.80s/it][I 2023-11-05 12:04:59,082] Trial 22 finished with value: 0.1404910991264317 and parameters: {'num_leaves': 36}. Best is trial 19 with value: 0.13893264177765752.\n",
      "num_leaves, val_score: 0.138933:  80%|#######################################2         | 16/20 [00:59<00:11,  2.80s/it]"
     ]
    },
    {
     "name": "stdout",
     "output_type": "stream",
     "text": [
      "Early stopping, best iteration is:\n",
      "[358]\tcv_agg's l2: 0.138933 + 0.0286609\n",
      "[100]\tcv_agg's l2: 0.145545 + 0.0280298\n",
      "[200]\tcv_agg's l2: 0.141679 + 0.0269664\n",
      "[300]\tcv_agg's l2: 0.14066 + 0.0263995\n",
      "[400]\tcv_agg's l2: 0.139993 + 0.0257257\n"
     ]
    },
    {
     "name": "stderr",
     "output_type": "stream",
     "text": [
      "num_leaves, val_score: 0.138933:  85%|#########################################6       | 17/20 [01:02<00:08,  2.75s/it][I 2023-11-05 12:05:01,712] Trial 23 finished with value: 0.1404910991264317 and parameters: {'num_leaves': 89}. Best is trial 19 with value: 0.13893264177765752.\n",
      "num_leaves, val_score: 0.138933:  85%|#########################################6       | 17/20 [01:02<00:08,  2.75s/it]"
     ]
    },
    {
     "name": "stdout",
     "output_type": "stream",
     "text": [
      "Early stopping, best iteration is:\n",
      "[358]\tcv_agg's l2: 0.138933 + 0.0286609\n",
      "[100]\tcv_agg's l2: 0.143954 + 0.0285119\n",
      "[200]\tcv_agg's l2: 0.138923 + 0.0268256\n",
      "[300]\tcv_agg's l2: 0.137921 + 0.0260377\n",
      "[400]\tcv_agg's l2: 0.137386 + 0.0257616\n",
      "[500]\tcv_agg's l2: 0.137181 + 0.0253137\n"
     ]
    },
    {
     "name": "stderr",
     "output_type": "stream",
     "text": [
      "num_leaves, val_score: 0.137172:  90%|############################################1    | 18/20 [01:05<00:05,  2.86s/it][I 2023-11-05 12:05:04,825] Trial 24 finished with value: 0.13717221320051037 and parameters: {'num_leaves': 29}. Best is trial 24 with value: 0.13717221320051037.\n",
      "num_leaves, val_score: 0.137172:  90%|############################################1    | 18/20 [01:05<00:05,  2.86s/it]"
     ]
    },
    {
     "name": "stdout",
     "output_type": "stream",
     "text": [
      "Early stopping, best iteration is:\n",
      "[449]\tcv_agg's l2: 0.137172 + 0.025635\n",
      "[100]\tcv_agg's l2: 0.145725 + 0.0331423\n",
      "[200]\tcv_agg's l2: 0.142077 + 0.0317374\n",
      "[300]\tcv_agg's l2: 0.141462 + 0.0311311\n",
      "[400]\tcv_agg's l2: 0.141059 + 0.0305324\n",
      "[500]\tcv_agg's l2: 0.140998 + 0.030099\n"
     ]
    },
    {
     "name": "stderr",
     "output_type": "stream",
     "text": [
      "num_leaves, val_score: 0.137172:  95%|##############################################5  | 19/20 [01:08<00:02,  2.90s/it][I 2023-11-05 12:05:07,815] Trial 25 finished with value: 0.141051614462356 and parameters: {'num_leaves': 26}. Best is trial 24 with value: 0.13717221320051037.\n",
      "num_leaves, val_score: 0.137172:  95%|##############################################5  | 19/20 [01:08<00:02,  2.90s/it]"
     ]
    },
    {
     "name": "stdout",
     "output_type": "stream",
     "text": [
      "Early stopping, best iteration is:\n",
      "[449]\tcv_agg's l2: 0.137172 + 0.025635\n",
      "[100]\tcv_agg's l2: 0.145545 + 0.0280298\n",
      "[200]\tcv_agg's l2: 0.141679 + 0.0269664\n",
      "[300]\tcv_agg's l2: 0.14066 + 0.0263995\n",
      "[400]\tcv_agg's l2: 0.139993 + 0.0257257\n",
      "[500]\tcv_agg's l2: 0.139732 + 0.0255354\n"
     ]
    },
    {
     "name": "stderr",
     "output_type": "stream",
     "text": [
      "num_leaves, val_score: 0.137172: 100%|#################################################| 20/20 [01:11<00:00,  2.99s/it][I 2023-11-05 12:05:11,014] Trial 26 finished with value: 0.13987231193898536 and parameters: {'num_leaves': 144}. Best is trial 24 with value: 0.13717221320051037.\n",
      "num_leaves, val_score: 0.137172: 100%|#################################################| 20/20 [01:11<00:00,  3.57s/it]\n"
     ]
    },
    {
     "name": "stdout",
     "output_type": "stream",
     "text": [
      "Early stopping, best iteration is:\n",
      "[449]\tcv_agg's l2: 0.137172 + 0.025635\n"
     ]
    },
    {
     "name": "stderr",
     "output_type": "stream",
     "text": [
      "bagging, val_score: 0.137172:   0%|                                                             | 0/10 [00:00<?, ?it/s]"
     ]
    },
    {
     "name": "stdout",
     "output_type": "stream",
     "text": [
      "[100]\tcv_agg's l2: 0.14849 + 0.0209139\n",
      "[200]\tcv_agg's l2: 0.141831 + 0.0199688\n",
      "[300]\tcv_agg's l2: 0.140311 + 0.0197248\n",
      "[400]\tcv_agg's l2: 0.140142 + 0.0191507\n",
      "[500]\tcv_agg's l2: 0.139741 + 0.0190385\n"
     ]
    },
    {
     "name": "stderr",
     "output_type": "stream",
     "text": [
      "bagging, val_score: 0.137172:  10%|#####3                                               | 1/10 [00:02<00:26,  2.99s/it][I 2023-11-05 12:05:14,009] Trial 27 finished with value: 0.13987716964092023 and parameters: {'bagging_fraction': 0.853607373656456, 'bagging_freq': 6}. Best is trial 27 with value: 0.13987716964092023.\n",
      "bagging, val_score: 0.137172:  10%|#####3                                               | 1/10 [00:02<00:26,  2.99s/it]"
     ]
    },
    {
     "name": "stdout",
     "output_type": "stream",
     "text": [
      "Early stopping, best iteration is:\n",
      "[449]\tcv_agg's l2: 0.137172 + 0.025635\n",
      "[100]\tcv_agg's l2: 0.203151 + 0.0306933\n",
      "[200]\tcv_agg's l2: 0.187774 + 0.0264743\n",
      "[300]\tcv_agg's l2: 0.184439 + 0.0256564\n",
      "[400]\tcv_agg's l2: 0.182265 + 0.0247035\n"
     ]
    },
    {
     "name": "stderr",
     "output_type": "stream",
     "text": [
      "\r",
      "bagging, val_score: 0.137172:  10%|#####3                                               | 1/10 [00:04<00:26,  2.99s/it]"
     ]
    },
    {
     "name": "stdout",
     "output_type": "stream",
     "text": [
      "[500]\tcv_agg's l2: 0.180038 + 0.0241768\n",
      "Early stopping, best iteration is:\n",
      "[449]\tcv_agg's l2: 0.137172 + 0.025635\n"
     ]
    },
    {
     "name": "stderr",
     "output_type": "stream",
     "text": [
      "bagging, val_score: 0.137172:  20%|##########6                                          | 2/10 [00:04<00:18,  2.36s/it][I 2023-11-05 12:05:15,924] Trial 28 finished with value: 0.18211408828936565 and parameters: {'bagging_fraction': 0.40777653962235605, 'bagging_freq': 1}. Best is trial 27 with value: 0.13987716964092023.\n",
      "bagging, val_score: 0.137172:  20%|##########6                                          | 2/10 [00:04<00:18,  2.36s/it]"
     ]
    },
    {
     "name": "stdout",
     "output_type": "stream",
     "text": [
      "[100]\tcv_agg's l2: 0.145685 + 0.0294734\n",
      "[200]\tcv_agg's l2: 0.142409 + 0.0289446\n",
      "[300]\tcv_agg's l2: 0.141174 + 0.0279729\n",
      "[400]\tcv_agg's l2: 0.140935 + 0.0276948\n",
      "[500]\tcv_agg's l2: 0.140783 + 0.0274326\n"
     ]
    },
    {
     "name": "stderr",
     "output_type": "stream",
     "text": [
      "bagging, val_score: 0.137172:  30%|###############9                                     | 3/10 [00:08<00:19,  2.84s/it][I 2023-11-05 12:05:19,348] Trial 29 finished with value: 0.1408585261294108 and parameters: {'bagging_fraction': 0.9877134441872956, 'bagging_freq': 2}. Best is trial 27 with value: 0.13987716964092023.\n",
      "bagging, val_score: 0.137172:  30%|###############9                                     | 3/10 [00:08<00:19,  2.84s/it]"
     ]
    },
    {
     "name": "stdout",
     "output_type": "stream",
     "text": [
      "Early stopping, best iteration is:\n",
      "[449]\tcv_agg's l2: 0.137172 + 0.025635\n",
      "[100]\tcv_agg's l2: 0.161165 + 0.0199169\n",
      "[200]\tcv_agg's l2: 0.149274 + 0.0159591\n",
      "[300]\tcv_agg's l2: 0.145583 + 0.0140155\n",
      "[400]\tcv_agg's l2: 0.144529 + 0.0136867\n"
     ]
    },
    {
     "name": "stderr",
     "output_type": "stream",
     "text": [
      "\r",
      "bagging, val_score: 0.137172:  30%|###############9                                     | 3/10 [00:10<00:19,  2.84s/it]"
     ]
    },
    {
     "name": "stdout",
     "output_type": "stream",
     "text": [
      "[500]\tcv_agg's l2: 0.14459 + 0.0129078\n",
      "Early stopping, best iteration is:\n",
      "[449]\tcv_agg's l2: 0.137172 + 0.025635\n"
     ]
    },
    {
     "name": "stderr",
     "output_type": "stream",
     "text": [
      "bagging, val_score: 0.137172:  40%|#####################2                               | 4/10 [00:10<00:15,  2.62s/it][I 2023-11-05 12:05:21,619] Trial 30 finished with value: 0.14491495947779773 and parameters: {'bagging_fraction': 0.6118013368476433, 'bagging_freq': 7}. Best is trial 27 with value: 0.13987716964092023.\n",
      "bagging, val_score: 0.137172:  40%|#####################2                               | 4/10 [00:10<00:15,  2.62s/it]"
     ]
    },
    {
     "name": "stdout",
     "output_type": "stream",
     "text": [
      "[100]\tcv_agg's l2: 0.157749 + 0.0295986\n",
      "[200]\tcv_agg's l2: 0.151793 + 0.0280489\n",
      "[300]\tcv_agg's l2: 0.150138 + 0.0308951\n",
      "[400]\tcv_agg's l2: 0.149411 + 0.0305408\n",
      "[500]\tcv_agg's l2: 0.148314 + 0.0302089\n"
     ]
    },
    {
     "name": "stderr",
     "output_type": "stream",
     "text": [
      "bagging, val_score: 0.137172:  50%|##########################5                          | 5/10 [00:13<00:12,  2.58s/it][I 2023-11-05 12:05:24,128] Trial 31 finished with value: 0.14852121178414773 and parameters: {'bagging_fraction': 0.6884969428493412, 'bagging_freq': 4}. Best is trial 27 with value: 0.13987716964092023.\n",
      "bagging, val_score: 0.137172:  50%|##########################5                          | 5/10 [00:13<00:12,  2.58s/it]"
     ]
    },
    {
     "name": "stdout",
     "output_type": "stream",
     "text": [
      "Early stopping, best iteration is:\n",
      "[449]\tcv_agg's l2: 0.137172 + 0.025635\n",
      "[100]\tcv_agg's l2: 0.205359 + 0.0241166\n",
      "[200]\tcv_agg's l2: 0.196424 + 0.0168688\n",
      "[300]\tcv_agg's l2: 0.19046 + 0.0156676\n",
      "[400]\tcv_agg's l2: 0.188326 + 0.0163947\n"
     ]
    },
    {
     "name": "stderr",
     "output_type": "stream",
     "text": [
      "bagging, val_score: 0.137172:  60%|###############################8                     | 6/10 [00:14<00:09,  2.30s/it][I 2023-11-05 12:05:25,893] Trial 32 finished with value: 0.18738899853011015 and parameters: {'bagging_fraction': 0.40809359617306723, 'bagging_freq': 4}. Best is trial 27 with value: 0.13987716964092023.\n",
      "bagging, val_score: 0.137172:  60%|###############################8                     | 6/10 [00:14<00:09,  2.30s/it]"
     ]
    },
    {
     "name": "stdout",
     "output_type": "stream",
     "text": [
      "[500]\tcv_agg's l2: 0.187616 + 0.0170109\n",
      "Early stopping, best iteration is:\n",
      "[449]\tcv_agg's l2: 0.137172 + 0.025635\n",
      "[100]\tcv_agg's l2: 0.141561 + 0.0310307\n",
      "[200]\tcv_agg's l2: 0.137279 + 0.0303619\n",
      "[300]\tcv_agg's l2: 0.13669 + 0.0301177\n",
      "[400]\tcv_agg's l2: 0.136127 + 0.0296996\n",
      "[500]\tcv_agg's l2: 0.13605 + 0.0291645\n",
      "[600]\tcv_agg's l2: 0.135752 + 0.028834\n"
     ]
    },
    {
     "name": "stderr",
     "output_type": "stream",
     "text": [
      "bagging, val_score: 0.135728:  70%|#####################################                | 7/10 [00:19<00:08,  2.97s/it][I 2023-11-05 12:05:30,234] Trial 33 finished with value: 0.135727574675944 and parameters: {'bagging_fraction': 0.9951495103940697, 'bagging_freq': 3}. Best is trial 33 with value: 0.135727574675944.\n",
      "bagging, val_score: 0.135728:  70%|#####################################                | 7/10 [00:19<00:08,  2.97s/it]"
     ]
    },
    {
     "name": "stdout",
     "output_type": "stream",
     "text": [
      "[700]\tcv_agg's l2: 0.135782 + 0.0286968\n",
      "Early stopping, best iteration is:\n",
      "[607]\tcv_agg's l2: 0.135728 + 0.0288531\n",
      "[100]\tcv_agg's l2: 0.150623 + 0.0306436\n",
      "[200]\tcv_agg's l2: 0.145356 + 0.0287625\n",
      "[300]\tcv_agg's l2: 0.144356 + 0.0284532\n",
      "[400]\tcv_agg's l2: 0.143706 + 0.0278596\n",
      "[500]\tcv_agg's l2: 0.143509 + 0.0276205\n",
      "[600]\tcv_agg's l2: 0.143367 + 0.0273568\n"
     ]
    },
    {
     "name": "stderr",
     "output_type": "stream",
     "text": [
      "bagging, val_score: 0.135728:  80%|##########################################4          | 8/10 [00:23<00:06,  3.39s/it][I 2023-11-05 12:05:34,537] Trial 34 finished with value: 0.1433661403482437 and parameters: {'bagging_fraction': 0.9735054298130092, 'bagging_freq': 3}. Best is trial 33 with value: 0.135727574675944.\n",
      "bagging, val_score: 0.135728:  80%|##########################################4          | 8/10 [00:23<00:06,  3.39s/it]"
     ]
    },
    {
     "name": "stdout",
     "output_type": "stream",
     "text": [
      "[700]\tcv_agg's l2: 0.143234 + 0.0272192\n",
      "Early stopping, best iteration is:\n",
      "[607]\tcv_agg's l2: 0.135728 + 0.0288531\n",
      "[100]\tcv_agg's l2: 0.149028 + 0.0238884\n",
      "[200]\tcv_agg's l2: 0.143797 + 0.022653\n",
      "[300]\tcv_agg's l2: 0.141284 + 0.0233115\n",
      "[400]\tcv_agg's l2: 0.140683 + 0.0234624\n",
      "[500]\tcv_agg's l2: 0.140471 + 0.0232384\n",
      "[600]\tcv_agg's l2: 0.140145 + 0.0230339\n"
     ]
    },
    {
     "name": "stderr",
     "output_type": "stream",
     "text": [
      "bagging, val_score: 0.135728:  90%|###############################################7     | 9/10 [00:27<00:03,  3.58s/it][I 2023-11-05 12:05:38,522] Trial 35 finished with value: 0.1402285292648706 and parameters: {'bagging_fraction': 0.8336271175349261, 'bagging_freq': 5}. Best is trial 33 with value: 0.135727574675944.\n",
      "bagging, val_score: 0.135728:  90%|###############################################7     | 9/10 [00:27<00:03,  3.58s/it]"
     ]
    },
    {
     "name": "stdout",
     "output_type": "stream",
     "text": [
      "[700]\tcv_agg's l2: 0.140232 + 0.0234373\n",
      "Early stopping, best iteration is:\n",
      "[607]\tcv_agg's l2: 0.135728 + 0.0288531\n",
      "[100]\tcv_agg's l2: 0.145621 + 0.0238694\n",
      "[200]\tcv_agg's l2: 0.140477 + 0.0235815\n",
      "[300]\tcv_agg's l2: 0.139446 + 0.0239062\n",
      "[400]\tcv_agg's l2: 0.138264 + 0.0238015\n",
      "[500]\tcv_agg's l2: 0.137998 + 0.0237542\n",
      "[600]\tcv_agg's l2: 0.137697 + 0.0237172\n"
     ]
    },
    {
     "name": "stderr",
     "output_type": "stream",
     "text": [
      "bagging, val_score: 0.135728: 100%|####################################################| 10/10 [00:31<00:00,  3.76s/it][I 2023-11-05 12:05:42,701] Trial 36 finished with value: 0.1377297482924759 and parameters: {'bagging_fraction': 0.8581432452982244, 'bagging_freq': 1}. Best is trial 33 with value: 0.135727574675944.\n",
      "bagging, val_score: 0.135728: 100%|####################################################| 10/10 [00:31<00:00,  3.17s/it]\n"
     ]
    },
    {
     "name": "stdout",
     "output_type": "stream",
     "text": [
      "[700]\tcv_agg's l2: 0.137636 + 0.0234126\n",
      "Early stopping, best iteration is:\n",
      "[607]\tcv_agg's l2: 0.135728 + 0.0288531\n"
     ]
    },
    {
     "name": "stderr",
     "output_type": "stream",
     "text": [
      "feature_fraction_stage2, val_score: 0.135728:   0%|                                              | 0/3 [00:00<?, ?it/s]"
     ]
    },
    {
     "name": "stdout",
     "output_type": "stream",
     "text": [
      "[100]\tcv_agg's l2: 0.145579 + 0.0325753\n",
      "[200]\tcv_agg's l2: 0.141679 + 0.0316059\n",
      "[300]\tcv_agg's l2: 0.140311 + 0.0315473\n",
      "[400]\tcv_agg's l2: 0.13947 + 0.0312202\n",
      "[500]\tcv_agg's l2: 0.13905 + 0.0307889\n",
      "[600]\tcv_agg's l2: 0.138757 + 0.0305256\n"
     ]
    },
    {
     "name": "stderr",
     "output_type": "stream",
     "text": [
      "feature_fraction_stage2, val_score: 0.135728:  33%|############6                         | 1/3 [00:04<00:08,  4.45s/it][I 2023-11-05 12:05:47,160] Trial 37 finished with value: 0.13872415227948293 and parameters: {'feature_fraction': 0.41600000000000004}. Best is trial 37 with value: 0.13872415227948293.\n",
      "feature_fraction_stage2, val_score: 0.135728:  33%|############6                         | 1/3 [00:04<00:08,  4.45s/it]"
     ]
    },
    {
     "name": "stdout",
     "output_type": "stream",
     "text": [
      "[700]\tcv_agg's l2: 0.138676 + 0.0304581\n",
      "Early stopping, best iteration is:\n",
      "[607]\tcv_agg's l2: 0.135728 + 0.0288531\n",
      "[100]\tcv_agg's l2: 0.147518 + 0.0284512\n",
      "[200]\tcv_agg's l2: 0.143366 + 0.0283154\n",
      "[300]\tcv_agg's l2: 0.142321 + 0.0286203\n",
      "[400]\tcv_agg's l2: 0.142041 + 0.0287185\n",
      "[500]\tcv_agg's l2: 0.141918 + 0.0289948\n",
      "[600]\tcv_agg's l2: 0.141721 + 0.0289204\n"
     ]
    },
    {
     "name": "stderr",
     "output_type": "stream",
     "text": [
      "feature_fraction_stage2, val_score: 0.135728:  67%|#########################3            | 2/3 [00:09<00:04,  4.53s/it][I 2023-11-05 12:05:51,736] Trial 38 finished with value: 0.141722107427888 and parameters: {'feature_fraction': 0.44800000000000006}. Best is trial 37 with value: 0.13872415227948293.\n",
      "feature_fraction_stage2, val_score: 0.135728:  67%|#########################3            | 2/3 [00:09<00:04,  4.53s/it]"
     ]
    },
    {
     "name": "stdout",
     "output_type": "stream",
     "text": [
      "[700]\tcv_agg's l2: 0.141667 + 0.0289434\n",
      "Early stopping, best iteration is:\n",
      "[607]\tcv_agg's l2: 0.135728 + 0.0288531\n",
      "[100]\tcv_agg's l2: 0.142647 + 0.0369684\n",
      "[200]\tcv_agg's l2: 0.139209 + 0.035822\n",
      "[300]\tcv_agg's l2: 0.138562 + 0.0356536\n",
      "[400]\tcv_agg's l2: 0.138193 + 0.0354715\n",
      "[500]\tcv_agg's l2: 0.137891 + 0.0352342\n",
      "[600]\tcv_agg's l2: 0.137672 + 0.0352199\n"
     ]
    },
    {
     "name": "stderr",
     "output_type": "stream",
     "text": [
      "feature_fraction_stage2, val_score: 0.135728: 100%|######################################| 3/3 [00:13<00:00,  4.63s/it][I 2023-11-05 12:05:56,482] Trial 39 finished with value: 0.13769347605360388 and parameters: {'feature_fraction': 0.48000000000000004}. Best is trial 39 with value: 0.13769347605360388.\n",
      "feature_fraction_stage2, val_score: 0.135728: 100%|######################################| 3/3 [00:13<00:00,  4.59s/it]\n"
     ]
    },
    {
     "name": "stdout",
     "output_type": "stream",
     "text": [
      "[700]\tcv_agg's l2: 0.137584 + 0.0351084\n",
      "Early stopping, best iteration is:\n",
      "[607]\tcv_agg's l2: 0.135728 + 0.0288531\n"
     ]
    },
    {
     "name": "stderr",
     "output_type": "stream",
     "text": [
      "regularization_factors, val_score: 0.135728:   0%|                                              | 0/20 [00:00<?, ?it/s]"
     ]
    },
    {
     "name": "stdout",
     "output_type": "stream",
     "text": [
      "[100]\tcv_agg's l2: 0.145177 + 0.0324078\n",
      "[200]\tcv_agg's l2: 0.140996 + 0.0311248\n",
      "[300]\tcv_agg's l2: 0.139739 + 0.0305992\n",
      "[400]\tcv_agg's l2: 0.139217 + 0.0297129\n",
      "[500]\tcv_agg's l2: 0.139046 + 0.0293259\n",
      "[600]\tcv_agg's l2: 0.138921 + 0.0289812\n"
     ]
    },
    {
     "name": "stderr",
     "output_type": "stream",
     "text": [
      "regularization_factors, val_score: 0.135728:   5%|#9                                    | 1/20 [00:04<01:26,  4.58s/it][I 2023-11-05 12:06:01,066] Trial 40 finished with value: 0.13890686731530072 and parameters: {'lambda_l1': 0.019844465764097145, 'lambda_l2': 0.12089832169019388}. Best is trial 40 with value: 0.13890686731530072.\n",
      "regularization_factors, val_score: 0.135728:   5%|#9                                    | 1/20 [00:04<01:26,  4.58s/it]"
     ]
    },
    {
     "name": "stdout",
     "output_type": "stream",
     "text": [
      "[700]\tcv_agg's l2: 0.138814 + 0.0286799\n",
      "Early stopping, best iteration is:\n",
      "[607]\tcv_agg's l2: 0.135728 + 0.0288531\n",
      "[100]\tcv_agg's l2: 0.141561 + 0.0310307\n",
      "[200]\tcv_agg's l2: 0.137367 + 0.0302728\n",
      "[300]\tcv_agg's l2: 0.136611 + 0.0301972\n",
      "[400]\tcv_agg's l2: 0.135958 + 0.0298747\n",
      "[500]\tcv_agg's l2: 0.135887 + 0.0293361\n",
      "[600]\tcv_agg's l2: 0.135576 + 0.0290177\n"
     ]
    },
    {
     "name": "stderr",
     "output_type": "stream",
     "text": [
      "regularization_factors, val_score: 0.135547:  10%|###8                                  | 2/20 [00:09<01:24,  4.68s/it][I 2023-11-05 12:06:05,821] Trial 41 finished with value: 0.13554746998170883 and parameters: {'lambda_l1': 1.400349207839005e-07, 'lambda_l2': 2.6958303634109765e-08}. Best is trial 41 with value: 0.13554746998170883.\n",
      "regularization_factors, val_score: 0.135547:  10%|###8                                  | 2/20 [00:09<01:24,  4.68s/it]"
     ]
    },
    {
     "name": "stdout",
     "output_type": "stream",
     "text": [
      "[700]\tcv_agg's l2: 0.135627 + 0.0288577\n",
      "Early stopping, best iteration is:\n",
      "[607]\tcv_agg's l2: 0.135547 + 0.0290374\n",
      "[100]\tcv_agg's l2: 0.141561 + 0.0310307\n",
      "[200]\tcv_agg's l2: 0.137279 + 0.0303619\n",
      "[300]\tcv_agg's l2: 0.13669 + 0.0301177\n",
      "[400]\tcv_agg's l2: 0.136127 + 0.0296996\n",
      "[500]\tcv_agg's l2: 0.13605 + 0.0291645\n",
      "[600]\tcv_agg's l2: 0.135752 + 0.028834\n"
     ]
    },
    {
     "name": "stderr",
     "output_type": "stream",
     "text": [
      "regularization_factors, val_score: 0.135547:  15%|#####7                                | 3/20 [00:14<01:20,  4.71s/it][I 2023-11-05 12:06:10,569] Trial 42 finished with value: 0.13572757179361275 and parameters: {'lambda_l1': 1.2756730660503835e-08, 'lambda_l2': 1.0789663160671522e-08}. Best is trial 41 with value: 0.13554746998170883.\n",
      "regularization_factors, val_score: 0.135547:  15%|#####7                                | 3/20 [00:14<01:20,  4.71s/it]"
     ]
    },
    {
     "name": "stdout",
     "output_type": "stream",
     "text": [
      "[700]\tcv_agg's l2: 0.135782 + 0.0286967\n",
      "Early stopping, best iteration is:\n",
      "[607]\tcv_agg's l2: 0.135547 + 0.0290374\n",
      "[100]\tcv_agg's l2: 0.141561 + 0.0310307\n",
      "[200]\tcv_agg's l2: 0.137279 + 0.0303619\n",
      "[300]\tcv_agg's l2: 0.13669 + 0.0301177\n",
      "[400]\tcv_agg's l2: 0.136127 + 0.0296996\n",
      "[500]\tcv_agg's l2: 0.13605 + 0.0291645\n",
      "[600]\tcv_agg's l2: 0.135752 + 0.028834\n"
     ]
    },
    {
     "name": "stderr",
     "output_type": "stream",
     "text": [
      "regularization_factors, val_score: 0.135547:  20%|#######6                              | 4/20 [00:19<01:17,  4.83s/it][I 2023-11-05 12:06:15,579] Trial 43 finished with value: 0.13572757184125692 and parameters: {'lambda_l1': 1.1020101794547333e-08, 'lambda_l2': 1.5808277249583926e-08}. Best is trial 41 with value: 0.13554746998170883.\n",
      "regularization_factors, val_score: 0.135547:  20%|#######6                              | 4/20 [00:19<01:17,  4.83s/it]"
     ]
    },
    {
     "name": "stdout",
     "output_type": "stream",
     "text": [
      "[700]\tcv_agg's l2: 0.135782 + 0.0286967\n",
      "Early stopping, best iteration is:\n",
      "[607]\tcv_agg's l2: 0.135547 + 0.0290374\n",
      "[100]\tcv_agg's l2: 0.141561 + 0.0310307\n",
      "[200]\tcv_agg's l2: 0.137279 + 0.0303619\n",
      "[300]\tcv_agg's l2: 0.13669 + 0.0301177\n",
      "[400]\tcv_agg's l2: 0.136127 + 0.0296996\n",
      "[500]\tcv_agg's l2: 0.13605 + 0.0291645\n",
      "[600]\tcv_agg's l2: 0.135752 + 0.028834\n"
     ]
    },
    {
     "name": "stderr",
     "output_type": "stream",
     "text": [
      "regularization_factors, val_score: 0.135547:  25%|#########5                            | 5/20 [00:23<01:12,  4.82s/it][I 2023-11-05 12:06:20,370] Trial 44 finished with value: 0.13572757180277983 and parameters: {'lambda_l1': 1.3704736606314622e-08, 'lambda_l2': 1.2330903777672182e-08}. Best is trial 41 with value: 0.13554746998170883.\n",
      "regularization_factors, val_score: 0.135547:  25%|#########5                            | 5/20 [00:23<01:12,  4.82s/it]"
     ]
    },
    {
     "name": "stdout",
     "output_type": "stream",
     "text": [
      "[700]\tcv_agg's l2: 0.135782 + 0.0286967\n",
      "Early stopping, best iteration is:\n",
      "[607]\tcv_agg's l2: 0.135547 + 0.0290374\n",
      "[100]\tcv_agg's l2: 0.141561 + 0.0310307\n",
      "[200]\tcv_agg's l2: 0.137279 + 0.0303619\n",
      "[300]\tcv_agg's l2: 0.13669 + 0.0301177\n",
      "[400]\tcv_agg's l2: 0.136127 + 0.0296996\n",
      "[500]\tcv_agg's l2: 0.13605 + 0.0291645\n",
      "[600]\tcv_agg's l2: 0.135752 + 0.028834\n"
     ]
    },
    {
     "name": "stderr",
     "output_type": "stream",
     "text": [
      "regularization_factors, val_score: 0.135547:  30%|###########4                          | 6/20 [00:28<01:06,  4.78s/it][I 2023-11-05 12:06:25,072] Trial 45 finished with value: 0.13572757179541406 and parameters: {'lambda_l1': 1.3522808696920675e-08, 'lambda_l2': 1.0735930006213538e-08}. Best is trial 41 with value: 0.13554746998170883.\n",
      "regularization_factors, val_score: 0.135547:  30%|###########4                          | 6/20 [00:28<01:06,  4.78s/it]"
     ]
    },
    {
     "name": "stdout",
     "output_type": "stream",
     "text": [
      "[700]\tcv_agg's l2: 0.135782 + 0.0286967\n",
      "Early stopping, best iteration is:\n",
      "[607]\tcv_agg's l2: 0.135547 + 0.0290374\n",
      "[100]\tcv_agg's l2: 0.141561 + 0.0310307\n",
      "[200]\tcv_agg's l2: 0.137279 + 0.0303619\n",
      "[300]\tcv_agg's l2: 0.13669 + 0.0301177\n",
      "[400]\tcv_agg's l2: 0.136127 + 0.0296996\n",
      "[500]\tcv_agg's l2: 0.13605 + 0.0291645\n",
      "[600]\tcv_agg's l2: 0.135752 + 0.028834\n"
     ]
    },
    {
     "name": "stderr",
     "output_type": "stream",
     "text": [
      "regularization_factors, val_score: 0.135547:  35%|#############3                        | 7/20 [00:33<01:02,  4.82s/it][I 2023-11-05 12:06:29,988] Trial 46 finished with value: 0.13572757182811768 and parameters: {'lambda_l1': 1.502387634901074e-08, 'lambda_l2': 1.4473421961269508e-08}. Best is trial 41 with value: 0.13554746998170883.\n",
      "regularization_factors, val_score: 0.135547:  35%|#############3                        | 7/20 [00:33<01:02,  4.82s/it]"
     ]
    },
    {
     "name": "stdout",
     "output_type": "stream",
     "text": [
      "[700]\tcv_agg's l2: 0.135782 + 0.0286967\n",
      "Early stopping, best iteration is:\n",
      "[607]\tcv_agg's l2: 0.135547 + 0.0290374\n",
      "[100]\tcv_agg's l2: 0.141561 + 0.0310307\n",
      "[200]\tcv_agg's l2: 0.137279 + 0.0303619\n",
      "[300]\tcv_agg's l2: 0.13669 + 0.0301177\n",
      "[400]\tcv_agg's l2: 0.136127 + 0.0296996\n",
      "[500]\tcv_agg's l2: 0.13605 + 0.0291645\n",
      "[600]\tcv_agg's l2: 0.135752 + 0.028834\n"
     ]
    },
    {
     "name": "stderr",
     "output_type": "stream",
     "text": [
      "regularization_factors, val_score: 0.135547:  40%|###############2                      | 8/20 [00:38<00:57,  4.76s/it][I 2023-11-05 12:06:34,625] Trial 47 finished with value: 0.13572757179119924 and parameters: {'lambda_l1': 1.7023378810095674e-08, 'lambda_l2': 1.0097525052194155e-08}. Best is trial 41 with value: 0.13554746998170883.\n",
      "regularization_factors, val_score: 0.135547:  40%|###############2                      | 8/20 [00:38<00:57,  4.76s/it]"
     ]
    },
    {
     "name": "stdout",
     "output_type": "stream",
     "text": [
      "[700]\tcv_agg's l2: 0.135782 + 0.0286967\n",
      "Early stopping, best iteration is:\n",
      "[607]\tcv_agg's l2: 0.135547 + 0.0290374\n",
      "[100]\tcv_agg's l2: 0.141561 + 0.0310307\n",
      "[200]\tcv_agg's l2: 0.137279 + 0.0303619\n",
      "[300]\tcv_agg's l2: 0.13669 + 0.0301177\n",
      "[400]\tcv_agg's l2: 0.136127 + 0.0296996\n",
      "[500]\tcv_agg's l2: 0.13605 + 0.0291645\n",
      "[600]\tcv_agg's l2: 0.135752 + 0.028834\n"
     ]
    },
    {
     "name": "stderr",
     "output_type": "stream",
     "text": [
      "regularization_factors, val_score: 0.135547:  45%|#################1                    | 9/20 [00:42<00:52,  4.77s/it][I 2023-11-05 12:06:39,420] Trial 48 finished with value: 0.13572757186250606 and parameters: {'lambda_l1': 1.123324522832419e-08, 'lambda_l2': 1.6955313587703764e-08}. Best is trial 41 with value: 0.13554746998170883.\n",
      "regularization_factors, val_score: 0.135547:  45%|#################1                    | 9/20 [00:42<00:52,  4.77s/it]"
     ]
    },
    {
     "name": "stdout",
     "output_type": "stream",
     "text": [
      "[700]\tcv_agg's l2: 0.135782 + 0.0286967\n",
      "Early stopping, best iteration is:\n",
      "[607]\tcv_agg's l2: 0.135547 + 0.0290374\n",
      "[100]\tcv_agg's l2: 0.141561 + 0.0310307\n",
      "[200]\tcv_agg's l2: 0.137279 + 0.0303619\n",
      "[300]\tcv_agg's l2: 0.13669 + 0.0301177\n",
      "[400]\tcv_agg's l2: 0.136127 + 0.0296996\n",
      "[500]\tcv_agg's l2: 0.13605 + 0.0291645\n",
      "[600]\tcv_agg's l2: 0.135752 + 0.028834\n"
     ]
    },
    {
     "name": "stderr",
     "output_type": "stream",
     "text": [
      "regularization_factors, val_score: 0.135547:  50%|##################5                  | 10/20 [00:47<00:48,  4.80s/it][I 2023-11-05 12:06:44,281] Trial 49 finished with value: 0.13572757182811443 and parameters: {'lambda_l1': 1.939524853357059e-08, 'lambda_l2': 1.3466396072969177e-08}. Best is trial 41 with value: 0.13554746998170883.\n",
      "regularization_factors, val_score: 0.135547:  50%|##################5                  | 10/20 [00:47<00:48,  4.80s/it]"
     ]
    },
    {
     "name": "stdout",
     "output_type": "stream",
     "text": [
      "[700]\tcv_agg's l2: 0.135782 + 0.0286967\n",
      "Early stopping, best iteration is:\n",
      "[607]\tcv_agg's l2: 0.135547 + 0.0290374\n",
      "[100]\tcv_agg's l2: 0.141561 + 0.0310307\n",
      "[200]\tcv_agg's l2: 0.137367 + 0.0302728\n",
      "[300]\tcv_agg's l2: 0.136611 + 0.0301972\n",
      "[400]\tcv_agg's l2: 0.135958 + 0.0298747\n",
      "[500]\tcv_agg's l2: 0.135887 + 0.0293361\n",
      "[600]\tcv_agg's l2: 0.135576 + 0.0290177\n"
     ]
    },
    {
     "name": "stderr",
     "output_type": "stream",
     "text": [
      "regularization_factors, val_score: 0.135547:  55%|####################3                | 11/20 [00:52<00:42,  4.78s/it][I 2023-11-05 12:06:48,999] Trial 50 finished with value: 0.13554747142698303 and parameters: {'lambda_l1': 4.8780868747753476e-08, 'lambda_l2': 1.1249324687250258e-08}. Best is trial 41 with value: 0.13554746998170883.\n",
      "regularization_factors, val_score: 0.135547:  55%|####################3                | 11/20 [00:52<00:42,  4.78s/it]"
     ]
    },
    {
     "name": "stdout",
     "output_type": "stream",
     "text": [
      "[700]\tcv_agg's l2: 0.135604 + 0.0288827\n",
      "Early stopping, best iteration is:\n",
      "[607]\tcv_agg's l2: 0.135547 + 0.0290374\n",
      "[100]\tcv_agg's l2: 0.141561 + 0.0310307\n",
      "[200]\tcv_agg's l2: 0.137279 + 0.0303619\n",
      "[300]\tcv_agg's l2: 0.13669 + 0.0301177\n",
      "[400]\tcv_agg's l2: 0.136127 + 0.0296996\n",
      "[500]\tcv_agg's l2: 0.13605 + 0.0291645\n",
      "[600]\tcv_agg's l2: 0.135748 + 0.0288362\n"
     ]
    },
    {
     "name": "stderr",
     "output_type": "stream",
     "text": [
      "regularization_factors, val_score: 0.135547:  60%|######################2              | 12/20 [00:57<00:38,  4.77s/it][I 2023-11-05 12:06:53,746] Trial 51 finished with value: 0.13571604240222584 and parameters: {'lambda_l1': 4.055139257503994e-08, 'lambda_l2': 1.4443627656166686e-08}. Best is trial 41 with value: 0.13554746998170883.\n",
      "regularization_factors, val_score: 0.135547:  60%|######################2              | 12/20 [00:57<00:38,  4.77s/it]"
     ]
    },
    {
     "name": "stdout",
     "output_type": "stream",
     "text": [
      "[700]\tcv_agg's l2: 0.135775 + 0.0287004\n",
      "Early stopping, best iteration is:\n",
      "[607]\tcv_agg's l2: 0.135547 + 0.0290374\n",
      "[100]\tcv_agg's l2: 0.141561 + 0.0310307\n",
      "[200]\tcv_agg's l2: 0.137367 + 0.0302728\n",
      "[300]\tcv_agg's l2: 0.136611 + 0.0301972\n",
      "[400]\tcv_agg's l2: 0.135958 + 0.0298747\n",
      "[500]\tcv_agg's l2: 0.135887 + 0.0293361\n",
      "[600]\tcv_agg's l2: 0.135576 + 0.0290177\n"
     ]
    },
    {
     "name": "stderr",
     "output_type": "stream",
     "text": [
      "regularization_factors, val_score: 0.135547:  65%|########################             | 13/20 [01:02<00:34,  4.86s/it][I 2023-11-05 12:06:58,822] Trial 52 finished with value: 0.13554747004202725 and parameters: {'lambda_l1': 3.6888186217522336e-07, 'lambda_l2': 1.4585474189327911e-08}. Best is trial 41 with value: 0.13554746998170883.\n",
      "regularization_factors, val_score: 0.135547:  65%|########################             | 13/20 [01:02<00:34,  4.86s/it]"
     ]
    },
    {
     "name": "stdout",
     "output_type": "stream",
     "text": [
      "[700]\tcv_agg's l2: 0.135595 + 0.0289086\n",
      "Early stopping, best iteration is:\n",
      "[607]\tcv_agg's l2: 0.135547 + 0.0290374\n",
      "[100]\tcv_agg's l2: 0.141561 + 0.0310307\n",
      "[200]\tcv_agg's l2: 0.137367 + 0.0302728\n",
      "[300]\tcv_agg's l2: 0.136611 + 0.0301972\n",
      "[400]\tcv_agg's l2: 0.135958 + 0.0298747\n",
      "[500]\tcv_agg's l2: 0.135887 + 0.0293361\n",
      "[600]\tcv_agg's l2: 0.135656 + 0.0291445\n"
     ]
    },
    {
     "name": "stderr",
     "output_type": "stream",
     "text": [
      "regularization_factors, val_score: 0.135547:  70%|#########################9           | 14/20 [01:07<00:29,  4.84s/it][I 2023-11-05 12:07:03,608] Trial 53 finished with value: 0.1356252170888546 and parameters: {'lambda_l1': 1.443772548681852e-06, 'lambda_l2': 4.268544177652227e-07}. Best is trial 41 with value: 0.13554746998170883.\n",
      "regularization_factors, val_score: 0.135547:  70%|#########################9           | 14/20 [01:07<00:29,  4.84s/it]"
     ]
    },
    {
     "name": "stdout",
     "output_type": "stream",
     "text": [
      "[700]\tcv_agg's l2: 0.135609 + 0.028944\n",
      "Early stopping, best iteration is:\n",
      "[607]\tcv_agg's l2: 0.135547 + 0.0290374\n",
      "[100]\tcv_agg's l2: 0.141561 + 0.0310307\n",
      "[200]\tcv_agg's l2: 0.137367 + 0.0302728\n",
      "[300]\tcv_agg's l2: 0.136611 + 0.0301972\n",
      "[400]\tcv_agg's l2: 0.135958 + 0.0298747\n",
      "[500]\tcv_agg's l2: 0.135887 + 0.0293361\n",
      "[600]\tcv_agg's l2: 0.135656 + 0.0291445\n"
     ]
    },
    {
     "name": "stderr",
     "output_type": "stream",
     "text": [
      "regularization_factors, val_score: 0.135547:  75%|###########################7         | 15/20 [01:11<00:24,  4.85s/it][I 2023-11-05 12:07:08,480] Trial 54 finished with value: 0.13562523741426316 and parameters: {'lambda_l1': 8.14155956038716e-07, 'lambda_l2': 7.853313271151461e-07}. Best is trial 41 with value: 0.13554746998170883.\n",
      "regularization_factors, val_score: 0.135547:  75%|###########################7         | 15/20 [01:11<00:24,  4.85s/it]"
     ]
    },
    {
     "name": "stdout",
     "output_type": "stream",
     "text": [
      "[700]\tcv_agg's l2: 0.135609 + 0.028944\n",
      "Early stopping, best iteration is:\n",
      "[607]\tcv_agg's l2: 0.135547 + 0.0290374\n",
      "[100]\tcv_agg's l2: 0.141561 + 0.0310307\n",
      "[200]\tcv_agg's l2: 0.137367 + 0.0302728\n",
      "[300]\tcv_agg's l2: 0.136611 + 0.0301972\n",
      "[400]\tcv_agg's l2: 0.135958 + 0.0298747\n",
      "[500]\tcv_agg's l2: 0.135883 + 0.0293296\n",
      "[600]\tcv_agg's l2: 0.135611 + 0.0290092\n",
      "[700]\tcv_agg's l2: 0.135516 + 0.0287395\n"
     ]
    },
    {
     "name": "stderr",
     "output_type": "stream",
     "text": [
      "regularization_factors, val_score: 0.135488:  80%|#############################6       | 16/20 [01:17<00:20,  5.00s/it][I 2023-11-05 12:07:13,845] Trial 55 finished with value: 0.13548832294862875 and parameters: {'lambda_l1': 1.7605629913268756e-06, 'lambda_l2': 7.207198450120549e-07}. Best is trial 55 with value: 0.13548832294862875.\n",
      "regularization_factors, val_score: 0.135488:  80%|#############################6       | 16/20 [01:17<00:20,  5.00s/it]"
     ]
    },
    {
     "name": "stdout",
     "output_type": "stream",
     "text": [
      "[800]\tcv_agg's l2: 0.135507 + 0.0286221\n",
      "Early stopping, best iteration is:\n",
      "[722]\tcv_agg's l2: 0.135488 + 0.0287183\n",
      "[100]\tcv_agg's l2: 0.141561 + 0.0310307\n",
      "[200]\tcv_agg's l2: 0.137367 + 0.0302728\n",
      "[300]\tcv_agg's l2: 0.136611 + 0.0301972\n",
      "[400]\tcv_agg's l2: 0.136035 + 0.0297946\n",
      "[500]\tcv_agg's l2: 0.135902 + 0.0293098\n",
      "[600]\tcv_agg's l2: 0.135619 + 0.029\n",
      "[700]\tcv_agg's l2: 0.135551 + 0.0287021\n"
     ]
    },
    {
     "name": "stderr",
     "output_type": "stream",
     "text": [
      "regularization_factors, val_score: 0.135488:  85%|###############################4     | 17/20 [01:23<00:15,  5.21s/it][I 2023-11-05 12:07:19,524] Trial 56 finished with value: 0.1355370977033542 and parameters: {'lambda_l1': 1.8856652615480647e-06, 'lambda_l2': 8.263553938665957e-07}. Best is trial 55 with value: 0.13548832294862875.\n",
      "regularization_factors, val_score: 0.135488:  85%|###############################4     | 17/20 [01:23<00:15,  5.21s/it]"
     ]
    },
    {
     "name": "stdout",
     "output_type": "stream",
     "text": [
      "[800]\tcv_agg's l2: 0.135541 + 0.028597\n",
      "Early stopping, best iteration is:\n",
      "[722]\tcv_agg's l2: 0.135488 + 0.0287183\n",
      "[100]\tcv_agg's l2: 0.141561 + 0.0310307\n",
      "[200]\tcv_agg's l2: 0.137367 + 0.0302728\n",
      "[300]\tcv_agg's l2: 0.136611 + 0.0301972\n",
      "[400]\tcv_agg's l2: 0.135958 + 0.0298747\n",
      "[500]\tcv_agg's l2: 0.135883 + 0.0293296\n",
      "[600]\tcv_agg's l2: 0.135611 + 0.0290092\n",
      "[700]\tcv_agg's l2: 0.135516 + 0.0287395\n"
     ]
    },
    {
     "name": "stderr",
     "output_type": "stream",
     "text": [
      "regularization_factors, val_score: 0.135488:  90%|#################################3   | 18/20 [01:28<00:10,  5.30s/it][I 2023-11-05 12:07:25,055] Trial 57 finished with value: 0.1354883198377519 and parameters: {'lambda_l1': 1.6140216912147042e-06, 'lambda_l2': 1.4746814861620986e-06}. Best is trial 57 with value: 0.1354883198377519.\n",
      "regularization_factors, val_score: 0.135488:  90%|#################################3   | 18/20 [01:28<00:10,  5.30s/it]"
     ]
    },
    {
     "name": "stdout",
     "output_type": "stream",
     "text": [
      "[800]\tcv_agg's l2: 0.135507 + 0.028622\n",
      "Early stopping, best iteration is:\n",
      "[722]\tcv_agg's l2: 0.135488 + 0.0287183\n",
      "[100]\tcv_agg's l2: 0.141561 + 0.0310307\n",
      "[200]\tcv_agg's l2: 0.137367 + 0.0302728\n",
      "[300]\tcv_agg's l2: 0.136611 + 0.0301972\n",
      "[400]\tcv_agg's l2: 0.135958 + 0.0298747\n",
      "[500]\tcv_agg's l2: 0.135883 + 0.0293296\n",
      "[600]\tcv_agg's l2: 0.135611 + 0.0290092\n",
      "[700]\tcv_agg's l2: 0.135516 + 0.0287395\n"
     ]
    },
    {
     "name": "stderr",
     "output_type": "stream",
     "text": [
      "\r",
      "regularization_factors, val_score: 0.135488:  90%|#################################3   | 18/20 [01:34<00:10,  5.30s/it]"
     ]
    },
    {
     "name": "stdout",
     "output_type": "stream",
     "text": [
      "[800]\tcv_agg's l2: 0.135507 + 0.028622\n",
      "Early stopping, best iteration is:\n",
      "[722]\tcv_agg's l2: 0.135488 + 0.0287183\n"
     ]
    },
    {
     "name": "stderr",
     "output_type": "stream",
     "text": [
      "regularization_factors, val_score: 0.135488:  95%|###################################1 | 19/20 [01:34<00:05,  5.36s/it][I 2023-11-05 12:07:30,547] Trial 58 finished with value: 0.13548832002111444 and parameters: {'lambda_l1': 1.5948454967072245e-06, 'lambda_l2': 1.3169493762589422e-06}. Best is trial 57 with value: 0.1354883198377519.\n",
      "regularization_factors, val_score: 0.135488:  95%|###################################1 | 19/20 [01:34<00:05,  5.36s/it]"
     ]
    },
    {
     "name": "stdout",
     "output_type": "stream",
     "text": [
      "[100]\tcv_agg's l2: 0.141561 + 0.0310307\n",
      "[200]\tcv_agg's l2: 0.137367 + 0.0302728\n",
      "[300]\tcv_agg's l2: 0.136611 + 0.0301972\n",
      "[400]\tcv_agg's l2: 0.136035 + 0.0297946\n",
      "[500]\tcv_agg's l2: 0.135902 + 0.0293098\n",
      "[600]\tcv_agg's l2: 0.135619 + 0.029\n",
      "[700]\tcv_agg's l2: 0.135551 + 0.0287021\n"
     ]
    },
    {
     "name": "stderr",
     "output_type": "stream",
     "text": [
      "regularization_factors, val_score: 0.135488: 100%|#####################################| 20/20 [01:39<00:00,  5.37s/it][I 2023-11-05 12:07:35,931] Trial 59 finished with value: 0.13553993554963675 and parameters: {'lambda_l1': 1.8236159430552252e-06, 'lambda_l2': 9.769192299537274e-07}. Best is trial 57 with value: 0.1354883198377519.\n",
      "regularization_factors, val_score: 0.135488: 100%|#####################################| 20/20 [01:39<00:00,  4.97s/it]\n"
     ]
    },
    {
     "name": "stdout",
     "output_type": "stream",
     "text": [
      "[800]\tcv_agg's l2: 0.135521 + 0.0286088\n",
      "Early stopping, best iteration is:\n",
      "[722]\tcv_agg's l2: 0.135488 + 0.0287183\n"
     ]
    },
    {
     "name": "stderr",
     "output_type": "stream",
     "text": [
      "min_data_in_leaf, val_score: 0.135488:   0%|                                                     | 0/5 [00:00<?, ?it/s]"
     ]
    },
    {
     "name": "stdout",
     "output_type": "stream",
     "text": [
      "[100]\tcv_agg's l2: 0.143631 + 0.0335109\n",
      "[200]\tcv_agg's l2: 0.142065 + 0.0338619\n",
      "[300]\tcv_agg's l2: 0.14195 + 0.0337666\n",
      "[400]\tcv_agg's l2: 0.141832 + 0.0336811\n",
      "[500]\tcv_agg's l2: 0.141812 + 0.0337145\n",
      "[600]\tcv_agg's l2: 0.141808 + 0.0337292\n",
      "[700]\tcv_agg's l2: 0.141804 + 0.0337408\n"
     ]
    },
    {
     "name": "stderr",
     "output_type": "stream",
     "text": [
      "min_data_in_leaf, val_score: 0.135488:  20%|#########                                    | 1/5 [00:06<00:24,  6.18s/it][I 2023-11-05 12:07:42,116] Trial 60 finished with value: 0.14180779585916115 and parameters: {'min_child_samples': 5}. Best is trial 60 with value: 0.14180779585916115.\n",
      "min_data_in_leaf, val_score: 0.135488:  20%|#########                                    | 1/5 [00:06<00:24,  6.18s/it]"
     ]
    },
    {
     "name": "stdout",
     "output_type": "stream",
     "text": [
      "[800]\tcv_agg's l2: 0.141807 + 0.0337444\n",
      "Early stopping, best iteration is:\n",
      "[722]\tcv_agg's l2: 0.135488 + 0.0287183\n",
      "[100]\tcv_agg's l2: 0.145762 + 0.0256918\n",
      "[200]\tcv_agg's l2: 0.142782 + 0.0248962\n",
      "[300]\tcv_agg's l2: 0.14212 + 0.0243932\n",
      "[400]\tcv_agg's l2: 0.142022 + 0.0240835\n",
      "[500]\tcv_agg's l2: 0.141923 + 0.0239879\n",
      "[600]\tcv_agg's l2: 0.141926 + 0.0239634\n",
      "[700]\tcv_agg's l2: 0.141931 + 0.0239486\n"
     ]
    },
    {
     "name": "stderr",
     "output_type": "stream",
     "text": [
      "\r",
      "min_data_in_leaf, val_score: 0.135488:  20%|#########                                    | 1/5 [00:12<00:24,  6.18s/it]"
     ]
    },
    {
     "name": "stdout",
     "output_type": "stream",
     "text": [
      "[800]\tcv_agg's l2: 0.141913 + 0.023898\n",
      "Early stopping, best iteration is:\n",
      "[722]\tcv_agg's l2: 0.135488 + 0.0287183\n"
     ]
    },
    {
     "name": "stderr",
     "output_type": "stream",
     "text": [
      "min_data_in_leaf, val_score: 0.135488:  40%|##################                           | 2/5 [00:12<00:18,  6.29s/it][I 2023-11-05 12:07:48,484] Trial 61 finished with value: 0.14193125836008186 and parameters: {'min_child_samples': 10}. Best is trial 60 with value: 0.14180779585916115.\n",
      "min_data_in_leaf, val_score: 0.135488:  40%|##################                           | 2/5 [00:12<00:18,  6.29s/it]"
     ]
    },
    {
     "name": "stdout",
     "output_type": "stream",
     "text": [
      "[100]\tcv_agg's l2: 0.151123 + 0.0303637\n",
      "[200]\tcv_agg's l2: 0.147292 + 0.0305147\n",
      "[300]\tcv_agg's l2: 0.146301 + 0.0304668\n",
      "[400]\tcv_agg's l2: 0.146255 + 0.0300595\n",
      "[500]\tcv_agg's l2: 0.145955 + 0.029736\n",
      "[600]\tcv_agg's l2: 0.145633 + 0.0296065\n",
      "[700]\tcv_agg's l2: 0.145609 + 0.0296788\n"
     ]
    },
    {
     "name": "stderr",
     "output_type": "stream",
     "text": [
      "min_data_in_leaf, val_score: 0.135488:  60%|###########################                  | 3/5 [00:17<00:11,  5.65s/it][I 2023-11-05 12:07:53,363] Trial 62 finished with value: 0.14556989549467764 and parameters: {'min_child_samples': 25}. Best is trial 60 with value: 0.14180779585916115.\n",
      "min_data_in_leaf, val_score: 0.135488:  60%|###########################                  | 3/5 [00:17<00:11,  5.65s/it]"
     ]
    },
    {
     "name": "stdout",
     "output_type": "stream",
     "text": [
      "[800]\tcv_agg's l2: 0.145485 + 0.0295765\n",
      "Early stopping, best iteration is:\n",
      "[722]\tcv_agg's l2: 0.135488 + 0.0287183\n",
      "[100]\tcv_agg's l2: 0.217348 + 0.0310497\n",
      "[200]\tcv_agg's l2: 0.206938 + 0.0291302\n",
      "[300]\tcv_agg's l2: 0.20444 + 0.0272988\n",
      "[400]\tcv_agg's l2: 0.205716 + 0.0267929\n",
      "[500]\tcv_agg's l2: 0.205933 + 0.025508\n",
      "[600]\tcv_agg's l2: 0.206764 + 0.0254353\n",
      "[700]\tcv_agg's l2: 0.207976 + 0.0253455\n"
     ]
    },
    {
     "name": "stderr",
     "output_type": "stream",
     "text": [
      "min_data_in_leaf, val_score: 0.135488:  80%|####################################         | 4/5 [00:20<00:04,  4.71s/it][I 2023-11-05 12:07:56,650] Trial 63 finished with value: 0.20804261658750497 and parameters: {'min_child_samples': 50}. Best is trial 60 with value: 0.14180779585916115.\n",
      "min_data_in_leaf, val_score: 0.135488:  80%|####################################         | 4/5 [00:20<00:04,  4.71s/it]"
     ]
    },
    {
     "name": "stdout",
     "output_type": "stream",
     "text": [
      "[800]\tcv_agg's l2: 0.209461 + 0.0244387\n",
      "Early stopping, best iteration is:\n",
      "[722]\tcv_agg's l2: 0.135488 + 0.0287183\n",
      "[100]\tcv_agg's l2: 0.679344 + 0.0670008\n",
      "[200]\tcv_agg's l2: 0.641945 + 0.0572827\n",
      "[300]\tcv_agg's l2: 0.621246 + 0.0577201\n",
      "[400]\tcv_agg's l2: 0.609215 + 0.0597934\n",
      "[500]\tcv_agg's l2: 0.601496 + 0.0636309\n",
      "[600]\tcv_agg's l2: 0.595834 + 0.0639466\n",
      "[700]\tcv_agg's l2: 0.592501 + 0.0636156\n"
     ]
    },
    {
     "name": "stderr",
     "output_type": "stream",
     "text": [
      "min_data_in_leaf, val_score: 0.135488: 100%|#############################################| 5/5 [00:23<00:00,  3.85s/it][I 2023-11-05 12:07:58,975] Trial 64 finished with value: 0.5926033803800369 and parameters: {'min_child_samples': 100}. Best is trial 60 with value: 0.14180779585916115.\n",
      "min_data_in_leaf, val_score: 0.135488: 100%|#############################################| 5/5 [00:23<00:00,  4.61s/it]"
     ]
    },
    {
     "name": "stdout",
     "output_type": "stream",
     "text": [
      "[800]\tcv_agg's l2: 0.589872 + 0.062542\n",
      "Early stopping, best iteration is:\n",
      "[722]\tcv_agg's l2: 0.135488 + 0.0287183\n"
     ]
    },
    {
     "name": "stderr",
     "output_type": "stream",
     "text": [
      "\n"
     ]
    }
   ],
   "source": [
    "import optuna.integration.lightgbm as lgb\n",
    "from lightgbm import early_stopping\n",
    "from sklearn.model_selection import KFold\n",
    "from sklearn.model_selection import RepeatedKFold\n",
    "\n",
    "\n",
    "lgb_train = lgb.Dataset(X_train_random_split, y_train_random_split)\n",
    "\n",
    "params = {\n",
    "    \"boosting_type\": \"gbdt\",\n",
    "    \"objective\": \"regression\",\n",
    "    \"metric\": \"l2\",\n",
    "    \"verbosity\": -1,\n",
    "}\n",
    "\n",
    "tuner = lgb.LightGBMTunerCV(\n",
    "    params,\n",
    "    lgb_train,\n",
    "    folds=KFold(n_splits=5),\n",
    "    num_boost_round=10000,\n",
    "    callbacks=[early_stopping(100), log_evaluation(100)],\n",
    ")\n",
    "\n",
    "tuner.run()"
   ]
  },
  {
   "cell_type": "code",
   "execution_count": 38,
   "id": "175988ae",
   "metadata": {},
   "outputs": [
    {
     "name": "stdout",
     "output_type": "stream",
     "text": [
      "Best score: 0.1354883198377519\n",
      "Params: \n",
      "    boosting_type: gbdt\n",
      "    objective: regression\n",
      "    metric: l2\n",
      "    verbosity: -1\n",
      "    feature_pre_filter: False\n",
      "    lambda_l1: 1.6140216912147042e-06\n",
      "    lambda_l2: 1.4746814861620986e-06\n",
      "    num_leaves: 29\n",
      "    feature_fraction: 0.4\n",
      "    bagging_fraction: 0.9951495103940697\n",
      "    bagging_freq: 3\n",
      "    min_child_samples: 20\n"
     ]
    }
   ],
   "source": [
    "print(f\"Best score: {tuner.best_score}\")\n",
    "best_params = tuner.best_params\n",
    "print(\"Params: \")\n",
    "for key, value in best_params.items():\n",
    "    print(\"    {}: {}\".format(key, value))"
   ]
  },
  {
   "cell_type": "code",
   "execution_count": 39,
   "id": "b8e0ae76",
   "metadata": {},
   "outputs": [],
   "source": [
    "import lightgbm as lgb\n",
    "\n",
    "lgb_tuned = lgb.train(\n",
    "    best_params,\n",
    "    lgb_train,\n",
    "    num_boost_round=10000,\n",
    ")"
   ]
  },
  {
   "cell_type": "code",
   "execution_count": 40,
   "id": "ab41f140",
   "metadata": {},
   "outputs": [
    {
     "name": "stdout",
     "output_type": "stream",
     "text": [
      "RMSE train: 0.00\n",
      "RMSE test: 0.33\n",
      "MSE test: 0.11\n",
      "MAE test: 0.23\n",
      "\n"
     ]
    }
   ],
   "source": [
    "rmse, mse, mae = assess_regression_model(\n",
    "    lgb_tuned,\n",
    "    X_train_random_split,\n",
    "    X_test_random_split,\n",
    "    y_train_random_split,\n",
    "    y_test_random_split,\n",
    ")"
   ]
  },
  {
   "cell_type": "code",
   "execution_count": 41,
   "id": "36a7d705",
   "metadata": {},
   "outputs": [],
   "source": [
    "results.loc[3] = [\"random\", \"Optuna\", \"full\", mse, rmse, mae]"
   ]
  },
  {
   "cell_type": "markdown",
   "id": "baffe730",
   "metadata": {},
   "source": [
    "###### MAE by level"
   ]
  },
  {
   "cell_type": "code",
   "execution_count": 42,
   "id": "4206dff5",
   "metadata": {},
   "outputs": [
    {
     "data": {
      "image/png": "[encoded data removed]",
      "text/plain": [
       "<Figure size 720x432 with 1 Axes>"
      ]
     },
     "metadata": {
      "needs_background": "light"
     },
     "output_type": "display_data"
    }
   ],
   "source": [
    "plot_mae_by_level(\n",
    "    y_test_random_split,\n",
    "    y_pred_test,\n",
    "    title=\"MAE by level for tuned LightGBM with full features and random split\",\n",
    ")"
   ]
  },
  {
   "cell_type": "code",
   "execution_count": 43,
   "id": "502bdb9c",
   "metadata": {
    "scrolled": true
   },
   "outputs": [
    {
     "name": "stdout",
     "output_type": "stream",
     "text": [
      "Default:\n",
      "MSE: 0.04\n",
      "RMSE: 0.20\n",
      "\n",
      "Round type: round\n",
      "MSE: 0.05\n",
      "RMSE: 0.22\n",
      "\n",
      "Round type: 0.33\n",
      "MSE: 0.06\n",
      "RMSE: 0.25\n",
      "\n",
      "Round type: 0.45\n",
      "MSE: 0.05\n",
      "RMSE: 0.22\n",
      "\n"
     ]
    }
   ],
   "source": [
    "predict = lgb_tuned.predict(X_test)\n",
    "check_round_predictions([\"round\", 0.33, 0.45], y_test, predict)"
   ]
  },
  {
   "cell_type": "code",
   "execution_count": 44,
   "id": "378511d8",
   "metadata": {},
   "outputs": [
    {
     "data": {
      "image/png": "[encoded data removed]",
      "text/plain": [
       "<Figure size 432x288 with 2 Axes>"
      ]
     },
     "metadata": {
      "needs_background": "light"
     },
     "output_type": "display_data"
    }
   ],
   "source": [
    "plot_confusion_matrix(\n",
    "    \"round\",\n",
    "    predict,\n",
    "    y_test,\n",
    "    title=\"Confusion matrix for tuned LightGBM with full features and random split\",\n",
    ")"
   ]
  },
  {
   "cell_type": "markdown",
   "id": "cbf21c29",
   "metadata": {},
   "source": [
    "## Summary"
   ]
  },
  {
   "cell_type": "code",
   "execution_count": 45,
   "id": "d065edf6",
   "metadata": {
    "scrolled": false
   },
   "outputs": [
    {
     "data": {
      "text/html": [
       "<div>\n",
       "<style scoped>\n",
       "    .dataframe tbody tr th:only-of-type {\n",
       "        vertical-align: middle;\n",
       "    }\n",
       "\n",
       "    .dataframe tbody tr th {\n",
       "        vertical-align: top;\n",
       "    }\n",
       "\n",
       "    .dataframe thead th {\n",
       "        text-align: right;\n",
       "    }\n",
       "</style>\n",
       "<table border=\"1\" class=\"dataframe\">\n",
       "  <thead>\n",
       "    <tr style=\"text-align: right;\">\n",
       "      <th></th>\n",
       "      <th>Split type</th>\n",
       "      <th>Tuning type</th>\n",
       "      <th>Set of features</th>\n",
       "      <th>MSE</th>\n",
       "      <th>RMSE</th>\n",
       "      <th>MAE</th>\n",
       "    </tr>\n",
       "  </thead>\n",
       "  <tbody>\n",
       "    <tr>\n",
       "      <th>0</th>\n",
       "      <td>chronological</td>\n",
       "      <td>default</td>\n",
       "      <td>full</td>\n",
       "      <td>0.932502</td>\n",
       "      <td>0.965662</td>\n",
       "      <td>0.463517</td>\n",
       "    </tr>\n",
       "    <tr>\n",
       "      <th>1</th>\n",
       "      <td>chronological</td>\n",
       "      <td>Optuna</td>\n",
       "      <td>full</td>\n",
       "      <td>0.497044</td>\n",
       "      <td>0.705013</td>\n",
       "      <td>0.407766</td>\n",
       "    </tr>\n",
       "    <tr>\n",
       "      <th>2</th>\n",
       "      <td>random</td>\n",
       "      <td>default</td>\n",
       "      <td>full</td>\n",
       "      <td>0.137900</td>\n",
       "      <td>0.371349</td>\n",
       "      <td>0.246737</td>\n",
       "    </tr>\n",
       "    <tr>\n",
       "      <th>3</th>\n",
       "      <td>random</td>\n",
       "      <td>Optuna</td>\n",
       "      <td>full</td>\n",
       "      <td>0.106014</td>\n",
       "      <td>0.325597</td>\n",
       "      <td>0.227292</td>\n",
       "    </tr>\n",
       "  </tbody>\n",
       "</table>\n",
       "</div>"
      ],
      "text/plain": [
       "      Split type Tuning type Set of features       MSE      RMSE       MAE\n",
       "0  chronological     default            full  0.932502  0.965662  0.463517\n",
       "1  chronological      Optuna            full  0.497044  0.705013  0.407766\n",
       "2         random     default            full  0.137900  0.371349  0.246737\n",
       "3         random      Optuna            full  0.106014  0.325597  0.227292"
      ]
     },
     "execution_count": 45,
     "metadata": {},
     "output_type": "execute_result"
    }
   ],
   "source": [
    "results"
   ]
  },
  {
   "cell_type": "code",
   "execution_count": 46,
   "id": "5ab8f79f",
   "metadata": {},
   "outputs": [],
   "source": [
    "from training.results import plot_summary"
   ]
  },
  {
   "cell_type": "code",
   "execution_count": 47,
   "id": "a642225d",
   "metadata": {},
   "outputs": [
    {
     "data": {
      "image/png": "[encoded data removed]",
      "text/plain": [
       "<Figure size 1440x576 with 1 Axes>"
      ]
     },
     "metadata": {
      "needs_background": "light"
     },
     "output_type": "display_data"
    }
   ],
   "source": [
    "plot_summary(results, \"RMSE\", title=\"RMSE for LightGBM with full features\")"
   ]
  },
  {
   "cell_type": "code",
   "execution_count": 48,
   "id": "07e30e23",
   "metadata": {},
   "outputs": [
    {
     "data": {
      "image/png": "[encoded data removed]",
      "text/plain": [
       "<Figure size 1440x576 with 1 Axes>"
      ]
     },
     "metadata": {
      "needs_background": "light"
     },
     "output_type": "display_data"
    }
   ],
   "source": [
    "plot_summary(results, \"MAE\", title=\"MAE for LightGBM with full features\")"
   ]
  },
  {
   "cell_type": "code",
   "execution_count": 49,
   "id": "ae68a99c",
   "metadata": {},
   "outputs": [],
   "source": [
    "results.to_json(\"./lightgbm_full_results.json\", indent=2)"
   ]
  },
  {
   "cell_type": "code",
   "execution_count": null,
   "id": "745b56ef",
   "metadata": {},
   "outputs": [],
   "source": []
  }
 ],
 "metadata": {
  "kernelspec": {
   "display_name": "Python 3 (ipykernel)",
   "language": "python",
   "name": "python3"
  },
  "language_info": {
   "codemirror_mode": {
    "name": "ipython",
    "version": 3
   },
   "file_extension": ".py",
   "mimetype": "text/x-python",
   "name": "python",
   "nbconvert_exporter": "python",
   "pygments_lexer": "ipython3",
   "version": "3.10.4"
  }
 },
 "nbformat": 4,
 "nbformat_minor": 5
}
