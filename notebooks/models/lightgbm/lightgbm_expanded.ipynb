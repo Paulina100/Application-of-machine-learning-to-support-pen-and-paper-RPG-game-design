{
 "cells": [
  {
   "cell_type": "markdown",
   "id": "b61f8435",
   "metadata": {},
   "source": [
    "# LightGBM\n",
    "### Parameters:\n",
    "* **abilities**:\n",
    "    * **cha**\n",
    "    * **con**\n",
    "    * **dex**\n",
    "    * **int**\n",
    "    * **str**\n",
    "    * **wis**\n",
    "* **attributes**\n",
    "    * **hp**\n",
    "    * **ac**\n",
    "    * **perception**\n",
    "* **saves**\n",
    "    * **fortitude**\n",
    "    * **reflex**\n",
    "    * **will**\n",
    "* **resources**\n",
    "    * **focus**\n",
    "\n",
    "### Prediction: *level*\n",
    "\n",
    "## Loading data"
   ]
  },
  {
   "cell_type": "code",
   "execution_count": 1,
   "id": "64151d43",
   "metadata": {},
   "outputs": [],
   "source": [
    "import numpy as np\n",
    "import pandas as pd\n",
    "import sys\n",
    "\n",
    "import os\n",
    "import pathlib\n",
    "\n",
    "sys.path.append(\"../../..\")\n",
    "from training.creating_dataset import load_and_preprocess_data\n",
    "\n",
    "current_path = os.getcwd()\n",
    "DATASETS_DIR = pathlib.Path(current_path).parent.parent.parent / \"pathfinder_2e_data\"\n",
    "DATASET_FILES = [\n",
    "    \"pathfinder-bestiary.db\",\n",
    "    \"pathfinder-bestiary-2.db\",\n",
    "    \"pathfinder-bestiary-3.db\",\n",
    "]\n",
    "DATASET_PATHS = [f\"{DATASETS_DIR}/{file}\" for file in DATASET_FILES]\n",
    "features = [\n",
    "    \"cha\",\n",
    "    \"con\",\n",
    "    \"dex\",\n",
    "    \"int\",\n",
    "    \"str\",\n",
    "    \"wis\",\n",
    "    \"ac\",\n",
    "    \"hp\",\n",
    "    \"perception\",\n",
    "    \"fortitude\",\n",
    "    \"reflex\",\n",
    "    \"will\",\n",
    "    \"focus\",\n",
    "]\n",
    "\n",
    "df = load_and_preprocess_data(\n",
    "    DATASET_PATHS,\n",
    "    characteristics=features,\n",
    ")"
   ]
  },
  {
   "cell_type": "code",
   "execution_count": 2,
   "id": "ec1e8424",
   "metadata": {},
   "outputs": [
    {
     "name": "stdout",
     "output_type": "stream",
     "text": [
      "<class 'pandas.core.frame.DataFrame'>\n",
      "Int64Index: 1206 entries, 0 to 1205\n",
      "Data columns (total 15 columns):\n",
      " #   Column      Non-Null Count  Dtype \n",
      "---  ------      --------------  ----- \n",
      " 0   str         1206 non-null   int64 \n",
      " 1   con         1206 non-null   int64 \n",
      " 2   dex         1206 non-null   int64 \n",
      " 3   cha         1206 non-null   int64 \n",
      " 4   ac          1206 non-null   int64 \n",
      " 5   level       1206 non-null   int64 \n",
      " 6   perception  1206 non-null   int64 \n",
      " 7   book        1206 non-null   object\n",
      " 8   int         1206 non-null   int64 \n",
      " 9   reflex      1206 non-null   int64 \n",
      " 10  wis         1206 non-null   int64 \n",
      " 11  focus       1206 non-null   int32 \n",
      " 12  hp          1206 non-null   int64 \n",
      " 13  will        1206 non-null   int64 \n",
      " 14  fortitude   1206 non-null   int64 \n",
      "dtypes: int32(1), int64(13), object(1)\n",
      "memory usage: 146.0+ KB\n"
     ]
    }
   ],
   "source": [
    "df.info()"
   ]
  },
  {
   "cell_type": "code",
   "execution_count": 3,
   "id": "211d736c",
   "metadata": {},
   "outputs": [
    {
     "data": {
      "text/html": [
       "<div>\n",
       "<style scoped>\n",
       "    .dataframe tbody tr th:only-of-type {\n",
       "        vertical-align: middle;\n",
       "    }\n",
       "\n",
       "    .dataframe tbody tr th {\n",
       "        vertical-align: top;\n",
       "    }\n",
       "\n",
       "    .dataframe thead th {\n",
       "        text-align: right;\n",
       "    }\n",
       "</style>\n",
       "<table border=\"1\" class=\"dataframe\">\n",
       "  <thead>\n",
       "    <tr style=\"text-align: right;\">\n",
       "      <th></th>\n",
       "      <th>str</th>\n",
       "      <th>con</th>\n",
       "      <th>dex</th>\n",
       "      <th>cha</th>\n",
       "      <th>ac</th>\n",
       "      <th>level</th>\n",
       "      <th>perception</th>\n",
       "      <th>book</th>\n",
       "      <th>int</th>\n",
       "      <th>reflex</th>\n",
       "      <th>wis</th>\n",
       "      <th>focus</th>\n",
       "      <th>hp</th>\n",
       "      <th>will</th>\n",
       "      <th>fortitude</th>\n",
       "    </tr>\n",
       "  </thead>\n",
       "  <tbody>\n",
       "    <tr>\n",
       "      <th>0</th>\n",
       "      <td>7</td>\n",
       "      <td>5</td>\n",
       "      <td>2</td>\n",
       "      <td>1</td>\n",
       "      <td>29</td>\n",
       "      <td>10</td>\n",
       "      <td>20</td>\n",
       "      <td>Pathfinder Bestiary</td>\n",
       "      <td>1</td>\n",
       "      <td>19</td>\n",
       "      <td>2</td>\n",
       "      <td>1</td>\n",
       "      <td>215</td>\n",
       "      <td>17</td>\n",
       "      <td>22</td>\n",
       "    </tr>\n",
       "    <tr>\n",
       "      <th>1</th>\n",
       "      <td>9</td>\n",
       "      <td>5</td>\n",
       "      <td>0</td>\n",
       "      <td>1</td>\n",
       "      <td>28</td>\n",
       "      <td>10</td>\n",
       "      <td>16</td>\n",
       "      <td>Pathfinder Bestiary</td>\n",
       "      <td>-4</td>\n",
       "      <td>14</td>\n",
       "      <td>2</td>\n",
       "      <td>0</td>\n",
       "      <td>220</td>\n",
       "      <td>16</td>\n",
       "      <td>21</td>\n",
       "    </tr>\n",
       "    <tr>\n",
       "      <th>2</th>\n",
       "      <td>7</td>\n",
       "      <td>6</td>\n",
       "      <td>3</td>\n",
       "      <td>-2</td>\n",
       "      <td>25</td>\n",
       "      <td>8</td>\n",
       "      <td>17</td>\n",
       "      <td>Pathfinder Bestiary</td>\n",
       "      <td>-4</td>\n",
       "      <td>17</td>\n",
       "      <td>3</td>\n",
       "      <td>0</td>\n",
       "      <td>175</td>\n",
       "      <td>15</td>\n",
       "      <td>20</td>\n",
       "    </tr>\n",
       "    <tr>\n",
       "      <th>3</th>\n",
       "      <td>7</td>\n",
       "      <td>5</td>\n",
       "      <td>4</td>\n",
       "      <td>6</td>\n",
       "      <td>41</td>\n",
       "      <td>17</td>\n",
       "      <td>30</td>\n",
       "      <td>Pathfinder Bestiary</td>\n",
       "      <td>6</td>\n",
       "      <td>29</td>\n",
       "      <td>5</td>\n",
       "      <td>1</td>\n",
       "      <td>315</td>\n",
       "      <td>32</td>\n",
       "      <td>30</td>\n",
       "    </tr>\n",
       "    <tr>\n",
       "      <th>4</th>\n",
       "      <td>-5</td>\n",
       "      <td>1</td>\n",
       "      <td>3</td>\n",
       "      <td>1</td>\n",
       "      <td>16</td>\n",
       "      <td>1</td>\n",
       "      <td>6</td>\n",
       "      <td>Pathfinder Bestiary</td>\n",
       "      <td>-1</td>\n",
       "      <td>10</td>\n",
       "      <td>1</td>\n",
       "      <td>1</td>\n",
       "      <td>20</td>\n",
       "      <td>4</td>\n",
       "      <td>6</td>\n",
       "    </tr>\n",
       "  </tbody>\n",
       "</table>\n",
       "</div>"
      ],
      "text/plain": [
       "   str  con  dex  cha  ac  level  perception                 book  int  \\\n",
       "0    7    5    2    1  29     10          20  Pathfinder Bestiary    1   \n",
       "1    9    5    0    1  28     10          16  Pathfinder Bestiary   -4   \n",
       "2    7    6    3   -2  25      8          17  Pathfinder Bestiary   -4   \n",
       "3    7    5    4    6  41     17          30  Pathfinder Bestiary    6   \n",
       "4   -5    1    3    1  16      1           6  Pathfinder Bestiary   -1   \n",
       "\n",
       "   reflex  wis  focus   hp  will  fortitude  \n",
       "0      19    2      1  215    17         22  \n",
       "1      14    2      0  220    16         21  \n",
       "2      17    3      0  175    15         20  \n",
       "3      29    5      1  315    32         30  \n",
       "4      10    1      1   20     4          6  "
      ]
     },
     "execution_count": 3,
     "metadata": {},
     "output_type": "execute_result"
    }
   ],
   "source": [
    "df.head()"
   ]
  },
  {
   "cell_type": "markdown",
   "id": "1bf55cc1",
   "metadata": {},
   "source": [
    "###### Level"
   ]
  },
  {
   "cell_type": "code",
   "execution_count": 4,
   "id": "2d322d72",
   "metadata": {},
   "outputs": [
    {
     "data": {
      "text/plain": [
       "0       10\n",
       "1       10\n",
       "2        8\n",
       "3       17\n",
       "4        1\n",
       "        ..\n",
       "1201    20\n",
       "1202    -1\n",
       "1203    12\n",
       "1204     6\n",
       "1205     6\n",
       "Name: level, Length: 1206, dtype: int64"
      ]
     },
     "execution_count": 4,
     "metadata": {},
     "output_type": "execute_result"
    }
   ],
   "source": [
    "y = df[\"level\"]\n",
    "y"
   ]
  },
  {
   "cell_type": "code",
   "execution_count": 5,
   "id": "e7887f19",
   "metadata": {},
   "outputs": [],
   "source": [
    "from collections import defaultdict\n",
    "\n",
    "\n",
    "lvl_stat = defaultdict(lambda: 0)\n",
    "\n",
    "for lvl in y:\n",
    "    lvl_stat[lvl] += 1"
   ]
  },
  {
   "cell_type": "code",
   "execution_count": 6,
   "id": "c982e6d0",
   "metadata": {},
   "outputs": [
    {
     "data": {
      "text/html": [
       "<div>\n",
       "<style scoped>\n",
       "    .dataframe tbody tr th:only-of-type {\n",
       "        vertical-align: middle;\n",
       "    }\n",
       "\n",
       "    .dataframe tbody tr th {\n",
       "        vertical-align: top;\n",
       "    }\n",
       "\n",
       "    .dataframe thead th {\n",
       "        text-align: right;\n",
       "    }\n",
       "</style>\n",
       "<table border=\"1\" class=\"dataframe\">\n",
       "  <thead>\n",
       "    <tr style=\"text-align: right;\">\n",
       "      <th></th>\n",
       "      <th>lvl</th>\n",
       "      <th>count</th>\n",
       "    </tr>\n",
       "  </thead>\n",
       "  <tbody>\n",
       "    <tr>\n",
       "      <th>0</th>\n",
       "      <td>-1</td>\n",
       "      <td>34</td>\n",
       "    </tr>\n",
       "    <tr>\n",
       "      <th>1</th>\n",
       "      <td>0</td>\n",
       "      <td>27</td>\n",
       "    </tr>\n",
       "    <tr>\n",
       "      <th>2</th>\n",
       "      <td>1</td>\n",
       "      <td>127</td>\n",
       "    </tr>\n",
       "    <tr>\n",
       "      <th>3</th>\n",
       "      <td>2</td>\n",
       "      <td>121</td>\n",
       "    </tr>\n",
       "    <tr>\n",
       "      <th>4</th>\n",
       "      <td>3</td>\n",
       "      <td>95</td>\n",
       "    </tr>\n",
       "    <tr>\n",
       "      <th>5</th>\n",
       "      <td>4</td>\n",
       "      <td>82</td>\n",
       "    </tr>\n",
       "    <tr>\n",
       "      <th>6</th>\n",
       "      <td>5</td>\n",
       "      <td>76</td>\n",
       "    </tr>\n",
       "    <tr>\n",
       "      <th>7</th>\n",
       "      <td>6</td>\n",
       "      <td>72</td>\n",
       "    </tr>\n",
       "    <tr>\n",
       "      <th>8</th>\n",
       "      <td>7</td>\n",
       "      <td>77</td>\n",
       "    </tr>\n",
       "    <tr>\n",
       "      <th>9</th>\n",
       "      <td>8</td>\n",
       "      <td>68</td>\n",
       "    </tr>\n",
       "    <tr>\n",
       "      <th>10</th>\n",
       "      <td>9</td>\n",
       "      <td>63</td>\n",
       "    </tr>\n",
       "    <tr>\n",
       "      <th>11</th>\n",
       "      <td>10</td>\n",
       "      <td>58</td>\n",
       "    </tr>\n",
       "    <tr>\n",
       "      <th>12</th>\n",
       "      <td>11</td>\n",
       "      <td>40</td>\n",
       "    </tr>\n",
       "    <tr>\n",
       "      <th>13</th>\n",
       "      <td>12</td>\n",
       "      <td>41</td>\n",
       "    </tr>\n",
       "    <tr>\n",
       "      <th>14</th>\n",
       "      <td>13</td>\n",
       "      <td>36</td>\n",
       "    </tr>\n",
       "    <tr>\n",
       "      <th>15</th>\n",
       "      <td>14</td>\n",
       "      <td>33</td>\n",
       "    </tr>\n",
       "    <tr>\n",
       "      <th>16</th>\n",
       "      <td>15</td>\n",
       "      <td>31</td>\n",
       "    </tr>\n",
       "    <tr>\n",
       "      <th>17</th>\n",
       "      <td>16</td>\n",
       "      <td>25</td>\n",
       "    </tr>\n",
       "    <tr>\n",
       "      <th>18</th>\n",
       "      <td>17</td>\n",
       "      <td>21</td>\n",
       "    </tr>\n",
       "    <tr>\n",
       "      <th>19</th>\n",
       "      <td>18</td>\n",
       "      <td>21</td>\n",
       "    </tr>\n",
       "    <tr>\n",
       "      <th>20</th>\n",
       "      <td>19</td>\n",
       "      <td>18</td>\n",
       "    </tr>\n",
       "    <tr>\n",
       "      <th>21</th>\n",
       "      <td>20</td>\n",
       "      <td>24</td>\n",
       "    </tr>\n",
       "    <tr>\n",
       "      <th>22</th>\n",
       "      <td>21</td>\n",
       "      <td>16</td>\n",
       "    </tr>\n",
       "  </tbody>\n",
       "</table>\n",
       "</div>"
      ],
      "text/plain": [
       "    lvl  count\n",
       "0    -1     34\n",
       "1     0     27\n",
       "2     1    127\n",
       "3     2    121\n",
       "4     3     95\n",
       "5     4     82\n",
       "6     5     76\n",
       "7     6     72\n",
       "8     7     77\n",
       "9     8     68\n",
       "10    9     63\n",
       "11   10     58\n",
       "12   11     40\n",
       "13   12     41\n",
       "14   13     36\n",
       "15   14     33\n",
       "16   15     31\n",
       "17   16     25\n",
       "18   17     21\n",
       "19   18     21\n",
       "20   19     18\n",
       "21   20     24\n",
       "22   21     16"
      ]
     },
     "execution_count": 6,
     "metadata": {},
     "output_type": "execute_result"
    }
   ],
   "source": [
    "level_count = pd.DataFrame(\n",
    "    data={\n",
    "        \"lvl\": [key for key in sorted(lvl_stat.keys())],\n",
    "        \"count\": [lvl_stat.get(key) for key in sorted(lvl_stat.keys())],\n",
    "    }\n",
    ")\n",
    "level_count"
   ]
  },
  {
   "cell_type": "code",
   "execution_count": 7,
   "id": "686877dd",
   "metadata": {},
   "outputs": [
    {
     "data": {
      "image/png": "[encoded data removed]",
      "text/plain": [
       "<Figure size 432x288 with 1 Axes>"
      ]
     },
     "metadata": {
      "needs_background": "light"
     },
     "output_type": "display_data"
    }
   ],
   "source": [
    "import matplotlib.pyplot as plt\n",
    "\n",
    "\n",
    "level_count.plot.bar(x=\"lvl\", y=\"count\", title=\"Count of levels\")\n",
    "plt.show()"
   ]
  },
  {
   "cell_type": "markdown",
   "id": "3f976e4a",
   "metadata": {},
   "source": [
    "## Train test split"
   ]
  },
  {
   "cell_type": "markdown",
   "id": "eb8cec62",
   "metadata": {},
   "source": [
    "### Chronological split"
   ]
  },
  {
   "cell_type": "code",
   "execution_count": 8,
   "id": "c6c29573",
   "metadata": {},
   "outputs": [],
   "source": [
    "from training.splitting_dataset import split_dataframe\n",
    "\n",
    "\n",
    "os.chdir(\"../../../training\")\n",
    "X_train, X_test, y_train, y_test = split_dataframe(df, test_size=0.31)\n",
    "os.chdir(\"../notebooks/models/lightgbm\")"
   ]
  },
  {
   "cell_type": "code",
   "execution_count": 9,
   "id": "f6894cc0",
   "metadata": {},
   "outputs": [],
   "source": [
    "X_train = X_train.drop(columns=[\"book\"])\n",
    "X_test = X_test.drop(columns=[\"book\"])"
   ]
  },
  {
   "cell_type": "markdown",
   "id": "31a0109c",
   "metadata": {},
   "source": [
    "### Random split"
   ]
  },
  {
   "cell_type": "code",
   "execution_count": 10,
   "id": "4d3e1121",
   "metadata": {},
   "outputs": [],
   "source": [
    "(\n",
    "    X_train_random_split,\n",
    "    X_test_random_split,\n",
    "    y_train_random_split,\n",
    "    y_test_random_split,\n",
    ") = split_dataframe(df, chronological_split=False)"
   ]
  },
  {
   "cell_type": "code",
   "execution_count": 11,
   "id": "f0c2041a",
   "metadata": {},
   "outputs": [],
   "source": [
    "X_train_random_split = X_train_random_split.drop(columns=[\"book\"])\n",
    "X_test_random_split = X_test_random_split.drop(columns=[\"book\"])"
   ]
  },
  {
   "cell_type": "markdown",
   "id": "e4776792",
   "metadata": {},
   "source": [
    "## LightGBM"
   ]
  },
  {
   "cell_type": "markdown",
   "id": "3f629b2d",
   "metadata": {},
   "source": [
    "## Chronological split"
   ]
  },
  {
   "cell_type": "code",
   "execution_count": 12,
   "id": "e818a3cc",
   "metadata": {},
   "outputs": [
    {
     "name": "stdout",
     "output_type": "stream",
     "text": [
      "[LightGBM] [Warning] Auto-choosing col-wise multi-threading, the overhead of testing was 0.000374 seconds.\n",
      "You can set `force_col_wise=true` to remove the overhead.\n",
      "[LightGBM] [Info] Total Bins 379\n",
      "[LightGBM] [Info] Number of data points in the train set: 841, number of used features: 13\n",
      "[LightGBM] [Info] Start training from score 6.966706\n",
      "Training until validation scores don't improve for 5 rounds\n",
      "[LightGBM] [Warning] No further splits with positive gain, best gain: -inf\n",
      "[LightGBM] [Warning] No further splits with positive gain, best gain: -inf\n",
      "[LightGBM] [Warning] No further splits with positive gain, best gain: -inf\n",
      "[LightGBM] [Warning] No further splits with positive gain, best gain: -inf\n",
      "[LightGBM] [Warning] No further splits with positive gain, best gain: -inf\n",
      "[LightGBM] [Warning] No further splits with positive gain, best gain: -inf\n",
      "[LightGBM] [Warning] No further splits with positive gain, best gain: -inf\n",
      "[LightGBM] [Warning] No further splits with positive gain, best gain: -inf\n",
      "[LightGBM] [Warning] No further splits with positive gain, best gain: -inf\n",
      "[LightGBM] [Warning] No further splits with positive gain, best gain: -inf\n",
      "[LightGBM] [Warning] No further splits with positive gain, best gain: -inf\n",
      "[LightGBM] [Warning] No further splits with positive gain, best gain: -inf\n",
      "Early stopping, best iteration is:\n",
      "[66]\tvalid_0's l1: 0.357209\tvalid_0's l2: 0.260893\n"
     ]
    }
   ],
   "source": [
    "import lightgbm as lgb\n",
    "\n",
    "lgb_train = lgb.Dataset(X_train, y_train)\n",
    "lgb_eval = lgb.Dataset(X_test, y_test, reference=lgb_train)\n",
    "\n",
    "params = {\n",
    "    \"boosting_type\": \"gbdt\",\n",
    "    \"objective\": \"regression\",\n",
    "    \"metric\": {\"l2\", \"l1\"},\n",
    "}\n",
    "\n",
    "gbm = lgb.train(\n",
    "    params,\n",
    "    lgb_train,\n",
    "    num_boost_round=100,\n",
    "    valid_sets=lgb_eval,\n",
    "    callbacks=[lgb.early_stopping(stopping_rounds=5)],\n",
    ")"
   ]
  },
  {
   "cell_type": "code",
   "execution_count": 13,
   "id": "b2dd69b5",
   "metadata": {},
   "outputs": [],
   "source": [
    "y_pred_train = gbm.predict(X_train, num_iteration=gbm.best_iteration)\n",
    "y_pred_test = gbm.predict(X_test, num_iteration=gbm.best_iteration)"
   ]
  },
  {
   "cell_type": "code",
   "execution_count": 14,
   "id": "68b425f7",
   "metadata": {},
   "outputs": [
    {
     "name": "stdout",
     "output_type": "stream",
     "text": [
      "RMSE: 0.51\n",
      "MAE: 0.36\n"
     ]
    }
   ],
   "source": [
    "from sklearn.metrics import mean_squared_error, mean_absolute_error\n",
    "\n",
    "\n",
    "rmse = mean_squared_error(y_test, y_pred_test, squared=False)\n",
    "mae = mean_absolute_error(y_test, y_pred_test)\n",
    "\n",
    "print(f\"RMSE: {rmse:.2f}\")\n",
    "print(f\"MAE: {mae:.2f}\")"
   ]
  },
  {
   "cell_type": "code",
   "execution_count": 15,
   "id": "a615e9df",
   "metadata": {},
   "outputs": [],
   "source": [
    "results = pd.DataFrame(\n",
    "    data={\n",
    "        \"Split type\": [],\n",
    "        \"Tuning type\": [],\n",
    "        \"Set of features\": [],\n",
    "        \"RMSE\": [],\n",
    "        \"MAE\": [],\n",
    "    }\n",
    ")\n",
    "\n",
    "results.loc[0] = [\"chronological\", \"default\", \"expanded\", rmse, mae]"
   ]
  },
  {
   "cell_type": "code",
   "execution_count": 16,
   "id": "9d777b5d",
   "metadata": {},
   "outputs": [
    {
     "name": "stdout",
     "output_type": "stream",
     "text": [
      "RMSE train: 0.21\n",
      "RMSE test: 0.51\n"
     ]
    }
   ],
   "source": [
    "rmse_train = mean_squared_error(y_train, y_pred_train, squared=False)\n",
    "rmse_test = mean_squared_error(y_test, y_pred_test, squared=False)\n",
    "print(f\"RMSE train: {rmse_train:.2f}\")\n",
    "print(f\"RMSE test: {rmse_test:.2f}\")"
   ]
  },
  {
   "cell_type": "markdown",
   "id": "c8d83c18",
   "metadata": {},
   "source": [
    "###### MAE by level"
   ]
  },
  {
   "cell_type": "code",
   "execution_count": 17,
   "id": "ac580d53",
   "metadata": {},
   "outputs": [],
   "source": [
    "from training.results import plot_mae_by_level"
   ]
  },
  {
   "cell_type": "code",
   "execution_count": 18,
   "id": "53b88797",
   "metadata": {},
   "outputs": [
    {
     "data": {
      "image/png": "[encoded data removed]",
      "text/plain": [
       "<Figure size 1440x576 with 1 Axes>"
      ]
     },
     "metadata": {
      "needs_background": "light"
     },
     "output_type": "display_data"
    }
   ],
   "source": [
    "plot_mae_by_level(\n",
    "    y_test,\n",
    "    y_pred_test,\n",
    "    title=\"MAE by level for default LightGBM with expanded features and chronological split\",\n",
    ")"
   ]
  },
  {
   "cell_type": "code",
   "execution_count": 19,
   "id": "4135d981",
   "metadata": {},
   "outputs": [
    {
     "name": "stdout",
     "output_type": "stream",
     "text": [
      "Default:\n",
      "RMSE: 0.51\n",
      "\n",
      "Round type: 0.5\n",
      "RMSE: 0.55\n",
      "\n",
      "Round type: 0.33\n",
      "RMSE: 0.54\n",
      "\n",
      "Round type: 0.45\n",
      "RMSE: 0.54\n",
      "\n"
     ]
    }
   ],
   "source": [
    "from training.results import check_round_predictions, plot_confusion_matrix\n",
    "\n",
    "\n",
    "check_round_predictions([0.5, 0.33, 0.45], y_test, y_pred_test)"
   ]
  },
  {
   "cell_type": "code",
   "execution_count": 20,
   "id": "4741e1ec",
   "metadata": {},
   "outputs": [
    {
     "data": {
      "image/png": "[encoded data removed]",
      "text/plain": [
       "<Figure size 720x720 with 2 Axes>"
      ]
     },
     "metadata": {
      "needs_background": "light"
     },
     "output_type": "display_data"
    }
   ],
   "source": [
    "plot_confusion_matrix(\n",
    "    y_pred_test,\n",
    "    y_test,\n",
    "    title=\"Confusion matrix for default LightGBM with\\nexpanded features and chronological split\",\n",
    ")"
   ]
  },
  {
   "cell_type": "markdown",
   "id": "a6b03404",
   "metadata": {},
   "source": [
    "#### Tuning"
   ]
  },
  {
   "cell_type": "code",
   "execution_count": 21,
   "id": "e7f8b7ee",
   "metadata": {},
   "outputs": [],
   "source": [
    "from training.results import assess_regression_model"
   ]
  },
  {
   "cell_type": "code",
   "execution_count": 22,
   "id": "10cd6bac",
   "metadata": {
    "scrolled": true
   },
   "outputs": [
    {
     "name": "stderr",
     "output_type": "stream",
     "text": [
      "[I 2023-11-09 13:19:30,929] A new study created in memory with name: no-name-cac77a6d-31be-482c-8aca-56f373eb7d6f\n",
      "feature_fraction, val_score: inf:   0%|                                                          | 0/7 [00:00<?, ?it/s]"
     ]
    },
    {
     "name": "stdout",
     "output_type": "stream",
     "text": [
      "Training until validation scores don't improve for 100 rounds\n",
      "[100]\tcv_agg's l2: 0.166025 + 0.0178112\n",
      "[200]\tcv_agg's l2: 0.161456 + 0.0154456\n"
     ]
    },
    {
     "name": "stderr",
     "output_type": "stream",
     "text": [
      "feature_fraction, val_score: 0.161265:  14%|######4                                      | 1/7 [00:01<00:10,  1.78s/it][I 2023-11-09 13:19:32,715] Trial 0 finished with value: 0.1612649970773726 and parameters: {'feature_fraction': 0.4}. Best is trial 0 with value: 0.1612649970773726.\n",
      "feature_fraction, val_score: 0.161265:  14%|######4                                      | 1/7 [00:01<00:10,  1.78s/it]"
     ]
    },
    {
     "name": "stdout",
     "output_type": "stream",
     "text": [
      "Early stopping, best iteration is:\n",
      "[193]\tcv_agg's l2: 0.161265 + 0.0152349\n",
      "[100]\tcv_agg's l2: 0.169031 + 0.0260212\n",
      "[200]\tcv_agg's l2: 0.167146 + 0.0241891\n"
     ]
    },
    {
     "name": "stderr",
     "output_type": "stream",
     "text": [
      "feature_fraction, val_score: 0.161265:  29%|############8                                | 2/7 [00:03<00:09,  1.85s/it][I 2023-11-09 13:19:34,621] Trial 1 finished with value: 0.16736437986378444 and parameters: {'feature_fraction': 0.5}. Best is trial 0 with value: 0.1612649970773726.\n",
      "feature_fraction, val_score: 0.161265:  29%|############8                                | 2/7 [00:03<00:09,  1.85s/it]"
     ]
    },
    {
     "name": "stdout",
     "output_type": "stream",
     "text": [
      "Early stopping, best iteration is:\n",
      "[193]\tcv_agg's l2: 0.161265 + 0.0152349\n",
      "[100]\tcv_agg's l2: 0.171633 + 0.0331603\n",
      "[200]\tcv_agg's l2: 0.168406 + 0.0317806\n"
     ]
    },
    {
     "name": "stderr",
     "output_type": "stream",
     "text": [
      "feature_fraction, val_score: 0.161265:  43%|###################2                         | 3/7 [00:05<00:07,  1.99s/it][I 2023-11-09 13:19:36,770] Trial 2 finished with value: 0.16871011114331902 and parameters: {'feature_fraction': 0.6}. Best is trial 0 with value: 0.1612649970773726.\n",
      "feature_fraction, val_score: 0.161265:  43%|###################2                         | 3/7 [00:05<00:07,  1.99s/it]"
     ]
    },
    {
     "name": "stdout",
     "output_type": "stream",
     "text": [
      "Early stopping, best iteration is:\n",
      "[193]\tcv_agg's l2: 0.161265 + 0.0152349\n",
      "[100]\tcv_agg's l2: 0.176759 + 0.0298587\n",
      "[200]\tcv_agg's l2: 0.172932 + 0.0282762\n"
     ]
    },
    {
     "name": "stderr",
     "output_type": "stream",
     "text": [
      "feature_fraction, val_score: 0.161265:  57%|#########################7                   | 4/7 [00:07<00:05,  1.96s/it][I 2023-11-09 13:19:38,676] Trial 3 finished with value: 0.17283285525298836 and parameters: {'feature_fraction': 0.8999999999999999}. Best is trial 0 with value: 0.1612649970773726.\n",
      "feature_fraction, val_score: 0.161265:  57%|#########################7                   | 4/7 [00:07<00:05,  1.96s/it]"
     ]
    },
    {
     "name": "stdout",
     "output_type": "stream",
     "text": [
      "Early stopping, best iteration is:\n",
      "[193]\tcv_agg's l2: 0.161265 + 0.0152349\n",
      "[100]\tcv_agg's l2: 0.171503 + 0.0350159\n",
      "[200]\tcv_agg's l2: 0.169013 + 0.0329072\n"
     ]
    },
    {
     "name": "stderr",
     "output_type": "stream",
     "text": [
      "feature_fraction, val_score: 0.161265:  71%|################################1            | 5/7 [00:09<00:03,  1.97s/it][I 2023-11-09 13:19:40,683] Trial 4 finished with value: 0.16882861014619308 and parameters: {'feature_fraction': 0.7}. Best is trial 0 with value: 0.1612649970773726.\n",
      "feature_fraction, val_score: 0.161265:  71%|################################1            | 5/7 [00:09<00:03,  1.97s/it]"
     ]
    },
    {
     "name": "stdout",
     "output_type": "stream",
     "text": [
      "Early stopping, best iteration is:\n",
      "[193]\tcv_agg's l2: 0.161265 + 0.0152349\n",
      "[100]\tcv_agg's l2: 0.176576 + 0.037218\n",
      "[200]\tcv_agg's l2: 0.174807 + 0.0365738\n"
     ]
    },
    {
     "name": "stderr",
     "output_type": "stream",
     "text": [
      "feature_fraction, val_score: 0.161265:  86%|######################################5      | 6/7 [00:11<00:01,  1.96s/it][I 2023-11-09 13:19:42,602] Trial 5 finished with value: 0.174785642893952 and parameters: {'feature_fraction': 0.8}. Best is trial 0 with value: 0.1612649970773726.\n",
      "feature_fraction, val_score: 0.161265:  86%|######################################5      | 6/7 [00:11<00:01,  1.96s/it]"
     ]
    },
    {
     "name": "stdout",
     "output_type": "stream",
     "text": [
      "Early stopping, best iteration is:\n",
      "[193]\tcv_agg's l2: 0.161265 + 0.0152349\n",
      "[100]\tcv_agg's l2: 0.188449 + 0.0390656\n",
      "[200]\tcv_agg's l2: 0.185926 + 0.0365937\n"
     ]
    },
    {
     "name": "stderr",
     "output_type": "stream",
     "text": [
      "feature_fraction, val_score: 0.161265: 100%|#############################################| 7/7 [00:13<00:00,  1.97s/it][I 2023-11-09 13:19:44,616] Trial 6 finished with value: 0.1862852238847506 and parameters: {'feature_fraction': 1.0}. Best is trial 0 with value: 0.1612649970773726.\n",
      "feature_fraction, val_score: 0.161265: 100%|#############################################| 7/7 [00:13<00:00,  1.95s/it]\n"
     ]
    },
    {
     "name": "stdout",
     "output_type": "stream",
     "text": [
      "Early stopping, best iteration is:\n",
      "[193]\tcv_agg's l2: 0.161265 + 0.0152349\n"
     ]
    },
    {
     "name": "stderr",
     "output_type": "stream",
     "text": [
      "num_leaves, val_score: 0.161265:   0%|                                                          | 0/20 [00:00<?, ?it/s]"
     ]
    },
    {
     "name": "stdout",
     "output_type": "stream",
     "text": [
      "[100]\tcv_agg's l2: 0.166025 + 0.0178112\n",
      "[200]\tcv_agg's l2: 0.161456 + 0.0154456\n"
     ]
    },
    {
     "name": "stderr",
     "output_type": "stream",
     "text": [
      "num_leaves, val_score: 0.161265:   5%|##5                                               | 1/20 [00:02<00:38,  2.01s/it][I 2023-11-09 13:19:46,636] Trial 7 finished with value: 0.1612649970773726 and parameters: {'num_leaves': 240}. Best is trial 7 with value: 0.1612649970773726.\n",
      "num_leaves, val_score: 0.161265:   5%|##5                                               | 1/20 [00:02<00:38,  2.01s/it]"
     ]
    },
    {
     "name": "stdout",
     "output_type": "stream",
     "text": [
      "Early stopping, best iteration is:\n",
      "[193]\tcv_agg's l2: 0.161265 + 0.0152349\n",
      "[100]\tcv_agg's l2: 0.166025 + 0.0178112\n",
      "[200]\tcv_agg's l2: 0.161456 + 0.0154456\n"
     ]
    },
    {
     "name": "stderr",
     "output_type": "stream",
     "text": [
      "num_leaves, val_score: 0.161265:  10%|#####                                             | 2/20 [00:03<00:35,  1.97s/it][I 2023-11-09 13:19:48,575] Trial 8 finished with value: 0.1612649970773726 and parameters: {'num_leaves': 46}. Best is trial 7 with value: 0.1612649970773726.\n",
      "num_leaves, val_score: 0.161265:  10%|#####                                             | 2/20 [00:03<00:35,  1.97s/it]"
     ]
    },
    {
     "name": "stdout",
     "output_type": "stream",
     "text": [
      "Early stopping, best iteration is:\n",
      "[193]\tcv_agg's l2: 0.161265 + 0.0152349\n",
      "[100]\tcv_agg's l2: 0.166025 + 0.0178112\n",
      "[200]\tcv_agg's l2: 0.161456 + 0.0154456\n"
     ]
    },
    {
     "name": "stderr",
     "output_type": "stream",
     "text": [
      "num_leaves, val_score: 0.161265:  15%|#######5                                          | 3/20 [00:05<00:32,  1.94s/it][I 2023-11-09 13:19:50,470] Trial 9 finished with value: 0.1612649970773726 and parameters: {'num_leaves': 129}. Best is trial 7 with value: 0.1612649970773726.\n",
      "num_leaves, val_score: 0.161265:  15%|#######5                                          | 3/20 [00:05<00:32,  1.94s/it]"
     ]
    },
    {
     "name": "stdout",
     "output_type": "stream",
     "text": [
      "Early stopping, best iteration is:\n",
      "[193]\tcv_agg's l2: 0.161265 + 0.0152349\n",
      "[100]\tcv_agg's l2: 0.200732 + 0.0354942\n"
     ]
    },
    {
     "name": "stderr",
     "output_type": "stream",
     "text": [
      "num_leaves, val_score: 0.161265:  20%|##########                                        | 4/20 [00:06<00:22,  1.38s/it][I 2023-11-09 13:19:50,999] Trial 10 finished with value: 0.1795537345097333 and parameters: {'num_leaves': 5}. Best is trial 7 with value: 0.1612649970773726.\n",
      "num_leaves, val_score: 0.161265:  20%|##########                                        | 4/20 [00:06<00:22,  1.38s/it]"
     ]
    },
    {
     "name": "stdout",
     "output_type": "stream",
     "text": [
      "[200]\tcv_agg's l2: 0.178998 + 0.0295605\n",
      "Early stopping, best iteration is:\n",
      "[193]\tcv_agg's l2: 0.161265 + 0.0152349\n",
      "[100]\tcv_agg's l2: 0.166025 + 0.0178112\n",
      "[200]\tcv_agg's l2: 0.161456 + 0.0154456\n"
     ]
    },
    {
     "name": "stderr",
     "output_type": "stream",
     "text": [
      "num_leaves, val_score: 0.161265:  25%|############5                                     | 5/20 [00:08<00:24,  1.63s/it][I 2023-11-09 13:19:53,078] Trial 11 finished with value: 0.1612649970773726 and parameters: {'num_leaves': 256}. Best is trial 7 with value: 0.1612649970773726.\n",
      "num_leaves, val_score: 0.161265:  25%|############5                                     | 5/20 [00:08<00:24,  1.63s/it]"
     ]
    },
    {
     "name": "stdout",
     "output_type": "stream",
     "text": [
      "Early stopping, best iteration is:\n",
      "[193]\tcv_agg's l2: 0.161265 + 0.0152349\n",
      "[100]\tcv_agg's l2: 0.166025 + 0.0178112\n",
      "[200]\tcv_agg's l2: 0.161456 + 0.0154456\n"
     ]
    },
    {
     "name": "stderr",
     "output_type": "stream",
     "text": [
      "num_leaves, val_score: 0.161265:  30%|###############                                   | 6/20 [00:10<00:27,  1.93s/it][I 2023-11-09 13:19:55,589] Trial 12 finished with value: 0.1612649970773726 and parameters: {'num_leaves': 247}. Best is trial 7 with value: 0.1612649970773726.\n",
      "num_leaves, val_score: 0.161265:  30%|###############                                   | 6/20 [00:10<00:27,  1.93s/it]"
     ]
    },
    {
     "name": "stdout",
     "output_type": "stream",
     "text": [
      "Early stopping, best iteration is:\n",
      "[193]\tcv_agg's l2: 0.161265 + 0.0152349\n",
      "[100]\tcv_agg's l2: 0.166025 + 0.0178112\n",
      "[200]\tcv_agg's l2: 0.161456 + 0.0154456\n"
     ]
    },
    {
     "name": "stderr",
     "output_type": "stream",
     "text": [
      "num_leaves, val_score: 0.161265:  35%|#################5                                | 7/20 [00:13<00:26,  2.04s/it][I 2023-11-09 13:19:57,860] Trial 13 finished with value: 0.1612649970773726 and parameters: {'num_leaves': 177}. Best is trial 7 with value: 0.1612649970773726.\n",
      "num_leaves, val_score: 0.161265:  35%|#################5                                | 7/20 [00:13<00:26,  2.04s/it]"
     ]
    },
    {
     "name": "stdout",
     "output_type": "stream",
     "text": [
      "Early stopping, best iteration is:\n",
      "[193]\tcv_agg's l2: 0.161265 + 0.0152349\n",
      "[100]\tcv_agg's l2: 0.166025 + 0.0178112\n",
      "[200]\tcv_agg's l2: 0.161456 + 0.0154456\n"
     ]
    },
    {
     "name": "stderr",
     "output_type": "stream",
     "text": [
      "num_leaves, val_score: 0.161265:  40%|####################                              | 8/20 [00:15<00:25,  2.14s/it][I 2023-11-09 13:20:00,216] Trial 14 finished with value: 0.1612649970773726 and parameters: {'num_leaves': 154}. Best is trial 7 with value: 0.1612649970773726.\n",
      "num_leaves, val_score: 0.161265:  40%|####################                              | 8/20 [00:15<00:25,  2.14s/it]"
     ]
    },
    {
     "name": "stdout",
     "output_type": "stream",
     "text": [
      "Early stopping, best iteration is:\n",
      "[193]\tcv_agg's l2: 0.161265 + 0.0152349\n",
      "[100]\tcv_agg's l2: 0.166025 + 0.0178112\n",
      "[200]\tcv_agg's l2: 0.161456 + 0.0154456\n"
     ]
    },
    {
     "name": "stderr",
     "output_type": "stream",
     "text": [
      "num_leaves, val_score: 0.161265:  45%|######################5                           | 9/20 [00:18<00:26,  2.40s/it][I 2023-11-09 13:20:03,184] Trial 15 finished with value: 0.1612649970773726 and parameters: {'num_leaves': 202}. Best is trial 7 with value: 0.1612649970773726.\n",
      "num_leaves, val_score: 0.161265:  45%|######################5                           | 9/20 [00:18<00:26,  2.40s/it]"
     ]
    },
    {
     "name": "stdout",
     "output_type": "stream",
     "text": [
      "Early stopping, best iteration is:\n",
      "[193]\tcv_agg's l2: 0.161265 + 0.0152349\n",
      "[100]\tcv_agg's l2: 0.166025 + 0.0178112\n",
      "[200]\tcv_agg's l2: 0.161456 + 0.0154456\n"
     ]
    },
    {
     "name": "stderr",
     "output_type": "stream",
     "text": [
      "num_leaves, val_score: 0.161265:  50%|########################5                        | 10/20 [00:22<00:27,  2.79s/it][I 2023-11-09 13:20:06,844] Trial 16 finished with value: 0.1612649970773726 and parameters: {'num_leaves': 101}. Best is trial 7 with value: 0.1612649970773726.\n",
      "num_leaves, val_score: 0.161265:  50%|########################5                        | 10/20 [00:22<00:27,  2.79s/it]"
     ]
    },
    {
     "name": "stdout",
     "output_type": "stream",
     "text": [
      "Early stopping, best iteration is:\n",
      "[193]\tcv_agg's l2: 0.161265 + 0.0152349\n",
      "[100]\tcv_agg's l2: 0.166025 + 0.0178112\n",
      "[200]\tcv_agg's l2: 0.161456 + 0.0154456\n"
     ]
    },
    {
     "name": "stderr",
     "output_type": "stream",
     "text": [
      "num_leaves, val_score: 0.161265:  55%|##########################9                      | 11/20 [00:26<00:28,  3.12s/it][I 2023-11-09 13:20:10,715] Trial 17 finished with value: 0.1612649970773726 and parameters: {'num_leaves': 212}. Best is trial 7 with value: 0.1612649970773726.\n",
      "num_leaves, val_score: 0.161265:  55%|##########################9                      | 11/20 [00:26<00:28,  3.12s/it]"
     ]
    },
    {
     "name": "stdout",
     "output_type": "stream",
     "text": [
      "Early stopping, best iteration is:\n",
      "[193]\tcv_agg's l2: 0.161265 + 0.0152349\n",
      "[100]\tcv_agg's l2: 0.166025 + 0.0178112\n",
      "[200]\tcv_agg's l2: 0.161456 + 0.0154456\n"
     ]
    },
    {
     "name": "stderr",
     "output_type": "stream",
     "text": [
      "num_leaves, val_score: 0.161265:  60%|#############################4                   | 12/20 [00:28<00:24,  3.05s/it][I 2023-11-09 13:20:13,607] Trial 18 finished with value: 0.1612649970773726 and parameters: {'num_leaves': 96}. Best is trial 7 with value: 0.1612649970773726.\n",
      "num_leaves, val_score: 0.161265:  60%|#############################4                   | 12/20 [00:28<00:24,  3.05s/it]"
     ]
    },
    {
     "name": "stdout",
     "output_type": "stream",
     "text": [
      "Early stopping, best iteration is:\n",
      "[193]\tcv_agg's l2: 0.161265 + 0.0152349\n",
      "[100]\tcv_agg's l2: 0.166025 + 0.0178112\n",
      "[200]\tcv_agg's l2: 0.161456 + 0.0154456\n"
     ]
    },
    {
     "name": "stderr",
     "output_type": "stream",
     "text": [
      "num_leaves, val_score: 0.161265:  65%|###############################8                 | 13/20 [00:31<00:20,  2.98s/it][I 2023-11-09 13:20:16,427] Trial 19 finished with value: 0.1612649970773726 and parameters: {'num_leaves': 213}. Best is trial 7 with value: 0.1612649970773726.\n",
      "num_leaves, val_score: 0.161265:  65%|###############################8                 | 13/20 [00:31<00:20,  2.98s/it]"
     ]
    },
    {
     "name": "stdout",
     "output_type": "stream",
     "text": [
      "Early stopping, best iteration is:\n",
      "[193]\tcv_agg's l2: 0.161265 + 0.0152349\n",
      "[100]\tcv_agg's l2: 0.166025 + 0.0178112\n",
      "[200]\tcv_agg's l2: 0.161456 + 0.0154456\n"
     ]
    },
    {
     "name": "stderr",
     "output_type": "stream",
     "text": [
      "num_leaves, val_score: 0.161265:  70%|##################################3              | 14/20 [00:34<00:17,  2.95s/it][I 2023-11-09 13:20:19,320] Trial 20 finished with value: 0.1612649970773726 and parameters: {'num_leaves': 70}. Best is trial 7 with value: 0.1612649970773726.\n",
      "num_leaves, val_score: 0.161265:  70%|##################################3              | 14/20 [00:34<00:17,  2.95s/it]"
     ]
    },
    {
     "name": "stdout",
     "output_type": "stream",
     "text": [
      "Early stopping, best iteration is:\n",
      "[193]\tcv_agg's l2: 0.161265 + 0.0152349\n",
      "[100]\tcv_agg's l2: 0.164471 + 0.0194668\n",
      "[200]\tcv_agg's l2: 0.159886 + 0.0169076\n"
     ]
    },
    {
     "name": "stderr",
     "output_type": "stream",
     "text": [
      "num_leaves, val_score: 0.159839:  75%|####################################7            | 15/20 [00:37<00:14,  2.95s/it][I 2023-11-09 13:20:22,265] Trial 21 finished with value: 0.15983860728026475 and parameters: {'num_leaves': 24}. Best is trial 21 with value: 0.15983860728026475.\n",
      "num_leaves, val_score: 0.159839:  75%|####################################7            | 15/20 [00:37<00:14,  2.95s/it]"
     ]
    },
    {
     "name": "stdout",
     "output_type": "stream",
     "text": [
      "Early stopping, best iteration is:\n",
      "[199]\tcv_agg's l2: 0.159839 + 0.0169131\n",
      "[100]\tcv_agg's l2: 0.200732 + 0.0354942\n",
      "[200]\tcv_agg's l2: 0.178998 + 0.0295605\n"
     ]
    },
    {
     "name": "stderr",
     "output_type": "stream",
     "text": [
      "num_leaves, val_score: 0.159839:  80%|#######################################2         | 16/20 [00:38<00:09,  2.32s/it][I 2023-11-09 13:20:23,105] Trial 22 finished with value: 0.17905117661390418 and parameters: {'num_leaves': 5}. Best is trial 21 with value: 0.15983860728026475.\n",
      "num_leaves, val_score: 0.159839:  80%|#######################################2         | 16/20 [00:38<00:09,  2.32s/it]"
     ]
    },
    {
     "name": "stdout",
     "output_type": "stream",
     "text": [
      "Early stopping, best iteration is:\n",
      "[199]\tcv_agg's l2: 0.159839 + 0.0169131\n",
      "[100]\tcv_agg's l2: 0.166025 + 0.0178112\n",
      "[200]\tcv_agg's l2: 0.161456 + 0.0154456\n"
     ]
    },
    {
     "name": "stderr",
     "output_type": "stream",
     "text": [
      "num_leaves, val_score: 0.159839:  85%|#########################################6       | 17/20 [00:41<00:07,  2.51s/it][I 2023-11-09 13:20:26,081] Trial 23 finished with value: 0.1614556317678048 and parameters: {'num_leaves': 45}. Best is trial 21 with value: 0.15983860728026475.\n",
      "num_leaves, val_score: 0.159839:  85%|#########################################6       | 17/20 [00:41<00:07,  2.51s/it]"
     ]
    },
    {
     "name": "stdout",
     "output_type": "stream",
     "text": [
      "Early stopping, best iteration is:\n",
      "[199]\tcv_agg's l2: 0.159839 + 0.0169131\n",
      "[100]\tcv_agg's l2: 0.166025 + 0.0178112\n",
      "[200]\tcv_agg's l2: 0.161456 + 0.0154456\n"
     ]
    },
    {
     "name": "stderr",
     "output_type": "stream",
     "text": [
      "num_leaves, val_score: 0.159839:  90%|############################################1    | 18/20 [00:44<00:05,  2.69s/it][I 2023-11-09 13:20:29,163] Trial 24 finished with value: 0.1614556317678048 and parameters: {'num_leaves': 134}. Best is trial 21 with value: 0.15983860728026475.\n",
      "num_leaves, val_score: 0.159839:  90%|############################################1    | 18/20 [00:44<00:05,  2.69s/it]"
     ]
    },
    {
     "name": "stdout",
     "output_type": "stream",
     "text": [
      "Early stopping, best iteration is:\n",
      "[199]\tcv_agg's l2: 0.159839 + 0.0169131\n",
      "[100]\tcv_agg's l2: 0.166025 + 0.0178112\n",
      "[200]\tcv_agg's l2: 0.161456 + 0.0154456\n"
     ]
    },
    {
     "name": "stderr",
     "output_type": "stream",
     "text": [
      "num_leaves, val_score: 0.159839:  95%|##############################################5  | 19/20 [00:47<00:02,  2.92s/it][I 2023-11-09 13:20:32,614] Trial 25 finished with value: 0.1614556317678048 and parameters: {'num_leaves': 173}. Best is trial 21 with value: 0.15983860728026475.\n",
      "num_leaves, val_score: 0.159839:  95%|##############################################5  | 19/20 [00:47<00:02,  2.92s/it]"
     ]
    },
    {
     "name": "stdout",
     "output_type": "stream",
     "text": [
      "Early stopping, best iteration is:\n",
      "[199]\tcv_agg's l2: 0.159839 + 0.0169131\n",
      "[100]\tcv_agg's l2: 0.166025 + 0.0178112\n",
      "[200]\tcv_agg's l2: 0.161456 + 0.0154456\n"
     ]
    },
    {
     "name": "stderr",
     "output_type": "stream",
     "text": [
      "num_leaves, val_score: 0.159839: 100%|#################################################| 20/20 [00:51<00:00,  3.04s/it][I 2023-11-09 13:20:35,943] Trial 26 finished with value: 0.1614556317678048 and parameters: {'num_leaves': 53}. Best is trial 21 with value: 0.15983860728026475.\n",
      "num_leaves, val_score: 0.159839: 100%|#################################################| 20/20 [00:51<00:00,  2.57s/it]\n"
     ]
    },
    {
     "name": "stdout",
     "output_type": "stream",
     "text": [
      "Early stopping, best iteration is:\n",
      "[199]\tcv_agg's l2: 0.159839 + 0.0169131\n"
     ]
    },
    {
     "name": "stderr",
     "output_type": "stream",
     "text": [
      "bagging, val_score: 0.159839:   0%|                                                             | 0/10 [00:00<?, ?it/s]"
     ]
    },
    {
     "name": "stdout",
     "output_type": "stream",
     "text": [
      "[100]\tcv_agg's l2: 0.168727 + 0.0219994\n",
      "[200]\tcv_agg's l2: 0.16323 + 0.0204001\n"
     ]
    },
    {
     "name": "stderr",
     "output_type": "stream",
     "text": [
      "bagging, val_score: 0.159839:  10%|#####3                                               | 1/10 [00:03<00:30,  3.43s/it][I 2023-11-09 13:20:39,380] Trial 27 finished with value: 0.1632405854736347 and parameters: {'bagging_fraction': 0.9444639127840605, 'bagging_freq': 3}. Best is trial 27 with value: 0.1632405854736347.\n",
      "bagging, val_score: 0.159839:  10%|#####3                                               | 1/10 [00:03<00:30,  3.43s/it]"
     ]
    },
    {
     "name": "stdout",
     "output_type": "stream",
     "text": [
      "Early stopping, best iteration is:\n",
      "[199]\tcv_agg's l2: 0.159839 + 0.0169131\n",
      "[100]\tcv_agg's l2: 0.227071 + 0.0207163\n",
      "[200]\tcv_agg's l2: 0.204685 + 0.0229601\n"
     ]
    },
    {
     "name": "stderr",
     "output_type": "stream",
     "text": [
      "bagging, val_score: 0.159839:  20%|##########6                                          | 2/10 [00:05<00:19,  2.40s/it][I 2023-11-09 13:20:41,056] Trial 28 finished with value: 0.20583913306918245 and parameters: {'bagging_fraction': 0.4257673128561847, 'bagging_freq': 7}. Best is trial 27 with value: 0.1632405854736347.\n",
      "bagging, val_score: 0.159839:  20%|##########6                                          | 2/10 [00:05<00:19,  2.40s/it]"
     ]
    },
    {
     "name": "stdout",
     "output_type": "stream",
     "text": [
      "Early stopping, best iteration is:\n",
      "[199]\tcv_agg's l2: 0.159839 + 0.0169131\n",
      "[100]\tcv_agg's l2: 0.165125 + 0.0210502\n",
      "[200]\tcv_agg's l2: 0.160956 + 0.0176989\n"
     ]
    },
    {
     "name": "stderr",
     "output_type": "stream",
     "text": [
      "bagging, val_score: 0.159839:  30%|###############9                                     | 3/10 [00:08<00:19,  2.83s/it][I 2023-11-09 13:20:44,395] Trial 29 finished with value: 0.1608995989381626 and parameters: {'bagging_fraction': 0.9752221746305444, 'bagging_freq': 1}. Best is trial 29 with value: 0.1608995989381626.\n",
      "bagging, val_score: 0.159839:  30%|###############9                                     | 3/10 [00:08<00:19,  2.83s/it]"
     ]
    },
    {
     "name": "stdout",
     "output_type": "stream",
     "text": [
      "Early stopping, best iteration is:\n",
      "[199]\tcv_agg's l2: 0.159839 + 0.0169131\n",
      "[100]\tcv_agg's l2: 0.163288 + 0.0206772\n",
      "[200]\tcv_agg's l2: 0.159746 + 0.0178227\n",
      "[300]\tcv_agg's l2: 0.160149 + 0.0179548\n"
     ]
    },
    {
     "name": "stderr",
     "output_type": "stream",
     "text": [
      "bagging, val_score: 0.159492:  40%|#####################2                               | 4/10 [00:12<00:18,  3.16s/it][I 2023-11-09 13:20:48,066] Trial 30 finished with value: 0.1594921062420427 and parameters: {'bagging_fraction': 0.9856591014879664, 'bagging_freq': 1}. Best is trial 30 with value: 0.1594921062420427.\n",
      "bagging, val_score: 0.159492:  40%|#####################2                               | 4/10 [00:12<00:18,  3.16s/it]"
     ]
    },
    {
     "name": "stdout",
     "output_type": "stream",
     "text": [
      "Early stopping, best iteration is:\n",
      "[227]\tcv_agg's l2: 0.159492 + 0.0180386\n",
      "[100]\tcv_agg's l2: 0.169745 + 0.0224221\n",
      "[200]\tcv_agg's l2: 0.164389 + 0.0204702\n",
      "[300]\tcv_agg's l2: 0.163487 + 0.019293\n"
     ]
    },
    {
     "name": "stderr",
     "output_type": "stream",
     "text": [
      "bagging, val_score: 0.159492:  50%|##########################5                          | 5/10 [00:17<00:18,  3.79s/it][I 2023-11-09 13:20:52,972] Trial 31 finished with value: 0.16326931303362996 and parameters: {'bagging_fraction': 0.9572477948477291, 'bagging_freq': 1}. Best is trial 30 with value: 0.1594921062420427.\n",
      "bagging, val_score: 0.159492:  50%|##########################5                          | 5/10 [00:17<00:18,  3.79s/it]"
     ]
    },
    {
     "name": "stdout",
     "output_type": "stream",
     "text": [
      "Early stopping, best iteration is:\n",
      "[227]\tcv_agg's l2: 0.159492 + 0.0180386\n",
      "[100]\tcv_agg's l2: 0.165616 + 0.0186309\n",
      "[200]\tcv_agg's l2: 0.162636 + 0.0160874\n",
      "[300]\tcv_agg's l2: 0.162494 + 0.0174171\n"
     ]
    },
    {
     "name": "stderr",
     "output_type": "stream",
     "text": [
      "bagging, val_score: 0.159492:  60%|###############################8                     | 6/10 [00:21<00:15,  3.96s/it][I 2023-11-09 13:20:57,276] Trial 32 finished with value: 0.16248819644010334 and parameters: {'bagging_fraction': 0.9965370565621823, 'bagging_freq': 1}. Best is trial 30 with value: 0.1594921062420427.\n",
      "bagging, val_score: 0.159492:  60%|###############################8                     | 6/10 [00:21<00:15,  3.96s/it]"
     ]
    },
    {
     "name": "stdout",
     "output_type": "stream",
     "text": [
      "Early stopping, best iteration is:\n",
      "[227]\tcv_agg's l2: 0.159492 + 0.0180386\n",
      "[100]\tcv_agg's l2: 0.172709 + 0.0191486\n",
      "[200]\tcv_agg's l2: 0.166064 + 0.0121212\n",
      "[300]\tcv_agg's l2: 0.165367 + 0.013486\n"
     ]
    },
    {
     "name": "stderr",
     "output_type": "stream",
     "text": [
      "bagging, val_score: 0.159492:  70%|#####################################                | 7/10 [00:24<00:11,  3.84s/it][I 2023-11-09 13:21:00,849] Trial 33 finished with value: 0.16573197239430645 and parameters: {'bagging_fraction': 0.7948909236194492, 'bagging_freq': 3}. Best is trial 30 with value: 0.1594921062420427.\n",
      "bagging, val_score: 0.159492:  70%|#####################################                | 7/10 [00:24<00:11,  3.84s/it]"
     ]
    },
    {
     "name": "stdout",
     "output_type": "stream",
     "text": [
      "Early stopping, best iteration is:\n",
      "[227]\tcv_agg's l2: 0.159492 + 0.0180386\n",
      "[100]\tcv_agg's l2: 0.178873 + 0.0192063\n",
      "[200]\tcv_agg's l2: 0.171835 + 0.0164426\n",
      "[300]\tcv_agg's l2: 0.171115 + 0.0161551\n"
     ]
    },
    {
     "name": "stderr",
     "output_type": "stream",
     "text": [
      "bagging, val_score: 0.159492:  80%|##########################################4          | 8/10 [00:28<00:07,  3.74s/it][I 2023-11-09 13:21:04,396] Trial 34 finished with value: 0.17125936193268304 and parameters: {'bagging_fraction': 0.8097533837162119, 'bagging_freq': 1}. Best is trial 30 with value: 0.1594921062420427.\n",
      "bagging, val_score: 0.159492:  80%|##########################################4          | 8/10 [00:28<00:07,  3.74s/it]"
     ]
    },
    {
     "name": "stdout",
     "output_type": "stream",
     "text": [
      "Early stopping, best iteration is:\n",
      "[227]\tcv_agg's l2: 0.159492 + 0.0180386\n",
      "[100]\tcv_agg's l2: 0.170205 + 0.0214141\n",
      "[200]\tcv_agg's l2: 0.164939 + 0.0196742\n",
      "[300]\tcv_agg's l2: 0.164413 + 0.018698\n"
     ]
    },
    {
     "name": "stderr",
     "output_type": "stream",
     "text": [
      "bagging, val_score: 0.159492:  90%|###############################################7     | 9/10 [00:32<00:03,  3.71s/it][I 2023-11-09 13:21:08,032] Trial 35 finished with value: 0.16460330655918803 and parameters: {'bagging_fraction': 0.8452789813981467, 'bagging_freq': 5}. Best is trial 30 with value: 0.1594921062420427.\n",
      "bagging, val_score: 0.159492:  90%|###############################################7     | 9/10 [00:32<00:03,  3.71s/it]"
     ]
    },
    {
     "name": "stdout",
     "output_type": "stream",
     "text": [
      "Early stopping, best iteration is:\n",
      "[227]\tcv_agg's l2: 0.159492 + 0.0180386\n",
      "[100]\tcv_agg's l2: 0.165348 + 0.015659\n",
      "[200]\tcv_agg's l2: 0.161521 + 0.0128174\n",
      "[300]\tcv_agg's l2: 0.16207 + 0.0142207\n"
     ]
    },
    {
     "name": "stderr",
     "output_type": "stream",
     "text": [
      "bagging, val_score: 0.159492: 100%|####################################################| 10/10 [00:36<00:00,  3.90s/it][I 2023-11-09 13:21:12,372] Trial 36 finished with value: 0.16157276741525944 and parameters: {'bagging_fraction': 0.990391954888613, 'bagging_freq': 3}. Best is trial 30 with value: 0.1594921062420427.\n",
      "bagging, val_score: 0.159492: 100%|####################################################| 10/10 [00:36<00:00,  3.64s/it]\n"
     ]
    },
    {
     "name": "stdout",
     "output_type": "stream",
     "text": [
      "Early stopping, best iteration is:\n",
      "[227]\tcv_agg's l2: 0.159492 + 0.0180386\n"
     ]
    },
    {
     "name": "stderr",
     "output_type": "stream",
     "text": [
      "feature_fraction_stage2, val_score: 0.159492:   0%|                                              | 0/3 [00:00<?, ?it/s]"
     ]
    },
    {
     "name": "stdout",
     "output_type": "stream",
     "text": [
      "[100]\tcv_agg's l2: 0.160421 + 0.0246514\n",
      "[200]\tcv_agg's l2: 0.156756 + 0.0248313\n",
      "[300]\tcv_agg's l2: 0.157133 + 0.0241174\n"
     ]
    },
    {
     "name": "stderr",
     "output_type": "stream",
     "text": [
      "feature_fraction_stage2, val_score: 0.156300:  33%|############6                         | 1/3 [00:05<00:10,  5.08s/it][I 2023-11-09 13:21:17,461] Trial 37 finished with value: 0.15629963472451558 and parameters: {'feature_fraction': 0.48000000000000004}. Best is trial 37 with value: 0.15629963472451558.\n",
      "feature_fraction_stage2, val_score: 0.156300:  33%|############6                         | 1/3 [00:05<00:10,  5.08s/it]"
     ]
    },
    {
     "name": "stdout",
     "output_type": "stream",
     "text": [
      "Early stopping, best iteration is:\n",
      "[275]\tcv_agg's l2: 0.1563 + 0.0237855\n",
      "[100]\tcv_agg's l2: 0.163288 + 0.0206772\n",
      "[200]\tcv_agg's l2: 0.159746 + 0.0178227\n",
      "[300]\tcv_agg's l2: 0.160149 + 0.0179548\n"
     ]
    },
    {
     "name": "stderr",
     "output_type": "stream",
     "text": [
      "feature_fraction_stage2, val_score: 0.156300:  67%|#########################3            | 2/3 [00:10<00:05,  5.22s/it][I 2023-11-09 13:21:22,787] Trial 38 finished with value: 0.16005116868973943 and parameters: {'feature_fraction': 0.41600000000000004}. Best is trial 37 with value: 0.15629963472451558.\n",
      "feature_fraction_stage2, val_score: 0.156300:  67%|#########################3            | 2/3 [00:10<00:05,  5.22s/it]"
     ]
    },
    {
     "name": "stdout",
     "output_type": "stream",
     "text": [
      "Early stopping, best iteration is:\n",
      "[275]\tcv_agg's l2: 0.1563 + 0.0237855\n",
      "[100]\tcv_agg's l2: 0.160421 + 0.0246514\n",
      "[200]\tcv_agg's l2: 0.156756 + 0.0248313\n",
      "[300]\tcv_agg's l2: 0.157133 + 0.0241174\n"
     ]
    },
    {
     "name": "stderr",
     "output_type": "stream",
     "text": [
      "feature_fraction_stage2, val_score: 0.156300: 100%|######################################| 3/3 [00:16<00:00,  5.40s/it][I 2023-11-09 13:21:28,400] Trial 39 finished with value: 0.15629963472451558 and parameters: {'feature_fraction': 0.44800000000000006}. Best is trial 37 with value: 0.15629963472451558.\n",
      "feature_fraction_stage2, val_score: 0.156300: 100%|######################################| 3/3 [00:16<00:00,  5.34s/it]\n"
     ]
    },
    {
     "name": "stdout",
     "output_type": "stream",
     "text": [
      "Early stopping, best iteration is:\n",
      "[275]\tcv_agg's l2: 0.1563 + 0.0237855\n"
     ]
    },
    {
     "name": "stderr",
     "output_type": "stream",
     "text": [
      "regularization_factors, val_score: 0.156300:   0%|                                              | 0/20 [00:00<?, ?it/s]"
     ]
    },
    {
     "name": "stdout",
     "output_type": "stream",
     "text": [
      "[100]\tcv_agg's l2: 0.160351 + 0.0243288\n",
      "[200]\tcv_agg's l2: 0.157492 + 0.0230382\n",
      "[300]\tcv_agg's l2: 0.158068 + 0.0231538\n"
     ]
    },
    {
     "name": "stderr",
     "output_type": "stream",
     "text": [
      "regularization_factors, val_score: 0.156300:   5%|#9                                    | 1/20 [00:05<01:41,  5.34s/it][I 2023-11-09 13:21:33,749] Trial 40 finished with value: 0.15767621852725372 and parameters: {'lambda_l1': 6.319312141961041e-05, 'lambda_l2': 7.36594202615331e-05}. Best is trial 40 with value: 0.15767621852725372.\n",
      "regularization_factors, val_score: 0.156300:   5%|#9                                    | 1/20 [00:05<01:41,  5.34s/it]"
     ]
    },
    {
     "name": "stdout",
     "output_type": "stream",
     "text": [
      "Early stopping, best iteration is:\n",
      "[275]\tcv_agg's l2: 0.1563 + 0.0237855\n",
      "[100]\tcv_agg's l2: 0.160326 + 0.0247551\n",
      "[200]\tcv_agg's l2: 0.156564 + 0.0244816\n"
     ]
    },
    {
     "name": "stderr",
     "output_type": "stream",
     "text": [
      "regularization_factors, val_score: 0.155565:  10%|###8                                  | 2/20 [00:09<01:21,  4.52s/it][I 2023-11-09 13:21:37,693] Trial 41 finished with value: 0.15556491198972044 and parameters: {'lambda_l1': 1.8096931489773807e-05, 'lambda_l2': 7.178585215661925e-05}. Best is trial 41 with value: 0.15556491198972044.\n",
      "regularization_factors, val_score: 0.155565:  10%|###8                                  | 2/20 [00:09<01:21,  4.52s/it]"
     ]
    },
    {
     "name": "stdout",
     "output_type": "stream",
     "text": [
      "Early stopping, best iteration is:\n",
      "[169]\tcv_agg's l2: 0.155565 + 0.023885\n",
      "[100]\tcv_agg's l2: 0.160351 + 0.0243288\n",
      "[200]\tcv_agg's l2: 0.157464 + 0.0231698\n"
     ]
    },
    {
     "name": "stderr",
     "output_type": "stream",
     "text": [
      "regularization_factors, val_score: 0.155565:  15%|#####7                                | 3/20 [00:14<01:21,  4.78s/it][I 2023-11-09 13:21:42,778] Trial 42 finished with value: 0.15696907351754358 and parameters: {'lambda_l1': 2.6881725510711924e-05, 'lambda_l2': 6.311389709154588e-05}. Best is trial 41 with value: 0.15556491198972044.\n",
      "regularization_factors, val_score: 0.155565:  15%|#####7                                | 3/20 [00:14<01:21,  4.78s/it]"
     ]
    },
    {
     "name": "stdout",
     "output_type": "stream",
     "text": [
      "Early stopping, best iteration is:\n",
      "[169]\tcv_agg's l2: 0.155565 + 0.023885\n",
      "[100]\tcv_agg's l2: 0.160351 + 0.0243288\n",
      "[200]\tcv_agg's l2: 0.157492 + 0.0230383\n"
     ]
    },
    {
     "name": "stderr",
     "output_type": "stream",
     "text": [
      "regularization_factors, val_score: 0.155565:  20%|#######6                              | 4/20 [00:18<01:09,  4.36s/it][I 2023-11-09 13:21:46,507] Trial 43 finished with value: 0.1570008080031497 and parameters: {'lambda_l1': 3.28549845919267e-05, 'lambda_l2': 4.912019946171606e-05}. Best is trial 41 with value: 0.15556491198972044.\n",
      "regularization_factors, val_score: 0.155565:  20%|#######6                              | 4/20 [00:18<01:09,  4.36s/it]"
     ]
    },
    {
     "name": "stdout",
     "output_type": "stream",
     "text": [
      "Early stopping, best iteration is:\n",
      "[169]\tcv_agg's l2: 0.155565 + 0.023885\n",
      "[100]\tcv_agg's l2: 0.160326 + 0.0247551\n",
      "[200]\tcv_agg's l2: 0.156564 + 0.0244816\n"
     ]
    },
    {
     "name": "stderr",
     "output_type": "stream",
     "text": [
      "regularization_factors, val_score: 0.155565:  25%|#########5                            | 5/20 [00:21<01:00,  4.04s/it][I 2023-11-09 13:21:49,983] Trial 44 finished with value: 0.1555648547966096 and parameters: {'lambda_l1': 2.3899179910587177e-05, 'lambda_l2': 0.00014758405724576924}. Best is trial 44 with value: 0.1555648547966096.\n",
      "regularization_factors, val_score: 0.155565:  25%|#########5                            | 5/20 [00:21<01:00,  4.04s/it]"
     ]
    },
    {
     "name": "stdout",
     "output_type": "stream",
     "text": [
      "Early stopping, best iteration is:\n",
      "[169]\tcv_agg's l2: 0.155565 + 0.023885\n",
      "[100]\tcv_agg's l2: 0.160326 + 0.0247551\n",
      "[200]\tcv_agg's l2: 0.156557 + 0.0244767\n"
     ]
    },
    {
     "name": "stderr",
     "output_type": "stream",
     "text": [
      "regularization_factors, val_score: 0.155565:  30%|###########4                          | 6/20 [00:25<00:53,  3.84s/it][I 2023-11-09 13:21:53,424] Trial 45 finished with value: 0.15556487947020076 and parameters: {'lambda_l1': 1.0411700667870763e-05, 'lambda_l2': 0.00011173589902659194}. Best is trial 44 with value: 0.1555648547966096.\n",
      "regularization_factors, val_score: 0.155565:  30%|###########4                          | 6/20 [00:25<00:53,  3.84s/it]"
     ]
    },
    {
     "name": "stdout",
     "output_type": "stream",
     "text": [
      "Early stopping, best iteration is:\n",
      "[169]\tcv_agg's l2: 0.155565 + 0.023885\n",
      "[100]\tcv_agg's l2: 0.158064 + 0.0249442\n",
      "[200]\tcv_agg's l2: 0.155664 + 0.0254433\n",
      "[300]\tcv_agg's l2: 0.156012 + 0.0247838\n"
     ]
    },
    {
     "name": "stderr",
     "output_type": "stream",
     "text": [
      "regularization_factors, val_score: 0.155433:  35%|#############3                        | 7/20 [00:29<00:54,  4.18s/it][I 2023-11-09 13:21:58,298] Trial 46 finished with value: 0.15543343281827163 and parameters: {'lambda_l1': 6.68827707468985e-08, 'lambda_l2': 0.014699670152377211}. Best is trial 46 with value: 0.15543343281827163.\n",
      "regularization_factors, val_score: 0.155433:  35%|#############3                        | 7/20 [00:29<00:54,  4.18s/it]"
     ]
    },
    {
     "name": "stdout",
     "output_type": "stream",
     "text": [
      "Early stopping, best iteration is:\n",
      "[265]\tcv_agg's l2: 0.155433 + 0.0244735\n",
      "[100]\tcv_agg's l2: 0.158861 + 0.0243353\n",
      "[200]\tcv_agg's l2: 0.156452 + 0.0239568\n",
      "[300]\tcv_agg's l2: 0.157172 + 0.0248178\n"
     ]
    },
    {
     "name": "stderr",
     "output_type": "stream",
     "text": [
      "regularization_factors, val_score: 0.155433:  40%|###############2                      | 8/20 [00:34<00:52,  4.36s/it][I 2023-11-09 13:22:03,043] Trial 47 finished with value: 0.15643485097863002 and parameters: {'lambda_l1': 3.1144553858316305e-08, 'lambda_l2': 0.05158673137310932}. Best is trial 46 with value: 0.15543343281827163.\n",
      "regularization_factors, val_score: 0.155433:  40%|###############2                      | 8/20 [00:34<00:52,  4.36s/it]"
     ]
    },
    {
     "name": "stdout",
     "output_type": "stream",
     "text": [
      "Early stopping, best iteration is:\n",
      "[265]\tcv_agg's l2: 0.155433 + 0.0244735\n",
      "[100]\tcv_agg's l2: 0.157204 + 0.0251899\n",
      "[200]\tcv_agg's l2: 0.155158 + 0.0246357\n"
     ]
    },
    {
     "name": "stderr",
     "output_type": "stream",
     "text": [
      "regularization_factors, val_score: 0.154604:  45%|#################1                    | 9/20 [00:37<00:44,  4.04s/it][I 2023-11-09 13:22:06,384] Trial 48 finished with value: 0.15460389987888712 and parameters: {'lambda_l1': 9.672198533432622e-07, 'lambda_l2': 0.002999047787827506}. Best is trial 48 with value: 0.15460389987888712.\n",
      "regularization_factors, val_score: 0.154604:  45%|#################1                    | 9/20 [00:37<00:44,  4.04s/it]"
     ]
    },
    {
     "name": "stdout",
     "output_type": "stream",
     "text": [
      "Early stopping, best iteration is:\n",
      "[169]\tcv_agg's l2: 0.154604 + 0.0239959\n",
      "[100]\tcv_agg's l2: 0.156914 + 0.0248998\n",
      "[200]\tcv_agg's l2: 0.154441 + 0.02367\n"
     ]
    },
    {
     "name": "stderr",
     "output_type": "stream",
     "text": [
      "regularization_factors, val_score: 0.153851:  50%|##################5                  | 10/20 [00:41<00:38,  3.85s/it][I 2023-11-09 13:22:09,816] Trial 49 finished with value: 0.15385073635082183 and parameters: {'lambda_l1': 1.197185430788182e-06, 'lambda_l2': 0.0032710727017031807}. Best is trial 49 with value: 0.15385073635082183.\n",
      "regularization_factors, val_score: 0.153851:  50%|##################5                  | 10/20 [00:41<00:38,  3.85s/it]"
     ]
    },
    {
     "name": "stdout",
     "output_type": "stream",
     "text": [
      "Early stopping, best iteration is:\n",
      "[170]\tcv_agg's l2: 0.153851 + 0.0231274\n",
      "[100]\tcv_agg's l2: 0.157615 + 0.0251021\n",
      "[200]\tcv_agg's l2: 0.155358 + 0.0260539\n"
     ]
    },
    {
     "name": "stderr",
     "output_type": "stream",
     "text": [
      "regularization_factors, val_score: 0.153851:  55%|####################3                | 11/20 [00:44<00:33,  3.71s/it][I 2023-11-09 13:22:13,208] Trial 50 finished with value: 0.15483748395149183 and parameters: {'lambda_l1': 2.6209591323998576e-07, 'lambda_l2': 0.011479051575928486}. Best is trial 49 with value: 0.15385073635082183.\n",
      "regularization_factors, val_score: 0.153851:  55%|####################3                | 11/20 [00:44<00:33,  3.71s/it]"
     ]
    },
    {
     "name": "stdout",
     "output_type": "stream",
     "text": [
      "Early stopping, best iteration is:\n",
      "[170]\tcv_agg's l2: 0.153851 + 0.0231274\n",
      "[100]\tcv_agg's l2: 0.158662 + 0.0251735\n",
      "[200]\tcv_agg's l2: 0.157074 + 0.0260517\n"
     ]
    },
    {
     "name": "stderr",
     "output_type": "stream",
     "text": [
      "regularization_factors, val_score: 0.153851:  60%|######################2              | 12/20 [00:48<00:28,  3.58s/it][I 2023-11-09 13:22:16,500] Trial 51 finished with value: 0.1575506162511681 and parameters: {'lambda_l1': 2.3584454618794038e-07, 'lambda_l2': 0.014494167956843516}. Best is trial 49 with value: 0.15385073635082183.\n",
      "regularization_factors, val_score: 0.153851:  60%|######################2              | 12/20 [00:48<00:28,  3.58s/it]"
     ]
    },
    {
     "name": "stdout",
     "output_type": "stream",
     "text": [
      "Early stopping, best iteration is:\n",
      "[170]\tcv_agg's l2: 0.153851 + 0.0231274\n",
      "[100]\tcv_agg's l2: 0.157814 + 0.02618\n",
      "[200]\tcv_agg's l2: 0.155145 + 0.025286\n"
     ]
    },
    {
     "name": "stderr",
     "output_type": "stream",
     "text": [
      "regularization_factors, val_score: 0.153851:  65%|########################             | 13/20 [00:51<00:24,  3.52s/it][I 2023-11-09 13:22:19,865] Trial 52 finished with value: 0.1549904846907052 and parameters: {'lambda_l1': 2.2156418640880743e-07, 'lambda_l2': 0.006939067194035014}. Best is trial 49 with value: 0.15385073635082183.\n",
      "regularization_factors, val_score: 0.153851:  65%|########################             | 13/20 [00:51<00:24,  3.52s/it]"
     ]
    },
    {
     "name": "stdout",
     "output_type": "stream",
     "text": [
      "Early stopping, best iteration is:\n",
      "[170]\tcv_agg's l2: 0.153851 + 0.0231274\n",
      "[100]\tcv_agg's l2: 0.157102 + 0.026616\n",
      "[200]\tcv_agg's l2: 0.153996 + 0.0254625\n",
      "[300]\tcv_agg's l2: 0.153654 + 0.0248673\n"
     ]
    },
    {
     "name": "stderr",
     "output_type": "stream",
     "text": [
      "regularization_factors, val_score: 0.153364:  70%|#########################9           | 14/20 [00:56<00:23,  3.84s/it][I 2023-11-09 13:22:24,436] Trial 53 finished with value: 0.15336402252647946 and parameters: {'lambda_l1': 2.736401190607217e-07, 'lambda_l2': 0.010739934125655194}. Best is trial 53 with value: 0.15336402252647946.\n",
      "regularization_factors, val_score: 0.153364:  70%|#########################9           | 14/20 [00:56<00:23,  3.84s/it]"
     ]
    },
    {
     "name": "stdout",
     "output_type": "stream",
     "text": [
      "Early stopping, best iteration is:\n",
      "[267]\tcv_agg's l2: 0.153364 + 0.0249587\n",
      "[100]\tcv_agg's l2: 0.157345 + 0.0262849\n",
      "[200]\tcv_agg's l2: 0.153743 + 0.0260242\n",
      "[300]\tcv_agg's l2: 0.15375 + 0.0253978\n"
     ]
    },
    {
     "name": "stderr",
     "output_type": "stream",
     "text": [
      "regularization_factors, val_score: 0.153065:  75%|###########################7         | 15/20 [01:00<00:19,  3.94s/it][I 2023-11-09 13:22:28,613] Trial 54 finished with value: 0.15306495745781468 and parameters: {'lambda_l1': 1.9286929226245692e-07, 'lambda_l2': 0.010301035031450582}. Best is trial 54 with value: 0.15306495745781468.\n",
      "regularization_factors, val_score: 0.153065:  75%|###########################7         | 15/20 [01:00<00:19,  3.94s/it]"
     ]
    },
    {
     "name": "stdout",
     "output_type": "stream",
     "text": [
      "Early stopping, best iteration is:\n",
      "[268]\tcv_agg's l2: 0.153065 + 0.0254276\n",
      "[100]\tcv_agg's l2: 0.157063 + 0.024789\n",
      "[200]\tcv_agg's l2: 0.154019 + 0.0233559\n",
      "[300]\tcv_agg's l2: 0.154416 + 0.0231654\n"
     ]
    },
    {
     "name": "stderr",
     "output_type": "stream",
     "text": [
      "regularization_factors, val_score: 0.153065:  80%|#############################6       | 16/20 [01:04<00:16,  4.17s/it][I 2023-11-09 13:22:33,319] Trial 55 finished with value: 0.15424070824731248 and parameters: {'lambda_l1': 4.819856055667734e-07, 'lambda_l2': 0.008525053728574044}. Best is trial 54 with value: 0.15306495745781468.\n",
      "regularization_factors, val_score: 0.153065:  80%|#############################6       | 16/20 [01:04<00:16,  4.17s/it]"
     ]
    },
    {
     "name": "stdout",
     "output_type": "stream",
     "text": [
      "Early stopping, best iteration is:\n",
      "[268]\tcv_agg's l2: 0.153065 + 0.0254276\n",
      "[100]\tcv_agg's l2: 0.156913 + 0.0248996\n",
      "[200]\tcv_agg's l2: 0.15444 + 0.0236698\n",
      "[300]\tcv_agg's l2: 0.154982 + 0.0237404\n"
     ]
    },
    {
     "name": "stderr",
     "output_type": "stream",
     "text": [
      "regularization_factors, val_score: 0.153065:  85%|###############################4     | 17/20 [01:10<00:13,  4.49s/it][I 2023-11-09 13:22:38,550] Trial 56 finished with value: 0.1548285736329809 and parameters: {'lambda_l1': 5.919682558113992e-07, 'lambda_l2': 0.003838440987949619}. Best is trial 54 with value: 0.15306495745781468.\n",
      "regularization_factors, val_score: 0.153065:  85%|###############################4     | 17/20 [01:10<00:13,  4.49s/it]"
     ]
    },
    {
     "name": "stdout",
     "output_type": "stream",
     "text": [
      "Early stopping, best iteration is:\n",
      "[268]\tcv_agg's l2: 0.153065 + 0.0254276\n",
      "[100]\tcv_agg's l2: 0.157204 + 0.0251899\n",
      "[200]\tcv_agg's l2: 0.155502 + 0.024379\n",
      "[300]\tcv_agg's l2: 0.156619 + 0.0246523\n"
     ]
    },
    {
     "name": "stderr",
     "output_type": "stream",
     "text": [
      "regularization_factors, val_score: 0.153065:  90%|#################################3   | 18/20 [01:15<00:09,  4.78s/it][I 2023-11-09 13:22:44,016] Trial 57 finished with value: 0.15621050873163872 and parameters: {'lambda_l1': 1.0501105967356126e-06, 'lambda_l2': 0.0028865056211427945}. Best is trial 54 with value: 0.15306495745781468.\n",
      "regularization_factors, val_score: 0.153065:  90%|#################################3   | 18/20 [01:15<00:09,  4.78s/it]"
     ]
    },
    {
     "name": "stdout",
     "output_type": "stream",
     "text": [
      "Early stopping, best iteration is:\n",
      "[268]\tcv_agg's l2: 0.153065 + 0.0254276\n",
      "[100]\tcv_agg's l2: 0.159495 + 0.025907\n",
      "[200]\tcv_agg's l2: 0.15676 + 0.0250294\n",
      "[300]\tcv_agg's l2: 0.157552 + 0.0243304\n"
     ]
    },
    {
     "name": "stderr",
     "output_type": "stream",
     "text": [
      "regularization_factors, val_score: 0.153065:  95%|###################################1 | 19/20 [01:21<00:05,  5.17s/it][I 2023-11-09 13:22:50,099] Trial 58 finished with value: 0.15755029136601567 and parameters: {'lambda_l1': 1.0588393662216886e-06, 'lambda_l2': 0.0020728853725421764}. Best is trial 54 with value: 0.15306495745781468.\n",
      "regularization_factors, val_score: 0.153065:  95%|###################################1 | 19/20 [01:21<00:05,  5.17s/it]"
     ]
    },
    {
     "name": "stdout",
     "output_type": "stream",
     "text": [
      "Early stopping, best iteration is:\n",
      "[268]\tcv_agg's l2: 0.153065 + 0.0254276\n",
      "[100]\tcv_agg's l2: 0.159304 + 0.0222612\n",
      "[200]\tcv_agg's l2: 0.15641 + 0.0225723\n",
      "[300]\tcv_agg's l2: 0.156346 + 0.0223341\n"
     ]
    },
    {
     "name": "stderr",
     "output_type": "stream",
     "text": [
      "regularization_factors, val_score: 0.153065: 100%|#####################################| 20/20 [01:27<00:00,  5.49s/it][I 2023-11-09 13:22:56,335] Trial 59 finished with value: 0.1557991518877883 and parameters: {'lambda_l1': 1.5731559916033747e-08, 'lambda_l2': 0.20091857056083207}. Best is trial 54 with value: 0.15306495745781468.\n",
      "regularization_factors, val_score: 0.153065: 100%|#####################################| 20/20 [01:27<00:00,  4.40s/it]\n"
     ]
    },
    {
     "name": "stdout",
     "output_type": "stream",
     "text": [
      "Early stopping, best iteration is:\n",
      "[268]\tcv_agg's l2: 0.153065 + 0.0254276\n"
     ]
    },
    {
     "name": "stderr",
     "output_type": "stream",
     "text": [
      "min_data_in_leaf, val_score: 0.153065:   0%|                                                     | 0/5 [00:00<?, ?it/s]"
     ]
    },
    {
     "name": "stdout",
     "output_type": "stream",
     "text": [
      "[100]\tcv_agg's l2: 0.146206 + 0.0190625\n",
      "[200]\tcv_agg's l2: 0.143601 + 0.0189911\n"
     ]
    },
    {
     "name": "stderr",
     "output_type": "stream",
     "text": [
      "min_data_in_leaf, val_score: 0.143426:  20%|#########                                    | 1/5 [00:05<00:20,  5.04s/it][I 2023-11-09 13:23:01,379] Trial 60 finished with value: 0.14342609820999605 and parameters: {'min_child_samples': 5}. Best is trial 60 with value: 0.14342609820999605.\n",
      "min_data_in_leaf, val_score: 0.143426:  20%|#########                                    | 1/5 [00:05<00:20,  5.04s/it]"
     ]
    },
    {
     "name": "stdout",
     "output_type": "stream",
     "text": [
      "[300]\tcv_agg's l2: 0.143717 + 0.0192367\n",
      "Early stopping, best iteration is:\n",
      "[205]\tcv_agg's l2: 0.143426 + 0.0190048\n",
      "[100]\tcv_agg's l2: 0.143467 + 0.0192925\n",
      "[200]\tcv_agg's l2: 0.141354 + 0.0175794\n",
      "[300]\tcv_agg's l2: 0.14057 + 0.017952\n",
      "[400]\tcv_agg's l2: 0.140361 + 0.0184519\n"
     ]
    },
    {
     "name": "stderr",
     "output_type": "stream",
     "text": [
      "min_data_in_leaf, val_score: 0.140313:  40%|##################                           | 2/5 [00:12<00:19,  6.51s/it][I 2023-11-09 13:23:08,926] Trial 61 finished with value: 0.14031309274405776 and parameters: {'min_child_samples': 10}. Best is trial 61 with value: 0.14031309274405776.\n",
      "min_data_in_leaf, val_score: 0.140313:  40%|##################                           | 2/5 [00:12<00:19,  6.51s/it]"
     ]
    },
    {
     "name": "stdout",
     "output_type": "stream",
     "text": [
      "Early stopping, best iteration is:\n",
      "[392]\tcv_agg's l2: 0.140313 + 0.018416\n",
      "[100]\tcv_agg's l2: 0.177162 + 0.0280968\n",
      "[200]\tcv_agg's l2: 0.172009 + 0.0255503\n",
      "[300]\tcv_agg's l2: 0.170474 + 0.0247546\n",
      "[400]\tcv_agg's l2: 0.171146 + 0.0248024\n"
     ]
    },
    {
     "name": "stderr",
     "output_type": "stream",
     "text": [
      "min_data_in_leaf, val_score: 0.140313:  60%|###########################                  | 3/5 [00:21<00:14,  7.46s/it][I 2023-11-09 13:23:17,522] Trial 62 finished with value: 0.17110816203851137 and parameters: {'min_child_samples': 25}. Best is trial 61 with value: 0.14031309274405776.\n",
      "min_data_in_leaf, val_score: 0.140313:  60%|###########################                  | 3/5 [00:21<00:14,  7.46s/it]"
     ]
    },
    {
     "name": "stdout",
     "output_type": "stream",
     "text": [
      "Early stopping, best iteration is:\n",
      "[392]\tcv_agg's l2: 0.140313 + 0.018416\n",
      "[100]\tcv_agg's l2: 0.248062 + 0.0252905\n",
      "[200]\tcv_agg's l2: 0.232386 + 0.0331225\n",
      "[300]\tcv_agg's l2: 0.226889 + 0.037634\n",
      "[400]\tcv_agg's l2: 0.226297 + 0.0394247\n"
     ]
    },
    {
     "name": "stderr",
     "output_type": "stream",
     "text": [
      "min_data_in_leaf, val_score: 0.140313:  80%|####################################         | 4/5 [00:24<00:05,  5.80s/it][I 2023-11-09 13:23:20,767] Trial 63 finished with value: 0.22679599204192505 and parameters: {'min_child_samples': 50}. Best is trial 61 with value: 0.14031309274405776.\n",
      "min_data_in_leaf, val_score: 0.140313:  80%|####################################         | 4/5 [00:24<00:05,  5.80s/it]"
     ]
    },
    {
     "name": "stdout",
     "output_type": "stream",
     "text": [
      "Early stopping, best iteration is:\n",
      "[392]\tcv_agg's l2: 0.140313 + 0.018416\n",
      "[100]\tcv_agg's l2: 0.749389 + 0.119247\n",
      "[200]\tcv_agg's l2: 0.723789 + 0.127455\n",
      "[300]\tcv_agg's l2: 0.71745 + 0.130254\n",
      "[400]\tcv_agg's l2: 0.710595 + 0.13275\n"
     ]
    },
    {
     "name": "stderr",
     "output_type": "stream",
     "text": [
      "min_data_in_leaf, val_score: 0.140313: 100%|#############################################| 5/5 [00:26<00:00,  4.43s/it][I 2023-11-09 13:23:22,770] Trial 64 finished with value: 0.7116427579026947 and parameters: {'min_child_samples': 100}. Best is trial 61 with value: 0.14031309274405776.\n",
      "min_data_in_leaf, val_score: 0.140313: 100%|#############################################| 5/5 [00:26<00:00,  5.29s/it]"
     ]
    },
    {
     "name": "stdout",
     "output_type": "stream",
     "text": [
      "Early stopping, best iteration is:\n",
      "[392]\tcv_agg's l2: 0.140313 + 0.018416\n"
     ]
    },
    {
     "name": "stderr",
     "output_type": "stream",
     "text": [
      "\n"
     ]
    }
   ],
   "source": [
    "import optuna.integration.lightgbm as lgb\n",
    "from lightgbm import early_stopping, log_evaluation\n",
    "from sklearn.model_selection import KFold\n",
    "from sklearn.model_selection import RepeatedKFold\n",
    "\n",
    "\n",
    "lgb_train = lgb.Dataset(X_train, y_train)\n",
    "\n",
    "params = {\n",
    "    \"boosting_type\": \"gbdt\",\n",
    "    \"objective\": \"regression\",\n",
    "    \"metric\": \"l2\",\n",
    "    \"verbosity\": -1,\n",
    "}\n",
    "\n",
    "tuner = lgb.LightGBMTunerCV(\n",
    "    params,\n",
    "    lgb_train,\n",
    "    folds=KFold(n_splits=5),\n",
    "    num_boost_round=10000,\n",
    "    callbacks=[early_stopping(100), log_evaluation(100)],\n",
    ")\n",
    "\n",
    "tuner.run()"
   ]
  },
  {
   "cell_type": "code",
   "execution_count": 23,
   "id": "8406fc3e",
   "metadata": {},
   "outputs": [
    {
     "name": "stdout",
     "output_type": "stream",
     "text": [
      "Best score: 0.14031309274405776\n",
      "Params: \n",
      "    boosting_type: gbdt\n",
      "    objective: regression\n",
      "    metric: l2\n",
      "    verbosity: -1\n",
      "    feature_pre_filter: False\n",
      "    lambda_l1: 1.9286929226245692e-07\n",
      "    lambda_l2: 0.010301035031450582\n",
      "    num_leaves: 24\n",
      "    feature_fraction: 0.48000000000000004\n",
      "    bagging_fraction: 0.9856591014879664\n",
      "    bagging_freq: 1\n",
      "    min_child_samples: 10\n"
     ]
    }
   ],
   "source": [
    "print(f\"Best score: {tuner.best_score}\")\n",
    "best_params = tuner.best_params\n",
    "print(\"Params: \")\n",
    "for key, value in best_params.items():\n",
    "    print(\"    {}: {}\".format(key, value))"
   ]
  },
  {
   "cell_type": "code",
   "execution_count": 24,
   "id": "880974ce",
   "metadata": {},
   "outputs": [],
   "source": [
    "import lightgbm as lgb\n",
    "\n",
    "lgb_tuned = lgb.train(\n",
    "    best_params,\n",
    "    lgb_train,\n",
    "    num_boost_round=10000,\n",
    ")"
   ]
  },
  {
   "cell_type": "code",
   "execution_count": 25,
   "id": "53d87b2c",
   "metadata": {},
   "outputs": [
    {
     "name": "stdout",
     "output_type": "stream",
     "text": [
      "RMSE train: 0.00\n",
      "RMSE test: 0.47\n",
      "MAE test: 0.34\n",
      "\n"
     ]
    }
   ],
   "source": [
    "rmse, mae = assess_regression_model(lgb_tuned, X_train, X_test, y_train, y_test)"
   ]
  },
  {
   "cell_type": "code",
   "execution_count": 26,
   "id": "843255bc",
   "metadata": {},
   "outputs": [],
   "source": [
    "results.loc[1] = [\n",
    "    \"chronological\",\n",
    "    \"Optuna\",\n",
    "    \"expanded\",\n",
    "    rmse,\n",
    "    mae,\n",
    "]"
   ]
  },
  {
   "cell_type": "markdown",
   "id": "1c9ef70d",
   "metadata": {},
   "source": [
    "###### MAE by level"
   ]
  },
  {
   "cell_type": "code",
   "execution_count": 27,
   "id": "eab77fc8",
   "metadata": {},
   "outputs": [
    {
     "data": {
      "image/png": "[encoded data removed]",
      "text/plain": [
       "<Figure size 1440x576 with 1 Axes>"
      ]
     },
     "metadata": {
      "needs_background": "light"
     },
     "output_type": "display_data"
    }
   ],
   "source": [
    "plot_mae_by_level(\n",
    "    y_test,\n",
    "    y_pred_test,\n",
    "    title=\"MAE by level for tuned LightGBM with expanded features and chronological split\",\n",
    ")"
   ]
  },
  {
   "cell_type": "code",
   "execution_count": 28,
   "id": "778f84c5",
   "metadata": {},
   "outputs": [
    {
     "name": "stdout",
     "output_type": "stream",
     "text": [
      "Default:\n",
      "RMSE: 0.47\n",
      "\n",
      "Round type: 0.5\n",
      "RMSE: 0.52\n",
      "\n",
      "Round type: 0.33\n",
      "RMSE: 0.52\n",
      "\n",
      "Round type: 0.45\n",
      "RMSE: 0.51\n",
      "\n"
     ]
    }
   ],
   "source": [
    "predict = lgb_tuned.predict(X_test)\n",
    "check_round_predictions([0.5, 0.33, 0.45], y_test, predict)"
   ]
  },
  {
   "cell_type": "code",
   "execution_count": 29,
   "id": "7823441a",
   "metadata": {},
   "outputs": [
    {
     "data": {
      "image/png": "[encoded data removed]",
      "text/plain": [
       "<Figure size 720x720 with 2 Axes>"
      ]
     },
     "metadata": {
      "needs_background": "light"
     },
     "output_type": "display_data"
    }
   ],
   "source": [
    "plot_confusion_matrix(\n",
    "    predict,\n",
    "    y_test,\n",
    "    title=\"Confusion matrix for tuned LightGBM with\\nexpanded features and chronological split\",\n",
    ")"
   ]
  },
  {
   "cell_type": "markdown",
   "id": "35088cc9",
   "metadata": {},
   "source": [
    "## Random split"
   ]
  },
  {
   "cell_type": "code",
   "execution_count": 30,
   "id": "692c4056",
   "metadata": {},
   "outputs": [
    {
     "name": "stdout",
     "output_type": "stream",
     "text": [
      "[LightGBM] [Warning] Auto-choosing col-wise multi-threading, the overhead of testing was 0.000397 seconds.\n",
      "You can set `force_col_wise=true` to remove the overhead.\n",
      "[LightGBM] [Info] Total Bins 392\n",
      "[LightGBM] [Info] Number of data points in the train set: 904, number of used features: 13\n",
      "[LightGBM] [Info] Start training from score 7.162611\n",
      "Training until validation scores don't improve for 5 rounds\n",
      "Early stopping, best iteration is:\n",
      "[88]\tvalid_0's l1: 0.267273\tvalid_0's l2: 0.148111\n"
     ]
    }
   ],
   "source": [
    "import lightgbm as lgb\n",
    "from sklearn.metrics import mean_squared_error\n",
    "\n",
    "lgb_train = lgb.Dataset(X_train_random_split, y_train_random_split)\n",
    "lgb_eval = lgb.Dataset(X_test_random_split, y_test_random_split, reference=lgb_train)\n",
    "\n",
    "params = {\n",
    "    \"boosting_type\": \"gbdt\",\n",
    "    \"objective\": \"regression\",\n",
    "    \"metric\": {\"l2\", \"l1\"},\n",
    "}\n",
    "\n",
    "gbm = lgb.train(\n",
    "    params,\n",
    "    lgb_train,\n",
    "    num_boost_round=100,\n",
    "    valid_sets=lgb_eval,\n",
    "    callbacks=[lgb.early_stopping(stopping_rounds=5)],\n",
    ")"
   ]
  },
  {
   "cell_type": "code",
   "execution_count": 31,
   "id": "24879a40",
   "metadata": {},
   "outputs": [],
   "source": [
    "y_pred_train = gbm.predict(X_train_random_split, num_iteration=gbm.best_iteration)\n",
    "y_pred_test = gbm.predict(X_test_random_split, num_iteration=gbm.best_iteration)"
   ]
  },
  {
   "cell_type": "code",
   "execution_count": 32,
   "id": "b5a760c1",
   "metadata": {},
   "outputs": [
    {
     "name": "stdout",
     "output_type": "stream",
     "text": [
      "RMSE: 0.38\n",
      "MAE: 0.27\n"
     ]
    }
   ],
   "source": [
    "from sklearn.metrics import mean_squared_error, mean_absolute_error\n",
    "\n",
    "\n",
    "rmse = mean_squared_error(y_test_random_split, y_pred_test, squared=False)\n",
    "mae = mean_absolute_error(y_test_random_split, y_pred_test)\n",
    "\n",
    "print(f\"RMSE: {rmse:.2f}\")\n",
    "print(f\"MAE: {mae:.2f}\")"
   ]
  },
  {
   "cell_type": "code",
   "execution_count": 33,
   "id": "a52e182e",
   "metadata": {},
   "outputs": [],
   "source": [
    "results.loc[2] = [\"random\", \"default\", \"expanded\", rmse, mae]"
   ]
  },
  {
   "cell_type": "markdown",
   "id": "17a44a91",
   "metadata": {},
   "source": [
    "###### MAE by level"
   ]
  },
  {
   "cell_type": "code",
   "execution_count": 34,
   "id": "180f64e4",
   "metadata": {},
   "outputs": [
    {
     "data": {
      "image/png": "[encoded data removed]",
      "text/plain": [
       "<Figure size 1440x576 with 1 Axes>"
      ]
     },
     "metadata": {
      "needs_background": "light"
     },
     "output_type": "display_data"
    }
   ],
   "source": [
    "plot_mae_by_level(\n",
    "    y_test_random_split,\n",
    "    y_pred_test,\n",
    "    title=\"MAE by level for default LightGBM with expanded features and random split\",\n",
    ")"
   ]
  },
  {
   "cell_type": "code",
   "execution_count": 35,
   "id": "b42be07c",
   "metadata": {},
   "outputs": [
    {
     "name": "stdout",
     "output_type": "stream",
     "text": [
      "Default:\n",
      "RMSE: 0.38\n",
      "\n",
      "Round type: 0.5\n",
      "RMSE: 0.39\n",
      "\n",
      "Round type: 0.33\n",
      "RMSE: 0.45\n",
      "\n",
      "Round type: 0.45\n",
      "RMSE: 0.41\n",
      "\n"
     ]
    }
   ],
   "source": [
    "check_round_predictions([0.5, 0.33, 0.45], y_test_random_split, y_pred_test)"
   ]
  },
  {
   "cell_type": "code",
   "execution_count": 36,
   "id": "79174d21",
   "metadata": {},
   "outputs": [
    {
     "data": {
      "image/png": "[encoded data removed]",
      "text/plain": [
       "<Figure size 720x720 with 2 Axes>"
      ]
     },
     "metadata": {
      "needs_background": "light"
     },
     "output_type": "display_data"
    }
   ],
   "source": [
    "plot_confusion_matrix(\n",
    "    y_pred_test,\n",
    "    y_test_random_split,\n",
    "    title=\"Confusion matrix for default LightGBM with\\nexpanded features and random split\",\n",
    ")"
   ]
  },
  {
   "cell_type": "markdown",
   "id": "79bbd5ec",
   "metadata": {},
   "source": [
    "### Tuning"
   ]
  },
  {
   "cell_type": "code",
   "execution_count": 37,
   "id": "62270e6b",
   "metadata": {
    "scrolled": true
   },
   "outputs": [
    {
     "name": "stderr",
     "output_type": "stream",
     "text": [
      "[I 2023-11-09 13:23:54,355] A new study created in memory with name: no-name-72373526-bd5a-4b8c-9718-4926521f372b\n",
      "feature_fraction, val_score: inf:   0%|                                                          | 0/7 [00:00<?, ?it/s]"
     ]
    },
    {
     "name": "stdout",
     "output_type": "stream",
     "text": [
      "Training until validation scores don't improve for 100 rounds\n",
      "[100]\tcv_agg's l2: 0.181804 + 0.0415505\n",
      "[200]\tcv_agg's l2: 0.178918 + 0.0376834\n"
     ]
    },
    {
     "name": "stderr",
     "output_type": "stream",
     "text": [
      "feature_fraction, val_score: 0.178086:  14%|######4                                      | 1/7 [00:03<00:20,  3.42s/it][I 2023-11-09 13:23:57,782] Trial 0 finished with value: 0.17808574083281298 and parameters: {'feature_fraction': 0.8999999999999999}. Best is trial 0 with value: 0.17808574083281298.\n",
      "feature_fraction, val_score: 0.178086:  14%|######4                                      | 1/7 [00:03<00:20,  3.42s/it]"
     ]
    },
    {
     "name": "stdout",
     "output_type": "stream",
     "text": [
      "Early stopping, best iteration is:\n",
      "[163]\tcv_agg's l2: 0.178086 + 0.0380585\n",
      "[100]\tcv_agg's l2: 0.172878 + 0.0366701\n",
      "[200]\tcv_agg's l2: 0.172211 + 0.0329258\n"
     ]
    },
    {
     "name": "stderr",
     "output_type": "stream",
     "text": [
      "feature_fraction, val_score: 0.171837:  29%|############8                                | 2/7 [00:06<00:16,  3.35s/it][I 2023-11-09 13:24:01,075] Trial 1 finished with value: 0.17183688341210007 and parameters: {'feature_fraction': 0.6}. Best is trial 1 with value: 0.17183688341210007.\n",
      "feature_fraction, val_score: 0.171837:  29%|############8                                | 2/7 [00:06<00:16,  3.35s/it]"
     ]
    },
    {
     "name": "stdout",
     "output_type": "stream",
     "text": [
      "Early stopping, best iteration is:\n",
      "[166]\tcv_agg's l2: 0.171837 + 0.0338314\n",
      "[100]\tcv_agg's l2: 0.175717 + 0.0377436\n",
      "[200]\tcv_agg's l2: 0.172587 + 0.0337337\n"
     ]
    },
    {
     "name": "stderr",
     "output_type": "stream",
     "text": [
      "feature_fraction, val_score: 0.171837:  43%|###################2                         | 3/7 [00:10<00:13,  3.46s/it][I 2023-11-09 13:24:04,668] Trial 2 finished with value: 0.17337171667911894 and parameters: {'feature_fraction': 0.7}. Best is trial 1 with value: 0.17183688341210007.\n",
      "feature_fraction, val_score: 0.171837:  43%|###################2                         | 3/7 [00:10<00:13,  3.46s/it]"
     ]
    },
    {
     "name": "stdout",
     "output_type": "stream",
     "text": [
      "Early stopping, best iteration is:\n",
      "[166]\tcv_agg's l2: 0.171837 + 0.0338314\n",
      "[100]\tcv_agg's l2: 0.169475 + 0.0314587\n",
      "[200]\tcv_agg's l2: 0.167424 + 0.0288147\n"
     ]
    },
    {
     "name": "stderr",
     "output_type": "stream",
     "text": [
      "feature_fraction, val_score: 0.167003:  57%|#########################7                   | 4/7 [00:13<00:10,  3.36s/it][I 2023-11-09 13:24:07,885] Trial 3 finished with value: 0.16700294302501034 and parameters: {'feature_fraction': 0.5}. Best is trial 3 with value: 0.16700294302501034.\n",
      "feature_fraction, val_score: 0.167003:  57%|#########################7                   | 4/7 [00:13<00:10,  3.36s/it]"
     ]
    },
    {
     "name": "stdout",
     "output_type": "stream",
     "text": [
      "Early stopping, best iteration is:\n",
      "[135]\tcv_agg's l2: 0.167003 + 0.0293517\n",
      "[100]\tcv_agg's l2: 0.172664 + 0.0261471\n",
      "[200]\tcv_agg's l2: 0.168477 + 0.0223003\n"
     ]
    },
    {
     "name": "stderr",
     "output_type": "stream",
     "text": [
      "feature_fraction, val_score: 0.167003:  71%|################################1            | 5/7 [00:16<00:06,  3.28s/it][I 2023-11-09 13:24:11,020] Trial 4 finished with value: 0.17021104684249985 and parameters: {'feature_fraction': 0.4}. Best is trial 3 with value: 0.16700294302501034.\n",
      "feature_fraction, val_score: 0.167003:  71%|################################1            | 5/7 [00:16<00:06,  3.28s/it]"
     ]
    },
    {
     "name": "stdout",
     "output_type": "stream",
     "text": [
      "Early stopping, best iteration is:\n",
      "[135]\tcv_agg's l2: 0.167003 + 0.0293517\n",
      "[100]\tcv_agg's l2: 0.182666 + 0.0393175\n",
      "[200]\tcv_agg's l2: 0.18207 + 0.0365626\n"
     ]
    },
    {
     "name": "stderr",
     "output_type": "stream",
     "text": [
      "feature_fraction, val_score: 0.167003:  86%|######################################5      | 6/7 [00:19<00:03,  3.27s/it][I 2023-11-09 13:24:14,282] Trial 5 finished with value: 0.18185630316354698 and parameters: {'feature_fraction': 0.8}. Best is trial 3 with value: 0.16700294302501034.\n",
      "feature_fraction, val_score: 0.167003:  86%|######################################5      | 6/7 [00:19<00:03,  3.27s/it]"
     ]
    },
    {
     "name": "stdout",
     "output_type": "stream",
     "text": [
      "Early stopping, best iteration is:\n",
      "[135]\tcv_agg's l2: 0.167003 + 0.0293517\n",
      "[100]\tcv_agg's l2: 0.194279 + 0.0441132\n",
      "[200]\tcv_agg's l2: 0.19062 + 0.0404321\n"
     ]
    },
    {
     "name": "stderr",
     "output_type": "stream",
     "text": [
      "feature_fraction, val_score: 0.167003: 100%|#############################################| 7/7 [00:23<00:00,  3.28s/it][I 2023-11-09 13:24:17,559] Trial 6 finished with value: 0.1917614391269613 and parameters: {'feature_fraction': 1.0}. Best is trial 3 with value: 0.16700294302501034.\n",
      "feature_fraction, val_score: 0.167003: 100%|#############################################| 7/7 [00:23<00:00,  3.31s/it]\n"
     ]
    },
    {
     "name": "stdout",
     "output_type": "stream",
     "text": [
      "Early stopping, best iteration is:\n",
      "[135]\tcv_agg's l2: 0.167003 + 0.0293517\n"
     ]
    },
    {
     "name": "stderr",
     "output_type": "stream",
     "text": [
      "num_leaves, val_score: 0.167003:   0%|                                                          | 0/20 [00:00<?, ?it/s]"
     ]
    },
    {
     "name": "stdout",
     "output_type": "stream",
     "text": [
      "[100]\tcv_agg's l2: 0.169475 + 0.0314587\n",
      "[200]\tcv_agg's l2: 0.167424 + 0.0288147\n"
     ]
    },
    {
     "name": "stderr",
     "output_type": "stream",
     "text": [
      "num_leaves, val_score: 0.167003:   5%|##5                                               | 1/20 [00:03<00:57,  3.03s/it][I 2023-11-09 13:24:20,594] Trial 7 finished with value: 0.16700294302501034 and parameters: {'num_leaves': 49}. Best is trial 7 with value: 0.16700294302501034.\n",
      "num_leaves, val_score: 0.167003:   5%|##5                                               | 1/20 [00:03<00:57,  3.03s/it]"
     ]
    },
    {
     "name": "stdout",
     "output_type": "stream",
     "text": [
      "Early stopping, best iteration is:\n",
      "[135]\tcv_agg's l2: 0.167003 + 0.0293517\n",
      "[100]\tcv_agg's l2: 0.169475 + 0.0314587\n",
      "[200]\tcv_agg's l2: 0.167424 + 0.0288147\n"
     ]
    },
    {
     "name": "stderr",
     "output_type": "stream",
     "text": [
      "num_leaves, val_score: 0.167003:  10%|#####                                             | 2/20 [00:06<00:55,  3.10s/it][I 2023-11-09 13:24:23,737] Trial 8 finished with value: 0.16700294302501034 and parameters: {'num_leaves': 180}. Best is trial 7 with value: 0.16700294302501034.\n",
      "num_leaves, val_score: 0.167003:  10%|#####                                             | 2/20 [00:06<00:55,  3.10s/it]"
     ]
    },
    {
     "name": "stdout",
     "output_type": "stream",
     "text": [
      "Early stopping, best iteration is:\n",
      "[135]\tcv_agg's l2: 0.167003 + 0.0293517\n",
      "[100]\tcv_agg's l2: 0.169475 + 0.0314587\n",
      "[200]\tcv_agg's l2: 0.167424 + 0.0288147\n"
     ]
    },
    {
     "name": "stderr",
     "output_type": "stream",
     "text": [
      "num_leaves, val_score: 0.167003:  15%|#######5                                          | 3/20 [00:09<00:53,  3.17s/it][I 2023-11-09 13:24:26,988] Trial 9 finished with value: 0.16700294302501034 and parameters: {'num_leaves': 84}. Best is trial 7 with value: 0.16700294302501034.\n",
      "num_leaves, val_score: 0.167003:  15%|#######5                                          | 3/20 [00:09<00:53,  3.17s/it]"
     ]
    },
    {
     "name": "stdout",
     "output_type": "stream",
     "text": [
      "Early stopping, best iteration is:\n",
      "[135]\tcv_agg's l2: 0.167003 + 0.0293517\n",
      "[100]\tcv_agg's l2: 0.169475 + 0.0314587\n",
      "[200]\tcv_agg's l2: 0.167424 + 0.0288147\n"
     ]
    },
    {
     "name": "stderr",
     "output_type": "stream",
     "text": [
      "num_leaves, val_score: 0.167003:  20%|##########                                        | 4/20 [00:12<00:49,  3.10s/it][I 2023-11-09 13:24:29,975] Trial 10 finished with value: 0.16700294302501034 and parameters: {'num_leaves': 254}. Best is trial 7 with value: 0.16700294302501034.\n",
      "num_leaves, val_score: 0.167003:  20%|##########                                        | 4/20 [00:12<00:49,  3.10s/it]"
     ]
    },
    {
     "name": "stdout",
     "output_type": "stream",
     "text": [
      "Early stopping, best iteration is:\n",
      "[135]\tcv_agg's l2: 0.167003 + 0.0293517\n",
      "[100]\tcv_agg's l2: 0.218836 + 0.0614767\n"
     ]
    },
    {
     "name": "stderr",
     "output_type": "stream",
     "text": [
      "num_leaves, val_score: 0.167003:  25%|############5                                     | 5/20 [00:13<00:33,  2.25s/it][I 2023-11-09 13:24:30,729] Trial 11 finished with value: 0.20602031491521905 and parameters: {'num_leaves': 4}. Best is trial 7 with value: 0.16700294302501034.\n",
      "num_leaves, val_score: 0.167003:  25%|############5                                     | 5/20 [00:13<00:33,  2.25s/it]"
     ]
    },
    {
     "name": "stdout",
     "output_type": "stream",
     "text": [
      "[200]\tcv_agg's l2: 0.192778 + 0.0514396\n",
      "Early stopping, best iteration is:\n",
      "[135]\tcv_agg's l2: 0.167003 + 0.0293517\n",
      "[100]\tcv_agg's l2: 0.169475 + 0.0314587\n",
      "[200]\tcv_agg's l2: 0.167424 + 0.0288147\n"
     ]
    },
    {
     "name": "stderr",
     "output_type": "stream",
     "text": [
      "num_leaves, val_score: 0.167003:  30%|###############                                   | 6/20 [00:16<00:36,  2.64s/it][I 2023-11-09 13:24:34,110] Trial 12 finished with value: 0.16700294302501034 and parameters: {'num_leaves': 49}. Best is trial 7 with value: 0.16700294302501034.\n",
      "num_leaves, val_score: 0.167003:  30%|###############                                   | 6/20 [00:16<00:36,  2.64s/it]"
     ]
    },
    {
     "name": "stdout",
     "output_type": "stream",
     "text": [
      "Early stopping, best iteration is:\n",
      "[135]\tcv_agg's l2: 0.167003 + 0.0293517\n",
      "[100]\tcv_agg's l2: 0.169475 + 0.0314587\n",
      "[200]\tcv_agg's l2: 0.167424 + 0.0288147\n"
     ]
    },
    {
     "name": "stderr",
     "output_type": "stream",
     "text": [
      "num_leaves, val_score: 0.167003:  35%|#################5                                | 7/20 [00:19<00:36,  2.77s/it][I 2023-11-09 13:24:37,162] Trial 13 finished with value: 0.16700294302501034 and parameters: {'num_leaves': 124}. Best is trial 7 with value: 0.16700294302501034.\n",
      "num_leaves, val_score: 0.167003:  35%|#################5                                | 7/20 [00:19<00:36,  2.77s/it]"
     ]
    },
    {
     "name": "stdout",
     "output_type": "stream",
     "text": [
      "Early stopping, best iteration is:\n",
      "[135]\tcv_agg's l2: 0.167003 + 0.0293517\n",
      "[100]\tcv_agg's l2: 0.183973 + 0.0370053\n"
     ]
    },
    {
     "name": "stderr",
     "output_type": "stream",
     "text": [
      "num_leaves, val_score: 0.167003:  40%|####################                              | 8/20 [00:20<00:26,  2.22s/it][I 2023-11-09 13:24:38,211] Trial 14 finished with value: 0.18013058222155076 and parameters: {'num_leaves': 7}. Best is trial 7 with value: 0.16700294302501034.\n",
      "num_leaves, val_score: 0.167003:  40%|####################                              | 8/20 [00:20<00:26,  2.22s/it]"
     ]
    },
    {
     "name": "stdout",
     "output_type": "stream",
     "text": [
      "[200]\tcv_agg's l2: 0.177898 + 0.028999\n",
      "Early stopping, best iteration is:\n",
      "[135]\tcv_agg's l2: 0.167003 + 0.0293517\n",
      "[100]\tcv_agg's l2: 0.169475 + 0.0314587\n",
      "[200]\tcv_agg's l2: 0.167424 + 0.0288147\n"
     ]
    },
    {
     "name": "stderr",
     "output_type": "stream",
     "text": [
      "num_leaves, val_score: 0.167003:  45%|######################5                           | 9/20 [00:24<00:28,  2.62s/it][I 2023-11-09 13:24:41,707] Trial 15 finished with value: 0.16700294302501034 and parameters: {'num_leaves': 156}. Best is trial 7 with value: 0.16700294302501034.\n",
      "num_leaves, val_score: 0.167003:  45%|######################5                           | 9/20 [00:24<00:28,  2.62s/it]"
     ]
    },
    {
     "name": "stdout",
     "output_type": "stream",
     "text": [
      "Early stopping, best iteration is:\n",
      "[135]\tcv_agg's l2: 0.167003 + 0.0293517\n",
      "[100]\tcv_agg's l2: 0.169475 + 0.0314587\n",
      "[200]\tcv_agg's l2: 0.167424 + 0.0288147\n"
     ]
    },
    {
     "name": "stderr",
     "output_type": "stream",
     "text": [
      "num_leaves, val_score: 0.167003:  50%|########################5                        | 10/20 [00:27<00:27,  2.77s/it][I 2023-11-09 13:24:44,821] Trial 16 finished with value: 0.16700294302501034 and parameters: {'num_leaves': 74}. Best is trial 7 with value: 0.16700294302501034.\n",
      "num_leaves, val_score: 0.167003:  50%|########################5                        | 10/20 [00:27<00:27,  2.77s/it]"
     ]
    },
    {
     "name": "stdout",
     "output_type": "stream",
     "text": [
      "Early stopping, best iteration is:\n",
      "[135]\tcv_agg's l2: 0.167003 + 0.0293517\n",
      "[100]\tcv_agg's l2: 0.169475 + 0.0314587\n",
      "[200]\tcv_agg's l2: 0.167424 + 0.0288147\n"
     ]
    },
    {
     "name": "stderr",
     "output_type": "stream",
     "text": [
      "num_leaves, val_score: 0.167003:  55%|##########################9                      | 11/20 [00:30<00:25,  2.89s/it][I 2023-11-09 13:24:47,959] Trial 17 finished with value: 0.16700294302501034 and parameters: {'num_leaves': 214}. Best is trial 7 with value: 0.16700294302501034.\n",
      "num_leaves, val_score: 0.167003:  55%|##########################9                      | 11/20 [00:30<00:25,  2.89s/it]"
     ]
    },
    {
     "name": "stdout",
     "output_type": "stream",
     "text": [
      "Early stopping, best iteration is:\n",
      "[135]\tcv_agg's l2: 0.167003 + 0.0293517\n",
      "[100]\tcv_agg's l2: 0.169475 + 0.0314587\n",
      "[200]\tcv_agg's l2: 0.167424 + 0.0288147\n"
     ]
    },
    {
     "name": "stderr",
     "output_type": "stream",
     "text": [
      "num_leaves, val_score: 0.167003:  60%|#############################4                   | 12/20 [00:33<00:23,  2.93s/it][I 2023-11-09 13:24:50,978] Trial 18 finished with value: 0.16700294302501034 and parameters: {'num_leaves': 111}. Best is trial 7 with value: 0.16700294302501034.\n",
      "num_leaves, val_score: 0.167003:  60%|#############################4                   | 12/20 [00:33<00:23,  2.93s/it]"
     ]
    },
    {
     "name": "stdout",
     "output_type": "stream",
     "text": [
      "Early stopping, best iteration is:\n",
      "[135]\tcv_agg's l2: 0.167003 + 0.0293517\n",
      "[100]\tcv_agg's l2: 0.169475 + 0.0314587\n",
      "[200]\tcv_agg's l2: 0.167424 + 0.0288147\n"
     ]
    },
    {
     "name": "stderr",
     "output_type": "stream",
     "text": [
      "num_leaves, val_score: 0.167003:  65%|###############################8                 | 13/20 [00:36<00:20,  3.00s/it][I 2023-11-09 13:24:54,135] Trial 19 finished with value: 0.16700294302501034 and parameters: {'num_leaves': 48}. Best is trial 7 with value: 0.16700294302501034.\n",
      "num_leaves, val_score: 0.167003:  65%|###############################8                 | 13/20 [00:36<00:20,  3.00s/it]"
     ]
    },
    {
     "name": "stdout",
     "output_type": "stream",
     "text": [
      "Early stopping, best iteration is:\n",
      "[135]\tcv_agg's l2: 0.167003 + 0.0293517\n",
      "[100]\tcv_agg's l2: 0.169475 + 0.0314587\n",
      "[200]\tcv_agg's l2: 0.167424 + 0.0288147\n"
     ]
    },
    {
     "name": "stderr",
     "output_type": "stream",
     "text": [
      "num_leaves, val_score: 0.167003:  70%|##################################3              | 14/20 [00:39<00:17,  3.00s/it][I 2023-11-09 13:24:57,129] Trial 20 finished with value: 0.16700294302501034 and parameters: {'num_leaves': 33}. Best is trial 7 with value: 0.16700294302501034.\n",
      "num_leaves, val_score: 0.167003:  70%|##################################3              | 14/20 [00:39<00:17,  3.00s/it]"
     ]
    },
    {
     "name": "stdout",
     "output_type": "stream",
     "text": [
      "Early stopping, best iteration is:\n",
      "[135]\tcv_agg's l2: 0.167003 + 0.0293517\n",
      "[100]\tcv_agg's l2: 0.169475 + 0.0314587\n",
      "[200]\tcv_agg's l2: 0.167424 + 0.0288147\n"
     ]
    },
    {
     "name": "stderr",
     "output_type": "stream",
     "text": [
      "num_leaves, val_score: 0.167003:  75%|####################################7            | 15/20 [00:42<00:15,  3.08s/it][I 2023-11-09 13:25:00,391] Trial 21 finished with value: 0.16700294302501034 and parameters: {'num_leaves': 169}. Best is trial 7 with value: 0.16700294302501034.\n",
      "num_leaves, val_score: 0.167003:  75%|####################################7            | 15/20 [00:42<00:15,  3.08s/it]"
     ]
    },
    {
     "name": "stdout",
     "output_type": "stream",
     "text": [
      "Early stopping, best iteration is:\n",
      "[135]\tcv_agg's l2: 0.167003 + 0.0293517\n",
      "[100]\tcv_agg's l2: 0.169475 + 0.0314587\n",
      "[200]\tcv_agg's l2: 0.167424 + 0.0288147\n"
     ]
    },
    {
     "name": "stderr",
     "output_type": "stream",
     "text": [
      "num_leaves, val_score: 0.167003:  80%|#######################################2         | 16/20 [00:46<00:12,  3.15s/it][I 2023-11-09 13:25:03,726] Trial 22 finished with value: 0.16700294302501034 and parameters: {'num_leaves': 186}. Best is trial 7 with value: 0.16700294302501034.\n",
      "num_leaves, val_score: 0.167003:  80%|#######################################2         | 16/20 [00:46<00:12,  3.15s/it]"
     ]
    },
    {
     "name": "stdout",
     "output_type": "stream",
     "text": [
      "Early stopping, best iteration is:\n",
      "[135]\tcv_agg's l2: 0.167003 + 0.0293517\n",
      "[100]\tcv_agg's l2: 0.169475 + 0.0314587\n",
      "[200]\tcv_agg's l2: 0.167424 + 0.0288147\n"
     ]
    },
    {
     "name": "stderr",
     "output_type": "stream",
     "text": [
      "num_leaves, val_score: 0.167003:  85%|#########################################6       | 17/20 [00:49<00:10,  3.35s/it][I 2023-11-09 13:25:07,527] Trial 23 finished with value: 0.16700294302501034 and parameters: {'num_leaves': 212}. Best is trial 7 with value: 0.16700294302501034.\n",
      "num_leaves, val_score: 0.167003:  85%|#########################################6       | 17/20 [00:49<00:10,  3.35s/it]"
     ]
    },
    {
     "name": "stdout",
     "output_type": "stream",
     "text": [
      "Early stopping, best iteration is:\n",
      "[135]\tcv_agg's l2: 0.167003 + 0.0293517\n",
      "[100]\tcv_agg's l2: 0.169475 + 0.0314587\n",
      "[200]\tcv_agg's l2: 0.167424 + 0.0288147\n"
     ]
    },
    {
     "name": "stderr",
     "output_type": "stream",
     "text": [
      "num_leaves, val_score: 0.167003:  90%|############################################1    | 18/20 [00:53<00:06,  3.40s/it][I 2023-11-09 13:25:11,038] Trial 24 finished with value: 0.16700294302501034 and parameters: {'num_leaves': 144}. Best is trial 7 with value: 0.16700294302501034.\n",
      "num_leaves, val_score: 0.167003:  90%|############################################1    | 18/20 [00:53<00:06,  3.40s/it]"
     ]
    },
    {
     "name": "stdout",
     "output_type": "stream",
     "text": [
      "Early stopping, best iteration is:\n",
      "[135]\tcv_agg's l2: 0.167003 + 0.0293517\n",
      "[100]\tcv_agg's l2: 0.169475 + 0.0314587\n",
      "[200]\tcv_agg's l2: 0.167424 + 0.0288147\n"
     ]
    },
    {
     "name": "stderr",
     "output_type": "stream",
     "text": [
      "num_leaves, val_score: 0.167003:  95%|##############################################5  | 19/20 [00:56<00:03,  3.32s/it][I 2023-11-09 13:25:14,164] Trial 25 finished with value: 0.16700294302501034 and parameters: {'num_leaves': 98}. Best is trial 7 with value: 0.16700294302501034.\n",
      "num_leaves, val_score: 0.167003:  95%|##############################################5  | 19/20 [00:56<00:03,  3.32s/it]"
     ]
    },
    {
     "name": "stdout",
     "output_type": "stream",
     "text": [
      "Early stopping, best iteration is:\n",
      "[135]\tcv_agg's l2: 0.167003 + 0.0293517\n",
      "[100]\tcv_agg's l2: 0.169475 + 0.0314587\n",
      "[200]\tcv_agg's l2: 0.167424 + 0.0288147\n"
     ]
    },
    {
     "name": "stderr",
     "output_type": "stream",
     "text": [
      "num_leaves, val_score: 0.167003: 100%|#################################################| 20/20 [00:59<00:00,  3.27s/it][I 2023-11-09 13:25:17,314] Trial 26 finished with value: 0.16700294302501034 and parameters: {'num_leaves': 192}. Best is trial 7 with value: 0.16700294302501034.\n",
      "num_leaves, val_score: 0.167003: 100%|#################################################| 20/20 [00:59<00:00,  2.99s/it]\n"
     ]
    },
    {
     "name": "stdout",
     "output_type": "stream",
     "text": [
      "Early stopping, best iteration is:\n",
      "[135]\tcv_agg's l2: 0.167003 + 0.0293517\n"
     ]
    },
    {
     "name": "stderr",
     "output_type": "stream",
     "text": [
      "bagging, val_score: 0.167003:   0%|                                                             | 0/10 [00:00<?, ?it/s]"
     ]
    },
    {
     "name": "stdout",
     "output_type": "stream",
     "text": [
      "[100]\tcv_agg's l2: 0.169931 + 0.0313802\n",
      "[200]\tcv_agg's l2: 0.169232 + 0.0288156\n"
     ]
    },
    {
     "name": "stderr",
     "output_type": "stream",
     "text": [
      "bagging, val_score: 0.167003:  10%|#####3                                               | 1/10 [00:03<00:28,  3.16s/it][I 2023-11-09 13:25:20,480] Trial 27 finished with value: 0.16874322009129708 and parameters: {'bagging_fraction': 0.9826586958398036, 'bagging_freq': 3}. Best is trial 27 with value: 0.16874322009129708.\n",
      "bagging, val_score: 0.167003:  10%|#####3                                               | 1/10 [00:03<00:28,  3.16s/it]"
     ]
    },
    {
     "name": "stdout",
     "output_type": "stream",
     "text": [
      "Early stopping, best iteration is:\n",
      "[135]\tcv_agg's l2: 0.167003 + 0.0293517\n",
      "[100]\tcv_agg's l2: 0.22052 + 0.0272095\n",
      "[200]\tcv_agg's l2: 0.207071 + 0.0171495\n"
     ]
    },
    {
     "name": "stderr",
     "output_type": "stream",
     "text": [
      "bagging, val_score: 0.167003:  20%|##########6                                          | 2/10 [00:04<00:18,  2.28s/it][I 2023-11-09 13:25:22,138] Trial 28 finished with value: 0.21776675313905963 and parameters: {'bagging_fraction': 0.4236705110406112, 'bagging_freq': 7}. Best is trial 27 with value: 0.16874322009129708.\n",
      "bagging, val_score: 0.167003:  20%|##########6                                          | 2/10 [00:04<00:18,  2.28s/it]"
     ]
    },
    {
     "name": "stdout",
     "output_type": "stream",
     "text": [
      "Early stopping, best iteration is:\n",
      "[135]\tcv_agg's l2: 0.167003 + 0.0293517\n",
      "[100]\tcv_agg's l2: 0.179137 + 0.0366175\n",
      "[200]\tcv_agg's l2: 0.174585 + 0.0336219\n"
     ]
    },
    {
     "name": "stderr",
     "output_type": "stream",
     "text": [
      "bagging, val_score: 0.167003:  30%|###############9                                     | 3/10 [00:07<00:16,  2.33s/it][I 2023-11-09 13:25:24,534] Trial 29 finished with value: 0.17669202111334367 and parameters: {'bagging_fraction': 0.6986379616185358, 'bagging_freq': 1}. Best is trial 27 with value: 0.16874322009129708.\n",
      "bagging, val_score: 0.167003:  30%|###############9                                     | 3/10 [00:07<00:16,  2.33s/it]"
     ]
    },
    {
     "name": "stdout",
     "output_type": "stream",
     "text": [
      "Early stopping, best iteration is:\n",
      "[135]\tcv_agg's l2: 0.167003 + 0.0293517\n",
      "[100]\tcv_agg's l2: 0.235026 + 0.0312675\n",
      "[200]\tcv_agg's l2: 0.222872 + 0.0229557\n",
      "Early stopping, best iteration is:\n",
      "[135]\tcv_agg's l2: 0.167003 + 0.0293517\n"
     ]
    },
    {
     "name": "stderr",
     "output_type": "stream",
     "text": [
      "bagging, val_score: 0.167003:  40%|#####################2                               | 4/10 [00:08<00:11,  1.99s/it][I 2023-11-09 13:25:25,989] Trial 30 finished with value: 0.23191776956361915 and parameters: {'bagging_fraction': 0.4017311809350046, 'bagging_freq': 6}. Best is trial 27 with value: 0.16874322009129708.\n",
      "bagging, val_score: 0.167003:  40%|#####################2                               | 4/10 [00:08<00:11,  1.99s/it]"
     ]
    },
    {
     "name": "stdout",
     "output_type": "stream",
     "text": [
      "[100]\tcv_agg's l2: 0.166451 + 0.031483\n",
      "[200]\tcv_agg's l2: 0.16446 + 0.0284226\n"
     ]
    },
    {
     "name": "stderr",
     "output_type": "stream",
     "text": [
      "bagging, val_score: 0.164053:  50%|##########################5                          | 5/10 [00:12<00:12,  2.51s/it][I 2023-11-09 13:25:29,417] Trial 31 finished with value: 0.16405286935730493 and parameters: {'bagging_fraction': 0.9964907309568916, 'bagging_freq': 4}. Best is trial 31 with value: 0.16405286935730493.\n",
      "bagging, val_score: 0.164053:  50%|##########################5                          | 5/10 [00:12<00:12,  2.51s/it]"
     ]
    },
    {
     "name": "stdout",
     "output_type": "stream",
     "text": [
      "Early stopping, best iteration is:\n",
      "[152]\tcv_agg's l2: 0.164053 + 0.0300278\n",
      "[100]\tcv_agg's l2: 0.166938 + 0.0290424\n",
      "[200]\tcv_agg's l2: 0.166444 + 0.0273624\n"
     ]
    },
    {
     "name": "stderr",
     "output_type": "stream",
     "text": [
      "bagging, val_score: 0.164053:  60%|###############################8                     | 6/10 [00:16<00:12,  3.08s/it][I 2023-11-09 13:25:33,611] Trial 32 finished with value: 0.16598990053941107 and parameters: {'bagging_fraction': 0.9814207837027549, 'bagging_freq': 4}. Best is trial 31 with value: 0.16405286935730493.\n",
      "bagging, val_score: 0.164053:  60%|###############################8                     | 6/10 [00:16<00:12,  3.08s/it]"
     ]
    },
    {
     "name": "stdout",
     "output_type": "stream",
     "text": [
      "Early stopping, best iteration is:\n",
      "[152]\tcv_agg's l2: 0.164053 + 0.0300278\n",
      "[100]\tcv_agg's l2: 0.166615 + 0.0322533\n",
      "[200]\tcv_agg's l2: 0.165752 + 0.0285839\n"
     ]
    },
    {
     "name": "stderr",
     "output_type": "stream",
     "text": [
      "bagging, val_score: 0.164053:  70%|#####################################                | 7/10 [00:20<00:09,  3.33s/it][I 2023-11-09 13:25:37,450] Trial 33 finished with value: 0.16556154361355252 and parameters: {'bagging_fraction': 0.9644419102970675, 'bagging_freq': 4}. Best is trial 31 with value: 0.16405286935730493.\n",
      "bagging, val_score: 0.164053:  70%|#####################################                | 7/10 [00:20<00:09,  3.33s/it]"
     ]
    },
    {
     "name": "stdout",
     "output_type": "stream",
     "text": [
      "Early stopping, best iteration is:\n",
      "[152]\tcv_agg's l2: 0.164053 + 0.0300278\n",
      "[100]\tcv_agg's l2: 0.166595 + 0.031537\n",
      "[200]\tcv_agg's l2: 0.165307 + 0.030259\n"
     ]
    },
    {
     "name": "stderr",
     "output_type": "stream",
     "text": [
      "bagging, val_score: 0.164053:  80%|##########################################4          | 8/10 [00:24<00:07,  3.77s/it][I 2023-11-09 13:25:42,152] Trial 34 finished with value: 0.16476677866263997 and parameters: {'bagging_fraction': 0.9648759326770878, 'bagging_freq': 4}. Best is trial 31 with value: 0.16405286935730493.\n",
      "bagging, val_score: 0.164053:  80%|##########################################4          | 8/10 [00:24<00:07,  3.77s/it]"
     ]
    },
    {
     "name": "stdout",
     "output_type": "stream",
     "text": [
      "Early stopping, best iteration is:\n",
      "[152]\tcv_agg's l2: 0.164053 + 0.0300278\n",
      "[100]\tcv_agg's l2: 0.164584 + 0.0301584\n",
      "[200]\tcv_agg's l2: 0.162727 + 0.0278787\n"
     ]
    },
    {
     "name": "stderr",
     "output_type": "stream",
     "text": [
      "bagging, val_score: 0.162523:  90%|###############################################7     | 9/10 [00:28<00:03,  3.71s/it][I 2023-11-09 13:25:45,724] Trial 35 finished with value: 0.16252301921260243 and parameters: {'bagging_fraction': 0.9927304775109117, 'bagging_freq': 4}. Best is trial 35 with value: 0.16252301921260243.\n",
      "bagging, val_score: 0.162523:  90%|###############################################7     | 9/10 [00:28<00:03,  3.71s/it]"
     ]
    },
    {
     "name": "stdout",
     "output_type": "stream",
     "text": [
      "[300]\tcv_agg's l2: 0.164698 + 0.0282568\n",
      "Early stopping, best iteration is:\n",
      "[202]\tcv_agg's l2: 0.162523 + 0.0277169\n",
      "[100]\tcv_agg's l2: 0.164085 + 0.0310243\n",
      "[200]\tcv_agg's l2: 0.163286 + 0.0277319\n"
     ]
    },
    {
     "name": "stderr",
     "output_type": "stream",
     "text": [
      "bagging, val_score: 0.162170: 100%|####################################################| 10/10 [00:31<00:00,  3.41s/it][I 2023-11-09 13:25:48,489] Trial 36 finished with value: 0.16217040076497471 and parameters: {'bagging_fraction': 0.9874754318116142, 'bagging_freq': 4}. Best is trial 36 with value: 0.16217040076497471.\n",
      "bagging, val_score: 0.162170: 100%|####################################################| 10/10 [00:31<00:00,  3.12s/it]\n"
     ]
    },
    {
     "name": "stdout",
     "output_type": "stream",
     "text": [
      "Early stopping, best iteration is:\n",
      "[128]\tcv_agg's l2: 0.16217 + 0.0290539\n"
     ]
    },
    {
     "name": "stderr",
     "output_type": "stream",
     "text": [
      "feature_fraction_stage2, val_score: 0.162170:   0%|                                              | 0/6 [00:00<?, ?it/s]"
     ]
    },
    {
     "name": "stdout",
     "output_type": "stream",
     "text": [
      "[100]\tcv_agg's l2: 0.164049 + 0.0276944\n",
      "[200]\tcv_agg's l2: 0.163303 + 0.0252622\n"
     ]
    },
    {
     "name": "stderr",
     "output_type": "stream",
     "text": [
      "feature_fraction_stage2, val_score: 0.162170:  17%|######3                               | 1/6 [00:03<00:15,  3.08s/it][I 2023-11-09 13:25:51,573] Trial 37 finished with value: 0.1633240481684008 and parameters: {'feature_fraction': 0.484}. Best is trial 37 with value: 0.1633240481684008.\n",
      "feature_fraction_stage2, val_score: 0.162170:  17%|######3                               | 1/6 [00:03<00:15,  3.08s/it]"
     ]
    },
    {
     "name": "stdout",
     "output_type": "stream",
     "text": [
      "Early stopping, best iteration is:\n",
      "[128]\tcv_agg's l2: 0.16217 + 0.0290539\n",
      "[100]\tcv_agg's l2: 0.172686 + 0.0332167\n",
      "[200]\tcv_agg's l2: 0.172278 + 0.0320952\n"
     ]
    },
    {
     "name": "stderr",
     "output_type": "stream",
     "text": [
      "feature_fraction_stage2, val_score: 0.162170:  33%|############6                         | 2/6 [00:06<00:12,  3.09s/it][I 2023-11-09 13:25:54,674] Trial 38 finished with value: 0.17228489788355278 and parameters: {'feature_fraction': 0.58}. Best is trial 37 with value: 0.1633240481684008.\n",
      "feature_fraction_stage2, val_score: 0.162170:  33%|############6                         | 2/6 [00:06<00:12,  3.09s/it]"
     ]
    },
    {
     "name": "stdout",
     "output_type": "stream",
     "text": [
      "Early stopping, best iteration is:\n",
      "[128]\tcv_agg's l2: 0.16217 + 0.0290539\n",
      "[100]\tcv_agg's l2: 0.170436 + 0.0237898\n",
      "[200]\tcv_agg's l2: 0.167393 + 0.0211145\n"
     ]
    },
    {
     "name": "stderr",
     "output_type": "stream",
     "text": [
      "feature_fraction_stage2, val_score: 0.162170:  50%|###################                   | 3/6 [00:09<00:09,  3.04s/it][I 2023-11-09 13:25:57,656] Trial 39 finished with value: 0.16909966676134508 and parameters: {'feature_fraction': 0.42}. Best is trial 37 with value: 0.1633240481684008.\n",
      "feature_fraction_stage2, val_score: 0.162170:  50%|###################                   | 3/6 [00:09<00:09,  3.04s/it]"
     ]
    },
    {
     "name": "stdout",
     "output_type": "stream",
     "text": [
      "Early stopping, best iteration is:\n",
      "[128]\tcv_agg's l2: 0.16217 + 0.0290539\n",
      "[100]\tcv_agg's l2: 0.164049 + 0.0276944\n",
      "[200]\tcv_agg's l2: 0.163303 + 0.0252622\n"
     ]
    },
    {
     "name": "stderr",
     "output_type": "stream",
     "text": [
      "feature_fraction_stage2, val_score: 0.162170:  67%|#########################3            | 4/6 [00:12<00:06,  3.11s/it][I 2023-11-09 13:26:00,872] Trial 40 finished with value: 0.1633240481684008 and parameters: {'feature_fraction': 0.45199999999999996}. Best is trial 37 with value: 0.1633240481684008.\n",
      "feature_fraction_stage2, val_score: 0.162170:  67%|#########################3            | 4/6 [00:12<00:06,  3.11s/it]"
     ]
    },
    {
     "name": "stdout",
     "output_type": "stream",
     "text": [
      "Early stopping, best iteration is:\n",
      "[128]\tcv_agg's l2: 0.16217 + 0.0290539\n",
      "[100]\tcv_agg's l2: 0.164085 + 0.0310243\n",
      "[200]\tcv_agg's l2: 0.163286 + 0.0277319\n"
     ]
    },
    {
     "name": "stderr",
     "output_type": "stream",
     "text": [
      "feature_fraction_stage2, val_score: 0.162170:  83%|###############################6      | 5/6 [00:15<00:03,  3.22s/it][I 2023-11-09 13:26:04,301] Trial 41 finished with value: 0.16217040076497471 and parameters: {'feature_fraction': 0.5479999999999999}. Best is trial 41 with value: 0.16217040076497471.\n",
      "feature_fraction_stage2, val_score: 0.162170:  83%|###############################6      | 5/6 [00:15<00:03,  3.22s/it]"
     ]
    },
    {
     "name": "stdout",
     "output_type": "stream",
     "text": [
      "Early stopping, best iteration is:\n",
      "[128]\tcv_agg's l2: 0.16217 + 0.0290539\n",
      "[100]\tcv_agg's l2: 0.164085 + 0.0310243\n",
      "[200]\tcv_agg's l2: 0.163286 + 0.0277319\n"
     ]
    },
    {
     "name": "stderr",
     "output_type": "stream",
     "text": [
      "feature_fraction_stage2, val_score: 0.162170: 100%|######################################| 6/6 [00:19<00:00,  3.51s/it][I 2023-11-09 13:26:08,366] Trial 42 finished with value: 0.16217040076497471 and parameters: {'feature_fraction': 0.516}. Best is trial 41 with value: 0.16217040076497471.\n",
      "feature_fraction_stage2, val_score: 0.162170: 100%|######################################| 6/6 [00:19<00:00,  3.31s/it]\n"
     ]
    },
    {
     "name": "stdout",
     "output_type": "stream",
     "text": [
      "Early stopping, best iteration is:\n",
      "[128]\tcv_agg's l2: 0.16217 + 0.0290539\n"
     ]
    },
    {
     "name": "stderr",
     "output_type": "stream",
     "text": [
      "regularization_factors, val_score: 0.162170:   0%|                                              | 0/20 [00:00<?, ?it/s]"
     ]
    },
    {
     "name": "stdout",
     "output_type": "stream",
     "text": [
      "[100]\tcv_agg's l2: 0.177492 + 0.0394065\n"
     ]
    },
    {
     "name": "stderr",
     "output_type": "stream",
     "text": [
      "regularization_factors, val_score: 0.162170:   5%|#9                                    | 1/20 [00:01<00:34,  1.82s/it][I 2023-11-09 13:26:10,196] Trial 43 finished with value: 0.17485351143410813 and parameters: {'lambda_l1': 2.554053556885825, 'lambda_l2': 0.09582026415147278}. Best is trial 43 with value: 0.17485351143410813.\n",
      "regularization_factors, val_score: 0.162170:   5%|#9                                    | 1/20 [00:01<00:34,  1.82s/it]"
     ]
    },
    {
     "name": "stdout",
     "output_type": "stream",
     "text": [
      "[200]\tcv_agg's l2: 0.17283 + 0.0368856\n",
      "Early stopping, best iteration is:\n",
      "[128]\tcv_agg's l2: 0.16217 + 0.0290539\n",
      "[100]\tcv_agg's l2: 0.1641 + 0.0310096\n",
      "[200]\tcv_agg's l2: 0.163411 + 0.0275226\n"
     ]
    },
    {
     "name": "stderr",
     "output_type": "stream",
     "text": [
      "regularization_factors, val_score: 0.162170:  10%|###8                                  | 2/20 [00:04<00:47,  2.61s/it][I 2023-11-09 13:26:13,365] Trial 44 finished with value: 0.1625815866840114 and parameters: {'lambda_l1': 3.6845428022597927e-08, 'lambda_l2': 1.975244240792535e-08}. Best is trial 44 with value: 0.1625815866840114.\n",
      "regularization_factors, val_score: 0.162170:  10%|###8                                  | 2/20 [00:04<00:47,  2.61s/it]"
     ]
    },
    {
     "name": "stdout",
     "output_type": "stream",
     "text": [
      "Early stopping, best iteration is:\n",
      "[128]\tcv_agg's l2: 0.16217 + 0.0290539\n",
      "[100]\tcv_agg's l2: 0.1641 + 0.0310096\n",
      "[200]\tcv_agg's l2: 0.163552 + 0.0274731\n"
     ]
    },
    {
     "name": "stderr",
     "output_type": "stream",
     "text": [
      "regularization_factors, val_score: 0.162170:  15%|#####7                                | 3/20 [00:08<00:50,  2.97s/it][I 2023-11-09 13:26:16,756] Trial 45 finished with value: 0.1625815867249514 and parameters: {'lambda_l1': 1.0192748753486903e-08, 'lambda_l2': 1.2677204763730541e-08}. Best is trial 44 with value: 0.1625815866840114.\n",
      "regularization_factors, val_score: 0.162170:  15%|#####7                                | 3/20 [00:08<00:50,  2.97s/it]"
     ]
    },
    {
     "name": "stdout",
     "output_type": "stream",
     "text": [
      "Early stopping, best iteration is:\n",
      "[128]\tcv_agg's l2: 0.16217 + 0.0290539\n",
      "[100]\tcv_agg's l2: 0.1641 + 0.0310096\n",
      "[200]\tcv_agg's l2: 0.163552 + 0.0274731\n"
     ]
    },
    {
     "name": "stderr",
     "output_type": "stream",
     "text": [
      "regularization_factors, val_score: 0.162170:  20%|#######6                              | 4/20 [00:11<00:47,  2.99s/it][I 2023-11-09 13:26:19,774] Trial 46 finished with value: 0.162581586704625 and parameters: {'lambda_l1': 1.2736357656391039e-08, 'lambda_l2': 4.2607324351917185e-08}. Best is trial 44 with value: 0.1625815866840114.\n",
      "regularization_factors, val_score: 0.162170:  20%|#######6                              | 4/20 [00:11<00:47,  2.99s/it]"
     ]
    },
    {
     "name": "stdout",
     "output_type": "stream",
     "text": [
      "Early stopping, best iteration is:\n",
      "[128]\tcv_agg's l2: 0.16217 + 0.0290539\n",
      "[100]\tcv_agg's l2: 0.164762 + 0.030106\n",
      "[200]\tcv_agg's l2: 0.165027 + 0.027704\n"
     ]
    },
    {
     "name": "stderr",
     "output_type": "stream",
     "text": [
      "regularization_factors, val_score: 0.162170:  25%|#########5                            | 5/20 [00:14<00:46,  3.13s/it][I 2023-11-09 13:26:23,156] Trial 47 finished with value: 0.16464021094879092 and parameters: {'lambda_l1': 3.1705855470904675e-05, 'lambda_l2': 3.535851363126913e-05}. Best is trial 44 with value: 0.1625815866840114.\n",
      "regularization_factors, val_score: 0.162170:  25%|#########5                            | 5/20 [00:14<00:46,  3.13s/it]"
     ]
    },
    {
     "name": "stdout",
     "output_type": "stream",
     "text": [
      "Early stopping, best iteration is:\n",
      "[128]\tcv_agg's l2: 0.16217 + 0.0290539\n",
      "[100]\tcv_agg's l2: 0.164936 + 0.0300407\n",
      "[200]\tcv_agg's l2: 0.164608 + 0.0280908\n"
     ]
    },
    {
     "name": "stderr",
     "output_type": "stream",
     "text": [
      "regularization_factors, val_score: 0.162170:  30%|###########4                          | 6/20 [00:18<00:44,  3.17s/it][I 2023-11-09 13:26:26,391] Trial 48 finished with value: 0.16438427054351532 and parameters: {'lambda_l1': 5.4583403409210705e-06, 'lambda_l2': 1.50875848235687e-05}. Best is trial 44 with value: 0.1625815866840114.\n",
      "regularization_factors, val_score: 0.162170:  30%|###########4                          | 6/20 [00:18<00:44,  3.17s/it]"
     ]
    },
    {
     "name": "stdout",
     "output_type": "stream",
     "text": [
      "Early stopping, best iteration is:\n",
      "[128]\tcv_agg's l2: 0.16217 + 0.0290539\n",
      "[100]\tcv_agg's l2: 0.17155 + 0.039203\n",
      "[200]\tcv_agg's l2: 0.169329 + 0.0364719\n"
     ]
    },
    {
     "name": "stderr",
     "output_type": "stream",
     "text": [
      "regularization_factors, val_score: 0.162170:  35%|#############3                        | 7/20 [00:21<00:40,  3.14s/it][I 2023-11-09 13:26:29,465] Trial 49 finished with value: 0.16982486476259867 and parameters: {'lambda_l1': 0.00684397107984029, 'lambda_l2': 2.5506949584467247}. Best is trial 44 with value: 0.1625815866840114.\n",
      "regularization_factors, val_score: 0.162170:  35%|#############3                        | 7/20 [00:21<00:40,  3.14s/it]"
     ]
    },
    {
     "name": "stdout",
     "output_type": "stream",
     "text": [
      "Early stopping, best iteration is:\n",
      "[128]\tcv_agg's l2: 0.16217 + 0.0290539\n",
      "[100]\tcv_agg's l2: 0.166076 + 0.0304655\n",
      "[200]\tcv_agg's l2: 0.165136 + 0.0270437\n"
     ]
    },
    {
     "name": "stderr",
     "output_type": "stream",
     "text": [
      "regularization_factors, val_score: 0.162170:  40%|###############2                      | 8/20 [00:24<00:38,  3.18s/it][I 2023-11-09 13:26:32,741] Trial 50 finished with value: 0.16476859617343526 and parameters: {'lambda_l1': 1.1353611219586281e-06, 'lambda_l2': 6.227840754591833e-07}. Best is trial 44 with value: 0.1625815866840114.\n",
      "regularization_factors, val_score: 0.162170:  40%|###############2                      | 8/20 [00:24<00:38,  3.18s/it]"
     ]
    },
    {
     "name": "stdout",
     "output_type": "stream",
     "text": [
      "Early stopping, best iteration is:\n",
      "[128]\tcv_agg's l2: 0.16217 + 0.0290539\n",
      "[100]\tcv_agg's l2: 0.1641 + 0.0310096\n",
      "[200]\tcv_agg's l2: 0.163411 + 0.0275226\n"
     ]
    },
    {
     "name": "stderr",
     "output_type": "stream",
     "text": [
      "regularization_factors, val_score: 0.162170:  45%|#################1                    | 9/20 [00:27<00:35,  3.18s/it][I 2023-11-09 13:26:35,929] Trial 51 finished with value: 0.16258158671271578 and parameters: {'lambda_l1': 1.4505732990484364e-08, 'lambda_l2': 1.3298511816710802e-08}. Best is trial 44 with value: 0.1625815866840114.\n",
      "regularization_factors, val_score: 0.162170:  45%|#################1                    | 9/20 [00:27<00:35,  3.18s/it]"
     ]
    },
    {
     "name": "stdout",
     "output_type": "stream",
     "text": [
      "Early stopping, best iteration is:\n",
      "[128]\tcv_agg's l2: 0.16217 + 0.0290539\n",
      "[100]\tcv_agg's l2: 0.1641 + 0.0310096\n",
      "[200]\tcv_agg's l2: 0.163411 + 0.0275226\n"
     ]
    },
    {
     "name": "stderr",
     "output_type": "stream",
     "text": [
      "regularization_factors, val_score: 0.162170:  50%|##################5                  | 10/20 [00:30<00:31,  3.18s/it][I 2023-11-09 13:26:39,087] Trial 52 finished with value: 0.1625815864010375 and parameters: {'lambda_l1': 9.077325098344377e-08, 'lambda_l2': 2.0289091049414778e-07}. Best is trial 52 with value: 0.1625815864010375.\n",
      "regularization_factors, val_score: 0.162170:  50%|##################5                  | 10/20 [00:30<00:31,  3.18s/it]"
     ]
    },
    {
     "name": "stdout",
     "output_type": "stream",
     "text": [
      "Early stopping, best iteration is:\n",
      "[128]\tcv_agg's l2: 0.16217 + 0.0290539\n",
      "[100]\tcv_agg's l2: 0.164929 + 0.0308787\n",
      "[200]\tcv_agg's l2: 0.164065 + 0.0273113\n"
     ]
    },
    {
     "name": "stderr",
     "output_type": "stream",
     "text": [
      "regularization_factors, val_score: 0.162170:  55%|####################3                | 11/20 [00:33<00:28,  3.20s/it][I 2023-11-09 13:26:42,356] Trial 53 finished with value: 0.16341024171497232 and parameters: {'lambda_l1': 4.7544567106868564e-07, 'lambda_l2': 1.0282737112955433e-06}. Best is trial 52 with value: 0.1625815864010375.\n",
      "regularization_factors, val_score: 0.162170:  55%|####################3                | 11/20 [00:33<00:28,  3.20s/it]"
     ]
    },
    {
     "name": "stdout",
     "output_type": "stream",
     "text": [
      "Early stopping, best iteration is:\n",
      "[128]\tcv_agg's l2: 0.16217 + 0.0290539\n",
      "[100]\tcv_agg's l2: 0.163709 + 0.0293225\n",
      "[200]\tcv_agg's l2: 0.16352 + 0.0270863\n"
     ]
    },
    {
     "name": "stderr",
     "output_type": "stream",
     "text": [
      "regularization_factors, val_score: 0.162170:  60%|######################2              | 12/20 [00:37<00:25,  3.21s/it][I 2023-11-09 13:26:45,565] Trial 54 finished with value: 0.16314548743735585 and parameters: {'lambda_l1': 0.0004388871653573131, 'lambda_l2': 0.0023833870467563282}. Best is trial 52 with value: 0.1625815864010375.\n",
      "regularization_factors, val_score: 0.162170:  60%|######################2              | 12/20 [00:37<00:25,  3.21s/it]"
     ]
    },
    {
     "name": "stdout",
     "output_type": "stream",
     "text": [
      "Early stopping, best iteration is:\n",
      "[128]\tcv_agg's l2: 0.16217 + 0.0290539\n",
      "[100]\tcv_agg's l2: 0.164929 + 0.0308787\n",
      "[200]\tcv_agg's l2: 0.164065 + 0.0273113\n"
     ]
    },
    {
     "name": "stderr",
     "output_type": "stream",
     "text": [
      "regularization_factors, val_score: 0.162170:  65%|########################             | 13/20 [00:40<00:22,  3.25s/it][I 2023-11-09 13:26:48,926] Trial 55 finished with value: 0.16341024287491906 and parameters: {'lambda_l1': 2.6239465619779486e-07, 'lambda_l2': 5.072287099027814e-07}. Best is trial 52 with value: 0.1625815864010375.\n",
      "regularization_factors, val_score: 0.162170:  65%|########################             | 13/20 [00:40<00:22,  3.25s/it]"
     ]
    },
    {
     "name": "stdout",
     "output_type": "stream",
     "text": [
      "Early stopping, best iteration is:\n",
      "[128]\tcv_agg's l2: 0.16217 + 0.0290539\n",
      "[100]\tcv_agg's l2: 0.164929 + 0.0308787\n",
      "[200]\tcv_agg's l2: 0.164065 + 0.0273113\n"
     ]
    },
    {
     "name": "stderr",
     "output_type": "stream",
     "text": [
      "regularization_factors, val_score: 0.162170:  70%|#########################9           | 14/20 [00:43<00:19,  3.22s/it][I 2023-11-09 13:26:52,074] Trial 56 finished with value: 0.16341024257395326 and parameters: {'lambda_l1': 5.014100298870901e-07, 'lambda_l2': 2.961069457503067e-07}. Best is trial 52 with value: 0.1625815864010375.\n",
      "regularization_factors, val_score: 0.162170:  70%|#########################9           | 14/20 [00:43<00:19,  3.22s/it]"
     ]
    },
    {
     "name": "stdout",
     "output_type": "stream",
     "text": [
      "Early stopping, best iteration is:\n",
      "[128]\tcv_agg's l2: 0.16217 + 0.0290539\n",
      "[100]\tcv_agg's l2: 0.164763 + 0.030106\n",
      "[200]\tcv_agg's l2: 0.165027 + 0.027704\n"
     ]
    },
    {
     "name": "stderr",
     "output_type": "stream",
     "text": [
      "regularization_factors, val_score: 0.162170:  75%|###########################7         | 15/20 [00:46<00:16,  3.22s/it][I 2023-11-09 13:26:55,296] Trial 57 finished with value: 0.16464023575490702 and parameters: {'lambda_l1': 3.278976539435469e-05, 'lambda_l2': 9.228261438164209e-06}. Best is trial 52 with value: 0.1625815864010375.\n",
      "regularization_factors, val_score: 0.162170:  75%|###########################7         | 15/20 [00:46<00:16,  3.22s/it]"
     ]
    },
    {
     "name": "stdout",
     "output_type": "stream",
     "text": [
      "Early stopping, best iteration is:\n",
      "[128]\tcv_agg's l2: 0.16217 + 0.0290539\n",
      "[100]\tcv_agg's l2: 0.164537 + 0.0301495\n",
      "[200]\tcv_agg's l2: 0.164731 + 0.028346\n"
     ]
    },
    {
     "name": "stderr",
     "output_type": "stream",
     "text": [
      "regularization_factors, val_score: 0.162170:  80%|#############################6       | 16/20 [00:49<00:12,  3.16s/it][I 2023-11-09 13:26:58,323] Trial 58 finished with value: 0.16424696339309347 and parameters: {'lambda_l1': 1.0767603497731126e-07, 'lambda_l2': 0.0003486176761765198}. Best is trial 52 with value: 0.1625815864010375.\n",
      "regularization_factors, val_score: 0.162170:  80%|#############################6       | 16/20 [00:49<00:12,  3.16s/it]"
     ]
    },
    {
     "name": "stdout",
     "output_type": "stream",
     "text": [
      "Early stopping, best iteration is:\n",
      "[128]\tcv_agg's l2: 0.16217 + 0.0290539\n",
      "[100]\tcv_agg's l2: 0.1641 + 0.0310096\n",
      "[200]\tcv_agg's l2: 0.163514 + 0.0274903\n"
     ]
    },
    {
     "name": "stderr",
     "output_type": "stream",
     "text": [
      "regularization_factors, val_score: 0.162170:  85%|###############################4     | 17/20 [00:53<00:09,  3.18s/it][I 2023-11-09 13:27:01,529] Trial 59 finished with value: 0.1625815863893809 and parameters: {'lambda_l1': 1.1925765453270374e-07, 'lambda_l2': 1.130551181800901e-07}. Best is trial 59 with value: 0.1625815863893809.\n",
      "regularization_factors, val_score: 0.162170:  85%|###############################4     | 17/20 [00:53<00:09,  3.18s/it]"
     ]
    },
    {
     "name": "stdout",
     "output_type": "stream",
     "text": [
      "Early stopping, best iteration is:\n",
      "[128]\tcv_agg's l2: 0.16217 + 0.0290539\n",
      "[100]\tcv_agg's l2: 0.165243 + 0.0306302\n",
      "[200]\tcv_agg's l2: 0.164155 + 0.0274405\n"
     ]
    },
    {
     "name": "stderr",
     "output_type": "stream",
     "text": [
      "regularization_factors, val_score: 0.162170:  90%|#################################3   | 18/20 [00:56<00:06,  3.14s/it][I 2023-11-09 13:27:04,598] Trial 60 finished with value: 0.16388679864689598 and parameters: {'lambda_l1': 3.6155638466547227e-06, 'lambda_l2': 3.645893741606535e-06}. Best is trial 59 with value: 0.1625815863893809.\n",
      "regularization_factors, val_score: 0.162170:  90%|#################################3   | 18/20 [00:56<00:06,  3.14s/it]"
     ]
    },
    {
     "name": "stdout",
     "output_type": "stream",
     "text": [
      "Early stopping, best iteration is:\n",
      "[128]\tcv_agg's l2: 0.16217 + 0.0290539\n",
      "[100]\tcv_agg's l2: 0.1641 + 0.0310096\n",
      "[200]\tcv_agg's l2: 0.163514 + 0.0274903\n"
     ]
    },
    {
     "name": "stderr",
     "output_type": "stream",
     "text": [
      "regularization_factors, val_score: 0.162170:  95%|###################################1 | 19/20 [00:59<00:03,  3.20s/it][I 2023-11-09 13:27:07,925] Trial 61 finished with value: 0.16258158639787323 and parameters: {'lambda_l1': 1.1917083578213983e-07, 'lambda_l2': 1.0613693459536246e-07}. Best is trial 59 with value: 0.1625815863893809.\n",
      "regularization_factors, val_score: 0.162170:  95%|###################################1 | 19/20 [00:59<00:03,  3.20s/it]"
     ]
    },
    {
     "name": "stdout",
     "output_type": "stream",
     "text": [
      "Early stopping, best iteration is:\n",
      "[128]\tcv_agg's l2: 0.16217 + 0.0290539\n",
      "[100]\tcv_agg's l2: 0.1641 + 0.0310096\n",
      "[200]\tcv_agg's l2: 0.163514 + 0.0274903\n"
     ]
    },
    {
     "name": "stderr",
     "output_type": "stream",
     "text": [
      "regularization_factors, val_score: 0.162170: 100%|#####################################| 20/20 [01:02<00:00,  3.21s/it][I 2023-11-09 13:27:11,173] Trial 62 finished with value: 0.16258158634366932 and parameters: {'lambda_l1': 1.1046381512700323e-07, 'lambda_l2': 1.2282349307443225e-07}. Best is trial 62 with value: 0.16258158634366932.\n",
      "regularization_factors, val_score: 0.162170: 100%|#####################################| 20/20 [01:02<00:00,  3.14s/it]\n"
     ]
    },
    {
     "name": "stdout",
     "output_type": "stream",
     "text": [
      "Early stopping, best iteration is:\n",
      "[128]\tcv_agg's l2: 0.16217 + 0.0290539\n"
     ]
    },
    {
     "name": "stderr",
     "output_type": "stream",
     "text": [
      "min_data_in_leaf, val_score: 0.162170:   0%|                                                     | 0/5 [00:00<?, ?it/s]"
     ]
    },
    {
     "name": "stdout",
     "output_type": "stream",
     "text": [
      "[100]\tcv_agg's l2: 0.234224 + 0.0413294\n"
     ]
    },
    {
     "name": "stderr",
     "output_type": "stream",
     "text": [
      "min_data_in_leaf, val_score: 0.162170:  20%|#########                                    | 1/5 [00:01<00:06,  1.63s/it][I 2023-11-09 13:27:12,808] Trial 63 finished with value: 0.22981363306023903 and parameters: {'min_child_samples': 50}. Best is trial 63 with value: 0.22981363306023903.\n",
      "min_data_in_leaf, val_score: 0.162170:  20%|#########                                    | 1/5 [00:01<00:06,  1.63s/it]"
     ]
    },
    {
     "name": "stdout",
     "output_type": "stream",
     "text": [
      "[200]\tcv_agg's l2: 0.224244 + 0.0383422\n",
      "Early stopping, best iteration is:\n",
      "[128]\tcv_agg's l2: 0.16217 + 0.0290539\n",
      "[100]\tcv_agg's l2: 0.16174 + 0.0314711\n",
      "[200]\tcv_agg's l2: 0.161 + 0.0306086\n"
     ]
    },
    {
     "name": "stderr",
     "output_type": "stream",
     "text": [
      "min_data_in_leaf, val_score: 0.160822:  40%|##################                           | 2/5 [00:06<00:11,  3.73s/it][I 2023-11-09 13:27:18,006] Trial 64 finished with value: 0.16082217699668291 and parameters: {'min_child_samples': 5}. Best is trial 64 with value: 0.16082217699668291.\n",
      "min_data_in_leaf, val_score: 0.160822:  40%|##################                           | 2/5 [00:06<00:11,  3.73s/it]"
     ]
    },
    {
     "name": "stdout",
     "output_type": "stream",
     "text": [
      "Early stopping, best iteration is:\n",
      "[192]\tcv_agg's l2: 0.160822 + 0.0304614\n",
      "[100]\tcv_agg's l2: 0.158083 + 0.0301651\n",
      "[200]\tcv_agg's l2: 0.156839 + 0.0292626\n",
      "[300]\tcv_agg's l2: 0.156655 + 0.028524\n"
     ]
    },
    {
     "name": "stderr",
     "output_type": "stream",
     "text": [
      "min_data_in_leaf, val_score: 0.156469:  60%|###########################                  | 3/5 [00:12<00:09,  4.50s/it][I 2023-11-09 13:27:23,428] Trial 65 finished with value: 0.15646868263378544 and parameters: {'min_child_samples': 10}. Best is trial 65 with value: 0.15646868263378544.\n",
      "min_data_in_leaf, val_score: 0.156469:  60%|###########################                  | 3/5 [00:12<00:09,  4.50s/it]"
     ]
    },
    {
     "name": "stdout",
     "output_type": "stream",
     "text": [
      "Early stopping, best iteration is:\n",
      "[247]\tcv_agg's l2: 0.156469 + 0.0288687\n",
      "[100]\tcv_agg's l2: 0.6804 + 0.0574866\n",
      "[200]\tcv_agg's l2: 0.63596 + 0.057915\n",
      "[300]\tcv_agg's l2: 0.617813 + 0.0643492\n"
     ]
    },
    {
     "name": "stderr",
     "output_type": "stream",
     "text": [
      "min_data_in_leaf, val_score: 0.156469:  80%|####################################         | 4/5 [00:13<00:03,  3.34s/it][I 2023-11-09 13:27:24,991] Trial 66 finished with value: 0.6262595279219688 and parameters: {'min_child_samples': 100}. Best is trial 65 with value: 0.15646868263378544.\n",
      "min_data_in_leaf, val_score: 0.156469:  80%|####################################         | 4/5 [00:13<00:03,  3.34s/it]"
     ]
    },
    {
     "name": "stdout",
     "output_type": "stream",
     "text": [
      "Early stopping, best iteration is:\n",
      "[247]\tcv_agg's l2: 0.156469 + 0.0288687\n",
      "[100]\tcv_agg's l2: 0.177679 + 0.0282438\n",
      "[200]\tcv_agg's l2: 0.173632 + 0.0258879\n",
      "[300]\tcv_agg's l2: 0.174024 + 0.0257781\n"
     ]
    },
    {
     "name": "stderr",
     "output_type": "stream",
     "text": [
      "min_data_in_leaf, val_score: 0.156469: 100%|#############################################| 5/5 [00:17<00:00,  3.51s/it][I 2023-11-09 13:27:28,812] Trial 67 finished with value: 0.17440634347440742 and parameters: {'min_child_samples': 25}. Best is trial 65 with value: 0.15646868263378544.\n",
      "min_data_in_leaf, val_score: 0.156469: 100%|#############################################| 5/5 [00:17<00:00,  3.53s/it]"
     ]
    },
    {
     "name": "stdout",
     "output_type": "stream",
     "text": [
      "Early stopping, best iteration is:\n",
      "[247]\tcv_agg's l2: 0.156469 + 0.0288687\n"
     ]
    },
    {
     "name": "stderr",
     "output_type": "stream",
     "text": [
      "\n"
     ]
    }
   ],
   "source": [
    "import optuna.integration.lightgbm as lgb\n",
    "from lightgbm import early_stopping\n",
    "from sklearn.model_selection import KFold\n",
    "from sklearn.model_selection import RepeatedKFold\n",
    "\n",
    "\n",
    "lgb_train = lgb.Dataset(X_train_random_split, y_train_random_split)\n",
    "\n",
    "params = {\n",
    "    \"boosting_type\": \"gbdt\",\n",
    "    \"objective\": \"regression\",\n",
    "    \"metric\": \"l2\",\n",
    "    \"verbosity\": -1,\n",
    "}\n",
    "\n",
    "tuner = lgb.LightGBMTunerCV(\n",
    "    params,\n",
    "    lgb_train,\n",
    "    folds=KFold(n_splits=5),\n",
    "    num_boost_round=10000,\n",
    "    callbacks=[early_stopping(100), log_evaluation(100)],\n",
    ")\n",
    "\n",
    "tuner.run()"
   ]
  },
  {
   "cell_type": "code",
   "execution_count": 38,
   "id": "c07cf3c6",
   "metadata": {},
   "outputs": [
    {
     "name": "stdout",
     "output_type": "stream",
     "text": [
      "Best score: 0.15646868263378544\n",
      "Params: \n",
      "    boosting_type: gbdt\n",
      "    objective: regression\n",
      "    metric: l2\n",
      "    verbosity: -1\n",
      "    feature_pre_filter: False\n",
      "    lambda_l1: 0.0\n",
      "    lambda_l2: 0.0\n",
      "    num_leaves: 31\n",
      "    feature_fraction: 0.5\n",
      "    bagging_fraction: 0.9874754318116142\n",
      "    bagging_freq: 4\n",
      "    min_child_samples: 10\n"
     ]
    }
   ],
   "source": [
    "print(f\"Best score: {tuner.best_score}\")\n",
    "best_params = tuner.best_params\n",
    "print(\"Params: \")\n",
    "for key, value in best_params.items():\n",
    "    print(\"    {}: {}\".format(key, value))"
   ]
  },
  {
   "cell_type": "code",
   "execution_count": 39,
   "id": "47a1bc33",
   "metadata": {},
   "outputs": [],
   "source": [
    "import lightgbm as lgb\n",
    "\n",
    "lgb_tuned = lgb.train(\n",
    "    best_params,\n",
    "    lgb_train,\n",
    "    num_boost_round=10000,\n",
    ")"
   ]
  },
  {
   "cell_type": "code",
   "execution_count": 40,
   "id": "4c17765e",
   "metadata": {},
   "outputs": [
    {
     "name": "stdout",
     "output_type": "stream",
     "text": [
      "RMSE train: 0.00\n",
      "RMSE test: 0.36\n",
      "MAE test: 0.24\n",
      "\n"
     ]
    }
   ],
   "source": [
    "rmse, mae = assess_regression_model(\n",
    "    lgb_tuned,\n",
    "    X_train_random_split,\n",
    "    X_test_random_split,\n",
    "    y_train_random_split,\n",
    "    y_test_random_split,\n",
    ")"
   ]
  },
  {
   "cell_type": "code",
   "execution_count": 41,
   "id": "9caec811",
   "metadata": {},
   "outputs": [],
   "source": [
    "results.loc[3] = [\"random\", \"Optuna\", \"expanded\", rmse, mae]"
   ]
  },
  {
   "cell_type": "markdown",
   "id": "47fed830",
   "metadata": {},
   "source": [
    "###### MAE by level"
   ]
  },
  {
   "cell_type": "code",
   "execution_count": 42,
   "id": "c12fe14b",
   "metadata": {},
   "outputs": [
    {
     "data": {
      "image/png": "[encoded data removed]",
      "text/plain": [
       "<Figure size 1440x576 with 1 Axes>"
      ]
     },
     "metadata": {
      "needs_background": "light"
     },
     "output_type": "display_data"
    }
   ],
   "source": [
    "plot_mae_by_level(\n",
    "    y_test_random_split,\n",
    "    y_pred_test,\n",
    "    title=\"MAE by level for tuned LightGBM with expanded features and random split\",\n",
    ")"
   ]
  },
  {
   "cell_type": "code",
   "execution_count": 43,
   "id": "859f12f2",
   "metadata": {},
   "outputs": [
    {
     "name": "stdout",
     "output_type": "stream",
     "text": [
      "Default:\n",
      "RMSE: 0.21\n",
      "\n",
      "Round type: 0.5\n",
      "RMSE: 0.21\n",
      "\n",
      "Round type: 0.33\n",
      "RMSE: 0.25\n",
      "\n",
      "Round type: 0.45\n",
      "RMSE: 0.21\n",
      "\n"
     ]
    }
   ],
   "source": [
    "predict = lgb_tuned.predict(X_test)\n",
    "check_round_predictions([0.5, 0.33, 0.45], y_test, predict)"
   ]
  },
  {
   "cell_type": "code",
   "execution_count": 44,
   "id": "a046eead",
   "metadata": {},
   "outputs": [
    {
     "data": {
      "image/png": "[encoded data removed]",
      "text/plain": [
       "<Figure size 720x720 with 2 Axes>"
      ]
     },
     "metadata": {
      "needs_background": "light"
     },
     "output_type": "display_data"
    }
   ],
   "source": [
    "plot_confusion_matrix(\n",
    "    predict,\n",
    "    y_test,\n",
    "    title=\"Confusion matrix for tuned LightGBM with\\nexpanded features and random split\",\n",
    ")"
   ]
  },
  {
   "cell_type": "markdown",
   "id": "2e230699",
   "metadata": {},
   "source": [
    "## Summary"
   ]
  },
  {
   "cell_type": "code",
   "execution_count": 45,
   "id": "2edd08be",
   "metadata": {},
   "outputs": [
    {
     "data": {
      "text/html": [
       "<div>\n",
       "<style scoped>\n",
       "    .dataframe tbody tr th:only-of-type {\n",
       "        vertical-align: middle;\n",
       "    }\n",
       "\n",
       "    .dataframe tbody tr th {\n",
       "        vertical-align: top;\n",
       "    }\n",
       "\n",
       "    .dataframe thead th {\n",
       "        text-align: right;\n",
       "    }\n",
       "</style>\n",
       "<table border=\"1\" class=\"dataframe\">\n",
       "  <thead>\n",
       "    <tr style=\"text-align: right;\">\n",
       "      <th></th>\n",
       "      <th>Split type</th>\n",
       "      <th>Tuning type</th>\n",
       "      <th>Set of features</th>\n",
       "      <th>RMSE</th>\n",
       "      <th>MAE</th>\n",
       "    </tr>\n",
       "  </thead>\n",
       "  <tbody>\n",
       "    <tr>\n",
       "      <th>0</th>\n",
       "      <td>chronological</td>\n",
       "      <td>default</td>\n",
       "      <td>expanded</td>\n",
       "      <td>0.510777</td>\n",
       "      <td>0.357209</td>\n",
       "    </tr>\n",
       "    <tr>\n",
       "      <th>1</th>\n",
       "      <td>chronological</td>\n",
       "      <td>Optuna</td>\n",
       "      <td>expanded</td>\n",
       "      <td>0.465859</td>\n",
       "      <td>0.336190</td>\n",
       "    </tr>\n",
       "    <tr>\n",
       "      <th>2</th>\n",
       "      <td>random</td>\n",
       "      <td>default</td>\n",
       "      <td>expanded</td>\n",
       "      <td>0.384853</td>\n",
       "      <td>0.267273</td>\n",
       "    </tr>\n",
       "    <tr>\n",
       "      <th>3</th>\n",
       "      <td>random</td>\n",
       "      <td>Optuna</td>\n",
       "      <td>expanded</td>\n",
       "      <td>0.355773</td>\n",
       "      <td>0.240499</td>\n",
       "    </tr>\n",
       "  </tbody>\n",
       "</table>\n",
       "</div>"
      ],
      "text/plain": [
       "      Split type Tuning type Set of features      RMSE       MAE\n",
       "0  chronological     default        expanded  0.510777  0.357209\n",
       "1  chronological      Optuna        expanded  0.465859  0.336190\n",
       "2         random     default        expanded  0.384853  0.267273\n",
       "3         random      Optuna        expanded  0.355773  0.240499"
      ]
     },
     "execution_count": 45,
     "metadata": {},
     "output_type": "execute_result"
    }
   ],
   "source": [
    "results"
   ]
  },
  {
   "cell_type": "code",
   "execution_count": 46,
   "id": "7e403b40",
   "metadata": {},
   "outputs": [],
   "source": [
    "from training.results import plot_summary"
   ]
  },
  {
   "cell_type": "code",
   "execution_count": 47,
   "id": "1072db81",
   "metadata": {},
   "outputs": [
    {
     "data": {
      "image/png": "[encoded data removed]",
      "text/plain": [
       "<Figure size 1440x576 with 1 Axes>"
      ]
     },
     "metadata": {
      "needs_background": "light"
     },
     "output_type": "display_data"
    }
   ],
   "source": [
    "plot_summary(results, \"RMSE\", title=\"RMSE for LightGBM with expanded features\")"
   ]
  },
  {
   "cell_type": "code",
   "execution_count": 48,
   "id": "0a073f44",
   "metadata": {},
   "outputs": [
    {
     "data": {
      "image/png": "[encoded data removed]",
      "text/plain": [
       "<Figure size 1440x576 with 1 Axes>"
      ]
     },
     "metadata": {
      "needs_background": "light"
     },
     "output_type": "display_data"
    }
   ],
   "source": [
    "plot_summary(results, \"MAE\", title=\"MAE for LightGBM with expanded features\")"
   ]
  },
  {
   "cell_type": "code",
   "execution_count": 49,
   "id": "157af270",
   "metadata": {},
   "outputs": [],
   "source": [
    "results.to_json(\"./lightgbm_expanded_results.json\", indent=2)"
   ]
  },
  {
   "cell_type": "code",
   "execution_count": null,
   "id": "1b44b486",
   "metadata": {},
   "outputs": [],
   "source": []
  }
 ],
 "metadata": {
  "kernelspec": {
   "display_name": "Python 3 (ipykernel)",
   "language": "python",
   "name": "python3"
  },
  "language_info": {
   "codemirror_mode": {
    "name": "ipython",
    "version": 3
   },
   "file_extension": ".py",
   "mimetype": "text/x-python",
   "name": "python",
   "nbconvert_exporter": "python",
   "pygments_lexer": "ipython3",
   "version": "3.10.4"
  }
 },
 "nbformat": 4,
 "nbformat_minor": 5
}
