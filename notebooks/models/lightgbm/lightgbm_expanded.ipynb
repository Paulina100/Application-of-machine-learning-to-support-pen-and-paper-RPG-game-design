{
 "cells": [
  {
   "cell_type": "markdown",
   "id": "b61f8435",
   "metadata": {},
   "source": [
    "# LightGBM\n",
    "### Parameters:\n",
    "* **abilities**:\n",
    "    * **cha**\n",
    "    * **con**\n",
    "    * **dex**\n",
    "    * **int**\n",
    "    * **str**\n",
    "    * **wis**\n",
    "* **attributes**\n",
    "    * **hp**\n",
    "    * **ac**\n",
    "    * **perception**\n",
    "* **saves**\n",
    "    * **fortitude**\n",
    "    * **reflex**\n",
    "    * **will**\n",
    "* **resources**\n",
    "    * **focus**\n",
    "\n",
    "### Prediction: *level*\n",
    "\n",
    "## Loading data"
   ]
  },
  {
   "cell_type": "code",
   "execution_count": 1,
   "id": "64151d43",
   "metadata": {},
   "outputs": [],
   "source": [
    "import numpy as np\n",
    "import pandas as pd\n",
    "import sys\n",
    "\n",
    "import os\n",
    "import pathlib\n",
    "\n",
    "sys.path.append(\"../../..\")\n",
    "from training.creating_dataset import load_and_preprocess_data\n",
    "\n",
    "current_path = os.getcwd()\n",
    "DATASETS_DIR = pathlib.Path(current_path).parent.parent.parent / \"pathfinder_2e_data\"\n",
    "DATASET_FILES = [\n",
    "    \"pathfinder-bestiary.db\",\n",
    "    \"pathfinder-bestiary-2.db\",\n",
    "    \"pathfinder-bestiary-3.db\",\n",
    "]\n",
    "DATASET_PATHS = [f\"{DATASETS_DIR}/{file}\" for file in DATASET_FILES]\n",
    "features = [\n",
    "    \"cha\",\n",
    "    \"con\",\n",
    "    \"dex\",\n",
    "    \"int\",\n",
    "    \"str\",\n",
    "    \"wis\",\n",
    "    \"ac\",\n",
    "    \"hp\",\n",
    "    \"perception\",\n",
    "    \"fortitude\",\n",
    "    \"reflex\",\n",
    "    \"will\",\n",
    "    \"focus\",\n",
    "]\n",
    "\n",
    "df = load_and_preprocess_data(\n",
    "    DATASET_PATHS,\n",
    "    characteristics=features,\n",
    ")"
   ]
  },
  {
   "cell_type": "code",
   "execution_count": 2,
   "id": "ec1e8424",
   "metadata": {},
   "outputs": [
    {
     "name": "stdout",
     "output_type": "stream",
     "text": [
      "<class 'pandas.core.frame.DataFrame'>\n",
      "Int64Index: 1206 entries, 0 to 1205\n",
      "Data columns (total 15 columns):\n",
      " #   Column      Non-Null Count  Dtype \n",
      "---  ------      --------------  ----- \n",
      " 0   wis         1206 non-null   int64 \n",
      " 1   reflex      1206 non-null   int64 \n",
      " 2   str         1206 non-null   int64 \n",
      " 3   hp          1206 non-null   int64 \n",
      " 4   fortitude   1206 non-null   int64 \n",
      " 5   focus       1206 non-null   int32 \n",
      " 6   cha         1206 non-null   int64 \n",
      " 7   dex         1206 non-null   int64 \n",
      " 8   int         1206 non-null   int64 \n",
      " 9   level       1206 non-null   int64 \n",
      " 10  ac          1206 non-null   int64 \n",
      " 11  perception  1206 non-null   int64 \n",
      " 12  book        1206 non-null   object\n",
      " 13  con         1206 non-null   int64 \n",
      " 14  will        1206 non-null   int64 \n",
      "dtypes: int32(1), int64(13), object(1)\n",
      "memory usage: 146.0+ KB\n"
     ]
    }
   ],
   "source": [
    "df.info()"
   ]
  },
  {
   "cell_type": "code",
   "execution_count": 3,
   "id": "211d736c",
   "metadata": {},
   "outputs": [
    {
     "data": {
      "text/html": [
       "<div>\n",
       "<style scoped>\n",
       "    .dataframe tbody tr th:only-of-type {\n",
       "        vertical-align: middle;\n",
       "    }\n",
       "\n",
       "    .dataframe tbody tr th {\n",
       "        vertical-align: top;\n",
       "    }\n",
       "\n",
       "    .dataframe thead th {\n",
       "        text-align: right;\n",
       "    }\n",
       "</style>\n",
       "<table border=\"1\" class=\"dataframe\">\n",
       "  <thead>\n",
       "    <tr style=\"text-align: right;\">\n",
       "      <th></th>\n",
       "      <th>wis</th>\n",
       "      <th>reflex</th>\n",
       "      <th>str</th>\n",
       "      <th>hp</th>\n",
       "      <th>fortitude</th>\n",
       "      <th>focus</th>\n",
       "      <th>cha</th>\n",
       "      <th>dex</th>\n",
       "      <th>int</th>\n",
       "      <th>level</th>\n",
       "      <th>ac</th>\n",
       "      <th>perception</th>\n",
       "      <th>book</th>\n",
       "      <th>con</th>\n",
       "      <th>will</th>\n",
       "    </tr>\n",
       "  </thead>\n",
       "  <tbody>\n",
       "    <tr>\n",
       "      <th>0</th>\n",
       "      <td>2</td>\n",
       "      <td>19</td>\n",
       "      <td>7</td>\n",
       "      <td>215</td>\n",
       "      <td>22</td>\n",
       "      <td>1</td>\n",
       "      <td>1</td>\n",
       "      <td>2</td>\n",
       "      <td>1</td>\n",
       "      <td>10</td>\n",
       "      <td>29</td>\n",
       "      <td>20</td>\n",
       "      <td>Pathfinder Bestiary</td>\n",
       "      <td>5</td>\n",
       "      <td>17</td>\n",
       "    </tr>\n",
       "    <tr>\n",
       "      <th>1</th>\n",
       "      <td>2</td>\n",
       "      <td>14</td>\n",
       "      <td>9</td>\n",
       "      <td>220</td>\n",
       "      <td>21</td>\n",
       "      <td>0</td>\n",
       "      <td>1</td>\n",
       "      <td>0</td>\n",
       "      <td>-4</td>\n",
       "      <td>10</td>\n",
       "      <td>28</td>\n",
       "      <td>16</td>\n",
       "      <td>Pathfinder Bestiary</td>\n",
       "      <td>5</td>\n",
       "      <td>16</td>\n",
       "    </tr>\n",
       "    <tr>\n",
       "      <th>2</th>\n",
       "      <td>3</td>\n",
       "      <td>17</td>\n",
       "      <td>7</td>\n",
       "      <td>175</td>\n",
       "      <td>20</td>\n",
       "      <td>0</td>\n",
       "      <td>-2</td>\n",
       "      <td>3</td>\n",
       "      <td>-4</td>\n",
       "      <td>8</td>\n",
       "      <td>25</td>\n",
       "      <td>17</td>\n",
       "      <td>Pathfinder Bestiary</td>\n",
       "      <td>6</td>\n",
       "      <td>15</td>\n",
       "    </tr>\n",
       "    <tr>\n",
       "      <th>3</th>\n",
       "      <td>5</td>\n",
       "      <td>29</td>\n",
       "      <td>7</td>\n",
       "      <td>315</td>\n",
       "      <td>30</td>\n",
       "      <td>1</td>\n",
       "      <td>6</td>\n",
       "      <td>4</td>\n",
       "      <td>6</td>\n",
       "      <td>17</td>\n",
       "      <td>41</td>\n",
       "      <td>30</td>\n",
       "      <td>Pathfinder Bestiary</td>\n",
       "      <td>5</td>\n",
       "      <td>32</td>\n",
       "    </tr>\n",
       "    <tr>\n",
       "      <th>4</th>\n",
       "      <td>1</td>\n",
       "      <td>10</td>\n",
       "      <td>-5</td>\n",
       "      <td>20</td>\n",
       "      <td>6</td>\n",
       "      <td>1</td>\n",
       "      <td>1</td>\n",
       "      <td>3</td>\n",
       "      <td>-1</td>\n",
       "      <td>1</td>\n",
       "      <td>16</td>\n",
       "      <td>6</td>\n",
       "      <td>Pathfinder Bestiary</td>\n",
       "      <td>1</td>\n",
       "      <td>4</td>\n",
       "    </tr>\n",
       "  </tbody>\n",
       "</table>\n",
       "</div>"
      ],
      "text/plain": [
       "   wis  reflex  str   hp  fortitude  focus  cha  dex  int  level  ac  \\\n",
       "0    2      19    7  215         22      1    1    2    1     10  29   \n",
       "1    2      14    9  220         21      0    1    0   -4     10  28   \n",
       "2    3      17    7  175         20      0   -2    3   -4      8  25   \n",
       "3    5      29    7  315         30      1    6    4    6     17  41   \n",
       "4    1      10   -5   20          6      1    1    3   -1      1  16   \n",
       "\n",
       "   perception                 book  con  will  \n",
       "0          20  Pathfinder Bestiary    5    17  \n",
       "1          16  Pathfinder Bestiary    5    16  \n",
       "2          17  Pathfinder Bestiary    6    15  \n",
       "3          30  Pathfinder Bestiary    5    32  \n",
       "4           6  Pathfinder Bestiary    1     4  "
      ]
     },
     "execution_count": 3,
     "metadata": {},
     "output_type": "execute_result"
    }
   ],
   "source": [
    "df.head()"
   ]
  },
  {
   "cell_type": "markdown",
   "id": "1bf55cc1",
   "metadata": {},
   "source": [
    "###### Level"
   ]
  },
  {
   "cell_type": "code",
   "execution_count": 4,
   "id": "2d322d72",
   "metadata": {},
   "outputs": [
    {
     "data": {
      "text/plain": [
       "0       10\n",
       "1       10\n",
       "2        8\n",
       "3       17\n",
       "4        1\n",
       "        ..\n",
       "1201    20\n",
       "1202    -1\n",
       "1203    12\n",
       "1204     6\n",
       "1205     6\n",
       "Name: level, Length: 1206, dtype: int64"
      ]
     },
     "execution_count": 4,
     "metadata": {},
     "output_type": "execute_result"
    }
   ],
   "source": [
    "y = df[\"level\"]\n",
    "y"
   ]
  },
  {
   "cell_type": "code",
   "execution_count": 5,
   "id": "e7887f19",
   "metadata": {},
   "outputs": [],
   "source": [
    "from collections import defaultdict\n",
    "\n",
    "\n",
    "lvl_stat = defaultdict(lambda: 0)\n",
    "\n",
    "for lvl in y:\n",
    "    lvl_stat[lvl] += 1"
   ]
  },
  {
   "cell_type": "code",
   "execution_count": 6,
   "id": "c982e6d0",
   "metadata": {},
   "outputs": [
    {
     "data": {
      "text/html": [
       "<div>\n",
       "<style scoped>\n",
       "    .dataframe tbody tr th:only-of-type {\n",
       "        vertical-align: middle;\n",
       "    }\n",
       "\n",
       "    .dataframe tbody tr th {\n",
       "        vertical-align: top;\n",
       "    }\n",
       "\n",
       "    .dataframe thead th {\n",
       "        text-align: right;\n",
       "    }\n",
       "</style>\n",
       "<table border=\"1\" class=\"dataframe\">\n",
       "  <thead>\n",
       "    <tr style=\"text-align: right;\">\n",
       "      <th></th>\n",
       "      <th>lvl</th>\n",
       "      <th>count</th>\n",
       "    </tr>\n",
       "  </thead>\n",
       "  <tbody>\n",
       "    <tr>\n",
       "      <th>0</th>\n",
       "      <td>-1</td>\n",
       "      <td>34</td>\n",
       "    </tr>\n",
       "    <tr>\n",
       "      <th>1</th>\n",
       "      <td>0</td>\n",
       "      <td>27</td>\n",
       "    </tr>\n",
       "    <tr>\n",
       "      <th>2</th>\n",
       "      <td>1</td>\n",
       "      <td>127</td>\n",
       "    </tr>\n",
       "    <tr>\n",
       "      <th>3</th>\n",
       "      <td>2</td>\n",
       "      <td>121</td>\n",
       "    </tr>\n",
       "    <tr>\n",
       "      <th>4</th>\n",
       "      <td>3</td>\n",
       "      <td>95</td>\n",
       "    </tr>\n",
       "    <tr>\n",
       "      <th>5</th>\n",
       "      <td>4</td>\n",
       "      <td>82</td>\n",
       "    </tr>\n",
       "    <tr>\n",
       "      <th>6</th>\n",
       "      <td>5</td>\n",
       "      <td>76</td>\n",
       "    </tr>\n",
       "    <tr>\n",
       "      <th>7</th>\n",
       "      <td>6</td>\n",
       "      <td>72</td>\n",
       "    </tr>\n",
       "    <tr>\n",
       "      <th>8</th>\n",
       "      <td>7</td>\n",
       "      <td>77</td>\n",
       "    </tr>\n",
       "    <tr>\n",
       "      <th>9</th>\n",
       "      <td>8</td>\n",
       "      <td>68</td>\n",
       "    </tr>\n",
       "    <tr>\n",
       "      <th>10</th>\n",
       "      <td>9</td>\n",
       "      <td>63</td>\n",
       "    </tr>\n",
       "    <tr>\n",
       "      <th>11</th>\n",
       "      <td>10</td>\n",
       "      <td>58</td>\n",
       "    </tr>\n",
       "    <tr>\n",
       "      <th>12</th>\n",
       "      <td>11</td>\n",
       "      <td>40</td>\n",
       "    </tr>\n",
       "    <tr>\n",
       "      <th>13</th>\n",
       "      <td>12</td>\n",
       "      <td>41</td>\n",
       "    </tr>\n",
       "    <tr>\n",
       "      <th>14</th>\n",
       "      <td>13</td>\n",
       "      <td>36</td>\n",
       "    </tr>\n",
       "    <tr>\n",
       "      <th>15</th>\n",
       "      <td>14</td>\n",
       "      <td>33</td>\n",
       "    </tr>\n",
       "    <tr>\n",
       "      <th>16</th>\n",
       "      <td>15</td>\n",
       "      <td>31</td>\n",
       "    </tr>\n",
       "    <tr>\n",
       "      <th>17</th>\n",
       "      <td>16</td>\n",
       "      <td>25</td>\n",
       "    </tr>\n",
       "    <tr>\n",
       "      <th>18</th>\n",
       "      <td>17</td>\n",
       "      <td>21</td>\n",
       "    </tr>\n",
       "    <tr>\n",
       "      <th>19</th>\n",
       "      <td>18</td>\n",
       "      <td>21</td>\n",
       "    </tr>\n",
       "    <tr>\n",
       "      <th>20</th>\n",
       "      <td>19</td>\n",
       "      <td>18</td>\n",
       "    </tr>\n",
       "    <tr>\n",
       "      <th>21</th>\n",
       "      <td>20</td>\n",
       "      <td>24</td>\n",
       "    </tr>\n",
       "    <tr>\n",
       "      <th>22</th>\n",
       "      <td>21</td>\n",
       "      <td>16</td>\n",
       "    </tr>\n",
       "  </tbody>\n",
       "</table>\n",
       "</div>"
      ],
      "text/plain": [
       "    lvl  count\n",
       "0    -1     34\n",
       "1     0     27\n",
       "2     1    127\n",
       "3     2    121\n",
       "4     3     95\n",
       "5     4     82\n",
       "6     5     76\n",
       "7     6     72\n",
       "8     7     77\n",
       "9     8     68\n",
       "10    9     63\n",
       "11   10     58\n",
       "12   11     40\n",
       "13   12     41\n",
       "14   13     36\n",
       "15   14     33\n",
       "16   15     31\n",
       "17   16     25\n",
       "18   17     21\n",
       "19   18     21\n",
       "20   19     18\n",
       "21   20     24\n",
       "22   21     16"
      ]
     },
     "execution_count": 6,
     "metadata": {},
     "output_type": "execute_result"
    }
   ],
   "source": [
    "level_count = pd.DataFrame(\n",
    "    data={\n",
    "        \"lvl\": [key for key in sorted(lvl_stat.keys())],\n",
    "        \"count\": [lvl_stat.get(key) for key in sorted(lvl_stat.keys())],\n",
    "    }\n",
    ")\n",
    "level_count"
   ]
  },
  {
   "cell_type": "code",
   "execution_count": 7,
   "id": "686877dd",
   "metadata": {},
   "outputs": [
    {
     "data": {
      "image/png": "[encoded data removed]",
      "text/plain": [
       "<Figure size 432x288 with 1 Axes>"
      ]
     },
     "metadata": {
      "needs_background": "light"
     },
     "output_type": "display_data"
    }
   ],
   "source": [
    "import matplotlib.pyplot as plt\n",
    "\n",
    "\n",
    "level_count.plot.bar(x=\"lvl\", y=\"count\", title=\"Count of levels\")\n",
    "plt.show()"
   ]
  },
  {
   "cell_type": "markdown",
   "id": "3f976e4a",
   "metadata": {},
   "source": [
    "## Train test split"
   ]
  },
  {
   "cell_type": "markdown",
   "id": "eb8cec62",
   "metadata": {},
   "source": [
    "### Chronological split"
   ]
  },
  {
   "cell_type": "code",
   "execution_count": 8,
   "id": "c6c29573",
   "metadata": {},
   "outputs": [],
   "source": [
    "from training.splitting_dataset import split_dataframe\n",
    "\n",
    "\n",
    "os.chdir(\"../../../training\")\n",
    "X_train, X_test, y_train, y_test = split_dataframe(df, test_size=0.31)\n",
    "os.chdir(\"../notebooks/models/lightgbm\")"
   ]
  },
  {
   "cell_type": "code",
   "execution_count": 9,
   "id": "f6894cc0",
   "metadata": {},
   "outputs": [],
   "source": [
    "X_train = X_train.drop(columns=[\"book\"])\n",
    "X_test = X_test.drop(columns=[\"book\"])"
   ]
  },
  {
   "cell_type": "markdown",
   "id": "31a0109c",
   "metadata": {},
   "source": [
    "### Random split"
   ]
  },
  {
   "cell_type": "code",
   "execution_count": 10,
   "id": "4d3e1121",
   "metadata": {},
   "outputs": [],
   "source": [
    "(\n",
    "    X_train_random_split,\n",
    "    X_test_random_split,\n",
    "    y_train_random_split,\n",
    "    y_test_random_split,\n",
    ") = split_dataframe(df, chronological_split=False)"
   ]
  },
  {
   "cell_type": "code",
   "execution_count": 11,
   "id": "f0c2041a",
   "metadata": {},
   "outputs": [],
   "source": [
    "X_train_random_split = X_train_random_split.drop(columns=[\"book\"])\n",
    "X_test_random_split = X_test_random_split.drop(columns=[\"book\"])"
   ]
  },
  {
   "cell_type": "markdown",
   "id": "e4776792",
   "metadata": {},
   "source": [
    "## LightGBM"
   ]
  },
  {
   "cell_type": "markdown",
   "id": "3f629b2d",
   "metadata": {},
   "source": [
    "## Chronological split"
   ]
  },
  {
   "cell_type": "code",
   "execution_count": 12,
   "id": "e818a3cc",
   "metadata": {},
   "outputs": [
    {
     "name": "stdout",
     "output_type": "stream",
     "text": [
      "[LightGBM] [Warning] Auto-choosing col-wise multi-threading, the overhead of testing was 0.000441 seconds.\n",
      "You can set `force_col_wise=true` to remove the overhead.\n",
      "[LightGBM] [Info] Total Bins 379\n",
      "[LightGBM] [Info] Number of data points in the train set: 841, number of used features: 13\n",
      "[LightGBM] [Info] Start training from score 6.966706\n",
      "Training until validation scores don't improve for 5 rounds\n",
      "[LightGBM] [Warning] No further splits with positive gain, best gain: -inf\n",
      "[LightGBM] [Warning] No further splits with positive gain, best gain: -inf\n",
      "[LightGBM] [Warning] No further splits with positive gain, best gain: -inf\n",
      "[LightGBM] [Warning] No further splits with positive gain, best gain: -inf\n",
      "[LightGBM] [Warning] No further splits with positive gain, best gain: -inf\n",
      "[LightGBM] [Warning] No further splits with positive gain, best gain: -inf\n",
      "[LightGBM] [Warning] No further splits with positive gain, best gain: -inf\n",
      "[LightGBM] [Warning] No further splits with positive gain, best gain: -inf\n",
      "[LightGBM] [Warning] No further splits with positive gain, best gain: -inf\n",
      "[LightGBM] [Warning] No further splits with positive gain, best gain: -inf\n",
      "[LightGBM] [Warning] No further splits with positive gain, best gain: -inf\n",
      "[LightGBM] [Warning] No further splits with positive gain, best gain: -inf\n",
      "Early stopping, best iteration is:\n",
      "[66]\tvalid_0's l1: 0.357206\tvalid_0's l2: 0.260888\n"
     ]
    }
   ],
   "source": [
    "import lightgbm as lgb\n",
    "\n",
    "lgb_train = lgb.Dataset(X_train, y_train)\n",
    "lgb_eval = lgb.Dataset(X_test, y_test, reference=lgb_train)\n",
    "\n",
    "params = {\n",
    "    \"boosting_type\": \"gbdt\",\n",
    "    \"objective\": \"regression\",\n",
    "    \"metric\": {\"l2\", \"l1\"},\n",
    "}\n",
    "\n",
    "gbm = lgb.train(\n",
    "    params,\n",
    "    lgb_train,\n",
    "    num_boost_round=100,\n",
    "    valid_sets=lgb_eval,\n",
    "    callbacks=[lgb.early_stopping(stopping_rounds=5)],\n",
    ")"
   ]
  },
  {
   "cell_type": "code",
   "execution_count": 13,
   "id": "b2dd69b5",
   "metadata": {},
   "outputs": [],
   "source": [
    "y_pred_train = gbm.predict(X_train, num_iteration=gbm.best_iteration)\n",
    "y_pred_test = gbm.predict(X_test, num_iteration=gbm.best_iteration)"
   ]
  },
  {
   "cell_type": "code",
   "execution_count": 14,
   "id": "68b425f7",
   "metadata": {},
   "outputs": [
    {
     "name": "stdout",
     "output_type": "stream",
     "text": [
      "RMSE: 0.51\n",
      "MAE: 0.36\n"
     ]
    }
   ],
   "source": [
    "from sklearn.metrics import mean_squared_error, mean_absolute_error\n",
    "\n",
    "\n",
    "rmse = mean_squared_error(y_test, y_pred_test, squared=False)\n",
    "mae = mean_absolute_error(y_test, y_pred_test)\n",
    "\n",
    "print(f\"RMSE: {rmse:.2f}\")\n",
    "print(f\"MAE: {mae:.2f}\")"
   ]
  },
  {
   "cell_type": "code",
   "execution_count": 15,
   "id": "a615e9df",
   "metadata": {},
   "outputs": [],
   "source": [
    "results = pd.DataFrame(\n",
    "    data={\n",
    "        \"Split type\": [],\n",
    "        \"Tuning type\": [],\n",
    "        \"Set of features\": [],\n",
    "        \"RMSE\": [],\n",
    "        \"MAE\": [],\n",
    "    }\n",
    ")\n",
    "\n",
    "results.loc[0] = [\"chronological\", \"default\", \"expanded\", rmse, mae]"
   ]
  },
  {
   "cell_type": "code",
   "execution_count": 16,
   "id": "9d777b5d",
   "metadata": {},
   "outputs": [
    {
     "name": "stdout",
     "output_type": "stream",
     "text": [
      "RMSE train: 0.21\n",
      "RMSE test: 0.51\n"
     ]
    }
   ],
   "source": [
    "rmse_train = mean_squared_error(y_train, y_pred_train, squared=False)\n",
    "rmse_test = mean_squared_error(y_test, y_pred_test, squared=False)\n",
    "print(f\"RMSE train: {rmse_train:.2f}\")\n",
    "print(f\"RMSE test: {rmse_test:.2f}\")"
   ]
  },
  {
   "cell_type": "markdown",
   "id": "c8d83c18",
   "metadata": {},
   "source": [
    "###### MAE by level"
   ]
  },
  {
   "cell_type": "code",
   "execution_count": 17,
   "id": "ac580d53",
   "metadata": {},
   "outputs": [],
   "source": [
    "from training.results import plot_mae_by_level"
   ]
  },
  {
   "cell_type": "code",
   "execution_count": 18,
   "id": "53b88797",
   "metadata": {},
   "outputs": [
    {
     "data": {
      "image/png": "[encoded data removed]",
      "text/plain": [
       "<Figure size 720x432 with 1 Axes>"
      ]
     },
     "metadata": {
      "needs_background": "light"
     },
     "output_type": "display_data"
    }
   ],
   "source": [
    "plot_mae_by_level(\n",
    "    y_test,\n",
    "    y_pred_test,\n",
    "    title=\"MAE by level for default LightGBM with expanded features and chronological split\",\n",
    ")"
   ]
  },
  {
   "cell_type": "code",
   "execution_count": 19,
   "id": "4135d981",
   "metadata": {},
   "outputs": [
    {
     "name": "stdout",
     "output_type": "stream",
     "text": [
      "Default:\n",
      "RMSE: 0.51\n",
      "\n",
      "Round type: 0.5\n",
      "RMSE: 0.55\n",
      "\n",
      "Round type: 0.33\n",
      "RMSE: 0.54\n",
      "\n",
      "Round type: 0.45\n",
      "RMSE: 0.54\n",
      "\n"
     ]
    }
   ],
   "source": [
    "from training.results import check_round_predictions, plot_confusion_matrix\n",
    "\n",
    "\n",
    "check_round_predictions([0.5, 0.33, 0.45], y_test, y_pred_test)"
   ]
  },
  {
   "cell_type": "code",
   "execution_count": 20,
   "id": "4741e1ec",
   "metadata": {},
   "outputs": [
    {
     "data": {
      "image/png": "[encoded data removed]",
      "text/plain": [
       "<Figure size 432x288 with 2 Axes>"
      ]
     },
     "metadata": {
      "needs_background": "light"
     },
     "output_type": "display_data"
    }
   ],
   "source": [
    "plot_confusion_matrix(\n",
    "    y_pred_test,\n",
    "    y_test,\n",
    "    title=\"Confusion matrix for default LightGBM with expanded features and chronological split\",\n",
    ")"
   ]
  },
  {
   "cell_type": "markdown",
   "id": "a6b03404",
   "metadata": {},
   "source": [
    "#### Tuning"
   ]
  },
  {
   "cell_type": "code",
   "execution_count": 21,
   "id": "e7f8b7ee",
   "metadata": {},
   "outputs": [],
   "source": [
    "from training.results import assess_regression_model"
   ]
  },
  {
   "cell_type": "code",
   "execution_count": 22,
   "id": "10cd6bac",
   "metadata": {
    "scrolled": true
   },
   "outputs": [
    {
     "name": "stderr",
     "output_type": "stream",
     "text": [
      "[I 2023-11-05 13:56:28,317] A new study created in memory with name: no-name-7a9bc0d3-ab34-4955-a881-3714b156d517\n",
      "feature_fraction, val_score: inf:   0%|                                                          | 0/7 [00:00<?, ?it/s]"
     ]
    },
    {
     "name": "stdout",
     "output_type": "stream",
     "text": [
      "Training until validation scores don't improve for 100 rounds\n",
      "[100]\tcv_agg's l2: 0.17495 + 0.0358615\n",
      "[200]\tcv_agg's l2: 0.172929 + 0.0346286\n"
     ]
    },
    {
     "name": "stderr",
     "output_type": "stream",
     "text": [
      "feature_fraction, val_score: 0.172148:  14%|######4                                      | 1/7 [00:02<00:13,  2.32s/it][I 2023-11-05 13:56:30,644] Trial 0 finished with value: 0.17214758828348609 and parameters: {'feature_fraction': 0.7}. Best is trial 0 with value: 0.17214758828348609.\n",
      "feature_fraction, val_score: 0.172148:  14%|######4                                      | 1/7 [00:02<00:13,  2.32s/it]"
     ]
    },
    {
     "name": "stdout",
     "output_type": "stream",
     "text": [
      "[300]\tcv_agg's l2: 0.173294 + 0.0348755\n",
      "Early stopping, best iteration is:\n",
      "[225]\tcv_agg's l2: 0.172148 + 0.0342682\n",
      "[100]\tcv_agg's l2: 0.166786 + 0.0270658\n",
      "[200]\tcv_agg's l2: 0.162584 + 0.025227\n",
      "[300]\tcv_agg's l2: 0.161879 + 0.0252672\n"
     ]
    },
    {
     "name": "stderr",
     "output_type": "stream",
     "text": [
      "feature_fraction, val_score: 0.161790:  29%|############8                                | 2/7 [00:04<00:12,  2.52s/it][I 2023-11-05 13:56:33,296] Trial 1 finished with value: 0.16178981337298332 and parameters: {'feature_fraction': 0.5}. Best is trial 1 with value: 0.16178981337298332.\n",
      "feature_fraction, val_score: 0.161790:  29%|############8                                | 2/7 [00:04<00:12,  2.52s/it]"
     ]
    },
    {
     "name": "stdout",
     "output_type": "stream",
     "text": [
      "Early stopping, best iteration is:\n",
      "[295]\tcv_agg's l2: 0.16179 + 0.0250665\n",
      "[100]\tcv_agg's l2: 0.166714 + 0.0231257\n",
      "[200]\tcv_agg's l2: 0.163317 + 0.0203853\n",
      "[300]\tcv_agg's l2: 0.163122 + 0.0203494\n"
     ]
    },
    {
     "name": "stderr",
     "output_type": "stream",
     "text": [
      "feature_fraction, val_score: 0.161790:  43%|###################2                         | 3/7 [00:07<00:10,  2.56s/it][I 2023-11-05 13:56:35,905] Trial 2 finished with value: 0.16311068299897694 and parameters: {'feature_fraction': 0.4}. Best is trial 1 with value: 0.16178981337298332.\n",
      "feature_fraction, val_score: 0.161790:  43%|###################2                         | 3/7 [00:07<00:10,  2.56s/it]"
     ]
    },
    {
     "name": "stdout",
     "output_type": "stream",
     "text": [
      "Early stopping, best iteration is:\n",
      "[295]\tcv_agg's l2: 0.16179 + 0.0250665\n",
      "[100]\tcv_agg's l2: 0.189399 + 0.0383444\n",
      "[200]\tcv_agg's l2: 0.186184 + 0.036373\n",
      "[300]\tcv_agg's l2: 0.185642 + 0.0359738\n"
     ]
    },
    {
     "name": "stderr",
     "output_type": "stream",
     "text": [
      "feature_fraction, val_score: 0.161790:  57%|#########################7                   | 4/7 [00:10<00:08,  2.68s/it][I 2023-11-05 13:56:38,761] Trial 3 finished with value: 0.18567965480782841 and parameters: {'feature_fraction': 1.0}. Best is trial 1 with value: 0.16178981337298332.\n",
      "feature_fraction, val_score: 0.161790:  57%|#########################7                   | 4/7 [00:10<00:08,  2.68s/it]"
     ]
    },
    {
     "name": "stdout",
     "output_type": "stream",
     "text": [
      "Early stopping, best iteration is:\n",
      "[295]\tcv_agg's l2: 0.16179 + 0.0250665\n",
      "[100]\tcv_agg's l2: 0.180073 + 0.0438197\n",
      "[200]\tcv_agg's l2: 0.17646 + 0.0402654\n",
      "[300]\tcv_agg's l2: 0.176118 + 0.0395711\n"
     ]
    },
    {
     "name": "stderr",
     "output_type": "stream",
     "text": [
      "feature_fraction, val_score: 0.161790:  71%|################################1            | 5/7 [00:13<00:05,  2.65s/it][I 2023-11-05 13:56:41,363] Trial 4 finished with value: 0.1760408462174366 and parameters: {'feature_fraction': 0.8}. Best is trial 1 with value: 0.16178981337298332.\n",
      "feature_fraction, val_score: 0.161790:  71%|################################1            | 5/7 [00:13<00:05,  2.65s/it]"
     ]
    },
    {
     "name": "stdout",
     "output_type": "stream",
     "text": [
      "Early stopping, best iteration is:\n",
      "[295]\tcv_agg's l2: 0.16179 + 0.0250665\n",
      "[100]\tcv_agg's l2: 0.181678 + 0.0305417\n",
      "[200]\tcv_agg's l2: 0.178113 + 0.0284832\n",
      "[300]\tcv_agg's l2: 0.178184 + 0.0281777\n"
     ]
    },
    {
     "name": "stderr",
     "output_type": "stream",
     "text": [
      "feature_fraction, val_score: 0.161790:  86%|######################################5      | 6/7 [00:15<00:02,  2.66s/it][I 2023-11-05 13:56:44,050] Trial 5 finished with value: 0.1780648706509998 and parameters: {'feature_fraction': 0.8999999999999999}. Best is trial 1 with value: 0.16178981337298332.\n",
      "feature_fraction, val_score: 0.161790:  86%|######################################5      | 6/7 [00:15<00:02,  2.66s/it]"
     ]
    },
    {
     "name": "stdout",
     "output_type": "stream",
     "text": [
      "Early stopping, best iteration is:\n",
      "[295]\tcv_agg's l2: 0.16179 + 0.0250665\n",
      "[100]\tcv_agg's l2: 0.172172 + 0.0318777\n",
      "[200]\tcv_agg's l2: 0.170319 + 0.0295371\n",
      "[300]\tcv_agg's l2: 0.171107 + 0.0291659\n"
     ]
    },
    {
     "name": "stderr",
     "output_type": "stream",
     "text": [
      "feature_fraction, val_score: 0.161790: 100%|#############################################| 7/7 [00:18<00:00,  2.67s/it][I 2023-11-05 13:56:46,736] Trial 6 finished with value: 0.17102015494043776 and parameters: {'feature_fraction': 0.6}. Best is trial 1 with value: 0.16178981337298332.\n",
      "feature_fraction, val_score: 0.161790: 100%|#############################################| 7/7 [00:18<00:00,  2.63s/it]\n"
     ]
    },
    {
     "name": "stdout",
     "output_type": "stream",
     "text": [
      "Early stopping, best iteration is:\n",
      "[295]\tcv_agg's l2: 0.16179 + 0.0250665\n"
     ]
    },
    {
     "name": "stderr",
     "output_type": "stream",
     "text": [
      "num_leaves, val_score: 0.161790:   0%|                                                          | 0/20 [00:00<?, ?it/s]"
     ]
    },
    {
     "name": "stdout",
     "output_type": "stream",
     "text": [
      "[100]\tcv_agg's l2: 0.166786 + 0.0270658\n",
      "[200]\tcv_agg's l2: 0.162584 + 0.025227\n",
      "[300]\tcv_agg's l2: 0.161879 + 0.0252672\n"
     ]
    },
    {
     "name": "stderr",
     "output_type": "stream",
     "text": [
      "num_leaves, val_score: 0.161790:   5%|##5                                               | 1/20 [00:03<00:58,  3.10s/it][I 2023-11-05 13:56:49,838] Trial 7 finished with value: 0.16178981337298332 and parameters: {'num_leaves': 235}. Best is trial 7 with value: 0.16178981337298332.\n",
      "num_leaves, val_score: 0.161790:   5%|##5                                               | 1/20 [00:03<00:58,  3.10s/it]"
     ]
    },
    {
     "name": "stdout",
     "output_type": "stream",
     "text": [
      "Early stopping, best iteration is:\n",
      "[295]\tcv_agg's l2: 0.16179 + 0.0250665\n",
      "[100]\tcv_agg's l2: 0.166786 + 0.0270658\n",
      "[200]\tcv_agg's l2: 0.162584 + 0.025227\n",
      "[300]\tcv_agg's l2: 0.161879 + 0.0252672\n"
     ]
    },
    {
     "name": "stderr",
     "output_type": "stream",
     "text": [
      "num_leaves, val_score: 0.161790:  10%|#####                                             | 2/20 [00:06<00:58,  3.24s/it][I 2023-11-05 13:56:53,172] Trial 8 finished with value: 0.16178981337298332 and parameters: {'num_leaves': 193}. Best is trial 7 with value: 0.16178981337298332.\n",
      "num_leaves, val_score: 0.161790:  10%|#####                                             | 2/20 [00:06<00:58,  3.24s/it]"
     ]
    },
    {
     "name": "stdout",
     "output_type": "stream",
     "text": [
      "Early stopping, best iteration is:\n",
      "[295]\tcv_agg's l2: 0.16179 + 0.0250665\n",
      "[100]\tcv_agg's l2: 0.166786 + 0.0270658\n",
      "[200]\tcv_agg's l2: 0.162584 + 0.025227\n",
      "[300]\tcv_agg's l2: 0.161879 + 0.0252672\n"
     ]
    },
    {
     "name": "stderr",
     "output_type": "stream",
     "text": [
      "num_leaves, val_score: 0.161790:  15%|#######5                                          | 3/20 [00:09<00:57,  3.38s/it][I 2023-11-05 13:56:56,728] Trial 9 finished with value: 0.16178981337298332 and parameters: {'num_leaves': 223}. Best is trial 7 with value: 0.16178981337298332.\n",
      "num_leaves, val_score: 0.161790:  15%|#######5                                          | 3/20 [00:09<00:57,  3.38s/it]"
     ]
    },
    {
     "name": "stdout",
     "output_type": "stream",
     "text": [
      "Early stopping, best iteration is:\n",
      "[295]\tcv_agg's l2: 0.16179 + 0.0250665\n",
      "[100]\tcv_agg's l2: 0.164748 + 0.0269342\n",
      "[200]\tcv_agg's l2: 0.161537 + 0.0251767\n"
     ]
    },
    {
     "name": "stderr",
     "output_type": "stream",
     "text": [
      "num_leaves, val_score: 0.161266:  20%|##########                                        | 4/20 [00:13<00:55,  3.45s/it][I 2023-11-05 13:57:00,286] Trial 10 finished with value: 0.16126608913027934 and parameters: {'num_leaves': 21}. Best is trial 10 with value: 0.16126608913027934.\n",
      "num_leaves, val_score: 0.161266:  20%|##########                                        | 4/20 [00:13<00:55,  3.45s/it]"
     ]
    },
    {
     "name": "stdout",
     "output_type": "stream",
     "text": [
      "[300]\tcv_agg's l2: 0.162456 + 0.0248587\n",
      "Early stopping, best iteration is:\n",
      "[213]\tcv_agg's l2: 0.161266 + 0.0251218\n",
      "[100]\tcv_agg's l2: 0.319334 + 0.0602125\n",
      "[200]\tcv_agg's l2: 0.283309 + 0.0552855\n"
     ]
    },
    {
     "name": "stderr",
     "output_type": "stream",
     "text": [
      "num_leaves, val_score: 0.161266:  25%|############5                                     | 5/20 [00:14<00:37,  2.47s/it][I 2023-11-05 13:57:01,008] Trial 11 finished with value: 0.28169863732646544 and parameters: {'num_leaves': 2}. Best is trial 10 with value: 0.16126608913027934.\n",
      "num_leaves, val_score: 0.161266:  25%|############5                                     | 5/20 [00:14<00:37,  2.47s/it]"
     ]
    },
    {
     "name": "stdout",
     "output_type": "stream",
     "text": [
      "[300]\tcv_agg's l2: 0.275632 + 0.0532089\n",
      "Early stopping, best iteration is:\n",
      "[213]\tcv_agg's l2: 0.161266 + 0.0251218\n",
      "[100]\tcv_agg's l2: 0.165675 + 0.0283348\n",
      "[200]\tcv_agg's l2: 0.161887 + 0.0276593\n",
      "[300]\tcv_agg's l2: 0.160227 + 0.0271465\n"
     ]
    },
    {
     "name": "stderr",
     "output_type": "stream",
     "text": [
      "num_leaves, val_score: 0.159893:  30%|###############                                   | 6/20 [00:19<00:45,  3.24s/it][I 2023-11-05 13:57:05,749] Trial 12 finished with value: 0.15989335795699505 and parameters: {'num_leaves': 20}. Best is trial 12 with value: 0.15989335795699505.\n",
      "num_leaves, val_score: 0.159893:  30%|###############                                   | 6/20 [00:19<00:45,  3.24s/it]"
     ]
    },
    {
     "name": "stdout",
     "output_type": "stream",
     "text": [
      "[400]\tcv_agg's l2: 0.161362 + 0.0276026\n",
      "Early stopping, best iteration is:\n",
      "[311]\tcv_agg's l2: 0.159893 + 0.0271535\n",
      "[100]\tcv_agg's l2: 0.168613 + 0.0307568\n",
      "[200]\tcv_agg's l2: 0.162176 + 0.0284882\n",
      "[300]\tcv_agg's l2: 0.162266 + 0.0280825\n"
     ]
    },
    {
     "name": "stderr",
     "output_type": "stream",
     "text": [
      "num_leaves, val_score: 0.159893:  35%|#################5                                | 7/20 [00:22<00:42,  3.28s/it][I 2023-11-05 13:57:09,099] Trial 13 finished with value: 0.16202277474742813 and parameters: {'num_leaves': 15}. Best is trial 12 with value: 0.15989335795699505.\n",
      "num_leaves, val_score: 0.159893:  35%|#################5                                | 7/20 [00:22<00:42,  3.28s/it]"
     ]
    },
    {
     "name": "stdout",
     "output_type": "stream",
     "text": [
      "[400]\tcv_agg's l2: 0.16264 + 0.0289285\n",
      "Early stopping, best iteration is:\n",
      "[311]\tcv_agg's l2: 0.159893 + 0.0271535\n",
      "[100]\tcv_agg's l2: 0.166786 + 0.0270658\n",
      "[200]\tcv_agg's l2: 0.162584 + 0.025227\n",
      "[300]\tcv_agg's l2: 0.161879 + 0.0252672\n"
     ]
    },
    {
     "name": "stderr",
     "output_type": "stream",
     "text": [
      "num_leaves, val_score: 0.159893:  40%|####################                              | 8/20 [00:27<00:45,  3.75s/it][I 2023-11-05 13:57:13,864] Trial 14 finished with value: 0.16198078807229216 and parameters: {'num_leaves': 83}. Best is trial 12 with value: 0.15989335795699505.\n",
      "num_leaves, val_score: 0.159893:  40%|####################                              | 8/20 [00:27<00:45,  3.75s/it]"
     ]
    },
    {
     "name": "stdout",
     "output_type": "stream",
     "text": [
      "[400]\tcv_agg's l2: 0.163017 + 0.0259765\n",
      "Early stopping, best iteration is:\n",
      "[311]\tcv_agg's l2: 0.159893 + 0.0271535\n",
      "[100]\tcv_agg's l2: 0.166786 + 0.0270658\n",
      "[200]\tcv_agg's l2: 0.162584 + 0.025227\n",
      "[300]\tcv_agg's l2: 0.161879 + 0.0252672\n"
     ]
    },
    {
     "name": "stderr",
     "output_type": "stream",
     "text": [
      "num_leaves, val_score: 0.159893:  45%|######################5                           | 9/20 [00:31<00:42,  3.87s/it][I 2023-11-05 13:57:18,000] Trial 15 finished with value: 0.16198078807229216 and parameters: {'num_leaves': 77}. Best is trial 12 with value: 0.15989335795699505.\n",
      "num_leaves, val_score: 0.159893:  45%|######################5                           | 9/20 [00:31<00:42,  3.87s/it]"
     ]
    },
    {
     "name": "stdout",
     "output_type": "stream",
     "text": [
      "[400]\tcv_agg's l2: 0.163017 + 0.0259765\n",
      "Early stopping, best iteration is:\n",
      "[311]\tcv_agg's l2: 0.159893 + 0.0271535\n",
      "[100]\tcv_agg's l2: 0.166786 + 0.0270658\n",
      "[200]\tcv_agg's l2: 0.162584 + 0.025227\n",
      "[300]\tcv_agg's l2: 0.161879 + 0.0252672\n"
     ]
    },
    {
     "name": "stderr",
     "output_type": "stream",
     "text": [
      "num_leaves, val_score: 0.159893:  50%|########################5                        | 10/20 [00:35<00:40,  4.08s/it][I 2023-11-05 13:57:22,544] Trial 16 finished with value: 0.16198078807229216 and parameters: {'num_leaves': 60}. Best is trial 12 with value: 0.15989335795699505.\n",
      "num_leaves, val_score: 0.159893:  50%|########################5                        | 10/20 [00:35<00:40,  4.08s/it]"
     ]
    },
    {
     "name": "stdout",
     "output_type": "stream",
     "text": [
      "[400]\tcv_agg's l2: 0.163017 + 0.0259765\n",
      "Early stopping, best iteration is:\n",
      "[311]\tcv_agg's l2: 0.159893 + 0.0271535\n",
      "[100]\tcv_agg's l2: 0.166786 + 0.0270658\n",
      "[200]\tcv_agg's l2: 0.162584 + 0.025227\n",
      "[300]\tcv_agg's l2: 0.161879 + 0.0252672\n"
     ]
    },
    {
     "name": "stderr",
     "output_type": "stream",
     "text": [
      "num_leaves, val_score: 0.159893:  55%|##########################9                      | 11/20 [00:40<00:37,  4.13s/it][I 2023-11-05 13:57:26,806] Trial 17 finished with value: 0.16198078807229216 and parameters: {'num_leaves': 137}. Best is trial 12 with value: 0.15989335795699505.\n",
      "num_leaves, val_score: 0.159893:  55%|##########################9                      | 11/20 [00:40<00:37,  4.13s/it]"
     ]
    },
    {
     "name": "stdout",
     "output_type": "stream",
     "text": [
      "[400]\tcv_agg's l2: 0.163017 + 0.0259765\n",
      "Early stopping, best iteration is:\n",
      "[311]\tcv_agg's l2: 0.159893 + 0.0271535\n",
      "[100]\tcv_agg's l2: 0.166786 + 0.0270658\n",
      "[200]\tcv_agg's l2: 0.162584 + 0.025227\n",
      "[300]\tcv_agg's l2: 0.161879 + 0.0252672\n"
     ]
    },
    {
     "name": "stderr",
     "output_type": "stream",
     "text": [
      "num_leaves, val_score: 0.159893:  60%|#############################4                   | 12/20 [00:44<00:33,  4.14s/it][I 2023-11-05 13:57:30,954] Trial 18 finished with value: 0.16198078807229216 and parameters: {'num_leaves': 42}. Best is trial 12 with value: 0.15989335795699505.\n",
      "num_leaves, val_score: 0.159893:  60%|#############################4                   | 12/20 [00:44<00:33,  4.14s/it]"
     ]
    },
    {
     "name": "stdout",
     "output_type": "stream",
     "text": [
      "[400]\tcv_agg's l2: 0.163017 + 0.0259765\n",
      "Early stopping, best iteration is:\n",
      "[311]\tcv_agg's l2: 0.159893 + 0.0271535\n",
      "[100]\tcv_agg's l2: 0.166786 + 0.0270658\n",
      "[200]\tcv_agg's l2: 0.162584 + 0.025227\n",
      "[300]\tcv_agg's l2: 0.161879 + 0.0252672\n"
     ]
    },
    {
     "name": "stderr",
     "output_type": "stream",
     "text": [
      "num_leaves, val_score: 0.159893:  65%|###############################8                 | 13/20 [00:48<00:28,  4.11s/it][I 2023-11-05 13:57:35,001] Trial 19 finished with value: 0.16198078807229216 and parameters: {'num_leaves': 124}. Best is trial 12 with value: 0.15989335795699505.\n",
      "num_leaves, val_score: 0.159893:  65%|###############################8                 | 13/20 [00:48<00:28,  4.11s/it]"
     ]
    },
    {
     "name": "stdout",
     "output_type": "stream",
     "text": [
      "[400]\tcv_agg's l2: 0.163017 + 0.0259765\n",
      "Early stopping, best iteration is:\n",
      "[311]\tcv_agg's l2: 0.159893 + 0.0271535\n",
      "[100]\tcv_agg's l2: 0.166786 + 0.0270658\n",
      "[200]\tcv_agg's l2: 0.162584 + 0.025227\n",
      "[300]\tcv_agg's l2: 0.161879 + 0.0252672\n"
     ]
    },
    {
     "name": "stderr",
     "output_type": "stream",
     "text": [
      "num_leaves, val_score: 0.159893:  70%|##################################3              | 14/20 [00:53<00:27,  4.53s/it][I 2023-11-05 13:57:40,498] Trial 20 finished with value: 0.16198078807229216 and parameters: {'num_leaves': 119}. Best is trial 12 with value: 0.15989335795699505.\n",
      "num_leaves, val_score: 0.159893:  70%|##################################3              | 14/20 [00:53<00:27,  4.53s/it]"
     ]
    },
    {
     "name": "stdout",
     "output_type": "stream",
     "text": [
      "[400]\tcv_agg's l2: 0.163017 + 0.0259765\n",
      "Early stopping, best iteration is:\n",
      "[311]\tcv_agg's l2: 0.159893 + 0.0271535\n",
      "[100]\tcv_agg's l2: 0.166786 + 0.0270658\n",
      "[200]\tcv_agg's l2: 0.162584 + 0.025227\n",
      "[300]\tcv_agg's l2: 0.161879 + 0.0252672\n"
     ]
    },
    {
     "name": "stderr",
     "output_type": "stream",
     "text": [
      "num_leaves, val_score: 0.159893:  75%|####################################7            | 15/20 [00:58<00:22,  4.48s/it][I 2023-11-05 13:57:44,869] Trial 21 finished with value: 0.16198078807229216 and parameters: {'num_leaves': 33}. Best is trial 12 with value: 0.15989335795699505.\n",
      "num_leaves, val_score: 0.159893:  75%|####################################7            | 15/20 [00:58<00:22,  4.48s/it]"
     ]
    },
    {
     "name": "stdout",
     "output_type": "stream",
     "text": [
      "[400]\tcv_agg's l2: 0.163017 + 0.0259765\n",
      "Early stopping, best iteration is:\n",
      "[311]\tcv_agg's l2: 0.159893 + 0.0271535\n",
      "[100]\tcv_agg's l2: 0.166786 + 0.0270658\n",
      "[200]\tcv_agg's l2: 0.162584 + 0.025227\n",
      "[300]\tcv_agg's l2: 0.161879 + 0.0252672\n"
     ]
    },
    {
     "name": "stderr",
     "output_type": "stream",
     "text": [
      "num_leaves, val_score: 0.159893:  80%|#######################################2         | 16/20 [01:02<00:17,  4.45s/it][I 2023-11-05 13:57:49,231] Trial 22 finished with value: 0.16198078807229216 and parameters: {'num_leaves': 160}. Best is trial 12 with value: 0.15989335795699505.\n",
      "num_leaves, val_score: 0.159893:  80%|#######################################2         | 16/20 [01:02<00:17,  4.45s/it]"
     ]
    },
    {
     "name": "stdout",
     "output_type": "stream",
     "text": [
      "[400]\tcv_agg's l2: 0.163017 + 0.0259765\n",
      "Early stopping, best iteration is:\n",
      "[311]\tcv_agg's l2: 0.159893 + 0.0271535\n",
      "[100]\tcv_agg's l2: 0.166786 + 0.0270658\n",
      "[200]\tcv_agg's l2: 0.162584 + 0.025227\n",
      "[300]\tcv_agg's l2: 0.161879 + 0.0252672\n"
     ]
    },
    {
     "name": "stderr",
     "output_type": "stream",
     "text": [
      "\r",
      "num_leaves, val_score: 0.159893:  80%|#######################################2         | 16/20 [01:07<00:17,  4.45s/it]"
     ]
    },
    {
     "name": "stdout",
     "output_type": "stream",
     "text": [
      "[400]\tcv_agg's l2: 0.163017 + 0.0259765\n",
      "Early stopping, best iteration is:\n",
      "[311]\tcv_agg's l2: 0.159893 + 0.0271535\n"
     ]
    },
    {
     "name": "stderr",
     "output_type": "stream",
     "text": [
      "num_leaves, val_score: 0.159893:  85%|#########################################6       | 17/20 [01:07<00:13,  4.53s/it][I 2023-11-05 13:57:53,966] Trial 23 finished with value: 0.16198078807229216 and parameters: {'num_leaves': 80}. Best is trial 12 with value: 0.15989335795699505.\n",
      "num_leaves, val_score: 0.159893:  85%|#########################################6       | 17/20 [01:07<00:13,  4.53s/it]"
     ]
    },
    {
     "name": "stdout",
     "output_type": "stream",
     "text": [
      "[100]\tcv_agg's l2: 0.166786 + 0.0270658\n",
      "[200]\tcv_agg's l2: 0.162584 + 0.025227\n",
      "[300]\tcv_agg's l2: 0.161879 + 0.0252672\n"
     ]
    },
    {
     "name": "stderr",
     "output_type": "stream",
     "text": [
      "num_leaves, val_score: 0.159893:  90%|############################################1    | 18/20 [01:12<00:09,  4.82s/it][I 2023-11-05 13:57:59,466] Trial 24 finished with value: 0.16198078807229216 and parameters: {'num_leaves': 43}. Best is trial 12 with value: 0.15989335795699505.\n",
      "num_leaves, val_score: 0.159893:  90%|############################################1    | 18/20 [01:12<00:09,  4.82s/it]"
     ]
    },
    {
     "name": "stdout",
     "output_type": "stream",
     "text": [
      "[400]\tcv_agg's l2: 0.163017 + 0.0259765\n",
      "Early stopping, best iteration is:\n",
      "[311]\tcv_agg's l2: 0.159893 + 0.0271535\n",
      "[100]\tcv_agg's l2: 0.166786 + 0.0270658\n",
      "[200]\tcv_agg's l2: 0.162584 + 0.025227\n",
      "[300]\tcv_agg's l2: 0.161879 + 0.0252672\n"
     ]
    },
    {
     "name": "stderr",
     "output_type": "stream",
     "text": [
      "num_leaves, val_score: 0.159893:  95%|##############################################5  | 19/20 [01:17<00:04,  4.67s/it][I 2023-11-05 13:58:03,794] Trial 25 finished with value: 0.16198078807229216 and parameters: {'num_leaves': 102}. Best is trial 12 with value: 0.15989335795699505.\n",
      "num_leaves, val_score: 0.159893:  95%|##############################################5  | 19/20 [01:17<00:04,  4.67s/it]"
     ]
    },
    {
     "name": "stdout",
     "output_type": "stream",
     "text": [
      "[400]\tcv_agg's l2: 0.163017 + 0.0259765\n",
      "Early stopping, best iteration is:\n",
      "[311]\tcv_agg's l2: 0.159893 + 0.0271535\n",
      "[100]\tcv_agg's l2: 0.165959 + 0.0290675\n",
      "[200]\tcv_agg's l2: 0.162286 + 0.026613\n",
      "[300]\tcv_agg's l2: 0.161774 + 0.026345\n"
     ]
    },
    {
     "name": "stderr",
     "output_type": "stream",
     "text": [
      "num_leaves, val_score: 0.159893: 100%|#################################################| 20/20 [01:20<00:00,  4.44s/it][I 2023-11-05 13:58:07,702] Trial 26 finished with value: 0.16162707483434152 and parameters: {'num_leaves': 23}. Best is trial 12 with value: 0.15989335795699505.\n",
      "num_leaves, val_score: 0.159893: 100%|#################################################| 20/20 [01:20<00:00,  4.05s/it]\n"
     ]
    },
    {
     "name": "stdout",
     "output_type": "stream",
     "text": [
      "[400]\tcv_agg's l2: 0.162691 + 0.0260986\n",
      "Early stopping, best iteration is:\n",
      "[311]\tcv_agg's l2: 0.159893 + 0.0271535\n"
     ]
    },
    {
     "name": "stderr",
     "output_type": "stream",
     "text": [
      "bagging, val_score: 0.159893:   0%|                                                             | 0/10 [00:00<?, ?it/s]"
     ]
    },
    {
     "name": "stdout",
     "output_type": "stream",
     "text": [
      "[100]\tcv_agg's l2: 0.171603 + 0.0344427\n",
      "[200]\tcv_agg's l2: 0.165401 + 0.0322998\n",
      "[300]\tcv_agg's l2: 0.163749 + 0.0298429\n"
     ]
    },
    {
     "name": "stderr",
     "output_type": "stream",
     "text": [
      "bagging, val_score: 0.159893:  10%|#####3                                               | 1/10 [00:04<00:36,  4.01s/it][I 2023-11-05 13:58:11,719] Trial 27 finished with value: 0.16326339615955696 and parameters: {'bagging_fraction': 0.9081689064762986, 'bagging_freq': 7}. Best is trial 27 with value: 0.16326339615955696.\n",
      "bagging, val_score: 0.159893:  10%|#####3                                               | 1/10 [00:04<00:36,  4.01s/it]"
     ]
    },
    {
     "name": "stdout",
     "output_type": "stream",
     "text": [
      "[400]\tcv_agg's l2: 0.163376 + 0.0284442\n",
      "Early stopping, best iteration is:\n",
      "[311]\tcv_agg's l2: 0.159893 + 0.0271535\n",
      "[100]\tcv_agg's l2: 0.213497 + 0.0446119\n",
      "[200]\tcv_agg's l2: 0.201818 + 0.0418824\n",
      "[300]\tcv_agg's l2: 0.198189 + 0.040346\n"
     ]
    },
    {
     "name": "stderr",
     "output_type": "stream",
     "text": [
      "bagging, val_score: 0.159893:  20%|##########6                                          | 2/10 [00:06<00:23,  2.99s/it][I 2023-11-05 13:58:13,990] Trial 28 finished with value: 0.19770674816480824 and parameters: {'bagging_fraction': 0.4165777271166867, 'bagging_freq': 1}. Best is trial 27 with value: 0.16326339615955696.\n",
      "bagging, val_score: 0.159893:  20%|##########6                                          | 2/10 [00:06<00:23,  2.99s/it]"
     ]
    },
    {
     "name": "stdout",
     "output_type": "stream",
     "text": [
      "[400]\tcv_agg's l2: 0.195755 + 0.0356238\n",
      "Early stopping, best iteration is:\n",
      "[311]\tcv_agg's l2: 0.159893 + 0.0271535\n",
      "[100]\tcv_agg's l2: 0.167158 + 0.0332425\n",
      "[200]\tcv_agg's l2: 0.163666 + 0.0318207\n",
      "[300]\tcv_agg's l2: 0.1639 + 0.0310192\n"
     ]
    },
    {
     "name": "stderr",
     "output_type": "stream",
     "text": [
      "bagging, val_score: 0.159893:  30%|###############9                                     | 3/10 [00:09<00:23,  3.32s/it][I 2023-11-05 13:58:17,702] Trial 29 finished with value: 0.16372016741923437 and parameters: {'bagging_fraction': 0.9969531858352496, 'bagging_freq': 4}. Best is trial 27 with value: 0.16326339615955696.\n",
      "bagging, val_score: 0.159893:  30%|###############9                                     | 3/10 [00:09<00:23,  3.32s/it]"
     ]
    },
    {
     "name": "stdout",
     "output_type": "stream",
     "text": [
      "[400]\tcv_agg's l2: 0.164144 + 0.0312625\n",
      "Early stopping, best iteration is:\n",
      "[311]\tcv_agg's l2: 0.159893 + 0.0271535\n",
      "[100]\tcv_agg's l2: 0.183549 + 0.0381595\n",
      "[200]\tcv_agg's l2: 0.17828 + 0.0309415\n",
      "[300]\tcv_agg's l2: 0.175891 + 0.0290741\n"
     ]
    },
    {
     "name": "stderr",
     "output_type": "stream",
     "text": [
      "bagging, val_score: 0.159893:  40%|#####################2                               | 4/10 [00:13<00:20,  3.37s/it][I 2023-11-05 13:58:21,140] Trial 30 finished with value: 0.17669994100877853 and parameters: {'bagging_fraction': 0.6134002155052686, 'bagging_freq': 1}. Best is trial 27 with value: 0.16326339615955696.\n",
      "bagging, val_score: 0.159893:  40%|#####################2                               | 4/10 [00:13<00:20,  3.37s/it]"
     ]
    },
    {
     "name": "stdout",
     "output_type": "stream",
     "text": [
      "[400]\tcv_agg's l2: 0.176127 + 0.0288205\n",
      "Early stopping, best iteration is:\n",
      "[311]\tcv_agg's l2: 0.159893 + 0.0271535\n",
      "[100]\tcv_agg's l2: 0.181687 + 0.0328479\n",
      "[200]\tcv_agg's l2: 0.177217 + 0.0324042\n",
      "[300]\tcv_agg's l2: 0.175947 + 0.030729\n"
     ]
    },
    {
     "name": "stderr",
     "output_type": "stream",
     "text": [
      "bagging, val_score: 0.159893:  50%|##########################5                          | 5/10 [00:17<00:17,  3.51s/it][I 2023-11-05 13:58:24,914] Trial 31 finished with value: 0.1761159180998512 and parameters: {'bagging_fraction': 0.7706977833692745, 'bagging_freq': 7}. Best is trial 27 with value: 0.16326339615955696.\n",
      "bagging, val_score: 0.159893:  50%|##########################5                          | 5/10 [00:17<00:17,  3.51s/it]"
     ]
    },
    {
     "name": "stdout",
     "output_type": "stream",
     "text": [
      "[400]\tcv_agg's l2: 0.177053 + 0.0309371\n",
      "Early stopping, best iteration is:\n",
      "[311]\tcv_agg's l2: 0.159893 + 0.0271535\n",
      "[100]\tcv_agg's l2: 0.189716 + 0.0318778\n",
      "[200]\tcv_agg's l2: 0.183984 + 0.0312866\n",
      "[300]\tcv_agg's l2: 0.181767 + 0.0298721\n"
     ]
    },
    {
     "name": "stderr",
     "output_type": "stream",
     "text": [
      "bagging, val_score: 0.159893:  60%|###############################8                     | 6/10 [00:20<00:13,  3.37s/it][I 2023-11-05 13:58:28,021] Trial 32 finished with value: 0.18193552276610664 and parameters: {'bagging_fraction': 0.6090661982443807, 'bagging_freq': 4}. Best is trial 27 with value: 0.16326339615955696.\n",
      "bagging, val_score: 0.159893:  60%|###############################8                     | 6/10 [00:20<00:13,  3.37s/it]"
     ]
    },
    {
     "name": "stdout",
     "output_type": "stream",
     "text": [
      "[400]\tcv_agg's l2: 0.1797 + 0.0276942\n",
      "Early stopping, best iteration is:\n",
      "[311]\tcv_agg's l2: 0.159893 + 0.0271535\n",
      "[100]\tcv_agg's l2: 0.235779 + 0.0512971\n",
      "[200]\tcv_agg's l2: 0.21551 + 0.0396851\n",
      "[300]\tcv_agg's l2: 0.216175 + 0.0411651\n"
     ]
    },
    {
     "name": "stderr",
     "output_type": "stream",
     "text": [
      "bagging, val_score: 0.159893:  70%|#####################################                | 7/10 [00:22<00:08,  2.99s/it][I 2023-11-05 13:58:30,233] Trial 33 finished with value: 0.21494817700727847 and parameters: {'bagging_fraction': 0.4081744941663139, 'bagging_freq': 5}. Best is trial 27 with value: 0.16326339615955696.\n",
      "bagging, val_score: 0.159893:  70%|#####################################                | 7/10 [00:22<00:08,  2.99s/it]"
     ]
    },
    {
     "name": "stdout",
     "output_type": "stream",
     "text": [
      "[400]\tcv_agg's l2: 0.208517 + 0.0390915\n",
      "Early stopping, best iteration is:\n",
      "[311]\tcv_agg's l2: 0.159893 + 0.0271535\n",
      "[100]\tcv_agg's l2: 0.17909 + 0.0345379\n",
      "[200]\tcv_agg's l2: 0.17449 + 0.0275634\n",
      "[300]\tcv_agg's l2: 0.174598 + 0.026948\n"
     ]
    },
    {
     "name": "stderr",
     "output_type": "stream",
     "text": [
      "bagging, val_score: 0.159893:  80%|##########################################4          | 8/10 [00:26<00:06,  3.37s/it][I 2023-11-05 13:58:34,394] Trial 34 finished with value: 0.17384229743003263 and parameters: {'bagging_fraction': 0.7797518919650249, 'bagging_freq': 3}. Best is trial 27 with value: 0.16326339615955696.\n",
      "bagging, val_score: 0.159893:  80%|##########################################4          | 8/10 [00:26<00:06,  3.37s/it]"
     ]
    },
    {
     "name": "stdout",
     "output_type": "stream",
     "text": [
      "[400]\tcv_agg's l2: 0.174997 + 0.0271299\n",
      "Early stopping, best iteration is:\n",
      "[311]\tcv_agg's l2: 0.159893 + 0.0271535\n",
      "[100]\tcv_agg's l2: 0.194807 + 0.0416755\n",
      "[200]\tcv_agg's l2: 0.185257 + 0.0346267\n",
      "[300]\tcv_agg's l2: 0.180357 + 0.0308064\n"
     ]
    },
    {
     "name": "stderr",
     "output_type": "stream",
     "text": [
      "bagging, val_score: 0.159893:  90%|###############################################7     | 9/10 [00:29<00:03,  3.26s/it][I 2023-11-05 13:58:37,408] Trial 35 finished with value: 0.18045231164159875 and parameters: {'bagging_fraction': 0.5440498824145248, 'bagging_freq': 2}. Best is trial 27 with value: 0.16326339615955696.\n",
      "bagging, val_score: 0.159893:  90%|###############################################7     | 9/10 [00:29<00:03,  3.26s/it]"
     ]
    },
    {
     "name": "stdout",
     "output_type": "stream",
     "text": [
      "[400]\tcv_agg's l2: 0.177935 + 0.0279185\n",
      "Early stopping, best iteration is:\n",
      "[311]\tcv_agg's l2: 0.159893 + 0.0271535\n",
      "[100]\tcv_agg's l2: 0.179491 + 0.0355389\n",
      "[200]\tcv_agg's l2: 0.173717 + 0.0320939\n",
      "[300]\tcv_agg's l2: 0.172105 + 0.0302881\n"
     ]
    },
    {
     "name": "stderr",
     "output_type": "stream",
     "text": [
      "bagging, val_score: 0.159893: 100%|####################################################| 10/10 [00:33<00:00,  3.48s/it][I 2023-11-05 13:58:41,401] Trial 36 finished with value: 0.17188477234042704 and parameters: {'bagging_fraction': 0.8350525777346973, 'bagging_freq': 6}. Best is trial 27 with value: 0.16326339615955696.\n",
      "bagging, val_score: 0.159893: 100%|####################################################| 10/10 [00:33<00:00,  3.37s/it]\n"
     ]
    },
    {
     "name": "stdout",
     "output_type": "stream",
     "text": [
      "[400]\tcv_agg's l2: 0.171168 + 0.0285419\n",
      "Early stopping, best iteration is:\n",
      "[311]\tcv_agg's l2: 0.159893 + 0.0271535\n"
     ]
    },
    {
     "name": "stderr",
     "output_type": "stream",
     "text": [
      "feature_fraction_stage2, val_score: 0.159893:   0%|                                              | 0/6 [00:00<?, ?it/s]"
     ]
    },
    {
     "name": "stdout",
     "output_type": "stream",
     "text": [
      "[100]\tcv_agg's l2: 0.16576 + 0.0322685\n",
      "[200]\tcv_agg's l2: 0.161382 + 0.0300366\n",
      "[300]\tcv_agg's l2: 0.161089 + 0.0297448\n"
     ]
    },
    {
     "name": "stderr",
     "output_type": "stream",
     "text": [
      "feature_fraction_stage2, val_score: 0.159893:  17%|######3                               | 1/6 [00:03<00:19,  3.93s/it][I 2023-11-05 13:58:45,338] Trial 37 finished with value: 0.16093554086388562 and parameters: {'feature_fraction': 0.484}. Best is trial 37 with value: 0.16093554086388562.\n",
      "feature_fraction_stage2, val_score: 0.159893:  17%|######3                               | 1/6 [00:03<00:19,  3.93s/it]"
     ]
    },
    {
     "name": "stdout",
     "output_type": "stream",
     "text": [
      "[400]\tcv_agg's l2: 0.161904 + 0.0296827\n",
      "Early stopping, best iteration is:\n",
      "[311]\tcv_agg's l2: 0.159893 + 0.0271535\n",
      "[100]\tcv_agg's l2: 0.165782 + 0.0226515\n",
      "[200]\tcv_agg's l2: 0.160879 + 0.0199723\n",
      "[300]\tcv_agg's l2: 0.16165 + 0.0192235\n"
     ]
    },
    {
     "name": "stderr",
     "output_type": "stream",
     "text": [
      "feature_fraction_stage2, val_score: 0.159893:  33%|############6                         | 2/6 [00:07<00:15,  3.86s/it][I 2023-11-05 13:58:49,153] Trial 38 finished with value: 0.16169719257471935 and parameters: {'feature_fraction': 0.42}. Best is trial 37 with value: 0.16093554086388562.\n",
      "feature_fraction_stage2, val_score: 0.159893:  33%|############6                         | 2/6 [00:07<00:15,  3.86s/it]"
     ]
    },
    {
     "name": "stdout",
     "output_type": "stream",
     "text": [
      "[400]\tcv_agg's l2: 0.162632 + 0.0191882\n",
      "Early stopping, best iteration is:\n",
      "[311]\tcv_agg's l2: 0.159893 + 0.0271535\n",
      "[100]\tcv_agg's l2: 0.165675 + 0.0283348\n",
      "[200]\tcv_agg's l2: 0.161887 + 0.0276593\n",
      "[300]\tcv_agg's l2: 0.160227 + 0.0271465\n"
     ]
    },
    {
     "name": "stderr",
     "output_type": "stream",
     "text": [
      "feature_fraction_stage2, val_score: 0.159893:  50%|###################                   | 3/6 [00:12<00:12,  4.08s/it][I 2023-11-05 13:58:53,498] Trial 39 finished with value: 0.15989335795699505 and parameters: {'feature_fraction': 0.5479999999999999}. Best is trial 39 with value: 0.15989335795699505.\n",
      "feature_fraction_stage2, val_score: 0.159893:  50%|###################                   | 3/6 [00:12<00:12,  4.08s/it]"
     ]
    },
    {
     "name": "stdout",
     "output_type": "stream",
     "text": [
      "[400]\tcv_agg's l2: 0.161362 + 0.0276026\n",
      "Early stopping, best iteration is:\n",
      "[311]\tcv_agg's l2: 0.159893 + 0.0271535\n",
      "[100]\tcv_agg's l2: 0.165675 + 0.0283348\n",
      "[200]\tcv_agg's l2: 0.161887 + 0.0276593\n",
      "[300]\tcv_agg's l2: 0.160227 + 0.0271465\n"
     ]
    },
    {
     "name": "stderr",
     "output_type": "stream",
     "text": [
      "feature_fraction_stage2, val_score: 0.159893:  67%|#########################3            | 4/6 [00:16<00:08,  4.33s/it][I 2023-11-05 13:58:58,206] Trial 40 finished with value: 0.15989335795699505 and parameters: {'feature_fraction': 0.516}. Best is trial 39 with value: 0.15989335795699505.\n",
      "feature_fraction_stage2, val_score: 0.159893:  67%|#########################3            | 4/6 [00:16<00:08,  4.33s/it]"
     ]
    },
    {
     "name": "stdout",
     "output_type": "stream",
     "text": [
      "[400]\tcv_agg's l2: 0.161362 + 0.0276026\n",
      "Early stopping, best iteration is:\n",
      "[311]\tcv_agg's l2: 0.159893 + 0.0271535\n",
      "[100]\tcv_agg's l2: 0.16576 + 0.0322685\n",
      "[200]\tcv_agg's l2: 0.161382 + 0.0300366\n",
      "[300]\tcv_agg's l2: 0.161089 + 0.0297448\n",
      "[400]\tcv_agg's l2: 0.161904 + 0.0296827\n"
     ]
    },
    {
     "name": "stderr",
     "output_type": "stream",
     "text": [
      "feature_fraction_stage2, val_score: 0.159893:  83%|###############################6      | 5/6 [00:21<00:04,  4.39s/it][I 2023-11-05 13:59:02,714] Trial 41 finished with value: 0.16093554086388562 and parameters: {'feature_fraction': 0.45199999999999996}. Best is trial 39 with value: 0.15989335795699505.\n",
      "feature_fraction_stage2, val_score: 0.159893:  83%|###############################6      | 5/6 [00:21<00:04,  4.39s/it]"
     ]
    },
    {
     "name": "stdout",
     "output_type": "stream",
     "text": [
      "Early stopping, best iteration is:\n",
      "[311]\tcv_agg's l2: 0.159893 + 0.0271535\n",
      "[100]\tcv_agg's l2: 0.172693 + 0.0305262\n",
      "[200]\tcv_agg's l2: 0.170537 + 0.0281428\n",
      "[300]\tcv_agg's l2: 0.170269 + 0.0282679\n"
     ]
    },
    {
     "name": "stderr",
     "output_type": "stream",
     "text": [
      "feature_fraction_stage2, val_score: 0.159893: 100%|######################################| 6/6 [00:26<00:00,  4.55s/it][I 2023-11-05 13:59:07,574] Trial 42 finished with value: 0.17018138495666973 and parameters: {'feature_fraction': 0.58}. Best is trial 39 with value: 0.15989335795699505.\n",
      "feature_fraction_stage2, val_score: 0.159893: 100%|######################################| 6/6 [00:26<00:00,  4.36s/it]\n"
     ]
    },
    {
     "name": "stdout",
     "output_type": "stream",
     "text": [
      "[400]\tcv_agg's l2: 0.171196 + 0.0282845\n",
      "Early stopping, best iteration is:\n",
      "[311]\tcv_agg's l2: 0.159893 + 0.0271535\n"
     ]
    },
    {
     "name": "stderr",
     "output_type": "stream",
     "text": [
      "regularization_factors, val_score: 0.159893:   0%|                                              | 0/20 [00:00<?, ?it/s]"
     ]
    },
    {
     "name": "stdout",
     "output_type": "stream",
     "text": [
      "[100]\tcv_agg's l2: 0.164763 + 0.0245203\n",
      "[200]\tcv_agg's l2: 0.160306 + 0.0229812\n",
      "[300]\tcv_agg's l2: 0.160228 + 0.0238376\n"
     ]
    },
    {
     "name": "stderr",
     "output_type": "stream",
     "text": [
      "regularization_factors, val_score: 0.159394:   5%|#9                                    | 1/20 [00:03<01:14,  3.95s/it][I 2023-11-05 13:59:11,526] Trial 43 finished with value: 0.1593935559496696 and parameters: {'lambda_l1': 0.004780804838608313, 'lambda_l2': 0.17653029398896128}. Best is trial 43 with value: 0.1593935559496696.\n",
      "regularization_factors, val_score: 0.159394:   5%|#9                                    | 1/20 [00:03<01:14,  3.95s/it]"
     ]
    },
    {
     "name": "stdout",
     "output_type": "stream",
     "text": [
      "Early stopping, best iteration is:\n",
      "[256]\tcv_agg's l2: 0.159394 + 0.0235528\n",
      "[100]\tcv_agg's l2: 0.163189 + 0.0285546\n",
      "[200]\tcv_agg's l2: 0.158453 + 0.0258183\n",
      "[300]\tcv_agg's l2: 0.157424 + 0.0245959\n",
      "[400]\tcv_agg's l2: 0.157109 + 0.0242211\n"
     ]
    },
    {
     "name": "stderr",
     "output_type": "stream",
     "text": [
      "regularization_factors, val_score: 0.156765:  10%|###8                                  | 2/20 [00:09<01:25,  4.77s/it][I 2023-11-05 13:59:16,882] Trial 44 finished with value: 0.15676450589558946 and parameters: {'lambda_l1': 0.00823498507862267, 'lambda_l2': 0.7752942108683559}. Best is trial 44 with value: 0.15676450589558946.\n",
      "regularization_factors, val_score: 0.156765:  10%|###8                                  | 2/20 [00:09<01:25,  4.77s/it]"
     ]
    },
    {
     "name": "stdout",
     "output_type": "stream",
     "text": [
      "Early stopping, best iteration is:\n",
      "[346]\tcv_agg's l2: 0.156765 + 0.0242288\n",
      "[100]\tcv_agg's l2: 0.168231 + 0.0332718\n",
      "[200]\tcv_agg's l2: 0.160957 + 0.0297292\n",
      "[300]\tcv_agg's l2: 0.161201 + 0.0293839\n",
      "[400]\tcv_agg's l2: 0.162192 + 0.0296691\n"
     ]
    },
    {
     "name": "stderr",
     "output_type": "stream",
     "text": [
      "regularization_factors, val_score: 0.156765:  15%|#####7                                | 3/20 [00:15<01:32,  5.42s/it][I 2023-11-05 13:59:23,073] Trial 45 finished with value: 0.16195560835773487 and parameters: {'lambda_l1': 0.010947961762701878, 'lambda_l2': 0.9796975204352739}. Best is trial 44 with value: 0.15676450589558946.\n",
      "regularization_factors, val_score: 0.156765:  15%|#####7                                | 3/20 [00:15<01:32,  5.42s/it]"
     ]
    },
    {
     "name": "stdout",
     "output_type": "stream",
     "text": [
      "Early stopping, best iteration is:\n",
      "[346]\tcv_agg's l2: 0.156765 + 0.0242288\n",
      "[100]\tcv_agg's l2: 0.164677 + 0.0297389\n",
      "[200]\tcv_agg's l2: 0.161351 + 0.0286907\n",
      "[300]\tcv_agg's l2: 0.160628 + 0.0289977\n",
      "[400]\tcv_agg's l2: 0.161574 + 0.0295462\n"
     ]
    },
    {
     "name": "stderr",
     "output_type": "stream",
     "text": [
      "regularization_factors, val_score: 0.156765:  20%|#######6                              | 4/20 [00:20<01:22,  5.17s/it][I 2023-11-05 13:59:27,854] Trial 46 finished with value: 0.1610291695316668 and parameters: {'lambda_l1': 0.004657550477535964, 'lambda_l2': 0.2053539517625525}. Best is trial 44 with value: 0.15676450589558946.\n",
      "regularization_factors, val_score: 0.156765:  20%|#######6                              | 4/20 [00:20<01:22,  5.17s/it]"
     ]
    },
    {
     "name": "stdout",
     "output_type": "stream",
     "text": [
      "Early stopping, best iteration is:\n",
      "[346]\tcv_agg's l2: 0.156765 + 0.0242288\n",
      "[100]\tcv_agg's l2: 0.165697 + 0.0284093\n",
      "[200]\tcv_agg's l2: 0.161377 + 0.0276743\n",
      "[300]\tcv_agg's l2: 0.160218 + 0.0271835\n",
      "[400]\tcv_agg's l2: 0.161229 + 0.0281406\n"
     ]
    },
    {
     "name": "stderr",
     "output_type": "stream",
     "text": [
      "regularization_factors, val_score: 0.156765:  25%|#########5                            | 5/20 [00:26<01:22,  5.47s/it][I 2023-11-05 13:59:33,851] Trial 47 finished with value: 0.1604724733274945 and parameters: {'lambda_l1': 1.383293983862773e-05, 'lambda_l2': 0.0010311636569580345}. Best is trial 44 with value: 0.15676450589558946.\n",
      "regularization_factors, val_score: 0.156765:  25%|#########5                            | 5/20 [00:26<01:22,  5.47s/it]"
     ]
    },
    {
     "name": "stdout",
     "output_type": "stream",
     "text": [
      "Early stopping, best iteration is:\n",
      "[346]\tcv_agg's l2: 0.156765 + 0.0242288\n",
      "[100]\tcv_agg's l2: 0.246177 + 0.037604\n",
      "[200]\tcv_agg's l2: 0.240665 + 0.0378108\n",
      "[300]\tcv_agg's l2: 0.24066 + 0.0378119\n"
     ]
    },
    {
     "name": "stderr",
     "output_type": "stream",
     "text": [
      "regularization_factors, val_score: 0.156765:  30%|###########4                          | 6/20 [00:27<00:57,  4.12s/it][I 2023-11-05 13:59:35,365] Trial 48 finished with value: 0.24065943599480205 and parameters: {'lambda_l1': 9.110651384036172, 'lambda_l2': 5.96078441068294}. Best is trial 44 with value: 0.15676450589558946.\n",
      "regularization_factors, val_score: 0.156765:  30%|###########4                          | 6/20 [00:27<00:57,  4.12s/it]"
     ]
    },
    {
     "name": "stdout",
     "output_type": "stream",
     "text": [
      "[400]\tcv_agg's l2: 0.240659 + 0.037812\n",
      "Early stopping, best iteration is:\n",
      "[346]\tcv_agg's l2: 0.156765 + 0.0242288\n",
      "[100]\tcv_agg's l2: 0.165608 + 0.0283703\n",
      "[200]\tcv_agg's l2: 0.161827 + 0.0276986\n",
      "[300]\tcv_agg's l2: 0.160145 + 0.0272054\n",
      "[400]\tcv_agg's l2: 0.161145 + 0.0277649\n"
     ]
    },
    {
     "name": "stderr",
     "output_type": "stream",
     "text": [
      "regularization_factors, val_score: 0.156765:  35%|#############3                        | 7/20 [00:33<01:01,  4.74s/it][I 2023-11-05 13:59:41,376] Trial 49 finished with value: 0.16068285395808762 and parameters: {'lambda_l1': 1.133066620822057e-08, 'lambda_l2': 2.2060189820083202e-08}. Best is trial 44 with value: 0.15676450589558946.\n",
      "regularization_factors, val_score: 0.156765:  35%|#############3                        | 7/20 [00:33<01:01,  4.74s/it]"
     ]
    },
    {
     "name": "stdout",
     "output_type": "stream",
     "text": [
      "Early stopping, best iteration is:\n",
      "[346]\tcv_agg's l2: 0.156765 + 0.0242288\n",
      "[100]\tcv_agg's l2: 0.163964 + 0.0297243\n",
      "[200]\tcv_agg's l2: 0.159242 + 0.0272663\n",
      "[300]\tcv_agg's l2: 0.158212 + 0.0271892\n",
      "[400]\tcv_agg's l2: 0.158806 + 0.0275694\n"
     ]
    },
    {
     "name": "stderr",
     "output_type": "stream",
     "text": [
      "regularization_factors, val_score: 0.156765:  40%|###############2                      | 8/20 [00:40<01:03,  5.27s/it][I 2023-11-05 13:59:47,772] Trial 50 finished with value: 0.15853251538221172 and parameters: {'lambda_l1': 0.03526007238484234, 'lambda_l2': 0.013452588685946726}. Best is trial 44 with value: 0.15676450589558946.\n",
      "regularization_factors, val_score: 0.156765:  40%|###############2                      | 8/20 [00:40<01:03,  5.27s/it]"
     ]
    },
    {
     "name": "stdout",
     "output_type": "stream",
     "text": [
      "Early stopping, best iteration is:\n",
      "[346]\tcv_agg's l2: 0.156765 + 0.0242288\n",
      "[100]\tcv_agg's l2: 0.163324 + 0.0260211\n",
      "[200]\tcv_agg's l2: 0.1595 + 0.0246229\n",
      "[300]\tcv_agg's l2: 0.158927 + 0.0238237\n",
      "[400]\tcv_agg's l2: 0.159462 + 0.0233667\n"
     ]
    },
    {
     "name": "stderr",
     "output_type": "stream",
     "text": [
      "regularization_factors, val_score: 0.156765:  45%|#################1                    | 9/20 [00:45<00:58,  5.29s/it][I 2023-11-05 13:59:53,118] Trial 51 finished with value: 0.15917038681799292 and parameters: {'lambda_l1': 0.014731460005618435, 'lambda_l2': 0.012366918806228994}. Best is trial 44 with value: 0.15676450589558946.\n",
      "regularization_factors, val_score: 0.156765:  45%|#################1                    | 9/20 [00:45<00:58,  5.29s/it]"
     ]
    },
    {
     "name": "stdout",
     "output_type": "stream",
     "text": [
      "Early stopping, best iteration is:\n",
      "[346]\tcv_agg's l2: 0.156765 + 0.0242288\n",
      "[100]\tcv_agg's l2: 0.164466 + 0.0283279\n",
      "[200]\tcv_agg's l2: 0.159457 + 0.0251721\n",
      "[300]\tcv_agg's l2: 0.158583 + 0.0244975\n",
      "[400]\tcv_agg's l2: 0.158804 + 0.0252076\n"
     ]
    },
    {
     "name": "stderr",
     "output_type": "stream",
     "text": [
      "regularization_factors, val_score: 0.156765:  50%|##################5                  | 10/20 [00:51<00:55,  5.56s/it][I 2023-11-05 13:59:59,271] Trial 52 finished with value: 0.15858552275479368 and parameters: {'lambda_l1': 0.01455518037877225, 'lambda_l2': 0.02657882716013426}. Best is trial 44 with value: 0.15676450589558946.\n",
      "regularization_factors, val_score: 0.156765:  50%|##################5                  | 10/20 [00:51<00:55,  5.56s/it]"
     ]
    },
    {
     "name": "stdout",
     "output_type": "stream",
     "text": [
      "Early stopping, best iteration is:\n",
      "[346]\tcv_agg's l2: 0.156765 + 0.0242288\n",
      "[100]\tcv_agg's l2: 0.163778 + 0.0263594\n",
      "[200]\tcv_agg's l2: 0.15908 + 0.0242397\n",
      "[300]\tcv_agg's l2: 0.158288 + 0.0242717\n",
      "[400]\tcv_agg's l2: 0.158811 + 0.0242297\n"
     ]
    },
    {
     "name": "stderr",
     "output_type": "stream",
     "text": [
      "regularization_factors, val_score: 0.156765:  55%|####################3                | 11/20 [00:57<00:51,  5.72s/it][I 2023-11-05 14:00:05,347] Trial 53 finished with value: 0.1583281348665738 and parameters: {'lambda_l1': 0.017403545591485298, 'lambda_l2': 0.025577448192915686}. Best is trial 44 with value: 0.15676450589558946.\n",
      "regularization_factors, val_score: 0.156765:  55%|####################3                | 11/20 [00:57<00:51,  5.72s/it]"
     ]
    },
    {
     "name": "stdout",
     "output_type": "stream",
     "text": [
      "Early stopping, best iteration is:\n",
      "[346]\tcv_agg's l2: 0.156765 + 0.0242288\n",
      "[100]\tcv_agg's l2: 0.1646 + 0.0295195\n",
      "[200]\tcv_agg's l2: 0.159556 + 0.0272567\n",
      "[300]\tcv_agg's l2: 0.159048 + 0.0272135\n",
      "[400]\tcv_agg's l2: 0.15953 + 0.0277198\n"
     ]
    },
    {
     "name": "stderr",
     "output_type": "stream",
     "text": [
      "regularization_factors, val_score: 0.156765:  60%|######################2              | 12/20 [01:03<00:45,  5.73s/it][I 2023-11-05 14:00:11,106] Trial 54 finished with value: 0.15931887883458815 and parameters: {'lambda_l1': 0.024183291510373246, 'lambda_l2': 0.020970214288678443}. Best is trial 44 with value: 0.15676450589558946.\n",
      "regularization_factors, val_score: 0.156765:  60%|######################2              | 12/20 [01:03<00:45,  5.73s/it]"
     ]
    },
    {
     "name": "stdout",
     "output_type": "stream",
     "text": [
      "Early stopping, best iteration is:\n",
      "[346]\tcv_agg's l2: 0.156765 + 0.0242288\n",
      "[100]\tcv_agg's l2: 0.164427 + 0.0287215\n",
      "[200]\tcv_agg's l2: 0.161226 + 0.0276795\n",
      "[300]\tcv_agg's l2: 0.160217 + 0.0272518\n",
      "[400]\tcv_agg's l2: 0.16061 + 0.0281893\n"
     ]
    },
    {
     "name": "stderr",
     "output_type": "stream",
     "text": [
      "regularization_factors, val_score: 0.156765:  65%|########################             | 13/20 [01:09<00:40,  5.73s/it][I 2023-11-05 14:00:16,834] Trial 55 finished with value: 0.1602335135222827 and parameters: {'lambda_l1': 0.038588194802954674, 'lambda_l2': 0.013506466796924037}. Best is trial 44 with value: 0.15676450589558946.\n",
      "regularization_factors, val_score: 0.156765:  65%|########################             | 13/20 [01:09<00:40,  5.73s/it]"
     ]
    },
    {
     "name": "stdout",
     "output_type": "stream",
     "text": [
      "Early stopping, best iteration is:\n",
      "[346]\tcv_agg's l2: 0.156765 + 0.0242288\n",
      "[100]\tcv_agg's l2: 0.165818 + 0.0280578\n",
      "[200]\tcv_agg's l2: 0.160913 + 0.026869\n",
      "[300]\tcv_agg's l2: 0.160192 + 0.025626\n",
      "[400]\tcv_agg's l2: 0.161177 + 0.0260798\n"
     ]
    },
    {
     "name": "stderr",
     "output_type": "stream",
     "text": [
      "regularization_factors, val_score: 0.156765:  70%|#########################9           | 14/20 [01:14<00:33,  5.60s/it][I 2023-11-05 14:00:22,148] Trial 56 finished with value: 0.16092645145323284 and parameters: {'lambda_l1': 0.035925321105653225, 'lambda_l2': 0.014062813478355987}. Best is trial 44 with value: 0.15676450589558946.\n",
      "regularization_factors, val_score: 0.156765:  70%|#########################9           | 14/20 [01:14<00:33,  5.60s/it]"
     ]
    },
    {
     "name": "stdout",
     "output_type": "stream",
     "text": [
      "Early stopping, best iteration is:\n",
      "[346]\tcv_agg's l2: 0.156765 + 0.0242288\n",
      "[100]\tcv_agg's l2: 0.165364 + 0.0289874\n",
      "[200]\tcv_agg's l2: 0.160143 + 0.026084\n",
      "[300]\tcv_agg's l2: 0.159899 + 0.025949\n",
      "[400]\tcv_agg's l2: 0.160403 + 0.0264834\n"
     ]
    },
    {
     "name": "stderr",
     "output_type": "stream",
     "text": [
      "regularization_factors, val_score: 0.156765:  75%|###########################7         | 15/20 [01:20<00:27,  5.58s/it][I 2023-11-05 14:00:27,682] Trial 57 finished with value: 0.15986432062419403 and parameters: {'lambda_l1': 0.05464258666205269, 'lambda_l2': 0.012307979974746489}. Best is trial 44 with value: 0.15676450589558946.\n",
      "regularization_factors, val_score: 0.156765:  75%|###########################7         | 15/20 [01:20<00:27,  5.58s/it]"
     ]
    },
    {
     "name": "stdout",
     "output_type": "stream",
     "text": [
      "Early stopping, best iteration is:\n",
      "[346]\tcv_agg's l2: 0.156765 + 0.0242288\n",
      "[100]\tcv_agg's l2: 0.162137 + 0.0290699\n",
      "[200]\tcv_agg's l2: 0.157851 + 0.0258559\n",
      "[300]\tcv_agg's l2: 0.157449 + 0.0254442\n",
      "[400]\tcv_agg's l2: 0.157113 + 0.0255824\n"
     ]
    },
    {
     "name": "stderr",
     "output_type": "stream",
     "text": [
      "regularization_factors, val_score: 0.156765:  80%|#############################6       | 16/20 [01:25<00:22,  5.55s/it][I 2023-11-05 14:00:33,151] Trial 58 finished with value: 0.15742875835483366 and parameters: {'lambda_l1': 0.033344673018002716, 'lambda_l2': 0.022264591414217366}. Best is trial 44 with value: 0.15676450589558946.\n",
      "regularization_factors, val_score: 0.156765:  80%|#############################6       | 16/20 [01:25<00:22,  5.55s/it]"
     ]
    },
    {
     "name": "stdout",
     "output_type": "stream",
     "text": [
      "Early stopping, best iteration is:\n",
      "[346]\tcv_agg's l2: 0.156765 + 0.0242288\n",
      "[100]\tcv_agg's l2: 0.165847 + 0.0288366\n",
      "[200]\tcv_agg's l2: 0.161231 + 0.0264337\n",
      "[300]\tcv_agg's l2: 0.160038 + 0.0260622\n",
      "[400]\tcv_agg's l2: 0.16014 + 0.0257313\n"
     ]
    },
    {
     "name": "stderr",
     "output_type": "stream",
     "text": [
      "regularization_factors, val_score: 0.156765:  85%|###############################4     | 17/20 [01:31<00:17,  5.71s/it][I 2023-11-05 14:00:39,234] Trial 59 finished with value: 0.1597775101452276 and parameters: {'lambda_l1': 0.17542858751560308, 'lambda_l2': 0.07152342702806554}. Best is trial 44 with value: 0.15676450589558946.\n",
      "regularization_factors, val_score: 0.156765:  85%|###############################4     | 17/20 [01:31<00:17,  5.71s/it]"
     ]
    },
    {
     "name": "stdout",
     "output_type": "stream",
     "text": [
      "Early stopping, best iteration is:\n",
      "[346]\tcv_agg's l2: 0.156765 + 0.0242288\n",
      "[100]\tcv_agg's l2: 0.165278 + 0.0278143\n",
      "[200]\tcv_agg's l2: 0.160336 + 0.0260046\n",
      "[300]\tcv_agg's l2: 0.159844 + 0.0258569\n",
      "[400]\tcv_agg's l2: 0.160715 + 0.0258413\n"
     ]
    },
    {
     "name": "stderr",
     "output_type": "stream",
     "text": [
      "regularization_factors, val_score: 0.156765:  90%|#################################3   | 18/20 [01:37<00:11,  5.89s/it][I 2023-11-05 14:00:45,548] Trial 60 finished with value: 0.15998654403352278 and parameters: {'lambda_l1': 0.0016322816674093008, 'lambda_l2': 0.0016589866979001093}. Best is trial 44 with value: 0.15676450589558946.\n",
      "regularization_factors, val_score: 0.156765:  90%|#################################3   | 18/20 [01:37<00:11,  5.89s/it]"
     ]
    },
    {
     "name": "stdout",
     "output_type": "stream",
     "text": [
      "Early stopping, best iteration is:\n",
      "[346]\tcv_agg's l2: 0.156765 + 0.0242288\n",
      "[100]\tcv_agg's l2: 0.16285 + 0.0292836\n",
      "[200]\tcv_agg's l2: 0.158653 + 0.0281553\n",
      "[300]\tcv_agg's l2: 0.158718 + 0.0286561\n",
      "[400]\tcv_agg's l2: 0.159346 + 0.0294402\n"
     ]
    },
    {
     "name": "stderr",
     "output_type": "stream",
     "text": [
      "regularization_factors, val_score: 0.156765:  95%|###################################1 | 19/20 [01:44<00:06,  6.01s/it][I 2023-11-05 14:00:51,835] Trial 61 finished with value: 0.15871231085518817 and parameters: {'lambda_l1': 0.05415785669215093, 'lambda_l2': 0.028194845532338923}. Best is trial 44 with value: 0.15676450589558946.\n",
      "regularization_factors, val_score: 0.156765:  95%|###################################1 | 19/20 [01:44<00:06,  6.01s/it]"
     ]
    },
    {
     "name": "stdout",
     "output_type": "stream",
     "text": [
      "Early stopping, best iteration is:\n",
      "[346]\tcv_agg's l2: 0.156765 + 0.0242288\n",
      "[100]\tcv_agg's l2: 0.165152 + 0.0286469\n",
      "[200]\tcv_agg's l2: 0.159637 + 0.0254162\n",
      "[300]\tcv_agg's l2: 0.159204 + 0.025425\n",
      "[400]\tcv_agg's l2: 0.159151 + 0.0254543\n"
     ]
    },
    {
     "name": "stderr",
     "output_type": "stream",
     "text": [
      "regularization_factors, val_score: 0.156765: 100%|#####################################| 20/20 [01:49<00:00,  5.89s/it][I 2023-11-05 14:00:57,458] Trial 62 finished with value: 0.15911491023561866 and parameters: {'lambda_l1': 0.1606830845495557, 'lambda_l2': 0.04062541737299952}. Best is trial 44 with value: 0.15676450589558946.\n",
      "regularization_factors, val_score: 0.156765: 100%|#####################################| 20/20 [01:49<00:00,  5.49s/it]\n"
     ]
    },
    {
     "name": "stdout",
     "output_type": "stream",
     "text": [
      "Early stopping, best iteration is:\n",
      "[346]\tcv_agg's l2: 0.156765 + 0.0242288\n"
     ]
    },
    {
     "name": "stderr",
     "output_type": "stream",
     "text": [
      "min_data_in_leaf, val_score: 0.156765:   0%|                                                     | 0/5 [00:00<?, ?it/s]"
     ]
    },
    {
     "name": "stdout",
     "output_type": "stream",
     "text": [
      "[100]\tcv_agg's l2: 0.756716 + 0.124888\n",
      "[200]\tcv_agg's l2: 0.739308 + 0.129847\n",
      "[300]\tcv_agg's l2: 0.73125 + 0.132758\n"
     ]
    },
    {
     "name": "stderr",
     "output_type": "stream",
     "text": [
      "\r",
      "min_data_in_leaf, val_score: 0.156765:   0%|                                                     | 0/5 [00:01<?, ?it/s]"
     ]
    },
    {
     "name": "stdout",
     "output_type": "stream",
     "text": [
      "[400]\tcv_agg's l2: 0.728394 + 0.137168\n",
      "Early stopping, best iteration is:\n",
      "[346]\tcv_agg's l2: 0.156765 + 0.0242288\n"
     ]
    },
    {
     "name": "stderr",
     "output_type": "stream",
     "text": [
      "min_data_in_leaf, val_score: 0.156765:  20%|#########                                    | 1/5 [00:01<00:07,  1.85s/it][I 2023-11-05 14:00:59,318] Trial 63 finished with value: 0.7295300004858858 and parameters: {'min_child_samples': 100}. Best is trial 63 with value: 0.7295300004858858.\n",
      "min_data_in_leaf, val_score: 0.156765:  20%|#########                                    | 1/5 [00:01<00:07,  1.85s/it]"
     ]
    },
    {
     "name": "stdout",
     "output_type": "stream",
     "text": [
      "[100]\tcv_agg's l2: 0.148735 + 0.0258418\n",
      "[200]\tcv_agg's l2: 0.143811 + 0.0263355\n",
      "[300]\tcv_agg's l2: 0.142807 + 0.0268945\n"
     ]
    },
    {
     "name": "stderr",
     "output_type": "stream",
     "text": [
      "min_data_in_leaf, val_score: 0.142688:  40%|##################                           | 2/5 [00:07<00:11,  3.79s/it][I 2023-11-05 14:01:04,465] Trial 64 finished with value: 0.14268798478686967 and parameters: {'min_child_samples': 10}. Best is trial 64 with value: 0.14268798478686967.\n",
      "min_data_in_leaf, val_score: 0.142688:  40%|##################                           | 2/5 [00:07<00:11,  3.79s/it]"
     ]
    },
    {
     "name": "stdout",
     "output_type": "stream",
     "text": [
      "Early stopping, best iteration is:\n",
      "[276]\tcv_agg's l2: 0.142688 + 0.0270615\n",
      "[100]\tcv_agg's l2: 0.251973 + 0.0439032\n",
      "[200]\tcv_agg's l2: 0.237211 + 0.0494346\n",
      "[300]\tcv_agg's l2: 0.232135 + 0.0509986\n"
     ]
    },
    {
     "name": "stderr",
     "output_type": "stream",
     "text": [
      "min_data_in_leaf, val_score: 0.142688:  60%|###########################                  | 3/5 [00:11<00:08,  4.32s/it][I 2023-11-05 14:01:09,418] Trial 65 finished with value: 0.2327011336061861 and parameters: {'min_child_samples': 50}. Best is trial 64 with value: 0.14268798478686967.\n",
      "min_data_in_leaf, val_score: 0.142688:  60%|###########################                  | 3/5 [00:11<00:08,  4.32s/it]"
     ]
    },
    {
     "name": "stdout",
     "output_type": "stream",
     "text": [
      "Early stopping, best iteration is:\n",
      "[276]\tcv_agg's l2: 0.142688 + 0.0270615\n",
      "[100]\tcv_agg's l2: 0.149785 + 0.0283282\n",
      "[200]\tcv_agg's l2: 0.147892 + 0.029144\n",
      "[300]\tcv_agg's l2: 0.147631 + 0.0294386\n"
     ]
    },
    {
     "name": "stderr",
     "output_type": "stream",
     "text": [
      "min_data_in_leaf, val_score: 0.142688:  80%|####################################         | 4/5 [00:20<00:06,  6.06s/it][I 2023-11-05 14:01:18,135] Trial 66 finished with value: 0.1476916109342604 and parameters: {'min_child_samples': 5}. Best is trial 64 with value: 0.14268798478686967.\n",
      "min_data_in_leaf, val_score: 0.142688:  80%|####################################         | 4/5 [00:20<00:06,  6.06s/it]"
     ]
    },
    {
     "name": "stdout",
     "output_type": "stream",
     "text": [
      "Early stopping, best iteration is:\n",
      "[276]\tcv_agg's l2: 0.142688 + 0.0270615\n",
      "[100]\tcv_agg's l2: 0.180349 + 0.0381243\n",
      "[200]\tcv_agg's l2: 0.173154 + 0.0317797\n",
      "[300]\tcv_agg's l2: 0.170871 + 0.0299656\n"
     ]
    },
    {
     "name": "stderr",
     "output_type": "stream",
     "text": [
      "min_data_in_leaf, val_score: 0.142688: 100%|#############################################| 5/5 [00:25<00:00,  5.60s/it][I 2023-11-05 14:01:22,928] Trial 67 finished with value: 0.17111455107841436 and parameters: {'min_child_samples': 25}. Best is trial 64 with value: 0.14268798478686967.\n",
      "min_data_in_leaf, val_score: 0.142688: 100%|#############################################| 5/5 [00:25<00:00,  5.09s/it]"
     ]
    },
    {
     "name": "stdout",
     "output_type": "stream",
     "text": [
      "Early stopping, best iteration is:\n",
      "[276]\tcv_agg's l2: 0.142688 + 0.0270615\n"
     ]
    },
    {
     "name": "stderr",
     "output_type": "stream",
     "text": [
      "\n"
     ]
    }
   ],
   "source": [
    "import optuna.integration.lightgbm as lgb\n",
    "from lightgbm import early_stopping, log_evaluation\n",
    "from sklearn.model_selection import KFold\n",
    "from sklearn.model_selection import RepeatedKFold\n",
    "\n",
    "\n",
    "lgb_train = lgb.Dataset(X_train, y_train)\n",
    "\n",
    "params = {\n",
    "    \"boosting_type\": \"gbdt\",\n",
    "    \"objective\": \"regression\",\n",
    "    \"metric\": \"l2\",\n",
    "    \"verbosity\": -1,\n",
    "}\n",
    "\n",
    "tuner = lgb.LightGBMTunerCV(\n",
    "    params,\n",
    "    lgb_train,\n",
    "    folds=KFold(n_splits=5),\n",
    "    num_boost_round=10000,\n",
    "    callbacks=[early_stopping(100), log_evaluation(100)],\n",
    ")\n",
    "\n",
    "tuner.run()"
   ]
  },
  {
   "cell_type": "code",
   "execution_count": 23,
   "id": "8406fc3e",
   "metadata": {},
   "outputs": [
    {
     "name": "stdout",
     "output_type": "stream",
     "text": [
      "Best score: 0.14268798478686967\n",
      "Params: \n",
      "    boosting_type: gbdt\n",
      "    objective: regression\n",
      "    metric: l2\n",
      "    verbosity: -1\n",
      "    feature_pre_filter: False\n",
      "    lambda_l1: 0.00823498507862267\n",
      "    lambda_l2: 0.7752942108683559\n",
      "    num_leaves: 20\n",
      "    feature_fraction: 0.5\n",
      "    bagging_fraction: 1.0\n",
      "    bagging_freq: 0\n",
      "    min_child_samples: 10\n"
     ]
    }
   ],
   "source": [
    "print(f\"Best score: {tuner.best_score}\")\n",
    "best_params = tuner.best_params\n",
    "print(\"Params: \")\n",
    "for key, value in best_params.items():\n",
    "    print(\"    {}: {}\".format(key, value))"
   ]
  },
  {
   "cell_type": "code",
   "execution_count": 24,
   "id": "880974ce",
   "metadata": {},
   "outputs": [],
   "source": [
    "import lightgbm as lgb\n",
    "\n",
    "lgb_tuned = lgb.train(\n",
    "    best_params,\n",
    "    lgb_train,\n",
    "    num_boost_round=10000,\n",
    ")"
   ]
  },
  {
   "cell_type": "code",
   "execution_count": 25,
   "id": "53d87b2c",
   "metadata": {},
   "outputs": [
    {
     "name": "stdout",
     "output_type": "stream",
     "text": [
      "RMSE train: 0.00\n",
      "RMSE test: 0.47\n",
      "MAE test: 0.34\n",
      "\n"
     ]
    }
   ],
   "source": [
    "rmse, mae = assess_regression_model(lgb_tuned, X_train, X_test, y_train, y_test)"
   ]
  },
  {
   "cell_type": "code",
   "execution_count": 26,
   "id": "843255bc",
   "metadata": {},
   "outputs": [],
   "source": [
    "results.loc[1] = [\n",
    "    \"chronological\",\n",
    "    \"Optuna\",\n",
    "    \"expanded\",\n",
    "    rmse,\n",
    "    mae,\n",
    "]"
   ]
  },
  {
   "cell_type": "markdown",
   "id": "1c9ef70d",
   "metadata": {},
   "source": [
    "###### MAE by level"
   ]
  },
  {
   "cell_type": "code",
   "execution_count": 27,
   "id": "eab77fc8",
   "metadata": {},
   "outputs": [
    {
     "data": {
      "image/png": "[encoded data removed]",
      "text/plain": [
       "<Figure size 720x432 with 1 Axes>"
      ]
     },
     "metadata": {
      "needs_background": "light"
     },
     "output_type": "display_data"
    }
   ],
   "source": [
    "plot_mae_by_level(\n",
    "    y_test,\n",
    "    y_pred_test,\n",
    "    title=\"MAE by level for tuned LightGBM with expanded features and chronological split\",\n",
    ")"
   ]
  },
  {
   "cell_type": "code",
   "execution_count": 28,
   "id": "778f84c5",
   "metadata": {},
   "outputs": [
    {
     "name": "stdout",
     "output_type": "stream",
     "text": [
      "Default:\n",
      "RMSE: 0.47\n",
      "\n",
      "Round type: 0.5\n",
      "RMSE: 0.49\n",
      "\n",
      "Round type: 0.33\n",
      "RMSE: 0.53\n",
      "\n",
      "Round type: 0.45\n",
      "RMSE: 0.49\n",
      "\n"
     ]
    }
   ],
   "source": [
    "predict = lgb_tuned.predict(X_test)\n",
    "check_round_predictions([0.5, 0.33, 0.45], y_test, predict)"
   ]
  },
  {
   "cell_type": "code",
   "execution_count": 29,
   "id": "7823441a",
   "metadata": {},
   "outputs": [
    {
     "data": {
      "image/png": "[encoded data removed]",
      "text/plain": [
       "<Figure size 432x288 with 2 Axes>"
      ]
     },
     "metadata": {
      "needs_background": "light"
     },
     "output_type": "display_data"
    }
   ],
   "source": [
    "plot_confusion_matrix(\n",
    "    predict,\n",
    "    y_test,\n",
    "    title=\"Confusion matrix for tuned LightGBM with expanded features and chronological split\",\n",
    ")"
   ]
  },
  {
   "cell_type": "markdown",
   "id": "35088cc9",
   "metadata": {},
   "source": [
    "## Random split"
   ]
  },
  {
   "cell_type": "code",
   "execution_count": 30,
   "id": "692c4056",
   "metadata": {},
   "outputs": [
    {
     "name": "stdout",
     "output_type": "stream",
     "text": [
      "[LightGBM] [Warning] Auto-choosing col-wise multi-threading, the overhead of testing was 0.000435 seconds.\n",
      "You can set `force_col_wise=true` to remove the overhead.\n",
      "[LightGBM] [Info] Total Bins 392\n",
      "[LightGBM] [Info] Number of data points in the train set: 904, number of used features: 13\n",
      "[LightGBM] [Info] Start training from score 7.162611\n",
      "Training until validation scores don't improve for 5 rounds\n",
      "Early stopping, best iteration is:\n",
      "[88]\tvalid_0's l1: 0.267273\tvalid_0's l2: 0.148111\n"
     ]
    }
   ],
   "source": [
    "import lightgbm as lgb\n",
    "from sklearn.metrics import mean_squared_error\n",
    "\n",
    "lgb_train = lgb.Dataset(X_train_random_split, y_train_random_split)\n",
    "lgb_eval = lgb.Dataset(X_test_random_split, y_test_random_split, reference=lgb_train)\n",
    "\n",
    "params = {\n",
    "    \"boosting_type\": \"gbdt\",\n",
    "    \"objective\": \"regression\",\n",
    "    \"metric\": {\"l2\", \"l1\"},\n",
    "}\n",
    "\n",
    "gbm = lgb.train(\n",
    "    params,\n",
    "    lgb_train,\n",
    "    num_boost_round=100,\n",
    "    valid_sets=lgb_eval,\n",
    "    callbacks=[lgb.early_stopping(stopping_rounds=5)],\n",
    ")"
   ]
  },
  {
   "cell_type": "code",
   "execution_count": 31,
   "id": "24879a40",
   "metadata": {},
   "outputs": [],
   "source": [
    "y_pred_train = gbm.predict(X_train_random_split, num_iteration=gbm.best_iteration)\n",
    "y_pred_test = gbm.predict(X_test_random_split, num_iteration=gbm.best_iteration)"
   ]
  },
  {
   "cell_type": "code",
   "execution_count": 32,
   "id": "b5a760c1",
   "metadata": {},
   "outputs": [
    {
     "name": "stdout",
     "output_type": "stream",
     "text": [
      "RMSE: 0.38\n",
      "MAE: 0.27\n"
     ]
    }
   ],
   "source": [
    "from sklearn.metrics import mean_squared_error, mean_absolute_error\n",
    "\n",
    "\n",
    "rmse = mean_squared_error(y_test_random_split, y_pred_test, squared=False)\n",
    "mae = mean_absolute_error(y_test_random_split, y_pred_test)\n",
    "\n",
    "print(f\"RMSE: {rmse:.2f}\")\n",
    "print(f\"MAE: {mae:.2f}\")"
   ]
  },
  {
   "cell_type": "code",
   "execution_count": 33,
   "id": "a52e182e",
   "metadata": {},
   "outputs": [],
   "source": [
    "results.loc[2] = [\"random\", \"default\", \"expanded\", rmse, mae]"
   ]
  },
  {
   "cell_type": "markdown",
   "id": "17a44a91",
   "metadata": {},
   "source": [
    "###### MAE by level"
   ]
  },
  {
   "cell_type": "code",
   "execution_count": 34,
   "id": "180f64e4",
   "metadata": {},
   "outputs": [
    {
     "data": {
      "image/png": "[encoded data removed]",
      "text/plain": [
       "<Figure size 720x432 with 1 Axes>"
      ]
     },
     "metadata": {
      "needs_background": "light"
     },
     "output_type": "display_data"
    }
   ],
   "source": [
    "plot_mae_by_level(\n",
    "    y_test_random_split,\n",
    "    y_pred_test,\n",
    "    title=\"MAE by level for default LightGBM with expanded features and random split\",\n",
    ")"
   ]
  },
  {
   "cell_type": "code",
   "execution_count": 35,
   "id": "b42be07c",
   "metadata": {},
   "outputs": [
    {
     "name": "stdout",
     "output_type": "stream",
     "text": [
      "Default:\n",
      "RMSE: 0.38\n",
      "\n",
      "Round type: 0.5\n",
      "RMSE: 0.39\n",
      "\n",
      "Round type: 0.33\n",
      "RMSE: 0.45\n",
      "\n",
      "Round type: 0.45\n",
      "RMSE: 0.41\n",
      "\n"
     ]
    }
   ],
   "source": [
    "check_round_predictions([0.5, 0.33, 0.45], y_test_random_split, y_pred_test)"
   ]
  },
  {
   "cell_type": "code",
   "execution_count": 36,
   "id": "79174d21",
   "metadata": {},
   "outputs": [
    {
     "data": {
      "image/png": "[encoded data removed]",
      "text/plain": [
       "<Figure size 432x288 with 2 Axes>"
      ]
     },
     "metadata": {
      "needs_background": "light"
     },
     "output_type": "display_data"
    }
   ],
   "source": [
    "plot_confusion_matrix(\n",
    "    y_pred_test,\n",
    "    y_test_random_split,\n",
    "    title=\"Confusion matrix for default LightGBM with expanded features and random split\",\n",
    ")"
   ]
  },
  {
   "cell_type": "markdown",
   "id": "79bbd5ec",
   "metadata": {},
   "source": [
    "### Tuning"
   ]
  },
  {
   "cell_type": "code",
   "execution_count": 37,
   "id": "62270e6b",
   "metadata": {
    "scrolled": true
   },
   "outputs": [
    {
     "name": "stderr",
     "output_type": "stream",
     "text": [
      "[I 2023-11-05 14:01:37,220] A new study created in memory with name: no-name-34bdb72b-454f-408f-b9ed-e34da7951b6e\n",
      "feature_fraction, val_score: inf:   0%|                                                          | 0/7 [00:00<?, ?it/s]"
     ]
    },
    {
     "name": "stdout",
     "output_type": "stream",
     "text": [
      "Training until validation scores don't improve for 100 rounds\n",
      "[100]\tcv_agg's l2: 0.194725 + 0.0453077\n",
      "[200]\tcv_agg's l2: 0.191853 + 0.0434107\n",
      "[300]\tcv_agg's l2: 0.192368 + 0.0428342\n"
     ]
    },
    {
     "name": "stderr",
     "output_type": "stream",
     "text": [
      "feature_fraction, val_score: 0.191608:  14%|######4                                      | 1/7 [00:04<00:27,  4.65s/it][I 2023-11-05 14:01:41,875] Trial 0 finished with value: 0.1916081884832397 and parameters: {'feature_fraction': 1.0}. Best is trial 0 with value: 0.1916081884832397.\n",
      "feature_fraction, val_score: 0.191608:  14%|######4                                      | 1/7 [00:04<00:27,  4.65s/it]"
     ]
    },
    {
     "name": "stdout",
     "output_type": "stream",
     "text": [
      "Early stopping, best iteration is:\n",
      "[216]\tcv_agg's l2: 0.191608 + 0.0436806\n",
      "[100]\tcv_agg's l2: 0.170722 + 0.025656\n"
     ]
    },
    {
     "name": "stderr",
     "output_type": "stream",
     "text": [
      "feature_fraction, val_score: 0.169905:  29%|############8                                | 2/7 [00:07<00:18,  3.66s/it][I 2023-11-05 14:01:44,841] Trial 1 finished with value: 0.16990512956557652 and parameters: {'feature_fraction': 0.4}. Best is trial 1 with value: 0.16990512956557652.\n",
      "feature_fraction, val_score: 0.169905:  29%|############8                                | 2/7 [00:07<00:18,  3.66s/it]"
     ]
    },
    {
     "name": "stdout",
     "output_type": "stream",
     "text": [
      "[200]\tcv_agg's l2: 0.171152 + 0.0217836\n",
      "Early stopping, best iteration is:\n",
      "[111]\tcv_agg's l2: 0.169905 + 0.0238058\n",
      "[100]\tcv_agg's l2: 0.176461 + 0.0449111\n"
     ]
    },
    {
     "name": "stderr",
     "output_type": "stream",
     "text": [
      "feature_fraction, val_score: 0.169905:  43%|###################2                         | 3/7 [00:10<00:13,  3.28s/it][I 2023-11-05 14:01:47,676] Trial 2 finished with value: 0.17597000203755014 and parameters: {'feature_fraction': 0.6}. Best is trial 1 with value: 0.16990512956557652.\n",
      "feature_fraction, val_score: 0.169905:  43%|###################2                         | 3/7 [00:10<00:13,  3.28s/it]"
     ]
    },
    {
     "name": "stdout",
     "output_type": "stream",
     "text": [
      "[200]\tcv_agg's l2: 0.175083 + 0.0403922\n",
      "Early stopping, best iteration is:\n",
      "[111]\tcv_agg's l2: 0.169905 + 0.0238058\n",
      "[100]\tcv_agg's l2: 0.183796 + 0.0504299\n"
     ]
    },
    {
     "name": "stderr",
     "output_type": "stream",
     "text": [
      "feature_fraction, val_score: 0.169905:  57%|#########################7                   | 4/7 [00:13<00:09,  3.15s/it][I 2023-11-05 14:01:50,632] Trial 3 finished with value: 0.18334783322758202 and parameters: {'feature_fraction': 0.8}. Best is trial 1 with value: 0.16990512956557652.\n",
      "feature_fraction, val_score: 0.169905:  57%|#########################7                   | 4/7 [00:13<00:09,  3.15s/it]"
     ]
    },
    {
     "name": "stdout",
     "output_type": "stream",
     "text": [
      "[200]\tcv_agg's l2: 0.183343 + 0.0475492\n",
      "Early stopping, best iteration is:\n",
      "[111]\tcv_agg's l2: 0.169905 + 0.0238058\n",
      "[100]\tcv_agg's l2: 0.173766 + 0.0471292\n"
     ]
    },
    {
     "name": "stderr",
     "output_type": "stream",
     "text": [
      "feature_fraction, val_score: 0.169905:  71%|################################1            | 5/7 [00:16<00:06,  3.05s/it][I 2023-11-05 14:01:53,491] Trial 4 finished with value: 0.1730141269019109 and parameters: {'feature_fraction': 0.5}. Best is trial 1 with value: 0.16990512956557652.\n",
      "feature_fraction, val_score: 0.169905:  71%|################################1            | 5/7 [00:16<00:06,  3.05s/it]"
     ]
    },
    {
     "name": "stdout",
     "output_type": "stream",
     "text": [
      "[200]\tcv_agg's l2: 0.17381 + 0.0430843\n",
      "Early stopping, best iteration is:\n",
      "[111]\tcv_agg's l2: 0.169905 + 0.0238058\n",
      "[100]\tcv_agg's l2: 0.184173 + 0.0408721\n"
     ]
    },
    {
     "name": "stderr",
     "output_type": "stream",
     "text": [
      "feature_fraction, val_score: 0.169905:  86%|######################################5      | 6/7 [00:19<00:03,  3.01s/it][I 2023-11-05 14:01:56,420] Trial 5 finished with value: 0.18335453545094788 and parameters: {'feature_fraction': 0.8999999999999999}. Best is trial 1 with value: 0.16990512956557652.\n",
      "feature_fraction, val_score: 0.169905:  86%|######################################5      | 6/7 [00:19<00:03,  3.01s/it]"
     ]
    },
    {
     "name": "stdout",
     "output_type": "stream",
     "text": [
      "[200]\tcv_agg's l2: 0.183542 + 0.0375784\n",
      "Early stopping, best iteration is:\n",
      "[111]\tcv_agg's l2: 0.169905 + 0.0238058\n",
      "[100]\tcv_agg's l2: 0.178512 + 0.0508529\n"
     ]
    },
    {
     "name": "stderr",
     "output_type": "stream",
     "text": [
      "\r",
      "feature_fraction, val_score: 0.169905:  86%|######################################5      | 6/7 [00:22<00:03,  3.01s/it]"
     ]
    },
    {
     "name": "stdout",
     "output_type": "stream",
     "text": [
      "[200]\tcv_agg's l2: 0.1773 + 0.0472699\n",
      "Early stopping, best iteration is:\n",
      "[111]\tcv_agg's l2: 0.169905 + 0.0238058\n"
     ]
    },
    {
     "name": "stderr",
     "output_type": "stream",
     "text": [
      "feature_fraction, val_score: 0.169905: 100%|#############################################| 7/7 [00:22<00:00,  3.07s/it][I 2023-11-05 14:01:59,622] Trial 6 finished with value: 0.17784751218890346 and parameters: {'feature_fraction': 0.7}. Best is trial 1 with value: 0.16990512956557652.\n",
      "feature_fraction, val_score: 0.169905: 100%|#############################################| 7/7 [00:22<00:00,  3.20s/it]\n",
      "num_leaves, val_score: 0.169905:   0%|                                                          | 0/20 [00:00<?, ?it/s]"
     ]
    },
    {
     "name": "stdout",
     "output_type": "stream",
     "text": [
      "[100]\tcv_agg's l2: 0.170722 + 0.025656\n"
     ]
    },
    {
     "name": "stderr",
     "output_type": "stream",
     "text": [
      "num_leaves, val_score: 0.169905:   5%|##5                                               | 1/20 [00:03<00:57,  3.02s/it][I 2023-11-05 14:02:02,650] Trial 7 finished with value: 0.16990512956557652 and parameters: {'num_leaves': 239}. Best is trial 7 with value: 0.16990512956557652.\n",
      "num_leaves, val_score: 0.169905:   5%|##5                                               | 1/20 [00:03<00:57,  3.02s/it]"
     ]
    },
    {
     "name": "stdout",
     "output_type": "stream",
     "text": [
      "[200]\tcv_agg's l2: 0.171152 + 0.0217836\n",
      "Early stopping, best iteration is:\n",
      "[111]\tcv_agg's l2: 0.169905 + 0.0238058\n",
      "[100]\tcv_agg's l2: 0.170722 + 0.025656\n"
     ]
    },
    {
     "name": "stderr",
     "output_type": "stream",
     "text": [
      "num_leaves, val_score: 0.169905:  10%|#####                                             | 2/20 [00:06<00:57,  3.19s/it][I 2023-11-05 14:02:05,961] Trial 8 finished with value: 0.16990512956557652 and parameters: {'num_leaves': 32}. Best is trial 7 with value: 0.16990512956557652.\n",
      "num_leaves, val_score: 0.169905:  10%|#####                                             | 2/20 [00:06<00:57,  3.19s/it]"
     ]
    },
    {
     "name": "stdout",
     "output_type": "stream",
     "text": [
      "[200]\tcv_agg's l2: 0.171152 + 0.0217836\n",
      "Early stopping, best iteration is:\n",
      "[111]\tcv_agg's l2: 0.169905 + 0.0238058\n",
      "[100]\tcv_agg's l2: 0.170722 + 0.025656\n"
     ]
    },
    {
     "name": "stderr",
     "output_type": "stream",
     "text": [
      "num_leaves, val_score: 0.169905:  15%|#######5                                          | 3/20 [00:09<00:52,  3.07s/it][I 2023-11-05 14:02:08,893] Trial 9 finished with value: 0.16990512956557652 and parameters: {'num_leaves': 78}. Best is trial 7 with value: 0.16990512956557652.\n",
      "num_leaves, val_score: 0.169905:  15%|#######5                                          | 3/20 [00:09<00:52,  3.07s/it]"
     ]
    },
    {
     "name": "stdout",
     "output_type": "stream",
     "text": [
      "[200]\tcv_agg's l2: 0.171152 + 0.0217836\n",
      "Early stopping, best iteration is:\n",
      "[111]\tcv_agg's l2: 0.169905 + 0.0238058\n",
      "[100]\tcv_agg's l2: 0.170722 + 0.025656\n"
     ]
    },
    {
     "name": "stderr",
     "output_type": "stream",
     "text": [
      "\r",
      "num_leaves, val_score: 0.169905:  15%|#######5                                          | 3/20 [00:13<00:52,  3.07s/it]"
     ]
    },
    {
     "name": "stdout",
     "output_type": "stream",
     "text": [
      "[200]\tcv_agg's l2: 0.171152 + 0.0217836\n",
      "Early stopping, best iteration is:\n",
      "[111]\tcv_agg's l2: 0.169905 + 0.0238058\n"
     ]
    },
    {
     "name": "stderr",
     "output_type": "stream",
     "text": [
      "num_leaves, val_score: 0.169905:  20%|##########                                        | 4/20 [00:13<00:54,  3.44s/it][I 2023-11-05 14:02:12,886] Trial 10 finished with value: 0.16990512956557652 and parameters: {'num_leaves': 211}. Best is trial 7 with value: 0.16990512956557652.\n",
      "num_leaves, val_score: 0.169905:  20%|##########                                        | 4/20 [00:13<00:54,  3.44s/it]"
     ]
    },
    {
     "name": "stdout",
     "output_type": "stream",
     "text": [
      "[100]\tcv_agg's l2: 0.170722 + 0.025656\n"
     ]
    },
    {
     "name": "stderr",
     "output_type": "stream",
     "text": [
      "num_leaves, val_score: 0.169905:  25%|############5                                     | 5/20 [00:17<00:55,  3.70s/it][I 2023-11-05 14:02:17,054] Trial 11 finished with value: 0.16990512956557652 and parameters: {'num_leaves': 255}. Best is trial 7 with value: 0.16990512956557652.\n",
      "num_leaves, val_score: 0.169905:  25%|############5                                     | 5/20 [00:17<00:55,  3.70s/it]"
     ]
    },
    {
     "name": "stdout",
     "output_type": "stream",
     "text": [
      "[200]\tcv_agg's l2: 0.171152 + 0.0217836\n",
      "Early stopping, best iteration is:\n",
      "[111]\tcv_agg's l2: 0.169905 + 0.0238058\n",
      "[100]\tcv_agg's l2: 0.170722 + 0.025656\n",
      "[200]\tcv_agg's l2: 0.171152 + 0.0217836\n"
     ]
    },
    {
     "name": "stderr",
     "output_type": "stream",
     "text": [
      "num_leaves, val_score: 0.169905:  30%|###############                                   | 6/20 [00:20<00:48,  3.50s/it][I 2023-11-05 14:02:20,153] Trial 12 finished with value: 0.16990512956557652 and parameters: {'num_leaves': 160}. Best is trial 7 with value: 0.16990512956557652.\n",
      "num_leaves, val_score: 0.169905:  30%|###############                                   | 6/20 [00:20<00:48,  3.50s/it]"
     ]
    },
    {
     "name": "stdout",
     "output_type": "stream",
     "text": [
      "Early stopping, best iteration is:\n",
      "[111]\tcv_agg's l2: 0.169905 + 0.0238058\n",
      "[100]\tcv_agg's l2: 0.170722 + 0.025656\n"
     ]
    },
    {
     "name": "stderr",
     "output_type": "stream",
     "text": [
      "num_leaves, val_score: 0.169905:  35%|#################5                                | 7/20 [00:23<00:43,  3.32s/it][I 2023-11-05 14:02:23,104] Trial 13 finished with value: 0.16990512956557652 and parameters: {'num_leaves': 151}. Best is trial 7 with value: 0.16990512956557652.\n",
      "num_leaves, val_score: 0.169905:  35%|#################5                                | 7/20 [00:23<00:43,  3.32s/it]"
     ]
    },
    {
     "name": "stdout",
     "output_type": "stream",
     "text": [
      "[200]\tcv_agg's l2: 0.171152 + 0.0217836\n",
      "Early stopping, best iteration is:\n",
      "[111]\tcv_agg's l2: 0.169905 + 0.0238058\n",
      "[100]\tcv_agg's l2: 0.170722 + 0.025656\n"
     ]
    },
    {
     "name": "stderr",
     "output_type": "stream",
     "text": [
      "num_leaves, val_score: 0.169905:  40%|####################                              | 8/20 [00:27<00:41,  3.48s/it][I 2023-11-05 14:02:26,947] Trial 14 finished with value: 0.16990512956557652 and parameters: {'num_leaves': 252}. Best is trial 7 with value: 0.16990512956557652.\n",
      "num_leaves, val_score: 0.169905:  40%|####################                              | 8/20 [00:27<00:41,  3.48s/it]"
     ]
    },
    {
     "name": "stdout",
     "output_type": "stream",
     "text": [
      "[200]\tcv_agg's l2: 0.171152 + 0.0217836\n",
      "Early stopping, best iteration is:\n",
      "[111]\tcv_agg's l2: 0.169905 + 0.0238058\n",
      "[100]\tcv_agg's l2: 0.170722 + 0.025656\n"
     ]
    },
    {
     "name": "stderr",
     "output_type": "stream",
     "text": [
      "num_leaves, val_score: 0.169905:  45%|######################5                           | 9/20 [00:29<00:35,  3.22s/it][I 2023-11-05 14:02:29,582] Trial 15 finished with value: 0.16990512956557652 and parameters: {'num_leaves': 100}. Best is trial 7 with value: 0.16990512956557652.\n",
      "num_leaves, val_score: 0.169905:  45%|######################5                           | 9/20 [00:29<00:35,  3.22s/it]"
     ]
    },
    {
     "name": "stdout",
     "output_type": "stream",
     "text": [
      "[200]\tcv_agg's l2: 0.171152 + 0.0217836\n",
      "Early stopping, best iteration is:\n",
      "[111]\tcv_agg's l2: 0.169905 + 0.0238058\n",
      "[100]\tcv_agg's l2: 0.170722 + 0.025656\n"
     ]
    },
    {
     "name": "stderr",
     "output_type": "stream",
     "text": [
      "num_leaves, val_score: 0.169905:  50%|########################5                        | 10/20 [00:32<00:31,  3.14s/it][I 2023-11-05 14:02:32,528] Trial 16 finished with value: 0.16990512956557652 and parameters: {'num_leaves': 194}. Best is trial 7 with value: 0.16990512956557652.\n",
      "num_leaves, val_score: 0.169905:  50%|########################5                        | 10/20 [00:32<00:31,  3.14s/it]"
     ]
    },
    {
     "name": "stdout",
     "output_type": "stream",
     "text": [
      "[200]\tcv_agg's l2: 0.171152 + 0.0217836\n",
      "Early stopping, best iteration is:\n",
      "[111]\tcv_agg's l2: 0.169905 + 0.0238058\n",
      "[100]\tcv_agg's l2: 0.182879 + 0.0288457\n"
     ]
    },
    {
     "name": "stderr",
     "output_type": "stream",
     "text": [
      "num_leaves, val_score: 0.169905:  55%|##########################9                      | 11/20 [00:33<00:22,  2.46s/it][I 2023-11-05 14:02:33,471] Trial 17 finished with value: 0.18112143550640591 and parameters: {'num_leaves': 7}. Best is trial 7 with value: 0.16990512956557652.\n",
      "num_leaves, val_score: 0.169905:  55%|##########################9                      | 11/20 [00:33<00:22,  2.46s/it]"
     ]
    },
    {
     "name": "stdout",
     "output_type": "stream",
     "text": [
      "[200]\tcv_agg's l2: 0.175293 + 0.022155\n",
      "Early stopping, best iteration is:\n",
      "[111]\tcv_agg's l2: 0.169905 + 0.0238058\n",
      "[100]\tcv_agg's l2: 0.170722 + 0.025656\n"
     ]
    },
    {
     "name": "stderr",
     "output_type": "stream",
     "text": [
      "num_leaves, val_score: 0.169905:  60%|#############################4                   | 12/20 [00:36<00:20,  2.56s/it][I 2023-11-05 14:02:36,262] Trial 18 finished with value: 0.16990512956557652 and parameters: {'num_leaves': 203}. Best is trial 7 with value: 0.16990512956557652.\n",
      "num_leaves, val_score: 0.169905:  60%|#############################4                   | 12/20 [00:36<00:20,  2.56s/it]"
     ]
    },
    {
     "name": "stdout",
     "output_type": "stream",
     "text": [
      "[200]\tcv_agg's l2: 0.171152 + 0.0217836\n",
      "Early stopping, best iteration is:\n",
      "[111]\tcv_agg's l2: 0.169905 + 0.0238058\n",
      "[100]\tcv_agg's l2: 0.170722 + 0.025656\n"
     ]
    },
    {
     "name": "stderr",
     "output_type": "stream",
     "text": [
      "num_leaves, val_score: 0.169905:  65%|###############################8                 | 13/20 [00:39<00:18,  2.58s/it][I 2023-11-05 14:02:38,892] Trial 19 finished with value: 0.16990512956557652 and parameters: {'num_leaves': 94}. Best is trial 7 with value: 0.16990512956557652.\n",
      "num_leaves, val_score: 0.169905:  65%|###############################8                 | 13/20 [00:39<00:18,  2.58s/it]"
     ]
    },
    {
     "name": "stdout",
     "output_type": "stream",
     "text": [
      "[200]\tcv_agg's l2: 0.171152 + 0.0217836\n",
      "Early stopping, best iteration is:\n",
      "[111]\tcv_agg's l2: 0.169905 + 0.0238058\n",
      "[100]\tcv_agg's l2: 0.170722 + 0.025656\n"
     ]
    },
    {
     "name": "stderr",
     "output_type": "stream",
     "text": [
      "\r",
      "num_leaves, val_score: 0.169905:  65%|###############################8                 | 13/20 [00:41<00:18,  2.58s/it]"
     ]
    },
    {
     "name": "stdout",
     "output_type": "stream",
     "text": [
      "[200]\tcv_agg's l2: 0.171152 + 0.0217836\n",
      "Early stopping, best iteration is:\n",
      "[111]\tcv_agg's l2: 0.169905 + 0.0238058\n"
     ]
    },
    {
     "name": "stderr",
     "output_type": "stream",
     "text": [
      "num_leaves, val_score: 0.169905:  70%|##################################3              | 14/20 [00:41<00:15,  2.62s/it][I 2023-11-05 14:02:41,595] Trial 20 finished with value: 0.16990512956557652 and parameters: {'num_leaves': 168}. Best is trial 7 with value: 0.16990512956557652.\n",
      "num_leaves, val_score: 0.169905:  70%|##################################3              | 14/20 [00:41<00:15,  2.62s/it]"
     ]
    },
    {
     "name": "stdout",
     "output_type": "stream",
     "text": [
      "[100]\tcv_agg's l2: 0.170342 + 0.0254767\n",
      "[200]\tcv_agg's l2: 0.168558 + 0.0211551\n"
     ]
    },
    {
     "name": "stderr",
     "output_type": "stream",
     "text": [
      "num_leaves, val_score: 0.168222:  75%|####################################7            | 15/20 [00:45<00:14,  2.81s/it][I 2023-11-05 14:02:44,843] Trial 21 finished with value: 0.16822203117688317 and parameters: {'num_leaves': 23}. Best is trial 21 with value: 0.16822203117688317.\n",
      "num_leaves, val_score: 0.168222:  75%|####################################7            | 15/20 [00:45<00:14,  2.81s/it]"
     ]
    },
    {
     "name": "stdout",
     "output_type": "stream",
     "text": [
      "Early stopping, best iteration is:\n",
      "[184]\tcv_agg's l2: 0.168222 + 0.0214685\n",
      "[100]\tcv_agg's l2: 0.170722 + 0.025656\n",
      "[200]\tcv_agg's l2: 0.171152 + 0.0217836\n"
     ]
    },
    {
     "name": "stderr",
     "output_type": "stream",
     "text": [
      "num_leaves, val_score: 0.168222:  80%|#######################################2         | 16/20 [00:48<00:12,  3.04s/it][I 2023-11-05 14:02:48,410] Trial 22 finished with value: 0.17099044123698887 and parameters: {'num_leaves': 54}. Best is trial 21 with value: 0.16822203117688317.\n",
      "num_leaves, val_score: 0.168222:  80%|#######################################2         | 16/20 [00:48<00:12,  3.04s/it]"
     ]
    },
    {
     "name": "stdout",
     "output_type": "stream",
     "text": [
      "Early stopping, best iteration is:\n",
      "[184]\tcv_agg's l2: 0.168222 + 0.0214685\n",
      "[100]\tcv_agg's l2: 0.170722 + 0.025656\n",
      "[200]\tcv_agg's l2: 0.171152 + 0.0217836\n"
     ]
    },
    {
     "name": "stderr",
     "output_type": "stream",
     "text": [
      "num_leaves, val_score: 0.168222:  85%|#########################################6       | 17/20 [00:52<00:09,  3.21s/it][I 2023-11-05 14:02:52,009] Trial 23 finished with value: 0.17099044123698887 and parameters: {'num_leaves': 127}. Best is trial 21 with value: 0.16822203117688317.\n",
      "num_leaves, val_score: 0.168222:  85%|#########################################6       | 17/20 [00:52<00:09,  3.21s/it]"
     ]
    },
    {
     "name": "stdout",
     "output_type": "stream",
     "text": [
      "Early stopping, best iteration is:\n",
      "[184]\tcv_agg's l2: 0.168222 + 0.0214685\n",
      "[100]\tcv_agg's l2: 0.170722 + 0.025656\n",
      "[200]\tcv_agg's l2: 0.171152 + 0.0217836\n"
     ]
    },
    {
     "name": "stderr",
     "output_type": "stream",
     "text": [
      "num_leaves, val_score: 0.168222:  90%|############################################1    | 18/20 [00:56<00:06,  3.46s/it][I 2023-11-05 14:02:56,060] Trial 24 finished with value: 0.17099044123698887 and parameters: {'num_leaves': 121}. Best is trial 21 with value: 0.16822203117688317.\n",
      "num_leaves, val_score: 0.168222:  90%|############################################1    | 18/20 [00:56<00:06,  3.46s/it]"
     ]
    },
    {
     "name": "stdout",
     "output_type": "stream",
     "text": [
      "Early stopping, best iteration is:\n",
      "[184]\tcv_agg's l2: 0.168222 + 0.0214685\n",
      "[100]\tcv_agg's l2: 0.341139 + 0.0598865\n"
     ]
    },
    {
     "name": "stderr",
     "output_type": "stream",
     "text": [
      "num_leaves, val_score: 0.168222:  95%|##############################################5  | 19/20 [00:57<00:02,  2.60s/it][I 2023-11-05 14:02:56,657] Trial 25 finished with value: 0.2994489959323526 and parameters: {'num_leaves': 2}. Best is trial 21 with value: 0.16822203117688317.\n",
      "num_leaves, val_score: 0.168222:  95%|##############################################5  | 19/20 [00:57<00:02,  2.60s/it]"
     ]
    },
    {
     "name": "stdout",
     "output_type": "stream",
     "text": [
      "[200]\tcv_agg's l2: 0.296509 + 0.045691\n",
      "Early stopping, best iteration is:\n",
      "[184]\tcv_agg's l2: 0.168222 + 0.0214685\n",
      "[100]\tcv_agg's l2: 0.170722 + 0.025656\n",
      "[200]\tcv_agg's l2: 0.171152 + 0.0217836\n"
     ]
    },
    {
     "name": "stderr",
     "output_type": "stream",
     "text": [
      "num_leaves, val_score: 0.168222: 100%|#################################################| 20/20 [01:00<00:00,  2.91s/it][I 2023-11-05 14:03:00,276] Trial 26 finished with value: 0.17099044123698887 and parameters: {'num_leaves': 61}. Best is trial 21 with value: 0.16822203117688317.\n",
      "num_leaves, val_score: 0.168222: 100%|#################################################| 20/20 [01:00<00:00,  3.03s/it]\n"
     ]
    },
    {
     "name": "stdout",
     "output_type": "stream",
     "text": [
      "Early stopping, best iteration is:\n",
      "[184]\tcv_agg's l2: 0.168222 + 0.0214685\n"
     ]
    },
    {
     "name": "stderr",
     "output_type": "stream",
     "text": [
      "bagging, val_score: 0.168222:   0%|                                                             | 0/10 [00:00<?, ?it/s]"
     ]
    },
    {
     "name": "stdout",
     "output_type": "stream",
     "text": [
      "[100]\tcv_agg's l2: 0.183076 + 0.0350511\n",
      "[200]\tcv_agg's l2: 0.176708 + 0.0290916\n"
     ]
    },
    {
     "name": "stderr",
     "output_type": "stream",
     "text": [
      "bagging, val_score: 0.168222:  10%|#####3                                               | 1/10 [00:02<00:24,  2.75s/it][I 2023-11-05 14:03:03,034] Trial 27 finished with value: 0.1779230032502244 and parameters: {'bagging_fraction': 0.6429919160115831, 'bagging_freq': 5}. Best is trial 27 with value: 0.1779230032502244.\n",
      "bagging, val_score: 0.168222:  10%|#####3                                               | 1/10 [00:02<00:24,  2.75s/it]"
     ]
    },
    {
     "name": "stdout",
     "output_type": "stream",
     "text": [
      "Early stopping, best iteration is:\n",
      "[184]\tcv_agg's l2: 0.168222 + 0.0214685\n",
      "[100]\tcv_agg's l2: 0.165984 + 0.0202487\n",
      "[200]\tcv_agg's l2: 0.165033 + 0.0153393\n"
     ]
    },
    {
     "name": "stderr",
     "output_type": "stream",
     "text": [
      "bagging, val_score: 0.164718:  20%|##########6                                          | 2/10 [00:06<00:27,  3.46s/it][I 2023-11-05 14:03:06,992] Trial 28 finished with value: 0.1647183716632567 and parameters: {'bagging_fraction': 0.9483214622091305, 'bagging_freq': 1}. Best is trial 28 with value: 0.1647183716632567.\n",
      "bagging, val_score: 0.164718:  20%|##########6                                          | 2/10 [00:06<00:27,  3.46s/it]"
     ]
    },
    {
     "name": "stdout",
     "output_type": "stream",
     "text": [
      "[300]\tcv_agg's l2: 0.165171 + 0.0148224\n",
      "Early stopping, best iteration is:\n",
      "[211]\tcv_agg's l2: 0.164718 + 0.0147898\n",
      "[100]\tcv_agg's l2: 0.167829 + 0.0239327\n",
      "[200]\tcv_agg's l2: 0.167068 + 0.0212724\n"
     ]
    },
    {
     "name": "stderr",
     "output_type": "stream",
     "text": [
      "bagging, val_score: 0.164718:  30%|###############9                                     | 3/10 [00:10<00:25,  3.65s/it][I 2023-11-05 14:03:10,859] Trial 29 finished with value: 0.16728910368442454 and parameters: {'bagging_fraction': 0.9610744258455532, 'bagging_freq': 1}. Best is trial 28 with value: 0.1647183716632567.\n",
      "bagging, val_score: 0.164718:  30%|###############9                                     | 3/10 [00:10<00:25,  3.65s/it]"
     ]
    },
    {
     "name": "stdout",
     "output_type": "stream",
     "text": [
      "[300]\tcv_agg's l2: 0.168118 + 0.0213308\n",
      "Early stopping, best iteration is:\n",
      "[211]\tcv_agg's l2: 0.164718 + 0.0147898\n",
      "[100]\tcv_agg's l2: 0.173578 + 0.0253661\n",
      "[200]\tcv_agg's l2: 0.173545 + 0.0204588\n"
     ]
    },
    {
     "name": "stderr",
     "output_type": "stream",
     "text": [
      "bagging, val_score: 0.164718:  40%|#####################2                               | 4/10 [00:14<00:21,  3.57s/it][I 2023-11-05 14:03:14,323] Trial 30 finished with value: 0.17336666341029372 and parameters: {'bagging_fraction': 0.9906599971696184, 'bagging_freq': 1}. Best is trial 28 with value: 0.1647183716632567.\n",
      "bagging, val_score: 0.164718:  40%|#####################2                               | 4/10 [00:14<00:21,  3.57s/it]"
     ]
    },
    {
     "name": "stdout",
     "output_type": "stream",
     "text": [
      "[300]\tcv_agg's l2: 0.174421 + 0.0208737\n",
      "Early stopping, best iteration is:\n",
      "[211]\tcv_agg's l2: 0.164718 + 0.0147898\n",
      "[100]\tcv_agg's l2: 0.170641 + 0.0254762\n",
      "[200]\tcv_agg's l2: 0.170061 + 0.0210132\n"
     ]
    },
    {
     "name": "stderr",
     "output_type": "stream",
     "text": [
      "bagging, val_score: 0.164718:  50%|##########################5                          | 5/10 [00:17<00:18,  3.65s/it][I 2023-11-05 14:03:18,105] Trial 31 finished with value: 0.17007515013230953 and parameters: {'bagging_fraction': 0.9912595796807936, 'bagging_freq': 1}. Best is trial 28 with value: 0.1647183716632567.\n",
      "bagging, val_score: 0.164718:  50%|##########################5                          | 5/10 [00:17<00:18,  3.65s/it]"
     ]
    },
    {
     "name": "stdout",
     "output_type": "stream",
     "text": [
      "[300]\tcv_agg's l2: 0.170877 + 0.01951\n",
      "Early stopping, best iteration is:\n",
      "[211]\tcv_agg's l2: 0.164718 + 0.0147898\n",
      "[100]\tcv_agg's l2: 0.166914 + 0.0250172\n",
      "[200]\tcv_agg's l2: 0.165863 + 0.021681\n"
     ]
    },
    {
     "name": "stderr",
     "output_type": "stream",
     "text": [
      "bagging, val_score: 0.164718:  60%|###############################8                     | 6/10 [00:20<00:13,  3.43s/it][I 2023-11-05 14:03:21,108] Trial 32 finished with value: 0.1651468482697776 and parameters: {'bagging_fraction': 0.8539262059391102, 'bagging_freq': 2}. Best is trial 28 with value: 0.1647183716632567.\n",
      "bagging, val_score: 0.164718:  60%|###############################8                     | 6/10 [00:20<00:13,  3.43s/it]"
     ]
    },
    {
     "name": "stdout",
     "output_type": "stream",
     "text": [
      "[300]\tcv_agg's l2: 0.166178 + 0.0211148\n",
      "Early stopping, best iteration is:\n",
      "[211]\tcv_agg's l2: 0.164718 + 0.0147898\n",
      "[100]\tcv_agg's l2: 0.170989 + 0.0282186\n",
      "[200]\tcv_agg's l2: 0.169216 + 0.0246182\n"
     ]
    },
    {
     "name": "stderr",
     "output_type": "stream",
     "text": [
      "bagging, val_score: 0.164718:  70%|#####################################                | 7/10 [00:23<00:09,  3.12s/it][I 2023-11-05 14:03:23,602] Trial 33 finished with value: 0.16898913068249283 and parameters: {'bagging_fraction': 0.8923137741095813, 'bagging_freq': 1}. Best is trial 28 with value: 0.1647183716632567.\n",
      "bagging, val_score: 0.164718:  70%|#####################################                | 7/10 [00:23<00:09,  3.12s/it]"
     ]
    },
    {
     "name": "stdout",
     "output_type": "stream",
     "text": [
      "[300]\tcv_agg's l2: 0.169932 + 0.0239549\n",
      "Early stopping, best iteration is:\n",
      "[211]\tcv_agg's l2: 0.164718 + 0.0147898\n",
      "[100]\tcv_agg's l2: 0.169375 + 0.0218711\n",
      "[200]\tcv_agg's l2: 0.167988 + 0.0186432\n"
     ]
    },
    {
     "name": "stderr",
     "output_type": "stream",
     "text": [
      "bagging, val_score: 0.164718:  80%|##########################################4          | 8/10 [00:25<00:05,  2.86s/it][I 2023-11-05 14:03:25,908] Trial 34 finished with value: 0.1686919839005429 and parameters: {'bagging_fraction': 0.8375904614825901, 'bagging_freq': 3}. Best is trial 28 with value: 0.1647183716632567.\n",
      "bagging, val_score: 0.164718:  80%|##########################################4          | 8/10 [00:25<00:05,  2.86s/it]"
     ]
    },
    {
     "name": "stdout",
     "output_type": "stream",
     "text": [
      "[300]\tcv_agg's l2: 0.167964 + 0.0181991\n",
      "Early stopping, best iteration is:\n",
      "[211]\tcv_agg's l2: 0.164718 + 0.0147898\n",
      "[100]\tcv_agg's l2: 0.175527 + 0.02368\n",
      "[200]\tcv_agg's l2: 0.173959 + 0.0181218\n"
     ]
    },
    {
     "name": "stderr",
     "output_type": "stream",
     "text": [
      "bagging, val_score: 0.164718:  90%|###############################################7     | 9/10 [00:27<00:02,  2.68s/it][I 2023-11-05 14:03:28,190] Trial 35 finished with value: 0.1740912769083915 and parameters: {'bagging_fraction': 0.8069195347331376, 'bagging_freq': 3}. Best is trial 28 with value: 0.1647183716632567.\n",
      "bagging, val_score: 0.164718:  90%|###############################################7     | 9/10 [00:27<00:02,  2.68s/it]"
     ]
    },
    {
     "name": "stdout",
     "output_type": "stream",
     "text": [
      "[300]\tcv_agg's l2: 0.174189 + 0.018992\n",
      "Early stopping, best iteration is:\n",
      "[211]\tcv_agg's l2: 0.164718 + 0.0147898\n",
      "[100]\tcv_agg's l2: 0.170367 + 0.0230202\n",
      "[200]\tcv_agg's l2: 0.168599 + 0.0175231\n"
     ]
    },
    {
     "name": "stderr",
     "output_type": "stream",
     "text": [
      "bagging, val_score: 0.164718: 100%|####################################################| 10/10 [00:30<00:00,  2.64s/it][I 2023-11-05 14:03:30,752] Trial 36 finished with value: 0.1688755163327424 and parameters: {'bagging_fraction': 0.8804301015708833, 'bagging_freq': 2}. Best is trial 28 with value: 0.1647183716632567.\n",
      "bagging, val_score: 0.164718: 100%|####################################################| 10/10 [00:30<00:00,  3.05s/it]\n"
     ]
    },
    {
     "name": "stdout",
     "output_type": "stream",
     "text": [
      "[300]\tcv_agg's l2: 0.170481 + 0.0167836\n",
      "Early stopping, best iteration is:\n",
      "[211]\tcv_agg's l2: 0.164718 + 0.0147898\n"
     ]
    },
    {
     "name": "stderr",
     "output_type": "stream",
     "text": [
      "feature_fraction_stage2, val_score: 0.164718:   0%|                                              | 0/3 [00:00<?, ?it/s]"
     ]
    },
    {
     "name": "stdout",
     "output_type": "stream",
     "text": [
      "[100]\tcv_agg's l2: 0.165984 + 0.0202487\n",
      "[200]\tcv_agg's l2: 0.165033 + 0.0153393\n"
     ]
    },
    {
     "name": "stderr",
     "output_type": "stream",
     "text": [
      "feature_fraction_stage2, val_score: 0.164718:  33%|############6                         | 1/3 [00:03<00:06,  3.36s/it][I 2023-11-05 14:03:34,122] Trial 37 finished with value: 0.1647183716632567 and parameters: {'feature_fraction': 0.41600000000000004}. Best is trial 37 with value: 0.1647183716632567.\n",
      "feature_fraction_stage2, val_score: 0.164718:  33%|############6                         | 1/3 [00:03<00:06,  3.36s/it]"
     ]
    },
    {
     "name": "stdout",
     "output_type": "stream",
     "text": [
      "[300]\tcv_agg's l2: 0.165171 + 0.0148224\n",
      "Early stopping, best iteration is:\n",
      "[211]\tcv_agg's l2: 0.164718 + 0.0147898\n",
      "[100]\tcv_agg's l2: 0.173889 + 0.0412572\n",
      "[200]\tcv_agg's l2: 0.174389 + 0.0389761\n"
     ]
    },
    {
     "name": "stderr",
     "output_type": "stream",
     "text": [
      "feature_fraction_stage2, val_score: 0.164718:  67%|#########################3            | 2/3 [00:05<00:02,  2.91s/it][I 2023-11-05 14:03:36,713] Trial 38 finished with value: 0.1743976159142412 and parameters: {'feature_fraction': 0.44800000000000006}. Best is trial 37 with value: 0.1647183716632567.\n",
      "feature_fraction_stage2, val_score: 0.164718:  67%|#########################3            | 2/3 [00:05<00:02,  2.91s/it]"
     ]
    },
    {
     "name": "stdout",
     "output_type": "stream",
     "text": [
      "[300]\tcv_agg's l2: 0.176172 + 0.0386821\n",
      "Early stopping, best iteration is:\n",
      "[211]\tcv_agg's l2: 0.164718 + 0.0147898\n",
      "[100]\tcv_agg's l2: 0.173889 + 0.0412572\n",
      "[200]\tcv_agg's l2: 0.174389 + 0.0389761\n"
     ]
    },
    {
     "name": "stderr",
     "output_type": "stream",
     "text": [
      "feature_fraction_stage2, val_score: 0.164718: 100%|######################################| 3/3 [00:08<00:00,  2.92s/it][I 2023-11-05 14:03:39,640] Trial 39 finished with value: 0.1743976159142412 and parameters: {'feature_fraction': 0.48000000000000004}. Best is trial 37 with value: 0.1647183716632567.\n",
      "feature_fraction_stage2, val_score: 0.164718: 100%|######################################| 3/3 [00:08<00:00,  2.96s/it]\n"
     ]
    },
    {
     "name": "stdout",
     "output_type": "stream",
     "text": [
      "[300]\tcv_agg's l2: 0.176172 + 0.0386821\n",
      "Early stopping, best iteration is:\n",
      "[211]\tcv_agg's l2: 0.164718 + 0.0147898\n"
     ]
    },
    {
     "name": "stderr",
     "output_type": "stream",
     "text": [
      "regularization_factors, val_score: 0.164718:   0%|                                              | 0/20 [00:00<?, ?it/s]"
     ]
    },
    {
     "name": "stdout",
     "output_type": "stream",
     "text": [
      "[100]\tcv_agg's l2: 0.16688 + 0.0239411\n",
      "[200]\tcv_agg's l2: 0.165962 + 0.0200114\n"
     ]
    },
    {
     "name": "stderr",
     "output_type": "stream",
     "text": [
      "regularization_factors, val_score: 0.164718:   5%|#9                                    | 1/20 [00:02<00:47,  2.51s/it][I 2023-11-05 14:03:42,155] Trial 40 finished with value: 0.1659175035317467 and parameters: {'lambda_l1': 0.0025467230051212475, 'lambda_l2': 0.27337915599928714}. Best is trial 40 with value: 0.1659175035317467.\n",
      "regularization_factors, val_score: 0.164718:   5%|#9                                    | 1/20 [00:02<00:47,  2.51s/it]"
     ]
    },
    {
     "name": "stdout",
     "output_type": "stream",
     "text": [
      "[300]\tcv_agg's l2: 0.166536 + 0.0186054\n",
      "Early stopping, best iteration is:\n",
      "[211]\tcv_agg's l2: 0.164718 + 0.0147898\n",
      "[100]\tcv_agg's l2: 0.169623 + 0.0253044\n",
      "[200]\tcv_agg's l2: 0.168702 + 0.0196862\n"
     ]
    },
    {
     "name": "stderr",
     "output_type": "stream",
     "text": [
      "regularization_factors, val_score: 0.164718:  10%|###8                                  | 2/20 [00:04<00:44,  2.47s/it][I 2023-11-05 14:03:44,594] Trial 41 finished with value: 0.16867057106469116 and parameters: {'lambda_l1': 0.0021991509108731802, 'lambda_l2': 0.6342898514855947}. Best is trial 40 with value: 0.1659175035317467.\n",
      "regularization_factors, val_score: 0.164718:  10%|###8                                  | 2/20 [00:04<00:44,  2.47s/it]"
     ]
    },
    {
     "name": "stdout",
     "output_type": "stream",
     "text": [
      "[300]\tcv_agg's l2: 0.169696 + 0.0188505\n",
      "Early stopping, best iteration is:\n",
      "[211]\tcv_agg's l2: 0.164718 + 0.0147898\n",
      "[100]\tcv_agg's l2: 0.226693 + 0.0545183\n",
      "[200]\tcv_agg's l2: 0.218311 + 0.0519813\n"
     ]
    },
    {
     "name": "stderr",
     "output_type": "stream",
     "text": [
      "regularization_factors, val_score: 0.164718:  15%|#####7                                | 3/20 [00:05<00:30,  1.78s/it][I 2023-11-05 14:03:45,560] Trial 42 finished with value: 0.21780702476648672 and parameters: {'lambda_l1': 9.287191406930418, 'lambda_l2': 1.2711045798671374e-08}. Best is trial 40 with value: 0.1659175035317467.\n",
      "regularization_factors, val_score: 0.164718:  15%|#####7                                | 3/20 [00:05<00:30,  1.78s/it]"
     ]
    },
    {
     "name": "stdout",
     "output_type": "stream",
     "text": [
      "[300]\tcv_agg's l2: 0.215476 + 0.0512368\n",
      "Early stopping, best iteration is:\n",
      "[211]\tcv_agg's l2: 0.164718 + 0.0147898\n",
      "[100]\tcv_agg's l2: 0.185246 + 0.0317459\n",
      "[200]\tcv_agg's l2: 0.176238 + 0.025778\n"
     ]
    },
    {
     "name": "stderr",
     "output_type": "stream",
     "text": [
      "regularization_factors, val_score: 0.164718:  20%|#######6                              | 4/20 [00:08<00:36,  2.28s/it][I 2023-11-05 14:03:48,602] Trial 43 finished with value: 0.17647431140568054 and parameters: {'lambda_l1': 1.4581620383329756e-08, 'lambda_l2': 6.8247505359785965}. Best is trial 40 with value: 0.1659175035317467.\n"
     ]
    },
    {
     "name": "stdout",
     "output_type": "stream",
     "text": [
      "[300]\tcv_agg's l2: 0.174089 + 0.0257213\n",
      "Early stopping, best iteration is:\n",
      "[211]\tcv_agg's l2: 0.164718 + 0.0147898\n"
     ]
    },
    {
     "name": "stderr",
     "output_type": "stream",
     "text": [
      "\r",
      "regularization_factors, val_score: 0.164718:  20%|#######6                              | 4/20 [00:08<00:36,  2.28s/it]"
     ]
    },
    {
     "name": "stdout",
     "output_type": "stream",
     "text": [
      "[100]\tcv_agg's l2: 0.167786 + 0.0219369\n",
      "[200]\tcv_agg's l2: 0.16684 + 0.0168931\n"
     ]
    },
    {
     "name": "stderr",
     "output_type": "stream",
     "text": [
      "regularization_factors, val_score: 0.164718:  25%|#########5                            | 5/20 [00:11<00:37,  2.52s/it][I 2023-11-05 14:03:51,541] Trial 44 finished with value: 0.16683680183534538 and parameters: {'lambda_l1': 0.0008954423492727652, 'lambda_l2': 0.0028960849818370103}. Best is trial 40 with value: 0.1659175035317467.\n",
      "regularization_factors, val_score: 0.164718:  25%|#########5                            | 5/20 [00:11<00:37,  2.52s/it]"
     ]
    },
    {
     "name": "stdout",
     "output_type": "stream",
     "text": [
      "[300]\tcv_agg's l2: 0.166519 + 0.017038\n",
      "Early stopping, best iteration is:\n",
      "[211]\tcv_agg's l2: 0.164718 + 0.0147898\n",
      "[100]\tcv_agg's l2: 0.167331 + 0.0222207\n",
      "[200]\tcv_agg's l2: 0.165972 + 0.0174738\n"
     ]
    },
    {
     "name": "stderr",
     "output_type": "stream",
     "text": [
      "regularization_factors, val_score: 0.164718:  30%|###########4                          | 6/20 [00:14<00:36,  2.58s/it][I 2023-11-05 14:03:54,233] Trial 45 finished with value: 0.1661024881115627 and parameters: {'lambda_l1': 0.000992205227516542, 'lambda_l2': 0.0035265174319334563}. Best is trial 40 with value: 0.1659175035317467.\n",
      "regularization_factors, val_score: 0.164718:  30%|###########4                          | 6/20 [00:14<00:36,  2.58s/it]"
     ]
    },
    {
     "name": "stdout",
     "output_type": "stream",
     "text": [
      "[300]\tcv_agg's l2: 0.167025 + 0.0164543\n",
      "Early stopping, best iteration is:\n",
      "[211]\tcv_agg's l2: 0.164718 + 0.0147898\n",
      "[100]\tcv_agg's l2: 0.166666 + 0.0209825\n",
      "[200]\tcv_agg's l2: 0.165253 + 0.0177658\n",
      "[300]\tcv_agg's l2: 0.164658 + 0.0160186\n"
     ]
    },
    {
     "name": "stderr",
     "output_type": "stream",
     "text": [
      "regularization_factors, val_score: 0.164583:  35%|#############3                        | 7/20 [00:18<00:38,  2.96s/it][I 2023-11-05 14:03:57,984] Trial 46 finished with value: 0.16458308965197926 and parameters: {'lambda_l1': 0.002196519591163452, 'lambda_l2': 0.004639206766756464}. Best is trial 46 with value: 0.16458308965197926.\n",
      "regularization_factors, val_score: 0.164583:  35%|#############3                        | 7/20 [00:18<00:38,  2.96s/it]"
     ]
    },
    {
     "name": "stdout",
     "output_type": "stream",
     "text": [
      "[400]\tcv_agg's l2: 0.165865 + 0.015954\n",
      "Early stopping, best iteration is:\n",
      "[305]\tcv_agg's l2: 0.164583 + 0.0160935\n",
      "[100]\tcv_agg's l2: 0.16414 + 0.0226703\n",
      "[200]\tcv_agg's l2: 0.162422 + 0.018532\n"
     ]
    },
    {
     "name": "stderr",
     "output_type": "stream",
     "text": [
      "regularization_factors, val_score: 0.161777:  40%|###############2                      | 8/20 [00:20<00:32,  2.73s/it][I 2023-11-05 14:04:00,223] Trial 47 finished with value: 0.161776989395366 and parameters: {'lambda_l1': 0.1268951391818605, 'lambda_l2': 0.03729550505892705}. Best is trial 47 with value: 0.161776989395366.\n",
      "regularization_factors, val_score: 0.161777:  40%|###############2                      | 8/20 [00:20<00:32,  2.73s/it]"
     ]
    },
    {
     "name": "stdout",
     "output_type": "stream",
     "text": [
      "Early stopping, best iteration is:\n",
      "[162]\tcv_agg's l2: 0.161777 + 0.0189921\n",
      "[100]\tcv_agg's l2: 0.170132 + 0.0268073\n",
      "[200]\tcv_agg's l2: 0.168213 + 0.0222518\n"
     ]
    },
    {
     "name": "stderr",
     "output_type": "stream",
     "text": [
      "regularization_factors, val_score: 0.161777:  45%|#################1                    | 9/20 [00:22<00:28,  2.57s/it][I 2023-11-05 14:04:02,446] Trial 48 finished with value: 0.16804785212233492 and parameters: {'lambda_l1': 0.4660956242916395, 'lambda_l2': 6.376584686728154e-05}. Best is trial 47 with value: 0.161776989395366.\n",
      "regularization_factors, val_score: 0.161777:  45%|#################1                    | 9/20 [00:22<00:28,  2.57s/it]"
     ]
    },
    {
     "name": "stdout",
     "output_type": "stream",
     "text": [
      "Early stopping, best iteration is:\n",
      "[162]\tcv_agg's l2: 0.161777 + 0.0189921\n",
      "[100]\tcv_agg's l2: 0.167299 + 0.0243816\n",
      "[200]\tcv_agg's l2: 0.164385 + 0.0192551\n"
     ]
    },
    {
     "name": "stderr",
     "output_type": "stream",
     "text": [
      "regularization_factors, val_score: 0.161777:  50%|##################5                  | 10/20 [00:25<00:24,  2.48s/it][I 2023-11-05 14:04:04,719] Trial 49 finished with value: 0.1652833609625958 and parameters: {'lambda_l1': 0.18673728980811924, 'lambda_l2': 0.013913435471418042}. Best is trial 47 with value: 0.161776989395366.\n",
      "regularization_factors, val_score: 0.161777:  50%|##################5                  | 10/20 [00:25<00:24,  2.48s/it]"
     ]
    },
    {
     "name": "stdout",
     "output_type": "stream",
     "text": [
      "Early stopping, best iteration is:\n",
      "[162]\tcv_agg's l2: 0.161777 + 0.0189921\n",
      "[100]\tcv_agg's l2: 0.16545 + 0.0203354\n",
      "[200]\tcv_agg's l2: 0.164756 + 0.0154609\n"
     ]
    },
    {
     "name": "stderr",
     "output_type": "stream",
     "text": [
      "regularization_factors, val_score: 0.161777:  55%|####################3                | 11/20 [00:27<00:22,  2.48s/it][I 2023-11-05 14:04:07,194] Trial 50 finished with value: 0.16482285345319087 and parameters: {'lambda_l1': 4.2311059567028485e-06, 'lambda_l2': 1.1464988126629449e-05}. Best is trial 47 with value: 0.161776989395366.\n",
      "regularization_factors, val_score: 0.161777:  55%|####################3                | 11/20 [00:27<00:22,  2.48s/it]"
     ]
    },
    {
     "name": "stdout",
     "output_type": "stream",
     "text": [
      "Early stopping, best iteration is:\n",
      "[162]\tcv_agg's l2: 0.161777 + 0.0189921\n",
      "[100]\tcv_agg's l2: 0.16545 + 0.0203354\n",
      "[200]\tcv_agg's l2: 0.164903 + 0.0153662\n"
     ]
    },
    {
     "name": "stderr",
     "output_type": "stream",
     "text": [
      "regularization_factors, val_score: 0.161777:  60%|######################2              | 12/20 [00:30<00:20,  2.58s/it][I 2023-11-05 14:04:09,999] Trial 51 finished with value: 0.1649713409029248 and parameters: {'lambda_l1': 5.204596856336915e-06, 'lambda_l2': 3.722950492514055e-05}. Best is trial 47 with value: 0.161776989395366.\n",
      "regularization_factors, val_score: 0.161777:  60%|######################2              | 12/20 [00:30<00:20,  2.58s/it]"
     ]
    },
    {
     "name": "stdout",
     "output_type": "stream",
     "text": [
      "Early stopping, best iteration is:\n",
      "[162]\tcv_agg's l2: 0.161777 + 0.0189921\n",
      "[100]\tcv_agg's l2: 0.165598 + 0.020282\n",
      "[200]\tcv_agg's l2: 0.165598 + 0.0152608\n"
     ]
    },
    {
     "name": "stderr",
     "output_type": "stream",
     "text": [
      "regularization_factors, val_score: 0.161777:  65%|########################             | 13/20 [00:33<00:18,  2.63s/it][I 2023-11-05 14:04:12,752] Trial 52 finished with value: 0.16507817479092743 and parameters: {'lambda_l1': 2.0115469121641415e-05, 'lambda_l2': 3.254293167037584e-05}. Best is trial 47 with value: 0.161776989395366.\n",
      "regularization_factors, val_score: 0.161777:  65%|########################             | 13/20 [00:33<00:18,  2.63s/it]"
     ]
    },
    {
     "name": "stdout",
     "output_type": "stream",
     "text": [
      "Early stopping, best iteration is:\n",
      "[162]\tcv_agg's l2: 0.161777 + 0.0189921\n",
      "[100]\tcv_agg's l2: 0.165321 + 0.0202712\n",
      "[200]\tcv_agg's l2: 0.164958 + 0.0153822\n"
     ]
    },
    {
     "name": "stderr",
     "output_type": "stream",
     "text": [
      "regularization_factors, val_score: 0.161777:  70%|#########################9           | 14/20 [00:35<00:16,  2.70s/it][I 2023-11-05 14:04:15,611] Trial 53 finished with value: 0.1651266941473476 and parameters: {'lambda_l1': 1.2483439605693613e-05, 'lambda_l2': 7.168136839803289e-06}. Best is trial 47 with value: 0.161776989395366.\n",
      "regularization_factors, val_score: 0.161777:  70%|#########################9           | 14/20 [00:35<00:16,  2.70s/it]"
     ]
    },
    {
     "name": "stdout",
     "output_type": "stream",
     "text": [
      "Early stopping, best iteration is:\n",
      "[162]\tcv_agg's l2: 0.161777 + 0.0189921\n",
      "[100]\tcv_agg's l2: 0.165079 + 0.0204816\n",
      "[200]\tcv_agg's l2: 0.164362 + 0.0157371\n"
     ]
    },
    {
     "name": "stderr",
     "output_type": "stream",
     "text": [
      "regularization_factors, val_score: 0.161777:  75%|###########################7         | 15/20 [00:38<00:13,  2.61s/it][I 2023-11-05 14:04:18,024] Trial 54 finished with value: 0.1641371837809642 and parameters: {'lambda_l1': 4.216966439461201e-06, 'lambda_l2': 0.00038274627446518056}. Best is trial 47 with value: 0.161776989395366.\n",
      "regularization_factors, val_score: 0.161777:  75%|###########################7         | 15/20 [00:38<00:13,  2.61s/it]"
     ]
    },
    {
     "name": "stdout",
     "output_type": "stream",
     "text": [
      "Early stopping, best iteration is:\n",
      "[162]\tcv_agg's l2: 0.161777 + 0.0189921\n",
      "[100]\tcv_agg's l2: 0.166204 + 0.0214109\n",
      "[200]\tcv_agg's l2: 0.166002 + 0.0159231\n"
     ]
    },
    {
     "name": "stderr",
     "output_type": "stream",
     "text": [
      "regularization_factors, val_score: 0.161777:  80%|#############################6       | 16/20 [00:41<00:10,  2.71s/it][I 2023-11-05 14:04:20,971] Trial 55 finished with value: 0.1654244037064901 and parameters: {'lambda_l1': 7.383070569578842e-06, 'lambda_l2': 0.0015649489949890315}. Best is trial 47 with value: 0.161776989395366.\n",
      "regularization_factors, val_score: 0.161777:  80%|#############################6       | 16/20 [00:41<00:10,  2.71s/it]"
     ]
    },
    {
     "name": "stdout",
     "output_type": "stream",
     "text": [
      "Early stopping, best iteration is:\n",
      "[162]\tcv_agg's l2: 0.161777 + 0.0189921\n",
      "[100]\tcv_agg's l2: 0.167044 + 0.0233304\n",
      "[200]\tcv_agg's l2: 0.166517 + 0.0204303\n"
     ]
    },
    {
     "name": "stderr",
     "output_type": "stream",
     "text": [
      "regularization_factors, val_score: 0.161777:  85%|###############################4     | 17/20 [00:44<00:08,  2.73s/it][I 2023-11-05 14:04:23,724] Trial 56 finished with value: 0.1669593474132811 and parameters: {'lambda_l1': 4.582316086889052e-07, 'lambda_l2': 0.02561246247348256}. Best is trial 47 with value: 0.161776989395366.\n",
      "regularization_factors, val_score: 0.161777:  85%|###############################4     | 17/20 [00:44<00:08,  2.73s/it]"
     ]
    },
    {
     "name": "stdout",
     "output_type": "stream",
     "text": [
      "Early stopping, best iteration is:\n",
      "[162]\tcv_agg's l2: 0.161777 + 0.0189921\n",
      "[100]\tcv_agg's l2: 0.165732 + 0.0206262\n",
      "[200]\tcv_agg's l2: 0.164934 + 0.0164114\n"
     ]
    },
    {
     "name": "stderr",
     "output_type": "stream",
     "text": [
      "regularization_factors, val_score: 0.161777:  90%|#################################3   | 18/20 [00:47<00:05,  2.79s/it][I 2023-11-05 14:04:26,680] Trial 57 finished with value: 0.1644818309415373 and parameters: {'lambda_l1': 8.73454237141348e-05, 'lambda_l2': 0.0003103989348958034}. Best is trial 47 with value: 0.161776989395366.\n",
      "regularization_factors, val_score: 0.161777:  90%|#################################3   | 18/20 [00:47<00:05,  2.79s/it]"
     ]
    },
    {
     "name": "stdout",
     "output_type": "stream",
     "text": [
      "Early stopping, best iteration is:\n",
      "[162]\tcv_agg's l2: 0.161777 + 0.0189921\n",
      "[100]\tcv_agg's l2: 0.165766 + 0.0206214\n",
      "[200]\tcv_agg's l2: 0.164225 + 0.0160751\n"
     ]
    },
    {
     "name": "stderr",
     "output_type": "stream",
     "text": [
      "regularization_factors, val_score: 0.161777:  95%|###################################1 | 19/20 [00:49<00:02,  2.72s/it][I 2023-11-05 14:04:29,222] Trial 58 finished with value: 0.1641034786438237 and parameters: {'lambda_l1': 0.00013075469889600483, 'lambda_l2': 0.0006073572650533991}. Best is trial 47 with value: 0.161776989395366.\n",
      "regularization_factors, val_score: 0.161777:  95%|###################################1 | 19/20 [00:49<00:02,  2.72s/it]"
     ]
    },
    {
     "name": "stdout",
     "output_type": "stream",
     "text": [
      "Early stopping, best iteration is:\n",
      "[162]\tcv_agg's l2: 0.161777 + 0.0189921\n",
      "[100]\tcv_agg's l2: 0.165732 + 0.0206263\n",
      "[200]\tcv_agg's l2: 0.165176 + 0.0162301\n"
     ]
    },
    {
     "name": "stderr",
     "output_type": "stream",
     "text": [
      "regularization_factors, val_score: 0.161777: 100%|#####################################| 20/20 [00:51<00:00,  2.62s/it][I 2023-11-05 14:04:31,617] Trial 59 finished with value: 0.16448170311800916 and parameters: {'lambda_l1': 0.0001114793399369648, 'lambda_l2': 0.0004441349401152008}. Best is trial 47 with value: 0.161776989395366.\n",
      "regularization_factors, val_score: 0.161777: 100%|#####################################| 20/20 [00:51<00:00,  2.60s/it]\n"
     ]
    },
    {
     "name": "stdout",
     "output_type": "stream",
     "text": [
      "Early stopping, best iteration is:\n",
      "[162]\tcv_agg's l2: 0.161777 + 0.0189921\n"
     ]
    },
    {
     "name": "stderr",
     "output_type": "stream",
     "text": [
      "min_data_in_leaf, val_score: 0.161777:   0%|                                                     | 0/5 [00:00<?, ?it/s]"
     ]
    },
    {
     "name": "stdout",
     "output_type": "stream",
     "text": [
      "[100]\tcv_agg's l2: 0.715737 + 0.0870661\n"
     ]
    },
    {
     "name": "stderr",
     "output_type": "stream",
     "text": [
      "min_data_in_leaf, val_score: 0.161777:  20%|#########                                    | 1/5 [00:00<00:03,  1.33it/s][I 2023-11-05 14:04:32,378] Trial 60 finished with value: 0.6881515993866 and parameters: {'min_child_samples': 100}. Best is trial 60 with value: 0.6881515993866.\n",
      "min_data_in_leaf, val_score: 0.161777:  20%|#########                                    | 1/5 [00:00<00:03,  1.33it/s]"
     ]
    },
    {
     "name": "stdout",
     "output_type": "stream",
     "text": [
      "[200]\tcv_agg's l2: 0.675372 + 0.0807818\n",
      "Early stopping, best iteration is:\n",
      "[162]\tcv_agg's l2: 0.161777 + 0.0189921\n",
      "[100]\tcv_agg's l2: 0.155774 + 0.0243936\n",
      "[200]\tcv_agg's l2: 0.1545 + 0.0215688\n"
     ]
    },
    {
     "name": "stderr",
     "output_type": "stream",
     "text": [
      "min_data_in_leaf, val_score: 0.153777:  40%|##################                           | 2/5 [00:03<00:05,  1.69s/it][I 2023-11-05 14:04:34,730] Trial 61 finished with value: 0.1537766130279231 and parameters: {'min_child_samples': 5}. Best is trial 61 with value: 0.1537766130279231.\n",
      "min_data_in_leaf, val_score: 0.153777:  40%|##################                           | 2/5 [00:03<00:05,  1.69s/it]"
     ]
    },
    {
     "name": "stdout",
     "output_type": "stream",
     "text": [
      "Early stopping, best iteration is:\n",
      "[154]\tcv_agg's l2: 0.153777 + 0.0221953\n",
      "[100]\tcv_agg's l2: 0.182551 + 0.0222966\n",
      "[200]\tcv_agg's l2: 0.179001 + 0.0178295\n"
     ]
    },
    {
     "name": "stderr",
     "output_type": "stream",
     "text": [
      "min_data_in_leaf, val_score: 0.153777:  60%|###########################                  | 3/5 [00:05<00:03,  1.89s/it][I 2023-11-05 14:04:36,852] Trial 62 finished with value: 0.18009136676500606 and parameters: {'min_child_samples': 25}. Best is trial 61 with value: 0.1537766130279231.\n",
      "min_data_in_leaf, val_score: 0.153777:  60%|###########################                  | 3/5 [00:05<00:03,  1.89s/it]"
     ]
    },
    {
     "name": "stdout",
     "output_type": "stream",
     "text": [
      "Early stopping, best iteration is:\n",
      "[154]\tcv_agg's l2: 0.153777 + 0.0221953\n",
      "[100]\tcv_agg's l2: 0.243292 + 0.0348073\n",
      "[200]\tcv_agg's l2: 0.230799 + 0.0323304\n"
     ]
    },
    {
     "name": "stderr",
     "output_type": "stream",
     "text": [
      "min_data_in_leaf, val_score: 0.153777:  80%|####################################         | 4/5 [00:06<00:01,  1.60s/it][I 2023-11-05 14:04:38,002] Trial 63 finished with value: 0.2353021954903997 and parameters: {'min_child_samples': 50}. Best is trial 61 with value: 0.1537766130279231.\n",
      "min_data_in_leaf, val_score: 0.153777:  80%|####################################         | 4/5 [00:06<00:01,  1.60s/it]"
     ]
    },
    {
     "name": "stdout",
     "output_type": "stream",
     "text": [
      "Early stopping, best iteration is:\n",
      "[154]\tcv_agg's l2: 0.153777 + 0.0221953\n",
      "[100]\tcv_agg's l2: 0.152812 + 0.0251797\n",
      "[200]\tcv_agg's l2: 0.14971 + 0.0222588\n",
      "[300]\tcv_agg's l2: 0.148796 + 0.0211707\n"
     ]
    },
    {
     "name": "stderr",
     "output_type": "stream",
     "text": [
      "min_data_in_leaf, val_score: 0.148793: 100%|#############################################| 5/5 [00:09<00:00,  2.23s/it][I 2023-11-05 14:04:41,350] Trial 64 finished with value: 0.14879257718344796 and parameters: {'min_child_samples': 10}. Best is trial 64 with value: 0.14879257718344796.\n",
      "min_data_in_leaf, val_score: 0.148793: 100%|#############################################| 5/5 [00:09<00:00,  1.95s/it]"
     ]
    },
    {
     "name": "stdout",
     "output_type": "stream",
     "text": [
      "Early stopping, best iteration is:\n",
      "[298]\tcv_agg's l2: 0.148793 + 0.021121\n"
     ]
    },
    {
     "name": "stderr",
     "output_type": "stream",
     "text": [
      "\n"
     ]
    }
   ],
   "source": [
    "import optuna.integration.lightgbm as lgb\n",
    "from lightgbm import early_stopping\n",
    "from sklearn.model_selection import KFold\n",
    "from sklearn.model_selection import RepeatedKFold\n",
    "\n",
    "\n",
    "lgb_train = lgb.Dataset(X_train_random_split, y_train_random_split)\n",
    "\n",
    "params = {\n",
    "    \"boosting_type\": \"gbdt\",\n",
    "    \"objective\": \"regression\",\n",
    "    \"metric\": \"l2\",\n",
    "    \"verbosity\": -1,\n",
    "}\n",
    "\n",
    "tuner = lgb.LightGBMTunerCV(\n",
    "    params,\n",
    "    lgb_train,\n",
    "    folds=KFold(n_splits=5),\n",
    "    num_boost_round=10000,\n",
    "    callbacks=[early_stopping(100), log_evaluation(100)],\n",
    ")\n",
    "\n",
    "tuner.run()"
   ]
  },
  {
   "cell_type": "code",
   "execution_count": 38,
   "id": "c07cf3c6",
   "metadata": {},
   "outputs": [
    {
     "name": "stdout",
     "output_type": "stream",
     "text": [
      "Best score: 0.14879257718344796\n",
      "Params: \n",
      "    boosting_type: gbdt\n",
      "    objective: regression\n",
      "    metric: l2\n",
      "    verbosity: -1\n",
      "    feature_pre_filter: False\n",
      "    lambda_l1: 0.1268951391818605\n",
      "    lambda_l2: 0.03729550505892705\n",
      "    num_leaves: 23\n",
      "    feature_fraction: 0.4\n",
      "    bagging_fraction: 0.9483214622091305\n",
      "    bagging_freq: 1\n",
      "    min_child_samples: 10\n"
     ]
    }
   ],
   "source": [
    "print(f\"Best score: {tuner.best_score}\")\n",
    "best_params = tuner.best_params\n",
    "print(\"Params: \")\n",
    "for key, value in best_params.items():\n",
    "    print(\"    {}: {}\".format(key, value))"
   ]
  },
  {
   "cell_type": "code",
   "execution_count": 39,
   "id": "47a1bc33",
   "metadata": {},
   "outputs": [],
   "source": [
    "import lightgbm as lgb\n",
    "\n",
    "lgb_tuned = lgb.train(\n",
    "    best_params,\n",
    "    lgb_train,\n",
    "    num_boost_round=10000,\n",
    ")"
   ]
  },
  {
   "cell_type": "code",
   "execution_count": 40,
   "id": "4c17765e",
   "metadata": {},
   "outputs": [
    {
     "name": "stdout",
     "output_type": "stream",
     "text": [
      "RMSE train: 0.02\n",
      "RMSE test: 0.35\n",
      "MAE test: 0.24\n",
      "\n"
     ]
    }
   ],
   "source": [
    "rmse, mae = assess_regression_model(\n",
    "    lgb_tuned,\n",
    "    X_train_random_split,\n",
    "    X_test_random_split,\n",
    "    y_train_random_split,\n",
    "    y_test_random_split,\n",
    ")"
   ]
  },
  {
   "cell_type": "code",
   "execution_count": 41,
   "id": "9caec811",
   "metadata": {},
   "outputs": [],
   "source": [
    "results.loc[3] = [\"random\", \"Optuna\", \"expanded\", rmse, mae]"
   ]
  },
  {
   "cell_type": "markdown",
   "id": "47fed830",
   "metadata": {},
   "source": [
    "###### MAE by level"
   ]
  },
  {
   "cell_type": "code",
   "execution_count": 42,
   "id": "c12fe14b",
   "metadata": {},
   "outputs": [
    {
     "data": {
      "image/png": "[encoded data removed]",
      "text/plain": [
       "<Figure size 720x432 with 1 Axes>"
      ]
     },
     "metadata": {
      "needs_background": "light"
     },
     "output_type": "display_data"
    }
   ],
   "source": [
    "plot_mae_by_level(\n",
    "    y_test_random_split,\n",
    "    y_pred_test,\n",
    "    title=\"MAE by level for tuned LightGBM with expanded features and random split\",\n",
    ")"
   ]
  },
  {
   "cell_type": "code",
   "execution_count": 43,
   "id": "859f12f2",
   "metadata": {},
   "outputs": [
    {
     "name": "stdout",
     "output_type": "stream",
     "text": [
      "Default:\n",
      "RMSE: 0.21\n",
      "\n",
      "Round type: 0.5\n",
      "RMSE: 0.24\n",
      "\n",
      "Round type: 0.33\n",
      "RMSE: 0.23\n",
      "\n",
      "Round type: 0.45\n",
      "RMSE: 0.23\n",
      "\n"
     ]
    }
   ],
   "source": [
    "predict = lgb_tuned.predict(X_test)\n",
    "check_round_predictions([0.5, 0.33, 0.45], y_test, predict)"
   ]
  },
  {
   "cell_type": "code",
   "execution_count": 44,
   "id": "a046eead",
   "metadata": {},
   "outputs": [
    {
     "data": {
      "image/png": "[encoded data removed]",
      "text/plain": [
       "<Figure size 432x288 with 2 Axes>"
      ]
     },
     "metadata": {
      "needs_background": "light"
     },
     "output_type": "display_data"
    }
   ],
   "source": [
    "plot_confusion_matrix(\n",
    "    predict,\n",
    "    y_test,\n",
    "    title=\"Confusion matrix for tuned LightGBM with expanded features and random split\",\n",
    ")"
   ]
  },
  {
   "cell_type": "markdown",
   "id": "2e230699",
   "metadata": {},
   "source": [
    "## Summary"
   ]
  },
  {
   "cell_type": "code",
   "execution_count": 45,
   "id": "2edd08be",
   "metadata": {},
   "outputs": [
    {
     "data": {
      "text/html": [
       "<div>\n",
       "<style scoped>\n",
       "    .dataframe tbody tr th:only-of-type {\n",
       "        vertical-align: middle;\n",
       "    }\n",
       "\n",
       "    .dataframe tbody tr th {\n",
       "        vertical-align: top;\n",
       "    }\n",
       "\n",
       "    .dataframe thead th {\n",
       "        text-align: right;\n",
       "    }\n",
       "</style>\n",
       "<table border=\"1\" class=\"dataframe\">\n",
       "  <thead>\n",
       "    <tr style=\"text-align: right;\">\n",
       "      <th></th>\n",
       "      <th>Split type</th>\n",
       "      <th>Tuning type</th>\n",
       "      <th>Set of features</th>\n",
       "      <th>RMSE</th>\n",
       "      <th>MAE</th>\n",
       "    </tr>\n",
       "  </thead>\n",
       "  <tbody>\n",
       "    <tr>\n",
       "      <th>0</th>\n",
       "      <td>chronological</td>\n",
       "      <td>default</td>\n",
       "      <td>expanded</td>\n",
       "      <td>0.510772</td>\n",
       "      <td>0.357206</td>\n",
       "    </tr>\n",
       "    <tr>\n",
       "      <th>1</th>\n",
       "      <td>chronological</td>\n",
       "      <td>Optuna</td>\n",
       "      <td>expanded</td>\n",
       "      <td>0.470867</td>\n",
       "      <td>0.335287</td>\n",
       "    </tr>\n",
       "    <tr>\n",
       "      <th>2</th>\n",
       "      <td>random</td>\n",
       "      <td>default</td>\n",
       "      <td>expanded</td>\n",
       "      <td>0.384853</td>\n",
       "      <td>0.267273</td>\n",
       "    </tr>\n",
       "    <tr>\n",
       "      <th>3</th>\n",
       "      <td>random</td>\n",
       "      <td>Optuna</td>\n",
       "      <td>expanded</td>\n",
       "      <td>0.349687</td>\n",
       "      <td>0.243844</td>\n",
       "    </tr>\n",
       "  </tbody>\n",
       "</table>\n",
       "</div>"
      ],
      "text/plain": [
       "      Split type Tuning type Set of features      RMSE       MAE\n",
       "0  chronological     default        expanded  0.510772  0.357206\n",
       "1  chronological      Optuna        expanded  0.470867  0.335287\n",
       "2         random     default        expanded  0.384853  0.267273\n",
       "3         random      Optuna        expanded  0.349687  0.243844"
      ]
     },
     "execution_count": 45,
     "metadata": {},
     "output_type": "execute_result"
    }
   ],
   "source": [
    "results"
   ]
  },
  {
   "cell_type": "code",
   "execution_count": 46,
   "id": "7e403b40",
   "metadata": {},
   "outputs": [],
   "source": [
    "from training.results import plot_summary"
   ]
  },
  {
   "cell_type": "code",
   "execution_count": 47,
   "id": "1072db81",
   "metadata": {},
   "outputs": [
    {
     "data": {
      "image/png": "[encoded data removed]",
      "text/plain": [
       "<Figure size 1440x576 with 1 Axes>"
      ]
     },
     "metadata": {
      "needs_background": "light"
     },
     "output_type": "display_data"
    }
   ],
   "source": [
    "plot_summary(results, \"RMSE\", title=\"RMSE for LightGBM with expanded features\")"
   ]
  },
  {
   "cell_type": "code",
   "execution_count": 48,
   "id": "0a073f44",
   "metadata": {},
   "outputs": [
    {
     "data": {
      "image/png": "[encoded data removed]",
      "text/plain": [
       "<Figure size 1440x576 with 1 Axes>"
      ]
     },
     "metadata": {
      "needs_background": "light"
     },
     "output_type": "display_data"
    }
   ],
   "source": [
    "plot_summary(results, \"MAE\", title=\"MAE for LightGBM with expanded features\")"
   ]
  },
  {
   "cell_type": "code",
   "execution_count": 49,
   "id": "157af270",
   "metadata": {},
   "outputs": [],
   "source": [
    "results.to_json(\"./lightgbm_expanded_results.json\", indent=2)"
   ]
  },
  {
   "cell_type": "code",
   "execution_count": null,
   "id": "1b44b486",
   "metadata": {},
   "outputs": [],
   "source": []
  }
 ],
 "metadata": {
  "kernelspec": {
   "display_name": "Python 3 (ipykernel)",
   "language": "python",
   "name": "python3"
  },
  "language_info": {
   "codemirror_mode": {
    "name": "ipython",
    "version": 3
   },
   "file_extension": ".py",
   "mimetype": "text/x-python",
   "name": "python",
   "nbconvert_exporter": "python",
   "pygments_lexer": "ipython3",
   "version": "3.10.4"
  }
 },
 "nbformat": 4,
 "nbformat_minor": 5
}
