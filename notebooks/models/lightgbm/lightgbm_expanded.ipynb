{
 "cells": [
  {
   "cell_type": "markdown",
   "id": "b61f8435",
   "metadata": {},
   "source": [
    "# LightGBM\n",
    "### Parameters:\n",
    "* **abilities**:\n",
    "    * **cha**\n",
    "    * **con**\n",
    "    * **dex**\n",
    "    * **int**\n",
    "    * **str**\n",
    "    * **wis**\n",
    "* **attributes**\n",
    "    * **hp**\n",
    "    * **ac**\n",
    "    * **perception**\n",
    "* **saves**\n",
    "    * **fortitude**\n",
    "    * **reflex**\n",
    "    * **will**\n",
    "* **resources**\n",
    "    * **focus**\n",
    "\n",
    "### Prediction: *level*\n",
    "\n",
    "## Loading data"
   ]
  },
  {
   "cell_type": "code",
   "execution_count": 1,
   "id": "64151d43",
   "metadata": {},
   "outputs": [],
   "source": [
    "import numpy as np\n",
    "import pandas as pd\n",
    "import sys\n",
    "\n",
    "import os\n",
    "import pathlib\n",
    "\n",
    "sys.path.append(\"../../..\")\n",
    "from training.creating_dataset import load_and_preprocess_data\n",
    "\n",
    "current_path = os.getcwd()\n",
    "DATASETS_DIR = pathlib.Path(current_path).parent.parent.parent / \"pathfinder_2e_data\"\n",
    "DATASET_FILES = [\n",
    "    \"pathfinder-bestiary.db\",\n",
    "    \"pathfinder-bestiary-2.db\",\n",
    "    \"pathfinder-bestiary-3.db\",\n",
    "]\n",
    "DATASET_PATHS = [f\"{DATASETS_DIR}/{file}\" for file in DATASET_FILES]\n",
    "features = [\n",
    "    \"cha\",\n",
    "    \"con\",\n",
    "    \"dex\",\n",
    "    \"int\",\n",
    "    \"str\",\n",
    "    \"wis\",\n",
    "    \"ac\",\n",
    "    \"hp\",\n",
    "    \"perception\",\n",
    "    \"fortitude\",\n",
    "    \"reflex\",\n",
    "    \"will\",\n",
    "    \"focus\",\n",
    "]\n",
    "\n",
    "df = load_and_preprocess_data(\n",
    "    DATASET_PATHS,\n",
    "    characteristics=features,\n",
    ")"
   ]
  },
  {
   "cell_type": "code",
   "execution_count": 2,
   "id": "ec1e8424",
   "metadata": {},
   "outputs": [
    {
     "name": "stdout",
     "output_type": "stream",
     "text": [
      "<class 'pandas.core.frame.DataFrame'>\n",
      "Int64Index: 1206 entries, 0 to 1205\n",
      "Data columns (total 15 columns):\n",
      " #   Column      Non-Null Count  Dtype \n",
      "---  ------      --------------  ----- \n",
      " 0   ac          1206 non-null   int64 \n",
      " 1   cha         1206 non-null   int64 \n",
      " 2   fortitude   1206 non-null   int64 \n",
      " 3   reflex      1206 non-null   int64 \n",
      " 4   dex         1206 non-null   int64 \n",
      " 5   level       1206 non-null   int64 \n",
      " 6   hp          1206 non-null   int64 \n",
      " 7   con         1206 non-null   int64 \n",
      " 8   int         1206 non-null   int64 \n",
      " 9   str         1206 non-null   int64 \n",
      " 10  focus       1206 non-null   int32 \n",
      " 11  will        1206 non-null   int64 \n",
      " 12  perception  1206 non-null   int64 \n",
      " 13  wis         1206 non-null   int64 \n",
      " 14  book        1206 non-null   object\n",
      "dtypes: int32(1), int64(13), object(1)\n",
      "memory usage: 146.0+ KB\n"
     ]
    }
   ],
   "source": [
    "df.info()"
   ]
  },
  {
   "cell_type": "code",
   "execution_count": 3,
   "id": "211d736c",
   "metadata": {},
   "outputs": [
    {
     "data": {
      "text/html": [
       "<div>\n",
       "<style scoped>\n",
       "    .dataframe tbody tr th:only-of-type {\n",
       "        vertical-align: middle;\n",
       "    }\n",
       "\n",
       "    .dataframe tbody tr th {\n",
       "        vertical-align: top;\n",
       "    }\n",
       "\n",
       "    .dataframe thead th {\n",
       "        text-align: right;\n",
       "    }\n",
       "</style>\n",
       "<table border=\"1\" class=\"dataframe\">\n",
       "  <thead>\n",
       "    <tr style=\"text-align: right;\">\n",
       "      <th></th>\n",
       "      <th>ac</th>\n",
       "      <th>cha</th>\n",
       "      <th>fortitude</th>\n",
       "      <th>reflex</th>\n",
       "      <th>dex</th>\n",
       "      <th>level</th>\n",
       "      <th>hp</th>\n",
       "      <th>con</th>\n",
       "      <th>int</th>\n",
       "      <th>str</th>\n",
       "      <th>focus</th>\n",
       "      <th>will</th>\n",
       "      <th>perception</th>\n",
       "      <th>wis</th>\n",
       "      <th>book</th>\n",
       "    </tr>\n",
       "  </thead>\n",
       "  <tbody>\n",
       "    <tr>\n",
       "      <th>0</th>\n",
       "      <td>29</td>\n",
       "      <td>1</td>\n",
       "      <td>22</td>\n",
       "      <td>19</td>\n",
       "      <td>2</td>\n",
       "      <td>10</td>\n",
       "      <td>215</td>\n",
       "      <td>5</td>\n",
       "      <td>1</td>\n",
       "      <td>7</td>\n",
       "      <td>1</td>\n",
       "      <td>17</td>\n",
       "      <td>20</td>\n",
       "      <td>2</td>\n",
       "      <td>Pathfinder Bestiary</td>\n",
       "    </tr>\n",
       "    <tr>\n",
       "      <th>1</th>\n",
       "      <td>28</td>\n",
       "      <td>1</td>\n",
       "      <td>21</td>\n",
       "      <td>14</td>\n",
       "      <td>0</td>\n",
       "      <td>10</td>\n",
       "      <td>220</td>\n",
       "      <td>5</td>\n",
       "      <td>-4</td>\n",
       "      <td>9</td>\n",
       "      <td>0</td>\n",
       "      <td>16</td>\n",
       "      <td>16</td>\n",
       "      <td>2</td>\n",
       "      <td>Pathfinder Bestiary</td>\n",
       "    </tr>\n",
       "    <tr>\n",
       "      <th>2</th>\n",
       "      <td>25</td>\n",
       "      <td>-2</td>\n",
       "      <td>20</td>\n",
       "      <td>17</td>\n",
       "      <td>3</td>\n",
       "      <td>8</td>\n",
       "      <td>175</td>\n",
       "      <td>6</td>\n",
       "      <td>-4</td>\n",
       "      <td>7</td>\n",
       "      <td>0</td>\n",
       "      <td>15</td>\n",
       "      <td>17</td>\n",
       "      <td>3</td>\n",
       "      <td>Pathfinder Bestiary</td>\n",
       "    </tr>\n",
       "    <tr>\n",
       "      <th>3</th>\n",
       "      <td>41</td>\n",
       "      <td>6</td>\n",
       "      <td>30</td>\n",
       "      <td>29</td>\n",
       "      <td>4</td>\n",
       "      <td>17</td>\n",
       "      <td>315</td>\n",
       "      <td>5</td>\n",
       "      <td>6</td>\n",
       "      <td>7</td>\n",
       "      <td>1</td>\n",
       "      <td>32</td>\n",
       "      <td>30</td>\n",
       "      <td>5</td>\n",
       "      <td>Pathfinder Bestiary</td>\n",
       "    </tr>\n",
       "    <tr>\n",
       "      <th>4</th>\n",
       "      <td>16</td>\n",
       "      <td>1</td>\n",
       "      <td>6</td>\n",
       "      <td>10</td>\n",
       "      <td>3</td>\n",
       "      <td>1</td>\n",
       "      <td>20</td>\n",
       "      <td>1</td>\n",
       "      <td>-1</td>\n",
       "      <td>-5</td>\n",
       "      <td>1</td>\n",
       "      <td>4</td>\n",
       "      <td>6</td>\n",
       "      <td>1</td>\n",
       "      <td>Pathfinder Bestiary</td>\n",
       "    </tr>\n",
       "  </tbody>\n",
       "</table>\n",
       "</div>"
      ],
      "text/plain": [
       "   ac  cha  fortitude  reflex  dex  level   hp  con  int  str  focus  will  \\\n",
       "0  29    1         22      19    2     10  215    5    1    7      1    17   \n",
       "1  28    1         21      14    0     10  220    5   -4    9      0    16   \n",
       "2  25   -2         20      17    3      8  175    6   -4    7      0    15   \n",
       "3  41    6         30      29    4     17  315    5    6    7      1    32   \n",
       "4  16    1          6      10    3      1   20    1   -1   -5      1     4   \n",
       "\n",
       "   perception  wis                 book  \n",
       "0          20    2  Pathfinder Bestiary  \n",
       "1          16    2  Pathfinder Bestiary  \n",
       "2          17    3  Pathfinder Bestiary  \n",
       "3          30    5  Pathfinder Bestiary  \n",
       "4           6    1  Pathfinder Bestiary  "
      ]
     },
     "execution_count": 3,
     "metadata": {},
     "output_type": "execute_result"
    }
   ],
   "source": [
    "df.head()"
   ]
  },
  {
   "cell_type": "markdown",
   "id": "1bf55cc1",
   "metadata": {},
   "source": [
    "###### Level"
   ]
  },
  {
   "cell_type": "code",
   "execution_count": 4,
   "id": "2d322d72",
   "metadata": {},
   "outputs": [
    {
     "data": {
      "text/plain": [
       "0       10\n",
       "1       10\n",
       "2        8\n",
       "3       17\n",
       "4        1\n",
       "        ..\n",
       "1201    20\n",
       "1202    -1\n",
       "1203    12\n",
       "1204     6\n",
       "1205     6\n",
       "Name: level, Length: 1206, dtype: int64"
      ]
     },
     "execution_count": 4,
     "metadata": {},
     "output_type": "execute_result"
    }
   ],
   "source": [
    "y = df[\"level\"]\n",
    "y"
   ]
  },
  {
   "cell_type": "code",
   "execution_count": 5,
   "id": "e7887f19",
   "metadata": {},
   "outputs": [],
   "source": [
    "from collections import defaultdict\n",
    "\n",
    "\n",
    "lvl_stat = defaultdict(lambda: 0)\n",
    "\n",
    "for lvl in y:\n",
    "    lvl_stat[lvl] += 1"
   ]
  },
  {
   "cell_type": "code",
   "execution_count": 6,
   "id": "c982e6d0",
   "metadata": {},
   "outputs": [
    {
     "data": {
      "text/html": [
       "<div>\n",
       "<style scoped>\n",
       "    .dataframe tbody tr th:only-of-type {\n",
       "        vertical-align: middle;\n",
       "    }\n",
       "\n",
       "    .dataframe tbody tr th {\n",
       "        vertical-align: top;\n",
       "    }\n",
       "\n",
       "    .dataframe thead th {\n",
       "        text-align: right;\n",
       "    }\n",
       "</style>\n",
       "<table border=\"1\" class=\"dataframe\">\n",
       "  <thead>\n",
       "    <tr style=\"text-align: right;\">\n",
       "      <th></th>\n",
       "      <th>lvl</th>\n",
       "      <th>count</th>\n",
       "    </tr>\n",
       "  </thead>\n",
       "  <tbody>\n",
       "    <tr>\n",
       "      <th>0</th>\n",
       "      <td>-1</td>\n",
       "      <td>34</td>\n",
       "    </tr>\n",
       "    <tr>\n",
       "      <th>1</th>\n",
       "      <td>0</td>\n",
       "      <td>27</td>\n",
       "    </tr>\n",
       "    <tr>\n",
       "      <th>2</th>\n",
       "      <td>1</td>\n",
       "      <td>127</td>\n",
       "    </tr>\n",
       "    <tr>\n",
       "      <th>3</th>\n",
       "      <td>2</td>\n",
       "      <td>121</td>\n",
       "    </tr>\n",
       "    <tr>\n",
       "      <th>4</th>\n",
       "      <td>3</td>\n",
       "      <td>95</td>\n",
       "    </tr>\n",
       "    <tr>\n",
       "      <th>5</th>\n",
       "      <td>4</td>\n",
       "      <td>82</td>\n",
       "    </tr>\n",
       "    <tr>\n",
       "      <th>6</th>\n",
       "      <td>5</td>\n",
       "      <td>76</td>\n",
       "    </tr>\n",
       "    <tr>\n",
       "      <th>7</th>\n",
       "      <td>6</td>\n",
       "      <td>72</td>\n",
       "    </tr>\n",
       "    <tr>\n",
       "      <th>8</th>\n",
       "      <td>7</td>\n",
       "      <td>77</td>\n",
       "    </tr>\n",
       "    <tr>\n",
       "      <th>9</th>\n",
       "      <td>8</td>\n",
       "      <td>68</td>\n",
       "    </tr>\n",
       "    <tr>\n",
       "      <th>10</th>\n",
       "      <td>9</td>\n",
       "      <td>63</td>\n",
       "    </tr>\n",
       "    <tr>\n",
       "      <th>11</th>\n",
       "      <td>10</td>\n",
       "      <td>58</td>\n",
       "    </tr>\n",
       "    <tr>\n",
       "      <th>12</th>\n",
       "      <td>11</td>\n",
       "      <td>40</td>\n",
       "    </tr>\n",
       "    <tr>\n",
       "      <th>13</th>\n",
       "      <td>12</td>\n",
       "      <td>41</td>\n",
       "    </tr>\n",
       "    <tr>\n",
       "      <th>14</th>\n",
       "      <td>13</td>\n",
       "      <td>36</td>\n",
       "    </tr>\n",
       "    <tr>\n",
       "      <th>15</th>\n",
       "      <td>14</td>\n",
       "      <td>33</td>\n",
       "    </tr>\n",
       "    <tr>\n",
       "      <th>16</th>\n",
       "      <td>15</td>\n",
       "      <td>31</td>\n",
       "    </tr>\n",
       "    <tr>\n",
       "      <th>17</th>\n",
       "      <td>16</td>\n",
       "      <td>25</td>\n",
       "    </tr>\n",
       "    <tr>\n",
       "      <th>18</th>\n",
       "      <td>17</td>\n",
       "      <td>21</td>\n",
       "    </tr>\n",
       "    <tr>\n",
       "      <th>19</th>\n",
       "      <td>18</td>\n",
       "      <td>21</td>\n",
       "    </tr>\n",
       "    <tr>\n",
       "      <th>20</th>\n",
       "      <td>19</td>\n",
       "      <td>18</td>\n",
       "    </tr>\n",
       "    <tr>\n",
       "      <th>21</th>\n",
       "      <td>20</td>\n",
       "      <td>24</td>\n",
       "    </tr>\n",
       "    <tr>\n",
       "      <th>22</th>\n",
       "      <td>21</td>\n",
       "      <td>16</td>\n",
       "    </tr>\n",
       "  </tbody>\n",
       "</table>\n",
       "</div>"
      ],
      "text/plain": [
       "    lvl  count\n",
       "0    -1     34\n",
       "1     0     27\n",
       "2     1    127\n",
       "3     2    121\n",
       "4     3     95\n",
       "5     4     82\n",
       "6     5     76\n",
       "7     6     72\n",
       "8     7     77\n",
       "9     8     68\n",
       "10    9     63\n",
       "11   10     58\n",
       "12   11     40\n",
       "13   12     41\n",
       "14   13     36\n",
       "15   14     33\n",
       "16   15     31\n",
       "17   16     25\n",
       "18   17     21\n",
       "19   18     21\n",
       "20   19     18\n",
       "21   20     24\n",
       "22   21     16"
      ]
     },
     "execution_count": 6,
     "metadata": {},
     "output_type": "execute_result"
    }
   ],
   "source": [
    "level_count = pd.DataFrame(\n",
    "    data={\n",
    "        \"lvl\": [key for key in sorted(lvl_stat.keys())],\n",
    "        \"count\": [lvl_stat.get(key) for key in sorted(lvl_stat.keys())],\n",
    "    }\n",
    ")\n",
    "level_count"
   ]
  },
  {
   "cell_type": "code",
   "execution_count": 7,
   "id": "686877dd",
   "metadata": {},
   "outputs": [
    {
     "data": {
      "image/png": "[encoded data removed]",
      "text/plain": [
       "<Figure size 432x288 with 1 Axes>"
      ]
     },
     "metadata": {
      "needs_background": "light"
     },
     "output_type": "display_data"
    }
   ],
   "source": [
    "import matplotlib.pyplot as plt\n",
    "\n",
    "\n",
    "level_count.plot.bar(x=\"lvl\", y=\"count\", title=\"Count of levels\")\n",
    "plt.show()"
   ]
  },
  {
   "cell_type": "markdown",
   "id": "3f976e4a",
   "metadata": {},
   "source": [
    "## Train test split"
   ]
  },
  {
   "cell_type": "markdown",
   "id": "eb8cec62",
   "metadata": {},
   "source": [
    "### Chronological split"
   ]
  },
  {
   "cell_type": "code",
   "execution_count": 8,
   "id": "c6c29573",
   "metadata": {},
   "outputs": [],
   "source": [
    "from training.splitting_dataset import split_dataframe\n",
    "\n",
    "\n",
    "os.chdir(\"../../../training\")\n",
    "X_train, X_test, y_train, y_test = split_dataframe(df, test_size=0.31)\n",
    "os.chdir(\"../notebooks/models/lightgbm\")"
   ]
  },
  {
   "cell_type": "code",
   "execution_count": 9,
   "id": "f6894cc0",
   "metadata": {},
   "outputs": [],
   "source": [
    "X_train = X_train.drop(columns=[\"book\"])\n",
    "X_test = X_test.drop(columns=[\"book\"])"
   ]
  },
  {
   "cell_type": "markdown",
   "id": "31a0109c",
   "metadata": {},
   "source": [
    "### Random split"
   ]
  },
  {
   "cell_type": "code",
   "execution_count": 10,
   "id": "4d3e1121",
   "metadata": {},
   "outputs": [],
   "source": [
    "(\n",
    "    X_train_random_split,\n",
    "    X_test_random_split,\n",
    "    y_train_random_split,\n",
    "    y_test_random_split,\n",
    ") = split_dataframe(df, chronological_split=False)"
   ]
  },
  {
   "cell_type": "code",
   "execution_count": 11,
   "id": "f0c2041a",
   "metadata": {},
   "outputs": [],
   "source": [
    "X_train_random_split = X_train_random_split.drop(columns=[\"book\"])\n",
    "X_test_random_split = X_test_random_split.drop(columns=[\"book\"])"
   ]
  },
  {
   "cell_type": "markdown",
   "id": "e4776792",
   "metadata": {},
   "source": [
    "## LightGBM"
   ]
  },
  {
   "cell_type": "markdown",
   "id": "3f629b2d",
   "metadata": {},
   "source": [
    "## Chronological split"
   ]
  },
  {
   "cell_type": "code",
   "execution_count": 12,
   "id": "e818a3cc",
   "metadata": {},
   "outputs": [
    {
     "name": "stdout",
     "output_type": "stream",
     "text": [
      "[LightGBM] [Warning] Auto-choosing col-wise multi-threading, the overhead of testing was 0.000374 seconds.\n",
      "You can set `force_col_wise=true` to remove the overhead.\n",
      "[LightGBM] [Info] Total Bins 379\n",
      "[LightGBM] [Info] Number of data points in the train set: 841, number of used features: 13\n",
      "[LightGBM] [Info] Start training from score 6.966706\n",
      "Training until validation scores don't improve for 5 rounds\n",
      "[LightGBM] [Warning] No further splits with positive gain, best gain: -inf\n",
      "[LightGBM] [Warning] No further splits with positive gain, best gain: -inf\n",
      "[LightGBM] [Warning] No further splits with positive gain, best gain: -inf\n",
      "[LightGBM] [Warning] No further splits with positive gain, best gain: -inf\n",
      "[LightGBM] [Warning] No further splits with positive gain, best gain: -inf\n",
      "[LightGBM] [Warning] No further splits with positive gain, best gain: -inf\n",
      "[LightGBM] [Warning] No further splits with positive gain, best gain: -inf\n",
      "[LightGBM] [Warning] No further splits with positive gain, best gain: -inf\n",
      "[LightGBM] [Warning] No further splits with positive gain, best gain: -inf\n",
      "[LightGBM] [Warning] No further splits with positive gain, best gain: -inf\n",
      "[LightGBM] [Warning] No further splits with positive gain, best gain: -inf\n",
      "[LightGBM] [Warning] No further splits with positive gain, best gain: -inf\n",
      "Early stopping, best iteration is:\n",
      "[66]\tvalid_0's l2: 0.260889\tvalid_0's l1: 0.357206\n"
     ]
    }
   ],
   "source": [
    "import lightgbm as lgb\n",
    "\n",
    "lgb_train = lgb.Dataset(X_train, y_train)\n",
    "lgb_eval = lgb.Dataset(X_test, y_test, reference=lgb_train)\n",
    "\n",
    "params = {\n",
    "    \"boosting_type\": \"gbdt\",\n",
    "    \"objective\": \"regression\",\n",
    "    \"metric\": {\"l2\", \"l1\"},\n",
    "}\n",
    "\n",
    "gbm = lgb.train(\n",
    "    params,\n",
    "    lgb_train,\n",
    "    num_boost_round=100,\n",
    "    valid_sets=lgb_eval,\n",
    "    callbacks=[lgb.early_stopping(stopping_rounds=5)],\n",
    ")"
   ]
  },
  {
   "cell_type": "code",
   "execution_count": 13,
   "id": "b2dd69b5",
   "metadata": {},
   "outputs": [],
   "source": [
    "y_pred_train = gbm.predict(X_train, num_iteration=gbm.best_iteration)\n",
    "y_pred_test = gbm.predict(X_test, num_iteration=gbm.best_iteration)"
   ]
  },
  {
   "cell_type": "code",
   "execution_count": 14,
   "id": "68b425f7",
   "metadata": {},
   "outputs": [
    {
     "name": "stdout",
     "output_type": "stream",
     "text": [
      "MSE: 0.26\n",
      "RMSE: 0.51\n",
      "MAE: 0.36\n"
     ]
    }
   ],
   "source": [
    "from sklearn.metrics import mean_squared_error, mean_absolute_error\n",
    "\n",
    "\n",
    "mse = mean_squared_error(y_test, y_pred_test)\n",
    "rmse = mean_squared_error(y_test, y_pred_test, squared=False)\n",
    "mae = mean_absolute_error(y_test, y_pred_test)\n",
    "\n",
    "print(f\"MSE: {mse:.2f}\")\n",
    "print(f\"RMSE: {rmse:.2f}\")\n",
    "print(f\"MAE: {mae:.2f}\")"
   ]
  },
  {
   "cell_type": "code",
   "execution_count": 15,
   "id": "a615e9df",
   "metadata": {},
   "outputs": [],
   "source": [
    "results = pd.DataFrame(\n",
    "    data={\n",
    "        \"Split type\": [],\n",
    "        \"Tuning type\": [],\n",
    "        \"Set of features\": [],\n",
    "        \"MSE\": [],\n",
    "        \"RMSE\": [],\n",
    "        \"MAE\": [],\n",
    "    }\n",
    ")\n",
    "\n",
    "results.loc[0] = [\"chronological\", \"default\", \"expanded\", mse, rmse, mae]"
   ]
  },
  {
   "cell_type": "code",
   "execution_count": 16,
   "id": "9d777b5d",
   "metadata": {},
   "outputs": [
    {
     "name": "stdout",
     "output_type": "stream",
     "text": [
      "RMSE train: 0.21\n",
      "RMSE test: 0.51\n"
     ]
    }
   ],
   "source": [
    "rmse_train = mean_squared_error(y_train, y_pred_train, squared=False)\n",
    "rmse_test = mean_squared_error(y_test, y_pred_test, squared=False)\n",
    "print(f\"RMSE train: {rmse_train:.2f}\")\n",
    "print(f\"RMSE test: {rmse_test:.2f}\")"
   ]
  },
  {
   "cell_type": "markdown",
   "id": "c8d83c18",
   "metadata": {},
   "source": [
    "###### MAE by level"
   ]
  },
  {
   "cell_type": "code",
   "execution_count": 17,
   "id": "ac580d53",
   "metadata": {},
   "outputs": [],
   "source": [
    "from training.results import plot_mae_by_level"
   ]
  },
  {
   "cell_type": "code",
   "execution_count": 18,
   "id": "53b88797",
   "metadata": {},
   "outputs": [
    {
     "data": {
      "image/png": "[encoded data removed]",
      "text/plain": [
       "<Figure size 720x432 with 1 Axes>"
      ]
     },
     "metadata": {
      "needs_background": "light"
     },
     "output_type": "display_data"
    }
   ],
   "source": [
    "plot_mae_by_level(\n",
    "    y_test,\n",
    "    y_pred_test,\n",
    "    title=\"MAE by level for default LightGBM with expanded features and chronological split\",\n",
    ")"
   ]
  },
  {
   "cell_type": "code",
   "execution_count": 19,
   "id": "4135d981",
   "metadata": {},
   "outputs": [
    {
     "name": "stdout",
     "output_type": "stream",
     "text": [
      "Default:\n",
      "MSE: 0.26\n",
      "RMSE: 0.51\n",
      "\n",
      "Round type: round\n",
      "MSE: 0.30\n",
      "RMSE: 0.55\n",
      "\n",
      "Round type: 0.33\n",
      "MSE: 0.29\n",
      "RMSE: 0.54\n",
      "\n",
      "Round type: 0.45\n",
      "MSE: 0.29\n",
      "RMSE: 0.54\n",
      "\n"
     ]
    }
   ],
   "source": [
    "from training.results import check_round_predictions, plot_confusion_matrix\n",
    "\n",
    "\n",
    "check_round_predictions([\"round\", 0.33, 0.45], y_test, y_pred_test)"
   ]
  },
  {
   "cell_type": "code",
   "execution_count": 20,
   "id": "4741e1ec",
   "metadata": {},
   "outputs": [
    {
     "data": {
      "image/png": "[encoded data removed]",
      "text/plain": [
       "<Figure size 432x288 with 2 Axes>"
      ]
     },
     "metadata": {
      "needs_background": "light"
     },
     "output_type": "display_data"
    }
   ],
   "source": [
    "plot_confusion_matrix(\n",
    "    \"round\",\n",
    "    y_pred_test,\n",
    "    y_test,\n",
    "    title=\"Confusion matrix for default LightGBM with expanded features and chronological split\",\n",
    ")"
   ]
  },
  {
   "cell_type": "markdown",
   "id": "a6b03404",
   "metadata": {},
   "source": [
    "#### Tuning"
   ]
  },
  {
   "cell_type": "code",
   "execution_count": 21,
   "id": "e7f8b7ee",
   "metadata": {},
   "outputs": [],
   "source": [
    "from training.results import assess_regression_model"
   ]
  },
  {
   "cell_type": "code",
   "execution_count": 22,
   "id": "10cd6bac",
   "metadata": {
    "scrolled": true
   },
   "outputs": [
    {
     "name": "stderr",
     "output_type": "stream",
     "text": [
      "[I 2023-11-05 11:54:40,712] A new study created in memory with name: no-name-04736205-e502-4026-846a-31170586bcb3\n",
      "feature_fraction, val_score: inf:   0%|                                                          | 0/7 [00:00<?, ?it/s]"
     ]
    },
    {
     "name": "stdout",
     "output_type": "stream",
     "text": [
      "Training until validation scores don't improve for 100 rounds\n",
      "[100]\tcv_agg's l2: 0.188387 + 0.0381083\n",
      "[200]\tcv_agg's l2: 0.183812 + 0.035286\n",
      "[300]\tcv_agg's l2: 0.183635 + 0.0358472\n"
     ]
    },
    {
     "name": "stderr",
     "output_type": "stream",
     "text": [
      "feature_fraction, val_score: 0.183462:  14%|######4                                      | 1/7 [00:02<00:15,  2.50s/it][I 2023-11-05 11:54:43,222] Trial 0 finished with value: 0.18346155711305356 and parameters: {'feature_fraction': 0.8999999999999999}. Best is trial 0 with value: 0.18346155711305356.\n",
      "feature_fraction, val_score: 0.183462:  14%|######4                                      | 1/7 [00:02<00:15,  2.50s/it]"
     ]
    },
    {
     "name": "stdout",
     "output_type": "stream",
     "text": [
      "Early stopping, best iteration is:\n",
      "[265]\tcv_agg's l2: 0.183462 + 0.0357411\n",
      "[100]\tcv_agg's l2: 0.189416 + 0.0383436\n",
      "[200]\tcv_agg's l2: 0.186199 + 0.0363732\n",
      "[300]\tcv_agg's l2: 0.185652 + 0.0359814\n"
     ]
    },
    {
     "name": "stderr",
     "output_type": "stream",
     "text": [
      "feature_fraction, val_score: 0.183462:  29%|############8                                | 2/7 [00:04<00:12,  2.48s/it][I 2023-11-05 11:54:45,682] Trial 1 finished with value: 0.18566971437023239 and parameters: {'feature_fraction': 1.0}. Best is trial 0 with value: 0.18346155711305356.\n",
      "feature_fraction, val_score: 0.183462:  29%|############8                                | 2/7 [00:04<00:12,  2.48s/it]"
     ]
    },
    {
     "name": "stdout",
     "output_type": "stream",
     "text": [
      "Early stopping, best iteration is:\n",
      "[265]\tcv_agg's l2: 0.183462 + 0.0357411\n",
      "[100]\tcv_agg's l2: 0.164558 + 0.0241803\n",
      "[200]\tcv_agg's l2: 0.161615 + 0.0235489\n"
     ]
    },
    {
     "name": "stderr",
     "output_type": "stream",
     "text": [
      "feature_fraction, val_score: 0.160904:  43%|###################2                         | 3/7 [00:06<00:08,  2.09s/it][I 2023-11-05 11:54:47,319] Trial 2 finished with value: 0.16090429232432998 and parameters: {'feature_fraction': 0.4}. Best is trial 2 with value: 0.16090429232432998.\n",
      "feature_fraction, val_score: 0.160904:  43%|###################2                         | 3/7 [00:06<00:08,  2.09s/it]"
     ]
    },
    {
     "name": "stdout",
     "output_type": "stream",
     "text": [
      "Early stopping, best iteration is:\n",
      "[165]\tcv_agg's l2: 0.160904 + 0.0236687\n",
      "[100]\tcv_agg's l2: 0.184068 + 0.0427914\n",
      "[200]\tcv_agg's l2: 0.180847 + 0.04093\n"
     ]
    },
    {
     "name": "stderr",
     "output_type": "stream",
     "text": [
      "feature_fraction, val_score: 0.160904:  57%|#########################7                   | 4/7 [00:08<00:06,  2.12s/it][I 2023-11-05 11:54:49,487] Trial 3 finished with value: 0.18110164449958918 and parameters: {'feature_fraction': 0.8}. Best is trial 2 with value: 0.16090429232432998.\n",
      "feature_fraction, val_score: 0.160904:  57%|#########################7                   | 4/7 [00:08<00:06,  2.12s/it]"
     ]
    },
    {
     "name": "stdout",
     "output_type": "stream",
     "text": [
      "Early stopping, best iteration is:\n",
      "[165]\tcv_agg's l2: 0.160904 + 0.0236687\n",
      "[100]\tcv_agg's l2: 0.177655 + 0.0277536\n",
      "[200]\tcv_agg's l2: 0.174891 + 0.026591\n"
     ]
    },
    {
     "name": "stderr",
     "output_type": "stream",
     "text": [
      "feature_fraction, val_score: 0.160904:  71%|################################1            | 5/7 [00:11<00:04,  2.36s/it][I 2023-11-05 11:54:52,264] Trial 4 finished with value: 0.17481945520378708 and parameters: {'feature_fraction': 0.5}. Best is trial 2 with value: 0.16090429232432998.\n",
      "feature_fraction, val_score: 0.160904:  71%|################################1            | 5/7 [00:11<00:04,  2.36s/it]"
     ]
    },
    {
     "name": "stdout",
     "output_type": "stream",
     "text": [
      "Early stopping, best iteration is:\n",
      "[165]\tcv_agg's l2: 0.160904 + 0.0236687\n",
      "[100]\tcv_agg's l2: 0.186219 + 0.0455722\n",
      "[200]\tcv_agg's l2: 0.184163 + 0.0431044\n"
     ]
    },
    {
     "name": "stderr",
     "output_type": "stream",
     "text": [
      "feature_fraction, val_score: 0.160904:  86%|######################################5      | 6/7 [00:15<00:02,  2.91s/it][I 2023-11-05 11:54:56,243] Trial 5 finished with value: 0.18413318441998167 and parameters: {'feature_fraction': 0.7}. Best is trial 2 with value: 0.16090429232432998.\n",
      "feature_fraction, val_score: 0.160904:  86%|######################################5      | 6/7 [00:15<00:02,  2.91s/it]"
     ]
    },
    {
     "name": "stdout",
     "output_type": "stream",
     "text": [
      "Early stopping, best iteration is:\n",
      "[165]\tcv_agg's l2: 0.160904 + 0.0236687\n",
      "[100]\tcv_agg's l2: 0.178359 + 0.0353854\n",
      "[200]\tcv_agg's l2: 0.174607 + 0.033989\n"
     ]
    },
    {
     "name": "stderr",
     "output_type": "stream",
     "text": [
      "feature_fraction, val_score: 0.160904: 100%|#############################################| 7/7 [00:18<00:00,  2.97s/it][I 2023-11-05 11:54:59,341] Trial 6 finished with value: 0.1752696988412145 and parameters: {'feature_fraction': 0.6}. Best is trial 2 with value: 0.16090429232432998.\n",
      "feature_fraction, val_score: 0.160904: 100%|#############################################| 7/7 [00:18<00:00,  2.66s/it]\n"
     ]
    },
    {
     "name": "stdout",
     "output_type": "stream",
     "text": [
      "Early stopping, best iteration is:\n",
      "[165]\tcv_agg's l2: 0.160904 + 0.0236687\n"
     ]
    },
    {
     "name": "stderr",
     "output_type": "stream",
     "text": [
      "num_leaves, val_score: 0.160904:   0%|                                                          | 0/20 [00:00<?, ?it/s]"
     ]
    },
    {
     "name": "stdout",
     "output_type": "stream",
     "text": [
      "[100]\tcv_agg's l2: 0.164558 + 0.0241803\n",
      "[200]\tcv_agg's l2: 0.161615 + 0.0235489\n"
     ]
    },
    {
     "name": "stderr",
     "output_type": "stream",
     "text": [
      "num_leaves, val_score: 0.160904:   5%|##5                                               | 1/20 [00:02<00:53,  2.84s/it][I 2023-11-05 11:55:02,190] Trial 7 finished with value: 0.16090429232432998 and parameters: {'num_leaves': 141}. Best is trial 7 with value: 0.16090429232432998.\n",
      "num_leaves, val_score: 0.160904:   5%|##5                                               | 1/20 [00:02<00:53,  2.84s/it]"
     ]
    },
    {
     "name": "stdout",
     "output_type": "stream",
     "text": [
      "Early stopping, best iteration is:\n",
      "[165]\tcv_agg's l2: 0.160904 + 0.0236687\n",
      "[100]\tcv_agg's l2: 0.164558 + 0.0241803\n",
      "[200]\tcv_agg's l2: 0.161615 + 0.0235489\n"
     ]
    },
    {
     "name": "stderr",
     "output_type": "stream",
     "text": [
      "num_leaves, val_score: 0.160904:  10%|#####                                             | 2/20 [00:05<00:49,  2.74s/it][I 2023-11-05 11:55:04,863] Trial 8 finished with value: 0.16090429232432998 and parameters: {'num_leaves': 153}. Best is trial 7 with value: 0.16090429232432998.\n",
      "num_leaves, val_score: 0.160904:  10%|#####                                             | 2/20 [00:05<00:49,  2.74s/it]"
     ]
    },
    {
     "name": "stdout",
     "output_type": "stream",
     "text": [
      "Early stopping, best iteration is:\n",
      "[165]\tcv_agg's l2: 0.160904 + 0.0236687\n",
      "[100]\tcv_agg's l2: 0.164995 + 0.0217877\n",
      "[200]\tcv_agg's l2: 0.160155 + 0.0220304\n",
      "[300]\tcv_agg's l2: 0.160033 + 0.0225136\n"
     ]
    },
    {
     "name": "stderr",
     "output_type": "stream",
     "text": [
      "num_leaves, val_score: 0.159628:  15%|#######5                                          | 3/20 [00:08<00:44,  2.64s/it][I 2023-11-05 11:55:07,375] Trial 9 finished with value: 0.1596284087771703 and parameters: {'num_leaves': 14}. Best is trial 9 with value: 0.1596284087771703.\n",
      "num_leaves, val_score: 0.159628:  15%|#######5                                          | 3/20 [00:08<00:44,  2.64s/it]"
     ]
    },
    {
     "name": "stdout",
     "output_type": "stream",
     "text": [
      "[400]\tcv_agg's l2: 0.16086 + 0.0233187\n",
      "Early stopping, best iteration is:\n",
      "[313]\tcv_agg's l2: 0.159628 + 0.0223021\n",
      "[100]\tcv_agg's l2: 0.29367 + 0.0459977\n",
      "[200]\tcv_agg's l2: 0.260179 + 0.0401828\n"
     ]
    },
    {
     "name": "stderr",
     "output_type": "stream",
     "text": [
      "\r",
      "num_leaves, val_score: 0.159628:  15%|#######5                                          | 3/20 [00:08<00:44,  2.64s/it]"
     ]
    },
    {
     "name": "stdout",
     "output_type": "stream",
     "text": [
      "[300]\tcv_agg's l2: 0.251466 + 0.036253\n",
      "[400]\tcv_agg's l2: 0.24556 + 0.0333715\n",
      "Early stopping, best iteration is:\n",
      "[313]\tcv_agg's l2: 0.159628 + 0.0223021\n"
     ]
    },
    {
     "name": "stderr",
     "output_type": "stream",
     "text": [
      "num_leaves, val_score: 0.159628:  20%|##########                                        | 4/20 [00:08<00:29,  1.86s/it][I 2023-11-05 11:55:08,053] Trial 10 finished with value: 0.2506840614736234 and parameters: {'num_leaves': 2}. Best is trial 9 with value: 0.1596284087771703.\n",
      "num_leaves, val_score: 0.159628:  20%|##########                                        | 4/20 [00:08<00:29,  1.86s/it]"
     ]
    },
    {
     "name": "stdout",
     "output_type": "stream",
     "text": [
      "[100]\tcv_agg's l2: 0.248226 + 0.0261261\n",
      "[200]\tcv_agg's l2: 0.215614 + 0.0184476\n",
      "[300]\tcv_agg's l2: 0.200772 + 0.0145781\n",
      "[400]\tcv_agg's l2: 0.193125 + 0.0118465\n"
     ]
    },
    {
     "name": "stderr",
     "output_type": "stream",
     "text": [
      "num_leaves, val_score: 0.159628:  25%|############5                                     | 5/20 [00:09<00:22,  1.50s/it][I 2023-11-05 11:55:08,916] Trial 11 finished with value: 0.1995404355784593 and parameters: {'num_leaves': 3}. Best is trial 9 with value: 0.1596284087771703.\n",
      "num_leaves, val_score: 0.159628:  25%|############5                                     | 5/20 [00:09<00:22,  1.50s/it]"
     ]
    },
    {
     "name": "stdout",
     "output_type": "stream",
     "text": [
      "Early stopping, best iteration is:\n",
      "[313]\tcv_agg's l2: 0.159628 + 0.0223021\n",
      "[100]\tcv_agg's l2: 0.164558 + 0.0241803\n",
      "[200]\tcv_agg's l2: 0.161615 + 0.0235489\n",
      "[300]\tcv_agg's l2: 0.161371 + 0.023556\n"
     ]
    },
    {
     "name": "stderr",
     "output_type": "stream",
     "text": [
      "num_leaves, val_score: 0.159628:  30%|###############                                   | 6/20 [00:13<00:34,  2.49s/it][I 2023-11-05 11:55:13,330] Trial 12 finished with value: 0.16157601781564845 and parameters: {'num_leaves': 243}. Best is trial 9 with value: 0.1596284087771703.\n",
      "num_leaves, val_score: 0.159628:  30%|###############                                   | 6/20 [00:13<00:34,  2.49s/it]"
     ]
    },
    {
     "name": "stdout",
     "output_type": "stream",
     "text": [
      "[400]\tcv_agg's l2: 0.161764 + 0.0240931\n",
      "Early stopping, best iteration is:\n",
      "[313]\tcv_agg's l2: 0.159628 + 0.0223021\n",
      "[100]\tcv_agg's l2: 0.164558 + 0.0241803\n",
      "[200]\tcv_agg's l2: 0.161615 + 0.0235489\n",
      "[300]\tcv_agg's l2: 0.161371 + 0.023556\n"
     ]
    },
    {
     "name": "stderr",
     "output_type": "stream",
     "text": [
      "num_leaves, val_score: 0.159628:  35%|#################5                                | 7/20 [00:18<00:41,  3.16s/it][I 2023-11-05 11:55:17,869] Trial 13 finished with value: 0.16157601781564845 and parameters: {'num_leaves': 70}. Best is trial 9 with value: 0.1596284087771703.\n",
      "num_leaves, val_score: 0.159628:  35%|#################5                                | 7/20 [00:18<00:41,  3.16s/it]"
     ]
    },
    {
     "name": "stdout",
     "output_type": "stream",
     "text": [
      "[400]\tcv_agg's l2: 0.161764 + 0.0240931\n",
      "Early stopping, best iteration is:\n",
      "[313]\tcv_agg's l2: 0.159628 + 0.0223021\n",
      "[100]\tcv_agg's l2: 0.164558 + 0.0241803\n",
      "[200]\tcv_agg's l2: 0.161615 + 0.0235489\n",
      "[300]\tcv_agg's l2: 0.161371 + 0.023556\n"
     ]
    },
    {
     "name": "stderr",
     "output_type": "stream",
     "text": [
      "num_leaves, val_score: 0.159628:  40%|####################                              | 8/20 [00:22<00:41,  3.46s/it][I 2023-11-05 11:55:21,973] Trial 14 finished with value: 0.16157601781564845 and parameters: {'num_leaves': 71}. Best is trial 9 with value: 0.1596284087771703.\n",
      "num_leaves, val_score: 0.159628:  40%|####################                              | 8/20 [00:22<00:41,  3.46s/it]"
     ]
    },
    {
     "name": "stdout",
     "output_type": "stream",
     "text": [
      "[400]\tcv_agg's l2: 0.161764 + 0.0240931\n",
      "Early stopping, best iteration is:\n",
      "[313]\tcv_agg's l2: 0.159628 + 0.0223021\n",
      "[100]\tcv_agg's l2: 0.164558 + 0.0241803\n",
      "[200]\tcv_agg's l2: 0.161615 + 0.0235489\n",
      "[300]\tcv_agg's l2: 0.161371 + 0.023556\n"
     ]
    },
    {
     "name": "stderr",
     "output_type": "stream",
     "text": [
      "num_leaves, val_score: 0.159628:  45%|######################5                           | 9/20 [00:26<00:40,  3.67s/it][I 2023-11-05 11:55:26,095] Trial 15 finished with value: 0.16157601781564845 and parameters: {'num_leaves': 210}. Best is trial 9 with value: 0.1596284087771703.\n",
      "num_leaves, val_score: 0.159628:  45%|######################5                           | 9/20 [00:26<00:40,  3.67s/it]"
     ]
    },
    {
     "name": "stdout",
     "output_type": "stream",
     "text": [
      "[400]\tcv_agg's l2: 0.161764 + 0.0240931\n",
      "Early stopping, best iteration is:\n",
      "[313]\tcv_agg's l2: 0.159628 + 0.0223021\n",
      "[100]\tcv_agg's l2: 0.164558 + 0.0241803\n",
      "[200]\tcv_agg's l2: 0.161615 + 0.0235489\n",
      "[300]\tcv_agg's l2: 0.161371 + 0.023556\n"
     ]
    },
    {
     "name": "stderr",
     "output_type": "stream",
     "text": [
      "\r",
      "num_leaves, val_score: 0.159628:  45%|######################5                           | 9/20 [00:30<00:40,  3.67s/it]"
     ]
    },
    {
     "name": "stdout",
     "output_type": "stream",
     "text": [
      "[400]\tcv_agg's l2: 0.161764 + 0.0240931\n",
      "Early stopping, best iteration is:\n",
      "[313]\tcv_agg's l2: 0.159628 + 0.0223021\n"
     ]
    },
    {
     "name": "stderr",
     "output_type": "stream",
     "text": [
      "num_leaves, val_score: 0.159628:  50%|########################5                        | 10/20 [00:30<00:38,  3.82s/it][I 2023-11-05 11:55:30,251] Trial 16 finished with value: 0.16157601781564845 and parameters: {'num_leaves': 60}. Best is trial 9 with value: 0.1596284087771703.\n",
      "num_leaves, val_score: 0.159628:  50%|########################5                        | 10/20 [00:30<00:38,  3.82s/it]"
     ]
    },
    {
     "name": "stdout",
     "output_type": "stream",
     "text": [
      "[100]\tcv_agg's l2: 0.164558 + 0.0241803\n",
      "[200]\tcv_agg's l2: 0.161615 + 0.0235489\n",
      "[300]\tcv_agg's l2: 0.161371 + 0.023556\n"
     ]
    },
    {
     "name": "stderr",
     "output_type": "stream",
     "text": [
      "num_leaves, val_score: 0.159628:  55%|##########################9                      | 11/20 [00:34<00:35,  3.89s/it][I 2023-11-05 11:55:34,308] Trial 17 finished with value: 0.16157601781564845 and parameters: {'num_leaves': 99}. Best is trial 9 with value: 0.1596284087771703.\n",
      "num_leaves, val_score: 0.159628:  55%|##########################9                      | 11/20 [00:34<00:35,  3.89s/it]"
     ]
    },
    {
     "name": "stdout",
     "output_type": "stream",
     "text": [
      "[400]\tcv_agg's l2: 0.161764 + 0.0240931\n",
      "Early stopping, best iteration is:\n",
      "[313]\tcv_agg's l2: 0.159628 + 0.0223021\n",
      "[100]\tcv_agg's l2: 0.164558 + 0.0241803\n",
      "[200]\tcv_agg's l2: 0.161615 + 0.0235489\n",
      "[300]\tcv_agg's l2: 0.161371 + 0.023556\n"
     ]
    },
    {
     "name": "stderr",
     "output_type": "stream",
     "text": [
      "num_leaves, val_score: 0.159628:  60%|#############################4                   | 12/20 [00:39<00:32,  4.04s/it][I 2023-11-05 11:55:38,699] Trial 18 finished with value: 0.16157601781564845 and parameters: {'num_leaves': 179}. Best is trial 9 with value: 0.1596284087771703.\n",
      "num_leaves, val_score: 0.159628:  60%|#############################4                   | 12/20 [00:39<00:32,  4.04s/it]"
     ]
    },
    {
     "name": "stdout",
     "output_type": "stream",
     "text": [
      "[400]\tcv_agg's l2: 0.161764 + 0.0240931\n",
      "Early stopping, best iteration is:\n",
      "[313]\tcv_agg's l2: 0.159628 + 0.0223021\n",
      "[100]\tcv_agg's l2: 0.164558 + 0.0241803\n",
      "[200]\tcv_agg's l2: 0.161615 + 0.0235489\n",
      "[300]\tcv_agg's l2: 0.161371 + 0.023556\n",
      "[400]\tcv_agg's l2: 0.161764 + 0.0240931\n"
     ]
    },
    {
     "name": "stderr",
     "output_type": "stream",
     "text": [
      "num_leaves, val_score: 0.159628:  65%|###############################8                 | 13/20 [00:44<00:30,  4.38s/it][I 2023-11-05 11:55:43,863] Trial 19 finished with value: 0.16157601781564845 and parameters: {'num_leaves': 36}. Best is trial 9 with value: 0.1596284087771703.\n",
      "num_leaves, val_score: 0.159628:  65%|###############################8                 | 13/20 [00:44<00:30,  4.38s/it]"
     ]
    },
    {
     "name": "stdout",
     "output_type": "stream",
     "text": [
      "Early stopping, best iteration is:\n",
      "[313]\tcv_agg's l2: 0.159628 + 0.0223021\n",
      "[100]\tcv_agg's l2: 0.164558 + 0.0241803\n",
      "[200]\tcv_agg's l2: 0.161615 + 0.0235489\n",
      "[300]\tcv_agg's l2: 0.161371 + 0.023556\n",
      "[400]\tcv_agg's l2: 0.161764 + 0.0240931\n"
     ]
    },
    {
     "name": "stderr",
     "output_type": "stream",
     "text": [
      "num_leaves, val_score: 0.159628:  70%|##################################3              | 14/20 [00:49<00:26,  4.45s/it][I 2023-11-05 11:55:48,484] Trial 20 finished with value: 0.16157601781564845 and parameters: {'num_leaves': 102}. Best is trial 9 with value: 0.1596284087771703.\n",
      "num_leaves, val_score: 0.159628:  70%|##################################3              | 14/20 [00:49<00:26,  4.45s/it]"
     ]
    },
    {
     "name": "stdout",
     "output_type": "stream",
     "text": [
      "Early stopping, best iteration is:\n",
      "[313]\tcv_agg's l2: 0.159628 + 0.0223021\n",
      "[100]\tcv_agg's l2: 0.164558 + 0.0241803\n",
      "[200]\tcv_agg's l2: 0.161615 + 0.0235489\n",
      "[300]\tcv_agg's l2: 0.161371 + 0.023556\n"
     ]
    },
    {
     "name": "stderr",
     "output_type": "stream",
     "text": [
      "\r",
      "num_leaves, val_score: 0.159628:  70%|##################################3              | 14/20 [00:56<00:26,  4.45s/it]"
     ]
    },
    {
     "name": "stdout",
     "output_type": "stream",
     "text": [
      "[400]\tcv_agg's l2: 0.161764 + 0.0240931\n",
      "Early stopping, best iteration is:\n",
      "[313]\tcv_agg's l2: 0.159628 + 0.0223021\n"
     ]
    },
    {
     "name": "stderr",
     "output_type": "stream",
     "text": [
      "num_leaves, val_score: 0.159628:  75%|####################################7            | 15/20 [00:56<00:26,  5.35s/it][I 2023-11-05 11:55:55,922] Trial 21 finished with value: 0.16157601781564845 and parameters: {'num_leaves': 135}. Best is trial 9 with value: 0.1596284087771703.\n",
      "num_leaves, val_score: 0.159628:  75%|####################################7            | 15/20 [00:56<00:26,  5.35s/it]"
     ]
    },
    {
     "name": "stdout",
     "output_type": "stream",
     "text": [
      "[100]\tcv_agg's l2: 0.164558 + 0.0241803\n",
      "[200]\tcv_agg's l2: 0.161615 + 0.0235489\n",
      "[300]\tcv_agg's l2: 0.161371 + 0.023556\n"
     ]
    },
    {
     "name": "stderr",
     "output_type": "stream",
     "text": [
      "num_leaves, val_score: 0.159628:  80%|#######################################2         | 16/20 [01:01<00:21,  5.38s/it][I 2023-11-05 11:56:01,346] Trial 22 finished with value: 0.16157601781564845 and parameters: {'num_leaves': 180}. Best is trial 9 with value: 0.1596284087771703.\n",
      "num_leaves, val_score: 0.159628:  80%|#######################################2         | 16/20 [01:02<00:21,  5.38s/it]"
     ]
    },
    {
     "name": "stdout",
     "output_type": "stream",
     "text": [
      "[400]\tcv_agg's l2: 0.161764 + 0.0240931\n",
      "Early stopping, best iteration is:\n",
      "[313]\tcv_agg's l2: 0.159628 + 0.0223021\n",
      "[100]\tcv_agg's l2: 0.164558 + 0.0241803\n",
      "[200]\tcv_agg's l2: 0.161615 + 0.0235489\n",
      "[300]\tcv_agg's l2: 0.161371 + 0.023556\n"
     ]
    },
    {
     "name": "stderr",
     "output_type": "stream",
     "text": [
      "num_leaves, val_score: 0.159628:  85%|#########################################6       | 17/20 [01:06<00:15,  5.05s/it][I 2023-11-05 11:56:05,655] Trial 23 finished with value: 0.16157601781564845 and parameters: {'num_leaves': 108}. Best is trial 9 with value: 0.1596284087771703.\n",
      "num_leaves, val_score: 0.159628:  85%|#########################################6       | 17/20 [01:06<00:15,  5.05s/it]"
     ]
    },
    {
     "name": "stdout",
     "output_type": "stream",
     "text": [
      "[400]\tcv_agg's l2: 0.161764 + 0.0240931\n",
      "Early stopping, best iteration is:\n",
      "[313]\tcv_agg's l2: 0.159628 + 0.0223021\n",
      "[100]\tcv_agg's l2: 0.164558 + 0.0241803\n",
      "[200]\tcv_agg's l2: 0.161615 + 0.0235489\n",
      "[300]\tcv_agg's l2: 0.161371 + 0.023556\n"
     ]
    },
    {
     "name": "stderr",
     "output_type": "stream",
     "text": [
      "\r",
      "num_leaves, val_score: 0.159628:  85%|#########################################6       | 17/20 [01:10<00:15,  5.05s/it]"
     ]
    },
    {
     "name": "stdout",
     "output_type": "stream",
     "text": [
      "[400]\tcv_agg's l2: 0.161764 + 0.0240931\n",
      "Early stopping, best iteration is:\n",
      "[313]\tcv_agg's l2: 0.159628 + 0.0223021\n"
     ]
    },
    {
     "name": "stderr",
     "output_type": "stream",
     "text": [
      "num_leaves, val_score: 0.159628:  90%|############################################1    | 18/20 [01:10<00:09,  4.81s/it][I 2023-11-05 11:56:09,892] Trial 24 finished with value: 0.16157601781564845 and parameters: {'num_leaves': 149}. Best is trial 9 with value: 0.1596284087771703.\n",
      "num_leaves, val_score: 0.159628:  90%|############################################1    | 18/20 [01:10<00:09,  4.81s/it]"
     ]
    },
    {
     "name": "stdout",
     "output_type": "stream",
     "text": [
      "[100]\tcv_agg's l2: 0.164558 + 0.0241803\n",
      "[200]\tcv_agg's l2: 0.161615 + 0.0235489\n",
      "[300]\tcv_agg's l2: 0.161371 + 0.023556\n"
     ]
    },
    {
     "name": "stderr",
     "output_type": "stream",
     "text": [
      "num_leaves, val_score: 0.159628:  95%|##############################################5  | 19/20 [01:15<00:04,  4.74s/it][I 2023-11-05 11:56:14,474] Trial 25 finished with value: 0.16157601781564845 and parameters: {'num_leaves': 200}. Best is trial 9 with value: 0.1596284087771703.\n",
      "num_leaves, val_score: 0.159628:  95%|##############################################5  | 19/20 [01:15<00:04,  4.74s/it]"
     ]
    },
    {
     "name": "stdout",
     "output_type": "stream",
     "text": [
      "[400]\tcv_agg's l2: 0.161764 + 0.0240931\n",
      "Early stopping, best iteration is:\n",
      "[313]\tcv_agg's l2: 0.159628 + 0.0223021\n",
      "[100]\tcv_agg's l2: 0.164558 + 0.0241803\n",
      "[200]\tcv_agg's l2: 0.161615 + 0.0235489\n",
      "[300]\tcv_agg's l2: 0.161371 + 0.023556\n"
     ]
    },
    {
     "name": "stderr",
     "output_type": "stream",
     "text": [
      "\r",
      "num_leaves, val_score: 0.159628:  95%|##############################################5  | 19/20 [01:19<00:04,  4.74s/it]"
     ]
    },
    {
     "name": "stdout",
     "output_type": "stream",
     "text": [
      "[400]\tcv_agg's l2: 0.161764 + 0.0240931\n",
      "Early stopping, best iteration is:\n",
      "[313]\tcv_agg's l2: 0.159628 + 0.0223021\n"
     ]
    },
    {
     "name": "stderr",
     "output_type": "stream",
     "text": [
      "num_leaves, val_score: 0.159628: 100%|#################################################| 20/20 [01:19<00:00,  4.75s/it][I 2023-11-05 11:56:19,245] Trial 26 finished with value: 0.16157601781564845 and parameters: {'num_leaves': 36}. Best is trial 9 with value: 0.1596284087771703.\n",
      "num_leaves, val_score: 0.159628: 100%|#################################################| 20/20 [01:19<00:00,  3.99s/it]\n",
      "bagging, val_score: 0.159628:   0%|                                                             | 0/10 [00:00<?, ?it/s]"
     ]
    },
    {
     "name": "stdout",
     "output_type": "stream",
     "text": [
      "[100]\tcv_agg's l2: 0.206633 + 0.0334187\n",
      "[200]\tcv_agg's l2: 0.200925 + 0.028563\n",
      "[300]\tcv_agg's l2: 0.19947 + 0.02772\n"
     ]
    },
    {
     "name": "stderr",
     "output_type": "stream",
     "text": [
      "bagging, val_score: 0.159628:  10%|#####3                                               | 1/10 [00:02<00:24,  2.74s/it][I 2023-11-05 11:56:21,995] Trial 27 finished with value: 0.1974168596267366 and parameters: {'bagging_fraction': 0.41856946893492236, 'bagging_freq': 3}. Best is trial 27 with value: 0.1974168596267366.\n",
      "bagging, val_score: 0.159628:  10%|#####3                                               | 1/10 [00:02<00:24,  2.74s/it]"
     ]
    },
    {
     "name": "stdout",
     "output_type": "stream",
     "text": [
      "[400]\tcv_agg's l2: 0.202133 + 0.0277718\n",
      "Early stopping, best iteration is:\n",
      "[313]\tcv_agg's l2: 0.159628 + 0.0223021\n",
      "[100]\tcv_agg's l2: 0.165951 + 0.0210833\n",
      "[200]\tcv_agg's l2: 0.159862 + 0.0199099\n",
      "[300]\tcv_agg's l2: 0.160352 + 0.0207571\n"
     ]
    },
    {
     "name": "stderr",
     "output_type": "stream",
     "text": [
      "bagging, val_score: 0.159628:  20%|##########6                                          | 2/10 [00:05<00:22,  2.77s/it][I 2023-11-05 11:56:24,786] Trial 28 finished with value: 0.16036427633723313 and parameters: {'bagging_fraction': 0.9624542285398159, 'bagging_freq': 7}. Best is trial 28 with value: 0.16036427633723313.\n",
      "bagging, val_score: 0.159628:  20%|##########6                                          | 2/10 [00:05<00:22,  2.77s/it]"
     ]
    },
    {
     "name": "stdout",
     "output_type": "stream",
     "text": [
      "[400]\tcv_agg's l2: 0.160845 + 0.0220216\n",
      "Early stopping, best iteration is:\n",
      "[313]\tcv_agg's l2: 0.159628 + 0.0223021\n",
      "[100]\tcv_agg's l2: 0.164807 + 0.0201053\n",
      "[200]\tcv_agg's l2: 0.159507 + 0.0201805\n"
     ]
    },
    {
     "name": "stderr",
     "output_type": "stream",
     "text": [
      "bagging, val_score: 0.159507:  30%|###############9                                     | 3/10 [00:07<00:17,  2.46s/it][I 2023-11-05 11:56:26,878] Trial 29 finished with value: 0.15950669911594498 and parameters: {'bagging_fraction': 0.9705415325752935, 'bagging_freq': 7}. Best is trial 29 with value: 0.15950669911594498.\n",
      "bagging, val_score: 0.159507:  30%|###############9                                     | 3/10 [00:07<00:17,  2.46s/it]"
     ]
    },
    {
     "name": "stdout",
     "output_type": "stream",
     "text": [
      "[300]\tcv_agg's l2: 0.160543 + 0.020419\n",
      "Early stopping, best iteration is:\n",
      "[200]\tcv_agg's l2: 0.159507 + 0.0201805\n",
      "[100]\tcv_agg's l2: 0.166717 + 0.020627\n",
      "[200]\tcv_agg's l2: 0.162444 + 0.0210739\n"
     ]
    },
    {
     "name": "stderr",
     "output_type": "stream",
     "text": [
      "bagging, val_score: 0.159507:  40%|#####################2                               | 4/10 [00:09<00:13,  2.28s/it][I 2023-11-05 11:56:28,891] Trial 30 finished with value: 0.1624439342014549 and parameters: {'bagging_fraction': 0.9786285165533413, 'bagging_freq': 7}. Best is trial 29 with value: 0.15950669911594498.\n",
      "bagging, val_score: 0.159507:  40%|#####################2                               | 4/10 [00:09<00:13,  2.28s/it]"
     ]
    },
    {
     "name": "stdout",
     "output_type": "stream",
     "text": [
      "[300]\tcv_agg's l2: 0.161762 + 0.0210635\n",
      "Early stopping, best iteration is:\n",
      "[200]\tcv_agg's l2: 0.159507 + 0.0201805\n",
      "[100]\tcv_agg's l2: 0.163926 + 0.0192365\n",
      "[200]\tcv_agg's l2: 0.158411 + 0.0202278\n",
      "[300]\tcv_agg's l2: 0.157511 + 0.0208994\n"
     ]
    },
    {
     "name": "stderr",
     "output_type": "stream",
     "text": [
      "bagging, val_score: 0.157501:  50%|##########################5                          | 5/10 [00:12<00:12,  2.43s/it][I 2023-11-05 11:56:31,581] Trial 31 finished with value: 0.15750108505534052 and parameters: {'bagging_fraction': 0.9614038025881907, 'bagging_freq': 7}. Best is trial 31 with value: 0.15750108505534052.\n",
      "bagging, val_score: 0.157501:  50%|##########################5                          | 5/10 [00:12<00:12,  2.43s/it]"
     ]
    },
    {
     "name": "stdout",
     "output_type": "stream",
     "text": [
      "Early stopping, best iteration is:\n",
      "[299]\tcv_agg's l2: 0.157501 + 0.0209105\n",
      "[100]\tcv_agg's l2: 0.166275 + 0.0233109\n",
      "[200]\tcv_agg's l2: 0.161389 + 0.0221712\n",
      "[300]\tcv_agg's l2: 0.161647 + 0.0225315\n"
     ]
    },
    {
     "name": "stderr",
     "output_type": "stream",
     "text": [
      "bagging, val_score: 0.157501:  60%|###############################8                     | 6/10 [00:14<00:09,  2.48s/it][I 2023-11-05 11:56:34,157] Trial 32 finished with value: 0.16162770433206558 and parameters: {'bagging_fraction': 0.9827217555243598, 'bagging_freq': 7}. Best is trial 31 with value: 0.15750108505534052.\n",
      "bagging, val_score: 0.157501:  60%|###############################8                     | 6/10 [00:14<00:09,  2.48s/it]"
     ]
    },
    {
     "name": "stdout",
     "output_type": "stream",
     "text": [
      "Early stopping, best iteration is:\n",
      "[299]\tcv_agg's l2: 0.157501 + 0.0209105\n",
      "[100]\tcv_agg's l2: 0.165216 + 0.0204801\n",
      "[200]\tcv_agg's l2: 0.160777 + 0.0201794\n",
      "[300]\tcv_agg's l2: 0.161303 + 0.0211145\n"
     ]
    },
    {
     "name": "stderr",
     "output_type": "stream",
     "text": [
      "bagging, val_score: 0.157501:  70%|#####################################                | 7/10 [00:19<00:09,  3.12s/it][I 2023-11-05 11:56:38,594] Trial 33 finished with value: 0.16125704969365315 and parameters: {'bagging_fraction': 0.9649609409743395, 'bagging_freq': 7}. Best is trial 31 with value: 0.15750108505534052.\n",
      "bagging, val_score: 0.157501:  70%|#####################################                | 7/10 [00:19<00:09,  3.12s/it]"
     ]
    },
    {
     "name": "stdout",
     "output_type": "stream",
     "text": [
      "Early stopping, best iteration is:\n",
      "[299]\tcv_agg's l2: 0.157501 + 0.0209105\n",
      "[100]\tcv_agg's l2: 0.16449 + 0.0223714\n",
      "[200]\tcv_agg's l2: 0.157888 + 0.0179912\n"
     ]
    },
    {
     "name": "stderr",
     "output_type": "stream",
     "text": [
      "bagging, val_score: 0.157457:  80%|##########################################4          | 8/10 [00:21<00:05,  2.84s/it][I 2023-11-05 11:56:40,844] Trial 34 finished with value: 0.15745719743732148 and parameters: {'bagging_fraction': 0.8467319743744884, 'bagging_freq': 5}. Best is trial 34 with value: 0.15745719743732148.\n",
      "bagging, val_score: 0.157457:  80%|##########################################4          | 8/10 [00:21<00:05,  2.84s/it]"
     ]
    },
    {
     "name": "stdout",
     "output_type": "stream",
     "text": [
      "Early stopping, best iteration is:\n",
      "[180]\tcv_agg's l2: 0.157457 + 0.0187427\n",
      "[100]\tcv_agg's l2: 0.168738 + 0.0223137\n",
      "[200]\tcv_agg's l2: 0.164046 + 0.0186673\n"
     ]
    },
    {
     "name": "stderr",
     "output_type": "stream",
     "text": [
      "bagging, val_score: 0.157457:  90%|###############################################7     | 9/10 [00:23<00:02,  2.66s/it][I 2023-11-05 11:56:43,093] Trial 35 finished with value: 0.16407571359045164 and parameters: {'bagging_fraction': 0.809765209145539, 'bagging_freq': 5}. Best is trial 34 with value: 0.15745719743732148.\n",
      "bagging, val_score: 0.157457:  90%|###############################################7     | 9/10 [00:23<00:02,  2.66s/it]"
     ]
    },
    {
     "name": "stdout",
     "output_type": "stream",
     "text": [
      "Early stopping, best iteration is:\n",
      "[180]\tcv_agg's l2: 0.157457 + 0.0187427\n",
      "[100]\tcv_agg's l2: 0.169476 + 0.0232617\n",
      "[200]\tcv_agg's l2: 0.162758 + 0.0186583\n"
     ]
    },
    {
     "name": "stderr",
     "output_type": "stream",
     "text": [
      "bagging, val_score: 0.157457: 100%|####################################################| 10/10 [00:26<00:00,  2.60s/it][I 2023-11-05 11:56:45,567] Trial 36 finished with value: 0.16342209147788975 and parameters: {'bagging_fraction': 0.8305626389981082, 'bagging_freq': 5}. Best is trial 34 with value: 0.15745719743732148.\n",
      "bagging, val_score: 0.157457: 100%|####################################################| 10/10 [00:26<00:00,  2.63s/it]\n"
     ]
    },
    {
     "name": "stdout",
     "output_type": "stream",
     "text": [
      "Early stopping, best iteration is:\n",
      "[180]\tcv_agg's l2: 0.157457 + 0.0187427\n"
     ]
    },
    {
     "name": "stderr",
     "output_type": "stream",
     "text": [
      "feature_fraction_stage2, val_score: 0.157457:   0%|                                              | 0/3 [00:00<?, ?it/s]"
     ]
    },
    {
     "name": "stdout",
     "output_type": "stream",
     "text": [
      "[100]\tcv_agg's l2: 0.175658 + 0.0237592\n",
      "[200]\tcv_agg's l2: 0.168929 + 0.0221629\n"
     ]
    },
    {
     "name": "stderr",
     "output_type": "stream",
     "text": [
      "feature_fraction_stage2, val_score: 0.157457:  33%|############6                         | 1/3 [00:03<00:06,  3.11s/it][I 2023-11-05 11:56:48,690] Trial 37 finished with value: 0.16950837452985934 and parameters: {'feature_fraction': 0.44800000000000006}. Best is trial 37 with value: 0.16950837452985934.\n",
      "feature_fraction_stage2, val_score: 0.157457:  33%|############6                         | 1/3 [00:03<00:06,  3.11s/it]"
     ]
    },
    {
     "name": "stdout",
     "output_type": "stream",
     "text": [
      "Early stopping, best iteration is:\n",
      "[180]\tcv_agg's l2: 0.157457 + 0.0187427\n",
      "[100]\tcv_agg's l2: 0.175658 + 0.0237592\n",
      "[200]\tcv_agg's l2: 0.168929 + 0.0221629\n"
     ]
    },
    {
     "name": "stderr",
     "output_type": "stream",
     "text": [
      "feature_fraction_stage2, val_score: 0.157457:  67%|#########################3            | 2/3 [00:05<00:02,  2.56s/it][I 2023-11-05 11:56:50,864] Trial 38 finished with value: 0.16950837452985934 and parameters: {'feature_fraction': 0.48000000000000004}. Best is trial 37 with value: 0.16950837452985934.\n",
      "feature_fraction_stage2, val_score: 0.157457:  67%|#########################3            | 2/3 [00:05<00:02,  2.56s/it]"
     ]
    },
    {
     "name": "stdout",
     "output_type": "stream",
     "text": [
      "Early stopping, best iteration is:\n",
      "[180]\tcv_agg's l2: 0.157457 + 0.0187427\n",
      "[100]\tcv_agg's l2: 0.16449 + 0.0223714\n",
      "[200]\tcv_agg's l2: 0.157888 + 0.0179912\n"
     ]
    },
    {
     "name": "stderr",
     "output_type": "stream",
     "text": [
      "feature_fraction_stage2, val_score: 0.157457: 100%|######################################| 3/3 [00:07<00:00,  2.25s/it][I 2023-11-05 11:56:52,737] Trial 39 finished with value: 0.15745719743732148 and parameters: {'feature_fraction': 0.41600000000000004}. Best is trial 39 with value: 0.15745719743732148.\n",
      "feature_fraction_stage2, val_score: 0.157457: 100%|######################################| 3/3 [00:07<00:00,  2.39s/it]\n"
     ]
    },
    {
     "name": "stdout",
     "output_type": "stream",
     "text": [
      "Early stopping, best iteration is:\n",
      "[180]\tcv_agg's l2: 0.157457 + 0.0187427\n"
     ]
    },
    {
     "name": "stderr",
     "output_type": "stream",
     "text": [
      "regularization_factors, val_score: 0.157457:   0%|                                              | 0/20 [00:00<?, ?it/s]"
     ]
    },
    {
     "name": "stdout",
     "output_type": "stream",
     "text": [
      "[100]\tcv_agg's l2: 0.166033 + 0.0225443\n",
      "[200]\tcv_agg's l2: 0.158855 + 0.0186825\n"
     ]
    },
    {
     "name": "stderr",
     "output_type": "stream",
     "text": [
      "regularization_factors, val_score: 0.157457:   5%|#9                                    | 1/20 [00:02<00:48,  2.54s/it][I 2023-11-05 11:56:55,281] Trial 40 finished with value: 0.15908333014004172 and parameters: {'lambda_l1': 0.38344271743045144, 'lambda_l2': 0.012101853778680756}. Best is trial 40 with value: 0.15908333014004172.\n",
      "regularization_factors, val_score: 0.157457:   5%|#9                                    | 1/20 [00:02<00:48,  2.54s/it]"
     ]
    },
    {
     "name": "stdout",
     "output_type": "stream",
     "text": [
      "Early stopping, best iteration is:\n",
      "[180]\tcv_agg's l2: 0.157457 + 0.0187427\n",
      "[100]\tcv_agg's l2: 0.169153 + 0.0219094\n",
      "[200]\tcv_agg's l2: 0.161789 + 0.0200521\n"
     ]
    },
    {
     "name": "stderr",
     "output_type": "stream",
     "text": [
      "regularization_factors, val_score: 0.157457:  10%|###8                                  | 2/20 [00:05<00:47,  2.61s/it][I 2023-11-05 11:56:57,948] Trial 41 finished with value: 0.1624430617798745 and parameters: {'lambda_l1': 1.5815242540549026, 'lambda_l2': 0.009833762515662463}. Best is trial 40 with value: 0.15908333014004172.\n",
      "regularization_factors, val_score: 0.157457:  10%|###8                                  | 2/20 [00:05<00:47,  2.61s/it]"
     ]
    },
    {
     "name": "stdout",
     "output_type": "stream",
     "text": [
      "Early stopping, best iteration is:\n",
      "[180]\tcv_agg's l2: 0.157457 + 0.0187427\n",
      "[100]\tcv_agg's l2: 0.176357 + 0.0242541\n",
      "[200]\tcv_agg's l2: 0.165044 + 0.021093\n"
     ]
    },
    {
     "name": "stderr",
     "output_type": "stream",
     "text": [
      "regularization_factors, val_score: 0.157457:  15%|#####7                                | 3/20 [00:07<00:43,  2.53s/it][I 2023-11-05 11:57:00,382] Trial 42 finished with value: 0.1662886565098179 and parameters: {'lambda_l1': 1.0451068238565348e-08, 'lambda_l2': 8.958964953339223}. Best is trial 40 with value: 0.15908333014004172.\n",
      "regularization_factors, val_score: 0.157457:  15%|#####7                                | 3/20 [00:07<00:43,  2.53s/it]"
     ]
    },
    {
     "name": "stdout",
     "output_type": "stream",
     "text": [
      "Early stopping, best iteration is:\n",
      "[180]\tcv_agg's l2: 0.157457 + 0.0187427\n",
      "[100]\tcv_agg's l2: 0.181519 + 0.0241297\n",
      "[200]\tcv_agg's l2: 0.173022 + 0.0224684\n"
     ]
    },
    {
     "name": "stderr",
     "output_type": "stream",
     "text": [
      "regularization_factors, val_score: 0.157457:  20%|#######6                              | 4/20 [00:08<00:31,  1.98s/it][I 2023-11-05 11:57:01,522] Trial 43 finished with value: 0.17426729790248383 and parameters: {'lambda_l1': 3.124390369958798, 'lambda_l2': 1.0664027634899714e-08}. Best is trial 40 with value: 0.15908333014004172.\n",
      "regularization_factors, val_score: 0.157457:  20%|#######6                              | 4/20 [00:08<00:31,  1.98s/it]"
     ]
    },
    {
     "name": "stdout",
     "output_type": "stream",
     "text": [
      "Early stopping, best iteration is:\n",
      "[180]\tcv_agg's l2: 0.157457 + 0.0187427\n",
      "[100]\tcv_agg's l2: 0.163611 + 0.0221343\n",
      "[200]\tcv_agg's l2: 0.156861 + 0.0185636\n",
      "[300]\tcv_agg's l2: 0.155851 + 0.0174546\n",
      "[400]\tcv_agg's l2: 0.156161 + 0.0163024\n"
     ]
    },
    {
     "name": "stderr",
     "output_type": "stream",
     "text": [
      "regularization_factors, val_score: 0.155535:  25%|#########5                            | 5/20 [00:12<00:37,  2.49s/it][I 2023-11-05 11:57:04,907] Trial 44 finished with value: 0.155534618294859 and parameters: {'lambda_l1': 0.001260361002618118, 'lambda_l2': 0.0007982138969493393}. Best is trial 44 with value: 0.155534618294859.\n",
      "regularization_factors, val_score: 0.155535:  25%|#########5                            | 5/20 [00:12<00:37,  2.49s/it]"
     ]
    },
    {
     "name": "stdout",
     "output_type": "stream",
     "text": [
      "[500]\tcv_agg's l2: 0.15666 + 0.0169884\n",
      "Early stopping, best iteration is:\n",
      "[410]\tcv_agg's l2: 0.155535 + 0.0164663\n",
      "[100]\tcv_agg's l2: 0.16421 + 0.0225199\n",
      "[200]\tcv_agg's l2: 0.159041 + 0.0190277\n",
      "[300]\tcv_agg's l2: 0.158421 + 0.0176813\n",
      "[400]\tcv_agg's l2: 0.158658 + 0.0167148\n"
     ]
    },
    {
     "name": "stderr",
     "output_type": "stream",
     "text": [
      "regularization_factors, val_score: 0.155535:  30%|###########4                          | 6/20 [00:15<00:39,  2.82s/it][I 2023-11-05 11:57:08,359] Trial 45 finished with value: 0.15783612182005985 and parameters: {'lambda_l1': 0.0027984811773716, 'lambda_l2': 0.0014210698588914897}. Best is trial 44 with value: 0.155534618294859.\n",
      "regularization_factors, val_score: 0.155535:  30%|###########4                          | 6/20 [00:15<00:39,  2.82s/it]"
     ]
    },
    {
     "name": "stdout",
     "output_type": "stream",
     "text": [
      "[500]\tcv_agg's l2: 0.158969 + 0.0165467\n",
      "Early stopping, best iteration is:\n",
      "[410]\tcv_agg's l2: 0.155535 + 0.0164663\n",
      "[100]\tcv_agg's l2: 0.164572 + 0.0216926\n",
      "[200]\tcv_agg's l2: 0.157716 + 0.0192502\n",
      "[300]\tcv_agg's l2: 0.158245 + 0.0173021\n",
      "[400]\tcv_agg's l2: 0.159016 + 0.0159544\n"
     ]
    },
    {
     "name": "stderr",
     "output_type": "stream",
     "text": [
      "regularization_factors, val_score: 0.155535:  35%|#############3                        | 7/20 [00:18<00:38,  2.93s/it][I 2023-11-05 11:57:11,515] Trial 46 finished with value: 0.15841295926912952 and parameters: {'lambda_l1': 0.0003457631146701065, 'lambda_l2': 0.00011311185941856742}. Best is trial 44 with value: 0.155534618294859.\n",
      "regularization_factors, val_score: 0.155535:  35%|#############3                        | 7/20 [00:18<00:38,  2.93s/it]"
     ]
    },
    {
     "name": "stdout",
     "output_type": "stream",
     "text": [
      "[500]\tcv_agg's l2: 0.159781 + 0.0158536\n",
      "Early stopping, best iteration is:\n",
      "[410]\tcv_agg's l2: 0.155535 + 0.0164663\n",
      "[100]\tcv_agg's l2: 0.164152 + 0.0213192\n",
      "[200]\tcv_agg's l2: 0.157351 + 0.0190603\n",
      "[300]\tcv_agg's l2: 0.157311 + 0.0168368\n",
      "[400]\tcv_agg's l2: 0.158374 + 0.0155101\n"
     ]
    },
    {
     "name": "stderr",
     "output_type": "stream",
     "text": [
      "regularization_factors, val_score: 0.155535:  40%|###############2                      | 8/20 [00:22<00:36,  3.07s/it][I 2023-11-05 11:57:14,898] Trial 47 finished with value: 0.15760649781997857 and parameters: {'lambda_l1': 0.0006015708261242648, 'lambda_l2': 0.00016210222550920448}. Best is trial 44 with value: 0.155534618294859.\n",
      "regularization_factors, val_score: 0.155535:  40%|###############2                      | 8/20 [00:22<00:36,  3.07s/it]"
     ]
    },
    {
     "name": "stdout",
     "output_type": "stream",
     "text": [
      "[500]\tcv_agg's l2: 0.158867 + 0.0155092\n",
      "Early stopping, best iteration is:\n",
      "[410]\tcv_agg's l2: 0.155535 + 0.0164663\n",
      "[100]\tcv_agg's l2: 0.16448 + 0.0223723\n",
      "[200]\tcv_agg's l2: 0.15706 + 0.0181037\n",
      "[300]\tcv_agg's l2: 0.157006 + 0.0168934\n",
      "[400]\tcv_agg's l2: 0.156847 + 0.0152284\n"
     ]
    },
    {
     "name": "stderr",
     "output_type": "stream",
     "text": [
      "regularization_factors, val_score: 0.155535:  45%|#################1                    | 9/20 [00:26<00:36,  3.32s/it][I 2023-11-05 11:57:18,772] Trial 48 finished with value: 0.15641201191293735 and parameters: {'lambda_l1': 1.3690476403135295e-05, 'lambda_l2': 2.7756637686540738e-05}. Best is trial 44 with value: 0.155534618294859.\n",
      "regularization_factors, val_score: 0.155535:  45%|#################1                    | 9/20 [00:26<00:36,  3.32s/it]"
     ]
    },
    {
     "name": "stdout",
     "output_type": "stream",
     "text": [
      "[500]\tcv_agg's l2: 0.157441 + 0.0152151\n",
      "Early stopping, best iteration is:\n",
      "[410]\tcv_agg's l2: 0.155535 + 0.0164663\n",
      "[100]\tcv_agg's l2: 0.16449 + 0.0223714\n",
      "[200]\tcv_agg's l2: 0.157959 + 0.0180178\n",
      "[300]\tcv_agg's l2: 0.157722 + 0.0168026\n",
      "[400]\tcv_agg's l2: 0.157332 + 0.015134\n"
     ]
    },
    {
     "name": "stderr",
     "output_type": "stream",
     "text": [
      "regularization_factors, val_score: 0.155535:  50%|##################5                  | 10/20 [00:30<00:37,  3.77s/it][I 2023-11-05 11:57:23,541] Trial 49 finished with value: 0.15675616434722953 and parameters: {'lambda_l1': 2.806731965278332e-06, 'lambda_l2': 4.4513021726506194e-06}. Best is trial 44 with value: 0.155534618294859.\n",
      "regularization_factors, val_score: 0.155535:  50%|##################5                  | 10/20 [00:30<00:37,  3.77s/it]"
     ]
    },
    {
     "name": "stdout",
     "output_type": "stream",
     "text": [
      "[500]\tcv_agg's l2: 0.157727 + 0.0152829\n",
      "Early stopping, best iteration is:\n",
      "[410]\tcv_agg's l2: 0.155535 + 0.0164663\n",
      "[100]\tcv_agg's l2: 0.16449 + 0.0223714\n",
      "[200]\tcv_agg's l2: 0.157959 + 0.0180178\n",
      "[300]\tcv_agg's l2: 0.157722 + 0.0168026\n",
      "[400]\tcv_agg's l2: 0.157332 + 0.015134\n"
     ]
    },
    {
     "name": "stderr",
     "output_type": "stream",
     "text": [
      "regularization_factors, val_score: 0.155535:  55%|####################3                | 11/20 [00:34<00:32,  3.65s/it][I 2023-11-05 11:57:26,919] Trial 50 finished with value: 0.15675616450932842 and parameters: {'lambda_l1': 2.8431501082062115e-06, 'lambda_l2': 4.117948793577285e-06}. Best is trial 44 with value: 0.155534618294859.\n",
      "regularization_factors, val_score: 0.155535:  55%|####################3                | 11/20 [00:34<00:32,  3.65s/it]"
     ]
    },
    {
     "name": "stdout",
     "output_type": "stream",
     "text": [
      "[500]\tcv_agg's l2: 0.157727 + 0.0152829\n",
      "Early stopping, best iteration is:\n",
      "[410]\tcv_agg's l2: 0.155535 + 0.0164663\n",
      "[100]\tcv_agg's l2: 0.16449 + 0.0223714\n",
      "[200]\tcv_agg's l2: 0.157959 + 0.0180178\n",
      "[300]\tcv_agg's l2: 0.157722 + 0.0168026\n",
      "[400]\tcv_agg's l2: 0.157332 + 0.015134\n"
     ]
    },
    {
     "name": "stderr",
     "output_type": "stream",
     "text": [
      "regularization_factors, val_score: 0.155535:  60%|######################2              | 12/20 [00:37<00:29,  3.65s/it][I 2023-11-05 11:57:30,567] Trial 51 finished with value: 0.15675616639635268 and parameters: {'lambda_l1': 2.4857630233230205e-06, 'lambda_l2': 3.1305524109092387e-06}. Best is trial 44 with value: 0.155534618294859.\n",
      "regularization_factors, val_score: 0.155535:  60%|######################2              | 12/20 [00:37<00:29,  3.65s/it]"
     ]
    },
    {
     "name": "stdout",
     "output_type": "stream",
     "text": [
      "[500]\tcv_agg's l2: 0.157727 + 0.0152829\n",
      "Early stopping, best iteration is:\n",
      "[410]\tcv_agg's l2: 0.155535 + 0.0164663\n",
      "[100]\tcv_agg's l2: 0.16449 + 0.0223714\n",
      "[200]\tcv_agg's l2: 0.157959 + 0.0180178\n",
      "[300]\tcv_agg's l2: 0.157722 + 0.0168026\n",
      "[400]\tcv_agg's l2: 0.157332 + 0.015134\n"
     ]
    },
    {
     "name": "stderr",
     "output_type": "stream",
     "text": [
      "regularization_factors, val_score: 0.155535:  65%|########################             | 13/20 [00:41<00:24,  3.51s/it][I 2023-11-05 11:57:33,750] Trial 52 finished with value: 0.15675616376703877 and parameters: {'lambda_l1': 2.6697619516265697e-06, 'lambda_l2': 5.681681995628366e-06}. Best is trial 44 with value: 0.155534618294859.\n",
      "regularization_factors, val_score: 0.155535:  65%|########################             | 13/20 [00:41<00:24,  3.51s/it]"
     ]
    },
    {
     "name": "stdout",
     "output_type": "stream",
     "text": [
      "[500]\tcv_agg's l2: 0.157727 + 0.0152829\n",
      "Early stopping, best iteration is:\n",
      "[410]\tcv_agg's l2: 0.155535 + 0.0164663\n",
      "[100]\tcv_agg's l2: 0.16449 + 0.0223714\n",
      "[200]\tcv_agg's l2: 0.157959 + 0.0180178\n",
      "[300]\tcv_agg's l2: 0.157722 + 0.0168026\n",
      "[400]\tcv_agg's l2: 0.157332 + 0.015134\n"
     ]
    },
    {
     "name": "stderr",
     "output_type": "stream",
     "text": [
      "regularization_factors, val_score: 0.155535:  70%|#########################9           | 14/20 [00:44<00:21,  3.52s/it][I 2023-11-05 11:57:37,311] Trial 53 finished with value: 0.15675616436947482 and parameters: {'lambda_l1': 2.851620425344046e-06, 'lambda_l2': 4.216384587098975e-06}. Best is trial 44 with value: 0.155534618294859.\n",
      "regularization_factors, val_score: 0.155535:  70%|#########################9           | 14/20 [00:44<00:21,  3.52s/it]"
     ]
    },
    {
     "name": "stdout",
     "output_type": "stream",
     "text": [
      "[500]\tcv_agg's l2: 0.157727 + 0.0152829\n",
      "Early stopping, best iteration is:\n",
      "[410]\tcv_agg's l2: 0.155535 + 0.0164663\n",
      "[100]\tcv_agg's l2: 0.16449 + 0.0223714\n",
      "[200]\tcv_agg's l2: 0.157959 + 0.0180178\n",
      "[300]\tcv_agg's l2: 0.157722 + 0.0168026\n",
      "[400]\tcv_agg's l2: 0.157332 + 0.015134\n"
     ]
    },
    {
     "name": "stderr",
     "output_type": "stream",
     "text": [
      "regularization_factors, val_score: 0.155535:  75%|###########################7         | 15/20 [00:49<00:19,  3.80s/it][I 2023-11-05 11:57:41,757] Trial 54 finished with value: 0.15675615894360387 and parameters: {'lambda_l1': 4.118726808835324e-06, 'lambda_l2': 6.0641265297040115e-06}. Best is trial 44 with value: 0.155534618294859.\n",
      "regularization_factors, val_score: 0.155535:  75%|###########################7         | 15/20 [00:49<00:19,  3.80s/it]"
     ]
    },
    {
     "name": "stdout",
     "output_type": "stream",
     "text": [
      "[500]\tcv_agg's l2: 0.157727 + 0.0152829\n",
      "Early stopping, best iteration is:\n",
      "[410]\tcv_agg's l2: 0.155535 + 0.0164663\n",
      "[100]\tcv_agg's l2: 0.16449 + 0.0223714\n",
      "[200]\tcv_agg's l2: 0.157959 + 0.0180178\n",
      "[300]\tcv_agg's l2: 0.157722 + 0.0168026\n",
      "[400]\tcv_agg's l2: 0.157332 + 0.015134\n"
     ]
    },
    {
     "name": "stderr",
     "output_type": "stream",
     "text": [
      "regularization_factors, val_score: 0.155535:  80%|#############################6       | 16/20 [00:52<00:14,  3.67s/it][I 2023-11-05 11:57:45,127] Trial 55 finished with value: 0.15675616020342792 and parameters: {'lambda_l1': 3.780641514245861e-06, 'lambda_l2': 5.347144189346892e-06}. Best is trial 44 with value: 0.155534618294859.\n",
      "regularization_factors, val_score: 0.155535:  80%|#############################6       | 16/20 [00:52<00:14,  3.67s/it]"
     ]
    },
    {
     "name": "stdout",
     "output_type": "stream",
     "text": [
      "[500]\tcv_agg's l2: 0.157727 + 0.0152829\n",
      "Early stopping, best iteration is:\n",
      "[410]\tcv_agg's l2: 0.155535 + 0.0164663\n",
      "[100]\tcv_agg's l2: 0.16448 + 0.0223723\n",
      "[200]\tcv_agg's l2: 0.15706 + 0.0181037\n",
      "[300]\tcv_agg's l2: 0.157006 + 0.0168934\n",
      "[400]\tcv_agg's l2: 0.156829 + 0.0152138\n"
     ]
    },
    {
     "name": "stderr",
     "output_type": "stream",
     "text": [
      "regularization_factors, val_score: 0.155535:  85%|###############################4     | 17/20 [00:55<00:10,  3.54s/it][I 2023-11-05 11:57:48,361] Trial 56 finished with value: 0.15646751693234173 and parameters: {'lambda_l1': 6.714311235491351e-06, 'lambda_l2': 7.336440760377906e-06}. Best is trial 44 with value: 0.155534618294859.\n",
      "regularization_factors, val_score: 0.155535:  85%|###############################4     | 17/20 [00:55<00:10,  3.54s/it]"
     ]
    },
    {
     "name": "stdout",
     "output_type": "stream",
     "text": [
      "[500]\tcv_agg's l2: 0.157653 + 0.0154313\n",
      "Early stopping, best iteration is:\n",
      "[410]\tcv_agg's l2: 0.155535 + 0.0164663\n",
      "[100]\tcv_agg's l2: 0.16448 + 0.0223723\n",
      "[200]\tcv_agg's l2: 0.15706 + 0.0181037\n",
      "[300]\tcv_agg's l2: 0.157006 + 0.0168934\n",
      "[400]\tcv_agg's l2: 0.156847 + 0.0152284\n"
     ]
    },
    {
     "name": "stderr",
     "output_type": "stream",
     "text": [
      "regularization_factors, val_score: 0.155535:  90%|#################################3   | 18/20 [00:58<00:06,  3.41s/it][I 2023-11-05 11:57:51,456] Trial 57 finished with value: 0.15641200539281633 and parameters: {'lambda_l1': 1.7732466458747068e-05, 'lambda_l2': 1.4856254815986923e-05}. Best is trial 44 with value: 0.155534618294859.\n",
      "regularization_factors, val_score: 0.155535:  90%|#################################3   | 18/20 [00:58<00:06,  3.41s/it]"
     ]
    },
    {
     "name": "stdout",
     "output_type": "stream",
     "text": [
      "[500]\tcv_agg's l2: 0.157441 + 0.0152151\n",
      "Early stopping, best iteration is:\n",
      "[410]\tcv_agg's l2: 0.155535 + 0.0164663\n",
      "[100]\tcv_agg's l2: 0.16448 + 0.0223723\n",
      "[200]\tcv_agg's l2: 0.15706 + 0.0181038\n",
      "[300]\tcv_agg's l2: 0.157006 + 0.0168934\n",
      "[400]\tcv_agg's l2: 0.15701 + 0.015218\n"
     ]
    },
    {
     "name": "stderr",
     "output_type": "stream",
     "text": [
      "regularization_factors, val_score: 0.155535:  95%|###################################1 | 19/20 [01:01<00:03,  3.36s/it][I 2023-11-05 11:57:54,705] Trial 58 finished with value: 0.15658681461599172 and parameters: {'lambda_l1': 2.791871354313497e-05, 'lambda_l2': 2.766672263995367e-05}. Best is trial 44 with value: 0.155534618294859.\n",
      "regularization_factors, val_score: 0.155535:  95%|###################################1 | 19/20 [01:01<00:03,  3.36s/it]"
     ]
    },
    {
     "name": "stdout",
     "output_type": "stream",
     "text": [
      "[500]\tcv_agg's l2: 0.158129 + 0.0151877\n",
      "Early stopping, best iteration is:\n",
      "[410]\tcv_agg's l2: 0.155535 + 0.0164663\n",
      "[100]\tcv_agg's l2: 0.164508 + 0.0223876\n",
      "[200]\tcv_agg's l2: 0.156677 + 0.0179544\n",
      "[300]\tcv_agg's l2: 0.15605 + 0.0162984\n",
      "[400]\tcv_agg's l2: 0.156325 + 0.0147211\n"
     ]
    },
    {
     "name": "stderr",
     "output_type": "stream",
     "text": [
      "regularization_factors, val_score: 0.155535: 100%|#####################################| 20/20 [01:05<00:00,  3.32s/it][I 2023-11-05 11:57:57,939] Trial 59 finished with value: 0.15587926802387497 and parameters: {'lambda_l1': 3.900291401578224e-05, 'lambda_l2': 0.0001034203854527169}. Best is trial 44 with value: 0.155534618294859.\n",
      "regularization_factors, val_score: 0.155535: 100%|#####################################| 20/20 [01:05<00:00,  3.26s/it]\n"
     ]
    },
    {
     "name": "stdout",
     "output_type": "stream",
     "text": [
      "[500]\tcv_agg's l2: 0.157496 + 0.0146252\n",
      "Early stopping, best iteration is:\n",
      "[410]\tcv_agg's l2: 0.155535 + 0.0164663\n"
     ]
    },
    {
     "name": "stderr",
     "output_type": "stream",
     "text": [
      "min_data_in_leaf, val_score: 0.155535:   0%|                                                     | 0/5 [00:00<?, ?it/s]"
     ]
    },
    {
     "name": "stdout",
     "output_type": "stream",
     "text": [
      "[100]\tcv_agg's l2: 0.147975 + 0.0237473\n",
      "[200]\tcv_agg's l2: 0.142808 + 0.0213842\n",
      "[300]\tcv_agg's l2: 0.14183 + 0.0217487\n",
      "[400]\tcv_agg's l2: 0.142242 + 0.0205456\n"
     ]
    },
    {
     "name": "stderr",
     "output_type": "stream",
     "text": [
      "min_data_in_leaf, val_score: 0.141526:  20%|#########                                    | 1/5 [00:03<00:14,  3.52s/it][I 2023-11-05 11:58:01,471] Trial 60 finished with value: 0.14152569145764993 and parameters: {'min_child_samples': 5}. Best is trial 60 with value: 0.14152569145764993.\n",
      "min_data_in_leaf, val_score: 0.141526:  20%|#########                                    | 1/5 [00:03<00:14,  3.52s/it]"
     ]
    },
    {
     "name": "stdout",
     "output_type": "stream",
     "text": [
      "Early stopping, best iteration is:\n",
      "[349]\tcv_agg's l2: 0.141526 + 0.0210292\n",
      "[100]\tcv_agg's l2: 0.149741 + 0.0241705\n",
      "[200]\tcv_agg's l2: 0.145227 + 0.0210122\n",
      "[300]\tcv_agg's l2: 0.144178 + 0.0212226\n",
      "[400]\tcv_agg's l2: 0.144701 + 0.0206527\n"
     ]
    },
    {
     "name": "stderr",
     "output_type": "stream",
     "text": [
      "min_data_in_leaf, val_score: 0.141526:  40%|##################                           | 2/5 [00:06<00:09,  3.12s/it][I 2023-11-05 11:58:04,314] Trial 61 finished with value: 0.14437514674190108 and parameters: {'min_child_samples': 10}. Best is trial 60 with value: 0.14152569145764993.\n",
      "min_data_in_leaf, val_score: 0.141526:  40%|##################                           | 2/5 [00:06<00:09,  3.12s/it]"
     ]
    },
    {
     "name": "stdout",
     "output_type": "stream",
     "text": [
      "Early stopping, best iteration is:\n",
      "[349]\tcv_agg's l2: 0.141526 + 0.0210292\n",
      "[100]\tcv_agg's l2: 0.925012 + 0.164708\n",
      "[200]\tcv_agg's l2: 0.881946 + 0.15524\n",
      "[300]\tcv_agg's l2: 0.863683 + 0.152259\n"
     ]
    },
    {
     "name": "stderr",
     "output_type": "stream",
     "text": [
      "min_data_in_leaf, val_score: 0.141526:  60%|###########################                  | 3/5 [00:07<00:04,  2.24s/it][I 2023-11-05 11:58:05,511] Trial 62 finished with value: 0.8617210257405208 and parameters: {'min_child_samples': 100}. Best is trial 60 with value: 0.14152569145764993.\n",
      "min_data_in_leaf, val_score: 0.141526:  60%|###########################                  | 3/5 [00:07<00:04,  2.24s/it]"
     ]
    },
    {
     "name": "stdout",
     "output_type": "stream",
     "text": [
      "[400]\tcv_agg's l2: 0.852333 + 0.150051\n",
      "Early stopping, best iteration is:\n",
      "[349]\tcv_agg's l2: 0.141526 + 0.0210292\n",
      "[100]\tcv_agg's l2: 0.269651 + 0.0454508\n",
      "[200]\tcv_agg's l2: 0.253016 + 0.0506443\n",
      "[300]\tcv_agg's l2: 0.245083 + 0.0515958\n"
     ]
    },
    {
     "name": "stderr",
     "output_type": "stream",
     "text": [
      "\r",
      "min_data_in_leaf, val_score: 0.141526:  60%|###########################                  | 3/5 [00:09<00:04,  2.24s/it]"
     ]
    },
    {
     "name": "stdout",
     "output_type": "stream",
     "text": [
      "[400]\tcv_agg's l2: 0.241809 + 0.0528309\n",
      "Early stopping, best iteration is:\n",
      "[349]\tcv_agg's l2: 0.141526 + 0.0210292\n"
     ]
    },
    {
     "name": "stderr",
     "output_type": "stream",
     "text": [
      "min_data_in_leaf, val_score: 0.141526:  80%|####################################         | 4/5 [00:09<00:02,  2.10s/it][I 2023-11-05 11:58:07,383] Trial 63 finished with value: 0.24199130135455 and parameters: {'min_child_samples': 50}. Best is trial 60 with value: 0.14152569145764993.\n",
      "min_data_in_leaf, val_score: 0.141526:  80%|####################################         | 4/5 [00:09<00:02,  2.10s/it]"
     ]
    },
    {
     "name": "stdout",
     "output_type": "stream",
     "text": [
      "[100]\tcv_agg's l2: 0.175561 + 0.0244155\n",
      "[200]\tcv_agg's l2: 0.171495 + 0.020947\n",
      "[300]\tcv_agg's l2: 0.170914 + 0.0187882\n",
      "[400]\tcv_agg's l2: 0.171588 + 0.0162287\n"
     ]
    },
    {
     "name": "stderr",
     "output_type": "stream",
     "text": [
      "min_data_in_leaf, val_score: 0.141526: 100%|#############################################| 5/5 [00:12<00:00,  2.32s/it][I 2023-11-05 11:58:10,107] Trial 64 finished with value: 0.17139354138999732 and parameters: {'min_child_samples': 25}. Best is trial 60 with value: 0.14152569145764993.\n",
      "min_data_in_leaf, val_score: 0.141526: 100%|#############################################| 5/5 [00:12<00:00,  2.43s/it]"
     ]
    },
    {
     "name": "stdout",
     "output_type": "stream",
     "text": [
      "Early stopping, best iteration is:\n",
      "[349]\tcv_agg's l2: 0.141526 + 0.0210292\n"
     ]
    },
    {
     "name": "stderr",
     "output_type": "stream",
     "text": [
      "\n"
     ]
    }
   ],
   "source": [
    "import optuna.integration.lightgbm as lgb\n",
    "from lightgbm import early_stopping, log_evaluation\n",
    "from sklearn.model_selection import KFold\n",
    "from sklearn.model_selection import RepeatedKFold\n",
    "\n",
    "\n",
    "lgb_train = lgb.Dataset(X_train, y_train)\n",
    "\n",
    "params = {\n",
    "    \"boosting_type\": \"gbdt\",\n",
    "    \"objective\": \"regression\",\n",
    "    \"metric\": \"l2\",\n",
    "    \"verbosity\": -1,\n",
    "}\n",
    "\n",
    "tuner = lgb.LightGBMTunerCV(\n",
    "    params,\n",
    "    lgb_train,\n",
    "    folds=KFold(n_splits=5),\n",
    "    num_boost_round=10000,\n",
    "    callbacks=[early_stopping(100), log_evaluation(100)],\n",
    ")\n",
    "\n",
    "tuner.run()"
   ]
  },
  {
   "cell_type": "code",
   "execution_count": 23,
   "id": "8406fc3e",
   "metadata": {},
   "outputs": [
    {
     "name": "stdout",
     "output_type": "stream",
     "text": [
      "Best score: 0.14152569145764993\n",
      "Params: \n",
      "    boosting_type: gbdt\n",
      "    objective: regression\n",
      "    metric: l2\n",
      "    verbosity: -1\n",
      "    feature_pre_filter: False\n",
      "    lambda_l1: 0.001260361002618118\n",
      "    lambda_l2: 0.0007982138969493393\n",
      "    num_leaves: 14\n",
      "    feature_fraction: 0.4\n",
      "    bagging_fraction: 0.8467319743744884\n",
      "    bagging_freq: 5\n",
      "    min_child_samples: 5\n"
     ]
    }
   ],
   "source": [
    "print(f\"Best score: {tuner.best_score}\")\n",
    "best_params = tuner.best_params\n",
    "print(\"Params: \")\n",
    "for key, value in best_params.items():\n",
    "    print(\"    {}: {}\".format(key, value))"
   ]
  },
  {
   "cell_type": "code",
   "execution_count": 24,
   "id": "880974ce",
   "metadata": {},
   "outputs": [],
   "source": [
    "import lightgbm as lgb\n",
    "\n",
    "lgb_tuned = lgb.train(\n",
    "    best_params,\n",
    "    lgb_train,\n",
    "    num_boost_round=10000,\n",
    ")"
   ]
  },
  {
   "cell_type": "code",
   "execution_count": 25,
   "id": "53d87b2c",
   "metadata": {},
   "outputs": [
    {
     "name": "stdout",
     "output_type": "stream",
     "text": [
      "RMSE train: 0.00\n",
      "RMSE test: 0.45\n",
      "MSE test: 0.20\n",
      "MAE test: 0.32\n",
      "\n"
     ]
    }
   ],
   "source": [
    "rmse, mse, mae = assess_regression_model(lgb_tuned, X_train, X_test, y_train, y_test)"
   ]
  },
  {
   "cell_type": "code",
   "execution_count": 26,
   "id": "843255bc",
   "metadata": {},
   "outputs": [],
   "source": [
    "results.loc[1] = [\n",
    "    \"chronological\",\n",
    "    \"Optuna\",\n",
    "    \"expanded\",\n",
    "    mse,\n",
    "    rmse,\n",
    "    mae,\n",
    "]"
   ]
  },
  {
   "cell_type": "markdown",
   "id": "1c9ef70d",
   "metadata": {},
   "source": [
    "###### MAE by level"
   ]
  },
  {
   "cell_type": "code",
   "execution_count": 27,
   "id": "eab77fc8",
   "metadata": {},
   "outputs": [
    {
     "data": {
      "image/png": "[encoded data removed]",
      "text/plain": [
       "<Figure size 720x432 with 1 Axes>"
      ]
     },
     "metadata": {
      "needs_background": "light"
     },
     "output_type": "display_data"
    }
   ],
   "source": [
    "plot_mae_by_level(\n",
    "    y_test,\n",
    "    y_pred_test,\n",
    "    title=\"MAE by level for tuned LightGBM with expanded features and chronological split\",\n",
    ")"
   ]
  },
  {
   "cell_type": "code",
   "execution_count": 28,
   "id": "778f84c5",
   "metadata": {},
   "outputs": [
    {
     "name": "stdout",
     "output_type": "stream",
     "text": [
      "Default:\n",
      "MSE: 0.20\n",
      "RMSE: 0.45\n",
      "\n",
      "Round type: round\n",
      "MSE: 0.24\n",
      "RMSE: 0.49\n",
      "\n",
      "Round type: 0.33\n",
      "MSE: 0.26\n",
      "RMSE: 0.51\n",
      "\n",
      "Round type: 0.45\n",
      "MSE: 0.21\n",
      "RMSE: 0.46\n",
      "\n"
     ]
    }
   ],
   "source": [
    "predict = lgb_tuned.predict(X_test)\n",
    "check_round_predictions([\"round\", 0.33, 0.45], y_test, predict)"
   ]
  },
  {
   "cell_type": "code",
   "execution_count": 29,
   "id": "7823441a",
   "metadata": {},
   "outputs": [
    {
     "data": {
      "image/png": "[encoded data removed]",
      "text/plain": [
       "<Figure size 432x288 with 2 Axes>"
      ]
     },
     "metadata": {
      "needs_background": "light"
     },
     "output_type": "display_data"
    }
   ],
   "source": [
    "plot_confusion_matrix(\n",
    "    \"round\",\n",
    "    predict,\n",
    "    y_test,\n",
    "    title=\"Confusion matrix for tuned LightGBM with expanded features and chronological split\",\n",
    ")"
   ]
  },
  {
   "cell_type": "markdown",
   "id": "35088cc9",
   "metadata": {},
   "source": [
    "## Random split"
   ]
  },
  {
   "cell_type": "code",
   "execution_count": 30,
   "id": "692c4056",
   "metadata": {},
   "outputs": [
    {
     "name": "stdout",
     "output_type": "stream",
     "text": [
      "[LightGBM] [Warning] Auto-choosing col-wise multi-threading, the overhead of testing was 0.000480 seconds.\n",
      "You can set `force_col_wise=true` to remove the overhead.\n",
      "[LightGBM] [Info] Total Bins 392\n",
      "[LightGBM] [Info] Number of data points in the train set: 904, number of used features: 13\n",
      "[LightGBM] [Info] Start training from score 7.162611\n",
      "Training until validation scores don't improve for 5 rounds\n",
      "Early stopping, best iteration is:\n",
      "[88]\tvalid_0's l2: 0.148111\tvalid_0's l1: 0.267273\n"
     ]
    }
   ],
   "source": [
    "import lightgbm as lgb\n",
    "from sklearn.metrics import mean_squared_error\n",
    "\n",
    "lgb_train = lgb.Dataset(X_train_random_split, y_train_random_split)\n",
    "lgb_eval = lgb.Dataset(X_test_random_split, y_test_random_split, reference=lgb_train)\n",
    "\n",
    "params = {\n",
    "    \"boosting_type\": \"gbdt\",\n",
    "    \"objective\": \"regression\",\n",
    "    \"metric\": {\"l2\", \"l1\"},\n",
    "}\n",
    "\n",
    "gbm = lgb.train(\n",
    "    params,\n",
    "    lgb_train,\n",
    "    num_boost_round=100,\n",
    "    valid_sets=lgb_eval,\n",
    "    callbacks=[lgb.early_stopping(stopping_rounds=5)],\n",
    ")"
   ]
  },
  {
   "cell_type": "code",
   "execution_count": 31,
   "id": "24879a40",
   "metadata": {},
   "outputs": [],
   "source": [
    "y_pred_train = gbm.predict(X_train_random_split, num_iteration=gbm.best_iteration)\n",
    "y_pred_test = gbm.predict(X_test_random_split, num_iteration=gbm.best_iteration)"
   ]
  },
  {
   "cell_type": "code",
   "execution_count": 32,
   "id": "b5a760c1",
   "metadata": {},
   "outputs": [
    {
     "name": "stdout",
     "output_type": "stream",
     "text": [
      "MSE: 0.15\n",
      "RMSE: 0.38\n",
      "MAE: 0.27\n"
     ]
    }
   ],
   "source": [
    "from sklearn.metrics import mean_squared_error, mean_absolute_error\n",
    "\n",
    "\n",
    "mse = mean_squared_error(y_test_random_split, y_pred_test)\n",
    "rmse = mean_squared_error(y_test_random_split, y_pred_test, squared=False)\n",
    "mae = mean_absolute_error(y_test_random_split, y_pred_test)\n",
    "\n",
    "print(f\"MSE: {mse:.2f}\")\n",
    "print(f\"RMSE: {rmse:.2f}\")\n",
    "print(f\"MAE: {mae:.2f}\")"
   ]
  },
  {
   "cell_type": "code",
   "execution_count": 33,
   "id": "a52e182e",
   "metadata": {},
   "outputs": [],
   "source": [
    "results.loc[2] = [\"random\", \"default\", \"expanded\", mse, rmse, mae]"
   ]
  },
  {
   "cell_type": "markdown",
   "id": "17a44a91",
   "metadata": {},
   "source": [
    "###### MAE by level"
   ]
  },
  {
   "cell_type": "code",
   "execution_count": 34,
   "id": "180f64e4",
   "metadata": {},
   "outputs": [
    {
     "data": {
      "image/png": "[encoded data removed]",
      "text/plain": [
       "<Figure size 720x432 with 1 Axes>"
      ]
     },
     "metadata": {
      "needs_background": "light"
     },
     "output_type": "display_data"
    }
   ],
   "source": [
    "plot_mae_by_level(\n",
    "    y_test_random_split,\n",
    "    y_pred_test,\n",
    "    title=\"MAE by level for default LightGBM with expanded features and random split\",\n",
    ")"
   ]
  },
  {
   "cell_type": "code",
   "execution_count": 35,
   "id": "b42be07c",
   "metadata": {},
   "outputs": [
    {
     "name": "stdout",
     "output_type": "stream",
     "text": [
      "Default:\n",
      "MSE: 0.15\n",
      "RMSE: 0.38\n",
      "\n",
      "Round type: round\n",
      "MSE: 0.15\n",
      "RMSE: 0.39\n",
      "\n",
      "Round type: 0.33\n",
      "MSE: 0.21\n",
      "RMSE: 0.45\n",
      "\n",
      "Round type: 0.45\n",
      "MSE: 0.17\n",
      "RMSE: 0.41\n",
      "\n"
     ]
    }
   ],
   "source": [
    "check_round_predictions([\"round\", 0.33, 0.45], y_test_random_split, y_pred_test)"
   ]
  },
  {
   "cell_type": "code",
   "execution_count": 36,
   "id": "79174d21",
   "metadata": {},
   "outputs": [
    {
     "data": {
      "image/png": "[encoded data removed]",
      "text/plain": [
       "<Figure size 432x288 with 2 Axes>"
      ]
     },
     "metadata": {
      "needs_background": "light"
     },
     "output_type": "display_data"
    }
   ],
   "source": [
    "plot_confusion_matrix(\n",
    "    \"round\",\n",
    "    y_pred_test,\n",
    "    y_test_random_split,\n",
    "    title=\"Confusion matrix for default LightGBM with expanded features and random split\",\n",
    ")"
   ]
  },
  {
   "cell_type": "markdown",
   "id": "79bbd5ec",
   "metadata": {},
   "source": [
    "### Tuning"
   ]
  },
  {
   "cell_type": "code",
   "execution_count": 37,
   "id": "62270e6b",
   "metadata": {
    "scrolled": true
   },
   "outputs": [
    {
     "name": "stderr",
     "output_type": "stream",
     "text": [
      "[I 2023-11-05 11:58:29,908] A new study created in memory with name: no-name-bd4efa51-abb8-4215-a47e-56095eb9342e\n",
      "feature_fraction, val_score: inf:   0%|                                                          | 0/7 [00:00<?, ?it/s]"
     ]
    },
    {
     "name": "stdout",
     "output_type": "stream",
     "text": [
      "Training until validation scores don't improve for 100 rounds\n",
      "[100]\tcv_agg's l2: 0.188072 + 0.0457642\n",
      "[200]\tcv_agg's l2: 0.186497 + 0.0438563\n"
     ]
    },
    {
     "name": "stderr",
     "output_type": "stream",
     "text": [
      "feature_fraction, val_score: 0.185960:  14%|######4                                      | 1/7 [00:02<00:16,  2.83s/it][I 2023-11-05 11:58:32,745] Trial 0 finished with value: 0.18596008611899237 and parameters: {'feature_fraction': 0.8999999999999999}. Best is trial 0 with value: 0.18596008611899237.\n",
      "feature_fraction, val_score: 0.185960:  14%|######4                                      | 1/7 [00:02<00:16,  2.83s/it]"
     ]
    },
    {
     "name": "stdout",
     "output_type": "stream",
     "text": [
      "Early stopping, best iteration is:\n",
      "[151]\tcv_agg's l2: 0.18596 + 0.0447527\n",
      "[100]\tcv_agg's l2: 0.194818 + 0.0452881\n",
      "[200]\tcv_agg's l2: 0.192044 + 0.0433607\n"
     ]
    },
    {
     "name": "stderr",
     "output_type": "stream",
     "text": [
      "feature_fraction, val_score: 0.185960:  29%|############8                                | 2/7 [00:05<00:13,  2.77s/it][I 2023-11-05 11:58:35,478] Trial 1 finished with value: 0.19256961701492029 and parameters: {'feature_fraction': 1.0}. Best is trial 0 with value: 0.18596008611899237.\n",
      "feature_fraction, val_score: 0.185960:  29%|############8                                | 2/7 [00:05<00:13,  2.77s/it]"
     ]
    },
    {
     "name": "stdout",
     "output_type": "stream",
     "text": [
      "Early stopping, best iteration is:\n",
      "[151]\tcv_agg's l2: 0.18596 + 0.0447527\n",
      "[100]\tcv_agg's l2: 0.187516 + 0.0462029\n",
      "[200]\tcv_agg's l2: 0.184862 + 0.0421903\n"
     ]
    },
    {
     "name": "stderr",
     "output_type": "stream",
     "text": [
      "feature_fraction, val_score: 0.184630:  43%|###################2                         | 3/7 [00:08<00:11,  2.84s/it][I 2023-11-05 11:58:38,393] Trial 2 finished with value: 0.1846296060468289 and parameters: {'feature_fraction': 0.7}. Best is trial 2 with value: 0.1846296060468289.\n",
      "feature_fraction, val_score: 0.184630:  43%|###################2                         | 3/7 [00:08<00:11,  2.84s/it]"
     ]
    },
    {
     "name": "stdout",
     "output_type": "stream",
     "text": [
      "[300]\tcv_agg's l2: 0.185448 + 0.0420193\n",
      "Early stopping, best iteration is:\n",
      "[211]\tcv_agg's l2: 0.18463 + 0.0420585\n",
      "[100]\tcv_agg's l2: 0.167019 + 0.0327348\n",
      "[200]\tcv_agg's l2: 0.164581 + 0.0330201\n"
     ]
    },
    {
     "name": "stderr",
     "output_type": "stream",
     "text": [
      "feature_fraction, val_score: 0.164484:  57%|#########################7                   | 4/7 [00:11<00:08,  2.91s/it][I 2023-11-05 11:58:41,423] Trial 3 finished with value: 0.164483748100514 and parameters: {'feature_fraction': 0.4}. Best is trial 3 with value: 0.164483748100514.\n",
      "feature_fraction, val_score: 0.164484:  57%|#########################7                   | 4/7 [00:11<00:08,  2.91s/it]"
     ]
    },
    {
     "name": "stdout",
     "output_type": "stream",
     "text": [
      "[300]\tcv_agg's l2: 0.165197 + 0.0340837\n",
      "Early stopping, best iteration is:\n",
      "[216]\tcv_agg's l2: 0.164484 + 0.0329277\n",
      "[100]\tcv_agg's l2: 0.177883 + 0.0287942\n",
      "[200]\tcv_agg's l2: 0.17697 + 0.0272343\n"
     ]
    },
    {
     "name": "stderr",
     "output_type": "stream",
     "text": [
      "feature_fraction, val_score: 0.164484:  71%|################################1            | 5/7 [00:14<00:05,  3.00s/it][I 2023-11-05 11:58:44,569] Trial 4 finished with value: 0.17684655350105977 and parameters: {'feature_fraction': 0.5}. Best is trial 3 with value: 0.164483748100514.\n",
      "feature_fraction, val_score: 0.164484:  71%|################################1            | 5/7 [00:14<00:05,  3.00s/it]"
     ]
    },
    {
     "name": "stdout",
     "output_type": "stream",
     "text": [
      "[300]\tcv_agg's l2: 0.177553 + 0.0259242\n",
      "Early stopping, best iteration is:\n",
      "[216]\tcv_agg's l2: 0.164484 + 0.0329277\n",
      "[100]\tcv_agg's l2: 0.19126 + 0.0474681\n",
      "[200]\tcv_agg's l2: 0.187768 + 0.044865\n"
     ]
    },
    {
     "name": "stderr",
     "output_type": "stream",
     "text": [
      "feature_fraction, val_score: 0.164484:  86%|######################################5      | 6/7 [00:17<00:03,  3.06s/it][I 2023-11-05 11:58:47,741] Trial 5 finished with value: 0.18776421196693036 and parameters: {'feature_fraction': 0.8}. Best is trial 3 with value: 0.164483748100514.\n",
      "feature_fraction, val_score: 0.164484:  86%|######################################5      | 6/7 [00:17<00:03,  3.06s/it]"
     ]
    },
    {
     "name": "stdout",
     "output_type": "stream",
     "text": [
      "[300]\tcv_agg's l2: 0.187773 + 0.0433647\n",
      "Early stopping, best iteration is:\n",
      "[216]\tcv_agg's l2: 0.164484 + 0.0329277\n",
      "[100]\tcv_agg's l2: 0.185935 + 0.0497008\n",
      "[200]\tcv_agg's l2: 0.183377 + 0.0477314\n",
      "[300]\tcv_agg's l2: 0.184366 + 0.0476669\n"
     ]
    },
    {
     "name": "stderr",
     "output_type": "stream",
     "text": [
      "feature_fraction, val_score: 0.164484: 100%|#############################################| 7/7 [00:20<00:00,  3.07s/it][I 2023-11-05 11:58:50,846] Trial 6 finished with value: 0.18333944047501843 and parameters: {'feature_fraction': 0.6}. Best is trial 3 with value: 0.164483748100514.\n",
      "feature_fraction, val_score: 0.164484: 100%|#############################################| 7/7 [00:20<00:00,  2.99s/it]\n"
     ]
    },
    {
     "name": "stdout",
     "output_type": "stream",
     "text": [
      "Early stopping, best iteration is:\n",
      "[216]\tcv_agg's l2: 0.164484 + 0.0329277\n"
     ]
    },
    {
     "name": "stderr",
     "output_type": "stream",
     "text": [
      "num_leaves, val_score: 0.164484:   0%|                                                          | 0/20 [00:00<?, ?it/s]"
     ]
    },
    {
     "name": "stdout",
     "output_type": "stream",
     "text": [
      "[100]\tcv_agg's l2: 0.167019 + 0.0327348\n",
      "[200]\tcv_agg's l2: 0.164581 + 0.0330201\n",
      "[300]\tcv_agg's l2: 0.165197 + 0.0340837\n"
     ]
    },
    {
     "name": "stderr",
     "output_type": "stream",
     "text": [
      "num_leaves, val_score: 0.164484:   5%|##5                                               | 1/20 [00:03<01:11,  3.78s/it][I 2023-11-05 11:58:54,633] Trial 7 finished with value: 0.164483748100514 and parameters: {'num_leaves': 196}. Best is trial 7 with value: 0.164483748100514.\n",
      "num_leaves, val_score: 0.164484:   5%|##5                                               | 1/20 [00:03<01:11,  3.78s/it]"
     ]
    },
    {
     "name": "stdout",
     "output_type": "stream",
     "text": [
      "Early stopping, best iteration is:\n",
      "[216]\tcv_agg's l2: 0.164484 + 0.0329277\n",
      "[100]\tcv_agg's l2: 0.167019 + 0.0327348\n",
      "[200]\tcv_agg's l2: 0.164581 + 0.0330201\n",
      "[300]\tcv_agg's l2: 0.165197 + 0.0340837\n"
     ]
    },
    {
     "name": "stderr",
     "output_type": "stream",
     "text": [
      "num_leaves, val_score: 0.164484:  10%|#####                                             | 2/20 [00:08<01:21,  4.54s/it][I 2023-11-05 11:58:59,700] Trial 8 finished with value: 0.164483748100514 and parameters: {'num_leaves': 222}. Best is trial 7 with value: 0.164483748100514.\n",
      "num_leaves, val_score: 0.164484:  10%|#####                                             | 2/20 [00:08<01:21,  4.54s/it]"
     ]
    },
    {
     "name": "stdout",
     "output_type": "stream",
     "text": [
      "Early stopping, best iteration is:\n",
      "[216]\tcv_agg's l2: 0.164484 + 0.0329277\n",
      "[100]\tcv_agg's l2: 0.167019 + 0.0327348\n",
      "[200]\tcv_agg's l2: 0.164581 + 0.0330201\n"
     ]
    },
    {
     "name": "stderr",
     "output_type": "stream",
     "text": [
      "num_leaves, val_score: 0.164484:  15%|#######5                                          | 3/20 [00:12<01:13,  4.34s/it][I 2023-11-05 11:59:03,810] Trial 9 finished with value: 0.164483748100514 and parameters: {'num_leaves': 222}. Best is trial 7 with value: 0.164483748100514.\n",
      "num_leaves, val_score: 0.164484:  15%|#######5                                          | 3/20 [00:12<01:13,  4.34s/it]"
     ]
    },
    {
     "name": "stdout",
     "output_type": "stream",
     "text": [
      "[300]\tcv_agg's l2: 0.165197 + 0.0340837\n",
      "Early stopping, best iteration is:\n",
      "[216]\tcv_agg's l2: 0.164484 + 0.0329277\n",
      "[100]\tcv_agg's l2: 0.309127 + 0.0892931\n",
      "[200]\tcv_agg's l2: 0.27157 + 0.0741328\n"
     ]
    },
    {
     "name": "stderr",
     "output_type": "stream",
     "text": [
      "num_leaves, val_score: 0.164484:  20%|##########                                        | 4/20 [00:13<00:45,  2.85s/it][I 2023-11-05 11:59:04,361] Trial 10 finished with value: 0.2691216846412726 and parameters: {'num_leaves': 2}. Best is trial 7 with value: 0.164483748100514.\n",
      "num_leaves, val_score: 0.164484:  20%|##########                                        | 4/20 [00:13<00:45,  2.85s/it]"
     ]
    },
    {
     "name": "stdout",
     "output_type": "stream",
     "text": [
      "[300]\tcv_agg's l2: 0.259582 + 0.0669682\n",
      "Early stopping, best iteration is:\n",
      "[216]\tcv_agg's l2: 0.164484 + 0.0329277\n",
      "[100]\tcv_agg's l2: 0.167019 + 0.0327348\n",
      "[200]\tcv_agg's l2: 0.164581 + 0.0330201\n"
     ]
    },
    {
     "name": "stderr",
     "output_type": "stream",
     "text": [
      "num_leaves, val_score: 0.164484:  25%|############5                                     | 5/20 [00:17<00:49,  3.27s/it][I 2023-11-05 11:59:08,389] Trial 11 finished with value: 0.164483748100514 and parameters: {'num_leaves': 119}. Best is trial 7 with value: 0.164483748100514.\n",
      "num_leaves, val_score: 0.164484:  25%|############5                                     | 5/20 [00:17<00:49,  3.27s/it]"
     ]
    },
    {
     "name": "stdout",
     "output_type": "stream",
     "text": [
      "[300]\tcv_agg's l2: 0.165197 + 0.0340837\n",
      "Early stopping, best iteration is:\n",
      "[216]\tcv_agg's l2: 0.164484 + 0.0329277\n",
      "[100]\tcv_agg's l2: 0.167019 + 0.0327348\n",
      "[200]\tcv_agg's l2: 0.164581 + 0.0330201\n"
     ]
    },
    {
     "name": "stderr",
     "output_type": "stream",
     "text": [
      "num_leaves, val_score: 0.164484:  30%|###############                                   | 6/20 [00:21<00:46,  3.35s/it][I 2023-11-05 11:59:11,877] Trial 12 finished with value: 0.164483748100514 and parameters: {'num_leaves': 140}. Best is trial 7 with value: 0.164483748100514.\n",
      "num_leaves, val_score: 0.164484:  30%|###############                                   | 6/20 [00:21<00:46,  3.35s/it]"
     ]
    },
    {
     "name": "stdout",
     "output_type": "stream",
     "text": [
      "[300]\tcv_agg's l2: 0.165197 + 0.0340837\n",
      "Early stopping, best iteration is:\n",
      "[216]\tcv_agg's l2: 0.164484 + 0.0329277\n",
      "[100]\tcv_agg's l2: 0.167019 + 0.0327348\n",
      "[200]\tcv_agg's l2: 0.164581 + 0.0330201\n"
     ]
    },
    {
     "name": "stderr",
     "output_type": "stream",
     "text": [
      "num_leaves, val_score: 0.164484:  35%|#################5                                | 7/20 [00:24<00:44,  3.41s/it][I 2023-11-05 11:59:15,433] Trial 13 finished with value: 0.164483748100514 and parameters: {'num_leaves': 157}. Best is trial 7 with value: 0.164483748100514.\n",
      "num_leaves, val_score: 0.164484:  35%|#################5                                | 7/20 [00:24<00:44,  3.41s/it]"
     ]
    },
    {
     "name": "stdout",
     "output_type": "stream",
     "text": [
      "[300]\tcv_agg's l2: 0.165197 + 0.0340837\n",
      "Early stopping, best iteration is:\n",
      "[216]\tcv_agg's l2: 0.164484 + 0.0329277\n",
      "[100]\tcv_agg's l2: 0.167019 + 0.0327348\n",
      "[200]\tcv_agg's l2: 0.164581 + 0.0330201\n"
     ]
    },
    {
     "name": "stderr",
     "output_type": "stream",
     "text": [
      "num_leaves, val_score: 0.164484:  40%|####################                              | 8/20 [00:27<00:40,  3.34s/it][I 2023-11-05 11:59:18,628] Trial 14 finished with value: 0.164483748100514 and parameters: {'num_leaves': 62}. Best is trial 7 with value: 0.164483748100514.\n",
      "num_leaves, val_score: 0.164484:  40%|####################                              | 8/20 [00:27<00:40,  3.34s/it]"
     ]
    },
    {
     "name": "stdout",
     "output_type": "stream",
     "text": [
      "[300]\tcv_agg's l2: 0.165197 + 0.0340837\n",
      "Early stopping, best iteration is:\n",
      "[216]\tcv_agg's l2: 0.164484 + 0.0329277\n",
      "[100]\tcv_agg's l2: 0.167019 + 0.0327348\n",
      "[200]\tcv_agg's l2: 0.164581 + 0.0330201\n"
     ]
    },
    {
     "name": "stderr",
     "output_type": "stream",
     "text": [
      "num_leaves, val_score: 0.164484:  45%|######################5                           | 9/20 [00:31<00:36,  3.36s/it][I 2023-11-05 11:59:22,009] Trial 15 finished with value: 0.164483748100514 and parameters: {'num_leaves': 254}. Best is trial 7 with value: 0.164483748100514.\n",
      "num_leaves, val_score: 0.164484:  45%|######################5                           | 9/20 [00:31<00:36,  3.36s/it]"
     ]
    },
    {
     "name": "stdout",
     "output_type": "stream",
     "text": [
      "[300]\tcv_agg's l2: 0.165197 + 0.0340837\n",
      "Early stopping, best iteration is:\n",
      "[216]\tcv_agg's l2: 0.164484 + 0.0329277\n",
      "[100]\tcv_agg's l2: 0.167019 + 0.0327348\n",
      "[200]\tcv_agg's l2: 0.164581 + 0.0330201\n"
     ]
    },
    {
     "name": "stderr",
     "output_type": "stream",
     "text": [
      "num_leaves, val_score: 0.164484:  50%|########################5                        | 10/20 [00:34<00:33,  3.32s/it][I 2023-11-05 11:59:25,248] Trial 16 finished with value: 0.164483748100514 and parameters: {'num_leaves': 183}. Best is trial 7 with value: 0.164483748100514.\n",
      "num_leaves, val_score: 0.164484:  50%|########################5                        | 10/20 [00:34<00:33,  3.32s/it]"
     ]
    },
    {
     "name": "stdout",
     "output_type": "stream",
     "text": [
      "[300]\tcv_agg's l2: 0.165197 + 0.0340837\n",
      "Early stopping, best iteration is:\n",
      "[216]\tcv_agg's l2: 0.164484 + 0.0329277\n",
      "[100]\tcv_agg's l2: 0.167019 + 0.0327348\n",
      "[200]\tcv_agg's l2: 0.164581 + 0.0330201\n"
     ]
    },
    {
     "name": "stderr",
     "output_type": "stream",
     "text": [
      "num_leaves, val_score: 0.164484:  55%|##########################9                      | 11/20 [00:37<00:29,  3.31s/it][I 2023-11-05 11:59:28,550] Trial 17 finished with value: 0.164483748100514 and parameters: {'num_leaves': 89}. Best is trial 7 with value: 0.164483748100514.\n",
      "num_leaves, val_score: 0.164484:  55%|##########################9                      | 11/20 [00:37<00:29,  3.31s/it]"
     ]
    },
    {
     "name": "stdout",
     "output_type": "stream",
     "text": [
      "[300]\tcv_agg's l2: 0.165197 + 0.0340837\n",
      "Early stopping, best iteration is:\n",
      "[216]\tcv_agg's l2: 0.164484 + 0.0329277\n",
      "[100]\tcv_agg's l2: 0.167019 + 0.0327348\n",
      "[200]\tcv_agg's l2: 0.164581 + 0.0330201\n"
     ]
    },
    {
     "name": "stderr",
     "output_type": "stream",
     "text": [
      "num_leaves, val_score: 0.164484:  60%|#############################4                   | 12/20 [00:41<00:27,  3.48s/it][I 2023-11-05 11:59:32,401] Trial 18 finished with value: 0.164483748100514 and parameters: {'num_leaves': 185}. Best is trial 7 with value: 0.164483748100514.\n",
      "num_leaves, val_score: 0.164484:  60%|#############################4                   | 12/20 [00:41<00:27,  3.48s/it]"
     ]
    },
    {
     "name": "stdout",
     "output_type": "stream",
     "text": [
      "[300]\tcv_agg's l2: 0.165197 + 0.0340837\n",
      "Early stopping, best iteration is:\n",
      "[216]\tcv_agg's l2: 0.164484 + 0.0329277\n",
      "[100]\tcv_agg's l2: 0.167019 + 0.0327348\n",
      "[200]\tcv_agg's l2: 0.164581 + 0.0330201\n"
     ]
    },
    {
     "name": "stderr",
     "output_type": "stream",
     "text": [
      "num_leaves, val_score: 0.164484:  65%|###############################8                 | 13/20 [00:44<00:23,  3.37s/it][I 2023-11-05 11:59:35,513] Trial 19 finished with value: 0.164483748100514 and parameters: {'num_leaves': 35}. Best is trial 7 with value: 0.164483748100514.\n",
      "num_leaves, val_score: 0.164484:  65%|###############################8                 | 13/20 [00:44<00:23,  3.37s/it]"
     ]
    },
    {
     "name": "stdout",
     "output_type": "stream",
     "text": [
      "[300]\tcv_agg's l2: 0.165197 + 0.0340837\n",
      "Early stopping, best iteration is:\n",
      "[216]\tcv_agg's l2: 0.164484 + 0.0329277\n",
      "[100]\tcv_agg's l2: 0.167019 + 0.0327348\n",
      "[200]\tcv_agg's l2: 0.164581 + 0.0330201\n"
     ]
    },
    {
     "name": "stderr",
     "output_type": "stream",
     "text": [
      "num_leaves, val_score: 0.164484:  70%|##################################3              | 14/20 [00:47<00:20,  3.36s/it][I 2023-11-05 11:59:38,842] Trial 20 finished with value: 0.164483748100514 and parameters: {'num_leaves': 105}. Best is trial 7 with value: 0.164483748100514.\n",
      "num_leaves, val_score: 0.164484:  70%|##################################3              | 14/20 [00:47<00:20,  3.36s/it]"
     ]
    },
    {
     "name": "stdout",
     "output_type": "stream",
     "text": [
      "[300]\tcv_agg's l2: 0.165197 + 0.0340837\n",
      "Early stopping, best iteration is:\n",
      "[216]\tcv_agg's l2: 0.164484 + 0.0329277\n",
      "[100]\tcv_agg's l2: 0.167019 + 0.0327348\n",
      "[200]\tcv_agg's l2: 0.164581 + 0.0330201\n"
     ]
    },
    {
     "name": "stderr",
     "output_type": "stream",
     "text": [
      "\r",
      "num_leaves, val_score: 0.164484:  70%|##################################3              | 14/20 [00:51<00:20,  3.36s/it]"
     ]
    },
    {
     "name": "stdout",
     "output_type": "stream",
     "text": [
      "[300]\tcv_agg's l2: 0.165197 + 0.0340837\n",
      "Early stopping, best iteration is:\n",
      "[216]\tcv_agg's l2: 0.164484 + 0.0329277\n"
     ]
    },
    {
     "name": "stderr",
     "output_type": "stream",
     "text": [
      "num_leaves, val_score: 0.164484:  75%|####################################7            | 15/20 [00:51<00:16,  3.37s/it][I 2023-11-05 11:59:42,235] Trial 21 finished with value: 0.164483748100514 and parameters: {'num_leaves': 218}. Best is trial 7 with value: 0.164483748100514.\n",
      "num_leaves, val_score: 0.164484:  75%|####################################7            | 15/20 [00:51<00:16,  3.37s/it]"
     ]
    },
    {
     "name": "stdout",
     "output_type": "stream",
     "text": [
      "[100]\tcv_agg's l2: 0.167019 + 0.0327348\n",
      "[200]\tcv_agg's l2: 0.164581 + 0.0330201\n"
     ]
    },
    {
     "name": "stderr",
     "output_type": "stream",
     "text": [
      "num_leaves, val_score: 0.164484:  80%|#######################################2         | 16/20 [00:55<00:13,  3.46s/it][I 2023-11-05 11:59:45,907] Trial 22 finished with value: 0.164483748100514 and parameters: {'num_leaves': 246}. Best is trial 7 with value: 0.164483748100514.\n",
      "num_leaves, val_score: 0.164484:  80%|#######################################2         | 16/20 [00:55<00:13,  3.46s/it]"
     ]
    },
    {
     "name": "stdout",
     "output_type": "stream",
     "text": [
      "[300]\tcv_agg's l2: 0.165197 + 0.0340837\n",
      "Early stopping, best iteration is:\n",
      "[216]\tcv_agg's l2: 0.164484 + 0.0329277\n",
      "[100]\tcv_agg's l2: 0.167019 + 0.0327348\n",
      "[200]\tcv_agg's l2: 0.164581 + 0.0330201\n"
     ]
    },
    {
     "name": "stderr",
     "output_type": "stream",
     "text": [
      "num_leaves, val_score: 0.164484:  85%|#########################################6       | 17/20 [00:58<00:10,  3.36s/it][I 2023-11-05 11:59:49,037] Trial 23 finished with value: 0.164483748100514 and parameters: {'num_leaves': 184}. Best is trial 7 with value: 0.164483748100514.\n",
      "num_leaves, val_score: 0.164484:  85%|#########################################6       | 17/20 [00:58<00:10,  3.36s/it]"
     ]
    },
    {
     "name": "stdout",
     "output_type": "stream",
     "text": [
      "[300]\tcv_agg's l2: 0.165197 + 0.0340837\n",
      "Early stopping, best iteration is:\n",
      "[216]\tcv_agg's l2: 0.164484 + 0.0329277\n",
      "[100]\tcv_agg's l2: 0.167019 + 0.0327348\n",
      "[200]\tcv_agg's l2: 0.164581 + 0.0330201\n"
     ]
    },
    {
     "name": "stderr",
     "output_type": "stream",
     "text": [
      "num_leaves, val_score: 0.164484:  90%|############################################1    | 18/20 [01:01<00:06,  3.49s/it][I 2023-11-05 11:59:52,846] Trial 24 finished with value: 0.164483748100514 and parameters: {'num_leaves': 203}. Best is trial 7 with value: 0.164483748100514.\n",
      "num_leaves, val_score: 0.164484:  90%|############################################1    | 18/20 [01:01<00:06,  3.49s/it]"
     ]
    },
    {
     "name": "stdout",
     "output_type": "stream",
     "text": [
      "[300]\tcv_agg's l2: 0.165197 + 0.0340837\n",
      "Early stopping, best iteration is:\n",
      "[216]\tcv_agg's l2: 0.164484 + 0.0329277\n",
      "[100]\tcv_agg's l2: 0.167019 + 0.0327348\n",
      "[200]\tcv_agg's l2: 0.164581 + 0.0330201\n"
     ]
    },
    {
     "name": "stderr",
     "output_type": "stream",
     "text": [
      "num_leaves, val_score: 0.164484:  95%|##############################################5  | 19/20 [01:05<00:03,  3.39s/it][I 2023-11-05 11:59:55,991] Trial 25 finished with value: 0.164483748100514 and parameters: {'num_leaves': 158}. Best is trial 7 with value: 0.164483748100514.\n",
      "num_leaves, val_score: 0.164484:  95%|##############################################5  | 19/20 [01:05<00:03,  3.39s/it]"
     ]
    },
    {
     "name": "stdout",
     "output_type": "stream",
     "text": [
      "[300]\tcv_agg's l2: 0.165197 + 0.0340837\n",
      "Early stopping, best iteration is:\n",
      "[216]\tcv_agg's l2: 0.164484 + 0.0329277\n",
      "[100]\tcv_agg's l2: 0.167019 + 0.0327348\n",
      "[200]\tcv_agg's l2: 0.164581 + 0.0330201\n"
     ]
    },
    {
     "name": "stderr",
     "output_type": "stream",
     "text": [
      "\r",
      "num_leaves, val_score: 0.164484:  95%|##############################################5  | 19/20 [01:08<00:03,  3.39s/it]"
     ]
    },
    {
     "name": "stdout",
     "output_type": "stream",
     "text": [
      "[300]\tcv_agg's l2: 0.165197 + 0.0340837\n",
      "Early stopping, best iteration is:\n",
      "[216]\tcv_agg's l2: 0.164484 + 0.0329277\n"
     ]
    },
    {
     "name": "stderr",
     "output_type": "stream",
     "text": [
      "num_leaves, val_score: 0.164484: 100%|#################################################| 20/20 [01:08<00:00,  3.41s/it][I 2023-11-05 11:59:59,459] Trial 26 finished with value: 0.164483748100514 and parameters: {'num_leaves': 232}. Best is trial 7 with value: 0.164483748100514.\n",
      "num_leaves, val_score: 0.164484: 100%|#################################################| 20/20 [01:08<00:00,  3.43s/it]\n",
      "bagging, val_score: 0.164484:   0%|                                                             | 0/10 [00:00<?, ?it/s]"
     ]
    },
    {
     "name": "stdout",
     "output_type": "stream",
     "text": [
      "[100]\tcv_agg's l2: 0.17989 + 0.0280341\n",
      "[200]\tcv_agg's l2: 0.173048 + 0.0237556\n"
     ]
    },
    {
     "name": "stderr",
     "output_type": "stream",
     "text": [
      "bagging, val_score: 0.164484:  10%|#####3                                               | 1/10 [00:02<00:19,  2.16s/it][I 2023-11-05 12:00:01,622] Trial 27 finished with value: 0.1727549001294826 and parameters: {'bagging_fraction': 0.5928044134786312, 'bagging_freq': 4}. Best is trial 27 with value: 0.1727549001294826.\n",
      "bagging, val_score: 0.164484:  10%|#####3                                               | 1/10 [00:02<00:19,  2.16s/it]"
     ]
    },
    {
     "name": "stdout",
     "output_type": "stream",
     "text": [
      "[300]\tcv_agg's l2: 0.174416 + 0.0226709\n",
      "Early stopping, best iteration is:\n",
      "[216]\tcv_agg's l2: 0.164484 + 0.0329277\n",
      "[100]\tcv_agg's l2: 0.165861 + 0.0324864\n",
      "[200]\tcv_agg's l2: 0.164272 + 0.0312748\n"
     ]
    },
    {
     "name": "stderr",
     "output_type": "stream",
     "text": [
      "bagging, val_score: 0.163693:  20%|##########6                                          | 2/10 [00:05<00:23,  2.90s/it][I 2023-11-05 12:00:05,039] Trial 28 finished with value: 0.16369301412852014 and parameters: {'bagging_fraction': 0.9039962116264473, 'bagging_freq': 1}. Best is trial 28 with value: 0.16369301412852014.\n",
      "bagging, val_score: 0.163693:  20%|##########6                                          | 2/10 [00:05<00:23,  2.90s/it]"
     ]
    },
    {
     "name": "stdout",
     "output_type": "stream",
     "text": [
      "Early stopping, best iteration is:\n",
      "[182]\tcv_agg's l2: 0.163693 + 0.0311083\n",
      "[100]\tcv_agg's l2: 0.161638 + 0.0292013\n",
      "[200]\tcv_agg's l2: 0.160027 + 0.0292829\n"
     ]
    },
    {
     "name": "stderr",
     "output_type": "stream",
     "text": [
      "bagging, val_score: 0.159549:  30%|###############9                                     | 3/10 [00:08<00:21,  3.06s/it][I 2023-11-05 12:00:08,283] Trial 29 finished with value: 0.1595487884038426 and parameters: {'bagging_fraction': 0.9939916929810417, 'bagging_freq': 1}. Best is trial 29 with value: 0.1595487884038426.\n",
      "bagging, val_score: 0.159549:  30%|###############9                                     | 3/10 [00:08<00:21,  3.06s/it]"
     ]
    },
    {
     "name": "stdout",
     "output_type": "stream",
     "text": [
      "Early stopping, best iteration is:\n",
      "[183]\tcv_agg's l2: 0.159549 + 0.0293812\n",
      "[100]\tcv_agg's l2: 0.162055 + 0.0312034\n",
      "[200]\tcv_agg's l2: 0.160891 + 0.0306029\n"
     ]
    },
    {
     "name": "stderr",
     "output_type": "stream",
     "text": [
      "bagging, val_score: 0.159549:  40%|#####################2                               | 4/10 [00:11<00:18,  3.09s/it][I 2023-11-05 12:00:11,432] Trial 30 finished with value: 0.16041981051792065 and parameters: {'bagging_fraction': 0.9958880294440865, 'bagging_freq': 1}. Best is trial 29 with value: 0.1595487884038426.\n",
      "bagging, val_score: 0.159549:  40%|#####################2                               | 4/10 [00:11<00:18,  3.09s/it]"
     ]
    },
    {
     "name": "stdout",
     "output_type": "stream",
     "text": [
      "Early stopping, best iteration is:\n",
      "[183]\tcv_agg's l2: 0.159549 + 0.0293812\n",
      "[100]\tcv_agg's l2: 0.159873 + 0.026131\n",
      "[200]\tcv_agg's l2: 0.158248 + 0.0253222\n"
     ]
    },
    {
     "name": "stderr",
     "output_type": "stream",
     "text": [
      "bagging, val_score: 0.157768:  50%|##########################5                          | 5/10 [00:14<00:15,  3.04s/it][I 2023-11-05 12:00:14,391] Trial 31 finished with value: 0.15776772554104196 and parameters: {'bagging_fraction': 0.976168004403553, 'bagging_freq': 1}. Best is trial 31 with value: 0.15776772554104196.\n",
      "bagging, val_score: 0.157768:  50%|##########################5                          | 5/10 [00:14<00:15,  3.04s/it]"
     ]
    },
    {
     "name": "stdout",
     "output_type": "stream",
     "text": [
      "Early stopping, best iteration is:\n",
      "[186]\tcv_agg's l2: 0.157768 + 0.0254202\n",
      "[100]\tcv_agg's l2: 0.16381 + 0.0325746\n",
      "[200]\tcv_agg's l2: 0.162619 + 0.0333559\n"
     ]
    },
    {
     "name": "stderr",
     "output_type": "stream",
     "text": [
      "bagging, val_score: 0.157768:  60%|###############################8                     | 6/10 [00:17<00:11,  2.95s/it][I 2023-11-05 12:00:17,158] Trial 32 finished with value: 0.16254928732958848 and parameters: {'bagging_fraction': 0.9905847570260286, 'bagging_freq': 1}. Best is trial 31 with value: 0.15776772554104196.\n",
      "bagging, val_score: 0.157768:  60%|###############################8                     | 6/10 [00:17<00:11,  2.95s/it]"
     ]
    },
    {
     "name": "stdout",
     "output_type": "stream",
     "text": [
      "Early stopping, best iteration is:\n",
      "[186]\tcv_agg's l2: 0.157768 + 0.0254202\n",
      "[100]\tcv_agg's l2: 0.164684 + 0.03023\n",
      "[200]\tcv_agg's l2: 0.161406 + 0.028545\n"
     ]
    },
    {
     "name": "stderr",
     "output_type": "stream",
     "text": [
      "bagging, val_score: 0.157768:  70%|#####################################                | 7/10 [00:20<00:08,  2.86s/it][I 2023-11-05 12:00:19,827] Trial 33 finished with value: 0.16169981612088707 and parameters: {'bagging_fraction': 0.994597083490567, 'bagging_freq': 1}. Best is trial 31 with value: 0.15776772554104196.\n",
      "bagging, val_score: 0.157768:  70%|#####################################                | 7/10 [00:20<00:08,  2.86s/it]"
     ]
    },
    {
     "name": "stdout",
     "output_type": "stream",
     "text": [
      "Early stopping, best iteration is:\n",
      "[186]\tcv_agg's l2: 0.157768 + 0.0254202\n",
      "[100]\tcv_agg's l2: 0.162332 + 0.0311158\n",
      "[200]\tcv_agg's l2: 0.161633 + 0.0312209\n"
     ]
    },
    {
     "name": "stderr",
     "output_type": "stream",
     "text": [
      "bagging, val_score: 0.157768:  80%|##########################################4          | 8/10 [00:23<00:05,  2.81s/it][I 2023-11-05 12:00:22,536] Trial 34 finished with value: 0.16128216672058185 and parameters: {'bagging_fraction': 0.9963205964051581, 'bagging_freq': 1}. Best is trial 31 with value: 0.15776772554104196.\n",
      "bagging, val_score: 0.157768:  80%|##########################################4          | 8/10 [00:23<00:05,  2.81s/it]"
     ]
    },
    {
     "name": "stdout",
     "output_type": "stream",
     "text": [
      "Early stopping, best iteration is:\n",
      "[186]\tcv_agg's l2: 0.157768 + 0.0254202\n",
      "[100]\tcv_agg's l2: 0.162439 + 0.0307305\n",
      "[200]\tcv_agg's l2: 0.159998 + 0.0297251\n"
     ]
    },
    {
     "name": "stderr",
     "output_type": "stream",
     "text": [
      "bagging, val_score: 0.157768:  90%|###############################################7     | 9/10 [00:25<00:02,  2.79s/it][I 2023-11-05 12:00:25,270] Trial 35 finished with value: 0.15993268614248785 and parameters: {'bagging_fraction': 0.9908414372053866, 'bagging_freq': 1}. Best is trial 31 with value: 0.15776772554104196.\n",
      "bagging, val_score: 0.157768:  90%|###############################################7     | 9/10 [00:25<00:02,  2.79s/it]"
     ]
    },
    {
     "name": "stdout",
     "output_type": "stream",
     "text": [
      "Early stopping, best iteration is:\n",
      "[186]\tcv_agg's l2: 0.157768 + 0.0254202\n",
      "[100]\tcv_agg's l2: 0.170536 + 0.0285401\n",
      "[200]\tcv_agg's l2: 0.167893 + 0.0258377\n"
     ]
    },
    {
     "name": "stderr",
     "output_type": "stream",
     "text": [
      "bagging, val_score: 0.157768: 100%|####################################################| 10/10 [00:28<00:00,  2.68s/it][I 2023-11-05 12:00:27,727] Trial 36 finished with value: 0.16788754806060938 and parameters: {'bagging_fraction': 0.8516587021019355, 'bagging_freq': 3}. Best is trial 31 with value: 0.15776772554104196.\n",
      "bagging, val_score: 0.157768: 100%|####################################################| 10/10 [00:28<00:00,  2.83s/it]\n"
     ]
    },
    {
     "name": "stdout",
     "output_type": "stream",
     "text": [
      "Early stopping, best iteration is:\n",
      "[186]\tcv_agg's l2: 0.157768 + 0.0254202\n"
     ]
    },
    {
     "name": "stderr",
     "output_type": "stream",
     "text": [
      "feature_fraction_stage2, val_score: 0.157768:   0%|                                              | 0/3 [00:00<?, ?it/s]"
     ]
    },
    {
     "name": "stdout",
     "output_type": "stream",
     "text": [
      "[100]\tcv_agg's l2: 0.159873 + 0.026131\n",
      "[200]\tcv_agg's l2: 0.158248 + 0.0253222\n"
     ]
    },
    {
     "name": "stderr",
     "output_type": "stream",
     "text": [
      "feature_fraction_stage2, val_score: 0.157768:  33%|############6                         | 1/3 [00:02<00:05,  2.74s/it][I 2023-11-05 12:00:30,472] Trial 37 finished with value: 0.15776772554104196 and parameters: {'feature_fraction': 0.41600000000000004}. Best is trial 37 with value: 0.15776772554104196.\n",
      "feature_fraction_stage2, val_score: 0.157768:  33%|############6                         | 1/3 [00:02<00:05,  2.74s/it]"
     ]
    },
    {
     "name": "stdout",
     "output_type": "stream",
     "text": [
      "Early stopping, best iteration is:\n",
      "[186]\tcv_agg's l2: 0.157768 + 0.0254202\n",
      "[100]\tcv_agg's l2: 0.166499 + 0.027102\n",
      "[200]\tcv_agg's l2: 0.165835 + 0.0259237\n"
     ]
    },
    {
     "name": "stderr",
     "output_type": "stream",
     "text": [
      "feature_fraction_stage2, val_score: 0.157768:  67%|#########################3            | 2/3 [00:05<00:02,  2.74s/it][I 2023-11-05 12:00:33,210] Trial 38 finished with value: 0.16593699193923175 and parameters: {'feature_fraction': 0.48000000000000004}. Best is trial 37 with value: 0.15776772554104196.\n",
      "feature_fraction_stage2, val_score: 0.157768:  67%|#########################3            | 2/3 [00:05<00:02,  2.74s/it]"
     ]
    },
    {
     "name": "stdout",
     "output_type": "stream",
     "text": [
      "Early stopping, best iteration is:\n",
      "[186]\tcv_agg's l2: 0.157768 + 0.0254202\n",
      "[100]\tcv_agg's l2: 0.166499 + 0.027102\n",
      "[200]\tcv_agg's l2: 0.165835 + 0.0259237\n"
     ]
    },
    {
     "name": "stderr",
     "output_type": "stream",
     "text": [
      "feature_fraction_stage2, val_score: 0.157768: 100%|######################################| 3/3 [00:08<00:00,  2.66s/it][I 2023-11-05 12:00:35,770] Trial 39 finished with value: 0.16593699193923175 and parameters: {'feature_fraction': 0.44800000000000006}. Best is trial 37 with value: 0.15776772554104196.\n",
      "feature_fraction_stage2, val_score: 0.157768: 100%|######################################| 3/3 [00:08<00:00,  2.68s/it]\n"
     ]
    },
    {
     "name": "stdout",
     "output_type": "stream",
     "text": [
      "Early stopping, best iteration is:\n",
      "[186]\tcv_agg's l2: 0.157768 + 0.0254202\n"
     ]
    },
    {
     "name": "stderr",
     "output_type": "stream",
     "text": [
      "regularization_factors, val_score: 0.157768:   0%|                                              | 0/20 [00:00<?, ?it/s]"
     ]
    },
    {
     "name": "stdout",
     "output_type": "stream",
     "text": [
      "[100]\tcv_agg's l2: 0.158057 + 0.0263478\n",
      "[200]\tcv_agg's l2: 0.15728 + 0.0264617\n"
     ]
    },
    {
     "name": "stderr",
     "output_type": "stream",
     "text": [
      "regularization_factors, val_score: 0.156834:   5%|#9                                    | 1/20 [00:02<00:50,  2.68s/it][I 2023-11-05 12:00:38,465] Trial 40 finished with value: 0.15683386390850415 and parameters: {'lambda_l1': 0.0005384385606637824, 'lambda_l2': 3.093609233298328e-05}. Best is trial 40 with value: 0.15683386390850415.\n",
      "regularization_factors, val_score: 0.156834:   5%|#9                                    | 1/20 [00:02<00:50,  2.68s/it]"
     ]
    },
    {
     "name": "stdout",
     "output_type": "stream",
     "text": [
      "Early stopping, best iteration is:\n",
      "[191]\tcv_agg's l2: 0.156834 + 0.0265103\n",
      "[100]\tcv_agg's l2: 0.15841 + 0.0260129\n",
      "[200]\tcv_agg's l2: 0.157543 + 0.0261497\n"
     ]
    },
    {
     "name": "stderr",
     "output_type": "stream",
     "text": [
      "regularization_factors, val_score: 0.156834:  10%|###8                                  | 2/20 [00:05<00:48,  2.69s/it][I 2023-11-05 12:00:41,157] Trial 41 finished with value: 0.1572436864595887 and parameters: {'lambda_l1': 0.00034455516117203787, 'lambda_l2': 3.2426785732406437e-05}. Best is trial 40 with value: 0.15683386390850415.\n",
      "regularization_factors, val_score: 0.156834:  10%|###8                                  | 2/20 [00:05<00:48,  2.69s/it]"
     ]
    },
    {
     "name": "stdout",
     "output_type": "stream",
     "text": [
      "Early stopping, best iteration is:\n",
      "[191]\tcv_agg's l2: 0.156834 + 0.0265103\n",
      "[100]\tcv_agg's l2: 0.158057 + 0.0263478\n",
      "[200]\tcv_agg's l2: 0.157262 + 0.026469\n"
     ]
    },
    {
     "name": "stderr",
     "output_type": "stream",
     "text": [
      "regularization_factors, val_score: 0.156834:  15%|#####7                                | 3/20 [00:08<00:45,  2.68s/it][I 2023-11-05 12:00:43,833] Trial 42 finished with value: 0.1569203387512316 and parameters: {'lambda_l1': 0.0005121490808700277, 'lambda_l2': 2.258887023470653e-05}. Best is trial 40 with value: 0.15683386390850415.\n",
      "regularization_factors, val_score: 0.156834:  15%|#####7                                | 3/20 [00:08<00:45,  2.68s/it]"
     ]
    },
    {
     "name": "stdout",
     "output_type": "stream",
     "text": [
      "Early stopping, best iteration is:\n",
      "[191]\tcv_agg's l2: 0.156834 + 0.0265103\n",
      "[100]\tcv_agg's l2: 0.158463 + 0.0269584\n",
      "[200]\tcv_agg's l2: 0.157683 + 0.0272784\n"
     ]
    },
    {
     "name": "stderr",
     "output_type": "stream",
     "text": [
      "regularization_factors, val_score: 0.156834:  20%|#######6                              | 4/20 [00:10<00:43,  2.74s/it][I 2023-11-05 12:00:46,655] Trial 43 finished with value: 0.15761455376542605 and parameters: {'lambda_l1': 0.0006565933783385004, 'lambda_l2': 2.3472634072555886e-05}. Best is trial 40 with value: 0.15683386390850415.\n",
      "regularization_factors, val_score: 0.156834:  20%|#######6                              | 4/20 [00:10<00:43,  2.74s/it]"
     ]
    },
    {
     "name": "stdout",
     "output_type": "stream",
     "text": [
      "Early stopping, best iteration is:\n",
      "[191]\tcv_agg's l2: 0.156834 + 0.0265103\n",
      "[100]\tcv_agg's l2: 0.15764 + 0.0266566\n",
      "[200]\tcv_agg's l2: 0.157488 + 0.0274374\n"
     ]
    },
    {
     "name": "stderr",
     "output_type": "stream",
     "text": [
      "regularization_factors, val_score: 0.156602:  25%|#########5                            | 5/20 [00:13<00:38,  2.59s/it][I 2023-11-05 12:00:48,980] Trial 44 finished with value: 0.15660197999162875 and parameters: {'lambda_l1': 0.0006209676808527494, 'lambda_l2': 2.1084771978876237e-05}. Best is trial 44 with value: 0.15660197999162875.\n",
      "regularization_factors, val_score: 0.156602:  25%|#########5                            | 5/20 [00:13<00:38,  2.59s/it]"
     ]
    },
    {
     "name": "stdout",
     "output_type": "stream",
     "text": [
      "Early stopping, best iteration is:\n",
      "[149]\tcv_agg's l2: 0.156602 + 0.0270252\n",
      "[100]\tcv_agg's l2: 0.158089 + 0.026332\n",
      "[200]\tcv_agg's l2: 0.157584 + 0.0273587\n"
     ]
    },
    {
     "name": "stderr",
     "output_type": "stream",
     "text": [
      "regularization_factors, val_score: 0.156602:  30%|###########4                          | 6/20 [00:15<00:35,  2.51s/it][I 2023-11-05 12:00:51,351] Trial 45 finished with value: 0.15679923835782708 and parameters: {'lambda_l1': 0.0005963681333559438, 'lambda_l2': 2.8854895870853692e-05}. Best is trial 44 with value: 0.15660197999162875.\n",
      "regularization_factors, val_score: 0.156602:  30%|###########4                          | 6/20 [00:15<00:35,  2.51s/it]"
     ]
    },
    {
     "name": "stdout",
     "output_type": "stream",
     "text": [
      "Early stopping, best iteration is:\n",
      "[149]\tcv_agg's l2: 0.156602 + 0.0270252\n",
      "[100]\tcv_agg's l2: 0.158057 + 0.0263478\n",
      "[200]\tcv_agg's l2: 0.15728 + 0.0264617\n"
     ]
    },
    {
     "name": "stderr",
     "output_type": "stream",
     "text": [
      "regularization_factors, val_score: 0.156602:  35%|#############3                        | 7/20 [00:17<00:31,  2.45s/it][I 2023-11-05 12:00:53,657] Trial 46 finished with value: 0.15744153806511732 and parameters: {'lambda_l1': 0.0005469644020298383, 'lambda_l2': 2.2614623896844636e-05}. Best is trial 44 with value: 0.15660197999162875.\n",
      "regularization_factors, val_score: 0.156602:  35%|#############3                        | 7/20 [00:17<00:31,  2.45s/it]"
     ]
    },
    {
     "name": "stdout",
     "output_type": "stream",
     "text": [
      "Early stopping, best iteration is:\n",
      "[149]\tcv_agg's l2: 0.156602 + 0.0270252\n",
      "[100]\tcv_agg's l2: 0.158247 + 0.0261746\n",
      "[200]\tcv_agg's l2: 0.157452 + 0.0264208\n"
     ]
    },
    {
     "name": "stderr",
     "output_type": "stream",
     "text": [
      "regularization_factors, val_score: 0.156602:  40%|###############2                      | 8/20 [00:20<00:28,  2.38s/it][I 2023-11-05 12:00:55,902] Trial 47 finished with value: 0.1573620851997755 and parameters: {'lambda_l1': 0.000452023577759967, 'lambda_l2': 2.916632523245444e-05}. Best is trial 44 with value: 0.15660197999162875.\n",
      "regularization_factors, val_score: 0.156602:  40%|###############2                      | 8/20 [00:20<00:28,  2.38s/it]"
     ]
    },
    {
     "name": "stdout",
     "output_type": "stream",
     "text": [
      "Early stopping, best iteration is:\n",
      "[149]\tcv_agg's l2: 0.156602 + 0.0270252\n",
      "[100]\tcv_agg's l2: 0.158462 + 0.0269583\n",
      "[200]\tcv_agg's l2: 0.157683 + 0.0271098\n"
     ]
    },
    {
     "name": "stderr",
     "output_type": "stream",
     "text": [
      "regularization_factors, val_score: 0.156602:  45%|#################1                    | 9/20 [00:22<00:26,  2.43s/it][I 2023-11-05 12:00:58,445] Trial 48 finished with value: 0.1573486266446277 and parameters: {'lambda_l1': 0.0007012559154482861, 'lambda_l2': 2.6286067327597035e-05}. Best is trial 44 with value: 0.15660197999162875.\n",
      "regularization_factors, val_score: 0.156602:  45%|#################1                    | 9/20 [00:22<00:26,  2.43s/it]"
     ]
    },
    {
     "name": "stdout",
     "output_type": "stream",
     "text": [
      "Early stopping, best iteration is:\n",
      "[149]\tcv_agg's l2: 0.156602 + 0.0270252\n",
      "[100]\tcv_agg's l2: 0.158247 + 0.0261745\n",
      "[200]\tcv_agg's l2: 0.157452 + 0.0264208\n"
     ]
    },
    {
     "name": "stderr",
     "output_type": "stream",
     "text": [
      "regularization_factors, val_score: 0.156602:  50%|##################5                  | 10/20 [00:25<00:25,  2.60s/it][I 2023-11-05 12:01:01,408] Trial 49 finished with value: 0.15736210458652736 and parameters: {'lambda_l1': 0.00044425858220943984, 'lambda_l2': 2.700117708037162e-05}. Best is trial 44 with value: 0.15660197999162875.\n",
      "regularization_factors, val_score: 0.156602:  50%|##################5                  | 10/20 [00:25<00:25,  2.60s/it]"
     ]
    },
    {
     "name": "stdout",
     "output_type": "stream",
     "text": [
      "Early stopping, best iteration is:\n",
      "[149]\tcv_agg's l2: 0.156602 + 0.0270252\n",
      "[100]\tcv_agg's l2: 0.157973 + 0.0262675\n",
      "[200]\tcv_agg's l2: 0.157588 + 0.0258523\n"
     ]
    },
    {
     "name": "stderr",
     "output_type": "stream",
     "text": [
      "regularization_factors, val_score: 0.156602:  55%|####################3                | 11/20 [00:28<00:23,  2.64s/it][I 2023-11-05 12:01:04,148] Trial 50 finished with value: 0.15685752496248234 and parameters: {'lambda_l1': 1.1479598203236176e-05, 'lambda_l2': 0.001932800782335959}. Best is trial 44 with value: 0.15660197999162875.\n",
      "regularization_factors, val_score: 0.156602:  55%|####################3                | 11/20 [00:28<00:23,  2.64s/it]"
     ]
    },
    {
     "name": "stdout",
     "output_type": "stream",
     "text": [
      "Early stopping, best iteration is:\n",
      "[149]\tcv_agg's l2: 0.156602 + 0.0270252\n",
      "[100]\tcv_agg's l2: 0.158641 + 0.0266224\n",
      "[200]\tcv_agg's l2: 0.157205 + 0.0262869\n"
     ]
    },
    {
     "name": "stderr",
     "output_type": "stream",
     "text": [
      "regularization_factors, val_score: 0.156602:  60%|######################2              | 12/20 [00:31<00:21,  2.65s/it][I 2023-11-05 12:01:06,832] Trial 51 finished with value: 0.15758143807990221 and parameters: {'lambda_l1': 4.312889100650774e-06, 'lambda_l2': 0.0057042792485484176}. Best is trial 44 with value: 0.15660197999162875.\n",
      "regularization_factors, val_score: 0.156602:  60%|######################2              | 12/20 [00:31<00:21,  2.65s/it]"
     ]
    },
    {
     "name": "stdout",
     "output_type": "stream",
     "text": [
      "Early stopping, best iteration is:\n",
      "[149]\tcv_agg's l2: 0.156602 + 0.0270252\n",
      "[100]\tcv_agg's l2: 0.158376 + 0.0256322\n",
      "[200]\tcv_agg's l2: 0.156245 + 0.0256261\n"
     ]
    },
    {
     "name": "stderr",
     "output_type": "stream",
     "text": [
      "regularization_factors, val_score: 0.156245:  65%|########################             | 13/20 [00:33<00:18,  2.67s/it][I 2023-11-05 12:01:09,554] Trial 52 finished with value: 0.15624504773344133 and parameters: {'lambda_l1': 3.3665147461870125e-05, 'lambda_l2': 0.0006825119541607033}. Best is trial 52 with value: 0.15624504773344133.\n",
      "regularization_factors, val_score: 0.156245:  65%|########################             | 13/20 [00:33<00:18,  2.67s/it]"
     ]
    },
    {
     "name": "stdout",
     "output_type": "stream",
     "text": [
      "[300]\tcv_agg's l2: 0.158134 + 0.0264026\n",
      "Early stopping, best iteration is:\n",
      "[200]\tcv_agg's l2: 0.156245 + 0.0256261\n",
      "[100]\tcv_agg's l2: 0.158491 + 0.0263862\n",
      "[200]\tcv_agg's l2: 0.157687 + 0.0263055\n"
     ]
    },
    {
     "name": "stderr",
     "output_type": "stream",
     "text": [
      "regularization_factors, val_score: 0.156245:  70%|#########################9           | 14/20 [00:36<00:16,  2.73s/it][I 2023-11-05 12:01:12,411] Trial 53 finished with value: 0.15768675280682032 and parameters: {'lambda_l1': 5.017293904730797e-06, 'lambda_l2': 0.0020742999465655494}. Best is trial 52 with value: 0.15624504773344133.\n",
      "regularization_factors, val_score: 0.156245:  70%|#########################9           | 14/20 [00:36<00:16,  2.73s/it]"
     ]
    },
    {
     "name": "stdout",
     "output_type": "stream",
     "text": [
      "[300]\tcv_agg's l2: 0.15888 + 0.0274572\n",
      "Early stopping, best iteration is:\n",
      "[200]\tcv_agg's l2: 0.156245 + 0.0256261\n",
      "[100]\tcv_agg's l2: 0.15989 + 0.0268528\n",
      "[200]\tcv_agg's l2: 0.158532 + 0.0265635\n"
     ]
    },
    {
     "name": "stderr",
     "output_type": "stream",
     "text": [
      "regularization_factors, val_score: 0.156245:  75%|###########################7         | 15/20 [00:39<00:13,  2.79s/it][I 2023-11-05 12:01:15,347] Trial 54 finished with value: 0.1585315209423362 and parameters: {'lambda_l1': 0.029912632811692742, 'lambda_l2': 0.0007790860599230094}. Best is trial 52 with value: 0.15624504773344133.\n",
      "regularization_factors, val_score: 0.156245:  75%|###########################7         | 15/20 [00:39<00:13,  2.79s/it]"
     ]
    },
    {
     "name": "stdout",
     "output_type": "stream",
     "text": [
      "[300]\tcv_agg's l2: 0.16027 + 0.0270585\n",
      "Early stopping, best iteration is:\n",
      "[200]\tcv_agg's l2: 0.156245 + 0.0256261\n",
      "[100]\tcv_agg's l2: 0.158088 + 0.0265241\n",
      "[200]\tcv_agg's l2: 0.156905 + 0.0260132\n"
     ]
    },
    {
     "name": "stderr",
     "output_type": "stream",
     "text": [
      "regularization_factors, val_score: 0.156245:  80%|#############################6       | 16/20 [00:42<00:11,  2.80s/it][I 2023-11-05 12:01:18,163] Trial 55 finished with value: 0.15690499699771823 and parameters: {'lambda_l1': 1.78519703661777e-05, 'lambda_l2': 3.495634642687105e-07}. Best is trial 52 with value: 0.15624504773344133.\n",
      "regularization_factors, val_score: 0.156245:  80%|#############################6       | 16/20 [00:42<00:11,  2.80s/it]"
     ]
    },
    {
     "name": "stdout",
     "output_type": "stream",
     "text": [
      "[300]\tcv_agg's l2: 0.15913 + 0.0265278\n",
      "Early stopping, best iteration is:\n",
      "[200]\tcv_agg's l2: 0.156245 + 0.0256261\n",
      "[100]\tcv_agg's l2: 0.158088 + 0.0265241\n",
      "[200]\tcv_agg's l2: 0.156905 + 0.0260131\n"
     ]
    },
    {
     "name": "stderr",
     "output_type": "stream",
     "text": [
      "regularization_factors, val_score: 0.156245:  85%|###############################4     | 17/20 [00:45<00:08,  2.79s/it][I 2023-11-05 12:01:20,934] Trial 56 finished with value: 0.15690477989965623 and parameters: {'lambda_l1': 1.301214389571761e-05, 'lambda_l2': 4.011934475076669e-07}. Best is trial 52 with value: 0.15624504773344133.\n",
      "regularization_factors, val_score: 0.156245:  85%|###############################4     | 17/20 [00:45<00:08,  2.79s/it]"
     ]
    },
    {
     "name": "stdout",
     "output_type": "stream",
     "text": [
      "[300]\tcv_agg's l2: 0.158862 + 0.0260395\n",
      "Early stopping, best iteration is:\n",
      "[200]\tcv_agg's l2: 0.156245 + 0.0256261\n",
      "[100]\tcv_agg's l2: 0.158088 + 0.0265239\n",
      "[200]\tcv_agg's l2: 0.156905 + 0.0260129\n"
     ]
    },
    {
     "name": "stderr",
     "output_type": "stream",
     "text": [
      "regularization_factors, val_score: 0.156245:  90%|#################################3   | 18/20 [00:47<00:05,  2.78s/it][I 2023-11-05 12:01:23,706] Trial 57 finished with value: 0.15690528872847823 and parameters: {'lambda_l1': 2.199661736631704e-05, 'lambda_l2': 8.092605168802794e-07}. Best is trial 52 with value: 0.15624504773344133.\n",
      "regularization_factors, val_score: 0.156245:  90%|#################################3   | 18/20 [00:47<00:05,  2.78s/it]"
     ]
    },
    {
     "name": "stdout",
     "output_type": "stream",
     "text": [
      "[300]\tcv_agg's l2: 0.159063 + 0.0265807\n",
      "Early stopping, best iteration is:\n",
      "[200]\tcv_agg's l2: 0.156245 + 0.0256261\n",
      "[100]\tcv_agg's l2: 0.160625 + 0.0239418\n",
      "[200]\tcv_agg's l2: 0.158762 + 0.0238051\n"
     ]
    },
    {
     "name": "stderr",
     "output_type": "stream",
     "text": [
      "regularization_factors, val_score: 0.156245:  95%|###################################1 | 19/20 [00:50<00:02,  2.79s/it][I 2023-11-05 12:01:26,523] Trial 58 finished with value: 0.15876161011884302 and parameters: {'lambda_l1': 1.689032411181764e-07, 'lambda_l2': 0.02023282238349948}. Best is trial 52 with value: 0.15624504773344133.\n",
      "regularization_factors, val_score: 0.156245:  95%|###################################1 | 19/20 [00:50<00:02,  2.79s/it]"
     ]
    },
    {
     "name": "stdout",
     "output_type": "stream",
     "text": [
      "[300]\tcv_agg's l2: 0.160557 + 0.0250631\n",
      "Early stopping, best iteration is:\n",
      "[200]\tcv_agg's l2: 0.156245 + 0.0256261\n",
      "[100]\tcv_agg's l2: 0.159004 + 0.0267692\n",
      "[200]\tcv_agg's l2: 0.157972 + 0.0263532\n"
     ]
    },
    {
     "name": "stderr",
     "output_type": "stream",
     "text": [
      "regularization_factors, val_score: 0.156245: 100%|#####################################| 20/20 [00:53<00:00,  2.78s/it][I 2023-11-05 12:01:29,271] Trial 59 finished with value: 0.1579723217812215 and parameters: {'lambda_l1': 3.21931934586282e-05, 'lambda_l2': 1.2790122911994073e-08}. Best is trial 52 with value: 0.15624504773344133.\n",
      "regularization_factors, val_score: 0.156245: 100%|#####################################| 20/20 [00:53<00:00,  2.67s/it]\n"
     ]
    },
    {
     "name": "stdout",
     "output_type": "stream",
     "text": [
      "[300]\tcv_agg's l2: 0.160741 + 0.027013\n",
      "Early stopping, best iteration is:\n",
      "[200]\tcv_agg's l2: 0.156245 + 0.0256261\n"
     ]
    },
    {
     "name": "stderr",
     "output_type": "stream",
     "text": [
      "min_data_in_leaf, val_score: 0.156245:   0%|                                                     | 0/5 [00:00<?, ?it/s]"
     ]
    },
    {
     "name": "stdout",
     "output_type": "stream",
     "text": [
      "[100]\tcv_agg's l2: 0.15518 + 0.0266537\n",
      "[200]\tcv_agg's l2: 0.152673 + 0.0257271\n"
     ]
    },
    {
     "name": "stderr",
     "output_type": "stream",
     "text": [
      "min_data_in_leaf, val_score: 0.152583:  20%|#########                                    | 1/5 [00:03<00:13,  3.49s/it][I 2023-11-05 12:01:32,764] Trial 60 finished with value: 0.15258347678857334 and parameters: {'min_child_samples': 10}. Best is trial 60 with value: 0.15258347678857334.\n",
      "min_data_in_leaf, val_score: 0.152583:  20%|#########                                    | 1/5 [00:03<00:13,  3.49s/it]"
     ]
    },
    {
     "name": "stdout",
     "output_type": "stream",
     "text": [
      "Early stopping, best iteration is:\n",
      "[195]\tcv_agg's l2: 0.152583 + 0.0260062\n",
      "[100]\tcv_agg's l2: 0.170319 + 0.0261393\n",
      "[200]\tcv_agg's l2: 0.167359 + 0.0268038\n"
     ]
    },
    {
     "name": "stderr",
     "output_type": "stream",
     "text": [
      "min_data_in_leaf, val_score: 0.152583:  40%|##################                           | 2/5 [00:05<00:08,  2.76s/it][I 2023-11-05 12:01:35,012] Trial 61 finished with value: 0.16743607345179976 and parameters: {'min_child_samples': 25}. Best is trial 60 with value: 0.15258347678857334.\n",
      "min_data_in_leaf, val_score: 0.152583:  40%|##################                           | 2/5 [00:05<00:08,  2.76s/it]"
     ]
    },
    {
     "name": "stdout",
     "output_type": "stream",
     "text": [
      "Early stopping, best iteration is:\n",
      "[195]\tcv_agg's l2: 0.152583 + 0.0260062\n",
      "[100]\tcv_agg's l2: 0.218744 + 0.0305702\n",
      "[200]\tcv_agg's l2: 0.214019 + 0.0289763\n"
     ]
    },
    {
     "name": "stderr",
     "output_type": "stream",
     "text": [
      "min_data_in_leaf, val_score: 0.152583:  60%|###########################                  | 3/5 [00:07<00:04,  2.10s/it][I 2023-11-05 12:01:36,339] Trial 62 finished with value: 0.21404773750890085 and parameters: {'min_child_samples': 50}. Best is trial 60 with value: 0.15258347678857334.\n",
      "min_data_in_leaf, val_score: 0.152583:  60%|###########################                  | 3/5 [00:07<00:04,  2.10s/it]"
     ]
    },
    {
     "name": "stdout",
     "output_type": "stream",
     "text": [
      "Early stopping, best iteration is:\n",
      "[195]\tcv_agg's l2: 0.152583 + 0.0260062\n",
      "[100]\tcv_agg's l2: 0.668374 + 0.0736472\n",
      "[200]\tcv_agg's l2: 0.630013 + 0.0628809\n"
     ]
    },
    {
     "name": "stderr",
     "output_type": "stream",
     "text": [
      "min_data_in_leaf, val_score: 0.152583:  80%|####################################         | 4/5 [00:08<00:01,  1.66s/it][I 2023-11-05 12:01:37,312] Trial 63 finished with value: 0.6315691568541688 and parameters: {'min_child_samples': 100}. Best is trial 60 with value: 0.15258347678857334.\n",
      "min_data_in_leaf, val_score: 0.152583:  80%|####################################         | 4/5 [00:08<00:01,  1.66s/it]"
     ]
    },
    {
     "name": "stdout",
     "output_type": "stream",
     "text": [
      "Early stopping, best iteration is:\n",
      "[195]\tcv_agg's l2: 0.152583 + 0.0260062\n",
      "[100]\tcv_agg's l2: 0.162557 + 0.0246247\n",
      "[200]\tcv_agg's l2: 0.161808 + 0.0235645\n"
     ]
    },
    {
     "name": "stderr",
     "output_type": "stream",
     "text": [
      "min_data_in_leaf, val_score: 0.152583: 100%|#############################################| 5/5 [00:11<00:00,  2.26s/it][I 2023-11-05 12:01:40,653] Trial 64 finished with value: 0.1617522768277036 and parameters: {'min_child_samples': 5}. Best is trial 60 with value: 0.15258347678857334.\n",
      "min_data_in_leaf, val_score: 0.152583: 100%|#############################################| 5/5 [00:11<00:00,  2.28s/it]"
     ]
    },
    {
     "name": "stdout",
     "output_type": "stream",
     "text": [
      "Early stopping, best iteration is:\n",
      "[195]\tcv_agg's l2: 0.152583 + 0.0260062\n"
     ]
    },
    {
     "name": "stderr",
     "output_type": "stream",
     "text": [
      "\n"
     ]
    }
   ],
   "source": [
    "import optuna.integration.lightgbm as lgb\n",
    "from lightgbm import early_stopping\n",
    "from sklearn.model_selection import KFold\n",
    "from sklearn.model_selection import RepeatedKFold\n",
    "\n",
    "\n",
    "lgb_train = lgb.Dataset(X_train_random_split, y_train_random_split)\n",
    "\n",
    "params = {\n",
    "    \"boosting_type\": \"gbdt\",\n",
    "    \"objective\": \"regression\",\n",
    "    \"metric\": \"l2\",\n",
    "    \"verbosity\": -1,\n",
    "}\n",
    "\n",
    "tuner = lgb.LightGBMTunerCV(\n",
    "    params,\n",
    "    lgb_train,\n",
    "    folds=KFold(n_splits=5),\n",
    "    num_boost_round=10000,\n",
    "    callbacks=[early_stopping(100), log_evaluation(100)],\n",
    ")\n",
    "\n",
    "tuner.run()"
   ]
  },
  {
   "cell_type": "code",
   "execution_count": 38,
   "id": "c07cf3c6",
   "metadata": {},
   "outputs": [
    {
     "name": "stdout",
     "output_type": "stream",
     "text": [
      "Best score: 0.15258347678857334\n",
      "Params: \n",
      "    boosting_type: gbdt\n",
      "    objective: regression\n",
      "    metric: l2\n",
      "    verbosity: -1\n",
      "    feature_pre_filter: False\n",
      "    lambda_l1: 3.3665147461870125e-05\n",
      "    lambda_l2: 0.0006825119541607033\n",
      "    num_leaves: 31\n",
      "    feature_fraction: 0.4\n",
      "    bagging_fraction: 0.976168004403553\n",
      "    bagging_freq: 1\n",
      "    min_child_samples: 10\n"
     ]
    }
   ],
   "source": [
    "print(f\"Best score: {tuner.best_score}\")\n",
    "best_params = tuner.best_params\n",
    "print(\"Params: \")\n",
    "for key, value in best_params.items():\n",
    "    print(\"    {}: {}\".format(key, value))"
   ]
  },
  {
   "cell_type": "code",
   "execution_count": 39,
   "id": "47a1bc33",
   "metadata": {},
   "outputs": [],
   "source": [
    "import lightgbm as lgb\n",
    "\n",
    "lgb_tuned = lgb.train(\n",
    "    best_params,\n",
    "    lgb_train,\n",
    "    num_boost_round=10000,\n",
    ")"
   ]
  },
  {
   "cell_type": "code",
   "execution_count": 40,
   "id": "4c17765e",
   "metadata": {},
   "outputs": [
    {
     "name": "stdout",
     "output_type": "stream",
     "text": [
      "RMSE train: 0.00\n",
      "RMSE test: 0.33\n",
      "MSE test: 0.11\n",
      "MAE test: 0.23\n",
      "\n"
     ]
    }
   ],
   "source": [
    "rmse, mse, mae = assess_regression_model(\n",
    "    lgb_tuned,\n",
    "    X_train_random_split,\n",
    "    X_test_random_split,\n",
    "    y_train_random_split,\n",
    "    y_test_random_split,\n",
    ")"
   ]
  },
  {
   "cell_type": "code",
   "execution_count": 41,
   "id": "9caec811",
   "metadata": {},
   "outputs": [],
   "source": [
    "results.loc[3] = [\"random\", \"Optuna\", \"expanded\", mse, rmse, mae]"
   ]
  },
  {
   "cell_type": "markdown",
   "id": "47fed830",
   "metadata": {},
   "source": [
    "###### MAE by level"
   ]
  },
  {
   "cell_type": "code",
   "execution_count": 42,
   "id": "c12fe14b",
   "metadata": {},
   "outputs": [
    {
     "data": {
      "image/png": "[encoded data removed]",
      "text/plain": [
       "<Figure size 720x432 with 1 Axes>"
      ]
     },
     "metadata": {
      "needs_background": "light"
     },
     "output_type": "display_data"
    }
   ],
   "source": [
    "plot_mae_by_level(\n",
    "    y_test_random_split,\n",
    "    y_pred_test,\n",
    "    title=\"MAE by level for tuned LightGBM with expanded features and random split\",\n",
    ")"
   ]
  },
  {
   "cell_type": "code",
   "execution_count": 43,
   "id": "859f12f2",
   "metadata": {},
   "outputs": [
    {
     "name": "stdout",
     "output_type": "stream",
     "text": [
      "Default:\n",
      "MSE: 0.04\n",
      "RMSE: 0.19\n",
      "\n",
      "Round type: round\n",
      "MSE: 0.04\n",
      "RMSE: 0.21\n",
      "\n",
      "Round type: 0.33\n",
      "MSE: 0.05\n",
      "RMSE: 0.23\n",
      "\n",
      "Round type: 0.45\n",
      "MSE: 0.05\n",
      "RMSE: 0.22\n",
      "\n"
     ]
    }
   ],
   "source": [
    "predict = lgb_tuned.predict(X_test)\n",
    "check_round_predictions([\"round\", 0.33, 0.45], y_test, predict)"
   ]
  },
  {
   "cell_type": "code",
   "execution_count": 44,
   "id": "a046eead",
   "metadata": {},
   "outputs": [
    {
     "data": {
      "image/png": "[encoded data removed]",
      "text/plain": [
       "<Figure size 432x288 with 2 Axes>"
      ]
     },
     "metadata": {
      "needs_background": "light"
     },
     "output_type": "display_data"
    }
   ],
   "source": [
    "plot_confusion_matrix(\n",
    "    \"round\",\n",
    "    predict,\n",
    "    y_test,\n",
    "    title=\"Confusion matrix for tuned LightGBM with expanded features and random split\",\n",
    ")"
   ]
  },
  {
   "cell_type": "markdown",
   "id": "2e230699",
   "metadata": {},
   "source": [
    "## Summary"
   ]
  },
  {
   "cell_type": "code",
   "execution_count": 45,
   "id": "2edd08be",
   "metadata": {},
   "outputs": [
    {
     "data": {
      "text/html": [
       "<div>\n",
       "<style scoped>\n",
       "    .dataframe tbody tr th:only-of-type {\n",
       "        vertical-align: middle;\n",
       "    }\n",
       "\n",
       "    .dataframe tbody tr th {\n",
       "        vertical-align: top;\n",
       "    }\n",
       "\n",
       "    .dataframe thead th {\n",
       "        text-align: right;\n",
       "    }\n",
       "</style>\n",
       "<table border=\"1\" class=\"dataframe\">\n",
       "  <thead>\n",
       "    <tr style=\"text-align: right;\">\n",
       "      <th></th>\n",
       "      <th>Split type</th>\n",
       "      <th>Tuning type</th>\n",
       "      <th>Set of features</th>\n",
       "      <th>MSE</th>\n",
       "      <th>RMSE</th>\n",
       "      <th>MAE</th>\n",
       "    </tr>\n",
       "  </thead>\n",
       "  <tbody>\n",
       "    <tr>\n",
       "      <th>0</th>\n",
       "      <td>chronological</td>\n",
       "      <td>default</td>\n",
       "      <td>expanded</td>\n",
       "      <td>0.260889</td>\n",
       "      <td>0.510773</td>\n",
       "      <td>0.357206</td>\n",
       "    </tr>\n",
       "    <tr>\n",
       "      <th>1</th>\n",
       "      <td>chronological</td>\n",
       "      <td>Optuna</td>\n",
       "      <td>expanded</td>\n",
       "      <td>0.198254</td>\n",
       "      <td>0.445257</td>\n",
       "      <td>0.322687</td>\n",
       "    </tr>\n",
       "    <tr>\n",
       "      <th>2</th>\n",
       "      <td>random</td>\n",
       "      <td>default</td>\n",
       "      <td>expanded</td>\n",
       "      <td>0.148111</td>\n",
       "      <td>0.384853</td>\n",
       "      <td>0.267273</td>\n",
       "    </tr>\n",
       "    <tr>\n",
       "      <th>3</th>\n",
       "      <td>random</td>\n",
       "      <td>Optuna</td>\n",
       "      <td>expanded</td>\n",
       "      <td>0.111273</td>\n",
       "      <td>0.333575</td>\n",
       "      <td>0.228666</td>\n",
       "    </tr>\n",
       "  </tbody>\n",
       "</table>\n",
       "</div>"
      ],
      "text/plain": [
       "      Split type Tuning type Set of features       MSE      RMSE       MAE\n",
       "0  chronological     default        expanded  0.260889  0.510773  0.357206\n",
       "1  chronological      Optuna        expanded  0.198254  0.445257  0.322687\n",
       "2         random     default        expanded  0.148111  0.384853  0.267273\n",
       "3         random      Optuna        expanded  0.111273  0.333575  0.228666"
      ]
     },
     "execution_count": 45,
     "metadata": {},
     "output_type": "execute_result"
    }
   ],
   "source": [
    "results"
   ]
  },
  {
   "cell_type": "code",
   "execution_count": 46,
   "id": "7e403b40",
   "metadata": {},
   "outputs": [],
   "source": [
    "from training.results import plot_summary"
   ]
  },
  {
   "cell_type": "code",
   "execution_count": 47,
   "id": "1072db81",
   "metadata": {},
   "outputs": [
    {
     "data": {
      "image/png": "[encoded data removed]",
      "text/plain": [
       "<Figure size 1440x576 with 1 Axes>"
      ]
     },
     "metadata": {
      "needs_background": "light"
     },
     "output_type": "display_data"
    }
   ],
   "source": [
    "plot_summary(results, \"RMSE\", title=\"RMSE for LightGBM with expanded features\")"
   ]
  },
  {
   "cell_type": "code",
   "execution_count": 48,
   "id": "0a073f44",
   "metadata": {},
   "outputs": [
    {
     "data": {
      "image/png": "[encoded data removed]",
      "text/plain": [
       "<Figure size 1440x576 with 1 Axes>"
      ]
     },
     "metadata": {
      "needs_background": "light"
     },
     "output_type": "display_data"
    }
   ],
   "source": [
    "plot_summary(results, \"MAE\", title=\"MAE for LightGBM with expanded features\")"
   ]
  },
  {
   "cell_type": "code",
   "execution_count": 49,
   "id": "157af270",
   "metadata": {},
   "outputs": [],
   "source": [
    "results.to_json(\"./lightgbm_expanded_results.json\", indent=2)"
   ]
  },
  {
   "cell_type": "code",
   "execution_count": null,
   "id": "1b44b486",
   "metadata": {},
   "outputs": [],
   "source": []
  }
 ],
 "metadata": {
  "kernelspec": {
   "display_name": "Python 3 (ipykernel)",
   "language": "python",
   "name": "python3"
  },
  "language_info": {
   "codemirror_mode": {
    "name": "ipython",
    "version": 3
   },
   "file_extension": ".py",
   "mimetype": "text/x-python",
   "name": "python",
   "nbconvert_exporter": "python",
   "pygments_lexer": "ipython3",
   "version": "3.10.4"
  }
 },
 "nbformat": 4,
 "nbformat_minor": 5
}
