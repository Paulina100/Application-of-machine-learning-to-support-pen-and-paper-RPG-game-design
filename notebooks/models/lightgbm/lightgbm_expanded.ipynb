{
 "cells": [
  {
   "cell_type": "markdown",
   "id": "b61f8435",
   "metadata": {},
   "source": [
    "# LightGBM\n",
    "### Parameters:\n",
    "* **abilities**:\n",
    "    * **cha**\n",
    "    * **con**\n",
    "    * **dex**\n",
    "    * **int**\n",
    "    * **str**\n",
    "    * **wis**\n",
    "* **attributes**\n",
    "    * **hp**\n",
    "    * **ac**\n",
    "    * **perception**\n",
    "* **saves**\n",
    "    * **fortitude**\n",
    "    * **reflex**\n",
    "    * **will**\n",
    "* **resources**\n",
    "    * **focus**\n",
    "\n",
    "### Prediction: *level*\n",
    "\n",
    "## Loading data"
   ]
  },
  {
   "cell_type": "code",
   "execution_count": 1,
   "id": "64151d43",
   "metadata": {},
   "outputs": [],
   "source": [
    "import numpy as np\n",
    "import pandas as pd\n",
    "import sys\n",
    "\n",
    "import os\n",
    "import pathlib\n",
    "\n",
    "sys.path.append(\"../../..\")\n",
    "from training.creating_dataset import load_and_preprocess_data\n",
    "\n",
    "current_path = os.getcwd()\n",
    "DATASETS_DIR = pathlib.Path(current_path).parent.parent.parent / \"pathfinder_2e_data\"\n",
    "DATASET_FILES = [\n",
    "    \"abomination-vaults-bestiary.db\",\n",
    "    \"age-of-ashes-bestiary.db\",\n",
    "    \"agents-of-edgewatch-bestiary.db\",\n",
    "    \"april-fools-bestiary.db\",\n",
    "    \"blog-bestiary.db\",\n",
    "    \"blood-lords-bestiary.db\",\n",
    "    \"book-of-the-dead-bestiary.db\",\n",
    "    \"crown-of-the-kobold-king-bestiary.db\",\n",
    "    \"extinction-curse-bestiary.db\",\n",
    "    \"fall-of-plaguestone.db\",\n",
    "    \"fists-of-the-ruby-phoenix-bestiary.db\",\n",
    "    \"gatewalkers-bestiary.db\",\n",
    "    \"impossible-lands-bestiary.db\",\n",
    "    \"kingmaker-bestiary.db\",\n",
    "    \"malevolence-bestiary.db\",\n",
    "    \"menace-under-otari-bestiary.db\",\n",
    "    \"monsters-of-myth-bestiary.db\",\n",
    "    \"mwangi-expanse-bestiary.db\",\n",
    "    \"night-of-the-gray-death-bestiary.db\",\n",
    "    \"npc-gallery.db\",\n",
    "    \"one-shot-bestiary.db\",\n",
    "    \"outlaws-of-alkenstar-bestiary.db\",\n",
    "    \"pathfinder-bestiary-2.db\",\n",
    "    \"pathfinder-bestiary-3.db\",\n",
    "    \"pathfinder-bestiary.db\",\n",
    "    \"pathfinder-dark-archive.db\",\n",
    "    \"pfs-introductions-bestiary.db\",\n",
    "    \"pfs-season-1-bestiary.db\",\n",
    "    \"pfs-season-2-bestiary.db\",\n",
    "    \"pfs-season-3-bestiary.db\",\n",
    "    \"pfs-season-4-bestiary.db\",\n",
    "    \"quest-for-the-frozen-flame-bestiary.db\",\n",
    "    \"shadows-at-sundown-bestiary.db\",\n",
    "    \"strength-of-thousands-bestiary.db\",\n",
    "    \"the-slithering-bestiary.db\",\n",
    "    \"travel-guide-bestiary.db\",\n",
    "    \"troubles-in-otari-bestiary.db\",\n",
    "]\n",
    "DATASET_PATHS = [f\"{DATASETS_DIR}/{file}\" for file in DATASET_FILES]\n",
    "features = [\n",
    "    \"cha\",\n",
    "    \"con\",\n",
    "    \"dex\",\n",
    "    \"int\",\n",
    "    \"str\",\n",
    "    \"wis\",\n",
    "    \"ac\",\n",
    "    \"hp\",\n",
    "    \"perception\",\n",
    "    \"fortitude\",\n",
    "    \"reflex\",\n",
    "    \"will\",\n",
    "    \"focus\",\n",
    "]\n",
    "\n",
    "df = load_and_preprocess_data(\n",
    "    DATASET_PATHS,\n",
    "    characteristics=features,\n",
    ")"
   ]
  },
  {
   "cell_type": "code",
   "execution_count": 2,
   "id": "ec1e8424",
   "metadata": {},
   "outputs": [
    {
     "name": "stdout",
     "output_type": "stream",
     "text": [
      "<class 'pandas.core.frame.DataFrame'>\n",
      "Int64Index: 3690 entries, 0 to 4327\n",
      "Data columns (total 15 columns):\n",
      " #   Column      Non-Null Count  Dtype  \n",
      "---  ------      --------------  -----  \n",
      " 0   dex         3690 non-null   float64\n",
      " 1   level       3690 non-null   int64  \n",
      " 2   wis         3690 non-null   float64\n",
      " 3   focus       3690 non-null   int32  \n",
      " 4   book        3690 non-null   object \n",
      " 5   str         3690 non-null   float64\n",
      " 6   con         3690 non-null   float64\n",
      " 7   cha         3690 non-null   float64\n",
      " 8   int         3690 non-null   float64\n",
      " 9   reflex      3690 non-null   float64\n",
      " 10  fortitude   3690 non-null   float64\n",
      " 11  will        3690 non-null   float64\n",
      " 12  hp          3690 non-null   int32  \n",
      " 13  perception  3690 non-null   float64\n",
      " 14  ac          3690 non-null   float64\n",
      "dtypes: float64(11), int32(2), int64(1), object(1)\n",
      "memory usage: 432.4+ KB\n"
     ]
    }
   ],
   "source": [
    "df.info()"
   ]
  },
  {
   "cell_type": "code",
   "execution_count": 3,
   "id": "211d736c",
   "metadata": {},
   "outputs": [
    {
     "data": {
      "text/html": [
       "<div>\n",
       "<style scoped>\n",
       "    .dataframe tbody tr th:only-of-type {\n",
       "        vertical-align: middle;\n",
       "    }\n",
       "\n",
       "    .dataframe tbody tr th {\n",
       "        vertical-align: top;\n",
       "    }\n",
       "\n",
       "    .dataframe thead th {\n",
       "        text-align: right;\n",
       "    }\n",
       "</style>\n",
       "<table border=\"1\" class=\"dataframe\">\n",
       "  <thead>\n",
       "    <tr style=\"text-align: right;\">\n",
       "      <th></th>\n",
       "      <th>dex</th>\n",
       "      <th>level</th>\n",
       "      <th>wis</th>\n",
       "      <th>focus</th>\n",
       "      <th>book</th>\n",
       "      <th>str</th>\n",
       "      <th>con</th>\n",
       "      <th>cha</th>\n",
       "      <th>int</th>\n",
       "      <th>reflex</th>\n",
       "      <th>fortitude</th>\n",
       "      <th>will</th>\n",
       "      <th>hp</th>\n",
       "      <th>perception</th>\n",
       "      <th>ac</th>\n",
       "    </tr>\n",
       "  </thead>\n",
       "  <tbody>\n",
       "    <tr>\n",
       "      <th>0</th>\n",
       "      <td>3.0</td>\n",
       "      <td>9</td>\n",
       "      <td>3.0</td>\n",
       "      <td>1</td>\n",
       "      <td>Pathfinder #165: Eyes of Empty Death</td>\n",
       "      <td>6.0</td>\n",
       "      <td>0.0</td>\n",
       "      <td>0.0</td>\n",
       "      <td>0.0</td>\n",
       "      <td>18.0</td>\n",
       "      <td>15.0</td>\n",
       "      <td>20.0</td>\n",
       "      <td>155</td>\n",
       "      <td>18.0</td>\n",
       "      <td>28.0</td>\n",
       "    </tr>\n",
       "    <tr>\n",
       "      <th>1</th>\n",
       "      <td>3.0</td>\n",
       "      <td>10</td>\n",
       "      <td>3.0</td>\n",
       "      <td>0</td>\n",
       "      <td>Pathfinder Abomination Vaults Hardcover Compil...</td>\n",
       "      <td>7.0</td>\n",
       "      <td>6.0</td>\n",
       "      <td>0.0</td>\n",
       "      <td>0.0</td>\n",
       "      <td>17.0</td>\n",
       "      <td>22.0</td>\n",
       "      <td>19.0</td>\n",
       "      <td>175</td>\n",
       "      <td>19.0</td>\n",
       "      <td>30.0</td>\n",
       "    </tr>\n",
       "    <tr>\n",
       "      <th>2</th>\n",
       "      <td>3.0</td>\n",
       "      <td>2</td>\n",
       "      <td>3.0</td>\n",
       "      <td>0</td>\n",
       "      <td>Pathfinder #164: Hands of the Devil</td>\n",
       "      <td>4.0</td>\n",
       "      <td>1.0</td>\n",
       "      <td>1.0</td>\n",
       "      <td>-2.0</td>\n",
       "      <td>11.0</td>\n",
       "      <td>7.0</td>\n",
       "      <td>9.0</td>\n",
       "      <td>38</td>\n",
       "      <td>7.0</td>\n",
       "      <td>17.0</td>\n",
       "    </tr>\n",
       "    <tr>\n",
       "      <th>3</th>\n",
       "      <td>4.0</td>\n",
       "      <td>8</td>\n",
       "      <td>3.0</td>\n",
       "      <td>0</td>\n",
       "      <td>Pathfinder #164: Hands of the Devil</td>\n",
       "      <td>3.0</td>\n",
       "      <td>3.0</td>\n",
       "      <td>1.0</td>\n",
       "      <td>0.0</td>\n",
       "      <td>16.0</td>\n",
       "      <td>17.0</td>\n",
       "      <td>15.0</td>\n",
       "      <td>140</td>\n",
       "      <td>16.0</td>\n",
       "      <td>27.0</td>\n",
       "    </tr>\n",
       "    <tr>\n",
       "      <th>4</th>\n",
       "      <td>6.0</td>\n",
       "      <td>9</td>\n",
       "      <td>4.0</td>\n",
       "      <td>0</td>\n",
       "      <td>Pathfinder #165: Eyes of Empty Death</td>\n",
       "      <td>-5.0</td>\n",
       "      <td>0.0</td>\n",
       "      <td>2.0</td>\n",
       "      <td>2.0</td>\n",
       "      <td>21.0</td>\n",
       "      <td>14.0</td>\n",
       "      <td>18.0</td>\n",
       "      <td>90</td>\n",
       "      <td>20.0</td>\n",
       "      <td>31.0</td>\n",
       "    </tr>\n",
       "  </tbody>\n",
       "</table>\n",
       "</div>"
      ],
      "text/plain": [
       "   dex  level  wis  focus                                               book  \\\n",
       "0  3.0      9  3.0      1               Pathfinder #165: Eyes of Empty Death   \n",
       "1  3.0     10  3.0      0  Pathfinder Abomination Vaults Hardcover Compil...   \n",
       "2  3.0      2  3.0      0                Pathfinder #164: Hands of the Devil   \n",
       "3  4.0      8  3.0      0                Pathfinder #164: Hands of the Devil   \n",
       "4  6.0      9  4.0      0               Pathfinder #165: Eyes of Empty Death   \n",
       "\n",
       "   str  con  cha  int  reflex  fortitude  will   hp  perception    ac  \n",
       "0  6.0  0.0  0.0  0.0    18.0       15.0  20.0  155        18.0  28.0  \n",
       "1  7.0  6.0  0.0  0.0    17.0       22.0  19.0  175        19.0  30.0  \n",
       "2  4.0  1.0  1.0 -2.0    11.0        7.0   9.0   38         7.0  17.0  \n",
       "3  3.0  3.0  1.0  0.0    16.0       17.0  15.0  140        16.0  27.0  \n",
       "4 -5.0  0.0  2.0  2.0    21.0       14.0  18.0   90        20.0  31.0  "
      ]
     },
     "execution_count": 3,
     "metadata": {},
     "output_type": "execute_result"
    }
   ],
   "source": [
    "df.head()"
   ]
  },
  {
   "cell_type": "markdown",
   "id": "1bf55cc1",
   "metadata": {},
   "source": [
    "###### Level"
   ]
  },
  {
   "cell_type": "code",
   "execution_count": 4,
   "id": "2d322d72",
   "metadata": {},
   "outputs": [
    {
     "data": {
      "text/plain": [
       "0        9\n",
       "1       10\n",
       "2        2\n",
       "3        8\n",
       "4        9\n",
       "        ..\n",
       "4322     2\n",
       "4324     3\n",
       "4325     4\n",
       "4326     2\n",
       "4327     2\n",
       "Name: level, Length: 3690, dtype: int64"
      ]
     },
     "execution_count": 4,
     "metadata": {},
     "output_type": "execute_result"
    }
   ],
   "source": [
    "y = df[\"level\"]\n",
    "y"
   ]
  },
  {
   "cell_type": "code",
   "execution_count": 5,
   "id": "e7887f19",
   "metadata": {},
   "outputs": [],
   "source": [
    "from collections import defaultdict\n",
    "\n",
    "\n",
    "lvl_stat = defaultdict(lambda: 0)\n",
    "\n",
    "for lvl in y:\n",
    "    lvl_stat[lvl] += 1"
   ]
  },
  {
   "cell_type": "code",
   "execution_count": 6,
   "id": "c982e6d0",
   "metadata": {},
   "outputs": [
    {
     "data": {
      "text/html": [
       "<div>\n",
       "<style scoped>\n",
       "    .dataframe tbody tr th:only-of-type {\n",
       "        vertical-align: middle;\n",
       "    }\n",
       "\n",
       "    .dataframe tbody tr th {\n",
       "        vertical-align: top;\n",
       "    }\n",
       "\n",
       "    .dataframe thead th {\n",
       "        text-align: right;\n",
       "    }\n",
       "</style>\n",
       "<table border=\"1\" class=\"dataframe\">\n",
       "  <thead>\n",
       "    <tr style=\"text-align: right;\">\n",
       "      <th></th>\n",
       "      <th>lvl</th>\n",
       "      <th>count</th>\n",
       "    </tr>\n",
       "  </thead>\n",
       "  <tbody>\n",
       "    <tr>\n",
       "      <th>0</th>\n",
       "      <td>-1</td>\n",
       "      <td>147</td>\n",
       "    </tr>\n",
       "    <tr>\n",
       "      <th>1</th>\n",
       "      <td>0</td>\n",
       "      <td>87</td>\n",
       "    </tr>\n",
       "    <tr>\n",
       "      <th>2</th>\n",
       "      <td>1</td>\n",
       "      <td>320</td>\n",
       "    </tr>\n",
       "    <tr>\n",
       "      <th>3</th>\n",
       "      <td>2</td>\n",
       "      <td>335</td>\n",
       "    </tr>\n",
       "    <tr>\n",
       "      <th>4</th>\n",
       "      <td>3</td>\n",
       "      <td>339</td>\n",
       "    </tr>\n",
       "    <tr>\n",
       "      <th>5</th>\n",
       "      <td>4</td>\n",
       "      <td>274</td>\n",
       "    </tr>\n",
       "    <tr>\n",
       "      <th>6</th>\n",
       "      <td>5</td>\n",
       "      <td>268</td>\n",
       "    </tr>\n",
       "    <tr>\n",
       "      <th>7</th>\n",
       "      <td>6</td>\n",
       "      <td>220</td>\n",
       "    </tr>\n",
       "    <tr>\n",
       "      <th>8</th>\n",
       "      <td>7</td>\n",
       "      <td>215</td>\n",
       "    </tr>\n",
       "    <tr>\n",
       "      <th>9</th>\n",
       "      <td>8</td>\n",
       "      <td>188</td>\n",
       "    </tr>\n",
       "    <tr>\n",
       "      <th>10</th>\n",
       "      <td>9</td>\n",
       "      <td>165</td>\n",
       "    </tr>\n",
       "    <tr>\n",
       "      <th>11</th>\n",
       "      <td>10</td>\n",
       "      <td>142</td>\n",
       "    </tr>\n",
       "    <tr>\n",
       "      <th>12</th>\n",
       "      <td>11</td>\n",
       "      <td>114</td>\n",
       "    </tr>\n",
       "    <tr>\n",
       "      <th>13</th>\n",
       "      <td>12</td>\n",
       "      <td>104</td>\n",
       "    </tr>\n",
       "    <tr>\n",
       "      <th>14</th>\n",
       "      <td>13</td>\n",
       "      <td>121</td>\n",
       "    </tr>\n",
       "    <tr>\n",
       "      <th>15</th>\n",
       "      <td>14</td>\n",
       "      <td>115</td>\n",
       "    </tr>\n",
       "    <tr>\n",
       "      <th>16</th>\n",
       "      <td>15</td>\n",
       "      <td>105</td>\n",
       "    </tr>\n",
       "    <tr>\n",
       "      <th>17</th>\n",
       "      <td>16</td>\n",
       "      <td>95</td>\n",
       "    </tr>\n",
       "    <tr>\n",
       "      <th>18</th>\n",
       "      <td>17</td>\n",
       "      <td>74</td>\n",
       "    </tr>\n",
       "    <tr>\n",
       "      <th>19</th>\n",
       "      <td>18</td>\n",
       "      <td>94</td>\n",
       "    </tr>\n",
       "    <tr>\n",
       "      <th>20</th>\n",
       "      <td>19</td>\n",
       "      <td>56</td>\n",
       "    </tr>\n",
       "    <tr>\n",
       "      <th>21</th>\n",
       "      <td>20</td>\n",
       "      <td>57</td>\n",
       "    </tr>\n",
       "    <tr>\n",
       "      <th>22</th>\n",
       "      <td>21</td>\n",
       "      <td>55</td>\n",
       "    </tr>\n",
       "  </tbody>\n",
       "</table>\n",
       "</div>"
      ],
      "text/plain": [
       "    lvl  count\n",
       "0    -1    147\n",
       "1     0     87\n",
       "2     1    320\n",
       "3     2    335\n",
       "4     3    339\n",
       "5     4    274\n",
       "6     5    268\n",
       "7     6    220\n",
       "8     7    215\n",
       "9     8    188\n",
       "10    9    165\n",
       "11   10    142\n",
       "12   11    114\n",
       "13   12    104\n",
       "14   13    121\n",
       "15   14    115\n",
       "16   15    105\n",
       "17   16     95\n",
       "18   17     74\n",
       "19   18     94\n",
       "20   19     56\n",
       "21   20     57\n",
       "22   21     55"
      ]
     },
     "execution_count": 6,
     "metadata": {},
     "output_type": "execute_result"
    }
   ],
   "source": [
    "level_count = pd.DataFrame(\n",
    "    data={\n",
    "        \"lvl\": [key for key in sorted(lvl_stat.keys())],\n",
    "        \"count\": [lvl_stat.get(key) for key in sorted(lvl_stat.keys())],\n",
    "    }\n",
    ")\n",
    "level_count"
   ]
  },
  {
   "cell_type": "code",
   "execution_count": 7,
   "id": "686877dd",
   "metadata": {},
   "outputs": [
    {
     "data": {
      "image/png": "[encoded data removed]",
      "text/plain": [
       "<Figure size 432x288 with 1 Axes>"
      ]
     },
     "metadata": {
      "needs_background": "light"
     },
     "output_type": "display_data"
    }
   ],
   "source": [
    "import matplotlib.pyplot as plt\n",
    "\n",
    "\n",
    "level_count.plot.bar(x=\"lvl\", y=\"count\", title=\"Count of levels\")\n",
    "plt.show()"
   ]
  },
  {
   "cell_type": "markdown",
   "id": "3f976e4a",
   "metadata": {},
   "source": [
    "## Train test split"
   ]
  },
  {
   "cell_type": "markdown",
   "id": "eb8cec62",
   "metadata": {},
   "source": [
    "### Chronological split"
   ]
  },
  {
   "cell_type": "code",
   "execution_count": 8,
   "id": "c6c29573",
   "metadata": {},
   "outputs": [],
   "source": [
    "from training.splitting_dataset import split_dataframe\n",
    "\n",
    "\n",
    "os.chdir(\"../../../training\")\n",
    "X_train, X_test, y_train, y_test = split_dataframe(df, test_size=0.31)\n",
    "os.chdir(\"../notebooks/models/lightgbm\")"
   ]
  },
  {
   "cell_type": "code",
   "execution_count": 9,
   "id": "f6894cc0",
   "metadata": {},
   "outputs": [],
   "source": [
    "X_train = X_train.drop(columns=[\"book\"])\n",
    "X_test = X_test.drop(columns=[\"book\"])"
   ]
  },
  {
   "cell_type": "markdown",
   "id": "31a0109c",
   "metadata": {},
   "source": [
    "### Random split"
   ]
  },
  {
   "cell_type": "code",
   "execution_count": 10,
   "id": "4d3e1121",
   "metadata": {},
   "outputs": [],
   "source": [
    "(\n",
    "    X_train_random_split,\n",
    "    X_test_random_split,\n",
    "    y_train_random_split,\n",
    "    y_test_random_split,\n",
    ") = split_dataframe(df, chronological_split=False)"
   ]
  },
  {
   "cell_type": "code",
   "execution_count": 11,
   "id": "f0c2041a",
   "metadata": {},
   "outputs": [],
   "source": [
    "X_train_random_split = X_train_random_split.drop(columns=[\"book\"])\n",
    "X_test_random_split = X_test_random_split.drop(columns=[\"book\"])"
   ]
  },
  {
   "cell_type": "markdown",
   "id": "e4776792",
   "metadata": {},
   "source": [
    "## LightGBM"
   ]
  },
  {
   "cell_type": "markdown",
   "id": "3f629b2d",
   "metadata": {},
   "source": [
    "## Chronological split"
   ]
  },
  {
   "cell_type": "code",
   "execution_count": 12,
   "id": "e818a3cc",
   "metadata": {},
   "outputs": [
    {
     "name": "stdout",
     "output_type": "stream",
     "text": [
      "[LightGBM] [Warning] Auto-choosing col-wise multi-threading, the overhead of testing was 0.000322 seconds.\n",
      "You can set `force_col_wise=true` to remove the overhead.\n",
      "[LightGBM] [Info] Total Bins 426\n",
      "[LightGBM] [Info] Number of data points in the train set: 1626, number of used features: 13\n",
      "[LightGBM] [Info] Start training from score 7.212177\n",
      "Training until validation scores don't improve for 5 rounds\n",
      "Did not meet early stopping. Best iteration is:\n",
      "[100]\tvalid_0's l2: 0.377336\tvalid_0's l1: 0.376859\n"
     ]
    }
   ],
   "source": [
    "import lightgbm as lgb\n",
    "\n",
    "lgb_train = lgb.Dataset(X_train, y_train)\n",
    "lgb_eval = lgb.Dataset(X_test, y_test, reference=lgb_train)\n",
    "\n",
    "params = {\n",
    "    \"boosting_type\": \"gbdt\",\n",
    "    \"objective\": \"regression\",\n",
    "    \"metric\": {\"l2\", \"l1\"},\n",
    "}\n",
    "\n",
    "gbm = lgb.train(\n",
    "    params,\n",
    "    lgb_train,\n",
    "    num_boost_round=100,\n",
    "    valid_sets=lgb_eval,\n",
    "    callbacks=[lgb.early_stopping(stopping_rounds=5)],\n",
    ")"
   ]
  },
  {
   "cell_type": "code",
   "execution_count": 13,
   "id": "b2dd69b5",
   "metadata": {},
   "outputs": [],
   "source": [
    "y_pred_train = gbm.predict(X_train, num_iteration=gbm.best_iteration)\n",
    "y_pred_test = gbm.predict(X_test, num_iteration=gbm.best_iteration)"
   ]
  },
  {
   "cell_type": "code",
   "execution_count": 14,
   "id": "68b425f7",
   "metadata": {},
   "outputs": [
    {
     "name": "stdout",
     "output_type": "stream",
     "text": [
      "RMSE: 0.61\n",
      "MAE: 0.38\n"
     ]
    }
   ],
   "source": [
    "from sklearn.metrics import mean_squared_error, mean_absolute_error\n",
    "\n",
    "\n",
    "rmse = mean_squared_error(y_test, y_pred_test, squared=False)\n",
    "mae = mean_absolute_error(y_test, y_pred_test)\n",
    "\n",
    "print(f\"RMSE: {rmse:.2f}\")\n",
    "print(f\"MAE: {mae:.2f}\")"
   ]
  },
  {
   "cell_type": "code",
   "execution_count": 15,
   "id": "a615e9df",
   "metadata": {},
   "outputs": [],
   "source": [
    "results = pd.DataFrame(\n",
    "    data={\n",
    "        \"Split type\": [],\n",
    "        \"Tuning type\": [],\n",
    "        \"Set of features\": [],\n",
    "        \"RMSE\": [],\n",
    "        \"MAE\": [],\n",
    "    }\n",
    ")\n",
    "\n",
    "results.loc[0] = [\"chronological\", \"default\", \"expanded\", rmse, mae]"
   ]
  },
  {
   "cell_type": "code",
   "execution_count": 16,
   "id": "9d777b5d",
   "metadata": {},
   "outputs": [
    {
     "name": "stdout",
     "output_type": "stream",
     "text": [
      "RMSE train: 0.22\n",
      "RMSE test: 0.61\n"
     ]
    }
   ],
   "source": [
    "rmse_train = mean_squared_error(y_train, y_pred_train, squared=False)\n",
    "rmse_test = mean_squared_error(y_test, y_pred_test, squared=False)\n",
    "print(f\"RMSE train: {rmse_train:.2f}\")\n",
    "print(f\"RMSE test: {rmse_test:.2f}\")"
   ]
  },
  {
   "cell_type": "markdown",
   "id": "c8d83c18",
   "metadata": {},
   "source": [
    "###### MAE by level"
   ]
  },
  {
   "cell_type": "code",
   "execution_count": 17,
   "id": "ac580d53",
   "metadata": {},
   "outputs": [],
   "source": [
    "from training.results import plot_mae_by_level"
   ]
  },
  {
   "cell_type": "code",
   "execution_count": 18,
   "id": "53b88797",
   "metadata": {},
   "outputs": [
    {
     "data": {
      "image/png": "[encoded data removed]",
      "text/plain": [
       "<Figure size 1440x576 with 1 Axes>"
      ]
     },
     "metadata": {
      "needs_background": "light"
     },
     "output_type": "display_data"
    }
   ],
   "source": [
    "plot_mae_by_level(\n",
    "    y_test,\n",
    "    y_pred_test,\n",
    "    title=\"MAE by level for default LightGBM with expanded features and chronological split\",\n",
    ")"
   ]
  },
  {
   "cell_type": "code",
   "execution_count": 19,
   "id": "4135d981",
   "metadata": {},
   "outputs": [
    {
     "name": "stdout",
     "output_type": "stream",
     "text": [
      "Default:\n",
      "RMSE: 0.61\n",
      "\n",
      "Round type: 0.5\n",
      "RMSE: 0.66\n",
      "\n",
      "Round type: 0.33\n",
      "RMSE: 0.66\n",
      "\n",
      "Round type: 0.45\n",
      "RMSE: 0.65\n",
      "\n"
     ]
    }
   ],
   "source": [
    "from training.results import evaluate_round_predictions, plot_confusion_matrix\n",
    "\n",
    "\n",
    "evaluate_round_predictions([0.5, 0.33, 0.45], y_test, y_pred_test)"
   ]
  },
  {
   "cell_type": "code",
   "execution_count": 20,
   "id": "4741e1ec",
   "metadata": {},
   "outputs": [
    {
     "data": {
      "image/png": "[encoded data removed]",
      "text/plain": [
       "<Figure size 720x720 with 2 Axes>"
      ]
     },
     "metadata": {
      "needs_background": "light"
     },
     "output_type": "display_data"
    }
   ],
   "source": [
    "plot_confusion_matrix(\n",
    "    y_pred_test,\n",
    "    y_test,\n",
    "    title=\"Confusion matrix for default LightGBM with\\nexpanded features and chronological split\",\n",
    ")"
   ]
  },
  {
   "cell_type": "markdown",
   "id": "a6b03404",
   "metadata": {},
   "source": [
    "#### Tuning"
   ]
  },
  {
   "cell_type": "code",
   "execution_count": 21,
   "id": "e7f8b7ee",
   "metadata": {},
   "outputs": [],
   "source": [
    "from training.results import assess_regression_model"
   ]
  },
  {
   "cell_type": "code",
   "execution_count": 22,
   "id": "10cd6bac",
   "metadata": {
    "scrolled": true
   },
   "outputs": [
    {
     "name": "stderr",
     "output_type": "stream",
     "text": [
      "[I 2023-12-01 17:40:27,867] A new study created in memory with name: no-name-75291a98-515c-4b26-9d42-4a741ac00d2f\n",
      "feature_fraction, val_score: inf:   0%|                                                          | 0/7 [00:00<?, ?it/s]"
     ]
    },
    {
     "name": "stdout",
     "output_type": "stream",
     "text": [
      "Training until validation scores don't improve for 100 rounds\n",
      "[100]\tcv_agg's l2: 0.200193 + 0.114961\n",
      "[200]\tcv_agg's l2: 0.197821 + 0.110609\n",
      "[300]\tcv_agg's l2: 0.19891 + 0.108975\n"
     ]
    },
    {
     "name": "stderr",
     "output_type": "stream",
     "text": [
      "feature_fraction, val_score: 0.197440:  14%|######4                                      | 1/7 [00:02<00:16,  2.70s/it][I 2023-12-01 17:40:30,576] Trial 0 finished with value: 0.19744046645408914 and parameters: {'feature_fraction': 0.4}. Best is trial 0 with value: 0.19744046645408914.\n",
      "feature_fraction, val_score: 0.197440:  14%|######4                                      | 1/7 [00:02<00:16,  2.70s/it]"
     ]
    },
    {
     "name": "stdout",
     "output_type": "stream",
     "text": [
      "Early stopping, best iteration is:\n",
      "[231]\tcv_agg's l2: 0.19744 + 0.110023\n",
      "[100]\tcv_agg's l2: 0.210269 + 0.126788\n",
      "[200]\tcv_agg's l2: 0.205478 + 0.124821\n",
      "[300]\tcv_agg's l2: 0.206353 + 0.123095\n"
     ]
    },
    {
     "name": "stderr",
     "output_type": "stream",
     "text": [
      "feature_fraction, val_score: 0.197440:  29%|############8                                | 2/7 [00:05<00:14,  2.81s/it][I 2023-12-01 17:40:33,462] Trial 1 finished with value: 0.20559916958572652 and parameters: {'feature_fraction': 0.8999999999999999}. Best is trial 0 with value: 0.19744046645408914.\n",
      "feature_fraction, val_score: 0.197440:  29%|############8                                | 2/7 [00:05<00:14,  2.81s/it]"
     ]
    },
    {
     "name": "stdout",
     "output_type": "stream",
     "text": [
      "Early stopping, best iteration is:\n",
      "[231]\tcv_agg's l2: 0.19744 + 0.110023\n",
      "[100]\tcv_agg's l2: 0.217113 + 0.136915\n",
      "[200]\tcv_agg's l2: 0.213349 + 0.1315\n",
      "[300]\tcv_agg's l2: 0.214563 + 0.129399\n"
     ]
    },
    {
     "name": "stderr",
     "output_type": "stream",
     "text": [
      "feature_fraction, val_score: 0.197440:  43%|###################2                         | 3/7 [00:08<00:11,  2.87s/it][I 2023-12-01 17:40:36,400] Trial 2 finished with value: 0.21341688262837888 and parameters: {'feature_fraction': 1.0}. Best is trial 0 with value: 0.19744046645408914.\n",
      "feature_fraction, val_score: 0.197440:  43%|###################2                         | 3/7 [00:08<00:11,  2.87s/it]"
     ]
    },
    {
     "name": "stdout",
     "output_type": "stream",
     "text": [
      "Early stopping, best iteration is:\n",
      "[231]\tcv_agg's l2: 0.19744 + 0.110023\n",
      "[100]\tcv_agg's l2: 0.204769 + 0.121922\n",
      "[200]\tcv_agg's l2: 0.203037 + 0.11943\n",
      "[300]\tcv_agg's l2: 0.205241 + 0.120101\n"
     ]
    },
    {
     "name": "stderr",
     "output_type": "stream",
     "text": [
      "feature_fraction, val_score: 0.197440:  57%|#########################7                   | 4/7 [00:11<00:08,  2.90s/it][I 2023-12-01 17:40:39,357] Trial 3 finished with value: 0.20391995426249293 and parameters: {'feature_fraction': 0.5}. Best is trial 0 with value: 0.19744046645408914.\n",
      "feature_fraction, val_score: 0.197440:  57%|#########################7                   | 4/7 [00:11<00:08,  2.90s/it]"
     ]
    },
    {
     "name": "stdout",
     "output_type": "stream",
     "text": [
      "Early stopping, best iteration is:\n",
      "[231]\tcv_agg's l2: 0.19744 + 0.110023\n",
      "[100]\tcv_agg's l2: 0.198582 + 0.105164\n",
      "[200]\tcv_agg's l2: 0.197054 + 0.102933\n"
     ]
    },
    {
     "name": "stderr",
     "output_type": "stream",
     "text": [
      "feature_fraction, val_score: 0.195872:  71%|################################1            | 5/7 [00:13<00:05,  2.61s/it][I 2023-12-01 17:40:41,441] Trial 4 finished with value: 0.19587172653849477 and parameters: {'feature_fraction': 0.6}. Best is trial 4 with value: 0.19587172653849477.\n",
      "feature_fraction, val_score: 0.195872:  71%|################################1            | 5/7 [00:13<00:05,  2.61s/it]"
     ]
    },
    {
     "name": "stdout",
     "output_type": "stream",
     "text": [
      "Early stopping, best iteration is:\n",
      "[155]\tcv_agg's l2: 0.195872 + 0.103667\n",
      "[100]\tcv_agg's l2: 0.201444 + 0.1076\n",
      "[200]\tcv_agg's l2: 0.199618 + 0.10595\n"
     ]
    },
    {
     "name": "stderr",
     "output_type": "stream",
     "text": [
      "feature_fraction, val_score: 0.195872:  86%|######################################5      | 6/7 [00:16<00:02,  2.57s/it][I 2023-12-01 17:40:43,945] Trial 5 finished with value: 0.19878700909349312 and parameters: {'feature_fraction': 0.8}. Best is trial 4 with value: 0.19587172653849477.\n",
      "feature_fraction, val_score: 0.195872:  86%|######################################5      | 6/7 [00:16<00:02,  2.57s/it]"
     ]
    },
    {
     "name": "stdout",
     "output_type": "stream",
     "text": [
      "Early stopping, best iteration is:\n",
      "[155]\tcv_agg's l2: 0.195872 + 0.103667\n",
      "[100]\tcv_agg's l2: 0.198911 + 0.0995399\n",
      "[200]\tcv_agg's l2: 0.197882 + 0.0985643\n"
     ]
    },
    {
     "name": "stderr",
     "output_type": "stream",
     "text": [
      "feature_fraction, val_score: 0.195872: 100%|#############################################| 7/7 [00:18<00:00,  2.51s/it][I 2023-12-01 17:40:46,322] Trial 6 finished with value: 0.19752884133353876 and parameters: {'feature_fraction': 0.7}. Best is trial 4 with value: 0.19587172653849477.\n",
      "feature_fraction, val_score: 0.195872: 100%|#############################################| 7/7 [00:18<00:00,  2.64s/it]\n"
     ]
    },
    {
     "name": "stdout",
     "output_type": "stream",
     "text": [
      "Early stopping, best iteration is:\n",
      "[155]\tcv_agg's l2: 0.195872 + 0.103667\n"
     ]
    },
    {
     "name": "stderr",
     "output_type": "stream",
     "text": [
      "num_leaves, val_score: 0.195872:   0%|                                                          | 0/20 [00:00<?, ?it/s]"
     ]
    },
    {
     "name": "stdout",
     "output_type": "stream",
     "text": [
      "[100]\tcv_agg's l2: 0.199424 + 0.0994668\n",
      "[200]\tcv_agg's l2: 0.200352 + 0.0973503\n"
     ]
    },
    {
     "name": "stderr",
     "output_type": "stream",
     "text": [
      "num_leaves, val_score: 0.195872:   5%|##5                                               | 1/20 [00:03<01:04,  3.37s/it][I 2023-12-01 17:40:49,696] Trial 7 finished with value: 0.19859900212339565 and parameters: {'num_leaves': 190}. Best is trial 7 with value: 0.19859900212339565.\n",
      "num_leaves, val_score: 0.195872:   5%|##5                                               | 1/20 [00:03<01:04,  3.37s/it]"
     ]
    },
    {
     "name": "stdout",
     "output_type": "stream",
     "text": [
      "Early stopping, best iteration is:\n",
      "[155]\tcv_agg's l2: 0.195872 + 0.103667\n",
      "[100]\tcv_agg's l2: 0.199424 + 0.0994668\n",
      "[200]\tcv_agg's l2: 0.200352 + 0.0973503\n"
     ]
    },
    {
     "name": "stderr",
     "output_type": "stream",
     "text": [
      "num_leaves, val_score: 0.195872:  10%|#####                                             | 2/20 [00:06<00:59,  3.32s/it][I 2023-12-01 17:40:52,983] Trial 8 finished with value: 0.19859900212339565 and parameters: {'num_leaves': 165}. Best is trial 7 with value: 0.19859900212339565.\n",
      "num_leaves, val_score: 0.195872:  10%|#####                                             | 2/20 [00:06<00:59,  3.32s/it]"
     ]
    },
    {
     "name": "stdout",
     "output_type": "stream",
     "text": [
      "Early stopping, best iteration is:\n",
      "[155]\tcv_agg's l2: 0.195872 + 0.103667\n",
      "[100]\tcv_agg's l2: 0.199424 + 0.0994668\n",
      "[200]\tcv_agg's l2: 0.200352 + 0.0973503\n"
     ]
    },
    {
     "name": "stderr",
     "output_type": "stream",
     "text": [
      "num_leaves, val_score: 0.195872:  15%|#######5                                          | 3/20 [00:09<00:54,  3.20s/it][I 2023-12-01 17:40:56,036] Trial 9 finished with value: 0.19859900212339565 and parameters: {'num_leaves': 106}. Best is trial 7 with value: 0.19859900212339565.\n",
      "num_leaves, val_score: 0.195872:  15%|#######5                                          | 3/20 [00:09<00:54,  3.20s/it]"
     ]
    },
    {
     "name": "stdout",
     "output_type": "stream",
     "text": [
      "Early stopping, best iteration is:\n",
      "[155]\tcv_agg's l2: 0.195872 + 0.103667\n",
      "[100]\tcv_agg's l2: 0.198171 + 0.102843\n",
      "[200]\tcv_agg's l2: 0.196526 + 0.101055\n"
     ]
    },
    {
     "name": "stderr",
     "output_type": "stream",
     "text": [
      "num_leaves, val_score: 0.195872:  20%|##########                                        | 4/20 [00:11<00:44,  2.75s/it][I 2023-12-01 17:40:58,104] Trial 10 finished with value: 0.19655579477152413 and parameters: {'num_leaves': 26}. Best is trial 10 with value: 0.19655579477152413.\n",
      "num_leaves, val_score: 0.195872:  20%|##########                                        | 4/20 [00:11<00:44,  2.75s/it]"
     ]
    },
    {
     "name": "stdout",
     "output_type": "stream",
     "text": [
      "Early stopping, best iteration is:\n",
      "[155]\tcv_agg's l2: 0.195872 + 0.103667\n",
      "[100]\tcv_agg's l2: 0.199429 + 0.105797\n",
      "[200]\tcv_agg's l2: 0.193325 + 0.104388\n",
      "[300]\tcv_agg's l2: 0.192949 + 0.104013\n"
     ]
    },
    {
     "name": "stderr",
     "output_type": "stream",
     "text": [
      "num_leaves, val_score: 0.192571:  25%|############5                                     | 5/20 [00:13<00:36,  2.46s/it][I 2023-12-01 17:41:00,057] Trial 11 finished with value: 0.19257109773308628 and parameters: {'num_leaves': 16}. Best is trial 11 with value: 0.19257109773308628.\n",
      "num_leaves, val_score: 0.192571:  25%|############5                                     | 5/20 [00:13<00:36,  2.46s/it]"
     ]
    },
    {
     "name": "stdout",
     "output_type": "stream",
     "text": [
      "[400]\tcv_agg's l2: 0.193753 + 0.105189\n",
      "Early stopping, best iteration is:\n",
      "[312]\tcv_agg's l2: 0.192571 + 0.103894\n",
      "[100]\tcv_agg's l2: 0.209201 + 0.109815\n",
      "[200]\tcv_agg's l2: 0.199427 + 0.105261\n",
      "[300]\tcv_agg's l2: 0.195009 + 0.104372\n"
     ]
    },
    {
     "name": "stderr",
     "output_type": "stream",
     "text": [
      "num_leaves, val_score: 0.192571:  30%|###############                                   | 6/20 [00:14<00:28,  2.03s/it][I 2023-12-01 17:41:01,258] Trial 12 finished with value: 0.19458023948403863 and parameters: {'num_leaves': 8}. Best is trial 11 with value: 0.19257109773308628.\n",
      "num_leaves, val_score: 0.192571:  30%|###############                                   | 6/20 [00:14<00:28,  2.03s/it]"
     ]
    },
    {
     "name": "stdout",
     "output_type": "stream",
     "text": [
      "[400]\tcv_agg's l2: 0.193133 + 0.104874\n",
      "Early stopping, best iteration is:\n",
      "[312]\tcv_agg's l2: 0.192571 + 0.103894\n",
      "[100]\tcv_agg's l2: 0.290494 + 0.128121\n",
      "[200]\tcv_agg's l2: 0.25771 + 0.124848\n",
      "[300]\tcv_agg's l2: 0.243788 + 0.121085\n"
     ]
    },
    {
     "name": "stderr",
     "output_type": "stream",
     "text": [
      "num_leaves, val_score: 0.192571:  35%|#################5                                | 7/20 [00:15<00:20,  1.58s/it][I 2023-12-01 17:41:01,905] Trial 13 finished with value: 0.2422648554294739 and parameters: {'num_leaves': 3}. Best is trial 11 with value: 0.19257109773308628.\n",
      "num_leaves, val_score: 0.192571:  35%|#################5                                | 7/20 [00:15<00:20,  1.58s/it]"
     ]
    },
    {
     "name": "stdout",
     "output_type": "stream",
     "text": [
      "[400]\tcv_agg's l2: 0.233311 + 0.116968\n",
      "Early stopping, best iteration is:\n",
      "[312]\tcv_agg's l2: 0.192571 + 0.103894\n",
      "[100]\tcv_agg's l2: 0.199424 + 0.0994668\n",
      "[200]\tcv_agg's l2: 0.200352 + 0.0973503\n",
      "[300]\tcv_agg's l2: 0.203079 + 0.0969536\n"
     ]
    },
    {
     "name": "stderr",
     "output_type": "stream",
     "text": [
      "num_leaves, val_score: 0.192571:  40%|####################                              | 8/20 [00:20<00:32,  2.74s/it][I 2023-12-01 17:41:07,138] Trial 14 finished with value: 0.20348037996692878 and parameters: {'num_leaves': 63}. Best is trial 11 with value: 0.19257109773308628.\n",
      "num_leaves, val_score: 0.192571:  40%|####################                              | 8/20 [00:20<00:32,  2.74s/it]"
     ]
    },
    {
     "name": "stdout",
     "output_type": "stream",
     "text": [
      "[400]\tcv_agg's l2: 0.205923 + 0.0967644\n",
      "Early stopping, best iteration is:\n",
      "[312]\tcv_agg's l2: 0.192571 + 0.103894\n",
      "[100]\tcv_agg's l2: 0.199424 + 0.0994668\n",
      "[200]\tcv_agg's l2: 0.200352 + 0.0973503\n",
      "[300]\tcv_agg's l2: 0.203079 + 0.0969536\n"
     ]
    },
    {
     "name": "stderr",
     "output_type": "stream",
     "text": [
      "num_leaves, val_score: 0.192571:  45%|######################5                           | 9/20 [00:26<00:39,  3.63s/it][I 2023-12-01 17:41:12,727] Trial 15 finished with value: 0.20348037996692878 and parameters: {'num_leaves': 77}. Best is trial 11 with value: 0.19257109773308628.\n",
      "num_leaves, val_score: 0.192571:  45%|######################5                           | 9/20 [00:26<00:39,  3.63s/it]"
     ]
    },
    {
     "name": "stdout",
     "output_type": "stream",
     "text": [
      "[400]\tcv_agg's l2: 0.205923 + 0.0967644\n",
      "Early stopping, best iteration is:\n",
      "[312]\tcv_agg's l2: 0.192571 + 0.103894\n",
      "[100]\tcv_agg's l2: 0.209201 + 0.109815\n",
      "[200]\tcv_agg's l2: 0.199427 + 0.105261\n",
      "[300]\tcv_agg's l2: 0.195009 + 0.104372\n"
     ]
    },
    {
     "name": "stderr",
     "output_type": "stream",
     "text": [
      "num_leaves, val_score: 0.192571:  50%|########################5                        | 10/20 [00:27<00:29,  2.95s/it][I 2023-12-01 17:41:14,134] Trial 16 finished with value: 0.19458023948403863 and parameters: {'num_leaves': 8}. Best is trial 11 with value: 0.19257109773308628.\n",
      "num_leaves, val_score: 0.192571:  50%|########################5                        | 10/20 [00:27<00:29,  2.95s/it]"
     ]
    },
    {
     "name": "stdout",
     "output_type": "stream",
     "text": [
      "[400]\tcv_agg's l2: 0.193133 + 0.104874\n",
      "Early stopping, best iteration is:\n",
      "[312]\tcv_agg's l2: 0.192571 + 0.103894\n",
      "[100]\tcv_agg's l2: 0.199424 + 0.0994668\n",
      "[200]\tcv_agg's l2: 0.200352 + 0.0973503\n",
      "[300]\tcv_agg's l2: 0.203079 + 0.0969536\n"
     ]
    },
    {
     "name": "stderr",
     "output_type": "stream",
     "text": [
      "num_leaves, val_score: 0.192571:  55%|##########################9                      | 11/20 [00:33<00:34,  3.78s/it][I 2023-12-01 17:41:19,813] Trial 17 finished with value: 0.20348037996692878 and parameters: {'num_leaves': 57}. Best is trial 11 with value: 0.19257109773308628.\n",
      "num_leaves, val_score: 0.192571:  55%|##########################9                      | 11/20 [00:33<00:34,  3.78s/it]"
     ]
    },
    {
     "name": "stdout",
     "output_type": "stream",
     "text": [
      "[400]\tcv_agg's l2: 0.205923 + 0.0967644\n",
      "Early stopping, best iteration is:\n",
      "[312]\tcv_agg's l2: 0.192571 + 0.103894\n",
      "[100]\tcv_agg's l2: 0.199424 + 0.0994668\n",
      "[200]\tcv_agg's l2: 0.200352 + 0.0973503\n",
      "[300]\tcv_agg's l2: 0.203079 + 0.0969536\n"
     ]
    },
    {
     "name": "stderr",
     "output_type": "stream",
     "text": [
      "num_leaves, val_score: 0.192571:  60%|#############################4                   | 12/20 [00:38<00:34,  4.26s/it][I 2023-12-01 17:41:25,183] Trial 18 finished with value: 0.20348037996692878 and parameters: {'num_leaves': 229}. Best is trial 11 with value: 0.19257109773308628.\n",
      "num_leaves, val_score: 0.192571:  60%|#############################4                   | 12/20 [00:38<00:34,  4.26s/it]"
     ]
    },
    {
     "name": "stdout",
     "output_type": "stream",
     "text": [
      "[400]\tcv_agg's l2: 0.205923 + 0.0967644\n",
      "Early stopping, best iteration is:\n",
      "[312]\tcv_agg's l2: 0.192571 + 0.103894\n",
      "[100]\tcv_agg's l2: 0.199424 + 0.0994668\n",
      "[200]\tcv_agg's l2: 0.200352 + 0.0973503\n",
      "[300]\tcv_agg's l2: 0.203079 + 0.0969536\n"
     ]
    },
    {
     "name": "stderr",
     "output_type": "stream",
     "text": [
      "num_leaves, val_score: 0.192571:  65%|###############################8                 | 13/20 [00:44<00:32,  4.61s/it][I 2023-12-01 17:41:30,578] Trial 19 finished with value: 0.20348037996692878 and parameters: {'num_leaves': 105}. Best is trial 11 with value: 0.19257109773308628.\n",
      "num_leaves, val_score: 0.192571:  65%|###############################8                 | 13/20 [00:44<00:32,  4.61s/it]"
     ]
    },
    {
     "name": "stdout",
     "output_type": "stream",
     "text": [
      "[400]\tcv_agg's l2: 0.205923 + 0.0967644\n",
      "Early stopping, best iteration is:\n",
      "[312]\tcv_agg's l2: 0.192571 + 0.103894\n",
      "[100]\tcv_agg's l2: 0.198597 + 0.0954729\n",
      "[200]\tcv_agg's l2: 0.197202 + 0.0921077\n",
      "[300]\tcv_agg's l2: 0.198694 + 0.0919418\n"
     ]
    },
    {
     "name": "stderr",
     "output_type": "stream",
     "text": [
      "num_leaves, val_score: 0.192571:  70%|##################################3              | 14/20 [00:49<00:28,  4.73s/it][I 2023-12-01 17:41:35,601] Trial 20 finished with value: 0.19903106489693903 and parameters: {'num_leaves': 42}. Best is trial 11 with value: 0.19257109773308628.\n",
      "num_leaves, val_score: 0.192571:  70%|##################################3              | 14/20 [00:49<00:28,  4.73s/it]"
     ]
    },
    {
     "name": "stdout",
     "output_type": "stream",
     "text": [
      "[400]\tcv_agg's l2: 0.201279 + 0.0915523\n",
      "Early stopping, best iteration is:\n",
      "[312]\tcv_agg's l2: 0.192571 + 0.103894\n",
      "[100]\tcv_agg's l2: 0.220975 + 0.0986314\n",
      "[200]\tcv_agg's l2: 0.203419 + 0.0934511\n",
      "[300]\tcv_agg's l2: 0.194096 + 0.0925894\n",
      "[400]\tcv_agg's l2: 0.191656 + 0.0933552\n",
      "[500]\tcv_agg's l2: 0.190721 + 0.0938288\n"
     ]
    },
    {
     "name": "stderr",
     "output_type": "stream",
     "text": [
      "num_leaves, val_score: 0.190369:  75%|####################################7            | 15/20 [00:50<00:18,  3.75s/it][I 2023-12-01 17:41:37,072] Trial 21 finished with value: 0.19036946718149902 and parameters: {'num_leaves': 6}. Best is trial 21 with value: 0.19036946718149902.\n",
      "num_leaves, val_score: 0.190369:  75%|####################################7            | 15/20 [00:50<00:18,  3.75s/it]"
     ]
    },
    {
     "name": "stdout",
     "output_type": "stream",
     "text": [
      "[600]\tcv_agg's l2: 0.191116 + 0.0952519\n",
      "Early stopping, best iteration is:\n",
      "[508]\tcv_agg's l2: 0.190369 + 0.0939387\n",
      "[100]\tcv_agg's l2: 0.195329 + 0.106199\n",
      "[200]\tcv_agg's l2: 0.194819 + 0.103881\n",
      "[300]\tcv_agg's l2: 0.196617 + 0.103918\n",
      "[400]\tcv_agg's l2: 0.199033 + 0.103726\n",
      "[500]\tcv_agg's l2: 0.201293 + 0.103483\n"
     ]
    },
    {
     "name": "stderr",
     "output_type": "stream",
     "text": [
      "num_leaves, val_score: 0.190369:  80%|#######################################2         | 16/20 [00:56<00:17,  4.25s/it][I 2023-12-01 17:41:42,499] Trial 22 finished with value: 0.20136855194578449 and parameters: {'num_leaves': 32}. Best is trial 21 with value: 0.19036946718149902.\n",
      "num_leaves, val_score: 0.190369:  80%|#######################################2         | 16/20 [00:56<00:17,  4.25s/it]"
     ]
    },
    {
     "name": "stdout",
     "output_type": "stream",
     "text": [
      "[600]\tcv_agg's l2: 0.202928 + 0.10326\n",
      "Early stopping, best iteration is:\n",
      "[508]\tcv_agg's l2: 0.190369 + 0.0939387\n",
      "[100]\tcv_agg's l2: 0.209201 + 0.109815\n",
      "[200]\tcv_agg's l2: 0.199427 + 0.105261\n",
      "[300]\tcv_agg's l2: 0.195009 + 0.104372\n",
      "[400]\tcv_agg's l2: 0.193133 + 0.104874\n",
      "[500]\tcv_agg's l2: 0.193047 + 0.104513\n"
     ]
    },
    {
     "name": "stderr",
     "output_type": "stream",
     "text": [
      "num_leaves, val_score: 0.190369:  85%|#########################################6       | 17/20 [00:57<00:10,  3.51s/it][I 2023-12-01 17:41:44,290] Trial 23 finished with value: 0.19288597910983468 and parameters: {'num_leaves': 8}. Best is trial 21 with value: 0.19036946718149902.\n",
      "num_leaves, val_score: 0.190369:  85%|#########################################6       | 17/20 [00:57<00:10,  3.51s/it]"
     ]
    },
    {
     "name": "stdout",
     "output_type": "stream",
     "text": [
      "[600]\tcv_agg's l2: 0.19242 + 0.104579\n",
      "Early stopping, best iteration is:\n",
      "[508]\tcv_agg's l2: 0.190369 + 0.0939387\n",
      "[100]\tcv_agg's l2: 0.199424 + 0.0994668\n",
      "[200]\tcv_agg's l2: 0.200352 + 0.0973503\n",
      "[300]\tcv_agg's l2: 0.203079 + 0.0969536\n",
      "[400]\tcv_agg's l2: 0.205923 + 0.0967644\n",
      "[500]\tcv_agg's l2: 0.207954 + 0.0961177\n"
     ]
    },
    {
     "name": "stderr",
     "output_type": "stream",
     "text": [
      "num_leaves, val_score: 0.190369:  90%|############################################1    | 18/20 [01:06<00:10,  5.00s/it][I 2023-12-01 17:41:52,755] Trial 24 finished with value: 0.20809579342684872 and parameters: {'num_leaves': 82}. Best is trial 21 with value: 0.19036946718149902.\n",
      "num_leaves, val_score: 0.190369:  90%|############################################1    | 18/20 [01:06<00:10,  5.00s/it]"
     ]
    },
    {
     "name": "stdout",
     "output_type": "stream",
     "text": [
      "[600]\tcv_agg's l2: 0.209664 + 0.0958815\n",
      "Early stopping, best iteration is:\n",
      "[508]\tcv_agg's l2: 0.190369 + 0.0939387\n",
      "[100]\tcv_agg's l2: 0.197708 + 0.100801\n",
      "[200]\tcv_agg's l2: 0.198334 + 0.0980062\n",
      "[300]\tcv_agg's l2: 0.200544 + 0.0974049\n",
      "[400]\tcv_agg's l2: 0.203903 + 0.0975481\n",
      "[500]\tcv_agg's l2: 0.20596 + 0.0969887\n"
     ]
    },
    {
     "name": "stderr",
     "output_type": "stream",
     "text": [
      "num_leaves, val_score: 0.190369:  95%|##############################################5  | 19/20 [01:12<00:05,  5.36s/it][I 2023-12-01 17:41:58,933] Trial 25 finished with value: 0.20599626323644554 and parameters: {'num_leaves': 37}. Best is trial 21 with value: 0.19036946718149902.\n",
      "num_leaves, val_score: 0.190369:  95%|##############################################5  | 19/20 [01:12<00:05,  5.36s/it]"
     ]
    },
    {
     "name": "stdout",
     "output_type": "stream",
     "text": [
      "[600]\tcv_agg's l2: 0.207646 + 0.0970422\n",
      "Early stopping, best iteration is:\n",
      "[508]\tcv_agg's l2: 0.190369 + 0.0939387\n",
      "[100]\tcv_agg's l2: 0.266324 + 0.124188\n",
      "[200]\tcv_agg's l2: 0.238355 + 0.117753\n",
      "[300]\tcv_agg's l2: 0.226671 + 0.112742\n",
      "[400]\tcv_agg's l2: 0.221117 + 0.113264\n",
      "[500]\tcv_agg's l2: 0.217521 + 0.112133\n"
     ]
    },
    {
     "name": "stderr",
     "output_type": "stream",
     "text": [
      "num_leaves, val_score: 0.190369: 100%|#################################################| 20/20 [01:13<00:00,  4.12s/it][I 2023-12-01 17:42:00,164] Trial 26 finished with value: 0.21706326639586893 and parameters: {'num_leaves': 4}. Best is trial 21 with value: 0.19036946718149902.\n",
      "num_leaves, val_score: 0.190369: 100%|#################################################| 20/20 [01:13<00:00,  3.69s/it]\n"
     ]
    },
    {
     "name": "stdout",
     "output_type": "stream",
     "text": [
      "[600]\tcv_agg's l2: 0.214813 + 0.111312\n",
      "Early stopping, best iteration is:\n",
      "[508]\tcv_agg's l2: 0.190369 + 0.0939387\n"
     ]
    },
    {
     "name": "stderr",
     "output_type": "stream",
     "text": [
      "bagging, val_score: 0.190369:   0%|                                                             | 0/10 [00:00<?, ?it/s]"
     ]
    },
    {
     "name": "stdout",
     "output_type": "stream",
     "text": [
      "[100]\tcv_agg's l2: 0.229626 + 0.107533\n",
      "[200]\tcv_agg's l2: 0.212188 + 0.102194\n",
      "[300]\tcv_agg's l2: 0.203862 + 0.0990262\n",
      "[400]\tcv_agg's l2: 0.201316 + 0.0967623\n",
      "[500]\tcv_agg's l2: 0.199283 + 0.0953852\n"
     ]
    },
    {
     "name": "stderr",
     "output_type": "stream",
     "text": [
      "bagging, val_score: 0.190369:  10%|#####3                                               | 1/10 [00:01<00:14,  1.59s/it][I 2023-12-01 17:42:01,763] Trial 27 finished with value: 0.19940974095780026 and parameters: {'bagging_fraction': 0.5047888833654495, 'bagging_freq': 2}. Best is trial 27 with value: 0.19940974095780026.\n",
      "bagging, val_score: 0.190369:  10%|#####3                                               | 1/10 [00:01<00:14,  1.59s/it]"
     ]
    },
    {
     "name": "stdout",
     "output_type": "stream",
     "text": [
      "[600]\tcv_agg's l2: 0.19677 + 0.0920871\n",
      "Early stopping, best iteration is:\n",
      "[508]\tcv_agg's l2: 0.190369 + 0.0939387\n",
      "[100]\tcv_agg's l2: 0.233366 + 0.120748\n",
      "[200]\tcv_agg's l2: 0.209439 + 0.112186\n",
      "[300]\tcv_agg's l2: 0.201452 + 0.111947\n",
      "[400]\tcv_agg's l2: 0.198592 + 0.110968\n",
      "[500]\tcv_agg's l2: 0.196237 + 0.110757\n"
     ]
    },
    {
     "name": "stderr",
     "output_type": "stream",
     "text": [
      "bagging, val_score: 0.190369:  20%|##########6                                          | 2/10 [00:03<00:12,  1.58s/it][I 2023-12-01 17:42:03,326] Trial 28 finished with value: 0.19604310872380318 and parameters: {'bagging_fraction': 0.9641189914916698, 'bagging_freq': 7}. Best is trial 28 with value: 0.19604310872380318.\n",
      "bagging, val_score: 0.190369:  20%|##########6                                          | 2/10 [00:03<00:12,  1.58s/it]"
     ]
    },
    {
     "name": "stdout",
     "output_type": "stream",
     "text": [
      "[600]\tcv_agg's l2: 0.195281 + 0.111503\n",
      "Early stopping, best iteration is:\n",
      "[508]\tcv_agg's l2: 0.190369 + 0.0939387\n",
      "[100]\tcv_agg's l2: 0.238127 + 0.130434\n",
      "[200]\tcv_agg's l2: 0.219582 + 0.122361\n",
      "[300]\tcv_agg's l2: 0.214437 + 0.113847\n",
      "[400]\tcv_agg's l2: 0.210089 + 0.110329\n",
      "[500]\tcv_agg's l2: 0.210565 + 0.110514\n"
     ]
    },
    {
     "name": "stderr",
     "output_type": "stream",
     "text": [
      "bagging, val_score: 0.190369:  30%|###############9                                     | 3/10 [00:04<00:10,  1.53s/it][I 2023-12-01 17:42:04,803] Trial 29 finished with value: 0.20940830945645286 and parameters: {'bagging_fraction': 0.44913863126144427, 'bagging_freq': 6}. Best is trial 28 with value: 0.19604310872380318.\n",
      "bagging, val_score: 0.190369:  30%|###############9                                     | 3/10 [00:04<00:10,  1.53s/it]"
     ]
    },
    {
     "name": "stdout",
     "output_type": "stream",
     "text": [
      "[600]\tcv_agg's l2: 0.209222 + 0.112401\n",
      "Early stopping, best iteration is:\n",
      "[508]\tcv_agg's l2: 0.190369 + 0.0939387\n",
      "[100]\tcv_agg's l2: 0.226679 + 0.107604\n",
      "[200]\tcv_agg's l2: 0.206774 + 0.103787\n",
      "[300]\tcv_agg's l2: 0.19821 + 0.10277\n",
      "[400]\tcv_agg's l2: 0.19681 + 0.10188\n",
      "[500]\tcv_agg's l2: 0.19499 + 0.103608\n"
     ]
    },
    {
     "name": "stderr",
     "output_type": "stream",
     "text": [
      "bagging, val_score: 0.190369:  40%|#####################2                               | 4/10 [00:06<00:10,  1.68s/it][I 2023-12-01 17:42:06,722] Trial 30 finished with value: 0.19480413296762406 and parameters: {'bagging_fraction': 0.7931080350031517, 'bagging_freq': 1}. Best is trial 30 with value: 0.19480413296762406.\n",
      "bagging, val_score: 0.190369:  40%|#####################2                               | 4/10 [00:06<00:10,  1.68s/it]"
     ]
    },
    {
     "name": "stdout",
     "output_type": "stream",
     "text": [
      "[600]\tcv_agg's l2: 0.194424 + 0.103413\n",
      "Early stopping, best iteration is:\n",
      "[508]\tcv_agg's l2: 0.190369 + 0.0939387\n",
      "[100]\tcv_agg's l2: 0.220556 + 0.11385\n",
      "[200]\tcv_agg's l2: 0.205016 + 0.10792\n",
      "[300]\tcv_agg's l2: 0.197405 + 0.102615\n",
      "[400]\tcv_agg's l2: 0.194731 + 0.102848\n",
      "[500]\tcv_agg's l2: 0.192627 + 0.100975\n"
     ]
    },
    {
     "name": "stderr",
     "output_type": "stream",
     "text": [
      "bagging, val_score: 0.190369:  50%|##########################5                          | 5/10 [00:08<00:08,  1.67s/it][I 2023-12-01 17:42:08,355] Trial 31 finished with value: 0.1921107166036248 and parameters: {'bagging_fraction': 0.68364023624071, 'bagging_freq': 4}. Best is trial 31 with value: 0.1921107166036248.\n",
      "bagging, val_score: 0.190369:  50%|##########################5                          | 5/10 [00:08<00:08,  1.67s/it]"
     ]
    },
    {
     "name": "stdout",
     "output_type": "stream",
     "text": [
      "[600]\tcv_agg's l2: 0.192212 + 0.0995257\n",
      "Early stopping, best iteration is:\n",
      "[508]\tcv_agg's l2: 0.190369 + 0.0939387\n",
      "[100]\tcv_agg's l2: 0.218738 + 0.112874\n",
      "[200]\tcv_agg's l2: 0.201776 + 0.103639\n",
      "[300]\tcv_agg's l2: 0.19504 + 0.0976493\n",
      "[400]\tcv_agg's l2: 0.190598 + 0.097775\n",
      "[500]\tcv_agg's l2: 0.188157 + 0.0960584\n",
      "[600]\tcv_agg's l2: 0.18792 + 0.0943525\n"
     ]
    },
    {
     "name": "stderr",
     "output_type": "stream",
     "text": [
      "bagging, val_score: 0.187483:  60%|###############################8                     | 6/10 [00:10<00:07,  1.76s/it][I 2023-12-01 17:42:10,305] Trial 32 finished with value: 0.18748313623444962 and parameters: {'bagging_fraction': 0.6768168622990559, 'bagging_freq': 4}. Best is trial 32 with value: 0.18748313623444962.\n",
      "bagging, val_score: 0.187483:  60%|###############################8                     | 6/10 [00:10<00:07,  1.76s/it]"
     ]
    },
    {
     "name": "stdout",
     "output_type": "stream",
     "text": [
      "Early stopping, best iteration is:\n",
      "[596]\tcv_agg's l2: 0.187483 + 0.0943829\n",
      "[100]\tcv_agg's l2: 0.221841 + 0.115985\n",
      "[200]\tcv_agg's l2: 0.204235 + 0.106905\n",
      "[300]\tcv_agg's l2: 0.197349 + 0.103549\n",
      "[400]\tcv_agg's l2: 0.194262 + 0.103381\n",
      "[500]\tcv_agg's l2: 0.192894 + 0.101014\n",
      "[600]\tcv_agg's l2: 0.194076 + 0.101587\n"
     ]
    },
    {
     "name": "stderr",
     "output_type": "stream",
     "text": [
      "bagging, val_score: 0.187483:  70%|#####################################                | 7/10 [00:11<00:05,  1.79s/it][I 2023-12-01 17:42:12,142] Trial 33 finished with value: 0.1935942661193625 and parameters: {'bagging_fraction': 0.6667501275257129, 'bagging_freq': 4}. Best is trial 32 with value: 0.18748313623444962.\n",
      "bagging, val_score: 0.187483:  70%|#####################################                | 7/10 [00:11<00:05,  1.79s/it]"
     ]
    },
    {
     "name": "stdout",
     "output_type": "stream",
     "text": [
      "Early stopping, best iteration is:\n",
      "[596]\tcv_agg's l2: 0.187483 + 0.0943829\n",
      "[100]\tcv_agg's l2: 0.217873 + 0.121916\n",
      "[200]\tcv_agg's l2: 0.200076 + 0.108938\n",
      "[300]\tcv_agg's l2: 0.195154 + 0.105979\n",
      "[400]\tcv_agg's l2: 0.19288 + 0.104694\n",
      "[500]\tcv_agg's l2: 0.191565 + 0.102258\n",
      "[600]\tcv_agg's l2: 0.19111 + 0.101048\n"
     ]
    },
    {
     "name": "stderr",
     "output_type": "stream",
     "text": [
      "bagging, val_score: 0.187483:  80%|##########################################4          | 8/10 [00:13<00:03,  1.79s/it][I 2023-12-01 17:42:13,952] Trial 34 finished with value: 0.19079069193641912 and parameters: {'bagging_fraction': 0.6603006379220685, 'bagging_freq': 4}. Best is trial 32 with value: 0.18748313623444962.\n",
      "bagging, val_score: 0.187483:  80%|##########################################4          | 8/10 [00:13<00:03,  1.79s/it]"
     ]
    },
    {
     "name": "stdout",
     "output_type": "stream",
     "text": [
      "Early stopping, best iteration is:\n",
      "[596]\tcv_agg's l2: 0.187483 + 0.0943829\n",
      "[100]\tcv_agg's l2: 0.221551 + 0.115739\n",
      "[200]\tcv_agg's l2: 0.202162 + 0.103018\n",
      "[300]\tcv_agg's l2: 0.193912 + 0.0992543\n",
      "[400]\tcv_agg's l2: 0.192482 + 0.0980382\n",
      "[500]\tcv_agg's l2: 0.190846 + 0.0956115\n",
      "[600]\tcv_agg's l2: 0.190807 + 0.0941766\n"
     ]
    },
    {
     "name": "stderr",
     "output_type": "stream",
     "text": [
      "bagging, val_score: 0.187483:  90%|###############################################7     | 9/10 [00:15<00:01,  1.80s/it][I 2023-12-01 17:42:15,750] Trial 35 finished with value: 0.1906172106533905 and parameters: {'bagging_fraction': 0.6674484656431858, 'bagging_freq': 4}. Best is trial 32 with value: 0.18748313623444962.\n",
      "bagging, val_score: 0.187483:  90%|###############################################7     | 9/10 [00:15<00:01,  1.80s/it]"
     ]
    },
    {
     "name": "stdout",
     "output_type": "stream",
     "text": [
      "Early stopping, best iteration is:\n",
      "[596]\tcv_agg's l2: 0.187483 + 0.0943829\n",
      "[100]\tcv_agg's l2: 0.231371 + 0.126297\n",
      "[200]\tcv_agg's l2: 0.212725 + 0.116124\n",
      "[300]\tcv_agg's l2: 0.205205 + 0.111098\n",
      "[400]\tcv_agg's l2: 0.202699 + 0.109372\n",
      "[500]\tcv_agg's l2: 0.200356 + 0.10693\n",
      "[600]\tcv_agg's l2: 0.198761 + 0.105188\n"
     ]
    },
    {
     "name": "stderr",
     "output_type": "stream",
     "text": [
      "bagging, val_score: 0.187483: 100%|####################################################| 10/10 [00:17<00:00,  1.83s/it][I 2023-12-01 17:42:17,668] Trial 36 finished with value: 0.19828203885710635 and parameters: {'bagging_fraction': 0.6287138474034212, 'bagging_freq': 4}. Best is trial 32 with value: 0.18748313623444962.\n",
      "bagging, val_score: 0.187483: 100%|####################################################| 10/10 [00:17<00:00,  1.75s/it]\n"
     ]
    },
    {
     "name": "stdout",
     "output_type": "stream",
     "text": [
      "Early stopping, best iteration is:\n",
      "[596]\tcv_agg's l2: 0.187483 + 0.0943829\n"
     ]
    },
    {
     "name": "stderr",
     "output_type": "stream",
     "text": [
      "feature_fraction_stage2, val_score: 0.187483:   0%|                                              | 0/6 [00:00<?, ?it/s]"
     ]
    },
    {
     "name": "stdout",
     "output_type": "stream",
     "text": [
      "[100]\tcv_agg's l2: 0.218738 + 0.112874\n",
      "[200]\tcv_agg's l2: 0.201776 + 0.103639\n",
      "[300]\tcv_agg's l2: 0.19504 + 0.0976493\n",
      "[400]\tcv_agg's l2: 0.190598 + 0.097775\n",
      "[500]\tcv_agg's l2: 0.188157 + 0.0960584\n",
      "[600]\tcv_agg's l2: 0.18792 + 0.0943525\n"
     ]
    },
    {
     "name": "stderr",
     "output_type": "stream",
     "text": [
      "feature_fraction_stage2, val_score: 0.187483:  17%|######3                               | 1/6 [00:01<00:09,  1.90s/it][I 2023-12-01 17:42:19,573] Trial 37 finished with value: 0.18748313623444962 and parameters: {'feature_fraction': 0.584}. Best is trial 37 with value: 0.18748313623444962.\n",
      "feature_fraction_stage2, val_score: 0.187483:  17%|######3                               | 1/6 [00:01<00:09,  1.90s/it]"
     ]
    },
    {
     "name": "stdout",
     "output_type": "stream",
     "text": [
      "Early stopping, best iteration is:\n",
      "[596]\tcv_agg's l2: 0.187483 + 0.0943829\n",
      "[100]\tcv_agg's l2: 0.224227 + 0.111486\n",
      "[200]\tcv_agg's l2: 0.207784 + 0.110986\n",
      "[300]\tcv_agg's l2: 0.19862 + 0.106548\n",
      "[400]\tcv_agg's l2: 0.196089 + 0.106572\n",
      "[500]\tcv_agg's l2: 0.193515 + 0.104078\n",
      "[600]\tcv_agg's l2: 0.192305 + 0.1007\n"
     ]
    },
    {
     "name": "stderr",
     "output_type": "stream",
     "text": [
      "feature_fraction_stage2, val_score: 0.187483:  33%|############6                         | 2/6 [00:03<00:07,  1.83s/it][I 2023-12-01 17:42:21,346] Trial 38 finished with value: 0.1919450369677779 and parameters: {'feature_fraction': 0.52}. Best is trial 37 with value: 0.18748313623444962.\n",
      "feature_fraction_stage2, val_score: 0.187483:  33%|############6                         | 2/6 [00:03<00:07,  1.83s/it]"
     ]
    },
    {
     "name": "stdout",
     "output_type": "stream",
     "text": [
      "Early stopping, best iteration is:\n",
      "[596]\tcv_agg's l2: 0.187483 + 0.0943829\n",
      "[100]\tcv_agg's l2: 0.218738 + 0.112874\n",
      "[200]\tcv_agg's l2: 0.201776 + 0.103639\n",
      "[300]\tcv_agg's l2: 0.19504 + 0.0976493\n",
      "[400]\tcv_agg's l2: 0.190598 + 0.097775\n",
      "[500]\tcv_agg's l2: 0.188157 + 0.0960584\n",
      "[600]\tcv_agg's l2: 0.18792 + 0.0943525\n"
     ]
    },
    {
     "name": "stderr",
     "output_type": "stream",
     "text": [
      "feature_fraction_stage2, val_score: 0.187483:  50%|###################                   | 3/6 [00:05<00:05,  1.90s/it][I 2023-12-01 17:42:23,344] Trial 39 finished with value: 0.18748313623444962 and parameters: {'feature_fraction': 0.616}. Best is trial 37 with value: 0.18748313623444962.\n",
      "feature_fraction_stage2, val_score: 0.187483:  50%|###################                   | 3/6 [00:05<00:05,  1.90s/it]"
     ]
    },
    {
     "name": "stdout",
     "output_type": "stream",
     "text": [
      "Early stopping, best iteration is:\n",
      "[596]\tcv_agg's l2: 0.187483 + 0.0943829\n",
      "[100]\tcv_agg's l2: 0.221283 + 0.117774\n",
      "[200]\tcv_agg's l2: 0.203941 + 0.106966\n",
      "[300]\tcv_agg's l2: 0.196798 + 0.102103\n",
      "[400]\tcv_agg's l2: 0.193571 + 0.101203\n",
      "[500]\tcv_agg's l2: 0.191858 + 0.0992796\n",
      "[600]\tcv_agg's l2: 0.192613 + 0.0976942\n"
     ]
    },
    {
     "name": "stderr",
     "output_type": "stream",
     "text": [
      "feature_fraction_stage2, val_score: 0.187483:  67%|#########################3            | 4/6 [00:07<00:03,  1.87s/it][I 2023-12-01 17:42:25,152] Trial 40 finished with value: 0.19221541548219293 and parameters: {'feature_fraction': 0.6799999999999999}. Best is trial 37 with value: 0.18748313623444962.\n",
      "feature_fraction_stage2, val_score: 0.187483:  67%|#########################3            | 4/6 [00:07<00:03,  1.87s/it]"
     ]
    },
    {
     "name": "stdout",
     "output_type": "stream",
     "text": [
      "Early stopping, best iteration is:\n",
      "[596]\tcv_agg's l2: 0.187483 + 0.0943829\n",
      "[100]\tcv_agg's l2: 0.218738 + 0.112874\n",
      "[200]\tcv_agg's l2: 0.201776 + 0.103639\n",
      "[300]\tcv_agg's l2: 0.19504 + 0.0976493\n",
      "[400]\tcv_agg's l2: 0.190598 + 0.097775\n",
      "[500]\tcv_agg's l2: 0.188157 + 0.0960584\n"
     ]
    },
    {
     "name": "stderr",
     "output_type": "stream",
     "text": [
      "feature_fraction_stage2, val_score: 0.187483:  83%|###############################6      | 5/6 [00:11<00:02,  2.57s/it][I 2023-12-01 17:42:28,977] Trial 41 finished with value: 0.18748313623444962 and parameters: {'feature_fraction': 0.6479999999999999}. Best is trial 37 with value: 0.18748313623444962.\n",
      "feature_fraction_stage2, val_score: 0.187483:  83%|###############################6      | 5/6 [00:11<00:02,  2.57s/it]"
     ]
    },
    {
     "name": "stdout",
     "output_type": "stream",
     "text": [
      "[600]\tcv_agg's l2: 0.18792 + 0.0943525\n",
      "Early stopping, best iteration is:\n",
      "[596]\tcv_agg's l2: 0.187483 + 0.0943829\n",
      "[100]\tcv_agg's l2: 0.224227 + 0.111486\n",
      "[200]\tcv_agg's l2: 0.207784 + 0.110986\n",
      "[300]\tcv_agg's l2: 0.19862 + 0.106548\n",
      "[400]\tcv_agg's l2: 0.196089 + 0.106572\n",
      "[500]\tcv_agg's l2: 0.193515 + 0.104078\n",
      "[600]\tcv_agg's l2: 0.192305 + 0.1007\n"
     ]
    },
    {
     "name": "stderr",
     "output_type": "stream",
     "text": [
      "feature_fraction_stage2, val_score: 0.187483: 100%|######################################| 6/6 [00:12<00:00,  2.18s/it][I 2023-12-01 17:42:30,392] Trial 42 finished with value: 0.1919450369677779 and parameters: {'feature_fraction': 0.552}. Best is trial 37 with value: 0.18748313623444962.\n",
      "feature_fraction_stage2, val_score: 0.187483: 100%|######################################| 6/6 [00:12<00:00,  2.12s/it]\n"
     ]
    },
    {
     "name": "stdout",
     "output_type": "stream",
     "text": [
      "Early stopping, best iteration is:\n",
      "[596]\tcv_agg's l2: 0.187483 + 0.0943829\n"
     ]
    },
    {
     "name": "stderr",
     "output_type": "stream",
     "text": [
      "regularization_factors, val_score: 0.187483:   0%|                                              | 0/20 [00:00<?, ?it/s]"
     ]
    },
    {
     "name": "stdout",
     "output_type": "stream",
     "text": [
      "[100]\tcv_agg's l2: 0.219384 + 0.11167\n",
      "[200]\tcv_agg's l2: 0.202844 + 0.103033\n",
      "[300]\tcv_agg's l2: 0.194953 + 0.097105\n",
      "[400]\tcv_agg's l2: 0.191949 + 0.0983702\n",
      "[500]\tcv_agg's l2: 0.19007 + 0.0963342\n",
      "[600]\tcv_agg's l2: 0.189189 + 0.0948762\n"
     ]
    },
    {
     "name": "stderr",
     "output_type": "stream",
     "text": [
      "regularization_factors, val_score: 0.187483:   5%|#9                                    | 1/20 [00:01<00:24,  1.28s/it][I 2023-12-01 17:42:31,676] Trial 43 finished with value: 0.18907056782569004 and parameters: {'lambda_l1': 0.1255017982410457, 'lambda_l2': 4.995933793838783e-06}. Best is trial 43 with value: 0.18907056782569004.\n",
      "regularization_factors, val_score: 0.187483:   5%|#9                                    | 1/20 [00:01<00:24,  1.28s/it]"
     ]
    },
    {
     "name": "stdout",
     "output_type": "stream",
     "text": [
      "Early stopping, best iteration is:\n",
      "[596]\tcv_agg's l2: 0.187483 + 0.0943829\n",
      "[100]\tcv_agg's l2: 0.219784 + 0.115561\n",
      "[200]\tcv_agg's l2: 0.199975 + 0.104999\n",
      "[300]\tcv_agg's l2: 0.192583 + 0.0979517\n",
      "[400]\tcv_agg's l2: 0.188915 + 0.0972693\n"
     ]
    },
    {
     "name": "stderr",
     "output_type": "stream",
     "text": [
      "regularization_factors, val_score: 0.185365:  10%|###8                                  | 2/20 [00:02<00:21,  1.20s/it][I 2023-12-01 17:42:32,817] Trial 44 finished with value: 0.18536518738491897 and parameters: {'lambda_l1': 0.2157222343350567, 'lambda_l2': 4.073903339846606e-06}. Best is trial 44 with value: 0.18536518738491897.\n",
      "regularization_factors, val_score: 0.185365:  10%|###8                                  | 2/20 [00:02<00:21,  1.20s/it]"
     ]
    },
    {
     "name": "stdout",
     "output_type": "stream",
     "text": [
      "[500]\tcv_agg's l2: 0.18553 + 0.0955089\n",
      "[600]\tcv_agg's l2: 0.186528 + 0.0945606\n",
      "Early stopping, best iteration is:\n",
      "[504]\tcv_agg's l2: 0.185365 + 0.0953508\n",
      "[100]\tcv_agg's l2: 0.246627 + 0.119378\n",
      "[200]\tcv_agg's l2: 0.229247 + 0.113004\n",
      "[300]\tcv_agg's l2: 0.222207 + 0.111008\n",
      "[400]\tcv_agg's l2: 0.219843 + 0.111226\n"
     ]
    },
    {
     "name": "stderr",
     "output_type": "stream",
     "text": [
      "regularization_factors, val_score: 0.185365:  15%|#####7                                | 3/20 [00:03<00:19,  1.15s/it][I 2023-12-01 17:42:33,904] Trial 45 finished with value: 0.21854144627707922 and parameters: {'lambda_l1': 5.759877997585594, 'lambda_l2': 1.3763361315699736e-08}. Best is trial 44 with value: 0.18536518738491897.\n",
      "regularization_factors, val_score: 0.185365:  15%|#####7                                | 3/20 [00:03<00:19,  1.15s/it]"
     ]
    },
    {
     "name": "stdout",
     "output_type": "stream",
     "text": [
      "[500]\tcv_agg's l2: 0.218444 + 0.111917\n",
      "[600]\tcv_agg's l2: 0.217657 + 0.112409\n",
      "Early stopping, best iteration is:\n",
      "[504]\tcv_agg's l2: 0.185365 + 0.0953508\n",
      "[100]\tcv_agg's l2: 0.225824 + 0.123419\n",
      "[200]\tcv_agg's l2: 0.207595 + 0.111671\n",
      "[300]\tcv_agg's l2: 0.199857 + 0.108078\n",
      "[400]\tcv_agg's l2: 0.198084 + 0.107088\n"
     ]
    },
    {
     "name": "stderr",
     "output_type": "stream",
     "text": [
      "\r",
      "regularization_factors, val_score: 0.185365:  15%|#####7                                | 3/20 [00:04<00:19,  1.15s/it]"
     ]
    },
    {
     "name": "stdout",
     "output_type": "stream",
     "text": [
      "[500]\tcv_agg's l2: 0.195801 + 0.105642\n",
      "[600]\tcv_agg's l2: 0.196372 + 0.105\n",
      "Early stopping, best iteration is:\n",
      "[504]\tcv_agg's l2: 0.185365 + 0.0953508\n"
     ]
    },
    {
     "name": "stderr",
     "output_type": "stream",
     "text": [
      "regularization_factors, val_score: 0.185365:  20%|#######6                              | 4/20 [00:04<00:18,  1.13s/it][I 2023-12-01 17:42:35,015] Trial 46 finished with value: 0.19564502801531336 and parameters: {'lambda_l1': 1.0737501126853505e-06, 'lambda_l2': 0.6621161818204733}. Best is trial 44 with value: 0.18536518738491897.\n",
      "regularization_factors, val_score: 0.185365:  20%|#######6                              | 4/20 [00:04<00:18,  1.13s/it]"
     ]
    },
    {
     "name": "stdout",
     "output_type": "stream",
     "text": [
      "[100]\tcv_agg's l2: 0.218739 + 0.112875\n",
      "[200]\tcv_agg's l2: 0.201777 + 0.10364\n",
      "[300]\tcv_agg's l2: 0.195166 + 0.096942\n",
      "[400]\tcv_agg's l2: 0.191177 + 0.0983269\n",
      "[500]\tcv_agg's l2: 0.188476 + 0.0963219\n"
     ]
    },
    {
     "name": "stderr",
     "output_type": "stream",
     "text": [
      "regularization_factors, val_score: 0.185365:  25%|#########5                            | 5/20 [00:06<00:19,  1.33s/it][I 2023-12-01 17:42:36,701] Trial 47 finished with value: 0.1882333047482469 and parameters: {'lambda_l1': 0.00046419199953324304, 'lambda_l2': 0.00010963605483639978}. Best is trial 44 with value: 0.18536518738491897.\n",
      "regularization_factors, val_score: 0.185365:  25%|#########5                            | 5/20 [00:06<00:19,  1.33s/it]"
     ]
    },
    {
     "name": "stdout",
     "output_type": "stream",
     "text": [
      "[600]\tcv_agg's l2: 0.189086 + 0.0961491\n",
      "Early stopping, best iteration is:\n",
      "[504]\tcv_agg's l2: 0.185365 + 0.0953508\n",
      "[100]\tcv_agg's l2: 0.219982 + 0.113441\n",
      "[200]\tcv_agg's l2: 0.202902 + 0.103959\n",
      "[300]\tcv_agg's l2: 0.192896 + 0.0961015\n",
      "[400]\tcv_agg's l2: 0.190278 + 0.0967494\n",
      "[500]\tcv_agg's l2: 0.187584 + 0.0946657\n"
     ]
    },
    {
     "name": "stderr",
     "output_type": "stream",
     "text": [
      "regularization_factors, val_score: 0.185365:  30%|###########4                          | 6/20 [00:07<00:19,  1.41s/it][I 2023-12-01 17:42:38,273] Trial 48 finished with value: 0.18745588296606458 and parameters: {'lambda_l1': 0.011822814487647774, 'lambda_l2': 0.04541338598503618}. Best is trial 44 with value: 0.18536518738491897.\n",
      "regularization_factors, val_score: 0.185365:  30%|###########4                          | 6/20 [00:07<00:19,  1.41s/it]"
     ]
    },
    {
     "name": "stdout",
     "output_type": "stream",
     "text": [
      "[600]\tcv_agg's l2: 0.187096 + 0.0943307\n",
      "Early stopping, best iteration is:\n",
      "[504]\tcv_agg's l2: 0.185365 + 0.0953508\n",
      "[100]\tcv_agg's l2: 0.217218 + 0.11374\n",
      "[200]\tcv_agg's l2: 0.202211 + 0.104918\n",
      "[300]\tcv_agg's l2: 0.195499 + 0.0998396\n",
      "[400]\tcv_agg's l2: 0.193252 + 0.0989995\n",
      "[500]\tcv_agg's l2: 0.191713 + 0.0964963\n"
     ]
    },
    {
     "name": "stderr",
     "output_type": "stream",
     "text": [
      "regularization_factors, val_score: 0.185365:  35%|#############3                        | 7/20 [00:09<00:19,  1.50s/it][I 2023-12-01 17:42:39,937] Trial 49 finished with value: 0.19138204673857256 and parameters: {'lambda_l1': 0.012285408342977503, 'lambda_l2': 0.24879285650276078}. Best is trial 44 with value: 0.18536518738491897.\n",
      "regularization_factors, val_score: 0.185365:  35%|#############3                        | 7/20 [00:09<00:19,  1.50s/it]"
     ]
    },
    {
     "name": "stdout",
     "output_type": "stream",
     "text": [
      "[600]\tcv_agg's l2: 0.191657 + 0.0953878\n",
      "Early stopping, best iteration is:\n",
      "[504]\tcv_agg's l2: 0.185365 + 0.0953508\n",
      "[100]\tcv_agg's l2: 0.219699 + 0.113553\n",
      "[200]\tcv_agg's l2: 0.202103 + 0.103038\n",
      "[300]\tcv_agg's l2: 0.193398 + 0.0982754\n",
      "[400]\tcv_agg's l2: 0.190279 + 0.0969884\n",
      "[500]\tcv_agg's l2: 0.187891 + 0.0955321\n"
     ]
    },
    {
     "name": "stderr",
     "output_type": "stream",
     "text": [
      "regularization_factors, val_score: 0.185365:  40%|###############2                      | 8/20 [00:11<00:19,  1.60s/it][I 2023-12-01 17:42:41,767] Trial 50 finished with value: 0.1876112491032148 and parameters: {'lambda_l1': 0.08325157407872741, 'lambda_l2': 0.002163432690846289}. Best is trial 44 with value: 0.18536518738491897.\n",
      "regularization_factors, val_score: 0.185365:  40%|###############2                      | 8/20 [00:11<00:19,  1.60s/it]"
     ]
    },
    {
     "name": "stdout",
     "output_type": "stream",
     "text": [
      "[600]\tcv_agg's l2: 0.189364 + 0.0937931\n",
      "Early stopping, best iteration is:\n",
      "[504]\tcv_agg's l2: 0.185365 + 0.0953508\n",
      "[100]\tcv_agg's l2: 0.218602 + 0.112746\n",
      "[200]\tcv_agg's l2: 0.201843 + 0.105544\n",
      "[300]\tcv_agg's l2: 0.194447 + 0.0980066\n",
      "[400]\tcv_agg's l2: 0.189789 + 0.098404\n",
      "[500]\tcv_agg's l2: 0.187732 + 0.0965467\n"
     ]
    },
    {
     "name": "stderr",
     "output_type": "stream",
     "text": [
      "regularization_factors, val_score: 0.185365:  45%|#################1                    | 9/20 [00:12<00:17,  1.58s/it][I 2023-12-01 17:42:43,290] Trial 51 finished with value: 0.18752113765514547 and parameters: {'lambda_l1': 0.0002961715866018834, 'lambda_l2': 0.009480857698416858}. Best is trial 44 with value: 0.18536518738491897.\n",
      "regularization_factors, val_score: 0.185365:  45%|#################1                    | 9/20 [00:12<00:17,  1.58s/it]"
     ]
    },
    {
     "name": "stdout",
     "output_type": "stream",
     "text": [
      "[600]\tcv_agg's l2: 0.18737 + 0.0953953\n",
      "Early stopping, best iteration is:\n",
      "[504]\tcv_agg's l2: 0.185365 + 0.0953508\n",
      "[100]\tcv_agg's l2: 0.261729 + 0.119132\n",
      "[200]\tcv_agg's l2: 0.242153 + 0.111717\n",
      "[300]\tcv_agg's l2: 0.235176 + 0.10925\n",
      "[400]\tcv_agg's l2: 0.231561 + 0.110148\n",
      "[500]\tcv_agg's l2: 0.22943 + 0.108727\n"
     ]
    },
    {
     "name": "stderr",
     "output_type": "stream",
     "text": [
      "regularization_factors, val_score: 0.185365:  50%|##################5                  | 10/20 [00:14<00:15,  1.50s/it][I 2023-12-01 17:42:44,631] Trial 52 finished with value: 0.22951282381706567 and parameters: {'lambda_l1': 6.698765619181104, 'lambda_l2': 6.322705258567433}. Best is trial 44 with value: 0.18536518738491897.\n",
      "regularization_factors, val_score: 0.185365:  50%|##################5                  | 10/20 [00:14<00:15,  1.50s/it]"
     ]
    },
    {
     "name": "stdout",
     "output_type": "stream",
     "text": [
      "[600]\tcv_agg's l2: 0.228414 + 0.109701\n",
      "Early stopping, best iteration is:\n",
      "[504]\tcv_agg's l2: 0.185365 + 0.0953508\n",
      "[100]\tcv_agg's l2: 0.218738 + 0.112874\n",
      "[200]\tcv_agg's l2: 0.201776 + 0.103639\n",
      "[300]\tcv_agg's l2: 0.19504 + 0.0976493\n",
      "[400]\tcv_agg's l2: 0.190598 + 0.097775\n",
      "[500]\tcv_agg's l2: 0.188157 + 0.0960584\n"
     ]
    },
    {
     "name": "stderr",
     "output_type": "stream",
     "text": [
      "regularization_factors, val_score: 0.185365:  55%|####################3                | 11/20 [00:15<00:13,  1.50s/it][I 2023-12-01 17:42:46,125] Trial 53 finished with value: 0.1879028900905705 and parameters: {'lambda_l1': 1.416474031133521e-08, 'lambda_l2': 5.278607264875126e-06}. Best is trial 44 with value: 0.18536518738491897.\n",
      "regularization_factors, val_score: 0.185365:  55%|####################3                | 11/20 [00:15<00:13,  1.50s/it]"
     ]
    },
    {
     "name": "stdout",
     "output_type": "stream",
     "text": [
      "[600]\tcv_agg's l2: 0.18792 + 0.0943525\n",
      "Early stopping, best iteration is:\n",
      "[504]\tcv_agg's l2: 0.185365 + 0.0953508\n",
      "[100]\tcv_agg's l2: 0.219062 + 0.114102\n",
      "[200]\tcv_agg's l2: 0.202087 + 0.104779\n",
      "[300]\tcv_agg's l2: 0.193152 + 0.099286\n",
      "[400]\tcv_agg's l2: 0.19054 + 0.0986296\n",
      "[500]\tcv_agg's l2: 0.188832 + 0.0978523\n"
     ]
    },
    {
     "name": "stderr",
     "output_type": "stream",
     "text": [
      "regularization_factors, val_score: 0.185365:  60%|######################2              | 12/20 [00:17<00:13,  1.64s/it][I 2023-12-01 17:42:48,067] Trial 54 finished with value: 0.18877821018668384 and parameters: {'lambda_l1': 0.0025968255433519143, 'lambda_l2': 0.02763876887444593}. Best is trial 44 with value: 0.18536518738491897.\n",
      "regularization_factors, val_score: 0.185365:  60%|######################2              | 12/20 [00:17<00:13,  1.64s/it]"
     ]
    },
    {
     "name": "stdout",
     "output_type": "stream",
     "text": [
      "[600]\tcv_agg's l2: 0.187497 + 0.0951598\n",
      "Early stopping, best iteration is:\n",
      "[504]\tcv_agg's l2: 0.185365 + 0.0953508\n",
      "[100]\tcv_agg's l2: 0.218966 + 0.112436\n",
      "[200]\tcv_agg's l2: 0.20175 + 0.102607\n",
      "[300]\tcv_agg's l2: 0.192762 + 0.0975321\n",
      "[400]\tcv_agg's l2: 0.1901 + 0.0974641\n",
      "[500]\tcv_agg's l2: 0.186719 + 0.0953116\n"
     ]
    },
    {
     "name": "stderr",
     "output_type": "stream",
     "text": [
      "regularization_factors, val_score: 0.185365:  65%|########################             | 13/20 [00:19<00:11,  1.62s/it][I 2023-12-01 17:42:49,644] Trial 55 finished with value: 0.1864292366229011 and parameters: {'lambda_l1': 0.3029047623156244, 'lambda_l2': 0.00013272300006774823}. Best is trial 44 with value: 0.18536518738491897.\n",
      "regularization_factors, val_score: 0.185365:  65%|########################             | 13/20 [00:19<00:11,  1.62s/it]"
     ]
    },
    {
     "name": "stdout",
     "output_type": "stream",
     "text": [
      "[600]\tcv_agg's l2: 0.18736 + 0.0947042\n",
      "Early stopping, best iteration is:\n",
      "[504]\tcv_agg's l2: 0.185365 + 0.0953508\n",
      "[100]\tcv_agg's l2: 0.216689 + 0.111559\n",
      "[200]\tcv_agg's l2: 0.199954 + 0.102726\n",
      "[300]\tcv_agg's l2: 0.191111 + 0.0954951\n",
      "[400]\tcv_agg's l2: 0.18889 + 0.0965291\n",
      "[500]\tcv_agg's l2: 0.186256 + 0.095321\n"
     ]
    },
    {
     "name": "stderr",
     "output_type": "stream",
     "text": [
      "regularization_factors, val_score: 0.185365:  70%|#########################9           | 14/20 [00:20<00:09,  1.62s/it][I 2023-12-01 17:42:51,256] Trial 56 finished with value: 0.1860340849136358 and parameters: {'lambda_l1': 0.2317719842718044, 'lambda_l2': 0.00020118412820075617}. Best is trial 44 with value: 0.18536518738491897.\n",
      "regularization_factors, val_score: 0.185365:  70%|#########################9           | 14/20 [00:20<00:09,  1.62s/it]"
     ]
    },
    {
     "name": "stdout",
     "output_type": "stream",
     "text": [
      "[600]\tcv_agg's l2: 0.186896 + 0.0940645\n",
      "Early stopping, best iteration is:\n",
      "[504]\tcv_agg's l2: 0.185365 + 0.0953508\n",
      "[100]\tcv_agg's l2: 0.217151 + 0.113038\n",
      "[200]\tcv_agg's l2: 0.19999 + 0.102268\n",
      "[300]\tcv_agg's l2: 0.194247 + 0.0975604\n",
      "[400]\tcv_agg's l2: 0.190334 + 0.0963216\n",
      "[500]\tcv_agg's l2: 0.188008 + 0.0948529\n"
     ]
    },
    {
     "name": "stderr",
     "output_type": "stream",
     "text": [
      "regularization_factors, val_score: 0.185365:  75%|###########################7         | 15/20 [00:22<00:08,  1.67s/it][I 2023-12-01 17:42:53,058] Trial 57 finished with value: 0.18747608845423214 and parameters: {'lambda_l1': 0.25876485715219133, 'lambda_l2': 0.00010237629979437111}. Best is trial 44 with value: 0.18536518738491897.\n",
      "regularization_factors, val_score: 0.185365:  75%|###########################7         | 15/20 [00:22<00:08,  1.67s/it]"
     ]
    },
    {
     "name": "stdout",
     "output_type": "stream",
     "text": [
      "[600]\tcv_agg's l2: 0.186872 + 0.0939984\n",
      "Early stopping, best iteration is:\n",
      "[504]\tcv_agg's l2: 0.185365 + 0.0953508\n",
      "[100]\tcv_agg's l2: 0.217024 + 0.112794\n",
      "[200]\tcv_agg's l2: 0.199782 + 0.103306\n",
      "[300]\tcv_agg's l2: 0.192263 + 0.0958961\n",
      "[400]\tcv_agg's l2: 0.189215 + 0.0963217\n",
      "[500]\tcv_agg's l2: 0.188295 + 0.0944832\n"
     ]
    },
    {
     "name": "stderr",
     "output_type": "stream",
     "text": [
      "regularization_factors, val_score: 0.185365:  80%|#############################6       | 16/20 [00:24<00:06,  1.64s/it][I 2023-12-01 17:42:54,608] Trial 58 finished with value: 0.18783092837947618 and parameters: {'lambda_l1': 0.25648516887331757, 'lambda_l2': 0.00014580907691038374}. Best is trial 44 with value: 0.18536518738491897.\n",
      "regularization_factors, val_score: 0.185365:  80%|#############################6       | 16/20 [00:24<00:06,  1.64s/it]"
     ]
    },
    {
     "name": "stdout",
     "output_type": "stream",
     "text": [
      "[600]\tcv_agg's l2: 0.188968 + 0.0938483\n",
      "Early stopping, best iteration is:\n",
      "[504]\tcv_agg's l2: 0.185365 + 0.0953508\n",
      "[100]\tcv_agg's l2: 0.218765 + 0.116069\n",
      "[200]\tcv_agg's l2: 0.202106 + 0.106503\n",
      "[300]\tcv_agg's l2: 0.194284 + 0.100357\n",
      "[400]\tcv_agg's l2: 0.191032 + 0.100237\n",
      "[500]\tcv_agg's l2: 0.189041 + 0.0980136\n"
     ]
    },
    {
     "name": "stderr",
     "output_type": "stream",
     "text": [
      "regularization_factors, val_score: 0.185365:  85%|###############################4     | 17/20 [00:26<00:05,  1.71s/it][I 2023-12-01 17:42:56,506] Trial 59 finished with value: 0.18869580578774472 and parameters: {'lambda_l1': 0.22657736453087818, 'lambda_l2': 0.00021463025052285278}. Best is trial 44 with value: 0.18536518738491897.\n",
      "regularization_factors, val_score: 0.185365:  85%|###############################4     | 17/20 [00:26<00:05,  1.71s/it]"
     ]
    },
    {
     "name": "stdout",
     "output_type": "stream",
     "text": [
      "[600]\tcv_agg's l2: 0.189586 + 0.0978926\n",
      "Early stopping, best iteration is:\n",
      "[504]\tcv_agg's l2: 0.185365 + 0.0953508\n",
      "[100]\tcv_agg's l2: 0.220892 + 0.118475\n",
      "[200]\tcv_agg's l2: 0.202778 + 0.10621\n",
      "[300]\tcv_agg's l2: 0.193185 + 0.10055\n",
      "[400]\tcv_agg's l2: 0.190409 + 0.09842\n",
      "[500]\tcv_agg's l2: 0.187138 + 0.0958584\n"
     ]
    },
    {
     "name": "stderr",
     "output_type": "stream",
     "text": [
      "regularization_factors, val_score: 0.185365:  90%|#################################3   | 18/20 [00:27<00:03,  1.67s/it][I 2023-12-01 17:42:58,080] Trial 60 finished with value: 0.18672702993129783 and parameters: {'lambda_l1': 0.5774380065971131, 'lambda_l2': 2.1988358620679346e-05}. Best is trial 44 with value: 0.18536518738491897.\n",
      "regularization_factors, val_score: 0.185365:  90%|#################################3   | 18/20 [00:27<00:03,  1.67s/it]"
     ]
    },
    {
     "name": "stdout",
     "output_type": "stream",
     "text": [
      "[600]\tcv_agg's l2: 0.187157 + 0.0953516\n",
      "Early stopping, best iteration is:\n",
      "[504]\tcv_agg's l2: 0.185365 + 0.0953508\n",
      "[100]\tcv_agg's l2: 0.219902 + 0.115713\n",
      "[200]\tcv_agg's l2: 0.202395 + 0.107553\n",
      "[300]\tcv_agg's l2: 0.193718 + 0.101926\n",
      "[400]\tcv_agg's l2: 0.191394 + 0.101296\n",
      "[500]\tcv_agg's l2: 0.188588 + 0.099572\n"
     ]
    },
    {
     "name": "stderr",
     "output_type": "stream",
     "text": [
      "regularization_factors, val_score: 0.185365:  95%|###################################1 | 19/20 [00:29<00:01,  1.67s/it][I 2023-12-01 17:42:59,740] Trial 61 finished with value: 0.18812674006471153 and parameters: {'lambda_l1': 0.5032741529064768, 'lambda_l2': 1.9278154843741017e-05}. Best is trial 44 with value: 0.18536518738491897.\n",
      "regularization_factors, val_score: 0.185365:  95%|###################################1 | 19/20 [00:29<00:01,  1.67s/it]"
     ]
    },
    {
     "name": "stdout",
     "output_type": "stream",
     "text": [
      "[600]\tcv_agg's l2: 0.188839 + 0.0991968\n",
      "Early stopping, best iteration is:\n",
      "[504]\tcv_agg's l2: 0.185365 + 0.0953508\n",
      "[100]\tcv_agg's l2: 0.21928 + 0.114181\n",
      "[200]\tcv_agg's l2: 0.205229 + 0.107463\n",
      "[300]\tcv_agg's l2: 0.19724 + 0.102877\n",
      "[400]\tcv_agg's l2: 0.193564 + 0.101274\n",
      "[500]\tcv_agg's l2: 0.191247 + 0.0983009\n"
     ]
    },
    {
     "name": "stderr",
     "output_type": "stream",
     "text": [
      "regularization_factors, val_score: 0.185365: 100%|#####################################| 20/20 [00:31<00:00,  1.69s/it][I 2023-12-01 17:43:01,465] Trial 62 finished with value: 0.1908981433134631 and parameters: {'lambda_l1': 0.8727044135320573, 'lambda_l2': 4.753908558266136e-05}. Best is trial 44 with value: 0.18536518738491897.\n",
      "regularization_factors, val_score: 0.185365: 100%|#####################################| 20/20 [00:31<00:00,  1.55s/it]\n"
     ]
    },
    {
     "name": "stdout",
     "output_type": "stream",
     "text": [
      "[600]\tcv_agg's l2: 0.191 + 0.0978023\n",
      "Early stopping, best iteration is:\n",
      "[504]\tcv_agg's l2: 0.185365 + 0.0953508\n"
     ]
    },
    {
     "name": "stderr",
     "output_type": "stream",
     "text": [
      "min_data_in_leaf, val_score: 0.185365:   0%|                                                     | 0/5 [00:00<?, ?it/s]"
     ]
    },
    {
     "name": "stdout",
     "output_type": "stream",
     "text": [
      "[100]\tcv_agg's l2: 0.265859 + 0.115043\n",
      "[200]\tcv_agg's l2: 0.250007 + 0.111025\n",
      "[300]\tcv_agg's l2: 0.241788 + 0.110064\n",
      "[400]\tcv_agg's l2: 0.236823 + 0.108434\n",
      "[500]\tcv_agg's l2: 0.233841 + 0.107878\n"
     ]
    },
    {
     "name": "stderr",
     "output_type": "stream",
     "text": [
      "min_data_in_leaf, val_score: 0.185365:  20%|#########                                    | 1/5 [00:02<00:08,  2.12s/it][I 2023-12-01 17:43:03,593] Trial 63 finished with value: 0.23332576284392142 and parameters: {'min_child_samples': 50}. Best is trial 63 with value: 0.23332576284392142.\n",
      "min_data_in_leaf, val_score: 0.185365:  20%|#########                                    | 1/5 [00:02<00:08,  2.12s/it]"
     ]
    },
    {
     "name": "stdout",
     "output_type": "stream",
     "text": [
      "[600]\tcv_agg's l2: 0.2319 + 0.106024\n",
      "Early stopping, best iteration is:\n",
      "[504]\tcv_agg's l2: 0.185365 + 0.0953508\n",
      "[100]\tcv_agg's l2: 0.212053 + 0.105943\n",
      "[200]\tcv_agg's l2: 0.193484 + 0.0982902\n",
      "[300]\tcv_agg's l2: 0.186688 + 0.0933871\n",
      "[400]\tcv_agg's l2: 0.185886 + 0.0939526\n",
      "[500]\tcv_agg's l2: 0.184584 + 0.0919455\n",
      "[600]\tcv_agg's l2: 0.183863 + 0.0921192\n"
     ]
    },
    {
     "name": "stderr",
     "output_type": "stream",
     "text": [
      "min_data_in_leaf, val_score: 0.183849:  40%|##################                           | 2/5 [00:04<00:06,  2.21s/it][I 2023-12-01 17:43:05,870] Trial 64 finished with value: 0.1838492811845342 and parameters: {'min_child_samples': 10}. Best is trial 64 with value: 0.1838492811845342.\n",
      "min_data_in_leaf, val_score: 0.183849:  40%|##################                           | 2/5 [00:04<00:06,  2.21s/it]"
     ]
    },
    {
     "name": "stdout",
     "output_type": "stream",
     "text": [
      "Early stopping, best iteration is:\n",
      "[596]\tcv_agg's l2: 0.183849 + 0.0915048\n",
      "[100]\tcv_agg's l2: 0.536831 + 0.282879\n",
      "[200]\tcv_agg's l2: 0.484488 + 0.251356\n",
      "[300]\tcv_agg's l2: 0.463627 + 0.234417\n",
      "[400]\tcv_agg's l2: 0.451856 + 0.225404\n",
      "[500]\tcv_agg's l2: 0.443346 + 0.217638\n",
      "[600]\tcv_agg's l2: 0.444176 + 0.223007\n"
     ]
    },
    {
     "name": "stderr",
     "output_type": "stream",
     "text": [
      "min_data_in_leaf, val_score: 0.183849:  60%|###########################                  | 3/5 [00:06<00:04,  2.33s/it][I 2023-12-01 17:43:08,333] Trial 65 finished with value: 0.4459657172292065 and parameters: {'min_child_samples': 100}. Best is trial 64 with value: 0.1838492811845342.\n",
      "min_data_in_leaf, val_score: 0.183849:  60%|###########################                  | 3/5 [00:06<00:04,  2.33s/it]"
     ]
    },
    {
     "name": "stdout",
     "output_type": "stream",
     "text": [
      "Early stopping, best iteration is:\n",
      "[596]\tcv_agg's l2: 0.183849 + 0.0915048\n",
      "[100]\tcv_agg's l2: 0.220283 + 0.115641\n",
      "[200]\tcv_agg's l2: 0.205166 + 0.106335\n",
      "[300]\tcv_agg's l2: 0.197613 + 0.100921\n",
      "[400]\tcv_agg's l2: 0.195854 + 0.100394\n",
      "[500]\tcv_agg's l2: 0.193422 + 0.0987864\n",
      "[600]\tcv_agg's l2: 0.193706 + 0.0971689\n"
     ]
    },
    {
     "name": "stderr",
     "output_type": "stream",
     "text": [
      "min_data_in_leaf, val_score: 0.183849:  80%|####################################         | 4/5 [00:09<00:02,  2.33s/it][I 2023-12-01 17:43:10,656] Trial 66 finished with value: 0.19342935958528237 and parameters: {'min_child_samples': 25}. Best is trial 64 with value: 0.1838492811845342.\n",
      "min_data_in_leaf, val_score: 0.183849:  80%|####################################         | 4/5 [00:09<00:02,  2.33s/it]"
     ]
    },
    {
     "name": "stdout",
     "output_type": "stream",
     "text": [
      "Early stopping, best iteration is:\n",
      "[596]\tcv_agg's l2: 0.183849 + 0.0915048\n",
      "[100]\tcv_agg's l2: 0.214013 + 0.100817\n",
      "[200]\tcv_agg's l2: 0.197186 + 0.0949684\n",
      "[300]\tcv_agg's l2: 0.192388 + 0.0920452\n",
      "[400]\tcv_agg's l2: 0.191358 + 0.094784\n",
      "[500]\tcv_agg's l2: 0.188051 + 0.0927363\n",
      "[600]\tcv_agg's l2: 0.186488 + 0.093522\n"
     ]
    },
    {
     "name": "stderr",
     "output_type": "stream",
     "text": [
      "min_data_in_leaf, val_score: 0.183849: 100%|#############################################| 5/5 [00:11<00:00,  2.28s/it][I 2023-12-01 17:43:12,861] Trial 67 finished with value: 0.18653474488963234 and parameters: {'min_child_samples': 5}. Best is trial 64 with value: 0.1838492811845342.\n",
      "min_data_in_leaf, val_score: 0.183849: 100%|#############################################| 5/5 [00:11<00:00,  2.28s/it]"
     ]
    },
    {
     "name": "stdout",
     "output_type": "stream",
     "text": [
      "Early stopping, best iteration is:\n",
      "[596]\tcv_agg's l2: 0.183849 + 0.0915048\n"
     ]
    },
    {
     "name": "stderr",
     "output_type": "stream",
     "text": [
      "\n"
     ]
    }
   ],
   "source": [
    "import optuna.integration.lightgbm as lgb\n",
    "from lightgbm import early_stopping, log_evaluation\n",
    "from sklearn.model_selection import KFold\n",
    "from sklearn.model_selection import RepeatedKFold\n",
    "\n",
    "\n",
    "lgb_train = lgb.Dataset(X_train, y_train)\n",
    "\n",
    "params = {\n",
    "    \"boosting_type\": \"gbdt\",\n",
    "    \"objective\": \"regression\",\n",
    "    \"metric\": \"l2\",\n",
    "    \"verbosity\": -1,\n",
    "}\n",
    "\n",
    "tuner = lgb.LightGBMTunerCV(\n",
    "    params,\n",
    "    lgb_train,\n",
    "    folds=KFold(n_splits=5),\n",
    "    num_boost_round=10000,\n",
    "    callbacks=[early_stopping(100), log_evaluation(100)],\n",
    ")\n",
    "\n",
    "tuner.run()"
   ]
  },
  {
   "cell_type": "code",
   "execution_count": 23,
   "id": "8406fc3e",
   "metadata": {},
   "outputs": [
    {
     "name": "stdout",
     "output_type": "stream",
     "text": [
      "Best score: 0.1838492811845342\n",
      "Params: \n",
      "    boosting_type: gbdt\n",
      "    objective: regression\n",
      "    metric: l2\n",
      "    verbosity: -1\n",
      "    feature_pre_filter: False\n",
      "    lambda_l1: 0.2157222343350567\n",
      "    lambda_l2: 4.073903339846606e-06\n",
      "    num_leaves: 6\n",
      "    feature_fraction: 0.6\n",
      "    bagging_fraction: 0.6768168622990559\n",
      "    bagging_freq: 4\n",
      "    min_child_samples: 10\n"
     ]
    }
   ],
   "source": [
    "print(f\"Best score: {tuner.best_score}\")\n",
    "best_params = tuner.best_params\n",
    "print(\"Params: \")\n",
    "for key, value in best_params.items():\n",
    "    print(\"    {}: {}\".format(key, value))"
   ]
  },
  {
   "cell_type": "code",
   "execution_count": 24,
   "id": "880974ce",
   "metadata": {},
   "outputs": [],
   "source": [
    "import lightgbm as lgb\n",
    "\n",
    "lgb_tuned = lgb.train(\n",
    "    best_params,\n",
    "    lgb_train,\n",
    "    num_boost_round=10000,\n",
    ")"
   ]
  },
  {
   "cell_type": "code",
   "execution_count": 25,
   "id": "53d87b2c",
   "metadata": {},
   "outputs": [
    {
     "name": "stdout",
     "output_type": "stream",
     "text": [
      "RMSE train: 0.04\n",
      "RMSE test: 0.56\n",
      "MAE test: 0.36\n",
      "\n"
     ]
    }
   ],
   "source": [
    "rmse, mae = assess_regression_model(lgb_tuned, X_train, X_test, y_train, y_test)"
   ]
  },
  {
   "cell_type": "code",
   "execution_count": 26,
   "id": "843255bc",
   "metadata": {},
   "outputs": [],
   "source": [
    "results.loc[1] = [\n",
    "    \"chronological\",\n",
    "    \"Optuna\",\n",
    "    \"expanded\",\n",
    "    rmse,\n",
    "    mae,\n",
    "]"
   ]
  },
  {
   "cell_type": "markdown",
   "id": "1c9ef70d",
   "metadata": {},
   "source": [
    "###### MAE by level"
   ]
  },
  {
   "cell_type": "code",
   "execution_count": 27,
   "id": "eab77fc8",
   "metadata": {},
   "outputs": [
    {
     "data": {
      "image/png": "[encoded data removed]",
      "text/plain": [
       "<Figure size 1440x576 with 1 Axes>"
      ]
     },
     "metadata": {
      "needs_background": "light"
     },
     "output_type": "display_data"
    }
   ],
   "source": [
    "plot_mae_by_level(\n",
    "    y_test,\n",
    "    y_pred_test,\n",
    "    title=\"MAE by level for tuned LightGBM with expanded features and chronological split\",\n",
    ")"
   ]
  },
  {
   "cell_type": "code",
   "execution_count": 30,
   "id": "778f84c5",
   "metadata": {},
   "outputs": [
    {
     "name": "stdout",
     "output_type": "stream",
     "text": [
      "Default:\n",
      "RMSE: 0.56\n",
      "\n",
      "Round type: 0.5\n",
      "RMSE: 0.60\n",
      "\n",
      "Round type: 0.33\n",
      "RMSE: 0.63\n",
      "\n",
      "Round type: 0.45\n",
      "RMSE: 0.60\n",
      "\n"
     ]
    }
   ],
   "source": [
    "predict = lgb_tuned.predict(X_test)\n",
    "evaluate_round_predictions([0.5, 0.33, 0.45], y_test, predict)"
   ]
  },
  {
   "cell_type": "code",
   "execution_count": 31,
   "id": "f1a33da5",
   "metadata": {},
   "outputs": [],
   "source": [
    "predict[predict < -1] = -1\n",
    "predict[predict > 21] = 21"
   ]
  },
  {
   "cell_type": "code",
   "execution_count": 32,
   "id": "7823441a",
   "metadata": {},
   "outputs": [
    {
     "data": {
      "image/png": "[encoded data removed]",
      "text/plain": [
       "<Figure size 720x720 with 2 Axes>"
      ]
     },
     "metadata": {
      "needs_background": "light"
     },
     "output_type": "display_data"
    }
   ],
   "source": [
    "plot_confusion_matrix(\n",
    "    predict,\n",
    "    y_test,\n",
    "    title=\"Confusion matrix for tuned LightGBM with\\nexpanded features and chronological split\",\n",
    ")"
   ]
  },
  {
   "cell_type": "markdown",
   "id": "35088cc9",
   "metadata": {},
   "source": [
    "## Random split"
   ]
  },
  {
   "cell_type": "code",
   "execution_count": 33,
   "id": "692c4056",
   "metadata": {},
   "outputs": [
    {
     "name": "stdout",
     "output_type": "stream",
     "text": [
      "[LightGBM] [Warning] Auto-choosing col-wise multi-threading, the overhead of testing was 0.000606 seconds.\n",
      "You can set `force_col_wise=true` to remove the overhead.\n",
      "[LightGBM] [Info] Total Bins 465\n",
      "[LightGBM] [Info] Number of data points in the train set: 2767, number of used features: 13\n",
      "[LightGBM] [Info] Start training from score 7.220455\n",
      "Training until validation scores don't improve for 5 rounds\n",
      "Did not meet early stopping. Best iteration is:\n",
      "[96]\tvalid_0's l2: 0.17368\tvalid_0's l1: 0.277924\n"
     ]
    }
   ],
   "source": [
    "import lightgbm as lgb\n",
    "from sklearn.metrics import mean_squared_error\n",
    "\n",
    "lgb_train = lgb.Dataset(X_train_random_split, y_train_random_split)\n",
    "lgb_eval = lgb.Dataset(X_test_random_split, y_test_random_split, reference=lgb_train)\n",
    "\n",
    "params = {\n",
    "    \"boosting_type\": \"gbdt\",\n",
    "    \"objective\": \"regression\",\n",
    "    \"metric\": {\"l2\", \"l1\"},\n",
    "}\n",
    "\n",
    "gbm = lgb.train(\n",
    "    params,\n",
    "    lgb_train,\n",
    "    num_boost_round=100,\n",
    "    valid_sets=lgb_eval,\n",
    "    callbacks=[lgb.early_stopping(stopping_rounds=5)],\n",
    ")"
   ]
  },
  {
   "cell_type": "code",
   "execution_count": 34,
   "id": "24879a40",
   "metadata": {},
   "outputs": [],
   "source": [
    "y_pred_train = gbm.predict(X_train_random_split, num_iteration=gbm.best_iteration)\n",
    "y_pred_test = gbm.predict(X_test_random_split, num_iteration=gbm.best_iteration)"
   ]
  },
  {
   "cell_type": "code",
   "execution_count": 35,
   "id": "b5a760c1",
   "metadata": {},
   "outputs": [
    {
     "name": "stdout",
     "output_type": "stream",
     "text": [
      "RMSE: 0.42\n",
      "MAE: 0.28\n"
     ]
    }
   ],
   "source": [
    "from sklearn.metrics import mean_squared_error, mean_absolute_error\n",
    "\n",
    "\n",
    "rmse = mean_squared_error(y_test_random_split, y_pred_test, squared=False)\n",
    "mae = mean_absolute_error(y_test_random_split, y_pred_test)\n",
    "\n",
    "print(f\"RMSE: {rmse:.2f}\")\n",
    "print(f\"MAE: {mae:.2f}\")"
   ]
  },
  {
   "cell_type": "code",
   "execution_count": 36,
   "id": "a52e182e",
   "metadata": {},
   "outputs": [],
   "source": [
    "results.loc[2] = [\"random\", \"default\", \"expanded\", rmse, mae]"
   ]
  },
  {
   "cell_type": "markdown",
   "id": "17a44a91",
   "metadata": {},
   "source": [
    "###### MAE by level"
   ]
  },
  {
   "cell_type": "code",
   "execution_count": 37,
   "id": "180f64e4",
   "metadata": {},
   "outputs": [
    {
     "data": {
      "image/png": "[encoded data removed]",
      "text/plain": [
       "<Figure size 1440x576 with 1 Axes>"
      ]
     },
     "metadata": {
      "needs_background": "light"
     },
     "output_type": "display_data"
    }
   ],
   "source": [
    "plot_mae_by_level(\n",
    "    y_test_random_split,\n",
    "    y_pred_test,\n",
    "    title=\"MAE by level for default LightGBM with expanded features and random split\",\n",
    ")"
   ]
  },
  {
   "cell_type": "code",
   "execution_count": 38,
   "id": "b42be07c",
   "metadata": {},
   "outputs": [
    {
     "name": "stdout",
     "output_type": "stream",
     "text": [
      "Default:\n",
      "RMSE: 0.42\n",
      "\n",
      "Round type: 0.5\n",
      "RMSE: 0.45\n",
      "\n",
      "Round type: 0.33\n",
      "RMSE: 0.49\n",
      "\n",
      "Round type: 0.45\n",
      "RMSE: 0.46\n",
      "\n"
     ]
    }
   ],
   "source": [
    "evaluate_round_predictions([0.5, 0.33, 0.45], y_test_random_split, y_pred_test)"
   ]
  },
  {
   "cell_type": "code",
   "execution_count": 39,
   "id": "79174d21",
   "metadata": {},
   "outputs": [
    {
     "data": {
      "image/png": "[encoded data removed]",
      "text/plain": [
       "<Figure size 720x720 with 2 Axes>"
      ]
     },
     "metadata": {
      "needs_background": "light"
     },
     "output_type": "display_data"
    }
   ],
   "source": [
    "plot_confusion_matrix(\n",
    "    y_pred_test,\n",
    "    y_test_random_split,\n",
    "    title=\"Confusion matrix for default LightGBM with\\nexpanded features and random split\",\n",
    ")"
   ]
  },
  {
   "cell_type": "markdown",
   "id": "79bbd5ec",
   "metadata": {},
   "source": [
    "### Tuning"
   ]
  },
  {
   "cell_type": "code",
   "execution_count": 40,
   "id": "62270e6b",
   "metadata": {
    "scrolled": true
   },
   "outputs": [
    {
     "name": "stderr",
     "output_type": "stream",
     "text": [
      "[I 2023-12-01 17:48:52,830] A new study created in memory with name: no-name-cb4b676f-5462-4aa2-a28e-45f783113fa8\n",
      "feature_fraction, val_score: inf:   0%|                                                          | 0/7 [00:00<?, ?it/s]"
     ]
    },
    {
     "name": "stdout",
     "output_type": "stream",
     "text": [
      "Training until validation scores don't improve for 100 rounds\n",
      "[100]\tcv_agg's l2: 0.245356 + 0.0497799\n",
      "[200]\tcv_agg's l2: 0.243125 + 0.0502596\n"
     ]
    },
    {
     "name": "stderr",
     "output_type": "stream",
     "text": [
      "feature_fraction, val_score: 0.242656:  14%|######4                                      | 1/7 [00:03<00:18,  3.08s/it][I 2023-12-01 17:48:55,913] Trial 0 finished with value: 0.24265624385824483 and parameters: {'feature_fraction': 0.7}. Best is trial 0 with value: 0.24265624385824483.\n",
      "feature_fraction, val_score: 0.242656:  14%|######4                                      | 1/7 [00:03<00:18,  3.08s/it]"
     ]
    },
    {
     "name": "stdout",
     "output_type": "stream",
     "text": [
      "Early stopping, best iteration is:\n",
      "[175]\tcv_agg's l2: 0.242656 + 0.0502421\n",
      "[100]\tcv_agg's l2: 0.24768 + 0.0596315\n",
      "[200]\tcv_agg's l2: 0.24481 + 0.0587218\n"
     ]
    },
    {
     "name": "stderr",
     "output_type": "stream",
     "text": [
      "feature_fraction, val_score: 0.242656:  29%|############8                                | 2/7 [00:05<00:14,  2.83s/it][I 2023-12-01 17:48:58,572] Trial 1 finished with value: 0.24483678863833366 and parameters: {'feature_fraction': 0.8}. Best is trial 0 with value: 0.24265624385824483.\n",
      "feature_fraction, val_score: 0.242656:  29%|############8                                | 2/7 [00:05<00:14,  2.83s/it]"
     ]
    },
    {
     "name": "stdout",
     "output_type": "stream",
     "text": [
      "Early stopping, best iteration is:\n",
      "[175]\tcv_agg's l2: 0.242656 + 0.0502421\n",
      "[100]\tcv_agg's l2: 0.251219 + 0.0515911\n",
      "[200]\tcv_agg's l2: 0.247248 + 0.0496118\n"
     ]
    },
    {
     "name": "stderr",
     "output_type": "stream",
     "text": [
      "feature_fraction, val_score: 0.242656:  43%|###################2                         | 3/7 [00:08<00:11,  2.88s/it][I 2023-12-01 17:49:01,522] Trial 2 finished with value: 0.24764627624416163 and parameters: {'feature_fraction': 0.8999999999999999}. Best is trial 0 with value: 0.24265624385824483.\n",
      "feature_fraction, val_score: 0.242656:  43%|###################2                         | 3/7 [00:08<00:11,  2.88s/it]"
     ]
    },
    {
     "name": "stdout",
     "output_type": "stream",
     "text": [
      "Early stopping, best iteration is:\n",
      "[175]\tcv_agg's l2: 0.242656 + 0.0502421\n",
      "[100]\tcv_agg's l2: 0.244469 + 0.0510308\n",
      "[200]\tcv_agg's l2: 0.24158 + 0.0507957\n"
     ]
    },
    {
     "name": "stderr",
     "output_type": "stream",
     "text": [
      "\r",
      "feature_fraction, val_score: 0.240936:  43%|###################2                         | 3/7 [00:11<00:11,  2.88s/it]"
     ]
    },
    {
     "name": "stdout",
     "output_type": "stream",
     "text": [
      "[300]\tcv_agg's l2: 0.241841 + 0.0507651\n",
      "Early stopping, best iteration is:\n",
      "[220]\tcv_agg's l2: 0.240936 + 0.0510657\n"
     ]
    },
    {
     "name": "stderr",
     "output_type": "stream",
     "text": [
      "feature_fraction, val_score: 0.240936:  57%|#########################7                   | 4/7 [00:11<00:08,  2.99s/it][I 2023-12-01 17:49:04,664] Trial 3 finished with value: 0.24093633922522537 and parameters: {'feature_fraction': 0.6}. Best is trial 3 with value: 0.24093633922522537.\n",
      "feature_fraction, val_score: 0.240936:  57%|#########################7                   | 4/7 [00:11<00:08,  2.99s/it]"
     ]
    },
    {
     "name": "stdout",
     "output_type": "stream",
     "text": [
      "[100]\tcv_agg's l2: 0.254125 + 0.0623358\n",
      "[200]\tcv_agg's l2: 0.249504 + 0.0572621\n"
     ]
    },
    {
     "name": "stderr",
     "output_type": "stream",
     "text": [
      "\r",
      "feature_fraction, val_score: 0.240936:  57%|#########################7                   | 4/7 [00:15<00:08,  2.99s/it]"
     ]
    },
    {
     "name": "stdout",
     "output_type": "stream",
     "text": [
      "[300]\tcv_agg's l2: 0.249107 + 0.055394\n",
      "Early stopping, best iteration is:\n",
      "[220]\tcv_agg's l2: 0.240936 + 0.0510657\n"
     ]
    },
    {
     "name": "stderr",
     "output_type": "stream",
     "text": [
      "feature_fraction, val_score: 0.240936:  71%|################################1            | 5/7 [00:15<00:06,  3.12s/it][I 2023-12-01 17:49:08,025] Trial 4 finished with value: 0.2488314256394736 and parameters: {'feature_fraction': 1.0}. Best is trial 3 with value: 0.24093633922522537.\n",
      "feature_fraction, val_score: 0.240936:  71%|################################1            | 5/7 [00:15<00:06,  3.12s/it]"
     ]
    },
    {
     "name": "stdout",
     "output_type": "stream",
     "text": [
      "[100]\tcv_agg's l2: 0.251967 + 0.0408846\n",
      "[200]\tcv_agg's l2: 0.249134 + 0.0406743\n"
     ]
    },
    {
     "name": "stderr",
     "output_type": "stream",
     "text": [
      "\r",
      "feature_fraction, val_score: 0.240936:  71%|################################1            | 5/7 [00:18<00:06,  3.12s/it]"
     ]
    },
    {
     "name": "stdout",
     "output_type": "stream",
     "text": [
      "[300]\tcv_agg's l2: 0.249796 + 0.0420843\n",
      "Early stopping, best iteration is:\n",
      "[220]\tcv_agg's l2: 0.240936 + 0.0510657\n"
     ]
    },
    {
     "name": "stderr",
     "output_type": "stream",
     "text": [
      "feature_fraction, val_score: 0.240936:  86%|######################################5      | 6/7 [00:18<00:03,  3.05s/it][I 2023-12-01 17:49:10,926] Trial 5 finished with value: 0.24939495601238235 and parameters: {'feature_fraction': 0.5}. Best is trial 3 with value: 0.24093633922522537.\n",
      "feature_fraction, val_score: 0.240936:  86%|######################################5      | 6/7 [00:18<00:03,  3.05s/it]"
     ]
    },
    {
     "name": "stdout",
     "output_type": "stream",
     "text": [
      "[100]\tcv_agg's l2: 0.24935 + 0.0520583\n",
      "[200]\tcv_agg's l2: 0.242833 + 0.0502899\n"
     ]
    },
    {
     "name": "stderr",
     "output_type": "stream",
     "text": [
      "\r",
      "feature_fraction, val_score: 0.240936:  86%|######################################5      | 6/7 [00:20<00:03,  3.05s/it]"
     ]
    },
    {
     "name": "stdout",
     "output_type": "stream",
     "text": [
      "[300]\tcv_agg's l2: 0.241938 + 0.0483029\n",
      "Early stopping, best iteration is:\n",
      "[220]\tcv_agg's l2: 0.240936 + 0.0510657\n"
     ]
    },
    {
     "name": "stderr",
     "output_type": "stream",
     "text": [
      "feature_fraction, val_score: 0.240936: 100%|#############################################| 7/7 [00:20<00:00,  3.00s/it][I 2023-12-01 17:49:13,831] Trial 6 finished with value: 0.2422756775254716 and parameters: {'feature_fraction': 0.4}. Best is trial 3 with value: 0.24093633922522537.\n",
      "feature_fraction, val_score: 0.240936: 100%|#############################################| 7/7 [00:20<00:00,  3.00s/it]\n",
      "num_leaves, val_score: 0.240936:   0%|                                                          | 0/20 [00:00<?, ?it/s]"
     ]
    },
    {
     "name": "stdout",
     "output_type": "stream",
     "text": [
      "[100]\tcv_agg's l2: 0.241841 + 0.0501073\n",
      "[200]\tcv_agg's l2: 0.243509 + 0.0487794\n",
      "[300]\tcv_agg's l2: 0.245115 + 0.0488494\n"
     ]
    },
    {
     "name": "stderr",
     "output_type": "stream",
     "text": [
      "num_leaves, val_score: 0.240936:   5%|##5                                               | 1/20 [00:06<02:07,  6.71s/it][I 2023-12-01 17:49:20,552] Trial 7 finished with value: 0.24361037352271878 and parameters: {'num_leaves': 161}. Best is trial 7 with value: 0.24361037352271878.\n",
      "num_leaves, val_score: 0.240936:   5%|##5                                               | 1/20 [00:06<02:07,  6.71s/it]"
     ]
    },
    {
     "name": "stdout",
     "output_type": "stream",
     "text": [
      "Early stopping, best iteration is:\n",
      "[220]\tcv_agg's l2: 0.240936 + 0.0510657\n",
      "[100]\tcv_agg's l2: 0.242013 + 0.0500512\n",
      "[200]\tcv_agg's l2: 0.241248 + 0.0500855\n"
     ]
    },
    {
     "name": "stderr",
     "output_type": "stream",
     "text": [
      "num_leaves, val_score: 0.240931:  10%|#####                                             | 2/20 [00:10<01:26,  4.82s/it][I 2023-12-01 17:49:24,043] Trial 8 finished with value: 0.24093085725366437 and parameters: {'num_leaves': 55}. Best is trial 8 with value: 0.24093085725366437.\n",
      "num_leaves, val_score: 0.240931:  10%|#####                                             | 2/20 [00:10<01:26,  4.82s/it]"
     ]
    },
    {
     "name": "stdout",
     "output_type": "stream",
     "text": [
      "Early stopping, best iteration is:\n",
      "[143]\tcv_agg's l2: 0.240931 + 0.050555\n",
      "[100]\tcv_agg's l2: 0.241841 + 0.0501073\n",
      "[200]\tcv_agg's l2: 0.243509 + 0.0487794\n"
     ]
    },
    {
     "name": "stderr",
     "output_type": "stream",
     "text": [
      "num_leaves, val_score: 0.240931:  15%|#######5                                          | 3/20 [00:15<01:25,  5.04s/it][I 2023-12-01 17:49:29,352] Trial 9 finished with value: 0.2422276011414141 and parameters: {'num_leaves': 90}. Best is trial 8 with value: 0.24093085725366437.\n",
      "num_leaves, val_score: 0.240931:  15%|#######5                                          | 3/20 [00:15<01:25,  5.04s/it]"
     ]
    },
    {
     "name": "stdout",
     "output_type": "stream",
     "text": [
      "Early stopping, best iteration is:\n",
      "[143]\tcv_agg's l2: 0.240931 + 0.050555\n",
      "[100]\tcv_agg's l2: 0.351794 + 0.0581141\n"
     ]
    },
    {
     "name": "stderr",
     "output_type": "stream",
     "text": [
      "num_leaves, val_score: 0.240931:  20%|##########                                        | 4/20 [00:16<00:53,  3.34s/it][I 2023-12-01 17:49:30,075] Trial 10 finished with value: 0.3310230468489813 and parameters: {'num_leaves': 4}. Best is trial 8 with value: 0.24093085725366437.\n",
      "num_leaves, val_score: 0.240931:  20%|##########                                        | 4/20 [00:16<00:53,  3.34s/it]"
     ]
    },
    {
     "name": "stdout",
     "output_type": "stream",
     "text": [
      "[200]\tcv_agg's l2: 0.314326 + 0.0537613\n",
      "Early stopping, best iteration is:\n",
      "[143]\tcv_agg's l2: 0.240931 + 0.050555\n",
      "[100]\tcv_agg's l2: 0.245061 + 0.0491388\n",
      "[200]\tcv_agg's l2: 0.243591 + 0.049474\n"
     ]
    },
    {
     "name": "stderr",
     "output_type": "stream",
     "text": [
      "num_leaves, val_score: 0.240931:  25%|############5                                     | 5/20 [00:19<00:50,  3.36s/it][I 2023-12-01 17:49:33,475] Trial 11 finished with value: 0.24332668908411229 and parameters: {'num_leaves': 49}. Best is trial 8 with value: 0.24093085725366437.\n",
      "num_leaves, val_score: 0.240931:  25%|############5                                     | 5/20 [00:19<00:50,  3.36s/it]"
     ]
    },
    {
     "name": "stdout",
     "output_type": "stream",
     "text": [
      "Early stopping, best iteration is:\n",
      "[143]\tcv_agg's l2: 0.240931 + 0.050555\n",
      "[100]\tcv_agg's l2: 0.241841 + 0.0501073\n",
      "[200]\tcv_agg's l2: 0.243509 + 0.0487794\n"
     ]
    },
    {
     "name": "stderr",
     "output_type": "stream",
     "text": [
      "num_leaves, val_score: 0.240931:  30%|###############                                   | 6/20 [00:25<00:56,  4.04s/it][I 2023-12-01 17:49:38,842] Trial 12 finished with value: 0.2422276011414141 and parameters: {'num_leaves': 247}. Best is trial 8 with value: 0.24093085725366437.\n",
      "num_leaves, val_score: 0.240931:  30%|###############                                   | 6/20 [00:25<00:56,  4.04s/it]"
     ]
    },
    {
     "name": "stdout",
     "output_type": "stream",
     "text": [
      "Early stopping, best iteration is:\n",
      "[143]\tcv_agg's l2: 0.240931 + 0.050555\n",
      "[100]\tcv_agg's l2: 0.241841 + 0.0501073\n",
      "[200]\tcv_agg's l2: 0.243509 + 0.0487794\n"
     ]
    },
    {
     "name": "stderr",
     "output_type": "stream",
     "text": [
      "num_leaves, val_score: 0.240931:  35%|#################5                                | 7/20 [00:30<00:56,  4.38s/it][I 2023-12-01 17:49:43,909] Trial 13 finished with value: 0.2422276011414141 and parameters: {'num_leaves': 137}. Best is trial 8 with value: 0.24093085725366437.\n",
      "num_leaves, val_score: 0.240931:  35%|#################5                                | 7/20 [00:30<00:56,  4.38s/it]"
     ]
    },
    {
     "name": "stdout",
     "output_type": "stream",
     "text": [
      "Early stopping, best iteration is:\n",
      "[143]\tcv_agg's l2: 0.240931 + 0.050555\n",
      "[100]\tcv_agg's l2: 0.245631 + 0.0528715\n",
      "[200]\tcv_agg's l2: 0.247296 + 0.0525312\n"
     ]
    },
    {
     "name": "stderr",
     "output_type": "stream",
     "text": [
      "num_leaves, val_score: 0.240931:  40%|####################                              | 8/20 [00:34<00:53,  4.44s/it][I 2023-12-01 17:49:48,482] Trial 14 finished with value: 0.2462802167767814 and parameters: {'num_leaves': 72}. Best is trial 8 with value: 0.24093085725366437.\n",
      "num_leaves, val_score: 0.240931:  40%|####################                              | 8/20 [00:34<00:53,  4.44s/it]"
     ]
    },
    {
     "name": "stdout",
     "output_type": "stream",
     "text": [
      "Early stopping, best iteration is:\n",
      "[143]\tcv_agg's l2: 0.240931 + 0.050555\n",
      "[100]\tcv_agg's l2: 0.241841 + 0.0501073\n",
      "[200]\tcv_agg's l2: 0.243509 + 0.0487794\n"
     ]
    },
    {
     "name": "stderr",
     "output_type": "stream",
     "text": [
      "num_leaves, val_score: 0.240931:  45%|######################5                           | 9/20 [00:39<00:51,  4.66s/it][I 2023-12-01 17:49:53,623] Trial 15 finished with value: 0.2422276011414141 and parameters: {'num_leaves': 209}. Best is trial 8 with value: 0.24093085725366437.\n",
      "num_leaves, val_score: 0.240931:  45%|######################5                           | 9/20 [00:39<00:51,  4.66s/it]"
     ]
    },
    {
     "name": "stdout",
     "output_type": "stream",
     "text": [
      "Early stopping, best iteration is:\n",
      "[143]\tcv_agg's l2: 0.240931 + 0.050555\n",
      "[100]\tcv_agg's l2: 0.304894 + 0.0553819\n"
     ]
    },
    {
     "name": "stderr",
     "output_type": "stream",
     "text": [
      "num_leaves, val_score: 0.240931:  50%|########################5                        | 10/20 [00:40<00:34,  3.48s/it][I 2023-12-01 17:49:54,451] Trial 16 finished with value: 0.2883487941847393 and parameters: {'num_leaves': 6}. Best is trial 8 with value: 0.24093085725366437.\n",
      "num_leaves, val_score: 0.240931:  50%|########################5                        | 10/20 [00:40<00:34,  3.48s/it]"
     ]
    },
    {
     "name": "stdout",
     "output_type": "stream",
     "text": [
      "[200]\tcv_agg's l2: 0.274678 + 0.0517803\n",
      "Early stopping, best iteration is:\n",
      "[143]\tcv_agg's l2: 0.240931 + 0.050555\n",
      "[100]\tcv_agg's l2: 0.241841 + 0.0501073\n",
      "[200]\tcv_agg's l2: 0.243509 + 0.0487794\n"
     ]
    },
    {
     "name": "stderr",
     "output_type": "stream",
     "text": [
      "num_leaves, val_score: 0.240931:  55%|##########################9                      | 11/20 [00:46<00:36,  4.07s/it][I 2023-12-01 17:49:59,859] Trial 17 finished with value: 0.2422276011414141 and parameters: {'num_leaves': 96}. Best is trial 8 with value: 0.24093085725366437.\n",
      "num_leaves, val_score: 0.240931:  55%|##########################9                      | 11/20 [00:46<00:36,  4.07s/it]"
     ]
    },
    {
     "name": "stdout",
     "output_type": "stream",
     "text": [
      "Early stopping, best iteration is:\n",
      "[143]\tcv_agg's l2: 0.240931 + 0.050555\n",
      "[100]\tcv_agg's l2: 0.241841 + 0.0501073\n",
      "[200]\tcv_agg's l2: 0.243509 + 0.0487794\n"
     ]
    },
    {
     "name": "stderr",
     "output_type": "stream",
     "text": [
      "num_leaves, val_score: 0.240931:  60%|#############################4                   | 12/20 [00:51<00:35,  4.38s/it][I 2023-12-01 17:50:04,958] Trial 18 finished with value: 0.2422276011414141 and parameters: {'num_leaves': 180}. Best is trial 8 with value: 0.24093085725366437.\n",
      "num_leaves, val_score: 0.240931:  60%|#############################4                   | 12/20 [00:51<00:35,  4.38s/it]"
     ]
    },
    {
     "name": "stdout",
     "output_type": "stream",
     "text": [
      "Early stopping, best iteration is:\n",
      "[143]\tcv_agg's l2: 0.240931 + 0.050555\n",
      "[100]\tcv_agg's l2: 0.243812 + 0.0492555\n",
      "[200]\tcv_agg's l2: 0.242481 + 0.0497259\n"
     ]
    },
    {
     "name": "stderr",
     "output_type": "stream",
     "text": [
      "num_leaves, val_score: 0.240931:  65%|###############################8                 | 13/20 [00:54<00:28,  4.11s/it][I 2023-12-01 17:50:08,444] Trial 19 finished with value: 0.24263158017054934 and parameters: {'num_leaves': 48}. Best is trial 8 with value: 0.24093085725366437.\n",
      "num_leaves, val_score: 0.240931:  65%|###############################8                 | 13/20 [00:54<00:28,  4.11s/it]"
     ]
    },
    {
     "name": "stdout",
     "output_type": "stream",
     "text": [
      "Early stopping, best iteration is:\n",
      "[143]\tcv_agg's l2: 0.240931 + 0.050555\n",
      "[100]\tcv_agg's l2: 0.241841 + 0.0501073\n",
      "[200]\tcv_agg's l2: 0.243509 + 0.0487794\n"
     ]
    },
    {
     "name": "stderr",
     "output_type": "stream",
     "text": [
      "num_leaves, val_score: 0.240931:  70%|##################################3              | 14/20 [01:00<00:28,  4.69s/it][I 2023-12-01 17:50:14,467] Trial 20 finished with value: 0.2422276011414141 and parameters: {'num_leaves': 123}. Best is trial 8 with value: 0.24093085725366437.\n",
      "num_leaves, val_score: 0.240931:  70%|##################################3              | 14/20 [01:00<00:28,  4.69s/it]"
     ]
    },
    {
     "name": "stdout",
     "output_type": "stream",
     "text": [
      "Early stopping, best iteration is:\n",
      "[143]\tcv_agg's l2: 0.240931 + 0.050555\n",
      "[100]\tcv_agg's l2: 0.241841 + 0.0501073\n",
      "[200]\tcv_agg's l2: 0.243509 + 0.0487794\n"
     ]
    },
    {
     "name": "stderr",
     "output_type": "stream",
     "text": [
      "num_leaves, val_score: 0.240931:  75%|####################################7            | 15/20 [01:06<00:25,  5.12s/it][I 2023-12-01 17:50:20,604] Trial 21 finished with value: 0.2422276011414141 and parameters: {'num_leaves': 91}. Best is trial 8 with value: 0.24093085725366437.\n",
      "num_leaves, val_score: 0.240931:  75%|####################################7            | 15/20 [01:06<00:25,  5.12s/it]"
     ]
    },
    {
     "name": "stdout",
     "output_type": "stream",
     "text": [
      "Early stopping, best iteration is:\n",
      "[143]\tcv_agg's l2: 0.240931 + 0.050555\n",
      "[100]\tcv_agg's l2: 0.24486 + 0.0514043\n",
      "[200]\tcv_agg's l2: 0.245116 + 0.0500922\n"
     ]
    },
    {
     "name": "stderr",
     "output_type": "stream",
     "text": [
      "num_leaves, val_score: 0.240931:  80%|#######################################2         | 16/20 [01:10<00:19,  4.82s/it][I 2023-12-01 17:50:24,699] Trial 22 finished with value: 0.24418797336372505 and parameters: {'num_leaves': 61}. Best is trial 8 with value: 0.24093085725366437.\n",
      "num_leaves, val_score: 0.240931:  80%|#######################################2         | 16/20 [01:10<00:19,  4.82s/it]"
     ]
    },
    {
     "name": "stdout",
     "output_type": "stream",
     "text": [
      "Early stopping, best iteration is:\n",
      "[143]\tcv_agg's l2: 0.240931 + 0.050555\n",
      "[100]\tcv_agg's l2: 0.241841 + 0.0501073\n",
      "[200]\tcv_agg's l2: 0.243509 + 0.0487794\n"
     ]
    },
    {
     "name": "stderr",
     "output_type": "stream",
     "text": [
      "num_leaves, val_score: 0.240931:  85%|#########################################6       | 17/20 [01:16<00:15,  5.03s/it][I 2023-12-01 17:50:30,243] Trial 23 finished with value: 0.2422276011414141 and parameters: {'num_leaves': 118}. Best is trial 8 with value: 0.24093085725366437.\n",
      "num_leaves, val_score: 0.240931:  85%|#########################################6       | 17/20 [01:16<00:15,  5.03s/it]"
     ]
    },
    {
     "name": "stdout",
     "output_type": "stream",
     "text": [
      "Early stopping, best iteration is:\n",
      "[143]\tcv_agg's l2: 0.240931 + 0.050555\n",
      "[100]\tcv_agg's l2: 0.245241 + 0.0491741\n",
      "[200]\tcv_agg's l2: 0.24315 + 0.0494623\n"
     ]
    },
    {
     "name": "stderr",
     "output_type": "stream",
     "text": [
      "num_leaves, val_score: 0.240931:  90%|############################################1    | 18/20 [01:18<00:08,  4.25s/it][I 2023-12-01 17:50:32,654] Trial 24 finished with value: 0.24314310343623324 and parameters: {'num_leaves': 29}. Best is trial 8 with value: 0.24093085725366437.\n",
      "num_leaves, val_score: 0.240931:  90%|############################################1    | 18/20 [01:18<00:08,  4.25s/it]"
     ]
    },
    {
     "name": "stdout",
     "output_type": "stream",
     "text": [
      "Early stopping, best iteration is:\n",
      "[143]\tcv_agg's l2: 0.240931 + 0.050555\n",
      "[100]\tcv_agg's l2: 0.241841 + 0.0501073\n",
      "[200]\tcv_agg's l2: 0.243509 + 0.0487794\n"
     ]
    },
    {
     "name": "stderr",
     "output_type": "stream",
     "text": [
      "num_leaves, val_score: 0.240931:  95%|##############################################5  | 19/20 [01:24<00:04,  4.55s/it][I 2023-12-01 17:50:37,897] Trial 25 finished with value: 0.2422276011414141 and parameters: {'num_leaves': 92}. Best is trial 8 with value: 0.24093085725366437.\n",
      "num_leaves, val_score: 0.240931:  95%|##############################################5  | 19/20 [01:24<00:04,  4.55s/it]"
     ]
    },
    {
     "name": "stdout",
     "output_type": "stream",
     "text": [
      "Early stopping, best iteration is:\n",
      "[143]\tcv_agg's l2: 0.240931 + 0.050555\n",
      "[100]\tcv_agg's l2: 0.241841 + 0.0501073\n",
      "[200]\tcv_agg's l2: 0.243509 + 0.0487794\n"
     ]
    },
    {
     "name": "stderr",
     "output_type": "stream",
     "text": [
      "num_leaves, val_score: 0.240931: 100%|#################################################| 20/20 [01:29<00:00,  4.76s/it][I 2023-12-01 17:50:43,163] Trial 26 finished with value: 0.2422276011414141 and parameters: {'num_leaves': 155}. Best is trial 8 with value: 0.24093085725366437.\n",
      "num_leaves, val_score: 0.240931: 100%|#################################################| 20/20 [01:29<00:00,  4.47s/it]\n"
     ]
    },
    {
     "name": "stdout",
     "output_type": "stream",
     "text": [
      "Early stopping, best iteration is:\n",
      "[143]\tcv_agg's l2: 0.240931 + 0.050555\n"
     ]
    },
    {
     "name": "stderr",
     "output_type": "stream",
     "text": [
      "bagging, val_score: 0.240931:   0%|                                                             | 0/10 [00:00<?, ?it/s]"
     ]
    },
    {
     "name": "stdout",
     "output_type": "stream",
     "text": [
      "[100]\tcv_agg's l2: 0.245317 + 0.0402406\n",
      "[200]\tcv_agg's l2: 0.24185 + 0.0433046\n"
     ]
    },
    {
     "name": "stderr",
     "output_type": "stream",
     "text": [
      "bagging, val_score: 0.240931:  10%|#####3                                               | 1/10 [00:03<00:29,  3.23s/it][I 2023-12-01 17:50:46,402] Trial 27 finished with value: 0.2417459735048221 and parameters: {'bagging_fraction': 0.5595911279776835, 'bagging_freq': 5}. Best is trial 27 with value: 0.2417459735048221.\n",
      "bagging, val_score: 0.240931:  10%|#####3                                               | 1/10 [00:03<00:29,  3.23s/it]"
     ]
    },
    {
     "name": "stdout",
     "output_type": "stream",
     "text": [
      "Early stopping, best iteration is:\n",
      "[143]\tcv_agg's l2: 0.240931 + 0.050555\n",
      "[100]\tcv_agg's l2: 0.243281 + 0.033308\n",
      "[200]\tcv_agg's l2: 0.241439 + 0.036006\n"
     ]
    },
    {
     "name": "stderr",
     "output_type": "stream",
     "text": [
      "bagging, val_score: 0.240606:  20%|##########6                                          | 2/10 [00:07<00:30,  3.79s/it][I 2023-12-01 17:50:50,582] Trial 28 finished with value: 0.24060614204980774 and parameters: {'bagging_fraction': 0.5471529183736787, 'bagging_freq': 5}. Best is trial 28 with value: 0.24060614204980774.\n",
      "bagging, val_score: 0.240606:  20%|##########6                                          | 2/10 [00:07<00:30,  3.79s/it]"
     ]
    },
    {
     "name": "stdout",
     "output_type": "stream",
     "text": [
      "[300]\tcv_agg's l2: 0.242898 + 0.0362237\n",
      "Early stopping, best iteration is:\n",
      "[208]\tcv_agg's l2: 0.240606 + 0.0358566\n",
      "[100]\tcv_agg's l2: 0.25704 + 0.0461742\n",
      "[200]\tcv_agg's l2: 0.251418 + 0.0482199\n"
     ]
    },
    {
     "name": "stderr",
     "output_type": "stream",
     "text": [
      "bagging, val_score: 0.240606:  30%|###############9                                     | 3/10 [00:10<00:25,  3.67s/it][I 2023-12-01 17:50:54,110] Trial 29 finished with value: 0.2516111543473718 and parameters: {'bagging_fraction': 0.4363701241477408, 'bagging_freq': 3}. Best is trial 28 with value: 0.24060614204980774.\n",
      "bagging, val_score: 0.240606:  30%|###############9                                     | 3/10 [00:10<00:25,  3.67s/it]"
     ]
    },
    {
     "name": "stdout",
     "output_type": "stream",
     "text": [
      "[300]\tcv_agg's l2: 0.25498 + 0.0486051\n",
      "Early stopping, best iteration is:\n",
      "[208]\tcv_agg's l2: 0.240606 + 0.0358566\n",
      "[100]\tcv_agg's l2: 0.251444 + 0.0468827\n",
      "[200]\tcv_agg's l2: 0.249041 + 0.0461016\n"
     ]
    },
    {
     "name": "stderr",
     "output_type": "stream",
     "text": [
      "bagging, val_score: 0.240606:  40%|#####################2                               | 4/10 [00:16<00:25,  4.32s/it][I 2023-12-01 17:50:59,433] Trial 30 finished with value: 0.24915558958240167 and parameters: {'bagging_fraction': 0.8577976988228864, 'bagging_freq': 7}. Best is trial 28 with value: 0.24060614204980774.\n",
      "bagging, val_score: 0.240606:  40%|#####################2                               | 4/10 [00:16<00:25,  4.32s/it]"
     ]
    },
    {
     "name": "stdout",
     "output_type": "stream",
     "text": [
      "[300]\tcv_agg's l2: 0.251023 + 0.0467759\n",
      "Early stopping, best iteration is:\n",
      "[208]\tcv_agg's l2: 0.240606 + 0.0358566\n",
      "[100]\tcv_agg's l2: 0.242886 + 0.037013\n",
      "[200]\tcv_agg's l2: 0.239233 + 0.0393207\n"
     ]
    },
    {
     "name": "stderr",
     "output_type": "stream",
     "text": [
      "bagging, val_score: 0.239120:  50%|##########################5                          | 5/10 [00:20<00:20,  4.14s/it][I 2023-12-01 17:51:03,249] Trial 31 finished with value: 0.2391195230115451 and parameters: {'bagging_fraction': 0.5550168715945725, 'bagging_freq': 5}. Best is trial 31 with value: 0.2391195230115451.\n",
      "bagging, val_score: 0.239120:  50%|##########################5                          | 5/10 [00:20<00:20,  4.14s/it]"
     ]
    },
    {
     "name": "stdout",
     "output_type": "stream",
     "text": [
      "Early stopping, best iteration is:\n",
      "[182]\tcv_agg's l2: 0.23912 + 0.0386286\n",
      "[100]\tcv_agg's l2: 0.247386 + 0.0350403\n",
      "[200]\tcv_agg's l2: 0.246514 + 0.0345459\n"
     ]
    },
    {
     "name": "stderr",
     "output_type": "stream",
     "text": [
      "bagging, val_score: 0.239120:  60%|###############################8                     | 6/10 [00:24<00:16,  4.19s/it][I 2023-12-01 17:51:07,538] Trial 32 finished with value: 0.24633003226260347 and parameters: {'bagging_fraction': 0.6150058941980898, 'bagging_freq': 5}. Best is trial 31 with value: 0.2391195230115451.\n",
      "bagging, val_score: 0.239120:  60%|###############################8                     | 6/10 [00:24<00:16,  4.19s/it]"
     ]
    },
    {
     "name": "stdout",
     "output_type": "stream",
     "text": [
      "Early stopping, best iteration is:\n",
      "[182]\tcv_agg's l2: 0.23912 + 0.0386286\n",
      "[100]\tcv_agg's l2: 0.243268 + 0.0487365\n",
      "[200]\tcv_agg's l2: 0.239956 + 0.0498963\n"
     ]
    },
    {
     "name": "stderr",
     "output_type": "stream",
     "text": [
      "bagging, val_score: 0.239120:  70%|#####################################                | 7/10 [00:28<00:12,  4.11s/it][I 2023-12-01 17:51:11,485] Trial 33 finished with value: 0.24043331995210426 and parameters: {'bagging_fraction': 0.5715648096013078, 'bagging_freq': 1}. Best is trial 31 with value: 0.2391195230115451.\n",
      "bagging, val_score: 0.239120:  70%|#####################################                | 7/10 [00:28<00:12,  4.11s/it]"
     ]
    },
    {
     "name": "stdout",
     "output_type": "stream",
     "text": [
      "Early stopping, best iteration is:\n",
      "[182]\tcv_agg's l2: 0.23912 + 0.0386286\n",
      "[100]\tcv_agg's l2: 0.242058 + 0.0485115\n",
      "[200]\tcv_agg's l2: 0.238186 + 0.0467326\n"
     ]
    },
    {
     "name": "stderr",
     "output_type": "stream",
     "text": [
      "bagging, val_score: 0.237983:  80%|##########################################4          | 8/10 [00:32<00:08,  4.12s/it][I 2023-12-01 17:51:15,609] Trial 34 finished with value: 0.23798329531756313 and parameters: {'bagging_fraction': 0.5830483135291766, 'bagging_freq': 1}. Best is trial 34 with value: 0.23798329531756313.\n",
      "bagging, val_score: 0.237983:  80%|##########################################4          | 8/10 [00:32<00:08,  4.12s/it]"
     ]
    },
    {
     "name": "stdout",
     "output_type": "stream",
     "text": [
      "Early stopping, best iteration is:\n",
      "[199]\tcv_agg's l2: 0.237983 + 0.0468058\n",
      "[100]\tcv_agg's l2: 0.244213 + 0.049691\n",
      "[200]\tcv_agg's l2: 0.242339 + 0.0475732\n"
     ]
    },
    {
     "name": "stderr",
     "output_type": "stream",
     "text": [
      "bagging, val_score: 0.237983:  90%|###############################################7     | 9/10 [00:36<00:04,  4.14s/it][I 2023-12-01 17:51:19,811] Trial 35 finished with value: 0.24229235006761768 and parameters: {'bagging_fraction': 0.5779505715459939, 'bagging_freq': 1}. Best is trial 34 with value: 0.23798329531756313.\n",
      "bagging, val_score: 0.237983:  90%|###############################################7     | 9/10 [00:36<00:04,  4.14s/it]"
     ]
    },
    {
     "name": "stdout",
     "output_type": "stream",
     "text": [
      "Early stopping, best iteration is:\n",
      "[199]\tcv_agg's l2: 0.237983 + 0.0468058\n",
      "[100]\tcv_agg's l2: 0.247005 + 0.0468204\n",
      "[200]\tcv_agg's l2: 0.243412 + 0.0449548\n"
     ]
    },
    {
     "name": "stderr",
     "output_type": "stream",
     "text": [
      "bagging, val_score: 0.237983: 100%|####################################################| 10/10 [00:40<00:00,  4.17s/it][I 2023-12-01 17:51:24,054] Trial 36 finished with value: 0.24336072243414275 and parameters: {'bagging_fraction': 0.5625362353568635, 'bagging_freq': 1}. Best is trial 34 with value: 0.23798329531756313.\n",
      "bagging, val_score: 0.237983: 100%|####################################################| 10/10 [00:40<00:00,  4.09s/it]\n"
     ]
    },
    {
     "name": "stdout",
     "output_type": "stream",
     "text": [
      "Early stopping, best iteration is:\n",
      "[199]\tcv_agg's l2: 0.237983 + 0.0468058\n"
     ]
    },
    {
     "name": "stderr",
     "output_type": "stream",
     "text": [
      "feature_fraction_stage2, val_score: 0.237983:   0%|                                              | 0/6 [00:00<?, ?it/s]"
     ]
    },
    {
     "name": "stdout",
     "output_type": "stream",
     "text": [
      "[100]\tcv_agg's l2: 0.244066 + 0.0351379\n",
      "[200]\tcv_agg's l2: 0.240269 + 0.037934\n"
     ]
    },
    {
     "name": "stderr",
     "output_type": "stream",
     "text": [
      "feature_fraction_stage2, val_score: 0.237983:  17%|######3                               | 1/6 [00:04<00:22,  4.41s/it][I 2023-12-01 17:51:28,473] Trial 37 finished with value: 0.2403060758553634 and parameters: {'feature_fraction': 0.52}. Best is trial 37 with value: 0.2403060758553634.\n",
      "feature_fraction_stage2, val_score: 0.237983:  17%|######3                               | 1/6 [00:04<00:22,  4.41s/it]"
     ]
    },
    {
     "name": "stdout",
     "output_type": "stream",
     "text": [
      "Early stopping, best iteration is:\n",
      "[199]\tcv_agg's l2: 0.237983 + 0.0468058\n",
      "[100]\tcv_agg's l2: 0.242058 + 0.0485115\n",
      "[200]\tcv_agg's l2: 0.238186 + 0.0467326\n"
     ]
    },
    {
     "name": "stderr",
     "output_type": "stream",
     "text": [
      "feature_fraction_stage2, val_score: 0.237983:  33%|############6                         | 2/6 [00:08<00:17,  4.43s/it][I 2023-12-01 17:51:32,918] Trial 38 finished with value: 0.23798329531756313 and parameters: {'feature_fraction': 0.584}. Best is trial 38 with value: 0.23798329531756313.\n",
      "feature_fraction_stage2, val_score: 0.237983:  33%|############6                         | 2/6 [00:08<00:17,  4.43s/it]"
     ]
    },
    {
     "name": "stdout",
     "output_type": "stream",
     "text": [
      "Early stopping, best iteration is:\n",
      "[199]\tcv_agg's l2: 0.237983 + 0.0468058\n",
      "[100]\tcv_agg's l2: 0.242058 + 0.0485115\n",
      "[200]\tcv_agg's l2: 0.238186 + 0.0467326\n"
     ]
    },
    {
     "name": "stderr",
     "output_type": "stream",
     "text": [
      "feature_fraction_stage2, val_score: 0.237983:  50%|###################                   | 3/6 [00:13<00:13,  4.61s/it][I 2023-12-01 17:51:37,737] Trial 39 finished with value: 0.23798329531756313 and parameters: {'feature_fraction': 0.616}. Best is trial 38 with value: 0.23798329531756313.\n",
      "feature_fraction_stage2, val_score: 0.237983:  50%|###################                   | 3/6 [00:13<00:13,  4.61s/it]"
     ]
    },
    {
     "name": "stdout",
     "output_type": "stream",
     "text": [
      "Early stopping, best iteration is:\n",
      "[199]\tcv_agg's l2: 0.237983 + 0.0468058\n",
      "[100]\tcv_agg's l2: 0.251872 + 0.0503451\n",
      "[200]\tcv_agg's l2: 0.249841 + 0.0499418\n"
     ]
    },
    {
     "name": "stderr",
     "output_type": "stream",
     "text": [
      "feature_fraction_stage2, val_score: 0.237983:  67%|#########################3            | 4/6 [00:17<00:08,  4.45s/it][I 2023-12-01 17:51:41,932] Trial 40 finished with value: 0.24956073435670517 and parameters: {'feature_fraction': 0.6799999999999999}. Best is trial 38 with value: 0.23798329531756313.\n",
      "feature_fraction_stage2, val_score: 0.237983:  67%|#########################3            | 4/6 [00:17<00:08,  4.45s/it]"
     ]
    },
    {
     "name": "stdout",
     "output_type": "stream",
     "text": [
      "Early stopping, best iteration is:\n",
      "[199]\tcv_agg's l2: 0.237983 + 0.0468058\n",
      "[100]\tcv_agg's l2: 0.244066 + 0.0351379\n",
      "[200]\tcv_agg's l2: 0.240269 + 0.037934\n"
     ]
    },
    {
     "name": "stderr",
     "output_type": "stream",
     "text": [
      "feature_fraction_stage2, val_score: 0.237983:  83%|###############################6      | 5/6 [00:22<00:04,  4.43s/it][I 2023-12-01 17:51:46,337] Trial 41 finished with value: 0.2403060758553634 and parameters: {'feature_fraction': 0.552}. Best is trial 38 with value: 0.23798329531756313.\n",
      "feature_fraction_stage2, val_score: 0.237983:  83%|###############################6      | 5/6 [00:22<00:04,  4.43s/it]"
     ]
    },
    {
     "name": "stdout",
     "output_type": "stream",
     "text": [
      "Early stopping, best iteration is:\n",
      "[199]\tcv_agg's l2: 0.237983 + 0.0468058\n",
      "[100]\tcv_agg's l2: 0.242058 + 0.0485115\n",
      "[200]\tcv_agg's l2: 0.238186 + 0.0467326\n"
     ]
    },
    {
     "name": "stderr",
     "output_type": "stream",
     "text": [
      "feature_fraction_stage2, val_score: 0.237983: 100%|######################################| 6/6 [00:26<00:00,  4.43s/it][I 2023-12-01 17:51:50,755] Trial 42 finished with value: 0.23798329531756313 and parameters: {'feature_fraction': 0.6479999999999999}. Best is trial 38 with value: 0.23798329531756313.\n",
      "feature_fraction_stage2, val_score: 0.237983: 100%|######################################| 6/6 [00:26<00:00,  4.45s/it]\n"
     ]
    },
    {
     "name": "stdout",
     "output_type": "stream",
     "text": [
      "Early stopping, best iteration is:\n",
      "[199]\tcv_agg's l2: 0.237983 + 0.0468058\n"
     ]
    },
    {
     "name": "stderr",
     "output_type": "stream",
     "text": [
      "regularization_factors, val_score: 0.237983:   0%|                                              | 0/20 [00:00<?, ?it/s]"
     ]
    },
    {
     "name": "stdout",
     "output_type": "stream",
     "text": [
      "[100]\tcv_agg's l2: 0.252309 + 0.0459182\n",
      "[200]\tcv_agg's l2: 0.245898 + 0.044561\n"
     ]
    },
    {
     "name": "stderr",
     "output_type": "stream",
     "text": [
      "regularization_factors, val_score: 0.237983:   5%|#9                                    | 1/20 [00:04<01:19,  4.20s/it][I 2023-12-01 17:51:54,966] Trial 43 finished with value: 0.245846745861081 and parameters: {'lambda_l1': 0.01175112744402214, 'lambda_l2': 3.31523450836716}. Best is trial 43 with value: 0.245846745861081.\n",
      "regularization_factors, val_score: 0.237983:   5%|#9                                    | 1/20 [00:04<01:19,  4.20s/it]"
     ]
    },
    {
     "name": "stdout",
     "output_type": "stream",
     "text": [
      "Early stopping, best iteration is:\n",
      "[199]\tcv_agg's l2: 0.237983 + 0.0468058\n",
      "[100]\tcv_agg's l2: 0.241484 + 0.0478659\n",
      "[200]\tcv_agg's l2: 0.238157 + 0.0466969\n"
     ]
    },
    {
     "name": "stderr",
     "output_type": "stream",
     "text": [
      "regularization_factors, val_score: 0.237978:  10%|###8                                  | 2/20 [00:08<01:18,  4.37s/it][I 2023-12-01 17:51:59,449] Trial 44 finished with value: 0.23797798581909432 and parameters: {'lambda_l1': 1.8945339314600518e-08, 'lambda_l2': 3.433556708595382e-08}. Best is trial 44 with value: 0.23797798581909432.\n",
      "regularization_factors, val_score: 0.237978:  10%|###8                                  | 2/20 [00:08<01:18,  4.37s/it]"
     ]
    },
    {
     "name": "stdout",
     "output_type": "stream",
     "text": [
      "Early stopping, best iteration is:\n",
      "[198]\tcv_agg's l2: 0.237978 + 0.0466666\n",
      "[100]\tcv_agg's l2: 0.241484 + 0.0478659\n",
      "[200]\tcv_agg's l2: 0.238157 + 0.0466969\n"
     ]
    },
    {
     "name": "stderr",
     "output_type": "stream",
     "text": [
      "regularization_factors, val_score: 0.237978:  15%|#####7                                | 3/20 [00:13<01:14,  4.38s/it][I 2023-12-01 17:52:03,847] Trial 45 finished with value: 0.23797798582526103 and parameters: {'lambda_l1': 1.0004789893754126e-08, 'lambda_l2': 2.518759474722022e-08}. Best is trial 44 with value: 0.23797798581909432.\n",
      "regularization_factors, val_score: 0.237978:  15%|#####7                                | 3/20 [00:13<01:14,  4.38s/it]"
     ]
    },
    {
     "name": "stdout",
     "output_type": "stream",
     "text": [
      "Early stopping, best iteration is:\n",
      "[198]\tcv_agg's l2: 0.237978 + 0.0466666\n",
      "[100]\tcv_agg's l2: 0.241484 + 0.0478659\n",
      "[200]\tcv_agg's l2: 0.238157 + 0.0466969\n"
     ]
    },
    {
     "name": "stderr",
     "output_type": "stream",
     "text": [
      "regularization_factors, val_score: 0.237978:  20%|#######6                              | 4/20 [00:17<01:13,  4.59s/it][I 2023-12-01 17:52:08,753] Trial 46 finished with value: 0.23797798584090346 and parameters: {'lambda_l1': 2.0647448111631617e-08, 'lambda_l2': 1.4979396839891002e-08}. Best is trial 44 with value: 0.23797798581909432.\n",
      "regularization_factors, val_score: 0.237978:  20%|#######6                              | 4/20 [00:17<01:13,  4.59s/it]"
     ]
    },
    {
     "name": "stdout",
     "output_type": "stream",
     "text": [
      "Early stopping, best iteration is:\n",
      "[198]\tcv_agg's l2: 0.237978 + 0.0466666\n",
      "[100]\tcv_agg's l2: 0.241484 + 0.0478659\n",
      "[200]\tcv_agg's l2: 0.238157 + 0.0466969\n"
     ]
    },
    {
     "name": "stderr",
     "output_type": "stream",
     "text": [
      "regularization_factors, val_score: 0.237978:  25%|#########5                            | 5/20 [00:22<01:06,  4.47s/it][I 2023-12-01 17:52:13,001] Trial 47 finished with value: 0.23797798585017152 and parameters: {'lambda_l1': 1.3909837232423016e-08, 'lambda_l2': 1.0814802750723266e-08}. Best is trial 44 with value: 0.23797798581909432.\n",
      "regularization_factors, val_score: 0.237978:  25%|#########5                            | 5/20 [00:22<01:06,  4.47s/it]"
     ]
    },
    {
     "name": "stdout",
     "output_type": "stream",
     "text": [
      "Early stopping, best iteration is:\n",
      "[198]\tcv_agg's l2: 0.237978 + 0.0466666\n",
      "[100]\tcv_agg's l2: 0.241484 + 0.0478659\n",
      "[200]\tcv_agg's l2: 0.238157 + 0.0466969\n"
     ]
    },
    {
     "name": "stderr",
     "output_type": "stream",
     "text": [
      "regularization_factors, val_score: 0.237978:  30%|###########4                          | 6/20 [00:26<01:01,  4.41s/it][I 2023-12-01 17:52:17,295] Trial 48 finished with value: 0.2379779858663107 and parameters: {'lambda_l1': 1.9483951021465967e-08, 'lambda_l2': 1.3396704427285784e-08}. Best is trial 44 with value: 0.23797798581909432.\n",
      "regularization_factors, val_score: 0.237978:  30%|###########4                          | 6/20 [00:26<01:01,  4.41s/it]"
     ]
    },
    {
     "name": "stdout",
     "output_type": "stream",
     "text": [
      "Early stopping, best iteration is:\n",
      "[198]\tcv_agg's l2: 0.237978 + 0.0466666\n",
      "[100]\tcv_agg's l2: 0.241484 + 0.0478659\n",
      "[200]\tcv_agg's l2: 0.238157 + 0.0466969\n"
     ]
    },
    {
     "name": "stderr",
     "output_type": "stream",
     "text": [
      "regularization_factors, val_score: 0.237978:  35%|#############3                        | 7/20 [00:30<00:56,  4.34s/it][I 2023-12-01 17:52:21,483] Trial 49 finished with value: 0.23797798585316735 and parameters: {'lambda_l1': 2.0119656703540256e-08, 'lambda_l2': 1.3601260985971898e-08}. Best is trial 44 with value: 0.23797798581909432.\n",
      "regularization_factors, val_score: 0.237978:  35%|#############3                        | 7/20 [00:30<00:56,  4.34s/it]"
     ]
    },
    {
     "name": "stdout",
     "output_type": "stream",
     "text": [
      "Early stopping, best iteration is:\n",
      "[198]\tcv_agg's l2: 0.237978 + 0.0466666\n",
      "[100]\tcv_agg's l2: 0.241484 + 0.0478659\n",
      "[200]\tcv_agg's l2: 0.238157 + 0.0466969\n"
     ]
    },
    {
     "name": "stderr",
     "output_type": "stream",
     "text": [
      "regularization_factors, val_score: 0.237978:  40%|###############2                      | 8/20 [00:34<00:51,  4.29s/it][I 2023-12-01 17:52:25,674] Trial 50 finished with value: 0.2379779858481262 and parameters: {'lambda_l1': 1.3238428071194395e-08, 'lambda_l2': 1.2397879294605256e-08}. Best is trial 44 with value: 0.23797798581909432.\n",
      "regularization_factors, val_score: 0.237978:  40%|###############2                      | 8/20 [00:34<00:51,  4.29s/it]"
     ]
    },
    {
     "name": "stdout",
     "output_type": "stream",
     "text": [
      "Early stopping, best iteration is:\n",
      "[198]\tcv_agg's l2: 0.237978 + 0.0466666\n",
      "[100]\tcv_agg's l2: 0.241484 + 0.0478659\n",
      "[200]\tcv_agg's l2: 0.238157 + 0.0466969\n"
     ]
    },
    {
     "name": "stderr",
     "output_type": "stream",
     "text": [
      "regularization_factors, val_score: 0.237978:  45%|#################1                    | 9/20 [00:39<00:49,  4.48s/it][I 2023-12-01 17:52:30,588] Trial 51 finished with value: 0.23797798587955565 and parameters: {'lambda_l1': 1.2939821953195368e-08, 'lambda_l2': 1.4954723339042356e-08}. Best is trial 44 with value: 0.23797798581909432.\n",
      "regularization_factors, val_score: 0.237978:  45%|#################1                    | 9/20 [00:39<00:49,  4.48s/it]"
     ]
    },
    {
     "name": "stdout",
     "output_type": "stream",
     "text": [
      "Early stopping, best iteration is:\n",
      "[198]\tcv_agg's l2: 0.237978 + 0.0466666\n",
      "[100]\tcv_agg's l2: 0.241484 + 0.0478659\n",
      "[200]\tcv_agg's l2: 0.238157 + 0.0466969\n"
     ]
    },
    {
     "name": "stderr",
     "output_type": "stream",
     "text": [
      "regularization_factors, val_score: 0.237978:  50%|##################5                  | 10/20 [00:44<00:44,  4.47s/it][I 2023-12-01 17:52:35,017] Trial 52 finished with value: 0.23797798586393376 and parameters: {'lambda_l1': 1.539842098482902e-08, 'lambda_l2': 1.3324419609140624e-08}. Best is trial 44 with value: 0.23797798581909432.\n",
      "regularization_factors, val_score: 0.237978:  50%|##################5                  | 10/20 [00:44<00:44,  4.47s/it]"
     ]
    },
    {
     "name": "stdout",
     "output_type": "stream",
     "text": [
      "Early stopping, best iteration is:\n",
      "[198]\tcv_agg's l2: 0.237978 + 0.0466666\n",
      "[100]\tcv_agg's l2: 0.241484 + 0.0478659\n",
      "[200]\tcv_agg's l2: 0.238157 + 0.0466969\n"
     ]
    },
    {
     "name": "stderr",
     "output_type": "stream",
     "text": [
      "regularization_factors, val_score: 0.237978:  55%|####################3                | 11/20 [00:49<00:42,  4.73s/it][I 2023-12-01 17:52:40,341] Trial 53 finished with value: 0.23797798587630514 and parameters: {'lambda_l1': 1.3484043338334924e-08, 'lambda_l2': 1.3218047960456062e-08}. Best is trial 44 with value: 0.23797798581909432.\n",
      "regularization_factors, val_score: 0.237978:  55%|####################3                | 11/20 [00:49<00:42,  4.73s/it]"
     ]
    },
    {
     "name": "stdout",
     "output_type": "stream",
     "text": [
      "Early stopping, best iteration is:\n",
      "[198]\tcv_agg's l2: 0.237978 + 0.0466666\n",
      "[100]\tcv_agg's l2: 0.241484 + 0.0478659\n",
      "[200]\tcv_agg's l2: 0.238157 + 0.0466969\n"
     ]
    },
    {
     "name": "stderr",
     "output_type": "stream",
     "text": [
      "regularization_factors, val_score: 0.237978:  60%|######################2              | 12/20 [00:53<00:36,  4.60s/it][I 2023-12-01 17:52:44,651] Trial 54 finished with value: 0.23797798584058366 and parameters: {'lambda_l1': 1.5330472674608704e-08, 'lambda_l2': 1.1499045760199754e-08}. Best is trial 44 with value: 0.23797798581909432.\n",
      "regularization_factors, val_score: 0.237978:  60%|######################2              | 12/20 [00:53<00:36,  4.60s/it]"
     ]
    },
    {
     "name": "stdout",
     "output_type": "stream",
     "text": [
      "Early stopping, best iteration is:\n",
      "[198]\tcv_agg's l2: 0.237978 + 0.0466666\n",
      "[100]\tcv_agg's l2: 0.241484 + 0.0478659\n",
      "[200]\tcv_agg's l2: 0.238157 + 0.0466969\n"
     ]
    },
    {
     "name": "stderr",
     "output_type": "stream",
     "text": [
      "regularization_factors, val_score: 0.237978:  65%|########################             | 13/20 [01:00<00:36,  5.18s/it][I 2023-12-01 17:52:51,159] Trial 55 finished with value: 0.23797798587730776 and parameters: {'lambda_l1': 1.2134629903914985e-08, 'lambda_l2': 1.500060452865978e-08}. Best is trial 44 with value: 0.23797798581909432.\n",
      "regularization_factors, val_score: 0.237978:  65%|########################             | 13/20 [01:00<00:36,  5.18s/it]"
     ]
    },
    {
     "name": "stdout",
     "output_type": "stream",
     "text": [
      "Early stopping, best iteration is:\n",
      "[198]\tcv_agg's l2: 0.237978 + 0.0466666\n",
      "[100]\tcv_agg's l2: 0.241484 + 0.0478659\n",
      "[200]\tcv_agg's l2: 0.238157 + 0.0466969\n"
     ]
    },
    {
     "name": "stderr",
     "output_type": "stream",
     "text": [
      "regularization_factors, val_score: 0.237978:  70%|#########################9           | 14/20 [01:06<00:32,  5.44s/it][I 2023-12-01 17:52:57,190] Trial 56 finished with value: 0.23797798200632245 and parameters: {'lambda_l1': 4.9843945295342e-07, 'lambda_l2': 3.9532930836589617e-07}. Best is trial 56 with value: 0.23797798200632245.\n",
      "regularization_factors, val_score: 0.237978:  70%|#########################9           | 14/20 [01:06<00:32,  5.44s/it]"
     ]
    },
    {
     "name": "stdout",
     "output_type": "stream",
     "text": [
      "Early stopping, best iteration is:\n",
      "[198]\tcv_agg's l2: 0.237978 + 0.0466666\n",
      "[100]\tcv_agg's l2: 0.241484 + 0.0478659\n",
      "[200]\tcv_agg's l2: 0.239284 + 0.0479612\n"
     ]
    },
    {
     "name": "stderr",
     "output_type": "stream",
     "text": [
      "regularization_factors, val_score: 0.237978:  75%|###########################7         | 15/20 [01:11<00:26,  5.25s/it][I 2023-12-01 17:53:02,015] Trial 57 finished with value: 0.2390867861820122 and parameters: {'lambda_l1': 1.0027870079905804e-06, 'lambda_l2': 6.326275182893986e-07}. Best is trial 56 with value: 0.23797798200632245.\n",
      "regularization_factors, val_score: 0.237978:  75%|###########################7         | 15/20 [01:11<00:26,  5.25s/it]"
     ]
    },
    {
     "name": "stdout",
     "output_type": "stream",
     "text": [
      "Early stopping, best iteration is:\n",
      "[198]\tcv_agg's l2: 0.237978 + 0.0466666\n",
      "[100]\tcv_agg's l2: 0.241484 + 0.0478659\n",
      "[200]\tcv_agg's l2: 0.238157 + 0.0466969\n"
     ]
    },
    {
     "name": "stderr",
     "output_type": "stream",
     "text": [
      "regularization_factors, val_score: 0.237978:  80%|#############################6       | 16/20 [01:16<00:20,  5.15s/it][I 2023-12-01 17:53:06,925] Trial 58 finished with value: 0.23797798181513885 and parameters: {'lambda_l1': 5.325616304139516e-07, 'lambda_l2': 5.036336161855105e-07}. Best is trial 58 with value: 0.23797798181513885.\n",
      "regularization_factors, val_score: 0.237978:  80%|#############################6       | 16/20 [01:16<00:20,  5.15s/it]"
     ]
    },
    {
     "name": "stdout",
     "output_type": "stream",
     "text": [
      "Early stopping, best iteration is:\n",
      "[198]\tcv_agg's l2: 0.237978 + 0.0466666\n",
      "[100]\tcv_agg's l2: 0.240907 + 0.0480286\n",
      "[200]\tcv_agg's l2: 0.240433 + 0.0481843\n"
     ]
    },
    {
     "name": "stderr",
     "output_type": "stream",
     "text": [
      "regularization_factors, val_score: 0.237978:  85%|###############################4     | 17/20 [01:20<00:14,  4.90s/it][I 2023-12-01 17:53:11,238] Trial 59 finished with value: 0.24025685896362226 and parameters: {'lambda_l1': 2.007009283441477e-06, 'lambda_l2': 1.164851942158854e-06}. Best is trial 58 with value: 0.23797798181513885.\n",
      "regularization_factors, val_score: 0.237978:  85%|###############################4     | 17/20 [01:20<00:14,  4.90s/it]"
     ]
    },
    {
     "name": "stdout",
     "output_type": "stream",
     "text": [
      "Early stopping, best iteration is:\n",
      "[198]\tcv_agg's l2: 0.237978 + 0.0466666\n",
      "[100]\tcv_agg's l2: 0.241484 + 0.0478659\n",
      "[200]\tcv_agg's l2: 0.239284 + 0.0479612\n"
     ]
    },
    {
     "name": "stderr",
     "output_type": "stream",
     "text": [
      "regularization_factors, val_score: 0.237978:  90%|#################################3   | 18/20 [01:25<00:09,  4.85s/it][I 2023-12-01 17:53:15,971] Trial 60 finished with value: 0.2390867873521243 and parameters: {'lambda_l1': 6.192047073608832e-07, 'lambda_l2': 5.203699046556644e-07}. Best is trial 58 with value: 0.23797798181513885.\n",
      "regularization_factors, val_score: 0.237978:  90%|#################################3   | 18/20 [01:25<00:09,  4.85s/it]"
     ]
    },
    {
     "name": "stdout",
     "output_type": "stream",
     "text": [
      "Early stopping, best iteration is:\n",
      "[198]\tcv_agg's l2: 0.237978 + 0.0466666\n",
      "[100]\tcv_agg's l2: 0.241484 + 0.0478659\n",
      "[200]\tcv_agg's l2: 0.238157 + 0.0466969\n"
     ]
    },
    {
     "name": "stderr",
     "output_type": "stream",
     "text": [
      "regularization_factors, val_score: 0.237978:  95%|###################################1 | 19/20 [01:29<00:04,  4.72s/it][I 2023-12-01 17:53:20,386] Trial 61 finished with value: 0.2379779829949244 and parameters: {'lambda_l1': 1.7463750742914624e-07, 'lambda_l2': 3.253275662494746e-07}. Best is trial 58 with value: 0.23797798181513885.\n",
      "regularization_factors, val_score: 0.237978:  95%|###################################1 | 19/20 [01:29<00:04,  4.72s/it]"
     ]
    },
    {
     "name": "stdout",
     "output_type": "stream",
     "text": [
      "Early stopping, best iteration is:\n",
      "[198]\tcv_agg's l2: 0.237978 + 0.0466666\n",
      "[100]\tcv_agg's l2: 0.241484 + 0.0478659\n",
      "[200]\tcv_agg's l2: 0.238157 + 0.0466969\n"
     ]
    },
    {
     "name": "stderr",
     "output_type": "stream",
     "text": [
      "regularization_factors, val_score: 0.237978: 100%|#####################################| 20/20 [01:34<00:00,  4.62s/it][I 2023-12-01 17:53:24,765] Trial 62 finished with value: 0.23797798240302032 and parameters: {'lambda_l1': 3.1793586942324145e-07, 'lambda_l2': 4.870508959352528e-07}. Best is trial 58 with value: 0.23797798181513885.\n",
      "regularization_factors, val_score: 0.237978: 100%|#####################################| 20/20 [01:34<00:00,  4.70s/it]\n"
     ]
    },
    {
     "name": "stdout",
     "output_type": "stream",
     "text": [
      "Early stopping, best iteration is:\n",
      "[198]\tcv_agg's l2: 0.237978 + 0.0466666\n"
     ]
    },
    {
     "name": "stderr",
     "output_type": "stream",
     "text": [
      "min_data_in_leaf, val_score: 0.237978:   0%|                                                     | 0/5 [00:00<?, ?it/s]"
     ]
    },
    {
     "name": "stdout",
     "output_type": "stream",
     "text": [
      "[100]\tcv_agg's l2: 0.268341 + 0.0464103\n",
      "[200]\tcv_agg's l2: 0.255096 + 0.0466271\n"
     ]
    },
    {
     "name": "stderr",
     "output_type": "stream",
     "text": [
      "min_data_in_leaf, val_score: 0.237978:  20%|#########                                    | 1/5 [00:01<00:07,  1.99s/it][I 2023-12-01 17:53:26,760] Trial 63 finished with value: 0.2553168429142315 and parameters: {'min_child_samples': 50}. Best is trial 63 with value: 0.2553168429142315.\n",
      "min_data_in_leaf, val_score: 0.237978:  20%|#########                                    | 1/5 [00:01<00:07,  1.99s/it]"
     ]
    },
    {
     "name": "stdout",
     "output_type": "stream",
     "text": [
      "Early stopping, best iteration is:\n",
      "[198]\tcv_agg's l2: 0.237978 + 0.0466666\n",
      "[100]\tcv_agg's l2: 0.244838 + 0.0494206\n",
      "[200]\tcv_agg's l2: 0.247185 + 0.0501309\n"
     ]
    },
    {
     "name": "stderr",
     "output_type": "stream",
     "text": [
      "min_data_in_leaf, val_score: 0.237978:  40%|##################                           | 2/5 [00:07<00:11,  3.97s/it][I 2023-12-01 17:53:32,124] Trial 64 finished with value: 0.24698497912149436 and parameters: {'min_child_samples': 10}. Best is trial 64 with value: 0.24698497912149436.\n",
      "min_data_in_leaf, val_score: 0.237978:  40%|##################                           | 2/5 [00:07<00:11,  3.97s/it]"
     ]
    },
    {
     "name": "stdout",
     "output_type": "stream",
     "text": [
      "Early stopping, best iteration is:\n",
      "[198]\tcv_agg's l2: 0.237978 + 0.0466666\n",
      "[100]\tcv_agg's l2: 0.239631 + 0.0415984\n",
      "[200]\tcv_agg's l2: 0.241745 + 0.0427782\n"
     ]
    },
    {
     "name": "stderr",
     "output_type": "stream",
     "text": [
      "min_data_in_leaf, val_score: 0.237978:  60%|###########################                  | 3/5 [00:13<00:09,  4.77s/it][I 2023-12-01 17:53:37,831] Trial 65 finished with value: 0.2415659216502076 and parameters: {'min_child_samples': 5}. Best is trial 65 with value: 0.2415659216502076.\n",
      "min_data_in_leaf, val_score: 0.237978:  60%|###########################                  | 3/5 [00:13<00:09,  4.77s/it]"
     ]
    },
    {
     "name": "stdout",
     "output_type": "stream",
     "text": [
      "Early stopping, best iteration is:\n",
      "[198]\tcv_agg's l2: 0.237978 + 0.0466666\n",
      "[100]\tcv_agg's l2: 0.246138 + 0.0429555\n",
      "[200]\tcv_agg's l2: 0.241535 + 0.0446128\n"
     ]
    },
    {
     "name": "stderr",
     "output_type": "stream",
     "text": [
      "min_data_in_leaf, val_score: 0.237978:  80%|####################################         | 4/5 [00:16<00:04,  4.20s/it][I 2023-12-01 17:53:41,164] Trial 66 finished with value: 0.24166214183122875 and parameters: {'min_child_samples': 25}. Best is trial 65 with value: 0.2415659216502076.\n",
      "min_data_in_leaf, val_score: 0.237978:  80%|####################################         | 4/5 [00:16<00:04,  4.20s/it]"
     ]
    },
    {
     "name": "stdout",
     "output_type": "stream",
     "text": [
      "Early stopping, best iteration is:\n",
      "[198]\tcv_agg's l2: 0.237978 + 0.0466666\n",
      "[100]\tcv_agg's l2: 0.366155 + 0.0490145\n",
      "[200]\tcv_agg's l2: 0.33889 + 0.047625\n"
     ]
    },
    {
     "name": "stderr",
     "output_type": "stream",
     "text": [
      "min_data_in_leaf, val_score: 0.237978: 100%|#############################################| 5/5 [00:17<00:00,  3.14s/it][I 2023-12-01 17:53:42,429] Trial 67 finished with value: 0.33941781032680163 and parameters: {'min_child_samples': 100}. Best is trial 65 with value: 0.2415659216502076.\n",
      "min_data_in_leaf, val_score: 0.237978: 100%|#############################################| 5/5 [00:17<00:00,  3.53s/it]"
     ]
    },
    {
     "name": "stdout",
     "output_type": "stream",
     "text": [
      "Early stopping, best iteration is:\n",
      "[198]\tcv_agg's l2: 0.237978 + 0.0466666\n"
     ]
    },
    {
     "name": "stderr",
     "output_type": "stream",
     "text": [
      "\n"
     ]
    }
   ],
   "source": [
    "import optuna.integration.lightgbm as lgb\n",
    "from lightgbm import early_stopping\n",
    "from sklearn.model_selection import KFold\n",
    "from sklearn.model_selection import RepeatedKFold\n",
    "\n",
    "\n",
    "lgb_train = lgb.Dataset(X_train_random_split, y_train_random_split)\n",
    "\n",
    "params = {\n",
    "    \"boosting_type\": \"gbdt\",\n",
    "    \"objective\": \"regression\",\n",
    "    \"metric\": \"l2\",\n",
    "    \"verbosity\": -1,\n",
    "}\n",
    "\n",
    "tuner = lgb.LightGBMTunerCV(\n",
    "    params,\n",
    "    lgb_train,\n",
    "    folds=KFold(n_splits=5),\n",
    "    num_boost_round=10000,\n",
    "    callbacks=[early_stopping(100), log_evaluation(100)],\n",
    ")\n",
    "\n",
    "tuner.run()"
   ]
  },
  {
   "cell_type": "code",
   "execution_count": 41,
   "id": "c07cf3c6",
   "metadata": {},
   "outputs": [
    {
     "name": "stdout",
     "output_type": "stream",
     "text": [
      "Best score: 0.23797798181513885\n",
      "Params: \n",
      "    boosting_type: gbdt\n",
      "    objective: regression\n",
      "    metric: l2\n",
      "    verbosity: -1\n",
      "    feature_pre_filter: False\n",
      "    lambda_l1: 5.325616304139516e-07\n",
      "    lambda_l2: 5.036336161855105e-07\n",
      "    num_leaves: 55\n",
      "    feature_fraction: 0.6\n",
      "    bagging_fraction: 0.5830483135291766\n",
      "    bagging_freq: 1\n",
      "    min_child_samples: 20\n"
     ]
    }
   ],
   "source": [
    "print(f\"Best score: {tuner.best_score}\")\n",
    "best_params = tuner.best_params\n",
    "print(\"Params: \")\n",
    "for key, value in best_params.items():\n",
    "    print(\"    {}: {}\".format(key, value))"
   ]
  },
  {
   "cell_type": "code",
   "execution_count": 42,
   "id": "47a1bc33",
   "metadata": {},
   "outputs": [],
   "source": [
    "import lightgbm as lgb\n",
    "\n",
    "lgb_tuned = lgb.train(\n",
    "    best_params,\n",
    "    lgb_train,\n",
    "    num_boost_round=10000,\n",
    ")"
   ]
  },
  {
   "cell_type": "code",
   "execution_count": 43,
   "id": "4c17765e",
   "metadata": {},
   "outputs": [
    {
     "name": "stdout",
     "output_type": "stream",
     "text": [
      "RMSE train: 0.04\n",
      "RMSE test: 0.43\n",
      "MAE test: 0.28\n",
      "\n"
     ]
    }
   ],
   "source": [
    "rmse, mae = assess_regression_model(\n",
    "    lgb_tuned,\n",
    "    X_train_random_split,\n",
    "    X_test_random_split,\n",
    "    y_train_random_split,\n",
    "    y_test_random_split,\n",
    ")"
   ]
  },
  {
   "cell_type": "code",
   "execution_count": 44,
   "id": "9caec811",
   "metadata": {},
   "outputs": [],
   "source": [
    "results.loc[3] = [\"random\", \"Optuna\", \"expanded\", rmse, mae]"
   ]
  },
  {
   "cell_type": "markdown",
   "id": "47fed830",
   "metadata": {},
   "source": [
    "###### MAE by level"
   ]
  },
  {
   "cell_type": "code",
   "execution_count": 45,
   "id": "c12fe14b",
   "metadata": {},
   "outputs": [
    {
     "data": {
      "image/png": "[encoded data removed]",
      "text/plain": [
       "<Figure size 1440x576 with 1 Axes>"
      ]
     },
     "metadata": {
      "needs_background": "light"
     },
     "output_type": "display_data"
    }
   ],
   "source": [
    "plot_mae_by_level(\n",
    "    y_test_random_split,\n",
    "    y_pred_test,\n",
    "    title=\"MAE by level for tuned LightGBM with expanded features and random split\",\n",
    ")"
   ]
  },
  {
   "cell_type": "code",
   "execution_count": 48,
   "id": "859f12f2",
   "metadata": {
    "scrolled": true
   },
   "outputs": [
    {
     "name": "stdout",
     "output_type": "stream",
     "text": [
      "Default:\n",
      "RMSE: 0.24\n",
      "\n",
      "Round type: 0.5\n",
      "RMSE: 0.26\n",
      "\n",
      "Round type: 0.33\n",
      "RMSE: 0.29\n",
      "\n",
      "Round type: 0.45\n",
      "RMSE: 0.26\n",
      "\n"
     ]
    }
   ],
   "source": [
    "predict = lgb_tuned.predict(X_test)\n",
    "evaluate_round_predictions([0.5, 0.33, 0.45], y_test, predict)"
   ]
  },
  {
   "cell_type": "code",
   "execution_count": 49,
   "id": "0f1f3407",
   "metadata": {},
   "outputs": [],
   "source": [
    "predict[predict < -1] = -1\n",
    "predict[predict > 21] = 21"
   ]
  },
  {
   "cell_type": "code",
   "execution_count": 50,
   "id": "a046eead",
   "metadata": {},
   "outputs": [
    {
     "data": {
      "image/png": "[encoded data removed]",
      "text/plain": [
       "<Figure size 720x720 with 2 Axes>"
      ]
     },
     "metadata": {
      "needs_background": "light"
     },
     "output_type": "display_data"
    }
   ],
   "source": [
    "plot_confusion_matrix(\n",
    "    predict,\n",
    "    y_test,\n",
    "    title=\"Confusion matrix for tuned LightGBM with\\nexpanded features and random split\",\n",
    ")"
   ]
  },
  {
   "cell_type": "markdown",
   "id": "2e230699",
   "metadata": {},
   "source": [
    "## Summary"
   ]
  },
  {
   "cell_type": "code",
   "execution_count": 51,
   "id": "2edd08be",
   "metadata": {},
   "outputs": [
    {
     "data": {
      "text/html": [
       "<div>\n",
       "<style scoped>\n",
       "    .dataframe tbody tr th:only-of-type {\n",
       "        vertical-align: middle;\n",
       "    }\n",
       "\n",
       "    .dataframe tbody tr th {\n",
       "        vertical-align: top;\n",
       "    }\n",
       "\n",
       "    .dataframe thead th {\n",
       "        text-align: right;\n",
       "    }\n",
       "</style>\n",
       "<table border=\"1\" class=\"dataframe\">\n",
       "  <thead>\n",
       "    <tr style=\"text-align: right;\">\n",
       "      <th></th>\n",
       "      <th>Split type</th>\n",
       "      <th>Tuning type</th>\n",
       "      <th>Set of features</th>\n",
       "      <th>RMSE</th>\n",
       "      <th>MAE</th>\n",
       "    </tr>\n",
       "  </thead>\n",
       "  <tbody>\n",
       "    <tr>\n",
       "      <th>0</th>\n",
       "      <td>chronological</td>\n",
       "      <td>default</td>\n",
       "      <td>expanded</td>\n",
       "      <td>0.614277</td>\n",
       "      <td>0.376859</td>\n",
       "    </tr>\n",
       "    <tr>\n",
       "      <th>1</th>\n",
       "      <td>chronological</td>\n",
       "      <td>Optuna</td>\n",
       "      <td>expanded</td>\n",
       "      <td>0.564866</td>\n",
       "      <td>0.364123</td>\n",
       "    </tr>\n",
       "    <tr>\n",
       "      <th>2</th>\n",
       "      <td>random</td>\n",
       "      <td>default</td>\n",
       "      <td>expanded</td>\n",
       "      <td>0.416749</td>\n",
       "      <td>0.277924</td>\n",
       "    </tr>\n",
       "    <tr>\n",
       "      <th>3</th>\n",
       "      <td>random</td>\n",
       "      <td>Optuna</td>\n",
       "      <td>expanded</td>\n",
       "      <td>0.429902</td>\n",
       "      <td>0.282118</td>\n",
       "    </tr>\n",
       "  </tbody>\n",
       "</table>\n",
       "</div>"
      ],
      "text/plain": [
       "      Split type Tuning type Set of features      RMSE       MAE\n",
       "0  chronological     default        expanded  0.614277  0.376859\n",
       "1  chronological      Optuna        expanded  0.564866  0.364123\n",
       "2         random     default        expanded  0.416749  0.277924\n",
       "3         random      Optuna        expanded  0.429902  0.282118"
      ]
     },
     "execution_count": 51,
     "metadata": {},
     "output_type": "execute_result"
    }
   ],
   "source": [
    "results"
   ]
  },
  {
   "cell_type": "code",
   "execution_count": 52,
   "id": "7e403b40",
   "metadata": {},
   "outputs": [],
   "source": [
    "from training.results import plot_summary"
   ]
  },
  {
   "cell_type": "code",
   "execution_count": 53,
   "id": "1072db81",
   "metadata": {},
   "outputs": [
    {
     "data": {
      "image/png": "[encoded data removed]",
      "text/plain": [
       "<Figure size 1440x576 with 1 Axes>"
      ]
     },
     "metadata": {
      "needs_background": "light"
     },
     "output_type": "display_data"
    }
   ],
   "source": [
    "plot_summary(results, \"RMSE\", title=\"RMSE for LightGBM with expanded features\")"
   ]
  },
  {
   "cell_type": "code",
   "execution_count": 54,
   "id": "0a073f44",
   "metadata": {},
   "outputs": [
    {
     "data": {
      "image/png": "[encoded data removed]",
      "text/plain": [
       "<Figure size 1440x576 with 1 Axes>"
      ]
     },
     "metadata": {
      "needs_background": "light"
     },
     "output_type": "display_data"
    }
   ],
   "source": [
    "plot_summary(results, \"MAE\", title=\"MAE for LightGBM with expanded features\")"
   ]
  },
  {
   "cell_type": "code",
   "execution_count": 55,
   "id": "157af270",
   "metadata": {},
   "outputs": [],
   "source": [
    "results.to_csv(\"./lightgbm_expanded_results.csv\")"
   ]
  },
  {
   "cell_type": "code",
   "execution_count": null,
   "id": "1b44b486",
   "metadata": {},
   "outputs": [],
   "source": []
  }
 ],
 "metadata": {
  "kernelspec": {
   "display_name": "Python 3 (ipykernel)",
   "language": "python",
   "name": "python3"
  },
  "language_info": {
   "codemirror_mode": {
    "name": "ipython",
    "version": 3
   },
   "file_extension": ".py",
   "mimetype": "text/x-python",
   "name": "python",
   "nbconvert_exporter": "python",
   "pygments_lexer": "ipython3",
   "version": "3.10.4"
  }
 },
 "nbformat": 4,
 "nbformat_minor": 5
}
