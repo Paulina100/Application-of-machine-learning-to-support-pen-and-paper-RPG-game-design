{
 "cells": [
  {
   "cell_type": "markdown",
   "id": "b61f8435",
   "metadata": {},
   "source": [
    "# LightGBM\n",
    "### Parameters:\n",
    "* **abilities**:\n",
    "    * **cha**\n",
    "    * **con**\n",
    "    * **dex**\n",
    "    * **int**\n",
    "    * **str**\n",
    "    * **wis**\n",
    "* **attributes**\n",
    "    * **hp**\n",
    "    * **ac**\n",
    "    * **perception**\n",
    "* **saves**\n",
    "    * **fortitude**\n",
    "    * **reflex**\n",
    "    * **will**\n",
    "* **resources**\n",
    "    * **focus**\n",
    "\n",
    "### Prediction: *level*\n",
    "\n",
    "## Loading data"
   ]
  },
  {
   "cell_type": "code",
   "execution_count": 1,
   "id": "64151d43",
   "metadata": {},
   "outputs": [],
   "source": [
    "import numpy as np\n",
    "import pandas as pd\n",
    "import sys\n",
    "\n",
    "import os\n",
    "import pathlib\n",
    "\n",
    "sys.path.append(\"../../..\")\n",
    "from training.creating_dataset import load_and_preprocess_data\n",
    "\n",
    "current_path = os.getcwd()\n",
    "DATASETS_DIR = pathlib.Path(current_path).parent.parent.parent / \"pathfinder_2e_data\"\n",
    "DATASET_FILES = [\n",
    "    \"pathfinder-bestiary.db\",\n",
    "    \"pathfinder-bestiary-2.db\",\n",
    "    \"pathfinder-bestiary-3.db\",\n",
    "]\n",
    "DATASET_PATHS = [f\"{DATASETS_DIR}/{file}\" for file in DATASET_FILES]\n",
    "features = [\n",
    "    \"cha\",\n",
    "    \"con\",\n",
    "    \"dex\",\n",
    "    \"int\",\n",
    "    \"str\",\n",
    "    \"wis\",\n",
    "    \"ac\",\n",
    "    \"hp\",\n",
    "    \"perception\",\n",
    "    \"fortitude\",\n",
    "    \"reflex\",\n",
    "    \"will\",\n",
    "    \"focus\",\n",
    "]\n",
    "\n",
    "df = load_and_preprocess_data(\n",
    "    DATASET_PATHS,\n",
    "    characteristics=features,\n",
    ")"
   ]
  },
  {
   "cell_type": "code",
   "execution_count": 2,
   "id": "ec1e8424",
   "metadata": {},
   "outputs": [
    {
     "name": "stdout",
     "output_type": "stream",
     "text": [
      "<class 'pandas.core.frame.DataFrame'>\n",
      "Int64Index: 1206 entries, 0 to 1205\n",
      "Data columns (total 15 columns):\n",
      " #   Column      Non-Null Count  Dtype \n",
      "---  ------      --------------  ----- \n",
      " 0   cha         1206 non-null   int64 \n",
      " 1   reflex      1206 non-null   int64 \n",
      " 2   ac          1206 non-null   int64 \n",
      " 3   focus       1206 non-null   int32 \n",
      " 4   con         1206 non-null   int64 \n",
      " 5   book        1206 non-null   object\n",
      " 6   will        1206 non-null   int64 \n",
      " 7   hp          1206 non-null   int64 \n",
      " 8   fortitude   1206 non-null   int64 \n",
      " 9   int         1206 non-null   int64 \n",
      " 10  str         1206 non-null   int64 \n",
      " 11  perception  1206 non-null   int64 \n",
      " 12  wis         1206 non-null   int64 \n",
      " 13  level       1206 non-null   int64 \n",
      " 14  dex         1206 non-null   int64 \n",
      "dtypes: int32(1), int64(13), object(1)\n",
      "memory usage: 146.0+ KB\n"
     ]
    }
   ],
   "source": [
    "df.info()"
   ]
  },
  {
   "cell_type": "code",
   "execution_count": 3,
   "id": "211d736c",
   "metadata": {},
   "outputs": [
    {
     "data": {
      "text/html": [
       "<div>\n",
       "<style scoped>\n",
       "    .dataframe tbody tr th:only-of-type {\n",
       "        vertical-align: middle;\n",
       "    }\n",
       "\n",
       "    .dataframe tbody tr th {\n",
       "        vertical-align: top;\n",
       "    }\n",
       "\n",
       "    .dataframe thead th {\n",
       "        text-align: right;\n",
       "    }\n",
       "</style>\n",
       "<table border=\"1\" class=\"dataframe\">\n",
       "  <thead>\n",
       "    <tr style=\"text-align: right;\">\n",
       "      <th></th>\n",
       "      <th>cha</th>\n",
       "      <th>reflex</th>\n",
       "      <th>ac</th>\n",
       "      <th>focus</th>\n",
       "      <th>con</th>\n",
       "      <th>book</th>\n",
       "      <th>will</th>\n",
       "      <th>hp</th>\n",
       "      <th>fortitude</th>\n",
       "      <th>int</th>\n",
       "      <th>str</th>\n",
       "      <th>perception</th>\n",
       "      <th>wis</th>\n",
       "      <th>level</th>\n",
       "      <th>dex</th>\n",
       "    </tr>\n",
       "  </thead>\n",
       "  <tbody>\n",
       "    <tr>\n",
       "      <th>0</th>\n",
       "      <td>1</td>\n",
       "      <td>19</td>\n",
       "      <td>29</td>\n",
       "      <td>1</td>\n",
       "      <td>5</td>\n",
       "      <td>Pathfinder Bestiary</td>\n",
       "      <td>17</td>\n",
       "      <td>215</td>\n",
       "      <td>22</td>\n",
       "      <td>1</td>\n",
       "      <td>7</td>\n",
       "      <td>20</td>\n",
       "      <td>2</td>\n",
       "      <td>10</td>\n",
       "      <td>2</td>\n",
       "    </tr>\n",
       "    <tr>\n",
       "      <th>1</th>\n",
       "      <td>1</td>\n",
       "      <td>14</td>\n",
       "      <td>28</td>\n",
       "      <td>0</td>\n",
       "      <td>5</td>\n",
       "      <td>Pathfinder Bestiary</td>\n",
       "      <td>16</td>\n",
       "      <td>220</td>\n",
       "      <td>21</td>\n",
       "      <td>-4</td>\n",
       "      <td>9</td>\n",
       "      <td>16</td>\n",
       "      <td>2</td>\n",
       "      <td>10</td>\n",
       "      <td>0</td>\n",
       "    </tr>\n",
       "    <tr>\n",
       "      <th>2</th>\n",
       "      <td>-2</td>\n",
       "      <td>17</td>\n",
       "      <td>25</td>\n",
       "      <td>0</td>\n",
       "      <td>6</td>\n",
       "      <td>Pathfinder Bestiary</td>\n",
       "      <td>15</td>\n",
       "      <td>175</td>\n",
       "      <td>20</td>\n",
       "      <td>-4</td>\n",
       "      <td>7</td>\n",
       "      <td>17</td>\n",
       "      <td>3</td>\n",
       "      <td>8</td>\n",
       "      <td>3</td>\n",
       "    </tr>\n",
       "    <tr>\n",
       "      <th>3</th>\n",
       "      <td>6</td>\n",
       "      <td>29</td>\n",
       "      <td>41</td>\n",
       "      <td>1</td>\n",
       "      <td>5</td>\n",
       "      <td>Pathfinder Bestiary</td>\n",
       "      <td>32</td>\n",
       "      <td>315</td>\n",
       "      <td>30</td>\n",
       "      <td>6</td>\n",
       "      <td>7</td>\n",
       "      <td>30</td>\n",
       "      <td>5</td>\n",
       "      <td>17</td>\n",
       "      <td>4</td>\n",
       "    </tr>\n",
       "    <tr>\n",
       "      <th>4</th>\n",
       "      <td>1</td>\n",
       "      <td>10</td>\n",
       "      <td>16</td>\n",
       "      <td>1</td>\n",
       "      <td>1</td>\n",
       "      <td>Pathfinder Bestiary</td>\n",
       "      <td>4</td>\n",
       "      <td>20</td>\n",
       "      <td>6</td>\n",
       "      <td>-1</td>\n",
       "      <td>-5</td>\n",
       "      <td>6</td>\n",
       "      <td>1</td>\n",
       "      <td>1</td>\n",
       "      <td>3</td>\n",
       "    </tr>\n",
       "  </tbody>\n",
       "</table>\n",
       "</div>"
      ],
      "text/plain": [
       "   cha  reflex  ac  focus  con                 book  will   hp  fortitude  \\\n",
       "0    1      19  29      1    5  Pathfinder Bestiary    17  215         22   \n",
       "1    1      14  28      0    5  Pathfinder Bestiary    16  220         21   \n",
       "2   -2      17  25      0    6  Pathfinder Bestiary    15  175         20   \n",
       "3    6      29  41      1    5  Pathfinder Bestiary    32  315         30   \n",
       "4    1      10  16      1    1  Pathfinder Bestiary     4   20          6   \n",
       "\n",
       "   int  str  perception  wis  level  dex  \n",
       "0    1    7          20    2     10    2  \n",
       "1   -4    9          16    2     10    0  \n",
       "2   -4    7          17    3      8    3  \n",
       "3    6    7          30    5     17    4  \n",
       "4   -1   -5           6    1      1    3  "
      ]
     },
     "execution_count": 3,
     "metadata": {},
     "output_type": "execute_result"
    }
   ],
   "source": [
    "df.head()"
   ]
  },
  {
   "cell_type": "markdown",
   "id": "1bf55cc1",
   "metadata": {},
   "source": [
    "###### Level"
   ]
  },
  {
   "cell_type": "code",
   "execution_count": 4,
   "id": "2d322d72",
   "metadata": {},
   "outputs": [
    {
     "data": {
      "text/plain": [
       "0       10\n",
       "1       10\n",
       "2        8\n",
       "3       17\n",
       "4        1\n",
       "        ..\n",
       "1201    20\n",
       "1202    -1\n",
       "1203    12\n",
       "1204     6\n",
       "1205     6\n",
       "Name: level, Length: 1206, dtype: int64"
      ]
     },
     "execution_count": 4,
     "metadata": {},
     "output_type": "execute_result"
    }
   ],
   "source": [
    "y = df[\"level\"]\n",
    "y"
   ]
  },
  {
   "cell_type": "code",
   "execution_count": 5,
   "id": "e7887f19",
   "metadata": {},
   "outputs": [],
   "source": [
    "from collections import defaultdict\n",
    "\n",
    "\n",
    "lvl_stat = defaultdict(lambda: 0)\n",
    "\n",
    "for lvl in y:\n",
    "    lvl_stat[lvl] += 1"
   ]
  },
  {
   "cell_type": "code",
   "execution_count": 6,
   "id": "c982e6d0",
   "metadata": {},
   "outputs": [
    {
     "data": {
      "text/html": [
       "<div>\n",
       "<style scoped>\n",
       "    .dataframe tbody tr th:only-of-type {\n",
       "        vertical-align: middle;\n",
       "    }\n",
       "\n",
       "    .dataframe tbody tr th {\n",
       "        vertical-align: top;\n",
       "    }\n",
       "\n",
       "    .dataframe thead th {\n",
       "        text-align: right;\n",
       "    }\n",
       "</style>\n",
       "<table border=\"1\" class=\"dataframe\">\n",
       "  <thead>\n",
       "    <tr style=\"text-align: right;\">\n",
       "      <th></th>\n",
       "      <th>lvl</th>\n",
       "      <th>count</th>\n",
       "    </tr>\n",
       "  </thead>\n",
       "  <tbody>\n",
       "    <tr>\n",
       "      <th>0</th>\n",
       "      <td>-1</td>\n",
       "      <td>34</td>\n",
       "    </tr>\n",
       "    <tr>\n",
       "      <th>1</th>\n",
       "      <td>0</td>\n",
       "      <td>27</td>\n",
       "    </tr>\n",
       "    <tr>\n",
       "      <th>2</th>\n",
       "      <td>1</td>\n",
       "      <td>127</td>\n",
       "    </tr>\n",
       "    <tr>\n",
       "      <th>3</th>\n",
       "      <td>2</td>\n",
       "      <td>121</td>\n",
       "    </tr>\n",
       "    <tr>\n",
       "      <th>4</th>\n",
       "      <td>3</td>\n",
       "      <td>95</td>\n",
       "    </tr>\n",
       "    <tr>\n",
       "      <th>5</th>\n",
       "      <td>4</td>\n",
       "      <td>82</td>\n",
       "    </tr>\n",
       "    <tr>\n",
       "      <th>6</th>\n",
       "      <td>5</td>\n",
       "      <td>76</td>\n",
       "    </tr>\n",
       "    <tr>\n",
       "      <th>7</th>\n",
       "      <td>6</td>\n",
       "      <td>72</td>\n",
       "    </tr>\n",
       "    <tr>\n",
       "      <th>8</th>\n",
       "      <td>7</td>\n",
       "      <td>77</td>\n",
       "    </tr>\n",
       "    <tr>\n",
       "      <th>9</th>\n",
       "      <td>8</td>\n",
       "      <td>68</td>\n",
       "    </tr>\n",
       "    <tr>\n",
       "      <th>10</th>\n",
       "      <td>9</td>\n",
       "      <td>63</td>\n",
       "    </tr>\n",
       "    <tr>\n",
       "      <th>11</th>\n",
       "      <td>10</td>\n",
       "      <td>58</td>\n",
       "    </tr>\n",
       "    <tr>\n",
       "      <th>12</th>\n",
       "      <td>11</td>\n",
       "      <td>40</td>\n",
       "    </tr>\n",
       "    <tr>\n",
       "      <th>13</th>\n",
       "      <td>12</td>\n",
       "      <td>41</td>\n",
       "    </tr>\n",
       "    <tr>\n",
       "      <th>14</th>\n",
       "      <td>13</td>\n",
       "      <td>36</td>\n",
       "    </tr>\n",
       "    <tr>\n",
       "      <th>15</th>\n",
       "      <td>14</td>\n",
       "      <td>33</td>\n",
       "    </tr>\n",
       "    <tr>\n",
       "      <th>16</th>\n",
       "      <td>15</td>\n",
       "      <td>31</td>\n",
       "    </tr>\n",
       "    <tr>\n",
       "      <th>17</th>\n",
       "      <td>16</td>\n",
       "      <td>25</td>\n",
       "    </tr>\n",
       "    <tr>\n",
       "      <th>18</th>\n",
       "      <td>17</td>\n",
       "      <td>21</td>\n",
       "    </tr>\n",
       "    <tr>\n",
       "      <th>19</th>\n",
       "      <td>18</td>\n",
       "      <td>21</td>\n",
       "    </tr>\n",
       "    <tr>\n",
       "      <th>20</th>\n",
       "      <td>19</td>\n",
       "      <td>18</td>\n",
       "    </tr>\n",
       "    <tr>\n",
       "      <th>21</th>\n",
       "      <td>20</td>\n",
       "      <td>24</td>\n",
       "    </tr>\n",
       "    <tr>\n",
       "      <th>22</th>\n",
       "      <td>21</td>\n",
       "      <td>16</td>\n",
       "    </tr>\n",
       "  </tbody>\n",
       "</table>\n",
       "</div>"
      ],
      "text/plain": [
       "    lvl  count\n",
       "0    -1     34\n",
       "1     0     27\n",
       "2     1    127\n",
       "3     2    121\n",
       "4     3     95\n",
       "5     4     82\n",
       "6     5     76\n",
       "7     6     72\n",
       "8     7     77\n",
       "9     8     68\n",
       "10    9     63\n",
       "11   10     58\n",
       "12   11     40\n",
       "13   12     41\n",
       "14   13     36\n",
       "15   14     33\n",
       "16   15     31\n",
       "17   16     25\n",
       "18   17     21\n",
       "19   18     21\n",
       "20   19     18\n",
       "21   20     24\n",
       "22   21     16"
      ]
     },
     "execution_count": 6,
     "metadata": {},
     "output_type": "execute_result"
    }
   ],
   "source": [
    "level_count = pd.DataFrame(\n",
    "    data={\n",
    "        \"lvl\": [key for key in sorted(lvl_stat.keys())],\n",
    "        \"count\": [lvl_stat.get(key) for key in sorted(lvl_stat.keys())],\n",
    "    }\n",
    ")\n",
    "level_count"
   ]
  },
  {
   "cell_type": "code",
   "execution_count": 7,
   "id": "686877dd",
   "metadata": {},
   "outputs": [
    {
     "data": {
      "image/png": "[encoded data removed]",
      "text/plain": [
       "<Figure size 432x288 with 1 Axes>"
      ]
     },
     "metadata": {
      "needs_background": "light"
     },
     "output_type": "display_data"
    }
   ],
   "source": [
    "import matplotlib.pyplot as plt\n",
    "\n",
    "\n",
    "level_count.plot.bar(x=\"lvl\", y=\"count\", title=\"Count of levels\")\n",
    "plt.show()"
   ]
  },
  {
   "cell_type": "markdown",
   "id": "3f976e4a",
   "metadata": {},
   "source": [
    "## Train test split"
   ]
  },
  {
   "cell_type": "markdown",
   "id": "eb8cec62",
   "metadata": {},
   "source": [
    "### Chronological split"
   ]
  },
  {
   "cell_type": "code",
   "execution_count": 8,
   "id": "c6c29573",
   "metadata": {},
   "outputs": [],
   "source": [
    "from training.splitting_dataset import split_dataframe\n",
    "\n",
    "\n",
    "os.chdir(\"../../../training\")\n",
    "X_train, X_test, y_train, y_test = split_dataframe(df, test_size=0.31)\n",
    "os.chdir(\"../notebooks/models/lightgbm\")"
   ]
  },
  {
   "cell_type": "code",
   "execution_count": 9,
   "id": "f6894cc0",
   "metadata": {},
   "outputs": [],
   "source": [
    "X_train = X_train.drop(columns=[\"book\"])\n",
    "X_test = X_test.drop(columns=[\"book\"])"
   ]
  },
  {
   "cell_type": "markdown",
   "id": "31a0109c",
   "metadata": {},
   "source": [
    "### Random split"
   ]
  },
  {
   "cell_type": "code",
   "execution_count": 10,
   "id": "4d3e1121",
   "metadata": {},
   "outputs": [],
   "source": [
    "(\n",
    "    X_train_random_split,\n",
    "    X_test_random_split,\n",
    "    y_train_random_split,\n",
    "    y_test_random_split,\n",
    ") = split_dataframe(df, chronological_split=False)"
   ]
  },
  {
   "cell_type": "code",
   "execution_count": 11,
   "id": "f0c2041a",
   "metadata": {},
   "outputs": [],
   "source": [
    "X_train_random_split = X_train_random_split.drop(columns=[\"book\"])\n",
    "X_test_random_split = X_test_random_split.drop(columns=[\"book\"])"
   ]
  },
  {
   "cell_type": "markdown",
   "id": "e4776792",
   "metadata": {},
   "source": [
    "## LightGBM"
   ]
  },
  {
   "cell_type": "markdown",
   "id": "3f629b2d",
   "metadata": {},
   "source": [
    "## Chronological split"
   ]
  },
  {
   "cell_type": "code",
   "execution_count": 12,
   "id": "e818a3cc",
   "metadata": {},
   "outputs": [
    {
     "name": "stdout",
     "output_type": "stream",
     "text": [
      "[LightGBM] [Warning] Auto-choosing col-wise multi-threading, the overhead of testing was 0.000389 seconds.\n",
      "You can set `force_col_wise=true` to remove the overhead.\n",
      "[LightGBM] [Info] Total Bins 379\n",
      "[LightGBM] [Info] Number of data points in the train set: 841, number of used features: 13\n",
      "[LightGBM] [Info] Start training from score 6.966706\n",
      "Training until validation scores don't improve for 5 rounds\n",
      "[LightGBM] [Warning] No further splits with positive gain, best gain: -inf\n",
      "[LightGBM] [Warning] No further splits with positive gain, best gain: -inf\n",
      "[LightGBM] [Warning] No further splits with positive gain, best gain: -inf\n",
      "[LightGBM] [Warning] No further splits with positive gain, best gain: -inf\n",
      "[LightGBM] [Warning] No further splits with positive gain, best gain: -inf\n",
      "[LightGBM] [Warning] No further splits with positive gain, best gain: -inf\n",
      "[LightGBM] [Warning] No further splits with positive gain, best gain: -inf\n",
      "[LightGBM] [Warning] No further splits with positive gain, best gain: -inf\n",
      "[LightGBM] [Warning] No further splits with positive gain, best gain: -inf\n",
      "[LightGBM] [Warning] No further splits with positive gain, best gain: -inf\n",
      "[LightGBM] [Warning] No further splits with positive gain, best gain: -inf\n",
      "[LightGBM] [Warning] No further splits with positive gain, best gain: -inf\n",
      "Early stopping, best iteration is:\n",
      "[66]\tvalid_0's l2: 0.260888\tvalid_0's l1: 0.357206\n"
     ]
    }
   ],
   "source": [
    "import lightgbm as lgb\n",
    "\n",
    "lgb_train = lgb.Dataset(X_train, y_train)\n",
    "lgb_eval = lgb.Dataset(X_test, y_test, reference=lgb_train)\n",
    "\n",
    "params = {\n",
    "    \"boosting_type\": \"gbdt\",\n",
    "    \"objective\": \"regression\",\n",
    "    \"metric\": {\"l2\", \"l1\"},\n",
    "}\n",
    "\n",
    "gbm = lgb.train(\n",
    "    params,\n",
    "    lgb_train,\n",
    "    num_boost_round=100,\n",
    "    valid_sets=lgb_eval,\n",
    "    callbacks=[lgb.early_stopping(stopping_rounds=5)],\n",
    ")"
   ]
  },
  {
   "cell_type": "code",
   "execution_count": 13,
   "id": "b2dd69b5",
   "metadata": {},
   "outputs": [],
   "source": [
    "y_pred_train = gbm.predict(X_train, num_iteration=gbm.best_iteration)\n",
    "y_pred_test = gbm.predict(X_test, num_iteration=gbm.best_iteration)"
   ]
  },
  {
   "cell_type": "code",
   "execution_count": 14,
   "id": "68b425f7",
   "metadata": {},
   "outputs": [
    {
     "name": "stdout",
     "output_type": "stream",
     "text": [
      "RMSE: 0.51\n",
      "MAE: 0.36\n"
     ]
    }
   ],
   "source": [
    "from sklearn.metrics import mean_squared_error, mean_absolute_error\n",
    "\n",
    "\n",
    "rmse = mean_squared_error(y_test, y_pred_test, squared=False)\n",
    "mae = mean_absolute_error(y_test, y_pred_test)\n",
    "\n",
    "print(f\"RMSE: {rmse:.2f}\")\n",
    "print(f\"MAE: {mae:.2f}\")"
   ]
  },
  {
   "cell_type": "code",
   "execution_count": 15,
   "id": "a615e9df",
   "metadata": {},
   "outputs": [],
   "source": [
    "results = pd.DataFrame(\n",
    "    data={\n",
    "        \"Split type\": [],\n",
    "        \"Tuning type\": [],\n",
    "        \"Set of features\": [],\n",
    "        \"RMSE\": [],\n",
    "        \"MAE\": [],\n",
    "    }\n",
    ")\n",
    "\n",
    "results.loc[0] = [\"chronological\", \"default\", \"expanded\", rmse, mae]"
   ]
  },
  {
   "cell_type": "code",
   "execution_count": 16,
   "id": "9d777b5d",
   "metadata": {},
   "outputs": [
    {
     "name": "stdout",
     "output_type": "stream",
     "text": [
      "RMSE train: 0.21\n",
      "RMSE test: 0.51\n"
     ]
    }
   ],
   "source": [
    "rmse_train = mean_squared_error(y_train, y_pred_train, squared=False)\n",
    "rmse_test = mean_squared_error(y_test, y_pred_test, squared=False)\n",
    "print(f\"RMSE train: {rmse_train:.2f}\")\n",
    "print(f\"RMSE test: {rmse_test:.2f}\")"
   ]
  },
  {
   "cell_type": "markdown",
   "id": "c8d83c18",
   "metadata": {},
   "source": [
    "###### MAE by level"
   ]
  },
  {
   "cell_type": "code",
   "execution_count": 17,
   "id": "ac580d53",
   "metadata": {},
   "outputs": [],
   "source": [
    "from training.results import plot_mae_by_level"
   ]
  },
  {
   "cell_type": "code",
   "execution_count": 18,
   "id": "53b88797",
   "metadata": {},
   "outputs": [
    {
     "data": {
      "image/png": "[encoded data removed]",
      "text/plain": [
       "<Figure size 720x432 with 1 Axes>"
      ]
     },
     "metadata": {
      "needs_background": "light"
     },
     "output_type": "display_data"
    }
   ],
   "source": [
    "plot_mae_by_level(\n",
    "    y_test,\n",
    "    y_pred_test,\n",
    "    title=\"MAE by level for default LightGBM with expanded features and chronological split\",\n",
    ")"
   ]
  },
  {
   "cell_type": "code",
   "execution_count": 19,
   "id": "4135d981",
   "metadata": {},
   "outputs": [
    {
     "name": "stdout",
     "output_type": "stream",
     "text": [
      "Default:\n",
      "RMSE: 0.51\n",
      "\n",
      "Round type: round\n",
      "RMSE: 0.55\n",
      "\n",
      "Round type: 0.33\n",
      "RMSE: 0.54\n",
      "\n",
      "Round type: 0.45\n",
      "RMSE: 0.54\n",
      "\n"
     ]
    }
   ],
   "source": [
    "from training.results import check_round_predictions, plot_confusion_matrix\n",
    "\n",
    "\n",
    "check_round_predictions([\"round\", 0.33, 0.45], y_test, y_pred_test)"
   ]
  },
  {
   "cell_type": "code",
   "execution_count": 20,
   "id": "4741e1ec",
   "metadata": {},
   "outputs": [
    {
     "data": {
      "image/png": "[encoded data removed]",
      "text/plain": [
       "<Figure size 432x288 with 2 Axes>"
      ]
     },
     "metadata": {
      "needs_background": "light"
     },
     "output_type": "display_data"
    }
   ],
   "source": [
    "plot_confusion_matrix(\n",
    "    \"round\",\n",
    "    y_pred_test,\n",
    "    y_test,\n",
    "    title=\"Confusion matrix for default LightGBM with expanded features and chronological split\",\n",
    ")"
   ]
  },
  {
   "cell_type": "markdown",
   "id": "a6b03404",
   "metadata": {},
   "source": [
    "#### Tuning"
   ]
  },
  {
   "cell_type": "code",
   "execution_count": 21,
   "id": "e7f8b7ee",
   "metadata": {},
   "outputs": [],
   "source": [
    "from training.results import assess_regression_model"
   ]
  },
  {
   "cell_type": "code",
   "execution_count": 22,
   "id": "10cd6bac",
   "metadata": {
    "scrolled": true
   },
   "outputs": [
    {
     "name": "stderr",
     "output_type": "stream",
     "text": [
      "[I 2023-11-05 12:38:43,641] A new study created in memory with name: no-name-4f356cbf-6e00-42d3-85f0-b812f7878129\n",
      "feature_fraction, val_score: inf:   0%|                                                          | 0/7 [00:00<?, ?it/s]"
     ]
    },
    {
     "name": "stdout",
     "output_type": "stream",
     "text": [
      "Training until validation scores don't improve for 100 rounds\n",
      "[100]\tcv_agg's l2: 0.176175 + 0.0328765\n",
      "[200]\tcv_agg's l2: 0.173279 + 0.0328762\n",
      "[300]\tcv_agg's l2: 0.173594 + 0.0335765\n",
      "Early stopping, best iteration is:\n",
      "[222]\tcv_agg's l2: 0.172715 + 0.0332841\n"
     ]
    },
    {
     "name": "stderr",
     "output_type": "stream",
     "text": [
      "feature_fraction, val_score: 0.172715:  14%|######4                                      | 1/7 [00:03<00:18,  3.03s/it][I 2023-11-05 12:38:46,674] Trial 0 finished with value: 0.17271450848252423 and parameters: {'feature_fraction': 0.8999999999999999}. Best is trial 0 with value: 0.17271450848252423.\n",
      "feature_fraction, val_score: 0.172715:  14%|######4                                      | 1/7 [00:03<00:18,  3.03s/it]"
     ]
    },
    {
     "name": "stdout",
     "output_type": "stream",
     "text": [
      "[100]\tcv_agg's l2: 0.171084 + 0.0371662\n",
      "[200]\tcv_agg's l2: 0.16819 + 0.0372176\n",
      "[300]\tcv_agg's l2: 0.168291 + 0.0360636\n"
     ]
    },
    {
     "name": "stderr",
     "output_type": "stream",
     "text": [
      "feature_fraction, val_score: 0.167977:  29%|############8                                | 2/7 [00:06<00:16,  3.35s/it][I 2023-11-05 12:38:50,254] Trial 1 finished with value: 0.16797679268267138 and parameters: {'feature_fraction': 0.7}. Best is trial 1 with value: 0.16797679268267138.\n",
      "feature_fraction, val_score: 0.167977:  29%|############8                                | 2/7 [00:06<00:16,  3.35s/it]"
     ]
    },
    {
     "name": "stdout",
     "output_type": "stream",
     "text": [
      "Early stopping, best iteration is:\n",
      "[284]\tcv_agg's l2: 0.167977 + 0.0362729\n",
      "[100]\tcv_agg's l2: 0.161414 + 0.026642\n",
      "[200]\tcv_agg's l2: 0.15965 + 0.0263242\n"
     ]
    },
    {
     "name": "stderr",
     "output_type": "stream",
     "text": [
      "feature_fraction, val_score: 0.159167:  43%|###################2                         | 3/7 [00:09<00:11,  2.97s/it][I 2023-11-05 12:38:52,763] Trial 2 finished with value: 0.1591673188683942 and parameters: {'feature_fraction': 0.5}. Best is trial 2 with value: 0.1591673188683942.\n",
      "feature_fraction, val_score: 0.159167:  43%|###################2                         | 3/7 [00:09<00:11,  2.97s/it]"
     ]
    },
    {
     "name": "stdout",
     "output_type": "stream",
     "text": [
      "Early stopping, best iteration is:\n",
      "[159]\tcv_agg's l2: 0.159167 + 0.026033\n",
      "[100]\tcv_agg's l2: 0.188025 + 0.0387075\n",
      "[200]\tcv_agg's l2: 0.185962 + 0.0366348\n"
     ]
    },
    {
     "name": "stderr",
     "output_type": "stream",
     "text": [
      "feature_fraction, val_score: 0.159167:  57%|#########################7                   | 4/7 [00:11<00:08,  2.76s/it][I 2023-11-05 12:38:55,212] Trial 3 finished with value: 0.18616392350215785 and parameters: {'feature_fraction': 1.0}. Best is trial 2 with value: 0.1591673188683942.\n",
      "feature_fraction, val_score: 0.159167:  57%|#########################7                   | 4/7 [00:11<00:08,  2.76s/it]"
     ]
    },
    {
     "name": "stdout",
     "output_type": "stream",
     "text": [
      "Early stopping, best iteration is:\n",
      "[159]\tcv_agg's l2: 0.159167 + 0.026033\n",
      "[100]\tcv_agg's l2: 0.16417 + 0.0269033\n",
      "[200]\tcv_agg's l2: 0.161754 + 0.0277395\n"
     ]
    },
    {
     "name": "stderr",
     "output_type": "stream",
     "text": [
      "feature_fraction, val_score: 0.159167:  71%|################################1            | 5/7 [00:13<00:05,  2.63s/it][I 2023-11-05 12:38:57,615] Trial 4 finished with value: 0.16206168017266537 and parameters: {'feature_fraction': 0.6}. Best is trial 2 with value: 0.1591673188683942.\n",
      "feature_fraction, val_score: 0.159167:  71%|################################1            | 5/7 [00:13<00:05,  2.63s/it]"
     ]
    },
    {
     "name": "stdout",
     "output_type": "stream",
     "text": [
      "Early stopping, best iteration is:\n",
      "[159]\tcv_agg's l2: 0.159167 + 0.026033\n",
      "[100]\tcv_agg's l2: 0.175944 + 0.0325711\n",
      "[200]\tcv_agg's l2: 0.174411 + 0.0317661\n"
     ]
    },
    {
     "name": "stderr",
     "output_type": "stream",
     "text": [
      "feature_fraction, val_score: 0.159167:  86%|######################################5      | 6/7 [00:16<00:02,  2.52s/it][I 2023-11-05 12:38:59,902] Trial 5 finished with value: 0.1748847304857615 and parameters: {'feature_fraction': 0.8}. Best is trial 2 with value: 0.1591673188683942.\n",
      "feature_fraction, val_score: 0.159167:  86%|######################################5      | 6/7 [00:16<00:02,  2.52s/it]"
     ]
    },
    {
     "name": "stdout",
     "output_type": "stream",
     "text": [
      "Early stopping, best iteration is:\n",
      "[159]\tcv_agg's l2: 0.159167 + 0.026033\n",
      "[100]\tcv_agg's l2: 0.166436 + 0.0264855\n",
      "[200]\tcv_agg's l2: 0.164316 + 0.0259177\n"
     ]
    },
    {
     "name": "stderr",
     "output_type": "stream",
     "text": [
      "feature_fraction, val_score: 0.159167: 100%|#############################################| 7/7 [00:18<00:00,  2.40s/it][I 2023-11-05 12:39:02,067] Trial 6 finished with value: 0.16455044047668205 and parameters: {'feature_fraction': 0.4}. Best is trial 2 with value: 0.1591673188683942.\n",
      "feature_fraction, val_score: 0.159167: 100%|#############################################| 7/7 [00:18<00:00,  2.63s/it]\n"
     ]
    },
    {
     "name": "stdout",
     "output_type": "stream",
     "text": [
      "Early stopping, best iteration is:\n",
      "[159]\tcv_agg's l2: 0.159167 + 0.026033\n"
     ]
    },
    {
     "name": "stderr",
     "output_type": "stream",
     "text": [
      "num_leaves, val_score: 0.159167:   0%|                                                          | 0/20 [00:00<?, ?it/s]"
     ]
    },
    {
     "name": "stdout",
     "output_type": "stream",
     "text": [
      "[100]\tcv_agg's l2: 0.161414 + 0.026642\n",
      "[200]\tcv_agg's l2: 0.15965 + 0.0263242\n"
     ]
    },
    {
     "name": "stderr",
     "output_type": "stream",
     "text": [
      "num_leaves, val_score: 0.159167:   5%|##5                                               | 1/20 [00:02<00:42,  2.26s/it][I 2023-11-05 12:39:04,334] Trial 7 finished with value: 0.1591673188683942 and parameters: {'num_leaves': 140}. Best is trial 7 with value: 0.1591673188683942.\n",
      "num_leaves, val_score: 0.159167:   5%|##5                                               | 1/20 [00:02<00:42,  2.26s/it]"
     ]
    },
    {
     "name": "stdout",
     "output_type": "stream",
     "text": [
      "Early stopping, best iteration is:\n",
      "[159]\tcv_agg's l2: 0.159167 + 0.026033\n",
      "[100]\tcv_agg's l2: 0.18864 + 0.0314276\n",
      "[200]\tcv_agg's l2: 0.174505 + 0.0238814\n"
     ]
    },
    {
     "name": "stderr",
     "output_type": "stream",
     "text": [
      "num_leaves, val_score: 0.159167:  10%|#####                                             | 2/20 [00:03<00:26,  1.45s/it][I 2023-11-05 12:39:05,211] Trial 8 finished with value: 0.1776329529245157 and parameters: {'num_leaves': 8}. Best is trial 7 with value: 0.1591673188683942.\n",
      "num_leaves, val_score: 0.159167:  10%|#####                                             | 2/20 [00:03<00:26,  1.45s/it]"
     ]
    },
    {
     "name": "stdout",
     "output_type": "stream",
     "text": [
      "Early stopping, best iteration is:\n",
      "[159]\tcv_agg's l2: 0.159167 + 0.026033\n",
      "[100]\tcv_agg's l2: 0.161414 + 0.026642\n",
      "[200]\tcv_agg's l2: 0.15965 + 0.0263242\n"
     ]
    },
    {
     "name": "stderr",
     "output_type": "stream",
     "text": [
      "num_leaves, val_score: 0.159167:  15%|#######5                                          | 3/20 [00:05<00:31,  1.84s/it][I 2023-11-05 12:39:07,517] Trial 9 finished with value: 0.1591673188683942 and parameters: {'num_leaves': 97}. Best is trial 7 with value: 0.1591673188683942.\n",
      "num_leaves, val_score: 0.159167:  15%|#######5                                          | 3/20 [00:05<00:31,  1.84s/it]"
     ]
    },
    {
     "name": "stdout",
     "output_type": "stream",
     "text": [
      "Early stopping, best iteration is:\n",
      "[159]\tcv_agg's l2: 0.159167 + 0.026033\n",
      "[100]\tcv_agg's l2: 0.161414 + 0.026642\n",
      "[200]\tcv_agg's l2: 0.15965 + 0.0263242\n"
     ]
    },
    {
     "name": "stderr",
     "output_type": "stream",
     "text": [
      "num_leaves, val_score: 0.159167:  20%|##########                                        | 4/20 [00:07<00:33,  2.09s/it][I 2023-11-05 12:39:09,996] Trial 10 finished with value: 0.1591673188683942 and parameters: {'num_leaves': 243}. Best is trial 7 with value: 0.1591673188683942.\n",
      "num_leaves, val_score: 0.159167:  20%|##########                                        | 4/20 [00:07<00:33,  2.09s/it]"
     ]
    },
    {
     "name": "stdout",
     "output_type": "stream",
     "text": [
      "Early stopping, best iteration is:\n",
      "[159]\tcv_agg's l2: 0.159167 + 0.026033\n",
      "[100]\tcv_agg's l2: 0.161414 + 0.026642\n",
      "[200]\tcv_agg's l2: 0.15965 + 0.0263242\n"
     ]
    },
    {
     "name": "stderr",
     "output_type": "stream",
     "text": [
      "num_leaves, val_score: 0.159167:  25%|############5                                     | 5/20 [00:10<00:33,  2.21s/it][I 2023-11-05 12:39:12,415] Trial 11 finished with value: 0.1591673188683942 and parameters: {'num_leaves': 171}. Best is trial 7 with value: 0.1591673188683942.\n",
      "num_leaves, val_score: 0.159167:  25%|############5                                     | 5/20 [00:10<00:33,  2.21s/it]"
     ]
    },
    {
     "name": "stdout",
     "output_type": "stream",
     "text": [
      "Early stopping, best iteration is:\n",
      "[159]\tcv_agg's l2: 0.159167 + 0.026033\n",
      "[100]\tcv_agg's l2: 0.161414 + 0.026642\n",
      "[200]\tcv_agg's l2: 0.15965 + 0.0263242\n"
     ]
    },
    {
     "name": "stderr",
     "output_type": "stream",
     "text": [
      "num_leaves, val_score: 0.159167:  30%|###############                                   | 6/20 [00:12<00:32,  2.29s/it][I 2023-11-05 12:39:14,855] Trial 12 finished with value: 0.1591673188683942 and parameters: {'num_leaves': 117}. Best is trial 7 with value: 0.1591673188683942.\n",
      "num_leaves, val_score: 0.159167:  30%|###############                                   | 6/20 [00:12<00:32,  2.29s/it]"
     ]
    },
    {
     "name": "stdout",
     "output_type": "stream",
     "text": [
      "Early stopping, best iteration is:\n",
      "[159]\tcv_agg's l2: 0.159167 + 0.026033\n",
      "[100]\tcv_agg's l2: 0.161414 + 0.026642\n",
      "[200]\tcv_agg's l2: 0.15965 + 0.0263242\n"
     ]
    },
    {
     "name": "stderr",
     "output_type": "stream",
     "text": [
      "num_leaves, val_score: 0.159167:  35%|#################5                                | 7/20 [00:15<00:30,  2.32s/it][I 2023-11-05 12:39:17,245] Trial 13 finished with value: 0.1591673188683942 and parameters: {'num_leaves': 187}. Best is trial 7 with value: 0.1591673188683942.\n",
      "num_leaves, val_score: 0.159167:  35%|#################5                                | 7/20 [00:15<00:30,  2.32s/it]"
     ]
    },
    {
     "name": "stdout",
     "output_type": "stream",
     "text": [
      "Early stopping, best iteration is:\n",
      "[159]\tcv_agg's l2: 0.159167 + 0.026033\n",
      "[100]\tcv_agg's l2: 0.161414 + 0.026642\n",
      "[200]\tcv_agg's l2: 0.15965 + 0.0263242\n"
     ]
    },
    {
     "name": "stderr",
     "output_type": "stream",
     "text": [
      "num_leaves, val_score: 0.159167:  40%|####################                              | 8/20 [00:17<00:27,  2.33s/it][I 2023-11-05 12:39:19,588] Trial 14 finished with value: 0.1591673188683942 and parameters: {'num_leaves': 54}. Best is trial 7 with value: 0.1591673188683942.\n",
      "num_leaves, val_score: 0.159167:  40%|####################                              | 8/20 [00:17<00:27,  2.33s/it]"
     ]
    },
    {
     "name": "stdout",
     "output_type": "stream",
     "text": [
      "Early stopping, best iteration is:\n",
      "[159]\tcv_agg's l2: 0.159167 + 0.026033\n",
      "[100]\tcv_agg's l2: 0.161414 + 0.026642\n",
      "[200]\tcv_agg's l2: 0.15965 + 0.0263242\n"
     ]
    },
    {
     "name": "stderr",
     "output_type": "stream",
     "text": [
      "num_leaves, val_score: 0.159167:  45%|######################5                           | 9/20 [00:20<00:26,  2.39s/it][I 2023-11-05 12:39:22,099] Trial 15 finished with value: 0.1591673188683942 and parameters: {'num_leaves': 179}. Best is trial 7 with value: 0.1591673188683942.\n",
      "num_leaves, val_score: 0.159167:  45%|######################5                           | 9/20 [00:20<00:26,  2.39s/it]"
     ]
    },
    {
     "name": "stdout",
     "output_type": "stream",
     "text": [
      "Early stopping, best iteration is:\n",
      "[159]\tcv_agg's l2: 0.159167 + 0.026033\n",
      "[100]\tcv_agg's l2: 0.161414 + 0.026642\n",
      "[200]\tcv_agg's l2: 0.15965 + 0.0263242\n"
     ]
    },
    {
     "name": "stderr",
     "output_type": "stream",
     "text": [
      "num_leaves, val_score: 0.159167:  50%|########################5                        | 10/20 [00:22<00:24,  2.42s/it][I 2023-11-05 12:39:24,610] Trial 16 finished with value: 0.1591673188683942 and parameters: {'num_leaves': 249}. Best is trial 7 with value: 0.1591673188683942.\n",
      "num_leaves, val_score: 0.159167:  50%|########################5                        | 10/20 [00:22<00:24,  2.42s/it]"
     ]
    },
    {
     "name": "stdout",
     "output_type": "stream",
     "text": [
      "Early stopping, best iteration is:\n",
      "[159]\tcv_agg's l2: 0.159167 + 0.026033\n",
      "[100]\tcv_agg's l2: 0.161414 + 0.026642\n",
      "[200]\tcv_agg's l2: 0.15965 + 0.0263242\n"
     ]
    },
    {
     "name": "stderr",
     "output_type": "stream",
     "text": [
      "num_leaves, val_score: 0.159167:  55%|##########################9                      | 11/20 [00:24<00:21,  2.37s/it][I 2023-11-05 12:39:26,859] Trial 17 finished with value: 0.1591673188683942 and parameters: {'num_leaves': 71}. Best is trial 7 with value: 0.1591673188683942.\n",
      "num_leaves, val_score: 0.159167:  55%|##########################9                      | 11/20 [00:24<00:21,  2.37s/it]"
     ]
    },
    {
     "name": "stdout",
     "output_type": "stream",
     "text": [
      "Early stopping, best iteration is:\n",
      "[159]\tcv_agg's l2: 0.159167 + 0.026033\n",
      "[100]\tcv_agg's l2: 0.161414 + 0.026642\n",
      "[200]\tcv_agg's l2: 0.15965 + 0.0263242\n"
     ]
    },
    {
     "name": "stderr",
     "output_type": "stream",
     "text": [
      "num_leaves, val_score: 0.159167:  60%|#############################4                   | 12/20 [00:27<00:19,  2.40s/it][I 2023-11-05 12:39:29,328] Trial 18 finished with value: 0.1591673188683942 and parameters: {'num_leaves': 153}. Best is trial 7 with value: 0.1591673188683942.\n",
      "num_leaves, val_score: 0.159167:  60%|#############################4                   | 12/20 [00:27<00:19,  2.40s/it]"
     ]
    },
    {
     "name": "stdout",
     "output_type": "stream",
     "text": [
      "Early stopping, best iteration is:\n",
      "[159]\tcv_agg's l2: 0.159167 + 0.026033\n",
      "[100]\tcv_agg's l2: 0.161414 + 0.026642\n",
      "[200]\tcv_agg's l2: 0.15965 + 0.0263242\n"
     ]
    },
    {
     "name": "stderr",
     "output_type": "stream",
     "text": [
      "num_leaves, val_score: 0.159167:  65%|###############################8                 | 13/20 [00:29<00:17,  2.47s/it][I 2023-11-05 12:39:31,950] Trial 19 finished with value: 0.1591673188683942 and parameters: {'num_leaves': 217}. Best is trial 7 with value: 0.1591673188683942.\n",
      "num_leaves, val_score: 0.159167:  65%|###############################8                 | 13/20 [00:29<00:17,  2.47s/it]"
     ]
    },
    {
     "name": "stdout",
     "output_type": "stream",
     "text": [
      "Early stopping, best iteration is:\n",
      "[159]\tcv_agg's l2: 0.159167 + 0.026033\n",
      "[100]\tcv_agg's l2: 0.198882 + 0.0314299\n"
     ]
    },
    {
     "name": "stderr",
     "output_type": "stream",
     "text": [
      "num_leaves, val_score: 0.159167:  70%|##################################3              | 14/20 [00:30<00:11,  1.93s/it][I 2023-11-05 12:39:32,629] Trial 20 finished with value: 0.1845530821605766 and parameters: {'num_leaves': 5}. Best is trial 7 with value: 0.1591673188683942.\n",
      "num_leaves, val_score: 0.159167:  70%|##################################3              | 14/20 [00:30<00:11,  1.93s/it]"
     ]
    },
    {
     "name": "stdout",
     "output_type": "stream",
     "text": [
      "[200]\tcv_agg's l2: 0.17961 + 0.0253797\n",
      "Early stopping, best iteration is:\n",
      "[159]\tcv_agg's l2: 0.159167 + 0.026033\n",
      "[100]\tcv_agg's l2: 0.161414 + 0.026642\n",
      "[200]\tcv_agg's l2: 0.15965 + 0.0263242\n"
     ]
    },
    {
     "name": "stderr",
     "output_type": "stream",
     "text": [
      "num_leaves, val_score: 0.159167:  75%|####################################7            | 15/20 [00:32<00:10,  2.08s/it][I 2023-11-05 12:39:35,070] Trial 21 finished with value: 0.1591673188683942 and parameters: {'num_leaves': 111}. Best is trial 7 with value: 0.1591673188683942.\n",
      "num_leaves, val_score: 0.159167:  75%|####################################7            | 15/20 [00:32<00:10,  2.08s/it]"
     ]
    },
    {
     "name": "stdout",
     "output_type": "stream",
     "text": [
      "Early stopping, best iteration is:\n",
      "[159]\tcv_agg's l2: 0.159167 + 0.026033\n",
      "[100]\tcv_agg's l2: 0.161414 + 0.026642\n",
      "[200]\tcv_agg's l2: 0.15965 + 0.0263242\n"
     ]
    },
    {
     "name": "stderr",
     "output_type": "stream",
     "text": [
      "num_leaves, val_score: 0.159167:  80%|#######################################2         | 16/20 [00:35<00:08,  2.14s/it][I 2023-11-05 12:39:37,331] Trial 22 finished with value: 0.1591673188683942 and parameters: {'num_leaves': 83}. Best is trial 7 with value: 0.1591673188683942.\n",
      "num_leaves, val_score: 0.159167:  80%|#######################################2         | 16/20 [00:35<00:08,  2.14s/it]"
     ]
    },
    {
     "name": "stdout",
     "output_type": "stream",
     "text": [
      "Early stopping, best iteration is:\n",
      "[159]\tcv_agg's l2: 0.159167 + 0.026033\n",
      "[100]\tcv_agg's l2: 0.161414 + 0.026642\n",
      "[200]\tcv_agg's l2: 0.15965 + 0.0263242\n"
     ]
    },
    {
     "name": "stderr",
     "output_type": "stream",
     "text": [
      "num_leaves, val_score: 0.159167:  85%|#########################################6       | 17/20 [00:37<00:06,  2.18s/it][I 2023-11-05 12:39:39,619] Trial 23 finished with value: 0.1591673188683942 and parameters: {'num_leaves': 143}. Best is trial 7 with value: 0.1591673188683942.\n",
      "num_leaves, val_score: 0.159167:  85%|#########################################6       | 17/20 [00:37<00:06,  2.18s/it]"
     ]
    },
    {
     "name": "stdout",
     "output_type": "stream",
     "text": [
      "Early stopping, best iteration is:\n",
      "[159]\tcv_agg's l2: 0.159167 + 0.026033\n",
      "[100]\tcv_agg's l2: 0.161414 + 0.026642\n",
      "[200]\tcv_agg's l2: 0.15965 + 0.0263242\n"
     ]
    },
    {
     "name": "stderr",
     "output_type": "stream",
     "text": [
      "num_leaves, val_score: 0.159167:  90%|############################################1    | 18/20 [00:40<00:04,  2.30s/it][I 2023-11-05 12:39:42,183] Trial 24 finished with value: 0.1591673188683942 and parameters: {'num_leaves': 91}. Best is trial 7 with value: 0.1591673188683942.\n",
      "num_leaves, val_score: 0.159167:  90%|############################################1    | 18/20 [00:40<00:04,  2.30s/it]"
     ]
    },
    {
     "name": "stdout",
     "output_type": "stream",
     "text": [
      "Early stopping, best iteration is:\n",
      "[159]\tcv_agg's l2: 0.159167 + 0.026033\n",
      "[100]\tcv_agg's l2: 0.161414 + 0.026642\n",
      "[200]\tcv_agg's l2: 0.15965 + 0.0263242\n"
     ]
    },
    {
     "name": "stderr",
     "output_type": "stream",
     "text": [
      "num_leaves, val_score: 0.159167:  95%|##############################################5  | 19/20 [00:42<00:02,  2.31s/it][I 2023-11-05 12:39:44,535] Trial 25 finished with value: 0.1591673188683942 and parameters: {'num_leaves': 43}. Best is trial 7 with value: 0.1591673188683942.\n",
      "num_leaves, val_score: 0.159167:  95%|##############################################5  | 19/20 [00:42<00:02,  2.31s/it]"
     ]
    },
    {
     "name": "stdout",
     "output_type": "stream",
     "text": [
      "Early stopping, best iteration is:\n",
      "[159]\tcv_agg's l2: 0.159167 + 0.026033\n",
      "[100]\tcv_agg's l2: 0.161414 + 0.026642\n",
      "[200]\tcv_agg's l2: 0.15965 + 0.0263242\n"
     ]
    },
    {
     "name": "stderr",
     "output_type": "stream",
     "text": [
      "num_leaves, val_score: 0.159167: 100%|#################################################| 20/20 [00:44<00:00,  2.31s/it][I 2023-11-05 12:39:46,822] Trial 26 finished with value: 0.1591673188683942 and parameters: {'num_leaves': 132}. Best is trial 7 with value: 0.1591673188683942.\n",
      "num_leaves, val_score: 0.159167: 100%|#################################################| 20/20 [00:44<00:00,  2.24s/it]\n"
     ]
    },
    {
     "name": "stdout",
     "output_type": "stream",
     "text": [
      "Early stopping, best iteration is:\n",
      "[159]\tcv_agg's l2: 0.159167 + 0.026033\n"
     ]
    },
    {
     "name": "stderr",
     "output_type": "stream",
     "text": [
      "bagging, val_score: 0.159167:   0%|                                                             | 0/10 [00:00<?, ?it/s]"
     ]
    },
    {
     "name": "stdout",
     "output_type": "stream",
     "text": [
      "[100]\tcv_agg's l2: 0.184409 + 0.0278173\n",
      "[200]\tcv_agg's l2: 0.181836 + 0.0285759\n"
     ]
    },
    {
     "name": "stderr",
     "output_type": "stream",
     "text": [
      "bagging, val_score: 0.159167:  10%|#####3                                               | 1/10 [00:01<00:14,  1.61s/it][I 2023-11-05 12:39:48,443] Trial 27 finished with value: 0.18346982536191803 and parameters: {'bagging_fraction': 0.567906837939546, 'bagging_freq': 3}. Best is trial 27 with value: 0.18346982536191803.\n",
      "bagging, val_score: 0.159167:  10%|#####3                                               | 1/10 [00:01<00:14,  1.61s/it]"
     ]
    },
    {
     "name": "stdout",
     "output_type": "stream",
     "text": [
      "Early stopping, best iteration is:\n",
      "[159]\tcv_agg's l2: 0.159167 + 0.026033\n",
      "[100]\tcv_agg's l2: 0.167108 + 0.0309215\n",
      "[200]\tcv_agg's l2: 0.164585 + 0.0316297\n"
     ]
    },
    {
     "name": "stderr",
     "output_type": "stream",
     "text": [
      "bagging, val_score: 0.159167:  20%|##########6                                          | 2/10 [00:03<00:16,  2.05s/it][I 2023-11-05 12:39:50,804] Trial 28 finished with value: 0.16508999875622649 and parameters: {'bagging_fraction': 0.9662204421768361, 'bagging_freq': 7}. Best is trial 28 with value: 0.16508999875622649.\n",
      "bagging, val_score: 0.159167:  20%|##########6                                          | 2/10 [00:03<00:16,  2.05s/it]"
     ]
    },
    {
     "name": "stdout",
     "output_type": "stream",
     "text": [
      "Early stopping, best iteration is:\n",
      "[159]\tcv_agg's l2: 0.159167 + 0.026033\n",
      "[100]\tcv_agg's l2: 0.207048 + 0.034277\n",
      "[200]\tcv_agg's l2: 0.197012 + 0.0312933\n"
     ]
    },
    {
     "name": "stderr",
     "output_type": "stream",
     "text": [
      "bagging, val_score: 0.159167:  30%|###############9                                     | 3/10 [00:05<00:11,  1.71s/it][I 2023-11-05 12:39:52,100] Trial 29 finished with value: 0.20067282285952048 and parameters: {'bagging_fraction': 0.42581542656992427, 'bagging_freq': 1}. Best is trial 28 with value: 0.16508999875622649.\n",
      "bagging, val_score: 0.159167:  30%|###############9                                     | 3/10 [00:05<00:11,  1.71s/it]"
     ]
    },
    {
     "name": "stdout",
     "output_type": "stream",
     "text": [
      "Early stopping, best iteration is:\n",
      "[159]\tcv_agg's l2: 0.159167 + 0.026033\n",
      "[100]\tcv_agg's l2: 0.175076 + 0.0281175\n",
      "[200]\tcv_agg's l2: 0.170237 + 0.0265741\n"
     ]
    },
    {
     "name": "stderr",
     "output_type": "stream",
     "text": [
      "bagging, val_score: 0.159167:  40%|#####################2                               | 4/10 [00:07<00:10,  1.81s/it][I 2023-11-05 12:39:54,072] Trial 30 finished with value: 0.17232126784897694 and parameters: {'bagging_fraction': 0.8154468339828496, 'bagging_freq': 7}. Best is trial 28 with value: 0.16508999875622649.\n",
      "bagging, val_score: 0.159167:  40%|#####################2                               | 4/10 [00:07<00:10,  1.81s/it]"
     ]
    },
    {
     "name": "stdout",
     "output_type": "stream",
     "text": [
      "Early stopping, best iteration is:\n",
      "[159]\tcv_agg's l2: 0.159167 + 0.026033\n",
      "[100]\tcv_agg's l2: 0.1836 + 0.0318425\n",
      "[200]\tcv_agg's l2: 0.175548 + 0.0253489\n"
     ]
    },
    {
     "name": "stderr",
     "output_type": "stream",
     "text": [
      "bagging, val_score: 0.159167:  50%|##########################5                          | 5/10 [00:09<00:09,  1.82s/it][I 2023-11-05 12:39:55,911] Trial 31 finished with value: 0.17596371147189221 and parameters: {'bagging_fraction': 0.701688360254437, 'bagging_freq': 4}. Best is trial 28 with value: 0.16508999875622649.\n",
      "bagging, val_score: 0.159167:  50%|##########################5                          | 5/10 [00:09<00:09,  1.82s/it]"
     ]
    },
    {
     "name": "stdout",
     "output_type": "stream",
     "text": [
      "Early stopping, best iteration is:\n",
      "[159]\tcv_agg's l2: 0.159167 + 0.026033\n",
      "[100]\tcv_agg's l2: 0.213399 + 0.0288234\n",
      "[200]\tcv_agg's l2: 0.202936 + 0.0285009\n"
     ]
    },
    {
     "name": "stderr",
     "output_type": "stream",
     "text": [
      "bagging, val_score: 0.159167:  60%|###############################8                     | 6/10 [00:10<00:06,  1.63s/it][I 2023-11-05 12:39:57,182] Trial 32 finished with value: 0.20319604596755445 and parameters: {'bagging_fraction': 0.4027506967195024, 'bagging_freq': 1}. Best is trial 28 with value: 0.16508999875622649.\n",
      "bagging, val_score: 0.159167:  60%|###############################8                     | 6/10 [00:10<00:06,  1.63s/it]"
     ]
    },
    {
     "name": "stdout",
     "output_type": "stream",
     "text": [
      "Early stopping, best iteration is:\n",
      "[159]\tcv_agg's l2: 0.159167 + 0.026033\n",
      "[100]\tcv_agg's l2: 0.16415 + 0.0283175\n",
      "[200]\tcv_agg's l2: 0.161172 + 0.028153\n"
     ]
    },
    {
     "name": "stderr",
     "output_type": "stream",
     "text": [
      "bagging, val_score: 0.159167:  70%|#####################################                | 7/10 [00:13<00:06,  2.11s/it][I 2023-11-05 12:40:00,280] Trial 33 finished with value: 0.1619897298769012 and parameters: {'bagging_fraction': 0.9949455754664087, 'bagging_freq': 5}. Best is trial 33 with value: 0.1619897298769012.\n",
      "bagging, val_score: 0.159167:  70%|#####################################                | 7/10 [00:13<00:06,  2.11s/it]"
     ]
    },
    {
     "name": "stdout",
     "output_type": "stream",
     "text": [
      "Early stopping, best iteration is:\n",
      "[159]\tcv_agg's l2: 0.159167 + 0.026033\n",
      "[100]\tcv_agg's l2: 0.179516 + 0.0375518\n",
      "[200]\tcv_agg's l2: 0.174295 + 0.0354554\n"
     ]
    },
    {
     "name": "stderr",
     "output_type": "stream",
     "text": [
      "bagging, val_score: 0.159167:  80%|##########################################4          | 8/10 [00:15<00:04,  2.22s/it][I 2023-11-05 12:40:02,741] Trial 34 finished with value: 0.17469489655328124 and parameters: {'bagging_fraction': 0.801331802154764, 'bagging_freq': 5}. Best is trial 33 with value: 0.1619897298769012.\n",
      "bagging, val_score: 0.159167:  80%|##########################################4          | 8/10 [00:15<00:04,  2.22s/it]"
     ]
    },
    {
     "name": "stdout",
     "output_type": "stream",
     "text": [
      "Early stopping, best iteration is:\n",
      "[159]\tcv_agg's l2: 0.159167 + 0.026033\n",
      "[100]\tcv_agg's l2: 0.186909 + 0.0294965\n",
      "[200]\tcv_agg's l2: 0.185491 + 0.0313788\n"
     ]
    },
    {
     "name": "stderr",
     "output_type": "stream",
     "text": [
      "bagging, val_score: 0.159167:  90%|###############################################7     | 9/10 [00:17<00:02,  2.14s/it][I 2023-11-05 12:40:04,694] Trial 35 finished with value: 0.18657340900699887 and parameters: {'bagging_fraction': 0.5535282475213668, 'bagging_freq': 3}. Best is trial 33 with value: 0.1619897298769012.\n",
      "bagging, val_score: 0.159167:  90%|###############################################7     | 9/10 [00:17<00:02,  2.14s/it]"
     ]
    },
    {
     "name": "stdout",
     "output_type": "stream",
     "text": [
      "Early stopping, best iteration is:\n",
      "[159]\tcv_agg's l2: 0.159167 + 0.026033\n",
      "[100]\tcv_agg's l2: 0.169012 + 0.0285939\n",
      "[200]\tcv_agg's l2: 0.163856 + 0.0253098\n"
     ]
    },
    {
     "name": "stderr",
     "output_type": "stream",
     "text": [
      "bagging, val_score: 0.159167: 100%|####################################################| 10/10 [00:20<00:00,  2.25s/it][I 2023-11-05 12:40:07,198] Trial 36 finished with value: 0.16622191301743158 and parameters: {'bagging_fraction': 0.8695912554190414, 'bagging_freq': 6}. Best is trial 33 with value: 0.1619897298769012.\n",
      "bagging, val_score: 0.159167: 100%|####################################################| 10/10 [00:20<00:00,  2.04s/it]\n"
     ]
    },
    {
     "name": "stdout",
     "output_type": "stream",
     "text": [
      "Early stopping, best iteration is:\n",
      "[159]\tcv_agg's l2: 0.159167 + 0.026033\n"
     ]
    },
    {
     "name": "stderr",
     "output_type": "stream",
     "text": [
      "feature_fraction_stage2, val_score: 0.159167:   0%|                                              | 0/6 [00:00<?, ?it/s]"
     ]
    },
    {
     "name": "stdout",
     "output_type": "stream",
     "text": [
      "[100]\tcv_agg's l2: 0.155791 + 0.0268239\n",
      "[200]\tcv_agg's l2: 0.154094 + 0.0259228\n"
     ]
    },
    {
     "name": "stderr",
     "output_type": "stream",
     "text": [
      "feature_fraction_stage2, val_score: 0.153254:  17%|######3                               | 1/6 [00:02<00:12,  2.56s/it][I 2023-11-05 12:40:09,768] Trial 37 finished with value: 0.15325414164251588 and parameters: {'feature_fraction': 0.484}. Best is trial 37 with value: 0.15325414164251588.\n",
      "feature_fraction_stage2, val_score: 0.153254:  17%|######3                               | 1/6 [00:02<00:12,  2.56s/it]"
     ]
    },
    {
     "name": "stdout",
     "output_type": "stream",
     "text": [
      "Early stopping, best iteration is:\n",
      "[136]\tcv_agg's l2: 0.153254 + 0.0254286\n",
      "[100]\tcv_agg's l2: 0.161414 + 0.026642\n",
      "[200]\tcv_agg's l2: 0.15965 + 0.0263242\n"
     ]
    },
    {
     "name": "stderr",
     "output_type": "stream",
     "text": [
      "feature_fraction_stage2, val_score: 0.153254:  33%|############6                         | 2/6 [00:05<00:11,  2.91s/it][I 2023-11-05 12:40:12,918] Trial 38 finished with value: 0.1597154219503118 and parameters: {'feature_fraction': 0.5479999999999999}. Best is trial 37 with value: 0.15325414164251588.\n",
      "feature_fraction_stage2, val_score: 0.153254:  33%|############6                         | 2/6 [00:05<00:11,  2.91s/it]"
     ]
    },
    {
     "name": "stdout",
     "output_type": "stream",
     "text": [
      "Early stopping, best iteration is:\n",
      "[136]\tcv_agg's l2: 0.153254 + 0.0254286\n",
      "[100]\tcv_agg's l2: 0.155791 + 0.0268239\n",
      "[200]\tcv_agg's l2: 0.154094 + 0.0259228\n"
     ]
    },
    {
     "name": "stderr",
     "output_type": "stream",
     "text": [
      "feature_fraction_stage2, val_score: 0.153254:  50%|###################                   | 3/6 [00:08<00:08,  2.99s/it][I 2023-11-05 12:40:16,008] Trial 39 finished with value: 0.15325414164251588 and parameters: {'feature_fraction': 0.45199999999999996}. Best is trial 37 with value: 0.15325414164251588.\n",
      "feature_fraction_stage2, val_score: 0.153254:  50%|###################                   | 3/6 [00:08<00:08,  2.99s/it]"
     ]
    },
    {
     "name": "stdout",
     "output_type": "stream",
     "text": [
      "Early stopping, best iteration is:\n",
      "[136]\tcv_agg's l2: 0.153254 + 0.0254286\n",
      "[100]\tcv_agg's l2: 0.16417 + 0.0269033\n",
      "[200]\tcv_agg's l2: 0.161754 + 0.0277395\n"
     ]
    },
    {
     "name": "stderr",
     "output_type": "stream",
     "text": [
      "feature_fraction_stage2, val_score: 0.153254:  67%|#########################3            | 4/6 [00:12<00:06,  3.15s/it][I 2023-11-05 12:40:19,407] Trial 40 finished with value: 0.16290338670817972 and parameters: {'feature_fraction': 0.58}. Best is trial 37 with value: 0.15325414164251588.\n",
      "feature_fraction_stage2, val_score: 0.153254:  67%|#########################3            | 4/6 [00:12<00:06,  3.15s/it]"
     ]
    },
    {
     "name": "stdout",
     "output_type": "stream",
     "text": [
      "Early stopping, best iteration is:\n",
      "[136]\tcv_agg's l2: 0.153254 + 0.0254286\n",
      "[100]\tcv_agg's l2: 0.161414 + 0.026642\n",
      "[200]\tcv_agg's l2: 0.15965 + 0.0263242\n"
     ]
    },
    {
     "name": "stderr",
     "output_type": "stream",
     "text": [
      "feature_fraction_stage2, val_score: 0.153254:  83%|###############################6      | 5/6 [00:15<00:03,  3.05s/it][I 2023-11-05 12:40:22,289] Trial 41 finished with value: 0.1597154219503118 and parameters: {'feature_fraction': 0.516}. Best is trial 37 with value: 0.15325414164251588.\n",
      "feature_fraction_stage2, val_score: 0.153254:  83%|###############################6      | 5/6 [00:15<00:03,  3.05s/it]"
     ]
    },
    {
     "name": "stdout",
     "output_type": "stream",
     "text": [
      "Early stopping, best iteration is:\n",
      "[136]\tcv_agg's l2: 0.153254 + 0.0254286\n",
      "[100]\tcv_agg's l2: 0.166436 + 0.0264855\n",
      "[200]\tcv_agg's l2: 0.164316 + 0.0259177\n"
     ]
    },
    {
     "name": "stderr",
     "output_type": "stream",
     "text": [
      "feature_fraction_stage2, val_score: 0.153254: 100%|######################################| 6/6 [00:17<00:00,  2.99s/it][I 2023-11-05 12:40:25,151] Trial 42 finished with value: 0.16548439825664663 and parameters: {'feature_fraction': 0.42}. Best is trial 37 with value: 0.15325414164251588.\n",
      "feature_fraction_stage2, val_score: 0.153254: 100%|######################################| 6/6 [00:17<00:00,  2.99s/it]\n"
     ]
    },
    {
     "name": "stdout",
     "output_type": "stream",
     "text": [
      "Early stopping, best iteration is:\n",
      "[136]\tcv_agg's l2: 0.153254 + 0.0254286\n"
     ]
    },
    {
     "name": "stderr",
     "output_type": "stream",
     "text": [
      "regularization_factors, val_score: 0.153254:   0%|                                              | 0/20 [00:00<?, ?it/s]"
     ]
    },
    {
     "name": "stdout",
     "output_type": "stream",
     "text": [
      "[100]\tcv_agg's l2: 0.155791 + 0.0268239\n",
      "[200]\tcv_agg's l2: 0.154094 + 0.0259228\n"
     ]
    },
    {
     "name": "stderr",
     "output_type": "stream",
     "text": [
      "regularization_factors, val_score: 0.153254:   5%|#9                                    | 1/20 [00:03<01:04,  3.39s/it][I 2023-11-05 12:40:28,549] Trial 43 finished with value: 0.1532541398838178 and parameters: {'lambda_l1': 4.346033347491985e-08, 'lambda_l2': 3.290774576877348e-07}. Best is trial 43 with value: 0.1532541398838178.\n",
      "regularization_factors, val_score: 0.153254:   5%|#9                                    | 1/20 [00:03<01:04,  3.39s/it]"
     ]
    },
    {
     "name": "stdout",
     "output_type": "stream",
     "text": [
      "Early stopping, best iteration is:\n",
      "[136]\tcv_agg's l2: 0.153254 + 0.0254286\n",
      "[100]\tcv_agg's l2: 0.155791 + 0.0268239\n",
      "[200]\tcv_agg's l2: 0.154094 + 0.0259228\n"
     ]
    },
    {
     "name": "stderr",
     "output_type": "stream",
     "text": [
      "regularization_factors, val_score: 0.153254:  10%|###8                                  | 2/20 [00:08<01:14,  4.15s/it][I 2023-11-05 12:40:33,229] Trial 44 finished with value: 0.15325413978826835 and parameters: {'lambda_l1': 1.8407152797580573e-08, 'lambda_l2': 9.104645196197576e-08}. Best is trial 44 with value: 0.15325413978826835.\n",
      "regularization_factors, val_score: 0.153254:  10%|###8                                  | 2/20 [00:08<01:14,  4.15s/it]"
     ]
    },
    {
     "name": "stdout",
     "output_type": "stream",
     "text": [
      "Early stopping, best iteration is:\n",
      "[136]\tcv_agg's l2: 0.153254 + 0.0254286\n",
      "[100]\tcv_agg's l2: 0.155791 + 0.0268239\n",
      "[200]\tcv_agg's l2: 0.154094 + 0.0259228\n"
     ]
    },
    {
     "name": "stderr",
     "output_type": "stream",
     "text": [
      "regularization_factors, val_score: 0.153254:  15%|#####7                                | 3/20 [00:12<01:13,  4.34s/it][I 2023-11-05 12:40:37,796] Trial 45 finished with value: 0.15325413977831 and parameters: {'lambda_l1': 1.722270625685315e-08, 'lambda_l2': 9.080714097858756e-08}. Best is trial 45 with value: 0.15325413977831.\n",
      "regularization_factors, val_score: 0.153254:  15%|#####7                                | 3/20 [00:12<01:13,  4.34s/it]"
     ]
    },
    {
     "name": "stdout",
     "output_type": "stream",
     "text": [
      "Early stopping, best iteration is:\n",
      "[136]\tcv_agg's l2: 0.153254 + 0.0254286\n",
      "[100]\tcv_agg's l2: 0.155791 + 0.0268239\n",
      "[200]\tcv_agg's l2: 0.154094 + 0.0259228\n"
     ]
    },
    {
     "name": "stderr",
     "output_type": "stream",
     "text": [
      "regularization_factors, val_score: 0.153254:  20%|#######6                              | 4/20 [00:16<01:05,  4.09s/it][I 2023-11-05 12:40:41,509] Trial 46 finished with value: 0.15325413978611818 and parameters: {'lambda_l1': 1.1950710649977292e-08, 'lambda_l2': 6.393348934206582e-08}. Best is trial 45 with value: 0.15325413977831.\n",
      "regularization_factors, val_score: 0.153254:  20%|#######6                              | 4/20 [00:16<01:05,  4.09s/it]"
     ]
    },
    {
     "name": "stdout",
     "output_type": "stream",
     "text": [
      "Early stopping, best iteration is:\n",
      "[136]\tcv_agg's l2: 0.153254 + 0.0254286\n",
      "[100]\tcv_agg's l2: 0.155791 + 0.0268239\n",
      "[200]\tcv_agg's l2: 0.154094 + 0.0259228\n"
     ]
    },
    {
     "name": "stderr",
     "output_type": "stream",
     "text": [
      "regularization_factors, val_score: 0.153254:  25%|#########5                            | 5/20 [00:19<00:55,  3.67s/it][I 2023-11-05 12:40:44,425] Trial 47 finished with value: 0.15325413979794444 and parameters: {'lambda_l1': 1.1255437448741061e-08, 'lambda_l2': 6.488956563982033e-08}. Best is trial 45 with value: 0.15325413977831.\n",
      "regularization_factors, val_score: 0.153254:  25%|#########5                            | 5/20 [00:19<00:55,  3.67s/it]"
     ]
    },
    {
     "name": "stdout",
     "output_type": "stream",
     "text": [
      "Early stopping, best iteration is:\n",
      "[136]\tcv_agg's l2: 0.153254 + 0.0254286\n",
      "[100]\tcv_agg's l2: 0.155791 + 0.0268239\n",
      "[200]\tcv_agg's l2: 0.154094 + 0.0259228\n"
     ]
    },
    {
     "name": "stderr",
     "output_type": "stream",
     "text": [
      "regularization_factors, val_score: 0.153254:  30%|###########4                          | 6/20 [00:22<00:48,  3.50s/it][I 2023-11-05 12:40:47,587] Trial 48 finished with value: 0.1532541398212312 and parameters: {'lambda_l1': 1.2626418734787436e-08, 'lambda_l2': 6.05395700164114e-08}. Best is trial 45 with value: 0.15325413977831.\n",
      "regularization_factors, val_score: 0.153254:  30%|###########4                          | 6/20 [00:22<00:48,  3.50s/it]"
     ]
    },
    {
     "name": "stdout",
     "output_type": "stream",
     "text": [
      "Early stopping, best iteration is:\n",
      "[136]\tcv_agg's l2: 0.153254 + 0.0254286\n",
      "[100]\tcv_agg's l2: 0.155791 + 0.0268239\n",
      "[200]\tcv_agg's l2: 0.154094 + 0.0259228\n"
     ]
    },
    {
     "name": "stderr",
     "output_type": "stream",
     "text": [
      "regularization_factors, val_score: 0.153254:  35%|#############3                        | 7/20 [00:25<00:43,  3.31s/it][I 2023-11-05 12:40:50,511] Trial 49 finished with value: 0.1532541397873875 and parameters: {'lambda_l1': 1.1161362711255014e-08, 'lambda_l2': 5.448210905641541e-08}. Best is trial 45 with value: 0.15325413977831.\n",
      "regularization_factors, val_score: 0.153254:  35%|#############3                        | 7/20 [00:25<00:43,  3.31s/it]"
     ]
    },
    {
     "name": "stdout",
     "output_type": "stream",
     "text": [
      "Early stopping, best iteration is:\n",
      "[136]\tcv_agg's l2: 0.153254 + 0.0254286\n",
      "[100]\tcv_agg's l2: 0.155791 + 0.0268239\n",
      "[200]\tcv_agg's l2: 0.154094 + 0.0259228\n"
     ]
    },
    {
     "name": "stderr",
     "output_type": "stream",
     "text": [
      "regularization_factors, val_score: 0.153254:  40%|###############2                      | 8/20 [00:28<00:38,  3.25s/it][I 2023-11-05 12:40:53,632] Trial 50 finished with value: 0.15325413984915784 and parameters: {'lambda_l1': 1.969715141022794e-08, 'lambda_l2': 4.784929015101271e-08}. Best is trial 45 with value: 0.15325413977831.\n",
      "regularization_factors, val_score: 0.153254:  40%|###############2                      | 8/20 [00:28<00:38,  3.25s/it]"
     ]
    },
    {
     "name": "stdout",
     "output_type": "stream",
     "text": [
      "Early stopping, best iteration is:\n",
      "[136]\tcv_agg's l2: 0.153254 + 0.0254286\n",
      "[100]\tcv_agg's l2: 0.155791 + 0.0268239\n",
      "[200]\tcv_agg's l2: 0.154094 + 0.0259228\n"
     ]
    },
    {
     "name": "stderr",
     "output_type": "stream",
     "text": [
      "regularization_factors, val_score: 0.153254:  45%|#################1                    | 9/20 [00:31<00:34,  3.15s/it][I 2023-11-05 12:40:56,573] Trial 51 finished with value: 0.1532541398106909 and parameters: {'lambda_l1': 1.0529654318610146e-08, 'lambda_l2': 5.984528164612101e-08}. Best is trial 45 with value: 0.15325413977831.\n",
      "regularization_factors, val_score: 0.153254:  45%|#################1                    | 9/20 [00:31<00:34,  3.15s/it]"
     ]
    },
    {
     "name": "stdout",
     "output_type": "stream",
     "text": [
      "Early stopping, best iteration is:\n",
      "[136]\tcv_agg's l2: 0.153254 + 0.0254286\n",
      "[100]\tcv_agg's l2: 0.155791 + 0.0268239\n",
      "[200]\tcv_agg's l2: 0.154094 + 0.0259228\n"
     ]
    },
    {
     "name": "stderr",
     "output_type": "stream",
     "text": [
      "regularization_factors, val_score: 0.153254:  50%|##################5                  | 10/20 [00:34<00:30,  3.10s/it][I 2023-11-05 12:40:59,554] Trial 52 finished with value: 0.1532541397903688 and parameters: {'lambda_l1': 1.1850117455240109e-08, 'lambda_l2': 6.892891257000358e-08}. Best is trial 45 with value: 0.15325413977831.\n",
      "regularization_factors, val_score: 0.153254:  50%|##################5                  | 10/20 [00:34<00:30,  3.10s/it]"
     ]
    },
    {
     "name": "stdout",
     "output_type": "stream",
     "text": [
      "Early stopping, best iteration is:\n",
      "[136]\tcv_agg's l2: 0.153254 + 0.0254286\n",
      "[100]\tcv_agg's l2: 0.155791 + 0.0268239\n",
      "[200]\tcv_agg's l2: 0.154094 + 0.0259228\n"
     ]
    },
    {
     "name": "stderr",
     "output_type": "stream",
     "text": [
      "regularization_factors, val_score: 0.153254:  55%|####################3                | 11/20 [00:37<00:27,  3.08s/it][I 2023-11-05 12:41:02,604] Trial 53 finished with value: 0.15325413976588886 and parameters: {'lambda_l1': 1.166527261598068e-08, 'lambda_l2': 6.78042285743096e-08}. Best is trial 53 with value: 0.15325413976588886.\n",
      "regularization_factors, val_score: 0.153254:  55%|####################3                | 11/20 [00:37<00:27,  3.08s/it]"
     ]
    },
    {
     "name": "stdout",
     "output_type": "stream",
     "text": [
      "Early stopping, best iteration is:\n",
      "[136]\tcv_agg's l2: 0.153254 + 0.0254286\n",
      "[100]\tcv_agg's l2: 0.155791 + 0.0268239\n",
      "[200]\tcv_agg's l2: 0.154094 + 0.0259228\n"
     ]
    },
    {
     "name": "stderr",
     "output_type": "stream",
     "text": [
      "regularization_factors, val_score: 0.153254:  60%|######################2              | 12/20 [00:40<00:24,  3.02s/it][I 2023-11-05 12:41:05,490] Trial 54 finished with value: 0.1532541398025164 and parameters: {'lambda_l1': 1.2310091566759481e-08, 'lambda_l2': 5.554530763528837e-08}. Best is trial 53 with value: 0.15325413976588886.\n",
      "regularization_factors, val_score: 0.153254:  60%|######################2              | 12/20 [00:40<00:24,  3.02s/it]"
     ]
    },
    {
     "name": "stdout",
     "output_type": "stream",
     "text": [
      "Early stopping, best iteration is:\n",
      "[136]\tcv_agg's l2: 0.153254 + 0.0254286\n",
      "[100]\tcv_agg's l2: 0.158175 + 0.0266147\n",
      "[200]\tcv_agg's l2: 0.15614 + 0.0250972\n"
     ]
    },
    {
     "name": "stderr",
     "output_type": "stream",
     "text": [
      "regularization_factors, val_score: 0.153254:  65%|########################             | 13/20 [00:43<00:21,  3.01s/it][I 2023-11-05 12:41:08,473] Trial 55 finished with value: 0.15619328561276938 and parameters: {'lambda_l1': 0.025417071745980273, 'lambda_l2': 3.613774668096545e-06}. Best is trial 53 with value: 0.15325413976588886.\n",
      "regularization_factors, val_score: 0.153254:  65%|########################             | 13/20 [00:43<00:21,  3.01s/it]"
     ]
    },
    {
     "name": "stdout",
     "output_type": "stream",
     "text": [
      "Early stopping, best iteration is:\n",
      "[136]\tcv_agg's l2: 0.153254 + 0.0254286\n",
      "[100]\tcv_agg's l2: 0.15979 + 0.0273671\n",
      "[200]\tcv_agg's l2: 0.158476 + 0.0259657\n"
     ]
    },
    {
     "name": "stderr",
     "output_type": "stream",
     "text": [
      "regularization_factors, val_score: 0.153254:  70%|#########################9           | 14/20 [00:46<00:18,  3.06s/it][I 2023-11-05 12:41:11,643] Trial 56 finished with value: 0.1581995023008784 and parameters: {'lambda_l1': 6.268914704122203e-07, 'lambda_l2': 0.06721310952937808}. Best is trial 53 with value: 0.15325413976588886.\n",
      "regularization_factors, val_score: 0.153254:  70%|#########################9           | 14/20 [00:46<00:18,  3.06s/it]"
     ]
    },
    {
     "name": "stdout",
     "output_type": "stream",
     "text": [
      "Early stopping, best iteration is:\n",
      "[136]\tcv_agg's l2: 0.153254 + 0.0254286\n",
      "[100]\tcv_agg's l2: 0.155791 + 0.0268239\n",
      "[200]\tcv_agg's l2: 0.154101 + 0.0259624\n"
     ]
    },
    {
     "name": "stderr",
     "output_type": "stream",
     "text": [
      "regularization_factors, val_score: 0.153254:  75%|###########################7         | 15/20 [00:49<00:14,  2.99s/it][I 2023-11-05 12:41:14,471] Trial 57 finished with value: 0.1532967107111378 and parameters: {'lambda_l1': 6.79900577713309e-07, 'lambda_l2': 1.0048090668611253e-08}. Best is trial 53 with value: 0.15325413976588886.\n",
      "regularization_factors, val_score: 0.153254:  75%|###########################7         | 15/20 [00:49<00:14,  2.99s/it]"
     ]
    },
    {
     "name": "stdout",
     "output_type": "stream",
     "text": [
      "Early stopping, best iteration is:\n",
      "[136]\tcv_agg's l2: 0.153254 + 0.0254286\n",
      "[100]\tcv_agg's l2: 0.155791 + 0.0268239\n",
      "[200]\tcv_agg's l2: 0.154094 + 0.0259228\n"
     ]
    },
    {
     "name": "stderr",
     "output_type": "stream",
     "text": [
      "regularization_factors, val_score: 0.153254:  80%|#############################6       | 16/20 [00:52<00:11,  2.96s/it][I 2023-11-05 12:41:17,354] Trial 58 finished with value: 0.15325413929357953 and parameters: {'lambda_l1': 2.517889762298021e-07, 'lambda_l2': 2.562925166029131e-06}. Best is trial 58 with value: 0.15325413929357953.\n",
      "regularization_factors, val_score: 0.153254:  80%|#############################6       | 16/20 [00:52<00:11,  2.96s/it]"
     ]
    },
    {
     "name": "stdout",
     "output_type": "stream",
     "text": [
      "Early stopping, best iteration is:\n",
      "[136]\tcv_agg's l2: 0.153254 + 0.0254286\n",
      "[100]\tcv_agg's l2: 0.155791 + 0.0268239\n",
      "[200]\tcv_agg's l2: 0.154111 + 0.0259459\n"
     ]
    },
    {
     "name": "stderr",
     "output_type": "stream",
     "text": [
      "regularization_factors, val_score: 0.153254:  85%|###############################4     | 17/20 [00:55<00:09,  3.07s/it][I 2023-11-05 12:41:20,695] Trial 59 finished with value: 0.1532541400386457 and parameters: {'lambda_l1': 4.888738365378567e-07, 'lambda_l2': 1.6696945550109444e-06}. Best is trial 58 with value: 0.15325413929357953.\n",
      "regularization_factors, val_score: 0.153254:  85%|###############################4     | 17/20 [00:55<00:09,  3.07s/it]"
     ]
    },
    {
     "name": "stdout",
     "output_type": "stream",
     "text": [
      "Early stopping, best iteration is:\n",
      "[136]\tcv_agg's l2: 0.153254 + 0.0254286\n",
      "[100]\tcv_agg's l2: 0.155791 + 0.0268239\n",
      "[200]\tcv_agg's l2: 0.154094 + 0.0259228\n"
     ]
    },
    {
     "name": "stderr",
     "output_type": "stream",
     "text": [
      "regularization_factors, val_score: 0.153254:  90%|#################################3   | 18/20 [00:58<00:05,  2.90s/it][I 2023-11-05 12:41:23,181] Trial 60 finished with value: 0.1532541396426275 and parameters: {'lambda_l1': 3.145216273877871e-07, 'lambda_l2': 1.7955516633453655e-06}. Best is trial 58 with value: 0.15325413929357953.\n",
      "regularization_factors, val_score: 0.153254:  90%|#################################3   | 18/20 [00:58<00:05,  2.90s/it]"
     ]
    },
    {
     "name": "stdout",
     "output_type": "stream",
     "text": [
      "Early stopping, best iteration is:\n",
      "[136]\tcv_agg's l2: 0.153254 + 0.0254286\n",
      "[100]\tcv_agg's l2: 0.155791 + 0.0268239\n",
      "[200]\tcv_agg's l2: 0.154094 + 0.0259228\n"
     ]
    },
    {
     "name": "stderr",
     "output_type": "stream",
     "text": [
      "regularization_factors, val_score: 0.153254:  95%|###################################1 | 19/20 [01:00<00:02,  2.84s/it][I 2023-11-05 12:41:25,905] Trial 61 finished with value: 0.1532541391608198 and parameters: {'lambda_l1': 2.0147466943679884e-07, 'lambda_l2': 2.542589937396857e-06}. Best is trial 61 with value: 0.1532541391608198.\n",
      "regularization_factors, val_score: 0.153254:  95%|###################################1 | 19/20 [01:00<00:02,  2.84s/it]"
     ]
    },
    {
     "name": "stdout",
     "output_type": "stream",
     "text": [
      "Early stopping, best iteration is:\n",
      "[136]\tcv_agg's l2: 0.153254 + 0.0254286\n",
      "[100]\tcv_agg's l2: 0.155792 + 0.026824\n",
      "[200]\tcv_agg's l2: 0.154095 + 0.0259229\n"
     ]
    },
    {
     "name": "stderr",
     "output_type": "stream",
     "text": [
      "regularization_factors, val_score: 0.153254: 100%|#####################################| 20/20 [01:03<00:00,  2.95s/it][I 2023-11-05 12:41:29,097] Trial 62 finished with value: 0.15325442395834807 and parameters: {'lambda_l1': 3.448137498484429e-07, 'lambda_l2': 7.070870546097019e-06}. Best is trial 61 with value: 0.1532541391608198.\n",
      "regularization_factors, val_score: 0.153254: 100%|#####################################| 20/20 [01:03<00:00,  3.20s/it]\n"
     ]
    },
    {
     "name": "stdout",
     "output_type": "stream",
     "text": [
      "Early stopping, best iteration is:\n",
      "[136]\tcv_agg's l2: 0.153254 + 0.0254286\n"
     ]
    },
    {
     "name": "stderr",
     "output_type": "stream",
     "text": [
      "min_data_in_leaf, val_score: 0.153254:   0%|                                                     | 0/5 [00:00<?, ?it/s]"
     ]
    },
    {
     "name": "stdout",
     "output_type": "stream",
     "text": [
      "[100]\tcv_agg's l2: 0.175619 + 0.0300593\n",
      "[200]\tcv_agg's l2: 0.172321 + 0.027424\n"
     ]
    },
    {
     "name": "stderr",
     "output_type": "stream",
     "text": [
      "min_data_in_leaf, val_score: 0.153254:  20%|#########                                    | 1/5 [00:02<00:11,  2.91s/it][I 2023-11-05 12:41:32,011] Trial 63 finished with value: 0.17385173662994885 and parameters: {'min_child_samples': 25}. Best is trial 63 with value: 0.17385173662994885.\n",
      "min_data_in_leaf, val_score: 0.153254:  20%|#########                                    | 1/5 [00:02<00:11,  2.91s/it]"
     ]
    },
    {
     "name": "stdout",
     "output_type": "stream",
     "text": [
      "Early stopping, best iteration is:\n",
      "[136]\tcv_agg's l2: 0.153254 + 0.0254286\n",
      "[100]\tcv_agg's l2: 0.15186 + 0.0184089\n",
      "[200]\tcv_agg's l2: 0.150689 + 0.0171593\n",
      "[300]\tcv_agg's l2: 0.150239 + 0.017439\n"
     ]
    },
    {
     "name": "stderr",
     "output_type": "stream",
     "text": [
      "min_data_in_leaf, val_score: 0.150158:  40%|##################                           | 2/5 [00:09<00:14,  4.79s/it][I 2023-11-05 12:41:38,119] Trial 64 finished with value: 0.15015833148655028 and parameters: {'min_child_samples': 5}. Best is trial 64 with value: 0.15015833148655028.\n",
      "min_data_in_leaf, val_score: 0.150158:  40%|##################                           | 2/5 [00:09<00:14,  4.79s/it]"
     ]
    },
    {
     "name": "stdout",
     "output_type": "stream",
     "text": [
      "Early stopping, best iteration is:\n",
      "[283]\tcv_agg's l2: 0.150158 + 0.0173886\n",
      "[100]\tcv_agg's l2: 0.754336 + 0.102528\n",
      "[200]\tcv_agg's l2: 0.733009 + 0.107752\n",
      "[300]\tcv_agg's l2: 0.725722 + 0.114124\n"
     ]
    },
    {
     "name": "stderr",
     "output_type": "stream",
     "text": [
      "min_data_in_leaf, val_score: 0.150158:  60%|###########################                  | 3/5 [00:10<00:06,  3.27s/it][I 2023-11-05 12:41:39,587] Trial 65 finished with value: 0.7263148654125138 and parameters: {'min_child_samples': 100}. Best is trial 64 with value: 0.15015833148655028.\n",
      "min_data_in_leaf, val_score: 0.150158:  60%|###########################                  | 3/5 [00:10<00:06,  3.27s/it]"
     ]
    },
    {
     "name": "stdout",
     "output_type": "stream",
     "text": [
      "Early stopping, best iteration is:\n",
      "[283]\tcv_agg's l2: 0.150158 + 0.0173886\n",
      "[100]\tcv_agg's l2: 0.139882 + 0.0209553\n",
      "[200]\tcv_agg's l2: 0.139178 + 0.0207151\n",
      "[300]\tcv_agg's l2: 0.138885 + 0.0209355\n"
     ]
    },
    {
     "name": "stderr",
     "output_type": "stream",
     "text": [
      "min_data_in_leaf, val_score: 0.138696:  80%|####################################         | 4/5 [00:16<00:04,  4.19s/it][I 2023-11-05 12:41:45,195] Trial 66 finished with value: 0.13869579884621452 and parameters: {'min_child_samples': 10}. Best is trial 66 with value: 0.13869579884621452.\n",
      "min_data_in_leaf, val_score: 0.138696:  80%|####################################         | 4/5 [00:16<00:04,  4.19s/it]"
     ]
    },
    {
     "name": "stdout",
     "output_type": "stream",
     "text": [
      "Early stopping, best iteration is:\n",
      "[232]\tcv_agg's l2: 0.138696 + 0.0205124\n",
      "[100]\tcv_agg's l2: 0.244728 + 0.0320609\n",
      "[200]\tcv_agg's l2: 0.230207 + 0.0370404\n"
     ]
    },
    {
     "name": "stderr",
     "output_type": "stream",
     "text": [
      "\r",
      "min_data_in_leaf, val_score: 0.138696:  80%|####################################         | 4/5 [00:18<00:04,  4.19s/it]"
     ]
    },
    {
     "name": "stdout",
     "output_type": "stream",
     "text": [
      "[300]\tcv_agg's l2: 0.227788 + 0.0391484\n",
      "Early stopping, best iteration is:\n",
      "[232]\tcv_agg's l2: 0.138696 + 0.0205124\n"
     ]
    },
    {
     "name": "stderr",
     "output_type": "stream",
     "text": [
      "min_data_in_leaf, val_score: 0.138696: 100%|#############################################| 5/5 [00:18<00:00,  3.42s/it][I 2023-11-05 12:41:47,245] Trial 67 finished with value: 0.22910338718091444 and parameters: {'min_child_samples': 50}. Best is trial 66 with value: 0.13869579884621452.\n",
      "min_data_in_leaf, val_score: 0.138696: 100%|#############################################| 5/5 [00:18<00:00,  3.63s/it]\n"
     ]
    }
   ],
   "source": [
    "import optuna.integration.lightgbm as lgb\n",
    "from lightgbm import early_stopping, log_evaluation\n",
    "from sklearn.model_selection import KFold\n",
    "from sklearn.model_selection import RepeatedKFold\n",
    "\n",
    "\n",
    "lgb_train = lgb.Dataset(X_train, y_train)\n",
    "\n",
    "params = {\n",
    "    \"boosting_type\": \"gbdt\",\n",
    "    \"objective\": \"regression\",\n",
    "    \"metric\": \"l2\",\n",
    "    \"verbosity\": -1,\n",
    "}\n",
    "\n",
    "tuner = lgb.LightGBMTunerCV(\n",
    "    params,\n",
    "    lgb_train,\n",
    "    folds=KFold(n_splits=5),\n",
    "    num_boost_round=10000,\n",
    "    callbacks=[early_stopping(100), log_evaluation(100)],\n",
    ")\n",
    "\n",
    "tuner.run()"
   ]
  },
  {
   "cell_type": "code",
   "execution_count": 23,
   "id": "8406fc3e",
   "metadata": {},
   "outputs": [
    {
     "name": "stdout",
     "output_type": "stream",
     "text": [
      "Best score: 0.13869579884621452\n",
      "Params: \n",
      "    boosting_type: gbdt\n",
      "    objective: regression\n",
      "    metric: l2\n",
      "    verbosity: -1\n",
      "    feature_pre_filter: False\n",
      "    lambda_l1: 2.0147466943679884e-07\n",
      "    lambda_l2: 2.542589937396857e-06\n",
      "    num_leaves: 31\n",
      "    feature_fraction: 0.484\n",
      "    bagging_fraction: 1.0\n",
      "    bagging_freq: 0\n",
      "    min_child_samples: 10\n"
     ]
    }
   ],
   "source": [
    "print(f\"Best score: {tuner.best_score}\")\n",
    "best_params = tuner.best_params\n",
    "print(\"Params: \")\n",
    "for key, value in best_params.items():\n",
    "    print(\"    {}: {}\".format(key, value))"
   ]
  },
  {
   "cell_type": "code",
   "execution_count": 24,
   "id": "880974ce",
   "metadata": {},
   "outputs": [],
   "source": [
    "import lightgbm as lgb\n",
    "\n",
    "lgb_tuned = lgb.train(\n",
    "    best_params,\n",
    "    lgb_train,\n",
    "    num_boost_round=10000,\n",
    ")"
   ]
  },
  {
   "cell_type": "code",
   "execution_count": 25,
   "id": "53d87b2c",
   "metadata": {},
   "outputs": [
    {
     "name": "stdout",
     "output_type": "stream",
     "text": [
      "RMSE train: 0.00\n",
      "RMSE test: 0.47\n",
      "MAE test: 0.34\n",
      "\n"
     ]
    }
   ],
   "source": [
    "rmse, mae = assess_regression_model(lgb_tuned, X_train, X_test, y_train, y_test)"
   ]
  },
  {
   "cell_type": "code",
   "execution_count": 26,
   "id": "843255bc",
   "metadata": {},
   "outputs": [],
   "source": [
    "results.loc[1] = [\n",
    "    \"chronological\",\n",
    "    \"Optuna\",\n",
    "    \"expanded\",\n",
    "    rmse,\n",
    "    mae,\n",
    "]"
   ]
  },
  {
   "cell_type": "markdown",
   "id": "1c9ef70d",
   "metadata": {},
   "source": [
    "###### MAE by level"
   ]
  },
  {
   "cell_type": "code",
   "execution_count": 27,
   "id": "eab77fc8",
   "metadata": {},
   "outputs": [
    {
     "data": {
      "image/png": "[encoded data removed]",
      "text/plain": [
       "<Figure size 720x432 with 1 Axes>"
      ]
     },
     "metadata": {
      "needs_background": "light"
     },
     "output_type": "display_data"
    }
   ],
   "source": [
    "plot_mae_by_level(\n",
    "    y_test,\n",
    "    y_pred_test,\n",
    "    title=\"MAE by level for tuned LightGBM with expanded features and chronological split\",\n",
    ")"
   ]
  },
  {
   "cell_type": "code",
   "execution_count": 28,
   "id": "778f84c5",
   "metadata": {},
   "outputs": [
    {
     "name": "stdout",
     "output_type": "stream",
     "text": [
      "Default:\n",
      "RMSE: 0.47\n",
      "\n",
      "Round type: round\n",
      "RMSE: 0.50\n",
      "\n",
      "Round type: 0.33\n",
      "RMSE: 0.55\n",
      "\n",
      "Round type: 0.45\n",
      "RMSE: 0.51\n",
      "\n"
     ]
    }
   ],
   "source": [
    "predict = lgb_tuned.predict(X_test)\n",
    "check_round_predictions([\"round\", 0.33, 0.45], y_test, predict)"
   ]
  },
  {
   "cell_type": "code",
   "execution_count": 29,
   "id": "7823441a",
   "metadata": {},
   "outputs": [
    {
     "data": {
      "image/png": "[encoded data removed]",
      "text/plain": [
       "<Figure size 432x288 with 2 Axes>"
      ]
     },
     "metadata": {
      "needs_background": "light"
     },
     "output_type": "display_data"
    }
   ],
   "source": [
    "plot_confusion_matrix(\n",
    "    \"round\",\n",
    "    predict,\n",
    "    y_test,\n",
    "    title=\"Confusion matrix for tuned LightGBM with expanded features and chronological split\",\n",
    ")"
   ]
  },
  {
   "cell_type": "markdown",
   "id": "35088cc9",
   "metadata": {},
   "source": [
    "## Random split"
   ]
  },
  {
   "cell_type": "code",
   "execution_count": 30,
   "id": "692c4056",
   "metadata": {},
   "outputs": [
    {
     "name": "stdout",
     "output_type": "stream",
     "text": [
      "[LightGBM] [Warning] Auto-choosing col-wise multi-threading, the overhead of testing was 0.000483 seconds.\n",
      "You can set `force_col_wise=true` to remove the overhead.\n",
      "[LightGBM] [Info] Total Bins 392\n",
      "[LightGBM] [Info] Number of data points in the train set: 904, number of used features: 13\n",
      "[LightGBM] [Info] Start training from score 7.162611\n",
      "Training until validation scores don't improve for 5 rounds\n",
      "Early stopping, best iteration is:\n",
      "[88]\tvalid_0's l2: 0.148111\tvalid_0's l1: 0.267273\n"
     ]
    }
   ],
   "source": [
    "import lightgbm as lgb\n",
    "from sklearn.metrics import mean_squared_error\n",
    "\n",
    "lgb_train = lgb.Dataset(X_train_random_split, y_train_random_split)\n",
    "lgb_eval = lgb.Dataset(X_test_random_split, y_test_random_split, reference=lgb_train)\n",
    "\n",
    "params = {\n",
    "    \"boosting_type\": \"gbdt\",\n",
    "    \"objective\": \"regression\",\n",
    "    \"metric\": {\"l2\", \"l1\"},\n",
    "}\n",
    "\n",
    "gbm = lgb.train(\n",
    "    params,\n",
    "    lgb_train,\n",
    "    num_boost_round=100,\n",
    "    valid_sets=lgb_eval,\n",
    "    callbacks=[lgb.early_stopping(stopping_rounds=5)],\n",
    ")"
   ]
  },
  {
   "cell_type": "code",
   "execution_count": 31,
   "id": "24879a40",
   "metadata": {},
   "outputs": [],
   "source": [
    "y_pred_train = gbm.predict(X_train_random_split, num_iteration=gbm.best_iteration)\n",
    "y_pred_test = gbm.predict(X_test_random_split, num_iteration=gbm.best_iteration)"
   ]
  },
  {
   "cell_type": "code",
   "execution_count": 32,
   "id": "b5a760c1",
   "metadata": {},
   "outputs": [
    {
     "name": "stdout",
     "output_type": "stream",
     "text": [
      "RMSE: 0.38\n",
      "MAE: 0.27\n"
     ]
    }
   ],
   "source": [
    "from sklearn.metrics import mean_squared_error, mean_absolute_error\n",
    "\n",
    "\n",
    "rmse = mean_squared_error(y_test_random_split, y_pred_test, squared=False)\n",
    "mae = mean_absolute_error(y_test_random_split, y_pred_test)\n",
    "\n",
    "print(f\"RMSE: {rmse:.2f}\")\n",
    "print(f\"MAE: {mae:.2f}\")"
   ]
  },
  {
   "cell_type": "code",
   "execution_count": 33,
   "id": "a52e182e",
   "metadata": {},
   "outputs": [],
   "source": [
    "results.loc[2] = [\"random\", \"default\", \"expanded\", rmse, mae]"
   ]
  },
  {
   "cell_type": "markdown",
   "id": "17a44a91",
   "metadata": {},
   "source": [
    "###### MAE by level"
   ]
  },
  {
   "cell_type": "code",
   "execution_count": 34,
   "id": "180f64e4",
   "metadata": {},
   "outputs": [
    {
     "data": {
      "image/png": "[encoded data removed]",
      "text/plain": [
       "<Figure size 720x432 with 1 Axes>"
      ]
     },
     "metadata": {
      "needs_background": "light"
     },
     "output_type": "display_data"
    }
   ],
   "source": [
    "plot_mae_by_level(\n",
    "    y_test_random_split,\n",
    "    y_pred_test,\n",
    "    title=\"MAE by level for default LightGBM with expanded features and random split\",\n",
    ")"
   ]
  },
  {
   "cell_type": "code",
   "execution_count": 35,
   "id": "b42be07c",
   "metadata": {},
   "outputs": [
    {
     "name": "stdout",
     "output_type": "stream",
     "text": [
      "Default:\n",
      "RMSE: 0.38\n",
      "\n",
      "Round type: round\n",
      "RMSE: 0.39\n",
      "\n",
      "Round type: 0.33\n",
      "RMSE: 0.45\n",
      "\n",
      "Round type: 0.45\n",
      "RMSE: 0.41\n",
      "\n"
     ]
    }
   ],
   "source": [
    "check_round_predictions([\"round\", 0.33, 0.45], y_test_random_split, y_pred_test)"
   ]
  },
  {
   "cell_type": "code",
   "execution_count": 36,
   "id": "79174d21",
   "metadata": {},
   "outputs": [
    {
     "data": {
      "image/png": "[encoded data removed]",
      "text/plain": [
       "<Figure size 432x288 with 2 Axes>"
      ]
     },
     "metadata": {
      "needs_background": "light"
     },
     "output_type": "display_data"
    }
   ],
   "source": [
    "plot_confusion_matrix(\n",
    "    \"round\",\n",
    "    y_pred_test,\n",
    "    y_test_random_split,\n",
    "    title=\"Confusion matrix for default LightGBM with expanded features and random split\",\n",
    ")"
   ]
  },
  {
   "cell_type": "markdown",
   "id": "79bbd5ec",
   "metadata": {},
   "source": [
    "### Tuning"
   ]
  },
  {
   "cell_type": "code",
   "execution_count": 37,
   "id": "62270e6b",
   "metadata": {
    "scrolled": true
   },
   "outputs": [
    {
     "name": "stderr",
     "output_type": "stream",
     "text": [
      "[I 2023-11-05 12:42:21,686] A new study created in memory with name: no-name-d0aa95dd-c3c8-4257-83a9-fe8f241a6eac\n",
      "feature_fraction, val_score: inf:   0%|                                                          | 0/7 [00:00<?, ?it/s]"
     ]
    },
    {
     "name": "stdout",
     "output_type": "stream",
     "text": [
      "Training until validation scores don't improve for 100 rounds\n",
      "[100]\tcv_agg's l2: 0.179247 + 0.0488411\n",
      "[200]\tcv_agg's l2: 0.17949 + 0.0446918\n"
     ]
    },
    {
     "name": "stderr",
     "output_type": "stream",
     "text": [
      "feature_fraction, val_score: 0.178105:  14%|######4                                      | 1/7 [00:03<00:20,  3.45s/it][I 2023-11-05 12:42:25,145] Trial 0 finished with value: 0.17810539253023006 and parameters: {'feature_fraction': 0.7}. Best is trial 0 with value: 0.17810539253023006.\n",
      "feature_fraction, val_score: 0.178105:  14%|######4                                      | 1/7 [00:03<00:20,  3.45s/it]"
     ]
    },
    {
     "name": "stdout",
     "output_type": "stream",
     "text": [
      "Early stopping, best iteration is:\n",
      "[140]\tcv_agg's l2: 0.178105 + 0.0467388\n",
      "[100]\tcv_agg's l2: 0.194383 + 0.0456547\n",
      "[200]\tcv_agg's l2: 0.191225 + 0.044038\n"
     ]
    },
    {
     "name": "stderr",
     "output_type": "stream",
     "text": [
      "feature_fraction, val_score: 0.178105:  29%|############8                                | 2/7 [00:06<00:17,  3.47s/it][I 2023-11-05 12:42:28,634] Trial 1 finished with value: 0.19201543835174398 and parameters: {'feature_fraction': 1.0}. Best is trial 0 with value: 0.17810539253023006.\n",
      "feature_fraction, val_score: 0.178105:  29%|############8                                | 2/7 [00:06<00:17,  3.47s/it]"
     ]
    },
    {
     "name": "stdout",
     "output_type": "stream",
     "text": [
      "Early stopping, best iteration is:\n",
      "[140]\tcv_agg's l2: 0.178105 + 0.0467388\n",
      "[100]\tcv_agg's l2: 0.173113 + 0.0469616\n",
      "[200]\tcv_agg's l2: 0.173677 + 0.0468013\n"
     ]
    },
    {
     "name": "stderr",
     "output_type": "stream",
     "text": [
      "feature_fraction, val_score: 0.172209:  43%|###################2                         | 3/7 [00:09<00:12,  3.20s/it][I 2023-11-05 12:42:31,519] Trial 2 finished with value: 0.1722089717404786 and parameters: {'feature_fraction': 0.5}. Best is trial 2 with value: 0.1722089717404786.\n",
      "feature_fraction, val_score: 0.172209:  43%|###################2                         | 3/7 [00:09<00:12,  3.20s/it]"
     ]
    },
    {
     "name": "stdout",
     "output_type": "stream",
     "text": [
      "Early stopping, best iteration is:\n",
      "[117]\tcv_agg's l2: 0.172209 + 0.0476638\n",
      "[100]\tcv_agg's l2: 0.173187 + 0.0167632\n",
      "[200]\tcv_agg's l2: 0.169082 + 0.0143807\n",
      "[300]\tcv_agg's l2: 0.169283 + 0.0140803\n"
     ]
    },
    {
     "name": "stderr",
     "output_type": "stream",
     "text": [
      "feature_fraction, val_score: 0.168604:  57%|#########################7                   | 4/7 [00:14<00:11,  3.67s/it][I 2023-11-05 12:42:35,902] Trial 3 finished with value: 0.16860417147334836 and parameters: {'feature_fraction': 0.4}. Best is trial 3 with value: 0.16860417147334836.\n",
      "feature_fraction, val_score: 0.168604:  57%|#########################7                   | 4/7 [00:14<00:11,  3.67s/it]"
     ]
    },
    {
     "name": "stdout",
     "output_type": "stream",
     "text": [
      "Early stopping, best iteration is:\n",
      "[245]\tcv_agg's l2: 0.168604 + 0.0140254\n",
      "[100]\tcv_agg's l2: 0.185471 + 0.0424816\n",
      "[200]\tcv_agg's l2: 0.183982 + 0.0402062\n",
      "[300]\tcv_agg's l2: 0.183483 + 0.0387736\n"
     ]
    },
    {
     "name": "stderr",
     "output_type": "stream",
     "text": [
      "feature_fraction, val_score: 0.168604:  71%|################################1            | 5/7 [00:19<00:08,  4.15s/it][I 2023-11-05 12:42:40,898] Trial 4 finished with value: 0.18358160596760115 and parameters: {'feature_fraction': 0.8999999999999999}. Best is trial 3 with value: 0.16860417147334836.\n",
      "feature_fraction, val_score: 0.168604:  71%|################################1            | 5/7 [00:19<00:08,  4.15s/it]"
     ]
    },
    {
     "name": "stdout",
     "output_type": "stream",
     "text": [
      "Early stopping, best iteration is:\n",
      "[245]\tcv_agg's l2: 0.168604 + 0.0140254\n",
      "[100]\tcv_agg's l2: 0.179548 + 0.0517792\n",
      "[200]\tcv_agg's l2: 0.180431 + 0.050677\n",
      "[300]\tcv_agg's l2: 0.181769 + 0.0492885\n"
     ]
    },
    {
     "name": "stderr",
     "output_type": "stream",
     "text": [
      "feature_fraction, val_score: 0.168604:  86%|######################################5      | 6/7 [00:23<00:04,  4.37s/it][I 2023-11-05 12:42:45,692] Trial 5 finished with value: 0.1814129581712017 and parameters: {'feature_fraction': 0.8}. Best is trial 3 with value: 0.16860417147334836.\n",
      "feature_fraction, val_score: 0.168604:  86%|######################################5      | 6/7 [00:24<00:04,  4.37s/it]"
     ]
    },
    {
     "name": "stdout",
     "output_type": "stream",
     "text": [
      "Early stopping, best iteration is:\n",
      "[245]\tcv_agg's l2: 0.168604 + 0.0140254\n",
      "[100]\tcv_agg's l2: 0.169805 + 0.0444351\n",
      "[200]\tcv_agg's l2: 0.168559 + 0.0429821\n"
     ]
    },
    {
     "name": "stderr",
     "output_type": "stream",
     "text": [
      "feature_fraction, val_score: 0.168452: 100%|#############################################| 7/7 [00:28<00:00,  4.31s/it][I 2023-11-05 12:42:49,879] Trial 6 finished with value: 0.16845210112788714 and parameters: {'feature_fraction': 0.6}. Best is trial 6 with value: 0.16845210112788714.\n",
      "feature_fraction, val_score: 0.168452: 100%|#############################################| 7/7 [00:28<00:00,  4.03s/it]\n"
     ]
    },
    {
     "name": "stdout",
     "output_type": "stream",
     "text": [
      "[300]\tcv_agg's l2: 0.169487 + 0.0437568\n",
      "Early stopping, best iteration is:\n",
      "[209]\tcv_agg's l2: 0.168452 + 0.0431585\n"
     ]
    },
    {
     "name": "stderr",
     "output_type": "stream",
     "text": [
      "num_leaves, val_score: 0.168452:   0%|                                                          | 0/20 [00:00<?, ?it/s]"
     ]
    },
    {
     "name": "stdout",
     "output_type": "stream",
     "text": [
      "[100]\tcv_agg's l2: 0.167808 + 0.0467407\n",
      "[200]\tcv_agg's l2: 0.168583 + 0.0434744\n"
     ]
    },
    {
     "name": "stderr",
     "output_type": "stream",
     "text": [
      "num_leaves, val_score: 0.167585:   5%|##5                                               | 1/20 [00:02<00:48,  2.53s/it][I 2023-11-05 12:42:52,414] Trial 7 finished with value: 0.1675854064250307 and parameters: {'num_leaves': 20}. Best is trial 7 with value: 0.1675854064250307.\n",
      "num_leaves, val_score: 0.167585:   5%|##5                                               | 1/20 [00:02<00:48,  2.53s/it]"
     ]
    },
    {
     "name": "stdout",
     "output_type": "stream",
     "text": [
      "Early stopping, best iteration is:\n",
      "[136]\tcv_agg's l2: 0.167585 + 0.0444319\n",
      "[100]\tcv_agg's l2: 0.169805 + 0.0444351\n",
      "[200]\tcv_agg's l2: 0.168559 + 0.0429821\n"
     ]
    },
    {
     "name": "stderr",
     "output_type": "stream",
     "text": [
      "num_leaves, val_score: 0.167585:  10%|#####                                             | 2/20 [00:05<00:53,  2.95s/it][I 2023-11-05 12:42:55,657] Trial 8 finished with value: 0.16909298267174838 and parameters: {'num_leaves': 205}. Best is trial 7 with value: 0.1675854064250307.\n",
      "num_leaves, val_score: 0.167585:  10%|#####                                             | 2/20 [00:05<00:53,  2.95s/it]"
     ]
    },
    {
     "name": "stdout",
     "output_type": "stream",
     "text": [
      "Early stopping, best iteration is:\n",
      "[136]\tcv_agg's l2: 0.167585 + 0.0444319\n",
      "[100]\tcv_agg's l2: 0.169805 + 0.0444351\n",
      "[200]\tcv_agg's l2: 0.168559 + 0.0429821\n"
     ]
    },
    {
     "name": "stderr",
     "output_type": "stream",
     "text": [
      "num_leaves, val_score: 0.167585:  15%|#######5                                          | 3/20 [00:08<00:52,  3.07s/it][I 2023-11-05 12:42:58,874] Trial 9 finished with value: 0.16909298267174838 and parameters: {'num_leaves': 50}. Best is trial 7 with value: 0.1675854064250307.\n",
      "num_leaves, val_score: 0.167585:  15%|#######5                                          | 3/20 [00:08<00:52,  3.07s/it]"
     ]
    },
    {
     "name": "stdout",
     "output_type": "stream",
     "text": [
      "Early stopping, best iteration is:\n",
      "[136]\tcv_agg's l2: 0.167585 + 0.0444319\n",
      "[100]\tcv_agg's l2: 0.16309 + 0.0455647\n",
      "[200]\tcv_agg's l2: 0.161494 + 0.0423926\n",
      "[300]\tcv_agg's l2: 0.161105 + 0.0418645\n"
     ]
    },
    {
     "name": "stderr",
     "output_type": "stream",
     "text": [
      "num_leaves, val_score: 0.160831:  20%|##########                                        | 4/20 [00:11<00:48,  3.02s/it][I 2023-11-05 12:43:01,809] Trial 10 finished with value: 0.160831336735421 and parameters: {'num_leaves': 15}. Best is trial 10 with value: 0.160831336735421.\n",
      "num_leaves, val_score: 0.160831:  20%|##########                                        | 4/20 [00:11<00:48,  3.02s/it]"
     ]
    },
    {
     "name": "stdout",
     "output_type": "stream",
     "text": [
      "Early stopping, best iteration is:\n",
      "[240]\tcv_agg's l2: 0.160831 + 0.0421699\n",
      "[100]\tcv_agg's l2: 0.172679 + 0.04361\n",
      "[200]\tcv_agg's l2: 0.168858 + 0.039601\n",
      "[300]\tcv_agg's l2: 0.167387 + 0.0386015\n"
     ]
    },
    {
     "name": "stderr",
     "output_type": "stream",
     "text": [
      "num_leaves, val_score: 0.160831:  25%|############5                                     | 5/20 [00:14<00:41,  2.75s/it][I 2023-11-05 12:43:04,085] Trial 11 finished with value: 0.1679672899275554 and parameters: {'num_leaves': 12}. Best is trial 10 with value: 0.160831336735421.\n",
      "num_leaves, val_score: 0.160831:  25%|############5                                     | 5/20 [00:14<00:41,  2.75s/it]"
     ]
    },
    {
     "name": "stdout",
     "output_type": "stream",
     "text": [
      "Early stopping, best iteration is:\n",
      "[240]\tcv_agg's l2: 0.160831 + 0.0421699\n",
      "[100]\tcv_agg's l2: 0.169805 + 0.0444351\n",
      "[200]\tcv_agg's l2: 0.168559 + 0.0429821\n",
      "[300]\tcv_agg's l2: 0.169546 + 0.0438734\n"
     ]
    },
    {
     "name": "stderr",
     "output_type": "stream",
     "text": [
      "num_leaves, val_score: 0.160831:  30%|###############                                   | 6/20 [00:18<00:46,  3.33s/it][I 2023-11-05 12:43:08,548] Trial 12 finished with value: 0.16880636730373208 and parameters: {'num_leaves': 70}. Best is trial 10 with value: 0.160831336735421.\n",
      "num_leaves, val_score: 0.160831:  30%|###############                                   | 6/20 [00:18<00:46,  3.33s/it]"
     ]
    },
    {
     "name": "stdout",
     "output_type": "stream",
     "text": [
      "Early stopping, best iteration is:\n",
      "[240]\tcv_agg's l2: 0.160831 + 0.0421699\n",
      "[100]\tcv_agg's l2: 0.305472 + 0.0798045\n",
      "[200]\tcv_agg's l2: 0.269089 + 0.0665938\n"
     ]
    },
    {
     "name": "stderr",
     "output_type": "stream",
     "text": [
      "num_leaves, val_score: 0.160831:  35%|#################5                                | 7/20 [00:19<00:32,  2.47s/it][I 2023-11-05 12:43:09,230] Trial 13 finished with value: 0.26492240411239104 and parameters: {'num_leaves': 2}. Best is trial 10 with value: 0.160831336735421.\n",
      "num_leaves, val_score: 0.160831:  35%|#################5                                | 7/20 [00:19<00:32,  2.47s/it]"
     ]
    },
    {
     "name": "stdout",
     "output_type": "stream",
     "text": [
      "[300]\tcv_agg's l2: 0.260145 + 0.0615702\n",
      "Early stopping, best iteration is:\n",
      "[240]\tcv_agg's l2: 0.160831 + 0.0421699\n",
      "[100]\tcv_agg's l2: 0.169805 + 0.0444351\n",
      "[200]\tcv_agg's l2: 0.168559 + 0.0429821\n",
      "[300]\tcv_agg's l2: 0.169546 + 0.0438734\n"
     ]
    },
    {
     "name": "stderr",
     "output_type": "stream",
     "text": [
      "num_leaves, val_score: 0.160831:  40%|####################                              | 8/20 [00:23<00:37,  3.16s/it][I 2023-11-05 12:43:13,866] Trial 14 finished with value: 0.16880636730373208 and parameters: {'num_leaves': 121}. Best is trial 10 with value: 0.160831336735421.\n",
      "num_leaves, val_score: 0.160831:  40%|####################                              | 8/20 [00:23<00:37,  3.16s/it]"
     ]
    },
    {
     "name": "stdout",
     "output_type": "stream",
     "text": [
      "Early stopping, best iteration is:\n",
      "[240]\tcv_agg's l2: 0.160831 + 0.0421699\n",
      "[100]\tcv_agg's l2: 0.169805 + 0.0444351\n",
      "[200]\tcv_agg's l2: 0.168559 + 0.0429821\n",
      "[300]\tcv_agg's l2: 0.169546 + 0.0438734\n"
     ]
    },
    {
     "name": "stderr",
     "output_type": "stream",
     "text": [
      "num_leaves, val_score: 0.160831:  45%|######################5                           | 9/20 [00:28<00:39,  3.62s/it][I 2023-11-05 12:43:18,496] Trial 15 finished with value: 0.16880636730373208 and parameters: {'num_leaves': 94}. Best is trial 10 with value: 0.160831336735421.\n",
      "num_leaves, val_score: 0.160831:  45%|######################5                           | 9/20 [00:28<00:39,  3.62s/it]"
     ]
    },
    {
     "name": "stdout",
     "output_type": "stream",
     "text": [
      "Early stopping, best iteration is:\n",
      "[240]\tcv_agg's l2: 0.160831 + 0.0421699\n",
      "[100]\tcv_agg's l2: 0.169805 + 0.0444351\n",
      "[200]\tcv_agg's l2: 0.168559 + 0.0429821\n",
      "[300]\tcv_agg's l2: 0.169546 + 0.0438734\n"
     ]
    },
    {
     "name": "stderr",
     "output_type": "stream",
     "text": [
      "num_leaves, val_score: 0.160831:  50%|########################5                        | 10/20 [00:33<00:38,  3.86s/it][I 2023-11-05 12:43:22,889] Trial 16 finished with value: 0.16880636730373208 and parameters: {'num_leaves': 160}. Best is trial 10 with value: 0.160831336735421.\n",
      "num_leaves, val_score: 0.160831:  50%|########################5                        | 10/20 [00:33<00:38,  3.86s/it]"
     ]
    },
    {
     "name": "stdout",
     "output_type": "stream",
     "text": [
      "Early stopping, best iteration is:\n",
      "[240]\tcv_agg's l2: 0.160831 + 0.0421699\n",
      "[100]\tcv_agg's l2: 0.169805 + 0.0444351\n",
      "[200]\tcv_agg's l2: 0.168559 + 0.0429821\n",
      "[300]\tcv_agg's l2: 0.169546 + 0.0438734\n"
     ]
    },
    {
     "name": "stderr",
     "output_type": "stream",
     "text": [
      "num_leaves, val_score: 0.160831:  55%|##########################9                      | 11/20 [00:37<00:36,  4.06s/it][I 2023-11-05 12:43:27,407] Trial 17 finished with value: 0.16880636730373208 and parameters: {'num_leaves': 253}. Best is trial 10 with value: 0.160831336735421.\n",
      "num_leaves, val_score: 0.160831:  55%|##########################9                      | 11/20 [00:37<00:36,  4.06s/it]"
     ]
    },
    {
     "name": "stdout",
     "output_type": "stream",
     "text": [
      "Early stopping, best iteration is:\n",
      "[240]\tcv_agg's l2: 0.160831 + 0.0421699\n",
      "[100]\tcv_agg's l2: 0.169805 + 0.0444351\n",
      "[200]\tcv_agg's l2: 0.168559 + 0.0429821\n",
      "[300]\tcv_agg's l2: 0.169546 + 0.0438734\n"
     ]
    },
    {
     "name": "stderr",
     "output_type": "stream",
     "text": [
      "num_leaves, val_score: 0.160831:  60%|#############################4                   | 12/20 [00:41<00:33,  4.14s/it][I 2023-11-05 12:43:31,746] Trial 18 finished with value: 0.16880636730373208 and parameters: {'num_leaves': 47}. Best is trial 10 with value: 0.160831336735421.\n",
      "num_leaves, val_score: 0.160831:  60%|#############################4                   | 12/20 [00:41<00:33,  4.14s/it]"
     ]
    },
    {
     "name": "stdout",
     "output_type": "stream",
     "text": [
      "Early stopping, best iteration is:\n",
      "[240]\tcv_agg's l2: 0.160831 + 0.0421699\n",
      "[100]\tcv_agg's l2: 0.169858 + 0.0467705\n",
      "[200]\tcv_agg's l2: 0.170121 + 0.0445163\n",
      "[300]\tcv_agg's l2: 0.17165 + 0.0458179\n"
     ]
    },
    {
     "name": "stderr",
     "output_type": "stream",
     "text": [
      "num_leaves, val_score: 0.160831:  65%|###############################8                 | 13/20 [00:46<00:29,  4.18s/it][I 2023-11-05 12:43:36,016] Trial 19 finished with value: 0.170342209636215 and parameters: {'num_leaves': 29}. Best is trial 10 with value: 0.160831336735421.\n",
      "num_leaves, val_score: 0.160831:  65%|###############################8                 | 13/20 [00:46<00:29,  4.18s/it]"
     ]
    },
    {
     "name": "stdout",
     "output_type": "stream",
     "text": [
      "Early stopping, best iteration is:\n",
      "[240]\tcv_agg's l2: 0.160831 + 0.0421699\n",
      "[100]\tcv_agg's l2: 0.169805 + 0.0444351\n",
      "[200]\tcv_agg's l2: 0.168559 + 0.0429821\n",
      "[300]\tcv_agg's l2: 0.169546 + 0.0438734\n"
     ]
    },
    {
     "name": "stderr",
     "output_type": "stream",
     "text": [
      "num_leaves, val_score: 0.160831:  70%|##################################3              | 14/20 [00:50<00:26,  4.37s/it][I 2023-11-05 12:43:40,807] Trial 20 finished with value: 0.16880636730373208 and parameters: {'num_leaves': 107}. Best is trial 10 with value: 0.160831336735421.\n",
      "num_leaves, val_score: 0.160831:  70%|##################################3              | 14/20 [00:50<00:26,  4.37s/it]"
     ]
    },
    {
     "name": "stdout",
     "output_type": "stream",
     "text": [
      "Early stopping, best iteration is:\n",
      "[240]\tcv_agg's l2: 0.160831 + 0.0421699\n",
      "[100]\tcv_agg's l2: 0.25074 + 0.0612784\n",
      "[200]\tcv_agg's l2: 0.223391 + 0.0473162\n"
     ]
    },
    {
     "name": "stderr",
     "output_type": "stream",
     "text": [
      "num_leaves, val_score: 0.160831:  75%|####################################7            | 15/20 [00:51<00:16,  3.30s/it][I 2023-11-05 12:43:41,637] Trial 21 finished with value: 0.2159283900724637 and parameters: {'num_leaves': 3}. Best is trial 10 with value: 0.160831336735421.\n",
      "num_leaves, val_score: 0.160831:  75%|####################################7            | 15/20 [00:51<00:16,  3.30s/it]"
     ]
    },
    {
     "name": "stdout",
     "output_type": "stream",
     "text": [
      "[300]\tcv_agg's l2: 0.208566 + 0.0396484\n",
      "Early stopping, best iteration is:\n",
      "[240]\tcv_agg's l2: 0.160831 + 0.0421699\n",
      "[100]\tcv_agg's l2: 0.167817 + 0.0448804\n",
      "[200]\tcv_agg's l2: 0.168227 + 0.0424616\n",
      "[300]\tcv_agg's l2: 0.16922 + 0.0424923\n"
     ]
    },
    {
     "name": "stderr",
     "output_type": "stream",
     "text": [
      "num_leaves, val_score: 0.160831:  80%|#######################################2         | 16/20 [00:56<00:14,  3.62s/it][I 2023-11-05 12:43:46,001] Trial 22 finished with value: 0.16856063734389906 and parameters: {'num_leaves': 27}. Best is trial 10 with value: 0.160831336735421.\n",
      "num_leaves, val_score: 0.160831:  80%|#######################################2         | 16/20 [00:56<00:14,  3.62s/it]"
     ]
    },
    {
     "name": "stdout",
     "output_type": "stream",
     "text": [
      "Early stopping, best iteration is:\n",
      "[240]\tcv_agg's l2: 0.160831 + 0.0421699\n",
      "[100]\tcv_agg's l2: 0.169805 + 0.0444351\n",
      "[200]\tcv_agg's l2: 0.168559 + 0.0429821\n",
      "[300]\tcv_agg's l2: 0.169546 + 0.0438734\n"
     ]
    },
    {
     "name": "stderr",
     "output_type": "stream",
     "text": [
      "num_leaves, val_score: 0.160831:  85%|#########################################6       | 17/20 [01:01<00:12,  4.01s/it][I 2023-11-05 12:43:50,918] Trial 23 finished with value: 0.16880636730373208 and parameters: {'num_leaves': 70}. Best is trial 10 with value: 0.160831336735421.\n",
      "num_leaves, val_score: 0.160831:  85%|#########################################6       | 17/20 [01:01<00:12,  4.01s/it]"
     ]
    },
    {
     "name": "stdout",
     "output_type": "stream",
     "text": [
      "Early stopping, best iteration is:\n",
      "[240]\tcv_agg's l2: 0.160831 + 0.0421699\n",
      "[100]\tcv_agg's l2: 0.167808 + 0.0467407\n",
      "[200]\tcv_agg's l2: 0.168583 + 0.0434744\n",
      "[300]\tcv_agg's l2: 0.168933 + 0.0426175\n"
     ]
    },
    {
     "name": "stderr",
     "output_type": "stream",
     "text": [
      "num_leaves, val_score: 0.160831:  90%|############################################1    | 18/20 [01:04<00:07,  3.84s/it][I 2023-11-05 12:43:54,375] Trial 24 finished with value: 0.16857096917703437 and parameters: {'num_leaves': 20}. Best is trial 10 with value: 0.160831336735421.\n",
      "num_leaves, val_score: 0.160831:  90%|############################################1    | 18/20 [01:04<00:07,  3.84s/it]"
     ]
    },
    {
     "name": "stdout",
     "output_type": "stream",
     "text": [
      "Early stopping, best iteration is:\n",
      "[240]\tcv_agg's l2: 0.160831 + 0.0421699\n",
      "[100]\tcv_agg's l2: 0.169805 + 0.0444351\n",
      "[200]\tcv_agg's l2: 0.168559 + 0.0429821\n",
      "[300]\tcv_agg's l2: 0.169546 + 0.0438734\n"
     ]
    },
    {
     "name": "stderr",
     "output_type": "stream",
     "text": [
      "num_leaves, val_score: 0.160831:  95%|##############################################5  | 19/20 [01:08<00:03,  3.98s/it][I 2023-11-05 12:43:58,668] Trial 25 finished with value: 0.16880636730373208 and parameters: {'num_leaves': 64}. Best is trial 10 with value: 0.160831336735421.\n",
      "num_leaves, val_score: 0.160831:  95%|##############################################5  | 19/20 [01:08<00:03,  3.98s/it]"
     ]
    },
    {
     "name": "stdout",
     "output_type": "stream",
     "text": [
      "Early stopping, best iteration is:\n",
      "[240]\tcv_agg's l2: 0.160831 + 0.0421699\n",
      "[100]\tcv_agg's l2: 0.169805 + 0.0444351\n",
      "[200]\tcv_agg's l2: 0.168559 + 0.0429821\n",
      "[300]\tcv_agg's l2: 0.169546 + 0.0438734\n"
     ]
    },
    {
     "name": "stderr",
     "output_type": "stream",
     "text": [
      "num_leaves, val_score: 0.160831: 100%|#################################################| 20/20 [01:13<00:00,  4.09s/it][I 2023-11-05 12:44:03,002] Trial 26 finished with value: 0.16880636730373208 and parameters: {'num_leaves': 38}. Best is trial 10 with value: 0.160831336735421.\n",
      "num_leaves, val_score: 0.160831: 100%|#################################################| 20/20 [01:13<00:00,  3.66s/it]\n"
     ]
    },
    {
     "name": "stdout",
     "output_type": "stream",
     "text": [
      "Early stopping, best iteration is:\n",
      "[240]\tcv_agg's l2: 0.160831 + 0.0421699\n"
     ]
    },
    {
     "name": "stderr",
     "output_type": "stream",
     "text": [
      "bagging, val_score: 0.160831:   0%|                                                             | 0/10 [00:00<?, ?it/s]"
     ]
    },
    {
     "name": "stdout",
     "output_type": "stream",
     "text": [
      "[100]\tcv_agg's l2: 0.182395 + 0.0424803\n",
      "[200]\tcv_agg's l2: 0.182224 + 0.039664\n",
      "[300]\tcv_agg's l2: 0.182629 + 0.0391694\n"
     ]
    },
    {
     "name": "stderr",
     "output_type": "stream",
     "text": [
      "bagging, val_score: 0.160831:  10%|#####3                                               | 1/10 [00:02<00:26,  2.98s/it][I 2023-11-05 12:44:05,992] Trial 27 finished with value: 0.18189575903399086 and parameters: {'bagging_fraction': 0.6349776179839657, 'bagging_freq': 3}. Best is trial 27 with value: 0.18189575903399086.\n",
      "bagging, val_score: 0.160831:  10%|#####3                                               | 1/10 [00:02<00:26,  2.98s/it]"
     ]
    },
    {
     "name": "stdout",
     "output_type": "stream",
     "text": [
      "Early stopping, best iteration is:\n",
      "[240]\tcv_agg's l2: 0.160831 + 0.0421699\n",
      "[100]\tcv_agg's l2: 0.1728 + 0.0371057\n",
      "[200]\tcv_agg's l2: 0.170299 + 0.0338727\n",
      "[300]\tcv_agg's l2: 0.171097 + 0.0343893\n"
     ]
    },
    {
     "name": "stderr",
     "output_type": "stream",
     "text": [
      "bagging, val_score: 0.160831:  20%|##########6                                          | 2/10 [00:06<00:25,  3.23s/it][I 2023-11-05 12:44:09,402] Trial 28 finished with value: 0.17095473305768855 and parameters: {'bagging_fraction': 0.897283564342622, 'bagging_freq': 7}. Best is trial 28 with value: 0.17095473305768855.\n",
      "bagging, val_score: 0.160831:  20%|##########6                                          | 2/10 [00:06<00:25,  3.23s/it]"
     ]
    },
    {
     "name": "stdout",
     "output_type": "stream",
     "text": [
      "Early stopping, best iteration is:\n",
      "[240]\tcv_agg's l2: 0.160831 + 0.0421699\n",
      "[100]\tcv_agg's l2: 0.209949 + 0.0332162\n",
      "[200]\tcv_agg's l2: 0.203533 + 0.032176\n",
      "[300]\tcv_agg's l2: 0.201656 + 0.0306201\n"
     ]
    },
    {
     "name": "stderr",
     "output_type": "stream",
     "text": [
      "bagging, val_score: 0.160831:  30%|###############9                                     | 3/10 [00:10<00:24,  3.45s/it][I 2023-11-05 12:44:13,099] Trial 29 finished with value: 0.20211033885114055 and parameters: {'bagging_fraction': 0.41655051534062854, 'bagging_freq': 1}. Best is trial 28 with value: 0.17095473305768855.\n",
      "bagging, val_score: 0.160831:  30%|###############9                                     | 3/10 [00:10<00:24,  3.45s/it]"
     ]
    },
    {
     "name": "stdout",
     "output_type": "stream",
     "text": [
      "Early stopping, best iteration is:\n",
      "[240]\tcv_agg's l2: 0.160831 + 0.0421699\n",
      "[100]\tcv_agg's l2: 0.16309 + 0.0455647\n",
      "[200]\tcv_agg's l2: 0.161494 + 0.0423926\n",
      "[300]\tcv_agg's l2: 0.161105 + 0.0418645\n"
     ]
    },
    {
     "name": "stderr",
     "output_type": "stream",
     "text": [
      "bagging, val_score: 0.160831:  40%|#####################2                               | 4/10 [00:13<00:20,  3.34s/it][I 2023-11-05 12:44:16,289] Trial 30 finished with value: 0.160831336735421 and parameters: {'bagging_fraction': 0.9991618251787997, 'bagging_freq': 7}. Best is trial 30 with value: 0.160831336735421.\n",
      "bagging, val_score: 0.160831:  40%|#####################2                               | 4/10 [00:13<00:20,  3.34s/it]"
     ]
    },
    {
     "name": "stdout",
     "output_type": "stream",
     "text": [
      "Early stopping, best iteration is:\n",
      "[240]\tcv_agg's l2: 0.160831 + 0.0421699\n",
      "[100]\tcv_agg's l2: 0.171272 + 0.0452884\n",
      "[200]\tcv_agg's l2: 0.168511 + 0.041511\n",
      "[300]\tcv_agg's l2: 0.167282 + 0.0394156\n"
     ]
    },
    {
     "name": "stderr",
     "output_type": "stream",
     "text": [
      "bagging, val_score: 0.160831:  50%|##########################5                          | 5/10 [00:16<00:16,  3.27s/it][I 2023-11-05 12:44:19,437] Trial 31 finished with value: 0.16728984052234674 and parameters: {'bagging_fraction': 0.9871617285355185, 'bagging_freq': 7}. Best is trial 30 with value: 0.160831336735421.\n",
      "bagging, val_score: 0.160831:  50%|##########################5                          | 5/10 [00:16<00:16,  3.27s/it]"
     ]
    },
    {
     "name": "stdout",
     "output_type": "stream",
     "text": [
      "Early stopping, best iteration is:\n",
      "[240]\tcv_agg's l2: 0.160831 + 0.0421699\n",
      "[100]\tcv_agg's l2: 0.171353 + 0.0466337\n",
      "[200]\tcv_agg's l2: 0.16903 + 0.042489\n",
      "[300]\tcv_agg's l2: 0.167874 + 0.0406402\n"
     ]
    },
    {
     "name": "stderr",
     "output_type": "stream",
     "text": [
      "bagging, val_score: 0.160831:  60%|###############################8                     | 6/10 [00:19<00:12,  3.18s/it][I 2023-11-05 12:44:22,442] Trial 32 finished with value: 0.16715393271866463 and parameters: {'bagging_fraction': 0.9880431590819158, 'bagging_freq': 7}. Best is trial 30 with value: 0.160831336735421.\n",
      "bagging, val_score: 0.160831:  60%|###############################8                     | 6/10 [00:19<00:12,  3.18s/it]"
     ]
    },
    {
     "name": "stdout",
     "output_type": "stream",
     "text": [
      "Early stopping, best iteration is:\n",
      "[240]\tcv_agg's l2: 0.160831 + 0.0421699\n",
      "[100]\tcv_agg's l2: 0.167436 + 0.0478317\n",
      "[200]\tcv_agg's l2: 0.165263 + 0.0463892\n",
      "[300]\tcv_agg's l2: 0.165456 + 0.0452509\n"
     ]
    },
    {
     "name": "stderr",
     "output_type": "stream",
     "text": [
      "bagging, val_score: 0.160831:  70%|#####################################                | 7/10 [00:22<00:09,  3.19s/it][I 2023-11-05 12:44:25,655] Trial 33 finished with value: 0.16516132397197744 and parameters: {'bagging_fraction': 0.996872900117488, 'bagging_freq': 7}. Best is trial 30 with value: 0.160831336735421.\n",
      "bagging, val_score: 0.160831:  70%|#####################################                | 7/10 [00:22<00:09,  3.19s/it]"
     ]
    },
    {
     "name": "stdout",
     "output_type": "stream",
     "text": [
      "Early stopping, best iteration is:\n",
      "[240]\tcv_agg's l2: 0.160831 + 0.0421699\n",
      "[100]\tcv_agg's l2: 0.168941 + 0.0512507\n",
      "[200]\tcv_agg's l2: 0.165379 + 0.0458012\n",
      "[300]\tcv_agg's l2: 0.165193 + 0.0443712\n"
     ]
    },
    {
     "name": "stderr",
     "output_type": "stream",
     "text": [
      "bagging, val_score: 0.160831:  80%|##########################################4          | 8/10 [00:25<00:06,  3.16s/it][I 2023-11-05 12:44:28,736] Trial 34 finished with value: 0.1650669079348539 and parameters: {'bagging_fraction': 0.9958369630586099, 'bagging_freq': 7}. Best is trial 30 with value: 0.160831336735421.\n",
      "bagging, val_score: 0.160831:  80%|##########################################4          | 8/10 [00:25<00:06,  3.16s/it]"
     ]
    },
    {
     "name": "stdout",
     "output_type": "stream",
     "text": [
      "Early stopping, best iteration is:\n",
      "[240]\tcv_agg's l2: 0.160831 + 0.0421699\n",
      "[100]\tcv_agg's l2: 0.168878 + 0.0451004\n",
      "[200]\tcv_agg's l2: 0.166807 + 0.0409338\n",
      "[300]\tcv_agg's l2: 0.165609 + 0.0396323\n"
     ]
    },
    {
     "name": "stderr",
     "output_type": "stream",
     "text": [
      "bagging, val_score: 0.160831:  90%|###############################################7     | 9/10 [00:28<00:03,  3.13s/it][I 2023-11-05 12:44:31,806] Trial 35 finished with value: 0.16648519336191692 and parameters: {'bagging_fraction': 0.9946882496648367, 'bagging_freq': 5}. Best is trial 30 with value: 0.160831336735421.\n",
      "bagging, val_score: 0.160831:  90%|###############################################7     | 9/10 [00:28<00:03,  3.13s/it]"
     ]
    },
    {
     "name": "stdout",
     "output_type": "stream",
     "text": [
      "Early stopping, best iteration is:\n",
      "[240]\tcv_agg's l2: 0.160831 + 0.0421699\n",
      "[100]\tcv_agg's l2: 0.172064 + 0.0416089\n",
      "[200]\tcv_agg's l2: 0.171234 + 0.0390979\n",
      "[300]\tcv_agg's l2: 0.172952 + 0.0365325\n"
     ]
    },
    {
     "name": "stderr",
     "output_type": "stream",
     "text": [
      "bagging, val_score: 0.160831: 100%|####################################################| 10/10 [00:32<00:00,  3.30s/it][I 2023-11-05 12:44:35,488] Trial 36 finished with value: 0.17228123597373562 and parameters: {'bagging_fraction': 0.833970410416869, 'bagging_freq': 5}. Best is trial 30 with value: 0.160831336735421.\n",
      "bagging, val_score: 0.160831: 100%|####################################################| 10/10 [00:32<00:00,  3.25s/it]\n"
     ]
    },
    {
     "name": "stdout",
     "output_type": "stream",
     "text": [
      "Early stopping, best iteration is:\n",
      "[240]\tcv_agg's l2: 0.160831 + 0.0421699\n"
     ]
    },
    {
     "name": "stderr",
     "output_type": "stream",
     "text": [
      "feature_fraction_stage2, val_score: 0.160831:   0%|                                              | 0/6 [00:00<?, ?it/s]"
     ]
    },
    {
     "name": "stdout",
     "output_type": "stream",
     "text": [
      "[100]\tcv_agg's l2: 0.165994 + 0.0446711\n",
      "[200]\tcv_agg's l2: 0.163344 + 0.0386483\n",
      "[300]\tcv_agg's l2: 0.163719 + 0.0389818\n"
     ]
    },
    {
     "name": "stderr",
     "output_type": "stream",
     "text": [
      "feature_fraction_stage2, val_score: 0.160831:  17%|######3                               | 1/6 [00:02<00:14,  2.81s/it][I 2023-11-05 12:44:38,309] Trial 37 finished with value: 0.1638238503714974 and parameters: {'feature_fraction': 0.52}. Best is trial 37 with value: 0.1638238503714974.\n",
      "feature_fraction_stage2, val_score: 0.160831:  17%|######3                               | 1/6 [00:02<00:14,  2.81s/it]"
     ]
    },
    {
     "name": "stdout",
     "output_type": "stream",
     "text": [
      "Early stopping, best iteration is:\n",
      "[240]\tcv_agg's l2: 0.160831 + 0.0421699\n",
      "[100]\tcv_agg's l2: 0.165994 + 0.0446711\n",
      "[200]\tcv_agg's l2: 0.163344 + 0.0386483\n",
      "[300]\tcv_agg's l2: 0.163719 + 0.0389818\n"
     ]
    },
    {
     "name": "stderr",
     "output_type": "stream",
     "text": [
      "feature_fraction_stage2, val_score: 0.160831:  33%|############6                         | 2/6 [00:05<00:09,  2.48s/it][I 2023-11-05 12:44:40,553] Trial 38 finished with value: 0.1638238503714974 and parameters: {'feature_fraction': 0.552}. Best is trial 37 with value: 0.1638238503714974.\n",
      "feature_fraction_stage2, val_score: 0.160831:  33%|############6                         | 2/6 [00:05<00:09,  2.48s/it]"
     ]
    },
    {
     "name": "stdout",
     "output_type": "stream",
     "text": [
      "Early stopping, best iteration is:\n",
      "[240]\tcv_agg's l2: 0.160831 + 0.0421699\n",
      "[100]\tcv_agg's l2: 0.16309 + 0.0455647\n",
      "[200]\tcv_agg's l2: 0.161494 + 0.0423926\n",
      "[300]\tcv_agg's l2: 0.161105 + 0.0418645\n"
     ]
    },
    {
     "name": "stderr",
     "output_type": "stream",
     "text": [
      "feature_fraction_stage2, val_score: 0.160831:  50%|###################                   | 3/6 [00:07<00:07,  2.37s/it][I 2023-11-05 12:44:42,794] Trial 39 finished with value: 0.160831336735421 and parameters: {'feature_fraction': 0.6479999999999999}. Best is trial 39 with value: 0.160831336735421.\n",
      "feature_fraction_stage2, val_score: 0.160831:  50%|###################                   | 3/6 [00:07<00:07,  2.37s/it]"
     ]
    },
    {
     "name": "stdout",
     "output_type": "stream",
     "text": [
      "Early stopping, best iteration is:\n",
      "[240]\tcv_agg's l2: 0.160831 + 0.0421699\n",
      "[100]\tcv_agg's l2: 0.16309 + 0.0455647\n",
      "[200]\tcv_agg's l2: 0.161494 + 0.0423926\n",
      "[300]\tcv_agg's l2: 0.161105 + 0.0418645\n"
     ]
    },
    {
     "name": "stderr",
     "output_type": "stream",
     "text": [
      "feature_fraction_stage2, val_score: 0.160831:  67%|#########################3            | 4/6 [00:09<00:04,  2.21s/it][I 2023-11-05 12:44:44,752] Trial 40 finished with value: 0.160831336735421 and parameters: {'feature_fraction': 0.584}. Best is trial 39 with value: 0.160831336735421.\n",
      "feature_fraction_stage2, val_score: 0.160831:  67%|#########################3            | 4/6 [00:09<00:04,  2.21s/it]"
     ]
    },
    {
     "name": "stdout",
     "output_type": "stream",
     "text": [
      "Early stopping, best iteration is:\n",
      "[240]\tcv_agg's l2: 0.160831 + 0.0421699\n",
      "[100]\tcv_agg's l2: 0.171525 + 0.0460685\n",
      "[200]\tcv_agg's l2: 0.168619 + 0.0437372\n",
      "[300]\tcv_agg's l2: 0.168165 + 0.0436434\n"
     ]
    },
    {
     "name": "stderr",
     "output_type": "stream",
     "text": [
      "feature_fraction_stage2, val_score: 0.160831:  83%|###############################6      | 5/6 [00:11<00:02,  2.12s/it][I 2023-11-05 12:44:46,710] Trial 41 finished with value: 0.16892981718810873 and parameters: {'feature_fraction': 0.6799999999999999}. Best is trial 39 with value: 0.160831336735421.\n",
      "feature_fraction_stage2, val_score: 0.160831:  83%|###############################6      | 5/6 [00:11<00:02,  2.12s/it]"
     ]
    },
    {
     "name": "stdout",
     "output_type": "stream",
     "text": [
      "Early stopping, best iteration is:\n",
      "[240]\tcv_agg's l2: 0.160831 + 0.0421699\n",
      "[100]\tcv_agg's l2: 0.16309 + 0.0455647\n",
      "[200]\tcv_agg's l2: 0.161494 + 0.0423926\n",
      "[300]\tcv_agg's l2: 0.161105 + 0.0418645\n"
     ]
    },
    {
     "name": "stderr",
     "output_type": "stream",
     "text": [
      "feature_fraction_stage2, val_score: 0.160831: 100%|######################################| 6/6 [00:13<00:00,  2.07s/it][I 2023-11-05 12:44:48,682] Trial 42 finished with value: 0.160831336735421 and parameters: {'feature_fraction': 0.616}. Best is trial 39 with value: 0.160831336735421.\n",
      "feature_fraction_stage2, val_score: 0.160831: 100%|######################################| 6/6 [00:13<00:00,  2.20s/it]\n"
     ]
    },
    {
     "name": "stdout",
     "output_type": "stream",
     "text": [
      "Early stopping, best iteration is:\n",
      "[240]\tcv_agg's l2: 0.160831 + 0.0421699\n"
     ]
    },
    {
     "name": "stderr",
     "output_type": "stream",
     "text": [
      "regularization_factors, val_score: 0.160831:   0%|                                              | 0/20 [00:00<?, ?it/s]"
     ]
    },
    {
     "name": "stdout",
     "output_type": "stream",
     "text": [
      "[100]\tcv_agg's l2: 0.168012 + 0.045149\n",
      "[200]\tcv_agg's l2: 0.165274 + 0.0407654\n",
      "[300]\tcv_agg's l2: 0.16483 + 0.0395251\n"
     ]
    },
    {
     "name": "stderr",
     "output_type": "stream",
     "text": [
      "regularization_factors, val_score: 0.160831:   5%|#9                                    | 1/20 [00:02<00:38,  2.04s/it][I 2023-11-05 12:44:50,727] Trial 43 finished with value: 0.16499250555696582 and parameters: {'lambda_l1': 0.0010463185001080514, 'lambda_l2': 0.10318247023833559}. Best is trial 43 with value: 0.16499250555696582.\n",
      "regularization_factors, val_score: 0.160831:   5%|#9                                    | 1/20 [00:02<00:38,  2.04s/it]"
     ]
    },
    {
     "name": "stdout",
     "output_type": "stream",
     "text": [
      "Early stopping, best iteration is:\n",
      "[240]\tcv_agg's l2: 0.160831 + 0.0421699\n",
      "[100]\tcv_agg's l2: 0.16309 + 0.0455647\n",
      "[200]\tcv_agg's l2: 0.161516 + 0.0423851\n",
      "[300]\tcv_agg's l2: 0.161434 + 0.0417608\n"
     ]
    },
    {
     "name": "stderr",
     "output_type": "stream",
     "text": [
      "regularization_factors, val_score: 0.160831:  10%|###8                                  | 2/20 [00:04<00:37,  2.07s/it][I 2023-11-05 12:44:52,814] Trial 44 finished with value: 0.1609808132289304 and parameters: {'lambda_l1': 3.858558896084842e-08, 'lambda_l2': 1.3104889120710164e-08}. Best is trial 44 with value: 0.1609808132289304.\n",
      "regularization_factors, val_score: 0.160831:  10%|###8                                  | 2/20 [00:04<00:37,  2.07s/it]"
     ]
    },
    {
     "name": "stdout",
     "output_type": "stream",
     "text": [
      "Early stopping, best iteration is:\n",
      "[240]\tcv_agg's l2: 0.160831 + 0.0421699\n",
      "[100]\tcv_agg's l2: 0.219043 + 0.0506414\n",
      "[200]\tcv_agg's l2: 0.215735 + 0.0499271\n"
     ]
    },
    {
     "name": "stderr",
     "output_type": "stream",
     "text": [
      "regularization_factors, val_score: 0.160831:  15%|#####7                                | 3/20 [00:04<00:25,  1.49s/it][I 2023-11-05 12:44:53,625] Trial 45 finished with value: 0.21573333735680164 and parameters: {'lambda_l1': 8.259702310362826, 'lambda_l2': 2.5121430141126644}. Best is trial 44 with value: 0.1609808132289304.\n",
      "regularization_factors, val_score: 0.160831:  15%|#####7                                | 3/20 [00:04<00:25,  1.49s/it]"
     ]
    },
    {
     "name": "stdout",
     "output_type": "stream",
     "text": [
      "[300]\tcv_agg's l2: 0.215733 + 0.0499277\n",
      "Early stopping, best iteration is:\n",
      "[240]\tcv_agg's l2: 0.160831 + 0.0421699\n",
      "[100]\tcv_agg's l2: 0.16309 + 0.0455647\n",
      "[200]\tcv_agg's l2: 0.161516 + 0.0423851\n",
      "[300]\tcv_agg's l2: 0.161434 + 0.0417608\n",
      "Early stopping, best iteration is:\n",
      "[240]\tcv_agg's l2: 0.160831 + 0.0421699\n"
     ]
    },
    {
     "name": "stderr",
     "output_type": "stream",
     "text": [
      "regularization_factors, val_score: 0.160831:  20%|#######6                              | 4/20 [00:06<00:27,  1.70s/it][I 2023-11-05 12:44:55,635] Trial 46 finished with value: 0.16098080911642948 and parameters: {'lambda_l1': 1.4650004144120438e-08, 'lambda_l2': 1.4800301079211949e-05}. Best is trial 46 with value: 0.16098080911642948.\n",
      "regularization_factors, val_score: 0.160831:  20%|#######6                              | 4/20 [00:06<00:27,  1.70s/it]"
     ]
    },
    {
     "name": "stdout",
     "output_type": "stream",
     "text": [
      "[100]\tcv_agg's l2: 0.161766 + 0.0450704\n",
      "[200]\tcv_agg's l2: 0.160101 + 0.0420264\n",
      "[300]\tcv_agg's l2: 0.160949 + 0.0431017\n"
     ]
    },
    {
     "name": "stderr",
     "output_type": "stream",
     "text": [
      "regularization_factors, val_score: 0.159589:  25%|#########5                            | 5/20 [00:08<00:27,  1.82s/it][I 2023-11-05 12:44:57,661] Trial 47 finished with value: 0.15958908542880704 and parameters: {'lambda_l1': 0.0002579762345526756, 'lambda_l2': 0.002441426724014083}. Best is trial 47 with value: 0.15958908542880704.\n",
      "regularization_factors, val_score: 0.159589:  25%|#########5                            | 5/20 [00:08<00:27,  1.82s/it]"
     ]
    },
    {
     "name": "stdout",
     "output_type": "stream",
     "text": [
      "Early stopping, best iteration is:\n",
      "[246]\tcv_agg's l2: 0.159589 + 0.0424796\n",
      "[100]\tcv_agg's l2: 0.163214 + 0.0445605\n",
      "[200]\tcv_agg's l2: 0.161417 + 0.0413698\n",
      "[300]\tcv_agg's l2: 0.162703 + 0.042358\n"
     ]
    },
    {
     "name": "stderr",
     "output_type": "stream",
     "text": [
      "regularization_factors, val_score: 0.159589:  30%|###########4                          | 6/20 [00:11<00:27,  1.94s/it][I 2023-11-05 12:44:59,856] Trial 48 finished with value: 0.16138084074801629 and parameters: {'lambda_l1': 0.0003542341078484628, 'lambda_l2': 0.0010365314403746652}. Best is trial 47 with value: 0.15958908542880704.\n",
      "regularization_factors, val_score: 0.159589:  30%|###########4                          | 6/20 [00:11<00:27,  1.94s/it]"
     ]
    },
    {
     "name": "stdout",
     "output_type": "stream",
     "text": [
      "Early stopping, best iteration is:\n",
      "[246]\tcv_agg's l2: 0.159589 + 0.0424796\n",
      "[100]\tcv_agg's l2: 0.16283 + 0.0447764\n",
      "[200]\tcv_agg's l2: 0.160303 + 0.0424174\n",
      "[300]\tcv_agg's l2: 0.161163 + 0.0423242\n"
     ]
    },
    {
     "name": "stderr",
     "output_type": "stream",
     "text": [
      "regularization_factors, val_score: 0.159589:  35%|#############3                        | 7/20 [00:13<00:25,  1.98s/it][I 2023-11-05 12:45:01,898] Trial 49 finished with value: 0.16010643579548142 and parameters: {'lambda_l1': 9.878483813099288e-06, 'lambda_l2': 0.0015095427912249128}. Best is trial 47 with value: 0.15958908542880704.\n",
      "regularization_factors, val_score: 0.159589:  35%|#############3                        | 7/20 [00:13<00:25,  1.98s/it]"
     ]
    },
    {
     "name": "stdout",
     "output_type": "stream",
     "text": [
      "Early stopping, best iteration is:\n",
      "[246]\tcv_agg's l2: 0.159589 + 0.0424796\n",
      "[100]\tcv_agg's l2: 0.161617 + 0.0451996\n",
      "[200]\tcv_agg's l2: 0.159839 + 0.0426715\n",
      "[300]\tcv_agg's l2: 0.160038 + 0.0430016\n"
     ]
    },
    {
     "name": "stderr",
     "output_type": "stream",
     "text": [
      "regularization_factors, val_score: 0.158935:  40%|###############2                      | 8/20 [00:15<00:24,  2.03s/it][I 2023-11-05 12:45:04,032] Trial 50 finished with value: 0.15893547953926151 and parameters: {'lambda_l1': 4.8303834815292694e-06, 'lambda_l2': 0.002693822448416524}. Best is trial 50 with value: 0.15893547953926151.\n",
      "regularization_factors, val_score: 0.158935:  40%|###############2                      | 8/20 [00:15<00:24,  2.03s/it]"
     ]
    },
    {
     "name": "stdout",
     "output_type": "stream",
     "text": [
      "Early stopping, best iteration is:\n",
      "[243]\tcv_agg's l2: 0.158935 + 0.04285\n",
      "[100]\tcv_agg's l2: 0.162838 + 0.0447734\n",
      "[200]\tcv_agg's l2: 0.161153 + 0.0419986\n",
      "[300]\tcv_agg's l2: 0.162183 + 0.0417458\n"
     ]
    },
    {
     "name": "stderr",
     "output_type": "stream",
     "text": [
      "regularization_factors, val_score: 0.158935:  45%|#################1                    | 9/20 [00:17<00:22,  2.03s/it][I 2023-11-05 12:45:06,060] Trial 51 finished with value: 0.16044812773982736 and parameters: {'lambda_l1': 1.0324170183471028e-05, 'lambda_l2': 0.002307486391440761}. Best is trial 50 with value: 0.15893547953926151.\n",
      "regularization_factors, val_score: 0.158935:  45%|#################1                    | 9/20 [00:17<00:22,  2.03s/it]"
     ]
    },
    {
     "name": "stdout",
     "output_type": "stream",
     "text": [
      "Early stopping, best iteration is:\n",
      "[243]\tcv_agg's l2: 0.158935 + 0.04285\n",
      "[100]\tcv_agg's l2: 0.161617 + 0.0451998\n",
      "[200]\tcv_agg's l2: 0.159839 + 0.0426716\n",
      "[300]\tcv_agg's l2: 0.160038 + 0.0430018\n"
     ]
    },
    {
     "name": "stderr",
     "output_type": "stream",
     "text": [
      "regularization_factors, val_score: 0.158935:  50%|##################5                  | 10/20 [00:19<00:20,  2.05s/it][I 2023-11-05 12:45:08,161] Trial 52 finished with value: 0.15893554136620147 and parameters: {'lambda_l1': 8.569300023610372e-06, 'lambda_l2': 0.002463065297304677}. Best is trial 50 with value: 0.15893547953926151.\n",
      "regularization_factors, val_score: 0.158935:  50%|##################5                  | 10/20 [00:19<00:20,  2.05s/it]"
     ]
    },
    {
     "name": "stdout",
     "output_type": "stream",
     "text": [
      "Early stopping, best iteration is:\n",
      "[243]\tcv_agg's l2: 0.158935 + 0.04285\n",
      "[100]\tcv_agg's l2: 0.161617 + 0.0451997\n",
      "[200]\tcv_agg's l2: 0.159839 + 0.0426716\n",
      "[300]\tcv_agg's l2: 0.160359 + 0.0429292\n"
     ]
    },
    {
     "name": "stderr",
     "output_type": "stream",
     "text": [
      "regularization_factors, val_score: 0.158935:  55%|####################3                | 11/20 [00:21<00:18,  2.02s/it][I 2023-11-05 12:45:10,103] Trial 53 finished with value: 0.15893547447338327 and parameters: {'lambda_l1': 2.09470933157928e-05, 'lambda_l2': 0.0025989819125871207}. Best is trial 53 with value: 0.15893547447338327.\n",
      "regularization_factors, val_score: 0.158935:  55%|####################3                | 11/20 [00:21<00:18,  2.02s/it]"
     ]
    },
    {
     "name": "stdout",
     "output_type": "stream",
     "text": [
      "Early stopping, best iteration is:\n",
      "[243]\tcv_agg's l2: 0.158935 + 0.0428501\n",
      "[100]\tcv_agg's l2: 0.16283 + 0.044776\n",
      "[200]\tcv_agg's l2: 0.160303 + 0.042417\n",
      "[300]\tcv_agg's l2: 0.161162 + 0.0423239\n"
     ]
    },
    {
     "name": "stderr",
     "output_type": "stream",
     "text": [
      "regularization_factors, val_score: 0.158935:  60%|######################2              | 12/20 [00:23<00:16,  2.02s/it][I 2023-11-05 12:45:12,143] Trial 54 finished with value: 0.15982254261554632 and parameters: {'lambda_l1': 9.078071896107794e-06, 'lambda_l2': 0.002080704036173993}. Best is trial 53 with value: 0.15893547447338327.\n",
      "regularization_factors, val_score: 0.158935:  60%|######################2              | 12/20 [00:23<00:16,  2.02s/it]"
     ]
    },
    {
     "name": "stdout",
     "output_type": "stream",
     "text": [
      "Early stopping, best iteration is:\n",
      "[243]\tcv_agg's l2: 0.158935 + 0.0428501\n",
      "[100]\tcv_agg's l2: 0.162838 + 0.0447733\n",
      "[200]\tcv_agg's l2: 0.161153 + 0.0419986\n",
      "[300]\tcv_agg's l2: 0.161962 + 0.0419417\n"
     ]
    },
    {
     "name": "stderr",
     "output_type": "stream",
     "text": [
      "regularization_factors, val_score: 0.158935:  65%|########################             | 13/20 [00:25<00:13,  2.00s/it][I 2023-11-05 12:45:14,074] Trial 55 finished with value: 0.16054474413798672 and parameters: {'lambda_l1': 7.99588012250377e-06, 'lambda_l2': 0.0023966051640019258}. Best is trial 53 with value: 0.15893547447338327.\n",
      "regularization_factors, val_score: 0.158935:  65%|########################             | 13/20 [00:25<00:13,  2.00s/it]"
     ]
    },
    {
     "name": "stdout",
     "output_type": "stream",
     "text": [
      "Early stopping, best iteration is:\n",
      "[243]\tcv_agg's l2: 0.158935 + 0.0428501\n",
      "[100]\tcv_agg's l2: 0.161617 + 0.0451997\n",
      "[200]\tcv_agg's l2: 0.159839 + 0.0426716\n",
      "[300]\tcv_agg's l2: 0.160038 + 0.0430017\n"
     ]
    },
    {
     "name": "stderr",
     "output_type": "stream",
     "text": [
      "regularization_factors, val_score: 0.158935:  70%|#########################9           | 14/20 [00:27<00:11,  1.99s/it][I 2023-11-05 12:45:16,036] Trial 56 finished with value: 0.15893548927805012 and parameters: {'lambda_l1': 1.2841529038024471e-05, 'lambda_l2': 0.002605134861439211}. Best is trial 53 with value: 0.15893547447338327.\n",
      "regularization_factors, val_score: 0.158935:  70%|#########################9           | 14/20 [00:27<00:11,  1.99s/it]"
     ]
    },
    {
     "name": "stdout",
     "output_type": "stream",
     "text": [
      "Early stopping, best iteration is:\n",
      "[243]\tcv_agg's l2: 0.158935 + 0.0428501\n",
      "[100]\tcv_agg's l2: 0.162684 + 0.0447428\n",
      "[200]\tcv_agg's l2: 0.161117 + 0.0421961\n",
      "[300]\tcv_agg's l2: 0.162418 + 0.0429864\n"
     ]
    },
    {
     "name": "stderr",
     "output_type": "stream",
     "text": [
      "regularization_factors, val_score: 0.158935:  75%|###########################7         | 15/20 [00:29<00:09,  1.98s/it][I 2023-11-05 12:45:18,014] Trial 57 finished with value: 0.1606617777163048 and parameters: {'lambda_l1': 1.1989212772821389e-05, 'lambda_l2': 0.0036071936603689013}. Best is trial 53 with value: 0.15893547447338327.\n",
      "regularization_factors, val_score: 0.158935:  75%|###########################7         | 15/20 [00:29<00:09,  1.98s/it]"
     ]
    },
    {
     "name": "stdout",
     "output_type": "stream",
     "text": [
      "Early stopping, best iteration is:\n",
      "[243]\tcv_agg's l2: 0.158935 + 0.0428501\n",
      "[100]\tcv_agg's l2: 0.165463 + 0.0467849\n",
      "[200]\tcv_agg's l2: 0.16321 + 0.043442\n",
      "[300]\tcv_agg's l2: 0.163383 + 0.0441358\n"
     ]
    },
    {
     "name": "stderr",
     "output_type": "stream",
     "text": [
      "regularization_factors, val_score: 0.158935:  80%|#############################6       | 16/20 [00:31<00:07,  1.99s/it][I 2023-11-05 12:45:20,004] Trial 58 finished with value: 0.16302965764884514 and parameters: {'lambda_l1': 6.571591765918425e-06, 'lambda_l2': 0.010627203114165333}. Best is trial 53 with value: 0.15893547447338327.\n",
      "regularization_factors, val_score: 0.158935:  80%|#############################6       | 16/20 [00:31<00:07,  1.99s/it]"
     ]
    },
    {
     "name": "stdout",
     "output_type": "stream",
     "text": [
      "Early stopping, best iteration is:\n",
      "[243]\tcv_agg's l2: 0.158935 + 0.0428501\n",
      "[100]\tcv_agg's l2: 0.16283 + 0.0447773\n",
      "[200]\tcv_agg's l2: 0.160458 + 0.0423796\n",
      "[300]\tcv_agg's l2: 0.161232 + 0.0427168\n"
     ]
    },
    {
     "name": "stderr",
     "output_type": "stream",
     "text": [
      "regularization_factors, val_score: 0.158935:  85%|###############################4     | 17/20 [00:33<00:05,  1.98s/it][I 2023-11-05 12:45:21,985] Trial 59 finished with value: 0.16039210890612257 and parameters: {'lambda_l1': 6.298012211866888e-05, 'lambda_l2': 0.0002895558063752899}. Best is trial 53 with value: 0.15893547447338327.\n",
      "regularization_factors, val_score: 0.158935:  85%|###############################4     | 17/20 [00:33<00:05,  1.98s/it]"
     ]
    },
    {
     "name": "stdout",
     "output_type": "stream",
     "text": [
      "Early stopping, best iteration is:\n",
      "[243]\tcv_agg's l2: 0.158935 + 0.0428501\n",
      "[100]\tcv_agg's l2: 0.167166 + 0.0419901\n",
      "[200]\tcv_agg's l2: 0.163566 + 0.0390955\n",
      "[300]\tcv_agg's l2: 0.164892 + 0.0378069\n"
     ]
    },
    {
     "name": "stderr",
     "output_type": "stream",
     "text": [
      "regularization_factors, val_score: 0.158935:  90%|#################################3   | 18/20 [00:35<00:04,  2.01s/it][I 2023-11-05 12:45:24,066] Trial 60 finished with value: 0.16381733623569333 and parameters: {'lambda_l1': 1.6202021859209081e-06, 'lambda_l2': 0.02655123314811717}. Best is trial 53 with value: 0.15893547447338327.\n",
      "regularization_factors, val_score: 0.158935:  90%|#################################3   | 18/20 [00:35<00:04,  2.01s/it]"
     ]
    },
    {
     "name": "stdout",
     "output_type": "stream",
     "text": [
      "Early stopping, best iteration is:\n",
      "[243]\tcv_agg's l2: 0.158935 + 0.0428501\n",
      "[100]\tcv_agg's l2: 0.16283 + 0.0447771\n",
      "[200]\tcv_agg's l2: 0.160546 + 0.0423438\n",
      "[300]\tcv_agg's l2: 0.161378 + 0.0426398\n"
     ]
    },
    {
     "name": "stderr",
     "output_type": "stream",
     "text": [
      "regularization_factors, val_score: 0.158935:  95%|###################################1 | 19/20 [00:37<00:02,  2.02s/it][I 2023-11-05 12:45:26,107] Trial 61 finished with value: 0.15996051264617628 and parameters: {'lambda_l1': 2.9663275958186627e-05, 'lambda_l2': 0.0004946899832513885}. Best is trial 53 with value: 0.15893547447338327.\n",
      "regularization_factors, val_score: 0.158935:  95%|###################################1 | 19/20 [00:37<00:02,  2.02s/it]"
     ]
    },
    {
     "name": "stdout",
     "output_type": "stream",
     "text": [
      "Early stopping, best iteration is:\n",
      "[243]\tcv_agg's l2: 0.158935 + 0.0428501\n",
      "[100]\tcv_agg's l2: 0.162979 + 0.0446422\n",
      "[200]\tcv_agg's l2: 0.161021 + 0.0418993\n",
      "[300]\tcv_agg's l2: 0.161757 + 0.0425888\n"
     ]
    },
    {
     "name": "stderr",
     "output_type": "stream",
     "text": [
      "regularization_factors, val_score: 0.158935: 100%|#####################################| 20/20 [00:39<00:00,  2.03s/it][I 2023-11-05 12:45:28,164] Trial 62 finished with value: 0.16067434883269055 and parameters: {'lambda_l1': 0.00010121116793323836, 'lambda_l2': 0.0002067166657421267}. Best is trial 53 with value: 0.15893547447338327.\n",
      "regularization_factors, val_score: 0.158935: 100%|#####################################| 20/20 [00:39<00:00,  1.97s/it]\n"
     ]
    },
    {
     "name": "stdout",
     "output_type": "stream",
     "text": [
      "Early stopping, best iteration is:\n",
      "[243]\tcv_agg's l2: 0.158935 + 0.0428501\n"
     ]
    },
    {
     "name": "stderr",
     "output_type": "stream",
     "text": [
      "min_data_in_leaf, val_score: 0.158935:   0%|                                                     | 0/5 [00:00<?, ?it/s]"
     ]
    },
    {
     "name": "stdout",
     "output_type": "stream",
     "text": [
      "[100]\tcv_agg's l2: 0.668251 + 0.044344\n",
      "[200]\tcv_agg's l2: 0.63353 + 0.0490032\n"
     ]
    },
    {
     "name": "stderr",
     "output_type": "stream",
     "text": [
      "min_data_in_leaf, val_score: 0.158935:  20%|#########                                    | 1/5 [00:00<00:03,  1.04it/s][I 2023-11-05 12:45:29,131] Trial 63 finished with value: 0.6260923658060751 and parameters: {'min_child_samples': 100}. Best is trial 63 with value: 0.6260923658060751.\n",
      "min_data_in_leaf, val_score: 0.158935:  20%|#########                                    | 1/5 [00:00<00:03,  1.04it/s]"
     ]
    },
    {
     "name": "stdout",
     "output_type": "stream",
     "text": [
      "[300]\tcv_agg's l2: 0.617071 + 0.0528322\n",
      "Early stopping, best iteration is:\n",
      "[243]\tcv_agg's l2: 0.158935 + 0.0428501\n",
      "[100]\tcv_agg's l2: 0.158031 + 0.0431286\n",
      "[200]\tcv_agg's l2: 0.153582 + 0.0408148\n",
      "[300]\tcv_agg's l2: 0.152851 + 0.0391415\n",
      "[400]\tcv_agg's l2: 0.151948 + 0.0380735\n",
      "[500]\tcv_agg's l2: 0.151616 + 0.0377432\n",
      "[600]\tcv_agg's l2: 0.151553 + 0.0373442\n"
     ]
    },
    {
     "name": "stderr",
     "output_type": "stream",
     "text": [
      "min_data_in_leaf, val_score: 0.151472:  40%|##################                           | 2/5 [00:05<00:08,  2.81s/it][I 2023-11-05 12:45:33,232] Trial 64 finished with value: 0.15147242780087353 and parameters: {'min_child_samples': 5}. Best is trial 64 with value: 0.15147242780087353.\n",
      "min_data_in_leaf, val_score: 0.151472:  40%|##################                           | 2/5 [00:05<00:08,  2.81s/it]"
     ]
    },
    {
     "name": "stdout",
     "output_type": "stream",
     "text": [
      "Early stopping, best iteration is:\n",
      "[587]\tcv_agg's l2: 0.151472 + 0.0373382\n",
      "[100]\tcv_agg's l2: 0.178781 + 0.0444995\n",
      "[200]\tcv_agg's l2: 0.174269 + 0.0414966\n",
      "[300]\tcv_agg's l2: 0.174658 + 0.0411564\n",
      "[400]\tcv_agg's l2: 0.174949 + 0.0415011\n",
      "[500]\tcv_agg's l2: 0.175138 + 0.04152\n",
      "[600]\tcv_agg's l2: 0.175716 + 0.0412748\n"
     ]
    },
    {
     "name": "stderr",
     "output_type": "stream",
     "text": [
      "min_data_in_leaf, val_score: 0.151472:  60%|###########################                  | 3/5 [00:09<00:06,  3.37s/it][I 2023-11-05 12:45:37,271] Trial 65 finished with value: 0.17556104033278436 and parameters: {'min_child_samples': 25}. Best is trial 64 with value: 0.15147242780087353.\n",
      "min_data_in_leaf, val_score: 0.151472:  60%|###########################                  | 3/5 [00:09<00:06,  3.37s/it]"
     ]
    },
    {
     "name": "stdout",
     "output_type": "stream",
     "text": [
      "Early stopping, best iteration is:\n",
      "[587]\tcv_agg's l2: 0.151472 + 0.0373382\n",
      "[100]\tcv_agg's l2: 0.159495 + 0.0431407\n",
      "[200]\tcv_agg's l2: 0.154768 + 0.0390815\n",
      "[300]\tcv_agg's l2: 0.152194 + 0.0380226\n",
      "[400]\tcv_agg's l2: 0.151598 + 0.0364424\n",
      "[500]\tcv_agg's l2: 0.151594 + 0.0363166\n",
      "[600]\tcv_agg's l2: 0.151885 + 0.0359553\n"
     ]
    },
    {
     "name": "stderr",
     "output_type": "stream",
     "text": [
      "min_data_in_leaf, val_score: 0.151472:  80%|####################################         | 4/5 [00:12<00:03,  3.56s/it][I 2023-11-05 12:45:41,125] Trial 66 finished with value: 0.1519327810172625 and parameters: {'min_child_samples': 10}. Best is trial 64 with value: 0.15147242780087353.\n",
      "min_data_in_leaf, val_score: 0.151472:  80%|####################################         | 4/5 [00:12<00:03,  3.56s/it]"
     ]
    },
    {
     "name": "stdout",
     "output_type": "stream",
     "text": [
      "Early stopping, best iteration is:\n",
      "[587]\tcv_agg's l2: 0.151472 + 0.0373382\n",
      "[100]\tcv_agg's l2: 0.233498 + 0.0455353\n",
      "[200]\tcv_agg's l2: 0.224848 + 0.043701\n",
      "[300]\tcv_agg's l2: 0.220442 + 0.0432703\n",
      "[400]\tcv_agg's l2: 0.218967 + 0.0424074\n",
      "[500]\tcv_agg's l2: 0.216838 + 0.04279\n",
      "[600]\tcv_agg's l2: 0.216621 + 0.0422909\n"
     ]
    },
    {
     "name": "stderr",
     "output_type": "stream",
     "text": [
      "min_data_in_leaf, val_score: 0.151472: 100%|#############################################| 5/5 [00:16<00:00,  3.43s/it][I 2023-11-05 12:45:44,327] Trial 67 finished with value: 0.21684062614528182 and parameters: {'min_child_samples': 50}. Best is trial 64 with value: 0.15147242780087353.\n",
      "min_data_in_leaf, val_score: 0.151472: 100%|#############################################| 5/5 [00:16<00:00,  3.23s/it]"
     ]
    },
    {
     "name": "stdout",
     "output_type": "stream",
     "text": [
      "Early stopping, best iteration is:\n",
      "[587]\tcv_agg's l2: 0.151472 + 0.0373382\n"
     ]
    },
    {
     "name": "stderr",
     "output_type": "stream",
     "text": [
      "\n"
     ]
    }
   ],
   "source": [
    "import optuna.integration.lightgbm as lgb\n",
    "from lightgbm import early_stopping\n",
    "from sklearn.model_selection import KFold\n",
    "from sklearn.model_selection import RepeatedKFold\n",
    "\n",
    "\n",
    "lgb_train = lgb.Dataset(X_train_random_split, y_train_random_split)\n",
    "\n",
    "params = {\n",
    "    \"boosting_type\": \"gbdt\",\n",
    "    \"objective\": \"regression\",\n",
    "    \"metric\": \"l2\",\n",
    "    \"verbosity\": -1,\n",
    "}\n",
    "\n",
    "tuner = lgb.LightGBMTunerCV(\n",
    "    params,\n",
    "    lgb_train,\n",
    "    folds=KFold(n_splits=5),\n",
    "    num_boost_round=10000,\n",
    "    callbacks=[early_stopping(100), log_evaluation(100)],\n",
    ")\n",
    "\n",
    "tuner.run()"
   ]
  },
  {
   "cell_type": "code",
   "execution_count": 38,
   "id": "c07cf3c6",
   "metadata": {},
   "outputs": [
    {
     "name": "stdout",
     "output_type": "stream",
     "text": [
      "Best score: 0.15147242780087353\n",
      "Params: \n",
      "    boosting_type: gbdt\n",
      "    objective: regression\n",
      "    metric: l2\n",
      "    verbosity: -1\n",
      "    feature_pre_filter: False\n",
      "    lambda_l1: 2.09470933157928e-05\n",
      "    lambda_l2: 0.0025989819125871207\n",
      "    num_leaves: 15\n",
      "    feature_fraction: 0.6\n",
      "    bagging_fraction: 1.0\n",
      "    bagging_freq: 0\n",
      "    min_child_samples: 5\n"
     ]
    }
   ],
   "source": [
    "print(f\"Best score: {tuner.best_score}\")\n",
    "best_params = tuner.best_params\n",
    "print(\"Params: \")\n",
    "for key, value in best_params.items():\n",
    "    print(\"    {}: {}\".format(key, value))"
   ]
  },
  {
   "cell_type": "code",
   "execution_count": 39,
   "id": "47a1bc33",
   "metadata": {},
   "outputs": [],
   "source": [
    "import lightgbm as lgb\n",
    "\n",
    "lgb_tuned = lgb.train(\n",
    "    best_params,\n",
    "    lgb_train,\n",
    "    num_boost_round=10000,\n",
    ")"
   ]
  },
  {
   "cell_type": "code",
   "execution_count": 40,
   "id": "4c17765e",
   "metadata": {},
   "outputs": [
    {
     "name": "stdout",
     "output_type": "stream",
     "text": [
      "RMSE train: 0.00\n",
      "RMSE test: 0.36\n",
      "MAE test: 0.24\n",
      "\n"
     ]
    }
   ],
   "source": [
    "rmse, mae = assess_regression_model(\n",
    "    lgb_tuned,\n",
    "    X_train_random_split,\n",
    "    X_test_random_split,\n",
    "    y_train_random_split,\n",
    "    y_test_random_split,\n",
    ")"
   ]
  },
  {
   "cell_type": "code",
   "execution_count": 41,
   "id": "9caec811",
   "metadata": {},
   "outputs": [],
   "source": [
    "results.loc[3] = [\"random\", \"Optuna\", \"expanded\", rmse, mae]"
   ]
  },
  {
   "cell_type": "markdown",
   "id": "47fed830",
   "metadata": {},
   "source": [
    "###### MAE by level"
   ]
  },
  {
   "cell_type": "code",
   "execution_count": 42,
   "id": "c12fe14b",
   "metadata": {},
   "outputs": [
    {
     "data": {
      "image/png": "[encoded data removed]",
      "text/plain": [
       "<Figure size 720x432 with 1 Axes>"
      ]
     },
     "metadata": {
      "needs_background": "light"
     },
     "output_type": "display_data"
    }
   ],
   "source": [
    "plot_mae_by_level(\n",
    "    y_test_random_split,\n",
    "    y_pred_test,\n",
    "    title=\"MAE by level for tuned LightGBM with expanded features and random split\",\n",
    ")"
   ]
  },
  {
   "cell_type": "code",
   "execution_count": 43,
   "id": "859f12f2",
   "metadata": {},
   "outputs": [
    {
     "name": "stdout",
     "output_type": "stream",
     "text": [
      "Default:\n",
      "RMSE: 0.22\n",
      "\n",
      "Round type: round\n",
      "RMSE: 0.25\n",
      "\n",
      "Round type: 0.33\n",
      "RMSE: 0.25\n",
      "\n",
      "Round type: 0.45\n",
      "RMSE: 0.24\n",
      "\n"
     ]
    }
   ],
   "source": [
    "predict = lgb_tuned.predict(X_test)\n",
    "check_round_predictions([\"round\", 0.33, 0.45], y_test, predict)"
   ]
  },
  {
   "cell_type": "code",
   "execution_count": 44,
   "id": "a046eead",
   "metadata": {},
   "outputs": [
    {
     "data": {
      "image/png": "[encoded data removed]",
      "text/plain": [
       "<Figure size 432x288 with 2 Axes>"
      ]
     },
     "metadata": {
      "needs_background": "light"
     },
     "output_type": "display_data"
    }
   ],
   "source": [
    "plot_confusion_matrix(\n",
    "    \"round\",\n",
    "    predict,\n",
    "    y_test,\n",
    "    title=\"Confusion matrix for tuned LightGBM with expanded features and random split\",\n",
    ")"
   ]
  },
  {
   "cell_type": "markdown",
   "id": "2e230699",
   "metadata": {},
   "source": [
    "## Summary"
   ]
  },
  {
   "cell_type": "code",
   "execution_count": 45,
   "id": "2edd08be",
   "metadata": {},
   "outputs": [
    {
     "data": {
      "text/html": [
       "<div>\n",
       "<style scoped>\n",
       "    .dataframe tbody tr th:only-of-type {\n",
       "        vertical-align: middle;\n",
       "    }\n",
       "\n",
       "    .dataframe tbody tr th {\n",
       "        vertical-align: top;\n",
       "    }\n",
       "\n",
       "    .dataframe thead th {\n",
       "        text-align: right;\n",
       "    }\n",
       "</style>\n",
       "<table border=\"1\" class=\"dataframe\">\n",
       "  <thead>\n",
       "    <tr style=\"text-align: right;\">\n",
       "      <th></th>\n",
       "      <th>Split type</th>\n",
       "      <th>Tuning type</th>\n",
       "      <th>Set of features</th>\n",
       "      <th>RMSE</th>\n",
       "      <th>MAE</th>\n",
       "    </tr>\n",
       "  </thead>\n",
       "  <tbody>\n",
       "    <tr>\n",
       "      <th>0</th>\n",
       "      <td>chronological</td>\n",
       "      <td>default</td>\n",
       "      <td>expanded</td>\n",
       "      <td>0.510772</td>\n",
       "      <td>0.357206</td>\n",
       "    </tr>\n",
       "    <tr>\n",
       "      <th>1</th>\n",
       "      <td>chronological</td>\n",
       "      <td>Optuna</td>\n",
       "      <td>expanded</td>\n",
       "      <td>0.466000</td>\n",
       "      <td>0.338290</td>\n",
       "    </tr>\n",
       "    <tr>\n",
       "      <th>2</th>\n",
       "      <td>random</td>\n",
       "      <td>default</td>\n",
       "      <td>expanded</td>\n",
       "      <td>0.384853</td>\n",
       "      <td>0.267273</td>\n",
       "    </tr>\n",
       "    <tr>\n",
       "      <th>3</th>\n",
       "      <td>random</td>\n",
       "      <td>Optuna</td>\n",
       "      <td>expanded</td>\n",
       "      <td>0.360392</td>\n",
       "      <td>0.236889</td>\n",
       "    </tr>\n",
       "  </tbody>\n",
       "</table>\n",
       "</div>"
      ],
      "text/plain": [
       "      Split type Tuning type Set of features      RMSE       MAE\n",
       "0  chronological     default        expanded  0.510772  0.357206\n",
       "1  chronological      Optuna        expanded  0.466000  0.338290\n",
       "2         random     default        expanded  0.384853  0.267273\n",
       "3         random      Optuna        expanded  0.360392  0.236889"
      ]
     },
     "execution_count": 45,
     "metadata": {},
     "output_type": "execute_result"
    }
   ],
   "source": [
    "results"
   ]
  },
  {
   "cell_type": "code",
   "execution_count": 46,
   "id": "7e403b40",
   "metadata": {},
   "outputs": [],
   "source": [
    "from training.results import plot_summary"
   ]
  },
  {
   "cell_type": "code",
   "execution_count": 47,
   "id": "1072db81",
   "metadata": {},
   "outputs": [
    {
     "data": {
      "image/png": "[encoded data removed]",
      "text/plain": [
       "<Figure size 1440x576 with 1 Axes>"
      ]
     },
     "metadata": {
      "needs_background": "light"
     },
     "output_type": "display_data"
    }
   ],
   "source": [
    "plot_summary(results, \"RMSE\", title=\"RMSE for LightGBM with expanded features\")"
   ]
  },
  {
   "cell_type": "code",
   "execution_count": 48,
   "id": "0a073f44",
   "metadata": {},
   "outputs": [
    {
     "data": {
      "image/png": "[encoded data removed]",
      "text/plain": [
       "<Figure size 1440x576 with 1 Axes>"
      ]
     },
     "metadata": {
      "needs_background": "light"
     },
     "output_type": "display_data"
    }
   ],
   "source": [
    "plot_summary(results, \"MAE\", title=\"MAE for LightGBM with expanded features\")"
   ]
  },
  {
   "cell_type": "code",
   "execution_count": 49,
   "id": "157af270",
   "metadata": {},
   "outputs": [],
   "source": [
    "results.to_json(\"./lightgbm_expanded_results.json\", indent=2)"
   ]
  },
  {
   "cell_type": "code",
   "execution_count": null,
   "id": "1b44b486",
   "metadata": {},
   "outputs": [],
   "source": []
  }
 ],
 "metadata": {
  "kernelspec": {
   "display_name": "Python 3 (ipykernel)",
   "language": "python",
   "name": "python3"
  },
  "language_info": {
   "codemirror_mode": {
    "name": "ipython",
    "version": 3
   },
   "file_extension": ".py",
   "mimetype": "text/x-python",
   "name": "python",
   "nbconvert_exporter": "python",
   "pygments_lexer": "ipython3",
   "version": "3.10.4"
  }
 },
 "nbformat": 4,
 "nbformat_minor": 5
}
