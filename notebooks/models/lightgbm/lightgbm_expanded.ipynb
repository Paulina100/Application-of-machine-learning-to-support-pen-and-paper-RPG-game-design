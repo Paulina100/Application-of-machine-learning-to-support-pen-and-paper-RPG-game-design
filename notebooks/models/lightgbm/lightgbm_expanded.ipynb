{
 "cells": [
  {
   "cell_type": "markdown",
   "id": "b61f8435",
   "metadata": {},
   "source": [
    "# LightGBM\n",
    "### Parameters:\n",
    "* **abilities**:\n",
    "    * **cha**\n",
    "    * **con**\n",
    "    * **dex**\n",
    "    * **int**\n",
    "    * **str**\n",
    "    * **wis**\n",
    "* **attributes**\n",
    "    * **hp**\n",
    "    * **ac**\n",
    "    * **perception**\n",
    "* **saves**\n",
    "    * **fortitude**\n",
    "    * **reflex**\n",
    "    * **will**\n",
    "* **resources**\n",
    "    * **focus**\n",
    "\n",
    "### Prediction: *level*\n",
    "\n",
    "## Loading data"
   ]
  },
  {
   "cell_type": "code",
   "execution_count": 1,
   "id": "64151d43",
   "metadata": {},
   "outputs": [],
   "source": [
    "import numpy as np\n",
    "import pandas as pd\n",
    "import sys\n",
    "\n",
    "import os\n",
    "import pathlib\n",
    "\n",
    "sys.path.append(\"../../..\")\n",
    "from training.creating_dataset import load_and_preprocess_data\n",
    "\n",
    "current_path = os.getcwd()\n",
    "DATASETS_DIR = pathlib.Path(current_path).parent.parent.parent / \"pathfinder_2e_data\"\n",
    "DATASET_FILES = [\n",
    "    \"pathfinder-bestiary.db\",\n",
    "    \"pathfinder-bestiary-2.db\",\n",
    "    \"pathfinder-bestiary-3.db\",\n",
    "]\n",
    "DATASET_PATHS = [f\"{DATASETS_DIR}/{file}\" for file in DATASET_FILES]\n",
    "features = [\n",
    "    \"cha\",\n",
    "    \"con\",\n",
    "    \"dex\",\n",
    "    \"int\",\n",
    "    \"str\",\n",
    "    \"wis\",\n",
    "    \"ac\",\n",
    "    \"hp\",\n",
    "    \"perception\",\n",
    "    \"fortitude\",\n",
    "    \"reflex\",\n",
    "    \"will\",\n",
    "    \"focus\",\n",
    "]\n",
    "\n",
    "df = load_and_preprocess_data(\n",
    "    DATASET_PATHS,\n",
    "    characteristics=features,\n",
    ")"
   ]
  },
  {
   "cell_type": "code",
   "execution_count": 2,
   "id": "ec1e8424",
   "metadata": {},
   "outputs": [
    {
     "name": "stdout",
     "output_type": "stream",
     "text": [
      "<class 'pandas.core.frame.DataFrame'>\n",
      "Int64Index: 1206 entries, 0 to 1205\n",
      "Data columns (total 15 columns):\n",
      " #   Column      Non-Null Count  Dtype \n",
      "---  ------      --------------  ----- \n",
      " 0   con         1206 non-null   int64 \n",
      " 1   int         1206 non-null   int64 \n",
      " 2   str         1206 non-null   int64 \n",
      " 3   will        1206 non-null   int64 \n",
      " 4   book        1206 non-null   object\n",
      " 5   wis         1206 non-null   int64 \n",
      " 6   hp          1206 non-null   int64 \n",
      " 7   perception  1206 non-null   int64 \n",
      " 8   cha         1206 non-null   int64 \n",
      " 9   level       1206 non-null   int64 \n",
      " 10  reflex      1206 non-null   int64 \n",
      " 11  ac          1206 non-null   int64 \n",
      " 12  dex         1206 non-null   int64 \n",
      " 13  fortitude   1206 non-null   int64 \n",
      " 14  focus       1206 non-null   int32 \n",
      "dtypes: int32(1), int64(13), object(1)\n",
      "memory usage: 146.0+ KB\n"
     ]
    }
   ],
   "source": [
    "df.info()"
   ]
  },
  {
   "cell_type": "code",
   "execution_count": 3,
   "id": "211d736c",
   "metadata": {},
   "outputs": [
    {
     "data": {
      "text/html": [
       "<div>\n",
       "<style scoped>\n",
       "    .dataframe tbody tr th:only-of-type {\n",
       "        vertical-align: middle;\n",
       "    }\n",
       "\n",
       "    .dataframe tbody tr th {\n",
       "        vertical-align: top;\n",
       "    }\n",
       "\n",
       "    .dataframe thead th {\n",
       "        text-align: right;\n",
       "    }\n",
       "</style>\n",
       "<table border=\"1\" class=\"dataframe\">\n",
       "  <thead>\n",
       "    <tr style=\"text-align: right;\">\n",
       "      <th></th>\n",
       "      <th>con</th>\n",
       "      <th>int</th>\n",
       "      <th>str</th>\n",
       "      <th>will</th>\n",
       "      <th>book</th>\n",
       "      <th>wis</th>\n",
       "      <th>hp</th>\n",
       "      <th>perception</th>\n",
       "      <th>cha</th>\n",
       "      <th>level</th>\n",
       "      <th>reflex</th>\n",
       "      <th>ac</th>\n",
       "      <th>dex</th>\n",
       "      <th>fortitude</th>\n",
       "      <th>focus</th>\n",
       "    </tr>\n",
       "  </thead>\n",
       "  <tbody>\n",
       "    <tr>\n",
       "      <th>0</th>\n",
       "      <td>5</td>\n",
       "      <td>1</td>\n",
       "      <td>7</td>\n",
       "      <td>17</td>\n",
       "      <td>Pathfinder Bestiary</td>\n",
       "      <td>2</td>\n",
       "      <td>215</td>\n",
       "      <td>20</td>\n",
       "      <td>1</td>\n",
       "      <td>10</td>\n",
       "      <td>19</td>\n",
       "      <td>29</td>\n",
       "      <td>2</td>\n",
       "      <td>22</td>\n",
       "      <td>1</td>\n",
       "    </tr>\n",
       "    <tr>\n",
       "      <th>1</th>\n",
       "      <td>5</td>\n",
       "      <td>-4</td>\n",
       "      <td>9</td>\n",
       "      <td>16</td>\n",
       "      <td>Pathfinder Bestiary</td>\n",
       "      <td>2</td>\n",
       "      <td>220</td>\n",
       "      <td>16</td>\n",
       "      <td>1</td>\n",
       "      <td>10</td>\n",
       "      <td>14</td>\n",
       "      <td>28</td>\n",
       "      <td>0</td>\n",
       "      <td>21</td>\n",
       "      <td>0</td>\n",
       "    </tr>\n",
       "    <tr>\n",
       "      <th>2</th>\n",
       "      <td>6</td>\n",
       "      <td>-4</td>\n",
       "      <td>7</td>\n",
       "      <td>15</td>\n",
       "      <td>Pathfinder Bestiary</td>\n",
       "      <td>3</td>\n",
       "      <td>175</td>\n",
       "      <td>17</td>\n",
       "      <td>-2</td>\n",
       "      <td>8</td>\n",
       "      <td>17</td>\n",
       "      <td>25</td>\n",
       "      <td>3</td>\n",
       "      <td>20</td>\n",
       "      <td>0</td>\n",
       "    </tr>\n",
       "    <tr>\n",
       "      <th>3</th>\n",
       "      <td>5</td>\n",
       "      <td>6</td>\n",
       "      <td>7</td>\n",
       "      <td>32</td>\n",
       "      <td>Pathfinder Bestiary</td>\n",
       "      <td>5</td>\n",
       "      <td>315</td>\n",
       "      <td>30</td>\n",
       "      <td>6</td>\n",
       "      <td>17</td>\n",
       "      <td>29</td>\n",
       "      <td>41</td>\n",
       "      <td>4</td>\n",
       "      <td>30</td>\n",
       "      <td>1</td>\n",
       "    </tr>\n",
       "    <tr>\n",
       "      <th>4</th>\n",
       "      <td>1</td>\n",
       "      <td>-1</td>\n",
       "      <td>-5</td>\n",
       "      <td>4</td>\n",
       "      <td>Pathfinder Bestiary</td>\n",
       "      <td>1</td>\n",
       "      <td>20</td>\n",
       "      <td>6</td>\n",
       "      <td>1</td>\n",
       "      <td>1</td>\n",
       "      <td>10</td>\n",
       "      <td>16</td>\n",
       "      <td>3</td>\n",
       "      <td>6</td>\n",
       "      <td>1</td>\n",
       "    </tr>\n",
       "  </tbody>\n",
       "</table>\n",
       "</div>"
      ],
      "text/plain": [
       "   con  int  str  will                 book  wis   hp  perception  cha  level  \\\n",
       "0    5    1    7    17  Pathfinder Bestiary    2  215          20    1     10   \n",
       "1    5   -4    9    16  Pathfinder Bestiary    2  220          16    1     10   \n",
       "2    6   -4    7    15  Pathfinder Bestiary    3  175          17   -2      8   \n",
       "3    5    6    7    32  Pathfinder Bestiary    5  315          30    6     17   \n",
       "4    1   -1   -5     4  Pathfinder Bestiary    1   20           6    1      1   \n",
       "\n",
       "   reflex  ac  dex  fortitude  focus  \n",
       "0      19  29    2         22      1  \n",
       "1      14  28    0         21      0  \n",
       "2      17  25    3         20      0  \n",
       "3      29  41    4         30      1  \n",
       "4      10  16    3          6      1  "
      ]
     },
     "execution_count": 3,
     "metadata": {},
     "output_type": "execute_result"
    }
   ],
   "source": [
    "df.head()"
   ]
  },
  {
   "cell_type": "markdown",
   "id": "1bf55cc1",
   "metadata": {},
   "source": [
    "###### Level"
   ]
  },
  {
   "cell_type": "code",
   "execution_count": 4,
   "id": "2d322d72",
   "metadata": {},
   "outputs": [
    {
     "data": {
      "text/plain": [
       "0       10\n",
       "1       10\n",
       "2        8\n",
       "3       17\n",
       "4        1\n",
       "        ..\n",
       "1201    20\n",
       "1202    -1\n",
       "1203    12\n",
       "1204     6\n",
       "1205     6\n",
       "Name: level, Length: 1206, dtype: int64"
      ]
     },
     "execution_count": 4,
     "metadata": {},
     "output_type": "execute_result"
    }
   ],
   "source": [
    "y = df[\"level\"]\n",
    "y"
   ]
  },
  {
   "cell_type": "code",
   "execution_count": 5,
   "id": "e7887f19",
   "metadata": {},
   "outputs": [],
   "source": [
    "from collections import defaultdict\n",
    "\n",
    "\n",
    "lvl_stat = defaultdict(lambda: 0)\n",
    "\n",
    "for lvl in y:\n",
    "    lvl_stat[lvl] += 1"
   ]
  },
  {
   "cell_type": "code",
   "execution_count": 6,
   "id": "c982e6d0",
   "metadata": {},
   "outputs": [
    {
     "data": {
      "text/html": [
       "<div>\n",
       "<style scoped>\n",
       "    .dataframe tbody tr th:only-of-type {\n",
       "        vertical-align: middle;\n",
       "    }\n",
       "\n",
       "    .dataframe tbody tr th {\n",
       "        vertical-align: top;\n",
       "    }\n",
       "\n",
       "    .dataframe thead th {\n",
       "        text-align: right;\n",
       "    }\n",
       "</style>\n",
       "<table border=\"1\" class=\"dataframe\">\n",
       "  <thead>\n",
       "    <tr style=\"text-align: right;\">\n",
       "      <th></th>\n",
       "      <th>lvl</th>\n",
       "      <th>count</th>\n",
       "    </tr>\n",
       "  </thead>\n",
       "  <tbody>\n",
       "    <tr>\n",
       "      <th>0</th>\n",
       "      <td>-1</td>\n",
       "      <td>34</td>\n",
       "    </tr>\n",
       "    <tr>\n",
       "      <th>1</th>\n",
       "      <td>0</td>\n",
       "      <td>27</td>\n",
       "    </tr>\n",
       "    <tr>\n",
       "      <th>2</th>\n",
       "      <td>1</td>\n",
       "      <td>127</td>\n",
       "    </tr>\n",
       "    <tr>\n",
       "      <th>3</th>\n",
       "      <td>2</td>\n",
       "      <td>121</td>\n",
       "    </tr>\n",
       "    <tr>\n",
       "      <th>4</th>\n",
       "      <td>3</td>\n",
       "      <td>95</td>\n",
       "    </tr>\n",
       "    <tr>\n",
       "      <th>5</th>\n",
       "      <td>4</td>\n",
       "      <td>82</td>\n",
       "    </tr>\n",
       "    <tr>\n",
       "      <th>6</th>\n",
       "      <td>5</td>\n",
       "      <td>76</td>\n",
       "    </tr>\n",
       "    <tr>\n",
       "      <th>7</th>\n",
       "      <td>6</td>\n",
       "      <td>72</td>\n",
       "    </tr>\n",
       "    <tr>\n",
       "      <th>8</th>\n",
       "      <td>7</td>\n",
       "      <td>77</td>\n",
       "    </tr>\n",
       "    <tr>\n",
       "      <th>9</th>\n",
       "      <td>8</td>\n",
       "      <td>68</td>\n",
       "    </tr>\n",
       "    <tr>\n",
       "      <th>10</th>\n",
       "      <td>9</td>\n",
       "      <td>63</td>\n",
       "    </tr>\n",
       "    <tr>\n",
       "      <th>11</th>\n",
       "      <td>10</td>\n",
       "      <td>58</td>\n",
       "    </tr>\n",
       "    <tr>\n",
       "      <th>12</th>\n",
       "      <td>11</td>\n",
       "      <td>40</td>\n",
       "    </tr>\n",
       "    <tr>\n",
       "      <th>13</th>\n",
       "      <td>12</td>\n",
       "      <td>41</td>\n",
       "    </tr>\n",
       "    <tr>\n",
       "      <th>14</th>\n",
       "      <td>13</td>\n",
       "      <td>36</td>\n",
       "    </tr>\n",
       "    <tr>\n",
       "      <th>15</th>\n",
       "      <td>14</td>\n",
       "      <td>33</td>\n",
       "    </tr>\n",
       "    <tr>\n",
       "      <th>16</th>\n",
       "      <td>15</td>\n",
       "      <td>31</td>\n",
       "    </tr>\n",
       "    <tr>\n",
       "      <th>17</th>\n",
       "      <td>16</td>\n",
       "      <td>25</td>\n",
       "    </tr>\n",
       "    <tr>\n",
       "      <th>18</th>\n",
       "      <td>17</td>\n",
       "      <td>21</td>\n",
       "    </tr>\n",
       "    <tr>\n",
       "      <th>19</th>\n",
       "      <td>18</td>\n",
       "      <td>21</td>\n",
       "    </tr>\n",
       "    <tr>\n",
       "      <th>20</th>\n",
       "      <td>19</td>\n",
       "      <td>18</td>\n",
       "    </tr>\n",
       "    <tr>\n",
       "      <th>21</th>\n",
       "      <td>20</td>\n",
       "      <td>24</td>\n",
       "    </tr>\n",
       "    <tr>\n",
       "      <th>22</th>\n",
       "      <td>21</td>\n",
       "      <td>16</td>\n",
       "    </tr>\n",
       "  </tbody>\n",
       "</table>\n",
       "</div>"
      ],
      "text/plain": [
       "    lvl  count\n",
       "0    -1     34\n",
       "1     0     27\n",
       "2     1    127\n",
       "3     2    121\n",
       "4     3     95\n",
       "5     4     82\n",
       "6     5     76\n",
       "7     6     72\n",
       "8     7     77\n",
       "9     8     68\n",
       "10    9     63\n",
       "11   10     58\n",
       "12   11     40\n",
       "13   12     41\n",
       "14   13     36\n",
       "15   14     33\n",
       "16   15     31\n",
       "17   16     25\n",
       "18   17     21\n",
       "19   18     21\n",
       "20   19     18\n",
       "21   20     24\n",
       "22   21     16"
      ]
     },
     "execution_count": 6,
     "metadata": {},
     "output_type": "execute_result"
    }
   ],
   "source": [
    "level_count = pd.DataFrame(\n",
    "    data={\n",
    "        \"lvl\": [key for key in sorted(lvl_stat.keys())],\n",
    "        \"count\": [lvl_stat.get(key) for key in sorted(lvl_stat.keys())],\n",
    "    }\n",
    ")\n",
    "level_count"
   ]
  },
  {
   "cell_type": "code",
   "execution_count": 7,
   "id": "686877dd",
   "metadata": {},
   "outputs": [
    {
     "data": {
      "image/png": "[encoded data removed]",
      "text/plain": [
       "<Figure size 432x288 with 1 Axes>"
      ]
     },
     "metadata": {
      "needs_background": "light"
     },
     "output_type": "display_data"
    }
   ],
   "source": [
    "import matplotlib.pyplot as plt\n",
    "\n",
    "\n",
    "level_count.plot.bar(x=\"lvl\", y=\"count\", title=\"Count of levels\")\n",
    "plt.show()"
   ]
  },
  {
   "cell_type": "markdown",
   "id": "3f976e4a",
   "metadata": {},
   "source": [
    "## Train test split"
   ]
  },
  {
   "cell_type": "markdown",
   "id": "eb8cec62",
   "metadata": {},
   "source": [
    "### Chronological split"
   ]
  },
  {
   "cell_type": "code",
   "execution_count": 8,
   "id": "c6c29573",
   "metadata": {},
   "outputs": [],
   "source": [
    "from training.splitting_dataset import split_dataframe\n",
    "\n",
    "\n",
    "os.chdir(\"../../../training\")\n",
    "X_train, X_test, y_train, y_test = split_dataframe(df, test_size=0.31)\n",
    "os.chdir(\"../notebooks/models/lightgbm\")"
   ]
  },
  {
   "cell_type": "code",
   "execution_count": 9,
   "id": "f6894cc0",
   "metadata": {},
   "outputs": [],
   "source": [
    "X_train = X_train.drop(columns=[\"book\"])\n",
    "X_test = X_test.drop(columns=[\"book\"])"
   ]
  },
  {
   "cell_type": "markdown",
   "id": "31a0109c",
   "metadata": {},
   "source": [
    "### Random split"
   ]
  },
  {
   "cell_type": "code",
   "execution_count": 10,
   "id": "4d3e1121",
   "metadata": {},
   "outputs": [],
   "source": [
    "(\n",
    "    X_train_random_split,\n",
    "    X_test_random_split,\n",
    "    y_train_random_split,\n",
    "    y_test_random_split,\n",
    ") = split_dataframe(df, chronological_split=False)"
   ]
  },
  {
   "cell_type": "code",
   "execution_count": 11,
   "id": "f0c2041a",
   "metadata": {},
   "outputs": [],
   "source": [
    "X_train_random_split = X_train_random_split.drop(columns=[\"book\"])\n",
    "X_test_random_split = X_test_random_split.drop(columns=[\"book\"])"
   ]
  },
  {
   "cell_type": "markdown",
   "id": "e4776792",
   "metadata": {},
   "source": [
    "## LightGBM"
   ]
  },
  {
   "cell_type": "markdown",
   "id": "3f629b2d",
   "metadata": {},
   "source": [
    "## Chronological split"
   ]
  },
  {
   "cell_type": "code",
   "execution_count": 12,
   "id": "e818a3cc",
   "metadata": {},
   "outputs": [
    {
     "name": "stdout",
     "output_type": "stream",
     "text": [
      "[LightGBM] [Warning] Auto-choosing col-wise multi-threading, the overhead of testing was 0.000342 seconds.\n",
      "You can set `force_col_wise=true` to remove the overhead.\n",
      "[LightGBM] [Info] Total Bins 379\n",
      "[LightGBM] [Info] Number of data points in the train set: 841, number of used features: 13\n",
      "[LightGBM] [Info] Start training from score 6.966706\n",
      "Training until validation scores don't improve for 5 rounds\n",
      "[LightGBM] [Warning] No further splits with positive gain, best gain: -inf\n",
      "[LightGBM] [Warning] No further splits with positive gain, best gain: -inf\n",
      "[LightGBM] [Warning] No further splits with positive gain, best gain: -inf\n",
      "[LightGBM] [Warning] No further splits with positive gain, best gain: -inf\n",
      "[LightGBM] [Warning] No further splits with positive gain, best gain: -inf\n",
      "[LightGBM] [Warning] No further splits with positive gain, best gain: -inf\n",
      "[LightGBM] [Warning] No further splits with positive gain, best gain: -inf\n",
      "[LightGBM] [Warning] No further splits with positive gain, best gain: -inf\n",
      "[LightGBM] [Warning] No further splits with positive gain, best gain: -inf\n",
      "[LightGBM] [Warning] No further splits with positive gain, best gain: -inf\n",
      "[LightGBM] [Warning] No further splits with positive gain, best gain: -inf\n",
      "[LightGBM] [Warning] No further splits with positive gain, best gain: -inf\n",
      "Early stopping, best iteration is:\n",
      "[66]\tvalid_0's l1: 0.35718\tvalid_0's l2: 0.26087\n"
     ]
    }
   ],
   "source": [
    "import lightgbm as lgb\n",
    "\n",
    "lgb_train = lgb.Dataset(X_train, y_train)\n",
    "lgb_eval = lgb.Dataset(X_test, y_test, reference=lgb_train)\n",
    "\n",
    "params = {\n",
    "    \"boosting_type\": \"gbdt\",\n",
    "    \"objective\": \"regression\",\n",
    "    \"metric\": {\"l2\", \"l1\"},\n",
    "}\n",
    "\n",
    "gbm = lgb.train(\n",
    "    params,\n",
    "    lgb_train,\n",
    "    num_boost_round=100,\n",
    "    valid_sets=lgb_eval,\n",
    "    callbacks=[lgb.early_stopping(stopping_rounds=5)],\n",
    ")"
   ]
  },
  {
   "cell_type": "code",
   "execution_count": 13,
   "id": "b2dd69b5",
   "metadata": {},
   "outputs": [],
   "source": [
    "y_pred_train = gbm.predict(X_train, num_iteration=gbm.best_iteration)\n",
    "y_pred_test = gbm.predict(X_test, num_iteration=gbm.best_iteration)"
   ]
  },
  {
   "cell_type": "code",
   "execution_count": 14,
   "id": "68b425f7",
   "metadata": {},
   "outputs": [
    {
     "name": "stdout",
     "output_type": "stream",
     "text": [
      "RMSE: 0.51\n",
      "MAE: 0.36\n"
     ]
    }
   ],
   "source": [
    "from sklearn.metrics import mean_squared_error, mean_absolute_error\n",
    "\n",
    "\n",
    "rmse = mean_squared_error(y_test, y_pred_test, squared=False)\n",
    "mae = mean_absolute_error(y_test, y_pred_test)\n",
    "\n",
    "print(f\"RMSE: {rmse:.2f}\")\n",
    "print(f\"MAE: {mae:.2f}\")"
   ]
  },
  {
   "cell_type": "code",
   "execution_count": 15,
   "id": "a615e9df",
   "metadata": {},
   "outputs": [],
   "source": [
    "results = pd.DataFrame(\n",
    "    data={\n",
    "        \"Split type\": [],\n",
    "        \"Tuning type\": [],\n",
    "        \"Set of features\": [],\n",
    "        \"RMSE\": [],\n",
    "        \"MAE\": [],\n",
    "    }\n",
    ")\n",
    "\n",
    "results.loc[0] = [\"chronological\", \"default\", \"expanded\", rmse, mae]"
   ]
  },
  {
   "cell_type": "code",
   "execution_count": 16,
   "id": "9d777b5d",
   "metadata": {},
   "outputs": [
    {
     "name": "stdout",
     "output_type": "stream",
     "text": [
      "RMSE train: 0.21\n",
      "RMSE test: 0.51\n"
     ]
    }
   ],
   "source": [
    "rmse_train = mean_squared_error(y_train, y_pred_train, squared=False)\n",
    "rmse_test = mean_squared_error(y_test, y_pred_test, squared=False)\n",
    "print(f\"RMSE train: {rmse_train:.2f}\")\n",
    "print(f\"RMSE test: {rmse_test:.2f}\")"
   ]
  },
  {
   "cell_type": "markdown",
   "id": "c8d83c18",
   "metadata": {},
   "source": [
    "###### MAE by level"
   ]
  },
  {
   "cell_type": "code",
   "execution_count": 17,
   "id": "ac580d53",
   "metadata": {},
   "outputs": [],
   "source": [
    "from training.results import plot_mae_by_level"
   ]
  },
  {
   "cell_type": "code",
   "execution_count": 18,
   "id": "53b88797",
   "metadata": {},
   "outputs": [
    {
     "data": {
      "image/png": "[encoded data removed]",
      "text/plain": [
       "<Figure size 1440x576 with 1 Axes>"
      ]
     },
     "metadata": {
      "needs_background": "light"
     },
     "output_type": "display_data"
    }
   ],
   "source": [
    "plot_mae_by_level(\n",
    "    y_test,\n",
    "    y_pred_test,\n",
    "    title=\"MAE by level for default LightGBM with expanded features and chronological split\",\n",
    ")"
   ]
  },
  {
   "cell_type": "code",
   "execution_count": 19,
   "id": "4135d981",
   "metadata": {},
   "outputs": [
    {
     "name": "stdout",
     "output_type": "stream",
     "text": [
      "Default:\n",
      "RMSE: 0.51\n",
      "\n",
      "Round type: 0.5\n",
      "RMSE: 0.55\n",
      "\n",
      "Round type: 0.33\n",
      "RMSE: 0.54\n",
      "\n",
      "Round type: 0.45\n",
      "RMSE: 0.54\n",
      "\n"
     ]
    }
   ],
   "source": [
    "from training.results import evaluate_round_predictions, plot_confusion_matrix\n",
    "\n",
    "\n",
    "evaluate_round_predictions([0.5, 0.33, 0.45], y_test, y_pred_test)"
   ]
  },
  {
   "cell_type": "code",
   "execution_count": 20,
   "id": "4741e1ec",
   "metadata": {},
   "outputs": [
    {
     "data": {
      "image/png": "[encoded data removed]",
      "text/plain": [
       "<Figure size 720x720 with 2 Axes>"
      ]
     },
     "metadata": {
      "needs_background": "light"
     },
     "output_type": "display_data"
    }
   ],
   "source": [
    "plot_confusion_matrix(\n",
    "    y_pred_test,\n",
    "    y_test,\n",
    "    title=\"Confusion matrix for default LightGBM with\\nexpanded features and chronological split\",\n",
    ")"
   ]
  },
  {
   "cell_type": "markdown",
   "id": "a6b03404",
   "metadata": {},
   "source": [
    "#### Tuning"
   ]
  },
  {
   "cell_type": "code",
   "execution_count": 21,
   "id": "e7f8b7ee",
   "metadata": {},
   "outputs": [],
   "source": [
    "from training.results import assess_regression_model"
   ]
  },
  {
   "cell_type": "code",
   "execution_count": 22,
   "id": "10cd6bac",
   "metadata": {
    "scrolled": true
   },
   "outputs": [
    {
     "name": "stderr",
     "output_type": "stream",
     "text": [
      "[I 2023-11-09 20:46:47,315] A new study created in memory with name: no-name-0d68f207-1538-40b5-bd18-5f3fce5140b8\n",
      "feature_fraction, val_score: inf:   0%|                                                          | 0/7 [00:00<?, ?it/s]"
     ]
    },
    {
     "name": "stdout",
     "output_type": "stream",
     "text": [
      "Training until validation scores don't improve for 100 rounds\n",
      "[100]\tcv_agg's l2: 0.177581 + 0.032274\n",
      "[200]\tcv_agg's l2: 0.174627 + 0.0318199\n",
      "[300]\tcv_agg's l2: 0.174453 + 0.0325213\n",
      "Early stopping, best iteration is:\n",
      "[217]\tcv_agg's l2: 0.17408 + 0.031923\n"
     ]
    },
    {
     "name": "stderr",
     "output_type": "stream",
     "text": [
      "feature_fraction, val_score: 0.174080:  14%|######4                                      | 1/7 [00:04<00:28,  4.83s/it][I 2023-11-09 20:46:52,153] Trial 0 finished with value: 0.17408040366078614 and parameters: {'feature_fraction': 0.5}. Best is trial 0 with value: 0.17408040366078614.\n",
      "feature_fraction, val_score: 0.174080:  14%|######4                                      | 1/7 [00:04<00:28,  4.83s/it]"
     ]
    },
    {
     "name": "stdout",
     "output_type": "stream",
     "text": [
      "[100]\tcv_agg's l2: 0.159903 + 0.0241276\n",
      "[200]\tcv_agg's l2: 0.158282 + 0.0224231\n"
     ]
    },
    {
     "name": "stderr",
     "output_type": "stream",
     "text": [
      "feature_fraction, val_score: 0.157978:  29%|############8                                | 2/7 [00:08<00:21,  4.39s/it][I 2023-11-09 20:46:56,241] Trial 1 finished with value: 0.1579777474856349 and parameters: {'feature_fraction': 0.4}. Best is trial 1 with value: 0.1579777474856349.\n",
      "feature_fraction, val_score: 0.157978:  29%|############8                                | 2/7 [00:08<00:21,  4.39s/it]"
     ]
    },
    {
     "name": "stdout",
     "output_type": "stream",
     "text": [
      "Early stopping, best iteration is:\n",
      "[193]\tcv_agg's l2: 0.157978 + 0.0225326\n",
      "[100]\tcv_agg's l2: 0.177148 + 0.0380835\n",
      "[200]\tcv_agg's l2: 0.173294 + 0.0371064\n"
     ]
    },
    {
     "name": "stderr",
     "output_type": "stream",
     "text": [
      "feature_fraction, val_score: 0.157978:  43%|###################2                         | 3/7 [00:14<00:19,  4.82s/it][I 2023-11-09 20:47:01,558] Trial 2 finished with value: 0.1733754761186666 and parameters: {'feature_fraction': 0.7}. Best is trial 1 with value: 0.1579777474856349.\n",
      "feature_fraction, val_score: 0.157978:  43%|###################2                         | 3/7 [00:14<00:19,  4.82s/it]"
     ]
    },
    {
     "name": "stdout",
     "output_type": "stream",
     "text": [
      "Early stopping, best iteration is:\n",
      "[193]\tcv_agg's l2: 0.157978 + 0.0225326\n",
      "[100]\tcv_agg's l2: 0.177335 + 0.0332588\n",
      "[200]\tcv_agg's l2: 0.172948 + 0.0311771\n"
     ]
    },
    {
     "name": "stderr",
     "output_type": "stream",
     "text": [
      "feature_fraction, val_score: 0.157978:  57%|#########################7                   | 4/7 [00:17<00:12,  4.22s/it][I 2023-11-09 20:47:04,876] Trial 3 finished with value: 0.17354111229996558 and parameters: {'feature_fraction': 0.6}. Best is trial 1 with value: 0.1579777474856349.\n",
      "feature_fraction, val_score: 0.157978:  57%|#########################7                   | 4/7 [00:17<00:12,  4.22s/it]"
     ]
    },
    {
     "name": "stdout",
     "output_type": "stream",
     "text": [
      "Early stopping, best iteration is:\n",
      "[193]\tcv_agg's l2: 0.157978 + 0.0225326\n",
      "[100]\tcv_agg's l2: 0.188025 + 0.0387054\n",
      "[200]\tcv_agg's l2: 0.185965 + 0.0366299\n"
     ]
    },
    {
     "name": "stderr",
     "output_type": "stream",
     "text": [
      "feature_fraction, val_score: 0.157978:  71%|################################1            | 5/7 [00:21<00:08,  4.07s/it][I 2023-11-09 20:47:08,669] Trial 4 finished with value: 0.18647383572346687 and parameters: {'feature_fraction': 1.0}. Best is trial 1 with value: 0.1579777474856349.\n",
      "feature_fraction, val_score: 0.157978:  71%|################################1            | 5/7 [00:21<00:08,  4.07s/it]"
     ]
    },
    {
     "name": "stdout",
     "output_type": "stream",
     "text": [
      "Early stopping, best iteration is:\n",
      "[193]\tcv_agg's l2: 0.157978 + 0.0225326\n",
      "[100]\tcv_agg's l2: 0.176664 + 0.0312799\n",
      "[200]\tcv_agg's l2: 0.174798 + 0.0300581\n"
     ]
    },
    {
     "name": "stderr",
     "output_type": "stream",
     "text": [
      "feature_fraction, val_score: 0.157978:  86%|######################################5      | 6/7 [00:24<00:03,  3.83s/it][I 2023-11-09 20:47:12,045] Trial 5 finished with value: 0.17473633091183932 and parameters: {'feature_fraction': 0.8}. Best is trial 1 with value: 0.1579777474856349.\n",
      "feature_fraction, val_score: 0.157978:  86%|######################################5      | 6/7 [00:24<00:03,  3.83s/it]"
     ]
    },
    {
     "name": "stdout",
     "output_type": "stream",
     "text": [
      "Early stopping, best iteration is:\n",
      "[193]\tcv_agg's l2: 0.157978 + 0.0225326\n",
      "[100]\tcv_agg's l2: 0.178022 + 0.0303758\n",
      "[200]\tcv_agg's l2: 0.173516 + 0.030121\n"
     ]
    },
    {
     "name": "stderr",
     "output_type": "stream",
     "text": [
      "feature_fraction, val_score: 0.157978: 100%|#############################################| 7/7 [00:28<00:00,  3.79s/it][I 2023-11-09 20:47:15,736] Trial 6 finished with value: 0.17349645672919825 and parameters: {'feature_fraction': 0.8999999999999999}. Best is trial 1 with value: 0.1579777474856349.\n",
      "feature_fraction, val_score: 0.157978: 100%|#############################################| 7/7 [00:28<00:00,  4.06s/it]\n"
     ]
    },
    {
     "name": "stdout",
     "output_type": "stream",
     "text": [
      "Early stopping, best iteration is:\n",
      "[193]\tcv_agg's l2: 0.157978 + 0.0225326\n"
     ]
    },
    {
     "name": "stderr",
     "output_type": "stream",
     "text": [
      "num_leaves, val_score: 0.157978:   0%|                                                          | 0/20 [00:00<?, ?it/s]"
     ]
    },
    {
     "name": "stdout",
     "output_type": "stream",
     "text": [
      "[100]\tcv_agg's l2: 0.159903 + 0.0241276\n",
      "[200]\tcv_agg's l2: 0.158282 + 0.0224231\n"
     ]
    },
    {
     "name": "stderr",
     "output_type": "stream",
     "text": [
      "num_leaves, val_score: 0.157978:   5%|##5                                               | 1/20 [00:03<01:06,  3.49s/it][I 2023-11-09 20:47:19,229] Trial 7 finished with value: 0.1579777474856349 and parameters: {'num_leaves': 96}. Best is trial 7 with value: 0.1579777474856349.\n",
      "num_leaves, val_score: 0.157978:   5%|##5                                               | 1/20 [00:03<01:06,  3.49s/it]"
     ]
    },
    {
     "name": "stdout",
     "output_type": "stream",
     "text": [
      "Early stopping, best iteration is:\n",
      "[193]\tcv_agg's l2: 0.157978 + 0.0225326\n",
      "[100]\tcv_agg's l2: 0.159777 + 0.0244288\n",
      "[200]\tcv_agg's l2: 0.156702 + 0.022341\n",
      "[300]\tcv_agg's l2: 0.156912 + 0.0229566\n"
     ]
    },
    {
     "name": "stderr",
     "output_type": "stream",
     "text": [
      "num_leaves, val_score: 0.156273:  10%|#####                                             | 2/20 [00:08<01:15,  4.18s/it][I 2023-11-09 20:47:23,891] Trial 8 finished with value: 0.15627279220966842 and parameters: {'num_leaves': 25}. Best is trial 8 with value: 0.15627279220966842.\n",
      "num_leaves, val_score: 0.156273:  10%|#####                                             | 2/20 [00:08<01:15,  4.18s/it]"
     ]
    },
    {
     "name": "stdout",
     "output_type": "stream",
     "text": [
      "Early stopping, best iteration is:\n",
      "[271]\tcv_agg's l2: 0.156273 + 0.022415\n",
      "[100]\tcv_agg's l2: 0.159903 + 0.0241276\n",
      "[200]\tcv_agg's l2: 0.158282 + 0.0224231\n",
      "[300]\tcv_agg's l2: 0.15919 + 0.0224695\n"
     ]
    },
    {
     "name": "stderr",
     "output_type": "stream",
     "text": [
      "num_leaves, val_score: 0.156273:  15%|#######5                                          | 3/20 [00:12<01:10,  4.15s/it][I 2023-11-09 20:47:28,003] Trial 9 finished with value: 0.15892928233068498 and parameters: {'num_leaves': 56}. Best is trial 8 with value: 0.15627279220966842.\n",
      "num_leaves, val_score: 0.156273:  15%|#######5                                          | 3/20 [00:12<01:10,  4.15s/it]"
     ]
    },
    {
     "name": "stdout",
     "output_type": "stream",
     "text": [
      "Early stopping, best iteration is:\n",
      "[271]\tcv_agg's l2: 0.156273 + 0.022415\n",
      "[100]\tcv_agg's l2: 0.159903 + 0.0241276\n",
      "[200]\tcv_agg's l2: 0.158282 + 0.0224231\n",
      "[300]\tcv_agg's l2: 0.15919 + 0.0224695\n"
     ]
    },
    {
     "name": "stderr",
     "output_type": "stream",
     "text": [
      "num_leaves, val_score: 0.156273:  20%|##########                                        | 4/20 [00:16<01:06,  4.19s/it][I 2023-11-09 20:47:32,247] Trial 10 finished with value: 0.15892928233068498 and parameters: {'num_leaves': 250}. Best is trial 8 with value: 0.15627279220966842.\n",
      "num_leaves, val_score: 0.156273:  20%|##########                                        | 4/20 [00:16<01:06,  4.19s/it]"
     ]
    },
    {
     "name": "stdout",
     "output_type": "stream",
     "text": [
      "Early stopping, best iteration is:\n",
      "[271]\tcv_agg's l2: 0.156273 + 0.022415\n",
      "[100]\tcv_agg's l2: 0.199973 + 0.0197539\n",
      "[200]\tcv_agg's l2: 0.179143 + 0.0172941\n",
      "[300]\tcv_agg's l2: 0.172255 + 0.0154554\n"
     ]
    },
    {
     "name": "stderr",
     "output_type": "stream",
     "text": [
      "num_leaves, val_score: 0.156273:  25%|############5                                     | 5/20 [00:17<00:46,  3.12s/it][I 2023-11-09 20:47:33,475] Trial 11 finished with value: 0.17321869233739942 and parameters: {'num_leaves': 4}. Best is trial 8 with value: 0.15627279220966842.\n",
      "num_leaves, val_score: 0.156273:  25%|############5                                     | 5/20 [00:17<00:46,  3.12s/it]"
     ]
    },
    {
     "name": "stdout",
     "output_type": "stream",
     "text": [
      "Early stopping, best iteration is:\n",
      "[271]\tcv_agg's l2: 0.156273 + 0.022415\n",
      "[100]\tcv_agg's l2: 0.159903 + 0.0241276\n",
      "[200]\tcv_agg's l2: 0.158282 + 0.0224231\n",
      "[300]\tcv_agg's l2: 0.15919 + 0.0224695\n"
     ]
    },
    {
     "name": "stderr",
     "output_type": "stream",
     "text": [
      "num_leaves, val_score: 0.156273:  30%|###############                                   | 6/20 [00:22<00:49,  3.56s/it][I 2023-11-09 20:47:37,878] Trial 12 finished with value: 0.15892928233068498 and parameters: {'num_leaves': 195}. Best is trial 8 with value: 0.15627279220966842.\n",
      "num_leaves, val_score: 0.156273:  30%|###############                                   | 6/20 [00:22<00:49,  3.56s/it]"
     ]
    },
    {
     "name": "stdout",
     "output_type": "stream",
     "text": [
      "Early stopping, best iteration is:\n",
      "[271]\tcv_agg's l2: 0.156273 + 0.022415\n",
      "[100]\tcv_agg's l2: 0.193074 + 0.0191257\n",
      "[200]\tcv_agg's l2: 0.174551 + 0.0166917\n",
      "[300]\tcv_agg's l2: 0.16867 + 0.0163985\n"
     ]
    },
    {
     "name": "stderr",
     "output_type": "stream",
     "text": [
      "num_leaves, val_score: 0.156273:  35%|#################5                                | 7/20 [00:23<00:36,  2.79s/it][I 2023-11-09 20:47:39,088] Trial 13 finished with value: 0.16933824934496325 and parameters: {'num_leaves': 5}. Best is trial 8 with value: 0.15627279220966842.\n",
      "num_leaves, val_score: 0.156273:  35%|#################5                                | 7/20 [00:23<00:36,  2.79s/it]"
     ]
    },
    {
     "name": "stdout",
     "output_type": "stream",
     "text": [
      "Early stopping, best iteration is:\n",
      "[271]\tcv_agg's l2: 0.156273 + 0.022415\n",
      "[100]\tcv_agg's l2: 0.159903 + 0.0241276\n",
      "[200]\tcv_agg's l2: 0.158282 + 0.0224231\n",
      "[300]\tcv_agg's l2: 0.15919 + 0.0224695\n"
     ]
    },
    {
     "name": "stderr",
     "output_type": "stream",
     "text": [
      "num_leaves, val_score: 0.156273:  40%|####################                              | 8/20 [00:27<00:38,  3.23s/it][I 2023-11-09 20:47:43,272] Trial 14 finished with value: 0.15892928233068498 and parameters: {'num_leaves': 148}. Best is trial 8 with value: 0.15627279220966842.\n",
      "num_leaves, val_score: 0.156273:  40%|####################                              | 8/20 [00:27<00:38,  3.23s/it]"
     ]
    },
    {
     "name": "stdout",
     "output_type": "stream",
     "text": [
      "Early stopping, best iteration is:\n",
      "[271]\tcv_agg's l2: 0.156273 + 0.022415\n",
      "[100]\tcv_agg's l2: 0.159903 + 0.0241276\n",
      "[200]\tcv_agg's l2: 0.158282 + 0.0224231\n",
      "[300]\tcv_agg's l2: 0.15919 + 0.0224695\n"
     ]
    },
    {
     "name": "stderr",
     "output_type": "stream",
     "text": [
      "num_leaves, val_score: 0.156273:  45%|######################5                           | 9/20 [00:31<00:38,  3.53s/it][I 2023-11-09 20:47:47,441] Trial 15 finished with value: 0.15892928233068498 and parameters: {'num_leaves': 81}. Best is trial 8 with value: 0.15627279220966842.\n",
      "num_leaves, val_score: 0.156273:  45%|######################5                           | 9/20 [00:31<00:38,  3.53s/it]"
     ]
    },
    {
     "name": "stdout",
     "output_type": "stream",
     "text": [
      "Early stopping, best iteration is:\n",
      "[271]\tcv_agg's l2: 0.156273 + 0.022415\n",
      "[100]\tcv_agg's l2: 0.159903 + 0.0241276\n",
      "[200]\tcv_agg's l2: 0.158282 + 0.0224231\n",
      "[300]\tcv_agg's l2: 0.15919 + 0.0224695\n"
     ]
    },
    {
     "name": "stderr",
     "output_type": "stream",
     "text": [
      "num_leaves, val_score: 0.156273:  50%|########################5                        | 10/20 [00:36<00:37,  3.77s/it][I 2023-11-09 20:47:51,757] Trial 16 finished with value: 0.15892928233068498 and parameters: {'num_leaves': 156}. Best is trial 8 with value: 0.15627279220966842.\n",
      "num_leaves, val_score: 0.156273:  50%|########################5                        | 10/20 [00:36<00:37,  3.77s/it]"
     ]
    },
    {
     "name": "stdout",
     "output_type": "stream",
     "text": [
      "Early stopping, best iteration is:\n",
      "[271]\tcv_agg's l2: 0.156273 + 0.022415\n",
      "[100]\tcv_agg's l2: 0.159903 + 0.0241276\n",
      "[200]\tcv_agg's l2: 0.158282 + 0.0224231\n",
      "[300]\tcv_agg's l2: 0.15919 + 0.0224695\n"
     ]
    },
    {
     "name": "stderr",
     "output_type": "stream",
     "text": [
      "num_leaves, val_score: 0.156273:  55%|##########################9                      | 11/20 [00:40<00:35,  3.96s/it][I 2023-11-09 20:47:56,135] Trial 17 finished with value: 0.15892928233068498 and parameters: {'num_leaves': 48}. Best is trial 8 with value: 0.15627279220966842.\n",
      "num_leaves, val_score: 0.156273:  55%|##########################9                      | 11/20 [00:40<00:35,  3.96s/it]"
     ]
    },
    {
     "name": "stdout",
     "output_type": "stream",
     "text": [
      "Early stopping, best iteration is:\n",
      "[271]\tcv_agg's l2: 0.156273 + 0.022415\n",
      "[100]\tcv_agg's l2: 0.159903 + 0.0241276\n",
      "[200]\tcv_agg's l2: 0.158282 + 0.0224231\n",
      "[300]\tcv_agg's l2: 0.15919 + 0.0224695\n"
     ]
    },
    {
     "name": "stderr",
     "output_type": "stream",
     "text": [
      "num_leaves, val_score: 0.156273:  60%|#############################4                   | 12/20 [00:44<00:32,  4.12s/it][I 2023-11-09 20:48:00,616] Trial 18 finished with value: 0.15892928233068498 and parameters: {'num_leaves': 113}. Best is trial 8 with value: 0.15627279220966842.\n",
      "num_leaves, val_score: 0.156273:  60%|#############################4                   | 12/20 [00:44<00:32,  4.12s/it]"
     ]
    },
    {
     "name": "stdout",
     "output_type": "stream",
     "text": [
      "Early stopping, best iteration is:\n",
      "[271]\tcv_agg's l2: 0.156273 + 0.022415\n",
      "[100]\tcv_agg's l2: 0.159903 + 0.0241276\n",
      "[200]\tcv_agg's l2: 0.158282 + 0.0224231\n",
      "[300]\tcv_agg's l2: 0.15919 + 0.0224695\n"
     ]
    },
    {
     "name": "stderr",
     "output_type": "stream",
     "text": [
      "num_leaves, val_score: 0.156273:  65%|###############################8                 | 13/20 [00:49<00:30,  4.40s/it][I 2023-11-09 20:48:05,667] Trial 19 finished with value: 0.15892928233068498 and parameters: {'num_leaves': 43}. Best is trial 8 with value: 0.15627279220966842.\n",
      "num_leaves, val_score: 0.156273:  65%|###############################8                 | 13/20 [00:49<00:30,  4.40s/it]"
     ]
    },
    {
     "name": "stdout",
     "output_type": "stream",
     "text": [
      "Early stopping, best iteration is:\n",
      "[271]\tcv_agg's l2: 0.156273 + 0.022415\n",
      "[100]\tcv_agg's l2: 0.159903 + 0.0241276\n",
      "[200]\tcv_agg's l2: 0.158282 + 0.0224231\n",
      "[300]\tcv_agg's l2: 0.15919 + 0.0224695\n"
     ]
    },
    {
     "name": "stderr",
     "output_type": "stream",
     "text": [
      "num_leaves, val_score: 0.156273:  70%|##################################3              | 14/20 [00:55<00:28,  4.70s/it][I 2023-11-09 20:48:11,067] Trial 20 finished with value: 0.15892928233068498 and parameters: {'num_leaves': 196}. Best is trial 8 with value: 0.15627279220966842.\n",
      "num_leaves, val_score: 0.156273:  70%|##################################3              | 14/20 [00:55<00:28,  4.70s/it]"
     ]
    },
    {
     "name": "stdout",
     "output_type": "stream",
     "text": [
      "Early stopping, best iteration is:\n",
      "[271]\tcv_agg's l2: 0.156273 + 0.022415\n",
      "[100]\tcv_agg's l2: 0.159903 + 0.0241276\n",
      "[200]\tcv_agg's l2: 0.158282 + 0.0224231\n",
      "[300]\tcv_agg's l2: 0.15919 + 0.0224695\n"
     ]
    },
    {
     "name": "stderr",
     "output_type": "stream",
     "text": [
      "num_leaves, val_score: 0.156273:  75%|####################################7            | 15/20 [00:59<00:23,  4.65s/it][I 2023-11-09 20:48:15,593] Trial 21 finished with value: 0.15892928233068498 and parameters: {'num_leaves': 99}. Best is trial 8 with value: 0.15627279220966842.\n",
      "num_leaves, val_score: 0.156273:  75%|####################################7            | 15/20 [00:59<00:23,  4.65s/it]"
     ]
    },
    {
     "name": "stdout",
     "output_type": "stream",
     "text": [
      "Early stopping, best iteration is:\n",
      "[271]\tcv_agg's l2: 0.156273 + 0.022415\n",
      "[100]\tcv_agg's l2: 0.159903 + 0.0241276\n",
      "[200]\tcv_agg's l2: 0.158282 + 0.0224231\n",
      "[300]\tcv_agg's l2: 0.15919 + 0.0224695\n"
     ]
    },
    {
     "name": "stderr",
     "output_type": "stream",
     "text": [
      "num_leaves, val_score: 0.156273:  80%|#######################################2         | 16/20 [01:04<00:18,  4.60s/it][I 2023-11-09 20:48:20,089] Trial 22 finished with value: 0.15892928233068498 and parameters: {'num_leaves': 76}. Best is trial 8 with value: 0.15627279220966842.\n",
      "num_leaves, val_score: 0.156273:  80%|#######################################2         | 16/20 [01:04<00:18,  4.60s/it]"
     ]
    },
    {
     "name": "stdout",
     "output_type": "stream",
     "text": [
      "Early stopping, best iteration is:\n",
      "[271]\tcv_agg's l2: 0.156273 + 0.022415\n",
      "[100]\tcv_agg's l2: 0.159903 + 0.0241276\n",
      "[200]\tcv_agg's l2: 0.158282 + 0.0224231\n",
      "[300]\tcv_agg's l2: 0.15919 + 0.0224695\n"
     ]
    },
    {
     "name": "stderr",
     "output_type": "stream",
     "text": [
      "num_leaves, val_score: 0.156273:  85%|#########################################6       | 17/20 [01:08<00:13,  4.54s/it][I 2023-11-09 20:48:24,494] Trial 23 finished with value: 0.15892928233068498 and parameters: {'num_leaves': 38}. Best is trial 8 with value: 0.15627279220966842.\n",
      "num_leaves, val_score: 0.156273:  85%|#########################################6       | 17/20 [01:08<00:13,  4.54s/it]"
     ]
    },
    {
     "name": "stdout",
     "output_type": "stream",
     "text": [
      "Early stopping, best iteration is:\n",
      "[271]\tcv_agg's l2: 0.156273 + 0.022415\n",
      "[100]\tcv_agg's l2: 0.159903 + 0.0241276\n",
      "[200]\tcv_agg's l2: 0.158282 + 0.0224231\n",
      "[300]\tcv_agg's l2: 0.15919 + 0.0224695\n"
     ]
    },
    {
     "name": "stderr",
     "output_type": "stream",
     "text": [
      "num_leaves, val_score: 0.156273:  90%|############################################1    | 18/20 [01:13<00:09,  4.54s/it][I 2023-11-09 20:48:29,031] Trial 24 finished with value: 0.15892928233068498 and parameters: {'num_leaves': 135}. Best is trial 8 with value: 0.15627279220966842.\n",
      "num_leaves, val_score: 0.156273:  90%|############################################1    | 18/20 [01:13<00:09,  4.54s/it]"
     ]
    },
    {
     "name": "stdout",
     "output_type": "stream",
     "text": [
      "Early stopping, best iteration is:\n",
      "[271]\tcv_agg's l2: 0.156273 + 0.022415\n",
      "[100]\tcv_agg's l2: 0.159903 + 0.0241276\n",
      "[200]\tcv_agg's l2: 0.158282 + 0.0224231\n",
      "[300]\tcv_agg's l2: 0.15919 + 0.0224695\n"
     ]
    },
    {
     "name": "stderr",
     "output_type": "stream",
     "text": [
      "num_leaves, val_score: 0.156273:  95%|##############################################5  | 19/20 [01:17<00:04,  4.52s/it][I 2023-11-09 20:48:33,497] Trial 25 finished with value: 0.15892928233068498 and parameters: {'num_leaves': 179}. Best is trial 8 with value: 0.15627279220966842.\n",
      "num_leaves, val_score: 0.156273:  95%|##############################################5  | 19/20 [01:17<00:04,  4.52s/it]"
     ]
    },
    {
     "name": "stdout",
     "output_type": "stream",
     "text": [
      "Early stopping, best iteration is:\n",
      "[271]\tcv_agg's l2: 0.156273 + 0.022415\n",
      "[100]\tcv_agg's l2: 0.158422 + 0.0209401\n",
      "[200]\tcv_agg's l2: 0.156468 + 0.0206372\n"
     ]
    },
    {
     "name": "stderr",
     "output_type": "stream",
     "text": [
      "num_leaves, val_score: 0.155776: 100%|#################################################| 20/20 [01:20<00:00,  4.04s/it][I 2023-11-09 20:48:36,410] Trial 26 finished with value: 0.15577623352868325 and parameters: {'num_leaves': 22}. Best is trial 26 with value: 0.15577623352868325.\n",
      "num_leaves, val_score: 0.155776: 100%|#################################################| 20/20 [01:20<00:00,  4.03s/it]\n"
     ]
    },
    {
     "name": "stdout",
     "output_type": "stream",
     "text": [
      "Early stopping, best iteration is:\n",
      "[175]\tcv_agg's l2: 0.155776 + 0.0211252\n"
     ]
    },
    {
     "name": "stderr",
     "output_type": "stream",
     "text": [
      "bagging, val_score: 0.155776:   0%|                                                             | 0/10 [00:00<?, ?it/s]"
     ]
    },
    {
     "name": "stdout",
     "output_type": "stream",
     "text": [
      "[100]\tcv_agg's l2: 0.168832 + 0.0269172\n",
      "[200]\tcv_agg's l2: 0.165794 + 0.0250505\n"
     ]
    },
    {
     "name": "stderr",
     "output_type": "stream",
     "text": [
      "bagging, val_score: 0.155776:  10%|#####3                                               | 1/10 [00:03<00:27,  3.02s/it][I 2023-11-09 20:48:39,439] Trial 27 finished with value: 0.16584041903378693 and parameters: {'bagging_fraction': 0.810229992133646, 'bagging_freq': 7}. Best is trial 27 with value: 0.16584041903378693.\n",
      "bagging, val_score: 0.155776:  10%|#####3                                               | 1/10 [00:03<00:27,  3.02s/it]"
     ]
    },
    {
     "name": "stdout",
     "output_type": "stream",
     "text": [
      "Early stopping, best iteration is:\n",
      "[175]\tcv_agg's l2: 0.155776 + 0.0211252\n",
      "[100]\tcv_agg's l2: 0.196929 + 0.024865\n",
      "[200]\tcv_agg's l2: 0.187594 + 0.0222197\n"
     ]
    },
    {
     "name": "stderr",
     "output_type": "stream",
     "text": [
      "bagging, val_score: 0.155776:  20%|##########6                                          | 2/10 [00:04<00:18,  2.37s/it][I 2023-11-09 20:48:41,357] Trial 28 finished with value: 0.19041843023426816 and parameters: {'bagging_fraction': 0.45168598834909546, 'bagging_freq': 1}. Best is trial 27 with value: 0.16584041903378693.\n",
      "bagging, val_score: 0.155776:  20%|##########6                                          | 2/10 [00:04<00:18,  2.37s/it]"
     ]
    },
    {
     "name": "stdout",
     "output_type": "stream",
     "text": [
      "Early stopping, best iteration is:\n",
      "[175]\tcv_agg's l2: 0.155776 + 0.0211252\n",
      "[100]\tcv_agg's l2: 0.156381 + 0.0216912\n",
      "[200]\tcv_agg's l2: 0.155161 + 0.0200584\n"
     ]
    },
    {
     "name": "stderr",
     "output_type": "stream",
     "text": [
      "bagging, val_score: 0.154620:  30%|###############9                                     | 3/10 [00:08<00:19,  2.79s/it][I 2023-11-09 20:48:44,655] Trial 29 finished with value: 0.154620494102755 and parameters: {'bagging_fraction': 0.976081702738314, 'bagging_freq': 4}. Best is trial 29 with value: 0.154620494102755.\n",
      "bagging, val_score: 0.154620:  30%|###############9                                     | 3/10 [00:08<00:19,  2.79s/it]"
     ]
    },
    {
     "name": "stdout",
     "output_type": "stream",
     "text": [
      "Early stopping, best iteration is:\n",
      "[192]\tcv_agg's l2: 0.15462 + 0.0200823\n",
      "[100]\tcv_agg's l2: 0.159361 + 0.0251636\n",
      "[200]\tcv_agg's l2: 0.156824 + 0.0223846\n"
     ]
    },
    {
     "name": "stderr",
     "output_type": "stream",
     "text": [
      "bagging, val_score: 0.154620:  40%|#####################2                               | 4/10 [00:11<00:18,  3.01s/it][I 2023-11-09 20:48:47,994] Trial 30 finished with value: 0.15660093554630922 and parameters: {'bagging_fraction': 0.9882153936800883, 'bagging_freq': 4}. Best is trial 29 with value: 0.154620494102755.\n",
      "bagging, val_score: 0.154620:  40%|#####################2                               | 4/10 [00:11<00:18,  3.01s/it]"
     ]
    },
    {
     "name": "stdout",
     "output_type": "stream",
     "text": [
      "Early stopping, best iteration is:\n",
      "[192]\tcv_agg's l2: 0.15462 + 0.0200823\n",
      "[100]\tcv_agg's l2: 0.160398 + 0.025224\n",
      "[200]\tcv_agg's l2: 0.158049 + 0.0227327\n"
     ]
    },
    {
     "name": "stderr",
     "output_type": "stream",
     "text": [
      "bagging, val_score: 0.154620:  50%|##########################5                          | 5/10 [00:15<00:15,  3.16s/it][I 2023-11-09 20:48:51,418] Trial 31 finished with value: 0.15774881167592214 and parameters: {'bagging_fraction': 0.9872736964097237, 'bagging_freq': 4}. Best is trial 29 with value: 0.154620494102755.\n",
      "bagging, val_score: 0.154620:  50%|##########################5                          | 5/10 [00:15<00:15,  3.16s/it]"
     ]
    },
    {
     "name": "stdout",
     "output_type": "stream",
     "text": [
      "Early stopping, best iteration is:\n",
      "[192]\tcv_agg's l2: 0.15462 + 0.0200823\n",
      "[100]\tcv_agg's l2: 0.158422 + 0.0209401\n",
      "[200]\tcv_agg's l2: 0.156468 + 0.0206372\n"
     ]
    },
    {
     "name": "stderr",
     "output_type": "stream",
     "text": [
      "bagging, val_score: 0.154620:  60%|###############################8                     | 6/10 [00:18<00:12,  3.22s/it][I 2023-11-09 20:48:54,755] Trial 32 finished with value: 0.15609064238966416 and parameters: {'bagging_fraction': 0.999237023148093, 'bagging_freq': 4}. Best is trial 29 with value: 0.154620494102755.\n",
      "bagging, val_score: 0.154620:  60%|###############################8                     | 6/10 [00:18<00:12,  3.22s/it]"
     ]
    },
    {
     "name": "stdout",
     "output_type": "stream",
     "text": [
      "Early stopping, best iteration is:\n",
      "[192]\tcv_agg's l2: 0.15462 + 0.0200823\n",
      "[100]\tcv_agg's l2: 0.159012 + 0.0233653\n",
      "[200]\tcv_agg's l2: 0.15724 + 0.021764\n"
     ]
    },
    {
     "name": "stderr",
     "output_type": "stream",
     "text": [
      "bagging, val_score: 0.154620:  70%|#####################################                | 7/10 [00:21<00:09,  3.25s/it][I 2023-11-09 20:48:58,078] Trial 33 finished with value: 0.1572202099029874 and parameters: {'bagging_fraction': 0.9913235131648684, 'bagging_freq': 3}. Best is trial 29 with value: 0.154620494102755.\n",
      "bagging, val_score: 0.154620:  70%|#####################################                | 7/10 [00:21<00:09,  3.25s/it]"
     ]
    },
    {
     "name": "stdout",
     "output_type": "stream",
     "text": [
      "Early stopping, best iteration is:\n",
      "[192]\tcv_agg's l2: 0.15462 + 0.0200823\n",
      "[100]\tcv_agg's l2: 0.167901 + 0.0290439\n",
      "[200]\tcv_agg's l2: 0.163199 + 0.0250212\n"
     ]
    },
    {
     "name": "stderr",
     "output_type": "stream",
     "text": [
      "bagging, val_score: 0.154620:  80%|##########################################4          | 8/10 [00:24<00:06,  3.17s/it][I 2023-11-09 20:49:01,081] Trial 34 finished with value: 0.1639856345786248 and parameters: {'bagging_fraction': 0.8057169966674835, 'bagging_freq': 6}. Best is trial 29 with value: 0.154620494102755.\n",
      "bagging, val_score: 0.154620:  80%|##########################################4          | 8/10 [00:24<00:06,  3.17s/it]"
     ]
    },
    {
     "name": "stdout",
     "output_type": "stream",
     "text": [
      "Early stopping, best iteration is:\n",
      "[192]\tcv_agg's l2: 0.15462 + 0.0200823\n",
      "[100]\tcv_agg's l2: 0.169197 + 0.0304313\n",
      "[200]\tcv_agg's l2: 0.164831 + 0.0248923\n"
     ]
    },
    {
     "name": "stderr",
     "output_type": "stream",
     "text": [
      "bagging, val_score: 0.154620:  90%|###############################################7     | 9/10 [00:28<00:03,  3.23s/it][I 2023-11-09 20:49:04,439] Trial 35 finished with value: 0.16444069284672208 and parameters: {'bagging_fraction': 0.8515798627347368, 'bagging_freq': 2}. Best is trial 29 with value: 0.154620494102755.\n",
      "bagging, val_score: 0.154620:  90%|###############################################7     | 9/10 [00:28<00:03,  3.23s/it]"
     ]
    },
    {
     "name": "stdout",
     "output_type": "stream",
     "text": [
      "Early stopping, best iteration is:\n",
      "[192]\tcv_agg's l2: 0.15462 + 0.0200823\n",
      "[100]\tcv_agg's l2: 0.184064 + 0.0318909\n",
      "[200]\tcv_agg's l2: 0.183929 + 0.0284596\n"
     ]
    },
    {
     "name": "stderr",
     "output_type": "stream",
     "text": [
      "bagging, val_score: 0.154620: 100%|####################################################| 10/10 [00:30<00:00,  3.04s/it][I 2023-11-09 20:49:07,049] Trial 36 finished with value: 0.18413157269728492 and parameters: {'bagging_fraction': 0.6361403863472004, 'bagging_freq': 5}. Best is trial 29 with value: 0.154620494102755.\n",
      "bagging, val_score: 0.154620: 100%|####################################################| 10/10 [00:30<00:00,  3.06s/it]\n"
     ]
    },
    {
     "name": "stdout",
     "output_type": "stream",
     "text": [
      "Early stopping, best iteration is:\n",
      "[192]\tcv_agg's l2: 0.15462 + 0.0200823\n"
     ]
    },
    {
     "name": "stderr",
     "output_type": "stream",
     "text": [
      "feature_fraction_stage2, val_score: 0.154620:   0%|                                              | 0/3 [00:00<?, ?it/s]"
     ]
    },
    {
     "name": "stdout",
     "output_type": "stream",
     "text": [
      "[100]\tcv_agg's l2: 0.156381 + 0.0216912\n",
      "[200]\tcv_agg's l2: 0.155161 + 0.0200584\n"
     ]
    },
    {
     "name": "stderr",
     "output_type": "stream",
     "text": [
      "feature_fraction_stage2, val_score: 0.154620:  33%|############6                         | 1/3 [00:03<00:06,  3.43s/it][I 2023-11-09 20:49:10,481] Trial 37 finished with value: 0.154620494102755 and parameters: {'feature_fraction': 0.41600000000000004}. Best is trial 37 with value: 0.154620494102755.\n",
      "feature_fraction_stage2, val_score: 0.154620:  33%|############6                         | 1/3 [00:03<00:06,  3.43s/it]"
     ]
    },
    {
     "name": "stdout",
     "output_type": "stream",
     "text": [
      "Early stopping, best iteration is:\n",
      "[192]\tcv_agg's l2: 0.15462 + 0.0200823\n",
      "[100]\tcv_agg's l2: 0.165739 + 0.0268619\n",
      "[200]\tcv_agg's l2: 0.162767 + 0.0241905\n"
     ]
    },
    {
     "name": "stderr",
     "output_type": "stream",
     "text": [
      "feature_fraction_stage2, val_score: 0.154620:  67%|#########################3            | 2/3 [00:06<00:03,  3.30s/it][I 2023-11-09 20:49:13,697] Trial 38 finished with value: 0.16280598737087437 and parameters: {'feature_fraction': 0.48000000000000004}. Best is trial 37 with value: 0.154620494102755.\n",
      "feature_fraction_stage2, val_score: 0.154620:  67%|#########################3            | 2/3 [00:06<00:03,  3.30s/it]"
     ]
    },
    {
     "name": "stdout",
     "output_type": "stream",
     "text": [
      "Early stopping, best iteration is:\n",
      "[192]\tcv_agg's l2: 0.15462 + 0.0200823\n",
      "[100]\tcv_agg's l2: 0.165739 + 0.0268619\n",
      "[200]\tcv_agg's l2: 0.162767 + 0.0241905\n"
     ]
    },
    {
     "name": "stderr",
     "output_type": "stream",
     "text": [
      "feature_fraction_stage2, val_score: 0.154620: 100%|######################################| 3/3 [00:09<00:00,  3.26s/it][I 2023-11-09 20:49:16,917] Trial 39 finished with value: 0.16280598737087437 and parameters: {'feature_fraction': 0.44800000000000006}. Best is trial 37 with value: 0.154620494102755.\n",
      "feature_fraction_stage2, val_score: 0.154620: 100%|######################################| 3/3 [00:09<00:00,  3.29s/it]\n"
     ]
    },
    {
     "name": "stdout",
     "output_type": "stream",
     "text": [
      "Early stopping, best iteration is:\n",
      "[192]\tcv_agg's l2: 0.15462 + 0.0200823\n"
     ]
    },
    {
     "name": "stderr",
     "output_type": "stream",
     "text": [
      "regularization_factors, val_score: 0.154620:   0%|                                              | 0/20 [00:00<?, ?it/s]"
     ]
    },
    {
     "name": "stdout",
     "output_type": "stream",
     "text": [
      "[100]\tcv_agg's l2: 0.157806 + 0.021526\n",
      "[200]\tcv_agg's l2: 0.157542 + 0.0178733\n"
     ]
    },
    {
     "name": "stderr",
     "output_type": "stream",
     "text": [
      "regularization_factors, val_score: 0.154620:   5%|#9                                    | 1/20 [00:03<01:05,  3.43s/it][I 2023-11-09 20:49:20,355] Trial 40 finished with value: 0.15711063109124987 and parameters: {'lambda_l1': 0.0005372823847541688, 'lambda_l2': 0.0005952285192986431}. Best is trial 40 with value: 0.15711063109124987.\n",
      "regularization_factors, val_score: 0.154620:   5%|#9                                    | 1/20 [00:03<01:05,  3.43s/it]"
     ]
    },
    {
     "name": "stdout",
     "output_type": "stream",
     "text": [
      "Early stopping, best iteration is:\n",
      "[192]\tcv_agg's l2: 0.15462 + 0.0200823\n",
      "[100]\tcv_agg's l2: 0.156381 + 0.0216912\n",
      "[200]\tcv_agg's l2: 0.155161 + 0.0200584\n"
     ]
    },
    {
     "name": "stderr",
     "output_type": "stream",
     "text": [
      "regularization_factors, val_score: 0.154620:  10%|###8                                  | 2/20 [00:06<01:00,  3.34s/it][I 2023-11-09 20:49:23,639] Trial 41 finished with value: 0.15462049407789388 and parameters: {'lambda_l1': 1.2249362529251501e-08, 'lambda_l2': 1.1650904674085307e-08}. Best is trial 41 with value: 0.15462049407789388.\n",
      "regularization_factors, val_score: 0.154620:  10%|###8                                  | 2/20 [00:06<01:00,  3.34s/it]"
     ]
    },
    {
     "name": "stdout",
     "output_type": "stream",
     "text": [
      "Early stopping, best iteration is:\n",
      "[192]\tcv_agg's l2: 0.15462 + 0.0200823\n",
      "[100]\tcv_agg's l2: 0.156381 + 0.0216912\n",
      "[200]\tcv_agg's l2: 0.155161 + 0.0200584\n"
     ]
    },
    {
     "name": "stderr",
     "output_type": "stream",
     "text": [
      "regularization_factors, val_score: 0.154620:  15%|#####7                                | 3/20 [00:10<00:57,  3.37s/it][I 2023-11-09 20:49:27,035] Trial 42 finished with value: 0.15462049401184505 and parameters: {'lambda_l1': 3.081584490025503e-08, 'lambda_l2': 4.1823170527019034e-08}. Best is trial 42 with value: 0.15462049401184505.\n",
      "regularization_factors, val_score: 0.154620:  15%|#####7                                | 3/20 [00:10<00:57,  3.37s/it]"
     ]
    },
    {
     "name": "stdout",
     "output_type": "stream",
     "text": [
      "Early stopping, best iteration is:\n",
      "[192]\tcv_agg's l2: 0.15462 + 0.0200823\n",
      "[100]\tcv_agg's l2: 0.156381 + 0.0216912\n",
      "[200]\tcv_agg's l2: 0.155161 + 0.0200584\n"
     ]
    },
    {
     "name": "stderr",
     "output_type": "stream",
     "text": [
      "regularization_factors, val_score: 0.154620:  20%|#######6                              | 4/20 [00:13<00:53,  3.35s/it][I 2023-11-09 20:49:30,347] Trial 43 finished with value: 0.1546204940771399 and parameters: {'lambda_l1': 1.3575365049929164e-08, 'lambda_l2': 1.070836731343074e-08}. Best is trial 42 with value: 0.15462049401184505.\n",
      "regularization_factors, val_score: 0.154620:  20%|#######6                              | 4/20 [00:13<00:53,  3.35s/it]"
     ]
    },
    {
     "name": "stdout",
     "output_type": "stream",
     "text": [
      "Early stopping, best iteration is:\n",
      "[192]\tcv_agg's l2: 0.15462 + 0.0200823\n",
      "[100]\tcv_agg's l2: 0.156381 + 0.0216912\n",
      "[200]\tcv_agg's l2: 0.155161 + 0.0200584\n"
     ]
    },
    {
     "name": "stderr",
     "output_type": "stream",
     "text": [
      "regularization_factors, val_score: 0.154620:  25%|#########5                            | 5/20 [00:16<00:50,  3.35s/it][I 2023-11-09 20:49:33,695] Trial 44 finished with value: 0.15462049405759437 and parameters: {'lambda_l1': 1.6587840577040403e-08, 'lambda_l2': 1.0533593635925096e-08}. Best is trial 42 with value: 0.15462049401184505.\n",
      "regularization_factors, val_score: 0.154620:  25%|#########5                            | 5/20 [00:16<00:50,  3.35s/it]"
     ]
    },
    {
     "name": "stdout",
     "output_type": "stream",
     "text": [
      "Early stopping, best iteration is:\n",
      "[192]\tcv_agg's l2: 0.15462 + 0.0200823\n",
      "[100]\tcv_agg's l2: 0.156381 + 0.0216912\n",
      "[200]\tcv_agg's l2: 0.155161 + 0.0200584\n"
     ]
    },
    {
     "name": "stderr",
     "output_type": "stream",
     "text": [
      "regularization_factors, val_score: 0.154620:  30%|###########4                          | 6/20 [00:19<00:46,  3.30s/it][I 2023-11-09 20:49:36,910] Trial 45 finished with value: 0.15462049403946862 and parameters: {'lambda_l1': 2.509684526595987e-08, 'lambda_l2': 1.0130811754985641e-08}. Best is trial 42 with value: 0.15462049401184505.\n",
      "regularization_factors, val_score: 0.154620:  30%|###########4                          | 6/20 [00:19<00:46,  3.30s/it]"
     ]
    },
    {
     "name": "stdout",
     "output_type": "stream",
     "text": [
      "Early stopping, best iteration is:\n",
      "[192]\tcv_agg's l2: 0.15462 + 0.0200823\n",
      "[100]\tcv_agg's l2: 0.156381 + 0.0216912\n",
      "[200]\tcv_agg's l2: 0.155161 + 0.0200584\n"
     ]
    },
    {
     "name": "stderr",
     "output_type": "stream",
     "text": [
      "regularization_factors, val_score: 0.154620:  35%|#############3                        | 7/20 [00:23<00:42,  3.30s/it][I 2023-11-09 20:49:40,214] Trial 46 finished with value: 0.15462049406982126 and parameters: {'lambda_l1': 1.2364774885594216e-08, 'lambda_l2': 1.1738909553062627e-08}. Best is trial 42 with value: 0.15462049401184505.\n",
      "regularization_factors, val_score: 0.154620:  35%|#############3                        | 7/20 [00:23<00:42,  3.30s/it]"
     ]
    },
    {
     "name": "stdout",
     "output_type": "stream",
     "text": [
      "Early stopping, best iteration is:\n",
      "[192]\tcv_agg's l2: 0.15462 + 0.0200823\n",
      "[100]\tcv_agg's l2: 0.156381 + 0.0216912\n",
      "[200]\tcv_agg's l2: 0.155161 + 0.0200584\n"
     ]
    },
    {
     "name": "stderr",
     "output_type": "stream",
     "text": [
      "regularization_factors, val_score: 0.154620:  40%|###############2                      | 8/20 [00:26<00:39,  3.27s/it][I 2023-11-09 20:49:43,419] Trial 47 finished with value: 0.15462049408227457 and parameters: {'lambda_l1': 1.1212543280783723e-08, 'lambda_l2': 1.1059113407791975e-08}. Best is trial 42 with value: 0.15462049401184505.\n",
      "regularization_factors, val_score: 0.154620:  40%|###############2                      | 8/20 [00:26<00:39,  3.27s/it]"
     ]
    },
    {
     "name": "stdout",
     "output_type": "stream",
     "text": [
      "Early stopping, best iteration is:\n",
      "[192]\tcv_agg's l2: 0.15462 + 0.0200823\n",
      "[100]\tcv_agg's l2: 0.156381 + 0.0216912\n",
      "[200]\tcv_agg's l2: 0.155161 + 0.0200584\n"
     ]
    },
    {
     "name": "stderr",
     "output_type": "stream",
     "text": [
      "regularization_factors, val_score: 0.154620:  45%|#################1                    | 9/20 [00:29<00:36,  3.28s/it][I 2023-11-09 20:49:46,711] Trial 48 finished with value: 0.15462049407025094 and parameters: {'lambda_l1': 1.642756246458166e-08, 'lambda_l2': 1.2749975552911874e-08}. Best is trial 42 with value: 0.15462049401184505.\n",
      "regularization_factors, val_score: 0.154620:  45%|#################1                    | 9/20 [00:29<00:36,  3.28s/it]"
     ]
    },
    {
     "name": "stdout",
     "output_type": "stream",
     "text": [
      "Early stopping, best iteration is:\n",
      "[192]\tcv_agg's l2: 0.15462 + 0.0200823\n",
      "[100]\tcv_agg's l2: 0.156381 + 0.0216912\n",
      "[200]\tcv_agg's l2: 0.155161 + 0.0200584\n"
     ]
    },
    {
     "name": "stderr",
     "output_type": "stream",
     "text": [
      "regularization_factors, val_score: 0.154620:  50%|##################5                  | 10/20 [00:33<00:32,  3.28s/it][I 2023-11-09 20:49:49,991] Trial 49 finished with value: 0.15462049405354872 and parameters: {'lambda_l1': 2.360970654480109e-08, 'lambda_l2': 1.1672190815822385e-08}. Best is trial 42 with value: 0.15462049401184505.\n",
      "regularization_factors, val_score: 0.154620:  50%|##################5                  | 10/20 [00:33<00:32,  3.28s/it]"
     ]
    },
    {
     "name": "stdout",
     "output_type": "stream",
     "text": [
      "Early stopping, best iteration is:\n",
      "[192]\tcv_agg's l2: 0.15462 + 0.0200823\n",
      "[100]\tcv_agg's l2: 0.156381 + 0.0216912\n",
      "[200]\tcv_agg's l2: 0.155161 + 0.0200584\n"
     ]
    },
    {
     "name": "stderr",
     "output_type": "stream",
     "text": [
      "regularization_factors, val_score: 0.154620:  55%|####################3                | 11/20 [00:36<00:29,  3.30s/it][I 2023-11-09 20:49:53,332] Trial 50 finished with value: 0.1546204938968378 and parameters: {'lambda_l1': 1.207071109989531e-07, 'lambda_l2': 1.120082001474517e-08}. Best is trial 50 with value: 0.1546204938968378.\n",
      "regularization_factors, val_score: 0.154620:  55%|####################3                | 11/20 [00:36<00:29,  3.30s/it]"
     ]
    },
    {
     "name": "stdout",
     "output_type": "stream",
     "text": [
      "Early stopping, best iteration is:\n",
      "[192]\tcv_agg's l2: 0.15462 + 0.0200823\n",
      "[100]\tcv_agg's l2: 0.156381 + 0.0216912\n",
      "[200]\tcv_agg's l2: 0.155161 + 0.0200584\n"
     ]
    },
    {
     "name": "stderr",
     "output_type": "stream",
     "text": [
      "regularization_factors, val_score: 0.154620:  60%|######################2              | 12/20 [00:39<00:26,  3.27s/it][I 2023-11-09 20:49:56,553] Trial 51 finished with value: 0.1546204940433356 and parameters: {'lambda_l1': 5.068518468833743e-08, 'lambda_l2': 1.2942923566710873e-08}. Best is trial 50 with value: 0.1546204938968378.\n",
      "regularization_factors, val_score: 0.154620:  60%|######################2              | 12/20 [00:39<00:26,  3.27s/it]"
     ]
    },
    {
     "name": "stdout",
     "output_type": "stream",
     "text": [
      "Early stopping, best iteration is:\n",
      "[192]\tcv_agg's l2: 0.15462 + 0.0200823\n",
      "[100]\tcv_agg's l2: 0.156381 + 0.0216912\n",
      "[200]\tcv_agg's l2: 0.154895 + 0.0197888\n"
     ]
    },
    {
     "name": "stderr",
     "output_type": "stream",
     "text": [
      "regularization_factors, val_score: 0.154287:  65%|########################             | 13/20 [00:42<00:23,  3.30s/it][I 2023-11-09 20:49:59,922] Trial 52 finished with value: 0.15428680098044106 and parameters: {'lambda_l1': 4.841080099138311e-07, 'lambda_l2': 1.2406329210399177e-08}. Best is trial 52 with value: 0.15428680098044106.\n",
      "regularization_factors, val_score: 0.154287:  65%|########################             | 13/20 [00:43<00:23,  3.30s/it]"
     ]
    },
    {
     "name": "stdout",
     "output_type": "stream",
     "text": [
      "Early stopping, best iteration is:\n",
      "[192]\tcv_agg's l2: 0.154287 + 0.0197394\n",
      "[100]\tcv_agg's l2: 0.156381 + 0.0216912\n",
      "[200]\tcv_agg's l2: 0.154895 + 0.0197889\n"
     ]
    },
    {
     "name": "stderr",
     "output_type": "stream",
     "text": [
      "regularization_factors, val_score: 0.154287:  70%|#########################9           | 14/20 [00:46<00:19,  3.33s/it][I 2023-11-09 20:50:03,299] Trial 53 finished with value: 0.15428680045209703 and parameters: {'lambda_l1': 5.185266584437522e-07, 'lambda_l2': 6.899341230422388e-07}. Best is trial 53 with value: 0.15428680045209703.\n",
      "regularization_factors, val_score: 0.154287:  70%|#########################9           | 14/20 [00:46<00:19,  3.33s/it]"
     ]
    },
    {
     "name": "stdout",
     "output_type": "stream",
     "text": [
      "Early stopping, best iteration is:\n",
      "[192]\tcv_agg's l2: 0.154287 + 0.0197394\n",
      "[100]\tcv_agg's l2: 0.156381 + 0.0216912\n",
      "[200]\tcv_agg's l2: 0.155267 + 0.0197187\n"
     ]
    },
    {
     "name": "stderr",
     "output_type": "stream",
     "text": [
      "regularization_factors, val_score: 0.154287:  75%|###########################7         | 15/20 [00:49<00:16,  3.32s/it][I 2023-11-09 20:50:06,612] Trial 54 finished with value: 0.1548288885547381 and parameters: {'lambda_l1': 2.0576078222252674e-06, 'lambda_l2': 8.218733583809972e-07}. Best is trial 53 with value: 0.15428680045209703.\n",
      "regularization_factors, val_score: 0.154287:  75%|###########################7         | 15/20 [00:49<00:16,  3.32s/it]"
     ]
    },
    {
     "name": "stdout",
     "output_type": "stream",
     "text": [
      "Early stopping, best iteration is:\n",
      "[192]\tcv_agg's l2: 0.154287 + 0.0197394\n",
      "[100]\tcv_agg's l2: 0.156381 + 0.0216912\n",
      "[200]\tcv_agg's l2: 0.155267 + 0.0197187\n"
     ]
    },
    {
     "name": "stderr",
     "output_type": "stream",
     "text": [
      "regularization_factors, val_score: 0.154287:  80%|#############################6       | 16/20 [00:52<00:13,  3.28s/it][I 2023-11-09 20:50:09,795] Trial 55 finished with value: 0.15482888870951297 and parameters: {'lambda_l1': 2.0069194311435396e-06, 'lambda_l2': 6.475579601874196e-07}. Best is trial 53 with value: 0.15428680045209703.\n",
      "regularization_factors, val_score: 0.154287:  80%|#############################6       | 16/20 [00:52<00:13,  3.28s/it]"
     ]
    },
    {
     "name": "stdout",
     "output_type": "stream",
     "text": [
      "Early stopping, best iteration is:\n",
      "[192]\tcv_agg's l2: 0.154287 + 0.0197394\n",
      "[100]\tcv_agg's l2: 0.156381 + 0.0216912\n",
      "[200]\tcv_agg's l2: 0.154895 + 0.0197889\n"
     ]
    },
    {
     "name": "stderr",
     "output_type": "stream",
     "text": [
      "regularization_factors, val_score: 0.154287:  85%|###############################4     | 17/20 [00:56<00:09,  3.31s/it][I 2023-11-09 20:50:13,163] Trial 56 finished with value: 0.15428680019206156 and parameters: {'lambda_l1': 7.323198347439014e-07, 'lambda_l2': 2.848896065168513e-07}. Best is trial 56 with value: 0.15428680019206156.\n",
      "regularization_factors, val_score: 0.154287:  85%|###############################4     | 17/20 [00:56<00:09,  3.31s/it]"
     ]
    },
    {
     "name": "stdout",
     "output_type": "stream",
     "text": [
      "Early stopping, best iteration is:\n",
      "[192]\tcv_agg's l2: 0.154287 + 0.0197394\n",
      "[100]\tcv_agg's l2: 0.156381 + 0.0216912\n",
      "[200]\tcv_agg's l2: 0.154895 + 0.0197889\n"
     ]
    },
    {
     "name": "stderr",
     "output_type": "stream",
     "text": [
      "regularization_factors, val_score: 0.154287:  90%|#################################3   | 18/20 [00:59<00:06,  3.29s/it][I 2023-11-09 20:50:16,406] Trial 57 finished with value: 0.15428680000429146 and parameters: {'lambda_l1': 7.50288363625648e-07, 'lambda_l2': 6.412376904093143e-07}. Best is trial 57 with value: 0.15428680000429146.\n",
      "regularization_factors, val_score: 0.154287:  90%|#################################3   | 18/20 [00:59<00:06,  3.29s/it]"
     ]
    },
    {
     "name": "stdout",
     "output_type": "stream",
     "text": [
      "Early stopping, best iteration is:\n",
      "[192]\tcv_agg's l2: 0.154287 + 0.0197394\n",
      "[100]\tcv_agg's l2: 0.156381 + 0.0216912\n",
      "[200]\tcv_agg's l2: 0.155267 + 0.0197187\n"
     ]
    },
    {
     "name": "stderr",
     "output_type": "stream",
     "text": [
      "regularization_factors, val_score: 0.154287:  95%|###################################1 | 19/20 [01:02<00:03,  3.33s/it][I 2023-11-09 20:50:19,851] Trial 58 finished with value: 0.15482888972721792 and parameters: {'lambda_l1': 1.4994391336940513e-06, 'lambda_l2': 4.974097168244685e-07}. Best is trial 57 with value: 0.15428680000429146.\n",
      "regularization_factors, val_score: 0.154287:  95%|###################################1 | 19/20 [01:02<00:03,  3.33s/it]"
     ]
    },
    {
     "name": "stdout",
     "output_type": "stream",
     "text": [
      "Early stopping, best iteration is:\n",
      "[192]\tcv_agg's l2: 0.154287 + 0.0197394\n",
      "[100]\tcv_agg's l2: 0.156381 + 0.0216912\n",
      "[200]\tcv_agg's l2: 0.154895 + 0.0197889\n"
     ]
    },
    {
     "name": "stderr",
     "output_type": "stream",
     "text": [
      "regularization_factors, val_score: 0.154287: 100%|#####################################| 20/20 [01:06<00:00,  3.30s/it][I 2023-11-09 20:50:23,081] Trial 59 finished with value: 0.15428680037108908 and parameters: {'lambda_l1': 5.967371877396624e-07, 'lambda_l2': 3.78449012889893e-07}. Best is trial 57 with value: 0.15428680000429146.\n",
      "regularization_factors, val_score: 0.154287: 100%|#####################################| 20/20 [01:06<00:00,  3.31s/it]\n"
     ]
    },
    {
     "name": "stdout",
     "output_type": "stream",
     "text": [
      "Early stopping, best iteration is:\n",
      "[192]\tcv_agg's l2: 0.154287 + 0.0197394\n"
     ]
    },
    {
     "name": "stderr",
     "output_type": "stream",
     "text": [
      "min_data_in_leaf, val_score: 0.154287:   0%|                                                     | 0/5 [00:00<?, ?it/s]"
     ]
    },
    {
     "name": "stdout",
     "output_type": "stream",
     "text": [
      "[100]\tcv_agg's l2: 0.176846 + 0.0279324\n",
      "[200]\tcv_agg's l2: 0.171488 + 0.0236313\n"
     ]
    },
    {
     "name": "stderr",
     "output_type": "stream",
     "text": [
      "min_data_in_leaf, val_score: 0.154287:  20%|#########                                    | 1/5 [00:02<00:11,  2.82s/it][I 2023-11-09 20:50:25,910] Trial 60 finished with value: 0.17178221991528964 and parameters: {'min_child_samples': 25}. Best is trial 60 with value: 0.17178221991528964.\n",
      "min_data_in_leaf, val_score: 0.154287:  20%|#########                                    | 1/5 [00:02<00:11,  2.82s/it]"
     ]
    },
    {
     "name": "stdout",
     "output_type": "stream",
     "text": [
      "Early stopping, best iteration is:\n",
      "[192]\tcv_agg's l2: 0.154287 + 0.0197394\n",
      "[100]\tcv_agg's l2: 0.150958 + 0.0184399\n",
      "[200]\tcv_agg's l2: 0.148659 + 0.0184554\n",
      "[300]\tcv_agg's l2: 0.147764 + 0.0182332\n"
     ]
    },
    {
     "name": "stderr",
     "output_type": "stream",
     "text": [
      "min_data_in_leaf, val_score: 0.147642:  40%|##################                           | 2/5 [00:07<00:11,  3.73s/it][I 2023-11-09 20:50:30,270] Trial 61 finished with value: 0.14764237257592253 and parameters: {'min_child_samples': 10}. Best is trial 61 with value: 0.14764237257592253.\n",
      "min_data_in_leaf, val_score: 0.147642:  40%|##################                           | 2/5 [00:07<00:11,  3.73s/it]"
     ]
    },
    {
     "name": "stdout",
     "output_type": "stream",
     "text": [
      "Early stopping, best iteration is:\n",
      "[291]\tcv_agg's l2: 0.147642 + 0.0181491\n",
      "[100]\tcv_agg's l2: 0.235133 + 0.0254387\n",
      "[200]\tcv_agg's l2: 0.221143 + 0.0281428\n",
      "[300]\tcv_agg's l2: 0.218421 + 0.0327555\n"
     ]
    },
    {
     "name": "stderr",
     "output_type": "stream",
     "text": [
      "min_data_in_leaf, val_score: 0.147642:  60%|###########################                  | 3/5 [00:09<00:06,  3.04s/it][I 2023-11-09 20:50:32,501] Trial 62 finished with value: 0.21838994308372714 and parameters: {'min_child_samples': 50}. Best is trial 61 with value: 0.14764237257592253.\n",
      "min_data_in_leaf, val_score: 0.147642:  60%|###########################                  | 3/5 [00:09<00:06,  3.04s/it]"
     ]
    },
    {
     "name": "stdout",
     "output_type": "stream",
     "text": [
      "Early stopping, best iteration is:\n",
      "[291]\tcv_agg's l2: 0.147642 + 0.0181491\n",
      "[100]\tcv_agg's l2: 0.760242 + 0.124219\n",
      "[200]\tcv_agg's l2: 0.733776 + 0.132122\n",
      "[300]\tcv_agg's l2: 0.72122 + 0.130566\n"
     ]
    },
    {
     "name": "stderr",
     "output_type": "stream",
     "text": [
      "min_data_in_leaf, val_score: 0.147642:  80%|####################################         | 4/5 [00:10<00:02,  2.40s/it][I 2023-11-09 20:50:33,925] Trial 63 finished with value: 0.7206399897241929 and parameters: {'min_child_samples': 100}. Best is trial 61 with value: 0.14764237257592253.\n",
      "min_data_in_leaf, val_score: 0.147642:  80%|####################################         | 4/5 [00:10<00:02,  2.40s/it]"
     ]
    },
    {
     "name": "stdout",
     "output_type": "stream",
     "text": [
      "Early stopping, best iteration is:\n",
      "[291]\tcv_agg's l2: 0.147642 + 0.0181491\n",
      "[100]\tcv_agg's l2: 0.152774 + 0.0176024\n",
      "[200]\tcv_agg's l2: 0.150152 + 0.0158647\n",
      "[300]\tcv_agg's l2: 0.148963 + 0.0154969\n"
     ]
    },
    {
     "name": "stderr",
     "output_type": "stream",
     "text": [
      "min_data_in_leaf, val_score: 0.147642: 100%|#############################################| 5/5 [00:15<00:00,  3.10s/it][I 2023-11-09 20:50:38,265] Trial 64 finished with value: 0.1489609849179698 and parameters: {'min_child_samples': 5}. Best is trial 61 with value: 0.14764237257592253.\n",
      "min_data_in_leaf, val_score: 0.147642: 100%|#############################################| 5/5 [00:15<00:00,  3.04s/it]"
     ]
    },
    {
     "name": "stdout",
     "output_type": "stream",
     "text": [
      "Early stopping, best iteration is:\n",
      "[291]\tcv_agg's l2: 0.147642 + 0.0181491\n"
     ]
    },
    {
     "name": "stderr",
     "output_type": "stream",
     "text": [
      "\n"
     ]
    }
   ],
   "source": [
    "import optuna.integration.lightgbm as lgb\n",
    "from lightgbm import early_stopping, log_evaluation\n",
    "from sklearn.model_selection import KFold\n",
    "from sklearn.model_selection import RepeatedKFold\n",
    "\n",
    "\n",
    "lgb_train = lgb.Dataset(X_train, y_train)\n",
    "\n",
    "params = {\n",
    "    \"boosting_type\": \"gbdt\",\n",
    "    \"objective\": \"regression\",\n",
    "    \"metric\": \"l2\",\n",
    "    \"verbosity\": -1,\n",
    "}\n",
    "\n",
    "tuner = lgb.LightGBMTunerCV(\n",
    "    params,\n",
    "    lgb_train,\n",
    "    folds=KFold(n_splits=5),\n",
    "    num_boost_round=10000,\n",
    "    callbacks=[early_stopping(100), log_evaluation(100)],\n",
    ")\n",
    "\n",
    "tuner.run()"
   ]
  },
  {
   "cell_type": "code",
   "execution_count": 23,
   "id": "8406fc3e",
   "metadata": {},
   "outputs": [
    {
     "name": "stdout",
     "output_type": "stream",
     "text": [
      "Best score: 0.14764237257592253\n",
      "Params: \n",
      "    boosting_type: gbdt\n",
      "    objective: regression\n",
      "    metric: l2\n",
      "    verbosity: -1\n",
      "    feature_pre_filter: False\n",
      "    lambda_l1: 7.50288363625648e-07\n",
      "    lambda_l2: 6.412376904093143e-07\n",
      "    num_leaves: 22\n",
      "    feature_fraction: 0.4\n",
      "    bagging_fraction: 0.976081702738314\n",
      "    bagging_freq: 4\n",
      "    min_child_samples: 10\n"
     ]
    }
   ],
   "source": [
    "print(f\"Best score: {tuner.best_score}\")\n",
    "best_params = tuner.best_params\n",
    "print(\"Params: \")\n",
    "for key, value in best_params.items():\n",
    "    print(\"    {}: {}\".format(key, value))"
   ]
  },
  {
   "cell_type": "code",
   "execution_count": 24,
   "id": "880974ce",
   "metadata": {},
   "outputs": [],
   "source": [
    "import lightgbm as lgb\n",
    "\n",
    "lgb_tuned = lgb.train(\n",
    "    best_params,\n",
    "    lgb_train,\n",
    "    num_boost_round=10000,\n",
    ")"
   ]
  },
  {
   "cell_type": "code",
   "execution_count": 25,
   "id": "53d87b2c",
   "metadata": {},
   "outputs": [
    {
     "name": "stdout",
     "output_type": "stream",
     "text": [
      "RMSE train: 0.00\n",
      "RMSE test: 0.46\n",
      "MAE test: 0.33\n",
      "\n"
     ]
    }
   ],
   "source": [
    "rmse, mae = assess_regression_model(lgb_tuned, X_train, X_test, y_train, y_test)"
   ]
  },
  {
   "cell_type": "code",
   "execution_count": 26,
   "id": "843255bc",
   "metadata": {},
   "outputs": [],
   "source": [
    "results.loc[1] = [\n",
    "    \"chronological\",\n",
    "    \"Optuna\",\n",
    "    \"expanded\",\n",
    "    rmse,\n",
    "    mae,\n",
    "]"
   ]
  },
  {
   "cell_type": "markdown",
   "id": "1c9ef70d",
   "metadata": {},
   "source": [
    "###### MAE by level"
   ]
  },
  {
   "cell_type": "code",
   "execution_count": 27,
   "id": "eab77fc8",
   "metadata": {},
   "outputs": [
    {
     "data": {
      "image/png": "[encoded data removed]",
      "text/plain": [
       "<Figure size 1440x576 with 1 Axes>"
      ]
     },
     "metadata": {
      "needs_background": "light"
     },
     "output_type": "display_data"
    }
   ],
   "source": [
    "plot_mae_by_level(\n",
    "    y_test,\n",
    "    y_pred_test,\n",
    "    title=\"MAE by level for tuned LightGBM with expanded features and chronological split\",\n",
    ")"
   ]
  },
  {
   "cell_type": "code",
   "execution_count": 28,
   "id": "778f84c5",
   "metadata": {},
   "outputs": [
    {
     "name": "stdout",
     "output_type": "stream",
     "text": [
      "Default:\n",
      "RMSE: 0.46\n",
      "\n",
      "Round type: 0.5\n",
      "RMSE: 0.46\n",
      "\n",
      "Round type: 0.33\n",
      "RMSE: 0.50\n",
      "\n",
      "Round type: 0.45\n",
      "RMSE: 0.47\n",
      "\n"
     ]
    }
   ],
   "source": [
    "predict = lgb_tuned.predict(X_test)\n",
    "evaluate_round_predictions([0.5, 0.33, 0.45], y_test, predict)"
   ]
  },
  {
   "cell_type": "code",
   "execution_count": 29,
   "id": "7823441a",
   "metadata": {},
   "outputs": [
    {
     "data": {
      "image/png": "[encoded data removed]",
      "text/plain": [
       "<Figure size 720x720 with 2 Axes>"
      ]
     },
     "metadata": {
      "needs_background": "light"
     },
     "output_type": "display_data"
    }
   ],
   "source": [
    "plot_confusion_matrix(\n",
    "    predict,\n",
    "    y_test,\n",
    "    title=\"Confusion matrix for tuned LightGBM with\\nexpanded features and chronological split\",\n",
    ")"
   ]
  },
  {
   "cell_type": "markdown",
   "id": "35088cc9",
   "metadata": {},
   "source": [
    "## Random split"
   ]
  },
  {
   "cell_type": "code",
   "execution_count": 30,
   "id": "692c4056",
   "metadata": {},
   "outputs": [
    {
     "name": "stdout",
     "output_type": "stream",
     "text": [
      "[LightGBM] [Warning] Auto-choosing col-wise multi-threading, the overhead of testing was 0.000557 seconds.\n",
      "You can set `force_col_wise=true` to remove the overhead.\n",
      "[LightGBM] [Info] Total Bins 392\n",
      "[LightGBM] [Info] Number of data points in the train set: 904, number of used features: 13\n",
      "[LightGBM] [Info] Start training from score 7.162611\n",
      "Training until validation scores don't improve for 5 rounds\n",
      "Early stopping, best iteration is:\n",
      "[88]\tvalid_0's l1: 0.267273\tvalid_0's l2: 0.148111\n"
     ]
    }
   ],
   "source": [
    "import lightgbm as lgb\n",
    "from sklearn.metrics import mean_squared_error\n",
    "\n",
    "lgb_train = lgb.Dataset(X_train_random_split, y_train_random_split)\n",
    "lgb_eval = lgb.Dataset(X_test_random_split, y_test_random_split, reference=lgb_train)\n",
    "\n",
    "params = {\n",
    "    \"boosting_type\": \"gbdt\",\n",
    "    \"objective\": \"regression\",\n",
    "    \"metric\": {\"l2\", \"l1\"},\n",
    "}\n",
    "\n",
    "gbm = lgb.train(\n",
    "    params,\n",
    "    lgb_train,\n",
    "    num_boost_round=100,\n",
    "    valid_sets=lgb_eval,\n",
    "    callbacks=[lgb.early_stopping(stopping_rounds=5)],\n",
    ")"
   ]
  },
  {
   "cell_type": "code",
   "execution_count": 31,
   "id": "24879a40",
   "metadata": {},
   "outputs": [],
   "source": [
    "y_pred_train = gbm.predict(X_train_random_split, num_iteration=gbm.best_iteration)\n",
    "y_pred_test = gbm.predict(X_test_random_split, num_iteration=gbm.best_iteration)"
   ]
  },
  {
   "cell_type": "code",
   "execution_count": 32,
   "id": "b5a760c1",
   "metadata": {},
   "outputs": [
    {
     "name": "stdout",
     "output_type": "stream",
     "text": [
      "RMSE: 0.38\n",
      "MAE: 0.27\n"
     ]
    }
   ],
   "source": [
    "from sklearn.metrics import mean_squared_error, mean_absolute_error\n",
    "\n",
    "\n",
    "rmse = mean_squared_error(y_test_random_split, y_pred_test, squared=False)\n",
    "mae = mean_absolute_error(y_test_random_split, y_pred_test)\n",
    "\n",
    "print(f\"RMSE: {rmse:.2f}\")\n",
    "print(f\"MAE: {mae:.2f}\")"
   ]
  },
  {
   "cell_type": "code",
   "execution_count": 33,
   "id": "a52e182e",
   "metadata": {},
   "outputs": [],
   "source": [
    "results.loc[2] = [\"random\", \"default\", \"expanded\", rmse, mae]"
   ]
  },
  {
   "cell_type": "markdown",
   "id": "17a44a91",
   "metadata": {},
   "source": [
    "###### MAE by level"
   ]
  },
  {
   "cell_type": "code",
   "execution_count": 34,
   "id": "180f64e4",
   "metadata": {},
   "outputs": [
    {
     "data": {
      "image/png": "[encoded data removed]",
      "text/plain": [
       "<Figure size 1440x576 with 1 Axes>"
      ]
     },
     "metadata": {
      "needs_background": "light"
     },
     "output_type": "display_data"
    }
   ],
   "source": [
    "plot_mae_by_level(\n",
    "    y_test_random_split,\n",
    "    y_pred_test,\n",
    "    title=\"MAE by level for default LightGBM with expanded features and random split\",\n",
    ")"
   ]
  },
  {
   "cell_type": "code",
   "execution_count": 35,
   "id": "b42be07c",
   "metadata": {},
   "outputs": [
    {
     "name": "stdout",
     "output_type": "stream",
     "text": [
      "Default:\n",
      "RMSE: 0.38\n",
      "\n",
      "Round type: 0.5\n",
      "RMSE: 0.39\n",
      "\n",
      "Round type: 0.33\n",
      "RMSE: 0.45\n",
      "\n",
      "Round type: 0.45\n",
      "RMSE: 0.41\n",
      "\n"
     ]
    }
   ],
   "source": [
    "evaluate_round_predictions([0.5, 0.33, 0.45], y_test_random_split, y_pred_test)"
   ]
  },
  {
   "cell_type": "code",
   "execution_count": 36,
   "id": "79174d21",
   "metadata": {},
   "outputs": [
    {
     "data": {
      "image/png": "[encoded data removed]",
      "text/plain": [
       "<Figure size 720x720 with 2 Axes>"
      ]
     },
     "metadata": {
      "needs_background": "light"
     },
     "output_type": "display_data"
    }
   ],
   "source": [
    "plot_confusion_matrix(\n",
    "    y_pred_test,\n",
    "    y_test_random_split,\n",
    "    title=\"Confusion matrix for default LightGBM with\\nexpanded features and random split\",\n",
    ")"
   ]
  },
  {
   "cell_type": "markdown",
   "id": "79bbd5ec",
   "metadata": {},
   "source": [
    "### Tuning"
   ]
  },
  {
   "cell_type": "code",
   "execution_count": 37,
   "id": "62270e6b",
   "metadata": {
    "scrolled": true
   },
   "outputs": [
    {
     "name": "stderr",
     "output_type": "stream",
     "text": [
      "[I 2023-11-09 20:51:07,834] A new study created in memory with name: no-name-fc6b1c03-194a-416a-9675-49c16f395006\n",
      "feature_fraction, val_score: inf:   0%|                                                          | 0/7 [00:00<?, ?it/s]"
     ]
    },
    {
     "name": "stdout",
     "output_type": "stream",
     "text": [
      "Training until validation scores don't improve for 100 rounds\n",
      "[100]\tcv_agg's l2: 0.187352 + 0.0576399\n",
      "[200]\tcv_agg's l2: 0.187791 + 0.0566425\n"
     ]
    },
    {
     "name": "stderr",
     "output_type": "stream",
     "text": [
      "feature_fraction, val_score: 0.186709:  14%|######4                                      | 1/7 [00:01<00:11,  1.93s/it][I 2023-11-09 20:51:09,768] Trial 0 finished with value: 0.1867091882061038 and parameters: {'feature_fraction': 0.7}. Best is trial 0 with value: 0.1867091882061038.\n",
      "feature_fraction, val_score: 0.186709:  14%|######4                                      | 1/7 [00:01<00:11,  1.93s/it]"
     ]
    },
    {
     "name": "stdout",
     "output_type": "stream",
     "text": [
      "Early stopping, best iteration is:\n",
      "[131]\tcv_agg's l2: 0.186709 + 0.0571791\n",
      "[100]\tcv_agg's l2: 0.184772 + 0.0440265\n",
      "[200]\tcv_agg's l2: 0.18234 + 0.0420791\n",
      "[300]\tcv_agg's l2: 0.182703 + 0.0417769\n"
     ]
    },
    {
     "name": "stderr",
     "output_type": "stream",
     "text": [
      "feature_fraction, val_score: 0.182040:  29%|############8                                | 2/7 [00:05<00:14,  2.81s/it][I 2023-11-09 20:51:13,194] Trial 1 finished with value: 0.18203989979134066 and parameters: {'feature_fraction': 0.8999999999999999}. Best is trial 1 with value: 0.18203989979134066.\n",
      "feature_fraction, val_score: 0.182040:  29%|############8                                | 2/7 [00:05<00:14,  2.81s/it]"
     ]
    },
    {
     "name": "stdout",
     "output_type": "stream",
     "text": [
      "Early stopping, best iteration is:\n",
      "[229]\tcv_agg's l2: 0.18204 + 0.0417122\n",
      "[100]\tcv_agg's l2: 0.192038 + 0.0413721\n",
      "[200]\tcv_agg's l2: 0.189522 + 0.0412893\n",
      "[300]\tcv_agg's l2: 0.191231 + 0.0417325\n"
     ]
    },
    {
     "name": "stderr",
     "output_type": "stream",
     "text": [
      "feature_fraction, val_score: 0.182040:  43%|###################2                         | 3/7 [00:09<00:13,  3.36s/it][I 2023-11-09 20:51:17,216] Trial 2 finished with value: 0.1898110945563523 and parameters: {'feature_fraction': 1.0}. Best is trial 1 with value: 0.18203989979134066.\n",
      "feature_fraction, val_score: 0.182040:  43%|###################2                         | 3/7 [00:09<00:13,  3.36s/it]"
     ]
    },
    {
     "name": "stdout",
     "output_type": "stream",
     "text": [
      "Early stopping, best iteration is:\n",
      "[229]\tcv_agg's l2: 0.18204 + 0.0417122\n",
      "[100]\tcv_agg's l2: 0.16129 + 0.035217\n"
     ]
    },
    {
     "name": "stderr",
     "output_type": "stream",
     "text": [
      "feature_fraction, val_score: 0.160720:  57%|#########################7                   | 4/7 [00:11<00:08,  2.97s/it][I 2023-11-09 20:51:19,586] Trial 3 finished with value: 0.16072002131845703 and parameters: {'feature_fraction': 0.4}. Best is trial 3 with value: 0.16072002131845703.\n",
      "feature_fraction, val_score: 0.160720:  57%|#########################7                   | 4/7 [00:11<00:08,  2.97s/it]"
     ]
    },
    {
     "name": "stdout",
     "output_type": "stream",
     "text": [
      "[200]\tcv_agg's l2: 0.161307 + 0.0322848\n",
      "Early stopping, best iteration is:\n",
      "[114]\tcv_agg's l2: 0.16072 + 0.0346909\n",
      "[100]\tcv_agg's l2: 0.175735 + 0.0463338\n"
     ]
    },
    {
     "name": "stderr",
     "output_type": "stream",
     "text": [
      "feature_fraction, val_score: 0.160720:  71%|################################1            | 5/7 [00:14<00:05,  2.80s/it][I 2023-11-09 20:51:22,086] Trial 4 finished with value: 0.17520686365718272 and parameters: {'feature_fraction': 0.6}. Best is trial 3 with value: 0.16072002131845703.\n",
      "feature_fraction, val_score: 0.160720:  71%|################################1            | 5/7 [00:14<00:05,  2.80s/it]"
     ]
    },
    {
     "name": "stdout",
     "output_type": "stream",
     "text": [
      "[200]\tcv_agg's l2: 0.174902 + 0.0436904\n",
      "Early stopping, best iteration is:\n",
      "[114]\tcv_agg's l2: 0.16072 + 0.0346909\n",
      "[100]\tcv_agg's l2: 0.184401 + 0.0479093\n"
     ]
    },
    {
     "name": "stderr",
     "output_type": "stream",
     "text": [
      "feature_fraction, val_score: 0.160720:  86%|######################################5      | 6/7 [00:16<00:02,  2.72s/it][I 2023-11-09 20:51:24,649] Trial 5 finished with value: 0.18347996588121482 and parameters: {'feature_fraction': 0.8}. Best is trial 3 with value: 0.16072002131845703.\n",
      "feature_fraction, val_score: 0.160720:  86%|######################################5      | 6/7 [00:16<00:02,  2.72s/it]"
     ]
    },
    {
     "name": "stdout",
     "output_type": "stream",
     "text": [
      "[200]\tcv_agg's l2: 0.182678 + 0.0442488\n",
      "Early stopping, best iteration is:\n",
      "[114]\tcv_agg's l2: 0.16072 + 0.0346909\n",
      "[100]\tcv_agg's l2: 0.180332 + 0.0623291\n"
     ]
    },
    {
     "name": "stderr",
     "output_type": "stream",
     "text": [
      "feature_fraction, val_score: 0.160720: 100%|#############################################| 7/7 [00:19<00:00,  2.64s/it][I 2023-11-09 20:51:27,133] Trial 6 finished with value: 0.17949919971012154 and parameters: {'feature_fraction': 0.5}. Best is trial 3 with value: 0.16072002131845703.\n",
      "feature_fraction, val_score: 0.160720: 100%|#############################################| 7/7 [00:19<00:00,  2.76s/it]\n"
     ]
    },
    {
     "name": "stdout",
     "output_type": "stream",
     "text": [
      "[200]\tcv_agg's l2: 0.177797 + 0.0583312\n",
      "Early stopping, best iteration is:\n",
      "[114]\tcv_agg's l2: 0.16072 + 0.0346909\n"
     ]
    },
    {
     "name": "stderr",
     "output_type": "stream",
     "text": [
      "num_leaves, val_score: 0.160720:   0%|                                                          | 0/20 [00:00<?, ?it/s]"
     ]
    },
    {
     "name": "stdout",
     "output_type": "stream",
     "text": [
      "[100]\tcv_agg's l2: 0.16129 + 0.035217\n"
     ]
    },
    {
     "name": "stderr",
     "output_type": "stream",
     "text": [
      "num_leaves, val_score: 0.160720:   5%|##5                                               | 1/20 [00:02<00:47,  2.47s/it][I 2023-11-09 20:51:29,613] Trial 7 finished with value: 0.16072002131845703 and parameters: {'num_leaves': 200}. Best is trial 7 with value: 0.16072002131845703.\n",
      "num_leaves, val_score: 0.160720:   5%|##5                                               | 1/20 [00:02<00:47,  2.47s/it]"
     ]
    },
    {
     "name": "stdout",
     "output_type": "stream",
     "text": [
      "[200]\tcv_agg's l2: 0.161307 + 0.0322848\n",
      "Early stopping, best iteration is:\n",
      "[114]\tcv_agg's l2: 0.16072 + 0.0346909\n",
      "[100]\tcv_agg's l2: 0.16129 + 0.035217\n"
     ]
    },
    {
     "name": "stderr",
     "output_type": "stream",
     "text": [
      "num_leaves, val_score: 0.160720:  10%|#####                                             | 2/20 [00:04<00:43,  2.41s/it][I 2023-11-09 20:51:31,982] Trial 8 finished with value: 0.16072002131845703 and parameters: {'num_leaves': 84}. Best is trial 7 with value: 0.16072002131845703.\n",
      "num_leaves, val_score: 0.160720:  10%|#####                                             | 2/20 [00:04<00:43,  2.41s/it]"
     ]
    },
    {
     "name": "stdout",
     "output_type": "stream",
     "text": [
      "[200]\tcv_agg's l2: 0.161307 + 0.0322848\n",
      "Early stopping, best iteration is:\n",
      "[114]\tcv_agg's l2: 0.16072 + 0.0346909\n",
      "[100]\tcv_agg's l2: 0.16129 + 0.035217\n"
     ]
    },
    {
     "name": "stderr",
     "output_type": "stream",
     "text": [
      "num_leaves, val_score: 0.160720:  15%|#######5                                          | 3/20 [00:07<00:41,  2.43s/it][I 2023-11-09 20:51:34,441] Trial 9 finished with value: 0.16072002131845703 and parameters: {'num_leaves': 101}. Best is trial 7 with value: 0.16072002131845703.\n",
      "num_leaves, val_score: 0.160720:  15%|#######5                                          | 3/20 [00:07<00:41,  2.43s/it]"
     ]
    },
    {
     "name": "stdout",
     "output_type": "stream",
     "text": [
      "[200]\tcv_agg's l2: 0.161307 + 0.0322848\n",
      "Early stopping, best iteration is:\n",
      "[114]\tcv_agg's l2: 0.16072 + 0.0346909\n",
      "[100]\tcv_agg's l2: 0.234748 + 0.0469587\n",
      "[200]\tcv_agg's l2: 0.207647 + 0.0390915\n"
     ]
    },
    {
     "name": "stderr",
     "output_type": "stream",
     "text": [
      "num_leaves, val_score: 0.160720:  20%|##########                                        | 4/20 [00:07<00:26,  1.66s/it][I 2023-11-09 20:51:34,914] Trial 10 finished with value: 0.22813280810104947 and parameters: {'num_leaves': 3}. Best is trial 7 with value: 0.16072002131845703.\n",
      "num_leaves, val_score: 0.160720:  20%|##########                                        | 4/20 [00:07<00:26,  1.66s/it]"
     ]
    },
    {
     "name": "stdout",
     "output_type": "stream",
     "text": [
      "Early stopping, best iteration is:\n",
      "[114]\tcv_agg's l2: 0.16072 + 0.0346909\n",
      "[100]\tcv_agg's l2: 0.16129 + 0.035217\n",
      "[200]\tcv_agg's l2: 0.161307 + 0.0322848\n"
     ]
    },
    {
     "name": "stderr",
     "output_type": "stream",
     "text": [
      "num_leaves, val_score: 0.160720:  25%|############5                                     | 5/20 [00:10<00:31,  2.09s/it][I 2023-11-09 20:51:37,778] Trial 11 finished with value: 0.16072002131845703 and parameters: {'num_leaves': 251}. Best is trial 7 with value: 0.16072002131845703.\n",
      "num_leaves, val_score: 0.160720:  25%|############5                                     | 5/20 [00:10<00:31,  2.09s/it]"
     ]
    },
    {
     "name": "stdout",
     "output_type": "stream",
     "text": [
      "Early stopping, best iteration is:\n",
      "[114]\tcv_agg's l2: 0.16072 + 0.0346909\n",
      "[100]\tcv_agg's l2: 0.16129 + 0.035217\n"
     ]
    },
    {
     "name": "stderr",
     "output_type": "stream",
     "text": [
      "\r",
      "num_leaves, val_score: 0.160720:  25%|############5                                     | 5/20 [00:13<00:31,  2.09s/it]"
     ]
    },
    {
     "name": "stdout",
     "output_type": "stream",
     "text": [
      "[200]\tcv_agg's l2: 0.161307 + 0.0322848\n",
      "Early stopping, best iteration is:\n",
      "[114]\tcv_agg's l2: 0.16072 + 0.0346909\n"
     ]
    },
    {
     "name": "stderr",
     "output_type": "stream",
     "text": [
      "num_leaves, val_score: 0.160720:  30%|###############                                   | 6/20 [00:13<00:33,  2.38s/it][I 2023-11-09 20:51:40,714] Trial 12 finished with value: 0.16072002131845703 and parameters: {'num_leaves': 223}. Best is trial 7 with value: 0.16072002131845703.\n",
      "num_leaves, val_score: 0.160720:  30%|###############                                   | 6/20 [00:13<00:33,  2.38s/it]"
     ]
    },
    {
     "name": "stdout",
     "output_type": "stream",
     "text": [
      "[100]\tcv_agg's l2: 0.16129 + 0.035217\n"
     ]
    },
    {
     "name": "stderr",
     "output_type": "stream",
     "text": [
      "\r",
      "num_leaves, val_score: 0.160720:  30%|###############                                   | 6/20 [00:16<00:33,  2.38s/it]"
     ]
    },
    {
     "name": "stdout",
     "output_type": "stream",
     "text": [
      "[200]\tcv_agg's l2: 0.161307 + 0.0322848\n",
      "Early stopping, best iteration is:\n",
      "[114]\tcv_agg's l2: 0.16072 + 0.0346909\n"
     ]
    },
    {
     "name": "stderr",
     "output_type": "stream",
     "text": [
      "num_leaves, val_score: 0.160720:  35%|#################5                                | 7/20 [00:16<00:32,  2.49s/it][I 2023-11-09 20:51:43,444] Trial 13 finished with value: 0.16072002131845703 and parameters: {'num_leaves': 181}. Best is trial 7 with value: 0.16072002131845703.\n",
      "num_leaves, val_score: 0.160720:  35%|#################5                                | 7/20 [00:16<00:32,  2.49s/it]"
     ]
    },
    {
     "name": "stdout",
     "output_type": "stream",
     "text": [
      "[100]\tcv_agg's l2: 0.16129 + 0.035217\n"
     ]
    },
    {
     "name": "stderr",
     "output_type": "stream",
     "text": [
      "\r",
      "num_leaves, val_score: 0.160720:  35%|#################5                                | 7/20 [00:18<00:32,  2.49s/it]"
     ]
    },
    {
     "name": "stdout",
     "output_type": "stream",
     "text": [
      "[200]\tcv_agg's l2: 0.161307 + 0.0322848\n",
      "Early stopping, best iteration is:\n",
      "[114]\tcv_agg's l2: 0.16072 + 0.0346909\n"
     ]
    },
    {
     "name": "stderr",
     "output_type": "stream",
     "text": [
      "num_leaves, val_score: 0.160720:  40%|####################                              | 8/20 [00:18<00:30,  2.56s/it][I 2023-11-09 20:51:46,134] Trial 14 finished with value: 0.16072002131845703 and parameters: {'num_leaves': 163}. Best is trial 7 with value: 0.16072002131845703.\n",
      "num_leaves, val_score: 0.160720:  40%|####################                              | 8/20 [00:18<00:30,  2.56s/it]"
     ]
    },
    {
     "name": "stdout",
     "output_type": "stream",
     "text": [
      "[100]\tcv_agg's l2: 0.16129 + 0.035217\n"
     ]
    },
    {
     "name": "stderr",
     "output_type": "stream",
     "text": [
      "\r",
      "num_leaves, val_score: 0.160720:  40%|####################                              | 8/20 [00:21<00:30,  2.56s/it]"
     ]
    },
    {
     "name": "stdout",
     "output_type": "stream",
     "text": [
      "[200]\tcv_agg's l2: 0.161307 + 0.0322848\n",
      "Early stopping, best iteration is:\n",
      "[114]\tcv_agg's l2: 0.16072 + 0.0346909\n"
     ]
    },
    {
     "name": "stderr",
     "output_type": "stream",
     "text": [
      "num_leaves, val_score: 0.160720:  45%|######################5                           | 9/20 [00:21<00:28,  2.59s/it][I 2023-11-09 20:51:48,801] Trial 15 finished with value: 0.16072002131845703 and parameters: {'num_leaves': 187}. Best is trial 7 with value: 0.16072002131845703.\n",
      "num_leaves, val_score: 0.160720:  45%|######################5                           | 9/20 [00:21<00:28,  2.59s/it]"
     ]
    },
    {
     "name": "stdout",
     "output_type": "stream",
     "text": [
      "[100]\tcv_agg's l2: 0.16129 + 0.035217\n"
     ]
    },
    {
     "name": "stderr",
     "output_type": "stream",
     "text": [
      "num_leaves, val_score: 0.160720:  50%|########################5                        | 10/20 [00:24<00:26,  2.63s/it][I 2023-11-09 20:51:51,531] Trial 16 finished with value: 0.16072002131845703 and parameters: {'num_leaves': 43}. Best is trial 7 with value: 0.16072002131845703.\n"
     ]
    },
    {
     "name": "stdout",
     "output_type": "stream",
     "text": [
      "[200]\tcv_agg's l2: 0.161307 + 0.0322848\n",
      "Early stopping, best iteration is:\n",
      "[114]\tcv_agg's l2: 0.16072 + 0.0346909\n"
     ]
    },
    {
     "name": "stderr",
     "output_type": "stream",
     "text": [
      "\r",
      "num_leaves, val_score: 0.160720:  50%|########################5                        | 10/20 [00:24<00:26,  2.63s/it]"
     ]
    },
    {
     "name": "stdout",
     "output_type": "stream",
     "text": [
      "[100]\tcv_agg's l2: 0.16129 + 0.035217\n"
     ]
    },
    {
     "name": "stderr",
     "output_type": "stream",
     "text": [
      "num_leaves, val_score: 0.160720:  55%|##########################9                      | 11/20 [00:27<00:23,  2.63s/it][I 2023-11-09 20:51:54,159] Trial 17 finished with value: 0.16072002131845703 and parameters: {'num_leaves': 144}. Best is trial 7 with value: 0.16072002131845703.\n",
      "num_leaves, val_score: 0.160720:  55%|##########################9                      | 11/20 [00:27<00:23,  2.63s/it]"
     ]
    },
    {
     "name": "stdout",
     "output_type": "stream",
     "text": [
      "[200]\tcv_agg's l2: 0.161307 + 0.0322848\n",
      "Early stopping, best iteration is:\n",
      "[114]\tcv_agg's l2: 0.16072 + 0.0346909\n",
      "[100]\tcv_agg's l2: 0.16129 + 0.035217\n"
     ]
    },
    {
     "name": "stderr",
     "output_type": "stream",
     "text": [
      "\r",
      "num_leaves, val_score: 0.160720:  55%|##########################9                      | 11/20 [00:29<00:23,  2.63s/it]"
     ]
    },
    {
     "name": "stdout",
     "output_type": "stream",
     "text": [
      "[200]\tcv_agg's l2: 0.161307 + 0.0322848\n",
      "Early stopping, best iteration is:\n",
      "[114]\tcv_agg's l2: 0.16072 + 0.0346909\n"
     ]
    },
    {
     "name": "stderr",
     "output_type": "stream",
     "text": [
      "num_leaves, val_score: 0.160720:  60%|#############################4                   | 12/20 [00:29<00:21,  2.66s/it][I 2023-11-09 20:51:56,886] Trial 18 finished with value: 0.16072002131845703 and parameters: {'num_leaves': 214}. Best is trial 7 with value: 0.16072002131845703.\n",
      "num_leaves, val_score: 0.160720:  60%|#############################4                   | 12/20 [00:29<00:21,  2.66s/it]"
     ]
    },
    {
     "name": "stdout",
     "output_type": "stream",
     "text": [
      "[100]\tcv_agg's l2: 0.16129 + 0.035217\n"
     ]
    },
    {
     "name": "stderr",
     "output_type": "stream",
     "text": [
      "\r",
      "num_leaves, val_score: 0.160720:  60%|#############################4                   | 12/20 [00:32<00:21,  2.66s/it]"
     ]
    },
    {
     "name": "stdout",
     "output_type": "stream",
     "text": [
      "[200]\tcv_agg's l2: 0.161307 + 0.0322848\n",
      "Early stopping, best iteration is:\n",
      "[114]\tcv_agg's l2: 0.16072 + 0.0346909\n"
     ]
    },
    {
     "name": "stderr",
     "output_type": "stream",
     "text": [
      "num_leaves, val_score: 0.160720:  65%|###############################8                 | 13/20 [00:32<00:18,  2.70s/it][I 2023-11-09 20:51:59,676] Trial 19 finished with value: 0.16072002131845703 and parameters: {'num_leaves': 115}. Best is trial 7 with value: 0.16072002131845703.\n",
      "num_leaves, val_score: 0.160720:  65%|###############################8                 | 13/20 [00:32<00:18,  2.70s/it]"
     ]
    },
    {
     "name": "stdout",
     "output_type": "stream",
     "text": [
      "[100]\tcv_agg's l2: 0.16129 + 0.035217\n"
     ]
    },
    {
     "name": "stderr",
     "output_type": "stream",
     "text": [
      "\r",
      "num_leaves, val_score: 0.160720:  65%|###############################8                 | 13/20 [00:35<00:18,  2.70s/it]"
     ]
    },
    {
     "name": "stdout",
     "output_type": "stream",
     "text": [
      "[200]\tcv_agg's l2: 0.161307 + 0.0322848\n",
      "Early stopping, best iteration is:\n",
      "[114]\tcv_agg's l2: 0.16072 + 0.0346909\n"
     ]
    },
    {
     "name": "stderr",
     "output_type": "stream",
     "text": [
      "num_leaves, val_score: 0.160720:  70%|##################################3              | 14/20 [00:35<00:16,  2.70s/it][I 2023-11-09 20:52:02,380] Trial 20 finished with value: 0.16072002131845703 and parameters: {'num_leaves': 250}. Best is trial 7 with value: 0.16072002131845703.\n",
      "num_leaves, val_score: 0.160720:  70%|##################################3              | 14/20 [00:35<00:16,  2.70s/it]"
     ]
    },
    {
     "name": "stdout",
     "output_type": "stream",
     "text": [
      "[100]\tcv_agg's l2: 0.16129 + 0.035217\n"
     ]
    },
    {
     "name": "stderr",
     "output_type": "stream",
     "text": [
      "num_leaves, val_score: 0.160720:  75%|####################################7            | 15/20 [00:37<00:13,  2.66s/it][I 2023-11-09 20:52:04,937] Trial 21 finished with value: 0.16072002131845703 and parameters: {'num_leaves': 77}. Best is trial 7 with value: 0.16072002131845703.\n"
     ]
    },
    {
     "name": "stdout",
     "output_type": "stream",
     "text": [
      "[200]\tcv_agg's l2: 0.161307 + 0.0322848\n",
      "Early stopping, best iteration is:\n",
      "[114]\tcv_agg's l2: 0.16072 + 0.0346909\n"
     ]
    },
    {
     "name": "stderr",
     "output_type": "stream",
     "text": [
      "\r",
      "num_leaves, val_score: 0.160720:  75%|####################################7            | 15/20 [00:37<00:13,  2.66s/it]"
     ]
    },
    {
     "name": "stdout",
     "output_type": "stream",
     "text": [
      "[100]\tcv_agg's l2: 0.16129 + 0.035217\n"
     ]
    },
    {
     "name": "stderr",
     "output_type": "stream",
     "text": [
      "\r",
      "num_leaves, val_score: 0.160720:  75%|####################################7            | 15/20 [00:40<00:13,  2.66s/it]"
     ]
    },
    {
     "name": "stdout",
     "output_type": "stream",
     "text": [
      "[200]\tcv_agg's l2: 0.161307 + 0.0322848\n",
      "Early stopping, best iteration is:\n",
      "[114]\tcv_agg's l2: 0.16072 + 0.0346909\n"
     ]
    },
    {
     "name": "stderr",
     "output_type": "stream",
     "text": [
      "num_leaves, val_score: 0.160720:  80%|#######################################2         | 16/20 [00:40<00:10,  2.66s/it][I 2023-11-09 20:52:07,606] Trial 22 finished with value: 0.16072002131845703 and parameters: {'num_leaves': 66}. Best is trial 7 with value: 0.16072002131845703.\n",
      "num_leaves, val_score: 0.160720:  80%|#######################################2         | 16/20 [00:40<00:10,  2.66s/it]"
     ]
    },
    {
     "name": "stdout",
     "output_type": "stream",
     "text": [
      "[100]\tcv_agg's l2: 0.16129 + 0.035217\n"
     ]
    },
    {
     "name": "stderr",
     "output_type": "stream",
     "text": [
      "\r",
      "num_leaves, val_score: 0.160720:  80%|#######################################2         | 16/20 [00:43<00:10,  2.66s/it]"
     ]
    },
    {
     "name": "stdout",
     "output_type": "stream",
     "text": [
      "[200]\tcv_agg's l2: 0.161307 + 0.0322848\n",
      "Early stopping, best iteration is:\n",
      "[114]\tcv_agg's l2: 0.16072 + 0.0346909\n"
     ]
    },
    {
     "name": "stderr",
     "output_type": "stream",
     "text": [
      "num_leaves, val_score: 0.160720:  85%|#########################################6       | 17/20 [00:43<00:07,  2.65s/it][I 2023-11-09 20:52:10,242] Trial 23 finished with value: 0.16072002131845703 and parameters: {'num_leaves': 136}. Best is trial 7 with value: 0.16072002131845703.\n",
      "num_leaves, val_score: 0.160720:  85%|#########################################6       | 17/20 [00:43<00:07,  2.65s/it]"
     ]
    },
    {
     "name": "stdout",
     "output_type": "stream",
     "text": [
      "[100]\tcv_agg's l2: 0.162397 + 0.0358675\n"
     ]
    },
    {
     "name": "stderr",
     "output_type": "stream",
     "text": [
      "num_leaves, val_score: 0.160720:  90%|############################################1    | 18/20 [00:45<00:05,  2.64s/it][I 2023-11-09 20:52:12,844] Trial 24 finished with value: 0.1619679702868803 and parameters: {'num_leaves': 25}. Best is trial 7 with value: 0.16072002131845703.\n",
      "num_leaves, val_score: 0.160720:  90%|############################################1    | 18/20 [00:45<00:05,  2.64s/it]"
     ]
    },
    {
     "name": "stdout",
     "output_type": "stream",
     "text": [
      "[200]\tcv_agg's l2: 0.163157 + 0.0338166\n",
      "Early stopping, best iteration is:\n",
      "[114]\tcv_agg's l2: 0.16072 + 0.0346909\n",
      "[100]\tcv_agg's l2: 0.16129 + 0.035217\n"
     ]
    },
    {
     "name": "stderr",
     "output_type": "stream",
     "text": [
      "num_leaves, val_score: 0.160720:  95%|##############################################5  | 19/20 [00:48<00:02,  2.61s/it][I 2023-11-09 20:52:15,372] Trial 25 finished with value: 0.16072002131845703 and parameters: {'num_leaves': 93}. Best is trial 7 with value: 0.16072002131845703.\n",
      "num_leaves, val_score: 0.160720:  95%|##############################################5  | 19/20 [00:48<00:02,  2.61s/it]"
     ]
    },
    {
     "name": "stdout",
     "output_type": "stream",
     "text": [
      "[200]\tcv_agg's l2: 0.161307 + 0.0322848\n",
      "Early stopping, best iteration is:\n",
      "[114]\tcv_agg's l2: 0.16072 + 0.0346909\n",
      "[100]\tcv_agg's l2: 0.16129 + 0.035217\n"
     ]
    },
    {
     "name": "stderr",
     "output_type": "stream",
     "text": [
      "num_leaves, val_score: 0.160720: 100%|#################################################| 20/20 [00:50<00:00,  2.62s/it][I 2023-11-09 20:52:18,027] Trial 26 finished with value: 0.16072002131845703 and parameters: {'num_leaves': 159}. Best is trial 7 with value: 0.16072002131845703.\n",
      "num_leaves, val_score: 0.160720: 100%|#################################################| 20/20 [00:50<00:00,  2.54s/it]\n"
     ]
    },
    {
     "name": "stdout",
     "output_type": "stream",
     "text": [
      "[200]\tcv_agg's l2: 0.161307 + 0.0322848\n",
      "Early stopping, best iteration is:\n",
      "[114]\tcv_agg's l2: 0.16072 + 0.0346909\n"
     ]
    },
    {
     "name": "stderr",
     "output_type": "stream",
     "text": [
      "bagging, val_score: 0.160720:   0%|                                                             | 0/10 [00:00<?, ?it/s]"
     ]
    },
    {
     "name": "stdout",
     "output_type": "stream",
     "text": [
      "[100]\tcv_agg's l2: 0.171611 + 0.0381719\n"
     ]
    },
    {
     "name": "stderr",
     "output_type": "stream",
     "text": [
      "bagging, val_score: 0.160720:  10%|#####3                                               | 1/10 [00:02<00:19,  2.15s/it][I 2023-11-09 20:52:20,188] Trial 27 finished with value: 0.17219090040782076 and parameters: {'bagging_fraction': 0.7876474183883921, 'bagging_freq': 3}. Best is trial 27 with value: 0.17219090040782076.\n",
      "bagging, val_score: 0.160720:  10%|#####3                                               | 1/10 [00:02<00:19,  2.15s/it]"
     ]
    },
    {
     "name": "stdout",
     "output_type": "stream",
     "text": [
      "[200]\tcv_agg's l2: 0.170991 + 0.0342478\n",
      "Early stopping, best iteration is:\n",
      "[114]\tcv_agg's l2: 0.16072 + 0.0346909\n",
      "[100]\tcv_agg's l2: 0.216542 + 0.0293949\n"
     ]
    },
    {
     "name": "stderr",
     "output_type": "stream",
     "text": [
      "bagging, val_score: 0.160720:  20%|##########6                                          | 2/10 [00:03<00:13,  1.68s/it][I 2023-11-09 20:52:21,543] Trial 28 finished with value: 0.2130905189997437 and parameters: {'bagging_fraction': 0.40652990602763334, 'bagging_freq': 7}. Best is trial 27 with value: 0.17219090040782076.\n",
      "bagging, val_score: 0.160720:  20%|##########6                                          | 2/10 [00:03<00:13,  1.68s/it]"
     ]
    },
    {
     "name": "stdout",
     "output_type": "stream",
     "text": [
      "[200]\tcv_agg's l2: 0.210531 + 0.0261739\n",
      "Early stopping, best iteration is:\n",
      "[114]\tcv_agg's l2: 0.16072 + 0.0346909\n",
      "[100]\tcv_agg's l2: 0.160652 + 0.0356734\n"
     ]
    },
    {
     "name": "stderr",
     "output_type": "stream",
     "text": [
      "bagging, val_score: 0.160301:  30%|###############9                                     | 3/10 [00:05<00:13,  1.92s/it][I 2023-11-09 20:52:23,741] Trial 29 finished with value: 0.16030055739752108 and parameters: {'bagging_fraction': 0.9696798564636073, 'bagging_freq': 1}. Best is trial 29 with value: 0.16030055739752108.\n",
      "bagging, val_score: 0.160301:  30%|###############9                                     | 3/10 [00:05<00:13,  1.92s/it]"
     ]
    },
    {
     "name": "stdout",
     "output_type": "stream",
     "text": [
      "Early stopping, best iteration is:\n",
      "[80]\tcv_agg's l2: 0.160301 + 0.0363427\n",
      "[100]\tcv_agg's l2: 0.161585 + 0.0375255\n"
     ]
    },
    {
     "name": "stderr",
     "output_type": "stream",
     "text": [
      "bagging, val_score: 0.160301:  40%|#####################2                               | 4/10 [00:07<00:12,  2.03s/it][I 2023-11-09 20:52:25,932] Trial 30 finished with value: 0.16171794828662783 and parameters: {'bagging_fraction': 0.9738940644453137, 'bagging_freq': 1}. Best is trial 29 with value: 0.16030055739752108.\n",
      "bagging, val_score: 0.160301:  40%|#####################2                               | 4/10 [00:07<00:12,  2.03s/it]"
     ]
    },
    {
     "name": "stdout",
     "output_type": "stream",
     "text": [
      "Early stopping, best iteration is:\n",
      "[80]\tcv_agg's l2: 0.160301 + 0.0363427\n",
      "[100]\tcv_agg's l2: 0.158519 + 0.0353953\n"
     ]
    },
    {
     "name": "stderr",
     "output_type": "stream",
     "text": [
      "\r",
      "bagging, val_score: 0.158154:  40%|#####################2                               | 4/10 [00:10<00:12,  2.03s/it]"
     ]
    },
    {
     "name": "stdout",
     "output_type": "stream",
     "text": [
      "[200]\tcv_agg's l2: 0.159718 + 0.0323892\n",
      "Early stopping, best iteration is:\n",
      "[117]\tcv_agg's l2: 0.158154 + 0.0332823\n"
     ]
    },
    {
     "name": "stderr",
     "output_type": "stream",
     "text": [
      "bagging, val_score: 0.158154:  50%|##########################5                          | 5/10 [00:10<00:11,  2.26s/it][I 2023-11-09 20:52:28,613] Trial 31 finished with value: 0.15815408581417154 and parameters: {'bagging_fraction': 0.9899225768994631, 'bagging_freq': 1}. Best is trial 31 with value: 0.15815408581417154.\n",
      "bagging, val_score: 0.158154:  50%|##########################5                          | 5/10 [00:10<00:11,  2.26s/it]"
     ]
    },
    {
     "name": "stdout",
     "output_type": "stream",
     "text": [
      "[100]\tcv_agg's l2: 0.158224 + 0.0371886\n"
     ]
    },
    {
     "name": "stderr",
     "output_type": "stream",
     "text": [
      "bagging, val_score: 0.157745:  60%|###############################8                     | 6/10 [00:12<00:09,  2.27s/it][I 2023-11-09 20:52:30,901] Trial 32 finished with value: 0.15774478201160147 and parameters: {'bagging_fraction': 0.9944087767298676, 'bagging_freq': 1}. Best is trial 32 with value: 0.15774478201160147.\n",
      "bagging, val_score: 0.157745:  60%|###############################8                     | 6/10 [00:12<00:09,  2.27s/it]"
     ]
    },
    {
     "name": "stdout",
     "output_type": "stream",
     "text": [
      "Early stopping, best iteration is:\n",
      "[92]\tcv_agg's l2: 0.157745 + 0.0364452\n",
      "[100]\tcv_agg's l2: 0.157606 + 0.0351021\n"
     ]
    },
    {
     "name": "stderr",
     "output_type": "stream",
     "text": [
      "bagging, val_score: 0.157200:  70%|#####################################                | 7/10 [00:15<00:07,  2.39s/it][I 2023-11-09 20:52:33,531] Trial 33 finished with value: 0.15719962247067645 and parameters: {'bagging_fraction': 0.9826348845290551, 'bagging_freq': 1}. Best is trial 33 with value: 0.15719962247067645.\n",
      "bagging, val_score: 0.157200:  70%|#####################################                | 7/10 [00:15<00:07,  2.39s/it]"
     ]
    },
    {
     "name": "stdout",
     "output_type": "stream",
     "text": [
      "[200]\tcv_agg's l2: 0.158933 + 0.0324842\n",
      "Early stopping, best iteration is:\n",
      "[105]\tcv_agg's l2: 0.1572 + 0.0347321\n",
      "[100]\tcv_agg's l2: 0.16129 + 0.035217\n"
     ]
    },
    {
     "name": "stderr",
     "output_type": "stream",
     "text": [
      "bagging, val_score: 0.157200:  80%|##########################################4          | 8/10 [00:18<00:04,  2.44s/it][I 2023-11-09 20:52:36,089] Trial 34 finished with value: 0.16118006661193762 and parameters: {'bagging_fraction': 0.9986796377600244, 'bagging_freq': 1}. Best is trial 33 with value: 0.15719962247067645.\n",
      "bagging, val_score: 0.157200:  80%|##########################################4          | 8/10 [00:18<00:04,  2.44s/it]"
     ]
    },
    {
     "name": "stdout",
     "output_type": "stream",
     "text": [
      "[200]\tcv_agg's l2: 0.161307 + 0.0322848\n",
      "Early stopping, best iteration is:\n",
      "[105]\tcv_agg's l2: 0.1572 + 0.0347321\n",
      "[100]\tcv_agg's l2: 0.15969 + 0.0339605\n"
     ]
    },
    {
     "name": "stderr",
     "output_type": "stream",
     "text": [
      "bagging, val_score: 0.157200:  90%|###############################################7     | 9/10 [00:20<00:02,  2.49s/it][I 2023-11-09 20:52:38,671] Trial 35 finished with value: 0.15989783546909325 and parameters: {'bagging_fraction': 0.9879858202652951, 'bagging_freq': 1}. Best is trial 33 with value: 0.15719962247067645.\n",
      "bagging, val_score: 0.157200:  90%|###############################################7     | 9/10 [00:20<00:02,  2.49s/it]"
     ]
    },
    {
     "name": "stdout",
     "output_type": "stream",
     "text": [
      "[200]\tcv_agg's l2: 0.161348 + 0.0318443\n",
      "Early stopping, best iteration is:\n",
      "[105]\tcv_agg's l2: 0.1572 + 0.0347321\n",
      "[100]\tcv_agg's l2: 0.16129 + 0.035217\n"
     ]
    },
    {
     "name": "stderr",
     "output_type": "stream",
     "text": [
      "bagging, val_score: 0.157200: 100%|####################################################| 10/10 [00:23<00:00,  2.60s/it][I 2023-11-09 20:52:41,538] Trial 36 finished with value: 0.16118006661193762 and parameters: {'bagging_fraction': 0.9995140626454064, 'bagging_freq': 1}. Best is trial 33 with value: 0.15719962247067645.\n",
      "bagging, val_score: 0.157200: 100%|####################################################| 10/10 [00:23<00:00,  2.35s/it]\n"
     ]
    },
    {
     "name": "stdout",
     "output_type": "stream",
     "text": [
      "[200]\tcv_agg's l2: 0.161307 + 0.0322848\n",
      "Early stopping, best iteration is:\n",
      "[105]\tcv_agg's l2: 0.1572 + 0.0347321\n"
     ]
    },
    {
     "name": "stderr",
     "output_type": "stream",
     "text": [
      "feature_fraction_stage2, val_score: 0.157200:   0%|                                              | 0/3 [00:00<?, ?it/s]"
     ]
    },
    {
     "name": "stdout",
     "output_type": "stream",
     "text": [
      "[100]\tcv_agg's l2: 0.179267 + 0.0502528\n"
     ]
    },
    {
     "name": "stderr",
     "output_type": "stream",
     "text": [
      "feature_fraction_stage2, val_score: 0.157200:  33%|############6                         | 1/3 [00:02<00:05,  2.96s/it][I 2023-11-09 20:52:44,508] Trial 37 finished with value: 0.17909638089608557 and parameters: {'feature_fraction': 0.44800000000000006}. Best is trial 37 with value: 0.17909638089608557.\n",
      "feature_fraction_stage2, val_score: 0.157200:  33%|############6                         | 1/3 [00:02<00:05,  2.96s/it]"
     ]
    },
    {
     "name": "stdout",
     "output_type": "stream",
     "text": [
      "[200]\tcv_agg's l2: 0.179095 + 0.0467591\n",
      "Early stopping, best iteration is:\n",
      "[105]\tcv_agg's l2: 0.1572 + 0.0347321\n",
      "[100]\tcv_agg's l2: 0.179267 + 0.0502528\n"
     ]
    },
    {
     "name": "stderr",
     "output_type": "stream",
     "text": [
      "feature_fraction_stage2, val_score: 0.157200:  67%|#########################3            | 2/3 [00:05<00:02,  2.74s/it][I 2023-11-09 20:52:47,097] Trial 38 finished with value: 0.17909638089608557 and parameters: {'feature_fraction': 0.48000000000000004}. Best is trial 37 with value: 0.17909638089608557.\n",
      "feature_fraction_stage2, val_score: 0.157200:  67%|#########################3            | 2/3 [00:05<00:02,  2.74s/it]"
     ]
    },
    {
     "name": "stdout",
     "output_type": "stream",
     "text": [
      "[200]\tcv_agg's l2: 0.179095 + 0.0467591\n",
      "Early stopping, best iteration is:\n",
      "[105]\tcv_agg's l2: 0.1572 + 0.0347321\n",
      "[100]\tcv_agg's l2: 0.157606 + 0.0351021\n"
     ]
    },
    {
     "name": "stderr",
     "output_type": "stream",
     "text": [
      "feature_fraction_stage2, val_score: 0.157200: 100%|######################################| 3/3 [00:08<00:00,  2.69s/it][I 2023-11-09 20:52:49,725] Trial 39 finished with value: 0.15719962247067645 and parameters: {'feature_fraction': 0.41600000000000004}. Best is trial 39 with value: 0.15719962247067645.\n",
      "feature_fraction_stage2, val_score: 0.157200: 100%|######################################| 3/3 [00:08<00:00,  2.73s/it]\n"
     ]
    },
    {
     "name": "stdout",
     "output_type": "stream",
     "text": [
      "[200]\tcv_agg's l2: 0.158933 + 0.0324842\n",
      "Early stopping, best iteration is:\n",
      "[105]\tcv_agg's l2: 0.1572 + 0.0347321\n"
     ]
    },
    {
     "name": "stderr",
     "output_type": "stream",
     "text": [
      "regularization_factors, val_score: 0.157200:   0%|                                              | 0/20 [00:00<?, ?it/s]"
     ]
    },
    {
     "name": "stdout",
     "output_type": "stream",
     "text": [
      "[100]\tcv_agg's l2: 0.159056 + 0.0385192\n"
     ]
    },
    {
     "name": "stderr",
     "output_type": "stream",
     "text": [
      "regularization_factors, val_score: 0.157200:   5%|#9                                    | 1/20 [00:02<00:47,  2.49s/it][I 2023-11-09 20:52:52,226] Trial 40 finished with value: 0.1591058549880645 and parameters: {'lambda_l1': 1.7586886822953072e-08, 'lambda_l2': 0.016354993347016684}. Best is trial 40 with value: 0.1591058549880645.\n",
      "regularization_factors, val_score: 0.157200:   5%|#9                                    | 1/20 [00:02<00:47,  2.49s/it]"
     ]
    },
    {
     "name": "stdout",
     "output_type": "stream",
     "text": [
      "[200]\tcv_agg's l2: 0.161131 + 0.0359388\n",
      "Early stopping, best iteration is:\n",
      "[105]\tcv_agg's l2: 0.1572 + 0.0347321\n",
      "[100]\tcv_agg's l2: 0.159563 + 0.0348859\n"
     ]
    },
    {
     "name": "stderr",
     "output_type": "stream",
     "text": [
      "regularization_factors, val_score: 0.157200:  10%|###8                                  | 2/20 [00:05<00:45,  2.54s/it][I 2023-11-09 20:52:54,793] Trial 41 finished with value: 0.1594419232791665 and parameters: {'lambda_l1': 2.1051065177636754e-08, 'lambda_l2': 0.034857417488449824}. Best is trial 40 with value: 0.1591058549880645.\n",
      "regularization_factors, val_score: 0.157200:  10%|###8                                  | 2/20 [00:05<00:45,  2.54s/it]"
     ]
    },
    {
     "name": "stdout",
     "output_type": "stream",
     "text": [
      "[200]\tcv_agg's l2: 0.162512 + 0.0344578\n",
      "Early stopping, best iteration is:\n",
      "[105]\tcv_agg's l2: 0.1572 + 0.0347321\n",
      "[100]\tcv_agg's l2: 0.157606 + 0.0351021\n"
     ]
    },
    {
     "name": "stderr",
     "output_type": "stream",
     "text": [
      "regularization_factors, val_score: 0.157200:  15%|#####7                                | 3/20 [00:07<00:43,  2.56s/it][I 2023-11-09 20:52:57,371] Trial 42 finished with value: 0.1571996218446332 and parameters: {'lambda_l1': 1.1591548495111365e-08, 'lambda_l2': 1.3916750579296534e-06}. Best is trial 42 with value: 0.1571996218446332.\n",
      "regularization_factors, val_score: 0.157200:  15%|#####7                                | 3/20 [00:07<00:43,  2.56s/it]"
     ]
    },
    {
     "name": "stdout",
     "output_type": "stream",
     "text": [
      "[200]\tcv_agg's l2: 0.158933 + 0.0324842\n",
      "Early stopping, best iteration is:\n",
      "[105]\tcv_agg's l2: 0.1572 + 0.0347321\n",
      "[100]\tcv_agg's l2: 0.16725 + 0.0392414\n"
     ]
    },
    {
     "name": "stderr",
     "output_type": "stream",
     "text": [
      "regularization_factors, val_score: 0.157200:  20%|#######6                              | 4/20 [00:09<00:34,  2.18s/it][I 2023-11-09 20:52:58,985] Trial 43 finished with value: 0.16675739186217978 and parameters: {'lambda_l1': 1.7971738676949518, 'lambda_l2': 2.7287527957230892e-08}. Best is trial 42 with value: 0.1571996218446332.\n",
      "regularization_factors, val_score: 0.157200:  20%|#######6                              | 4/20 [00:09<00:34,  2.18s/it]"
     ]
    },
    {
     "name": "stdout",
     "output_type": "stream",
     "text": [
      "[200]\tcv_agg's l2: 0.164257 + 0.03783\n",
      "Early stopping, best iteration is:\n",
      "[105]\tcv_agg's l2: 0.1572 + 0.0347321\n",
      "[100]\tcv_agg's l2: 0.158019 + 0.0353932\n"
     ]
    },
    {
     "name": "stderr",
     "output_type": "stream",
     "text": [
      "regularization_factors, val_score: 0.157200:  25%|#########5                            | 5/20 [00:11<00:35,  2.38s/it][I 2023-11-09 20:53:01,710] Trial 44 finished with value: 0.1582374923079922 and parameters: {'lambda_l1': 3.748581722295637e-05, 'lambda_l2': 9.251895322986728e-07}. Best is trial 42 with value: 0.1571996218446332.\n",
      "regularization_factors, val_score: 0.157200:  25%|#########5                            | 5/20 [00:11<00:35,  2.38s/it]"
     ]
    },
    {
     "name": "stdout",
     "output_type": "stream",
     "text": [
      "[200]\tcv_agg's l2: 0.160919 + 0.0326904\n",
      "Early stopping, best iteration is:\n",
      "[105]\tcv_agg's l2: 0.1572 + 0.0347321\n",
      "[100]\tcv_agg's l2: 0.158019 + 0.0353932\n"
     ]
    },
    {
     "name": "stderr",
     "output_type": "stream",
     "text": [
      "regularization_factors, val_score: 0.157200:  30%|###########4                          | 6/20 [00:14<00:34,  2.46s/it][I 2023-11-09 20:53:04,333] Trial 45 finished with value: 0.15823752122224843 and parameters: {'lambda_l1': 1.957522174086589e-05, 'lambda_l2': 1.2751558468217433e-05}. Best is trial 42 with value: 0.1571996218446332.\n",
      "regularization_factors, val_score: 0.157200:  30%|###########4                          | 6/20 [00:14<00:34,  2.46s/it]"
     ]
    },
    {
     "name": "stdout",
     "output_type": "stream",
     "text": [
      "[200]\tcv_agg's l2: 0.161267 + 0.0328381\n",
      "Early stopping, best iteration is:\n",
      "[105]\tcv_agg's l2: 0.1572 + 0.0347321\n",
      "[100]\tcv_agg's l2: 0.158666 + 0.0366293\n"
     ]
    },
    {
     "name": "stderr",
     "output_type": "stream",
     "text": [
      "regularization_factors, val_score: 0.157200:  35%|#############3                        | 7/20 [00:17<00:33,  2.54s/it][I 2023-11-09 20:53:07,032] Trial 46 finished with value: 0.1584254405648188 and parameters: {'lambda_l1': 1.2311808920859032e-06, 'lambda_l2': 0.00013506155754454296}. Best is trial 42 with value: 0.1571996218446332.\n",
      "regularization_factors, val_score: 0.157200:  35%|#############3                        | 7/20 [00:17<00:33,  2.54s/it]"
     ]
    },
    {
     "name": "stdout",
     "output_type": "stream",
     "text": [
      "[200]\tcv_agg's l2: 0.161165 + 0.0333319\n",
      "Early stopping, best iteration is:\n",
      "[105]\tcv_agg's l2: 0.1572 + 0.0347321\n",
      "[100]\tcv_agg's l2: 0.16597 + 0.0412472\n"
     ]
    },
    {
     "name": "stderr",
     "output_type": "stream",
     "text": [
      "regularization_factors, val_score: 0.157200:  40%|###############2                      | 8/20 [00:19<00:30,  2.52s/it][I 2023-11-09 20:53:09,498] Trial 47 finished with value: 0.16570534900679543 and parameters: {'lambda_l1': 0.004267287843733529, 'lambda_l2': 3.3087571369014146}. Best is trial 42 with value: 0.1571996218446332.\n",
      "regularization_factors, val_score: 0.157200:  40%|###############2                      | 8/20 [00:19<00:30,  2.52s/it]"
     ]
    },
    {
     "name": "stdout",
     "output_type": "stream",
     "text": [
      "[200]\tcv_agg's l2: 0.165739 + 0.0386027\n",
      "Early stopping, best iteration is:\n",
      "[105]\tcv_agg's l2: 0.1572 + 0.0347321\n",
      "[100]\tcv_agg's l2: 0.157954 + 0.0345344\n"
     ]
    },
    {
     "name": "stderr",
     "output_type": "stream",
     "text": [
      "regularization_factors, val_score: 0.157200:  45%|#################1                    | 9/20 [00:22<00:27,  2.54s/it][I 2023-11-09 20:53:12,080] Trial 48 finished with value: 0.1579217958391123 and parameters: {'lambda_l1': 0.006120478699937245, 'lambda_l2': 1.6279431627591885e-08}. Best is trial 42 with value: 0.1571996218446332.\n",
      "regularization_factors, val_score: 0.157200:  45%|#################1                    | 9/20 [00:22<00:27,  2.54s/it]"
     ]
    },
    {
     "name": "stdout",
     "output_type": "stream",
     "text": [
      "[200]\tcv_agg's l2: 0.160288 + 0.0314299\n",
      "Early stopping, best iteration is:\n",
      "[105]\tcv_agg's l2: 0.1572 + 0.0347321\n",
      "[100]\tcv_agg's l2: 0.158911 + 0.0346324\n"
     ]
    },
    {
     "name": "stderr",
     "output_type": "stream",
     "text": [
      "regularization_factors, val_score: 0.157200:  50%|##################5                  | 10/20 [00:24<00:25,  2.56s/it][I 2023-11-09 20:53:14,708] Trial 49 finished with value: 0.15859694554552456 and parameters: {'lambda_l1': 0.004344364591978471, 'lambda_l2': 1.0435146076988425e-08}. Best is trial 42 with value: 0.1571996218446332.\n",
      "regularization_factors, val_score: 0.157200:  50%|##################5                  | 10/20 [00:24<00:25,  2.56s/it]"
     ]
    },
    {
     "name": "stdout",
     "output_type": "stream",
     "text": [
      "[200]\tcv_agg's l2: 0.160361 + 0.0315996\n",
      "Early stopping, best iteration is:\n",
      "[105]\tcv_agg's l2: 0.1572 + 0.0347321\n",
      "[100]\tcv_agg's l2: 0.158911 + 0.0346324\n"
     ]
    },
    {
     "name": "stderr",
     "output_type": "stream",
     "text": [
      "regularization_factors, val_score: 0.157200:  55%|####################3                | 11/20 [00:27<00:23,  2.60s/it][I 2023-11-09 20:53:17,399] Trial 50 finished with value: 0.15859699555029477 and parameters: {'lambda_l1': 0.004319101439397467, 'lambda_l2': 5.902463789407951e-07}. Best is trial 42 with value: 0.1571996218446332.\n",
      "regularization_factors, val_score: 0.157200:  55%|####################3                | 11/20 [00:27<00:23,  2.60s/it]"
     ]
    },
    {
     "name": "stdout",
     "output_type": "stream",
     "text": [
      "[200]\tcv_agg's l2: 0.160361 + 0.0315995\n",
      "Early stopping, best iteration is:\n",
      "[105]\tcv_agg's l2: 0.1572 + 0.0347321\n",
      "[100]\tcv_agg's l2: 0.157606 + 0.0351021\n"
     ]
    },
    {
     "name": "stderr",
     "output_type": "stream",
     "text": [
      "regularization_factors, val_score: 0.157200:  60%|######################2              | 12/20 [00:30<00:21,  2.66s/it][I 2023-11-09 20:53:20,180] Trial 51 finished with value: 0.15719962135970308 and parameters: {'lambda_l1': 7.161224753696021e-07, 'lambda_l2': 5.321490973592046e-07}. Best is trial 51 with value: 0.15719962135970308.\n",
      "regularization_factors, val_score: 0.157200:  60%|######################2              | 12/20 [00:30<00:21,  2.66s/it]"
     ]
    },
    {
     "name": "stdout",
     "output_type": "stream",
     "text": [
      "[200]\tcv_agg's l2: 0.159583 + 0.0322233\n",
      "Early stopping, best iteration is:\n",
      "[105]\tcv_agg's l2: 0.1572 + 0.0347321\n",
      "[100]\tcv_agg's l2: 0.157606 + 0.0351021\n"
     ]
    },
    {
     "name": "stderr",
     "output_type": "stream",
     "text": [
      "regularization_factors, val_score: 0.157200:  65%|########################             | 13/20 [00:33<00:18,  2.65s/it][I 2023-11-09 20:53:22,802] Trial 52 finished with value: 0.15719962182109753 and parameters: {'lambda_l1': 3.439316838064737e-07, 'lambda_l2': 3.826201810756222e-07}. Best is trial 51 with value: 0.15719962135970308.\n",
      "regularization_factors, val_score: 0.157200:  65%|########################             | 13/20 [00:33<00:18,  2.65s/it]"
     ]
    },
    {
     "name": "stdout",
     "output_type": "stream",
     "text": [
      "[200]\tcv_agg's l2: 0.159583 + 0.0322233\n",
      "Early stopping, best iteration is:\n",
      "[105]\tcv_agg's l2: 0.1572 + 0.0347321\n",
      "[100]\tcv_agg's l2: 0.157606 + 0.0351021\n"
     ]
    },
    {
     "name": "stderr",
     "output_type": "stream",
     "text": [
      "regularization_factors, val_score: 0.157200:  70%|#########################9           | 14/20 [00:35<00:15,  2.63s/it][I 2023-11-09 20:53:25,407] Trial 53 finished with value: 0.15719962105417692 and parameters: {'lambda_l1': 3.375205524967641e-07, 'lambda_l2': 1.5337912298068951e-06}. Best is trial 53 with value: 0.15719962105417692.\n",
      "regularization_factors, val_score: 0.157200:  70%|#########################9           | 14/20 [00:35<00:15,  2.63s/it]"
     ]
    },
    {
     "name": "stdout",
     "output_type": "stream",
     "text": [
      "[200]\tcv_agg's l2: 0.159583 + 0.0322233\n",
      "Early stopping, best iteration is:\n",
      "[105]\tcv_agg's l2: 0.1572 + 0.0347321\n",
      "[100]\tcv_agg's l2: 0.157606 + 0.0351021\n"
     ]
    },
    {
     "name": "stderr",
     "output_type": "stream",
     "text": [
      "regularization_factors, val_score: 0.157200:  75%|###########################7         | 15/20 [00:38<00:13,  2.68s/it][I 2023-11-09 20:53:28,189] Trial 54 finished with value: 0.15719962118338687 and parameters: {'lambda_l1': 1.8135374390863595e-07, 'lambda_l2': 1.6178907226070092e-06}. Best is trial 53 with value: 0.15719962105417692.\n",
      "regularization_factors, val_score: 0.157200:  75%|###########################7         | 15/20 [00:38<00:13,  2.68s/it]"
     ]
    },
    {
     "name": "stdout",
     "output_type": "stream",
     "text": [
      "[200]\tcv_agg's l2: 0.159583 + 0.0322233\n",
      "Early stopping, best iteration is:\n",
      "[105]\tcv_agg's l2: 0.1572 + 0.0347321\n",
      "[100]\tcv_agg's l2: 0.157606 + 0.0351021\n"
     ]
    },
    {
     "name": "stderr",
     "output_type": "stream",
     "text": [
      "regularization_factors, val_score: 0.157200:  80%|#############################6       | 16/20 [00:41<00:10,  2.68s/it][I 2023-11-09 20:53:30,885] Trial 55 finished with value: 0.157199621278049 and parameters: {'lambda_l1': 2.4134900251458586e-07, 'lambda_l2': 1.5058752207391095e-06}. Best is trial 53 with value: 0.15719962105417692.\n",
      "regularization_factors, val_score: 0.157200:  80%|#############################6       | 16/20 [00:41<00:10,  2.68s/it]"
     ]
    },
    {
     "name": "stdout",
     "output_type": "stream",
     "text": [
      "[200]\tcv_agg's l2: 0.159583 + 0.0322233\n",
      "Early stopping, best iteration is:\n",
      "[105]\tcv_agg's l2: 0.1572 + 0.0347321\n",
      "[100]\tcv_agg's l2: 0.157606 + 0.0351021\n"
     ]
    },
    {
     "name": "stderr",
     "output_type": "stream",
     "text": [
      "regularization_factors, val_score: 0.157200:  85%|###############################4     | 17/20 [00:43<00:08,  2.70s/it][I 2023-11-09 20:53:33,607] Trial 56 finished with value: 0.15719962195430978 and parameters: {'lambda_l1': 1.8442440134737296e-07, 'lambda_l2': 8.749186382029707e-07}. Best is trial 53 with value: 0.15719962105417692.\n",
      "regularization_factors, val_score: 0.157200:  85%|###############################4     | 17/20 [00:43<00:08,  2.70s/it]"
     ]
    },
    {
     "name": "stdout",
     "output_type": "stream",
     "text": [
      "[200]\tcv_agg's l2: 0.159583 + 0.0322233\n",
      "Early stopping, best iteration is:\n",
      "[105]\tcv_agg's l2: 0.1572 + 0.0347321\n",
      "[100]\tcv_agg's l2: 0.157606 + 0.0351021\n"
     ]
    },
    {
     "name": "stderr",
     "output_type": "stream",
     "text": [
      "regularization_factors, val_score: 0.157200:  90%|#################################3   | 18/20 [00:46<00:05,  2.66s/it][I 2023-11-09 20:53:36,175] Trial 57 finished with value: 0.15719962069585314 and parameters: {'lambda_l1': 4.093893626393974e-07, 'lambda_l2': 1.9859101268902274e-06}. Best is trial 57 with value: 0.15719962069585314.\n",
      "regularization_factors, val_score: 0.157200:  90%|#################################3   | 18/20 [00:46<00:05,  2.66s/it]"
     ]
    },
    {
     "name": "stdout",
     "output_type": "stream",
     "text": [
      "[200]\tcv_agg's l2: 0.159583 + 0.0322233\n",
      "Early stopping, best iteration is:\n",
      "[105]\tcv_agg's l2: 0.1572 + 0.0347321\n",
      "[100]\tcv_agg's l2: 0.157606 + 0.0351021\n"
     ]
    },
    {
     "name": "stderr",
     "output_type": "stream",
     "text": [
      "regularization_factors, val_score: 0.157200:  95%|###################################1 | 19/20 [00:49<00:02,  2.64s/it][I 2023-11-09 20:53:38,789] Trial 58 finished with value: 0.15719961868970792 and parameters: {'lambda_l1': 4.7277059689628903e-07, 'lambda_l2': 4.8867038996781075e-06}. Best is trial 58 with value: 0.15719961868970792.\n",
      "regularization_factors, val_score: 0.157200:  95%|###################################1 | 19/20 [00:49<00:02,  2.64s/it]"
     ]
    },
    {
     "name": "stdout",
     "output_type": "stream",
     "text": [
      "[200]\tcv_agg's l2: 0.159583 + 0.0322233\n",
      "Early stopping, best iteration is:\n",
      "[105]\tcv_agg's l2: 0.1572 + 0.0347321\n",
      "[100]\tcv_agg's l2: 0.157606 + 0.0351021\n"
     ]
    },
    {
     "name": "stderr",
     "output_type": "stream",
     "text": [
      "regularization_factors, val_score: 0.157200: 100%|#####################################| 20/20 [00:51<00:00,  2.71s/it][I 2023-11-09 20:53:41,668] Trial 59 finished with value: 0.15719961635411345 and parameters: {'lambda_l1': 6.088896667143144e-07, 'lambda_l2': 8.913533166578145e-06}. Best is trial 59 with value: 0.15719961635411345.\n",
      "regularization_factors, val_score: 0.157200: 100%|#####################################| 20/20 [00:51<00:00,  2.60s/it]\n"
     ]
    },
    {
     "name": "stdout",
     "output_type": "stream",
     "text": [
      "[200]\tcv_agg's l2: 0.159583 + 0.0322233\n",
      "Early stopping, best iteration is:\n",
      "[105]\tcv_agg's l2: 0.1572 + 0.0347321\n"
     ]
    },
    {
     "name": "stderr",
     "output_type": "stream",
     "text": [
      "min_data_in_leaf, val_score: 0.157200:   0%|                                                     | 0/5 [00:00<?, ?it/s]"
     ]
    },
    {
     "name": "stdout",
     "output_type": "stream",
     "text": [
      "[100]\tcv_agg's l2: 0.233254 + 0.0397841\n"
     ]
    },
    {
     "name": "stderr",
     "output_type": "stream",
     "text": [
      "min_data_in_leaf, val_score: 0.157200:  20%|#########                                    | 1/5 [00:01<00:06,  1.52s/it][I 2023-11-09 20:53:43,194] Trial 60 finished with value: 0.23212227750161113 and parameters: {'min_child_samples': 50}. Best is trial 60 with value: 0.23212227750161113.\n",
      "min_data_in_leaf, val_score: 0.157200:  20%|#########                                    | 1/5 [00:01<00:06,  1.52s/it]"
     ]
    },
    {
     "name": "stdout",
     "output_type": "stream",
     "text": [
      "[200]\tcv_agg's l2: 0.223199 + 0.0342109\n",
      "Early stopping, best iteration is:\n",
      "[105]\tcv_agg's l2: 0.1572 + 0.0347321\n",
      "[100]\tcv_agg's l2: 0.151921 + 0.035315\n",
      "[200]\tcv_agg's l2: 0.151789 + 0.0344516\n"
     ]
    },
    {
     "name": "stderr",
     "output_type": "stream",
     "text": [
      "min_data_in_leaf, val_score: 0.150950:  40%|##################                           | 2/5 [00:07<00:13,  4.41s/it][I 2023-11-09 20:53:49,630] Trial 61 finished with value: 0.15095029171976618 and parameters: {'min_child_samples': 5}. Best is trial 61 with value: 0.15095029171976618.\n",
      "min_data_in_leaf, val_score: 0.150950:  40%|##################                           | 2/5 [00:07<00:13,  4.41s/it]"
     ]
    },
    {
     "name": "stdout",
     "output_type": "stream",
     "text": [
      "Early stopping, best iteration is:\n",
      "[146]\tcv_agg's l2: 0.15095 + 0.0348538\n",
      "[100]\tcv_agg's l2: 0.168799 + 0.0377662\n",
      "[200]\tcv_agg's l2: 0.169056 + 0.0354895\n"
     ]
    },
    {
     "name": "stderr",
     "output_type": "stream",
     "text": [
      "min_data_in_leaf, val_score: 0.150950:  60%|###########################                  | 3/5 [00:11<00:07,  3.98s/it][I 2023-11-09 20:53:53,099] Trial 62 finished with value: 0.16878833076807653 and parameters: {'min_child_samples': 25}. Best is trial 61 with value: 0.15095029171976618.\n",
      "min_data_in_leaf, val_score: 0.150950:  60%|###########################                  | 3/5 [00:11<00:07,  3.98s/it]"
     ]
    },
    {
     "name": "stdout",
     "output_type": "stream",
     "text": [
      "Early stopping, best iteration is:\n",
      "[146]\tcv_agg's l2: 0.15095 + 0.0348538\n",
      "[100]\tcv_agg's l2: 0.675068 + 0.0554865\n"
     ]
    },
    {
     "name": "stderr",
     "output_type": "stream",
     "text": [
      "\r",
      "min_data_in_leaf, val_score: 0.150950:  60%|###########################                  | 3/5 [00:12<00:07,  3.98s/it]"
     ]
    },
    {
     "name": "stdout",
     "output_type": "stream",
     "text": [
      "[200]\tcv_agg's l2: 0.635306 + 0.0511241\n",
      "Early stopping, best iteration is:\n",
      "[146]\tcv_agg's l2: 0.15095 + 0.0348538\n"
     ]
    },
    {
     "name": "stderr",
     "output_type": "stream",
     "text": [
      "min_data_in_leaf, val_score: 0.150950:  80%|####################################         | 4/5 [00:12<00:02,  2.80s/it][I 2023-11-09 20:53:54,085] Trial 63 finished with value: 0.6550647578390281 and parameters: {'min_child_samples': 100}. Best is trial 61 with value: 0.15095029171976618.\n",
      "min_data_in_leaf, val_score: 0.150950:  80%|####################################         | 4/5 [00:12<00:02,  2.80s/it]"
     ]
    },
    {
     "name": "stdout",
     "output_type": "stream",
     "text": [
      "[100]\tcv_agg's l2: 0.147859 + 0.0328375\n",
      "[200]\tcv_agg's l2: 0.148288 + 0.0322643\n"
     ]
    },
    {
     "name": "stderr",
     "output_type": "stream",
     "text": [
      "min_data_in_leaf, val_score: 0.147168: 100%|#############################################| 5/5 [00:17<00:00,  3.79s/it][I 2023-11-09 20:53:59,620] Trial 64 finished with value: 0.14716756464291186 and parameters: {'min_child_samples': 10}. Best is trial 64 with value: 0.14716756464291186.\n",
      "min_data_in_leaf, val_score: 0.147168: 100%|#############################################| 5/5 [00:17<00:00,  3.59s/it]"
     ]
    },
    {
     "name": "stdout",
     "output_type": "stream",
     "text": [
      "Early stopping, best iteration is:\n",
      "[167]\tcv_agg's l2: 0.147168 + 0.0316004\n"
     ]
    },
    {
     "name": "stderr",
     "output_type": "stream",
     "text": [
      "\n"
     ]
    }
   ],
   "source": [
    "import optuna.integration.lightgbm as lgb\n",
    "from lightgbm import early_stopping\n",
    "from sklearn.model_selection import KFold\n",
    "from sklearn.model_selection import RepeatedKFold\n",
    "\n",
    "\n",
    "lgb_train = lgb.Dataset(X_train_random_split, y_train_random_split)\n",
    "\n",
    "params = {\n",
    "    \"boosting_type\": \"gbdt\",\n",
    "    \"objective\": \"regression\",\n",
    "    \"metric\": \"l2\",\n",
    "    \"verbosity\": -1,\n",
    "}\n",
    "\n",
    "tuner = lgb.LightGBMTunerCV(\n",
    "    params,\n",
    "    lgb_train,\n",
    "    folds=KFold(n_splits=5),\n",
    "    num_boost_round=10000,\n",
    "    callbacks=[early_stopping(100), log_evaluation(100)],\n",
    ")\n",
    "\n",
    "tuner.run()"
   ]
  },
  {
   "cell_type": "code",
   "execution_count": 38,
   "id": "c07cf3c6",
   "metadata": {},
   "outputs": [
    {
     "name": "stdout",
     "output_type": "stream",
     "text": [
      "Best score: 0.14716756464291186\n",
      "Params: \n",
      "    boosting_type: gbdt\n",
      "    objective: regression\n",
      "    metric: l2\n",
      "    verbosity: -1\n",
      "    feature_pre_filter: False\n",
      "    lambda_l1: 6.088896667143144e-07\n",
      "    lambda_l2: 8.913533166578145e-06\n",
      "    num_leaves: 31\n",
      "    feature_fraction: 0.4\n",
      "    bagging_fraction: 0.9826348845290551\n",
      "    bagging_freq: 1\n",
      "    min_child_samples: 10\n"
     ]
    }
   ],
   "source": [
    "print(f\"Best score: {tuner.best_score}\")\n",
    "best_params = tuner.best_params\n",
    "print(\"Params: \")\n",
    "for key, value in best_params.items():\n",
    "    print(\"    {}: {}\".format(key, value))"
   ]
  },
  {
   "cell_type": "code",
   "execution_count": 39,
   "id": "47a1bc33",
   "metadata": {},
   "outputs": [],
   "source": [
    "import lightgbm as lgb\n",
    "\n",
    "lgb_tuned = lgb.train(\n",
    "    best_params,\n",
    "    lgb_train,\n",
    "    num_boost_round=10000,\n",
    ")"
   ]
  },
  {
   "cell_type": "code",
   "execution_count": 40,
   "id": "4c17765e",
   "metadata": {},
   "outputs": [
    {
     "name": "stdout",
     "output_type": "stream",
     "text": [
      "RMSE train: 0.00\n",
      "RMSE test: 0.34\n",
      "MAE test: 0.23\n",
      "\n"
     ]
    }
   ],
   "source": [
    "rmse, mae = assess_regression_model(\n",
    "    lgb_tuned,\n",
    "    X_train_random_split,\n",
    "    X_test_random_split,\n",
    "    y_train_random_split,\n",
    "    y_test_random_split,\n",
    ")"
   ]
  },
  {
   "cell_type": "code",
   "execution_count": 41,
   "id": "9caec811",
   "metadata": {},
   "outputs": [],
   "source": [
    "results.loc[3] = [\"random\", \"Optuna\", \"expanded\", rmse, mae]"
   ]
  },
  {
   "cell_type": "markdown",
   "id": "47fed830",
   "metadata": {},
   "source": [
    "###### MAE by level"
   ]
  },
  {
   "cell_type": "code",
   "execution_count": 42,
   "id": "c12fe14b",
   "metadata": {},
   "outputs": [
    {
     "data": {
      "image/png": "[encoded data removed]",
      "text/plain": [
       "<Figure size 1440x576 with 1 Axes>"
      ]
     },
     "metadata": {
      "needs_background": "light"
     },
     "output_type": "display_data"
    }
   ],
   "source": [
    "plot_mae_by_level(\n",
    "    y_test_random_split,\n",
    "    y_pred_test,\n",
    "    title=\"MAE by level for tuned LightGBM with expanded features and random split\",\n",
    ")"
   ]
  },
  {
   "cell_type": "code",
   "execution_count": 43,
   "id": "859f12f2",
   "metadata": {},
   "outputs": [
    {
     "name": "stdout",
     "output_type": "stream",
     "text": [
      "Default:\n",
      "RMSE: 0.21\n",
      "\n",
      "Round type: 0.5\n",
      "RMSE: 0.23\n",
      "\n",
      "Round type: 0.33\n",
      "RMSE: 0.25\n",
      "\n",
      "Round type: 0.45\n",
      "RMSE: 0.23\n",
      "\n"
     ]
    }
   ],
   "source": [
    "predict = lgb_tuned.predict(X_test)\n",
    "evaluate_round_predictions([0.5, 0.33, 0.45], y_test, predict)"
   ]
  },
  {
   "cell_type": "code",
   "execution_count": 44,
   "id": "a046eead",
   "metadata": {},
   "outputs": [
    {
     "data": {
      "image/png": "[encoded data removed]",
      "text/plain": [
       "<Figure size 720x720 with 2 Axes>"
      ]
     },
     "metadata": {
      "needs_background": "light"
     },
     "output_type": "display_data"
    }
   ],
   "source": [
    "plot_confusion_matrix(\n",
    "    predict,\n",
    "    y_test,\n",
    "    title=\"Confusion matrix for tuned LightGBM with\\nexpanded features and random split\",\n",
    ")"
   ]
  },
  {
   "cell_type": "markdown",
   "id": "2e230699",
   "metadata": {},
   "source": [
    "## Summary"
   ]
  },
  {
   "cell_type": "code",
   "execution_count": 45,
   "id": "2edd08be",
   "metadata": {},
   "outputs": [
    {
     "data": {
      "text/html": [
       "<div>\n",
       "<style scoped>\n",
       "    .dataframe tbody tr th:only-of-type {\n",
       "        vertical-align: middle;\n",
       "    }\n",
       "\n",
       "    .dataframe tbody tr th {\n",
       "        vertical-align: top;\n",
       "    }\n",
       "\n",
       "    .dataframe thead th {\n",
       "        text-align: right;\n",
       "    }\n",
       "</style>\n",
       "<table border=\"1\" class=\"dataframe\">\n",
       "  <thead>\n",
       "    <tr style=\"text-align: right;\">\n",
       "      <th></th>\n",
       "      <th>Split type</th>\n",
       "      <th>Tuning type</th>\n",
       "      <th>Set of features</th>\n",
       "      <th>RMSE</th>\n",
       "      <th>MAE</th>\n",
       "    </tr>\n",
       "  </thead>\n",
       "  <tbody>\n",
       "    <tr>\n",
       "      <th>0</th>\n",
       "      <td>chronological</td>\n",
       "      <td>default</td>\n",
       "      <td>expanded</td>\n",
       "      <td>0.510755</td>\n",
       "      <td>0.357180</td>\n",
       "    </tr>\n",
       "    <tr>\n",
       "      <th>1</th>\n",
       "      <td>chronological</td>\n",
       "      <td>Optuna</td>\n",
       "      <td>expanded</td>\n",
       "      <td>0.456978</td>\n",
       "      <td>0.334893</td>\n",
       "    </tr>\n",
       "    <tr>\n",
       "      <th>2</th>\n",
       "      <td>random</td>\n",
       "      <td>default</td>\n",
       "      <td>expanded</td>\n",
       "      <td>0.384853</td>\n",
       "      <td>0.267273</td>\n",
       "    </tr>\n",
       "    <tr>\n",
       "      <th>3</th>\n",
       "      <td>random</td>\n",
       "      <td>Optuna</td>\n",
       "      <td>expanded</td>\n",
       "      <td>0.343850</td>\n",
       "      <td>0.230400</td>\n",
       "    </tr>\n",
       "  </tbody>\n",
       "</table>\n",
       "</div>"
      ],
      "text/plain": [
       "      Split type Tuning type Set of features      RMSE       MAE\n",
       "0  chronological     default        expanded  0.510755  0.357180\n",
       "1  chronological      Optuna        expanded  0.456978  0.334893\n",
       "2         random     default        expanded  0.384853  0.267273\n",
       "3         random      Optuna        expanded  0.343850  0.230400"
      ]
     },
     "execution_count": 45,
     "metadata": {},
     "output_type": "execute_result"
    }
   ],
   "source": [
    "results"
   ]
  },
  {
   "cell_type": "code",
   "execution_count": 46,
   "id": "7e403b40",
   "metadata": {},
   "outputs": [],
   "source": [
    "from training.results import plot_summary"
   ]
  },
  {
   "cell_type": "code",
   "execution_count": 47,
   "id": "1072db81",
   "metadata": {},
   "outputs": [
    {
     "data": {
      "image/png": "[encoded data removed]",
      "text/plain": [
       "<Figure size 1440x576 with 1 Axes>"
      ]
     },
     "metadata": {
      "needs_background": "light"
     },
     "output_type": "display_data"
    }
   ],
   "source": [
    "plot_summary(results, \"RMSE\", title=\"RMSE for LightGBM with expanded features\")"
   ]
  },
  {
   "cell_type": "code",
   "execution_count": 48,
   "id": "0a073f44",
   "metadata": {},
   "outputs": [
    {
     "data": {
      "image/png": "[encoded data removed]",
      "text/plain": [
       "<Figure size 1440x576 with 1 Axes>"
      ]
     },
     "metadata": {
      "needs_background": "light"
     },
     "output_type": "display_data"
    }
   ],
   "source": [
    "plot_summary(results, \"MAE\", title=\"MAE for LightGBM with expanded features\")"
   ]
  },
  {
   "cell_type": "code",
   "execution_count": 49,
   "id": "157af270",
   "metadata": {},
   "outputs": [],
   "source": [
    "results.to_csv(\"./lightgbm_expanded_results.csv\")"
   ]
  },
  {
   "cell_type": "code",
   "execution_count": null,
   "id": "1b44b486",
   "metadata": {},
   "outputs": [],
   "source": []
  }
 ],
 "metadata": {
  "kernelspec": {
   "display_name": "Python 3 (ipykernel)",
   "language": "python",
   "name": "python3"
  },
  "language_info": {
   "codemirror_mode": {
    "name": "ipython",
    "version": 3
   },
   "file_extension": ".py",
   "mimetype": "text/x-python",
   "name": "python",
   "nbconvert_exporter": "python",
   "pygments_lexer": "ipython3",
   "version": "3.10.4"
  }
 },
 "nbformat": 4,
 "nbformat_minor": 5
}
