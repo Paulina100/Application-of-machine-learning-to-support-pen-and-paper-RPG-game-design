{
 "cells": [
  {
   "cell_type": "markdown",
   "id": "f64a671f",
   "metadata": {},
   "source": [
    "# LightGBM\n",
    "### Parameters:\n",
    "* **abilities**:\n",
    "    * **cha**\n",
    "    * **con**\n",
    "    * **dex**\n",
    "    * **int**\n",
    "    * **str**\n",
    "    * **wis**\n",
    "* **attributes**\n",
    "    * **hp**\n",
    "    * **ac**\n",
    "\n",
    "### Prediction: *level*\n",
    "\n",
    "## Loading data"
   ]
  },
  {
   "cell_type": "code",
   "execution_count": 35,
   "id": "1f2515e7",
   "metadata": {},
   "outputs": [],
   "source": [
    "import numpy as np\n",
    "import pandas as pd\n",
    "import sys\n",
    "\n",
    "import os\n",
    "import pathlib\n",
    "\n",
    "sys.path.append(\"../../..\")\n",
    "from training.creating_dataset import load_and_preprocess_data\n",
    "\n",
    "current_path = os.getcwd()\n",
    "DATASETS_DIR = pathlib.Path(current_path).parent.parent.parent / \"pathfinder_2e_data\"\n",
    "DATASET_FILES = [\n",
    "    \"pathfinder-bestiary.db\",\n",
    "    \"pathfinder-bestiary-2.db\",\n",
    "    \"pathfinder-bestiary-3.db\",\n",
    "]\n",
    "DATASET_PATHS = [f\"{DATASETS_DIR}/{file}\" for file in DATASET_FILES]\n",
    "characteristics = [\n",
    "    \"cha\",\n",
    "    \"con\",\n",
    "    \"dex\",\n",
    "    \"int\",\n",
    "    \"str\",\n",
    "    \"wis\",\n",
    "    \"ac\",\n",
    "    \"hp\",\n",
    "]\n",
    "\n",
    "df = load_and_preprocess_data(\n",
    "    DATASET_PATHS,\n",
    "    characteristics=characteristics,\n",
    ")"
   ]
  },
  {
   "cell_type": "code",
   "execution_count": 36,
   "id": "b522f880",
   "metadata": {},
   "outputs": [
    {
     "name": "stdout",
     "output_type": "stream",
     "text": [
      "<class 'pandas.core.frame.DataFrame'>\n",
      "Int64Index: 1206 entries, 0 to 1205\n",
      "Data columns (total 10 columns):\n",
      " #   Column  Non-Null Count  Dtype \n",
      "---  ------  --------------  ----- \n",
      " 0   dex     1206 non-null   int64 \n",
      " 1   ac      1206 non-null   int64 \n",
      " 2   level   1206 non-null   int64 \n",
      " 3   cha     1206 non-null   int64 \n",
      " 4   int     1206 non-null   int64 \n",
      " 5   con     1206 non-null   int64 \n",
      " 6   str     1206 non-null   int64 \n",
      " 7   book    1206 non-null   object\n",
      " 8   wis     1206 non-null   int64 \n",
      " 9   hp      1206 non-null   int64 \n",
      "dtypes: int64(9), object(1)\n",
      "memory usage: 103.6+ KB\n"
     ]
    }
   ],
   "source": [
    "df.info()"
   ]
  },
  {
   "cell_type": "code",
   "execution_count": 37,
   "id": "1b5450d3",
   "metadata": {},
   "outputs": [
    {
     "data": {
      "text/html": [
       "<div>\n",
       "<style scoped>\n",
       "    .dataframe tbody tr th:only-of-type {\n",
       "        vertical-align: middle;\n",
       "    }\n",
       "\n",
       "    .dataframe tbody tr th {\n",
       "        vertical-align: top;\n",
       "    }\n",
       "\n",
       "    .dataframe thead th {\n",
       "        text-align: right;\n",
       "    }\n",
       "</style>\n",
       "<table border=\"1\" class=\"dataframe\">\n",
       "  <thead>\n",
       "    <tr style=\"text-align: right;\">\n",
       "      <th></th>\n",
       "      <th>dex</th>\n",
       "      <th>ac</th>\n",
       "      <th>level</th>\n",
       "      <th>cha</th>\n",
       "      <th>int</th>\n",
       "      <th>con</th>\n",
       "      <th>str</th>\n",
       "      <th>book</th>\n",
       "      <th>wis</th>\n",
       "      <th>hp</th>\n",
       "    </tr>\n",
       "  </thead>\n",
       "  <tbody>\n",
       "    <tr>\n",
       "      <th>0</th>\n",
       "      <td>2</td>\n",
       "      <td>29</td>\n",
       "      <td>10</td>\n",
       "      <td>1</td>\n",
       "      <td>1</td>\n",
       "      <td>5</td>\n",
       "      <td>7</td>\n",
       "      <td>Pathfinder Bestiary</td>\n",
       "      <td>2</td>\n",
       "      <td>215</td>\n",
       "    </tr>\n",
       "    <tr>\n",
       "      <th>1</th>\n",
       "      <td>0</td>\n",
       "      <td>28</td>\n",
       "      <td>10</td>\n",
       "      <td>1</td>\n",
       "      <td>-4</td>\n",
       "      <td>5</td>\n",
       "      <td>9</td>\n",
       "      <td>Pathfinder Bestiary</td>\n",
       "      <td>2</td>\n",
       "      <td>220</td>\n",
       "    </tr>\n",
       "    <tr>\n",
       "      <th>2</th>\n",
       "      <td>3</td>\n",
       "      <td>25</td>\n",
       "      <td>8</td>\n",
       "      <td>-2</td>\n",
       "      <td>-4</td>\n",
       "      <td>6</td>\n",
       "      <td>7</td>\n",
       "      <td>Pathfinder Bestiary</td>\n",
       "      <td>3</td>\n",
       "      <td>175</td>\n",
       "    </tr>\n",
       "    <tr>\n",
       "      <th>3</th>\n",
       "      <td>4</td>\n",
       "      <td>41</td>\n",
       "      <td>17</td>\n",
       "      <td>6</td>\n",
       "      <td>6</td>\n",
       "      <td>5</td>\n",
       "      <td>7</td>\n",
       "      <td>Pathfinder Bestiary</td>\n",
       "      <td>5</td>\n",
       "      <td>315</td>\n",
       "    </tr>\n",
       "    <tr>\n",
       "      <th>4</th>\n",
       "      <td>3</td>\n",
       "      <td>16</td>\n",
       "      <td>1</td>\n",
       "      <td>1</td>\n",
       "      <td>-1</td>\n",
       "      <td>1</td>\n",
       "      <td>-5</td>\n",
       "      <td>Pathfinder Bestiary</td>\n",
       "      <td>1</td>\n",
       "      <td>20</td>\n",
       "    </tr>\n",
       "  </tbody>\n",
       "</table>\n",
       "</div>"
      ],
      "text/plain": [
       "   dex  ac  level  cha  int  con  str                 book  wis   hp\n",
       "0    2  29     10    1    1    5    7  Pathfinder Bestiary    2  215\n",
       "1    0  28     10    1   -4    5    9  Pathfinder Bestiary    2  220\n",
       "2    3  25      8   -2   -4    6    7  Pathfinder Bestiary    3  175\n",
       "3    4  41     17    6    6    5    7  Pathfinder Bestiary    5  315\n",
       "4    3  16      1    1   -1    1   -5  Pathfinder Bestiary    1   20"
      ]
     },
     "execution_count": 37,
     "metadata": {},
     "output_type": "execute_result"
    }
   ],
   "source": [
    "df.head()"
   ]
  },
  {
   "cell_type": "markdown",
   "id": "0caa661f",
   "metadata": {},
   "source": [
    "###### Level"
   ]
  },
  {
   "cell_type": "code",
   "execution_count": 38,
   "id": "c200d2b4",
   "metadata": {},
   "outputs": [
    {
     "data": {
      "text/plain": [
       "0       10\n",
       "1       10\n",
       "2        8\n",
       "3       17\n",
       "4        1\n",
       "        ..\n",
       "1201    20\n",
       "1202    -1\n",
       "1203    12\n",
       "1204     6\n",
       "1205     6\n",
       "Name: level, Length: 1206, dtype: int64"
      ]
     },
     "execution_count": 38,
     "metadata": {},
     "output_type": "execute_result"
    }
   ],
   "source": [
    "y = df[\"level\"]\n",
    "y"
   ]
  },
  {
   "cell_type": "code",
   "execution_count": 39,
   "id": "553822a7",
   "metadata": {},
   "outputs": [],
   "source": [
    "from collections import defaultdict\n",
    "\n",
    "\n",
    "lvl_stat = defaultdict(lambda: 0)\n",
    "\n",
    "for lvl in y:\n",
    "    lvl_stat[lvl] += 1"
   ]
  },
  {
   "cell_type": "code",
   "execution_count": 40,
   "id": "e45d6c29",
   "metadata": {},
   "outputs": [
    {
     "data": {
      "text/html": [
       "<div>\n",
       "<style scoped>\n",
       "    .dataframe tbody tr th:only-of-type {\n",
       "        vertical-align: middle;\n",
       "    }\n",
       "\n",
       "    .dataframe tbody tr th {\n",
       "        vertical-align: top;\n",
       "    }\n",
       "\n",
       "    .dataframe thead th {\n",
       "        text-align: right;\n",
       "    }\n",
       "</style>\n",
       "<table border=\"1\" class=\"dataframe\">\n",
       "  <thead>\n",
       "    <tr style=\"text-align: right;\">\n",
       "      <th></th>\n",
       "      <th>lvl</th>\n",
       "      <th>count</th>\n",
       "    </tr>\n",
       "  </thead>\n",
       "  <tbody>\n",
       "    <tr>\n",
       "      <th>0</th>\n",
       "      <td>-1</td>\n",
       "      <td>34</td>\n",
       "    </tr>\n",
       "    <tr>\n",
       "      <th>1</th>\n",
       "      <td>0</td>\n",
       "      <td>27</td>\n",
       "    </tr>\n",
       "    <tr>\n",
       "      <th>2</th>\n",
       "      <td>1</td>\n",
       "      <td>127</td>\n",
       "    </tr>\n",
       "    <tr>\n",
       "      <th>3</th>\n",
       "      <td>2</td>\n",
       "      <td>121</td>\n",
       "    </tr>\n",
       "    <tr>\n",
       "      <th>4</th>\n",
       "      <td>3</td>\n",
       "      <td>95</td>\n",
       "    </tr>\n",
       "    <tr>\n",
       "      <th>5</th>\n",
       "      <td>4</td>\n",
       "      <td>82</td>\n",
       "    </tr>\n",
       "    <tr>\n",
       "      <th>6</th>\n",
       "      <td>5</td>\n",
       "      <td>76</td>\n",
       "    </tr>\n",
       "    <tr>\n",
       "      <th>7</th>\n",
       "      <td>6</td>\n",
       "      <td>72</td>\n",
       "    </tr>\n",
       "    <tr>\n",
       "      <th>8</th>\n",
       "      <td>7</td>\n",
       "      <td>77</td>\n",
       "    </tr>\n",
       "    <tr>\n",
       "      <th>9</th>\n",
       "      <td>8</td>\n",
       "      <td>68</td>\n",
       "    </tr>\n",
       "    <tr>\n",
       "      <th>10</th>\n",
       "      <td>9</td>\n",
       "      <td>63</td>\n",
       "    </tr>\n",
       "    <tr>\n",
       "      <th>11</th>\n",
       "      <td>10</td>\n",
       "      <td>58</td>\n",
       "    </tr>\n",
       "    <tr>\n",
       "      <th>12</th>\n",
       "      <td>11</td>\n",
       "      <td>40</td>\n",
       "    </tr>\n",
       "    <tr>\n",
       "      <th>13</th>\n",
       "      <td>12</td>\n",
       "      <td>41</td>\n",
       "    </tr>\n",
       "    <tr>\n",
       "      <th>14</th>\n",
       "      <td>13</td>\n",
       "      <td>36</td>\n",
       "    </tr>\n",
       "    <tr>\n",
       "      <th>15</th>\n",
       "      <td>14</td>\n",
       "      <td>33</td>\n",
       "    </tr>\n",
       "    <tr>\n",
       "      <th>16</th>\n",
       "      <td>15</td>\n",
       "      <td>31</td>\n",
       "    </tr>\n",
       "    <tr>\n",
       "      <th>17</th>\n",
       "      <td>16</td>\n",
       "      <td>25</td>\n",
       "    </tr>\n",
       "    <tr>\n",
       "      <th>18</th>\n",
       "      <td>17</td>\n",
       "      <td>21</td>\n",
       "    </tr>\n",
       "    <tr>\n",
       "      <th>19</th>\n",
       "      <td>18</td>\n",
       "      <td>21</td>\n",
       "    </tr>\n",
       "    <tr>\n",
       "      <th>20</th>\n",
       "      <td>19</td>\n",
       "      <td>18</td>\n",
       "    </tr>\n",
       "    <tr>\n",
       "      <th>21</th>\n",
       "      <td>20</td>\n",
       "      <td>24</td>\n",
       "    </tr>\n",
       "    <tr>\n",
       "      <th>22</th>\n",
       "      <td>21</td>\n",
       "      <td>16</td>\n",
       "    </tr>\n",
       "  </tbody>\n",
       "</table>\n",
       "</div>"
      ],
      "text/plain": [
       "    lvl  count\n",
       "0    -1     34\n",
       "1     0     27\n",
       "2     1    127\n",
       "3     2    121\n",
       "4     3     95\n",
       "5     4     82\n",
       "6     5     76\n",
       "7     6     72\n",
       "8     7     77\n",
       "9     8     68\n",
       "10    9     63\n",
       "11   10     58\n",
       "12   11     40\n",
       "13   12     41\n",
       "14   13     36\n",
       "15   14     33\n",
       "16   15     31\n",
       "17   16     25\n",
       "18   17     21\n",
       "19   18     21\n",
       "20   19     18\n",
       "21   20     24\n",
       "22   21     16"
      ]
     },
     "execution_count": 40,
     "metadata": {},
     "output_type": "execute_result"
    }
   ],
   "source": [
    "level_count = pd.DataFrame(\n",
    "    data={\n",
    "        \"lvl\": [key for key in sorted(lvl_stat.keys())],\n",
    "        \"count\": [lvl_stat.get(key) for key in sorted(lvl_stat.keys())],\n",
    "    }\n",
    ")\n",
    "level_count"
   ]
  },
  {
   "cell_type": "code",
   "execution_count": 41,
   "id": "bdbfe8de",
   "metadata": {},
   "outputs": [
    {
     "data": {
      "image/png": "[encoded data removed]",
      "text/plain": [
       "<Figure size 432x288 with 1 Axes>"
      ]
     },
     "metadata": {
      "needs_background": "light"
     },
     "output_type": "display_data"
    }
   ],
   "source": [
    "import matplotlib.pyplot as plt\n",
    "\n",
    "\n",
    "level_count.plot.bar(x=\"lvl\", y=\"count\", title=\"Count of levels\")\n",
    "plt.show()"
   ]
  },
  {
   "cell_type": "markdown",
   "id": "9fdb6541",
   "metadata": {},
   "source": [
    "## Train test split"
   ]
  },
  {
   "cell_type": "markdown",
   "id": "18f56629",
   "metadata": {},
   "source": [
    "### Chronological split"
   ]
  },
  {
   "cell_type": "code",
   "execution_count": 42,
   "id": "dcda359b",
   "metadata": {},
   "outputs": [],
   "source": [
    "from training.splitting_dataset import split_dataframe\n",
    "\n",
    "\n",
    "os.chdir(\"../../../training\")\n",
    "X_train, X_test, y_train, y_test = split_dataframe(df, test_size=0.31)\n",
    "os.chdir(\"../notebooks/models/lightgbm\")"
   ]
  },
  {
   "cell_type": "code",
   "execution_count": 43,
   "id": "17dbc875",
   "metadata": {},
   "outputs": [],
   "source": [
    "X_train = X_train.drop(columns=[\"book\"])\n",
    "X_test = X_test.drop(columns=[\"book\"])"
   ]
  },
  {
   "cell_type": "markdown",
   "id": "25879636",
   "metadata": {},
   "source": [
    "### Random split"
   ]
  },
  {
   "cell_type": "code",
   "execution_count": 44,
   "id": "982ec5eb",
   "metadata": {},
   "outputs": [],
   "source": [
    "(\n",
    "    X_train_random_split,\n",
    "    X_test_random_split,\n",
    "    y_train_random_split,\n",
    "    y_test_random_split,\n",
    ") = split_dataframe(df, chronological_split=False)"
   ]
  },
  {
   "cell_type": "code",
   "execution_count": 45,
   "id": "90569e78",
   "metadata": {},
   "outputs": [],
   "source": [
    "X_train_random_split = X_train_random_split.drop(columns=[\"book\"])\n",
    "X_test_random_split = X_test_random_split.drop(columns=[\"book\"])"
   ]
  },
  {
   "cell_type": "markdown",
   "id": "9b259fbf",
   "metadata": {},
   "source": [
    "## LightGBM"
   ]
  },
  {
   "cell_type": "markdown",
   "id": "14f37d9b",
   "metadata": {},
   "source": [
    "## Chronological split"
   ]
  },
  {
   "cell_type": "code",
   "execution_count": 46,
   "id": "2bc4c90e",
   "metadata": {},
   "outputs": [
    {
     "name": "stdout",
     "output_type": "stream",
     "text": [
      "[LightGBM] [Warning] Auto-choosing col-wise multi-threading, the overhead of testing was 0.000308 seconds.\n",
      "You can set `force_col_wise=true` to remove the overhead.\n",
      "[LightGBM] [Info] Total Bins 224\n",
      "[LightGBM] [Info] Number of data points in the train set: 841, number of used features: 8\n",
      "[LightGBM] [Info] Start training from score 6.966706\n",
      "Training until validation scores don't improve for 5 rounds\n",
      "[LightGBM] [Warning] No further splits with positive gain, best gain: -inf\n",
      "[LightGBM] [Warning] No further splits with positive gain, best gain: -inf\n",
      "[LightGBM] [Warning] No further splits with positive gain, best gain: -inf\n",
      "[LightGBM] [Warning] No further splits with positive gain, best gain: -inf\n",
      "[LightGBM] [Warning] No further splits with positive gain, best gain: -inf\n",
      "[LightGBM] [Warning] No further splits with positive gain, best gain: -inf\n",
      "[LightGBM] [Warning] No further splits with positive gain, best gain: -inf\n",
      "[LightGBM] [Warning] No further splits with positive gain, best gain: -inf\n",
      "[LightGBM] [Warning] No further splits with positive gain, best gain: -inf\n",
      "[LightGBM] [Warning] No further splits with positive gain, best gain: -inf\n",
      "[LightGBM] [Warning] No further splits with positive gain, best gain: -inf\n",
      "[LightGBM] [Warning] No further splits with positive gain, best gain: -inf\n",
      "Early stopping, best iteration is:\n",
      "[48]\tvalid_0's l1: 0.467604\tvalid_0's l2: 0.447566\n"
     ]
    }
   ],
   "source": [
    "import lightgbm as lgb\n",
    "\n",
    "lgb_train = lgb.Dataset(X_train, y_train)\n",
    "lgb_eval = lgb.Dataset(X_test, y_test, reference=lgb_train)\n",
    "\n",
    "params = {\n",
    "    \"boosting_type\": \"gbdt\",\n",
    "    \"objective\": \"regression\",\n",
    "    \"metric\": {\"l2\", \"l1\"},\n",
    "}\n",
    "\n",
    "gbm = lgb.train(\n",
    "    params,\n",
    "    lgb_train,\n",
    "    num_boost_round=100,\n",
    "    valid_sets=lgb_eval,\n",
    "    callbacks=[lgb.early_stopping(stopping_rounds=5)],\n",
    ")"
   ]
  },
  {
   "cell_type": "code",
   "execution_count": 47,
   "id": "f1ae2eaa",
   "metadata": {},
   "outputs": [],
   "source": [
    "y_pred_train = gbm.predict(X_train, num_iteration=gbm.best_iteration)\n",
    "y_pred_test = gbm.predict(X_test, num_iteration=gbm.best_iteration)"
   ]
  },
  {
   "cell_type": "code",
   "execution_count": 48,
   "id": "ef9d09eb",
   "metadata": {},
   "outputs": [
    {
     "name": "stdout",
     "output_type": "stream",
     "text": [
      "MSE: 0.45\n",
      "RMSE: 0.67\n",
      "MAE: 0.47\n"
     ]
    }
   ],
   "source": [
    "from sklearn.metrics import mean_squared_error, mean_absolute_error\n",
    "\n",
    "\n",
    "mse = mean_squared_error(y_test, y_pred_test)\n",
    "rmse = mean_squared_error(y_test, y_pred_test, squared=False)\n",
    "mae = mean_absolute_error(y_test, y_pred_test)\n",
    "\n",
    "print(f\"MSE: {mse:.2f}\")\n",
    "print(f\"RMSE: {rmse:.2f}\")\n",
    "print(f\"MAE: {mae:.2f}\")"
   ]
  },
  {
   "cell_type": "code",
   "execution_count": 49,
   "id": "6e288d53",
   "metadata": {},
   "outputs": [],
   "source": [
    "results = pd.DataFrame(\n",
    "    data={\n",
    "        \"Split type\": [],\n",
    "        \"Tuning type\": [],\n",
    "        \"Number of characteristics\": [],\n",
    "        \"MSE\": [],\n",
    "        \"RMSE\": [],\n",
    "        \"MAE\": [],\n",
    "    }\n",
    ")\n",
    "\n",
    "results.loc[0] = [\"chronological\", \"normal\", len(X_test.columns), mse, rmse, mae]"
   ]
  },
  {
   "cell_type": "code",
   "execution_count": 50,
   "id": "78bb7ffa",
   "metadata": {},
   "outputs": [
    {
     "name": "stdout",
     "output_type": "stream",
     "text": [
      "RMSE train: 0.31\n",
      "RMSE test: 0.67\n"
     ]
    }
   ],
   "source": [
    "rmse_train = mean_squared_error(y_train, y_pred_train, squared=False)\n",
    "rmse_test = mean_squared_error(y_test, y_pred_test, squared=False)\n",
    "print(f\"RMSE train: {rmse_train:.2f}\")\n",
    "print(f\"RMSE test: {rmse_test:.2f}\")"
   ]
  },
  {
   "cell_type": "markdown",
   "id": "4435f236",
   "metadata": {},
   "source": [
    "###### MAE by level"
   ]
  },
  {
   "cell_type": "code",
   "execution_count": 51,
   "id": "4a1913a2",
   "metadata": {
    "scrolled": false
   },
   "outputs": [
    {
     "data": {
      "image/png": "[encoded data removed]",
      "text/plain": [
       "<Figure size 720x432 with 1 Axes>"
      ]
     },
     "metadata": {
      "needs_background": "light"
     },
     "output_type": "display_data"
    }
   ],
   "source": [
    "import matplotlib.pyplot as plt\n",
    "\n",
    "y_test = y_test.reset_index(drop=True)\n",
    "level_max = y_test.max()\n",
    "\n",
    "mae_by_level = pd.DataFrame(columns=[\"level\", \"mae\"])\n",
    "for lvl in range(-1, level_max + 1):\n",
    "    y_test_curr = y_test[y_test == lvl]\n",
    "    y_pred_test_curr = pd.DataFrame(y_pred_test)[y_test == lvl]\n",
    "\n",
    "    mae = mean_absolute_error(y_test_curr, y_pred_test_curr)\n",
    "    mae_by_level.loc[lvl + 1] = [lvl, mae]\n",
    "\n",
    "\n",
    "plt.figure(figsize=(10, 6))\n",
    "plt.bar(mae_by_level[\"level\"], mae_by_level[\"mae\"])\n",
    "plt.xlabel(\"Level\")\n",
    "plt.ylabel(\"Mean Absolute Error (MAE)\")\n",
    "plt.title(\"MAE by level\")\n",
    "plt.xticks(mae_by_level[\"level\"])\n",
    "plt.show()"
   ]
  },
  {
   "cell_type": "code",
   "execution_count": 52,
   "id": "ec8cab49",
   "metadata": {
    "scrolled": true
   },
   "outputs": [
    {
     "name": "stdout",
     "output_type": "stream",
     "text": [
      "Normal:\n",
      "MSE: 0.45\n",
      "RMSE: 0.67\n",
      "\n",
      "Round type: round\n",
      "MSE: 0.50\n",
      "RMSE: 0.71\n",
      "\n",
      "Round type: 0.33\n",
      "MSE: 0.50\n",
      "RMSE: 0.71\n",
      "\n",
      "Round type: 0.45\n",
      "MSE: 0.48\n",
      "RMSE: 0.70\n",
      "\n"
     ]
    }
   ],
   "source": [
    "from training.results import check_round_predictions, plot_confusion_matrix\n",
    "\n",
    "\n",
    "check_round_predictions([\"round\", 0.33, 0.45], y_test, y_pred_test)"
   ]
  },
  {
   "cell_type": "code",
   "execution_count": 53,
   "id": "9129a0ae",
   "metadata": {},
   "outputs": [
    {
     "data": {
      "image/png": "[encoded data removed]",
      "text/plain": [
       "<Figure size 432x288 with 2 Axes>"
      ]
     },
     "metadata": {
      "needs_background": "light"
     },
     "output_type": "display_data"
    }
   ],
   "source": [
    "plot_confusion_matrix(\"round\", y_pred_test, y_test)"
   ]
  },
  {
   "cell_type": "markdown",
   "id": "aaaf3023",
   "metadata": {},
   "source": [
    "#### Tuning"
   ]
  },
  {
   "cell_type": "code",
   "execution_count": 54,
   "id": "cbd24f9f",
   "metadata": {},
   "outputs": [],
   "source": [
    "from training.results import assess_regression_model"
   ]
  },
  {
   "cell_type": "code",
   "execution_count": 55,
   "id": "10854460",
   "metadata": {},
   "outputs": [
    {
     "name": "stderr",
     "output_type": "stream",
     "text": [
      "[I 2023-10-28 22:29:19,369] A new study created in memory with name: no-name-01d07142-d0ac-4c1c-8570-cb9f47249bfb\n",
      "feature_fraction, val_score: inf:   0%|                                                          | 0/7 [00:00<?, ?it/s]"
     ]
    },
    {
     "name": "stdout",
     "output_type": "stream",
     "text": [
      "Training until validation scores don't improve for 100 rounds\n",
      "[100]\tcv_agg's l2: 0.228078 + 0.0374443\n",
      "[200]\tcv_agg's l2: 0.221228 + 0.0393674\n",
      "[300]\tcv_agg's l2: 0.219747 + 0.0403609\n"
     ]
    },
    {
     "name": "stderr",
     "output_type": "stream",
     "text": [
      "feature_fraction, val_score: 0.219522:  14%|######4                                      | 1/7 [00:03<00:21,  3.65s/it][I 2023-10-28 22:29:23,022] Trial 0 finished with value: 0.21952166714254523 and parameters: {'feature_fraction': 0.7}. Best is trial 0 with value: 0.21952166714254523.\n",
      "feature_fraction, val_score: 0.219522:  14%|######4                                      | 1/7 [00:03<00:21,  3.65s/it]"
     ]
    },
    {
     "name": "stdout",
     "output_type": "stream",
     "text": [
      "Early stopping, best iteration is:\n",
      "[297]\tcv_agg's l2: 0.219522 + 0.0403052\n",
      "[100]\tcv_agg's l2: 0.234102 + 0.0514901\n",
      "[200]\tcv_agg's l2: 0.232561 + 0.0496082\n",
      "[300]\tcv_agg's l2: 0.23456 + 0.0509794\n"
     ]
    },
    {
     "name": "stderr",
     "output_type": "stream",
     "text": [
      "feature_fraction, val_score: 0.219522:  29%|############8                                | 2/7 [00:07<00:18,  3.68s/it][I 2023-10-28 22:29:26,728] Trial 1 finished with value: 0.23434530436458406 and parameters: {'feature_fraction': 1.0}. Best is trial 0 with value: 0.21952166714254523.\n",
      "feature_fraction, val_score: 0.219522:  29%|############8                                | 2/7 [00:07<00:18,  3.68s/it]"
     ]
    },
    {
     "name": "stdout",
     "output_type": "stream",
     "text": [
      "Early stopping, best iteration is:\n",
      "[297]\tcv_agg's l2: 0.219522 + 0.0403052\n",
      "[100]\tcv_agg's l2: 0.228078 + 0.0374443\n",
      "[200]\tcv_agg's l2: 0.221228 + 0.0393674\n",
      "[300]\tcv_agg's l2: 0.219747 + 0.0403609\n"
     ]
    },
    {
     "name": "stderr",
     "output_type": "stream",
     "text": [
      "feature_fraction, val_score: 0.219522:  43%|###################2                         | 3/7 [00:10<00:14,  3.60s/it][I 2023-10-28 22:29:30,224] Trial 2 finished with value: 0.21952166714254523 and parameters: {'feature_fraction': 0.8}. Best is trial 0 with value: 0.21952166714254523.\n",
      "feature_fraction, val_score: 0.219522:  43%|###################2                         | 3/7 [00:10<00:14,  3.60s/it]"
     ]
    },
    {
     "name": "stdout",
     "output_type": "stream",
     "text": [
      "Early stopping, best iteration is:\n",
      "[297]\tcv_agg's l2: 0.219522 + 0.0403052\n",
      "[100]\tcv_agg's l2: 0.340919 + 0.0675387\n",
      "[200]\tcv_agg's l2: 0.301922 + 0.0681426\n",
      "[300]\tcv_agg's l2: 0.29213 + 0.0670465\n"
     ]
    },
    {
     "name": "stderr",
     "output_type": "stream",
     "text": [
      "feature_fraction, val_score: 0.219522:  57%|#########################7                   | 4/7 [00:14<00:10,  3.49s/it][I 2023-10-28 22:29:33,547] Trial 3 finished with value: 0.29194928082659155 and parameters: {'feature_fraction': 0.5}. Best is trial 0 with value: 0.21952166714254523.\n",
      "feature_fraction, val_score: 0.219522:  57%|#########################7                   | 4/7 [00:14<00:10,  3.49s/it]"
     ]
    },
    {
     "name": "stdout",
     "output_type": "stream",
     "text": [
      "Early stopping, best iteration is:\n",
      "[297]\tcv_agg's l2: 0.219522 + 0.0403052\n",
      "[100]\tcv_agg's l2: 0.271271 + 0.0602902\n",
      "[200]\tcv_agg's l2: 0.249718 + 0.0564548\n",
      "[300]\tcv_agg's l2: 0.244871 + 0.0568968\n"
     ]
    },
    {
     "name": "stderr",
     "output_type": "stream",
     "text": [
      "feature_fraction, val_score: 0.219522:  71%|################################1            | 5/7 [00:17<00:06,  3.50s/it][I 2023-10-28 22:29:37,063] Trial 4 finished with value: 0.2450344167549586 and parameters: {'feature_fraction': 0.6}. Best is trial 0 with value: 0.21952166714254523.\n",
      "feature_fraction, val_score: 0.219522:  71%|################################1            | 5/7 [00:17<00:06,  3.50s/it]"
     ]
    },
    {
     "name": "stdout",
     "output_type": "stream",
     "text": [
      "Early stopping, best iteration is:\n",
      "[297]\tcv_agg's l2: 0.219522 + 0.0403052\n",
      "[100]\tcv_agg's l2: 0.238154 + 0.0567627\n",
      "[200]\tcv_agg's l2: 0.233592 + 0.0562554\n",
      "[300]\tcv_agg's l2: 0.235672 + 0.0578072\n"
     ]
    },
    {
     "name": "stderr",
     "output_type": "stream",
     "text": [
      "feature_fraction, val_score: 0.219522:  86%|######################################5      | 6/7 [00:21<00:03,  3.46s/it][I 2023-10-28 22:29:40,453] Trial 5 finished with value: 0.23565224655042302 and parameters: {'feature_fraction': 0.8999999999999999}. Best is trial 0 with value: 0.21952166714254523.\n",
      "feature_fraction, val_score: 0.219522:  86%|######################################5      | 6/7 [00:21<00:03,  3.46s/it]"
     ]
    },
    {
     "name": "stdout",
     "output_type": "stream",
     "text": [
      "Early stopping, best iteration is:\n",
      "[297]\tcv_agg's l2: 0.219522 + 0.0403052\n",
      "[100]\tcv_agg's l2: 0.347847 + 0.0525135\n",
      "[200]\tcv_agg's l2: 0.302351 + 0.0548878\n",
      "[300]\tcv_agg's l2: 0.291286 + 0.0551368\n"
     ]
    },
    {
     "name": "stderr",
     "output_type": "stream",
     "text": [
      "feature_fraction, val_score: 0.219522: 100%|#############################################| 7/7 [00:24<00:00,  3.42s/it][I 2023-10-28 22:29:43,787] Trial 6 finished with value: 0.2914348422216941 and parameters: {'feature_fraction': 0.4}. Best is trial 0 with value: 0.21952166714254523.\n",
      "feature_fraction, val_score: 0.219522: 100%|#############################################| 7/7 [00:24<00:00,  3.49s/it]\n"
     ]
    },
    {
     "name": "stdout",
     "output_type": "stream",
     "text": [
      "Early stopping, best iteration is:\n",
      "[297]\tcv_agg's l2: 0.219522 + 0.0403052\n"
     ]
    },
    {
     "name": "stderr",
     "output_type": "stream",
     "text": [
      "num_leaves, val_score: 0.219522:   0%|                                                          | 0/20 [00:00<?, ?it/s]"
     ]
    },
    {
     "name": "stdout",
     "output_type": "stream",
     "text": [
      "[100]\tcv_agg's l2: 0.228078 + 0.0374443\n",
      "[200]\tcv_agg's l2: 0.221228 + 0.0393674\n",
      "[300]\tcv_agg's l2: 0.219747 + 0.0403609\n"
     ]
    },
    {
     "name": "stderr",
     "output_type": "stream",
     "text": [
      "num_leaves, val_score: 0.219522:   5%|##5                                               | 1/20 [00:03<01:07,  3.57s/it][I 2023-10-28 22:29:47,369] Trial 7 finished with value: 0.21952166714254523 and parameters: {'num_leaves': 47}. Best is trial 7 with value: 0.21952166714254523.\n",
      "num_leaves, val_score: 0.219522:   5%|##5                                               | 1/20 [00:03<01:07,  3.57s/it]"
     ]
    },
    {
     "name": "stdout",
     "output_type": "stream",
     "text": [
      "Early stopping, best iteration is:\n",
      "[297]\tcv_agg's l2: 0.219522 + 0.0403052\n",
      "[100]\tcv_agg's l2: 0.228078 + 0.0374443\n",
      "[200]\tcv_agg's l2: 0.221228 + 0.0393674\n",
      "[300]\tcv_agg's l2: 0.219747 + 0.0403609\n"
     ]
    },
    {
     "name": "stderr",
     "output_type": "stream",
     "text": [
      "num_leaves, val_score: 0.219522:  10%|#####                                             | 2/20 [00:07<01:03,  3.51s/it][I 2023-10-28 22:29:50,829] Trial 8 finished with value: 0.21952166714254523 and parameters: {'num_leaves': 111}. Best is trial 7 with value: 0.21952166714254523.\n",
      "num_leaves, val_score: 0.219522:  10%|#####                                             | 2/20 [00:07<01:03,  3.51s/it]"
     ]
    },
    {
     "name": "stdout",
     "output_type": "stream",
     "text": [
      "Early stopping, best iteration is:\n",
      "[297]\tcv_agg's l2: 0.219522 + 0.0403052\n",
      "[100]\tcv_agg's l2: 0.228078 + 0.0374443\n",
      "[200]\tcv_agg's l2: 0.221228 + 0.0393674\n",
      "[300]\tcv_agg's l2: 0.219747 + 0.0403609\n"
     ]
    },
    {
     "name": "stderr",
     "output_type": "stream",
     "text": [
      "num_leaves, val_score: 0.219522:  15%|#######5                                          | 3/20 [00:10<01:00,  3.55s/it][I 2023-10-28 22:29:54,429] Trial 9 finished with value: 0.21952166714254523 and parameters: {'num_leaves': 164}. Best is trial 7 with value: 0.21952166714254523.\n",
      "num_leaves, val_score: 0.219522:  15%|#######5                                          | 3/20 [00:10<01:00,  3.55s/it]"
     ]
    },
    {
     "name": "stdout",
     "output_type": "stream",
     "text": [
      "Early stopping, best iteration is:\n",
      "[297]\tcv_agg's l2: 0.219522 + 0.0403052\n",
      "[100]\tcv_agg's l2: 0.228078 + 0.0374443\n",
      "[200]\tcv_agg's l2: 0.221228 + 0.0393674\n",
      "[300]\tcv_agg's l2: 0.219747 + 0.0403609\n"
     ]
    },
    {
     "name": "stderr",
     "output_type": "stream",
     "text": [
      "num_leaves, val_score: 0.219522:  20%|##########                                        | 4/20 [00:14<00:56,  3.53s/it][I 2023-10-28 22:29:57,920] Trial 10 finished with value: 0.21952166714254523 and parameters: {'num_leaves': 242}. Best is trial 7 with value: 0.21952166714254523.\n",
      "num_leaves, val_score: 0.219522:  20%|##########                                        | 4/20 [00:14<00:56,  3.53s/it]"
     ]
    },
    {
     "name": "stdout",
     "output_type": "stream",
     "text": [
      "Early stopping, best iteration is:\n",
      "[297]\tcv_agg's l2: 0.219522 + 0.0403052\n",
      "[100]\tcv_agg's l2: 0.228746 + 0.0380429\n",
      "[200]\tcv_agg's l2: 0.223307 + 0.0388334\n",
      "[300]\tcv_agg's l2: 0.221546 + 0.0365581\n"
     ]
    },
    {
     "name": "stderr",
     "output_type": "stream",
     "text": [
      "num_leaves, val_score: 0.219522:  25%|############5                                     | 5/20 [00:16<00:44,  2.98s/it][I 2023-10-28 22:29:59,936] Trial 11 finished with value: 0.22145090762217165 and parameters: {'num_leaves': 11}. Best is trial 7 with value: 0.21952166714254523.\n",
      "num_leaves, val_score: 0.219522:  25%|############5                                     | 5/20 [00:16<00:44,  2.98s/it]"
     ]
    },
    {
     "name": "stdout",
     "output_type": "stream",
     "text": [
      "Early stopping, best iteration is:\n",
      "[297]\tcv_agg's l2: 0.219522 + 0.0403052\n",
      "[100]\tcv_agg's l2: 0.228078 + 0.0374443\n",
      "[200]\tcv_agg's l2: 0.221228 + 0.0393674\n",
      "[300]\tcv_agg's l2: 0.219747 + 0.0403609\n"
     ]
    },
    {
     "name": "stderr",
     "output_type": "stream",
     "text": [
      "num_leaves, val_score: 0.219522:  30%|###############                                   | 6/20 [00:19<00:45,  3.27s/it][I 2023-10-28 22:30:03,776] Trial 12 finished with value: 0.21952166714254523 and parameters: {'num_leaves': 252}. Best is trial 7 with value: 0.21952166714254523.\n",
      "num_leaves, val_score: 0.219522:  30%|###############                                   | 6/20 [00:19<00:45,  3.27s/it]"
     ]
    },
    {
     "name": "stdout",
     "output_type": "stream",
     "text": [
      "Early stopping, best iteration is:\n",
      "[297]\tcv_agg's l2: 0.219522 + 0.0403052\n",
      "[100]\tcv_agg's l2: 0.228078 + 0.0374443\n",
      "[200]\tcv_agg's l2: 0.221228 + 0.0393674\n",
      "[300]\tcv_agg's l2: 0.219747 + 0.0403609\n"
     ]
    },
    {
     "name": "stderr",
     "output_type": "stream",
     "text": [
      "num_leaves, val_score: 0.219522:  35%|#################5                                | 7/20 [00:23<00:44,  3.46s/it][I 2023-10-28 22:30:07,618] Trial 13 finished with value: 0.21952166714254523 and parameters: {'num_leaves': 166}. Best is trial 7 with value: 0.21952166714254523.\n",
      "num_leaves, val_score: 0.219522:  35%|#################5                                | 7/20 [00:23<00:44,  3.46s/it]"
     ]
    },
    {
     "name": "stdout",
     "output_type": "stream",
     "text": [
      "Early stopping, best iteration is:\n",
      "[297]\tcv_agg's l2: 0.219522 + 0.0403052\n",
      "[100]\tcv_agg's l2: 0.228078 + 0.0374443\n",
      "[200]\tcv_agg's l2: 0.221228 + 0.0393674\n",
      "[300]\tcv_agg's l2: 0.219747 + 0.0403609\n"
     ]
    },
    {
     "name": "stderr",
     "output_type": "stream",
     "text": [
      "num_leaves, val_score: 0.219522:  40%|####################                              | 8/20 [00:27<00:40,  3.40s/it][I 2023-10-28 22:30:10,876] Trial 14 finished with value: 0.21952166714254523 and parameters: {'num_leaves': 94}. Best is trial 7 with value: 0.21952166714254523.\n",
      "num_leaves, val_score: 0.219522:  40%|####################                              | 8/20 [00:27<00:40,  3.40s/it]"
     ]
    },
    {
     "name": "stdout",
     "output_type": "stream",
     "text": [
      "Early stopping, best iteration is:\n",
      "[297]\tcv_agg's l2: 0.219522 + 0.0403052\n",
      "[100]\tcv_agg's l2: 0.228078 + 0.0374443\n",
      "[200]\tcv_agg's l2: 0.221228 + 0.0393674\n",
      "[300]\tcv_agg's l2: 0.219747 + 0.0403609\n"
     ]
    },
    {
     "name": "stderr",
     "output_type": "stream",
     "text": [
      "num_leaves, val_score: 0.219522:  45%|######################5                           | 9/20 [00:29<00:32,  2.96s/it][I 2023-10-28 22:30:12,872] Trial 15 finished with value: 0.21952166714254523 and parameters: {'num_leaves': 197}. Best is trial 7 with value: 0.21952166714254523.\n",
      "num_leaves, val_score: 0.219522:  45%|######################5                           | 9/20 [00:29<00:32,  2.96s/it]"
     ]
    },
    {
     "name": "stdout",
     "output_type": "stream",
     "text": [
      "Early stopping, best iteration is:\n",
      "[297]\tcv_agg's l2: 0.219522 + 0.0403052\n",
      "[100]\tcv_agg's l2: 0.228078 + 0.0374443\n",
      "[200]\tcv_agg's l2: 0.221228 + 0.0393674\n",
      "[300]\tcv_agg's l2: 0.219747 + 0.0403609\n"
     ]
    },
    {
     "name": "stderr",
     "output_type": "stream",
     "text": [
      "num_leaves, val_score: 0.219522:  50%|########################5                        | 10/20 [00:31<00:27,  2.76s/it][I 2023-10-28 22:30:15,177] Trial 16 finished with value: 0.21952166714254523 and parameters: {'num_leaves': 46}. Best is trial 7 with value: 0.21952166714254523.\n",
      "num_leaves, val_score: 0.219522:  50%|########################5                        | 10/20 [00:31<00:27,  2.76s/it]"
     ]
    },
    {
     "name": "stdout",
     "output_type": "stream",
     "text": [
      "Early stopping, best iteration is:\n",
      "[297]\tcv_agg's l2: 0.219522 + 0.0403052\n",
      "[100]\tcv_agg's l2: 0.228078 + 0.0374443\n",
      "[200]\tcv_agg's l2: 0.221228 + 0.0393674\n",
      "[300]\tcv_agg's l2: 0.219747 + 0.0403609\n"
     ]
    },
    {
     "name": "stderr",
     "output_type": "stream",
     "text": [
      "num_leaves, val_score: 0.219522:  55%|##########################9                      | 11/20 [00:33<00:21,  2.42s/it][I 2023-10-28 22:30:16,823] Trial 17 finished with value: 0.21952166714254523 and parameters: {'num_leaves': 76}. Best is trial 7 with value: 0.21952166714254523.\n",
      "num_leaves, val_score: 0.219522:  55%|##########################9                      | 11/20 [00:33<00:21,  2.42s/it]"
     ]
    },
    {
     "name": "stdout",
     "output_type": "stream",
     "text": [
      "Early stopping, best iteration is:\n",
      "[297]\tcv_agg's l2: 0.219522 + 0.0403052\n",
      "[100]\tcv_agg's l2: 0.353362 + 0.0666131\n",
      "[200]\tcv_agg's l2: 0.312844 + 0.064586\n",
      "[300]\tcv_agg's l2: 0.302095 + 0.0648377\n"
     ]
    },
    {
     "name": "stderr",
     "output_type": "stream",
     "text": [
      "num_leaves, val_score: 0.219522:  60%|#############################4                   | 12/20 [00:33<00:14,  1.83s/it][I 2023-10-28 22:30:17,308] Trial 18 finished with value: 0.3022346807985767 and parameters: {'num_leaves': 2}. Best is trial 7 with value: 0.21952166714254523.\n",
      "num_leaves, val_score: 0.219522:  60%|#############################4                   | 12/20 [00:33<00:14,  1.83s/it]"
     ]
    },
    {
     "name": "stdout",
     "output_type": "stream",
     "text": [
      "Early stopping, best iteration is:\n",
      "[297]\tcv_agg's l2: 0.219522 + 0.0403052\n",
      "[100]\tcv_agg's l2: 0.228078 + 0.0374443\n",
      "[200]\tcv_agg's l2: 0.221228 + 0.0393674\n",
      "[300]\tcv_agg's l2: 0.219747 + 0.0403609\n"
     ]
    },
    {
     "name": "stderr",
     "output_type": "stream",
     "text": [
      "num_leaves, val_score: 0.219522:  65%|###############################8                 | 13/20 [00:35<00:13,  1.90s/it][I 2023-10-28 22:30:19,374] Trial 19 finished with value: 0.21952166714254523 and parameters: {'num_leaves': 155}. Best is trial 7 with value: 0.21952166714254523.\n",
      "num_leaves, val_score: 0.219522:  65%|###############################8                 | 13/20 [00:35<00:13,  1.90s/it]"
     ]
    },
    {
     "name": "stdout",
     "output_type": "stream",
     "text": [
      "Early stopping, best iteration is:\n",
      "[297]\tcv_agg's l2: 0.219522 + 0.0403052\n",
      "[100]\tcv_agg's l2: 0.228078 + 0.0374443\n",
      "[200]\tcv_agg's l2: 0.221228 + 0.0393674\n",
      "[300]\tcv_agg's l2: 0.219747 + 0.0403609\n"
     ]
    },
    {
     "name": "stderr",
     "output_type": "stream",
     "text": [
      "num_leaves, val_score: 0.219522:  70%|##################################3              | 14/20 [00:38<00:13,  2.22s/it][I 2023-10-28 22:30:22,337] Trial 20 finished with value: 0.21952166714254523 and parameters: {'num_leaves': 217}. Best is trial 7 with value: 0.21952166714254523.\n",
      "num_leaves, val_score: 0.219522:  70%|##################################3              | 14/20 [00:38<00:13,  2.22s/it]"
     ]
    },
    {
     "name": "stdout",
     "output_type": "stream",
     "text": [
      "Early stopping, best iteration is:\n",
      "[297]\tcv_agg's l2: 0.219522 + 0.0403052\n",
      "[100]\tcv_agg's l2: 0.228078 + 0.0374443\n",
      "[200]\tcv_agg's l2: 0.221228 + 0.0393674\n",
      "[300]\tcv_agg's l2: 0.219747 + 0.0403609\n"
     ]
    },
    {
     "name": "stderr",
     "output_type": "stream",
     "text": [
      "num_leaves, val_score: 0.219522:  75%|####################################7            | 15/20 [00:41<00:12,  2.42s/it][I 2023-10-28 22:30:25,201] Trial 21 finished with value: 0.21952166714254523 and parameters: {'num_leaves': 54}. Best is trial 7 with value: 0.21952166714254523.\n",
      "num_leaves, val_score: 0.219522:  75%|####################################7            | 15/20 [00:41<00:12,  2.42s/it]"
     ]
    },
    {
     "name": "stdout",
     "output_type": "stream",
     "text": [
      "Early stopping, best iteration is:\n",
      "[297]\tcv_agg's l2: 0.219522 + 0.0403052\n",
      "[100]\tcv_agg's l2: 0.228078 + 0.0374443\n",
      "[200]\tcv_agg's l2: 0.221228 + 0.0393674\n",
      "[300]\tcv_agg's l2: 0.219747 + 0.0403609\n"
     ]
    },
    {
     "name": "stderr",
     "output_type": "stream",
     "text": [
      "num_leaves, val_score: 0.219522:  80%|#######################################2         | 16/20 [00:43<00:09,  2.33s/it][I 2023-10-28 22:30:27,330] Trial 22 finished with value: 0.21952166714254523 and parameters: {'num_leaves': 126}. Best is trial 7 with value: 0.21952166714254523.\n",
      "num_leaves, val_score: 0.219522:  80%|#######################################2         | 16/20 [00:43<00:09,  2.33s/it]"
     ]
    },
    {
     "name": "stdout",
     "output_type": "stream",
     "text": [
      "Early stopping, best iteration is:\n",
      "[297]\tcv_agg's l2: 0.219522 + 0.0403052\n",
      "[100]\tcv_agg's l2: 0.228078 + 0.0374443\n",
      "[200]\tcv_agg's l2: 0.221228 + 0.0393674\n",
      "[300]\tcv_agg's l2: 0.219747 + 0.0403609\n"
     ]
    },
    {
     "name": "stderr",
     "output_type": "stream",
     "text": [
      "num_leaves, val_score: 0.219522:  85%|#########################################6       | 17/20 [00:45<00:06,  2.15s/it][I 2023-10-28 22:30:29,063] Trial 23 finished with value: 0.21952166714254523 and parameters: {'num_leaves': 34}. Best is trial 7 with value: 0.21952166714254523.\n",
      "num_leaves, val_score: 0.219522:  85%|#########################################6       | 17/20 [00:45<00:06,  2.15s/it]"
     ]
    },
    {
     "name": "stdout",
     "output_type": "stream",
     "text": [
      "Early stopping, best iteration is:\n",
      "[297]\tcv_agg's l2: 0.219522 + 0.0403052\n",
      "[100]\tcv_agg's l2: 0.228078 + 0.0374443\n",
      "[200]\tcv_agg's l2: 0.221228 + 0.0393674\n",
      "[300]\tcv_agg's l2: 0.219747 + 0.0403609\n"
     ]
    },
    {
     "name": "stderr",
     "output_type": "stream",
     "text": [
      "num_leaves, val_score: 0.219522:  90%|############################################1    | 18/20 [00:46<00:03,  1.97s/it][I 2023-10-28 22:30:30,628] Trial 24 finished with value: 0.21952166714254523 and parameters: {'num_leaves': 81}. Best is trial 7 with value: 0.21952166714254523.\n",
      "num_leaves, val_score: 0.219522:  90%|############################################1    | 18/20 [00:46<00:03,  1.97s/it]"
     ]
    },
    {
     "name": "stdout",
     "output_type": "stream",
     "text": [
      "Early stopping, best iteration is:\n",
      "[297]\tcv_agg's l2: 0.219522 + 0.0403052\n",
      "[100]\tcv_agg's l2: 0.228078 + 0.0374443\n",
      "[200]\tcv_agg's l2: 0.221228 + 0.0393674\n",
      "[300]\tcv_agg's l2: 0.219747 + 0.0403609\n"
     ]
    },
    {
     "name": "stderr",
     "output_type": "stream",
     "text": [
      "num_leaves, val_score: 0.219522:  95%|##############################################5  | 19/20 [00:48<00:01,  1.89s/it][I 2023-10-28 22:30:32,316] Trial 25 finished with value: 0.21952166714254523 and parameters: {'num_leaves': 32}. Best is trial 7 with value: 0.21952166714254523.\n",
      "num_leaves, val_score: 0.219522:  95%|##############################################5  | 19/20 [00:48<00:01,  1.89s/it]"
     ]
    },
    {
     "name": "stdout",
     "output_type": "stream",
     "text": [
      "Early stopping, best iteration is:\n",
      "[297]\tcv_agg's l2: 0.219522 + 0.0403052\n",
      "[100]\tcv_agg's l2: 0.228078 + 0.0374443\n",
      "[200]\tcv_agg's l2: 0.221228 + 0.0393674\n",
      "[300]\tcv_agg's l2: 0.219747 + 0.0403609\n"
     ]
    },
    {
     "name": "stderr",
     "output_type": "stream",
     "text": [
      "num_leaves, val_score: 0.219522: 100%|#################################################| 20/20 [00:50<00:00,  1.82s/it][I 2023-10-28 22:30:33,992] Trial 26 finished with value: 0.21952166714254523 and parameters: {'num_leaves': 64}. Best is trial 7 with value: 0.21952166714254523.\n",
      "num_leaves, val_score: 0.219522: 100%|#################################################| 20/20 [00:50<00:00,  2.51s/it]\n"
     ]
    },
    {
     "name": "stdout",
     "output_type": "stream",
     "text": [
      "Early stopping, best iteration is:\n",
      "[297]\tcv_agg's l2: 0.219522 + 0.0403052\n"
     ]
    },
    {
     "name": "stderr",
     "output_type": "stream",
     "text": [
      "bagging, val_score: 0.219522:   0%|                                                             | 0/10 [00:00<?, ?it/s]"
     ]
    },
    {
     "name": "stdout",
     "output_type": "stream",
     "text": [
      "[100]\tcv_agg's l2: 0.234475 + 0.0457904\n",
      "[200]\tcv_agg's l2: 0.225786 + 0.0435188\n",
      "[300]\tcv_agg's l2: 0.224294 + 0.0408942\n"
     ]
    },
    {
     "name": "stderr",
     "output_type": "stream",
     "text": [
      "bagging, val_score: 0.219522:  10%|#####3                                               | 1/10 [00:01<00:16,  1.78s/it][I 2023-10-28 22:30:35,782] Trial 27 finished with value: 0.22433018233340457 and parameters: {'bagging_fraction': 0.8788241678146609, 'bagging_freq': 6}. Best is trial 27 with value: 0.22433018233340457.\n",
      "bagging, val_score: 0.219522:  10%|#####3                                               | 1/10 [00:01<00:16,  1.78s/it]"
     ]
    },
    {
     "name": "stdout",
     "output_type": "stream",
     "text": [
      "Early stopping, best iteration is:\n",
      "[297]\tcv_agg's l2: 0.219522 + 0.0403052\n",
      "[100]\tcv_agg's l2: 0.292906 + 0.0620091\n",
      "[200]\tcv_agg's l2: 0.275321 + 0.0637431\n",
      "[300]\tcv_agg's l2: 0.271932 + 0.0615735\n"
     ]
    },
    {
     "name": "stderr",
     "output_type": "stream",
     "text": [
      "bagging, val_score: 0.219522:  20%|##########6                                          | 2/10 [00:02<00:11,  1.43s/it][I 2023-10-28 22:30:36,971] Trial 28 finished with value: 0.272678476932052 and parameters: {'bagging_fraction': 0.41394347641227536, 'bagging_freq': 1}. Best is trial 27 with value: 0.22433018233340457.\n",
      "bagging, val_score: 0.219522:  20%|##########6                                          | 2/10 [00:02<00:11,  1.43s/it]"
     ]
    },
    {
     "name": "stdout",
     "output_type": "stream",
     "text": [
      "Early stopping, best iteration is:\n",
      "[297]\tcv_agg's l2: 0.219522 + 0.0403052\n",
      "[100]\tcv_agg's l2: 0.230381 + 0.0402591\n",
      "[200]\tcv_agg's l2: 0.22241 + 0.0410596\n",
      "[300]\tcv_agg's l2: 0.221302 + 0.0422937\n"
     ]
    },
    {
     "name": "stderr",
     "output_type": "stream",
     "text": [
      "bagging, val_score: 0.219522:  30%|###############9                                     | 3/10 [00:04<00:11,  1.65s/it][I 2023-10-28 22:30:38,884] Trial 29 finished with value: 0.22135390870058166 and parameters: {'bagging_fraction': 0.9944663931426201, 'bagging_freq': 3}. Best is trial 29 with value: 0.22135390870058166.\n",
      "bagging, val_score: 0.219522:  30%|###############9                                     | 3/10 [00:04<00:11,  1.65s/it]"
     ]
    },
    {
     "name": "stdout",
     "output_type": "stream",
     "text": [
      "Early stopping, best iteration is:\n",
      "[297]\tcv_agg's l2: 0.219522 + 0.0403052\n",
      "[100]\tcv_agg's l2: 0.263958 + 0.0534792\n",
      "[200]\tcv_agg's l2: 0.24993 + 0.0593808\n",
      "[300]\tcv_agg's l2: 0.245454 + 0.0628975\n"
     ]
    },
    {
     "name": "stderr",
     "output_type": "stream",
     "text": [
      "bagging, val_score: 0.219522:  40%|#####################2                               | 4/10 [00:06<00:09,  1.56s/it][I 2023-10-28 22:30:40,312] Trial 30 finished with value: 0.24566581632634574 and parameters: {'bagging_fraction': 0.6406474310561107, 'bagging_freq': 7}. Best is trial 29 with value: 0.22135390870058166.\n",
      "bagging, val_score: 0.219522:  40%|#####################2                               | 4/10 [00:06<00:09,  1.56s/it]"
     ]
    },
    {
     "name": "stdout",
     "output_type": "stream",
     "text": [
      "Early stopping, best iteration is:\n",
      "[297]\tcv_agg's l2: 0.219522 + 0.0403052\n",
      "[100]\tcv_agg's l2: 0.258679 + 0.0638515\n",
      "[200]\tcv_agg's l2: 0.244468 + 0.0627614\n",
      "[300]\tcv_agg's l2: 0.239085 + 0.0618396\n"
     ]
    },
    {
     "name": "stderr",
     "output_type": "stream",
     "text": [
      "bagging, val_score: 0.219522:  50%|##########################5                          | 5/10 [00:07<00:07,  1.52s/it][I 2023-10-28 22:30:41,758] Trial 31 finished with value: 0.23980935863849054 and parameters: {'bagging_fraction': 0.6934935437703921, 'bagging_freq': 4}. Best is trial 29 with value: 0.22135390870058166.\n",
      "bagging, val_score: 0.219522:  50%|##########################5                          | 5/10 [00:07<00:07,  1.52s/it]"
     ]
    },
    {
     "name": "stdout",
     "output_type": "stream",
     "text": [
      "Early stopping, best iteration is:\n",
      "[297]\tcv_agg's l2: 0.219522 + 0.0403052\n",
      "[100]\tcv_agg's l2: 0.300581 + 0.0679774\n",
      "[200]\tcv_agg's l2: 0.280482 + 0.066445\n",
      "[300]\tcv_agg's l2: 0.275029 + 0.0656209\n"
     ]
    },
    {
     "name": "stderr",
     "output_type": "stream",
     "text": [
      "bagging, val_score: 0.219522:  60%|###############################8                     | 6/10 [00:08<00:05,  1.33s/it][I 2023-10-28 22:30:42,708] Trial 32 finished with value: 0.2743918331965681 and parameters: {'bagging_fraction': 0.4218193575190821, 'bagging_freq': 2}. Best is trial 29 with value: 0.22135390870058166.\n",
      "bagging, val_score: 0.219522:  60%|###############################8                     | 6/10 [00:08<00:05,  1.33s/it]"
     ]
    },
    {
     "name": "stdout",
     "output_type": "stream",
     "text": [
      "Early stopping, best iteration is:\n",
      "[297]\tcv_agg's l2: 0.219522 + 0.0403052\n",
      "[100]\tcv_agg's l2: 0.241908 + 0.0426205\n",
      "[200]\tcv_agg's l2: 0.23312 + 0.0455387\n",
      "[300]\tcv_agg's l2: 0.22891 + 0.0444532\n"
     ]
    },
    {
     "name": "stderr",
     "output_type": "stream",
     "text": [
      "bagging, val_score: 0.219522:  70%|#####################################                | 7/10 [00:10<00:04,  1.39s/it][I 2023-10-28 22:30:44,215] Trial 33 finished with value: 0.22884478089542806 and parameters: {'bagging_fraction': 0.8259795652550554, 'bagging_freq': 5}. Best is trial 29 with value: 0.22135390870058166.\n",
      "bagging, val_score: 0.219522:  70%|#####################################                | 7/10 [00:10<00:04,  1.39s/it]"
     ]
    },
    {
     "name": "stdout",
     "output_type": "stream",
     "text": [
      "Early stopping, best iteration is:\n",
      "[297]\tcv_agg's l2: 0.219522 + 0.0403052\n",
      "[100]\tcv_agg's l2: 0.275101 + 0.0656102\n",
      "[200]\tcv_agg's l2: 0.264479 + 0.0722103\n",
      "[300]\tcv_agg's l2: 0.273212 + 0.0784708\n"
     ]
    },
    {
     "name": "stderr",
     "output_type": "stream",
     "text": [
      "bagging, val_score: 0.219522:  80%|##########################################4          | 8/10 [00:11<00:02,  1.36s/it][I 2023-10-28 22:30:45,511] Trial 34 finished with value: 0.2732085504312701 and parameters: {'bagging_fraction': 0.5569106657359031, 'bagging_freq': 7}. Best is trial 29 with value: 0.22135390870058166.\n",
      "bagging, val_score: 0.219522:  80%|##########################################4          | 8/10 [00:11<00:02,  1.36s/it]"
     ]
    },
    {
     "name": "stdout",
     "output_type": "stream",
     "text": [
      "Early stopping, best iteration is:\n",
      "[297]\tcv_agg's l2: 0.219522 + 0.0403052\n",
      "[100]\tcv_agg's l2: 0.241899 + 0.0517898\n",
      "[200]\tcv_agg's l2: 0.233393 + 0.0472409\n",
      "[300]\tcv_agg's l2: 0.230086 + 0.0466486\n"
     ]
    },
    {
     "name": "stderr",
     "output_type": "stream",
     "text": [
      "bagging, val_score: 0.219522:  90%|###############################################7     | 9/10 [00:12<00:01,  1.37s/it][I 2023-10-28 22:30:46,902] Trial 35 finished with value: 0.23073686539779614 and parameters: {'bagging_fraction': 0.7946099121721831, 'bagging_freq': 1}. Best is trial 29 with value: 0.22135390870058166.\n",
      "bagging, val_score: 0.219522:  90%|###############################################7     | 9/10 [00:12<00:01,  1.37s/it]"
     ]
    },
    {
     "name": "stdout",
     "output_type": "stream",
     "text": [
      "Early stopping, best iteration is:\n",
      "[297]\tcv_agg's l2: 0.219522 + 0.0403052\n",
      "[100]\tcv_agg's l2: 0.282956 + 0.0580979\n",
      "[200]\tcv_agg's l2: 0.275683 + 0.0663934\n",
      "[300]\tcv_agg's l2: 0.271655 + 0.0672859\n"
     ]
    },
    {
     "name": "stderr",
     "output_type": "stream",
     "text": [
      "bagging, val_score: 0.219522: 100%|####################################################| 10/10 [00:14<00:00,  1.33s/it][I 2023-10-28 22:30:48,140] Trial 36 finished with value: 0.27164736271906603 and parameters: {'bagging_fraction': 0.554699570776596, 'bagging_freq': 4}. Best is trial 29 with value: 0.22135390870058166.\n",
      "bagging, val_score: 0.219522: 100%|####################################################| 10/10 [00:14<00:00,  1.41s/it]\n"
     ]
    },
    {
     "name": "stdout",
     "output_type": "stream",
     "text": [
      "Early stopping, best iteration is:\n",
      "[297]\tcv_agg's l2: 0.219522 + 0.0403052\n"
     ]
    },
    {
     "name": "stderr",
     "output_type": "stream",
     "text": [
      "feature_fraction_stage2, val_score: 0.219522:   0%|                                              | 0/6 [00:00<?, ?it/s]"
     ]
    },
    {
     "name": "stdout",
     "output_type": "stream",
     "text": [
      "[100]\tcv_agg's l2: 0.271271 + 0.0602902\n",
      "[200]\tcv_agg's l2: 0.249718 + 0.0564548\n",
      "[300]\tcv_agg's l2: 0.244871 + 0.0568968\n"
     ]
    },
    {
     "name": "stderr",
     "output_type": "stream",
     "text": [
      "feature_fraction_stage2, val_score: 0.219522:  17%|######3                               | 1/6 [00:01<00:07,  1.52s/it][I 2023-10-28 22:30:49,673] Trial 37 finished with value: 0.2450344167549586 and parameters: {'feature_fraction': 0.62}. Best is trial 37 with value: 0.2450344167549586.\n",
      "feature_fraction_stage2, val_score: 0.219522:  17%|######3                               | 1/6 [00:01<00:07,  1.52s/it]"
     ]
    },
    {
     "name": "stdout",
     "output_type": "stream",
     "text": [
      "Early stopping, best iteration is:\n",
      "[297]\tcv_agg's l2: 0.219522 + 0.0403052\n",
      "[100]\tcv_agg's l2: 0.228078 + 0.0374443\n",
      "[200]\tcv_agg's l2: 0.221228 + 0.0393674\n",
      "[300]\tcv_agg's l2: 0.219747 + 0.0403609\n"
     ]
    },
    {
     "name": "stderr",
     "output_type": "stream",
     "text": [
      "feature_fraction_stage2, val_score: 0.219522:  33%|############6                         | 2/6 [00:03<00:06,  1.52s/it][I 2023-10-28 22:30:51,197] Trial 38 finished with value: 0.21952166714254523 and parameters: {'feature_fraction': 0.7799999999999999}. Best is trial 38 with value: 0.21952166714254523.\n",
      "feature_fraction_stage2, val_score: 0.219522:  33%|############6                         | 2/6 [00:03<00:06,  1.52s/it]"
     ]
    },
    {
     "name": "stdout",
     "output_type": "stream",
     "text": [
      "Early stopping, best iteration is:\n",
      "[297]\tcv_agg's l2: 0.219522 + 0.0403052\n",
      "[100]\tcv_agg's l2: 0.271271 + 0.0602902\n",
      "[200]\tcv_agg's l2: 0.249718 + 0.0564548\n",
      "[300]\tcv_agg's l2: 0.244871 + 0.0568968\n"
     ]
    },
    {
     "name": "stderr",
     "output_type": "stream",
     "text": [
      "feature_fraction_stage2, val_score: 0.219522:  50%|###################                   | 3/6 [00:04<00:04,  1.52s/it][I 2023-10-28 22:30:52,705] Trial 39 finished with value: 0.2450344167549586 and parameters: {'feature_fraction': 0.652}. Best is trial 38 with value: 0.21952166714254523.\n",
      "feature_fraction_stage2, val_score: 0.219522:  50%|###################                   | 3/6 [00:04<00:04,  1.52s/it]"
     ]
    },
    {
     "name": "stdout",
     "output_type": "stream",
     "text": [
      "Early stopping, best iteration is:\n",
      "[297]\tcv_agg's l2: 0.219522 + 0.0403052\n",
      "[100]\tcv_agg's l2: 0.271271 + 0.0602902\n",
      "[200]\tcv_agg's l2: 0.249718 + 0.0564548\n",
      "[300]\tcv_agg's l2: 0.244871 + 0.0568968\n"
     ]
    },
    {
     "name": "stderr",
     "output_type": "stream",
     "text": [
      "feature_fraction_stage2, val_score: 0.219522:  67%|#########################3            | 4/6 [00:06<00:03,  1.52s/it][I 2023-10-28 22:30:54,237] Trial 40 finished with value: 0.2450344167549586 and parameters: {'feature_fraction': 0.6839999999999999}. Best is trial 38 with value: 0.21952166714254523.\n",
      "feature_fraction_stage2, val_score: 0.219522:  67%|#########################3            | 4/6 [00:06<00:03,  1.52s/it]"
     ]
    },
    {
     "name": "stdout",
     "output_type": "stream",
     "text": [
      "Early stopping, best iteration is:\n",
      "[297]\tcv_agg's l2: 0.219522 + 0.0403052\n",
      "[100]\tcv_agg's l2: 0.228078 + 0.0374443\n",
      "[200]\tcv_agg's l2: 0.221228 + 0.0393674\n",
      "[300]\tcv_agg's l2: 0.219747 + 0.0403609\n"
     ]
    },
    {
     "name": "stderr",
     "output_type": "stream",
     "text": [
      "feature_fraction_stage2, val_score: 0.219522:  83%|###############################6      | 5/6 [00:07<00:01,  1.57s/it][I 2023-10-28 22:30:55,899] Trial 41 finished with value: 0.21952166714254523 and parameters: {'feature_fraction': 0.748}. Best is trial 38 with value: 0.21952166714254523.\n",
      "feature_fraction_stage2, val_score: 0.219522:  83%|###############################6      | 5/6 [00:07<00:01,  1.57s/it]"
     ]
    },
    {
     "name": "stdout",
     "output_type": "stream",
     "text": [
      "Early stopping, best iteration is:\n",
      "[297]\tcv_agg's l2: 0.219522 + 0.0403052\n",
      "[100]\tcv_agg's l2: 0.228078 + 0.0374443\n",
      "[200]\tcv_agg's l2: 0.221228 + 0.0393674\n",
      "[300]\tcv_agg's l2: 0.219747 + 0.0403609\n"
     ]
    },
    {
     "name": "stderr",
     "output_type": "stream",
     "text": [
      "feature_fraction_stage2, val_score: 0.219522: 100%|######################################| 6/6 [00:09<00:00,  1.55s/it][I 2023-10-28 22:30:57,406] Trial 42 finished with value: 0.21952166714254523 and parameters: {'feature_fraction': 0.716}. Best is trial 38 with value: 0.21952166714254523.\n",
      "feature_fraction_stage2, val_score: 0.219522: 100%|######################################| 6/6 [00:09<00:00,  1.54s/it]\n"
     ]
    },
    {
     "name": "stdout",
     "output_type": "stream",
     "text": [
      "Early stopping, best iteration is:\n",
      "[297]\tcv_agg's l2: 0.219522 + 0.0403052\n"
     ]
    },
    {
     "name": "stderr",
     "output_type": "stream",
     "text": [
      "regularization_factors, val_score: 0.219522:   0%|                                              | 0/20 [00:00<?, ?it/s]"
     ]
    },
    {
     "name": "stdout",
     "output_type": "stream",
     "text": [
      "[100]\tcv_agg's l2: 0.228664 + 0.0356688\n",
      "[200]\tcv_agg's l2: 0.221948 + 0.0389574\n",
      "[300]\tcv_agg's l2: 0.221285 + 0.0400698\n"
     ]
    },
    {
     "name": "stderr",
     "output_type": "stream",
     "text": [
      "regularization_factors, val_score: 0.219522:   5%|#9                                    | 1/20 [00:01<00:33,  1.76s/it][I 2023-10-28 22:30:59,176] Trial 43 finished with value: 0.22142221293342973 and parameters: {'lambda_l1': 0.00012341507103097796, 'lambda_l2': 1.3721508917735933e-05}. Best is trial 43 with value: 0.22142221293342973.\n",
      "regularization_factors, val_score: 0.219522:   5%|#9                                    | 1/20 [00:01<00:33,  1.76s/it]"
     ]
    },
    {
     "name": "stdout",
     "output_type": "stream",
     "text": [
      "Early stopping, best iteration is:\n",
      "[297]\tcv_agg's l2: 0.219522 + 0.0403052\n",
      "[100]\tcv_agg's l2: 0.291812 + 0.039952\n",
      "[200]\tcv_agg's l2: 0.288328 + 0.0417038\n"
     ]
    },
    {
     "name": "stderr",
     "output_type": "stream",
     "text": [
      "regularization_factors, val_score: 0.219522:  10%|###8                                  | 2/20 [00:02<00:19,  1.07s/it][I 2023-10-28 22:30:59,755] Trial 44 finished with value: 0.2883258090057936 and parameters: {'lambda_l1': 9.352559202739814, 'lambda_l2': 2.7719472108534786}. Best is trial 43 with value: 0.22142221293342973.\n",
      "regularization_factors, val_score: 0.219522:  10%|###8                                  | 2/20 [00:02<00:19,  1.07s/it]"
     ]
    },
    {
     "name": "stdout",
     "output_type": "stream",
     "text": [
      "[300]\tcv_agg's l2: 0.288326 + 0.0417055\n",
      "Early stopping, best iteration is:\n",
      "[297]\tcv_agg's l2: 0.219522 + 0.0403052\n",
      "[100]\tcv_agg's l2: 0.228078 + 0.0374443\n",
      "[200]\tcv_agg's l2: 0.221228 + 0.0393674\n",
      "[300]\tcv_agg's l2: 0.219747 + 0.0403609\n"
     ]
    },
    {
     "name": "stderr",
     "output_type": "stream",
     "text": [
      "regularization_factors, val_score: 0.219522:  15%|#####7                                | 3/20 [00:04<00:23,  1.36s/it][I 2023-10-28 22:31:01,461] Trial 45 finished with value: 0.21952166692140276 and parameters: {'lambda_l1': 2.5155026743874728e-08, 'lambda_l2': 2.380219071688455e-08}. Best is trial 45 with value: 0.21952166692140276.\n",
      "regularization_factors, val_score: 0.219522:  15%|#####7                                | 3/20 [00:04<00:23,  1.36s/it]"
     ]
    },
    {
     "name": "stdout",
     "output_type": "stream",
     "text": [
      "Early stopping, best iteration is:\n",
      "[297]\tcv_agg's l2: 0.219522 + 0.0403052\n",
      "[100]\tcv_agg's l2: 0.228078 + 0.0374443\n",
      "[200]\tcv_agg's l2: 0.221228 + 0.0393674\n",
      "[300]\tcv_agg's l2: 0.219747 + 0.0403609\n"
     ]
    },
    {
     "name": "stderr",
     "output_type": "stream",
     "text": [
      "regularization_factors, val_score: 0.219522:  20%|#######6                              | 4/20 [00:05<00:23,  1.45s/it][I 2023-10-28 22:31:03,050] Trial 46 finished with value: 0.21952166697143705 and parameters: {'lambda_l1': 1.0965827398946738e-08, 'lambda_l2': 2.3718028529632404e-08}. Best is trial 45 with value: 0.21952166692140276.\n",
      "regularization_factors, val_score: 0.219522:  20%|#######6                              | 4/20 [00:05<00:23,  1.45s/it]"
     ]
    },
    {
     "name": "stdout",
     "output_type": "stream",
     "text": [
      "Early stopping, best iteration is:\n",
      "[297]\tcv_agg's l2: 0.219522 + 0.0403052\n",
      "[100]\tcv_agg's l2: 0.228078 + 0.0374443\n",
      "[200]\tcv_agg's l2: 0.221228 + 0.0393674\n",
      "[300]\tcv_agg's l2: 0.219747 + 0.0403609\n"
     ]
    },
    {
     "name": "stderr",
     "output_type": "stream",
     "text": [
      "regularization_factors, val_score: 0.219522:  25%|#########5                            | 5/20 [00:07<00:23,  1.59s/it][I 2023-10-28 22:31:04,893] Trial 47 finished with value: 0.21952166695393077 and parameters: {'lambda_l1': 2.1212962699503598e-08, 'lambda_l2': 2.6042443464744308e-08}. Best is trial 45 with value: 0.21952166692140276.\n",
      "regularization_factors, val_score: 0.219522:  25%|#########5                            | 5/20 [00:07<00:23,  1.59s/it]"
     ]
    },
    {
     "name": "stdout",
     "output_type": "stream",
     "text": [
      "Early stopping, best iteration is:\n",
      "[297]\tcv_agg's l2: 0.219522 + 0.0403052\n",
      "[100]\tcv_agg's l2: 0.228078 + 0.0374443\n",
      "[200]\tcv_agg's l2: 0.221228 + 0.0393674\n",
      "[300]\tcv_agg's l2: 0.219747 + 0.0403609\n"
     ]
    },
    {
     "name": "stderr",
     "output_type": "stream",
     "text": [
      "regularization_factors, val_score: 0.219522:  30%|###########4                          | 6/20 [00:09<00:22,  1.62s/it][I 2023-10-28 22:31:06,568] Trial 48 finished with value: 0.21952166702212658 and parameters: {'lambda_l1': 1.1161450069430066e-08, 'lambda_l2': 1.0212149176907009e-08}. Best is trial 45 with value: 0.21952166692140276.\n",
      "regularization_factors, val_score: 0.219522:  30%|###########4                          | 6/20 [00:09<00:22,  1.62s/it]"
     ]
    },
    {
     "name": "stdout",
     "output_type": "stream",
     "text": [
      "Early stopping, best iteration is:\n",
      "[297]\tcv_agg's l2: 0.219522 + 0.0403052\n",
      "[100]\tcv_agg's l2: 0.228078 + 0.0374443\n",
      "[200]\tcv_agg's l2: 0.221228 + 0.0393674\n",
      "[300]\tcv_agg's l2: 0.219747 + 0.0403609\n"
     ]
    },
    {
     "name": "stderr",
     "output_type": "stream",
     "text": [
      "regularization_factors, val_score: 0.219522:  35%|#############3                        | 7/20 [00:10<00:20,  1.60s/it][I 2023-10-28 22:31:08,140] Trial 49 finished with value: 0.21952166701940415 and parameters: {'lambda_l1': 1.03341541459409e-08, 'lambda_l2': 1.2887488457830677e-08}. Best is trial 45 with value: 0.21952166692140276.\n",
      "regularization_factors, val_score: 0.219522:  35%|#############3                        | 7/20 [00:10<00:20,  1.60s/it]"
     ]
    },
    {
     "name": "stdout",
     "output_type": "stream",
     "text": [
      "Early stopping, best iteration is:\n",
      "[297]\tcv_agg's l2: 0.219522 + 0.0403052\n",
      "[100]\tcv_agg's l2: 0.228078 + 0.0374443\n",
      "[200]\tcv_agg's l2: 0.221228 + 0.0393674\n",
      "[300]\tcv_agg's l2: 0.219747 + 0.0403609\n"
     ]
    },
    {
     "name": "stderr",
     "output_type": "stream",
     "text": [
      "regularization_factors, val_score: 0.219522:  40%|###############2                      | 8/20 [00:12<00:19,  1.61s/it][I 2023-10-28 22:31:09,753] Trial 50 finished with value: 0.21952166702123624 and parameters: {'lambda_l1': 1.0246993690269177e-08, 'lambda_l2': 1.1452418446757812e-08}. Best is trial 45 with value: 0.21952166692140276.\n",
      "regularization_factors, val_score: 0.219522:  40%|###############2                      | 8/20 [00:12<00:19,  1.61s/it]"
     ]
    },
    {
     "name": "stdout",
     "output_type": "stream",
     "text": [
      "Early stopping, best iteration is:\n",
      "[297]\tcv_agg's l2: 0.219522 + 0.0403052\n",
      "[100]\tcv_agg's l2: 0.228078 + 0.0374443\n",
      "[200]\tcv_agg's l2: 0.221228 + 0.0393674\n",
      "[300]\tcv_agg's l2: 0.219747 + 0.0403609\n"
     ]
    },
    {
     "name": "stderr",
     "output_type": "stream",
     "text": [
      "regularization_factors, val_score: 0.219522:  45%|#################1                    | 9/20 [00:14<00:18,  1.70s/it][I 2023-10-28 22:31:11,655] Trial 51 finished with value: 0.21952166702186524 and parameters: {'lambda_l1': 1.3120438078810834e-08, 'lambda_l2': 1.670135429088942e-08}. Best is trial 45 with value: 0.21952166692140276.\n",
      "regularization_factors, val_score: 0.219522:  45%|#################1                    | 9/20 [00:14<00:18,  1.70s/it]"
     ]
    },
    {
     "name": "stdout",
     "output_type": "stream",
     "text": [
      "Early stopping, best iteration is:\n",
      "[297]\tcv_agg's l2: 0.219522 + 0.0403052\n",
      "[100]\tcv_agg's l2: 0.228078 + 0.0374443\n",
      "[200]\tcv_agg's l2: 0.221228 + 0.0393674\n",
      "[300]\tcv_agg's l2: 0.219747 + 0.0403609\n"
     ]
    },
    {
     "name": "stderr",
     "output_type": "stream",
     "text": [
      "regularization_factors, val_score: 0.219522:  50%|##################5                  | 10/20 [00:16<00:17,  1.76s/it][I 2023-10-28 22:31:13,550] Trial 52 finished with value: 0.21952166702493722 and parameters: {'lambda_l1': 1.15448161728737e-08, 'lambda_l2': 1.113904426409496e-08}. Best is trial 45 with value: 0.21952166692140276.\n",
      "regularization_factors, val_score: 0.219522:  50%|##################5                  | 10/20 [00:16<00:17,  1.76s/it]"
     ]
    },
    {
     "name": "stdout",
     "output_type": "stream",
     "text": [
      "Early stopping, best iteration is:\n",
      "[297]\tcv_agg's l2: 0.219522 + 0.0403052\n",
      "[100]\tcv_agg's l2: 0.228078 + 0.0374443\n",
      "[200]\tcv_agg's l2: 0.221228 + 0.0393674\n",
      "[300]\tcv_agg's l2: 0.219747 + 0.0403609\n"
     ]
    },
    {
     "name": "stderr",
     "output_type": "stream",
     "text": [
      "regularization_factors, val_score: 0.219522:  55%|####################3                | 11/20 [00:18<00:18,  2.02s/it][I 2023-10-28 22:31:16,173] Trial 53 finished with value: 0.21952166702329512 and parameters: {'lambda_l1': 1.0448135138159592e-08, 'lambda_l2': 1.2554803880041582e-08}. Best is trial 45 with value: 0.21952166692140276.\n",
      "regularization_factors, val_score: 0.219522:  55%|####################3                | 11/20 [00:18<00:18,  2.02s/it]"
     ]
    },
    {
     "name": "stdout",
     "output_type": "stream",
     "text": [
      "Early stopping, best iteration is:\n",
      "[297]\tcv_agg's l2: 0.219522 + 0.0403052\n",
      "[100]\tcv_agg's l2: 0.228078 + 0.0374443\n",
      "[200]\tcv_agg's l2: 0.221228 + 0.0393674\n",
      "[300]\tcv_agg's l2: 0.219747 + 0.0403609\n"
     ]
    },
    {
     "name": "stderr",
     "output_type": "stream",
     "text": [
      "regularization_factors, val_score: 0.219522:  60%|######################2              | 12/20 [00:20<00:16,  2.04s/it][I 2023-10-28 22:31:18,249] Trial 54 finished with value: 0.21952166703130888 and parameters: {'lambda_l1': 1.0656190578681259e-08, 'lambda_l2': 1.8043967799317535e-08}. Best is trial 45 with value: 0.21952166692140276.\n",
      "regularization_factors, val_score: 0.219522:  60%|######################2              | 12/20 [00:20<00:16,  2.04s/it]"
     ]
    },
    {
     "name": "stdout",
     "output_type": "stream",
     "text": [
      "Early stopping, best iteration is:\n",
      "[297]\tcv_agg's l2: 0.219522 + 0.0403052\n",
      "[100]\tcv_agg's l2: 0.228078 + 0.0374443\n",
      "[200]\tcv_agg's l2: 0.221228 + 0.0393674\n",
      "[300]\tcv_agg's l2: 0.219747 + 0.0403609\n"
     ]
    },
    {
     "name": "stderr",
     "output_type": "stream",
     "text": [
      "regularization_factors, val_score: 0.219522:  65%|########################             | 13/20 [00:22<00:14,  2.06s/it][I 2023-10-28 22:31:20,369] Trial 55 finished with value: 0.21952166699554115 and parameters: {'lambda_l1': 1.1350800184043791e-08, 'lambda_l2': 3.397563658217091e-08}. Best is trial 45 with value: 0.21952166692140276.\n",
      "regularization_factors, val_score: 0.219522:  65%|########################             | 13/20 [00:22<00:14,  2.06s/it]"
     ]
    },
    {
     "name": "stdout",
     "output_type": "stream",
     "text": [
      "Early stopping, best iteration is:\n",
      "[297]\tcv_agg's l2: 0.219522 + 0.0403052\n",
      "[100]\tcv_agg's l2: 0.228078 + 0.0374443\n",
      "[200]\tcv_agg's l2: 0.221228 + 0.0393674\n",
      "[300]\tcv_agg's l2: 0.219747 + 0.0403609\n"
     ]
    },
    {
     "name": "stderr",
     "output_type": "stream",
     "text": [
      "regularization_factors, val_score: 0.219522:  70%|#########################9           | 14/20 [00:26<00:15,  2.55s/it][I 2023-10-28 22:31:24,046] Trial 56 finished with value: 0.21952166658926225 and parameters: {'lambda_l1': 5.872015189313654e-08, 'lambda_l2': 1.7201262344203767e-07}. Best is trial 56 with value: 0.21952166658926225.\n",
      "regularization_factors, val_score: 0.219522:  70%|#########################9           | 14/20 [00:26<00:15,  2.55s/it]"
     ]
    },
    {
     "name": "stdout",
     "output_type": "stream",
     "text": [
      "Early stopping, best iteration is:\n",
      "[297]\tcv_agg's l2: 0.219522 + 0.0403052\n",
      "[100]\tcv_agg's l2: 0.228078 + 0.0374443\n",
      "[200]\tcv_agg's l2: 0.221228 + 0.0393674\n",
      "[300]\tcv_agg's l2: 0.219747 + 0.0403609\n"
     ]
    },
    {
     "name": "stderr",
     "output_type": "stream",
     "text": [
      "regularization_factors, val_score: 0.219522:  75%|###########################7         | 15/20 [00:30<00:14,  2.91s/it][I 2023-10-28 22:31:27,791] Trial 57 finished with value: 0.21952166583123303 and parameters: {'lambda_l1': 2.1979064634228567e-07, 'lambda_l2': 4.353236929860462e-07}. Best is trial 57 with value: 0.21952166583123303.\n",
      "regularization_factors, val_score: 0.219522:  75%|###########################7         | 15/20 [00:30<00:14,  2.91s/it]"
     ]
    },
    {
     "name": "stdout",
     "output_type": "stream",
     "text": [
      "Early stopping, best iteration is:\n",
      "[297]\tcv_agg's l2: 0.219522 + 0.0403052\n",
      "[100]\tcv_agg's l2: 0.228078 + 0.0374443\n",
      "[200]\tcv_agg's l2: 0.221228 + 0.0393674\n",
      "[300]\tcv_agg's l2: 0.219747 + 0.0403609\n"
     ]
    },
    {
     "name": "stderr",
     "output_type": "stream",
     "text": [
      "regularization_factors, val_score: 0.219522:  80%|#############################6       | 16/20 [00:34<00:12,  3.23s/it][I 2023-10-28 22:31:31,767] Trial 58 finished with value: 0.21952166504737866 and parameters: {'lambda_l1': 4.5881432792138374e-07, 'lambda_l2': 5.599429356567292e-07}. Best is trial 58 with value: 0.21952166504737866.\n",
      "regularization_factors, val_score: 0.219522:  80%|#############################6       | 16/20 [00:34<00:12,  3.23s/it]"
     ]
    },
    {
     "name": "stdout",
     "output_type": "stream",
     "text": [
      "Early stopping, best iteration is:\n",
      "[297]\tcv_agg's l2: 0.219522 + 0.0403052\n",
      "[100]\tcv_agg's l2: 0.228078 + 0.0374443\n",
      "[200]\tcv_agg's l2: 0.221228 + 0.0393674\n",
      "[300]\tcv_agg's l2: 0.219747 + 0.0403609\n"
     ]
    },
    {
     "name": "stderr",
     "output_type": "stream",
     "text": [
      "regularization_factors, val_score: 0.219522:  85%|###############################4     | 17/20 [00:38<00:10,  3.42s/it][I 2023-10-28 22:31:35,632] Trial 59 finished with value: 0.21952166456095873 and parameters: {'lambda_l1': 5.554991983365629e-07, 'lambda_l2': 7.21309344971236e-07}. Best is trial 59 with value: 0.21952166456095873.\n",
      "regularization_factors, val_score: 0.219522:  85%|###############################4     | 17/20 [00:38<00:10,  3.42s/it]"
     ]
    },
    {
     "name": "stdout",
     "output_type": "stream",
     "text": [
      "Early stopping, best iteration is:\n",
      "[297]\tcv_agg's l2: 0.219522 + 0.0403052\n",
      "[100]\tcv_agg's l2: 0.228078 + 0.0374443\n",
      "[200]\tcv_agg's l2: 0.221228 + 0.0393674\n",
      "[300]\tcv_agg's l2: 0.219747 + 0.0403609\n"
     ]
    },
    {
     "name": "stderr",
     "output_type": "stream",
     "text": [
      "regularization_factors, val_score: 0.219522:  90%|#################################3   | 18/20 [00:41<00:07,  3.52s/it][I 2023-10-28 22:31:39,375] Trial 60 finished with value: 0.21952166504187892 and parameters: {'lambda_l1': 3.4896493395031355e-07, 'lambda_l2': 7.14458802678902e-07}. Best is trial 59 with value: 0.21952166456095873.\n",
      "regularization_factors, val_score: 0.219522:  90%|#################################3   | 18/20 [00:41<00:07,  3.52s/it]"
     ]
    },
    {
     "name": "stdout",
     "output_type": "stream",
     "text": [
      "Early stopping, best iteration is:\n",
      "[297]\tcv_agg's l2: 0.219522 + 0.0403052\n",
      "[100]\tcv_agg's l2: 0.228078 + 0.0374443\n",
      "[200]\tcv_agg's l2: 0.221228 + 0.0393674\n",
      "[300]\tcv_agg's l2: 0.219747 + 0.0403609\n"
     ]
    },
    {
     "name": "stderr",
     "output_type": "stream",
     "text": [
      "regularization_factors, val_score: 0.219522:  95%|###################################1 | 19/20 [00:45<00:03,  3.55s/it][I 2023-10-28 22:31:42,988] Trial 61 finished with value: 0.21952166461050884 and parameters: {'lambda_l1': 4.794420295096794e-07, 'lambda_l2': 8.032053296570578e-07}. Best is trial 59 with value: 0.21952166456095873.\n",
      "regularization_factors, val_score: 0.219522:  95%|###################################1 | 19/20 [00:45<00:03,  3.55s/it]"
     ]
    },
    {
     "name": "stdout",
     "output_type": "stream",
     "text": [
      "Early stopping, best iteration is:\n",
      "[297]\tcv_agg's l2: 0.219522 + 0.0403052\n",
      "[100]\tcv_agg's l2: 0.228078 + 0.0374443\n",
      "[200]\tcv_agg's l2: 0.221228 + 0.0393674\n",
      "[300]\tcv_agg's l2: 0.219747 + 0.0403609\n"
     ]
    },
    {
     "name": "stderr",
     "output_type": "stream",
     "text": [
      "regularization_factors, val_score: 0.219522: 100%|#####################################| 20/20 [00:49<00:00,  3.67s/it][I 2023-10-28 22:31:46,929] Trial 62 finished with value: 0.21952166392857309 and parameters: {'lambda_l1': 7.301416517103133e-07, 'lambda_l2': 8.346246752000561e-07}. Best is trial 62 with value: 0.21952166392857309.\n",
      "regularization_factors, val_score: 0.219522: 100%|#####################################| 20/20 [00:49<00:00,  2.48s/it]\n"
     ]
    },
    {
     "name": "stdout",
     "output_type": "stream",
     "text": [
      "Early stopping, best iteration is:\n",
      "[297]\tcv_agg's l2: 0.219522 + 0.0403052\n"
     ]
    },
    {
     "name": "stderr",
     "output_type": "stream",
     "text": [
      "min_data_in_leaf, val_score: 0.219522:   0%|                                                     | 0/5 [00:00<?, ?it/s]"
     ]
    },
    {
     "name": "stdout",
     "output_type": "stream",
     "text": [
      "[100]\tcv_agg's l2: 0.340761 + 0.0710209\n",
      "[200]\tcv_agg's l2: 0.326794 + 0.069972\n",
      "[300]\tcv_agg's l2: 0.323144 + 0.0720573\n"
     ]
    },
    {
     "name": "stderr",
     "output_type": "stream",
     "text": [
      "min_data_in_leaf, val_score: 0.219522:  20%|#########                                    | 1/5 [00:01<00:06,  1.68s/it][I 2023-10-28 22:31:48,618] Trial 63 finished with value: 0.3226573157935272 and parameters: {'min_child_samples': 50}. Best is trial 63 with value: 0.3226573157935272.\n",
      "min_data_in_leaf, val_score: 0.219522:  20%|#########                                    | 1/5 [00:01<00:06,  1.68s/it]"
     ]
    },
    {
     "name": "stdout",
     "output_type": "stream",
     "text": [
      "Early stopping, best iteration is:\n",
      "[297]\tcv_agg's l2: 0.219522 + 0.0403052\n",
      "[100]\tcv_agg's l2: 0.210205 + 0.0351775\n",
      "[200]\tcv_agg's l2: 0.208009 + 0.0378614\n"
     ]
    },
    {
     "name": "stderr",
     "output_type": "stream",
     "text": [
      "min_data_in_leaf, val_score: 0.207452:  40%|##################                           | 2/5 [00:04<00:06,  2.33s/it][I 2023-10-28 22:31:51,395] Trial 64 finished with value: 0.20745191892516446 and parameters: {'min_child_samples': 10}. Best is trial 64 with value: 0.20745191892516446.\n",
      "min_data_in_leaf, val_score: 0.207452:  40%|##################                           | 2/5 [00:04<00:06,  2.33s/it]"
     ]
    },
    {
     "name": "stdout",
     "output_type": "stream",
     "text": [
      "Early stopping, best iteration is:\n",
      "[159]\tcv_agg's l2: 0.207452 + 0.0371004\n",
      "[100]\tcv_agg's l2: 0.207442 + 0.0350799\n"
     ]
    },
    {
     "name": "stderr",
     "output_type": "stream",
     "text": [
      "min_data_in_leaf, val_score: 0.206614:  60%|###########################                  | 3/5 [00:06<00:04,  2.27s/it][I 2023-10-28 22:31:53,590] Trial 65 finished with value: 0.20661353082644146 and parameters: {'min_child_samples': 5}. Best is trial 65 with value: 0.20661353082644146.\n",
      "min_data_in_leaf, val_score: 0.206614:  60%|###########################                  | 3/5 [00:06<00:04,  2.27s/it]"
     ]
    },
    {
     "name": "stdout",
     "output_type": "stream",
     "text": [
      "[200]\tcv_agg's l2: 0.207294 + 0.0340962\n",
      "Early stopping, best iteration is:\n",
      "[115]\tcv_agg's l2: 0.206614 + 0.0344551\n",
      "[100]\tcv_agg's l2: 0.260176 + 0.0668304\n"
     ]
    },
    {
     "name": "stderr",
     "output_type": "stream",
     "text": [
      "min_data_in_leaf, val_score: 0.206614:  80%|####################################         | 4/5 [00:08<00:01,  1.96s/it][I 2023-10-28 22:31:55,090] Trial 66 finished with value: 0.2564055726221267 and parameters: {'min_child_samples': 25}. Best is trial 65 with value: 0.20661353082644146.\n",
      "min_data_in_leaf, val_score: 0.206614:  80%|####################################         | 4/5 [00:08<00:01,  1.96s/it]"
     ]
    },
    {
     "name": "stdout",
     "output_type": "stream",
     "text": [
      "[200]\tcv_agg's l2: 0.246726 + 0.0660632\n",
      "Early stopping, best iteration is:\n",
      "[115]\tcv_agg's l2: 0.206614 + 0.0344551\n",
      "[100]\tcv_agg's l2: 0.814899 + 0.163146\n"
     ]
    },
    {
     "name": "stderr",
     "output_type": "stream",
     "text": [
      "min_data_in_leaf, val_score: 0.206614: 100%|#############################################| 5/5 [00:08<00:00,  1.46s/it][I 2023-10-28 22:31:55,654] Trial 67 finished with value: 0.812011593896836 and parameters: {'min_child_samples': 100}. Best is trial 65 with value: 0.20661353082644146.\n",
      "min_data_in_leaf, val_score: 0.206614: 100%|#############################################| 5/5 [00:08<00:00,  1.74s/it]"
     ]
    },
    {
     "name": "stdout",
     "output_type": "stream",
     "text": [
      "[200]\tcv_agg's l2: 0.800739 + 0.170661\n",
      "Early stopping, best iteration is:\n",
      "[115]\tcv_agg's l2: 0.206614 + 0.0344551\n"
     ]
    },
    {
     "name": "stderr",
     "output_type": "stream",
     "text": [
      "\n"
     ]
    }
   ],
   "source": [
    "import optuna.integration.lightgbm as lgb\n",
    "from lightgbm import early_stopping, log_evaluation\n",
    "from sklearn.model_selection import KFold\n",
    "from sklearn.model_selection import RepeatedKFold\n",
    "\n",
    "\n",
    "lgb_train = lgb.Dataset(X_train, y_train)\n",
    "\n",
    "params = {\n",
    "    \"boosting_type\": \"gbdt\",\n",
    "    \"objective\": \"regression\",\n",
    "    \"metric\": \"l2\",\n",
    "    \"verbosity\": -1,\n",
    "}\n",
    "\n",
    "tuner = lgb.LightGBMTunerCV(\n",
    "    params,\n",
    "    lgb_train,\n",
    "    folds=KFold(n_splits=5),\n",
    "    num_boost_round=10000,\n",
    "    callbacks=[early_stopping(100), log_evaluation(100)],\n",
    ")\n",
    "\n",
    "tuner.run()"
   ]
  },
  {
   "cell_type": "code",
   "execution_count": 56,
   "id": "3b9d8fb3",
   "metadata": {},
   "outputs": [
    {
     "name": "stdout",
     "output_type": "stream",
     "text": [
      "Best score: 0.20661353082644146\n",
      "Params: \n",
      "    boosting_type: gbdt\n",
      "    objective: regression\n",
      "    metric: l2\n",
      "    verbosity: -1\n",
      "    feature_pre_filter: False\n",
      "    lambda_l1: 7.301416517103133e-07\n",
      "    lambda_l2: 8.346246752000561e-07\n",
      "    num_leaves: 31\n",
      "    feature_fraction: 0.7\n",
      "    bagging_fraction: 1.0\n",
      "    bagging_freq: 0\n",
      "    min_child_samples: 5\n"
     ]
    }
   ],
   "source": [
    "print(f\"Best score: {tuner.best_score}\")\n",
    "best_params = tuner.best_params\n",
    "print(\"Params: \")\n",
    "for key, value in best_params.items():\n",
    "    print(\"    {}: {}\".format(key, value))"
   ]
  },
  {
   "cell_type": "code",
   "execution_count": 57,
   "id": "d25b1687",
   "metadata": {},
   "outputs": [],
   "source": [
    "import lightgbm as lgb\n",
    "\n",
    "lgb_tuned = lgb.train(\n",
    "    best_params,\n",
    "    lgb_train,\n",
    "    num_boost_round=10000,\n",
    ")"
   ]
  },
  {
   "cell_type": "code",
   "execution_count": 58,
   "id": "290a9f09",
   "metadata": {},
   "outputs": [
    {
     "name": "stdout",
     "output_type": "stream",
     "text": [
      "RMSE train: 0.00\n",
      "RMSE test: 0.67\n",
      "MSE test: 0.45\n",
      "MAE test: 0.47\n",
      "\n"
     ]
    }
   ],
   "source": [
    "rmse, mse, mae = assess_regression_model(lgb_tuned, X_train, X_test, y_train, y_test)"
   ]
  },
  {
   "cell_type": "code",
   "execution_count": 59,
   "id": "a6ecfca2",
   "metadata": {},
   "outputs": [],
   "source": [
    "results.loc[1] = [\n",
    "    \"chronological\",\n",
    "    \"Optuna\",\n",
    "    len(X_test.columns),\n",
    "    mse,\n",
    "    rmse,\n",
    "    mae,\n",
    "]"
   ]
  },
  {
   "cell_type": "markdown",
   "id": "2f13ab75",
   "metadata": {},
   "source": [
    "###### MAE by level"
   ]
  },
  {
   "cell_type": "code",
   "execution_count": 60,
   "id": "4bf49229",
   "metadata": {},
   "outputs": [
    {
     "data": {
      "image/png": "[encoded data removed]",
      "text/plain": [
       "<Figure size 720x432 with 1 Axes>"
      ]
     },
     "metadata": {
      "needs_background": "light"
     },
     "output_type": "display_data"
    }
   ],
   "source": [
    "import matplotlib.pyplot as plt\n",
    "\n",
    "y_test = y_test.reset_index(drop=True)\n",
    "level_max = y_test.max()\n",
    "\n",
    "mae_by_level = pd.DataFrame(columns=[\"level\", \"mae\"])\n",
    "for lvl in range(-1, level_max + 1):\n",
    "    y_test_curr = y_test[y_test == lvl]\n",
    "    y_pred_test_curr = pd.DataFrame(y_pred_test)[y_test == lvl]\n",
    "\n",
    "    mae = mean_absolute_error(y_test_curr, y_pred_test_curr)\n",
    "    mae_by_level.loc[lvl + 1] = [lvl, mae]\n",
    "\n",
    "\n",
    "plt.figure(figsize=(10, 6))\n",
    "plt.bar(mae_by_level[\"level\"], mae_by_level[\"mae\"])\n",
    "plt.xlabel(\"Level\")\n",
    "plt.ylabel(\"Mean Absolute Error (MAE)\")\n",
    "plt.title(\"MAE by level\")\n",
    "plt.xticks(mae_by_level[\"level\"])\n",
    "plt.show()"
   ]
  },
  {
   "cell_type": "code",
   "execution_count": 61,
   "id": "9f6b3122",
   "metadata": {
    "scrolled": false
   },
   "outputs": [
    {
     "name": "stdout",
     "output_type": "stream",
     "text": [
      "Normal:\n",
      "MSE: 0.45\n",
      "RMSE: 0.67\n",
      "\n",
      "Round type: round\n",
      "MSE: 0.53\n",
      "RMSE: 0.73\n",
      "\n",
      "Round type: 0.33\n",
      "MSE: 0.48\n",
      "RMSE: 0.69\n",
      "\n",
      "Round type: 0.45\n",
      "MSE: 0.51\n",
      "RMSE: 0.72\n",
      "\n"
     ]
    }
   ],
   "source": [
    "predict = lgb_tuned.predict(X_test)\n",
    "check_round_predictions([\"round\", 0.33, 0.45], y_test, predict)"
   ]
  },
  {
   "cell_type": "code",
   "execution_count": 62,
   "id": "515dc232",
   "metadata": {},
   "outputs": [
    {
     "data": {
      "image/png": "[encoded data removed]",
      "text/plain": [
       "<Figure size 432x288 with 2 Axes>"
      ]
     },
     "metadata": {
      "needs_background": "light"
     },
     "output_type": "display_data"
    }
   ],
   "source": [
    "plot_confusion_matrix(\"round\", predict, y_test)"
   ]
  },
  {
   "cell_type": "markdown",
   "id": "493f7602",
   "metadata": {},
   "source": [
    "## Random split"
   ]
  },
  {
   "cell_type": "code",
   "execution_count": 63,
   "id": "4948ca0a",
   "metadata": {},
   "outputs": [
    {
     "name": "stdout",
     "output_type": "stream",
     "text": [
      "[LightGBM] [Warning] Auto-choosing col-wise multi-threading, the overhead of testing was 0.000333 seconds.\n",
      "You can set `force_col_wise=true` to remove the overhead.\n",
      "[LightGBM] [Info] Total Bins 234\n",
      "[LightGBM] [Info] Number of data points in the train set: 904, number of used features: 8\n",
      "[LightGBM] [Info] Start training from score 7.162611\n",
      "Training until validation scores don't improve for 5 rounds\n",
      "Early stopping, best iteration is:\n",
      "[55]\tvalid_0's l1: 0.340495\tvalid_0's l2: 0.243018\n"
     ]
    }
   ],
   "source": [
    "import lightgbm as lgb\n",
    "from sklearn.metrics import mean_squared_error\n",
    "\n",
    "lgb_train = lgb.Dataset(X_train_random_split, y_train_random_split)\n",
    "lgb_eval = lgb.Dataset(X_test_random_split, y_test_random_split, reference=lgb_train)\n",
    "\n",
    "params = {\n",
    "    \"boosting_type\": \"gbdt\",\n",
    "    \"objective\": \"regression\",\n",
    "    \"metric\": {\"l2\", \"l1\"},\n",
    "}\n",
    "\n",
    "gbm = lgb.train(\n",
    "    params,\n",
    "    lgb_train,\n",
    "    num_boost_round=100,\n",
    "    valid_sets=lgb_eval,\n",
    "    callbacks=[lgb.early_stopping(stopping_rounds=5)],\n",
    ")"
   ]
  },
  {
   "cell_type": "code",
   "execution_count": 64,
   "id": "f9bd4c3b",
   "metadata": {},
   "outputs": [],
   "source": [
    "y_pred_train = gbm.predict(X_train_random_split, num_iteration=gbm.best_iteration)\n",
    "y_pred_test = gbm.predict(X_test_random_split, num_iteration=gbm.best_iteration)"
   ]
  },
  {
   "cell_type": "code",
   "execution_count": 65,
   "id": "c014931e",
   "metadata": {},
   "outputs": [
    {
     "name": "stdout",
     "output_type": "stream",
     "text": [
      "MSE: 0.24\n",
      "RMSE: 0.49\n",
      "MAE: 0.34\n"
     ]
    }
   ],
   "source": [
    "from sklearn.metrics import mean_squared_error, mean_absolute_error\n",
    "\n",
    "\n",
    "mse = mean_squared_error(y_test_random_split, y_pred_test)\n",
    "rmse = mean_squared_error(y_test_random_split, y_pred_test, squared=False)\n",
    "mae = mean_absolute_error(y_test_random_split, y_pred_test)\n",
    "\n",
    "print(f\"MSE: {mse:.2f}\")\n",
    "print(f\"RMSE: {rmse:.2f}\")\n",
    "print(f\"MAE: {mae:.2f}\")"
   ]
  },
  {
   "cell_type": "code",
   "execution_count": 66,
   "id": "8cbceea7",
   "metadata": {},
   "outputs": [],
   "source": [
    "results.loc[2] = [\"random\", \"normal\", len(X_test.columns), mse, rmse, mae]"
   ]
  },
  {
   "cell_type": "markdown",
   "id": "eacfd0ab",
   "metadata": {},
   "source": [
    "###### MAE by level"
   ]
  },
  {
   "cell_type": "code",
   "execution_count": 67,
   "id": "c34dfaaa",
   "metadata": {},
   "outputs": [
    {
     "data": {
      "image/png": "[encoded data removed]",
      "text/plain": [
       "<Figure size 720x432 with 1 Axes>"
      ]
     },
     "metadata": {
      "needs_background": "light"
     },
     "output_type": "display_data"
    }
   ],
   "source": [
    "import matplotlib.pyplot as plt\n",
    "\n",
    "y_test_random_split = y_test_random_split.reset_index(drop=True)\n",
    "level_max = y_test_random_split.max()\n",
    "\n",
    "mae_by_level = pd.DataFrame(columns=[\"level\", \"mae\"])\n",
    "for lvl in range(-1, level_max + 1):\n",
    "    y_test_curr = y_test_random_split[y_test_random_split == lvl]\n",
    "    y_pred_test_curr = pd.DataFrame(y_pred_test)[y_test_random_split == lvl]\n",
    "\n",
    "    mae = mean_absolute_error(y_test_curr, y_pred_test_curr)\n",
    "    mae_by_level.loc[lvl + 1] = [lvl, mae]\n",
    "\n",
    "\n",
    "plt.figure(figsize=(10, 6))\n",
    "plt.bar(mae_by_level[\"level\"], mae_by_level[\"mae\"])\n",
    "plt.xlabel(\"Level\")\n",
    "plt.ylabel(\"Mean Absolute Error (MAE)\")\n",
    "plt.title(\"MAE by level\")\n",
    "plt.xticks(mae_by_level[\"level\"])\n",
    "plt.show()"
   ]
  },
  {
   "cell_type": "code",
   "execution_count": 68,
   "id": "e5edd1d7",
   "metadata": {
    "scrolled": true
   },
   "outputs": [
    {
     "name": "stdout",
     "output_type": "stream",
     "text": [
      "Normal:\n",
      "MSE: 0.24\n",
      "RMSE: 0.49\n",
      "\n",
      "Round type: round\n",
      "MSE: 0.26\n",
      "RMSE: 0.51\n",
      "\n",
      "Round type: 0.33\n",
      "MSE: 0.32\n",
      "RMSE: 0.57\n",
      "\n",
      "Round type: 0.45\n",
      "MSE: 0.27\n",
      "RMSE: 0.52\n",
      "\n"
     ]
    }
   ],
   "source": [
    "check_round_predictions([\"round\", 0.33, 0.45], y_test_random_split, y_pred_test)"
   ]
  },
  {
   "cell_type": "code",
   "execution_count": 69,
   "id": "39e001dd",
   "metadata": {},
   "outputs": [
    {
     "data": {
      "image/png": "[encoded data removed]",
      "text/plain": [
       "<Figure size 432x288 with 2 Axes>"
      ]
     },
     "metadata": {
      "needs_background": "light"
     },
     "output_type": "display_data"
    }
   ],
   "source": [
    "plot_confusion_matrix(\"round\", y_pred_test, y_test_random_split)"
   ]
  },
  {
   "cell_type": "markdown",
   "id": "2a0c7ae0",
   "metadata": {},
   "source": [
    "### Tuning"
   ]
  },
  {
   "cell_type": "code",
   "execution_count": 70,
   "id": "0ef6525a",
   "metadata": {},
   "outputs": [
    {
     "name": "stderr",
     "output_type": "stream",
     "text": [
      "[I 2023-10-28 22:32:13,065] A new study created in memory with name: no-name-8bb623eb-2570-4295-b64b-7d0d816cca12\n",
      "feature_fraction, val_score: inf:   0%|                                                          | 0/7 [00:00<?, ?it/s]"
     ]
    },
    {
     "name": "stdout",
     "output_type": "stream",
     "text": [
      "Training until validation scores don't improve for 100 rounds\n",
      "[100]\tcv_agg's l2: 0.256328 + 0.0777765\n",
      "[200]\tcv_agg's l2: 0.259774 + 0.07799\n"
     ]
    },
    {
     "name": "stderr",
     "output_type": "stream",
     "text": [
      "feature_fraction, val_score: 0.254560:  14%|######4                                      | 1/7 [00:02<00:14,  2.40s/it][I 2023-10-28 22:32:15,469] Trial 0 finished with value: 0.2545595051656829 and parameters: {'feature_fraction': 1.0}. Best is trial 0 with value: 0.2545595051656829.\n",
      "feature_fraction, val_score: 0.254560:  14%|######4                                      | 1/7 [00:02<00:14,  2.40s/it]"
     ]
    },
    {
     "name": "stdout",
     "output_type": "stream",
     "text": [
      "Early stopping, best iteration is:\n",
      "[127]\tcv_agg's l2: 0.25456 + 0.0787984\n",
      "[100]\tcv_agg's l2: 0.249836 + 0.0499123\n",
      "[200]\tcv_agg's l2: 0.251068 + 0.0478294\n"
     ]
    },
    {
     "name": "stderr",
     "output_type": "stream",
     "text": [
      "feature_fraction, val_score: 0.248963:  29%|############8                                | 2/7 [00:04<00:11,  2.32s/it][I 2023-10-28 22:32:17,732] Trial 1 finished with value: 0.2489625146765222 and parameters: {'feature_fraction': 0.8}. Best is trial 1 with value: 0.2489625146765222.\n",
      "feature_fraction, val_score: 0.248963:  29%|############8                                | 2/7 [00:04<00:11,  2.32s/it]"
     ]
    },
    {
     "name": "stdout",
     "output_type": "stream",
     "text": [
      "Early stopping, best iteration is:\n",
      "[129]\tcv_agg's l2: 0.248963 + 0.0478897\n",
      "[100]\tcv_agg's l2: 0.357317 + 0.0561993\n",
      "[200]\tcv_agg's l2: 0.313448 + 0.0582977\n"
     ]
    },
    {
     "name": "stderr",
     "output_type": "stream",
     "text": [
      "feature_fraction, val_score: 0.248963:  43%|###################2                         | 3/7 [00:06<00:09,  2.26s/it][I 2023-10-28 22:32:19,918] Trial 2 finished with value: 0.3370031748066059 and parameters: {'feature_fraction': 0.4}. Best is trial 1 with value: 0.2489625146765222.\n",
      "feature_fraction, val_score: 0.248963:  43%|###################2                         | 3/7 [00:06<00:09,  2.26s/it]"
     ]
    },
    {
     "name": "stdout",
     "output_type": "stream",
     "text": [
      "Early stopping, best iteration is:\n",
      "[129]\tcv_agg's l2: 0.248963 + 0.0478897\n",
      "[100]\tcv_agg's l2: 0.293528 + 0.0529884\n",
      "[200]\tcv_agg's l2: 0.282965 + 0.0538002\n"
     ]
    },
    {
     "name": "stderr",
     "output_type": "stream",
     "text": [
      "feature_fraction, val_score: 0.248963:  57%|#########################7                   | 4/7 [00:08<00:06,  2.18s/it][I 2023-10-28 22:32:21,972] Trial 3 finished with value: 0.28751977755503444 and parameters: {'feature_fraction': 0.6}. Best is trial 1 with value: 0.2489625146765222.\n",
      "feature_fraction, val_score: 0.248963:  57%|#########################7                   | 4/7 [00:08<00:06,  2.18s/it]"
     ]
    },
    {
     "name": "stdout",
     "output_type": "stream",
     "text": [
      "Early stopping, best iteration is:\n",
      "[129]\tcv_agg's l2: 0.248963 + 0.0478897\n",
      "[100]\tcv_agg's l2: 0.249836 + 0.0499123\n",
      "[200]\tcv_agg's l2: 0.251068 + 0.0478294\n"
     ]
    },
    {
     "name": "stderr",
     "output_type": "stream",
     "text": [
      "feature_fraction, val_score: 0.248963:  71%|################################1            | 5/7 [00:11<00:04,  2.22s/it][I 2023-10-28 22:32:24,259] Trial 4 finished with value: 0.2489625146765222 and parameters: {'feature_fraction': 0.7}. Best is trial 1 with value: 0.2489625146765222.\n",
      "feature_fraction, val_score: 0.248963:  71%|################################1            | 5/7 [00:11<00:04,  2.22s/it]"
     ]
    },
    {
     "name": "stdout",
     "output_type": "stream",
     "text": [
      "Early stopping, best iteration is:\n",
      "[129]\tcv_agg's l2: 0.248963 + 0.0478897\n",
      "[100]\tcv_agg's l2: 0.244163 + 0.0691625\n",
      "[200]\tcv_agg's l2: 0.245107 + 0.0660758\n"
     ]
    },
    {
     "name": "stderr",
     "output_type": "stream",
     "text": [
      "feature_fraction, val_score: 0.244107:  86%|######################################5      | 6/7 [00:13<00:02,  2.28s/it][I 2023-10-28 22:32:26,665] Trial 5 finished with value: 0.24410707591057568 and parameters: {'feature_fraction': 0.8999999999999999}. Best is trial 5 with value: 0.24410707591057568.\n",
      "feature_fraction, val_score: 0.244107:  86%|######################################5      | 6/7 [00:13<00:02,  2.28s/it]"
     ]
    },
    {
     "name": "stdout",
     "output_type": "stream",
     "text": [
      "Early stopping, best iteration is:\n",
      "[126]\tcv_agg's l2: 0.244107 + 0.0688744\n",
      "[100]\tcv_agg's l2: 0.350491 + 0.0542453\n",
      "[200]\tcv_agg's l2: 0.325701 + 0.0532011\n"
     ]
    },
    {
     "name": "stderr",
     "output_type": "stream",
     "text": [
      "feature_fraction, val_score: 0.244107: 100%|#############################################| 7/7 [00:15<00:00,  2.23s/it][I 2023-10-28 22:32:28,802] Trial 6 finished with value: 0.3391683031599234 and parameters: {'feature_fraction': 0.5}. Best is trial 5 with value: 0.24410707591057568.\n",
      "feature_fraction, val_score: 0.244107: 100%|#############################################| 7/7 [00:15<00:00,  2.25s/it]\n"
     ]
    },
    {
     "name": "stdout",
     "output_type": "stream",
     "text": [
      "Early stopping, best iteration is:\n",
      "[126]\tcv_agg's l2: 0.244107 + 0.0688744\n"
     ]
    },
    {
     "name": "stderr",
     "output_type": "stream",
     "text": [
      "num_leaves, val_score: 0.244107:   0%|                                                          | 0/20 [00:00<?, ?it/s]"
     ]
    },
    {
     "name": "stdout",
     "output_type": "stream",
     "text": [
      "[100]\tcv_agg's l2: 0.244163 + 0.0691625\n",
      "[200]\tcv_agg's l2: 0.245107 + 0.0660758\n"
     ]
    },
    {
     "name": "stderr",
     "output_type": "stream",
     "text": [
      "num_leaves, val_score: 0.244107:   5%|##5                                               | 1/20 [00:02<00:46,  2.45s/it][I 2023-10-28 22:32:31,257] Trial 7 finished with value: 0.24410707591057568 and parameters: {'num_leaves': 109}. Best is trial 7 with value: 0.24410707591057568.\n",
      "num_leaves, val_score: 0.244107:   5%|##5                                               | 1/20 [00:02<00:46,  2.45s/it]"
     ]
    },
    {
     "name": "stdout",
     "output_type": "stream",
     "text": [
      "Early stopping, best iteration is:\n",
      "[126]\tcv_agg's l2: 0.244107 + 0.0688744\n",
      "[100]\tcv_agg's l2: 0.244163 + 0.0691625\n",
      "[200]\tcv_agg's l2: 0.245107 + 0.0660758\n"
     ]
    },
    {
     "name": "stderr",
     "output_type": "stream",
     "text": [
      "num_leaves, val_score: 0.244107:  10%|#####                                             | 2/20 [00:04<00:42,  2.37s/it][I 2023-10-28 22:32:33,574] Trial 8 finished with value: 0.24410707591057568 and parameters: {'num_leaves': 85}. Best is trial 7 with value: 0.24410707591057568.\n",
      "num_leaves, val_score: 0.244107:  10%|#####                                             | 2/20 [00:04<00:42,  2.37s/it]"
     ]
    },
    {
     "name": "stdout",
     "output_type": "stream",
     "text": [
      "Early stopping, best iteration is:\n",
      "[126]\tcv_agg's l2: 0.244107 + 0.0688744\n",
      "[100]\tcv_agg's l2: 0.244163 + 0.0691625\n",
      "[200]\tcv_agg's l2: 0.245107 + 0.0660758\n"
     ]
    },
    {
     "name": "stderr",
     "output_type": "stream",
     "text": [
      "num_leaves, val_score: 0.244107:  15%|#######5                                          | 3/20 [00:07<00:39,  2.34s/it][I 2023-10-28 22:32:35,880] Trial 9 finished with value: 0.24410707591057568 and parameters: {'num_leaves': 111}. Best is trial 7 with value: 0.24410707591057568.\n",
      "num_leaves, val_score: 0.244107:  15%|#######5                                          | 3/20 [00:07<00:39,  2.34s/it]"
     ]
    },
    {
     "name": "stdout",
     "output_type": "stream",
     "text": [
      "Early stopping, best iteration is:\n",
      "[126]\tcv_agg's l2: 0.244107 + 0.0688744\n",
      "[100]\tcv_agg's l2: 0.244163 + 0.0691625\n",
      "[200]\tcv_agg's l2: 0.245107 + 0.0660758\n"
     ]
    },
    {
     "name": "stderr",
     "output_type": "stream",
     "text": [
      "num_leaves, val_score: 0.244107:  20%|##########                                        | 4/20 [00:09<00:36,  2.28s/it][I 2023-10-28 22:32:38,061] Trial 10 finished with value: 0.24410707591057568 and parameters: {'num_leaves': 248}. Best is trial 7 with value: 0.24410707591057568.\n",
      "num_leaves, val_score: 0.244107:  20%|##########                                        | 4/20 [00:09<00:36,  2.28s/it]"
     ]
    },
    {
     "name": "stdout",
     "output_type": "stream",
     "text": [
      "Early stopping, best iteration is:\n",
      "[126]\tcv_agg's l2: 0.244107 + 0.0688744\n",
      "[100]\tcv_agg's l2: 0.245927 + 0.0704663\n",
      "[200]\tcv_agg's l2: 0.242369 + 0.0649528\n",
      "[300]\tcv_agg's l2: 0.240747 + 0.0617901\n"
     ]
    },
    {
     "name": "stderr",
     "output_type": "stream",
     "text": [
      "num_leaves, val_score: 0.240290:  25%|############5                                     | 5/20 [00:11<00:31,  2.13s/it][I 2023-10-28 22:32:39,927] Trial 11 finished with value: 0.2402896558442663 and parameters: {'num_leaves': 10}. Best is trial 11 with value: 0.2402896558442663.\n",
      "num_leaves, val_score: 0.240290:  25%|############5                                     | 5/20 [00:11<00:31,  2.13s/it]"
     ]
    },
    {
     "name": "stdout",
     "output_type": "stream",
     "text": [
      "[400]\tcv_agg's l2: 0.241585 + 0.0608002\n",
      "Early stopping, best iteration is:\n",
      "[306]\tcv_agg's l2: 0.24029 + 0.061753\n",
      "[100]\tcv_agg's l2: 0.242999 + 0.0707142\n",
      "[200]\tcv_agg's l2: 0.240244 + 0.0653942\n"
     ]
    },
    {
     "name": "stderr",
     "output_type": "stream",
     "text": [
      "num_leaves, val_score: 0.239399:  30%|###############                                   | 6/20 [00:12<00:26,  1.88s/it][I 2023-10-28 22:32:41,325] Trial 12 finished with value: 0.23939893417266966 and parameters: {'num_leaves': 11}. Best is trial 12 with value: 0.23939893417266966.\n",
      "num_leaves, val_score: 0.239399:  30%|###############                                   | 6/20 [00:12<00:26,  1.88s/it]"
     ]
    },
    {
     "name": "stdout",
     "output_type": "stream",
     "text": [
      "Early stopping, best iteration is:\n",
      "[191]\tcv_agg's l2: 0.239399 + 0.0653105\n",
      "[100]\tcv_agg's l2: 0.244504 + 0.0756951\n",
      "[200]\tcv_agg's l2: 0.245294 + 0.0696799\n"
     ]
    },
    {
     "name": "stderr",
     "output_type": "stream",
     "text": [
      "num_leaves, val_score: 0.239399:  35%|#################5                                | 7/20 [00:13<00:22,  1.72s/it][I 2023-10-28 22:32:42,708] Trial 13 finished with value: 0.24511275589165887 and parameters: {'num_leaves': 12}. Best is trial 12 with value: 0.23939893417266966.\n",
      "num_leaves, val_score: 0.239399:  35%|#################5                                | 7/20 [00:13<00:22,  1.72s/it]"
     ]
    },
    {
     "name": "stdout",
     "output_type": "stream",
     "text": [
      "Early stopping, best iteration is:\n",
      "[191]\tcv_agg's l2: 0.239399 + 0.0653105\n",
      "[100]\tcv_agg's l2: 0.244647 + 0.0687337\n",
      "[200]\tcv_agg's l2: 0.244892 + 0.0661827\n"
     ]
    },
    {
     "name": "stderr",
     "output_type": "stream",
     "text": [
      "num_leaves, val_score: 0.239399:  40%|####################                              | 8/20 [00:16<00:25,  2.10s/it][I 2023-10-28 22:32:45,628] Trial 14 finished with value: 0.24502039423498462 and parameters: {'num_leaves': 30}. Best is trial 12 with value: 0.23939893417266966.\n",
      "num_leaves, val_score: 0.239399:  40%|####################                              | 8/20 [00:16<00:25,  2.10s/it]"
     ]
    },
    {
     "name": "stdout",
     "output_type": "stream",
     "text": [
      "Early stopping, best iteration is:\n",
      "[191]\tcv_agg's l2: 0.239399 + 0.0653105\n",
      "[100]\tcv_agg's l2: 0.248377 + 0.0677582\n",
      "[200]\tcv_agg's l2: 0.242384 + 0.0645847\n"
     ]
    },
    {
     "name": "stderr",
     "output_type": "stream",
     "text": [
      "num_leaves, val_score: 0.239399:  45%|######################5                           | 9/20 [00:17<00:19,  1.81s/it][I 2023-10-28 22:32:46,785] Trial 15 finished with value: 0.24307633511857074 and parameters: {'num_leaves': 8}. Best is trial 12 with value: 0.23939893417266966.\n",
      "num_leaves, val_score: 0.239399:  45%|######################5                           | 9/20 [00:17<00:19,  1.81s/it]"
     ]
    },
    {
     "name": "stdout",
     "output_type": "stream",
     "text": [
      "Early stopping, best iteration is:\n",
      "[191]\tcv_agg's l2: 0.239399 + 0.0653105\n",
      "[100]\tcv_agg's l2: 0.244163 + 0.0691625\n",
      "[200]\tcv_agg's l2: 0.245107 + 0.0660758\n"
     ]
    },
    {
     "name": "stderr",
     "output_type": "stream",
     "text": [
      "num_leaves, val_score: 0.239399:  50%|########################5                        | 10/20 [00:21<00:21,  2.20s/it][I 2023-10-28 22:32:49,861] Trial 16 finished with value: 0.24542610413437743 and parameters: {'num_leaves': 189}. Best is trial 12 with value: 0.23939893417266966.\n",
      "num_leaves, val_score: 0.239399:  50%|########################5                        | 10/20 [00:21<00:21,  2.20s/it]"
     ]
    },
    {
     "name": "stdout",
     "output_type": "stream",
     "text": [
      "Early stopping, best iteration is:\n",
      "[191]\tcv_agg's l2: 0.239399 + 0.0653105\n",
      "[100]\tcv_agg's l2: 0.244163 + 0.0691625\n",
      "[200]\tcv_agg's l2: 0.245107 + 0.0660758\n"
     ]
    },
    {
     "name": "stderr",
     "output_type": "stream",
     "text": [
      "num_leaves, val_score: 0.239399:  55%|##########################9                      | 11/20 [00:24<00:21,  2.44s/it][I 2023-10-28 22:32:52,839] Trial 17 finished with value: 0.24542610413437743 and parameters: {'num_leaves': 58}. Best is trial 12 with value: 0.23939893417266966.\n",
      "num_leaves, val_score: 0.239399:  55%|##########################9                      | 11/20 [00:24<00:21,  2.44s/it]"
     ]
    },
    {
     "name": "stdout",
     "output_type": "stream",
     "text": [
      "Early stopping, best iteration is:\n",
      "[191]\tcv_agg's l2: 0.239399 + 0.0653105\n",
      "[100]\tcv_agg's l2: 0.244163 + 0.0691625\n",
      "[200]\tcv_agg's l2: 0.245107 + 0.0660758\n"
     ]
    },
    {
     "name": "stderr",
     "output_type": "stream",
     "text": [
      "num_leaves, val_score: 0.239399:  60%|#############################4                   | 12/20 [00:26<00:20,  2.55s/it][I 2023-10-28 22:32:55,650] Trial 18 finished with value: 0.24542610413437743 and parameters: {'num_leaves': 153}. Best is trial 12 with value: 0.23939893417266966.\n",
      "num_leaves, val_score: 0.239399:  60%|#############################4                   | 12/20 [00:26<00:20,  2.55s/it]"
     ]
    },
    {
     "name": "stdout",
     "output_type": "stream",
     "text": [
      "Early stopping, best iteration is:\n",
      "[191]\tcv_agg's l2: 0.239399 + 0.0653105\n",
      "[100]\tcv_agg's l2: 0.244163 + 0.0691625\n",
      "[200]\tcv_agg's l2: 0.245107 + 0.0660758\n"
     ]
    },
    {
     "name": "stderr",
     "output_type": "stream",
     "text": [
      "num_leaves, val_score: 0.239399:  65%|###############################8                 | 13/20 [00:29<00:18,  2.64s/it][I 2023-10-28 22:32:58,494] Trial 19 finished with value: 0.24542610413437743 and parameters: {'num_leaves': 58}. Best is trial 12 with value: 0.23939893417266966.\n",
      "num_leaves, val_score: 0.239399:  65%|###############################8                 | 13/20 [00:29<00:18,  2.64s/it]"
     ]
    },
    {
     "name": "stdout",
     "output_type": "stream",
     "text": [
      "Early stopping, best iteration is:\n",
      "[191]\tcv_agg's l2: 0.239399 + 0.0653105\n",
      "[100]\tcv_agg's l2: 0.244163 + 0.0691625\n",
      "[200]\tcv_agg's l2: 0.245107 + 0.0660758\n"
     ]
    },
    {
     "name": "stderr",
     "output_type": "stream",
     "text": [
      "num_leaves, val_score: 0.239399:  70%|##################################3              | 14/20 [00:32<00:16,  2.80s/it][I 2023-10-28 22:33:01,675] Trial 20 finished with value: 0.24542610413437743 and parameters: {'num_leaves': 52}. Best is trial 12 with value: 0.23939893417266966.\n",
      "num_leaves, val_score: 0.239399:  70%|##################################3              | 14/20 [00:32<00:16,  2.80s/it]"
     ]
    },
    {
     "name": "stdout",
     "output_type": "stream",
     "text": [
      "Early stopping, best iteration is:\n",
      "[191]\tcv_agg's l2: 0.239399 + 0.0653105\n",
      "[100]\tcv_agg's l2: 0.277392 + 0.07823\n",
      "[200]\tcv_agg's l2: 0.262399 + 0.0668978\n"
     ]
    },
    {
     "name": "stderr",
     "output_type": "stream",
     "text": [
      "num_leaves, val_score: 0.239399:  75%|####################################7            | 15/20 [00:33<00:11,  2.21s/it][I 2023-10-28 22:33:02,500] Trial 21 finished with value: 0.26286127240570345 and parameters: {'num_leaves': 3}. Best is trial 12 with value: 0.23939893417266966.\n",
      "num_leaves, val_score: 0.239399:  75%|####################################7            | 15/20 [00:33<00:11,  2.21s/it]"
     ]
    },
    {
     "name": "stdout",
     "output_type": "stream",
     "text": [
      "Early stopping, best iteration is:\n",
      "[191]\tcv_agg's l2: 0.239399 + 0.0653105\n",
      "[100]\tcv_agg's l2: 0.244163 + 0.0691625\n",
      "[200]\tcv_agg's l2: 0.245107 + 0.0660758\n"
     ]
    },
    {
     "name": "stderr",
     "output_type": "stream",
     "text": [
      "num_leaves, val_score: 0.239399:  80%|#######################################2         | 16/20 [00:37<00:10,  2.62s/it][I 2023-10-28 22:33:06,085] Trial 22 finished with value: 0.24542610413437743 and parameters: {'num_leaves': 31}. Best is trial 12 with value: 0.23939893417266966.\n",
      "num_leaves, val_score: 0.239399:  80%|#######################################2         | 16/20 [00:37<00:10,  2.62s/it]"
     ]
    },
    {
     "name": "stdout",
     "output_type": "stream",
     "text": [
      "Early stopping, best iteration is:\n",
      "[191]\tcv_agg's l2: 0.239399 + 0.0653105\n",
      "[100]\tcv_agg's l2: 0.251358 + 0.0766206\n",
      "[200]\tcv_agg's l2: 0.245262 + 0.073664\n"
     ]
    },
    {
     "name": "stderr",
     "output_type": "stream",
     "text": [
      "num_leaves, val_score: 0.239399:  85%|#########################################6       | 17/20 [00:38<00:06,  2.23s/it][I 2023-10-28 22:33:07,389] Trial 23 finished with value: 0.24481103899826548 and parameters: {'num_leaves': 7}. Best is trial 12 with value: 0.23939893417266966.\n",
      "num_leaves, val_score: 0.239399:  85%|#########################################6       | 17/20 [00:38<00:06,  2.23s/it]"
     ]
    },
    {
     "name": "stdout",
     "output_type": "stream",
     "text": [
      "Early stopping, best iteration is:\n",
      "[191]\tcv_agg's l2: 0.239399 + 0.0653105\n",
      "[100]\tcv_agg's l2: 0.244163 + 0.0691625\n",
      "[200]\tcv_agg's l2: 0.245107 + 0.0660758\n"
     ]
    },
    {
     "name": "stderr",
     "output_type": "stream",
     "text": [
      "num_leaves, val_score: 0.239399:  90%|############################################1    | 18/20 [00:41<00:05,  2.55s/it][I 2023-10-28 22:33:10,695] Trial 24 finished with value: 0.24542610413437743 and parameters: {'num_leaves': 39}. Best is trial 12 with value: 0.23939893417266966.\n",
      "num_leaves, val_score: 0.239399:  90%|############################################1    | 18/20 [00:41<00:05,  2.55s/it]"
     ]
    },
    {
     "name": "stdout",
     "output_type": "stream",
     "text": [
      "Early stopping, best iteration is:\n",
      "[191]\tcv_agg's l2: 0.239399 + 0.0653105\n",
      "[100]\tcv_agg's l2: 0.244163 + 0.0691625\n",
      "[200]\tcv_agg's l2: 0.245107 + 0.0660758\n"
     ]
    },
    {
     "name": "stderr",
     "output_type": "stream",
     "text": [
      "num_leaves, val_score: 0.239399:  95%|##############################################5  | 19/20 [00:45<00:02,  2.99s/it][I 2023-10-28 22:33:14,694] Trial 25 finished with value: 0.24542610413437743 and parameters: {'num_leaves': 87}. Best is trial 12 with value: 0.23939893417266966.\n",
      "num_leaves, val_score: 0.239399:  95%|##############################################5  | 19/20 [00:45<00:02,  2.99s/it]"
     ]
    },
    {
     "name": "stdout",
     "output_type": "stream",
     "text": [
      "Early stopping, best iteration is:\n",
      "[191]\tcv_agg's l2: 0.239399 + 0.0653105\n",
      "[100]\tcv_agg's l2: 0.329299 + 0.0905132\n"
     ]
    },
    {
     "name": "stderr",
     "output_type": "stream",
     "text": [
      "\r",
      "num_leaves, val_score: 0.239399:  95%|##############################################5  | 19/20 [00:46<00:02,  2.99s/it]"
     ]
    },
    {
     "name": "stdout",
     "output_type": "stream",
     "text": [
      "[200]\tcv_agg's l2: 0.290826 + 0.081431\n",
      "Early stopping, best iteration is:\n",
      "[191]\tcv_agg's l2: 0.239399 + 0.0653105\n"
     ]
    },
    {
     "name": "stderr",
     "output_type": "stream",
     "text": [
      "num_leaves, val_score: 0.239399: 100%|#################################################| 20/20 [00:46<00:00,  2.29s/it][I 2023-10-28 22:33:15,359] Trial 26 finished with value: 0.2917970901805605 and parameters: {'num_leaves': 2}. Best is trial 12 with value: 0.23939893417266966.\n",
      "num_leaves, val_score: 0.239399: 100%|#################################################| 20/20 [00:46<00:00,  2.33s/it]\n",
      "bagging, val_score: 0.239399:   0%|                                                             | 0/10 [00:00<?, ?it/s]"
     ]
    },
    {
     "name": "stdout",
     "output_type": "stream",
     "text": [
      "[100]\tcv_agg's l2: 0.26429 + 0.0563806\n",
      "[200]\tcv_agg's l2: 0.260104 + 0.057965\n"
     ]
    },
    {
     "name": "stderr",
     "output_type": "stream",
     "text": [
      "bagging, val_score: 0.239399:  10%|#####3                                               | 1/10 [00:02<00:18,  2.07s/it][I 2023-10-28 22:33:17,439] Trial 27 finished with value: 0.2599751437146506 and parameters: {'bagging_fraction': 0.6482511653641941, 'bagging_freq': 7}. Best is trial 27 with value: 0.2599751437146506.\n",
      "bagging, val_score: 0.239399:  10%|#####3                                               | 1/10 [00:02<00:18,  2.07s/it]"
     ]
    },
    {
     "name": "stdout",
     "output_type": "stream",
     "text": [
      "Early stopping, best iteration is:\n",
      "[191]\tcv_agg's l2: 0.239399 + 0.0653105\n",
      "[100]\tcv_agg's l2: 0.241445 + 0.0597723\n",
      "[200]\tcv_agg's l2: 0.238347 + 0.0547737\n",
      "[300]\tcv_agg's l2: 0.240721 + 0.0525721\n"
     ]
    },
    {
     "name": "stderr",
     "output_type": "stream",
     "text": [
      "bagging, val_score: 0.237461:  20%|##########6                                          | 2/10 [00:04<00:18,  2.25s/it][I 2023-10-28 22:33:19,818] Trial 28 finished with value: 0.23746129699614543 and parameters: {'bagging_fraction': 0.9602651689150259, 'bagging_freq': 1}. Best is trial 28 with value: 0.23746129699614543.\n",
      "bagging, val_score: 0.237461:  20%|##########6                                          | 2/10 [00:04<00:18,  2.25s/it]"
     ]
    },
    {
     "name": "stdout",
     "output_type": "stream",
     "text": [
      "Early stopping, best iteration is:\n",
      "[225]\tcv_agg's l2: 0.237461 + 0.054843\n",
      "[100]\tcv_agg's l2: 0.245103 + 0.0655766\n",
      "[200]\tcv_agg's l2: 0.242244 + 0.0609634\n"
     ]
    },
    {
     "name": "stderr",
     "output_type": "stream",
     "text": [
      "bagging, val_score: 0.237461:  30%|###############9                                     | 3/10 [00:06<00:15,  2.24s/it][I 2023-10-28 22:33:22,035] Trial 29 finished with value: 0.2423651939110673 and parameters: {'bagging_fraction': 0.9954188431155606, 'bagging_freq': 1}. Best is trial 28 with value: 0.23746129699614543.\n",
      "bagging, val_score: 0.237461:  30%|###############9                                     | 3/10 [00:06<00:15,  2.24s/it]"
     ]
    },
    {
     "name": "stdout",
     "output_type": "stream",
     "text": [
      "[300]\tcv_agg's l2: 0.244135 + 0.0587913\n",
      "Early stopping, best iteration is:\n",
      "[225]\tcv_agg's l2: 0.237461 + 0.054843\n",
      "[100]\tcv_agg's l2: 0.246179 + 0.0681365\n",
      "[200]\tcv_agg's l2: 0.242232 + 0.0662252\n"
     ]
    },
    {
     "name": "stderr",
     "output_type": "stream",
     "text": [
      "bagging, val_score: 0.237461:  40%|#####################2                               | 4/10 [00:08<00:13,  2.21s/it][I 2023-10-28 22:33:24,205] Trial 30 finished with value: 0.24222867829074007 and parameters: {'bagging_fraction': 0.9977016642275995, 'bagging_freq': 1}. Best is trial 28 with value: 0.23746129699614543.\n",
      "bagging, val_score: 0.237461:  40%|#####################2                               | 4/10 [00:08<00:13,  2.21s/it]"
     ]
    },
    {
     "name": "stdout",
     "output_type": "stream",
     "text": [
      "[300]\tcv_agg's l2: 0.243138 + 0.0634587\n",
      "Early stopping, best iteration is:\n",
      "[225]\tcv_agg's l2: 0.237461 + 0.054843\n",
      "[100]\tcv_agg's l2: 0.247091 + 0.0730372\n",
      "[200]\tcv_agg's l2: 0.245715 + 0.0686932\n"
     ]
    },
    {
     "name": "stderr",
     "output_type": "stream",
     "text": [
      "bagging, val_score: 0.237461:  50%|##########################5                          | 5/10 [00:11<00:11,  2.31s/it][I 2023-10-28 22:33:26,701] Trial 31 finished with value: 0.24666117556287442 and parameters: {'bagging_fraction': 0.970751957907176, 'bagging_freq': 1}. Best is trial 28 with value: 0.23746129699614543.\n",
      "bagging, val_score: 0.237461:  50%|##########################5                          | 5/10 [00:11<00:11,  2.31s/it]"
     ]
    },
    {
     "name": "stdout",
     "output_type": "stream",
     "text": [
      "[300]\tcv_agg's l2: 0.250033 + 0.0687656\n",
      "Early stopping, best iteration is:\n",
      "[225]\tcv_agg's l2: 0.237461 + 0.054843\n",
      "[100]\tcv_agg's l2: 0.248211 + 0.0609519\n",
      "[200]\tcv_agg's l2: 0.247001 + 0.0532595\n"
     ]
    },
    {
     "name": "stderr",
     "output_type": "stream",
     "text": [
      "\r",
      "bagging, val_score: 0.237461:  50%|##########################5                          | 5/10 [00:13<00:11,  2.31s/it]"
     ]
    },
    {
     "name": "stdout",
     "output_type": "stream",
     "text": [
      "[300]\tcv_agg's l2: 0.248428 + 0.0526197\n",
      "Early stopping, best iteration is:\n",
      "[225]\tcv_agg's l2: 0.237461 + 0.054843\n"
     ]
    },
    {
     "name": "stderr",
     "output_type": "stream",
     "text": [
      "bagging, val_score: 0.237461:  60%|###############################8                     | 6/10 [00:13<00:09,  2.35s/it][I 2023-10-28 22:33:29,117] Trial 32 finished with value: 0.24732221635599455 and parameters: {'bagging_fraction': 0.8820594820844941, 'bagging_freq': 3}. Best is trial 28 with value: 0.23746129699614543.\n",
      "bagging, val_score: 0.237461:  60%|###############################8                     | 6/10 [00:13<00:09,  2.35s/it]"
     ]
    },
    {
     "name": "stdout",
     "output_type": "stream",
     "text": [
      "[100]\tcv_agg's l2: 0.320528 + 0.0672981\n",
      "[200]\tcv_agg's l2: 0.31498 + 0.0614825\n"
     ]
    },
    {
     "name": "stderr",
     "output_type": "stream",
     "text": [
      "bagging, val_score: 0.237461:  70%|#####################################                | 7/10 [00:15<00:06,  2.29s/it][I 2023-10-28 22:33:31,275] Trial 33 finished with value: 0.31353523390092286 and parameters: {'bagging_fraction': 0.4217821499109118, 'bagging_freq': 3}. Best is trial 28 with value: 0.23746129699614543.\n",
      "bagging, val_score: 0.237461:  70%|#####################################                | 7/10 [00:15<00:06,  2.29s/it]"
     ]
    },
    {
     "name": "stdout",
     "output_type": "stream",
     "text": [
      "[300]\tcv_agg's l2: 0.308116 + 0.0601347\n",
      "Early stopping, best iteration is:\n",
      "[225]\tcv_agg's l2: 0.237461 + 0.054843\n",
      "[100]\tcv_agg's l2: 0.245177 + 0.0600491\n",
      "[200]\tcv_agg's l2: 0.240409 + 0.0568421\n"
     ]
    },
    {
     "name": "stderr",
     "output_type": "stream",
     "text": [
      "\r",
      "bagging, val_score: 0.237461:  70%|#####################################                | 7/10 [00:18<00:06,  2.29s/it]"
     ]
    },
    {
     "name": "stdout",
     "output_type": "stream",
     "text": [
      "[300]\tcv_agg's l2: 0.241834 + 0.0540906\n",
      "Early stopping, best iteration is:\n",
      "[225]\tcv_agg's l2: 0.237461 + 0.054843\n"
     ]
    },
    {
     "name": "stderr",
     "output_type": "stream",
     "text": [
      "bagging, val_score: 0.237461:  80%|##########################################4          | 8/10 [00:18<00:04,  2.28s/it][I 2023-10-28 22:33:33,542] Trial 34 finished with value: 0.24041886577438415 and parameters: {'bagging_fraction': 0.8374842589890443, 'bagging_freq': 1}. Best is trial 28 with value: 0.23746129699614543.\n",
      "bagging, val_score: 0.237461:  80%|##########################################4          | 8/10 [00:18<00:04,  2.28s/it]"
     ]
    },
    {
     "name": "stdout",
     "output_type": "stream",
     "text": [
      "[100]\tcv_agg's l2: 0.247373 + 0.0541917\n",
      "[200]\tcv_agg's l2: 0.242362 + 0.0487727\n"
     ]
    },
    {
     "name": "stderr",
     "output_type": "stream",
     "text": [
      "bagging, val_score: 0.237461:  90%|###############################################7     | 9/10 [00:20<00:02,  2.29s/it][I 2023-10-28 22:33:35,851] Trial 35 finished with value: 0.24290978809015457 and parameters: {'bagging_fraction': 0.8142697561187167, 'bagging_freq': 5}. Best is trial 28 with value: 0.23746129699614543.\n",
      "bagging, val_score: 0.237461:  90%|###############################################7     | 9/10 [00:20<00:02,  2.29s/it]"
     ]
    },
    {
     "name": "stdout",
     "output_type": "stream",
     "text": [
      "[300]\tcv_agg's l2: 0.249369 + 0.0467615\n",
      "Early stopping, best iteration is:\n",
      "[225]\tcv_agg's l2: 0.237461 + 0.054843\n",
      "[100]\tcv_agg's l2: 0.250749 + 0.0641834\n",
      "[200]\tcv_agg's l2: 0.247218 + 0.0626602\n"
     ]
    },
    {
     "name": "stderr",
     "output_type": "stream",
     "text": [
      "bagging, val_score: 0.237461: 100%|####################################################| 10/10 [00:22<00:00,  2.31s/it][I 2023-10-28 22:33:38,195] Trial 36 finished with value: 0.24697228586499645 and parameters: {'bagging_fraction': 0.7867683771766362, 'bagging_freq': 3}. Best is trial 28 with value: 0.23746129699614543.\n",
      "bagging, val_score: 0.237461: 100%|####################################################| 10/10 [00:22<00:00,  2.28s/it]\n"
     ]
    },
    {
     "name": "stdout",
     "output_type": "stream",
     "text": [
      "[300]\tcv_agg's l2: 0.249643 + 0.0581541\n",
      "Early stopping, best iteration is:\n",
      "[225]\tcv_agg's l2: 0.237461 + 0.054843\n"
     ]
    },
    {
     "name": "stderr",
     "output_type": "stream",
     "text": [
      "feature_fraction_stage2, val_score: 0.237461:   0%|                                              | 0/6 [00:00<?, ?it/s]"
     ]
    },
    {
     "name": "stdout",
     "output_type": "stream",
     "text": [
      "[100]\tcv_agg's l2: 0.241445 + 0.0597723\n",
      "[200]\tcv_agg's l2: 0.238347 + 0.0547737\n"
     ]
    },
    {
     "name": "stderr",
     "output_type": "stream",
     "text": [
      "\r",
      "feature_fraction_stage2, val_score: 0.237461:   0%|                                              | 0/6 [00:02<?, ?it/s]"
     ]
    },
    {
     "name": "stdout",
     "output_type": "stream",
     "text": [
      "[300]\tcv_agg's l2: 0.240721 + 0.0525721\n",
      "Early stopping, best iteration is:\n",
      "[225]\tcv_agg's l2: 0.237461 + 0.054843\n"
     ]
    },
    {
     "name": "stderr",
     "output_type": "stream",
     "text": [
      "feature_fraction_stage2, val_score: 0.237461:  17%|######3                               | 1/6 [00:02<00:11,  2.21s/it][I 2023-10-28 22:33:40,408] Trial 37 finished with value: 0.23746129699614543 and parameters: {'feature_fraction': 0.852}. Best is trial 37 with value: 0.23746129699614543.\n",
      "feature_fraction_stage2, val_score: 0.237461:  17%|######3                               | 1/6 [00:02<00:11,  2.21s/it]"
     ]
    },
    {
     "name": "stdout",
     "output_type": "stream",
     "text": [
      "[100]\tcv_agg's l2: 0.241445 + 0.0597723\n",
      "[200]\tcv_agg's l2: 0.238347 + 0.0547737\n"
     ]
    },
    {
     "name": "stderr",
     "output_type": "stream",
     "text": [
      "feature_fraction_stage2, val_score: 0.237461:  33%|############6                         | 2/6 [00:04<00:08,  2.23s/it][I 2023-10-28 22:33:42,649] Trial 38 finished with value: 0.23746129699614543 and parameters: {'feature_fraction': 0.9159999999999999}. Best is trial 37 with value: 0.23746129699614543.\n",
      "feature_fraction_stage2, val_score: 0.237461:  33%|############6                         | 2/6 [00:04<00:08,  2.23s/it]"
     ]
    },
    {
     "name": "stdout",
     "output_type": "stream",
     "text": [
      "[300]\tcv_agg's l2: 0.240721 + 0.0525721\n",
      "Early stopping, best iteration is:\n",
      "[225]\tcv_agg's l2: 0.237461 + 0.054843\n",
      "[100]\tcv_agg's l2: 0.24795 + 0.0645948\n",
      "[200]\tcv_agg's l2: 0.248967 + 0.063808\n"
     ]
    },
    {
     "name": "stderr",
     "output_type": "stream",
     "text": [
      "feature_fraction_stage2, val_score: 0.237461:  50%|###################                   | 3/6 [00:06<00:06,  2.28s/it][I 2023-10-28 22:33:44,993] Trial 39 finished with value: 0.24935990009466807 and parameters: {'feature_fraction': 0.948}. Best is trial 37 with value: 0.23746129699614543.\n",
      "feature_fraction_stage2, val_score: 0.237461:  50%|###################                   | 3/6 [00:06<00:06,  2.28s/it]"
     ]
    },
    {
     "name": "stdout",
     "output_type": "stream",
     "text": [
      "[300]\tcv_agg's l2: 0.251411 + 0.0649579\n",
      "Early stopping, best iteration is:\n",
      "[225]\tcv_agg's l2: 0.237461 + 0.054843\n",
      "[100]\tcv_agg's l2: 0.241445 + 0.0597723\n",
      "[200]\tcv_agg's l2: 0.238347 + 0.0547737\n"
     ]
    },
    {
     "name": "stderr",
     "output_type": "stream",
     "text": [
      "\r",
      "feature_fraction_stage2, val_score: 0.237461:  50%|###################                   | 3/6 [00:09<00:06,  2.28s/it]"
     ]
    },
    {
     "name": "stdout",
     "output_type": "stream",
     "text": [
      "[300]\tcv_agg's l2: 0.240721 + 0.0525721\n",
      "Early stopping, best iteration is:\n",
      "[225]\tcv_agg's l2: 0.237461 + 0.054843\n"
     ]
    },
    {
     "name": "stderr",
     "output_type": "stream",
     "text": [
      "feature_fraction_stage2, val_score: 0.237461:  67%|#########################3            | 4/6 [00:09<00:04,  2.27s/it][I 2023-10-28 22:33:47,240] Trial 40 finished with value: 0.23746129699614543 and parameters: {'feature_fraction': 0.8839999999999999}. Best is trial 37 with value: 0.23746129699614543.\n",
      "feature_fraction_stage2, val_score: 0.237461:  67%|#########################3            | 4/6 [00:09<00:04,  2.27s/it]"
     ]
    },
    {
     "name": "stdout",
     "output_type": "stream",
     "text": [
      "[100]\tcv_agg's l2: 0.24795 + 0.0645948\n",
      "[200]\tcv_agg's l2: 0.248967 + 0.063808\n"
     ]
    },
    {
     "name": "stderr",
     "output_type": "stream",
     "text": [
      "\r",
      "feature_fraction_stage2, val_score: 0.237461:  67%|#########################3            | 4/6 [00:11<00:04,  2.27s/it]"
     ]
    },
    {
     "name": "stdout",
     "output_type": "stream",
     "text": [
      "[300]\tcv_agg's l2: 0.251411 + 0.0649579\n",
      "Early stopping, best iteration is:\n",
      "[225]\tcv_agg's l2: 0.237461 + 0.054843\n"
     ]
    },
    {
     "name": "stderr",
     "output_type": "stream",
     "text": [
      "feature_fraction_stage2, val_score: 0.237461:  83%|###############################6      | 5/6 [00:11<00:02,  2.32s/it][I 2023-10-28 22:33:49,657] Trial 41 finished with value: 0.24935990009466807 and parameters: {'feature_fraction': 0.9799999999999999}. Best is trial 37 with value: 0.23746129699614543.\n",
      "feature_fraction_stage2, val_score: 0.237461:  83%|###############################6      | 5/6 [00:11<00:02,  2.32s/it]"
     ]
    },
    {
     "name": "stdout",
     "output_type": "stream",
     "text": [
      "[100]\tcv_agg's l2: 0.241445 + 0.0597723\n",
      "[200]\tcv_agg's l2: 0.238347 + 0.0547737\n"
     ]
    },
    {
     "name": "stderr",
     "output_type": "stream",
     "text": [
      "feature_fraction_stage2, val_score: 0.237461: 100%|######################################| 6/6 [00:14<00:00,  2.44s/it][I 2023-10-28 22:33:52,340] Trial 42 finished with value: 0.23746129699614543 and parameters: {'feature_fraction': 0.82}. Best is trial 37 with value: 0.23746129699614543.\n",
      "feature_fraction_stage2, val_score: 0.237461: 100%|######################################| 6/6 [00:14<00:00,  2.36s/it]\n"
     ]
    },
    {
     "name": "stdout",
     "output_type": "stream",
     "text": [
      "[300]\tcv_agg's l2: 0.240721 + 0.0525721\n",
      "Early stopping, best iteration is:\n",
      "[225]\tcv_agg's l2: 0.237461 + 0.054843\n"
     ]
    },
    {
     "name": "stderr",
     "output_type": "stream",
     "text": [
      "regularization_factors, val_score: 0.237461:   0%|                                              | 0/20 [00:00<?, ?it/s]"
     ]
    },
    {
     "name": "stdout",
     "output_type": "stream",
     "text": [
      "[100]\tcv_agg's l2: 0.248442 + 0.0714199\n",
      "[200]\tcv_agg's l2: 0.246636 + 0.0668226\n"
     ]
    },
    {
     "name": "stderr",
     "output_type": "stream",
     "text": [
      "regularization_factors, val_score: 0.237461:   5%|#9                                    | 1/20 [00:02<00:48,  2.56s/it]"
     ]
    },
    {
     "name": "stdout",
     "output_type": "stream",
     "text": [
      "[300]\tcv_agg's l2: 0.247985 + 0.0654481\n",
      "Early stopping, best iteration is:\n",
      "[225]\tcv_agg's l2: 0.237461 + 0.054843\n"
     ]
    },
    {
     "name": "stderr",
     "output_type": "stream",
     "text": [
      "[I 2023-10-28 22:33:54,908] Trial 43 finished with value: 0.2470251620188732 and parameters: {'lambda_l1': 0.3566590981108635, 'lambda_l2': 0.001697572848613005}. Best is trial 43 with value: 0.2470251620188732.\n",
      "regularization_factors, val_score: 0.237461:   5%|#9                                    | 1/20 [00:02<00:48,  2.56s/it]"
     ]
    },
    {
     "name": "stdout",
     "output_type": "stream",
     "text": [
      "[100]\tcv_agg's l2: 0.241445 + 0.0597723\n",
      "[200]\tcv_agg's l2: 0.238347 + 0.0547737\n",
      "[300]\tcv_agg's l2: 0.240721 + 0.0525721\n"
     ]
    },
    {
     "name": "stderr",
     "output_type": "stream",
     "text": [
      "regularization_factors, val_score: 0.237461:  10%|###8                                  | 2/20 [00:05<00:53,  2.95s/it][I 2023-10-28 22:33:58,135] Trial 44 finished with value: 0.23746129686944925 and parameters: {'lambda_l1': 1.7572184919224e-08, 'lambda_l2': 5.9329907642839584e-08}. Best is trial 44 with value: 0.23746129686944925.\n",
      "regularization_factors, val_score: 0.237461:  10%|###8                                  | 2/20 [00:05<00:53,  2.95s/it]"
     ]
    },
    {
     "name": "stdout",
     "output_type": "stream",
     "text": [
      "Early stopping, best iteration is:\n",
      "[225]\tcv_agg's l2: 0.237461 + 0.054843\n",
      "[100]\tcv_agg's l2: 0.241445 + 0.0597723\n",
      "[200]\tcv_agg's l2: 0.238347 + 0.0547737\n",
      "[300]\tcv_agg's l2: 0.240721 + 0.0525721\n"
     ]
    },
    {
     "name": "stderr",
     "output_type": "stream",
     "text": [
      "regularization_factors, val_score: 0.237461:  15%|#####7                                | 3/20 [00:09<00:57,  3.40s/it][I 2023-10-28 22:34:02,061] Trial 45 finished with value: 0.2374612968403261 and parameters: {'lambda_l1': 1.0979105736771544e-08, 'lambda_l2': 7.039504076115012e-08}. Best is trial 45 with value: 0.2374612968403261.\n",
      "regularization_factors, val_score: 0.237461:  15%|#####7                                | 3/20 [00:09<00:57,  3.40s/it]"
     ]
    },
    {
     "name": "stdout",
     "output_type": "stream",
     "text": [
      "Early stopping, best iteration is:\n",
      "[225]\tcv_agg's l2: 0.237461 + 0.054843\n",
      "[100]\tcv_agg's l2: 0.241445 + 0.0597723\n",
      "[200]\tcv_agg's l2: 0.238347 + 0.0547737\n"
     ]
    },
    {
     "name": "stderr",
     "output_type": "stream",
     "text": [
      "regularization_factors, val_score: 0.237461:  20%|#######6                              | 4/20 [00:12<00:48,  3.04s/it][I 2023-10-28 22:34:04,543] Trial 46 finished with value: 0.23746129691527243 and parameters: {'lambda_l1': 1.1104460519880536e-08, 'lambda_l2': 1.3153694368627984e-08}. Best is trial 45 with value: 0.2374612968403261.\n",
      "regularization_factors, val_score: 0.237461:  20%|#######6                              | 4/20 [00:12<00:48,  3.04s/it]"
     ]
    },
    {
     "name": "stdout",
     "output_type": "stream",
     "text": [
      "[300]\tcv_agg's l2: 0.240721 + 0.0525721\n",
      "Early stopping, best iteration is:\n",
      "[225]\tcv_agg's l2: 0.237461 + 0.054843\n",
      "[100]\tcv_agg's l2: 0.241445 + 0.0597723\n",
      "[200]\tcv_agg's l2: 0.238347 + 0.0547737\n"
     ]
    },
    {
     "name": "stderr",
     "output_type": "stream",
     "text": [
      "\r",
      "regularization_factors, val_score: 0.237461:  20%|#######6                              | 4/20 [00:14<00:48,  3.04s/it]"
     ]
    },
    {
     "name": "stdout",
     "output_type": "stream",
     "text": [
      "[300]\tcv_agg's l2: 0.240721 + 0.0525721\n",
      "Early stopping, best iteration is:\n",
      "[225]\tcv_agg's l2: 0.237461 + 0.054843\n"
     ]
    },
    {
     "name": "stderr",
     "output_type": "stream",
     "text": [
      "regularization_factors, val_score: 0.237461:  25%|#########5                            | 5/20 [00:14<00:41,  2.79s/it][I 2023-10-28 22:34:06,890] Trial 47 finished with value: 0.23746129691050627 and parameters: {'lambda_l1': 1.117770650276341e-08, 'lambda_l2': 1.4834834506522897e-08}. Best is trial 45 with value: 0.2374612968403261.\n",
      "regularization_factors, val_score: 0.237461:  25%|#########5                            | 5/20 [00:14<00:41,  2.79s/it]"
     ]
    },
    {
     "name": "stdout",
     "output_type": "stream",
     "text": [
      "[100]\tcv_agg's l2: 0.241445 + 0.0597723\n",
      "[200]\tcv_agg's l2: 0.238347 + 0.0547737\n"
     ]
    },
    {
     "name": "stderr",
     "output_type": "stream",
     "text": [
      "regularization_factors, val_score: 0.237461:  30%|###########4                          | 6/20 [00:16<00:36,  2.61s/it][I 2023-10-28 22:34:09,168] Trial 48 finished with value: 0.23746129691880116 and parameters: {'lambda_l1': 1.1034697850844726e-08, 'lambda_l2': 1.2064367925059635e-08}. Best is trial 45 with value: 0.2374612968403261.\n",
      "regularization_factors, val_score: 0.237461:  30%|###########4                          | 6/20 [00:16<00:36,  2.61s/it]"
     ]
    },
    {
     "name": "stdout",
     "output_type": "stream",
     "text": [
      "[300]\tcv_agg's l2: 0.240721 + 0.0525721\n",
      "Early stopping, best iteration is:\n",
      "[225]\tcv_agg's l2: 0.237461 + 0.054843\n",
      "[100]\tcv_agg's l2: 0.241445 + 0.0597723\n",
      "[200]\tcv_agg's l2: 0.238347 + 0.0547737\n"
     ]
    },
    {
     "name": "stderr",
     "output_type": "stream",
     "text": [
      "regularization_factors, val_score: 0.237461:  35%|#############3                        | 7/20 [00:19<00:32,  2.49s/it][I 2023-10-28 22:34:11,396] Trial 49 finished with value: 0.2374612969161889 and parameters: {'lambda_l1': 1.2928991643276291e-08, 'lambda_l2': 1.0034644320259715e-08}. Best is trial 45 with value: 0.2374612968403261.\n",
      "regularization_factors, val_score: 0.237461:  35%|#############3                        | 7/20 [00:19<00:32,  2.49s/it]"
     ]
    },
    {
     "name": "stdout",
     "output_type": "stream",
     "text": [
      "[300]\tcv_agg's l2: 0.240721 + 0.0525721\n",
      "Early stopping, best iteration is:\n",
      "[225]\tcv_agg's l2: 0.237461 + 0.054843\n",
      "[100]\tcv_agg's l2: 0.241445 + 0.0597723\n",
      "[200]\tcv_agg's l2: 0.238347 + 0.0547737\n"
     ]
    },
    {
     "name": "stderr",
     "output_type": "stream",
     "text": [
      "regularization_factors, val_score: 0.237461:  40%|###############2                      | 8/20 [00:21<00:28,  2.40s/it][I 2023-10-28 22:34:13,616] Trial 50 finished with value: 0.23746129691907097 and parameters: {'lambda_l1': 1.5876129600774325e-08, 'lambda_l2': 1.3154532101609802e-08}. Best is trial 45 with value: 0.2374612968403261.\n",
      "regularization_factors, val_score: 0.237461:  40%|###############2                      | 8/20 [00:21<00:28,  2.40s/it]"
     ]
    },
    {
     "name": "stdout",
     "output_type": "stream",
     "text": [
      "[300]\tcv_agg's l2: 0.240721 + 0.0525721\n",
      "Early stopping, best iteration is:\n",
      "[225]\tcv_agg's l2: 0.237461 + 0.054843\n",
      "[100]\tcv_agg's l2: 0.241445 + 0.0597723\n",
      "[200]\tcv_agg's l2: 0.238347 + 0.0547737\n"
     ]
    },
    {
     "name": "stderr",
     "output_type": "stream",
     "text": [
      "\r",
      "regularization_factors, val_score: 0.237461:  40%|###############2                      | 8/20 [00:23<00:28,  2.40s/it]"
     ]
    },
    {
     "name": "stdout",
     "output_type": "stream",
     "text": [
      "[300]\tcv_agg's l2: 0.240721 + 0.0525721\n",
      "Early stopping, best iteration is:\n",
      "[225]\tcv_agg's l2: 0.237461 + 0.054843\n"
     ]
    },
    {
     "name": "stderr",
     "output_type": "stream",
     "text": [
      "regularization_factors, val_score: 0.237461:  45%|#################1                    | 9/20 [00:23<00:25,  2.32s/it][I 2023-10-28 22:34:15,756] Trial 51 finished with value: 0.2374612969227663 and parameters: {'lambda_l1': 1.0082015634911858e-08, 'lambda_l2': 1.352257629852846e-08}. Best is trial 45 with value: 0.2374612968403261.\n",
      "regularization_factors, val_score: 0.237461:  45%|#################1                    | 9/20 [00:23<00:25,  2.32s/it]"
     ]
    },
    {
     "name": "stdout",
     "output_type": "stream",
     "text": [
      "[100]\tcv_agg's l2: 0.241445 + 0.0597723\n",
      "[200]\tcv_agg's l2: 0.238347 + 0.0547737\n"
     ]
    },
    {
     "name": "stderr",
     "output_type": "stream",
     "text": [
      "regularization_factors, val_score: 0.237461:  50%|##################5                  | 10/20 [00:25<00:22,  2.28s/it][I 2023-10-28 22:34:17,958] Trial 52 finished with value: 0.2374612969300764 and parameters: {'lambda_l1': 1.1461683313455544e-08, 'lambda_l2': 1.3537307509417186e-08}. Best is trial 45 with value: 0.2374612968403261.\n",
      "regularization_factors, val_score: 0.237461:  50%|##################5                  | 10/20 [00:25<00:22,  2.28s/it]"
     ]
    },
    {
     "name": "stdout",
     "output_type": "stream",
     "text": [
      "[300]\tcv_agg's l2: 0.240721 + 0.0525721\n",
      "Early stopping, best iteration is:\n",
      "[225]\tcv_agg's l2: 0.237461 + 0.054843\n",
      "[100]\tcv_agg's l2: 0.241445 + 0.0597723\n",
      "[200]\tcv_agg's l2: 0.238347 + 0.0547737\n"
     ]
    },
    {
     "name": "stderr",
     "output_type": "stream",
     "text": [
      "regularization_factors, val_score: 0.237461:  55%|####################3                | 11/20 [00:27<00:20,  2.28s/it][I 2023-10-28 22:34:20,228] Trial 53 finished with value: 0.23746129691124404 and parameters: {'lambda_l1': 1.1036845795820778e-08, 'lambda_l2': 1.490634021750108e-08}. Best is trial 45 with value: 0.2374612968403261.\n",
      "regularization_factors, val_score: 0.237461:  55%|####################3                | 11/20 [00:27<00:20,  2.28s/it]"
     ]
    },
    {
     "name": "stdout",
     "output_type": "stream",
     "text": [
      "[300]\tcv_agg's l2: 0.240721 + 0.0525721\n",
      "Early stopping, best iteration is:\n",
      "[225]\tcv_agg's l2: 0.237461 + 0.054843\n",
      "[100]\tcv_agg's l2: 0.241445 + 0.0597723\n",
      "[200]\tcv_agg's l2: 0.238347 + 0.0547737\n"
     ]
    },
    {
     "name": "stderr",
     "output_type": "stream",
     "text": [
      "regularization_factors, val_score: 0.237461:  60%|######################2              | 12/20 [00:30<00:17,  2.25s/it][I 2023-10-28 22:34:22,397] Trial 54 finished with value: 0.23746129692230386 and parameters: {'lambda_l1': 1.2967742222757515e-08, 'lambda_l2': 2.3586123715161418e-08}. Best is trial 45 with value: 0.2374612968403261.\n",
      "regularization_factors, val_score: 0.237461:  60%|######################2              | 12/20 [00:30<00:17,  2.25s/it]"
     ]
    },
    {
     "name": "stdout",
     "output_type": "stream",
     "text": [
      "[300]\tcv_agg's l2: 0.240721 + 0.0525721\n",
      "Early stopping, best iteration is:\n",
      "[225]\tcv_agg's l2: 0.237461 + 0.054843\n",
      "[100]\tcv_agg's l2: 0.241445 + 0.0597723\n",
      "[200]\tcv_agg's l2: 0.238347 + 0.0547737\n"
     ]
    },
    {
     "name": "stderr",
     "output_type": "stream",
     "text": [
      "regularization_factors, val_score: 0.237461:  65%|########################             | 13/20 [00:32<00:15,  2.25s/it][I 2023-10-28 22:34:24,663] Trial 55 finished with value: 0.2374612972154889 and parameters: {'lambda_l1': 1.6608875340592917e-08, 'lambda_l2': 2.4129204082908104e-07}. Best is trial 45 with value: 0.2374612968403261.\n",
      "regularization_factors, val_score: 0.237461:  65%|########################             | 13/20 [00:32<00:15,  2.25s/it]"
     ]
    },
    {
     "name": "stdout",
     "output_type": "stream",
     "text": [
      "[300]\tcv_agg's l2: 0.240721 + 0.0525721\n",
      "Early stopping, best iteration is:\n",
      "[225]\tcv_agg's l2: 0.237461 + 0.054843\n",
      "[100]\tcv_agg's l2: 0.241445 + 0.0597723\n",
      "[200]\tcv_agg's l2: 0.238347 + 0.0547737\n"
     ]
    },
    {
     "name": "stderr",
     "output_type": "stream",
     "text": [
      "\r",
      "regularization_factors, val_score: 0.237461:  65%|########################             | 13/20 [00:34<00:15,  2.25s/it]"
     ]
    },
    {
     "name": "stdout",
     "output_type": "stream",
     "text": [
      "[300]\tcv_agg's l2: 0.240721 + 0.0525721\n",
      "Early stopping, best iteration is:\n",
      "[225]\tcv_agg's l2: 0.237461 + 0.054843\n"
     ]
    },
    {
     "name": "stderr",
     "output_type": "stream",
     "text": [
      "regularization_factors, val_score: 0.237461:  70%|#########################9           | 14/20 [00:34<00:13,  2.31s/it][I 2023-10-28 22:34:27,096] Trial 56 finished with value: 0.23746129623312254 and parameters: {'lambda_l1': 4.0945940113992885e-07, 'lambda_l2': 1.0779162253630127e-06}. Best is trial 56 with value: 0.23746129623312254.\n",
      "regularization_factors, val_score: 0.237461:  70%|#########################9           | 14/20 [00:34<00:13,  2.31s/it]"
     ]
    },
    {
     "name": "stdout",
     "output_type": "stream",
     "text": [
      "[100]\tcv_agg's l2: 0.241445 + 0.0597723\n",
      "[200]\tcv_agg's l2: 0.238347 + 0.0547737\n"
     ]
    },
    {
     "name": "stderr",
     "output_type": "stream",
     "text": [
      "\r",
      "regularization_factors, val_score: 0.237461:  70%|#########################9           | 14/20 [00:37<00:13,  2.31s/it]"
     ]
    },
    {
     "name": "stdout",
     "output_type": "stream",
     "text": [
      "[300]\tcv_agg's l2: 0.240721 + 0.0525721\n",
      "Early stopping, best iteration is:\n",
      "[225]\tcv_agg's l2: 0.237461 + 0.054843\n"
     ]
    },
    {
     "name": "stderr",
     "output_type": "stream",
     "text": [
      "regularization_factors, val_score: 0.237461:  75%|###########################7         | 15/20 [00:37<00:12,  2.51s/it][I 2023-10-28 22:34:30,086] Trial 57 finished with value: 0.23746129284010298 and parameters: {'lambda_l1': 2.6951111599521486e-06, 'lambda_l2': 1.4704338452328837e-06}. Best is trial 57 with value: 0.23746129284010298.\n",
      "regularization_factors, val_score: 0.237461:  75%|###########################7         | 15/20 [00:37<00:12,  2.51s/it]"
     ]
    },
    {
     "name": "stdout",
     "output_type": "stream",
     "text": [
      "[100]\tcv_agg's l2: 0.241445 + 0.0597723\n",
      "[200]\tcv_agg's l2: 0.238347 + 0.0547737\n"
     ]
    },
    {
     "name": "stderr",
     "output_type": "stream",
     "text": [
      "\r",
      "regularization_factors, val_score: 0.237461:  75%|###########################7         | 15/20 [00:40<00:12,  2.51s/it]"
     ]
    },
    {
     "name": "stdout",
     "output_type": "stream",
     "text": [
      "[300]\tcv_agg's l2: 0.240721 + 0.0525721\n",
      "Early stopping, best iteration is:\n",
      "[225]\tcv_agg's l2: 0.237461 + 0.054843\n"
     ]
    },
    {
     "name": "stderr",
     "output_type": "stream",
     "text": [
      "regularization_factors, val_score: 0.237461:  80%|#############################6       | 16/20 [00:40<00:09,  2.47s/it][I 2023-10-28 22:34:32,452] Trial 58 finished with value: 0.23746129460065774 and parameters: {'lambda_l1': 9.575457388738304e-07, 'lambda_l2': 3.353382712323759e-06}. Best is trial 57 with value: 0.23746129284010298.\n",
      "regularization_factors, val_score: 0.237461:  80%|#############################6       | 16/20 [00:40<00:09,  2.47s/it]"
     ]
    },
    {
     "name": "stdout",
     "output_type": "stream",
     "text": [
      "[100]\tcv_agg's l2: 0.241445 + 0.0597723\n",
      "[200]\tcv_agg's l2: 0.238347 + 0.0547737\n",
      "[300]\tcv_agg's l2: 0.240721 + 0.0525721\n"
     ]
    },
    {
     "name": "stderr",
     "output_type": "stream",
     "text": [
      "regularization_factors, val_score: 0.237461:  85%|###############################4     | 17/20 [00:42<00:07,  2.51s/it][I 2023-10-28 22:34:35,069] Trial 59 finished with value: 0.23746129423189072 and parameters: {'lambda_l1': 1.4558827625084648e-06, 'lambda_l2': 1.7035481042827278e-06}. Best is trial 57 with value: 0.23746129284010298.\n",
      "regularization_factors, val_score: 0.237461:  85%|###############################4     | 17/20 [00:42<00:07,  2.51s/it]"
     ]
    },
    {
     "name": "stdout",
     "output_type": "stream",
     "text": [
      "Early stopping, best iteration is:\n",
      "[225]\tcv_agg's l2: 0.237461 + 0.054843\n",
      "[100]\tcv_agg's l2: 0.241445 + 0.0597723\n",
      "[200]\tcv_agg's l2: 0.238347 + 0.0547737\n"
     ]
    },
    {
     "name": "stderr",
     "output_type": "stream",
     "text": [
      "\r",
      "regularization_factors, val_score: 0.237461:  85%|###############################4     | 17/20 [00:45<00:07,  2.51s/it]"
     ]
    },
    {
     "name": "stdout",
     "output_type": "stream",
     "text": [
      "[300]\tcv_agg's l2: 0.240721 + 0.0525721\n",
      "Early stopping, best iteration is:\n",
      "[225]\tcv_agg's l2: 0.237461 + 0.054843\n"
     ]
    },
    {
     "name": "stderr",
     "output_type": "stream",
     "text": [
      "regularization_factors, val_score: 0.237461:  90%|#################################3   | 18/20 [00:45<00:05,  2.52s/it][I 2023-10-28 22:34:37,590] Trial 60 finished with value: 0.23746129469308416 and parameters: {'lambda_l1': 1.0524977863256087e-06, 'lambda_l2': 2.616226297037363e-06}. Best is trial 57 with value: 0.23746129284010298.\n",
      "regularization_factors, val_score: 0.237461:  90%|#################################3   | 18/20 [00:45<00:05,  2.52s/it]"
     ]
    },
    {
     "name": "stdout",
     "output_type": "stream",
     "text": [
      "[100]\tcv_agg's l2: 0.241445 + 0.0597723\n",
      "[200]\tcv_agg's l2: 0.238347 + 0.0547737\n"
     ]
    },
    {
     "name": "stderr",
     "output_type": "stream",
     "text": [
      "regularization_factors, val_score: 0.237461:  95%|###################################1 | 19/20 [00:47<00:02,  2.47s/it][I 2023-10-28 22:34:39,962] Trial 61 finished with value: 0.23746129465196741 and parameters: {'lambda_l1': 9.772201841849896e-07, 'lambda_l2': 2.752907817544274e-06}. Best is trial 57 with value: 0.23746129284010298.\n",
      "regularization_factors, val_score: 0.237461:  95%|###################################1 | 19/20 [00:47<00:02,  2.47s/it]"
     ]
    },
    {
     "name": "stdout",
     "output_type": "stream",
     "text": [
      "[300]\tcv_agg's l2: 0.240721 + 0.0525721\n",
      "Early stopping, best iteration is:\n",
      "[225]\tcv_agg's l2: 0.237461 + 0.054843\n",
      "[100]\tcv_agg's l2: 0.241445 + 0.0597723\n",
      "[200]\tcv_agg's l2: 0.238347 + 0.0547737\n"
     ]
    },
    {
     "name": "stderr",
     "output_type": "stream",
     "text": [
      "regularization_factors, val_score: 0.237461: 100%|#####################################| 20/20 [00:49<00:00,  2.43s/it][I 2023-10-28 22:34:42,302] Trial 62 finished with value: 0.23746129465384272 and parameters: {'lambda_l1': 8.878701744759655e-07, 'lambda_l2': 3.8046372840716405e-06}. Best is trial 57 with value: 0.23746129284010298.\n",
      "regularization_factors, val_score: 0.237461: 100%|#####################################| 20/20 [00:49<00:00,  2.50s/it]\n"
     ]
    },
    {
     "name": "stdout",
     "output_type": "stream",
     "text": [
      "[300]\tcv_agg's l2: 0.240721 + 0.0525721\n",
      "Early stopping, best iteration is:\n",
      "[225]\tcv_agg's l2: 0.237461 + 0.054843\n"
     ]
    },
    {
     "name": "stderr",
     "output_type": "stream",
     "text": [
      "min_data_in_leaf, val_score: 0.237461:   0%|                                                     | 0/5 [00:00<?, ?it/s]"
     ]
    },
    {
     "name": "stdout",
     "output_type": "stream",
     "text": [
      "[100]\tcv_agg's l2: 0.22875 + 0.0661268\n"
     ]
    },
    {
     "name": "stderr",
     "output_type": "stream",
     "text": [
      "min_data_in_leaf, val_score: 0.228570:  20%|#########                                    | 1/5 [00:01<00:05,  1.30s/it][I 2023-10-28 22:34:43,611] Trial 63 finished with value: 0.22856959828996642 and parameters: {'min_child_samples': 10}. Best is trial 63 with value: 0.22856959828996642.\n",
      "min_data_in_leaf, val_score: 0.228570:  20%|#########                                    | 1/5 [00:01<00:05,  1.30s/it]"
     ]
    },
    {
     "name": "stdout",
     "output_type": "stream",
     "text": [
      "Early stopping, best iteration is:\n",
      "[88]\tcv_agg's l2: 0.22857 + 0.0651721\n",
      "[100]\tcv_agg's l2: 0.26763 + 0.0758962\n"
     ]
    },
    {
     "name": "stderr",
     "output_type": "stream",
     "text": [
      "min_data_in_leaf, val_score: 0.228570:  40%|##################                           | 2/5 [00:02<00:03,  1.30s/it][I 2023-10-28 22:34:44,912] Trial 64 finished with value: 0.2688981329923437 and parameters: {'min_child_samples': 25}. Best is trial 63 with value: 0.22856959828996642.\n",
      "min_data_in_leaf, val_score: 0.228570:  40%|##################                           | 2/5 [00:02<00:03,  1.30s/it]"
     ]
    },
    {
     "name": "stdout",
     "output_type": "stream",
     "text": [
      "Early stopping, best iteration is:\n",
      "[88]\tcv_agg's l2: 0.22857 + 0.0651721\n",
      "[100]\tcv_agg's l2: 0.225683 + 0.0612087\n",
      "[200]\tcv_agg's l2: 0.22359 + 0.0610094\n"
     ]
    },
    {
     "name": "stderr",
     "output_type": "stream",
     "text": [
      "min_data_in_leaf, val_score: 0.223016:  60%|###########################                  | 3/5 [00:04<00:03,  1.67s/it][I 2023-10-28 22:34:47,029] Trial 65 finished with value: 0.2230155485539264 and parameters: {'min_child_samples': 5}. Best is trial 65 with value: 0.2230155485539264.\n",
      "min_data_in_leaf, val_score: 0.223016:  60%|###########################                  | 3/5 [00:04<00:03,  1.67s/it]"
     ]
    },
    {
     "name": "stdout",
     "output_type": "stream",
     "text": [
      "Early stopping, best iteration is:\n",
      "[189]\tcv_agg's l2: 0.223016 + 0.0611176\n",
      "[100]\tcv_agg's l2: 0.844568 + 0.0630381\n",
      "[200]\tcv_agg's l2: 0.812835 + 0.0719264\n"
     ]
    },
    {
     "name": "stderr",
     "output_type": "stream",
     "text": [
      "min_data_in_leaf, val_score: 0.223016:  80%|####################################         | 4/5 [00:06<00:01,  1.53s/it][I 2023-10-28 22:34:48,346] Trial 66 finished with value: 0.814698472493923 and parameters: {'min_child_samples': 100}. Best is trial 65 with value: 0.2230155485539264.\n",
      "min_data_in_leaf, val_score: 0.223016:  80%|####################################         | 4/5 [00:06<00:01,  1.53s/it]"
     ]
    },
    {
     "name": "stdout",
     "output_type": "stream",
     "text": [
      "Early stopping, best iteration is:\n",
      "[189]\tcv_agg's l2: 0.223016 + 0.0611176\n",
      "[100]\tcv_agg's l2: 0.338361 + 0.0879649\n",
      "[200]\tcv_agg's l2: 0.335374 + 0.0807502\n"
     ]
    },
    {
     "name": "stderr",
     "output_type": "stream",
     "text": [
      "min_data_in_leaf, val_score: 0.223016: 100%|#############################################| 5/5 [00:08<00:00,  1.72s/it][I 2023-10-28 22:34:50,410] Trial 67 finished with value: 0.33560897655620225 and parameters: {'min_child_samples': 50}. Best is trial 65 with value: 0.2230155485539264.\n",
      "min_data_in_leaf, val_score: 0.223016: 100%|#############################################| 5/5 [00:08<00:00,  1.62s/it]"
     ]
    },
    {
     "name": "stdout",
     "output_type": "stream",
     "text": [
      "Early stopping, best iteration is:\n",
      "[189]\tcv_agg's l2: 0.223016 + 0.0611176\n"
     ]
    },
    {
     "name": "stderr",
     "output_type": "stream",
     "text": [
      "\n"
     ]
    }
   ],
   "source": [
    "import optuna.integration.lightgbm as lgb\n",
    "from lightgbm import early_stopping\n",
    "from sklearn.model_selection import KFold\n",
    "from sklearn.model_selection import RepeatedKFold\n",
    "\n",
    "\n",
    "lgb_train = lgb.Dataset(X_train_random_split, y_train_random_split)\n",
    "\n",
    "params = {\n",
    "    \"boosting_type\": \"gbdt\",\n",
    "    \"objective\": \"regression\",\n",
    "    \"metric\": \"l2\",\n",
    "    \"verbosity\": -1,\n",
    "}\n",
    "\n",
    "tuner = lgb.LightGBMTunerCV(\n",
    "    params,\n",
    "    lgb_train,\n",
    "    folds=KFold(n_splits=5),\n",
    "    num_boost_round=10000,\n",
    "    callbacks=[early_stopping(100), log_evaluation(100)],\n",
    ")\n",
    "\n",
    "tuner.run()"
   ]
  },
  {
   "cell_type": "code",
   "execution_count": 71,
   "id": "0079a348",
   "metadata": {},
   "outputs": [
    {
     "name": "stdout",
     "output_type": "stream",
     "text": [
      "Best score: 0.2230155485539264\n",
      "Params: \n",
      "    boosting_type: gbdt\n",
      "    objective: regression\n",
      "    metric: l2\n",
      "    verbosity: -1\n",
      "    feature_pre_filter: False\n",
      "    lambda_l1: 2.6951111599521486e-06\n",
      "    lambda_l2: 1.4704338452328837e-06\n",
      "    num_leaves: 11\n",
      "    feature_fraction: 0.8999999999999999\n",
      "    bagging_fraction: 0.9602651689150259\n",
      "    bagging_freq: 1\n",
      "    min_child_samples: 5\n"
     ]
    }
   ],
   "source": [
    "print(f\"Best score: {tuner.best_score}\")\n",
    "best_params = tuner.best_params\n",
    "print(\"Params: \")\n",
    "for key, value in best_params.items():\n",
    "    print(\"    {}: {}\".format(key, value))"
   ]
  },
  {
   "cell_type": "code",
   "execution_count": 72,
   "id": "ee599f57",
   "metadata": {},
   "outputs": [],
   "source": [
    "import lightgbm as lgb\n",
    "\n",
    "lgb_tuned = lgb.train(\n",
    "    best_params,\n",
    "    lgb_train,\n",
    "    num_boost_round=10000,\n",
    ")"
   ]
  },
  {
   "cell_type": "code",
   "execution_count": 73,
   "id": "f18b0204",
   "metadata": {},
   "outputs": [
    {
     "name": "stdout",
     "output_type": "stream",
     "text": [
      "RMSE train: 0.00\n",
      "RMSE test: 0.50\n",
      "MSE test: 0.25\n",
      "MAE test: 0.32\n",
      "\n"
     ]
    }
   ],
   "source": [
    "rmse, mse, mae = assess_regression_model(\n",
    "    lgb_tuned,\n",
    "    X_train_random_split,\n",
    "    X_test_random_split,\n",
    "    y_train_random_split,\n",
    "    y_test_random_split,\n",
    ")"
   ]
  },
  {
   "cell_type": "code",
   "execution_count": 74,
   "id": "13d87eed",
   "metadata": {},
   "outputs": [],
   "source": [
    "results.loc[3] = [\"random\", \"Optuna\", len(X_test.columns), mse, rmse, mae]"
   ]
  },
  {
   "cell_type": "markdown",
   "id": "9d13b101",
   "metadata": {},
   "source": [
    "###### MAE by level"
   ]
  },
  {
   "cell_type": "code",
   "execution_count": 75,
   "id": "e998d241",
   "metadata": {},
   "outputs": [
    {
     "data": {
      "image/png": "[encoded data removed]",
      "text/plain": [
       "<Figure size 720x432 with 1 Axes>"
      ]
     },
     "metadata": {
      "needs_background": "light"
     },
     "output_type": "display_data"
    }
   ],
   "source": [
    "import matplotlib.pyplot as plt\n",
    "\n",
    "y_test_random_split = y_test_random_split.reset_index(drop=True)\n",
    "level_max = y_test_random_split.max()\n",
    "\n",
    "mae_by_level = pd.DataFrame(columns=[\"level\", \"mae\"])\n",
    "for lvl in range(-1, level_max + 1):\n",
    "    y_test_curr = y_test_random_split[y_test_random_split == lvl]\n",
    "    y_pred_test_curr = pd.DataFrame(y_pred_test)[y_test_random_split == lvl]\n",
    "\n",
    "    mae = mean_absolute_error(y_test_curr, y_pred_test_curr)\n",
    "    mae_by_level.loc[lvl + 1] = [lvl, mae]\n",
    "\n",
    "\n",
    "plt.figure(figsize=(10, 6))\n",
    "plt.bar(mae_by_level[\"level\"], mae_by_level[\"mae\"])\n",
    "plt.xlabel(\"Level\")\n",
    "plt.ylabel(\"Mean Absolute Error (MAE)\")\n",
    "plt.title(\"MAE by level\")\n",
    "plt.xticks(mae_by_level[\"level\"])\n",
    "plt.show()"
   ]
  },
  {
   "cell_type": "code",
   "execution_count": 76,
   "id": "061d7eba",
   "metadata": {},
   "outputs": [
    {
     "name": "stdout",
     "output_type": "stream",
     "text": [
      "Normal:\n",
      "MSE: 0.11\n",
      "RMSE: 0.33\n",
      "\n",
      "Round type: round\n",
      "MSE: 0.11\n",
      "RMSE: 0.33\n",
      "\n",
      "Round type: 0.33\n",
      "MSE: 0.14\n",
      "RMSE: 0.37\n",
      "\n",
      "Round type: 0.45\n",
      "MSE: 0.12\n",
      "RMSE: 0.35\n",
      "\n"
     ]
    }
   ],
   "source": [
    "predict = lgb_tuned.predict(X_test)\n",
    "check_round_predictions([\"round\", 0.33, 0.45], y_test, predict)"
   ]
  },
  {
   "cell_type": "code",
   "execution_count": 77,
   "id": "9d56b725",
   "metadata": {},
   "outputs": [
    {
     "data": {
      "image/png": "[encoded data removed]",
      "text/plain": [
       "<Figure size 432x288 with 2 Axes>"
      ]
     },
     "metadata": {
      "needs_background": "light"
     },
     "output_type": "display_data"
    }
   ],
   "source": [
    "plot_confusion_matrix(\"round\", predict, y_test)"
   ]
  },
  {
   "cell_type": "markdown",
   "id": "ac941229",
   "metadata": {},
   "source": [
    "## Summary"
   ]
  },
  {
   "cell_type": "code",
   "execution_count": 78,
   "id": "90f5111f",
   "metadata": {
    "scrolled": false
   },
   "outputs": [
    {
     "data": {
      "text/html": [
       "<div>\n",
       "<style scoped>\n",
       "    .dataframe tbody tr th:only-of-type {\n",
       "        vertical-align: middle;\n",
       "    }\n",
       "\n",
       "    .dataframe tbody tr th {\n",
       "        vertical-align: top;\n",
       "    }\n",
       "\n",
       "    .dataframe thead th {\n",
       "        text-align: right;\n",
       "    }\n",
       "</style>\n",
       "<table border=\"1\" class=\"dataframe\">\n",
       "  <thead>\n",
       "    <tr style=\"text-align: right;\">\n",
       "      <th></th>\n",
       "      <th>Split type</th>\n",
       "      <th>Tuning type</th>\n",
       "      <th>Number of characteristics</th>\n",
       "      <th>MSE</th>\n",
       "      <th>RMSE</th>\n",
       "      <th>MAE</th>\n",
       "    </tr>\n",
       "  </thead>\n",
       "  <tbody>\n",
       "    <tr>\n",
       "      <th>0</th>\n",
       "      <td>chronological</td>\n",
       "      <td>normal</td>\n",
       "      <td>8</td>\n",
       "      <td>0.447566</td>\n",
       "      <td>0.669004</td>\n",
       "      <td>0.467604</td>\n",
       "    </tr>\n",
       "    <tr>\n",
       "      <th>1</th>\n",
       "      <td>chronological</td>\n",
       "      <td>Optuna</td>\n",
       "      <td>8</td>\n",
       "      <td>0.449565</td>\n",
       "      <td>0.670496</td>\n",
       "      <td>0.471456</td>\n",
       "    </tr>\n",
       "    <tr>\n",
       "      <th>3</th>\n",
       "      <td>random</td>\n",
       "      <td>normal</td>\n",
       "      <td>8</td>\n",
       "      <td>0.243018</td>\n",
       "      <td>0.492968</td>\n",
       "      <td>0.340495</td>\n",
       "    </tr>\n",
       "    <tr>\n",
       "      <th>4</th>\n",
       "      <td>random</td>\n",
       "      <td>Optuna</td>\n",
       "      <td>8</td>\n",
       "      <td>0.248872</td>\n",
       "      <td>0.498871</td>\n",
       "      <td>0.317802</td>\n",
       "    </tr>\n",
       "  </tbody>\n",
       "</table>\n",
       "</div>"
      ],
      "text/plain": [
       "      Split type Tuning type  Number of characteristics       MSE      RMSE  \\\n",
       "0  chronological      normal                          8  0.447566  0.669004   \n",
       "1  chronological      Optuna                          8  0.449565  0.670496   \n",
       "3         random      normal                          8  0.243018  0.492968   \n",
       "4         random      Optuna                          8  0.248872  0.498871   \n",
       "\n",
       "        MAE  \n",
       "0  0.467604  \n",
       "1  0.471456  \n",
       "3  0.340495  \n",
       "4  0.317802  "
      ]
     },
     "execution_count": 78,
     "metadata": {},
     "output_type": "execute_result"
    }
   ],
   "source": [
    "results"
   ]
  },
  {
   "cell_type": "code",
   "execution_count": 79,
   "id": "492161ff",
   "metadata": {},
   "outputs": [],
   "source": [
    "from training.results import plot_summary"
   ]
  },
  {
   "cell_type": "code",
   "execution_count": 80,
   "id": "df15e1a7",
   "metadata": {},
   "outputs": [
    {
     "data": {
      "image/png": "[encoded data removed]",
      "text/plain": [
       "<Figure size 1440x576 with 1 Axes>"
      ]
     },
     "metadata": {
      "needs_background": "light"
     },
     "output_type": "display_data"
    }
   ],
   "source": [
    "plot_summary(results, \"MSE\")"
   ]
  },
  {
   "cell_type": "code",
   "execution_count": 81,
   "id": "b44fe7c4",
   "metadata": {},
   "outputs": [
    {
     "data": {
      "image/png": "[encoded data removed]",
      "text/plain": [
       "<Figure size 1440x576 with 1 Axes>"
      ]
     },
     "metadata": {
      "needs_background": "light"
     },
     "output_type": "display_data"
    }
   ],
   "source": [
    "plot_summary(results, \"RMSE\")"
   ]
  },
  {
   "cell_type": "code",
   "execution_count": 82,
   "id": "d3509e28",
   "metadata": {},
   "outputs": [
    {
     "data": {
      "image/png": "[encoded data removed]",
      "text/plain": [
       "<Figure size 1440x576 with 1 Axes>"
      ]
     },
     "metadata": {
      "needs_background": "light"
     },
     "output_type": "display_data"
    }
   ],
   "source": [
    "plot_summary(results, \"MAE\")"
   ]
  },
  {
   "cell_type": "code",
   "execution_count": null,
   "id": "a8ce3754",
   "metadata": {},
   "outputs": [],
   "source": []
  },
  {
   "cell_type": "code",
   "execution_count": 83,
   "id": "c714119e",
   "metadata": {},
   "outputs": [],
   "source": [
    "results.to_json(\"./lightgbm_basic_results.json\")"
   ]
  },
  {
   "cell_type": "code",
   "execution_count": null,
   "id": "7bf01482",
   "metadata": {},
   "outputs": [],
   "source": []
  }
 ],
 "metadata": {
  "kernelspec": {
   "display_name": "Python 3 (ipykernel)",
   "language": "python",
   "name": "python3"
  },
  "language_info": {
   "codemirror_mode": {
    "name": "ipython",
    "version": 3
   },
   "file_extension": ".py",
   "mimetype": "text/x-python",
   "name": "python",
   "nbconvert_exporter": "python",
   "pygments_lexer": "ipython3",
   "version": "3.10.4"
  }
 },
 "nbformat": 4,
 "nbformat_minor": 5
}
