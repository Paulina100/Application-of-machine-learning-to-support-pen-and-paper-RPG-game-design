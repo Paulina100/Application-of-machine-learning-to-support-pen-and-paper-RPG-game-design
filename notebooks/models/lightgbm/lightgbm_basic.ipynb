{
 "cells": [
  {
   "cell_type": "markdown",
   "id": "f64a671f",
   "metadata": {},
   "source": [
    "# LightGBM\n",
    "### Parameters:\n",
    "* **abilities**:\n",
    "    * **cha**\n",
    "    * **con**\n",
    "    * **dex**\n",
    "    * **int**\n",
    "    * **str**\n",
    "    * **wis**\n",
    "* **attributes**\n",
    "    * **hp**\n",
    "    * **ac**\n",
    "\n",
    "### Prediction: *level*\n",
    "\n",
    "## Loading data"
   ]
  },
  {
   "cell_type": "code",
   "execution_count": 1,
   "id": "1f2515e7",
   "metadata": {},
   "outputs": [],
   "source": [
    "import numpy as np\n",
    "import pandas as pd\n",
    "import sys\n",
    "\n",
    "import os\n",
    "import pathlib\n",
    "\n",
    "sys.path.append(\"../../..\")\n",
    "from training.creating_dataset import load_and_preprocess_data\n",
    "\n",
    "current_path = os.getcwd()\n",
    "DATASETS_DIR = pathlib.Path(current_path).parent.parent.parent / \"pathfinder_2e_data\"\n",
    "DATASET_FILES = [\n",
    "    \"pathfinder-bestiary.db\",\n",
    "    \"pathfinder-bestiary-2.db\",\n",
    "    \"pathfinder-bestiary-3.db\",\n",
    "]\n",
    "DATASET_PATHS = [f\"{DATASETS_DIR}/{file}\" for file in DATASET_FILES]\n",
    "features = [\n",
    "    \"cha\",\n",
    "    \"con\",\n",
    "    \"dex\",\n",
    "    \"int\",\n",
    "    \"str\",\n",
    "    \"wis\",\n",
    "    \"ac\",\n",
    "    \"hp\",\n",
    "]\n",
    "\n",
    "df = load_and_preprocess_data(\n",
    "    DATASET_PATHS,\n",
    "    characteristics=features,\n",
    ")"
   ]
  },
  {
   "cell_type": "code",
   "execution_count": 2,
   "id": "b522f880",
   "metadata": {},
   "outputs": [
    {
     "name": "stdout",
     "output_type": "stream",
     "text": [
      "<class 'pandas.core.frame.DataFrame'>\n",
      "Int64Index: 1206 entries, 0 to 1205\n",
      "Data columns (total 10 columns):\n",
      " #   Column  Non-Null Count  Dtype \n",
      "---  ------  --------------  ----- \n",
      " 0   ac      1206 non-null   int64 \n",
      " 1   wis     1206 non-null   int64 \n",
      " 2   cha     1206 non-null   int64 \n",
      " 3   dex     1206 non-null   int64 \n",
      " 4   hp      1206 non-null   int64 \n",
      " 5   book    1206 non-null   object\n",
      " 6   level   1206 non-null   int64 \n",
      " 7   str     1206 non-null   int64 \n",
      " 8   con     1206 non-null   int64 \n",
      " 9   int     1206 non-null   int64 \n",
      "dtypes: int64(9), object(1)\n",
      "memory usage: 103.6+ KB\n"
     ]
    }
   ],
   "source": [
    "df.info()"
   ]
  },
  {
   "cell_type": "code",
   "execution_count": 3,
   "id": "1b5450d3",
   "metadata": {},
   "outputs": [
    {
     "data": {
      "text/html": [
       "<div>\n",
       "<style scoped>\n",
       "    .dataframe tbody tr th:only-of-type {\n",
       "        vertical-align: middle;\n",
       "    }\n",
       "\n",
       "    .dataframe tbody tr th {\n",
       "        vertical-align: top;\n",
       "    }\n",
       "\n",
       "    .dataframe thead th {\n",
       "        text-align: right;\n",
       "    }\n",
       "</style>\n",
       "<table border=\"1\" class=\"dataframe\">\n",
       "  <thead>\n",
       "    <tr style=\"text-align: right;\">\n",
       "      <th></th>\n",
       "      <th>ac</th>\n",
       "      <th>wis</th>\n",
       "      <th>cha</th>\n",
       "      <th>dex</th>\n",
       "      <th>hp</th>\n",
       "      <th>book</th>\n",
       "      <th>level</th>\n",
       "      <th>str</th>\n",
       "      <th>con</th>\n",
       "      <th>int</th>\n",
       "    </tr>\n",
       "  </thead>\n",
       "  <tbody>\n",
       "    <tr>\n",
       "      <th>0</th>\n",
       "      <td>29</td>\n",
       "      <td>2</td>\n",
       "      <td>1</td>\n",
       "      <td>2</td>\n",
       "      <td>215</td>\n",
       "      <td>Pathfinder Bestiary</td>\n",
       "      <td>10</td>\n",
       "      <td>7</td>\n",
       "      <td>5</td>\n",
       "      <td>1</td>\n",
       "    </tr>\n",
       "    <tr>\n",
       "      <th>1</th>\n",
       "      <td>28</td>\n",
       "      <td>2</td>\n",
       "      <td>1</td>\n",
       "      <td>0</td>\n",
       "      <td>220</td>\n",
       "      <td>Pathfinder Bestiary</td>\n",
       "      <td>10</td>\n",
       "      <td>9</td>\n",
       "      <td>5</td>\n",
       "      <td>-4</td>\n",
       "    </tr>\n",
       "    <tr>\n",
       "      <th>2</th>\n",
       "      <td>25</td>\n",
       "      <td>3</td>\n",
       "      <td>-2</td>\n",
       "      <td>3</td>\n",
       "      <td>175</td>\n",
       "      <td>Pathfinder Bestiary</td>\n",
       "      <td>8</td>\n",
       "      <td>7</td>\n",
       "      <td>6</td>\n",
       "      <td>-4</td>\n",
       "    </tr>\n",
       "    <tr>\n",
       "      <th>3</th>\n",
       "      <td>41</td>\n",
       "      <td>5</td>\n",
       "      <td>6</td>\n",
       "      <td>4</td>\n",
       "      <td>315</td>\n",
       "      <td>Pathfinder Bestiary</td>\n",
       "      <td>17</td>\n",
       "      <td>7</td>\n",
       "      <td>5</td>\n",
       "      <td>6</td>\n",
       "    </tr>\n",
       "    <tr>\n",
       "      <th>4</th>\n",
       "      <td>16</td>\n",
       "      <td>1</td>\n",
       "      <td>1</td>\n",
       "      <td>3</td>\n",
       "      <td>20</td>\n",
       "      <td>Pathfinder Bestiary</td>\n",
       "      <td>1</td>\n",
       "      <td>-5</td>\n",
       "      <td>1</td>\n",
       "      <td>-1</td>\n",
       "    </tr>\n",
       "  </tbody>\n",
       "</table>\n",
       "</div>"
      ],
      "text/plain": [
       "   ac  wis  cha  dex   hp                 book  level  str  con  int\n",
       "0  29    2    1    2  215  Pathfinder Bestiary     10    7    5    1\n",
       "1  28    2    1    0  220  Pathfinder Bestiary     10    9    5   -4\n",
       "2  25    3   -2    3  175  Pathfinder Bestiary      8    7    6   -4\n",
       "3  41    5    6    4  315  Pathfinder Bestiary     17    7    5    6\n",
       "4  16    1    1    3   20  Pathfinder Bestiary      1   -5    1   -1"
      ]
     },
     "execution_count": 3,
     "metadata": {},
     "output_type": "execute_result"
    }
   ],
   "source": [
    "df.head()"
   ]
  },
  {
   "cell_type": "markdown",
   "id": "0caa661f",
   "metadata": {},
   "source": [
    "###### Level"
   ]
  },
  {
   "cell_type": "code",
   "execution_count": 4,
   "id": "c200d2b4",
   "metadata": {},
   "outputs": [
    {
     "data": {
      "text/plain": [
       "0       10\n",
       "1       10\n",
       "2        8\n",
       "3       17\n",
       "4        1\n",
       "        ..\n",
       "1201    20\n",
       "1202    -1\n",
       "1203    12\n",
       "1204     6\n",
       "1205     6\n",
       "Name: level, Length: 1206, dtype: int64"
      ]
     },
     "execution_count": 4,
     "metadata": {},
     "output_type": "execute_result"
    }
   ],
   "source": [
    "y = df[\"level\"]\n",
    "y"
   ]
  },
  {
   "cell_type": "code",
   "execution_count": 5,
   "id": "553822a7",
   "metadata": {},
   "outputs": [],
   "source": [
    "from collections import defaultdict\n",
    "\n",
    "\n",
    "lvl_stat = defaultdict(lambda: 0)\n",
    "\n",
    "for lvl in y:\n",
    "    lvl_stat[lvl] += 1"
   ]
  },
  {
   "cell_type": "code",
   "execution_count": 6,
   "id": "e45d6c29",
   "metadata": {},
   "outputs": [
    {
     "data": {
      "text/html": [
       "<div>\n",
       "<style scoped>\n",
       "    .dataframe tbody tr th:only-of-type {\n",
       "        vertical-align: middle;\n",
       "    }\n",
       "\n",
       "    .dataframe tbody tr th {\n",
       "        vertical-align: top;\n",
       "    }\n",
       "\n",
       "    .dataframe thead th {\n",
       "        text-align: right;\n",
       "    }\n",
       "</style>\n",
       "<table border=\"1\" class=\"dataframe\">\n",
       "  <thead>\n",
       "    <tr style=\"text-align: right;\">\n",
       "      <th></th>\n",
       "      <th>lvl</th>\n",
       "      <th>count</th>\n",
       "    </tr>\n",
       "  </thead>\n",
       "  <tbody>\n",
       "    <tr>\n",
       "      <th>0</th>\n",
       "      <td>-1</td>\n",
       "      <td>34</td>\n",
       "    </tr>\n",
       "    <tr>\n",
       "      <th>1</th>\n",
       "      <td>0</td>\n",
       "      <td>27</td>\n",
       "    </tr>\n",
       "    <tr>\n",
       "      <th>2</th>\n",
       "      <td>1</td>\n",
       "      <td>127</td>\n",
       "    </tr>\n",
       "    <tr>\n",
       "      <th>3</th>\n",
       "      <td>2</td>\n",
       "      <td>121</td>\n",
       "    </tr>\n",
       "    <tr>\n",
       "      <th>4</th>\n",
       "      <td>3</td>\n",
       "      <td>95</td>\n",
       "    </tr>\n",
       "    <tr>\n",
       "      <th>5</th>\n",
       "      <td>4</td>\n",
       "      <td>82</td>\n",
       "    </tr>\n",
       "    <tr>\n",
       "      <th>6</th>\n",
       "      <td>5</td>\n",
       "      <td>76</td>\n",
       "    </tr>\n",
       "    <tr>\n",
       "      <th>7</th>\n",
       "      <td>6</td>\n",
       "      <td>72</td>\n",
       "    </tr>\n",
       "    <tr>\n",
       "      <th>8</th>\n",
       "      <td>7</td>\n",
       "      <td>77</td>\n",
       "    </tr>\n",
       "    <tr>\n",
       "      <th>9</th>\n",
       "      <td>8</td>\n",
       "      <td>68</td>\n",
       "    </tr>\n",
       "    <tr>\n",
       "      <th>10</th>\n",
       "      <td>9</td>\n",
       "      <td>63</td>\n",
       "    </tr>\n",
       "    <tr>\n",
       "      <th>11</th>\n",
       "      <td>10</td>\n",
       "      <td>58</td>\n",
       "    </tr>\n",
       "    <tr>\n",
       "      <th>12</th>\n",
       "      <td>11</td>\n",
       "      <td>40</td>\n",
       "    </tr>\n",
       "    <tr>\n",
       "      <th>13</th>\n",
       "      <td>12</td>\n",
       "      <td>41</td>\n",
       "    </tr>\n",
       "    <tr>\n",
       "      <th>14</th>\n",
       "      <td>13</td>\n",
       "      <td>36</td>\n",
       "    </tr>\n",
       "    <tr>\n",
       "      <th>15</th>\n",
       "      <td>14</td>\n",
       "      <td>33</td>\n",
       "    </tr>\n",
       "    <tr>\n",
       "      <th>16</th>\n",
       "      <td>15</td>\n",
       "      <td>31</td>\n",
       "    </tr>\n",
       "    <tr>\n",
       "      <th>17</th>\n",
       "      <td>16</td>\n",
       "      <td>25</td>\n",
       "    </tr>\n",
       "    <tr>\n",
       "      <th>18</th>\n",
       "      <td>17</td>\n",
       "      <td>21</td>\n",
       "    </tr>\n",
       "    <tr>\n",
       "      <th>19</th>\n",
       "      <td>18</td>\n",
       "      <td>21</td>\n",
       "    </tr>\n",
       "    <tr>\n",
       "      <th>20</th>\n",
       "      <td>19</td>\n",
       "      <td>18</td>\n",
       "    </tr>\n",
       "    <tr>\n",
       "      <th>21</th>\n",
       "      <td>20</td>\n",
       "      <td>24</td>\n",
       "    </tr>\n",
       "    <tr>\n",
       "      <th>22</th>\n",
       "      <td>21</td>\n",
       "      <td>16</td>\n",
       "    </tr>\n",
       "  </tbody>\n",
       "</table>\n",
       "</div>"
      ],
      "text/plain": [
       "    lvl  count\n",
       "0    -1     34\n",
       "1     0     27\n",
       "2     1    127\n",
       "3     2    121\n",
       "4     3     95\n",
       "5     4     82\n",
       "6     5     76\n",
       "7     6     72\n",
       "8     7     77\n",
       "9     8     68\n",
       "10    9     63\n",
       "11   10     58\n",
       "12   11     40\n",
       "13   12     41\n",
       "14   13     36\n",
       "15   14     33\n",
       "16   15     31\n",
       "17   16     25\n",
       "18   17     21\n",
       "19   18     21\n",
       "20   19     18\n",
       "21   20     24\n",
       "22   21     16"
      ]
     },
     "execution_count": 6,
     "metadata": {},
     "output_type": "execute_result"
    }
   ],
   "source": [
    "level_count = pd.DataFrame(\n",
    "    data={\n",
    "        \"lvl\": [key for key in sorted(lvl_stat.keys())],\n",
    "        \"count\": [lvl_stat.get(key) for key in sorted(lvl_stat.keys())],\n",
    "    }\n",
    ")\n",
    "level_count"
   ]
  },
  {
   "cell_type": "code",
   "execution_count": 7,
   "id": "bdbfe8de",
   "metadata": {},
   "outputs": [
    {
     "data": {
      "image/png": "[encoded data removed]",
      "text/plain": [
       "<Figure size 432x288 with 1 Axes>"
      ]
     },
     "metadata": {
      "needs_background": "light"
     },
     "output_type": "display_data"
    }
   ],
   "source": [
    "import matplotlib.pyplot as plt\n",
    "\n",
    "\n",
    "level_count.plot.bar(x=\"lvl\", y=\"count\", title=\"Count of levels\")\n",
    "plt.show()"
   ]
  },
  {
   "cell_type": "markdown",
   "id": "9fdb6541",
   "metadata": {},
   "source": [
    "## Train test split"
   ]
  },
  {
   "cell_type": "markdown",
   "id": "18f56629",
   "metadata": {},
   "source": [
    "### Chronological split"
   ]
  },
  {
   "cell_type": "code",
   "execution_count": 8,
   "id": "dcda359b",
   "metadata": {},
   "outputs": [],
   "source": [
    "from training.splitting_dataset import split_dataframe\n",
    "\n",
    "\n",
    "os.chdir(\"../../../training\")\n",
    "X_train, X_test, y_train, y_test = split_dataframe(df, test_size=0.31)\n",
    "os.chdir(\"../notebooks/models/lightgbm\")"
   ]
  },
  {
   "cell_type": "code",
   "execution_count": 9,
   "id": "17dbc875",
   "metadata": {},
   "outputs": [],
   "source": [
    "X_train = X_train.drop(columns=[\"book\"])\n",
    "X_test = X_test.drop(columns=[\"book\"])"
   ]
  },
  {
   "cell_type": "markdown",
   "id": "25879636",
   "metadata": {},
   "source": [
    "### Random split"
   ]
  },
  {
   "cell_type": "code",
   "execution_count": 10,
   "id": "982ec5eb",
   "metadata": {},
   "outputs": [],
   "source": [
    "(\n",
    "    X_train_random_split,\n",
    "    X_test_random_split,\n",
    "    y_train_random_split,\n",
    "    y_test_random_split,\n",
    ") = split_dataframe(df, chronological_split=False)"
   ]
  },
  {
   "cell_type": "code",
   "execution_count": 11,
   "id": "90569e78",
   "metadata": {},
   "outputs": [],
   "source": [
    "X_train_random_split = X_train_random_split.drop(columns=[\"book\"])\n",
    "X_test_random_split = X_test_random_split.drop(columns=[\"book\"])"
   ]
  },
  {
   "cell_type": "markdown",
   "id": "9b259fbf",
   "metadata": {},
   "source": [
    "## LightGBM"
   ]
  },
  {
   "cell_type": "markdown",
   "id": "14f37d9b",
   "metadata": {},
   "source": [
    "## Chronological split"
   ]
  },
  {
   "cell_type": "code",
   "execution_count": 12,
   "id": "2bc4c90e",
   "metadata": {},
   "outputs": [
    {
     "name": "stdout",
     "output_type": "stream",
     "text": [
      "[LightGBM] [Warning] Auto-choosing row-wise multi-threading, the overhead of testing was 0.000703 seconds.\n",
      "You can set `force_row_wise=true` to remove the overhead.\n",
      "And if memory is not enough, you can set `force_col_wise=true`.\n",
      "[LightGBM] [Info] Total Bins 224\n",
      "[LightGBM] [Info] Number of data points in the train set: 841, number of used features: 8\n",
      "[LightGBM] [Info] Start training from score 6.966706\n",
      "Training until validation scores don't improve for 5 rounds\n",
      "[LightGBM] [Warning] No further splits with positive gain, best gain: -inf\n",
      "[LightGBM] [Warning] No further splits with positive gain, best gain: -inf\n",
      "[LightGBM] [Warning] No further splits with positive gain, best gain: -inf\n",
      "[LightGBM] [Warning] No further splits with positive gain, best gain: -inf\n",
      "[LightGBM] [Warning] No further splits with positive gain, best gain: -inf\n",
      "[LightGBM] [Warning] No further splits with positive gain, best gain: -inf\n",
      "[LightGBM] [Warning] No further splits with positive gain, best gain: -inf\n",
      "[LightGBM] [Warning] No further splits with positive gain, best gain: -inf\n",
      "[LightGBM] [Warning] No further splits with positive gain, best gain: -inf\n",
      "[LightGBM] [Warning] No further splits with positive gain, best gain: -inf\n",
      "[LightGBM] [Warning] No further splits with positive gain, best gain: -inf\n",
      "[LightGBM] [Warning] No further splits with positive gain, best gain: -inf\n",
      "Early stopping, best iteration is:\n",
      "[48]\tvalid_0's l1: 0.467604\tvalid_0's l2: 0.447566\n"
     ]
    }
   ],
   "source": [
    "import lightgbm as lgb\n",
    "\n",
    "lgb_train = lgb.Dataset(X_train, y_train)\n",
    "lgb_eval = lgb.Dataset(X_test, y_test, reference=lgb_train)\n",
    "\n",
    "params = {\n",
    "    \"boosting_type\": \"gbdt\",\n",
    "    \"objective\": \"regression\",\n",
    "    \"metric\": {\"l2\", \"l1\"},\n",
    "}\n",
    "\n",
    "gbm = lgb.train(\n",
    "    params,\n",
    "    lgb_train,\n",
    "    num_boost_round=100,\n",
    "    valid_sets=lgb_eval,\n",
    "    callbacks=[lgb.early_stopping(stopping_rounds=5)],\n",
    ")"
   ]
  },
  {
   "cell_type": "code",
   "execution_count": 13,
   "id": "f1ae2eaa",
   "metadata": {},
   "outputs": [],
   "source": [
    "y_pred_train = gbm.predict(X_train, num_iteration=gbm.best_iteration)\n",
    "y_pred_test = gbm.predict(X_test, num_iteration=gbm.best_iteration)"
   ]
  },
  {
   "cell_type": "code",
   "execution_count": 14,
   "id": "ef9d09eb",
   "metadata": {},
   "outputs": [
    {
     "name": "stdout",
     "output_type": "stream",
     "text": [
      "MSE: 0.45\n",
      "RMSE: 0.67\n",
      "MAE: 0.47\n"
     ]
    }
   ],
   "source": [
    "from sklearn.metrics import mean_squared_error, mean_absolute_error\n",
    "\n",
    "\n",
    "rmse = mean_squared_error(y_test, y_pred_test, squared=False)\n",
    "mae = mean_absolute_error(y_test, y_pred_test)\n",
    "\n",
    "print(f\"RMSE: {rmse:.2f}\")\n",
    "print(f\"MAE: {mae:.2f}\")"
   ]
  },
  {
   "cell_type": "code",
   "execution_count": 15,
   "id": "6e288d53",
   "metadata": {},
   "outputs": [],
   "source": [
    "results = pd.DataFrame(\n",
    "    data={\n",
    "        \"Split type\": [],\n",
    "        \"Tuning type\": [],\n",
    "        \"Set of features\": [],\n",
    "        \"RMSE\": [],\n",
    "        \"MAE\": [],\n",
    "    }\n",
    ")\n",
    "\n",
    "results.loc[0] = [\"chronological\", \"default\", \"basic\", rmse, mae]"
   ]
  },
  {
   "cell_type": "code",
   "execution_count": 16,
   "id": "78bb7ffa",
   "metadata": {},
   "outputs": [
    {
     "name": "stdout",
     "output_type": "stream",
     "text": [
      "RMSE train: 0.31\n",
      "RMSE test: 0.67\n"
     ]
    }
   ],
   "source": [
    "rmse_train = mean_squared_error(y_train, y_pred_train, squared=False)\n",
    "rmse_test = mean_squared_error(y_test, y_pred_test, squared=False)\n",
    "print(f\"RMSE train: {rmse_train:.2f}\")\n",
    "print(f\"RMSE test: {rmse_test:.2f}\")"
   ]
  },
  {
   "cell_type": "markdown",
   "id": "4435f236",
   "metadata": {},
   "source": [
    "###### MAE by level"
   ]
  },
  {
   "cell_type": "code",
   "execution_count": 17,
   "id": "f3b4086b",
   "metadata": {},
   "outputs": [],
   "source": [
    "from training.results import plot_mae_by_level"
   ]
  },
  {
   "cell_type": "code",
   "execution_count": 18,
   "id": "e3ecad89",
   "metadata": {
    "scrolled": false
   },
   "outputs": [
    {
     "data": {
      "image/png": "[encoded data removed]",
      "text/plain": [
       "<Figure size 720x432 with 1 Axes>"
      ]
     },
     "metadata": {
      "needs_background": "light"
     },
     "output_type": "display_data"
    }
   ],
   "source": [
    "plot_mae_by_level(\n",
    "    y_test,\n",
    "    y_pred_test,\n",
    "    title=\"MAE by level for default LightGBM with basic features and chronological split\",\n",
    ")"
   ]
  },
  {
   "cell_type": "code",
   "execution_count": 19,
   "id": "ec8cab49",
   "metadata": {
    "scrolled": true
   },
   "outputs": [
    {
     "name": "stdout",
     "output_type": "stream",
     "text": [
      "Default:\n",
      "MSE: 0.45\n",
      "RMSE: 0.67\n",
      "\n",
      "Round type: round\n",
      "MSE: 0.50\n",
      "RMSE: 0.71\n",
      "\n",
      "Round type: 0.33\n",
      "MSE: 0.50\n",
      "RMSE: 0.71\n",
      "\n",
      "Round type: 0.45\n",
      "MSE: 0.48\n",
      "RMSE: 0.70\n",
      "\n"
     ]
    }
   ],
   "source": [
    "from training.results import check_round_predictions, plot_confusion_matrix\n",
    "\n",
    "\n",
    "check_round_predictions([\"round\", 0.33, 0.45], y_test, y_pred_test)"
   ]
  },
  {
   "cell_type": "code",
   "execution_count": 20,
   "id": "9129a0ae",
   "metadata": {},
   "outputs": [
    {
     "data": {
      "image/png": "[encoded data removed]",
      "text/plain": [
       "<Figure size 432x288 with 2 Axes>"
      ]
     },
     "metadata": {
      "needs_background": "light"
     },
     "output_type": "display_data"
    }
   ],
   "source": [
    "plot_confusion_matrix(\n",
    "    \"round\",\n",
    "    y_pred_test,\n",
    "    y_test,\n",
    "    title=\"Confusion matrix for default LightGBM with basic features and chronological split\",\n",
    ")"
   ]
  },
  {
   "cell_type": "markdown",
   "id": "aaaf3023",
   "metadata": {},
   "source": [
    "#### Tuning"
   ]
  },
  {
   "cell_type": "code",
   "execution_count": 21,
   "id": "cbd24f9f",
   "metadata": {},
   "outputs": [],
   "source": [
    "from training.results import assess_regression_model"
   ]
  },
  {
   "cell_type": "code",
   "execution_count": 22,
   "id": "10854460",
   "metadata": {},
   "outputs": [
    {
     "name": "stderr",
     "output_type": "stream",
     "text": [
      "[I 2023-11-05 11:49:38,865] A new study created in memory with name: no-name-c4ccc06d-b281-47bb-8430-35550e77cfce\n",
      "feature_fraction, val_score: inf:   0%|                                                          | 0/7 [00:00<?, ?it/s]"
     ]
    },
    {
     "name": "stdout",
     "output_type": "stream",
     "text": [
      "Training until validation scores don't improve for 100 rounds\n",
      "[100]\tcv_agg's l2: 0.240137 + 0.0376968\n",
      "[200]\tcv_agg's l2: 0.227663 + 0.0411709\n",
      "[300]\tcv_agg's l2: 0.225921 + 0.0412165\n"
     ]
    },
    {
     "name": "stderr",
     "output_type": "stream",
     "text": [
      "feature_fraction, val_score: 0.225402:  14%|######4                                      | 1/7 [00:01<00:07,  1.23s/it][I 2023-11-05 11:49:40,096] Trial 0 finished with value: 0.22540208781042764 and parameters: {'feature_fraction': 0.7}. Best is trial 0 with value: 0.22540208781042764.\n",
      "feature_fraction, val_score: 0.225402:  14%|######4                                      | 1/7 [00:01<00:07,  1.23s/it]"
     ]
    },
    {
     "name": "stdout",
     "output_type": "stream",
     "text": [
      "[400]\tcv_agg's l2: 0.226246 + 0.0412173\n",
      "Early stopping, best iteration is:\n",
      "[309]\tcv_agg's l2: 0.225402 + 0.0416336\n",
      "[100]\tcv_agg's l2: 0.26839 + 0.0519747\n",
      "[200]\tcv_agg's l2: 0.245845 + 0.05191\n",
      "[300]\tcv_agg's l2: 0.241199 + 0.0520364\n"
     ]
    },
    {
     "name": "stderr",
     "output_type": "stream",
     "text": [
      "feature_fraction, val_score: 0.225402:  29%|############8                                | 2/7 [00:02<00:05,  1.19s/it][I 2023-11-05 11:49:41,263] Trial 1 finished with value: 0.24131164319819765 and parameters: {'feature_fraction': 0.5}. Best is trial 0 with value: 0.22540208781042764.\n",
      "feature_fraction, val_score: 0.225402:  29%|############8                                | 2/7 [00:02<00:05,  1.19s/it]"
     ]
    },
    {
     "name": "stdout",
     "output_type": "stream",
     "text": [
      "[400]\tcv_agg's l2: 0.239491 + 0.0526465\n",
      "Early stopping, best iteration is:\n",
      "[309]\tcv_agg's l2: 0.225402 + 0.0416336\n",
      "[100]\tcv_agg's l2: 0.234102 + 0.0514901\n",
      "[200]\tcv_agg's l2: 0.232555 + 0.0495999\n",
      "[300]\tcv_agg's l2: 0.234555 + 0.0509719\n"
     ]
    },
    {
     "name": "stderr",
     "output_type": "stream",
     "text": [
      "feature_fraction, val_score: 0.225402:  43%|###################2                         | 3/7 [00:03<00:04,  1.22s/it][I 2023-11-05 11:49:42,507] Trial 2 finished with value: 0.2346628905297122 and parameters: {'feature_fraction': 1.0}. Best is trial 0 with value: 0.22540208781042764.\n",
      "feature_fraction, val_score: 0.225402:  43%|###################2                         | 3/7 [00:03<00:04,  1.22s/it]"
     ]
    },
    {
     "name": "stdout",
     "output_type": "stream",
     "text": [
      "[400]\tcv_agg's l2: 0.238087 + 0.0528755\n",
      "Early stopping, best iteration is:\n",
      "[309]\tcv_agg's l2: 0.225402 + 0.0416336\n",
      "[100]\tcv_agg's l2: 0.231267 + 0.0454498\n",
      "[200]\tcv_agg's l2: 0.227682 + 0.0459242\n",
      "[300]\tcv_agg's l2: 0.227877 + 0.0449849\n"
     ]
    },
    {
     "name": "stderr",
     "output_type": "stream",
     "text": [
      "feature_fraction, val_score: 0.225402:  57%|#########################7                   | 4/7 [00:05<00:03,  1.29s/it][I 2023-11-05 11:49:43,902] Trial 3 finished with value: 0.22798938182855247 and parameters: {'feature_fraction': 0.8999999999999999}. Best is trial 0 with value: 0.22540208781042764.\n",
      "feature_fraction, val_score: 0.225402:  57%|#########################7                   | 4/7 [00:05<00:03,  1.29s/it]"
     ]
    },
    {
     "name": "stdout",
     "output_type": "stream",
     "text": [
      "[400]\tcv_agg's l2: 0.229591 + 0.0457401\n",
      "Early stopping, best iteration is:\n",
      "[309]\tcv_agg's l2: 0.225402 + 0.0416336\n",
      "[100]\tcv_agg's l2: 0.400607 + 0.0848832\n",
      "[200]\tcv_agg's l2: 0.337446 + 0.0784102\n",
      "[300]\tcv_agg's l2: 0.316575 + 0.0769797\n"
     ]
    },
    {
     "name": "stderr",
     "output_type": "stream",
     "text": [
      "feature_fraction, val_score: 0.225402:  71%|################################1            | 5/7 [00:06<00:02,  1.25s/it][I 2023-11-05 11:49:45,093] Trial 4 finished with value: 0.3154877845246026 and parameters: {'feature_fraction': 0.4}. Best is trial 0 with value: 0.22540208781042764.\n",
      "feature_fraction, val_score: 0.225402:  71%|################################1            | 5/7 [00:06<00:02,  1.25s/it]"
     ]
    },
    {
     "name": "stdout",
     "output_type": "stream",
     "text": [
      "[400]\tcv_agg's l2: 0.304168 + 0.074502\n",
      "Early stopping, best iteration is:\n",
      "[309]\tcv_agg's l2: 0.225402 + 0.0416336\n",
      "[100]\tcv_agg's l2: 0.255755 + 0.0504043\n",
      "[200]\tcv_agg's l2: 0.238036 + 0.049283\n",
      "[300]\tcv_agg's l2: 0.234756 + 0.0510297\n"
     ]
    },
    {
     "name": "stderr",
     "output_type": "stream",
     "text": [
      "feature_fraction, val_score: 0.225402:  86%|######################################5      | 6/7 [00:07<00:01,  1.22s/it][I 2023-11-05 11:49:46,258] Trial 5 finished with value: 0.2349105172434455 and parameters: {'feature_fraction': 0.6}. Best is trial 0 with value: 0.22540208781042764.\n",
      "feature_fraction, val_score: 0.225402:  86%|######################################5      | 6/7 [00:07<00:01,  1.22s/it]"
     ]
    },
    {
     "name": "stdout",
     "output_type": "stream",
     "text": [
      "[400]\tcv_agg's l2: 0.235028 + 0.0518991\n",
      "Early stopping, best iteration is:\n",
      "[309]\tcv_agg's l2: 0.225402 + 0.0416336\n",
      "[100]\tcv_agg's l2: 0.240137 + 0.0376968\n",
      "[200]\tcv_agg's l2: 0.227663 + 0.0411709\n",
      "[300]\tcv_agg's l2: 0.225921 + 0.0412165\n"
     ]
    },
    {
     "name": "stderr",
     "output_type": "stream",
     "text": [
      "feature_fraction, val_score: 0.225402: 100%|#############################################| 7/7 [00:08<00:00,  1.24s/it][I 2023-11-05 11:49:47,535] Trial 6 finished with value: 0.22540208781042764 and parameters: {'feature_fraction': 0.8}. Best is trial 0 with value: 0.22540208781042764.\n",
      "feature_fraction, val_score: 0.225402: 100%|#############################################| 7/7 [00:08<00:00,  1.24s/it]\n"
     ]
    },
    {
     "name": "stdout",
     "output_type": "stream",
     "text": [
      "[400]\tcv_agg's l2: 0.226246 + 0.0412173\n",
      "Early stopping, best iteration is:\n",
      "[309]\tcv_agg's l2: 0.225402 + 0.0416336\n"
     ]
    },
    {
     "name": "stderr",
     "output_type": "stream",
     "text": [
      "num_leaves, val_score: 0.225402:   0%|                                                          | 0/20 [00:00<?, ?it/s]"
     ]
    },
    {
     "name": "stdout",
     "output_type": "stream",
     "text": [
      "[100]\tcv_agg's l2: 0.240137 + 0.0376968\n",
      "[200]\tcv_agg's l2: 0.227663 + 0.0411709\n",
      "[300]\tcv_agg's l2: 0.225921 + 0.0412165\n"
     ]
    },
    {
     "name": "stderr",
     "output_type": "stream",
     "text": [
      "num_leaves, val_score: 0.225402:   5%|##5                                               | 1/20 [00:01<00:25,  1.32s/it][I 2023-11-05 11:49:48,862] Trial 7 finished with value: 0.22540208781042764 and parameters: {'num_leaves': 72}. Best is trial 7 with value: 0.22540208781042764.\n",
      "num_leaves, val_score: 0.225402:   5%|##5                                               | 1/20 [00:01<00:25,  1.32s/it]"
     ]
    },
    {
     "name": "stdout",
     "output_type": "stream",
     "text": [
      "[400]\tcv_agg's l2: 0.226246 + 0.0412173\n",
      "Early stopping, best iteration is:\n",
      "[309]\tcv_agg's l2: 0.225402 + 0.0416336\n",
      "[100]\tcv_agg's l2: 0.240137 + 0.0376968\n",
      "[200]\tcv_agg's l2: 0.227663 + 0.0411709\n",
      "[300]\tcv_agg's l2: 0.225921 + 0.0412165\n"
     ]
    },
    {
     "name": "stderr",
     "output_type": "stream",
     "text": [
      "num_leaves, val_score: 0.225402:  10%|#####                                             | 2/20 [00:02<00:24,  1.35s/it][I 2023-11-05 11:49:50,241] Trial 8 finished with value: 0.22540208781042764 and parameters: {'num_leaves': 230}. Best is trial 7 with value: 0.22540208781042764.\n",
      "num_leaves, val_score: 0.225402:  10%|#####                                             | 2/20 [00:02<00:24,  1.35s/it]"
     ]
    },
    {
     "name": "stdout",
     "output_type": "stream",
     "text": [
      "[400]\tcv_agg's l2: 0.226246 + 0.0412173\n",
      "Early stopping, best iteration is:\n",
      "[309]\tcv_agg's l2: 0.225402 + 0.0416336\n",
      "[100]\tcv_agg's l2: 0.240137 + 0.0376968\n",
      "[200]\tcv_agg's l2: 0.227663 + 0.0411709\n",
      "[300]\tcv_agg's l2: 0.225921 + 0.0412165\n"
     ]
    },
    {
     "name": "stderr",
     "output_type": "stream",
     "text": [
      "num_leaves, val_score: 0.225402:  15%|#######5                                          | 3/20 [00:03<00:22,  1.30s/it][I 2023-11-05 11:49:51,479] Trial 9 finished with value: 0.22540208781042764 and parameters: {'num_leaves': 107}. Best is trial 7 with value: 0.22540208781042764.\n",
      "num_leaves, val_score: 0.225402:  15%|#######5                                          | 3/20 [00:03<00:22,  1.30s/it]"
     ]
    },
    {
     "name": "stdout",
     "output_type": "stream",
     "text": [
      "[400]\tcv_agg's l2: 0.226246 + 0.0412173\n",
      "Early stopping, best iteration is:\n",
      "[309]\tcv_agg's l2: 0.225402 + 0.0416336\n",
      "[100]\tcv_agg's l2: 0.270824 + 0.0486191\n"
     ]
    },
    {
     "name": "stderr",
     "output_type": "stream",
     "text": [
      "\r",
      "num_leaves, val_score: 0.225402:  15%|#######5                                          | 3/20 [00:04<00:22,  1.30s/it]"
     ]
    },
    {
     "name": "stdout",
     "output_type": "stream",
     "text": [
      "[200]\tcv_agg's l2: 0.251432 + 0.0478577\n",
      "[300]\tcv_agg's l2: 0.240843 + 0.043845\n",
      "[400]\tcv_agg's l2: 0.236036 + 0.041816\n",
      "Early stopping, best iteration is:\n",
      "[309]\tcv_agg's l2: 0.225402 + 0.0416336\n"
     ]
    },
    {
     "name": "stderr",
     "output_type": "stream",
     "text": [
      "num_leaves, val_score: 0.225402:  20%|##########                                        | 4/20 [00:04<00:15,  1.05it/s][I 2023-11-05 11:49:51,886] Trial 10 finished with value: 0.24019870869624832 and parameters: {'num_leaves': 4}. Best is trial 7 with value: 0.22540208781042764.\n",
      "num_leaves, val_score: 0.225402:  20%|##########                                        | 4/20 [00:04<00:15,  1.05it/s]"
     ]
    },
    {
     "name": "stdout",
     "output_type": "stream",
     "text": [
      "[100]\tcv_agg's l2: 0.240137 + 0.0376968\n",
      "[200]\tcv_agg's l2: 0.227663 + 0.0411709\n",
      "[300]\tcv_agg's l2: 0.225921 + 0.0412165\n"
     ]
    },
    {
     "name": "stderr",
     "output_type": "stream",
     "text": [
      "num_leaves, val_score: 0.225402:  25%|############5                                     | 5/20 [00:05<00:16,  1.08s/it][I 2023-11-05 11:49:53,204] Trial 11 finished with value: 0.22540208781042764 and parameters: {'num_leaves': 228}. Best is trial 7 with value: 0.22540208781042764.\n",
      "num_leaves, val_score: 0.225402:  25%|############5                                     | 5/20 [00:05<00:16,  1.08s/it]"
     ]
    },
    {
     "name": "stdout",
     "output_type": "stream",
     "text": [
      "[400]\tcv_agg's l2: 0.226246 + 0.0412173\n",
      "Early stopping, best iteration is:\n",
      "[309]\tcv_agg's l2: 0.225402 + 0.0416336\n",
      "[100]\tcv_agg's l2: 0.240137 + 0.0376968\n",
      "[200]\tcv_agg's l2: 0.227663 + 0.0411709\n",
      "[300]\tcv_agg's l2: 0.225921 + 0.0412165\n"
     ]
    },
    {
     "name": "stderr",
     "output_type": "stream",
     "text": [
      "num_leaves, val_score: 0.225402:  30%|###############                                   | 6/20 [00:07<00:16,  1.21s/it][I 2023-11-05 11:49:54,658] Trial 12 finished with value: 0.22540208781042764 and parameters: {'num_leaves': 166}. Best is trial 7 with value: 0.22540208781042764.\n",
      "num_leaves, val_score: 0.225402:  30%|###############                                   | 6/20 [00:07<00:16,  1.21s/it]"
     ]
    },
    {
     "name": "stdout",
     "output_type": "stream",
     "text": [
      "[400]\tcv_agg's l2: 0.226246 + 0.0412173\n",
      "Early stopping, best iteration is:\n",
      "[309]\tcv_agg's l2: 0.225402 + 0.0416336\n",
      "[100]\tcv_agg's l2: 0.254418 + 0.0481568\n",
      "[200]\tcv_agg's l2: 0.234805 + 0.0448275\n",
      "[300]\tcv_agg's l2: 0.227086 + 0.0401386\n",
      "[400]\tcv_agg's l2: 0.22199 + 0.0402208\n",
      "[500]\tcv_agg's l2: 0.219819 + 0.0387303\n",
      "[600]\tcv_agg's l2: 0.218664 + 0.0378498\n",
      "[700]\tcv_agg's l2: 0.21784 + 0.0376591\n",
      "[800]\tcv_agg's l2: 0.217301 + 0.0372224\n"
     ]
    },
    {
     "name": "stderr",
     "output_type": "stream",
     "text": [
      "\r",
      "num_leaves, val_score: 0.215479:  30%|###############                                   | 6/20 [00:08<00:16,  1.21s/it]"
     ]
    },
    {
     "name": "stdout",
     "output_type": "stream",
     "text": [
      "[900]\tcv_agg's l2: 0.216338 + 0.0369447\n",
      "[1000]\tcv_agg's l2: 0.2157 + 0.036922\n",
      "Early stopping, best iteration is:\n",
      "[953]\tcv_agg's l2: 0.215479 + 0.0367778\n"
     ]
    },
    {
     "name": "stderr",
     "output_type": "stream",
     "text": [
      "num_leaves, val_score: 0.215479:  35%|#################5                                | 7/20 [00:08<00:16,  1.26s/it][I 2023-11-05 11:49:56,035] Trial 13 finished with value: 0.21547938009311945 and parameters: {'num_leaves': 6}. Best is trial 13 with value: 0.21547938009311945.\n",
      "num_leaves, val_score: 0.215479:  35%|#################5                                | 7/20 [00:08<00:16,  1.26s/it]"
     ]
    },
    {
     "name": "stdout",
     "output_type": "stream",
     "text": [
      "[100]\tcv_agg's l2: 0.239553 + 0.0361808\n",
      "[200]\tcv_agg's l2: 0.226522 + 0.0392979\n",
      "[300]\tcv_agg's l2: 0.224128 + 0.0392306\n",
      "[400]\tcv_agg's l2: 0.222192 + 0.0390136\n",
      "[500]\tcv_agg's l2: 0.2216 + 0.0384337\n",
      "[600]\tcv_agg's l2: 0.22201 + 0.0381404\n",
      "[700]\tcv_agg's l2: 0.222507 + 0.0382801\n",
      "[800]\tcv_agg's l2: 0.223431 + 0.0380945\n",
      "[900]\tcv_agg's l2: 0.224177 + 0.0379862\n",
      "[1000]\tcv_agg's l2: 0.224677 + 0.0375201\n"
     ]
    },
    {
     "name": "stderr",
     "output_type": "stream",
     "text": [
      "num_leaves, val_score: 0.215479:  40%|####################                              | 8/20 [00:11<00:19,  1.67s/it][I 2023-11-05 11:49:58,564] Trial 14 finished with value: 0.22455777409828098 and parameters: {'num_leaves': 15}. Best is trial 13 with value: 0.21547938009311945.\n",
      "num_leaves, val_score: 0.215479:  40%|####################                              | 8/20 [00:11<00:19,  1.67s/it]"
     ]
    },
    {
     "name": "stdout",
     "output_type": "stream",
     "text": [
      "Early stopping, best iteration is:\n",
      "[953]\tcv_agg's l2: 0.215479 + 0.0367778\n",
      "[100]\tcv_agg's l2: 0.258498 + 0.0440349\n",
      "[200]\tcv_agg's l2: 0.239061 + 0.0447395\n",
      "[300]\tcv_agg's l2: 0.22945 + 0.0411133\n",
      "[400]\tcv_agg's l2: 0.223241 + 0.0374186\n",
      "[500]\tcv_agg's l2: 0.221098 + 0.0347735\n",
      "[600]\tcv_agg's l2: 0.218601 + 0.033899\n",
      "[700]\tcv_agg's l2: 0.21681 + 0.0316424\n",
      "[800]\tcv_agg's l2: 0.215535 + 0.0306523\n",
      "[900]\tcv_agg's l2: 0.215172 + 0.0307633\n",
      "[1000]\tcv_agg's l2: 0.21457 + 0.0308681\n",
      "[1100]\tcv_agg's l2: 0.214331 + 0.0304567\n",
      "[1200]\tcv_agg's l2: 0.213715 + 0.0307469\n",
      "[1300]\tcv_agg's l2: 0.213174 + 0.0310664\n",
      "[1400]\tcv_agg's l2: 0.213012 + 0.0311329\n"
     ]
    },
    {
     "name": "stderr",
     "output_type": "stream",
     "text": [
      "num_leaves, val_score: 0.212522:  45%|######################5                           | 9/20 [00:12<00:18,  1.65s/it][I 2023-11-05 11:50:00,189] Trial 15 finished with value: 0.2125220484726215 and parameters: {'num_leaves': 5}. Best is trial 15 with value: 0.2125220484726215.\n",
      "num_leaves, val_score: 0.212522:  45%|######################5                           | 9/20 [00:12<00:18,  1.65s/it]"
     ]
    },
    {
     "name": "stdout",
     "output_type": "stream",
     "text": [
      "Early stopping, best iteration is:\n",
      "[1362]\tcv_agg's l2: 0.212522 + 0.0306628\n",
      "[100]\tcv_agg's l2: 0.240137 + 0.0376968\n",
      "[200]\tcv_agg's l2: 0.227663 + 0.0411709\n",
      "[300]\tcv_agg's l2: 0.225921 + 0.0412165\n",
      "[400]\tcv_agg's l2: 0.226246 + 0.0412173\n",
      "[500]\tcv_agg's l2: 0.226796 + 0.0418535\n",
      "[600]\tcv_agg's l2: 0.22801 + 0.0420775\n",
      "[700]\tcv_agg's l2: 0.229597 + 0.0423549\n",
      "[800]\tcv_agg's l2: 0.23075 + 0.0426852\n",
      "[900]\tcv_agg's l2: 0.232185 + 0.0427983\n",
      "[1000]\tcv_agg's l2: 0.233111 + 0.0426226\n",
      "[1100]\tcv_agg's l2: 0.234334 + 0.04256\n",
      "[1200]\tcv_agg's l2: 0.235168 + 0.0424906\n",
      "[1300]\tcv_agg's l2: 0.23603 + 0.0424895\n",
      "[1400]\tcv_agg's l2: 0.236673 + 0.0421704\n",
      "Early stopping, best iteration is:\n",
      "[1362]\tcv_agg's l2: 0.212522 + 0.0306628\n"
     ]
    },
    {
     "name": "stderr",
     "output_type": "stream",
     "text": [
      "num_leaves, val_score: 0.212522:  50%|########################5                        | 10/20 [00:17<00:25,  2.51s/it][I 2023-11-05 11:50:04,618] Trial 16 finished with value: 0.23637337218927157 and parameters: {'num_leaves': 55}. Best is trial 15 with value: 0.2125220484726215.\n",
      "num_leaves, val_score: 0.212522:  50%|########################5                        | 10/20 [00:17<00:25,  2.51s/it]"
     ]
    },
    {
     "name": "stdout",
     "output_type": "stream",
     "text": [
      "[100]\tcv_agg's l2: 0.240137 + 0.0376968\n",
      "[200]\tcv_agg's l2: 0.227663 + 0.0411709\n",
      "[300]\tcv_agg's l2: 0.225921 + 0.0412165\n",
      "[400]\tcv_agg's l2: 0.226246 + 0.0412173\n",
      "[500]\tcv_agg's l2: 0.226796 + 0.0418535\n",
      "[600]\tcv_agg's l2: 0.22801 + 0.0420775\n",
      "[700]\tcv_agg's l2: 0.229597 + 0.0423549\n",
      "[800]\tcv_agg's l2: 0.23075 + 0.0426852\n",
      "[900]\tcv_agg's l2: 0.232185 + 0.0427983\n",
      "[1000]\tcv_agg's l2: 0.233111 + 0.0426226\n",
      "[1100]\tcv_agg's l2: 0.234334 + 0.04256\n",
      "[1200]\tcv_agg's l2: 0.235168 + 0.0424906\n",
      "[1300]\tcv_agg's l2: 0.23603 + 0.0424895\n",
      "[1400]\tcv_agg's l2: 0.236673 + 0.0421704\n"
     ]
    },
    {
     "name": "stderr",
     "output_type": "stream",
     "text": [
      "num_leaves, val_score: 0.212522:  55%|##########################9                      | 11/20 [00:21<00:28,  3.20s/it][I 2023-11-05 11:50:09,398] Trial 17 finished with value: 0.23637337218927157 and parameters: {'num_leaves': 58}. Best is trial 15 with value: 0.2125220484726215.\n",
      "num_leaves, val_score: 0.212522:  55%|##########################9                      | 11/20 [00:21<00:28,  3.20s/it]"
     ]
    },
    {
     "name": "stdout",
     "output_type": "stream",
     "text": [
      "Early stopping, best iteration is:\n",
      "[1362]\tcv_agg's l2: 0.212522 + 0.0306628\n",
      "[100]\tcv_agg's l2: 0.270824 + 0.0486191\n",
      "[200]\tcv_agg's l2: 0.251432 + 0.0478577\n",
      "[300]\tcv_agg's l2: 0.240843 + 0.043845\n",
      "[400]\tcv_agg's l2: 0.236036 + 0.041816\n",
      "[500]\tcv_agg's l2: 0.232033 + 0.0384844\n",
      "[600]\tcv_agg's l2: 0.230125 + 0.0359821\n",
      "[700]\tcv_agg's l2: 0.228224 + 0.0338702\n",
      "[800]\tcv_agg's l2: 0.226243 + 0.0319081\n",
      "[900]\tcv_agg's l2: 0.226004 + 0.0310519\n",
      "[1000]\tcv_agg's l2: 0.224919 + 0.0302288\n",
      "[1100]\tcv_agg's l2: 0.224236 + 0.0295239\n",
      "[1200]\tcv_agg's l2: 0.223884 + 0.0291836\n",
      "[1300]\tcv_agg's l2: 0.222732 + 0.0296644\n",
      "[1400]\tcv_agg's l2: 0.222535 + 0.0297744\n"
     ]
    },
    {
     "name": "stderr",
     "output_type": "stream",
     "text": [
      "num_leaves, val_score: 0.212522:  60%|#############################4                   | 12/20 [00:23<00:22,  2.75s/it][I 2023-11-05 11:50:11,115] Trial 18 finished with value: 0.2225010390464425 and parameters: {'num_leaves': 4}. Best is trial 15 with value: 0.2125220484726215.\n",
      "num_leaves, val_score: 0.212522:  60%|#############################4                   | 12/20 [00:23<00:22,  2.75s/it]"
     ]
    },
    {
     "name": "stdout",
     "output_type": "stream",
     "text": [
      "Early stopping, best iteration is:\n",
      "[1362]\tcv_agg's l2: 0.212522 + 0.0306628\n",
      "[100]\tcv_agg's l2: 0.240137 + 0.0376968\n",
      "[200]\tcv_agg's l2: 0.227663 + 0.0411709\n",
      "[300]\tcv_agg's l2: 0.225921 + 0.0412165\n",
      "[400]\tcv_agg's l2: 0.226246 + 0.0412173\n",
      "[500]\tcv_agg's l2: 0.226796 + 0.0418535\n",
      "[600]\tcv_agg's l2: 0.22801 + 0.0420775\n",
      "[700]\tcv_agg's l2: 0.229597 + 0.0423549\n",
      "[800]\tcv_agg's l2: 0.23075 + 0.0426852\n",
      "[900]\tcv_agg's l2: 0.232185 + 0.0427983\n",
      "[1000]\tcv_agg's l2: 0.233111 + 0.0426226\n",
      "[1100]\tcv_agg's l2: 0.234334 + 0.04256\n",
      "[1200]\tcv_agg's l2: 0.235168 + 0.0424906\n",
      "[1300]\tcv_agg's l2: 0.23603 + 0.0424895\n",
      "[1400]\tcv_agg's l2: 0.236673 + 0.0421704\n",
      "Early stopping, best iteration is:\n",
      "[1362]\tcv_agg's l2: 0.212522 + 0.0306628\n"
     ]
    },
    {
     "name": "stderr",
     "output_type": "stream",
     "text": [
      "num_leaves, val_score: 0.212522:  65%|###############################8                 | 13/20 [00:31<00:29,  4.19s/it][I 2023-11-05 11:50:18,607] Trial 19 finished with value: 0.23637337218927157 and parameters: {'num_leaves': 158}. Best is trial 15 with value: 0.2125220484726215.\n",
      "num_leaves, val_score: 0.212522:  65%|###############################8                 | 13/20 [00:31<00:29,  4.19s/it]"
     ]
    },
    {
     "name": "stdout",
     "output_type": "stream",
     "text": [
      "[100]\tcv_agg's l2: 0.240137 + 0.0376968\n",
      "[200]\tcv_agg's l2: 0.227663 + 0.0411709\n",
      "[300]\tcv_agg's l2: 0.225921 + 0.0412165\n",
      "[400]\tcv_agg's l2: 0.226246 + 0.0412173\n",
      "[500]\tcv_agg's l2: 0.226796 + 0.0418535\n",
      "[600]\tcv_agg's l2: 0.22801 + 0.0420775\n",
      "[700]\tcv_agg's l2: 0.229597 + 0.0423549\n",
      "[800]\tcv_agg's l2: 0.23075 + 0.0426852\n",
      "[900]\tcv_agg's l2: 0.232185 + 0.0427983\n",
      "[1000]\tcv_agg's l2: 0.233111 + 0.0426226\n",
      "[1100]\tcv_agg's l2: 0.234334 + 0.04256\n",
      "[1200]\tcv_agg's l2: 0.235168 + 0.0424906\n",
      "[1300]\tcv_agg's l2: 0.23603 + 0.0424895\n",
      "[1400]\tcv_agg's l2: 0.236673 + 0.0421704\n",
      "Early stopping, best iteration is:\n",
      "[1362]\tcv_agg's l2: 0.212522 + 0.0306628\n"
     ]
    },
    {
     "name": "stderr",
     "output_type": "stream",
     "text": [
      "num_leaves, val_score: 0.212522:  70%|##################################3              | 14/20 [00:35<00:26,  4.39s/it][I 2023-11-05 11:50:23,467] Trial 20 finished with value: 0.23637337218927157 and parameters: {'num_leaves': 100}. Best is trial 15 with value: 0.2125220484726215.\n",
      "num_leaves, val_score: 0.212522:  70%|##################################3              | 14/20 [00:35<00:26,  4.39s/it]"
     ]
    },
    {
     "name": "stdout",
     "output_type": "stream",
     "text": [
      "[100]\tcv_agg's l2: 0.240819 + 0.038895\n",
      "[200]\tcv_agg's l2: 0.22997 + 0.0406461\n",
      "[300]\tcv_agg's l2: 0.226616 + 0.0410186\n",
      "[400]\tcv_agg's l2: 0.226607 + 0.04186\n",
      "[500]\tcv_agg's l2: 0.227965 + 0.042386\n",
      "[600]\tcv_agg's l2: 0.228948 + 0.0423347\n",
      "[700]\tcv_agg's l2: 0.229889 + 0.0419499\n",
      "[800]\tcv_agg's l2: 0.230943 + 0.0422884\n",
      "[900]\tcv_agg's l2: 0.232342 + 0.0422039\n",
      "[1000]\tcv_agg's l2: 0.233128 + 0.0424605\n",
      "[1100]\tcv_agg's l2: 0.234243 + 0.0424626\n",
      "[1200]\tcv_agg's l2: 0.235204 + 0.0422288\n",
      "[1300]\tcv_agg's l2: 0.235988 + 0.0421242\n",
      "[1400]\tcv_agg's l2: 0.236655 + 0.0421055\n",
      "Early stopping, best iteration is:\n",
      "[1362]\tcv_agg's l2: 0.212522 + 0.0306628\n"
     ]
    },
    {
     "name": "stderr",
     "output_type": "stream",
     "text": [
      "num_leaves, val_score: 0.212522:  75%|####################################7            | 15/20 [00:40<00:21,  4.35s/it][I 2023-11-05 11:50:27,734] Trial 21 finished with value: 0.23641689243817487 and parameters: {'num_leaves': 24}. Best is trial 15 with value: 0.2125220484726215.\n",
      "num_leaves, val_score: 0.212522:  75%|####################################7            | 15/20 [00:40<00:21,  4.35s/it]"
     ]
    },
    {
     "name": "stdout",
     "output_type": "stream",
     "text": [
      "[100]\tcv_agg's l2: 0.240137 + 0.0376968\n",
      "[200]\tcv_agg's l2: 0.227663 + 0.0411709\n",
      "[300]\tcv_agg's l2: 0.225921 + 0.0412165\n",
      "[400]\tcv_agg's l2: 0.226246 + 0.0412173\n",
      "[500]\tcv_agg's l2: 0.226796 + 0.0418535\n",
      "[600]\tcv_agg's l2: 0.22801 + 0.0420775\n",
      "[700]\tcv_agg's l2: 0.229597 + 0.0423549\n",
      "[800]\tcv_agg's l2: 0.23075 + 0.0426852\n",
      "[900]\tcv_agg's l2: 0.232185 + 0.0427983\n",
      "[1000]\tcv_agg's l2: 0.233111 + 0.0426226\n",
      "[1100]\tcv_agg's l2: 0.234334 + 0.04256\n",
      "[1200]\tcv_agg's l2: 0.235168 + 0.0424906\n",
      "[1300]\tcv_agg's l2: 0.23603 + 0.0424895\n"
     ]
    },
    {
     "name": "stderr",
     "output_type": "stream",
     "text": [
      "\r",
      "num_leaves, val_score: 0.212522:  75%|####################################7            | 15/20 [00:44<00:21,  4.35s/it]"
     ]
    },
    {
     "name": "stdout",
     "output_type": "stream",
     "text": [
      "[1400]\tcv_agg's l2: 0.236673 + 0.0421704\n",
      "Early stopping, best iteration is:\n",
      "[1362]\tcv_agg's l2: 0.212522 + 0.0306628\n"
     ]
    },
    {
     "name": "stderr",
     "output_type": "stream",
     "text": [
      "num_leaves, val_score: 0.212522:  80%|#######################################2         | 16/20 [00:44<00:17,  4.39s/it][I 2023-11-05 11:50:32,207] Trial 22 finished with value: 0.23637337218927157 and parameters: {'num_leaves': 38}. Best is trial 15 with value: 0.2125220484726215.\n",
      "num_leaves, val_score: 0.212522:  80%|#######################################2         | 16/20 [00:44<00:17,  4.39s/it]"
     ]
    },
    {
     "name": "stdout",
     "output_type": "stream",
     "text": [
      "[100]\tcv_agg's l2: 0.315883 + 0.0549709\n",
      "[200]\tcv_agg's l2: 0.27007 + 0.0440472\n",
      "[300]\tcv_agg's l2: 0.257623 + 0.0424323\n",
      "[400]\tcv_agg's l2: 0.249066 + 0.0398527\n",
      "[500]\tcv_agg's l2: 0.243467 + 0.0382935\n",
      "[600]\tcv_agg's l2: 0.239327 + 0.0358259\n",
      "[700]\tcv_agg's l2: 0.23666 + 0.0344608\n",
      "[800]\tcv_agg's l2: 0.233677 + 0.0332502\n",
      "[900]\tcv_agg's l2: 0.231755 + 0.030837\n",
      "[1000]\tcv_agg's l2: 0.231036 + 0.0302677\n",
      "[1100]\tcv_agg's l2: 0.229346 + 0.0285356\n",
      "[1200]\tcv_agg's l2: 0.227546 + 0.0283331\n"
     ]
    },
    {
     "name": "stderr",
     "output_type": "stream",
     "text": [
      "num_leaves, val_score: 0.212522:  85%|#########################################6       | 17/20 [00:45<00:10,  3.44s/it][I 2023-11-05 11:50:33,438] Trial 23 finished with value: 0.2266767652845642 and parameters: {'num_leaves': 3}. Best is trial 15 with value: 0.2125220484726215.\n",
      "num_leaves, val_score: 0.212522:  85%|#########################################6       | 17/20 [00:45<00:10,  3.44s/it]"
     ]
    },
    {
     "name": "stdout",
     "output_type": "stream",
     "text": [
      "[1300]\tcv_agg's l2: 0.226932 + 0.0279627\n",
      "[1400]\tcv_agg's l2: 0.226204 + 0.0276207\n",
      "Early stopping, best iteration is:\n",
      "[1362]\tcv_agg's l2: 0.212522 + 0.0306628\n",
      "[100]\tcv_agg's l2: 0.240137 + 0.0376968\n",
      "[200]\tcv_agg's l2: 0.227663 + 0.0411709\n",
      "[300]\tcv_agg's l2: 0.225921 + 0.0412165\n",
      "[400]\tcv_agg's l2: 0.226246 + 0.0412173\n",
      "[500]\tcv_agg's l2: 0.226796 + 0.0418535\n",
      "[600]\tcv_agg's l2: 0.22801 + 0.0420775\n",
      "[700]\tcv_agg's l2: 0.229597 + 0.0423549\n",
      "[800]\tcv_agg's l2: 0.23075 + 0.0426852\n",
      "[900]\tcv_agg's l2: 0.232185 + 0.0427983\n",
      "[1000]\tcv_agg's l2: 0.233111 + 0.0426226\n",
      "[1100]\tcv_agg's l2: 0.234334 + 0.04256\n",
      "[1200]\tcv_agg's l2: 0.235168 + 0.0424906\n",
      "[1300]\tcv_agg's l2: 0.23603 + 0.0424895\n",
      "[1400]\tcv_agg's l2: 0.236673 + 0.0421704\n"
     ]
    },
    {
     "name": "stderr",
     "output_type": "stream",
     "text": [
      "num_leaves, val_score: 0.212522:  90%|############################################1    | 18/20 [00:50<00:07,  3.76s/it][I 2023-11-05 11:50:37,948] Trial 24 finished with value: 0.23637337218927157 and parameters: {'num_leaves': 39}. Best is trial 15 with value: 0.2125220484726215.\n",
      "num_leaves, val_score: 0.212522:  90%|############################################1    | 18/20 [00:50<00:07,  3.76s/it]"
     ]
    },
    {
     "name": "stdout",
     "output_type": "stream",
     "text": [
      "Early stopping, best iteration is:\n",
      "[1362]\tcv_agg's l2: 0.212522 + 0.0306628\n",
      "[100]\tcv_agg's l2: 0.240137 + 0.0376968\n",
      "[200]\tcv_agg's l2: 0.227663 + 0.0411709\n",
      "[300]\tcv_agg's l2: 0.225921 + 0.0412165\n",
      "[400]\tcv_agg's l2: 0.226246 + 0.0412173\n",
      "[500]\tcv_agg's l2: 0.226796 + 0.0418535\n",
      "[600]\tcv_agg's l2: 0.22801 + 0.0420775\n",
      "[700]\tcv_agg's l2: 0.229597 + 0.0423549\n",
      "[800]\tcv_agg's l2: 0.23075 + 0.0426852\n",
      "[900]\tcv_agg's l2: 0.232185 + 0.0427983\n",
      "[1000]\tcv_agg's l2: 0.233111 + 0.0426226\n",
      "[1100]\tcv_agg's l2: 0.234334 + 0.04256\n",
      "[1200]\tcv_agg's l2: 0.235168 + 0.0424906\n",
      "[1300]\tcv_agg's l2: 0.23603 + 0.0424895\n",
      "[1400]\tcv_agg's l2: 0.236673 + 0.0421704\n",
      "Early stopping, best iteration is:\n",
      "[1362]\tcv_agg's l2: 0.212522 + 0.0306628\n"
     ]
    },
    {
     "name": "stderr",
     "output_type": "stream",
     "text": [
      "num_leaves, val_score: 0.212522:  95%|##############################################5  | 19/20 [00:55<00:04,  4.12s/it][I 2023-11-05 11:50:42,887] Trial 25 finished with value: 0.23637337218927157 and parameters: {'num_leaves': 82}. Best is trial 15 with value: 0.2125220484726215.\n",
      "num_leaves, val_score: 0.212522:  95%|##############################################5  | 19/20 [00:55<00:04,  4.12s/it]"
     ]
    },
    {
     "name": "stdout",
     "output_type": "stream",
     "text": [
      "[100]\tcv_agg's l2: 0.240137 + 0.0376968\n",
      "[200]\tcv_agg's l2: 0.227663 + 0.0411709\n",
      "[300]\tcv_agg's l2: 0.225921 + 0.0412165\n",
      "[400]\tcv_agg's l2: 0.226246 + 0.0412173\n",
      "[500]\tcv_agg's l2: 0.226796 + 0.0418535\n",
      "[600]\tcv_agg's l2: 0.22801 + 0.0420775\n",
      "[700]\tcv_agg's l2: 0.229597 + 0.0423549\n",
      "[800]\tcv_agg's l2: 0.23075 + 0.0426852\n",
      "[900]\tcv_agg's l2: 0.232185 + 0.0427983\n",
      "[1000]\tcv_agg's l2: 0.233111 + 0.0426226\n",
      "[1100]\tcv_agg's l2: 0.234334 + 0.04256\n",
      "[1200]\tcv_agg's l2: 0.235168 + 0.0424906\n",
      "[1300]\tcv_agg's l2: 0.23603 + 0.0424895\n"
     ]
    },
    {
     "name": "stderr",
     "output_type": "stream",
     "text": [
      "\r",
      "num_leaves, val_score: 0.212522:  95%|##############################################5  | 19/20 [00:59<00:04,  4.12s/it]"
     ]
    },
    {
     "name": "stdout",
     "output_type": "stream",
     "text": [
      "[1400]\tcv_agg's l2: 0.236673 + 0.0421704\n",
      "Early stopping, best iteration is:\n",
      "[1362]\tcv_agg's l2: 0.212522 + 0.0306628\n"
     ]
    },
    {
     "name": "stderr",
     "output_type": "stream",
     "text": [
      "num_leaves, val_score: 0.212522: 100%|#################################################| 20/20 [00:59<00:00,  4.26s/it][I 2023-11-05 11:50:47,470] Trial 26 finished with value: 0.23637337218927157 and parameters: {'num_leaves': 37}. Best is trial 15 with value: 0.2125220484726215.\n",
      "num_leaves, val_score: 0.212522: 100%|#################################################| 20/20 [00:59<00:00,  3.00s/it]\n",
      "bagging, val_score: 0.212522:   0%|                                                             | 0/10 [00:00<?, ?it/s]"
     ]
    },
    {
     "name": "stdout",
     "output_type": "stream",
     "text": [
      "[100]\tcv_agg's l2: 0.314934 + 0.059538\n",
      "[200]\tcv_agg's l2: 0.30148 + 0.0558044\n",
      "[300]\tcv_agg's l2: 0.292019 + 0.0541363\n",
      "[400]\tcv_agg's l2: 0.285218 + 0.051466\n",
      "[500]\tcv_agg's l2: 0.277737 + 0.0567462\n",
      "[600]\tcv_agg's l2: 0.277581 + 0.0603072\n",
      "[700]\tcv_agg's l2: 0.272288 + 0.0582173\n",
      "[800]\tcv_agg's l2: 0.27054 + 0.0554555\n",
      "[900]\tcv_agg's l2: 0.268809 + 0.0554231\n",
      "[1000]\tcv_agg's l2: 0.265926 + 0.0575633\n",
      "[1100]\tcv_agg's l2: 0.272497 + 0.0540315\n",
      "[1200]\tcv_agg's l2: 0.27009 + 0.0553895\n"
     ]
    },
    {
     "name": "stderr",
     "output_type": "stream",
     "text": [
      "\r",
      "bagging, val_score: 0.212522:   0%|                                                             | 0/10 [00:01<?, ?it/s]"
     ]
    },
    {
     "name": "stdout",
     "output_type": "stream",
     "text": [
      "[1300]\tcv_agg's l2: 0.271899 + 0.0565124\n",
      "[1400]\tcv_agg's l2: 0.267706 + 0.060557\n",
      "Early stopping, best iteration is:\n",
      "[1362]\tcv_agg's l2: 0.212522 + 0.0306628\n"
     ]
    },
    {
     "name": "stderr",
     "output_type": "stream",
     "text": [
      "bagging, val_score: 0.212522:  10%|#####3                                               | 1/10 [00:01<00:15,  1.72s/it][I 2023-11-05 11:50:49,197] Trial 27 finished with value: 0.26601427388833315 and parameters: {'bagging_fraction': 0.4808952893288607, 'bagging_freq': 5}. Best is trial 27 with value: 0.26601427388833315.\n",
      "bagging, val_score: 0.212522:  10%|#####3                                               | 1/10 [00:01<00:15,  1.72s/it]"
     ]
    },
    {
     "name": "stdout",
     "output_type": "stream",
     "text": [
      "[100]\tcv_agg's l2: 0.26427 + 0.0461869\n",
      "[200]\tcv_agg's l2: 0.241284 + 0.0433337\n",
      "[300]\tcv_agg's l2: 0.232682 + 0.0410955\n",
      "[400]\tcv_agg's l2: 0.227215 + 0.0375844\n",
      "[500]\tcv_agg's l2: 0.222919 + 0.0367549\n",
      "[600]\tcv_agg's l2: 0.222005 + 0.0360553\n",
      "[700]\tcv_agg's l2: 0.220219 + 0.0356607\n",
      "[800]\tcv_agg's l2: 0.217941 + 0.0349165\n",
      "[900]\tcv_agg's l2: 0.216689 + 0.0339531\n",
      "[1000]\tcv_agg's l2: 0.217015 + 0.0348579\n",
      "[1100]\tcv_agg's l2: 0.216216 + 0.034056\n",
      "[1200]\tcv_agg's l2: 0.215739 + 0.0345785\n"
     ]
    },
    {
     "name": "stderr",
     "output_type": "stream",
     "text": [
      "\r",
      "bagging, val_score: 0.212522:  10%|#####3                                               | 1/10 [00:03<00:15,  1.72s/it]"
     ]
    },
    {
     "name": "stdout",
     "output_type": "stream",
     "text": [
      "[1300]\tcv_agg's l2: 0.214979 + 0.0347099\n",
      "[1400]\tcv_agg's l2: 0.214626 + 0.0347788\n",
      "Early stopping, best iteration is:\n",
      "[1362]\tcv_agg's l2: 0.212522 + 0.0306628\n"
     ]
    },
    {
     "name": "stderr",
     "output_type": "stream",
     "text": [
      "bagging, val_score: 0.212522:  20%|##########6                                          | 2/10 [00:03<00:14,  1.82s/it][I 2023-11-05 11:50:51,092] Trial 28 finished with value: 0.2144771975566609 and parameters: {'bagging_fraction': 0.9351969607685456, 'bagging_freq': 1}. Best is trial 28 with value: 0.2144771975566609.\n",
      "bagging, val_score: 0.212522:  20%|##########6                                          | 2/10 [00:03<00:14,  1.82s/it]"
     ]
    },
    {
     "name": "stdout",
     "output_type": "stream",
     "text": [
      "[100]\tcv_agg's l2: 0.258498 + 0.0440349\n",
      "[200]\tcv_agg's l2: 0.239061 + 0.0447395\n",
      "[300]\tcv_agg's l2: 0.22945 + 0.0411133\n",
      "[400]\tcv_agg's l2: 0.223241 + 0.0374186\n",
      "[500]\tcv_agg's l2: 0.221098 + 0.0347735\n",
      "[600]\tcv_agg's l2: 0.218601 + 0.033899\n",
      "[700]\tcv_agg's l2: 0.21681 + 0.0316424\n",
      "[800]\tcv_agg's l2: 0.215535 + 0.0306523\n",
      "[900]\tcv_agg's l2: 0.215172 + 0.0307633\n",
      "[1000]\tcv_agg's l2: 0.21457 + 0.0308681\n",
      "[1100]\tcv_agg's l2: 0.214331 + 0.0304567\n",
      "[1200]\tcv_agg's l2: 0.213715 + 0.0307469\n",
      "[1300]\tcv_agg's l2: 0.213174 + 0.0310664\n"
     ]
    },
    {
     "name": "stderr",
     "output_type": "stream",
     "text": [
      "bagging, val_score: 0.212522:  30%|###############9                                     | 3/10 [00:05<00:12,  1.74s/it][I 2023-11-05 11:50:52,722] Trial 29 finished with value: 0.2125220484726215 and parameters: {'bagging_fraction': 0.9994599876047244, 'bagging_freq': 1}. Best is trial 29 with value: 0.2125220484726215.\n",
      "bagging, val_score: 0.212522:  30%|###############9                                     | 3/10 [00:05<00:12,  1.74s/it]"
     ]
    },
    {
     "name": "stdout",
     "output_type": "stream",
     "text": [
      "[1400]\tcv_agg's l2: 0.213012 + 0.0311329\n",
      "Early stopping, best iteration is:\n",
      "[1362]\tcv_agg's l2: 0.212522 + 0.0306628\n",
      "[100]\tcv_agg's l2: 0.262615 + 0.0421607\n",
      "[200]\tcv_agg's l2: 0.23979 + 0.0386863\n",
      "[300]\tcv_agg's l2: 0.232944 + 0.035371\n",
      "[400]\tcv_agg's l2: 0.226667 + 0.0336577\n",
      "[500]\tcv_agg's l2: 0.222679 + 0.0318315\n",
      "[600]\tcv_agg's l2: 0.220004 + 0.0307349\n",
      "[700]\tcv_agg's l2: 0.218933 + 0.0305562\n",
      "[800]\tcv_agg's l2: 0.218322 + 0.0301867\n",
      "[900]\tcv_agg's l2: 0.217474 + 0.0297393\n",
      "[1000]\tcv_agg's l2: 0.217097 + 0.0295992\n",
      "[1100]\tcv_agg's l2: 0.216804 + 0.0292545\n",
      "[1200]\tcv_agg's l2: 0.216201 + 0.0288418\n",
      "[1300]\tcv_agg's l2: 0.215795 + 0.0284401\n",
      "[1400]\tcv_agg's l2: 0.21622 + 0.0286602\n"
     ]
    },
    {
     "name": "stderr",
     "output_type": "stream",
     "text": [
      "bagging, val_score: 0.212522:  40%|#####################2                               | 4/10 [00:07<00:10,  1.82s/it][I 2023-11-05 11:50:54,684] Trial 30 finished with value: 0.2160798484849419 and parameters: {'bagging_fraction': 0.9782526926430583, 'bagging_freq': 1}. Best is trial 29 with value: 0.2125220484726215.\n",
      "bagging, val_score: 0.212522:  40%|#####################2                               | 4/10 [00:07<00:10,  1.82s/it]"
     ]
    },
    {
     "name": "stdout",
     "output_type": "stream",
     "text": [
      "Early stopping, best iteration is:\n",
      "[1362]\tcv_agg's l2: 0.212522 + 0.0306628\n",
      "[100]\tcv_agg's l2: 0.257605 + 0.0437445\n",
      "[200]\tcv_agg's l2: 0.236443 + 0.0424723\n",
      "[300]\tcv_agg's l2: 0.230174 + 0.0395474\n",
      "[400]\tcv_agg's l2: 0.224301 + 0.0364666\n",
      "[500]\tcv_agg's l2: 0.220937 + 0.0357701\n",
      "[600]\tcv_agg's l2: 0.218718 + 0.034787\n",
      "[700]\tcv_agg's l2: 0.21696 + 0.0338189\n",
      "[800]\tcv_agg's l2: 0.216925 + 0.0327572\n",
      "[900]\tcv_agg's l2: 0.215807 + 0.0331924\n",
      "[1000]\tcv_agg's l2: 0.21538 + 0.0332575\n",
      "[1100]\tcv_agg's l2: 0.215573 + 0.0322354\n",
      "[1200]\tcv_agg's l2: 0.21539 + 0.0320946\n",
      "[1300]\tcv_agg's l2: 0.215265 + 0.031735\n"
     ]
    },
    {
     "name": "stderr",
     "output_type": "stream",
     "text": [
      "bagging, val_score: 0.212522:  50%|##########################5                          | 5/10 [00:08<00:08,  1.74s/it][I 2023-11-05 11:50:56,285] Trial 31 finished with value: 0.2154184112304321 and parameters: {'bagging_fraction': 0.9979981023738813, 'bagging_freq': 1}. Best is trial 29 with value: 0.2125220484726215.\n",
      "bagging, val_score: 0.212522:  50%|##########################5                          | 5/10 [00:08<00:08,  1.74s/it]"
     ]
    },
    {
     "name": "stdout",
     "output_type": "stream",
     "text": [
      "[1400]\tcv_agg's l2: 0.215324 + 0.031525\n",
      "Early stopping, best iteration is:\n",
      "[1362]\tcv_agg's l2: 0.212522 + 0.0306628\n",
      "[100]\tcv_agg's l2: 0.262122 + 0.0416954\n",
      "[200]\tcv_agg's l2: 0.239589 + 0.0408365\n",
      "[300]\tcv_agg's l2: 0.230798 + 0.0376104\n",
      "[400]\tcv_agg's l2: 0.224585 + 0.0353756\n",
      "[500]\tcv_agg's l2: 0.221513 + 0.0348827\n",
      "[600]\tcv_agg's l2: 0.220374 + 0.0336223\n",
      "[700]\tcv_agg's l2: 0.218153 + 0.0317105\n",
      "[800]\tcv_agg's l2: 0.215837 + 0.0310963\n",
      "[900]\tcv_agg's l2: 0.215083 + 0.0313197\n",
      "[1000]\tcv_agg's l2: 0.21538 + 0.0308487\n",
      "[1100]\tcv_agg's l2: 0.214087 + 0.0312707\n",
      "[1200]\tcv_agg's l2: 0.213617 + 0.0305169\n",
      "[1300]\tcv_agg's l2: 0.213601 + 0.0307806\n",
      "[1400]\tcv_agg's l2: 0.213624 + 0.0310117\n",
      "Early stopping, best iteration is:\n",
      "[1362]\tcv_agg's l2: 0.212522 + 0.0306628\n"
     ]
    },
    {
     "name": "stderr",
     "output_type": "stream",
     "text": [
      "bagging, val_score: 0.212522:  60%|###############################8                     | 6/10 [00:10<00:07,  1.79s/it][I 2023-11-05 11:50:58,166] Trial 32 finished with value: 0.21368908890257035 and parameters: {'bagging_fraction': 0.9875910735462161, 'bagging_freq': 1}. Best is trial 29 with value: 0.2125220484726215.\n",
      "bagging, val_score: 0.212522:  60%|###############################8                     | 6/10 [00:10<00:07,  1.79s/it]"
     ]
    },
    {
     "name": "stdout",
     "output_type": "stream",
     "text": [
      "[100]\tcv_agg's l2: 0.264423 + 0.0398644\n",
      "[200]\tcv_agg's l2: 0.242513 + 0.0381113\n",
      "[300]\tcv_agg's l2: 0.232854 + 0.0358405\n",
      "[400]\tcv_agg's l2: 0.227053 + 0.0337827\n",
      "[500]\tcv_agg's l2: 0.224319 + 0.0315634\n",
      "[600]\tcv_agg's l2: 0.222066 + 0.0308883\n",
      "[700]\tcv_agg's l2: 0.221059 + 0.0308164\n",
      "[800]\tcv_agg's l2: 0.219088 + 0.0303207\n",
      "[900]\tcv_agg's l2: 0.218597 + 0.0294373\n",
      "[1000]\tcv_agg's l2: 0.21803 + 0.0297088\n",
      "[1100]\tcv_agg's l2: 0.217349 + 0.0287323\n",
      "[1200]\tcv_agg's l2: 0.217117 + 0.0289478\n",
      "[1300]\tcv_agg's l2: 0.217255 + 0.02859\n",
      "[1400]\tcv_agg's l2: 0.216972 + 0.0297224\n",
      "Early stopping, best iteration is:\n",
      "[1362]\tcv_agg's l2: 0.212522 + 0.0306628\n"
     ]
    },
    {
     "name": "stderr",
     "output_type": "stream",
     "text": [
      "bagging, val_score: 0.212522:  70%|#####################################                | 7/10 [00:12<00:05,  1.80s/it][I 2023-11-05 11:50:59,971] Trial 33 finished with value: 0.21730404711062112 and parameters: {'bagging_fraction': 0.9737076988537577, 'bagging_freq': 1}. Best is trial 29 with value: 0.2125220484726215.\n",
      "bagging, val_score: 0.212522:  70%|#####################################                | 7/10 [00:12<00:05,  1.80s/it]"
     ]
    },
    {
     "name": "stdout",
     "output_type": "stream",
     "text": [
      "[100]\tcv_agg's l2: 0.259249 + 0.0483394\n",
      "[200]\tcv_agg's l2: 0.24066 + 0.044868\n",
      "[300]\tcv_agg's l2: 0.231941 + 0.0456489\n",
      "[400]\tcv_agg's l2: 0.227104 + 0.0425515\n",
      "[500]\tcv_agg's l2: 0.220089 + 0.0391518\n",
      "[600]\tcv_agg's l2: 0.217256 + 0.0377181\n",
      "[700]\tcv_agg's l2: 0.215391 + 0.0356359\n",
      "[800]\tcv_agg's l2: 0.213893 + 0.0364206\n"
     ]
    },
    {
     "name": "stderr",
     "output_type": "stream",
     "text": [
      "\r",
      "bagging, val_score: 0.210805:  70%|#####################################                | 7/10 [00:13<00:05,  1.80s/it]"
     ]
    },
    {
     "name": "stdout",
     "output_type": "stream",
     "text": [
      "[900]\tcv_agg's l2: 0.212182 + 0.0351406\n",
      "[1000]\tcv_agg's l2: 0.211697 + 0.034322\n",
      "Early stopping, best iteration is:\n",
      "[933]\tcv_agg's l2: 0.210805 + 0.035148\n"
     ]
    },
    {
     "name": "stderr",
     "output_type": "stream",
     "text": [
      "bagging, val_score: 0.210805:  80%|##########################################4          | 8/10 [00:13<00:03,  1.68s/it][I 2023-11-05 11:51:01,391] Trial 34 finished with value: 0.21080455534754602 and parameters: {'bagging_fraction': 0.8700015947060504, 'bagging_freq': 3}. Best is trial 34 with value: 0.21080455534754602.\n",
      "bagging, val_score: 0.210805:  80%|##########################################4          | 8/10 [00:13<00:03,  1.68s/it]"
     ]
    },
    {
     "name": "stdout",
     "output_type": "stream",
     "text": [
      "[100]\tcv_agg's l2: 0.270302 + 0.0439829\n",
      "[200]\tcv_agg's l2: 0.247151 + 0.0409315\n",
      "[300]\tcv_agg's l2: 0.240463 + 0.0408024\n",
      "[400]\tcv_agg's l2: 0.232861 + 0.040213\n",
      "[500]\tcv_agg's l2: 0.228678 + 0.0368778\n",
      "[600]\tcv_agg's l2: 0.226846 + 0.0374564\n",
      "[700]\tcv_agg's l2: 0.225152 + 0.0336158\n",
      "[800]\tcv_agg's l2: 0.222537 + 0.0326641\n"
     ]
    },
    {
     "name": "stderr",
     "output_type": "stream",
     "text": [
      "\r",
      "bagging, val_score: 0.210805:  80%|##########################################4          | 8/10 [00:15<00:03,  1.68s/it]"
     ]
    },
    {
     "name": "stdout",
     "output_type": "stream",
     "text": [
      "[900]\tcv_agg's l2: 0.220981 + 0.0310594\n",
      "[1000]\tcv_agg's l2: 0.220092 + 0.0309156\n",
      "Early stopping, best iteration is:\n",
      "[933]\tcv_agg's l2: 0.210805 + 0.035148\n"
     ]
    },
    {
     "name": "stderr",
     "output_type": "stream",
     "text": [
      "bagging, val_score: 0.210805:  90%|###############################################7     | 9/10 [00:15<00:01,  1.60s/it][I 2023-11-05 11:51:02,834] Trial 35 finished with value: 0.21957523548542102 and parameters: {'bagging_fraction': 0.8222124829542239, 'bagging_freq': 3}. Best is trial 34 with value: 0.21080455534754602.\n",
      "bagging, val_score: 0.210805:  90%|###############################################7     | 9/10 [00:15<00:01,  1.60s/it]"
     ]
    },
    {
     "name": "stdout",
     "output_type": "stream",
     "text": [
      "[100]\tcv_agg's l2: 0.265904 + 0.0409328\n",
      "[200]\tcv_agg's l2: 0.24204 + 0.0366708\n",
      "[300]\tcv_agg's l2: 0.237221 + 0.0371599\n",
      "[400]\tcv_agg's l2: 0.23164 + 0.0363025\n",
      "[500]\tcv_agg's l2: 0.226265 + 0.0352815\n",
      "[600]\tcv_agg's l2: 0.222806 + 0.034269\n",
      "[700]\tcv_agg's l2: 0.221341 + 0.032025\n",
      "[800]\tcv_agg's l2: 0.218499 + 0.0314681\n"
     ]
    },
    {
     "name": "stderr",
     "output_type": "stream",
     "text": [
      "\r",
      "bagging, val_score: 0.210805:  90%|###############################################7     | 9/10 [00:16<00:01,  1.60s/it]"
     ]
    },
    {
     "name": "stdout",
     "output_type": "stream",
     "text": [
      "[900]\tcv_agg's l2: 0.21699 + 0.0297064\n",
      "[1000]\tcv_agg's l2: 0.21624 + 0.0290849\n",
      "Early stopping, best iteration is:\n",
      "[933]\tcv_agg's l2: 0.210805 + 0.035148\n"
     ]
    },
    {
     "name": "stderr",
     "output_type": "stream",
     "text": [
      "bagging, val_score: 0.210805: 100%|####################################################| 10/10 [00:16<00:00,  1.55s/it][I 2023-11-05 11:51:04,271] Trial 36 finished with value: 0.2156258943792221 and parameters: {'bagging_fraction': 0.8191259318474586, 'bagging_freq': 3}. Best is trial 34 with value: 0.21080455534754602.\n",
      "bagging, val_score: 0.210805: 100%|####################################################| 10/10 [00:16<00:00,  1.68s/it]\n",
      "feature_fraction_stage2, val_score: 0.210805:   0%|                                              | 0/6 [00:00<?, ?it/s]"
     ]
    },
    {
     "name": "stdout",
     "output_type": "stream",
     "text": [
      "[100]\tcv_agg's l2: 0.259249 + 0.0483394\n",
      "[200]\tcv_agg's l2: 0.24066 + 0.044868\n",
      "[300]\tcv_agg's l2: 0.231941 + 0.0456489\n",
      "[400]\tcv_agg's l2: 0.227104 + 0.0425515\n",
      "[500]\tcv_agg's l2: 0.220089 + 0.0391518\n",
      "[600]\tcv_agg's l2: 0.217256 + 0.0377181\n",
      "[700]\tcv_agg's l2: 0.215391 + 0.0356359\n",
      "[800]\tcv_agg's l2: 0.213893 + 0.0364206\n"
     ]
    },
    {
     "name": "stderr",
     "output_type": "stream",
     "text": [
      "\r",
      "feature_fraction_stage2, val_score: 0.210805:   0%|                                              | 0/6 [00:01<?, ?it/s]"
     ]
    },
    {
     "name": "stdout",
     "output_type": "stream",
     "text": [
      "[900]\tcv_agg's l2: 0.212182 + 0.0351406\n",
      "[1000]\tcv_agg's l2: 0.211697 + 0.034322\n",
      "Early stopping, best iteration is:\n",
      "[933]\tcv_agg's l2: 0.210805 + 0.035148\n"
     ]
    },
    {
     "name": "stderr",
     "output_type": "stream",
     "text": [
      "feature_fraction_stage2, val_score: 0.210805:  17%|######3                               | 1/6 [00:01<00:06,  1.38s/it][I 2023-11-05 11:51:05,657] Trial 37 finished with value: 0.21080455534754602 and parameters: {'feature_fraction': 0.7799999999999999}. Best is trial 37 with value: 0.21080455534754602.\n",
      "feature_fraction_stage2, val_score: 0.210805:  17%|######3                               | 1/6 [00:01<00:06,  1.38s/it]"
     ]
    },
    {
     "name": "stdout",
     "output_type": "stream",
     "text": [
      "[100]\tcv_agg's l2: 0.259249 + 0.0483394\n",
      "[200]\tcv_agg's l2: 0.24066 + 0.044868\n",
      "[300]\tcv_agg's l2: 0.231941 + 0.0456489\n",
      "[400]\tcv_agg's l2: 0.227104 + 0.0425515\n",
      "[500]\tcv_agg's l2: 0.220089 + 0.0391518\n",
      "[600]\tcv_agg's l2: 0.217256 + 0.0377181\n",
      "[700]\tcv_agg's l2: 0.215391 + 0.0356359\n",
      "[800]\tcv_agg's l2: 0.213893 + 0.0364206\n"
     ]
    },
    {
     "name": "stderr",
     "output_type": "stream",
     "text": [
      "\r",
      "feature_fraction_stage2, val_score: 0.210805:  17%|######3                               | 1/6 [00:02<00:06,  1.38s/it]"
     ]
    },
    {
     "name": "stdout",
     "output_type": "stream",
     "text": [
      "[900]\tcv_agg's l2: 0.212182 + 0.0351406\n",
      "[1000]\tcv_agg's l2: 0.211697 + 0.034322\n",
      "Early stopping, best iteration is:\n",
      "[933]\tcv_agg's l2: 0.210805 + 0.035148\n"
     ]
    },
    {
     "name": "stderr",
     "output_type": "stream",
     "text": [
      "feature_fraction_stage2, val_score: 0.210805:  33%|############6                         | 2/6 [00:02<00:05,  1.34s/it][I 2023-11-05 11:51:06,977] Trial 38 finished with value: 0.21080455534754602 and parameters: {'feature_fraction': 0.748}. Best is trial 37 with value: 0.21080455534754602.\n",
      "feature_fraction_stage2, val_score: 0.210805:  33%|############6                         | 2/6 [00:02<00:05,  1.34s/it]"
     ]
    },
    {
     "name": "stdout",
     "output_type": "stream",
     "text": [
      "[100]\tcv_agg's l2: 0.277918 + 0.052982\n",
      "[200]\tcv_agg's l2: 0.249976 + 0.0478663\n",
      "[300]\tcv_agg's l2: 0.24118 + 0.0472279\n",
      "[400]\tcv_agg's l2: 0.234042 + 0.0434872\n",
      "[500]\tcv_agg's l2: 0.229978 + 0.0417645\n",
      "[600]\tcv_agg's l2: 0.225812 + 0.0395483\n",
      "[700]\tcv_agg's l2: 0.224001 + 0.0376353\n",
      "[800]\tcv_agg's l2: 0.223056 + 0.0384113\n"
     ]
    },
    {
     "name": "stderr",
     "output_type": "stream",
     "text": [
      "feature_fraction_stage2, val_score: 0.210805:  50%|###################                   | 3/6 [00:04<00:03,  1.33s/it][I 2023-11-05 11:51:08,284] Trial 39 finished with value: 0.2211325805034309 and parameters: {'feature_fraction': 0.652}. Best is trial 37 with value: 0.21080455534754602.\n",
      "feature_fraction_stage2, val_score: 0.210805:  50%|###################                   | 3/6 [00:04<00:03,  1.33s/it]"
     ]
    },
    {
     "name": "stdout",
     "output_type": "stream",
     "text": [
      "[900]\tcv_agg's l2: 0.221484 + 0.0382111\n",
      "[1000]\tcv_agg's l2: 0.221717 + 0.0382264\n",
      "Early stopping, best iteration is:\n",
      "[933]\tcv_agg's l2: 0.210805 + 0.035148\n",
      "[100]\tcv_agg's l2: 0.259249 + 0.0483394\n",
      "[200]\tcv_agg's l2: 0.24066 + 0.044868\n",
      "[300]\tcv_agg's l2: 0.231941 + 0.0456489\n",
      "[400]\tcv_agg's l2: 0.227104 + 0.0425515\n",
      "[500]\tcv_agg's l2: 0.220089 + 0.0391518\n",
      "[600]\tcv_agg's l2: 0.217256 + 0.0377181\n",
      "[700]\tcv_agg's l2: 0.215391 + 0.0356359\n",
      "[800]\tcv_agg's l2: 0.213893 + 0.0364206\n"
     ]
    },
    {
     "name": "stderr",
     "output_type": "stream",
     "text": [
      "\r",
      "feature_fraction_stage2, val_score: 0.210805:  50%|###################                   | 3/6 [00:05<00:03,  1.33s/it]"
     ]
    },
    {
     "name": "stdout",
     "output_type": "stream",
     "text": [
      "[900]\tcv_agg's l2: 0.212182 + 0.0351406\n",
      "[1000]\tcv_agg's l2: 0.211697 + 0.034322\n",
      "Early stopping, best iteration is:\n",
      "[933]\tcv_agg's l2: 0.210805 + 0.035148\n"
     ]
    },
    {
     "name": "stderr",
     "output_type": "stream",
     "text": [
      "feature_fraction_stage2, val_score: 0.210805:  67%|#########################3            | 4/6 [00:05<00:02,  1.33s/it][I 2023-11-05 11:51:09,607] Trial 40 finished with value: 0.21080455534754602 and parameters: {'feature_fraction': 0.716}. Best is trial 37 with value: 0.21080455534754602.\n",
      "feature_fraction_stage2, val_score: 0.210805:  67%|#########################3            | 4/6 [00:05<00:02,  1.33s/it]"
     ]
    },
    {
     "name": "stdout",
     "output_type": "stream",
     "text": [
      "[100]\tcv_agg's l2: 0.277918 + 0.052982\n",
      "[200]\tcv_agg's l2: 0.249976 + 0.0478663\n",
      "[300]\tcv_agg's l2: 0.24118 + 0.0472279\n",
      "[400]\tcv_agg's l2: 0.234042 + 0.0434872\n",
      "[500]\tcv_agg's l2: 0.229978 + 0.0417645\n",
      "[600]\tcv_agg's l2: 0.225812 + 0.0395483\n",
      "[700]\tcv_agg's l2: 0.224001 + 0.0376353\n",
      "[800]\tcv_agg's l2: 0.223056 + 0.0384113\n"
     ]
    },
    {
     "name": "stderr",
     "output_type": "stream",
     "text": [
      "feature_fraction_stage2, val_score: 0.210805:  83%|###############################6      | 5/6 [00:06<00:01,  1.36s/it][I 2023-11-05 11:51:11,037] Trial 41 finished with value: 0.2211325805034309 and parameters: {'feature_fraction': 0.62}. Best is trial 37 with value: 0.21080455534754602.\n",
      "feature_fraction_stage2, val_score: 0.210805:  83%|###############################6      | 5/6 [00:06<00:01,  1.36s/it]"
     ]
    },
    {
     "name": "stdout",
     "output_type": "stream",
     "text": [
      "[900]\tcv_agg's l2: 0.221484 + 0.0382111\n",
      "[1000]\tcv_agg's l2: 0.221717 + 0.0382264\n",
      "Early stopping, best iteration is:\n",
      "[933]\tcv_agg's l2: 0.210805 + 0.035148\n",
      "[100]\tcv_agg's l2: 0.277918 + 0.052982\n",
      "[200]\tcv_agg's l2: 0.249976 + 0.0478663\n",
      "[300]\tcv_agg's l2: 0.24118 + 0.0472279\n",
      "[400]\tcv_agg's l2: 0.234042 + 0.0434872\n",
      "[500]\tcv_agg's l2: 0.229978 + 0.0417645\n",
      "[600]\tcv_agg's l2: 0.225812 + 0.0395483\n",
      "[700]\tcv_agg's l2: 0.224001 + 0.0376353\n",
      "[800]\tcv_agg's l2: 0.223056 + 0.0384113\n"
     ]
    },
    {
     "name": "stderr",
     "output_type": "stream",
     "text": [
      "feature_fraction_stage2, val_score: 0.210805: 100%|######################################| 6/6 [00:07<00:00,  1.31s/it][I 2023-11-05 11:51:12,250] Trial 42 finished with value: 0.2211325805034309 and parameters: {'feature_fraction': 0.6839999999999999}. Best is trial 37 with value: 0.21080455534754602.\n",
      "feature_fraction_stage2, val_score: 0.210805: 100%|######################################| 6/6 [00:07<00:00,  1.33s/it]\n"
     ]
    },
    {
     "name": "stdout",
     "output_type": "stream",
     "text": [
      "[900]\tcv_agg's l2: 0.221484 + 0.0382111\n",
      "[1000]\tcv_agg's l2: 0.221717 + 0.0382264\n",
      "Early stopping, best iteration is:\n",
      "[933]\tcv_agg's l2: 0.210805 + 0.035148\n"
     ]
    },
    {
     "name": "stderr",
     "output_type": "stream",
     "text": [
      "regularization_factors, val_score: 0.210805:   0%|                                              | 0/20 [00:00<?, ?it/s]"
     ]
    },
    {
     "name": "stdout",
     "output_type": "stream",
     "text": [
      "[100]\tcv_agg's l2: 0.259703 + 0.0479411\n",
      "[200]\tcv_agg's l2: 0.240427 + 0.0445234\n",
      "[300]\tcv_agg's l2: 0.233323 + 0.0444222\n",
      "[400]\tcv_agg's l2: 0.228423 + 0.0426418\n",
      "[500]\tcv_agg's l2: 0.22338 + 0.0390605\n",
      "[600]\tcv_agg's l2: 0.220535 + 0.0376297\n",
      "[700]\tcv_agg's l2: 0.219088 + 0.0351367\n",
      "[800]\tcv_agg's l2: 0.216548 + 0.0348209\n"
     ]
    },
    {
     "name": "stderr",
     "output_type": "stream",
     "text": [
      "regularization_factors, val_score: 0.210805:   5%|#9                                    | 1/20 [00:01<00:25,  1.36s/it][I 2023-11-05 11:51:13,618] Trial 43 finished with value: 0.21361639466710192 and parameters: {'lambda_l1': 0.004768962952276808, 'lambda_l2': 0.009243605737420165}. Best is trial 43 with value: 0.21361639466710192.\n",
      "regularization_factors, val_score: 0.210805:   5%|#9                                    | 1/20 [00:01<00:25,  1.36s/it]"
     ]
    },
    {
     "name": "stdout",
     "output_type": "stream",
     "text": [
      "[900]\tcv_agg's l2: 0.214962 + 0.0337826\n",
      "[1000]\tcv_agg's l2: 0.213811 + 0.0332129\n",
      "Early stopping, best iteration is:\n",
      "[933]\tcv_agg's l2: 0.210805 + 0.035148\n",
      "[100]\tcv_agg's l2: 0.259249 + 0.0483394\n",
      "[200]\tcv_agg's l2: 0.24066 + 0.044868\n",
      "[300]\tcv_agg's l2: 0.231941 + 0.0456489\n",
      "[400]\tcv_agg's l2: 0.227104 + 0.0425515\n",
      "[500]\tcv_agg's l2: 0.220089 + 0.0391518\n",
      "[600]\tcv_agg's l2: 0.217256 + 0.0377181\n",
      "[700]\tcv_agg's l2: 0.215391 + 0.0356359\n",
      "[800]\tcv_agg's l2: 0.213893 + 0.0364206\n"
     ]
    },
    {
     "name": "stderr",
     "output_type": "stream",
     "text": [
      "\r",
      "regularization_factors, val_score: 0.210805:   5%|#9                                    | 1/20 [00:02<00:25,  1.36s/it]"
     ]
    },
    {
     "name": "stdout",
     "output_type": "stream",
     "text": [
      "[900]\tcv_agg's l2: 0.212182 + 0.0351406\n",
      "[1000]\tcv_agg's l2: 0.211697 + 0.034322\n",
      "Early stopping, best iteration is:\n",
      "[933]\tcv_agg's l2: 0.210805 + 0.035148\n"
     ]
    },
    {
     "name": "stderr",
     "output_type": "stream",
     "text": [
      "regularization_factors, val_score: 0.210805:  10%|###8                                  | 2/20 [00:02<00:24,  1.39s/it][I 2023-11-05 11:51:15,019] Trial 44 finished with value: 0.2108045554268104 and parameters: {'lambda_l1': 1.1874549634845662e-08, 'lambda_l2': 2.8380895530684592e-08}. Best is trial 44 with value: 0.2108045554268104.\n",
      "regularization_factors, val_score: 0.210805:  10%|###8                                  | 2/20 [00:02<00:24,  1.39s/it]"
     ]
    },
    {
     "name": "stdout",
     "output_type": "stream",
     "text": [
      "[100]\tcv_agg's l2: 0.259249 + 0.0483394\n",
      "[200]\tcv_agg's l2: 0.24066 + 0.044868\n",
      "[300]\tcv_agg's l2: 0.231941 + 0.0456489\n",
      "[400]\tcv_agg's l2: 0.227104 + 0.0425515\n",
      "[500]\tcv_agg's l2: 0.220089 + 0.0391518\n",
      "[600]\tcv_agg's l2: 0.217256 + 0.0377181\n",
      "[700]\tcv_agg's l2: 0.215391 + 0.0356359\n",
      "[800]\tcv_agg's l2: 0.213893 + 0.0364206\n",
      "[900]\tcv_agg's l2: 0.212182 + 0.0351406\n",
      "[1000]\tcv_agg's l2: 0.211697 + 0.034322\n",
      "Early stopping, best iteration is:\n",
      "[933]\tcv_agg's l2: 0.210805 + 0.035148\n"
     ]
    },
    {
     "name": "stderr",
     "output_type": "stream",
     "text": [
      "regularization_factors, val_score: 0.210805:  15%|#####7                                | 3/20 [00:04<00:23,  1.38s/it][I 2023-11-05 11:51:16,403] Trial 45 finished with value: 0.2108045554323852 and parameters: {'lambda_l1': 1.7722513533846574e-08, 'lambda_l2': 2.0497357804279098e-08}. Best is trial 44 with value: 0.2108045554268104.\n",
      "regularization_factors, val_score: 0.210805:  15%|#####7                                | 3/20 [00:04<00:23,  1.38s/it]"
     ]
    },
    {
     "name": "stdout",
     "output_type": "stream",
     "text": [
      "[100]\tcv_agg's l2: 0.259249 + 0.0483394\n",
      "[200]\tcv_agg's l2: 0.24066 + 0.044868\n",
      "[300]\tcv_agg's l2: 0.231941 + 0.0456489\n",
      "[400]\tcv_agg's l2: 0.227104 + 0.0425515\n",
      "[500]\tcv_agg's l2: 0.220089 + 0.0391518\n",
      "[600]\tcv_agg's l2: 0.217256 + 0.0377181\n",
      "[700]\tcv_agg's l2: 0.215391 + 0.0356359\n",
      "[800]\tcv_agg's l2: 0.213893 + 0.0364206\n"
     ]
    },
    {
     "name": "stderr",
     "output_type": "stream",
     "text": [
      "regularization_factors, val_score: 0.210805:  20%|#######6                              | 4/20 [00:05<00:21,  1.35s/it][I 2023-11-05 11:51:17,702] Trial 46 finished with value: 0.21080455544064422 and parameters: {'lambda_l1': 1.924379134357026e-08, 'lambda_l2': 2.5729752559412577e-08}. Best is trial 44 with value: 0.2108045554268104.\n",
      "regularization_factors, val_score: 0.210805:  20%|#######6                              | 4/20 [00:05<00:21,  1.35s/it]"
     ]
    },
    {
     "name": "stdout",
     "output_type": "stream",
     "text": [
      "[900]\tcv_agg's l2: 0.212182 + 0.0351406\n",
      "[1000]\tcv_agg's l2: 0.211697 + 0.034322\n",
      "Early stopping, best iteration is:\n",
      "[933]\tcv_agg's l2: 0.210805 + 0.035148\n",
      "[100]\tcv_agg's l2: 0.280527 + 0.0475502\n",
      "[200]\tcv_agg's l2: 0.252109 + 0.0401939\n",
      "[300]\tcv_agg's l2: 0.245838 + 0.0393095\n",
      "[400]\tcv_agg's l2: 0.239723 + 0.037795\n",
      "[500]\tcv_agg's l2: 0.234073 + 0.0369317\n",
      "[600]\tcv_agg's l2: 0.231216 + 0.0352521\n",
      "[700]\tcv_agg's l2: 0.229533 + 0.0342846\n",
      "[800]\tcv_agg's l2: 0.227685 + 0.0328996\n"
     ]
    },
    {
     "name": "stderr",
     "output_type": "stream",
     "text": [
      "regularization_factors, val_score: 0.210805:  25%|#########5                            | 5/20 [00:06<00:19,  1.33s/it][I 2023-11-05 11:51:19,000] Trial 47 finished with value: 0.22495354671677842 and parameters: {'lambda_l1': 1.0209587582787951, 'lambda_l2': 8.931604099466563}. Best is trial 44 with value: 0.2108045554268104.\n",
      "regularization_factors, val_score: 0.210805:  25%|#########5                            | 5/20 [00:06<00:19,  1.33s/it]"
     ]
    },
    {
     "name": "stdout",
     "output_type": "stream",
     "text": [
      "[900]\tcv_agg's l2: 0.226024 + 0.031212\n",
      "[1000]\tcv_agg's l2: 0.225823 + 0.0312684\n",
      "Early stopping, best iteration is:\n",
      "[933]\tcv_agg's l2: 0.210805 + 0.035148\n",
      "[100]\tcv_agg's l2: 0.259249 + 0.0483394\n",
      "[200]\tcv_agg's l2: 0.24066 + 0.044868\n",
      "[300]\tcv_agg's l2: 0.231941 + 0.0456489\n",
      "[400]\tcv_agg's l2: 0.227104 + 0.0425515\n",
      "[500]\tcv_agg's l2: 0.220089 + 0.0391518\n",
      "[600]\tcv_agg's l2: 0.217256 + 0.0377181\n",
      "[700]\tcv_agg's l2: 0.215391 + 0.0356359\n",
      "[800]\tcv_agg's l2: 0.213893 + 0.0364207\n"
     ]
    },
    {
     "name": "stderr",
     "output_type": "stream",
     "text": [
      "regularization_factors, val_score: 0.210805:  30%|###########4                          | 6/20 [00:08<00:18,  1.32s/it][I 2023-11-05 11:51:20,301] Trial 48 finished with value: 0.21080457968174743 and parameters: {'lambda_l1': 1.1560920550334227e-05, 'lambda_l2': 2.5762976419269823e-06}. Best is trial 44 with value: 0.2108045554268104.\n",
      "regularization_factors, val_score: 0.210805:  30%|###########4                          | 6/20 [00:08<00:18,  1.32s/it]"
     ]
    },
    {
     "name": "stdout",
     "output_type": "stream",
     "text": [
      "[900]\tcv_agg's l2: 0.212182 + 0.0351406\n",
      "[1000]\tcv_agg's l2: 0.211697 + 0.034322\n",
      "Early stopping, best iteration is:\n",
      "[933]\tcv_agg's l2: 0.210805 + 0.035148\n",
      "[100]\tcv_agg's l2: 0.259249 + 0.0483394\n",
      "[200]\tcv_agg's l2: 0.24066 + 0.044868\n",
      "[300]\tcv_agg's l2: 0.231941 + 0.0456489\n",
      "[400]\tcv_agg's l2: 0.227104 + 0.0425515\n",
      "[500]\tcv_agg's l2: 0.220089 + 0.0391518\n",
      "[600]\tcv_agg's l2: 0.217256 + 0.0377181\n",
      "[700]\tcv_agg's l2: 0.215391 + 0.0356359\n",
      "[800]\tcv_agg's l2: 0.213893 + 0.0364207\n"
     ]
    },
    {
     "name": "stderr",
     "output_type": "stream",
     "text": [
      "\r",
      "regularization_factors, val_score: 0.210805:  30%|###########4                          | 6/20 [00:09<00:18,  1.32s/it]"
     ]
    },
    {
     "name": "stdout",
     "output_type": "stream",
     "text": [
      "[900]\tcv_agg's l2: 0.212182 + 0.0351406\n",
      "[1000]\tcv_agg's l2: 0.211697 + 0.034322\n",
      "Early stopping, best iteration is:\n",
      "[933]\tcv_agg's l2: 0.210805 + 0.035148\n"
     ]
    },
    {
     "name": "stderr",
     "output_type": "stream",
     "text": [
      "regularization_factors, val_score: 0.210805:  35%|#############3                        | 7/20 [00:09<00:17,  1.37s/it][I 2023-11-05 11:51:21,757] Trial 49 finished with value: 0.21080457036580258 and parameters: {'lambda_l1': 8.344884313588124e-06, 'lambda_l2': 1.5677018707695518e-05}. Best is trial 44 with value: 0.2108045554268104.\n",
      "regularization_factors, val_score: 0.210805:  35%|#############3                        | 7/20 [00:09<00:17,  1.37s/it]"
     ]
    },
    {
     "name": "stdout",
     "output_type": "stream",
     "text": [
      "[100]\tcv_agg's l2: 0.259249 + 0.0483395\n",
      "[200]\tcv_agg's l2: 0.24066 + 0.044868\n",
      "[300]\tcv_agg's l2: 0.231941 + 0.045649\n",
      "[400]\tcv_agg's l2: 0.227104 + 0.0425515\n",
      "[500]\tcv_agg's l2: 0.220089 + 0.0391519\n",
      "[600]\tcv_agg's l2: 0.217256 + 0.0377182\n",
      "[700]\tcv_agg's l2: 0.215391 + 0.035636\n",
      "[800]\tcv_agg's l2: 0.213893 + 0.0364207\n"
     ]
    },
    {
     "name": "stderr",
     "output_type": "stream",
     "text": [
      "regularization_factors, val_score: 0.210804:  40%|###############2                      | 8/20 [00:10<00:16,  1.37s/it][I 2023-11-05 11:51:23,130] Trial 50 finished with value: 0.2108044685833262 and parameters: {'lambda_l1': 1.1903695065604837e-08, 'lambda_l2': 0.00044414238522081647}. Best is trial 50 with value: 0.2108044685833262.\n",
      "regularization_factors, val_score: 0.210804:  40%|###############2                      | 8/20 [00:10<00:16,  1.37s/it]"
     ]
    },
    {
     "name": "stdout",
     "output_type": "stream",
     "text": [
      "[900]\tcv_agg's l2: 0.212182 + 0.0351406\n",
      "[1000]\tcv_agg's l2: 0.211697 + 0.034322\n",
      "Early stopping, best iteration is:\n",
      "[933]\tcv_agg's l2: 0.210804 + 0.035148\n",
      "[100]\tcv_agg's l2: 0.25925 + 0.0483396\n",
      "[200]\tcv_agg's l2: 0.24066 + 0.0448682\n",
      "[300]\tcv_agg's l2: 0.231941 + 0.045649\n",
      "[400]\tcv_agg's l2: 0.226506 + 0.0418409\n",
      "[500]\tcv_agg's l2: 0.219881 + 0.0388991\n",
      "[600]\tcv_agg's l2: 0.216587 + 0.0368825\n",
      "[700]\tcv_agg's l2: 0.215137 + 0.0352925\n",
      "[800]\tcv_agg's l2: 0.213497 + 0.0360315\n",
      "[900]\tcv_agg's l2: 0.212501 + 0.0355719\n",
      "[1000]\tcv_agg's l2: 0.211999 + 0.0345896\n",
      "[1100]\tcv_agg's l2: 0.209579 + 0.0340212\n",
      "[1200]\tcv_agg's l2: 0.209113 + 0.0331305\n",
      "[1300]\tcv_agg's l2: 0.207881 + 0.0337055\n",
      "[1400]\tcv_agg's l2: 0.206761 + 0.0320421\n"
     ]
    },
    {
     "name": "stderr",
     "output_type": "stream",
     "text": [
      "regularization_factors, val_score: 0.206223:  45%|#################1                    | 9/20 [00:12<00:17,  1.56s/it][I 2023-11-05 11:51:25,110] Trial 51 finished with value: 0.2062232666879865 and parameters: {'lambda_l1': 1.3804079595194464e-08, 'lambda_l2': 0.001656330348292907}. Best is trial 51 with value: 0.2062232666879865.\n",
      "regularization_factors, val_score: 0.206223:  45%|#################1                    | 9/20 [00:12<00:17,  1.56s/it]"
     ]
    },
    {
     "name": "stdout",
     "output_type": "stream",
     "text": [
      "[1500]\tcv_agg's l2: 0.207245 + 0.0332711\n",
      "Early stopping, best iteration is:\n",
      "[1436]\tcv_agg's l2: 0.206223 + 0.032702\n",
      "[100]\tcv_agg's l2: 0.25925 + 0.0483397\n",
      "[200]\tcv_agg's l2: 0.240661 + 0.0448683\n",
      "[300]\tcv_agg's l2: 0.231942 + 0.0456491\n",
      "[400]\tcv_agg's l2: 0.226506 + 0.0418411\n",
      "[500]\tcv_agg's l2: 0.219881 + 0.0388993\n",
      "[600]\tcv_agg's l2: 0.216587 + 0.0368826\n",
      "[700]\tcv_agg's l2: 0.215137 + 0.0352926\n",
      "[800]\tcv_agg's l2: 0.213497 + 0.0360316\n",
      "[900]\tcv_agg's l2: 0.212704 + 0.0352551\n",
      "[1000]\tcv_agg's l2: 0.211545 + 0.0352982\n",
      "[1100]\tcv_agg's l2: 0.209191 + 0.0346181\n",
      "[1200]\tcv_agg's l2: 0.208576 + 0.0339403\n",
      "[1300]\tcv_agg's l2: 0.207544 + 0.034198\n",
      "[1400]\tcv_agg's l2: 0.206602 + 0.0322793\n"
     ]
    },
    {
     "name": "stderr",
     "output_type": "stream",
     "text": [
      "regularization_factors, val_score: 0.205979:  50%|##################5                  | 10/20 [00:14<00:16,  1.68s/it][I 2023-11-05 11:51:27,047] Trial 52 finished with value: 0.20597915803996908 and parameters: {'lambda_l1': 2.0455121462305797e-06, 'lambda_l2': 0.0024384446921509022}. Best is trial 52 with value: 0.20597915803996908.\n",
      "regularization_factors, val_score: 0.205979:  50%|##################5                  | 10/20 [00:14<00:16,  1.68s/it]"
     ]
    },
    {
     "name": "stdout",
     "output_type": "stream",
     "text": [
      "[1500]\tcv_agg's l2: 0.206832 + 0.0338784\n",
      "Early stopping, best iteration is:\n",
      "[1435]\tcv_agg's l2: 0.205979 + 0.0330168\n",
      "[100]\tcv_agg's l2: 0.25925 + 0.0483396\n",
      "[200]\tcv_agg's l2: 0.24066 + 0.0448683\n",
      "[300]\tcv_agg's l2: 0.231941 + 0.045649\n",
      "[400]\tcv_agg's l2: 0.226506 + 0.041841\n",
      "[500]\tcv_agg's l2: 0.219881 + 0.0388992\n",
      "[600]\tcv_agg's l2: 0.216587 + 0.0368825\n",
      "[700]\tcv_agg's l2: 0.215137 + 0.0352926\n",
      "[800]\tcv_agg's l2: 0.213497 + 0.0360316\n",
      "[900]\tcv_agg's l2: 0.2125 + 0.0355719\n",
      "[1000]\tcv_agg's l2: 0.211999 + 0.0345897\n",
      "[1100]\tcv_agg's l2: 0.209579 + 0.0340212\n",
      "[1200]\tcv_agg's l2: 0.209113 + 0.0331305\n",
      "[1300]\tcv_agg's l2: 0.207881 + 0.0337055\n"
     ]
    },
    {
     "name": "stderr",
     "output_type": "stream",
     "text": [
      "\r",
      "regularization_factors, val_score: 0.205979:  50%|##################5                  | 10/20 [00:16<00:16,  1.68s/it]"
     ]
    },
    {
     "name": "stdout",
     "output_type": "stream",
     "text": [
      "[1400]\tcv_agg's l2: 0.206761 + 0.0320422\n",
      "[1500]\tcv_agg's l2: 0.207245 + 0.0332711\n",
      "Early stopping, best iteration is:\n",
      "[1435]\tcv_agg's l2: 0.205979 + 0.0330168\n"
     ]
    },
    {
     "name": "stderr",
     "output_type": "stream",
     "text": [
      "regularization_factors, val_score: 0.205979:  55%|####################3                | 11/20 [00:16<00:15,  1.76s/it][I 2023-11-05 11:51:29,014] Trial 53 finished with value: 0.20623906562570538 and parameters: {'lambda_l1': 8.860627888777899e-07, 'lambda_l2': 0.0020011295844977353}. Best is trial 52 with value: 0.20597915803996908.\n",
      "regularization_factors, val_score: 0.205979:  55%|####################3                | 11/20 [00:16<00:15,  1.76s/it]"
     ]
    },
    {
     "name": "stdout",
     "output_type": "stream",
     "text": [
      "[100]\tcv_agg's l2: 0.25925 + 0.0483396\n",
      "[200]\tcv_agg's l2: 0.240661 + 0.0448683\n",
      "[300]\tcv_agg's l2: 0.231941 + 0.045649\n",
      "[400]\tcv_agg's l2: 0.226506 + 0.041841\n",
      "[500]\tcv_agg's l2: 0.219881 + 0.0388993\n",
      "[600]\tcv_agg's l2: 0.216587 + 0.0368826\n",
      "[700]\tcv_agg's l2: 0.215137 + 0.0352926\n",
      "[800]\tcv_agg's l2: 0.213497 + 0.0360316\n",
      "[900]\tcv_agg's l2: 0.212704 + 0.0352551\n",
      "[1000]\tcv_agg's l2: 0.211545 + 0.0352982\n",
      "[1100]\tcv_agg's l2: 0.209191 + 0.0346181\n",
      "[1200]\tcv_agg's l2: 0.208576 + 0.0339403\n",
      "[1300]\tcv_agg's l2: 0.207544 + 0.034198\n",
      "[1400]\tcv_agg's l2: 0.206602 + 0.0322793\n"
     ]
    },
    {
     "name": "stderr",
     "output_type": "stream",
     "text": [
      "regularization_factors, val_score: 0.205979:  60%|######################2              | 12/20 [00:18<00:14,  1.81s/it][I 2023-11-05 11:51:30,937] Trial 54 finished with value: 0.20597920524651542 and parameters: {'lambda_l1': 7.068809372550962e-07, 'lambda_l2': 0.002260499923283781}. Best is trial 52 with value: 0.20597915803996908.\n",
      "regularization_factors, val_score: 0.205979:  60%|######################2              | 12/20 [00:18<00:14,  1.81s/it]"
     ]
    },
    {
     "name": "stdout",
     "output_type": "stream",
     "text": [
      "[1500]\tcv_agg's l2: 0.206832 + 0.0338784\n",
      "Early stopping, best iteration is:\n",
      "[1435]\tcv_agg's l2: 0.205979 + 0.0330168\n",
      "[100]\tcv_agg's l2: 0.25925 + 0.0483397\n",
      "[200]\tcv_agg's l2: 0.240661 + 0.0448683\n",
      "[300]\tcv_agg's l2: 0.231941 + 0.0456491\n",
      "[400]\tcv_agg's l2: 0.226506 + 0.0418411\n",
      "[500]\tcv_agg's l2: 0.219881 + 0.0388993\n",
      "[600]\tcv_agg's l2: 0.216587 + 0.0368826\n",
      "[700]\tcv_agg's l2: 0.215137 + 0.0352926\n",
      "[800]\tcv_agg's l2: 0.213497 + 0.0360316\n",
      "[900]\tcv_agg's l2: 0.212704 + 0.0352551\n",
      "[1000]\tcv_agg's l2: 0.211545 + 0.0352982\n",
      "[1100]\tcv_agg's l2: 0.209191 + 0.0346181\n",
      "[1200]\tcv_agg's l2: 0.208576 + 0.0339403\n",
      "[1300]\tcv_agg's l2: 0.207544 + 0.034198\n",
      "[1400]\tcv_agg's l2: 0.206602 + 0.0322793\n"
     ]
    },
    {
     "name": "stderr",
     "output_type": "stream",
     "text": [
      "regularization_factors, val_score: 0.205979:  65%|########################             | 13/20 [00:20<00:13,  1.92s/it][I 2023-11-05 11:51:33,086] Trial 55 finished with value: 0.20597916251958326 and parameters: {'lambda_l1': 4.560146804558527e-07, 'lambda_l2': 0.002416340398506927}. Best is trial 52 with value: 0.20597915803996908.\n",
      "regularization_factors, val_score: 0.205979:  65%|########################             | 13/20 [00:20<00:13,  1.92s/it]"
     ]
    },
    {
     "name": "stdout",
     "output_type": "stream",
     "text": [
      "[1500]\tcv_agg's l2: 0.206832 + 0.0338784\n",
      "Early stopping, best iteration is:\n",
      "[1435]\tcv_agg's l2: 0.205979 + 0.0330168\n",
      "[100]\tcv_agg's l2: 0.25925 + 0.0483396\n",
      "[200]\tcv_agg's l2: 0.24066 + 0.0448683\n",
      "[300]\tcv_agg's l2: 0.231941 + 0.045649\n",
      "[400]\tcv_agg's l2: 0.226506 + 0.041841\n",
      "[500]\tcv_agg's l2: 0.219881 + 0.0388992\n",
      "[600]\tcv_agg's l2: 0.216587 + 0.0368826\n",
      "[700]\tcv_agg's l2: 0.215137 + 0.0352926\n",
      "[800]\tcv_agg's l2: 0.213497 + 0.0360316\n",
      "[900]\tcv_agg's l2: 0.212704 + 0.0352551\n",
      "[1000]\tcv_agg's l2: 0.211545 + 0.0352982\n",
      "[1100]\tcv_agg's l2: 0.209191 + 0.0346181\n",
      "[1200]\tcv_agg's l2: 0.208576 + 0.0339403\n",
      "[1300]\tcv_agg's l2: 0.207544 + 0.034198\n",
      "[1400]\tcv_agg's l2: 0.206602 + 0.0322793\n"
     ]
    },
    {
     "name": "stderr",
     "output_type": "stream",
     "text": [
      "regularization_factors, val_score: 0.205979:  70%|#########################9           | 14/20 [00:22<00:11,  1.91s/it][I 2023-11-05 11:51:35,000] Trial 56 finished with value: 0.20597921321328433 and parameters: {'lambda_l1': 6.871097659020407e-07, 'lambda_l2': 0.0022305826916957077}. Best is trial 52 with value: 0.20597915803996908.\n",
      "regularization_factors, val_score: 0.205979:  70%|#########################9           | 14/20 [00:22<00:11,  1.91s/it]"
     ]
    },
    {
     "name": "stdout",
     "output_type": "stream",
     "text": [
      "[1500]\tcv_agg's l2: 0.206832 + 0.0338784\n",
      "Early stopping, best iteration is:\n",
      "[1435]\tcv_agg's l2: 0.205979 + 0.0330168\n",
      "[100]\tcv_agg's l2: 0.259251 + 0.0483397\n",
      "[200]\tcv_agg's l2: 0.240661 + 0.0448684\n",
      "[300]\tcv_agg's l2: 0.231942 + 0.0456491\n",
      "[400]\tcv_agg's l2: 0.226506 + 0.0418412\n",
      "[500]\tcv_agg's l2: 0.219881 + 0.0388994\n",
      "[600]\tcv_agg's l2: 0.216587 + 0.0368828\n",
      "[700]\tcv_agg's l2: 0.215137 + 0.0352927\n",
      "[800]\tcv_agg's l2: 0.213497 + 0.0360317\n",
      "[900]\tcv_agg's l2: 0.212704 + 0.0352552\n",
      "[1000]\tcv_agg's l2: 0.211544 + 0.0352983\n",
      "[1100]\tcv_agg's l2: 0.209191 + 0.0346182\n",
      "[1200]\tcv_agg's l2: 0.208576 + 0.0339404\n",
      "[1300]\tcv_agg's l2: 0.207544 + 0.034198\n",
      "[1400]\tcv_agg's l2: 0.206601 + 0.0322793\n"
     ]
    },
    {
     "name": "stderr",
     "output_type": "stream",
     "text": [
      "regularization_factors, val_score: 0.205979:  75%|###########################7         | 15/20 [00:24<00:09,  1.97s/it][I 2023-11-05 11:51:37,115] Trial 57 finished with value: 0.20597898226902736 and parameters: {'lambda_l1': 9.460853917901802e-07, 'lambda_l2': 0.0030820130047892968}. Best is trial 57 with value: 0.20597898226902736.\n",
      "regularization_factors, val_score: 0.205979:  75%|###########################7         | 15/20 [00:24<00:09,  1.97s/it]"
     ]
    },
    {
     "name": "stdout",
     "output_type": "stream",
     "text": [
      "[1500]\tcv_agg's l2: 0.206832 + 0.0338784\n",
      "Early stopping, best iteration is:\n",
      "[1435]\tcv_agg's l2: 0.205979 + 0.0330169\n",
      "[100]\tcv_agg's l2: 0.259251 + 0.0483399\n",
      "[200]\tcv_agg's l2: 0.240661 + 0.0448686\n",
      "[300]\tcv_agg's l2: 0.231942 + 0.0456491\n",
      "[400]\tcv_agg's l2: 0.226505 + 0.0418414\n",
      "[500]\tcv_agg's l2: 0.219881 + 0.0388997\n",
      "[600]\tcv_agg's l2: 0.216587 + 0.036883\n",
      "[700]\tcv_agg's l2: 0.215137 + 0.0352929\n",
      "[800]\tcv_agg's l2: 0.213513 + 0.0360455\n",
      "[900]\tcv_agg's l2: 0.212764 + 0.0353024\n",
      "[1000]\tcv_agg's l2: 0.211226 + 0.035071\n",
      "[1100]\tcv_agg's l2: 0.208761 + 0.0343108\n",
      "[1200]\tcv_agg's l2: 0.20818 + 0.0336712\n",
      "[1300]\tcv_agg's l2: 0.207072 + 0.0338799\n",
      "[1400]\tcv_agg's l2: 0.206457 + 0.0321909\n",
      "[1500]\tcv_agg's l2: 0.206201 + 0.0334751\n"
     ]
    },
    {
     "name": "stderr",
     "output_type": "stream",
     "text": [
      "regularization_factors, val_score: 0.205956:  80%|#############################6       | 16/20 [00:27<00:08,  2.13s/it][I 2023-11-05 11:51:39,599] Trial 58 finished with value: 0.205956254241309 and parameters: {'lambda_l1': 1.705014795474255e-06, 'lambda_l2': 0.004306518738353778}. Best is trial 58 with value: 0.205956254241309.\n",
      "regularization_factors, val_score: 0.205956:  80%|#############################6       | 16/20 [00:27<00:08,  2.13s/it]"
     ]
    },
    {
     "name": "stdout",
     "output_type": "stream",
     "text": [
      "Early stopping, best iteration is:\n",
      "[1435]\tcv_agg's l2: 0.205956 + 0.0330025\n",
      "[100]\tcv_agg's l2: 0.259252 + 0.04834\n",
      "[200]\tcv_agg's l2: 0.240661 + 0.044869\n",
      "[300]\tcv_agg's l2: 0.231942 + 0.0456492\n",
      "[400]\tcv_agg's l2: 0.226505 + 0.0418417\n",
      "[500]\tcv_agg's l2: 0.219881 + 0.0389001\n",
      "[600]\tcv_agg's l2: 0.216479 + 0.0369281\n",
      "[700]\tcv_agg's l2: 0.21528 + 0.0352592\n",
      "[800]\tcv_agg's l2: 0.213376 + 0.03608\n",
      "[900]\tcv_agg's l2: 0.213102 + 0.0352173\n",
      "[1000]\tcv_agg's l2: 0.211658 + 0.0349806\n",
      "[1100]\tcv_agg's l2: 0.209238 + 0.0342206\n",
      "[1200]\tcv_agg's l2: 0.208882 + 0.0335046\n",
      "[1300]\tcv_agg's l2: 0.208201 + 0.0335742\n"
     ]
    },
    {
     "name": "stderr",
     "output_type": "stream",
     "text": [
      "regularization_factors, val_score: 0.205956:  85%|###############################4     | 17/20 [00:29<00:06,  2.17s/it]"
     ]
    },
    {
     "name": "stdout",
     "output_type": "stream",
     "text": [
      "[1400]\tcv_agg's l2: 0.207145 + 0.0320447\n",
      "[1500]\tcv_agg's l2: 0.207075 + 0.0333366\n",
      "Early stopping, best iteration is:\n",
      "[1435]\tcv_agg's l2: 0.205956 + 0.0330025\n"
     ]
    },
    {
     "name": "stderr",
     "output_type": "stream",
     "text": [
      "[I 2023-11-05 11:51:41,870] Trial 59 finished with value: 0.206861408124532 and parameters: {'lambda_l1': 9.89300548592546e-07, 'lambda_l2': 0.006233539885242159}. Best is trial 58 with value: 0.205956254241309.\n",
      "regularization_factors, val_score: 0.205956:  85%|###############################4     | 17/20 [00:29<00:06,  2.17s/it]"
     ]
    },
    {
     "name": "stdout",
     "output_type": "stream",
     "text": [
      "[100]\tcv_agg's l2: 0.258159 + 0.048929\n",
      "[200]\tcv_agg's l2: 0.240713 + 0.0448425\n",
      "[300]\tcv_agg's l2: 0.232414 + 0.0465835\n",
      "[400]\tcv_agg's l2: 0.227089 + 0.0420551\n",
      "[500]\tcv_agg's l2: 0.21989 + 0.039576\n",
      "[600]\tcv_agg's l2: 0.216981 + 0.0371321\n",
      "[700]\tcv_agg's l2: 0.216642 + 0.0362819\n",
      "[800]\tcv_agg's l2: 0.214909 + 0.0362506\n",
      "[900]\tcv_agg's l2: 0.213254 + 0.0353412\n",
      "[1000]\tcv_agg's l2: 0.211921 + 0.0340595\n",
      "[1100]\tcv_agg's l2: 0.2092 + 0.0329762\n",
      "[1200]\tcv_agg's l2: 0.209311 + 0.032618\n",
      "[1300]\tcv_agg's l2: 0.208252 + 0.0333162\n",
      "[1400]\tcv_agg's l2: 0.208131 + 0.0323513\n"
     ]
    },
    {
     "name": "stderr",
     "output_type": "stream",
     "text": [
      "regularization_factors, val_score: 0.205956:  90%|#################################3   | 18/20 [00:31<00:04,  2.11s/it][I 2023-11-05 11:51:43,834] Trial 60 finished with value: 0.20770705804391715 and parameters: {'lambda_l1': 9.336830585518967e-07, 'lambda_l2': 0.010464643467981108}. Best is trial 58 with value: 0.205956254241309.\n",
      "regularization_factors, val_score: 0.205956:  90%|#################################3   | 18/20 [00:31<00:04,  2.11s/it]"
     ]
    },
    {
     "name": "stdout",
     "output_type": "stream",
     "text": [
      "[1500]\tcv_agg's l2: 0.208699 + 0.0334734\n",
      "Early stopping, best iteration is:\n",
      "[1435]\tcv_agg's l2: 0.205956 + 0.0330025\n",
      "[100]\tcv_agg's l2: 0.25925 + 0.0483396\n",
      "[200]\tcv_agg's l2: 0.24066 + 0.0448683\n",
      "[300]\tcv_agg's l2: 0.231941 + 0.045649\n",
      "[400]\tcv_agg's l2: 0.226506 + 0.041841\n",
      "[500]\tcv_agg's l2: 0.219881 + 0.0388992\n",
      "[600]\tcv_agg's l2: 0.216587 + 0.0368825\n",
      "[700]\tcv_agg's l2: 0.215137 + 0.0352925\n",
      "[800]\tcv_agg's l2: 0.213497 + 0.0360316\n",
      "[900]\tcv_agg's l2: 0.2125 + 0.0355719\n",
      "[1000]\tcv_agg's l2: 0.211999 + 0.0345896\n",
      "[1100]\tcv_agg's l2: 0.209579 + 0.0340212\n",
      "[1200]\tcv_agg's l2: 0.209113 + 0.0331305\n",
      "[1300]\tcv_agg's l2: 0.207881 + 0.0337055\n",
      "[1400]\tcv_agg's l2: 0.206761 + 0.0320422\n"
     ]
    },
    {
     "name": "stderr",
     "output_type": "stream",
     "text": [
      "regularization_factors, val_score: 0.205956:  95%|###################################1 | 19/20 [00:33<00:02,  2.05s/it][I 2023-11-05 11:51:45,745] Trial 61 finished with value: 0.20623910055125538 and parameters: {'lambda_l1': 3.69790740676991e-07, 'lambda_l2': 0.0018717915210191413}. Best is trial 58 with value: 0.205956254241309.\n",
      "regularization_factors, val_score: 0.205956:  95%|###################################1 | 19/20 [00:33<00:02,  2.05s/it]"
     ]
    },
    {
     "name": "stdout",
     "output_type": "stream",
     "text": [
      "[1500]\tcv_agg's l2: 0.207245 + 0.0332711\n",
      "Early stopping, best iteration is:\n",
      "[1435]\tcv_agg's l2: 0.205956 + 0.0330025\n",
      "[100]\tcv_agg's l2: 0.25925 + 0.0483396\n",
      "[200]\tcv_agg's l2: 0.24066 + 0.0448683\n",
      "[300]\tcv_agg's l2: 0.231941 + 0.045649\n",
      "[400]\tcv_agg's l2: 0.226506 + 0.041841\n",
      "[500]\tcv_agg's l2: 0.219881 + 0.0388992\n",
      "[600]\tcv_agg's l2: 0.216587 + 0.0368825\n",
      "[700]\tcv_agg's l2: 0.215137 + 0.0352926\n",
      "[800]\tcv_agg's l2: 0.213497 + 0.0360316\n",
      "[900]\tcv_agg's l2: 0.2125 + 0.0355719\n",
      "[1000]\tcv_agg's l2: 0.211999 + 0.0345897\n",
      "[1100]\tcv_agg's l2: 0.209579 + 0.0340212\n",
      "[1200]\tcv_agg's l2: 0.209113 + 0.0331305\n",
      "[1300]\tcv_agg's l2: 0.207881 + 0.0337055\n",
      "[1400]\tcv_agg's l2: 0.206761 + 0.0320422\n"
     ]
    },
    {
     "name": "stderr",
     "output_type": "stream",
     "text": [
      "regularization_factors, val_score: 0.205956: 100%|#####################################| 20/20 [00:35<00:00,  2.04s/it][I 2023-11-05 11:51:47,754] Trial 62 finished with value: 0.20623906200717768 and parameters: {'lambda_l1': 3.301157380344115e-07, 'lambda_l2': 0.0020131071915175515}. Best is trial 58 with value: 0.205956254241309.\n",
      "regularization_factors, val_score: 0.205956: 100%|#####################################| 20/20 [00:35<00:00,  1.78s/it]\n"
     ]
    },
    {
     "name": "stdout",
     "output_type": "stream",
     "text": [
      "[1500]\tcv_agg's l2: 0.207245 + 0.0332711\n",
      "Early stopping, best iteration is:\n",
      "[1435]\tcv_agg's l2: 0.205956 + 0.0330025\n"
     ]
    },
    {
     "name": "stderr",
     "output_type": "stream",
     "text": [
      "min_data_in_leaf, val_score: 0.205956:   0%|                                                     | 0/5 [00:00<?, ?it/s]"
     ]
    },
    {
     "name": "stdout",
     "output_type": "stream",
     "text": [
      "[100]\tcv_agg's l2: 0.375125 + 0.0770185\n",
      "[200]\tcv_agg's l2: 0.349158 + 0.0731497\n",
      "[300]\tcv_agg's l2: 0.342352 + 0.0757355\n",
      "[400]\tcv_agg's l2: 0.335749 + 0.0769193\n",
      "[500]\tcv_agg's l2: 0.333476 + 0.0777605\n",
      "[600]\tcv_agg's l2: 0.329047 + 0.0761954\n",
      "[700]\tcv_agg's l2: 0.32479 + 0.074976\n",
      "[800]\tcv_agg's l2: 0.321185 + 0.0759374\n",
      "[900]\tcv_agg's l2: 0.319303 + 0.0745631\n",
      "[1000]\tcv_agg's l2: 0.317962 + 0.073254\n",
      "[1100]\tcv_agg's l2: 0.315637 + 0.0736719\n",
      "[1200]\tcv_agg's l2: 0.315829 + 0.0769647\n",
      "[1300]\tcv_agg's l2: 0.314409 + 0.0762768\n",
      "[1400]\tcv_agg's l2: 0.313903 + 0.0769477\n"
     ]
    },
    {
     "name": "stderr",
     "output_type": "stream",
     "text": [
      "min_data_in_leaf, val_score: 0.205956:  20%|#########                                    | 1/5 [00:02<00:08,  2.04s/it][I 2023-11-05 11:51:49,799] Trial 63 finished with value: 0.31547640011876876 and parameters: {'min_child_samples': 50}. Best is trial 63 with value: 0.31547640011876876.\n",
      "min_data_in_leaf, val_score: 0.205956:  20%|#########                                    | 1/5 [00:02<00:08,  2.04s/it]"
     ]
    },
    {
     "name": "stdout",
     "output_type": "stream",
     "text": [
      "[1500]\tcv_agg's l2: 0.315391 + 0.0782277\n",
      "Early stopping, best iteration is:\n",
      "[1435]\tcv_agg's l2: 0.205956 + 0.0330025\n",
      "[100]\tcv_agg's l2: 0.214696 + 0.0395214\n",
      "[200]\tcv_agg's l2: 0.196386 + 0.0319006\n",
      "[300]\tcv_agg's l2: 0.191522 + 0.0302113\n"
     ]
    },
    {
     "name": "stderr",
     "output_type": "stream",
     "text": [
      "min_data_in_leaf, val_score: 0.188884:  40%|##################                           | 2/5 [00:02<00:03,  1.20s/it][I 2023-11-05 11:51:50,413] Trial 64 finished with value: 0.1888837847765754 and parameters: {'min_child_samples': 5}. Best is trial 64 with value: 0.1888837847765754.\n",
      "min_data_in_leaf, val_score: 0.188884:  40%|##################                           | 2/5 [00:02<00:03,  1.20s/it]"
     ]
    },
    {
     "name": "stdout",
     "output_type": "stream",
     "text": [
      "[400]\tcv_agg's l2: 0.189072 + 0.0273612\n",
      "Early stopping, best iteration is:\n",
      "[389]\tcv_agg's l2: 0.188884 + 0.0270008\n",
      "[100]\tcv_agg's l2: 0.287345 + 0.0654533\n",
      "[200]\tcv_agg's l2: 0.267454 + 0.0603533\n",
      "[300]\tcv_agg's l2: 0.25881 + 0.060349\n",
      "[400]\tcv_agg's l2: 0.253713 + 0.0584357\n"
     ]
    },
    {
     "name": "stderr",
     "output_type": "stream",
     "text": [
      "min_data_in_leaf, val_score: 0.188884:  60%|###########################                  | 3/5 [00:03<00:01,  1.07it/s][I 2023-11-05 11:51:51,039] Trial 65 finished with value: 0.2534130489233464 and parameters: {'min_child_samples': 25}. Best is trial 64 with value: 0.1888837847765754.\n",
      "min_data_in_leaf, val_score: 0.188884:  60%|###########################                  | 3/5 [00:03<00:01,  1.07it/s]"
     ]
    },
    {
     "name": "stdout",
     "output_type": "stream",
     "text": [
      "Early stopping, best iteration is:\n",
      "[389]\tcv_agg's l2: 0.188884 + 0.0270008\n",
      "[100]\tcv_agg's l2: 0.217455 + 0.0417043\n",
      "[200]\tcv_agg's l2: 0.202628 + 0.036607\n",
      "[300]\tcv_agg's l2: 0.197971 + 0.0367063\n"
     ]
    },
    {
     "name": "stderr",
     "output_type": "stream",
     "text": [
      "min_data_in_leaf, val_score: 0.188884:  80%|####################################         | 4/5 [00:03<00:00,  1.23it/s][I 2023-11-05 11:51:51,659] Trial 66 finished with value: 0.19540789109491655 and parameters: {'min_child_samples': 10}. Best is trial 64 with value: 0.1888837847765754.\n",
      "min_data_in_leaf, val_score: 0.188884:  80%|####################################         | 4/5 [00:03<00:00,  1.23it/s]"
     ]
    },
    {
     "name": "stdout",
     "output_type": "stream",
     "text": [
      "[400]\tcv_agg's l2: 0.195484 + 0.0352676\n",
      "Early stopping, best iteration is:\n",
      "[389]\tcv_agg's l2: 0.188884 + 0.0270008\n",
      "[100]\tcv_agg's l2: 1.00528 + 0.259534\n",
      "[200]\tcv_agg's l2: 0.984625 + 0.278581\n",
      "[300]\tcv_agg's l2: 0.965345 + 0.276623\n",
      "[400]\tcv_agg's l2: 0.951322 + 0.278303\n"
     ]
    },
    {
     "name": "stderr",
     "output_type": "stream",
     "text": [
      "min_data_in_leaf, val_score: 0.188884: 100%|#############################################| 5/5 [00:04<00:00,  1.36it/s][I 2023-11-05 11:51:52,253] Trial 67 finished with value: 0.9549003590556202 and parameters: {'min_child_samples': 100}. Best is trial 64 with value: 0.1888837847765754.\n",
      "min_data_in_leaf, val_score: 0.188884: 100%|#############################################| 5/5 [00:04<00:00,  1.11it/s]"
     ]
    },
    {
     "name": "stdout",
     "output_type": "stream",
     "text": [
      "Early stopping, best iteration is:\n",
      "[389]\tcv_agg's l2: 0.188884 + 0.0270008\n"
     ]
    },
    {
     "name": "stderr",
     "output_type": "stream",
     "text": [
      "\n"
     ]
    }
   ],
   "source": [
    "import optuna.integration.lightgbm as lgb\n",
    "from lightgbm import early_stopping, log_evaluation\n",
    "from sklearn.model_selection import KFold\n",
    "from sklearn.model_selection import RepeatedKFold\n",
    "\n",
    "\n",
    "lgb_train = lgb.Dataset(X_train, y_train)\n",
    "\n",
    "params = {\n",
    "    \"boosting_type\": \"gbdt\",\n",
    "    \"objective\": \"regression\",\n",
    "    \"metric\": \"l2\",\n",
    "    \"verbosity\": -1,\n",
    "}\n",
    "\n",
    "tuner = lgb.LightGBMTunerCV(\n",
    "    params,\n",
    "    lgb_train,\n",
    "    folds=KFold(n_splits=5),\n",
    "    num_boost_round=10000,\n",
    "    callbacks=[early_stopping(100), log_evaluation(100)],\n",
    ")\n",
    "\n",
    "tuner.run()"
   ]
  },
  {
   "cell_type": "code",
   "execution_count": 23,
   "id": "3b9d8fb3",
   "metadata": {},
   "outputs": [
    {
     "name": "stdout",
     "output_type": "stream",
     "text": [
      "Best score: 0.1888837847765754\n",
      "Params: \n",
      "    boosting_type: gbdt\n",
      "    objective: regression\n",
      "    metric: l2\n",
      "    verbosity: -1\n",
      "    feature_pre_filter: False\n",
      "    lambda_l1: 1.705014795474255e-06\n",
      "    lambda_l2: 0.004306518738353778\n",
      "    num_leaves: 5\n",
      "    feature_fraction: 0.7\n",
      "    bagging_fraction: 0.8700015947060504\n",
      "    bagging_freq: 3\n",
      "    min_child_samples: 5\n"
     ]
    }
   ],
   "source": [
    "print(f\"Best score: {tuner.best_score}\")\n",
    "best_params = tuner.best_params\n",
    "print(\"Params: \")\n",
    "for key, value in best_params.items():\n",
    "    print(\"    {}: {}\".format(key, value))"
   ]
  },
  {
   "cell_type": "code",
   "execution_count": 24,
   "id": "d25b1687",
   "metadata": {},
   "outputs": [],
   "source": [
    "import lightgbm as lgb\n",
    "\n",
    "lgb_tuned = lgb.train(\n",
    "    best_params,\n",
    "    lgb_train,\n",
    "    num_boost_round=10000,\n",
    ")"
   ]
  },
  {
   "cell_type": "code",
   "execution_count": 25,
   "id": "290a9f09",
   "metadata": {
    "scrolled": false
   },
   "outputs": [
    {
     "name": "stdout",
     "output_type": "stream",
     "text": [
      "RMSE train: 0.01\n",
      "RMSE test: 0.66\n",
      "MSE test: 0.43\n",
      "MAE test: 0.47\n",
      "\n"
     ]
    }
   ],
   "source": [
    "rmse, mae = assess_regression_model(lgb_tuned, X_train, X_test, y_train, y_test)"
   ]
  },
  {
   "cell_type": "code",
   "execution_count": 26,
   "id": "a6ecfca2",
   "metadata": {},
   "outputs": [],
   "source": [
    "results.loc[1] = [\n",
    "    \"chronological\",\n",
    "    \"Optuna\",\n",
    "    \"basic\",\n",
    "    rmse,\n",
    "    mae,\n",
    "]"
   ]
  },
  {
   "cell_type": "markdown",
   "id": "2f13ab75",
   "metadata": {},
   "source": [
    "###### MAE by level"
   ]
  },
  {
   "cell_type": "code",
   "execution_count": 27,
   "id": "e2f172bc",
   "metadata": {},
   "outputs": [
    {
     "data": {
      "image/png": "[encoded data removed]",
      "text/plain": [
       "<Figure size 720x432 with 1 Axes>"
      ]
     },
     "metadata": {
      "needs_background": "light"
     },
     "output_type": "display_data"
    }
   ],
   "source": [
    "plot_mae_by_level(\n",
    "    y_test,\n",
    "    y_pred_test,\n",
    "    title=\"MAE by level for tuned LightGBM with basic features and chronological split\",\n",
    ")"
   ]
  },
  {
   "cell_type": "code",
   "execution_count": 28,
   "id": "9f6b3122",
   "metadata": {
    "scrolled": false
   },
   "outputs": [
    {
     "name": "stdout",
     "output_type": "stream",
     "text": [
      "Default:\n",
      "MSE: 0.43\n",
      "RMSE: 0.66\n",
      "\n",
      "Round type: round\n",
      "MSE: 0.48\n",
      "RMSE: 0.69\n",
      "\n",
      "Round type: 0.33\n",
      "MSE: 0.47\n",
      "RMSE: 0.69\n",
      "\n",
      "Round type: 0.45\n",
      "MSE: 0.48\n",
      "RMSE: 0.69\n",
      "\n"
     ]
    }
   ],
   "source": [
    "predict = lgb_tuned.predict(X_test)\n",
    "check_round_predictions([\"round\", 0.33, 0.45], y_test, predict)"
   ]
  },
  {
   "cell_type": "code",
   "execution_count": 29,
   "id": "515dc232",
   "metadata": {},
   "outputs": [
    {
     "data": {
      "image/png": "[encoded data removed]",
      "text/plain": [
       "<Figure size 432x288 with 2 Axes>"
      ]
     },
     "metadata": {
      "needs_background": "light"
     },
     "output_type": "display_data"
    }
   ],
   "source": [
    "plot_confusion_matrix(\n",
    "    \"round\",\n",
    "    predict,\n",
    "    y_test,\n",
    "    title=\"Confusion matrix for tuned LightGBM with basic features and chronological split\",\n",
    ")"
   ]
  },
  {
   "cell_type": "markdown",
   "id": "493f7602",
   "metadata": {},
   "source": [
    "## Random split"
   ]
  },
  {
   "cell_type": "code",
   "execution_count": 30,
   "id": "4948ca0a",
   "metadata": {},
   "outputs": [
    {
     "name": "stdout",
     "output_type": "stream",
     "text": [
      "[LightGBM] [Warning] Auto-choosing col-wise multi-threading, the overhead of testing was 0.000246 seconds.\n",
      "You can set `force_col_wise=true` to remove the overhead.\n",
      "[LightGBM] [Info] Total Bins 234\n",
      "[LightGBM] [Info] Number of data points in the train set: 904, number of used features: 8\n",
      "[LightGBM] [Info] Start training from score 7.162611\n",
      "Training until validation scores don't improve for 5 rounds\n",
      "Early stopping, best iteration is:\n",
      "[55]\tvalid_0's l1: 0.340495\tvalid_0's l2: 0.243018\n"
     ]
    }
   ],
   "source": [
    "import lightgbm as lgb\n",
    "from sklearn.metrics import mean_squared_error\n",
    "\n",
    "lgb_train = lgb.Dataset(X_train_random_split, y_train_random_split)\n",
    "lgb_eval = lgb.Dataset(X_test_random_split, y_test_random_split, reference=lgb_train)\n",
    "\n",
    "params = {\n",
    "    \"boosting_type\": \"gbdt\",\n",
    "    \"objective\": \"regression\",\n",
    "    \"metric\": {\"l2\", \"l1\"},\n",
    "}\n",
    "\n",
    "gbm = lgb.train(\n",
    "    params,\n",
    "    lgb_train,\n",
    "    num_boost_round=100,\n",
    "    valid_sets=lgb_eval,\n",
    "    callbacks=[lgb.early_stopping(stopping_rounds=5)],\n",
    ")"
   ]
  },
  {
   "cell_type": "code",
   "execution_count": 31,
   "id": "f9bd4c3b",
   "metadata": {},
   "outputs": [],
   "source": [
    "y_pred_train = gbm.predict(X_train_random_split, num_iteration=gbm.best_iteration)\n",
    "y_pred_test = gbm.predict(X_test_random_split, num_iteration=gbm.best_iteration)"
   ]
  },
  {
   "cell_type": "code",
   "execution_count": 32,
   "id": "c014931e",
   "metadata": {},
   "outputs": [
    {
     "name": "stdout",
     "output_type": "stream",
     "text": [
      "MSE: 0.24\n",
      "RMSE: 0.49\n",
      "MAE: 0.34\n"
     ]
    }
   ],
   "source": [
    "from sklearn.metrics import mean_squared_error, mean_absolute_error\n",
    "\n",
    "\n",
    "rmse = mean_squared_error(y_test_random_split, y_pred_test, squared=False)\n",
    "mae = mean_absolute_error(y_test_random_split, y_pred_test)\n",
    "\n",
    "print(f\"RMSE: {rmse:.2f}\")\n",
    "print(f\"MAE: {mae:.2f}\")"
   ]
  },
  {
   "cell_type": "code",
   "execution_count": 33,
   "id": "8cbceea7",
   "metadata": {},
   "outputs": [],
   "source": [
    "results.loc[2] = [\"random\", \"default\", \"basic\", rmse, mae]"
   ]
  },
  {
   "cell_type": "markdown",
   "id": "eacfd0ab",
   "metadata": {},
   "source": [
    "###### MAE by level"
   ]
  },
  {
   "cell_type": "code",
   "execution_count": 34,
   "id": "8af01c5c",
   "metadata": {},
   "outputs": [
    {
     "data": {
      "image/png": "[encoded data removed]",
      "text/plain": [
       "<Figure size 720x432 with 1 Axes>"
      ]
     },
     "metadata": {
      "needs_background": "light"
     },
     "output_type": "display_data"
    }
   ],
   "source": [
    "plot_mae_by_level(\n",
    "    y_test_random_split,\n",
    "    y_pred_test,\n",
    "    title=\"MAE by level for default LightGBM with basic features and random split\",\n",
    ")"
   ]
  },
  {
   "cell_type": "code",
   "execution_count": 35,
   "id": "e5edd1d7",
   "metadata": {
    "scrolled": true
   },
   "outputs": [
    {
     "name": "stdout",
     "output_type": "stream",
     "text": [
      "Default:\n",
      "MSE: 0.24\n",
      "RMSE: 0.49\n",
      "\n",
      "Round type: round\n",
      "MSE: 0.26\n",
      "RMSE: 0.51\n",
      "\n",
      "Round type: 0.33\n",
      "MSE: 0.32\n",
      "RMSE: 0.57\n",
      "\n",
      "Round type: 0.45\n",
      "MSE: 0.27\n",
      "RMSE: 0.52\n",
      "\n"
     ]
    }
   ],
   "source": [
    "check_round_predictions([\"round\", 0.33, 0.45], y_test_random_split, y_pred_test)"
   ]
  },
  {
   "cell_type": "code",
   "execution_count": 36,
   "id": "39e001dd",
   "metadata": {},
   "outputs": [
    {
     "data": {
      "image/png": "[encoded data removed]",
      "text/plain": [
       "<Figure size 432x288 with 2 Axes>"
      ]
     },
     "metadata": {
      "needs_background": "light"
     },
     "output_type": "display_data"
    }
   ],
   "source": [
    "plot_confusion_matrix(\n",
    "    \"round\",\n",
    "    y_pred_test,\n",
    "    y_test_random_split,\n",
    "    title=\"Confusion matrix for default LightGBM with basic features and random split\",\n",
    ")"
   ]
  },
  {
   "cell_type": "markdown",
   "id": "2a0c7ae0",
   "metadata": {},
   "source": [
    "### Tuning"
   ]
  },
  {
   "cell_type": "code",
   "execution_count": 37,
   "id": "0ef6525a",
   "metadata": {},
   "outputs": [
    {
     "name": "stderr",
     "output_type": "stream",
     "text": [
      "[I 2023-11-05 11:51:57,961] A new study created in memory with name: no-name-6cd171c1-51a9-4120-94af-e5506ec3111f\n",
      "feature_fraction, val_score: inf:   0%|                                                          | 0/7 [00:00<?, ?it/s]"
     ]
    },
    {
     "name": "stdout",
     "output_type": "stream",
     "text": [
      "Training until validation scores don't improve for 100 rounds\n",
      "[100]\tcv_agg's l2: 0.288916 + 0.0455643\n",
      "[200]\tcv_agg's l2: 0.276575 + 0.0436847\n"
     ]
    },
    {
     "name": "stderr",
     "output_type": "stream",
     "text": [
      "feature_fraction, val_score: 0.275081:  14%|######4                                      | 1/7 [00:00<00:05,  1.00it/s][I 2023-11-05 11:51:58,963] Trial 0 finished with value: 0.2750806364010082 and parameters: {'feature_fraction': 0.5}. Best is trial 0 with value: 0.2750806364010082.\n",
      "feature_fraction, val_score: 0.275081:  14%|######4                                      | 1/7 [00:00<00:05,  1.00it/s]"
     ]
    },
    {
     "name": "stdout",
     "output_type": "stream",
     "text": [
      "[300]\tcv_agg's l2: 0.277375 + 0.0437907\n",
      "Early stopping, best iteration is:\n",
      "[234]\tcv_agg's l2: 0.275081 + 0.0435848\n",
      "[100]\tcv_agg's l2: 0.256257 + 0.0405602\n"
     ]
    },
    {
     "name": "stderr",
     "output_type": "stream",
     "text": [
      "feature_fraction, val_score: 0.253261:  29%|############8                                | 2/7 [00:01<00:04,  1.10it/s]"
     ]
    },
    {
     "name": "stdout",
     "output_type": "stream",
     "text": [
      "[200]\tcv_agg's l2: 0.254278 + 0.0414378\n",
      "Early stopping, best iteration is:\n",
      "[156]\tcv_agg's l2: 0.253261 + 0.0398555\n"
     ]
    },
    {
     "name": "stderr",
     "output_type": "stream",
     "text": [
      "[I 2023-11-05 11:51:59,809] Trial 1 finished with value: 0.25326127644934593 and parameters: {'feature_fraction': 0.8}. Best is trial 1 with value: 0.25326127644934593.\n",
      "feature_fraction, val_score: 0.253261:  29%|############8                                | 2/7 [00:01<00:04,  1.10it/s]"
     ]
    },
    {
     "name": "stdout",
     "output_type": "stream",
     "text": [
      "[100]\tcv_agg's l2: 0.256328 + 0.0777765\n"
     ]
    },
    {
     "name": "stderr",
     "output_type": "stream",
     "text": [
      "\r",
      "feature_fraction, val_score: 0.253261:  29%|############8                                | 2/7 [00:02<00:04,  1.10it/s]"
     ]
    },
    {
     "name": "stdout",
     "output_type": "stream",
     "text": [
      "[200]\tcv_agg's l2: 0.259774 + 0.07799\n",
      "Early stopping, best iteration is:\n",
      "[156]\tcv_agg's l2: 0.253261 + 0.0398555\n"
     ]
    },
    {
     "name": "stderr",
     "output_type": "stream",
     "text": [
      "feature_fraction, val_score: 0.253261:  43%|###################2                         | 3/7 [00:02<00:03,  1.17it/s][I 2023-11-05 11:52:00,606] Trial 2 finished with value: 0.25681194424857456 and parameters: {'feature_fraction': 1.0}. Best is trial 1 with value: 0.25326127644934593.\n",
      "feature_fraction, val_score: 0.253261:  43%|###################2                         | 3/7 [00:02<00:03,  1.17it/s]"
     ]
    },
    {
     "name": "stdout",
     "output_type": "stream",
     "text": [
      "[100]\tcv_agg's l2: 0.245938 + 0.0599602\n"
     ]
    },
    {
     "name": "stderr",
     "output_type": "stream",
     "text": [
      "feature_fraction, val_score: 0.245242:  57%|#########################7                   | 4/7 [00:03<00:02,  1.32it/s][I 2023-11-05 11:52:01,206] Trial 3 finished with value: 0.24524238470029855 and parameters: {'feature_fraction': 0.8999999999999999}. Best is trial 3 with value: 0.24524238470029855.\n",
      "feature_fraction, val_score: 0.245242:  57%|#########################7                   | 4/7 [00:03<00:02,  1.32it/s]"
     ]
    },
    {
     "name": "stdout",
     "output_type": "stream",
     "text": [
      "Early stopping, best iteration is:\n",
      "[93]\tcv_agg's l2: 0.245242 + 0.0607037\n",
      "[100]\tcv_agg's l2: 0.256257 + 0.0405602\n"
     ]
    },
    {
     "name": "stderr",
     "output_type": "stream",
     "text": [
      "feature_fraction, val_score: 0.245242:  71%|################################1            | 5/7 [00:03<00:01,  1.41it/s][I 2023-11-05 11:52:01,832] Trial 4 finished with value: 0.2573134623202479 and parameters: {'feature_fraction': 0.7}. Best is trial 3 with value: 0.24524238470029855.\n",
      "feature_fraction, val_score: 0.245242:  71%|################################1            | 5/7 [00:03<00:01,  1.41it/s]"
     ]
    },
    {
     "name": "stdout",
     "output_type": "stream",
     "text": [
      "Early stopping, best iteration is:\n",
      "[93]\tcv_agg's l2: 0.245242 + 0.0607037\n",
      "[100]\tcv_agg's l2: 0.271215 + 0.0413307\n"
     ]
    },
    {
     "name": "stderr",
     "output_type": "stream",
     "text": [
      "feature_fraction, val_score: 0.245242:  86%|######################################5      | 6/7 [00:04<00:00,  1.51it/s][I 2023-11-05 11:52:02,410] Trial 5 finished with value: 0.27322891750377365 and parameters: {'feature_fraction': 0.6}. Best is trial 3 with value: 0.24524238470029855.\n",
      "feature_fraction, val_score: 0.245242:  86%|######################################5      | 6/7 [00:04<00:00,  1.51it/s]"
     ]
    },
    {
     "name": "stdout",
     "output_type": "stream",
     "text": [
      "Early stopping, best iteration is:\n",
      "[93]\tcv_agg's l2: 0.245242 + 0.0607037\n",
      "[100]\tcv_agg's l2: 0.414321 + 0.0439389\n"
     ]
    },
    {
     "name": "stderr",
     "output_type": "stream",
     "text": [
      "feature_fraction, val_score: 0.245242: 100%|#############################################| 7/7 [00:04<00:00,  1.59it/s][I 2023-11-05 11:52:02,961] Trial 6 finished with value: 0.4198743642518153 and parameters: {'feature_fraction': 0.4}. Best is trial 3 with value: 0.24524238470029855.\n",
      "feature_fraction, val_score: 0.245242: 100%|#############################################| 7/7 [00:04<00:00,  1.40it/s]\n"
     ]
    },
    {
     "name": "stdout",
     "output_type": "stream",
     "text": [
      "Early stopping, best iteration is:\n",
      "[93]\tcv_agg's l2: 0.245242 + 0.0607037\n"
     ]
    },
    {
     "name": "stderr",
     "output_type": "stream",
     "text": [
      "num_leaves, val_score: 0.245242:   0%|                                                          | 0/20 [00:00<?, ?it/s]"
     ]
    },
    {
     "name": "stdout",
     "output_type": "stream",
     "text": [
      "[100]\tcv_agg's l2: 0.243374 + 0.0579458\n",
      "[200]\tcv_agg's l2: 0.243183 + 0.0556941\n"
     ]
    },
    {
     "name": "stderr",
     "output_type": "stream",
     "text": [
      "num_leaves, val_score: 0.242073:   5%|##5                                               | 1/20 [00:00<00:10,  1.87it/s][I 2023-11-05 11:52:03,501] Trial 7 finished with value: 0.24207291563110478 and parameters: {'num_leaves': 15}. Best is trial 7 with value: 0.24207291563110478.\n",
      "num_leaves, val_score: 0.242073:   5%|##5                                               | 1/20 [00:00<00:10,  1.87it/s]"
     ]
    },
    {
     "name": "stdout",
     "output_type": "stream",
     "text": [
      "Early stopping, best iteration is:\n",
      "[137]\tcv_agg's l2: 0.242073 + 0.0573948\n",
      "[100]\tcv_agg's l2: 0.245938 + 0.0599602\n"
     ]
    },
    {
     "name": "stderr",
     "output_type": "stream",
     "text": [
      "num_leaves, val_score: 0.242073:  10%|#####                                             | 2/20 [00:01<00:12,  1.43it/s][I 2023-11-05 11:52:04,321] Trial 8 finished with value: 0.24597048694006132 and parameters: {'num_leaves': 246}. Best is trial 7 with value: 0.24207291563110478.\n",
      "num_leaves, val_score: 0.242073:  10%|#####                                             | 2/20 [00:01<00:12,  1.43it/s]"
     ]
    },
    {
     "name": "stdout",
     "output_type": "stream",
     "text": [
      "[200]\tcv_agg's l2: 0.247892 + 0.0575923\n",
      "Early stopping, best iteration is:\n",
      "[137]\tcv_agg's l2: 0.242073 + 0.0573948\n",
      "[100]\tcv_agg's l2: 0.245938 + 0.0599602\n",
      "[200]\tcv_agg's l2: 0.247892 + 0.0575923\n"
     ]
    },
    {
     "name": "stderr",
     "output_type": "stream",
     "text": [
      "num_leaves, val_score: 0.242073:  15%|#######5                                          | 3/20 [00:02<00:13,  1.22it/s][I 2023-11-05 11:52:05,274] Trial 9 finished with value: 0.24597048694006132 and parameters: {'num_leaves': 192}. Best is trial 7 with value: 0.24207291563110478.\n",
      "num_leaves, val_score: 0.242073:  15%|#######5                                          | 3/20 [00:02<00:13,  1.22it/s]"
     ]
    },
    {
     "name": "stdout",
     "output_type": "stream",
     "text": [
      "Early stopping, best iteration is:\n",
      "[137]\tcv_agg's l2: 0.242073 + 0.0573948\n",
      "[100]\tcv_agg's l2: 0.246577 + 0.0699387\n",
      "[200]\tcv_agg's l2: 0.242229 + 0.0641341\n",
      "[300]\tcv_agg's l2: 0.243714 + 0.0642599\n"
     ]
    },
    {
     "name": "stderr",
     "output_type": "stream",
     "text": [
      "num_leaves, val_score: 0.241785:  20%|##########                                        | 4/20 [00:02<00:11,  1.37it/s][I 2023-11-05 11:52:05,870] Trial 10 finished with value: 0.24178521842426037 and parameters: {'num_leaves': 9}. Best is trial 10 with value: 0.24178521842426037.\n",
      "num_leaves, val_score: 0.241785:  20%|##########                                        | 4/20 [00:02<00:11,  1.37it/s]"
     ]
    },
    {
     "name": "stdout",
     "output_type": "stream",
     "text": [
      "Early stopping, best iteration is:\n",
      "[265]\tcv_agg's l2: 0.241785 + 0.0637377\n",
      "[100]\tcv_agg's l2: 0.252137 + 0.0764169\n",
      "[200]\tcv_agg's l2: 0.244456 + 0.0694086\n",
      "[300]\tcv_agg's l2: 0.242579 + 0.0674636\n"
     ]
    },
    {
     "name": "stderr",
     "output_type": "stream",
     "text": [
      "num_leaves, val_score: 0.240979:  25%|############5                                     | 5/20 [00:03<00:10,  1.49it/s][I 2023-11-05 11:52:06,433] Trial 11 finished with value: 0.24097918150672054 and parameters: {'num_leaves': 6}. Best is trial 11 with value: 0.24097918150672054.\n",
      "num_leaves, val_score: 0.240979:  25%|############5                                     | 5/20 [00:03<00:10,  1.49it/s]"
     ]
    },
    {
     "name": "stdout",
     "output_type": "stream",
     "text": [
      "[400]\tcv_agg's l2: 0.241725 + 0.0656056\n",
      "Early stopping, best iteration is:\n",
      "[376]\tcv_agg's l2: 0.240979 + 0.064527\n",
      "[100]\tcv_agg's l2: 0.252141 + 0.0681024\n",
      "[200]\tcv_agg's l2: 0.246235 + 0.0649924\n",
      "[300]\tcv_agg's l2: 0.246301 + 0.0643849\n",
      "[400]\tcv_agg's l2: 0.245565 + 0.0634427\n"
     ]
    },
    {
     "name": "stderr",
     "output_type": "stream",
     "text": [
      "num_leaves, val_score: 0.240979:  30%|###############                                   | 6/20 [00:04<00:09,  1.51it/s][I 2023-11-05 11:52:07,078] Trial 12 finished with value: 0.24568869201686927 and parameters: {'num_leaves': 7}. Best is trial 11 with value: 0.24097918150672054.\n",
      "num_leaves, val_score: 0.240979:  30%|###############                                   | 6/20 [00:04<00:09,  1.51it/s]"
     ]
    },
    {
     "name": "stdout",
     "output_type": "stream",
     "text": [
      "Early stopping, best iteration is:\n",
      "[376]\tcv_agg's l2: 0.240979 + 0.064527\n",
      "[100]\tcv_agg's l2: 0.245938 + 0.0599602\n",
      "[200]\tcv_agg's l2: 0.247892 + 0.0575923\n",
      "[300]\tcv_agg's l2: 0.251639 + 0.0559805\n",
      "[400]\tcv_agg's l2: 0.254542 + 0.0554977\n"
     ]
    },
    {
     "name": "stderr",
     "output_type": "stream",
     "text": [
      "num_leaves, val_score: 0.240979:  35%|#################5                                | 7/20 [00:05<00:12,  1.03it/s][I 2023-11-05 11:52:08,687] Trial 13 finished with value: 0.2539255955193064 and parameters: {'num_leaves': 81}. Best is trial 11 with value: 0.24097918150672054.\n",
      "num_leaves, val_score: 0.240979:  35%|#################5                                | 7/20 [00:05<00:12,  1.03it/s]"
     ]
    },
    {
     "name": "stdout",
     "output_type": "stream",
     "text": [
      "Early stopping, best iteration is:\n",
      "[376]\tcv_agg's l2: 0.240979 + 0.064527\n",
      "[100]\tcv_agg's l2: 0.245938 + 0.0599602\n",
      "[200]\tcv_agg's l2: 0.247892 + 0.0575923\n",
      "[300]\tcv_agg's l2: 0.251639 + 0.0559805\n",
      "[400]\tcv_agg's l2: 0.254542 + 0.0554977\n"
     ]
    },
    {
     "name": "stderr",
     "output_type": "stream",
     "text": [
      "num_leaves, val_score: 0.240979:  40%|####################                              | 8/20 [00:07<00:14,  1.18s/it][I 2023-11-05 11:52:10,310] Trial 14 finished with value: 0.2539255955193064 and parameters: {'num_leaves': 71}. Best is trial 11 with value: 0.24097918150672054.\n",
      "num_leaves, val_score: 0.240979:  40%|####################                              | 8/20 [00:07<00:14,  1.18s/it]"
     ]
    },
    {
     "name": "stdout",
     "output_type": "stream",
     "text": [
      "Early stopping, best iteration is:\n",
      "[376]\tcv_agg's l2: 0.240979 + 0.064527\n",
      "[100]\tcv_agg's l2: 0.245938 + 0.0599602\n",
      "[200]\tcv_agg's l2: 0.247892 + 0.0575923\n",
      "[300]\tcv_agg's l2: 0.251639 + 0.0559805\n",
      "[400]\tcv_agg's l2: 0.254542 + 0.0554977\n"
     ]
    },
    {
     "name": "stderr",
     "output_type": "stream",
     "text": [
      "num_leaves, val_score: 0.240979:  45%|######################5                           | 9/20 [00:08<00:14,  1.31s/it][I 2023-11-05 11:52:11,922] Trial 15 finished with value: 0.2539255955193064 and parameters: {'num_leaves': 66}. Best is trial 11 with value: 0.24097918150672054.\n",
      "num_leaves, val_score: 0.240979:  45%|######################5                           | 9/20 [00:08<00:14,  1.31s/it]"
     ]
    },
    {
     "name": "stdout",
     "output_type": "stream",
     "text": [
      "Early stopping, best iteration is:\n",
      "[376]\tcv_agg's l2: 0.240979 + 0.064527\n",
      "[100]\tcv_agg's l2: 0.335345 + 0.0908588\n",
      "[200]\tcv_agg's l2: 0.297417 + 0.0804349\n"
     ]
    },
    {
     "name": "stderr",
     "output_type": "stream",
     "text": [
      "num_leaves, val_score: 0.240979:  50%|########################5                        | 10/20 [00:09<00:10,  1.02s/it][I 2023-11-05 11:52:12,273] Trial 16 finished with value: 0.2894887162784126 and parameters: {'num_leaves': 2}. Best is trial 11 with value: 0.24097918150672054.\n",
      "num_leaves, val_score: 0.240979:  50%|########################5                        | 10/20 [00:09<00:10,  1.02s/it]"
     ]
    },
    {
     "name": "stdout",
     "output_type": "stream",
     "text": [
      "[300]\tcv_agg's l2: 0.291608 + 0.0782974\n",
      "[400]\tcv_agg's l2: 0.288991 + 0.0773455\n",
      "Early stopping, best iteration is:\n",
      "[376]\tcv_agg's l2: 0.240979 + 0.064527\n",
      "[100]\tcv_agg's l2: 0.245938 + 0.0599602\n",
      "[200]\tcv_agg's l2: 0.247892 + 0.0575923\n",
      "[300]\tcv_agg's l2: 0.251639 + 0.0559805\n",
      "[400]\tcv_agg's l2: 0.254542 + 0.0554977\n"
     ]
    },
    {
     "name": "stderr",
     "output_type": "stream",
     "text": [
      "num_leaves, val_score: 0.240979:  55%|##########################9                      | 11/20 [00:10<00:10,  1.18s/it][I 2023-11-05 11:52:13,828] Trial 17 finished with value: 0.2539255955193064 and parameters: {'num_leaves': 125}. Best is trial 11 with value: 0.24097918150672054.\n",
      "num_leaves, val_score: 0.240979:  55%|##########################9                      | 11/20 [00:10<00:10,  1.18s/it]"
     ]
    },
    {
     "name": "stdout",
     "output_type": "stream",
     "text": [
      "Early stopping, best iteration is:\n",
      "[376]\tcv_agg's l2: 0.240979 + 0.064527\n",
      "[100]\tcv_agg's l2: 0.245938 + 0.0599602\n",
      "[200]\tcv_agg's l2: 0.247892 + 0.0575923\n",
      "[300]\tcv_agg's l2: 0.251639 + 0.0559805\n",
      "[400]\tcv_agg's l2: 0.254542 + 0.0554977\n"
     ]
    },
    {
     "name": "stderr",
     "output_type": "stream",
     "text": [
      "num_leaves, val_score: 0.240979:  60%|#############################4                   | 12/20 [00:12<00:10,  1.31s/it][I 2023-11-05 11:52:15,420] Trial 18 finished with value: 0.2539255955193064 and parameters: {'num_leaves': 47}. Best is trial 11 with value: 0.24097918150672054.\n",
      "num_leaves, val_score: 0.240979:  60%|#############################4                   | 12/20 [00:12<00:10,  1.31s/it]"
     ]
    },
    {
     "name": "stdout",
     "output_type": "stream",
     "text": [
      "Early stopping, best iteration is:\n",
      "[376]\tcv_agg's l2: 0.240979 + 0.064527\n",
      "[100]\tcv_agg's l2: 0.245938 + 0.0599602\n",
      "[200]\tcv_agg's l2: 0.247892 + 0.0575923\n",
      "[300]\tcv_agg's l2: 0.251639 + 0.0559805\n",
      "[400]\tcv_agg's l2: 0.254542 + 0.0554977\n"
     ]
    },
    {
     "name": "stderr",
     "output_type": "stream",
     "text": [
      "num_leaves, val_score: 0.240979:  65%|###############################8                 | 13/20 [00:14<00:09,  1.40s/it][I 2023-11-05 11:52:17,032] Trial 19 finished with value: 0.2539255955193064 and parameters: {'num_leaves': 120}. Best is trial 11 with value: 0.24097918150672054.\n",
      "num_leaves, val_score: 0.240979:  65%|###############################8                 | 13/20 [00:14<00:09,  1.40s/it]"
     ]
    },
    {
     "name": "stdout",
     "output_type": "stream",
     "text": [
      "Early stopping, best iteration is:\n",
      "[376]\tcv_agg's l2: 0.240979 + 0.064527\n",
      "[100]\tcv_agg's l2: 0.245938 + 0.0599602\n",
      "[200]\tcv_agg's l2: 0.247892 + 0.0575923\n",
      "[300]\tcv_agg's l2: 0.251639 + 0.0559805\n",
      "[400]\tcv_agg's l2: 0.254542 + 0.0554977\n"
     ]
    },
    {
     "name": "stderr",
     "output_type": "stream",
     "text": [
      "num_leaves, val_score: 0.240979:  70%|##################################3              | 14/20 [00:15<00:08,  1.45s/it][I 2023-11-05 11:52:18,609] Trial 20 finished with value: 0.2539255955193064 and parameters: {'num_leaves': 41}. Best is trial 11 with value: 0.24097918150672054.\n",
      "num_leaves, val_score: 0.240979:  70%|##################################3              | 14/20 [00:15<00:08,  1.45s/it]"
     ]
    },
    {
     "name": "stdout",
     "output_type": "stream",
     "text": [
      "Early stopping, best iteration is:\n",
      "[376]\tcv_agg's l2: 0.240979 + 0.064527\n",
      "[100]\tcv_agg's l2: 0.246577 + 0.0699387\n",
      "[200]\tcv_agg's l2: 0.242229 + 0.0641341\n",
      "[300]\tcv_agg's l2: 0.243714 + 0.0642599\n"
     ]
    },
    {
     "name": "stderr",
     "output_type": "stream",
     "text": [
      "num_leaves, val_score: 0.240979:  75%|####################################7            | 15/20 [00:16<00:06,  1.23s/it][I 2023-11-05 11:52:19,334] Trial 21 finished with value: 0.24381431723368135 and parameters: {'num_leaves': 9}. Best is trial 11 with value: 0.24097918150672054.\n",
      "num_leaves, val_score: 0.240979:  75%|####################################7            | 15/20 [00:16<00:06,  1.23s/it]"
     ]
    },
    {
     "name": "stdout",
     "output_type": "stream",
     "text": [
      "[400]\tcv_agg's l2: 0.243618 + 0.0617757\n",
      "Early stopping, best iteration is:\n",
      "[376]\tcv_agg's l2: 0.240979 + 0.064527\n",
      "[100]\tcv_agg's l2: 0.245938 + 0.0599602\n",
      "[200]\tcv_agg's l2: 0.247892 + 0.0575923\n",
      "[300]\tcv_agg's l2: 0.251639 + 0.0559805\n",
      "[400]\tcv_agg's l2: 0.254542 + 0.0554977\n"
     ]
    },
    {
     "name": "stderr",
     "output_type": "stream",
     "text": [
      "num_leaves, val_score: 0.240979:  80%|#######################################2         | 16/20 [00:17<00:05,  1.32s/it][I 2023-11-05 11:52:20,865] Trial 22 finished with value: 0.2539255955193064 and parameters: {'num_leaves': 33}. Best is trial 11 with value: 0.24097918150672054.\n",
      "num_leaves, val_score: 0.240979:  80%|#######################################2         | 16/20 [00:17<00:05,  1.32s/it]"
     ]
    },
    {
     "name": "stdout",
     "output_type": "stream",
     "text": [
      "Early stopping, best iteration is:\n",
      "[376]\tcv_agg's l2: 0.240979 + 0.064527\n",
      "[100]\tcv_agg's l2: 0.245938 + 0.0599602\n",
      "[200]\tcv_agg's l2: 0.247892 + 0.0575923\n",
      "[300]\tcv_agg's l2: 0.251639 + 0.0559805\n",
      "[400]\tcv_agg's l2: 0.254542 + 0.0554977\n"
     ]
    },
    {
     "name": "stderr",
     "output_type": "stream",
     "text": [
      "num_leaves, val_score: 0.240979:  85%|#########################################6       | 17/20 [00:19<00:04,  1.37s/it][I 2023-11-05 11:52:22,347] Trial 23 finished with value: 0.2539255955193064 and parameters: {'num_leaves': 99}. Best is trial 11 with value: 0.24097918150672054.\n",
      "num_leaves, val_score: 0.240979:  85%|#########################################6       | 17/20 [00:19<00:04,  1.37s/it]"
     ]
    },
    {
     "name": "stdout",
     "output_type": "stream",
     "text": [
      "Early stopping, best iteration is:\n",
      "[376]\tcv_agg's l2: 0.240979 + 0.064527\n",
      "[100]\tcv_agg's l2: 0.245938 + 0.0599602\n",
      "[200]\tcv_agg's l2: 0.247892 + 0.0575923\n",
      "[300]\tcv_agg's l2: 0.251639 + 0.0559805\n",
      "[400]\tcv_agg's l2: 0.254542 + 0.0554977\n"
     ]
    },
    {
     "name": "stderr",
     "output_type": "stream",
     "text": [
      "num_leaves, val_score: 0.240979:  90%|############################################1    | 18/20 [00:20<00:02,  1.44s/it][I 2023-11-05 11:52:23,947] Trial 24 finished with value: 0.2539255955193064 and parameters: {'num_leaves': 172}. Best is trial 11 with value: 0.24097918150672054.\n",
      "num_leaves, val_score: 0.240979:  90%|############################################1    | 18/20 [00:20<00:02,  1.44s/it]"
     ]
    },
    {
     "name": "stdout",
     "output_type": "stream",
     "text": [
      "Early stopping, best iteration is:\n",
      "[376]\tcv_agg's l2: 0.240979 + 0.064527\n",
      "[100]\tcv_agg's l2: 0.246436 + 0.0639633\n",
      "[200]\tcv_agg's l2: 0.247863 + 0.0597035\n",
      "[300]\tcv_agg's l2: 0.251155 + 0.0556175\n",
      "[400]\tcv_agg's l2: 0.255046 + 0.054548\n"
     ]
    },
    {
     "name": "stderr",
     "output_type": "stream",
     "text": [
      "num_leaves, val_score: 0.240979:  95%|##############################################5  | 19/20 [00:22<00:01,  1.45s/it][I 2023-11-05 11:52:25,423] Trial 25 finished with value: 0.2539841036840707 and parameters: {'num_leaves': 29}. Best is trial 11 with value: 0.24097918150672054.\n",
      "num_leaves, val_score: 0.240979:  95%|##############################################5  | 19/20 [00:22<00:01,  1.45s/it]"
     ]
    },
    {
     "name": "stdout",
     "output_type": "stream",
     "text": [
      "Early stopping, best iteration is:\n",
      "[376]\tcv_agg's l2: 0.240979 + 0.064527\n",
      "[100]\tcv_agg's l2: 0.242281 + 0.0574748\n",
      "[200]\tcv_agg's l2: 0.242056 + 0.0520199\n",
      "[300]\tcv_agg's l2: 0.244398 + 0.0481632\n",
      "[400]\tcv_agg's l2: 0.248163 + 0.0474973\n"
     ]
    },
    {
     "name": "stderr",
     "output_type": "stream",
     "text": [
      "num_leaves, val_score: 0.240979: 100%|#################################################| 20/20 [00:23<00:00,  1.47s/it][I 2023-11-05 11:52:26,946] Trial 26 finished with value: 0.24720587616223993 and parameters: {'num_leaves': 27}. Best is trial 11 with value: 0.24097918150672054.\n",
      "num_leaves, val_score: 0.240979: 100%|#################################################| 20/20 [00:23<00:00,  1.20s/it]\n"
     ]
    },
    {
     "name": "stdout",
     "output_type": "stream",
     "text": [
      "Early stopping, best iteration is:\n",
      "[376]\tcv_agg's l2: 0.240979 + 0.064527\n"
     ]
    },
    {
     "name": "stderr",
     "output_type": "stream",
     "text": [
      "bagging, val_score: 0.240979:   0%|                                                             | 0/10 [00:00<?, ?it/s]"
     ]
    },
    {
     "name": "stdout",
     "output_type": "stream",
     "text": [
      "[100]\tcv_agg's l2: 0.247396 + 0.0664319\n",
      "[200]\tcv_agg's l2: 0.242778 + 0.0623431\n",
      "[300]\tcv_agg's l2: 0.238506 + 0.0580318\n",
      "[400]\tcv_agg's l2: 0.237513 + 0.0542132\n"
     ]
    },
    {
     "name": "stderr",
     "output_type": "stream",
     "text": [
      "\r",
      "bagging, val_score: 0.237028:   0%|                                                             | 0/10 [00:00<?, ?it/s]"
     ]
    },
    {
     "name": "stdout",
     "output_type": "stream",
     "text": [
      "[500]\tcv_agg's l2: 0.237938 + 0.0520454\n",
      "Early stopping, best iteration is:\n",
      "[416]\tcv_agg's l2: 0.237028 + 0.0537993\n"
     ]
    },
    {
     "name": "stderr",
     "output_type": "stream",
     "text": [
      "bagging, val_score: 0.237028:  10%|#####3                                               | 1/10 [00:00<00:07,  1.22it/s][I 2023-11-05 11:52:27,770] Trial 27 finished with value: 0.23702776832898503 and parameters: {'bagging_fraction': 0.9695603306133047, 'bagging_freq': 5}. Best is trial 27 with value: 0.23702776832898503.\n",
      "bagging, val_score: 0.237028:  10%|#####3                                               | 1/10 [00:00<00:07,  1.22it/s]"
     ]
    },
    {
     "name": "stdout",
     "output_type": "stream",
     "text": [
      "[100]\tcv_agg's l2: 0.246202 + 0.0649493\n",
      "[200]\tcv_agg's l2: 0.241073 + 0.0597333\n",
      "[300]\tcv_agg's l2: 0.240485 + 0.0558306\n",
      "[400]\tcv_agg's l2: 0.239003 + 0.0532596\n"
     ]
    },
    {
     "name": "stderr",
     "output_type": "stream",
     "text": [
      "bagging, val_score: 0.237028:  20%|##########6                                          | 2/10 [00:01<00:06,  1.15it/s][I 2023-11-05 11:52:28,673] Trial 28 finished with value: 0.23877053847788549 and parameters: {'bagging_fraction': 0.9771274913188474, 'bagging_freq': 5}. Best is trial 27 with value: 0.23702776832898503.\n",
      "bagging, val_score: 0.237028:  20%|##########6                                          | 2/10 [00:01<00:06,  1.15it/s]"
     ]
    },
    {
     "name": "stdout",
     "output_type": "stream",
     "text": [
      "[500]\tcv_agg's l2: 0.239321 + 0.0510023\n",
      "Early stopping, best iteration is:\n",
      "[416]\tcv_agg's l2: 0.237028 + 0.0537993\n",
      "[100]\tcv_agg's l2: 0.247446 + 0.0631922\n",
      "[200]\tcv_agg's l2: 0.241517 + 0.0590616\n",
      "[300]\tcv_agg's l2: 0.239852 + 0.0562756\n",
      "[400]\tcv_agg's l2: 0.238268 + 0.0524288\n"
     ]
    },
    {
     "name": "stderr",
     "output_type": "stream",
     "text": [
      "bagging, val_score: 0.237028:  30%|###############9                                     | 3/10 [00:02<00:06,  1.16it/s][I 2023-11-05 11:52:29,525] Trial 29 finished with value: 0.23846964159645306 and parameters: {'bagging_fraction': 0.9873797473731982, 'bagging_freq': 5}. Best is trial 27 with value: 0.23702776832898503.\n",
      "bagging, val_score: 0.237028:  30%|###############9                                     | 3/10 [00:02<00:06,  1.16it/s]"
     ]
    },
    {
     "name": "stdout",
     "output_type": "stream",
     "text": [
      "[500]\tcv_agg's l2: 0.238539 + 0.0519495\n",
      "Early stopping, best iteration is:\n",
      "[416]\tcv_agg's l2: 0.237028 + 0.0537993\n",
      "[100]\tcv_agg's l2: 0.249701 + 0.0651724\n",
      "[200]\tcv_agg's l2: 0.244537 + 0.0598539\n",
      "[300]\tcv_agg's l2: 0.241357 + 0.058496\n"
     ]
    },
    {
     "name": "stderr",
     "output_type": "stream",
     "text": [
      "bagging, val_score: 0.237028:  40%|#####################2                               | 4/10 [00:03<00:04,  1.24it/s][I 2023-11-05 11:52:30,241] Trial 30 finished with value: 0.24044822619932787 and parameters: {'bagging_fraction': 0.9847850465036597, 'bagging_freq': 5}. Best is trial 27 with value: 0.23702776832898503.\n",
      "bagging, val_score: 0.237028:  40%|#####################2                               | 4/10 [00:03<00:04,  1.24it/s]"
     ]
    },
    {
     "name": "stdout",
     "output_type": "stream",
     "text": [
      "[400]\tcv_agg's l2: 0.240174 + 0.0574709\n",
      "[500]\tcv_agg's l2: 0.240369 + 0.0550105\n",
      "Early stopping, best iteration is:\n",
      "[416]\tcv_agg's l2: 0.237028 + 0.0537993\n",
      "[100]\tcv_agg's l2: 0.248211 + 0.0677049\n",
      "[200]\tcv_agg's l2: 0.241124 + 0.0625199\n",
      "[300]\tcv_agg's l2: 0.237609 + 0.0622606\n",
      "[400]\tcv_agg's l2: 0.238648 + 0.0596422\n"
     ]
    },
    {
     "name": "stderr",
     "output_type": "stream",
     "text": [
      "bagging, val_score: 0.237028:  50%|##########################5                          | 5/10 [00:04<00:03,  1.29it/s][I 2023-11-05 11:52:30,972] Trial 31 finished with value: 0.23913079235544746 and parameters: {'bagging_fraction': 0.9953390480636335, 'bagging_freq': 5}. Best is trial 27 with value: 0.23702776832898503.\n",
      "bagging, val_score: 0.237028:  50%|##########################5                          | 5/10 [00:04<00:03,  1.29it/s]"
     ]
    },
    {
     "name": "stdout",
     "output_type": "stream",
     "text": [
      "[500]\tcv_agg's l2: 0.239597 + 0.0583262\n",
      "Early stopping, best iteration is:\n",
      "[416]\tcv_agg's l2: 0.237028 + 0.0537993\n",
      "[100]\tcv_agg's l2: 0.246689 + 0.0667672\n",
      "[200]\tcv_agg's l2: 0.243222 + 0.0608555\n",
      "[300]\tcv_agg's l2: 0.238216 + 0.058366\n",
      "[400]\tcv_agg's l2: 0.238509 + 0.0551532\n"
     ]
    },
    {
     "name": "stderr",
     "output_type": "stream",
     "text": [
      "bagging, val_score: 0.237028:  60%|###############################8                     | 6/10 [00:04<00:03,  1.27it/s][I 2023-11-05 11:52:31,771] Trial 32 finished with value: 0.2384240811115581 and parameters: {'bagging_fraction': 0.9953062824341351, 'bagging_freq': 5}. Best is trial 27 with value: 0.23702776832898503.\n",
      "bagging, val_score: 0.237028:  60%|###############################8                     | 6/10 [00:04<00:03,  1.27it/s]"
     ]
    },
    {
     "name": "stdout",
     "output_type": "stream",
     "text": [
      "[500]\tcv_agg's l2: 0.239629 + 0.054669\n",
      "Early stopping, best iteration is:\n",
      "[416]\tcv_agg's l2: 0.237028 + 0.0537993\n",
      "[100]\tcv_agg's l2: 0.248192 + 0.0665222\n",
      "[200]\tcv_agg's l2: 0.24333 + 0.0632192\n",
      "[300]\tcv_agg's l2: 0.241523 + 0.0626927\n",
      "[400]\tcv_agg's l2: 0.241445 + 0.0609585\n"
     ]
    },
    {
     "name": "stderr",
     "output_type": "stream",
     "text": [
      "bagging, val_score: 0.237028:  70%|#####################################                | 7/10 [00:05<00:02,  1.26it/s][I 2023-11-05 11:52:32,580] Trial 33 finished with value: 0.24130718704789933 and parameters: {'bagging_fraction': 0.9897556789618751, 'bagging_freq': 5}. Best is trial 27 with value: 0.23702776832898503.\n",
      "bagging, val_score: 0.237028:  70%|#####################################                | 7/10 [00:05<00:02,  1.26it/s]"
     ]
    },
    {
     "name": "stdout",
     "output_type": "stream",
     "text": [
      "[500]\tcv_agg's l2: 0.240578 + 0.0590559\n",
      "Early stopping, best iteration is:\n",
      "[416]\tcv_agg's l2: 0.237028 + 0.0537993\n",
      "[100]\tcv_agg's l2: 0.248202 + 0.0617818\n",
      "[200]\tcv_agg's l2: 0.24416 + 0.060756\n",
      "[300]\tcv_agg's l2: 0.241425 + 0.0599405\n",
      "[400]\tcv_agg's l2: 0.240952 + 0.0583814\n"
     ]
    },
    {
     "name": "stderr",
     "output_type": "stream",
     "text": [
      "bagging, val_score: 0.237028:  80%|##########################################4          | 8/10 [00:06<00:01,  1.19it/s][I 2023-11-05 11:52:33,515] Trial 34 finished with value: 0.24122512197198498 and parameters: {'bagging_fraction': 0.9839026461098894, 'bagging_freq': 5}. Best is trial 27 with value: 0.23702776832898503.\n",
      "bagging, val_score: 0.237028:  80%|##########################################4          | 8/10 [00:06<00:01,  1.19it/s]"
     ]
    },
    {
     "name": "stdout",
     "output_type": "stream",
     "text": [
      "[500]\tcv_agg's l2: 0.242276 + 0.0594855\n",
      "Early stopping, best iteration is:\n",
      "[416]\tcv_agg's l2: 0.237028 + 0.0537993\n",
      "[100]\tcv_agg's l2: 0.249606 + 0.0687556\n",
      "[200]\tcv_agg's l2: 0.245815 + 0.0612684\n",
      "[300]\tcv_agg's l2: 0.240164 + 0.0586151\n",
      "[400]\tcv_agg's l2: 0.23996 + 0.0543017\n"
     ]
    },
    {
     "name": "stderr",
     "output_type": "stream",
     "text": [
      "bagging, val_score: 0.237028:  90%|###############################################7     | 9/10 [00:07<00:00,  1.13it/s][I 2023-11-05 11:52:34,515] Trial 35 finished with value: 0.24026310226066122 and parameters: {'bagging_fraction': 0.8435995855297952, 'bagging_freq': 4}. Best is trial 27 with value: 0.23702776832898503.\n",
      "bagging, val_score: 0.237028:  90%|###############################################7     | 9/10 [00:07<00:00,  1.13it/s]"
     ]
    },
    {
     "name": "stdout",
     "output_type": "stream",
     "text": [
      "[500]\tcv_agg's l2: 0.240478 + 0.0523083\n",
      "Early stopping, best iteration is:\n",
      "[416]\tcv_agg's l2: 0.237028 + 0.0537993\n",
      "[100]\tcv_agg's l2: 0.309514 + 0.0640561\n",
      "[200]\tcv_agg's l2: 0.296847 + 0.0615951\n",
      "[300]\tcv_agg's l2: 0.30313 + 0.056004\n"
     ]
    },
    {
     "name": "stderr",
     "output_type": "stream",
     "text": [
      "\r",
      "bagging, val_score: 0.237028:  90%|###############################################7     | 9/10 [00:08<00:00,  1.13it/s]"
     ]
    },
    {
     "name": "stdout",
     "output_type": "stream",
     "text": [
      "[400]\tcv_agg's l2: 0.297352 + 0.0585821\n",
      "[500]\tcv_agg's l2: 0.288262 + 0.0590116\n",
      "Early stopping, best iteration is:\n",
      "[416]\tcv_agg's l2: 0.237028 + 0.0537993\n"
     ]
    },
    {
     "name": "stderr",
     "output_type": "stream",
     "text": [
      "bagging, val_score: 0.237028: 100%|####################################################| 10/10 [00:08<00:00,  1.19it/s][I 2023-11-05 11:52:35,258] Trial 36 finished with value: 0.2974239491842296 and parameters: {'bagging_fraction': 0.47951942887010535, 'bagging_freq': 7}. Best is trial 27 with value: 0.23702776832898503.\n",
      "bagging, val_score: 0.237028: 100%|####################################################| 10/10 [00:08<00:00,  1.20it/s]\n",
      "feature_fraction_stage2, val_score: 0.237028:   0%|                                              | 0/6 [00:00<?, ?it/s]"
     ]
    },
    {
     "name": "stdout",
     "output_type": "stream",
     "text": [
      "[100]\tcv_agg's l2: 0.251695 + 0.0746515\n",
      "[200]\tcv_agg's l2: 0.243008 + 0.0725414\n",
      "[300]\tcv_agg's l2: 0.239054 + 0.0708579\n",
      "[400]\tcv_agg's l2: 0.236044 + 0.0689932\n",
      "[500]\tcv_agg's l2: 0.236328 + 0.0677242\n",
      "Early stopping, best iteration is:\n",
      "[459]\tcv_agg's l2: 0.235811 + 0.0678348\n"
     ]
    },
    {
     "name": "stderr",
     "output_type": "stream",
     "text": [
      "feature_fraction_stage2, val_score: 0.235811:  17%|######3                               | 1/6 [00:01<00:05,  1.01s/it][I 2023-11-05 11:52:36,276] Trial 37 finished with value: 0.23581144946215446 and parameters: {'feature_fraction': 0.948}. Best is trial 37 with value: 0.23581144946215446.\n",
      "feature_fraction_stage2, val_score: 0.235811:  17%|######3                               | 1/6 [00:01<00:05,  1.01s/it]"
     ]
    },
    {
     "name": "stdout",
     "output_type": "stream",
     "text": [
      "[100]\tcv_agg's l2: 0.251695 + 0.0746515\n",
      "[200]\tcv_agg's l2: 0.243008 + 0.0725414\n",
      "[300]\tcv_agg's l2: 0.239054 + 0.0708579\n",
      "[400]\tcv_agg's l2: 0.236044 + 0.0689932\n",
      "[500]\tcv_agg's l2: 0.236328 + 0.0677242\n"
     ]
    },
    {
     "name": "stderr",
     "output_type": "stream",
     "text": [
      "feature_fraction_stage2, val_score: 0.235811:  33%|############6                         | 2/6 [00:01<00:03,  1.04it/s][I 2023-11-05 11:52:37,208] Trial 38 finished with value: 0.23581144946215446 and parameters: {'feature_fraction': 0.9799999999999999}. Best is trial 37 with value: 0.23581144946215446.\n",
      "feature_fraction_stage2, val_score: 0.235811:  33%|############6                         | 2/6 [00:01<00:03,  1.04it/s]"
     ]
    },
    {
     "name": "stdout",
     "output_type": "stream",
     "text": [
      "Early stopping, best iteration is:\n",
      "[459]\tcv_agg's l2: 0.235811 + 0.0678348\n",
      "[100]\tcv_agg's l2: 0.247396 + 0.0664319\n",
      "[200]\tcv_agg's l2: 0.242778 + 0.0623431\n",
      "[300]\tcv_agg's l2: 0.238506 + 0.0580318\n",
      "[400]\tcv_agg's l2: 0.237513 + 0.0542132\n",
      "[500]\tcv_agg's l2: 0.237938 + 0.0520454\n"
     ]
    },
    {
     "name": "stderr",
     "output_type": "stream",
     "text": [
      "feature_fraction_stage2, val_score: 0.235811:  50%|###################                   | 3/6 [00:02<00:02,  1.08it/s][I 2023-11-05 11:52:38,083] Trial 39 finished with value: 0.23768870250280308 and parameters: {'feature_fraction': 0.8839999999999999}. Best is trial 37 with value: 0.23581144946215446.\n",
      "feature_fraction_stage2, val_score: 0.235811:  50%|###################                   | 3/6 [00:02<00:02,  1.08it/s]"
     ]
    },
    {
     "name": "stdout",
     "output_type": "stream",
     "text": [
      "Early stopping, best iteration is:\n",
      "[459]\tcv_agg's l2: 0.235811 + 0.0678348\n",
      "[100]\tcv_agg's l2: 0.247396 + 0.0664319\n",
      "[200]\tcv_agg's l2: 0.242778 + 0.0623431\n",
      "[300]\tcv_agg's l2: 0.238506 + 0.0580318\n",
      "[400]\tcv_agg's l2: 0.237513 + 0.0542132\n",
      "[500]\tcv_agg's l2: 0.237938 + 0.0520454\n"
     ]
    },
    {
     "name": "stderr",
     "output_type": "stream",
     "text": [
      "feature_fraction_stage2, val_score: 0.235811:  67%|#########################3            | 4/6 [00:03<00:01,  1.14it/s][I 2023-11-05 11:52:38,891] Trial 40 finished with value: 0.23768870250280308 and parameters: {'feature_fraction': 0.852}. Best is trial 37 with value: 0.23581144946215446.\n",
      "feature_fraction_stage2, val_score: 0.235811:  67%|#########################3            | 4/6 [00:03<00:01,  1.14it/s]"
     ]
    },
    {
     "name": "stdout",
     "output_type": "stream",
     "text": [
      "Early stopping, best iteration is:\n",
      "[459]\tcv_agg's l2: 0.235811 + 0.0678348\n",
      "[100]\tcv_agg's l2: 0.247396 + 0.0664319\n",
      "[200]\tcv_agg's l2: 0.242778 + 0.0623431\n",
      "[300]\tcv_agg's l2: 0.238506 + 0.0580318\n",
      "[400]\tcv_agg's l2: 0.237513 + 0.0542132\n",
      "[500]\tcv_agg's l2: 0.237938 + 0.0520454\n"
     ]
    },
    {
     "name": "stderr",
     "output_type": "stream",
     "text": [
      "feature_fraction_stage2, val_score: 0.235811:  83%|###############################6      | 5/6 [00:04<00:00,  1.12it/s][I 2023-11-05 11:52:39,803] Trial 41 finished with value: 0.23768870250280308 and parameters: {'feature_fraction': 0.9159999999999999}. Best is trial 37 with value: 0.23581144946215446.\n",
      "feature_fraction_stage2, val_score: 0.235811:  83%|###############################6      | 5/6 [00:04<00:00,  1.12it/s]"
     ]
    },
    {
     "name": "stdout",
     "output_type": "stream",
     "text": [
      "Early stopping, best iteration is:\n",
      "[459]\tcv_agg's l2: 0.235811 + 0.0678348\n",
      "[100]\tcv_agg's l2: 0.247396 + 0.0664319\n",
      "[200]\tcv_agg's l2: 0.242778 + 0.0623431\n",
      "[300]\tcv_agg's l2: 0.238506 + 0.0580318\n",
      "[400]\tcv_agg's l2: 0.237513 + 0.0542132\n"
     ]
    },
    {
     "name": "stderr",
     "output_type": "stream",
     "text": [
      "feature_fraction_stage2, val_score: 0.235811: 100%|######################################| 6/6 [00:05<00:00,  1.13it/s][I 2023-11-05 11:52:40,686] Trial 42 finished with value: 0.23768870250280308 and parameters: {'feature_fraction': 0.82}. Best is trial 37 with value: 0.23581144946215446.\n",
      "feature_fraction_stage2, val_score: 0.235811: 100%|######################################| 6/6 [00:05<00:00,  1.11it/s]\n"
     ]
    },
    {
     "name": "stdout",
     "output_type": "stream",
     "text": [
      "[500]\tcv_agg's l2: 0.237938 + 0.0520454\n",
      "Early stopping, best iteration is:\n",
      "[459]\tcv_agg's l2: 0.235811 + 0.0678348\n"
     ]
    },
    {
     "name": "stderr",
     "output_type": "stream",
     "text": [
      "regularization_factors, val_score: 0.235811:   0%|                                              | 0/20 [00:00<?, ?it/s]"
     ]
    },
    {
     "name": "stdout",
     "output_type": "stream",
     "text": [
      "[100]\tcv_agg's l2: 0.250558 + 0.0724661\n",
      "[200]\tcv_agg's l2: 0.241054 + 0.0694397\n",
      "[300]\tcv_agg's l2: 0.238515 + 0.068303\n",
      "[400]\tcv_agg's l2: 0.23785 + 0.067608\n"
     ]
    },
    {
     "name": "stderr",
     "output_type": "stream",
     "text": [
      "regularization_factors, val_score: 0.235806:   5%|#9                                    | 1/20 [00:01<00:19,  1.03s/it][I 2023-11-05 11:52:41,731] Trial 43 finished with value: 0.23580642450647912 and parameters: {'lambda_l1': 0.004176612406874879, 'lambda_l2': 0.07042985096048746}. Best is trial 43 with value: 0.23580642450647912.\n",
      "regularization_factors, val_score: 0.235806:   5%|#9                                    | 1/20 [00:01<00:19,  1.03s/it]"
     ]
    },
    {
     "name": "stdout",
     "output_type": "stream",
     "text": [
      "[500]\tcv_agg's l2: 0.23589 + 0.0640383\n",
      "Early stopping, best iteration is:\n",
      "[497]\tcv_agg's l2: 0.235806 + 0.0642187\n",
      "[100]\tcv_agg's l2: 0.24896 + 0.0722826\n",
      "[200]\tcv_agg's l2: 0.23953 + 0.0663353\n"
     ]
    },
    {
     "name": "stderr",
     "output_type": "stream",
     "text": [
      "\r",
      "regularization_factors, val_score: 0.234399:   5%|#9                                    | 1/20 [00:01<00:19,  1.03s/it]"
     ]
    },
    {
     "name": "stdout",
     "output_type": "stream",
     "text": [
      "[300]\tcv_agg's l2: 0.236319 + 0.0629903\n",
      "[400]\tcv_agg's l2: 0.235364 + 0.0589555\n",
      "Early stopping, best iteration is:\n",
      "[345]\tcv_agg's l2: 0.234399 + 0.0596944\n"
     ]
    },
    {
     "name": "stderr",
     "output_type": "stream",
     "text": [
      "regularization_factors, val_score: 0.234399:  10%|###8                                  | 2/20 [00:01<00:14,  1.24it/s][I 2023-11-05 11:52:42,383] Trial 44 finished with value: 0.23439897811104546 and parameters: {'lambda_l1': 0.005512909276636016, 'lambda_l2': 0.11999117255725184}. Best is trial 44 with value: 0.23439897811104546.\n",
      "regularization_factors, val_score: 0.234399:  10%|###8                                  | 2/20 [00:01<00:14,  1.24it/s]"
     ]
    },
    {
     "name": "stdout",
     "output_type": "stream",
     "text": [
      "[100]\tcv_agg's l2: 0.250673 + 0.0706098\n",
      "[200]\tcv_agg's l2: 0.239592 + 0.0648001\n"
     ]
    },
    {
     "name": "stderr",
     "output_type": "stream",
     "text": [
      "\r",
      "regularization_factors, val_score: 0.234399:  10%|###8                                  | 2/20 [00:02<00:14,  1.24it/s]"
     ]
    },
    {
     "name": "stdout",
     "output_type": "stream",
     "text": [
      "[300]\tcv_agg's l2: 0.236516 + 0.062939\n",
      "[400]\tcv_agg's l2: 0.235138 + 0.060609\n",
      "Early stopping, best iteration is:\n",
      "[345]\tcv_agg's l2: 0.234399 + 0.0596944\n"
     ]
    },
    {
     "name": "stderr",
     "output_type": "stream",
     "text": [
      "regularization_factors, val_score: 0.234399:  15%|#####7                                | 3/20 [00:02<00:12,  1.34it/s][I 2023-11-05 11:52:43,060] Trial 45 finished with value: 0.23507922245069895 and parameters: {'lambda_l1': 0.0009946593743266248, 'lambda_l2': 0.1281141007522485}. Best is trial 44 with value: 0.23439897811104546.\n",
      "regularization_factors, val_score: 0.234399:  15%|#####7                                | 3/20 [00:02<00:12,  1.34it/s]"
     ]
    },
    {
     "name": "stdout",
     "output_type": "stream",
     "text": [
      "[100]\tcv_agg's l2: 0.251401 + 0.0688794\n",
      "[200]\tcv_agg's l2: 0.24163 + 0.0662022\n",
      "[300]\tcv_agg's l2: 0.236648 + 0.062464\n",
      "[400]\tcv_agg's l2: 0.233719 + 0.0603372\n"
     ]
    },
    {
     "name": "stderr",
     "output_type": "stream",
     "text": [
      "regularization_factors, val_score: 0.233431:  20%|#######6                              | 4/20 [00:03<00:12,  1.33it/s][I 2023-11-05 11:52:43,823] Trial 46 finished with value: 0.23343122262628752 and parameters: {'lambda_l1': 0.0034907660879995197, 'lambda_l2': 0.13710351634799395}. Best is trial 46 with value: 0.23343122262628752.\n",
      "regularization_factors, val_score: 0.233431:  20%|#######6                              | 4/20 [00:03<00:12,  1.33it/s]"
     ]
    },
    {
     "name": "stdout",
     "output_type": "stream",
     "text": [
      "[500]\tcv_agg's l2: 0.234435 + 0.058534\n",
      "Early stopping, best iteration is:\n",
      "[408]\tcv_agg's l2: 0.233431 + 0.0598985\n",
      "[100]\tcv_agg's l2: 0.251154 + 0.0707217\n",
      "[200]\tcv_agg's l2: 0.240698 + 0.0687009\n",
      "[300]\tcv_agg's l2: 0.240255 + 0.0667729\n"
     ]
    },
    {
     "name": "stderr",
     "output_type": "stream",
     "text": [
      "regularization_factors, val_score: 0.233431:  25%|#########5                            | 5/20 [00:03<00:11,  1.30it/s][I 2023-11-05 11:52:44,621] Trial 47 finished with value: 0.23766311810430563 and parameters: {'lambda_l1': 0.0029819208513046473, 'lambda_l2': 0.09832022913873448}. Best is trial 46 with value: 0.23343122262628752.\n",
      "regularization_factors, val_score: 0.233431:  25%|#########5                            | 5/20 [00:03<00:11,  1.30it/s]"
     ]
    },
    {
     "name": "stdout",
     "output_type": "stream",
     "text": [
      "[400]\tcv_agg's l2: 0.237659 + 0.0641719\n",
      "[500]\tcv_agg's l2: 0.238971 + 0.0640259\n",
      "Early stopping, best iteration is:\n",
      "[408]\tcv_agg's l2: 0.233431 + 0.0598985\n",
      "[100]\tcv_agg's l2: 0.248926 + 0.0705135\n",
      "[200]\tcv_agg's l2: 0.239657 + 0.0664459\n",
      "[300]\tcv_agg's l2: 0.23593 + 0.0630664\n",
      "[400]\tcv_agg's l2: 0.23442 + 0.060167\n"
     ]
    },
    {
     "name": "stderr",
     "output_type": "stream",
     "text": [
      "regularization_factors, val_score: 0.233431:  30%|###########4                          | 6/20 [00:04<00:10,  1.27it/s][I 2023-11-05 11:52:45,433] Trial 48 finished with value: 0.2351283928224941 and parameters: {'lambda_l1': 0.0036075660711158987, 'lambda_l2': 0.11034495641260407}. Best is trial 46 with value: 0.23343122262628752.\n",
      "regularization_factors, val_score: 0.233431:  30%|###########4                          | 6/20 [00:04<00:10,  1.27it/s]"
     ]
    },
    {
     "name": "stdout",
     "output_type": "stream",
     "text": [
      "[500]\tcv_agg's l2: 0.234446 + 0.0590137\n",
      "Early stopping, best iteration is:\n",
      "[408]\tcv_agg's l2: 0.233431 + 0.0598985\n",
      "[100]\tcv_agg's l2: 0.250517 + 0.0706833\n",
      "[200]\tcv_agg's l2: 0.239624 + 0.0653992\n",
      "[300]\tcv_agg's l2: 0.235384 + 0.0621997\n"
     ]
    },
    {
     "name": "stderr",
     "output_type": "stream",
     "text": [
      "regularization_factors, val_score: 0.233431:  35%|#############3                        | 7/20 [00:05<00:10,  1.29it/s][I 2023-11-05 11:52:46,194] Trial 49 finished with value: 0.2347823939437224 and parameters: {'lambda_l1': 0.002580007258086062, 'lambda_l2': 0.1309679108659987}. Best is trial 46 with value: 0.23343122262628752.\n",
      "regularization_factors, val_score: 0.233431:  35%|#############3                        | 7/20 [00:05<00:10,  1.29it/s]"
     ]
    },
    {
     "name": "stdout",
     "output_type": "stream",
     "text": [
      "[400]\tcv_agg's l2: 0.234074 + 0.0602731\n",
      "[500]\tcv_agg's l2: 0.235662 + 0.0598273\n",
      "Early stopping, best iteration is:\n",
      "[408]\tcv_agg's l2: 0.233431 + 0.0598985\n",
      "[100]\tcv_agg's l2: 0.25053 + 0.0689886\n",
      "[200]\tcv_agg's l2: 0.240067 + 0.0669135\n",
      "[300]\tcv_agg's l2: 0.237692 + 0.0622988\n",
      "[400]\tcv_agg's l2: 0.236067 + 0.059285\n"
     ]
    },
    {
     "name": "stderr",
     "output_type": "stream",
     "text": [
      "regularization_factors, val_score: 0.233431:  40%|###############2                      | 8/20 [00:06<00:09,  1.32it/s][I 2023-11-05 11:52:46,912] Trial 50 finished with value: 0.23596277567326968 and parameters: {'lambda_l1': 0.0027359164824566195, 'lambda_l2': 0.14407967224628443}. Best is trial 46 with value: 0.23343122262628752.\n",
      "regularization_factors, val_score: 0.233431:  40%|###############2                      | 8/20 [00:06<00:09,  1.32it/s]"
     ]
    },
    {
     "name": "stdout",
     "output_type": "stream",
     "text": [
      "[500]\tcv_agg's l2: 0.237676 + 0.0572578\n",
      "Early stopping, best iteration is:\n",
      "[408]\tcv_agg's l2: 0.233431 + 0.0598985\n",
      "[100]\tcv_agg's l2: 0.251155 + 0.0707216\n",
      "[200]\tcv_agg's l2: 0.240924 + 0.0685875\n",
      "[300]\tcv_agg's l2: 0.239809 + 0.0668279\n"
     ]
    },
    {
     "name": "stderr",
     "output_type": "stream",
     "text": [
      "regularization_factors, val_score: 0.233431:  45%|#################1                    | 9/20 [00:06<00:08,  1.34it/s][I 2023-11-05 11:52:47,632] Trial 51 finished with value: 0.2378817313794515 and parameters: {'lambda_l1': 0.0030021500738095334, 'lambda_l2': 0.09576650298681273}. Best is trial 46 with value: 0.23343122262628752.\n",
      "regularization_factors, val_score: 0.233431:  45%|#################1                    | 9/20 [00:06<00:08,  1.34it/s]"
     ]
    },
    {
     "name": "stdout",
     "output_type": "stream",
     "text": [
      "[400]\tcv_agg's l2: 0.237967 + 0.063919\n",
      "[500]\tcv_agg's l2: 0.239033 + 0.0638965\n",
      "Early stopping, best iteration is:\n",
      "[408]\tcv_agg's l2: 0.233431 + 0.0598985\n",
      "[100]\tcv_agg's l2: 0.248384 + 0.0706329\n",
      "[200]\tcv_agg's l2: 0.237998 + 0.0664077\n",
      "[300]\tcv_agg's l2: 0.235084 + 0.0625144\n",
      "[400]\tcv_agg's l2: 0.232665 + 0.0602051\n"
     ]
    },
    {
     "name": "stderr",
     "output_type": "stream",
     "text": [
      "regularization_factors, val_score: 0.231717:  50%|##################5                  | 10/20 [00:07<00:08,  1.24it/s][I 2023-11-05 11:52:48,571] Trial 52 finished with value: 0.2317166127381737 and parameters: {'lambda_l1': 0.002815728870390467, 'lambda_l2': 0.11463862224488353}. Best is trial 52 with value: 0.2317166127381737.\n",
      "regularization_factors, val_score: 0.231717:  50%|##################5                  | 10/20 [00:07<00:08,  1.24it/s]"
     ]
    },
    {
     "name": "stdout",
     "output_type": "stream",
     "text": [
      "[500]\tcv_agg's l2: 0.23222 + 0.0595826\n",
      "Early stopping, best iteration is:\n",
      "[494]\tcv_agg's l2: 0.231717 + 0.0593825\n",
      "[100]\tcv_agg's l2: 0.24854 + 0.0712338\n",
      "[200]\tcv_agg's l2: 0.238571 + 0.0654653\n",
      "[300]\tcv_agg's l2: 0.236483 + 0.0633436\n",
      "[400]\tcv_agg's l2: 0.23416 + 0.0615194\n"
     ]
    },
    {
     "name": "stderr",
     "output_type": "stream",
     "text": [
      "regularization_factors, val_score: 0.231717:  55%|####################3                | 11/20 [00:08<00:08,  1.11it/s][I 2023-11-05 11:52:49,675] Trial 53 finished with value: 0.23510542306143054 and parameters: {'lambda_l1': 0.0024493127841398797, 'lambda_l2': 0.11730130873215634}. Best is trial 52 with value: 0.2317166127381737.\n",
      "regularization_factors, val_score: 0.231717:  55%|####################3                | 11/20 [00:08<00:08,  1.11it/s]"
     ]
    },
    {
     "name": "stdout",
     "output_type": "stream",
     "text": [
      "[500]\tcv_agg's l2: 0.235088 + 0.0599413\n",
      "Early stopping, best iteration is:\n",
      "[494]\tcv_agg's l2: 0.231717 + 0.0593825\n",
      "[100]\tcv_agg's l2: 0.246518 + 0.0684572\n",
      "[200]\tcv_agg's l2: 0.235871 + 0.0608507\n",
      "[300]\tcv_agg's l2: 0.233818 + 0.0585396\n",
      "[400]\tcv_agg's l2: 0.232931 + 0.0562189\n"
     ]
    },
    {
     "name": "stderr",
     "output_type": "stream",
     "text": [
      "regularization_factors, val_score: 0.231717:  60%|######################2              | 12/20 [00:09<00:07,  1.11it/s][I 2023-11-05 11:52:50,596] Trial 54 finished with value: 0.2343580850990663 and parameters: {'lambda_l1': 0.0023326172556536475, 'lambda_l2': 0.19182728426587228}. Best is trial 52 with value: 0.2317166127381737.\n",
      "regularization_factors, val_score: 0.231717:  60%|######################2              | 12/20 [00:09<00:07,  1.11it/s]"
     ]
    },
    {
     "name": "stdout",
     "output_type": "stream",
     "text": [
      "[500]\tcv_agg's l2: 0.234707 + 0.0560073\n",
      "Early stopping, best iteration is:\n",
      "[494]\tcv_agg's l2: 0.231717 + 0.0593825\n",
      "[100]\tcv_agg's l2: 0.243396 + 0.0572938\n",
      "[200]\tcv_agg's l2: 0.236329 + 0.0569573\n",
      "[300]\tcv_agg's l2: 0.236039 + 0.0539567\n",
      "[400]\tcv_agg's l2: 0.234285 + 0.0533814\n"
     ]
    },
    {
     "name": "stderr",
     "output_type": "stream",
     "text": [
      "regularization_factors, val_score: 0.231717:  65%|########################             | 13/20 [00:10<00:06,  1.12it/s][I 2023-11-05 11:52:51,468] Trial 55 finished with value: 0.2326430868313636 and parameters: {'lambda_l1': 3.46498062114698e-05, 'lambda_l2': 7.682309415903349}. Best is trial 52 with value: 0.2317166127381737.\n",
      "regularization_factors, val_score: 0.231717:  65%|########################             | 13/20 [00:10<00:06,  1.12it/s]"
     ]
    },
    {
     "name": "stdout",
     "output_type": "stream",
     "text": [
      "[500]\tcv_agg's l2: 0.233165 + 0.0517246\n",
      "Early stopping, best iteration is:\n",
      "[494]\tcv_agg's l2: 0.231717 + 0.0593825\n",
      "[100]\tcv_agg's l2: 0.254218 + 0.065061\n",
      "[200]\tcv_agg's l2: 0.245047 + 0.0633432\n",
      "[300]\tcv_agg's l2: 0.242284 + 0.0620133\n",
      "[400]\tcv_agg's l2: 0.240436 + 0.0589007\n"
     ]
    },
    {
     "name": "stderr",
     "output_type": "stream",
     "text": [
      "regularization_factors, val_score: 0.231717:  70%|#########################9           | 14/20 [00:11<00:05,  1.07it/s][I 2023-11-05 11:52:52,494] Trial 56 finished with value: 0.23910286873534528 and parameters: {'lambda_l1': 8.69516619062834e-06, 'lambda_l2': 5.222185806098419}. Best is trial 52 with value: 0.2317166127381737.\n",
      "regularization_factors, val_score: 0.231717:  70%|#########################9           | 14/20 [00:11<00:05,  1.07it/s]"
     ]
    },
    {
     "name": "stdout",
     "output_type": "stream",
     "text": [
      "[500]\tcv_agg's l2: 0.238679 + 0.0558806\n",
      "Early stopping, best iteration is:\n",
      "[494]\tcv_agg's l2: 0.231717 + 0.0593825\n",
      "[100]\tcv_agg's l2: 0.249251 + 0.056551\n",
      "[200]\tcv_agg's l2: 0.241408 + 0.0535573\n",
      "[300]\tcv_agg's l2: 0.238325 + 0.052937\n",
      "[400]\tcv_agg's l2: 0.236963 + 0.0509353\n"
     ]
    },
    {
     "name": "stderr",
     "output_type": "stream",
     "text": [
      "regularization_factors, val_score: 0.231717:  75%|###########################7         | 15/20 [00:12<00:04,  1.04it/s][I 2023-11-05 11:52:53,524] Trial 57 finished with value: 0.23635137342051507 and parameters: {'lambda_l1': 0.14444261147615395, 'lambda_l2': 8.354975268326376}. Best is trial 52 with value: 0.2317166127381737.\n",
      "regularization_factors, val_score: 0.231717:  75%|###########################7         | 15/20 [00:12<00:04,  1.04it/s]"
     ]
    },
    {
     "name": "stdout",
     "output_type": "stream",
     "text": [
      "[500]\tcv_agg's l2: 0.23593 + 0.0486858\n",
      "Early stopping, best iteration is:\n",
      "[494]\tcv_agg's l2: 0.231717 + 0.0593825\n",
      "[100]\tcv_agg's l2: 0.252108 + 0.0745655\n",
      "[200]\tcv_agg's l2: 0.243825 + 0.0735177\n",
      "[300]\tcv_agg's l2: 0.240024 + 0.0705171\n",
      "[400]\tcv_agg's l2: 0.235709 + 0.0694239\n",
      "[500]\tcv_agg's l2: 0.2365 + 0.06918\n"
     ]
    },
    {
     "name": "stderr",
     "output_type": "stream",
     "text": [
      "regularization_factors, val_score: 0.231717:  80%|#############################6       | 16/20 [00:13<00:03,  1.03it/s][I 2023-11-05 11:52:54,520] Trial 58 finished with value: 0.23584516307615017 and parameters: {'lambda_l1': 3.430350834977958e-05, 'lambda_l2': 0.0021052835148216943}. Best is trial 52 with value: 0.2317166127381737.\n",
      "regularization_factors, val_score: 0.231717:  80%|#############################6       | 16/20 [00:13<00:03,  1.03it/s]"
     ]
    },
    {
     "name": "stdout",
     "output_type": "stream",
     "text": [
      "Early stopping, best iteration is:\n",
      "[494]\tcv_agg's l2: 0.231717 + 0.0593825\n",
      "[100]\tcv_agg's l2: 0.251695 + 0.0746516\n",
      "[200]\tcv_agg's l2: 0.242565 + 0.0727489\n",
      "[300]\tcv_agg's l2: 0.238852 + 0.0709514\n",
      "[400]\tcv_agg's l2: 0.234874 + 0.0695141\n",
      "[500]\tcv_agg's l2: 0.235871 + 0.0692415\n"
     ]
    },
    {
     "name": "stderr",
     "output_type": "stream",
     "text": [
      "regularization_factors, val_score: 0.231717:  85%|###############################4     | 17/20 [00:14<00:02,  1.02it/s][I 2023-11-05 11:52:55,503] Trial 59 finished with value: 0.23526381515549075 and parameters: {'lambda_l1': 0.00010810351296567312, 'lambda_l2': 1.509956581498844e-06}. Best is trial 52 with value: 0.2317166127381737.\n",
      "regularization_factors, val_score: 0.231717:  85%|###############################4     | 17/20 [00:14<00:02,  1.02it/s]"
     ]
    },
    {
     "name": "stdout",
     "output_type": "stream",
     "text": [
      "Early stopping, best iteration is:\n",
      "[494]\tcv_agg's l2: 0.231717 + 0.0593825\n",
      "[100]\tcv_agg's l2: 0.247476 + 0.0674074\n",
      "[200]\tcv_agg's l2: 0.237407 + 0.0658763\n",
      "[300]\tcv_agg's l2: 0.235788 + 0.0661448\n",
      "[400]\tcv_agg's l2: 0.233415 + 0.0661752\n",
      "[500]\tcv_agg's l2: 0.233259 + 0.0628655\n"
     ]
    },
    {
     "name": "stderr",
     "output_type": "stream",
     "text": [
      "regularization_factors, val_score: 0.231717:  90%|#################################3   | 18/20 [00:16<00:02,  1.05s/it][I 2023-11-05 11:52:56,723] Trial 60 finished with value: 0.23322570091074865 and parameters: {'lambda_l1': 3.586842897939355e-08, 'lambda_l2': 1.5844349869868188}. Best is trial 52 with value: 0.2317166127381737.\n",
      "regularization_factors, val_score: 0.231717:  90%|#################################3   | 18/20 [00:16<00:02,  1.05s/it]"
     ]
    },
    {
     "name": "stdout",
     "output_type": "stream",
     "text": [
      "Early stopping, best iteration is:\n",
      "[494]\tcv_agg's l2: 0.231717 + 0.0593825\n",
      "[100]\tcv_agg's l2: 0.246205 + 0.0640109\n",
      "[200]\tcv_agg's l2: 0.236164 + 0.0623647\n",
      "[300]\tcv_agg's l2: 0.232027 + 0.0575883\n"
     ]
    },
    {
     "name": "stderr",
     "output_type": "stream",
     "text": [
      "regularization_factors, val_score: 0.230690:  95%|###################################1 | 19/20 [00:16<00:00,  1.03it/s][I 2023-11-05 11:52:57,515] Trial 61 finished with value: 0.2306902401793926 and parameters: {'lambda_l1': 4.1730090410577264e-08, 'lambda_l2': 1.879628580098759}. Best is trial 61 with value: 0.2306902401793926.\n",
      "regularization_factors, val_score: 0.230690:  95%|###################################1 | 19/20 [00:16<00:00,  1.03it/s]"
     ]
    },
    {
     "name": "stdout",
     "output_type": "stream",
     "text": [
      "[400]\tcv_agg's l2: 0.231223 + 0.0575838\n",
      "Early stopping, best iteration is:\n",
      "[353]\tcv_agg's l2: 0.23069 + 0.0576382\n",
      "[100]\tcv_agg's l2: 0.248515 + 0.0657161\n",
      "[200]\tcv_agg's l2: 0.239584 + 0.0648266\n",
      "[300]\tcv_agg's l2: 0.237592 + 0.0616531\n",
      "[400]\tcv_agg's l2: 0.235749 + 0.0576728\n"
     ]
    },
    {
     "name": "stderr",
     "output_type": "stream",
     "text": [
      "regularization_factors, val_score: 0.230690: 100%|#####################################| 20/20 [00:17<00:00,  1.06it/s][I 2023-11-05 11:52:58,389] Trial 62 finished with value: 0.23660045183904793 and parameters: {'lambda_l1': 3.2498841332998845e-08, 'lambda_l2': 1.8709603392002483}. Best is trial 61 with value: 0.2306902401793926.\n",
      "regularization_factors, val_score: 0.230690: 100%|#####################################| 20/20 [00:17<00:00,  1.13it/s]\n"
     ]
    },
    {
     "name": "stdout",
     "output_type": "stream",
     "text": [
      "Early stopping, best iteration is:\n",
      "[353]\tcv_agg's l2: 0.23069 + 0.0576382\n"
     ]
    },
    {
     "name": "stderr",
     "output_type": "stream",
     "text": [
      "min_data_in_leaf, val_score: 0.230690:   0%|                                                     | 0/5 [00:00<?, ?it/s]"
     ]
    },
    {
     "name": "stdout",
     "output_type": "stream",
     "text": [
      "[100]\tcv_agg's l2: 0.268828 + 0.0693633\n",
      "[200]\tcv_agg's l2: 0.262549 + 0.0714352\n",
      "[300]\tcv_agg's l2: 0.261773 + 0.0691351\n",
      "[400]\tcv_agg's l2: 0.260082 + 0.0669501\n"
     ]
    },
    {
     "name": "stderr",
     "output_type": "stream",
     "text": [
      "min_data_in_leaf, val_score: 0.230690:  20%|#########                                    | 1/5 [00:00<00:03,  1.22it/s][I 2023-11-05 11:52:59,219] Trial 63 finished with value: 0.260094886404152 and parameters: {'min_child_samples': 25}. Best is trial 63 with value: 0.260094886404152.\n",
      "min_data_in_leaf, val_score: 0.230690:  20%|#########                                    | 1/5 [00:00<00:03,  1.22it/s]"
     ]
    },
    {
     "name": "stdout",
     "output_type": "stream",
     "text": [
      "Early stopping, best iteration is:\n",
      "[353]\tcv_agg's l2: 0.23069 + 0.0576382\n",
      "[100]\tcv_agg's l2: 0.33473 + 0.0728635\n",
      "[200]\tcv_agg's l2: 0.327009 + 0.0726074\n",
      "[300]\tcv_agg's l2: 0.326703 + 0.0710751\n",
      "[400]\tcv_agg's l2: 0.32148 + 0.0683689\n"
     ]
    },
    {
     "name": "stderr",
     "output_type": "stream",
     "text": [
      "min_data_in_leaf, val_score: 0.230690:  40%|##################                           | 2/5 [00:01<00:02,  1.24it/s][I 2023-11-05 11:53:00,016] Trial 64 finished with value: 0.32333199260784495 and parameters: {'min_child_samples': 50}. Best is trial 63 with value: 0.260094886404152.\n",
      "min_data_in_leaf, val_score: 0.230690:  40%|##################                           | 2/5 [00:01<00:02,  1.24it/s]"
     ]
    },
    {
     "name": "stdout",
     "output_type": "stream",
     "text": [
      "Early stopping, best iteration is:\n",
      "[353]\tcv_agg's l2: 0.23069 + 0.0576382\n",
      "[100]\tcv_agg's l2: 0.230469 + 0.0552231\n",
      "[200]\tcv_agg's l2: 0.217635 + 0.0454146\n",
      "[300]\tcv_agg's l2: 0.214586 + 0.0432023\n"
     ]
    },
    {
     "name": "stderr",
     "output_type": "stream",
     "text": [
      "min_data_in_leaf, val_score: 0.212052:  60%|###########################                  | 3/5 [00:02<00:01,  1.28it/s][I 2023-11-05 11:53:00,770] Trial 65 finished with value: 0.21205172145338044 and parameters: {'min_child_samples': 5}. Best is trial 65 with value: 0.21205172145338044.\n",
      "min_data_in_leaf, val_score: 0.212052:  60%|###########################                  | 3/5 [00:02<00:01,  1.28it/s]"
     ]
    },
    {
     "name": "stdout",
     "output_type": "stream",
     "text": [
      "[400]\tcv_agg's l2: 0.213984 + 0.0441405\n",
      "Early stopping, best iteration is:\n",
      "[341]\tcv_agg's l2: 0.212052 + 0.0428375\n",
      "[100]\tcv_agg's l2: 0.231613 + 0.056085\n",
      "[200]\tcv_agg's l2: 0.221954 + 0.0519867\n",
      "[300]\tcv_agg's l2: 0.221152 + 0.0519306\n",
      "[400]\tcv_agg's l2: 0.218731 + 0.0502392\n"
     ]
    },
    {
     "name": "stderr",
     "output_type": "stream",
     "text": [
      "min_data_in_leaf, val_score: 0.212052:  80%|####################################         | 4/5 [00:03<00:00,  1.30it/s][I 2023-11-05 11:53:01,512] Trial 66 finished with value: 0.2195959360751596 and parameters: {'min_child_samples': 10}. Best is trial 65 with value: 0.21205172145338044.\n",
      "min_data_in_leaf, val_score: 0.212052:  80%|####################################         | 4/5 [00:03<00:00,  1.30it/s]"
     ]
    },
    {
     "name": "stdout",
     "output_type": "stream",
     "text": [
      "Early stopping, best iteration is:\n",
      "[341]\tcv_agg's l2: 0.212052 + 0.0428375\n",
      "[100]\tcv_agg's l2: 0.841722 + 0.0595588\n",
      "[200]\tcv_agg's l2: 0.801784 + 0.0705984\n",
      "[300]\tcv_agg's l2: 0.786957 + 0.0788556\n"
     ]
    },
    {
     "name": "stderr",
     "output_type": "stream",
     "text": [
      "min_data_in_leaf, val_score: 0.212052: 100%|#############################################| 5/5 [00:03<00:00,  1.32it/s][I 2023-11-05 11:53:02,247] Trial 67 finished with value: 0.7832528331487666 and parameters: {'min_child_samples': 100}. Best is trial 65 with value: 0.21205172145338044.\n",
      "min_data_in_leaf, val_score: 0.212052: 100%|#############################################| 5/5 [00:03<00:00,  1.30it/s]"
     ]
    },
    {
     "name": "stdout",
     "output_type": "stream",
     "text": [
      "[400]\tcv_agg's l2: 0.7818 + 0.0802179\n",
      "Early stopping, best iteration is:\n",
      "[341]\tcv_agg's l2: 0.212052 + 0.0428375\n"
     ]
    },
    {
     "name": "stderr",
     "output_type": "stream",
     "text": [
      "\n"
     ]
    }
   ],
   "source": [
    "import optuna.integration.lightgbm as lgb\n",
    "from lightgbm import early_stopping\n",
    "from sklearn.model_selection import KFold\n",
    "from sklearn.model_selection import RepeatedKFold\n",
    "\n",
    "\n",
    "lgb_train = lgb.Dataset(X_train_random_split, y_train_random_split)\n",
    "\n",
    "params = {\n",
    "    \"boosting_type\": \"gbdt\",\n",
    "    \"objective\": \"regression\",\n",
    "    \"metric\": \"l2\",\n",
    "    \"verbosity\": -1,\n",
    "}\n",
    "\n",
    "tuner = lgb.LightGBMTunerCV(\n",
    "    params,\n",
    "    lgb_train,\n",
    "    folds=KFold(n_splits=5),\n",
    "    num_boost_round=10000,\n",
    "    callbacks=[early_stopping(100), log_evaluation(100)],\n",
    ")\n",
    "\n",
    "tuner.run()"
   ]
  },
  {
   "cell_type": "code",
   "execution_count": 38,
   "id": "0079a348",
   "metadata": {},
   "outputs": [
    {
     "name": "stdout",
     "output_type": "stream",
     "text": [
      "Best score: 0.21205172145338044\n",
      "Params: \n",
      "    boosting_type: gbdt\n",
      "    objective: regression\n",
      "    metric: l2\n",
      "    verbosity: -1\n",
      "    feature_pre_filter: False\n",
      "    lambda_l1: 4.1730090410577264e-08\n",
      "    lambda_l2: 1.879628580098759\n",
      "    num_leaves: 6\n",
      "    feature_fraction: 0.948\n",
      "    bagging_fraction: 0.9695603306133047\n",
      "    bagging_freq: 5\n",
      "    min_child_samples: 5\n"
     ]
    }
   ],
   "source": [
    "print(f\"Best score: {tuner.best_score}\")\n",
    "best_params = tuner.best_params\n",
    "print(\"Params: \")\n",
    "for key, value in best_params.items():\n",
    "    print(\"    {}: {}\".format(key, value))"
   ]
  },
  {
   "cell_type": "code",
   "execution_count": 39,
   "id": "ee599f57",
   "metadata": {},
   "outputs": [],
   "source": [
    "import lightgbm as lgb\n",
    "\n",
    "lgb_tuned = lgb.train(\n",
    "    best_params,\n",
    "    lgb_train,\n",
    "    num_boost_round=10000,\n",
    ")"
   ]
  },
  {
   "cell_type": "code",
   "execution_count": 40,
   "id": "f18b0204",
   "metadata": {},
   "outputs": [
    {
     "name": "stdout",
     "output_type": "stream",
     "text": [
      "RMSE train: 0.01\n",
      "RMSE test: 0.51\n",
      "MSE test: 0.26\n",
      "MAE test: 0.33\n",
      "\n"
     ]
    }
   ],
   "source": [
    "rmse, mae = assess_regression_model(\n",
    "    lgb_tuned,\n",
    "    X_train_random_split,\n",
    "    X_test_random_split,\n",
    "    y_train_random_split,\n",
    "    y_test_random_split,\n",
    ")"
   ]
  },
  {
   "cell_type": "code",
   "execution_count": 41,
   "id": "13d87eed",
   "metadata": {},
   "outputs": [],
   "source": [
    "results.loc[3] = [\"random\", \"Optuna\", \"basic\", rmse, mae]"
   ]
  },
  {
   "cell_type": "markdown",
   "id": "9d13b101",
   "metadata": {},
   "source": [
    "###### MAE by level"
   ]
  },
  {
   "cell_type": "code",
   "execution_count": 42,
   "id": "91591bcd",
   "metadata": {},
   "outputs": [
    {
     "data": {
      "image/png": "[encoded data removed]",
      "text/plain": [
       "<Figure size 720x432 with 1 Axes>"
      ]
     },
     "metadata": {
      "needs_background": "light"
     },
     "output_type": "display_data"
    }
   ],
   "source": [
    "plot_mae_by_level(\n",
    "    y_test_random_split,\n",
    "    y_pred_test,\n",
    "    title=\"MAE by level for tuned LightGBM with basic features and random split\",\n",
    ")"
   ]
  },
  {
   "cell_type": "code",
   "execution_count": 43,
   "id": "061d7eba",
   "metadata": {},
   "outputs": [
    {
     "name": "stdout",
     "output_type": "stream",
     "text": [
      "Default:\n",
      "MSE: 0.12\n",
      "RMSE: 0.34\n",
      "\n",
      "Round type: round\n",
      "MSE: 0.14\n",
      "RMSE: 0.37\n",
      "\n",
      "Round type: 0.33\n",
      "MSE: 0.13\n",
      "RMSE: 0.36\n",
      "\n",
      "Round type: 0.45\n",
      "MSE: 0.13\n",
      "RMSE: 0.37\n",
      "\n"
     ]
    }
   ],
   "source": [
    "predict = lgb_tuned.predict(X_test)\n",
    "check_round_predictions([\"round\", 0.33, 0.45], y_test, predict)"
   ]
  },
  {
   "cell_type": "code",
   "execution_count": 44,
   "id": "9d56b725",
   "metadata": {},
   "outputs": [
    {
     "data": {
      "image/png": "[encoded data removed]",
      "text/plain": [
       "<Figure size 432x288 with 2 Axes>"
      ]
     },
     "metadata": {
      "needs_background": "light"
     },
     "output_type": "display_data"
    }
   ],
   "source": [
    "plot_confusion_matrix(\n",
    "    \"round\",\n",
    "    predict,\n",
    "    y_test,\n",
    "    title=\"Confusion matrix for tuned LightGBM with basic features and random split\",\n",
    ")"
   ]
  },
  {
   "cell_type": "markdown",
   "id": "ac941229",
   "metadata": {},
   "source": [
    "## Summary"
   ]
  },
  {
   "cell_type": "code",
   "execution_count": 45,
   "id": "90f5111f",
   "metadata": {
    "scrolled": true
   },
   "outputs": [
    {
     "data": {
      "text/html": [
       "<div>\n",
       "<style scoped>\n",
       "    .dataframe tbody tr th:only-of-type {\n",
       "        vertical-align: middle;\n",
       "    }\n",
       "\n",
       "    .dataframe tbody tr th {\n",
       "        vertical-align: top;\n",
       "    }\n",
       "\n",
       "    .dataframe thead th {\n",
       "        text-align: right;\n",
       "    }\n",
       "</style>\n",
       "<table border=\"1\" class=\"dataframe\">\n",
       "  <thead>\n",
       "    <tr style=\"text-align: right;\">\n",
       "      <th></th>\n",
       "      <th>Split type</th>\n",
       "      <th>Tuning type</th>\n",
       "      <th>Set of features</th>\n",
       "      <th>MSE</th>\n",
       "      <th>RMSE</th>\n",
       "      <th>MAE</th>\n",
       "    </tr>\n",
       "  </thead>\n",
       "  <tbody>\n",
       "    <tr>\n",
       "      <th>0</th>\n",
       "      <td>chronological</td>\n",
       "      <td>default</td>\n",
       "      <td>basic</td>\n",
       "      <td>0.447566</td>\n",
       "      <td>0.669004</td>\n",
       "      <td>0.467604</td>\n",
       "    </tr>\n",
       "    <tr>\n",
       "      <th>1</th>\n",
       "      <td>chronological</td>\n",
       "      <td>Optuna</td>\n",
       "      <td>basic</td>\n",
       "      <td>0.434207</td>\n",
       "      <td>0.658944</td>\n",
       "      <td>0.474985</td>\n",
       "    </tr>\n",
       "    <tr>\n",
       "      <th>2</th>\n",
       "      <td>random</td>\n",
       "      <td>default</td>\n",
       "      <td>basic</td>\n",
       "      <td>0.243018</td>\n",
       "      <td>0.492968</td>\n",
       "      <td>0.340495</td>\n",
       "    </tr>\n",
       "    <tr>\n",
       "      <th>3</th>\n",
       "      <td>random</td>\n",
       "      <td>Optuna</td>\n",
       "      <td>basic</td>\n",
       "      <td>0.260868</td>\n",
       "      <td>0.510753</td>\n",
       "      <td>0.329821</td>\n",
       "    </tr>\n",
       "  </tbody>\n",
       "</table>\n",
       "</div>"
      ],
      "text/plain": [
       "      Split type Tuning type Set of features       MSE      RMSE       MAE\n",
       "0  chronological     default           basic  0.447566  0.669004  0.467604\n",
       "1  chronological      Optuna           basic  0.434207  0.658944  0.474985\n",
       "2         random     default           basic  0.243018  0.492968  0.340495\n",
       "3         random      Optuna           basic  0.260868  0.510753  0.329821"
      ]
     },
     "execution_count": 45,
     "metadata": {},
     "output_type": "execute_result"
    }
   ],
   "source": [
    "results"
   ]
  },
  {
   "cell_type": "code",
   "execution_count": 46,
   "id": "492161ff",
   "metadata": {},
   "outputs": [],
   "source": [
    "from training.results import plot_summary"
   ]
  },
  {
   "cell_type": "code",
   "execution_count": 47,
   "id": "b44fe7c4",
   "metadata": {},
   "outputs": [
    {
     "data": {
      "image/png": "[encoded data removed]",
      "text/plain": [
       "<Figure size 1440x576 with 1 Axes>"
      ]
     },
     "metadata": {
      "needs_background": "light"
     },
     "output_type": "display_data"
    }
   ],
   "source": [
    "plot_summary(results, \"RMSE\", title=\"RMSE for LightGBM with basic features\")"
   ]
  },
  {
   "cell_type": "code",
   "execution_count": 48,
   "id": "d3509e28",
   "metadata": {},
   "outputs": [
    {
     "data": {
      "image/png": "[encoded data removed]",
      "text/plain": [
       "<Figure size 1440x576 with 1 Axes>"
      ]
     },
     "metadata": {
      "needs_background": "light"
     },
     "output_type": "display_data"
    }
   ],
   "source": [
    "plot_summary(results, \"MAE\", title=\"MAE for LightGBM with basic features\")"
   ]
  },
  {
   "cell_type": "code",
   "execution_count": 49,
   "id": "c714119e",
   "metadata": {},
   "outputs": [],
   "source": [
    "results.to_json(\"./lightgbm_basic_results.json\", indent=2)"
   ]
  },
  {
   "cell_type": "code",
   "execution_count": null,
   "id": "a8ce3754",
   "metadata": {},
   "outputs": [],
   "source": []
  }
 ],
 "metadata": {
  "kernelspec": {
   "display_name": "Python 3 (ipykernel)",
   "language": "python",
   "name": "python3"
  },
  "language_info": {
   "codemirror_mode": {
    "name": "ipython",
    "version": 3
   },
   "file_extension": ".py",
   "mimetype": "text/x-python",
   "name": "python",
   "nbconvert_exporter": "python",
   "pygments_lexer": "ipython3",
   "version": "3.10.4"
  }
 },
 "nbformat": 4,
 "nbformat_minor": 5
}
