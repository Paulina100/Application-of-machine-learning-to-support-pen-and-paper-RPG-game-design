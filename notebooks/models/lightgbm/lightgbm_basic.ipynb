{
 "cells": [
  {
   "cell_type": "markdown",
   "id": "f64a671f",
   "metadata": {},
   "source": [
    "# LightGBM\n",
    "### Parameters:\n",
    "* **abilities**:\n",
    "    * **cha**\n",
    "    * **con**\n",
    "    * **dex**\n",
    "    * **int**\n",
    "    * **str**\n",
    "    * **wis**\n",
    "* **attributes**\n",
    "    * **hp**\n",
    "    * **ac**\n",
    "\n",
    "### Prediction: *level*\n",
    "\n",
    "## Loading data"
   ]
  },
  {
   "cell_type": "code",
   "execution_count": 50,
   "id": "1f2515e7",
   "metadata": {},
   "outputs": [],
   "source": [
    "import numpy as np\n",
    "import pandas as pd\n",
    "import sys\n",
    "\n",
    "import os\n",
    "import pathlib\n",
    "\n",
    "sys.path.append(\"../../..\")\n",
    "from training.creating_dataset import load_and_preprocess_data\n",
    "\n",
    "current_path = os.getcwd()\n",
    "DATASETS_DIR = pathlib.Path(current_path).parent.parent.parent / \"pathfinder_2e_data\"\n",
    "DATASET_FILES = [\n",
    "    \"pathfinder-bestiary.db\",\n",
    "    \"pathfinder-bestiary-2.db\",\n",
    "    \"pathfinder-bestiary-3.db\",\n",
    "]\n",
    "DATASET_PATHS = [f\"{DATASETS_DIR}/{file}\" for file in DATASET_FILES]\n",
    "features = [\n",
    "    \"cha\",\n",
    "    \"con\",\n",
    "    \"dex\",\n",
    "    \"int\",\n",
    "    \"str\",\n",
    "    \"wis\",\n",
    "    \"ac\",\n",
    "    \"hp\",\n",
    "]\n",
    "\n",
    "df = load_and_preprocess_data(\n",
    "    DATASET_PATHS,\n",
    "    characteristics=features,\n",
    ")"
   ]
  },
  {
   "cell_type": "code",
   "execution_count": 51,
   "id": "b522f880",
   "metadata": {},
   "outputs": [
    {
     "name": "stdout",
     "output_type": "stream",
     "text": [
      "<class 'pandas.core.frame.DataFrame'>\n",
      "Int64Index: 1206 entries, 0 to 1205\n",
      "Data columns (total 10 columns):\n",
      " #   Column  Non-Null Count  Dtype \n",
      "---  ------  --------------  ----- \n",
      " 0   book    1206 non-null   object\n",
      " 1   dex     1206 non-null   int64 \n",
      " 2   cha     1206 non-null   int64 \n",
      " 3   str     1206 non-null   int64 \n",
      " 4   wis     1206 non-null   int64 \n",
      " 5   level   1206 non-null   int64 \n",
      " 6   ac      1206 non-null   int64 \n",
      " 7   int     1206 non-null   int64 \n",
      " 8   hp      1206 non-null   int64 \n",
      " 9   con     1206 non-null   int64 \n",
      "dtypes: int64(9), object(1)\n",
      "memory usage: 103.6+ KB\n"
     ]
    }
   ],
   "source": [
    "df.info()"
   ]
  },
  {
   "cell_type": "code",
   "execution_count": 52,
   "id": "1b5450d3",
   "metadata": {},
   "outputs": [
    {
     "data": {
      "text/html": [
       "<div>\n",
       "<style scoped>\n",
       "    .dataframe tbody tr th:only-of-type {\n",
       "        vertical-align: middle;\n",
       "    }\n",
       "\n",
       "    .dataframe tbody tr th {\n",
       "        vertical-align: top;\n",
       "    }\n",
       "\n",
       "    .dataframe thead th {\n",
       "        text-align: right;\n",
       "    }\n",
       "</style>\n",
       "<table border=\"1\" class=\"dataframe\">\n",
       "  <thead>\n",
       "    <tr style=\"text-align: right;\">\n",
       "      <th></th>\n",
       "      <th>book</th>\n",
       "      <th>dex</th>\n",
       "      <th>cha</th>\n",
       "      <th>str</th>\n",
       "      <th>wis</th>\n",
       "      <th>level</th>\n",
       "      <th>ac</th>\n",
       "      <th>int</th>\n",
       "      <th>hp</th>\n",
       "      <th>con</th>\n",
       "    </tr>\n",
       "  </thead>\n",
       "  <tbody>\n",
       "    <tr>\n",
       "      <th>0</th>\n",
       "      <td>Pathfinder Bestiary</td>\n",
       "      <td>2</td>\n",
       "      <td>1</td>\n",
       "      <td>7</td>\n",
       "      <td>2</td>\n",
       "      <td>10</td>\n",
       "      <td>29</td>\n",
       "      <td>1</td>\n",
       "      <td>215</td>\n",
       "      <td>5</td>\n",
       "    </tr>\n",
       "    <tr>\n",
       "      <th>1</th>\n",
       "      <td>Pathfinder Bestiary</td>\n",
       "      <td>0</td>\n",
       "      <td>1</td>\n",
       "      <td>9</td>\n",
       "      <td>2</td>\n",
       "      <td>10</td>\n",
       "      <td>28</td>\n",
       "      <td>-4</td>\n",
       "      <td>220</td>\n",
       "      <td>5</td>\n",
       "    </tr>\n",
       "    <tr>\n",
       "      <th>2</th>\n",
       "      <td>Pathfinder Bestiary</td>\n",
       "      <td>3</td>\n",
       "      <td>-2</td>\n",
       "      <td>7</td>\n",
       "      <td>3</td>\n",
       "      <td>8</td>\n",
       "      <td>25</td>\n",
       "      <td>-4</td>\n",
       "      <td>175</td>\n",
       "      <td>6</td>\n",
       "    </tr>\n",
       "    <tr>\n",
       "      <th>3</th>\n",
       "      <td>Pathfinder Bestiary</td>\n",
       "      <td>4</td>\n",
       "      <td>6</td>\n",
       "      <td>7</td>\n",
       "      <td>5</td>\n",
       "      <td>17</td>\n",
       "      <td>41</td>\n",
       "      <td>6</td>\n",
       "      <td>315</td>\n",
       "      <td>5</td>\n",
       "    </tr>\n",
       "    <tr>\n",
       "      <th>4</th>\n",
       "      <td>Pathfinder Bestiary</td>\n",
       "      <td>3</td>\n",
       "      <td>1</td>\n",
       "      <td>-5</td>\n",
       "      <td>1</td>\n",
       "      <td>1</td>\n",
       "      <td>16</td>\n",
       "      <td>-1</td>\n",
       "      <td>20</td>\n",
       "      <td>1</td>\n",
       "    </tr>\n",
       "  </tbody>\n",
       "</table>\n",
       "</div>"
      ],
      "text/plain": [
       "                  book  dex  cha  str  wis  level  ac  int   hp  con\n",
       "0  Pathfinder Bestiary    2    1    7    2     10  29    1  215    5\n",
       "1  Pathfinder Bestiary    0    1    9    2     10  28   -4  220    5\n",
       "2  Pathfinder Bestiary    3   -2    7    3      8  25   -4  175    6\n",
       "3  Pathfinder Bestiary    4    6    7    5     17  41    6  315    5\n",
       "4  Pathfinder Bestiary    3    1   -5    1      1  16   -1   20    1"
      ]
     },
     "execution_count": 52,
     "metadata": {},
     "output_type": "execute_result"
    }
   ],
   "source": [
    "df.head()"
   ]
  },
  {
   "cell_type": "markdown",
   "id": "0caa661f",
   "metadata": {},
   "source": [
    "###### Level"
   ]
  },
  {
   "cell_type": "code",
   "execution_count": 53,
   "id": "c200d2b4",
   "metadata": {},
   "outputs": [
    {
     "data": {
      "text/plain": [
       "0       10\n",
       "1       10\n",
       "2        8\n",
       "3       17\n",
       "4        1\n",
       "        ..\n",
       "1201    20\n",
       "1202    -1\n",
       "1203    12\n",
       "1204     6\n",
       "1205     6\n",
       "Name: level, Length: 1206, dtype: int64"
      ]
     },
     "execution_count": 53,
     "metadata": {},
     "output_type": "execute_result"
    }
   ],
   "source": [
    "y = df[\"level\"]\n",
    "y"
   ]
  },
  {
   "cell_type": "code",
   "execution_count": 54,
   "id": "553822a7",
   "metadata": {},
   "outputs": [],
   "source": [
    "from collections import defaultdict\n",
    "\n",
    "\n",
    "lvl_stat = defaultdict(lambda: 0)\n",
    "\n",
    "for lvl in y:\n",
    "    lvl_stat[lvl] += 1"
   ]
  },
  {
   "cell_type": "code",
   "execution_count": 55,
   "id": "e45d6c29",
   "metadata": {},
   "outputs": [
    {
     "data": {
      "text/html": [
       "<div>\n",
       "<style scoped>\n",
       "    .dataframe tbody tr th:only-of-type {\n",
       "        vertical-align: middle;\n",
       "    }\n",
       "\n",
       "    .dataframe tbody tr th {\n",
       "        vertical-align: top;\n",
       "    }\n",
       "\n",
       "    .dataframe thead th {\n",
       "        text-align: right;\n",
       "    }\n",
       "</style>\n",
       "<table border=\"1\" class=\"dataframe\">\n",
       "  <thead>\n",
       "    <tr style=\"text-align: right;\">\n",
       "      <th></th>\n",
       "      <th>lvl</th>\n",
       "      <th>count</th>\n",
       "    </tr>\n",
       "  </thead>\n",
       "  <tbody>\n",
       "    <tr>\n",
       "      <th>0</th>\n",
       "      <td>-1</td>\n",
       "      <td>34</td>\n",
       "    </tr>\n",
       "    <tr>\n",
       "      <th>1</th>\n",
       "      <td>0</td>\n",
       "      <td>27</td>\n",
       "    </tr>\n",
       "    <tr>\n",
       "      <th>2</th>\n",
       "      <td>1</td>\n",
       "      <td>127</td>\n",
       "    </tr>\n",
       "    <tr>\n",
       "      <th>3</th>\n",
       "      <td>2</td>\n",
       "      <td>121</td>\n",
       "    </tr>\n",
       "    <tr>\n",
       "      <th>4</th>\n",
       "      <td>3</td>\n",
       "      <td>95</td>\n",
       "    </tr>\n",
       "    <tr>\n",
       "      <th>5</th>\n",
       "      <td>4</td>\n",
       "      <td>82</td>\n",
       "    </tr>\n",
       "    <tr>\n",
       "      <th>6</th>\n",
       "      <td>5</td>\n",
       "      <td>76</td>\n",
       "    </tr>\n",
       "    <tr>\n",
       "      <th>7</th>\n",
       "      <td>6</td>\n",
       "      <td>72</td>\n",
       "    </tr>\n",
       "    <tr>\n",
       "      <th>8</th>\n",
       "      <td>7</td>\n",
       "      <td>77</td>\n",
       "    </tr>\n",
       "    <tr>\n",
       "      <th>9</th>\n",
       "      <td>8</td>\n",
       "      <td>68</td>\n",
       "    </tr>\n",
       "    <tr>\n",
       "      <th>10</th>\n",
       "      <td>9</td>\n",
       "      <td>63</td>\n",
       "    </tr>\n",
       "    <tr>\n",
       "      <th>11</th>\n",
       "      <td>10</td>\n",
       "      <td>58</td>\n",
       "    </tr>\n",
       "    <tr>\n",
       "      <th>12</th>\n",
       "      <td>11</td>\n",
       "      <td>40</td>\n",
       "    </tr>\n",
       "    <tr>\n",
       "      <th>13</th>\n",
       "      <td>12</td>\n",
       "      <td>41</td>\n",
       "    </tr>\n",
       "    <tr>\n",
       "      <th>14</th>\n",
       "      <td>13</td>\n",
       "      <td>36</td>\n",
       "    </tr>\n",
       "    <tr>\n",
       "      <th>15</th>\n",
       "      <td>14</td>\n",
       "      <td>33</td>\n",
       "    </tr>\n",
       "    <tr>\n",
       "      <th>16</th>\n",
       "      <td>15</td>\n",
       "      <td>31</td>\n",
       "    </tr>\n",
       "    <tr>\n",
       "      <th>17</th>\n",
       "      <td>16</td>\n",
       "      <td>25</td>\n",
       "    </tr>\n",
       "    <tr>\n",
       "      <th>18</th>\n",
       "      <td>17</td>\n",
       "      <td>21</td>\n",
       "    </tr>\n",
       "    <tr>\n",
       "      <th>19</th>\n",
       "      <td>18</td>\n",
       "      <td>21</td>\n",
       "    </tr>\n",
       "    <tr>\n",
       "      <th>20</th>\n",
       "      <td>19</td>\n",
       "      <td>18</td>\n",
       "    </tr>\n",
       "    <tr>\n",
       "      <th>21</th>\n",
       "      <td>20</td>\n",
       "      <td>24</td>\n",
       "    </tr>\n",
       "    <tr>\n",
       "      <th>22</th>\n",
       "      <td>21</td>\n",
       "      <td>16</td>\n",
       "    </tr>\n",
       "  </tbody>\n",
       "</table>\n",
       "</div>"
      ],
      "text/plain": [
       "    lvl  count\n",
       "0    -1     34\n",
       "1     0     27\n",
       "2     1    127\n",
       "3     2    121\n",
       "4     3     95\n",
       "5     4     82\n",
       "6     5     76\n",
       "7     6     72\n",
       "8     7     77\n",
       "9     8     68\n",
       "10    9     63\n",
       "11   10     58\n",
       "12   11     40\n",
       "13   12     41\n",
       "14   13     36\n",
       "15   14     33\n",
       "16   15     31\n",
       "17   16     25\n",
       "18   17     21\n",
       "19   18     21\n",
       "20   19     18\n",
       "21   20     24\n",
       "22   21     16"
      ]
     },
     "execution_count": 55,
     "metadata": {},
     "output_type": "execute_result"
    }
   ],
   "source": [
    "level_count = pd.DataFrame(\n",
    "    data={\n",
    "        \"lvl\": [key for key in sorted(lvl_stat.keys())],\n",
    "        \"count\": [lvl_stat.get(key) for key in sorted(lvl_stat.keys())],\n",
    "    }\n",
    ")\n",
    "level_count"
   ]
  },
  {
   "cell_type": "code",
   "execution_count": 56,
   "id": "bdbfe8de",
   "metadata": {},
   "outputs": [
    {
     "data": {
      "image/png": "[encoded data removed]",
      "text/plain": [
       "<Figure size 432x288 with 1 Axes>"
      ]
     },
     "metadata": {
      "needs_background": "light"
     },
     "output_type": "display_data"
    }
   ],
   "source": [
    "import matplotlib.pyplot as plt\n",
    "\n",
    "\n",
    "level_count.plot.bar(x=\"lvl\", y=\"count\", title=\"Count of levels\")\n",
    "plt.show()"
   ]
  },
  {
   "cell_type": "markdown",
   "id": "9fdb6541",
   "metadata": {},
   "source": [
    "## Train test split"
   ]
  },
  {
   "cell_type": "markdown",
   "id": "18f56629",
   "metadata": {},
   "source": [
    "### Chronological split"
   ]
  },
  {
   "cell_type": "code",
   "execution_count": 57,
   "id": "dcda359b",
   "metadata": {},
   "outputs": [],
   "source": [
    "from training.splitting_dataset import split_dataframe\n",
    "\n",
    "\n",
    "os.chdir(\"../../../training\")\n",
    "X_train, X_test, y_train, y_test = split_dataframe(df, test_size=0.31)\n",
    "os.chdir(\"../notebooks/models/lightgbm\")"
   ]
  },
  {
   "cell_type": "code",
   "execution_count": 58,
   "id": "17dbc875",
   "metadata": {},
   "outputs": [],
   "source": [
    "X_train = X_train.drop(columns=[\"book\"])\n",
    "X_test = X_test.drop(columns=[\"book\"])"
   ]
  },
  {
   "cell_type": "markdown",
   "id": "25879636",
   "metadata": {},
   "source": [
    "### Random split"
   ]
  },
  {
   "cell_type": "code",
   "execution_count": 59,
   "id": "982ec5eb",
   "metadata": {},
   "outputs": [],
   "source": [
    "(\n",
    "    X_train_random_split,\n",
    "    X_test_random_split,\n",
    "    y_train_random_split,\n",
    "    y_test_random_split,\n",
    ") = split_dataframe(df, chronological_split=False)"
   ]
  },
  {
   "cell_type": "code",
   "execution_count": 60,
   "id": "90569e78",
   "metadata": {},
   "outputs": [],
   "source": [
    "X_train_random_split = X_train_random_split.drop(columns=[\"book\"])\n",
    "X_test_random_split = X_test_random_split.drop(columns=[\"book\"])"
   ]
  },
  {
   "cell_type": "markdown",
   "id": "9b259fbf",
   "metadata": {},
   "source": [
    "## LightGBM"
   ]
  },
  {
   "cell_type": "markdown",
   "id": "14f37d9b",
   "metadata": {},
   "source": [
    "## Chronological split"
   ]
  },
  {
   "cell_type": "code",
   "execution_count": 61,
   "id": "2bc4c90e",
   "metadata": {},
   "outputs": [
    {
     "name": "stdout",
     "output_type": "stream",
     "text": [
      "[LightGBM] [Warning] Auto-choosing col-wise multi-threading, the overhead of testing was 0.000192 seconds.\n",
      "You can set `force_col_wise=true` to remove the overhead.\n",
      "[LightGBM] [Info] Total Bins 224\n",
      "[LightGBM] [Info] Number of data points in the train set: 841, number of used features: 8\n",
      "[LightGBM] [Info] Start training from score 6.966706\n",
      "Training until validation scores don't improve for 5 rounds\n",
      "[LightGBM] [Warning] No further splits with positive gain, best gain: -inf\n",
      "[LightGBM] [Warning] No further splits with positive gain, best gain: -inf\n",
      "[LightGBM] [Warning] No further splits with positive gain, best gain: -inf\n",
      "[LightGBM] [Warning] No further splits with positive gain, best gain: -inf\n",
      "[LightGBM] [Warning] No further splits with positive gain, best gain: -inf\n",
      "[LightGBM] [Warning] No further splits with positive gain, best gain: -inf\n",
      "[LightGBM] [Warning] No further splits with positive gain, best gain: -inf\n",
      "[LightGBM] [Warning] No further splits with positive gain, best gain: -inf\n",
      "[LightGBM] [Warning] No further splits with positive gain, best gain: -inf\n",
      "[LightGBM] [Warning] No further splits with positive gain, best gain: -inf\n",
      "[LightGBM] [Warning] No further splits with positive gain, best gain: -inf\n",
      "[LightGBM] [Warning] No further splits with positive gain, best gain: -inf\n",
      "Early stopping, best iteration is:\n",
      "[48]\tvalid_0's l1: 0.467604\tvalid_0's l2: 0.447566\n"
     ]
    }
   ],
   "source": [
    "import lightgbm as lgb\n",
    "\n",
    "lgb_train = lgb.Dataset(X_train, y_train)\n",
    "lgb_eval = lgb.Dataset(X_test, y_test, reference=lgb_train)\n",
    "\n",
    "params = {\n",
    "    \"boosting_type\": \"gbdt\",\n",
    "    \"objective\": \"regression\",\n",
    "    \"metric\": {\"l2\", \"l1\"},\n",
    "}\n",
    "\n",
    "gbm = lgb.train(\n",
    "    params,\n",
    "    lgb_train,\n",
    "    num_boost_round=100,\n",
    "    valid_sets=lgb_eval,\n",
    "    callbacks=[lgb.early_stopping(stopping_rounds=5)],\n",
    ")"
   ]
  },
  {
   "cell_type": "code",
   "execution_count": 62,
   "id": "f1ae2eaa",
   "metadata": {},
   "outputs": [],
   "source": [
    "y_pred_train = gbm.predict(X_train, num_iteration=gbm.best_iteration)\n",
    "y_pred_test = gbm.predict(X_test, num_iteration=gbm.best_iteration)"
   ]
  },
  {
   "cell_type": "code",
   "execution_count": 63,
   "id": "ef9d09eb",
   "metadata": {},
   "outputs": [
    {
     "name": "stdout",
     "output_type": "stream",
     "text": [
      "MSE: 0.45\n",
      "RMSE: 0.67\n",
      "MAE: 0.47\n"
     ]
    }
   ],
   "source": [
    "from sklearn.metrics import mean_squared_error, mean_absolute_error\n",
    "\n",
    "\n",
    "mse = mean_squared_error(y_test, y_pred_test)\n",
    "rmse = mean_squared_error(y_test, y_pred_test, squared=False)\n",
    "mae = mean_absolute_error(y_test, y_pred_test)\n",
    "\n",
    "print(f\"MSE: {mse:.2f}\")\n",
    "print(f\"RMSE: {rmse:.2f}\")\n",
    "print(f\"MAE: {mae:.2f}\")"
   ]
  },
  {
   "cell_type": "code",
   "execution_count": 64,
   "id": "6e288d53",
   "metadata": {},
   "outputs": [],
   "source": [
    "results = pd.DataFrame(\n",
    "    data={\n",
    "        \"Split type\": [],\n",
    "        \"Tuning type\": [],\n",
    "        \"Set of features\": [],\n",
    "        \"MSE\": [],\n",
    "        \"RMSE\": [],\n",
    "        \"MAE\": [],\n",
    "    }\n",
    ")\n",
    "\n",
    "results.loc[0] = [\"chronological\", \"default\", \"basic\", mse, rmse, mae]"
   ]
  },
  {
   "cell_type": "code",
   "execution_count": 65,
   "id": "78bb7ffa",
   "metadata": {},
   "outputs": [
    {
     "name": "stdout",
     "output_type": "stream",
     "text": [
      "RMSE train: 0.31\n",
      "RMSE test: 0.67\n"
     ]
    }
   ],
   "source": [
    "rmse_train = mean_squared_error(y_train, y_pred_train, squared=False)\n",
    "rmse_test = mean_squared_error(y_test, y_pred_test, squared=False)\n",
    "print(f\"RMSE train: {rmse_train:.2f}\")\n",
    "print(f\"RMSE test: {rmse_test:.2f}\")"
   ]
  },
  {
   "cell_type": "markdown",
   "id": "4435f236",
   "metadata": {},
   "source": [
    "###### MAE by level"
   ]
  },
  {
   "cell_type": "code",
   "execution_count": 66,
   "id": "f3b4086b",
   "metadata": {},
   "outputs": [],
   "source": [
    "from training.results import plot_mae_by_level"
   ]
  },
  {
   "cell_type": "code",
   "execution_count": 67,
   "id": "e3ecad89",
   "metadata": {
    "scrolled": false
   },
   "outputs": [
    {
     "data": {
      "image/png": "[encoded data removed]",
      "text/plain": [
       "<Figure size 720x432 with 1 Axes>"
      ]
     },
     "metadata": {
      "needs_background": "light"
     },
     "output_type": "display_data"
    }
   ],
   "source": [
    "plot_mae_by_level(\n",
    "    y_test,\n",
    "    y_pred_test,\n",
    "    title=\"MAE by level for default LightGBM with basic features and chronological split\",\n",
    ")"
   ]
  },
  {
   "cell_type": "code",
   "execution_count": 68,
   "id": "ec8cab49",
   "metadata": {
    "scrolled": true
   },
   "outputs": [
    {
     "name": "stdout",
     "output_type": "stream",
     "text": [
      "Normal:\n",
      "MSE: 0.45\n",
      "RMSE: 0.67\n",
      "\n",
      "Round type: round\n",
      "MSE: 0.50\n",
      "RMSE: 0.71\n",
      "\n",
      "Round type: 0.33\n",
      "MSE: 0.50\n",
      "RMSE: 0.71\n",
      "\n",
      "Round type: 0.45\n",
      "MSE: 0.48\n",
      "RMSE: 0.70\n",
      "\n"
     ]
    }
   ],
   "source": [
    "from training.results import check_round_predictions, plot_confusion_matrix\n",
    "\n",
    "\n",
    "check_round_predictions([\"round\", 0.33, 0.45], y_test, y_pred_test)"
   ]
  },
  {
   "cell_type": "code",
   "execution_count": 69,
   "id": "9129a0ae",
   "metadata": {},
   "outputs": [
    {
     "data": {
      "image/png": "[encoded data removed]",
      "text/plain": [
       "<Figure size 432x288 with 2 Axes>"
      ]
     },
     "metadata": {
      "needs_background": "light"
     },
     "output_type": "display_data"
    }
   ],
   "source": [
    "plot_confusion_matrix(\n",
    "    \"round\",\n",
    "    y_pred_test,\n",
    "    y_test,\n",
    "    title=\"Confusion matrix for default LightGBM with basic features and chronological split\",\n",
    ")"
   ]
  },
  {
   "cell_type": "markdown",
   "id": "aaaf3023",
   "metadata": {},
   "source": [
    "#### Tuning"
   ]
  },
  {
   "cell_type": "code",
   "execution_count": 70,
   "id": "cbd24f9f",
   "metadata": {},
   "outputs": [],
   "source": [
    "from training.results import assess_regression_model"
   ]
  },
  {
   "cell_type": "code",
   "execution_count": 71,
   "id": "10854460",
   "metadata": {},
   "outputs": [
    {
     "name": "stderr",
     "output_type": "stream",
     "text": [
      "[I 2023-11-04 19:52:29,802] A new study created in memory with name: no-name-65d69c53-d34f-49d8-a6c8-67606883aa88\n",
      "feature_fraction, val_score: inf:   0%|                                                          | 0/7 [00:00<?, ?it/s]"
     ]
    },
    {
     "name": "stdout",
     "output_type": "stream",
     "text": [
      "Training until validation scores don't improve for 100 rounds\n",
      "[100]\tcv_agg's l2: 0.23065 + 0.0519896\n",
      "[200]\tcv_agg's l2: 0.220829 + 0.0526086\n",
      "[300]\tcv_agg's l2: 0.220005 + 0.0518411\n"
     ]
    },
    {
     "name": "stderr",
     "output_type": "stream",
     "text": [
      "feature_fraction, val_score: 0.219730:  14%|######4                                      | 1/7 [00:01<00:10,  1.67s/it][I 2023-11-04 19:52:31,475] Trial 0 finished with value: 0.21972956450253117 and parameters: {'feature_fraction': 0.6}. Best is trial 0 with value: 0.21972956450253117.\n",
      "feature_fraction, val_score: 0.219730:  14%|######4                                      | 1/7 [00:01<00:10,  1.67s/it]"
     ]
    },
    {
     "name": "stdout",
     "output_type": "stream",
     "text": [
      "Early stopping, best iteration is:\n",
      "[295]\tcv_agg's l2: 0.21973 + 0.0519287\n",
      "[100]\tcv_agg's l2: 0.30348 + 0.0575157\n",
      "[200]\tcv_agg's l2: 0.269105 + 0.0518645\n",
      "[300]\tcv_agg's l2: 0.255561 + 0.0488546\n"
     ]
    },
    {
     "name": "stderr",
     "output_type": "stream",
     "text": [
      "feature_fraction, val_score: 0.219730:  29%|############8                                | 2/7 [00:03<00:09,  1.94s/it][I 2023-11-04 19:52:33,612] Trial 1 finished with value: 0.2556893354402682 and parameters: {'feature_fraction': 0.4}. Best is trial 0 with value: 0.21972956450253117.\n",
      "feature_fraction, val_score: 0.219730:  29%|############8                                | 2/7 [00:03<00:09,  1.94s/it]"
     ]
    },
    {
     "name": "stdout",
     "output_type": "stream",
     "text": [
      "Early stopping, best iteration is:\n",
      "[295]\tcv_agg's l2: 0.21973 + 0.0519287\n",
      "[100]\tcv_agg's l2: 0.234102 + 0.0514901\n",
      "[200]\tcv_agg's l2: 0.232561 + 0.0496082\n",
      "[300]\tcv_agg's l2: 0.23456 + 0.0509794\n"
     ]
    },
    {
     "name": "stderr",
     "output_type": "stream",
     "text": [
      "feature_fraction, val_score: 0.219730:  43%|###################2                         | 3/7 [00:06<00:08,  2.21s/it][I 2023-11-04 19:52:36,137] Trial 2 finished with value: 0.234505796005733 and parameters: {'feature_fraction': 1.0}. Best is trial 0 with value: 0.21972956450253117.\n",
      "feature_fraction, val_score: 0.219730:  43%|###################2                         | 3/7 [00:06<00:08,  2.21s/it]"
     ]
    },
    {
     "name": "stdout",
     "output_type": "stream",
     "text": [
      "Early stopping, best iteration is:\n",
      "[295]\tcv_agg's l2: 0.21973 + 0.0519287\n",
      "[100]\tcv_agg's l2: 0.233855 + 0.0300159\n",
      "[200]\tcv_agg's l2: 0.221236 + 0.0332563\n",
      "[300]\tcv_agg's l2: 0.217088 + 0.0337259\n",
      "[400]\tcv_agg's l2: 0.215409 + 0.0339555\n"
     ]
    },
    {
     "name": "stderr",
     "output_type": "stream",
     "text": [
      "feature_fraction, val_score: 0.214962:  57%|#########################7                   | 4/7 [00:14<00:13,  4.64s/it][I 2023-11-04 19:52:44,492] Trial 3 finished with value: 0.21496169295028084 and parameters: {'feature_fraction': 0.5}. Best is trial 3 with value: 0.21496169295028084.\n",
      "feature_fraction, val_score: 0.214962:  57%|#########################7                   | 4/7 [00:14<00:13,  4.64s/it]"
     ]
    },
    {
     "name": "stdout",
     "output_type": "stream",
     "text": [
      "[500]\tcv_agg's l2: 0.215604 + 0.0343367\n",
      "Early stopping, best iteration is:\n",
      "[406]\tcv_agg's l2: 0.214962 + 0.0340822\n",
      "[100]\tcv_agg's l2: 0.2264 + 0.041806\n",
      "[200]\tcv_agg's l2: 0.222563 + 0.041863\n",
      "[300]\tcv_agg's l2: 0.225178 + 0.0447023\n",
      "[400]\tcv_agg's l2: 0.227732 + 0.0465919\n"
     ]
    },
    {
     "name": "stderr",
     "output_type": "stream",
     "text": [
      "feature_fraction, val_score: 0.214962:  71%|################################1            | 5/7 [00:22<00:11,  5.77s/it][I 2023-11-04 19:52:52,273] Trial 4 finished with value: 0.22797013134674443 and parameters: {'feature_fraction': 0.7}. Best is trial 3 with value: 0.21496169295028084.\n",
      "feature_fraction, val_score: 0.214962:  71%|################################1            | 5/7 [00:22<00:11,  5.77s/it]"
     ]
    },
    {
     "name": "stdout",
     "output_type": "stream",
     "text": [
      "[500]\tcv_agg's l2: 0.230437 + 0.0475804\n",
      "Early stopping, best iteration is:\n",
      "[406]\tcv_agg's l2: 0.214962 + 0.0340822\n",
      "[100]\tcv_agg's l2: 0.232132 + 0.0448183\n",
      "[200]\tcv_agg's l2: 0.229061 + 0.0446586\n",
      "[300]\tcv_agg's l2: 0.231512 + 0.0467566\n",
      "[400]\tcv_agg's l2: 0.233897 + 0.0478922\n"
     ]
    },
    {
     "name": "stderr",
     "output_type": "stream",
     "text": [
      "feature_fraction, val_score: 0.214962:  86%|######################################5      | 6/7 [00:29<00:06,  6.09s/it][I 2023-11-04 19:52:58,993] Trial 5 finished with value: 0.23434245575676593 and parameters: {'feature_fraction': 0.8999999999999999}. Best is trial 3 with value: 0.21496169295028084.\n",
      "feature_fraction, val_score: 0.214962:  86%|######################################5      | 6/7 [00:29<00:06,  6.09s/it]"
     ]
    },
    {
     "name": "stdout",
     "output_type": "stream",
     "text": [
      "[500]\tcv_agg's l2: 0.236282 + 0.0479595\n",
      "Early stopping, best iteration is:\n",
      "[406]\tcv_agg's l2: 0.214962 + 0.0340822\n",
      "[100]\tcv_agg's l2: 0.2264 + 0.041806\n",
      "[200]\tcv_agg's l2: 0.222563 + 0.041863\n",
      "[300]\tcv_agg's l2: 0.225178 + 0.0447023\n",
      "[400]\tcv_agg's l2: 0.227732 + 0.0465919\n"
     ]
    },
    {
     "name": "stderr",
     "output_type": "stream",
     "text": [
      "feature_fraction, val_score: 0.214962: 100%|#############################################| 7/7 [00:35<00:00,  6.16s/it][I 2023-11-04 19:53:05,280] Trial 6 finished with value: 0.22797013134674443 and parameters: {'feature_fraction': 0.8}. Best is trial 3 with value: 0.21496169295028084.\n",
      "feature_fraction, val_score: 0.214962: 100%|#############################################| 7/7 [00:35<00:00,  5.07s/it]\n"
     ]
    },
    {
     "name": "stdout",
     "output_type": "stream",
     "text": [
      "[500]\tcv_agg's l2: 0.230437 + 0.0475804\n",
      "Early stopping, best iteration is:\n",
      "[406]\tcv_agg's l2: 0.214962 + 0.0340822\n"
     ]
    },
    {
     "name": "stderr",
     "output_type": "stream",
     "text": [
      "num_leaves, val_score: 0.214962:   0%|                                                          | 0/20 [00:00<?, ?it/s]"
     ]
    },
    {
     "name": "stdout",
     "output_type": "stream",
     "text": [
      "[100]\tcv_agg's l2: 0.233855 + 0.0300159\n",
      "[200]\tcv_agg's l2: 0.221236 + 0.0332563\n",
      "[300]\tcv_agg's l2: 0.217088 + 0.0337259\n",
      "[400]\tcv_agg's l2: 0.215409 + 0.0339555\n"
     ]
    },
    {
     "name": "stderr",
     "output_type": "stream",
     "text": [
      "num_leaves, val_score: 0.214962:   5%|##5                                               | 1/20 [00:06<01:59,  6.27s/it][I 2023-11-04 19:53:11,560] Trial 7 finished with value: 0.21496169295028084 and parameters: {'num_leaves': 218}. Best is trial 7 with value: 0.21496169295028084.\n",
      "num_leaves, val_score: 0.214962:   5%|##5                                               | 1/20 [00:06<01:59,  6.27s/it]"
     ]
    },
    {
     "name": "stdout",
     "output_type": "stream",
     "text": [
      "[500]\tcv_agg's l2: 0.215604 + 0.0343367\n",
      "Early stopping, best iteration is:\n",
      "[406]\tcv_agg's l2: 0.214962 + 0.0340822\n",
      "[100]\tcv_agg's l2: 0.248927 + 0.0382657\n",
      "[200]\tcv_agg's l2: 0.230577 + 0.0376916\n",
      "[300]\tcv_agg's l2: 0.223073 + 0.034437\n",
      "[400]\tcv_agg's l2: 0.220036 + 0.0333456\n"
     ]
    },
    {
     "name": "stderr",
     "output_type": "stream",
     "text": [
      "num_leaves, val_score: 0.214962:  10%|#####                                             | 2/20 [00:08<01:13,  4.09s/it][I 2023-11-04 19:53:14,127] Trial 8 finished with value: 0.21957965576855246 and parameters: {'num_leaves': 9}. Best is trial 7 with value: 0.21496169295028084.\n",
      "num_leaves, val_score: 0.214962:  10%|#####                                             | 2/20 [00:08<01:13,  4.09s/it]"
     ]
    },
    {
     "name": "stdout",
     "output_type": "stream",
     "text": [
      "[500]\tcv_agg's l2: 0.217843 + 0.0314767\n",
      "Early stopping, best iteration is:\n",
      "[406]\tcv_agg's l2: 0.214962 + 0.0340822\n",
      "[100]\tcv_agg's l2: 0.233855 + 0.0300159\n",
      "[200]\tcv_agg's l2: 0.221236 + 0.0332563\n",
      "[300]\tcv_agg's l2: 0.217088 + 0.0337259\n",
      "[400]\tcv_agg's l2: 0.215409 + 0.0339555\n"
     ]
    },
    {
     "name": "stderr",
     "output_type": "stream",
     "text": [
      "num_leaves, val_score: 0.214962:  15%|#######5                                          | 3/20 [00:14<01:23,  4.91s/it][I 2023-11-04 19:53:20,013] Trial 9 finished with value: 0.21496169295028084 and parameters: {'num_leaves': 70}. Best is trial 7 with value: 0.21496169295028084.\n",
      "num_leaves, val_score: 0.214962:  15%|#######5                                          | 3/20 [00:14<01:23,  4.91s/it]"
     ]
    },
    {
     "name": "stdout",
     "output_type": "stream",
     "text": [
      "[500]\tcv_agg's l2: 0.215604 + 0.0343367\n",
      "Early stopping, best iteration is:\n",
      "[406]\tcv_agg's l2: 0.214962 + 0.0340822\n",
      "[100]\tcv_agg's l2: 0.233855 + 0.0300159\n",
      "[200]\tcv_agg's l2: 0.221236 + 0.0332563\n",
      "[300]\tcv_agg's l2: 0.217088 + 0.0337259\n",
      "[400]\tcv_agg's l2: 0.215409 + 0.0339555\n"
     ]
    },
    {
     "name": "stderr",
     "output_type": "stream",
     "text": [
      "num_leaves, val_score: 0.214962:  20%|##########                                        | 4/20 [00:20<01:25,  5.37s/it][I 2023-11-04 19:53:26,073] Trial 10 finished with value: 0.21496169295028084 and parameters: {'num_leaves': 254}. Best is trial 7 with value: 0.21496169295028084.\n",
      "num_leaves, val_score: 0.214962:  20%|##########                                        | 4/20 [00:20<01:25,  5.37s/it]"
     ]
    },
    {
     "name": "stdout",
     "output_type": "stream",
     "text": [
      "[500]\tcv_agg's l2: 0.215604 + 0.0343367\n",
      "Early stopping, best iteration is:\n",
      "[406]\tcv_agg's l2: 0.214962 + 0.0340822\n",
      "[100]\tcv_agg's l2: 0.233855 + 0.0300159\n",
      "[200]\tcv_agg's l2: 0.221236 + 0.0332563\n",
      "[300]\tcv_agg's l2: 0.217088 + 0.0337259\n",
      "[400]\tcv_agg's l2: 0.215409 + 0.0339555\n"
     ]
    },
    {
     "name": "stderr",
     "output_type": "stream",
     "text": [
      "num_leaves, val_score: 0.214962:  25%|############5                                     | 5/20 [00:26<01:24,  5.66s/it][I 2023-11-04 19:53:32,256] Trial 11 finished with value: 0.21496169295028084 and parameters: {'num_leaves': 221}. Best is trial 7 with value: 0.21496169295028084.\n",
      "num_leaves, val_score: 0.214962:  25%|############5                                     | 5/20 [00:26<01:24,  5.66s/it]"
     ]
    },
    {
     "name": "stdout",
     "output_type": "stream",
     "text": [
      "[500]\tcv_agg's l2: 0.215604 + 0.0343367\n",
      "Early stopping, best iteration is:\n",
      "[406]\tcv_agg's l2: 0.214962 + 0.0340822\n",
      "[100]\tcv_agg's l2: 0.233855 + 0.0300159\n",
      "[200]\tcv_agg's l2: 0.221236 + 0.0332563\n",
      "[300]\tcv_agg's l2: 0.217088 + 0.0337259\n",
      "[400]\tcv_agg's l2: 0.215409 + 0.0339555\n"
     ]
    },
    {
     "name": "stderr",
     "output_type": "stream",
     "text": [
      "num_leaves, val_score: 0.214962:  30%|###############                                   | 6/20 [00:33<01:21,  5.80s/it][I 2023-11-04 19:53:38,312] Trial 12 finished with value: 0.21496169295028084 and parameters: {'num_leaves': 168}. Best is trial 7 with value: 0.21496169295028084.\n",
      "num_leaves, val_score: 0.214962:  30%|###############                                   | 6/20 [00:33<01:21,  5.80s/it]"
     ]
    },
    {
     "name": "stdout",
     "output_type": "stream",
     "text": [
      "[500]\tcv_agg's l2: 0.215604 + 0.0343367\n",
      "Early stopping, best iteration is:\n",
      "[406]\tcv_agg's l2: 0.214962 + 0.0340822\n",
      "[100]\tcv_agg's l2: 0.233855 + 0.0300159\n",
      "[200]\tcv_agg's l2: 0.221236 + 0.0332563\n",
      "[300]\tcv_agg's l2: 0.217088 + 0.0337259\n",
      "[400]\tcv_agg's l2: 0.215409 + 0.0339555\n"
     ]
    },
    {
     "name": "stderr",
     "output_type": "stream",
     "text": [
      "num_leaves, val_score: 0.214962:  35%|#################5                                | 7/20 [00:39<01:18,  6.01s/it][I 2023-11-04 19:53:44,771] Trial 13 finished with value: 0.21496169295028084 and parameters: {'num_leaves': 150}. Best is trial 7 with value: 0.21496169295028084.\n",
      "num_leaves, val_score: 0.214962:  35%|#################5                                | 7/20 [00:39<01:18,  6.01s/it]"
     ]
    },
    {
     "name": "stdout",
     "output_type": "stream",
     "text": [
      "[500]\tcv_agg's l2: 0.215604 + 0.0343367\n",
      "Early stopping, best iteration is:\n",
      "[406]\tcv_agg's l2: 0.214962 + 0.0340822\n",
      "[100]\tcv_agg's l2: 0.233855 + 0.0300159\n",
      "[200]\tcv_agg's l2: 0.221236 + 0.0332563\n",
      "[300]\tcv_agg's l2: 0.217088 + 0.0337259\n",
      "[400]\tcv_agg's l2: 0.215409 + 0.0339555\n"
     ]
    },
    {
     "name": "stderr",
     "output_type": "stream",
     "text": [
      "num_leaves, val_score: 0.214962:  40%|####################                              | 8/20 [00:46<01:16,  6.37s/it][I 2023-11-04 19:53:51,897] Trial 14 finished with value: 0.21496169295028084 and parameters: {'num_leaves': 197}. Best is trial 7 with value: 0.21496169295028084.\n",
      "num_leaves, val_score: 0.214962:  40%|####################                              | 8/20 [00:46<01:16,  6.37s/it]"
     ]
    },
    {
     "name": "stdout",
     "output_type": "stream",
     "text": [
      "[500]\tcv_agg's l2: 0.215604 + 0.0343367\n",
      "Early stopping, best iteration is:\n",
      "[406]\tcv_agg's l2: 0.214962 + 0.0340822\n",
      "[100]\tcv_agg's l2: 0.233855 + 0.0300159\n",
      "[200]\tcv_agg's l2: 0.221236 + 0.0332563\n",
      "[300]\tcv_agg's l2: 0.217088 + 0.0337259\n",
      "[400]\tcv_agg's l2: 0.215409 + 0.0339555\n"
     ]
    },
    {
     "name": "stderr",
     "output_type": "stream",
     "text": [
      "num_leaves, val_score: 0.214962:  45%|######################5                           | 9/20 [00:52<01:09,  6.30s/it][I 2023-11-04 19:53:58,042] Trial 15 finished with value: 0.21496169295028084 and parameters: {'num_leaves': 92}. Best is trial 7 with value: 0.21496169295028084.\n",
      "num_leaves, val_score: 0.214962:  45%|######################5                           | 9/20 [00:52<01:09,  6.30s/it]"
     ]
    },
    {
     "name": "stdout",
     "output_type": "stream",
     "text": [
      "[500]\tcv_agg's l2: 0.215604 + 0.0343367\n",
      "Early stopping, best iteration is:\n",
      "[406]\tcv_agg's l2: 0.214962 + 0.0340822\n",
      "[100]\tcv_agg's l2: 0.233855 + 0.0300159\n",
      "[200]\tcv_agg's l2: 0.221236 + 0.0332563\n",
      "[300]\tcv_agg's l2: 0.217088 + 0.0337259\n",
      "[400]\tcv_agg's l2: 0.215409 + 0.0339555\n"
     ]
    },
    {
     "name": "stderr",
     "output_type": "stream",
     "text": [
      "num_leaves, val_score: 0.214962:  50%|########################5                        | 10/20 [00:59<01:03,  6.30s/it][I 2023-11-04 19:54:04,353] Trial 16 finished with value: 0.21496169295028084 and parameters: {'num_leaves': 253}. Best is trial 7 with value: 0.21496169295028084.\n",
      "num_leaves, val_score: 0.214962:  50%|########################5                        | 10/20 [00:59<01:03,  6.30s/it]"
     ]
    },
    {
     "name": "stdout",
     "output_type": "stream",
     "text": [
      "[500]\tcv_agg's l2: 0.215604 + 0.0343367\n",
      "Early stopping, best iteration is:\n",
      "[406]\tcv_agg's l2: 0.214962 + 0.0340822\n",
      "[100]\tcv_agg's l2: 0.233855 + 0.0300159\n",
      "[200]\tcv_agg's l2: 0.221236 + 0.0332563\n",
      "[300]\tcv_agg's l2: 0.217088 + 0.0337259\n",
      "[400]\tcv_agg's l2: 0.215409 + 0.0339555\n"
     ]
    },
    {
     "name": "stderr",
     "output_type": "stream",
     "text": [
      "num_leaves, val_score: 0.214962:  55%|##########################9                      | 11/20 [01:04<00:55,  6.18s/it][I 2023-11-04 19:54:10,273] Trial 17 finished with value: 0.21496169295028084 and parameters: {'num_leaves': 105}. Best is trial 7 with value: 0.21496169295028084.\n",
      "num_leaves, val_score: 0.214962:  55%|##########################9                      | 11/20 [01:04<00:55,  6.18s/it]"
     ]
    },
    {
     "name": "stdout",
     "output_type": "stream",
     "text": [
      "[500]\tcv_agg's l2: 0.215604 + 0.0343367\n",
      "Early stopping, best iteration is:\n",
      "[406]\tcv_agg's l2: 0.214962 + 0.0340822\n",
      "[100]\tcv_agg's l2: 0.233855 + 0.0300159\n",
      "[200]\tcv_agg's l2: 0.221236 + 0.0332563\n",
      "[300]\tcv_agg's l2: 0.217088 + 0.0337259\n",
      "[400]\tcv_agg's l2: 0.215409 + 0.0339555\n"
     ]
    },
    {
     "name": "stderr",
     "output_type": "stream",
     "text": [
      "num_leaves, val_score: 0.214962:  60%|#############################4                   | 12/20 [01:11<00:49,  6.22s/it][I 2023-11-04 19:54:16,589] Trial 18 finished with value: 0.21496169295028084 and parameters: {'num_leaves': 195}. Best is trial 7 with value: 0.21496169295028084.\n",
      "num_leaves, val_score: 0.214962:  60%|#############################4                   | 12/20 [01:11<00:49,  6.22s/it]"
     ]
    },
    {
     "name": "stdout",
     "output_type": "stream",
     "text": [
      "[500]\tcv_agg's l2: 0.215604 + 0.0343367\n",
      "Early stopping, best iteration is:\n",
      "[406]\tcv_agg's l2: 0.214962 + 0.0340822\n",
      "[100]\tcv_agg's l2: 0.233855 + 0.0300159\n",
      "[200]\tcv_agg's l2: 0.221236 + 0.0332563\n",
      "[300]\tcv_agg's l2: 0.217088 + 0.0337259\n",
      "[400]\tcv_agg's l2: 0.215409 + 0.0339555\n"
     ]
    },
    {
     "name": "stderr",
     "output_type": "stream",
     "text": [
      "num_leaves, val_score: 0.214962:  65%|###############################8                 | 13/20 [01:17<00:43,  6.15s/it][I 2023-11-04 19:54:22,568] Trial 19 finished with value: 0.21496169295028084 and parameters: {'num_leaves': 37}. Best is trial 7 with value: 0.21496169295028084.\n",
      "num_leaves, val_score: 0.214962:  65%|###############################8                 | 13/20 [01:17<00:43,  6.15s/it]"
     ]
    },
    {
     "name": "stdout",
     "output_type": "stream",
     "text": [
      "[500]\tcv_agg's l2: 0.215604 + 0.0343367\n",
      "Early stopping, best iteration is:\n",
      "[406]\tcv_agg's l2: 0.214962 + 0.0340822\n",
      "[100]\tcv_agg's l2: 0.233855 + 0.0300159\n",
      "[200]\tcv_agg's l2: 0.221236 + 0.0332563\n",
      "[300]\tcv_agg's l2: 0.217088 + 0.0337259\n",
      "[400]\tcv_agg's l2: 0.215409 + 0.0339555\n"
     ]
    },
    {
     "name": "stderr",
     "output_type": "stream",
     "text": [
      "num_leaves, val_score: 0.214962:  70%|##################################3              | 14/20 [01:24<00:38,  6.36s/it][I 2023-11-04 19:54:29,424] Trial 20 finished with value: 0.21496169295028084 and parameters: {'num_leaves': 135}. Best is trial 7 with value: 0.21496169295028084.\n",
      "num_leaves, val_score: 0.214962:  70%|##################################3              | 14/20 [01:24<00:38,  6.36s/it]"
     ]
    },
    {
     "name": "stdout",
     "output_type": "stream",
     "text": [
      "[500]\tcv_agg's l2: 0.215604 + 0.0343367\n",
      "Early stopping, best iteration is:\n",
      "[406]\tcv_agg's l2: 0.214962 + 0.0340822\n",
      "[100]\tcv_agg's l2: 0.233855 + 0.0300159\n",
      "[200]\tcv_agg's l2: 0.221236 + 0.0332563\n",
      "[300]\tcv_agg's l2: 0.217088 + 0.0337259\n",
      "[400]\tcv_agg's l2: 0.215409 + 0.0339555\n"
     ]
    },
    {
     "name": "stderr",
     "output_type": "stream",
     "text": [
      "num_leaves, val_score: 0.214962:  75%|####################################7            | 15/20 [01:30<00:32,  6.40s/it][I 2023-11-04 19:54:35,912] Trial 21 finished with value: 0.21496169295028084 and parameters: {'num_leaves': 74}. Best is trial 7 with value: 0.21496169295028084.\n",
      "num_leaves, val_score: 0.214962:  75%|####################################7            | 15/20 [01:30<00:32,  6.40s/it]"
     ]
    },
    {
     "name": "stdout",
     "output_type": "stream",
     "text": [
      "[500]\tcv_agg's l2: 0.215604 + 0.0343367\n",
      "Early stopping, best iteration is:\n",
      "[406]\tcv_agg's l2: 0.214962 + 0.0340822\n",
      "[100]\tcv_agg's l2: 0.233855 + 0.0300159\n",
      "[200]\tcv_agg's l2: 0.221236 + 0.0332563\n",
      "[300]\tcv_agg's l2: 0.217088 + 0.0337259\n",
      "[400]\tcv_agg's l2: 0.215409 + 0.0339555\n"
     ]
    },
    {
     "name": "stderr",
     "output_type": "stream",
     "text": [
      "num_leaves, val_score: 0.214962:  80%|#######################################2         | 16/20 [01:38<00:27,  6.86s/it][I 2023-11-04 19:54:43,858] Trial 22 finished with value: 0.21496169295028084 and parameters: {'num_leaves': 56}. Best is trial 7 with value: 0.21496169295028084.\n",
      "num_leaves, val_score: 0.214962:  80%|#######################################2         | 16/20 [01:38<00:27,  6.86s/it]"
     ]
    },
    {
     "name": "stdout",
     "output_type": "stream",
     "text": [
      "[500]\tcv_agg's l2: 0.215604 + 0.0343367\n",
      "Early stopping, best iteration is:\n",
      "[406]\tcv_agg's l2: 0.214962 + 0.0340822\n",
      "[100]\tcv_agg's l2: 0.233855 + 0.0300159\n",
      "[200]\tcv_agg's l2: 0.221236 + 0.0332563\n",
      "[300]\tcv_agg's l2: 0.217088 + 0.0337259\n",
      "[400]\tcv_agg's l2: 0.215409 + 0.0339555\n"
     ]
    },
    {
     "name": "stderr",
     "output_type": "stream",
     "text": [
      "num_leaves, val_score: 0.214962:  85%|#########################################6       | 17/20 [01:44<00:20,  6.71s/it][I 2023-11-04 19:54:50,205] Trial 23 finished with value: 0.21496169295028084 and parameters: {'num_leaves': 124}. Best is trial 7 with value: 0.21496169295028084.\n",
      "num_leaves, val_score: 0.214962:  85%|#########################################6       | 17/20 [01:44<00:20,  6.71s/it]"
     ]
    },
    {
     "name": "stdout",
     "output_type": "stream",
     "text": [
      "[500]\tcv_agg's l2: 0.215604 + 0.0343367\n",
      "Early stopping, best iteration is:\n",
      "[406]\tcv_agg's l2: 0.214962 + 0.0340822\n",
      "[100]\tcv_agg's l2: 0.245213 + 0.0332126\n",
      "[200]\tcv_agg's l2: 0.228775 + 0.0351932\n",
      "[300]\tcv_agg's l2: 0.223123 + 0.0344523\n",
      "[400]\tcv_agg's l2: 0.220734 + 0.0339122\n"
     ]
    },
    {
     "name": "stderr",
     "output_type": "stream",
     "text": [
      "num_leaves, val_score: 0.214962:  90%|############################################1    | 18/20 [01:48<00:11,  5.81s/it][I 2023-11-04 19:54:53,910] Trial 24 finished with value: 0.22030398909286525 and parameters: {'num_leaves': 13}. Best is trial 7 with value: 0.21496169295028084.\n",
      "num_leaves, val_score: 0.214962:  90%|############################################1    | 18/20 [01:48<00:11,  5.81s/it]"
     ]
    },
    {
     "name": "stdout",
     "output_type": "stream",
     "text": [
      "[500]\tcv_agg's l2: 0.219289 + 0.0349151\n",
      "Early stopping, best iteration is:\n",
      "[406]\tcv_agg's l2: 0.214962 + 0.0340822\n",
      "[100]\tcv_agg's l2: 0.233855 + 0.0300159\n",
      "[200]\tcv_agg's l2: 0.221236 + 0.0332563\n",
      "[300]\tcv_agg's l2: 0.217088 + 0.0337259\n",
      "[400]\tcv_agg's l2: 0.215409 + 0.0339555\n"
     ]
    },
    {
     "name": "stderr",
     "output_type": "stream",
     "text": [
      "num_leaves, val_score: 0.214962:  95%|##############################################5  | 19/20 [01:54<00:05,  5.95s/it][I 2023-11-04 19:55:00,178] Trial 25 finished with value: 0.21496169295028084 and parameters: {'num_leaves': 173}. Best is trial 7 with value: 0.21496169295028084.\n",
      "num_leaves, val_score: 0.214962:  95%|##############################################5  | 19/20 [01:54<00:05,  5.95s/it]"
     ]
    },
    {
     "name": "stdout",
     "output_type": "stream",
     "text": [
      "[500]\tcv_agg's l2: 0.215604 + 0.0343367\n",
      "Early stopping, best iteration is:\n",
      "[406]\tcv_agg's l2: 0.214962 + 0.0340822\n",
      "[100]\tcv_agg's l2: 0.233855 + 0.0300159\n",
      "[200]\tcv_agg's l2: 0.221236 + 0.0332563\n",
      "[300]\tcv_agg's l2: 0.217088 + 0.0337259\n",
      "[400]\tcv_agg's l2: 0.215409 + 0.0339555\n"
     ]
    },
    {
     "name": "stderr",
     "output_type": "stream",
     "text": [
      "num_leaves, val_score: 0.214962: 100%|#################################################| 20/20 [02:02<00:00,  6.44s/it][I 2023-11-04 19:55:07,776] Trial 26 finished with value: 0.21496169295028084 and parameters: {'num_leaves': 43}. Best is trial 7 with value: 0.21496169295028084.\n",
      "num_leaves, val_score: 0.214962: 100%|#################################################| 20/20 [02:02<00:00,  6.12s/it]\n"
     ]
    },
    {
     "name": "stdout",
     "output_type": "stream",
     "text": [
      "[500]\tcv_agg's l2: 0.215604 + 0.0343367\n",
      "Early stopping, best iteration is:\n",
      "[406]\tcv_agg's l2: 0.214962 + 0.0340822\n"
     ]
    },
    {
     "name": "stderr",
     "output_type": "stream",
     "text": [
      "bagging, val_score: 0.214962:   0%|                                                             | 0/10 [00:00<?, ?it/s]"
     ]
    },
    {
     "name": "stdout",
     "output_type": "stream",
     "text": [
      "[100]\tcv_agg's l2: 0.288471 + 0.0526998\n",
      "[200]\tcv_agg's l2: 0.267946 + 0.0532901\n",
      "[300]\tcv_agg's l2: 0.265747 + 0.0493055\n",
      "[400]\tcv_agg's l2: 0.26487 + 0.0478038\n"
     ]
    },
    {
     "name": "stderr",
     "output_type": "stream",
     "text": [
      "bagging, val_score: 0.214962:  10%|#####3                                               | 1/10 [00:03<00:33,  3.71s/it][I 2023-11-04 19:55:11,490] Trial 27 finished with value: 0.263944667616751 and parameters: {'bagging_fraction': 0.44540037294794826, 'bagging_freq': 1}. Best is trial 27 with value: 0.263944667616751.\n",
      "bagging, val_score: 0.214962:  10%|#####3                                               | 1/10 [00:03<00:33,  3.71s/it]"
     ]
    },
    {
     "name": "stdout",
     "output_type": "stream",
     "text": [
      "[500]\tcv_agg's l2: 0.263149 + 0.0454667\n",
      "Early stopping, best iteration is:\n",
      "[406]\tcv_agg's l2: 0.214962 + 0.0340822\n",
      "[100]\tcv_agg's l2: 0.239307 + 0.0364135\n",
      "[200]\tcv_agg's l2: 0.226053 + 0.0405637\n",
      "[300]\tcv_agg's l2: 0.223488 + 0.0415344\n",
      "[400]\tcv_agg's l2: 0.222943 + 0.042154\n"
     ]
    },
    {
     "name": "stderr",
     "output_type": "stream",
     "text": [
      "bagging, val_score: 0.214962:  20%|##########6                                          | 2/10 [00:10<00:43,  5.40s/it][I 2023-11-04 19:55:18,080] Trial 28 finished with value: 0.22276617628802658 and parameters: {'bagging_fraction': 0.995293263178523, 'bagging_freq': 7}. Best is trial 28 with value: 0.22276617628802658.\n",
      "bagging, val_score: 0.214962:  20%|##########6                                          | 2/10 [00:10<00:43,  5.40s/it]"
     ]
    },
    {
     "name": "stdout",
     "output_type": "stream",
     "text": [
      "[500]\tcv_agg's l2: 0.223223 + 0.0414063\n",
      "Early stopping, best iteration is:\n",
      "[406]\tcv_agg's l2: 0.214962 + 0.0340822\n",
      "[100]\tcv_agg's l2: 0.264427 + 0.0341808\n",
      "[200]\tcv_agg's l2: 0.24227 + 0.0398138\n",
      "[300]\tcv_agg's l2: 0.236803 + 0.038799\n",
      "[400]\tcv_agg's l2: 0.23465 + 0.036382\n"
     ]
    },
    {
     "name": "stderr",
     "output_type": "stream",
     "text": [
      "bagging, val_score: 0.214962:  30%|###############9                                     | 3/10 [00:15<00:36,  5.25s/it][I 2023-11-04 19:55:23,141] Trial 29 finished with value: 0.23416460670959355 and parameters: {'bagging_fraction': 0.7057882849939142, 'bagging_freq': 4}. Best is trial 28 with value: 0.22276617628802658.\n",
      "bagging, val_score: 0.214962:  30%|###############9                                     | 3/10 [00:15<00:36,  5.25s/it]"
     ]
    },
    {
     "name": "stdout",
     "output_type": "stream",
     "text": [
      "[500]\tcv_agg's l2: 0.233323 + 0.0340258\n",
      "Early stopping, best iteration is:\n",
      "[406]\tcv_agg's l2: 0.214962 + 0.0340822\n",
      "[100]\tcv_agg's l2: 0.318912 + 0.0451634\n",
      "[200]\tcv_agg's l2: 0.291962 + 0.0459611\n",
      "[300]\tcv_agg's l2: 0.289745 + 0.0438299\n",
      "[400]\tcv_agg's l2: 0.277297 + 0.0462942\n"
     ]
    },
    {
     "name": "stderr",
     "output_type": "stream",
     "text": [
      "bagging, val_score: 0.214962:  40%|#####################2                               | 4/10 [00:18<00:27,  4.52s/it][I 2023-11-04 19:55:26,538] Trial 30 finished with value: 0.2803518516131919 and parameters: {'bagging_fraction': 0.4321911055248601, 'bagging_freq': 7}. Best is trial 28 with value: 0.22276617628802658.\n",
      "bagging, val_score: 0.214962:  40%|#####################2                               | 4/10 [00:18<00:27,  4.52s/it]"
     ]
    },
    {
     "name": "stdout",
     "output_type": "stream",
     "text": [
      "[500]\tcv_agg's l2: 0.279575 + 0.0488696\n",
      "Early stopping, best iteration is:\n",
      "[406]\tcv_agg's l2: 0.214962 + 0.0340822\n",
      "[100]\tcv_agg's l2: 0.234513 + 0.0335444\n",
      "[200]\tcv_agg's l2: 0.221744 + 0.0348377\n",
      "[300]\tcv_agg's l2: 0.218141 + 0.0354253\n",
      "[400]\tcv_agg's l2: 0.218018 + 0.0355015\n"
     ]
    },
    {
     "name": "stderr",
     "output_type": "stream",
     "text": [
      "bagging, val_score: 0.214962:  50%|##########################5                          | 5/10 [00:25<00:26,  5.37s/it][I 2023-11-04 19:55:33,423] Trial 31 finished with value: 0.2179566268847882 and parameters: {'bagging_fraction': 0.9854367753836148, 'bagging_freq': 1}. Best is trial 31 with value: 0.2179566268847882.\n",
      "bagging, val_score: 0.214962:  50%|##########################5                          | 5/10 [00:25<00:26,  5.37s/it]"
     ]
    },
    {
     "name": "stdout",
     "output_type": "stream",
     "text": [
      "[500]\tcv_agg's l2: 0.218182 + 0.0360085\n",
      "Early stopping, best iteration is:\n",
      "[406]\tcv_agg's l2: 0.214962 + 0.0340822\n",
      "[100]\tcv_agg's l2: 0.266378 + 0.0386122\n",
      "[200]\tcv_agg's l2: 0.24336 + 0.0348558\n",
      "[300]\tcv_agg's l2: 0.235184 + 0.0339332\n",
      "[400]\tcv_agg's l2: 0.232974 + 0.03395\n"
     ]
    },
    {
     "name": "stderr",
     "output_type": "stream",
     "text": [
      "bagging, val_score: 0.214962:  60%|###############################8                     | 6/10 [00:31<00:21,  5.43s/it][I 2023-11-04 19:55:38,963] Trial 32 finished with value: 0.23272235268394126 and parameters: {'bagging_fraction': 0.7356221145612322, 'bagging_freq': 4}. Best is trial 31 with value: 0.2179566268847882.\n",
      "bagging, val_score: 0.214962:  60%|###############################8                     | 6/10 [00:31<00:21,  5.43s/it]"
     ]
    },
    {
     "name": "stdout",
     "output_type": "stream",
     "text": [
      "[500]\tcv_agg's l2: 0.233123 + 0.0346541\n",
      "Early stopping, best iteration is:\n",
      "[406]\tcv_agg's l2: 0.214962 + 0.0340822\n",
      "[100]\tcv_agg's l2: 0.287921 + 0.0517156\n",
      "[200]\tcv_agg's l2: 0.273322 + 0.0502987\n",
      "[300]\tcv_agg's l2: 0.261031 + 0.0496734\n",
      "[400]\tcv_agg's l2: 0.255431 + 0.0452656\n"
     ]
    },
    {
     "name": "stderr",
     "output_type": "stream",
     "text": [
      "bagging, val_score: 0.214962:  70%|#####################################                | 7/10 [00:35<00:15,  5.12s/it][I 2023-11-04 19:55:43,457] Trial 33 finished with value: 0.25663732264988515 and parameters: {'bagging_fraction': 0.594239332729703, 'bagging_freq': 5}. Best is trial 31 with value: 0.2179566268847882.\n",
      "bagging, val_score: 0.214962:  70%|#####################################                | 7/10 [00:35<00:15,  5.12s/it]"
     ]
    },
    {
     "name": "stdout",
     "output_type": "stream",
     "text": [
      "[500]\tcv_agg's l2: 0.256801 + 0.044692\n",
      "Early stopping, best iteration is:\n",
      "[406]\tcv_agg's l2: 0.214962 + 0.0340822\n",
      "[100]\tcv_agg's l2: 0.244551 + 0.0345886\n",
      "[200]\tcv_agg's l2: 0.225626 + 0.0337973\n",
      "[300]\tcv_agg's l2: 0.221398 + 0.0373195\n",
      "[400]\tcv_agg's l2: 0.21867 + 0.0374371\n"
     ]
    },
    {
     "name": "stderr",
     "output_type": "stream",
     "text": [
      "bagging, val_score: 0.214962:  80%|##########################################4          | 8/10 [00:41<00:10,  5.39s/it][I 2023-11-04 19:55:49,422] Trial 34 finished with value: 0.21881727470525422 and parameters: {'bagging_fraction': 0.8185038862586276, 'bagging_freq': 3}. Best is trial 31 with value: 0.2179566268847882.\n",
      "bagging, val_score: 0.214962:  80%|##########################################4          | 8/10 [00:41<00:10,  5.39s/it]"
     ]
    },
    {
     "name": "stdout",
     "output_type": "stream",
     "text": [
      "[500]\tcv_agg's l2: 0.216973 + 0.0367948\n",
      "Early stopping, best iteration is:\n",
      "[406]\tcv_agg's l2: 0.214962 + 0.0340822\n",
      "[100]\tcv_agg's l2: 0.282959 + 0.0329713\n",
      "[200]\tcv_agg's l2: 0.267702 + 0.044127\n",
      "[300]\tcv_agg's l2: 0.265074 + 0.0452131\n",
      "[400]\tcv_agg's l2: 0.262531 + 0.0449694\n"
     ]
    },
    {
     "name": "stderr",
     "output_type": "stream",
     "text": [
      "bagging, val_score: 0.214962:  90%|###############################################7     | 9/10 [00:46<00:05,  5.07s/it][I 2023-11-04 19:55:53,785] Trial 35 finished with value: 0.2621713895438741 and parameters: {'bagging_fraction': 0.5729469913261607, 'bagging_freq': 6}. Best is trial 31 with value: 0.2179566268847882.\n",
      "bagging, val_score: 0.214962:  90%|###############################################7     | 9/10 [00:46<00:05,  5.07s/it]"
     ]
    },
    {
     "name": "stdout",
     "output_type": "stream",
     "text": [
      "[500]\tcv_agg's l2: 0.261189 + 0.0419621\n",
      "Early stopping, best iteration is:\n",
      "[406]\tcv_agg's l2: 0.214962 + 0.0340822\n",
      "[100]\tcv_agg's l2: 0.244174 + 0.0310714\n",
      "[200]\tcv_agg's l2: 0.225045 + 0.0324404\n",
      "[300]\tcv_agg's l2: 0.219365 + 0.0331478\n",
      "[400]\tcv_agg's l2: 0.217809 + 0.0328386\n",
      "[500]\tcv_agg's l2: 0.217952 + 0.0323685\n"
     ]
    },
    {
     "name": "stderr",
     "output_type": "stream",
     "text": [
      "bagging, val_score: 0.214962: 100%|####################################################| 10/10 [00:54<00:00,  6.03s/it][I 2023-11-04 19:56:01,961] Trial 36 finished with value: 0.21803385032283865 and parameters: {'bagging_fraction': 0.8483458708334765, 'bagging_freq': 2}. Best is trial 31 with value: 0.2179566268847882.\n",
      "bagging, val_score: 0.214962: 100%|####################################################| 10/10 [00:54<00:00,  5.42s/it]\n"
     ]
    },
    {
     "name": "stdout",
     "output_type": "stream",
     "text": [
      "Early stopping, best iteration is:\n",
      "[406]\tcv_agg's l2: 0.214962 + 0.0340822\n"
     ]
    },
    {
     "name": "stderr",
     "output_type": "stream",
     "text": [
      "feature_fraction_stage2, val_score: 0.214962:   0%|                                              | 0/6 [00:00<?, ?it/s]"
     ]
    },
    {
     "name": "stdout",
     "output_type": "stream",
     "text": [
      "[100]\tcv_agg's l2: 0.30348 + 0.0575157\n",
      "[200]\tcv_agg's l2: 0.269105 + 0.0518645\n",
      "[300]\tcv_agg's l2: 0.255561 + 0.0488546\n",
      "[400]\tcv_agg's l2: 0.250634 + 0.0469363\n"
     ]
    },
    {
     "name": "stderr",
     "output_type": "stream",
     "text": [
      "feature_fraction_stage2, val_score: 0.214962:  17%|######3                               | 1/6 [00:10<00:54, 10.82s/it][I 2023-11-04 19:56:12,782] Trial 37 finished with value: 0.25029944843738583 and parameters: {'feature_fraction': 0.42}. Best is trial 37 with value: 0.25029944843738583.\n",
      "feature_fraction_stage2, val_score: 0.214962:  17%|######3                               | 1/6 [00:10<00:54, 10.82s/it]"
     ]
    },
    {
     "name": "stdout",
     "output_type": "stream",
     "text": [
      "[500]\tcv_agg's l2: 0.248606 + 0.045454\n",
      "Early stopping, best iteration is:\n",
      "[406]\tcv_agg's l2: 0.214962 + 0.0340822\n",
      "[100]\tcv_agg's l2: 0.233855 + 0.0300159\n",
      "[200]\tcv_agg's l2: 0.221236 + 0.0332563\n",
      "[300]\tcv_agg's l2: 0.217088 + 0.0337259\n",
      "[400]\tcv_agg's l2: 0.215409 + 0.0339555\n"
     ]
    },
    {
     "name": "stderr",
     "output_type": "stream",
     "text": [
      "feature_fraction_stage2, val_score: 0.214962:  33%|############6                         | 2/6 [00:16<00:32,  8.06s/it][I 2023-11-04 19:56:18,911] Trial 38 finished with value: 0.21496169295028084 and parameters: {'feature_fraction': 0.516}. Best is trial 38 with value: 0.21496169295028084.\n",
      "feature_fraction_stage2, val_score: 0.214962:  33%|############6                         | 2/6 [00:16<00:32,  8.06s/it]"
     ]
    },
    {
     "name": "stdout",
     "output_type": "stream",
     "text": [
      "[500]\tcv_agg's l2: 0.215604 + 0.0343367\n",
      "Early stopping, best iteration is:\n",
      "[406]\tcv_agg's l2: 0.214962 + 0.0340822\n",
      "[100]\tcv_agg's l2: 0.233855 + 0.0300159\n",
      "[200]\tcv_agg's l2: 0.221236 + 0.0332563\n",
      "[300]\tcv_agg's l2: 0.217088 + 0.0337259\n",
      "[400]\tcv_agg's l2: 0.215409 + 0.0339555\n"
     ]
    },
    {
     "name": "stderr",
     "output_type": "stream",
     "text": [
      "feature_fraction_stage2, val_score: 0.214962:  50%|###################                   | 3/6 [00:23<00:21,  7.30s/it][I 2023-11-04 19:56:25,308] Trial 39 finished with value: 0.21496169295028084 and parameters: {'feature_fraction': 0.45199999999999996}. Best is trial 38 with value: 0.21496169295028084.\n",
      "feature_fraction_stage2, val_score: 0.214962:  50%|###################                   | 3/6 [00:23<00:21,  7.30s/it]"
     ]
    },
    {
     "name": "stdout",
     "output_type": "stream",
     "text": [
      "[500]\tcv_agg's l2: 0.215604 + 0.0343367\n",
      "Early stopping, best iteration is:\n",
      "[406]\tcv_agg's l2: 0.214962 + 0.0340822\n",
      "[100]\tcv_agg's l2: 0.23065 + 0.0519896\n",
      "[200]\tcv_agg's l2: 0.220829 + 0.0526086\n",
      "[300]\tcv_agg's l2: 0.220005 + 0.0518411\n",
      "[400]\tcv_agg's l2: 0.221839 + 0.0531079\n"
     ]
    },
    {
     "name": "stderr",
     "output_type": "stream",
     "text": [
      "feature_fraction_stage2, val_score: 0.214962:  67%|#########################3            | 4/6 [00:29<00:13,  6.99s/it][I 2023-11-04 19:56:31,833] Trial 40 finished with value: 0.22175683071234187 and parameters: {'feature_fraction': 0.58}. Best is trial 38 with value: 0.21496169295028084.\n",
      "feature_fraction_stage2, val_score: 0.214962:  67%|#########################3            | 4/6 [00:29<00:13,  6.99s/it]"
     ]
    },
    {
     "name": "stdout",
     "output_type": "stream",
     "text": [
      "[500]\tcv_agg's l2: 0.222566 + 0.0529545\n",
      "Early stopping, best iteration is:\n",
      "[406]\tcv_agg's l2: 0.214962 + 0.0340822\n",
      "[100]\tcv_agg's l2: 0.233855 + 0.0300159\n",
      "[200]\tcv_agg's l2: 0.221236 + 0.0332563\n",
      "[300]\tcv_agg's l2: 0.217088 + 0.0337259\n",
      "[400]\tcv_agg's l2: 0.215409 + 0.0339555\n"
     ]
    },
    {
     "name": "stderr",
     "output_type": "stream",
     "text": [
      "feature_fraction_stage2, val_score: 0.214962:  83%|###############################6      | 5/6 [00:38<00:07,  7.41s/it][I 2023-11-04 19:56:39,968] Trial 41 finished with value: 0.21496169295028084 and parameters: {'feature_fraction': 0.484}. Best is trial 38 with value: 0.21496169295028084.\n",
      "feature_fraction_stage2, val_score: 0.214962:  83%|###############################6      | 5/6 [00:38<00:07,  7.41s/it]"
     ]
    },
    {
     "name": "stdout",
     "output_type": "stream",
     "text": [
      "[500]\tcv_agg's l2: 0.215604 + 0.0343367\n",
      "Early stopping, best iteration is:\n",
      "[406]\tcv_agg's l2: 0.214962 + 0.0340822\n",
      "[100]\tcv_agg's l2: 0.233855 + 0.0300159\n",
      "[200]\tcv_agg's l2: 0.221236 + 0.0332563\n",
      "[300]\tcv_agg's l2: 0.217088 + 0.0337259\n",
      "[400]\tcv_agg's l2: 0.215409 + 0.0339555\n"
     ]
    },
    {
     "name": "stderr",
     "output_type": "stream",
     "text": [
      "feature_fraction_stage2, val_score: 0.214962: 100%|######################################| 6/6 [00:44<00:00,  7.05s/it][I 2023-11-04 19:56:46,339] Trial 42 finished with value: 0.21496169295028084 and parameters: {'feature_fraction': 0.5479999999999999}. Best is trial 38 with value: 0.21496169295028084.\n",
      "feature_fraction_stage2, val_score: 0.214962: 100%|######################################| 6/6 [00:44<00:00,  7.40s/it]\n"
     ]
    },
    {
     "name": "stdout",
     "output_type": "stream",
     "text": [
      "[500]\tcv_agg's l2: 0.215604 + 0.0343367\n",
      "Early stopping, best iteration is:\n",
      "[406]\tcv_agg's l2: 0.214962 + 0.0340822\n"
     ]
    },
    {
     "name": "stderr",
     "output_type": "stream",
     "text": [
      "regularization_factors, val_score: 0.214962:   0%|                                              | 0/20 [00:00<?, ?it/s]"
     ]
    },
    {
     "name": "stdout",
     "output_type": "stream",
     "text": [
      "[100]\tcv_agg's l2: 0.23538 + 0.0347367\n",
      "[200]\tcv_agg's l2: 0.223931 + 0.0373394\n",
      "[300]\tcv_agg's l2: 0.221144 + 0.0389083\n",
      "[400]\tcv_agg's l2: 0.220379 + 0.0393437\n"
     ]
    },
    {
     "name": "stderr",
     "output_type": "stream",
     "text": [
      "regularization_factors, val_score: 0.214962:   5%|#9                                    | 1/20 [00:05<01:52,  5.94s/it][I 2023-11-04 19:56:52,289] Trial 43 finished with value: 0.22036808311381262 and parameters: {'lambda_l1': 0.0014624995281526747, 'lambda_l2': 0.6011073497675378}. Best is trial 43 with value: 0.22036808311381262.\n",
      "regularization_factors, val_score: 0.214962:   5%|#9                                    | 1/20 [00:05<01:52,  5.94s/it]"
     ]
    },
    {
     "name": "stdout",
     "output_type": "stream",
     "text": [
      "[500]\tcv_agg's l2: 0.220744 + 0.0394595\n",
      "Early stopping, best iteration is:\n",
      "[406]\tcv_agg's l2: 0.214962 + 0.0340822\n",
      "[100]\tcv_agg's l2: 0.233855 + 0.0300159\n",
      "[200]\tcv_agg's l2: 0.221236 + 0.0332563\n",
      "[300]\tcv_agg's l2: 0.217088 + 0.0337259\n",
      "[400]\tcv_agg's l2: 0.215409 + 0.0339555\n"
     ]
    },
    {
     "name": "stderr",
     "output_type": "stream",
     "text": [
      "regularization_factors, val_score: 0.214962:  10%|###8                                  | 2/20 [00:12<01:48,  6.02s/it][I 2023-11-04 19:56:58,363] Trial 44 finished with value: 0.21496169295279555 and parameters: {'lambda_l1': 2.998859114275328e-08, 'lambda_l2': 1.6897987686881744e-08}. Best is trial 44 with value: 0.21496169295279555.\n",
      "regularization_factors, val_score: 0.214962:  10%|###8                                  | 2/20 [00:12<01:48,  6.02s/it]"
     ]
    },
    {
     "name": "stdout",
     "output_type": "stream",
     "text": [
      "[500]\tcv_agg's l2: 0.215604 + 0.0343367\n",
      "Early stopping, best iteration is:\n",
      "[406]\tcv_agg's l2: 0.214962 + 0.0340822\n",
      "[100]\tcv_agg's l2: 0.279708 + 0.0352799\n",
      "[200]\tcv_agg's l2: 0.264621 + 0.0363634\n",
      "[300]\tcv_agg's l2: 0.262729 + 0.0371984\n",
      "[400]\tcv_agg's l2: 0.262716 + 0.0372072\n"
     ]
    },
    {
     "name": "stderr",
     "output_type": "stream",
     "text": [
      "regularization_factors, val_score: 0.214962:  15%|#####7                                | 3/20 [00:13<01:08,  4.04s/it][I 2023-11-04 19:57:00,054] Trial 45 finished with value: 0.26271563658625713 and parameters: {'lambda_l1': 3.8970515087687914, 'lambda_l2': 5.6230249257639295}. Best is trial 44 with value: 0.21496169295279555.\n",
      "regularization_factors, val_score: 0.214962:  15%|#####7                                | 3/20 [00:13<01:08,  4.04s/it]"
     ]
    },
    {
     "name": "stdout",
     "output_type": "stream",
     "text": [
      "[500]\tcv_agg's l2: 0.262715 + 0.0372076\n",
      "Early stopping, best iteration is:\n",
      "[406]\tcv_agg's l2: 0.214962 + 0.0340822\n",
      "[100]\tcv_agg's l2: 0.232926 + 0.0305556\n",
      "[200]\tcv_agg's l2: 0.221535 + 0.0335856\n",
      "[300]\tcv_agg's l2: 0.216733 + 0.0337979\n",
      "[400]\tcv_agg's l2: 0.215104 + 0.0344903\n"
     ]
    },
    {
     "name": "stderr",
     "output_type": "stream",
     "text": [
      "regularization_factors, val_score: 0.214823:  20%|#######6                              | 4/20 [00:21<01:29,  5.59s/it][I 2023-11-04 19:57:08,025] Trial 46 finished with value: 0.21482275353299 and parameters: {'lambda_l1': 1.4604166317847685e-08, 'lambda_l2': 1.469569301856227e-05}. Best is trial 46 with value: 0.21482275353299.\n",
      "regularization_factors, val_score: 0.214823:  20%|#######6                              | 4/20 [00:21<01:29,  5.59s/it]"
     ]
    },
    {
     "name": "stdout",
     "output_type": "stream",
     "text": [
      "Early stopping, best iteration is:\n",
      "[393]\tcv_agg's l2: 0.214823 + 0.0339775\n",
      "[100]\tcv_agg's l2: 0.233291 + 0.0307311\n",
      "[200]\tcv_agg's l2: 0.221304 + 0.0335006\n",
      "[300]\tcv_agg's l2: 0.217443 + 0.0340473\n",
      "[400]\tcv_agg's l2: 0.216283 + 0.0348472\n"
     ]
    },
    {
     "name": "stderr",
     "output_type": "stream",
     "text": [
      "regularization_factors, val_score: 0.214823:  25%|#########5                            | 5/20 [00:27<01:26,  5.77s/it][I 2023-11-04 19:57:14,103] Trial 47 finished with value: 0.2160256121201974 and parameters: {'lambda_l1': 1.5999639712836166e-08, 'lambda_l2': 1.1855297181540379e-05}. Best is trial 46 with value: 0.21482275353299.\n",
      "regularization_factors, val_score: 0.214823:  25%|#########5                            | 5/20 [00:27<01:26,  5.77s/it]"
     ]
    },
    {
     "name": "stdout",
     "output_type": "stream",
     "text": [
      "Early stopping, best iteration is:\n",
      "[393]\tcv_agg's l2: 0.214823 + 0.0339775\n",
      "[100]\tcv_agg's l2: 0.232926 + 0.0305554\n",
      "[200]\tcv_agg's l2: 0.222175 + 0.0333898\n",
      "[300]\tcv_agg's l2: 0.218203 + 0.0332834\n",
      "[400]\tcv_agg's l2: 0.216484 + 0.0338336\n"
     ]
    },
    {
     "name": "stderr",
     "output_type": "stream",
     "text": [
      "regularization_factors, val_score: 0.214823:  30%|###########4                          | 6/20 [00:33<01:22,  5.91s/it][I 2023-11-04 19:57:20,279] Trial 48 finished with value: 0.21645351284802486 and parameters: {'lambda_l1': 8.266383336478366e-06, 'lambda_l2': 5.008381353310279e-05}. Best is trial 46 with value: 0.21482275353299.\n",
      "regularization_factors, val_score: 0.214823:  30%|###########4                          | 6/20 [00:33<01:22,  5.91s/it]"
     ]
    },
    {
     "name": "stdout",
     "output_type": "stream",
     "text": [
      "Early stopping, best iteration is:\n",
      "[393]\tcv_agg's l2: 0.214823 + 0.0339775\n",
      "[100]\tcv_agg's l2: 0.233444 + 0.0310838\n",
      "[200]\tcv_agg's l2: 0.220093 + 0.0341187\n",
      "[300]\tcv_agg's l2: 0.217054 + 0.0343642\n",
      "[400]\tcv_agg's l2: 0.215819 + 0.0346861\n"
     ]
    },
    {
     "name": "stderr",
     "output_type": "stream",
     "text": [
      "regularization_factors, val_score: 0.214823:  35%|#############3                        | 7/20 [00:40<01:17,  5.97s/it][I 2023-11-04 19:57:26,384] Trial 49 finished with value: 0.21567132794919602 and parameters: {'lambda_l1': 1.156599170046315e-05, 'lambda_l2': 0.0017683981120883109}. Best is trial 46 with value: 0.21482275353299.\n",
      "regularization_factors, val_score: 0.214823:  35%|#############3                        | 7/20 [00:40<01:17,  5.97s/it]"
     ]
    },
    {
     "name": "stdout",
     "output_type": "stream",
     "text": [
      "Early stopping, best iteration is:\n",
      "[393]\tcv_agg's l2: 0.214823 + 0.0339775\n",
      "[100]\tcv_agg's l2: 0.233855 + 0.0300159\n",
      "[200]\tcv_agg's l2: 0.221236 + 0.0332563\n",
      "[300]\tcv_agg's l2: 0.217088 + 0.0337259\n",
      "[400]\tcv_agg's l2: 0.215409 + 0.0339555\n"
     ]
    },
    {
     "name": "stderr",
     "output_type": "stream",
     "text": [
      "regularization_factors, val_score: 0.214823:  40%|###############2                      | 8/20 [00:46<01:12,  6.04s/it][I 2023-11-04 19:57:32,569] Trial 50 finished with value: 0.21549146857609663 and parameters: {'lambda_l1': 2.4774538785875246e-08, 'lambda_l2': 3.5387615813002647e-07}. Best is trial 46 with value: 0.21482275353299.\n",
      "regularization_factors, val_score: 0.214823:  40%|###############2                      | 8/20 [00:46<01:12,  6.04s/it]"
     ]
    },
    {
     "name": "stdout",
     "output_type": "stream",
     "text": [
      "Early stopping, best iteration is:\n",
      "[393]\tcv_agg's l2: 0.214823 + 0.0339775\n",
      "[100]\tcv_agg's l2: 0.233851 + 0.0298779\n",
      "[200]\tcv_agg's l2: 0.220172 + 0.0332101\n",
      "[300]\tcv_agg's l2: 0.215615 + 0.0336534\n",
      "[400]\tcv_agg's l2: 0.214581 + 0.0345488\n"
     ]
    },
    {
     "name": "stderr",
     "output_type": "stream",
     "text": [
      "regularization_factors, val_score: 0.214251:  45%|#################1                    | 9/20 [00:52<01:06,  6.08s/it][I 2023-11-04 19:57:38,728] Trial 51 finished with value: 0.2142511633431202 and parameters: {'lambda_l1': 4.198734151121958e-06, 'lambda_l2': 0.0052269987464763175}. Best is trial 51 with value: 0.2142511633431202.\n",
      "regularization_factors, val_score: 0.214251:  45%|#################1                    | 9/20 [00:52<01:06,  6.08s/it]"
     ]
    },
    {
     "name": "stdout",
     "output_type": "stream",
     "text": [
      "Early stopping, best iteration is:\n",
      "[386]\tcv_agg's l2: 0.214251 + 0.0349352\n",
      "[100]\tcv_agg's l2: 0.234079 + 0.0319611\n",
      "[200]\tcv_agg's l2: 0.221685 + 0.0339043\n",
      "[300]\tcv_agg's l2: 0.218132 + 0.0336802\n",
      "[400]\tcv_agg's l2: 0.217764 + 0.0346258\n"
     ]
    },
    {
     "name": "stderr",
     "output_type": "stream",
     "text": [
      "regularization_factors, val_score: 0.214251:  50%|##################5                  | 10/20 [00:58<01:00,  6.06s/it][I 2023-11-04 19:57:44,749] Trial 52 finished with value: 0.21772853704025552 and parameters: {'lambda_l1': 1.5747665239611043e-06, 'lambda_l2': 0.003474757621827088}. Best is trial 51 with value: 0.2142511633431202.\n",
      "regularization_factors, val_score: 0.214251:  50%|##################5                  | 10/20 [00:58<01:00,  6.06s/it]"
     ]
    },
    {
     "name": "stdout",
     "output_type": "stream",
     "text": [
      "Early stopping, best iteration is:\n",
      "[386]\tcv_agg's l2: 0.214251 + 0.0349352\n",
      "[100]\tcv_agg's l2: 0.235833 + 0.0360414\n",
      "[200]\tcv_agg's l2: 0.222836 + 0.0360627\n",
      "[300]\tcv_agg's l2: 0.216866 + 0.0353644\n",
      "[400]\tcv_agg's l2: 0.216209 + 0.0351056\n"
     ]
    },
    {
     "name": "stderr",
     "output_type": "stream",
     "text": [
      "regularization_factors, val_score: 0.214251:  55%|####################3                | 11/20 [01:05<00:56,  6.25s/it][I 2023-11-04 19:57:51,446] Trial 53 finished with value: 0.2163611098390934 and parameters: {'lambda_l1': 6.432571700037729e-07, 'lambda_l2': 0.014155151659145876}. Best is trial 51 with value: 0.2142511633431202.\n",
      "regularization_factors, val_score: 0.214251:  55%|####################3                | 11/20 [01:05<00:56,  6.25s/it]"
     ]
    },
    {
     "name": "stdout",
     "output_type": "stream",
     "text": [
      "Early stopping, best iteration is:\n",
      "[386]\tcv_agg's l2: 0.214251 + 0.0349352\n",
      "[100]\tcv_agg's l2: 0.232464 + 0.0316825\n",
      "[200]\tcv_agg's l2: 0.219603 + 0.0343277\n",
      "[300]\tcv_agg's l2: 0.216542 + 0.0342566\n",
      "[400]\tcv_agg's l2: 0.21601 + 0.0352178\n"
     ]
    },
    {
     "name": "stderr",
     "output_type": "stream",
     "text": [
      "regularization_factors, val_score: 0.214251:  60%|######################2              | 12/20 [01:10<00:48,  6.08s/it][I 2023-11-04 19:57:57,127] Trial 54 finished with value: 0.2158559500507502 and parameters: {'lambda_l1': 0.0001686098564846645, 'lambda_l2': 4.682363733243815e-05}. Best is trial 51 with value: 0.2142511633431202.\n",
      "regularization_factors, val_score: 0.214251:  60%|######################2              | 12/20 [01:10<00:48,  6.08s/it]"
     ]
    },
    {
     "name": "stdout",
     "output_type": "stream",
     "text": [
      "Early stopping, best iteration is:\n",
      "[386]\tcv_agg's l2: 0.214251 + 0.0349352\n",
      "[100]\tcv_agg's l2: 0.233855 + 0.0300159\n",
      "[200]\tcv_agg's l2: 0.221986 + 0.0332544\n",
      "[300]\tcv_agg's l2: 0.218664 + 0.0335939\n",
      "[400]\tcv_agg's l2: 0.217346 + 0.034448\n"
     ]
    },
    {
     "name": "stderr",
     "output_type": "stream",
     "text": [
      "regularization_factors, val_score: 0.214251:  65%|########################             | 13/20 [01:16<00:41,  6.00s/it][I 2023-11-04 19:58:02,940] Trial 55 finished with value: 0.2175973078419428 and parameters: {'lambda_l1': 3.3305068538063827e-07, 'lambda_l2': 2.860317758228784e-06}. Best is trial 51 with value: 0.2142511633431202.\n",
      "regularization_factors, val_score: 0.214251:  65%|########################             | 13/20 [01:16<00:41,  6.00s/it]"
     ]
    },
    {
     "name": "stdout",
     "output_type": "stream",
     "text": [
      "Early stopping, best iteration is:\n",
      "[386]\tcv_agg's l2: 0.214251 + 0.0349352\n",
      "[100]\tcv_agg's l2: 0.232886 + 0.0292484\n",
      "[200]\tcv_agg's l2: 0.22012 + 0.0319822\n",
      "[300]\tcv_agg's l2: 0.215559 + 0.0332757\n",
      "[400]\tcv_agg's l2: 0.215941 + 0.0339952\n"
     ]
    },
    {
     "name": "stderr",
     "output_type": "stream",
     "text": [
      "regularization_factors, val_score: 0.214251:  70%|#########################9           | 14/20 [01:22<00:35,  5.95s/it][I 2023-11-04 19:58:08,768] Trial 56 finished with value: 0.21584160396131336 and parameters: {'lambda_l1': 1.3677418559049585e-08, 'lambda_l2': 0.0002756886747509719}. Best is trial 51 with value: 0.2142511633431202.\n",
      "regularization_factors, val_score: 0.214251:  70%|#########################9           | 14/20 [01:22<00:35,  5.95s/it]"
     ]
    },
    {
     "name": "stdout",
     "output_type": "stream",
     "text": [
      "Early stopping, best iteration is:\n",
      "[386]\tcv_agg's l2: 0.214251 + 0.0349352\n",
      "[100]\tcv_agg's l2: 0.232721 + 0.0325622\n",
      "[200]\tcv_agg's l2: 0.219696 + 0.0352559\n",
      "[300]\tcv_agg's l2: 0.215921 + 0.035847\n",
      "[400]\tcv_agg's l2: 0.21532 + 0.0366787\n"
     ]
    },
    {
     "name": "stderr",
     "output_type": "stream",
     "text": [
      "regularization_factors, val_score: 0.214251:  75%|###########################7         | 15/20 [01:28<00:29,  5.90s/it][I 2023-11-04 19:58:14,569] Trial 57 finished with value: 0.21552343756765321 and parameters: {'lambda_l1': 0.00017036251880622107, 'lambda_l2': 0.03389526781649513}. Best is trial 51 with value: 0.2142511633431202.\n",
      "regularization_factors, val_score: 0.214251:  75%|###########################7         | 15/20 [01:28<00:29,  5.90s/it]"
     ]
    },
    {
     "name": "stdout",
     "output_type": "stream",
     "text": [
      "Early stopping, best iteration is:\n",
      "[386]\tcv_agg's l2: 0.214251 + 0.0349352\n",
      "[100]\tcv_agg's l2: 0.232886 + 0.0292484\n",
      "[200]\tcv_agg's l2: 0.22012 + 0.0319822\n",
      "[300]\tcv_agg's l2: 0.215559 + 0.0332757\n",
      "[400]\tcv_agg's l2: 0.215941 + 0.0339952\n"
     ]
    },
    {
     "name": "stderr",
     "output_type": "stream",
     "text": [
      "regularization_factors, val_score: 0.214251:  80%|#############################6       | 16/20 [01:34<00:24,  6.06s/it][I 2023-11-04 19:58:20,996] Trial 58 finished with value: 0.21584158489126232 and parameters: {'lambda_l1': 3.4290161426026936e-07, 'lambda_l2': 0.00029782846166803955}. Best is trial 51 with value: 0.2142511633431202.\n",
      "regularization_factors, val_score: 0.214251:  80%|#############################6       | 16/20 [01:34<00:24,  6.06s/it]"
     ]
    },
    {
     "name": "stdout",
     "output_type": "stream",
     "text": [
      "Early stopping, best iteration is:\n",
      "[386]\tcv_agg's l2: 0.214251 + 0.0349352\n",
      "[100]\tcv_agg's l2: 0.231908 + 0.0336111\n",
      "[200]\tcv_agg's l2: 0.220035 + 0.0370302\n",
      "[300]\tcv_agg's l2: 0.215691 + 0.0376988\n",
      "[400]\tcv_agg's l2: 0.215024 + 0.0381573\n"
     ]
    },
    {
     "name": "stderr",
     "output_type": "stream",
     "text": [
      "regularization_factors, val_score: 0.214251:  85%|###############################4     | 17/20 [01:40<00:18,  6.04s/it][I 2023-11-04 19:58:27,003] Trial 59 finished with value: 0.2150899130604525 and parameters: {'lambda_l1': 1.2838070836473875e-05, 'lambda_l2': 0.10534582697392836}. Best is trial 51 with value: 0.2142511633431202.\n",
      "regularization_factors, val_score: 0.214251:  85%|###############################4     | 17/20 [01:40<00:18,  6.04s/it]"
     ]
    },
    {
     "name": "stdout",
     "output_type": "stream",
     "text": [
      "Early stopping, best iteration is:\n",
      "[386]\tcv_agg's l2: 0.214251 + 0.0349352\n",
      "[100]\tcv_agg's l2: 0.232581 + 0.031628\n",
      "[200]\tcv_agg's l2: 0.218676 + 0.0345964\n",
      "[300]\tcv_agg's l2: 0.215028 + 0.0350211\n",
      "[400]\tcv_agg's l2: 0.214633 + 0.0345325\n"
     ]
    },
    {
     "name": "stderr",
     "output_type": "stream",
     "text": [
      "regularization_factors, val_score: 0.213774:  90%|#################################3   | 18/20 [01:46<00:11,  5.89s/it][I 2023-11-04 19:58:32,526] Trial 60 finished with value: 0.21377373933132873 and parameters: {'lambda_l1': 1.0050390007651196e-07, 'lambda_l2': 0.0015655294231290658}. Best is trial 60 with value: 0.21377373933132873.\n",
      "regularization_factors, val_score: 0.213774:  90%|#################################3   | 18/20 [01:46<00:11,  5.89s/it]"
     ]
    },
    {
     "name": "stdout",
     "output_type": "stream",
     "text": [
      "Early stopping, best iteration is:\n",
      "[352]\tcv_agg's l2: 0.213774 + 0.0349535\n",
      "[100]\tcv_agg's l2: 0.233444 + 0.0310839\n",
      "[200]\tcv_agg's l2: 0.220388 + 0.0340561\n",
      "[300]\tcv_agg's l2: 0.217186 + 0.0344492\n",
      "[400]\tcv_agg's l2: 0.216155 + 0.0345305\n"
     ]
    },
    {
     "name": "stderr",
     "output_type": "stream",
     "text": [
      "regularization_factors, val_score: 0.213774:  95%|###################################1 | 19/20 [01:51<00:05,  5.83s/it][I 2023-11-04 19:58:38,222] Trial 61 finished with value: 0.21570942490893624 and parameters: {'lambda_l1': 1.1859430235013113e-07, 'lambda_l2': 0.001936654634942055}. Best is trial 60 with value: 0.21377373933132873.\n",
      "regularization_factors, val_score: 0.213774:  95%|###################################1 | 19/20 [01:51<00:05,  5.83s/it]"
     ]
    },
    {
     "name": "stdout",
     "output_type": "stream",
     "text": [
      "Early stopping, best iteration is:\n",
      "[352]\tcv_agg's l2: 0.213774 + 0.0349535\n",
      "[100]\tcv_agg's l2: 0.231745 + 0.0295256\n",
      "[200]\tcv_agg's l2: 0.219141 + 0.0322414\n",
      "[300]\tcv_agg's l2: 0.214251 + 0.03376\n",
      "[400]\tcv_agg's l2: 0.214488 + 0.0346429\n"
     ]
    },
    {
     "name": "stderr",
     "output_type": "stream",
     "text": [
      "regularization_factors, val_score: 0.213774: 100%|#####################################| 20/20 [01:57<00:00,  5.84s/it][I 2023-11-04 19:58:44,078] Trial 62 finished with value: 0.21408713817965602 and parameters: {'lambda_l1': 1.2008614467013877e-07, 'lambda_l2': 0.00037852713220375476}. Best is trial 60 with value: 0.21377373933132873.\n",
      "regularization_factors, val_score: 0.213774: 100%|#####################################| 20/20 [01:57<00:00,  5.89s/it]\n"
     ]
    },
    {
     "name": "stdout",
     "output_type": "stream",
     "text": [
      "Early stopping, best iteration is:\n",
      "[352]\tcv_agg's l2: 0.213774 + 0.0349535\n"
     ]
    },
    {
     "name": "stderr",
     "output_type": "stream",
     "text": [
      "min_data_in_leaf, val_score: 0.213774:   0%|                                                     | 0/5 [00:00<?, ?it/s]"
     ]
    },
    {
     "name": "stdout",
     "output_type": "stream",
     "text": [
      "[100]\tcv_agg's l2: 0.268477 + 0.0349442\n",
      "[200]\tcv_agg's l2: 0.251847 + 0.0401038\n",
      "[300]\tcv_agg's l2: 0.245287 + 0.040454\n",
      "[400]\tcv_agg's l2: 0.243739 + 0.039997\n"
     ]
    },
    {
     "name": "stderr",
     "output_type": "stream",
     "text": [
      "min_data_in_leaf, val_score: 0.213774:  20%|#########                                    | 1/5 [00:05<00:20,  5.06s/it][I 2023-11-04 19:58:49,143] Trial 63 finished with value: 0.2442972487453019 and parameters: {'min_child_samples': 25}. Best is trial 63 with value: 0.2442972487453019.\n",
      "min_data_in_leaf, val_score: 0.213774:  20%|#########                                    | 1/5 [00:05<00:20,  5.06s/it]"
     ]
    },
    {
     "name": "stdout",
     "output_type": "stream",
     "text": [
      "Early stopping, best iteration is:\n",
      "[352]\tcv_agg's l2: 0.213774 + 0.0349535\n",
      "[100]\tcv_agg's l2: 0.832293 + 0.171334\n",
      "[200]\tcv_agg's l2: 0.817329 + 0.168448\n",
      "[300]\tcv_agg's l2: 0.808062 + 0.168096\n"
     ]
    },
    {
     "name": "stderr",
     "output_type": "stream",
     "text": [
      "min_data_in_leaf, val_score: 0.213774:  40%|##################                           | 2/5 [00:06<00:09,  3.02s/it][I 2023-11-04 19:58:50,736] Trial 64 finished with value: 0.8068278560458648 and parameters: {'min_child_samples': 100}. Best is trial 63 with value: 0.2442972487453019.\n",
      "min_data_in_leaf, val_score: 0.213774:  40%|##################                           | 2/5 [00:06<00:09,  3.02s/it]"
     ]
    },
    {
     "name": "stdout",
     "output_type": "stream",
     "text": [
      "[400]\tcv_agg's l2: 0.806281 + 0.170393\n",
      "Early stopping, best iteration is:\n",
      "[352]\tcv_agg's l2: 0.213774 + 0.0349535\n",
      "[100]\tcv_agg's l2: 0.22625 + 0.0396518\n",
      "[200]\tcv_agg's l2: 0.219397 + 0.0393401\n",
      "[300]\tcv_agg's l2: 0.220893 + 0.0389064\n",
      "[400]\tcv_agg's l2: 0.223324 + 0.0387662\n"
     ]
    },
    {
     "name": "stderr",
     "output_type": "stream",
     "text": [
      "min_data_in_leaf, val_score: 0.213774:  60%|###########################                  | 3/5 [00:13<00:09,  4.90s/it][I 2023-11-04 19:58:57,879] Trial 65 finished with value: 0.22212823771726614 and parameters: {'min_child_samples': 10}. Best is trial 65 with value: 0.22212823771726614.\n",
      "min_data_in_leaf, val_score: 0.213774:  60%|###########################                  | 3/5 [00:13<00:09,  4.90s/it]"
     ]
    },
    {
     "name": "stdout",
     "output_type": "stream",
     "text": [
      "Early stopping, best iteration is:\n",
      "[352]\tcv_agg's l2: 0.213774 + 0.0349535\n",
      "[100]\tcv_agg's l2: 0.351435 + 0.059217\n",
      "[200]\tcv_agg's l2: 0.328127 + 0.0585631\n",
      "[300]\tcv_agg's l2: 0.320429 + 0.056402\n",
      "[400]\tcv_agg's l2: 0.317286 + 0.0567367\n"
     ]
    },
    {
     "name": "stderr",
     "output_type": "stream",
     "text": [
      "min_data_in_leaf, val_score: 0.213774:  80%|####################################         | 4/5 [00:16<00:03,  3.98s/it][I 2023-11-04 19:59:00,446] Trial 66 finished with value: 0.31831641293375224 and parameters: {'min_child_samples': 50}. Best is trial 65 with value: 0.22212823771726614.\n",
      "min_data_in_leaf, val_score: 0.213774:  80%|####################################         | 4/5 [00:16<00:03,  3.98s/it]"
     ]
    },
    {
     "name": "stdout",
     "output_type": "stream",
     "text": [
      "Early stopping, best iteration is:\n",
      "[352]\tcv_agg's l2: 0.213774 + 0.0349535\n",
      "[100]\tcv_agg's l2: 0.226519 + 0.0298234\n",
      "[200]\tcv_agg's l2: 0.223686 + 0.0299925\n",
      "[300]\tcv_agg's l2: 0.224389 + 0.029486\n",
      "[400]\tcv_agg's l2: 0.225028 + 0.028991\n"
     ]
    },
    {
     "name": "stderr",
     "output_type": "stream",
     "text": [
      "min_data_in_leaf, val_score: 0.213774: 100%|#############################################| 5/5 [00:22<00:00,  4.91s/it][I 2023-11-04 19:59:06,996] Trial 67 finished with value: 0.224507009027545 and parameters: {'min_child_samples': 5}. Best is trial 65 with value: 0.22212823771726614.\n",
      "min_data_in_leaf, val_score: 0.213774: 100%|#############################################| 5/5 [00:22<00:00,  4.58s/it]"
     ]
    },
    {
     "name": "stdout",
     "output_type": "stream",
     "text": [
      "Early stopping, best iteration is:\n",
      "[352]\tcv_agg's l2: 0.213774 + 0.0349535\n"
     ]
    },
    {
     "name": "stderr",
     "output_type": "stream",
     "text": [
      "\n"
     ]
    }
   ],
   "source": [
    "import optuna.integration.lightgbm as lgb\n",
    "from lightgbm import early_stopping, log_evaluation\n",
    "from sklearn.model_selection import KFold\n",
    "from sklearn.model_selection import RepeatedKFold\n",
    "\n",
    "\n",
    "lgb_train = lgb.Dataset(X_train, y_train)\n",
    "\n",
    "params = {\n",
    "    \"boosting_type\": \"gbdt\",\n",
    "    \"objective\": \"regression\",\n",
    "    \"metric\": \"l2\",\n",
    "    \"verbosity\": -1,\n",
    "}\n",
    "\n",
    "tuner = lgb.LightGBMTunerCV(\n",
    "    params,\n",
    "    lgb_train,\n",
    "    folds=KFold(n_splits=5),\n",
    "    num_boost_round=10000,\n",
    "    callbacks=[early_stopping(100), log_evaluation(100)],\n",
    ")\n",
    "\n",
    "tuner.run()"
   ]
  },
  {
   "cell_type": "code",
   "execution_count": 72,
   "id": "3b9d8fb3",
   "metadata": {},
   "outputs": [
    {
     "name": "stdout",
     "output_type": "stream",
     "text": [
      "Best score: 0.21377373933132873\n",
      "Params: \n",
      "    boosting_type: gbdt\n",
      "    objective: regression\n",
      "    metric: l2\n",
      "    verbosity: -1\n",
      "    feature_pre_filter: False\n",
      "    lambda_l1: 1.0050390007651196e-07\n",
      "    lambda_l2: 0.0015655294231290658\n",
      "    num_leaves: 31\n",
      "    feature_fraction: 0.5\n",
      "    bagging_fraction: 1.0\n",
      "    bagging_freq: 0\n",
      "    min_child_samples: 20\n"
     ]
    }
   ],
   "source": [
    "print(f\"Best score: {tuner.best_score}\")\n",
    "best_params = tuner.best_params\n",
    "print(\"Params: \")\n",
    "for key, value in best_params.items():\n",
    "    print(\"    {}: {}\".format(key, value))"
   ]
  },
  {
   "cell_type": "code",
   "execution_count": 73,
   "id": "d25b1687",
   "metadata": {},
   "outputs": [],
   "source": [
    "import lightgbm as lgb\n",
    "\n",
    "lgb_tuned = lgb.train(\n",
    "    best_params,\n",
    "    lgb_train,\n",
    "    num_boost_round=10000,\n",
    ")"
   ]
  },
  {
   "cell_type": "code",
   "execution_count": 74,
   "id": "290a9f09",
   "metadata": {
    "scrolled": false
   },
   "outputs": [
    {
     "name": "stdout",
     "output_type": "stream",
     "text": [
      "RMSE train: 0.01\n",
      "RMSE test: 0.71\n",
      "MSE test: 0.51\n",
      "MAE test: 0.51\n",
      "\n"
     ]
    }
   ],
   "source": [
    "rmse, mse, mae = assess_regression_model(lgb_tuned, X_train, X_test, y_train, y_test)"
   ]
  },
  {
   "cell_type": "code",
   "execution_count": 75,
   "id": "a6ecfca2",
   "metadata": {},
   "outputs": [],
   "source": [
    "results.loc[1] = [\n",
    "    \"chronological\",\n",
    "    \"Optuna\",\n",
    "    \"basic\",\n",
    "    mse,\n",
    "    rmse,\n",
    "    mae,\n",
    "]"
   ]
  },
  {
   "cell_type": "markdown",
   "id": "2f13ab75",
   "metadata": {},
   "source": [
    "###### MAE by level"
   ]
  },
  {
   "cell_type": "code",
   "execution_count": 76,
   "id": "e2f172bc",
   "metadata": {},
   "outputs": [
    {
     "data": {
      "image/png": "[encoded data removed]",
      "text/plain": [
       "<Figure size 720x432 with 1 Axes>"
      ]
     },
     "metadata": {
      "needs_background": "light"
     },
     "output_type": "display_data"
    }
   ],
   "source": [
    "plot_mae_by_level(\n",
    "    y_test,\n",
    "    y_pred_test,\n",
    "    title=\"MAE by level for tuned LightGBM with basic features and chronological split\",\n",
    ")"
   ]
  },
  {
   "cell_type": "code",
   "execution_count": 77,
   "id": "9f6b3122",
   "metadata": {
    "scrolled": false
   },
   "outputs": [
    {
     "name": "stdout",
     "output_type": "stream",
     "text": [
      "Normal:\n",
      "MSE: 0.51\n",
      "RMSE: 0.71\n",
      "\n",
      "Round type: round\n",
      "MSE: 0.54\n",
      "RMSE: 0.73\n",
      "\n",
      "Round type: 0.33\n",
      "MSE: 0.50\n",
      "RMSE: 0.71\n",
      "\n",
      "Round type: 0.45\n",
      "MSE: 0.50\n",
      "RMSE: 0.71\n",
      "\n"
     ]
    }
   ],
   "source": [
    "predict = lgb_tuned.predict(X_test)\n",
    "check_round_predictions([\"round\", 0.33, 0.45], y_test, predict)"
   ]
  },
  {
   "cell_type": "code",
   "execution_count": 78,
   "id": "515dc232",
   "metadata": {},
   "outputs": [
    {
     "data": {
      "image/png": "[encoded data removed]",
      "text/plain": [
       "<Figure size 432x288 with 2 Axes>"
      ]
     },
     "metadata": {
      "needs_background": "light"
     },
     "output_type": "display_data"
    }
   ],
   "source": [
    "plot_confusion_matrix(\n",
    "    \"round\",\n",
    "    predict,\n",
    "    y_test,\n",
    "    title=\"Confusion matrix for tuned LightGBM with basic features and chronological split\",\n",
    ")"
   ]
  },
  {
   "cell_type": "markdown",
   "id": "493f7602",
   "metadata": {},
   "source": [
    "## Random split"
   ]
  },
  {
   "cell_type": "code",
   "execution_count": 79,
   "id": "4948ca0a",
   "metadata": {},
   "outputs": [
    {
     "name": "stdout",
     "output_type": "stream",
     "text": [
      "[LightGBM] [Warning] Auto-choosing col-wise multi-threading, the overhead of testing was 0.000348 seconds.\n",
      "You can set `force_col_wise=true` to remove the overhead.\n",
      "[LightGBM] [Info] Total Bins 234\n",
      "[LightGBM] [Info] Number of data points in the train set: 904, number of used features: 8\n",
      "[LightGBM] [Info] Start training from score 7.162611\n",
      "Training until validation scores don't improve for 5 rounds\n",
      "Early stopping, best iteration is:\n",
      "[55]\tvalid_0's l1: 0.340495\tvalid_0's l2: 0.243018\n"
     ]
    }
   ],
   "source": [
    "import lightgbm as lgb\n",
    "from sklearn.metrics import mean_squared_error\n",
    "\n",
    "lgb_train = lgb.Dataset(X_train_random_split, y_train_random_split)\n",
    "lgb_eval = lgb.Dataset(X_test_random_split, y_test_random_split, reference=lgb_train)\n",
    "\n",
    "params = {\n",
    "    \"boosting_type\": \"gbdt\",\n",
    "    \"objective\": \"regression\",\n",
    "    \"metric\": {\"l2\", \"l1\"},\n",
    "}\n",
    "\n",
    "gbm = lgb.train(\n",
    "    params,\n",
    "    lgb_train,\n",
    "    num_boost_round=100,\n",
    "    valid_sets=lgb_eval,\n",
    "    callbacks=[lgb.early_stopping(stopping_rounds=5)],\n",
    ")"
   ]
  },
  {
   "cell_type": "code",
   "execution_count": 80,
   "id": "f9bd4c3b",
   "metadata": {},
   "outputs": [],
   "source": [
    "y_pred_train = gbm.predict(X_train_random_split, num_iteration=gbm.best_iteration)\n",
    "y_pred_test = gbm.predict(X_test_random_split, num_iteration=gbm.best_iteration)"
   ]
  },
  {
   "cell_type": "code",
   "execution_count": 81,
   "id": "c014931e",
   "metadata": {},
   "outputs": [
    {
     "name": "stdout",
     "output_type": "stream",
     "text": [
      "MSE: 0.24\n",
      "RMSE: 0.49\n",
      "MAE: 0.34\n"
     ]
    }
   ],
   "source": [
    "from sklearn.metrics import mean_squared_error, mean_absolute_error\n",
    "\n",
    "\n",
    "mse = mean_squared_error(y_test_random_split, y_pred_test)\n",
    "rmse = mean_squared_error(y_test_random_split, y_pred_test, squared=False)\n",
    "mae = mean_absolute_error(y_test_random_split, y_pred_test)\n",
    "\n",
    "print(f\"MSE: {mse:.2f}\")\n",
    "print(f\"RMSE: {rmse:.2f}\")\n",
    "print(f\"MAE: {mae:.2f}\")"
   ]
  },
  {
   "cell_type": "code",
   "execution_count": 82,
   "id": "8cbceea7",
   "metadata": {},
   "outputs": [],
   "source": [
    "results.loc[2] = [\"random\", \"default\", \"basic\", mse, rmse, mae]"
   ]
  },
  {
   "cell_type": "markdown",
   "id": "eacfd0ab",
   "metadata": {},
   "source": [
    "###### MAE by level"
   ]
  },
  {
   "cell_type": "code",
   "execution_count": 83,
   "id": "8af01c5c",
   "metadata": {},
   "outputs": [
    {
     "data": {
      "image/png": "[encoded data removed]",
      "text/plain": [
       "<Figure size 720x432 with 1 Axes>"
      ]
     },
     "metadata": {
      "needs_background": "light"
     },
     "output_type": "display_data"
    }
   ],
   "source": [
    "plot_mae_by_level(\n",
    "    y_test_random_split,\n",
    "    y_pred_test,\n",
    "    title=\"MAE by level for default LightGBM with basic features and random split\",\n",
    ")"
   ]
  },
  {
   "cell_type": "code",
   "execution_count": 84,
   "id": "e5edd1d7",
   "metadata": {
    "scrolled": true
   },
   "outputs": [
    {
     "name": "stdout",
     "output_type": "stream",
     "text": [
      "Normal:\n",
      "MSE: 0.24\n",
      "RMSE: 0.49\n",
      "\n",
      "Round type: round\n",
      "MSE: 0.26\n",
      "RMSE: 0.51\n",
      "\n",
      "Round type: 0.33\n",
      "MSE: 0.32\n",
      "RMSE: 0.57\n",
      "\n",
      "Round type: 0.45\n",
      "MSE: 0.27\n",
      "RMSE: 0.52\n",
      "\n"
     ]
    }
   ],
   "source": [
    "check_round_predictions([\"round\", 0.33, 0.45], y_test_random_split, y_pred_test)"
   ]
  },
  {
   "cell_type": "code",
   "execution_count": 85,
   "id": "39e001dd",
   "metadata": {},
   "outputs": [
    {
     "data": {
      "image/png": "[encoded data removed]",
      "text/plain": [
       "<Figure size 432x288 with 2 Axes>"
      ]
     },
     "metadata": {
      "needs_background": "light"
     },
     "output_type": "display_data"
    }
   ],
   "source": [
    "plot_confusion_matrix(\n",
    "    \"round\",\n",
    "    y_pred_test,\n",
    "    y_test_random_split,\n",
    "    title=\"Confusion matrix for default LightGBM with basic features and random split\",\n",
    ")"
   ]
  },
  {
   "cell_type": "markdown",
   "id": "2a0c7ae0",
   "metadata": {},
   "source": [
    "### Tuning"
   ]
  },
  {
   "cell_type": "code",
   "execution_count": 86,
   "id": "0ef6525a",
   "metadata": {},
   "outputs": [
    {
     "name": "stderr",
     "output_type": "stream",
     "text": [
      "[I 2023-11-04 19:59:45,061] A new study created in memory with name: no-name-43c78bf9-6152-4238-8325-9511abcc2619\n",
      "feature_fraction, val_score: inf:   0%|                                                          | 0/7 [00:00<?, ?it/s]"
     ]
    },
    {
     "name": "stdout",
     "output_type": "stream",
     "text": [
      "Training until validation scores don't improve for 100 rounds\n",
      "[100]\tcv_agg's l2: 0.245747 + 0.0700926\n"
     ]
    },
    {
     "name": "stderr",
     "output_type": "stream",
     "text": [
      "feature_fraction, val_score: 0.245054:  14%|######4                                      | 1/7 [00:02<00:16,  2.67s/it][I 2023-11-04 19:59:47,736] Trial 0 finished with value: 0.24505393814534973 and parameters: {'feature_fraction': 0.8999999999999999}. Best is trial 0 with value: 0.24505393814534973.\n",
      "feature_fraction, val_score: 0.245054:  14%|######4                                      | 1/7 [00:02<00:16,  2.67s/it]"
     ]
    },
    {
     "name": "stdout",
     "output_type": "stream",
     "text": [
      "[200]\tcv_agg's l2: 0.252172 + 0.065151\n",
      "Early stopping, best iteration is:\n",
      "[105]\tcv_agg's l2: 0.245054 + 0.0697045\n",
      "[100]\tcv_agg's l2: 0.235573 + 0.0572204\n"
     ]
    },
    {
     "name": "stderr",
     "output_type": "stream",
     "text": [
      "feature_fraction, val_score: 0.234457:  29%|############8                                | 2/7 [00:04<00:11,  2.39s/it][I 2023-11-04 19:59:49,936] Trial 1 finished with value: 0.23445656854091537 and parameters: {'feature_fraction': 0.7}. Best is trial 1 with value: 0.23445656854091537.\n",
      "feature_fraction, val_score: 0.234457:  29%|############8                                | 2/7 [00:04<00:11,  2.39s/it]"
     ]
    },
    {
     "name": "stdout",
     "output_type": "stream",
     "text": [
      "Early stopping, best iteration is:\n",
      "[78]\tcv_agg's l2: 0.234457 + 0.0593802\n",
      "[100]\tcv_agg's l2: 0.256328 + 0.0777765\n"
     ]
    },
    {
     "name": "stderr",
     "output_type": "stream",
     "text": [
      "feature_fraction, val_score: 0.234457:  43%|###################2                         | 3/7 [00:07<00:09,  2.35s/it][I 2023-11-04 19:59:52,235] Trial 2 finished with value: 0.2577478067684553 and parameters: {'feature_fraction': 1.0}. Best is trial 1 with value: 0.23445656854091537.\n",
      "feature_fraction, val_score: 0.234457:  43%|###################2                         | 3/7 [00:07<00:09,  2.35s/it]"
     ]
    },
    {
     "name": "stdout",
     "output_type": "stream",
     "text": [
      "Early stopping, best iteration is:\n",
      "[78]\tcv_agg's l2: 0.234457 + 0.0593802\n",
      "[100]\tcv_agg's l2: 0.235573 + 0.0572204\n"
     ]
    },
    {
     "name": "stderr",
     "output_type": "stream",
     "text": [
      "feature_fraction, val_score: 0.234457:  57%|#########################7                   | 4/7 [00:09<00:06,  2.31s/it][I 2023-11-04 19:59:54,489] Trial 3 finished with value: 0.23445656854091537 and parameters: {'feature_fraction': 0.8}. Best is trial 1 with value: 0.23445656854091537.\n",
      "feature_fraction, val_score: 0.234457:  57%|#########################7                   | 4/7 [00:09<00:06,  2.31s/it]"
     ]
    },
    {
     "name": "stdout",
     "output_type": "stream",
     "text": [
      "Early stopping, best iteration is:\n",
      "[78]\tcv_agg's l2: 0.234457 + 0.0593802\n",
      "[100]\tcv_agg's l2: 0.31295 + 0.0430693\n"
     ]
    },
    {
     "name": "stderr",
     "output_type": "stream",
     "text": [
      "feature_fraction, val_score: 0.234457:  71%|################################1            | 5/7 [00:11<00:04,  2.33s/it][I 2023-11-04 19:59:56,841] Trial 4 finished with value: 0.32574770113900736 and parameters: {'feature_fraction': 0.4}. Best is trial 1 with value: 0.23445656854091537.\n",
      "feature_fraction, val_score: 0.234457:  71%|################################1            | 5/7 [00:11<00:04,  2.33s/it]"
     ]
    },
    {
     "name": "stdout",
     "output_type": "stream",
     "text": [
      "Early stopping, best iteration is:\n",
      "[78]\tcv_agg's l2: 0.234457 + 0.0593802\n",
      "[100]\tcv_agg's l2: 0.247596 + 0.0354955\n"
     ]
    },
    {
     "name": "stderr",
     "output_type": "stream",
     "text": [
      "feature_fraction, val_score: 0.234457:  86%|######################################5      | 6/7 [00:14<00:02,  2.32s/it][I 2023-11-04 19:59:59,137] Trial 5 finished with value: 0.25459360895663535 and parameters: {'feature_fraction': 0.5}. Best is trial 1 with value: 0.23445656854091537.\n",
      "feature_fraction, val_score: 0.234457:  86%|######################################5      | 6/7 [00:14<00:02,  2.32s/it]"
     ]
    },
    {
     "name": "stdout",
     "output_type": "stream",
     "text": [
      "Early stopping, best iteration is:\n",
      "[78]\tcv_agg's l2: 0.234457 + 0.0593802\n",
      "[100]\tcv_agg's l2: 0.245873 + 0.0533179\n"
     ]
    },
    {
     "name": "stderr",
     "output_type": "stream",
     "text": [
      "feature_fraction, val_score: 0.234457: 100%|#############################################| 7/7 [00:16<00:00,  2.32s/it][I 2023-11-04 20:00:01,458] Trial 6 finished with value: 0.25255271739448304 and parameters: {'feature_fraction': 0.6}. Best is trial 1 with value: 0.23445656854091537.\n",
      "feature_fraction, val_score: 0.234457: 100%|#############################################| 7/7 [00:16<00:00,  2.34s/it]\n"
     ]
    },
    {
     "name": "stdout",
     "output_type": "stream",
     "text": [
      "Early stopping, best iteration is:\n",
      "[78]\tcv_agg's l2: 0.234457 + 0.0593802\n"
     ]
    },
    {
     "name": "stderr",
     "output_type": "stream",
     "text": [
      "num_leaves, val_score: 0.234457:   0%|                                                          | 0/20 [00:00<?, ?it/s]"
     ]
    },
    {
     "name": "stdout",
     "output_type": "stream",
     "text": [
      "[100]\tcv_agg's l2: 0.235003 + 0.0575921\n"
     ]
    },
    {
     "name": "stderr",
     "output_type": "stream",
     "text": [
      "num_leaves, val_score: 0.234457:   5%|##5                                               | 1/20 [00:02<00:44,  2.35s/it][I 2023-11-04 20:00:03,820] Trial 7 finished with value: 0.23445656854091537 and parameters: {'num_leaves': 85}. Best is trial 7 with value: 0.23445656854091537.\n",
      "num_leaves, val_score: 0.234457:   5%|##5                                               | 1/20 [00:02<00:44,  2.35s/it]"
     ]
    },
    {
     "name": "stdout",
     "output_type": "stream",
     "text": [
      "Early stopping, best iteration is:\n",
      "[78]\tcv_agg's l2: 0.234457 + 0.0593802\n",
      "[100]\tcv_agg's l2: 0.235003 + 0.0575921\n"
     ]
    },
    {
     "name": "stderr",
     "output_type": "stream",
     "text": [
      "num_leaves, val_score: 0.234457:  10%|#####                                             | 2/20 [00:04<00:41,  2.32s/it][I 2023-11-04 20:00:06,122] Trial 8 finished with value: 0.23445656854091537 and parameters: {'num_leaves': 256}. Best is trial 7 with value: 0.23445656854091537.\n",
      "num_leaves, val_score: 0.234457:  10%|#####                                             | 2/20 [00:04<00:41,  2.32s/it]"
     ]
    },
    {
     "name": "stdout",
     "output_type": "stream",
     "text": [
      "Early stopping, best iteration is:\n",
      "[78]\tcv_agg's l2: 0.234457 + 0.0593802\n",
      "[100]\tcv_agg's l2: 0.235003 + 0.0575921\n"
     ]
    },
    {
     "name": "stderr",
     "output_type": "stream",
     "text": [
      "num_leaves, val_score: 0.234457:  15%|#######5                                          | 3/20 [00:06<00:38,  2.29s/it][I 2023-11-04 20:00:08,371] Trial 9 finished with value: 0.23445656854091537 and parameters: {'num_leaves': 72}. Best is trial 7 with value: 0.23445656854091537.\n",
      "num_leaves, val_score: 0.234457:  15%|#######5                                          | 3/20 [00:06<00:38,  2.29s/it]"
     ]
    },
    {
     "name": "stdout",
     "output_type": "stream",
     "text": [
      "Early stopping, best iteration is:\n",
      "[78]\tcv_agg's l2: 0.234457 + 0.0593802\n",
      "[100]\tcv_agg's l2: 0.235003 + 0.0575921\n"
     ]
    },
    {
     "name": "stderr",
     "output_type": "stream",
     "text": [
      "num_leaves, val_score: 0.234457:  20%|##########                                        | 4/20 [00:09<00:37,  2.32s/it][I 2023-11-04 20:00:10,735] Trial 10 finished with value: 0.23445656854091537 and parameters: {'num_leaves': 206}. Best is trial 7 with value: 0.23445656854091537.\n",
      "num_leaves, val_score: 0.234457:  20%|##########                                        | 4/20 [00:09<00:37,  2.32s/it]"
     ]
    },
    {
     "name": "stdout",
     "output_type": "stream",
     "text": [
      "Early stopping, best iteration is:\n",
      "[78]\tcv_agg's l2: 0.234457 + 0.0593802\n",
      "[100]\tcv_agg's l2: 0.236442 + 0.0512128\n"
     ]
    },
    {
     "name": "stderr",
     "output_type": "stream",
     "text": [
      "num_leaves, val_score: 0.234457:  25%|############5                                     | 5/20 [00:10<00:29,  1.94s/it][I 2023-11-04 20:00:12,003] Trial 11 finished with value: 0.23869114978459183 and parameters: {'num_leaves': 13}. Best is trial 7 with value: 0.23445656854091537.\n",
      "num_leaves, val_score: 0.234457:  25%|############5                                     | 5/20 [00:10<00:29,  1.94s/it]"
     ]
    },
    {
     "name": "stdout",
     "output_type": "stream",
     "text": [
      "Early stopping, best iteration is:\n",
      "[78]\tcv_agg's l2: 0.234457 + 0.0593802\n",
      "[100]\tcv_agg's l2: 0.235003 + 0.0575921\n"
     ]
    },
    {
     "name": "stderr",
     "output_type": "stream",
     "text": [
      "num_leaves, val_score: 0.234457:  30%|###############                                   | 6/20 [00:13<00:29,  2.14s/it][I 2023-11-04 20:00:14,521] Trial 12 finished with value: 0.23445656854091537 and parameters: {'num_leaves': 168}. Best is trial 7 with value: 0.23445656854091537.\n",
      "num_leaves, val_score: 0.234457:  30%|###############                                   | 6/20 [00:13<00:29,  2.14s/it]"
     ]
    },
    {
     "name": "stdout",
     "output_type": "stream",
     "text": [
      "Early stopping, best iteration is:\n",
      "[78]\tcv_agg's l2: 0.234457 + 0.0593802\n"
     ]
    },
    {
     "name": "stderr",
     "output_type": "stream",
     "text": [
      "\r",
      "num_leaves, val_score: 0.234457:  30%|###############                                   | 6/20 [00:13<00:29,  2.14s/it]"
     ]
    },
    {
     "name": "stdout",
     "output_type": "stream",
     "text": [
      "[100]\tcv_agg's l2: 0.276198 + 0.0735882\n",
      "Early stopping, best iteration is:\n",
      "[78]\tcv_agg's l2: 0.234457 + 0.0593802\n"
     ]
    },
    {
     "name": "stderr",
     "output_type": "stream",
     "text": [
      "num_leaves, val_score: 0.234457:  35%|#################5                                | 7/20 [00:13<00:20,  1.58s/it][I 2023-11-04 20:00:14,965] Trial 13 finished with value: 0.28659193027990476 and parameters: {'num_leaves': 3}. Best is trial 7 with value: 0.23445656854091537.\n",
      "num_leaves, val_score: 0.234457:  35%|#################5                                | 7/20 [00:13<00:20,  1.58s/it]"
     ]
    },
    {
     "name": "stdout",
     "output_type": "stream",
     "text": [
      "[100]\tcv_agg's l2: 0.235003 + 0.0575921\n"
     ]
    },
    {
     "name": "stderr",
     "output_type": "stream",
     "text": [
      "num_leaves, val_score: 0.234457:  40%|####################                              | 8/20 [00:16<00:22,  1.88s/it][I 2023-11-04 20:00:17,492] Trial 14 finished with value: 0.23445656854091537 and parameters: {'num_leaves': 137}. Best is trial 7 with value: 0.23445656854091537.\n",
      "num_leaves, val_score: 0.234457:  40%|####################                              | 8/20 [00:16<00:22,  1.88s/it]"
     ]
    },
    {
     "name": "stdout",
     "output_type": "stream",
     "text": [
      "Early stopping, best iteration is:\n",
      "[78]\tcv_agg's l2: 0.234457 + 0.0593802\n",
      "[100]\tcv_agg's l2: 0.235003 + 0.0575921\n"
     ]
    },
    {
     "name": "stderr",
     "output_type": "stream",
     "text": [
      "num_leaves, val_score: 0.234457:  45%|######################5                           | 9/20 [00:18<00:22,  2.02s/it][I 2023-11-04 20:00:19,807] Trial 15 finished with value: 0.23445656854091537 and parameters: {'num_leaves': 247}. Best is trial 7 with value: 0.23445656854091537.\n",
      "num_leaves, val_score: 0.234457:  45%|######################5                           | 9/20 [00:18<00:22,  2.02s/it]"
     ]
    },
    {
     "name": "stdout",
     "output_type": "stream",
     "text": [
      "Early stopping, best iteration is:\n",
      "[78]\tcv_agg's l2: 0.234457 + 0.0593802\n",
      "[100]\tcv_agg's l2: 0.235003 + 0.0575921\n"
     ]
    },
    {
     "name": "stderr",
     "output_type": "stream",
     "text": [
      "num_leaves, val_score: 0.234457:  50%|########################5                        | 10/20 [00:20<00:20,  2.07s/it][I 2023-11-04 20:00:21,997] Trial 16 finished with value: 0.23445656854091537 and parameters: {'num_leaves': 73}. Best is trial 7 with value: 0.23445656854091537.\n",
      "num_leaves, val_score: 0.234457:  50%|########################5                        | 10/20 [00:20<00:20,  2.07s/it]"
     ]
    },
    {
     "name": "stdout",
     "output_type": "stream",
     "text": [
      "Early stopping, best iteration is:\n",
      "[78]\tcv_agg's l2: 0.234457 + 0.0593802\n",
      "[100]\tcv_agg's l2: 0.235003 + 0.0575921\n"
     ]
    },
    {
     "name": "stderr",
     "output_type": "stream",
     "text": [
      "num_leaves, val_score: 0.234457:  55%|##########################9                      | 11/20 [00:22<00:19,  2.12s/it][I 2023-11-04 20:00:24,238] Trial 17 finished with value: 0.23445656854091537 and parameters: {'num_leaves': 192}. Best is trial 7 with value: 0.23445656854091537.\n",
      "num_leaves, val_score: 0.234457:  55%|##########################9                      | 11/20 [00:22<00:19,  2.12s/it]"
     ]
    },
    {
     "name": "stdout",
     "output_type": "stream",
     "text": [
      "Early stopping, best iteration is:\n",
      "[78]\tcv_agg's l2: 0.234457 + 0.0593802\n",
      "[100]\tcv_agg's l2: 0.235003 + 0.0575921\n"
     ]
    },
    {
     "name": "stderr",
     "output_type": "stream",
     "text": [
      "num_leaves, val_score: 0.234457:  60%|#############################4                   | 12/20 [00:25<00:17,  2.22s/it][I 2023-11-04 20:00:26,691] Trial 18 finished with value: 0.23445656854091537 and parameters: {'num_leaves': 114}. Best is trial 7 with value: 0.23445656854091537.\n",
      "num_leaves, val_score: 0.234457:  60%|#############################4                   | 12/20 [00:25<00:17,  2.22s/it]"
     ]
    },
    {
     "name": "stdout",
     "output_type": "stream",
     "text": [
      "Early stopping, best iteration is:\n",
      "[78]\tcv_agg's l2: 0.234457 + 0.0593802\n",
      "[100]\tcv_agg's l2: 0.235003 + 0.0575921\n"
     ]
    },
    {
     "name": "stderr",
     "output_type": "stream",
     "text": [
      "num_leaves, val_score: 0.234457:  65%|###############################8                 | 13/20 [00:27<00:16,  2.29s/it][I 2023-11-04 20:00:29,121] Trial 19 finished with value: 0.23445656854091537 and parameters: {'num_leaves': 33}. Best is trial 7 with value: 0.23445656854091537.\n",
      "num_leaves, val_score: 0.234457:  65%|###############################8                 | 13/20 [00:27<00:16,  2.29s/it]"
     ]
    },
    {
     "name": "stdout",
     "output_type": "stream",
     "text": [
      "Early stopping, best iteration is:\n",
      "[78]\tcv_agg's l2: 0.234457 + 0.0593802\n",
      "[100]\tcv_agg's l2: 0.235003 + 0.0575921\n"
     ]
    },
    {
     "name": "stderr",
     "output_type": "stream",
     "text": [
      "num_leaves, val_score: 0.234457:  70%|##################################3              | 14/20 [00:30<00:13,  2.32s/it][I 2023-11-04 20:00:31,505] Trial 20 finished with value: 0.23445656854091537 and parameters: {'num_leaves': 144}. Best is trial 7 with value: 0.23445656854091537.\n",
      "num_leaves, val_score: 0.234457:  70%|##################################3              | 14/20 [00:30<00:13,  2.32s/it]"
     ]
    },
    {
     "name": "stdout",
     "output_type": "stream",
     "text": [
      "Early stopping, best iteration is:\n",
      "[78]\tcv_agg's l2: 0.234457 + 0.0593802\n",
      "[100]\tcv_agg's l2: 0.235003 + 0.0575921\n"
     ]
    },
    {
     "name": "stderr",
     "output_type": "stream",
     "text": [
      "num_leaves, val_score: 0.234457:  75%|####################################7            | 15/20 [00:32<00:11,  2.36s/it][I 2023-11-04 20:00:33,965] Trial 21 finished with value: 0.23445656854091537 and parameters: {'num_leaves': 89}. Best is trial 7 with value: 0.23445656854091537.\n",
      "num_leaves, val_score: 0.234457:  75%|####################################7            | 15/20 [00:32<00:11,  2.36s/it]"
     ]
    },
    {
     "name": "stdout",
     "output_type": "stream",
     "text": [
      "Early stopping, best iteration is:\n",
      "[78]\tcv_agg's l2: 0.234457 + 0.0593802\n",
      "[100]\tcv_agg's l2: 0.235003 + 0.0575921\n"
     ]
    },
    {
     "name": "stderr",
     "output_type": "stream",
     "text": [
      "num_leaves, val_score: 0.234457:  80%|#######################################2         | 16/20 [00:35<00:09,  2.47s/it][I 2023-11-04 20:00:36,695] Trial 22 finished with value: 0.23445656854091537 and parameters: {'num_leaves': 39}. Best is trial 7 with value: 0.23445656854091537.\n",
      "num_leaves, val_score: 0.234457:  80%|#######################################2         | 16/20 [00:35<00:09,  2.47s/it]"
     ]
    },
    {
     "name": "stdout",
     "output_type": "stream",
     "text": [
      "Early stopping, best iteration is:\n",
      "[78]\tcv_agg's l2: 0.234457 + 0.0593802\n",
      "[100]\tcv_agg's l2: 0.235003 + 0.0575921\n"
     ]
    },
    {
     "name": "stderr",
     "output_type": "stream",
     "text": [
      "num_leaves, val_score: 0.234457:  85%|#########################################6       | 17/20 [00:38<00:07,  2.58s/it][I 2023-11-04 20:00:39,532] Trial 23 finished with value: 0.23445656854091537 and parameters: {'num_leaves': 111}. Best is trial 7 with value: 0.23445656854091537.\n",
      "num_leaves, val_score: 0.234457:  85%|#########################################6       | 17/20 [00:38<00:07,  2.58s/it]"
     ]
    },
    {
     "name": "stdout",
     "output_type": "stream",
     "text": [
      "Early stopping, best iteration is:\n",
      "[78]\tcv_agg's l2: 0.234457 + 0.0593802\n",
      "[100]\tcv_agg's l2: 0.235003 + 0.0575921\n"
     ]
    },
    {
     "name": "stderr",
     "output_type": "stream",
     "text": [
      "num_leaves, val_score: 0.234457:  90%|############################################1    | 18/20 [00:39<00:04,  2.35s/it][I 2023-11-04 20:00:41,351] Trial 24 finished with value: 0.23445656854091537 and parameters: {'num_leaves': 48}. Best is trial 7 with value: 0.23445656854091537.\n",
      "num_leaves, val_score: 0.234457:  90%|############################################1    | 18/20 [00:39<00:04,  2.35s/it]"
     ]
    },
    {
     "name": "stdout",
     "output_type": "stream",
     "text": [
      "Early stopping, best iteration is:\n",
      "[78]\tcv_agg's l2: 0.234457 + 0.0593802\n",
      "[100]\tcv_agg's l2: 0.235003 + 0.0575921\n"
     ]
    },
    {
     "name": "stderr",
     "output_type": "stream",
     "text": [
      "num_leaves, val_score: 0.234457:  95%|##############################################5  | 19/20 [00:41<00:02,  2.16s/it][I 2023-11-04 20:00:43,080] Trial 25 finished with value: 0.23445656854091537 and parameters: {'num_leaves': 157}. Best is trial 7 with value: 0.23445656854091537.\n",
      "num_leaves, val_score: 0.234457:  95%|##############################################5  | 19/20 [00:41<00:02,  2.16s/it]"
     ]
    },
    {
     "name": "stdout",
     "output_type": "stream",
     "text": [
      "Early stopping, best iteration is:\n",
      "[78]\tcv_agg's l2: 0.234457 + 0.0593802\n",
      "[100]\tcv_agg's l2: 0.235003 + 0.0575921\n"
     ]
    },
    {
     "name": "stderr",
     "output_type": "stream",
     "text": [
      "num_leaves, val_score: 0.234457: 100%|#################################################| 20/20 [00:43<00:00,  2.01s/it][I 2023-11-04 20:00:44,720] Trial 26 finished with value: 0.23445656854091537 and parameters: {'num_leaves': 96}. Best is trial 7 with value: 0.23445656854091537.\n",
      "num_leaves, val_score: 0.234457: 100%|#################################################| 20/20 [00:43<00:00,  2.16s/it]\n"
     ]
    },
    {
     "name": "stdout",
     "output_type": "stream",
     "text": [
      "Early stopping, best iteration is:\n",
      "[78]\tcv_agg's l2: 0.234457 + 0.0593802\n"
     ]
    },
    {
     "name": "stderr",
     "output_type": "stream",
     "text": [
      "bagging, val_score: 0.234457:   0%|                                                             | 0/10 [00:00<?, ?it/s]"
     ]
    },
    {
     "name": "stdout",
     "output_type": "stream",
     "text": [
      "[100]\tcv_agg's l2: 0.273541 + 0.0503771\n"
     ]
    },
    {
     "name": "stderr",
     "output_type": "stream",
     "text": [
      "bagging, val_score: 0.234457:  10%|#####3                                               | 1/10 [00:01<00:09,  1.03s/it][I 2023-11-04 20:00:45,758] Trial 27 finished with value: 0.2808256274597599 and parameters: {'bagging_fraction': 0.5255777939586413, 'bagging_freq': 3}. Best is trial 27 with value: 0.2808256274597599.\n",
      "bagging, val_score: 0.234457:  10%|#####3                                               | 1/10 [00:01<00:09,  1.03s/it]"
     ]
    },
    {
     "name": "stdout",
     "output_type": "stream",
     "text": [
      "Early stopping, best iteration is:\n",
      "[78]\tcv_agg's l2: 0.234457 + 0.0593802\n",
      "[100]\tcv_agg's l2: 0.234864 + 0.0545525\n",
      "[200]\tcv_agg's l2: 0.236732 + 0.0494639\n"
     ]
    },
    {
     "name": "stderr",
     "output_type": "stream",
     "text": [
      "bagging, val_score: 0.233066:  20%|##########6                                          | 2/10 [00:03<00:13,  1.63s/it][I 2023-11-04 20:00:47,804] Trial 28 finished with value: 0.23306574432814245 and parameters: {'bagging_fraction': 0.9484967262275454, 'bagging_freq': 7}. Best is trial 28 with value: 0.23306574432814245.\n",
      "bagging, val_score: 0.233066:  20%|##########6                                          | 2/10 [00:03<00:13,  1.63s/it]"
     ]
    },
    {
     "name": "stdout",
     "output_type": "stream",
     "text": [
      "Early stopping, best iteration is:\n",
      "[131]\tcv_agg's l2: 0.233066 + 0.0528281\n",
      "[100]\tcv_agg's l2: 0.243197 + 0.0612637\n",
      "[200]\tcv_agg's l2: 0.2454 + 0.0570786\n"
     ]
    },
    {
     "name": "stderr",
     "output_type": "stream",
     "text": [
      "bagging, val_score: 0.233066:  30%|###############9                                     | 3/10 [00:05<00:12,  1.85s/it][I 2023-11-04 20:00:49,913] Trial 29 finished with value: 0.2432788515327311 and parameters: {'bagging_fraction': 0.9806899860312465, 'bagging_freq': 7}. Best is trial 28 with value: 0.23306574432814245.\n",
      "bagging, val_score: 0.233066:  30%|###############9                                     | 3/10 [00:05<00:12,  1.85s/it]"
     ]
    },
    {
     "name": "stdout",
     "output_type": "stream",
     "text": [
      "Early stopping, best iteration is:\n",
      "[131]\tcv_agg's l2: 0.233066 + 0.0528281\n",
      "[100]\tcv_agg's l2: 0.23701 + 0.0574107\n",
      "[200]\tcv_agg's l2: 0.237734 + 0.0535217\n"
     ]
    },
    {
     "name": "stderr",
     "output_type": "stream",
     "text": [
      "bagging, val_score: 0.233066:  40%|#####################2                               | 4/10 [00:07<00:11,  1.94s/it][I 2023-11-04 20:00:51,996] Trial 30 finished with value: 0.2353689145551221 and parameters: {'bagging_fraction': 0.9488185401394177, 'bagging_freq': 7}. Best is trial 28 with value: 0.23306574432814245.\n",
      "bagging, val_score: 0.233066:  40%|#####################2                               | 4/10 [00:07<00:11,  1.94s/it]"
     ]
    },
    {
     "name": "stdout",
     "output_type": "stream",
     "text": [
      "Early stopping, best iteration is:\n",
      "[131]\tcv_agg's l2: 0.233066 + 0.0528281\n",
      "[100]\tcv_agg's l2: 0.24316 + 0.0561657\n",
      "[200]\tcv_agg's l2: 0.245316 + 0.0502212\n"
     ]
    },
    {
     "name": "stderr",
     "output_type": "stream",
     "text": [
      "bagging, val_score: 0.233066:  50%|##########################5                          | 5/10 [00:08<00:09,  1.85s/it][I 2023-11-04 20:00:53,671] Trial 31 finished with value: 0.24083010813604283 and parameters: {'bagging_fraction': 0.7531656260991966, 'bagging_freq': 5}. Best is trial 28 with value: 0.23306574432814245.\n",
      "bagging, val_score: 0.233066:  50%|##########################5                          | 5/10 [00:08<00:09,  1.85s/it]"
     ]
    },
    {
     "name": "stdout",
     "output_type": "stream",
     "text": [
      "Early stopping, best iteration is:\n",
      "[131]\tcv_agg's l2: 0.233066 + 0.0528281\n",
      "[100]\tcv_agg's l2: 0.244692 + 0.0549047\n",
      "[200]\tcv_agg's l2: 0.243819 + 0.0505308\n"
     ]
    },
    {
     "name": "stderr",
     "output_type": "stream",
     "text": [
      "bagging, val_score: 0.233066:  60%|###############################8                     | 6/10 [00:10<00:07,  1.80s/it][I 2023-11-04 20:00:55,376] Trial 32 finished with value: 0.2438116005240008 and parameters: {'bagging_fraction': 0.776698005351206, 'bagging_freq': 1}. Best is trial 28 with value: 0.23306574432814245.\n",
      "bagging, val_score: 0.233066:  60%|###############################8                     | 6/10 [00:10<00:07,  1.80s/it]"
     ]
    },
    {
     "name": "stdout",
     "output_type": "stream",
     "text": [
      "Early stopping, best iteration is:\n",
      "[131]\tcv_agg's l2: 0.233066 + 0.0528281\n",
      "[100]\tcv_agg's l2: 0.275849 + 0.0445688\n"
     ]
    },
    {
     "name": "stderr",
     "output_type": "stream",
     "text": [
      "\r",
      "bagging, val_score: 0.233066:  60%|###############################8                     | 6/10 [00:11<00:07,  1.80s/it]"
     ]
    },
    {
     "name": "stdout",
     "output_type": "stream",
     "text": [
      "[200]\tcv_agg's l2: 0.268386 + 0.0474963\n",
      "Early stopping, best iteration is:\n",
      "[131]\tcv_agg's l2: 0.233066 + 0.0528281\n"
     ]
    },
    {
     "name": "stderr",
     "output_type": "stream",
     "text": [
      "bagging, val_score: 0.233066:  70%|#####################################                | 7/10 [00:11<00:04,  1.65s/it][I 2023-11-04 20:00:56,719] Trial 33 finished with value: 0.2719415976017941 and parameters: {'bagging_fraction': 0.542341533815415, 'bagging_freq': 5}. Best is trial 28 with value: 0.23306574432814245.\n",
      "bagging, val_score: 0.233066:  70%|#####################################                | 7/10 [00:11<00:04,  1.65s/it]"
     ]
    },
    {
     "name": "stdout",
     "output_type": "stream",
     "text": [
      "[100]\tcv_agg's l2: 0.238796 + 0.0538904\n",
      "[200]\tcv_agg's l2: 0.243093 + 0.0489836\n"
     ]
    },
    {
     "name": "stderr",
     "output_type": "stream",
     "text": [
      "bagging, val_score: 0.233066:  80%|##########################################4          | 8/10 [00:13<00:03,  1.74s/it][I 2023-11-04 20:00:58,667] Trial 34 finished with value: 0.2369537229023683 and parameters: {'bagging_fraction': 0.8793112445569771, 'bagging_freq': 4}. Best is trial 28 with value: 0.23306574432814245.\n",
      "bagging, val_score: 0.233066:  80%|##########################################4          | 8/10 [00:13<00:03,  1.74s/it]"
     ]
    },
    {
     "name": "stdout",
     "output_type": "stream",
     "text": [
      "Early stopping, best iteration is:\n",
      "[131]\tcv_agg's l2: 0.233066 + 0.0528281\n",
      "[100]\tcv_agg's l2: 0.257131 + 0.0465777\n"
     ]
    },
    {
     "name": "stderr",
     "output_type": "stream",
     "text": [
      "\r",
      "bagging, val_score: 0.233066:  80%|##########################################4          | 8/10 [00:15<00:03,  1.74s/it]"
     ]
    },
    {
     "name": "stdout",
     "output_type": "stream",
     "text": [
      "[200]\tcv_agg's l2: 0.251767 + 0.0459247\n",
      "Early stopping, best iteration is:\n",
      "[131]\tcv_agg's l2: 0.233066 + 0.0528281\n"
     ]
    },
    {
     "name": "stderr",
     "output_type": "stream",
     "text": [
      "bagging, val_score: 0.233066:  90%|###############################################7     | 9/10 [00:15<00:01,  1.66s/it][I 2023-11-04 20:01:00,140] Trial 35 finished with value: 0.2544283654354365 and parameters: {'bagging_fraction': 0.6537840190939337, 'bagging_freq': 7}. Best is trial 28 with value: 0.23306574432814245.\n",
      "bagging, val_score: 0.233066:  90%|###############################################7     | 9/10 [00:15<00:01,  1.66s/it]"
     ]
    },
    {
     "name": "stdout",
     "output_type": "stream",
     "text": [
      "[100]\tcv_agg's l2: 0.232392 + 0.046707\n",
      "[200]\tcv_agg's l2: 0.234981 + 0.0483334\n"
     ]
    },
    {
     "name": "stderr",
     "output_type": "stream",
     "text": [
      "bagging, val_score: 0.231275: 100%|####################################################| 10/10 [00:17<00:00,  1.75s/it][I 2023-11-04 20:01:02,101] Trial 36 finished with value: 0.23127464095555683 and parameters: {'bagging_fraction': 0.865593127468426, 'bagging_freq': 1}. Best is trial 36 with value: 0.23127464095555683.\n",
      "bagging, val_score: 0.231275: 100%|####################################################| 10/10 [00:17<00:00,  1.74s/it]\n"
     ]
    },
    {
     "name": "stdout",
     "output_type": "stream",
     "text": [
      "Early stopping, best iteration is:\n",
      "[133]\tcv_agg's l2: 0.231275 + 0.0494932\n"
     ]
    },
    {
     "name": "stderr",
     "output_type": "stream",
     "text": [
      "feature_fraction_stage2, val_score: 0.231275:   0%|                                              | 0/6 [00:00<?, ?it/s]"
     ]
    },
    {
     "name": "stdout",
     "output_type": "stream",
     "text": [
      "[100]\tcv_agg's l2: 0.232392 + 0.046707\n",
      "[200]\tcv_agg's l2: 0.234981 + 0.0483334\n"
     ]
    },
    {
     "name": "stderr",
     "output_type": "stream",
     "text": [
      "feature_fraction_stage2, val_score: 0.231275:  17%|######3                               | 1/6 [00:01<00:09,  1.86s/it][I 2023-11-04 20:01:03,965] Trial 37 finished with value: 0.23127464095555683 and parameters: {'feature_fraction': 0.748}. Best is trial 37 with value: 0.23127464095555683.\n",
      "feature_fraction_stage2, val_score: 0.231275:  17%|######3                               | 1/6 [00:01<00:09,  1.86s/it]"
     ]
    },
    {
     "name": "stdout",
     "output_type": "stream",
     "text": [
      "Early stopping, best iteration is:\n",
      "[133]\tcv_agg's l2: 0.231275 + 0.0494932\n",
      "[100]\tcv_agg's l2: 0.232392 + 0.046707\n",
      "[200]\tcv_agg's l2: 0.234981 + 0.0483334\n"
     ]
    },
    {
     "name": "stderr",
     "output_type": "stream",
     "text": [
      "feature_fraction_stage2, val_score: 0.231275:  33%|############6                         | 2/6 [00:03<00:07,  1.89s/it][I 2023-11-04 20:01:05,882] Trial 38 finished with value: 0.23127464095555683 and parameters: {'feature_fraction': 0.7799999999999999}. Best is trial 37 with value: 0.23127464095555683.\n",
      "feature_fraction_stage2, val_score: 0.231275:  33%|############6                         | 2/6 [00:03<00:07,  1.89s/it]"
     ]
    },
    {
     "name": "stdout",
     "output_type": "stream",
     "text": [
      "Early stopping, best iteration is:\n",
      "[133]\tcv_agg's l2: 0.231275 + 0.0494932\n",
      "[100]\tcv_agg's l2: 0.25082 + 0.0513223\n",
      "[200]\tcv_agg's l2: 0.247666 + 0.0505168\n"
     ]
    },
    {
     "name": "stderr",
     "output_type": "stream",
     "text": [
      "feature_fraction_stage2, val_score: 0.231275:  50%|###################                   | 3/6 [00:05<00:05,  1.85s/it][I 2023-11-04 20:01:07,692] Trial 39 finished with value: 0.24834934498106112 and parameters: {'feature_fraction': 0.62}. Best is trial 37 with value: 0.23127464095555683.\n",
      "feature_fraction_stage2, val_score: 0.231275:  50%|###################                   | 3/6 [00:05<00:05,  1.85s/it]"
     ]
    },
    {
     "name": "stdout",
     "output_type": "stream",
     "text": [
      "Early stopping, best iteration is:\n",
      "[133]\tcv_agg's l2: 0.231275 + 0.0494932\n",
      "[100]\tcv_agg's l2: 0.232392 + 0.046707\n",
      "[200]\tcv_agg's l2: 0.234981 + 0.0483334\n"
     ]
    },
    {
     "name": "stderr",
     "output_type": "stream",
     "text": [
      "feature_fraction_stage2, val_score: 0.231275:  67%|#########################3            | 4/6 [00:07<00:03,  1.86s/it][I 2023-11-04 20:01:09,557] Trial 40 finished with value: 0.23127464095555683 and parameters: {'feature_fraction': 0.716}. Best is trial 37 with value: 0.23127464095555683.\n",
      "feature_fraction_stage2, val_score: 0.231275:  67%|#########################3            | 4/6 [00:07<00:03,  1.86s/it]"
     ]
    },
    {
     "name": "stdout",
     "output_type": "stream",
     "text": [
      "Early stopping, best iteration is:\n",
      "[133]\tcv_agg's l2: 0.231275 + 0.0494932\n",
      "[100]\tcv_agg's l2: 0.25082 + 0.0513223\n",
      "[200]\tcv_agg's l2: 0.247666 + 0.0505168\n"
     ]
    },
    {
     "name": "stderr",
     "output_type": "stream",
     "text": [
      "feature_fraction_stage2, val_score: 0.231275:  83%|###############################6      | 5/6 [00:09<00:01,  1.83s/it][I 2023-11-04 20:01:11,346] Trial 41 finished with value: 0.24834934498106112 and parameters: {'feature_fraction': 0.652}. Best is trial 37 with value: 0.23127464095555683.\n",
      "feature_fraction_stage2, val_score: 0.231275:  83%|###############################6      | 5/6 [00:09<00:01,  1.83s/it]"
     ]
    },
    {
     "name": "stdout",
     "output_type": "stream",
     "text": [
      "Early stopping, best iteration is:\n",
      "[133]\tcv_agg's l2: 0.231275 + 0.0494932\n",
      "[100]\tcv_agg's l2: 0.25082 + 0.0513223\n",
      "[200]\tcv_agg's l2: 0.247666 + 0.0505168\n"
     ]
    },
    {
     "name": "stderr",
     "output_type": "stream",
     "text": [
      "feature_fraction_stage2, val_score: 0.231275: 100%|######################################| 6/6 [00:11<00:00,  1.84s/it][I 2023-11-04 20:01:13,212] Trial 42 finished with value: 0.24834934498106112 and parameters: {'feature_fraction': 0.6839999999999999}. Best is trial 37 with value: 0.23127464095555683.\n",
      "feature_fraction_stage2, val_score: 0.231275: 100%|######################################| 6/6 [00:11<00:00,  1.85s/it]\n"
     ]
    },
    {
     "name": "stdout",
     "output_type": "stream",
     "text": [
      "Early stopping, best iteration is:\n",
      "[133]\tcv_agg's l2: 0.231275 + 0.0494932\n"
     ]
    },
    {
     "name": "stderr",
     "output_type": "stream",
     "text": [
      "regularization_factors, val_score: 0.231275:   0%|                                              | 0/20 [00:00<?, ?it/s]"
     ]
    },
    {
     "name": "stdout",
     "output_type": "stream",
     "text": [
      "[100]\tcv_agg's l2: 0.232392 + 0.046707\n",
      "[200]\tcv_agg's l2: 0.234981 + 0.0483334\n"
     ]
    },
    {
     "name": "stderr",
     "output_type": "stream",
     "text": [
      "regularization_factors, val_score: 0.231275:   5%|#9                                    | 1/20 [00:02<00:38,  2.05s/it][I 2023-11-04 20:01:15,266] Trial 43 finished with value: 0.231274640811678 and parameters: {'lambda_l1': 5.659967580004531e-08, 'lambda_l2': 4.077354673843734e-08}. Best is trial 43 with value: 0.231274640811678.\n",
      "regularization_factors, val_score: 0.231275:   5%|#9                                    | 1/20 [00:02<00:38,  2.05s/it]"
     ]
    },
    {
     "name": "stdout",
     "output_type": "stream",
     "text": [
      "Early stopping, best iteration is:\n",
      "[133]\tcv_agg's l2: 0.231275 + 0.0494932\n",
      "[100]\tcv_agg's l2: 0.232392 + 0.046707\n",
      "[200]\tcv_agg's l2: 0.234981 + 0.0483334\n"
     ]
    },
    {
     "name": "stderr",
     "output_type": "stream",
     "text": [
      "regularization_factors, val_score: 0.231275:  10%|###8                                  | 2/20 [00:03<00:35,  1.95s/it][I 2023-11-04 20:01:17,151] Trial 44 finished with value: 0.23127464086698385 and parameters: {'lambda_l1': 3.0993483455824133e-08, 'lambda_l2': 1.7423904098123397e-08}. Best is trial 43 with value: 0.231274640811678.\n",
      "regularization_factors, val_score: 0.231275:  10%|###8                                  | 2/20 [00:03<00:35,  1.95s/it]"
     ]
    },
    {
     "name": "stdout",
     "output_type": "stream",
     "text": [
      "Early stopping, best iteration is:\n",
      "[133]\tcv_agg's l2: 0.231275 + 0.0494932\n",
      "[100]\tcv_agg's l2: 0.232392 + 0.046707\n",
      "[200]\tcv_agg's l2: 0.234981 + 0.0483334\n"
     ]
    },
    {
     "name": "stderr",
     "output_type": "stream",
     "text": [
      "regularization_factors, val_score: 0.231275:  15%|#####7                                | 3/20 [00:05<00:33,  1.96s/it][I 2023-11-04 20:01:19,125] Trial 45 finished with value: 0.23127464087833488 and parameters: {'lambda_l1': 1.2366610396550995e-08, 'lambda_l2': 1.2537213414348403e-08}. Best is trial 43 with value: 0.231274640811678.\n",
      "regularization_factors, val_score: 0.231275:  15%|#####7                                | 3/20 [00:05<00:33,  1.96s/it]"
     ]
    },
    {
     "name": "stdout",
     "output_type": "stream",
     "text": [
      "Early stopping, best iteration is:\n",
      "[133]\tcv_agg's l2: 0.231275 + 0.0494932\n",
      "[100]\tcv_agg's l2: 0.232392 + 0.046707\n",
      "[200]\tcv_agg's l2: 0.234981 + 0.0483334\n"
     ]
    },
    {
     "name": "stderr",
     "output_type": "stream",
     "text": [
      "regularization_factors, val_score: 0.231275:  20%|#######6                              | 4/20 [00:07<00:31,  1.97s/it][I 2023-11-04 20:01:21,097] Trial 46 finished with value: 0.2312746408881961 and parameters: {'lambda_l1': 1.4750041430663057e-08, 'lambda_l2': 1.2112333660384077e-08}. Best is trial 43 with value: 0.231274640811678.\n",
      "regularization_factors, val_score: 0.231275:  20%|#######6                              | 4/20 [00:07<00:31,  1.97s/it]"
     ]
    },
    {
     "name": "stdout",
     "output_type": "stream",
     "text": [
      "Early stopping, best iteration is:\n",
      "[133]\tcv_agg's l2: 0.231275 + 0.0494932\n",
      "[100]\tcv_agg's l2: 0.232392 + 0.046707\n",
      "[200]\tcv_agg's l2: 0.234981 + 0.0483334\n"
     ]
    },
    {
     "name": "stderr",
     "output_type": "stream",
     "text": [
      "regularization_factors, val_score: 0.231275:  25%|#########5                            | 5/20 [00:09<00:29,  1.95s/it][I 2023-11-04 20:01:23,027] Trial 47 finished with value: 0.2312746408761277 and parameters: {'lambda_l1': 3.37863705525917e-08, 'lambda_l2': 1.0796389614388886e-08}. Best is trial 43 with value: 0.231274640811678.\n",
      "regularization_factors, val_score: 0.231275:  25%|#########5                            | 5/20 [00:09<00:29,  1.95s/it]"
     ]
    },
    {
     "name": "stdout",
     "output_type": "stream",
     "text": [
      "Early stopping, best iteration is:\n",
      "[133]\tcv_agg's l2: 0.231275 + 0.0494932\n",
      "[100]\tcv_agg's l2: 0.232392 + 0.046707\n",
      "[200]\tcv_agg's l2: 0.234981 + 0.0483334\n"
     ]
    },
    {
     "name": "stderr",
     "output_type": "stream",
     "text": [
      "regularization_factors, val_score: 0.231275:  30%|###########4                          | 6/20 [00:11<00:27,  1.96s/it][I 2023-11-04 20:01:24,997] Trial 48 finished with value: 0.23127464087906816 and parameters: {'lambda_l1': 1.3745418426204634e-08, 'lambda_l2': 1.1555499886032743e-08}. Best is trial 43 with value: 0.231274640811678.\n",
      "regularization_factors, val_score: 0.231275:  30%|###########4                          | 6/20 [00:11<00:27,  1.96s/it]"
     ]
    },
    {
     "name": "stdout",
     "output_type": "stream",
     "text": [
      "Early stopping, best iteration is:\n",
      "[133]\tcv_agg's l2: 0.231275 + 0.0494932\n",
      "[100]\tcv_agg's l2: 0.232392 + 0.046707\n",
      "[200]\tcv_agg's l2: 0.234981 + 0.0483334\n"
     ]
    },
    {
     "name": "stderr",
     "output_type": "stream",
     "text": [
      "regularization_factors, val_score: 0.231275:  35%|#############3                        | 7/20 [00:13<00:25,  1.96s/it][I 2023-11-04 20:01:26,953] Trial 49 finished with value: 0.2312746409089609 and parameters: {'lambda_l1': 1.8550661395130043e-08, 'lambda_l2': 1.3971197508859053e-08}. Best is trial 43 with value: 0.231274640811678.\n",
      "regularization_factors, val_score: 0.231275:  35%|#############3                        | 7/20 [00:13<00:25,  1.96s/it]"
     ]
    },
    {
     "name": "stdout",
     "output_type": "stream",
     "text": [
      "Early stopping, best iteration is:\n",
      "[133]\tcv_agg's l2: 0.231275 + 0.0494932\n",
      "[100]\tcv_agg's l2: 0.232392 + 0.046707\n",
      "[200]\tcv_agg's l2: 0.234981 + 0.0483334\n"
     ]
    },
    {
     "name": "stderr",
     "output_type": "stream",
     "text": [
      "regularization_factors, val_score: 0.231275:  40%|###############2                      | 8/20 [00:15<00:23,  1.94s/it][I 2023-11-04 20:01:28,859] Trial 50 finished with value: 0.23127464091568073 and parameters: {'lambda_l1': 1.7127696348121716e-08, 'lambda_l2': 1.2810906088666174e-08}. Best is trial 43 with value: 0.231274640811678.\n",
      "regularization_factors, val_score: 0.231275:  40%|###############2                      | 8/20 [00:15<00:23,  1.94s/it]"
     ]
    },
    {
     "name": "stdout",
     "output_type": "stream",
     "text": [
      "Early stopping, best iteration is:\n",
      "[133]\tcv_agg's l2: 0.231275 + 0.0494932\n",
      "[100]\tcv_agg's l2: 0.232392 + 0.046707\n",
      "[200]\tcv_agg's l2: 0.234981 + 0.0483334\n"
     ]
    },
    {
     "name": "stderr",
     "output_type": "stream",
     "text": [
      "regularization_factors, val_score: 0.231275:  45%|#################1                    | 9/20 [00:17<00:21,  1.94s/it][I 2023-11-04 20:01:30,781] Trial 51 finished with value: 0.23127464090518987 and parameters: {'lambda_l1': 1.8410301036885754e-08, 'lambda_l2': 1.1333786415095952e-08}. Best is trial 43 with value: 0.231274640811678.\n",
      "regularization_factors, val_score: 0.231275:  45%|#################1                    | 9/20 [00:17<00:21,  1.94s/it]"
     ]
    },
    {
     "name": "stdout",
     "output_type": "stream",
     "text": [
      "Early stopping, best iteration is:\n",
      "[133]\tcv_agg's l2: 0.231275 + 0.0494932\n",
      "[100]\tcv_agg's l2: 0.232392 + 0.046707\n",
      "[200]\tcv_agg's l2: 0.234981 + 0.0483334\n"
     ]
    },
    {
     "name": "stderr",
     "output_type": "stream",
     "text": [
      "regularization_factors, val_score: 0.231275:  50%|##################5                  | 10/20 [00:20<00:21,  2.15s/it][I 2023-11-04 20:01:33,422] Trial 52 finished with value: 0.23127464089780045 and parameters: {'lambda_l1': 1.9841424619490478e-08, 'lambda_l2': 1.528792184687927e-08}. Best is trial 43 with value: 0.231274640811678.\n",
      "regularization_factors, val_score: 0.231275:  50%|##################5                  | 10/20 [00:20<00:21,  2.15s/it]"
     ]
    },
    {
     "name": "stdout",
     "output_type": "stream",
     "text": [
      "Early stopping, best iteration is:\n",
      "[133]\tcv_agg's l2: 0.231275 + 0.0494932\n",
      "[100]\tcv_agg's l2: 0.232392 + 0.046707\n",
      "[200]\tcv_agg's l2: 0.234981 + 0.0483334\n"
     ]
    },
    {
     "name": "stderr",
     "output_type": "stream",
     "text": [
      "regularization_factors, val_score: 0.231275:  55%|####################3                | 11/20 [00:22<00:18,  2.06s/it][I 2023-11-04 20:01:35,268] Trial 53 finished with value: 0.23127464092156796 and parameters: {'lambda_l1': 1.5814425106793972e-08, 'lambda_l2': 1.2808577216154827e-08}. Best is trial 43 with value: 0.231274640811678.\n",
      "regularization_factors, val_score: 0.231275:  55%|####################3                | 11/20 [00:22<00:18,  2.06s/it]"
     ]
    },
    {
     "name": "stdout",
     "output_type": "stream",
     "text": [
      "Early stopping, best iteration is:\n",
      "[133]\tcv_agg's l2: 0.231275 + 0.0494932\n",
      "[100]\tcv_agg's l2: 0.232392 + 0.046707\n"
     ]
    },
    {
     "name": "stderr",
     "output_type": "stream",
     "text": [
      "regularization_factors, val_score: 0.231275:  60%|######################2              | 12/20 [00:23<00:16,  2.02s/it][I 2023-11-04 20:01:37,200] Trial 54 finished with value: 0.23127464087320487 and parameters: {'lambda_l1': 2.1020043071858794e-08, 'lambda_l2': 1.0311060139423549e-08}. Best is trial 43 with value: 0.231274640811678.\n",
      "regularization_factors, val_score: 0.231275:  60%|######################2              | 12/20 [00:23<00:16,  2.02s/it]"
     ]
    },
    {
     "name": "stdout",
     "output_type": "stream",
     "text": [
      "[200]\tcv_agg's l2: 0.234981 + 0.0483334\n",
      "Early stopping, best iteration is:\n",
      "[133]\tcv_agg's l2: 0.231275 + 0.0494932\n",
      "[100]\tcv_agg's l2: 0.232392 + 0.0467071\n"
     ]
    },
    {
     "name": "stderr",
     "output_type": "stream",
     "text": [
      "regularization_factors, val_score: 0.231275:  65%|########################             | 13/20 [00:25<00:12,  1.75s/it][I 2023-11-04 20:01:38,324] Trial 55 finished with value: 0.23127463656830427 and parameters: {'lambda_l1': 1.808020396095336e-06, 'lambda_l2': 1.0867994398000028e-08}. Best is trial 55 with value: 0.23127463656830427.\n",
      "regularization_factors, val_score: 0.231275:  65%|########################             | 13/20 [00:25<00:12,  1.75s/it]"
     ]
    },
    {
     "name": "stdout",
     "output_type": "stream",
     "text": [
      "[200]\tcv_agg's l2: 0.234981 + 0.0483334\n",
      "Early stopping, best iteration is:\n",
      "[133]\tcv_agg's l2: 0.231275 + 0.0494932\n",
      "[100]\tcv_agg's l2: 0.233208 + 0.0471955\n"
     ]
    },
    {
     "name": "stderr",
     "output_type": "stream",
     "text": [
      "regularization_factors, val_score: 0.231275:  70%|#########################9           | 14/20 [00:26<00:09,  1.58s/it][I 2023-11-04 20:01:39,513] Trial 56 finished with value: 0.23217776483491734 and parameters: {'lambda_l1': 2.3821997922268442e-06, 'lambda_l2': 1.1541646969146308e-06}. Best is trial 55 with value: 0.23127463656830427.\n",
      "regularization_factors, val_score: 0.231275:  70%|#########################9           | 14/20 [00:26<00:09,  1.58s/it]"
     ]
    },
    {
     "name": "stdout",
     "output_type": "stream",
     "text": [
      "[200]\tcv_agg's l2: 0.235619 + 0.0486622\n",
      "Early stopping, best iteration is:\n",
      "[133]\tcv_agg's l2: 0.231275 + 0.0494932\n",
      "[100]\tcv_agg's l2: 0.231083 + 0.0472134\n"
     ]
    },
    {
     "name": "stderr",
     "output_type": "stream",
     "text": [
      "regularization_factors, val_score: 0.230582:  75%|###########################7         | 15/20 [00:27<00:06,  1.37s/it][I 2023-11-04 20:01:40,411] Trial 57 finished with value: 0.23058186137632403 and parameters: {'lambda_l1': 1.4776232678414392e-06, 'lambda_l2': 0.006271282733872399}. Best is trial 57 with value: 0.23058186137632403.\n",
      "regularization_factors, val_score: 0.230582:  75%|###########################7         | 15/20 [00:27<00:06,  1.37s/it]"
     ]
    },
    {
     "name": "stdout",
     "output_type": "stream",
     "text": [
      "Early stopping, best iteration is:\n",
      "[97]\tcv_agg's l2: 0.230582 + 0.0477494\n",
      "[100]\tcv_agg's l2: 0.236243 + 0.0520548\n"
     ]
    },
    {
     "name": "stderr",
     "output_type": "stream",
     "text": [
      "regularization_factors, val_score: 0.230582:  80%|#############################6       | 16/20 [00:28<00:05,  1.37s/it][I 2023-11-04 20:01:41,783] Trial 58 finished with value: 0.2360977129569659 and parameters: {'lambda_l1': 1.937379768226263e-06, 'lambda_l2': 0.739955638810915}. Best is trial 57 with value: 0.23058186137632403.\n",
      "regularization_factors, val_score: 0.230582:  80%|#############################6       | 16/20 [00:28<00:05,  1.37s/it]"
     ]
    },
    {
     "name": "stdout",
     "output_type": "stream",
     "text": [
      "Early stopping, best iteration is:\n",
      "[97]\tcv_agg's l2: 0.230582 + 0.0477494\n",
      "[100]\tcv_agg's l2: 0.232392 + 0.046707\n"
     ]
    },
    {
     "name": "stderr",
     "output_type": "stream",
     "text": [
      "regularization_factors, val_score: 0.230582:  85%|###############################4     | 17/20 [00:30<00:04,  1.49s/it][I 2023-11-04 20:01:43,534] Trial 59 finished with value: 0.2324086107140381 and parameters: {'lambda_l1': 8.465910331435065e-07, 'lambda_l2': 5.020541550595721e-07}. Best is trial 57 with value: 0.23058186137632403.\n",
      "regularization_factors, val_score: 0.230582:  85%|###############################4     | 17/20 [00:30<00:04,  1.49s/it]"
     ]
    },
    {
     "name": "stdout",
     "output_type": "stream",
     "text": [
      "Early stopping, best iteration is:\n",
      "[97]\tcv_agg's l2: 0.230582 + 0.0477494\n",
      "[100]\tcv_agg's l2: 0.230181 + 0.0470723\n"
     ]
    },
    {
     "name": "stderr",
     "output_type": "stream",
     "text": [
      "regularization_factors, val_score: 0.228625:  90%|#################################3   | 18/20 [00:31<00:03,  1.52s/it][I 2023-11-04 20:01:45,126] Trial 60 finished with value: 0.2286250526828876 and parameters: {'lambda_l1': 5.645963790278708e-07, 'lambda_l2': 0.003029337424980951}. Best is trial 60 with value: 0.2286250526828876.\n",
      "regularization_factors, val_score: 0.228625:  90%|#################################3   | 18/20 [00:31<00:03,  1.52s/it]"
     ]
    },
    {
     "name": "stdout",
     "output_type": "stream",
     "text": [
      "Early stopping, best iteration is:\n",
      "[92]\tcv_agg's l2: 0.228625 + 0.0470624\n",
      "[100]\tcv_agg's l2: 0.230389 + 0.0469149\n"
     ]
    },
    {
     "name": "stderr",
     "output_type": "stream",
     "text": [
      "regularization_factors, val_score: 0.228625:  95%|###################################1 | 19/20 [00:33<00:01,  1.61s/it][I 2023-11-04 20:01:46,947] Trial 61 finished with value: 0.2288872176135203 and parameters: {'lambda_l1': 5.190929102808701e-07, 'lambda_l2': 0.0037058686057249487}. Best is trial 60 with value: 0.2286250526828876.\n",
      "regularization_factors, val_score: 0.228625:  95%|###################################1 | 19/20 [00:33<00:01,  1.61s/it]"
     ]
    },
    {
     "name": "stdout",
     "output_type": "stream",
     "text": [
      "Early stopping, best iteration is:\n",
      "[92]\tcv_agg's l2: 0.228625 + 0.0470624\n",
      "[100]\tcv_agg's l2: 0.233966 + 0.048699\n"
     ]
    },
    {
     "name": "stderr",
     "output_type": "stream",
     "text": [
      "regularization_factors, val_score: 0.228625: 100%|#####################################| 20/20 [00:35<00:00,  1.59s/it][I 2023-11-04 20:01:48,497] Trial 62 finished with value: 0.2334408392539397 and parameters: {'lambda_l1': 6.95544710730013e-07, 'lambda_l2': 0.004579072455340804}. Best is trial 60 with value: 0.2286250526828876.\n",
      "regularization_factors, val_score: 0.228625: 100%|#####################################| 20/20 [00:35<00:00,  1.76s/it]\n"
     ]
    },
    {
     "name": "stdout",
     "output_type": "stream",
     "text": [
      "Early stopping, best iteration is:\n",
      "[92]\tcv_agg's l2: 0.228625 + 0.0470624\n"
     ]
    },
    {
     "name": "stderr",
     "output_type": "stream",
     "text": [
      "min_data_in_leaf, val_score: 0.228625:   0%|                                                     | 0/5 [00:00<?, ?it/s]"
     ]
    },
    {
     "name": "stdout",
     "output_type": "stream",
     "text": [
      "[100]\tcv_agg's l2: 0.253704 + 0.0583534\n"
     ]
    },
    {
     "name": "stderr",
     "output_type": "stream",
     "text": [
      "min_data_in_leaf, val_score: 0.228625:  20%|#########                                    | 1/5 [00:01<00:05,  1.34s/it][I 2023-11-04 20:01:49,846] Trial 63 finished with value: 0.25247156573228136 and parameters: {'min_child_samples': 25}. Best is trial 63 with value: 0.25247156573228136.\n",
      "min_data_in_leaf, val_score: 0.228625:  20%|#########                                    | 1/5 [00:01<00:05,  1.34s/it]"
     ]
    },
    {
     "name": "stdout",
     "output_type": "stream",
     "text": [
      "Early stopping, best iteration is:\n",
      "[92]\tcv_agg's l2: 0.228625 + 0.0470624\n",
      "[100]\tcv_agg's l2: 0.228715 + 0.0456782\n"
     ]
    },
    {
     "name": "stderr",
     "output_type": "stream",
     "text": [
      "min_data_in_leaf, val_score: 0.228158:  40%|##################                           | 2/5 [00:03<00:05,  1.91s/it][I 2023-11-04 20:01:52,159] Trial 64 finished with value: 0.22815750269102955 and parameters: {'min_child_samples': 5}. Best is trial 64 with value: 0.22815750269102955.\n",
      "min_data_in_leaf, val_score: 0.228158:  40%|##################                           | 2/5 [00:03<00:05,  1.91s/it]"
     ]
    },
    {
     "name": "stdout",
     "output_type": "stream",
     "text": [
      "[200]\tcv_agg's l2: 0.231862 + 0.0444119\n",
      "Early stopping, best iteration is:\n",
      "[107]\tcv_agg's l2: 0.228158 + 0.0453239\n",
      "[100]\tcv_agg's l2: 0.233112 + 0.0560173\n"
     ]
    },
    {
     "name": "stderr",
     "output_type": "stream",
     "text": [
      "min_data_in_leaf, val_score: 0.228158:  60%|###########################                  | 3/5 [00:06<00:04,  2.13s/it][I 2023-11-04 20:01:54,539] Trial 65 finished with value: 0.23320030009853127 and parameters: {'min_child_samples': 10}. Best is trial 64 with value: 0.22815750269102955.\n",
      "min_data_in_leaf, val_score: 0.228158:  60%|###########################                  | 3/5 [00:06<00:04,  2.13s/it]"
     ]
    },
    {
     "name": "stdout",
     "output_type": "stream",
     "text": [
      "[200]\tcv_agg's l2: 0.236182 + 0.0522548\n",
      "Early stopping, best iteration is:\n",
      "[107]\tcv_agg's l2: 0.228158 + 0.0453239\n",
      "[100]\tcv_agg's l2: 0.984027 + 0.136445\n"
     ]
    },
    {
     "name": "stderr",
     "output_type": "stream",
     "text": [
      "min_data_in_leaf, val_score: 0.228158:  80%|####################################         | 4/5 [00:06<00:01,  1.51s/it][I 2023-11-04 20:01:55,112] Trial 66 finished with value: 0.9781213327015237 and parameters: {'min_child_samples': 100}. Best is trial 64 with value: 0.22815750269102955.\n",
      "min_data_in_leaf, val_score: 0.228158:  80%|####################################         | 4/5 [00:06<00:01,  1.51s/it]"
     ]
    },
    {
     "name": "stdout",
     "output_type": "stream",
     "text": [
      "[200]\tcv_agg's l2: 0.92976 + 0.12885\n",
      "Early stopping, best iteration is:\n",
      "[107]\tcv_agg's l2: 0.228158 + 0.0453239\n",
      "[100]\tcv_agg's l2: 0.353489 + 0.0731185\n"
     ]
    },
    {
     "name": "stderr",
     "output_type": "stream",
     "text": [
      "min_data_in_leaf, val_score: 0.228158: 100%|#############################################| 5/5 [00:07<00:00,  1.26s/it][I 2023-11-04 20:01:55,913] Trial 67 finished with value: 0.3516697122199939 and parameters: {'min_child_samples': 50}. Best is trial 64 with value: 0.22815750269102955.\n",
      "min_data_in_leaf, val_score: 0.228158: 100%|#############################################| 5/5 [00:07<00:00,  1.48s/it]"
     ]
    },
    {
     "name": "stdout",
     "output_type": "stream",
     "text": [
      "[200]\tcv_agg's l2: 0.345287 + 0.0719471\n",
      "Early stopping, best iteration is:\n",
      "[107]\tcv_agg's l2: 0.228158 + 0.0453239\n"
     ]
    },
    {
     "name": "stderr",
     "output_type": "stream",
     "text": [
      "\n"
     ]
    }
   ],
   "source": [
    "import optuna.integration.lightgbm as lgb\n",
    "from lightgbm import early_stopping\n",
    "from sklearn.model_selection import KFold\n",
    "from sklearn.model_selection import RepeatedKFold\n",
    "\n",
    "\n",
    "lgb_train = lgb.Dataset(X_train_random_split, y_train_random_split)\n",
    "\n",
    "params = {\n",
    "    \"boosting_type\": \"gbdt\",\n",
    "    \"objective\": \"regression\",\n",
    "    \"metric\": \"l2\",\n",
    "    \"verbosity\": -1,\n",
    "}\n",
    "\n",
    "tuner = lgb.LightGBMTunerCV(\n",
    "    params,\n",
    "    lgb_train,\n",
    "    folds=KFold(n_splits=5),\n",
    "    num_boost_round=10000,\n",
    "    callbacks=[early_stopping(100), log_evaluation(100)],\n",
    ")\n",
    "\n",
    "tuner.run()"
   ]
  },
  {
   "cell_type": "code",
   "execution_count": 87,
   "id": "0079a348",
   "metadata": {},
   "outputs": [
    {
     "name": "stdout",
     "output_type": "stream",
     "text": [
      "Best score: 0.22815750269102955\n",
      "Params: \n",
      "    boosting_type: gbdt\n",
      "    objective: regression\n",
      "    metric: l2\n",
      "    verbosity: -1\n",
      "    feature_pre_filter: False\n",
      "    lambda_l1: 5.645963790278708e-07\n",
      "    lambda_l2: 0.003029337424980951\n",
      "    num_leaves: 31\n",
      "    feature_fraction: 0.7\n",
      "    bagging_fraction: 0.865593127468426\n",
      "    bagging_freq: 1\n",
      "    min_child_samples: 5\n"
     ]
    }
   ],
   "source": [
    "print(f\"Best score: {tuner.best_score}\")\n",
    "best_params = tuner.best_params\n",
    "print(\"Params: \")\n",
    "for key, value in best_params.items():\n",
    "    print(\"    {}: {}\".format(key, value))"
   ]
  },
  {
   "cell_type": "code",
   "execution_count": 88,
   "id": "ee599f57",
   "metadata": {},
   "outputs": [],
   "source": [
    "import lightgbm as lgb\n",
    "\n",
    "lgb_tuned = lgb.train(\n",
    "    best_params,\n",
    "    lgb_train,\n",
    "    num_boost_round=10000,\n",
    ")"
   ]
  },
  {
   "cell_type": "code",
   "execution_count": 89,
   "id": "f18b0204",
   "metadata": {},
   "outputs": [
    {
     "name": "stdout",
     "output_type": "stream",
     "text": [
      "RMSE train: 0.00\n",
      "RMSE test: 0.50\n",
      "MSE test: 0.25\n",
      "MAE test: 0.34\n",
      "\n"
     ]
    }
   ],
   "source": [
    "rmse, mse, mae = assess_regression_model(\n",
    "    lgb_tuned,\n",
    "    X_train_random_split,\n",
    "    X_test_random_split,\n",
    "    y_train_random_split,\n",
    "    y_test_random_split,\n",
    ")"
   ]
  },
  {
   "cell_type": "code",
   "execution_count": 90,
   "id": "13d87eed",
   "metadata": {},
   "outputs": [],
   "source": [
    "results.loc[3] = [\"random\", \"Optuna\", \"basic\", mse, rmse, mae]"
   ]
  },
  {
   "cell_type": "markdown",
   "id": "9d13b101",
   "metadata": {},
   "source": [
    "###### MAE by level"
   ]
  },
  {
   "cell_type": "code",
   "execution_count": 91,
   "id": "91591bcd",
   "metadata": {},
   "outputs": [
    {
     "data": {
      "image/png": "[encoded data removed]",
      "text/plain": [
       "<Figure size 720x432 with 1 Axes>"
      ]
     },
     "metadata": {
      "needs_background": "light"
     },
     "output_type": "display_data"
    }
   ],
   "source": [
    "plot_mae_by_level(\n",
    "    y_test_random_split,\n",
    "    y_pred_test,\n",
    "    title=\"MAE by level for tuned LightGBM with basic features and random split\",\n",
    ")"
   ]
  },
  {
   "cell_type": "code",
   "execution_count": 92,
   "id": "061d7eba",
   "metadata": {},
   "outputs": [
    {
     "name": "stdout",
     "output_type": "stream",
     "text": [
      "Normal:\n",
      "MSE: 0.12\n",
      "RMSE: 0.34\n",
      "\n",
      "Round type: round\n",
      "MSE: 0.14\n",
      "RMSE: 0.37\n",
      "\n",
      "Round type: 0.33\n",
      "MSE: 0.16\n",
      "RMSE: 0.40\n",
      "\n",
      "Round type: 0.45\n",
      "MSE: 0.14\n",
      "RMSE: 0.38\n",
      "\n"
     ]
    }
   ],
   "source": [
    "predict = lgb_tuned.predict(X_test)\n",
    "check_round_predictions([\"round\", 0.33, 0.45], y_test, predict)"
   ]
  },
  {
   "cell_type": "code",
   "execution_count": 93,
   "id": "9d56b725",
   "metadata": {},
   "outputs": [
    {
     "data": {
      "image/png": "[encoded data removed]",
      "text/plain": [
       "<Figure size 432x288 with 2 Axes>"
      ]
     },
     "metadata": {
      "needs_background": "light"
     },
     "output_type": "display_data"
    }
   ],
   "source": [
    "plot_confusion_matrix(\n",
    "    \"round\",\n",
    "    predict,\n",
    "    y_test,\n",
    "    title=\"Confusion matrix for tuned LightGBM with basic features and random split\",\n",
    ")"
   ]
  },
  {
   "cell_type": "markdown",
   "id": "ac941229",
   "metadata": {},
   "source": [
    "## Summary"
   ]
  },
  {
   "cell_type": "code",
   "execution_count": 94,
   "id": "90f5111f",
   "metadata": {
    "scrolled": true
   },
   "outputs": [
    {
     "data": {
      "text/html": [
       "<div>\n",
       "<style scoped>\n",
       "    .dataframe tbody tr th:only-of-type {\n",
       "        vertical-align: middle;\n",
       "    }\n",
       "\n",
       "    .dataframe tbody tr th {\n",
       "        vertical-align: top;\n",
       "    }\n",
       "\n",
       "    .dataframe thead th {\n",
       "        text-align: right;\n",
       "    }\n",
       "</style>\n",
       "<table border=\"1\" class=\"dataframe\">\n",
       "  <thead>\n",
       "    <tr style=\"text-align: right;\">\n",
       "      <th></th>\n",
       "      <th>Split type</th>\n",
       "      <th>Tuning type</th>\n",
       "      <th>Set of features</th>\n",
       "      <th>MSE</th>\n",
       "      <th>RMSE</th>\n",
       "      <th>MAE</th>\n",
       "    </tr>\n",
       "  </thead>\n",
       "  <tbody>\n",
       "    <tr>\n",
       "      <th>0</th>\n",
       "      <td>chronological</td>\n",
       "      <td>default</td>\n",
       "      <td>basic</td>\n",
       "      <td>0.447566</td>\n",
       "      <td>0.669004</td>\n",
       "      <td>0.467604</td>\n",
       "    </tr>\n",
       "    <tr>\n",
       "      <th>1</th>\n",
       "      <td>chronological</td>\n",
       "      <td>Optuna</td>\n",
       "      <td>basic</td>\n",
       "      <td>0.508115</td>\n",
       "      <td>0.712822</td>\n",
       "      <td>0.513761</td>\n",
       "    </tr>\n",
       "    <tr>\n",
       "      <th>2</th>\n",
       "      <td>random</td>\n",
       "      <td>default</td>\n",
       "      <td>basic</td>\n",
       "      <td>0.243018</td>\n",
       "      <td>0.492968</td>\n",
       "      <td>0.340495</td>\n",
       "    </tr>\n",
       "    <tr>\n",
       "      <th>3</th>\n",
       "      <td>random</td>\n",
       "      <td>Optuna</td>\n",
       "      <td>basic</td>\n",
       "      <td>0.254976</td>\n",
       "      <td>0.504952</td>\n",
       "      <td>0.335668</td>\n",
       "    </tr>\n",
       "  </tbody>\n",
       "</table>\n",
       "</div>"
      ],
      "text/plain": [
       "      Split type Tuning type Set of features       MSE      RMSE       MAE\n",
       "0  chronological     default           basic  0.447566  0.669004  0.467604\n",
       "1  chronological      Optuna           basic  0.508115  0.712822  0.513761\n",
       "2         random     default           basic  0.243018  0.492968  0.340495\n",
       "3         random      Optuna           basic  0.254976  0.504952  0.335668"
      ]
     },
     "execution_count": 94,
     "metadata": {},
     "output_type": "execute_result"
    }
   ],
   "source": [
    "results"
   ]
  },
  {
   "cell_type": "code",
   "execution_count": 95,
   "id": "492161ff",
   "metadata": {},
   "outputs": [],
   "source": [
    "from training.results import plot_summary"
   ]
  },
  {
   "cell_type": "code",
   "execution_count": 96,
   "id": "b44fe7c4",
   "metadata": {},
   "outputs": [
    {
     "data": {
      "image/png": "[encoded data removed]",
      "text/plain": [
       "<Figure size 1440x576 with 1 Axes>"
      ]
     },
     "metadata": {
      "needs_background": "light"
     },
     "output_type": "display_data"
    }
   ],
   "source": [
    "plot_summary(results, \"RMSE\", title=\"RMSE for LightGBM with basic features\")"
   ]
  },
  {
   "cell_type": "code",
   "execution_count": 97,
   "id": "d3509e28",
   "metadata": {},
   "outputs": [
    {
     "data": {
      "image/png": "[encoded data removed]",
      "text/plain": [
       "<Figure size 1440x576 with 1 Axes>"
      ]
     },
     "metadata": {
      "needs_background": "light"
     },
     "output_type": "display_data"
    }
   ],
   "source": [
    "plot_summary(results, \"MAE\", title=\"MAE for LightGBM with basic features\")"
   ]
  },
  {
   "cell_type": "code",
   "execution_count": null,
   "id": "a8ce3754",
   "metadata": {},
   "outputs": [],
   "source": []
  },
  {
   "cell_type": "code",
   "execution_count": 98,
   "id": "c714119e",
   "metadata": {},
   "outputs": [],
   "source": [
    "results.to_json(\"./lightgbm_basic_results.json\")"
   ]
  }
 ],
 "metadata": {
  "kernelspec": {
   "display_name": "Python 3 (ipykernel)",
   "language": "python",
   "name": "python3"
  },
  "language_info": {
   "codemirror_mode": {
    "name": "ipython",
    "version": 3
   },
   "file_extension": ".py",
   "mimetype": "text/x-python",
   "name": "python",
   "nbconvert_exporter": "python",
   "pygments_lexer": "ipython3",
   "version": "3.10.4"
  }
 },
 "nbformat": 4,
 "nbformat_minor": 5
}
