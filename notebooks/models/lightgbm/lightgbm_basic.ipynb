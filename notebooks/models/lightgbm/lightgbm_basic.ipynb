{
 "cells": [
  {
   "cell_type": "markdown",
   "id": "f64a671f",
   "metadata": {},
   "source": [
    "# LightGBM\n",
    "### Parameters:\n",
    "* **abilities**:\n",
    "    * **cha**\n",
    "    * **con**\n",
    "    * **dex**\n",
    "    * **int**\n",
    "    * **str**\n",
    "    * **wis**\n",
    "* **attributes**\n",
    "    * **hp**\n",
    "    * **ac**\n",
    "\n",
    "### Prediction: *level*\n",
    "\n",
    "## Loading data"
   ]
  },
  {
   "cell_type": "code",
   "execution_count": 98,
   "id": "1f2515e7",
   "metadata": {},
   "outputs": [],
   "source": [
    "import numpy as np\n",
    "import pandas as pd\n",
    "import sys\n",
    "\n",
    "import os\n",
    "import pathlib\n",
    "\n",
    "sys.path.append(\"../../..\")\n",
    "from training.creating_dataset import load_and_preprocess_data\n",
    "\n",
    "current_path = os.getcwd()\n",
    "DATASETS_DIR = pathlib.Path(current_path).parent.parent.parent / \"pathfinder_2e_data\"\n",
    "DATASET_FILES = [\n",
    "    \"pathfinder-bestiary.db\",\n",
    "    \"pathfinder-bestiary-2.db\",\n",
    "    \"pathfinder-bestiary-3.db\",\n",
    "]\n",
    "DATASET_PATHS = [f\"{DATASETS_DIR}/{file}\" for file in DATASET_FILES]\n",
    "characteristics = [\n",
    "    \"cha\",\n",
    "    \"con\",\n",
    "    \"dex\",\n",
    "    \"int\",\n",
    "    \"str\",\n",
    "    \"wis\",\n",
    "    \"ac\",\n",
    "    \"hp\",\n",
    "]\n",
    "\n",
    "df = load_and_preprocess_data(\n",
    "    DATASET_PATHS,\n",
    "    characteristics=characteristics,\n",
    ")"
   ]
  },
  {
   "cell_type": "code",
   "execution_count": 99,
   "id": "b522f880",
   "metadata": {},
   "outputs": [
    {
     "name": "stdout",
     "output_type": "stream",
     "text": [
      "<class 'pandas.core.frame.DataFrame'>\n",
      "Int64Index: 1206 entries, 0 to 1205\n",
      "Data columns (total 10 columns):\n",
      " #   Column  Non-Null Count  Dtype \n",
      "---  ------  --------------  ----- \n",
      " 0   ac      1206 non-null   int64 \n",
      " 1   con     1206 non-null   int64 \n",
      " 2   book    1206 non-null   object\n",
      " 3   dex     1206 non-null   int64 \n",
      " 4   hp      1206 non-null   int64 \n",
      " 5   cha     1206 non-null   int64 \n",
      " 6   level   1206 non-null   int64 \n",
      " 7   str     1206 non-null   int64 \n",
      " 8   int     1206 non-null   int64 \n",
      " 9   wis     1206 non-null   int64 \n",
      "dtypes: int64(9), object(1)\n",
      "memory usage: 103.6+ KB\n"
     ]
    }
   ],
   "source": [
    "df.info()"
   ]
  },
  {
   "cell_type": "code",
   "execution_count": 100,
   "id": "1b5450d3",
   "metadata": {},
   "outputs": [
    {
     "data": {
      "text/html": [
       "<div>\n",
       "<style scoped>\n",
       "    .dataframe tbody tr th:only-of-type {\n",
       "        vertical-align: middle;\n",
       "    }\n",
       "\n",
       "    .dataframe tbody tr th {\n",
       "        vertical-align: top;\n",
       "    }\n",
       "\n",
       "    .dataframe thead th {\n",
       "        text-align: right;\n",
       "    }\n",
       "</style>\n",
       "<table border=\"1\" class=\"dataframe\">\n",
       "  <thead>\n",
       "    <tr style=\"text-align: right;\">\n",
       "      <th></th>\n",
       "      <th>ac</th>\n",
       "      <th>con</th>\n",
       "      <th>book</th>\n",
       "      <th>dex</th>\n",
       "      <th>hp</th>\n",
       "      <th>cha</th>\n",
       "      <th>level</th>\n",
       "      <th>str</th>\n",
       "      <th>int</th>\n",
       "      <th>wis</th>\n",
       "    </tr>\n",
       "  </thead>\n",
       "  <tbody>\n",
       "    <tr>\n",
       "      <th>0</th>\n",
       "      <td>29</td>\n",
       "      <td>5</td>\n",
       "      <td>Pathfinder Bestiary</td>\n",
       "      <td>2</td>\n",
       "      <td>215</td>\n",
       "      <td>1</td>\n",
       "      <td>10</td>\n",
       "      <td>7</td>\n",
       "      <td>1</td>\n",
       "      <td>2</td>\n",
       "    </tr>\n",
       "    <tr>\n",
       "      <th>1</th>\n",
       "      <td>28</td>\n",
       "      <td>5</td>\n",
       "      <td>Pathfinder Bestiary</td>\n",
       "      <td>0</td>\n",
       "      <td>220</td>\n",
       "      <td>1</td>\n",
       "      <td>10</td>\n",
       "      <td>9</td>\n",
       "      <td>-4</td>\n",
       "      <td>2</td>\n",
       "    </tr>\n",
       "    <tr>\n",
       "      <th>2</th>\n",
       "      <td>25</td>\n",
       "      <td>6</td>\n",
       "      <td>Pathfinder Bestiary</td>\n",
       "      <td>3</td>\n",
       "      <td>175</td>\n",
       "      <td>-2</td>\n",
       "      <td>8</td>\n",
       "      <td>7</td>\n",
       "      <td>-4</td>\n",
       "      <td>3</td>\n",
       "    </tr>\n",
       "    <tr>\n",
       "      <th>3</th>\n",
       "      <td>41</td>\n",
       "      <td>5</td>\n",
       "      <td>Pathfinder Bestiary</td>\n",
       "      <td>4</td>\n",
       "      <td>315</td>\n",
       "      <td>6</td>\n",
       "      <td>17</td>\n",
       "      <td>7</td>\n",
       "      <td>6</td>\n",
       "      <td>5</td>\n",
       "    </tr>\n",
       "    <tr>\n",
       "      <th>4</th>\n",
       "      <td>16</td>\n",
       "      <td>1</td>\n",
       "      <td>Pathfinder Bestiary</td>\n",
       "      <td>3</td>\n",
       "      <td>20</td>\n",
       "      <td>1</td>\n",
       "      <td>1</td>\n",
       "      <td>-5</td>\n",
       "      <td>-1</td>\n",
       "      <td>1</td>\n",
       "    </tr>\n",
       "  </tbody>\n",
       "</table>\n",
       "</div>"
      ],
      "text/plain": [
       "   ac  con                 book  dex   hp  cha  level  str  int  wis\n",
       "0  29    5  Pathfinder Bestiary    2  215    1     10    7    1    2\n",
       "1  28    5  Pathfinder Bestiary    0  220    1     10    9   -4    2\n",
       "2  25    6  Pathfinder Bestiary    3  175   -2      8    7   -4    3\n",
       "3  41    5  Pathfinder Bestiary    4  315    6     17    7    6    5\n",
       "4  16    1  Pathfinder Bestiary    3   20    1      1   -5   -1    1"
      ]
     },
     "execution_count": 100,
     "metadata": {},
     "output_type": "execute_result"
    }
   ],
   "source": [
    "df.head()"
   ]
  },
  {
   "cell_type": "markdown",
   "id": "0caa661f",
   "metadata": {},
   "source": [
    "###### Level"
   ]
  },
  {
   "cell_type": "code",
   "execution_count": 101,
   "id": "c200d2b4",
   "metadata": {},
   "outputs": [
    {
     "data": {
      "text/plain": [
       "0       10\n",
       "1       10\n",
       "2        8\n",
       "3       17\n",
       "4        1\n",
       "        ..\n",
       "1201    20\n",
       "1202    -1\n",
       "1203    12\n",
       "1204     6\n",
       "1205     6\n",
       "Name: level, Length: 1206, dtype: int64"
      ]
     },
     "execution_count": 101,
     "metadata": {},
     "output_type": "execute_result"
    }
   ],
   "source": [
    "y = df[\"level\"]\n",
    "y"
   ]
  },
  {
   "cell_type": "code",
   "execution_count": 102,
   "id": "553822a7",
   "metadata": {},
   "outputs": [],
   "source": [
    "from collections import defaultdict\n",
    "\n",
    "\n",
    "lvl_stat = defaultdict(lambda: 0)\n",
    "\n",
    "for lvl in y:\n",
    "    lvl_stat[lvl] += 1"
   ]
  },
  {
   "cell_type": "code",
   "execution_count": 103,
   "id": "e45d6c29",
   "metadata": {},
   "outputs": [
    {
     "data": {
      "text/html": [
       "<div>\n",
       "<style scoped>\n",
       "    .dataframe tbody tr th:only-of-type {\n",
       "        vertical-align: middle;\n",
       "    }\n",
       "\n",
       "    .dataframe tbody tr th {\n",
       "        vertical-align: top;\n",
       "    }\n",
       "\n",
       "    .dataframe thead th {\n",
       "        text-align: right;\n",
       "    }\n",
       "</style>\n",
       "<table border=\"1\" class=\"dataframe\">\n",
       "  <thead>\n",
       "    <tr style=\"text-align: right;\">\n",
       "      <th></th>\n",
       "      <th>lvl</th>\n",
       "      <th>count</th>\n",
       "    </tr>\n",
       "  </thead>\n",
       "  <tbody>\n",
       "    <tr>\n",
       "      <th>0</th>\n",
       "      <td>-1</td>\n",
       "      <td>34</td>\n",
       "    </tr>\n",
       "    <tr>\n",
       "      <th>1</th>\n",
       "      <td>0</td>\n",
       "      <td>27</td>\n",
       "    </tr>\n",
       "    <tr>\n",
       "      <th>2</th>\n",
       "      <td>1</td>\n",
       "      <td>127</td>\n",
       "    </tr>\n",
       "    <tr>\n",
       "      <th>3</th>\n",
       "      <td>2</td>\n",
       "      <td>121</td>\n",
       "    </tr>\n",
       "    <tr>\n",
       "      <th>4</th>\n",
       "      <td>3</td>\n",
       "      <td>95</td>\n",
       "    </tr>\n",
       "    <tr>\n",
       "      <th>5</th>\n",
       "      <td>4</td>\n",
       "      <td>82</td>\n",
       "    </tr>\n",
       "    <tr>\n",
       "      <th>6</th>\n",
       "      <td>5</td>\n",
       "      <td>76</td>\n",
       "    </tr>\n",
       "    <tr>\n",
       "      <th>7</th>\n",
       "      <td>6</td>\n",
       "      <td>72</td>\n",
       "    </tr>\n",
       "    <tr>\n",
       "      <th>8</th>\n",
       "      <td>7</td>\n",
       "      <td>77</td>\n",
       "    </tr>\n",
       "    <tr>\n",
       "      <th>9</th>\n",
       "      <td>8</td>\n",
       "      <td>68</td>\n",
       "    </tr>\n",
       "    <tr>\n",
       "      <th>10</th>\n",
       "      <td>9</td>\n",
       "      <td>63</td>\n",
       "    </tr>\n",
       "    <tr>\n",
       "      <th>11</th>\n",
       "      <td>10</td>\n",
       "      <td>58</td>\n",
       "    </tr>\n",
       "    <tr>\n",
       "      <th>12</th>\n",
       "      <td>11</td>\n",
       "      <td>40</td>\n",
       "    </tr>\n",
       "    <tr>\n",
       "      <th>13</th>\n",
       "      <td>12</td>\n",
       "      <td>41</td>\n",
       "    </tr>\n",
       "    <tr>\n",
       "      <th>14</th>\n",
       "      <td>13</td>\n",
       "      <td>36</td>\n",
       "    </tr>\n",
       "    <tr>\n",
       "      <th>15</th>\n",
       "      <td>14</td>\n",
       "      <td>33</td>\n",
       "    </tr>\n",
       "    <tr>\n",
       "      <th>16</th>\n",
       "      <td>15</td>\n",
       "      <td>31</td>\n",
       "    </tr>\n",
       "    <tr>\n",
       "      <th>17</th>\n",
       "      <td>16</td>\n",
       "      <td>25</td>\n",
       "    </tr>\n",
       "    <tr>\n",
       "      <th>18</th>\n",
       "      <td>17</td>\n",
       "      <td>21</td>\n",
       "    </tr>\n",
       "    <tr>\n",
       "      <th>19</th>\n",
       "      <td>18</td>\n",
       "      <td>21</td>\n",
       "    </tr>\n",
       "    <tr>\n",
       "      <th>20</th>\n",
       "      <td>19</td>\n",
       "      <td>18</td>\n",
       "    </tr>\n",
       "    <tr>\n",
       "      <th>21</th>\n",
       "      <td>20</td>\n",
       "      <td>24</td>\n",
       "    </tr>\n",
       "    <tr>\n",
       "      <th>22</th>\n",
       "      <td>21</td>\n",
       "      <td>16</td>\n",
       "    </tr>\n",
       "  </tbody>\n",
       "</table>\n",
       "</div>"
      ],
      "text/plain": [
       "    lvl  count\n",
       "0    -1     34\n",
       "1     0     27\n",
       "2     1    127\n",
       "3     2    121\n",
       "4     3     95\n",
       "5     4     82\n",
       "6     5     76\n",
       "7     6     72\n",
       "8     7     77\n",
       "9     8     68\n",
       "10    9     63\n",
       "11   10     58\n",
       "12   11     40\n",
       "13   12     41\n",
       "14   13     36\n",
       "15   14     33\n",
       "16   15     31\n",
       "17   16     25\n",
       "18   17     21\n",
       "19   18     21\n",
       "20   19     18\n",
       "21   20     24\n",
       "22   21     16"
      ]
     },
     "execution_count": 103,
     "metadata": {},
     "output_type": "execute_result"
    }
   ],
   "source": [
    "level_count = pd.DataFrame(\n",
    "    data={\n",
    "        \"lvl\": [key for key in sorted(lvl_stat.keys())],\n",
    "        \"count\": [lvl_stat.get(key) for key in sorted(lvl_stat.keys())],\n",
    "    }\n",
    ")\n",
    "level_count"
   ]
  },
  {
   "cell_type": "code",
   "execution_count": 104,
   "id": "bdbfe8de",
   "metadata": {},
   "outputs": [
    {
     "data": {
      "image/png": "[encoded data removed]",
      "text/plain": [
       "<Figure size 432x288 with 1 Axes>"
      ]
     },
     "metadata": {
      "needs_background": "light"
     },
     "output_type": "display_data"
    }
   ],
   "source": [
    "import matplotlib.pyplot as plt\n",
    "\n",
    "\n",
    "level_count.plot.bar(x=\"lvl\", y=\"count\", title=\"Count of levels\")\n",
    "plt.show()"
   ]
  },
  {
   "cell_type": "markdown",
   "id": "9fdb6541",
   "metadata": {},
   "source": [
    "## Train test split"
   ]
  },
  {
   "cell_type": "markdown",
   "id": "18f56629",
   "metadata": {},
   "source": [
    "### Chronological split"
   ]
  },
  {
   "cell_type": "code",
   "execution_count": 105,
   "id": "dcda359b",
   "metadata": {},
   "outputs": [],
   "source": [
    "from training.splitting_dataset import split_dataframe\n",
    "\n",
    "\n",
    "os.chdir(\"../../../training\")\n",
    "X_train, X_test, y_train, y_test = split_dataframe(df, test_size=0.31)\n",
    "os.chdir(\"../notebooks/models/lightgbm\")"
   ]
  },
  {
   "cell_type": "code",
   "execution_count": 106,
   "id": "17dbc875",
   "metadata": {},
   "outputs": [],
   "source": [
    "X_train = X_train.drop(columns=[\"book\"])\n",
    "X_test = X_test.drop(columns=[\"book\"])"
   ]
  },
  {
   "cell_type": "markdown",
   "id": "25879636",
   "metadata": {},
   "source": [
    "### Random split"
   ]
  },
  {
   "cell_type": "code",
   "execution_count": 107,
   "id": "982ec5eb",
   "metadata": {},
   "outputs": [],
   "source": [
    "(\n",
    "    X_train_random_split,\n",
    "    X_test_random_split,\n",
    "    y_train_random_split,\n",
    "    y_test_random_split,\n",
    ") = split_dataframe(df, chronological_split=False)"
   ]
  },
  {
   "cell_type": "code",
   "execution_count": 108,
   "id": "90569e78",
   "metadata": {},
   "outputs": [],
   "source": [
    "X_train_random_split = X_train_random_split.drop(columns=[\"book\"])\n",
    "X_test_random_split = X_test_random_split.drop(columns=[\"book\"])"
   ]
  },
  {
   "cell_type": "markdown",
   "id": "9b259fbf",
   "metadata": {},
   "source": [
    "## LightGBM"
   ]
  },
  {
   "cell_type": "markdown",
   "id": "14f37d9b",
   "metadata": {},
   "source": [
    "## Chronological split"
   ]
  },
  {
   "cell_type": "code",
   "execution_count": 109,
   "id": "2bc4c90e",
   "metadata": {},
   "outputs": [
    {
     "name": "stdout",
     "output_type": "stream",
     "text": [
      "[LightGBM] [Warning] Auto-choosing row-wise multi-threading, the overhead of testing was 0.000066 seconds.\n",
      "You can set `force_row_wise=true` to remove the overhead.\n",
      "And if memory is not enough, you can set `force_col_wise=true`.\n",
      "[LightGBM] [Info] Total Bins 224\n",
      "[LightGBM] [Info] Number of data points in the train set: 841, number of used features: 8\n",
      "[LightGBM] [Info] Start training from score 6.966706\n",
      "Training until validation scores don't improve for 5 rounds\n",
      "[LightGBM] [Warning] No further splits with positive gain, best gain: -inf\n",
      "[LightGBM] [Warning] No further splits with positive gain, best gain: -inf\n",
      "[LightGBM] [Warning] No further splits with positive gain, best gain: -inf\n",
      "[LightGBM] [Warning] No further splits with positive gain, best gain: -inf\n",
      "[LightGBM] [Warning] No further splits with positive gain, best gain: -inf\n",
      "[LightGBM] [Warning] No further splits with positive gain, best gain: -inf\n",
      "[LightGBM] [Warning] No further splits with positive gain, best gain: -inf\n",
      "[LightGBM] [Warning] No further splits with positive gain, best gain: -inf\n",
      "[LightGBM] [Warning] No further splits with positive gain, best gain: -inf\n",
      "[LightGBM] [Warning] No further splits with positive gain, best gain: -inf\n",
      "[LightGBM] [Warning] No further splits with positive gain, best gain: -inf\n",
      "[LightGBM] [Warning] No further splits with positive gain, best gain: -inf\n",
      "Early stopping, best iteration is:\n",
      "[48]\tvalid_0's l2: 0.447566\tvalid_0's l1: 0.467604\n"
     ]
    }
   ],
   "source": [
    "import lightgbm as lgb\n",
    "\n",
    "lgb_train = lgb.Dataset(X_train, y_train)\n",
    "lgb_eval = lgb.Dataset(X_test, y_test, reference=lgb_train)\n",
    "\n",
    "params = {\n",
    "    \"boosting_type\": \"gbdt\",\n",
    "    \"objective\": \"regression\",\n",
    "    \"metric\": {\"l2\", \"l1\"},\n",
    "}\n",
    "\n",
    "gbm = lgb.train(\n",
    "    params,\n",
    "    lgb_train,\n",
    "    num_boost_round=100,\n",
    "    valid_sets=lgb_eval,\n",
    "    callbacks=[lgb.early_stopping(stopping_rounds=5)],\n",
    ")"
   ]
  },
  {
   "cell_type": "code",
   "execution_count": 110,
   "id": "f1ae2eaa",
   "metadata": {},
   "outputs": [],
   "source": [
    "y_pred_train = gbm.predict(X_train, num_iteration=gbm.best_iteration)\n",
    "y_pred_test = gbm.predict(X_test, num_iteration=gbm.best_iteration)"
   ]
  },
  {
   "cell_type": "code",
   "execution_count": 111,
   "id": "ef9d09eb",
   "metadata": {},
   "outputs": [
    {
     "name": "stdout",
     "output_type": "stream",
     "text": [
      "MSE: 0.45\n",
      "RMSE: 0.67\n",
      "MAE: 0.47\n"
     ]
    }
   ],
   "source": [
    "from sklearn.metrics import mean_squared_error, mean_absolute_error\n",
    "\n",
    "\n",
    "mse = mean_squared_error(y_test, y_pred_test)\n",
    "rmse = mean_squared_error(y_test, y_pred_test, squared=False)\n",
    "mae = mean_absolute_error(y_test, y_pred_test)\n",
    "\n",
    "print(f\"MSE: {mse:.2f}\")\n",
    "print(f\"RMSE: {rmse:.2f}\")\n",
    "print(f\"MAE: {mae:.2f}\")"
   ]
  },
  {
   "cell_type": "code",
   "execution_count": 112,
   "id": "6e288d53",
   "metadata": {},
   "outputs": [],
   "source": [
    "results = pd.DataFrame(\n",
    "    data={\n",
    "        \"Split type\": [],\n",
    "        \"Tuning type\": [],\n",
    "        \"Number of characteristics\": [],\n",
    "        \"MSE\": [],\n",
    "        \"RMSE\": [],\n",
    "        \"MAE\": [],\n",
    "    }\n",
    ")\n",
    "\n",
    "results.loc[0] = [\"chronological\", \"normal\", len(X_test.columns), mse, rmse, mae]"
   ]
  },
  {
   "cell_type": "code",
   "execution_count": 113,
   "id": "78bb7ffa",
   "metadata": {},
   "outputs": [
    {
     "name": "stdout",
     "output_type": "stream",
     "text": [
      "RMSE train: 0.31\n",
      "RMSE test: 0.67\n"
     ]
    }
   ],
   "source": [
    "rmse_train = mean_squared_error(y_train, y_pred_train, squared=False)\n",
    "rmse_test = mean_squared_error(y_test, y_pred_test, squared=False)\n",
    "print(f\"RMSE train: {rmse_train:.2f}\")\n",
    "print(f\"RMSE test: {rmse_test:.2f}\")"
   ]
  },
  {
   "cell_type": "markdown",
   "id": "4435f236",
   "metadata": {},
   "source": [
    "###### MAE by level"
   ]
  },
  {
   "cell_type": "code",
   "execution_count": 114,
   "id": "f3b4086b",
   "metadata": {},
   "outputs": [],
   "source": [
    "from training.results import plot_mae_by_level"
   ]
  },
  {
   "cell_type": "code",
   "execution_count": 115,
   "id": "e3ecad89",
   "metadata": {
    "scrolled": false
   },
   "outputs": [
    {
     "data": {
      "image/png": "[encoded data removed]",
      "text/plain": [
       "<Figure size 720x432 with 1 Axes>"
      ]
     },
     "metadata": {
      "needs_background": "light"
     },
     "output_type": "display_data"
    }
   ],
   "source": [
    "plot_mae_by_level(y_test, y_pred_test)"
   ]
  },
  {
   "cell_type": "code",
   "execution_count": 116,
   "id": "ec8cab49",
   "metadata": {
    "scrolled": true
   },
   "outputs": [
    {
     "name": "stdout",
     "output_type": "stream",
     "text": [
      "Normal:\n",
      "MSE: 0.45\n",
      "RMSE: 0.67\n",
      "\n",
      "Round type: round\n",
      "MSE: 0.50\n",
      "RMSE: 0.71\n",
      "\n",
      "Round type: 0.33\n",
      "MSE: 0.50\n",
      "RMSE: 0.71\n",
      "\n",
      "Round type: 0.45\n",
      "MSE: 0.48\n",
      "RMSE: 0.70\n",
      "\n"
     ]
    }
   ],
   "source": [
    "from training.results import check_round_predictions, plot_confusion_matrix\n",
    "\n",
    "\n",
    "check_round_predictions([\"round\", 0.33, 0.45], y_test, y_pred_test)"
   ]
  },
  {
   "cell_type": "code",
   "execution_count": 117,
   "id": "9129a0ae",
   "metadata": {},
   "outputs": [
    {
     "data": {
      "image/png": "[encoded data removed]",
      "text/plain": [
       "<Figure size 432x288 with 2 Axes>"
      ]
     },
     "metadata": {
      "needs_background": "light"
     },
     "output_type": "display_data"
    }
   ],
   "source": [
    "plot_confusion_matrix(\"round\", y_pred_test, y_test)"
   ]
  },
  {
   "cell_type": "markdown",
   "id": "aaaf3023",
   "metadata": {},
   "source": [
    "#### Tuning"
   ]
  },
  {
   "cell_type": "code",
   "execution_count": 118,
   "id": "cbd24f9f",
   "metadata": {},
   "outputs": [],
   "source": [
    "from training.results import assess_regression_model"
   ]
  },
  {
   "cell_type": "code",
   "execution_count": 119,
   "id": "10854460",
   "metadata": {},
   "outputs": [
    {
     "name": "stderr",
     "output_type": "stream",
     "text": [
      "[I 2023-11-04 13:49:45,379] A new study created in memory with name: no-name-1b30da29-8db5-45c0-a6c7-3e6da43ec25e\n",
      "feature_fraction, val_score: inf:   0%|                                                          | 0/7 [00:00<?, ?it/s]"
     ]
    },
    {
     "name": "stdout",
     "output_type": "stream",
     "text": [
      "Training until validation scores don't improve for 100 rounds\n",
      "[100]\tcv_agg's l2: 0.230632 + 0.0307953\n",
      "[200]\tcv_agg's l2: 0.22273 + 0.0331115\n",
      "[300]\tcv_agg's l2: 0.221132 + 0.0345973\n"
     ]
    },
    {
     "name": "stderr",
     "output_type": "stream",
     "text": [
      "\r",
      "feature_fraction, val_score: 0.220372:   0%|                                                     | 0/7 [00:01<?, ?it/s]"
     ]
    },
    {
     "name": "stdout",
     "output_type": "stream",
     "text": [
      "[400]\tcv_agg's l2: 0.220698 + 0.0351435\n",
      "Early stopping, best iteration is:\n",
      "[355]\tcv_agg's l2: 0.220372 + 0.034704\n"
     ]
    },
    {
     "name": "stderr",
     "output_type": "stream",
     "text": [
      "feature_fraction, val_score: 0.220372:  14%|######4                                      | 1/7 [00:01<00:10,  1.75s/it][I 2023-11-04 13:49:47,139] Trial 0 finished with value: 0.22037228118977334 and parameters: {'feature_fraction': 0.7}. Best is trial 0 with value: 0.22037228118977334.\n",
      "feature_fraction, val_score: 0.220372:  14%|######4                                      | 1/7 [00:01<00:10,  1.75s/it]"
     ]
    },
    {
     "name": "stdout",
     "output_type": "stream",
     "text": [
      "[100]\tcv_agg's l2: 0.230956 + 0.0449724\n",
      "[200]\tcv_agg's l2: 0.22657 + 0.0421082\n",
      "[300]\tcv_agg's l2: 0.227534 + 0.0415727\n"
     ]
    },
    {
     "name": "stderr",
     "output_type": "stream",
     "text": [
      "feature_fraction, val_score: 0.220372:  29%|############8                                | 2/7 [00:03<00:08,  1.70s/it][I 2023-11-04 13:49:48,800] Trial 1 finished with value: 0.22792490256245784 and parameters: {'feature_fraction': 0.8999999999999999}. Best is trial 0 with value: 0.22037228118977334.\n",
      "feature_fraction, val_score: 0.220372:  29%|############8                                | 2/7 [00:03<00:08,  1.70s/it]"
     ]
    },
    {
     "name": "stdout",
     "output_type": "stream",
     "text": [
      "[400]\tcv_agg's l2: 0.228548 + 0.0429126\n",
      "Early stopping, best iteration is:\n",
      "[355]\tcv_agg's l2: 0.220372 + 0.034704\n",
      "[100]\tcv_agg's l2: 0.234102 + 0.0514901\n",
      "[200]\tcv_agg's l2: 0.232555 + 0.0495999\n",
      "[300]\tcv_agg's l2: 0.234555 + 0.0509719\n"
     ]
    },
    {
     "name": "stderr",
     "output_type": "stream",
     "text": [
      "\r",
      "feature_fraction, val_score: 0.220372:  29%|############8                                | 2/7 [00:04<00:08,  1.70s/it]"
     ]
    },
    {
     "name": "stdout",
     "output_type": "stream",
     "text": [
      "[400]\tcv_agg's l2: 0.238087 + 0.0528755\n",
      "Early stopping, best iteration is:\n",
      "[355]\tcv_agg's l2: 0.220372 + 0.034704\n"
     ]
    },
    {
     "name": "stderr",
     "output_type": "stream",
     "text": [
      "feature_fraction, val_score: 0.220372:  43%|###################2                         | 3/7 [00:04<00:06,  1.62s/it][I 2023-11-04 13:49:50,329] Trial 2 finished with value: 0.2361041297640003 and parameters: {'feature_fraction': 1.0}. Best is trial 0 with value: 0.22037228118977334.\n",
      "feature_fraction, val_score: 0.220372:  43%|###################2                         | 3/7 [00:04<00:06,  1.62s/it]"
     ]
    },
    {
     "name": "stdout",
     "output_type": "stream",
     "text": [
      "[100]\tcv_agg's l2: 0.239717 + 0.0306885\n",
      "[200]\tcv_agg's l2: 0.226874 + 0.0336493\n",
      "[300]\tcv_agg's l2: 0.225727 + 0.0345733\n"
     ]
    },
    {
     "name": "stderr",
     "output_type": "stream",
     "text": [
      "feature_fraction, val_score: 0.220372:  57%|#########################7                   | 4/7 [00:06<00:04,  1.61s/it][I 2023-11-04 13:49:51,911] Trial 3 finished with value: 0.22578457607405253 and parameters: {'feature_fraction': 0.6}. Best is trial 0 with value: 0.22037228118977334.\n"
     ]
    },
    {
     "name": "stdout",
     "output_type": "stream",
     "text": [
      "[400]\tcv_agg's l2: 0.22627 + 0.0364027\n",
      "Early stopping, best iteration is:\n",
      "[355]\tcv_agg's l2: 0.220372 + 0.034704\n"
     ]
    },
    {
     "name": "stderr",
     "output_type": "stream",
     "text": [
      "\r",
      "feature_fraction, val_score: 0.220372:  57%|#########################7                   | 4/7 [00:06<00:04,  1.61s/it]"
     ]
    },
    {
     "name": "stdout",
     "output_type": "stream",
     "text": [
      "[100]\tcv_agg's l2: 0.230632 + 0.0307953\n",
      "[200]\tcv_agg's l2: 0.22273 + 0.0331115\n",
      "[300]\tcv_agg's l2: 0.221132 + 0.0345973\n"
     ]
    },
    {
     "name": "stderr",
     "output_type": "stream",
     "text": [
      "feature_fraction, val_score: 0.220372:  71%|################################1            | 5/7 [00:07<00:02,  1.50s/it][I 2023-11-04 13:49:53,209] Trial 4 finished with value: 0.22037228118977334 and parameters: {'feature_fraction': 0.8}. Best is trial 0 with value: 0.22037228118977334.\n",
      "feature_fraction, val_score: 0.220372:  71%|################################1            | 5/7 [00:07<00:02,  1.50s/it]"
     ]
    },
    {
     "name": "stdout",
     "output_type": "stream",
     "text": [
      "[400]\tcv_agg's l2: 0.220698 + 0.0351435\n",
      "Early stopping, best iteration is:\n",
      "[355]\tcv_agg's l2: 0.220372 + 0.034704\n",
      "[100]\tcv_agg's l2: 0.312587 + 0.0674292\n",
      "[200]\tcv_agg's l2: 0.275573 + 0.0601152\n",
      "[300]\tcv_agg's l2: 0.262959 + 0.057129\n"
     ]
    },
    {
     "name": "stderr",
     "output_type": "stream",
     "text": [
      "feature_fraction, val_score: 0.220372:  86%|######################################5      | 6/7 [00:09<00:01,  1.41s/it][I 2023-11-04 13:49:54,454] Trial 5 finished with value: 0.25919927369252116 and parameters: {'feature_fraction': 0.4}. Best is trial 0 with value: 0.22037228118977334.\n",
      "feature_fraction, val_score: 0.220372:  86%|######################################5      | 6/7 [00:09<00:01,  1.41s/it]"
     ]
    },
    {
     "name": "stdout",
     "output_type": "stream",
     "text": [
      "[400]\tcv_agg's l2: 0.255333 + 0.0542105\n",
      "Early stopping, best iteration is:\n",
      "[355]\tcv_agg's l2: 0.220372 + 0.034704\n",
      "[100]\tcv_agg's l2: 0.291343 + 0.0614798\n",
      "[200]\tcv_agg's l2: 0.261769 + 0.0592493\n",
      "[300]\tcv_agg's l2: 0.254003 + 0.0576832\n"
     ]
    },
    {
     "name": "stderr",
     "output_type": "stream",
     "text": [
      "feature_fraction, val_score: 0.220372: 100%|#############################################| 7/7 [00:10<00:00,  1.41s/it][I 2023-11-04 13:49:55,874] Trial 6 finished with value: 0.25228958185186157 and parameters: {'feature_fraction': 0.5}. Best is trial 0 with value: 0.22037228118977334.\n",
      "feature_fraction, val_score: 0.220372: 100%|#############################################| 7/7 [00:10<00:00,  1.50s/it]\n"
     ]
    },
    {
     "name": "stdout",
     "output_type": "stream",
     "text": [
      "[400]\tcv_agg's l2: 0.251613 + 0.0560866\n",
      "Early stopping, best iteration is:\n",
      "[355]\tcv_agg's l2: 0.220372 + 0.034704\n"
     ]
    },
    {
     "name": "stderr",
     "output_type": "stream",
     "text": [
      "num_leaves, val_score: 0.220372:   0%|                                                          | 0/20 [00:00<?, ?it/s]"
     ]
    },
    {
     "name": "stdout",
     "output_type": "stream",
     "text": [
      "[100]\tcv_agg's l2: 0.230632 + 0.0307953\n",
      "[200]\tcv_agg's l2: 0.22273 + 0.0331115\n",
      "[300]\tcv_agg's l2: 0.221132 + 0.0345973\n"
     ]
    },
    {
     "name": "stderr",
     "output_type": "stream",
     "text": [
      "\r",
      "num_leaves, val_score: 0.220372:   0%|                                                          | 0/20 [00:01<?, ?it/s]"
     ]
    },
    {
     "name": "stdout",
     "output_type": "stream",
     "text": [
      "[400]\tcv_agg's l2: 0.220698 + 0.0351435\n",
      "Early stopping, best iteration is:\n",
      "[355]\tcv_agg's l2: 0.220372 + 0.034704\n"
     ]
    },
    {
     "name": "stderr",
     "output_type": "stream",
     "text": [
      "num_leaves, val_score: 0.220372:   5%|##5                                               | 1/20 [00:01<00:31,  1.66s/it][I 2023-11-04 13:49:57,540] Trial 7 finished with value: 0.22037228118977334 and parameters: {'num_leaves': 173}. Best is trial 7 with value: 0.22037228118977334.\n",
      "num_leaves, val_score: 0.220372:   5%|##5                                               | 1/20 [00:01<00:31,  1.66s/it]"
     ]
    },
    {
     "name": "stdout",
     "output_type": "stream",
     "text": [
      "[100]\tcv_agg's l2: 0.230632 + 0.0307953\n",
      "[200]\tcv_agg's l2: 0.22273 + 0.0331115\n",
      "[300]\tcv_agg's l2: 0.221132 + 0.0345973\n"
     ]
    },
    {
     "name": "stderr",
     "output_type": "stream",
     "text": [
      "num_leaves, val_score: 0.220372:  10%|#####                                             | 2/20 [00:03<00:27,  1.55s/it]"
     ]
    },
    {
     "name": "stdout",
     "output_type": "stream",
     "text": [
      "[400]\tcv_agg's l2: 0.220698 + 0.0351435\n",
      "Early stopping, best iteration is:\n",
      "[355]\tcv_agg's l2: 0.220372 + 0.034704\n"
     ]
    },
    {
     "name": "stderr",
     "output_type": "stream",
     "text": [
      "[I 2023-11-04 13:49:59,006] Trial 8 finished with value: 0.22037228118977334 and parameters: {'num_leaves': 207}. Best is trial 7 with value: 0.22037228118977334.\n",
      "num_leaves, val_score: 0.220372:  10%|#####                                             | 2/20 [00:03<00:27,  1.55s/it]"
     ]
    },
    {
     "name": "stdout",
     "output_type": "stream",
     "text": [
      "[100]\tcv_agg's l2: 0.230632 + 0.0307953\n",
      "[200]\tcv_agg's l2: 0.22273 + 0.0331115\n",
      "[300]\tcv_agg's l2: 0.221132 + 0.0345973\n"
     ]
    },
    {
     "name": "stderr",
     "output_type": "stream",
     "text": [
      "num_leaves, val_score: 0.220372:  15%|#######5                                          | 3/20 [00:04<00:25,  1.50s/it]"
     ]
    },
    {
     "name": "stdout",
     "output_type": "stream",
     "text": [
      "[400]\tcv_agg's l2: 0.220698 + 0.0351435\n",
      "Early stopping, best iteration is:\n",
      "[355]\tcv_agg's l2: 0.220372 + 0.034704\n"
     ]
    },
    {
     "name": "stderr",
     "output_type": "stream",
     "text": [
      "[I 2023-11-04 13:50:00,444] Trial 9 finished with value: 0.22037228118977334 and parameters: {'num_leaves': 158}. Best is trial 7 with value: 0.22037228118977334.\n",
      "num_leaves, val_score: 0.220372:  15%|#######5                                          | 3/20 [00:04<00:25,  1.50s/it]"
     ]
    },
    {
     "name": "stdout",
     "output_type": "stream",
     "text": [
      "[100]\tcv_agg's l2: 0.336303 + 0.0425351\n",
      "[200]\tcv_agg's l2: 0.311839 + 0.0426278\n",
      "[300]\tcv_agg's l2: 0.305977 + 0.0432176\n"
     ]
    },
    {
     "name": "stderr",
     "output_type": "stream",
     "text": [
      "num_leaves, val_score: 0.220372:  20%|##########                                        | 4/20 [00:04<00:16,  1.04s/it][I 2023-11-04 13:50:00,776] Trial 10 finished with value: 0.3039122682487385 and parameters: {'num_leaves': 2}. Best is trial 7 with value: 0.22037228118977334.\n",
      "num_leaves, val_score: 0.220372:  20%|##########                                        | 4/20 [00:04<00:16,  1.04s/it]"
     ]
    },
    {
     "name": "stdout",
     "output_type": "stream",
     "text": [
      "[400]\tcv_agg's l2: 0.302326 + 0.0438819\n",
      "Early stopping, best iteration is:\n",
      "[355]\tcv_agg's l2: 0.220372 + 0.034704\n",
      "[100]\tcv_agg's l2: 0.230632 + 0.0307953\n",
      "[200]\tcv_agg's l2: 0.22273 + 0.0331115\n",
      "[300]\tcv_agg's l2: 0.221132 + 0.0345973\n"
     ]
    },
    {
     "name": "stderr",
     "output_type": "stream",
     "text": [
      "num_leaves, val_score: 0.220372:  25%|############5                                     | 5/20 [00:06<00:17,  1.14s/it][I 2023-11-04 13:50:02,112] Trial 11 finished with value: 0.22037228118977334 and parameters: {'num_leaves': 46}. Best is trial 7 with value: 0.22037228118977334.\n",
      "num_leaves, val_score: 0.220372:  25%|############5                                     | 5/20 [00:06<00:17,  1.14s/it]"
     ]
    },
    {
     "name": "stdout",
     "output_type": "stream",
     "text": [
      "[400]\tcv_agg's l2: 0.220698 + 0.0351435\n",
      "Early stopping, best iteration is:\n",
      "[355]\tcv_agg's l2: 0.220372 + 0.034704\n",
      "[100]\tcv_agg's l2: 0.230632 + 0.0307953\n",
      "[200]\tcv_agg's l2: 0.22273 + 0.0331115\n",
      "[300]\tcv_agg's l2: 0.221132 + 0.0345973\n"
     ]
    },
    {
     "name": "stderr",
     "output_type": "stream",
     "text": [
      "\r",
      "num_leaves, val_score: 0.220372:  25%|############5                                     | 5/20 [00:07<00:17,  1.14s/it]"
     ]
    },
    {
     "name": "stdout",
     "output_type": "stream",
     "text": [
      "[400]\tcv_agg's l2: 0.220698 + 0.0351435\n",
      "Early stopping, best iteration is:\n",
      "[355]\tcv_agg's l2: 0.220372 + 0.034704\n"
     ]
    },
    {
     "name": "stderr",
     "output_type": "stream",
     "text": [
      "num_leaves, val_score: 0.220372:  30%|###############                                   | 6/20 [00:07<00:17,  1.25s/it][I 2023-11-04 13:50:03,578] Trial 12 finished with value: 0.22037228118977334 and parameters: {'num_leaves': 246}. Best is trial 7 with value: 0.22037228118977334.\n",
      "num_leaves, val_score: 0.220372:  30%|###############                                   | 6/20 [00:07<00:17,  1.25s/it]"
     ]
    },
    {
     "name": "stdout",
     "output_type": "stream",
     "text": [
      "[100]\tcv_agg's l2: 0.230632 + 0.0307953\n",
      "[200]\tcv_agg's l2: 0.22273 + 0.0331115\n",
      "[300]\tcv_agg's l2: 0.221132 + 0.0345973\n"
     ]
    },
    {
     "name": "stderr",
     "output_type": "stream",
     "text": [
      "num_leaves, val_score: 0.220372:  35%|#################5                                | 7/20 [00:09<00:16,  1.30s/it][I 2023-11-04 13:50:04,975] Trial 13 finished with value: 0.22037228118977334 and parameters: {'num_leaves': 95}. Best is trial 7 with value: 0.22037228118977334.\n",
      "num_leaves, val_score: 0.220372:  35%|#################5                                | 7/20 [00:09<00:16,  1.30s/it]"
     ]
    },
    {
     "name": "stdout",
     "output_type": "stream",
     "text": [
      "[400]\tcv_agg's l2: 0.220698 + 0.0351435\n",
      "Early stopping, best iteration is:\n",
      "[355]\tcv_agg's l2: 0.220372 + 0.034704\n",
      "[100]\tcv_agg's l2: 0.230632 + 0.0307953\n",
      "[200]\tcv_agg's l2: 0.22273 + 0.0331115\n",
      "[300]\tcv_agg's l2: 0.221132 + 0.0345973\n"
     ]
    },
    {
     "name": "stderr",
     "output_type": "stream",
     "text": [
      "\r",
      "num_leaves, val_score: 0.220372:  35%|#################5                                | 7/20 [00:10<00:16,  1.30s/it]"
     ]
    },
    {
     "name": "stdout",
     "output_type": "stream",
     "text": [
      "[400]\tcv_agg's l2: 0.220698 + 0.0351435\n",
      "Early stopping, best iteration is:\n",
      "[355]\tcv_agg's l2: 0.220372 + 0.034704\n"
     ]
    },
    {
     "name": "stderr",
     "output_type": "stream",
     "text": [
      "num_leaves, val_score: 0.220372:  40%|####################                              | 8/20 [00:10<00:15,  1.32s/it][I 2023-11-04 13:50:06,353] Trial 14 finished with value: 0.22037228118977334 and parameters: {'num_leaves': 98}. Best is trial 7 with value: 0.22037228118977334.\n",
      "num_leaves, val_score: 0.220372:  40%|####################                              | 8/20 [00:10<00:15,  1.32s/it]"
     ]
    },
    {
     "name": "stdout",
     "output_type": "stream",
     "text": [
      "[100]\tcv_agg's l2: 0.230632 + 0.0307953\n",
      "[200]\tcv_agg's l2: 0.22273 + 0.0331115\n",
      "[300]\tcv_agg's l2: 0.221132 + 0.0345973\n"
     ]
    },
    {
     "name": "stderr",
     "output_type": "stream",
     "text": [
      "num_leaves, val_score: 0.220372:  45%|######################5                           | 9/20 [00:11<00:15,  1.37s/it]"
     ]
    },
    {
     "name": "stdout",
     "output_type": "stream",
     "text": [
      "[400]\tcv_agg's l2: 0.220698 + 0.0351435\n",
      "Early stopping, best iteration is:\n",
      "[355]\tcv_agg's l2: 0.220372 + 0.034704\n"
     ]
    },
    {
     "name": "stderr",
     "output_type": "stream",
     "text": [
      "[I 2023-11-04 13:50:07,820] Trial 15 finished with value: 0.22037228118977334 and parameters: {'num_leaves': 245}. Best is trial 7 with value: 0.22037228118977334.\n",
      "num_leaves, val_score: 0.220372:  45%|######################5                           | 9/20 [00:11<00:15,  1.37s/it]"
     ]
    },
    {
     "name": "stdout",
     "output_type": "stream",
     "text": [
      "[100]\tcv_agg's l2: 0.249141 + 0.0372879\n",
      "[200]\tcv_agg's l2: 0.231544 + 0.0367404\n",
      "[300]\tcv_agg's l2: 0.225124 + 0.0336463\n",
      "[400]\tcv_agg's l2: 0.220919 + 0.0316425\n",
      "[500]\tcv_agg's l2: 0.218768 + 0.0318685\n",
      "[600]\tcv_agg's l2: 0.216763 + 0.0310282\n",
      "[700]\tcv_agg's l2: 0.216242 + 0.0322861\n",
      "[800]\tcv_agg's l2: 0.215332 + 0.0326991\n"
     ]
    },
    {
     "name": "stderr",
     "output_type": "stream",
     "text": [
      "\r",
      "num_leaves, val_score: 0.214273:  45%|######################5                           | 9/20 [00:13<00:15,  1.37s/it]"
     ]
    },
    {
     "name": "stdout",
     "output_type": "stream",
     "text": [
      "[900]\tcv_agg's l2: 0.214976 + 0.0333215\n",
      "[1000]\tcv_agg's l2: 0.214689 + 0.0340629\n",
      "Early stopping, best iteration is:\n",
      "[947]\tcv_agg's l2: 0.214273 + 0.0333399\n"
     ]
    },
    {
     "name": "stderr",
     "output_type": "stream",
     "text": [
      "num_leaves, val_score: 0.214273:  50%|########################5                        | 10/20 [00:13<00:13,  1.36s/it][I 2023-11-04 13:50:09,172] Trial 16 finished with value: 0.21427337096773735 and parameters: {'num_leaves': 7}. Best is trial 16 with value: 0.21427337096773735.\n",
      "num_leaves, val_score: 0.214273:  50%|########################5                        | 10/20 [00:13<00:13,  1.36s/it]"
     ]
    },
    {
     "name": "stdout",
     "output_type": "stream",
     "text": [
      "[100]\tcv_agg's l2: 0.249141 + 0.0372879\n",
      "[200]\tcv_agg's l2: 0.231544 + 0.0367404\n",
      "[300]\tcv_agg's l2: 0.225124 + 0.0336463\n",
      "[400]\tcv_agg's l2: 0.220919 + 0.0316425\n",
      "[500]\tcv_agg's l2: 0.218768 + 0.0318685\n",
      "[600]\tcv_agg's l2: 0.216763 + 0.0310282\n",
      "[700]\tcv_agg's l2: 0.216242 + 0.0322861\n",
      "[800]\tcv_agg's l2: 0.215332 + 0.0326991\n"
     ]
    },
    {
     "name": "stderr",
     "output_type": "stream",
     "text": [
      "\r",
      "num_leaves, val_score: 0.214273:  50%|########################5                        | 10/20 [00:14<00:13,  1.36s/it]"
     ]
    },
    {
     "name": "stdout",
     "output_type": "stream",
     "text": [
      "[900]\tcv_agg's l2: 0.214976 + 0.0333215\n",
      "[1000]\tcv_agg's l2: 0.214689 + 0.0340629\n",
      "Early stopping, best iteration is:\n",
      "[947]\tcv_agg's l2: 0.214273 + 0.0333399\n"
     ]
    },
    {
     "name": "stderr",
     "output_type": "stream",
     "text": [
      "num_leaves, val_score: 0.214273:  55%|##########################9                      | 11/20 [00:14<00:12,  1.35s/it][I 2023-11-04 13:50:10,483] Trial 17 finished with value: 0.21427337096773735 and parameters: {'num_leaves': 7}. Best is trial 16 with value: 0.21427337096773735.\n",
      "num_leaves, val_score: 0.214273:  55%|##########################9                      | 11/20 [00:14<00:12,  1.35s/it]"
     ]
    },
    {
     "name": "stdout",
     "output_type": "stream",
     "text": [
      "[100]\tcv_agg's l2: 0.336303 + 0.0425351\n",
      "[200]\tcv_agg's l2: 0.311839 + 0.0426278\n",
      "[300]\tcv_agg's l2: 0.305977 + 0.0432176\n",
      "[400]\tcv_agg's l2: 0.302326 + 0.0438819\n",
      "[500]\tcv_agg's l2: 0.300118 + 0.044869\n",
      "[600]\tcv_agg's l2: 0.298124 + 0.045867\n",
      "[700]\tcv_agg's l2: 0.296618 + 0.0468542\n",
      "[800]\tcv_agg's l2: 0.295229 + 0.0475398\n"
     ]
    },
    {
     "name": "stderr",
     "output_type": "stream",
     "text": [
      "num_leaves, val_score: 0.214273:  60%|#############################4                   | 12/20 [00:15<00:09,  1.16s/it][I 2023-11-04 13:50:11,198] Trial 18 finished with value: 0.29341900465147275 and parameters: {'num_leaves': 2}. Best is trial 16 with value: 0.21427337096773735.\n",
      "num_leaves, val_score: 0.214273:  60%|#############################4                   | 12/20 [00:15<00:09,  1.16s/it]"
     ]
    },
    {
     "name": "stdout",
     "output_type": "stream",
     "text": [
      "[900]\tcv_agg's l2: 0.293989 + 0.0478714\n",
      "[1000]\tcv_agg's l2: 0.293142 + 0.0481623\n",
      "Early stopping, best iteration is:\n",
      "[947]\tcv_agg's l2: 0.214273 + 0.0333399\n",
      "[100]\tcv_agg's l2: 0.230632 + 0.0307953\n",
      "[200]\tcv_agg's l2: 0.22273 + 0.0331115\n",
      "[300]\tcv_agg's l2: 0.221132 + 0.0345973\n",
      "[400]\tcv_agg's l2: 0.220698 + 0.0351435\n",
      "[500]\tcv_agg's l2: 0.222758 + 0.0367502\n",
      "[600]\tcv_agg's l2: 0.224022 + 0.0369605\n",
      "[700]\tcv_agg's l2: 0.225437 + 0.0375943\n",
      "[800]\tcv_agg's l2: 0.227167 + 0.037435\n",
      "[900]\tcv_agg's l2: 0.228293 + 0.037477\n"
     ]
    },
    {
     "name": "stderr",
     "output_type": "stream",
     "text": [
      "num_leaves, val_score: 0.214273:  65%|###############################8                 | 13/20 [00:18<00:12,  1.83s/it][I 2023-11-04 13:50:14,591] Trial 19 finished with value: 0.228754241358251 and parameters: {'num_leaves': 51}. Best is trial 16 with value: 0.21427337096773735.\n",
      "num_leaves, val_score: 0.214273:  65%|###############################8                 | 13/20 [00:18<00:12,  1.83s/it]"
     ]
    },
    {
     "name": "stdout",
     "output_type": "stream",
     "text": [
      "[1000]\tcv_agg's l2: 0.229444 + 0.0376357\n",
      "Early stopping, best iteration is:\n",
      "[947]\tcv_agg's l2: 0.214273 + 0.0333399\n",
      "[100]\tcv_agg's l2: 0.230632 + 0.0307953\n",
      "[200]\tcv_agg's l2: 0.22273 + 0.0331115\n",
      "[300]\tcv_agg's l2: 0.221132 + 0.0345973\n",
      "[400]\tcv_agg's l2: 0.220698 + 0.0351435\n",
      "[500]\tcv_agg's l2: 0.222758 + 0.0367502\n",
      "[600]\tcv_agg's l2: 0.224022 + 0.0369605\n",
      "[700]\tcv_agg's l2: 0.225437 + 0.0375943\n",
      "[800]\tcv_agg's l2: 0.227167 + 0.037435\n",
      "[900]\tcv_agg's l2: 0.228293 + 0.037477\n"
     ]
    },
    {
     "name": "stderr",
     "output_type": "stream",
     "text": [
      "num_leaves, val_score: 0.214273:  70%|##################################3              | 14/20 [00:21<00:13,  2.20s/it][I 2023-11-04 13:50:17,629] Trial 20 finished with value: 0.228754241358251 and parameters: {'num_leaves': 48}. Best is trial 16 with value: 0.21427337096773735.\n",
      "num_leaves, val_score: 0.214273:  70%|##################################3              | 14/20 [00:21<00:13,  2.20s/it]"
     ]
    },
    {
     "name": "stdout",
     "output_type": "stream",
     "text": [
      "[1000]\tcv_agg's l2: 0.229444 + 0.0376357\n",
      "Early stopping, best iteration is:\n",
      "[947]\tcv_agg's l2: 0.214273 + 0.0333399\n",
      "[100]\tcv_agg's l2: 0.230632 + 0.0307953\n",
      "[200]\tcv_agg's l2: 0.22273 + 0.0331115\n",
      "[300]\tcv_agg's l2: 0.221132 + 0.0345973\n",
      "[400]\tcv_agg's l2: 0.220698 + 0.0351435\n",
      "[500]\tcv_agg's l2: 0.222758 + 0.0367502\n",
      "[600]\tcv_agg's l2: 0.224022 + 0.0369605\n",
      "[700]\tcv_agg's l2: 0.225437 + 0.0375943\n",
      "[800]\tcv_agg's l2: 0.227167 + 0.037435\n",
      "[900]\tcv_agg's l2: 0.228293 + 0.037477\n"
     ]
    },
    {
     "name": "stderr",
     "output_type": "stream",
     "text": [
      "num_leaves, val_score: 0.214273:  75%|####################################7            | 15/20 [00:25<00:12,  2.53s/it][I 2023-11-04 13:50:20,921] Trial 21 finished with value: 0.228754241358251 and parameters: {'num_leaves': 82}. Best is trial 16 with value: 0.21427337096773735.\n",
      "num_leaves, val_score: 0.214273:  75%|####################################7            | 15/20 [00:25<00:12,  2.53s/it]"
     ]
    },
    {
     "name": "stdout",
     "output_type": "stream",
     "text": [
      "[1000]\tcv_agg's l2: 0.229444 + 0.0376357\n",
      "Early stopping, best iteration is:\n",
      "[947]\tcv_agg's l2: 0.214273 + 0.0333399\n",
      "[100]\tcv_agg's l2: 0.234663 + 0.0307537\n",
      "[200]\tcv_agg's l2: 0.227713 + 0.0338084\n",
      "[300]\tcv_agg's l2: 0.227836 + 0.0357337\n",
      "[400]\tcv_agg's l2: 0.227977 + 0.0362373\n",
      "[500]\tcv_agg's l2: 0.229033 + 0.0364221\n",
      "[600]\tcv_agg's l2: 0.2304 + 0.0371448\n",
      "[700]\tcv_agg's l2: 0.231314 + 0.0371379\n",
      "[800]\tcv_agg's l2: 0.23246 + 0.0372517\n",
      "[900]\tcv_agg's l2: 0.233593 + 0.0373084\n"
     ]
    },
    {
     "name": "stderr",
     "output_type": "stream",
     "text": [
      "num_leaves, val_score: 0.214273:  80%|#######################################2         | 16/20 [00:28<00:11,  2.80s/it][I 2023-11-04 13:50:24,363] Trial 22 finished with value: 0.23402324132801583 and parameters: {'num_leaves': 27}. Best is trial 16 with value: 0.21427337096773735.\n",
      "num_leaves, val_score: 0.214273:  80%|#######################################2         | 16/20 [00:28<00:11,  2.80s/it]"
     ]
    },
    {
     "name": "stdout",
     "output_type": "stream",
     "text": [
      "[1000]\tcv_agg's l2: 0.234744 + 0.037141\n",
      "Early stopping, best iteration is:\n",
      "[947]\tcv_agg's l2: 0.214273 + 0.0333399\n",
      "[100]\tcv_agg's l2: 0.230632 + 0.0307953\n",
      "[200]\tcv_agg's l2: 0.22273 + 0.0331115\n",
      "[300]\tcv_agg's l2: 0.221132 + 0.0345973\n",
      "[400]\tcv_agg's l2: 0.220698 + 0.0351435\n",
      "[500]\tcv_agg's l2: 0.222758 + 0.0367502\n",
      "[600]\tcv_agg's l2: 0.224022 + 0.0369605\n",
      "[700]\tcv_agg's l2: 0.225437 + 0.0375943\n",
      "[800]\tcv_agg's l2: 0.227167 + 0.037435\n",
      "[900]\tcv_agg's l2: 0.228293 + 0.037477\n"
     ]
    },
    {
     "name": "stderr",
     "output_type": "stream",
     "text": [
      "num_leaves, val_score: 0.214273:  85%|#########################################6       | 17/20 [00:31<00:09,  3.01s/it][I 2023-11-04 13:50:27,851] Trial 23 finished with value: 0.228754241358251 and parameters: {'num_leaves': 129}. Best is trial 16 with value: 0.21427337096773735.\n",
      "num_leaves, val_score: 0.214273:  85%|#########################################6       | 17/20 [00:31<00:09,  3.01s/it]"
     ]
    },
    {
     "name": "stdout",
     "output_type": "stream",
     "text": [
      "[1000]\tcv_agg's l2: 0.229444 + 0.0376357\n",
      "Early stopping, best iteration is:\n",
      "[947]\tcv_agg's l2: 0.214273 + 0.0333399\n",
      "[100]\tcv_agg's l2: 0.230632 + 0.0307953\n",
      "[200]\tcv_agg's l2: 0.22273 + 0.0331115\n",
      "[300]\tcv_agg's l2: 0.221132 + 0.0345973\n",
      "[400]\tcv_agg's l2: 0.220698 + 0.0351435\n",
      "[500]\tcv_agg's l2: 0.222758 + 0.0367502\n",
      "[600]\tcv_agg's l2: 0.224022 + 0.0369605\n",
      "[700]\tcv_agg's l2: 0.225437 + 0.0375943\n",
      "[800]\tcv_agg's l2: 0.227167 + 0.037435\n",
      "[900]\tcv_agg's l2: 0.228293 + 0.037477\n"
     ]
    },
    {
     "name": "stderr",
     "output_type": "stream",
     "text": [
      "\r",
      "num_leaves, val_score: 0.214273:  85%|#########################################6       | 17/20 [00:35<00:09,  3.01s/it]"
     ]
    },
    {
     "name": "stdout",
     "output_type": "stream",
     "text": [
      "[1000]\tcv_agg's l2: 0.229444 + 0.0376357\n",
      "Early stopping, best iteration is:\n",
      "[947]\tcv_agg's l2: 0.214273 + 0.0333399\n"
     ]
    },
    {
     "name": "stderr",
     "output_type": "stream",
     "text": [
      "num_leaves, val_score: 0.214273:  90%|############################################1    | 18/20 [00:35<00:06,  3.08s/it][I 2023-11-04 13:50:31,106] Trial 24 finished with value: 0.228754241358251 and parameters: {'num_leaves': 76}. Best is trial 16 with value: 0.21427337096773735.\n",
      "num_leaves, val_score: 0.214273:  90%|############################################1    | 18/20 [00:35<00:06,  3.08s/it]"
     ]
    },
    {
     "name": "stdout",
     "output_type": "stream",
     "text": [
      "[100]\tcv_agg's l2: 0.230632 + 0.0307953\n",
      "[200]\tcv_agg's l2: 0.22273 + 0.0331115\n",
      "[300]\tcv_agg's l2: 0.221132 + 0.0345973\n",
      "[400]\tcv_agg's l2: 0.220698 + 0.0351435\n",
      "[500]\tcv_agg's l2: 0.222758 + 0.0367502\n",
      "[600]\tcv_agg's l2: 0.224022 + 0.0369605\n",
      "[700]\tcv_agg's l2: 0.225437 + 0.0375943\n",
      "[800]\tcv_agg's l2: 0.227167 + 0.037435\n",
      "[900]\tcv_agg's l2: 0.228293 + 0.037477\n"
     ]
    },
    {
     "name": "stderr",
     "output_type": "stream",
     "text": [
      "\r",
      "num_leaves, val_score: 0.214273:  90%|############################################1    | 18/20 [00:38<00:06,  3.08s/it]"
     ]
    },
    {
     "name": "stdout",
     "output_type": "stream",
     "text": [
      "[1000]\tcv_agg's l2: 0.229444 + 0.0376357\n",
      "Early stopping, best iteration is:\n",
      "[947]\tcv_agg's l2: 0.214273 + 0.0333399\n"
     ]
    },
    {
     "name": "stderr",
     "output_type": "stream",
     "text": [
      "num_leaves, val_score: 0.214273:  95%|##############################################5  | 19/20 [00:38<00:03,  3.18s/it][I 2023-11-04 13:50:34,499] Trial 25 finished with value: 0.228754241358251 and parameters: {'num_leaves': 122}. Best is trial 16 with value: 0.21427337096773735.\n",
      "num_leaves, val_score: 0.214273:  95%|##############################################5  | 19/20 [00:38<00:03,  3.18s/it]"
     ]
    },
    {
     "name": "stdout",
     "output_type": "stream",
     "text": [
      "[100]\tcv_agg's l2: 0.230437 + 0.030904\n",
      "[200]\tcv_agg's l2: 0.221579 + 0.0330663\n",
      "[300]\tcv_agg's l2: 0.220222 + 0.0339768\n",
      "[400]\tcv_agg's l2: 0.219644 + 0.0345032\n",
      "[500]\tcv_agg's l2: 0.22042 + 0.0349207\n",
      "[600]\tcv_agg's l2: 0.221815 + 0.0353529\n",
      "[700]\tcv_agg's l2: 0.222918 + 0.0354182\n",
      "[800]\tcv_agg's l2: 0.224164 + 0.035327\n",
      "[900]\tcv_agg's l2: 0.225542 + 0.0353189\n"
     ]
    },
    {
     "name": "stderr",
     "output_type": "stream",
     "text": [
      "num_leaves, val_score: 0.214273: 100%|#################################################| 20/20 [00:42<00:00,  3.29s/it][I 2023-11-04 13:50:38,052] Trial 26 finished with value: 0.22608965282754873 and parameters: {'num_leaves': 28}. Best is trial 16 with value: 0.21427337096773735.\n",
      "num_leaves, val_score: 0.214273: 100%|#################################################| 20/20 [00:42<00:00,  2.11s/it]\n"
     ]
    },
    {
     "name": "stdout",
     "output_type": "stream",
     "text": [
      "[1000]\tcv_agg's l2: 0.226479 + 0.0354548\n",
      "Early stopping, best iteration is:\n",
      "[947]\tcv_agg's l2: 0.214273 + 0.0333399\n"
     ]
    },
    {
     "name": "stderr",
     "output_type": "stream",
     "text": [
      "bagging, val_score: 0.214273:   0%|                                                             | 0/10 [00:00<?, ?it/s]"
     ]
    },
    {
     "name": "stdout",
     "output_type": "stream",
     "text": [
      "[100]\tcv_agg's l2: 0.276228 + 0.0379155\n",
      "[200]\tcv_agg's l2: 0.254238 + 0.042008\n",
      "[300]\tcv_agg's l2: 0.247603 + 0.0406541\n",
      "[400]\tcv_agg's l2: 0.240028 + 0.0395953\n",
      "[500]\tcv_agg's l2: 0.235667 + 0.0371021\n",
      "[600]\tcv_agg's l2: 0.233279 + 0.0403393\n",
      "[700]\tcv_agg's l2: 0.232331 + 0.0419137\n",
      "[800]\tcv_agg's l2: 0.229292 + 0.0384574\n",
      "[900]\tcv_agg's l2: 0.22757 + 0.0381468\n",
      "[1000]\tcv_agg's l2: 0.228274 + 0.0348647\n"
     ]
    },
    {
     "name": "stderr",
     "output_type": "stream",
     "text": [
      "bagging, val_score: 0.214273:  10%|#####3                                               | 1/10 [00:01<00:15,  1.73s/it][I 2023-11-04 13:50:39,789] Trial 27 finished with value: 0.2285042737256798 and parameters: {'bagging_fraction': 0.6722769348048854, 'bagging_freq': 6}. Best is trial 27 with value: 0.2285042737256798.\n",
      "bagging, val_score: 0.214273:  10%|#####3                                               | 1/10 [00:01<00:15,  1.73s/it]"
     ]
    },
    {
     "name": "stdout",
     "output_type": "stream",
     "text": [
      "Early stopping, best iteration is:\n",
      "[947]\tcv_agg's l2: 0.214273 + 0.0333399\n",
      "[100]\tcv_agg's l2: 0.247825 + 0.0312618\n",
      "[200]\tcv_agg's l2: 0.233428 + 0.0321328\n",
      "[300]\tcv_agg's l2: 0.224898 + 0.031784\n",
      "[400]\tcv_agg's l2: 0.220059 + 0.030129\n",
      "[500]\tcv_agg's l2: 0.217817 + 0.0312127\n",
      "[600]\tcv_agg's l2: 0.216168 + 0.0302874\n",
      "[700]\tcv_agg's l2: 0.215532 + 0.0301114\n",
      "[800]\tcv_agg's l2: 0.21469 + 0.0309331\n",
      "[900]\tcv_agg's l2: 0.213321 + 0.0316521\n",
      "[1000]\tcv_agg's l2: 0.213329 + 0.0319333\n"
     ]
    },
    {
     "name": "stderr",
     "output_type": "stream",
     "text": [
      "bagging, val_score: 0.212961:  20%|##########6                                          | 2/10 [00:03<00:14,  1.78s/it][I 2023-11-04 13:50:41,597] Trial 28 finished with value: 0.21296102217202195 and parameters: {'bagging_fraction': 0.9825708095896679, 'bagging_freq': 1}. Best is trial 28 with value: 0.21296102217202195.\n",
      "bagging, val_score: 0.212961:  20%|##########6                                          | 2/10 [00:03<00:14,  1.78s/it]"
     ]
    },
    {
     "name": "stdout",
     "output_type": "stream",
     "text": [
      "Early stopping, best iteration is:\n",
      "[957]\tcv_agg's l2: 0.212961 + 0.0321251\n",
      "[100]\tcv_agg's l2: 0.244607 + 0.0351567\n",
      "[200]\tcv_agg's l2: 0.228876 + 0.0335062\n",
      "[300]\tcv_agg's l2: 0.221174 + 0.0330546\n",
      "[400]\tcv_agg's l2: 0.216651 + 0.0316476\n",
      "[500]\tcv_agg's l2: 0.212773 + 0.0319381\n",
      "[600]\tcv_agg's l2: 0.211041 + 0.0320934\n",
      "[700]\tcv_agg's l2: 0.210619 + 0.0326311\n",
      "[800]\tcv_agg's l2: 0.210028 + 0.0329411\n",
      "[900]\tcv_agg's l2: 0.20989 + 0.0333379\n",
      "[1000]\tcv_agg's l2: 0.209856 + 0.0334489\n"
     ]
    },
    {
     "name": "stderr",
     "output_type": "stream",
     "text": [
      "bagging, val_score: 0.209348:  30%|###############9                                     | 3/10 [00:05<00:13,  1.94s/it][I 2023-11-04 13:50:43,735] Trial 29 finished with value: 0.2093476207588872 and parameters: {'bagging_fraction': 0.9755327666099751, 'bagging_freq': 1}. Best is trial 29 with value: 0.2093476207588872.\n",
      "bagging, val_score: 0.209348:  30%|###############9                                     | 3/10 [00:05<00:13,  1.94s/it]"
     ]
    },
    {
     "name": "stdout",
     "output_type": "stream",
     "text": [
      "Early stopping, best iteration is:\n",
      "[919]\tcv_agg's l2: 0.209348 + 0.0333103\n",
      "[100]\tcv_agg's l2: 0.24615 + 0.0355671\n",
      "[200]\tcv_agg's l2: 0.232228 + 0.0361586\n",
      "[300]\tcv_agg's l2: 0.225507 + 0.0340973\n",
      "[400]\tcv_agg's l2: 0.220498 + 0.0338103\n",
      "[500]\tcv_agg's l2: 0.217931 + 0.0328783\n",
      "[600]\tcv_agg's l2: 0.215913 + 0.0324899\n",
      "[700]\tcv_agg's l2: 0.214589 + 0.0338296\n",
      "[800]\tcv_agg's l2: 0.214156 + 0.0341834\n",
      "[900]\tcv_agg's l2: 0.213993 + 0.0338688\n"
     ]
    },
    {
     "name": "stderr",
     "output_type": "stream",
     "text": [
      "bagging, val_score: 0.209348:  40%|#####################2                               | 4/10 [00:07<00:11,  1.99s/it][I 2023-11-04 13:50:45,792] Trial 30 finished with value: 0.21413137108577343 and parameters: {'bagging_fraction': 0.9941685529171053, 'bagging_freq': 1}. Best is trial 29 with value: 0.2093476207588872.\n",
      "bagging, val_score: 0.209348:  40%|#####################2                               | 4/10 [00:07<00:11,  1.99s/it]"
     ]
    },
    {
     "name": "stdout",
     "output_type": "stream",
     "text": [
      "[1000]\tcv_agg's l2: 0.213691 + 0.0329444\n",
      "Early stopping, best iteration is:\n",
      "[919]\tcv_agg's l2: 0.209348 + 0.0333103\n",
      "[100]\tcv_agg's l2: 0.245118 + 0.0342939\n",
      "[200]\tcv_agg's l2: 0.229738 + 0.032756\n",
      "[300]\tcv_agg's l2: 0.221256 + 0.0322054\n",
      "[400]\tcv_agg's l2: 0.217734 + 0.0313962\n",
      "[500]\tcv_agg's l2: 0.214811 + 0.0310305\n",
      "[600]\tcv_agg's l2: 0.213068 + 0.03073\n",
      "[700]\tcv_agg's l2: 0.211885 + 0.0304965\n",
      "[800]\tcv_agg's l2: 0.210768 + 0.0304506\n",
      "[900]\tcv_agg's l2: 0.210209 + 0.030906\n",
      "[1000]\tcv_agg's l2: 0.210028 + 0.0315537\n"
     ]
    },
    {
     "name": "stderr",
     "output_type": "stream",
     "text": [
      "bagging, val_score: 0.209348:  50%|##########################5                          | 5/10 [00:09<00:09,  1.99s/it][I 2023-11-04 13:50:47,775] Trial 31 finished with value: 0.2101090992479433 and parameters: {'bagging_fraction': 0.9747781912183918, 'bagging_freq': 1}. Best is trial 29 with value: 0.2093476207588872.\n",
      "bagging, val_score: 0.209348:  50%|##########################5                          | 5/10 [00:09<00:09,  1.99s/it]"
     ]
    },
    {
     "name": "stdout",
     "output_type": "stream",
     "text": [
      "Early stopping, best iteration is:\n",
      "[919]\tcv_agg's l2: 0.209348 + 0.0333103\n",
      "[100]\tcv_agg's l2: 0.249324 + 0.0355253\n",
      "[200]\tcv_agg's l2: 0.233807 + 0.0348817\n",
      "[300]\tcv_agg's l2: 0.227269 + 0.0328492\n",
      "[400]\tcv_agg's l2: 0.223304 + 0.0329434\n",
      "[500]\tcv_agg's l2: 0.219147 + 0.0318009\n",
      "[600]\tcv_agg's l2: 0.217201 + 0.0317656\n",
      "[700]\tcv_agg's l2: 0.215307 + 0.031209\n",
      "[800]\tcv_agg's l2: 0.214278 + 0.03163\n"
     ]
    },
    {
     "name": "stderr",
     "output_type": "stream",
     "text": [
      "\r",
      "bagging, val_score: 0.209348:  50%|##########################5                          | 5/10 [00:11<00:09,  1.99s/it]"
     ]
    },
    {
     "name": "stdout",
     "output_type": "stream",
     "text": [
      "[900]\tcv_agg's l2: 0.214271 + 0.0316293\n",
      "[1000]\tcv_agg's l2: 0.213415 + 0.0317648\n",
      "Early stopping, best iteration is:\n",
      "[919]\tcv_agg's l2: 0.209348 + 0.0333103\n"
     ]
    },
    {
     "name": "stderr",
     "output_type": "stream",
     "text": [
      "bagging, val_score: 0.209348:  60%|###############################8                     | 6/10 [00:11<00:07,  1.97s/it][I 2023-11-04 13:50:49,728] Trial 32 finished with value: 0.2144504731071141 and parameters: {'bagging_fraction': 0.9961723325808514, 'bagging_freq': 1}. Best is trial 29 with value: 0.2093476207588872.\n",
      "bagging, val_score: 0.209348:  60%|###############################8                     | 6/10 [00:11<00:07,  1.97s/it]"
     ]
    },
    {
     "name": "stdout",
     "output_type": "stream",
     "text": [
      "[100]\tcv_agg's l2: 0.25175 + 0.0342381\n",
      "[200]\tcv_agg's l2: 0.235792 + 0.0361094\n",
      "[300]\tcv_agg's l2: 0.225917 + 0.0323206\n",
      "[400]\tcv_agg's l2: 0.221888 + 0.0307556\n",
      "[500]\tcv_agg's l2: 0.219325 + 0.0314739\n",
      "[600]\tcv_agg's l2: 0.21733 + 0.0328098\n",
      "[700]\tcv_agg's l2: 0.217154 + 0.0327134\n",
      "[800]\tcv_agg's l2: 0.215762 + 0.032952\n",
      "[900]\tcv_agg's l2: 0.214824 + 0.0338774\n"
     ]
    },
    {
     "name": "stderr",
     "output_type": "stream",
     "text": [
      "bagging, val_score: 0.209348:  70%|#####################################                | 7/10 [00:14<00:06,  2.30s/it][I 2023-11-04 13:50:52,707] Trial 33 finished with value: 0.21459615991238595 and parameters: {'bagging_fraction': 0.9925153164554078, 'bagging_freq': 1}. Best is trial 29 with value: 0.2093476207588872.\n",
      "bagging, val_score: 0.209348:  70%|#####################################                | 7/10 [00:14<00:06,  2.30s/it]"
     ]
    },
    {
     "name": "stdout",
     "output_type": "stream",
     "text": [
      "[1000]\tcv_agg's l2: 0.214895 + 0.0346131\n",
      "Early stopping, best iteration is:\n",
      "[919]\tcv_agg's l2: 0.209348 + 0.0333103\n",
      "[100]\tcv_agg's l2: 0.244579 + 0.0330817\n",
      "[200]\tcv_agg's l2: 0.229396 + 0.0328908\n",
      "[300]\tcv_agg's l2: 0.221877 + 0.0315525\n",
      "[400]\tcv_agg's l2: 0.219422 + 0.029621\n",
      "[500]\tcv_agg's l2: 0.216237 + 0.0293223\n",
      "[600]\tcv_agg's l2: 0.2143 + 0.0290865\n",
      "[700]\tcv_agg's l2: 0.213431 + 0.0292974\n",
      "[800]\tcv_agg's l2: 0.211178 + 0.0289793\n",
      "[900]\tcv_agg's l2: 0.21025 + 0.0297129\n"
     ]
    },
    {
     "name": "stderr",
     "output_type": "stream",
     "text": [
      "bagging, val_score: 0.209348:  80%|##########################################4          | 8/10 [00:18<00:05,  2.67s/it][I 2023-11-04 13:50:56,171] Trial 34 finished with value: 0.2099109160447432 and parameters: {'bagging_fraction': 0.9818197267084997, 'bagging_freq': 1}. Best is trial 29 with value: 0.2093476207588872.\n",
      "bagging, val_score: 0.209348:  80%|##########################################4          | 8/10 [00:18<00:05,  2.67s/it]"
     ]
    },
    {
     "name": "stdout",
     "output_type": "stream",
     "text": [
      "[1000]\tcv_agg's l2: 0.210399 + 0.0299178\n",
      "Early stopping, best iteration is:\n",
      "[919]\tcv_agg's l2: 0.209348 + 0.0333103\n",
      "[100]\tcv_agg's l2: 0.249049 + 0.0401087\n",
      "[200]\tcv_agg's l2: 0.230977 + 0.0378684\n",
      "[300]\tcv_agg's l2: 0.222094 + 0.0342754\n",
      "[400]\tcv_agg's l2: 0.216431 + 0.0322461\n",
      "[500]\tcv_agg's l2: 0.213211 + 0.0305796\n",
      "[600]\tcv_agg's l2: 0.210592 + 0.0299387\n",
      "[700]\tcv_agg's l2: 0.209347 + 0.0295826\n",
      "[800]\tcv_agg's l2: 0.208242 + 0.0304293\n",
      "[900]\tcv_agg's l2: 0.208256 + 0.0302545\n",
      "[1000]\tcv_agg's l2: 0.207485 + 0.0305259\n",
      "[1100]\tcv_agg's l2: 0.207213 + 0.0297283\n",
      "[1200]\tcv_agg's l2: 0.206443 + 0.0300166\n"
     ]
    },
    {
     "name": "stderr",
     "output_type": "stream",
     "text": [
      "bagging, val_score: 0.206301:  90%|###############################################7     | 9/10 [00:22<00:03,  3.33s/it][I 2023-11-04 13:51:00,940] Trial 35 finished with value: 0.20630125591045512 and parameters: {'bagging_fraction': 0.9355231878888309, 'bagging_freq': 1}. Best is trial 35 with value: 0.20630125591045512.\n",
      "bagging, val_score: 0.206301:  90%|###############################################7     | 9/10 [00:22<00:03,  3.33s/it]"
     ]
    },
    {
     "name": "stdout",
     "output_type": "stream",
     "text": [
      "[1300]\tcv_agg's l2: 0.207348 + 0.029517\n",
      "Early stopping, best iteration is:\n",
      "[1211]\tcv_agg's l2: 0.206301 + 0.0297652\n",
      "[100]\tcv_agg's l2: 0.258467 + 0.0375139\n",
      "[200]\tcv_agg's l2: 0.24333 + 0.032342\n",
      "[300]\tcv_agg's l2: 0.233281 + 0.034432\n",
      "[400]\tcv_agg's l2: 0.231473 + 0.0329987\n",
      "[500]\tcv_agg's l2: 0.225754 + 0.0303411\n",
      "[600]\tcv_agg's l2: 0.223826 + 0.029612\n",
      "[700]\tcv_agg's l2: 0.220867 + 0.0284423\n",
      "[800]\tcv_agg's l2: 0.221044 + 0.0297711\n",
      "[900]\tcv_agg's l2: 0.219515 + 0.0287114\n",
      "[1000]\tcv_agg's l2: 0.219089 + 0.0280344\n",
      "[1100]\tcv_agg's l2: 0.218161 + 0.0281914\n",
      "[1200]\tcv_agg's l2: 0.218452 + 0.0282428\n"
     ]
    },
    {
     "name": "stderr",
     "output_type": "stream",
     "text": [
      "bagging, val_score: 0.206301: 100%|####################################################| 10/10 [00:27<00:00,  3.69s/it][I 2023-11-04 13:51:05,446] Trial 36 finished with value: 0.21828400512963841 and parameters: {'bagging_fraction': 0.8572814408124138, 'bagging_freq': 3}. Best is trial 35 with value: 0.20630125591045512.\n",
      "bagging, val_score: 0.206301: 100%|####################################################| 10/10 [00:27<00:00,  2.74s/it]\n"
     ]
    },
    {
     "name": "stdout",
     "output_type": "stream",
     "text": [
      "[1300]\tcv_agg's l2: 0.217166 + 0.0283699\n",
      "Early stopping, best iteration is:\n",
      "[1211]\tcv_agg's l2: 0.206301 + 0.0297652\n"
     ]
    },
    {
     "name": "stderr",
     "output_type": "stream",
     "text": [
      "feature_fraction_stage2, val_score: 0.206301:   0%|                                              | 0/6 [00:00<?, ?it/s]"
     ]
    },
    {
     "name": "stdout",
     "output_type": "stream",
     "text": [
      "[100]\tcv_agg's l2: 0.254022 + 0.0391858\n",
      "[200]\tcv_agg's l2: 0.231613 + 0.0372056\n",
      "[300]\tcv_agg's l2: 0.22267 + 0.0354093\n",
      "[400]\tcv_agg's l2: 0.216897 + 0.035819\n",
      "[500]\tcv_agg's l2: 0.214627 + 0.0354139\n",
      "[600]\tcv_agg's l2: 0.212891 + 0.0346041\n",
      "[700]\tcv_agg's l2: 0.211521 + 0.0353253\n",
      "[800]\tcv_agg's l2: 0.211973 + 0.0351917\n",
      "[900]\tcv_agg's l2: 0.210198 + 0.0345823\n",
      "[1000]\tcv_agg's l2: 0.209725 + 0.0346586\n",
      "[1100]\tcv_agg's l2: 0.209905 + 0.0341785\n",
      "[1200]\tcv_agg's l2: 0.209988 + 0.0351772\n"
     ]
    },
    {
     "name": "stderr",
     "output_type": "stream",
     "text": [
      "feature_fraction_stage2, val_score: 0.206301:  17%|######3                               | 1/6 [00:04<00:21,  4.34s/it][I 2023-11-04 13:51:09,794] Trial 37 finished with value: 0.20984167264991216 and parameters: {'feature_fraction': 0.62}. Best is trial 37 with value: 0.20984167264991216.\n",
      "feature_fraction_stage2, val_score: 0.206301:  17%|######3                               | 1/6 [00:04<00:21,  4.34s/it]"
     ]
    },
    {
     "name": "stdout",
     "output_type": "stream",
     "text": [
      "[1300]\tcv_agg's l2: 0.210228 + 0.0351046\n",
      "Early stopping, best iteration is:\n",
      "[1211]\tcv_agg's l2: 0.206301 + 0.0297652\n",
      "[100]\tcv_agg's l2: 0.254022 + 0.0391858\n",
      "[200]\tcv_agg's l2: 0.231613 + 0.0372056\n",
      "[300]\tcv_agg's l2: 0.22267 + 0.0354093\n",
      "[400]\tcv_agg's l2: 0.216897 + 0.035819\n",
      "[500]\tcv_agg's l2: 0.214627 + 0.0354139\n",
      "[600]\tcv_agg's l2: 0.212891 + 0.0346041\n",
      "[700]\tcv_agg's l2: 0.211521 + 0.0353253\n",
      "[800]\tcv_agg's l2: 0.211973 + 0.0351917\n",
      "[900]\tcv_agg's l2: 0.210198 + 0.0345823\n",
      "[1000]\tcv_agg's l2: 0.209725 + 0.0346586\n",
      "[1100]\tcv_agg's l2: 0.209905 + 0.0341785\n",
      "[1200]\tcv_agg's l2: 0.209988 + 0.0351772\n"
     ]
    },
    {
     "name": "stderr",
     "output_type": "stream",
     "text": [
      "feature_fraction_stage2, val_score: 0.206301:  33%|############6                         | 2/6 [00:08<00:17,  4.45s/it][I 2023-11-04 13:51:14,313] Trial 38 finished with value: 0.20984167264991216 and parameters: {'feature_fraction': 0.652}. Best is trial 37 with value: 0.20984167264991216.\n",
      "feature_fraction_stage2, val_score: 0.206301:  33%|############6                         | 2/6 [00:08<00:17,  4.45s/it]"
     ]
    },
    {
     "name": "stdout",
     "output_type": "stream",
     "text": [
      "[1300]\tcv_agg's l2: 0.210228 + 0.0351046\n",
      "Early stopping, best iteration is:\n",
      "[1211]\tcv_agg's l2: 0.206301 + 0.0297652\n",
      "[100]\tcv_agg's l2: 0.249049 + 0.0401087\n",
      "[200]\tcv_agg's l2: 0.230977 + 0.0378684\n",
      "[300]\tcv_agg's l2: 0.222094 + 0.0342754\n",
      "[400]\tcv_agg's l2: 0.216431 + 0.0322461\n",
      "[500]\tcv_agg's l2: 0.213211 + 0.0305796\n",
      "[600]\tcv_agg's l2: 0.210592 + 0.0299387\n",
      "[700]\tcv_agg's l2: 0.209347 + 0.0295826\n",
      "[800]\tcv_agg's l2: 0.208242 + 0.0304293\n",
      "[900]\tcv_agg's l2: 0.208256 + 0.0302545\n",
      "[1000]\tcv_agg's l2: 0.207485 + 0.0305259\n",
      "[1100]\tcv_agg's l2: 0.207213 + 0.0297283\n",
      "[1200]\tcv_agg's l2: 0.206443 + 0.0300166\n"
     ]
    },
    {
     "name": "stderr",
     "output_type": "stream",
     "text": [
      "feature_fraction_stage2, val_score: 0.206301:  50%|###################                   | 3/6 [00:13<00:13,  4.49s/it][I 2023-11-04 13:51:18,863] Trial 39 finished with value: 0.20630125591045512 and parameters: {'feature_fraction': 0.748}. Best is trial 39 with value: 0.20630125591045512.\n",
      "feature_fraction_stage2, val_score: 0.206301:  50%|###################                   | 3/6 [00:13<00:13,  4.49s/it]"
     ]
    },
    {
     "name": "stdout",
     "output_type": "stream",
     "text": [
      "[1300]\tcv_agg's l2: 0.207348 + 0.029517\n",
      "Early stopping, best iteration is:\n",
      "[1211]\tcv_agg's l2: 0.206301 + 0.0297652\n",
      "[100]\tcv_agg's l2: 0.254022 + 0.0391858\n",
      "[200]\tcv_agg's l2: 0.231613 + 0.0372056\n",
      "[300]\tcv_agg's l2: 0.22267 + 0.0354093\n",
      "[400]\tcv_agg's l2: 0.216897 + 0.035819\n",
      "[500]\tcv_agg's l2: 0.214627 + 0.0354139\n",
      "[600]\tcv_agg's l2: 0.212891 + 0.0346041\n",
      "[700]\tcv_agg's l2: 0.211521 + 0.0353253\n",
      "[800]\tcv_agg's l2: 0.211973 + 0.0351917\n",
      "[900]\tcv_agg's l2: 0.210198 + 0.0345823\n",
      "[1000]\tcv_agg's l2: 0.209725 + 0.0346586\n",
      "[1100]\tcv_agg's l2: 0.209905 + 0.0341785\n",
      "[1200]\tcv_agg's l2: 0.209988 + 0.0351772\n"
     ]
    },
    {
     "name": "stderr",
     "output_type": "stream",
     "text": [
      "feature_fraction_stage2, val_score: 0.206301:  67%|#########################3            | 4/6 [00:17<00:08,  4.49s/it][I 2023-11-04 13:51:23,359] Trial 40 finished with value: 0.20984167264991216 and parameters: {'feature_fraction': 0.6839999999999999}. Best is trial 39 with value: 0.20630125591045512.\n",
      "feature_fraction_stage2, val_score: 0.206301:  67%|#########################3            | 4/6 [00:17<00:08,  4.49s/it]"
     ]
    },
    {
     "name": "stdout",
     "output_type": "stream",
     "text": [
      "[1300]\tcv_agg's l2: 0.210228 + 0.0351046\n",
      "Early stopping, best iteration is:\n",
      "[1211]\tcv_agg's l2: 0.206301 + 0.0297652\n",
      "[100]\tcv_agg's l2: 0.249049 + 0.0401087\n",
      "[200]\tcv_agg's l2: 0.230977 + 0.0378684\n",
      "[300]\tcv_agg's l2: 0.222094 + 0.0342754\n",
      "[400]\tcv_agg's l2: 0.216431 + 0.0322461\n",
      "[500]\tcv_agg's l2: 0.213211 + 0.0305796\n",
      "[600]\tcv_agg's l2: 0.210592 + 0.0299387\n",
      "[700]\tcv_agg's l2: 0.209347 + 0.0295826\n",
      "[800]\tcv_agg's l2: 0.208242 + 0.0304293\n",
      "[900]\tcv_agg's l2: 0.208256 + 0.0302545\n",
      "[1000]\tcv_agg's l2: 0.207485 + 0.0305259\n",
      "[1100]\tcv_agg's l2: 0.207213 + 0.0297283\n",
      "[1200]\tcv_agg's l2: 0.206443 + 0.0300166\n"
     ]
    },
    {
     "name": "stderr",
     "output_type": "stream",
     "text": [
      "feature_fraction_stage2, val_score: 0.206301:  83%|###############################6      | 5/6 [00:22<00:04,  4.53s/it][I 2023-11-04 13:51:27,944] Trial 41 finished with value: 0.20630125591045512 and parameters: {'feature_fraction': 0.7799999999999999}. Best is trial 39 with value: 0.20630125591045512.\n",
      "feature_fraction_stage2, val_score: 0.206301:  83%|###############################6      | 5/6 [00:22<00:04,  4.53s/it]"
     ]
    },
    {
     "name": "stdout",
     "output_type": "stream",
     "text": [
      "[1300]\tcv_agg's l2: 0.207348 + 0.029517\n",
      "Early stopping, best iteration is:\n",
      "[1211]\tcv_agg's l2: 0.206301 + 0.0297652\n",
      "[100]\tcv_agg's l2: 0.249049 + 0.0401087\n",
      "[200]\tcv_agg's l2: 0.230977 + 0.0378684\n",
      "[300]\tcv_agg's l2: 0.222094 + 0.0342754\n",
      "[400]\tcv_agg's l2: 0.216431 + 0.0322461\n",
      "[500]\tcv_agg's l2: 0.213211 + 0.0305796\n",
      "[600]\tcv_agg's l2: 0.210592 + 0.0299387\n",
      "[700]\tcv_agg's l2: 0.209347 + 0.0295826\n",
      "[800]\tcv_agg's l2: 0.208242 + 0.0304293\n",
      "[900]\tcv_agg's l2: 0.208256 + 0.0302545\n",
      "[1000]\tcv_agg's l2: 0.207485 + 0.0305259\n",
      "[1100]\tcv_agg's l2: 0.207213 + 0.0297283\n",
      "[1200]\tcv_agg's l2: 0.206443 + 0.0300166\n"
     ]
    },
    {
     "name": "stderr",
     "output_type": "stream",
     "text": [
      "feature_fraction_stage2, val_score: 0.206301: 100%|######################################| 6/6 [00:26<00:00,  4.49s/it][I 2023-11-04 13:51:32,375] Trial 42 finished with value: 0.20630125591045512 and parameters: {'feature_fraction': 0.716}. Best is trial 39 with value: 0.20630125591045512.\n",
      "feature_fraction_stage2, val_score: 0.206301: 100%|######################################| 6/6 [00:26<00:00,  4.49s/it]\n"
     ]
    },
    {
     "name": "stdout",
     "output_type": "stream",
     "text": [
      "[1300]\tcv_agg's l2: 0.207348 + 0.029517\n",
      "Early stopping, best iteration is:\n",
      "[1211]\tcv_agg's l2: 0.206301 + 0.0297652\n"
     ]
    },
    {
     "name": "stderr",
     "output_type": "stream",
     "text": [
      "regularization_factors, val_score: 0.206301:   0%|                                              | 0/20 [00:00<?, ?it/s]"
     ]
    },
    {
     "name": "stdout",
     "output_type": "stream",
     "text": [
      "[100]\tcv_agg's l2: 0.249032 + 0.0400532\n",
      "[200]\tcv_agg's l2: 0.228841 + 0.0372765\n",
      "[300]\tcv_agg's l2: 0.220071 + 0.0336189\n",
      "[400]\tcv_agg's l2: 0.214529 + 0.0318923\n",
      "[500]\tcv_agg's l2: 0.210995 + 0.0304578\n",
      "[600]\tcv_agg's l2: 0.209061 + 0.0293252\n",
      "[700]\tcv_agg's l2: 0.207843 + 0.0290136\n",
      "[800]\tcv_agg's l2: 0.207465 + 0.0299501\n",
      "[900]\tcv_agg's l2: 0.207396 + 0.0295978\n",
      "[1000]\tcv_agg's l2: 0.206913 + 0.0310491\n",
      "[1100]\tcv_agg's l2: 0.20705 + 0.0305367\n",
      "[1200]\tcv_agg's l2: 0.206671 + 0.0309741\n"
     ]
    },
    {
     "name": "stderr",
     "output_type": "stream",
     "text": [
      "regularization_factors, val_score: 0.206301:   5%|#9                                    | 1/20 [00:05<01:35,  5.03s/it][I 2023-11-04 13:51:37,409] Trial 43 finished with value: 0.20653317152447861 and parameters: {'lambda_l1': 7.767883412510335e-06, 'lambda_l2': 0.003099684785502717}. Best is trial 43 with value: 0.20653317152447861.\n",
      "regularization_factors, val_score: 0.206301:   5%|#9                                    | 1/20 [00:05<01:35,  5.03s/it]"
     ]
    },
    {
     "name": "stdout",
     "output_type": "stream",
     "text": [
      "[1300]\tcv_agg's l2: 0.207264 + 0.0309189\n",
      "Early stopping, best iteration is:\n",
      "[1211]\tcv_agg's l2: 0.206301 + 0.0297652\n",
      "[100]\tcv_agg's l2: 0.249534 + 0.0389655\n",
      "[200]\tcv_agg's l2: 0.229998 + 0.0369145\n",
      "[300]\tcv_agg's l2: 0.219912 + 0.0329155\n",
      "[400]\tcv_agg's l2: 0.215097 + 0.0310312\n",
      "[500]\tcv_agg's l2: 0.212449 + 0.0298406\n",
      "[600]\tcv_agg's l2: 0.210782 + 0.0287606\n",
      "[700]\tcv_agg's l2: 0.208714 + 0.0288396\n",
      "[800]\tcv_agg's l2: 0.208762 + 0.0296541\n",
      "[900]\tcv_agg's l2: 0.208661 + 0.0282789\n",
      "[1000]\tcv_agg's l2: 0.208229 + 0.0287992\n",
      "[1100]\tcv_agg's l2: 0.208408 + 0.0286104\n",
      "[1200]\tcv_agg's l2: 0.207457 + 0.0285926\n"
     ]
    },
    {
     "name": "stderr",
     "output_type": "stream",
     "text": [
      "regularization_factors, val_score: 0.206301:  10%|###8                                  | 2/20 [00:10<01:37,  5.41s/it][I 2023-11-04 13:51:43,082] Trial 44 finished with value: 0.2072781196591175 and parameters: {'lambda_l1': 4.568041458532182e-06, 'lambda_l2': 0.005970339817804419}. Best is trial 43 with value: 0.20653317152447861.\n",
      "regularization_factors, val_score: 0.206301:  10%|###8                                  | 2/20 [00:10<01:37,  5.41s/it]"
     ]
    },
    {
     "name": "stdout",
     "output_type": "stream",
     "text": [
      "[1300]\tcv_agg's l2: 0.207666 + 0.0278688\n",
      "Early stopping, best iteration is:\n",
      "[1211]\tcv_agg's l2: 0.206301 + 0.0297652\n",
      "[100]\tcv_agg's l2: 0.25104 + 0.039089\n",
      "[200]\tcv_agg's l2: 0.231615 + 0.0366471\n",
      "[300]\tcv_agg's l2: 0.221048 + 0.0329909\n",
      "[400]\tcv_agg's l2: 0.215288 + 0.031759\n",
      "[500]\tcv_agg's l2: 0.212561 + 0.0305188\n",
      "[600]\tcv_agg's l2: 0.21157 + 0.0303117\n",
      "[700]\tcv_agg's l2: 0.210694 + 0.0305452\n",
      "[800]\tcv_agg's l2: 0.210071 + 0.0324488\n",
      "[900]\tcv_agg's l2: 0.208927 + 0.0307437\n",
      "[1000]\tcv_agg's l2: 0.208346 + 0.031595\n",
      "[1100]\tcv_agg's l2: 0.208264 + 0.0316118\n",
      "[1200]\tcv_agg's l2: 0.208262 + 0.0320402\n"
     ]
    },
    {
     "name": "stderr",
     "output_type": "stream",
     "text": [
      "regularization_factors, val_score: 0.206301:  15%|#####7                                | 3/20 [00:16<01:33,  5.50s/it][I 2023-11-04 13:51:48,695] Trial 45 finished with value: 0.20813814795727031 and parameters: {'lambda_l1': 0.02041232570882348, 'lambda_l2': 9.009284904924083e-07}. Best is trial 43 with value: 0.20653317152447861.\n",
      "regularization_factors, val_score: 0.206301:  15%|#####7                                | 3/20 [00:16<01:33,  5.50s/it]"
     ]
    },
    {
     "name": "stdout",
     "output_type": "stream",
     "text": [
      "[1300]\tcv_agg's l2: 0.208868 + 0.0318625\n",
      "Early stopping, best iteration is:\n",
      "[1211]\tcv_agg's l2: 0.206301 + 0.0297652\n",
      "[100]\tcv_agg's l2: 0.258101 + 0.0324448\n",
      "[200]\tcv_agg's l2: 0.241835 + 0.0316331\n",
      "[300]\tcv_agg's l2: 0.232899 + 0.0290169\n",
      "[400]\tcv_agg's l2: 0.227147 + 0.0280791\n",
      "[500]\tcv_agg's l2: 0.223277 + 0.0285865\n",
      "[600]\tcv_agg's l2: 0.220696 + 0.0290752\n",
      "[700]\tcv_agg's l2: 0.218435 + 0.0304079\n",
      "[800]\tcv_agg's l2: 0.217453 + 0.031445\n",
      "[900]\tcv_agg's l2: 0.21743 + 0.0314128\n",
      "[1000]\tcv_agg's l2: 0.216814 + 0.0325126\n",
      "[1100]\tcv_agg's l2: 0.215804 + 0.0325565\n",
      "[1200]\tcv_agg's l2: 0.215625 + 0.0326338\n"
     ]
    },
    {
     "name": "stderr",
     "output_type": "stream",
     "text": [
      "regularization_factors, val_score: 0.206301:  20%|#######6                              | 4/20 [00:23<01:40,  6.28s/it][I 2023-11-04 13:51:56,179] Trial 46 finished with value: 0.2154919464878134 and parameters: {'lambda_l1': 3.540652651953826e-08, 'lambda_l2': 6.2261987144686985}. Best is trial 43 with value: 0.20653317152447861.\n"
     ]
    },
    {
     "name": "stdout",
     "output_type": "stream",
     "text": [
      "[1300]\tcv_agg's l2: 0.215801 + 0.0324352\n",
      "Early stopping, best iteration is:\n",
      "[1211]\tcv_agg's l2: 0.206301 + 0.0297652\n"
     ]
    },
    {
     "name": "stderr",
     "output_type": "stream",
     "text": [
      "\r",
      "regularization_factors, val_score: 0.206301:  20%|#######6                              | 4/20 [00:23<01:40,  6.28s/it]"
     ]
    },
    {
     "name": "stdout",
     "output_type": "stream",
     "text": [
      "[100]\tcv_agg's l2: 0.260022 + 0.0348492\n",
      "[200]\tcv_agg's l2: 0.245017 + 0.0343726\n",
      "[300]\tcv_agg's l2: 0.23883 + 0.0329734\n",
      "[400]\tcv_agg's l2: 0.234688 + 0.0321926\n",
      "[500]\tcv_agg's l2: 0.232935 + 0.0318091\n",
      "[600]\tcv_agg's l2: 0.231414 + 0.0313019\n",
      "[700]\tcv_agg's l2: 0.230188 + 0.031053\n",
      "[800]\tcv_agg's l2: 0.228805 + 0.0309446\n",
      "[900]\tcv_agg's l2: 0.227863 + 0.0305175\n",
      "[1000]\tcv_agg's l2: 0.227569 + 0.0304539\n",
      "[1100]\tcv_agg's l2: 0.226604 + 0.0305649\n",
      "[1200]\tcv_agg's l2: 0.226129 + 0.0303274\n"
     ]
    },
    {
     "name": "stderr",
     "output_type": "stream",
     "text": [
      "regularization_factors, val_score: 0.206301:  25%|#########5                            | 5/20 [00:29<01:32,  6.18s/it][I 2023-11-04 13:52:02,165] Trial 47 finished with value: 0.2259573126967111 and parameters: {'lambda_l1': 2.3622920174238953, 'lambda_l2': 0.00024609765114694336}. Best is trial 43 with value: 0.20653317152447861.\n",
      "regularization_factors, val_score: 0.206301:  25%|#########5                            | 5/20 [00:29<01:32,  6.18s/it]"
     ]
    },
    {
     "name": "stdout",
     "output_type": "stream",
     "text": [
      "[1300]\tcv_agg's l2: 0.225682 + 0.0306157\n",
      "Early stopping, best iteration is:\n",
      "[1211]\tcv_agg's l2: 0.206301 + 0.0297652\n",
      "[100]\tcv_agg's l2: 0.249049 + 0.0401087\n",
      "[200]\tcv_agg's l2: 0.230977 + 0.0378684\n",
      "[300]\tcv_agg's l2: 0.222094 + 0.0342755\n",
      "[400]\tcv_agg's l2: 0.216431 + 0.0322462\n",
      "[500]\tcv_agg's l2: 0.213055 + 0.0308112\n",
      "[600]\tcv_agg's l2: 0.210999 + 0.0293163\n",
      "[700]\tcv_agg's l2: 0.209789 + 0.029155\n",
      "[800]\tcv_agg's l2: 0.209299 + 0.0296482\n",
      "[900]\tcv_agg's l2: 0.209022 + 0.0289338\n",
      "[1000]\tcv_agg's l2: 0.207756 + 0.0294122\n",
      "[1100]\tcv_agg's l2: 0.20735 + 0.0288231\n",
      "[1200]\tcv_agg's l2: 0.206942 + 0.0288036\n"
     ]
    },
    {
     "name": "stderr",
     "output_type": "stream",
     "text": [
      "regularization_factors, val_score: 0.206301:  30%|###########4                          | 6/20 [00:36<01:27,  6.27s/it][I 2023-11-04 13:52:08,618] Trial 48 finished with value: 0.20682340199197627 and parameters: {'lambda_l1': 4.912489670891066e-05, 'lambda_l2': 1.1088502947906762e-07}. Best is trial 43 with value: 0.20653317152447861.\n",
      "regularization_factors, val_score: 0.206301:  30%|###########4                          | 6/20 [00:36<01:27,  6.27s/it]"
     ]
    },
    {
     "name": "stdout",
     "output_type": "stream",
     "text": [
      "[1300]\tcv_agg's l2: 0.207559 + 0.028712\n",
      "Early stopping, best iteration is:\n",
      "[1211]\tcv_agg's l2: 0.206301 + 0.0297652\n",
      "[100]\tcv_agg's l2: 0.249047 + 0.0402403\n",
      "[200]\tcv_agg's l2: 0.230296 + 0.0379144\n",
      "[300]\tcv_agg's l2: 0.220531 + 0.0333538\n",
      "[400]\tcv_agg's l2: 0.21492 + 0.0319363\n",
      "[500]\tcv_agg's l2: 0.211858 + 0.0311986\n",
      "[600]\tcv_agg's l2: 0.210252 + 0.029532\n",
      "[700]\tcv_agg's l2: 0.20825 + 0.0296106\n",
      "[800]\tcv_agg's l2: 0.208537 + 0.0307209\n",
      "[900]\tcv_agg's l2: 0.208569 + 0.0298154\n",
      "[1000]\tcv_agg's l2: 0.207978 + 0.0302597\n",
      "[1100]\tcv_agg's l2: 0.207369 + 0.0302943\n",
      "[1200]\tcv_agg's l2: 0.206995 + 0.0303894\n"
     ]
    },
    {
     "name": "stderr",
     "output_type": "stream",
     "text": [
      "regularization_factors, val_score: 0.206301:  35%|#############3                        | 7/20 [00:42<01:23,  6.41s/it][I 2023-11-04 13:52:15,310] Trial 49 finished with value: 0.20691838041934876 and parameters: {'lambda_l1': 1.9045860768845803e-08, 'lambda_l2': 0.005579287159070847}. Best is trial 43 with value: 0.20653317152447861.\n",
      "regularization_factors, val_score: 0.206301:  35%|#############3                        | 7/20 [00:42<01:23,  6.41s/it]"
     ]
    },
    {
     "name": "stdout",
     "output_type": "stream",
     "text": [
      "[1300]\tcv_agg's l2: 0.207356 + 0.0302338\n",
      "Early stopping, best iteration is:\n",
      "[1211]\tcv_agg's l2: 0.206301 + 0.0297652\n",
      "[100]\tcv_agg's l2: 0.249053 + 0.0401074\n",
      "[200]\tcv_agg's l2: 0.230904 + 0.037831\n",
      "[300]\tcv_agg's l2: 0.221499 + 0.0341493\n",
      "[400]\tcv_agg's l2: 0.217485 + 0.0319835\n",
      "[500]\tcv_agg's l2: 0.213729 + 0.0302096\n",
      "[600]\tcv_agg's l2: 0.211113 + 0.0300297\n",
      "[700]\tcv_agg's l2: 0.209276 + 0.0296534\n",
      "[800]\tcv_agg's l2: 0.208323 + 0.0310651\n",
      "[900]\tcv_agg's l2: 0.208318 + 0.0305097\n",
      "[1000]\tcv_agg's l2: 0.208019 + 0.031426\n",
      "[1100]\tcv_agg's l2: 0.207611 + 0.0305298\n",
      "[1200]\tcv_agg's l2: 0.207282 + 0.0305829\n"
     ]
    },
    {
     "name": "stderr",
     "output_type": "stream",
     "text": [
      "regularization_factors, val_score: 0.206301:  40%|###############2                      | 8/20 [00:49<01:16,  6.38s/it][I 2023-11-04 13:52:21,640] Trial 50 finished with value: 0.20735384150670771 and parameters: {'lambda_l1': 0.0013723562292308792, 'lambda_l2': 6.894248095490881e-05}. Best is trial 43 with value: 0.20653317152447861.\n",
      "regularization_factors, val_score: 0.206301:  40%|###############2                      | 8/20 [00:49<01:16,  6.38s/it]"
     ]
    },
    {
     "name": "stdout",
     "output_type": "stream",
     "text": [
      "[1300]\tcv_agg's l2: 0.207949 + 0.0310906\n",
      "Early stopping, best iteration is:\n",
      "[1211]\tcv_agg's l2: 0.206301 + 0.0297652\n",
      "[100]\tcv_agg's l2: 0.249049 + 0.0401087\n",
      "[200]\tcv_agg's l2: 0.230977 + 0.0378684\n",
      "[300]\tcv_agg's l2: 0.222094 + 0.0342754\n",
      "[400]\tcv_agg's l2: 0.216431 + 0.0322461\n",
      "[500]\tcv_agg's l2: 0.213211 + 0.0305796\n",
      "[600]\tcv_agg's l2: 0.210592 + 0.0299387\n",
      "[700]\tcv_agg's l2: 0.209347 + 0.0295826\n",
      "[800]\tcv_agg's l2: 0.208242 + 0.0304293\n",
      "[900]\tcv_agg's l2: 0.208256 + 0.0302545\n",
      "[1000]\tcv_agg's l2: 0.207485 + 0.0305259\n",
      "[1100]\tcv_agg's l2: 0.207213 + 0.0297283\n",
      "[1200]\tcv_agg's l2: 0.206443 + 0.0300166\n"
     ]
    },
    {
     "name": "stderr",
     "output_type": "stream",
     "text": [
      "regularization_factors, val_score: 0.206301:  45%|#################1                    | 9/20 [00:55<01:09,  6.30s/it][I 2023-11-04 13:52:27,768] Trial 51 finished with value: 0.20630119502262745 and parameters: {'lambda_l1': 1.4759858383381558e-05, 'lambda_l2': 1.3632035623771924e-08}. Best is trial 51 with value: 0.20630119502262745.\n",
      "regularization_factors, val_score: 0.206301:  45%|#################1                    | 9/20 [00:55<01:09,  6.30s/it]"
     ]
    },
    {
     "name": "stdout",
     "output_type": "stream",
     "text": [
      "[1300]\tcv_agg's l2: 0.207348 + 0.029517\n",
      "Early stopping, best iteration is:\n",
      "[1211]\tcv_agg's l2: 0.206301 + 0.0297652\n",
      "[100]\tcv_agg's l2: 0.249049 + 0.0401087\n",
      "[200]\tcv_agg's l2: 0.230977 + 0.0378684\n",
      "[300]\tcv_agg's l2: 0.222094 + 0.0342754\n",
      "[400]\tcv_agg's l2: 0.216431 + 0.0322461\n",
      "[500]\tcv_agg's l2: 0.213211 + 0.0305796\n",
      "[600]\tcv_agg's l2: 0.210592 + 0.0299387\n",
      "[700]\tcv_agg's l2: 0.209347 + 0.0295826\n",
      "[800]\tcv_agg's l2: 0.208242 + 0.0304293\n",
      "[900]\tcv_agg's l2: 0.208256 + 0.0302545\n",
      "[1000]\tcv_agg's l2: 0.207485 + 0.0305259\n",
      "[1100]\tcv_agg's l2: 0.207213 + 0.0297283\n",
      "[1200]\tcv_agg's l2: 0.206443 + 0.0300166\n"
     ]
    },
    {
     "name": "stderr",
     "output_type": "stream",
     "text": [
      "regularization_factors, val_score: 0.206301:  50%|##################5                  | 10/20 [01:01<01:03,  6.31s/it][I 2023-11-04 13:52:34,099] Trial 52 finished with value: 0.20630123676250775 and parameters: {'lambda_l1': 4.675748728476885e-06, 'lambda_l2': 1.0538839053540131e-08}. Best is trial 51 with value: 0.20630119502262745.\n",
      "regularization_factors, val_score: 0.206301:  50%|##################5                  | 10/20 [01:01<01:03,  6.31s/it]"
     ]
    },
    {
     "name": "stdout",
     "output_type": "stream",
     "text": [
      "[1300]\tcv_agg's l2: 0.207348 + 0.029517\n",
      "Early stopping, best iteration is:\n",
      "[1211]\tcv_agg's l2: 0.206301 + 0.0297652\n",
      "[100]\tcv_agg's l2: 0.249049 + 0.0401087\n",
      "[200]\tcv_agg's l2: 0.230977 + 0.0378684\n",
      "[300]\tcv_agg's l2: 0.222094 + 0.0342754\n",
      "[400]\tcv_agg's l2: 0.216431 + 0.0322461\n",
      "[500]\tcv_agg's l2: 0.213211 + 0.0305796\n",
      "[600]\tcv_agg's l2: 0.210592 + 0.0299387\n",
      "[700]\tcv_agg's l2: 0.209347 + 0.0295826\n",
      "[800]\tcv_agg's l2: 0.208242 + 0.0304293\n",
      "[900]\tcv_agg's l2: 0.208256 + 0.0302545\n",
      "[1000]\tcv_agg's l2: 0.207485 + 0.0305259\n",
      "[1100]\tcv_agg's l2: 0.207213 + 0.0297283\n",
      "[1200]\tcv_agg's l2: 0.206443 + 0.0300166\n"
     ]
    },
    {
     "name": "stderr",
     "output_type": "stream",
     "text": [
      "regularization_factors, val_score: 0.206301:  55%|####################3                | 11/20 [01:09<01:00,  6.74s/it][I 2023-11-04 13:52:41,816] Trial 53 finished with value: 0.2063012520018647 and parameters: {'lambda_l1': 9.756913439296719e-07, 'lambda_l2': 1.4672818694667125e-08}. Best is trial 51 with value: 0.20630119502262745.\n",
      "regularization_factors, val_score: 0.206301:  55%|####################3                | 11/20 [01:09<01:00,  6.74s/it]"
     ]
    },
    {
     "name": "stdout",
     "output_type": "stream",
     "text": [
      "[1300]\tcv_agg's l2: 0.207348 + 0.029517\n",
      "Early stopping, best iteration is:\n",
      "[1211]\tcv_agg's l2: 0.206301 + 0.0297652\n",
      "[100]\tcv_agg's l2: 0.249049 + 0.0401087\n",
      "[200]\tcv_agg's l2: 0.230977 + 0.0378684\n",
      "[300]\tcv_agg's l2: 0.222094 + 0.0342754\n",
      "[400]\tcv_agg's l2: 0.216431 + 0.0322461\n",
      "[500]\tcv_agg's l2: 0.213211 + 0.0305796\n",
      "[600]\tcv_agg's l2: 0.210592 + 0.0299387\n",
      "[700]\tcv_agg's l2: 0.209347 + 0.0295826\n",
      "[800]\tcv_agg's l2: 0.208242 + 0.0304293\n",
      "[900]\tcv_agg's l2: 0.208256 + 0.0302545\n",
      "[1000]\tcv_agg's l2: 0.207485 + 0.0305259\n",
      "[1100]\tcv_agg's l2: 0.207213 + 0.0297283\n",
      "[1200]\tcv_agg's l2: 0.206443 + 0.0300166\n"
     ]
    },
    {
     "name": "stderr",
     "output_type": "stream",
     "text": [
      "regularization_factors, val_score: 0.206301:  60%|######################2              | 12/20 [01:16<00:55,  6.91s/it][I 2023-11-04 13:52:49,120] Trial 54 finished with value: 0.20630125118718548 and parameters: {'lambda_l1': 1.1849683255532585e-06, 'lambda_l2': 4.3128669703207016e-08}. Best is trial 51 with value: 0.20630119502262745.\n",
      "regularization_factors, val_score: 0.206301:  60%|######################2              | 12/20 [01:16<00:55,  6.91s/it]"
     ]
    },
    {
     "name": "stdout",
     "output_type": "stream",
     "text": [
      "[1300]\tcv_agg's l2: 0.207348 + 0.029517\n",
      "Early stopping, best iteration is:\n",
      "[1211]\tcv_agg's l2: 0.206301 + 0.0297652\n",
      "[100]\tcv_agg's l2: 0.249049 + 0.0401087\n",
      "[200]\tcv_agg's l2: 0.230977 + 0.0378684\n",
      "[300]\tcv_agg's l2: 0.222094 + 0.0342754\n",
      "[400]\tcv_agg's l2: 0.216431 + 0.0322461\n",
      "[500]\tcv_agg's l2: 0.213211 + 0.0305796\n",
      "[600]\tcv_agg's l2: 0.210592 + 0.0299387\n",
      "[700]\tcv_agg's l2: 0.209347 + 0.0295826\n",
      "[800]\tcv_agg's l2: 0.208242 + 0.0304293\n",
      "[900]\tcv_agg's l2: 0.208256 + 0.0302545\n",
      "[1000]\tcv_agg's l2: 0.207485 + 0.0305259\n",
      "[1100]\tcv_agg's l2: 0.207213 + 0.0297283\n",
      "[1200]\tcv_agg's l2: 0.206443 + 0.0300166\n"
     ]
    },
    {
     "name": "stderr",
     "output_type": "stream",
     "text": [
      "regularization_factors, val_score: 0.206301:  65%|########################             | 13/20 [01:24<00:51,  7.32s/it][I 2023-11-04 13:52:57,363] Trial 55 finished with value: 0.2063012499355373 and parameters: {'lambda_l1': 1.480604225307906e-06, 'lambda_l2': 1.0687735063976057e-08}. Best is trial 51 with value: 0.20630119502262745.\n",
      "regularization_factors, val_score: 0.206301:  65%|########################             | 13/20 [01:24<00:51,  7.32s/it]"
     ]
    },
    {
     "name": "stdout",
     "output_type": "stream",
     "text": [
      "[1300]\tcv_agg's l2: 0.207348 + 0.029517\n",
      "Early stopping, best iteration is:\n",
      "[1211]\tcv_agg's l2: 0.206301 + 0.0297652\n",
      "[100]\tcv_agg's l2: 0.249049 + 0.0401087\n",
      "[200]\tcv_agg's l2: 0.230977 + 0.0378684\n",
      "[300]\tcv_agg's l2: 0.222094 + 0.0342754\n",
      "[400]\tcv_agg's l2: 0.216431 + 0.0322461\n",
      "[500]\tcv_agg's l2: 0.213211 + 0.0305796\n",
      "[600]\tcv_agg's l2: 0.210592 + 0.0299387\n",
      "[700]\tcv_agg's l2: 0.209347 + 0.0295826\n",
      "[800]\tcv_agg's l2: 0.208242 + 0.0304293\n",
      "[900]\tcv_agg's l2: 0.208256 + 0.0302545\n",
      "[1000]\tcv_agg's l2: 0.207485 + 0.0305259\n",
      "[1100]\tcv_agg's l2: 0.207213 + 0.0297283\n",
      "[1200]\tcv_agg's l2: 0.206443 + 0.0300166\n"
     ]
    },
    {
     "name": "stderr",
     "output_type": "stream",
     "text": [
      "regularization_factors, val_score: 0.206301:  70%|#########################9           | 14/20 [01:34<00:47,  7.87s/it][I 2023-11-04 13:53:06,510] Trial 56 finished with value: 0.20630125101212418 and parameters: {'lambda_l1': 1.2095771551800572e-06, 'lambda_l2': 1.0062010160481884e-08}. Best is trial 51 with value: 0.20630119502262745.\n",
      "regularization_factors, val_score: 0.206301:  70%|#########################9           | 14/20 [01:34<00:47,  7.87s/it]"
     ]
    },
    {
     "name": "stdout",
     "output_type": "stream",
     "text": [
      "[1300]\tcv_agg's l2: 0.207348 + 0.029517\n",
      "Early stopping, best iteration is:\n",
      "[1211]\tcv_agg's l2: 0.206301 + 0.0297652\n",
      "[100]\tcv_agg's l2: 0.249049 + 0.0401087\n",
      "[200]\tcv_agg's l2: 0.230977 + 0.0378684\n",
      "[300]\tcv_agg's l2: 0.222094 + 0.0342754\n",
      "[400]\tcv_agg's l2: 0.216431 + 0.0322461\n",
      "[500]\tcv_agg's l2: 0.213211 + 0.0305796\n",
      "[600]\tcv_agg's l2: 0.210592 + 0.0299387\n",
      "[700]\tcv_agg's l2: 0.209347 + 0.0295826\n",
      "[800]\tcv_agg's l2: 0.208242 + 0.0304293\n",
      "[900]\tcv_agg's l2: 0.208256 + 0.0302545\n",
      "[1000]\tcv_agg's l2: 0.207485 + 0.0305259\n",
      "[1100]\tcv_agg's l2: 0.207213 + 0.0297283\n",
      "[1200]\tcv_agg's l2: 0.206443 + 0.0300166\n"
     ]
    },
    {
     "name": "stderr",
     "output_type": "stream",
     "text": [
      "regularization_factors, val_score: 0.206301:  75%|###########################7         | 15/20 [01:41<00:38,  7.61s/it][I 2023-11-04 13:53:13,535] Trial 57 finished with value: 0.20630124735816685 and parameters: {'lambda_l1': 2.139043078136536e-06, 'lambda_l2': 1.802833718133546e-08}. Best is trial 51 with value: 0.20630119502262745.\n",
      "regularization_factors, val_score: 0.206301:  75%|###########################7         | 15/20 [01:41<00:38,  7.61s/it]"
     ]
    },
    {
     "name": "stdout",
     "output_type": "stream",
     "text": [
      "[1300]\tcv_agg's l2: 0.207348 + 0.029517\n",
      "Early stopping, best iteration is:\n",
      "[1211]\tcv_agg's l2: 0.206301 + 0.0297652\n",
      "[100]\tcv_agg's l2: 0.249049 + 0.0401087\n",
      "[200]\tcv_agg's l2: 0.230977 + 0.0378684\n",
      "[300]\tcv_agg's l2: 0.222094 + 0.0342754\n",
      "[400]\tcv_agg's l2: 0.216431 + 0.0322461\n",
      "[500]\tcv_agg's l2: 0.213211 + 0.0305796\n",
      "[600]\tcv_agg's l2: 0.210592 + 0.0299387\n",
      "[700]\tcv_agg's l2: 0.209347 + 0.0295826\n",
      "[800]\tcv_agg's l2: 0.208242 + 0.0304293\n",
      "[900]\tcv_agg's l2: 0.208256 + 0.0302545\n",
      "[1000]\tcv_agg's l2: 0.207485 + 0.0305259\n",
      "[1100]\tcv_agg's l2: 0.207213 + 0.0297283\n",
      "[1200]\tcv_agg's l2: 0.206443 + 0.0300166\n"
     ]
    },
    {
     "name": "stderr",
     "output_type": "stream",
     "text": [
      "regularization_factors, val_score: 0.206301:  80%|#############################6       | 16/20 [01:47<00:28,  7.24s/it][I 2023-11-04 13:53:19,914] Trial 58 finished with value: 0.20630125116652756 and parameters: {'lambda_l1': 1.194253862584398e-06, 'lambda_l2': 1.4923435304705763e-08}. Best is trial 51 with value: 0.20630119502262745.\n",
      "regularization_factors, val_score: 0.206301:  80%|#############################6       | 16/20 [01:47<00:28,  7.24s/it]"
     ]
    },
    {
     "name": "stdout",
     "output_type": "stream",
     "text": [
      "[1300]\tcv_agg's l2: 0.207348 + 0.029517\n",
      "Early stopping, best iteration is:\n",
      "[1211]\tcv_agg's l2: 0.206301 + 0.0297652\n",
      "[100]\tcv_agg's l2: 0.249049 + 0.0401087\n",
      "[200]\tcv_agg's l2: 0.230977 + 0.0378684\n",
      "[300]\tcv_agg's l2: 0.222094 + 0.0342754\n",
      "[400]\tcv_agg's l2: 0.216431 + 0.0322461\n",
      "[500]\tcv_agg's l2: 0.213211 + 0.0305796\n",
      "[600]\tcv_agg's l2: 0.210592 + 0.0299387\n",
      "[700]\tcv_agg's l2: 0.209347 + 0.0295826\n",
      "[800]\tcv_agg's l2: 0.208242 + 0.0304293\n",
      "[900]\tcv_agg's l2: 0.208256 + 0.0302545\n",
      "[1000]\tcv_agg's l2: 0.207485 + 0.0305259\n",
      "[1100]\tcv_agg's l2: 0.207213 + 0.0297283\n",
      "[1200]\tcv_agg's l2: 0.206443 + 0.0300166\n"
     ]
    },
    {
     "name": "stderr",
     "output_type": "stream",
     "text": [
      "regularization_factors, val_score: 0.206301:  85%|###############################4     | 17/20 [01:53<00:20,  6.94s/it][I 2023-11-04 13:53:26,162] Trial 59 finished with value: 0.20630125112832975 and parameters: {'lambda_l1': 1.2000996494617052e-06, 'lambda_l2': 1.0229296502449605e-08}. Best is trial 51 with value: 0.20630119502262745.\n",
      "regularization_factors, val_score: 0.206301:  85%|###############################4     | 17/20 [01:53<00:20,  6.94s/it]"
     ]
    },
    {
     "name": "stdout",
     "output_type": "stream",
     "text": [
      "[1300]\tcv_agg's l2: 0.207348 + 0.029517\n",
      "Early stopping, best iteration is:\n",
      "[1211]\tcv_agg's l2: 0.206301 + 0.0297652\n",
      "[100]\tcv_agg's l2: 0.249049 + 0.0401087\n",
      "[200]\tcv_agg's l2: 0.230977 + 0.0378684\n",
      "[300]\tcv_agg's l2: 0.222094 + 0.0342754\n",
      "[400]\tcv_agg's l2: 0.216431 + 0.0322461\n",
      "[500]\tcv_agg's l2: 0.213211 + 0.0305796\n",
      "[600]\tcv_agg's l2: 0.210592 + 0.0299387\n",
      "[700]\tcv_agg's l2: 0.209347 + 0.0295826\n",
      "[800]\tcv_agg's l2: 0.208242 + 0.0304293\n",
      "[900]\tcv_agg's l2: 0.208256 + 0.0302545\n",
      "[1000]\tcv_agg's l2: 0.207485 + 0.0305259\n",
      "[1100]\tcv_agg's l2: 0.207213 + 0.0297283\n",
      "[1200]\tcv_agg's l2: 0.206443 + 0.0300166\n"
     ]
    },
    {
     "name": "stderr",
     "output_type": "stream",
     "text": [
      "regularization_factors, val_score: 0.206301:  90%|#################################3   | 18/20 [02:00<00:13,  6.84s/it][I 2023-11-04 13:53:32,769] Trial 60 finished with value: 0.20630125092645057 and parameters: {'lambda_l1': 1.2386063150399442e-06, 'lambda_l2': 1.105643898641619e-08}. Best is trial 51 with value: 0.20630119502262745.\n",
      "regularization_factors, val_score: 0.206301:  90%|#################################3   | 18/20 [02:00<00:13,  6.84s/it]"
     ]
    },
    {
     "name": "stdout",
     "output_type": "stream",
     "text": [
      "[1300]\tcv_agg's l2: 0.207348 + 0.029517\n",
      "Early stopping, best iteration is:\n",
      "[1211]\tcv_agg's l2: 0.206301 + 0.0297652\n",
      "[100]\tcv_agg's l2: 0.249049 + 0.0401087\n",
      "[200]\tcv_agg's l2: 0.230977 + 0.0378684\n",
      "[300]\tcv_agg's l2: 0.222094 + 0.0342754\n",
      "[400]\tcv_agg's l2: 0.216431 + 0.0322461\n",
      "[500]\tcv_agg's l2: 0.213211 + 0.0305796\n",
      "[600]\tcv_agg's l2: 0.210592 + 0.0299387\n",
      "[700]\tcv_agg's l2: 0.209347 + 0.0295826\n",
      "[800]\tcv_agg's l2: 0.208242 + 0.0304293\n",
      "[900]\tcv_agg's l2: 0.208256 + 0.0302545\n",
      "[1000]\tcv_agg's l2: 0.207485 + 0.0305259\n",
      "[1100]\tcv_agg's l2: 0.207213 + 0.0297283\n",
      "[1200]\tcv_agg's l2: 0.206443 + 0.0300166\n"
     ]
    },
    {
     "name": "stderr",
     "output_type": "stream",
     "text": [
      "regularization_factors, val_score: 0.206301:  95%|###################################1 | 19/20 [02:07<00:06,  6.83s/it][I 2023-11-04 13:53:39,564] Trial 61 finished with value: 0.20630125137858896 and parameters: {'lambda_l1': 1.1487193091956667e-06, 'lambda_l2': 1.2908369130434047e-08}. Best is trial 51 with value: 0.20630119502262745.\n",
      "regularization_factors, val_score: 0.206301:  95%|###################################1 | 19/20 [02:07<00:06,  6.83s/it]"
     ]
    },
    {
     "name": "stdout",
     "output_type": "stream",
     "text": [
      "[1300]\tcv_agg's l2: 0.207348 + 0.029517\n",
      "Early stopping, best iteration is:\n",
      "[1211]\tcv_agg's l2: 0.206301 + 0.0297652\n",
      "[100]\tcv_agg's l2: 0.249049 + 0.0401087\n",
      "[200]\tcv_agg's l2: 0.230977 + 0.0378684\n",
      "[300]\tcv_agg's l2: 0.222094 + 0.0342754\n",
      "[400]\tcv_agg's l2: 0.216431 + 0.0322461\n",
      "[500]\tcv_agg's l2: 0.213211 + 0.0305796\n",
      "[600]\tcv_agg's l2: 0.210592 + 0.0299387\n",
      "[700]\tcv_agg's l2: 0.209347 + 0.0295826\n",
      "[800]\tcv_agg's l2: 0.208242 + 0.0304293\n",
      "[900]\tcv_agg's l2: 0.208256 + 0.0302545\n",
      "[1000]\tcv_agg's l2: 0.207485 + 0.0305259\n",
      "[1100]\tcv_agg's l2: 0.207213 + 0.0297283\n",
      "[1200]\tcv_agg's l2: 0.206443 + 0.0300166\n"
     ]
    },
    {
     "name": "stderr",
     "output_type": "stream",
     "text": [
      "regularization_factors, val_score: 0.206301: 100%|#####################################| 20/20 [02:13<00:00,  6.78s/it][I 2023-11-04 13:53:46,228] Trial 62 finished with value: 0.20630122856529098 and parameters: {'lambda_l1': 6.686903286218359e-06, 'lambda_l2': 1.2657774296482916e-08}. Best is trial 51 with value: 0.20630119502262745.\n",
      "regularization_factors, val_score: 0.206301: 100%|#####################################| 20/20 [02:13<00:00,  6.69s/it]\n"
     ]
    },
    {
     "name": "stdout",
     "output_type": "stream",
     "text": [
      "[1300]\tcv_agg's l2: 0.207348 + 0.029517\n",
      "Early stopping, best iteration is:\n",
      "[1211]\tcv_agg's l2: 0.206301 + 0.0297652\n"
     ]
    },
    {
     "name": "stderr",
     "output_type": "stream",
     "text": [
      "min_data_in_leaf, val_score: 0.206301:   0%|                                                     | 0/5 [00:00<?, ?it/s]"
     ]
    },
    {
     "name": "stdout",
     "output_type": "stream",
     "text": [
      "[100]\tcv_agg's l2: 0.356584 + 0.0622316\n",
      "[200]\tcv_agg's l2: 0.334615 + 0.0622083\n",
      "[300]\tcv_agg's l2: 0.326613 + 0.0632484\n",
      "[400]\tcv_agg's l2: 0.32127 + 0.0647247\n",
      "[500]\tcv_agg's l2: 0.320057 + 0.0655972\n",
      "[600]\tcv_agg's l2: 0.317508 + 0.0653675\n",
      "[700]\tcv_agg's l2: 0.316799 + 0.0671748\n",
      "[800]\tcv_agg's l2: 0.31708 + 0.0668105\n",
      "[900]\tcv_agg's l2: 0.315002 + 0.066853\n",
      "[1000]\tcv_agg's l2: 0.314502 + 0.0684511\n",
      "[1100]\tcv_agg's l2: 0.315113 + 0.0683618\n",
      "[1200]\tcv_agg's l2: 0.314426 + 0.0686906\n"
     ]
    },
    {
     "name": "stderr",
     "output_type": "stream",
     "text": [
      "min_data_in_leaf, val_score: 0.206301:  20%|#########                                    | 1/5 [00:06<00:26,  6.74s/it][I 2023-11-04 13:53:52,973] Trial 63 finished with value: 0.31452626098148573 and parameters: {'min_child_samples': 50}. Best is trial 63 with value: 0.31452626098148573.\n",
      "min_data_in_leaf, val_score: 0.206301:  20%|#########                                    | 1/5 [00:06<00:26,  6.74s/it]"
     ]
    },
    {
     "name": "stdout",
     "output_type": "stream",
     "text": [
      "[1300]\tcv_agg's l2: 0.315273 + 0.0697325\n",
      "Early stopping, best iteration is:\n",
      "[1211]\tcv_agg's l2: 0.206301 + 0.0297652\n",
      "[100]\tcv_agg's l2: 0.213214 + 0.0274551\n",
      "[200]\tcv_agg's l2: 0.197659 + 0.0268821\n",
      "[300]\tcv_agg's l2: 0.193402 + 0.0277142\n",
      "[400]\tcv_agg's l2: 0.189892 + 0.0273879\n",
      "[500]\tcv_agg's l2: 0.189332 + 0.0269649\n"
     ]
    },
    {
     "name": "stderr",
     "output_type": "stream",
     "text": [
      "min_data_in_leaf, val_score: 0.188764:  40%|##################                           | 2/5 [00:10<00:14,  4.75s/it][I 2023-11-04 13:53:56,334] Trial 64 finished with value: 0.18876413321625335 and parameters: {'min_child_samples': 5}. Best is trial 64 with value: 0.18876413321625335.\n",
      "min_data_in_leaf, val_score: 0.188764:  40%|##################                           | 2/5 [00:10<00:14,  4.75s/it]"
     ]
    },
    {
     "name": "stdout",
     "output_type": "stream",
     "text": [
      "Early stopping, best iteration is:\n",
      "[447]\tcv_agg's l2: 0.188764 + 0.0272988\n",
      "[100]\tcv_agg's l2: 0.280341 + 0.054684\n",
      "[200]\tcv_agg's l2: 0.26233 + 0.0583253\n",
      "[300]\tcv_agg's l2: 0.25281 + 0.0580266\n",
      "[400]\tcv_agg's l2: 0.248657 + 0.0568229\n",
      "[500]\tcv_agg's l2: 0.245908 + 0.0565683\n"
     ]
    },
    {
     "name": "stderr",
     "output_type": "stream",
     "text": [
      "min_data_in_leaf, val_score: 0.188764:  60%|###########################                  | 3/5 [00:13<00:08,  4.25s/it][I 2023-11-04 13:53:59,982] Trial 65 finished with value: 0.2475222334277698 and parameters: {'min_child_samples': 25}. Best is trial 64 with value: 0.18876413321625335.\n",
      "min_data_in_leaf, val_score: 0.188764:  60%|###########################                  | 3/5 [00:13<00:08,  4.25s/it]"
     ]
    },
    {
     "name": "stdout",
     "output_type": "stream",
     "text": [
      "Early stopping, best iteration is:\n",
      "[447]\tcv_agg's l2: 0.188764 + 0.0272988\n",
      "[100]\tcv_agg's l2: 0.218253 + 0.0289169\n",
      "[200]\tcv_agg's l2: 0.203463 + 0.0321026\n",
      "[300]\tcv_agg's l2: 0.196481 + 0.0323035\n",
      "[400]\tcv_agg's l2: 0.19162 + 0.0319286\n",
      "[500]\tcv_agg's l2: 0.190119 + 0.0320694\n"
     ]
    },
    {
     "name": "stderr",
     "output_type": "stream",
     "text": [
      "min_data_in_leaf, val_score: 0.188764:  80%|####################################         | 4/5 [00:21<00:05,  5.50s/it][I 2023-11-04 13:54:07,391] Trial 66 finished with value: 0.1911670736979551 and parameters: {'min_child_samples': 10}. Best is trial 64 with value: 0.18876413321625335.\n",
      "min_data_in_leaf, val_score: 0.188764:  80%|####################################         | 4/5 [00:21<00:05,  5.50s/it]"
     ]
    },
    {
     "name": "stdout",
     "output_type": "stream",
     "text": [
      "Early stopping, best iteration is:\n",
      "[447]\tcv_agg's l2: 0.188764 + 0.0272988\n",
      "[100]\tcv_agg's l2: 0.960329 + 0.263665\n",
      "[200]\tcv_agg's l2: 0.924373 + 0.258897\n",
      "[300]\tcv_agg's l2: 0.907604 + 0.260686\n",
      "[400]\tcv_agg's l2: 0.897073 + 0.258744\n",
      "[500]\tcv_agg's l2: 0.887316 + 0.254751\n"
     ]
    },
    {
     "name": "stderr",
     "output_type": "stream",
     "text": [
      "min_data_in_leaf, val_score: 0.188764: 100%|#############################################| 5/5 [00:23<00:00,  4.51s/it][I 2023-11-04 13:54:10,146] Trial 67 finished with value: 0.8928729830914757 and parameters: {'min_child_samples': 100}. Best is trial 64 with value: 0.18876413321625335.\n",
      "min_data_in_leaf, val_score: 0.188764: 100%|#############################################| 5/5 [00:23<00:00,  4.78s/it]"
     ]
    },
    {
     "name": "stdout",
     "output_type": "stream",
     "text": [
      "Early stopping, best iteration is:\n",
      "[447]\tcv_agg's l2: 0.188764 + 0.0272988\n"
     ]
    },
    {
     "name": "stderr",
     "output_type": "stream",
     "text": [
      "\n"
     ]
    }
   ],
   "source": [
    "import optuna.integration.lightgbm as lgb\n",
    "from lightgbm import early_stopping, log_evaluation\n",
    "from sklearn.model_selection import KFold\n",
    "from sklearn.model_selection import RepeatedKFold\n",
    "\n",
    "\n",
    "lgb_train = lgb.Dataset(X_train, y_train)\n",
    "\n",
    "params = {\n",
    "    \"boosting_type\": \"gbdt\",\n",
    "    \"objective\": \"regression\",\n",
    "    \"metric\": \"l2\",\n",
    "    \"verbosity\": -1,\n",
    "}\n",
    "\n",
    "tuner = lgb.LightGBMTunerCV(\n",
    "    params,\n",
    "    lgb_train,\n",
    "    folds=KFold(n_splits=5),\n",
    "    num_boost_round=10000,\n",
    "    callbacks=[early_stopping(100), log_evaluation(100)],\n",
    ")\n",
    "\n",
    "tuner.run()"
   ]
  },
  {
   "cell_type": "code",
   "execution_count": 120,
   "id": "3b9d8fb3",
   "metadata": {},
   "outputs": [
    {
     "name": "stdout",
     "output_type": "stream",
     "text": [
      "Best score: 0.18876413321625335\n",
      "Params: \n",
      "    boosting_type: gbdt\n",
      "    objective: regression\n",
      "    metric: l2\n",
      "    verbosity: -1\n",
      "    feature_pre_filter: False\n",
      "    lambda_l1: 1.4759858383381558e-05\n",
      "    lambda_l2: 1.3632035623771924e-08\n",
      "    num_leaves: 7\n",
      "    feature_fraction: 0.7\n",
      "    bagging_fraction: 0.9355231878888309\n",
      "    bagging_freq: 1\n",
      "    min_child_samples: 5\n"
     ]
    }
   ],
   "source": [
    "print(f\"Best score: {tuner.best_score}\")\n",
    "best_params = tuner.best_params\n",
    "print(\"Params: \")\n",
    "for key, value in best_params.items():\n",
    "    print(\"    {}: {}\".format(key, value))"
   ]
  },
  {
   "cell_type": "code",
   "execution_count": 121,
   "id": "d25b1687",
   "metadata": {},
   "outputs": [],
   "source": [
    "import lightgbm as lgb\n",
    "\n",
    "lgb_tuned = lgb.train(\n",
    "    best_params,\n",
    "    lgb_train,\n",
    "    num_boost_round=10000,\n",
    ")"
   ]
  },
  {
   "cell_type": "code",
   "execution_count": 122,
   "id": "290a9f09",
   "metadata": {
    "scrolled": false
   },
   "outputs": [
    {
     "name": "stdout",
     "output_type": "stream",
     "text": [
      "RMSE train: 0.00\n",
      "RMSE test: 0.67\n",
      "MSE test: 0.45\n",
      "MAE test: 0.48\n",
      "\n"
     ]
    }
   ],
   "source": [
    "rmse, mse, mae = assess_regression_model(lgb_tuned, X_train, X_test, y_train, y_test)"
   ]
  },
  {
   "cell_type": "code",
   "execution_count": 123,
   "id": "a6ecfca2",
   "metadata": {},
   "outputs": [],
   "source": [
    "results.loc[1] = [\n",
    "    \"chronological\",\n",
    "    \"Optuna\",\n",
    "    len(X_test.columns),\n",
    "    mse,\n",
    "    rmse,\n",
    "    mae,\n",
    "]"
   ]
  },
  {
   "cell_type": "markdown",
   "id": "2f13ab75",
   "metadata": {},
   "source": [
    "###### MAE by level"
   ]
  },
  {
   "cell_type": "code",
   "execution_count": 124,
   "id": "e2f172bc",
   "metadata": {},
   "outputs": [
    {
     "data": {
      "image/png": "[encoded data removed]",
      "text/plain": [
       "<Figure size 720x432 with 1 Axes>"
      ]
     },
     "metadata": {
      "needs_background": "light"
     },
     "output_type": "display_data"
    }
   ],
   "source": [
    "plot_mae_by_level(y_test, y_pred_test)"
   ]
  },
  {
   "cell_type": "code",
   "execution_count": 125,
   "id": "9f6b3122",
   "metadata": {
    "scrolled": false
   },
   "outputs": [
    {
     "name": "stdout",
     "output_type": "stream",
     "text": [
      "Normal:\n",
      "MSE: 0.45\n",
      "RMSE: 0.67\n",
      "\n",
      "Round type: round\n",
      "MSE: 0.45\n",
      "RMSE: 0.67\n",
      "\n",
      "Round type: 0.33\n",
      "MSE: 0.47\n",
      "RMSE: 0.69\n",
      "\n",
      "Round type: 0.45\n",
      "MSE: 0.45\n",
      "RMSE: 0.67\n",
      "\n"
     ]
    }
   ],
   "source": [
    "predict = lgb_tuned.predict(X_test)\n",
    "check_round_predictions([\"round\", 0.33, 0.45], y_test, predict)"
   ]
  },
  {
   "cell_type": "code",
   "execution_count": 126,
   "id": "515dc232",
   "metadata": {},
   "outputs": [
    {
     "data": {
      "image/png": "[encoded data removed]",
      "text/plain": [
       "<Figure size 432x288 with 2 Axes>"
      ]
     },
     "metadata": {
      "needs_background": "light"
     },
     "output_type": "display_data"
    }
   ],
   "source": [
    "plot_confusion_matrix(\"round\", predict, y_test)"
   ]
  },
  {
   "cell_type": "markdown",
   "id": "493f7602",
   "metadata": {},
   "source": [
    "## Random split"
   ]
  },
  {
   "cell_type": "code",
   "execution_count": 127,
   "id": "4948ca0a",
   "metadata": {},
   "outputs": [
    {
     "name": "stdout",
     "output_type": "stream",
     "text": [
      "[LightGBM] [Warning] Auto-choosing col-wise multi-threading, the overhead of testing was 0.000470 seconds.\n",
      "You can set `force_col_wise=true` to remove the overhead.\n",
      "[LightGBM] [Info] Total Bins 234\n",
      "[LightGBM] [Info] Number of data points in the train set: 904, number of used features: 8\n",
      "[LightGBM] [Info] Start training from score 7.162611\n",
      "Training until validation scores don't improve for 5 rounds\n",
      "Early stopping, best iteration is:\n",
      "[55]\tvalid_0's l2: 0.243018\tvalid_0's l1: 0.340495\n"
     ]
    }
   ],
   "source": [
    "import lightgbm as lgb\n",
    "from sklearn.metrics import mean_squared_error\n",
    "\n",
    "lgb_train = lgb.Dataset(X_train_random_split, y_train_random_split)\n",
    "lgb_eval = lgb.Dataset(X_test_random_split, y_test_random_split, reference=lgb_train)\n",
    "\n",
    "params = {\n",
    "    \"boosting_type\": \"gbdt\",\n",
    "    \"objective\": \"regression\",\n",
    "    \"metric\": {\"l2\", \"l1\"},\n",
    "}\n",
    "\n",
    "gbm = lgb.train(\n",
    "    params,\n",
    "    lgb_train,\n",
    "    num_boost_round=100,\n",
    "    valid_sets=lgb_eval,\n",
    "    callbacks=[lgb.early_stopping(stopping_rounds=5)],\n",
    ")"
   ]
  },
  {
   "cell_type": "code",
   "execution_count": 128,
   "id": "f9bd4c3b",
   "metadata": {},
   "outputs": [],
   "source": [
    "y_pred_train = gbm.predict(X_train_random_split, num_iteration=gbm.best_iteration)\n",
    "y_pred_test = gbm.predict(X_test_random_split, num_iteration=gbm.best_iteration)"
   ]
  },
  {
   "cell_type": "code",
   "execution_count": 129,
   "id": "c014931e",
   "metadata": {},
   "outputs": [
    {
     "name": "stdout",
     "output_type": "stream",
     "text": [
      "MSE: 0.24\n",
      "RMSE: 0.49\n",
      "MAE: 0.34\n"
     ]
    }
   ],
   "source": [
    "from sklearn.metrics import mean_squared_error, mean_absolute_error\n",
    "\n",
    "\n",
    "mse = mean_squared_error(y_test_random_split, y_pred_test)\n",
    "rmse = mean_squared_error(y_test_random_split, y_pred_test, squared=False)\n",
    "mae = mean_absolute_error(y_test_random_split, y_pred_test)\n",
    "\n",
    "print(f\"MSE: {mse:.2f}\")\n",
    "print(f\"RMSE: {rmse:.2f}\")\n",
    "print(f\"MAE: {mae:.2f}\")"
   ]
  },
  {
   "cell_type": "code",
   "execution_count": 130,
   "id": "8cbceea7",
   "metadata": {},
   "outputs": [],
   "source": [
    "results.loc[2] = [\"random\", \"normal\", len(X_test.columns), mse, rmse, mae]"
   ]
  },
  {
   "cell_type": "markdown",
   "id": "eacfd0ab",
   "metadata": {},
   "source": [
    "###### MAE by level"
   ]
  },
  {
   "cell_type": "code",
   "execution_count": 131,
   "id": "8af01c5c",
   "metadata": {},
   "outputs": [
    {
     "data": {
      "image/png": "[encoded data removed]",
      "text/plain": [
       "<Figure size 720x432 with 1 Axes>"
      ]
     },
     "metadata": {
      "needs_background": "light"
     },
     "output_type": "display_data"
    }
   ],
   "source": [
    "plot_mae_by_level(y_test_random_split, y_pred_test)"
   ]
  },
  {
   "cell_type": "code",
   "execution_count": 132,
   "id": "e5edd1d7",
   "metadata": {
    "scrolled": true
   },
   "outputs": [
    {
     "name": "stdout",
     "output_type": "stream",
     "text": [
      "Normal:\n",
      "MSE: 0.24\n",
      "RMSE: 0.49\n",
      "\n",
      "Round type: round\n",
      "MSE: 0.26\n",
      "RMSE: 0.51\n",
      "\n",
      "Round type: 0.33\n",
      "MSE: 0.32\n",
      "RMSE: 0.57\n",
      "\n",
      "Round type: 0.45\n",
      "MSE: 0.27\n",
      "RMSE: 0.52\n",
      "\n"
     ]
    }
   ],
   "source": [
    "check_round_predictions([\"round\", 0.33, 0.45], y_test_random_split, y_pred_test)"
   ]
  },
  {
   "cell_type": "code",
   "execution_count": 133,
   "id": "39e001dd",
   "metadata": {},
   "outputs": [
    {
     "data": {
      "image/png": "[encoded data removed]",
      "text/plain": [
       "<Figure size 432x288 with 2 Axes>"
      ]
     },
     "metadata": {
      "needs_background": "light"
     },
     "output_type": "display_data"
    }
   ],
   "source": [
    "plot_confusion_matrix(\"round\", y_pred_test, y_test_random_split)"
   ]
  },
  {
   "cell_type": "markdown",
   "id": "2a0c7ae0",
   "metadata": {},
   "source": [
    "### Tuning"
   ]
  },
  {
   "cell_type": "code",
   "execution_count": 134,
   "id": "0ef6525a",
   "metadata": {},
   "outputs": [
    {
     "name": "stderr",
     "output_type": "stream",
     "text": [
      "[I 2023-11-04 13:54:32,053] A new study created in memory with name: no-name-24b80504-9109-45be-a712-a774fc50fb67\n",
      "feature_fraction, val_score: inf:   0%|                                                          | 0/7 [00:00<?, ?it/s]"
     ]
    },
    {
     "name": "stdout",
     "output_type": "stream",
     "text": [
      "Training until validation scores don't improve for 100 rounds\n",
      "[100]\tcv_agg's l2: 0.309343 + 0.0541712\n",
      "[200]\tcv_agg's l2: 0.292654 + 0.0524236\n",
      "[300]\tcv_agg's l2: 0.291959 + 0.0528952\n"
     ]
    },
    {
     "name": "stderr",
     "output_type": "stream",
     "text": [
      "feature_fraction, val_score: 0.290914:  14%|######4                                      | 1/7 [00:03<00:20,  3.43s/it][I 2023-11-04 13:54:35,488] Trial 0 finished with value: 0.2909144434338179 and parameters: {'feature_fraction': 0.5}. Best is trial 0 with value: 0.2909144434338179.\n",
      "feature_fraction, val_score: 0.290914:  14%|######4                                      | 1/7 [00:03<00:20,  3.43s/it]"
     ]
    },
    {
     "name": "stdout",
     "output_type": "stream",
     "text": [
      "Early stopping, best iteration is:\n",
      "[233]\tcv_agg's l2: 0.290914 + 0.0521915\n",
      "[100]\tcv_agg's l2: 0.258517 + 0.0415643\n",
      "[200]\tcv_agg's l2: 0.256276 + 0.0389015\n"
     ]
    },
    {
     "name": "stderr",
     "output_type": "stream",
     "text": [
      "feature_fraction, val_score: 0.255669:  29%|############8                                | 2/7 [00:06<00:17,  3.48s/it][I 2023-11-04 13:54:39,013] Trial 1 finished with value: 0.25566926855162525 and parameters: {'feature_fraction': 0.6}. Best is trial 1 with value: 0.25566926855162525.\n",
      "feature_fraction, val_score: 0.255669:  29%|############8                                | 2/7 [00:06<00:17,  3.48s/it]"
     ]
    },
    {
     "name": "stdout",
     "output_type": "stream",
     "text": [
      "Early stopping, best iteration is:\n",
      "[177]\tcv_agg's l2: 0.255669 + 0.0385289\n",
      "[100]\tcv_agg's l2: 0.251205 + 0.0454382\n"
     ]
    },
    {
     "name": "stderr",
     "output_type": "stream",
     "text": [
      "feature_fraction, val_score: 0.250202:  43%|###################2                         | 3/7 [00:08<00:11,  2.80s/it][I 2023-11-04 13:54:40,992] Trial 2 finished with value: 0.2502017847971424 and parameters: {'feature_fraction': 0.8}. Best is trial 2 with value: 0.2502017847971424.\n",
      "feature_fraction, val_score: 0.250202:  43%|###################2                         | 3/7 [00:08<00:11,  2.80s/it]"
     ]
    },
    {
     "name": "stdout",
     "output_type": "stream",
     "text": [
      "[200]\tcv_agg's l2: 0.252873 + 0.040655\n",
      "Early stopping, best iteration is:\n",
      "[103]\tcv_agg's l2: 0.250202 + 0.045333\n",
      "[100]\tcv_agg's l2: 0.251205 + 0.0454382\n"
     ]
    },
    {
     "name": "stderr",
     "output_type": "stream",
     "text": [
      "feature_fraction, val_score: 0.250202:  57%|#########################7                   | 4/7 [00:10<00:07,  2.43s/it][I 2023-11-04 13:54:42,857] Trial 3 finished with value: 0.2502017847971424 and parameters: {'feature_fraction': 0.7}. Best is trial 2 with value: 0.2502017847971424.\n",
      "feature_fraction, val_score: 0.250202:  57%|#########################7                   | 4/7 [00:10<00:07,  2.43s/it]"
     ]
    },
    {
     "name": "stdout",
     "output_type": "stream",
     "text": [
      "[200]\tcv_agg's l2: 0.252873 + 0.040655\n",
      "Early stopping, best iteration is:\n",
      "[103]\tcv_agg's l2: 0.250202 + 0.045333\n",
      "[100]\tcv_agg's l2: 0.316965 + 0.0456782\n"
     ]
    },
    {
     "name": "stderr",
     "output_type": "stream",
     "text": [
      "feature_fraction, val_score: 0.250202:  71%|################################1            | 5/7 [00:12<00:04,  2.22s/it][I 2023-11-04 13:54:44,705] Trial 4 finished with value: 0.3165320059612487 and parameters: {'feature_fraction': 0.4}. Best is trial 2 with value: 0.2502017847971424.\n",
      "feature_fraction, val_score: 0.250202:  71%|################################1            | 5/7 [00:12<00:04,  2.22s/it]"
     ]
    },
    {
     "name": "stdout",
     "output_type": "stream",
     "text": [
      "[200]\tcv_agg's l2: 0.294239 + 0.0452928\n",
      "Early stopping, best iteration is:\n",
      "[103]\tcv_agg's l2: 0.250202 + 0.045333\n",
      "[100]\tcv_agg's l2: 0.256328 + 0.0777765\n"
     ]
    },
    {
     "name": "stderr",
     "output_type": "stream",
     "text": [
      "feature_fraction, val_score: 0.250202:  86%|######################################5      | 6/7 [00:14<00:02,  2.17s/it][I 2023-11-04 13:54:46,765] Trial 5 finished with value: 0.2560978450576499 and parameters: {'feature_fraction': 1.0}. Best is trial 2 with value: 0.2502017847971424.\n",
      "feature_fraction, val_score: 0.250202:  86%|######################################5      | 6/7 [00:14<00:02,  2.17s/it]"
     ]
    },
    {
     "name": "stdout",
     "output_type": "stream",
     "text": [
      "[200]\tcv_agg's l2: 0.259774 + 0.07799\n",
      "Early stopping, best iteration is:\n",
      "[103]\tcv_agg's l2: 0.250202 + 0.045333\n",
      "[100]\tcv_agg's l2: 0.244999 + 0.0550316\n"
     ]
    },
    {
     "name": "stderr",
     "output_type": "stream",
     "text": [
      "feature_fraction, val_score: 0.243159: 100%|#############################################| 7/7 [00:16<00:00,  2.04s/it][I 2023-11-04 13:54:48,552] Trial 6 finished with value: 0.24315861578478698 and parameters: {'feature_fraction': 0.8999999999999999}. Best is trial 6 with value: 0.24315861578478698.\n",
      "feature_fraction, val_score: 0.243159: 100%|#############################################| 7/7 [00:16<00:00,  2.36s/it]\n"
     ]
    },
    {
     "name": "stdout",
     "output_type": "stream",
     "text": [
      "Early stopping, best iteration is:\n",
      "[83]\tcv_agg's l2: 0.243159 + 0.0562024\n"
     ]
    },
    {
     "name": "stderr",
     "output_type": "stream",
     "text": [
      "num_leaves, val_score: 0.243159:   0%|                                                          | 0/20 [00:00<?, ?it/s]"
     ]
    },
    {
     "name": "stdout",
     "output_type": "stream",
     "text": [
      "[100]\tcv_agg's l2: 0.244999 + 0.0550316\n"
     ]
    },
    {
     "name": "stderr",
     "output_type": "stream",
     "text": [
      "num_leaves, val_score: 0.243159:   5%|##5                                               | 1/20 [00:01<00:33,  1.77s/it][I 2023-11-04 13:54:50,333] Trial 7 finished with value: 0.24315861578478698 and parameters: {'num_leaves': 84}. Best is trial 7 with value: 0.24315861578478698.\n",
      "num_leaves, val_score: 0.243159:   5%|##5                                               | 1/20 [00:01<00:33,  1.77s/it]"
     ]
    },
    {
     "name": "stdout",
     "output_type": "stream",
     "text": [
      "Early stopping, best iteration is:\n",
      "[83]\tcv_agg's l2: 0.243159 + 0.0562024\n",
      "[100]\tcv_agg's l2: 0.244999 + 0.0550316\n"
     ]
    },
    {
     "name": "stderr",
     "output_type": "stream",
     "text": [
      "num_leaves, val_score: 0.243159:  10%|#####                                             | 2/20 [00:03<00:32,  1.80s/it][I 2023-11-04 13:54:52,149] Trial 8 finished with value: 0.24315861578478698 and parameters: {'num_leaves': 88}. Best is trial 7 with value: 0.24315861578478698.\n",
      "num_leaves, val_score: 0.243159:  10%|#####                                             | 2/20 [00:03<00:32,  1.80s/it]"
     ]
    },
    {
     "name": "stdout",
     "output_type": "stream",
     "text": [
      "Early stopping, best iteration is:\n",
      "[83]\tcv_agg's l2: 0.243159 + 0.0562024\n",
      "[100]\tcv_agg's l2: 0.244999 + 0.0550316\n"
     ]
    },
    {
     "name": "stderr",
     "output_type": "stream",
     "text": [
      "num_leaves, val_score: 0.243159:  15%|#######5                                          | 3/20 [00:05<00:31,  1.85s/it][I 2023-11-04 13:54:54,054] Trial 9 finished with value: 0.24315861578478698 and parameters: {'num_leaves': 190}. Best is trial 7 with value: 0.24315861578478698.\n",
      "num_leaves, val_score: 0.243159:  15%|#######5                                          | 3/20 [00:05<00:31,  1.85s/it]"
     ]
    },
    {
     "name": "stdout",
     "output_type": "stream",
     "text": [
      "Early stopping, best iteration is:\n",
      "[83]\tcv_agg's l2: 0.243159 + 0.0562024\n",
      "[100]\tcv_agg's l2: 0.247664 + 0.0624908\n"
     ]
    },
    {
     "name": "stderr",
     "output_type": "stream",
     "text": [
      "num_leaves, val_score: 0.243159:  20%|##########                                        | 4/20 [00:06<00:22,  1.41s/it][I 2023-11-04 13:54:54,787] Trial 10 finished with value: 0.24984710260015777 and parameters: {'num_leaves': 8}. Best is trial 7 with value: 0.24315861578478698.\n",
      "num_leaves, val_score: 0.243159:  20%|##########                                        | 4/20 [00:06<00:22,  1.41s/it]"
     ]
    },
    {
     "name": "stdout",
     "output_type": "stream",
     "text": [
      "Early stopping, best iteration is:\n",
      "[83]\tcv_agg's l2: 0.243159 + 0.0562024\n",
      "[100]\tcv_agg's l2: 0.244999 + 0.0550316\n"
     ]
    },
    {
     "name": "stderr",
     "output_type": "stream",
     "text": [
      "num_leaves, val_score: 0.243159:  25%|############5                                     | 5/20 [00:08<00:24,  1.60s/it][I 2023-11-04 13:54:56,733] Trial 11 finished with value: 0.24315861578478698 and parameters: {'num_leaves': 104}. Best is trial 7 with value: 0.24315861578478698.\n",
      "num_leaves, val_score: 0.243159:  25%|############5                                     | 5/20 [00:08<00:24,  1.60s/it]"
     ]
    },
    {
     "name": "stdout",
     "output_type": "stream",
     "text": [
      "Early stopping, best iteration is:\n",
      "[83]\tcv_agg's l2: 0.243159 + 0.0562024\n",
      "[100]\tcv_agg's l2: 0.244999 + 0.0550316\n"
     ]
    },
    {
     "name": "stderr",
     "output_type": "stream",
     "text": [
      "num_leaves, val_score: 0.243159:  30%|###############                                   | 6/20 [00:10<00:24,  1.78s/it][I 2023-11-04 13:54:58,848] Trial 12 finished with value: 0.24315861578478698 and parameters: {'num_leaves': 256}. Best is trial 7 with value: 0.24315861578478698.\n",
      "num_leaves, val_score: 0.243159:  30%|###############                                   | 6/20 [00:10<00:24,  1.78s/it]"
     ]
    },
    {
     "name": "stdout",
     "output_type": "stream",
     "text": [
      "Early stopping, best iteration is:\n",
      "[83]\tcv_agg's l2: 0.243159 + 0.0562024\n",
      "[100]\tcv_agg's l2: 0.251474 + 0.0695295\n"
     ]
    },
    {
     "name": "stderr",
     "output_type": "stream",
     "text": [
      "num_leaves, val_score: 0.243159:  35%|#################5                                | 7/20 [00:11<00:22,  1.70s/it][I 2023-11-04 13:55:00,390] Trial 13 finished with value: 0.2514175950018555 and parameters: {'num_leaves': 23}. Best is trial 7 with value: 0.24315861578478698.\n",
      "num_leaves, val_score: 0.243159:  35%|#################5                                | 7/20 [00:11<00:22,  1.70s/it]"
     ]
    },
    {
     "name": "stdout",
     "output_type": "stream",
     "text": [
      "Early stopping, best iteration is:\n",
      "[83]\tcv_agg's l2: 0.243159 + 0.0562024\n",
      "[100]\tcv_agg's l2: 0.244999 + 0.0550316\n"
     ]
    },
    {
     "name": "stderr",
     "output_type": "stream",
     "text": [
      "num_leaves, val_score: 0.243159:  40%|####################                              | 8/20 [00:13<00:20,  1.72s/it][I 2023-11-04 13:55:02,150] Trial 14 finished with value: 0.24315861578478698 and parameters: {'num_leaves': 161}. Best is trial 7 with value: 0.24315861578478698.\n",
      "num_leaves, val_score: 0.243159:  40%|####################                              | 8/20 [00:13<00:20,  1.72s/it]"
     ]
    },
    {
     "name": "stdout",
     "output_type": "stream",
     "text": [
      "Early stopping, best iteration is:\n",
      "[83]\tcv_agg's l2: 0.243159 + 0.0562024\n",
      "[100]\tcv_agg's l2: 0.244999 + 0.0550316\n"
     ]
    },
    {
     "name": "stderr",
     "output_type": "stream",
     "text": [
      "num_leaves, val_score: 0.243159:  45%|######################5                           | 9/20 [00:15<00:19,  1.75s/it][I 2023-11-04 13:55:03,983] Trial 15 finished with value: 0.24315861578478698 and parameters: {'num_leaves': 61}. Best is trial 7 with value: 0.24315861578478698.\n",
      "num_leaves, val_score: 0.243159:  45%|######################5                           | 9/20 [00:15<00:19,  1.75s/it]"
     ]
    },
    {
     "name": "stdout",
     "output_type": "stream",
     "text": [
      "Early stopping, best iteration is:\n",
      "[83]\tcv_agg's l2: 0.243159 + 0.0562024\n",
      "[100]\tcv_agg's l2: 0.244999 + 0.0550316\n"
     ]
    },
    {
     "name": "stderr",
     "output_type": "stream",
     "text": [
      "num_leaves, val_score: 0.243159:  50%|########################5                        | 10/20 [00:17<00:17,  1.75s/it][I 2023-11-04 13:55:05,717] Trial 16 finished with value: 0.24315861578478698 and parameters: {'num_leaves': 152}. Best is trial 7 with value: 0.24315861578478698.\n",
      "num_leaves, val_score: 0.243159:  50%|########################5                        | 10/20 [00:17<00:17,  1.75s/it]"
     ]
    },
    {
     "name": "stdout",
     "output_type": "stream",
     "text": [
      "Early stopping, best iteration is:\n",
      "[83]\tcv_agg's l2: 0.243159 + 0.0562024\n",
      "[100]\tcv_agg's l2: 0.244999 + 0.0550316\n"
     ]
    },
    {
     "name": "stderr",
     "output_type": "stream",
     "text": [
      "num_leaves, val_score: 0.243159:  55%|##########################9                      | 11/20 [00:19<00:17,  1.90s/it][I 2023-11-04 13:55:07,948] Trial 17 finished with value: 0.24315861578478698 and parameters: {'num_leaves': 218}. Best is trial 7 with value: 0.24315861578478698.\n",
      "num_leaves, val_score: 0.243159:  55%|##########################9                      | 11/20 [00:19<00:17,  1.90s/it]"
     ]
    },
    {
     "name": "stdout",
     "output_type": "stream",
     "text": [
      "Early stopping, best iteration is:\n",
      "[83]\tcv_agg's l2: 0.243159 + 0.0562024\n",
      "[100]\tcv_agg's l2: 0.244999 + 0.0550316\n"
     ]
    },
    {
     "name": "stderr",
     "output_type": "stream",
     "text": [
      "num_leaves, val_score: 0.243159:  60%|#############################4                   | 12/20 [00:21<00:15,  1.99s/it][I 2023-11-04 13:55:10,165] Trial 18 finished with value: 0.24315861578478698 and parameters: {'num_leaves': 55}. Best is trial 7 with value: 0.24315861578478698.\n",
      "num_leaves, val_score: 0.243159:  60%|#############################4                   | 12/20 [00:21<00:15,  1.99s/it]"
     ]
    },
    {
     "name": "stdout",
     "output_type": "stream",
     "text": [
      "Early stopping, best iteration is:\n",
      "[83]\tcv_agg's l2: 0.243159 + 0.0562024\n",
      "[100]\tcv_agg's l2: 0.244999 + 0.0550316\n"
     ]
    },
    {
     "name": "stderr",
     "output_type": "stream",
     "text": [
      "num_leaves, val_score: 0.243159:  65%|###############################8                 | 13/20 [00:25<00:17,  2.49s/it][I 2023-11-04 13:55:13,810] Trial 19 finished with value: 0.24315861578478698 and parameters: {'num_leaves': 114}. Best is trial 7 with value: 0.24315861578478698.\n",
      "num_leaves, val_score: 0.243159:  65%|###############################8                 | 13/20 [00:25<00:17,  2.49s/it]"
     ]
    },
    {
     "name": "stdout",
     "output_type": "stream",
     "text": [
      "Early stopping, best iteration is:\n",
      "[83]\tcv_agg's l2: 0.243159 + 0.0562024\n",
      "[100]\tcv_agg's l2: 0.244999 + 0.0550316\n"
     ]
    },
    {
     "name": "stderr",
     "output_type": "stream",
     "text": [
      "num_leaves, val_score: 0.243159:  70%|##################################3              | 14/20 [00:33<00:24,  4.16s/it][I 2023-11-04 13:55:21,806] Trial 20 finished with value: 0.24315861578478698 and parameters: {'num_leaves': 67}. Best is trial 7 with value: 0.24315861578478698.\n",
      "num_leaves, val_score: 0.243159:  70%|##################################3              | 14/20 [00:33<00:24,  4.16s/it]"
     ]
    },
    {
     "name": "stdout",
     "output_type": "stream",
     "text": [
      "Early stopping, best iteration is:\n",
      "[83]\tcv_agg's l2: 0.243159 + 0.0562024\n",
      "[100]\tcv_agg's l2: 0.244999 + 0.0550316\n"
     ]
    },
    {
     "name": "stderr",
     "output_type": "stream",
     "text": [
      "num_leaves, val_score: 0.243159:  75%|####################################7            | 15/20 [00:36<00:19,  3.86s/it][I 2023-11-04 13:55:24,984] Trial 21 finished with value: 0.24315861578478698 and parameters: {'num_leaves': 93}. Best is trial 7 with value: 0.24315861578478698.\n",
      "num_leaves, val_score: 0.243159:  75%|####################################7            | 15/20 [00:36<00:19,  3.86s/it]"
     ]
    },
    {
     "name": "stdout",
     "output_type": "stream",
     "text": [
      "Early stopping, best iteration is:\n",
      "[83]\tcv_agg's l2: 0.243159 + 0.0562024\n",
      "[100]\tcv_agg's l2: 0.244999 + 0.0550316\n"
     ]
    },
    {
     "name": "stderr",
     "output_type": "stream",
     "text": [
      "num_leaves, val_score: 0.243159:  80%|#######################################2         | 16/20 [00:39<00:14,  3.72s/it][I 2023-11-04 13:55:28,373] Trial 22 finished with value: 0.24315861578478698 and parameters: {'num_leaves': 142}. Best is trial 7 with value: 0.24315861578478698.\n",
      "num_leaves, val_score: 0.243159:  80%|#######################################2         | 16/20 [00:39<00:14,  3.72s/it]"
     ]
    },
    {
     "name": "stdout",
     "output_type": "stream",
     "text": [
      "Early stopping, best iteration is:\n",
      "[83]\tcv_agg's l2: 0.243159 + 0.0562024\n",
      "[100]\tcv_agg's l2: 0.244999 + 0.0550316\n"
     ]
    },
    {
     "name": "stderr",
     "output_type": "stream",
     "text": [
      "num_leaves, val_score: 0.243159:  85%|#########################################6       | 17/20 [00:42<00:10,  3.42s/it][I 2023-11-04 13:55:31,112] Trial 23 finished with value: 0.24315861578478698 and parameters: {'num_leaves': 82}. Best is trial 7 with value: 0.24315861578478698.\n",
      "num_leaves, val_score: 0.243159:  85%|#########################################6       | 17/20 [00:42<00:10,  3.42s/it]"
     ]
    },
    {
     "name": "stdout",
     "output_type": "stream",
     "text": [
      "Early stopping, best iteration is:\n",
      "[83]\tcv_agg's l2: 0.243159 + 0.0562024\n",
      "[100]\tcv_agg's l2: 0.244999 + 0.0550316\n"
     ]
    },
    {
     "name": "stderr",
     "output_type": "stream",
     "text": [
      "num_leaves, val_score: 0.243159:  90%|############################################1    | 18/20 [00:44<00:06,  3.03s/it][I 2023-11-04 13:55:33,212] Trial 24 finished with value: 0.24315861578478698 and parameters: {'num_leaves': 34}. Best is trial 7 with value: 0.24315861578478698.\n",
      "num_leaves, val_score: 0.243159:  90%|############################################1    | 18/20 [00:44<00:06,  3.03s/it]"
     ]
    },
    {
     "name": "stdout",
     "output_type": "stream",
     "text": [
      "Early stopping, best iteration is:\n",
      "[83]\tcv_agg's l2: 0.243159 + 0.0562024\n",
      "[100]\tcv_agg's l2: 0.244999 + 0.0550316\n"
     ]
    },
    {
     "name": "stderr",
     "output_type": "stream",
     "text": [
      "num_leaves, val_score: 0.243159:  95%|##############################################5  | 19/20 [00:46<00:02,  2.78s/it][I 2023-11-04 13:55:35,422] Trial 25 finished with value: 0.24315861578478698 and parameters: {'num_leaves': 125}. Best is trial 7 with value: 0.24315861578478698.\n",
      "num_leaves, val_score: 0.243159:  95%|##############################################5  | 19/20 [00:46<00:02,  2.78s/it]"
     ]
    },
    {
     "name": "stdout",
     "output_type": "stream",
     "text": [
      "Early stopping, best iteration is:\n",
      "[83]\tcv_agg's l2: 0.243159 + 0.0562024\n",
      "[100]\tcv_agg's l2: 0.244999 + 0.0550316\n"
     ]
    },
    {
     "name": "stderr",
     "output_type": "stream",
     "text": [
      "num_leaves, val_score: 0.243159: 100%|#################################################| 20/20 [00:49<00:00,  2.73s/it][I 2023-11-04 13:55:38,048] Trial 26 finished with value: 0.24315861578478698 and parameters: {'num_leaves': 43}. Best is trial 7 with value: 0.24315861578478698.\n",
      "num_leaves, val_score: 0.243159: 100%|#################################################| 20/20 [00:49<00:00,  2.47s/it]\n"
     ]
    },
    {
     "name": "stdout",
     "output_type": "stream",
     "text": [
      "Early stopping, best iteration is:\n",
      "[83]\tcv_agg's l2: 0.243159 + 0.0562024\n"
     ]
    },
    {
     "name": "stderr",
     "output_type": "stream",
     "text": [
      "bagging, val_score: 0.243159:   0%|                                                             | 0/10 [00:00<?, ?it/s]"
     ]
    },
    {
     "name": "stdout",
     "output_type": "stream",
     "text": [
      "[100]\tcv_agg's l2: 0.265366 + 0.0530443\n"
     ]
    },
    {
     "name": "stderr",
     "output_type": "stream",
     "text": [
      "bagging, val_score: 0.243159:  10%|#####3                                               | 1/10 [00:01<00:13,  1.55s/it][I 2023-11-04 13:55:39,606] Trial 27 finished with value: 0.2678156404684237 and parameters: {'bagging_fraction': 0.6560698236687339, 'bagging_freq': 7}. Best is trial 27 with value: 0.2678156404684237.\n",
      "bagging, val_score: 0.243159:  10%|#####3                                               | 1/10 [00:01<00:13,  1.55s/it]"
     ]
    },
    {
     "name": "stdout",
     "output_type": "stream",
     "text": [
      "Early stopping, best iteration is:\n",
      "[83]\tcv_agg's l2: 0.243159 + 0.0562024\n",
      "[100]\tcv_agg's l2: 0.246576 + 0.0573358\n"
     ]
    },
    {
     "name": "stderr",
     "output_type": "stream",
     "text": [
      "bagging, val_score: 0.243159:  20%|##########6                                          | 2/10 [00:03<00:14,  1.82s/it][I 2023-11-04 13:55:41,605] Trial 28 finished with value: 0.2474542099301984 and parameters: {'bagging_fraction': 0.9374472593448764, 'bagging_freq': 1}. Best is trial 28 with value: 0.2474542099301984.\n",
      "bagging, val_score: 0.243159:  20%|##########6                                          | 2/10 [00:03<00:14,  1.82s/it]"
     ]
    },
    {
     "name": "stdout",
     "output_type": "stream",
     "text": [
      "Early stopping, best iteration is:\n",
      "[83]\tcv_agg's l2: 0.243159 + 0.0562024\n",
      "[100]\tcv_agg's l2: 0.300812 + 0.04613\n"
     ]
    },
    {
     "name": "stderr",
     "output_type": "stream",
     "text": [
      "bagging, val_score: 0.243159:  30%|###############9                                     | 3/10 [00:04<00:10,  1.49s/it][I 2023-11-04 13:55:42,719] Trial 29 finished with value: 0.3045686711429081 and parameters: {'bagging_fraction': 0.4451187639507332, 'bagging_freq': 4}. Best is trial 28 with value: 0.2474542099301984.\n",
      "bagging, val_score: 0.243159:  30%|###############9                                     | 3/10 [00:04<00:10,  1.49s/it]"
     ]
    },
    {
     "name": "stdout",
     "output_type": "stream",
     "text": [
      "Early stopping, best iteration is:\n",
      "[83]\tcv_agg's l2: 0.243159 + 0.0562024\n",
      "[100]\tcv_agg's l2: 0.246509 + 0.0530728\n"
     ]
    },
    {
     "name": "stderr",
     "output_type": "stream",
     "text": [
      "bagging, val_score: 0.243159:  40%|#####################2                               | 4/10 [00:06<00:09,  1.58s/it][I 2023-11-04 13:55:44,425] Trial 30 finished with value: 0.2484452479182115 and parameters: {'bagging_fraction': 0.9961115390599251, 'bagging_freq': 7}. Best is trial 28 with value: 0.2474542099301984.\n",
      "bagging, val_score: 0.243159:  40%|#####################2                               | 4/10 [00:06<00:09,  1.58s/it]"
     ]
    },
    {
     "name": "stdout",
     "output_type": "stream",
     "text": [
      "Early stopping, best iteration is:\n",
      "[83]\tcv_agg's l2: 0.243159 + 0.0562024\n",
      "[100]\tcv_agg's l2: 0.299159 + 0.0541563\n"
     ]
    },
    {
     "name": "stderr",
     "output_type": "stream",
     "text": [
      "bagging, val_score: 0.243159:  50%|##########################5                          | 5/10 [00:07<00:06,  1.36s/it][I 2023-11-04 13:55:45,392] Trial 31 finished with value: 0.30169434235134207 and parameters: {'bagging_fraction': 0.4580172146052446, 'bagging_freq': 1}. Best is trial 28 with value: 0.2474542099301984.\n",
      "bagging, val_score: 0.243159:  50%|##########################5                          | 5/10 [00:07<00:06,  1.36s/it]"
     ]
    },
    {
     "name": "stdout",
     "output_type": "stream",
     "text": [
      "Early stopping, best iteration is:\n",
      "[83]\tcv_agg's l2: 0.243159 + 0.0562024\n",
      "[100]\tcv_agg's l2: 0.252664 + 0.0569201\n"
     ]
    },
    {
     "name": "stderr",
     "output_type": "stream",
     "text": [
      "bagging, val_score: 0.243159:  60%|###############################8                     | 6/10 [00:08<00:05,  1.37s/it][I 2023-11-04 13:55:46,798] Trial 32 finished with value: 0.2546607540597273 and parameters: {'bagging_fraction': 0.7666891242858455, 'bagging_freq': 4}. Best is trial 28 with value: 0.2474542099301984.\n",
      "bagging, val_score: 0.243159:  60%|###############################8                     | 6/10 [00:08<00:05,  1.37s/it]"
     ]
    },
    {
     "name": "stdout",
     "output_type": "stream",
     "text": [
      "Early stopping, best iteration is:\n",
      "[83]\tcv_agg's l2: 0.243159 + 0.0562024\n",
      "[100]\tcv_agg's l2: 0.271006 + 0.043214\n"
     ]
    },
    {
     "name": "stderr",
     "output_type": "stream",
     "text": [
      "bagging, val_score: 0.243159:  70%|#####################################                | 7/10 [00:09<00:04,  1.33s/it][I 2023-11-04 13:55:48,053] Trial 33 finished with value: 0.27176317616195206 and parameters: {'bagging_fraction': 0.6186735992210975, 'bagging_freq': 5}. Best is trial 28 with value: 0.2474542099301984.\n",
      "bagging, val_score: 0.243159:  70%|#####################################                | 7/10 [00:10<00:04,  1.33s/it]"
     ]
    },
    {
     "name": "stdout",
     "output_type": "stream",
     "text": [
      "Early stopping, best iteration is:\n",
      "[83]\tcv_agg's l2: 0.243159 + 0.0562024\n",
      "[100]\tcv_agg's l2: 0.252096 + 0.0521358\n"
     ]
    },
    {
     "name": "stderr",
     "output_type": "stream",
     "text": [
      "bagging, val_score: 0.243159:  80%|##########################################4          | 8/10 [00:11<00:02,  1.38s/it][I 2023-11-04 13:55:49,542] Trial 34 finished with value: 0.2556811134707121 and parameters: {'bagging_fraction': 0.8312931327532209, 'bagging_freq': 3}. Best is trial 28 with value: 0.2474542099301984.\n",
      "bagging, val_score: 0.243159:  80%|##########################################4          | 8/10 [00:11<00:02,  1.38s/it]"
     ]
    },
    {
     "name": "stdout",
     "output_type": "stream",
     "text": [
      "Early stopping, best iteration is:\n",
      "[83]\tcv_agg's l2: 0.243159 + 0.0562024\n",
      "[100]\tcv_agg's l2: 0.272085 + 0.0357044\n"
     ]
    },
    {
     "name": "stderr",
     "output_type": "stream",
     "text": [
      "bagging, val_score: 0.243159:  90%|###############################################7     | 9/10 [00:12<00:01,  1.31s/it][I 2023-11-04 13:55:50,701] Trial 35 finished with value: 0.27359282169666244 and parameters: {'bagging_fraction': 0.5787449915424512, 'bagging_freq': 6}. Best is trial 28 with value: 0.2474542099301984.\n",
      "bagging, val_score: 0.243159:  90%|###############################################7     | 9/10 [00:12<00:01,  1.31s/it]"
     ]
    },
    {
     "name": "stdout",
     "output_type": "stream",
     "text": [
      "Early stopping, best iteration is:\n",
      "[83]\tcv_agg's l2: 0.243159 + 0.0562024\n",
      "[100]\tcv_agg's l2: 0.246147 + 0.0474578\n"
     ]
    },
    {
     "name": "stderr",
     "output_type": "stream",
     "text": [
      "bagging, val_score: 0.243159: 100%|####################################################| 10/10 [00:14<00:00,  1.38s/it][I 2023-11-04 13:55:52,230] Trial 36 finished with value: 0.2473843896322876 and parameters: {'bagging_fraction': 0.8439108286035062, 'bagging_freq': 2}. Best is trial 36 with value: 0.2473843896322876.\n",
      "bagging, val_score: 0.243159: 100%|####################################################| 10/10 [00:14<00:00,  1.42s/it]\n"
     ]
    },
    {
     "name": "stdout",
     "output_type": "stream",
     "text": [
      "Early stopping, best iteration is:\n",
      "[83]\tcv_agg's l2: 0.243159 + 0.0562024\n"
     ]
    },
    {
     "name": "stderr",
     "output_type": "stream",
     "text": [
      "feature_fraction_stage2, val_score: 0.243159:   0%|                                              | 0/6 [00:00<?, ?it/s]"
     ]
    },
    {
     "name": "stdout",
     "output_type": "stream",
     "text": [
      "[100]\tcv_agg's l2: 0.244999 + 0.0550316\n"
     ]
    },
    {
     "name": "stderr",
     "output_type": "stream",
     "text": [
      "feature_fraction_stage2, val_score: 0.243159:  17%|######3                               | 1/6 [00:01<00:07,  1.59s/it][I 2023-11-04 13:55:53,821] Trial 37 finished with value: 0.24315861578478698 and parameters: {'feature_fraction': 0.9159999999999999}. Best is trial 37 with value: 0.24315861578478698.\n",
      "feature_fraction_stage2, val_score: 0.243159:  17%|######3                               | 1/6 [00:01<00:07,  1.59s/it]"
     ]
    },
    {
     "name": "stdout",
     "output_type": "stream",
     "text": [
      "Early stopping, best iteration is:\n",
      "[83]\tcv_agg's l2: 0.243159 + 0.0562024\n",
      "[100]\tcv_agg's l2: 0.256328 + 0.0777765\n"
     ]
    },
    {
     "name": "stderr",
     "output_type": "stream",
     "text": [
      "feature_fraction_stage2, val_score: 0.243159:  33%|############6                         | 2/6 [00:03<00:06,  1.64s/it][I 2023-11-04 13:55:55,509] Trial 38 finished with value: 0.2573836697497325 and parameters: {'feature_fraction': 0.948}. Best is trial 37 with value: 0.24315861578478698.\n",
      "feature_fraction_stage2, val_score: 0.243159:  33%|############6                         | 2/6 [00:03<00:06,  1.64s/it]"
     ]
    },
    {
     "name": "stdout",
     "output_type": "stream",
     "text": [
      "Early stopping, best iteration is:\n",
      "[83]\tcv_agg's l2: 0.243159 + 0.0562024\n",
      "[100]\tcv_agg's l2: 0.256328 + 0.0777765\n"
     ]
    },
    {
     "name": "stderr",
     "output_type": "stream",
     "text": [
      "feature_fraction_stage2, val_score: 0.243159:  50%|###################                   | 3/6 [00:05<00:05,  1.79s/it][I 2023-11-04 13:55:57,476] Trial 39 finished with value: 0.2573836697497325 and parameters: {'feature_fraction': 0.9799999999999999}. Best is trial 37 with value: 0.24315861578478698.\n",
      "feature_fraction_stage2, val_score: 0.243159:  50%|###################                   | 3/6 [00:05<00:05,  1.79s/it]"
     ]
    },
    {
     "name": "stdout",
     "output_type": "stream",
     "text": [
      "Early stopping, best iteration is:\n",
      "[83]\tcv_agg's l2: 0.243159 + 0.0562024\n",
      "[100]\tcv_agg's l2: 0.244999 + 0.0550316\n"
     ]
    },
    {
     "name": "stderr",
     "output_type": "stream",
     "text": [
      "feature_fraction_stage2, val_score: 0.243159:  67%|#########################3            | 4/6 [00:06<00:03,  1.75s/it][I 2023-11-04 13:55:59,163] Trial 40 finished with value: 0.24315861578478698 and parameters: {'feature_fraction': 0.82}. Best is trial 37 with value: 0.24315861578478698.\n",
      "feature_fraction_stage2, val_score: 0.243159:  67%|#########################3            | 4/6 [00:06<00:03,  1.75s/it]"
     ]
    },
    {
     "name": "stdout",
     "output_type": "stream",
     "text": [
      "Early stopping, best iteration is:\n",
      "[83]\tcv_agg's l2: 0.243159 + 0.0562024\n",
      "[100]\tcv_agg's l2: 0.244999 + 0.0550316\n"
     ]
    },
    {
     "name": "stderr",
     "output_type": "stream",
     "text": [
      "feature_fraction_stage2, val_score: 0.243159:  83%|###############################6      | 5/6 [00:09<00:02,  2.13s/it][I 2023-11-04 13:56:01,963] Trial 41 finished with value: 0.24315861578478698 and parameters: {'feature_fraction': 0.852}. Best is trial 37 with value: 0.24315861578478698.\n",
      "feature_fraction_stage2, val_score: 0.243159:  83%|###############################6      | 5/6 [00:09<00:02,  2.13s/it]"
     ]
    },
    {
     "name": "stdout",
     "output_type": "stream",
     "text": [
      "Early stopping, best iteration is:\n",
      "[83]\tcv_agg's l2: 0.243159 + 0.0562024\n",
      "[100]\tcv_agg's l2: 0.244999 + 0.0550316\n"
     ]
    },
    {
     "name": "stderr",
     "output_type": "stream",
     "text": [
      "feature_fraction_stage2, val_score: 0.243159: 100%|######################################| 6/6 [00:11<00:00,  2.03s/it][I 2023-11-04 13:56:03,809] Trial 42 finished with value: 0.24315861578478698 and parameters: {'feature_fraction': 0.8839999999999999}. Best is trial 37 with value: 0.24315861578478698.\n",
      "feature_fraction_stage2, val_score: 0.243159: 100%|######################################| 6/6 [00:11<00:00,  1.93s/it]\n"
     ]
    },
    {
     "name": "stdout",
     "output_type": "stream",
     "text": [
      "Early stopping, best iteration is:\n",
      "[83]\tcv_agg's l2: 0.243159 + 0.0562024\n"
     ]
    },
    {
     "name": "stderr",
     "output_type": "stream",
     "text": [
      "regularization_factors, val_score: 0.243159:   0%|                                              | 0/20 [00:00<?, ?it/s]"
     ]
    },
    {
     "name": "stdout",
     "output_type": "stream",
     "text": [
      "[100]\tcv_agg's l2: 0.244222 + 0.0555085\n"
     ]
    },
    {
     "name": "stderr",
     "output_type": "stream",
     "text": [
      "regularization_factors, val_score: 0.243159:   5%|#9                                    | 1/20 [00:01<00:33,  1.75s/it][I 2023-11-04 13:56:05,568] Trial 43 finished with value: 0.24458168449825476 and parameters: {'lambda_l1': 0.00010988354855289169, 'lambda_l2': 9.74988200171531e-05}. Best is trial 43 with value: 0.24458168449825476.\n",
      "regularization_factors, val_score: 0.243159:   5%|#9                                    | 1/20 [00:01<00:33,  1.75s/it]"
     ]
    },
    {
     "name": "stdout",
     "output_type": "stream",
     "text": [
      "Early stopping, best iteration is:\n",
      "[83]\tcv_agg's l2: 0.243159 + 0.0562024\n",
      "[100]\tcv_agg's l2: 0.261688 + 0.0595514\n"
     ]
    },
    {
     "name": "stderr",
     "output_type": "stream",
     "text": [
      "regularization_factors, val_score: 0.243159:  10%|###8                                  | 2/20 [00:02<00:21,  1.19s/it][I 2023-11-04 13:56:06,369] Trial 44 finished with value: 0.2655808598731494 and parameters: {'lambda_l1': 4.725059792523687, 'lambda_l2': 5.296076436424587}. Best is trial 43 with value: 0.24458168449825476.\n",
      "regularization_factors, val_score: 0.243159:  10%|###8                                  | 2/20 [00:02<00:21,  1.19s/it]"
     ]
    },
    {
     "name": "stdout",
     "output_type": "stream",
     "text": [
      "Early stopping, best iteration is:\n",
      "[83]\tcv_agg's l2: 0.243159 + 0.0562024\n",
      "[100]\tcv_agg's l2: 0.246379 + 0.0576656\n"
     ]
    },
    {
     "name": "stderr",
     "output_type": "stream",
     "text": [
      "regularization_factors, val_score: 0.243159:  15%|#####7                                | 3/20 [00:04<00:26,  1.55s/it][I 2023-11-04 13:56:08,334] Trial 45 finished with value: 0.24449207932779982 and parameters: {'lambda_l1': 2.4915251229830253e-08, 'lambda_l2': 1.7325119811519125e-08}. Best is trial 45 with value: 0.24449207932779982.\n",
      "regularization_factors, val_score: 0.243159:  15%|#####7                                | 3/20 [00:04<00:26,  1.55s/it]"
     ]
    },
    {
     "name": "stdout",
     "output_type": "stream",
     "text": [
      "Early stopping, best iteration is:\n",
      "[83]\tcv_agg's l2: 0.243159 + 0.0562024\n",
      "[100]\tcv_agg's l2: 0.250133 + 0.0603374\n"
     ]
    },
    {
     "name": "stderr",
     "output_type": "stream",
     "text": [
      "regularization_factors, val_score: 0.243159:  20%|#######6                              | 4/20 [00:05<00:22,  1.40s/it][I 2023-11-04 13:56:09,499] Trial 46 finished with value: 0.25218328895928954 and parameters: {'lambda_l1': 2.3140555226740633, 'lambda_l2': 3.9507964924695274}. Best is trial 45 with value: 0.24449207932779982.\n",
      "regularization_factors, val_score: 0.243159:  20%|#######6                              | 4/20 [00:05<00:22,  1.40s/it]"
     ]
    },
    {
     "name": "stdout",
     "output_type": "stream",
     "text": [
      "Early stopping, best iteration is:\n",
      "[83]\tcv_agg's l2: 0.243159 + 0.0562024\n",
      "[100]\tcv_agg's l2: 0.246379 + 0.0576656\n"
     ]
    },
    {
     "name": "stderr",
     "output_type": "stream",
     "text": [
      "regularization_factors, val_score: 0.243159:  25%|#########5                            | 5/20 [00:07<00:23,  1.57s/it][I 2023-11-04 13:56:11,373] Trial 47 finished with value: 0.24449207945465404 and parameters: {'lambda_l1': 1.4092062141633965e-08, 'lambda_l2': 2.6331176973756654e-07}. Best is trial 45 with value: 0.24449207932779982.\n",
      "regularization_factors, val_score: 0.243159:  25%|#########5                            | 5/20 [00:07<00:23,  1.57s/it]"
     ]
    },
    {
     "name": "stdout",
     "output_type": "stream",
     "text": [
      "Early stopping, best iteration is:\n",
      "[83]\tcv_agg's l2: 0.243159 + 0.0562024\n",
      "[100]\tcv_agg's l2: 0.24547 + 0.0566454\n"
     ]
    },
    {
     "name": "stderr",
     "output_type": "stream",
     "text": [
      "regularization_factors, val_score: 0.243159:  30%|###########4                          | 6/20 [00:09<00:24,  1.74s/it][I 2023-11-04 13:56:13,434] Trial 48 finished with value: 0.2446224042142453 and parameters: {'lambda_l1': 0.0016736063568314904, 'lambda_l2': 0.003905828966435517}. Best is trial 45 with value: 0.24449207932779982.\n",
      "regularization_factors, val_score: 0.243159:  30%|###########4                          | 6/20 [00:09<00:24,  1.74s/it]"
     ]
    },
    {
     "name": "stdout",
     "output_type": "stream",
     "text": [
      "Early stopping, best iteration is:\n",
      "[83]\tcv_agg's l2: 0.243159 + 0.0562024\n",
      "[100]\tcv_agg's l2: 0.246379 + 0.0576656\n"
     ]
    },
    {
     "name": "stderr",
     "output_type": "stream",
     "text": [
      "regularization_factors, val_score: 0.243159:  35%|#############3                        | 7/20 [00:11<00:23,  1.80s/it][I 2023-11-04 13:56:15,355] Trial 49 finished with value: 0.24449194906759572 and parameters: {'lambda_l1': 9.099483617786006e-06, 'lambda_l2': 1.3632235440501585e-05}. Best is trial 49 with value: 0.24449194906759572.\n",
      "regularization_factors, val_score: 0.243159:  35%|#############3                        | 7/20 [00:11<00:23,  1.80s/it]"
     ]
    },
    {
     "name": "stdout",
     "output_type": "stream",
     "text": [
      "Early stopping, best iteration is:\n",
      "[83]\tcv_agg's l2: 0.243159 + 0.0562024\n",
      "[100]\tcv_agg's l2: 0.244121 + 0.0586632\n"
     ]
    },
    {
     "name": "stderr",
     "output_type": "stream",
     "text": [
      "regularization_factors, val_score: 0.243159:  40%|###############2                      | 8/20 [00:13<00:21,  1.82s/it][I 2023-11-04 13:56:17,239] Trial 50 finished with value: 0.24487541985765268 and parameters: {'lambda_l1': 0.013780489906777897, 'lambda_l2': 0.009782510980561815}. Best is trial 49 with value: 0.24449194906759572.\n",
      "regularization_factors, val_score: 0.243159:  40%|###############2                      | 8/20 [00:13<00:21,  1.82s/it]"
     ]
    },
    {
     "name": "stdout",
     "output_type": "stream",
     "text": [
      "Early stopping, best iteration is:\n",
      "[83]\tcv_agg's l2: 0.243159 + 0.0562024\n",
      "[100]\tcv_agg's l2: 0.24324 + 0.0580463\n",
      "[200]\tcv_agg's l2: 0.244381 + 0.0545922\n"
     ]
    },
    {
     "name": "stderr",
     "output_type": "stream",
     "text": [
      "regularization_factors, val_score: 0.242825:  45%|#################1                    | 9/20 [00:15<00:21,  1.95s/it][I 2023-11-04 13:56:19,458] Trial 51 finished with value: 0.24282481182798527 and parameters: {'lambda_l1': 0.03418154892938325, 'lambda_l2': 1.3453532588371664e-06}. Best is trial 51 with value: 0.24282481182798527.\n",
      "regularization_factors, val_score: 0.242825:  45%|#################1                    | 9/20 [00:15<00:21,  1.95s/it]"
     ]
    },
    {
     "name": "stdout",
     "output_type": "stream",
     "text": [
      "Early stopping, best iteration is:\n",
      "[144]\tcv_agg's l2: 0.242825 + 0.0562199\n",
      "[100]\tcv_agg's l2: 0.247986 + 0.0610599\n",
      "[200]\tcv_agg's l2: 0.24996 + 0.0564242\n"
     ]
    },
    {
     "name": "stderr",
     "output_type": "stream",
     "text": [
      "regularization_factors, val_score: 0.242825:  50%|##################5                  | 10/20 [00:17<00:20,  2.03s/it][I 2023-11-04 13:56:21,666] Trial 52 finished with value: 0.2490624921180365 and parameters: {'lambda_l1': 0.05642408521555459, 'lambda_l2': 4.3054726158680994e-07}. Best is trial 51 with value: 0.24282481182798527.\n",
      "regularization_factors, val_score: 0.242825:  50%|##################5                  | 10/20 [00:17<00:20,  2.03s/it]"
     ]
    },
    {
     "name": "stdout",
     "output_type": "stream",
     "text": [
      "Early stopping, best iteration is:\n",
      "[144]\tcv_agg's l2: 0.242825 + 0.0562199\n",
      "[100]\tcv_agg's l2: 0.247849 + 0.0631854\n",
      "[200]\tcv_agg's l2: 0.24901 + 0.0566592\n"
     ]
    },
    {
     "name": "stderr",
     "output_type": "stream",
     "text": [
      "regularization_factors, val_score: 0.242825:  55%|####################3                | 11/20 [00:20<00:18,  2.09s/it][I 2023-11-04 13:56:23,899] Trial 53 finished with value: 0.24813543506472663 and parameters: {'lambda_l1': 0.15912149595123437, 'lambda_l2': 4.990771341134662e-06}. Best is trial 51 with value: 0.24282481182798527.\n",
      "regularization_factors, val_score: 0.242825:  55%|####################3                | 11/20 [00:20<00:18,  2.09s/it]"
     ]
    },
    {
     "name": "stdout",
     "output_type": "stream",
     "text": [
      "Early stopping, best iteration is:\n",
      "[144]\tcv_agg's l2: 0.242825 + 0.0562199\n",
      "[100]\tcv_agg's l2: 0.243163 + 0.0541657\n"
     ]
    },
    {
     "name": "stderr",
     "output_type": "stream",
     "text": [
      "regularization_factors, val_score: 0.242738:  60%|######################2              | 12/20 [00:21<00:15,  1.99s/it][I 2023-11-04 13:56:25,667] Trial 54 finished with value: 0.24273826765530018 and parameters: {'lambda_l1': 0.00020004003307818222, 'lambda_l2': 1.7475134773659435e-08}. Best is trial 54 with value: 0.24273826765530018.\n",
      "regularization_factors, val_score: 0.242738:  60%|######################2              | 12/20 [00:21<00:15,  1.99s/it]"
     ]
    },
    {
     "name": "stdout",
     "output_type": "stream",
     "text": [
      "Early stopping, best iteration is:\n",
      "[90]\tcv_agg's l2: 0.242738 + 0.053783\n",
      "[100]\tcv_agg's l2: 0.243995 + 0.0536878\n"
     ]
    },
    {
     "name": "stderr",
     "output_type": "stream",
     "text": [
      "regularization_factors, val_score: 0.242738:  65%|########################             | 13/20 [00:23<00:13,  1.98s/it][I 2023-11-04 13:56:27,601] Trial 55 finished with value: 0.24352752372961742 and parameters: {'lambda_l1': 0.0003127841618789453, 'lambda_l2': 1.7911417394410014e-08}. Best is trial 54 with value: 0.24273826765530018.\n",
      "regularization_factors, val_score: 0.242738:  65%|########################             | 13/20 [00:23<00:13,  1.98s/it]"
     ]
    },
    {
     "name": "stdout",
     "output_type": "stream",
     "text": [
      "Early stopping, best iteration is:\n",
      "[90]\tcv_agg's l2: 0.242738 + 0.053783\n",
      "[100]\tcv_agg's l2: 0.246225 + 0.0612027\n"
     ]
    },
    {
     "name": "stderr",
     "output_type": "stream",
     "text": [
      "regularization_factors, val_score: 0.242738:  70%|#########################9           | 14/20 [00:25<00:11,  1.92s/it][I 2023-11-04 13:56:29,397] Trial 56 finished with value: 0.24667164183571844 and parameters: {'lambda_l1': 0.0035320106345230126, 'lambda_l2': 3.317404814861555e-07}. Best is trial 54 with value: 0.24273826765530018.\n",
      "regularization_factors, val_score: 0.242738:  70%|#########################9           | 14/20 [00:25<00:11,  1.92s/it]"
     ]
    },
    {
     "name": "stdout",
     "output_type": "stream",
     "text": [
      "Early stopping, best iteration is:\n",
      "[90]\tcv_agg's l2: 0.242738 + 0.053783\n",
      "[100]\tcv_agg's l2: 0.246379 + 0.0576656\n"
     ]
    },
    {
     "name": "stderr",
     "output_type": "stream",
     "text": [
      "regularization_factors, val_score: 0.242738:  75%|###########################7         | 15/20 [00:27<00:09,  1.89s/it][I 2023-11-04 13:56:31,200] Trial 57 finished with value: 0.24503381728457221 and parameters: {'lambda_l1': 4.5905048039024095e-05, 'lambda_l2': 1.0043295682000524e-08}. Best is trial 54 with value: 0.24273826765530018.\n",
      "regularization_factors, val_score: 0.242738:  75%|###########################7         | 15/20 [00:27<00:09,  1.89s/it]"
     ]
    },
    {
     "name": "stdout",
     "output_type": "stream",
     "text": [
      "Early stopping, best iteration is:\n",
      "[90]\tcv_agg's l2: 0.242738 + 0.053783\n",
      "[100]\tcv_agg's l2: 0.248623 + 0.0570343\n"
     ]
    },
    {
     "name": "stderr",
     "output_type": "stream",
     "text": [
      "regularization_factors, val_score: 0.242738:  80%|#############################6       | 16/20 [00:29<00:07,  1.84s/it][I 2023-11-04 13:56:32,938] Trial 58 finished with value: 0.24912177793320606 and parameters: {'lambda_l1': 0.08556476578296678, 'lambda_l2': 3.7767153906271435e-06}. Best is trial 54 with value: 0.24273826765530018.\n",
      "regularization_factors, val_score: 0.242738:  80%|#############################6       | 16/20 [00:29<00:07,  1.84s/it]"
     ]
    },
    {
     "name": "stdout",
     "output_type": "stream",
     "text": [
      "Early stopping, best iteration is:\n",
      "[90]\tcv_agg's l2: 0.242738 + 0.053783\n",
      "[100]\tcv_agg's l2: 0.246379 + 0.0576656\n"
     ]
    },
    {
     "name": "stderr",
     "output_type": "stream",
     "text": [
      "regularization_factors, val_score: 0.242738:  85%|###############################4     | 17/20 [00:30<00:05,  1.82s/it][I 2023-11-04 13:56:34,701] Trial 59 finished with value: 0.2450340011077509 and parameters: {'lambda_l1': 3.7098973524509997e-06, 'lambda_l2': 2.3292414072764406e-07}. Best is trial 54 with value: 0.24273826765530018.\n",
      "regularization_factors, val_score: 0.242738:  85%|###############################4     | 17/20 [00:30<00:05,  1.82s/it]"
     ]
    },
    {
     "name": "stdout",
     "output_type": "stream",
     "text": [
      "Early stopping, best iteration is:\n",
      "[90]\tcv_agg's l2: 0.242738 + 0.053783\n",
      "[100]\tcv_agg's l2: 0.244252 + 0.0573433\n"
     ]
    },
    {
     "name": "stderr",
     "output_type": "stream",
     "text": [
      "regularization_factors, val_score: 0.242738:  90%|#################################3   | 18/20 [00:32<00:03,  1.78s/it][I 2023-11-04 13:56:36,393] Trial 60 finished with value: 0.24508164452006964 and parameters: {'lambda_l1': 0.0032168451728876958, 'lambda_l2': 6.0513585627738206e-05}. Best is trial 54 with value: 0.24273826765530018.\n",
      "regularization_factors, val_score: 0.242738:  90%|#################################3   | 18/20 [00:32<00:03,  1.78s/it]"
     ]
    },
    {
     "name": "stdout",
     "output_type": "stream",
     "text": [
      "Early stopping, best iteration is:\n",
      "[90]\tcv_agg's l2: 0.242738 + 0.053783\n",
      "[100]\tcv_agg's l2: 0.248767 + 0.0601831\n"
     ]
    },
    {
     "name": "stderr",
     "output_type": "stream",
     "text": [
      "regularization_factors, val_score: 0.242738:  95%|###################################1 | 19/20 [00:34<00:01,  1.75s/it][I 2023-11-04 13:56:38,068] Trial 61 finished with value: 0.24883284895717672 and parameters: {'lambda_l1': 0.27048270609874964, 'lambda_l2': 1.1158653395494109e-07}. Best is trial 54 with value: 0.24273826765530018.\n",
      "regularization_factors, val_score: 0.242738:  95%|###################################1 | 19/20 [00:34<00:01,  1.75s/it]"
     ]
    },
    {
     "name": "stdout",
     "output_type": "stream",
     "text": [
      "Early stopping, best iteration is:\n",
      "[90]\tcv_agg's l2: 0.242738 + 0.053783\n",
      "[100]\tcv_agg's l2: 0.24576 + 0.0595864\n"
     ]
    },
    {
     "name": "stderr",
     "output_type": "stream",
     "text": [
      "regularization_factors, val_score: 0.242738: 100%|#####################################| 20/20 [00:36<00:00,  1.77s/it][I 2023-11-04 13:56:39,875] Trial 62 finished with value: 0.24591597210852126 and parameters: {'lambda_l1': 0.0005784442949519601, 'lambda_l2': 2.062146363545648e-06}. Best is trial 54 with value: 0.24273826765530018.\n",
      "regularization_factors, val_score: 0.242738: 100%|#####################################| 20/20 [00:36<00:00,  1.80s/it]\n"
     ]
    },
    {
     "name": "stdout",
     "output_type": "stream",
     "text": [
      "Early stopping, best iteration is:\n",
      "[90]\tcv_agg's l2: 0.242738 + 0.053783\n"
     ]
    },
    {
     "name": "stderr",
     "output_type": "stream",
     "text": [
      "min_data_in_leaf, val_score: 0.242738:   0%|                                                     | 0/5 [00:00<?, ?it/s]"
     ]
    },
    {
     "name": "stdout",
     "output_type": "stream",
     "text": [
      "[100]\tcv_agg's l2: 0.333162 + 0.0822044\n"
     ]
    },
    {
     "name": "stderr",
     "output_type": "stream",
     "text": [
      "min_data_in_leaf, val_score: 0.242738:  20%|#########                                    | 1/5 [00:00<00:03,  1.24it/s][I 2023-11-04 13:56:40,686] Trial 63 finished with value: 0.3352000366061481 and parameters: {'min_child_samples': 50}. Best is trial 63 with value: 0.3352000366061481.\n",
      "min_data_in_leaf, val_score: 0.242738:  20%|#########                                    | 1/5 [00:00<00:03,  1.24it/s]"
     ]
    },
    {
     "name": "stdout",
     "output_type": "stream",
     "text": [
      "Early stopping, best iteration is:\n",
      "[90]\tcv_agg's l2: 0.242738 + 0.053783\n",
      "[100]\tcv_agg's l2: 0.259966 + 0.0580704\n"
     ]
    },
    {
     "name": "stderr",
     "output_type": "stream",
     "text": [
      "min_data_in_leaf, val_score: 0.242738:  40%|##################                           | 2/5 [00:02<00:03,  1.27s/it][I 2023-11-04 13:56:42,275] Trial 64 finished with value: 0.2596568931786972 and parameters: {'min_child_samples': 25}. Best is trial 64 with value: 0.2596568931786972.\n",
      "min_data_in_leaf, val_score: 0.242738:  40%|##################                           | 2/5 [00:02<00:03,  1.27s/it]"
     ]
    },
    {
     "name": "stdout",
     "output_type": "stream",
     "text": [
      "Early stopping, best iteration is:\n",
      "[90]\tcv_agg's l2: 0.242738 + 0.053783\n",
      "[100]\tcv_agg's l2: 0.247969 + 0.059473\n"
     ]
    },
    {
     "name": "stderr",
     "output_type": "stream",
     "text": [
      "min_data_in_leaf, val_score: 0.242738:  60%|###########################                  | 3/5 [00:04<00:03,  1.76s/it][I 2023-11-04 13:56:44,632] Trial 65 finished with value: 0.24781271103741828 and parameters: {'min_child_samples': 5}. Best is trial 65 with value: 0.24781271103741828.\n",
      "min_data_in_leaf, val_score: 0.242738:  60%|###########################                  | 3/5 [00:04<00:03,  1.76s/it]"
     ]
    },
    {
     "name": "stdout",
     "output_type": "stream",
     "text": [
      "Early stopping, best iteration is:\n",
      "[90]\tcv_agg's l2: 0.242738 + 0.053783\n",
      "[100]\tcv_agg's l2: 0.249238 + 0.0633624\n"
     ]
    },
    {
     "name": "stderr",
     "output_type": "stream",
     "text": [
      "min_data_in_leaf, val_score: 0.242738:  80%|####################################         | 4/5 [00:06<00:01,  1.87s/it][I 2023-11-04 13:56:46,655] Trial 66 finished with value: 0.2483093573987653 and parameters: {'min_child_samples': 10}. Best is trial 65 with value: 0.24781271103741828.\n",
      "min_data_in_leaf, val_score: 0.242738:  80%|####################################         | 4/5 [00:06<00:01,  1.87s/it]"
     ]
    },
    {
     "name": "stdout",
     "output_type": "stream",
     "text": [
      "Early stopping, best iteration is:\n",
      "[90]\tcv_agg's l2: 0.242738 + 0.053783\n",
      "[100]\tcv_agg's l2: 0.822419 + 0.0698047\n"
     ]
    },
    {
     "name": "stderr",
     "output_type": "stream",
     "text": [
      "min_data_in_leaf, val_score: 0.242738: 100%|#############################################| 5/5 [00:07<00:00,  1.37s/it][I 2023-11-04 13:56:47,155] Trial 67 finished with value: 0.8248538966604471 and parameters: {'min_child_samples': 100}. Best is trial 65 with value: 0.24781271103741828.\n",
      "min_data_in_leaf, val_score: 0.242738: 100%|#############################################| 5/5 [00:07<00:00,  1.46s/it]"
     ]
    },
    {
     "name": "stdout",
     "output_type": "stream",
     "text": [
      "Early stopping, best iteration is:\n",
      "[90]\tcv_agg's l2: 0.242738 + 0.053783\n"
     ]
    },
    {
     "name": "stderr",
     "output_type": "stream",
     "text": [
      "\n"
     ]
    }
   ],
   "source": [
    "import optuna.integration.lightgbm as lgb\n",
    "from lightgbm import early_stopping\n",
    "from sklearn.model_selection import KFold\n",
    "from sklearn.model_selection import RepeatedKFold\n",
    "\n",
    "\n",
    "lgb_train = lgb.Dataset(X_train_random_split, y_train_random_split)\n",
    "\n",
    "params = {\n",
    "    \"boosting_type\": \"gbdt\",\n",
    "    \"objective\": \"regression\",\n",
    "    \"metric\": \"l2\",\n",
    "    \"verbosity\": -1,\n",
    "}\n",
    "\n",
    "tuner = lgb.LightGBMTunerCV(\n",
    "    params,\n",
    "    lgb_train,\n",
    "    folds=KFold(n_splits=5),\n",
    "    num_boost_round=10000,\n",
    "    callbacks=[early_stopping(100), log_evaluation(100)],\n",
    ")\n",
    "\n",
    "tuner.run()"
   ]
  },
  {
   "cell_type": "code",
   "execution_count": 135,
   "id": "0079a348",
   "metadata": {},
   "outputs": [
    {
     "name": "stdout",
     "output_type": "stream",
     "text": [
      "Best score: 0.24273826765530018\n",
      "Params: \n",
      "    boosting_type: gbdt\n",
      "    objective: regression\n",
      "    metric: l2\n",
      "    verbosity: -1\n",
      "    feature_pre_filter: False\n",
      "    lambda_l1: 0.00020004003307818222\n",
      "    lambda_l2: 1.7475134773659435e-08\n",
      "    num_leaves: 31\n",
      "    feature_fraction: 0.8999999999999999\n",
      "    bagging_fraction: 1.0\n",
      "    bagging_freq: 0\n",
      "    min_child_samples: 20\n"
     ]
    }
   ],
   "source": [
    "print(f\"Best score: {tuner.best_score}\")\n",
    "best_params = tuner.best_params\n",
    "print(\"Params: \")\n",
    "for key, value in best_params.items():\n",
    "    print(\"    {}: {}\".format(key, value))"
   ]
  },
  {
   "cell_type": "code",
   "execution_count": 136,
   "id": "ee599f57",
   "metadata": {},
   "outputs": [],
   "source": [
    "import lightgbm as lgb\n",
    "\n",
    "lgb_tuned = lgb.train(\n",
    "    best_params,\n",
    "    lgb_train,\n",
    "    num_boost_round=10000,\n",
    ")"
   ]
  },
  {
   "cell_type": "code",
   "execution_count": 137,
   "id": "f18b0204",
   "metadata": {},
   "outputs": [
    {
     "name": "stdout",
     "output_type": "stream",
     "text": [
      "RMSE train: 0.00\n",
      "RMSE test: 0.53\n",
      "MSE test: 0.28\n",
      "MAE test: 0.35\n",
      "\n"
     ]
    }
   ],
   "source": [
    "rmse, mse, mae = assess_regression_model(\n",
    "    lgb_tuned,\n",
    "    X_train_random_split,\n",
    "    X_test_random_split,\n",
    "    y_train_random_split,\n",
    "    y_test_random_split,\n",
    ")"
   ]
  },
  {
   "cell_type": "code",
   "execution_count": 138,
   "id": "13d87eed",
   "metadata": {},
   "outputs": [],
   "source": [
    "results.loc[3] = [\"random\", \"Optuna\", len(X_test.columns), mse, rmse, mae]"
   ]
  },
  {
   "cell_type": "markdown",
   "id": "9d13b101",
   "metadata": {},
   "source": [
    "###### MAE by level"
   ]
  },
  {
   "cell_type": "code",
   "execution_count": 139,
   "id": "91591bcd",
   "metadata": {},
   "outputs": [
    {
     "data": {
      "image/png": "[encoded data removed]",
      "text/plain": [
       "<Figure size 720x432 with 1 Axes>"
      ]
     },
     "metadata": {
      "needs_background": "light"
     },
     "output_type": "display_data"
    }
   ],
   "source": [
    "plot_mae_by_level(y_test_random_split, y_pred_test)"
   ]
  },
  {
   "cell_type": "code",
   "execution_count": 140,
   "id": "061d7eba",
   "metadata": {},
   "outputs": [
    {
     "name": "stdout",
     "output_type": "stream",
     "text": [
      "Normal:\n",
      "MSE: 0.13\n",
      "RMSE: 0.36\n",
      "\n",
      "Round type: round\n",
      "MSE: 0.14\n",
      "RMSE: 0.38\n",
      "\n",
      "Round type: 0.33\n",
      "MSE: 0.15\n",
      "RMSE: 0.39\n",
      "\n",
      "Round type: 0.45\n",
      "MSE: 0.14\n",
      "RMSE: 0.38\n",
      "\n"
     ]
    }
   ],
   "source": [
    "predict = lgb_tuned.predict(X_test)\n",
    "check_round_predictions([\"round\", 0.33, 0.45], y_test, predict)"
   ]
  },
  {
   "cell_type": "code",
   "execution_count": 141,
   "id": "9d56b725",
   "metadata": {},
   "outputs": [
    {
     "data": {
      "image/png": "[encoded data removed]",
      "text/plain": [
       "<Figure size 432x288 with 2 Axes>"
      ]
     },
     "metadata": {
      "needs_background": "light"
     },
     "output_type": "display_data"
    }
   ],
   "source": [
    "plot_confusion_matrix(\"round\", predict, y_test)"
   ]
  },
  {
   "cell_type": "markdown",
   "id": "ac941229",
   "metadata": {},
   "source": [
    "## Summary"
   ]
  },
  {
   "cell_type": "code",
   "execution_count": 142,
   "id": "90f5111f",
   "metadata": {
    "scrolled": true
   },
   "outputs": [
    {
     "data": {
      "text/html": [
       "<div>\n",
       "<style scoped>\n",
       "    .dataframe tbody tr th:only-of-type {\n",
       "        vertical-align: middle;\n",
       "    }\n",
       "\n",
       "    .dataframe tbody tr th {\n",
       "        vertical-align: top;\n",
       "    }\n",
       "\n",
       "    .dataframe thead th {\n",
       "        text-align: right;\n",
       "    }\n",
       "</style>\n",
       "<table border=\"1\" class=\"dataframe\">\n",
       "  <thead>\n",
       "    <tr style=\"text-align: right;\">\n",
       "      <th></th>\n",
       "      <th>Split type</th>\n",
       "      <th>Tuning type</th>\n",
       "      <th>Number of characteristics</th>\n",
       "      <th>MSE</th>\n",
       "      <th>RMSE</th>\n",
       "      <th>MAE</th>\n",
       "    </tr>\n",
       "  </thead>\n",
       "  <tbody>\n",
       "    <tr>\n",
       "      <th>0</th>\n",
       "      <td>chronological</td>\n",
       "      <td>normal</td>\n",
       "      <td>8</td>\n",
       "      <td>0.447566</td>\n",
       "      <td>0.669004</td>\n",
       "      <td>0.467604</td>\n",
       "    </tr>\n",
       "    <tr>\n",
       "      <th>1</th>\n",
       "      <td>chronological</td>\n",
       "      <td>Optuna</td>\n",
       "      <td>8</td>\n",
       "      <td>0.447064</td>\n",
       "      <td>0.668629</td>\n",
       "      <td>0.481825</td>\n",
       "    </tr>\n",
       "    <tr>\n",
       "      <th>2</th>\n",
       "      <td>random</td>\n",
       "      <td>normal</td>\n",
       "      <td>8</td>\n",
       "      <td>0.243018</td>\n",
       "      <td>0.492968</td>\n",
       "      <td>0.340495</td>\n",
       "    </tr>\n",
       "    <tr>\n",
       "      <th>3</th>\n",
       "      <td>random</td>\n",
       "      <td>Optuna</td>\n",
       "      <td>8</td>\n",
       "      <td>0.277484</td>\n",
       "      <td>0.526768</td>\n",
       "      <td>0.346474</td>\n",
       "    </tr>\n",
       "  </tbody>\n",
       "</table>\n",
       "</div>"
      ],
      "text/plain": [
       "      Split type Tuning type  Number of characteristics       MSE      RMSE  \\\n",
       "0  chronological      normal                          8  0.447566  0.669004   \n",
       "1  chronological      Optuna                          8  0.447064  0.668629   \n",
       "2         random      normal                          8  0.243018  0.492968   \n",
       "3         random      Optuna                          8  0.277484  0.526768   \n",
       "\n",
       "        MAE  \n",
       "0  0.467604  \n",
       "1  0.481825  \n",
       "2  0.340495  \n",
       "3  0.346474  "
      ]
     },
     "execution_count": 142,
     "metadata": {},
     "output_type": "execute_result"
    }
   ],
   "source": [
    "results"
   ]
  },
  {
   "cell_type": "code",
   "execution_count": 143,
   "id": "492161ff",
   "metadata": {},
   "outputs": [],
   "source": [
    "from training.results import plot_summary"
   ]
  },
  {
   "cell_type": "code",
   "execution_count": 144,
   "id": "b44fe7c4",
   "metadata": {},
   "outputs": [
    {
     "data": {
      "image/png": "[encoded data removed]",
      "text/plain": [
       "<Figure size 1440x576 with 1 Axes>"
      ]
     },
     "metadata": {
      "needs_background": "light"
     },
     "output_type": "display_data"
    }
   ],
   "source": [
    "plot_summary(results, \"RMSE\", title=\"RMSE for LightGBM with basic features\")"
   ]
  },
  {
   "cell_type": "code",
   "execution_count": 145,
   "id": "d3509e28",
   "metadata": {},
   "outputs": [
    {
     "data": {
      "image/png": "[encoded data removed]",
      "text/plain": [
       "<Figure size 1440x576 with 1 Axes>"
      ]
     },
     "metadata": {
      "needs_background": "light"
     },
     "output_type": "display_data"
    }
   ],
   "source": [
    "plot_summary(results, \"MAE\", title=\"MAE for LightGBM with basic features\")"
   ]
  },
  {
   "cell_type": "code",
   "execution_count": null,
   "id": "a8ce3754",
   "metadata": {},
   "outputs": [],
   "source": []
  },
  {
   "cell_type": "code",
   "execution_count": 146,
   "id": "c714119e",
   "metadata": {},
   "outputs": [],
   "source": [
    "results.to_json(\"./lightgbm_basic_results.json\")"
   ]
  }
 ],
 "metadata": {
  "kernelspec": {
   "display_name": "Python 3 (ipykernel)",
   "language": "python",
   "name": "python3"
  },
  "language_info": {
   "codemirror_mode": {
    "name": "ipython",
    "version": 3
   },
   "file_extension": ".py",
   "mimetype": "text/x-python",
   "name": "python",
   "nbconvert_exporter": "python",
   "pygments_lexer": "ipython3",
   "version": "3.10.4"
  }
 },
 "nbformat": 4,
 "nbformat_minor": 5
}
