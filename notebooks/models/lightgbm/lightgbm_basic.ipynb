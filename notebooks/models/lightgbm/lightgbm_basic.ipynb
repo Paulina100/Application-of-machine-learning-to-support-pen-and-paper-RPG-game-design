{
 "cells": [
  {
   "cell_type": "markdown",
   "id": "f64a671f",
   "metadata": {},
   "source": [
    "# LightGBM\n",
    "### Parameters:\n",
    "* **abilities**:\n",
    "    * **cha**\n",
    "    * **con**\n",
    "    * **dex**\n",
    "    * **int**\n",
    "    * **str**\n",
    "    * **wis**\n",
    "* **attributes**\n",
    "    * **hp**\n",
    "    * **ac**\n",
    "\n",
    "### Prediction: *level*\n",
    "\n",
    "## Loading data"
   ]
  },
  {
   "cell_type": "code",
   "execution_count": 1,
   "id": "1f2515e7",
   "metadata": {},
   "outputs": [],
   "source": [
    "import numpy as np\n",
    "import pandas as pd\n",
    "import sys\n",
    "\n",
    "import os\n",
    "import pathlib\n",
    "\n",
    "sys.path.append(\"../../..\")\n",
    "from training.creating_dataset import load_and_preprocess_data\n",
    "\n",
    "current_path = os.getcwd()\n",
    "DATASETS_DIR = pathlib.Path(current_path).parent.parent.parent / \"pathfinder_2e_data\"\n",
    "DATASET_FILES = [\n",
    "    \"pathfinder-bestiary.db\",\n",
    "    \"pathfinder-bestiary-2.db\",\n",
    "    \"pathfinder-bestiary-3.db\",\n",
    "]\n",
    "DATASET_PATHS = [f\"{DATASETS_DIR}/{file}\" for file in DATASET_FILES]\n",
    "features = [\n",
    "    \"cha\",\n",
    "    \"con\",\n",
    "    \"dex\",\n",
    "    \"int\",\n",
    "    \"str\",\n",
    "    \"wis\",\n",
    "    \"ac\",\n",
    "    \"hp\",\n",
    "]\n",
    "\n",
    "df = load_and_preprocess_data(\n",
    "    DATASET_PATHS,\n",
    "    characteristics=features,\n",
    ")"
   ]
  },
  {
   "cell_type": "code",
   "execution_count": 2,
   "id": "b522f880",
   "metadata": {},
   "outputs": [
    {
     "name": "stdout",
     "output_type": "stream",
     "text": [
      "<class 'pandas.core.frame.DataFrame'>\n",
      "Int64Index: 1206 entries, 0 to 1205\n",
      "Data columns (total 10 columns):\n",
      " #   Column  Non-Null Count  Dtype \n",
      "---  ------  --------------  ----- \n",
      " 0   book    1206 non-null   object\n",
      " 1   str     1206 non-null   int64 \n",
      " 2   int     1206 non-null   int64 \n",
      " 3   con     1206 non-null   int64 \n",
      " 4   hp      1206 non-null   int64 \n",
      " 5   cha     1206 non-null   int64 \n",
      " 6   level   1206 non-null   int64 \n",
      " 7   wis     1206 non-null   int64 \n",
      " 8   ac      1206 non-null   int64 \n",
      " 9   dex     1206 non-null   int64 \n",
      "dtypes: int64(9), object(1)\n",
      "memory usage: 103.6+ KB\n"
     ]
    }
   ],
   "source": [
    "df.info()"
   ]
  },
  {
   "cell_type": "code",
   "execution_count": 3,
   "id": "1b5450d3",
   "metadata": {},
   "outputs": [
    {
     "data": {
      "text/html": [
       "<div>\n",
       "<style scoped>\n",
       "    .dataframe tbody tr th:only-of-type {\n",
       "        vertical-align: middle;\n",
       "    }\n",
       "\n",
       "    .dataframe tbody tr th {\n",
       "        vertical-align: top;\n",
       "    }\n",
       "\n",
       "    .dataframe thead th {\n",
       "        text-align: right;\n",
       "    }\n",
       "</style>\n",
       "<table border=\"1\" class=\"dataframe\">\n",
       "  <thead>\n",
       "    <tr style=\"text-align: right;\">\n",
       "      <th></th>\n",
       "      <th>book</th>\n",
       "      <th>str</th>\n",
       "      <th>int</th>\n",
       "      <th>con</th>\n",
       "      <th>hp</th>\n",
       "      <th>cha</th>\n",
       "      <th>level</th>\n",
       "      <th>wis</th>\n",
       "      <th>ac</th>\n",
       "      <th>dex</th>\n",
       "    </tr>\n",
       "  </thead>\n",
       "  <tbody>\n",
       "    <tr>\n",
       "      <th>0</th>\n",
       "      <td>Pathfinder Bestiary</td>\n",
       "      <td>7</td>\n",
       "      <td>1</td>\n",
       "      <td>5</td>\n",
       "      <td>215</td>\n",
       "      <td>1</td>\n",
       "      <td>10</td>\n",
       "      <td>2</td>\n",
       "      <td>29</td>\n",
       "      <td>2</td>\n",
       "    </tr>\n",
       "    <tr>\n",
       "      <th>1</th>\n",
       "      <td>Pathfinder Bestiary</td>\n",
       "      <td>9</td>\n",
       "      <td>-4</td>\n",
       "      <td>5</td>\n",
       "      <td>220</td>\n",
       "      <td>1</td>\n",
       "      <td>10</td>\n",
       "      <td>2</td>\n",
       "      <td>28</td>\n",
       "      <td>0</td>\n",
       "    </tr>\n",
       "    <tr>\n",
       "      <th>2</th>\n",
       "      <td>Pathfinder Bestiary</td>\n",
       "      <td>7</td>\n",
       "      <td>-4</td>\n",
       "      <td>6</td>\n",
       "      <td>175</td>\n",
       "      <td>-2</td>\n",
       "      <td>8</td>\n",
       "      <td>3</td>\n",
       "      <td>25</td>\n",
       "      <td>3</td>\n",
       "    </tr>\n",
       "    <tr>\n",
       "      <th>3</th>\n",
       "      <td>Pathfinder Bestiary</td>\n",
       "      <td>7</td>\n",
       "      <td>6</td>\n",
       "      <td>5</td>\n",
       "      <td>315</td>\n",
       "      <td>6</td>\n",
       "      <td>17</td>\n",
       "      <td>5</td>\n",
       "      <td>41</td>\n",
       "      <td>4</td>\n",
       "    </tr>\n",
       "    <tr>\n",
       "      <th>4</th>\n",
       "      <td>Pathfinder Bestiary</td>\n",
       "      <td>-5</td>\n",
       "      <td>-1</td>\n",
       "      <td>1</td>\n",
       "      <td>20</td>\n",
       "      <td>1</td>\n",
       "      <td>1</td>\n",
       "      <td>1</td>\n",
       "      <td>16</td>\n",
       "      <td>3</td>\n",
       "    </tr>\n",
       "  </tbody>\n",
       "</table>\n",
       "</div>"
      ],
      "text/plain": [
       "                  book  str  int  con   hp  cha  level  wis  ac  dex\n",
       "0  Pathfinder Bestiary    7    1    5  215    1     10    2  29    2\n",
       "1  Pathfinder Bestiary    9   -4    5  220    1     10    2  28    0\n",
       "2  Pathfinder Bestiary    7   -4    6  175   -2      8    3  25    3\n",
       "3  Pathfinder Bestiary    7    6    5  315    6     17    5  41    4\n",
       "4  Pathfinder Bestiary   -5   -1    1   20    1      1    1  16    3"
      ]
     },
     "execution_count": 3,
     "metadata": {},
     "output_type": "execute_result"
    }
   ],
   "source": [
    "df.head()"
   ]
  },
  {
   "cell_type": "markdown",
   "id": "0caa661f",
   "metadata": {},
   "source": [
    "###### Level"
   ]
  },
  {
   "cell_type": "code",
   "execution_count": 4,
   "id": "c200d2b4",
   "metadata": {},
   "outputs": [
    {
     "data": {
      "text/plain": [
       "0       10\n",
       "1       10\n",
       "2        8\n",
       "3       17\n",
       "4        1\n",
       "        ..\n",
       "1201    20\n",
       "1202    -1\n",
       "1203    12\n",
       "1204     6\n",
       "1205     6\n",
       "Name: level, Length: 1206, dtype: int64"
      ]
     },
     "execution_count": 4,
     "metadata": {},
     "output_type": "execute_result"
    }
   ],
   "source": [
    "y = df[\"level\"]\n",
    "y"
   ]
  },
  {
   "cell_type": "code",
   "execution_count": 5,
   "id": "553822a7",
   "metadata": {},
   "outputs": [],
   "source": [
    "from collections import defaultdict\n",
    "\n",
    "\n",
    "lvl_stat = defaultdict(lambda: 0)\n",
    "\n",
    "for lvl in y:\n",
    "    lvl_stat[lvl] += 1"
   ]
  },
  {
   "cell_type": "code",
   "execution_count": 6,
   "id": "e45d6c29",
   "metadata": {},
   "outputs": [
    {
     "data": {
      "text/html": [
       "<div>\n",
       "<style scoped>\n",
       "    .dataframe tbody tr th:only-of-type {\n",
       "        vertical-align: middle;\n",
       "    }\n",
       "\n",
       "    .dataframe tbody tr th {\n",
       "        vertical-align: top;\n",
       "    }\n",
       "\n",
       "    .dataframe thead th {\n",
       "        text-align: right;\n",
       "    }\n",
       "</style>\n",
       "<table border=\"1\" class=\"dataframe\">\n",
       "  <thead>\n",
       "    <tr style=\"text-align: right;\">\n",
       "      <th></th>\n",
       "      <th>lvl</th>\n",
       "      <th>count</th>\n",
       "    </tr>\n",
       "  </thead>\n",
       "  <tbody>\n",
       "    <tr>\n",
       "      <th>0</th>\n",
       "      <td>-1</td>\n",
       "      <td>34</td>\n",
       "    </tr>\n",
       "    <tr>\n",
       "      <th>1</th>\n",
       "      <td>0</td>\n",
       "      <td>27</td>\n",
       "    </tr>\n",
       "    <tr>\n",
       "      <th>2</th>\n",
       "      <td>1</td>\n",
       "      <td>127</td>\n",
       "    </tr>\n",
       "    <tr>\n",
       "      <th>3</th>\n",
       "      <td>2</td>\n",
       "      <td>121</td>\n",
       "    </tr>\n",
       "    <tr>\n",
       "      <th>4</th>\n",
       "      <td>3</td>\n",
       "      <td>95</td>\n",
       "    </tr>\n",
       "    <tr>\n",
       "      <th>5</th>\n",
       "      <td>4</td>\n",
       "      <td>82</td>\n",
       "    </tr>\n",
       "    <tr>\n",
       "      <th>6</th>\n",
       "      <td>5</td>\n",
       "      <td>76</td>\n",
       "    </tr>\n",
       "    <tr>\n",
       "      <th>7</th>\n",
       "      <td>6</td>\n",
       "      <td>72</td>\n",
       "    </tr>\n",
       "    <tr>\n",
       "      <th>8</th>\n",
       "      <td>7</td>\n",
       "      <td>77</td>\n",
       "    </tr>\n",
       "    <tr>\n",
       "      <th>9</th>\n",
       "      <td>8</td>\n",
       "      <td>68</td>\n",
       "    </tr>\n",
       "    <tr>\n",
       "      <th>10</th>\n",
       "      <td>9</td>\n",
       "      <td>63</td>\n",
       "    </tr>\n",
       "    <tr>\n",
       "      <th>11</th>\n",
       "      <td>10</td>\n",
       "      <td>58</td>\n",
       "    </tr>\n",
       "    <tr>\n",
       "      <th>12</th>\n",
       "      <td>11</td>\n",
       "      <td>40</td>\n",
       "    </tr>\n",
       "    <tr>\n",
       "      <th>13</th>\n",
       "      <td>12</td>\n",
       "      <td>41</td>\n",
       "    </tr>\n",
       "    <tr>\n",
       "      <th>14</th>\n",
       "      <td>13</td>\n",
       "      <td>36</td>\n",
       "    </tr>\n",
       "    <tr>\n",
       "      <th>15</th>\n",
       "      <td>14</td>\n",
       "      <td>33</td>\n",
       "    </tr>\n",
       "    <tr>\n",
       "      <th>16</th>\n",
       "      <td>15</td>\n",
       "      <td>31</td>\n",
       "    </tr>\n",
       "    <tr>\n",
       "      <th>17</th>\n",
       "      <td>16</td>\n",
       "      <td>25</td>\n",
       "    </tr>\n",
       "    <tr>\n",
       "      <th>18</th>\n",
       "      <td>17</td>\n",
       "      <td>21</td>\n",
       "    </tr>\n",
       "    <tr>\n",
       "      <th>19</th>\n",
       "      <td>18</td>\n",
       "      <td>21</td>\n",
       "    </tr>\n",
       "    <tr>\n",
       "      <th>20</th>\n",
       "      <td>19</td>\n",
       "      <td>18</td>\n",
       "    </tr>\n",
       "    <tr>\n",
       "      <th>21</th>\n",
       "      <td>20</td>\n",
       "      <td>24</td>\n",
       "    </tr>\n",
       "    <tr>\n",
       "      <th>22</th>\n",
       "      <td>21</td>\n",
       "      <td>16</td>\n",
       "    </tr>\n",
       "  </tbody>\n",
       "</table>\n",
       "</div>"
      ],
      "text/plain": [
       "    lvl  count\n",
       "0    -1     34\n",
       "1     0     27\n",
       "2     1    127\n",
       "3     2    121\n",
       "4     3     95\n",
       "5     4     82\n",
       "6     5     76\n",
       "7     6     72\n",
       "8     7     77\n",
       "9     8     68\n",
       "10    9     63\n",
       "11   10     58\n",
       "12   11     40\n",
       "13   12     41\n",
       "14   13     36\n",
       "15   14     33\n",
       "16   15     31\n",
       "17   16     25\n",
       "18   17     21\n",
       "19   18     21\n",
       "20   19     18\n",
       "21   20     24\n",
       "22   21     16"
      ]
     },
     "execution_count": 6,
     "metadata": {},
     "output_type": "execute_result"
    }
   ],
   "source": [
    "level_count = pd.DataFrame(\n",
    "    data={\n",
    "        \"lvl\": [key for key in sorted(lvl_stat.keys())],\n",
    "        \"count\": [lvl_stat.get(key) for key in sorted(lvl_stat.keys())],\n",
    "    }\n",
    ")\n",
    "level_count"
   ]
  },
  {
   "cell_type": "code",
   "execution_count": 7,
   "id": "bdbfe8de",
   "metadata": {},
   "outputs": [
    {
     "data": {
      "image/png": "[encoded data removed]",
      "text/plain": [
       "<Figure size 432x288 with 1 Axes>"
      ]
     },
     "metadata": {
      "needs_background": "light"
     },
     "output_type": "display_data"
    }
   ],
   "source": [
    "import matplotlib.pyplot as plt\n",
    "\n",
    "\n",
    "level_count.plot.bar(x=\"lvl\", y=\"count\", title=\"Count of levels\")\n",
    "plt.show()"
   ]
  },
  {
   "cell_type": "markdown",
   "id": "9fdb6541",
   "metadata": {},
   "source": [
    "## Train test split"
   ]
  },
  {
   "cell_type": "markdown",
   "id": "18f56629",
   "metadata": {},
   "source": [
    "### Chronological split"
   ]
  },
  {
   "cell_type": "code",
   "execution_count": 8,
   "id": "dcda359b",
   "metadata": {},
   "outputs": [],
   "source": [
    "from training.splitting_dataset import split_dataframe\n",
    "\n",
    "\n",
    "os.chdir(\"../../../training\")\n",
    "X_train, X_test, y_train, y_test = split_dataframe(df, test_size=0.31)\n",
    "os.chdir(\"../notebooks/models/lightgbm\")"
   ]
  },
  {
   "cell_type": "code",
   "execution_count": 9,
   "id": "17dbc875",
   "metadata": {},
   "outputs": [],
   "source": [
    "X_train = X_train.drop(columns=[\"book\"])\n",
    "X_test = X_test.drop(columns=[\"book\"])"
   ]
  },
  {
   "cell_type": "markdown",
   "id": "25879636",
   "metadata": {},
   "source": [
    "### Random split"
   ]
  },
  {
   "cell_type": "code",
   "execution_count": 10,
   "id": "982ec5eb",
   "metadata": {},
   "outputs": [],
   "source": [
    "(\n",
    "    X_train_random_split,\n",
    "    X_test_random_split,\n",
    "    y_train_random_split,\n",
    "    y_test_random_split,\n",
    ") = split_dataframe(df, chronological_split=False)"
   ]
  },
  {
   "cell_type": "code",
   "execution_count": 11,
   "id": "90569e78",
   "metadata": {},
   "outputs": [],
   "source": [
    "X_train_random_split = X_train_random_split.drop(columns=[\"book\"])\n",
    "X_test_random_split = X_test_random_split.drop(columns=[\"book\"])"
   ]
  },
  {
   "cell_type": "markdown",
   "id": "9b259fbf",
   "metadata": {},
   "source": [
    "## LightGBM"
   ]
  },
  {
   "cell_type": "markdown",
   "id": "14f37d9b",
   "metadata": {},
   "source": [
    "## Chronological split"
   ]
  },
  {
   "cell_type": "code",
   "execution_count": 12,
   "id": "2bc4c90e",
   "metadata": {},
   "outputs": [
    {
     "name": "stdout",
     "output_type": "stream",
     "text": [
      "[LightGBM] [Warning] Auto-choosing col-wise multi-threading, the overhead of testing was 0.000240 seconds.\n",
      "You can set `force_col_wise=true` to remove the overhead.\n",
      "[LightGBM] [Info] Total Bins 224\n",
      "[LightGBM] [Info] Number of data points in the train set: 841, number of used features: 8\n",
      "[LightGBM] [Info] Start training from score 6.966706\n",
      "Training until validation scores don't improve for 5 rounds\n",
      "[LightGBM] [Warning] No further splits with positive gain, best gain: -inf\n",
      "[LightGBM] [Warning] No further splits with positive gain, best gain: -inf\n",
      "[LightGBM] [Warning] No further splits with positive gain, best gain: -inf\n",
      "[LightGBM] [Warning] No further splits with positive gain, best gain: -inf\n",
      "[LightGBM] [Warning] No further splits with positive gain, best gain: -inf\n",
      "[LightGBM] [Warning] No further splits with positive gain, best gain: -inf\n",
      "[LightGBM] [Warning] No further splits with positive gain, best gain: -inf\n",
      "[LightGBM] [Warning] No further splits with positive gain, best gain: -inf\n",
      "[LightGBM] [Warning] No further splits with positive gain, best gain: -inf\n",
      "[LightGBM] [Warning] No further splits with positive gain, best gain: -inf\n",
      "[LightGBM] [Warning] No further splits with positive gain, best gain: -inf\n",
      "[LightGBM] [Warning] No further splits with positive gain, best gain: -inf\n",
      "Early stopping, best iteration is:\n",
      "[48]\tvalid_0's l1: 0.467604\tvalid_0's l2: 0.447566\n"
     ]
    }
   ],
   "source": [
    "import lightgbm as lgb\n",
    "\n",
    "lgb_train = lgb.Dataset(X_train, y_train)\n",
    "lgb_eval = lgb.Dataset(X_test, y_test, reference=lgb_train)\n",
    "\n",
    "params = {\n",
    "    \"boosting_type\": \"gbdt\",\n",
    "    \"objective\": \"regression\",\n",
    "    \"metric\": {\"l2\", \"l1\"},\n",
    "}\n",
    "\n",
    "gbm = lgb.train(\n",
    "    params,\n",
    "    lgb_train,\n",
    "    num_boost_round=100,\n",
    "    valid_sets=lgb_eval,\n",
    "    callbacks=[lgb.early_stopping(stopping_rounds=5)],\n",
    ")"
   ]
  },
  {
   "cell_type": "code",
   "execution_count": 13,
   "id": "f1ae2eaa",
   "metadata": {},
   "outputs": [],
   "source": [
    "y_pred_train = gbm.predict(X_train, num_iteration=gbm.best_iteration)\n",
    "y_pred_test = gbm.predict(X_test, num_iteration=gbm.best_iteration)"
   ]
  },
  {
   "cell_type": "code",
   "execution_count": 14,
   "id": "ef9d09eb",
   "metadata": {},
   "outputs": [
    {
     "name": "stdout",
     "output_type": "stream",
     "text": [
      "RMSE: 0.67\n",
      "MAE: 0.47\n"
     ]
    }
   ],
   "source": [
    "from sklearn.metrics import mean_squared_error, mean_absolute_error\n",
    "\n",
    "\n",
    "rmse = mean_squared_error(y_test, y_pred_test, squared=False)\n",
    "mae = mean_absolute_error(y_test, y_pred_test)\n",
    "\n",
    "print(f\"RMSE: {rmse:.2f}\")\n",
    "print(f\"MAE: {mae:.2f}\")"
   ]
  },
  {
   "cell_type": "code",
   "execution_count": 15,
   "id": "6e288d53",
   "metadata": {},
   "outputs": [],
   "source": [
    "results = pd.DataFrame(\n",
    "    data={\n",
    "        \"Split type\": [],\n",
    "        \"Tuning type\": [],\n",
    "        \"Set of features\": [],\n",
    "        \"RMSE\": [],\n",
    "        \"MAE\": [],\n",
    "    }\n",
    ")\n",
    "\n",
    "results.loc[0] = [\"chronological\", \"default\", \"basic\", rmse, mae]"
   ]
  },
  {
   "cell_type": "code",
   "execution_count": 16,
   "id": "78bb7ffa",
   "metadata": {},
   "outputs": [
    {
     "name": "stdout",
     "output_type": "stream",
     "text": [
      "RMSE train: 0.31\n",
      "RMSE test: 0.67\n"
     ]
    }
   ],
   "source": [
    "rmse_train = mean_squared_error(y_train, y_pred_train, squared=False)\n",
    "rmse_test = mean_squared_error(y_test, y_pred_test, squared=False)\n",
    "print(f\"RMSE train: {rmse_train:.2f}\")\n",
    "print(f\"RMSE test: {rmse_test:.2f}\")"
   ]
  },
  {
   "cell_type": "markdown",
   "id": "4435f236",
   "metadata": {},
   "source": [
    "###### MAE by level"
   ]
  },
  {
   "cell_type": "code",
   "execution_count": 17,
   "id": "f3b4086b",
   "metadata": {},
   "outputs": [],
   "source": [
    "from training.results import plot_mae_by_level"
   ]
  },
  {
   "cell_type": "code",
   "execution_count": 18,
   "id": "e3ecad89",
   "metadata": {
    "scrolled": false
   },
   "outputs": [
    {
     "data": {
      "image/png": "[encoded data removed]",
      "text/plain": [
       "<Figure size 720x432 with 1 Axes>"
      ]
     },
     "metadata": {
      "needs_background": "light"
     },
     "output_type": "display_data"
    }
   ],
   "source": [
    "plot_mae_by_level(\n",
    "    y_test,\n",
    "    y_pred_test,\n",
    "    title=\"MAE by level for default LightGBM with basic features and chronological split\",\n",
    ")"
   ]
  },
  {
   "cell_type": "code",
   "execution_count": 19,
   "id": "ec8cab49",
   "metadata": {
    "scrolled": true
   },
   "outputs": [
    {
     "name": "stdout",
     "output_type": "stream",
     "text": [
      "Default:\n",
      "RMSE: 0.67\n",
      "\n",
      "Round type: 0.5\n",
      "RMSE: 0.71\n",
      "\n",
      "Round type: 0.33\n",
      "RMSE: 0.71\n",
      "\n",
      "Round type: 0.45\n",
      "RMSE: 0.70\n",
      "\n"
     ]
    }
   ],
   "source": [
    "from training.results import check_round_predictions, plot_confusion_matrix\n",
    "\n",
    "\n",
    "check_round_predictions([0.5, 0.33, 0.45], y_test, y_pred_test)"
   ]
  },
  {
   "cell_type": "code",
   "execution_count": 20,
   "id": "9129a0ae",
   "metadata": {},
   "outputs": [
    {
     "data": {
      "image/png": "[encoded data removed]",
      "text/plain": [
       "<Figure size 432x288 with 2 Axes>"
      ]
     },
     "metadata": {
      "needs_background": "light"
     },
     "output_type": "display_data"
    }
   ],
   "source": [
    "plot_confusion_matrix(\n",
    "    y_pred_test,\n",
    "    y_test,\n",
    "    title=\"Confusion matrix for default LightGBM with basic features and chronological split\",\n",
    ")"
   ]
  },
  {
   "cell_type": "markdown",
   "id": "aaaf3023",
   "metadata": {},
   "source": [
    "#### Tuning"
   ]
  },
  {
   "cell_type": "code",
   "execution_count": 21,
   "id": "cbd24f9f",
   "metadata": {},
   "outputs": [],
   "source": [
    "from training.results import assess_regression_model"
   ]
  },
  {
   "cell_type": "code",
   "execution_count": 22,
   "id": "10854460",
   "metadata": {},
   "outputs": [
    {
     "name": "stderr",
     "output_type": "stream",
     "text": [
      "[I 2023-11-05 13:55:55,056] A new study created in memory with name: no-name-6e869279-c20c-46f8-b9ec-f72c8d86904c\n",
      "feature_fraction, val_score: inf:   0%|                                                          | 0/7 [00:00<?, ?it/s]"
     ]
    },
    {
     "name": "stdout",
     "output_type": "stream",
     "text": [
      "Training until validation scores don't improve for 100 rounds\n",
      "[100]\tcv_agg's l2: 0.266916 + 0.05786\n",
      "[200]\tcv_agg's l2: 0.246561 + 0.0537578\n",
      "[300]\tcv_agg's l2: 0.239493 + 0.0493101\n",
      "[400]\tcv_agg's l2: 0.237348 + 0.0470236\n"
     ]
    },
    {
     "name": "stderr",
     "output_type": "stream",
     "text": [
      "feature_fraction, val_score: 0.237065:  14%|######4                                      | 1/7 [00:01<00:09,  1.54s/it][I 2023-11-05 13:55:56,601] Trial 0 finished with value: 0.23706520067073705 and parameters: {'feature_fraction': 0.4}. Best is trial 0 with value: 0.23706520067073705.\n",
      "feature_fraction, val_score: 0.237065:  14%|######4                                      | 1/7 [00:01<00:09,  1.54s/it]"
     ]
    },
    {
     "name": "stdout",
     "output_type": "stream",
     "text": [
      "[500]\tcv_agg's l2: 0.237312 + 0.0455104\n",
      "Early stopping, best iteration is:\n",
      "[415]\tcv_agg's l2: 0.237065 + 0.0464962\n",
      "[100]\tcv_agg's l2: 0.239584 + 0.0391049\n",
      "[200]\tcv_agg's l2: 0.227879 + 0.0403135\n",
      "[300]\tcv_agg's l2: 0.224411 + 0.0414691\n"
     ]
    },
    {
     "name": "stderr",
     "output_type": "stream",
     "text": [
      "feature_fraction, val_score: 0.223460:  29%|############8                                | 2/7 [00:02<00:07,  1.47s/it][I 2023-11-05 13:55:58,029] Trial 1 finished with value: 0.2234597024948409 and parameters: {'feature_fraction': 0.6}. Best is trial 1 with value: 0.2234597024948409.\n",
      "feature_fraction, val_score: 0.223460:  29%|############8                                | 2/7 [00:02<00:07,  1.47s/it]"
     ]
    },
    {
     "name": "stdout",
     "output_type": "stream",
     "text": [
      "[400]\tcv_agg's l2: 0.224319 + 0.0418182\n",
      "Early stopping, best iteration is:\n",
      "[349]\tcv_agg's l2: 0.22346 + 0.0410102\n",
      "[100]\tcv_agg's l2: 0.259417 + 0.0731179\n",
      "[200]\tcv_agg's l2: 0.247169 + 0.0660463\n",
      "[300]\tcv_agg's l2: 0.242625 + 0.0639469\n"
     ]
    },
    {
     "name": "stderr",
     "output_type": "stream",
     "text": [
      "\r",
      "feature_fraction, val_score: 0.223460:  29%|############8                                | 2/7 [00:04<00:07,  1.47s/it]"
     ]
    },
    {
     "name": "stdout",
     "output_type": "stream",
     "text": [
      "[400]\tcv_agg's l2: 0.24306 + 0.0631203\n",
      "Early stopping, best iteration is:\n",
      "[349]\tcv_agg's l2: 0.22346 + 0.0410102\n"
     ]
    },
    {
     "name": "stderr",
     "output_type": "stream",
     "text": [
      "feature_fraction, val_score: 0.223460:  43%|###################2                         | 3/7 [00:04<00:06,  1.51s/it][I 2023-11-05 13:55:59,576] Trial 2 finished with value: 0.2430385552341606 and parameters: {'feature_fraction': 0.5}. Best is trial 1 with value: 0.2234597024948409.\n",
      "feature_fraction, val_score: 0.223460:  43%|###################2                         | 3/7 [00:04<00:06,  1.51s/it]"
     ]
    },
    {
     "name": "stdout",
     "output_type": "stream",
     "text": [
      "[100]\tcv_agg's l2: 0.23413 + 0.0515182\n",
      "[200]\tcv_agg's l2: 0.232574 + 0.049644\n",
      "[300]\tcv_agg's l2: 0.234584 + 0.0510205\n"
     ]
    },
    {
     "name": "stderr",
     "output_type": "stream",
     "text": [
      "feature_fraction, val_score: 0.223460:  57%|#########################7                   | 4/7 [00:05<00:04,  1.47s/it][I 2023-11-05 13:56:00,997] Trial 3 finished with value: 0.23591719249070184 and parameters: {'feature_fraction': 1.0}. Best is trial 1 with value: 0.2234597024948409.\n",
      "feature_fraction, val_score: 0.223460:  57%|#########################7                   | 4/7 [00:05<00:04,  1.47s/it]"
     ]
    },
    {
     "name": "stdout",
     "output_type": "stream",
     "text": [
      "[400]\tcv_agg's l2: 0.238109 + 0.0529093\n",
      "Early stopping, best iteration is:\n",
      "[349]\tcv_agg's l2: 0.22346 + 0.0410102\n",
      "[100]\tcv_agg's l2: 0.23663 + 0.044165\n",
      "[200]\tcv_agg's l2: 0.227741 + 0.0453552\n",
      "[300]\tcv_agg's l2: 0.22723 + 0.0455129\n"
     ]
    },
    {
     "name": "stderr",
     "output_type": "stream",
     "text": [
      "feature_fraction, val_score: 0.223460:  71%|################################1            | 5/7 [00:07<00:02,  1.49s/it][I 2023-11-05 13:56:02,516] Trial 4 finished with value: 0.22711392895956023 and parameters: {'feature_fraction': 0.7}. Best is trial 1 with value: 0.2234597024948409.\n",
      "feature_fraction, val_score: 0.223460:  71%|################################1            | 5/7 [00:07<00:02,  1.49s/it]"
     ]
    },
    {
     "name": "stdout",
     "output_type": "stream",
     "text": [
      "[400]\tcv_agg's l2: 0.227439 + 0.0454726\n",
      "Early stopping, best iteration is:\n",
      "[349]\tcv_agg's l2: 0.22346 + 0.0410102\n",
      "[100]\tcv_agg's l2: 0.234156 + 0.0509227\n",
      "[200]\tcv_agg's l2: 0.230507 + 0.047911\n",
      "[300]\tcv_agg's l2: 0.232939 + 0.0478838\n"
     ]
    },
    {
     "name": "stderr",
     "output_type": "stream",
     "text": [
      "feature_fraction, val_score: 0.223460:  86%|######################################5      | 6/7 [00:08<00:01,  1.46s/it][I 2023-11-05 13:56:03,919] Trial 5 finished with value: 0.23381070045398628 and parameters: {'feature_fraction': 0.8999999999999999}. Best is trial 1 with value: 0.2234597024948409.\n",
      "feature_fraction, val_score: 0.223460:  86%|######################################5      | 6/7 [00:08<00:01,  1.46s/it]"
     ]
    },
    {
     "name": "stdout",
     "output_type": "stream",
     "text": [
      "[400]\tcv_agg's l2: 0.235209 + 0.0487979\n",
      "Early stopping, best iteration is:\n",
      "[349]\tcv_agg's l2: 0.22346 + 0.0410102\n",
      "[100]\tcv_agg's l2: 0.23663 + 0.044165\n",
      "[200]\tcv_agg's l2: 0.227741 + 0.0453552\n",
      "[300]\tcv_agg's l2: 0.22723 + 0.0455129\n"
     ]
    },
    {
     "name": "stderr",
     "output_type": "stream",
     "text": [
      "feature_fraction, val_score: 0.223460: 100%|#############################################| 7/7 [00:10<00:00,  1.49s/it][I 2023-11-05 13:56:05,455] Trial 6 finished with value: 0.22711392895956023 and parameters: {'feature_fraction': 0.8}. Best is trial 1 with value: 0.2234597024948409.\n",
      "feature_fraction, val_score: 0.223460: 100%|#############################################| 7/7 [00:10<00:00,  1.49s/it]\n"
     ]
    },
    {
     "name": "stdout",
     "output_type": "stream",
     "text": [
      "[400]\tcv_agg's l2: 0.227439 + 0.0454726\n",
      "Early stopping, best iteration is:\n",
      "[349]\tcv_agg's l2: 0.22346 + 0.0410102\n"
     ]
    },
    {
     "name": "stderr",
     "output_type": "stream",
     "text": [
      "num_leaves, val_score: 0.223460:   0%|                                                          | 0/20 [00:00<?, ?it/s]"
     ]
    },
    {
     "name": "stdout",
     "output_type": "stream",
     "text": [
      "[100]\tcv_agg's l2: 0.239584 + 0.0391049\n",
      "[200]\tcv_agg's l2: 0.227879 + 0.0403135\n",
      "[300]\tcv_agg's l2: 0.224411 + 0.0414691\n"
     ]
    },
    {
     "name": "stderr",
     "output_type": "stream",
     "text": [
      "num_leaves, val_score: 0.223460:   5%|##5                                               | 1/20 [00:01<00:28,  1.51s/it][I 2023-11-05 13:56:06,968] Trial 7 finished with value: 0.2234597024948409 and parameters: {'num_leaves': 157}. Best is trial 7 with value: 0.2234597024948409.\n",
      "num_leaves, val_score: 0.223460:   5%|##5                                               | 1/20 [00:01<00:28,  1.51s/it]"
     ]
    },
    {
     "name": "stdout",
     "output_type": "stream",
     "text": [
      "[400]\tcv_agg's l2: 0.224319 + 0.0418182\n",
      "Early stopping, best iteration is:\n",
      "[349]\tcv_agg's l2: 0.22346 + 0.0410102\n",
      "[100]\tcv_agg's l2: 0.239584 + 0.0391049\n",
      "[200]\tcv_agg's l2: 0.227879 + 0.0403135\n",
      "[300]\tcv_agg's l2: 0.224411 + 0.0414691\n"
     ]
    },
    {
     "name": "stderr",
     "output_type": "stream",
     "text": [
      "num_leaves, val_score: 0.223460:  10%|#####                                             | 2/20 [00:02<00:26,  1.47s/it][I 2023-11-05 13:56:08,405] Trial 8 finished with value: 0.2234597024948409 and parameters: {'num_leaves': 64}. Best is trial 7 with value: 0.2234597024948409.\n",
      "num_leaves, val_score: 0.223460:  10%|#####                                             | 2/20 [00:02<00:26,  1.47s/it]"
     ]
    },
    {
     "name": "stdout",
     "output_type": "stream",
     "text": [
      "[400]\tcv_agg's l2: 0.224319 + 0.0418182\n",
      "Early stopping, best iteration is:\n",
      "[349]\tcv_agg's l2: 0.22346 + 0.0410102\n",
      "[100]\tcv_agg's l2: 0.239584 + 0.0391049\n",
      "[200]\tcv_agg's l2: 0.227879 + 0.0403135\n",
      "[300]\tcv_agg's l2: 0.224411 + 0.0414691\n"
     ]
    },
    {
     "name": "stderr",
     "output_type": "stream",
     "text": [
      "\r",
      "num_leaves, val_score: 0.223460:  10%|#####                                             | 2/20 [00:04<00:26,  1.47s/it]"
     ]
    },
    {
     "name": "stdout",
     "output_type": "stream",
     "text": [
      "[400]\tcv_agg's l2: 0.224319 + 0.0418182\n",
      "Early stopping, best iteration is:\n",
      "[349]\tcv_agg's l2: 0.22346 + 0.0410102\n"
     ]
    },
    {
     "name": "stderr",
     "output_type": "stream",
     "text": [
      "num_leaves, val_score: 0.223460:  15%|#######5                                          | 3/20 [00:04<00:25,  1.49s/it][I 2023-11-05 13:56:09,921] Trial 9 finished with value: 0.2234597024948409 and parameters: {'num_leaves': 35}. Best is trial 7 with value: 0.2234597024948409.\n",
      "num_leaves, val_score: 0.223460:  15%|#######5                                          | 3/20 [00:04<00:25,  1.49s/it]"
     ]
    },
    {
     "name": "stdout",
     "output_type": "stream",
     "text": [
      "[100]\tcv_agg's l2: 0.239584 + 0.0391049\n",
      "[200]\tcv_agg's l2: 0.227879 + 0.0403135\n",
      "[300]\tcv_agg's l2: 0.224411 + 0.0414691\n"
     ]
    },
    {
     "name": "stderr",
     "output_type": "stream",
     "text": [
      "num_leaves, val_score: 0.223460:  20%|##########                                        | 4/20 [00:05<00:23,  1.49s/it][I 2023-11-05 13:56:11,410] Trial 10 finished with value: 0.2234597024948409 and parameters: {'num_leaves': 221}. Best is trial 7 with value: 0.2234597024948409.\n",
      "num_leaves, val_score: 0.223460:  20%|##########                                        | 4/20 [00:05<00:23,  1.49s/it]"
     ]
    },
    {
     "name": "stdout",
     "output_type": "stream",
     "text": [
      "[400]\tcv_agg's l2: 0.224319 + 0.0418182\n",
      "Early stopping, best iteration is:\n",
      "[349]\tcv_agg's l2: 0.22346 + 0.0410102\n",
      "[100]\tcv_agg's l2: 0.239584 + 0.0391049\n",
      "[200]\tcv_agg's l2: 0.227879 + 0.0403135\n",
      "[300]\tcv_agg's l2: 0.224411 + 0.0414691\n"
     ]
    },
    {
     "name": "stderr",
     "output_type": "stream",
     "text": [
      "num_leaves, val_score: 0.223460:  25%|############5                                     | 5/20 [00:07<00:22,  1.53s/it][I 2023-11-05 13:56:13,019] Trial 11 finished with value: 0.2234597024948409 and parameters: {'num_leaves': 184}. Best is trial 7 with value: 0.2234597024948409.\n",
      "num_leaves, val_score: 0.223460:  25%|############5                                     | 5/20 [00:07<00:22,  1.53s/it]"
     ]
    },
    {
     "name": "stdout",
     "output_type": "stream",
     "text": [
      "[400]\tcv_agg's l2: 0.224319 + 0.0418182\n",
      "Early stopping, best iteration is:\n",
      "[349]\tcv_agg's l2: 0.22346 + 0.0410102\n",
      "[100]\tcv_agg's l2: 0.239584 + 0.0391049\n",
      "[200]\tcv_agg's l2: 0.227879 + 0.0403135\n",
      "[300]\tcv_agg's l2: 0.224411 + 0.0414691\n"
     ]
    },
    {
     "name": "stderr",
     "output_type": "stream",
     "text": [
      "num_leaves, val_score: 0.223460:  30%|###############                                   | 6/20 [00:09<00:21,  1.54s/it][I 2023-11-05 13:56:14,562] Trial 12 finished with value: 0.2234597024948409 and parameters: {'num_leaves': 131}. Best is trial 7 with value: 0.2234597024948409.\n",
      "num_leaves, val_score: 0.223460:  30%|###############                                   | 6/20 [00:09<00:21,  1.54s/it]"
     ]
    },
    {
     "name": "stdout",
     "output_type": "stream",
     "text": [
      "[400]\tcv_agg's l2: 0.224319 + 0.0418182\n",
      "Early stopping, best iteration is:\n",
      "[349]\tcv_agg's l2: 0.22346 + 0.0410102\n",
      "[100]\tcv_agg's l2: 0.239584 + 0.0391049\n",
      "[200]\tcv_agg's l2: 0.227879 + 0.0403135\n",
      "[300]\tcv_agg's l2: 0.224411 + 0.0414691\n"
     ]
    },
    {
     "name": "stderr",
     "output_type": "stream",
     "text": [
      "num_leaves, val_score: 0.223460:  35%|#################5                                | 7/20 [00:10<00:19,  1.49s/it][I 2023-11-05 13:56:15,960] Trial 13 finished with value: 0.2234597024948409 and parameters: {'num_leaves': 130}. Best is trial 7 with value: 0.2234597024948409.\n",
      "num_leaves, val_score: 0.223460:  35%|#################5                                | 7/20 [00:10<00:19,  1.49s/it]"
     ]
    },
    {
     "name": "stdout",
     "output_type": "stream",
     "text": [
      "[400]\tcv_agg's l2: 0.224319 + 0.0418182\n",
      "Early stopping, best iteration is:\n",
      "[349]\tcv_agg's l2: 0.22346 + 0.0410102\n",
      "[100]\tcv_agg's l2: 0.239584 + 0.0391049\n",
      "[200]\tcv_agg's l2: 0.227879 + 0.0403135\n",
      "[300]\tcv_agg's l2: 0.224411 + 0.0414691\n",
      "[400]\tcv_agg's l2: 0.224319 + 0.0418182\n",
      "Early stopping, best iteration is:\n",
      "[349]\tcv_agg's l2: 0.22346 + 0.0410102\n"
     ]
    },
    {
     "name": "stderr",
     "output_type": "stream",
     "text": [
      "num_leaves, val_score: 0.223460:  40%|####################                              | 8/20 [00:12<00:18,  1.50s/it][I 2023-11-05 13:56:17,489] Trial 14 finished with value: 0.2234597024948409 and parameters: {'num_leaves': 238}. Best is trial 7 with value: 0.2234597024948409.\n",
      "num_leaves, val_score: 0.223460:  40%|####################                              | 8/20 [00:12<00:18,  1.50s/it]"
     ]
    },
    {
     "name": "stdout",
     "output_type": "stream",
     "text": [
      "[100]\tcv_agg's l2: 0.239584 + 0.0391049\n",
      "[200]\tcv_agg's l2: 0.227879 + 0.0403135\n",
      "[300]\tcv_agg's l2: 0.224411 + 0.0414691\n"
     ]
    },
    {
     "name": "stderr",
     "output_type": "stream",
     "text": [
      "num_leaves, val_score: 0.223460:  45%|######################5                           | 9/20 [00:13<00:16,  1.50s/it][I 2023-11-05 13:56:18,985] Trial 15 finished with value: 0.2234597024948409 and parameters: {'num_leaves': 85}. Best is trial 7 with value: 0.2234597024948409.\n",
      "num_leaves, val_score: 0.223460:  45%|######################5                           | 9/20 [00:13<00:16,  1.50s/it]"
     ]
    },
    {
     "name": "stdout",
     "output_type": "stream",
     "text": [
      "[400]\tcv_agg's l2: 0.224319 + 0.0418182\n",
      "Early stopping, best iteration is:\n",
      "[349]\tcv_agg's l2: 0.22346 + 0.0410102\n",
      "[100]\tcv_agg's l2: 0.239584 + 0.0391049\n",
      "[200]\tcv_agg's l2: 0.227879 + 0.0403135\n",
      "[300]\tcv_agg's l2: 0.224411 + 0.0414691\n"
     ]
    },
    {
     "name": "stderr",
     "output_type": "stream",
     "text": [
      "\r",
      "num_leaves, val_score: 0.223460:  45%|######################5                           | 9/20 [00:15<00:16,  1.50s/it]"
     ]
    },
    {
     "name": "stdout",
     "output_type": "stream",
     "text": [
      "[400]\tcv_agg's l2: 0.224319 + 0.0418182\n",
      "Early stopping, best iteration is:\n",
      "[349]\tcv_agg's l2: 0.22346 + 0.0410102\n"
     ]
    },
    {
     "name": "stderr",
     "output_type": "stream",
     "text": [
      "num_leaves, val_score: 0.223460:  50%|########################5                        | 10/20 [00:15<00:15,  1.58s/it][I 2023-11-05 13:56:20,755] Trial 16 finished with value: 0.2234597024948409 and parameters: {'num_leaves': 159}. Best is trial 7 with value: 0.2234597024948409.\n",
      "num_leaves, val_score: 0.223460:  50%|########################5                        | 10/20 [00:15<00:15,  1.58s/it]"
     ]
    },
    {
     "name": "stdout",
     "output_type": "stream",
     "text": [
      "[100]\tcv_agg's l2: 0.392295 + 0.0550109\n",
      "[200]\tcv_agg's l2: 0.328814 + 0.0524091\n",
      "[300]\tcv_agg's l2: 0.309534 + 0.0510877\n",
      "[400]\tcv_agg's l2: 0.303637 + 0.0505597\n"
     ]
    },
    {
     "name": "stderr",
     "output_type": "stream",
     "text": [
      "num_leaves, val_score: 0.223460:  55%|##########################9                      | 11/20 [00:15<00:10,  1.21s/it][I 2023-11-05 13:56:21,124] Trial 17 finished with value: 0.306591029533826 and parameters: {'num_leaves': 2}. Best is trial 7 with value: 0.2234597024948409.\n",
      "num_leaves, val_score: 0.223460:  55%|##########################9                      | 11/20 [00:15<00:10,  1.21s/it]"
     ]
    },
    {
     "name": "stdout",
     "output_type": "stream",
     "text": [
      "Early stopping, best iteration is:\n",
      "[349]\tcv_agg's l2: 0.22346 + 0.0410102\n",
      "[100]\tcv_agg's l2: 0.239584 + 0.0391049\n",
      "[200]\tcv_agg's l2: 0.227879 + 0.0403135\n",
      "[300]\tcv_agg's l2: 0.224411 + 0.0414691\n"
     ]
    },
    {
     "name": "stderr",
     "output_type": "stream",
     "text": [
      "\r",
      "num_leaves, val_score: 0.223460:  55%|##########################9                      | 11/20 [00:17<00:10,  1.21s/it]"
     ]
    },
    {
     "name": "stdout",
     "output_type": "stream",
     "text": [
      "[400]\tcv_agg's l2: 0.224319 + 0.0418182\n",
      "Early stopping, best iteration is:\n",
      "[349]\tcv_agg's l2: 0.22346 + 0.0410102\n"
     ]
    },
    {
     "name": "stderr",
     "output_type": "stream",
     "text": [
      "num_leaves, val_score: 0.223460:  60%|#############################4                   | 12/20 [00:17<00:11,  1.38s/it][I 2023-11-05 13:56:22,875] Trial 18 finished with value: 0.2234597024948409 and parameters: {'num_leaves': 200}. Best is trial 7 with value: 0.2234597024948409.\n",
      "num_leaves, val_score: 0.223460:  60%|#############################4                   | 12/20 [00:17<00:11,  1.38s/it]"
     ]
    },
    {
     "name": "stdout",
     "output_type": "stream",
     "text": [
      "[100]\tcv_agg's l2: 0.239584 + 0.0391049\n",
      "[200]\tcv_agg's l2: 0.227879 + 0.0403135\n",
      "[300]\tcv_agg's l2: 0.224411 + 0.0414691\n",
      "[400]\tcv_agg's l2: 0.224319 + 0.0418182\n",
      "Early stopping, best iteration is:\n",
      "[349]\tcv_agg's l2: 0.22346 + 0.0410102\n"
     ]
    },
    {
     "name": "stderr",
     "output_type": "stream",
     "text": [
      "num_leaves, val_score: 0.223460:  65%|###############################8                 | 13/20 [00:19<00:10,  1.52s/it][I 2023-11-05 13:56:24,740] Trial 19 finished with value: 0.2234597024948409 and parameters: {'num_leaves': 255}. Best is trial 7 with value: 0.2234597024948409.\n",
      "num_leaves, val_score: 0.223460:  65%|###############################8                 | 13/20 [00:19<00:10,  1.52s/it]"
     ]
    },
    {
     "name": "stdout",
     "output_type": "stream",
     "text": [
      "[100]\tcv_agg's l2: 0.239584 + 0.0391049\n",
      "[200]\tcv_agg's l2: 0.227879 + 0.0403135\n",
      "[300]\tcv_agg's l2: 0.224411 + 0.0414691\n"
     ]
    },
    {
     "name": "stderr",
     "output_type": "stream",
     "text": [
      "\r",
      "num_leaves, val_score: 0.223460:  65%|###############################8                 | 13/20 [00:20<00:10,  1.52s/it]"
     ]
    },
    {
     "name": "stdout",
     "output_type": "stream",
     "text": [
      "[400]\tcv_agg's l2: 0.224319 + 0.0418182\n",
      "Early stopping, best iteration is:\n",
      "[349]\tcv_agg's l2: 0.22346 + 0.0410102\n"
     ]
    },
    {
     "name": "stderr",
     "output_type": "stream",
     "text": [
      "num_leaves, val_score: 0.223460:  70%|##################################3              | 14/20 [00:20<00:09,  1.55s/it][I 2023-11-05 13:56:26,342] Trial 20 finished with value: 0.2234597024948409 and parameters: {'num_leaves': 91}. Best is trial 7 with value: 0.2234597024948409.\n",
      "num_leaves, val_score: 0.223460:  70%|##################################3              | 14/20 [00:20<00:09,  1.55s/it]"
     ]
    },
    {
     "name": "stdout",
     "output_type": "stream",
     "text": [
      "[100]\tcv_agg's l2: 0.239584 + 0.0391049\n",
      "[200]\tcv_agg's l2: 0.227879 + 0.0403135\n",
      "[300]\tcv_agg's l2: 0.224411 + 0.0414691\n",
      "[400]\tcv_agg's l2: 0.224319 + 0.0418182\n"
     ]
    },
    {
     "name": "stderr",
     "output_type": "stream",
     "text": [
      "num_leaves, val_score: 0.223460:  75%|####################################7            | 15/20 [00:22<00:08,  1.61s/it][I 2023-11-05 13:56:28,087] Trial 21 finished with value: 0.2234597024948409 and parameters: {'num_leaves': 74}. Best is trial 7 with value: 0.2234597024948409.\n",
      "num_leaves, val_score: 0.223460:  75%|####################################7            | 15/20 [00:22<00:08,  1.61s/it]"
     ]
    },
    {
     "name": "stdout",
     "output_type": "stream",
     "text": [
      "Early stopping, best iteration is:\n",
      "[349]\tcv_agg's l2: 0.22346 + 0.0410102\n",
      "[100]\tcv_agg's l2: 0.239584 + 0.0391049\n",
      "[200]\tcv_agg's l2: 0.227879 + 0.0403135\n",
      "[300]\tcv_agg's l2: 0.224411 + 0.0414691\n",
      "[400]\tcv_agg's l2: 0.224319 + 0.0418182\n"
     ]
    },
    {
     "name": "stderr",
     "output_type": "stream",
     "text": [
      "num_leaves, val_score: 0.223460:  80%|#######################################2         | 16/20 [00:25<00:08,  2.00s/it][I 2023-11-05 13:56:31,012] Trial 22 finished with value: 0.2234597024948409 and parameters: {'num_leaves': 43}. Best is trial 7 with value: 0.2234597024948409.\n",
      "num_leaves, val_score: 0.223460:  80%|#######################################2         | 16/20 [00:25<00:08,  2.00s/it]"
     ]
    },
    {
     "name": "stdout",
     "output_type": "stream",
     "text": [
      "Early stopping, best iteration is:\n",
      "[349]\tcv_agg's l2: 0.22346 + 0.0410102\n",
      "[100]\tcv_agg's l2: 0.239584 + 0.0391049\n",
      "[200]\tcv_agg's l2: 0.227879 + 0.0403135\n",
      "[300]\tcv_agg's l2: 0.224411 + 0.0414691\n",
      "[400]\tcv_agg's l2: 0.224319 + 0.0418182\n"
     ]
    },
    {
     "name": "stderr",
     "output_type": "stream",
     "text": [
      "num_leaves, val_score: 0.223460:  85%|#########################################6       | 17/20 [00:28<00:06,  2.31s/it][I 2023-11-05 13:56:34,017] Trial 23 finished with value: 0.2234597024948409 and parameters: {'num_leaves': 157}. Best is trial 7 with value: 0.2234597024948409.\n",
      "num_leaves, val_score: 0.223460:  85%|#########################################6       | 17/20 [00:28<00:06,  2.31s/it]"
     ]
    },
    {
     "name": "stdout",
     "output_type": "stream",
     "text": [
      "Early stopping, best iteration is:\n",
      "[349]\tcv_agg's l2: 0.22346 + 0.0410102\n",
      "[100]\tcv_agg's l2: 0.239584 + 0.0391049\n",
      "[200]\tcv_agg's l2: 0.227879 + 0.0403135\n",
      "[300]\tcv_agg's l2: 0.224411 + 0.0414691\n",
      "[400]\tcv_agg's l2: 0.224319 + 0.0418182\n"
     ]
    },
    {
     "name": "stderr",
     "output_type": "stream",
     "text": [
      "num_leaves, val_score: 0.223460:  90%|############################################1    | 18/20 [00:31<00:05,  2.53s/it][I 2023-11-05 13:56:37,057] Trial 24 finished with value: 0.2234597024948409 and parameters: {'num_leaves': 107}. Best is trial 7 with value: 0.2234597024948409.\n",
      "num_leaves, val_score: 0.223460:  90%|############################################1    | 18/20 [00:31<00:05,  2.53s/it]"
     ]
    },
    {
     "name": "stdout",
     "output_type": "stream",
     "text": [
      "Early stopping, best iteration is:\n",
      "[349]\tcv_agg's l2: 0.22346 + 0.0410102\n",
      "[100]\tcv_agg's l2: 0.239584 + 0.0391049\n",
      "[200]\tcv_agg's l2: 0.227879 + 0.0403135\n",
      "[300]\tcv_agg's l2: 0.224411 + 0.0414691\n",
      "[400]\tcv_agg's l2: 0.224319 + 0.0418182\n"
     ]
    },
    {
     "name": "stderr",
     "output_type": "stream",
     "text": [
      "num_leaves, val_score: 0.223460:  95%|##############################################5  | 19/20 [00:34<00:02,  2.67s/it][I 2023-11-05 13:56:40,049] Trial 25 finished with value: 0.2234597024948409 and parameters: {'num_leaves': 54}. Best is trial 7 with value: 0.2234597024948409.\n",
      "num_leaves, val_score: 0.223460:  95%|##############################################5  | 19/20 [00:34<00:02,  2.67s/it]"
     ]
    },
    {
     "name": "stdout",
     "output_type": "stream",
     "text": [
      "Early stopping, best iteration is:\n",
      "[349]\tcv_agg's l2: 0.22346 + 0.0410102\n",
      "[100]\tcv_agg's l2: 0.241857 + 0.0432389\n",
      "[200]\tcv_agg's l2: 0.227311 + 0.0431656\n",
      "[300]\tcv_agg's l2: 0.223013 + 0.0417671\n",
      "[400]\tcv_agg's l2: 0.220909 + 0.0426\n",
      "[500]\tcv_agg's l2: 0.220054 + 0.0429191\n",
      "[600]\tcv_agg's l2: 0.218971 + 0.042328\n"
     ]
    },
    {
     "name": "stderr",
     "output_type": "stream",
     "text": [
      "num_leaves, val_score: 0.218971: 100%|#################################################| 20/20 [00:36<00:00,  2.56s/it][I 2023-11-05 13:56:42,355] Trial 26 finished with value: 0.21897122788520207 and parameters: {'num_leaves': 11}. Best is trial 26 with value: 0.21897122788520207.\n",
      "num_leaves, val_score: 0.218971: 100%|#################################################| 20/20 [00:36<00:00,  1.84s/it]\n"
     ]
    },
    {
     "name": "stdout",
     "output_type": "stream",
     "text": [
      "[700]\tcv_agg's l2: 0.219494 + 0.0435016\n",
      "Early stopping, best iteration is:\n",
      "[600]\tcv_agg's l2: 0.218971 + 0.042328\n"
     ]
    },
    {
     "name": "stderr",
     "output_type": "stream",
     "text": [
      "bagging, val_score: 0.218971:   0%|                                                             | 0/10 [00:00<?, ?it/s]"
     ]
    },
    {
     "name": "stdout",
     "output_type": "stream",
     "text": [
      "[100]\tcv_agg's l2: 0.244325 + 0.0446518\n",
      "[200]\tcv_agg's l2: 0.227008 + 0.0422661\n",
      "[300]\tcv_agg's l2: 0.220146 + 0.0418386\n",
      "[400]\tcv_agg's l2: 0.218286 + 0.0420508\n",
      "[500]\tcv_agg's l2: 0.215561 + 0.0416364\n"
     ]
    },
    {
     "name": "stderr",
     "output_type": "stream",
     "text": [
      "bagging, val_score: 0.214945:  10%|#####3                                               | 1/10 [00:02<00:20,  2.31s/it]"
     ]
    },
    {
     "name": "stdout",
     "output_type": "stream",
     "text": [
      "[600]\tcv_agg's l2: 0.215358 + 0.0417498\n",
      "Early stopping, best iteration is:\n",
      "[552]\tcv_agg's l2: 0.214945 + 0.0419983\n"
     ]
    },
    {
     "name": "stderr",
     "output_type": "stream",
     "text": [
      "[I 2023-11-05 13:56:44,668] Trial 27 finished with value: 0.21494504310542512 and parameters: {'bagging_fraction': 0.9756747219076327, 'bagging_freq': 5}. Best is trial 27 with value: 0.21494504310542512.\n",
      "bagging, val_score: 0.214945:  10%|#####3                                               | 1/10 [00:02<00:20,  2.31s/it]"
     ]
    },
    {
     "name": "stdout",
     "output_type": "stream",
     "text": [
      "[100]\tcv_agg's l2: 0.240766 + 0.0406813\n",
      "[200]\tcv_agg's l2: 0.224989 + 0.0382462\n",
      "[300]\tcv_agg's l2: 0.219853 + 0.0359699\n",
      "[400]\tcv_agg's l2: 0.217599 + 0.0375428\n",
      "[500]\tcv_agg's l2: 0.217498 + 0.0369336\n",
      "[600]\tcv_agg's l2: 0.217287 + 0.0377466\n",
      "Early stopping, best iteration is:\n",
      "[552]\tcv_agg's l2: 0.214945 + 0.0419983\n"
     ]
    },
    {
     "name": "stderr",
     "output_type": "stream",
     "text": [
      "bagging, val_score: 0.214945:  20%|##########6                                          | 2/10 [00:04<00:18,  2.32s/it][I 2023-11-05 13:56:47,001] Trial 28 finished with value: 0.21738901849643258 and parameters: {'bagging_fraction': 0.9874061770710622, 'bagging_freq': 6}. Best is trial 27 with value: 0.21494504310542512.\n",
      "bagging, val_score: 0.214945:  20%|##########6                                          | 2/10 [00:04<00:18,  2.32s/it]"
     ]
    },
    {
     "name": "stdout",
     "output_type": "stream",
     "text": [
      "[100]\tcv_agg's l2: 0.242096 + 0.0416648\n",
      "[200]\tcv_agg's l2: 0.228709 + 0.0388734\n",
      "[300]\tcv_agg's l2: 0.225054 + 0.038064\n",
      "[400]\tcv_agg's l2: 0.223489 + 0.0383231\n",
      "[500]\tcv_agg's l2: 0.22215 + 0.0378396\n"
     ]
    },
    {
     "name": "stderr",
     "output_type": "stream",
     "text": [
      "bagging, val_score: 0.214945:  30%|###############9                                     | 3/10 [00:07<00:16,  2.37s/it][I 2023-11-05 13:56:49,427] Trial 29 finished with value: 0.22187009659442308 and parameters: {'bagging_fraction': 0.9921296067281814, 'bagging_freq': 6}. Best is trial 27 with value: 0.21494504310542512.\n",
      "bagging, val_score: 0.214945:  30%|###############9                                     | 3/10 [00:07<00:16,  2.37s/it]"
     ]
    },
    {
     "name": "stdout",
     "output_type": "stream",
     "text": [
      "[600]\tcv_agg's l2: 0.221666 + 0.0380138\n",
      "Early stopping, best iteration is:\n",
      "[552]\tcv_agg's l2: 0.214945 + 0.0419983\n",
      "[100]\tcv_agg's l2: 0.242963 + 0.0451045\n",
      "[200]\tcv_agg's l2: 0.227303 + 0.0406807\n",
      "[300]\tcv_agg's l2: 0.221797 + 0.0405244\n",
      "[400]\tcv_agg's l2: 0.217538 + 0.040186\n",
      "[500]\tcv_agg's l2: 0.214158 + 0.0396143\n",
      "[600]\tcv_agg's l2: 0.213755 + 0.0401517\n"
     ]
    },
    {
     "name": "stderr",
     "output_type": "stream",
     "text": [
      "bagging, val_score: 0.213134:  40%|#####################2                               | 4/10 [00:10<00:15,  2.64s/it][I 2023-11-05 13:56:52,473] Trial 30 finished with value: 0.2131341383789533 and parameters: {'bagging_fraction': 0.9719893643193493, 'bagging_freq': 5}. Best is trial 30 with value: 0.2131341383789533.\n",
      "bagging, val_score: 0.213134:  40%|#####################2                               | 4/10 [00:10<00:15,  2.64s/it]"
     ]
    },
    {
     "name": "stdout",
     "output_type": "stream",
     "text": [
      "Early stopping, best iteration is:\n",
      "[567]\tcv_agg's l2: 0.213134 + 0.0401698\n",
      "[100]\tcv_agg's l2: 0.239022 + 0.0437043\n",
      "[200]\tcv_agg's l2: 0.227568 + 0.0428938\n",
      "[300]\tcv_agg's l2: 0.222432 + 0.0409974\n",
      "[400]\tcv_agg's l2: 0.22113 + 0.0423036\n",
      "[500]\tcv_agg's l2: 0.219013 + 0.0418921\n",
      "[600]\tcv_agg's l2: 0.218244 + 0.0412051\n"
     ]
    },
    {
     "name": "stderr",
     "output_type": "stream",
     "text": [
      "bagging, val_score: 0.213134:  50%|##########################5                          | 5/10 [00:13<00:13,  2.76s/it][I 2023-11-05 13:56:55,459] Trial 31 finished with value: 0.21827070918158853 and parameters: {'bagging_fraction': 0.9962622015400812, 'bagging_freq': 5}. Best is trial 30 with value: 0.2131341383789533.\n",
      "bagging, val_score: 0.213134:  50%|##########################5                          | 5/10 [00:13<00:13,  2.76s/it]"
     ]
    },
    {
     "name": "stdout",
     "output_type": "stream",
     "text": [
      "Early stopping, best iteration is:\n",
      "[567]\tcv_agg's l2: 0.213134 + 0.0401698\n",
      "[100]\tcv_agg's l2: 0.239409 + 0.0402639\n",
      "[200]\tcv_agg's l2: 0.226045 + 0.0402273\n",
      "[300]\tcv_agg's l2: 0.220233 + 0.03861\n",
      "[400]\tcv_agg's l2: 0.219375 + 0.0377631\n",
      "[500]\tcv_agg's l2: 0.218722 + 0.0377901\n",
      "[600]\tcv_agg's l2: 0.218843 + 0.0380826\n"
     ]
    },
    {
     "name": "stderr",
     "output_type": "stream",
     "text": [
      "bagging, val_score: 0.213134:  60%|###############################8                     | 6/10 [00:16<00:12,  3.10s/it][I 2023-11-05 13:56:59,213] Trial 32 finished with value: 0.2185738640046989 and parameters: {'bagging_fraction': 0.9948580375404245, 'bagging_freq': 5}. Best is trial 30 with value: 0.2131341383789533.\n",
      "bagging, val_score: 0.213134:  60%|###############################8                     | 6/10 [00:16<00:12,  3.10s/it]"
     ]
    },
    {
     "name": "stdout",
     "output_type": "stream",
     "text": [
      "Early stopping, best iteration is:\n",
      "[567]\tcv_agg's l2: 0.213134 + 0.0401698\n",
      "[100]\tcv_agg's l2: 0.242717 + 0.0438718\n",
      "[200]\tcv_agg's l2: 0.227701 + 0.0396211\n",
      "[300]\tcv_agg's l2: 0.221689 + 0.0386745\n",
      "[400]\tcv_agg's l2: 0.219873 + 0.03859\n",
      "[500]\tcv_agg's l2: 0.219645 + 0.0380612\n",
      "[600]\tcv_agg's l2: 0.218817 + 0.0390996\n"
     ]
    },
    {
     "name": "stderr",
     "output_type": "stream",
     "text": [
      "bagging, val_score: 0.213134:  70%|#####################################                | 7/10 [00:21<00:11,  3.68s/it][I 2023-11-05 13:57:04,077] Trial 33 finished with value: 0.21897980205805706 and parameters: {'bagging_fraction': 0.9849380484759453, 'bagging_freq': 5}. Best is trial 30 with value: 0.2131341383789533.\n",
      "bagging, val_score: 0.213134:  70%|#####################################                | 7/10 [00:21<00:11,  3.68s/it]"
     ]
    },
    {
     "name": "stdout",
     "output_type": "stream",
     "text": [
      "Early stopping, best iteration is:\n",
      "[567]\tcv_agg's l2: 0.213134 + 0.0401698\n",
      "[100]\tcv_agg's l2: 0.245058 + 0.047207\n",
      "[200]\tcv_agg's l2: 0.226315 + 0.0410593\n",
      "[300]\tcv_agg's l2: 0.219916 + 0.0397012\n",
      "[400]\tcv_agg's l2: 0.216838 + 0.0398735\n",
      "[500]\tcv_agg's l2: 0.214705 + 0.0391276\n",
      "[600]\tcv_agg's l2: 0.213239 + 0.040233\n"
     ]
    },
    {
     "name": "stderr",
     "output_type": "stream",
     "text": [
      "bagging, val_score: 0.212764:  80%|##########################################4          | 8/10 [00:26<00:08,  4.01s/it][I 2023-11-05 13:57:08,800] Trial 34 finished with value: 0.21276441286386652 and parameters: {'bagging_fraction': 0.9726130417109135, 'bagging_freq': 5}. Best is trial 34 with value: 0.21276441286386652.\n",
      "bagging, val_score: 0.212764:  80%|##########################################4          | 8/10 [00:26<00:08,  4.01s/it]"
     ]
    },
    {
     "name": "stdout",
     "output_type": "stream",
     "text": [
      "Early stopping, best iteration is:\n",
      "[566]\tcv_agg's l2: 0.212764 + 0.0398657\n",
      "[100]\tcv_agg's l2: 0.258016 + 0.0439125\n",
      "[200]\tcv_agg's l2: 0.240446 + 0.0396093\n",
      "[300]\tcv_agg's l2: 0.230323 + 0.0360479\n",
      "[400]\tcv_agg's l2: 0.226243 + 0.0341804\n",
      "[500]\tcv_agg's l2: 0.226708 + 0.034419\n",
      "[600]\tcv_agg's l2: 0.223554 + 0.0328725\n"
     ]
    },
    {
     "name": "stderr",
     "output_type": "stream",
     "text": [
      "bagging, val_score: 0.212764:  90%|###############################################7     | 9/10 [00:30<00:04,  4.00s/it][I 2023-11-05 13:57:12,792] Trial 35 finished with value: 0.2243079986138301 and parameters: {'bagging_fraction': 0.8129023654789109, 'bagging_freq': 4}. Best is trial 34 with value: 0.21276441286386652.\n",
      "bagging, val_score: 0.212764:  90%|###############################################7     | 9/10 [00:30<00:04,  4.00s/it]"
     ]
    },
    {
     "name": "stdout",
     "output_type": "stream",
     "text": [
      "Early stopping, best iteration is:\n",
      "[566]\tcv_agg's l2: 0.212764 + 0.0398657\n",
      "[100]\tcv_agg's l2: 0.298463 + 0.0529056\n",
      "[200]\tcv_agg's l2: 0.279646 + 0.0550272\n",
      "[300]\tcv_agg's l2: 0.283876 + 0.0590339\n",
      "[400]\tcv_agg's l2: 0.274623 + 0.0545093\n",
      "[500]\tcv_agg's l2: 0.270723 + 0.0519848\n",
      "[600]\tcv_agg's l2: 0.274072 + 0.059752\n"
     ]
    },
    {
     "name": "stderr",
     "output_type": "stream",
     "text": [
      "bagging, val_score: 0.212764: 100%|####################################################| 10/10 [00:33<00:00,  3.86s/it][I 2023-11-05 13:57:16,322] Trial 36 finished with value: 0.273065466642769 and parameters: {'bagging_fraction': 0.5358155587827695, 'bagging_freq': 7}. Best is trial 34 with value: 0.21276441286386652.\n",
      "bagging, val_score: 0.212764: 100%|####################################################| 10/10 [00:33<00:00,  3.40s/it]\n"
     ]
    },
    {
     "name": "stdout",
     "output_type": "stream",
     "text": [
      "Early stopping, best iteration is:\n",
      "[566]\tcv_agg's l2: 0.212764 + 0.0398657\n"
     ]
    },
    {
     "name": "stderr",
     "output_type": "stream",
     "text": [
      "feature_fraction_stage2, val_score: 0.212764:   0%|                                              | 0/6 [00:00<?, ?it/s]"
     ]
    },
    {
     "name": "stdout",
     "output_type": "stream",
     "text": [
      "[100]\tcv_agg's l2: 0.245058 + 0.047207\n",
      "[200]\tcv_agg's l2: 0.226315 + 0.0410593\n",
      "[300]\tcv_agg's l2: 0.219916 + 0.0397012\n",
      "[400]\tcv_agg's l2: 0.216838 + 0.0398735\n",
      "[500]\tcv_agg's l2: 0.214705 + 0.0391276\n",
      "[600]\tcv_agg's l2: 0.213239 + 0.040233\n"
     ]
    },
    {
     "name": "stderr",
     "output_type": "stream",
     "text": [
      "feature_fraction_stage2, val_score: 0.212764:  17%|######3                               | 1/6 [00:03<00:17,  3.46s/it][I 2023-11-05 13:57:19,787] Trial 37 finished with value: 0.21276441286386652 and parameters: {'feature_fraction': 0.6799999999999999}. Best is trial 37 with value: 0.21276441286386652.\n",
      "feature_fraction_stage2, val_score: 0.212764:  17%|######3                               | 1/6 [00:03<00:17,  3.46s/it]"
     ]
    },
    {
     "name": "stdout",
     "output_type": "stream",
     "text": [
      "Early stopping, best iteration is:\n",
      "[566]\tcv_agg's l2: 0.212764 + 0.0398657\n",
      "[100]\tcv_agg's l2: 0.245058 + 0.047207\n",
      "[200]\tcv_agg's l2: 0.226315 + 0.0410593\n",
      "[300]\tcv_agg's l2: 0.219916 + 0.0397012\n",
      "[400]\tcv_agg's l2: 0.216838 + 0.0398735\n",
      "[500]\tcv_agg's l2: 0.214705 + 0.0391276\n",
      "[600]\tcv_agg's l2: 0.213239 + 0.040233\n"
     ]
    },
    {
     "name": "stderr",
     "output_type": "stream",
     "text": [
      "feature_fraction_stage2, val_score: 0.212764:  33%|############6                         | 2/6 [00:07<00:14,  3.59s/it][I 2023-11-05 13:57:23,470] Trial 38 finished with value: 0.21276441286386652 and parameters: {'feature_fraction': 0.584}. Best is trial 37 with value: 0.21276441286386652.\n",
      "feature_fraction_stage2, val_score: 0.212764:  33%|############6                         | 2/6 [00:07<00:14,  3.59s/it]"
     ]
    },
    {
     "name": "stdout",
     "output_type": "stream",
     "text": [
      "Early stopping, best iteration is:\n",
      "[566]\tcv_agg's l2: 0.212764 + 0.0398657\n",
      "[100]\tcv_agg's l2: 0.268252 + 0.0676292\n",
      "[200]\tcv_agg's l2: 0.245692 + 0.0565488\n",
      "[300]\tcv_agg's l2: 0.241435 + 0.0534063\n",
      "[400]\tcv_agg's l2: 0.237468 + 0.0504061\n",
      "[500]\tcv_agg's l2: 0.237113 + 0.0486787\n",
      "[600]\tcv_agg's l2: 0.236919 + 0.0476788\n"
     ]
    },
    {
     "name": "stderr",
     "output_type": "stream",
     "text": [
      "feature_fraction_stage2, val_score: 0.212764:  50%|###################                   | 3/6 [00:10<00:10,  3.56s/it][I 2023-11-05 13:57:26,997] Trial 39 finished with value: 0.236195563917101 and parameters: {'feature_fraction': 0.52}. Best is trial 37 with value: 0.21276441286386652.\n",
      "feature_fraction_stage2, val_score: 0.212764:  50%|###################                   | 3/6 [00:10<00:10,  3.56s/it]"
     ]
    },
    {
     "name": "stdout",
     "output_type": "stream",
     "text": [
      "Early stopping, best iteration is:\n",
      "[566]\tcv_agg's l2: 0.212764 + 0.0398657\n",
      "[100]\tcv_agg's l2: 0.245058 + 0.047207\n",
      "[200]\tcv_agg's l2: 0.226315 + 0.0410593\n",
      "[300]\tcv_agg's l2: 0.219916 + 0.0397012\n",
      "[400]\tcv_agg's l2: 0.216838 + 0.0398735\n",
      "[500]\tcv_agg's l2: 0.214705 + 0.0391276\n",
      "[600]\tcv_agg's l2: 0.213239 + 0.040233\n"
     ]
    },
    {
     "name": "stderr",
     "output_type": "stream",
     "text": [
      "feature_fraction_stage2, val_score: 0.212764:  67%|#########################3            | 4/6 [00:14<00:07,  3.53s/it][I 2023-11-05 13:57:30,481] Trial 40 finished with value: 0.21276441286386652 and parameters: {'feature_fraction': 0.616}. Best is trial 37 with value: 0.21276441286386652.\n",
      "feature_fraction_stage2, val_score: 0.212764:  67%|#########################3            | 4/6 [00:14<00:07,  3.53s/it]"
     ]
    },
    {
     "name": "stdout",
     "output_type": "stream",
     "text": [
      "Early stopping, best iteration is:\n",
      "[566]\tcv_agg's l2: 0.212764 + 0.0398657\n",
      "[100]\tcv_agg's l2: 0.268252 + 0.0676292\n",
      "[200]\tcv_agg's l2: 0.245692 + 0.0565488\n",
      "[300]\tcv_agg's l2: 0.241435 + 0.0534063\n",
      "[400]\tcv_agg's l2: 0.237468 + 0.0504061\n",
      "[500]\tcv_agg's l2: 0.237113 + 0.0486787\n",
      "[600]\tcv_agg's l2: 0.236919 + 0.0476788\n"
     ]
    },
    {
     "name": "stderr",
     "output_type": "stream",
     "text": [
      "feature_fraction_stage2, val_score: 0.212764:  83%|###############################6      | 5/6 [00:17<00:03,  3.46s/it][I 2023-11-05 13:57:33,824] Trial 41 finished with value: 0.236195563917101 and parameters: {'feature_fraction': 0.552}. Best is trial 37 with value: 0.21276441286386652.\n",
      "feature_fraction_stage2, val_score: 0.212764:  83%|###############################6      | 5/6 [00:17<00:03,  3.46s/it]"
     ]
    },
    {
     "name": "stdout",
     "output_type": "stream",
     "text": [
      "Early stopping, best iteration is:\n",
      "[566]\tcv_agg's l2: 0.212764 + 0.0398657\n",
      "[100]\tcv_agg's l2: 0.245058 + 0.047207\n",
      "[200]\tcv_agg's l2: 0.226315 + 0.0410593\n",
      "[300]\tcv_agg's l2: 0.219916 + 0.0397012\n",
      "[400]\tcv_agg's l2: 0.216838 + 0.0398735\n",
      "[500]\tcv_agg's l2: 0.214705 + 0.0391276\n",
      "[600]\tcv_agg's l2: 0.213239 + 0.040233\n"
     ]
    },
    {
     "name": "stderr",
     "output_type": "stream",
     "text": [
      "feature_fraction_stage2, val_score: 0.212764: 100%|######################################| 6/6 [00:21<00:00,  3.49s/it][I 2023-11-05 13:57:37,360] Trial 42 finished with value: 0.21276441286386652 and parameters: {'feature_fraction': 0.6479999999999999}. Best is trial 37 with value: 0.21276441286386652.\n",
      "feature_fraction_stage2, val_score: 0.212764: 100%|######################################| 6/6 [00:21<00:00,  3.51s/it]\n"
     ]
    },
    {
     "name": "stdout",
     "output_type": "stream",
     "text": [
      "Early stopping, best iteration is:\n",
      "[566]\tcv_agg's l2: 0.212764 + 0.0398657\n"
     ]
    },
    {
     "name": "stderr",
     "output_type": "stream",
     "text": [
      "regularization_factors, val_score: 0.212764:   0%|                                              | 0/20 [00:00<?, ?it/s]"
     ]
    },
    {
     "name": "stdout",
     "output_type": "stream",
     "text": [
      "[100]\tcv_agg's l2: 0.247142 + 0.0424216\n",
      "[200]\tcv_agg's l2: 0.229145 + 0.0388466\n",
      "[300]\tcv_agg's l2: 0.222614 + 0.0389383\n",
      "[400]\tcv_agg's l2: 0.220107 + 0.0384941\n",
      "[500]\tcv_agg's l2: 0.218742 + 0.0384135\n",
      "[600]\tcv_agg's l2: 0.218435 + 0.0391997\n"
     ]
    },
    {
     "name": "stderr",
     "output_type": "stream",
     "text": [
      "regularization_factors, val_score: 0.212764:   5%|#9                                    | 1/20 [00:04<01:31,  4.83s/it][I 2023-11-05 13:57:42,198] Trial 43 finished with value: 0.2184531994253501 and parameters: {'lambda_l1': 0.0012807740271100268, 'lambda_l2': 0.10104744587859307}. Best is trial 43 with value: 0.2184531994253501.\n",
      "regularization_factors, val_score: 0.212764:   5%|#9                                    | 1/20 [00:04<01:31,  4.83s/it]"
     ]
    },
    {
     "name": "stdout",
     "output_type": "stream",
     "text": [
      "Early stopping, best iteration is:\n",
      "[566]\tcv_agg's l2: 0.212764 + 0.0398657\n",
      "[100]\tcv_agg's l2: 0.245058 + 0.047207\n",
      "[200]\tcv_agg's l2: 0.226315 + 0.0410593\n",
      "[300]\tcv_agg's l2: 0.219916 + 0.0397012\n",
      "[400]\tcv_agg's l2: 0.216838 + 0.0398735\n",
      "[500]\tcv_agg's l2: 0.214705 + 0.0391276\n",
      "[600]\tcv_agg's l2: 0.213239 + 0.040233\n"
     ]
    },
    {
     "name": "stderr",
     "output_type": "stream",
     "text": [
      "regularization_factors, val_score: 0.212764:  10%|###8                                  | 2/20 [00:08<01:13,  4.09s/it][I 2023-11-05 13:57:45,767] Trial 44 finished with value: 0.2127644130565584 and parameters: {'lambda_l1': 5.091535768564722e-08, 'lambda_l2': 1.2137726312776898e-08}. Best is trial 44 with value: 0.2127644130565584.\n",
      "regularization_factors, val_score: 0.212764:  10%|###8                                  | 2/20 [00:08<01:13,  4.09s/it]"
     ]
    },
    {
     "name": "stdout",
     "output_type": "stream",
     "text": [
      "Early stopping, best iteration is:\n",
      "[566]\tcv_agg's l2: 0.212764 + 0.0398657\n",
      "[100]\tcv_agg's l2: 0.318785 + 0.035633\n",
      "[200]\tcv_agg's l2: 0.308671 + 0.0364544\n",
      "[300]\tcv_agg's l2: 0.307595 + 0.0373327\n",
      "[400]\tcv_agg's l2: 0.307452 + 0.0373439\n",
      "[500]\tcv_agg's l2: 0.307452 + 0.0373439\n",
      "[600]\tcv_agg's l2: 0.307452 + 0.0373439\n"
     ]
    },
    {
     "name": "stderr",
     "output_type": "stream",
     "text": [
      "regularization_factors, val_score: 0.212764:  15%|#####7                                | 3/20 [00:09<00:47,  2.78s/it][I 2023-11-05 13:57:46,984] Trial 45 finished with value: 0.30745169723280796 and parameters: {'lambda_l1': 9.157613742626705, 'lambda_l2': 9.73642772419329}. Best is trial 44 with value: 0.2127644130565584.\n",
      "regularization_factors, val_score: 0.212764:  15%|#####7                                | 3/20 [00:09<00:47,  2.78s/it]"
     ]
    },
    {
     "name": "stdout",
     "output_type": "stream",
     "text": [
      "Early stopping, best iteration is:\n",
      "[566]\tcv_agg's l2: 0.212764 + 0.0398657\n",
      "[100]\tcv_agg's l2: 0.245058 + 0.047207\n",
      "[200]\tcv_agg's l2: 0.226315 + 0.0410593\n",
      "[300]\tcv_agg's l2: 0.219916 + 0.0397011\n",
      "[400]\tcv_agg's l2: 0.216838 + 0.0398735\n",
      "[500]\tcv_agg's l2: 0.214705 + 0.0391275\n",
      "[600]\tcv_agg's l2: 0.213239 + 0.040233\n"
     ]
    },
    {
     "name": "stderr",
     "output_type": "stream",
     "text": [
      "regularization_factors, val_score: 0.212764:  20%|#######6                              | 4/20 [00:13<00:49,  3.09s/it][I 2023-11-05 13:57:50,567] Trial 46 finished with value: 0.2127644048279472 and parameters: {'lambda_l1': 1.6340988626449927e-08, 'lambda_l2': 1.3636889353890428e-05}. Best is trial 46 with value: 0.2127644048279472.\n",
      "regularization_factors, val_score: 0.212764:  20%|#######6                              | 4/20 [00:13<00:49,  3.09s/it]"
     ]
    },
    {
     "name": "stdout",
     "output_type": "stream",
     "text": [
      "Early stopping, best iteration is:\n",
      "[566]\tcv_agg's l2: 0.212764 + 0.0398657\n",
      "[100]\tcv_agg's l2: 0.245058 + 0.047207\n",
      "[200]\tcv_agg's l2: 0.226315 + 0.0410593\n",
      "[300]\tcv_agg's l2: 0.219916 + 0.0397011\n",
      "[400]\tcv_agg's l2: 0.216838 + 0.0398735\n",
      "[500]\tcv_agg's l2: 0.214705 + 0.0391276\n",
      "[600]\tcv_agg's l2: 0.213239 + 0.040233\n"
     ]
    },
    {
     "name": "stderr",
     "output_type": "stream",
     "text": [
      "regularization_factors, val_score: 0.212764:  25%|#########5                            | 5/20 [00:17<00:54,  3.63s/it][I 2023-11-05 13:57:55,155] Trial 47 finished with value: 0.21276440620627063 and parameters: {'lambda_l1': 1.11470108972324e-08, 'lambda_l2': 1.0952608701980311e-05}. Best is trial 46 with value: 0.2127644048279472.\n",
      "regularization_factors, val_score: 0.212764:  25%|#########5                            | 5/20 [00:17<00:54,  3.63s/it]"
     ]
    },
    {
     "name": "stdout",
     "output_type": "stream",
     "text": [
      "Early stopping, best iteration is:\n",
      "[566]\tcv_agg's l2: 0.212764 + 0.0398657\n",
      "[100]\tcv_agg's l2: 0.245058 + 0.047207\n",
      "[200]\tcv_agg's l2: 0.226315 + 0.0410593\n",
      "[300]\tcv_agg's l2: 0.219916 + 0.0397011\n",
      "[400]\tcv_agg's l2: 0.216838 + 0.0398735\n",
      "[500]\tcv_agg's l2: 0.214705 + 0.0391276\n",
      "[600]\tcv_agg's l2: 0.213239 + 0.040233\n"
     ]
    },
    {
     "name": "stderr",
     "output_type": "stream",
     "text": [
      "regularization_factors, val_score: 0.212764:  30%|###########4                          | 6/20 [00:22<00:54,  3.89s/it][I 2023-11-05 13:57:59,541] Trial 48 finished with value: 0.21276440547219946 and parameters: {'lambda_l1': 1.632408266785676e-08, 'lambda_l2': 1.2250716414570198e-05}. Best is trial 46 with value: 0.2127644048279472.\n",
      "regularization_factors, val_score: 0.212764:  30%|###########4                          | 6/20 [00:22<00:54,  3.89s/it]"
     ]
    },
    {
     "name": "stdout",
     "output_type": "stream",
     "text": [
      "Early stopping, best iteration is:\n",
      "[566]\tcv_agg's l2: 0.212764 + 0.0398657\n",
      "[100]\tcv_agg's l2: 0.245058 + 0.047207\n",
      "[200]\tcv_agg's l2: 0.226315 + 0.0410593\n",
      "[300]\tcv_agg's l2: 0.219916 + 0.0397011\n",
      "[400]\tcv_agg's l2: 0.216838 + 0.0398735\n",
      "[500]\tcv_agg's l2: 0.214705 + 0.0391276\n",
      "[600]\tcv_agg's l2: 0.213239 + 0.040233\n"
     ]
    },
    {
     "name": "stderr",
     "output_type": "stream",
     "text": [
      "regularization_factors, val_score: 0.212764:  35%|#############3                        | 7/20 [00:25<00:49,  3.79s/it][I 2023-11-05 13:58:03,124] Trial 49 finished with value: 0.2127644067307748 and parameters: {'lambda_l1': 1.024029442770155e-08, 'lambda_l2': 1.037740517972477e-05}. Best is trial 46 with value: 0.2127644048279472.\n",
      "regularization_factors, val_score: 0.212764:  35%|#############3                        | 7/20 [00:25<00:49,  3.79s/it]"
     ]
    },
    {
     "name": "stdout",
     "output_type": "stream",
     "text": [
      "Early stopping, best iteration is:\n",
      "[566]\tcv_agg's l2: 0.212764 + 0.0398657\n",
      "[100]\tcv_agg's l2: 0.245058 + 0.047207\n",
      "[200]\tcv_agg's l2: 0.226315 + 0.0410593\n",
      "[300]\tcv_agg's l2: 0.219916 + 0.0397011\n",
      "[400]\tcv_agg's l2: 0.216838 + 0.0398735\n",
      "[500]\tcv_agg's l2: 0.214705 + 0.0391276\n",
      "[600]\tcv_agg's l2: 0.213239 + 0.040233\n"
     ]
    },
    {
     "name": "stderr",
     "output_type": "stream",
     "text": [
      "regularization_factors, val_score: 0.212764:  40%|###############2                      | 8/20 [00:29<00:44,  3.72s/it][I 2023-11-05 13:58:06,694] Trial 50 finished with value: 0.21276440568712163 and parameters: {'lambda_l1': 1.204422536280623e-08, 'lambda_l2': 1.1787703965116324e-05}. Best is trial 46 with value: 0.2127644048279472.\n",
      "regularization_factors, val_score: 0.212764:  40%|###############2                      | 8/20 [00:29<00:44,  3.72s/it]"
     ]
    },
    {
     "name": "stdout",
     "output_type": "stream",
     "text": [
      "Early stopping, best iteration is:\n",
      "[566]\tcv_agg's l2: 0.212764 + 0.0398657\n",
      "[100]\tcv_agg's l2: 0.245058 + 0.047207\n",
      "[200]\tcv_agg's l2: 0.226315 + 0.0410593\n",
      "[300]\tcv_agg's l2: 0.219916 + 0.0397011\n",
      "[400]\tcv_agg's l2: 0.216838 + 0.0398735\n",
      "[500]\tcv_agg's l2: 0.214705 + 0.0391276\n",
      "[600]\tcv_agg's l2: 0.213239 + 0.040233\n"
     ]
    },
    {
     "name": "stderr",
     "output_type": "stream",
     "text": [
      "regularization_factors, val_score: 0.212764:  45%|#################1                    | 9/20 [00:32<00:40,  3.70s/it][I 2023-11-05 13:58:10,350] Trial 51 finished with value: 0.2127644064643548 and parameters: {'lambda_l1': 1.1511556039052533e-08, 'lambda_l2': 1.0822622209705394e-05}. Best is trial 46 with value: 0.2127644048279472.\n",
      "regularization_factors, val_score: 0.212764:  45%|#################1                    | 9/20 [00:32<00:40,  3.70s/it]"
     ]
    },
    {
     "name": "stdout",
     "output_type": "stream",
     "text": [
      "Early stopping, best iteration is:\n",
      "[566]\tcv_agg's l2: 0.212764 + 0.0398657\n",
      "[100]\tcv_agg's l2: 0.245058 + 0.047207\n",
      "[200]\tcv_agg's l2: 0.226315 + 0.0410593\n",
      "[300]\tcv_agg's l2: 0.219916 + 0.0397011\n",
      "[400]\tcv_agg's l2: 0.216838 + 0.0398735\n",
      "[500]\tcv_agg's l2: 0.214705 + 0.0391276\n",
      "[600]\tcv_agg's l2: 0.213239 + 0.040233\n"
     ]
    },
    {
     "name": "stderr",
     "output_type": "stream",
     "text": [
      "regularization_factors, val_score: 0.212764:  50%|##################5                  | 10/20 [00:36<00:36,  3.67s/it][I 2023-11-05 13:58:13,951] Trial 52 finished with value: 0.21276440662506965 and parameters: {'lambda_l1': 1.2016848486855745e-08, 'lambda_l2': 1.0609411431970854e-05}. Best is trial 46 with value: 0.2127644048279472.\n",
      "regularization_factors, val_score: 0.212764:  50%|##################5                  | 10/20 [00:36<00:36,  3.67s/it]"
     ]
    },
    {
     "name": "stdout",
     "output_type": "stream",
     "text": [
      "Early stopping, best iteration is:\n",
      "[566]\tcv_agg's l2: 0.212764 + 0.0398657\n",
      "[100]\tcv_agg's l2: 0.245058 + 0.047207\n",
      "[200]\tcv_agg's l2: 0.226315 + 0.0410593\n",
      "[300]\tcv_agg's l2: 0.219916 + 0.0397011\n",
      "[400]\tcv_agg's l2: 0.216838 + 0.0398735\n",
      "[500]\tcv_agg's l2: 0.214705 + 0.0391276\n",
      "[600]\tcv_agg's l2: 0.213239 + 0.040233\n"
     ]
    },
    {
     "name": "stderr",
     "output_type": "stream",
     "text": [
      "regularization_factors, val_score: 0.212764:  55%|####################3                | 11/20 [00:40<00:33,  3.68s/it][I 2023-11-05 13:58:17,640] Trial 53 finished with value: 0.21276440567932836 and parameters: {'lambda_l1': 1.1356831354268262e-08, 'lambda_l2': 1.1698383111523949e-05}. Best is trial 46 with value: 0.2127644048279472.\n",
      "regularization_factors, val_score: 0.212764:  55%|####################3                | 11/20 [00:40<00:33,  3.68s/it]"
     ]
    },
    {
     "name": "stdout",
     "output_type": "stream",
     "text": [
      "Early stopping, best iteration is:\n",
      "[566]\tcv_agg's l2: 0.212764 + 0.0398657\n",
      "[100]\tcv_agg's l2: 0.245058 + 0.047207\n",
      "[200]\tcv_agg's l2: 0.226315 + 0.0410593\n",
      "[300]\tcv_agg's l2: 0.219916 + 0.0397011\n",
      "[400]\tcv_agg's l2: 0.216838 + 0.0398735\n",
      "[500]\tcv_agg's l2: 0.214705 + 0.0391275\n",
      "[600]\tcv_agg's l2: 0.213239 + 0.040233\n"
     ]
    },
    {
     "name": "stderr",
     "output_type": "stream",
     "text": [
      "regularization_factors, val_score: 0.212764:  60%|######################2              | 12/20 [00:44<00:29,  3.69s/it][I 2023-11-05 13:58:21,379] Trial 54 finished with value: 0.21276440499415342 and parameters: {'lambda_l1': 1.1825191679192406e-08, 'lambda_l2': 1.336751282326925e-05}. Best is trial 46 with value: 0.2127644048279472.\n",
      "regularization_factors, val_score: 0.212764:  60%|######################2              | 12/20 [00:44<00:29,  3.69s/it]"
     ]
    },
    {
     "name": "stdout",
     "output_type": "stream",
     "text": [
      "Early stopping, best iteration is:\n",
      "[566]\tcv_agg's l2: 0.212764 + 0.0398657\n",
      "[100]\tcv_agg's l2: 0.245058 + 0.047207\n",
      "[200]\tcv_agg's l2: 0.226315 + 0.0410593\n",
      "[300]\tcv_agg's l2: 0.219916 + 0.0397011\n",
      "[400]\tcv_agg's l2: 0.216838 + 0.0398735\n",
      "[500]\tcv_agg's l2: 0.214705 + 0.0391275\n",
      "[600]\tcv_agg's l2: 0.213239 + 0.040233\n"
     ]
    },
    {
     "name": "stderr",
     "output_type": "stream",
     "text": [
      "regularization_factors, val_score: 0.212764:  65%|########################             | 13/20 [00:47<00:26,  3.77s/it][I 2023-11-05 13:58:25,315] Trial 55 finished with value: 0.21276439605472622 and parameters: {'lambda_l1': 1.023906431963553e-08, 'lambda_l2': 2.74544440339735e-05}. Best is trial 55 with value: 0.21276439605472622.\n",
      "regularization_factors, val_score: 0.212764:  65%|########################             | 13/20 [00:47<00:26,  3.77s/it]"
     ]
    },
    {
     "name": "stdout",
     "output_type": "stream",
     "text": [
      "Early stopping, best iteration is:\n",
      "[566]\tcv_agg's l2: 0.212764 + 0.0398657\n",
      "[100]\tcv_agg's l2: 0.245058 + 0.047207\n",
      "[200]\tcv_agg's l2: 0.226315 + 0.0410593\n",
      "[300]\tcv_agg's l2: 0.219916 + 0.0397011\n",
      "[400]\tcv_agg's l2: 0.216838 + 0.0398735\n",
      "[500]\tcv_agg's l2: 0.214705 + 0.0391275\n",
      "[600]\tcv_agg's l2: 0.213239 + 0.040233\n"
     ]
    },
    {
     "name": "stderr",
     "output_type": "stream",
     "text": [
      "regularization_factors, val_score: 0.212764:  70%|#########################9           | 14/20 [00:51<00:22,  3.79s/it][I 2023-11-05 13:58:29,166] Trial 56 finished with value: 0.21276440025154963 and parameters: {'lambda_l1': 6.624876195862053e-08, 'lambda_l2': 2.101912807533512e-05}. Best is trial 55 with value: 0.21276439605472622.\n",
      "regularization_factors, val_score: 0.212764:  70%|#########################9           | 14/20 [00:51<00:22,  3.79s/it]"
     ]
    },
    {
     "name": "stdout",
     "output_type": "stream",
     "text": [
      "Early stopping, best iteration is:\n",
      "[566]\tcv_agg's l2: 0.212764 + 0.0398657\n",
      "[100]\tcv_agg's l2: 0.245058 + 0.047207\n",
      "[200]\tcv_agg's l2: 0.226315 + 0.0410593\n",
      "[300]\tcv_agg's l2: 0.219916 + 0.0397011\n",
      "[400]\tcv_agg's l2: 0.216838 + 0.0398735\n",
      "[500]\tcv_agg's l2: 0.214705 + 0.0391275\n",
      "[600]\tcv_agg's l2: 0.213239 + 0.040233\n"
     ]
    },
    {
     "name": "stderr",
     "output_type": "stream",
     "text": [
      "regularization_factors, val_score: 0.212764:  75%|###########################7         | 15/20 [00:56<00:19,  3.94s/it][I 2023-11-05 13:58:33,437] Trial 57 finished with value: 0.21276438420622737 and parameters: {'lambda_l1': 2.5198157196094235e-07, 'lambda_l2': 4.794770467017452e-05}. Best is trial 57 with value: 0.21276438420622737.\n",
      "regularization_factors, val_score: 0.212764:  75%|###########################7         | 15/20 [00:56<00:19,  3.94s/it]"
     ]
    },
    {
     "name": "stdout",
     "output_type": "stream",
     "text": [
      "Early stopping, best iteration is:\n",
      "[566]\tcv_agg's l2: 0.212764 + 0.0398656\n",
      "[100]\tcv_agg's l2: 0.245058 + 0.0472069\n",
      "[200]\tcv_agg's l2: 0.226315 + 0.0410593\n",
      "[300]\tcv_agg's l2: 0.219916 + 0.0397011\n",
      "[400]\tcv_agg's l2: 0.216838 + 0.0398735\n",
      "[500]\tcv_agg's l2: 0.214705 + 0.0391275\n",
      "[600]\tcv_agg's l2: 0.213239 + 0.040233\n"
     ]
    },
    {
     "name": "stderr",
     "output_type": "stream",
     "text": [
      "regularization_factors, val_score: 0.212764:  80%|#############################6       | 16/20 [01:00<00:15,  3.96s/it][I 2023-11-05 13:58:37,444] Trial 58 finished with value: 0.2127643381415783 and parameters: {'lambda_l1': 4.552478088182027e-07, 'lambda_l2': 0.00012387192599112946}. Best is trial 58 with value: 0.2127643381415783.\n",
      "regularization_factors, val_score: 0.212764:  80%|#############################6       | 16/20 [01:00<00:15,  3.96s/it]"
     ]
    },
    {
     "name": "stdout",
     "output_type": "stream",
     "text": [
      "Early stopping, best iteration is:\n",
      "[566]\tcv_agg's l2: 0.212764 + 0.0398656\n",
      "[100]\tcv_agg's l2: 0.245058 + 0.0472069\n",
      "[200]\tcv_agg's l2: 0.226315 + 0.0410593\n",
      "[300]\tcv_agg's l2: 0.219916 + 0.0397011\n",
      "[400]\tcv_agg's l2: 0.216838 + 0.0398735\n",
      "[500]\tcv_agg's l2: 0.214705 + 0.0391275\n",
      "[600]\tcv_agg's l2: 0.213239 + 0.040233\n"
     ]
    },
    {
     "name": "stderr",
     "output_type": "stream",
     "text": [
      "regularization_factors, val_score: 0.212764:  85%|###############################4     | 17/20 [01:04<00:11,  3.97s/it][I 2023-11-05 13:58:41,430] Trial 59 finished with value: 0.2127643063085168 and parameters: {'lambda_l1': 4.6719906687152824e-07, 'lambda_l2': 0.00017589188876760415}. Best is trial 59 with value: 0.2127643063085168.\n",
      "regularization_factors, val_score: 0.212764:  85%|###############################4     | 17/20 [01:04<00:11,  3.97s/it]"
     ]
    },
    {
     "name": "stdout",
     "output_type": "stream",
     "text": [
      "Early stopping, best iteration is:\n",
      "[566]\tcv_agg's l2: 0.212764 + 0.0398656\n",
      "[100]\tcv_agg's l2: 0.245058 + 0.0472068\n",
      "[200]\tcv_agg's l2: 0.226315 + 0.0410592\n",
      "[300]\tcv_agg's l2: 0.219916 + 0.039701\n",
      "[400]\tcv_agg's l2: 0.216838 + 0.0398734\n",
      "[500]\tcv_agg's l2: 0.214705 + 0.0391274\n",
      "[600]\tcv_agg's l2: 0.213239 + 0.0402329\n"
     ]
    },
    {
     "name": "stderr",
     "output_type": "stream",
     "text": [
      "regularization_factors, val_score: 0.212764:  90%|#################################3   | 18/20 [01:08<00:07,  3.98s/it][I 2023-11-05 13:58:45,442] Trial 60 finished with value: 0.21276419567062138 and parameters: {'lambda_l1': 4.921914972515003e-07, 'lambda_l2': 0.00035656746306309445}. Best is trial 60 with value: 0.21276419567062138.\n",
      "regularization_factors, val_score: 0.212764:  90%|#################################3   | 18/20 [01:08<00:07,  3.98s/it]"
     ]
    },
    {
     "name": "stdout",
     "output_type": "stream",
     "text": [
      "Early stopping, best iteration is:\n",
      "[566]\tcv_agg's l2: 0.212764 + 0.0398655\n",
      "[100]\tcv_agg's l2: 0.245058 + 0.0472067\n",
      "[200]\tcv_agg's l2: 0.226314 + 0.0410591\n",
      "[300]\tcv_agg's l2: 0.219916 + 0.0397009\n",
      "[400]\tcv_agg's l2: 0.216838 + 0.0398733\n",
      "[500]\tcv_agg's l2: 0.214704 + 0.0391273\n",
      "[600]\tcv_agg's l2: 0.213239 + 0.0402328\n"
     ]
    },
    {
     "name": "stderr",
     "output_type": "stream",
     "text": [
      "regularization_factors, val_score: 0.212764:  95%|###################################1 | 19/20 [01:11<00:03,  3.96s/it][I 2023-11-05 13:58:49,342] Trial 61 finished with value: 0.21276408707847483 and parameters: {'lambda_l1': 5.870879684834432e-07, 'lambda_l2': 0.0005337560923554096}. Best is trial 61 with value: 0.21276408707847483.\n",
      "regularization_factors, val_score: 0.212764:  95%|###################################1 | 19/20 [01:11<00:03,  3.96s/it]"
     ]
    },
    {
     "name": "stdout",
     "output_type": "stream",
     "text": [
      "Early stopping, best iteration is:\n",
      "[566]\tcv_agg's l2: 0.212764 + 0.0398654\n",
      "[100]\tcv_agg's l2: 0.245058 + 0.0472067\n",
      "[200]\tcv_agg's l2: 0.226314 + 0.0410591\n",
      "[300]\tcv_agg's l2: 0.219916 + 0.0397009\n",
      "[400]\tcv_agg's l2: 0.216838 + 0.0398733\n",
      "[500]\tcv_agg's l2: 0.214705 + 0.0391273\n",
      "[600]\tcv_agg's l2: 0.213239 + 0.0402328\n"
     ]
    },
    {
     "name": "stderr",
     "output_type": "stream",
     "text": [
      "regularization_factors, val_score: 0.212764: 100%|#####################################| 20/20 [01:16<00:00,  4.09s/it][I 2023-11-05 13:58:53,749] Trial 62 finished with value: 0.21276411836142306 and parameters: {'lambda_l1': 7.551605907515905e-07, 'lambda_l2': 0.0004838626490525152}. Best is trial 61 with value: 0.21276408707847483.\n",
      "regularization_factors, val_score: 0.212764: 100%|#####################################| 20/20 [01:16<00:00,  3.82s/it]\n"
     ]
    },
    {
     "name": "stdout",
     "output_type": "stream",
     "text": [
      "Early stopping, best iteration is:\n",
      "[566]\tcv_agg's l2: 0.212764 + 0.0398654\n"
     ]
    },
    {
     "name": "stderr",
     "output_type": "stream",
     "text": [
      "min_data_in_leaf, val_score: 0.212764:   0%|                                                     | 0/5 [00:00<?, ?it/s]"
     ]
    },
    {
     "name": "stdout",
     "output_type": "stream",
     "text": [
      "[100]\tcv_agg's l2: 0.214197 + 0.0387087\n",
      "[200]\tcv_agg's l2: 0.203867 + 0.034157\n",
      "[300]\tcv_agg's l2: 0.199361 + 0.0323967\n"
     ]
    },
    {
     "name": "stderr",
     "output_type": "stream",
     "text": [
      "\r",
      "min_data_in_leaf, val_score: 0.198862:   0%|                                                     | 0/5 [00:02<?, ?it/s]"
     ]
    },
    {
     "name": "stdout",
     "output_type": "stream",
     "text": [
      "[400]\tcv_agg's l2: 0.200196 + 0.0325646\n",
      "Early stopping, best iteration is:\n",
      "[307]\tcv_agg's l2: 0.198862 + 0.0317351\n"
     ]
    },
    {
     "name": "stderr",
     "output_type": "stream",
     "text": [
      "min_data_in_leaf, val_score: 0.198862:  20%|#########                                    | 1/5 [00:02<00:11,  2.77s/it][I 2023-11-05 13:58:56,531] Trial 63 finished with value: 0.19886218199863248 and parameters: {'min_child_samples': 5}. Best is trial 63 with value: 0.19886218199863248.\n",
      "min_data_in_leaf, val_score: 0.198862:  20%|#########                                    | 1/5 [00:02<00:11,  2.77s/it]"
     ]
    },
    {
     "name": "stdout",
     "output_type": "stream",
     "text": [
      "[100]\tcv_agg's l2: 0.276408 + 0.0520995\n",
      "[200]\tcv_agg's l2: 0.25716 + 0.0552257\n",
      "[300]\tcv_agg's l2: 0.251126 + 0.0548612\n"
     ]
    },
    {
     "name": "stderr",
     "output_type": "stream",
     "text": [
      "min_data_in_leaf, val_score: 0.198862:  40%|##################                           | 2/5 [00:05<00:08,  2.72s/it][I 2023-11-05 13:58:59,213] Trial 64 finished with value: 0.2509505503081768 and parameters: {'min_child_samples': 25}. Best is trial 63 with value: 0.19886218199863248.\n",
      "min_data_in_leaf, val_score: 0.198862:  40%|##################                           | 2/5 [00:05<00:08,  2.72s/it]"
     ]
    },
    {
     "name": "stdout",
     "output_type": "stream",
     "text": [
      "[400]\tcv_agg's l2: 0.248946 + 0.0568334\n",
      "Early stopping, best iteration is:\n",
      "[307]\tcv_agg's l2: 0.198862 + 0.0317351\n",
      "[100]\tcv_agg's l2: 0.220058 + 0.0438207\n",
      "[200]\tcv_agg's l2: 0.208604 + 0.0389527\n",
      "[300]\tcv_agg's l2: 0.205022 + 0.0398096\n"
     ]
    },
    {
     "name": "stderr",
     "output_type": "stream",
     "text": [
      "min_data_in_leaf, val_score: 0.198862:  60%|###########################                  | 3/5 [00:08<00:05,  2.72s/it][I 2023-11-05 13:59:01,922] Trial 65 finished with value: 0.20456431908423994 and parameters: {'min_child_samples': 10}. Best is trial 63 with value: 0.19886218199863248.\n",
      "min_data_in_leaf, val_score: 0.198862:  60%|###########################                  | 3/5 [00:08<00:05,  2.72s/it]"
     ]
    },
    {
     "name": "stdout",
     "output_type": "stream",
     "text": [
      "[400]\tcv_agg's l2: 0.204358 + 0.0383811\n",
      "Early stopping, best iteration is:\n",
      "[307]\tcv_agg's l2: 0.198862 + 0.0317351\n",
      "[100]\tcv_agg's l2: 0.872962 + 0.22161\n",
      "[200]\tcv_agg's l2: 0.850316 + 0.224409\n",
      "[300]\tcv_agg's l2: 0.833953 + 0.21893\n"
     ]
    },
    {
     "name": "stderr",
     "output_type": "stream",
     "text": [
      "min_data_in_leaf, val_score: 0.198862:  80%|####################################         | 4/5 [00:09<00:02,  2.33s/it][I 2023-11-05 13:59:03,651] Trial 66 finished with value: 0.8331504929410165 and parameters: {'min_child_samples': 100}. Best is trial 63 with value: 0.19886218199863248.\n",
      "min_data_in_leaf, val_score: 0.198862:  80%|####################################         | 4/5 [00:09<00:02,  2.33s/it]"
     ]
    },
    {
     "name": "stdout",
     "output_type": "stream",
     "text": [
      "[400]\tcv_agg's l2: 0.825904 + 0.21344\n",
      "Early stopping, best iteration is:\n",
      "[307]\tcv_agg's l2: 0.198862 + 0.0317351\n",
      "[100]\tcv_agg's l2: 0.346323 + 0.0576729\n",
      "[200]\tcv_agg's l2: 0.325799 + 0.0606332\n",
      "[300]\tcv_agg's l2: 0.319128 + 0.0628625\n"
     ]
    },
    {
     "name": "stderr",
     "output_type": "stream",
     "text": [
      "min_data_in_leaf, val_score: 0.198862: 100%|#############################################| 5/5 [00:12<00:00,  2.45s/it][I 2023-11-05 13:59:06,317] Trial 67 finished with value: 0.3189189895677599 and parameters: {'min_child_samples': 50}. Best is trial 63 with value: 0.19886218199863248.\n",
      "min_data_in_leaf, val_score: 0.198862: 100%|#############################################| 5/5 [00:12<00:00,  2.51s/it]"
     ]
    },
    {
     "name": "stdout",
     "output_type": "stream",
     "text": [
      "[400]\tcv_agg's l2: 0.316693 + 0.0650165\n",
      "Early stopping, best iteration is:\n",
      "[307]\tcv_agg's l2: 0.198862 + 0.0317351\n"
     ]
    },
    {
     "name": "stderr",
     "output_type": "stream",
     "text": [
      "\n"
     ]
    }
   ],
   "source": [
    "import optuna.integration.lightgbm as lgb\n",
    "from lightgbm import early_stopping, log_evaluation\n",
    "from sklearn.model_selection import KFold\n",
    "from sklearn.model_selection import RepeatedKFold\n",
    "\n",
    "\n",
    "lgb_train = lgb.Dataset(X_train, y_train)\n",
    "\n",
    "params = {\n",
    "    \"boosting_type\": \"gbdt\",\n",
    "    \"objective\": \"regression\",\n",
    "    \"metric\": \"l2\",\n",
    "    \"verbosity\": -1,\n",
    "}\n",
    "\n",
    "tuner = lgb.LightGBMTunerCV(\n",
    "    params,\n",
    "    lgb_train,\n",
    "    folds=KFold(n_splits=5),\n",
    "    num_boost_round=10000,\n",
    "    callbacks=[early_stopping(100), log_evaluation(100)],\n",
    ")\n",
    "\n",
    "tuner.run()"
   ]
  },
  {
   "cell_type": "code",
   "execution_count": 23,
   "id": "3b9d8fb3",
   "metadata": {},
   "outputs": [
    {
     "name": "stdout",
     "output_type": "stream",
     "text": [
      "Best score: 0.19886218199863248\n",
      "Params: \n",
      "    boosting_type: gbdt\n",
      "    objective: regression\n",
      "    metric: l2\n",
      "    verbosity: -1\n",
      "    feature_pre_filter: False\n",
      "    lambda_l1: 5.870879684834432e-07\n",
      "    lambda_l2: 0.0005337560923554096\n",
      "    num_leaves: 11\n",
      "    feature_fraction: 0.6\n",
      "    bagging_fraction: 0.9726130417109135\n",
      "    bagging_freq: 5\n",
      "    min_child_samples: 5\n"
     ]
    }
   ],
   "source": [
    "print(f\"Best score: {tuner.best_score}\")\n",
    "best_params = tuner.best_params\n",
    "print(\"Params: \")\n",
    "for key, value in best_params.items():\n",
    "    print(\"    {}: {}\".format(key, value))"
   ]
  },
  {
   "cell_type": "code",
   "execution_count": 24,
   "id": "d25b1687",
   "metadata": {},
   "outputs": [],
   "source": [
    "import lightgbm as lgb\n",
    "\n",
    "lgb_tuned = lgb.train(\n",
    "    best_params,\n",
    "    lgb_train,\n",
    "    num_boost_round=10000,\n",
    ")"
   ]
  },
  {
   "cell_type": "code",
   "execution_count": 25,
   "id": "290a9f09",
   "metadata": {
    "scrolled": false
   },
   "outputs": [
    {
     "name": "stdout",
     "output_type": "stream",
     "text": [
      "RMSE train: 0.00\n",
      "RMSE test: 0.68\n",
      "MAE test: 0.48\n",
      "\n"
     ]
    }
   ],
   "source": [
    "rmse, mae = assess_regression_model(lgb_tuned, X_train, X_test, y_train, y_test)"
   ]
  },
  {
   "cell_type": "code",
   "execution_count": 26,
   "id": "a6ecfca2",
   "metadata": {},
   "outputs": [],
   "source": [
    "results.loc[1] = [\n",
    "    \"chronological\",\n",
    "    \"Optuna\",\n",
    "    \"basic\",\n",
    "    rmse,\n",
    "    mae,\n",
    "]"
   ]
  },
  {
   "cell_type": "markdown",
   "id": "2f13ab75",
   "metadata": {},
   "source": [
    "###### MAE by level"
   ]
  },
  {
   "cell_type": "code",
   "execution_count": 27,
   "id": "e2f172bc",
   "metadata": {},
   "outputs": [
    {
     "data": {
      "image/png": "[encoded data removed]",
      "text/plain": [
       "<Figure size 720x432 with 1 Axes>"
      ]
     },
     "metadata": {
      "needs_background": "light"
     },
     "output_type": "display_data"
    }
   ],
   "source": [
    "plot_mae_by_level(\n",
    "    y_test,\n",
    "    y_pred_test,\n",
    "    title=\"MAE by level for tuned LightGBM with basic features and chronological split\",\n",
    ")"
   ]
  },
  {
   "cell_type": "code",
   "execution_count": 28,
   "id": "9f6b3122",
   "metadata": {
    "scrolled": false
   },
   "outputs": [
    {
     "name": "stdout",
     "output_type": "stream",
     "text": [
      "Default:\n",
      "RMSE: 0.68\n",
      "\n",
      "Round type: 0.5\n",
      "RMSE: 0.72\n",
      "\n",
      "Round type: 0.33\n",
      "RMSE: 0.71\n",
      "\n",
      "Round type: 0.45\n",
      "RMSE: 0.72\n",
      "\n"
     ]
    }
   ],
   "source": [
    "predict = lgb_tuned.predict(X_test)\n",
    "check_round_predictions([0.5, 0.33, 0.45], y_test, predict)"
   ]
  },
  {
   "cell_type": "code",
   "execution_count": 29,
   "id": "515dc232",
   "metadata": {},
   "outputs": [
    {
     "data": {
      "image/png": "[encoded data removed]",
      "text/plain": [
       "<Figure size 432x288 with 2 Axes>"
      ]
     },
     "metadata": {
      "needs_background": "light"
     },
     "output_type": "display_data"
    }
   ],
   "source": [
    "plot_confusion_matrix(\n",
    "    predict,\n",
    "    y_test,\n",
    "    title=\"Confusion matrix for tuned LightGBM with basic features and chronological split\",\n",
    ")"
   ]
  },
  {
   "cell_type": "markdown",
   "id": "493f7602",
   "metadata": {},
   "source": [
    "## Random split"
   ]
  },
  {
   "cell_type": "code",
   "execution_count": 30,
   "id": "4948ca0a",
   "metadata": {},
   "outputs": [
    {
     "name": "stdout",
     "output_type": "stream",
     "text": [
      "[LightGBM] [Warning] Auto-choosing col-wise multi-threading, the overhead of testing was 0.000464 seconds.\n",
      "You can set `force_col_wise=true` to remove the overhead.\n",
      "[LightGBM] [Info] Total Bins 234\n",
      "[LightGBM] [Info] Number of data points in the train set: 904, number of used features: 8\n",
      "[LightGBM] [Info] Start training from score 7.162611\n",
      "Training until validation scores don't improve for 5 rounds\n",
      "Early stopping, best iteration is:\n",
      "[57]\tvalid_0's l1: 0.336785\tvalid_0's l2: 0.238538\n"
     ]
    }
   ],
   "source": [
    "import lightgbm as lgb\n",
    "from sklearn.metrics import mean_squared_error\n",
    "\n",
    "lgb_train = lgb.Dataset(X_train_random_split, y_train_random_split)\n",
    "lgb_eval = lgb.Dataset(X_test_random_split, y_test_random_split, reference=lgb_train)\n",
    "\n",
    "params = {\n",
    "    \"boosting_type\": \"gbdt\",\n",
    "    \"objective\": \"regression\",\n",
    "    \"metric\": {\"l2\", \"l1\"},\n",
    "}\n",
    "\n",
    "gbm = lgb.train(\n",
    "    params,\n",
    "    lgb_train,\n",
    "    num_boost_round=100,\n",
    "    valid_sets=lgb_eval,\n",
    "    callbacks=[lgb.early_stopping(stopping_rounds=5)],\n",
    ")"
   ]
  },
  {
   "cell_type": "code",
   "execution_count": 31,
   "id": "f9bd4c3b",
   "metadata": {},
   "outputs": [],
   "source": [
    "y_pred_train = gbm.predict(X_train_random_split, num_iteration=gbm.best_iteration)\n",
    "y_pred_test = gbm.predict(X_test_random_split, num_iteration=gbm.best_iteration)"
   ]
  },
  {
   "cell_type": "code",
   "execution_count": 32,
   "id": "c014931e",
   "metadata": {},
   "outputs": [
    {
     "name": "stdout",
     "output_type": "stream",
     "text": [
      "RMSE: 0.49\n",
      "MAE: 0.34\n"
     ]
    }
   ],
   "source": [
    "from sklearn.metrics import mean_squared_error, mean_absolute_error\n",
    "\n",
    "\n",
    "rmse = mean_squared_error(y_test_random_split, y_pred_test, squared=False)\n",
    "mae = mean_absolute_error(y_test_random_split, y_pred_test)\n",
    "\n",
    "print(f\"RMSE: {rmse:.2f}\")\n",
    "print(f\"MAE: {mae:.2f}\")"
   ]
  },
  {
   "cell_type": "code",
   "execution_count": 33,
   "id": "8cbceea7",
   "metadata": {},
   "outputs": [],
   "source": [
    "results.loc[2] = [\"random\", \"default\", \"basic\", rmse, mae]"
   ]
  },
  {
   "cell_type": "markdown",
   "id": "eacfd0ab",
   "metadata": {},
   "source": [
    "###### MAE by level"
   ]
  },
  {
   "cell_type": "code",
   "execution_count": 34,
   "id": "8af01c5c",
   "metadata": {},
   "outputs": [
    {
     "data": {
      "image/png": "[encoded data removed]",
      "text/plain": [
       "<Figure size 720x432 with 1 Axes>"
      ]
     },
     "metadata": {
      "needs_background": "light"
     },
     "output_type": "display_data"
    }
   ],
   "source": [
    "plot_mae_by_level(\n",
    "    y_test_random_split,\n",
    "    y_pred_test,\n",
    "    title=\"MAE by level for default LightGBM with basic features and random split\",\n",
    ")"
   ]
  },
  {
   "cell_type": "code",
   "execution_count": 35,
   "id": "e5edd1d7",
   "metadata": {
    "scrolled": true
   },
   "outputs": [
    {
     "name": "stdout",
     "output_type": "stream",
     "text": [
      "Default:\n",
      "RMSE: 0.49\n",
      "\n",
      "Round type: 0.5\n",
      "RMSE: 0.51\n",
      "\n",
      "Round type: 0.33\n",
      "RMSE: 0.57\n",
      "\n",
      "Round type: 0.45\n",
      "RMSE: 0.51\n",
      "\n"
     ]
    }
   ],
   "source": [
    "check_round_predictions([0.5, 0.33, 0.45], y_test_random_split, y_pred_test)"
   ]
  },
  {
   "cell_type": "code",
   "execution_count": 36,
   "id": "39e001dd",
   "metadata": {},
   "outputs": [
    {
     "data": {
      "image/png": "[encoded data removed]",
      "text/plain": [
       "<Figure size 432x288 with 2 Axes>"
      ]
     },
     "metadata": {
      "needs_background": "light"
     },
     "output_type": "display_data"
    }
   ],
   "source": [
    "plot_confusion_matrix(\n",
    "    y_pred_test,\n",
    "    y_test_random_split,\n",
    "    title=\"Confusion matrix for default LightGBM with basic features and random split\",\n",
    ")"
   ]
  },
  {
   "cell_type": "markdown",
   "id": "2a0c7ae0",
   "metadata": {},
   "source": [
    "### Tuning"
   ]
  },
  {
   "cell_type": "code",
   "execution_count": 37,
   "id": "0ef6525a",
   "metadata": {},
   "outputs": [
    {
     "name": "stderr",
     "output_type": "stream",
     "text": [
      "[I 2023-11-05 13:59:29,263] A new study created in memory with name: no-name-b1e350ec-40f0-4193-a351-c8adcd819fc7\n",
      "feature_fraction, val_score: inf:   0%|                                                          | 0/7 [00:00<?, ?it/s]"
     ]
    },
    {
     "name": "stdout",
     "output_type": "stream",
     "text": [
      "Training until validation scores don't improve for 100 rounds\n",
      "[100]\tcv_agg's l2: 0.258013 + 0.076644\n",
      "[200]\tcv_agg's l2: 0.260521 + 0.0774082\n"
     ]
    },
    {
     "name": "stderr",
     "output_type": "stream",
     "text": [
      "feature_fraction, val_score: 0.256439:  14%|######4                                      | 1/7 [00:04<00:25,  4.19s/it][I 2023-11-05 13:59:33,465] Trial 0 finished with value: 0.2564388102863906 and parameters: {'feature_fraction': 1.0}. Best is trial 0 with value: 0.2564388102863906.\n",
      "feature_fraction, val_score: 0.256439:  14%|######4                                      | 1/7 [00:04<00:25,  4.19s/it]"
     ]
    },
    {
     "name": "stdout",
     "output_type": "stream",
     "text": [
      "Early stopping, best iteration is:\n",
      "[127]\tcv_agg's l2: 0.256439 + 0.0774933\n",
      "[100]\tcv_agg's l2: 0.259912 + 0.0406326\n",
      "[200]\tcv_agg's l2: 0.256453 + 0.0413978\n"
     ]
    },
    {
     "name": "stderr",
     "output_type": "stream",
     "text": [
      "feature_fraction, val_score: 0.254810:  29%|############8                                | 2/7 [00:08<00:20,  4.14s/it][I 2023-11-05 13:59:37,560] Trial 1 finished with value: 0.2548097879487563 and parameters: {'feature_fraction': 0.6}. Best is trial 1 with value: 0.2548097879487563.\n",
      "feature_fraction, val_score: 0.254810:  29%|############8                                | 2/7 [00:08<00:20,  4.14s/it]"
     ]
    },
    {
     "name": "stdout",
     "output_type": "stream",
     "text": [
      "Early stopping, best iteration is:\n",
      "[157]\tcv_agg's l2: 0.25481 + 0.0408438\n",
      "[100]\tcv_agg's l2: 0.258241 + 0.0722198\n",
      "[200]\tcv_agg's l2: 0.258632 + 0.0666509\n"
     ]
    },
    {
     "name": "stderr",
     "output_type": "stream",
     "text": [
      "feature_fraction, val_score: 0.254810:  43%|###################2                         | 3/7 [00:12<00:17,  4.34s/it][I 2023-11-05 13:59:42,148] Trial 2 finished with value: 0.25803616736059654 and parameters: {'feature_fraction': 0.8999999999999999}. Best is trial 1 with value: 0.2548097879487563.\n",
      "feature_fraction, val_score: 0.254810:  43%|###################2                         | 3/7 [00:12<00:17,  4.34s/it]"
     ]
    },
    {
     "name": "stdout",
     "output_type": "stream",
     "text": [
      "Early stopping, best iteration is:\n",
      "[157]\tcv_agg's l2: 0.25481 + 0.0408438\n",
      "[100]\tcv_agg's l2: 0.272451 + 0.0599365\n",
      "[200]\tcv_agg's l2: 0.265913 + 0.0588899\n"
     ]
    },
    {
     "name": "stderr",
     "output_type": "stream",
     "text": [
      "feature_fraction, val_score: 0.254810:  57%|#########################7                   | 4/7 [00:17<00:13,  4.45s/it][I 2023-11-05 13:59:46,753] Trial 3 finished with value: 0.2668451785098384 and parameters: {'feature_fraction': 0.4}. Best is trial 1 with value: 0.2548097879487563.\n",
      "feature_fraction, val_score: 0.254810:  57%|#########################7                   | 4/7 [00:17<00:13,  4.45s/it]"
     ]
    },
    {
     "name": "stdout",
     "output_type": "stream",
     "text": [
      "Early stopping, best iteration is:\n",
      "[157]\tcv_agg's l2: 0.25481 + 0.0408438\n",
      "[100]\tcv_agg's l2: 0.270189 + 0.0888317\n",
      "[200]\tcv_agg's l2: 0.265319 + 0.0820295\n"
     ]
    },
    {
     "name": "stderr",
     "output_type": "stream",
     "text": [
      "feature_fraction, val_score: 0.254810:  71%|################################1            | 5/7 [00:21<00:08,  4.18s/it][I 2023-11-05 13:59:50,451] Trial 4 finished with value: 0.2656188822291479 and parameters: {'feature_fraction': 0.5}. Best is trial 1 with value: 0.2548097879487563.\n",
      "feature_fraction, val_score: 0.254810:  71%|################################1            | 5/7 [00:21<00:08,  4.18s/it]"
     ]
    },
    {
     "name": "stdout",
     "output_type": "stream",
     "text": [
      "Early stopping, best iteration is:\n",
      "[157]\tcv_agg's l2: 0.25481 + 0.0408438\n",
      "[100]\tcv_agg's l2: 0.257798 + 0.0525771\n",
      "[200]\tcv_agg's l2: 0.254695 + 0.0534193\n"
     ]
    },
    {
     "name": "stderr",
     "output_type": "stream",
     "text": [
      "feature_fraction, val_score: 0.254695:  86%|######################################5      | 6/7 [00:25<00:04,  4.39s/it][I 2023-11-05 13:59:55,243] Trial 5 finished with value: 0.2546949532329195 and parameters: {'feature_fraction': 0.7}. Best is trial 5 with value: 0.2546949532329195.\n",
      "feature_fraction, val_score: 0.254695:  86%|######################################5      | 6/7 [00:25<00:04,  4.39s/it]"
     ]
    },
    {
     "name": "stdout",
     "output_type": "stream",
     "text": [
      "[300]\tcv_agg's l2: 0.256873 + 0.0532634\n",
      "Early stopping, best iteration is:\n",
      "[200]\tcv_agg's l2: 0.254695 + 0.0534193\n",
      "[100]\tcv_agg's l2: 0.257798 + 0.0525771\n",
      "[200]\tcv_agg's l2: 0.254695 + 0.0534193\n"
     ]
    },
    {
     "name": "stderr",
     "output_type": "stream",
     "text": [
      "feature_fraction, val_score: 0.254695: 100%|#############################################| 7/7 [00:31<00:00,  4.65s/it][I 2023-11-05 14:00:00,448] Trial 6 finished with value: 0.2546949532329195 and parameters: {'feature_fraction': 0.8}. Best is trial 5 with value: 0.2546949532329195.\n",
      "feature_fraction, val_score: 0.254695: 100%|#############################################| 7/7 [00:31<00:00,  4.45s/it]\n"
     ]
    },
    {
     "name": "stdout",
     "output_type": "stream",
     "text": [
      "[300]\tcv_agg's l2: 0.256873 + 0.0532634\n",
      "Early stopping, best iteration is:\n",
      "[200]\tcv_agg's l2: 0.254695 + 0.0534193\n"
     ]
    },
    {
     "name": "stderr",
     "output_type": "stream",
     "text": [
      "num_leaves, val_score: 0.254695:   0%|                                                          | 0/20 [00:00<?, ?it/s]"
     ]
    },
    {
     "name": "stdout",
     "output_type": "stream",
     "text": [
      "[100]\tcv_agg's l2: 0.257798 + 0.0525771\n",
      "[200]\tcv_agg's l2: 0.254695 + 0.0534193\n"
     ]
    },
    {
     "name": "stderr",
     "output_type": "stream",
     "text": [
      "num_leaves, val_score: 0.254695:   5%|##5                                               | 1/20 [00:05<01:44,  5.49s/it][I 2023-11-05 14:00:05,951] Trial 7 finished with value: 0.2546949532329195 and parameters: {'num_leaves': 181}. Best is trial 7 with value: 0.2546949532329195.\n",
      "num_leaves, val_score: 0.254695:   5%|##5                                               | 1/20 [00:05<01:44,  5.49s/it]"
     ]
    },
    {
     "name": "stdout",
     "output_type": "stream",
     "text": [
      "[300]\tcv_agg's l2: 0.256873 + 0.0532634\n",
      "Early stopping, best iteration is:\n",
      "[200]\tcv_agg's l2: 0.254695 + 0.0534193\n",
      "[100]\tcv_agg's l2: 0.257798 + 0.0525771\n",
      "[200]\tcv_agg's l2: 0.254695 + 0.0534193\n"
     ]
    },
    {
     "name": "stderr",
     "output_type": "stream",
     "text": [
      "num_leaves, val_score: 0.254695:  10%|#####                                             | 2/20 [00:10<01:30,  5.02s/it][I 2023-11-05 14:00:10,649] Trial 8 finished with value: 0.2546949532329195 and parameters: {'num_leaves': 77}. Best is trial 7 with value: 0.2546949532329195.\n",
      "num_leaves, val_score: 0.254695:  10%|#####                                             | 2/20 [00:10<01:30,  5.02s/it]"
     ]
    },
    {
     "name": "stdout",
     "output_type": "stream",
     "text": [
      "[300]\tcv_agg's l2: 0.256873 + 0.0532634\n",
      "Early stopping, best iteration is:\n",
      "[200]\tcv_agg's l2: 0.254695 + 0.0534193\n",
      "[100]\tcv_agg's l2: 0.257798 + 0.0525771\n",
      "[200]\tcv_agg's l2: 0.254695 + 0.0534193\n"
     ]
    },
    {
     "name": "stderr",
     "output_type": "stream",
     "text": [
      "num_leaves, val_score: 0.254695:  15%|#######5                                          | 3/20 [00:15<01:24,  4.96s/it][I 2023-11-05 14:00:15,523] Trial 9 finished with value: 0.2546949532329195 and parameters: {'num_leaves': 54}. Best is trial 7 with value: 0.2546949532329195.\n",
      "num_leaves, val_score: 0.254695:  15%|#######5                                          | 3/20 [00:15<01:24,  4.96s/it]"
     ]
    },
    {
     "name": "stdout",
     "output_type": "stream",
     "text": [
      "[300]\tcv_agg's l2: 0.256873 + 0.0532634\n",
      "Early stopping, best iteration is:\n",
      "[200]\tcv_agg's l2: 0.254695 + 0.0534193\n",
      "[100]\tcv_agg's l2: 0.257798 + 0.0525771\n",
      "[200]\tcv_agg's l2: 0.254695 + 0.0534193\n"
     ]
    },
    {
     "name": "stderr",
     "output_type": "stream",
     "text": [
      "num_leaves, val_score: 0.254695:  20%|##########                                        | 4/20 [00:19<01:18,  4.88s/it][I 2023-11-05 14:00:20,282] Trial 10 finished with value: 0.2546949532329195 and parameters: {'num_leaves': 248}. Best is trial 7 with value: 0.2546949532329195.\n",
      "num_leaves, val_score: 0.254695:  20%|##########                                        | 4/20 [00:19<01:18,  4.88s/it]"
     ]
    },
    {
     "name": "stdout",
     "output_type": "stream",
     "text": [
      "[300]\tcv_agg's l2: 0.256873 + 0.0532634\n",
      "Early stopping, best iteration is:\n",
      "[200]\tcv_agg's l2: 0.254695 + 0.0534193\n",
      "[100]\tcv_agg's l2: 0.257798 + 0.0525771\n",
      "[200]\tcv_agg's l2: 0.254695 + 0.0534193\n"
     ]
    },
    {
     "name": "stderr",
     "output_type": "stream",
     "text": [
      "num_leaves, val_score: 0.254695:  25%|############5                                     | 5/20 [00:24<01:12,  4.81s/it][I 2023-11-05 14:00:24,983] Trial 11 finished with value: 0.2546949532329195 and parameters: {'num_leaves': 147}. Best is trial 7 with value: 0.2546949532329195.\n",
      "num_leaves, val_score: 0.254695:  25%|############5                                     | 5/20 [00:24<01:12,  4.81s/it]"
     ]
    },
    {
     "name": "stdout",
     "output_type": "stream",
     "text": [
      "[300]\tcv_agg's l2: 0.256873 + 0.0532634\n",
      "Early stopping, best iteration is:\n",
      "[200]\tcv_agg's l2: 0.254695 + 0.0534193\n",
      "[100]\tcv_agg's l2: 0.256404 + 0.0603632\n",
      "[200]\tcv_agg's l2: 0.24933 + 0.0545713\n",
      "[300]\tcv_agg's l2: 0.249295 + 0.0546668\n"
     ]
    },
    {
     "name": "stderr",
     "output_type": "stream",
     "text": [
      "num_leaves, val_score: 0.248322:  30%|###############                                   | 6/20 [00:27<00:56,  4.07s/it][I 2023-11-05 14:00:27,605] Trial 12 finished with value: 0.2483217346586435 and parameters: {'num_leaves': 11}. Best is trial 12 with value: 0.2483217346586435.\n",
      "num_leaves, val_score: 0.248322:  30%|###############                                   | 6/20 [00:27<00:56,  4.07s/it]"
     ]
    },
    {
     "name": "stdout",
     "output_type": "stream",
     "text": [
      "Early stopping, best iteration is:\n",
      "[256]\tcv_agg's l2: 0.248322 + 0.0543039\n",
      "[100]\tcv_agg's l2: 0.251232 + 0.0598225\n",
      "[200]\tcv_agg's l2: 0.251149 + 0.0576456\n",
      "[300]\tcv_agg's l2: 0.253563 + 0.0567655\n"
     ]
    },
    {
     "name": "stderr",
     "output_type": "stream",
     "text": [
      "num_leaves, val_score: 0.248322:  35%|#################5                                | 7/20 [00:30<00:51,  3.94s/it][I 2023-11-05 14:00:31,292] Trial 13 finished with value: 0.2527976371425913 and parameters: {'num_leaves': 17}. Best is trial 12 with value: 0.2483217346586435.\n",
      "num_leaves, val_score: 0.248322:  35%|#################5                                | 7/20 [00:30<00:51,  3.94s/it]"
     ]
    },
    {
     "name": "stdout",
     "output_type": "stream",
     "text": [
      "Early stopping, best iteration is:\n",
      "[256]\tcv_agg's l2: 0.248322 + 0.0543039\n",
      "[100]\tcv_agg's l2: 0.252441 + 0.0599512\n",
      "[200]\tcv_agg's l2: 0.242832 + 0.0555712\n",
      "[300]\tcv_agg's l2: 0.241099 + 0.0553092\n"
     ]
    },
    {
     "name": "stderr",
     "output_type": "stream",
     "text": [
      "num_leaves, val_score: 0.240659:  40%|####################                              | 8/20 [00:33<00:41,  3.44s/it][I 2023-11-05 14:00:33,664] Trial 14 finished with value: 0.2406587478541425 and parameters: {'num_leaves': 9}. Best is trial 14 with value: 0.2406587478541425.\n",
      "num_leaves, val_score: 0.240659:  40%|####################                              | 8/20 [00:33<00:41,  3.44s/it]"
     ]
    },
    {
     "name": "stdout",
     "output_type": "stream",
     "text": [
      "Early stopping, best iteration is:\n",
      "[285]\tcv_agg's l2: 0.240659 + 0.0548114\n",
      "[100]\tcv_agg's l2: 0.301246 + 0.0681613\n",
      "[200]\tcv_agg's l2: 0.268404 + 0.061889\n",
      "[300]\tcv_agg's l2: 0.261609 + 0.0585981\n"
     ]
    },
    {
     "name": "stderr",
     "output_type": "stream",
     "text": [
      "num_leaves, val_score: 0.240659:  45%|######################5                           | 9/20 [00:34<00:29,  2.72s/it][I 2023-11-05 14:00:34,782] Trial 15 finished with value: 0.26225509317561446 and parameters: {'num_leaves': 3}. Best is trial 14 with value: 0.2406587478541425.\n",
      "num_leaves, val_score: 0.240659:  45%|######################5                           | 9/20 [00:34<00:29,  2.72s/it]"
     ]
    },
    {
     "name": "stdout",
     "output_type": "stream",
     "text": [
      "Early stopping, best iteration is:\n",
      "[285]\tcv_agg's l2: 0.240659 + 0.0548114\n",
      "[100]\tcv_agg's l2: 0.257798 + 0.0525771\n",
      "[200]\tcv_agg's l2: 0.254695 + 0.0534193\n",
      "[300]\tcv_agg's l2: 0.256873 + 0.0532634\n"
     ]
    },
    {
     "name": "stderr",
     "output_type": "stream",
     "text": [
      "num_leaves, val_score: 0.240659:  50%|########################5                        | 10/20 [00:41<00:41,  4.18s/it][I 2023-11-05 14:00:42,226] Trial 16 finished with value: 0.2567737178587734 and parameters: {'num_leaves': 78}. Best is trial 14 with value: 0.2406587478541425.\n",
      "num_leaves, val_score: 0.240659:  50%|########################5                        | 10/20 [00:41<00:41,  4.18s/it]"
     ]
    },
    {
     "name": "stdout",
     "output_type": "stream",
     "text": [
      "Early stopping, best iteration is:\n",
      "[285]\tcv_agg's l2: 0.240659 + 0.0548114\n",
      "[100]\tcv_agg's l2: 0.257798 + 0.0525771\n",
      "[200]\tcv_agg's l2: 0.254695 + 0.0534193\n",
      "[300]\tcv_agg's l2: 0.256873 + 0.0532634\n"
     ]
    },
    {
     "name": "stderr",
     "output_type": "stream",
     "text": [
      "num_leaves, val_score: 0.240659:  55%|##########################9                      | 11/20 [00:47<00:42,  4.74s/it][I 2023-11-05 14:00:48,232] Trial 17 finished with value: 0.2567737178587734 and parameters: {'num_leaves': 45}. Best is trial 14 with value: 0.2406587478541425.\n",
      "num_leaves, val_score: 0.240659:  55%|##########################9                      | 11/20 [00:47<00:42,  4.74s/it]"
     ]
    },
    {
     "name": "stdout",
     "output_type": "stream",
     "text": [
      "Early stopping, best iteration is:\n",
      "[285]\tcv_agg's l2: 0.240659 + 0.0548114\n",
      "[100]\tcv_agg's l2: 0.257798 + 0.0525771\n",
      "[200]\tcv_agg's l2: 0.254695 + 0.0534193\n",
      "[300]\tcv_agg's l2: 0.256873 + 0.0532634\n"
     ]
    },
    {
     "name": "stderr",
     "output_type": "stream",
     "text": [
      "num_leaves, val_score: 0.240659:  60%|#############################4                   | 12/20 [00:54<00:43,  5.45s/it][I 2023-11-05 14:00:55,304] Trial 18 finished with value: 0.2567737178587734 and parameters: {'num_leaves': 114}. Best is trial 14 with value: 0.2406587478541425.\n",
      "num_leaves, val_score: 0.240659:  60%|#############################4                   | 12/20 [00:54<00:43,  5.45s/it]"
     ]
    },
    {
     "name": "stdout",
     "output_type": "stream",
     "text": [
      "Early stopping, best iteration is:\n",
      "[285]\tcv_agg's l2: 0.240659 + 0.0548114\n",
      "[100]\tcv_agg's l2: 0.387878 + 0.0762642\n",
      "[200]\tcv_agg's l2: 0.31863 + 0.0675435\n",
      "[300]\tcv_agg's l2: 0.299792 + 0.0653603\n"
     ]
    },
    {
     "name": "stderr",
     "output_type": "stream",
     "text": [
      "num_leaves, val_score: 0.240659:  65%|###############################8                 | 13/20 [00:55<00:28,  4.07s/it][I 2023-11-05 14:00:56,209] Trial 19 finished with value: 0.30149958956746137 and parameters: {'num_leaves': 2}. Best is trial 14 with value: 0.2406587478541425.\n",
      "num_leaves, val_score: 0.240659:  65%|###############################8                 | 13/20 [00:55<00:28,  4.07s/it]"
     ]
    },
    {
     "name": "stdout",
     "output_type": "stream",
     "text": [
      "Early stopping, best iteration is:\n",
      "[285]\tcv_agg's l2: 0.240659 + 0.0548114\n",
      "[100]\tcv_agg's l2: 0.257798 + 0.0525771\n",
      "[200]\tcv_agg's l2: 0.254695 + 0.0534193\n",
      "[300]\tcv_agg's l2: 0.256873 + 0.0532634\n"
     ]
    },
    {
     "name": "stderr",
     "output_type": "stream",
     "text": [
      "num_leaves, val_score: 0.240659:  70%|##################################3              | 14/20 [01:02<00:28,  4.79s/it][I 2023-11-05 14:01:02,675] Trial 20 finished with value: 0.2567737178587734 and parameters: {'num_leaves': 113}. Best is trial 14 with value: 0.2406587478541425.\n",
      "num_leaves, val_score: 0.240659:  70%|##################################3              | 14/20 [01:02<00:28,  4.79s/it]"
     ]
    },
    {
     "name": "stdout",
     "output_type": "stream",
     "text": [
      "Early stopping, best iteration is:\n",
      "[285]\tcv_agg's l2: 0.240659 + 0.0548114\n",
      "[100]\tcv_agg's l2: 0.257798 + 0.0525771\n",
      "[200]\tcv_agg's l2: 0.254695 + 0.0534193\n",
      "[300]\tcv_agg's l2: 0.256873 + 0.0532634\n"
     ]
    },
    {
     "name": "stderr",
     "output_type": "stream",
     "text": [
      "num_leaves, val_score: 0.240659:  75%|####################################7            | 15/20 [01:12<00:32,  6.45s/it][I 2023-11-05 14:01:12,964] Trial 21 finished with value: 0.2567737178587734 and parameters: {'num_leaves': 33}. Best is trial 14 with value: 0.2406587478541425.\n",
      "num_leaves, val_score: 0.240659:  75%|####################################7            | 15/20 [01:12<00:32,  6.45s/it]"
     ]
    },
    {
     "name": "stdout",
     "output_type": "stream",
     "text": [
      "Early stopping, best iteration is:\n",
      "[285]\tcv_agg's l2: 0.240659 + 0.0548114\n",
      "[100]\tcv_agg's l2: 0.259599 + 0.0583301\n",
      "[200]\tcv_agg's l2: 0.259543 + 0.0576814\n",
      "[300]\tcv_agg's l2: 0.261979 + 0.0570858\n"
     ]
    },
    {
     "name": "stderr",
     "output_type": "stream",
     "text": [
      "num_leaves, val_score: 0.240659:  80%|#######################################2         | 16/20 [01:20<00:27,  6.87s/it][I 2023-11-05 14:01:20,807] Trial 22 finished with value: 0.26178039951379967 and parameters: {'num_leaves': 23}. Best is trial 14 with value: 0.2406587478541425.\n",
      "num_leaves, val_score: 0.240659:  80%|#######################################2         | 16/20 [01:20<00:27,  6.87s/it]"
     ]
    },
    {
     "name": "stdout",
     "output_type": "stream",
     "text": [
      "Early stopping, best iteration is:\n",
      "[285]\tcv_agg's l2: 0.240659 + 0.0548114\n",
      "[100]\tcv_agg's l2: 0.257798 + 0.0525771\n",
      "[200]\tcv_agg's l2: 0.254695 + 0.0534193\n",
      "[300]\tcv_agg's l2: 0.256873 + 0.0532634\n"
     ]
    },
    {
     "name": "stderr",
     "output_type": "stream",
     "text": [
      "num_leaves, val_score: 0.240659:  85%|#########################################6       | 17/20 [01:25<00:19,  6.45s/it][I 2023-11-05 14:01:26,276] Trial 23 finished with value: 0.2567737178587734 and parameters: {'num_leaves': 68}. Best is trial 14 with value: 0.2406587478541425.\n",
      "num_leaves, val_score: 0.240659:  85%|#########################################6       | 17/20 [01:25<00:19,  6.45s/it]"
     ]
    },
    {
     "name": "stdout",
     "output_type": "stream",
     "text": [
      "Early stopping, best iteration is:\n",
      "[285]\tcv_agg's l2: 0.240659 + 0.0548114\n",
      "[100]\tcv_agg's l2: 0.255662 + 0.0541371\n",
      "[200]\tcv_agg's l2: 0.2564 + 0.0531884\n",
      "[300]\tcv_agg's l2: 0.257761 + 0.0529348\n"
     ]
    },
    {
     "name": "stderr",
     "output_type": "stream",
     "text": [
      "num_leaves, val_score: 0.240659:  90%|############################################1    | 18/20 [01:30<00:12,  6.05s/it][I 2023-11-05 14:01:31,383] Trial 24 finished with value: 0.2583468146900918 and parameters: {'num_leaves': 25}. Best is trial 14 with value: 0.2406587478541425.\n",
      "num_leaves, val_score: 0.240659:  90%|############################################1    | 18/20 [01:30<00:12,  6.05s/it]"
     ]
    },
    {
     "name": "stdout",
     "output_type": "stream",
     "text": [
      "Early stopping, best iteration is:\n",
      "[285]\tcv_agg's l2: 0.240659 + 0.0548114\n",
      "[100]\tcv_agg's l2: 0.266218 + 0.0600404\n",
      "[200]\tcv_agg's l2: 0.249943 + 0.0591481\n",
      "[300]\tcv_agg's l2: 0.244124 + 0.0600947\n"
     ]
    },
    {
     "name": "stderr",
     "output_type": "stream",
     "text": [
      "num_leaves, val_score: 0.240659:  95%|##############################################5  | 19/20 [01:32<00:04,  4.63s/it][I 2023-11-05 14:01:32,704] Trial 25 finished with value: 0.24464084004677966 and parameters: {'num_leaves': 5}. Best is trial 14 with value: 0.2406587478541425.\n",
      "num_leaves, val_score: 0.240659:  95%|##############################################5  | 19/20 [01:32<00:04,  4.63s/it]"
     ]
    },
    {
     "name": "stdout",
     "output_type": "stream",
     "text": [
      "Early stopping, best iteration is:\n",
      "[285]\tcv_agg's l2: 0.240659 + 0.0548114\n",
      "[100]\tcv_agg's l2: 0.257798 + 0.0525771\n",
      "[200]\tcv_agg's l2: 0.254695 + 0.0534193\n",
      "[300]\tcv_agg's l2: 0.256873 + 0.0532634\n"
     ]
    },
    {
     "name": "stderr",
     "output_type": "stream",
     "text": [
      "num_leaves, val_score: 0.240659: 100%|#################################################| 20/20 [01:36<00:00,  4.66s/it][I 2023-11-05 14:01:37,435] Trial 26 finished with value: 0.2567737178587734 and parameters: {'num_leaves': 48}. Best is trial 14 with value: 0.2406587478541425.\n",
      "num_leaves, val_score: 0.240659: 100%|#################################################| 20/20 [01:36<00:00,  4.85s/it]\n"
     ]
    },
    {
     "name": "stdout",
     "output_type": "stream",
     "text": [
      "Early stopping, best iteration is:\n",
      "[285]\tcv_agg's l2: 0.240659 + 0.0548114\n"
     ]
    },
    {
     "name": "stderr",
     "output_type": "stream",
     "text": [
      "bagging, val_score: 0.240659:   0%|                                                             | 0/10 [00:00<?, ?it/s]"
     ]
    },
    {
     "name": "stdout",
     "output_type": "stream",
     "text": [
      "[100]\tcv_agg's l2: 0.260484 + 0.058993\n",
      "[200]\tcv_agg's l2: 0.250189 + 0.0539878\n",
      "[300]\tcv_agg's l2: 0.250177 + 0.0527649\n"
     ]
    },
    {
     "name": "stderr",
     "output_type": "stream",
     "text": [
      "bagging, val_score: 0.240659:  10%|#####3                                               | 1/10 [00:02<00:22,  2.47s/it][I 2023-11-05 14:01:39,908] Trial 27 finished with value: 0.2497398953553076 and parameters: {'bagging_fraction': 0.918942018912384, 'bagging_freq': 1}. Best is trial 27 with value: 0.2497398953553076.\n",
      "bagging, val_score: 0.240659:  10%|#####3                                               | 1/10 [00:02<00:22,  2.47s/it]"
     ]
    },
    {
     "name": "stdout",
     "output_type": "stream",
     "text": [
      "Early stopping, best iteration is:\n",
      "[285]\tcv_agg's l2: 0.240659 + 0.0548114\n",
      "[100]\tcv_agg's l2: 0.341179 + 0.0538735\n",
      "[200]\tcv_agg's l2: 0.314967 + 0.0545168\n",
      "[300]\tcv_agg's l2: 0.317766 + 0.0523064\n"
     ]
    },
    {
     "name": "stderr",
     "output_type": "stream",
     "text": [
      "bagging, val_score: 0.240659:  20%|##########6                                          | 2/10 [00:04<00:18,  2.35s/it][I 2023-11-05 14:01:42,179] Trial 28 finished with value: 0.31897125173949537 and parameters: {'bagging_fraction': 0.42987255815642406, 'bagging_freq': 7}. Best is trial 27 with value: 0.2497398953553076.\n",
      "bagging, val_score: 0.240659:  20%|##########6                                          | 2/10 [00:04<00:18,  2.35s/it]"
     ]
    },
    {
     "name": "stdout",
     "output_type": "stream",
     "text": [
      "Early stopping, best iteration is:\n",
      "[285]\tcv_agg's l2: 0.240659 + 0.0548114\n",
      "[100]\tcv_agg's l2: 0.255845 + 0.0615798\n",
      "[200]\tcv_agg's l2: 0.243871 + 0.0575946\n",
      "[300]\tcv_agg's l2: 0.240899 + 0.0533974\n"
     ]
    },
    {
     "name": "stderr",
     "output_type": "stream",
     "text": [
      "bagging, val_score: 0.240659:  30%|###############9                                     | 3/10 [00:07<00:16,  2.32s/it][I 2023-11-05 14:01:44,469] Trial 29 finished with value: 0.24156149000159338 and parameters: {'bagging_fraction': 0.9935210447011108, 'bagging_freq': 4}. Best is trial 29 with value: 0.24156149000159338.\n",
      "bagging, val_score: 0.240659:  30%|###############9                                     | 3/10 [00:07<00:16,  2.32s/it]"
     ]
    },
    {
     "name": "stdout",
     "output_type": "stream",
     "text": [
      "Early stopping, best iteration is:\n",
      "[285]\tcv_agg's l2: 0.240659 + 0.0548114\n",
      "[100]\tcv_agg's l2: 0.266713 + 0.0701716\n",
      "[200]\tcv_agg's l2: 0.254941 + 0.067413\n",
      "[300]\tcv_agg's l2: 0.250161 + 0.0614398\n"
     ]
    },
    {
     "name": "stderr",
     "output_type": "stream",
     "text": [
      "bagging, val_score: 0.240659:  40%|#####################2                               | 4/10 [00:09<00:13,  2.30s/it][I 2023-11-05 14:01:46,724] Trial 30 finished with value: 0.2515933761819654 and parameters: {'bagging_fraction': 0.977202234257992, 'bagging_freq': 4}. Best is trial 29 with value: 0.24156149000159338.\n",
      "bagging, val_score: 0.240659:  40%|#####################2                               | 4/10 [00:09<00:13,  2.30s/it]"
     ]
    },
    {
     "name": "stdout",
     "output_type": "stream",
     "text": [
      "Early stopping, best iteration is:\n",
      "[285]\tcv_agg's l2: 0.240659 + 0.0548114\n",
      "[100]\tcv_agg's l2: 0.260794 + 0.0618416\n",
      "[200]\tcv_agg's l2: 0.256723 + 0.0581071\n",
      "[300]\tcv_agg's l2: 0.255884 + 0.0554892\n"
     ]
    },
    {
     "name": "stderr",
     "output_type": "stream",
     "text": [
      "bagging, val_score: 0.240659:  50%|##########################5                          | 5/10 [00:11<00:11,  2.25s/it][I 2023-11-05 14:01:48,896] Trial 31 finished with value: 0.2553451582020648 and parameters: {'bagging_fraction': 0.7514524144328545, 'bagging_freq': 4}. Best is trial 29 with value: 0.24156149000159338.\n",
      "bagging, val_score: 0.240659:  50%|##########################5                          | 5/10 [00:11<00:11,  2.25s/it]"
     ]
    },
    {
     "name": "stdout",
     "output_type": "stream",
     "text": [
      "Early stopping, best iteration is:\n",
      "[285]\tcv_agg's l2: 0.240659 + 0.0548114\n",
      "[100]\tcv_agg's l2: 0.25499 + 0.0579939\n",
      "[200]\tcv_agg's l2: 0.244875 + 0.0540426\n",
      "[300]\tcv_agg's l2: 0.243742 + 0.0509696\n"
     ]
    },
    {
     "name": "stderr",
     "output_type": "stream",
     "text": [
      "bagging, val_score: 0.240659:  60%|###############################8                     | 6/10 [00:13<00:08,  2.22s/it][I 2023-11-05 14:01:51,053] Trial 32 finished with value: 0.24356251740181678 and parameters: {'bagging_fraction': 0.9982851278445749, 'bagging_freq': 2}. Best is trial 29 with value: 0.24156149000159338.\n",
      "bagging, val_score: 0.240659:  60%|###############################8                     | 6/10 [00:13<00:08,  2.22s/it]"
     ]
    },
    {
     "name": "stdout",
     "output_type": "stream",
     "text": [
      "Early stopping, best iteration is:\n",
      "[285]\tcv_agg's l2: 0.240659 + 0.0548114\n",
      "[100]\tcv_agg's l2: 0.257025 + 0.0557063\n",
      "[200]\tcv_agg's l2: 0.243929 + 0.0539442\n",
      "[300]\tcv_agg's l2: 0.242884 + 0.050697\n"
     ]
    },
    {
     "name": "stderr",
     "output_type": "stream",
     "text": [
      "bagging, val_score: 0.240659:  70%|#####################################                | 7/10 [00:15<00:06,  2.20s/it][I 2023-11-05 14:01:53,218] Trial 33 finished with value: 0.24296483143144107 and parameters: {'bagging_fraction': 0.9943548051791722, 'bagging_freq': 1}. Best is trial 29 with value: 0.24156149000159338.\n",
      "bagging, val_score: 0.240659:  70%|#####################################                | 7/10 [00:15<00:06,  2.20s/it]"
     ]
    },
    {
     "name": "stdout",
     "output_type": "stream",
     "text": [
      "Early stopping, best iteration is:\n",
      "[285]\tcv_agg's l2: 0.240659 + 0.0548114\n",
      "[100]\tcv_agg's l2: 0.252441 + 0.0599512\n",
      "[200]\tcv_agg's l2: 0.242832 + 0.0555712\n",
      "[300]\tcv_agg's l2: 0.241099 + 0.0553092\n"
     ]
    },
    {
     "name": "stderr",
     "output_type": "stream",
     "text": [
      "bagging, val_score: 0.240659:  80%|##########################################4          | 8/10 [00:17<00:04,  2.18s/it][I 2023-11-05 14:01:55,339] Trial 34 finished with value: 0.2406587478541425 and parameters: {'bagging_fraction': 0.9997379839316212, 'bagging_freq': 1}. Best is trial 34 with value: 0.2406587478541425.\n",
      "bagging, val_score: 0.240659:  80%|##########################################4          | 8/10 [00:17<00:04,  2.18s/it]"
     ]
    },
    {
     "name": "stdout",
     "output_type": "stream",
     "text": [
      "Early stopping, best iteration is:\n",
      "[285]\tcv_agg's l2: 0.240659 + 0.0548114\n",
      "[100]\tcv_agg's l2: 0.272943 + 0.0694164\n",
      "[200]\tcv_agg's l2: 0.26296 + 0.065772\n",
      "[300]\tcv_agg's l2: 0.260697 + 0.0658231\n"
     ]
    },
    {
     "name": "stderr",
     "output_type": "stream",
     "text": [
      "bagging, val_score: 0.240659:  90%|###############################################7     | 9/10 [00:20<00:02,  2.26s/it][I 2023-11-05 14:01:57,776] Trial 35 finished with value: 0.2614735454263279 and parameters: {'bagging_fraction': 0.9749678250583368, 'bagging_freq': 1}. Best is trial 34 with value: 0.2406587478541425.\n",
      "bagging, val_score: 0.240659:  90%|###############################################7     | 9/10 [00:20<00:02,  2.26s/it]"
     ]
    },
    {
     "name": "stdout",
     "output_type": "stream",
     "text": [
      "Early stopping, best iteration is:\n",
      "[285]\tcv_agg's l2: 0.240659 + 0.0548114\n",
      "[100]\tcv_agg's l2: 0.260765 + 0.0672696\n",
      "[200]\tcv_agg's l2: 0.250656 + 0.0578522\n",
      "[300]\tcv_agg's l2: 0.251254 + 0.0559774\n"
     ]
    },
    {
     "name": "stderr",
     "output_type": "stream",
     "text": [
      "bagging, val_score: 0.240659: 100%|####################################################| 10/10 [00:22<00:00,  2.27s/it][I 2023-11-05 14:02:00,077] Trial 36 finished with value: 0.2508621240433696 and parameters: {'bagging_fraction': 0.854514741112066, 'bagging_freq': 2}. Best is trial 34 with value: 0.2406587478541425.\n",
      "bagging, val_score: 0.240659: 100%|####################################################| 10/10 [00:22<00:00,  2.26s/it]\n"
     ]
    },
    {
     "name": "stdout",
     "output_type": "stream",
     "text": [
      "Early stopping, best iteration is:\n",
      "[285]\tcv_agg's l2: 0.240659 + 0.0548114\n"
     ]
    },
    {
     "name": "stderr",
     "output_type": "stream",
     "text": [
      "feature_fraction_stage2, val_score: 0.240659:   0%|                                              | 0/6 [00:00<?, ?it/s]"
     ]
    },
    {
     "name": "stdout",
     "output_type": "stream",
     "text": [
      "[100]\tcv_agg's l2: 0.252441 + 0.0599512\n",
      "[200]\tcv_agg's l2: 0.242832 + 0.0555712\n",
      "[300]\tcv_agg's l2: 0.241099 + 0.0553092\n"
     ]
    },
    {
     "name": "stderr",
     "output_type": "stream",
     "text": [
      "feature_fraction_stage2, val_score: 0.240659:  17%|######3                               | 1/6 [00:02<00:11,  2.23s/it][I 2023-11-05 14:02:02,319] Trial 37 finished with value: 0.2406587478541425 and parameters: {'feature_fraction': 0.748}. Best is trial 37 with value: 0.2406587478541425.\n",
      "feature_fraction_stage2, val_score: 0.240659:  17%|######3                               | 1/6 [00:02<00:11,  2.23s/it]"
     ]
    },
    {
     "name": "stdout",
     "output_type": "stream",
     "text": [
      "Early stopping, best iteration is:\n",
      "[285]\tcv_agg's l2: 0.240659 + 0.0548114\n",
      "[100]\tcv_agg's l2: 0.258943 + 0.047869\n",
      "[200]\tcv_agg's l2: 0.247533 + 0.044579\n",
      "[300]\tcv_agg's l2: 0.246317 + 0.0448788\n"
     ]
    },
    {
     "name": "stderr",
     "output_type": "stream",
     "text": [
      "feature_fraction_stage2, val_score: 0.240659:  33%|############6                         | 2/6 [00:04<00:09,  2.26s/it][I 2023-11-05 14:02:04,595] Trial 38 finished with value: 0.24607276366842545 and parameters: {'feature_fraction': 0.6839999999999999}. Best is trial 37 with value: 0.2406587478541425.\n",
      "feature_fraction_stage2, val_score: 0.240659:  33%|############6                         | 2/6 [00:04<00:09,  2.26s/it]"
     ]
    },
    {
     "name": "stdout",
     "output_type": "stream",
     "text": [
      "Early stopping, best iteration is:\n",
      "[285]\tcv_agg's l2: 0.240659 + 0.0548114\n",
      "[100]\tcv_agg's l2: 0.258943 + 0.047869\n",
      "[200]\tcv_agg's l2: 0.247533 + 0.044579\n",
      "[300]\tcv_agg's l2: 0.246317 + 0.0448788\n"
     ]
    },
    {
     "name": "stderr",
     "output_type": "stream",
     "text": [
      "feature_fraction_stage2, val_score: 0.240659:  50%|###################                   | 3/6 [00:06<00:07,  2.33s/it][I 2023-11-05 14:02:07,020] Trial 39 finished with value: 0.24607276366842545 and parameters: {'feature_fraction': 0.652}. Best is trial 37 with value: 0.2406587478541425.\n",
      "feature_fraction_stage2, val_score: 0.240659:  50%|###################                   | 3/6 [00:06<00:07,  2.33s/it]"
     ]
    },
    {
     "name": "stdout",
     "output_type": "stream",
     "text": [
      "Early stopping, best iteration is:\n",
      "[285]\tcv_agg's l2: 0.240659 + 0.0548114\n",
      "[100]\tcv_agg's l2: 0.252441 + 0.0599512\n",
      "[200]\tcv_agg's l2: 0.242832 + 0.0555712\n",
      "[300]\tcv_agg's l2: 0.241099 + 0.0553092\n"
     ]
    },
    {
     "name": "stderr",
     "output_type": "stream",
     "text": [
      "feature_fraction_stage2, val_score: 0.240659:  67%|#########################3            | 4/6 [00:09<00:04,  2.24s/it][I 2023-11-05 14:02:09,125] Trial 40 finished with value: 0.2406587478541425 and parameters: {'feature_fraction': 0.716}. Best is trial 37 with value: 0.2406587478541425.\n",
      "feature_fraction_stage2, val_score: 0.240659:  67%|#########################3            | 4/6 [00:09<00:04,  2.24s/it]"
     ]
    },
    {
     "name": "stdout",
     "output_type": "stream",
     "text": [
      "Early stopping, best iteration is:\n",
      "[285]\tcv_agg's l2: 0.240659 + 0.0548114\n",
      "[100]\tcv_agg's l2: 0.258943 + 0.047869\n",
      "[200]\tcv_agg's l2: 0.247533 + 0.044579\n",
      "[300]\tcv_agg's l2: 0.246317 + 0.0448788\n"
     ]
    },
    {
     "name": "stderr",
     "output_type": "stream",
     "text": [
      "feature_fraction_stage2, val_score: 0.240659:  83%|###############################6      | 5/6 [00:11<00:02,  2.48s/it][I 2023-11-05 14:02:12,034] Trial 41 finished with value: 0.24607276366842545 and parameters: {'feature_fraction': 0.62}. Best is trial 37 with value: 0.2406587478541425.\n",
      "feature_fraction_stage2, val_score: 0.240659:  83%|###############################6      | 5/6 [00:11<00:02,  2.48s/it]"
     ]
    },
    {
     "name": "stdout",
     "output_type": "stream",
     "text": [
      "Early stopping, best iteration is:\n",
      "[285]\tcv_agg's l2: 0.240659 + 0.0548114\n",
      "[100]\tcv_agg's l2: 0.252441 + 0.0599512\n",
      "[200]\tcv_agg's l2: 0.242832 + 0.0555712\n",
      "[300]\tcv_agg's l2: 0.241099 + 0.0553092\n"
     ]
    },
    {
     "name": "stderr",
     "output_type": "stream",
     "text": [
      "feature_fraction_stage2, val_score: 0.240659: 100%|######################################| 6/6 [00:15<00:00,  2.81s/it][I 2023-11-05 14:02:15,481] Trial 42 finished with value: 0.2406587478541425 and parameters: {'feature_fraction': 0.7799999999999999}. Best is trial 37 with value: 0.2406587478541425.\n",
      "feature_fraction_stage2, val_score: 0.240659: 100%|######################################| 6/6 [00:15<00:00,  2.57s/it]\n"
     ]
    },
    {
     "name": "stdout",
     "output_type": "stream",
     "text": [
      "Early stopping, best iteration is:\n",
      "[285]\tcv_agg's l2: 0.240659 + 0.0548114\n"
     ]
    },
    {
     "name": "stderr",
     "output_type": "stream",
     "text": [
      "regularization_factors, val_score: 0.240659:   0%|                                              | 0/20 [00:00<?, ?it/s]"
     ]
    },
    {
     "name": "stdout",
     "output_type": "stream",
     "text": [
      "[100]\tcv_agg's l2: 0.254577 + 0.0578377\n",
      "[200]\tcv_agg's l2: 0.24495 + 0.0539417\n",
      "[300]\tcv_agg's l2: 0.243539 + 0.0540197\n"
     ]
    },
    {
     "name": "stderr",
     "output_type": "stream",
     "text": [
      "regularization_factors, val_score: 0.240659:   5%|#9                                    | 1/20 [00:02<00:43,  2.31s/it][I 2023-11-05 14:02:17,799] Trial 43 finished with value: 0.24327182156398086 and parameters: {'lambda_l1': 2.6520632654464647e-08, 'lambda_l2': 0.031282322345751366}. Best is trial 43 with value: 0.24327182156398086.\n",
      "regularization_factors, val_score: 0.240659:   5%|#9                                    | 1/20 [00:02<00:43,  2.31s/it]"
     ]
    },
    {
     "name": "stdout",
     "output_type": "stream",
     "text": [
      "Early stopping, best iteration is:\n",
      "[285]\tcv_agg's l2: 0.240659 + 0.0548114\n",
      "[100]\tcv_agg's l2: 0.264276 + 0.0581591\n",
      "[200]\tcv_agg's l2: 0.255001 + 0.0578041\n",
      "[300]\tcv_agg's l2: 0.251875 + 0.0581287\n"
     ]
    },
    {
     "name": "stderr",
     "output_type": "stream",
     "text": [
      "regularization_factors, val_score: 0.240659:  10%|###8                                  | 2/20 [00:04<00:38,  2.17s/it][I 2023-11-05 14:02:19,863] Trial 44 finished with value: 0.25225241453860703 and parameters: {'lambda_l1': 1.5683739793562996, 'lambda_l2': 4.6253806845381494e-08}. Best is trial 43 with value: 0.24327182156398086.\n",
      "regularization_factors, val_score: 0.240659:  10%|###8                                  | 2/20 [00:04<00:38,  2.17s/it]"
     ]
    },
    {
     "name": "stdout",
     "output_type": "stream",
     "text": [
      "Early stopping, best iteration is:\n",
      "[285]\tcv_agg's l2: 0.240659 + 0.0548114\n",
      "[100]\tcv_agg's l2: 0.258255 + 0.0609735\n",
      "[200]\tcv_agg's l2: 0.246255 + 0.0564683\n",
      "[300]\tcv_agg's l2: 0.244996 + 0.0556435\n"
     ]
    },
    {
     "name": "stderr",
     "output_type": "stream",
     "text": [
      "regularization_factors, val_score: 0.240659:  15%|#####7                                | 3/20 [00:06<00:38,  2.24s/it][I 2023-11-05 14:02:22,198] Trial 45 finished with value: 0.24491201521829997 and parameters: {'lambda_l1': 0.0001350991045524237, 'lambda_l2': 1.0783404462410509}. Best is trial 43 with value: 0.24327182156398086.\n",
      "regularization_factors, val_score: 0.240659:  15%|#####7                                | 3/20 [00:06<00:38,  2.24s/it]"
     ]
    },
    {
     "name": "stdout",
     "output_type": "stream",
     "text": [
      "Early stopping, best iteration is:\n",
      "[285]\tcv_agg's l2: 0.240659 + 0.0548114\n",
      "[100]\tcv_agg's l2: 0.294555 + 0.0653196\n",
      "[200]\tcv_agg's l2: 0.290831 + 0.0654547\n",
      "[300]\tcv_agg's l2: 0.290831 + 0.0654545\n"
     ]
    },
    {
     "name": "stderr",
     "output_type": "stream",
     "text": [
      "regularization_factors, val_score: 0.240659:  20%|#######6                              | 4/20 [00:07<00:28,  1.79s/it][I 2023-11-05 14:02:23,290] Trial 46 finished with value: 0.2908314679934082 and parameters: {'lambda_l1': 7.877931159260605, 'lambda_l2': 1.3973760170432835e-05}. Best is trial 43 with value: 0.24327182156398086.\n",
      "regularization_factors, val_score: 0.240659:  20%|#######6                              | 4/20 [00:07<00:28,  1.79s/it]"
     ]
    },
    {
     "name": "stdout",
     "output_type": "stream",
     "text": [
      "Early stopping, best iteration is:\n",
      "[285]\tcv_agg's l2: 0.240659 + 0.0548114\n",
      "[100]\tcv_agg's l2: 0.252441 + 0.0599512\n",
      "[200]\tcv_agg's l2: 0.242832 + 0.0555711\n",
      "[300]\tcv_agg's l2: 0.241099 + 0.0553092\n"
     ]
    },
    {
     "name": "stderr",
     "output_type": "stream",
     "text": [
      "regularization_factors, val_score: 0.240659:  25%|#########5                            | 5/20 [00:10<00:32,  2.14s/it][I 2023-11-05 14:02:26,066] Trial 47 finished with value: 0.2406585455502937 and parameters: {'lambda_l1': 2.2969139339491953e-08, 'lambda_l2': 0.0005399630782227979}. Best is trial 47 with value: 0.2406585455502937.\n",
      "regularization_factors, val_score: 0.240659:  25%|#########5                            | 5/20 [00:10<00:32,  2.14s/it]"
     ]
    },
    {
     "name": "stdout",
     "output_type": "stream",
     "text": [
      "Early stopping, best iteration is:\n",
      "[285]\tcv_agg's l2: 0.240659 + 0.0548113\n",
      "[100]\tcv_agg's l2: 0.252441 + 0.0599512\n",
      "[200]\tcv_agg's l2: 0.242832 + 0.0555711\n",
      "[300]\tcv_agg's l2: 0.241099 + 0.0553092\n"
     ]
    },
    {
     "name": "stderr",
     "output_type": "stream",
     "text": [
      "regularization_factors, val_score: 0.240659:  30%|###########4                          | 6/20 [00:12<00:30,  2.18s/it][I 2023-11-05 14:02:28,304] Trial 48 finished with value: 0.24065859782442128 and parameters: {'lambda_l1': 1.0555199735781742e-08, 'lambda_l2': 0.0004000762767657143}. Best is trial 47 with value: 0.2406585455502937.\n",
      "regularization_factors, val_score: 0.240659:  30%|###########4                          | 6/20 [00:12<00:30,  2.18s/it]"
     ]
    },
    {
     "name": "stdout",
     "output_type": "stream",
     "text": [
      "Early stopping, best iteration is:\n",
      "[285]\tcv_agg's l2: 0.240659 + 0.0548113\n",
      "[100]\tcv_agg's l2: 0.252441 + 0.0599512\n",
      "[200]\tcv_agg's l2: 0.242832 + 0.0555711\n",
      "[300]\tcv_agg's l2: 0.241099 + 0.0553091\n"
     ]
    },
    {
     "name": "stderr",
     "output_type": "stream",
     "text": [
      "regularization_factors, val_score: 0.240659:  35%|#############3                        | 7/20 [00:14<00:27,  2.10s/it][I 2023-11-05 14:02:30,237] Trial 49 finished with value: 0.2406585296638725 and parameters: {'lambda_l1': 1.769157439785023e-08, 'lambda_l2': 0.000582512190409254}. Best is trial 49 with value: 0.2406585296638725.\n",
      "regularization_factors, val_score: 0.240659:  35%|#############3                        | 7/20 [00:14<00:27,  2.10s/it]"
     ]
    },
    {
     "name": "stdout",
     "output_type": "stream",
     "text": [
      "Early stopping, best iteration is:\n",
      "[285]\tcv_agg's l2: 0.240659 + 0.0548113\n",
      "[100]\tcv_agg's l2: 0.252441 + 0.0599512\n",
      "[200]\tcv_agg's l2: 0.242832 + 0.0555711\n",
      "[300]\tcv_agg's l2: 0.241099 + 0.0553092\n"
     ]
    },
    {
     "name": "stderr",
     "output_type": "stream",
     "text": [
      "regularization_factors, val_score: 0.240659:  40%|###############2                      | 8/20 [00:16<00:25,  2.13s/it][I 2023-11-05 14:02:32,448] Trial 50 finished with value: 0.2406585823173521 and parameters: {'lambda_l1': 1.0716312566643963e-08, 'lambda_l2': 0.00044168590077346893}. Best is trial 49 with value: 0.2406585296638725.\n",
      "regularization_factors, val_score: 0.240659:  40%|###############2                      | 8/20 [00:16<00:25,  2.13s/it]"
     ]
    },
    {
     "name": "stdout",
     "output_type": "stream",
     "text": [
      "Early stopping, best iteration is:\n",
      "[285]\tcv_agg's l2: 0.240659 + 0.0548113\n",
      "[100]\tcv_agg's l2: 0.252441 + 0.0599512\n",
      "[200]\tcv_agg's l2: 0.242832 + 0.0555711\n",
      "[300]\tcv_agg's l2: 0.241099 + 0.0553092\n"
     ]
    },
    {
     "name": "stderr",
     "output_type": "stream",
     "text": [
      "regularization_factors, val_score: 0.240659:  45%|#################1                    | 9/20 [00:19<00:23,  2.12s/it][I 2023-11-05 14:02:34,532] Trial 51 finished with value: 0.24065855417251059 and parameters: {'lambda_l1': 1.054090493913767e-08, 'lambda_l2': 0.000517332512503571}. Best is trial 49 with value: 0.2406585296638725.\n",
      "regularization_factors, val_score: 0.240659:  45%|#################1                    | 9/20 [00:19<00:23,  2.12s/it]"
     ]
    },
    {
     "name": "stdout",
     "output_type": "stream",
     "text": [
      "Early stopping, best iteration is:\n",
      "[285]\tcv_agg's l2: 0.240659 + 0.0548113\n",
      "[100]\tcv_agg's l2: 0.252441 + 0.0599512\n",
      "[200]\tcv_agg's l2: 0.242832 + 0.0555711\n",
      "[300]\tcv_agg's l2: 0.241099 + 0.0553091\n"
     ]
    },
    {
     "name": "stderr",
     "output_type": "stream",
     "text": [
      "regularization_factors, val_score: 0.240659:  50%|##################5                  | 10/20 [00:21<00:20,  2.08s/it][I 2023-11-05 14:02:36,536] Trial 52 finished with value: 0.24065853587369154 and parameters: {'lambda_l1': 1.1179361013258075e-08, 'lambda_l2': 0.0005657704552458643}. Best is trial 49 with value: 0.2406585296638725.\n",
      "regularization_factors, val_score: 0.240659:  50%|##################5                  | 10/20 [00:21<00:20,  2.08s/it]"
     ]
    },
    {
     "name": "stdout",
     "output_type": "stream",
     "text": [
      "Early stopping, best iteration is:\n",
      "[285]\tcv_agg's l2: 0.240659 + 0.0548113\n",
      "[100]\tcv_agg's l2: 0.252441 + 0.0599512\n",
      "[200]\tcv_agg's l2: 0.242832 + 0.0555711\n",
      "[300]\tcv_agg's l2: 0.241099 + 0.0553092\n"
     ]
    },
    {
     "name": "stderr",
     "output_type": "stream",
     "text": [
      "regularization_factors, val_score: 0.240659:  55%|####################3                | 11/20 [00:23<00:18,  2.04s/it][I 2023-11-05 14:02:38,492] Trial 53 finished with value: 0.24065857745470942 and parameters: {'lambda_l1': 1.0788622289330558e-08, 'lambda_l2': 0.0004547446313159433}. Best is trial 49 with value: 0.2406585296638725.\n",
      "regularization_factors, val_score: 0.240659:  55%|####################3                | 11/20 [00:23<00:18,  2.04s/it]"
     ]
    },
    {
     "name": "stdout",
     "output_type": "stream",
     "text": [
      "Early stopping, best iteration is:\n",
      "[285]\tcv_agg's l2: 0.240659 + 0.0548113\n",
      "[100]\tcv_agg's l2: 0.252441 + 0.0599512\n",
      "[200]\tcv_agg's l2: 0.242832 + 0.0555711\n",
      "[300]\tcv_agg's l2: 0.241099 + 0.0553092\n"
     ]
    },
    {
     "name": "stderr",
     "output_type": "stream",
     "text": [
      "regularization_factors, val_score: 0.240659:  60%|######################2              | 12/20 [00:24<00:16,  2.00s/it][I 2023-11-05 14:02:40,394] Trial 54 finished with value: 0.24065857353823442 and parameters: {'lambda_l1': 1.1072648433090172e-08, 'lambda_l2': 0.00046525899595287445}. Best is trial 49 with value: 0.2406585296638725.\n",
      "regularization_factors, val_score: 0.240659:  60%|######################2              | 12/20 [00:24<00:16,  2.00s/it]"
     ]
    },
    {
     "name": "stdout",
     "output_type": "stream",
     "text": [
      "Early stopping, best iteration is:\n",
      "[285]\tcv_agg's l2: 0.240659 + 0.0548113\n",
      "[100]\tcv_agg's l2: 0.252441 + 0.0599512\n",
      "[200]\tcv_agg's l2: 0.242832 + 0.0555711\n",
      "[300]\tcv_agg's l2: 0.241099 + 0.0553092\n"
     ]
    },
    {
     "name": "stderr",
     "output_type": "stream",
     "text": [
      "regularization_factors, val_score: 0.240659:  65%|########################             | 13/20 [00:27<00:14,  2.04s/it][I 2023-11-05 14:02:42,513] Trial 55 finished with value: 0.24065853830072337 and parameters: {'lambda_l1': 1.0800181147158935e-08, 'lambda_l2': 0.0005594586980832193}. Best is trial 49 with value: 0.2406585296638725.\n",
      "regularization_factors, val_score: 0.240659:  65%|########################             | 13/20 [00:27<00:14,  2.04s/it]"
     ]
    },
    {
     "name": "stdout",
     "output_type": "stream",
     "text": [
      "Early stopping, best iteration is:\n",
      "[285]\tcv_agg's l2: 0.240659 + 0.0548113\n",
      "[100]\tcv_agg's l2: 0.252441 + 0.0599511\n",
      "[200]\tcv_agg's l2: 0.242832 + 0.0555711\n",
      "[300]\tcv_agg's l2: 0.241099 + 0.0553091\n"
     ]
    },
    {
     "name": "stderr",
     "output_type": "stream",
     "text": [
      "regularization_factors, val_score: 0.240658:  70%|#########################9           | 14/20 [00:28<00:12,  2.01s/it][I 2023-11-05 14:02:44,478] Trial 56 finished with value: 0.2406584688157813 and parameters: {'lambda_l1': 1.459046492017451e-08, 'lambda_l2': 0.000744979252781632}. Best is trial 56 with value: 0.2406584688157813.\n",
      "regularization_factors, val_score: 0.240658:  70%|#########################9           | 14/20 [00:28<00:12,  2.01s/it]"
     ]
    },
    {
     "name": "stdout",
     "output_type": "stream",
     "text": [
      "Early stopping, best iteration is:\n",
      "[285]\tcv_agg's l2: 0.240658 + 0.0548113\n",
      "[100]\tcv_agg's l2: 0.252304 + 0.0593567\n",
      "[200]\tcv_agg's l2: 0.242778 + 0.0556879\n",
      "[300]\tcv_agg's l2: 0.240632 + 0.0535143\n"
     ]
    },
    {
     "name": "stderr",
     "output_type": "stream",
     "text": [
      "regularization_factors, val_score: 0.240070:  75%|###########################7         | 15/20 [00:31<00:10,  2.07s/it][I 2023-11-05 14:02:46,663] Trial 57 finished with value: 0.24006958077928417 and parameters: {'lambda_l1': 1.4927833414440624e-07, 'lambda_l2': 0.0014459385423045562}. Best is trial 57 with value: 0.24006958077928417.\n",
      "regularization_factors, val_score: 0.240070:  75%|###########################7         | 15/20 [00:31<00:10,  2.07s/it]"
     ]
    },
    {
     "name": "stdout",
     "output_type": "stream",
     "text": [
      "[400]\tcv_agg's l2: 0.241736 + 0.0520153\n",
      "Early stopping, best iteration is:\n",
      "[322]\tcv_agg's l2: 0.24007 + 0.0531642\n",
      "[100]\tcv_agg's l2: 0.253267 + 0.0609199\n",
      "[200]\tcv_agg's l2: 0.241486 + 0.0570127\n",
      "[300]\tcv_agg's l2: 0.240056 + 0.0532688\n"
     ]
    },
    {
     "name": "stderr",
     "output_type": "stream",
     "text": [
      "regularization_factors, val_score: 0.239830:  80%|#############################6       | 16/20 [00:33<00:08,  2.03s/it][I 2023-11-05 14:02:48,593] Trial 58 finished with value: 0.23983029966105004 and parameters: {'lambda_l1': 3.052363566837987e-07, 'lambda_l2': 0.003786022953136945}. Best is trial 58 with value: 0.23983029966105004.\n",
      "regularization_factors, val_score: 0.239830:  80%|#############################6       | 16/20 [00:33<00:08,  2.03s/it]"
     ]
    },
    {
     "name": "stdout",
     "output_type": "stream",
     "text": [
      "Early stopping, best iteration is:\n",
      "[289]\tcv_agg's l2: 0.23983 + 0.0531894\n",
      "[100]\tcv_agg's l2: 0.254783 + 0.0614144\n",
      "[200]\tcv_agg's l2: 0.244797 + 0.0583554\n",
      "[300]\tcv_agg's l2: 0.243266 + 0.055293\n"
     ]
    },
    {
     "name": "stderr",
     "output_type": "stream",
     "text": [
      "regularization_factors, val_score: 0.239830:  85%|###############################4     | 17/20 [00:35<00:06,  2.02s/it][I 2023-11-05 14:02:50,603] Trial 59 finished with value: 0.24371685613119856 and parameters: {'lambda_l1': 7.451346720293457e-07, 'lambda_l2': 0.0082411122524729}. Best is trial 58 with value: 0.23983029966105004.\n",
      "regularization_factors, val_score: 0.239830:  85%|###############################4     | 17/20 [00:35<00:06,  2.02s/it]"
     ]
    },
    {
     "name": "stdout",
     "output_type": "stream",
     "text": [
      "Early stopping, best iteration is:\n",
      "[289]\tcv_agg's l2: 0.23983 + 0.0531894\n",
      "[100]\tcv_agg's l2: 0.253732 + 0.0606296\n",
      "[200]\tcv_agg's l2: 0.242582 + 0.0558327\n",
      "[300]\tcv_agg's l2: 0.242376 + 0.0528967\n"
     ]
    },
    {
     "name": "stderr",
     "output_type": "stream",
     "text": [
      "regularization_factors, val_score: 0.239830:  90%|#################################3   | 18/20 [00:37<00:03,  2.00s/it][I 2023-11-05 14:02:52,555] Trial 60 finished with value: 0.24202627988516326 and parameters: {'lambda_l1': 3.2748566793701885e-07, 'lambda_l2': 0.005931158617259785}. Best is trial 58 with value: 0.23983029966105004.\n",
      "regularization_factors, val_score: 0.239830:  90%|#################################3   | 18/20 [00:37<00:03,  2.00s/it]"
     ]
    },
    {
     "name": "stdout",
     "output_type": "stream",
     "text": [
      "Early stopping, best iteration is:\n",
      "[289]\tcv_agg's l2: 0.23983 + 0.0531894\n",
      "[100]\tcv_agg's l2: 0.252304 + 0.0593567\n",
      "[200]\tcv_agg's l2: 0.243078 + 0.056176\n",
      "[300]\tcv_agg's l2: 0.241087 + 0.0542631\n"
     ]
    },
    {
     "name": "stderr",
     "output_type": "stream",
     "text": [
      "regularization_factors, val_score: 0.239830:  95%|###################################1 | 19/20 [00:39<00:02,  2.10s/it][I 2023-11-05 14:02:54,876] Trial 61 finished with value: 0.24082715118169623 and parameters: {'lambda_l1': 1.9604418601532067e-07, 'lambda_l2': 0.001987839833200571}. Best is trial 58 with value: 0.23983029966105004.\n",
      "regularization_factors, val_score: 0.239830:  95%|###################################1 | 19/20 [00:39<00:02,  2.10s/it]"
     ]
    },
    {
     "name": "stdout",
     "output_type": "stream",
     "text": [
      "Early stopping, best iteration is:\n",
      "[289]\tcv_agg's l2: 0.23983 + 0.0531894\n",
      "[100]\tcv_agg's l2: 0.252441 + 0.0599512\n",
      "[200]\tcv_agg's l2: 0.242832 + 0.0555712\n",
      "[300]\tcv_agg's l2: 0.241099 + 0.0553092\n"
     ]
    },
    {
     "name": "stderr",
     "output_type": "stream",
     "text": [
      "regularization_factors, val_score: 0.239830: 100%|#####################################| 20/20 [00:41<00:00,  2.12s/it][I 2023-11-05 14:02:57,060] Trial 62 finished with value: 0.24074253022031084 and parameters: {'lambda_l1': 2.7746055567061393e-07, 'lambda_l2': 6.94645308399469e-05}. Best is trial 58 with value: 0.23983029966105004.\n",
      "regularization_factors, val_score: 0.239830: 100%|#####################################| 20/20 [00:41<00:00,  2.08s/it]\n"
     ]
    },
    {
     "name": "stdout",
     "output_type": "stream",
     "text": [
      "Early stopping, best iteration is:\n",
      "[289]\tcv_agg's l2: 0.23983 + 0.0531894\n"
     ]
    },
    {
     "name": "stderr",
     "output_type": "stream",
     "text": [
      "min_data_in_leaf, val_score: 0.239830:   0%|                                                     | 0/5 [00:00<?, ?it/s]"
     ]
    },
    {
     "name": "stdout",
     "output_type": "stream",
     "text": [
      "[100]\tcv_agg's l2: 0.231428 + 0.0515989\n",
      "[200]\tcv_agg's l2: 0.224333 + 0.0461204\n",
      "[300]\tcv_agg's l2: 0.221452 + 0.0431634\n"
     ]
    },
    {
     "name": "stderr",
     "output_type": "stream",
     "text": [
      "min_data_in_leaf, val_score: 0.221219:  20%|#########                                    | 1/5 [00:02<00:08,  2.00s/it][I 2023-11-05 14:02:59,072] Trial 63 finished with value: 0.22121891350593598 and parameters: {'min_child_samples': 5}. Best is trial 63 with value: 0.22121891350593598.\n",
      "min_data_in_leaf, val_score: 0.221219:  20%|#########                                    | 1/5 [00:02<00:08,  2.00s/it]"
     ]
    },
    {
     "name": "stdout",
     "output_type": "stream",
     "text": [
      "Early stopping, best iteration is:\n",
      "[290]\tcv_agg's l2: 0.221219 + 0.0430543\n",
      "[100]\tcv_agg's l2: 0.238017 + 0.0525654\n",
      "[200]\tcv_agg's l2: 0.232833 + 0.0535166\n",
      "[300]\tcv_agg's l2: 0.234068 + 0.0552565\n"
     ]
    },
    {
     "name": "stderr",
     "output_type": "stream",
     "text": [
      "min_data_in_leaf, val_score: 0.221219:  40%|##################                           | 2/5 [00:04<00:06,  2.02s/it][I 2023-11-05 14:03:01,103] Trial 64 finished with value: 0.2336391095352482 and parameters: {'min_child_samples': 10}. Best is trial 63 with value: 0.22121891350593598.\n",
      "min_data_in_leaf, val_score: 0.221219:  40%|##################                           | 2/5 [00:04<00:06,  2.02s/it]"
     ]
    },
    {
     "name": "stdout",
     "output_type": "stream",
     "text": [
      "Early stopping, best iteration is:\n",
      "[290]\tcv_agg's l2: 0.221219 + 0.0430543\n",
      "[100]\tcv_agg's l2: 0.275405 + 0.0699075\n",
      "[200]\tcv_agg's l2: 0.268938 + 0.0698622\n",
      "[300]\tcv_agg's l2: 0.268568 + 0.0692199\n"
     ]
    },
    {
     "name": "stderr",
     "output_type": "stream",
     "text": [
      "min_data_in_leaf, val_score: 0.221219:  60%|###########################                  | 3/5 [00:06<00:04,  2.16s/it][I 2023-11-05 14:03:03,438] Trial 65 finished with value: 0.26799040131391866 and parameters: {'min_child_samples': 25}. Best is trial 63 with value: 0.22121891350593598.\n",
      "min_data_in_leaf, val_score: 0.221219:  60%|###########################                  | 3/5 [00:06<00:04,  2.16s/it]"
     ]
    },
    {
     "name": "stdout",
     "output_type": "stream",
     "text": [
      "Early stopping, best iteration is:\n",
      "[290]\tcv_agg's l2: 0.221219 + 0.0430543\n",
      "[100]\tcv_agg's l2: 0.813372 + 0.0677509\n",
      "[200]\tcv_agg's l2: 0.78594 + 0.0758174\n",
      "[300]\tcv_agg's l2: 0.775757 + 0.0829916\n"
     ]
    },
    {
     "name": "stderr",
     "output_type": "stream",
     "text": [
      "min_data_in_leaf, val_score: 0.221219:  80%|####################################         | 4/5 [00:08<00:01,  1.96s/it][I 2023-11-05 14:03:05,079] Trial 66 finished with value: 0.7757214087512971 and parameters: {'min_child_samples': 100}. Best is trial 63 with value: 0.22121891350593598.\n",
      "min_data_in_leaf, val_score: 0.221219:  80%|####################################         | 4/5 [00:08<00:01,  1.96s/it]"
     ]
    },
    {
     "name": "stdout",
     "output_type": "stream",
     "text": [
      "Early stopping, best iteration is:\n",
      "[290]\tcv_agg's l2: 0.221219 + 0.0430543\n",
      "[100]\tcv_agg's l2: 0.354147 + 0.0743752\n",
      "[200]\tcv_agg's l2: 0.346122 + 0.0692369\n",
      "[300]\tcv_agg's l2: 0.344498 + 0.066716\n"
     ]
    },
    {
     "name": "stderr",
     "output_type": "stream",
     "text": [
      "min_data_in_leaf, val_score: 0.221219: 100%|#############################################| 5/5 [00:09<00:00,  1.96s/it][I 2023-11-05 14:03:07,051] Trial 67 finished with value: 0.3437808371937069 and parameters: {'min_child_samples': 50}. Best is trial 63 with value: 0.22121891350593598.\n",
      "min_data_in_leaf, val_score: 0.221219: 100%|#############################################| 5/5 [00:09<00:00,  2.00s/it]"
     ]
    },
    {
     "name": "stdout",
     "output_type": "stream",
     "text": [
      "Early stopping, best iteration is:\n",
      "[290]\tcv_agg's l2: 0.221219 + 0.0430543\n"
     ]
    },
    {
     "name": "stderr",
     "output_type": "stream",
     "text": [
      "\n"
     ]
    }
   ],
   "source": [
    "import optuna.integration.lightgbm as lgb\n",
    "from lightgbm import early_stopping\n",
    "from sklearn.model_selection import KFold\n",
    "from sklearn.model_selection import RepeatedKFold\n",
    "\n",
    "\n",
    "lgb_train = lgb.Dataset(X_train_random_split, y_train_random_split)\n",
    "\n",
    "params = {\n",
    "    \"boosting_type\": \"gbdt\",\n",
    "    \"objective\": \"regression\",\n",
    "    \"metric\": \"l2\",\n",
    "    \"verbosity\": -1,\n",
    "}\n",
    "\n",
    "tuner = lgb.LightGBMTunerCV(\n",
    "    params,\n",
    "    lgb_train,\n",
    "    folds=KFold(n_splits=5),\n",
    "    num_boost_round=10000,\n",
    "    callbacks=[early_stopping(100), log_evaluation(100)],\n",
    ")\n",
    "\n",
    "tuner.run()"
   ]
  },
  {
   "cell_type": "code",
   "execution_count": 38,
   "id": "0079a348",
   "metadata": {},
   "outputs": [
    {
     "name": "stdout",
     "output_type": "stream",
     "text": [
      "Best score: 0.22121891350593598\n",
      "Params: \n",
      "    boosting_type: gbdt\n",
      "    objective: regression\n",
      "    metric: l2\n",
      "    verbosity: -1\n",
      "    feature_pre_filter: False\n",
      "    lambda_l1: 3.052363566837987e-07\n",
      "    lambda_l2: 0.003786022953136945\n",
      "    num_leaves: 9\n",
      "    feature_fraction: 0.7\n",
      "    bagging_fraction: 1.0\n",
      "    bagging_freq: 0\n",
      "    min_child_samples: 5\n"
     ]
    }
   ],
   "source": [
    "print(f\"Best score: {tuner.best_score}\")\n",
    "best_params = tuner.best_params\n",
    "print(\"Params: \")\n",
    "for key, value in best_params.items():\n",
    "    print(\"    {}: {}\".format(key, value))"
   ]
  },
  {
   "cell_type": "code",
   "execution_count": 39,
   "id": "ee599f57",
   "metadata": {},
   "outputs": [],
   "source": [
    "import lightgbm as lgb\n",
    "\n",
    "lgb_tuned = lgb.train(\n",
    "    best_params,\n",
    "    lgb_train,\n",
    "    num_boost_round=10000,\n",
    ")"
   ]
  },
  {
   "cell_type": "code",
   "execution_count": 40,
   "id": "f18b0204",
   "metadata": {},
   "outputs": [
    {
     "name": "stdout",
     "output_type": "stream",
     "text": [
      "RMSE train: 0.00\n",
      "RMSE test: 0.51\n",
      "MAE test: 0.33\n",
      "\n"
     ]
    }
   ],
   "source": [
    "rmse, mae = assess_regression_model(\n",
    "    lgb_tuned,\n",
    "    X_train_random_split,\n",
    "    X_test_random_split,\n",
    "    y_train_random_split,\n",
    "    y_test_random_split,\n",
    ")"
   ]
  },
  {
   "cell_type": "code",
   "execution_count": 41,
   "id": "13d87eed",
   "metadata": {},
   "outputs": [],
   "source": [
    "results.loc[3] = [\"random\", \"Optuna\", \"basic\", rmse, mae]"
   ]
  },
  {
   "cell_type": "markdown",
   "id": "9d13b101",
   "metadata": {},
   "source": [
    "###### MAE by level"
   ]
  },
  {
   "cell_type": "code",
   "execution_count": 42,
   "id": "91591bcd",
   "metadata": {},
   "outputs": [
    {
     "data": {
      "image/png": "[encoded data removed]",
      "text/plain": [
       "<Figure size 720x432 with 1 Axes>"
      ]
     },
     "metadata": {
      "needs_background": "light"
     },
     "output_type": "display_data"
    }
   ],
   "source": [
    "plot_mae_by_level(\n",
    "    y_test_random_split,\n",
    "    y_pred_test,\n",
    "    title=\"MAE by level for tuned LightGBM with basic features and random split\",\n",
    ")"
   ]
  },
  {
   "cell_type": "code",
   "execution_count": 43,
   "id": "061d7eba",
   "metadata": {},
   "outputs": [
    {
     "name": "stdout",
     "output_type": "stream",
     "text": [
      "Default:\n",
      "RMSE: 0.34\n",
      "\n",
      "Round type: 0.5\n",
      "RMSE: 0.37\n",
      "\n",
      "Round type: 0.33\n",
      "RMSE: 0.35\n",
      "\n",
      "Round type: 0.45\n",
      "RMSE: 0.36\n",
      "\n"
     ]
    }
   ],
   "source": [
    "predict = lgb_tuned.predict(X_test)\n",
    "check_round_predictions([0.5, 0.33, 0.45], y_test, predict)"
   ]
  },
  {
   "cell_type": "code",
   "execution_count": 44,
   "id": "9d56b725",
   "metadata": {},
   "outputs": [
    {
     "data": {
      "image/png": "[encoded data removed]",
      "text/plain": [
       "<Figure size 432x288 with 2 Axes>"
      ]
     },
     "metadata": {
      "needs_background": "light"
     },
     "output_type": "display_data"
    }
   ],
   "source": [
    "plot_confusion_matrix(\n",
    "    predict,\n",
    "    y_test,\n",
    "    title=\"Confusion matrix for tuned LightGBM with basic features and random split\",\n",
    ")"
   ]
  },
  {
   "cell_type": "markdown",
   "id": "ac941229",
   "metadata": {},
   "source": [
    "## Summary"
   ]
  },
  {
   "cell_type": "code",
   "execution_count": 45,
   "id": "90f5111f",
   "metadata": {
    "scrolled": true
   },
   "outputs": [
    {
     "data": {
      "text/html": [
       "<div>\n",
       "<style scoped>\n",
       "    .dataframe tbody tr th:only-of-type {\n",
       "        vertical-align: middle;\n",
       "    }\n",
       "\n",
       "    .dataframe tbody tr th {\n",
       "        vertical-align: top;\n",
       "    }\n",
       "\n",
       "    .dataframe thead th {\n",
       "        text-align: right;\n",
       "    }\n",
       "</style>\n",
       "<table border=\"1\" class=\"dataframe\">\n",
       "  <thead>\n",
       "    <tr style=\"text-align: right;\">\n",
       "      <th></th>\n",
       "      <th>Split type</th>\n",
       "      <th>Tuning type</th>\n",
       "      <th>Set of features</th>\n",
       "      <th>RMSE</th>\n",
       "      <th>MAE</th>\n",
       "    </tr>\n",
       "  </thead>\n",
       "  <tbody>\n",
       "    <tr>\n",
       "      <th>0</th>\n",
       "      <td>chronological</td>\n",
       "      <td>default</td>\n",
       "      <td>basic</td>\n",
       "      <td>0.669004</td>\n",
       "      <td>0.467604</td>\n",
       "    </tr>\n",
       "    <tr>\n",
       "      <th>1</th>\n",
       "      <td>chronological</td>\n",
       "      <td>Optuna</td>\n",
       "      <td>basic</td>\n",
       "      <td>0.683463</td>\n",
       "      <td>0.480905</td>\n",
       "    </tr>\n",
       "    <tr>\n",
       "      <th>2</th>\n",
       "      <td>random</td>\n",
       "      <td>default</td>\n",
       "      <td>basic</td>\n",
       "      <td>0.488404</td>\n",
       "      <td>0.336785</td>\n",
       "    </tr>\n",
       "    <tr>\n",
       "      <th>3</th>\n",
       "      <td>random</td>\n",
       "      <td>Optuna</td>\n",
       "      <td>basic</td>\n",
       "      <td>0.508860</td>\n",
       "      <td>0.331067</td>\n",
       "    </tr>\n",
       "  </tbody>\n",
       "</table>\n",
       "</div>"
      ],
      "text/plain": [
       "      Split type Tuning type Set of features      RMSE       MAE\n",
       "0  chronological     default           basic  0.669004  0.467604\n",
       "1  chronological      Optuna           basic  0.683463  0.480905\n",
       "2         random     default           basic  0.488404  0.336785\n",
       "3         random      Optuna           basic  0.508860  0.331067"
      ]
     },
     "execution_count": 45,
     "metadata": {},
     "output_type": "execute_result"
    }
   ],
   "source": [
    "results"
   ]
  },
  {
   "cell_type": "code",
   "execution_count": 46,
   "id": "492161ff",
   "metadata": {},
   "outputs": [],
   "source": [
    "from training.results import plot_summary"
   ]
  },
  {
   "cell_type": "code",
   "execution_count": 47,
   "id": "b44fe7c4",
   "metadata": {},
   "outputs": [
    {
     "data": {
      "image/png": "[encoded data removed]",
      "text/plain": [
       "<Figure size 1440x576 with 1 Axes>"
      ]
     },
     "metadata": {
      "needs_background": "light"
     },
     "output_type": "display_data"
    }
   ],
   "source": [
    "plot_summary(results, \"RMSE\", title=\"RMSE for LightGBM with basic features\")"
   ]
  },
  {
   "cell_type": "code",
   "execution_count": 48,
   "id": "d3509e28",
   "metadata": {},
   "outputs": [
    {
     "data": {
      "image/png": "[encoded data removed]",
      "text/plain": [
       "<Figure size 1440x576 with 1 Axes>"
      ]
     },
     "metadata": {
      "needs_background": "light"
     },
     "output_type": "display_data"
    }
   ],
   "source": [
    "plot_summary(results, \"MAE\", title=\"MAE for LightGBM with basic features\")"
   ]
  },
  {
   "cell_type": "code",
   "execution_count": 49,
   "id": "c714119e",
   "metadata": {},
   "outputs": [],
   "source": [
    "results.to_json(\"./lightgbm_basic_results.json\", indent=2)"
   ]
  },
  {
   "cell_type": "code",
   "execution_count": null,
   "id": "a8ce3754",
   "metadata": {},
   "outputs": [],
   "source": []
  }
 ],
 "metadata": {
  "kernelspec": {
   "display_name": "Python 3 (ipykernel)",
   "language": "python",
   "name": "python3"
  },
  "language_info": {
   "codemirror_mode": {
    "name": "ipython",
    "version": 3
   },
   "file_extension": ".py",
   "mimetype": "text/x-python",
   "name": "python",
   "nbconvert_exporter": "python",
   "pygments_lexer": "ipython3",
   "version": "3.10.4"
  }
 },
 "nbformat": 4,
 "nbformat_minor": 5
}
