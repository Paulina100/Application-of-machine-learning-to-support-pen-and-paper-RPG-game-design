{
 "cells": [
  {
   "cell_type": "markdown",
   "id": "f64a671f",
   "metadata": {},
   "source": [
    "# LightGBM\n",
    "### Parameters:\n",
    "* **abilities**:\n",
    "    * **cha**\n",
    "    * **con**\n",
    "    * **dex**\n",
    "    * **int**\n",
    "    * **str**\n",
    "    * **wis**\n",
    "* **attributes**\n",
    "    * **hp**\n",
    "    * **ac**\n",
    "\n",
    "### Prediction: *level*\n",
    "\n",
    "## Loading data"
   ]
  },
  {
   "cell_type": "code",
   "execution_count": 1,
   "id": "1f2515e7",
   "metadata": {},
   "outputs": [],
   "source": [
    "import numpy as np\n",
    "import pandas as pd\n",
    "import sys\n",
    "\n",
    "import os\n",
    "import pathlib\n",
    "\n",
    "sys.path.append(\"../../..\")\n",
    "from training.creating_dataset import load_and_preprocess_data\n",
    "\n",
    "current_path = os.getcwd()\n",
    "DATASETS_DIR = pathlib.Path(current_path).parent.parent.parent / \"pathfinder_2e_data\"\n",
    "DATASET_FILES = [\n",
    "    \"pathfinder-bestiary.db\",\n",
    "    \"pathfinder-bestiary-2.db\",\n",
    "    \"pathfinder-bestiary-3.db\",\n",
    "]\n",
    "DATASET_PATHS = [f\"{DATASETS_DIR}/{file}\" for file in DATASET_FILES]\n",
    "features = [\n",
    "    \"cha\",\n",
    "    \"con\",\n",
    "    \"dex\",\n",
    "    \"int\",\n",
    "    \"str\",\n",
    "    \"wis\",\n",
    "    \"ac\",\n",
    "    \"hp\",\n",
    "]\n",
    "\n",
    "df = load_and_preprocess_data(\n",
    "    DATASET_PATHS,\n",
    "    characteristics=features,\n",
    ")"
   ]
  },
  {
   "cell_type": "code",
   "execution_count": 2,
   "id": "b522f880",
   "metadata": {},
   "outputs": [
    {
     "name": "stdout",
     "output_type": "stream",
     "text": [
      "<class 'pandas.core.frame.DataFrame'>\n",
      "Int64Index: 1206 entries, 0 to 1205\n",
      "Data columns (total 10 columns):\n",
      " #   Column  Non-Null Count  Dtype \n",
      "---  ------  --------------  ----- \n",
      " 0   level   1206 non-null   int64 \n",
      " 1   con     1206 non-null   int64 \n",
      " 2   ac      1206 non-null   int64 \n",
      " 3   str     1206 non-null   int64 \n",
      " 4   book    1206 non-null   object\n",
      " 5   wis     1206 non-null   int64 \n",
      " 6   int     1206 non-null   int64 \n",
      " 7   cha     1206 non-null   int64 \n",
      " 8   dex     1206 non-null   int64 \n",
      " 9   hp      1206 non-null   int64 \n",
      "dtypes: int64(9), object(1)\n",
      "memory usage: 103.6+ KB\n"
     ]
    }
   ],
   "source": [
    "df.info()"
   ]
  },
  {
   "cell_type": "code",
   "execution_count": 3,
   "id": "1b5450d3",
   "metadata": {},
   "outputs": [
    {
     "data": {
      "text/html": [
       "<div>\n",
       "<style scoped>\n",
       "    .dataframe tbody tr th:only-of-type {\n",
       "        vertical-align: middle;\n",
       "    }\n",
       "\n",
       "    .dataframe tbody tr th {\n",
       "        vertical-align: top;\n",
       "    }\n",
       "\n",
       "    .dataframe thead th {\n",
       "        text-align: right;\n",
       "    }\n",
       "</style>\n",
       "<table border=\"1\" class=\"dataframe\">\n",
       "  <thead>\n",
       "    <tr style=\"text-align: right;\">\n",
       "      <th></th>\n",
       "      <th>level</th>\n",
       "      <th>con</th>\n",
       "      <th>ac</th>\n",
       "      <th>str</th>\n",
       "      <th>book</th>\n",
       "      <th>wis</th>\n",
       "      <th>int</th>\n",
       "      <th>cha</th>\n",
       "      <th>dex</th>\n",
       "      <th>hp</th>\n",
       "    </tr>\n",
       "  </thead>\n",
       "  <tbody>\n",
       "    <tr>\n",
       "      <th>0</th>\n",
       "      <td>10</td>\n",
       "      <td>5</td>\n",
       "      <td>29</td>\n",
       "      <td>7</td>\n",
       "      <td>Pathfinder Bestiary</td>\n",
       "      <td>2</td>\n",
       "      <td>1</td>\n",
       "      <td>1</td>\n",
       "      <td>2</td>\n",
       "      <td>215</td>\n",
       "    </tr>\n",
       "    <tr>\n",
       "      <th>1</th>\n",
       "      <td>10</td>\n",
       "      <td>5</td>\n",
       "      <td>28</td>\n",
       "      <td>9</td>\n",
       "      <td>Pathfinder Bestiary</td>\n",
       "      <td>2</td>\n",
       "      <td>-4</td>\n",
       "      <td>1</td>\n",
       "      <td>0</td>\n",
       "      <td>220</td>\n",
       "    </tr>\n",
       "    <tr>\n",
       "      <th>2</th>\n",
       "      <td>8</td>\n",
       "      <td>6</td>\n",
       "      <td>25</td>\n",
       "      <td>7</td>\n",
       "      <td>Pathfinder Bestiary</td>\n",
       "      <td>3</td>\n",
       "      <td>-4</td>\n",
       "      <td>-2</td>\n",
       "      <td>3</td>\n",
       "      <td>175</td>\n",
       "    </tr>\n",
       "    <tr>\n",
       "      <th>3</th>\n",
       "      <td>17</td>\n",
       "      <td>5</td>\n",
       "      <td>41</td>\n",
       "      <td>7</td>\n",
       "      <td>Pathfinder Bestiary</td>\n",
       "      <td>5</td>\n",
       "      <td>6</td>\n",
       "      <td>6</td>\n",
       "      <td>4</td>\n",
       "      <td>315</td>\n",
       "    </tr>\n",
       "    <tr>\n",
       "      <th>4</th>\n",
       "      <td>1</td>\n",
       "      <td>1</td>\n",
       "      <td>16</td>\n",
       "      <td>-5</td>\n",
       "      <td>Pathfinder Bestiary</td>\n",
       "      <td>1</td>\n",
       "      <td>-1</td>\n",
       "      <td>1</td>\n",
       "      <td>3</td>\n",
       "      <td>20</td>\n",
       "    </tr>\n",
       "  </tbody>\n",
       "</table>\n",
       "</div>"
      ],
      "text/plain": [
       "   level  con  ac  str                 book  wis  int  cha  dex   hp\n",
       "0     10    5  29    7  Pathfinder Bestiary    2    1    1    2  215\n",
       "1     10    5  28    9  Pathfinder Bestiary    2   -4    1    0  220\n",
       "2      8    6  25    7  Pathfinder Bestiary    3   -4   -2    3  175\n",
       "3     17    5  41    7  Pathfinder Bestiary    5    6    6    4  315\n",
       "4      1    1  16   -5  Pathfinder Bestiary    1   -1    1    3   20"
      ]
     },
     "execution_count": 3,
     "metadata": {},
     "output_type": "execute_result"
    }
   ],
   "source": [
    "df.head()"
   ]
  },
  {
   "cell_type": "markdown",
   "id": "0caa661f",
   "metadata": {},
   "source": [
    "###### Level"
   ]
  },
  {
   "cell_type": "code",
   "execution_count": 4,
   "id": "c200d2b4",
   "metadata": {},
   "outputs": [
    {
     "data": {
      "text/plain": [
       "0       10\n",
       "1       10\n",
       "2        8\n",
       "3       17\n",
       "4        1\n",
       "        ..\n",
       "1201    20\n",
       "1202    -1\n",
       "1203    12\n",
       "1204     6\n",
       "1205     6\n",
       "Name: level, Length: 1206, dtype: int64"
      ]
     },
     "execution_count": 4,
     "metadata": {},
     "output_type": "execute_result"
    }
   ],
   "source": [
    "y = df[\"level\"]\n",
    "y"
   ]
  },
  {
   "cell_type": "code",
   "execution_count": 5,
   "id": "553822a7",
   "metadata": {},
   "outputs": [],
   "source": [
    "from collections import defaultdict\n",
    "\n",
    "\n",
    "lvl_stat = defaultdict(lambda: 0)\n",
    "\n",
    "for lvl in y:\n",
    "    lvl_stat[lvl] += 1"
   ]
  },
  {
   "cell_type": "code",
   "execution_count": 6,
   "id": "e45d6c29",
   "metadata": {},
   "outputs": [
    {
     "data": {
      "text/html": [
       "<div>\n",
       "<style scoped>\n",
       "    .dataframe tbody tr th:only-of-type {\n",
       "        vertical-align: middle;\n",
       "    }\n",
       "\n",
       "    .dataframe tbody tr th {\n",
       "        vertical-align: top;\n",
       "    }\n",
       "\n",
       "    .dataframe thead th {\n",
       "        text-align: right;\n",
       "    }\n",
       "</style>\n",
       "<table border=\"1\" class=\"dataframe\">\n",
       "  <thead>\n",
       "    <tr style=\"text-align: right;\">\n",
       "      <th></th>\n",
       "      <th>lvl</th>\n",
       "      <th>count</th>\n",
       "    </tr>\n",
       "  </thead>\n",
       "  <tbody>\n",
       "    <tr>\n",
       "      <th>0</th>\n",
       "      <td>-1</td>\n",
       "      <td>34</td>\n",
       "    </tr>\n",
       "    <tr>\n",
       "      <th>1</th>\n",
       "      <td>0</td>\n",
       "      <td>27</td>\n",
       "    </tr>\n",
       "    <tr>\n",
       "      <th>2</th>\n",
       "      <td>1</td>\n",
       "      <td>127</td>\n",
       "    </tr>\n",
       "    <tr>\n",
       "      <th>3</th>\n",
       "      <td>2</td>\n",
       "      <td>121</td>\n",
       "    </tr>\n",
       "    <tr>\n",
       "      <th>4</th>\n",
       "      <td>3</td>\n",
       "      <td>95</td>\n",
       "    </tr>\n",
       "    <tr>\n",
       "      <th>5</th>\n",
       "      <td>4</td>\n",
       "      <td>82</td>\n",
       "    </tr>\n",
       "    <tr>\n",
       "      <th>6</th>\n",
       "      <td>5</td>\n",
       "      <td>76</td>\n",
       "    </tr>\n",
       "    <tr>\n",
       "      <th>7</th>\n",
       "      <td>6</td>\n",
       "      <td>72</td>\n",
       "    </tr>\n",
       "    <tr>\n",
       "      <th>8</th>\n",
       "      <td>7</td>\n",
       "      <td>77</td>\n",
       "    </tr>\n",
       "    <tr>\n",
       "      <th>9</th>\n",
       "      <td>8</td>\n",
       "      <td>68</td>\n",
       "    </tr>\n",
       "    <tr>\n",
       "      <th>10</th>\n",
       "      <td>9</td>\n",
       "      <td>63</td>\n",
       "    </tr>\n",
       "    <tr>\n",
       "      <th>11</th>\n",
       "      <td>10</td>\n",
       "      <td>58</td>\n",
       "    </tr>\n",
       "    <tr>\n",
       "      <th>12</th>\n",
       "      <td>11</td>\n",
       "      <td>40</td>\n",
       "    </tr>\n",
       "    <tr>\n",
       "      <th>13</th>\n",
       "      <td>12</td>\n",
       "      <td>41</td>\n",
       "    </tr>\n",
       "    <tr>\n",
       "      <th>14</th>\n",
       "      <td>13</td>\n",
       "      <td>36</td>\n",
       "    </tr>\n",
       "    <tr>\n",
       "      <th>15</th>\n",
       "      <td>14</td>\n",
       "      <td>33</td>\n",
       "    </tr>\n",
       "    <tr>\n",
       "      <th>16</th>\n",
       "      <td>15</td>\n",
       "      <td>31</td>\n",
       "    </tr>\n",
       "    <tr>\n",
       "      <th>17</th>\n",
       "      <td>16</td>\n",
       "      <td>25</td>\n",
       "    </tr>\n",
       "    <tr>\n",
       "      <th>18</th>\n",
       "      <td>17</td>\n",
       "      <td>21</td>\n",
       "    </tr>\n",
       "    <tr>\n",
       "      <th>19</th>\n",
       "      <td>18</td>\n",
       "      <td>21</td>\n",
       "    </tr>\n",
       "    <tr>\n",
       "      <th>20</th>\n",
       "      <td>19</td>\n",
       "      <td>18</td>\n",
       "    </tr>\n",
       "    <tr>\n",
       "      <th>21</th>\n",
       "      <td>20</td>\n",
       "      <td>24</td>\n",
       "    </tr>\n",
       "    <tr>\n",
       "      <th>22</th>\n",
       "      <td>21</td>\n",
       "      <td>16</td>\n",
       "    </tr>\n",
       "  </tbody>\n",
       "</table>\n",
       "</div>"
      ],
      "text/plain": [
       "    lvl  count\n",
       "0    -1     34\n",
       "1     0     27\n",
       "2     1    127\n",
       "3     2    121\n",
       "4     3     95\n",
       "5     4     82\n",
       "6     5     76\n",
       "7     6     72\n",
       "8     7     77\n",
       "9     8     68\n",
       "10    9     63\n",
       "11   10     58\n",
       "12   11     40\n",
       "13   12     41\n",
       "14   13     36\n",
       "15   14     33\n",
       "16   15     31\n",
       "17   16     25\n",
       "18   17     21\n",
       "19   18     21\n",
       "20   19     18\n",
       "21   20     24\n",
       "22   21     16"
      ]
     },
     "execution_count": 6,
     "metadata": {},
     "output_type": "execute_result"
    }
   ],
   "source": [
    "level_count = pd.DataFrame(\n",
    "    data={\n",
    "        \"lvl\": [key for key in sorted(lvl_stat.keys())],\n",
    "        \"count\": [lvl_stat.get(key) for key in sorted(lvl_stat.keys())],\n",
    "    }\n",
    ")\n",
    "level_count"
   ]
  },
  {
   "cell_type": "code",
   "execution_count": 7,
   "id": "bdbfe8de",
   "metadata": {},
   "outputs": [
    {
     "data": {
      "image/png": "[encoded data removed]",
      "text/plain": [
       "<Figure size 432x288 with 1 Axes>"
      ]
     },
     "metadata": {
      "needs_background": "light"
     },
     "output_type": "display_data"
    }
   ],
   "source": [
    "import matplotlib.pyplot as plt\n",
    "\n",
    "\n",
    "level_count.plot.bar(x=\"lvl\", y=\"count\", title=\"Count of levels\")\n",
    "plt.show()"
   ]
  },
  {
   "cell_type": "markdown",
   "id": "9fdb6541",
   "metadata": {},
   "source": [
    "## Train test split"
   ]
  },
  {
   "cell_type": "markdown",
   "id": "18f56629",
   "metadata": {},
   "source": [
    "### Chronological split"
   ]
  },
  {
   "cell_type": "code",
   "execution_count": 8,
   "id": "dcda359b",
   "metadata": {},
   "outputs": [],
   "source": [
    "from training.splitting_dataset import split_dataframe\n",
    "\n",
    "\n",
    "os.chdir(\"../../../training\")\n",
    "X_train, X_test, y_train, y_test = split_dataframe(df, test_size=0.31)\n",
    "os.chdir(\"../notebooks/models/lightgbm\")"
   ]
  },
  {
   "cell_type": "code",
   "execution_count": 9,
   "id": "17dbc875",
   "metadata": {},
   "outputs": [],
   "source": [
    "X_train = X_train.drop(columns=[\"book\"])\n",
    "X_test = X_test.drop(columns=[\"book\"])"
   ]
  },
  {
   "cell_type": "markdown",
   "id": "25879636",
   "metadata": {},
   "source": [
    "### Random split"
   ]
  },
  {
   "cell_type": "code",
   "execution_count": 10,
   "id": "982ec5eb",
   "metadata": {},
   "outputs": [],
   "source": [
    "(\n",
    "    X_train_random_split,\n",
    "    X_test_random_split,\n",
    "    y_train_random_split,\n",
    "    y_test_random_split,\n",
    ") = split_dataframe(df, chronological_split=False)"
   ]
  },
  {
   "cell_type": "code",
   "execution_count": 11,
   "id": "90569e78",
   "metadata": {},
   "outputs": [],
   "source": [
    "X_train_random_split = X_train_random_split.drop(columns=[\"book\"])\n",
    "X_test_random_split = X_test_random_split.drop(columns=[\"book\"])"
   ]
  },
  {
   "cell_type": "markdown",
   "id": "9b259fbf",
   "metadata": {},
   "source": [
    "## LightGBM"
   ]
  },
  {
   "cell_type": "markdown",
   "id": "14f37d9b",
   "metadata": {},
   "source": [
    "## Chronological split"
   ]
  },
  {
   "cell_type": "code",
   "execution_count": 12,
   "id": "2bc4c90e",
   "metadata": {},
   "outputs": [
    {
     "name": "stdout",
     "output_type": "stream",
     "text": [
      "[LightGBM] [Warning] Auto-choosing row-wise multi-threading, the overhead of testing was 0.000120 seconds.\n",
      "You can set `force_row_wise=true` to remove the overhead.\n",
      "And if memory is not enough, you can set `force_col_wise=true`.\n",
      "[LightGBM] [Info] Total Bins 224\n",
      "[LightGBM] [Info] Number of data points in the train set: 841, number of used features: 8\n",
      "[LightGBM] [Info] Start training from score 6.966706\n",
      "Training until validation scores don't improve for 5 rounds\n",
      "[LightGBM] [Warning] No further splits with positive gain, best gain: -inf\n",
      "[LightGBM] [Warning] No further splits with positive gain, best gain: -inf\n",
      "[LightGBM] [Warning] No further splits with positive gain, best gain: -inf\n",
      "[LightGBM] [Warning] No further splits with positive gain, best gain: -inf\n",
      "[LightGBM] [Warning] No further splits with positive gain, best gain: -inf\n",
      "[LightGBM] [Warning] No further splits with positive gain, best gain: -inf\n",
      "[LightGBM] [Warning] No further splits with positive gain, best gain: -inf\n",
      "[LightGBM] [Warning] No further splits with positive gain, best gain: -inf\n",
      "[LightGBM] [Warning] No further splits with positive gain, best gain: -inf\n",
      "[LightGBM] [Warning] No further splits with positive gain, best gain: -inf\n",
      "[LightGBM] [Warning] No further splits with positive gain, best gain: -inf\n",
      "[LightGBM] [Warning] No further splits with positive gain, best gain: -inf\n",
      "Early stopping, best iteration is:\n",
      "[48]\tvalid_0's l2: 0.447566\tvalid_0's l1: 0.467604\n"
     ]
    }
   ],
   "source": [
    "import lightgbm as lgb\n",
    "\n",
    "lgb_train = lgb.Dataset(X_train, y_train)\n",
    "lgb_eval = lgb.Dataset(X_test, y_test, reference=lgb_train)\n",
    "\n",
    "params = {\n",
    "    \"boosting_type\": \"gbdt\",\n",
    "    \"objective\": \"regression\",\n",
    "    \"metric\": {\"l2\", \"l1\"},\n",
    "}\n",
    "\n",
    "gbm = lgb.train(\n",
    "    params,\n",
    "    lgb_train,\n",
    "    num_boost_round=100,\n",
    "    valid_sets=lgb_eval,\n",
    "    callbacks=[lgb.early_stopping(stopping_rounds=5)],\n",
    ")"
   ]
  },
  {
   "cell_type": "code",
   "execution_count": 13,
   "id": "f1ae2eaa",
   "metadata": {},
   "outputs": [],
   "source": [
    "y_pred_train = gbm.predict(X_train, num_iteration=gbm.best_iteration)\n",
    "y_pred_test = gbm.predict(X_test, num_iteration=gbm.best_iteration)"
   ]
  },
  {
   "cell_type": "code",
   "execution_count": 14,
   "id": "ef9d09eb",
   "metadata": {},
   "outputs": [
    {
     "name": "stdout",
     "output_type": "stream",
     "text": [
      "RMSE: 0.67\n",
      "MAE: 0.47\n"
     ]
    }
   ],
   "source": [
    "from sklearn.metrics import mean_squared_error, mean_absolute_error\n",
    "\n",
    "\n",
    "rmse = mean_squared_error(y_test, y_pred_test, squared=False)\n",
    "mae = mean_absolute_error(y_test, y_pred_test)\n",
    "\n",
    "print(f\"RMSE: {rmse:.2f}\")\n",
    "print(f\"MAE: {mae:.2f}\")"
   ]
  },
  {
   "cell_type": "code",
   "execution_count": 15,
   "id": "6e288d53",
   "metadata": {},
   "outputs": [],
   "source": [
    "results = pd.DataFrame(\n",
    "    data={\n",
    "        \"Split type\": [],\n",
    "        \"Tuning type\": [],\n",
    "        \"Set of features\": [],\n",
    "        \"RMSE\": [],\n",
    "        \"MAE\": [],\n",
    "    }\n",
    ")\n",
    "\n",
    "results.loc[0] = [\"chronological\", \"default\", \"basic\", rmse, mae]"
   ]
  },
  {
   "cell_type": "code",
   "execution_count": 16,
   "id": "78bb7ffa",
   "metadata": {},
   "outputs": [
    {
     "name": "stdout",
     "output_type": "stream",
     "text": [
      "RMSE train: 0.31\n",
      "RMSE test: 0.67\n"
     ]
    }
   ],
   "source": [
    "rmse_train = mean_squared_error(y_train, y_pred_train, squared=False)\n",
    "rmse_test = mean_squared_error(y_test, y_pred_test, squared=False)\n",
    "print(f\"RMSE train: {rmse_train:.2f}\")\n",
    "print(f\"RMSE test: {rmse_test:.2f}\")"
   ]
  },
  {
   "cell_type": "markdown",
   "id": "4435f236",
   "metadata": {},
   "source": [
    "###### MAE by level"
   ]
  },
  {
   "cell_type": "code",
   "execution_count": 17,
   "id": "f3b4086b",
   "metadata": {},
   "outputs": [],
   "source": [
    "from training.results import plot_mae_by_level"
   ]
  },
  {
   "cell_type": "code",
   "execution_count": 18,
   "id": "e3ecad89",
   "metadata": {
    "scrolled": false
   },
   "outputs": [
    {
     "data": {
      "image/png": "[encoded data removed]",
      "text/plain": [
       "<Figure size 1440x576 with 1 Axes>"
      ]
     },
     "metadata": {
      "needs_background": "light"
     },
     "output_type": "display_data"
    }
   ],
   "source": [
    "plot_mae_by_level(\n",
    "    y_test,\n",
    "    y_pred_test,\n",
    "    title=\"MAE by level for default LightGBM with basic features and chronological split\",\n",
    ")"
   ]
  },
  {
   "cell_type": "code",
   "execution_count": 19,
   "id": "ec8cab49",
   "metadata": {
    "scrolled": true
   },
   "outputs": [
    {
     "name": "stdout",
     "output_type": "stream",
     "text": [
      "Default:\n",
      "RMSE: 0.67\n",
      "\n",
      "Round type: 0.5\n",
      "RMSE: 0.71\n",
      "\n",
      "Round type: 0.33\n",
      "RMSE: 0.71\n",
      "\n",
      "Round type: 0.45\n",
      "RMSE: 0.70\n",
      "\n"
     ]
    }
   ],
   "source": [
    "from training.results import check_round_predictions, plot_confusion_matrix\n",
    "\n",
    "\n",
    "check_round_predictions([0.5, 0.33, 0.45], y_test, y_pred_test)"
   ]
  },
  {
   "cell_type": "code",
   "execution_count": 20,
   "id": "9129a0ae",
   "metadata": {},
   "outputs": [
    {
     "data": {
      "image/png": "[encoded data removed]",
      "text/plain": [
       "<Figure size 720x720 with 2 Axes>"
      ]
     },
     "metadata": {
      "needs_background": "light"
     },
     "output_type": "display_data"
    }
   ],
   "source": [
    "plot_confusion_matrix(\n",
    "    y_pred_test,\n",
    "    y_test,\n",
    "    title=\"Confusion matrix for default LightGBM with\\nbasic features and chronological split\",\n",
    ")"
   ]
  },
  {
   "cell_type": "markdown",
   "id": "aaaf3023",
   "metadata": {},
   "source": [
    "#### Tuning"
   ]
  },
  {
   "cell_type": "code",
   "execution_count": 21,
   "id": "cbd24f9f",
   "metadata": {},
   "outputs": [],
   "source": [
    "from training.results import assess_regression_model"
   ]
  },
  {
   "cell_type": "code",
   "execution_count": 22,
   "id": "10854460",
   "metadata": {},
   "outputs": [
    {
     "name": "stderr",
     "output_type": "stream",
     "text": [
      "[I 2023-11-09 13:19:21,194] A new study created in memory with name: no-name-7cb0f8de-2edf-4432-b0be-ee3dedc89198\n",
      "feature_fraction, val_score: inf:   0%|                                                          | 0/7 [00:00<?, ?it/s]"
     ]
    },
    {
     "name": "stdout",
     "output_type": "stream",
     "text": [
      "Training until validation scores don't improve for 100 rounds\n",
      "[100]\tcv_agg's l2: 0.234102 + 0.0514901\n",
      "[200]\tcv_agg's l2: 0.232555 + 0.0496004\n"
     ]
    },
    {
     "name": "stderr",
     "output_type": "stream",
     "text": [
      "feature_fraction, val_score: 0.231230:  14%|######4                                      | 1/7 [00:01<00:06,  1.15s/it][I 2023-11-09 13:19:22,349] Trial 0 finished with value: 0.23122967944103578 and parameters: {'feature_fraction': 1.0}. Best is trial 0 with value: 0.23122967944103578.\n",
      "feature_fraction, val_score: 0.231230:  14%|######4                                      | 1/7 [00:01<00:06,  1.15s/it]"
     ]
    },
    {
     "name": "stdout",
     "output_type": "stream",
     "text": [
      "Early stopping, best iteration is:\n",
      "[174]\tcv_agg's l2: 0.23123 + 0.0496955\n",
      "[100]\tcv_agg's l2: 0.234682 + 0.0338797\n",
      "[200]\tcv_agg's l2: 0.226131 + 0.037056\n",
      "[300]\tcv_agg's l2: 0.22466 + 0.0382514\n"
     ]
    },
    {
     "name": "stderr",
     "output_type": "stream",
     "text": [
      "\r",
      "feature_fraction, val_score: 0.224032:  14%|######4                                      | 1/7 [00:02<00:06,  1.15s/it]"
     ]
    },
    {
     "name": "stdout",
     "output_type": "stream",
     "text": [
      "[400]\tcv_agg's l2: 0.225133 + 0.0394947\n",
      "Early stopping, best iteration is:\n",
      "[349]\tcv_agg's l2: 0.224032 + 0.0386976\n"
     ]
    },
    {
     "name": "stderr",
     "output_type": "stream",
     "text": [
      "feature_fraction, val_score: 0.224032:  29%|############8                                | 2/7 [00:02<00:07,  1.53s/it][I 2023-11-09 13:19:24,140] Trial 1 finished with value: 0.22403217386725002 and parameters: {'feature_fraction': 0.7}. Best is trial 1 with value: 0.22403217386725002.\n",
      "feature_fraction, val_score: 0.224032:  29%|############8                                | 2/7 [00:02<00:07,  1.53s/it]"
     ]
    },
    {
     "name": "stdout",
     "output_type": "stream",
     "text": [
      "[100]\tcv_agg's l2: 0.319162 + 0.0766611\n",
      "[200]\tcv_agg's l2: 0.283683 + 0.0737265\n",
      "[300]\tcv_agg's l2: 0.271895 + 0.0722703\n"
     ]
    },
    {
     "name": "stderr",
     "output_type": "stream",
     "text": [
      "\r",
      "feature_fraction, val_score: 0.224032:  29%|############8                                | 2/7 [00:04<00:07,  1.53s/it]"
     ]
    },
    {
     "name": "stdout",
     "output_type": "stream",
     "text": [
      "[400]\tcv_agg's l2: 0.267297 + 0.0704172\n",
      "Early stopping, best iteration is:\n",
      "[349]\tcv_agg's l2: 0.224032 + 0.0386976\n"
     ]
    },
    {
     "name": "stderr",
     "output_type": "stream",
     "text": [
      "feature_fraction, val_score: 0.224032:  43%|###################2                         | 3/7 [00:04<00:06,  1.53s/it][I 2023-11-09 13:19:25,685] Trial 2 finished with value: 0.2693970932845447 and parameters: {'feature_fraction': 0.5}. Best is trial 1 with value: 0.22403217386725002.\n",
      "feature_fraction, val_score: 0.224032:  43%|###################2                         | 3/7 [00:04<00:06,  1.53s/it]"
     ]
    },
    {
     "name": "stdout",
     "output_type": "stream",
     "text": [
      "[100]\tcv_agg's l2: 0.334841 + 0.0479463\n",
      "[200]\tcv_agg's l2: 0.289758 + 0.0474872\n",
      "[300]\tcv_agg's l2: 0.277413 + 0.0471921\n"
     ]
    },
    {
     "name": "stderr",
     "output_type": "stream",
     "text": [
      "feature_fraction, val_score: 0.224032:  57%|#########################7                   | 4/7 [00:06<00:04,  1.62s/it][I 2023-11-09 13:19:27,437] Trial 3 finished with value: 0.27493069281089055 and parameters: {'feature_fraction': 0.4}. Best is trial 1 with value: 0.22403217386725002.\n",
      "feature_fraction, val_score: 0.224032:  57%|#########################7                   | 4/7 [00:06<00:04,  1.62s/it]"
     ]
    },
    {
     "name": "stdout",
     "output_type": "stream",
     "text": [
      "[400]\tcv_agg's l2: 0.272518 + 0.0468105\n",
      "Early stopping, best iteration is:\n",
      "[349]\tcv_agg's l2: 0.224032 + 0.0386976\n",
      "[100]\tcv_agg's l2: 0.234682 + 0.0338797\n",
      "[200]\tcv_agg's l2: 0.226131 + 0.037056\n",
      "[300]\tcv_agg's l2: 0.22466 + 0.0382514\n"
     ]
    },
    {
     "name": "stderr",
     "output_type": "stream",
     "text": [
      "feature_fraction, val_score: 0.224032:  71%|################################1            | 5/7 [00:07<00:03,  1.61s/it][I 2023-11-09 13:19:29,038] Trial 4 finished with value: 0.22403217386725002 and parameters: {'feature_fraction': 0.8}. Best is trial 1 with value: 0.22403217386725002.\n",
      "feature_fraction, val_score: 0.224032:  71%|################################1            | 5/7 [00:07<00:03,  1.61s/it]"
     ]
    },
    {
     "name": "stdout",
     "output_type": "stream",
     "text": [
      "[400]\tcv_agg's l2: 0.225133 + 0.0394947\n",
      "Early stopping, best iteration is:\n",
      "[349]\tcv_agg's l2: 0.224032 + 0.0386976\n",
      "[100]\tcv_agg's l2: 0.272153 + 0.0659505\n",
      "[200]\tcv_agg's l2: 0.253752 + 0.0642911\n",
      "[300]\tcv_agg's l2: 0.249112 + 0.0630054\n"
     ]
    },
    {
     "name": "stderr",
     "output_type": "stream",
     "text": [
      "feature_fraction, val_score: 0.224032:  86%|######################################5      | 6/7 [00:09<00:01,  1.60s/it][I 2023-11-09 13:19:30,601] Trial 5 finished with value: 0.24892635515779066 and parameters: {'feature_fraction': 0.6}. Best is trial 1 with value: 0.22403217386725002.\n",
      "feature_fraction, val_score: 0.224032:  86%|######################################5      | 6/7 [00:09<00:01,  1.60s/it]"
     ]
    },
    {
     "name": "stdout",
     "output_type": "stream",
     "text": [
      "[400]\tcv_agg's l2: 0.249275 + 0.0625293\n",
      "Early stopping, best iteration is:\n",
      "[349]\tcv_agg's l2: 0.224032 + 0.0386976\n",
      "[100]\tcv_agg's l2: 0.231219 + 0.0486198\n",
      "[200]\tcv_agg's l2: 0.228528 + 0.0485772\n",
      "[300]\tcv_agg's l2: 0.230363 + 0.0485634\n",
      "[400]\tcv_agg's l2: 0.232343 + 0.0493364\n"
     ]
    },
    {
     "name": "stderr",
     "output_type": "stream",
     "text": [
      "feature_fraction, val_score: 0.224032: 100%|#############################################| 7/7 [00:11<00:00,  1.92s/it][I 2023-11-09 13:19:33,200] Trial 6 finished with value: 0.23109968183964855 and parameters: {'feature_fraction': 0.8999999999999999}. Best is trial 1 with value: 0.22403217386725002.\n",
      "feature_fraction, val_score: 0.224032: 100%|#############################################| 7/7 [00:12<00:00,  1.71s/it]\n"
     ]
    },
    {
     "name": "stdout",
     "output_type": "stream",
     "text": [
      "Early stopping, best iteration is:\n",
      "[349]\tcv_agg's l2: 0.224032 + 0.0386976\n"
     ]
    },
    {
     "name": "stderr",
     "output_type": "stream",
     "text": [
      "num_leaves, val_score: 0.224032:   0%|                                                          | 0/20 [00:00<?, ?it/s]"
     ]
    },
    {
     "name": "stdout",
     "output_type": "stream",
     "text": [
      "[100]\tcv_agg's l2: 0.234682 + 0.0338797\n",
      "[200]\tcv_agg's l2: 0.226131 + 0.037056\n",
      "[300]\tcv_agg's l2: 0.22466 + 0.0382514\n",
      "[400]\tcv_agg's l2: 0.225133 + 0.0394947\n"
     ]
    },
    {
     "name": "stderr",
     "output_type": "stream",
     "text": [
      "num_leaves, val_score: 0.224032:   5%|##5                                               | 1/20 [00:03<01:02,  3.28s/it][I 2023-11-09 13:19:36,484] Trial 7 finished with value: 0.22403217386725002 and parameters: {'num_leaves': 163}. Best is trial 7 with value: 0.22403217386725002.\n",
      "num_leaves, val_score: 0.224032:   5%|##5                                               | 1/20 [00:03<01:02,  3.28s/it]"
     ]
    },
    {
     "name": "stdout",
     "output_type": "stream",
     "text": [
      "Early stopping, best iteration is:\n",
      "[349]\tcv_agg's l2: 0.224032 + 0.0386976\n",
      "[100]\tcv_agg's l2: 0.234682 + 0.0338797\n",
      "[200]\tcv_agg's l2: 0.226131 + 0.037056\n",
      "[300]\tcv_agg's l2: 0.22466 + 0.0382514\n",
      "[400]\tcv_agg's l2: 0.225133 + 0.0394947\n"
     ]
    },
    {
     "name": "stderr",
     "output_type": "stream",
     "text": [
      "num_leaves, val_score: 0.224032:  10%|#####                                             | 2/20 [00:06<00:54,  3.04s/it][I 2023-11-09 13:19:39,363] Trial 8 finished with value: 0.22403217386725002 and parameters: {'num_leaves': 85}. Best is trial 7 with value: 0.22403217386725002.\n",
      "num_leaves, val_score: 0.224032:  10%|#####                                             | 2/20 [00:06<00:54,  3.04s/it]"
     ]
    },
    {
     "name": "stdout",
     "output_type": "stream",
     "text": [
      "Early stopping, best iteration is:\n",
      "[349]\tcv_agg's l2: 0.224032 + 0.0386976\n",
      "[100]\tcv_agg's l2: 0.234682 + 0.0338797\n",
      "[200]\tcv_agg's l2: 0.226131 + 0.037056\n",
      "[300]\tcv_agg's l2: 0.22466 + 0.0382514\n",
      "[400]\tcv_agg's l2: 0.225133 + 0.0394947\n"
     ]
    },
    {
     "name": "stderr",
     "output_type": "stream",
     "text": [
      "num_leaves, val_score: 0.224032:  15%|#######5                                          | 3/20 [00:09<00:51,  3.05s/it][I 2023-11-09 13:19:42,411] Trial 9 finished with value: 0.22403217386725002 and parameters: {'num_leaves': 125}. Best is trial 7 with value: 0.22403217386725002.\n",
      "num_leaves, val_score: 0.224032:  15%|#######5                                          | 3/20 [00:09<00:51,  3.05s/it]"
     ]
    },
    {
     "name": "stdout",
     "output_type": "stream",
     "text": [
      "Early stopping, best iteration is:\n",
      "[349]\tcv_agg's l2: 0.224032 + 0.0386976\n",
      "[100]\tcv_agg's l2: 0.234682 + 0.0338797\n",
      "[200]\tcv_agg's l2: 0.226131 + 0.037056\n",
      "[300]\tcv_agg's l2: 0.22466 + 0.0382514\n",
      "[400]\tcv_agg's l2: 0.225133 + 0.0394947\n"
     ]
    },
    {
     "name": "stderr",
     "output_type": "stream",
     "text": [
      "num_leaves, val_score: 0.224032:  20%|##########                                        | 4/20 [00:12<00:49,  3.09s/it][I 2023-11-09 13:19:45,567] Trial 10 finished with value: 0.22403217386725002 and parameters: {'num_leaves': 248}. Best is trial 7 with value: 0.22403217386725002.\n",
      "num_leaves, val_score: 0.224032:  20%|##########                                        | 4/20 [00:12<00:49,  3.09s/it]"
     ]
    },
    {
     "name": "stdout",
     "output_type": "stream",
     "text": [
      "Early stopping, best iteration is:\n",
      "[349]\tcv_agg's l2: 0.224032 + 0.0386976\n",
      "[100]\tcv_agg's l2: 0.235852 + 0.0373545\n",
      "[200]\tcv_agg's l2: 0.223141 + 0.0354937\n",
      "[300]\tcv_agg's l2: 0.219912 + 0.0339794\n",
      "[400]\tcv_agg's l2: 0.217359 + 0.0313949\n"
     ]
    },
    {
     "name": "stderr",
     "output_type": "stream",
     "text": [
      "num_leaves, val_score: 0.216390:  25%|############5                                     | 5/20 [00:13<00:36,  2.45s/it][I 2023-11-09 13:19:46,884] Trial 11 finished with value: 0.21638979691343674 and parameters: {'num_leaves': 7}. Best is trial 11 with value: 0.21638979691343674.\n",
      "num_leaves, val_score: 0.216390:  25%|############5                                     | 5/20 [00:13<00:36,  2.45s/it]"
     ]
    },
    {
     "name": "stdout",
     "output_type": "stream",
     "text": [
      "[500]\tcv_agg's l2: 0.217064 + 0.0298628\n",
      "Early stopping, best iteration is:\n",
      "[455]\tcv_agg's l2: 0.21639 + 0.0299279\n",
      "[100]\tcv_agg's l2: 0.241615 + 0.0416734\n",
      "[200]\tcv_agg's l2: 0.227025 + 0.0407864\n",
      "[300]\tcv_agg's l2: 0.222554 + 0.0378673\n",
      "[400]\tcv_agg's l2: 0.219824 + 0.0359901\n",
      "[500]\tcv_agg's l2: 0.216988 + 0.0356074\n",
      "[600]\tcv_agg's l2: 0.215901 + 0.0338679\n",
      "[700]\tcv_agg's l2: 0.214468 + 0.0324025\n",
      "[800]\tcv_agg's l2: 0.214038 + 0.0308942\n",
      "[900]\tcv_agg's l2: 0.212611 + 0.0309677\n",
      "[1000]\tcv_agg's l2: 0.211318 + 0.0301444\n",
      "[1100]\tcv_agg's l2: 0.210616 + 0.029592\n",
      "[1200]\tcv_agg's l2: 0.210326 + 0.0291483\n"
     ]
    },
    {
     "name": "stderr",
     "output_type": "stream",
     "text": [
      "num_leaves, val_score: 0.210110:  30%|###############                                   | 6/20 [00:16<00:33,  2.41s/it][I 2023-11-09 13:19:49,223] Trial 12 finished with value: 0.21011021280162331 and parameters: {'num_leaves': 5}. Best is trial 12 with value: 0.21011021280162331.\n",
      "num_leaves, val_score: 0.210110:  30%|###############                                   | 6/20 [00:16<00:33,  2.41s/it]"
     ]
    },
    {
     "name": "stdout",
     "output_type": "stream",
     "text": [
      "Early stopping, best iteration is:\n",
      "[1123]\tcv_agg's l2: 0.21011 + 0.0294678\n",
      "[100]\tcv_agg's l2: 0.241615 + 0.0416734\n",
      "[200]\tcv_agg's l2: 0.227025 + 0.0407864\n",
      "[300]\tcv_agg's l2: 0.222554 + 0.0378673\n",
      "[400]\tcv_agg's l2: 0.219824 + 0.0359901\n",
      "[500]\tcv_agg's l2: 0.216988 + 0.0356074\n",
      "[600]\tcv_agg's l2: 0.215901 + 0.0338679\n",
      "[700]\tcv_agg's l2: 0.214468 + 0.0324025\n",
      "[800]\tcv_agg's l2: 0.214038 + 0.0308942\n",
      "[900]\tcv_agg's l2: 0.212611 + 0.0309677\n",
      "[1000]\tcv_agg's l2: 0.211318 + 0.0301444\n",
      "[1100]\tcv_agg's l2: 0.210616 + 0.029592\n",
      "[1200]\tcv_agg's l2: 0.210326 + 0.0291483\n"
     ]
    },
    {
     "name": "stderr",
     "output_type": "stream",
     "text": [
      "num_leaves, val_score: 0.210110:  35%|#################5                                | 7/20 [00:18<00:30,  2.36s/it][I 2023-11-09 13:19:51,472] Trial 13 finished with value: 0.21011021280162331 and parameters: {'num_leaves': 5}. Best is trial 12 with value: 0.21011021280162331.\n",
      "num_leaves, val_score: 0.210110:  35%|#################5                                | 7/20 [00:18<00:30,  2.36s/it]"
     ]
    },
    {
     "name": "stdout",
     "output_type": "stream",
     "text": [
      "Early stopping, best iteration is:\n",
      "[1123]\tcv_agg's l2: 0.21011 + 0.0294678\n",
      "[100]\tcv_agg's l2: 0.241615 + 0.0416734\n",
      "[200]\tcv_agg's l2: 0.227025 + 0.0407864\n",
      "[300]\tcv_agg's l2: 0.222554 + 0.0378673\n",
      "[400]\tcv_agg's l2: 0.219824 + 0.0359901\n",
      "[500]\tcv_agg's l2: 0.216988 + 0.0356074\n",
      "[600]\tcv_agg's l2: 0.215901 + 0.0338679\n",
      "[700]\tcv_agg's l2: 0.214468 + 0.0324025\n",
      "[800]\tcv_agg's l2: 0.214038 + 0.0308942\n",
      "[900]\tcv_agg's l2: 0.212611 + 0.0309677\n",
      "[1000]\tcv_agg's l2: 0.211318 + 0.0301444\n",
      "[1100]\tcv_agg's l2: 0.210616 + 0.029592\n"
     ]
    },
    {
     "name": "stderr",
     "output_type": "stream",
     "text": [
      "num_leaves, val_score: 0.210110:  40%|####################                              | 8/20 [00:20<00:28,  2.41s/it][I 2023-11-09 13:19:53,990] Trial 14 finished with value: 0.21011021280162331 and parameters: {'num_leaves': 5}. Best is trial 12 with value: 0.21011021280162331.\n",
      "num_leaves, val_score: 0.210110:  40%|####################                              | 8/20 [00:20<00:28,  2.41s/it]"
     ]
    },
    {
     "name": "stdout",
     "output_type": "stream",
     "text": [
      "[1200]\tcv_agg's l2: 0.210326 + 0.0291483\n",
      "Early stopping, best iteration is:\n",
      "[1123]\tcv_agg's l2: 0.21011 + 0.0294678\n",
      "[100]\tcv_agg's l2: 0.234682 + 0.0338797\n",
      "[200]\tcv_agg's l2: 0.226131 + 0.037056\n",
      "[300]\tcv_agg's l2: 0.22466 + 0.0382514\n",
      "[400]\tcv_agg's l2: 0.225133 + 0.0394947\n",
      "[500]\tcv_agg's l2: 0.226234 + 0.0403387\n",
      "[600]\tcv_agg's l2: 0.228207 + 0.0406027\n",
      "[700]\tcv_agg's l2: 0.229374 + 0.0403837\n",
      "[800]\tcv_agg's l2: 0.230701 + 0.040343\n",
      "[900]\tcv_agg's l2: 0.232112 + 0.0400878\n",
      "[1000]\tcv_agg's l2: 0.233124 + 0.040323\n",
      "[1100]\tcv_agg's l2: 0.234181 + 0.0403605\n",
      "[1200]\tcv_agg's l2: 0.235212 + 0.0399222\n"
     ]
    },
    {
     "name": "stderr",
     "output_type": "stream",
     "text": [
      "num_leaves, val_score: 0.210110:  45%|######################5                           | 9/20 [00:31<00:56,  5.11s/it][I 2023-11-09 13:20:05,049] Trial 15 finished with value: 0.2344522215223908 and parameters: {'num_leaves': 59}. Best is trial 12 with value: 0.21011021280162331.\n",
      "num_leaves, val_score: 0.210110:  45%|######################5                           | 9/20 [00:31<00:56,  5.11s/it]"
     ]
    },
    {
     "name": "stdout",
     "output_type": "stream",
     "text": [
      "Early stopping, best iteration is:\n",
      "[1123]\tcv_agg's l2: 0.21011 + 0.0294678\n",
      "[100]\tcv_agg's l2: 0.234682 + 0.0338797\n",
      "[200]\tcv_agg's l2: 0.226131 + 0.037056\n",
      "[300]\tcv_agg's l2: 0.22466 + 0.0382514\n",
      "[400]\tcv_agg's l2: 0.225133 + 0.0394947\n",
      "[500]\tcv_agg's l2: 0.226234 + 0.0403387\n",
      "[600]\tcv_agg's l2: 0.228207 + 0.0406027\n",
      "[700]\tcv_agg's l2: 0.229374 + 0.0403837\n",
      "[800]\tcv_agg's l2: 0.230701 + 0.040343\n",
      "[900]\tcv_agg's l2: 0.232112 + 0.0400878\n",
      "[1000]\tcv_agg's l2: 0.233124 + 0.040323\n",
      "[1100]\tcv_agg's l2: 0.234181 + 0.0403605\n",
      "[1200]\tcv_agg's l2: 0.235212 + 0.0399222\n"
     ]
    },
    {
     "name": "stderr",
     "output_type": "stream",
     "text": [
      "num_leaves, val_score: 0.210110:  50%|########################5                        | 10/20 [00:45<01:17,  7.75s/it][I 2023-11-09 13:20:18,705] Trial 16 finished with value: 0.2344522215223908 and parameters: {'num_leaves': 57}. Best is trial 12 with value: 0.21011021280162331.\n",
      "num_leaves, val_score: 0.210110:  50%|########################5                        | 10/20 [00:45<01:17,  7.75s/it]"
     ]
    },
    {
     "name": "stdout",
     "output_type": "stream",
     "text": [
      "Early stopping, best iteration is:\n",
      "[1123]\tcv_agg's l2: 0.21011 + 0.0294678\n",
      "[100]\tcv_agg's l2: 0.353035 + 0.0659078\n",
      "[200]\tcv_agg's l2: 0.312899 + 0.0642578\n",
      "[300]\tcv_agg's l2: 0.301933 + 0.0645596\n",
      "[400]\tcv_agg's l2: 0.299229 + 0.0647634\n",
      "[500]\tcv_agg's l2: 0.296951 + 0.0649927\n",
      "[600]\tcv_agg's l2: 0.295586 + 0.0654638\n",
      "[700]\tcv_agg's l2: 0.29475 + 0.0652585\n",
      "[800]\tcv_agg's l2: 0.293671 + 0.0651303\n",
      "[900]\tcv_agg's l2: 0.292873 + 0.0646998\n",
      "[1000]\tcv_agg's l2: 0.292041 + 0.0644776\n",
      "[1100]\tcv_agg's l2: 0.291459 + 0.0641247\n"
     ]
    },
    {
     "name": "stderr",
     "output_type": "stream",
     "text": [
      "num_leaves, val_score: 0.210110:  55%|##########################9                      | 11/20 [00:47<00:53,  5.93s/it][I 2023-11-09 13:20:20,523] Trial 17 finished with value: 0.2914008895718559 and parameters: {'num_leaves': 2}. Best is trial 12 with value: 0.21011021280162331.\n",
      "num_leaves, val_score: 0.210110:  55%|##########################9                      | 11/20 [00:47<00:53,  5.93s/it]"
     ]
    },
    {
     "name": "stdout",
     "output_type": "stream",
     "text": [
      "[1200]\tcv_agg's l2: 0.290597 + 0.0636897\n",
      "Early stopping, best iteration is:\n",
      "[1123]\tcv_agg's l2: 0.21011 + 0.0294678\n",
      "[100]\tcv_agg's l2: 0.234682 + 0.0338797\n",
      "[200]\tcv_agg's l2: 0.226131 + 0.037056\n",
      "[300]\tcv_agg's l2: 0.22466 + 0.0382514\n",
      "[400]\tcv_agg's l2: 0.225133 + 0.0394947\n",
      "[500]\tcv_agg's l2: 0.226234 + 0.0403387\n",
      "[600]\tcv_agg's l2: 0.228207 + 0.0406027\n",
      "[700]\tcv_agg's l2: 0.229374 + 0.0403837\n",
      "[800]\tcv_agg's l2: 0.230701 + 0.040343\n",
      "[900]\tcv_agg's l2: 0.232112 + 0.0400878\n",
      "[1000]\tcv_agg's l2: 0.233124 + 0.040323\n",
      "[1100]\tcv_agg's l2: 0.234181 + 0.0403605\n",
      "[1200]\tcv_agg's l2: 0.235212 + 0.0399222\n"
     ]
    },
    {
     "name": "stderr",
     "output_type": "stream",
     "text": [
      "num_leaves, val_score: 0.210110:  60%|#############################4                   | 12/20 [01:00<01:04,  8.11s/it][I 2023-11-09 13:20:33,607] Trial 18 finished with value: 0.2344522215223908 and parameters: {'num_leaves': 58}. Best is trial 12 with value: 0.21011021280162331.\n",
      "num_leaves, val_score: 0.210110:  60%|#############################4                   | 12/20 [01:00<01:04,  8.11s/it]"
     ]
    },
    {
     "name": "stdout",
     "output_type": "stream",
     "text": [
      "Early stopping, best iteration is:\n",
      "[1123]\tcv_agg's l2: 0.21011 + 0.0294678\n",
      "[100]\tcv_agg's l2: 0.234682 + 0.0338797\n",
      "[200]\tcv_agg's l2: 0.226131 + 0.037056\n",
      "[300]\tcv_agg's l2: 0.22466 + 0.0382514\n",
      "[400]\tcv_agg's l2: 0.225133 + 0.0394947\n",
      "[500]\tcv_agg's l2: 0.226234 + 0.0403387\n",
      "[600]\tcv_agg's l2: 0.228207 + 0.0406027\n",
      "[700]\tcv_agg's l2: 0.229374 + 0.0403837\n",
      "[800]\tcv_agg's l2: 0.230701 + 0.040343\n",
      "[900]\tcv_agg's l2: 0.232112 + 0.0400878\n",
      "[1000]\tcv_agg's l2: 0.233124 + 0.040323\n",
      "[1100]\tcv_agg's l2: 0.234181 + 0.0403605\n",
      "[1200]\tcv_agg's l2: 0.235212 + 0.0399222\n"
     ]
    },
    {
     "name": "stderr",
     "output_type": "stream",
     "text": [
      "num_leaves, val_score: 0.210110:  65%|###############################8                 | 13/20 [01:14<01:10, 10.05s/it][I 2023-11-09 13:20:48,110] Trial 19 finished with value: 0.2344522215223908 and parameters: {'num_leaves': 178}. Best is trial 12 with value: 0.21011021280162331.\n",
      "num_leaves, val_score: 0.210110:  65%|###############################8                 | 13/20 [01:14<01:10, 10.05s/it]"
     ]
    },
    {
     "name": "stdout",
     "output_type": "stream",
     "text": [
      "Early stopping, best iteration is:\n",
      "[1123]\tcv_agg's l2: 0.21011 + 0.0294678\n",
      "[100]\tcv_agg's l2: 0.234682 + 0.0338797\n",
      "[200]\tcv_agg's l2: 0.226131 + 0.037056\n",
      "[300]\tcv_agg's l2: 0.22466 + 0.0382514\n",
      "[400]\tcv_agg's l2: 0.225133 + 0.0394947\n",
      "[500]\tcv_agg's l2: 0.226234 + 0.0403387\n",
      "[600]\tcv_agg's l2: 0.228207 + 0.0406027\n",
      "[700]\tcv_agg's l2: 0.229374 + 0.0403837\n",
      "[800]\tcv_agg's l2: 0.230701 + 0.040343\n",
      "[900]\tcv_agg's l2: 0.232112 + 0.0400878\n",
      "[1000]\tcv_agg's l2: 0.233124 + 0.040323\n",
      "[1100]\tcv_agg's l2: 0.234181 + 0.0403605\n",
      "[1200]\tcv_agg's l2: 0.235212 + 0.0399222\n"
     ]
    },
    {
     "name": "stderr",
     "output_type": "stream",
     "text": [
      "num_leaves, val_score: 0.210110:  70%|##################################3              | 14/20 [01:31<01:11, 11.98s/it][I 2023-11-09 13:21:04,571] Trial 20 finished with value: 0.2344522215223908 and parameters: {'num_leaves': 37}. Best is trial 12 with value: 0.21011021280162331.\n",
      "num_leaves, val_score: 0.210110:  70%|##################################3              | 14/20 [01:31<01:11, 11.98s/it]"
     ]
    },
    {
     "name": "stdout",
     "output_type": "stream",
     "text": [
      "Early stopping, best iteration is:\n",
      "[1123]\tcv_agg's l2: 0.21011 + 0.0294678\n",
      "[100]\tcv_agg's l2: 0.241615 + 0.0416734\n",
      "[200]\tcv_agg's l2: 0.227025 + 0.0407864\n",
      "[300]\tcv_agg's l2: 0.222554 + 0.0378673\n",
      "[400]\tcv_agg's l2: 0.219824 + 0.0359901\n",
      "[500]\tcv_agg's l2: 0.216988 + 0.0356074\n",
      "[600]\tcv_agg's l2: 0.215901 + 0.0338679\n",
      "[700]\tcv_agg's l2: 0.214468 + 0.0324025\n",
      "[800]\tcv_agg's l2: 0.214038 + 0.0308942\n",
      "[900]\tcv_agg's l2: 0.212611 + 0.0309677\n",
      "[1000]\tcv_agg's l2: 0.211318 + 0.0301444\n",
      "[1100]\tcv_agg's l2: 0.210616 + 0.029592\n"
     ]
    },
    {
     "name": "stderr",
     "output_type": "stream",
     "text": [
      "num_leaves, val_score: 0.210110:  75%|####################################7            | 15/20 [01:35<00:48,  9.67s/it][I 2023-11-09 13:21:08,880] Trial 21 finished with value: 0.21011021280162331 and parameters: {'num_leaves': 5}. Best is trial 12 with value: 0.21011021280162331.\n",
      "num_leaves, val_score: 0.210110:  75%|####################################7            | 15/20 [01:35<00:48,  9.67s/it]"
     ]
    },
    {
     "name": "stdout",
     "output_type": "stream",
     "text": [
      "[1200]\tcv_agg's l2: 0.210326 + 0.0291483\n",
      "Early stopping, best iteration is:\n",
      "[1123]\tcv_agg's l2: 0.21011 + 0.0294678\n",
      "[100]\tcv_agg's l2: 0.234682 + 0.0338797\n",
      "[200]\tcv_agg's l2: 0.226131 + 0.037056\n",
      "[300]\tcv_agg's l2: 0.22466 + 0.0382514\n",
      "[400]\tcv_agg's l2: 0.225133 + 0.0394947\n",
      "[500]\tcv_agg's l2: 0.226234 + 0.0403387\n",
      "[600]\tcv_agg's l2: 0.228207 + 0.0406027\n",
      "[700]\tcv_agg's l2: 0.229374 + 0.0403837\n",
      "[800]\tcv_agg's l2: 0.230701 + 0.040343\n",
      "[900]\tcv_agg's l2: 0.232112 + 0.0400878\n",
      "[1000]\tcv_agg's l2: 0.233124 + 0.040323\n",
      "[1100]\tcv_agg's l2: 0.234181 + 0.0403605\n",
      "[1200]\tcv_agg's l2: 0.235212 + 0.0399222\n"
     ]
    },
    {
     "name": "stderr",
     "output_type": "stream",
     "text": [
      "num_leaves, val_score: 0.210110:  80%|#######################################2         | 16/20 [01:53<00:48, 12.16s/it][I 2023-11-09 13:21:26,824] Trial 22 finished with value: 0.2344522215223908 and parameters: {'num_leaves': 31}. Best is trial 12 with value: 0.21011021280162331.\n",
      "num_leaves, val_score: 0.210110:  80%|#######################################2         | 16/20 [01:53<00:48, 12.16s/it]"
     ]
    },
    {
     "name": "stdout",
     "output_type": "stream",
     "text": [
      "Early stopping, best iteration is:\n",
      "[1123]\tcv_agg's l2: 0.21011 + 0.0294678\n",
      "[100]\tcv_agg's l2: 0.234682 + 0.0338797\n",
      "[200]\tcv_agg's l2: 0.226131 + 0.037056\n",
      "[300]\tcv_agg's l2: 0.22466 + 0.0382514\n",
      "[400]\tcv_agg's l2: 0.225133 + 0.0394947\n",
      "[500]\tcv_agg's l2: 0.226234 + 0.0403387\n",
      "[600]\tcv_agg's l2: 0.228207 + 0.0406027\n",
      "[700]\tcv_agg's l2: 0.229374 + 0.0403837\n",
      "[800]\tcv_agg's l2: 0.230701 + 0.040343\n",
      "[900]\tcv_agg's l2: 0.232112 + 0.0400878\n",
      "[1000]\tcv_agg's l2: 0.233124 + 0.040323\n",
      "[1100]\tcv_agg's l2: 0.234181 + 0.0403605\n",
      "[1200]\tcv_agg's l2: 0.235212 + 0.0399222\n"
     ]
    },
    {
     "name": "stderr",
     "output_type": "stream",
     "text": [
      "num_leaves, val_score: 0.210110:  85%|#########################################6       | 17/20 [02:12<00:42, 14.25s/it][I 2023-11-09 13:21:45,934] Trial 23 finished with value: 0.2344522215223908 and parameters: {'num_leaves': 94}. Best is trial 12 with value: 0.21011021280162331.\n",
      "num_leaves, val_score: 0.210110:  85%|#########################################6       | 17/20 [02:12<00:42, 14.25s/it]"
     ]
    },
    {
     "name": "stdout",
     "output_type": "stream",
     "text": [
      "Early stopping, best iteration is:\n",
      "[1123]\tcv_agg's l2: 0.21011 + 0.0294678\n",
      "[100]\tcv_agg's l2: 0.234682 + 0.0338797\n",
      "[200]\tcv_agg's l2: 0.226131 + 0.037056\n",
      "[300]\tcv_agg's l2: 0.22466 + 0.0382514\n",
      "[400]\tcv_agg's l2: 0.225133 + 0.0394947\n",
      "[500]\tcv_agg's l2: 0.226234 + 0.0403387\n",
      "[600]\tcv_agg's l2: 0.228207 + 0.0406027\n",
      "[700]\tcv_agg's l2: 0.229374 + 0.0403837\n",
      "[800]\tcv_agg's l2: 0.230701 + 0.040343\n",
      "[900]\tcv_agg's l2: 0.232112 + 0.0400878\n",
      "[1000]\tcv_agg's l2: 0.233124 + 0.040323\n",
      "[1100]\tcv_agg's l2: 0.234181 + 0.0403605\n",
      "[1200]\tcv_agg's l2: 0.235212 + 0.0399222\n"
     ]
    },
    {
     "name": "stderr",
     "output_type": "stream",
     "text": [
      "num_leaves, val_score: 0.210110:  90%|############################################1    | 18/20 [02:29<00:29, 14.90s/it][I 2023-11-09 13:22:02,360] Trial 24 finished with value: 0.2344522215223908 and parameters: {'num_leaves': 40}. Best is trial 12 with value: 0.21011021280162331.\n",
      "num_leaves, val_score: 0.210110:  90%|############################################1    | 18/20 [02:29<00:29, 14.90s/it]"
     ]
    },
    {
     "name": "stdout",
     "output_type": "stream",
     "text": [
      "Early stopping, best iteration is:\n",
      "[1123]\tcv_agg's l2: 0.21011 + 0.0294678\n",
      "[100]\tcv_agg's l2: 0.231042 + 0.0390821\n",
      "[200]\tcv_agg's l2: 0.224912 + 0.0413987\n",
      "[300]\tcv_agg's l2: 0.223046 + 0.040736\n",
      "[400]\tcv_agg's l2: 0.223302 + 0.041425\n",
      "[500]\tcv_agg's l2: 0.224002 + 0.0416891\n",
      "[600]\tcv_agg's l2: 0.225403 + 0.0426484\n",
      "[700]\tcv_agg's l2: 0.228034 + 0.0427027\n",
      "[800]\tcv_agg's l2: 0.22939 + 0.0429864\n",
      "[900]\tcv_agg's l2: 0.23076 + 0.0429391\n",
      "[1000]\tcv_agg's l2: 0.231935 + 0.0426042\n",
      "[1100]\tcv_agg's l2: 0.233204 + 0.0425809\n",
      "[1200]\tcv_agg's l2: 0.2342 + 0.0425827\n"
     ]
    },
    {
     "name": "stderr",
     "output_type": "stream",
     "text": [
      "num_leaves, val_score: 0.210110:  95%|##############################################5  | 19/20 [02:43<00:14, 14.73s/it][I 2023-11-09 13:22:16,684] Trial 25 finished with value: 0.2333770134813614 and parameters: {'num_leaves': 22}. Best is trial 12 with value: 0.21011021280162331.\n",
      "num_leaves, val_score: 0.210110:  95%|##############################################5  | 19/20 [02:43<00:14, 14.73s/it]"
     ]
    },
    {
     "name": "stdout",
     "output_type": "stream",
     "text": [
      "Early stopping, best iteration is:\n",
      "[1123]\tcv_agg's l2: 0.21011 + 0.0294678\n",
      "[100]\tcv_agg's l2: 0.234682 + 0.0338797\n",
      "[200]\tcv_agg's l2: 0.226131 + 0.037056\n",
      "[300]\tcv_agg's l2: 0.22466 + 0.0382514\n",
      "[400]\tcv_agg's l2: 0.225133 + 0.0394947\n",
      "[500]\tcv_agg's l2: 0.226234 + 0.0403387\n",
      "[600]\tcv_agg's l2: 0.228207 + 0.0406027\n",
      "[700]\tcv_agg's l2: 0.229374 + 0.0403837\n",
      "[800]\tcv_agg's l2: 0.230701 + 0.040343\n",
      "[900]\tcv_agg's l2: 0.232112 + 0.0400878\n",
      "[1000]\tcv_agg's l2: 0.233124 + 0.040323\n",
      "[1100]\tcv_agg's l2: 0.234181 + 0.0403605\n",
      "[1200]\tcv_agg's l2: 0.235212 + 0.0399222\n"
     ]
    },
    {
     "name": "stderr",
     "output_type": "stream",
     "text": [
      "num_leaves, val_score: 0.210110: 100%|#################################################| 20/20 [02:58<00:00, 14.86s/it][I 2023-11-09 13:22:31,855] Trial 26 finished with value: 0.2344522215223908 and parameters: {'num_leaves': 87}. Best is trial 12 with value: 0.21011021280162331.\n",
      "num_leaves, val_score: 0.210110: 100%|#################################################| 20/20 [02:58<00:00,  8.93s/it]\n"
     ]
    },
    {
     "name": "stdout",
     "output_type": "stream",
     "text": [
      "Early stopping, best iteration is:\n",
      "[1123]\tcv_agg's l2: 0.21011 + 0.0294678\n"
     ]
    },
    {
     "name": "stderr",
     "output_type": "stream",
     "text": [
      "bagging, val_score: 0.210110:   0%|                                                             | 0/10 [00:00<?, ?it/s]"
     ]
    },
    {
     "name": "stdout",
     "output_type": "stream",
     "text": [
      "[100]\tcv_agg's l2: 0.286168 + 0.0639086\n",
      "[200]\tcv_agg's l2: 0.268136 + 0.0621633\n",
      "[300]\tcv_agg's l2: 0.258317 + 0.0632051\n",
      "[400]\tcv_agg's l2: 0.25146 + 0.0622954\n",
      "[500]\tcv_agg's l2: 0.246984 + 0.0590986\n",
      "[600]\tcv_agg's l2: 0.24242 + 0.0582752\n",
      "[700]\tcv_agg's l2: 0.23954 + 0.0556529\n",
      "[800]\tcv_agg's l2: 0.237091 + 0.0568881\n",
      "[900]\tcv_agg's l2: 0.23449 + 0.0533583\n",
      "[1000]\tcv_agg's l2: 0.233116 + 0.0513873\n",
      "[1100]\tcv_agg's l2: 0.229191 + 0.050116\n"
     ]
    },
    {
     "name": "stderr",
     "output_type": "stream",
     "text": [
      "bagging, val_score: 0.210110:  10%|#####3                                               | 1/10 [00:04<00:44,  4.92s/it][I 2023-11-09 13:22:36,780] Trial 27 finished with value: 0.23114953930271245 and parameters: {'bagging_fraction': 0.6444196504186592, 'bagging_freq': 3}. Best is trial 27 with value: 0.23114953930271245.\n",
      "bagging, val_score: 0.210110:  10%|#####3                                               | 1/10 [00:04<00:44,  4.92s/it]"
     ]
    },
    {
     "name": "stdout",
     "output_type": "stream",
     "text": [
      "[1200]\tcv_agg's l2: 0.227735 + 0.0508494\n",
      "Early stopping, best iteration is:\n",
      "[1123]\tcv_agg's l2: 0.21011 + 0.0294678\n",
      "[100]\tcv_agg's l2: 0.241304 + 0.0393725\n",
      "[200]\tcv_agg's l2: 0.228468 + 0.0369545\n",
      "[300]\tcv_agg's l2: 0.22334 + 0.0334066\n",
      "[400]\tcv_agg's l2: 0.217777 + 0.0323272\n",
      "[500]\tcv_agg's l2: 0.215276 + 0.0311436\n",
      "[600]\tcv_agg's l2: 0.213183 + 0.0308191\n",
      "[700]\tcv_agg's l2: 0.21156 + 0.0308411\n",
      "[800]\tcv_agg's l2: 0.210383 + 0.0312574\n"
     ]
    },
    {
     "name": "stderr",
     "output_type": "stream",
     "text": [
      "bagging, val_score: 0.209859:  20%|##########6                                          | 2/10 [00:09<00:35,  4.48s/it][I 2023-11-09 13:22:40,961] Trial 28 finished with value: 0.2098587095987532 and parameters: {'bagging_fraction': 0.9807576133328005, 'bagging_freq': 7}. Best is trial 28 with value: 0.2098587095987532.\n",
      "bagging, val_score: 0.209859:  20%|##########6                                          | 2/10 [00:09<00:35,  4.48s/it]"
     ]
    },
    {
     "name": "stdout",
     "output_type": "stream",
     "text": [
      "[900]\tcv_agg's l2: 0.210817 + 0.0317373\n",
      "Early stopping, best iteration is:\n",
      "[819]\tcv_agg's l2: 0.209859 + 0.03091\n",
      "[100]\tcv_agg's l2: 0.242868 + 0.0390811\n",
      "[200]\tcv_agg's l2: 0.228137 + 0.0389859\n",
      "[300]\tcv_agg's l2: 0.22389 + 0.036405\n",
      "[400]\tcv_agg's l2: 0.219292 + 0.0351033\n",
      "[500]\tcv_agg's l2: 0.216725 + 0.0344288\n",
      "[600]\tcv_agg's l2: 0.215307 + 0.0330946\n",
      "[700]\tcv_agg's l2: 0.214743 + 0.0331299\n",
      "[800]\tcv_agg's l2: 0.212526 + 0.0342828\n"
     ]
    },
    {
     "name": "stderr",
     "output_type": "stream",
     "text": [
      "bagging, val_score: 0.209859:  30%|###############9                                     | 3/10 [00:12<00:28,  4.05s/it][I 2023-11-09 13:22:44,491] Trial 29 finished with value: 0.2118348683142936 and parameters: {'bagging_fraction': 0.9816478742159495, 'bagging_freq': 7}. Best is trial 28 with value: 0.2098587095987532.\n",
      "bagging, val_score: 0.209859:  30%|###############9                                     | 3/10 [00:12<00:28,  4.05s/it]"
     ]
    },
    {
     "name": "stdout",
     "output_type": "stream",
     "text": [
      "[900]\tcv_agg's l2: 0.211627 + 0.0342979\n",
      "Early stopping, best iteration is:\n",
      "[819]\tcv_agg's l2: 0.209859 + 0.03091\n",
      "[100]\tcv_agg's l2: 0.240842 + 0.0414522\n",
      "[200]\tcv_agg's l2: 0.222895 + 0.0403738\n",
      "[300]\tcv_agg's l2: 0.216882 + 0.035861\n",
      "[400]\tcv_agg's l2: 0.21464 + 0.0333069\n",
      "[500]\tcv_agg's l2: 0.2121 + 0.0324623\n",
      "[600]\tcv_agg's l2: 0.210841 + 0.0320835\n",
      "[700]\tcv_agg's l2: 0.210354 + 0.0321083\n",
      "[800]\tcv_agg's l2: 0.209831 + 0.0321115\n",
      "[900]\tcv_agg's l2: 0.209269 + 0.0313147\n",
      "[1000]\tcv_agg's l2: 0.208996 + 0.0313538\n",
      "[1100]\tcv_agg's l2: 0.208793 + 0.0314337\n"
     ]
    },
    {
     "name": "stderr",
     "output_type": "stream",
     "text": [
      "bagging, val_score: 0.208017:  40%|#####################2                               | 4/10 [00:18<00:28,  4.75s/it][I 2023-11-09 13:22:50,327] Trial 30 finished with value: 0.20801710787780392 and parameters: {'bagging_fraction': 0.9975357180778126, 'bagging_freq': 7}. Best is trial 30 with value: 0.20801710787780392.\n",
      "bagging, val_score: 0.208017:  40%|#####################2                               | 4/10 [00:18<00:28,  4.75s/it]"
     ]
    },
    {
     "name": "stdout",
     "output_type": "stream",
     "text": [
      "[1200]\tcv_agg's l2: 0.208336 + 0.0309529\n",
      "Early stopping, best iteration is:\n",
      "[1141]\tcv_agg's l2: 0.208017 + 0.0311318\n",
      "[100]\tcv_agg's l2: 0.240842 + 0.0414522\n",
      "[200]\tcv_agg's l2: 0.222895 + 0.0403738\n",
      "[300]\tcv_agg's l2: 0.216882 + 0.035861\n",
      "[400]\tcv_agg's l2: 0.21464 + 0.0333069\n",
      "[500]\tcv_agg's l2: 0.2121 + 0.0324623\n",
      "[600]\tcv_agg's l2: 0.210841 + 0.0320835\n",
      "[700]\tcv_agg's l2: 0.210354 + 0.0321083\n",
      "[800]\tcv_agg's l2: 0.209831 + 0.0321115\n",
      "[900]\tcv_agg's l2: 0.209269 + 0.0313147\n",
      "[1000]\tcv_agg's l2: 0.208996 + 0.0313538\n",
      "[1100]\tcv_agg's l2: 0.208793 + 0.0314337\n",
      "[1200]\tcv_agg's l2: 0.208336 + 0.0309529\n",
      "Early stopping, best iteration is:\n",
      "[1141]\tcv_agg's l2: 0.208017 + 0.0311318\n"
     ]
    },
    {
     "name": "stderr",
     "output_type": "stream",
     "text": [
      "bagging, val_score: 0.208017:  50%|##########################5                          | 5/10 [00:24<00:26,  5.24s/it][I 2023-11-09 13:22:56,421] Trial 31 finished with value: 0.20801710787780392 and parameters: {'bagging_fraction': 0.9977243868726903, 'bagging_freq': 7}. Best is trial 30 with value: 0.20801710787780392.\n",
      "bagging, val_score: 0.208017:  50%|##########################5                          | 5/10 [00:24<00:26,  5.24s/it]"
     ]
    },
    {
     "name": "stdout",
     "output_type": "stream",
     "text": [
      "[100]\tcv_agg's l2: 0.241615 + 0.0416734\n",
      "[200]\tcv_agg's l2: 0.227025 + 0.0407864\n",
      "[300]\tcv_agg's l2: 0.222554 + 0.0378673\n",
      "[400]\tcv_agg's l2: 0.219824 + 0.0359901\n",
      "[500]\tcv_agg's l2: 0.216988 + 0.0356074\n",
      "[600]\tcv_agg's l2: 0.215901 + 0.0338679\n",
      "[700]\tcv_agg's l2: 0.214468 + 0.0324025\n",
      "[800]\tcv_agg's l2: 0.214038 + 0.0308942\n",
      "[900]\tcv_agg's l2: 0.212611 + 0.0309677\n",
      "[1000]\tcv_agg's l2: 0.211318 + 0.0301444\n",
      "[1100]\tcv_agg's l2: 0.210616 + 0.029592\n"
     ]
    },
    {
     "name": "stderr",
     "output_type": "stream",
     "text": [
      "bagging, val_score: 0.208017:  60%|###############################8                     | 6/10 [00:30<00:21,  5.33s/it][I 2023-11-09 13:23:01,920] Trial 32 finished with value: 0.2106154514406895 and parameters: {'bagging_fraction': 0.9984522997660469, 'bagging_freq': 7}. Best is trial 30 with value: 0.20801710787780392.\n",
      "bagging, val_score: 0.208017:  60%|###############################8                     | 6/10 [00:30<00:21,  5.33s/it]"
     ]
    },
    {
     "name": "stdout",
     "output_type": "stream",
     "text": [
      "[1200]\tcv_agg's l2: 0.210326 + 0.0291483\n",
      "Early stopping, best iteration is:\n",
      "[1141]\tcv_agg's l2: 0.208017 + 0.0311318\n",
      "[100]\tcv_agg's l2: 0.242513 + 0.0365212\n",
      "[200]\tcv_agg's l2: 0.229222 + 0.0395971\n",
      "[300]\tcv_agg's l2: 0.225092 + 0.0376531\n",
      "[400]\tcv_agg's l2: 0.221683 + 0.0355058\n",
      "[500]\tcv_agg's l2: 0.217423 + 0.0338062\n",
      "[600]\tcv_agg's l2: 0.215261 + 0.0330718\n",
      "[700]\tcv_agg's l2: 0.215382 + 0.0327614\n",
      "[800]\tcv_agg's l2: 0.214249 + 0.0329702\n",
      "[900]\tcv_agg's l2: 0.213485 + 0.0333055\n",
      "[1000]\tcv_agg's l2: 0.213401 + 0.032172\n",
      "[1100]\tcv_agg's l2: 0.213368 + 0.0318839\n",
      "[1200]\tcv_agg's l2: 0.212946 + 0.0316198\n"
     ]
    },
    {
     "name": "stderr",
     "output_type": "stream",
     "text": [
      "bagging, val_score: 0.208017:  70%|#####################################                | 7/10 [00:34<00:15,  5.19s/it][I 2023-11-09 13:23:06,837] Trial 33 finished with value: 0.21249224230329572 and parameters: {'bagging_fraction': 0.9853775119794953, 'bagging_freq': 7}. Best is trial 30 with value: 0.20801710787780392.\n",
      "bagging, val_score: 0.208017:  70%|#####################################                | 7/10 [00:34<00:15,  5.19s/it]"
     ]
    },
    {
     "name": "stdout",
     "output_type": "stream",
     "text": [
      "Early stopping, best iteration is:\n",
      "[1141]\tcv_agg's l2: 0.208017 + 0.0311318\n",
      "[100]\tcv_agg's l2: 0.259572 + 0.0453072\n",
      "[200]\tcv_agg's l2: 0.245133 + 0.0432165\n",
      "[300]\tcv_agg's l2: 0.2383 + 0.0422056\n",
      "[400]\tcv_agg's l2: 0.232682 + 0.0402238\n",
      "[500]\tcv_agg's l2: 0.23154 + 0.0396956\n",
      "[600]\tcv_agg's l2: 0.228565 + 0.0394341\n",
      "[700]\tcv_agg's l2: 0.225963 + 0.0373953\n",
      "[800]\tcv_agg's l2: 0.223674 + 0.0364363\n",
      "[900]\tcv_agg's l2: 0.222948 + 0.0351616\n",
      "[1000]\tcv_agg's l2: 0.220989 + 0.0345445\n",
      "[1100]\tcv_agg's l2: 0.220511 + 0.0328079\n",
      "[1200]\tcv_agg's l2: 0.219824 + 0.0326235\n"
     ]
    },
    {
     "name": "stderr",
     "output_type": "stream",
     "text": [
      "bagging, val_score: 0.208017:  80%|##########################################4          | 8/10 [00:41<00:11,  5.76s/it][I 2023-11-09 13:23:13,807] Trial 34 finished with value: 0.22108756491273934 and parameters: {'bagging_fraction': 0.860893330409075, 'bagging_freq': 5}. Best is trial 30 with value: 0.20801710787780392.\n",
      "bagging, val_score: 0.208017:  80%|##########################################4          | 8/10 [00:41<00:11,  5.76s/it]"
     ]
    },
    {
     "name": "stdout",
     "output_type": "stream",
     "text": [
      "Early stopping, best iteration is:\n",
      "[1141]\tcv_agg's l2: 0.208017 + 0.0311318\n",
      "[100]\tcv_agg's l2: 0.335096 + 0.0862621\n",
      "[200]\tcv_agg's l2: 0.310533 + 0.0713054\n",
      "[300]\tcv_agg's l2: 0.306739 + 0.074096\n",
      "[400]\tcv_agg's l2: 0.293703 + 0.073405\n",
      "[500]\tcv_agg's l2: 0.287848 + 0.0667676\n",
      "[600]\tcv_agg's l2: 0.289404 + 0.0701356\n",
      "[700]\tcv_agg's l2: 0.280426 + 0.0667252\n",
      "[800]\tcv_agg's l2: 0.277061 + 0.0680986\n",
      "[900]\tcv_agg's l2: 0.273515 + 0.0605463\n",
      "[1000]\tcv_agg's l2: 0.270324 + 0.0667781\n",
      "[1100]\tcv_agg's l2: 0.274039 + 0.0604727\n"
     ]
    },
    {
     "name": "stderr",
     "output_type": "stream",
     "text": [
      "bagging, val_score: 0.208017:  90%|###############################################7     | 9/10 [00:48<00:05,  5.95s/it][I 2023-11-09 13:23:20,193] Trial 35 finished with value: 0.2740698712241637 and parameters: {'bagging_fraction': 0.4112282760330419, 'bagging_freq': 5}. Best is trial 30 with value: 0.20801710787780392.\n",
      "bagging, val_score: 0.208017:  90%|###############################################7     | 9/10 [00:48<00:05,  5.95s/it]"
     ]
    },
    {
     "name": "stdout",
     "output_type": "stream",
     "text": [
      "[1200]\tcv_agg's l2: 0.270451 + 0.0605626\n",
      "Early stopping, best iteration is:\n",
      "[1141]\tcv_agg's l2: 0.208017 + 0.0311318\n",
      "[100]\tcv_agg's l2: 0.259935 + 0.0475322\n",
      "[200]\tcv_agg's l2: 0.243443 + 0.0455585\n",
      "[300]\tcv_agg's l2: 0.236301 + 0.0425274\n",
      "[400]\tcv_agg's l2: 0.231001 + 0.0388884\n",
      "[500]\tcv_agg's l2: 0.227278 + 0.0358027\n",
      "[600]\tcv_agg's l2: 0.224374 + 0.0350064\n",
      "[700]\tcv_agg's l2: 0.222346 + 0.0344105\n",
      "[800]\tcv_agg's l2: 0.220162 + 0.0346647\n",
      "[900]\tcv_agg's l2: 0.219242 + 0.0328178\n",
      "[1000]\tcv_agg's l2: 0.216981 + 0.0321773\n",
      "[1100]\tcv_agg's l2: 0.216605 + 0.0311081\n",
      "[1200]\tcv_agg's l2: 0.216147 + 0.0311051\n",
      "Early stopping, best iteration is:\n",
      "[1141]\tcv_agg's l2: 0.208017 + 0.0311318\n"
     ]
    },
    {
     "name": "stderr",
     "output_type": "stream",
     "text": [
      "bagging, val_score: 0.208017: 100%|####################################################| 10/10 [00:53<00:00,  5.63s/it][I 2023-11-09 13:23:25,088] Trial 36 finished with value: 0.2166468524415146 and parameters: {'bagging_fraction': 0.8885396974716567, 'bagging_freq': 1}. Best is trial 30 with value: 0.20801710787780392.\n",
      "bagging, val_score: 0.208017: 100%|####################################################| 10/10 [00:53<00:00,  5.32s/it]\n",
      "feature_fraction_stage2, val_score: 0.208017:   0%|                                              | 0/6 [00:00<?, ?it/s]"
     ]
    },
    {
     "name": "stdout",
     "output_type": "stream",
     "text": [
      "[100]\tcv_agg's l2: 0.299876 + 0.0566975\n",
      "[200]\tcv_agg's l2: 0.257708 + 0.052979\n",
      "[300]\tcv_agg's l2: 0.247756 + 0.0500703\n",
      "[400]\tcv_agg's l2: 0.24259 + 0.0459804\n",
      "[500]\tcv_agg's l2: 0.240118 + 0.0433511\n",
      "[600]\tcv_agg's l2: 0.237319 + 0.0411701\n",
      "[700]\tcv_agg's l2: 0.236045 + 0.0404831\n",
      "[800]\tcv_agg's l2: 0.234106 + 0.0395879\n",
      "[900]\tcv_agg's l2: 0.232534 + 0.0383073\n",
      "[1000]\tcv_agg's l2: 0.231787 + 0.037204\n",
      "[1100]\tcv_agg's l2: 0.230765 + 0.036948\n"
     ]
    },
    {
     "name": "stderr",
     "output_type": "stream",
     "text": [
      "feature_fraction_stage2, val_score: 0.208017:  17%|######3                               | 1/6 [00:04<00:21,  4.37s/it][I 2023-11-09 13:23:29,461] Trial 37 finished with value: 0.23078758560578846 and parameters: {'feature_fraction': 0.6839999999999999}. Best is trial 37 with value: 0.23078758560578846.\n",
      "feature_fraction_stage2, val_score: 0.208017:  17%|######3                               | 1/6 [00:04<00:21,  4.37s/it]"
     ]
    },
    {
     "name": "stdout",
     "output_type": "stream",
     "text": [
      "[1200]\tcv_agg's l2: 0.230284 + 0.0357695\n",
      "Early stopping, best iteration is:\n",
      "[1141]\tcv_agg's l2: 0.208017 + 0.0311318\n",
      "[100]\tcv_agg's l2: 0.299876 + 0.0566975\n",
      "[200]\tcv_agg's l2: 0.257708 + 0.052979\n",
      "[300]\tcv_agg's l2: 0.247756 + 0.0500703\n",
      "[400]\tcv_agg's l2: 0.24259 + 0.0459804\n",
      "[500]\tcv_agg's l2: 0.240118 + 0.0433511\n",
      "[600]\tcv_agg's l2: 0.237319 + 0.0411701\n",
      "[700]\tcv_agg's l2: 0.236045 + 0.0404831\n",
      "[800]\tcv_agg's l2: 0.234106 + 0.0395879\n",
      "[900]\tcv_agg's l2: 0.232534 + 0.0383073\n",
      "[1000]\tcv_agg's l2: 0.231787 + 0.037204\n",
      "[1100]\tcv_agg's l2: 0.230765 + 0.036948\n"
     ]
    },
    {
     "name": "stderr",
     "output_type": "stream",
     "text": [
      "feature_fraction_stage2, val_score: 0.208017:  33%|############6                         | 2/6 [00:08<00:17,  4.25s/it][I 2023-11-09 13:23:33,636] Trial 38 finished with value: 0.23078758560578846 and parameters: {'feature_fraction': 0.62}. Best is trial 37 with value: 0.23078758560578846.\n",
      "feature_fraction_stage2, val_score: 0.208017:  33%|############6                         | 2/6 [00:08<00:17,  4.25s/it]"
     ]
    },
    {
     "name": "stdout",
     "output_type": "stream",
     "text": [
      "[1200]\tcv_agg's l2: 0.230284 + 0.0357695\n",
      "Early stopping, best iteration is:\n",
      "[1141]\tcv_agg's l2: 0.208017 + 0.0311318\n",
      "[100]\tcv_agg's l2: 0.240842 + 0.0414522\n",
      "[200]\tcv_agg's l2: 0.222895 + 0.0403738\n",
      "[300]\tcv_agg's l2: 0.216882 + 0.035861\n",
      "[400]\tcv_agg's l2: 0.21464 + 0.0333069\n",
      "[500]\tcv_agg's l2: 0.2121 + 0.0324623\n",
      "[600]\tcv_agg's l2: 0.210841 + 0.0320835\n",
      "[700]\tcv_agg's l2: 0.210354 + 0.0321083\n",
      "[800]\tcv_agg's l2: 0.209831 + 0.0321115\n",
      "[900]\tcv_agg's l2: 0.209269 + 0.0313147\n",
      "[1000]\tcv_agg's l2: 0.208996 + 0.0313538\n",
      "[1100]\tcv_agg's l2: 0.208793 + 0.0314337\n"
     ]
    },
    {
     "name": "stderr",
     "output_type": "stream",
     "text": [
      "feature_fraction_stage2, val_score: 0.208017:  50%|###################                   | 3/6 [00:12<00:12,  4.22s/it][I 2023-11-09 13:23:37,806] Trial 39 finished with value: 0.20801710787780392 and parameters: {'feature_fraction': 0.716}. Best is trial 39 with value: 0.20801710787780392.\n",
      "feature_fraction_stage2, val_score: 0.208017:  50%|###################                   | 3/6 [00:12<00:12,  4.22s/it]"
     ]
    },
    {
     "name": "stdout",
     "output_type": "stream",
     "text": [
      "[1200]\tcv_agg's l2: 0.208336 + 0.0309529\n",
      "Early stopping, best iteration is:\n",
      "[1141]\tcv_agg's l2: 0.208017 + 0.0311318\n",
      "[100]\tcv_agg's l2: 0.299876 + 0.0566975\n",
      "[200]\tcv_agg's l2: 0.257708 + 0.052979\n",
      "[300]\tcv_agg's l2: 0.247756 + 0.0500703\n",
      "[400]\tcv_agg's l2: 0.24259 + 0.0459804\n",
      "[500]\tcv_agg's l2: 0.240118 + 0.0433511\n",
      "[600]\tcv_agg's l2: 0.237319 + 0.0411701\n",
      "[700]\tcv_agg's l2: 0.236045 + 0.0404831\n",
      "[800]\tcv_agg's l2: 0.234106 + 0.0395879\n",
      "[900]\tcv_agg's l2: 0.232534 + 0.0383073\n",
      "[1000]\tcv_agg's l2: 0.231787 + 0.037204\n",
      "[1100]\tcv_agg's l2: 0.230765 + 0.036948\n"
     ]
    },
    {
     "name": "stderr",
     "output_type": "stream",
     "text": [
      "feature_fraction_stage2, val_score: 0.208017:  67%|#########################3            | 4/6 [00:16<00:08,  4.23s/it][I 2023-11-09 13:23:42,053] Trial 40 finished with value: 0.23078758560578846 and parameters: {'feature_fraction': 0.652}. Best is trial 39 with value: 0.20801710787780392.\n",
      "feature_fraction_stage2, val_score: 0.208017:  67%|#########################3            | 4/6 [00:16<00:08,  4.23s/it]"
     ]
    },
    {
     "name": "stdout",
     "output_type": "stream",
     "text": [
      "[1200]\tcv_agg's l2: 0.230284 + 0.0357695\n",
      "Early stopping, best iteration is:\n",
      "[1141]\tcv_agg's l2: 0.208017 + 0.0311318\n",
      "[100]\tcv_agg's l2: 0.240842 + 0.0414522\n",
      "[200]\tcv_agg's l2: 0.222895 + 0.0403738\n",
      "[300]\tcv_agg's l2: 0.216882 + 0.035861\n",
      "[400]\tcv_agg's l2: 0.21464 + 0.0333069\n",
      "[500]\tcv_agg's l2: 0.2121 + 0.0324623\n",
      "[600]\tcv_agg's l2: 0.210841 + 0.0320835\n",
      "[700]\tcv_agg's l2: 0.210354 + 0.0321083\n",
      "[800]\tcv_agg's l2: 0.209831 + 0.0321115\n",
      "[900]\tcv_agg's l2: 0.209269 + 0.0313147\n",
      "[1000]\tcv_agg's l2: 0.208996 + 0.0313538\n",
      "[1100]\tcv_agg's l2: 0.208793 + 0.0314337\n"
     ]
    },
    {
     "name": "stderr",
     "output_type": "stream",
     "text": [
      "feature_fraction_stage2, val_score: 0.208017:  83%|###############################6      | 5/6 [00:22<00:04,  4.79s/it][I 2023-11-09 13:23:47,829] Trial 41 finished with value: 0.20801710787780392 and parameters: {'feature_fraction': 0.748}. Best is trial 39 with value: 0.20801710787780392.\n",
      "feature_fraction_stage2, val_score: 0.208017:  83%|###############################6      | 5/6 [00:22<00:04,  4.79s/it]"
     ]
    },
    {
     "name": "stdout",
     "output_type": "stream",
     "text": [
      "[1200]\tcv_agg's l2: 0.208336 + 0.0309529\n",
      "Early stopping, best iteration is:\n",
      "[1141]\tcv_agg's l2: 0.208017 + 0.0311318\n",
      "[100]\tcv_agg's l2: 0.240842 + 0.0414522\n",
      "[200]\tcv_agg's l2: 0.222895 + 0.0403738\n",
      "[300]\tcv_agg's l2: 0.216882 + 0.035861\n",
      "[400]\tcv_agg's l2: 0.21464 + 0.0333069\n",
      "[500]\tcv_agg's l2: 0.2121 + 0.0324623\n",
      "[600]\tcv_agg's l2: 0.210841 + 0.0320835\n",
      "[700]\tcv_agg's l2: 0.210354 + 0.0321083\n",
      "[800]\tcv_agg's l2: 0.209831 + 0.0321115\n",
      "[900]\tcv_agg's l2: 0.209269 + 0.0313147\n",
      "[1000]\tcv_agg's l2: 0.208996 + 0.0313538\n",
      "[1100]\tcv_agg's l2: 0.208793 + 0.0314337\n"
     ]
    },
    {
     "name": "stderr",
     "output_type": "stream",
     "text": [
      "feature_fraction_stage2, val_score: 0.208017: 100%|######################################| 6/6 [00:26<00:00,  4.52s/it][I 2023-11-09 13:23:51,824] Trial 42 finished with value: 0.20801710787780392 and parameters: {'feature_fraction': 0.7799999999999999}. Best is trial 39 with value: 0.20801710787780392.\n",
      "feature_fraction_stage2, val_score: 0.208017: 100%|######################################| 6/6 [00:26<00:00,  4.46s/it]\n"
     ]
    },
    {
     "name": "stdout",
     "output_type": "stream",
     "text": [
      "[1200]\tcv_agg's l2: 0.208336 + 0.0309529\n",
      "Early stopping, best iteration is:\n",
      "[1141]\tcv_agg's l2: 0.208017 + 0.0311318\n"
     ]
    },
    {
     "name": "stderr",
     "output_type": "stream",
     "text": [
      "regularization_factors, val_score: 0.208017:   0%|                                              | 0/20 [00:00<?, ?it/s]"
     ]
    },
    {
     "name": "stdout",
     "output_type": "stream",
     "text": [
      "[100]\tcv_agg's l2: 0.253116 + 0.0439404\n",
      "[200]\tcv_agg's l2: 0.237082 + 0.042042\n",
      "[300]\tcv_agg's l2: 0.229646 + 0.0382327\n",
      "[400]\tcv_agg's l2: 0.224356 + 0.035411\n",
      "[500]\tcv_agg's l2: 0.219528 + 0.033427\n",
      "[600]\tcv_agg's l2: 0.217688 + 0.0319629\n",
      "[700]\tcv_agg's l2: 0.216603 + 0.0313018\n",
      "[800]\tcv_agg's l2: 0.215587 + 0.0303955\n",
      "[900]\tcv_agg's l2: 0.214549 + 0.0302041\n",
      "[1000]\tcv_agg's l2: 0.213453 + 0.0299113\n",
      "[1100]\tcv_agg's l2: 0.212669 + 0.0288395\n"
     ]
    },
    {
     "name": "stderr",
     "output_type": "stream",
     "text": [
      "regularization_factors, val_score: 0.208017:   5%|#9                                    | 1/20 [00:03<01:10,  3.73s/it][I 2023-11-09 13:23:55,563] Trial 43 finished with value: 0.21317769660301034 and parameters: {'lambda_l1': 2.25136933105732e-06, 'lambda_l2': 4.333214140694863}. Best is trial 43 with value: 0.21317769660301034.\n",
      "regularization_factors, val_score: 0.208017:   5%|#9                                    | 1/20 [00:03<01:10,  3.73s/it]"
     ]
    },
    {
     "name": "stdout",
     "output_type": "stream",
     "text": [
      "[1200]\tcv_agg's l2: 0.212245 + 0.0285047\n",
      "Early stopping, best iteration is:\n",
      "[1141]\tcv_agg's l2: 0.208017 + 0.0311318\n",
      "[100]\tcv_agg's l2: 0.291105 + 0.052848\n",
      "[200]\tcv_agg's l2: 0.286443 + 0.0520987\n",
      "[300]\tcv_agg's l2: 0.286438 + 0.0521028\n",
      "[400]\tcv_agg's l2: 0.286438 + 0.0521028\n",
      "[500]\tcv_agg's l2: 0.286438 + 0.0521028\n",
      "[600]\tcv_agg's l2: 0.286438 + 0.0521028\n",
      "[700]\tcv_agg's l2: 0.286438 + 0.0521028\n",
      "[800]\tcv_agg's l2: 0.286438 + 0.0521028\n",
      "[900]\tcv_agg's l2: 0.286438 + 0.0521028\n",
      "[1000]\tcv_agg's l2: 0.286438 + 0.0521028\n",
      "[1100]\tcv_agg's l2: 0.286438 + 0.0521028\n"
     ]
    },
    {
     "name": "stderr",
     "output_type": "stream",
     "text": [
      "regularization_factors, val_score: 0.208017:  10%|###8                                  | 2/20 [00:05<00:49,  2.74s/it][I 2023-11-09 13:23:57,606] Trial 44 finished with value: 0.28643791566141363 and parameters: {'lambda_l1': 7.910078283797223, 'lambda_l2': 2.2141308290996222e-08}. Best is trial 43 with value: 0.21317769660301034.\n",
      "regularization_factors, val_score: 0.208017:  10%|###8                                  | 2/20 [00:05<00:49,  2.74s/it]"
     ]
    },
    {
     "name": "stdout",
     "output_type": "stream",
     "text": [
      "[1200]\tcv_agg's l2: 0.286438 + 0.0521028\n",
      "Early stopping, best iteration is:\n",
      "[1141]\tcv_agg's l2: 0.208017 + 0.0311318\n",
      "[100]\tcv_agg's l2: 0.240842 + 0.0414522\n",
      "[200]\tcv_agg's l2: 0.222895 + 0.0403738\n",
      "[300]\tcv_agg's l2: 0.216882 + 0.0358611\n",
      "[400]\tcv_agg's l2: 0.21464 + 0.0333069\n",
      "[500]\tcv_agg's l2: 0.211877 + 0.0325084\n",
      "[600]\tcv_agg's l2: 0.210789 + 0.0320956\n",
      "[700]\tcv_agg's l2: 0.21034 + 0.0321113\n",
      "[800]\tcv_agg's l2: 0.20982 + 0.032113\n",
      "[900]\tcv_agg's l2: 0.209452 + 0.0312872\n",
      "[1000]\tcv_agg's l2: 0.209298 + 0.0313227\n",
      "[1100]\tcv_agg's l2: 0.209288 + 0.0313974\n"
     ]
    },
    {
     "name": "stderr",
     "output_type": "stream",
     "text": [
      "regularization_factors, val_score: 0.208017:  15%|#####7                                | 3/20 [00:09<00:58,  3.42s/it][I 2023-11-09 13:24:01,830] Trial 45 finished with value: 0.20858062941936292 and parameters: {'lambda_l1': 2.6923247762573524e-08, 'lambda_l2': 0.00026814548266243727}. Best is trial 45 with value: 0.20858062941936292.\n",
      "regularization_factors, val_score: 0.208017:  15%|#####7                                | 3/20 [00:10<00:58,  3.42s/it]"
     ]
    },
    {
     "name": "stdout",
     "output_type": "stream",
     "text": [
      "[1200]\tcv_agg's l2: 0.208965 + 0.030914\n",
      "Early stopping, best iteration is:\n",
      "[1141]\tcv_agg's l2: 0.208017 + 0.0311318\n",
      "[100]\tcv_agg's l2: 0.241851 + 0.0424331\n",
      "[200]\tcv_agg's l2: 0.225595 + 0.0406552\n",
      "[300]\tcv_agg's l2: 0.220905 + 0.0395119\n",
      "[400]\tcv_agg's l2: 0.217006 + 0.0374411\n",
      "[500]\tcv_agg's l2: 0.215241 + 0.0361345\n",
      "[600]\tcv_agg's l2: 0.214529 + 0.0354177\n",
      "[700]\tcv_agg's l2: 0.214025 + 0.0342598\n",
      "[800]\tcv_agg's l2: 0.213036 + 0.032961\n",
      "[900]\tcv_agg's l2: 0.213665 + 0.0330528\n",
      "[1000]\tcv_agg's l2: 0.212265 + 0.0323558\n",
      "[1100]\tcv_agg's l2: 0.211774 + 0.0319593\n"
     ]
    },
    {
     "name": "stderr",
     "output_type": "stream",
     "text": [
      "regularization_factors, val_score: 0.208017:  20%|#######6                              | 4/20 [00:14<01:00,  3.78s/it][I 2023-11-09 13:24:06,169] Trial 46 finished with value: 0.21204946111924433 and parameters: {'lambda_l1': 0.008284156854921999, 'lambda_l2': 1.1402542328150244e-08}. Best is trial 45 with value: 0.20858062941936292.\n",
      "regularization_factors, val_score: 0.208017:  20%|#######6                              | 4/20 [00:14<01:00,  3.78s/it]"
     ]
    },
    {
     "name": "stdout",
     "output_type": "stream",
     "text": [
      "[1200]\tcv_agg's l2: 0.211551 + 0.0315036\n",
      "Early stopping, best iteration is:\n",
      "[1141]\tcv_agg's l2: 0.208017 + 0.0311318\n",
      "[100]\tcv_agg's l2: 0.252856 + 0.0401468\n",
      "[200]\tcv_agg's l2: 0.238699 + 0.038115\n",
      "[300]\tcv_agg's l2: 0.232842 + 0.0348972\n",
      "[400]\tcv_agg's l2: 0.227581 + 0.0321281\n",
      "[500]\tcv_agg's l2: 0.225496 + 0.029877\n",
      "[600]\tcv_agg's l2: 0.222529 + 0.0293459\n",
      "[700]\tcv_agg's l2: 0.220671 + 0.0289347\n",
      "[800]\tcv_agg's l2: 0.218704 + 0.0282147\n",
      "[900]\tcv_agg's l2: 0.217684 + 0.0277606\n",
      "[1000]\tcv_agg's l2: 0.216873 + 0.027591\n",
      "[1100]\tcv_agg's l2: 0.215912 + 0.0279198\n"
     ]
    },
    {
     "name": "stderr",
     "output_type": "stream",
     "text": [
      "regularization_factors, val_score: 0.208017:  25%|#########5                            | 5/20 [00:18<01:01,  4.09s/it][I 2023-11-09 13:24:10,799] Trial 47 finished with value: 0.21505675450881875 and parameters: {'lambda_l1': 0.0005372978113214837, 'lambda_l2': 5.556397842289511}. Best is trial 45 with value: 0.20858062941936292.\n",
      "regularization_factors, val_score: 0.208017:  25%|#########5                            | 5/20 [00:18<01:01,  4.09s/it]"
     ]
    },
    {
     "name": "stdout",
     "output_type": "stream",
     "text": [
      "[1200]\tcv_agg's l2: 0.214413 + 0.0274931\n",
      "Early stopping, best iteration is:\n",
      "[1141]\tcv_agg's l2: 0.208017 + 0.0311318\n",
      "[100]\tcv_agg's l2: 0.240842 + 0.0414521\n",
      "[200]\tcv_agg's l2: 0.223642 + 0.041447\n",
      "[300]\tcv_agg's l2: 0.217843 + 0.0372177\n",
      "[400]\tcv_agg's l2: 0.214288 + 0.0328208\n",
      "[500]\tcv_agg's l2: 0.21165 + 0.032189\n",
      "[600]\tcv_agg's l2: 0.210047 + 0.0310868\n",
      "[700]\tcv_agg's l2: 0.209904 + 0.0315411\n",
      "[800]\tcv_agg's l2: 0.209445 + 0.0316375\n",
      "[900]\tcv_agg's l2: 0.209271 + 0.0310556\n",
      "[1000]\tcv_agg's l2: 0.208806 + 0.0306866\n",
      "[1100]\tcv_agg's l2: 0.208817 + 0.0310244\n"
     ]
    },
    {
     "name": "stderr",
     "output_type": "stream",
     "text": [
      "regularization_factors, val_score: 0.208017:  30%|###########4                          | 6/20 [00:23<00:58,  4.21s/it][I 2023-11-09 13:24:15,250] Trial 48 finished with value: 0.20862147853826324 and parameters: {'lambda_l1': 1.9950288297055876e-08, 'lambda_l2': 0.0007421667717485628}. Best is trial 45 with value: 0.20858062941936292.\n",
      "regularization_factors, val_score: 0.208017:  30%|###########4                          | 6/20 [00:23<00:58,  4.21s/it]"
     ]
    },
    {
     "name": "stdout",
     "output_type": "stream",
     "text": [
      "[1200]\tcv_agg's l2: 0.208419 + 0.0308594\n",
      "Early stopping, best iteration is:\n",
      "[1141]\tcv_agg's l2: 0.208017 + 0.0311318\n",
      "[100]\tcv_agg's l2: 0.297184 + 0.0510868\n",
      "[200]\tcv_agg's l2: 0.29284 + 0.0512865\n",
      "[300]\tcv_agg's l2: 0.292829 + 0.0512801\n",
      "[400]\tcv_agg's l2: 0.292829 + 0.05128\n",
      "[500]\tcv_agg's l2: 0.292829 + 0.05128\n",
      "[600]\tcv_agg's l2: 0.292829 + 0.05128\n",
      "[700]\tcv_agg's l2: 0.292829 + 0.05128\n",
      "[800]\tcv_agg's l2: 0.292829 + 0.05128\n",
      "[900]\tcv_agg's l2: 0.292829 + 0.05128\n",
      "[1000]\tcv_agg's l2: 0.292829 + 0.05128\n",
      "[1100]\tcv_agg's l2: 0.292829 + 0.05128\n"
     ]
    },
    {
     "name": "stderr",
     "output_type": "stream",
     "text": [
      "regularization_factors, val_score: 0.208017:  35%|#############3                        | 7/20 [00:25<00:46,  3.61s/it][I 2023-11-09 13:24:17,616] Trial 49 finished with value: 0.29282932113758736 and parameters: {'lambda_l1': 8.879397007882037, 'lambda_l2': 7.222176196438644e-06}. Best is trial 45 with value: 0.20858062941936292.\n",
      "regularization_factors, val_score: 0.208017:  35%|#############3                        | 7/20 [00:25<00:46,  3.61s/it]"
     ]
    },
    {
     "name": "stdout",
     "output_type": "stream",
     "text": [
      "[1200]\tcv_agg's l2: 0.292829 + 0.05128\n",
      "Early stopping, best iteration is:\n",
      "[1141]\tcv_agg's l2: 0.208017 + 0.0311318\n",
      "[100]\tcv_agg's l2: 0.242618 + 0.0398407\n",
      "[200]\tcv_agg's l2: 0.227509 + 0.0392011\n",
      "[300]\tcv_agg's l2: 0.222702 + 0.0357651\n",
      "[400]\tcv_agg's l2: 0.220076 + 0.0330379\n",
      "[500]\tcv_agg's l2: 0.21684 + 0.0317327\n",
      "[600]\tcv_agg's l2: 0.214738 + 0.0298066\n",
      "[700]\tcv_agg's l2: 0.213571 + 0.0292552\n",
      "[800]\tcv_agg's l2: 0.212401 + 0.0279776\n",
      "[900]\tcv_agg's l2: 0.212069 + 0.0281457\n",
      "[1000]\tcv_agg's l2: 0.211096 + 0.0276996\n",
      "[1100]\tcv_agg's l2: 0.210572 + 0.0278926\n"
     ]
    },
    {
     "name": "stderr",
     "output_type": "stream",
     "text": [
      "regularization_factors, val_score: 0.208017:  40%|###############2                      | 8/20 [00:30<00:46,  3.85s/it][I 2023-11-09 13:24:21,974] Trial 50 finished with value: 0.21029709521344503 and parameters: {'lambda_l1': 8.114563720371717e-06, 'lambda_l2': 0.10901525035944153}. Best is trial 45 with value: 0.20858062941936292.\n",
      "regularization_factors, val_score: 0.208017:  40%|###############2                      | 8/20 [00:30<00:46,  3.85s/it]"
     ]
    },
    {
     "name": "stdout",
     "output_type": "stream",
     "text": [
      "[1200]\tcv_agg's l2: 0.209715 + 0.028023\n",
      "Early stopping, best iteration is:\n",
      "[1141]\tcv_agg's l2: 0.208017 + 0.0311318\n",
      "[100]\tcv_agg's l2: 0.240842 + 0.0414521\n",
      "[200]\tcv_agg's l2: 0.223642 + 0.041447\n",
      "[300]\tcv_agg's l2: 0.217843 + 0.0372177\n",
      "[400]\tcv_agg's l2: 0.214288 + 0.0328208\n",
      "[500]\tcv_agg's l2: 0.21165 + 0.032189\n",
      "[600]\tcv_agg's l2: 0.210047 + 0.0310868\n",
      "[700]\tcv_agg's l2: 0.209904 + 0.0315411\n",
      "[800]\tcv_agg's l2: 0.209445 + 0.0316375\n",
      "[900]\tcv_agg's l2: 0.209271 + 0.0310556\n",
      "[1000]\tcv_agg's l2: 0.208806 + 0.0306866\n",
      "[1100]\tcv_agg's l2: 0.208817 + 0.0310244\n"
     ]
    },
    {
     "name": "stderr",
     "output_type": "stream",
     "text": [
      "\r",
      "regularization_factors, val_score: 0.208017:  40%|###############2                      | 8/20 [00:34<00:46,  3.85s/it]"
     ]
    },
    {
     "name": "stdout",
     "output_type": "stream",
     "text": [
      "[1200]\tcv_agg's l2: 0.208419 + 0.0308595\n",
      "Early stopping, best iteration is:\n",
      "[1141]\tcv_agg's l2: 0.208017 + 0.0311318\n"
     ]
    },
    {
     "name": "stderr",
     "output_type": "stream",
     "text": [
      "regularization_factors, val_score: 0.208017:  45%|#################1                    | 9/20 [00:34<00:44,  4.07s/it][I 2023-11-09 13:24:26,529] Trial 51 finished with value: 0.20862153744217174 and parameters: {'lambda_l1': 1.3849488391951973e-08, 'lambda_l2': 0.000613855611316232}. Best is trial 45 with value: 0.20858062941936292.\n",
      "regularization_factors, val_score: 0.208017:  45%|#################1                    | 9/20 [00:34<00:44,  4.07s/it]"
     ]
    },
    {
     "name": "stdout",
     "output_type": "stream",
     "text": [
      "[100]\tcv_agg's l2: 0.240842 + 0.0414522\n",
      "[200]\tcv_agg's l2: 0.222895 + 0.0403738\n",
      "[300]\tcv_agg's l2: 0.216882 + 0.035861\n",
      "[400]\tcv_agg's l2: 0.21464 + 0.0333069\n",
      "[500]\tcv_agg's l2: 0.2121 + 0.0324623\n",
      "[600]\tcv_agg's l2: 0.210841 + 0.0320835\n",
      "[700]\tcv_agg's l2: 0.210354 + 0.0321083\n",
      "[800]\tcv_agg's l2: 0.209831 + 0.0321115\n",
      "[900]\tcv_agg's l2: 0.209269 + 0.0313147\n",
      "[1000]\tcv_agg's l2: 0.208996 + 0.0313538\n",
      "[1100]\tcv_agg's l2: 0.208793 + 0.0314337\n"
     ]
    },
    {
     "name": "stderr",
     "output_type": "stream",
     "text": [
      "regularization_factors, val_score: 0.208017:  50%|##################5                  | 10/20 [00:39<00:41,  4.15s/it][I 2023-11-09 13:24:30,856] Trial 52 finished with value: 0.20801710221416933 and parameters: {'lambda_l1': 7.884170501320899e-07, 'lambda_l2': 1.0374733768055507e-05}. Best is trial 52 with value: 0.20801710221416933.\n",
      "regularization_factors, val_score: 0.208017:  50%|##################5                  | 10/20 [00:39<00:41,  4.15s/it]"
     ]
    },
    {
     "name": "stdout",
     "output_type": "stream",
     "text": [
      "[1200]\tcv_agg's l2: 0.208336 + 0.0309529\n",
      "Early stopping, best iteration is:\n",
      "[1141]\tcv_agg's l2: 0.208017 + 0.0311318\n",
      "[100]\tcv_agg's l2: 0.240842 + 0.0414522\n",
      "[200]\tcv_agg's l2: 0.222895 + 0.0403738\n",
      "[300]\tcv_agg's l2: 0.216882 + 0.0358611\n",
      "[400]\tcv_agg's l2: 0.21464 + 0.0333069\n",
      "[500]\tcv_agg's l2: 0.2121 + 0.0324623\n",
      "[600]\tcv_agg's l2: 0.210841 + 0.0320835\n",
      "[700]\tcv_agg's l2: 0.210354 + 0.0321083\n",
      "[800]\tcv_agg's l2: 0.209831 + 0.0321115\n",
      "[900]\tcv_agg's l2: 0.209269 + 0.0313147\n",
      "[1000]\tcv_agg's l2: 0.208996 + 0.0313538\n",
      "[1100]\tcv_agg's l2: 0.208793 + 0.0314337\n"
     ]
    },
    {
     "name": "stderr",
     "output_type": "stream",
     "text": [
      "regularization_factors, val_score: 0.208017:  55%|####################3                | 11/20 [00:43<00:38,  4.31s/it][I 2023-11-09 13:24:35,526] Trial 53 finished with value: 0.2080171024994218 and parameters: {'lambda_l1': 2.4486979810593234e-06, 'lambda_l2': 1.7458995169187966e-06}. Best is trial 52 with value: 0.20801710221416933.\n",
      "regularization_factors, val_score: 0.208017:  55%|####################3                | 11/20 [00:43<00:38,  4.31s/it]"
     ]
    },
    {
     "name": "stdout",
     "output_type": "stream",
     "text": [
      "[1200]\tcv_agg's l2: 0.208336 + 0.0309529\n",
      "Early stopping, best iteration is:\n",
      "[1141]\tcv_agg's l2: 0.208017 + 0.0311318\n",
      "[100]\tcv_agg's l2: 0.240842 + 0.0414522\n",
      "[200]\tcv_agg's l2: 0.222895 + 0.0403738\n",
      "[300]\tcv_agg's l2: 0.216882 + 0.035861\n",
      "[400]\tcv_agg's l2: 0.21464 + 0.0333069\n",
      "[500]\tcv_agg's l2: 0.2121 + 0.0324623\n",
      "[600]\tcv_agg's l2: 0.210841 + 0.0320835\n",
      "[700]\tcv_agg's l2: 0.210354 + 0.0321083\n",
      "[800]\tcv_agg's l2: 0.209831 + 0.0321115\n",
      "[900]\tcv_agg's l2: 0.209269 + 0.0313147\n",
      "[1000]\tcv_agg's l2: 0.208996 + 0.0313538\n",
      "[1100]\tcv_agg's l2: 0.208793 + 0.0314337\n"
     ]
    },
    {
     "name": "stderr",
     "output_type": "stream",
     "text": [
      "regularization_factors, val_score: 0.208017:  60%|######################2              | 12/20 [00:48<00:34,  4.35s/it][I 2023-11-09 13:24:39,971] Trial 54 finished with value: 0.20801710491727224 and parameters: {'lambda_l1': 1.1574625364721529e-06, 'lambda_l2': 1.958682331841305e-06}. Best is trial 52 with value: 0.20801710221416933.\n",
      "regularization_factors, val_score: 0.208017:  60%|######################2              | 12/20 [00:48<00:34,  4.35s/it]"
     ]
    },
    {
     "name": "stdout",
     "output_type": "stream",
     "text": [
      "[1200]\tcv_agg's l2: 0.208336 + 0.0309529\n",
      "Early stopping, best iteration is:\n",
      "[1141]\tcv_agg's l2: 0.208017 + 0.0311318\n",
      "[100]\tcv_agg's l2: 0.240842 + 0.0414522\n",
      "[200]\tcv_agg's l2: 0.222895 + 0.0403738\n",
      "[300]\tcv_agg's l2: 0.216882 + 0.035861\n",
      "[400]\tcv_agg's l2: 0.21464 + 0.0333069\n",
      "[500]\tcv_agg's l2: 0.2121 + 0.0324623\n",
      "[600]\tcv_agg's l2: 0.210841 + 0.0320835\n",
      "[700]\tcv_agg's l2: 0.210354 + 0.0321083\n",
      "[800]\tcv_agg's l2: 0.209831 + 0.0321115\n",
      "[900]\tcv_agg's l2: 0.209269 + 0.0313147\n",
      "[1000]\tcv_agg's l2: 0.208996 + 0.0313538\n",
      "[1100]\tcv_agg's l2: 0.208793 + 0.0314337\n"
     ]
    },
    {
     "name": "stderr",
     "output_type": "stream",
     "text": [
      "\r",
      "regularization_factors, val_score: 0.208017:  60%|######################2              | 12/20 [00:52<00:34,  4.35s/it]"
     ]
    },
    {
     "name": "stdout",
     "output_type": "stream",
     "text": [
      "[1200]\tcv_agg's l2: 0.208336 + 0.0309529\n",
      "Early stopping, best iteration is:\n",
      "[1141]\tcv_agg's l2: 0.208017 + 0.0311318\n"
     ]
    },
    {
     "name": "stderr",
     "output_type": "stream",
     "text": [
      "regularization_factors, val_score: 0.208017:  65%|########################             | 13/20 [00:52<00:31,  4.44s/it][I 2023-11-09 13:24:44,627] Trial 55 finished with value: 0.20801710464983714 and parameters: {'lambda_l1': 1.3851218697156108e-06, 'lambda_l2': 1.6138979381710503e-06}. Best is trial 52 with value: 0.20801710221416933.\n",
      "regularization_factors, val_score: 0.208017:  65%|########################             | 13/20 [00:52<00:31,  4.44s/it]"
     ]
    },
    {
     "name": "stdout",
     "output_type": "stream",
     "text": [
      "[100]\tcv_agg's l2: 0.240842 + 0.0414522\n",
      "[200]\tcv_agg's l2: 0.222895 + 0.0403738\n",
      "[300]\tcv_agg's l2: 0.216882 + 0.035861\n",
      "[400]\tcv_agg's l2: 0.21464 + 0.0333069\n",
      "[500]\tcv_agg's l2: 0.2121 + 0.0324623\n",
      "[600]\tcv_agg's l2: 0.210841 + 0.0320835\n",
      "[700]\tcv_agg's l2: 0.210354 + 0.0321083\n",
      "[800]\tcv_agg's l2: 0.209831 + 0.0321115\n",
      "[900]\tcv_agg's l2: 0.209269 + 0.0313147\n",
      "[1000]\tcv_agg's l2: 0.208996 + 0.0313538\n",
      "[1100]\tcv_agg's l2: 0.208793 + 0.0314337\n"
     ]
    },
    {
     "name": "stderr",
     "output_type": "stream",
     "text": [
      "regularization_factors, val_score: 0.208017:  70%|#########################9           | 14/20 [00:57<00:26,  4.44s/it][I 2023-11-09 13:24:49,071] Trial 56 finished with value: 0.20801710472609836 and parameters: {'lambda_l1': 1.2065149682864387e-06, 'lambda_l2': 2.183343664013384e-06}. Best is trial 52 with value: 0.20801710221416933.\n",
      "regularization_factors, val_score: 0.208017:  70%|#########################9           | 14/20 [00:57<00:26,  4.44s/it]"
     ]
    },
    {
     "name": "stdout",
     "output_type": "stream",
     "text": [
      "[1200]\tcv_agg's l2: 0.208336 + 0.0309529\n",
      "Early stopping, best iteration is:\n",
      "[1141]\tcv_agg's l2: 0.208017 + 0.0311318\n",
      "[100]\tcv_agg's l2: 0.240842 + 0.0414522\n",
      "[200]\tcv_agg's l2: 0.222895 + 0.0403738\n",
      "[300]\tcv_agg's l2: 0.216882 + 0.035861\n",
      "[400]\tcv_agg's l2: 0.21464 + 0.0333069\n",
      "[500]\tcv_agg's l2: 0.2121 + 0.0324623\n",
      "[600]\tcv_agg's l2: 0.210841 + 0.0320835\n",
      "[700]\tcv_agg's l2: 0.210354 + 0.0321083\n",
      "[800]\tcv_agg's l2: 0.209831 + 0.0321115\n",
      "[900]\tcv_agg's l2: 0.209269 + 0.0313147\n",
      "[1000]\tcv_agg's l2: 0.208996 + 0.0313538\n",
      "[1100]\tcv_agg's l2: 0.208793 + 0.0314337\n"
     ]
    },
    {
     "name": "stderr",
     "output_type": "stream",
     "text": [
      "regularization_factors, val_score: 0.208017:  75%|###########################7         | 15/20 [01:01<00:22,  4.43s/it][I 2023-11-09 13:24:53,483] Trial 57 finished with value: 0.20801710381361888 and parameters: {'lambda_l1': 1.5245240373957313e-06, 'lambda_l2': 3.0437136479043777e-06}. Best is trial 52 with value: 0.20801710221416933.\n",
      "regularization_factors, val_score: 0.208017:  75%|###########################7         | 15/20 [01:01<00:22,  4.43s/it]"
     ]
    },
    {
     "name": "stdout",
     "output_type": "stream",
     "text": [
      "[1200]\tcv_agg's l2: 0.208336 + 0.0309529\n",
      "Early stopping, best iteration is:\n",
      "[1141]\tcv_agg's l2: 0.208017 + 0.0311318\n",
      "[100]\tcv_agg's l2: 0.240842 + 0.0414522\n",
      "[200]\tcv_agg's l2: 0.222895 + 0.0403738\n",
      "[300]\tcv_agg's l2: 0.216882 + 0.0358611\n",
      "[400]\tcv_agg's l2: 0.21464 + 0.0333069\n",
      "[500]\tcv_agg's l2: 0.2121 + 0.0324623\n",
      "[600]\tcv_agg's l2: 0.210841 + 0.0320835\n",
      "[700]\tcv_agg's l2: 0.210354 + 0.0321083\n",
      "[800]\tcv_agg's l2: 0.209831 + 0.0321115\n",
      "[900]\tcv_agg's l2: 0.209269 + 0.0313147\n",
      "[1000]\tcv_agg's l2: 0.208996 + 0.0313538\n",
      "[1100]\tcv_agg's l2: 0.208793 + 0.0314337\n"
     ]
    },
    {
     "name": "stderr",
     "output_type": "stream",
     "text": [
      "regularization_factors, val_score: 0.208017:  80%|#############################6       | 16/20 [01:06<00:17,  4.42s/it][I 2023-11-09 13:24:57,855] Trial 58 finished with value: 0.20801710320733693 and parameters: {'lambda_l1': 2.0818920850376793e-06, 'lambda_l2': 1.6427685773630568e-06}. Best is trial 52 with value: 0.20801710221416933.\n",
      "regularization_factors, val_score: 0.208017:  80%|#############################6       | 16/20 [01:06<00:17,  4.42s/it]"
     ]
    },
    {
     "name": "stdout",
     "output_type": "stream",
     "text": [
      "[1200]\tcv_agg's l2: 0.208336 + 0.0309529\n",
      "Early stopping, best iteration is:\n",
      "[1141]\tcv_agg's l2: 0.208017 + 0.0311318\n",
      "[100]\tcv_agg's l2: 0.240842 + 0.0414522\n",
      "[200]\tcv_agg's l2: 0.222895 + 0.0403738\n",
      "[300]\tcv_agg's l2: 0.216882 + 0.035861\n",
      "[400]\tcv_agg's l2: 0.21464 + 0.0333069\n",
      "[500]\tcv_agg's l2: 0.2121 + 0.0324623\n",
      "[600]\tcv_agg's l2: 0.210841 + 0.0320835\n",
      "[700]\tcv_agg's l2: 0.210354 + 0.0321083\n",
      "[800]\tcv_agg's l2: 0.209831 + 0.0321115\n",
      "[900]\tcv_agg's l2: 0.209269 + 0.0313147\n",
      "[1000]\tcv_agg's l2: 0.208996 + 0.0313538\n",
      "[1100]\tcv_agg's l2: 0.208793 + 0.0314337\n"
     ]
    },
    {
     "name": "stderr",
     "output_type": "stream",
     "text": [
      "regularization_factors, val_score: 0.208017:  85%|###############################4     | 17/20 [01:10<00:13,  4.41s/it][I 2023-11-09 13:25:02,260] Trial 59 finished with value: 0.20801710522368383 and parameters: {'lambda_l1': 1.0108778633808256e-06, 'lambda_l2': 1.733109373057975e-06}. Best is trial 52 with value: 0.20801710221416933.\n",
      "regularization_factors, val_score: 0.208017:  85%|###############################4     | 17/20 [01:10<00:13,  4.41s/it]"
     ]
    },
    {
     "name": "stdout",
     "output_type": "stream",
     "text": [
      "[1200]\tcv_agg's l2: 0.208336 + 0.0309529\n",
      "Early stopping, best iteration is:\n",
      "[1141]\tcv_agg's l2: 0.208017 + 0.0311318\n",
      "[100]\tcv_agg's l2: 0.240842 + 0.0414522\n",
      "[200]\tcv_agg's l2: 0.222895 + 0.0403738\n",
      "[300]\tcv_agg's l2: 0.216882 + 0.035861\n",
      "[400]\tcv_agg's l2: 0.21464 + 0.0333069\n",
      "[500]\tcv_agg's l2: 0.2121 + 0.0324623\n",
      "[600]\tcv_agg's l2: 0.210841 + 0.0320835\n",
      "[700]\tcv_agg's l2: 0.210354 + 0.0321083\n",
      "[800]\tcv_agg's l2: 0.209831 + 0.0321115\n",
      "[900]\tcv_agg's l2: 0.209269 + 0.0313147\n",
      "[1000]\tcv_agg's l2: 0.208996 + 0.0313538\n",
      "[1100]\tcv_agg's l2: 0.208793 + 0.0314337\n"
     ]
    },
    {
     "name": "stderr",
     "output_type": "stream",
     "text": [
      "\r",
      "regularization_factors, val_score: 0.208017:  85%|###############################4     | 17/20 [01:15<00:13,  4.41s/it]"
     ]
    },
    {
     "name": "stdout",
     "output_type": "stream",
     "text": [
      "[1200]\tcv_agg's l2: 0.208336 + 0.0309529\n",
      "Early stopping, best iteration is:\n",
      "[1141]\tcv_agg's l2: 0.208017 + 0.0311318\n"
     ]
    },
    {
     "name": "stderr",
     "output_type": "stream",
     "text": [
      "regularization_factors, val_score: 0.208017:  90%|#################################3   | 18/20 [01:15<00:09,  4.63s/it][I 2023-11-09 13:25:07,381] Trial 60 finished with value: 0.20801710421880623 and parameters: {'lambda_l1': 1.4368020961637236e-06, 'lambda_l2': 2.050385650063185e-06}. Best is trial 52 with value: 0.20801710221416933.\n",
      "regularization_factors, val_score: 0.208017:  90%|#################################3   | 18/20 [01:15<00:09,  4.63s/it]"
     ]
    },
    {
     "name": "stdout",
     "output_type": "stream",
     "text": [
      "[100]\tcv_agg's l2: 0.240842 + 0.0414522\n",
      "[200]\tcv_agg's l2: 0.222895 + 0.0403738\n",
      "[300]\tcv_agg's l2: 0.216882 + 0.035861\n",
      "[400]\tcv_agg's l2: 0.21464 + 0.0333069\n",
      "[500]\tcv_agg's l2: 0.2121 + 0.0324623\n",
      "[600]\tcv_agg's l2: 0.210841 + 0.0320835\n",
      "[700]\tcv_agg's l2: 0.210354 + 0.0321083\n",
      "[800]\tcv_agg's l2: 0.209831 + 0.0321115\n",
      "[900]\tcv_agg's l2: 0.209269 + 0.0313147\n",
      "[1000]\tcv_agg's l2: 0.208996 + 0.0313538\n",
      "[1100]\tcv_agg's l2: 0.208793 + 0.0314337\n"
     ]
    },
    {
     "name": "stderr",
     "output_type": "stream",
     "text": [
      "regularization_factors, val_score: 0.208017:  95%|###################################1 | 19/20 [01:20<00:04,  4.66s/it][I 2023-11-09 13:25:12,132] Trial 61 finished with value: 0.20801710448761965 and parameters: {'lambda_l1': 1.4271275877157787e-06, 'lambda_l2': 1.6169808170498148e-06}. Best is trial 52 with value: 0.20801710221416933.\n",
      "regularization_factors, val_score: 0.208017:  95%|###################################1 | 19/20 [01:20<00:04,  4.66s/it]"
     ]
    },
    {
     "name": "stdout",
     "output_type": "stream",
     "text": [
      "[1200]\tcv_agg's l2: 0.208336 + 0.0309529\n",
      "Early stopping, best iteration is:\n",
      "[1141]\tcv_agg's l2: 0.208017 + 0.0311318\n",
      "[100]\tcv_agg's l2: 0.240842 + 0.0414522\n",
      "[200]\tcv_agg's l2: 0.222895 + 0.0403738\n",
      "[300]\tcv_agg's l2: 0.216882 + 0.0358611\n",
      "[400]\tcv_agg's l2: 0.21464 + 0.0333069\n",
      "[500]\tcv_agg's l2: 0.2121 + 0.0324623\n",
      "[600]\tcv_agg's l2: 0.210841 + 0.0320835\n",
      "[700]\tcv_agg's l2: 0.210354 + 0.0321083\n",
      "[800]\tcv_agg's l2: 0.209831 + 0.0321115\n",
      "[900]\tcv_agg's l2: 0.209269 + 0.0313147\n",
      "[1000]\tcv_agg's l2: 0.208996 + 0.0313538\n",
      "[1100]\tcv_agg's l2: 0.208793 + 0.0314337\n"
     ]
    },
    {
     "name": "stderr",
     "output_type": "stream",
     "text": [
      "regularization_factors, val_score: 0.208017: 100%|#####################################| 20/20 [01:24<00:00,  4.60s/it][I 2023-11-09 13:25:16,598] Trial 62 finished with value: 0.20801710159444914 and parameters: {'lambda_l1': 2.9566139017080663e-06, 'lambda_l2': 1.1420597873722193e-06}. Best is trial 62 with value: 0.20801710159444914.\n",
      "regularization_factors, val_score: 0.208017: 100%|#####################################| 20/20 [01:24<00:00,  4.24s/it]\n"
     ]
    },
    {
     "name": "stdout",
     "output_type": "stream",
     "text": [
      "[1200]\tcv_agg's l2: 0.208336 + 0.0309529\n",
      "Early stopping, best iteration is:\n",
      "[1141]\tcv_agg's l2: 0.208017 + 0.0311318\n"
     ]
    },
    {
     "name": "stderr",
     "output_type": "stream",
     "text": [
      "min_data_in_leaf, val_score: 0.208017:   0%|                                                     | 0/5 [00:00<?, ?it/s]"
     ]
    },
    {
     "name": "stdout",
     "output_type": "stream",
     "text": [
      "[100]\tcv_agg's l2: 0.35713 + 0.0730621\n",
      "[200]\tcv_agg's l2: 0.346068 + 0.0766411\n",
      "[300]\tcv_agg's l2: 0.342423 + 0.0788303\n",
      "[400]\tcv_agg's l2: 0.339251 + 0.0776112\n",
      "[500]\tcv_agg's l2: 0.336382 + 0.0779545\n",
      "[600]\tcv_agg's l2: 0.334464 + 0.0771091\n",
      "[700]\tcv_agg's l2: 0.332987 + 0.0772795\n",
      "[800]\tcv_agg's l2: 0.333613 + 0.078867\n",
      "[900]\tcv_agg's l2: 0.332958 + 0.0795035\n",
      "[1000]\tcv_agg's l2: 0.332367 + 0.0810889\n",
      "[1100]\tcv_agg's l2: 0.333443 + 0.0822483\n"
     ]
    },
    {
     "name": "stderr",
     "output_type": "stream",
     "text": [
      "min_data_in_leaf, val_score: 0.208017:  20%|#########                                    | 1/5 [00:04<00:17,  4.32s/it][I 2023-11-09 13:25:20,928] Trial 63 finished with value: 0.33291558249305164 and parameters: {'min_child_samples': 50}. Best is trial 63 with value: 0.33291558249305164.\n",
      "min_data_in_leaf, val_score: 0.208017:  20%|#########                                    | 1/5 [00:04<00:17,  4.32s/it]"
     ]
    },
    {
     "name": "stdout",
     "output_type": "stream",
     "text": [
      "[1200]\tcv_agg's l2: 0.331745 + 0.0829694\n",
      "Early stopping, best iteration is:\n",
      "[1141]\tcv_agg's l2: 0.208017 + 0.0311318\n",
      "[100]\tcv_agg's l2: 0.216099 + 0.0333223\n",
      "[200]\tcv_agg's l2: 0.202886 + 0.0301053\n",
      "[300]\tcv_agg's l2: 0.197985 + 0.0280151\n",
      "[400]\tcv_agg's l2: 0.19474 + 0.0265365\n",
      "[500]\tcv_agg's l2: 0.194026 + 0.0260126\n",
      "[600]\tcv_agg's l2: 0.194545 + 0.0245247\n"
     ]
    },
    {
     "name": "stderr",
     "output_type": "stream",
     "text": [
      "min_data_in_leaf, val_score: 0.193314:  40%|##################                           | 2/5 [00:06<00:09,  3.27s/it][I 2023-11-09 13:25:23,465] Trial 64 finished with value: 0.1933139214925372 and parameters: {'min_child_samples': 5}. Best is trial 64 with value: 0.1933139214925372.\n",
      "min_data_in_leaf, val_score: 0.193314:  40%|##################                           | 2/5 [00:06<00:09,  3.27s/it]"
     ]
    },
    {
     "name": "stdout",
     "output_type": "stream",
     "text": [
      "Early stopping, best iteration is:\n",
      "[568]\tcv_agg's l2: 0.193314 + 0.025163\n",
      "[100]\tcv_agg's l2: 0.823015 + 0.161928\n",
      "[200]\tcv_agg's l2: 0.805452 + 0.166596\n",
      "[300]\tcv_agg's l2: 0.800916 + 0.167585\n",
      "[400]\tcv_agg's l2: 0.79674 + 0.170057\n",
      "[500]\tcv_agg's l2: 0.793902 + 0.171314\n",
      "[600]\tcv_agg's l2: 0.787396 + 0.171411\n"
     ]
    },
    {
     "name": "stderr",
     "output_type": "stream",
     "text": [
      "min_data_in_leaf, val_score: 0.193314:  60%|###########################                  | 3/5 [00:09<00:05,  2.81s/it][I 2023-11-09 13:25:25,725] Trial 65 finished with value: 0.7887034993899281 and parameters: {'min_child_samples': 100}. Best is trial 64 with value: 0.1933139214925372.\n",
      "min_data_in_leaf, val_score: 0.193314:  60%|###########################                  | 3/5 [00:09<00:05,  2.81s/it]"
     ]
    },
    {
     "name": "stdout",
     "output_type": "stream",
     "text": [
      "Early stopping, best iteration is:\n",
      "[568]\tcv_agg's l2: 0.193314 + 0.025163\n",
      "[100]\tcv_agg's l2: 0.214996 + 0.0347327\n",
      "[200]\tcv_agg's l2: 0.199674 + 0.0350199\n",
      "[300]\tcv_agg's l2: 0.195695 + 0.0336537\n",
      "[400]\tcv_agg's l2: 0.192012 + 0.0329457\n",
      "[500]\tcv_agg's l2: 0.188986 + 0.031201\n",
      "[600]\tcv_agg's l2: 0.187784 + 0.0301119\n"
     ]
    },
    {
     "name": "stderr",
     "output_type": "stream",
     "text": [
      "min_data_in_leaf, val_score: 0.187034:  80%|####################################         | 4/5 [00:11<00:02,  2.75s/it][I 2023-11-09 13:25:28,388] Trial 66 finished with value: 0.1870335003016968 and parameters: {'min_child_samples': 10}. Best is trial 66 with value: 0.1870335003016968.\n",
      "min_data_in_leaf, val_score: 0.187034:  80%|####################################         | 4/5 [00:11<00:02,  2.75s/it]"
     ]
    },
    {
     "name": "stdout",
     "output_type": "stream",
     "text": [
      "[700]\tcv_agg's l2: 0.187698 + 0.030178\n",
      "Early stopping, best iteration is:\n",
      "[640]\tcv_agg's l2: 0.187034 + 0.0299875\n",
      "[100]\tcv_agg's l2: 0.264989 + 0.0559838\n",
      "[200]\tcv_agg's l2: 0.255134 + 0.0571954\n",
      "[300]\tcv_agg's l2: 0.251524 + 0.0578767\n",
      "[400]\tcv_agg's l2: 0.24897 + 0.0559297\n",
      "[500]\tcv_agg's l2: 0.245124 + 0.0530713\n",
      "[600]\tcv_agg's l2: 0.243242 + 0.0523308\n",
      "[700]\tcv_agg's l2: 0.242168 + 0.0511312\n"
     ]
    },
    {
     "name": "stderr",
     "output_type": "stream",
     "text": [
      "min_data_in_leaf, val_score: 0.187034: 100%|#############################################| 5/5 [00:14<00:00,  2.91s/it][I 2023-11-09 13:25:31,582] Trial 67 finished with value: 0.24315949006989784 and parameters: {'min_child_samples': 25}. Best is trial 66 with value: 0.1870335003016968.\n",
      "min_data_in_leaf, val_score: 0.187034: 100%|#############################################| 5/5 [00:14<00:00,  3.00s/it]"
     ]
    },
    {
     "name": "stdout",
     "output_type": "stream",
     "text": [
      "Early stopping, best iteration is:\n",
      "[640]\tcv_agg's l2: 0.187034 + 0.0299875\n"
     ]
    },
    {
     "name": "stderr",
     "output_type": "stream",
     "text": [
      "\n"
     ]
    }
   ],
   "source": [
    "import optuna.integration.lightgbm as lgb\n",
    "from lightgbm import early_stopping, log_evaluation\n",
    "from sklearn.model_selection import KFold\n",
    "from sklearn.model_selection import RepeatedKFold\n",
    "\n",
    "\n",
    "lgb_train = lgb.Dataset(X_train, y_train)\n",
    "\n",
    "params = {\n",
    "    \"boosting_type\": \"gbdt\",\n",
    "    \"objective\": \"regression\",\n",
    "    \"metric\": \"l2\",\n",
    "    \"verbosity\": -1,\n",
    "}\n",
    "\n",
    "tuner = lgb.LightGBMTunerCV(\n",
    "    params,\n",
    "    lgb_train,\n",
    "    folds=KFold(n_splits=5),\n",
    "    num_boost_round=10000,\n",
    "    callbacks=[early_stopping(100), log_evaluation(100)],\n",
    ")\n",
    "\n",
    "tuner.run()"
   ]
  },
  {
   "cell_type": "code",
   "execution_count": 23,
   "id": "3b9d8fb3",
   "metadata": {},
   "outputs": [
    {
     "name": "stdout",
     "output_type": "stream",
     "text": [
      "Best score: 0.1870335003016968\n",
      "Params: \n",
      "    boosting_type: gbdt\n",
      "    objective: regression\n",
      "    metric: l2\n",
      "    verbosity: -1\n",
      "    feature_pre_filter: False\n",
      "    lambda_l1: 2.9566139017080663e-06\n",
      "    lambda_l2: 1.1420597873722193e-06\n",
      "    num_leaves: 5\n",
      "    feature_fraction: 0.7\n",
      "    bagging_fraction: 0.9975357180778126\n",
      "    bagging_freq: 7\n",
      "    min_child_samples: 10\n"
     ]
    }
   ],
   "source": [
    "print(f\"Best score: {tuner.best_score}\")\n",
    "best_params = tuner.best_params\n",
    "print(\"Params: \")\n",
    "for key, value in best_params.items():\n",
    "    print(\"    {}: {}\".format(key, value))"
   ]
  },
  {
   "cell_type": "code",
   "execution_count": 24,
   "id": "d25b1687",
   "metadata": {},
   "outputs": [],
   "source": [
    "import lightgbm as lgb\n",
    "\n",
    "lgb_tuned = lgb.train(\n",
    "    best_params,\n",
    "    lgb_train,\n",
    "    num_boost_round=10000,\n",
    ")"
   ]
  },
  {
   "cell_type": "code",
   "execution_count": 25,
   "id": "290a9f09",
   "metadata": {
    "scrolled": false
   },
   "outputs": [
    {
     "name": "stdout",
     "output_type": "stream",
     "text": [
      "RMSE train: 0.03\n",
      "RMSE test: 0.69\n",
      "MAE test: 0.49\n",
      "\n"
     ]
    }
   ],
   "source": [
    "rmse, mae = assess_regression_model(lgb_tuned, X_train, X_test, y_train, y_test)"
   ]
  },
  {
   "cell_type": "code",
   "execution_count": 26,
   "id": "a6ecfca2",
   "metadata": {},
   "outputs": [],
   "source": [
    "results.loc[1] = [\n",
    "    \"chronological\",\n",
    "    \"Optuna\",\n",
    "    \"basic\",\n",
    "    rmse,\n",
    "    mae,\n",
    "]"
   ]
  },
  {
   "cell_type": "markdown",
   "id": "2f13ab75",
   "metadata": {},
   "source": [
    "###### MAE by level"
   ]
  },
  {
   "cell_type": "code",
   "execution_count": 27,
   "id": "e2f172bc",
   "metadata": {},
   "outputs": [
    {
     "data": {
      "image/png": "[encoded data removed]",
      "text/plain": [
       "<Figure size 1440x576 with 1 Axes>"
      ]
     },
     "metadata": {
      "needs_background": "light"
     },
     "output_type": "display_data"
    }
   ],
   "source": [
    "plot_mae_by_level(\n",
    "    y_test,\n",
    "    y_pred_test,\n",
    "    title=\"MAE by level for tuned LightGBM with basic features and chronological split\",\n",
    ")"
   ]
  },
  {
   "cell_type": "code",
   "execution_count": 28,
   "id": "9f6b3122",
   "metadata": {
    "scrolled": false
   },
   "outputs": [
    {
     "name": "stdout",
     "output_type": "stream",
     "text": [
      "Default:\n",
      "RMSE: 0.69\n",
      "\n",
      "Round type: 0.5\n",
      "RMSE: 0.73\n",
      "\n",
      "Round type: 0.33\n",
      "RMSE: 0.72\n",
      "\n",
      "Round type: 0.45\n",
      "RMSE: 0.70\n",
      "\n"
     ]
    }
   ],
   "source": [
    "predict = lgb_tuned.predict(X_test)\n",
    "check_round_predictions([0.5, 0.33, 0.45], y_test, predict)"
   ]
  },
  {
   "cell_type": "code",
   "execution_count": 29,
   "id": "515dc232",
   "metadata": {},
   "outputs": [
    {
     "data": {
      "image/png": "[encoded data removed]",
      "text/plain": [
       "<Figure size 720x720 with 2 Axes>"
      ]
     },
     "metadata": {
      "needs_background": "light"
     },
     "output_type": "display_data"
    }
   ],
   "source": [
    "plot_confusion_matrix(\n",
    "    predict,\n",
    "    y_test,\n",
    "    title=\"Confusion matrix for tuned LightGBM with\\nbasic features and chronological split\",\n",
    ")"
   ]
  },
  {
   "cell_type": "markdown",
   "id": "493f7602",
   "metadata": {},
   "source": [
    "## Random split"
   ]
  },
  {
   "cell_type": "code",
   "execution_count": 30,
   "id": "4948ca0a",
   "metadata": {},
   "outputs": [
    {
     "name": "stdout",
     "output_type": "stream",
     "text": [
      "[LightGBM] [Warning] Auto-choosing col-wise multi-threading, the overhead of testing was 0.000382 seconds.\n",
      "You can set `force_col_wise=true` to remove the overhead.\n",
      "[LightGBM] [Info] Total Bins 234\n",
      "[LightGBM] [Info] Number of data points in the train set: 904, number of used features: 8\n",
      "[LightGBM] [Info] Start training from score 7.162611\n",
      "Training until validation scores don't improve for 5 rounds\n",
      "Early stopping, best iteration is:\n",
      "[57]\tvalid_0's l2: 0.238538\tvalid_0's l1: 0.336785\n"
     ]
    }
   ],
   "source": [
    "import lightgbm as lgb\n",
    "from sklearn.metrics import mean_squared_error\n",
    "\n",
    "lgb_train = lgb.Dataset(X_train_random_split, y_train_random_split)\n",
    "lgb_eval = lgb.Dataset(X_test_random_split, y_test_random_split, reference=lgb_train)\n",
    "\n",
    "params = {\n",
    "    \"boosting_type\": \"gbdt\",\n",
    "    \"objective\": \"regression\",\n",
    "    \"metric\": {\"l2\", \"l1\"},\n",
    "}\n",
    "\n",
    "gbm = lgb.train(\n",
    "    params,\n",
    "    lgb_train,\n",
    "    num_boost_round=100,\n",
    "    valid_sets=lgb_eval,\n",
    "    callbacks=[lgb.early_stopping(stopping_rounds=5)],\n",
    ")"
   ]
  },
  {
   "cell_type": "code",
   "execution_count": 31,
   "id": "f9bd4c3b",
   "metadata": {},
   "outputs": [],
   "source": [
    "y_pred_train = gbm.predict(X_train_random_split, num_iteration=gbm.best_iteration)\n",
    "y_pred_test = gbm.predict(X_test_random_split, num_iteration=gbm.best_iteration)"
   ]
  },
  {
   "cell_type": "code",
   "execution_count": 32,
   "id": "c014931e",
   "metadata": {},
   "outputs": [
    {
     "name": "stdout",
     "output_type": "stream",
     "text": [
      "RMSE: 0.49\n",
      "MAE: 0.34\n"
     ]
    }
   ],
   "source": [
    "from sklearn.metrics import mean_squared_error, mean_absolute_error\n",
    "\n",
    "\n",
    "rmse = mean_squared_error(y_test_random_split, y_pred_test, squared=False)\n",
    "mae = mean_absolute_error(y_test_random_split, y_pred_test)\n",
    "\n",
    "print(f\"RMSE: {rmse:.2f}\")\n",
    "print(f\"MAE: {mae:.2f}\")"
   ]
  },
  {
   "cell_type": "code",
   "execution_count": 33,
   "id": "8cbceea7",
   "metadata": {},
   "outputs": [],
   "source": [
    "results.loc[2] = [\"random\", \"default\", \"basic\", rmse, mae]"
   ]
  },
  {
   "cell_type": "markdown",
   "id": "eacfd0ab",
   "metadata": {},
   "source": [
    "###### MAE by level"
   ]
  },
  {
   "cell_type": "code",
   "execution_count": 34,
   "id": "8af01c5c",
   "metadata": {},
   "outputs": [
    {
     "data": {
      "image/png": "[encoded data removed]",
      "text/plain": [
       "<Figure size 1440x576 with 1 Axes>"
      ]
     },
     "metadata": {
      "needs_background": "light"
     },
     "output_type": "display_data"
    }
   ],
   "source": [
    "plot_mae_by_level(\n",
    "    y_test_random_split,\n",
    "    y_pred_test,\n",
    "    title=\"MAE by level for default LightGBM with basic features and random split\",\n",
    ")"
   ]
  },
  {
   "cell_type": "code",
   "execution_count": 35,
   "id": "e5edd1d7",
   "metadata": {
    "scrolled": true
   },
   "outputs": [
    {
     "name": "stdout",
     "output_type": "stream",
     "text": [
      "Default:\n",
      "RMSE: 0.49\n",
      "\n",
      "Round type: 0.5\n",
      "RMSE: 0.51\n",
      "\n",
      "Round type: 0.33\n",
      "RMSE: 0.57\n",
      "\n",
      "Round type: 0.45\n",
      "RMSE: 0.51\n",
      "\n"
     ]
    }
   ],
   "source": [
    "check_round_predictions([0.5, 0.33, 0.45], y_test_random_split, y_pred_test)"
   ]
  },
  {
   "cell_type": "code",
   "execution_count": 36,
   "id": "39e001dd",
   "metadata": {},
   "outputs": [
    {
     "data": {
      "image/png": "[encoded data removed]",
      "text/plain": [
       "<Figure size 720x720 with 2 Axes>"
      ]
     },
     "metadata": {
      "needs_background": "light"
     },
     "output_type": "display_data"
    }
   ],
   "source": [
    "plot_confusion_matrix(\n",
    "    y_pred_test,\n",
    "    y_test_random_split,\n",
    "    title=\"Confusion matrix for default LightGBM with\\nbasic features and random split\",\n",
    ")"
   ]
  },
  {
   "cell_type": "markdown",
   "id": "2a0c7ae0",
   "metadata": {},
   "source": [
    "### Tuning"
   ]
  },
  {
   "cell_type": "code",
   "execution_count": 37,
   "id": "0ef6525a",
   "metadata": {},
   "outputs": [
    {
     "name": "stderr",
     "output_type": "stream",
     "text": [
      "[I 2023-11-09 13:25:47,291] A new study created in memory with name: no-name-f096e146-2efa-40c6-9a1b-e9e8d9ba39ce\n",
      "feature_fraction, val_score: inf:   0%|                                                          | 0/7 [00:00<?, ?it/s]"
     ]
    },
    {
     "name": "stdout",
     "output_type": "stream",
     "text": [
      "Training until validation scores don't improve for 100 rounds\n",
      "[100]\tcv_agg's l2: 0.258042 + 0.0766333\n",
      "[200]\tcv_agg's l2: 0.260551 + 0.0773974\n"
     ]
    },
    {
     "name": "stderr",
     "output_type": "stream",
     "text": [
      "feature_fraction, val_score: 0.256473:  14%|######4                                      | 1/7 [00:02<00:17,  2.92s/it][I 2023-11-09 13:25:50,220] Trial 0 finished with value: 0.25647278636505055 and parameters: {'feature_fraction': 1.0}. Best is trial 0 with value: 0.25647278636505055.\n",
      "feature_fraction, val_score: 0.256473:  14%|######4                                      | 1/7 [00:02<00:17,  2.92s/it]"
     ]
    },
    {
     "name": "stdout",
     "output_type": "stream",
     "text": [
      "Early stopping, best iteration is:\n",
      "[127]\tcv_agg's l2: 0.256473 + 0.0774793\n",
      "[100]\tcv_agg's l2: 0.341728 + 0.05249\n",
      "[200]\tcv_agg's l2: 0.312662 + 0.0543104\n"
     ]
    },
    {
     "name": "stderr",
     "output_type": "stream",
     "text": [
      "feature_fraction, val_score: 0.256473:  29%|############8                                | 2/7 [00:05<00:14,  2.95s/it][I 2023-11-09 13:25:53,197] Trial 1 finished with value: 0.33023328447169353 and parameters: {'feature_fraction': 0.5}. Best is trial 0 with value: 0.25647278636505055.\n",
      "feature_fraction, val_score: 0.256473:  29%|############8                                | 2/7 [00:05<00:14,  2.95s/it]"
     ]
    },
    {
     "name": "stdout",
     "output_type": "stream",
     "text": [
      "Early stopping, best iteration is:\n",
      "[127]\tcv_agg's l2: 0.256473 + 0.0774793\n",
      "[100]\tcv_agg's l2: 0.243742 + 0.0487667\n",
      "[200]\tcv_agg's l2: 0.244934 + 0.0478071\n"
     ]
    },
    {
     "name": "stderr",
     "output_type": "stream",
     "text": [
      "feature_fraction, val_score: 0.242412:  43%|###################2                         | 3/7 [00:08<00:12,  3.01s/it][I 2023-11-09 13:25:56,267] Trial 2 finished with value: 0.2424116336944738 and parameters: {'feature_fraction': 0.8}. Best is trial 2 with value: 0.2424116336944738.\n",
      "feature_fraction, val_score: 0.242412:  43%|###################2                         | 3/7 [00:08<00:12,  3.01s/it]"
     ]
    },
    {
     "name": "stdout",
     "output_type": "stream",
     "text": [
      "Early stopping, best iteration is:\n",
      "[135]\tcv_agg's l2: 0.242412 + 0.0476762\n",
      "[100]\tcv_agg's l2: 0.243742 + 0.0487667\n",
      "[200]\tcv_agg's l2: 0.244934 + 0.0478071\n"
     ]
    },
    {
     "name": "stderr",
     "output_type": "stream",
     "text": [
      "feature_fraction, val_score: 0.242412:  57%|#########################7                   | 4/7 [00:12<00:09,  3.03s/it][I 2023-11-09 13:25:59,328] Trial 3 finished with value: 0.2424116336944738 and parameters: {'feature_fraction': 0.7}. Best is trial 2 with value: 0.2424116336944738.\n",
      "feature_fraction, val_score: 0.242412:  57%|#########################7                   | 4/7 [00:12<00:09,  3.03s/it]"
     ]
    },
    {
     "name": "stdout",
     "output_type": "stream",
     "text": [
      "Early stopping, best iteration is:\n",
      "[135]\tcv_agg's l2: 0.242412 + 0.0476762\n",
      "[100]\tcv_agg's l2: 0.278862 + 0.0605807\n",
      "[200]\tcv_agg's l2: 0.268578 + 0.0638728\n"
     ]
    },
    {
     "name": "stderr",
     "output_type": "stream",
     "text": [
      "feature_fraction, val_score: 0.242412:  71%|################################1            | 5/7 [00:15<00:06,  3.01s/it][I 2023-11-09 13:26:02,312] Trial 4 finished with value: 0.27082855036125697 and parameters: {'feature_fraction': 0.6}. Best is trial 2 with value: 0.2424116336944738.\n",
      "feature_fraction, val_score: 0.242412:  71%|################################1            | 5/7 [00:15<00:06,  3.01s/it]"
     ]
    },
    {
     "name": "stdout",
     "output_type": "stream",
     "text": [
      "Early stopping, best iteration is:\n",
      "[135]\tcv_agg's l2: 0.242412 + 0.0476762\n",
      "[100]\tcv_agg's l2: 0.341631 + 0.044839\n",
      "[200]\tcv_agg's l2: 0.313763 + 0.0457461\n"
     ]
    },
    {
     "name": "stderr",
     "output_type": "stream",
     "text": [
      "feature_fraction, val_score: 0.242412:  86%|######################################5      | 6/7 [00:18<00:03,  3.19s/it][I 2023-11-09 13:26:05,841] Trial 5 finished with value: 0.32571596557058546 and parameters: {'feature_fraction': 0.4}. Best is trial 2 with value: 0.2424116336944738.\n",
      "feature_fraction, val_score: 0.242412:  86%|######################################5      | 6/7 [00:18<00:03,  3.19s/it]"
     ]
    },
    {
     "name": "stdout",
     "output_type": "stream",
     "text": [
      "Early stopping, best iteration is:\n",
      "[135]\tcv_agg's l2: 0.242412 + 0.0476762\n",
      "[100]\tcv_agg's l2: 0.248169 + 0.0802094\n",
      "[200]\tcv_agg's l2: 0.251245 + 0.0744595\n"
     ]
    },
    {
     "name": "stderr",
     "output_type": "stream",
     "text": [
      "feature_fraction, val_score: 0.242412: 100%|#############################################| 7/7 [00:22<00:00,  3.54s/it][I 2023-11-09 13:26:10,121] Trial 6 finished with value: 0.24832513752391322 and parameters: {'feature_fraction': 0.8999999999999999}. Best is trial 2 with value: 0.2424116336944738.\n",
      "feature_fraction, val_score: 0.242412: 100%|#############################################| 7/7 [00:22<00:00,  3.26s/it]\n"
     ]
    },
    {
     "name": "stdout",
     "output_type": "stream",
     "text": [
      "Early stopping, best iteration is:\n",
      "[135]\tcv_agg's l2: 0.242412 + 0.0476762\n"
     ]
    },
    {
     "name": "stderr",
     "output_type": "stream",
     "text": [
      "num_leaves, val_score: 0.242412:   0%|                                                          | 0/20 [00:00<?, ?it/s]"
     ]
    },
    {
     "name": "stdout",
     "output_type": "stream",
     "text": [
      "[100]\tcv_agg's l2: 0.243742 + 0.0487667\n",
      "[200]\tcv_agg's l2: 0.244934 + 0.0478071\n"
     ]
    },
    {
     "name": "stderr",
     "output_type": "stream",
     "text": [
      "num_leaves, val_score: 0.242412:   5%|##5                                               | 1/20 [00:03<01:00,  3.21s/it][I 2023-11-09 13:26:13,338] Trial 7 finished with value: 0.2424116336944738 and parameters: {'num_leaves': 158}. Best is trial 7 with value: 0.2424116336944738.\n",
      "num_leaves, val_score: 0.242412:   5%|##5                                               | 1/20 [00:03<01:00,  3.21s/it]"
     ]
    },
    {
     "name": "stdout",
     "output_type": "stream",
     "text": [
      "Early stopping, best iteration is:\n",
      "[135]\tcv_agg's l2: 0.242412 + 0.0476762\n",
      "[100]\tcv_agg's l2: 0.243742 + 0.0487667\n",
      "[200]\tcv_agg's l2: 0.244934 + 0.0478071\n"
     ]
    },
    {
     "name": "stderr",
     "output_type": "stream",
     "text": [
      "num_leaves, val_score: 0.242412:  10%|#####                                             | 2/20 [00:06<01:00,  3.38s/it][I 2023-11-09 13:26:16,844] Trial 8 finished with value: 0.2424116336944738 and parameters: {'num_leaves': 35}. Best is trial 7 with value: 0.2424116336944738.\n",
      "num_leaves, val_score: 0.242412:  10%|#####                                             | 2/20 [00:06<01:00,  3.38s/it]"
     ]
    },
    {
     "name": "stdout",
     "output_type": "stream",
     "text": [
      "Early stopping, best iteration is:\n",
      "[135]\tcv_agg's l2: 0.242412 + 0.0476762\n",
      "[100]\tcv_agg's l2: 0.243742 + 0.0487667\n",
      "[200]\tcv_agg's l2: 0.244934 + 0.0478071\n"
     ]
    },
    {
     "name": "stderr",
     "output_type": "stream",
     "text": [
      "num_leaves, val_score: 0.242412:  15%|#######5                                          | 3/20 [00:09<00:54,  3.22s/it][I 2023-11-09 13:26:19,863] Trial 9 finished with value: 0.2424116336944738 and parameters: {'num_leaves': 38}. Best is trial 7 with value: 0.2424116336944738.\n",
      "num_leaves, val_score: 0.242412:  15%|#######5                                          | 3/20 [00:09<00:54,  3.22s/it]"
     ]
    },
    {
     "name": "stdout",
     "output_type": "stream",
     "text": [
      "Early stopping, best iteration is:\n",
      "[135]\tcv_agg's l2: 0.242412 + 0.0476762\n",
      "[100]\tcv_agg's l2: 0.243742 + 0.0487667\n",
      "[200]\tcv_agg's l2: 0.244934 + 0.0478071\n"
     ]
    },
    {
     "name": "stderr",
     "output_type": "stream",
     "text": [
      "num_leaves, val_score: 0.242412:  20%|##########                                        | 4/20 [00:13<00:52,  3.31s/it][I 2023-11-09 13:26:23,310] Trial 10 finished with value: 0.2424116336944738 and parameters: {'num_leaves': 255}. Best is trial 7 with value: 0.2424116336944738.\n",
      "num_leaves, val_score: 0.242412:  20%|##########                                        | 4/20 [00:13<00:52,  3.31s/it]"
     ]
    },
    {
     "name": "stdout",
     "output_type": "stream",
     "text": [
      "Early stopping, best iteration is:\n",
      "[135]\tcv_agg's l2: 0.242412 + 0.0476762\n",
      "[100]\tcv_agg's l2: 0.243742 + 0.0487667\n",
      "[200]\tcv_agg's l2: 0.244934 + 0.0478071\n"
     ]
    },
    {
     "name": "stderr",
     "output_type": "stream",
     "text": [
      "num_leaves, val_score: 0.242412:  25%|############5                                     | 5/20 [00:16<00:49,  3.29s/it][I 2023-11-09 13:26:26,558] Trial 11 finished with value: 0.2424116336944738 and parameters: {'num_leaves': 158}. Best is trial 7 with value: 0.2424116336944738.\n",
      "num_leaves, val_score: 0.242412:  25%|############5                                     | 5/20 [00:16<00:49,  3.29s/it]"
     ]
    },
    {
     "name": "stdout",
     "output_type": "stream",
     "text": [
      "Early stopping, best iteration is:\n",
      "[135]\tcv_agg's l2: 0.242412 + 0.0476762\n",
      "[100]\tcv_agg's l2: 0.243742 + 0.0487667\n",
      "[200]\tcv_agg's l2: 0.244934 + 0.0478071\n"
     ]
    },
    {
     "name": "stderr",
     "output_type": "stream",
     "text": [
      "num_leaves, val_score: 0.242412:  30%|###############                                   | 6/20 [00:19<00:46,  3.30s/it][I 2023-11-09 13:26:29,881] Trial 12 finished with value: 0.2424116336944738 and parameters: {'num_leaves': 241}. Best is trial 7 with value: 0.2424116336944738.\n",
      "num_leaves, val_score: 0.242412:  30%|###############                                   | 6/20 [00:19<00:46,  3.30s/it]"
     ]
    },
    {
     "name": "stdout",
     "output_type": "stream",
     "text": [
      "Early stopping, best iteration is:\n",
      "[135]\tcv_agg's l2: 0.242412 + 0.0476762\n",
      "[100]\tcv_agg's l2: 0.243742 + 0.0487667\n",
      "[200]\tcv_agg's l2: 0.244934 + 0.0478071\n"
     ]
    },
    {
     "name": "stderr",
     "output_type": "stream",
     "text": [
      "num_leaves, val_score: 0.242412:  35%|#################5                                | 7/20 [00:23<00:42,  3.30s/it][I 2023-11-09 13:26:33,172] Trial 13 finished with value: 0.2424116336944738 and parameters: {'num_leaves': 99}. Best is trial 7 with value: 0.2424116336944738.\n",
      "num_leaves, val_score: 0.242412:  35%|#################5                                | 7/20 [00:23<00:42,  3.30s/it]"
     ]
    },
    {
     "name": "stdout",
     "output_type": "stream",
     "text": [
      "Early stopping, best iteration is:\n",
      "[135]\tcv_agg's l2: 0.242412 + 0.0476762\n",
      "[100]\tcv_agg's l2: 0.243742 + 0.0487667\n",
      "[200]\tcv_agg's l2: 0.244934 + 0.0478071\n"
     ]
    },
    {
     "name": "stderr",
     "output_type": "stream",
     "text": [
      "num_leaves, val_score: 0.242412:  40%|####################                              | 8/20 [00:26<00:39,  3.28s/it][I 2023-11-09 13:26:36,403] Trial 14 finished with value: 0.2424116336944738 and parameters: {'num_leaves': 98}. Best is trial 7 with value: 0.2424116336944738.\n",
      "num_leaves, val_score: 0.242412:  40%|####################                              | 8/20 [00:26<00:39,  3.28s/it]"
     ]
    },
    {
     "name": "stdout",
     "output_type": "stream",
     "text": [
      "Early stopping, best iteration is:\n",
      "[135]\tcv_agg's l2: 0.242412 + 0.0476762\n",
      "[100]\tcv_agg's l2: 0.243742 + 0.0487667\n",
      "[200]\tcv_agg's l2: 0.244934 + 0.0478071\n"
     ]
    },
    {
     "name": "stderr",
     "output_type": "stream",
     "text": [
      "num_leaves, val_score: 0.242412:  45%|######################5                           | 9/20 [00:29<00:35,  3.26s/it][I 2023-11-09 13:26:39,637] Trial 15 finished with value: 0.2424116336944738 and parameters: {'num_leaves': 202}. Best is trial 7 with value: 0.2424116336944738.\n",
      "num_leaves, val_score: 0.242412:  45%|######################5                           | 9/20 [00:29<00:35,  3.26s/it]"
     ]
    },
    {
     "name": "stdout",
     "output_type": "stream",
     "text": [
      "Early stopping, best iteration is:\n",
      "[135]\tcv_agg's l2: 0.242412 + 0.0476762\n",
      "[100]\tcv_agg's l2: 0.258325 + 0.064121\n"
     ]
    },
    {
     "name": "stderr",
     "output_type": "stream",
     "text": [
      "num_leaves, val_score: 0.242412:  50%|########################5                        | 10/20 [00:30<00:25,  2.54s/it][I 2023-11-09 13:26:40,566] Trial 16 finished with value: 0.2559081746944094 and parameters: {'num_leaves': 6}. Best is trial 7 with value: 0.2424116336944738.\n",
      "num_leaves, val_score: 0.242412:  50%|########################5                        | 10/20 [00:30<00:25,  2.54s/it]"
     ]
    },
    {
     "name": "stdout",
     "output_type": "stream",
     "text": [
      "[200]\tcv_agg's l2: 0.249637 + 0.0613004\n",
      "Early stopping, best iteration is:\n",
      "[135]\tcv_agg's l2: 0.242412 + 0.0476762\n",
      "[100]\tcv_agg's l2: 0.243742 + 0.0487667\n",
      "[200]\tcv_agg's l2: 0.244934 + 0.0478071\n"
     ]
    },
    {
     "name": "stderr",
     "output_type": "stream",
     "text": [
      "num_leaves, val_score: 0.242412:  55%|##########################9                      | 11/20 [00:33<00:25,  2.81s/it][I 2023-11-09 13:26:43,979] Trial 17 finished with value: 0.2424116336944738 and parameters: {'num_leaves': 90}. Best is trial 7 with value: 0.2424116336944738.\n",
      "num_leaves, val_score: 0.242412:  55%|##########################9                      | 11/20 [00:33<00:25,  2.81s/it]"
     ]
    },
    {
     "name": "stdout",
     "output_type": "stream",
     "text": [
      "Early stopping, best iteration is:\n",
      "[135]\tcv_agg's l2: 0.242412 + 0.0476762\n",
      "[100]\tcv_agg's l2: 0.243742 + 0.0487667\n",
      "[200]\tcv_agg's l2: 0.244934 + 0.0478071\n"
     ]
    },
    {
     "name": "stderr",
     "output_type": "stream",
     "text": [
      "num_leaves, val_score: 0.242412:  60%|#############################4                   | 12/20 [00:37<00:23,  2.96s/it][I 2023-11-09 13:26:47,296] Trial 18 finished with value: 0.2424116336944738 and parameters: {'num_leaves': 186}. Best is trial 7 with value: 0.2424116336944738.\n",
      "num_leaves, val_score: 0.242412:  60%|#############################4                   | 12/20 [00:37<00:23,  2.96s/it]"
     ]
    },
    {
     "name": "stdout",
     "output_type": "stream",
     "text": [
      "Early stopping, best iteration is:\n",
      "[135]\tcv_agg's l2: 0.242412 + 0.0476762\n",
      "[100]\tcv_agg's l2: 0.243742 + 0.0487667\n",
      "[200]\tcv_agg's l2: 0.244934 + 0.0478071\n"
     ]
    },
    {
     "name": "stderr",
     "output_type": "stream",
     "text": [
      "num_leaves, val_score: 0.242412:  65%|###############################8                 | 13/20 [00:40<00:21,  3.08s/it][I 2023-11-09 13:26:50,650] Trial 19 finished with value: 0.2424116336944738 and parameters: {'num_leaves': 64}. Best is trial 7 with value: 0.2424116336944738.\n",
      "num_leaves, val_score: 0.242412:  65%|###############################8                 | 13/20 [00:40<00:21,  3.08s/it]"
     ]
    },
    {
     "name": "stdout",
     "output_type": "stream",
     "text": [
      "Early stopping, best iteration is:\n",
      "[135]\tcv_agg's l2: 0.242412 + 0.0476762\n",
      "[100]\tcv_agg's l2: 0.243742 + 0.0487667\n",
      "[200]\tcv_agg's l2: 0.244934 + 0.0478071\n"
     ]
    },
    {
     "name": "stderr",
     "output_type": "stream",
     "text": [
      "num_leaves, val_score: 0.242412:  70%|##################################3              | 14/20 [00:43<00:18,  3.14s/it][I 2023-11-09 13:26:53,934] Trial 20 finished with value: 0.2424116336944738 and parameters: {'num_leaves': 215}. Best is trial 7 with value: 0.2424116336944738.\n",
      "num_leaves, val_score: 0.242412:  70%|##################################3              | 14/20 [00:43<00:18,  3.14s/it]"
     ]
    },
    {
     "name": "stdout",
     "output_type": "stream",
     "text": [
      "Early stopping, best iteration is:\n",
      "[135]\tcv_agg's l2: 0.242412 + 0.0476762\n",
      "[100]\tcv_agg's l2: 0.243742 + 0.0487667\n",
      "[200]\tcv_agg's l2: 0.244934 + 0.0478071\n"
     ]
    },
    {
     "name": "stderr",
     "output_type": "stream",
     "text": [
      "num_leaves, val_score: 0.242412:  75%|####################################7            | 15/20 [00:47<00:15,  3.16s/it][I 2023-11-09 13:26:57,134] Trial 21 finished with value: 0.2424116336944738 and parameters: {'num_leaves': 155}. Best is trial 7 with value: 0.2424116336944738.\n",
      "num_leaves, val_score: 0.242412:  75%|####################################7            | 15/20 [00:47<00:15,  3.16s/it]"
     ]
    },
    {
     "name": "stdout",
     "output_type": "stream",
     "text": [
      "Early stopping, best iteration is:\n",
      "[135]\tcv_agg's l2: 0.242412 + 0.0476762\n",
      "[100]\tcv_agg's l2: 0.243742 + 0.0487667\n",
      "[200]\tcv_agg's l2: 0.244934 + 0.0478071\n"
     ]
    },
    {
     "name": "stderr",
     "output_type": "stream",
     "text": [
      "num_leaves, val_score: 0.242412:  80%|#######################################2         | 16/20 [00:50<00:12,  3.18s/it][I 2023-11-09 13:27:00,351] Trial 22 finished with value: 0.2424116336944738 and parameters: {'num_leaves': 122}. Best is trial 7 with value: 0.2424116336944738.\n",
      "num_leaves, val_score: 0.242412:  80%|#######################################2         | 16/20 [00:50<00:12,  3.18s/it]"
     ]
    },
    {
     "name": "stdout",
     "output_type": "stream",
     "text": [
      "Early stopping, best iteration is:\n",
      "[135]\tcv_agg's l2: 0.242412 + 0.0476762\n",
      "[100]\tcv_agg's l2: 0.243742 + 0.0487667\n",
      "[200]\tcv_agg's l2: 0.244934 + 0.0478071\n"
     ]
    },
    {
     "name": "stderr",
     "output_type": "stream",
     "text": [
      "num_leaves, val_score: 0.242412:  85%|#########################################6       | 17/20 [00:53<00:09,  3.15s/it][I 2023-11-09 13:27:03,444] Trial 23 finished with value: 0.2424116336944738 and parameters: {'num_leaves': 156}. Best is trial 7 with value: 0.2424116336944738.\n",
      "num_leaves, val_score: 0.242412:  85%|#########################################6       | 17/20 [00:53<00:09,  3.15s/it]"
     ]
    },
    {
     "name": "stdout",
     "output_type": "stream",
     "text": [
      "Early stopping, best iteration is:\n",
      "[135]\tcv_agg's l2: 0.242412 + 0.0476762\n",
      "[100]\tcv_agg's l2: 0.243742 + 0.0487667\n",
      "[200]\tcv_agg's l2: 0.244934 + 0.0478071\n"
     ]
    },
    {
     "name": "stderr",
     "output_type": "stream",
     "text": [
      "num_leaves, val_score: 0.242412:  90%|############################################1    | 18/20 [00:56<00:06,  3.17s/it][I 2023-11-09 13:27:06,660] Trial 24 finished with value: 0.2424116336944738 and parameters: {'num_leaves': 129}. Best is trial 7 with value: 0.2424116336944738.\n",
      "num_leaves, val_score: 0.242412:  90%|############################################1    | 18/20 [00:56<00:06,  3.17s/it]"
     ]
    },
    {
     "name": "stdout",
     "output_type": "stream",
     "text": [
      "Early stopping, best iteration is:\n",
      "[135]\tcv_agg's l2: 0.242412 + 0.0476762\n",
      "[100]\tcv_agg's l2: 0.243742 + 0.0487667\n",
      "[200]\tcv_agg's l2: 0.244934 + 0.0478071\n"
     ]
    },
    {
     "name": "stderr",
     "output_type": "stream",
     "text": [
      "num_leaves, val_score: 0.242412:  95%|##############################################5  | 19/20 [00:59<00:03,  3.26s/it][I 2023-11-09 13:27:10,118] Trial 25 finished with value: 0.2424116336944738 and parameters: {'num_leaves': 175}. Best is trial 7 with value: 0.2424116336944738.\n",
      "num_leaves, val_score: 0.242412:  95%|##############################################5  | 19/20 [00:59<00:03,  3.26s/it]"
     ]
    },
    {
     "name": "stdout",
     "output_type": "stream",
     "text": [
      "Early stopping, best iteration is:\n",
      "[135]\tcv_agg's l2: 0.242412 + 0.0476762\n",
      "[100]\tcv_agg's l2: 0.243742 + 0.0487667\n",
      "[200]\tcv_agg's l2: 0.244934 + 0.0478071\n"
     ]
    },
    {
     "name": "stderr",
     "output_type": "stream",
     "text": [
      "num_leaves, val_score: 0.242412: 100%|#################################################| 20/20 [01:03<00:00,  3.27s/it][I 2023-11-09 13:27:13,419] Trial 26 finished with value: 0.2424116336944738 and parameters: {'num_leaves': 217}. Best is trial 7 with value: 0.2424116336944738.\n",
      "num_leaves, val_score: 0.242412: 100%|#################################################| 20/20 [01:03<00:00,  3.16s/it]\n"
     ]
    },
    {
     "name": "stdout",
     "output_type": "stream",
     "text": [
      "Early stopping, best iteration is:\n",
      "[135]\tcv_agg's l2: 0.242412 + 0.0476762\n"
     ]
    },
    {
     "name": "stderr",
     "output_type": "stream",
     "text": [
      "bagging, val_score: 0.242412:   0%|                                                             | 0/10 [00:00<?, ?it/s]"
     ]
    },
    {
     "name": "stdout",
     "output_type": "stream",
     "text": [
      "[100]\tcv_agg's l2: 0.251404 + 0.0514214\n",
      "[200]\tcv_agg's l2: 0.2488 + 0.0466983\n"
     ]
    },
    {
     "name": "stderr",
     "output_type": "stream",
     "text": [
      "bagging, val_score: 0.242412:  10%|#####3                                               | 1/10 [00:03<00:29,  3.26s/it][I 2023-11-09 13:27:16,684] Trial 27 finished with value: 0.24827504014194482 and parameters: {'bagging_fraction': 0.9391546309593491, 'bagging_freq': 7}. Best is trial 27 with value: 0.24827504014194482.\n",
      "bagging, val_score: 0.242412:  10%|#####3                                               | 1/10 [00:03<00:29,  3.26s/it]"
     ]
    },
    {
     "name": "stdout",
     "output_type": "stream",
     "text": [
      "Early stopping, best iteration is:\n",
      "[135]\tcv_agg's l2: 0.242412 + 0.0476762\n",
      "[100]\tcv_agg's l2: 0.299819 + 0.0601719\n",
      "[200]\tcv_agg's l2: 0.289283 + 0.0561159\n"
     ]
    },
    {
     "name": "stderr",
     "output_type": "stream",
     "text": [
      "bagging, val_score: 0.242412:  20%|##########6                                          | 2/10 [00:04<00:18,  2.34s/it][I 2023-11-09 13:27:18,385] Trial 28 finished with value: 0.2961052609859604 and parameters: {'bagging_fraction': 0.41292537006483737, 'bagging_freq': 1}. Best is trial 27 with value: 0.24827504014194482.\n",
      "bagging, val_score: 0.242412:  20%|##########6                                          | 2/10 [00:04<00:18,  2.34s/it]"
     ]
    },
    {
     "name": "stdout",
     "output_type": "stream",
     "text": [
      "Early stopping, best iteration is:\n",
      "[135]\tcv_agg's l2: 0.242412 + 0.0476762\n",
      "[100]\tcv_agg's l2: 0.249774 + 0.0477541\n",
      "[200]\tcv_agg's l2: 0.250456 + 0.0463456\n"
     ]
    },
    {
     "name": "stderr",
     "output_type": "stream",
     "text": [
      "bagging, val_score: 0.242412:  30%|###############9                                     | 3/10 [00:08<00:19,  2.74s/it][I 2023-11-09 13:27:21,597] Trial 29 finished with value: 0.2495082500656421 and parameters: {'bagging_fraction': 0.985858775641757, 'bagging_freq': 4}. Best is trial 27 with value: 0.24827504014194482.\n",
      "bagging, val_score: 0.242412:  30%|###############9                                     | 3/10 [00:08<00:19,  2.74s/it]"
     ]
    },
    {
     "name": "stdout",
     "output_type": "stream",
     "text": [
      "Early stopping, best iteration is:\n",
      "[135]\tcv_agg's l2: 0.242412 + 0.0476762\n",
      "[100]\tcv_agg's l2: 0.271674 + 0.048051\n",
      "[200]\tcv_agg's l2: 0.266673 + 0.050933\n"
     ]
    },
    {
     "name": "stderr",
     "output_type": "stream",
     "text": [
      "bagging, val_score: 0.242412:  40%|#####################2                               | 4/10 [00:10<00:14,  2.48s/it][I 2023-11-09 13:27:23,675] Trial 30 finished with value: 0.2680105620512242 and parameters: {'bagging_fraction': 0.6357337965194771, 'bagging_freq': 7}. Best is trial 27 with value: 0.24827504014194482.\n",
      "bagging, val_score: 0.242412:  40%|#####################2                               | 4/10 [00:10<00:14,  2.48s/it]"
     ]
    },
    {
     "name": "stdout",
     "output_type": "stream",
     "text": [
      "Early stopping, best iteration is:\n",
      "[135]\tcv_agg's l2: 0.242412 + 0.0476762\n",
      "[100]\tcv_agg's l2: 0.25302 + 0.0606995\n",
      "[200]\tcv_agg's l2: 0.251244 + 0.0579195\n"
     ]
    },
    {
     "name": "stderr",
     "output_type": "stream",
     "text": [
      "bagging, val_score: 0.242412:  50%|##########################5                          | 5/10 [00:12<00:12,  2.55s/it][I 2023-11-09 13:27:26,338] Trial 31 finished with value: 0.25114349141643105 and parameters: {'bagging_fraction': 0.7511326086151936, 'bagging_freq': 1}. Best is trial 27 with value: 0.24827504014194482.\n",
      "bagging, val_score: 0.242412:  50%|##########################5                          | 5/10 [00:12<00:12,  2.55s/it]"
     ]
    },
    {
     "name": "stdout",
     "output_type": "stream",
     "text": [
      "Early stopping, best iteration is:\n",
      "[135]\tcv_agg's l2: 0.242412 + 0.0476762\n",
      "[100]\tcv_agg's l2: 0.318152 + 0.0419336\n",
      "[200]\tcv_agg's l2: 0.306396 + 0.0430922\n"
     ]
    },
    {
     "name": "stderr",
     "output_type": "stream",
     "text": [
      "bagging, val_score: 0.242412:  60%|###############################8                     | 6/10 [00:14<00:08,  2.21s/it][I 2023-11-09 13:27:27,906] Trial 32 finished with value: 0.3123054177554117 and parameters: {'bagging_fraction': 0.4269131850346776, 'bagging_freq': 4}. Best is trial 27 with value: 0.24827504014194482.\n",
      "bagging, val_score: 0.242412:  60%|###############################8                     | 6/10 [00:14<00:08,  2.21s/it]"
     ]
    },
    {
     "name": "stdout",
     "output_type": "stream",
     "text": [
      "Early stopping, best iteration is:\n",
      "[135]\tcv_agg's l2: 0.242412 + 0.0476762\n",
      "[100]\tcv_agg's l2: 0.249702 + 0.0531257\n",
      "[200]\tcv_agg's l2: 0.249511 + 0.0540751\n"
     ]
    },
    {
     "name": "stderr",
     "output_type": "stream",
     "text": [
      "bagging, val_score: 0.242412:  70%|#####################################                | 7/10 [00:16<00:06,  2.29s/it][I 2023-11-09 13:27:30,364] Trial 33 finished with value: 0.24950128446811867 and parameters: {'bagging_fraction': 0.7328928962114436, 'bagging_freq': 3}. Best is trial 27 with value: 0.24827504014194482.\n",
      "bagging, val_score: 0.242412:  70%|#####################################                | 7/10 [00:16<00:06,  2.29s/it]"
     ]
    },
    {
     "name": "stdout",
     "output_type": "stream",
     "text": [
      "Early stopping, best iteration is:\n",
      "[135]\tcv_agg's l2: 0.242412 + 0.0476762\n",
      "[100]\tcv_agg's l2: 0.274936 + 0.0455507\n",
      "[200]\tcv_agg's l2: 0.267906 + 0.0490056\n"
     ]
    },
    {
     "name": "stderr",
     "output_type": "stream",
     "text": [
      "bagging, val_score: 0.242412:  80%|##########################################4          | 8/10 [00:19<00:04,  2.22s/it][I 2023-11-09 13:27:32,433] Trial 34 finished with value: 0.2705516319236249 and parameters: {'bagging_fraction': 0.5798272399732203, 'bagging_freq': 6}. Best is trial 27 with value: 0.24827504014194482.\n",
      "bagging, val_score: 0.242412:  80%|##########################################4          | 8/10 [00:19<00:04,  2.22s/it]"
     ]
    },
    {
     "name": "stdout",
     "output_type": "stream",
     "text": [
      "Early stopping, best iteration is:\n",
      "[135]\tcv_agg's l2: 0.242412 + 0.0476762\n",
      "[100]\tcv_agg's l2: 0.251344 + 0.0435263\n",
      "[200]\tcv_agg's l2: 0.246733 + 0.0391337\n"
     ]
    },
    {
     "name": "stderr",
     "output_type": "stream",
     "text": [
      "bagging, val_score: 0.242412:  90%|###############################################7     | 9/10 [00:21<00:02,  2.41s/it][I 2023-11-09 13:27:35,262] Trial 35 finished with value: 0.2480586329430575 and parameters: {'bagging_fraction': 0.8747219828345463, 'bagging_freq': 2}. Best is trial 35 with value: 0.2480586329430575.\n",
      "bagging, val_score: 0.242412:  90%|###############################################7     | 9/10 [00:21<00:02,  2.41s/it]"
     ]
    },
    {
     "name": "stdout",
     "output_type": "stream",
     "text": [
      "Early stopping, best iteration is:\n",
      "[135]\tcv_agg's l2: 0.242412 + 0.0476762\n",
      "[100]\tcv_agg's l2: 0.254046 + 0.0454356\n",
      "[200]\tcv_agg's l2: 0.249289 + 0.0385252\n"
     ]
    },
    {
     "name": "stderr",
     "output_type": "stream",
     "text": [
      "bagging, val_score: 0.242412: 100%|####################################################| 10/10 [00:24<00:00,  2.59s/it][I 2023-11-09 13:27:38,238] Trial 36 finished with value: 0.2515388884201269 and parameters: {'bagging_fraction': 0.8263379446439237, 'bagging_freq': 5}. Best is trial 35 with value: 0.2480586329430575.\n",
      "bagging, val_score: 0.242412: 100%|####################################################| 10/10 [00:24<00:00,  2.48s/it]\n"
     ]
    },
    {
     "name": "stdout",
     "output_type": "stream",
     "text": [
      "Early stopping, best iteration is:\n",
      "[135]\tcv_agg's l2: 0.242412 + 0.0476762\n"
     ]
    },
    {
     "name": "stderr",
     "output_type": "stream",
     "text": [
      "feature_fraction_stage2, val_score: 0.242412:   0%|                                              | 0/6 [00:00<?, ?it/s]"
     ]
    },
    {
     "name": "stdout",
     "output_type": "stream",
     "text": [
      "[100]\tcv_agg's l2: 0.243742 + 0.0487667\n",
      "[200]\tcv_agg's l2: 0.244934 + 0.0478071\n"
     ]
    },
    {
     "name": "stderr",
     "output_type": "stream",
     "text": [
      "feature_fraction_stage2, val_score: 0.242412:  17%|######3                               | 1/6 [00:03<00:16,  3.26s/it][I 2023-11-09 13:27:41,501] Trial 37 finished with value: 0.2424116336944738 and parameters: {'feature_fraction': 0.7200000000000001}. Best is trial 37 with value: 0.2424116336944738.\n",
      "feature_fraction_stage2, val_score: 0.242412:  17%|######3                               | 1/6 [00:03<00:16,  3.26s/it]"
     ]
    },
    {
     "name": "stdout",
     "output_type": "stream",
     "text": [
      "Early stopping, best iteration is:\n",
      "[135]\tcv_agg's l2: 0.242412 + 0.0476762\n",
      "[100]\tcv_agg's l2: 0.243742 + 0.0487667\n",
      "[200]\tcv_agg's l2: 0.244934 + 0.0478071\n"
     ]
    },
    {
     "name": "stderr",
     "output_type": "stream",
     "text": [
      "feature_fraction_stage2, val_score: 0.242412:  33%|############6                         | 2/6 [00:06<00:12,  3.13s/it][I 2023-11-09 13:27:44,544] Trial 38 finished with value: 0.2424116336944738 and parameters: {'feature_fraction': 0.7520000000000001}. Best is trial 37 with value: 0.2424116336944738.\n",
      "feature_fraction_stage2, val_score: 0.242412:  33%|############6                         | 2/6 [00:06<00:12,  3.13s/it]"
     ]
    },
    {
     "name": "stdout",
     "output_type": "stream",
     "text": [
      "Early stopping, best iteration is:\n",
      "[135]\tcv_agg's l2: 0.242412 + 0.0476762\n",
      "[100]\tcv_agg's l2: 0.243742 + 0.0487667\n",
      "[200]\tcv_agg's l2: 0.244934 + 0.0478071\n"
     ]
    },
    {
     "name": "stderr",
     "output_type": "stream",
     "text": [
      "feature_fraction_stage2, val_score: 0.242412:  50%|###################                   | 3/6 [00:09<00:09,  3.07s/it][I 2023-11-09 13:27:47,546] Trial 39 finished with value: 0.2424116336944738 and parameters: {'feature_fraction': 0.784}. Best is trial 37 with value: 0.2424116336944738.\n",
      "feature_fraction_stage2, val_score: 0.242412:  50%|###################                   | 3/6 [00:09<00:09,  3.07s/it]"
     ]
    },
    {
     "name": "stdout",
     "output_type": "stream",
     "text": [
      "Early stopping, best iteration is:\n",
      "[135]\tcv_agg's l2: 0.242412 + 0.0476762\n",
      "[100]\tcv_agg's l2: 0.248169 + 0.0802094\n",
      "[200]\tcv_agg's l2: 0.251245 + 0.0744595\n"
     ]
    },
    {
     "name": "stderr",
     "output_type": "stream",
     "text": [
      "feature_fraction_stage2, val_score: 0.242412:  67%|#########################3            | 4/6 [00:12<00:06,  3.15s/it][I 2023-11-09 13:27:50,805] Trial 40 finished with value: 0.24832513752391322 and parameters: {'feature_fraction': 0.8160000000000001}. Best is trial 37 with value: 0.2424116336944738.\n",
      "feature_fraction_stage2, val_score: 0.242412:  67%|#########################3            | 4/6 [00:12<00:06,  3.15s/it]"
     ]
    },
    {
     "name": "stdout",
     "output_type": "stream",
     "text": [
      "Early stopping, best iteration is:\n",
      "[135]\tcv_agg's l2: 0.242412 + 0.0476762\n",
      "[100]\tcv_agg's l2: 0.248169 + 0.0802094\n",
      "[200]\tcv_agg's l2: 0.251245 + 0.0744595\n"
     ]
    },
    {
     "name": "stderr",
     "output_type": "stream",
     "text": [
      "feature_fraction_stage2, val_score: 0.242412:  83%|###############################6      | 5/6 [00:16<00:03,  3.44s/it][I 2023-11-09 13:27:54,773] Trial 41 finished with value: 0.24832513752391322 and parameters: {'feature_fraction': 0.88}. Best is trial 37 with value: 0.2424116336944738.\n",
      "feature_fraction_stage2, val_score: 0.242412:  83%|###############################6      | 5/6 [00:16<00:03,  3.44s/it]"
     ]
    },
    {
     "name": "stdout",
     "output_type": "stream",
     "text": [
      "Early stopping, best iteration is:\n",
      "[135]\tcv_agg's l2: 0.242412 + 0.0476762\n",
      "[100]\tcv_agg's l2: 0.248169 + 0.0802094\n",
      "[200]\tcv_agg's l2: 0.251245 + 0.0744595\n"
     ]
    },
    {
     "name": "stderr",
     "output_type": "stream",
     "text": [
      "feature_fraction_stage2, val_score: 0.242412: 100%|######################################| 6/6 [00:19<00:00,  3.36s/it][I 2023-11-09 13:27:57,979] Trial 42 finished with value: 0.24832513752391322 and parameters: {'feature_fraction': 0.8480000000000001}. Best is trial 37 with value: 0.2424116336944738.\n",
      "feature_fraction_stage2, val_score: 0.242412: 100%|######################################| 6/6 [00:19<00:00,  3.29s/it]\n"
     ]
    },
    {
     "name": "stdout",
     "output_type": "stream",
     "text": [
      "Early stopping, best iteration is:\n",
      "[135]\tcv_agg's l2: 0.242412 + 0.0476762\n"
     ]
    },
    {
     "name": "stderr",
     "output_type": "stream",
     "text": [
      "regularization_factors, val_score: 0.242412:   0%|                                              | 0/20 [00:00<?, ?it/s]"
     ]
    },
    {
     "name": "stdout",
     "output_type": "stream",
     "text": [
      "[100]\tcv_agg's l2: 0.247078 + 0.0480295\n",
      "[200]\tcv_agg's l2: 0.24795 + 0.0487814\n"
     ]
    },
    {
     "name": "stderr",
     "output_type": "stream",
     "text": [
      "regularization_factors, val_score: 0.242412:   5%|#9                                    | 1/20 [00:05<01:44,  5.52s/it][I 2023-11-09 13:28:03,503] Trial 43 finished with value: 0.2486696637740898 and parameters: {'lambda_l1': 0.0017936129423616863, 'lambda_l2': 6.454174255527938e-06}. Best is trial 43 with value: 0.2486696637740898.\n",
      "regularization_factors, val_score: 0.242412:   5%|#9                                    | 1/20 [00:05<01:44,  5.52s/it]"
     ]
    },
    {
     "name": "stdout",
     "output_type": "stream",
     "text": [
      "Early stopping, best iteration is:\n",
      "[135]\tcv_agg's l2: 0.242412 + 0.0476762\n",
      "[100]\tcv_agg's l2: 0.23561 + 0.0414179\n",
      "[200]\tcv_agg's l2: 0.234667 + 0.0413056\n"
     ]
    },
    {
     "name": "stderr",
     "output_type": "stream",
     "text": [
      "regularization_factors, val_score: 0.233651:  10%|###8                                  | 2/20 [00:08<01:11,  3.96s/it][I 2023-11-09 13:28:06,372] Trial 44 finished with value: 0.23365081001370935 and parameters: {'lambda_l1': 1.2438899222927316e-08, 'lambda_l2': 8.225589498599122}. Best is trial 44 with value: 0.23365081001370935.\n",
      "regularization_factors, val_score: 0.233651:  10%|###8                                  | 2/20 [00:08<01:11,  3.96s/it]"
     ]
    },
    {
     "name": "stdout",
     "output_type": "stream",
     "text": [
      "Early stopping, best iteration is:\n",
      "[167]\tcv_agg's l2: 0.233651 + 0.040121\n",
      "[100]\tcv_agg's l2: 0.234841 + 0.0451691\n",
      "[200]\tcv_agg's l2: 0.235396 + 0.044338\n"
     ]
    },
    {
     "name": "stderr",
     "output_type": "stream",
     "text": [
      "regularization_factors, val_score: 0.233651:  15%|#####7                                | 3/20 [00:10<00:56,  3.30s/it][I 2023-11-09 13:28:08,878] Trial 45 finished with value: 0.2351480514638829 and parameters: {'lambda_l1': 2.6651459490598173e-08, 'lambda_l2': 7.4666831345011895}. Best is trial 44 with value: 0.23365081001370935.\n",
      "regularization_factors, val_score: 0.233651:  15%|#####7                                | 3/20 [00:10<00:56,  3.30s/it]"
     ]
    },
    {
     "name": "stdout",
     "output_type": "stream",
     "text": [
      "Early stopping, best iteration is:\n",
      "[167]\tcv_agg's l2: 0.233651 + 0.040121\n",
      "[100]\tcv_agg's l2: 0.237906 + 0.0478349\n",
      "[200]\tcv_agg's l2: 0.238669 + 0.0444976\n"
     ]
    },
    {
     "name": "stderr",
     "output_type": "stream",
     "text": [
      "regularization_factors, val_score: 0.233651:  20%|#######6                              | 4/20 [00:13<00:46,  2.90s/it][I 2023-11-09 13:28:11,165] Trial 46 finished with value: 0.2369335503684086 and parameters: {'lambda_l1': 1.0002841802484425e-08, 'lambda_l2': 6.989071336540412}. Best is trial 44 with value: 0.23365081001370935.\n",
      "regularization_factors, val_score: 0.233651:  20%|#######6                              | 4/20 [00:13<00:46,  2.90s/it]"
     ]
    },
    {
     "name": "stdout",
     "output_type": "stream",
     "text": [
      "Early stopping, best iteration is:\n",
      "[167]\tcv_agg's l2: 0.233651 + 0.040121\n",
      "[100]\tcv_agg's l2: 0.23813 + 0.0478444\n",
      "[200]\tcv_agg's l2: 0.238576 + 0.0472765\n"
     ]
    },
    {
     "name": "stderr",
     "output_type": "stream",
     "text": [
      "regularization_factors, val_score: 0.233651:  25%|#########5                            | 5/20 [00:15<00:40,  2.70s/it][I 2023-11-09 13:28:13,505] Trial 47 finished with value: 0.23732562605984894 and parameters: {'lambda_l1': 1.5603596450320324e-08, 'lambda_l2': 9.967346015968575}. Best is trial 44 with value: 0.23365081001370935.\n",
      "regularization_factors, val_score: 0.233651:  25%|#########5                            | 5/20 [00:15<00:40,  2.70s/it]"
     ]
    },
    {
     "name": "stdout",
     "output_type": "stream",
     "text": [
      "Early stopping, best iteration is:\n",
      "[167]\tcv_agg's l2: 0.233651 + 0.040121\n",
      "[100]\tcv_agg's l2: 0.236802 + 0.0433242\n",
      "[200]\tcv_agg's l2: 0.240511 + 0.0441209\n"
     ]
    },
    {
     "name": "stderr",
     "output_type": "stream",
     "text": [
      "regularization_factors, val_score: 0.233651:  30%|###########4                          | 6/20 [00:17<00:36,  2.59s/it][I 2023-11-09 13:28:15,899] Trial 48 finished with value: 0.23948756458357487 and parameters: {'lambda_l1': 1.0523141566843979e-08, 'lambda_l2': 6.358968354645484}. Best is trial 44 with value: 0.23365081001370935.\n",
      "regularization_factors, val_score: 0.233651:  30%|###########4                          | 6/20 [00:17<00:36,  2.59s/it]"
     ]
    },
    {
     "name": "stdout",
     "output_type": "stream",
     "text": [
      "Early stopping, best iteration is:\n",
      "[167]\tcv_agg's l2: 0.233651 + 0.040121\n",
      "[100]\tcv_agg's l2: 0.24529 + 0.0477122\n",
      "[200]\tcv_agg's l2: 0.246434 + 0.0460719\n"
     ]
    },
    {
     "name": "stderr",
     "output_type": "stream",
     "text": [
      "regularization_factors, val_score: 0.233651:  35%|#############3                        | 7/20 [00:20<00:33,  2.58s/it][I 2023-11-09 13:28:18,439] Trial 49 finished with value: 0.2460949836746246 and parameters: {'lambda_l1': 1.1393038105510886e-08, 'lambda_l2': 4.744338265265479}. Best is trial 44 with value: 0.23365081001370935.\n",
      "regularization_factors, val_score: 0.233651:  35%|#############3                        | 7/20 [00:20<00:33,  2.58s/it]"
     ]
    },
    {
     "name": "stdout",
     "output_type": "stream",
     "text": [
      "Early stopping, best iteration is:\n",
      "[167]\tcv_agg's l2: 0.233651 + 0.040121\n",
      "[100]\tcv_agg's l2: 0.233618 + 0.0432543\n"
     ]
    },
    {
     "name": "stderr",
     "output_type": "stream",
     "text": [
      "\r",
      "regularization_factors, val_score: 0.231174:  35%|#############3                        | 7/20 [00:22<00:33,  2.58s/it]"
     ]
    },
    {
     "name": "stdout",
     "output_type": "stream",
     "text": [
      "[200]\tcv_agg's l2: 0.233125 + 0.0414824\n",
      "Early stopping, best iteration is:\n",
      "[120]\tcv_agg's l2: 0.231174 + 0.0414476\n"
     ]
    },
    {
     "name": "stderr",
     "output_type": "stream",
     "text": [
      "regularization_factors, val_score: 0.231174:  40%|###############2                      | 8/20 [00:22<00:28,  2.37s/it][I 2023-11-09 13:28:20,369] Trial 50 finished with value: 0.23117353445821967 and parameters: {'lambda_l1': 1.1121154373158193e-08, 'lambda_l2': 8.090254380689329}. Best is trial 50 with value: 0.23117353445821967.\n",
      "regularization_factors, val_score: 0.231174:  40%|###############2                      | 8/20 [00:22<00:28,  2.37s/it]"
     ]
    },
    {
     "name": "stdout",
     "output_type": "stream",
     "text": [
      "[100]\tcv_agg's l2: 0.236921 + 0.045464\n",
      "[200]\tcv_agg's l2: 0.237028 + 0.0440498\n"
     ]
    },
    {
     "name": "stderr",
     "output_type": "stream",
     "text": [
      "regularization_factors, val_score: 0.231174:  45%|#################1                    | 9/20 [00:24<00:24,  2.22s/it][I 2023-11-09 13:28:22,245] Trial 51 finished with value: 0.23592330470034434 and parameters: {'lambda_l1': 1.0782586967356578e-08, 'lambda_l2': 7.20258189760597}. Best is trial 50 with value: 0.23117353445821967.\n",
      "regularization_factors, val_score: 0.231174:  45%|#################1                    | 9/20 [00:24<00:24,  2.22s/it]"
     ]
    },
    {
     "name": "stdout",
     "output_type": "stream",
     "text": [
      "Early stopping, best iteration is:\n",
      "[120]\tcv_agg's l2: 0.231174 + 0.0414476\n",
      "[100]\tcv_agg's l2: 0.239205 + 0.0459349\n",
      "[200]\tcv_agg's l2: 0.235513 + 0.0438942\n"
     ]
    },
    {
     "name": "stderr",
     "output_type": "stream",
     "text": [
      "regularization_factors, val_score: 0.231174:  50%|##################5                  | 10/20 [00:26<00:21,  2.20s/it][I 2023-11-09 13:28:24,397] Trial 52 finished with value: 0.23577087670787247 and parameters: {'lambda_l1': 1.1580773998745134e-08, 'lambda_l2': 9.816668921568617}. Best is trial 50 with value: 0.23117353445821967.\n",
      "regularization_factors, val_score: 0.231174:  50%|##################5                  | 10/20 [00:26<00:21,  2.20s/it]"
     ]
    },
    {
     "name": "stdout",
     "output_type": "stream",
     "text": [
      "Early stopping, best iteration is:\n",
      "[120]\tcv_agg's l2: 0.231174 + 0.0414476\n",
      "[100]\tcv_agg's l2: 0.236834 + 0.0448171\n"
     ]
    },
    {
     "name": "stderr",
     "output_type": "stream",
     "text": [
      "\r",
      "regularization_factors, val_score: 0.231174:  50%|##################5                  | 10/20 [00:28<00:21,  2.20s/it]"
     ]
    },
    {
     "name": "stdout",
     "output_type": "stream",
     "text": [
      "[200]\tcv_agg's l2: 0.235538 + 0.0435962\n",
      "Early stopping, best iteration is:\n",
      "[120]\tcv_agg's l2: 0.231174 + 0.0414476\n"
     ]
    },
    {
     "name": "stderr",
     "output_type": "stream",
     "text": [
      "regularization_factors, val_score: 0.231174:  55%|####################3                | 11/20 [00:28<00:19,  2.13s/it][I 2023-11-09 13:28:26,375] Trial 53 finished with value: 0.23503671872327075 and parameters: {'lambda_l1': 1.4025820617116552e-08, 'lambda_l2': 8.792394675770531}. Best is trial 50 with value: 0.23117353445821967.\n",
      "regularization_factors, val_score: 0.231174:  55%|####################3                | 11/20 [00:28<00:19,  2.13s/it]"
     ]
    },
    {
     "name": "stdout",
     "output_type": "stream",
     "text": [
      "[100]\tcv_agg's l2: 0.23736 + 0.049108\n"
     ]
    },
    {
     "name": "stderr",
     "output_type": "stream",
     "text": [
      "\r",
      "regularization_factors, val_score: 0.231174:  55%|####################3                | 11/20 [00:30<00:19,  2.13s/it]"
     ]
    },
    {
     "name": "stdout",
     "output_type": "stream",
     "text": [
      "[200]\tcv_agg's l2: 0.239539 + 0.0497267\n",
      "Early stopping, best iteration is:\n",
      "[120]\tcv_agg's l2: 0.231174 + 0.0414476\n"
     ]
    },
    {
     "name": "stderr",
     "output_type": "stream",
     "text": [
      "regularization_factors, val_score: 0.231174:  60%|######################2              | 12/20 [00:30<00:16,  2.11s/it][I 2023-11-09 13:28:28,429] Trial 54 finished with value: 0.23587817537669817 and parameters: {'lambda_l1': 1.3289254312374168e-08, 'lambda_l2': 6.869261005144585}. Best is trial 50 with value: 0.23117353445821967.\n",
      "regularization_factors, val_score: 0.231174:  60%|######################2              | 12/20 [00:30<00:16,  2.11s/it]"
     ]
    },
    {
     "name": "stdout",
     "output_type": "stream",
     "text": [
      "[100]\tcv_agg's l2: 0.237724 + 0.043365\n",
      "[200]\tcv_agg's l2: 0.238079 + 0.0435999\n"
     ]
    },
    {
     "name": "stderr",
     "output_type": "stream",
     "text": [
      "regularization_factors, val_score: 0.231174:  65%|########################             | 13/20 [00:32<00:14,  2.04s/it][I 2023-11-09 13:28:30,324] Trial 55 finished with value: 0.23682114267300572 and parameters: {'lambda_l1': 4.101943696521892e-08, 'lambda_l2': 8.21637220205545}. Best is trial 50 with value: 0.23117353445821967.\n",
      "regularization_factors, val_score: 0.231174:  65%|########################             | 13/20 [00:32<00:14,  2.04s/it]"
     ]
    },
    {
     "name": "stdout",
     "output_type": "stream",
     "text": [
      "Early stopping, best iteration is:\n",
      "[120]\tcv_agg's l2: 0.231174 + 0.0414476\n",
      "[100]\tcv_agg's l2: 0.244886 + 0.0463218\n"
     ]
    },
    {
     "name": "stderr",
     "output_type": "stream",
     "text": [
      "regularization_factors, val_score: 0.231174:  70%|#########################9           | 14/20 [00:34<00:12,  2.03s/it][I 2023-11-09 13:28:32,339] Trial 56 finished with value: 0.24444734939536086 and parameters: {'lambda_l1': 1.2885142042314421e-06, 'lambda_l2': 0.08212528215259901}. Best is trial 50 with value: 0.23117353445821967.\n",
      "regularization_factors, val_score: 0.231174:  70%|#########################9           | 14/20 [00:34<00:12,  2.03s/it]"
     ]
    },
    {
     "name": "stdout",
     "output_type": "stream",
     "text": [
      "[200]\tcv_agg's l2: 0.244001 + 0.050471\n",
      "Early stopping, best iteration is:\n",
      "[120]\tcv_agg's l2: 0.231174 + 0.0414476\n",
      "[100]\tcv_agg's l2: 0.241502 + 0.0467056\n"
     ]
    },
    {
     "name": "stderr",
     "output_type": "stream",
     "text": [
      "regularization_factors, val_score: 0.231174:  75%|###########################7         | 15/20 [00:36<00:10,  2.02s/it]"
     ]
    },
    {
     "name": "stdout",
     "output_type": "stream",
     "text": [
      "[200]\tcv_agg's l2: 0.245827 + 0.0478947\n",
      "Early stopping, best iteration is:\n",
      "[120]\tcv_agg's l2: 0.231174 + 0.0414476\n"
     ]
    },
    {
     "name": "stderr",
     "output_type": "stream",
     "text": [
      "[I 2023-11-09 13:28:34,328] Trial 57 finished with value: 0.24274987617115734 and parameters: {'lambda_l1': 5.598732046003246e-07, 'lambda_l2': 0.13875060773124806}. Best is trial 50 with value: 0.23117353445821967.\n",
      "regularization_factors, val_score: 0.231174:  75%|###########################7         | 15/20 [00:36<00:10,  2.02s/it]"
     ]
    },
    {
     "name": "stdout",
     "output_type": "stream",
     "text": [
      "[100]\tcv_agg's l2: 0.251603 + 0.0497443\n"
     ]
    },
    {
     "name": "stderr",
     "output_type": "stream",
     "text": [
      "\r",
      "regularization_factors, val_score: 0.231174:  75%|###########################7         | 15/20 [00:38<00:10,  2.02s/it]"
     ]
    },
    {
     "name": "stdout",
     "output_type": "stream",
     "text": [
      "[200]\tcv_agg's l2: 0.250622 + 0.048399\n",
      "Early stopping, best iteration is:\n",
      "[120]\tcv_agg's l2: 0.231174 + 0.0414476\n"
     ]
    },
    {
     "name": "stderr",
     "output_type": "stream",
     "text": [
      "regularization_factors, val_score: 0.231174:  80%|#############################6       | 16/20 [00:38<00:08,  2.13s/it][I 2023-11-09 13:28:36,726] Trial 58 finished with value: 0.24967517869421876 and parameters: {'lambda_l1': 4.1938599894235426e-07, 'lambda_l2': 0.3718158739836037}. Best is trial 50 with value: 0.23117353445821967.\n",
      "regularization_factors, val_score: 0.231174:  80%|#############################6       | 16/20 [00:38<00:08,  2.13s/it]"
     ]
    },
    {
     "name": "stdout",
     "output_type": "stream",
     "text": [
      "[100]\tcv_agg's l2: 0.247185 + 0.0533315\n"
     ]
    },
    {
     "name": "stderr",
     "output_type": "stream",
     "text": [
      "\r",
      "regularization_factors, val_score: 0.231174:  80%|#############################6       | 16/20 [00:40<00:08,  2.13s/it]"
     ]
    },
    {
     "name": "stdout",
     "output_type": "stream",
     "text": [
      "[200]\tcv_agg's l2: 0.247815 + 0.0515381\n",
      "Early stopping, best iteration is:\n",
      "[120]\tcv_agg's l2: 0.231174 + 0.0414476\n"
     ]
    },
    {
     "name": "stderr",
     "output_type": "stream",
     "text": [
      "regularization_factors, val_score: 0.231174:  85%|###############################4     | 17/20 [00:40<00:06,  2.09s/it][I 2023-11-09 13:28:38,717] Trial 59 finished with value: 0.24743170274156873 and parameters: {'lambda_l1': 2.0954128440101725e-07, 'lambda_l2': 0.4611431150795867}. Best is trial 50 with value: 0.23117353445821967.\n",
      "regularization_factors, val_score: 0.231174:  85%|###############################4     | 17/20 [00:40<00:06,  2.09s/it]"
     ]
    },
    {
     "name": "stdout",
     "output_type": "stream",
     "text": [
      "[100]\tcv_agg's l2: 0.246228 + 0.0457957\n"
     ]
    },
    {
     "name": "stderr",
     "output_type": "stream",
     "text": [
      "regularization_factors, val_score: 0.231174:  90%|#################################3   | 18/20 [00:42<00:04,  2.05s/it][I 2023-11-09 13:28:40,667] Trial 60 finished with value: 0.24438113865765865 and parameters: {'lambda_l1': 0.1849961729920081, 'lambda_l2': 0.6524358090908038}. Best is trial 50 with value: 0.23117353445821967.\n",
      "regularization_factors, val_score: 0.231174:  90%|#################################3   | 18/20 [00:42<00:04,  2.05s/it]"
     ]
    },
    {
     "name": "stdout",
     "output_type": "stream",
     "text": [
      "[200]\tcv_agg's l2: 0.244915 + 0.043224\n",
      "Early stopping, best iteration is:\n",
      "[120]\tcv_agg's l2: 0.231174 + 0.0414476\n",
      "[100]\tcv_agg's l2: 0.236394 + 0.0465497\n"
     ]
    },
    {
     "name": "stderr",
     "output_type": "stream",
     "text": [
      "regularization_factors, val_score: 0.231174:  95%|###################################1 | 19/20 [00:44<00:02,  2.04s/it][I 2023-11-09 13:28:42,671] Trial 61 finished with value: 0.23485622218864796 and parameters: {'lambda_l1': 1.1479861566657147e-08, 'lambda_l2': 9.929048427778136}. Best is trial 50 with value: 0.23117353445821967.\n"
     ]
    },
    {
     "name": "stdout",
     "output_type": "stream",
     "text": [
      "[200]\tcv_agg's l2: 0.234898 + 0.0430834\n",
      "Early stopping, best iteration is:\n",
      "[120]\tcv_agg's l2: 0.231174 + 0.0414476\n"
     ]
    },
    {
     "name": "stderr",
     "output_type": "stream",
     "text": [
      "\r",
      "regularization_factors, val_score: 0.231174:  95%|###################################1 | 19/20 [00:44<00:02,  2.04s/it]"
     ]
    },
    {
     "name": "stdout",
     "output_type": "stream",
     "text": [
      "[100]\tcv_agg's l2: 0.236782 + 0.0461013\n"
     ]
    },
    {
     "name": "stderr",
     "output_type": "stream",
     "text": [
      "regularization_factors, val_score: 0.231174: 100%|#####################################| 20/20 [00:46<00:00,  1.98s/it][I 2023-11-09 13:28:44,511] Trial 62 finished with value: 0.23527290658609634 and parameters: {'lambda_l1': 8.722438648111387e-08, 'lambda_l2': 7.1627490420636075}. Best is trial 50 with value: 0.23117353445821967.\n",
      "regularization_factors, val_score: 0.231174: 100%|#####################################| 20/20 [00:46<00:00,  2.33s/it]\n"
     ]
    },
    {
     "name": "stdout",
     "output_type": "stream",
     "text": [
      "[200]\tcv_agg's l2: 0.236429 + 0.0446852\n",
      "Early stopping, best iteration is:\n",
      "[120]\tcv_agg's l2: 0.231174 + 0.0414476\n"
     ]
    },
    {
     "name": "stderr",
     "output_type": "stream",
     "text": [
      "min_data_in_leaf, val_score: 0.231174:   0%|                                                     | 0/5 [00:00<?, ?it/s]"
     ]
    },
    {
     "name": "stdout",
     "output_type": "stream",
     "text": [
      "[100]\tcv_agg's l2: 0.22117 + 0.0434738\n",
      "[200]\tcv_agg's l2: 0.221499 + 0.0427449\n"
     ]
    },
    {
     "name": "stderr",
     "output_type": "stream",
     "text": [
      "min_data_in_leaf, val_score: 0.218880:  20%|#########                                    | 1/5 [00:02<00:09,  2.36s/it][I 2023-11-09 13:28:46,874] Trial 63 finished with value: 0.21887970685446007 and parameters: {'min_child_samples': 10}. Best is trial 63 with value: 0.21887970685446007.\n",
      "min_data_in_leaf, val_score: 0.218880:  20%|#########                                    | 1/5 [00:02<00:09,  2.36s/it]"
     ]
    },
    {
     "name": "stdout",
     "output_type": "stream",
     "text": [
      "Early stopping, best iteration is:\n",
      "[119]\tcv_agg's l2: 0.21888 + 0.0421221\n",
      "[100]\tcv_agg's l2: 0.332807 + 0.0718899\n"
     ]
    },
    {
     "name": "stderr",
     "output_type": "stream",
     "text": [
      "min_data_in_leaf, val_score: 0.218880:  40%|##################                           | 2/5 [00:03<00:04,  1.61s/it][I 2023-11-09 13:28:47,954] Trial 64 finished with value: 0.3305414152385933 and parameters: {'min_child_samples': 50}. Best is trial 63 with value: 0.21887970685446007.\n",
      "min_data_in_leaf, val_score: 0.218880:  40%|##################                           | 2/5 [00:03<00:04,  1.61s/it]"
     ]
    },
    {
     "name": "stdout",
     "output_type": "stream",
     "text": [
      "[200]\tcv_agg's l2: 0.326246 + 0.0665625\n",
      "Early stopping, best iteration is:\n",
      "[119]\tcv_agg's l2: 0.21888 + 0.0421221\n",
      "[100]\tcv_agg's l2: 0.220721 + 0.0452626\n"
     ]
    },
    {
     "name": "stderr",
     "output_type": "stream",
     "text": [
      "\r",
      "min_data_in_leaf, val_score: 0.218880:  40%|##################                           | 2/5 [00:05<00:04,  1.61s/it]"
     ]
    },
    {
     "name": "stdout",
     "output_type": "stream",
     "text": [
      "[200]\tcv_agg's l2: 0.22111 + 0.0436904\n",
      "Early stopping, best iteration is:\n",
      "[119]\tcv_agg's l2: 0.21888 + 0.0421221\n"
     ]
    },
    {
     "name": "stderr",
     "output_type": "stream",
     "text": [
      "min_data_in_leaf, val_score: 0.218880:  60%|###########################                  | 3/5 [00:05<00:03,  1.91s/it][I 2023-11-09 13:28:50,223] Trial 65 finished with value: 0.2197163765575195 and parameters: {'min_child_samples': 5}. Best is trial 63 with value: 0.21887970685446007.\n",
      "min_data_in_leaf, val_score: 0.218880:  60%|###########################                  | 3/5 [00:05<00:03,  1.91s/it]"
     ]
    },
    {
     "name": "stdout",
     "output_type": "stream",
     "text": [
      "[100]\tcv_agg's l2: 0.258455 + 0.0604987\n"
     ]
    },
    {
     "name": "stderr",
     "output_type": "stream",
     "text": [
      "min_data_in_leaf, val_score: 0.218880:  80%|####################################         | 4/5 [00:07<00:01,  1.86s/it][I 2023-11-09 13:28:52,018] Trial 66 finished with value: 0.25569982024499005 and parameters: {'min_child_samples': 25}. Best is trial 63 with value: 0.21887970685446007.\n",
      "min_data_in_leaf, val_score: 0.218880:  80%|####################################         | 4/5 [00:07<00:01,  1.86s/it]"
     ]
    },
    {
     "name": "stdout",
     "output_type": "stream",
     "text": [
      "[200]\tcv_agg's l2: 0.258252 + 0.057574\n",
      "Early stopping, best iteration is:\n",
      "[119]\tcv_agg's l2: 0.21888 + 0.0421221\n",
      "[100]\tcv_agg's l2: 0.812226 + 0.06314\n"
     ]
    },
    {
     "name": "stderr",
     "output_type": "stream",
     "text": [
      "min_data_in_leaf, val_score: 0.218880: 100%|#############################################| 5/5 [00:08<00:00,  1.43s/it][I 2023-11-09 13:28:52,667] Trial 67 finished with value: 0.8057964648999768 and parameters: {'min_child_samples': 100}. Best is trial 63 with value: 0.21887970685446007.\n",
      "min_data_in_leaf, val_score: 0.218880: 100%|#############################################| 5/5 [00:08<00:00,  1.63s/it]"
     ]
    },
    {
     "name": "stdout",
     "output_type": "stream",
     "text": [
      "[200]\tcv_agg's l2: 0.789943 + 0.0712363\n",
      "Early stopping, best iteration is:\n",
      "[119]\tcv_agg's l2: 0.21888 + 0.0421221\n"
     ]
    },
    {
     "name": "stderr",
     "output_type": "stream",
     "text": [
      "\n"
     ]
    }
   ],
   "source": [
    "import optuna.integration.lightgbm as lgb\n",
    "from lightgbm import early_stopping\n",
    "from sklearn.model_selection import KFold\n",
    "from sklearn.model_selection import RepeatedKFold\n",
    "\n",
    "\n",
    "lgb_train = lgb.Dataset(X_train_random_split, y_train_random_split)\n",
    "\n",
    "params = {\n",
    "    \"boosting_type\": \"gbdt\",\n",
    "    \"objective\": \"regression\",\n",
    "    \"metric\": \"l2\",\n",
    "    \"verbosity\": -1,\n",
    "}\n",
    "\n",
    "tuner = lgb.LightGBMTunerCV(\n",
    "    params,\n",
    "    lgb_train,\n",
    "    folds=KFold(n_splits=5),\n",
    "    num_boost_round=10000,\n",
    "    callbacks=[early_stopping(100), log_evaluation(100)],\n",
    ")\n",
    "\n",
    "tuner.run()"
   ]
  },
  {
   "cell_type": "code",
   "execution_count": 38,
   "id": "0079a348",
   "metadata": {},
   "outputs": [
    {
     "name": "stdout",
     "output_type": "stream",
     "text": [
      "Best score: 0.21887970685446007\n",
      "Params: \n",
      "    boosting_type: gbdt\n",
      "    objective: regression\n",
      "    metric: l2\n",
      "    verbosity: -1\n",
      "    feature_pre_filter: False\n",
      "    lambda_l1: 1.1121154373158193e-08\n",
      "    lambda_l2: 8.090254380689329\n",
      "    num_leaves: 31\n",
      "    feature_fraction: 0.8\n",
      "    bagging_fraction: 1.0\n",
      "    bagging_freq: 0\n",
      "    min_child_samples: 10\n"
     ]
    }
   ],
   "source": [
    "print(f\"Best score: {tuner.best_score}\")\n",
    "best_params = tuner.best_params\n",
    "print(\"Params: \")\n",
    "for key, value in best_params.items():\n",
    "    print(\"    {}: {}\".format(key, value))"
   ]
  },
  {
   "cell_type": "code",
   "execution_count": 39,
   "id": "ee599f57",
   "metadata": {},
   "outputs": [],
   "source": [
    "import lightgbm as lgb\n",
    "\n",
    "lgb_tuned = lgb.train(\n",
    "    best_params,\n",
    "    lgb_train,\n",
    "    num_boost_round=10000,\n",
    ")"
   ]
  },
  {
   "cell_type": "code",
   "execution_count": 40,
   "id": "f18b0204",
   "metadata": {},
   "outputs": [
    {
     "name": "stdout",
     "output_type": "stream",
     "text": [
      "RMSE train: 0.00\n",
      "RMSE test: 0.51\n",
      "MAE test: 0.34\n",
      "\n"
     ]
    }
   ],
   "source": [
    "rmse, mae = assess_regression_model(\n",
    "    lgb_tuned,\n",
    "    X_train_random_split,\n",
    "    X_test_random_split,\n",
    "    y_train_random_split,\n",
    "    y_test_random_split,\n",
    ")"
   ]
  },
  {
   "cell_type": "code",
   "execution_count": 41,
   "id": "13d87eed",
   "metadata": {},
   "outputs": [],
   "source": [
    "results.loc[3] = [\"random\", \"Optuna\", \"basic\", rmse, mae]"
   ]
  },
  {
   "cell_type": "markdown",
   "id": "9d13b101",
   "metadata": {},
   "source": [
    "###### MAE by level"
   ]
  },
  {
   "cell_type": "code",
   "execution_count": 42,
   "id": "91591bcd",
   "metadata": {},
   "outputs": [
    {
     "data": {
      "image/png": "[encoded data removed]",
      "text/plain": [
       "<Figure size 1440x576 with 1 Axes>"
      ]
     },
     "metadata": {
      "needs_background": "light"
     },
     "output_type": "display_data"
    }
   ],
   "source": [
    "plot_mae_by_level(\n",
    "    y_test_random_split,\n",
    "    y_pred_test,\n",
    "    title=\"MAE by level for tuned LightGBM with basic features and random split\",\n",
    ")"
   ]
  },
  {
   "cell_type": "code",
   "execution_count": 43,
   "id": "061d7eba",
   "metadata": {},
   "outputs": [
    {
     "name": "stdout",
     "output_type": "stream",
     "text": [
      "Default:\n",
      "RMSE: 0.34\n",
      "\n",
      "Round type: 0.5\n",
      "RMSE: 0.39\n",
      "\n",
      "Round type: 0.33\n",
      "RMSE: 0.36\n",
      "\n",
      "Round type: 0.45\n",
      "RMSE: 0.37\n",
      "\n"
     ]
    }
   ],
   "source": [
    "predict = lgb_tuned.predict(X_test)\n",
    "check_round_predictions([0.5, 0.33, 0.45], y_test, predict)"
   ]
  },
  {
   "cell_type": "code",
   "execution_count": 44,
   "id": "9d56b725",
   "metadata": {},
   "outputs": [
    {
     "data": {
      "image/png": "[encoded data removed]",
      "text/plain": [
       "<Figure size 720x720 with 2 Axes>"
      ]
     },
     "metadata": {
      "needs_background": "light"
     },
     "output_type": "display_data"
    }
   ],
   "source": [
    "plot_confusion_matrix(\n",
    "    predict,\n",
    "    y_test,\n",
    "    title=\"Confusion matrix for tuned LightGBM with\\nbasic features and random split\",\n",
    ")"
   ]
  },
  {
   "cell_type": "markdown",
   "id": "ac941229",
   "metadata": {},
   "source": [
    "## Summary"
   ]
  },
  {
   "cell_type": "code",
   "execution_count": 45,
   "id": "90f5111f",
   "metadata": {
    "scrolled": true
   },
   "outputs": [
    {
     "data": {
      "text/html": [
       "<div>\n",
       "<style scoped>\n",
       "    .dataframe tbody tr th:only-of-type {\n",
       "        vertical-align: middle;\n",
       "    }\n",
       "\n",
       "    .dataframe tbody tr th {\n",
       "        vertical-align: top;\n",
       "    }\n",
       "\n",
       "    .dataframe thead th {\n",
       "        text-align: right;\n",
       "    }\n",
       "</style>\n",
       "<table border=\"1\" class=\"dataframe\">\n",
       "  <thead>\n",
       "    <tr style=\"text-align: right;\">\n",
       "      <th></th>\n",
       "      <th>Split type</th>\n",
       "      <th>Tuning type</th>\n",
       "      <th>Set of features</th>\n",
       "      <th>RMSE</th>\n",
       "      <th>MAE</th>\n",
       "    </tr>\n",
       "  </thead>\n",
       "  <tbody>\n",
       "    <tr>\n",
       "      <th>0</th>\n",
       "      <td>chronological</td>\n",
       "      <td>default</td>\n",
       "      <td>basic</td>\n",
       "      <td>0.669004</td>\n",
       "      <td>0.467604</td>\n",
       "    </tr>\n",
       "    <tr>\n",
       "      <th>1</th>\n",
       "      <td>chronological</td>\n",
       "      <td>Optuna</td>\n",
       "      <td>basic</td>\n",
       "      <td>0.687156</td>\n",
       "      <td>0.485704</td>\n",
       "    </tr>\n",
       "    <tr>\n",
       "      <th>2</th>\n",
       "      <td>random</td>\n",
       "      <td>default</td>\n",
       "      <td>basic</td>\n",
       "      <td>0.488404</td>\n",
       "      <td>0.336785</td>\n",
       "    </tr>\n",
       "    <tr>\n",
       "      <th>3</th>\n",
       "      <td>random</td>\n",
       "      <td>Optuna</td>\n",
       "      <td>basic</td>\n",
       "      <td>0.512964</td>\n",
       "      <td>0.338632</td>\n",
       "    </tr>\n",
       "  </tbody>\n",
       "</table>\n",
       "</div>"
      ],
      "text/plain": [
       "      Split type Tuning type Set of features      RMSE       MAE\n",
       "0  chronological     default           basic  0.669004  0.467604\n",
       "1  chronological      Optuna           basic  0.687156  0.485704\n",
       "2         random     default           basic  0.488404  0.336785\n",
       "3         random      Optuna           basic  0.512964  0.338632"
      ]
     },
     "execution_count": 45,
     "metadata": {},
     "output_type": "execute_result"
    }
   ],
   "source": [
    "results"
   ]
  },
  {
   "cell_type": "code",
   "execution_count": 46,
   "id": "492161ff",
   "metadata": {},
   "outputs": [],
   "source": [
    "from training.results import plot_summary"
   ]
  },
  {
   "cell_type": "code",
   "execution_count": 47,
   "id": "b44fe7c4",
   "metadata": {},
   "outputs": [
    {
     "data": {
      "image/png": "[encoded data removed]",
      "text/plain": [
       "<Figure size 1440x576 with 1 Axes>"
      ]
     },
     "metadata": {
      "needs_background": "light"
     },
     "output_type": "display_data"
    }
   ],
   "source": [
    "plot_summary(results, \"RMSE\", title=\"RMSE for LightGBM with basic features\")"
   ]
  },
  {
   "cell_type": "code",
   "execution_count": 48,
   "id": "d3509e28",
   "metadata": {},
   "outputs": [
    {
     "data": {
      "image/png": "[encoded data removed]",
      "text/plain": [
       "<Figure size 1440x576 with 1 Axes>"
      ]
     },
     "metadata": {
      "needs_background": "light"
     },
     "output_type": "display_data"
    }
   ],
   "source": [
    "plot_summary(results, \"MAE\", title=\"MAE for LightGBM with basic features\")"
   ]
  },
  {
   "cell_type": "code",
   "execution_count": 49,
   "id": "c714119e",
   "metadata": {},
   "outputs": [],
   "source": [
    "results.to_json(\"./lightgbm_basic_results.json\", indent=2)"
   ]
  },
  {
   "cell_type": "code",
   "execution_count": null,
   "id": "a8ce3754",
   "metadata": {},
   "outputs": [],
   "source": []
  }
 ],
 "metadata": {
  "kernelspec": {
   "display_name": "Python 3 (ipykernel)",
   "language": "python",
   "name": "python3"
  },
  "language_info": {
   "codemirror_mode": {
    "name": "ipython",
    "version": 3
   },
   "file_extension": ".py",
   "mimetype": "text/x-python",
   "name": "python",
   "nbconvert_exporter": "python",
   "pygments_lexer": "ipython3",
   "version": "3.10.4"
  }
 },
 "nbformat": 4,
 "nbformat_minor": 5
}
