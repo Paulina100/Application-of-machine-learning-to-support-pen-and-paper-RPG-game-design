{
 "cells": [
  {
   "cell_type": "markdown",
   "id": "f64a671f",
   "metadata": {},
   "source": [
    "# LightGBM\n",
    "### Parameters:\n",
    "* **abilities**:\n",
    "    * **cha**\n",
    "    * **con**\n",
    "    * **dex**\n",
    "    * **int**\n",
    "    * **str**\n",
    "    * **wis**\n",
    "* **attributes**\n",
    "    * **hp**\n",
    "    * **ac**\n",
    "\n",
    "### Prediction: *level*\n",
    "\n",
    "## Loading data"
   ]
  },
  {
   "cell_type": "code",
   "execution_count": 73,
   "id": "1f2515e7",
   "metadata": {},
   "outputs": [],
   "source": [
    "import numpy as np\n",
    "import pandas as pd\n",
    "import sys\n",
    "\n",
    "import os\n",
    "import pathlib\n",
    "\n",
    "sys.path.append(\"../../..\")\n",
    "from training.creating_dataset import load_and_preprocess_data\n",
    "\n",
    "current_path = os.getcwd()\n",
    "DATASETS_DIR = pathlib.Path(current_path).parent.parent.parent / \"pathfinder_2e_data\"\n",
    "DATASET_FILES = [\n",
    "    \"pathfinder-bestiary.db\",\n",
    "    \"pathfinder-bestiary-2.db\",\n",
    "    \"pathfinder-bestiary-3.db\",\n",
    "]\n",
    "DATASET_PATHS = [f\"{DATASETS_DIR}/{file}\" for file in DATASET_FILES]\n",
    "characteristics = [\n",
    "    \"cha\",\n",
    "    \"con\",\n",
    "    \"dex\",\n",
    "    \"int\",\n",
    "    \"str\",\n",
    "    \"wis\",\n",
    "    \"ac\",\n",
    "    \"hp\",\n",
    "]\n",
    "\n",
    "df = load_and_preprocess_data(\n",
    "    DATASET_PATHS,\n",
    "    characteristics=characteristics,\n",
    ")"
   ]
  },
  {
   "cell_type": "code",
   "execution_count": 74,
   "id": "b522f880",
   "metadata": {},
   "outputs": [
    {
     "name": "stdout",
     "output_type": "stream",
     "text": [
      "<class 'pandas.core.frame.DataFrame'>\n",
      "Int64Index: 1206 entries, 0 to 1205\n",
      "Data columns (total 10 columns):\n",
      " #   Column  Non-Null Count  Dtype \n",
      "---  ------  --------------  ----- \n",
      " 0   int     1206 non-null   int64 \n",
      " 1   ac      1206 non-null   int64 \n",
      " 2   hp      1206 non-null   int64 \n",
      " 3   str     1206 non-null   int64 \n",
      " 4   con     1206 non-null   int64 \n",
      " 5   cha     1206 non-null   int64 \n",
      " 6   dex     1206 non-null   int64 \n",
      " 7   wis     1206 non-null   int64 \n",
      " 8   book    1206 non-null   object\n",
      " 9   level   1206 non-null   int64 \n",
      "dtypes: int64(9), object(1)\n",
      "memory usage: 103.6+ KB\n"
     ]
    }
   ],
   "source": [
    "df.info()"
   ]
  },
  {
   "cell_type": "code",
   "execution_count": 75,
   "id": "1b5450d3",
   "metadata": {},
   "outputs": [
    {
     "data": {
      "text/html": [
       "<div>\n",
       "<style scoped>\n",
       "    .dataframe tbody tr th:only-of-type {\n",
       "        vertical-align: middle;\n",
       "    }\n",
       "\n",
       "    .dataframe tbody tr th {\n",
       "        vertical-align: top;\n",
       "    }\n",
       "\n",
       "    .dataframe thead th {\n",
       "        text-align: right;\n",
       "    }\n",
       "</style>\n",
       "<table border=\"1\" class=\"dataframe\">\n",
       "  <thead>\n",
       "    <tr style=\"text-align: right;\">\n",
       "      <th></th>\n",
       "      <th>int</th>\n",
       "      <th>ac</th>\n",
       "      <th>hp</th>\n",
       "      <th>str</th>\n",
       "      <th>con</th>\n",
       "      <th>cha</th>\n",
       "      <th>dex</th>\n",
       "      <th>wis</th>\n",
       "      <th>book</th>\n",
       "      <th>level</th>\n",
       "    </tr>\n",
       "  </thead>\n",
       "  <tbody>\n",
       "    <tr>\n",
       "      <th>0</th>\n",
       "      <td>1</td>\n",
       "      <td>29</td>\n",
       "      <td>215</td>\n",
       "      <td>7</td>\n",
       "      <td>5</td>\n",
       "      <td>1</td>\n",
       "      <td>2</td>\n",
       "      <td>2</td>\n",
       "      <td>Pathfinder Bestiary</td>\n",
       "      <td>10</td>\n",
       "    </tr>\n",
       "    <tr>\n",
       "      <th>1</th>\n",
       "      <td>-4</td>\n",
       "      <td>28</td>\n",
       "      <td>220</td>\n",
       "      <td>9</td>\n",
       "      <td>5</td>\n",
       "      <td>1</td>\n",
       "      <td>0</td>\n",
       "      <td>2</td>\n",
       "      <td>Pathfinder Bestiary</td>\n",
       "      <td>10</td>\n",
       "    </tr>\n",
       "    <tr>\n",
       "      <th>2</th>\n",
       "      <td>-4</td>\n",
       "      <td>25</td>\n",
       "      <td>175</td>\n",
       "      <td>7</td>\n",
       "      <td>6</td>\n",
       "      <td>-2</td>\n",
       "      <td>3</td>\n",
       "      <td>3</td>\n",
       "      <td>Pathfinder Bestiary</td>\n",
       "      <td>8</td>\n",
       "    </tr>\n",
       "    <tr>\n",
       "      <th>3</th>\n",
       "      <td>6</td>\n",
       "      <td>41</td>\n",
       "      <td>315</td>\n",
       "      <td>7</td>\n",
       "      <td>5</td>\n",
       "      <td>6</td>\n",
       "      <td>4</td>\n",
       "      <td>5</td>\n",
       "      <td>Pathfinder Bestiary</td>\n",
       "      <td>17</td>\n",
       "    </tr>\n",
       "    <tr>\n",
       "      <th>4</th>\n",
       "      <td>-1</td>\n",
       "      <td>16</td>\n",
       "      <td>20</td>\n",
       "      <td>-5</td>\n",
       "      <td>1</td>\n",
       "      <td>1</td>\n",
       "      <td>3</td>\n",
       "      <td>1</td>\n",
       "      <td>Pathfinder Bestiary</td>\n",
       "      <td>1</td>\n",
       "    </tr>\n",
       "  </tbody>\n",
       "</table>\n",
       "</div>"
      ],
      "text/plain": [
       "   int  ac   hp  str  con  cha  dex  wis                 book  level\n",
       "0    1  29  215    7    5    1    2    2  Pathfinder Bestiary     10\n",
       "1   -4  28  220    9    5    1    0    2  Pathfinder Bestiary     10\n",
       "2   -4  25  175    7    6   -2    3    3  Pathfinder Bestiary      8\n",
       "3    6  41  315    7    5    6    4    5  Pathfinder Bestiary     17\n",
       "4   -1  16   20   -5    1    1    3    1  Pathfinder Bestiary      1"
      ]
     },
     "execution_count": 75,
     "metadata": {},
     "output_type": "execute_result"
    }
   ],
   "source": [
    "df.head()"
   ]
  },
  {
   "cell_type": "markdown",
   "id": "0caa661f",
   "metadata": {},
   "source": [
    "###### Level"
   ]
  },
  {
   "cell_type": "code",
   "execution_count": 76,
   "id": "c200d2b4",
   "metadata": {},
   "outputs": [
    {
     "data": {
      "text/plain": [
       "0       10\n",
       "1       10\n",
       "2        8\n",
       "3       17\n",
       "4        1\n",
       "        ..\n",
       "1201    20\n",
       "1202    -1\n",
       "1203    12\n",
       "1204     6\n",
       "1205     6\n",
       "Name: level, Length: 1206, dtype: int64"
      ]
     },
     "execution_count": 76,
     "metadata": {},
     "output_type": "execute_result"
    }
   ],
   "source": [
    "y = df[\"level\"]\n",
    "y"
   ]
  },
  {
   "cell_type": "code",
   "execution_count": 77,
   "id": "553822a7",
   "metadata": {},
   "outputs": [],
   "source": [
    "from collections import defaultdict\n",
    "\n",
    "\n",
    "lvl_stat = defaultdict(lambda: 0)\n",
    "\n",
    "for lvl in y:\n",
    "    lvl_stat[lvl] += 1"
   ]
  },
  {
   "cell_type": "code",
   "execution_count": 78,
   "id": "e45d6c29",
   "metadata": {},
   "outputs": [
    {
     "data": {
      "text/html": [
       "<div>\n",
       "<style scoped>\n",
       "    .dataframe tbody tr th:only-of-type {\n",
       "        vertical-align: middle;\n",
       "    }\n",
       "\n",
       "    .dataframe tbody tr th {\n",
       "        vertical-align: top;\n",
       "    }\n",
       "\n",
       "    .dataframe thead th {\n",
       "        text-align: right;\n",
       "    }\n",
       "</style>\n",
       "<table border=\"1\" class=\"dataframe\">\n",
       "  <thead>\n",
       "    <tr style=\"text-align: right;\">\n",
       "      <th></th>\n",
       "      <th>lvl</th>\n",
       "      <th>count</th>\n",
       "    </tr>\n",
       "  </thead>\n",
       "  <tbody>\n",
       "    <tr>\n",
       "      <th>0</th>\n",
       "      <td>-1</td>\n",
       "      <td>34</td>\n",
       "    </tr>\n",
       "    <tr>\n",
       "      <th>1</th>\n",
       "      <td>0</td>\n",
       "      <td>27</td>\n",
       "    </tr>\n",
       "    <tr>\n",
       "      <th>2</th>\n",
       "      <td>1</td>\n",
       "      <td>127</td>\n",
       "    </tr>\n",
       "    <tr>\n",
       "      <th>3</th>\n",
       "      <td>2</td>\n",
       "      <td>121</td>\n",
       "    </tr>\n",
       "    <tr>\n",
       "      <th>4</th>\n",
       "      <td>3</td>\n",
       "      <td>95</td>\n",
       "    </tr>\n",
       "    <tr>\n",
       "      <th>5</th>\n",
       "      <td>4</td>\n",
       "      <td>82</td>\n",
       "    </tr>\n",
       "    <tr>\n",
       "      <th>6</th>\n",
       "      <td>5</td>\n",
       "      <td>76</td>\n",
       "    </tr>\n",
       "    <tr>\n",
       "      <th>7</th>\n",
       "      <td>6</td>\n",
       "      <td>72</td>\n",
       "    </tr>\n",
       "    <tr>\n",
       "      <th>8</th>\n",
       "      <td>7</td>\n",
       "      <td>77</td>\n",
       "    </tr>\n",
       "    <tr>\n",
       "      <th>9</th>\n",
       "      <td>8</td>\n",
       "      <td>68</td>\n",
       "    </tr>\n",
       "    <tr>\n",
       "      <th>10</th>\n",
       "      <td>9</td>\n",
       "      <td>63</td>\n",
       "    </tr>\n",
       "    <tr>\n",
       "      <th>11</th>\n",
       "      <td>10</td>\n",
       "      <td>58</td>\n",
       "    </tr>\n",
       "    <tr>\n",
       "      <th>12</th>\n",
       "      <td>11</td>\n",
       "      <td>40</td>\n",
       "    </tr>\n",
       "    <tr>\n",
       "      <th>13</th>\n",
       "      <td>12</td>\n",
       "      <td>41</td>\n",
       "    </tr>\n",
       "    <tr>\n",
       "      <th>14</th>\n",
       "      <td>13</td>\n",
       "      <td>36</td>\n",
       "    </tr>\n",
       "    <tr>\n",
       "      <th>15</th>\n",
       "      <td>14</td>\n",
       "      <td>33</td>\n",
       "    </tr>\n",
       "    <tr>\n",
       "      <th>16</th>\n",
       "      <td>15</td>\n",
       "      <td>31</td>\n",
       "    </tr>\n",
       "    <tr>\n",
       "      <th>17</th>\n",
       "      <td>16</td>\n",
       "      <td>25</td>\n",
       "    </tr>\n",
       "    <tr>\n",
       "      <th>18</th>\n",
       "      <td>17</td>\n",
       "      <td>21</td>\n",
       "    </tr>\n",
       "    <tr>\n",
       "      <th>19</th>\n",
       "      <td>18</td>\n",
       "      <td>21</td>\n",
       "    </tr>\n",
       "    <tr>\n",
       "      <th>20</th>\n",
       "      <td>19</td>\n",
       "      <td>18</td>\n",
       "    </tr>\n",
       "    <tr>\n",
       "      <th>21</th>\n",
       "      <td>20</td>\n",
       "      <td>24</td>\n",
       "    </tr>\n",
       "    <tr>\n",
       "      <th>22</th>\n",
       "      <td>21</td>\n",
       "      <td>16</td>\n",
       "    </tr>\n",
       "  </tbody>\n",
       "</table>\n",
       "</div>"
      ],
      "text/plain": [
       "    lvl  count\n",
       "0    -1     34\n",
       "1     0     27\n",
       "2     1    127\n",
       "3     2    121\n",
       "4     3     95\n",
       "5     4     82\n",
       "6     5     76\n",
       "7     6     72\n",
       "8     7     77\n",
       "9     8     68\n",
       "10    9     63\n",
       "11   10     58\n",
       "12   11     40\n",
       "13   12     41\n",
       "14   13     36\n",
       "15   14     33\n",
       "16   15     31\n",
       "17   16     25\n",
       "18   17     21\n",
       "19   18     21\n",
       "20   19     18\n",
       "21   20     24\n",
       "22   21     16"
      ]
     },
     "execution_count": 78,
     "metadata": {},
     "output_type": "execute_result"
    }
   ],
   "source": [
    "level_count = pd.DataFrame(\n",
    "    data={\n",
    "        \"lvl\": [key for key in sorted(lvl_stat.keys())],\n",
    "        \"count\": [lvl_stat.get(key) for key in sorted(lvl_stat.keys())],\n",
    "    }\n",
    ")\n",
    "level_count"
   ]
  },
  {
   "cell_type": "code",
   "execution_count": 79,
   "id": "bdbfe8de",
   "metadata": {},
   "outputs": [
    {
     "data": {
      "image/png": "[encoded data removed]",
      "text/plain": [
       "<Figure size 432x288 with 1 Axes>"
      ]
     },
     "metadata": {
      "needs_background": "light"
     },
     "output_type": "display_data"
    }
   ],
   "source": [
    "import matplotlib.pyplot as plt\n",
    "\n",
    "\n",
    "level_count.plot.bar(x=\"lvl\", y=\"count\", title=\"Count of levels\")\n",
    "plt.show()"
   ]
  },
  {
   "cell_type": "markdown",
   "id": "9fdb6541",
   "metadata": {},
   "source": [
    "## Train test split"
   ]
  },
  {
   "cell_type": "markdown",
   "id": "18f56629",
   "metadata": {},
   "source": [
    "### Chronological split"
   ]
  },
  {
   "cell_type": "code",
   "execution_count": 80,
   "id": "dcda359b",
   "metadata": {},
   "outputs": [],
   "source": [
    "from training.splitting_dataset import split_dataframe\n",
    "\n",
    "\n",
    "os.chdir(\"../../../training\")\n",
    "X_train, X_test, y_train, y_test = split_dataframe(df, test_size=0.31)\n",
    "os.chdir(\"../notebooks/models/lightgbm\")"
   ]
  },
  {
   "cell_type": "code",
   "execution_count": 81,
   "id": "17dbc875",
   "metadata": {},
   "outputs": [],
   "source": [
    "X_train = X_train.drop(columns=[\"book\"])\n",
    "X_test = X_test.drop(columns=[\"book\"])"
   ]
  },
  {
   "cell_type": "markdown",
   "id": "25879636",
   "metadata": {},
   "source": [
    "### Random split"
   ]
  },
  {
   "cell_type": "code",
   "execution_count": 82,
   "id": "982ec5eb",
   "metadata": {},
   "outputs": [],
   "source": [
    "(\n",
    "    X_train_random_split,\n",
    "    X_test_random_split,\n",
    "    y_train_random_split,\n",
    "    y_test_random_split,\n",
    ") = split_dataframe(df, chronological_split=False)"
   ]
  },
  {
   "cell_type": "code",
   "execution_count": 83,
   "id": "90569e78",
   "metadata": {},
   "outputs": [],
   "source": [
    "X_train_random_split = X_train_random_split.drop(columns=[\"book\"])\n",
    "X_test_random_split = X_test_random_split.drop(columns=[\"book\"])"
   ]
  },
  {
   "cell_type": "markdown",
   "id": "9b259fbf",
   "metadata": {},
   "source": [
    "## LightGBM"
   ]
  },
  {
   "cell_type": "markdown",
   "id": "14f37d9b",
   "metadata": {},
   "source": [
    "## Chronological split"
   ]
  },
  {
   "cell_type": "code",
   "execution_count": 84,
   "id": "2bc4c90e",
   "metadata": {},
   "outputs": [
    {
     "name": "stdout",
     "output_type": "stream",
     "text": [
      "[LightGBM] [Warning] Auto-choosing col-wise multi-threading, the overhead of testing was 0.000188 seconds.\n",
      "You can set `force_col_wise=true` to remove the overhead.\n",
      "[LightGBM] [Info] Total Bins 224\n",
      "[LightGBM] [Info] Number of data points in the train set: 841, number of used features: 8\n",
      "[LightGBM] [Info] Start training from score 6.966706\n",
      "Training until validation scores don't improve for 5 rounds\n",
      "[LightGBM] [Warning] No further splits with positive gain, best gain: -inf\n",
      "[LightGBM] [Warning] No further splits with positive gain, best gain: -inf\n",
      "[LightGBM] [Warning] No further splits with positive gain, best gain: -inf\n",
      "[LightGBM] [Warning] No further splits with positive gain, best gain: -inf\n",
      "[LightGBM] [Warning] No further splits with positive gain, best gain: -inf\n",
      "[LightGBM] [Warning] No further splits with positive gain, best gain: -inf\n",
      "[LightGBM] [Warning] No further splits with positive gain, best gain: -inf\n",
      "[LightGBM] [Warning] No further splits with positive gain, best gain: -inf\n",
      "[LightGBM] [Warning] No further splits with positive gain, best gain: -inf\n",
      "[LightGBM] [Warning] No further splits with positive gain, best gain: -inf\n",
      "[LightGBM] [Warning] No further splits with positive gain, best gain: -inf\n",
      "[LightGBM] [Warning] No further splits with positive gain, best gain: -inf\n",
      "Early stopping, best iteration is:\n",
      "[48]\tvalid_0's l1: 0.467604\tvalid_0's l2: 0.447566\n"
     ]
    }
   ],
   "source": [
    "import lightgbm as lgb\n",
    "\n",
    "lgb_train = lgb.Dataset(X_train, y_train)\n",
    "lgb_eval = lgb.Dataset(X_test, y_test, reference=lgb_train)\n",
    "\n",
    "params = {\n",
    "    \"boosting_type\": \"gbdt\",\n",
    "    \"objective\": \"regression\",\n",
    "    \"metric\": {\"l2\", \"l1\"},\n",
    "}\n",
    "\n",
    "gbm = lgb.train(\n",
    "    params,\n",
    "    lgb_train,\n",
    "    num_boost_round=100,\n",
    "    valid_sets=lgb_eval,\n",
    "    callbacks=[lgb.early_stopping(stopping_rounds=5)],\n",
    ")"
   ]
  },
  {
   "cell_type": "code",
   "execution_count": 85,
   "id": "f1ae2eaa",
   "metadata": {},
   "outputs": [],
   "source": [
    "y_pred_train = gbm.predict(X_train, num_iteration=gbm.best_iteration)\n",
    "y_pred_test = gbm.predict(X_test, num_iteration=gbm.best_iteration)"
   ]
  },
  {
   "cell_type": "code",
   "execution_count": 86,
   "id": "ef9d09eb",
   "metadata": {},
   "outputs": [
    {
     "name": "stdout",
     "output_type": "stream",
     "text": [
      "MSE: 0.45\n",
      "RMSE: 0.67\n",
      "MAE: 0.47\n"
     ]
    }
   ],
   "source": [
    "from sklearn.metrics import mean_squared_error, mean_absolute_error\n",
    "\n",
    "\n",
    "mse = mean_squared_error(y_test, y_pred_test)\n",
    "rmse = mean_squared_error(y_test, y_pred_test, squared=False)\n",
    "mae = mean_absolute_error(y_test, y_pred_test)\n",
    "\n",
    "print(f\"MSE: {mse:.2f}\")\n",
    "print(f\"RMSE: {rmse:.2f}\")\n",
    "print(f\"MAE: {mae:.2f}\")"
   ]
  },
  {
   "cell_type": "code",
   "execution_count": 87,
   "id": "6e288d53",
   "metadata": {},
   "outputs": [],
   "source": [
    "results = pd.DataFrame(\n",
    "    data={\n",
    "        \"Split type\": [],\n",
    "        \"Tuning type\": [],\n",
    "        \"Number of characteristics\": [],\n",
    "        \"MSE\": [],\n",
    "        \"RMSE\": [],\n",
    "        \"MAE\": [],\n",
    "    }\n",
    ")\n",
    "\n",
    "results.loc[0] = [\"chronological\", \"normal\", len(X_test.columns), mse, rmse, mae]"
   ]
  },
  {
   "cell_type": "code",
   "execution_count": 88,
   "id": "78bb7ffa",
   "metadata": {},
   "outputs": [
    {
     "name": "stdout",
     "output_type": "stream",
     "text": [
      "RMSE train: 0.31\n",
      "RMSE test: 0.67\n"
     ]
    }
   ],
   "source": [
    "rmse_train = mean_squared_error(y_train, y_pred_train, squared=False)\n",
    "rmse_test = mean_squared_error(y_test, y_pred_test, squared=False)\n",
    "print(f\"RMSE train: {rmse_train:.2f}\")\n",
    "print(f\"RMSE test: {rmse_test:.2f}\")"
   ]
  },
  {
   "cell_type": "markdown",
   "id": "4435f236",
   "metadata": {},
   "source": [
    "###### MAE by level"
   ]
  },
  {
   "cell_type": "code",
   "execution_count": 89,
   "id": "f3b4086b",
   "metadata": {},
   "outputs": [],
   "source": [
    "from training.results import plot_mae_by_level"
   ]
  },
  {
   "cell_type": "code",
   "execution_count": 90,
   "id": "e3ecad89",
   "metadata": {},
   "outputs": [
    {
     "data": {
      "image/png": "[encoded data removed]",
      "text/plain": [
       "<Figure size 720x432 with 1 Axes>"
      ]
     },
     "metadata": {
      "needs_background": "light"
     },
     "output_type": "display_data"
    }
   ],
   "source": [
    "plot_mae_by_level(y_test, y_pred_test)"
   ]
  },
  {
   "cell_type": "code",
   "execution_count": 91,
   "id": "ec8cab49",
   "metadata": {
    "scrolled": true
   },
   "outputs": [
    {
     "name": "stdout",
     "output_type": "stream",
     "text": [
      "Normal:\n",
      "MSE: 0.45\n",
      "RMSE: 0.67\n",
      "\n",
      "Round type: round\n",
      "MSE: 0.50\n",
      "RMSE: 0.71\n",
      "\n",
      "Round type: 0.33\n",
      "MSE: 0.50\n",
      "RMSE: 0.71\n",
      "\n",
      "Round type: 0.45\n",
      "MSE: 0.48\n",
      "RMSE: 0.70\n",
      "\n"
     ]
    }
   ],
   "source": [
    "from training.results import check_round_predictions, plot_confusion_matrix\n",
    "\n",
    "\n",
    "check_round_predictions([\"round\", 0.33, 0.45], y_test, y_pred_test)"
   ]
  },
  {
   "cell_type": "code",
   "execution_count": 92,
   "id": "9129a0ae",
   "metadata": {},
   "outputs": [
    {
     "data": {
      "image/png": "[encoded data removed]",
      "text/plain": [
       "<Figure size 432x288 with 2 Axes>"
      ]
     },
     "metadata": {
      "needs_background": "light"
     },
     "output_type": "display_data"
    }
   ],
   "source": [
    "plot_confusion_matrix(\"round\", y_pred_test, y_test)"
   ]
  },
  {
   "cell_type": "markdown",
   "id": "aaaf3023",
   "metadata": {},
   "source": [
    "#### Tuning"
   ]
  },
  {
   "cell_type": "code",
   "execution_count": 93,
   "id": "cbd24f9f",
   "metadata": {},
   "outputs": [],
   "source": [
    "from training.results import assess_regression_model"
   ]
  },
  {
   "cell_type": "code",
   "execution_count": 94,
   "id": "10854460",
   "metadata": {},
   "outputs": [
    {
     "name": "stderr",
     "output_type": "stream",
     "text": [
      "[I 2023-11-03 20:23:06,459] A new study created in memory with name: no-name-982ccbf6-cc0c-4900-8206-195a730ca1ab\n",
      "\n",
      "  0%|                                                                                            | 0/7 [00:00<?, ?it/s]\u001b[A\n",
      "feature_fraction, val_score: inf:   0%|                                                          | 0/7 [00:00<?, ?it/s]\u001b[A"
     ]
    },
    {
     "name": "stdout",
     "output_type": "stream",
     "text": [
      "Training until validation scores don't improve for 100 rounds\n",
      "[100]\tcv_agg's l2: 0.234102 + 0.0514901\n",
      "[200]\tcv_agg's l2: 0.232555 + 0.0496004\n"
     ]
    },
    {
     "name": "stderr",
     "output_type": "stream",
     "text": [
      "\n",
      "feature_fraction, val_score: 0.231230:   0%|                                                     | 0/7 [00:00<?, ?it/s]\u001b[A\n",
      "feature_fraction, val_score: 0.231230:  14%|######4                                      | 1/7 [00:00<00:05,  1.20it/s]\u001b[A[I 2023-11-03 20:23:07,301] Trial 0 finished with value: 0.23122967944103578 and parameters: {'feature_fraction': 1.0}. Best is trial 0 with value: 0.23122967944103578.\n",
      "\n",
      "feature_fraction, val_score: 0.231230:  14%|######4                                      | 1/7 [00:00<00:05,  1.20it/s]\u001b[A"
     ]
    },
    {
     "name": "stdout",
     "output_type": "stream",
     "text": [
      "Early stopping, best iteration is:\n",
      "[174]\tcv_agg's l2: 0.23123 + 0.0496955\n",
      "[100]\tcv_agg's l2: 0.230809 + 0.0334825\n",
      "[200]\tcv_agg's l2: 0.225128 + 0.0356201\n",
      "[300]\tcv_agg's l2: 0.224722 + 0.0363901\n"
     ]
    },
    {
     "name": "stderr",
     "output_type": "stream",
     "text": [
      "\n",
      "feature_fraction, val_score: 0.224406:  14%|######4                                      | 1/7 [00:02<00:05,  1.20it/s]\u001b[A\n",
      "feature_fraction, val_score: 0.224406:  29%|############8                                | 2/7 [00:02<00:06,  1.28s/it]\u001b[A[I 2023-11-03 20:23:08,900] Trial 1 finished with value: 0.2244056787944811 and parameters: {'feature_fraction': 0.8}. Best is trial 1 with value: 0.2244056787944811.\n",
      "\n",
      "feature_fraction, val_score: 0.224406:  29%|############8                                | 2/7 [00:02<00:06,  1.28s/it]\u001b[A"
     ]
    },
    {
     "name": "stdout",
     "output_type": "stream",
     "text": [
      "[400]\tcv_agg's l2: 0.227075 + 0.0374359\n",
      "Early stopping, best iteration is:\n",
      "[308]\tcv_agg's l2: 0.224406 + 0.0365606\n",
      "[100]\tcv_agg's l2: 0.230809 + 0.0334825\n",
      "[200]\tcv_agg's l2: 0.225128 + 0.0356201\n",
      "[300]\tcv_agg's l2: 0.224722 + 0.0363901\n"
     ]
    },
    {
     "name": "stderr",
     "output_type": "stream",
     "text": [
      "\n",
      "feature_fraction, val_score: 0.224406:  29%|############8                                | 2/7 [00:04<00:06,  1.28s/it]\u001b[A\n",
      "feature_fraction, val_score: 0.224406:  43%|###################2                         | 3/7 [00:04<00:05,  1.50s/it]\u001b[A[I 2023-11-03 20:23:10,650] Trial 2 finished with value: 0.2244056787944811 and parameters: {'feature_fraction': 0.7}. Best is trial 1 with value: 0.2244056787944811.\n",
      "\n",
      "feature_fraction, val_score: 0.224406:  43%|###################2                         | 3/7 [00:04<00:05,  1.50s/it]\u001b[A"
     ]
    },
    {
     "name": "stdout",
     "output_type": "stream",
     "text": [
      "[400]\tcv_agg's l2: 0.227075 + 0.0374359\n",
      "Early stopping, best iteration is:\n",
      "[308]\tcv_agg's l2: 0.224406 + 0.0365606\n",
      "[100]\tcv_agg's l2: 0.230238 + 0.0513614\n",
      "[200]\tcv_agg's l2: 0.228089 + 0.0489182\n",
      "[300]\tcv_agg's l2: 0.23088 + 0.049828\n"
     ]
    },
    {
     "name": "stderr",
     "output_type": "stream",
     "text": [
      "\n",
      "feature_fraction, val_score: 0.224406:  43%|###################2                         | 3/7 [00:06<00:05,  1.50s/it]\u001b[A\n",
      "feature_fraction, val_score: 0.224406:  57%|#########################7                   | 4/7 [00:06<00:05,  1.67s/it]\u001b[A[I 2023-11-03 20:23:12,583] Trial 3 finished with value: 0.23089876301679907 and parameters: {'feature_fraction': 0.8999999999999999}. Best is trial 1 with value: 0.2244056787944811.\n",
      "\n",
      "feature_fraction, val_score: 0.224406:  57%|#########################7                   | 4/7 [00:06<00:05,  1.67s/it]\u001b[A"
     ]
    },
    {
     "name": "stdout",
     "output_type": "stream",
     "text": [
      "[400]\tcv_agg's l2: 0.23298 + 0.0502458\n",
      "Early stopping, best iteration is:\n",
      "[308]\tcv_agg's l2: 0.224406 + 0.0365606\n",
      "[100]\tcv_agg's l2: 0.250527 + 0.0353293\n",
      "[200]\tcv_agg's l2: 0.235391 + 0.0367703\n",
      "[300]\tcv_agg's l2: 0.231816 + 0.0381611\n"
     ]
    },
    {
     "name": "stderr",
     "output_type": "stream",
     "text": [
      "\n",
      "feature_fraction, val_score: 0.224406:  57%|#########################7                   | 4/7 [00:08<00:05,  1.67s/it]\u001b[A\n",
      "feature_fraction, val_score: 0.224406:  71%|################################1            | 5/7 [00:08<00:03,  1.91s/it]\u001b[A[I 2023-11-03 20:23:14,932] Trial 4 finished with value: 0.23159684358796864 and parameters: {'feature_fraction': 0.5}. Best is trial 1 with value: 0.2244056787944811.\n",
      "\n",
      "feature_fraction, val_score: 0.224406:  71%|################################1            | 5/7 [00:08<00:03,  1.91s/it]\u001b[A"
     ]
    },
    {
     "name": "stdout",
     "output_type": "stream",
     "text": [
      "[400]\tcv_agg's l2: 0.230325 + 0.0373731\n",
      "Early stopping, best iteration is:\n",
      "[308]\tcv_agg's l2: 0.224406 + 0.0365606\n",
      "[100]\tcv_agg's l2: 0.23794 + 0.0355051\n",
      "[200]\tcv_agg's l2: 0.226243 + 0.0382786\n",
      "[300]\tcv_agg's l2: 0.22434 + 0.038315\n",
      "[400]\tcv_agg's l2: 0.223509 + 0.038486\n"
     ]
    },
    {
     "name": "stderr",
     "output_type": "stream",
     "text": [
      "\n",
      "feature_fraction, val_score: 0.223434:  71%|################################1            | 5/7 [00:11<00:03,  1.91s/it]\u001b[A\n",
      "feature_fraction, val_score: 0.223434:  86%|######################################5      | 6/7 [00:11<00:02,  2.33s/it]\u001b[A[I 2023-11-03 20:23:18,080] Trial 5 finished with value: 0.2234341067699574 and parameters: {'feature_fraction': 0.6}. Best is trial 5 with value: 0.2234341067699574.\n",
      "\n",
      "feature_fraction, val_score: 0.223434:  86%|######################################5      | 6/7 [00:11<00:02,  2.33s/it]\u001b[A"
     ]
    },
    {
     "name": "stdout",
     "output_type": "stream",
     "text": [
      "[500]\tcv_agg's l2: 0.224286 + 0.039282\n",
      "Early stopping, best iteration is:\n",
      "[406]\tcv_agg's l2: 0.223434 + 0.0384867\n",
      "[100]\tcv_agg's l2: 0.391094 + 0.0843401\n",
      "[200]\tcv_agg's l2: 0.33907 + 0.0785272\n",
      "[300]\tcv_agg's l2: 0.318471 + 0.0726064\n",
      "[400]\tcv_agg's l2: 0.309643 + 0.0694415\n"
     ]
    },
    {
     "name": "stderr",
     "output_type": "stream",
     "text": [
      "\n",
      "feature_fraction, val_score: 0.223434:  86%|######################################5      | 6/7 [00:15<00:02,  2.33s/it]\u001b[A\n",
      "feature_fraction, val_score: 0.223434: 100%|#############################################| 7/7 [00:15<00:00,  2.72s/it]\u001b[A[I 2023-11-03 20:23:21,583] Trial 6 finished with value: 0.3095825979660364 and parameters: {'feature_fraction': 0.4}. Best is trial 5 with value: 0.2234341067699574.\n",
      "feature_fraction, val_score: 0.223434: 100%|#############################################| 7/7 [00:15<00:00,  2.16s/it]\n"
     ]
    },
    {
     "name": "stdout",
     "output_type": "stream",
     "text": [
      "[500]\tcv_agg's l2: 0.305555 + 0.0681968\n",
      "Early stopping, best iteration is:\n",
      "[406]\tcv_agg's l2: 0.223434 + 0.0384867\n"
     ]
    },
    {
     "name": "stderr",
     "output_type": "stream",
     "text": [
      "\n",
      "  0%|                                                                                           | 0/20 [00:00<?, ?it/s]\u001b[A\n",
      "num_leaves, val_score: 0.223434:   0%|                                                          | 0/20 [00:00<?, ?it/s]\u001b[A"
     ]
    },
    {
     "name": "stdout",
     "output_type": "stream",
     "text": [
      "[100]\tcv_agg's l2: 0.237214 + 0.0354401\n",
      "[200]\tcv_agg's l2: 0.225348 + 0.0354551\n",
      "[300]\tcv_agg's l2: 0.221085 + 0.0350189\n",
      "[400]\tcv_agg's l2: 0.218607 + 0.0343749\n",
      "[500]\tcv_agg's l2: 0.217594 + 0.0352704\n"
     ]
    },
    {
     "name": "stderr",
     "output_type": "stream",
     "text": [
      "\n",
      "num_leaves, val_score: 0.217341:   0%|                                                          | 0/20 [00:02<?, ?it/s]\u001b[A\n",
      "num_leaves, val_score: 0.217341:   5%|##5                                               | 1/20 [00:02<00:38,  2.01s/it]\u001b[A[I 2023-11-03 20:23:23,608] Trial 7 finished with value: 0.2173413542444794 and parameters: {'num_leaves': 13}. Best is trial 7 with value: 0.2173413542444794.\n",
      "\n",
      "num_leaves, val_score: 0.217341:   5%|##5                                               | 1/20 [00:02<00:38,  2.01s/it]\u001b[A"
     ]
    },
    {
     "name": "stdout",
     "output_type": "stream",
     "text": [
      "Early stopping, best iteration is:\n",
      "[486]\tcv_agg's l2: 0.217341 + 0.03496\n",
      "[100]\tcv_agg's l2: 0.23794 + 0.0355051\n",
      "[200]\tcv_agg's l2: 0.226243 + 0.0382786\n",
      "[300]\tcv_agg's l2: 0.22434 + 0.038315\n",
      "[400]\tcv_agg's l2: 0.223509 + 0.038486\n",
      "[500]\tcv_agg's l2: 0.224286 + 0.039282\n"
     ]
    },
    {
     "name": "stderr",
     "output_type": "stream",
     "text": [
      "\n",
      "num_leaves, val_score: 0.217341:   5%|##5                                               | 1/20 [00:05<00:38,  2.01s/it]\u001b[A\n",
      "num_leaves, val_score: 0.217341:  10%|#####                                             | 2/20 [00:05<00:54,  3.05s/it]\u001b[A[I 2023-11-03 20:23:27,380] Trial 8 finished with value: 0.2241019064830066 and parameters: {'num_leaves': 186}. Best is trial 7 with value: 0.2173413542444794.\n",
      "\n",
      "num_leaves, val_score: 0.217341:  10%|#####                                             | 2/20 [00:05<00:54,  3.05s/it]\u001b[A"
     ]
    },
    {
     "name": "stdout",
     "output_type": "stream",
     "text": [
      "Early stopping, best iteration is:\n",
      "[486]\tcv_agg's l2: 0.217341 + 0.03496\n",
      "[100]\tcv_agg's l2: 0.23794 + 0.0355051\n",
      "[200]\tcv_agg's l2: 0.226243 + 0.0382786\n",
      "[300]\tcv_agg's l2: 0.22434 + 0.038315\n",
      "[400]\tcv_agg's l2: 0.223509 + 0.038486\n",
      "[500]\tcv_agg's l2: 0.224286 + 0.039282\n"
     ]
    },
    {
     "name": "stderr",
     "output_type": "stream",
     "text": [
      "\n",
      "num_leaves, val_score: 0.217341:  10%|#####                                             | 2/20 [00:09<00:54,  3.05s/it]\u001b[A\n",
      "num_leaves, val_score: 0.217341:  15%|#######5                                          | 3/20 [00:09<00:56,  3.33s/it]\u001b[A[I 2023-11-03 20:23:31,056] Trial 9 finished with value: 0.2241019064830066 and parameters: {'num_leaves': 193}. Best is trial 7 with value: 0.2173413542444794.\n",
      "\n",
      "num_leaves, val_score: 0.217341:  15%|#######5                                          | 3/20 [00:09<00:56,  3.33s/it]\u001b[A"
     ]
    },
    {
     "name": "stdout",
     "output_type": "stream",
     "text": [
      "Early stopping, best iteration is:\n",
      "[486]\tcv_agg's l2: 0.217341 + 0.03496\n",
      "[100]\tcv_agg's l2: 0.237214 + 0.0354401\n",
      "[200]\tcv_agg's l2: 0.225348 + 0.0354551\n",
      "[300]\tcv_agg's l2: 0.221085 + 0.0350189\n",
      "[400]\tcv_agg's l2: 0.218607 + 0.0343749\n",
      "[500]\tcv_agg's l2: 0.217594 + 0.0352704\n"
     ]
    },
    {
     "name": "stderr",
     "output_type": "stream",
     "text": [
      "\n",
      "num_leaves, val_score: 0.217341:  15%|#######5                                          | 3/20 [00:11<00:56,  3.33s/it]\u001b[A\n",
      "num_leaves, val_score: 0.217341:  20%|##########                                        | 4/20 [00:11<00:44,  2.81s/it]\u001b[A[I 2023-11-03 20:23:33,059] Trial 10 finished with value: 0.2173413542444794 and parameters: {'num_leaves': 13}. Best is trial 7 with value: 0.2173413542444794.\n",
      "\n",
      "num_leaves, val_score: 0.217341:  20%|##########                                        | 4/20 [00:11<00:44,  2.81s/it]\u001b[A"
     ]
    },
    {
     "name": "stdout",
     "output_type": "stream",
     "text": [
      "Early stopping, best iteration is:\n",
      "[486]\tcv_agg's l2: 0.217341 + 0.03496\n",
      "[100]\tcv_agg's l2: 0.256045 + 0.0445748\n",
      "[200]\tcv_agg's l2: 0.239589 + 0.0430801\n",
      "[300]\tcv_agg's l2: 0.231246 + 0.0375898\n",
      "[400]\tcv_agg's l2: 0.226243 + 0.033987\n"
     ]
    },
    {
     "name": "stderr",
     "output_type": "stream",
     "text": [
      "\n"
     ]
    },
    {
     "name": "stdout",
     "output_type": "stream",
     "text": [
      "[500]\tcv_agg's l2: 0.222487 + 0.0329208\n",
      "Early stopping, best iteration is:\n",
      "[486]\tcv_agg's l2: 0.217341 + 0.03496\n"
     ]
    },
    {
     "name": "stderr",
     "output_type": "stream",
     "text": [
      "num_leaves, val_score: 0.217341:  20%|##########                                        | 4/20 [00:12<00:44,  2.81s/it]\u001b[A\n",
      "num_leaves, val_score: 0.217341:  25%|############5                                     | 5/20 [00:12<00:33,  2.23s/it]\u001b[A[I 2023-11-03 20:23:34,262] Trial 11 finished with value: 0.22309598289505814 and parameters: {'num_leaves': 6}. Best is trial 7 with value: 0.2173413542444794.\n",
      "\n",
      "num_leaves, val_score: 0.217341:  25%|############5                                     | 5/20 [00:12<00:33,  2.23s/it]\u001b[A"
     ]
    },
    {
     "name": "stdout",
     "output_type": "stream",
     "text": [
      "[100]\tcv_agg's l2: 0.237362 + 0.0379045\n",
      "[200]\tcv_agg's l2: 0.225929 + 0.0395273\n",
      "[300]\tcv_agg's l2: 0.223431 + 0.0386523\n",
      "[400]\tcv_agg's l2: 0.223497 + 0.0395203\n",
      "[500]\tcv_agg's l2: 0.223973 + 0.0393018\n"
     ]
    },
    {
     "name": "stderr",
     "output_type": "stream",
     "text": [
      "\n",
      "num_leaves, val_score: 0.217341:  25%|############5                                     | 5/20 [00:15<00:33,  2.23s/it]\u001b[A\n",
      "num_leaves, val_score: 0.217341:  30%|###############                                   | 6/20 [00:15<00:35,  2.52s/it]\u001b[A[I 2023-11-03 20:23:37,345] Trial 12 finished with value: 0.22395062744632055 and parameters: {'num_leaves': 22}. Best is trial 7 with value: 0.2173413542444794.\n",
      "\n",
      "num_leaves, val_score: 0.217341:  30%|###############                                   | 6/20 [00:15<00:35,  2.52s/it]\u001b[A"
     ]
    },
    {
     "name": "stdout",
     "output_type": "stream",
     "text": [
      "Early stopping, best iteration is:\n",
      "[486]\tcv_agg's l2: 0.217341 + 0.03496\n",
      "[100]\tcv_agg's l2: 0.23794 + 0.0355051\n",
      "[200]\tcv_agg's l2: 0.226243 + 0.0382786\n",
      "[300]\tcv_agg's l2: 0.22434 + 0.038315\n",
      "[400]\tcv_agg's l2: 0.223509 + 0.038486\n",
      "[500]\tcv_agg's l2: 0.224286 + 0.039282\n"
     ]
    },
    {
     "name": "stderr",
     "output_type": "stream",
     "text": [
      "\n",
      "num_leaves, val_score: 0.217341:  30%|###############                                   | 6/20 [00:19<00:35,  2.52s/it]\u001b[A\n",
      "num_leaves, val_score: 0.217341:  35%|#################5                                | 7/20 [00:19<00:37,  2.90s/it]\u001b[A[I 2023-11-03 20:23:41,028] Trial 13 finished with value: 0.2241019064830066 and parameters: {'num_leaves': 79}. Best is trial 7 with value: 0.2173413542444794.\n",
      "\n",
      "num_leaves, val_score: 0.217341:  35%|#################5                                | 7/20 [00:19<00:37,  2.90s/it]\u001b[A"
     ]
    },
    {
     "name": "stdout",
     "output_type": "stream",
     "text": [
      "Early stopping, best iteration is:\n",
      "[486]\tcv_agg's l2: 0.217341 + 0.03496\n",
      "[100]\tcv_agg's l2: 0.23794 + 0.0355051\n",
      "[200]\tcv_agg's l2: 0.226243 + 0.0382786\n",
      "[300]\tcv_agg's l2: 0.22434 + 0.038315\n",
      "[400]\tcv_agg's l2: 0.223509 + 0.038486\n",
      "[500]\tcv_agg's l2: 0.224286 + 0.039282\n"
     ]
    },
    {
     "name": "stderr",
     "output_type": "stream",
     "text": [
      "\n",
      "num_leaves, val_score: 0.217341:  35%|#################5                                | 7/20 [00:22<00:37,  2.90s/it]\u001b[A\n",
      "num_leaves, val_score: 0.217341:  40%|####################                              | 8/20 [00:22<00:36,  3.05s/it]\u001b[A[I 2023-11-03 20:23:44,386] Trial 14 finished with value: 0.2241019064830066 and parameters: {'num_leaves': 87}. Best is trial 7 with value: 0.2173413542444794.\n",
      "\n",
      "num_leaves, val_score: 0.217341:  40%|####################                              | 8/20 [00:22<00:36,  3.05s/it]\u001b[A"
     ]
    },
    {
     "name": "stdout",
     "output_type": "stream",
     "text": [
      "Early stopping, best iteration is:\n",
      "[486]\tcv_agg's l2: 0.217341 + 0.03496\n",
      "[100]\tcv_agg's l2: 0.23794 + 0.0355051\n",
      "[200]\tcv_agg's l2: 0.226243 + 0.0382786\n",
      "[300]\tcv_agg's l2: 0.22434 + 0.038315\n",
      "[400]\tcv_agg's l2: 0.223509 + 0.038486\n",
      "[500]\tcv_agg's l2: 0.224286 + 0.039282\n"
     ]
    },
    {
     "name": "stderr",
     "output_type": "stream",
     "text": [
      "\n",
      "num_leaves, val_score: 0.217341:  40%|####################                              | 8/20 [00:26<00:36,  3.05s/it]\u001b[A\n",
      "num_leaves, val_score: 0.217341:  45%|######################5                           | 9/20 [00:26<00:34,  3.15s/it]\u001b[A[I 2023-11-03 20:23:47,751] Trial 15 finished with value: 0.2241019064830066 and parameters: {'num_leaves': 60}. Best is trial 7 with value: 0.2173413542444794.\n",
      "\n",
      "num_leaves, val_score: 0.217341:  45%|######################5                           | 9/20 [00:26<00:34,  3.15s/it]\u001b[A"
     ]
    },
    {
     "name": "stdout",
     "output_type": "stream",
     "text": [
      "Early stopping, best iteration is:\n",
      "[486]\tcv_agg's l2: 0.217341 + 0.03496\n",
      "[100]\tcv_agg's l2: 0.23794 + 0.0355051\n",
      "[200]\tcv_agg's l2: 0.226243 + 0.0382786\n",
      "[300]\tcv_agg's l2: 0.22434 + 0.038315\n",
      "[400]\tcv_agg's l2: 0.223509 + 0.038486\n",
      "[500]\tcv_agg's l2: 0.224286 + 0.039282\n"
     ]
    },
    {
     "name": "stderr",
     "output_type": "stream",
     "text": [
      "\n",
      "num_leaves, val_score: 0.217341:  45%|######################5                           | 9/20 [00:29<00:34,  3.15s/it]\u001b[A\n",
      "num_leaves, val_score: 0.217341:  50%|########################5                        | 10/20 [00:29<00:32,  3.29s/it]\u001b[A[I 2023-11-03 20:23:51,364] Trial 16 finished with value: 0.2241019064830066 and parameters: {'num_leaves': 133}. Best is trial 7 with value: 0.2173413542444794.\n",
      "\n",
      "num_leaves, val_score: 0.217341:  50%|########################5                        | 10/20 [00:29<00:32,  3.29s/it]\u001b[A"
     ]
    },
    {
     "name": "stdout",
     "output_type": "stream",
     "text": [
      "Early stopping, best iteration is:\n",
      "[486]\tcv_agg's l2: 0.217341 + 0.03496\n",
      "[100]\tcv_agg's l2: 0.256045 + 0.0445748\n",
      "[200]\tcv_agg's l2: 0.239589 + 0.0430801\n",
      "[300]\tcv_agg's l2: 0.231246 + 0.0375898\n",
      "[400]\tcv_agg's l2: 0.226243 + 0.033987\n",
      "[500]\tcv_agg's l2: 0.222487 + 0.0329208\n"
     ]
    },
    {
     "name": "stderr",
     "output_type": "stream",
     "text": [
      "\n",
      "num_leaves, val_score: 0.217341:  50%|########################5                        | 10/20 [00:31<00:32,  3.29s/it]\u001b[A\n",
      "num_leaves, val_score: 0.217341:  55%|##########################9                      | 11/20 [00:31<00:24,  2.69s/it]\u001b[A[I 2023-11-03 20:23:52,701] Trial 17 finished with value: 0.22309598289505814 and parameters: {'num_leaves': 6}. Best is trial 7 with value: 0.2173413542444794.\n",
      "\n",
      "num_leaves, val_score: 0.217341:  55%|##########################9                      | 11/20 [00:31<00:24,  2.69s/it]\u001b[A"
     ]
    },
    {
     "name": "stdout",
     "output_type": "stream",
     "text": [
      "Early stopping, best iteration is:\n",
      "[486]\tcv_agg's l2: 0.217341 + 0.03496\n",
      "[100]\tcv_agg's l2: 0.23794 + 0.0355051\n",
      "[200]\tcv_agg's l2: 0.226243 + 0.0382786\n",
      "[300]\tcv_agg's l2: 0.22434 + 0.038315\n",
      "[400]\tcv_agg's l2: 0.223509 + 0.038486\n",
      "[500]\tcv_agg's l2: 0.224286 + 0.039282\n"
     ]
    },
    {
     "name": "stderr",
     "output_type": "stream",
     "text": [
      "\n",
      "num_leaves, val_score: 0.217341:  55%|##########################9                      | 11/20 [00:35<00:24,  2.69s/it]\u001b[A\n",
      "num_leaves, val_score: 0.217341:  60%|#############################4                   | 12/20 [00:35<00:25,  3.13s/it]\u001b[A[I 2023-11-03 20:23:56,845] Trial 18 finished with value: 0.2241019064830066 and parameters: {'num_leaves': 62}. Best is trial 7 with value: 0.2173413542444794.\n",
      "\n",
      "num_leaves, val_score: 0.217341:  60%|#############################4                   | 12/20 [00:35<00:25,  3.13s/it]\u001b[A"
     ]
    },
    {
     "name": "stdout",
     "output_type": "stream",
     "text": [
      "Early stopping, best iteration is:\n",
      "[486]\tcv_agg's l2: 0.217341 + 0.03496\n",
      "[100]\tcv_agg's l2: 0.23794 + 0.0355051\n",
      "[200]\tcv_agg's l2: 0.226243 + 0.0382786\n",
      "[300]\tcv_agg's l2: 0.22434 + 0.038315\n",
      "[400]\tcv_agg's l2: 0.223509 + 0.038486\n",
      "[500]\tcv_agg's l2: 0.224286 + 0.039282\n"
     ]
    },
    {
     "name": "stderr",
     "output_type": "stream",
     "text": [
      "\n",
      "num_leaves, val_score: 0.217341:  60%|#############################4                   | 12/20 [00:38<00:25,  3.13s/it]\u001b[A\n",
      "num_leaves, val_score: 0.217341:  65%|###############################8                 | 13/20 [00:38<00:22,  3.21s/it]\u001b[A[I 2023-11-03 20:24:00,241] Trial 19 finished with value: 0.2241019064830066 and parameters: {'num_leaves': 132}. Best is trial 7 with value: 0.2173413542444794.\n",
      "\n",
      "num_leaves, val_score: 0.217341:  65%|###############################8                 | 13/20 [00:38<00:22,  3.21s/it]\u001b[A"
     ]
    },
    {
     "name": "stdout",
     "output_type": "stream",
     "text": [
      "Early stopping, best iteration is:\n",
      "[486]\tcv_agg's l2: 0.217341 + 0.03496\n",
      "[100]\tcv_agg's l2: 0.23794 + 0.0355051\n",
      "[200]\tcv_agg's l2: 0.226243 + 0.0382786\n",
      "[300]\tcv_agg's l2: 0.22434 + 0.038315\n",
      "[400]\tcv_agg's l2: 0.223509 + 0.038486\n",
      "[500]\tcv_agg's l2: 0.224286 + 0.039282\n"
     ]
    },
    {
     "name": "stderr",
     "output_type": "stream",
     "text": [
      "\n",
      "num_leaves, val_score: 0.217341:  65%|###############################8                 | 13/20 [00:42<00:22,  3.21s/it]\u001b[A\n",
      "num_leaves, val_score: 0.217341:  70%|##################################3              | 14/20 [00:42<00:19,  3.30s/it]\u001b[A[I 2023-11-03 20:24:03,734] Trial 20 finished with value: 0.2241019064830066 and parameters: {'num_leaves': 36}. Best is trial 7 with value: 0.2173413542444794.\n",
      "\n",
      "num_leaves, val_score: 0.217341:  70%|##################################3              | 14/20 [00:42<00:19,  3.30s/it]\u001b[A"
     ]
    },
    {
     "name": "stdout",
     "output_type": "stream",
     "text": [
      "Early stopping, best iteration is:\n",
      "[486]\tcv_agg's l2: 0.217341 + 0.03496\n",
      "[100]\tcv_agg's l2: 0.253647 + 0.0394103\n",
      "[200]\tcv_agg's l2: 0.238063 + 0.0365059\n",
      "[300]\tcv_agg's l2: 0.230473 + 0.0318501\n",
      "[400]\tcv_agg's l2: 0.22591 + 0.0305855\n",
      "[500]\tcv_agg's l2: 0.223022 + 0.0293351\n"
     ]
    },
    {
     "name": "stderr",
     "output_type": "stream",
     "text": [
      "\n",
      "num_leaves, val_score: 0.217341:  70%|##################################3              | 14/20 [00:43<00:19,  3.30s/it]\u001b[A\n",
      "num_leaves, val_score: 0.217341:  75%|####################################7            | 15/20 [00:43<00:13,  2.71s/it]\u001b[A[I 2023-11-03 20:24:05,081] Trial 21 finished with value: 0.22360829559241538 and parameters: {'num_leaves': 7}. Best is trial 7 with value: 0.2173413542444794.\n",
      "\n",
      "num_leaves, val_score: 0.217341:  75%|####################################7            | 15/20 [00:43<00:13,  2.71s/it]\u001b[A"
     ]
    },
    {
     "name": "stdout",
     "output_type": "stream",
     "text": [
      "Early stopping, best iteration is:\n",
      "[486]\tcv_agg's l2: 0.217341 + 0.03496\n",
      "[100]\tcv_agg's l2: 0.23794 + 0.0355051\n",
      "[200]\tcv_agg's l2: 0.226243 + 0.0382786\n",
      "[300]\tcv_agg's l2: 0.22434 + 0.038315\n",
      "[400]\tcv_agg's l2: 0.223509 + 0.038486\n",
      "[500]\tcv_agg's l2: 0.224286 + 0.039282\n"
     ]
    },
    {
     "name": "stderr",
     "output_type": "stream",
     "text": [
      "\n",
      "num_leaves, val_score: 0.217341:  75%|####################################7            | 15/20 [00:47<00:13,  2.71s/it]\u001b[A\n",
      "num_leaves, val_score: 0.217341:  80%|#######################################2         | 16/20 [00:47<00:12,  3.04s/it]\u001b[A[I 2023-11-03 20:24:08,877] Trial 22 finished with value: 0.2241019064830066 and parameters: {'num_leaves': 253}. Best is trial 7 with value: 0.2173413542444794.\n",
      "\n",
      "num_leaves, val_score: 0.217341:  80%|#######################################2         | 16/20 [00:47<00:12,  3.04s/it]\u001b[A"
     ]
    },
    {
     "name": "stdout",
     "output_type": "stream",
     "text": [
      "Early stopping, best iteration is:\n",
      "[486]\tcv_agg's l2: 0.217341 + 0.03496\n",
      "[100]\tcv_agg's l2: 0.23794 + 0.0355051\n",
      "[200]\tcv_agg's l2: 0.226243 + 0.0382786\n",
      "[300]\tcv_agg's l2: 0.22434 + 0.038315\n",
      "[400]\tcv_agg's l2: 0.223509 + 0.038486\n",
      "[500]\tcv_agg's l2: 0.224286 + 0.039282\n"
     ]
    },
    {
     "name": "stderr",
     "output_type": "stream",
     "text": [
      "\n",
      "num_leaves, val_score: 0.217341:  80%|#######################################2         | 16/20 [00:50<00:12,  3.04s/it]\u001b[A\n",
      "num_leaves, val_score: 0.217341:  85%|#########################################6       | 17/20 [00:50<00:09,  3.16s/it]\u001b[A[I 2023-11-03 20:24:12,338] Trial 23 finished with value: 0.2241019064830066 and parameters: {'num_leaves': 41}. Best is trial 7 with value: 0.2173413542444794.\n",
      "\n",
      "num_leaves, val_score: 0.217341:  85%|#########################################6       | 17/20 [00:50<00:09,  3.16s/it]\u001b[A"
     ]
    },
    {
     "name": "stdout",
     "output_type": "stream",
     "text": [
      "Early stopping, best iteration is:\n",
      "[486]\tcv_agg's l2: 0.217341 + 0.03496\n",
      "[100]\tcv_agg's l2: 0.341903 + 0.0422746\n",
      "[200]\tcv_agg's l2: 0.30476 + 0.0429078\n",
      "[300]\tcv_agg's l2: 0.295428 + 0.0435111\n",
      "[400]\tcv_agg's l2: 0.292388 + 0.0432002\n",
      "[500]\tcv_agg's l2: 0.290717 + 0.0434717\n"
     ]
    },
    {
     "name": "stderr",
     "output_type": "stream",
     "text": [
      "\n",
      "num_leaves, val_score: 0.217341:  85%|#########################################6       | 17/20 [00:51<00:09,  3.16s/it]\u001b[A\n",
      "num_leaves, val_score: 0.217341:  90%|############################################1    | 18/20 [00:51<00:04,  2.46s/it]\u001b[A[I 2023-11-03 20:24:13,164] Trial 24 finished with value: 0.29101252727580934 and parameters: {'num_leaves': 2}. Best is trial 7 with value: 0.2173413542444794.\n",
      "\n",
      "num_leaves, val_score: 0.217341:  90%|############################################1    | 18/20 [00:51<00:04,  2.46s/it]\u001b[A"
     ]
    },
    {
     "name": "stdout",
     "output_type": "stream",
     "text": [
      "Early stopping, best iteration is:\n",
      "[486]\tcv_agg's l2: 0.217341 + 0.03496\n",
      "[100]\tcv_agg's l2: 0.23794 + 0.0355051\n",
      "[200]\tcv_agg's l2: 0.226243 + 0.0382786\n",
      "[300]\tcv_agg's l2: 0.22434 + 0.038315\n",
      "[400]\tcv_agg's l2: 0.223509 + 0.038486\n",
      "[500]\tcv_agg's l2: 0.224286 + 0.039282\n"
     ]
    },
    {
     "name": "stderr",
     "output_type": "stream",
     "text": [
      "\n",
      "num_leaves, val_score: 0.217341:  90%|############################################1    | 18/20 [00:55<00:04,  2.46s/it]\u001b[A\n",
      "num_leaves, val_score: 0.217341:  95%|##############################################5  | 19/20 [00:55<00:02,  2.76s/it]\u001b[A[I 2023-11-03 20:24:16,619] Trial 25 finished with value: 0.2241019064830066 and parameters: {'num_leaves': 97}. Best is trial 7 with value: 0.2173413542444794.\n",
      "\n",
      "num_leaves, val_score: 0.217341:  95%|##############################################5  | 19/20 [00:55<00:02,  2.76s/it]\u001b[A"
     ]
    },
    {
     "name": "stdout",
     "output_type": "stream",
     "text": [
      "Early stopping, best iteration is:\n",
      "[486]\tcv_agg's l2: 0.217341 + 0.03496\n",
      "[100]\tcv_agg's l2: 0.23794 + 0.0355051\n",
      "[200]\tcv_agg's l2: 0.226243 + 0.0382786\n",
      "[300]\tcv_agg's l2: 0.22434 + 0.038315\n",
      "[400]\tcv_agg's l2: 0.223509 + 0.038486\n",
      "[500]\tcv_agg's l2: 0.224286 + 0.039282\n"
     ]
    },
    {
     "name": "stderr",
     "output_type": "stream",
     "text": [
      "\n",
      "num_leaves, val_score: 0.217341:  95%|##############################################5  | 19/20 [00:58<00:02,  2.76s/it]\u001b[A\n",
      "num_leaves, val_score: 0.217341: 100%|#################################################| 20/20 [00:58<00:00,  2.96s/it]\u001b[A[I 2023-11-03 20:24:20,042] Trial 26 finished with value: 0.2241019064830066 and parameters: {'num_leaves': 43}. Best is trial 7 with value: 0.2173413542444794.\n",
      "num_leaves, val_score: 0.217341: 100%|#################################################| 20/20 [00:58<00:00,  2.92s/it]\n"
     ]
    },
    {
     "name": "stdout",
     "output_type": "stream",
     "text": [
      "Early stopping, best iteration is:\n",
      "[486]\tcv_agg's l2: 0.217341 + 0.03496\n"
     ]
    },
    {
     "name": "stderr",
     "output_type": "stream",
     "text": [
      "\n",
      "  0%|                                                                                           | 0/10 [00:00<?, ?it/s]\u001b[A\n",
      "bagging, val_score: 0.217341:   0%|                                                             | 0/10 [00:00<?, ?it/s]\u001b[A"
     ]
    },
    {
     "name": "stdout",
     "output_type": "stream",
     "text": [
      "[100]\tcv_agg's l2: 0.24294 + 0.0387454\n",
      "[200]\tcv_agg's l2: 0.227196 + 0.0394291\n",
      "[300]\tcv_agg's l2: 0.22131 + 0.0377749\n",
      "[400]\tcv_agg's l2: 0.217776 + 0.0373919\n",
      "[500]\tcv_agg's l2: 0.217234 + 0.038746\n",
      "[600]\tcv_agg's l2: 0.215592 + 0.0382357\n"
     ]
    },
    {
     "name": "stderr",
     "output_type": "stream",
     "text": [
      "\n",
      "bagging, val_score: 0.214587:   0%|                                                             | 0/10 [00:02<?, ?it/s]\u001b[A\n",
      "bagging, val_score: 0.214587:  10%|#####3                                               | 1/10 [00:02<00:24,  2.70s/it]\u001b[A[I 2023-11-03 20:24:22,768] Trial 27 finished with value: 0.2145869720257231 and parameters: {'bagging_fraction': 0.8861802345943328, 'bagging_freq': 5}. Best is trial 27 with value: 0.2145869720257231.\n",
      "\n",
      "bagging, val_score: 0.214587:  10%|#####3                                               | 1/10 [00:02<00:24,  2.70s/it]\u001b[A"
     ]
    },
    {
     "name": "stdout",
     "output_type": "stream",
     "text": [
      "Early stopping, best iteration is:\n",
      "[561]\tcv_agg's l2: 0.214587 + 0.0380092\n",
      "[100]\tcv_agg's l2: 0.245809 + 0.0431544\n",
      "[200]\tcv_agg's l2: 0.22883 + 0.0420408\n",
      "[300]\tcv_agg's l2: 0.222459 + 0.0397698\n",
      "[400]\tcv_agg's l2: 0.217297 + 0.0377083\n",
      "[500]\tcv_agg's l2: 0.215996 + 0.0384728\n",
      "[600]\tcv_agg's l2: 0.215849 + 0.0381329\n"
     ]
    },
    {
     "name": "stderr",
     "output_type": "stream",
     "text": [
      "\n",
      "bagging, val_score: 0.214587:  10%|#####3                                               | 1/10 [00:05<00:24,  2.70s/it]\u001b[A\n",
      "bagging, val_score: 0.214587:  20%|##########6                                          | 2/10 [00:05<00:20,  2.60s/it]\u001b[A[I 2023-11-03 20:24:25,290] Trial 28 finished with value: 0.2155106757241903 and parameters: {'bagging_fraction': 0.910507589074558, 'bagging_freq': 5}. Best is trial 27 with value: 0.2145869720257231.\n",
      "\n",
      "bagging, val_score: 0.214587:  20%|##########6                                          | 2/10 [00:05<00:20,  2.60s/it]\u001b[A"
     ]
    },
    {
     "name": "stdout",
     "output_type": "stream",
     "text": [
      "Early stopping, best iteration is:\n",
      "[561]\tcv_agg's l2: 0.214587 + 0.0380092\n",
      "[100]\tcv_agg's l2: 0.244463 + 0.0442653\n",
      "[200]\tcv_agg's l2: 0.229097 + 0.0429497\n",
      "[300]\tcv_agg's l2: 0.223265 + 0.0425788\n",
      "[400]\tcv_agg's l2: 0.21864 + 0.0399969\n",
      "[500]\tcv_agg's l2: 0.217733 + 0.0407372\n",
      "[600]\tcv_agg's l2: 0.217604 + 0.0397845\n"
     ]
    },
    {
     "name": "stderr",
     "output_type": "stream",
     "text": [
      "\n",
      "bagging, val_score: 0.214587:  20%|##########6                                          | 2/10 [00:08<00:20,  2.60s/it]\u001b[A\n",
      "bagging, val_score: 0.214587:  30%|###############9                                     | 3/10 [00:08<00:18,  2.69s/it]\u001b[A[I 2023-11-03 20:24:28,096] Trial 29 finished with value: 0.21695571187802692 and parameters: {'bagging_fraction': 0.920692445742629, 'bagging_freq': 5}. Best is trial 27 with value: 0.2145869720257231.\n",
      "\n",
      "bagging, val_score: 0.214587:  30%|###############9                                     | 3/10 [00:08<00:18,  2.69s/it]\u001b[A"
     ]
    },
    {
     "name": "stdout",
     "output_type": "stream",
     "text": [
      "Early stopping, best iteration is:\n",
      "[561]\tcv_agg's l2: 0.214587 + 0.0380092\n",
      "[100]\tcv_agg's l2: 0.241808 + 0.04135\n",
      "[200]\tcv_agg's l2: 0.227067 + 0.037774\n",
      "[300]\tcv_agg's l2: 0.221665 + 0.037646\n",
      "[400]\tcv_agg's l2: 0.21899 + 0.0367593\n",
      "[500]\tcv_agg's l2: 0.219083 + 0.0374329\n",
      "[600]\tcv_agg's l2: 0.219078 + 0.0369129\n"
     ]
    },
    {
     "name": "stderr",
     "output_type": "stream",
     "text": [
      "\n",
      "bagging, val_score: 0.214587:  30%|###############9                                     | 3/10 [00:10<00:18,  2.69s/it]\u001b[A\n",
      "bagging, val_score: 0.214587:  40%|#####################2                               | 4/10 [00:10<00:16,  2.74s/it]\u001b[A[I 2023-11-03 20:24:30,905] Trial 30 finished with value: 0.21812697666452285 and parameters: {'bagging_fraction': 0.9359608778474556, 'bagging_freq': 5}. Best is trial 27 with value: 0.2145869720257231.\n",
      "\n",
      "bagging, val_score: 0.214587:  40%|#####################2                               | 4/10 [00:10<00:16,  2.74s/it]\u001b[A"
     ]
    },
    {
     "name": "stdout",
     "output_type": "stream",
     "text": [
      "Early stopping, best iteration is:\n",
      "[561]\tcv_agg's l2: 0.214587 + 0.0380092\n",
      "[100]\tcv_agg's l2: 0.247727 + 0.044422\n",
      "[200]\tcv_agg's l2: 0.230467 + 0.042785\n",
      "[300]\tcv_agg's l2: 0.224215 + 0.0395182\n",
      "[400]\tcv_agg's l2: 0.220835 + 0.0383799\n",
      "[500]\tcv_agg's l2: 0.218086 + 0.0386733\n",
      "[600]\tcv_agg's l2: 0.217976 + 0.0386249\n"
     ]
    },
    {
     "name": "stderr",
     "output_type": "stream",
     "text": [
      "\n",
      "bagging, val_score: 0.214587:  40%|#####################2                               | 4/10 [00:13<00:16,  2.74s/it]\u001b[A\n",
      "bagging, val_score: 0.214587:  50%|##########################5                          | 5/10 [00:13<00:13,  2.78s/it]\u001b[A[I 2023-11-03 20:24:33,764] Trial 31 finished with value: 0.21781908229757313 and parameters: {'bagging_fraction': 0.914208583107765, 'bagging_freq': 5}. Best is trial 27 with value: 0.2145869720257231.\n",
      "\n",
      "bagging, val_score: 0.214587:  50%|##########################5                          | 5/10 [00:13<00:13,  2.78s/it]\u001b[A"
     ]
    },
    {
     "name": "stdout",
     "output_type": "stream",
     "text": [
      "Early stopping, best iteration is:\n",
      "[561]\tcv_agg's l2: 0.214587 + 0.0380092\n",
      "[100]\tcv_agg's l2: 0.241865 + 0.0381954\n",
      "[200]\tcv_agg's l2: 0.226023 + 0.0392469\n",
      "[300]\tcv_agg's l2: 0.217789 + 0.0366856\n",
      "[400]\tcv_agg's l2: 0.214871 + 0.0344847\n",
      "[500]\tcv_agg's l2: 0.212358 + 0.034313\n",
      "[600]\tcv_agg's l2: 0.211522 + 0.033045\n"
     ]
    },
    {
     "name": "stderr",
     "output_type": "stream",
     "text": [
      "\n",
      "bagging, val_score: 0.211324:  50%|##########################5                          | 5/10 [00:16<00:13,  2.78s/it]\u001b[A\n",
      "bagging, val_score: 0.211324:  60%|###############################8                     | 6/10 [00:16<00:11,  2.75s/it]\u001b[A[I 2023-11-03 20:24:36,461] Trial 32 finished with value: 0.21132439522930077 and parameters: {'bagging_fraction': 0.8872488009143678, 'bagging_freq': 5}. Best is trial 32 with value: 0.21132439522930077.\n",
      "\n",
      "bagging, val_score: 0.211324:  60%|###############################8                     | 6/10 [00:16<00:11,  2.75s/it]\u001b[A"
     ]
    },
    {
     "name": "stdout",
     "output_type": "stream",
     "text": [
      "Early stopping, best iteration is:\n",
      "[593]\tcv_agg's l2: 0.211324 + 0.0332994\n",
      "[100]\tcv_agg's l2: 0.2496 + 0.0459134\n",
      "[200]\tcv_agg's l2: 0.233126 + 0.0452869\n",
      "[300]\tcv_agg's l2: 0.22832 + 0.041862\n",
      "[400]\tcv_agg's l2: 0.224272 + 0.0412726\n",
      "[500]\tcv_agg's l2: 0.223393 + 0.042762\n",
      "[600]\tcv_agg's l2: 0.223061 + 0.0412064\n"
     ]
    },
    {
     "name": "stderr",
     "output_type": "stream",
     "text": [
      "\n",
      "bagging, val_score: 0.211324:  60%|###############################8                     | 6/10 [00:19<00:11,  2.75s/it]\u001b[A\n",
      "bagging, val_score: 0.211324:  70%|#####################################                | 7/10 [00:19<00:08,  2.76s/it]\u001b[A[I 2023-11-03 20:24:39,239] Trial 33 finished with value: 0.2227753149039507 and parameters: {'bagging_fraction': 0.9063879927139877, 'bagging_freq': 5}. Best is trial 32 with value: 0.21132439522930077.\n",
      "\n",
      "bagging, val_score: 0.211324:  70%|#####################################                | 7/10 [00:19<00:08,  2.76s/it]\u001b[A"
     ]
    },
    {
     "name": "stdout",
     "output_type": "stream",
     "text": [
      "Early stopping, best iteration is:\n",
      "[593]\tcv_agg's l2: 0.211324 + 0.0332994\n",
      "[100]\tcv_agg's l2: 0.245704 + 0.0386686\n",
      "[200]\tcv_agg's l2: 0.22844 + 0.0370148\n",
      "[300]\tcv_agg's l2: 0.22348 + 0.0370028\n",
      "[400]\tcv_agg's l2: 0.220243 + 0.036205\n",
      "[500]\tcv_agg's l2: 0.219878 + 0.0374381\n",
      "[600]\tcv_agg's l2: 0.218477 + 0.0371371\n"
     ]
    },
    {
     "name": "stderr",
     "output_type": "stream",
     "text": [
      "\n",
      "bagging, val_score: 0.211324:  70%|#####################################                | 7/10 [00:22<00:08,  2.76s/it]\u001b[A\n",
      "bagging, val_score: 0.211324:  80%|##########################################4          | 8/10 [00:22<00:06,  3.04s/it]\u001b[A[I 2023-11-03 20:24:42,866] Trial 34 finished with value: 0.21804604924108295 and parameters: {'bagging_fraction': 0.8708722372284738, 'bagging_freq': 5}. Best is trial 32 with value: 0.21132439522930077.\n",
      "\n",
      "bagging, val_score: 0.211324:  80%|##########################################4          | 8/10 [00:22<00:06,  3.04s/it]\u001b[A"
     ]
    },
    {
     "name": "stdout",
     "output_type": "stream",
     "text": [
      "Early stopping, best iteration is:\n",
      "[593]\tcv_agg's l2: 0.211324 + 0.0332994\n",
      "[100]\tcv_agg's l2: 0.254991 + 0.0449863\n",
      "[200]\tcv_agg's l2: 0.236751 + 0.0396166\n",
      "[300]\tcv_agg's l2: 0.229231 + 0.0407528\n",
      "[400]\tcv_agg's l2: 0.226883 + 0.041016\n",
      "[500]\tcv_agg's l2: 0.224925 + 0.0407058\n",
      "[600]\tcv_agg's l2: 0.225013 + 0.0410488\n"
     ]
    },
    {
     "name": "stderr",
     "output_type": "stream",
     "text": [
      "\n",
      "bagging, val_score: 0.211324:  80%|##########################################4          | 8/10 [00:28<00:06,  3.04s/it]\u001b[A\n",
      "bagging, val_score: 0.211324:  90%|###############################################7     | 9/10 [00:28<00:03,  3.73s/it]\u001b[A[I 2023-11-03 20:24:48,113] Trial 35 finished with value: 0.22485753780108553 and parameters: {'bagging_fraction': 0.7763863271894172, 'bagging_freq': 3}. Best is trial 32 with value: 0.21132439522930077.\n",
      "\n",
      "bagging, val_score: 0.211324:  90%|###############################################7     | 9/10 [00:28<00:03,  3.73s/it]\u001b[A"
     ]
    },
    {
     "name": "stdout",
     "output_type": "stream",
     "text": [
      "Early stopping, best iteration is:\n",
      "[593]\tcv_agg's l2: 0.211324 + 0.0332994\n",
      "[100]\tcv_agg's l2: 0.26821 + 0.0467969\n",
      "[200]\tcv_agg's l2: 0.255515 + 0.0527478\n",
      "[300]\tcv_agg's l2: 0.251917 + 0.0621711\n",
      "[400]\tcv_agg's l2: 0.245918 + 0.0583936\n",
      "[500]\tcv_agg's l2: 0.246561 + 0.0533911\n",
      "[600]\tcv_agg's l2: 0.249031 + 0.0554947\n"
     ]
    },
    {
     "name": "stderr",
     "output_type": "stream",
     "text": [
      "\n",
      "bagging, val_score: 0.211324:  90%|###############################################7     | 9/10 [00:32<00:03,  3.73s/it]\u001b[A\n",
      "bagging, val_score: 0.211324: 100%|####################################################| 10/10 [00:32<00:00,  3.86s/it]\u001b[A[I 2023-11-03 20:24:52,275] Trial 36 finished with value: 0.24802968624772465 and parameters: {'bagging_fraction': 0.6105868895310576, 'bagging_freq': 7}. Best is trial 32 with value: 0.21132439522930077.\n",
      "bagging, val_score: 0.211324: 100%|####################################################| 10/10 [00:32<00:00,  3.22s/it]\n"
     ]
    },
    {
     "name": "stdout",
     "output_type": "stream",
     "text": [
      "Early stopping, best iteration is:\n",
      "[593]\tcv_agg's l2: 0.211324 + 0.0332994\n"
     ]
    },
    {
     "name": "stderr",
     "output_type": "stream",
     "text": [
      "\n",
      "  0%|                                                                                            | 0/6 [00:00<?, ?it/s]\u001b[A\n",
      "feature_fraction_stage2, val_score: 0.211324:   0%|                                              | 0/6 [00:00<?, ?it/s]\u001b[A"
     ]
    },
    {
     "name": "stdout",
     "output_type": "stream",
     "text": [
      "[100]\tcv_agg's l2: 0.241865 + 0.0381954\n",
      "[200]\tcv_agg's l2: 0.226023 + 0.0392469\n",
      "[300]\tcv_agg's l2: 0.217789 + 0.0366856\n",
      "[400]\tcv_agg's l2: 0.214871 + 0.0344847\n",
      "[500]\tcv_agg's l2: 0.212358 + 0.034313\n",
      "[600]\tcv_agg's l2: 0.211522 + 0.033045\n"
     ]
    },
    {
     "name": "stderr",
     "output_type": "stream",
     "text": [
      "\n",
      "feature_fraction_stage2, val_score: 0.211324:   0%|                                              | 0/6 [00:03<?, ?it/s]\u001b[A\n",
      "feature_fraction_stage2, val_score: 0.211324:  17%|######3                               | 1/6 [00:03<00:16,  3.40s/it]\u001b[A[I 2023-11-03 20:24:55,683] Trial 37 finished with value: 0.21132439522930077 and parameters: {'feature_fraction': 0.584}. Best is trial 37 with value: 0.21132439522930077.\n",
      "\n",
      "feature_fraction_stage2, val_score: 0.211324:  17%|######3                               | 1/6 [00:03<00:16,  3.40s/it]\u001b[A"
     ]
    },
    {
     "name": "stdout",
     "output_type": "stream",
     "text": [
      "Early stopping, best iteration is:\n",
      "[593]\tcv_agg's l2: 0.211324 + 0.0332994\n",
      "[100]\tcv_agg's l2: 0.241865 + 0.0381954\n",
      "[200]\tcv_agg's l2: 0.226023 + 0.0392469\n",
      "[300]\tcv_agg's l2: 0.217789 + 0.0366856\n",
      "[400]\tcv_agg's l2: 0.214871 + 0.0344847\n",
      "[500]\tcv_agg's l2: 0.212358 + 0.034313\n",
      "[600]\tcv_agg's l2: 0.211522 + 0.033045\n"
     ]
    },
    {
     "name": "stderr",
     "output_type": "stream",
     "text": [
      "\n",
      "feature_fraction_stage2, val_score: 0.211324:  17%|######3                               | 1/6 [00:07<00:16,  3.40s/it]\u001b[A\n",
      "feature_fraction_stage2, val_score: 0.211324:  33%|############6                         | 2/6 [00:07<00:14,  3.52s/it]\u001b[A[I 2023-11-03 20:24:59,295] Trial 38 finished with value: 0.21132439522930077 and parameters: {'feature_fraction': 0.6799999999999999}. Best is trial 37 with value: 0.21132439522930077.\n",
      "\n",
      "feature_fraction_stage2, val_score: 0.211324:  33%|############6                         | 2/6 [00:07<00:14,  3.52s/it]\u001b[A"
     ]
    },
    {
     "name": "stdout",
     "output_type": "stream",
     "text": [
      "Early stopping, best iteration is:\n",
      "[593]\tcv_agg's l2: 0.211324 + 0.0332994\n",
      "[100]\tcv_agg's l2: 0.252344 + 0.0333032\n",
      "[200]\tcv_agg's l2: 0.236336 + 0.0320401\n",
      "[300]\tcv_agg's l2: 0.228396 + 0.0301442\n",
      "[400]\tcv_agg's l2: 0.223393 + 0.0287139\n",
      "[500]\tcv_agg's l2: 0.22075 + 0.0305275\n",
      "[600]\tcv_agg's l2: 0.219553 + 0.0295155\n"
     ]
    },
    {
     "name": "stderr",
     "output_type": "stream",
     "text": [
      "\n",
      "feature_fraction_stage2, val_score: 0.211324:  33%|############6                         | 2/6 [00:10<00:14,  3.52s/it]\u001b[A\n",
      "feature_fraction_stage2, val_score: 0.211324:  50%|###################                   | 3/6 [00:10<00:11,  3.69s/it]\u001b[A[I 2023-11-03 20:25:03,195] Trial 39 finished with value: 0.21963210743312844 and parameters: {'feature_fraction': 0.52}. Best is trial 37 with value: 0.21132439522930077.\n",
      "\n",
      "feature_fraction_stage2, val_score: 0.211324:  50%|###################                   | 3/6 [00:10<00:11,  3.69s/it]\u001b[A"
     ]
    },
    {
     "name": "stdout",
     "output_type": "stream",
     "text": [
      "Early stopping, best iteration is:\n",
      "[593]\tcv_agg's l2: 0.211324 + 0.0332994\n",
      "[100]\tcv_agg's l2: 0.241865 + 0.0381954\n",
      "[200]\tcv_agg's l2: 0.226023 + 0.0392469\n",
      "[300]\tcv_agg's l2: 0.217789 + 0.0366856\n",
      "[400]\tcv_agg's l2: 0.214871 + 0.0344847\n",
      "[500]\tcv_agg's l2: 0.212358 + 0.034313\n",
      "[600]\tcv_agg's l2: 0.211522 + 0.033045\n"
     ]
    },
    {
     "name": "stderr",
     "output_type": "stream",
     "text": [
      "\n",
      "feature_fraction_stage2, val_score: 0.211324:  50%|###################                   | 3/6 [00:14<00:11,  3.69s/it]\u001b[A\n",
      "feature_fraction_stage2, val_score: 0.211324:  67%|#########################3            | 4/6 [00:14<00:07,  3.70s/it]\u001b[A[I 2023-11-03 20:25:06,910] Trial 40 finished with value: 0.21132439522930077 and parameters: {'feature_fraction': 0.6479999999999999}. Best is trial 37 with value: 0.21132439522930077.\n",
      "\n",
      "feature_fraction_stage2, val_score: 0.211324:  67%|#########################3            | 4/6 [00:14<00:07,  3.70s/it]\u001b[A"
     ]
    },
    {
     "name": "stdout",
     "output_type": "stream",
     "text": [
      "Early stopping, best iteration is:\n",
      "[593]\tcv_agg's l2: 0.211324 + 0.0332994\n",
      "[100]\tcv_agg's l2: 0.252344 + 0.0333032\n",
      "[200]\tcv_agg's l2: 0.236336 + 0.0320401\n",
      "[300]\tcv_agg's l2: 0.228396 + 0.0301442\n",
      "[400]\tcv_agg's l2: 0.223393 + 0.0287139\n",
      "[500]\tcv_agg's l2: 0.22075 + 0.0305275\n",
      "[600]\tcv_agg's l2: 0.219553 + 0.0295155\n"
     ]
    },
    {
     "name": "stderr",
     "output_type": "stream",
     "text": [
      "\n",
      "feature_fraction_stage2, val_score: 0.211324:  67%|#########################3            | 4/6 [00:18<00:07,  3.70s/it]\u001b[A\n",
      "feature_fraction_stage2, val_score: 0.211324:  83%|###############################6      | 5/6 [00:18<00:03,  3.63s/it]\u001b[A[I 2023-11-03 20:25:10,404] Trial 41 finished with value: 0.21963210743312844 and parameters: {'feature_fraction': 0.552}. Best is trial 37 with value: 0.21132439522930077.\n",
      "\n",
      "feature_fraction_stage2, val_score: 0.211324:  83%|###############################6      | 5/6 [00:18<00:03,  3.63s/it]\u001b[A"
     ]
    },
    {
     "name": "stdout",
     "output_type": "stream",
     "text": [
      "Early stopping, best iteration is:\n",
      "[593]\tcv_agg's l2: 0.211324 + 0.0332994\n",
      "[100]\tcv_agg's l2: 0.241865 + 0.0381954\n",
      "[200]\tcv_agg's l2: 0.226023 + 0.0392469\n",
      "[300]\tcv_agg's l2: 0.217789 + 0.0366856\n",
      "[400]\tcv_agg's l2: 0.214871 + 0.0344847\n",
      "[500]\tcv_agg's l2: 0.212358 + 0.034313\n",
      "[600]\tcv_agg's l2: 0.211522 + 0.033045\n"
     ]
    },
    {
     "name": "stderr",
     "output_type": "stream",
     "text": [
      "\n",
      "feature_fraction_stage2, val_score: 0.211324:  83%|###############################6      | 5/6 [00:21<00:03,  3.63s/it]\u001b[A\n",
      "feature_fraction_stage2, val_score: 0.211324: 100%|######################################| 6/6 [00:21<00:00,  3.67s/it]\u001b[A[I 2023-11-03 20:25:14,157] Trial 42 finished with value: 0.21132439522930077 and parameters: {'feature_fraction': 0.616}. Best is trial 37 with value: 0.21132439522930077.\n",
      "feature_fraction_stage2, val_score: 0.211324: 100%|######################################| 6/6 [00:21<00:00,  3.65s/it]\n"
     ]
    },
    {
     "name": "stdout",
     "output_type": "stream",
     "text": [
      "Early stopping, best iteration is:\n",
      "[593]\tcv_agg's l2: 0.211324 + 0.0332994\n"
     ]
    },
    {
     "name": "stderr",
     "output_type": "stream",
     "text": [
      "\n",
      "  0%|                                                                                           | 0/20 [00:00<?, ?it/s]\u001b[A\n",
      "regularization_factors, val_score: 0.211324:   0%|                                              | 0/20 [00:00<?, ?it/s]\u001b[A"
     ]
    },
    {
     "name": "stdout",
     "output_type": "stream",
     "text": [
      "[100]\tcv_agg's l2: 0.24666 + 0.0406678\n",
      "[200]\tcv_agg's l2: 0.22943 + 0.0426448\n",
      "[300]\tcv_agg's l2: 0.222468 + 0.0407285\n",
      "[400]\tcv_agg's l2: 0.2185 + 0.0384767\n",
      "[500]\tcv_agg's l2: 0.217751 + 0.0386462\n",
      "[600]\tcv_agg's l2: 0.2171 + 0.0378681\n"
     ]
    },
    {
     "name": "stderr",
     "output_type": "stream",
     "text": [
      "\n",
      "regularization_factors, val_score: 0.211324:   0%|                                              | 0/20 [00:04<?, ?it/s]\u001b[A\n",
      "regularization_factors, val_score: 0.211324:   5%|#9                                    | 1/20 [00:04<01:25,  4.48s/it]\u001b[A[I 2023-11-03 20:25:18,650] Trial 43 finished with value: 0.21709350763900814 and parameters: {'lambda_l1': 0.3112141438231813, 'lambda_l2': 9.869112070183617e-07}. Best is trial 43 with value: 0.21709350763900814.\n",
      "\n",
      "regularization_factors, val_score: 0.211324:   5%|#9                                    | 1/20 [00:04<01:25,  4.48s/it]\u001b[A"
     ]
    },
    {
     "name": "stdout",
     "output_type": "stream",
     "text": [
      "Early stopping, best iteration is:\n",
      "[593]\tcv_agg's l2: 0.211324 + 0.0332994\n",
      "[100]\tcv_agg's l2: 0.247269 + 0.0402286\n",
      "[200]\tcv_agg's l2: 0.229073 + 0.0411904\n",
      "[300]\tcv_agg's l2: 0.221749 + 0.0407482\n",
      "[400]\tcv_agg's l2: 0.218863 + 0.0402024\n",
      "[500]\tcv_agg's l2: 0.218034 + 0.0411203\n",
      "[600]\tcv_agg's l2: 0.21798 + 0.0407788\n"
     ]
    },
    {
     "name": "stderr",
     "output_type": "stream",
     "text": [
      "\n",
      "regularization_factors, val_score: 0.211324:   5%|#9                                    | 1/20 [00:08<01:25,  4.48s/it]\u001b[A\n",
      "regularization_factors, val_score: 0.211324:  10%|###8                                  | 2/20 [00:08<01:14,  4.14s/it]\u001b[A[I 2023-11-03 20:25:22,554] Trial 44 finished with value: 0.21754274530894935 and parameters: {'lambda_l1': 1.312585620922637e-08, 'lambda_l2': 7.625900784598138}. Best is trial 43 with value: 0.21709350763900814.\n",
      "\n",
      "regularization_factors, val_score: 0.211324:  10%|###8                                  | 2/20 [00:08<01:14,  4.14s/it]\u001b[A"
     ]
    },
    {
     "name": "stdout",
     "output_type": "stream",
     "text": [
      "Early stopping, best iteration is:\n",
      "[593]\tcv_agg's l2: 0.211324 + 0.0332994\n",
      "[100]\tcv_agg's l2: 0.308054 + 0.0390344\n",
      "[200]\tcv_agg's l2: 0.298757 + 0.0423474\n",
      "[300]\tcv_agg's l2: 0.298851 + 0.042294\n",
      "[400]\tcv_agg's l2: 0.298851 + 0.042294\n",
      "[500]\tcv_agg's l2: 0.298851 + 0.042294\n",
      "[600]\tcv_agg's l2: 0.298851 + 0.042294\n"
     ]
    },
    {
     "name": "stderr",
     "output_type": "stream",
     "text": [
      "\n",
      "regularization_factors, val_score: 0.211324:  10%|###8                                  | 2/20 [00:10<01:14,  4.14s/it]\u001b[A\n",
      "regularization_factors, val_score: 0.211324:  15%|#####7                                | 3/20 [00:10<00:51,  3.01s/it]\u001b[A[I 2023-11-03 20:25:24,207] Trial 45 finished with value: 0.29885141153784434 and parameters: {'lambda_l1': 7.943019450025453, 'lambda_l2': 4.183564050107479e-08}. Best is trial 43 with value: 0.21709350763900814.\n",
      "\n",
      "regularization_factors, val_score: 0.211324:  15%|#####7                                | 3/20 [00:10<00:51,  3.01s/it]\u001b[A"
     ]
    },
    {
     "name": "stdout",
     "output_type": "stream",
     "text": [
      "Early stopping, best iteration is:\n",
      "[593]\tcv_agg's l2: 0.211324 + 0.0332994\n",
      "[100]\tcv_agg's l2: 0.243016 + 0.0373137\n",
      "[200]\tcv_agg's l2: 0.225896 + 0.0398261\n",
      "[300]\tcv_agg's l2: 0.219853 + 0.0393004\n",
      "[400]\tcv_agg's l2: 0.21538 + 0.0367462\n",
      "[500]\tcv_agg's l2: 0.215188 + 0.0380505\n",
      "[600]\tcv_agg's l2: 0.215107 + 0.0377013\n"
     ]
    },
    {
     "name": "stderr",
     "output_type": "stream",
     "text": [
      "\n",
      "regularization_factors, val_score: 0.211324:  15%|#####7                                | 3/20 [00:14<00:51,  3.01s/it]\u001b[A\n",
      "regularization_factors, val_score: 0.211324:  20%|#######6                              | 4/20 [00:14<00:56,  3.53s/it]\u001b[A[I 2023-11-03 20:25:28,550] Trial 46 finished with value: 0.21456386109502462 and parameters: {'lambda_l1': 3.2613485816949516e-05, 'lambda_l2': 0.009571009759831795}. Best is trial 46 with value: 0.21456386109502462.\n",
      "\n",
      "regularization_factors, val_score: 0.211324:  20%|#######6                              | 4/20 [00:14<00:56,  3.53s/it]\u001b[A"
     ]
    },
    {
     "name": "stdout",
     "output_type": "stream",
     "text": [
      "Early stopping, best iteration is:\n",
      "[593]\tcv_agg's l2: 0.211324 + 0.0332994\n",
      "[100]\tcv_agg's l2: 0.242167 + 0.0374499\n",
      "[200]\tcv_agg's l2: 0.226704 + 0.0403442\n",
      "[300]\tcv_agg's l2: 0.219615 + 0.0385611\n",
      "[400]\tcv_agg's l2: 0.216685 + 0.0357424\n",
      "[500]\tcv_agg's l2: 0.215176 + 0.0353969\n",
      "[600]\tcv_agg's l2: 0.214877 + 0.0339563\n"
     ]
    },
    {
     "name": "stderr",
     "output_type": "stream",
     "text": [
      "\n",
      "regularization_factors, val_score: 0.211324:  20%|#######6                              | 4/20 [00:17<00:56,  3.53s/it]\u001b[A\n",
      "regularization_factors, val_score: 0.211324:  25%|#########5                            | 5/20 [00:17<00:52,  3.50s/it]\u001b[A[I 2023-11-03 20:25:31,992] Trial 47 finished with value: 0.21465893880471923 and parameters: {'lambda_l1': 0.004321817847964925, 'lambda_l2': 0.00013481164573457874}. Best is trial 46 with value: 0.21456386109502462.\n",
      "\n",
      "regularization_factors, val_score: 0.211324:  25%|#########5                            | 5/20 [00:17<00:52,  3.50s/it]\u001b[A"
     ]
    },
    {
     "name": "stdout",
     "output_type": "stream",
     "text": [
      "Early stopping, best iteration is:\n",
      "[593]\tcv_agg's l2: 0.211324 + 0.0332994\n",
      "[100]\tcv_agg's l2: 0.241865 + 0.0381954\n",
      "[200]\tcv_agg's l2: 0.226023 + 0.0392469\n",
      "[300]\tcv_agg's l2: 0.217789 + 0.0366856\n",
      "[400]\tcv_agg's l2: 0.214871 + 0.0344847\n",
      "[500]\tcv_agg's l2: 0.212358 + 0.034313\n",
      "[600]\tcv_agg's l2: 0.211522 + 0.033045\n"
     ]
    },
    {
     "name": "stderr",
     "output_type": "stream",
     "text": [
      "\n",
      "regularization_factors, val_score: 0.211324:  25%|#########5                            | 5/20 [00:21<00:52,  3.50s/it]\u001b[A\n",
      "regularization_factors, val_score: 0.211324:  30%|###########4                          | 6/20 [00:21<00:49,  3.57s/it]\u001b[A[I 2023-11-03 20:25:35,698] Trial 48 finished with value: 0.2113243951429748 and parameters: {'lambda_l1': 1.6011954824761738e-08, 'lambda_l2': 1.0295560414032122e-08}. Best is trial 48 with value: 0.2113243951429748.\n",
      "\n",
      "regularization_factors, val_score: 0.211324:  30%|###########4                          | 6/20 [00:21<00:49,  3.57s/it]\u001b[A"
     ]
    },
    {
     "name": "stdout",
     "output_type": "stream",
     "text": [
      "Early stopping, best iteration is:\n",
      "[593]\tcv_agg's l2: 0.211324 + 0.0332994\n",
      "[100]\tcv_agg's l2: 0.241865 + 0.0381954\n",
      "[200]\tcv_agg's l2: 0.226023 + 0.0392469\n",
      "[300]\tcv_agg's l2: 0.217789 + 0.0366856\n",
      "[400]\tcv_agg's l2: 0.214871 + 0.0344847\n",
      "[500]\tcv_agg's l2: 0.212358 + 0.034313\n",
      "[600]\tcv_agg's l2: 0.211522 + 0.033045\n"
     ]
    },
    {
     "name": "stderr",
     "output_type": "stream",
     "text": [
      "\n",
      "regularization_factors, val_score: 0.211324:  30%|###########4                          | 6/20 [00:25<00:49,  3.57s/it]\u001b[A\n",
      "regularization_factors, val_score: 0.211324:  35%|#############3                        | 7/20 [00:25<00:47,  3.68s/it]\u001b[A[I 2023-11-03 20:25:39,595] Trial 49 finished with value: 0.2113243952019118 and parameters: {'lambda_l1': 4.3792685381455255e-08, 'lambda_l2': 1.1277783114732468e-08}. Best is trial 48 with value: 0.2113243951429748.\n",
      "\n",
      "regularization_factors, val_score: 0.211324:  35%|#############3                        | 7/20 [00:25<00:47,  3.68s/it]\u001b[A"
     ]
    },
    {
     "name": "stdout",
     "output_type": "stream",
     "text": [
      "Early stopping, best iteration is:\n",
      "[593]\tcv_agg's l2: 0.211324 + 0.0332994\n",
      "[100]\tcv_agg's l2: 0.241865 + 0.0381954\n",
      "[200]\tcv_agg's l2: 0.226023 + 0.0392469\n",
      "[300]\tcv_agg's l2: 0.217789 + 0.0366856\n",
      "[400]\tcv_agg's l2: 0.214871 + 0.0344847\n",
      "[500]\tcv_agg's l2: 0.212358 + 0.034313\n",
      "[600]\tcv_agg's l2: 0.211522 + 0.033045\n"
     ]
    },
    {
     "name": "stderr",
     "output_type": "stream",
     "text": [
      "\n",
      "regularization_factors, val_score: 0.211324:  35%|#############3                        | 7/20 [00:29<00:47,  3.68s/it]\u001b[A\n",
      "regularization_factors, val_score: 0.211324:  40%|###############2                      | 8/20 [00:29<00:44,  3.69s/it]\u001b[A[I 2023-11-03 20:25:43,323] Trial 50 finished with value: 0.2113243951867238 and parameters: {'lambda_l1': 1.2427301138431299e-08, 'lambda_l2': 1.481474992951793e-08}. Best is trial 48 with value: 0.2113243951429748.\n",
      "\n",
      "regularization_factors, val_score: 0.211324:  40%|###############2                      | 8/20 [00:29<00:44,  3.69s/it]\u001b[A"
     ]
    },
    {
     "name": "stdout",
     "output_type": "stream",
     "text": [
      "Early stopping, best iteration is:\n",
      "[593]\tcv_agg's l2: 0.211324 + 0.0332994\n",
      "[100]\tcv_agg's l2: 0.241865 + 0.0381954\n",
      "[200]\tcv_agg's l2: 0.226023 + 0.0392469\n",
      "[300]\tcv_agg's l2: 0.217789 + 0.0366856\n",
      "[400]\tcv_agg's l2: 0.214871 + 0.0344847\n",
      "[500]\tcv_agg's l2: 0.212358 + 0.034313\n",
      "[600]\tcv_agg's l2: 0.211522 + 0.033045\n"
     ]
    },
    {
     "name": "stderr",
     "output_type": "stream",
     "text": [
      "\n",
      "regularization_factors, val_score: 0.211324:  40%|###############2                      | 8/20 [00:32<00:44,  3.69s/it]\u001b[A\n",
      "regularization_factors, val_score: 0.211324:  45%|#################1                    | 9/20 [00:32<00:41,  3.73s/it]\u001b[A[I 2023-11-03 20:25:47,148] Trial 51 finished with value: 0.21132439514975182 and parameters: {'lambda_l1': 1.3539888325171993e-08, 'lambda_l2': 1.0061324935328734e-08}. Best is trial 48 with value: 0.2113243951429748.\n",
      "\n",
      "regularization_factors, val_score: 0.211324:  45%|#################1                    | 9/20 [00:32<00:41,  3.73s/it]\u001b[A"
     ]
    },
    {
     "name": "stdout",
     "output_type": "stream",
     "text": [
      "Early stopping, best iteration is:\n",
      "[593]\tcv_agg's l2: 0.211324 + 0.0332994\n",
      "[100]\tcv_agg's l2: 0.241865 + 0.0381954\n",
      "[200]\tcv_agg's l2: 0.226023 + 0.0392469\n",
      "[300]\tcv_agg's l2: 0.217789 + 0.0366856\n",
      "[400]\tcv_agg's l2: 0.214871 + 0.0344847\n",
      "[500]\tcv_agg's l2: 0.212358 + 0.034313\n",
      "[600]\tcv_agg's l2: 0.211522 + 0.033045\n"
     ]
    },
    {
     "name": "stderr",
     "output_type": "stream",
     "text": [
      "\n",
      "regularization_factors, val_score: 0.211324:  45%|#################1                    | 9/20 [00:36<00:41,  3.73s/it]\u001b[A\n",
      "regularization_factors, val_score: 0.211324:  50%|##################5                  | 10/20 [00:36<00:36,  3.69s/it]\u001b[A[I 2023-11-03 20:25:50,729] Trial 52 finished with value: 0.21132439516360665 and parameters: {'lambda_l1': 1.0860638405062919e-08, 'lambda_l2': 1.2900851202073297e-08}. Best is trial 48 with value: 0.2113243951429748.\n",
      "\n",
      "regularization_factors, val_score: 0.211324:  50%|##################5                  | 10/20 [00:36<00:36,  3.69s/it]\u001b[A"
     ]
    },
    {
     "name": "stdout",
     "output_type": "stream",
     "text": [
      "Early stopping, best iteration is:\n",
      "[593]\tcv_agg's l2: 0.211324 + 0.0332994\n",
      "[100]\tcv_agg's l2: 0.241865 + 0.0381954\n",
      "[200]\tcv_agg's l2: 0.226023 + 0.0392469\n",
      "[300]\tcv_agg's l2: 0.217789 + 0.0366856\n",
      "[400]\tcv_agg's l2: 0.214871 + 0.0344847\n",
      "[500]\tcv_agg's l2: 0.212358 + 0.034313\n",
      "[600]\tcv_agg's l2: 0.211522 + 0.033045\n"
     ]
    },
    {
     "name": "stderr",
     "output_type": "stream",
     "text": [
      "\n",
      "regularization_factors, val_score: 0.211324:  50%|##################5                  | 10/20 [00:40<00:36,  3.69s/it]\u001b[A\n",
      "regularization_factors, val_score: 0.211324:  55%|####################3                | 11/20 [00:40<00:33,  3.68s/it]\u001b[A[I 2023-11-03 20:25:54,401] Trial 53 finished with value: 0.21132439515308477 and parameters: {'lambda_l1': 1.0483370835215929e-08, 'lambda_l2': 1.2197990266988643e-08}. Best is trial 48 with value: 0.2113243951429748.\n",
      "\n",
      "regularization_factors, val_score: 0.211324:  55%|####################3                | 11/20 [00:40<00:33,  3.68s/it]\u001b[A"
     ]
    },
    {
     "name": "stdout",
     "output_type": "stream",
     "text": [
      "Early stopping, best iteration is:\n",
      "[593]\tcv_agg's l2: 0.211324 + 0.0332994\n",
      "[100]\tcv_agg's l2: 0.241865 + 0.0381954\n",
      "[200]\tcv_agg's l2: 0.226023 + 0.0392469\n",
      "[300]\tcv_agg's l2: 0.217789 + 0.0366856\n",
      "[400]\tcv_agg's l2: 0.214871 + 0.0344847\n",
      "[500]\tcv_agg's l2: 0.212358 + 0.034313\n",
      "[600]\tcv_agg's l2: 0.211522 + 0.033045\n"
     ]
    },
    {
     "name": "stderr",
     "output_type": "stream",
     "text": [
      "\n",
      "regularization_factors, val_score: 0.211324:  55%|####################3                | 11/20 [00:44<00:33,  3.68s/it]\u001b[A\n",
      "regularization_factors, val_score: 0.211324:  60%|######################2              | 12/20 [00:44<00:30,  3.84s/it]\u001b[A[I 2023-11-03 20:25:58,605] Trial 54 finished with value: 0.2113243951482314 and parameters: {'lambda_l1': 1.2836421460515543e-08, 'lambda_l2': 1.1554558018531021e-08}. Best is trial 48 with value: 0.2113243951429748.\n",
      "\n",
      "regularization_factors, val_score: 0.211324:  60%|######################2              | 12/20 [00:44<00:30,  3.84s/it]\u001b[A"
     ]
    },
    {
     "name": "stdout",
     "output_type": "stream",
     "text": [
      "Early stopping, best iteration is:\n",
      "[593]\tcv_agg's l2: 0.211324 + 0.0332994\n",
      "[100]\tcv_agg's l2: 0.241865 + 0.0381954\n",
      "[200]\tcv_agg's l2: 0.226023 + 0.0392469\n",
      "[300]\tcv_agg's l2: 0.217789 + 0.0366856\n",
      "[400]\tcv_agg's l2: 0.214871 + 0.0344847\n",
      "[500]\tcv_agg's l2: 0.212358 + 0.034313\n",
      "[600]\tcv_agg's l2: 0.211522 + 0.033045\n"
     ]
    },
    {
     "name": "stderr",
     "output_type": "stream",
     "text": [
      "\n",
      "regularization_factors, val_score: 0.211324:  60%|######################2              | 12/20 [00:49<00:30,  3.84s/it]\u001b[A\n",
      "regularization_factors, val_score: 0.211324:  65%|########################             | 13/20 [00:49<00:30,  4.36s/it]\u001b[A[I 2023-11-03 20:26:04,165] Trial 55 finished with value: 0.21132439515037876 and parameters: {'lambda_l1': 1.1289619379812455e-08, 'lambda_l2': 1.025955166453351e-08}. Best is trial 48 with value: 0.2113243951429748.\n",
      "\n",
      "regularization_factors, val_score: 0.211324:  65%|########################             | 13/20 [00:50<00:30,  4.36s/it]\u001b[A"
     ]
    },
    {
     "name": "stdout",
     "output_type": "stream",
     "text": [
      "Early stopping, best iteration is:\n",
      "[593]\tcv_agg's l2: 0.211324 + 0.0332994\n",
      "[100]\tcv_agg's l2: 0.241865 + 0.0381954\n",
      "[200]\tcv_agg's l2: 0.226023 + 0.0392469\n",
      "[300]\tcv_agg's l2: 0.217789 + 0.0366856\n",
      "[400]\tcv_agg's l2: 0.214871 + 0.0344847\n",
      "[500]\tcv_agg's l2: 0.212358 + 0.034313\n",
      "[600]\tcv_agg's l2: 0.211522 + 0.033045\n"
     ]
    },
    {
     "name": "stderr",
     "output_type": "stream",
     "text": [
      "\n",
      "regularization_factors, val_score: 0.211324:  65%|########################             | 13/20 [00:55<00:30,  4.36s/it]\u001b[A\n",
      "regularization_factors, val_score: 0.211324:  70%|#########################9           | 14/20 [00:55<00:28,  4.69s/it]\u001b[A[I 2023-11-03 20:26:09,626] Trial 56 finished with value: 0.2113243951675344 and parameters: {'lambda_l1': 1.0087388016935445e-08, 'lambda_l2': 1.0162719298757702e-08}. Best is trial 48 with value: 0.2113243951429748.\n",
      "\n",
      "regularization_factors, val_score: 0.211324:  70%|#########################9           | 14/20 [00:55<00:28,  4.69s/it]\u001b[A"
     ]
    },
    {
     "name": "stdout",
     "output_type": "stream",
     "text": [
      "Early stopping, best iteration is:\n",
      "[593]\tcv_agg's l2: 0.211324 + 0.0332994\n",
      "[100]\tcv_agg's l2: 0.241865 + 0.0381954\n",
      "[200]\tcv_agg's l2: 0.226023 + 0.0392469\n",
      "[300]\tcv_agg's l2: 0.217789 + 0.0366856\n",
      "[400]\tcv_agg's l2: 0.214871 + 0.0344847\n",
      "[500]\tcv_agg's l2: 0.212358 + 0.034313\n",
      "[600]\tcv_agg's l2: 0.211522 + 0.033045\n"
     ]
    },
    {
     "name": "stderr",
     "output_type": "stream",
     "text": [
      "\n",
      "regularization_factors, val_score: 0.211324:  70%|#########################9           | 14/20 [01:00<00:28,  4.69s/it]\u001b[A\n",
      "regularization_factors, val_score: 0.211324:  75%|###########################7         | 15/20 [01:00<00:23,  4.69s/it]\u001b[A[I 2023-11-03 20:26:14,303] Trial 57 finished with value: 0.21132439516573814 and parameters: {'lambda_l1': 1.0847527977450116e-08, 'lambda_l2': 1.3275490337522354e-08}. Best is trial 48 with value: 0.2113243951429748.\n",
      "\n",
      "regularization_factors, val_score: 0.211324:  75%|###########################7         | 15/20 [01:00<00:23,  4.69s/it]\u001b[A"
     ]
    },
    {
     "name": "stdout",
     "output_type": "stream",
     "text": [
      "Early stopping, best iteration is:\n",
      "[593]\tcv_agg's l2: 0.211324 + 0.0332994\n",
      "[100]\tcv_agg's l2: 0.241865 + 0.0381954\n",
      "[200]\tcv_agg's l2: 0.226023 + 0.0392469\n",
      "[300]\tcv_agg's l2: 0.217789 + 0.0366856\n",
      "[400]\tcv_agg's l2: 0.214871 + 0.0344847\n",
      "[500]\tcv_agg's l2: 0.212358 + 0.034313\n",
      "[600]\tcv_agg's l2: 0.211522 + 0.033045\n"
     ]
    },
    {
     "name": "stderr",
     "output_type": "stream",
     "text": [
      "\n",
      "regularization_factors, val_score: 0.211324:  75%|###########################7         | 15/20 [01:05<00:23,  4.69s/it]\u001b[A\n",
      "regularization_factors, val_score: 0.211324:  80%|#############################6       | 16/20 [01:05<00:19,  5.00s/it]\u001b[A[I 2023-11-03 20:26:20,015] Trial 58 finished with value: 0.21132439507243223 and parameters: {'lambda_l1': 3.7361034908132143e-07, 'lambda_l2': 1.547161915953212e-07}. Best is trial 58 with value: 0.21132439507243223.\n",
      "\n",
      "regularization_factors, val_score: 0.211324:  80%|#############################6       | 16/20 [01:05<00:19,  5.00s/it]\u001b[A"
     ]
    },
    {
     "name": "stdout",
     "output_type": "stream",
     "text": [
      "Early stopping, best iteration is:\n",
      "[593]\tcv_agg's l2: 0.211324 + 0.0332994\n",
      "[100]\tcv_agg's l2: 0.241865 + 0.0381954\n",
      "[200]\tcv_agg's l2: 0.226023 + 0.0392469\n",
      "[300]\tcv_agg's l2: 0.217789 + 0.0366856\n",
      "[400]\tcv_agg's l2: 0.214871 + 0.0344847\n",
      "[500]\tcv_agg's l2: 0.212358 + 0.034313\n",
      "[600]\tcv_agg's l2: 0.211522 + 0.033045\n"
     ]
    },
    {
     "name": "stderr",
     "output_type": "stream",
     "text": [
      "\n",
      "regularization_factors, val_score: 0.211324:  80%|#############################6       | 16/20 [01:11<00:19,  5.00s/it]\u001b[A\n",
      "regularization_factors, val_score: 0.211324:  85%|###############################4     | 17/20 [01:11<00:15,  5.17s/it]\u001b[A[I 2023-11-03 20:26:25,597] Trial 59 finished with value: 0.21132439507576653 and parameters: {'lambda_l1': 2.907900912193253e-07, 'lambda_l2': 2.2587173060480175e-07}. Best is trial 58 with value: 0.21132439507243223.\n",
      "\n",
      "regularization_factors, val_score: 0.211324:  85%|###############################4     | 17/20 [01:11<00:15,  5.17s/it]\u001b[A"
     ]
    },
    {
     "name": "stdout",
     "output_type": "stream",
     "text": [
      "Early stopping, best iteration is:\n",
      "[593]\tcv_agg's l2: 0.211324 + 0.0332994\n",
      "[100]\tcv_agg's l2: 0.241865 + 0.0381954\n",
      "[200]\tcv_agg's l2: 0.226023 + 0.0392469\n",
      "[300]\tcv_agg's l2: 0.217789 + 0.0366856\n",
      "[400]\tcv_agg's l2: 0.214871 + 0.0344847\n",
      "[500]\tcv_agg's l2: 0.212358 + 0.034313\n",
      "[600]\tcv_agg's l2: 0.211522 + 0.033045\n"
     ]
    },
    {
     "name": "stderr",
     "output_type": "stream",
     "text": [
      "\n",
      "regularization_factors, val_score: 0.211324:  85%|###############################4     | 17/20 [01:16<00:15,  5.17s/it]\u001b[A\n",
      "regularization_factors, val_score: 0.211324:  90%|#################################3   | 18/20 [01:16<00:10,  5.06s/it]\u001b[A[I 2023-11-03 20:26:30,399] Trial 60 finished with value: 0.21132439498478375 and parameters: {'lambda_l1': 3.9461004567770187e-07, 'lambda_l2': 3.0765861235002947e-07}. Best is trial 60 with value: 0.21132439498478375.\n",
      "\n",
      "regularization_factors, val_score: 0.211324:  90%|#################################3   | 18/20 [01:16<00:10,  5.06s/it]\u001b[A"
     ]
    },
    {
     "name": "stdout",
     "output_type": "stream",
     "text": [
      "Early stopping, best iteration is:\n",
      "[593]\tcv_agg's l2: 0.211324 + 0.0332994\n",
      "[100]\tcv_agg's l2: 0.241865 + 0.0381954\n",
      "[200]\tcv_agg's l2: 0.226023 + 0.0392469\n",
      "[300]\tcv_agg's l2: 0.217789 + 0.0366856\n",
      "[400]\tcv_agg's l2: 0.214871 + 0.0344847\n",
      "[500]\tcv_agg's l2: 0.212358 + 0.034313\n",
      "[600]\tcv_agg's l2: 0.211522 + 0.033045\n"
     ]
    },
    {
     "name": "stderr",
     "output_type": "stream",
     "text": [
      "\n",
      "regularization_factors, val_score: 0.211324:  90%|#################################3   | 18/20 [01:20<00:10,  5.06s/it]\u001b[A\n",
      "regularization_factors, val_score: 0.211324:  95%|###################################1 | 19/20 [01:20<00:04,  4.96s/it]\u001b[A[I 2023-11-03 20:26:35,117] Trial 61 finished with value: 0.21132439510281942 and parameters: {'lambda_l1': 4.6825839437328253e-07, 'lambda_l2': 2.662019344759584e-07}. Best is trial 60 with value: 0.21132439498478375.\n",
      "\n",
      "regularization_factors, val_score: 0.211324:  95%|###################################1 | 19/20 [01:20<00:04,  4.96s/it]\u001b[A"
     ]
    },
    {
     "name": "stdout",
     "output_type": "stream",
     "text": [
      "Early stopping, best iteration is:\n",
      "[593]\tcv_agg's l2: 0.211324 + 0.0332994\n",
      "[100]\tcv_agg's l2: 0.241865 + 0.0381954\n",
      "[200]\tcv_agg's l2: 0.226023 + 0.0392469\n",
      "[300]\tcv_agg's l2: 0.217789 + 0.0366856\n",
      "[400]\tcv_agg's l2: 0.214871 + 0.0344847\n",
      "[500]\tcv_agg's l2: 0.212358 + 0.034313\n",
      "[600]\tcv_agg's l2: 0.211522 + 0.033045\n"
     ]
    },
    {
     "name": "stderr",
     "output_type": "stream",
     "text": [
      "\n",
      "regularization_factors, val_score: 0.211324:  95%|###################################1 | 19/20 [01:26<00:04,  4.96s/it]\u001b[A\n",
      "regularization_factors, val_score: 0.211324: 100%|#####################################| 20/20 [01:26<00:00,  5.14s/it]\u001b[A[I 2023-11-03 20:26:40,688] Trial 62 finished with value: 0.21132439499410421 and parameters: {'lambda_l1': 4.3353620508451933e-07, 'lambda_l2': 3.8092156448291874e-07}. Best is trial 60 with value: 0.21132439498478375.\n",
      "regularization_factors, val_score: 0.211324: 100%|#####################################| 20/20 [01:26<00:00,  4.33s/it]\n"
     ]
    },
    {
     "name": "stdout",
     "output_type": "stream",
     "text": [
      "Early stopping, best iteration is:\n",
      "[593]\tcv_agg's l2: 0.211324 + 0.0332994\n"
     ]
    },
    {
     "name": "stderr",
     "output_type": "stream",
     "text": [
      "\n",
      "  0%|                                                                                            | 0/5 [00:00<?, ?it/s]\u001b[A\n",
      "min_data_in_leaf, val_score: 0.211324:   0%|                                                     | 0/5 [00:00<?, ?it/s]\u001b[A"
     ]
    },
    {
     "name": "stdout",
     "output_type": "stream",
     "text": [
      "[100]\tcv_agg's l2: 0.268803 + 0.0541444\n",
      "[200]\tcv_agg's l2: 0.253887 + 0.0568878\n",
      "[300]\tcv_agg's l2: 0.248107 + 0.0575549\n",
      "[400]\tcv_agg's l2: 0.244844 + 0.0557387\n",
      "[500]\tcv_agg's l2: 0.243732 + 0.056246\n",
      "[600]\tcv_agg's l2: 0.242508 + 0.0560354\n"
     ]
    },
    {
     "name": "stderr",
     "output_type": "stream",
     "text": [
      "\n",
      "min_data_in_leaf, val_score: 0.211324:   0%|                                                     | 0/5 [00:05<?, ?it/s]\u001b[A\n",
      "min_data_in_leaf, val_score: 0.211324:  20%|#########                                    | 1/5 [00:05<00:21,  5.37s/it]\u001b[A[I 2023-11-03 20:26:46,069] Trial 63 finished with value: 0.24188425187453894 and parameters: {'min_child_samples': 25}. Best is trial 63 with value: 0.24188425187453894.\n",
      "\n",
      "min_data_in_leaf, val_score: 0.211324:  20%|#########                                    | 1/5 [00:05<00:21,  5.37s/it]\u001b[A"
     ]
    },
    {
     "name": "stdout",
     "output_type": "stream",
     "text": [
      "Early stopping, best iteration is:\n",
      "[593]\tcv_agg's l2: 0.211324 + 0.0332994\n",
      "[100]\tcv_agg's l2: 0.20326 + 0.0282268\n",
      "[200]\tcv_agg's l2: 0.19201 + 0.0292848\n",
      "[300]\tcv_agg's l2: 0.189886 + 0.0273225\n",
      "[400]\tcv_agg's l2: 0.187539 + 0.0268534\n",
      "[500]\tcv_agg's l2: 0.18672 + 0.0273777\n"
     ]
    },
    {
     "name": "stderr",
     "output_type": "stream",
     "text": [
      "\n",
      "min_data_in_leaf, val_score: 0.186453:  20%|#########                                    | 1/5 [00:09<00:21,  5.37s/it]\u001b[A\n",
      "min_data_in_leaf, val_score: 0.186453:  40%|##################                           | 2/5 [00:09<00:14,  4.77s/it]\u001b[A[I 2023-11-03 20:26:50,410] Trial 64 finished with value: 0.18645306799253358 and parameters: {'min_child_samples': 10}. Best is trial 64 with value: 0.18645306799253358.\n",
      "\n",
      "min_data_in_leaf, val_score: 0.186453:  40%|##################                           | 2/5 [00:09<00:14,  4.77s/it]\u001b[A"
     ]
    },
    {
     "name": "stdout",
     "output_type": "stream",
     "text": [
      "[600]\tcv_agg's l2: 0.187788 + 0.0277214\n",
      "Early stopping, best iteration is:\n",
      "[505]\tcv_agg's l2: 0.186453 + 0.0270979\n",
      "[100]\tcv_agg's l2: 0.196319 + 0.028449\n",
      "[200]\tcv_agg's l2: 0.189445 + 0.0280415\n",
      "[300]\tcv_agg's l2: 0.187622 + 0.0264586\n",
      "[400]\tcv_agg's l2: 0.187327 + 0.026544\n"
     ]
    },
    {
     "name": "stderr",
     "output_type": "stream",
     "text": [
      "\n",
      "min_data_in_leaf, val_score: 0.186270:  40%|##################                           | 2/5 [00:13<00:14,  4.77s/it]\u001b[A\n",
      "min_data_in_leaf, val_score: 0.186270:  60%|###########################                  | 3/5 [00:13<00:08,  4.31s/it]\u001b[A[I 2023-11-03 20:26:54,170] Trial 65 finished with value: 0.18626950955377714 and parameters: {'min_child_samples': 5}. Best is trial 65 with value: 0.18626950955377714.\n",
      "\n",
      "min_data_in_leaf, val_score: 0.186270:  60%|###########################                  | 3/5 [00:13<00:08,  4.31s/it]\u001b[A"
     ]
    },
    {
     "name": "stdout",
     "output_type": "stream",
     "text": [
      "[500]\tcv_agg's l2: 0.186609 + 0.0262772\n",
      "Early stopping, best iteration is:\n",
      "[420]\tcv_agg's l2: 0.18627 + 0.0263964\n",
      "[100]\tcv_agg's l2: 0.352568 + 0.0674195\n",
      "[200]\tcv_agg's l2: 0.331038 + 0.06925\n",
      "[300]\tcv_agg's l2: 0.323757 + 0.0728372\n",
      "[400]\tcv_agg's l2: 0.322257 + 0.0751195\n"
     ]
    },
    {
     "name": "stderr",
     "output_type": "stream",
     "text": [
      "\n",
      "min_data_in_leaf, val_score: 0.186270:  60%|###########################                  | 3/5 [00:16<00:08,  4.31s/it]\u001b[A\n",
      "min_data_in_leaf, val_score: 0.186270:  80%|####################################         | 4/5 [00:16<00:03,  3.74s/it]\u001b[A[I 2023-11-03 20:26:57,051] Trial 66 finished with value: 0.32410473804884843 and parameters: {'min_child_samples': 50}. Best is trial 65 with value: 0.18626950955377714.\n",
      "\n",
      "min_data_in_leaf, val_score: 0.186270:  80%|####################################         | 4/5 [00:16<00:03,  3.74s/it]\u001b[A"
     ]
    },
    {
     "name": "stdout",
     "output_type": "stream",
     "text": [
      "[500]\tcv_agg's l2: 0.322729 + 0.0779975\n",
      "Early stopping, best iteration is:\n",
      "[420]\tcv_agg's l2: 0.18627 + 0.0263964\n",
      "[100]\tcv_agg's l2: 1.01165 + 0.247541\n",
      "[200]\tcv_agg's l2: 0.975539 + 0.255969\n",
      "[300]\tcv_agg's l2: 0.960074 + 0.265354\n",
      "[400]\tcv_agg's l2: 0.951068 + 0.263599\n"
     ]
    },
    {
     "name": "stderr",
     "output_type": "stream",
     "text": [
      "\n",
      "min_data_in_leaf, val_score: 0.186270:  80%|####################################         | 4/5 [00:18<00:03,  3.74s/it]\u001b[A\n",
      "min_data_in_leaf, val_score: 0.186270: 100%|#############################################| 5/5 [00:18<00:00,  3.16s/it]\u001b[A[I 2023-11-03 20:26:59,165] Trial 67 finished with value: 0.9432498152413424 and parameters: {'min_child_samples': 100}. Best is trial 65 with value: 0.18626950955377714.\n",
      "min_data_in_leaf, val_score: 0.186270: 100%|#############################################| 5/5 [00:18<00:00,  3.69s/it]"
     ]
    },
    {
     "name": "stdout",
     "output_type": "stream",
     "text": [
      "[500]\tcv_agg's l2: 0.940255 + 0.26514\n",
      "Early stopping, best iteration is:\n",
      "[420]\tcv_agg's l2: 0.18627 + 0.0263964\n"
     ]
    },
    {
     "name": "stderr",
     "output_type": "stream",
     "text": [
      "\n"
     ]
    }
   ],
   "source": [
    "import optuna.integration.lightgbm as lgb\n",
    "from lightgbm import early_stopping, log_evaluation\n",
    "from sklearn.model_selection import KFold\n",
    "from sklearn.model_selection import RepeatedKFold\n",
    "\n",
    "\n",
    "lgb_train = lgb.Dataset(X_train, y_train)\n",
    "\n",
    "params = {\n",
    "    \"boosting_type\": \"gbdt\",\n",
    "    \"objective\": \"regression\",\n",
    "    \"metric\": \"l2\",\n",
    "    \"verbosity\": -1,\n",
    "}\n",
    "\n",
    "tuner = lgb.LightGBMTunerCV(\n",
    "    params,\n",
    "    lgb_train,\n",
    "    folds=KFold(n_splits=5),\n",
    "    num_boost_round=10000,\n",
    "    callbacks=[early_stopping(100), log_evaluation(100)],\n",
    ")\n",
    "\n",
    "tuner.run()"
   ]
  },
  {
   "cell_type": "code",
   "execution_count": 95,
   "id": "3b9d8fb3",
   "metadata": {},
   "outputs": [
    {
     "name": "stdout",
     "output_type": "stream",
     "text": [
      "Best score: 0.18626950955377714\n",
      "Params: \n",
      "    boosting_type: gbdt\n",
      "    objective: regression\n",
      "    metric: l2\n",
      "    verbosity: -1\n",
      "    feature_pre_filter: False\n",
      "    lambda_l1: 3.9461004567770187e-07\n",
      "    lambda_l2: 3.0765861235002947e-07\n",
      "    num_leaves: 13\n",
      "    feature_fraction: 0.6\n",
      "    bagging_fraction: 0.8872488009143678\n",
      "    bagging_freq: 5\n",
      "    min_child_samples: 5\n"
     ]
    }
   ],
   "source": [
    "print(f\"Best score: {tuner.best_score}\")\n",
    "best_params = tuner.best_params\n",
    "print(\"Params: \")\n",
    "for key, value in best_params.items():\n",
    "    print(\"    {}: {}\".format(key, value))"
   ]
  },
  {
   "cell_type": "code",
   "execution_count": 96,
   "id": "d25b1687",
   "metadata": {},
   "outputs": [],
   "source": [
    "import lightgbm as lgb\n",
    "\n",
    "lgb_tuned = lgb.train(\n",
    "    best_params,\n",
    "    lgb_train,\n",
    "    num_boost_round=10000,\n",
    ")"
   ]
  },
  {
   "cell_type": "code",
   "execution_count": 97,
   "id": "290a9f09",
   "metadata": {
    "scrolled": false
   },
   "outputs": [
    {
     "name": "stdout",
     "output_type": "stream",
     "text": [
      "RMSE train: 0.00\n",
      "RMSE test: 0.67\n",
      "MSE test: 0.45\n",
      "MAE test: 0.48\n",
      "\n"
     ]
    }
   ],
   "source": [
    "rmse, mse, mae = assess_regression_model(lgb_tuned, X_train, X_test, y_train, y_test)"
   ]
  },
  {
   "cell_type": "code",
   "execution_count": 98,
   "id": "a6ecfca2",
   "metadata": {},
   "outputs": [],
   "source": [
    "results.loc[1] = [\n",
    "    \"chronological\",\n",
    "    \"Optuna\",\n",
    "    len(X_test.columns),\n",
    "    mse,\n",
    "    rmse,\n",
    "    mae,\n",
    "]"
   ]
  },
  {
   "cell_type": "markdown",
   "id": "2f13ab75",
   "metadata": {},
   "source": [
    "###### MAE by level"
   ]
  },
  {
   "cell_type": "code",
   "execution_count": 99,
   "id": "e2f172bc",
   "metadata": {},
   "outputs": [
    {
     "data": {
      "image/png": "[encoded data removed]",
      "text/plain": [
       "<Figure size 720x432 with 1 Axes>"
      ]
     },
     "metadata": {
      "needs_background": "light"
     },
     "output_type": "display_data"
    }
   ],
   "source": [
    "plot_mae_by_level(y_test, y_pred_test)"
   ]
  },
  {
   "cell_type": "code",
   "execution_count": 100,
   "id": "9f6b3122",
   "metadata": {
    "scrolled": false
   },
   "outputs": [
    {
     "name": "stdout",
     "output_type": "stream",
     "text": [
      "Normal:\n",
      "MSE: 0.45\n",
      "RMSE: 0.67\n",
      "\n",
      "Round type: round\n",
      "MSE: 0.50\n",
      "RMSE: 0.71\n",
      "\n",
      "Round type: 0.33\n",
      "MSE: 0.50\n",
      "RMSE: 0.71\n",
      "\n",
      "Round type: 0.45\n",
      "MSE: 0.52\n",
      "RMSE: 0.72\n",
      "\n"
     ]
    }
   ],
   "source": [
    "predict = lgb_tuned.predict(X_test)\n",
    "check_round_predictions([\"round\", 0.33, 0.45], y_test, predict)"
   ]
  },
  {
   "cell_type": "code",
   "execution_count": 101,
   "id": "515dc232",
   "metadata": {},
   "outputs": [
    {
     "data": {
      "image/png": "[encoded data removed]",
      "text/plain": [
       "<Figure size 432x288 with 2 Axes>"
      ]
     },
     "metadata": {
      "needs_background": "light"
     },
     "output_type": "display_data"
    }
   ],
   "source": [
    "plot_confusion_matrix(\"round\", predict, y_test)"
   ]
  },
  {
   "cell_type": "markdown",
   "id": "493f7602",
   "metadata": {},
   "source": [
    "## Random split"
   ]
  },
  {
   "cell_type": "code",
   "execution_count": 102,
   "id": "4948ca0a",
   "metadata": {},
   "outputs": [
    {
     "name": "stdout",
     "output_type": "stream",
     "text": [
      "[LightGBM] [Warning] Auto-choosing col-wise multi-threading, the overhead of testing was 0.000300 seconds.\n",
      "You can set `force_col_wise=true` to remove the overhead.\n",
      "[LightGBM] [Info] Total Bins 234\n",
      "[LightGBM] [Info] Number of data points in the train set: 904, number of used features: 8\n",
      "[LightGBM] [Info] Start training from score 7.162611\n",
      "Training until validation scores don't improve for 5 rounds\n",
      "Early stopping, best iteration is:\n",
      "[55]\tvalid_0's l1: 0.340495\tvalid_0's l2: 0.243018\n"
     ]
    }
   ],
   "source": [
    "import lightgbm as lgb\n",
    "from sklearn.metrics import mean_squared_error\n",
    "\n",
    "lgb_train = lgb.Dataset(X_train_random_split, y_train_random_split)\n",
    "lgb_eval = lgb.Dataset(X_test_random_split, y_test_random_split, reference=lgb_train)\n",
    "\n",
    "params = {\n",
    "    \"boosting_type\": \"gbdt\",\n",
    "    \"objective\": \"regression\",\n",
    "    \"metric\": {\"l2\", \"l1\"},\n",
    "}\n",
    "\n",
    "gbm = lgb.train(\n",
    "    params,\n",
    "    lgb_train,\n",
    "    num_boost_round=100,\n",
    "    valid_sets=lgb_eval,\n",
    "    callbacks=[lgb.early_stopping(stopping_rounds=5)],\n",
    ")"
   ]
  },
  {
   "cell_type": "code",
   "execution_count": 103,
   "id": "f9bd4c3b",
   "metadata": {},
   "outputs": [],
   "source": [
    "y_pred_train = gbm.predict(X_train_random_split, num_iteration=gbm.best_iteration)\n",
    "y_pred_test = gbm.predict(X_test_random_split, num_iteration=gbm.best_iteration)"
   ]
  },
  {
   "cell_type": "code",
   "execution_count": 104,
   "id": "c014931e",
   "metadata": {},
   "outputs": [
    {
     "name": "stdout",
     "output_type": "stream",
     "text": [
      "MSE: 0.24\n",
      "RMSE: 0.49\n",
      "MAE: 0.34\n"
     ]
    }
   ],
   "source": [
    "from sklearn.metrics import mean_squared_error, mean_absolute_error\n",
    "\n",
    "\n",
    "mse = mean_squared_error(y_test_random_split, y_pred_test)\n",
    "rmse = mean_squared_error(y_test_random_split, y_pred_test, squared=False)\n",
    "mae = mean_absolute_error(y_test_random_split, y_pred_test)\n",
    "\n",
    "print(f\"MSE: {mse:.2f}\")\n",
    "print(f\"RMSE: {rmse:.2f}\")\n",
    "print(f\"MAE: {mae:.2f}\")"
   ]
  },
  {
   "cell_type": "code",
   "execution_count": 105,
   "id": "8cbceea7",
   "metadata": {},
   "outputs": [],
   "source": [
    "results.loc[2] = [\"random\", \"normal\", len(X_test.columns), mse, rmse, mae]"
   ]
  },
  {
   "cell_type": "markdown",
   "id": "eacfd0ab",
   "metadata": {},
   "source": [
    "###### MAE by level"
   ]
  },
  {
   "cell_type": "code",
   "execution_count": 106,
   "id": "8af01c5c",
   "metadata": {},
   "outputs": [
    {
     "data": {
      "image/png": "[encoded data removed]",
      "text/plain": [
       "<Figure size 720x432 with 1 Axes>"
      ]
     },
     "metadata": {
      "needs_background": "light"
     },
     "output_type": "display_data"
    }
   ],
   "source": [
    "plot_mae_by_level(y_test_random_split, y_pred_test)"
   ]
  },
  {
   "cell_type": "code",
   "execution_count": 107,
   "id": "e5edd1d7",
   "metadata": {
    "scrolled": true
   },
   "outputs": [
    {
     "name": "stdout",
     "output_type": "stream",
     "text": [
      "Normal:\n",
      "MSE: 0.24\n",
      "RMSE: 0.49\n",
      "\n",
      "Round type: round\n",
      "MSE: 0.26\n",
      "RMSE: 0.51\n",
      "\n",
      "Round type: 0.33\n",
      "MSE: 0.32\n",
      "RMSE: 0.57\n",
      "\n",
      "Round type: 0.45\n",
      "MSE: 0.27\n",
      "RMSE: 0.52\n",
      "\n"
     ]
    }
   ],
   "source": [
    "check_round_predictions([\"round\", 0.33, 0.45], y_test_random_split, y_pred_test)"
   ]
  },
  {
   "cell_type": "code",
   "execution_count": 108,
   "id": "39e001dd",
   "metadata": {},
   "outputs": [
    {
     "data": {
      "image/png": "[encoded data removed]",
      "text/plain": [
       "<Figure size 432x288 with 2 Axes>"
      ]
     },
     "metadata": {
      "needs_background": "light"
     },
     "output_type": "display_data"
    }
   ],
   "source": [
    "plot_confusion_matrix(\"round\", y_pred_test, y_test_random_split)"
   ]
  },
  {
   "cell_type": "markdown",
   "id": "2a0c7ae0",
   "metadata": {},
   "source": [
    "### Tuning"
   ]
  },
  {
   "cell_type": "code",
   "execution_count": 109,
   "id": "0ef6525a",
   "metadata": {},
   "outputs": [
    {
     "name": "stderr",
     "output_type": "stream",
     "text": [
      "[I 2023-11-03 20:27:21,006] A new study created in memory with name: no-name-34d1366f-5233-4b83-a88b-f5f69a0ab484\n",
      "\n",
      "  0%|                                                                                            | 0/7 [00:00<?, ?it/s]\u001b[A\n",
      "feature_fraction, val_score: inf:   0%|                                                          | 0/7 [00:00<?, ?it/s]\u001b[A"
     ]
    },
    {
     "name": "stdout",
     "output_type": "stream",
     "text": [
      "Training until validation scores don't improve for 100 rounds\n",
      "[100]\tcv_agg's l2: 0.258042 + 0.0766333\n",
      "[200]\tcv_agg's l2: 0.260551 + 0.0773974\n"
     ]
    },
    {
     "name": "stderr",
     "output_type": "stream",
     "text": [
      "\n",
      "feature_fraction, val_score: 0.256473:   0%|                                                     | 0/7 [00:03<?, ?it/s]\u001b[A\n",
      "feature_fraction, val_score: 0.256473:  14%|######4                                      | 1/7 [00:03<00:22,  3.70s/it]\u001b[A[I 2023-11-03 20:27:24,717] Trial 0 finished with value: 0.25647278636505055 and parameters: {'feature_fraction': 1.0}. Best is trial 0 with value: 0.25647278636505055.\n",
      "\n",
      "feature_fraction, val_score: 0.256473:  14%|######4                                      | 1/7 [00:03<00:22,  3.70s/it]\u001b[A"
     ]
    },
    {
     "name": "stdout",
     "output_type": "stream",
     "text": [
      "Early stopping, best iteration is:\n",
      "[127]\tcv_agg's l2: 0.256473 + 0.0774793\n",
      "[100]\tcv_agg's l2: 0.252087 + 0.0449266\n"
     ]
    },
    {
     "name": "stderr",
     "output_type": "stream",
     "text": [
      "\n"
     ]
    },
    {
     "name": "stdout",
     "output_type": "stream",
     "text": [
      "[200]\tcv_agg's l2: 0.251471 + 0.0429625\n",
      "Early stopping, best iteration is:\n",
      "[119]\tcv_agg's l2: 0.249067 + 0.0451603\n"
     ]
    },
    {
     "name": "stderr",
     "output_type": "stream",
     "text": [
      "feature_fraction, val_score: 0.249067:  14%|######4                                      | 1/7 [00:05<00:22,  3.70s/it]\u001b[A\n",
      "feature_fraction, val_score: 0.249067:  29%|############8                                | 2/7 [00:05<00:13,  2.77s/it]\u001b[A[I 2023-11-03 20:27:26,839] Trial 1 finished with value: 0.24906707909060835 and parameters: {'feature_fraction': 0.6}. Best is trial 1 with value: 0.24906707909060835.\n",
      "\n",
      "feature_fraction, val_score: 0.249067:  29%|############8                                | 2/7 [00:05<00:13,  2.77s/it]\u001b[A"
     ]
    },
    {
     "name": "stdout",
     "output_type": "stream",
     "text": [
      "[100]\tcv_agg's l2: 0.392067 + 0.0460744\n"
     ]
    },
    {
     "name": "stderr",
     "output_type": "stream",
     "text": [
      "\n"
     ]
    },
    {
     "name": "stdout",
     "output_type": "stream",
     "text": [
      "[200]\tcv_agg's l2: 0.345326 + 0.0461259\n",
      "Early stopping, best iteration is:\n",
      "[119]\tcv_agg's l2: 0.249067 + 0.0451603\n"
     ]
    },
    {
     "name": "stderr",
     "output_type": "stream",
     "text": [
      "feature_fraction, val_score: 0.249067:  29%|############8                                | 2/7 [00:08<00:13,  2.77s/it]\u001b[A\n",
      "feature_fraction, val_score: 0.249067:  43%|###################2                         | 3/7 [00:08<00:10,  2.53s/it]\u001b[A[I 2023-11-03 20:27:29,073] Trial 2 finished with value: 0.3801583835630383 and parameters: {'feature_fraction': 0.4}. Best is trial 1 with value: 0.24906707909060835.\n",
      "\n",
      "feature_fraction, val_score: 0.249067:  43%|###################2                         | 3/7 [00:08<00:10,  2.53s/it]\u001b[A"
     ]
    },
    {
     "name": "stdout",
     "output_type": "stream",
     "text": [
      "[100]\tcv_agg's l2: 0.260748 + 0.037713\n",
      "[200]\tcv_agg's l2: 0.256673 + 0.0366897\n"
     ]
    },
    {
     "name": "stderr",
     "output_type": "stream",
     "text": [
      "\n",
      "feature_fraction, val_score: 0.249067:  43%|###################2                         | 3/7 [00:10<00:10,  2.53s/it]\u001b[A\n",
      "feature_fraction, val_score: 0.249067:  57%|#########################7                   | 4/7 [00:10<00:07,  2.51s/it]\u001b[A[I 2023-11-03 20:27:31,554] Trial 3 finished with value: 0.2579190933744858 and parameters: {'feature_fraction': 0.5}. Best is trial 1 with value: 0.24906707909060835.\n",
      "\n",
      "feature_fraction, val_score: 0.249067:  57%|#########################7                   | 4/7 [00:10<00:07,  2.51s/it]\u001b[A"
     ]
    },
    {
     "name": "stdout",
     "output_type": "stream",
     "text": [
      "Early stopping, best iteration is:\n",
      "[119]\tcv_agg's l2: 0.249067 + 0.0451603\n",
      "[100]\tcv_agg's l2: 0.245756 + 0.0501741\n",
      "[200]\tcv_agg's l2: 0.247728 + 0.0476141\n",
      "Early stopping, best iteration is:\n",
      "[119]\tcv_agg's l2: 0.243619 + 0.0487284\n"
     ]
    },
    {
     "name": "stderr",
     "output_type": "stream",
     "text": [
      "\n",
      "feature_fraction, val_score: 0.243619:  57%|#########################7                   | 4/7 [00:13<00:07,  2.51s/it]\u001b[A\n",
      "feature_fraction, val_score: 0.243619:  71%|################################1            | 5/7 [00:13<00:05,  2.52s/it]\u001b[A[I 2023-11-03 20:27:34,097] Trial 4 finished with value: 0.24361919309085622 and parameters: {'feature_fraction': 0.8}. Best is trial 4 with value: 0.24361919309085622.\n",
      "\n",
      "feature_fraction, val_score: 0.243619:  71%|################################1            | 5/7 [00:13<00:05,  2.52s/it]\u001b[A"
     ]
    },
    {
     "name": "stdout",
     "output_type": "stream",
     "text": [
      "[100]\tcv_agg's l2: 0.252035 + 0.0744008\n"
     ]
    },
    {
     "name": "stderr",
     "output_type": "stream",
     "text": [
      "\n",
      "feature_fraction, val_score: 0.243619:  71%|################################1            | 5/7 [00:15<00:05,  2.52s/it]\u001b[A\n",
      "feature_fraction, val_score: 0.243619:  86%|######################################5      | 6/7 [00:15<00:02,  2.46s/it]\u001b[A[I 2023-11-03 20:27:36,450] Trial 5 finished with value: 0.2513127321489727 and parameters: {'feature_fraction': 0.8999999999999999}. Best is trial 4 with value: 0.24361919309085622.\n"
     ]
    },
    {
     "name": "stdout",
     "output_type": "stream",
     "text": [
      "[200]\tcv_agg's l2: 0.252855 + 0.0684394\n",
      "Early stopping, best iteration is:\n",
      "[119]\tcv_agg's l2: 0.243619 + 0.0487284\n"
     ]
    },
    {
     "name": "stderr",
     "output_type": "stream",
     "text": [
      "\n",
      "feature_fraction, val_score: 0.243619:  86%|######################################5      | 6/7 [00:15<00:02,  2.46s/it]\u001b[A"
     ]
    },
    {
     "name": "stdout",
     "output_type": "stream",
     "text": [
      "[100]\tcv_agg's l2: 0.245756 + 0.0501741\n",
      "[200]\tcv_agg's l2: 0.247728 + 0.0476141\n",
      "Early stopping, best iteration is:\n",
      "[119]\tcv_agg's l2: 0.243619 + 0.0487284\n"
     ]
    },
    {
     "name": "stderr",
     "output_type": "stream",
     "text": [
      "\n",
      "feature_fraction, val_score: 0.243619:  86%|######################################5      | 6/7 [00:18<00:02,  2.46s/it]\u001b[A\n",
      "feature_fraction, val_score: 0.243619: 100%|#############################################| 7/7 [00:18<00:00,  2.55s/it]\u001b[A[I 2023-11-03 20:27:39,175] Trial 6 finished with value: 0.24361919309085622 and parameters: {'feature_fraction': 0.7}. Best is trial 4 with value: 0.24361919309085622.\n",
      "feature_fraction, val_score: 0.243619: 100%|#############################################| 7/7 [00:18<00:00,  2.59s/it]\n",
      "\n",
      "  0%|                                                                                           | 0/20 [00:00<?, ?it/s]\u001b[A\n",
      "num_leaves, val_score: 0.243619:   0%|                                                          | 0/20 [00:00<?, ?it/s]\u001b[A"
     ]
    },
    {
     "name": "stdout",
     "output_type": "stream",
     "text": [
      "[100]\tcv_agg's l2: 0.245756 + 0.0501741\n",
      "[200]\tcv_agg's l2: 0.247728 + 0.0476141\n"
     ]
    },
    {
     "name": "stderr",
     "output_type": "stream",
     "text": [
      "\n",
      "num_leaves, val_score: 0.243619:   0%|                                                          | 0/20 [00:02<?, ?it/s]\u001b[A\n",
      "num_leaves, val_score: 0.243619:   5%|##5                                               | 1/20 [00:02<00:50,  2.67s/it]\u001b[A[I 2023-11-03 20:27:41,864] Trial 7 finished with value: 0.24361919309085622 and parameters: {'num_leaves': 203}. Best is trial 7 with value: 0.24361919309085622.\n",
      "\n",
      "num_leaves, val_score: 0.243619:   5%|##5                                               | 1/20 [00:02<00:50,  2.67s/it]\u001b[A"
     ]
    },
    {
     "name": "stdout",
     "output_type": "stream",
     "text": [
      "Early stopping, best iteration is:\n",
      "[119]\tcv_agg's l2: 0.243619 + 0.0487284\n",
      "[100]\tcv_agg's l2: 0.249168 + 0.0682627\n"
     ]
    },
    {
     "name": "stderr",
     "output_type": "stream",
     "text": [
      "\n",
      "num_leaves, val_score: 0.243619:   5%|##5                                               | 1/20 [00:03<00:50,  2.67s/it]\u001b[A\n",
      "num_leaves, val_score: 0.243619:  10%|#####                                             | 2/20 [00:03<00:32,  1.81s/it]\u001b[A[I 2023-11-03 20:27:43,070] Trial 8 finished with value: 0.24697710011434637 and parameters: {'num_leaves': 10}. Best is trial 7 with value: 0.24361919309085622.\n",
      "\n",
      "num_leaves, val_score: 0.243619:  10%|#####                                             | 2/20 [00:03<00:32,  1.81s/it]\u001b[A"
     ]
    },
    {
     "name": "stdout",
     "output_type": "stream",
     "text": [
      "[200]\tcv_agg's l2: 0.244383 + 0.0622247\n",
      "Early stopping, best iteration is:\n",
      "[119]\tcv_agg's l2: 0.243619 + 0.0487284\n",
      "[100]\tcv_agg's l2: 0.245756 + 0.0501741\n",
      "[200]\tcv_agg's l2: 0.247728 + 0.0476141\n",
      "Early stopping, best iteration is:\n",
      "[119]\tcv_agg's l2: 0.243619 + 0.0487284\n"
     ]
    },
    {
     "name": "stderr",
     "output_type": "stream",
     "text": [
      "\n",
      "num_leaves, val_score: 0.243619:  10%|#####                                             | 2/20 [00:06<00:32,  1.81s/it]\u001b[A\n",
      "num_leaves, val_score: 0.243619:  15%|#######5                                          | 3/20 [00:06<00:33,  1.99s/it]\u001b[A[I 2023-11-03 20:27:45,267] Trial 9 finished with value: 0.24361919309085622 and parameters: {'num_leaves': 193}. Best is trial 7 with value: 0.24361919309085622.\n",
      "\n",
      "num_leaves, val_score: 0.243619:  15%|#######5                                          | 3/20 [00:06<00:33,  1.99s/it]\u001b[A"
     ]
    },
    {
     "name": "stdout",
     "output_type": "stream",
     "text": [
      "[100]\tcv_agg's l2: 0.245756 + 0.0501741\n"
     ]
    },
    {
     "name": "stderr",
     "output_type": "stream",
     "text": [
      "\n",
      "num_leaves, val_score: 0.243619:  15%|#######5                                          | 3/20 [00:08<00:33,  1.99s/it]\u001b[A\n",
      "num_leaves, val_score: 0.243619:  20%|##########                                        | 4/20 [00:08<00:32,  2.06s/it]\u001b[A[I 2023-11-03 20:27:47,436] Trial 10 finished with value: 0.24361919309085622 and parameters: {'num_leaves': 44}. Best is trial 7 with value: 0.24361919309085622.\n",
      "\n",
      "num_leaves, val_score: 0.243619:  20%|##########                                        | 4/20 [00:08<00:32,  2.06s/it]\u001b[A"
     ]
    },
    {
     "name": "stdout",
     "output_type": "stream",
     "text": [
      "[200]\tcv_agg's l2: 0.247728 + 0.0476141\n",
      "Early stopping, best iteration is:\n",
      "[119]\tcv_agg's l2: 0.243619 + 0.0487284\n",
      "[100]\tcv_agg's l2: 0.245756 + 0.0501741\n",
      "[200]\tcv_agg's l2: 0.247728 + 0.0476141\n"
     ]
    },
    {
     "name": "stderr",
     "output_type": "stream",
     "text": [
      "\n",
      "num_leaves, val_score: 0.243619:  20%|##########                                        | 4/20 [00:10<00:32,  2.06s/it]\u001b[A\n",
      "num_leaves, val_score: 0.243619:  25%|############5                                     | 5/20 [00:10<00:31,  2.07s/it]\u001b[A[I 2023-11-03 20:27:49,526] Trial 11 finished with value: 0.24361919309085622 and parameters: {'num_leaves': 111}. Best is trial 7 with value: 0.24361919309085622.\n",
      "\n",
      "num_leaves, val_score: 0.243619:  25%|############5                                     | 5/20 [00:10<00:31,  2.07s/it]\u001b[A"
     ]
    },
    {
     "name": "stdout",
     "output_type": "stream",
     "text": [
      "Early stopping, best iteration is:\n",
      "[119]\tcv_agg's l2: 0.243619 + 0.0487284\n",
      "[100]\tcv_agg's l2: 0.245756 + 0.0501741\n"
     ]
    },
    {
     "name": "stderr",
     "output_type": "stream",
     "text": [
      "\n",
      "num_leaves, val_score: 0.243619:  25%|############5                                     | 5/20 [00:12<00:31,  2.07s/it]\u001b[A\n",
      "num_leaves, val_score: 0.243619:  30%|###############                                   | 6/20 [00:12<00:30,  2.17s/it]\u001b[A[I 2023-11-03 20:27:51,876] Trial 12 finished with value: 0.24361919309085622 and parameters: {'num_leaves': 256}. Best is trial 7 with value: 0.24361919309085622.\n",
      "\n",
      "num_leaves, val_score: 0.243619:  30%|###############                                   | 6/20 [00:12<00:30,  2.17s/it]\u001b[A"
     ]
    },
    {
     "name": "stdout",
     "output_type": "stream",
     "text": [
      "[200]\tcv_agg's l2: 0.247728 + 0.0476141\n",
      "Early stopping, best iteration is:\n",
      "[119]\tcv_agg's l2: 0.243619 + 0.0487284\n",
      "[100]\tcv_agg's l2: 0.245756 + 0.0501741\n",
      "[200]\tcv_agg's l2: 0.247728 + 0.0476141\n"
     ]
    },
    {
     "name": "stderr",
     "output_type": "stream",
     "text": [
      "\n",
      "num_leaves, val_score: 0.243619:  30%|###############                                   | 6/20 [00:15<00:30,  2.17s/it]\u001b[A\n",
      "num_leaves, val_score: 0.243619:  35%|#################5                                | 7/20 [00:15<00:29,  2.26s/it]\u001b[A[I 2023-11-03 20:27:54,343] Trial 13 finished with value: 0.24361919309085622 and parameters: {'num_leaves': 100}. Best is trial 7 with value: 0.24361919309085622.\n",
      "\n",
      "num_leaves, val_score: 0.243619:  35%|#################5                                | 7/20 [00:15<00:29,  2.26s/it]\u001b[A"
     ]
    },
    {
     "name": "stdout",
     "output_type": "stream",
     "text": [
      "Early stopping, best iteration is:\n",
      "[119]\tcv_agg's l2: 0.243619 + 0.0487284\n",
      "[100]\tcv_agg's l2: 0.245756 + 0.0501741\n",
      "[200]\tcv_agg's l2: 0.247728 + 0.0476141\n"
     ]
    },
    {
     "name": "stderr",
     "output_type": "stream",
     "text": [
      "\n",
      "num_leaves, val_score: 0.243619:  35%|#################5                                | 7/20 [00:17<00:29,  2.26s/it]\u001b[A\n",
      "num_leaves, val_score: 0.243619:  40%|####################                              | 8/20 [00:17<00:28,  2.38s/it]\u001b[A[I 2023-11-03 20:27:56,969] Trial 14 finished with value: 0.24361919309085622 and parameters: {'num_leaves': 168}. Best is trial 7 with value: 0.24361919309085622.\n",
      "\n",
      "num_leaves, val_score: 0.243619:  40%|####################                              | 8/20 [00:17<00:28,  2.38s/it]\u001b[A"
     ]
    },
    {
     "name": "stdout",
     "output_type": "stream",
     "text": [
      "Early stopping, best iteration is:\n",
      "[119]\tcv_agg's l2: 0.243619 + 0.0487284\n",
      "[100]\tcv_agg's l2: 0.245756 + 0.0501741\n"
     ]
    },
    {
     "name": "stderr",
     "output_type": "stream",
     "text": [
      "\n"
     ]
    },
    {
     "name": "stdout",
     "output_type": "stream",
     "text": [
      "[200]\tcv_agg's l2: 0.247728 + 0.0476141\n",
      "Early stopping, best iteration is:\n",
      "[119]\tcv_agg's l2: 0.243619 + 0.0487284\n"
     ]
    },
    {
     "name": "stderr",
     "output_type": "stream",
     "text": [
      "num_leaves, val_score: 0.243619:  40%|####################                              | 8/20 [00:20<00:28,  2.38s/it]\u001b[A\n",
      "num_leaves, val_score: 0.243619:  45%|######################5                           | 9/20 [00:20<00:28,  2.57s/it]\u001b[A[I 2023-11-03 20:27:59,959] Trial 15 finished with value: 0.24361919309085622 and parameters: {'num_leaves': 61}. Best is trial 7 with value: 0.24361919309085622.\n",
      "\n",
      "num_leaves, val_score: 0.243619:  45%|######################5                           | 9/20 [00:20<00:28,  2.57s/it]\u001b[A"
     ]
    },
    {
     "name": "stdout",
     "output_type": "stream",
     "text": [
      "[100]\tcv_agg's l2: 0.245756 + 0.0501741\n",
      "[200]\tcv_agg's l2: 0.247728 + 0.0476141\n"
     ]
    },
    {
     "name": "stderr",
     "output_type": "stream",
     "text": [
      "\n",
      "num_leaves, val_score: 0.243619:  45%|######################5                           | 9/20 [00:23<00:28,  2.57s/it]\u001b[A\n",
      "num_leaves, val_score: 0.243619:  50%|########################5                        | 10/20 [00:23<00:25,  2.59s/it]\u001b[A[I 2023-11-03 20:28:02,606] Trial 16 finished with value: 0.24361919309085622 and parameters: {'num_leaves': 241}. Best is trial 7 with value: 0.24361919309085622.\n",
      "\n",
      "num_leaves, val_score: 0.243619:  50%|########################5                        | 10/20 [00:23<00:25,  2.59s/it]\u001b[A"
     ]
    },
    {
     "name": "stdout",
     "output_type": "stream",
     "text": [
      "Early stopping, best iteration is:\n",
      "[119]\tcv_agg's l2: 0.243619 + 0.0487284\n",
      "[100]\tcv_agg's l2: 0.245756 + 0.0501741\n"
     ]
    },
    {
     "name": "stderr",
     "output_type": "stream",
     "text": [
      "\n",
      "num_leaves, val_score: 0.243619:  50%|########################5                        | 10/20 [00:25<00:25,  2.59s/it]\u001b[A\n",
      "num_leaves, val_score: 0.243619:  55%|##########################9                      | 11/20 [00:25<00:22,  2.49s/it]"
     ]
    },
    {
     "name": "stdout",
     "output_type": "stream",
     "text": [
      "[200]\tcv_agg's l2: 0.247728 + 0.0476141\n",
      "Early stopping, best iteration is:\n",
      "[119]\tcv_agg's l2: 0.243619 + 0.0487284\n"
     ]
    },
    {
     "name": "stderr",
     "output_type": "stream",
     "text": [
      "\u001b[A[I 2023-11-03 20:28:04,877] Trial 17 finished with value: 0.24361919309085622 and parameters: {'num_leaves': 144}. Best is trial 7 with value: 0.24361919309085622.\n",
      "\n",
      "num_leaves, val_score: 0.243619:  55%|##########################9                      | 11/20 [00:25<00:22,  2.49s/it]\u001b[A"
     ]
    },
    {
     "name": "stdout",
     "output_type": "stream",
     "text": [
      "[100]\tcv_agg's l2: 0.281566 + 0.0668137\n"
     ]
    },
    {
     "name": "stderr",
     "output_type": "stream",
     "text": [
      "\n",
      "num_leaves, val_score: 0.243619:  55%|##########################9                      | 11/20 [00:26<00:22,  2.49s/it]\u001b[A\n",
      "num_leaves, val_score: 0.243619:  60%|#############################4                   | 12/20 [00:26<00:15,  1.89s/it]\u001b[A[I 2023-11-03 20:28:05,378] Trial 18 finished with value: 0.2746698634397414 and parameters: {'num_leaves': 3}. Best is trial 7 with value: 0.24361919309085622.\n",
      "\n",
      "num_leaves, val_score: 0.243619:  60%|#############################4                   | 12/20 [00:26<00:15,  1.89s/it]\u001b[A"
     ]
    },
    {
     "name": "stdout",
     "output_type": "stream",
     "text": [
      "[200]\tcv_agg's l2: 0.262697 + 0.0628609\n",
      "Early stopping, best iteration is:\n",
      "[119]\tcv_agg's l2: 0.243619 + 0.0487284\n",
      "[100]\tcv_agg's l2: 0.245756 + 0.0501741\n"
     ]
    },
    {
     "name": "stderr",
     "output_type": "stream",
     "text": [
      "\n",
      "num_leaves, val_score: 0.243619:  60%|#############################4                   | 12/20 [00:28<00:15,  1.89s/it]\u001b[A\n",
      "num_leaves, val_score: 0.243619:  65%|###############################8                 | 13/20 [00:28<00:13,  1.94s/it]\u001b[A[I 2023-11-03 20:28:07,448] Trial 19 finished with value: 0.24361919309085622 and parameters: {'num_leaves': 78}. Best is trial 7 with value: 0.24361919309085622.\n",
      "\n",
      "num_leaves, val_score: 0.243619:  65%|###############################8                 | 13/20 [00:28<00:13,  1.94s/it]\u001b[A"
     ]
    },
    {
     "name": "stdout",
     "output_type": "stream",
     "text": [
      "[200]\tcv_agg's l2: 0.247728 + 0.0476141\n",
      "Early stopping, best iteration is:\n",
      "[119]\tcv_agg's l2: 0.243619 + 0.0487284\n",
      "[100]\tcv_agg's l2: 0.245756 + 0.0501741\n"
     ]
    },
    {
     "name": "stderr",
     "output_type": "stream",
     "text": [
      "\n",
      "num_leaves, val_score: 0.243619:  65%|###############################8                 | 13/20 [00:30<00:13,  1.94s/it]"
     ]
    },
    {
     "name": "stdout",
     "output_type": "stream",
     "text": [
      "[200]\tcv_agg's l2: 0.247728 + 0.0476141\n",
      "Early stopping, best iteration is:\n",
      "[119]\tcv_agg's l2: 0.243619 + 0.0487284\n"
     ]
    },
    {
     "name": "stderr",
     "output_type": "stream",
     "text": [
      "\u001b[A\n",
      "num_leaves, val_score: 0.243619:  70%|##################################3              | 14/20 [00:30<00:12,  2.02s/it]\u001b[A[I 2023-11-03 20:28:09,646] Trial 20 finished with value: 0.24361919309085622 and parameters: {'num_leaves': 142}. Best is trial 7 with value: 0.24361919309085622.\n",
      "\n",
      "num_leaves, val_score: 0.243619:  70%|##################################3              | 14/20 [00:30<00:12,  2.02s/it]\u001b[A"
     ]
    },
    {
     "name": "stdout",
     "output_type": "stream",
     "text": [
      "[100]\tcv_agg's l2: 0.245756 + 0.0501741\n",
      "[200]\tcv_agg's l2: 0.247728 + 0.0476141\n"
     ]
    },
    {
     "name": "stderr",
     "output_type": "stream",
     "text": [
      "\n",
      "num_leaves, val_score: 0.243619:  70%|##################################3              | 14/20 [00:32<00:12,  2.02s/it]\u001b[A\n",
      "num_leaves, val_score: 0.243619:  75%|####################################7            | 15/20 [00:32<00:10,  2.15s/it]\u001b[A[I 2023-11-03 20:28:12,110] Trial 21 finished with value: 0.24361919309085622 and parameters: {'num_leaves': 222}. Best is trial 7 with value: 0.24361919309085622.\n",
      "\n",
      "num_leaves, val_score: 0.243619:  75%|####################################7            | 15/20 [00:32<00:10,  2.15s/it]\u001b[A"
     ]
    },
    {
     "name": "stdout",
     "output_type": "stream",
     "text": [
      "Early stopping, best iteration is:\n",
      "[119]\tcv_agg's l2: 0.243619 + 0.0487284\n",
      "[100]\tcv_agg's l2: 0.245756 + 0.0501741\n",
      "[200]\tcv_agg's l2: 0.247728 + 0.0476141\n"
     ]
    },
    {
     "name": "stderr",
     "output_type": "stream",
     "text": [
      "\n",
      "num_leaves, val_score: 0.243619:  75%|####################################7            | 15/20 [00:35<00:10,  2.15s/it]\u001b[A\n",
      "num_leaves, val_score: 0.243619:  80%|#######################################2         | 16/20 [00:35<00:08,  2.24s/it]\u001b[A[I 2023-11-03 20:28:14,536] Trial 22 finished with value: 0.24361919309085622 and parameters: {'num_leaves': 196}. Best is trial 7 with value: 0.24361919309085622.\n",
      "\n",
      "num_leaves, val_score: 0.243619:  80%|#######################################2         | 16/20 [00:35<00:08,  2.24s/it]\u001b[A"
     ]
    },
    {
     "name": "stdout",
     "output_type": "stream",
     "text": [
      "Early stopping, best iteration is:\n",
      "[119]\tcv_agg's l2: 0.243619 + 0.0487284\n",
      "[100]\tcv_agg's l2: 0.245756 + 0.0501741\n",
      "[200]\tcv_agg's l2: 0.247728 + 0.0476141\n"
     ]
    },
    {
     "name": "stderr",
     "output_type": "stream",
     "text": [
      "\n",
      "num_leaves, val_score: 0.243619:  80%|#######################################2         | 16/20 [00:37<00:08,  2.24s/it]\u001b[A\n",
      "num_leaves, val_score: 0.243619:  85%|#########################################6       | 17/20 [00:37<00:06,  2.26s/it]\u001b[A[I 2023-11-03 20:28:16,861] Trial 23 finished with value: 0.24361919309085622 and parameters: {'num_leaves': 185}. Best is trial 7 with value: 0.24361919309085622.\n",
      "\n",
      "num_leaves, val_score: 0.243619:  85%|#########################################6       | 17/20 [00:37<00:06,  2.26s/it]\u001b[A"
     ]
    },
    {
     "name": "stdout",
     "output_type": "stream",
     "text": [
      "Early stopping, best iteration is:\n",
      "[119]\tcv_agg's l2: 0.243619 + 0.0487284\n",
      "[100]\tcv_agg's l2: 0.245756 + 0.0501741\n",
      "[200]\tcv_agg's l2: 0.247728 + 0.0476141\n"
     ]
    },
    {
     "name": "stderr",
     "output_type": "stream",
     "text": [
      "\n",
      "num_leaves, val_score: 0.243619:  85%|#########################################6       | 17/20 [00:39<00:06,  2.26s/it]\u001b[A\n",
      "num_leaves, val_score: 0.243619:  90%|############################################1    | 18/20 [00:39<00:04,  2.28s/it]\u001b[A[I 2023-11-03 20:28:19,182] Trial 24 finished with value: 0.24361919309085622 and parameters: {'num_leaves': 222}. Best is trial 7 with value: 0.24361919309085622.\n",
      "\n",
      "num_leaves, val_score: 0.243619:  90%|############################################1    | 18/20 [00:39<00:04,  2.28s/it]\u001b[A"
     ]
    },
    {
     "name": "stdout",
     "output_type": "stream",
     "text": [
      "Early stopping, best iteration is:\n",
      "[119]\tcv_agg's l2: 0.243619 + 0.0487284\n",
      "[100]\tcv_agg's l2: 0.245756 + 0.0501741\n",
      "[200]\tcv_agg's l2: 0.247728 + 0.0476141\n"
     ]
    },
    {
     "name": "stderr",
     "output_type": "stream",
     "text": [
      "\n",
      "num_leaves, val_score: 0.243619:  90%|############################################1    | 18/20 [00:42<00:04,  2.28s/it]\u001b[A\n",
      "num_leaves, val_score: 0.243619:  95%|##############################################5  | 19/20 [00:42<00:02,  2.35s/it]\u001b[A[I 2023-11-03 20:28:21,688] Trial 25 finished with value: 0.24361919309085622 and parameters: {'num_leaves': 158}. Best is trial 7 with value: 0.24361919309085622.\n",
      "\n",
      "num_leaves, val_score: 0.243619:  95%|##############################################5  | 19/20 [00:42<00:02,  2.35s/it]\u001b[A"
     ]
    },
    {
     "name": "stdout",
     "output_type": "stream",
     "text": [
      "Early stopping, best iteration is:\n",
      "[119]\tcv_agg's l2: 0.243619 + 0.0487284\n",
      "[100]\tcv_agg's l2: 0.245756 + 0.0501741\n",
      "[200]\tcv_agg's l2: 0.247728 + 0.0476141\n"
     ]
    },
    {
     "name": "stderr",
     "output_type": "stream",
     "text": [
      "\n",
      "num_leaves, val_score: 0.243619:  95%|##############################################5  | 19/20 [00:44<00:02,  2.35s/it]\u001b[A\n",
      "num_leaves, val_score: 0.243619: 100%|#################################################| 20/20 [00:44<00:00,  2.34s/it]\u001b[A[I 2023-11-03 20:28:24,017] Trial 26 finished with value: 0.24361919309085622 and parameters: {'num_leaves': 218}. Best is trial 7 with value: 0.24361919309085622.\n",
      "num_leaves, val_score: 0.243619: 100%|#################################################| 20/20 [00:44<00:00,  2.24s/it]\n"
     ]
    },
    {
     "name": "stdout",
     "output_type": "stream",
     "text": [
      "Early stopping, best iteration is:\n",
      "[119]\tcv_agg's l2: 0.243619 + 0.0487284\n"
     ]
    },
    {
     "name": "stderr",
     "output_type": "stream",
     "text": [
      "\n",
      "  0%|                                                                                           | 0/10 [00:00<?, ?it/s]\u001b[A\n",
      "bagging, val_score: 0.243619:   0%|                                                             | 0/10 [00:00<?, ?it/s]\u001b[A"
     ]
    },
    {
     "name": "stdout",
     "output_type": "stream",
     "text": [
      "[100]\tcv_agg's l2: 0.297568 + 0.0481545\n"
     ]
    },
    {
     "name": "stderr",
     "output_type": "stream",
     "text": [
      "\n",
      "bagging, val_score: 0.243619:   0%|                                                             | 0/10 [00:01<?, ?it/s]\u001b[A\n",
      "bagging, val_score: 0.243619:  10%|#####3                                               | 1/10 [00:01<00:13,  1.50s/it]\u001b[A[I 2023-11-03 20:28:25,537] Trial 27 finished with value: 0.2917468586931931 and parameters: {'bagging_fraction': 0.4948877585019132, 'bagging_freq': 5}. Best is trial 27 with value: 0.2917468586931931.\n",
      "\n",
      "bagging, val_score: 0.243619:  10%|#####3                                               | 1/10 [00:01<00:13,  1.50s/it]\u001b[A"
     ]
    },
    {
     "name": "stdout",
     "output_type": "stream",
     "text": [
      "[200]\tcv_agg's l2: 0.285319 + 0.0482358\n",
      "Early stopping, best iteration is:\n",
      "[119]\tcv_agg's l2: 0.243619 + 0.0487284\n",
      "[100]\tcv_agg's l2: 0.246498 + 0.0542939\n",
      "[200]\tcv_agg's l2: 0.243968 + 0.0506084\n"
     ]
    },
    {
     "name": "stderr",
     "output_type": "stream",
     "text": [
      "\n",
      "bagging, val_score: 0.243060:  10%|#####3                                               | 1/10 [00:04<00:13,  1.50s/it]\u001b[A\n",
      "bagging, val_score: 0.243060:  20%|##########6                                          | 2/10 [00:04<00:19,  2.42s/it]\u001b[A[I 2023-11-03 20:28:28,601] Trial 28 finished with value: 0.24306014084407757 and parameters: {'bagging_fraction': 0.9967776435758241, 'bagging_freq': 1}. Best is trial 28 with value: 0.24306014084407757.\n",
      "\n",
      "bagging, val_score: 0.243060:  20%|##########6                                          | 2/10 [00:04<00:19,  2.42s/it]\u001b[A"
     ]
    },
    {
     "name": "stdout",
     "output_type": "stream",
     "text": [
      "Early stopping, best iteration is:\n",
      "[176]\tcv_agg's l2: 0.24306 + 0.0516623\n",
      "[100]\tcv_agg's l2: 0.246311 + 0.0519815\n",
      "[200]\tcv_agg's l2: 0.246746 + 0.0478371\n"
     ]
    },
    {
     "name": "stderr",
     "output_type": "stream",
     "text": [
      "\n",
      "bagging, val_score: 0.243060:  20%|##########6                                          | 2/10 [00:07<00:19,  2.42s/it]\u001b[A\n",
      "bagging, val_score: 0.243060:  30%|###############9                                     | 3/10 [00:07<00:19,  2.75s/it]\u001b[A[I 2023-11-03 20:28:31,734] Trial 29 finished with value: 0.24596177678583997 and parameters: {'bagging_fraction': 0.9857615831620351, 'bagging_freq': 1}. Best is trial 28 with value: 0.24306014084407757.\n",
      "\n",
      "bagging, val_score: 0.243060:  30%|###############9                                     | 3/10 [00:07<00:19,  2.75s/it]\u001b[A"
     ]
    },
    {
     "name": "stdout",
     "output_type": "stream",
     "text": [
      "Early stopping, best iteration is:\n",
      "[176]\tcv_agg's l2: 0.24306 + 0.0516623\n",
      "[100]\tcv_agg's l2: 0.241714 + 0.0514664\n",
      "[200]\tcv_agg's l2: 0.242178 + 0.0469376\n"
     ]
    },
    {
     "name": "stderr",
     "output_type": "stream",
     "text": [
      "\n",
      "bagging, val_score: 0.240454:  30%|###############9                                     | 3/10 [00:10<00:19,  2.75s/it]\u001b[A\n",
      "bagging, val_score: 0.240454:  40%|#####################2                               | 4/10 [00:10<00:16,  2.70s/it]\u001b[A[I 2023-11-03 20:28:34,351] Trial 30 finished with value: 0.2404544020727352 and parameters: {'bagging_fraction': 0.9953695683942871, 'bagging_freq': 1}. Best is trial 30 with value: 0.2404544020727352.\n",
      "\n",
      "bagging, val_score: 0.240454:  40%|#####################2                               | 4/10 [00:10<00:16,  2.70s/it]\u001b[A"
     ]
    },
    {
     "name": "stdout",
     "output_type": "stream",
     "text": [
      "Early stopping, best iteration is:\n",
      "[131]\tcv_agg's l2: 0.240454 + 0.0486262\n",
      "[100]\tcv_agg's l2: 0.246289 + 0.0535589\n",
      "[200]\tcv_agg's l2: 0.245555 + 0.0504801\n"
     ]
    },
    {
     "name": "stderr",
     "output_type": "stream",
     "text": [
      "\n",
      "bagging, val_score: 0.240454:  40%|#####################2                               | 4/10 [00:12<00:16,  2.70s/it]\u001b[A\n",
      "bagging, val_score: 0.240454:  50%|##########################5                          | 5/10 [00:12<00:12,  2.59s/it]\u001b[A[I 2023-11-03 20:28:36,758] Trial 31 finished with value: 0.2449550874590846 and parameters: {'bagging_fraction': 0.9970000598173518, 'bagging_freq': 1}. Best is trial 30 with value: 0.2404544020727352.\n",
      "\n",
      "bagging, val_score: 0.240454:  50%|##########################5                          | 5/10 [00:12<00:12,  2.59s/it]\u001b[A"
     ]
    },
    {
     "name": "stdout",
     "output_type": "stream",
     "text": [
      "Early stopping, best iteration is:\n",
      "[131]\tcv_agg's l2: 0.240454 + 0.0486262\n",
      "[100]\tcv_agg's l2: 0.24856 + 0.0469274\n",
      "[200]\tcv_agg's l2: 0.245753 + 0.0369153\n"
     ]
    },
    {
     "name": "stderr",
     "output_type": "stream",
     "text": [
      "\n",
      "bagging, val_score: 0.240454:  50%|##########################5                          | 5/10 [00:14<00:12,  2.59s/it]\u001b[A\n",
      "bagging, val_score: 0.240454:  60%|###############################8                     | 6/10 [00:14<00:09,  2.46s/it]\u001b[A[I 2023-11-03 20:28:38,955] Trial 32 finished with value: 0.24681027584645018 and parameters: {'bagging_fraction': 0.8786377410292137, 'bagging_freq': 2}. Best is trial 30 with value: 0.2404544020727352.\n",
      "\n",
      "bagging, val_score: 0.240454:  60%|###############################8                     | 6/10 [00:14<00:09,  2.46s/it]\u001b[A"
     ]
    },
    {
     "name": "stdout",
     "output_type": "stream",
     "text": [
      "Early stopping, best iteration is:\n",
      "[131]\tcv_agg's l2: 0.240454 + 0.0486262\n",
      "[100]\tcv_agg's l2: 0.253583 + 0.0502042\n",
      "[200]\tcv_agg's l2: 0.253265 + 0.0434476\n"
     ]
    },
    {
     "name": "stderr",
     "output_type": "stream",
     "text": [
      "\n",
      "bagging, val_score: 0.240454:  60%|###############################8                     | 6/10 [00:16<00:09,  2.46s/it]\u001b[A\n",
      "bagging, val_score: 0.240454:  70%|#####################################                | 7/10 [00:16<00:06,  2.27s/it]\u001b[A[I 2023-11-03 20:28:40,854] Trial 33 finished with value: 0.2524164694265854 and parameters: {'bagging_fraction': 0.8019447334843378, 'bagging_freq': 3}. Best is trial 30 with value: 0.2404544020727352.\n",
      "\n",
      "bagging, val_score: 0.240454:  70%|#####################################                | 7/10 [00:16<00:06,  2.27s/it]\u001b[A"
     ]
    },
    {
     "name": "stdout",
     "output_type": "stream",
     "text": [
      "Early stopping, best iteration is:\n",
      "[131]\tcv_agg's l2: 0.240454 + 0.0486262\n",
      "[100]\tcv_agg's l2: 0.250481 + 0.0475338\n"
     ]
    },
    {
     "name": "stderr",
     "output_type": "stream",
     "text": [
      "\n"
     ]
    },
    {
     "name": "stdout",
     "output_type": "stream",
     "text": [
      "[200]\tcv_agg's l2: 0.246089 + 0.0429463\n",
      "Early stopping, best iteration is:\n",
      "[131]\tcv_agg's l2: 0.240454 + 0.0486262\n"
     ]
    },
    {
     "name": "stderr",
     "output_type": "stream",
     "text": [
      "bagging, val_score: 0.240454:  70%|#####################################                | 7/10 [00:18<00:06,  2.27s/it]\u001b[A\n",
      "bagging, val_score: 0.240454:  80%|##########################################4          | 8/10 [00:18<00:04,  2.21s/it]\u001b[A[I 2023-11-03 20:28:42,935] Trial 34 finished with value: 0.24924718320335976 and parameters: {'bagging_fraction': 0.774242052218528, 'bagging_freq': 7}. Best is trial 30 with value: 0.2404544020727352.\n",
      "\n",
      "bagging, val_score: 0.240454:  80%|##########################################4          | 8/10 [00:18<00:04,  2.21s/it]\u001b[A"
     ]
    },
    {
     "name": "stdout",
     "output_type": "stream",
     "text": [
      "[100]\tcv_agg's l2: 0.248321 + 0.057961\n",
      "[200]\tcv_agg's l2: 0.249831 + 0.051973\n"
     ]
    },
    {
     "name": "stderr",
     "output_type": "stream",
     "text": [
      "\n",
      "bagging, val_score: 0.240454:  80%|##########################################4          | 8/10 [00:21<00:04,  2.21s/it]\u001b[A\n",
      "bagging, val_score: 0.240454:  90%|###############################################7     | 9/10 [00:21<00:02,  2.42s/it]\u001b[A[I 2023-11-03 20:28:45,824] Trial 35 finished with value: 0.24882634366277362 and parameters: {'bagging_fraction': 0.9714768219016312, 'bagging_freq': 4}. Best is trial 30 with value: 0.2404544020727352.\n",
      "\n",
      "bagging, val_score: 0.240454:  90%|###############################################7     | 9/10 [00:21<00:02,  2.42s/it]\u001b[A"
     ]
    },
    {
     "name": "stdout",
     "output_type": "stream",
     "text": [
      "Early stopping, best iteration is:\n",
      "[131]\tcv_agg's l2: 0.240454 + 0.0486262\n",
      "[100]\tcv_agg's l2: 0.263272 + 0.0488822\n",
      "[200]\tcv_agg's l2: 0.257649 + 0.0490558\n"
     ]
    },
    {
     "name": "stderr",
     "output_type": "stream",
     "text": [
      "\n",
      "bagging, val_score: 0.240454:  90%|###############################################7     | 9/10 [00:23<00:02,  2.42s/it]\u001b[A\n",
      "bagging, val_score: 0.240454: 100%|####################################################| 10/10 [00:23<00:00,  2.33s/it]\u001b[A[I 2023-11-03 20:28:47,950] Trial 36 finished with value: 0.2586436884717346 and parameters: {'bagging_fraction': 0.6484938008208888, 'bagging_freq': 1}. Best is trial 30 with value: 0.2404544020727352.\n",
      "bagging, val_score: 0.240454: 100%|####################################################| 10/10 [00:23<00:00,  2.39s/it]\n"
     ]
    },
    {
     "name": "stdout",
     "output_type": "stream",
     "text": [
      "Early stopping, best iteration is:\n",
      "[131]\tcv_agg's l2: 0.240454 + 0.0486262\n"
     ]
    },
    {
     "name": "stderr",
     "output_type": "stream",
     "text": [
      "\n",
      "  0%|                                                                                            | 0/6 [00:00<?, ?it/s]\u001b[A\n",
      "feature_fraction_stage2, val_score: 0.240454:   0%|                                              | 0/6 [00:00<?, ?it/s]\u001b[A"
     ]
    },
    {
     "name": "stdout",
     "output_type": "stream",
     "text": [
      "[100]\tcv_agg's l2: 0.241714 + 0.0514664\n",
      "[200]\tcv_agg's l2: 0.242178 + 0.0469376\n"
     ]
    },
    {
     "name": "stderr",
     "output_type": "stream",
     "text": [
      "\n",
      "feature_fraction_stage2, val_score: 0.240454:   0%|                                              | 0/6 [00:02<?, ?it/s]\u001b[A\n",
      "feature_fraction_stage2, val_score: 0.240454:  17%|######3                               | 1/6 [00:02<00:11,  2.23s/it]\u001b[A[I 2023-11-03 20:28:50,199] Trial 37 finished with value: 0.2404544020727352 and parameters: {'feature_fraction': 0.7520000000000001}. Best is trial 37 with value: 0.2404544020727352.\n",
      "\n",
      "feature_fraction_stage2, val_score: 0.240454:  17%|######3                               | 1/6 [00:02<00:11,  2.23s/it]\u001b[A"
     ]
    },
    {
     "name": "stdout",
     "output_type": "stream",
     "text": [
      "Early stopping, best iteration is:\n",
      "[131]\tcv_agg's l2: 0.240454 + 0.0486262\n",
      "[100]\tcv_agg's l2: 0.251861 + 0.0725812\n",
      "[200]\tcv_agg's l2: 0.256589 + 0.0687553\n"
     ]
    },
    {
     "name": "stderr",
     "output_type": "stream",
     "text": [
      "\n",
      "feature_fraction_stage2, val_score: 0.240454:  17%|######3                               | 1/6 [00:05<00:11,  2.23s/it]\u001b[A\n",
      "feature_fraction_stage2, val_score: 0.240454:  33%|############6                         | 2/6 [00:05<00:10,  2.73s/it]\u001b[A[I 2023-11-03 20:28:53,276] Trial 38 finished with value: 0.2535859162752702 and parameters: {'feature_fraction': 0.8480000000000001}. Best is trial 37 with value: 0.2404544020727352.\n",
      "\n",
      "feature_fraction_stage2, val_score: 0.240454:  33%|############6                         | 2/6 [00:05<00:10,  2.73s/it]\u001b[A"
     ]
    },
    {
     "name": "stdout",
     "output_type": "stream",
     "text": [
      "Early stopping, best iteration is:\n",
      "[131]\tcv_agg's l2: 0.240454 + 0.0486262\n",
      "[100]\tcv_agg's l2: 0.241714 + 0.0514664\n",
      "[200]\tcv_agg's l2: 0.242178 + 0.0469376\n"
     ]
    },
    {
     "name": "stderr",
     "output_type": "stream",
     "text": [
      "\n",
      "feature_fraction_stage2, val_score: 0.240454:  33%|############6                         | 2/6 [00:07<00:10,  2.73s/it]\u001b[A\n",
      "feature_fraction_stage2, val_score: 0.240454:  50%|###################                   | 3/6 [00:07<00:07,  2.54s/it]\u001b[A[I 2023-11-03 20:28:55,596] Trial 39 finished with value: 0.2404544020727352 and parameters: {'feature_fraction': 0.7200000000000001}. Best is trial 37 with value: 0.2404544020727352.\n",
      "\n",
      "feature_fraction_stage2, val_score: 0.240454:  50%|###################                   | 3/6 [00:07<00:07,  2.54s/it]\u001b[A"
     ]
    },
    {
     "name": "stdout",
     "output_type": "stream",
     "text": [
      "Early stopping, best iteration is:\n",
      "[131]\tcv_agg's l2: 0.240454 + 0.0486262\n",
      "[100]\tcv_agg's l2: 0.251861 + 0.0725812\n",
      "[200]\tcv_agg's l2: 0.256589 + 0.0687553\n"
     ]
    },
    {
     "name": "stderr",
     "output_type": "stream",
     "text": [
      "\n",
      "feature_fraction_stage2, val_score: 0.240454:  50%|###################                   | 3/6 [00:09<00:07,  2.54s/it]\u001b[A\n",
      "feature_fraction_stage2, val_score: 0.240454:  67%|#########################3            | 4/6 [00:09<00:04,  2.36s/it]\u001b[A[I 2023-11-03 20:28:57,684] Trial 40 finished with value: 0.2535859162752702 and parameters: {'feature_fraction': 0.88}. Best is trial 37 with value: 0.2404544020727352.\n",
      "\n",
      "feature_fraction_stage2, val_score: 0.240454:  67%|#########################3            | 4/6 [00:09<00:04,  2.36s/it]\u001b[A"
     ]
    },
    {
     "name": "stdout",
     "output_type": "stream",
     "text": [
      "Early stopping, best iteration is:\n",
      "[131]\tcv_agg's l2: 0.240454 + 0.0486262\n",
      "[100]\tcv_agg's l2: 0.241714 + 0.0514664\n",
      "[200]\tcv_agg's l2: 0.242178 + 0.0469376\n"
     ]
    },
    {
     "name": "stderr",
     "output_type": "stream",
     "text": [
      "\n",
      "feature_fraction_stage2, val_score: 0.240454:  67%|#########################3            | 4/6 [00:11<00:04,  2.36s/it]\u001b[A\n",
      "feature_fraction_stage2, val_score: 0.240454:  83%|###############################6      | 5/6 [00:11<00:02,  2.31s/it]\u001b[A[I 2023-11-03 20:28:59,910] Trial 41 finished with value: 0.2404544020727352 and parameters: {'feature_fraction': 0.784}. Best is trial 37 with value: 0.2404544020727352.\n",
      "\n",
      "feature_fraction_stage2, val_score: 0.240454:  83%|###############################6      | 5/6 [00:11<00:02,  2.31s/it]\u001b[A"
     ]
    },
    {
     "name": "stdout",
     "output_type": "stream",
     "text": [
      "Early stopping, best iteration is:\n",
      "[131]\tcv_agg's l2: 0.240454 + 0.0486262\n",
      "[100]\tcv_agg's l2: 0.251861 + 0.0725812\n",
      "[200]\tcv_agg's l2: 0.256589 + 0.0687553\n"
     ]
    },
    {
     "name": "stderr",
     "output_type": "stream",
     "text": [
      "\n",
      "feature_fraction_stage2, val_score: 0.240454:  83%|###############################6      | 5/6 [00:14<00:02,  2.31s/it]\u001b[A\n",
      "feature_fraction_stage2, val_score: 0.240454: 100%|######################################| 6/6 [00:14<00:00,  2.31s/it]\u001b[A[I 2023-11-03 20:29:02,209] Trial 42 finished with value: 0.2535859162752702 and parameters: {'feature_fraction': 0.8160000000000001}. Best is trial 37 with value: 0.2404544020727352.\n",
      "feature_fraction_stage2, val_score: 0.240454: 100%|######################################| 6/6 [00:14<00:00,  2.38s/it]\n"
     ]
    },
    {
     "name": "stdout",
     "output_type": "stream",
     "text": [
      "Early stopping, best iteration is:\n",
      "[131]\tcv_agg's l2: 0.240454 + 0.0486262\n"
     ]
    },
    {
     "name": "stderr",
     "output_type": "stream",
     "text": [
      "\n",
      "  0%|                                                                                           | 0/20 [00:00<?, ?it/s]\u001b[A\n",
      "regularization_factors, val_score: 0.240454:   0%|                                              | 0/20 [00:00<?, ?it/s]\u001b[A"
     ]
    },
    {
     "name": "stdout",
     "output_type": "stream",
     "text": [
      "[100]\tcv_agg's l2: 0.239848 + 0.0481639\n"
     ]
    },
    {
     "name": "stderr",
     "output_type": "stream",
     "text": [
      "\n",
      "regularization_factors, val_score: 0.239562:   0%|                                              | 0/20 [00:02<?, ?it/s]\u001b[A\n",
      "regularization_factors, val_score: 0.239562:   5%|#9                                    | 1/20 [00:02<00:40,  2.14s/it]\u001b[A[I 2023-11-03 20:29:04,373] Trial 43 finished with value: 0.2395624236129709 and parameters: {'lambda_l1': 4.1525431771314034e-07, 'lambda_l2': 5.0292195544668144e-05}. Best is trial 43 with value: 0.2395624236129709.\n",
      "\n",
      "regularization_factors, val_score: 0.239562:   5%|#9                                    | 1/20 [00:02<00:40,  2.14s/it]\u001b[A"
     ]
    },
    {
     "name": "stdout",
     "output_type": "stream",
     "text": [
      "[200]\tcv_agg's l2: 0.240516 + 0.0448429\n",
      "Early stopping, best iteration is:\n",
      "[111]\tcv_agg's l2: 0.239562 + 0.0465118\n",
      "[100]\tcv_agg's l2: 0.239848 + 0.0481639\n"
     ]
    },
    {
     "name": "stderr",
     "output_type": "stream",
     "text": [
      "\n",
      "regularization_factors, val_score: 0.239562:   5%|#9                                    | 1/20 [00:04<00:40,  2.14s/it]\u001b[A\n",
      "regularization_factors, val_score: 0.239562:  10%|###8                                  | 2/20 [00:04<00:44,  2.45s/it]\u001b[A[I 2023-11-03 20:29:07,035] Trial 44 finished with value: 0.23956245242343419 and parameters: {'lambda_l1': 1.7507514734556822e-07, 'lambda_l2': 2.290054424135494e-05}. Best is trial 43 with value: 0.2395624236129709.\n",
      "\n",
      "regularization_factors, val_score: 0.239562:  10%|###8                                  | 2/20 [00:04<00:44,  2.45s/it]\u001b[A"
     ]
    },
    {
     "name": "stdout",
     "output_type": "stream",
     "text": [
      "[200]\tcv_agg's l2: 0.240844 + 0.0445206\n",
      "Early stopping, best iteration is:\n",
      "[111]\tcv_agg's l2: 0.239562 + 0.0465118\n",
      "[100]\tcv_agg's l2: 0.239848 + 0.0481639\n"
     ]
    },
    {
     "name": "stderr",
     "output_type": "stream",
     "text": [
      "\n",
      "regularization_factors, val_score: 0.239562:  10%|###8                                  | 2/20 [00:07<00:44,  2.45s/it]\u001b[A\n",
      "regularization_factors, val_score: 0.239562:  15%|#####7                                | 3/20 [00:07<00:41,  2.41s/it]\u001b[A[I 2023-11-03 20:29:09,409] Trial 45 finished with value: 0.2395624483811773 and parameters: {'lambda_l1': 1.868890477238193e-07, 'lambda_l2': 2.6613828309349337e-05}. Best is trial 43 with value: 0.2395624236129709.\n",
      "\n",
      "regularization_factors, val_score: 0.239562:  15%|#####7                                | 3/20 [00:07<00:41,  2.41s/it]\u001b[A"
     ]
    },
    {
     "name": "stdout",
     "output_type": "stream",
     "text": [
      "[200]\tcv_agg's l2: 0.240844 + 0.0445206\n",
      "Early stopping, best iteration is:\n",
      "[111]\tcv_agg's l2: 0.239562 + 0.0465118\n",
      "[100]\tcv_agg's l2: 0.239848 + 0.0481639\n"
     ]
    },
    {
     "name": "stderr",
     "output_type": "stream",
     "text": [
      "\n",
      "regularization_factors, val_score: 0.239562:  15%|#####7                                | 3/20 [00:09<00:41,  2.41s/it]\u001b[A\n",
      "regularization_factors, val_score: 0.239562:  20%|#######6                              | 4/20 [00:09<00:37,  2.34s/it]"
     ]
    },
    {
     "name": "stdout",
     "output_type": "stream",
     "text": [
      "[200]\tcv_agg's l2: 0.240844 + 0.0445206\n",
      "Early stopping, best iteration is:\n",
      "[111]\tcv_agg's l2: 0.239562 + 0.0465118\n"
     ]
    },
    {
     "name": "stderr",
     "output_type": "stream",
     "text": [
      "\u001b[A[I 2023-11-03 20:29:11,643] Trial 46 finished with value: 0.2395624459346915 and parameters: {'lambda_l1': 1.1891048114684737e-07, 'lambda_l2': 2.9329528631726558e-05}. Best is trial 43 with value: 0.2395624236129709.\n",
      "\n",
      "regularization_factors, val_score: 0.239562:  20%|#######6                              | 4/20 [00:09<00:37,  2.34s/it]\u001b[A"
     ]
    },
    {
     "name": "stdout",
     "output_type": "stream",
     "text": [
      "[100]\tcv_agg's l2: 0.239848 + 0.0481639\n",
      "[200]\tcv_agg's l2: 0.240844 + 0.0445206\n"
     ]
    },
    {
     "name": "stderr",
     "output_type": "stream",
     "text": [
      "\n",
      "regularization_factors, val_score: 0.239562:  20%|#######6                              | 4/20 [00:12<00:37,  2.34s/it]\u001b[A\n",
      "regularization_factors, val_score: 0.239562:  25%|#########5                            | 5/20 [00:12<00:36,  2.44s/it]\u001b[A[I 2023-11-03 20:29:14,264] Trial 47 finished with value: 0.23956245749588287 and parameters: {'lambda_l1': 1.3374014848001607e-07, 'lambda_l2': 1.7689322473559804e-05}. Best is trial 43 with value: 0.2395624236129709.\n",
      "\n",
      "regularization_factors, val_score: 0.239562:  25%|#########5                            | 5/20 [00:12<00:36,  2.44s/it]\u001b[A"
     ]
    },
    {
     "name": "stdout",
     "output_type": "stream",
     "text": [
      "Early stopping, best iteration is:\n",
      "[111]\tcv_agg's l2: 0.239562 + 0.0465118\n",
      "[100]\tcv_agg's l2: 0.239848 + 0.0481639\n"
     ]
    },
    {
     "name": "stderr",
     "output_type": "stream",
     "text": [
      "\n",
      "regularization_factors, val_score: 0.239562:  25%|#########5                            | 5/20 [00:14<00:36,  2.44s/it]\u001b[A\n",
      "regularization_factors, val_score: 0.239562:  30%|###########4                          | 6/20 [00:14<00:34,  2.48s/it]\u001b[A[I 2023-11-03 20:29:16,814] Trial 48 finished with value: 0.2395624481327415 and parameters: {'lambda_l1': 1.3666602924174811e-07, 'lambda_l2': 2.7096848093668172e-05}. Best is trial 43 with value: 0.2395624236129709.\n",
      "\n",
      "regularization_factors, val_score: 0.239562:  30%|###########4                          | 6/20 [00:14<00:34,  2.48s/it]\u001b[A"
     ]
    },
    {
     "name": "stdout",
     "output_type": "stream",
     "text": [
      "[200]\tcv_agg's l2: 0.240844 + 0.0445206\n",
      "Early stopping, best iteration is:\n",
      "[111]\tcv_agg's l2: 0.239562 + 0.0465118\n",
      "[100]\tcv_agg's l2: 0.239848 + 0.0481639\n"
     ]
    },
    {
     "name": "stderr",
     "output_type": "stream",
     "text": [
      "\n",
      "regularization_factors, val_score: 0.239562:  30%|###########4                          | 6/20 [00:16<00:34,  2.48s/it]\u001b[A\n",
      "regularization_factors, val_score: 0.239562:  35%|#############3                        | 7/20 [00:16<00:31,  2.41s/it]\u001b[A[I 2023-11-03 20:29:19,092] Trial 49 finished with value: 0.23956244240505448 and parameters: {'lambda_l1': 1.5019460513164983e-07, 'lambda_l2': 3.297306675392506e-05}. Best is trial 43 with value: 0.2395624236129709.\n",
      "\n",
      "regularization_factors, val_score: 0.239562:  35%|#############3                        | 7/20 [00:16<00:31,  2.41s/it]\u001b[A"
     ]
    },
    {
     "name": "stdout",
     "output_type": "stream",
     "text": [
      "[200]\tcv_agg's l2: 0.240844 + 0.0445206\n",
      "Early stopping, best iteration is:\n",
      "[111]\tcv_agg's l2: 0.239562 + 0.0465118\n",
      "[100]\tcv_agg's l2: 0.239848 + 0.0481639\n"
     ]
    },
    {
     "name": "stderr",
     "output_type": "stream",
     "text": [
      "\n",
      "regularization_factors, val_score: 0.239562:  35%|#############3                        | 7/20 [00:19<00:31,  2.41s/it]\u001b[A\n",
      "regularization_factors, val_score: 0.239562:  40%|###############2                      | 8/20 [00:19<00:28,  2.35s/it]\u001b[A[I 2023-11-03 20:29:21,314] Trial 50 finished with value: 0.23956242893888957 and parameters: {'lambda_l1': 1.3622370012054188e-07, 'lambda_l2': 4.5216112532411356e-05}. Best is trial 43 with value: 0.2395624236129709.\n",
      "\n",
      "regularization_factors, val_score: 0.239562:  40%|###############2                      | 8/20 [00:19<00:28,  2.35s/it]\u001b[A"
     ]
    },
    {
     "name": "stdout",
     "output_type": "stream",
     "text": [
      "[200]\tcv_agg's l2: 0.240516 + 0.0448429\n",
      "Early stopping, best iteration is:\n",
      "[111]\tcv_agg's l2: 0.239562 + 0.0465118\n",
      "[100]\tcv_agg's l2: 0.239848 + 0.0481639\n"
     ]
    },
    {
     "name": "stderr",
     "output_type": "stream",
     "text": [
      "\n",
      "regularization_factors, val_score: 0.239562:  40%|###############2                      | 8/20 [00:21<00:28,  2.35s/it]\u001b[A\n",
      "regularization_factors, val_score: 0.239562:  45%|#################1                    | 9/20 [00:21<00:24,  2.26s/it]\u001b[A[I 2023-11-03 20:29:23,368] Trial 51 finished with value: 0.23956244239028734 and parameters: {'lambda_l1': 1.2698651562977602e-07, 'lambda_l2': 3.2248517541671025e-05}. Best is trial 43 with value: 0.2395624236129709.\n",
      "\n",
      "regularization_factors, val_score: 0.239562:  45%|#################1                    | 9/20 [00:21<00:24,  2.26s/it]\u001b[A"
     ]
    },
    {
     "name": "stdout",
     "output_type": "stream",
     "text": [
      "[200]\tcv_agg's l2: 0.240844 + 0.0445206\n",
      "Early stopping, best iteration is:\n",
      "[111]\tcv_agg's l2: 0.239562 + 0.0465118\n",
      "[100]\tcv_agg's l2: 0.239848 + 0.0481639\n"
     ]
    },
    {
     "name": "stderr",
     "output_type": "stream",
     "text": [
      "\n",
      "regularization_factors, val_score: 0.239562:  45%|#################1                    | 9/20 [00:23<00:24,  2.26s/it]\u001b[A\n",
      "regularization_factors, val_score: 0.239562:  50%|##################5                  | 10/20 [00:23<00:22,  2.26s/it]\u001b[A[I 2023-11-03 20:29:25,626] Trial 52 finished with value: 0.23956242462070437 and parameters: {'lambda_l1': 1.2058046951405968e-07, 'lambda_l2': 4.961388281026537e-05}. Best is trial 43 with value: 0.2395624236129709.\n",
      "\n",
      "regularization_factors, val_score: 0.239562:  50%|##################5                  | 10/20 [00:23<00:22,  2.26s/it]\u001b[A"
     ]
    },
    {
     "name": "stdout",
     "output_type": "stream",
     "text": [
      "[200]\tcv_agg's l2: 0.240516 + 0.0448429\n",
      "Early stopping, best iteration is:\n",
      "[111]\tcv_agg's l2: 0.239562 + 0.0465118\n",
      "[100]\tcv_agg's l2: 0.239848 + 0.0481639\n"
     ]
    },
    {
     "name": "stderr",
     "output_type": "stream",
     "text": [
      "\n",
      "regularization_factors, val_score: 0.239562:  50%|##################5                  | 10/20 [00:25<00:22,  2.26s/it]\u001b[A\n",
      "regularization_factors, val_score: 0.239562:  55%|####################3                | 11/20 [00:25<00:19,  2.20s/it]\u001b[A[I 2023-11-03 20:29:27,704] Trial 53 finished with value: 0.2395624183887048 and parameters: {'lambda_l1': 1.1610442310149419e-07, 'lambda_l2': 5.533273741220775e-05}. Best is trial 53 with value: 0.2395624183887048.\n",
      "\n",
      "regularization_factors, val_score: 0.239562:  55%|####################3                | 11/20 [00:25<00:19,  2.20s/it]\u001b[A"
     ]
    },
    {
     "name": "stdout",
     "output_type": "stream",
     "text": [
      "[200]\tcv_agg's l2: 0.240516 + 0.0448429\n",
      "Early stopping, best iteration is:\n",
      "[111]\tcv_agg's l2: 0.239562 + 0.0465118\n",
      "[100]\tcv_agg's l2: 0.241091 + 0.0510662\n"
     ]
    },
    {
     "name": "stderr",
     "output_type": "stream",
     "text": [
      "\n",
      "regularization_factors, val_score: 0.239562:  55%|####################3                | 11/20 [00:27<00:19,  2.20s/it]\u001b[A\n",
      "regularization_factors, val_score: 0.239562:  60%|######################2              | 12/20 [00:27<00:17,  2.16s/it]\u001b[A[I 2023-11-03 20:29:29,758] Trial 54 finished with value: 0.24097423410715096 and parameters: {'lambda_l1': 1.1496894341714792e-07, 'lambda_l2': 0.00015471506981329117}. Best is trial 53 with value: 0.2395624183887048.\n",
      "\n",
      "regularization_factors, val_score: 0.239562:  60%|######################2              | 12/20 [00:27<00:17,  2.16s/it]\u001b[A"
     ]
    },
    {
     "name": "stdout",
     "output_type": "stream",
     "text": [
      "[200]\tcv_agg's l2: 0.242444 + 0.0476949\n",
      "Early stopping, best iteration is:\n",
      "[111]\tcv_agg's l2: 0.239562 + 0.0465118\n",
      "[100]\tcv_agg's l2: 0.241091 + 0.0510662\n"
     ]
    },
    {
     "name": "stderr",
     "output_type": "stream",
     "text": [
      "\n",
      "regularization_factors, val_score: 0.239562:  60%|######################2              | 12/20 [00:29<00:17,  2.16s/it]\u001b[A\n",
      "regularization_factors, val_score: 0.239562:  65%|########################             | 13/20 [00:29<00:14,  2.13s/it]\u001b[A[I 2023-11-03 20:29:31,811] Trial 55 finished with value: 0.24097414288145086 and parameters: {'lambda_l1': 1.0999431112739969e-07, 'lambda_l2': 0.0002500696625084365}. Best is trial 53 with value: 0.2395624183887048.\n",
      "\n",
      "regularization_factors, val_score: 0.239562:  65%|########################             | 13/20 [00:29<00:14,  2.13s/it]\u001b[A"
     ]
    },
    {
     "name": "stdout",
     "output_type": "stream",
     "text": [
      "[200]\tcv_agg's l2: 0.242443 + 0.047695\n",
      "Early stopping, best iteration is:\n",
      "[111]\tcv_agg's l2: 0.239562 + 0.0465118\n",
      "[100]\tcv_agg's l2: 0.23966 + 0.0476445\n"
     ]
    },
    {
     "name": "stderr",
     "output_type": "stream",
     "text": [
      "\n"
     ]
    },
    {
     "name": "stdout",
     "output_type": "stream",
     "text": [
      "[200]\tcv_agg's l2: 0.241287 + 0.0446516\n",
      "Early stopping, best iteration is:\n",
      "[118]\tcv_agg's l2: 0.239054 + 0.0466021\n"
     ]
    },
    {
     "name": "stderr",
     "output_type": "stream",
     "text": [
      "regularization_factors, val_score: 0.239054:  65%|########################             | 13/20 [00:31<00:14,  2.13s/it]\u001b[A\n",
      "regularization_factors, val_score: 0.239054:  70%|#########################9           | 14/20 [00:31<00:13,  2.20s/it]\u001b[A[I 2023-11-03 20:29:34,172] Trial 56 finished with value: 0.23905363955556078 and parameters: {'lambda_l1': 2.219020641512848e-05, 'lambda_l2': 5.8988913035239524e-08}. Best is trial 56 with value: 0.23905363955556078.\n",
      "\n",
      "regularization_factors, val_score: 0.239054:  70%|#########################9           | 14/20 [00:31<00:13,  2.20s/it]\u001b[A"
     ]
    },
    {
     "name": "stdout",
     "output_type": "stream",
     "text": [
      "[100]\tcv_agg's l2: 0.23966 + 0.0476445\n",
      "[200]\tcv_agg's l2: 0.241287 + 0.0446516\n"
     ]
    },
    {
     "name": "stderr",
     "output_type": "stream",
     "text": [
      "\n",
      "regularization_factors, val_score: 0.239054:  70%|#########################9           | 14/20 [00:34<00:13,  2.20s/it]\u001b[A\n",
      "regularization_factors, val_score: 0.239054:  75%|###########################7         | 15/20 [00:34<00:11,  2.27s/it]\u001b[A[I 2023-11-03 20:29:36,629] Trial 57 finished with value: 0.2390536379038189 and parameters: {'lambda_l1': 2.389896623246262e-05, 'lambda_l2': 8.653117985301085e-08}. Best is trial 57 with value: 0.2390536379038189.\n",
      "\n",
      "regularization_factors, val_score: 0.239054:  75%|###########################7         | 15/20 [00:34<00:11,  2.27s/it]\u001b[A"
     ]
    },
    {
     "name": "stdout",
     "output_type": "stream",
     "text": [
      "Early stopping, best iteration is:\n",
      "[118]\tcv_agg's l2: 0.239054 + 0.0466021\n",
      "[100]\tcv_agg's l2: 0.23948 + 0.0478337\n",
      "[200]\tcv_agg's l2: 0.241843 + 0.0441193\n"
     ]
    },
    {
     "name": "stderr",
     "output_type": "stream",
     "text": [
      "\n",
      "regularization_factors, val_score: 0.239054:  75%|###########################7         | 15/20 [00:36<00:11,  2.27s/it]\u001b[A\n",
      "regularization_factors, val_score: 0.239054:  80%|#############################6       | 16/20 [00:36<00:09,  2.29s/it]\u001b[A[I 2023-11-03 20:29:38,963] Trial 58 finished with value: 0.2392137576924438 and parameters: {'lambda_l1': 1.3856965227798717e-05, 'lambda_l2': 3.1941782475864307e-08}. Best is trial 57 with value: 0.2390536379038189.\n",
      "\n",
      "regularization_factors, val_score: 0.239054:  80%|#############################6       | 16/20 [00:36<00:09,  2.29s/it]\u001b[A"
     ]
    },
    {
     "name": "stdout",
     "output_type": "stream",
     "text": [
      "Early stopping, best iteration is:\n",
      "[118]\tcv_agg's l2: 0.239054 + 0.0466021\n",
      "[100]\tcv_agg's l2: 0.23966 + 0.0476445\n",
      "[200]\tcv_agg's l2: 0.241287 + 0.0446515\n"
     ]
    },
    {
     "name": "stderr",
     "output_type": "stream",
     "text": [
      "\n",
      "regularization_factors, val_score: 0.239054:  80%|#############################6       | 16/20 [00:39<00:09,  2.29s/it]\u001b[A\n",
      "regularization_factors, val_score: 0.239054:  85%|###############################4     | 17/20 [00:39<00:07,  2.46s/it]\u001b[A[I 2023-11-03 20:29:41,820] Trial 59 finished with value: 0.23905364145750005 and parameters: {'lambda_l1': 1.9974133577403294e-05, 'lambda_l2': 3.725558039564673e-08}. Best is trial 57 with value: 0.2390536379038189.\n",
      "\n",
      "regularization_factors, val_score: 0.239054:  85%|###############################4     | 17/20 [00:39<00:07,  2.46s/it]\u001b[A"
     ]
    },
    {
     "name": "stdout",
     "output_type": "stream",
     "text": [
      "Early stopping, best iteration is:\n",
      "[118]\tcv_agg's l2: 0.239054 + 0.0466021\n",
      "[100]\tcv_agg's l2: 0.23966 + 0.0476445\n"
     ]
    },
    {
     "name": "stderr",
     "output_type": "stream",
     "text": [
      "\n",
      "regularization_factors, val_score: 0.239054:  85%|###############################4     | 17/20 [00:42<00:07,  2.46s/it]\u001b[A\n",
      "regularization_factors, val_score: 0.239054:  90%|#################################3   | 18/20 [00:42<00:04,  2.48s/it]\u001b[A[I 2023-11-03 20:29:44,351] Trial 60 finished with value: 0.23905363599800414 and parameters: {'lambda_l1': 2.6740190909219915e-05, 'lambda_l2': 3.593499555306782e-08}. Best is trial 60 with value: 0.23905363599800414.\n",
      "\n",
      "regularization_factors, val_score: 0.239054:  90%|#################################3   | 18/20 [00:42<00:04,  2.48s/it]\u001b[A"
     ]
    },
    {
     "name": "stdout",
     "output_type": "stream",
     "text": [
      "[200]\tcv_agg's l2: 0.241287 + 0.0446516\n",
      "Early stopping, best iteration is:\n",
      "[118]\tcv_agg's l2: 0.239054 + 0.0466021\n",
      "[100]\tcv_agg's l2: 0.23966 + 0.0476445\n"
     ]
    },
    {
     "name": "stderr",
     "output_type": "stream",
     "text": [
      "\n",
      "regularization_factors, val_score: 0.239054:  90%|#################################3   | 18/20 [00:44<00:04,  2.48s/it]\u001b[A\n",
      "regularization_factors, val_score: 0.239054:  95%|###################################1 | 19/20 [00:44<00:02,  2.45s/it]\u001b[A"
     ]
    },
    {
     "name": "stdout",
     "output_type": "stream",
     "text": [
      "[200]\tcv_agg's l2: 0.241287 + 0.0446516\n",
      "Early stopping, best iteration is:\n",
      "[118]\tcv_agg's l2: 0.239054 + 0.0466021\n"
     ]
    },
    {
     "name": "stderr",
     "output_type": "stream",
     "text": [
      "[I 2023-11-03 20:29:46,735] Trial 61 finished with value: 0.23905363494165116 and parameters: {'lambda_l1': 2.7567146575788472e-05, 'lambda_l2': 3.9151314467875654e-08}. Best is trial 61 with value: 0.23905363494165116.\n",
      "\n",
      "regularization_factors, val_score: 0.239054:  95%|###################################1 | 19/20 [00:44<00:02,  2.45s/it]\u001b[A"
     ]
    },
    {
     "name": "stdout",
     "output_type": "stream",
     "text": [
      "[100]\tcv_agg's l2: 0.23966 + 0.0476445\n",
      "[200]\tcv_agg's l2: 0.241287 + 0.0446516\n"
     ]
    },
    {
     "name": "stderr",
     "output_type": "stream",
     "text": [
      "\n",
      "regularization_factors, val_score: 0.239054:  95%|###################################1 | 19/20 [00:47<00:02,  2.45s/it]\u001b[A\n",
      "regularization_factors, val_score: 0.239054: 100%|#####################################| 20/20 [00:47<00:00,  2.54s/it]\u001b[A[I 2023-11-03 20:29:49,477] Trial 62 finished with value: 0.23905363204411983 and parameters: {'lambda_l1': 3.082837585590232e-05, 'lambda_l2': 3.658442806012557e-08}. Best is trial 62 with value: 0.23905363204411983.\n",
      "regularization_factors, val_score: 0.239054: 100%|#####################################| 20/20 [00:47<00:00,  2.36s/it]\n"
     ]
    },
    {
     "name": "stdout",
     "output_type": "stream",
     "text": [
      "Early stopping, best iteration is:\n",
      "[118]\tcv_agg's l2: 0.239054 + 0.0466021\n"
     ]
    },
    {
     "name": "stderr",
     "output_type": "stream",
     "text": [
      "\n",
      "  0%|                                                                                            | 0/5 [00:00<?, ?it/s]\u001b[A\n",
      "min_data_in_leaf, val_score: 0.239054:   0%|                                                     | 0/5 [00:00<?, ?it/s]\u001b[A"
     ]
    },
    {
     "name": "stdout",
     "output_type": "stream",
     "text": [
      "[100]\tcv_agg's l2: 0.244028 + 0.0437999\n"
     ]
    },
    {
     "name": "stderr",
     "output_type": "stream",
     "text": [
      "\n",
      "min_data_in_leaf, val_score: 0.239054:   0%|                                                     | 0/5 [00:03<?, ?it/s]\u001b[A\n",
      "min_data_in_leaf, val_score: 0.239054:  20%|#########                                    | 1/5 [00:03<00:12,  3.11s/it]\u001b[A[I 2023-11-03 20:29:52,598] Trial 63 finished with value: 0.24538823902973506 and parameters: {'min_child_samples': 5}. Best is trial 63 with value: 0.24538823902973506.\n",
      "\n",
      "min_data_in_leaf, val_score: 0.239054:  20%|#########                                    | 1/5 [00:03<00:12,  3.11s/it]\u001b[A"
     ]
    },
    {
     "name": "stdout",
     "output_type": "stream",
     "text": [
      "[200]\tcv_agg's l2: 0.246648 + 0.0438137\n",
      "Early stopping, best iteration is:\n",
      "[118]\tcv_agg's l2: 0.239054 + 0.0466021\n",
      "[100]\tcv_agg's l2: 0.329369 + 0.0719615\n"
     ]
    },
    {
     "name": "stderr",
     "output_type": "stream",
     "text": [
      "\n",
      "min_data_in_leaf, val_score: 0.239054:  20%|#########                                    | 1/5 [00:04<00:12,  3.11s/it]\u001b[A\n",
      "min_data_in_leaf, val_score: 0.239054:  40%|##################                           | 2/5 [00:04<00:06,  2.28s/it]\u001b[A[I 2023-11-03 20:29:54,296] Trial 64 finished with value: 0.32819872937417494 and parameters: {'min_child_samples': 50}. Best is trial 63 with value: 0.24538823902973506.\n",
      "\n",
      "min_data_in_leaf, val_score: 0.239054:  40%|##################                           | 2/5 [00:04<00:06,  2.28s/it]\u001b[A"
     ]
    },
    {
     "name": "stdout",
     "output_type": "stream",
     "text": [
      "[200]\tcv_agg's l2: 0.327534 + 0.0648785\n",
      "Early stopping, best iteration is:\n",
      "[118]\tcv_agg's l2: 0.239054 + 0.0466021\n",
      "[100]\tcv_agg's l2: 0.824413 + 0.0787284\n"
     ]
    },
    {
     "name": "stderr",
     "output_type": "stream",
     "text": [
      "\n",
      "min_data_in_leaf, val_score: 0.239054:  40%|##################                           | 2/5 [00:05<00:06,  2.28s/it]\u001b[A\n",
      "min_data_in_leaf, val_score: 0.239054:  60%|###########################                  | 3/5 [00:05<00:03,  1.58s/it]\u001b[A[I 2023-11-03 20:29:55,044] Trial 65 finished with value: 0.8217533430149091 and parameters: {'min_child_samples': 100}. Best is trial 63 with value: 0.24538823902973506.\n",
      "\n",
      "min_data_in_leaf, val_score: 0.239054:  60%|###########################                  | 3/5 [00:05<00:03,  1.58s/it]\u001b[A"
     ]
    },
    {
     "name": "stdout",
     "output_type": "stream",
     "text": [
      "[200]\tcv_agg's l2: 0.804277 + 0.0899831\n",
      "Early stopping, best iteration is:\n",
      "[118]\tcv_agg's l2: 0.239054 + 0.0466021\n",
      "[100]\tcv_agg's l2: 0.266815 + 0.0633354\n"
     ]
    },
    {
     "name": "stderr",
     "output_type": "stream",
     "text": [
      "\n",
      "min_data_in_leaf, val_score: 0.239054:  60%|###########################                  | 3/5 [00:07<00:03,  1.58s/it]\u001b[A\n",
      "min_data_in_leaf, val_score: 0.239054:  80%|####################################         | 4/5 [00:07<00:01,  1.76s/it]\u001b[A[I 2023-11-03 20:29:57,079] Trial 66 finished with value: 0.2654710510690165 and parameters: {'min_child_samples': 25}. Best is trial 63 with value: 0.24538823902973506.\n",
      "\n",
      "min_data_in_leaf, val_score: 0.239054:  80%|####################################         | 4/5 [00:07<00:01,  1.76s/it]\u001b[A"
     ]
    },
    {
     "name": "stdout",
     "output_type": "stream",
     "text": [
      "[200]\tcv_agg's l2: 0.265878 + 0.0587652\n",
      "Early stopping, best iteration is:\n",
      "[118]\tcv_agg's l2: 0.239054 + 0.0466021\n",
      "[100]\tcv_agg's l2: 0.243755 + 0.0506204\n"
     ]
    },
    {
     "name": "stderr",
     "output_type": "stream",
     "text": [
      "\n"
     ]
    },
    {
     "name": "stdout",
     "output_type": "stream",
     "text": [
      "[200]\tcv_agg's l2: 0.24747 + 0.0499737\n",
      "Early stopping, best iteration is:\n",
      "[118]\tcv_agg's l2: 0.239054 + 0.0466021\n"
     ]
    },
    {
     "name": "stderr",
     "output_type": "stream",
     "text": [
      "min_data_in_leaf, val_score: 0.239054:  80%|####################################         | 4/5 [00:09<00:01,  1.76s/it]\u001b[A\n",
      "min_data_in_leaf, val_score: 0.239054: 100%|#############################################| 5/5 [00:09<00:00,  1.99s/it]\u001b[A[I 2023-11-03 20:29:59,485] Trial 67 finished with value: 0.24451085819025042 and parameters: {'min_child_samples': 10}. Best is trial 67 with value: 0.24451085819025042.\n",
      "min_data_in_leaf, val_score: 0.239054: 100%|#############################################| 5/5 [00:10<00:00,  2.00s/it]\n"
     ]
    }
   ],
   "source": [
    "import optuna.integration.lightgbm as lgb\n",
    "from lightgbm import early_stopping\n",
    "from sklearn.model_selection import KFold\n",
    "from sklearn.model_selection import RepeatedKFold\n",
    "\n",
    "\n",
    "lgb_train = lgb.Dataset(X_train_random_split, y_train_random_split)\n",
    "\n",
    "params = {\n",
    "    \"boosting_type\": \"gbdt\",\n",
    "    \"objective\": \"regression\",\n",
    "    \"metric\": \"l2\",\n",
    "    \"verbosity\": -1,\n",
    "}\n",
    "\n",
    "tuner = lgb.LightGBMTunerCV(\n",
    "    params,\n",
    "    lgb_train,\n",
    "    folds=KFold(n_splits=5),\n",
    "    num_boost_round=10000,\n",
    "    callbacks=[early_stopping(100), log_evaluation(100)],\n",
    ")\n",
    "\n",
    "tuner.run()"
   ]
  },
  {
   "cell_type": "code",
   "execution_count": 110,
   "id": "0079a348",
   "metadata": {},
   "outputs": [
    {
     "name": "stdout",
     "output_type": "stream",
     "text": [
      "Best score: 0.23905363204411983\n",
      "Params: \n",
      "    boosting_type: gbdt\n",
      "    objective: regression\n",
      "    metric: l2\n",
      "    verbosity: -1\n",
      "    feature_pre_filter: False\n",
      "    lambda_l1: 3.082837585590232e-05\n",
      "    lambda_l2: 3.658442806012557e-08\n",
      "    num_leaves: 31\n",
      "    feature_fraction: 0.8\n",
      "    bagging_fraction: 0.9953695683942871\n",
      "    bagging_freq: 1\n",
      "    min_child_samples: 20\n"
     ]
    }
   ],
   "source": [
    "print(f\"Best score: {tuner.best_score}\")\n",
    "best_params = tuner.best_params\n",
    "print(\"Params: \")\n",
    "for key, value in best_params.items():\n",
    "    print(\"    {}: {}\".format(key, value))"
   ]
  },
  {
   "cell_type": "code",
   "execution_count": 111,
   "id": "ee599f57",
   "metadata": {},
   "outputs": [],
   "source": [
    "import lightgbm as lgb\n",
    "\n",
    "lgb_tuned = lgb.train(\n",
    "    best_params,\n",
    "    lgb_train,\n",
    "    num_boost_round=10000,\n",
    ")"
   ]
  },
  {
   "cell_type": "code",
   "execution_count": 112,
   "id": "f18b0204",
   "metadata": {},
   "outputs": [
    {
     "name": "stdout",
     "output_type": "stream",
     "text": [
      "RMSE train: 0.00\n",
      "RMSE test: 0.53\n",
      "MSE test: 0.28\n",
      "MAE test: 0.35\n",
      "\n"
     ]
    }
   ],
   "source": [
    "rmse, mse, mae = assess_regression_model(\n",
    "    lgb_tuned,\n",
    "    X_train_random_split,\n",
    "    X_test_random_split,\n",
    "    y_train_random_split,\n",
    "    y_test_random_split,\n",
    ")"
   ]
  },
  {
   "cell_type": "code",
   "execution_count": 113,
   "id": "13d87eed",
   "metadata": {},
   "outputs": [],
   "source": [
    "results.loc[3] = [\"random\", \"Optuna\", len(X_test.columns), mse, rmse, mae]"
   ]
  },
  {
   "cell_type": "markdown",
   "id": "9d13b101",
   "metadata": {},
   "source": [
    "###### MAE by level"
   ]
  },
  {
   "cell_type": "code",
   "execution_count": 114,
   "id": "91591bcd",
   "metadata": {},
   "outputs": [
    {
     "data": {
      "image/png": "[encoded data removed]",
      "text/plain": [
       "<Figure size 720x432 with 1 Axes>"
      ]
     },
     "metadata": {
      "needs_background": "light"
     },
     "output_type": "display_data"
    }
   ],
   "source": [
    "plot_mae_by_level(y_test_random_split, y_pred_test)"
   ]
  },
  {
   "cell_type": "code",
   "execution_count": 115,
   "id": "061d7eba",
   "metadata": {},
   "outputs": [
    {
     "name": "stdout",
     "output_type": "stream",
     "text": [
      "Normal:\n",
      "MSE: 0.12\n",
      "RMSE: 0.35\n",
      "\n",
      "Round type: round\n",
      "MSE: 0.13\n",
      "RMSE: 0.36\n",
      "\n",
      "Round type: 0.33\n",
      "MSE: 0.16\n",
      "RMSE: 0.40\n",
      "\n",
      "Round type: 0.45\n",
      "MSE: 0.14\n",
      "RMSE: 0.37\n",
      "\n"
     ]
    }
   ],
   "source": [
    "predict = lgb_tuned.predict(X_test)\n",
    "check_round_predictions([\"round\", 0.33, 0.45], y_test, predict)"
   ]
  },
  {
   "cell_type": "code",
   "execution_count": 116,
   "id": "9d56b725",
   "metadata": {},
   "outputs": [
    {
     "data": {
      "image/png": "[encoded data removed]",
      "text/plain": [
       "<Figure size 432x288 with 2 Axes>"
      ]
     },
     "metadata": {
      "needs_background": "light"
     },
     "output_type": "display_data"
    }
   ],
   "source": [
    "plot_confusion_matrix(\"round\", predict, y_test)"
   ]
  },
  {
   "cell_type": "markdown",
   "id": "ac941229",
   "metadata": {},
   "source": [
    "## Summary"
   ]
  },
  {
   "cell_type": "code",
   "execution_count": 117,
   "id": "90f5111f",
   "metadata": {
    "scrolled": true
   },
   "outputs": [
    {
     "data": {
      "text/html": [
       "<div>\n",
       "<style scoped>\n",
       "    .dataframe tbody tr th:only-of-type {\n",
       "        vertical-align: middle;\n",
       "    }\n",
       "\n",
       "    .dataframe tbody tr th {\n",
       "        vertical-align: top;\n",
       "    }\n",
       "\n",
       "    .dataframe thead th {\n",
       "        text-align: right;\n",
       "    }\n",
       "</style>\n",
       "<table border=\"1\" class=\"dataframe\">\n",
       "  <thead>\n",
       "    <tr style=\"text-align: right;\">\n",
       "      <th></th>\n",
       "      <th>Split type</th>\n",
       "      <th>Tuning type</th>\n",
       "      <th>Number of characteristics</th>\n",
       "      <th>MSE</th>\n",
       "      <th>RMSE</th>\n",
       "      <th>MAE</th>\n",
       "    </tr>\n",
       "  </thead>\n",
       "  <tbody>\n",
       "    <tr>\n",
       "      <th>0</th>\n",
       "      <td>chronological</td>\n",
       "      <td>normal</td>\n",
       "      <td>8</td>\n",
       "      <td>0.447566</td>\n",
       "      <td>0.669004</td>\n",
       "      <td>0.467604</td>\n",
       "    </tr>\n",
       "    <tr>\n",
       "      <th>1</th>\n",
       "      <td>chronological</td>\n",
       "      <td>Optuna</td>\n",
       "      <td>8</td>\n",
       "      <td>0.450794</td>\n",
       "      <td>0.671412</td>\n",
       "      <td>0.475812</td>\n",
       "    </tr>\n",
       "    <tr>\n",
       "      <th>2</th>\n",
       "      <td>random</td>\n",
       "      <td>normal</td>\n",
       "      <td>8</td>\n",
       "      <td>0.243018</td>\n",
       "      <td>0.492968</td>\n",
       "      <td>0.340495</td>\n",
       "    </tr>\n",
       "    <tr>\n",
       "      <th>3</th>\n",
       "      <td>random</td>\n",
       "      <td>Optuna</td>\n",
       "      <td>8</td>\n",
       "      <td>0.279737</td>\n",
       "      <td>0.528901</td>\n",
       "      <td>0.354820</td>\n",
       "    </tr>\n",
       "  </tbody>\n",
       "</table>\n",
       "</div>"
      ],
      "text/plain": [
       "      Split type Tuning type  Number of characteristics       MSE      RMSE  \\\n",
       "0  chronological      normal                          8  0.447566  0.669004   \n",
       "1  chronological      Optuna                          8  0.450794  0.671412   \n",
       "2         random      normal                          8  0.243018  0.492968   \n",
       "3         random      Optuna                          8  0.279737  0.528901   \n",
       "\n",
       "        MAE  \n",
       "0  0.467604  \n",
       "1  0.475812  \n",
       "2  0.340495  \n",
       "3  0.354820  "
      ]
     },
     "execution_count": 117,
     "metadata": {},
     "output_type": "execute_result"
    }
   ],
   "source": [
    "results"
   ]
  },
  {
   "cell_type": "code",
   "execution_count": 118,
   "id": "492161ff",
   "metadata": {},
   "outputs": [],
   "source": [
    "from training.results import plot_summary"
   ]
  },
  {
   "cell_type": "code",
   "execution_count": 119,
   "id": "df15e1a7",
   "metadata": {
    "scrolled": false
   },
   "outputs": [
    {
     "data": {
      "image/png": "[encoded data removed]",
      "text/plain": [
       "<Figure size 1440x576 with 1 Axes>"
      ]
     },
     "metadata": {
      "needs_background": "light"
     },
     "output_type": "display_data"
    }
   ],
   "source": [
    "plot_summary(results, \"MSE\")"
   ]
  },
  {
   "cell_type": "code",
   "execution_count": 120,
   "id": "b44fe7c4",
   "metadata": {},
   "outputs": [
    {
     "data": {
      "image/png": "[encoded data removed]",
      "text/plain": [
       "<Figure size 1440x576 with 1 Axes>"
      ]
     },
     "metadata": {
      "needs_background": "light"
     },
     "output_type": "display_data"
    }
   ],
   "source": [
    "plot_summary(results, \"RMSE\")"
   ]
  },
  {
   "cell_type": "code",
   "execution_count": 121,
   "id": "d3509e28",
   "metadata": {},
   "outputs": [
    {
     "data": {
      "image/png": "[encoded data removed]",
      "text/plain": [
       "<Figure size 1440x576 with 1 Axes>"
      ]
     },
     "metadata": {
      "needs_background": "light"
     },
     "output_type": "display_data"
    }
   ],
   "source": [
    "plot_summary(results, \"MAE\")"
   ]
  },
  {
   "cell_type": "code",
   "execution_count": null,
   "id": "a8ce3754",
   "metadata": {},
   "outputs": [],
   "source": []
  },
  {
   "cell_type": "code",
   "execution_count": 122,
   "id": "c714119e",
   "metadata": {},
   "outputs": [],
   "source": [
    "results.to_json(\"./lightgbm_basic_results.json\")"
   ]
  }
 ],
 "metadata": {
  "kernelspec": {
   "display_name": "Python 3 (ipykernel)",
   "language": "python",
   "name": "python3"
  },
  "language_info": {
   "codemirror_mode": {
    "name": "ipython",
    "version": 3
   },
   "file_extension": ".py",
   "mimetype": "text/x-python",
   "name": "python",
   "nbconvert_exporter": "python",
   "pygments_lexer": "ipython3",
   "version": "3.10.4"
  }
 },
 "nbformat": 4,
 "nbformat_minor": 5
}
