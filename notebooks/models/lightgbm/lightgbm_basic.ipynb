{
 "cells": [
  {
   "cell_type": "markdown",
   "id": "f64a671f",
   "metadata": {},
   "source": [
    "# LightGBM\n",
    "### Parameters:\n",
    "* **abilities**:\n",
    "    * **cha**\n",
    "    * **con**\n",
    "    * **dex**\n",
    "    * **int**\n",
    "    * **str**\n",
    "    * **wis**\n",
    "* **attributes**\n",
    "    * **hp**\n",
    "    * **ac**\n",
    "\n",
    "### Prediction: *level*\n",
    "\n",
    "## Loading data"
   ]
  },
  {
   "cell_type": "code",
   "execution_count": 1,
   "id": "1f2515e7",
   "metadata": {},
   "outputs": [],
   "source": [
    "import numpy as np\n",
    "import pandas as pd\n",
    "import sys\n",
    "\n",
    "import os\n",
    "import pathlib\n",
    "\n",
    "sys.path.append(\"../../..\")\n",
    "from training.creating_dataset import load_and_preprocess_data\n",
    "\n",
    "current_path = os.getcwd()\n",
    "DATASETS_DIR = pathlib.Path(current_path).parent.parent.parent / \"pathfinder_2e_data\"\n",
    "DATASET_FILES = [\n",
    "    \"pathfinder-bestiary.db\",\n",
    "    \"pathfinder-bestiary-2.db\",\n",
    "    \"pathfinder-bestiary-3.db\",\n",
    "]\n",
    "DATASET_PATHS = [f\"{DATASETS_DIR}/{file}\" for file in DATASET_FILES]\n",
    "features = [\n",
    "    \"cha\",\n",
    "    \"con\",\n",
    "    \"dex\",\n",
    "    \"int\",\n",
    "    \"str\",\n",
    "    \"wis\",\n",
    "    \"ac\",\n",
    "    \"hp\",\n",
    "]\n",
    "\n",
    "df = load_and_preprocess_data(\n",
    "    DATASET_PATHS,\n",
    "    characteristics=features,\n",
    ")"
   ]
  },
  {
   "cell_type": "code",
   "execution_count": 2,
   "id": "b522f880",
   "metadata": {},
   "outputs": [
    {
     "name": "stdout",
     "output_type": "stream",
     "text": [
      "<class 'pandas.core.frame.DataFrame'>\n",
      "Int64Index: 1206 entries, 0 to 1205\n",
      "Data columns (total 10 columns):\n",
      " #   Column  Non-Null Count  Dtype \n",
      "---  ------  --------------  ----- \n",
      " 0   wis     1206 non-null   int64 \n",
      " 1   cha     1206 non-null   int64 \n",
      " 2   int     1206 non-null   int64 \n",
      " 3   con     1206 non-null   int64 \n",
      " 4   hp      1206 non-null   int64 \n",
      " 5   ac      1206 non-null   int64 \n",
      " 6   dex     1206 non-null   int64 \n",
      " 7   str     1206 non-null   int64 \n",
      " 8   book    1206 non-null   object\n",
      " 9   level   1206 non-null   int64 \n",
      "dtypes: int64(9), object(1)\n",
      "memory usage: 103.6+ KB\n"
     ]
    }
   ],
   "source": [
    "df.info()"
   ]
  },
  {
   "cell_type": "code",
   "execution_count": 3,
   "id": "1b5450d3",
   "metadata": {},
   "outputs": [
    {
     "data": {
      "text/html": [
       "<div>\n",
       "<style scoped>\n",
       "    .dataframe tbody tr th:only-of-type {\n",
       "        vertical-align: middle;\n",
       "    }\n",
       "\n",
       "    .dataframe tbody tr th {\n",
       "        vertical-align: top;\n",
       "    }\n",
       "\n",
       "    .dataframe thead th {\n",
       "        text-align: right;\n",
       "    }\n",
       "</style>\n",
       "<table border=\"1\" class=\"dataframe\">\n",
       "  <thead>\n",
       "    <tr style=\"text-align: right;\">\n",
       "      <th></th>\n",
       "      <th>wis</th>\n",
       "      <th>cha</th>\n",
       "      <th>int</th>\n",
       "      <th>con</th>\n",
       "      <th>hp</th>\n",
       "      <th>ac</th>\n",
       "      <th>dex</th>\n",
       "      <th>str</th>\n",
       "      <th>book</th>\n",
       "      <th>level</th>\n",
       "    </tr>\n",
       "  </thead>\n",
       "  <tbody>\n",
       "    <tr>\n",
       "      <th>0</th>\n",
       "      <td>2</td>\n",
       "      <td>1</td>\n",
       "      <td>1</td>\n",
       "      <td>5</td>\n",
       "      <td>215</td>\n",
       "      <td>29</td>\n",
       "      <td>2</td>\n",
       "      <td>7</td>\n",
       "      <td>Pathfinder Bestiary</td>\n",
       "      <td>10</td>\n",
       "    </tr>\n",
       "    <tr>\n",
       "      <th>1</th>\n",
       "      <td>2</td>\n",
       "      <td>1</td>\n",
       "      <td>-4</td>\n",
       "      <td>5</td>\n",
       "      <td>220</td>\n",
       "      <td>28</td>\n",
       "      <td>0</td>\n",
       "      <td>9</td>\n",
       "      <td>Pathfinder Bestiary</td>\n",
       "      <td>10</td>\n",
       "    </tr>\n",
       "    <tr>\n",
       "      <th>2</th>\n",
       "      <td>3</td>\n",
       "      <td>-2</td>\n",
       "      <td>-4</td>\n",
       "      <td>6</td>\n",
       "      <td>175</td>\n",
       "      <td>25</td>\n",
       "      <td>3</td>\n",
       "      <td>7</td>\n",
       "      <td>Pathfinder Bestiary</td>\n",
       "      <td>8</td>\n",
       "    </tr>\n",
       "    <tr>\n",
       "      <th>3</th>\n",
       "      <td>5</td>\n",
       "      <td>6</td>\n",
       "      <td>6</td>\n",
       "      <td>5</td>\n",
       "      <td>315</td>\n",
       "      <td>41</td>\n",
       "      <td>4</td>\n",
       "      <td>7</td>\n",
       "      <td>Pathfinder Bestiary</td>\n",
       "      <td>17</td>\n",
       "    </tr>\n",
       "    <tr>\n",
       "      <th>4</th>\n",
       "      <td>1</td>\n",
       "      <td>1</td>\n",
       "      <td>-1</td>\n",
       "      <td>1</td>\n",
       "      <td>20</td>\n",
       "      <td>16</td>\n",
       "      <td>3</td>\n",
       "      <td>-5</td>\n",
       "      <td>Pathfinder Bestiary</td>\n",
       "      <td>1</td>\n",
       "    </tr>\n",
       "  </tbody>\n",
       "</table>\n",
       "</div>"
      ],
      "text/plain": [
       "   wis  cha  int  con   hp  ac  dex  str                 book  level\n",
       "0    2    1    1    5  215  29    2    7  Pathfinder Bestiary     10\n",
       "1    2    1   -4    5  220  28    0    9  Pathfinder Bestiary     10\n",
       "2    3   -2   -4    6  175  25    3    7  Pathfinder Bestiary      8\n",
       "3    5    6    6    5  315  41    4    7  Pathfinder Bestiary     17\n",
       "4    1    1   -1    1   20  16    3   -5  Pathfinder Bestiary      1"
      ]
     },
     "execution_count": 3,
     "metadata": {},
     "output_type": "execute_result"
    }
   ],
   "source": [
    "df.head()"
   ]
  },
  {
   "cell_type": "markdown",
   "id": "0caa661f",
   "metadata": {},
   "source": [
    "###### Level"
   ]
  },
  {
   "cell_type": "code",
   "execution_count": 4,
   "id": "c200d2b4",
   "metadata": {},
   "outputs": [
    {
     "data": {
      "text/plain": [
       "0       10\n",
       "1       10\n",
       "2        8\n",
       "3       17\n",
       "4        1\n",
       "        ..\n",
       "1201    20\n",
       "1202    -1\n",
       "1203    12\n",
       "1204     6\n",
       "1205     6\n",
       "Name: level, Length: 1206, dtype: int64"
      ]
     },
     "execution_count": 4,
     "metadata": {},
     "output_type": "execute_result"
    }
   ],
   "source": [
    "y = df[\"level\"]\n",
    "y"
   ]
  },
  {
   "cell_type": "code",
   "execution_count": 5,
   "id": "553822a7",
   "metadata": {},
   "outputs": [],
   "source": [
    "from collections import defaultdict\n",
    "\n",
    "\n",
    "lvl_stat = defaultdict(lambda: 0)\n",
    "\n",
    "for lvl in y:\n",
    "    lvl_stat[lvl] += 1"
   ]
  },
  {
   "cell_type": "code",
   "execution_count": 6,
   "id": "e45d6c29",
   "metadata": {},
   "outputs": [
    {
     "data": {
      "text/html": [
       "<div>\n",
       "<style scoped>\n",
       "    .dataframe tbody tr th:only-of-type {\n",
       "        vertical-align: middle;\n",
       "    }\n",
       "\n",
       "    .dataframe tbody tr th {\n",
       "        vertical-align: top;\n",
       "    }\n",
       "\n",
       "    .dataframe thead th {\n",
       "        text-align: right;\n",
       "    }\n",
       "</style>\n",
       "<table border=\"1\" class=\"dataframe\">\n",
       "  <thead>\n",
       "    <tr style=\"text-align: right;\">\n",
       "      <th></th>\n",
       "      <th>lvl</th>\n",
       "      <th>count</th>\n",
       "    </tr>\n",
       "  </thead>\n",
       "  <tbody>\n",
       "    <tr>\n",
       "      <th>0</th>\n",
       "      <td>-1</td>\n",
       "      <td>34</td>\n",
       "    </tr>\n",
       "    <tr>\n",
       "      <th>1</th>\n",
       "      <td>0</td>\n",
       "      <td>27</td>\n",
       "    </tr>\n",
       "    <tr>\n",
       "      <th>2</th>\n",
       "      <td>1</td>\n",
       "      <td>127</td>\n",
       "    </tr>\n",
       "    <tr>\n",
       "      <th>3</th>\n",
       "      <td>2</td>\n",
       "      <td>121</td>\n",
       "    </tr>\n",
       "    <tr>\n",
       "      <th>4</th>\n",
       "      <td>3</td>\n",
       "      <td>95</td>\n",
       "    </tr>\n",
       "    <tr>\n",
       "      <th>5</th>\n",
       "      <td>4</td>\n",
       "      <td>82</td>\n",
       "    </tr>\n",
       "    <tr>\n",
       "      <th>6</th>\n",
       "      <td>5</td>\n",
       "      <td>76</td>\n",
       "    </tr>\n",
       "    <tr>\n",
       "      <th>7</th>\n",
       "      <td>6</td>\n",
       "      <td>72</td>\n",
       "    </tr>\n",
       "    <tr>\n",
       "      <th>8</th>\n",
       "      <td>7</td>\n",
       "      <td>77</td>\n",
       "    </tr>\n",
       "    <tr>\n",
       "      <th>9</th>\n",
       "      <td>8</td>\n",
       "      <td>68</td>\n",
       "    </tr>\n",
       "    <tr>\n",
       "      <th>10</th>\n",
       "      <td>9</td>\n",
       "      <td>63</td>\n",
       "    </tr>\n",
       "    <tr>\n",
       "      <th>11</th>\n",
       "      <td>10</td>\n",
       "      <td>58</td>\n",
       "    </tr>\n",
       "    <tr>\n",
       "      <th>12</th>\n",
       "      <td>11</td>\n",
       "      <td>40</td>\n",
       "    </tr>\n",
       "    <tr>\n",
       "      <th>13</th>\n",
       "      <td>12</td>\n",
       "      <td>41</td>\n",
       "    </tr>\n",
       "    <tr>\n",
       "      <th>14</th>\n",
       "      <td>13</td>\n",
       "      <td>36</td>\n",
       "    </tr>\n",
       "    <tr>\n",
       "      <th>15</th>\n",
       "      <td>14</td>\n",
       "      <td>33</td>\n",
       "    </tr>\n",
       "    <tr>\n",
       "      <th>16</th>\n",
       "      <td>15</td>\n",
       "      <td>31</td>\n",
       "    </tr>\n",
       "    <tr>\n",
       "      <th>17</th>\n",
       "      <td>16</td>\n",
       "      <td>25</td>\n",
       "    </tr>\n",
       "    <tr>\n",
       "      <th>18</th>\n",
       "      <td>17</td>\n",
       "      <td>21</td>\n",
       "    </tr>\n",
       "    <tr>\n",
       "      <th>19</th>\n",
       "      <td>18</td>\n",
       "      <td>21</td>\n",
       "    </tr>\n",
       "    <tr>\n",
       "      <th>20</th>\n",
       "      <td>19</td>\n",
       "      <td>18</td>\n",
       "    </tr>\n",
       "    <tr>\n",
       "      <th>21</th>\n",
       "      <td>20</td>\n",
       "      <td>24</td>\n",
       "    </tr>\n",
       "    <tr>\n",
       "      <th>22</th>\n",
       "      <td>21</td>\n",
       "      <td>16</td>\n",
       "    </tr>\n",
       "  </tbody>\n",
       "</table>\n",
       "</div>"
      ],
      "text/plain": [
       "    lvl  count\n",
       "0    -1     34\n",
       "1     0     27\n",
       "2     1    127\n",
       "3     2    121\n",
       "4     3     95\n",
       "5     4     82\n",
       "6     5     76\n",
       "7     6     72\n",
       "8     7     77\n",
       "9     8     68\n",
       "10    9     63\n",
       "11   10     58\n",
       "12   11     40\n",
       "13   12     41\n",
       "14   13     36\n",
       "15   14     33\n",
       "16   15     31\n",
       "17   16     25\n",
       "18   17     21\n",
       "19   18     21\n",
       "20   19     18\n",
       "21   20     24\n",
       "22   21     16"
      ]
     },
     "execution_count": 6,
     "metadata": {},
     "output_type": "execute_result"
    }
   ],
   "source": [
    "level_count = pd.DataFrame(\n",
    "    data={\n",
    "        \"lvl\": [key for key in sorted(lvl_stat.keys())],\n",
    "        \"count\": [lvl_stat.get(key) for key in sorted(lvl_stat.keys())],\n",
    "    }\n",
    ")\n",
    "level_count"
   ]
  },
  {
   "cell_type": "code",
   "execution_count": 7,
   "id": "bdbfe8de",
   "metadata": {},
   "outputs": [
    {
     "data": {
      "image/png": "[encoded data removed]",
      "text/plain": [
       "<Figure size 432x288 with 1 Axes>"
      ]
     },
     "metadata": {
      "needs_background": "light"
     },
     "output_type": "display_data"
    }
   ],
   "source": [
    "import matplotlib.pyplot as plt\n",
    "\n",
    "\n",
    "level_count.plot.bar(x=\"lvl\", y=\"count\", title=\"Count of levels\")\n",
    "plt.show()"
   ]
  },
  {
   "cell_type": "markdown",
   "id": "9fdb6541",
   "metadata": {},
   "source": [
    "## Train test split"
   ]
  },
  {
   "cell_type": "markdown",
   "id": "18f56629",
   "metadata": {},
   "source": [
    "### Chronological split"
   ]
  },
  {
   "cell_type": "code",
   "execution_count": 8,
   "id": "dcda359b",
   "metadata": {},
   "outputs": [],
   "source": [
    "from training.splitting_dataset import split_dataframe\n",
    "\n",
    "\n",
    "os.chdir(\"../../../training\")\n",
    "X_train, X_test, y_train, y_test = split_dataframe(df, test_size=0.31)\n",
    "os.chdir(\"../notebooks/models/lightgbm\")"
   ]
  },
  {
   "cell_type": "code",
   "execution_count": 9,
   "id": "17dbc875",
   "metadata": {},
   "outputs": [],
   "source": [
    "X_train = X_train.drop(columns=[\"book\"])\n",
    "X_test = X_test.drop(columns=[\"book\"])"
   ]
  },
  {
   "cell_type": "markdown",
   "id": "25879636",
   "metadata": {},
   "source": [
    "### Random split"
   ]
  },
  {
   "cell_type": "code",
   "execution_count": 10,
   "id": "982ec5eb",
   "metadata": {},
   "outputs": [],
   "source": [
    "(\n",
    "    X_train_random_split,\n",
    "    X_test_random_split,\n",
    "    y_train_random_split,\n",
    "    y_test_random_split,\n",
    ") = split_dataframe(df, chronological_split=False)"
   ]
  },
  {
   "cell_type": "code",
   "execution_count": 11,
   "id": "90569e78",
   "metadata": {},
   "outputs": [],
   "source": [
    "X_train_random_split = X_train_random_split.drop(columns=[\"book\"])\n",
    "X_test_random_split = X_test_random_split.drop(columns=[\"book\"])"
   ]
  },
  {
   "cell_type": "markdown",
   "id": "9b259fbf",
   "metadata": {},
   "source": [
    "## LightGBM"
   ]
  },
  {
   "cell_type": "markdown",
   "id": "14f37d9b",
   "metadata": {},
   "source": [
    "## Chronological split"
   ]
  },
  {
   "cell_type": "code",
   "execution_count": 12,
   "id": "2bc4c90e",
   "metadata": {},
   "outputs": [
    {
     "name": "stdout",
     "output_type": "stream",
     "text": [
      "[LightGBM] [Warning] Auto-choosing col-wise multi-threading, the overhead of testing was 0.000230 seconds.\n",
      "You can set `force_col_wise=true` to remove the overhead.\n",
      "[LightGBM] [Info] Total Bins 224\n",
      "[LightGBM] [Info] Number of data points in the train set: 841, number of used features: 8\n",
      "[LightGBM] [Info] Start training from score 6.966706\n",
      "Training until validation scores don't improve for 5 rounds\n",
      "[LightGBM] [Warning] No further splits with positive gain, best gain: -inf\n",
      "[LightGBM] [Warning] No further splits with positive gain, best gain: -inf\n",
      "[LightGBM] [Warning] No further splits with positive gain, best gain: -inf\n",
      "[LightGBM] [Warning] No further splits with positive gain, best gain: -inf\n",
      "[LightGBM] [Warning] No further splits with positive gain, best gain: -inf\n",
      "[LightGBM] [Warning] No further splits with positive gain, best gain: -inf\n",
      "[LightGBM] [Warning] No further splits with positive gain, best gain: -inf\n",
      "[LightGBM] [Warning] No further splits with positive gain, best gain: -inf\n",
      "[LightGBM] [Warning] No further splits with positive gain, best gain: -inf\n",
      "[LightGBM] [Warning] No further splits with positive gain, best gain: -inf\n",
      "[LightGBM] [Warning] No further splits with positive gain, best gain: -inf\n",
      "[LightGBM] [Warning] No further splits with positive gain, best gain: -inf\n",
      "Early stopping, best iteration is:\n",
      "[48]\tvalid_0's l2: 0.447566\tvalid_0's l1: 0.467604\n"
     ]
    }
   ],
   "source": [
    "import lightgbm as lgb\n",
    "\n",
    "lgb_train = lgb.Dataset(X_train, y_train)\n",
    "lgb_eval = lgb.Dataset(X_test, y_test, reference=lgb_train)\n",
    "\n",
    "params = {\n",
    "    \"boosting_type\": \"gbdt\",\n",
    "    \"objective\": \"regression\",\n",
    "    \"metric\": {\"l2\", \"l1\"},\n",
    "}\n",
    "\n",
    "gbm = lgb.train(\n",
    "    params,\n",
    "    lgb_train,\n",
    "    num_boost_round=100,\n",
    "    valid_sets=lgb_eval,\n",
    "    callbacks=[lgb.early_stopping(stopping_rounds=5)],\n",
    ")"
   ]
  },
  {
   "cell_type": "code",
   "execution_count": 13,
   "id": "f1ae2eaa",
   "metadata": {},
   "outputs": [],
   "source": [
    "y_pred_train = gbm.predict(X_train, num_iteration=gbm.best_iteration)\n",
    "y_pred_test = gbm.predict(X_test, num_iteration=gbm.best_iteration)"
   ]
  },
  {
   "cell_type": "code",
   "execution_count": 14,
   "id": "ef9d09eb",
   "metadata": {},
   "outputs": [
    {
     "name": "stdout",
     "output_type": "stream",
     "text": [
      "RMSE: 0.67\n",
      "MAE: 0.47\n"
     ]
    }
   ],
   "source": [
    "from sklearn.metrics import mean_squared_error, mean_absolute_error\n",
    "\n",
    "\n",
    "rmse = mean_squared_error(y_test, y_pred_test, squared=False)\n",
    "mae = mean_absolute_error(y_test, y_pred_test)\n",
    "\n",
    "print(f\"RMSE: {rmse:.2f}\")\n",
    "print(f\"MAE: {mae:.2f}\")"
   ]
  },
  {
   "cell_type": "code",
   "execution_count": 15,
   "id": "6e288d53",
   "metadata": {},
   "outputs": [],
   "source": [
    "results = pd.DataFrame(\n",
    "    data={\n",
    "        \"Split type\": [],\n",
    "        \"Tuning type\": [],\n",
    "        \"Set of features\": [],\n",
    "        \"RMSE\": [],\n",
    "        \"MAE\": [],\n",
    "    }\n",
    ")\n",
    "\n",
    "results.loc[0] = [\"chronological\", \"default\", \"basic\", rmse, mae]"
   ]
  },
  {
   "cell_type": "code",
   "execution_count": 16,
   "id": "78bb7ffa",
   "metadata": {},
   "outputs": [
    {
     "name": "stdout",
     "output_type": "stream",
     "text": [
      "RMSE train: 0.31\n",
      "RMSE test: 0.67\n"
     ]
    }
   ],
   "source": [
    "rmse_train = mean_squared_error(y_train, y_pred_train, squared=False)\n",
    "rmse_test = mean_squared_error(y_test, y_pred_test, squared=False)\n",
    "print(f\"RMSE train: {rmse_train:.2f}\")\n",
    "print(f\"RMSE test: {rmse_test:.2f}\")"
   ]
  },
  {
   "cell_type": "markdown",
   "id": "4435f236",
   "metadata": {},
   "source": [
    "###### MAE by level"
   ]
  },
  {
   "cell_type": "code",
   "execution_count": 17,
   "id": "f3b4086b",
   "metadata": {},
   "outputs": [],
   "source": [
    "from training.results import plot_mae_by_level"
   ]
  },
  {
   "cell_type": "code",
   "execution_count": 18,
   "id": "e3ecad89",
   "metadata": {
    "scrolled": false
   },
   "outputs": [
    {
     "data": {
      "image/png": "[encoded data removed]",
      "text/plain": [
       "<Figure size 1440x576 with 1 Axes>"
      ]
     },
     "metadata": {
      "needs_background": "light"
     },
     "output_type": "display_data"
    }
   ],
   "source": [
    "plot_mae_by_level(\n",
    "    y_test,\n",
    "    y_pred_test,\n",
    "    title=\"MAE by level for default LightGBM with basic features and chronological split\",\n",
    ")"
   ]
  },
  {
   "cell_type": "code",
   "execution_count": 19,
   "id": "ec8cab49",
   "metadata": {
    "scrolled": true
   },
   "outputs": [
    {
     "name": "stdout",
     "output_type": "stream",
     "text": [
      "Default:\n",
      "RMSE: 0.67\n",
      "\n",
      "Round type: 0.5\n",
      "RMSE: 0.71\n",
      "\n",
      "Round type: 0.33\n",
      "RMSE: 0.71\n",
      "\n",
      "Round type: 0.45\n",
      "RMSE: 0.70\n",
      "\n"
     ]
    }
   ],
   "source": [
    "from training.results import evaluate_round_predictions, plot_confusion_matrix\n",
    "\n",
    "\n",
    "evaluate_round_predictions([0.5, 0.33, 0.45], y_test, y_pred_test)"
   ]
  },
  {
   "cell_type": "code",
   "execution_count": 20,
   "id": "9129a0ae",
   "metadata": {},
   "outputs": [
    {
     "data": {
      "image/png": "[encoded data removed]",
      "text/plain": [
       "<Figure size 720x720 with 2 Axes>"
      ]
     },
     "metadata": {
      "needs_background": "light"
     },
     "output_type": "display_data"
    }
   ],
   "source": [
    "plot_confusion_matrix(\n",
    "    y_pred_test,\n",
    "    y_test,\n",
    "    title=\"Confusion matrix for default LightGBM with basic features and chronological split\",\n",
    ")"
   ]
  },
  {
   "cell_type": "markdown",
   "id": "aaaf3023",
   "metadata": {},
   "source": [
    "#### Tuning"
   ]
  },
  {
   "cell_type": "code",
   "execution_count": 21,
   "id": "cbd24f9f",
   "metadata": {},
   "outputs": [],
   "source": [
    "from training.results import assess_regression_model"
   ]
  },
  {
   "cell_type": "code",
   "execution_count": 22,
   "id": "10854460",
   "metadata": {},
   "outputs": [
    {
     "name": "stderr",
     "output_type": "stream",
     "text": [
      "[I 2023-11-09 20:46:43,375] A new study created in memory with name: no-name-12ccd92e-dc2c-4eb2-ad33-974e2d85ec27\n",
      "feature_fraction, val_score: inf:   0%|                                                          | 0/7 [00:00<?, ?it/s]"
     ]
    },
    {
     "name": "stdout",
     "output_type": "stream",
     "text": [
      "Training until validation scores don't improve for 100 rounds\n",
      "[100]\tcv_agg's l2: 0.226015 + 0.0436077\n",
      "[200]\tcv_agg's l2: 0.22066 + 0.0457742\n"
     ]
    },
    {
     "name": "stderr",
     "output_type": "stream",
     "text": [
      "feature_fraction, val_score: 0.220042:  14%|######4                                      | 1/7 [00:01<00:08,  1.40s/it][I 2023-11-09 20:46:44,778] Trial 0 finished with value: 0.2200419796718629 and parameters: {'feature_fraction': 0.6}. Best is trial 0 with value: 0.2200419796718629.\n",
      "feature_fraction, val_score: 0.220042:  14%|######4                                      | 1/7 [00:01<00:08,  1.40s/it]"
     ]
    },
    {
     "name": "stdout",
     "output_type": "stream",
     "text": [
      "[300]\tcv_agg's l2: 0.220675 + 0.0454667\n",
      "Early stopping, best iteration is:\n",
      "[223]\tcv_agg's l2: 0.220042 + 0.0452659\n",
      "[100]\tcv_agg's l2: 0.229812 + 0.0493027\n",
      "[200]\tcv_agg's l2: 0.225609 + 0.0477596\n",
      "[300]\tcv_agg's l2: 0.226947 + 0.047554\n"
     ]
    },
    {
     "name": "stderr",
     "output_type": "stream",
     "text": [
      "feature_fraction, val_score: 0.220042:  29%|############8                                | 2/7 [00:03<00:07,  1.59s/it][I 2023-11-09 20:46:46,512] Trial 1 finished with value: 0.22665976009125152 and parameters: {'feature_fraction': 0.8}. Best is trial 0 with value: 0.2200419796718629.\n",
      "feature_fraction, val_score: 0.220042:  29%|############8                                | 2/7 [00:03<00:07,  1.59s/it]"
     ]
    },
    {
     "name": "stdout",
     "output_type": "stream",
     "text": [
      "Early stopping, best iteration is:\n",
      "[223]\tcv_agg's l2: 0.220042 + 0.0452659\n",
      "[100]\tcv_agg's l2: 0.35167 + 0.0673381\n",
      "[200]\tcv_agg's l2: 0.298985 + 0.0568226\n",
      "[300]\tcv_agg's l2: 0.282636 + 0.051219\n"
     ]
    },
    {
     "name": "stderr",
     "output_type": "stream",
     "text": [
      "feature_fraction, val_score: 0.220042:  43%|###################2                         | 3/7 [00:06<00:10,  2.57s/it][I 2023-11-09 20:46:50,234] Trial 2 finished with value: 0.29371414511785254 and parameters: {'feature_fraction': 0.4}. Best is trial 0 with value: 0.2200419796718629.\n",
      "feature_fraction, val_score: 0.220042:  43%|###################2                         | 3/7 [00:06<00:10,  2.57s/it]"
     ]
    },
    {
     "name": "stdout",
     "output_type": "stream",
     "text": [
      "Early stopping, best iteration is:\n",
      "[223]\tcv_agg's l2: 0.220042 + 0.0452659\n",
      "[100]\tcv_agg's l2: 0.404458 + 0.0921388\n",
      "[200]\tcv_agg's l2: 0.342887 + 0.0774405\n",
      "[300]\tcv_agg's l2: 0.320127 + 0.0706401\n"
     ]
    },
    {
     "name": "stderr",
     "output_type": "stream",
     "text": [
      "feature_fraction, val_score: 0.220042:  57%|#########################7                   | 4/7 [00:11<00:10,  3.41s/it][I 2023-11-09 20:46:54,949] Trial 3 finished with value: 0.3351716358358906 and parameters: {'feature_fraction': 0.5}. Best is trial 0 with value: 0.2200419796718629.\n",
      "feature_fraction, val_score: 0.220042:  57%|#########################7                   | 4/7 [00:11<00:10,  3.41s/it]"
     ]
    },
    {
     "name": "stdout",
     "output_type": "stream",
     "text": [
      "Early stopping, best iteration is:\n",
      "[223]\tcv_agg's l2: 0.220042 + 0.0452659\n",
      "[100]\tcv_agg's l2: 0.227136 + 0.0457577\n",
      "[200]\tcv_agg's l2: 0.222943 + 0.0444917\n",
      "[300]\tcv_agg's l2: 0.22502 + 0.0444347\n"
     ]
    },
    {
     "name": "stderr",
     "output_type": "stream",
     "text": [
      "feature_fraction, val_score: 0.220042:  71%|################################1            | 5/7 [00:16<00:08,  4.02s/it][I 2023-11-09 20:47:00,055] Trial 4 finished with value: 0.22362466262201303 and parameters: {'feature_fraction': 0.8999999999999999}. Best is trial 0 with value: 0.2200419796718629.\n",
      "feature_fraction, val_score: 0.220042:  71%|################################1            | 5/7 [00:16<00:08,  4.02s/it]"
     ]
    },
    {
     "name": "stdout",
     "output_type": "stream",
     "text": [
      "Early stopping, best iteration is:\n",
      "[223]\tcv_agg's l2: 0.220042 + 0.0452659\n",
      "[100]\tcv_agg's l2: 0.229812 + 0.0493027\n",
      "[200]\tcv_agg's l2: 0.225609 + 0.0477596\n",
      "[300]\tcv_agg's l2: 0.226947 + 0.047554\n"
     ]
    },
    {
     "name": "stderr",
     "output_type": "stream",
     "text": [
      "feature_fraction, val_score: 0.220042:  86%|######################################5      | 6/7 [00:20<00:04,  4.10s/it][I 2023-11-09 20:47:04,303] Trial 5 finished with value: 0.22665976009125152 and parameters: {'feature_fraction': 0.7}. Best is trial 0 with value: 0.2200419796718629.\n",
      "feature_fraction, val_score: 0.220042:  86%|######################################5      | 6/7 [00:20<00:04,  4.10s/it]"
     ]
    },
    {
     "name": "stdout",
     "output_type": "stream",
     "text": [
      "Early stopping, best iteration is:\n",
      "[223]\tcv_agg's l2: 0.220042 + 0.0452659\n",
      "[100]\tcv_agg's l2: 0.23413 + 0.0515182\n",
      "[200]\tcv_agg's l2: 0.232574 + 0.049644\n",
      "[300]\tcv_agg's l2: 0.234584 + 0.0510205\n"
     ]
    },
    {
     "name": "stderr",
     "output_type": "stream",
     "text": [
      "feature_fraction, val_score: 0.220042: 100%|#############################################| 7/7 [00:24<00:00,  4.07s/it][I 2023-11-09 20:47:08,300] Trial 6 finished with value: 0.23262403775826185 and parameters: {'feature_fraction': 1.0}. Best is trial 0 with value: 0.2200419796718629.\n",
      "feature_fraction, val_score: 0.220042: 100%|#############################################| 7/7 [00:24<00:00,  3.56s/it]\n"
     ]
    },
    {
     "name": "stdout",
     "output_type": "stream",
     "text": [
      "Early stopping, best iteration is:\n",
      "[223]\tcv_agg's l2: 0.220042 + 0.0452659\n"
     ]
    },
    {
     "name": "stderr",
     "output_type": "stream",
     "text": [
      "num_leaves, val_score: 0.220042:   0%|                                                          | 0/20 [00:00<?, ?it/s]"
     ]
    },
    {
     "name": "stdout",
     "output_type": "stream",
     "text": [
      "[100]\tcv_agg's l2: 0.226015 + 0.0436077\n",
      "[200]\tcv_agg's l2: 0.22066 + 0.0457742\n",
      "[300]\tcv_agg's l2: 0.220675 + 0.0454667\n"
     ]
    },
    {
     "name": "stderr",
     "output_type": "stream",
     "text": [
      "num_leaves, val_score: 0.220042:   5%|##5                                               | 1/20 [00:03<01:12,  3.82s/it][I 2023-11-09 20:47:12,124] Trial 7 finished with value: 0.2200419796718629 and parameters: {'num_leaves': 115}. Best is trial 7 with value: 0.2200419796718629.\n",
      "num_leaves, val_score: 0.220042:   5%|##5                                               | 1/20 [00:03<01:12,  3.82s/it]"
     ]
    },
    {
     "name": "stdout",
     "output_type": "stream",
     "text": [
      "Early stopping, best iteration is:\n",
      "[223]\tcv_agg's l2: 0.220042 + 0.0452659\n",
      "[100]\tcv_agg's l2: 0.226015 + 0.0436077\n",
      "[200]\tcv_agg's l2: 0.22066 + 0.0457742\n",
      "[300]\tcv_agg's l2: 0.220675 + 0.0454667\n"
     ]
    },
    {
     "name": "stderr",
     "output_type": "stream",
     "text": [
      "num_leaves, val_score: 0.220042:  10%|#####                                             | 2/20 [00:07<01:09,  3.85s/it][I 2023-11-09 20:47:15,994] Trial 8 finished with value: 0.2200419796718629 and parameters: {'num_leaves': 223}. Best is trial 7 with value: 0.2200419796718629.\n",
      "num_leaves, val_score: 0.220042:  10%|#####                                             | 2/20 [00:07<01:09,  3.85s/it]"
     ]
    },
    {
     "name": "stdout",
     "output_type": "stream",
     "text": [
      "Early stopping, best iteration is:\n",
      "[223]\tcv_agg's l2: 0.220042 + 0.0452659\n",
      "[100]\tcv_agg's l2: 0.226015 + 0.0436077\n",
      "[200]\tcv_agg's l2: 0.22066 + 0.0457742\n",
      "[300]\tcv_agg's l2: 0.220675 + 0.0454667\n"
     ]
    },
    {
     "name": "stderr",
     "output_type": "stream",
     "text": [
      "num_leaves, val_score: 0.220042:  15%|#######5                                          | 3/20 [00:11<01:05,  3.88s/it][I 2023-11-09 20:47:19,911] Trial 9 finished with value: 0.2200419796718629 and parameters: {'num_leaves': 126}. Best is trial 7 with value: 0.2200419796718629.\n",
      "num_leaves, val_score: 0.220042:  15%|#######5                                          | 3/20 [00:11<01:05,  3.88s/it]"
     ]
    },
    {
     "name": "stdout",
     "output_type": "stream",
     "text": [
      "Early stopping, best iteration is:\n",
      "[223]\tcv_agg's l2: 0.220042 + 0.0452659\n",
      "[100]\tcv_agg's l2: 0.232793 + 0.0435038\n",
      "[200]\tcv_agg's l2: 0.224466 + 0.0417841\n"
     ]
    },
    {
     "name": "stderr",
     "output_type": "stream",
     "text": [
      "num_leaves, val_score: 0.220042:  20%|##########                                        | 4/20 [00:13<00:52,  3.27s/it][I 2023-11-09 20:47:22,256] Trial 10 finished with value: 0.22372438325032834 and parameters: {'num_leaves': 11}. Best is trial 7 with value: 0.2200419796718629.\n",
      "num_leaves, val_score: 0.220042:  20%|##########                                        | 4/20 [00:13<00:52,  3.27s/it]"
     ]
    },
    {
     "name": "stdout",
     "output_type": "stream",
     "text": [
      "[300]\tcv_agg's l2: 0.221236 + 0.0403019\n",
      "Early stopping, best iteration is:\n",
      "[223]\tcv_agg's l2: 0.220042 + 0.0452659\n",
      "[100]\tcv_agg's l2: 0.226015 + 0.0436077\n",
      "[200]\tcv_agg's l2: 0.22066 + 0.0457742\n",
      "[300]\tcv_agg's l2: 0.220675 + 0.0454667\n"
     ]
    },
    {
     "name": "stderr",
     "output_type": "stream",
     "text": [
      "num_leaves, val_score: 0.220042:  25%|############5                                     | 5/20 [00:17<00:52,  3.48s/it][I 2023-11-09 20:47:26,089] Trial 11 finished with value: 0.2200419796718629 and parameters: {'num_leaves': 112}. Best is trial 7 with value: 0.2200419796718629.\n",
      "num_leaves, val_score: 0.220042:  25%|############5                                     | 5/20 [00:17<00:52,  3.48s/it]"
     ]
    },
    {
     "name": "stdout",
     "output_type": "stream",
     "text": [
      "Early stopping, best iteration is:\n",
      "[223]\tcv_agg's l2: 0.220042 + 0.0452659\n",
      "[100]\tcv_agg's l2: 0.226015 + 0.0436077\n",
      "[200]\tcv_agg's l2: 0.22066 + 0.0457742\n",
      "[300]\tcv_agg's l2: 0.220675 + 0.0454667\n"
     ]
    },
    {
     "name": "stderr",
     "output_type": "stream",
     "text": [
      "num_leaves, val_score: 0.220042:  30%|###############                                   | 6/20 [00:21<00:49,  3.51s/it][I 2023-11-09 20:47:29,680] Trial 12 finished with value: 0.2200419796718629 and parameters: {'num_leaves': 40}. Best is trial 7 with value: 0.2200419796718629.\n",
      "num_leaves, val_score: 0.220042:  30%|###############                                   | 6/20 [00:21<00:49,  3.51s/it]"
     ]
    },
    {
     "name": "stdout",
     "output_type": "stream",
     "text": [
      "Early stopping, best iteration is:\n",
      "[223]\tcv_agg's l2: 0.220042 + 0.0452659\n",
      "[100]\tcv_agg's l2: 0.226015 + 0.0436077\n",
      "[200]\tcv_agg's l2: 0.22066 + 0.0457742\n",
      "[300]\tcv_agg's l2: 0.220675 + 0.0454667\n"
     ]
    },
    {
     "name": "stderr",
     "output_type": "stream",
     "text": [
      "num_leaves, val_score: 0.220042:  35%|#################5                                | 7/20 [00:25<00:47,  3.68s/it][I 2023-11-09 20:47:33,708] Trial 13 finished with value: 0.2200419796718629 and parameters: {'num_leaves': 224}. Best is trial 7 with value: 0.2200419796718629.\n",
      "num_leaves, val_score: 0.220042:  35%|#################5                                | 7/20 [00:25<00:47,  3.68s/it]"
     ]
    },
    {
     "name": "stdout",
     "output_type": "stream",
     "text": [
      "Early stopping, best iteration is:\n",
      "[223]\tcv_agg's l2: 0.220042 + 0.0452659\n",
      "[100]\tcv_agg's l2: 0.226015 + 0.0436077\n",
      "[200]\tcv_agg's l2: 0.22066 + 0.0457742\n",
      "[300]\tcv_agg's l2: 0.220675 + 0.0454667\n"
     ]
    },
    {
     "name": "stderr",
     "output_type": "stream",
     "text": [
      "num_leaves, val_score: 0.220042:  40%|####################                              | 8/20 [00:29<00:44,  3.70s/it][I 2023-11-09 20:47:37,459] Trial 14 finished with value: 0.2200419796718629 and parameters: {'num_leaves': 79}. Best is trial 7 with value: 0.2200419796718629.\n",
      "num_leaves, val_score: 0.220042:  40%|####################                              | 8/20 [00:29<00:44,  3.70s/it]"
     ]
    },
    {
     "name": "stdout",
     "output_type": "stream",
     "text": [
      "Early stopping, best iteration is:\n",
      "[223]\tcv_agg's l2: 0.220042 + 0.0452659\n",
      "[100]\tcv_agg's l2: 0.226015 + 0.0436077\n",
      "[200]\tcv_agg's l2: 0.22066 + 0.0457742\n",
      "[300]\tcv_agg's l2: 0.220675 + 0.0454667\n"
     ]
    },
    {
     "name": "stderr",
     "output_type": "stream",
     "text": [
      "num_leaves, val_score: 0.220042:  45%|######################5                           | 9/20 [00:32<00:40,  3.72s/it][I 2023-11-09 20:47:41,201] Trial 15 finished with value: 0.2200419796718629 and parameters: {'num_leaves': 175}. Best is trial 7 with value: 0.2200419796718629.\n",
      "num_leaves, val_score: 0.220042:  45%|######################5                           | 9/20 [00:32<00:40,  3.72s/it]"
     ]
    },
    {
     "name": "stdout",
     "output_type": "stream",
     "text": [
      "Early stopping, best iteration is:\n",
      "[223]\tcv_agg's l2: 0.220042 + 0.0452659\n",
      "[100]\tcv_agg's l2: 0.226015 + 0.0436077\n",
      "[200]\tcv_agg's l2: 0.22066 + 0.0457742\n",
      "[300]\tcv_agg's l2: 0.220675 + 0.0454667\n"
     ]
    },
    {
     "name": "stderr",
     "output_type": "stream",
     "text": [
      "num_leaves, val_score: 0.220042:  50%|########################5                        | 10/20 [00:36<00:37,  3.72s/it][I 2023-11-09 20:47:44,931] Trial 16 finished with value: 0.2200419796718629 and parameters: {'num_leaves': 170}. Best is trial 7 with value: 0.2200419796718629.\n",
      "num_leaves, val_score: 0.220042:  50%|########################5                        | 10/20 [00:36<00:37,  3.72s/it]"
     ]
    },
    {
     "name": "stdout",
     "output_type": "stream",
     "text": [
      "Early stopping, best iteration is:\n",
      "[223]\tcv_agg's l2: 0.220042 + 0.0452659\n",
      "[100]\tcv_agg's l2: 0.226015 + 0.0436077\n",
      "[200]\tcv_agg's l2: 0.22066 + 0.0457742\n",
      "[300]\tcv_agg's l2: 0.220675 + 0.0454667\n"
     ]
    },
    {
     "name": "stderr",
     "output_type": "stream",
     "text": [
      "num_leaves, val_score: 0.220042:  55%|##########################9                      | 11/20 [00:40<00:33,  3.72s/it][I 2023-11-09 20:47:48,642] Trial 17 finished with value: 0.2200419796718629 and parameters: {'num_leaves': 73}. Best is trial 7 with value: 0.2200419796718629.\n",
      "num_leaves, val_score: 0.220042:  55%|##########################9                      | 11/20 [00:40<00:33,  3.72s/it]"
     ]
    },
    {
     "name": "stdout",
     "output_type": "stream",
     "text": [
      "Early stopping, best iteration is:\n",
      "[223]\tcv_agg's l2: 0.220042 + 0.0452659\n",
      "[100]\tcv_agg's l2: 0.226015 + 0.0436077\n",
      "[200]\tcv_agg's l2: 0.22066 + 0.0457742\n",
      "[300]\tcv_agg's l2: 0.220675 + 0.0454667\n"
     ]
    },
    {
     "name": "stderr",
     "output_type": "stream",
     "text": [
      "num_leaves, val_score: 0.220042:  60%|#############################4                   | 12/20 [00:44<00:29,  3.73s/it][I 2023-11-09 20:47:52,391] Trial 18 finished with value: 0.2200419796718629 and parameters: {'num_leaves': 153}. Best is trial 7 with value: 0.2200419796718629.\n",
      "num_leaves, val_score: 0.220042:  60%|#############################4                   | 12/20 [00:44<00:29,  3.73s/it]"
     ]
    },
    {
     "name": "stdout",
     "output_type": "stream",
     "text": [
      "Early stopping, best iteration is:\n",
      "[223]\tcv_agg's l2: 0.220042 + 0.0452659\n",
      "[100]\tcv_agg's l2: 0.226015 + 0.0436077\n",
      "[200]\tcv_agg's l2: 0.22066 + 0.0457742\n",
      "[300]\tcv_agg's l2: 0.220675 + 0.0454667\n"
     ]
    },
    {
     "name": "stderr",
     "output_type": "stream",
     "text": [
      "num_leaves, val_score: 0.220042:  65%|###############################8                 | 13/20 [00:48<00:26,  3.80s/it][I 2023-11-09 20:47:56,368] Trial 19 finished with value: 0.2200419796718629 and parameters: {'num_leaves': 253}. Best is trial 7 with value: 0.2200419796718629.\n",
      "num_leaves, val_score: 0.220042:  65%|###############################8                 | 13/20 [00:48<00:26,  3.80s/it]"
     ]
    },
    {
     "name": "stdout",
     "output_type": "stream",
     "text": [
      "Early stopping, best iteration is:\n",
      "[223]\tcv_agg's l2: 0.220042 + 0.0452659\n",
      "[100]\tcv_agg's l2: 0.226015 + 0.0436077\n",
      "[200]\tcv_agg's l2: 0.22066 + 0.0457742\n",
      "[300]\tcv_agg's l2: 0.220675 + 0.0454667\n"
     ]
    },
    {
     "name": "stderr",
     "output_type": "stream",
     "text": [
      "num_leaves, val_score: 0.220042:  70%|##################################3              | 14/20 [00:51<00:23,  3.84s/it][I 2023-11-09 20:48:00,285] Trial 20 finished with value: 0.2200419796718629 and parameters: {'num_leaves': 91}. Best is trial 7 with value: 0.2200419796718629.\n",
      "num_leaves, val_score: 0.220042:  70%|##################################3              | 14/20 [00:51<00:23,  3.84s/it]"
     ]
    },
    {
     "name": "stdout",
     "output_type": "stream",
     "text": [
      "Early stopping, best iteration is:\n",
      "[223]\tcv_agg's l2: 0.220042 + 0.0452659\n",
      "[100]\tcv_agg's l2: 0.226015 + 0.0436077\n",
      "[200]\tcv_agg's l2: 0.22066 + 0.0457742\n",
      "[300]\tcv_agg's l2: 0.220675 + 0.0454667\n"
     ]
    },
    {
     "name": "stderr",
     "output_type": "stream",
     "text": [
      "num_leaves, val_score: 0.220042:  75%|####################################7            | 15/20 [00:56<00:19,  3.91s/it][I 2023-11-09 20:48:04,364] Trial 21 finished with value: 0.2200419796718629 and parameters: {'num_leaves': 205}. Best is trial 7 with value: 0.2200419796718629.\n",
      "num_leaves, val_score: 0.220042:  75%|####################################7            | 15/20 [00:56<00:19,  3.91s/it]"
     ]
    },
    {
     "name": "stdout",
     "output_type": "stream",
     "text": [
      "Early stopping, best iteration is:\n",
      "[223]\tcv_agg's l2: 0.220042 + 0.0452659\n",
      "[100]\tcv_agg's l2: 0.226015 + 0.0436077\n",
      "[200]\tcv_agg's l2: 0.22066 + 0.0457742\n",
      "[300]\tcv_agg's l2: 0.220675 + 0.0454667\n"
     ]
    },
    {
     "name": "stderr",
     "output_type": "stream",
     "text": [
      "num_leaves, val_score: 0.220042:  80%|#######################################2         | 16/20 [01:01<00:17,  4.34s/it][I 2023-11-09 20:48:09,691] Trial 22 finished with value: 0.2200419796718629 and parameters: {'num_leaves': 202}. Best is trial 7 with value: 0.2200419796718629.\n",
      "num_leaves, val_score: 0.220042:  80%|#######################################2         | 16/20 [01:01<00:17,  4.34s/it]"
     ]
    },
    {
     "name": "stdout",
     "output_type": "stream",
     "text": [
      "Early stopping, best iteration is:\n",
      "[223]\tcv_agg's l2: 0.220042 + 0.0452659\n",
      "[100]\tcv_agg's l2: 0.226015 + 0.0436077\n",
      "[200]\tcv_agg's l2: 0.22066 + 0.0457742\n",
      "[300]\tcv_agg's l2: 0.220675 + 0.0454667\n"
     ]
    },
    {
     "name": "stderr",
     "output_type": "stream",
     "text": [
      "num_leaves, val_score: 0.220042:  85%|#########################################6       | 17/20 [01:05<00:12,  4.20s/it][I 2023-11-09 20:48:13,563] Trial 23 finished with value: 0.2200419796718629 and parameters: {'num_leaves': 144}. Best is trial 7 with value: 0.2200419796718629.\n",
      "num_leaves, val_score: 0.220042:  85%|#########################################6       | 17/20 [01:05<00:12,  4.20s/it]"
     ]
    },
    {
     "name": "stdout",
     "output_type": "stream",
     "text": [
      "Early stopping, best iteration is:\n",
      "[223]\tcv_agg's l2: 0.220042 + 0.0452659\n",
      "[100]\tcv_agg's l2: 0.226015 + 0.0436077\n",
      "[200]\tcv_agg's l2: 0.22066 + 0.0457742\n",
      "[300]\tcv_agg's l2: 0.220675 + 0.0454667\n"
     ]
    },
    {
     "name": "stderr",
     "output_type": "stream",
     "text": [
      "num_leaves, val_score: 0.220042:  90%|############################################1    | 18/20 [01:09<00:08,  4.14s/it][I 2023-11-09 20:48:17,560] Trial 24 finished with value: 0.2200419796718629 and parameters: {'num_leaves': 49}. Best is trial 7 with value: 0.2200419796718629.\n",
      "num_leaves, val_score: 0.220042:  90%|############################################1    | 18/20 [01:09<00:08,  4.14s/it]"
     ]
    },
    {
     "name": "stdout",
     "output_type": "stream",
     "text": [
      "Early stopping, best iteration is:\n",
      "[223]\tcv_agg's l2: 0.220042 + 0.0452659\n",
      "[100]\tcv_agg's l2: 0.226015 + 0.0436077\n",
      "[200]\tcv_agg's l2: 0.22066 + 0.0457742\n",
      "[300]\tcv_agg's l2: 0.220675 + 0.0454667\n"
     ]
    },
    {
     "name": "stderr",
     "output_type": "stream",
     "text": [
      "num_leaves, val_score: 0.220042:  95%|##############################################5  | 19/20 [01:13<00:04,  4.06s/it][I 2023-11-09 20:48:21,456] Trial 25 finished with value: 0.2200419796718629 and parameters: {'num_leaves': 106}. Best is trial 7 with value: 0.2200419796718629.\n",
      "num_leaves, val_score: 0.220042:  95%|##############################################5  | 19/20 [01:13<00:04,  4.06s/it]"
     ]
    },
    {
     "name": "stdout",
     "output_type": "stream",
     "text": [
      "Early stopping, best iteration is:\n",
      "[223]\tcv_agg's l2: 0.220042 + 0.0452659\n",
      "[100]\tcv_agg's l2: 0.226015 + 0.0436077\n",
      "[200]\tcv_agg's l2: 0.22066 + 0.0457742\n",
      "[300]\tcv_agg's l2: 0.220675 + 0.0454667\n"
     ]
    },
    {
     "name": "stderr",
     "output_type": "stream",
     "text": [
      "num_leaves, val_score: 0.220042: 100%|#################################################| 20/20 [01:17<00:00,  4.04s/it][I 2023-11-09 20:48:25,447] Trial 26 finished with value: 0.2200419796718629 and parameters: {'num_leaves': 232}. Best is trial 7 with value: 0.2200419796718629.\n",
      "num_leaves, val_score: 0.220042: 100%|#################################################| 20/20 [01:17<00:00,  3.86s/it]\n"
     ]
    },
    {
     "name": "stdout",
     "output_type": "stream",
     "text": [
      "Early stopping, best iteration is:\n",
      "[223]\tcv_agg's l2: 0.220042 + 0.0452659\n"
     ]
    },
    {
     "name": "stderr",
     "output_type": "stream",
     "text": [
      "bagging, val_score: 0.220042:   0%|                                                             | 0/10 [00:00<?, ?it/s]"
     ]
    },
    {
     "name": "stdout",
     "output_type": "stream",
     "text": [
      "[100]\tcv_agg's l2: 0.246952 + 0.0538385\n",
      "[200]\tcv_agg's l2: 0.238038 + 0.0592441\n",
      "[300]\tcv_agg's l2: 0.234962 + 0.056993\n"
     ]
    },
    {
     "name": "stderr",
     "output_type": "stream",
     "text": [
      "bagging, val_score: 0.220042:  10%|#####3                                               | 1/10 [00:03<00:28,  3.19s/it][I 2023-11-09 20:48:28,643] Trial 27 finished with value: 0.2349681730611725 and parameters: {'bagging_fraction': 0.7649858899783325, 'bagging_freq': 7}. Best is trial 27 with value: 0.2349681730611725.\n",
      "bagging, val_score: 0.220042:  10%|#####3                                               | 1/10 [00:03<00:28,  3.19s/it]"
     ]
    },
    {
     "name": "stdout",
     "output_type": "stream",
     "text": [
      "Early stopping, best iteration is:\n",
      "[223]\tcv_agg's l2: 0.220042 + 0.0452659\n",
      "[100]\tcv_agg's l2: 0.282006 + 0.0653542\n",
      "[200]\tcv_agg's l2: 0.267659 + 0.0622139\n"
     ]
    },
    {
     "name": "stderr",
     "output_type": "stream",
     "text": [
      "bagging, val_score: 0.220042:  20%|##########6                                          | 2/10 [00:05<00:21,  2.66s/it][I 2023-11-09 20:48:30,939] Trial 28 finished with value: 0.2662564304883695 and parameters: {'bagging_fraction': 0.47777997813848705, 'bagging_freq': 1}. Best is trial 27 with value: 0.2349681730611725.\n",
      "bagging, val_score: 0.220042:  20%|##########6                                          | 2/10 [00:05<00:21,  2.66s/it]"
     ]
    },
    {
     "name": "stdout",
     "output_type": "stream",
     "text": [
      "[300]\tcv_agg's l2: 0.264784 + 0.0617097\n",
      "Early stopping, best iteration is:\n",
      "[223]\tcv_agg's l2: 0.220042 + 0.0452659\n",
      "[100]\tcv_agg's l2: 0.225077 + 0.0405882\n",
      "[200]\tcv_agg's l2: 0.221666 + 0.045845\n",
      "[300]\tcv_agg's l2: 0.222448 + 0.0464222\n"
     ]
    },
    {
     "name": "stderr",
     "output_type": "stream",
     "text": [
      "bagging, val_score: 0.220042:  30%|###############9                                     | 3/10 [00:09<00:22,  3.23s/it][I 2023-11-09 20:48:34,853] Trial 29 finished with value: 0.221483879647942 and parameters: {'bagging_fraction': 0.9953994613905677, 'bagging_freq': 4}. Best is trial 29 with value: 0.221483879647942.\n",
      "bagging, val_score: 0.220042:  30%|###############9                                     | 3/10 [00:09<00:22,  3.23s/it]"
     ]
    },
    {
     "name": "stdout",
     "output_type": "stream",
     "text": [
      "Early stopping, best iteration is:\n",
      "[223]\tcv_agg's l2: 0.220042 + 0.0452659\n",
      "[100]\tcv_agg's l2: 0.289489 + 0.055183\n",
      "[200]\tcv_agg's l2: 0.271675 + 0.0527059\n"
     ]
    },
    {
     "name": "stderr",
     "output_type": "stream",
     "text": [
      "bagging, val_score: 0.220042:  40%|#####################2                               | 4/10 [00:11<00:16,  2.78s/it][I 2023-11-09 20:48:36,946] Trial 30 finished with value: 0.2707434039298341 and parameters: {'bagging_fraction': 0.4199603342660445, 'bagging_freq': 1}. Best is trial 29 with value: 0.221483879647942.\n",
      "bagging, val_score: 0.220042:  40%|#####################2                               | 4/10 [00:11<00:16,  2.78s/it]"
     ]
    },
    {
     "name": "stdout",
     "output_type": "stream",
     "text": [
      "[300]\tcv_agg's l2: 0.269125 + 0.0523526\n",
      "Early stopping, best iteration is:\n",
      "[223]\tcv_agg's l2: 0.220042 + 0.0452659\n",
      "[100]\tcv_agg's l2: 0.260883 + 0.0594331\n",
      "[200]\tcv_agg's l2: 0.254642 + 0.0624386\n"
     ]
    },
    {
     "name": "stderr",
     "output_type": "stream",
     "text": [
      "\r",
      "bagging, val_score: 0.220042:  40%|#####################2                               | 4/10 [00:14<00:16,  2.78s/it]"
     ]
    },
    {
     "name": "stdout",
     "output_type": "stream",
     "text": [
      "[300]\tcv_agg's l2: 0.254115 + 0.0704446\n",
      "Early stopping, best iteration is:\n",
      "[223]\tcv_agg's l2: 0.220042 + 0.0452659\n"
     ]
    },
    {
     "name": "stderr",
     "output_type": "stream",
     "text": [
      "bagging, val_score: 0.220042:  50%|##########################5                          | 5/10 [00:14<00:13,  2.78s/it][I 2023-11-09 20:48:39,726] Trial 31 finished with value: 0.25297018600445137 and parameters: {'bagging_fraction': 0.6689267701380307, 'bagging_freq': 7}. Best is trial 29 with value: 0.221483879647942.\n",
      "bagging, val_score: 0.220042:  50%|##########################5                          | 5/10 [00:14<00:13,  2.78s/it]"
     ]
    },
    {
     "name": "stdout",
     "output_type": "stream",
     "text": [
      "[100]\tcv_agg's l2: 0.234157 + 0.0531353\n",
      "[200]\tcv_agg's l2: 0.225036 + 0.0450951\n",
      "[300]\tcv_agg's l2: 0.224227 + 0.0444602\n"
     ]
    },
    {
     "name": "stderr",
     "output_type": "stream",
     "text": [
      "bagging, val_score: 0.220042:  60%|###############################8                     | 6/10 [00:18<00:12,  3.13s/it][I 2023-11-09 20:48:43,531] Trial 32 finished with value: 0.22454800742006115 and parameters: {'bagging_fraction': 0.9289324800677073, 'bagging_freq': 4}. Best is trial 29 with value: 0.221483879647942.\n",
      "bagging, val_score: 0.220042:  60%|###############################8                     | 6/10 [00:18<00:12,  3.13s/it]"
     ]
    },
    {
     "name": "stdout",
     "output_type": "stream",
     "text": [
      "Early stopping, best iteration is:\n",
      "[223]\tcv_agg's l2: 0.220042 + 0.0452659\n",
      "[100]\tcv_agg's l2: 0.263939 + 0.0666886\n",
      "[200]\tcv_agg's l2: 0.258341 + 0.068841\n",
      "[300]\tcv_agg's l2: 0.250333 + 0.0644541\n"
     ]
    },
    {
     "name": "stderr",
     "output_type": "stream",
     "text": [
      "bagging, val_score: 0.220042:  70%|#####################################                | 7/10 [00:20<00:08,  2.97s/it][I 2023-11-09 20:48:46,184] Trial 33 finished with value: 0.25527464024737073 and parameters: {'bagging_fraction': 0.6080946975679772, 'bagging_freq': 3}. Best is trial 29 with value: 0.221483879647942.\n",
      "bagging, val_score: 0.220042:  70%|#####################################                | 7/10 [00:20<00:08,  2.97s/it]"
     ]
    },
    {
     "name": "stdout",
     "output_type": "stream",
     "text": [
      "Early stopping, best iteration is:\n",
      "[223]\tcv_agg's l2: 0.220042 + 0.0452659\n",
      "[100]\tcv_agg's l2: 0.242483 + 0.0502788\n",
      "[200]\tcv_agg's l2: 0.232847 + 0.0509605\n",
      "[300]\tcv_agg's l2: 0.230094 + 0.0489372\n"
     ]
    },
    {
     "name": "stderr",
     "output_type": "stream",
     "text": [
      "bagging, val_score: 0.220042:  80%|##########################################4          | 8/10 [00:24<00:06,  3.09s/it][I 2023-11-09 20:48:49,527] Trial 34 finished with value: 0.23226705067156944 and parameters: {'bagging_fraction': 0.830120170369841, 'bagging_freq': 6}. Best is trial 29 with value: 0.221483879647942.\n",
      "bagging, val_score: 0.220042:  80%|##########################################4          | 8/10 [00:24<00:06,  3.09s/it]"
     ]
    },
    {
     "name": "stdout",
     "output_type": "stream",
     "text": [
      "Early stopping, best iteration is:\n",
      "[223]\tcv_agg's l2: 0.220042 + 0.0452659\n",
      "[100]\tcv_agg's l2: 0.262616 + 0.0673155\n",
      "[200]\tcv_agg's l2: 0.253717 + 0.0631576\n"
     ]
    },
    {
     "name": "stderr",
     "output_type": "stream",
     "text": [
      "bagging, val_score: 0.220042:  90%|###############################################7     | 9/10 [00:26<00:02,  2.99s/it][I 2023-11-09 20:48:52,309] Trial 35 finished with value: 0.25078965009501186 and parameters: {'bagging_fraction': 0.5903655144451619, 'bagging_freq': 2}. Best is trial 29 with value: 0.221483879647942.\n",
      "bagging, val_score: 0.220042:  90%|###############################################7     | 9/10 [00:26<00:02,  2.99s/it]"
     ]
    },
    {
     "name": "stdout",
     "output_type": "stream",
     "text": [
      "[300]\tcv_agg's l2: 0.247097 + 0.0663709\n",
      "Early stopping, best iteration is:\n",
      "[223]\tcv_agg's l2: 0.220042 + 0.0452659\n",
      "[100]\tcv_agg's l2: 0.238371 + 0.0505422\n",
      "[200]\tcv_agg's l2: 0.22778 + 0.0476373\n",
      "[300]\tcv_agg's l2: 0.226498 + 0.0467467\n"
     ]
    },
    {
     "name": "stderr",
     "output_type": "stream",
     "text": [
      "bagging, val_score: 0.220042: 100%|####################################################| 10/10 [00:30<00:00,  3.12s/it][I 2023-11-09 20:48:55,712] Trial 36 finished with value: 0.22646889279357083 and parameters: {'bagging_fraction': 0.8538219402281706, 'bagging_freq': 5}. Best is trial 29 with value: 0.221483879647942.\n",
      "bagging, val_score: 0.220042: 100%|####################################################| 10/10 [00:30<00:00,  3.03s/it]\n"
     ]
    },
    {
     "name": "stdout",
     "output_type": "stream",
     "text": [
      "Early stopping, best iteration is:\n",
      "[223]\tcv_agg's l2: 0.220042 + 0.0452659\n"
     ]
    },
    {
     "name": "stderr",
     "output_type": "stream",
     "text": [
      "feature_fraction_stage2, val_score: 0.220042:   0%|                                              | 0/6 [00:00<?, ?it/s]"
     ]
    },
    {
     "name": "stdout",
     "output_type": "stream",
     "text": [
      "[100]\tcv_agg's l2: 0.226015 + 0.0436077\n",
      "[200]\tcv_agg's l2: 0.22066 + 0.0457742\n",
      "[300]\tcv_agg's l2: 0.220675 + 0.0454667\n"
     ]
    },
    {
     "name": "stderr",
     "output_type": "stream",
     "text": [
      "feature_fraction_stage2, val_score: 0.220042:  17%|######3                               | 1/6 [00:03<00:19,  3.92s/it][I 2023-11-09 20:48:59,640] Trial 37 finished with value: 0.2200419796718629 and parameters: {'feature_fraction': 0.584}. Best is trial 37 with value: 0.2200419796718629.\n",
      "feature_fraction_stage2, val_score: 0.220042:  17%|######3                               | 1/6 [00:03<00:19,  3.92s/it]"
     ]
    },
    {
     "name": "stdout",
     "output_type": "stream",
     "text": [
      "Early stopping, best iteration is:\n",
      "[223]\tcv_agg's l2: 0.220042 + 0.0452659\n",
      "[100]\tcv_agg's l2: 0.226015 + 0.0436077\n",
      "[200]\tcv_agg's l2: 0.22066 + 0.0457742\n",
      "[300]\tcv_agg's l2: 0.220675 + 0.0454667\n"
     ]
    },
    {
     "name": "stderr",
     "output_type": "stream",
     "text": [
      "feature_fraction_stage2, val_score: 0.220042:  33%|############6                         | 2/6 [00:07<00:15,  3.98s/it][I 2023-11-09 20:49:03,665] Trial 38 finished with value: 0.2200419796718629 and parameters: {'feature_fraction': 0.6799999999999999}. Best is trial 37 with value: 0.2200419796718629.\n",
      "feature_fraction_stage2, val_score: 0.220042:  33%|############6                         | 2/6 [00:07<00:15,  3.98s/it]"
     ]
    },
    {
     "name": "stdout",
     "output_type": "stream",
     "text": [
      "Early stopping, best iteration is:\n",
      "[223]\tcv_agg's l2: 0.220042 + 0.0452659\n",
      "[100]\tcv_agg's l2: 0.404458 + 0.0921388\n",
      "[200]\tcv_agg's l2: 0.342887 + 0.0774405\n",
      "[300]\tcv_agg's l2: 0.320127 + 0.0706401\n"
     ]
    },
    {
     "name": "stderr",
     "output_type": "stream",
     "text": [
      "feature_fraction_stage2, val_score: 0.220042:  50%|###################                   | 3/6 [00:11<00:11,  3.96s/it][I 2023-11-09 20:49:07,601] Trial 39 finished with value: 0.3351716358358906 and parameters: {'feature_fraction': 0.552}. Best is trial 37 with value: 0.2200419796718629.\n",
      "feature_fraction_stage2, val_score: 0.220042:  50%|###################                   | 3/6 [00:11<00:11,  3.96s/it]"
     ]
    },
    {
     "name": "stdout",
     "output_type": "stream",
     "text": [
      "Early stopping, best iteration is:\n",
      "[223]\tcv_agg's l2: 0.220042 + 0.0452659\n",
      "[100]\tcv_agg's l2: 0.226015 + 0.0436077\n",
      "[200]\tcv_agg's l2: 0.22066 + 0.0457742\n",
      "[300]\tcv_agg's l2: 0.220675 + 0.0454667\n"
     ]
    },
    {
     "name": "stderr",
     "output_type": "stream",
     "text": [
      "feature_fraction_stage2, val_score: 0.220042:  67%|#########################3            | 4/6 [00:15<00:07,  3.92s/it][I 2023-11-09 20:49:11,463] Trial 40 finished with value: 0.2200419796718629 and parameters: {'feature_fraction': 0.6479999999999999}. Best is trial 37 with value: 0.2200419796718629.\n",
      "feature_fraction_stage2, val_score: 0.220042:  67%|#########################3            | 4/6 [00:15<00:07,  3.92s/it]"
     ]
    },
    {
     "name": "stdout",
     "output_type": "stream",
     "text": [
      "Early stopping, best iteration is:\n",
      "[223]\tcv_agg's l2: 0.220042 + 0.0452659\n",
      "[100]\tcv_agg's l2: 0.226015 + 0.0436077\n",
      "[200]\tcv_agg's l2: 0.22066 + 0.0457742\n",
      "[300]\tcv_agg's l2: 0.220675 + 0.0454667\n"
     ]
    },
    {
     "name": "stderr",
     "output_type": "stream",
     "text": [
      "feature_fraction_stage2, val_score: 0.220042:  83%|###############################6      | 5/6 [00:19<00:03,  3.85s/it][I 2023-11-09 20:49:15,198] Trial 41 finished with value: 0.2200419796718629 and parameters: {'feature_fraction': 0.616}. Best is trial 37 with value: 0.2200419796718629.\n",
      "feature_fraction_stage2, val_score: 0.220042:  83%|###############################6      | 5/6 [00:19<00:03,  3.85s/it]"
     ]
    },
    {
     "name": "stdout",
     "output_type": "stream",
     "text": [
      "Early stopping, best iteration is:\n",
      "[223]\tcv_agg's l2: 0.220042 + 0.0452659\n",
      "[100]\tcv_agg's l2: 0.404458 + 0.0921388\n",
      "[200]\tcv_agg's l2: 0.342887 + 0.0774405\n",
      "[300]\tcv_agg's l2: 0.320127 + 0.0706401\n"
     ]
    },
    {
     "name": "stderr",
     "output_type": "stream",
     "text": [
      "feature_fraction_stage2, val_score: 0.220042: 100%|######################################| 6/6 [00:23<00:00,  3.81s/it][I 2023-11-09 20:49:18,934] Trial 42 finished with value: 0.3351716358358906 and parameters: {'feature_fraction': 0.52}. Best is trial 37 with value: 0.2200419796718629.\n",
      "feature_fraction_stage2, val_score: 0.220042: 100%|######################################| 6/6 [00:23<00:00,  3.87s/it]\n"
     ]
    },
    {
     "name": "stdout",
     "output_type": "stream",
     "text": [
      "Early stopping, best iteration is:\n",
      "[223]\tcv_agg's l2: 0.220042 + 0.0452659\n"
     ]
    },
    {
     "name": "stderr",
     "output_type": "stream",
     "text": [
      "regularization_factors, val_score: 0.220042:   0%|                                              | 0/20 [00:00<?, ?it/s]"
     ]
    },
    {
     "name": "stdout",
     "output_type": "stream",
     "text": [
      "[100]\tcv_agg's l2: 0.225772 + 0.044254\n",
      "[200]\tcv_agg's l2: 0.220437 + 0.0464596\n"
     ]
    },
    {
     "name": "stderr",
     "output_type": "stream",
     "text": [
      "\r",
      "regularization_factors, val_score: 0.219851:   0%|                                              | 0/20 [00:03<?, ?it/s]"
     ]
    },
    {
     "name": "stdout",
     "output_type": "stream",
     "text": [
      "[300]\tcv_agg's l2: 0.221251 + 0.0464011\n",
      "Early stopping, best iteration is:\n",
      "[215]\tcv_agg's l2: 0.219851 + 0.0462492\n"
     ]
    },
    {
     "name": "stderr",
     "output_type": "stream",
     "text": [
      "regularization_factors, val_score: 0.219851:   5%|#9                                    | 1/20 [00:03<01:13,  3.88s/it][I 2023-11-09 20:49:22,818] Trial 43 finished with value: 0.2198509742919849 and parameters: {'lambda_l1': 0.00035681516371166946, 'lambda_l2': 1.326595513535811e-08}. Best is trial 43 with value: 0.2198509742919849.\n",
      "regularization_factors, val_score: 0.219851:   5%|#9                                    | 1/20 [00:03<01:13,  3.88s/it]"
     ]
    },
    {
     "name": "stdout",
     "output_type": "stream",
     "text": [
      "[100]\tcv_agg's l2: 0.224539 + 0.0432884\n",
      "[200]\tcv_agg's l2: 0.22058 + 0.04522\n"
     ]
    },
    {
     "name": "stderr",
     "output_type": "stream",
     "text": [
      "\r",
      "regularization_factors, val_score: 0.219851:   5%|#9                                    | 1/20 [00:07<01:13,  3.88s/it]"
     ]
    },
    {
     "name": "stdout",
     "output_type": "stream",
     "text": [
      "[300]\tcv_agg's l2: 0.221447 + 0.0452682\n",
      "Early stopping, best iteration is:\n",
      "[215]\tcv_agg's l2: 0.219851 + 0.0462492\n"
     ]
    },
    {
     "name": "stderr",
     "output_type": "stream",
     "text": [
      "regularization_factors, val_score: 0.219851:  10%|###8                                  | 2/20 [00:07<01:11,  3.96s/it][I 2023-11-09 20:49:26,836] Trial 44 finished with value: 0.22072055559504408 and parameters: {'lambda_l1': 0.0007754985775750469, 'lambda_l2': 1.5180491733645502e-08}. Best is trial 43 with value: 0.2198509742919849.\n",
      "regularization_factors, val_score: 0.219851:  10%|###8                                  | 2/20 [00:07<01:11,  3.96s/it]"
     ]
    },
    {
     "name": "stdout",
     "output_type": "stream",
     "text": [
      "[100]\tcv_agg's l2: 0.226015 + 0.0436077\n",
      "[200]\tcv_agg's l2: 0.22066 + 0.0457742\n"
     ]
    },
    {
     "name": "stderr",
     "output_type": "stream",
     "text": [
      "\r",
      "regularization_factors, val_score: 0.219851:  10%|###8                                  | 2/20 [00:11<01:11,  3.96s/it]"
     ]
    },
    {
     "name": "stdout",
     "output_type": "stream",
     "text": [
      "[300]\tcv_agg's l2: 0.220675 + 0.0454667\n",
      "Early stopping, best iteration is:\n",
      "[215]\tcv_agg's l2: 0.219851 + 0.0462492\n"
     ]
    },
    {
     "name": "stderr",
     "output_type": "stream",
     "text": [
      "regularization_factors, val_score: 0.219851:  15%|#####7                                | 3/20 [00:11<01:06,  3.89s/it][I 2023-11-09 20:49:30,634] Trial 45 finished with value: 0.22022104761465772 and parameters: {'lambda_l1': 1.3251993920286827e-07, 'lambda_l2': 2.7346328158846462e-08}. Best is trial 43 with value: 0.2198509742919849.\n",
      "regularization_factors, val_score: 0.219851:  15%|#####7                                | 3/20 [00:11<01:06,  3.89s/it]"
     ]
    },
    {
     "name": "stdout",
     "output_type": "stream",
     "text": [
      "[100]\tcv_agg's l2: 0.235745 + 0.0446013\n",
      "[200]\tcv_agg's l2: 0.229757 + 0.0420095\n"
     ]
    },
    {
     "name": "stderr",
     "output_type": "stream",
     "text": [
      "regularization_factors, val_score: 0.219851:  20%|#######6                              | 4/20 [00:14<00:53,  3.36s/it][I 2023-11-09 20:49:33,188] Trial 46 finished with value: 0.22941995096334492 and parameters: {'lambda_l1': 1.1492501853140256, 'lambda_l2': 0.6916254533022542}. Best is trial 43 with value: 0.2198509742919849.\n",
      "regularization_factors, val_score: 0.219851:  20%|#######6                              | 4/20 [00:14<00:53,  3.36s/it]"
     ]
    },
    {
     "name": "stdout",
     "output_type": "stream",
     "text": [
      "[300]\tcv_agg's l2: 0.228704 + 0.0415346\n",
      "Early stopping, best iteration is:\n",
      "[215]\tcv_agg's l2: 0.219851 + 0.0462492\n",
      "[100]\tcv_agg's l2: 0.225772 + 0.0442542\n",
      "[200]\tcv_agg's l2: 0.220434 + 0.0466333\n"
     ]
    },
    {
     "name": "stderr",
     "output_type": "stream",
     "text": [
      "\r",
      "regularization_factors, val_score: 0.219676:  20%|#######6                              | 4/20 [00:18<00:53,  3.36s/it]"
     ]
    },
    {
     "name": "stdout",
     "output_type": "stream",
     "text": [
      "[300]\tcv_agg's l2: 0.220767 + 0.0464839\n",
      "Early stopping, best iteration is:\n",
      "[215]\tcv_agg's l2: 0.219676 + 0.0463301\n"
     ]
    },
    {
     "name": "stderr",
     "output_type": "stream",
     "text": [
      "regularization_factors, val_score: 0.219676:  25%|#########5                            | 5/20 [00:18<00:52,  3.51s/it][I 2023-11-09 20:49:36,951] Trial 47 finished with value: 0.21967619250817308 and parameters: {'lambda_l1': 0.00026470973039453345, 'lambda_l2': 2.09452086543033e-05}. Best is trial 47 with value: 0.21967619250817308.\n",
      "regularization_factors, val_score: 0.219676:  25%|#########5                            | 5/20 [00:18<00:52,  3.51s/it]"
     ]
    },
    {
     "name": "stdout",
     "output_type": "stream",
     "text": [
      "[100]\tcv_agg's l2: 0.225047 + 0.0446192\n",
      "[200]\tcv_agg's l2: 0.219235 + 0.0470887\n",
      "[300]\tcv_agg's l2: 0.218568 + 0.046786\n"
     ]
    },
    {
     "name": "stderr",
     "output_type": "stream",
     "text": [
      "regularization_factors, val_score: 0.218022:  30%|###########4                          | 6/20 [00:21<00:50,  3.60s/it][I 2023-11-09 20:49:40,743] Trial 48 finished with value: 0.21802162869247912 and parameters: {'lambda_l1': 0.0002066694977741208, 'lambda_l2': 2.5978263217002655e-05}. Best is trial 48 with value: 0.21802162869247912.\n",
      "regularization_factors, val_score: 0.218022:  30%|###########4                          | 6/20 [00:21<00:50,  3.60s/it]"
     ]
    },
    {
     "name": "stdout",
     "output_type": "stream",
     "text": [
      "Early stopping, best iteration is:\n",
      "[218]\tcv_agg's l2: 0.218022 + 0.0466595\n",
      "[100]\tcv_agg's l2: 0.226263 + 0.0438884\n",
      "[200]\tcv_agg's l2: 0.220578 + 0.0461122\n",
      "[300]\tcv_agg's l2: 0.221307 + 0.0449535\n"
     ]
    },
    {
     "name": "stderr",
     "output_type": "stream",
     "text": [
      "regularization_factors, val_score: 0.218022:  35%|#############3                        | 7/20 [00:25<00:47,  3.65s/it][I 2023-11-09 20:49:44,476] Trial 49 finished with value: 0.2200994359572145 and parameters: {'lambda_l1': 0.00013312049926724652, 'lambda_l2': 2.611976511548705e-05}. Best is trial 48 with value: 0.21802162869247912.\n",
      "regularization_factors, val_score: 0.218022:  35%|#############3                        | 7/20 [00:25<00:47,  3.65s/it]"
     ]
    },
    {
     "name": "stdout",
     "output_type": "stream",
     "text": [
      "Early stopping, best iteration is:\n",
      "[218]\tcv_agg's l2: 0.218022 + 0.0466595\n",
      "[100]\tcv_agg's l2: 0.225572 + 0.044249\n",
      "[200]\tcv_agg's l2: 0.220724 + 0.0460468\n",
      "[300]\tcv_agg's l2: 0.220168 + 0.0457341\n",
      "Early stopping, best iteration is:\n",
      "[218]\tcv_agg's l2: 0.218022 + 0.0466595\n"
     ]
    },
    {
     "name": "stderr",
     "output_type": "stream",
     "text": [
      "regularization_factors, val_score: 0.218022:  40%|###############2                      | 8/20 [00:29<00:44,  3.71s/it][I 2023-11-09 20:49:48,324] Trial 50 finished with value: 0.21965522270215562 and parameters: {'lambda_l1': 0.00019798016559746253, 'lambda_l2': 1.7587602208371694e-05}. Best is trial 48 with value: 0.21802162869247912.\n",
      "regularization_factors, val_score: 0.218022:  40%|###############2                      | 8/20 [00:29<00:44,  3.71s/it]"
     ]
    },
    {
     "name": "stdout",
     "output_type": "stream",
     "text": [
      "[100]\tcv_agg's l2: 0.225572 + 0.044249\n",
      "[200]\tcv_agg's l2: 0.220724 + 0.0460467\n",
      "[300]\tcv_agg's l2: 0.220403 + 0.0454306\n"
     ]
    },
    {
     "name": "stderr",
     "output_type": "stream",
     "text": [
      "regularization_factors, val_score: 0.218022:  45%|#################1                    | 9/20 [00:33<00:41,  3.74s/it][I 2023-11-09 20:49:52,125] Trial 51 finished with value: 0.21972958990981512 and parameters: {'lambda_l1': 0.00019309414380499002, 'lambda_l2': 3.174869782934231e-05}. Best is trial 48 with value: 0.21802162869247912.\n",
      "regularization_factors, val_score: 0.218022:  45%|#################1                    | 9/20 [00:33<00:41,  3.74s/it]"
     ]
    },
    {
     "name": "stdout",
     "output_type": "stream",
     "text": [
      "Early stopping, best iteration is:\n",
      "[218]\tcv_agg's l2: 0.218022 + 0.0466595\n",
      "[100]\tcv_agg's l2: 0.225771 + 0.0442547\n",
      "[200]\tcv_agg's l2: 0.220033 + 0.0469383\n",
      "[300]\tcv_agg's l2: 0.220448 + 0.0467232\n",
      "Early stopping, best iteration is:\n",
      "[218]\tcv_agg's l2: 0.218022 + 0.0466595\n"
     ]
    },
    {
     "name": "stderr",
     "output_type": "stream",
     "text": [
      "regularization_factors, val_score: 0.218022:  50%|##################5                  | 10/20 [00:36<00:37,  3.74s/it][I 2023-11-09 20:49:55,876] Trial 52 finished with value: 0.21943517975443835 and parameters: {'lambda_l1': 0.00024714186203237467, 'lambda_l2': 3.301929372344973e-05}. Best is trial 48 with value: 0.21802162869247912.\n",
      "regularization_factors, val_score: 0.218022:  50%|##################5                  | 10/20 [00:36<00:37,  3.74s/it]"
     ]
    },
    {
     "name": "stdout",
     "output_type": "stream",
     "text": [
      "[100]\tcv_agg's l2: 0.225771 + 0.0442547\n",
      "[200]\tcv_agg's l2: 0.220033 + 0.0469383\n",
      "[300]\tcv_agg's l2: 0.220448 + 0.0467232\n"
     ]
    },
    {
     "name": "stderr",
     "output_type": "stream",
     "text": [
      "regularization_factors, val_score: 0.218022:  55%|####################3                | 11/20 [00:40<00:33,  3.78s/it][I 2023-11-09 20:49:59,731] Trial 53 finished with value: 0.21943518817704571 and parameters: {'lambda_l1': 0.00024418379970221404, 'lambda_l2': 2.7426939881113535e-05}. Best is trial 48 with value: 0.21802162869247912.\n",
      "regularization_factors, val_score: 0.218022:  55%|####################3                | 11/20 [00:40<00:33,  3.78s/it]"
     ]
    },
    {
     "name": "stdout",
     "output_type": "stream",
     "text": [
      "Early stopping, best iteration is:\n",
      "[218]\tcv_agg's l2: 0.218022 + 0.0466595\n",
      "[100]\tcv_agg's l2: 0.225047 + 0.0446192\n",
      "[200]\tcv_agg's l2: 0.219235 + 0.0470887\n",
      "[300]\tcv_agg's l2: 0.218568 + 0.046786\n",
      "Early stopping, best iteration is:\n",
      "[218]\tcv_agg's l2: 0.218022 + 0.0466595\n"
     ]
    },
    {
     "name": "stderr",
     "output_type": "stream",
     "text": [
      "regularization_factors, val_score: 0.218022:  60%|######################2              | 12/20 [00:44<00:30,  3.80s/it][I 2023-11-09 20:50:03,592] Trial 54 finished with value: 0.218021631613626 and parameters: {'lambda_l1': 0.00021366849555963318, 'lambda_l2': 1.863949462981866e-05}. Best is trial 48 with value: 0.21802162869247912.\n",
      "regularization_factors, val_score: 0.218022:  60%|######################2              | 12/20 [00:44<00:30,  3.80s/it]"
     ]
    },
    {
     "name": "stdout",
     "output_type": "stream",
     "text": [
      "[100]\tcv_agg's l2: 0.225194 + 0.0433734\n",
      "[200]\tcv_agg's l2: 0.220754 + 0.0466519\n"
     ]
    },
    {
     "name": "stderr",
     "output_type": "stream",
     "text": [
      "\r",
      "regularization_factors, val_score: 0.218022:  60%|######################2              | 12/20 [00:48<00:30,  3.80s/it]"
     ]
    },
    {
     "name": "stdout",
     "output_type": "stream",
     "text": [
      "[300]\tcv_agg's l2: 0.22089 + 0.0459968\n",
      "Early stopping, best iteration is:\n",
      "[218]\tcv_agg's l2: 0.218022 + 0.0466595\n"
     ]
    },
    {
     "name": "stderr",
     "output_type": "stream",
     "text": [
      "regularization_factors, val_score: 0.218022:  65%|########################             | 13/20 [00:48<00:26,  3.80s/it][I 2023-11-09 20:50:07,374] Trial 55 finished with value: 0.22031438462352365 and parameters: {'lambda_l1': 0.0004574591094045388, 'lambda_l2': 2.3033212227474826e-05}. Best is trial 48 with value: 0.21802162869247912.\n",
      "regularization_factors, val_score: 0.218022:  65%|########################             | 13/20 [00:48<00:26,  3.80s/it]"
     ]
    },
    {
     "name": "stdout",
     "output_type": "stream",
     "text": [
      "[100]\tcv_agg's l2: 0.225305 + 0.0430642\n",
      "[200]\tcv_agg's l2: 0.220873 + 0.0464085\n",
      "[300]\tcv_agg's l2: 0.221716 + 0.0462028\n",
      "Early stopping, best iteration is:\n",
      "[218]\tcv_agg's l2: 0.218022 + 0.0466595\n"
     ]
    },
    {
     "name": "stderr",
     "output_type": "stream",
     "text": [
      "regularization_factors, val_score: 0.218022:  70%|#########################9           | 14/20 [00:52<00:22,  3.75s/it][I 2023-11-09 20:50:11,027] Trial 56 finished with value: 0.21992966942271197 and parameters: {'lambda_l1': 0.00010781259379143821, 'lambda_l2': 2.185707007899643e-05}. Best is trial 48 with value: 0.21802162869247912.\n",
      "regularization_factors, val_score: 0.218022:  70%|#########################9           | 14/20 [00:52<00:22,  3.75s/it]"
     ]
    },
    {
     "name": "stdout",
     "output_type": "stream",
     "text": [
      "[100]\tcv_agg's l2: 0.225305 + 0.0430642\n",
      "[200]\tcv_agg's l2: 0.220873 + 0.0464085\n"
     ]
    },
    {
     "name": "stderr",
     "output_type": "stream",
     "text": [
      "\r",
      "regularization_factors, val_score: 0.218022:  70%|#########################9           | 14/20 [00:55<00:22,  3.75s/it]"
     ]
    },
    {
     "name": "stdout",
     "output_type": "stream",
     "text": [
      "[300]\tcv_agg's l2: 0.221716 + 0.0462028\n",
      "Early stopping, best iteration is:\n",
      "[218]\tcv_agg's l2: 0.218022 + 0.0466595\n"
     ]
    },
    {
     "name": "stderr",
     "output_type": "stream",
     "text": [
      "regularization_factors, val_score: 0.218022:  75%|###########################7         | 15/20 [00:55<00:18,  3.77s/it][I 2023-11-09 20:50:14,844] Trial 57 finished with value: 0.21992966924972174 and parameters: {'lambda_l1': 0.00010515766226543186, 'lambda_l2': 2.6010262135866094e-05}. Best is trial 48 with value: 0.21802162869247912.\n",
      "regularization_factors, val_score: 0.218022:  75%|###########################7         | 15/20 [00:55<00:18,  3.77s/it]"
     ]
    },
    {
     "name": "stdout",
     "output_type": "stream",
     "text": [
      "[100]\tcv_agg's l2: 0.224065 + 0.0428412\n",
      "[200]\tcv_agg's l2: 0.220194 + 0.0443806\n",
      "[300]\tcv_agg's l2: 0.219912 + 0.0432102\n"
     ]
    },
    {
     "name": "stderr",
     "output_type": "stream",
     "text": [
      "regularization_factors, val_score: 0.218022:  80%|#############################6       | 16/20 [00:59<00:15,  3.78s/it][I 2023-11-09 20:50:18,644] Trial 58 finished with value: 0.22027675727331406 and parameters: {'lambda_l1': 0.0008976359266864341, 'lambda_l2': 5.312007957157512e-06}. Best is trial 48 with value: 0.21802162869247912.\n",
      "regularization_factors, val_score: 0.218022:  80%|#############################6       | 16/20 [00:59<00:15,  3.78s/it]"
     ]
    },
    {
     "name": "stdout",
     "output_type": "stream",
     "text": [
      "Early stopping, best iteration is:\n",
      "[218]\tcv_agg's l2: 0.218022 + 0.0466595\n",
      "[100]\tcv_agg's l2: 0.225305 + 0.0430641\n",
      "[200]\tcv_agg's l2: 0.220667 + 0.0462056\n",
      "[300]\tcv_agg's l2: 0.220448 + 0.0460972\n"
     ]
    },
    {
     "name": "stderr",
     "output_type": "stream",
     "text": [
      "regularization_factors, val_score: 0.218022:  85%|###############################4     | 17/20 [01:03<00:11,  3.79s/it][I 2023-11-09 20:50:22,470] Trial 59 finished with value: 0.21976103986339274 and parameters: {'lambda_l1': 2.3641735322396898e-05, 'lambda_l2': 0.00020584391504666478}. Best is trial 48 with value: 0.21802162869247912.\n",
      "regularization_factors, val_score: 0.218022:  85%|###############################4     | 17/20 [01:03<00:11,  3.79s/it]"
     ]
    },
    {
     "name": "stdout",
     "output_type": "stream",
     "text": [
      "Early stopping, best iteration is:\n",
      "[218]\tcv_agg's l2: 0.218022 + 0.0466595\n",
      "[100]\tcv_agg's l2: 0.225144 + 0.046211\n",
      "[200]\tcv_agg's l2: 0.220084 + 0.0446085\n",
      "[300]\tcv_agg's l2: 0.221314 + 0.0449143\n"
     ]
    },
    {
     "name": "stderr",
     "output_type": "stream",
     "text": [
      "regularization_factors, val_score: 0.218022:  90%|#################################3   | 18/20 [01:07<00:07,  3.75s/it][I 2023-11-09 20:50:26,118] Trial 60 finished with value: 0.22035535610488832 and parameters: {'lambda_l1': 0.0030849577281017474, 'lambda_l2': 1.967316722918227e-06}. Best is trial 48 with value: 0.21802162869247912.\n",
      "regularization_factors, val_score: 0.218022:  90%|#################################3   | 18/20 [01:07<00:07,  3.75s/it]"
     ]
    },
    {
     "name": "stdout",
     "output_type": "stream",
     "text": [
      "Early stopping, best iteration is:\n",
      "[218]\tcv_agg's l2: 0.218022 + 0.0466595\n",
      "[100]\tcv_agg's l2: 0.225986 + 0.0436438\n",
      "[200]\tcv_agg's l2: 0.220255 + 0.0458086\n",
      "[300]\tcv_agg's l2: 0.220419 + 0.0461399\n",
      "Early stopping, best iteration is:\n",
      "[218]\tcv_agg's l2: 0.218022 + 0.0466595\n"
     ]
    },
    {
     "name": "stderr",
     "output_type": "stream",
     "text": [
      "regularization_factors, val_score: 0.218022:  95%|###################################1 | 19/20 [01:10<00:03,  3.72s/it][I 2023-11-09 20:50:29,773] Trial 61 finished with value: 0.21934056085724424 and parameters: {'lambda_l1': 3.838518741318389e-05, 'lambda_l2': 9.288170801392377e-05}. Best is trial 48 with value: 0.21802162869247912.\n",
      "regularization_factors, val_score: 0.218022:  95%|###################################1 | 19/20 [01:10<00:03,  3.72s/it]"
     ]
    },
    {
     "name": "stdout",
     "output_type": "stream",
     "text": [
      "[100]\tcv_agg's l2: 0.225923 + 0.0435881\n",
      "[200]\tcv_agg's l2: 0.220615 + 0.0461548\n",
      "[300]\tcv_agg's l2: 0.220483 + 0.0461348\n"
     ]
    },
    {
     "name": "stderr",
     "output_type": "stream",
     "text": [
      "regularization_factors, val_score: 0.218022: 100%|#####################################| 20/20 [01:14<00:00,  3.73s/it][I 2023-11-09 20:50:33,528] Trial 62 finished with value: 0.21953763750732155 and parameters: {'lambda_l1': 1.9848757613738228e-05, 'lambda_l2': 0.0002508721965512392}. Best is trial 48 with value: 0.21802162869247912.\n",
      "regularization_factors, val_score: 0.218022: 100%|#####################################| 20/20 [01:14<00:00,  3.73s/it]\n"
     ]
    },
    {
     "name": "stdout",
     "output_type": "stream",
     "text": [
      "Early stopping, best iteration is:\n",
      "[218]\tcv_agg's l2: 0.218022 + 0.0466595\n"
     ]
    },
    {
     "name": "stderr",
     "output_type": "stream",
     "text": [
      "min_data_in_leaf, val_score: 0.218022:   0%|                                                     | 0/5 [00:00<?, ?it/s]"
     ]
    },
    {
     "name": "stdout",
     "output_type": "stream",
     "text": [
      "[100]\tcv_agg's l2: 0.202119 + 0.0441998\n",
      "[200]\tcv_agg's l2: 0.198609 + 0.0456829\n"
     ]
    },
    {
     "name": "stderr",
     "output_type": "stream",
     "text": [
      "min_data_in_leaf, val_score: 0.198278:  20%|#########                                    | 1/5 [00:04<00:17,  4.40s/it][I 2023-11-09 20:50:37,936] Trial 63 finished with value: 0.19827780263080647 and parameters: {'min_child_samples': 10}. Best is trial 63 with value: 0.19827780263080647.\n",
      "min_data_in_leaf, val_score: 0.198278:  20%|#########                                    | 1/5 [00:04<00:17,  4.40s/it]"
     ]
    },
    {
     "name": "stdout",
     "output_type": "stream",
     "text": [
      "[300]\tcv_agg's l2: 0.199102 + 0.0472453\n",
      "Early stopping, best iteration is:\n",
      "[206]\tcv_agg's l2: 0.198278 + 0.0460664\n",
      "[100]\tcv_agg's l2: 0.209014 + 0.0392921\n",
      "[200]\tcv_agg's l2: 0.209312 + 0.039138\n"
     ]
    },
    {
     "name": "stderr",
     "output_type": "stream",
     "text": [
      "min_data_in_leaf, val_score: 0.198278:  40%|##################                           | 2/5 [00:08<00:13,  4.46s/it][I 2023-11-09 20:50:42,431] Trial 64 finished with value: 0.2092580380781127 and parameters: {'min_child_samples': 5}. Best is trial 63 with value: 0.19827780263080647.\n",
      "min_data_in_leaf, val_score: 0.198278:  40%|##################                           | 2/5 [00:08<00:13,  4.46s/it]"
     ]
    },
    {
     "name": "stdout",
     "output_type": "stream",
     "text": [
      "[300]\tcv_agg's l2: 0.209617 + 0.0396095\n",
      "Early stopping, best iteration is:\n",
      "[206]\tcv_agg's l2: 0.198278 + 0.0460664\n",
      "[100]\tcv_agg's l2: 0.251615 + 0.0679503\n",
      "[200]\tcv_agg's l2: 0.249165 + 0.0685598\n"
     ]
    },
    {
     "name": "stderr",
     "output_type": "stream",
     "text": [
      "min_data_in_leaf, val_score: 0.198278:  60%|###########################                  | 3/5 [00:11<00:07,  3.76s/it][I 2023-11-09 20:50:45,360] Trial 65 finished with value: 0.2496112959705894 and parameters: {'min_child_samples': 25}. Best is trial 63 with value: 0.19827780263080647.\n",
      "min_data_in_leaf, val_score: 0.198278:  60%|###########################                  | 3/5 [00:11<00:07,  3.76s/it]"
     ]
    },
    {
     "name": "stdout",
     "output_type": "stream",
     "text": [
      "[300]\tcv_agg's l2: 0.25012 + 0.0681305\n",
      "Early stopping, best iteration is:\n",
      "[206]\tcv_agg's l2: 0.198278 + 0.0460664\n",
      "[100]\tcv_agg's l2: 0.815616 + 0.179967\n",
      "[200]\tcv_agg's l2: 0.799208 + 0.181626\n"
     ]
    },
    {
     "name": "stderr",
     "output_type": "stream",
     "text": [
      "min_data_in_leaf, val_score: 0.198278:  80%|####################################         | 4/5 [00:12<00:02,  2.66s/it][I 2023-11-09 20:50:46,339] Trial 66 finished with value: 0.7982622762060962 and parameters: {'min_child_samples': 100}. Best is trial 63 with value: 0.19827780263080647.\n",
      "min_data_in_leaf, val_score: 0.198278:  80%|####################################         | 4/5 [00:12<00:02,  2.66s/it]"
     ]
    },
    {
     "name": "stdout",
     "output_type": "stream",
     "text": [
      "[300]\tcv_agg's l2: 0.793786 + 0.18303\n",
      "Early stopping, best iteration is:\n",
      "[206]\tcv_agg's l2: 0.198278 + 0.0460664\n",
      "[100]\tcv_agg's l2: 0.345003 + 0.0814428\n",
      "[200]\tcv_agg's l2: 0.33226 + 0.0773266\n"
     ]
    },
    {
     "name": "stderr",
     "output_type": "stream",
     "text": [
      "min_data_in_leaf, val_score: 0.198278: 100%|#############################################| 5/5 [00:14<00:00,  2.27s/it][I 2023-11-09 20:50:47,907] Trial 67 finished with value: 0.3314081530372782 and parameters: {'min_child_samples': 50}. Best is trial 63 with value: 0.19827780263080647.\n",
      "min_data_in_leaf, val_score: 0.198278: 100%|#############################################| 5/5 [00:14<00:00,  2.87s/it]"
     ]
    },
    {
     "name": "stdout",
     "output_type": "stream",
     "text": [
      "[300]\tcv_agg's l2: 0.328169 + 0.0760951\n",
      "Early stopping, best iteration is:\n",
      "[206]\tcv_agg's l2: 0.198278 + 0.0460664\n"
     ]
    },
    {
     "name": "stderr",
     "output_type": "stream",
     "text": [
      "\n"
     ]
    }
   ],
   "source": [
    "import optuna.integration.lightgbm as lgb\n",
    "from lightgbm import early_stopping, log_evaluation\n",
    "from sklearn.model_selection import KFold\n",
    "from sklearn.model_selection import RepeatedKFold\n",
    "\n",
    "\n",
    "lgb_train = lgb.Dataset(X_train, y_train)\n",
    "\n",
    "params = {\n",
    "    \"boosting_type\": \"gbdt\",\n",
    "    \"objective\": \"regression\",\n",
    "    \"metric\": \"l2\",\n",
    "    \"verbosity\": -1,\n",
    "}\n",
    "\n",
    "tuner = lgb.LightGBMTunerCV(\n",
    "    params,\n",
    "    lgb_train,\n",
    "    folds=KFold(n_splits=5),\n",
    "    num_boost_round=10000,\n",
    "    callbacks=[early_stopping(100), log_evaluation(100)],\n",
    ")\n",
    "\n",
    "tuner.run()"
   ]
  },
  {
   "cell_type": "code",
   "execution_count": 23,
   "id": "3b9d8fb3",
   "metadata": {},
   "outputs": [
    {
     "name": "stdout",
     "output_type": "stream",
     "text": [
      "Best score: 0.19827780263080647\n",
      "Params: \n",
      "    boosting_type: gbdt\n",
      "    objective: regression\n",
      "    metric: l2\n",
      "    verbosity: -1\n",
      "    feature_pre_filter: False\n",
      "    lambda_l1: 0.0002066694977741208\n",
      "    lambda_l2: 2.5978263217002655e-05\n",
      "    num_leaves: 31\n",
      "    feature_fraction: 0.6\n",
      "    bagging_fraction: 1.0\n",
      "    bagging_freq: 0\n",
      "    min_child_samples: 10\n"
     ]
    }
   ],
   "source": [
    "print(f\"Best score: {tuner.best_score}\")\n",
    "best_params = tuner.best_params\n",
    "print(\"Params: \")\n",
    "for key, value in best_params.items():\n",
    "    print(\"    {}: {}\".format(key, value))"
   ]
  },
  {
   "cell_type": "code",
   "execution_count": 24,
   "id": "d25b1687",
   "metadata": {},
   "outputs": [],
   "source": [
    "import lightgbm as lgb\n",
    "\n",
    "lgb_tuned = lgb.train(\n",
    "    best_params,\n",
    "    lgb_train,\n",
    "    num_boost_round=10000,\n",
    ")"
   ]
  },
  {
   "cell_type": "code",
   "execution_count": 25,
   "id": "290a9f09",
   "metadata": {
    "scrolled": false
   },
   "outputs": [
    {
     "name": "stdout",
     "output_type": "stream",
     "text": [
      "RMSE train: 0.00\n",
      "RMSE test: 0.68\n",
      "MAE test: 0.48\n",
      "\n"
     ]
    }
   ],
   "source": [
    "rmse, mae = assess_regression_model(lgb_tuned, X_train, X_test, y_train, y_test)"
   ]
  },
  {
   "cell_type": "code",
   "execution_count": 26,
   "id": "a6ecfca2",
   "metadata": {},
   "outputs": [],
   "source": [
    "results.loc[1] = [\n",
    "    \"chronological\",\n",
    "    \"Optuna\",\n",
    "    \"basic\",\n",
    "    rmse,\n",
    "    mae,\n",
    "]"
   ]
  },
  {
   "cell_type": "markdown",
   "id": "2f13ab75",
   "metadata": {},
   "source": [
    "###### MAE by level"
   ]
  },
  {
   "cell_type": "code",
   "execution_count": 27,
   "id": "e2f172bc",
   "metadata": {},
   "outputs": [
    {
     "data": {
      "image/png": "[encoded data removed]",
      "text/plain": [
       "<Figure size 1440x576 with 1 Axes>"
      ]
     },
     "metadata": {
      "needs_background": "light"
     },
     "output_type": "display_data"
    }
   ],
   "source": [
    "plot_mae_by_level(\n",
    "    y_test,\n",
    "    y_pred_test,\n",
    "    title=\"MAE by level for tuned LightGBM with basic features and chronological split\",\n",
    ")"
   ]
  },
  {
   "cell_type": "code",
   "execution_count": 28,
   "id": "9f6b3122",
   "metadata": {
    "scrolled": false
   },
   "outputs": [
    {
     "name": "stdout",
     "output_type": "stream",
     "text": [
      "Default:\n",
      "RMSE: 0.68\n",
      "\n",
      "Round type: 0.5\n",
      "RMSE: 0.71\n",
      "\n",
      "Round type: 0.33\n",
      "RMSE: 0.69\n",
      "\n",
      "Round type: 0.45\n",
      "RMSE: 0.71\n",
      "\n"
     ]
    }
   ],
   "source": [
    "predict = lgb_tuned.predict(X_test)\n",
    "evaluate_round_predictions([0.5, 0.33, 0.45], y_test, predict)"
   ]
  },
  {
   "cell_type": "code",
   "execution_count": 29,
   "id": "515dc232",
   "metadata": {},
   "outputs": [
    {
     "data": {
      "image/png": "[encoded data removed]",
      "text/plain": [
       "<Figure size 720x720 with 2 Axes>"
      ]
     },
     "metadata": {
      "needs_background": "light"
     },
     "output_type": "display_data"
    }
   ],
   "source": [
    "plot_confusion_matrix(\n",
    "    predict,\n",
    "    y_test,\n",
    "    title=\"Confusion matrix for tuned LightGBM with basic features and chronological split\",\n",
    ")"
   ]
  },
  {
   "cell_type": "markdown",
   "id": "493f7602",
   "metadata": {},
   "source": [
    "## Random split"
   ]
  },
  {
   "cell_type": "code",
   "execution_count": 30,
   "id": "4948ca0a",
   "metadata": {},
   "outputs": [
    {
     "name": "stdout",
     "output_type": "stream",
     "text": [
      "[LightGBM] [Warning] Auto-choosing col-wise multi-threading, the overhead of testing was 0.000295 seconds.\n",
      "You can set `force_col_wise=true` to remove the overhead.\n",
      "[LightGBM] [Info] Total Bins 234\n",
      "[LightGBM] [Info] Number of data points in the train set: 904, number of used features: 8\n",
      "[LightGBM] [Info] Start training from score 7.162611\n",
      "Training until validation scores don't improve for 5 rounds\n",
      "Early stopping, best iteration is:\n",
      "[57]\tvalid_0's l2: 0.238538\tvalid_0's l1: 0.336785\n"
     ]
    }
   ],
   "source": [
    "import lightgbm as lgb\n",
    "from sklearn.metrics import mean_squared_error\n",
    "\n",
    "lgb_train = lgb.Dataset(X_train_random_split, y_train_random_split)\n",
    "lgb_eval = lgb.Dataset(X_test_random_split, y_test_random_split, reference=lgb_train)\n",
    "\n",
    "params = {\n",
    "    \"boosting_type\": \"gbdt\",\n",
    "    \"objective\": \"regression\",\n",
    "    \"metric\": {\"l2\", \"l1\"},\n",
    "}\n",
    "\n",
    "gbm = lgb.train(\n",
    "    params,\n",
    "    lgb_train,\n",
    "    num_boost_round=100,\n",
    "    valid_sets=lgb_eval,\n",
    "    callbacks=[lgb.early_stopping(stopping_rounds=5)],\n",
    ")"
   ]
  },
  {
   "cell_type": "code",
   "execution_count": 31,
   "id": "f9bd4c3b",
   "metadata": {},
   "outputs": [],
   "source": [
    "y_pred_train = gbm.predict(X_train_random_split, num_iteration=gbm.best_iteration)\n",
    "y_pred_test = gbm.predict(X_test_random_split, num_iteration=gbm.best_iteration)"
   ]
  },
  {
   "cell_type": "code",
   "execution_count": 32,
   "id": "c014931e",
   "metadata": {},
   "outputs": [
    {
     "name": "stdout",
     "output_type": "stream",
     "text": [
      "RMSE: 0.49\n",
      "MAE: 0.34\n"
     ]
    }
   ],
   "source": [
    "from sklearn.metrics import mean_squared_error, mean_absolute_error\n",
    "\n",
    "\n",
    "rmse = mean_squared_error(y_test_random_split, y_pred_test, squared=False)\n",
    "mae = mean_absolute_error(y_test_random_split, y_pred_test)\n",
    "\n",
    "print(f\"RMSE: {rmse:.2f}\")\n",
    "print(f\"MAE: {mae:.2f}\")"
   ]
  },
  {
   "cell_type": "code",
   "execution_count": 33,
   "id": "8cbceea7",
   "metadata": {},
   "outputs": [],
   "source": [
    "results.loc[2] = [\"random\", \"default\", \"basic\", rmse, mae]"
   ]
  },
  {
   "cell_type": "markdown",
   "id": "eacfd0ab",
   "metadata": {},
   "source": [
    "###### MAE by level"
   ]
  },
  {
   "cell_type": "code",
   "execution_count": 34,
   "id": "8af01c5c",
   "metadata": {},
   "outputs": [
    {
     "data": {
      "image/png": "[encoded data removed]",
      "text/plain": [
       "<Figure size 1440x576 with 1 Axes>"
      ]
     },
     "metadata": {
      "needs_background": "light"
     },
     "output_type": "display_data"
    }
   ],
   "source": [
    "plot_mae_by_level(\n",
    "    y_test_random_split,\n",
    "    y_pred_test,\n",
    "    title=\"MAE by level for default LightGBM with basic features and random split\",\n",
    ")"
   ]
  },
  {
   "cell_type": "code",
   "execution_count": 35,
   "id": "e5edd1d7",
   "metadata": {
    "scrolled": true
   },
   "outputs": [
    {
     "name": "stdout",
     "output_type": "stream",
     "text": [
      "Default:\n",
      "RMSE: 0.49\n",
      "\n",
      "Round type: 0.5\n",
      "RMSE: 0.51\n",
      "\n",
      "Round type: 0.33\n",
      "RMSE: 0.57\n",
      "\n",
      "Round type: 0.45\n",
      "RMSE: 0.51\n",
      "\n"
     ]
    }
   ],
   "source": [
    "evaluate_round_predictions([0.5, 0.33, 0.45], y_test_random_split, y_pred_test)"
   ]
  },
  {
   "cell_type": "code",
   "execution_count": 36,
   "id": "39e001dd",
   "metadata": {},
   "outputs": [
    {
     "data": {
      "image/png": "[encoded data removed]",
      "text/plain": [
       "<Figure size 720x720 with 2 Axes>"
      ]
     },
     "metadata": {
      "needs_background": "light"
     },
     "output_type": "display_data"
    }
   ],
   "source": [
    "plot_confusion_matrix(\n",
    "    y_pred_test,\n",
    "    y_test_random_split,\n",
    "    title=\"Confusion matrix for default LightGBM with basic features and random split\",\n",
    ")"
   ]
  },
  {
   "cell_type": "markdown",
   "id": "2a0c7ae0",
   "metadata": {},
   "source": [
    "### Tuning"
   ]
  },
  {
   "cell_type": "code",
   "execution_count": 37,
   "id": "0ef6525a",
   "metadata": {},
   "outputs": [
    {
     "name": "stderr",
     "output_type": "stream",
     "text": [
      "[I 2023-11-09 20:51:11,322] A new study created in memory with name: no-name-fef66fe4-52c3-48e9-a85e-cc7568e17979\n",
      "feature_fraction, val_score: inf:   0%|                                                          | 0/7 [00:00<?, ?it/s]"
     ]
    },
    {
     "name": "stdout",
     "output_type": "stream",
     "text": [
      "Training until validation scores don't improve for 100 rounds\n",
      "[100]\tcv_agg's l2: 0.258013 + 0.076644\n",
      "[200]\tcv_agg's l2: 0.260521 + 0.0774082\n"
     ]
    },
    {
     "name": "stderr",
     "output_type": "stream",
     "text": [
      "feature_fraction, val_score: 0.256439:  14%|######4                                      | 1/7 [00:02<00:15,  2.61s/it][I 2023-11-09 20:51:13,941] Trial 0 finished with value: 0.2564388102863906 and parameters: {'feature_fraction': 1.0}. Best is trial 0 with value: 0.2564388102863906.\n",
      "feature_fraction, val_score: 0.256439:  14%|######4                                      | 1/7 [00:02<00:15,  2.61s/it]"
     ]
    },
    {
     "name": "stdout",
     "output_type": "stream",
     "text": [
      "Early stopping, best iteration is:\n",
      "[127]\tcv_agg's l2: 0.256439 + 0.0774933\n",
      "[100]\tcv_agg's l2: 0.251819 + 0.085073\n",
      "[200]\tcv_agg's l2: 0.25242 + 0.0793632\n"
     ]
    },
    {
     "name": "stderr",
     "output_type": "stream",
     "text": [
      "feature_fraction, val_score: 0.250840:  29%|############8                                | 2/7 [00:05<00:13,  2.74s/it][I 2023-11-09 20:51:16,767] Trial 1 finished with value: 0.2508399633611837 and parameters: {'feature_fraction': 0.7}. Best is trial 1 with value: 0.2508399633611837.\n",
      "feature_fraction, val_score: 0.250840:  29%|############8                                | 2/7 [00:05<00:13,  2.74s/it]"
     ]
    },
    {
     "name": "stdout",
     "output_type": "stream",
     "text": [
      "Early stopping, best iteration is:\n",
      "[153]\tcv_agg's l2: 0.25084 + 0.0815097\n",
      "[100]\tcv_agg's l2: 0.247526 + 0.0606203\n",
      "[200]\tcv_agg's l2: 0.246099 + 0.0591382\n"
     ]
    },
    {
     "name": "stderr",
     "output_type": "stream",
     "text": [
      "feature_fraction, val_score: 0.245906:  43%|###################2                         | 3/7 [00:08<00:11,  2.88s/it][I 2023-11-09 20:51:19,822] Trial 2 finished with value: 0.2459063385971254 and parameters: {'feature_fraction': 0.6}. Best is trial 2 with value: 0.2459063385971254.\n",
      "feature_fraction, val_score: 0.245906:  43%|###################2                         | 3/7 [00:08<00:11,  2.88s/it]"
     ]
    },
    {
     "name": "stdout",
     "output_type": "stream",
     "text": [
      "Early stopping, best iteration is:\n",
      "[176]\tcv_agg's l2: 0.245906 + 0.0599899\n",
      "[100]\tcv_agg's l2: 0.35455 + 0.0436729\n",
      "[200]\tcv_agg's l2: 0.316251 + 0.0448899\n"
     ]
    },
    {
     "name": "stderr",
     "output_type": "stream",
     "text": [
      "feature_fraction, val_score: 0.245906:  57%|#########################7                   | 4/7 [00:11<00:08,  2.92s/it][I 2023-11-09 20:51:22,811] Trial 3 finished with value: 0.3186568718220915 and parameters: {'feature_fraction': 0.4}. Best is trial 2 with value: 0.2459063385971254.\n",
      "feature_fraction, val_score: 0.245906:  57%|#########################7                   | 4/7 [00:11<00:08,  2.92s/it]"
     ]
    },
    {
     "name": "stdout",
     "output_type": "stream",
     "text": [
      "Early stopping, best iteration is:\n",
      "[176]\tcv_agg's l2: 0.245906 + 0.0599899\n",
      "[100]\tcv_agg's l2: 0.410116 + 0.0591789\n",
      "[200]\tcv_agg's l2: 0.361842 + 0.0532143\n"
     ]
    },
    {
     "name": "stderr",
     "output_type": "stream",
     "text": [
      "feature_fraction, val_score: 0.245906:  71%|################################1            | 5/7 [00:14<00:05,  2.95s/it][I 2023-11-09 20:51:25,819] Trial 4 finished with value: 0.3692951761628409 and parameters: {'feature_fraction': 0.5}. Best is trial 2 with value: 0.2459063385971254.\n",
      "feature_fraction, val_score: 0.245906:  71%|################################1            | 5/7 [00:14<00:05,  2.95s/it]"
     ]
    },
    {
     "name": "stdout",
     "output_type": "stream",
     "text": [
      "Early stopping, best iteration is:\n",
      "[176]\tcv_agg's l2: 0.245906 + 0.0599899\n",
      "[100]\tcv_agg's l2: 0.250731 + 0.0749923\n",
      "[200]\tcv_agg's l2: 0.253092 + 0.0718588\n"
     ]
    },
    {
     "name": "stderr",
     "output_type": "stream",
     "text": [
      "feature_fraction, val_score: 0.245906:  86%|######################################5      | 6/7 [00:17<00:03,  3.10s/it][I 2023-11-09 20:51:29,206] Trial 5 finished with value: 0.25215615019540816 and parameters: {'feature_fraction': 0.8999999999999999}. Best is trial 2 with value: 0.2459063385971254.\n",
      "feature_fraction, val_score: 0.245906:  86%|######################################5      | 6/7 [00:17<00:03,  3.10s/it]"
     ]
    },
    {
     "name": "stdout",
     "output_type": "stream",
     "text": [
      "Early stopping, best iteration is:\n",
      "[176]\tcv_agg's l2: 0.245906 + 0.0599899\n",
      "[100]\tcv_agg's l2: 0.251819 + 0.085073\n",
      "[200]\tcv_agg's l2: 0.25242 + 0.0793632\n"
     ]
    },
    {
     "name": "stderr",
     "output_type": "stream",
     "text": [
      "feature_fraction, val_score: 0.245906: 100%|#############################################| 7/7 [00:20<00:00,  3.10s/it][I 2023-11-09 20:51:32,291] Trial 6 finished with value: 0.25221630112393256 and parameters: {'feature_fraction': 0.8}. Best is trial 2 with value: 0.2459063385971254.\n",
      "feature_fraction, val_score: 0.245906: 100%|#############################################| 7/7 [00:20<00:00,  3.00s/it]\n"
     ]
    },
    {
     "name": "stdout",
     "output_type": "stream",
     "text": [
      "Early stopping, best iteration is:\n",
      "[176]\tcv_agg's l2: 0.245906 + 0.0599899\n"
     ]
    },
    {
     "name": "stderr",
     "output_type": "stream",
     "text": [
      "num_leaves, val_score: 0.245906:   0%|                                                          | 0/20 [00:00<?, ?it/s]"
     ]
    },
    {
     "name": "stdout",
     "output_type": "stream",
     "text": [
      "[100]\tcv_agg's l2: 0.247526 + 0.0606203\n",
      "[200]\tcv_agg's l2: 0.246099 + 0.0591382\n"
     ]
    },
    {
     "name": "stderr",
     "output_type": "stream",
     "text": [
      "num_leaves, val_score: 0.245906:   5%|##5                                               | 1/20 [00:03<00:59,  3.13s/it][I 2023-11-09 20:51:35,430] Trial 7 finished with value: 0.2459063385971254 and parameters: {'num_leaves': 79}. Best is trial 7 with value: 0.2459063385971254.\n",
      "num_leaves, val_score: 0.245906:   5%|##5                                               | 1/20 [00:03<00:59,  3.13s/it]"
     ]
    },
    {
     "name": "stdout",
     "output_type": "stream",
     "text": [
      "Early stopping, best iteration is:\n",
      "[176]\tcv_agg's l2: 0.245906 + 0.0599899\n",
      "[100]\tcv_agg's l2: 0.247526 + 0.0606203\n",
      "[200]\tcv_agg's l2: 0.246099 + 0.0591382\n"
     ]
    },
    {
     "name": "stderr",
     "output_type": "stream",
     "text": [
      "num_leaves, val_score: 0.245906:  10%|#####                                             | 2/20 [00:06<01:00,  3.39s/it][I 2023-11-09 20:51:38,996] Trial 8 finished with value: 0.2459063385971254 and parameters: {'num_leaves': 235}. Best is trial 7 with value: 0.2459063385971254.\n",
      "num_leaves, val_score: 0.245906:  10%|#####                                             | 2/20 [00:06<01:00,  3.39s/it]"
     ]
    },
    {
     "name": "stdout",
     "output_type": "stream",
     "text": [
      "Early stopping, best iteration is:\n",
      "[176]\tcv_agg's l2: 0.245906 + 0.0599899\n",
      "[100]\tcv_agg's l2: 0.247526 + 0.0606203\n",
      "[200]\tcv_agg's l2: 0.246099 + 0.0591382\n"
     ]
    },
    {
     "name": "stderr",
     "output_type": "stream",
     "text": [
      "num_leaves, val_score: 0.245906:  15%|#######5                                          | 3/20 [00:10<00:59,  3.48s/it][I 2023-11-09 20:51:42,595] Trial 9 finished with value: 0.2459063385971254 and parameters: {'num_leaves': 220}. Best is trial 7 with value: 0.2459063385971254.\n",
      "num_leaves, val_score: 0.245906:  15%|#######5                                          | 3/20 [00:10<00:59,  3.48s/it]"
     ]
    },
    {
     "name": "stdout",
     "output_type": "stream",
     "text": [
      "Early stopping, best iteration is:\n",
      "[176]\tcv_agg's l2: 0.245906 + 0.0599899\n",
      "[100]\tcv_agg's l2: 0.245312 + 0.0589772\n"
     ]
    },
    {
     "name": "stderr",
     "output_type": "stream",
     "text": [
      "num_leaves, val_score: 0.245046:  20%|##########                                        | 4/20 [00:12<00:45,  2.84s/it][I 2023-11-09 20:51:44,443] Trial 10 finished with value: 0.24504561695362473 and parameters: {'num_leaves': 19}. Best is trial 10 with value: 0.24504561695362473.\n",
      "num_leaves, val_score: 0.245046:  20%|##########                                        | 4/20 [00:12<00:45,  2.84s/it]"
     ]
    },
    {
     "name": "stdout",
     "output_type": "stream",
     "text": [
      "[200]\tcv_agg's l2: 0.247965 + 0.0599956\n",
      "Early stopping, best iteration is:\n",
      "[102]\tcv_agg's l2: 0.245046 + 0.058905\n"
     ]
    },
    {
     "name": "stderr",
     "output_type": "stream",
     "text": [
      "num_leaves, val_score: 0.245046:  25%|############5                                     | 5/20 [00:12<00:29,  1.95s/it][I 2023-11-09 20:51:44,811] Trial 11 finished with value: 0.31553876572739215 and parameters: {'num_leaves': 2}. Best is trial 10 with value: 0.24504561695362473.\n"
     ]
    },
    {
     "name": "stdout",
     "output_type": "stream",
     "text": [
      "[100]\tcv_agg's l2: 0.317543 + 0.0900968\n",
      "[200]\tcv_agg's l2: 0.279807 + 0.0802482\n",
      "Early stopping, best iteration is:\n",
      "[102]\tcv_agg's l2: 0.245046 + 0.058905\n"
     ]
    },
    {
     "name": "stderr",
     "output_type": "stream",
     "text": [
      "num_leaves, val_score: 0.245046:  30%|###############                                   | 6/20 [00:12<00:19,  1.41s/it][I 2023-11-09 20:51:45,183] Trial 12 finished with value: 0.31553876572739215 and parameters: {'num_leaves': 2}. Best is trial 10 with value: 0.24504561695362473.\n",
      "num_leaves, val_score: 0.245046:  30%|###############                                   | 6/20 [00:12<00:19,  1.41s/it]"
     ]
    },
    {
     "name": "stdout",
     "output_type": "stream",
     "text": [
      "[100]\tcv_agg's l2: 0.317543 + 0.0900968\n",
      "[200]\tcv_agg's l2: 0.279807 + 0.0802482\n",
      "Early stopping, best iteration is:\n",
      "[102]\tcv_agg's l2: 0.245046 + 0.058905\n",
      "[100]\tcv_agg's l2: 0.247526 + 0.0606203\n"
     ]
    },
    {
     "name": "stderr",
     "output_type": "stream",
     "text": [
      "num_leaves, val_score: 0.245046:  35%|#################5                                | 7/20 [00:15<00:23,  1.77s/it][I 2023-11-09 20:51:47,699] Trial 13 finished with value: 0.2473088037610794 and parameters: {'num_leaves': 117}. Best is trial 10 with value: 0.24504561695362473.\n",
      "num_leaves, val_score: 0.245046:  35%|#################5                                | 7/20 [00:15<00:23,  1.77s/it]"
     ]
    },
    {
     "name": "stdout",
     "output_type": "stream",
     "text": [
      "[200]\tcv_agg's l2: 0.246099 + 0.0591382\n",
      "Early stopping, best iteration is:\n",
      "[102]\tcv_agg's l2: 0.245046 + 0.058905\n",
      "[100]\tcv_agg's l2: 0.247526 + 0.0606203\n"
     ]
    },
    {
     "name": "stderr",
     "output_type": "stream",
     "text": [
      "num_leaves, val_score: 0.245046:  40%|####################                              | 8/20 [00:17<00:23,  1.99s/it][I 2023-11-09 20:51:50,152] Trial 14 finished with value: 0.2473088037610794 and parameters: {'num_leaves': 71}. Best is trial 10 with value: 0.24504561695362473.\n",
      "num_leaves, val_score: 0.245046:  40%|####################                              | 8/20 [00:17<00:23,  1.99s/it]"
     ]
    },
    {
     "name": "stdout",
     "output_type": "stream",
     "text": [
      "[200]\tcv_agg's l2: 0.246099 + 0.0591382\n",
      "Early stopping, best iteration is:\n",
      "[102]\tcv_agg's l2: 0.245046 + 0.058905\n",
      "[100]\tcv_agg's l2: 0.247526 + 0.0606203\n"
     ]
    },
    {
     "name": "stderr",
     "output_type": "stream",
     "text": [
      "num_leaves, val_score: 0.245046:  45%|######################5                           | 9/20 [00:20<00:24,  2.20s/it][I 2023-11-09 20:51:52,814] Trial 15 finished with value: 0.2473088037610794 and parameters: {'num_leaves': 175}. Best is trial 10 with value: 0.24504561695362473.\n",
      "num_leaves, val_score: 0.245046:  45%|######################5                           | 9/20 [00:20<00:24,  2.20s/it]"
     ]
    },
    {
     "name": "stdout",
     "output_type": "stream",
     "text": [
      "[200]\tcv_agg's l2: 0.246099 + 0.0591382\n",
      "Early stopping, best iteration is:\n",
      "[102]\tcv_agg's l2: 0.245046 + 0.058905\n",
      "[100]\tcv_agg's l2: 0.247526 + 0.0606203\n"
     ]
    },
    {
     "name": "stderr",
     "output_type": "stream",
     "text": [
      "num_leaves, val_score: 0.245046:  50%|########################5                        | 10/20 [00:22<00:22,  2.29s/it][I 2023-11-09 20:51:55,292] Trial 16 finished with value: 0.2473088037610794 and parameters: {'num_leaves': 53}. Best is trial 10 with value: 0.24504561695362473.\n",
      "num_leaves, val_score: 0.245046:  50%|########################5                        | 10/20 [00:22<00:22,  2.29s/it]"
     ]
    },
    {
     "name": "stdout",
     "output_type": "stream",
     "text": [
      "[200]\tcv_agg's l2: 0.246099 + 0.0591382\n",
      "Early stopping, best iteration is:\n",
      "[102]\tcv_agg's l2: 0.245046 + 0.058905\n",
      "[100]\tcv_agg's l2: 0.247526 + 0.0606203\n"
     ]
    },
    {
     "name": "stderr",
     "output_type": "stream",
     "text": [
      "num_leaves, val_score: 0.245046:  55%|##########################9                      | 11/20 [00:25<00:21,  2.38s/it][I 2023-11-09 20:51:57,881] Trial 17 finished with value: 0.2473088037610794 and parameters: {'num_leaves': 127}. Best is trial 10 with value: 0.24504561695362473.\n",
      "num_leaves, val_score: 0.245046:  55%|##########################9                      | 11/20 [00:25<00:21,  2.38s/it]"
     ]
    },
    {
     "name": "stdout",
     "output_type": "stream",
     "text": [
      "[200]\tcv_agg's l2: 0.246099 + 0.0591382\n",
      "Early stopping, best iteration is:\n",
      "[102]\tcv_agg's l2: 0.245046 + 0.058905\n",
      "[100]\tcv_agg's l2: 0.247526 + 0.0606203\n"
     ]
    },
    {
     "name": "stderr",
     "output_type": "stream",
     "text": [
      "num_leaves, val_score: 0.245046:  60%|#############################4                   | 12/20 [00:28<00:19,  2.47s/it][I 2023-11-09 20:52:00,546] Trial 18 finished with value: 0.2473088037610794 and parameters: {'num_leaves': 179}. Best is trial 10 with value: 0.24504561695362473.\n",
      "num_leaves, val_score: 0.245046:  60%|#############################4                   | 12/20 [00:28<00:19,  2.47s/it]"
     ]
    },
    {
     "name": "stdout",
     "output_type": "stream",
     "text": [
      "[200]\tcv_agg's l2: 0.246099 + 0.0591382\n",
      "Early stopping, best iteration is:\n",
      "[102]\tcv_agg's l2: 0.245046 + 0.058905\n",
      "[100]\tcv_agg's l2: 0.247526 + 0.0606203\n"
     ]
    },
    {
     "name": "stderr",
     "output_type": "stream",
     "text": [
      "num_leaves, val_score: 0.245046:  65%|###############################8                 | 13/20 [00:30<00:17,  2.46s/it][I 2023-11-09 20:52:02,986] Trial 19 finished with value: 0.2473088037610794 and parameters: {'num_leaves': 44}. Best is trial 10 with value: 0.24504561695362473.\n",
      "num_leaves, val_score: 0.245046:  65%|###############################8                 | 13/20 [00:30<00:17,  2.46s/it]"
     ]
    },
    {
     "name": "stdout",
     "output_type": "stream",
     "text": [
      "[200]\tcv_agg's l2: 0.246099 + 0.0591382\n",
      "Early stopping, best iteration is:\n",
      "[102]\tcv_agg's l2: 0.245046 + 0.058905\n",
      "[100]\tcv_agg's l2: 0.247526 + 0.0606203\n"
     ]
    },
    {
     "name": "stderr",
     "output_type": "stream",
     "text": [
      "num_leaves, val_score: 0.245046:  70%|##################################3              | 14/20 [00:33<00:14,  2.45s/it][I 2023-11-09 20:52:05,416] Trial 20 finished with value: 0.2473088037610794 and parameters: {'num_leaves': 100}. Best is trial 10 with value: 0.24504561695362473.\n",
      "num_leaves, val_score: 0.245046:  70%|##################################3              | 14/20 [00:33<00:14,  2.45s/it]"
     ]
    },
    {
     "name": "stdout",
     "output_type": "stream",
     "text": [
      "[200]\tcv_agg's l2: 0.246099 + 0.0591382\n",
      "Early stopping, best iteration is:\n",
      "[102]\tcv_agg's l2: 0.245046 + 0.058905\n",
      "[100]\tcv_agg's l2: 0.247526 + 0.0606203\n"
     ]
    },
    {
     "name": "stderr",
     "output_type": "stream",
     "text": [
      "num_leaves, val_score: 0.245046:  75%|####################################7            | 15/20 [00:35<00:12,  2.49s/it][I 2023-11-09 20:52:07,984] Trial 21 finished with value: 0.2473088037610794 and parameters: {'num_leaves': 82}. Best is trial 10 with value: 0.24504561695362473.\n",
      "num_leaves, val_score: 0.245046:  75%|####################################7            | 15/20 [00:35<00:12,  2.49s/it]"
     ]
    },
    {
     "name": "stdout",
     "output_type": "stream",
     "text": [
      "[200]\tcv_agg's l2: 0.246099 + 0.0591382\n",
      "Early stopping, best iteration is:\n",
      "[102]\tcv_agg's l2: 0.245046 + 0.058905\n",
      "[100]\tcv_agg's l2: 0.247526 + 0.0606203\n"
     ]
    },
    {
     "name": "stderr",
     "output_type": "stream",
     "text": [
      "num_leaves, val_score: 0.245046:  80%|#######################################2         | 16/20 [00:38<00:09,  2.47s/it][I 2023-11-09 20:52:10,423] Trial 22 finished with value: 0.2473088037610794 and parameters: {'num_leaves': 35}. Best is trial 10 with value: 0.24504561695362473.\n",
      "num_leaves, val_score: 0.245046:  80%|#######################################2         | 16/20 [00:38<00:09,  2.47s/it]"
     ]
    },
    {
     "name": "stdout",
     "output_type": "stream",
     "text": [
      "[200]\tcv_agg's l2: 0.246099 + 0.0591382\n",
      "Early stopping, best iteration is:\n",
      "[102]\tcv_agg's l2: 0.245046 + 0.058905\n",
      "[100]\tcv_agg's l2: 0.245679 + 0.0613949\n"
     ]
    },
    {
     "name": "stderr",
     "output_type": "stream",
     "text": [
      "num_leaves, val_score: 0.245046:  85%|#########################################6       | 17/20 [00:40<00:07,  2.46s/it][I 2023-11-09 20:52:12,846] Trial 23 finished with value: 0.24578283062324852 and parameters: {'num_leaves': 25}. Best is trial 10 with value: 0.24504561695362473.\n",
      "num_leaves, val_score: 0.245046:  85%|#########################################6       | 17/20 [00:40<00:07,  2.46s/it]"
     ]
    },
    {
     "name": "stdout",
     "output_type": "stream",
     "text": [
      "[200]\tcv_agg's l2: 0.249074 + 0.0573115\n",
      "Early stopping, best iteration is:\n",
      "[102]\tcv_agg's l2: 0.245046 + 0.058905\n",
      "[100]\tcv_agg's l2: 0.243703 + 0.0609857\n"
     ]
    },
    {
     "name": "stderr",
     "output_type": "stream",
     "text": [
      "num_leaves, val_score: 0.243227:  90%|############################################1    | 18/20 [00:42<00:04,  2.29s/it][I 2023-11-09 20:52:14,761] Trial 24 finished with value: 0.24322739497819304 and parameters: {'num_leaves': 21}. Best is trial 24 with value: 0.24322739497819304.\n",
      "num_leaves, val_score: 0.243227:  90%|############################################1    | 18/20 [00:42<00:04,  2.29s/it]"
     ]
    },
    {
     "name": "stdout",
     "output_type": "stream",
     "text": [
      "Early stopping, best iteration is:\n",
      "[99]\tcv_agg's l2: 0.243227 + 0.0606252\n",
      "[100]\tcv_agg's l2: 0.245679 + 0.0613949\n"
     ]
    },
    {
     "name": "stderr",
     "output_type": "stream",
     "text": [
      "num_leaves, val_score: 0.243227:  95%|##############################################5  | 19/20 [00:44<00:02,  2.29s/it][I 2023-11-09 20:52:17,038] Trial 25 finished with value: 0.24573238881427298 and parameters: {'num_leaves': 25}. Best is trial 24 with value: 0.24322739497819304.\n",
      "num_leaves, val_score: 0.243227:  95%|##############################################5  | 19/20 [00:44<00:02,  2.29s/it]"
     ]
    },
    {
     "name": "stdout",
     "output_type": "stream",
     "text": [
      "Early stopping, best iteration is:\n",
      "[99]\tcv_agg's l2: 0.243227 + 0.0606252\n",
      "[100]\tcv_agg's l2: 0.243703 + 0.0609857\n"
     ]
    },
    {
     "name": "stderr",
     "output_type": "stream",
     "text": [
      "num_leaves, val_score: 0.243227: 100%|#################################################| 20/20 [00:46<00:00,  2.19s/it][I 2023-11-09 20:52:18,999] Trial 26 finished with value: 0.24322739497819304 and parameters: {'num_leaves': 21}. Best is trial 24 with value: 0.24322739497819304.\n",
      "num_leaves, val_score: 0.243227: 100%|#################################################| 20/20 [00:46<00:00,  2.34s/it]\n"
     ]
    },
    {
     "name": "stdout",
     "output_type": "stream",
     "text": [
      "Early stopping, best iteration is:\n",
      "[99]\tcv_agg's l2: 0.243227 + 0.0606252\n"
     ]
    },
    {
     "name": "stderr",
     "output_type": "stream",
     "text": [
      "bagging, val_score: 0.243227:   0%|                                                             | 0/10 [00:00<?, ?it/s]"
     ]
    },
    {
     "name": "stdout",
     "output_type": "stream",
     "text": [
      "[100]\tcv_agg's l2: 0.282939 + 0.0575262\n"
     ]
    },
    {
     "name": "stderr",
     "output_type": "stream",
     "text": [
      "bagging, val_score: 0.243227:  10%|#####3                                               | 1/10 [00:01<00:13,  1.51s/it][I 2023-11-09 20:52:20,519] Trial 27 finished with value: 0.2826570517759553 and parameters: {'bagging_fraction': 0.5631639299056268, 'bagging_freq': 4}. Best is trial 27 with value: 0.2826570517759553.\n",
      "bagging, val_score: 0.243227:  10%|#####3                                               | 1/10 [00:01<00:13,  1.51s/it]"
     ]
    },
    {
     "name": "stdout",
     "output_type": "stream",
     "text": [
      "Early stopping, best iteration is:\n",
      "[99]\tcv_agg's l2: 0.243227 + 0.0606252\n",
      "[100]\tcv_agg's l2: 0.239947 + 0.0521989\n"
     ]
    },
    {
     "name": "stderr",
     "output_type": "stream",
     "text": [
      "\r",
      "bagging, val_score: 0.238872:  10%|#####3                                               | 1/10 [00:03<00:13,  1.51s/it]"
     ]
    },
    {
     "name": "stdout",
     "output_type": "stream",
     "text": [
      "[200]\tcv_agg's l2: 0.241032 + 0.0533253\n",
      "Early stopping, best iteration is:\n",
      "[120]\tcv_agg's l2: 0.238872 + 0.052011\n"
     ]
    },
    {
     "name": "stderr",
     "output_type": "stream",
     "text": [
      "bagging, val_score: 0.238872:  20%|##########6                                          | 2/10 [00:03<00:16,  2.01s/it][I 2023-11-09 20:52:22,880] Trial 28 finished with value: 0.2388721825673084 and parameters: {'bagging_fraction': 0.9850100668159161, 'bagging_freq': 1}. Best is trial 28 with value: 0.2388721825673084.\n",
      "bagging, val_score: 0.238872:  20%|##########6                                          | 2/10 [00:03<00:16,  2.01s/it]"
     ]
    },
    {
     "name": "stdout",
     "output_type": "stream",
     "text": [
      "[100]\tcv_agg's l2: 0.243703 + 0.0609857\n"
     ]
    },
    {
     "name": "stderr",
     "output_type": "stream",
     "text": [
      "\r",
      "bagging, val_score: 0.238872:  20%|##########6                                          | 2/10 [00:05<00:16,  2.01s/it]"
     ]
    },
    {
     "name": "stdout",
     "output_type": "stream",
     "text": [
      "[200]\tcv_agg's l2: 0.246932 + 0.059148\n",
      "Early stopping, best iteration is:\n",
      "[120]\tcv_agg's l2: 0.238872 + 0.052011\n"
     ]
    },
    {
     "name": "stderr",
     "output_type": "stream",
     "text": [
      "bagging, val_score: 0.238872:  30%|###############9                                     | 3/10 [00:05<00:14,  2.06s/it][I 2023-11-09 20:52:24,994] Trial 29 finished with value: 0.24456026950583123 and parameters: {'bagging_fraction': 0.999393254079557, 'bagging_freq': 1}. Best is trial 28 with value: 0.2388721825673084.\n",
      "bagging, val_score: 0.238872:  30%|###############9                                     | 3/10 [00:05<00:14,  2.06s/it]"
     ]
    },
    {
     "name": "stdout",
     "output_type": "stream",
     "text": [
      "[100]\tcv_agg's l2: 0.243703 + 0.0609857\n"
     ]
    },
    {
     "name": "stderr",
     "output_type": "stream",
     "text": [
      "\r",
      "bagging, val_score: 0.238872:  30%|###############9                                     | 3/10 [00:08<00:14,  2.06s/it]"
     ]
    },
    {
     "name": "stdout",
     "output_type": "stream",
     "text": [
      "[200]\tcv_agg's l2: 0.246932 + 0.059148\n",
      "Early stopping, best iteration is:\n",
      "[120]\tcv_agg's l2: 0.238872 + 0.052011\n"
     ]
    },
    {
     "name": "stderr",
     "output_type": "stream",
     "text": [
      "bagging, val_score: 0.238872:  40%|#####################2                               | 4/10 [00:08<00:12,  2.10s/it][I 2023-11-09 20:52:27,153] Trial 30 finished with value: 0.24456026950583123 and parameters: {'bagging_fraction': 0.9985773454960439, 'bagging_freq': 1}. Best is trial 28 with value: 0.2388721825673084.\n",
      "bagging, val_score: 0.238872:  40%|#####################2                               | 4/10 [00:08<00:12,  2.10s/it]"
     ]
    },
    {
     "name": "stdout",
     "output_type": "stream",
     "text": [
      "[100]\tcv_agg's l2: 0.240111 + 0.0595225\n",
      "[200]\tcv_agg's l2: 0.241011 + 0.0584287\n"
     ]
    },
    {
     "name": "stderr",
     "output_type": "stream",
     "text": [
      "bagging, val_score: 0.238187:  50%|##########################5                          | 5/10 [00:10<00:11,  2.22s/it][I 2023-11-09 20:52:29,597] Trial 31 finished with value: 0.23818680809723425 and parameters: {'bagging_fraction': 0.9927461470119074, 'bagging_freq': 1}. Best is trial 31 with value: 0.23818680809723425.\n",
      "bagging, val_score: 0.238187:  50%|##########################5                          | 5/10 [00:10<00:11,  2.22s/it]"
     ]
    },
    {
     "name": "stdout",
     "output_type": "stream",
     "text": [
      "Early stopping, best iteration is:\n",
      "[143]\tcv_agg's l2: 0.238187 + 0.0582386\n",
      "[100]\tcv_agg's l2: 0.246137 + 0.0524969\n",
      "[200]\tcv_agg's l2: 0.246953 + 0.0500738\n"
     ]
    },
    {
     "name": "stderr",
     "output_type": "stream",
     "text": [
      "bagging, val_score: 0.238187:  60%|###############################8                     | 6/10 [00:13<00:09,  2.32s/it][I 2023-11-09 20:52:32,093] Trial 32 finished with value: 0.24664648005047457 and parameters: {'bagging_fraction': 0.8557082740004828, 'bagging_freq': 1}. Best is trial 31 with value: 0.23818680809723425.\n",
      "bagging, val_score: 0.238187:  60%|###############################8                     | 6/10 [00:13<00:09,  2.32s/it]"
     ]
    },
    {
     "name": "stdout",
     "output_type": "stream",
     "text": [
      "Early stopping, best iteration is:\n",
      "[143]\tcv_agg's l2: 0.238187 + 0.0582386\n",
      "[100]\tcv_agg's l2: 0.257004 + 0.0562531\n",
      "[200]\tcv_agg's l2: 0.25575 + 0.0514442\n"
     ]
    },
    {
     "name": "stderr",
     "output_type": "stream",
     "text": [
      "bagging, val_score: 0.238187:  70%|#####################################                | 7/10 [00:15<00:07,  2.35s/it][I 2023-11-09 20:52:34,517] Trial 33 finished with value: 0.2538054786857057 and parameters: {'bagging_fraction': 0.778053390775207, 'bagging_freq': 4}. Best is trial 31 with value: 0.23818680809723425.\n",
      "bagging, val_score: 0.238187:  70%|#####################################                | 7/10 [00:15<00:07,  2.35s/it]"
     ]
    },
    {
     "name": "stdout",
     "output_type": "stream",
     "text": [
      "Early stopping, best iteration is:\n",
      "[143]\tcv_agg's l2: 0.238187 + 0.0582386\n",
      "[100]\tcv_agg's l2: 0.237969 + 0.0477517\n"
     ]
    },
    {
     "name": "stderr",
     "output_type": "stream",
     "text": [
      "bagging, val_score: 0.236939:  80%|##########################################4          | 8/10 [00:17<00:04,  2.22s/it][I 2023-11-09 20:52:36,461] Trial 34 finished with value: 0.23693947782225638 and parameters: {'bagging_fraction': 0.8806236164114358, 'bagging_freq': 3}. Best is trial 34 with value: 0.23693947782225638.\n",
      "bagging, val_score: 0.236939:  80%|##########################################4          | 8/10 [00:17<00:04,  2.22s/it]"
     ]
    },
    {
     "name": "stdout",
     "output_type": "stream",
     "text": [
      "Early stopping, best iteration is:\n",
      "[85]\tcv_agg's l2: 0.236939 + 0.0499397\n",
      "[100]\tcv_agg's l2: 0.238869 + 0.0575213\n"
     ]
    },
    {
     "name": "stderr",
     "output_type": "stream",
     "text": [
      "bagging, val_score: 0.236939:  90%|###############################################7     | 9/10 [00:19<00:02,  2.13s/it][I 2023-11-09 20:52:38,380] Trial 35 finished with value: 0.24155338158869086 and parameters: {'bagging_fraction': 0.947220324328089, 'bagging_freq': 3}. Best is trial 34 with value: 0.23693947782225638.\n",
      "bagging, val_score: 0.236939:  90%|###############################################7     | 9/10 [00:19<00:02,  2.13s/it]"
     ]
    },
    {
     "name": "stdout",
     "output_type": "stream",
     "text": [
      "Early stopping, best iteration is:\n",
      "[85]\tcv_agg's l2: 0.236939 + 0.0499397\n",
      "[100]\tcv_agg's l2: 0.243561 + 0.0611925\n"
     ]
    },
    {
     "name": "stderr",
     "output_type": "stream",
     "text": [
      "bagging, val_score: 0.236939: 100%|####################################################| 10/10 [00:21<00:00,  2.08s/it][I 2023-11-09 20:52:40,359] Trial 36 finished with value: 0.24529284102674498 and parameters: {'bagging_fraction': 0.9561089436789779, 'bagging_freq': 3}. Best is trial 34 with value: 0.23693947782225638.\n",
      "bagging, val_score: 0.236939: 100%|####################################################| 10/10 [00:21<00:00,  2.14s/it]\n"
     ]
    },
    {
     "name": "stdout",
     "output_type": "stream",
     "text": [
      "Early stopping, best iteration is:\n",
      "[85]\tcv_agg's l2: 0.236939 + 0.0499397\n"
     ]
    },
    {
     "name": "stderr",
     "output_type": "stream",
     "text": [
      "feature_fraction_stage2, val_score: 0.236939:   0%|                                              | 0/6 [00:00<?, ?it/s]"
     ]
    },
    {
     "name": "stdout",
     "output_type": "stream",
     "text": [
      "[100]\tcv_agg's l2: 0.237969 + 0.0477517\n"
     ]
    },
    {
     "name": "stderr",
     "output_type": "stream",
     "text": [
      "feature_fraction_stage2, val_score: 0.236939:  17%|######3                               | 1/6 [00:02<00:12,  2.46s/it][I 2023-11-09 20:52:42,824] Trial 37 finished with value: 0.23693947782225638 and parameters: {'feature_fraction': 0.6479999999999999}. Best is trial 37 with value: 0.23693947782225638.\n",
      "feature_fraction_stage2, val_score: 0.236939:  17%|######3                               | 1/6 [00:02<00:12,  2.46s/it]"
     ]
    },
    {
     "name": "stdout",
     "output_type": "stream",
     "text": [
      "Early stopping, best iteration is:\n",
      "[85]\tcv_agg's l2: 0.236939 + 0.0499397\n",
      "[100]\tcv_agg's l2: 0.237969 + 0.0477517\n"
     ]
    },
    {
     "name": "stderr",
     "output_type": "stream",
     "text": [
      "feature_fraction_stage2, val_score: 0.236939:  33%|############6                         | 2/6 [00:04<00:08,  2.20s/it][I 2023-11-09 20:52:44,838] Trial 38 finished with value: 0.23693947782225638 and parameters: {'feature_fraction': 0.584}. Best is trial 37 with value: 0.23693947782225638.\n",
      "feature_fraction_stage2, val_score: 0.236939:  33%|############6                         | 2/6 [00:04<00:08,  2.20s/it]"
     ]
    },
    {
     "name": "stdout",
     "output_type": "stream",
     "text": [
      "Early stopping, best iteration is:\n",
      "[85]\tcv_agg's l2: 0.236939 + 0.0499397\n",
      "[100]\tcv_agg's l2: 0.237969 + 0.0477517\n"
     ]
    },
    {
     "name": "stderr",
     "output_type": "stream",
     "text": [
      "feature_fraction_stage2, val_score: 0.236939:  50%|###################                   | 3/6 [00:06<00:06,  2.07s/it][I 2023-11-09 20:52:46,752] Trial 39 finished with value: 0.23693947782225638 and parameters: {'feature_fraction': 0.6799999999999999}. Best is trial 37 with value: 0.23693947782225638.\n",
      "feature_fraction_stage2, val_score: 0.236939:  50%|###################                   | 3/6 [00:06<00:06,  2.07s/it]"
     ]
    },
    {
     "name": "stdout",
     "output_type": "stream",
     "text": [
      "Early stopping, best iteration is:\n",
      "[85]\tcv_agg's l2: 0.236939 + 0.0499397\n",
      "[100]\tcv_agg's l2: 0.401184 + 0.0559247\n"
     ]
    },
    {
     "name": "stderr",
     "output_type": "stream",
     "text": [
      "feature_fraction_stage2, val_score: 0.236939:  67%|#########################3            | 4/6 [00:08<00:04,  2.02s/it][I 2023-11-09 20:52:48,693] Trial 40 finished with value: 0.416496155806202 and parameters: {'feature_fraction': 0.52}. Best is trial 37 with value: 0.23693947782225638.\n",
      "feature_fraction_stage2, val_score: 0.236939:  67%|#########################3            | 4/6 [00:08<00:04,  2.02s/it]"
     ]
    },
    {
     "name": "stdout",
     "output_type": "stream",
     "text": [
      "Early stopping, best iteration is:\n",
      "[85]\tcv_agg's l2: 0.236939 + 0.0499397\n",
      "[100]\tcv_agg's l2: 0.237969 + 0.0477517\n"
     ]
    },
    {
     "name": "stderr",
     "output_type": "stream",
     "text": [
      "feature_fraction_stage2, val_score: 0.236939:  83%|###############################6      | 5/6 [00:10<00:01,  1.96s/it][I 2023-11-09 20:52:50,559] Trial 41 finished with value: 0.23693947782225638 and parameters: {'feature_fraction': 0.616}. Best is trial 37 with value: 0.23693947782225638.\n",
      "feature_fraction_stage2, val_score: 0.236939:  83%|###############################6      | 5/6 [00:10<00:01,  1.96s/it]"
     ]
    },
    {
     "name": "stdout",
     "output_type": "stream",
     "text": [
      "Early stopping, best iteration is:\n",
      "[85]\tcv_agg's l2: 0.236939 + 0.0499397\n",
      "[100]\tcv_agg's l2: 0.401184 + 0.0559247\n"
     ]
    },
    {
     "name": "stderr",
     "output_type": "stream",
     "text": [
      "feature_fraction_stage2, val_score: 0.236939: 100%|######################################| 6/6 [00:12<00:00,  1.93s/it][I 2023-11-09 20:52:52,431] Trial 42 finished with value: 0.416496155806202 and parameters: {'feature_fraction': 0.552}. Best is trial 37 with value: 0.23693947782225638.\n",
      "feature_fraction_stage2, val_score: 0.236939: 100%|######################################| 6/6 [00:12<00:00,  2.01s/it]\n"
     ]
    },
    {
     "name": "stdout",
     "output_type": "stream",
     "text": [
      "Early stopping, best iteration is:\n",
      "[85]\tcv_agg's l2: 0.236939 + 0.0499397\n"
     ]
    },
    {
     "name": "stderr",
     "output_type": "stream",
     "text": [
      "regularization_factors, val_score: 0.236939:   0%|                                              | 0/20 [00:00<?, ?it/s]"
     ]
    },
    {
     "name": "stdout",
     "output_type": "stream",
     "text": [
      "[100]\tcv_agg's l2: 0.237969 + 0.0477517\n"
     ]
    },
    {
     "name": "stderr",
     "output_type": "stream",
     "text": [
      "regularization_factors, val_score: 0.236939:   5%|#9                                    | 1/20 [00:01<00:36,  1.91s/it][I 2023-11-09 20:52:54,350] Trial 43 finished with value: 0.2369394779150044 and parameters: {'lambda_l1': 2.6504069864626075e-08, 'lambda_l2': 1.0006336921471825e-07}. Best is trial 43 with value: 0.2369394779150044.\n",
      "regularization_factors, val_score: 0.236939:   5%|#9                                    | 1/20 [00:01<00:36,  1.91s/it]"
     ]
    },
    {
     "name": "stdout",
     "output_type": "stream",
     "text": [
      "Early stopping, best iteration is:\n",
      "[85]\tcv_agg's l2: 0.236939 + 0.0499397\n",
      "[100]\tcv_agg's l2: 0.262447 + 0.0705452\n"
     ]
    },
    {
     "name": "stderr",
     "output_type": "stream",
     "text": [
      "regularization_factors, val_score: 0.236939:  10%|###8                                  | 2/20 [00:02<00:25,  1.42s/it][I 2023-11-09 20:52:55,418] Trial 44 finished with value: 0.26669774119064604 and parameters: {'lambda_l1': 3.9490192830092603, 'lambda_l2': 4.706698980437806}. Best is trial 43 with value: 0.2369394779150044.\n",
      "regularization_factors, val_score: 0.236939:  10%|###8                                  | 2/20 [00:02<00:25,  1.42s/it]"
     ]
    },
    {
     "name": "stdout",
     "output_type": "stream",
     "text": [
      "Early stopping, best iteration is:\n",
      "[85]\tcv_agg's l2: 0.236939 + 0.0499397\n",
      "[100]\tcv_agg's l2: 0.237804 + 0.0482941\n"
     ]
    },
    {
     "name": "stderr",
     "output_type": "stream",
     "text": [
      "regularization_factors, val_score: 0.236644:  15%|#####7                                | 3/20 [00:04<00:27,  1.63s/it][I 2023-11-09 20:52:57,308] Trial 45 finished with value: 0.2366436845560344 and parameters: {'lambda_l1': 0.0001654628959193574, 'lambda_l2': 8.061883498698882e-08}. Best is trial 45 with value: 0.2366436845560344.\n",
      "regularization_factors, val_score: 0.236644:  15%|#####7                                | 3/20 [00:04<00:27,  1.63s/it]"
     ]
    },
    {
     "name": "stdout",
     "output_type": "stream",
     "text": [
      "Early stopping, best iteration is:\n",
      "[85]\tcv_agg's l2: 0.236644 + 0.0500022\n",
      "[100]\tcv_agg's l2: 0.237804 + 0.0482942\n"
     ]
    },
    {
     "name": "stderr",
     "output_type": "stream",
     "text": [
      "regularization_factors, val_score: 0.236644:  20%|#######6                              | 4/20 [00:06<00:28,  1.77s/it][I 2023-11-09 20:52:59,279] Trial 46 finished with value: 0.23664384664156293 and parameters: {'lambda_l1': 0.00024241141944141278, 'lambda_l2': 1.9927117887851784e-08}. Best is trial 45 with value: 0.2366436845560344.\n",
      "regularization_factors, val_score: 0.236644:  20%|#######6                              | 4/20 [00:06<00:28,  1.77s/it]"
     ]
    },
    {
     "name": "stdout",
     "output_type": "stream",
     "text": [
      "Early stopping, best iteration is:\n",
      "[85]\tcv_agg's l2: 0.236644 + 0.0500022\n",
      "[100]\tcv_agg's l2: 0.237637 + 0.048002\n"
     ]
    },
    {
     "name": "stderr",
     "output_type": "stream",
     "text": [
      "regularization_factors, val_score: 0.236644:  25%|#########5                            | 5/20 [00:08<00:27,  1.84s/it][I 2023-11-09 20:53:01,241] Trial 47 finished with value: 0.2367073708447062 and parameters: {'lambda_l1': 0.0001079950901324536, 'lambda_l2': 1.028881078955169e-08}. Best is trial 45 with value: 0.2366436845560344.\n",
      "regularization_factors, val_score: 0.236644:  25%|#########5                            | 5/20 [00:08<00:27,  1.84s/it]"
     ]
    },
    {
     "name": "stdout",
     "output_type": "stream",
     "text": [
      "Early stopping, best iteration is:\n",
      "[85]\tcv_agg's l2: 0.236644 + 0.0500022\n",
      "[100]\tcv_agg's l2: 0.237804 + 0.0482943\n"
     ]
    },
    {
     "name": "stderr",
     "output_type": "stream",
     "text": [
      "regularization_factors, val_score: 0.236644:  30%|###########4                          | 6/20 [00:10<00:26,  1.89s/it][I 2023-11-09 20:53:03,226] Trial 48 finished with value: 0.23664386331809792 and parameters: {'lambda_l1': 0.00025003259317263695, 'lambda_l2': 1.4959765372580082e-08}. Best is trial 45 with value: 0.2366436845560344.\n",
      "regularization_factors, val_score: 0.236644:  30%|###########4                          | 6/20 [00:10<00:26,  1.89s/it]"
     ]
    },
    {
     "name": "stdout",
     "output_type": "stream",
     "text": [
      "Early stopping, best iteration is:\n",
      "[85]\tcv_agg's l2: 0.236644 + 0.0500022\n",
      "[100]\tcv_agg's l2: 0.237804 + 0.0482942\n"
     ]
    },
    {
     "name": "stderr",
     "output_type": "stream",
     "text": [
      "regularization_factors, val_score: 0.236644:  35%|#############3                        | 7/20 [00:12<00:24,  1.92s/it][I 2023-11-09 20:53:05,219] Trial 49 finished with value: 0.2366437838913275 and parameters: {'lambda_l1': 0.00021248806988942166, 'lambda_l2': 1.065016370701238e-08}. Best is trial 45 with value: 0.2366436845560344.\n",
      "regularization_factors, val_score: 0.236644:  35%|#############3                        | 7/20 [00:12<00:24,  1.92s/it]"
     ]
    },
    {
     "name": "stdout",
     "output_type": "stream",
     "text": [
      "Early stopping, best iteration is:\n",
      "[85]\tcv_agg's l2: 0.236644 + 0.0500022\n",
      "[100]\tcv_agg's l2: 0.237804 + 0.0482941\n"
     ]
    },
    {
     "name": "stderr",
     "output_type": "stream",
     "text": [
      "regularization_factors, val_score: 0.236644:  40%|###############2                      | 8/20 [00:14<00:23,  1.95s/it][I 2023-11-09 20:53:07,238] Trial 50 finished with value: 0.23664368337629837 and parameters: {'lambda_l1': 0.000164886581463023, 'lambda_l2': 1.043708983575049e-08}. Best is trial 50 with value: 0.23664368337629837.\n",
      "regularization_factors, val_score: 0.236644:  40%|###############2                      | 8/20 [00:14<00:23,  1.95s/it]"
     ]
    },
    {
     "name": "stdout",
     "output_type": "stream",
     "text": [
      "Early stopping, best iteration is:\n",
      "[85]\tcv_agg's l2: 0.236644 + 0.0500022\n",
      "[100]\tcv_agg's l2: 0.237804 + 0.0482941\n"
     ]
    },
    {
     "name": "stderr",
     "output_type": "stream",
     "text": [
      "regularization_factors, val_score: 0.236644:  45%|#################1                    | 9/20 [00:16<00:21,  1.94s/it][I 2023-11-09 20:53:09,161] Trial 51 finished with value: 0.23664365953885466 and parameters: {'lambda_l1': 0.00015388584210157302, 'lambda_l2': 1.0171318647530251e-08}. Best is trial 51 with value: 0.23664365953885466.\n",
      "regularization_factors, val_score: 0.236644:  45%|#################1                    | 9/20 [00:16<00:21,  1.94s/it]"
     ]
    },
    {
     "name": "stdout",
     "output_type": "stream",
     "text": [
      "Early stopping, best iteration is:\n",
      "[85]\tcv_agg's l2: 0.236644 + 0.0500022\n",
      "[100]\tcv_agg's l2: 0.237804 + 0.0482942\n"
     ]
    },
    {
     "name": "stderr",
     "output_type": "stream",
     "text": [
      "regularization_factors, val_score: 0.236644:  50%|##################5                  | 10/20 [00:18<00:19,  1.93s/it][I 2023-11-09 20:53:11,072] Trial 52 finished with value: 0.23664375342130478 and parameters: {'lambda_l1': 0.00019804235134805351, 'lambda_l2': 1.1989661164751147e-08}. Best is trial 51 with value: 0.23664365953885466.\n",
      "regularization_factors, val_score: 0.236644:  50%|##################5                  | 10/20 [00:18<00:19,  1.93s/it]"
     ]
    },
    {
     "name": "stdout",
     "output_type": "stream",
     "text": [
      "Early stopping, best iteration is:\n",
      "[85]\tcv_agg's l2: 0.236644 + 0.0500022\n",
      "[100]\tcv_agg's l2: 0.237804 + 0.0482941\n"
     ]
    },
    {
     "name": "stderr",
     "output_type": "stream",
     "text": [
      "regularization_factors, val_score: 0.236644:  55%|####################3                | 11/20 [00:20<00:17,  1.94s/it][I 2023-11-09 20:53:13,017] Trial 53 finished with value: 0.23664371057352818 and parameters: {'lambda_l1': 0.0001781217991652313, 'lambda_l2': 1.160184815934455e-08}. Best is trial 51 with value: 0.23664365953885466.\n",
      "regularization_factors, val_score: 0.236644:  55%|####################3                | 11/20 [00:20<00:17,  1.94s/it]"
     ]
    },
    {
     "name": "stdout",
     "output_type": "stream",
     "text": [
      "Early stopping, best iteration is:\n",
      "[85]\tcv_agg's l2: 0.236644 + 0.0500022\n",
      "[100]\tcv_agg's l2: 0.237804 + 0.0482941\n"
     ]
    },
    {
     "name": "stderr",
     "output_type": "stream",
     "text": [
      "regularization_factors, val_score: 0.236644:  60%|######################2              | 12/20 [00:22<00:15,  1.95s/it][I 2023-11-09 20:53:14,999] Trial 54 finished with value: 0.23664359726105882 and parameters: {'lambda_l1': 0.00012450665840205215, 'lambda_l2': 1.0595251620877955e-08}. Best is trial 54 with value: 0.23664359726105882.\n",
      "regularization_factors, val_score: 0.236644:  60%|######################2              | 12/20 [00:22<00:15,  1.95s/it]"
     ]
    },
    {
     "name": "stdout",
     "output_type": "stream",
     "text": [
      "Early stopping, best iteration is:\n",
      "[85]\tcv_agg's l2: 0.236644 + 0.0500021\n",
      "[100]\tcv_agg's l2: 0.237804 + 0.0482941\n"
     ]
    },
    {
     "name": "stderr",
     "output_type": "stream",
     "text": [
      "regularization_factors, val_score: 0.236644:  65%|########################             | 13/20 [00:24<00:13,  1.97s/it][I 2023-11-09 20:53:17,016] Trial 55 finished with value: 0.23664358350532444 and parameters: {'lambda_l1': 0.00011788993829149475, 'lambda_l2': 1.270533081920171e-08}. Best is trial 55 with value: 0.23664358350532444.\n",
      "regularization_factors, val_score: 0.236644:  65%|########################             | 13/20 [00:24<00:13,  1.97s/it]"
     ]
    },
    {
     "name": "stdout",
     "output_type": "stream",
     "text": [
      "Early stopping, best iteration is:\n",
      "[85]\tcv_agg's l2: 0.236644 + 0.0500021\n",
      "[100]\tcv_agg's l2: 0.237637 + 0.048002\n"
     ]
    },
    {
     "name": "stderr",
     "output_type": "stream",
     "text": [
      "regularization_factors, val_score: 0.236644:  70%|#########################9           | 14/20 [00:26<00:12,  2.02s/it][I 2023-11-09 20:53:19,145] Trial 56 finished with value: 0.23670731341275525 and parameters: {'lambda_l1': 8.071659928884364e-05, 'lambda_l2': 2.5144975682153906e-07}. Best is trial 55 with value: 0.23664358350532444.\n",
      "regularization_factors, val_score: 0.236644:  70%|#########################9           | 14/20 [00:26<00:12,  2.02s/it]"
     ]
    },
    {
     "name": "stdout",
     "output_type": "stream",
     "text": [
      "Early stopping, best iteration is:\n",
      "[85]\tcv_agg's l2: 0.236644 + 0.0500021\n",
      "[100]\tcv_agg's l2: 0.237974 + 0.0477485\n"
     ]
    },
    {
     "name": "stderr",
     "output_type": "stream",
     "text": [
      "regularization_factors, val_score: 0.236644:  75%|###########################7         | 15/20 [00:28<00:10,  2.00s/it][I 2023-11-09 20:53:21,108] Trial 57 finished with value: 0.2369395469167756 and parameters: {'lambda_l1': 3.309744868860233e-05, 'lambda_l2': 4.780183339606029e-07}. Best is trial 55 with value: 0.23664358350532444.\n",
      "regularization_factors, val_score: 0.236644:  75%|###########################7         | 15/20 [00:28<00:10,  2.00s/it]"
     ]
    },
    {
     "name": "stdout",
     "output_type": "stream",
     "text": [
      "Early stopping, best iteration is:\n",
      "[85]\tcv_agg's l2: 0.236644 + 0.0500021\n",
      "[100]\tcv_agg's l2: 0.237974 + 0.0477485\n"
     ]
    },
    {
     "name": "stderr",
     "output_type": "stream",
     "text": [
      "regularization_factors, val_score: 0.236644:  80%|#############################6       | 16/20 [00:30<00:08,  2.01s/it][I 2023-11-09 20:53:23,121] Trial 58 finished with value: 0.23693950737795078 and parameters: {'lambda_l1': 1.4170950668888263e-05, 'lambda_l2': 1.0345081868234606e-08}. Best is trial 55 with value: 0.23664358350532444.\n",
      "regularization_factors, val_score: 0.236644:  80%|#############################6       | 16/20 [00:30<00:08,  2.01s/it]"
     ]
    },
    {
     "name": "stdout",
     "output_type": "stream",
     "text": [
      "Early stopping, best iteration is:\n",
      "[85]\tcv_agg's l2: 0.236644 + 0.0500021\n",
      "[100]\tcv_agg's l2: 0.237457 + 0.0473243\n"
     ]
    },
    {
     "name": "stderr",
     "output_type": "stream",
     "text": [
      "regularization_factors, val_score: 0.236644:  85%|###############################4     | 17/20 [00:32<00:05,  1.98s/it][I 2023-11-09 20:53:25,055] Trial 59 finished with value: 0.23801573841665208 and parameters: {'lambda_l1': 0.0037779448549195, 'lambda_l2': 6.018323121537113e-07}. Best is trial 55 with value: 0.23664358350532444.\n",
      "regularization_factors, val_score: 0.236644:  85%|###############################4     | 17/20 [00:32<00:05,  1.98s/it]"
     ]
    },
    {
     "name": "stdout",
     "output_type": "stream",
     "text": [
      "Early stopping, best iteration is:\n",
      "[85]\tcv_agg's l2: 0.236644 + 0.0500021\n",
      "[100]\tcv_agg's l2: 0.236024 + 0.0465056\n"
     ]
    },
    {
     "name": "stderr",
     "output_type": "stream",
     "text": [
      "regularization_factors, val_score: 0.235588:  90%|#################################3   | 18/20 [00:34<00:04,  2.03s/it][I 2023-11-09 20:53:27,202] Trial 60 finished with value: 0.23558781788100375 and parameters: {'lambda_l1': 0.0019742173611921455, 'lambda_l2': 2.5915613451174507e-07}. Best is trial 60 with value: 0.23558781788100375.\n",
      "regularization_factors, val_score: 0.235588:  90%|#################################3   | 18/20 [00:34<00:04,  2.03s/it]"
     ]
    },
    {
     "name": "stdout",
     "output_type": "stream",
     "text": [
      "Early stopping, best iteration is:\n",
      "[97]\tcv_agg's l2: 0.235588 + 0.0460616\n",
      "[100]\tcv_agg's l2: 0.237872 + 0.0494408\n"
     ]
    },
    {
     "name": "stderr",
     "output_type": "stream",
     "text": [
      "regularization_factors, val_score: 0.235588:  95%|###################################1 | 19/20 [00:37<00:02,  2.11s/it][I 2023-11-09 20:53:29,481] Trial 61 finished with value: 0.23764654162966442 and parameters: {'lambda_l1': 0.0025828699948408054, 'lambda_l2': 1.4724080628686324e-07}. Best is trial 60 with value: 0.23558781788100375.\n",
      "regularization_factors, val_score: 0.235588:  95%|###################################1 | 19/20 [00:37<00:02,  2.11s/it]"
     ]
    },
    {
     "name": "stdout",
     "output_type": "stream",
     "text": [
      "Early stopping, best iteration is:\n",
      "[97]\tcv_agg's l2: 0.235588 + 0.0460616\n",
      "[100]\tcv_agg's l2: 0.236842 + 0.0472727\n"
     ]
    },
    {
     "name": "stderr",
     "output_type": "stream",
     "text": [
      "regularization_factors, val_score: 0.235588: 100%|#####################################| 20/20 [00:39<00:00,  2.12s/it][I 2023-11-09 20:53:31,642] Trial 62 finished with value: 0.23652452194005597 and parameters: {'lambda_l1': 0.0014304084076160672, 'lambda_l2': 1.1881443603955422e-07}. Best is trial 60 with value: 0.23558781788100375.\n",
      "regularization_factors, val_score: 0.235588: 100%|#####################################| 20/20 [00:39<00:00,  1.96s/it]\n"
     ]
    },
    {
     "name": "stdout",
     "output_type": "stream",
     "text": [
      "Early stopping, best iteration is:\n",
      "[97]\tcv_agg's l2: 0.235588 + 0.0460616\n"
     ]
    },
    {
     "name": "stderr",
     "output_type": "stream",
     "text": [
      "min_data_in_leaf, val_score: 0.235588:   0%|                                                     | 0/5 [00:00<?, ?it/s]"
     ]
    },
    {
     "name": "stdout",
     "output_type": "stream",
     "text": [
      "[100]\tcv_agg's l2: 0.232791 + 0.050744\n"
     ]
    },
    {
     "name": "stderr",
     "output_type": "stream",
     "text": [
      "min_data_in_leaf, val_score: 0.231600:  20%|#########                                    | 1/5 [00:02<00:08,  2.03s/it][I 2023-11-09 20:53:33,682] Trial 63 finished with value: 0.2315997443374595 and parameters: {'min_child_samples': 5}. Best is trial 63 with value: 0.2315997443374595.\n",
      "min_data_in_leaf, val_score: 0.231600:  20%|#########                                    | 1/5 [00:02<00:08,  2.03s/it]"
     ]
    },
    {
     "name": "stdout",
     "output_type": "stream",
     "text": [
      "Early stopping, best iteration is:\n",
      "[83]\tcv_agg's l2: 0.2316 + 0.0519311\n",
      "[100]\tcv_agg's l2: 0.35602 + 0.0780318\n"
     ]
    },
    {
     "name": "stderr",
     "output_type": "stream",
     "text": [
      "min_data_in_leaf, val_score: 0.231600:  40%|##################                           | 2/5 [00:03<00:04,  1.41s/it][I 2023-11-09 20:53:34,663] Trial 64 finished with value: 0.35994818818094937 and parameters: {'min_child_samples': 50}. Best is trial 63 with value: 0.2315997443374595.\n",
      "min_data_in_leaf, val_score: 0.231600:  40%|##################                           | 2/5 [00:03<00:04,  1.41s/it]"
     ]
    },
    {
     "name": "stdout",
     "output_type": "stream",
     "text": [
      "Early stopping, best iteration is:\n",
      "[83]\tcv_agg's l2: 0.2316 + 0.0519311\n",
      "[100]\tcv_agg's l2: 0.236276 + 0.0556763\n"
     ]
    },
    {
     "name": "stderr",
     "output_type": "stream",
     "text": [
      "min_data_in_leaf, val_score: 0.231600:  60%|###########################                  | 3/5 [00:04<00:03,  1.66s/it][I 2023-11-09 20:53:36,621] Trial 65 finished with value: 0.2363820189738696 and parameters: {'min_child_samples': 10}. Best is trial 63 with value: 0.2315997443374595.\n",
      "min_data_in_leaf, val_score: 0.231600:  60%|###########################                  | 3/5 [00:04<00:03,  1.66s/it]"
     ]
    },
    {
     "name": "stdout",
     "output_type": "stream",
     "text": [
      "Early stopping, best iteration is:\n",
      "[83]\tcv_agg's l2: 0.2316 + 0.0519311\n",
      "[100]\tcv_agg's l2: 0.987256 + 0.149848\n"
     ]
    },
    {
     "name": "stderr",
     "output_type": "stream",
     "text": [
      "min_data_in_leaf, val_score: 0.231600:  80%|####################################         | 4/5 [00:05<00:01,  1.27s/it][I 2023-11-09 20:53:37,291] Trial 66 finished with value: 1.0018641337729979 and parameters: {'min_child_samples': 100}. Best is trial 63 with value: 0.2315997443374595.\n",
      "min_data_in_leaf, val_score: 0.231600:  80%|####################################         | 4/5 [00:05<00:01,  1.27s/it]"
     ]
    },
    {
     "name": "stdout",
     "output_type": "stream",
     "text": [
      "Early stopping, best iteration is:\n",
      "[83]\tcv_agg's l2: 0.2316 + 0.0519311\n",
      "[100]\tcv_agg's l2: 0.262796 + 0.0626527\n"
     ]
    },
    {
     "name": "stderr",
     "output_type": "stream",
     "text": [
      "min_data_in_leaf, val_score: 0.231600: 100%|#############################################| 5/5 [00:07<00:00,  1.43s/it][I 2023-11-09 20:53:38,994] Trial 67 finished with value: 0.2649684089393345 and parameters: {'min_child_samples': 25}. Best is trial 63 with value: 0.2315997443374595.\n",
      "min_data_in_leaf, val_score: 0.231600: 100%|#############################################| 5/5 [00:07<00:00,  1.47s/it]"
     ]
    },
    {
     "name": "stdout",
     "output_type": "stream",
     "text": [
      "Early stopping, best iteration is:\n",
      "[83]\tcv_agg's l2: 0.2316 + 0.0519311\n"
     ]
    },
    {
     "name": "stderr",
     "output_type": "stream",
     "text": [
      "\n"
     ]
    }
   ],
   "source": [
    "import optuna.integration.lightgbm as lgb\n",
    "from lightgbm import early_stopping\n",
    "from sklearn.model_selection import KFold\n",
    "from sklearn.model_selection import RepeatedKFold\n",
    "\n",
    "\n",
    "lgb_train = lgb.Dataset(X_train_random_split, y_train_random_split)\n",
    "\n",
    "params = {\n",
    "    \"boosting_type\": \"gbdt\",\n",
    "    \"objective\": \"regression\",\n",
    "    \"metric\": \"l2\",\n",
    "    \"verbosity\": -1,\n",
    "}\n",
    "\n",
    "tuner = lgb.LightGBMTunerCV(\n",
    "    params,\n",
    "    lgb_train,\n",
    "    folds=KFold(n_splits=5),\n",
    "    num_boost_round=10000,\n",
    "    callbacks=[early_stopping(100), log_evaluation(100)],\n",
    ")\n",
    "\n",
    "tuner.run()"
   ]
  },
  {
   "cell_type": "code",
   "execution_count": 38,
   "id": "0079a348",
   "metadata": {},
   "outputs": [
    {
     "name": "stdout",
     "output_type": "stream",
     "text": [
      "Best score: 0.2315997443374595\n",
      "Params: \n",
      "    boosting_type: gbdt\n",
      "    objective: regression\n",
      "    metric: l2\n",
      "    verbosity: -1\n",
      "    feature_pre_filter: False\n",
      "    lambda_l1: 0.0019742173611921455\n",
      "    lambda_l2: 2.5915613451174507e-07\n",
      "    num_leaves: 21\n",
      "    feature_fraction: 0.6\n",
      "    bagging_fraction: 0.8806236164114358\n",
      "    bagging_freq: 3\n",
      "    min_child_samples: 5\n"
     ]
    }
   ],
   "source": [
    "print(f\"Best score: {tuner.best_score}\")\n",
    "best_params = tuner.best_params\n",
    "print(\"Params: \")\n",
    "for key, value in best_params.items():\n",
    "    print(\"    {}: {}\".format(key, value))"
   ]
  },
  {
   "cell_type": "code",
   "execution_count": 39,
   "id": "ee599f57",
   "metadata": {},
   "outputs": [],
   "source": [
    "import lightgbm as lgb\n",
    "\n",
    "lgb_tuned = lgb.train(\n",
    "    best_params,\n",
    "    lgb_train,\n",
    "    num_boost_round=10000,\n",
    ")"
   ]
  },
  {
   "cell_type": "code",
   "execution_count": 40,
   "id": "f18b0204",
   "metadata": {},
   "outputs": [
    {
     "name": "stdout",
     "output_type": "stream",
     "text": [
      "RMSE train: 0.00\n",
      "RMSE test: 0.51\n",
      "MAE test: 0.33\n",
      "\n"
     ]
    }
   ],
   "source": [
    "rmse, mae = assess_regression_model(\n",
    "    lgb_tuned,\n",
    "    X_train_random_split,\n",
    "    X_test_random_split,\n",
    "    y_train_random_split,\n",
    "    y_test_random_split,\n",
    ")"
   ]
  },
  {
   "cell_type": "code",
   "execution_count": 41,
   "id": "13d87eed",
   "metadata": {},
   "outputs": [],
   "source": [
    "results.loc[3] = [\"random\", \"Optuna\", \"basic\", rmse, mae]"
   ]
  },
  {
   "cell_type": "markdown",
   "id": "9d13b101",
   "metadata": {},
   "source": [
    "###### MAE by level"
   ]
  },
  {
   "cell_type": "code",
   "execution_count": 42,
   "id": "91591bcd",
   "metadata": {},
   "outputs": [
    {
     "data": {
      "image/png": "[encoded data removed]",
      "text/plain": [
       "<Figure size 1440x576 with 1 Axes>"
      ]
     },
     "metadata": {
      "needs_background": "light"
     },
     "output_type": "display_data"
    }
   ],
   "source": [
    "plot_mae_by_level(\n",
    "    y_test_random_split,\n",
    "    y_pred_test,\n",
    "    title=\"MAE by level for tuned LightGBM with basic features and random split\",\n",
    ")"
   ]
  },
  {
   "cell_type": "code",
   "execution_count": 43,
   "id": "061d7eba",
   "metadata": {},
   "outputs": [
    {
     "name": "stdout",
     "output_type": "stream",
     "text": [
      "Default:\n",
      "RMSE: 0.33\n",
      "\n",
      "Round type: 0.5\n",
      "RMSE: 0.34\n",
      "\n",
      "Round type: 0.33\n",
      "RMSE: 0.37\n",
      "\n",
      "Round type: 0.45\n",
      "RMSE: 0.36\n",
      "\n"
     ]
    }
   ],
   "source": [
    "predict = lgb_tuned.predict(X_test)\n",
    "evaluate_round_predictions([0.5, 0.33, 0.45], y_test, predict)"
   ]
  },
  {
   "cell_type": "code",
   "execution_count": 44,
   "id": "9d56b725",
   "metadata": {},
   "outputs": [
    {
     "data": {
      "image/png": "[encoded data removed]",
      "text/plain": [
       "<Figure size 720x720 with 2 Axes>"
      ]
     },
     "metadata": {
      "needs_background": "light"
     },
     "output_type": "display_data"
    }
   ],
   "source": [
    "plot_confusion_matrix(\n",
    "    predict,\n",
    "    y_test,\n",
    "    title=\"Confusion matrix for tuned LightGBM with basic features and random split\",\n",
    ")"
   ]
  },
  {
   "cell_type": "markdown",
   "id": "ac941229",
   "metadata": {},
   "source": [
    "## Summary"
   ]
  },
  {
   "cell_type": "code",
   "execution_count": 45,
   "id": "90f5111f",
   "metadata": {
    "scrolled": true
   },
   "outputs": [
    {
     "data": {
      "text/html": [
       "<div>\n",
       "<style scoped>\n",
       "    .dataframe tbody tr th:only-of-type {\n",
       "        vertical-align: middle;\n",
       "    }\n",
       "\n",
       "    .dataframe tbody tr th {\n",
       "        vertical-align: top;\n",
       "    }\n",
       "\n",
       "    .dataframe thead th {\n",
       "        text-align: right;\n",
       "    }\n",
       "</style>\n",
       "<table border=\"1\" class=\"dataframe\">\n",
       "  <thead>\n",
       "    <tr style=\"text-align: right;\">\n",
       "      <th></th>\n",
       "      <th>Split type</th>\n",
       "      <th>Tuning type</th>\n",
       "      <th>Set of features</th>\n",
       "      <th>RMSE</th>\n",
       "      <th>MAE</th>\n",
       "    </tr>\n",
       "  </thead>\n",
       "  <tbody>\n",
       "    <tr>\n",
       "      <th>0</th>\n",
       "      <td>chronological</td>\n",
       "      <td>default</td>\n",
       "      <td>basic</td>\n",
       "      <td>0.669004</td>\n",
       "      <td>0.467604</td>\n",
       "    </tr>\n",
       "    <tr>\n",
       "      <th>1</th>\n",
       "      <td>chronological</td>\n",
       "      <td>Optuna</td>\n",
       "      <td>basic</td>\n",
       "      <td>0.675257</td>\n",
       "      <td>0.479835</td>\n",
       "    </tr>\n",
       "    <tr>\n",
       "      <th>2</th>\n",
       "      <td>random</td>\n",
       "      <td>default</td>\n",
       "      <td>basic</td>\n",
       "      <td>0.488404</td>\n",
       "      <td>0.336785</td>\n",
       "    </tr>\n",
       "    <tr>\n",
       "      <th>3</th>\n",
       "      <td>random</td>\n",
       "      <td>Optuna</td>\n",
       "      <td>basic</td>\n",
       "      <td>0.506754</td>\n",
       "      <td>0.333149</td>\n",
       "    </tr>\n",
       "  </tbody>\n",
       "</table>\n",
       "</div>"
      ],
      "text/plain": [
       "      Split type Tuning type Set of features      RMSE       MAE\n",
       "0  chronological     default           basic  0.669004  0.467604\n",
       "1  chronological      Optuna           basic  0.675257  0.479835\n",
       "2         random     default           basic  0.488404  0.336785\n",
       "3         random      Optuna           basic  0.506754  0.333149"
      ]
     },
     "execution_count": 45,
     "metadata": {},
     "output_type": "execute_result"
    }
   ],
   "source": [
    "results"
   ]
  },
  {
   "cell_type": "code",
   "execution_count": 46,
   "id": "492161ff",
   "metadata": {},
   "outputs": [],
   "source": [
    "from training.results import plot_summary"
   ]
  },
  {
   "cell_type": "code",
   "execution_count": 47,
   "id": "b44fe7c4",
   "metadata": {},
   "outputs": [
    {
     "data": {
      "image/png": "[encoded data removed]",
      "text/plain": [
       "<Figure size 1440x576 with 1 Axes>"
      ]
     },
     "metadata": {
      "needs_background": "light"
     },
     "output_type": "display_data"
    }
   ],
   "source": [
    "plot_summary(results, \"RMSE\", title=\"RMSE for LightGBM with basic features\")"
   ]
  },
  {
   "cell_type": "code",
   "execution_count": 48,
   "id": "d3509e28",
   "metadata": {},
   "outputs": [
    {
     "data": {
      "image/png": "[encoded data removed]",
      "text/plain": [
       "<Figure size 1440x576 with 1 Axes>"
      ]
     },
     "metadata": {
      "needs_background": "light"
     },
     "output_type": "display_data"
    }
   ],
   "source": [
    "plot_summary(results, \"MAE\", title=\"MAE for LightGBM with basic features\")"
   ]
  },
  {
   "cell_type": "code",
   "execution_count": 49,
   "id": "c714119e",
   "metadata": {},
   "outputs": [],
   "source": [
    "results.to_csv(\"./lightgbm_basic_results.csv\")"
   ]
  },
  {
   "cell_type": "code",
   "execution_count": null,
   "id": "a8ce3754",
   "metadata": {},
   "outputs": [],
   "source": []
  }
 ],
 "metadata": {
  "kernelspec": {
   "display_name": "Python 3 (ipykernel)",
   "language": "python",
   "name": "python3"
  },
  "language_info": {
   "codemirror_mode": {
    "name": "ipython",
    "version": 3
   },
   "file_extension": ".py",
   "mimetype": "text/x-python",
   "name": "python",
   "nbconvert_exporter": "python",
   "pygments_lexer": "ipython3",
   "version": "3.10.4"
  }
 },
 "nbformat": 4,
 "nbformat_minor": 5
}
