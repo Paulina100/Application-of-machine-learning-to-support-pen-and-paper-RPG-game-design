{
 "cells": [
  {
   "cell_type": "markdown",
   "id": "f64a671f",
   "metadata": {},
   "source": [
    "# LightGBM\n",
    "### Parameters:\n",
    "* **abilities**:\n",
    "    * **cha**\n",
    "    * **con**\n",
    "    * **dex**\n",
    "    * **int**\n",
    "    * **str**\n",
    "    * **wis**\n",
    "* **attributes**\n",
    "    * **hp**\n",
    "    * **ac**\n",
    "\n",
    "### Prediction: *level*\n",
    "\n",
    "## Loading data"
   ]
  },
  {
   "cell_type": "code",
   "execution_count": 1,
   "id": "1f2515e7",
   "metadata": {},
   "outputs": [],
   "source": [
    "import numpy as np\n",
    "import pandas as pd\n",
    "import sys\n",
    "\n",
    "import os\n",
    "import pathlib\n",
    "\n",
    "sys.path.append(\"../../..\")\n",
    "from training.creating_dataset import load_and_preprocess_data\n",
    "\n",
    "current_path = os.getcwd()\n",
    "DATASETS_DIR = pathlib.Path(current_path).parent.parent.parent / \"pathfinder_2e_data\"\n",
    "DATASET_FILES = [\n",
    "    \"pathfinder-bestiary.db\",\n",
    "    \"pathfinder-bestiary-2.db\",\n",
    "    \"pathfinder-bestiary-3.db\",\n",
    "]\n",
    "DATASET_PATHS = [f\"{DATASETS_DIR}/{file}\" for file in DATASET_FILES]\n",
    "features = [\n",
    "    \"cha\",\n",
    "    \"con\",\n",
    "    \"dex\",\n",
    "    \"int\",\n",
    "    \"str\",\n",
    "    \"wis\",\n",
    "    \"ac\",\n",
    "    \"hp\",\n",
    "]\n",
    "\n",
    "df = load_and_preprocess_data(\n",
    "    DATASET_PATHS,\n",
    "    characteristics=features,\n",
    ")"
   ]
  },
  {
   "cell_type": "code",
   "execution_count": 2,
   "id": "b522f880",
   "metadata": {},
   "outputs": [
    {
     "name": "stdout",
     "output_type": "stream",
     "text": [
      "<class 'pandas.core.frame.DataFrame'>\n",
      "Int64Index: 1206 entries, 0 to 1205\n",
      "Data columns (total 10 columns):\n",
      " #   Column  Non-Null Count  Dtype \n",
      "---  ------  --------------  ----- \n",
      " 0   ac      1206 non-null   int64 \n",
      " 1   int     1206 non-null   int64 \n",
      " 2   book    1206 non-null   object\n",
      " 3   level   1206 non-null   int64 \n",
      " 4   str     1206 non-null   int64 \n",
      " 5   dex     1206 non-null   int64 \n",
      " 6   hp      1206 non-null   int64 \n",
      " 7   cha     1206 non-null   int64 \n",
      " 8   wis     1206 non-null   int64 \n",
      " 9   con     1206 non-null   int64 \n",
      "dtypes: int64(9), object(1)\n",
      "memory usage: 103.6+ KB\n"
     ]
    }
   ],
   "source": [
    "df.info()"
   ]
  },
  {
   "cell_type": "code",
   "execution_count": 3,
   "id": "1b5450d3",
   "metadata": {},
   "outputs": [
    {
     "data": {
      "text/html": [
       "<div>\n",
       "<style scoped>\n",
       "    .dataframe tbody tr th:only-of-type {\n",
       "        vertical-align: middle;\n",
       "    }\n",
       "\n",
       "    .dataframe tbody tr th {\n",
       "        vertical-align: top;\n",
       "    }\n",
       "\n",
       "    .dataframe thead th {\n",
       "        text-align: right;\n",
       "    }\n",
       "</style>\n",
       "<table border=\"1\" class=\"dataframe\">\n",
       "  <thead>\n",
       "    <tr style=\"text-align: right;\">\n",
       "      <th></th>\n",
       "      <th>ac</th>\n",
       "      <th>int</th>\n",
       "      <th>book</th>\n",
       "      <th>level</th>\n",
       "      <th>str</th>\n",
       "      <th>dex</th>\n",
       "      <th>hp</th>\n",
       "      <th>cha</th>\n",
       "      <th>wis</th>\n",
       "      <th>con</th>\n",
       "    </tr>\n",
       "  </thead>\n",
       "  <tbody>\n",
       "    <tr>\n",
       "      <th>0</th>\n",
       "      <td>29</td>\n",
       "      <td>1</td>\n",
       "      <td>Pathfinder Bestiary</td>\n",
       "      <td>10</td>\n",
       "      <td>7</td>\n",
       "      <td>2</td>\n",
       "      <td>215</td>\n",
       "      <td>1</td>\n",
       "      <td>2</td>\n",
       "      <td>5</td>\n",
       "    </tr>\n",
       "    <tr>\n",
       "      <th>1</th>\n",
       "      <td>28</td>\n",
       "      <td>-4</td>\n",
       "      <td>Pathfinder Bestiary</td>\n",
       "      <td>10</td>\n",
       "      <td>9</td>\n",
       "      <td>0</td>\n",
       "      <td>220</td>\n",
       "      <td>1</td>\n",
       "      <td>2</td>\n",
       "      <td>5</td>\n",
       "    </tr>\n",
       "    <tr>\n",
       "      <th>2</th>\n",
       "      <td>25</td>\n",
       "      <td>-4</td>\n",
       "      <td>Pathfinder Bestiary</td>\n",
       "      <td>8</td>\n",
       "      <td>7</td>\n",
       "      <td>3</td>\n",
       "      <td>175</td>\n",
       "      <td>-2</td>\n",
       "      <td>3</td>\n",
       "      <td>6</td>\n",
       "    </tr>\n",
       "    <tr>\n",
       "      <th>3</th>\n",
       "      <td>41</td>\n",
       "      <td>6</td>\n",
       "      <td>Pathfinder Bestiary</td>\n",
       "      <td>17</td>\n",
       "      <td>7</td>\n",
       "      <td>4</td>\n",
       "      <td>315</td>\n",
       "      <td>6</td>\n",
       "      <td>5</td>\n",
       "      <td>5</td>\n",
       "    </tr>\n",
       "    <tr>\n",
       "      <th>4</th>\n",
       "      <td>16</td>\n",
       "      <td>-1</td>\n",
       "      <td>Pathfinder Bestiary</td>\n",
       "      <td>1</td>\n",
       "      <td>-5</td>\n",
       "      <td>3</td>\n",
       "      <td>20</td>\n",
       "      <td>1</td>\n",
       "      <td>1</td>\n",
       "      <td>1</td>\n",
       "    </tr>\n",
       "  </tbody>\n",
       "</table>\n",
       "</div>"
      ],
      "text/plain": [
       "   ac  int                 book  level  str  dex   hp  cha  wis  con\n",
       "0  29    1  Pathfinder Bestiary     10    7    2  215    1    2    5\n",
       "1  28   -4  Pathfinder Bestiary     10    9    0  220    1    2    5\n",
       "2  25   -4  Pathfinder Bestiary      8    7    3  175   -2    3    6\n",
       "3  41    6  Pathfinder Bestiary     17    7    4  315    6    5    5\n",
       "4  16   -1  Pathfinder Bestiary      1   -5    3   20    1    1    1"
      ]
     },
     "execution_count": 3,
     "metadata": {},
     "output_type": "execute_result"
    }
   ],
   "source": [
    "df.head()"
   ]
  },
  {
   "cell_type": "markdown",
   "id": "0caa661f",
   "metadata": {},
   "source": [
    "###### Level"
   ]
  },
  {
   "cell_type": "code",
   "execution_count": 4,
   "id": "c200d2b4",
   "metadata": {},
   "outputs": [
    {
     "data": {
      "text/plain": [
       "0       10\n",
       "1       10\n",
       "2        8\n",
       "3       17\n",
       "4        1\n",
       "        ..\n",
       "1201    20\n",
       "1202    -1\n",
       "1203    12\n",
       "1204     6\n",
       "1205     6\n",
       "Name: level, Length: 1206, dtype: int64"
      ]
     },
     "execution_count": 4,
     "metadata": {},
     "output_type": "execute_result"
    }
   ],
   "source": [
    "y = df[\"level\"]\n",
    "y"
   ]
  },
  {
   "cell_type": "code",
   "execution_count": 5,
   "id": "553822a7",
   "metadata": {},
   "outputs": [],
   "source": [
    "from collections import defaultdict\n",
    "\n",
    "\n",
    "lvl_stat = defaultdict(lambda: 0)\n",
    "\n",
    "for lvl in y:\n",
    "    lvl_stat[lvl] += 1"
   ]
  },
  {
   "cell_type": "code",
   "execution_count": 6,
   "id": "e45d6c29",
   "metadata": {},
   "outputs": [
    {
     "data": {
      "text/html": [
       "<div>\n",
       "<style scoped>\n",
       "    .dataframe tbody tr th:only-of-type {\n",
       "        vertical-align: middle;\n",
       "    }\n",
       "\n",
       "    .dataframe tbody tr th {\n",
       "        vertical-align: top;\n",
       "    }\n",
       "\n",
       "    .dataframe thead th {\n",
       "        text-align: right;\n",
       "    }\n",
       "</style>\n",
       "<table border=\"1\" class=\"dataframe\">\n",
       "  <thead>\n",
       "    <tr style=\"text-align: right;\">\n",
       "      <th></th>\n",
       "      <th>lvl</th>\n",
       "      <th>count</th>\n",
       "    </tr>\n",
       "  </thead>\n",
       "  <tbody>\n",
       "    <tr>\n",
       "      <th>0</th>\n",
       "      <td>-1</td>\n",
       "      <td>34</td>\n",
       "    </tr>\n",
       "    <tr>\n",
       "      <th>1</th>\n",
       "      <td>0</td>\n",
       "      <td>27</td>\n",
       "    </tr>\n",
       "    <tr>\n",
       "      <th>2</th>\n",
       "      <td>1</td>\n",
       "      <td>127</td>\n",
       "    </tr>\n",
       "    <tr>\n",
       "      <th>3</th>\n",
       "      <td>2</td>\n",
       "      <td>121</td>\n",
       "    </tr>\n",
       "    <tr>\n",
       "      <th>4</th>\n",
       "      <td>3</td>\n",
       "      <td>95</td>\n",
       "    </tr>\n",
       "    <tr>\n",
       "      <th>5</th>\n",
       "      <td>4</td>\n",
       "      <td>82</td>\n",
       "    </tr>\n",
       "    <tr>\n",
       "      <th>6</th>\n",
       "      <td>5</td>\n",
       "      <td>76</td>\n",
       "    </tr>\n",
       "    <tr>\n",
       "      <th>7</th>\n",
       "      <td>6</td>\n",
       "      <td>72</td>\n",
       "    </tr>\n",
       "    <tr>\n",
       "      <th>8</th>\n",
       "      <td>7</td>\n",
       "      <td>77</td>\n",
       "    </tr>\n",
       "    <tr>\n",
       "      <th>9</th>\n",
       "      <td>8</td>\n",
       "      <td>68</td>\n",
       "    </tr>\n",
       "    <tr>\n",
       "      <th>10</th>\n",
       "      <td>9</td>\n",
       "      <td>63</td>\n",
       "    </tr>\n",
       "    <tr>\n",
       "      <th>11</th>\n",
       "      <td>10</td>\n",
       "      <td>58</td>\n",
       "    </tr>\n",
       "    <tr>\n",
       "      <th>12</th>\n",
       "      <td>11</td>\n",
       "      <td>40</td>\n",
       "    </tr>\n",
       "    <tr>\n",
       "      <th>13</th>\n",
       "      <td>12</td>\n",
       "      <td>41</td>\n",
       "    </tr>\n",
       "    <tr>\n",
       "      <th>14</th>\n",
       "      <td>13</td>\n",
       "      <td>36</td>\n",
       "    </tr>\n",
       "    <tr>\n",
       "      <th>15</th>\n",
       "      <td>14</td>\n",
       "      <td>33</td>\n",
       "    </tr>\n",
       "    <tr>\n",
       "      <th>16</th>\n",
       "      <td>15</td>\n",
       "      <td>31</td>\n",
       "    </tr>\n",
       "    <tr>\n",
       "      <th>17</th>\n",
       "      <td>16</td>\n",
       "      <td>25</td>\n",
       "    </tr>\n",
       "    <tr>\n",
       "      <th>18</th>\n",
       "      <td>17</td>\n",
       "      <td>21</td>\n",
       "    </tr>\n",
       "    <tr>\n",
       "      <th>19</th>\n",
       "      <td>18</td>\n",
       "      <td>21</td>\n",
       "    </tr>\n",
       "    <tr>\n",
       "      <th>20</th>\n",
       "      <td>19</td>\n",
       "      <td>18</td>\n",
       "    </tr>\n",
       "    <tr>\n",
       "      <th>21</th>\n",
       "      <td>20</td>\n",
       "      <td>24</td>\n",
       "    </tr>\n",
       "    <tr>\n",
       "      <th>22</th>\n",
       "      <td>21</td>\n",
       "      <td>16</td>\n",
       "    </tr>\n",
       "  </tbody>\n",
       "</table>\n",
       "</div>"
      ],
      "text/plain": [
       "    lvl  count\n",
       "0    -1     34\n",
       "1     0     27\n",
       "2     1    127\n",
       "3     2    121\n",
       "4     3     95\n",
       "5     4     82\n",
       "6     5     76\n",
       "7     6     72\n",
       "8     7     77\n",
       "9     8     68\n",
       "10    9     63\n",
       "11   10     58\n",
       "12   11     40\n",
       "13   12     41\n",
       "14   13     36\n",
       "15   14     33\n",
       "16   15     31\n",
       "17   16     25\n",
       "18   17     21\n",
       "19   18     21\n",
       "20   19     18\n",
       "21   20     24\n",
       "22   21     16"
      ]
     },
     "execution_count": 6,
     "metadata": {},
     "output_type": "execute_result"
    }
   ],
   "source": [
    "level_count = pd.DataFrame(\n",
    "    data={\n",
    "        \"lvl\": [key for key in sorted(lvl_stat.keys())],\n",
    "        \"count\": [lvl_stat.get(key) for key in sorted(lvl_stat.keys())],\n",
    "    }\n",
    ")\n",
    "level_count"
   ]
  },
  {
   "cell_type": "code",
   "execution_count": 7,
   "id": "bdbfe8de",
   "metadata": {},
   "outputs": [
    {
     "data": {
      "image/png": "[encoded data removed]",
      "text/plain": [
       "<Figure size 432x288 with 1 Axes>"
      ]
     },
     "metadata": {
      "needs_background": "light"
     },
     "output_type": "display_data"
    }
   ],
   "source": [
    "import matplotlib.pyplot as plt\n",
    "\n",
    "\n",
    "level_count.plot.bar(x=\"lvl\", y=\"count\", title=\"Count of levels\")\n",
    "plt.show()"
   ]
  },
  {
   "cell_type": "markdown",
   "id": "9fdb6541",
   "metadata": {},
   "source": [
    "## Train test split"
   ]
  },
  {
   "cell_type": "markdown",
   "id": "18f56629",
   "metadata": {},
   "source": [
    "### Chronological split"
   ]
  },
  {
   "cell_type": "code",
   "execution_count": 8,
   "id": "dcda359b",
   "metadata": {},
   "outputs": [],
   "source": [
    "from training.splitting_dataset import split_dataframe\n",
    "\n",
    "\n",
    "os.chdir(\"../../../training\")\n",
    "X_train, X_test, y_train, y_test = split_dataframe(df, test_size=0.31)\n",
    "os.chdir(\"../notebooks/models/lightgbm\")"
   ]
  },
  {
   "cell_type": "code",
   "execution_count": 9,
   "id": "17dbc875",
   "metadata": {},
   "outputs": [],
   "source": [
    "X_train = X_train.drop(columns=[\"book\"])\n",
    "X_test = X_test.drop(columns=[\"book\"])"
   ]
  },
  {
   "cell_type": "markdown",
   "id": "25879636",
   "metadata": {},
   "source": [
    "### Random split"
   ]
  },
  {
   "cell_type": "code",
   "execution_count": 10,
   "id": "982ec5eb",
   "metadata": {},
   "outputs": [],
   "source": [
    "(\n",
    "    X_train_random_split,\n",
    "    X_test_random_split,\n",
    "    y_train_random_split,\n",
    "    y_test_random_split,\n",
    ") = split_dataframe(df, chronological_split=False)"
   ]
  },
  {
   "cell_type": "code",
   "execution_count": 11,
   "id": "90569e78",
   "metadata": {},
   "outputs": [],
   "source": [
    "X_train_random_split = X_train_random_split.drop(columns=[\"book\"])\n",
    "X_test_random_split = X_test_random_split.drop(columns=[\"book\"])"
   ]
  },
  {
   "cell_type": "markdown",
   "id": "9b259fbf",
   "metadata": {},
   "source": [
    "## LightGBM"
   ]
  },
  {
   "cell_type": "markdown",
   "id": "14f37d9b",
   "metadata": {},
   "source": [
    "## Chronological split"
   ]
  },
  {
   "cell_type": "code",
   "execution_count": 12,
   "id": "2bc4c90e",
   "metadata": {},
   "outputs": [
    {
     "name": "stdout",
     "output_type": "stream",
     "text": [
      "[LightGBM] [Warning] Auto-choosing row-wise multi-threading, the overhead of testing was 0.000056 seconds.\n",
      "You can set `force_row_wise=true` to remove the overhead.\n",
      "And if memory is not enough, you can set `force_col_wise=true`.\n",
      "[LightGBM] [Info] Total Bins 224\n",
      "[LightGBM] [Info] Number of data points in the train set: 841, number of used features: 8\n",
      "[LightGBM] [Info] Start training from score 6.966706\n",
      "Training until validation scores don't improve for 5 rounds\n",
      "[LightGBM] [Warning] No further splits with positive gain, best gain: -inf\n",
      "[LightGBM] [Warning] No further splits with positive gain, best gain: -inf\n",
      "[LightGBM] [Warning] No further splits with positive gain, best gain: -inf\n",
      "[LightGBM] [Warning] No further splits with positive gain, best gain: -inf\n",
      "[LightGBM] [Warning] No further splits with positive gain, best gain: -inf\n",
      "[LightGBM] [Warning] No further splits with positive gain, best gain: -inf\n",
      "[LightGBM] [Warning] No further splits with positive gain, best gain: -inf\n",
      "[LightGBM] [Warning] No further splits with positive gain, best gain: -inf\n",
      "[LightGBM] [Warning] No further splits with positive gain, best gain: -inf\n",
      "[LightGBM] [Warning] No further splits with positive gain, best gain: -inf\n",
      "[LightGBM] [Warning] No further splits with positive gain, best gain: -inf\n",
      "[LightGBM] [Warning] No further splits with positive gain, best gain: -inf\n",
      "Early stopping, best iteration is:\n",
      "[48]\tvalid_0's l2: 0.447566\tvalid_0's l1: 0.467604\n"
     ]
    }
   ],
   "source": [
    "import lightgbm as lgb\n",
    "\n",
    "lgb_train = lgb.Dataset(X_train, y_train)\n",
    "lgb_eval = lgb.Dataset(X_test, y_test, reference=lgb_train)\n",
    "\n",
    "params = {\n",
    "    \"boosting_type\": \"gbdt\",\n",
    "    \"objective\": \"regression\",\n",
    "    \"metric\": {\"l2\", \"l1\"},\n",
    "}\n",
    "\n",
    "gbm = lgb.train(\n",
    "    params,\n",
    "    lgb_train,\n",
    "    num_boost_round=100,\n",
    "    valid_sets=lgb_eval,\n",
    "    callbacks=[lgb.early_stopping(stopping_rounds=5)],\n",
    ")"
   ]
  },
  {
   "cell_type": "code",
   "execution_count": 13,
   "id": "f1ae2eaa",
   "metadata": {},
   "outputs": [],
   "source": [
    "y_pred_train = gbm.predict(X_train, num_iteration=gbm.best_iteration)\n",
    "y_pred_test = gbm.predict(X_test, num_iteration=gbm.best_iteration)"
   ]
  },
  {
   "cell_type": "code",
   "execution_count": 14,
   "id": "ef9d09eb",
   "metadata": {},
   "outputs": [
    {
     "name": "stdout",
     "output_type": "stream",
     "text": [
      "RMSE: 0.67\n",
      "MAE: 0.47\n"
     ]
    }
   ],
   "source": [
    "from sklearn.metrics import mean_squared_error, mean_absolute_error\n",
    "\n",
    "\n",
    "rmse = mean_squared_error(y_test, y_pred_test, squared=False)\n",
    "mae = mean_absolute_error(y_test, y_pred_test)\n",
    "\n",
    "print(f\"RMSE: {rmse:.2f}\")\n",
    "print(f\"MAE: {mae:.2f}\")"
   ]
  },
  {
   "cell_type": "code",
   "execution_count": 15,
   "id": "6e288d53",
   "metadata": {},
   "outputs": [],
   "source": [
    "results = pd.DataFrame(\n",
    "    data={\n",
    "        \"Split type\": [],\n",
    "        \"Tuning type\": [],\n",
    "        \"Set of features\": [],\n",
    "        \"RMSE\": [],\n",
    "        \"MAE\": [],\n",
    "    }\n",
    ")\n",
    "\n",
    "results.loc[0] = [\"chronological\", \"default\", \"basic\", rmse, mae]"
   ]
  },
  {
   "cell_type": "code",
   "execution_count": 16,
   "id": "78bb7ffa",
   "metadata": {},
   "outputs": [
    {
     "name": "stdout",
     "output_type": "stream",
     "text": [
      "RMSE train: 0.31\n",
      "RMSE test: 0.67\n"
     ]
    }
   ],
   "source": [
    "rmse_train = mean_squared_error(y_train, y_pred_train, squared=False)\n",
    "rmse_test = mean_squared_error(y_test, y_pred_test, squared=False)\n",
    "print(f\"RMSE train: {rmse_train:.2f}\")\n",
    "print(f\"RMSE test: {rmse_test:.2f}\")"
   ]
  },
  {
   "cell_type": "markdown",
   "id": "4435f236",
   "metadata": {},
   "source": [
    "###### MAE by level"
   ]
  },
  {
   "cell_type": "code",
   "execution_count": 17,
   "id": "f3b4086b",
   "metadata": {},
   "outputs": [],
   "source": [
    "from training.results import plot_mae_by_level"
   ]
  },
  {
   "cell_type": "code",
   "execution_count": 18,
   "id": "e3ecad89",
   "metadata": {
    "scrolled": false
   },
   "outputs": [
    {
     "data": {
      "image/png": "[encoded data removed]",
      "text/plain": [
       "<Figure size 720x432 with 1 Axes>"
      ]
     },
     "metadata": {
      "needs_background": "light"
     },
     "output_type": "display_data"
    }
   ],
   "source": [
    "plot_mae_by_level(\n",
    "    y_test,\n",
    "    y_pred_test,\n",
    "    title=\"MAE by level for default LightGBM with basic features and chronological split\",\n",
    ")"
   ]
  },
  {
   "cell_type": "code",
   "execution_count": 19,
   "id": "ec8cab49",
   "metadata": {
    "scrolled": true
   },
   "outputs": [
    {
     "name": "stdout",
     "output_type": "stream",
     "text": [
      "Default:\n",
      "RMSE: 0.67\n",
      "\n",
      "Round type: round\n",
      "RMSE: 0.71\n",
      "\n",
      "Round type: 0.33\n",
      "RMSE: 0.71\n",
      "\n",
      "Round type: 0.45\n",
      "RMSE: 0.70\n",
      "\n"
     ]
    }
   ],
   "source": [
    "from training.results import check_round_predictions, plot_confusion_matrix\n",
    "\n",
    "\n",
    "check_round_predictions([\"round\", 0.33, 0.45], y_test, y_pred_test)"
   ]
  },
  {
   "cell_type": "code",
   "execution_count": 20,
   "id": "9129a0ae",
   "metadata": {},
   "outputs": [
    {
     "data": {
      "image/png": "[encoded data removed]",
      "text/plain": [
       "<Figure size 432x288 with 2 Axes>"
      ]
     },
     "metadata": {
      "needs_background": "light"
     },
     "output_type": "display_data"
    }
   ],
   "source": [
    "plot_confusion_matrix(\n",
    "    \"round\",\n",
    "    y_pred_test,\n",
    "    y_test,\n",
    "    title=\"Confusion matrix for default LightGBM with basic features and chronological split\",\n",
    ")"
   ]
  },
  {
   "cell_type": "markdown",
   "id": "aaaf3023",
   "metadata": {},
   "source": [
    "#### Tuning"
   ]
  },
  {
   "cell_type": "code",
   "execution_count": 21,
   "id": "cbd24f9f",
   "metadata": {},
   "outputs": [],
   "source": [
    "from training.results import assess_regression_model"
   ]
  },
  {
   "cell_type": "code",
   "execution_count": 22,
   "id": "10854460",
   "metadata": {},
   "outputs": [
    {
     "name": "stderr",
     "output_type": "stream",
     "text": [
      "[I 2023-11-05 12:36:52,690] A new study created in memory with name: no-name-f26d87f4-fa9f-4cec-908f-973b3dcb9752\n",
      "feature_fraction, val_score: inf:   0%|                                                          | 0/7 [00:00<?, ?it/s]"
     ]
    },
    {
     "name": "stdout",
     "output_type": "stream",
     "text": [
      "Training until validation scores don't improve for 100 rounds\n",
      "[100]\tcv_agg's l2: 0.249914 + 0.0530267\n",
      "[200]\tcv_agg's l2: 0.236333 + 0.0541083\n",
      "[300]\tcv_agg's l2: 0.231615 + 0.0527245\n",
      "[400]\tcv_agg's l2: 0.231138 + 0.0527445\n"
     ]
    },
    {
     "name": "stderr",
     "output_type": "stream",
     "text": [
      "feature_fraction, val_score: 0.230179:  14%|######4                                      | 1/7 [00:03<00:21,  3.61s/it][I 2023-11-05 12:36:56,306] Trial 0 finished with value: 0.23017879708890976 and parameters: {'feature_fraction': 0.6}. Best is trial 0 with value: 0.23017879708890976.\n",
      "feature_fraction, val_score: 0.230179:  14%|######4                                      | 1/7 [00:03<00:21,  3.61s/it]"
     ]
    },
    {
     "name": "stdout",
     "output_type": "stream",
     "text": [
      "Early stopping, best iteration is:\n",
      "[350]\tcv_agg's l2: 0.230179 + 0.0518938\n",
      "[100]\tcv_agg's l2: 0.392932 + 0.0803017\n",
      "[200]\tcv_agg's l2: 0.329996 + 0.0744079\n",
      "[300]\tcv_agg's l2: 0.313197 + 0.0717448\n",
      "[400]\tcv_agg's l2: 0.303891 + 0.0672727\n"
     ]
    },
    {
     "name": "stderr",
     "output_type": "stream",
     "text": [
      "feature_fraction, val_score: 0.230179:  29%|############8                                | 2/7 [00:06<00:15,  3.11s/it][I 2023-11-05 12:36:59,072] Trial 1 finished with value: 0.3071913711586294 and parameters: {'feature_fraction': 0.4}. Best is trial 0 with value: 0.23017879708890976.\n",
      "feature_fraction, val_score: 0.230179:  29%|############8                                | 2/7 [00:06<00:15,  3.11s/it]"
     ]
    },
    {
     "name": "stdout",
     "output_type": "stream",
     "text": [
      "Early stopping, best iteration is:\n",
      "[350]\tcv_agg's l2: 0.230179 + 0.0518938\n",
      "[100]\tcv_agg's l2: 0.272338 + 0.0616501\n",
      "[200]\tcv_agg's l2: 0.252749 + 0.0571439\n",
      "[300]\tcv_agg's l2: 0.246158 + 0.0553492\n"
     ]
    },
    {
     "name": "stderr",
     "output_type": "stream",
     "text": [
      "feature_fraction, val_score: 0.230179:  43%|###################2                         | 3/7 [00:08<00:09,  2.46s/it][I 2023-11-05 12:37:00,760] Trial 2 finished with value: 0.2450289852065224 and parameters: {'feature_fraction': 0.5}. Best is trial 0 with value: 0.23017879708890976.\n",
      "feature_fraction, val_score: 0.230179:  43%|###################2                         | 3/7 [00:08<00:09,  2.46s/it]"
     ]
    },
    {
     "name": "stdout",
     "output_type": "stream",
     "text": [
      "[400]\tcv_agg's l2: 0.244178 + 0.0540519\n",
      "Early stopping, best iteration is:\n",
      "[350]\tcv_agg's l2: 0.230179 + 0.0518938\n",
      "[100]\tcv_agg's l2: 0.239409 + 0.0367561\n",
      "[200]\tcv_agg's l2: 0.228027 + 0.0385472\n",
      "[300]\tcv_agg's l2: 0.224717 + 0.0402148\n"
     ]
    },
    {
     "name": "stderr",
     "output_type": "stream",
     "text": [
      "feature_fraction, val_score: 0.224181:  57%|#########################7                   | 4/7 [00:09<00:06,  2.04s/it][I 2023-11-05 12:37:02,146] Trial 3 finished with value: 0.22418121493482665 and parameters: {'feature_fraction': 0.7}. Best is trial 3 with value: 0.22418121493482665.\n",
      "feature_fraction, val_score: 0.224181:  57%|#########################7                   | 4/7 [00:09<00:06,  2.04s/it]"
     ]
    },
    {
     "name": "stdout",
     "output_type": "stream",
     "text": [
      "[400]\tcv_agg's l2: 0.225113 + 0.0402052\n",
      "Early stopping, best iteration is:\n",
      "[311]\tcv_agg's l2: 0.224181 + 0.0396265\n",
      "[100]\tcv_agg's l2: 0.231004 + 0.0446611\n",
      "[200]\tcv_agg's l2: 0.226895 + 0.0455728\n",
      "[300]\tcv_agg's l2: 0.228359 + 0.0457335\n"
     ]
    },
    {
     "name": "stderr",
     "output_type": "stream",
     "text": [
      "feature_fraction, val_score: 0.224181:  71%|################################1            | 5/7 [00:10<00:03,  1.75s/it][I 2023-11-05 12:37:03,378] Trial 4 finished with value: 0.22880568421025602 and parameters: {'feature_fraction': 0.8999999999999999}. Best is trial 3 with value: 0.22418121493482665.\n",
      "feature_fraction, val_score: 0.224181:  71%|################################1            | 5/7 [00:10<00:03,  1.75s/it]"
     ]
    },
    {
     "name": "stdout",
     "output_type": "stream",
     "text": [
      "[400]\tcv_agg's l2: 0.229965 + 0.0464151\n",
      "Early stopping, best iteration is:\n",
      "[311]\tcv_agg's l2: 0.224181 + 0.0396265\n",
      "[100]\tcv_agg's l2: 0.234102 + 0.0514901\n",
      "[200]\tcv_agg's l2: 0.232555 + 0.0496004\n",
      "[300]\tcv_agg's l2: 0.234554 + 0.0509724\n"
     ]
    },
    {
     "name": "stderr",
     "output_type": "stream",
     "text": [
      "feature_fraction, val_score: 0.224181:  86%|######################################5      | 6/7 [00:12<00:01,  1.61s/it][I 2023-11-05 12:37:04,730] Trial 5 finished with value: 0.23479838844369808 and parameters: {'feature_fraction': 1.0}. Best is trial 3 with value: 0.22418121493482665.\n",
      "feature_fraction, val_score: 0.224181:  86%|######################################5      | 6/7 [00:12<00:01,  1.61s/it]"
     ]
    },
    {
     "name": "stdout",
     "output_type": "stream",
     "text": [
      "[400]\tcv_agg's l2: 0.238073 + 0.0528597\n",
      "Early stopping, best iteration is:\n",
      "[311]\tcv_agg's l2: 0.224181 + 0.0396265\n",
      "[100]\tcv_agg's l2: 0.239409 + 0.0367561\n",
      "[200]\tcv_agg's l2: 0.228027 + 0.0385472\n",
      "[300]\tcv_agg's l2: 0.224717 + 0.0402148\n"
     ]
    },
    {
     "name": "stderr",
     "output_type": "stream",
     "text": [
      "feature_fraction, val_score: 0.224181: 100%|#############################################| 7/7 [00:13<00:00,  1.51s/it][I 2023-11-05 12:37:06,028] Trial 6 finished with value: 0.22418121493482665 and parameters: {'feature_fraction': 0.8}. Best is trial 3 with value: 0.22418121493482665.\n",
      "feature_fraction, val_score: 0.224181: 100%|#############################################| 7/7 [00:13<00:00,  1.90s/it]\n"
     ]
    },
    {
     "name": "stdout",
     "output_type": "stream",
     "text": [
      "[400]\tcv_agg's l2: 0.225113 + 0.0402052\n",
      "Early stopping, best iteration is:\n",
      "[311]\tcv_agg's l2: 0.224181 + 0.0396265\n"
     ]
    },
    {
     "name": "stderr",
     "output_type": "stream",
     "text": [
      "num_leaves, val_score: 0.224181:   0%|                                                          | 0/20 [00:00<?, ?it/s]"
     ]
    },
    {
     "name": "stdout",
     "output_type": "stream",
     "text": [
      "[100]\tcv_agg's l2: 0.239409 + 0.0367561\n",
      "[200]\tcv_agg's l2: 0.228027 + 0.0385472\n",
      "[300]\tcv_agg's l2: 0.224717 + 0.0402148\n"
     ]
    },
    {
     "name": "stderr",
     "output_type": "stream",
     "text": [
      "num_leaves, val_score: 0.224181:   5%|##5                                               | 1/20 [00:01<00:29,  1.56s/it][I 2023-11-05 12:37:07,594] Trial 7 finished with value: 0.22418121493482665 and parameters: {'num_leaves': 209}. Best is trial 7 with value: 0.22418121493482665.\n",
      "num_leaves, val_score: 0.224181:   5%|##5                                               | 1/20 [00:01<00:29,  1.56s/it]"
     ]
    },
    {
     "name": "stdout",
     "output_type": "stream",
     "text": [
      "[400]\tcv_agg's l2: 0.225113 + 0.0402052\n",
      "Early stopping, best iteration is:\n",
      "[311]\tcv_agg's l2: 0.224181 + 0.0396265\n",
      "[100]\tcv_agg's l2: 0.315828 + 0.0516112\n"
     ]
    },
    {
     "name": "stderr",
     "output_type": "stream",
     "text": [
      "\r",
      "num_leaves, val_score: 0.224181:   5%|##5                                               | 1/20 [00:01<00:29,  1.56s/it]"
     ]
    },
    {
     "name": "stdout",
     "output_type": "stream",
     "text": [
      "[200]\tcv_agg's l2: 0.272865 + 0.0420592\n",
      "[300]\tcv_agg's l2: 0.257902 + 0.0388488\n",
      "[400]\tcv_agg's l2: 0.249642 + 0.0374136\n",
      "Early stopping, best iteration is:\n",
      "[311]\tcv_agg's l2: 0.224181 + 0.0396265\n"
     ]
    },
    {
     "name": "stderr",
     "output_type": "stream",
     "text": [
      "num_leaves, val_score: 0.224181:  10%|#####                                             | 2/20 [00:01<00:15,  1.17it/s][I 2023-11-05 12:37:07,953] Trial 8 finished with value: 0.2568962579527003 and parameters: {'num_leaves': 3}. Best is trial 7 with value: 0.22418121493482665.\n",
      "num_leaves, val_score: 0.224181:  10%|#####                                             | 2/20 [00:01<00:15,  1.17it/s]"
     ]
    },
    {
     "name": "stdout",
     "output_type": "stream",
     "text": [
      "[100]\tcv_agg's l2: 0.239311 + 0.0358893\n",
      "[200]\tcv_agg's l2: 0.226819 + 0.0392133\n",
      "[300]\tcv_agg's l2: 0.223683 + 0.0385532\n",
      "[400]\tcv_agg's l2: 0.22275 + 0.0386884\n",
      "[500]\tcv_agg's l2: 0.222063 + 0.0386257\n",
      "[600]\tcv_agg's l2: 0.221209 + 0.0386381\n",
      "Early stopping, best iteration is:\n",
      "[596]\tcv_agg's l2: 0.221103 + 0.0386581\n"
     ]
    },
    {
     "name": "stderr",
     "output_type": "stream",
     "text": [
      "num_leaves, val_score: 0.221103:  15%|#######5                                          | 3/20 [00:03<00:20,  1.23s/it][I 2023-11-05 12:37:09,620] Trial 9 finished with value: 0.22110276212814362 and parameters: {'num_leaves': 15}. Best is trial 9 with value: 0.22110276212814362.\n",
      "num_leaves, val_score: 0.221103:  15%|#######5                                          | 3/20 [00:03<00:20,  1.23s/it]"
     ]
    },
    {
     "name": "stdout",
     "output_type": "stream",
     "text": [
      "[100]\tcv_agg's l2: 0.256867 + 0.0471725\n",
      "[200]\tcv_agg's l2: 0.237499 + 0.0447196\n",
      "[300]\tcv_agg's l2: 0.225938 + 0.0412616\n",
      "[400]\tcv_agg's l2: 0.222166 + 0.0389536\n",
      "[500]\tcv_agg's l2: 0.219872 + 0.036172\n",
      "[600]\tcv_agg's l2: 0.218068 + 0.0353969\n",
      "[700]\tcv_agg's l2: 0.215884 + 0.0350071\n",
      "[800]\tcv_agg's l2: 0.21453 + 0.0346526\n",
      "[900]\tcv_agg's l2: 0.213786 + 0.0346645\n",
      "[1000]\tcv_agg's l2: 0.212123 + 0.0343214\n",
      "[1100]\tcv_agg's l2: 0.211672 + 0.0345898\n",
      "[1200]\tcv_agg's l2: 0.211427 + 0.0343745\n"
     ]
    },
    {
     "name": "stderr",
     "output_type": "stream",
     "text": [
      "num_leaves, val_score: 0.211199:  20%|##########                                        | 4/20 [00:05<00:22,  1.38s/it][I 2023-11-05 12:37:11,247] Trial 10 finished with value: 0.2111986120130696 and parameters: {'num_leaves': 6}. Best is trial 10 with value: 0.2111986120130696.\n",
      "num_leaves, val_score: 0.211199:  20%|##########                                        | 4/20 [00:05<00:22,  1.38s/it]"
     ]
    },
    {
     "name": "stdout",
     "output_type": "stream",
     "text": [
      "[1300]\tcv_agg's l2: 0.211537 + 0.0348024\n",
      "Early stopping, best iteration is:\n",
      "[1255]\tcv_agg's l2: 0.211199 + 0.0344635\n",
      "[100]\tcv_agg's l2: 0.270492 + 0.0540263\n",
      "[200]\tcv_agg's l2: 0.248254 + 0.0485577\n",
      "[300]\tcv_agg's l2: 0.238923 + 0.0431504\n",
      "[400]\tcv_agg's l2: 0.232803 + 0.0403015\n",
      "[500]\tcv_agg's l2: 0.228421 + 0.0380934\n",
      "[600]\tcv_agg's l2: 0.227214 + 0.0353342\n",
      "[700]\tcv_agg's l2: 0.224577 + 0.0328887\n",
      "[800]\tcv_agg's l2: 0.223404 + 0.0304421\n",
      "[900]\tcv_agg's l2: 0.222487 + 0.0299471\n",
      "[1000]\tcv_agg's l2: 0.221594 + 0.0285819\n",
      "[1100]\tcv_agg's l2: 0.220623 + 0.028625\n"
     ]
    },
    {
     "name": "stderr",
     "output_type": "stream",
     "text": [
      "\r",
      "num_leaves, val_score: 0.211199:  20%|##########                                        | 4/20 [00:06<00:22,  1.38s/it]"
     ]
    },
    {
     "name": "stdout",
     "output_type": "stream",
     "text": [
      "[1200]\tcv_agg's l2: 0.220208 + 0.0285321\n",
      "[1300]\tcv_agg's l2: 0.220069 + 0.0284517\n",
      "Early stopping, best iteration is:\n",
      "[1255]\tcv_agg's l2: 0.211199 + 0.0344635\n"
     ]
    },
    {
     "name": "stderr",
     "output_type": "stream",
     "text": [
      "num_leaves, val_score: 0.211199:  25%|############5                                     | 5/20 [00:06<00:20,  1.39s/it][I 2023-11-05 12:37:12,638] Trial 11 finished with value: 0.22038426945157868 and parameters: {'num_leaves': 4}. Best is trial 10 with value: 0.2111986120130696.\n",
      "num_leaves, val_score: 0.211199:  25%|############5                                     | 5/20 [00:06<00:20,  1.39s/it]"
     ]
    },
    {
     "name": "stdout",
     "output_type": "stream",
     "text": [
      "[100]\tcv_agg's l2: 0.239409 + 0.0367561\n",
      "[200]\tcv_agg's l2: 0.228027 + 0.0385472\n",
      "[300]\tcv_agg's l2: 0.224717 + 0.0402148\n",
      "[400]\tcv_agg's l2: 0.225113 + 0.0402052\n",
      "[500]\tcv_agg's l2: 0.22549 + 0.0402128\n",
      "[600]\tcv_agg's l2: 0.227527 + 0.040631\n",
      "[700]\tcv_agg's l2: 0.229052 + 0.0409475\n",
      "[800]\tcv_agg's l2: 0.229763 + 0.0410391\n",
      "[900]\tcv_agg's l2: 0.230873 + 0.0412376\n",
      "[1000]\tcv_agg's l2: 0.231962 + 0.041447\n",
      "[1100]\tcv_agg's l2: 0.232916 + 0.0414216\n",
      "[1200]\tcv_agg's l2: 0.233823 + 0.0411989\n",
      "[1300]\tcv_agg's l2: 0.234745 + 0.0411125\n",
      "Early stopping, best iteration is:\n",
      "[1255]\tcv_agg's l2: 0.211199 + 0.0344635\n"
     ]
    },
    {
     "name": "stderr",
     "output_type": "stream",
     "text": [
      "num_leaves, val_score: 0.211199:  30%|###############                                   | 6/20 [00:11<00:33,  2.41s/it][I 2023-11-05 12:37:17,043] Trial 12 finished with value: 0.23432274586189167 and parameters: {'num_leaves': 71}. Best is trial 10 with value: 0.2111986120130696.\n",
      "num_leaves, val_score: 0.211199:  30%|###############                                   | 6/20 [00:11<00:33,  2.41s/it]"
     ]
    },
    {
     "name": "stdout",
     "output_type": "stream",
     "text": [
      "[100]\tcv_agg's l2: 0.239409 + 0.0367561\n",
      "[200]\tcv_agg's l2: 0.228027 + 0.0385472\n",
      "[300]\tcv_agg's l2: 0.224717 + 0.0402148\n",
      "[400]\tcv_agg's l2: 0.225113 + 0.0402052\n",
      "[500]\tcv_agg's l2: 0.22549 + 0.0402128\n",
      "[600]\tcv_agg's l2: 0.227527 + 0.040631\n",
      "[700]\tcv_agg's l2: 0.229052 + 0.0409475\n",
      "[800]\tcv_agg's l2: 0.229763 + 0.0410391\n",
      "[900]\tcv_agg's l2: 0.230873 + 0.0412376\n",
      "[1000]\tcv_agg's l2: 0.231962 + 0.041447\n",
      "[1100]\tcv_agg's l2: 0.232916 + 0.0414216\n",
      "[1200]\tcv_agg's l2: 0.233823 + 0.0411989\n",
      "[1300]\tcv_agg's l2: 0.234745 + 0.0411125\n",
      "Early stopping, best iteration is:\n",
      "[1255]\tcv_agg's l2: 0.211199 + 0.0344635\n"
     ]
    },
    {
     "name": "stderr",
     "output_type": "stream",
     "text": [
      "num_leaves, val_score: 0.211199:  35%|#################5                                | 7/20 [00:15<00:42,  3.26s/it][I 2023-11-05 12:37:22,034] Trial 13 finished with value: 0.23432274586189167 and parameters: {'num_leaves': 123}. Best is trial 10 with value: 0.2111986120130696.\n",
      "num_leaves, val_score: 0.211199:  35%|#################5                                | 7/20 [00:16<00:42,  3.26s/it]"
     ]
    },
    {
     "name": "stdout",
     "output_type": "stream",
     "text": [
      "[100]\tcv_agg's l2: 0.239409 + 0.0367561\n",
      "[200]\tcv_agg's l2: 0.228027 + 0.0385472\n",
      "[300]\tcv_agg's l2: 0.224717 + 0.0402148\n",
      "[400]\tcv_agg's l2: 0.225113 + 0.0402052\n",
      "[500]\tcv_agg's l2: 0.22549 + 0.0402128\n",
      "[600]\tcv_agg's l2: 0.227527 + 0.040631\n",
      "[700]\tcv_agg's l2: 0.229052 + 0.0409475\n",
      "[800]\tcv_agg's l2: 0.229763 + 0.0410391\n",
      "[900]\tcv_agg's l2: 0.230873 + 0.0412376\n",
      "[1000]\tcv_agg's l2: 0.231962 + 0.041447\n",
      "[1100]\tcv_agg's l2: 0.232916 + 0.0414216\n",
      "[1200]\tcv_agg's l2: 0.233823 + 0.0411989\n",
      "[1300]\tcv_agg's l2: 0.234745 + 0.0411125\n",
      "Early stopping, best iteration is:\n",
      "[1255]\tcv_agg's l2: 0.211199 + 0.0344635\n"
     ]
    },
    {
     "name": "stderr",
     "output_type": "stream",
     "text": [
      "num_leaves, val_score: 0.211199:  40%|####################                              | 8/20 [00:20<00:44,  3.69s/it][I 2023-11-05 12:37:26,643] Trial 14 finished with value: 0.23432274586189167 and parameters: {'num_leaves': 72}. Best is trial 10 with value: 0.2111986120130696.\n",
      "num_leaves, val_score: 0.211199:  40%|####################                              | 8/20 [00:20<00:44,  3.69s/it]"
     ]
    },
    {
     "name": "stdout",
     "output_type": "stream",
     "text": [
      "[100]\tcv_agg's l2: 0.366215 + 0.0669616\n",
      "[200]\tcv_agg's l2: 0.313697 + 0.0678043\n",
      "[300]\tcv_agg's l2: 0.299528 + 0.06596\n",
      "[400]\tcv_agg's l2: 0.295474 + 0.0662557\n",
      "[500]\tcv_agg's l2: 0.29316 + 0.0662927\n",
      "[600]\tcv_agg's l2: 0.291049 + 0.0660008\n",
      "[700]\tcv_agg's l2: 0.289018 + 0.0658724\n",
      "[800]\tcv_agg's l2: 0.287399 + 0.0656038\n",
      "[900]\tcv_agg's l2: 0.286056 + 0.0655589\n",
      "[1000]\tcv_agg's l2: 0.284919 + 0.0654125\n",
      "[1100]\tcv_agg's l2: 0.283908 + 0.0652385\n",
      "[1200]\tcv_agg's l2: 0.282784 + 0.0653983\n"
     ]
    },
    {
     "name": "stderr",
     "output_type": "stream",
     "text": [
      "num_leaves, val_score: 0.211199:  45%|######################5                           | 9/20 [00:21<00:31,  2.87s/it][I 2023-11-05 12:37:27,724] Trial 15 finished with value: 0.28218799928584787 and parameters: {'num_leaves': 2}. Best is trial 10 with value: 0.2111986120130696.\n",
      "num_leaves, val_score: 0.211199:  45%|######################5                           | 9/20 [00:21<00:31,  2.87s/it]"
     ]
    },
    {
     "name": "stdout",
     "output_type": "stream",
     "text": [
      "[1300]\tcv_agg's l2: 0.281812 + 0.065332\n",
      "Early stopping, best iteration is:\n",
      "[1255]\tcv_agg's l2: 0.211199 + 0.0344635\n",
      "[100]\tcv_agg's l2: 0.239409 + 0.0367561\n",
      "[200]\tcv_agg's l2: 0.228027 + 0.0385472\n",
      "[300]\tcv_agg's l2: 0.224717 + 0.0402148\n",
      "[400]\tcv_agg's l2: 0.225113 + 0.0402052\n",
      "[500]\tcv_agg's l2: 0.22549 + 0.0402128\n",
      "[600]\tcv_agg's l2: 0.227527 + 0.040631\n",
      "[700]\tcv_agg's l2: 0.229052 + 0.0409475\n",
      "[800]\tcv_agg's l2: 0.229763 + 0.0410391\n",
      "[900]\tcv_agg's l2: 0.230873 + 0.0412376\n",
      "[1000]\tcv_agg's l2: 0.231962 + 0.041447\n",
      "[1100]\tcv_agg's l2: 0.232916 + 0.0414216\n",
      "[1200]\tcv_agg's l2: 0.233823 + 0.0411989\n",
      "[1300]\tcv_agg's l2: 0.234745 + 0.0411125\n",
      "Early stopping, best iteration is:\n",
      "[1255]\tcv_agg's l2: 0.211199 + 0.0344635\n"
     ]
    },
    {
     "name": "stderr",
     "output_type": "stream",
     "text": [
      "num_leaves, val_score: 0.211199:  50%|########################5                        | 10/20 [00:26<00:35,  3.59s/it][I 2023-11-05 12:37:32,930] Trial 16 finished with value: 0.23432274586189167 and parameters: {'num_leaves': 65}. Best is trial 10 with value: 0.2111986120130696.\n",
      "num_leaves, val_score: 0.211199:  50%|########################5                        | 10/20 [00:26<00:35,  3.59s/it]"
     ]
    },
    {
     "name": "stdout",
     "output_type": "stream",
     "text": [
      "[100]\tcv_agg's l2: 0.239409 + 0.0367561\n",
      "[200]\tcv_agg's l2: 0.228027 + 0.0385472\n",
      "[300]\tcv_agg's l2: 0.224717 + 0.0402148\n",
      "[400]\tcv_agg's l2: 0.225113 + 0.0402052\n",
      "[500]\tcv_agg's l2: 0.22549 + 0.0402128\n",
      "[600]\tcv_agg's l2: 0.227527 + 0.040631\n",
      "[700]\tcv_agg's l2: 0.229052 + 0.0409475\n",
      "[800]\tcv_agg's l2: 0.229763 + 0.0410391\n",
      "[900]\tcv_agg's l2: 0.230873 + 0.0412376\n",
      "[1000]\tcv_agg's l2: 0.231962 + 0.041447\n",
      "[1100]\tcv_agg's l2: 0.232916 + 0.0414216\n",
      "[1200]\tcv_agg's l2: 0.233823 + 0.0411989\n",
      "[1300]\tcv_agg's l2: 0.234745 + 0.0411125\n"
     ]
    },
    {
     "name": "stderr",
     "output_type": "stream",
     "text": [
      "num_leaves, val_score: 0.211199:  55%|##########################9                      | 11/20 [00:32<00:36,  4.08s/it][I 2023-11-05 12:37:38,128] Trial 17 finished with value: 0.23432274586189167 and parameters: {'num_leaves': 223}. Best is trial 10 with value: 0.2111986120130696.\n",
      "num_leaves, val_score: 0.211199:  55%|##########################9                      | 11/20 [00:32<00:36,  4.08s/it]"
     ]
    },
    {
     "name": "stdout",
     "output_type": "stream",
     "text": [
      "Early stopping, best iteration is:\n",
      "[1255]\tcv_agg's l2: 0.211199 + 0.0344635\n",
      "[100]\tcv_agg's l2: 0.239409 + 0.0367561\n",
      "[200]\tcv_agg's l2: 0.228027 + 0.0385472\n",
      "[300]\tcv_agg's l2: 0.224717 + 0.0402148\n",
      "[400]\tcv_agg's l2: 0.225113 + 0.0402052\n",
      "[500]\tcv_agg's l2: 0.22549 + 0.0402128\n",
      "[600]\tcv_agg's l2: 0.227527 + 0.040631\n",
      "[700]\tcv_agg's l2: 0.229052 + 0.0409475\n",
      "[800]\tcv_agg's l2: 0.229763 + 0.0410391\n",
      "[900]\tcv_agg's l2: 0.230873 + 0.0412376\n",
      "[1000]\tcv_agg's l2: 0.231962 + 0.041447\n",
      "[1100]\tcv_agg's l2: 0.232916 + 0.0414216\n",
      "[1200]\tcv_agg's l2: 0.233823 + 0.0411989\n",
      "[1300]\tcv_agg's l2: 0.234745 + 0.0411125\n",
      "Early stopping, best iteration is:\n",
      "[1255]\tcv_agg's l2: 0.211199 + 0.0344635\n"
     ]
    },
    {
     "name": "stderr",
     "output_type": "stream",
     "text": [
      "num_leaves, val_score: 0.211199:  60%|#############################4                   | 12/20 [00:37<00:36,  4.50s/it][I 2023-11-05 12:37:43,594] Trial 18 finished with value: 0.23432274586189167 and parameters: {'num_leaves': 133}. Best is trial 10 with value: 0.2111986120130696.\n",
      "num_leaves, val_score: 0.211199:  60%|#############################4                   | 12/20 [00:37<00:36,  4.50s/it]"
     ]
    },
    {
     "name": "stdout",
     "output_type": "stream",
     "text": [
      "[100]\tcv_agg's l2: 0.239409 + 0.0367561\n",
      "[200]\tcv_agg's l2: 0.228027 + 0.0385472\n",
      "[300]\tcv_agg's l2: 0.224717 + 0.0402148\n",
      "[400]\tcv_agg's l2: 0.225113 + 0.0402052\n",
      "[500]\tcv_agg's l2: 0.22549 + 0.0402128\n",
      "[600]\tcv_agg's l2: 0.227527 + 0.040631\n",
      "[700]\tcv_agg's l2: 0.229052 + 0.0409475\n",
      "[800]\tcv_agg's l2: 0.229763 + 0.0410391\n",
      "[900]\tcv_agg's l2: 0.230873 + 0.0412376\n",
      "[1000]\tcv_agg's l2: 0.231962 + 0.041447\n",
      "[1100]\tcv_agg's l2: 0.232916 + 0.0414216\n",
      "[1200]\tcv_agg's l2: 0.233823 + 0.0411989\n",
      "[1300]\tcv_agg's l2: 0.234745 + 0.0411125\n"
     ]
    },
    {
     "name": "stderr",
     "output_type": "stream",
     "text": [
      "num_leaves, val_score: 0.211199:  65%|###############################8                 | 13/20 [00:42<00:32,  4.70s/it][I 2023-11-05 12:37:48,743] Trial 19 finished with value: 0.23432274586189167 and parameters: {'num_leaves': 47}. Best is trial 10 with value: 0.2111986120130696.\n",
      "num_leaves, val_score: 0.211199:  65%|###############################8                 | 13/20 [00:42<00:32,  4.70s/it]"
     ]
    },
    {
     "name": "stdout",
     "output_type": "stream",
     "text": [
      "Early stopping, best iteration is:\n",
      "[1255]\tcv_agg's l2: 0.211199 + 0.0344635\n",
      "[100]\tcv_agg's l2: 0.239409 + 0.0367561\n",
      "[200]\tcv_agg's l2: 0.228027 + 0.0385472\n",
      "[300]\tcv_agg's l2: 0.224717 + 0.0402148\n",
      "[400]\tcv_agg's l2: 0.225113 + 0.0402052\n",
      "[500]\tcv_agg's l2: 0.22549 + 0.0402128\n",
      "[600]\tcv_agg's l2: 0.227527 + 0.040631\n",
      "[700]\tcv_agg's l2: 0.229052 + 0.0409475\n",
      "[800]\tcv_agg's l2: 0.229763 + 0.0410391\n",
      "[900]\tcv_agg's l2: 0.230873 + 0.0412376\n",
      "[1000]\tcv_agg's l2: 0.231962 + 0.041447\n",
      "[1100]\tcv_agg's l2: 0.232916 + 0.0414216\n",
      "[1200]\tcv_agg's l2: 0.233823 + 0.0411989\n",
      "[1300]\tcv_agg's l2: 0.234745 + 0.0411125\n"
     ]
    },
    {
     "name": "stderr",
     "output_type": "stream",
     "text": [
      "num_leaves, val_score: 0.211199:  70%|##################################3              | 14/20 [00:48<00:30,  5.08s/it][I 2023-11-05 12:37:54,687] Trial 20 finished with value: 0.23432274586189167 and parameters: {'num_leaves': 124}. Best is trial 10 with value: 0.2111986120130696.\n",
      "num_leaves, val_score: 0.211199:  70%|##################################3              | 14/20 [00:48<00:30,  5.08s/it]"
     ]
    },
    {
     "name": "stdout",
     "output_type": "stream",
     "text": [
      "Early stopping, best iteration is:\n",
      "[1255]\tcv_agg's l2: 0.211199 + 0.0344635\n",
      "[100]\tcv_agg's l2: 0.239409 + 0.0367561\n",
      "[200]\tcv_agg's l2: 0.228027 + 0.0385472\n",
      "[300]\tcv_agg's l2: 0.224717 + 0.0402148\n",
      "[400]\tcv_agg's l2: 0.225113 + 0.0402052\n",
      "[500]\tcv_agg's l2: 0.22549 + 0.0402128\n",
      "[600]\tcv_agg's l2: 0.227527 + 0.040631\n",
      "[700]\tcv_agg's l2: 0.229052 + 0.0409475\n",
      "[800]\tcv_agg's l2: 0.229763 + 0.0410391\n",
      "[900]\tcv_agg's l2: 0.230873 + 0.0412376\n",
      "[1000]\tcv_agg's l2: 0.231993 + 0.0414107\n",
      "[1100]\tcv_agg's l2: 0.232836 + 0.041512\n",
      "[1200]\tcv_agg's l2: 0.233752 + 0.0412798\n",
      "[1300]\tcv_agg's l2: 0.234661 + 0.0412074\n",
      "Early stopping, best iteration is:\n",
      "[1255]\tcv_agg's l2: 0.211199 + 0.0344635\n"
     ]
    },
    {
     "name": "stderr",
     "output_type": "stream",
     "text": [
      "num_leaves, val_score: 0.211199:  75%|####################################7            | 15/20 [00:54<00:25,  5.19s/it][I 2023-11-05 12:38:00,155] Trial 21 finished with value: 0.2342726530349481 and parameters: {'num_leaves': 29}. Best is trial 10 with value: 0.2111986120130696.\n",
      "num_leaves, val_score: 0.211199:  75%|####################################7            | 15/20 [00:54<00:25,  5.19s/it]"
     ]
    },
    {
     "name": "stdout",
     "output_type": "stream",
     "text": [
      "[100]\tcv_agg's l2: 0.237899 + 0.0358494\n",
      "[200]\tcv_agg's l2: 0.224754 + 0.0407689\n",
      "[300]\tcv_agg's l2: 0.222437 + 0.0413459\n",
      "[400]\tcv_agg's l2: 0.221991 + 0.0425618\n",
      "[500]\tcv_agg's l2: 0.221804 + 0.0430914\n",
      "[600]\tcv_agg's l2: 0.223267 + 0.0440263\n",
      "[700]\tcv_agg's l2: 0.224164 + 0.0441429\n",
      "[800]\tcv_agg's l2: 0.225441 + 0.0439995\n",
      "[900]\tcv_agg's l2: 0.226576 + 0.0442497\n",
      "[1000]\tcv_agg's l2: 0.22722 + 0.0440013\n",
      "[1100]\tcv_agg's l2: 0.228022 + 0.043839\n",
      "[1200]\tcv_agg's l2: 0.228979 + 0.0438249\n"
     ]
    },
    {
     "name": "stderr",
     "output_type": "stream",
     "text": [
      "\r",
      "num_leaves, val_score: 0.211199:  75%|####################################7            | 15/20 [00:58<00:25,  5.19s/it]"
     ]
    },
    {
     "name": "stdout",
     "output_type": "stream",
     "text": [
      "[1300]\tcv_agg's l2: 0.22968 + 0.0436377\n",
      "Early stopping, best iteration is:\n",
      "[1255]\tcv_agg's l2: 0.211199 + 0.0344635\n"
     ]
    },
    {
     "name": "stderr",
     "output_type": "stream",
     "text": [
      "num_leaves, val_score: 0.211199:  80%|#######################################2         | 16/20 [00:58<00:20,  5.08s/it][I 2023-11-05 12:38:04,959] Trial 22 finished with value: 0.22933593245835296 and parameters: {'num_leaves': 23}. Best is trial 10 with value: 0.2111986120130696.\n",
      "num_leaves, val_score: 0.211199:  80%|#######################################2         | 16/20 [00:58<00:20,  5.08s/it]"
     ]
    },
    {
     "name": "stdout",
     "output_type": "stream",
     "text": [
      "[100]\tcv_agg's l2: 0.239409 + 0.0367561\n",
      "[200]\tcv_agg's l2: 0.228027 + 0.0385472\n",
      "[300]\tcv_agg's l2: 0.224717 + 0.0402148\n",
      "[400]\tcv_agg's l2: 0.225113 + 0.0402052\n",
      "[500]\tcv_agg's l2: 0.22549 + 0.0402128\n",
      "[600]\tcv_agg's l2: 0.227527 + 0.040631\n",
      "[700]\tcv_agg's l2: 0.229052 + 0.0409475\n",
      "[800]\tcv_agg's l2: 0.229763 + 0.0410391\n",
      "[900]\tcv_agg's l2: 0.230873 + 0.0412376\n",
      "[1000]\tcv_agg's l2: 0.231962 + 0.041447\n",
      "[1100]\tcv_agg's l2: 0.232916 + 0.0414216\n",
      "[1200]\tcv_agg's l2: 0.233823 + 0.0411989\n",
      "[1300]\tcv_agg's l2: 0.234745 + 0.0411125\n"
     ]
    },
    {
     "name": "stderr",
     "output_type": "stream",
     "text": [
      "num_leaves, val_score: 0.211199:  85%|#########################################6       | 17/20 [01:04<00:15,  5.09s/it][I 2023-11-05 12:38:10,065] Trial 23 finished with value: 0.23432274586189167 and parameters: {'num_leaves': 32}. Best is trial 10 with value: 0.2111986120130696.\n",
      "num_leaves, val_score: 0.211199:  85%|#########################################6       | 17/20 [01:04<00:15,  5.09s/it]"
     ]
    },
    {
     "name": "stdout",
     "output_type": "stream",
     "text": [
      "Early stopping, best iteration is:\n",
      "[1255]\tcv_agg's l2: 0.211199 + 0.0344635\n",
      "[100]\tcv_agg's l2: 0.239409 + 0.0367561\n",
      "[200]\tcv_agg's l2: 0.228027 + 0.0385472\n",
      "[300]\tcv_agg's l2: 0.224717 + 0.0402148\n",
      "[400]\tcv_agg's l2: 0.225113 + 0.0402052\n",
      "[500]\tcv_agg's l2: 0.22549 + 0.0402128\n",
      "[600]\tcv_agg's l2: 0.227527 + 0.040631\n",
      "[700]\tcv_agg's l2: 0.229052 + 0.0409475\n",
      "[800]\tcv_agg's l2: 0.229763 + 0.0410391\n",
      "[900]\tcv_agg's l2: 0.230873 + 0.0412376\n",
      "[1000]\tcv_agg's l2: 0.231962 + 0.041447\n",
      "[1100]\tcv_agg's l2: 0.232916 + 0.0414216\n",
      "[1200]\tcv_agg's l2: 0.233823 + 0.0411989\n",
      "[1300]\tcv_agg's l2: 0.234745 + 0.0411125\n",
      "Early stopping, best iteration is:\n",
      "[1255]\tcv_agg's l2: 0.211199 + 0.0344635\n"
     ]
    },
    {
     "name": "stderr",
     "output_type": "stream",
     "text": [
      "num_leaves, val_score: 0.211199:  90%|############################################1    | 18/20 [01:09<00:10,  5.27s/it][I 2023-11-05 12:38:15,772] Trial 24 finished with value: 0.23432274586189167 and parameters: {'num_leaves': 98}. Best is trial 10 with value: 0.2111986120130696.\n",
      "num_leaves, val_score: 0.211199:  90%|############################################1    | 18/20 [01:09<00:10,  5.27s/it]"
     ]
    },
    {
     "name": "stdout",
     "output_type": "stream",
     "text": [
      "[100]\tcv_agg's l2: 0.239409 + 0.0367561\n",
      "[200]\tcv_agg's l2: 0.228027 + 0.0385472\n",
      "[300]\tcv_agg's l2: 0.224717 + 0.0402148\n",
      "[400]\tcv_agg's l2: 0.225113 + 0.0402052\n",
      "[500]\tcv_agg's l2: 0.22549 + 0.0402128\n",
      "[600]\tcv_agg's l2: 0.227527 + 0.040631\n",
      "[700]\tcv_agg's l2: 0.229052 + 0.0409475\n",
      "[800]\tcv_agg's l2: 0.229763 + 0.0410391\n",
      "[900]\tcv_agg's l2: 0.230873 + 0.0412376\n",
      "[1000]\tcv_agg's l2: 0.231962 + 0.041447\n",
      "[1100]\tcv_agg's l2: 0.232916 + 0.0414216\n",
      "[1200]\tcv_agg's l2: 0.233823 + 0.0411989\n",
      "[1300]\tcv_agg's l2: 0.234745 + 0.0411125\n"
     ]
    },
    {
     "name": "stderr",
     "output_type": "stream",
     "text": [
      "num_leaves, val_score: 0.211199:  95%|##############################################5  | 19/20 [01:15<00:05,  5.45s/it][I 2023-11-05 12:38:21,638] Trial 25 finished with value: 0.23432274586189167 and parameters: {'num_leaves': 157}. Best is trial 10 with value: 0.2111986120130696.\n",
      "num_leaves, val_score: 0.211199:  95%|##############################################5  | 19/20 [01:15<00:05,  5.45s/it]"
     ]
    },
    {
     "name": "stdout",
     "output_type": "stream",
     "text": [
      "Early stopping, best iteration is:\n",
      "[1255]\tcv_agg's l2: 0.211199 + 0.0344635\n",
      "[100]\tcv_agg's l2: 0.248752 + 0.0363879\n",
      "[200]\tcv_agg's l2: 0.23301 + 0.0345277\n",
      "[300]\tcv_agg's l2: 0.223657 + 0.0324262\n",
      "[400]\tcv_agg's l2: 0.221578 + 0.0310793\n",
      "[500]\tcv_agg's l2: 0.219726 + 0.0300764\n",
      "[600]\tcv_agg's l2: 0.218871 + 0.0301281\n",
      "[700]\tcv_agg's l2: 0.217191 + 0.0304786\n",
      "[800]\tcv_agg's l2: 0.216447 + 0.0310231\n",
      "[900]\tcv_agg's l2: 0.215849 + 0.0309956\n",
      "[1000]\tcv_agg's l2: 0.216335 + 0.0312055\n",
      "[1100]\tcv_agg's l2: 0.217027 + 0.0315698\n",
      "[1200]\tcv_agg's l2: 0.217654 + 0.0314187\n"
     ]
    },
    {
     "name": "stderr",
     "output_type": "stream",
     "text": [
      "num_leaves, val_score: 0.211199: 100%|#################################################| 20/20 [01:17<00:00,  4.52s/it][I 2023-11-05 12:38:23,984] Trial 26 finished with value: 0.2176245268597147 and parameters: {'num_leaves': 8}. Best is trial 10 with value: 0.2111986120130696.\n",
      "num_leaves, val_score: 0.211199: 100%|#################################################| 20/20 [01:17<00:00,  3.90s/it]\n"
     ]
    },
    {
     "name": "stdout",
     "output_type": "stream",
     "text": [
      "[1300]\tcv_agg's l2: 0.217869 + 0.0317157\n",
      "Early stopping, best iteration is:\n",
      "[1255]\tcv_agg's l2: 0.211199 + 0.0344635\n"
     ]
    },
    {
     "name": "stderr",
     "output_type": "stream",
     "text": [
      "bagging, val_score: 0.211199:   0%|                                                             | 0/10 [00:00<?, ?it/s]"
     ]
    },
    {
     "name": "stdout",
     "output_type": "stream",
     "text": [
      "[100]\tcv_agg's l2: 0.300578 + 0.0524964\n",
      "[200]\tcv_agg's l2: 0.280823 + 0.0556745\n",
      "[300]\tcv_agg's l2: 0.271916 + 0.0551407\n",
      "[400]\tcv_agg's l2: 0.267784 + 0.0567175\n",
      "[500]\tcv_agg's l2: 0.267906 + 0.0540922\n",
      "[600]\tcv_agg's l2: 0.266163 + 0.0531363\n",
      "[700]\tcv_agg's l2: 0.264712 + 0.0518095\n",
      "[800]\tcv_agg's l2: 0.262773 + 0.0528802\n",
      "[900]\tcv_agg's l2: 0.260452 + 0.0522206\n",
      "[1000]\tcv_agg's l2: 0.259233 + 0.0542269\n",
      "[1100]\tcv_agg's l2: 0.257767 + 0.0525602\n",
      "[1200]\tcv_agg's l2: 0.26218 + 0.0566255\n"
     ]
    },
    {
     "name": "stderr",
     "output_type": "stream",
     "text": [
      "bagging, val_score: 0.211199:  10%|#####3                                               | 1/10 [00:02<00:23,  2.65s/it][I 2023-11-05 12:38:26,640] Trial 27 finished with value: 0.26321787370496863 and parameters: {'bagging_fraction': 0.43718495767022403, 'bagging_freq': 1}. Best is trial 27 with value: 0.26321787370496863.\n",
      "bagging, val_score: 0.211199:  10%|#####3                                               | 1/10 [00:02<00:23,  2.65s/it]"
     ]
    },
    {
     "name": "stdout",
     "output_type": "stream",
     "text": [
      "[1300]\tcv_agg's l2: 0.262136 + 0.0566731\n",
      "Early stopping, best iteration is:\n",
      "[1255]\tcv_agg's l2: 0.211199 + 0.0344635\n",
      "[100]\tcv_agg's l2: 0.255069 + 0.0406809\n",
      "[200]\tcv_agg's l2: 0.236936 + 0.0401477\n",
      "[300]\tcv_agg's l2: 0.229446 + 0.0376604\n",
      "[400]\tcv_agg's l2: 0.222978 + 0.037332\n",
      "[500]\tcv_agg's l2: 0.219861 + 0.0360048\n",
      "[600]\tcv_agg's l2: 0.216634 + 0.0346273\n",
      "[700]\tcv_agg's l2: 0.214701 + 0.0348089\n",
      "[800]\tcv_agg's l2: 0.213244 + 0.0348683\n",
      "[900]\tcv_agg's l2: 0.212722 + 0.0347282\n",
      "[1000]\tcv_agg's l2: 0.213091 + 0.0351631\n",
      "[1100]\tcv_agg's l2: 0.212757 + 0.035619\n",
      "[1200]\tcv_agg's l2: 0.212164 + 0.0355416\n",
      "[1300]\tcv_agg's l2: 0.211852 + 0.0351519\n"
     ]
    },
    {
     "name": "stderr",
     "output_type": "stream",
     "text": [
      "bagging, val_score: 0.211199:  20%|##########6                                          | 2/10 [00:05<00:21,  2.63s/it][I 2023-11-05 12:38:29,262] Trial 28 finished with value: 0.21276517023317468 and parameters: {'bagging_fraction': 0.9177215386971839, 'bagging_freq': 7}. Best is trial 28 with value: 0.21276517023317468.\n",
      "bagging, val_score: 0.211199:  20%|##########6                                          | 2/10 [00:05<00:21,  2.63s/it]"
     ]
    },
    {
     "name": "stdout",
     "output_type": "stream",
     "text": [
      "Early stopping, best iteration is:\n",
      "[1255]\tcv_agg's l2: 0.211199 + 0.0344635\n",
      "[100]\tcv_agg's l2: 0.255026 + 0.0459838\n",
      "[200]\tcv_agg's l2: 0.236586 + 0.0437738\n",
      "[300]\tcv_agg's l2: 0.229061 + 0.0394316\n",
      "[400]\tcv_agg's l2: 0.222375 + 0.0369449\n",
      "[500]\tcv_agg's l2: 0.219542 + 0.0364599\n",
      "[600]\tcv_agg's l2: 0.217644 + 0.0356657\n",
      "[700]\tcv_agg's l2: 0.216332 + 0.0353595\n",
      "[800]\tcv_agg's l2: 0.214743 + 0.0353385\n",
      "[900]\tcv_agg's l2: 0.214654 + 0.0354506\n",
      "[1000]\tcv_agg's l2: 0.215243 + 0.0360985\n",
      "[1100]\tcv_agg's l2: 0.215337 + 0.0344736\n",
      "[1200]\tcv_agg's l2: 0.214523 + 0.0347394\n",
      "[1300]\tcv_agg's l2: 0.214383 + 0.0352071\n"
     ]
    },
    {
     "name": "stderr",
     "output_type": "stream",
     "text": [
      "bagging, val_score: 0.211199:  30%|###############9                                     | 3/10 [00:07<00:18,  2.60s/it][I 2023-11-05 12:38:31,814] Trial 29 finished with value: 0.2145498987385519 and parameters: {'bagging_fraction': 0.9590421506274124, 'bagging_freq': 7}. Best is trial 28 with value: 0.21276517023317468.\n",
      "bagging, val_score: 0.211199:  30%|###############9                                     | 3/10 [00:07<00:18,  2.60s/it]"
     ]
    },
    {
     "name": "stdout",
     "output_type": "stream",
     "text": [
      "Early stopping, best iteration is:\n",
      "[1255]\tcv_agg's l2: 0.211199 + 0.0344635\n",
      "[100]\tcv_agg's l2: 0.263228 + 0.0515171\n",
      "[200]\tcv_agg's l2: 0.240326 + 0.0484973\n",
      "[300]\tcv_agg's l2: 0.231549 + 0.0436118\n",
      "[400]\tcv_agg's l2: 0.226338 + 0.0409503\n",
      "[500]\tcv_agg's l2: 0.223373 + 0.038314\n",
      "[600]\tcv_agg's l2: 0.221375 + 0.0361574\n",
      "[700]\tcv_agg's l2: 0.220268 + 0.0356347\n",
      "[800]\tcv_agg's l2: 0.218354 + 0.0353411\n",
      "[900]\tcv_agg's l2: 0.216894 + 0.0353071\n",
      "[1000]\tcv_agg's l2: 0.216782 + 0.0350002\n",
      "[1100]\tcv_agg's l2: 0.216183 + 0.0353994\n",
      "[1200]\tcv_agg's l2: 0.215391 + 0.0342773\n",
      "[1300]\tcv_agg's l2: 0.215603 + 0.0343335\n"
     ]
    },
    {
     "name": "stderr",
     "output_type": "stream",
     "text": [
      "bagging, val_score: 0.211199:  40%|#####################2                               | 4/10 [00:10<00:16,  2.71s/it][I 2023-11-05 12:38:34,689] Trial 30 finished with value: 0.21542719938569083 and parameters: {'bagging_fraction': 0.9897617709104336, 'bagging_freq': 7}. Best is trial 28 with value: 0.21276517023317468.\n",
      "bagging, val_score: 0.211199:  40%|#####################2                               | 4/10 [00:10<00:16,  2.71s/it]"
     ]
    },
    {
     "name": "stdout",
     "output_type": "stream",
     "text": [
      "Early stopping, best iteration is:\n",
      "[1255]\tcv_agg's l2: 0.211199 + 0.0344635\n",
      "[100]\tcv_agg's l2: 0.255022 + 0.0490248\n",
      "[200]\tcv_agg's l2: 0.237164 + 0.0435767\n",
      "[300]\tcv_agg's l2: 0.228259 + 0.0380459\n",
      "[400]\tcv_agg's l2: 0.222078 + 0.0369935\n",
      "[500]\tcv_agg's l2: 0.218042 + 0.0341827\n",
      "[600]\tcv_agg's l2: 0.215421 + 0.0328988\n",
      "[700]\tcv_agg's l2: 0.214541 + 0.0339652\n",
      "[800]\tcv_agg's l2: 0.212929 + 0.0341967\n",
      "[900]\tcv_agg's l2: 0.212699 + 0.0345057\n",
      "[1000]\tcv_agg's l2: 0.21298 + 0.0350296\n",
      "[1100]\tcv_agg's l2: 0.21271 + 0.0354955\n",
      "[1200]\tcv_agg's l2: 0.212466 + 0.0354088\n"
     ]
    },
    {
     "name": "stderr",
     "output_type": "stream",
     "text": [
      "bagging, val_score: 0.211199:  50%|##########################5                          | 5/10 [00:13<00:13,  2.78s/it][I 2023-11-05 12:38:37,601] Trial 31 finished with value: 0.21286428702833562 and parameters: {'bagging_fraction': 0.9814183236075653, 'bagging_freq': 7}. Best is trial 28 with value: 0.21276517023317468.\n",
      "bagging, val_score: 0.211199:  50%|##########################5                          | 5/10 [00:13<00:13,  2.78s/it]"
     ]
    },
    {
     "name": "stdout",
     "output_type": "stream",
     "text": [
      "[1300]\tcv_agg's l2: 0.213625 + 0.035511\n",
      "Early stopping, best iteration is:\n",
      "[1255]\tcv_agg's l2: 0.211199 + 0.0344635\n",
      "[100]\tcv_agg's l2: 0.25597 + 0.0458778\n",
      "[200]\tcv_agg's l2: 0.235992 + 0.0420732\n",
      "[300]\tcv_agg's l2: 0.227561 + 0.0407367\n",
      "[400]\tcv_agg's l2: 0.221706 + 0.0369822\n",
      "[500]\tcv_agg's l2: 0.219036 + 0.0355254\n",
      "[600]\tcv_agg's l2: 0.217382 + 0.0346387\n",
      "[700]\tcv_agg's l2: 0.215796 + 0.0346474\n",
      "[800]\tcv_agg's l2: 0.215041 + 0.0353886\n",
      "[900]\tcv_agg's l2: 0.214836 + 0.0361704\n",
      "[1000]\tcv_agg's l2: 0.214204 + 0.0367806\n",
      "[1100]\tcv_agg's l2: 0.213409 + 0.035825\n",
      "[1200]\tcv_agg's l2: 0.212253 + 0.0360159\n",
      "[1300]\tcv_agg's l2: 0.212451 + 0.0360704\n"
     ]
    },
    {
     "name": "stderr",
     "output_type": "stream",
     "text": [
      "bagging, val_score: 0.211199:  60%|###############################8                     | 6/10 [00:16<00:11,  2.86s/it][I 2023-11-05 12:38:40,604] Trial 32 finished with value: 0.21257718433368722 and parameters: {'bagging_fraction': 0.968468785986439, 'bagging_freq': 7}. Best is trial 32 with value: 0.21257718433368722.\n",
      "bagging, val_score: 0.211199:  60%|###############################8                     | 6/10 [00:16<00:11,  2.86s/it]"
     ]
    },
    {
     "name": "stdout",
     "output_type": "stream",
     "text": [
      "Early stopping, best iteration is:\n",
      "[1255]\tcv_agg's l2: 0.211199 + 0.0344635\n",
      "[100]\tcv_agg's l2: 0.253057 + 0.0439603\n",
      "[200]\tcv_agg's l2: 0.234812 + 0.0425776\n",
      "[300]\tcv_agg's l2: 0.227728 + 0.040211\n",
      "[400]\tcv_agg's l2: 0.222397 + 0.0377536\n",
      "[500]\tcv_agg's l2: 0.220286 + 0.0368956\n",
      "[600]\tcv_agg's l2: 0.217326 + 0.0356862\n",
      "[700]\tcv_agg's l2: 0.216492 + 0.0355726\n",
      "[800]\tcv_agg's l2: 0.215779 + 0.0357989\n",
      "[900]\tcv_agg's l2: 0.21534 + 0.0361635\n",
      "[1000]\tcv_agg's l2: 0.215091 + 0.0358726\n",
      "[1100]\tcv_agg's l2: 0.214594 + 0.0354467\n",
      "[1200]\tcv_agg's l2: 0.213732 + 0.0355737\n"
     ]
    },
    {
     "name": "stderr",
     "output_type": "stream",
     "text": [
      "bagging, val_score: 0.211199:  70%|#####################################                | 7/10 [00:19<00:08,  2.83s/it][I 2023-11-05 12:38:43,376] Trial 33 finished with value: 0.21400284077235726 and parameters: {'bagging_fraction': 0.9611839854583596, 'bagging_freq': 7}. Best is trial 32 with value: 0.21257718433368722.\n",
      "bagging, val_score: 0.211199:  70%|#####################################                | 7/10 [00:19<00:08,  2.83s/it]"
     ]
    },
    {
     "name": "stdout",
     "output_type": "stream",
     "text": [
      "[1300]\tcv_agg's l2: 0.213972 + 0.0363707\n",
      "Early stopping, best iteration is:\n",
      "[1255]\tcv_agg's l2: 0.211199 + 0.0344635\n",
      "[100]\tcv_agg's l2: 0.259402 + 0.0454662\n",
      "[200]\tcv_agg's l2: 0.240751 + 0.0441487\n",
      "[300]\tcv_agg's l2: 0.232119 + 0.0414347\n",
      "[400]\tcv_agg's l2: 0.226995 + 0.0394438\n",
      "[500]\tcv_agg's l2: 0.221138 + 0.0387048\n",
      "[600]\tcv_agg's l2: 0.220274 + 0.0401983\n",
      "[700]\tcv_agg's l2: 0.2185 + 0.0388289\n",
      "[800]\tcv_agg's l2: 0.218907 + 0.0378653\n",
      "[900]\tcv_agg's l2: 0.217187 + 0.0375682\n",
      "[1000]\tcv_agg's l2: 0.214504 + 0.0372718\n",
      "[1100]\tcv_agg's l2: 0.21448 + 0.0359719\n",
      "[1200]\tcv_agg's l2: 0.214299 + 0.0359863\n"
     ]
    },
    {
     "name": "stderr",
     "output_type": "stream",
     "text": [
      "\r",
      "bagging, val_score: 0.211199:  70%|#####################################                | 7/10 [00:23<00:08,  2.83s/it]"
     ]
    },
    {
     "name": "stdout",
     "output_type": "stream",
     "text": [
      "[1300]\tcv_agg's l2: 0.213216 + 0.0363114\n",
      "Early stopping, best iteration is:\n",
      "[1255]\tcv_agg's l2: 0.211199 + 0.0344635\n"
     ]
    },
    {
     "name": "stderr",
     "output_type": "stream",
     "text": [
      "bagging, val_score: 0.211199:  80%|##########################################4          | 8/10 [00:23<00:06,  3.26s/it][I 2023-11-05 12:38:47,550] Trial 34 finished with value: 0.21426164277665025 and parameters: {'bagging_fraction': 0.8800693812778491, 'bagging_freq': 5}. Best is trial 32 with value: 0.21257718433368722.\n",
      "bagging, val_score: 0.211199:  80%|##########################################4          | 8/10 [00:23<00:06,  3.26s/it]"
     ]
    },
    {
     "name": "stdout",
     "output_type": "stream",
     "text": [
      "[100]\tcv_agg's l2: 0.265701 + 0.0492112\n",
      "[200]\tcv_agg's l2: 0.246771 + 0.0466811\n",
      "[300]\tcv_agg's l2: 0.237052 + 0.0429101\n",
      "[400]\tcv_agg's l2: 0.229547 + 0.0402664\n",
      "[500]\tcv_agg's l2: 0.228941 + 0.0396964\n",
      "[600]\tcv_agg's l2: 0.22396 + 0.0380976\n",
      "[700]\tcv_agg's l2: 0.220173 + 0.0352069\n",
      "[800]\tcv_agg's l2: 0.219197 + 0.0350783\n",
      "[900]\tcv_agg's l2: 0.218498 + 0.034207\n",
      "[1000]\tcv_agg's l2: 0.217509 + 0.0361977\n",
      "[1100]\tcv_agg's l2: 0.217641 + 0.0342479\n",
      "[1200]\tcv_agg's l2: 0.216796 + 0.0344093\n"
     ]
    },
    {
     "name": "stderr",
     "output_type": "stream",
     "text": [
      "bagging, val_score: 0.211199:  90%|###############################################7     | 9/10 [00:27<00:03,  3.62s/it][I 2023-11-05 12:38:51,958] Trial 35 finished with value: 0.21539550309344233 and parameters: {'bagging_fraction': 0.822341411655289, 'bagging_freq': 5}. Best is trial 32 with value: 0.21257718433368722.\n",
      "bagging, val_score: 0.211199:  90%|###############################################7     | 9/10 [00:27<00:03,  3.62s/it]"
     ]
    },
    {
     "name": "stdout",
     "output_type": "stream",
     "text": [
      "[1300]\tcv_agg's l2: 0.216339 + 0.0357368\n",
      "Early stopping, best iteration is:\n",
      "[1255]\tcv_agg's l2: 0.211199 + 0.0344635\n",
      "[100]\tcv_agg's l2: 0.266542 + 0.0369209\n",
      "[200]\tcv_agg's l2: 0.254359 + 0.0421284\n",
      "[300]\tcv_agg's l2: 0.244305 + 0.0387729\n",
      "[400]\tcv_agg's l2: 0.238914 + 0.0354451\n",
      "[500]\tcv_agg's l2: 0.229941 + 0.0337377\n",
      "[600]\tcv_agg's l2: 0.227767 + 0.0356581\n",
      "[700]\tcv_agg's l2: 0.225645 + 0.0340185\n",
      "[800]\tcv_agg's l2: 0.222767 + 0.0329124\n",
      "[900]\tcv_agg's l2: 0.223133 + 0.0327052\n",
      "[1000]\tcv_agg's l2: 0.222706 + 0.0324362\n",
      "[1100]\tcv_agg's l2: 0.218912 + 0.030772\n",
      "[1200]\tcv_agg's l2: 0.217885 + 0.029655\n"
     ]
    },
    {
     "name": "stderr",
     "output_type": "stream",
     "text": [
      "\r",
      "bagging, val_score: 0.211199:  90%|###############################################7     | 9/10 [00:32<00:03,  3.62s/it]"
     ]
    },
    {
     "name": "stdout",
     "output_type": "stream",
     "text": [
      "[1300]\tcv_agg's l2: 0.216786 + 0.0312135\n",
      "Early stopping, best iteration is:\n",
      "[1255]\tcv_agg's l2: 0.211199 + 0.0344635\n"
     ]
    },
    {
     "name": "stderr",
     "output_type": "stream",
     "text": [
      "bagging, val_score: 0.211199: 100%|####################################################| 10/10 [00:32<00:00,  3.82s/it][I 2023-11-05 12:38:56,240] Trial 36 finished with value: 0.21787272458942658 and parameters: {'bagging_fraction': 0.80269779581205, 'bagging_freq': 7}. Best is trial 32 with value: 0.21257718433368722.\n",
      "bagging, val_score: 0.211199: 100%|####################################################| 10/10 [00:32<00:00,  3.23s/it]\n",
      "feature_fraction_stage2, val_score: 0.211199:   0%|                                              | 0/6 [00:00<?, ?it/s]"
     ]
    },
    {
     "name": "stdout",
     "output_type": "stream",
     "text": [
      "[100]\tcv_agg's l2: 0.271635 + 0.0575271\n",
      "[200]\tcv_agg's l2: 0.243446 + 0.0472042\n",
      "[300]\tcv_agg's l2: 0.233936 + 0.0421637\n",
      "[400]\tcv_agg's l2: 0.227532 + 0.0375635\n",
      "[500]\tcv_agg's l2: 0.223543 + 0.0356016\n",
      "[600]\tcv_agg's l2: 0.221944 + 0.0353237\n",
      "[700]\tcv_agg's l2: 0.220178 + 0.0345579\n",
      "[800]\tcv_agg's l2: 0.219298 + 0.0340876\n",
      "[900]\tcv_agg's l2: 0.218659 + 0.0338282\n",
      "[1000]\tcv_agg's l2: 0.217861 + 0.0341163\n",
      "[1100]\tcv_agg's l2: 0.218095 + 0.0346832\n",
      "[1200]\tcv_agg's l2: 0.217475 + 0.034319\n"
     ]
    },
    {
     "name": "stderr",
     "output_type": "stream",
     "text": [
      "feature_fraction_stage2, val_score: 0.211199:  17%|######3                               | 1/6 [00:03<00:19,  3.86s/it][I 2023-11-05 12:39:00,109] Trial 37 finished with value: 0.21764101575018918 and parameters: {'feature_fraction': 0.6839999999999999}. Best is trial 37 with value: 0.21764101575018918.\n",
      "feature_fraction_stage2, val_score: 0.211199:  17%|######3                               | 1/6 [00:03<00:19,  3.86s/it]"
     ]
    },
    {
     "name": "stdout",
     "output_type": "stream",
     "text": [
      "[1300]\tcv_agg's l2: 0.217436 + 0.0340586\n",
      "Early stopping, best iteration is:\n",
      "[1255]\tcv_agg's l2: 0.211199 + 0.0344635\n",
      "[100]\tcv_agg's l2: 0.256867 + 0.0471725\n",
      "[200]\tcv_agg's l2: 0.237499 + 0.0447196\n",
      "[300]\tcv_agg's l2: 0.225938 + 0.0412616\n",
      "[400]\tcv_agg's l2: 0.222166 + 0.0389536\n",
      "[500]\tcv_agg's l2: 0.219872 + 0.036172\n",
      "[600]\tcv_agg's l2: 0.218068 + 0.0353969\n",
      "[700]\tcv_agg's l2: 0.215884 + 0.0350071\n",
      "[800]\tcv_agg's l2: 0.21453 + 0.0346526\n",
      "[900]\tcv_agg's l2: 0.213786 + 0.0346645\n",
      "[1000]\tcv_agg's l2: 0.212123 + 0.0343214\n",
      "[1100]\tcv_agg's l2: 0.211672 + 0.0345898\n",
      "[1200]\tcv_agg's l2: 0.211427 + 0.0343745\n"
     ]
    },
    {
     "name": "stderr",
     "output_type": "stream",
     "text": [
      "feature_fraction_stage2, val_score: 0.211199:  33%|############6                         | 2/6 [00:07<00:15,  3.76s/it][I 2023-11-05 12:39:03,795] Trial 38 finished with value: 0.2111986120130696 and parameters: {'feature_fraction': 0.716}. Best is trial 38 with value: 0.2111986120130696.\n",
      "feature_fraction_stage2, val_score: 0.211199:  33%|############6                         | 2/6 [00:07<00:15,  3.76s/it]"
     ]
    },
    {
     "name": "stdout",
     "output_type": "stream",
     "text": [
      "[1300]\tcv_agg's l2: 0.211537 + 0.0348024\n",
      "Early stopping, best iteration is:\n",
      "[1255]\tcv_agg's l2: 0.211199 + 0.0344635\n",
      "[100]\tcv_agg's l2: 0.256867 + 0.0471725\n",
      "[200]\tcv_agg's l2: 0.237499 + 0.0447196\n",
      "[300]\tcv_agg's l2: 0.225938 + 0.0412616\n",
      "[400]\tcv_agg's l2: 0.222166 + 0.0389536\n",
      "[500]\tcv_agg's l2: 0.219872 + 0.036172\n",
      "[600]\tcv_agg's l2: 0.218068 + 0.0353969\n",
      "[700]\tcv_agg's l2: 0.215884 + 0.0350071\n",
      "[800]\tcv_agg's l2: 0.21453 + 0.0346526\n",
      "[900]\tcv_agg's l2: 0.213786 + 0.0346645\n",
      "[1000]\tcv_agg's l2: 0.212123 + 0.0343214\n",
      "[1100]\tcv_agg's l2: 0.211672 + 0.0345898\n",
      "[1200]\tcv_agg's l2: 0.211427 + 0.0343745\n"
     ]
    },
    {
     "name": "stderr",
     "output_type": "stream",
     "text": [
      "feature_fraction_stage2, val_score: 0.211199:  50%|###################                   | 3/6 [00:11<00:11,  3.76s/it][I 2023-11-05 12:39:07,548] Trial 39 finished with value: 0.2111986120130696 and parameters: {'feature_fraction': 0.7799999999999999}. Best is trial 38 with value: 0.2111986120130696.\n",
      "feature_fraction_stage2, val_score: 0.211199:  50%|###################                   | 3/6 [00:11<00:11,  3.76s/it]"
     ]
    },
    {
     "name": "stdout",
     "output_type": "stream",
     "text": [
      "[1300]\tcv_agg's l2: 0.211537 + 0.0348024\n",
      "Early stopping, best iteration is:\n",
      "[1255]\tcv_agg's l2: 0.211199 + 0.0344635\n",
      "[100]\tcv_agg's l2: 0.256867 + 0.0471725\n",
      "[200]\tcv_agg's l2: 0.237499 + 0.0447196\n",
      "[300]\tcv_agg's l2: 0.225938 + 0.0412616\n",
      "[400]\tcv_agg's l2: 0.222166 + 0.0389536\n",
      "[500]\tcv_agg's l2: 0.219872 + 0.036172\n",
      "[600]\tcv_agg's l2: 0.218068 + 0.0353969\n",
      "[700]\tcv_agg's l2: 0.215884 + 0.0350071\n",
      "[800]\tcv_agg's l2: 0.21453 + 0.0346526\n",
      "[900]\tcv_agg's l2: 0.213786 + 0.0346645\n",
      "[1000]\tcv_agg's l2: 0.212123 + 0.0343214\n",
      "[1100]\tcv_agg's l2: 0.211672 + 0.0345898\n",
      "[1200]\tcv_agg's l2: 0.211427 + 0.0343745\n"
     ]
    },
    {
     "name": "stderr",
     "output_type": "stream",
     "text": [
      "feature_fraction_stage2, val_score: 0.211199:  67%|#########################3            | 4/6 [00:15<00:07,  3.85s/it][I 2023-11-05 12:39:11,544] Trial 40 finished with value: 0.2111986120130696 and parameters: {'feature_fraction': 0.748}. Best is trial 38 with value: 0.2111986120130696.\n",
      "feature_fraction_stage2, val_score: 0.211199:  67%|#########################3            | 4/6 [00:15<00:07,  3.85s/it]"
     ]
    },
    {
     "name": "stdout",
     "output_type": "stream",
     "text": [
      "[1300]\tcv_agg's l2: 0.211537 + 0.0348024\n",
      "Early stopping, best iteration is:\n",
      "[1255]\tcv_agg's l2: 0.211199 + 0.0344635\n",
      "[100]\tcv_agg's l2: 0.271635 + 0.0575271\n",
      "[200]\tcv_agg's l2: 0.243446 + 0.0472042\n",
      "[300]\tcv_agg's l2: 0.233936 + 0.0421637\n",
      "[400]\tcv_agg's l2: 0.227532 + 0.0375635\n",
      "[500]\tcv_agg's l2: 0.223543 + 0.0356016\n",
      "[600]\tcv_agg's l2: 0.221944 + 0.0353237\n",
      "[700]\tcv_agg's l2: 0.220178 + 0.0345579\n",
      "[800]\tcv_agg's l2: 0.219298 + 0.0340876\n",
      "[900]\tcv_agg's l2: 0.218659 + 0.0338282\n",
      "[1000]\tcv_agg's l2: 0.217861 + 0.0341163\n",
      "[1100]\tcv_agg's l2: 0.218095 + 0.0346832\n",
      "[1200]\tcv_agg's l2: 0.217475 + 0.034319\n"
     ]
    },
    {
     "name": "stderr",
     "output_type": "stream",
     "text": [
      "feature_fraction_stage2, val_score: 0.211199:  83%|###############################6      | 5/6 [00:19<00:03,  3.86s/it][I 2023-11-05 12:39:15,426] Trial 41 finished with value: 0.21764101575018918 and parameters: {'feature_fraction': 0.62}. Best is trial 38 with value: 0.2111986120130696.\n",
      "feature_fraction_stage2, val_score: 0.211199:  83%|###############################6      | 5/6 [00:19<00:03,  3.86s/it]"
     ]
    },
    {
     "name": "stdout",
     "output_type": "stream",
     "text": [
      "[1300]\tcv_agg's l2: 0.217436 + 0.0340586\n",
      "Early stopping, best iteration is:\n",
      "[1255]\tcv_agg's l2: 0.211199 + 0.0344635\n",
      "[100]\tcv_agg's l2: 0.271635 + 0.0575271\n",
      "[200]\tcv_agg's l2: 0.243446 + 0.0472042\n",
      "[300]\tcv_agg's l2: 0.233936 + 0.0421637\n",
      "[400]\tcv_agg's l2: 0.227532 + 0.0375635\n",
      "[500]\tcv_agg's l2: 0.223543 + 0.0356016\n",
      "[600]\tcv_agg's l2: 0.221944 + 0.0353237\n",
      "[700]\tcv_agg's l2: 0.220178 + 0.0345579\n",
      "[800]\tcv_agg's l2: 0.219298 + 0.0340876\n",
      "[900]\tcv_agg's l2: 0.218659 + 0.0338282\n",
      "[1000]\tcv_agg's l2: 0.217861 + 0.0341163\n",
      "[1100]\tcv_agg's l2: 0.218095 + 0.0346832\n",
      "[1200]\tcv_agg's l2: 0.217475 + 0.034319\n"
     ]
    },
    {
     "name": "stderr",
     "output_type": "stream",
     "text": [
      "feature_fraction_stage2, val_score: 0.211199: 100%|######################################| 6/6 [00:22<00:00,  3.84s/it][I 2023-11-05 12:39:19,236] Trial 42 finished with value: 0.21764101575018918 and parameters: {'feature_fraction': 0.652}. Best is trial 38 with value: 0.2111986120130696.\n",
      "feature_fraction_stage2, val_score: 0.211199: 100%|######################################| 6/6 [00:22<00:00,  3.83s/it]\n"
     ]
    },
    {
     "name": "stdout",
     "output_type": "stream",
     "text": [
      "[1300]\tcv_agg's l2: 0.217436 + 0.0340586\n",
      "Early stopping, best iteration is:\n",
      "[1255]\tcv_agg's l2: 0.211199 + 0.0344635\n"
     ]
    },
    {
     "name": "stderr",
     "output_type": "stream",
     "text": [
      "regularization_factors, val_score: 0.211199:   0%|                                              | 0/20 [00:00<?, ?it/s]"
     ]
    },
    {
     "name": "stdout",
     "output_type": "stream",
     "text": [
      "[100]\tcv_agg's l2: 0.255471 + 0.0495396\n",
      "[200]\tcv_agg's l2: 0.233937 + 0.0431335\n",
      "[300]\tcv_agg's l2: 0.227336 + 0.04185\n",
      "[400]\tcv_agg's l2: 0.223879 + 0.0398738\n",
      "[500]\tcv_agg's l2: 0.222148 + 0.0380305\n",
      "[600]\tcv_agg's l2: 0.219498 + 0.0377056\n",
      "[700]\tcv_agg's l2: 0.219088 + 0.0375537\n",
      "[800]\tcv_agg's l2: 0.218236 + 0.0367309\n",
      "[900]\tcv_agg's l2: 0.217157 + 0.0363243\n",
      "[1000]\tcv_agg's l2: 0.216877 + 0.0353981\n",
      "[1100]\tcv_agg's l2: 0.216158 + 0.035276\n",
      "[1200]\tcv_agg's l2: 0.215835 + 0.0351461\n"
     ]
    },
    {
     "name": "stderr",
     "output_type": "stream",
     "text": [
      "regularization_factors, val_score: 0.211199:   5%|#9                                    | 1/20 [00:04<01:17,  4.08s/it][I 2023-11-05 12:39:23,322] Trial 43 finished with value: 0.2157324808771474 and parameters: {'lambda_l1': 9.749427066389527e-05, 'lambda_l2': 0.4033133824286877}. Best is trial 43 with value: 0.2157324808771474.\n",
      "regularization_factors, val_score: 0.211199:   5%|#9                                    | 1/20 [00:04<01:17,  4.08s/it]"
     ]
    },
    {
     "name": "stdout",
     "output_type": "stream",
     "text": [
      "[1300]\tcv_agg's l2: 0.215687 + 0.0350546\n",
      "Early stopping, best iteration is:\n",
      "[1255]\tcv_agg's l2: 0.211199 + 0.0344635\n",
      "[100]\tcv_agg's l2: 0.256867 + 0.0471725\n",
      "[200]\tcv_agg's l2: 0.237499 + 0.0447196\n",
      "[300]\tcv_agg's l2: 0.225938 + 0.0412616\n",
      "[400]\tcv_agg's l2: 0.222166 + 0.0389536\n",
      "[500]\tcv_agg's l2: 0.219872 + 0.036172\n",
      "[600]\tcv_agg's l2: 0.218068 + 0.0353969\n",
      "[700]\tcv_agg's l2: 0.215884 + 0.0350071\n",
      "[800]\tcv_agg's l2: 0.21453 + 0.0346526\n",
      "[900]\tcv_agg's l2: 0.213786 + 0.0346645\n",
      "[1000]\tcv_agg's l2: 0.212123 + 0.0343214\n",
      "[1100]\tcv_agg's l2: 0.211672 + 0.0345898\n",
      "[1200]\tcv_agg's l2: 0.211427 + 0.0343745\n",
      "[1300]\tcv_agg's l2: 0.211537 + 0.0348024\n",
      "Early stopping, best iteration is:\n",
      "[1255]\tcv_agg's l2: 0.211199 + 0.0344635\n"
     ]
    },
    {
     "name": "stderr",
     "output_type": "stream",
     "text": [
      "regularization_factors, val_score: 0.211199:  10%|###8                                  | 2/20 [00:08<01:12,  4.03s/it][I 2023-11-05 12:39:27,315] Trial 44 finished with value: 0.211198611995205 and parameters: {'lambda_l1': 2.7058416143641452e-08, 'lambda_l2': 2.5167689640629455e-08}. Best is trial 44 with value: 0.211198611995205.\n",
      "regularization_factors, val_score: 0.211199:  10%|###8                                  | 2/20 [00:08<01:12,  4.03s/it]"
     ]
    },
    {
     "name": "stdout",
     "output_type": "stream",
     "text": [
      "[100]\tcv_agg's l2: 0.256867 + 0.0471725\n",
      "[200]\tcv_agg's l2: 0.237499 + 0.0447196\n",
      "[300]\tcv_agg's l2: 0.225938 + 0.0412616\n",
      "[400]\tcv_agg's l2: 0.222166 + 0.0389536\n",
      "[500]\tcv_agg's l2: 0.219872 + 0.036172\n",
      "[600]\tcv_agg's l2: 0.218068 + 0.0353969\n",
      "[700]\tcv_agg's l2: 0.215884 + 0.0350071\n",
      "[800]\tcv_agg's l2: 0.21453 + 0.0346526\n",
      "[900]\tcv_agg's l2: 0.213786 + 0.0346645\n",
      "[1000]\tcv_agg's l2: 0.212123 + 0.0343214\n",
      "[1100]\tcv_agg's l2: 0.211672 + 0.0345898\n",
      "[1200]\tcv_agg's l2: 0.211427 + 0.0343745\n"
     ]
    },
    {
     "name": "stderr",
     "output_type": "stream",
     "text": [
      "regularization_factors, val_score: 0.211199:  15%|#####7                                | 3/20 [00:12<01:09,  4.07s/it][I 2023-11-05 12:39:31,436] Trial 45 finished with value: 0.21119861204235138 and parameters: {'lambda_l1': 1.5447054168912607e-08, 'lambda_l2': 1.1463599859098641e-08}. Best is trial 44 with value: 0.211198611995205.\n",
      "regularization_factors, val_score: 0.211199:  15%|#####7                                | 3/20 [00:12<01:09,  4.07s/it]"
     ]
    },
    {
     "name": "stdout",
     "output_type": "stream",
     "text": [
      "[1300]\tcv_agg's l2: 0.211537 + 0.0348024\n",
      "Early stopping, best iteration is:\n",
      "[1255]\tcv_agg's l2: 0.211199 + 0.0344635\n",
      "[100]\tcv_agg's l2: 0.256867 + 0.0471725\n",
      "[200]\tcv_agg's l2: 0.237499 + 0.0447196\n",
      "[300]\tcv_agg's l2: 0.225938 + 0.0412616\n",
      "[400]\tcv_agg's l2: 0.222166 + 0.0389536\n",
      "[500]\tcv_agg's l2: 0.219872 + 0.036172\n",
      "[600]\tcv_agg's l2: 0.218068 + 0.0353969\n",
      "[700]\tcv_agg's l2: 0.215884 + 0.0350071\n",
      "[800]\tcv_agg's l2: 0.21453 + 0.0346526\n",
      "[900]\tcv_agg's l2: 0.213786 + 0.0346645\n",
      "[1000]\tcv_agg's l2: 0.212123 + 0.0343214\n",
      "[1100]\tcv_agg's l2: 0.211672 + 0.0345898\n",
      "[1200]\tcv_agg's l2: 0.211427 + 0.0343745\n"
     ]
    },
    {
     "name": "stderr",
     "output_type": "stream",
     "text": [
      "regularization_factors, val_score: 0.211199:  20%|#######6                              | 4/20 [00:16<01:04,  4.00s/it][I 2023-11-05 12:39:35,330] Trial 46 finished with value: 0.2111986119993642 and parameters: {'lambda_l1': 1.9102519017369917e-08, 'lambda_l2': 2.1647127899309107e-08}. Best is trial 44 with value: 0.211198611995205.\n",
      "regularization_factors, val_score: 0.211199:  20%|#######6                              | 4/20 [00:16<01:04,  4.00s/it]"
     ]
    },
    {
     "name": "stdout",
     "output_type": "stream",
     "text": [
      "[1300]\tcv_agg's l2: 0.211537 + 0.0348024\n",
      "Early stopping, best iteration is:\n",
      "[1255]\tcv_agg's l2: 0.211199 + 0.0344635\n",
      "[100]\tcv_agg's l2: 0.256867 + 0.0471725\n",
      "[200]\tcv_agg's l2: 0.237499 + 0.0447196\n",
      "[300]\tcv_agg's l2: 0.225938 + 0.0412616\n",
      "[400]\tcv_agg's l2: 0.222166 + 0.0389536\n",
      "[500]\tcv_agg's l2: 0.219872 + 0.036172\n",
      "[600]\tcv_agg's l2: 0.218068 + 0.0353969\n",
      "[700]\tcv_agg's l2: 0.215884 + 0.0350071\n",
      "[800]\tcv_agg's l2: 0.21453 + 0.0346526\n",
      "[900]\tcv_agg's l2: 0.213786 + 0.0346645\n",
      "[1000]\tcv_agg's l2: 0.212123 + 0.0343214\n",
      "[1100]\tcv_agg's l2: 0.211672 + 0.0345898\n",
      "[1200]\tcv_agg's l2: 0.211427 + 0.0343745\n"
     ]
    },
    {
     "name": "stderr",
     "output_type": "stream",
     "text": [
      "regularization_factors, val_score: 0.211199:  25%|#########5                            | 5/20 [00:19<00:58,  3.92s/it][I 2023-11-05 12:39:39,117] Trial 47 finished with value: 0.21119861193582784 and parameters: {'lambda_l1': 1.813870098760581e-08, 'lambda_l2': 1.0440644892600004e-07}. Best is trial 47 with value: 0.21119861193582784.\n",
      "regularization_factors, val_score: 0.211199:  25%|#########5                            | 5/20 [00:19<00:58,  3.92s/it]"
     ]
    },
    {
     "name": "stdout",
     "output_type": "stream",
     "text": [
      "[1300]\tcv_agg's l2: 0.211537 + 0.0348024\n",
      "Early stopping, best iteration is:\n",
      "[1255]\tcv_agg's l2: 0.211199 + 0.0344635\n",
      "[100]\tcv_agg's l2: 0.256867 + 0.0471725\n",
      "[200]\tcv_agg's l2: 0.237499 + 0.0447196\n",
      "[300]\tcv_agg's l2: 0.225938 + 0.0412616\n",
      "[400]\tcv_agg's l2: 0.222166 + 0.0389536\n",
      "[500]\tcv_agg's l2: 0.219872 + 0.036172\n",
      "[600]\tcv_agg's l2: 0.218068 + 0.0353969\n",
      "[700]\tcv_agg's l2: 0.215884 + 0.0350071\n",
      "[800]\tcv_agg's l2: 0.21453 + 0.0346526\n",
      "[900]\tcv_agg's l2: 0.213786 + 0.0346645\n",
      "[1000]\tcv_agg's l2: 0.212123 + 0.0343214\n",
      "[1100]\tcv_agg's l2: 0.211672 + 0.0345898\n",
      "[1200]\tcv_agg's l2: 0.211427 + 0.0343745\n"
     ]
    },
    {
     "name": "stderr",
     "output_type": "stream",
     "text": [
      "\r",
      "regularization_factors, val_score: 0.211199:  25%|#########5                            | 5/20 [00:23<00:58,  3.92s/it]"
     ]
    },
    {
     "name": "stdout",
     "output_type": "stream",
     "text": [
      "[1300]\tcv_agg's l2: 0.211537 + 0.0348024\n",
      "Early stopping, best iteration is:\n",
      "[1255]\tcv_agg's l2: 0.211199 + 0.0344635\n"
     ]
    },
    {
     "name": "stderr",
     "output_type": "stream",
     "text": [
      "regularization_factors, val_score: 0.211199:  30%|###########4                          | 6/20 [00:23<00:55,  3.94s/it][I 2023-11-05 12:39:43,093] Trial 48 finished with value: 0.2111986120239769 and parameters: {'lambda_l1': 1.2497497799648075e-08, 'lambda_l2': 2.0320599378298978e-08}. Best is trial 47 with value: 0.21119861193582784.\n",
      "regularization_factors, val_score: 0.211199:  30%|###########4                          | 6/20 [00:23<00:55,  3.94s/it]"
     ]
    },
    {
     "name": "stdout",
     "output_type": "stream",
     "text": [
      "[100]\tcv_agg's l2: 0.256867 + 0.0471725\n",
      "[200]\tcv_agg's l2: 0.237499 + 0.0447196\n",
      "[300]\tcv_agg's l2: 0.225938 + 0.0412616\n",
      "[400]\tcv_agg's l2: 0.222166 + 0.0389536\n",
      "[500]\tcv_agg's l2: 0.219872 + 0.036172\n",
      "[600]\tcv_agg's l2: 0.218068 + 0.0353969\n",
      "[700]\tcv_agg's l2: 0.215884 + 0.0350071\n",
      "[800]\tcv_agg's l2: 0.21453 + 0.0346526\n",
      "[900]\tcv_agg's l2: 0.213786 + 0.0346645\n",
      "[1000]\tcv_agg's l2: 0.212123 + 0.0343214\n",
      "[1100]\tcv_agg's l2: 0.211672 + 0.0345898\n",
      "[1200]\tcv_agg's l2: 0.211427 + 0.0343745\n"
     ]
    },
    {
     "name": "stderr",
     "output_type": "stream",
     "text": [
      "regularization_factors, val_score: 0.211199:  35%|#############3                        | 7/20 [00:27<00:51,  3.93s/it][I 2023-11-05 12:39:46,993] Trial 49 finished with value: 0.21119861195139933 and parameters: {'lambda_l1': 3.4848683584173303e-08, 'lambda_l2': 6.326289623770142e-08}. Best is trial 47 with value: 0.21119861193582784.\n",
      "regularization_factors, val_score: 0.211199:  35%|#############3                        | 7/20 [00:27<00:51,  3.93s/it]"
     ]
    },
    {
     "name": "stdout",
     "output_type": "stream",
     "text": [
      "[1300]\tcv_agg's l2: 0.211537 + 0.0348024\n",
      "Early stopping, best iteration is:\n",
      "[1255]\tcv_agg's l2: 0.211199 + 0.0344635\n",
      "[100]\tcv_agg's l2: 0.256867 + 0.0471725\n",
      "[200]\tcv_agg's l2: 0.237499 + 0.0447196\n",
      "[300]\tcv_agg's l2: 0.225938 + 0.0412616\n",
      "[400]\tcv_agg's l2: 0.222166 + 0.0389536\n",
      "[500]\tcv_agg's l2: 0.219872 + 0.036172\n",
      "[600]\tcv_agg's l2: 0.218068 + 0.0353969\n",
      "[700]\tcv_agg's l2: 0.215884 + 0.0350071\n",
      "[800]\tcv_agg's l2: 0.21453 + 0.0346526\n",
      "[900]\tcv_agg's l2: 0.213786 + 0.0346645\n",
      "[1000]\tcv_agg's l2: 0.212123 + 0.0343214\n",
      "[1100]\tcv_agg's l2: 0.211672 + 0.0345898\n",
      "[1200]\tcv_agg's l2: 0.211427 + 0.0343745\n"
     ]
    },
    {
     "name": "stderr",
     "output_type": "stream",
     "text": [
      "regularization_factors, val_score: 0.211199:  40%|###############2                      | 8/20 [00:31<00:47,  3.95s/it][I 2023-11-05 12:39:50,975] Trial 50 finished with value: 0.21119861203150095 and parameters: {'lambda_l1': 2.0575563999023326e-08, 'lambda_l2': 3.909952169951739e-08}. Best is trial 47 with value: 0.21119861193582784.\n",
      "regularization_factors, val_score: 0.211199:  40%|###############2                      | 8/20 [00:31<00:47,  3.95s/it]"
     ]
    },
    {
     "name": "stdout",
     "output_type": "stream",
     "text": [
      "[1300]\tcv_agg's l2: 0.211537 + 0.0348024\n",
      "Early stopping, best iteration is:\n",
      "[1255]\tcv_agg's l2: 0.211199 + 0.0344635\n",
      "[100]\tcv_agg's l2: 0.256867 + 0.0471725\n",
      "[200]\tcv_agg's l2: 0.237499 + 0.0447196\n",
      "[300]\tcv_agg's l2: 0.225938 + 0.0412616\n",
      "[400]\tcv_agg's l2: 0.222166 + 0.0389536\n",
      "[500]\tcv_agg's l2: 0.219872 + 0.036172\n",
      "[600]\tcv_agg's l2: 0.218068 + 0.0353969\n",
      "[700]\tcv_agg's l2: 0.215884 + 0.0350071\n",
      "[800]\tcv_agg's l2: 0.21453 + 0.0346526\n",
      "[900]\tcv_agg's l2: 0.213786 + 0.0346645\n",
      "[1000]\tcv_agg's l2: 0.212123 + 0.0343214\n",
      "[1100]\tcv_agg's l2: 0.211672 + 0.0345898\n",
      "[1200]\tcv_agg's l2: 0.211427 + 0.0343745\n"
     ]
    },
    {
     "name": "stderr",
     "output_type": "stream",
     "text": [
      "regularization_factors, val_score: 0.211199:  45%|#################1                    | 9/20 [00:35<00:43,  3.91s/it][I 2023-11-05 12:39:54,812] Trial 51 finished with value: 0.21119861187204897 and parameters: {'lambda_l1': 3.1606857044875584e-08, 'lambda_l2': 2.734725302775727e-07}. Best is trial 51 with value: 0.21119861187204897.\n",
      "regularization_factors, val_score: 0.211199:  45%|#################1                    | 9/20 [00:35<00:43,  3.91s/it]"
     ]
    },
    {
     "name": "stdout",
     "output_type": "stream",
     "text": [
      "[1300]\tcv_agg's l2: 0.211537 + 0.0348024\n",
      "Early stopping, best iteration is:\n",
      "[1255]\tcv_agg's l2: 0.211199 + 0.0344635\n",
      "[100]\tcv_agg's l2: 0.256867 + 0.0471725\n",
      "[200]\tcv_agg's l2: 0.237499 + 0.0447196\n",
      "[300]\tcv_agg's l2: 0.225938 + 0.0412616\n",
      "[400]\tcv_agg's l2: 0.222166 + 0.0389536\n",
      "[500]\tcv_agg's l2: 0.219872 + 0.036172\n",
      "[600]\tcv_agg's l2: 0.218068 + 0.0353969\n",
      "[700]\tcv_agg's l2: 0.215884 + 0.0350071\n",
      "[800]\tcv_agg's l2: 0.21453 + 0.0346526\n",
      "[900]\tcv_agg's l2: 0.213786 + 0.0346645\n",
      "[1000]\tcv_agg's l2: 0.212123 + 0.0343214\n",
      "[1100]\tcv_agg's l2: 0.211672 + 0.0345898\n",
      "[1200]\tcv_agg's l2: 0.211427 + 0.0343745\n",
      "[1300]\tcv_agg's l2: 0.211537 + 0.0348024\n",
      "Early stopping, best iteration is:\n",
      "[1255]\tcv_agg's l2: 0.211199 + 0.0344635\n"
     ]
    },
    {
     "name": "stderr",
     "output_type": "stream",
     "text": [
      "regularization_factors, val_score: 0.211199:  50%|##################5                  | 10/20 [00:40<00:40,  4.07s/it][I 2023-11-05 12:39:59,251] Trial 52 finished with value: 0.21119861189924566 and parameters: {'lambda_l1': 2.7631234188394983e-08, 'lambda_l2': 1.3406108086086033e-07}. Best is trial 51 with value: 0.21119861187204897.\n",
      "regularization_factors, val_score: 0.211199:  50%|##################5                  | 10/20 [00:40<00:40,  4.07s/it]"
     ]
    },
    {
     "name": "stdout",
     "output_type": "stream",
     "text": [
      "[100]\tcv_agg's l2: 0.256867 + 0.0471725\n",
      "[200]\tcv_agg's l2: 0.237499 + 0.0447196\n",
      "[300]\tcv_agg's l2: 0.225938 + 0.0412616\n",
      "[400]\tcv_agg's l2: 0.222166 + 0.0389536\n",
      "[500]\tcv_agg's l2: 0.219872 + 0.036172\n",
      "[600]\tcv_agg's l2: 0.218068 + 0.0353969\n",
      "[700]\tcv_agg's l2: 0.215884 + 0.0350071\n",
      "[800]\tcv_agg's l2: 0.21453 + 0.0346526\n",
      "[900]\tcv_agg's l2: 0.213786 + 0.0346645\n",
      "[1000]\tcv_agg's l2: 0.212123 + 0.0343214\n",
      "[1100]\tcv_agg's l2: 0.211672 + 0.0345898\n",
      "[1200]\tcv_agg's l2: 0.211427 + 0.0343745\n"
     ]
    },
    {
     "name": "stderr",
     "output_type": "stream",
     "text": [
      "\r",
      "regularization_factors, val_score: 0.211199:  50%|##################5                  | 10/20 [00:44<00:40,  4.07s/it]"
     ]
    },
    {
     "name": "stdout",
     "output_type": "stream",
     "text": [
      "[1300]\tcv_agg's l2: 0.211537 + 0.0348024\n",
      "Early stopping, best iteration is:\n",
      "[1255]\tcv_agg's l2: 0.211199 + 0.0344635\n"
     ]
    },
    {
     "name": "stderr",
     "output_type": "stream",
     "text": [
      "regularization_factors, val_score: 0.211199:  55%|####################3                | 11/20 [00:44<00:38,  4.28s/it][I 2023-11-05 12:40:03,985] Trial 53 finished with value: 0.21119861195426584 and parameters: {'lambda_l1': 2.6477012051987656e-08, 'lambda_l2': 7.092191496643835e-08}. Best is trial 51 with value: 0.21119861187204897.\n",
      "regularization_factors, val_score: 0.211199:  55%|####################3                | 11/20 [00:44<00:38,  4.28s/it]"
     ]
    },
    {
     "name": "stdout",
     "output_type": "stream",
     "text": [
      "[100]\tcv_agg's l2: 0.256867 + 0.0471725\n",
      "[200]\tcv_agg's l2: 0.237499 + 0.0447196\n",
      "[300]\tcv_agg's l2: 0.225938 + 0.0412616\n",
      "[400]\tcv_agg's l2: 0.222166 + 0.0389536\n",
      "[500]\tcv_agg's l2: 0.219872 + 0.036172\n",
      "[600]\tcv_agg's l2: 0.218068 + 0.0353969\n",
      "[700]\tcv_agg's l2: 0.215884 + 0.0350071\n",
      "[800]\tcv_agg's l2: 0.21453 + 0.0346526\n",
      "[900]\tcv_agg's l2: 0.213786 + 0.0346645\n",
      "[1000]\tcv_agg's l2: 0.212123 + 0.0343214\n",
      "[1100]\tcv_agg's l2: 0.211672 + 0.0345898\n",
      "[1200]\tcv_agg's l2: 0.211427 + 0.0343745\n"
     ]
    },
    {
     "name": "stderr",
     "output_type": "stream",
     "text": [
      "\r",
      "regularization_factors, val_score: 0.211199:  55%|####################3                | 11/20 [00:49<00:38,  4.28s/it]"
     ]
    },
    {
     "name": "stdout",
     "output_type": "stream",
     "text": [
      "[1300]\tcv_agg's l2: 0.211537 + 0.0348024\n",
      "Early stopping, best iteration is:\n",
      "[1255]\tcv_agg's l2: 0.211199 + 0.0344635\n"
     ]
    },
    {
     "name": "stderr",
     "output_type": "stream",
     "text": [
      "regularization_factors, val_score: 0.211199:  60%|######################2              | 12/20 [00:49<00:35,  4.38s/it][I 2023-11-05 12:40:08,601] Trial 54 finished with value: 0.21119861163855877 and parameters: {'lambda_l1': 5.031512247047467e-08, 'lambda_l2': 4.174440019207481e-07}. Best is trial 54 with value: 0.21119861163855877.\n",
      "regularization_factors, val_score: 0.211199:  60%|######################2              | 12/20 [00:49<00:35,  4.38s/it]"
     ]
    },
    {
     "name": "stdout",
     "output_type": "stream",
     "text": [
      "[100]\tcv_agg's l2: 0.256867 + 0.0471725\n",
      "[200]\tcv_agg's l2: 0.237499 + 0.0447196\n",
      "[300]\tcv_agg's l2: 0.225938 + 0.0412616\n",
      "[400]\tcv_agg's l2: 0.222166 + 0.0389536\n",
      "[500]\tcv_agg's l2: 0.219872 + 0.036172\n",
      "[600]\tcv_agg's l2: 0.218068 + 0.0353969\n",
      "[700]\tcv_agg's l2: 0.215884 + 0.0350071\n",
      "[800]\tcv_agg's l2: 0.21453 + 0.0346526\n",
      "[900]\tcv_agg's l2: 0.213786 + 0.0346645\n",
      "[1000]\tcv_agg's l2: 0.212123 + 0.0343214\n",
      "[1100]\tcv_agg's l2: 0.211672 + 0.0345898\n",
      "[1200]\tcv_agg's l2: 0.211427 + 0.0343745\n",
      "[1300]\tcv_agg's l2: 0.211537 + 0.0348024\n"
     ]
    },
    {
     "name": "stderr",
     "output_type": "stream",
     "text": [
      "regularization_factors, val_score: 0.211199:  65%|########################             | 13/20 [00:54<00:32,  4.70s/it][I 2023-11-05 12:40:14,040] Trial 55 finished with value: 0.21119861123482925 and parameters: {'lambda_l1': 1.528358202665026e-07, 'lambda_l2': 9.137541902445611e-07}. Best is trial 55 with value: 0.21119861123482925.\n",
      "regularization_factors, val_score: 0.211199:  65%|########################             | 13/20 [00:54<00:32,  4.70s/it]"
     ]
    },
    {
     "name": "stdout",
     "output_type": "stream",
     "text": [
      "Early stopping, best iteration is:\n",
      "[1255]\tcv_agg's l2: 0.211199 + 0.0344635\n",
      "[100]\tcv_agg's l2: 0.256867 + 0.0471725\n",
      "[200]\tcv_agg's l2: 0.237499 + 0.0447196\n",
      "[300]\tcv_agg's l2: 0.225938 + 0.0412616\n",
      "[400]\tcv_agg's l2: 0.222166 + 0.0389536\n",
      "[500]\tcv_agg's l2: 0.219872 + 0.036172\n",
      "[600]\tcv_agg's l2: 0.218068 + 0.0353969\n",
      "[700]\tcv_agg's l2: 0.215884 + 0.0350071\n",
      "[800]\tcv_agg's l2: 0.21453 + 0.0346526\n",
      "[900]\tcv_agg's l2: 0.213786 + 0.0346645\n",
      "[1000]\tcv_agg's l2: 0.212123 + 0.0343214\n",
      "[1100]\tcv_agg's l2: 0.211672 + 0.0345898\n",
      "[1200]\tcv_agg's l2: 0.211427 + 0.0343745\n"
     ]
    },
    {
     "name": "stderr",
     "output_type": "stream",
     "text": [
      "\r",
      "regularization_factors, val_score: 0.211199:  65%|########################             | 13/20 [01:00<00:32,  4.70s/it]"
     ]
    },
    {
     "name": "stdout",
     "output_type": "stream",
     "text": [
      "[1300]\tcv_agg's l2: 0.211537 + 0.0348024\n",
      "Early stopping, best iteration is:\n",
      "[1255]\tcv_agg's l2: 0.211199 + 0.0344635\n"
     ]
    },
    {
     "name": "stderr",
     "output_type": "stream",
     "text": [
      "regularization_factors, val_score: 0.211199:  70%|#########################9           | 14/20 [01:00<00:30,  5.01s/it][I 2023-11-05 12:40:19,752] Trial 56 finished with value: 0.21119860936825638 and parameters: {'lambda_l1': 4.7232682186252164e-07, 'lambda_l2': 3.024617654429158e-06}. Best is trial 56 with value: 0.21119860936825638.\n",
      "regularization_factors, val_score: 0.211199:  70%|#########################9           | 14/20 [01:00<00:30,  5.01s/it]"
     ]
    },
    {
     "name": "stdout",
     "output_type": "stream",
     "text": [
      "[100]\tcv_agg's l2: 0.256867 + 0.0471725\n",
      "[200]\tcv_agg's l2: 0.237499 + 0.0447196\n",
      "[300]\tcv_agg's l2: 0.225938 + 0.0412616\n",
      "[400]\tcv_agg's l2: 0.222166 + 0.0389536\n",
      "[500]\tcv_agg's l2: 0.219872 + 0.036172\n",
      "[600]\tcv_agg's l2: 0.218068 + 0.0353969\n",
      "[700]\tcv_agg's l2: 0.215884 + 0.0350071\n",
      "[800]\tcv_agg's l2: 0.21453 + 0.0346526\n",
      "[900]\tcv_agg's l2: 0.213786 + 0.0346645\n",
      "[1000]\tcv_agg's l2: 0.212123 + 0.0343214\n",
      "[1100]\tcv_agg's l2: 0.211672 + 0.0345898\n",
      "[1200]\tcv_agg's l2: 0.211427 + 0.0343745\n",
      "[1300]\tcv_agg's l2: 0.211537 + 0.0348024\n",
      "Early stopping, best iteration is:\n",
      "[1255]\tcv_agg's l2: 0.211199 + 0.0344635\n"
     ]
    },
    {
     "name": "stderr",
     "output_type": "stream",
     "text": [
      "regularization_factors, val_score: 0.211199:  75%|###########################7         | 15/20 [01:05<00:25,  5.03s/it][I 2023-11-05 12:40:24,854] Trial 57 finished with value: 0.21119860865299772 and parameters: {'lambda_l1': 9.148374588323552e-07, 'lambda_l2': 2.5532594485145776e-06}. Best is trial 57 with value: 0.21119860865299772.\n",
      "regularization_factors, val_score: 0.211199:  75%|###########################7         | 15/20 [01:05<00:25,  5.03s/it]"
     ]
    },
    {
     "name": "stdout",
     "output_type": "stream",
     "text": [
      "[100]\tcv_agg's l2: 0.256867 + 0.0471725\n",
      "[200]\tcv_agg's l2: 0.237499 + 0.0447196\n",
      "[300]\tcv_agg's l2: 0.225938 + 0.0412616\n",
      "[400]\tcv_agg's l2: 0.222166 + 0.0389536\n",
      "[500]\tcv_agg's l2: 0.219872 + 0.036172\n",
      "[600]\tcv_agg's l2: 0.218068 + 0.0353969\n",
      "[700]\tcv_agg's l2: 0.215884 + 0.0350071\n",
      "[800]\tcv_agg's l2: 0.21453 + 0.0346526\n",
      "[900]\tcv_agg's l2: 0.213786 + 0.0346645\n",
      "[1000]\tcv_agg's l2: 0.212123 + 0.0343214\n",
      "[1100]\tcv_agg's l2: 0.211672 + 0.0345898\n",
      "[1200]\tcv_agg's l2: 0.211427 + 0.0343745\n",
      "[1300]\tcv_agg's l2: 0.211537 + 0.0348024\n"
     ]
    },
    {
     "name": "stderr",
     "output_type": "stream",
     "text": [
      "regularization_factors, val_score: 0.211199:  80%|#############################6       | 16/20 [01:12<00:22,  5.58s/it][I 2023-11-05 12:40:31,689] Trial 58 finished with value: 0.21119860755212536 and parameters: {'lambda_l1': 1.201189848199966e-06, 'lambda_l2': 3.674367890796963e-06}. Best is trial 58 with value: 0.21119860755212536.\n",
      "regularization_factors, val_score: 0.211199:  80%|#############################6       | 16/20 [01:12<00:22,  5.58s/it]"
     ]
    },
    {
     "name": "stdout",
     "output_type": "stream",
     "text": [
      "Early stopping, best iteration is:\n",
      "[1255]\tcv_agg's l2: 0.211199 + 0.0344635\n",
      "[100]\tcv_agg's l2: 0.256867 + 0.0471725\n",
      "[200]\tcv_agg's l2: 0.237499 + 0.0447196\n",
      "[300]\tcv_agg's l2: 0.225938 + 0.0412616\n",
      "[400]\tcv_agg's l2: 0.222166 + 0.0389536\n",
      "[500]\tcv_agg's l2: 0.219872 + 0.036172\n",
      "[600]\tcv_agg's l2: 0.218068 + 0.0353969\n",
      "[700]\tcv_agg's l2: 0.215884 + 0.0350071\n",
      "[800]\tcv_agg's l2: 0.21453 + 0.0346526\n",
      "[900]\tcv_agg's l2: 0.213786 + 0.0346645\n",
      "[1000]\tcv_agg's l2: 0.212123 + 0.0343214\n",
      "[1100]\tcv_agg's l2: 0.211672 + 0.0345898\n",
      "[1200]\tcv_agg's l2: 0.211427 + 0.0343745\n",
      "[1300]\tcv_agg's l2: 0.211537 + 0.0348024\n"
     ]
    },
    {
     "name": "stderr",
     "output_type": "stream",
     "text": [
      "regularization_factors, val_score: 0.211199:  85%|###############################4     | 17/20 [01:20<00:18,  6.21s/it][I 2023-11-05 12:40:39,357] Trial 59 finished with value: 0.21119860886385572 and parameters: {'lambda_l1': 6.694298670121689e-07, 'lambda_l2': 3.2668054234922546e-06}. Best is trial 58 with value: 0.21119860755212536.\n",
      "regularization_factors, val_score: 0.211199:  85%|###############################4     | 17/20 [01:20<00:18,  6.21s/it]"
     ]
    },
    {
     "name": "stdout",
     "output_type": "stream",
     "text": [
      "Early stopping, best iteration is:\n",
      "[1255]\tcv_agg's l2: 0.211199 + 0.0344635\n",
      "[100]\tcv_agg's l2: 0.256867 + 0.0471725\n",
      "[200]\tcv_agg's l2: 0.237499 + 0.0447196\n",
      "[300]\tcv_agg's l2: 0.225938 + 0.0412616\n",
      "[400]\tcv_agg's l2: 0.222166 + 0.0389536\n",
      "[500]\tcv_agg's l2: 0.219872 + 0.036172\n",
      "[600]\tcv_agg's l2: 0.218068 + 0.0353969\n",
      "[700]\tcv_agg's l2: 0.215884 + 0.0350071\n",
      "[800]\tcv_agg's l2: 0.21453 + 0.0346526\n",
      "[900]\tcv_agg's l2: 0.213786 + 0.0346645\n",
      "[1000]\tcv_agg's l2: 0.212123 + 0.0343214\n",
      "[1100]\tcv_agg's l2: 0.211672 + 0.0345898\n",
      "[1200]\tcv_agg's l2: 0.211427 + 0.0343745\n",
      "[1300]\tcv_agg's l2: 0.211537 + 0.0348024\n"
     ]
    },
    {
     "name": "stderr",
     "output_type": "stream",
     "text": [
      "regularization_factors, val_score: 0.211199:  90%|#################################3   | 18/20 [01:25<00:11,  5.96s/it][I 2023-11-05 12:40:44,760] Trial 60 finished with value: 0.21119860729729126 and parameters: {'lambda_l1': 1.2793430289568349e-06, 'lambda_l2': 3.849259370413504e-06}. Best is trial 60 with value: 0.21119860729729126.\n",
      "regularization_factors, val_score: 0.211199:  90%|#################################3   | 18/20 [01:25<00:11,  5.96s/it]"
     ]
    },
    {
     "name": "stdout",
     "output_type": "stream",
     "text": [
      "Early stopping, best iteration is:\n",
      "[1255]\tcv_agg's l2: 0.211199 + 0.0344635\n",
      "[100]\tcv_agg's l2: 0.256867 + 0.0471725\n",
      "[200]\tcv_agg's l2: 0.237499 + 0.0447196\n",
      "[300]\tcv_agg's l2: 0.225938 + 0.0412616\n",
      "[400]\tcv_agg's l2: 0.222166 + 0.0389536\n",
      "[500]\tcv_agg's l2: 0.219872 + 0.036172\n",
      "[600]\tcv_agg's l2: 0.218068 + 0.0353969\n",
      "[700]\tcv_agg's l2: 0.215884 + 0.0350071\n",
      "[800]\tcv_agg's l2: 0.21453 + 0.0346526\n",
      "[900]\tcv_agg's l2: 0.213786 + 0.0346645\n",
      "[1000]\tcv_agg's l2: 0.212123 + 0.0343214\n",
      "[1100]\tcv_agg's l2: 0.211672 + 0.0345898\n",
      "[1200]\tcv_agg's l2: 0.211427 + 0.0343745\n",
      "[1300]\tcv_agg's l2: 0.211537 + 0.0348024\n"
     ]
    },
    {
     "name": "stderr",
     "output_type": "stream",
     "text": [
      "regularization_factors, val_score: 0.211199:  95%|###################################1 | 19/20 [01:30<00:05,  5.80s/it][I 2023-11-05 12:40:50,165] Trial 61 finished with value: 0.21119860691117348 and parameters: {'lambda_l1': 1.4678731120396164e-06, 'lambda_l2': 4.085783534687016e-06}. Best is trial 61 with value: 0.21119860691117348.\n",
      "regularization_factors, val_score: 0.211199:  95%|###################################1 | 19/20 [01:30<00:05,  5.80s/it]"
     ]
    },
    {
     "name": "stdout",
     "output_type": "stream",
     "text": [
      "Early stopping, best iteration is:\n",
      "[1255]\tcv_agg's l2: 0.211199 + 0.0344635\n",
      "[100]\tcv_agg's l2: 0.256867 + 0.0471725\n",
      "[200]\tcv_agg's l2: 0.237499 + 0.0447196\n",
      "[300]\tcv_agg's l2: 0.225938 + 0.0412616\n",
      "[400]\tcv_agg's l2: 0.222166 + 0.0389536\n",
      "[500]\tcv_agg's l2: 0.219872 + 0.036172\n",
      "[600]\tcv_agg's l2: 0.218068 + 0.0353969\n",
      "[700]\tcv_agg's l2: 0.215884 + 0.0350071\n",
      "[800]\tcv_agg's l2: 0.21453 + 0.0346526\n",
      "[900]\tcv_agg's l2: 0.213786 + 0.0346645\n",
      "[1000]\tcv_agg's l2: 0.212123 + 0.0343214\n",
      "[1100]\tcv_agg's l2: 0.211672 + 0.0345898\n",
      "[1200]\tcv_agg's l2: 0.211427 + 0.0343745\n",
      "[1300]\tcv_agg's l2: 0.211537 + 0.0348024\n"
     ]
    },
    {
     "name": "stderr",
     "output_type": "stream",
     "text": [
      "regularization_factors, val_score: 0.211199: 100%|#####################################| 20/20 [01:36<00:00,  5.68s/it][I 2023-11-05 12:40:55,569] Trial 62 finished with value: 0.21119860597512036 and parameters: {'lambda_l1': 1.2350261194906373e-06, 'lambda_l2': 6.8915222115229855e-06}. Best is trial 62 with value: 0.21119860597512036.\n",
      "regularization_factors, val_score: 0.211199: 100%|#####################################| 20/20 [01:36<00:00,  4.82s/it]\n"
     ]
    },
    {
     "name": "stdout",
     "output_type": "stream",
     "text": [
      "Early stopping, best iteration is:\n",
      "[1255]\tcv_agg's l2: 0.211199 + 0.0344635\n"
     ]
    },
    {
     "name": "stderr",
     "output_type": "stream",
     "text": [
      "min_data_in_leaf, val_score: 0.211199:   0%|                                                     | 0/5 [00:00<?, ?it/s]"
     ]
    },
    {
     "name": "stdout",
     "output_type": "stream",
     "text": [
      "[100]\tcv_agg's l2: 0.840493 + 0.181194\n",
      "[200]\tcv_agg's l2: 0.820592 + 0.183215\n",
      "[300]\tcv_agg's l2: 0.809367 + 0.181041\n",
      "[400]\tcv_agg's l2: 0.800591 + 0.179001\n",
      "[500]\tcv_agg's l2: 0.795337 + 0.177668\n",
      "[600]\tcv_agg's l2: 0.791425 + 0.178162\n",
      "[700]\tcv_agg's l2: 0.787854 + 0.178534\n",
      "[800]\tcv_agg's l2: 0.785752 + 0.178507\n",
      "[900]\tcv_agg's l2: 0.784368 + 0.178497\n",
      "[1000]\tcv_agg's l2: 0.780822 + 0.178065\n",
      "[1100]\tcv_agg's l2: 0.780335 + 0.176797\n",
      "[1200]\tcv_agg's l2: 0.778935 + 0.17797\n",
      "[1300]\tcv_agg's l2: 0.778243 + 0.178701\n",
      "Early stopping, best iteration is:\n",
      "[1255]\tcv_agg's l2: 0.211199 + 0.0344635\n"
     ]
    },
    {
     "name": "stderr",
     "output_type": "stream",
     "text": [
      "min_data_in_leaf, val_score: 0.211199:  20%|#########                                    | 1/5 [00:04<00:18,  4.65s/it][I 2023-11-05 12:41:00,224] Trial 63 finished with value: 0.7792603331925659 and parameters: {'min_child_samples': 100}. Best is trial 63 with value: 0.7792603331925659.\n",
      "min_data_in_leaf, val_score: 0.211199:  20%|#########                                    | 1/5 [00:04<00:18,  4.65s/it]"
     ]
    },
    {
     "name": "stdout",
     "output_type": "stream",
     "text": [
      "[100]\tcv_agg's l2: 0.223829 + 0.0434327\n",
      "[200]\tcv_agg's l2: 0.204585 + 0.0378861\n",
      "[300]\tcv_agg's l2: 0.199688 + 0.0339659\n",
      "[400]\tcv_agg's l2: 0.199126 + 0.0314648\n",
      "[500]\tcv_agg's l2: 0.196021 + 0.0301903\n",
      "[600]\tcv_agg's l2: 0.195912 + 0.0297927\n"
     ]
    },
    {
     "name": "stderr",
     "output_type": "stream",
     "text": [
      "min_data_in_leaf, val_score: 0.195598:  40%|##################                           | 2/5 [00:07<00:10,  3.49s/it][I 2023-11-05 12:41:02,905] Trial 64 finished with value: 0.19559817541499053 and parameters: {'min_child_samples': 5}. Best is trial 64 with value: 0.19559817541499053.\n",
      "min_data_in_leaf, val_score: 0.195598:  40%|##################                           | 2/5 [00:07<00:10,  3.49s/it]"
     ]
    },
    {
     "name": "stdout",
     "output_type": "stream",
     "text": [
      "Early stopping, best iteration is:\n",
      "[581]\tcv_agg's l2: 0.195598 + 0.0297024\n",
      "[100]\tcv_agg's l2: 0.223844 + 0.0463215\n",
      "[200]\tcv_agg's l2: 0.207975 + 0.0411181\n",
      "[300]\tcv_agg's l2: 0.202607 + 0.0394103\n",
      "[400]\tcv_agg's l2: 0.199497 + 0.0396359\n",
      "[500]\tcv_agg's l2: 0.196913 + 0.0390087\n",
      "[600]\tcv_agg's l2: 0.194958 + 0.0377766\n"
     ]
    },
    {
     "name": "stderr",
     "output_type": "stream",
     "text": [
      "min_data_in_leaf, val_score: 0.194780:  60%|###########################                  | 3/5 [00:10<00:06,  3.17s/it][I 2023-11-05 12:41:05,689] Trial 65 finished with value: 0.19477972842145863 and parameters: {'min_child_samples': 10}. Best is trial 65 with value: 0.19477972842145863.\n",
      "min_data_in_leaf, val_score: 0.194780:  60%|###########################                  | 3/5 [00:10<00:06,  3.17s/it]"
     ]
    },
    {
     "name": "stdout",
     "output_type": "stream",
     "text": [
      "[700]\tcv_agg's l2: 0.195111 + 0.0371896\n",
      "Early stopping, best iteration is:\n",
      "[631]\tcv_agg's l2: 0.19478 + 0.0375397\n",
      "[100]\tcv_agg's l2: 0.36522 + 0.0720522\n",
      "[200]\tcv_agg's l2: 0.349522 + 0.0707747\n",
      "[300]\tcv_agg's l2: 0.340603 + 0.0699749\n",
      "[400]\tcv_agg's l2: 0.336996 + 0.0707201\n",
      "[500]\tcv_agg's l2: 0.33439 + 0.0721289\n",
      "[600]\tcv_agg's l2: 0.332604 + 0.0737389\n"
     ]
    },
    {
     "name": "stderr",
     "output_type": "stream",
     "text": [
      "min_data_in_leaf, val_score: 0.194780:  80%|####################################         | 4/5 [00:13<00:03,  3.07s/it][I 2023-11-05 12:41:08,596] Trial 66 finished with value: 0.3317389969775921 and parameters: {'min_child_samples': 50}. Best is trial 65 with value: 0.19477972842145863.\n",
      "min_data_in_leaf, val_score: 0.194780:  80%|####################################         | 4/5 [00:13<00:03,  3.07s/it]"
     ]
    },
    {
     "name": "stdout",
     "output_type": "stream",
     "text": [
      "[700]\tcv_agg's l2: 0.331231 + 0.0746993\n",
      "Early stopping, best iteration is:\n",
      "[631]\tcv_agg's l2: 0.19478 + 0.0375397\n",
      "[100]\tcv_agg's l2: 0.28533 + 0.0584926\n",
      "[200]\tcv_agg's l2: 0.268962 + 0.0558813\n",
      "[300]\tcv_agg's l2: 0.260596 + 0.0568839\n",
      "[400]\tcv_agg's l2: 0.255836 + 0.055585\n",
      "[500]\tcv_agg's l2: 0.250265 + 0.0527976\n",
      "[600]\tcv_agg's l2: 0.246617 + 0.0502365\n"
     ]
    },
    {
     "name": "stderr",
     "output_type": "stream",
     "text": [
      "min_data_in_leaf, val_score: 0.194780: 100%|#############################################| 5/5 [00:15<00:00,  2.96s/it][I 2023-11-05 12:41:11,362] Trial 67 finished with value: 0.24528200614106815 and parameters: {'min_child_samples': 25}. Best is trial 65 with value: 0.19477972842145863.\n",
      "min_data_in_leaf, val_score: 0.194780: 100%|#############################################| 5/5 [00:15<00:00,  3.16s/it]"
     ]
    },
    {
     "name": "stdout",
     "output_type": "stream",
     "text": [
      "[700]\tcv_agg's l2: 0.243611 + 0.0496095\n",
      "Early stopping, best iteration is:\n",
      "[631]\tcv_agg's l2: 0.19478 + 0.0375397\n"
     ]
    },
    {
     "name": "stderr",
     "output_type": "stream",
     "text": [
      "\n"
     ]
    }
   ],
   "source": [
    "import optuna.integration.lightgbm as lgb\n",
    "from lightgbm import early_stopping, log_evaluation\n",
    "from sklearn.model_selection import KFold\n",
    "from sklearn.model_selection import RepeatedKFold\n",
    "\n",
    "\n",
    "lgb_train = lgb.Dataset(X_train, y_train)\n",
    "\n",
    "params = {\n",
    "    \"boosting_type\": \"gbdt\",\n",
    "    \"objective\": \"regression\",\n",
    "    \"metric\": \"l2\",\n",
    "    \"verbosity\": -1,\n",
    "}\n",
    "\n",
    "tuner = lgb.LightGBMTunerCV(\n",
    "    params,\n",
    "    lgb_train,\n",
    "    folds=KFold(n_splits=5),\n",
    "    num_boost_round=10000,\n",
    "    callbacks=[early_stopping(100), log_evaluation(100)],\n",
    ")\n",
    "\n",
    "tuner.run()"
   ]
  },
  {
   "cell_type": "code",
   "execution_count": 23,
   "id": "3b9d8fb3",
   "metadata": {},
   "outputs": [
    {
     "name": "stdout",
     "output_type": "stream",
     "text": [
      "Best score: 0.19477972842145863\n",
      "Params: \n",
      "    boosting_type: gbdt\n",
      "    objective: regression\n",
      "    metric: l2\n",
      "    verbosity: -1\n",
      "    feature_pre_filter: False\n",
      "    lambda_l1: 1.2350261194906373e-06\n",
      "    lambda_l2: 6.8915222115229855e-06\n",
      "    num_leaves: 6\n",
      "    feature_fraction: 0.7\n",
      "    bagging_fraction: 1.0\n",
      "    bagging_freq: 0\n",
      "    min_child_samples: 10\n"
     ]
    }
   ],
   "source": [
    "print(f\"Best score: {tuner.best_score}\")\n",
    "best_params = tuner.best_params\n",
    "print(\"Params: \")\n",
    "for key, value in best_params.items():\n",
    "    print(\"    {}: {}\".format(key, value))"
   ]
  },
  {
   "cell_type": "code",
   "execution_count": 24,
   "id": "d25b1687",
   "metadata": {},
   "outputs": [],
   "source": [
    "import lightgbm as lgb\n",
    "\n",
    "lgb_tuned = lgb.train(\n",
    "    best_params,\n",
    "    lgb_train,\n",
    "    num_boost_round=10000,\n",
    ")"
   ]
  },
  {
   "cell_type": "code",
   "execution_count": 25,
   "id": "290a9f09",
   "metadata": {
    "scrolled": false
   },
   "outputs": [
    {
     "name": "stdout",
     "output_type": "stream",
     "text": [
      "RMSE train: 0.01\n",
      "RMSE test: 0.66\n",
      "MAE test: 0.47\n",
      "\n"
     ]
    }
   ],
   "source": [
    "rmse, mae = assess_regression_model(lgb_tuned, X_train, X_test, y_train, y_test)"
   ]
  },
  {
   "cell_type": "code",
   "execution_count": 26,
   "id": "a6ecfca2",
   "metadata": {},
   "outputs": [],
   "source": [
    "results.loc[1] = [\n",
    "    \"chronological\",\n",
    "    \"Optuna\",\n",
    "    \"basic\",\n",
    "    rmse,\n",
    "    mae,\n",
    "]"
   ]
  },
  {
   "cell_type": "markdown",
   "id": "2f13ab75",
   "metadata": {},
   "source": [
    "###### MAE by level"
   ]
  },
  {
   "cell_type": "code",
   "execution_count": 27,
   "id": "e2f172bc",
   "metadata": {},
   "outputs": [
    {
     "data": {
      "image/png": "[encoded data removed]",
      "text/plain": [
       "<Figure size 720x432 with 1 Axes>"
      ]
     },
     "metadata": {
      "needs_background": "light"
     },
     "output_type": "display_data"
    }
   ],
   "source": [
    "plot_mae_by_level(\n",
    "    y_test,\n",
    "    y_pred_test,\n",
    "    title=\"MAE by level for tuned LightGBM with basic features and chronological split\",\n",
    ")"
   ]
  },
  {
   "cell_type": "code",
   "execution_count": 28,
   "id": "9f6b3122",
   "metadata": {
    "scrolled": false
   },
   "outputs": [
    {
     "name": "stdout",
     "output_type": "stream",
     "text": [
      "Default:\n",
      "RMSE: 0.66\n",
      "\n",
      "Round type: round\n",
      "RMSE: 0.69\n",
      "\n",
      "Round type: 0.33\n",
      "RMSE: 0.69\n",
      "\n",
      "Round type: 0.45\n",
      "RMSE: 0.69\n",
      "\n"
     ]
    }
   ],
   "source": [
    "predict = lgb_tuned.predict(X_test)\n",
    "check_round_predictions([\"round\", 0.33, 0.45], y_test, predict)"
   ]
  },
  {
   "cell_type": "code",
   "execution_count": 29,
   "id": "515dc232",
   "metadata": {},
   "outputs": [
    {
     "data": {
      "image/png": "[encoded data removed]",
      "text/plain": [
       "<Figure size 432x288 with 2 Axes>"
      ]
     },
     "metadata": {
      "needs_background": "light"
     },
     "output_type": "display_data"
    }
   ],
   "source": [
    "plot_confusion_matrix(\n",
    "    \"round\",\n",
    "    predict,\n",
    "    y_test,\n",
    "    title=\"Confusion matrix for tuned LightGBM with basic features and chronological split\",\n",
    ")"
   ]
  },
  {
   "cell_type": "markdown",
   "id": "493f7602",
   "metadata": {},
   "source": [
    "## Random split"
   ]
  },
  {
   "cell_type": "code",
   "execution_count": 30,
   "id": "4948ca0a",
   "metadata": {},
   "outputs": [
    {
     "name": "stdout",
     "output_type": "stream",
     "text": [
      "[LightGBM] [Warning] Auto-choosing col-wise multi-threading, the overhead of testing was 0.000383 seconds.\n",
      "You can set `force_col_wise=true` to remove the overhead.\n",
      "[LightGBM] [Info] Total Bins 234\n",
      "[LightGBM] [Info] Number of data points in the train set: 904, number of used features: 8\n",
      "[LightGBM] [Info] Start training from score 7.162611\n",
      "Training until validation scores don't improve for 5 rounds\n",
      "Early stopping, best iteration is:\n",
      "[55]\tvalid_0's l2: 0.243018\tvalid_0's l1: 0.340495\n"
     ]
    }
   ],
   "source": [
    "import lightgbm as lgb\n",
    "from sklearn.metrics import mean_squared_error\n",
    "\n",
    "lgb_train = lgb.Dataset(X_train_random_split, y_train_random_split)\n",
    "lgb_eval = lgb.Dataset(X_test_random_split, y_test_random_split, reference=lgb_train)\n",
    "\n",
    "params = {\n",
    "    \"boosting_type\": \"gbdt\",\n",
    "    \"objective\": \"regression\",\n",
    "    \"metric\": {\"l2\", \"l1\"},\n",
    "}\n",
    "\n",
    "gbm = lgb.train(\n",
    "    params,\n",
    "    lgb_train,\n",
    "    num_boost_round=100,\n",
    "    valid_sets=lgb_eval,\n",
    "    callbacks=[lgb.early_stopping(stopping_rounds=5)],\n",
    ")"
   ]
  },
  {
   "cell_type": "code",
   "execution_count": 31,
   "id": "f9bd4c3b",
   "metadata": {},
   "outputs": [],
   "source": [
    "y_pred_train = gbm.predict(X_train_random_split, num_iteration=gbm.best_iteration)\n",
    "y_pred_test = gbm.predict(X_test_random_split, num_iteration=gbm.best_iteration)"
   ]
  },
  {
   "cell_type": "code",
   "execution_count": 32,
   "id": "c014931e",
   "metadata": {},
   "outputs": [
    {
     "name": "stdout",
     "output_type": "stream",
     "text": [
      "RMSE: 0.49\n",
      "MAE: 0.34\n"
     ]
    }
   ],
   "source": [
    "from sklearn.metrics import mean_squared_error, mean_absolute_error\n",
    "\n",
    "\n",
    "rmse = mean_squared_error(y_test_random_split, y_pred_test, squared=False)\n",
    "mae = mean_absolute_error(y_test_random_split, y_pred_test)\n",
    "\n",
    "print(f\"RMSE: {rmse:.2f}\")\n",
    "print(f\"MAE: {mae:.2f}\")"
   ]
  },
  {
   "cell_type": "code",
   "execution_count": 33,
   "id": "8cbceea7",
   "metadata": {},
   "outputs": [],
   "source": [
    "results.loc[2] = [\"random\", \"default\", \"basic\", rmse, mae]"
   ]
  },
  {
   "cell_type": "markdown",
   "id": "eacfd0ab",
   "metadata": {},
   "source": [
    "###### MAE by level"
   ]
  },
  {
   "cell_type": "code",
   "execution_count": 34,
   "id": "8af01c5c",
   "metadata": {},
   "outputs": [
    {
     "data": {
      "image/png": "[encoded data removed]",
      "text/plain": [
       "<Figure size 720x432 with 1 Axes>"
      ]
     },
     "metadata": {
      "needs_background": "light"
     },
     "output_type": "display_data"
    }
   ],
   "source": [
    "plot_mae_by_level(\n",
    "    y_test_random_split,\n",
    "    y_pred_test,\n",
    "    title=\"MAE by level for default LightGBM with basic features and random split\",\n",
    ")"
   ]
  },
  {
   "cell_type": "code",
   "execution_count": 35,
   "id": "e5edd1d7",
   "metadata": {
    "scrolled": true
   },
   "outputs": [
    {
     "name": "stdout",
     "output_type": "stream",
     "text": [
      "Default:\n",
      "RMSE: 0.49\n",
      "\n",
      "Round type: round\n",
      "RMSE: 0.51\n",
      "\n",
      "Round type: 0.33\n",
      "RMSE: 0.57\n",
      "\n",
      "Round type: 0.45\n",
      "RMSE: 0.52\n",
      "\n"
     ]
    }
   ],
   "source": [
    "check_round_predictions([\"round\", 0.33, 0.45], y_test_random_split, y_pred_test)"
   ]
  },
  {
   "cell_type": "code",
   "execution_count": 36,
   "id": "39e001dd",
   "metadata": {},
   "outputs": [
    {
     "data": {
      "image/png": "[encoded data removed]",
      "text/plain": [
       "<Figure size 432x288 with 2 Axes>"
      ]
     },
     "metadata": {
      "needs_background": "light"
     },
     "output_type": "display_data"
    }
   ],
   "source": [
    "plot_confusion_matrix(\n",
    "    \"round\",\n",
    "    y_pred_test,\n",
    "    y_test_random_split,\n",
    "    title=\"Confusion matrix for default LightGBM with basic features and random split\",\n",
    ")"
   ]
  },
  {
   "cell_type": "markdown",
   "id": "2a0c7ae0",
   "metadata": {},
   "source": [
    "### Tuning"
   ]
  },
  {
   "cell_type": "code",
   "execution_count": 37,
   "id": "0ef6525a",
   "metadata": {},
   "outputs": [
    {
     "name": "stderr",
     "output_type": "stream",
     "text": [
      "[I 2023-11-05 12:41:26,269] A new study created in memory with name: no-name-d1f404fc-a876-4f8a-9133-703633223ca1\n",
      "feature_fraction, val_score: inf:   0%|                                                          | 0/7 [00:00<?, ?it/s]"
     ]
    },
    {
     "name": "stdout",
     "output_type": "stream",
     "text": [
      "Training until validation scores don't improve for 100 rounds\n",
      "[100]\tcv_agg's l2: 0.253669 + 0.040292\n",
      "[200]\tcv_agg's l2: 0.252798 + 0.040435\n"
     ]
    },
    {
     "name": "stderr",
     "output_type": "stream",
     "text": [
      "feature_fraction, val_score: 0.250484:  14%|######4                                      | 1/7 [00:03<00:20,  3.38s/it][I 2023-11-05 12:41:29,659] Trial 0 finished with value: 0.2504840325061091 and parameters: {'feature_fraction': 0.8}. Best is trial 0 with value: 0.2504840325061091.\n",
      "feature_fraction, val_score: 0.250484:  14%|######4                                      | 1/7 [00:03<00:20,  3.38s/it]"
     ]
    },
    {
     "name": "stdout",
     "output_type": "stream",
     "text": [
      "Early stopping, best iteration is:\n",
      "[134]\tcv_agg's l2: 0.250484 + 0.0397158\n",
      "[100]\tcv_agg's l2: 0.253669 + 0.040292\n",
      "[200]\tcv_agg's l2: 0.252798 + 0.040435\n"
     ]
    },
    {
     "name": "stderr",
     "output_type": "stream",
     "text": [
      "feature_fraction, val_score: 0.250484:  29%|############8                                | 2/7 [00:07<00:17,  3.57s/it][I 2023-11-05 12:41:33,359] Trial 1 finished with value: 0.2504840325061091 and parameters: {'feature_fraction': 0.7}. Best is trial 0 with value: 0.2504840325061091.\n",
      "feature_fraction, val_score: 0.250484:  29%|############8                                | 2/7 [00:07<00:17,  3.57s/it]"
     ]
    },
    {
     "name": "stdout",
     "output_type": "stream",
     "text": [
      "Early stopping, best iteration is:\n",
      "[134]\tcv_agg's l2: 0.250484 + 0.0397158\n",
      "[100]\tcv_agg's l2: 0.400724 + 0.0630715\n",
      "[200]\tcv_agg's l2: 0.34957 + 0.0598128\n"
     ]
    },
    {
     "name": "stderr",
     "output_type": "stream",
     "text": [
      "feature_fraction, val_score: 0.250484:  43%|###################2                         | 3/7 [00:10<00:13,  3.40s/it][I 2023-11-05 12:41:36,551] Trial 2 finished with value: 0.3707924109841801 and parameters: {'feature_fraction': 0.4}. Best is trial 0 with value: 0.2504840325061091.\n",
      "feature_fraction, val_score: 0.250484:  43%|###################2                         | 3/7 [00:10<00:13,  3.40s/it]"
     ]
    },
    {
     "name": "stdout",
     "output_type": "stream",
     "text": [
      "Early stopping, best iteration is:\n",
      "[134]\tcv_agg's l2: 0.250484 + 0.0397158\n",
      "[100]\tcv_agg's l2: 0.282877 + 0.0447304\n",
      "[200]\tcv_agg's l2: 0.271174 + 0.0454662\n"
     ]
    },
    {
     "name": "stderr",
     "output_type": "stream",
     "text": [
      "feature_fraction, val_score: 0.250484:  57%|#########################7                   | 4/7 [00:13<00:09,  3.28s/it][I 2023-11-05 12:41:39,655] Trial 3 finished with value: 0.2750305020472893 and parameters: {'feature_fraction': 0.5}. Best is trial 0 with value: 0.2504840325061091.\n",
      "feature_fraction, val_score: 0.250484:  57%|#########################7                   | 4/7 [00:13<00:09,  3.28s/it]"
     ]
    },
    {
     "name": "stdout",
     "output_type": "stream",
     "text": [
      "Early stopping, best iteration is:\n",
      "[134]\tcv_agg's l2: 0.250484 + 0.0397158\n",
      "[100]\tcv_agg's l2: 0.245015 + 0.0571001\n"
     ]
    },
    {
     "name": "stderr",
     "output_type": "stream",
     "text": [
      "feature_fraction, val_score: 0.244818:  71%|################################1            | 5/7 [00:16<00:06,  3.14s/it][I 2023-11-05 12:41:42,541] Trial 4 finished with value: 0.24481763720537644 and parameters: {'feature_fraction': 0.8999999999999999}. Best is trial 4 with value: 0.24481763720537644.\n",
      "feature_fraction, val_score: 0.244818:  71%|################################1            | 5/7 [00:16<00:06,  3.14s/it]"
     ]
    },
    {
     "name": "stdout",
     "output_type": "stream",
     "text": [
      "Early stopping, best iteration is:\n",
      "[99]\tcv_agg's l2: 0.244818 + 0.0570948\n",
      "[100]\tcv_agg's l2: 0.258042 + 0.0766333\n"
     ]
    },
    {
     "name": "stderr",
     "output_type": "stream",
     "text": [
      "feature_fraction, val_score: 0.244818:  86%|######################################5      | 6/7 [00:19<00:03,  3.09s/it][I 2023-11-05 12:41:45,524] Trial 5 finished with value: 0.2581122422899832 and parameters: {'feature_fraction': 1.0}. Best is trial 4 with value: 0.24481763720537644.\n",
      "feature_fraction, val_score: 0.244818:  86%|######################################5      | 6/7 [00:19<00:03,  3.09s/it]"
     ]
    },
    {
     "name": "stdout",
     "output_type": "stream",
     "text": [
      "Early stopping, best iteration is:\n",
      "[99]\tcv_agg's l2: 0.244818 + 0.0570948\n",
      "[100]\tcv_agg's l2: 0.266359 + 0.043492\n"
     ]
    },
    {
     "name": "stderr",
     "output_type": "stream",
     "text": [
      "feature_fraction, val_score: 0.244818: 100%|#############################################| 7/7 [00:21<00:00,  2.96s/it][I 2023-11-05 12:41:48,217] Trial 6 finished with value: 0.26696784806032925 and parameters: {'feature_fraction': 0.6}. Best is trial 4 with value: 0.24481763720537644.\n",
      "feature_fraction, val_score: 0.244818: 100%|#############################################| 7/7 [00:21<00:00,  3.13s/it]\n"
     ]
    },
    {
     "name": "stdout",
     "output_type": "stream",
     "text": [
      "Early stopping, best iteration is:\n",
      "[99]\tcv_agg's l2: 0.244818 + 0.0570948\n"
     ]
    },
    {
     "name": "stderr",
     "output_type": "stream",
     "text": [
      "num_leaves, val_score: 0.244818:   0%|                                                          | 0/20 [00:00<?, ?it/s]"
     ]
    },
    {
     "name": "stdout",
     "output_type": "stream",
     "text": [
      "[100]\tcv_agg's l2: 0.245015 + 0.0571001\n"
     ]
    },
    {
     "name": "stderr",
     "output_type": "stream",
     "text": [
      "num_leaves, val_score: 0.244818:   5%|##5                                               | 1/20 [00:02<00:52,  2.74s/it][I 2023-11-05 12:41:50,965] Trial 7 finished with value: 0.24481763720537644 and parameters: {'num_leaves': 88}. Best is trial 7 with value: 0.24481763720537644.\n",
      "num_leaves, val_score: 0.244818:   5%|##5                                               | 1/20 [00:02<00:52,  2.74s/it]"
     ]
    },
    {
     "name": "stdout",
     "output_type": "stream",
     "text": [
      "Early stopping, best iteration is:\n",
      "[99]\tcv_agg's l2: 0.244818 + 0.0570948\n",
      "[100]\tcv_agg's l2: 0.245015 + 0.0571001\n"
     ]
    },
    {
     "name": "stderr",
     "output_type": "stream",
     "text": [
      "num_leaves, val_score: 0.244818:  10%|#####                                             | 2/20 [00:05<00:51,  2.88s/it][I 2023-11-05 12:41:53,944] Trial 8 finished with value: 0.24481763720537644 and parameters: {'num_leaves': 161}. Best is trial 7 with value: 0.24481763720537644.\n",
      "num_leaves, val_score: 0.244818:  10%|#####                                             | 2/20 [00:05<00:51,  2.88s/it]"
     ]
    },
    {
     "name": "stdout",
     "output_type": "stream",
     "text": [
      "Early stopping, best iteration is:\n",
      "[99]\tcv_agg's l2: 0.244818 + 0.0570948\n",
      "[100]\tcv_agg's l2: 0.252132 + 0.0678384\n",
      "[200]\tcv_agg's l2: 0.243775 + 0.0652197\n",
      "[300]\tcv_agg's l2: 0.24312 + 0.0630787\n"
     ]
    },
    {
     "name": "stderr",
     "output_type": "stream",
     "text": [
      "num_leaves, val_score: 0.242371:  15%|#######5                                          | 3/20 [00:07<00:41,  2.44s/it][I 2023-11-05 12:41:55,849] Trial 9 finished with value: 0.24237126945585655 and parameters: {'num_leaves': 7}. Best is trial 9 with value: 0.24237126945585655.\n",
      "num_leaves, val_score: 0.242371:  15%|#######5                                          | 3/20 [00:07<00:41,  2.44s/it]"
     ]
    },
    {
     "name": "stdout",
     "output_type": "stream",
     "text": [
      "[400]\tcv_agg's l2: 0.243305 + 0.0595945\n",
      "Early stopping, best iteration is:\n",
      "[337]\tcv_agg's l2: 0.242371 + 0.0609543\n",
      "[100]\tcv_agg's l2: 0.248779 + 0.0660306\n",
      "[200]\tcv_agg's l2: 0.24238 + 0.0576171\n"
     ]
    },
    {
     "name": "stderr",
     "output_type": "stream",
     "text": [
      "\r",
      "num_leaves, val_score: 0.241396:  15%|#######5                                          | 3/20 [00:09<00:41,  2.44s/it]"
     ]
    },
    {
     "name": "stdout",
     "output_type": "stream",
     "text": [
      "[300]\tcv_agg's l2: 0.242091 + 0.0574278\n",
      "Early stopping, best iteration is:\n",
      "[237]\tcv_agg's l2: 0.241396 + 0.057353\n"
     ]
    },
    {
     "name": "stderr",
     "output_type": "stream",
     "text": [
      "num_leaves, val_score: 0.241396:  20%|##########                                        | 4/20 [00:09<00:35,  2.22s/it][I 2023-11-05 12:41:57,730] Trial 10 finished with value: 0.24139579540862816 and parameters: {'num_leaves': 8}. Best is trial 10 with value: 0.24139579540862816.\n",
      "num_leaves, val_score: 0.241396:  20%|##########                                        | 4/20 [00:09<00:35,  2.22s/it]"
     ]
    },
    {
     "name": "stdout",
     "output_type": "stream",
     "text": [
      "[100]\tcv_agg's l2: 0.255043 + 0.0645603\n",
      "[200]\tcv_agg's l2: 0.249778 + 0.0623547\n"
     ]
    },
    {
     "name": "stderr",
     "output_type": "stream",
     "text": [
      "num_leaves, val_score: 0.241396:  25%|############5                                     | 5/20 [00:10<00:26,  1.79s/it][I 2023-11-05 12:41:58,773] Trial 11 finished with value: 0.24831877154129822 and parameters: {'num_leaves': 4}. Best is trial 10 with value: 0.24139579540862816.\n",
      "num_leaves, val_score: 0.241396:  25%|############5                                     | 5/20 [00:10<00:26,  1.79s/it]"
     ]
    },
    {
     "name": "stdout",
     "output_type": "stream",
     "text": [
      "[300]\tcv_agg's l2: 0.248773 + 0.0592883\n",
      "Early stopping, best iteration is:\n",
      "[237]\tcv_agg's l2: 0.241396 + 0.057353\n",
      "[100]\tcv_agg's l2: 0.24458 + 0.0560947\n",
      "[200]\tcv_agg's l2: 0.245549 + 0.0509608\n",
      "[300]\tcv_agg's l2: 0.247104 + 0.0469835\n"
     ]
    },
    {
     "name": "stderr",
     "output_type": "stream",
     "text": [
      "num_leaves, val_score: 0.241396:  30%|###############                                   | 6/20 [00:14<00:33,  2.40s/it][I 2023-11-05 12:42:02,357] Trial 12 finished with value: 0.24610547566524565 and parameters: {'num_leaves': 20}. Best is trial 10 with value: 0.24139579540862816.\n",
      "num_leaves, val_score: 0.241396:  30%|###############                                   | 6/20 [00:14<00:33,  2.40s/it]"
     ]
    },
    {
     "name": "stdout",
     "output_type": "stream",
     "text": [
      "Early stopping, best iteration is:\n",
      "[237]\tcv_agg's l2: 0.241396 + 0.057353\n",
      "[100]\tcv_agg's l2: 0.245015 + 0.0571001\n",
      "[200]\tcv_agg's l2: 0.247879 + 0.0521112\n",
      "[300]\tcv_agg's l2: 0.251608 + 0.0489874\n"
     ]
    },
    {
     "name": "stderr",
     "output_type": "stream",
     "text": [
      "num_leaves, val_score: 0.241396:  35%|#################5                                | 7/20 [00:18<00:41,  3.17s/it][I 2023-11-05 12:42:07,095] Trial 13 finished with value: 0.24877763978396486 and parameters: {'num_leaves': 71}. Best is trial 10 with value: 0.24139579540862816.\n",
      "num_leaves, val_score: 0.241396:  35%|#################5                                | 7/20 [00:18<00:41,  3.17s/it]"
     ]
    },
    {
     "name": "stdout",
     "output_type": "stream",
     "text": [
      "Early stopping, best iteration is:\n",
      "[237]\tcv_agg's l2: 0.241396 + 0.057353\n",
      "[100]\tcv_agg's l2: 0.245015 + 0.0571001\n",
      "[200]\tcv_agg's l2: 0.247879 + 0.0521112\n",
      "[300]\tcv_agg's l2: 0.251608 + 0.0489874\n"
     ]
    },
    {
     "name": "stderr",
     "output_type": "stream",
     "text": [
      "num_leaves, val_score: 0.241396:  40%|####################                              | 8/20 [00:24<00:46,  3.91s/it][I 2023-11-05 12:42:12,602] Trial 14 finished with value: 0.24877763978396486 and parameters: {'num_leaves': 228}. Best is trial 10 with value: 0.24139579540862816.\n",
      "num_leaves, val_score: 0.241396:  40%|####################                              | 8/20 [00:24<00:46,  3.91s/it]"
     ]
    },
    {
     "name": "stdout",
     "output_type": "stream",
     "text": [
      "Early stopping, best iteration is:\n",
      "[237]\tcv_agg's l2: 0.241396 + 0.057353\n",
      "[100]\tcv_agg's l2: 0.245015 + 0.0571001\n",
      "[200]\tcv_agg's l2: 0.247879 + 0.0521112\n",
      "[300]\tcv_agg's l2: 0.251608 + 0.0489874\n"
     ]
    },
    {
     "name": "stderr",
     "output_type": "stream",
     "text": [
      "num_leaves, val_score: 0.241396:  45%|######################5                           | 9/20 [00:29<00:48,  4.40s/it][I 2023-11-05 12:42:18,063] Trial 15 finished with value: 0.24877763978396486 and parameters: {'num_leaves': 48}. Best is trial 10 with value: 0.24139579540862816.\n",
      "num_leaves, val_score: 0.241396:  45%|######################5                           | 9/20 [00:29<00:48,  4.40s/it]"
     ]
    },
    {
     "name": "stdout",
     "output_type": "stream",
     "text": [
      "Early stopping, best iteration is:\n",
      "[237]\tcv_agg's l2: 0.241396 + 0.057353\n",
      "[100]\tcv_agg's l2: 0.245015 + 0.0571001\n",
      "[200]\tcv_agg's l2: 0.247879 + 0.0521112\n",
      "[300]\tcv_agg's l2: 0.251608 + 0.0489874\n"
     ]
    },
    {
     "name": "stderr",
     "output_type": "stream",
     "text": [
      "num_leaves, val_score: 0.241396:  50%|########################5                        | 10/20 [00:33<00:42,  4.26s/it][I 2023-11-05 12:42:22,019] Trial 16 finished with value: 0.24877763978396486 and parameters: {'num_leaves': 127}. Best is trial 10 with value: 0.24139579540862816.\n",
      "num_leaves, val_score: 0.241396:  50%|########################5                        | 10/20 [00:33<00:42,  4.26s/it]"
     ]
    },
    {
     "name": "stdout",
     "output_type": "stream",
     "text": [
      "Early stopping, best iteration is:\n",
      "[237]\tcv_agg's l2: 0.241396 + 0.057353\n",
      "[100]\tcv_agg's l2: 0.255043 + 0.0645603\n",
      "[200]\tcv_agg's l2: 0.249778 + 0.0623547\n"
     ]
    },
    {
     "name": "stderr",
     "output_type": "stream",
     "text": [
      "num_leaves, val_score: 0.241396:  55%|##########################9                      | 11/20 [00:34<00:29,  3.28s/it][I 2023-11-05 12:42:23,073] Trial 17 finished with value: 0.24831877154129822 and parameters: {'num_leaves': 4}. Best is trial 10 with value: 0.24139579540862816.\n",
      "num_leaves, val_score: 0.241396:  55%|##########################9                      | 11/20 [00:34<00:29,  3.28s/it]"
     ]
    },
    {
     "name": "stdout",
     "output_type": "stream",
     "text": [
      "[300]\tcv_agg's l2: 0.248773 + 0.0592883\n",
      "Early stopping, best iteration is:\n",
      "[237]\tcv_agg's l2: 0.241396 + 0.057353\n",
      "[100]\tcv_agg's l2: 0.245015 + 0.0571001\n",
      "[200]\tcv_agg's l2: 0.247879 + 0.0521112\n",
      "[300]\tcv_agg's l2: 0.251608 + 0.0489874\n"
     ]
    },
    {
     "name": "stderr",
     "output_type": "stream",
     "text": [
      "num_leaves, val_score: 0.241396:  60%|#############################4                   | 12/20 [00:39<00:30,  3.78s/it][I 2023-11-05 12:42:27,995] Trial 18 finished with value: 0.24877763978396486 and parameters: {'num_leaves': 111}. Best is trial 10 with value: 0.24139579540862816.\n",
      "num_leaves, val_score: 0.241396:  60%|#############################4                   | 12/20 [00:39<00:30,  3.78s/it]"
     ]
    },
    {
     "name": "stdout",
     "output_type": "stream",
     "text": [
      "Early stopping, best iteration is:\n",
      "[237]\tcv_agg's l2: 0.241396 + 0.057353\n",
      "[100]\tcv_agg's l2: 0.245015 + 0.0571001\n",
      "[200]\tcv_agg's l2: 0.247879 + 0.0521112\n",
      "[300]\tcv_agg's l2: 0.251608 + 0.0489874\n"
     ]
    },
    {
     "name": "stderr",
     "output_type": "stream",
     "text": [
      "num_leaves, val_score: 0.241396:  65%|###############################8                 | 13/20 [00:44<00:28,  4.01s/it][I 2023-11-05 12:42:32,535] Trial 19 finished with value: 0.24877763978396486 and parameters: {'num_leaves': 49}. Best is trial 10 with value: 0.24139579540862816.\n",
      "num_leaves, val_score: 0.241396:  65%|###############################8                 | 13/20 [00:44<00:28,  4.01s/it]"
     ]
    },
    {
     "name": "stdout",
     "output_type": "stream",
     "text": [
      "Early stopping, best iteration is:\n",
      "[237]\tcv_agg's l2: 0.241396 + 0.057353\n",
      "[100]\tcv_agg's l2: 0.245015 + 0.0571001\n",
      "[200]\tcv_agg's l2: 0.247879 + 0.0521112\n",
      "[300]\tcv_agg's l2: 0.251608 + 0.0489874\n"
     ]
    },
    {
     "name": "stderr",
     "output_type": "stream",
     "text": [
      "num_leaves, val_score: 0.241396:  70%|##################################3              | 14/20 [00:48<00:24,  4.15s/it][I 2023-11-05 12:42:37,018] Trial 20 finished with value: 0.24877763978396486 and parameters: {'num_leaves': 156}. Best is trial 10 with value: 0.24139579540862816.\n",
      "num_leaves, val_score: 0.241396:  70%|##################################3              | 14/20 [00:48<00:24,  4.15s/it]"
     ]
    },
    {
     "name": "stdout",
     "output_type": "stream",
     "text": [
      "Early stopping, best iteration is:\n",
      "[237]\tcv_agg's l2: 0.241396 + 0.057353\n",
      "[100]\tcv_agg's l2: 0.245015 + 0.0571001\n",
      "[200]\tcv_agg's l2: 0.247879 + 0.0521112\n",
      "[300]\tcv_agg's l2: 0.251608 + 0.0489874\n"
     ]
    },
    {
     "name": "stderr",
     "output_type": "stream",
     "text": [
      "num_leaves, val_score: 0.241396:  75%|####################################7            | 15/20 [00:53<00:21,  4.38s/it][I 2023-11-05 12:42:41,931] Trial 21 finished with value: 0.24877763978396486 and parameters: {'num_leaves': 216}. Best is trial 10 with value: 0.24139579540862816.\n",
      "num_leaves, val_score: 0.241396:  75%|####################################7            | 15/20 [00:53<00:21,  4.38s/it]"
     ]
    },
    {
     "name": "stdout",
     "output_type": "stream",
     "text": [
      "Early stopping, best iteration is:\n",
      "[237]\tcv_agg's l2: 0.241396 + 0.057353\n",
      "[100]\tcv_agg's l2: 0.245015 + 0.0571001\n",
      "[200]\tcv_agg's l2: 0.247879 + 0.0521112\n",
      "[300]\tcv_agg's l2: 0.251608 + 0.0489874\n"
     ]
    },
    {
     "name": "stderr",
     "output_type": "stream",
     "text": [
      "num_leaves, val_score: 0.241396:  80%|#######################################2         | 16/20 [00:58<00:18,  4.51s/it][I 2023-11-05 12:42:46,736] Trial 22 finished with value: 0.24877763978396486 and parameters: {'num_leaves': 43}. Best is trial 10 with value: 0.24139579540862816.\n",
      "num_leaves, val_score: 0.241396:  80%|#######################################2         | 16/20 [00:58<00:18,  4.51s/it]"
     ]
    },
    {
     "name": "stdout",
     "output_type": "stream",
     "text": [
      "Early stopping, best iteration is:\n",
      "[237]\tcv_agg's l2: 0.241396 + 0.057353\n",
      "[100]\tcv_agg's l2: 0.245015 + 0.0571001\n",
      "[200]\tcv_agg's l2: 0.247879 + 0.0521112\n",
      "[300]\tcv_agg's l2: 0.251608 + 0.0489874\n"
     ]
    },
    {
     "name": "stderr",
     "output_type": "stream",
     "text": [
      "num_leaves, val_score: 0.241396:  85%|#########################################6       | 17/20 [01:03<00:13,  4.56s/it][I 2023-11-05 12:42:51,403] Trial 23 finished with value: 0.24877763978396486 and parameters: {'num_leaves': 82}. Best is trial 10 with value: 0.24139579540862816.\n",
      "num_leaves, val_score: 0.241396:  85%|#########################################6       | 17/20 [01:03<00:13,  4.56s/it]"
     ]
    },
    {
     "name": "stdout",
     "output_type": "stream",
     "text": [
      "Early stopping, best iteration is:\n",
      "[237]\tcv_agg's l2: 0.241396 + 0.057353\n",
      "[100]\tcv_agg's l2: 0.245015 + 0.0571001\n",
      "[200]\tcv_agg's l2: 0.247879 + 0.0521112\n",
      "[300]\tcv_agg's l2: 0.251608 + 0.0489874\n"
     ]
    },
    {
     "name": "stderr",
     "output_type": "stream",
     "text": [
      "num_leaves, val_score: 0.241396:  90%|############################################1    | 18/20 [01:07<00:09,  4.61s/it][I 2023-11-05 12:42:56,142] Trial 24 finished with value: 0.24877763978396486 and parameters: {'num_leaves': 185}. Best is trial 10 with value: 0.24139579540862816.\n",
      "num_leaves, val_score: 0.241396:  90%|############################################1    | 18/20 [01:07<00:09,  4.61s/it]"
     ]
    },
    {
     "name": "stdout",
     "output_type": "stream",
     "text": [
      "Early stopping, best iteration is:\n",
      "[237]\tcv_agg's l2: 0.241396 + 0.057353\n",
      "[100]\tcv_agg's l2: 0.245015 + 0.0571001\n",
      "[200]\tcv_agg's l2: 0.247879 + 0.0521112\n",
      "[300]\tcv_agg's l2: 0.251608 + 0.0489874\n"
     ]
    },
    {
     "name": "stderr",
     "output_type": "stream",
     "text": [
      "num_leaves, val_score: 0.241396:  95%|##############################################5  | 19/20 [01:12<00:04,  4.65s/it][I 2023-11-05 12:43:00,879] Trial 25 finished with value: 0.24877763978396486 and parameters: {'num_leaves': 33}. Best is trial 10 with value: 0.24139579540862816.\n",
      "num_leaves, val_score: 0.241396:  95%|##############################################5  | 19/20 [01:12<00:04,  4.65s/it]"
     ]
    },
    {
     "name": "stdout",
     "output_type": "stream",
     "text": [
      "Early stopping, best iteration is:\n",
      "[237]\tcv_agg's l2: 0.241396 + 0.057353\n",
      "[100]\tcv_agg's l2: 0.245015 + 0.0571001\n",
      "[200]\tcv_agg's l2: 0.247879 + 0.0521112\n",
      "[300]\tcv_agg's l2: 0.251608 + 0.0489874\n"
     ]
    },
    {
     "name": "stderr",
     "output_type": "stream",
     "text": [
      "num_leaves, val_score: 0.241396: 100%|#################################################| 20/20 [01:17<00:00,  4.65s/it][I 2023-11-05 12:43:05,519] Trial 26 finished with value: 0.24877763978396486 and parameters: {'num_leaves': 254}. Best is trial 10 with value: 0.24139579540862816.\n",
      "num_leaves, val_score: 0.241396: 100%|#################################################| 20/20 [01:17<00:00,  3.86s/it]\n"
     ]
    },
    {
     "name": "stdout",
     "output_type": "stream",
     "text": [
      "Early stopping, best iteration is:\n",
      "[237]\tcv_agg's l2: 0.241396 + 0.057353\n"
     ]
    },
    {
     "name": "stderr",
     "output_type": "stream",
     "text": [
      "bagging, val_score: 0.241396:   0%|                                                             | 0/10 [00:00<?, ?it/s]"
     ]
    },
    {
     "name": "stdout",
     "output_type": "stream",
     "text": [
      "[100]\tcv_agg's l2: 0.243859 + 0.061012\n",
      "[200]\tcv_agg's l2: 0.239006 + 0.0563044\n",
      "[300]\tcv_agg's l2: 0.238532 + 0.053095\n"
     ]
    },
    {
     "name": "stderr",
     "output_type": "stream",
     "text": [
      "bagging, val_score: 0.237589:  10%|#####3                                               | 1/10 [00:01<00:15,  1.76s/it][I 2023-11-05 12:43:07,288] Trial 27 finished with value: 0.23758889823342347 and parameters: {'bagging_fraction': 0.9615246764400154, 'bagging_freq': 1}. Best is trial 27 with value: 0.23758889823342347.\n",
      "bagging, val_score: 0.237589:  10%|#####3                                               | 1/10 [00:01<00:15,  1.76s/it]"
     ]
    },
    {
     "name": "stdout",
     "output_type": "stream",
     "text": [
      "Early stopping, best iteration is:\n",
      "[251]\tcv_agg's l2: 0.237589 + 0.0538101\n",
      "[100]\tcv_agg's l2: 0.253008 + 0.0718232\n",
      "[200]\tcv_agg's l2: 0.244633 + 0.0657324\n",
      "[300]\tcv_agg's l2: 0.243182 + 0.0632022\n"
     ]
    },
    {
     "name": "stderr",
     "output_type": "stream",
     "text": [
      "bagging, val_score: 0.237589:  20%|##########6                                          | 2/10 [00:03<00:14,  1.75s/it][I 2023-11-05 12:43:09,032] Trial 28 finished with value: 0.24319448686120798 and parameters: {'bagging_fraction': 0.993932057123851, 'bagging_freq': 1}. Best is trial 27 with value: 0.23758889823342347.\n",
      "bagging, val_score: 0.237589:  20%|##########6                                          | 2/10 [00:03<00:14,  1.75s/it]"
     ]
    },
    {
     "name": "stdout",
     "output_type": "stream",
     "text": [
      "Early stopping, best iteration is:\n",
      "[251]\tcv_agg's l2: 0.237589 + 0.0538101\n",
      "[100]\tcv_agg's l2: 0.250608 + 0.0583844\n",
      "[200]\tcv_agg's l2: 0.247819 + 0.0560306\n",
      "[300]\tcv_agg's l2: 0.248801 + 0.05319\n"
     ]
    },
    {
     "name": "stderr",
     "output_type": "stream",
     "text": [
      "bagging, val_score: 0.237589:  30%|###############9                                     | 3/10 [00:05<00:13,  1.86s/it][I 2023-11-05 12:43:11,031] Trial 29 finished with value: 0.24623021679216572 and parameters: {'bagging_fraction': 0.8117369769655314, 'bagging_freq': 5}. Best is trial 27 with value: 0.23758889823342347.\n",
      "bagging, val_score: 0.237589:  30%|###############9                                     | 3/10 [00:05<00:13,  1.86s/it]"
     ]
    },
    {
     "name": "stdout",
     "output_type": "stream",
     "text": [
      "Early stopping, best iteration is:\n",
      "[251]\tcv_agg's l2: 0.237589 + 0.0538101\n",
      "[100]\tcv_agg's l2: 0.287392 + 0.0615819\n",
      "[200]\tcv_agg's l2: 0.27973 + 0.0539705\n",
      "[300]\tcv_agg's l2: 0.279797 + 0.0523149\n"
     ]
    },
    {
     "name": "stderr",
     "output_type": "stream",
     "text": [
      "bagging, val_score: 0.237589:  40%|#####################2                               | 4/10 [00:07<00:11,  1.86s/it][I 2023-11-05 12:43:12,896] Trial 30 finished with value: 0.28014118403490446 and parameters: {'bagging_fraction': 0.4787320736010812, 'bagging_freq': 1}. Best is trial 27 with value: 0.23758889823342347.\n",
      "bagging, val_score: 0.237589:  40%|#####################2                               | 4/10 [00:07<00:11,  1.86s/it]"
     ]
    },
    {
     "name": "stdout",
     "output_type": "stream",
     "text": [
      "Early stopping, best iteration is:\n",
      "[251]\tcv_agg's l2: 0.237589 + 0.0538101\n",
      "[100]\tcv_agg's l2: 0.247365 + 0.0633493\n",
      "[200]\tcv_agg's l2: 0.243095 + 0.0592868\n",
      "[300]\tcv_agg's l2: 0.244011 + 0.0601746\n"
     ]
    },
    {
     "name": "stderr",
     "output_type": "stream",
     "text": [
      "bagging, val_score: 0.237589:  50%|##########################5                          | 5/10 [00:09<00:09,  1.80s/it][I 2023-11-05 12:43:14,590] Trial 31 finished with value: 0.24290567759030876 and parameters: {'bagging_fraction': 0.9914223441256234, 'bagging_freq': 1}. Best is trial 27 with value: 0.23758889823342347.\n",
      "bagging, val_score: 0.237589:  50%|##########################5                          | 5/10 [00:09<00:09,  1.80s/it]"
     ]
    },
    {
     "name": "stdout",
     "output_type": "stream",
     "text": [
      "Early stopping, best iteration is:\n",
      "[251]\tcv_agg's l2: 0.237589 + 0.0538101\n",
      "[100]\tcv_agg's l2: 0.248298 + 0.0646286\n",
      "[200]\tcv_agg's l2: 0.244496 + 0.0610033\n",
      "[300]\tcv_agg's l2: 0.242336 + 0.0560942\n"
     ]
    },
    {
     "name": "stderr",
     "output_type": "stream",
     "text": [
      "bagging, val_score: 0.237589:  60%|###############################8                     | 6/10 [00:10<00:07,  1.80s/it][I 2023-11-05 12:43:16,391] Trial 32 finished with value: 0.24346294664603202 and parameters: {'bagging_fraction': 0.9950698384646576, 'bagging_freq': 2}. Best is trial 27 with value: 0.23758889823342347.\n",
      "bagging, val_score: 0.237589:  60%|###############################8                     | 6/10 [00:10<00:07,  1.80s/it]"
     ]
    },
    {
     "name": "stdout",
     "output_type": "stream",
     "text": [
      "Early stopping, best iteration is:\n",
      "[251]\tcv_agg's l2: 0.237589 + 0.0538101\n",
      "[100]\tcv_agg's l2: 0.251426 + 0.0671306\n",
      "[200]\tcv_agg's l2: 0.248006 + 0.0565446\n",
      "[300]\tcv_agg's l2: 0.246711 + 0.051558\n"
     ]
    },
    {
     "name": "stderr",
     "output_type": "stream",
     "text": [
      "bagging, val_score: 0.237589:  70%|#####################################                | 7/10 [00:12<00:05,  1.81s/it][I 2023-11-05 12:43:18,219] Trial 33 finished with value: 0.24786029921284009 and parameters: {'bagging_fraction': 0.8536860115989501, 'bagging_freq': 3}. Best is trial 27 with value: 0.23758889823342347.\n",
      "bagging, val_score: 0.237589:  70%|#####################################                | 7/10 [00:12<00:05,  1.81s/it]"
     ]
    },
    {
     "name": "stdout",
     "output_type": "stream",
     "text": [
      "Early stopping, best iteration is:\n",
      "[251]\tcv_agg's l2: 0.237589 + 0.0538101\n",
      "[100]\tcv_agg's l2: 0.250858 + 0.0652033\n",
      "[200]\tcv_agg's l2: 0.242377 + 0.0619267\n",
      "[300]\tcv_agg's l2: 0.241508 + 0.0602725\n"
     ]
    },
    {
     "name": "stderr",
     "output_type": "stream",
     "text": [
      "bagging, val_score: 0.237589:  80%|##########################################4          | 8/10 [00:14<00:03,  1.77s/it][I 2023-11-05 12:43:19,914] Trial 34 finished with value: 0.24203148513540157 and parameters: {'bagging_fraction': 0.9942004899611832, 'bagging_freq': 6}. Best is trial 27 with value: 0.23758889823342347.\n",
      "bagging, val_score: 0.237589:  80%|##########################################4          | 8/10 [00:14<00:03,  1.77s/it]"
     ]
    },
    {
     "name": "stdout",
     "output_type": "stream",
     "text": [
      "Early stopping, best iteration is:\n",
      "[251]\tcv_agg's l2: 0.237589 + 0.0538101\n",
      "[100]\tcv_agg's l2: 0.260298 + 0.05999\n",
      "[200]\tcv_agg's l2: 0.255639 + 0.0573603\n",
      "[300]\tcv_agg's l2: 0.257554 + 0.0548298\n"
     ]
    },
    {
     "name": "stderr",
     "output_type": "stream",
     "text": [
      "bagging, val_score: 0.237589:  90%|###############################################7     | 9/10 [00:16<00:01,  1.77s/it][I 2023-11-05 12:43:21,666] Trial 35 finished with value: 0.2572040703644904 and parameters: {'bagging_fraction': 0.8161175982474159, 'bagging_freq': 7}. Best is trial 27 with value: 0.23758889823342347.\n",
      "bagging, val_score: 0.237589:  90%|###############################################7     | 9/10 [00:16<00:01,  1.77s/it]"
     ]
    },
    {
     "name": "stdout",
     "output_type": "stream",
     "text": [
      "Early stopping, best iteration is:\n",
      "[251]\tcv_agg's l2: 0.237589 + 0.0538101\n",
      "[100]\tcv_agg's l2: 0.272517 + 0.0517856\n",
      "[200]\tcv_agg's l2: 0.263266 + 0.0519439\n",
      "[300]\tcv_agg's l2: 0.258641 + 0.0494925\n"
     ]
    },
    {
     "name": "stderr",
     "output_type": "stream",
     "text": [
      "bagging, val_score: 0.237589: 100%|####################################################| 10/10 [00:17<00:00,  1.75s/it][I 2023-11-05 12:43:23,382] Trial 36 finished with value: 0.2585541043596472 and parameters: {'bagging_fraction': 0.611290990383151, 'bagging_freq': 5}. Best is trial 27 with value: 0.23758889823342347.\n",
      "bagging, val_score: 0.237589: 100%|####################################################| 10/10 [00:17<00:00,  1.79s/it]\n"
     ]
    },
    {
     "name": "stdout",
     "output_type": "stream",
     "text": [
      "Early stopping, best iteration is:\n",
      "[251]\tcv_agg's l2: 0.237589 + 0.0538101\n"
     ]
    },
    {
     "name": "stderr",
     "output_type": "stream",
     "text": [
      "feature_fraction_stage2, val_score: 0.237589:   0%|                                              | 0/6 [00:00<?, ?it/s]"
     ]
    },
    {
     "name": "stdout",
     "output_type": "stream",
     "text": [
      "[100]\tcv_agg's l2: 0.243268 + 0.0609296\n",
      "[200]\tcv_agg's l2: 0.236776 + 0.0593263\n",
      "[300]\tcv_agg's l2: 0.23589 + 0.0590016\n"
     ]
    },
    {
     "name": "stderr",
     "output_type": "stream",
     "text": [
      "feature_fraction_stage2, val_score: 0.235188:  17%|######3                               | 1/6 [00:01<00:09,  1.82s/it][I 2023-11-05 12:43:25,206] Trial 37 finished with value: 0.23518758616924665 and parameters: {'feature_fraction': 0.9799999999999999}. Best is trial 37 with value: 0.23518758616924665.\n",
      "feature_fraction_stage2, val_score: 0.235188:  17%|######3                               | 1/6 [00:01<00:09,  1.82s/it]"
     ]
    },
    {
     "name": "stdout",
     "output_type": "stream",
     "text": [
      "Early stopping, best iteration is:\n",
      "[255]\tcv_agg's l2: 0.235188 + 0.0596507\n",
      "[100]\tcv_agg's l2: 0.243859 + 0.061012\n",
      "[200]\tcv_agg's l2: 0.239006 + 0.0563044\n",
      "[300]\tcv_agg's l2: 0.238532 + 0.053095\n"
     ]
    },
    {
     "name": "stderr",
     "output_type": "stream",
     "text": [
      "feature_fraction_stage2, val_score: 0.235188:  33%|############6                         | 2/6 [00:03<00:07,  1.85s/it][I 2023-11-05 12:43:27,073] Trial 38 finished with value: 0.23763460014853716 and parameters: {'feature_fraction': 0.82}. Best is trial 37 with value: 0.23518758616924665.\n",
      "feature_fraction_stage2, val_score: 0.235188:  33%|############6                         | 2/6 [00:03<00:07,  1.85s/it]"
     ]
    },
    {
     "name": "stdout",
     "output_type": "stream",
     "text": [
      "Early stopping, best iteration is:\n",
      "[255]\tcv_agg's l2: 0.235188 + 0.0596507\n",
      "[100]\tcv_agg's l2: 0.243859 + 0.061012\n",
      "[200]\tcv_agg's l2: 0.239006 + 0.0563044\n",
      "[300]\tcv_agg's l2: 0.238532 + 0.053095\n"
     ]
    },
    {
     "name": "stderr",
     "output_type": "stream",
     "text": [
      "feature_fraction_stage2, val_score: 0.235188:  50%|###################                   | 3/6 [00:05<00:05,  1.81s/it][I 2023-11-05 12:43:28,844] Trial 39 finished with value: 0.23763460014853716 and parameters: {'feature_fraction': 0.9159999999999999}. Best is trial 37 with value: 0.23518758616924665.\n",
      "feature_fraction_stage2, val_score: 0.235188:  50%|###################                   | 3/6 [00:05<00:05,  1.81s/it]"
     ]
    },
    {
     "name": "stdout",
     "output_type": "stream",
     "text": [
      "Early stopping, best iteration is:\n",
      "[255]\tcv_agg's l2: 0.235188 + 0.0596507\n",
      "[100]\tcv_agg's l2: 0.243859 + 0.061012\n",
      "[200]\tcv_agg's l2: 0.239006 + 0.0563044\n",
      "[300]\tcv_agg's l2: 0.238532 + 0.053095\n"
     ]
    },
    {
     "name": "stderr",
     "output_type": "stream",
     "text": [
      "feature_fraction_stage2, val_score: 0.235188:  67%|#########################3            | 4/6 [00:07<00:03,  1.81s/it][I 2023-11-05 12:43:30,652] Trial 40 finished with value: 0.23763460014853716 and parameters: {'feature_fraction': 0.852}. Best is trial 37 with value: 0.23518758616924665.\n",
      "feature_fraction_stage2, val_score: 0.235188:  67%|#########################3            | 4/6 [00:07<00:03,  1.81s/it]"
     ]
    },
    {
     "name": "stdout",
     "output_type": "stream",
     "text": [
      "Early stopping, best iteration is:\n",
      "[255]\tcv_agg's l2: 0.235188 + 0.0596507\n",
      "[100]\tcv_agg's l2: 0.243859 + 0.061012\n",
      "[200]\tcv_agg's l2: 0.239006 + 0.0563044\n",
      "[300]\tcv_agg's l2: 0.238532 + 0.053095\n"
     ]
    },
    {
     "name": "stderr",
     "output_type": "stream",
     "text": [
      "feature_fraction_stage2, val_score: 0.235188:  83%|###############################6      | 5/6 [00:09<00:01,  1.80s/it][I 2023-11-05 12:43:32,426] Trial 41 finished with value: 0.23763460014853716 and parameters: {'feature_fraction': 0.8839999999999999}. Best is trial 37 with value: 0.23518758616924665.\n",
      "feature_fraction_stage2, val_score: 0.235188:  83%|###############################6      | 5/6 [00:09<00:01,  1.80s/it]"
     ]
    },
    {
     "name": "stdout",
     "output_type": "stream",
     "text": [
      "Early stopping, best iteration is:\n",
      "[255]\tcv_agg's l2: 0.235188 + 0.0596507\n",
      "[100]\tcv_agg's l2: 0.243268 + 0.0609296\n",
      "[200]\tcv_agg's l2: 0.236776 + 0.0593263\n",
      "[300]\tcv_agg's l2: 0.23589 + 0.0590016\n"
     ]
    },
    {
     "name": "stderr",
     "output_type": "stream",
     "text": [
      "feature_fraction_stage2, val_score: 0.235188: 100%|######################################| 6/6 [00:10<00:00,  1.78s/it][I 2023-11-05 12:43:34,169] Trial 42 finished with value: 0.23518758616924665 and parameters: {'feature_fraction': 0.948}. Best is trial 37 with value: 0.23518758616924665.\n",
      "feature_fraction_stage2, val_score: 0.235188: 100%|######################################| 6/6 [00:10<00:00,  1.80s/it]\n"
     ]
    },
    {
     "name": "stdout",
     "output_type": "stream",
     "text": [
      "Early stopping, best iteration is:\n",
      "[255]\tcv_agg's l2: 0.235188 + 0.0596507\n"
     ]
    },
    {
     "name": "stderr",
     "output_type": "stream",
     "text": [
      "regularization_factors, val_score: 0.235188:   0%|                                              | 0/20 [00:00<?, ?it/s]"
     ]
    },
    {
     "name": "stdout",
     "output_type": "stream",
     "text": [
      "[100]\tcv_agg's l2: 0.249466 + 0.0560184\n",
      "[200]\tcv_agg's l2: 0.24349 + 0.0543023\n",
      "[300]\tcv_agg's l2: 0.241033 + 0.0520085\n"
     ]
    },
    {
     "name": "stderr",
     "output_type": "stream",
     "text": [
      "regularization_factors, val_score: 0.235188:   5%|#9                                    | 1/20 [00:01<00:34,  1.79s/it][I 2023-11-05 12:43:35,968] Trial 43 finished with value: 0.24145693881198754 and parameters: {'lambda_l1': 2.3120025349977364e-08, 'lambda_l2': 5.867638205617967}. Best is trial 43 with value: 0.24145693881198754.\n",
      "regularization_factors, val_score: 0.235188:   5%|#9                                    | 1/20 [00:01<00:34,  1.79s/it]"
     ]
    },
    {
     "name": "stdout",
     "output_type": "stream",
     "text": [
      "Early stopping, best iteration is:\n",
      "[255]\tcv_agg's l2: 0.235188 + 0.0596507\n",
      "[100]\tcv_agg's l2: 0.259256 + 0.0624894\n",
      "[200]\tcv_agg's l2: 0.255216 + 0.0619048\n"
     ]
    },
    {
     "name": "stderr",
     "output_type": "stream",
     "text": [
      "\r",
      "regularization_factors, val_score: 0.235188:   5%|#9                                    | 1/20 [00:03<00:34,  1.79s/it]"
     ]
    },
    {
     "name": "stdout",
     "output_type": "stream",
     "text": [
      "[300]\tcv_agg's l2: 0.254194 + 0.0618867\n",
      "Early stopping, best iteration is:\n",
      "[255]\tcv_agg's l2: 0.235188 + 0.0596507\n"
     ]
    },
    {
     "name": "stderr",
     "output_type": "stream",
     "text": [
      "regularization_factors, val_score: 0.235188:  10%|###8                                  | 2/20 [00:03<00:30,  1.68s/it][I 2023-11-05 12:43:37,575] Trial 44 finished with value: 0.25477300376982087 and parameters: {'lambda_l1': 4.146878794781481, 'lambda_l2': 3.276522680140884e-08}. Best is trial 43 with value: 0.24145693881198754.\n",
      "regularization_factors, val_score: 0.235188:  10%|###8                                  | 2/20 [00:03<00:30,  1.68s/it]"
     ]
    },
    {
     "name": "stdout",
     "output_type": "stream",
     "text": [
      "[100]\tcv_agg's l2: 0.243208 + 0.0609504\n",
      "[200]\tcv_agg's l2: 0.236073 + 0.0585467\n",
      "[300]\tcv_agg's l2: 0.236814 + 0.0585493\n"
     ]
    },
    {
     "name": "stderr",
     "output_type": "stream",
     "text": [
      "regularization_factors, val_score: 0.235002:  15%|#####7                                | 3/20 [00:05<00:30,  1.82s/it][I 2023-11-05 12:43:39,556] Trial 45 finished with value: 0.2350021080095699 and parameters: {'lambda_l1': 0.000342396138680475, 'lambda_l2': 0.00044727191283070974}. Best is trial 45 with value: 0.2350021080095699.\n",
      "regularization_factors, val_score: 0.235002:  15%|#####7                                | 3/20 [00:05<00:30,  1.82s/it]"
     ]
    },
    {
     "name": "stdout",
     "output_type": "stream",
     "text": [
      "Early stopping, best iteration is:\n",
      "[255]\tcv_agg's l2: 0.235002 + 0.0584452\n",
      "[100]\tcv_agg's l2: 0.243208 + 0.0609508\n",
      "[200]\tcv_agg's l2: 0.236159 + 0.0584332\n",
      "[300]\tcv_agg's l2: 0.236734 + 0.0576744\n"
     ]
    },
    {
     "name": "stderr",
     "output_type": "stream",
     "text": [
      "regularization_factors, val_score: 0.235002:  20%|#######6                              | 4/20 [00:07<00:29,  1.86s/it][I 2023-11-05 12:43:41,479] Trial 46 finished with value: 0.2355027302801147 and parameters: {'lambda_l1': 0.0007190760803166308, 'lambda_l2': 0.0006125803293604333}. Best is trial 45 with value: 0.2350021080095699.\n",
      "regularization_factors, val_score: 0.235002:  20%|#######6                              | 4/20 [00:07<00:29,  1.86s/it]"
     ]
    },
    {
     "name": "stdout",
     "output_type": "stream",
     "text": [
      "Early stopping, best iteration is:\n",
      "[255]\tcv_agg's l2: 0.235002 + 0.0584452\n",
      "[100]\tcv_agg's l2: 0.243208 + 0.0609505\n",
      "[200]\tcv_agg's l2: 0.236073 + 0.0585467\n",
      "[300]\tcv_agg's l2: 0.236503 + 0.0589212\n"
     ]
    },
    {
     "name": "stderr",
     "output_type": "stream",
     "text": [
      "regularization_factors, val_score: 0.235002:  25%|#########5                            | 5/20 [00:09<00:27,  1.85s/it][I 2023-11-05 12:43:43,324] Trial 47 finished with value: 0.23500205412351255 and parameters: {'lambda_l1': 0.00036860573969347405, 'lambda_l2': 0.0005081804663539265}. Best is trial 47 with value: 0.23500205412351255.\n",
      "regularization_factors, val_score: 0.235002:  25%|#########5                            | 5/20 [00:09<00:27,  1.85s/it]"
     ]
    },
    {
     "name": "stdout",
     "output_type": "stream",
     "text": [
      "Early stopping, best iteration is:\n",
      "[255]\tcv_agg's l2: 0.235002 + 0.0584452\n",
      "[100]\tcv_agg's l2: 0.243208 + 0.0609503\n",
      "[200]\tcv_agg's l2: 0.236073 + 0.0585466\n",
      "[300]\tcv_agg's l2: 0.236815 + 0.0585493\n"
     ]
    },
    {
     "name": "stderr",
     "output_type": "stream",
     "text": [
      "regularization_factors, val_score: 0.235002:  30%|###########4                          | 6/20 [00:10<00:25,  1.83s/it][I 2023-11-05 12:43:45,100] Trial 48 finished with value: 0.23500207157767927 and parameters: {'lambda_l1': 0.00027184472637245284, 'lambda_l2': 0.0006107732682977767}. Best is trial 47 with value: 0.23500205412351255.\n",
      "regularization_factors, val_score: 0.235002:  30%|###########4                          | 6/20 [00:10<00:25,  1.83s/it]"
     ]
    },
    {
     "name": "stdout",
     "output_type": "stream",
     "text": [
      "Early stopping, best iteration is:\n",
      "[255]\tcv_agg's l2: 0.235002 + 0.0584452\n",
      "[100]\tcv_agg's l2: 0.243207 + 0.0609502\n",
      "[200]\tcv_agg's l2: 0.236072 + 0.0585465\n",
      "[300]\tcv_agg's l2: 0.236814 + 0.0585492\n"
     ]
    },
    {
     "name": "stderr",
     "output_type": "stream",
     "text": [
      "regularization_factors, val_score: 0.235002:  35%|#############3                        | 7/20 [00:12<00:24,  1.87s/it][I 2023-11-05 12:43:47,072] Trial 49 finished with value: 0.23500183262712104 and parameters: {'lambda_l1': 0.00026383623852109327, 'lambda_l2': 0.0010530329299793164}. Best is trial 49 with value: 0.23500183262712104.\n",
      "regularization_factors, val_score: 0.235002:  35%|#############3                        | 7/20 [00:12<00:24,  1.87s/it]"
     ]
    },
    {
     "name": "stdout",
     "output_type": "stream",
     "text": [
      "Early stopping, best iteration is:\n",
      "[255]\tcv_agg's l2: 0.235002 + 0.058445\n",
      "[100]\tcv_agg's l2: 0.243208 + 0.0609504\n",
      "[200]\tcv_agg's l2: 0.236073 + 0.0585467\n",
      "[300]\tcv_agg's l2: 0.236503 + 0.0589212\n"
     ]
    },
    {
     "name": "stderr",
     "output_type": "stream",
     "text": [
      "regularization_factors, val_score: 0.235002:  40%|###############2                      | 8/20 [00:14<00:22,  1.88s/it][I 2023-11-05 12:43:48,973] Trial 50 finished with value: 0.23500203493484645 and parameters: {'lambda_l1': 0.0003588057934031697, 'lambda_l2': 0.0005560664580220001}. Best is trial 49 with value: 0.23500183262712104.\n",
      "regularization_factors, val_score: 0.235002:  40%|###############2                      | 8/20 [00:14<00:22,  1.88s/it]"
     ]
    },
    {
     "name": "stdout",
     "output_type": "stream",
     "text": [
      "Early stopping, best iteration is:\n",
      "[255]\tcv_agg's l2: 0.235002 + 0.058445\n",
      "[100]\tcv_agg's l2: 0.243208 + 0.0609504\n",
      "[200]\tcv_agg's l2: 0.236073 + 0.0585466\n",
      "[300]\tcv_agg's l2: 0.236814 + 0.0585493\n"
     ]
    },
    {
     "name": "stderr",
     "output_type": "stream",
     "text": [
      "regularization_factors, val_score: 0.235002:  45%|#################1                    | 9/20 [00:16<00:21,  1.94s/it][I 2023-11-05 12:43:51,034] Trial 51 finished with value: 0.23500205200690102 and parameters: {'lambda_l1': 0.0002960846051958225, 'lambda_l2': 0.0006121352197063426}. Best is trial 49 with value: 0.23500183262712104.\n",
      "regularization_factors, val_score: 0.235002:  45%|#################1                    | 9/20 [00:16<00:21,  1.94s/it]"
     ]
    },
    {
     "name": "stdout",
     "output_type": "stream",
     "text": [
      "Early stopping, best iteration is:\n",
      "[255]\tcv_agg's l2: 0.235002 + 0.058445\n",
      "[100]\tcv_agg's l2: 0.243208 + 0.0609503\n",
      "[200]\tcv_agg's l2: 0.236073 + 0.0585465\n",
      "[300]\tcv_agg's l2: 0.236815 + 0.0585492\n"
     ]
    },
    {
     "name": "stderr",
     "output_type": "stream",
     "text": [
      "regularization_factors, val_score: 0.235002:  50%|##################5                  | 10/20 [00:18<00:19,  1.91s/it][I 2023-11-05 12:43:52,880] Trial 52 finished with value: 0.23500204644822392 and parameters: {'lambda_l1': 0.00027165329455668184, 'lambda_l2': 0.0006566541300840128}. Best is trial 49 with value: 0.23500183262712104.\n",
      "regularization_factors, val_score: 0.235002:  50%|##################5                  | 10/20 [00:18<00:19,  1.91s/it]"
     ]
    },
    {
     "name": "stdout",
     "output_type": "stream",
     "text": [
      "Early stopping, best iteration is:\n",
      "[255]\tcv_agg's l2: 0.235002 + 0.058445\n",
      "[100]\tcv_agg's l2: 0.243208 + 0.0609503\n",
      "[200]\tcv_agg's l2: 0.236072 + 0.0585466\n",
      "[300]\tcv_agg's l2: 0.236814 + 0.0585492\n"
     ]
    },
    {
     "name": "stderr",
     "output_type": "stream",
     "text": [
      "regularization_factors, val_score: 0.235002:  55%|####################3                | 11/20 [00:20<00:16,  1.88s/it][I 2023-11-05 12:43:54,692] Trial 53 finished with value: 0.23500197973772896 and parameters: {'lambda_l1': 0.0002911519225687454, 'lambda_l2': 0.0007492741366903633}. Best is trial 49 with value: 0.23500183262712104.\n",
      "regularization_factors, val_score: 0.235002:  55%|####################3                | 11/20 [00:20<00:16,  1.88s/it]"
     ]
    },
    {
     "name": "stdout",
     "output_type": "stream",
     "text": [
      "Early stopping, best iteration is:\n",
      "[255]\tcv_agg's l2: 0.235002 + 0.058445\n",
      "[100]\tcv_agg's l2: 0.243207 + 0.0609503\n",
      "[200]\tcv_agg's l2: 0.236072 + 0.0585465\n",
      "[300]\tcv_agg's l2: 0.236814 + 0.0585492\n"
     ]
    },
    {
     "name": "stderr",
     "output_type": "stream",
     "text": [
      "regularization_factors, val_score: 0.235002:  60%|######################2              | 12/20 [00:22<00:14,  1.85s/it][I 2023-11-05 12:43:56,471] Trial 54 finished with value: 0.2350019469287349 and parameters: {'lambda_l1': 0.00026225255799467643, 'lambda_l2': 0.0008478875982424707}. Best is trial 49 with value: 0.23500183262712104.\n",
      "regularization_factors, val_score: 0.235002:  60%|######################2              | 12/20 [00:22<00:14,  1.85s/it]"
     ]
    },
    {
     "name": "stdout",
     "output_type": "stream",
     "text": [
      "Early stopping, best iteration is:\n",
      "[255]\tcv_agg's l2: 0.235002 + 0.058445\n",
      "[100]\tcv_agg's l2: 0.243208 + 0.0609505\n",
      "[200]\tcv_agg's l2: 0.236658 + 0.0583691\n",
      "[300]\tcv_agg's l2: 0.236584 + 0.0589007\n"
     ]
    },
    {
     "name": "stderr",
     "output_type": "stream",
     "text": [
      "regularization_factors, val_score: 0.235002:  65%|########################             | 13/20 [00:24<00:12,  1.83s/it][I 2023-11-05 12:43:58,262] Trial 55 finished with value: 0.23553805075813142 and parameters: {'lambda_l1': 0.0004937570015458846, 'lambda_l2': 0.0009809883898181566}. Best is trial 49 with value: 0.23500183262712104.\n",
      "regularization_factors, val_score: 0.235002:  65%|########################             | 13/20 [00:24<00:12,  1.83s/it]"
     ]
    },
    {
     "name": "stdout",
     "output_type": "stream",
     "text": [
      "Early stopping, best iteration is:\n",
      "[255]\tcv_agg's l2: 0.235002 + 0.058445\n",
      "[100]\tcv_agg's l2: 0.243207 + 0.0609501\n",
      "[200]\tcv_agg's l2: 0.236072 + 0.0585463\n",
      "[300]\tcv_agg's l2: 0.236814 + 0.0585491\n"
     ]
    },
    {
     "name": "stderr",
     "output_type": "stream",
     "text": [
      "regularization_factors, val_score: 0.235002:  70%|#########################9           | 14/20 [00:25<00:10,  1.82s/it][I 2023-11-05 12:44:00,041] Trial 56 finished with value: 0.235001586501908 and parameters: {'lambda_l1': 0.00020278433747537158, 'lambda_l2': 0.001580341009540121}. Best is trial 56 with value: 0.235001586501908.\n",
      "regularization_factors, val_score: 0.235002:  70%|#########################9           | 14/20 [00:25<00:10,  1.82s/it]"
     ]
    },
    {
     "name": "stdout",
     "output_type": "stream",
     "text": [
      "Early stopping, best iteration is:\n",
      "[255]\tcv_agg's l2: 0.235002 + 0.0584449\n",
      "[100]\tcv_agg's l2: 0.245407 + 0.0603492\n",
      "[200]\tcv_agg's l2: 0.23984 + 0.05723\n",
      "[300]\tcv_agg's l2: 0.240487 + 0.057994\n"
     ]
    },
    {
     "name": "stderr",
     "output_type": "stream",
     "text": [
      "regularization_factors, val_score: 0.235002:  75%|###########################7         | 15/20 [00:27<00:09,  1.81s/it][I 2023-11-05 12:44:01,832] Trial 57 finished with value: 0.2397153022504209 and parameters: {'lambda_l1': 8.980703751857093e-05, 'lambda_l2': 0.0033933908376873995}. Best is trial 56 with value: 0.235001586501908.\n",
      "regularization_factors, val_score: 0.235002:  75%|###########################7         | 15/20 [00:27<00:09,  1.81s/it]"
     ]
    },
    {
     "name": "stdout",
     "output_type": "stream",
     "text": [
      "Early stopping, best iteration is:\n",
      "[255]\tcv_agg's l2: 0.235002 + 0.0584449\n",
      "[100]\tcv_agg's l2: 0.246385 + 0.0622108\n",
      "[200]\tcv_agg's l2: 0.241592 + 0.060769\n",
      "[300]\tcv_agg's l2: 0.241936 + 0.0610859\n"
     ]
    },
    {
     "name": "stderr",
     "output_type": "stream",
     "text": [
      "regularization_factors, val_score: 0.235002:  80%|#############################6       | 16/20 [00:29<00:07,  1.85s/it][I 2023-11-05 12:44:03,789] Trial 58 finished with value: 0.24073342217010527 and parameters: {'lambda_l1': 6.662229651176787e-05, 'lambda_l2': 0.007568883795539653}. Best is trial 56 with value: 0.235001586501908.\n",
      "regularization_factors, val_score: 0.235002:  80%|#############################6       | 16/20 [00:29<00:07,  1.85s/it]"
     ]
    },
    {
     "name": "stdout",
     "output_type": "stream",
     "text": [
      "Early stopping, best iteration is:\n",
      "[255]\tcv_agg's l2: 0.235002 + 0.0584449\n",
      "[100]\tcv_agg's l2: 0.243269 + 0.0609296\n",
      "[200]\tcv_agg's l2: 0.236776 + 0.0593264\n",
      "[300]\tcv_agg's l2: 0.236406 + 0.0583846\n"
     ]
    },
    {
     "name": "stderr",
     "output_type": "stream",
     "text": [
      "regularization_factors, val_score: 0.235002:  85%|###############################4     | 17/20 [00:31<00:05,  1.88s/it][I 2023-11-05 12:44:05,745] Trial 59 finished with value: 0.23529783461702108 and parameters: {'lambda_l1': 4.956342349856716e-05, 'lambda_l2': 4.29109752774441e-05}. Best is trial 56 with value: 0.235001586501908.\n",
      "regularization_factors, val_score: 0.235002:  85%|###############################4     | 17/20 [00:31<00:05,  1.88s/it]"
     ]
    },
    {
     "name": "stdout",
     "output_type": "stream",
     "text": [
      "Early stopping, best iteration is:\n",
      "[255]\tcv_agg's l2: 0.235002 + 0.0584449\n",
      "[100]\tcv_agg's l2: 0.246421 + 0.06007\n",
      "[200]\tcv_agg's l2: 0.24268 + 0.0598525\n",
      "[300]\tcv_agg's l2: 0.24247 + 0.0580701\n"
     ]
    },
    {
     "name": "stderr",
     "output_type": "stream",
     "text": [
      "regularization_factors, val_score: 0.235002:  90%|#################################3   | 18/20 [00:33<00:03,  1.94s/it][I 2023-11-05 12:44:07,809] Trial 60 finished with value: 0.24161864721241116 and parameters: {'lambda_l1': 0.003315476247361218, 'lambda_l2': 0.008410974004900878}. Best is trial 56 with value: 0.235001586501908.\n",
      "regularization_factors, val_score: 0.235002:  90%|#################################3   | 18/20 [00:33<00:03,  1.94s/it]"
     ]
    },
    {
     "name": "stdout",
     "output_type": "stream",
     "text": [
      "Early stopping, best iteration is:\n",
      "[255]\tcv_agg's l2: 0.235002 + 0.0584449\n",
      "[100]\tcv_agg's l2: 0.242852 + 0.0602619\n",
      "[200]\tcv_agg's l2: 0.238442 + 0.0595356\n",
      "[300]\tcv_agg's l2: 0.23743 + 0.0585858\n"
     ]
    },
    {
     "name": "stderr",
     "output_type": "stream",
     "text": [
      "regularization_factors, val_score: 0.235002:  95%|###################################1 | 19/20 [00:36<00:02,  2.25s/it][I 2023-11-05 12:44:10,775] Trial 61 finished with value: 0.23811054942585247 and parameters: {'lambda_l1': 0.001211810183261925, 'lambda_l2': 0.00013075547824728122}. Best is trial 56 with value: 0.235001586501908.\n",
      "regularization_factors, val_score: 0.235002:  95%|###################################1 | 19/20 [00:36<00:02,  2.25s/it]"
     ]
    },
    {
     "name": "stdout",
     "output_type": "stream",
     "text": [
      "Early stopping, best iteration is:\n",
      "[255]\tcv_agg's l2: 0.235002 + 0.0584449\n",
      "[100]\tcv_agg's l2: 0.245043 + 0.0607077\n",
      "[200]\tcv_agg's l2: 0.23835 + 0.0584946\n",
      "[300]\tcv_agg's l2: 0.240256 + 0.0584354\n"
     ]
    },
    {
     "name": "stderr",
     "output_type": "stream",
     "text": [
      "regularization_factors, val_score: 0.235002: 100%|#####################################| 20/20 [00:39<00:00,  2.35s/it][I 2023-11-05 12:44:13,365] Trial 62 finished with value: 0.23800901888510792 and parameters: {'lambda_l1': 5.22686212554626e-05, 'lambda_l2': 0.002305578626337754}. Best is trial 56 with value: 0.235001586501908.\n",
      "regularization_factors, val_score: 0.235002: 100%|#####################################| 20/20 [00:39<00:00,  1.96s/it]\n"
     ]
    },
    {
     "name": "stdout",
     "output_type": "stream",
     "text": [
      "Early stopping, best iteration is:\n",
      "[255]\tcv_agg's l2: 0.235002 + 0.0584449\n"
     ]
    },
    {
     "name": "stderr",
     "output_type": "stream",
     "text": [
      "min_data_in_leaf, val_score: 0.235002:   0%|                                                     | 0/5 [00:00<?, ?it/s]"
     ]
    },
    {
     "name": "stdout",
     "output_type": "stream",
     "text": [
      "[100]\tcv_agg's l2: 0.842479 + 0.0603989\n",
      "[200]\tcv_agg's l2: 0.809987 + 0.0713277\n",
      "[300]\tcv_agg's l2: 0.792807 + 0.0762008\n"
     ]
    },
    {
     "name": "stderr",
     "output_type": "stream",
     "text": [
      "min_data_in_leaf, val_score: 0.235002:  20%|#########                                    | 1/5 [00:01<00:06,  1.73s/it][I 2023-11-05 12:44:15,106] Trial 63 finished with value: 0.797495905444349 and parameters: {'min_child_samples': 100}. Best is trial 63 with value: 0.797495905444349.\n",
      "min_data_in_leaf, val_score: 0.235002:  20%|#########                                    | 1/5 [00:01<00:06,  1.73s/it]"
     ]
    },
    {
     "name": "stdout",
     "output_type": "stream",
     "text": [
      "Early stopping, best iteration is:\n",
      "[255]\tcv_agg's l2: 0.235002 + 0.0584449\n",
      "[100]\tcv_agg's l2: 0.335844 + 0.0744422\n",
      "[200]\tcv_agg's l2: 0.330989 + 0.0730314\n",
      "[300]\tcv_agg's l2: 0.331988 + 0.0708784\n"
     ]
    },
    {
     "name": "stderr",
     "output_type": "stream",
     "text": [
      "min_data_in_leaf, val_score: 0.235002:  40%|##################                           | 2/5 [00:03<00:05,  1.88s/it][I 2023-11-05 12:44:17,081] Trial 64 finished with value: 0.3315445009405081 and parameters: {'min_child_samples': 50}. Best is trial 64 with value: 0.3315445009405081.\n",
      "min_data_in_leaf, val_score: 0.235002:  40%|##################                           | 2/5 [00:03<00:05,  1.88s/it]"
     ]
    },
    {
     "name": "stdout",
     "output_type": "stream",
     "text": [
      "Early stopping, best iteration is:\n",
      "[255]\tcv_agg's l2: 0.235002 + 0.0584449\n",
      "[100]\tcv_agg's l2: 0.227076 + 0.0588067\n",
      "[200]\tcv_agg's l2: 0.219031 + 0.055065\n",
      "[300]\tcv_agg's l2: 0.217249 + 0.0524465\n"
     ]
    },
    {
     "name": "stderr",
     "output_type": "stream",
     "text": [
      "min_data_in_leaf, val_score: 0.216179:  60%|###########################                  | 3/5 [00:06<00:04,  2.15s/it][I 2023-11-05 12:44:19,567] Trial 65 finished with value: 0.21617946864577023 and parameters: {'min_child_samples': 5}. Best is trial 65 with value: 0.21617946864577023.\n",
      "min_data_in_leaf, val_score: 0.216179:  60%|###########################                  | 3/5 [00:06<00:04,  2.15s/it]"
     ]
    },
    {
     "name": "stdout",
     "output_type": "stream",
     "text": [
      "[400]\tcv_agg's l2: 0.217525 + 0.0496552\n",
      "Early stopping, best iteration is:\n",
      "[328]\tcv_agg's l2: 0.216179 + 0.0503731\n",
      "[100]\tcv_agg's l2: 0.230437 + 0.0599331\n",
      "[200]\tcv_agg's l2: 0.228286 + 0.0584276\n",
      "[300]\tcv_agg's l2: 0.227571 + 0.0554854\n"
     ]
    },
    {
     "name": "stderr",
     "output_type": "stream",
     "text": [
      "min_data_in_leaf, val_score: 0.216179:  80%|####################################         | 4/5 [00:08<00:02,  2.24s/it][I 2023-11-05 12:44:21,943] Trial 66 finished with value: 0.2274683245440944 and parameters: {'min_child_samples': 10}. Best is trial 65 with value: 0.21617946864577023.\n",
      "min_data_in_leaf, val_score: 0.216179:  80%|####################################         | 4/5 [00:08<00:02,  2.24s/it]"
     ]
    },
    {
     "name": "stdout",
     "output_type": "stream",
     "text": [
      "[400]\tcv_agg's l2: 0.227576 + 0.0542774\n",
      "Early stopping, best iteration is:\n",
      "[328]\tcv_agg's l2: 0.216179 + 0.0503731\n",
      "[100]\tcv_agg's l2: 0.266075 + 0.0624023\n",
      "[200]\tcv_agg's l2: 0.262197 + 0.0619863\n",
      "[300]\tcv_agg's l2: 0.260346 + 0.0612717\n"
     ]
    },
    {
     "name": "stderr",
     "output_type": "stream",
     "text": [
      "min_data_in_leaf, val_score: 0.216179: 100%|#############################################| 5/5 [00:11<00:00,  2.36s/it][I 2023-11-05 12:44:24,499] Trial 67 finished with value: 0.2608269023437505 and parameters: {'min_child_samples': 25}. Best is trial 65 with value: 0.21617946864577023.\n",
      "min_data_in_leaf, val_score: 0.216179: 100%|#############################################| 5/5 [00:11<00:00,  2.23s/it]"
     ]
    },
    {
     "name": "stdout",
     "output_type": "stream",
     "text": [
      "[400]\tcv_agg's l2: 0.262558 + 0.0630713\n",
      "Early stopping, best iteration is:\n",
      "[328]\tcv_agg's l2: 0.216179 + 0.0503731\n"
     ]
    },
    {
     "name": "stderr",
     "output_type": "stream",
     "text": [
      "\n"
     ]
    }
   ],
   "source": [
    "import optuna.integration.lightgbm as lgb\n",
    "from lightgbm import early_stopping\n",
    "from sklearn.model_selection import KFold\n",
    "from sklearn.model_selection import RepeatedKFold\n",
    "\n",
    "\n",
    "lgb_train = lgb.Dataset(X_train_random_split, y_train_random_split)\n",
    "\n",
    "params = {\n",
    "    \"boosting_type\": \"gbdt\",\n",
    "    \"objective\": \"regression\",\n",
    "    \"metric\": \"l2\",\n",
    "    \"verbosity\": -1,\n",
    "}\n",
    "\n",
    "tuner = lgb.LightGBMTunerCV(\n",
    "    params,\n",
    "    lgb_train,\n",
    "    folds=KFold(n_splits=5),\n",
    "    num_boost_round=10000,\n",
    "    callbacks=[early_stopping(100), log_evaluation(100)],\n",
    ")\n",
    "\n",
    "tuner.run()"
   ]
  },
  {
   "cell_type": "code",
   "execution_count": 38,
   "id": "0079a348",
   "metadata": {},
   "outputs": [
    {
     "name": "stdout",
     "output_type": "stream",
     "text": [
      "Best score: 0.21617946864577023\n",
      "Params: \n",
      "    boosting_type: gbdt\n",
      "    objective: regression\n",
      "    metric: l2\n",
      "    verbosity: -1\n",
      "    feature_pre_filter: False\n",
      "    lambda_l1: 0.00020278433747537158\n",
      "    lambda_l2: 0.001580341009540121\n",
      "    num_leaves: 8\n",
      "    feature_fraction: 0.9799999999999999\n",
      "    bagging_fraction: 0.9615246764400154\n",
      "    bagging_freq: 1\n",
      "    min_child_samples: 5\n"
     ]
    }
   ],
   "source": [
    "print(f\"Best score: {tuner.best_score}\")\n",
    "best_params = tuner.best_params\n",
    "print(\"Params: \")\n",
    "for key, value in best_params.items():\n",
    "    print(\"    {}: {}\".format(key, value))"
   ]
  },
  {
   "cell_type": "code",
   "execution_count": 39,
   "id": "ee599f57",
   "metadata": {},
   "outputs": [],
   "source": [
    "import lightgbm as lgb\n",
    "\n",
    "lgb_tuned = lgb.train(\n",
    "    best_params,\n",
    "    lgb_train,\n",
    "    num_boost_round=10000,\n",
    ")"
   ]
  },
  {
   "cell_type": "code",
   "execution_count": 40,
   "id": "f18b0204",
   "metadata": {},
   "outputs": [
    {
     "name": "stdout",
     "output_type": "stream",
     "text": [
      "RMSE train: 0.00\n",
      "RMSE test: 0.51\n",
      "MAE test: 0.33\n",
      "\n"
     ]
    }
   ],
   "source": [
    "rmse, mae = assess_regression_model(\n",
    "    lgb_tuned,\n",
    "    X_train_random_split,\n",
    "    X_test_random_split,\n",
    "    y_train_random_split,\n",
    "    y_test_random_split,\n",
    ")"
   ]
  },
  {
   "cell_type": "code",
   "execution_count": 41,
   "id": "13d87eed",
   "metadata": {},
   "outputs": [],
   "source": [
    "results.loc[3] = [\"random\", \"Optuna\", \"basic\", rmse, mae]"
   ]
  },
  {
   "cell_type": "markdown",
   "id": "9d13b101",
   "metadata": {},
   "source": [
    "###### MAE by level"
   ]
  },
  {
   "cell_type": "code",
   "execution_count": 42,
   "id": "91591bcd",
   "metadata": {},
   "outputs": [
    {
     "data": {
      "image/png": "[encoded data removed]",
      "text/plain": [
       "<Figure size 720x432 with 1 Axes>"
      ]
     },
     "metadata": {
      "needs_background": "light"
     },
     "output_type": "display_data"
    }
   ],
   "source": [
    "plot_mae_by_level(\n",
    "    y_test_random_split,\n",
    "    y_pred_test,\n",
    "    title=\"MAE by level for tuned LightGBM with basic features and random split\",\n",
    ")"
   ]
  },
  {
   "cell_type": "code",
   "execution_count": 43,
   "id": "061d7eba",
   "metadata": {},
   "outputs": [
    {
     "name": "stdout",
     "output_type": "stream",
     "text": [
      "Default:\n",
      "RMSE: 0.33\n",
      "\n",
      "Round type: round\n",
      "RMSE: 0.36\n",
      "\n",
      "Round type: 0.33\n",
      "RMSE: 0.37\n",
      "\n",
      "Round type: 0.45\n",
      "RMSE: 0.36\n",
      "\n"
     ]
    }
   ],
   "source": [
    "predict = lgb_tuned.predict(X_test)\n",
    "check_round_predictions([\"round\", 0.33, 0.45], y_test, predict)"
   ]
  },
  {
   "cell_type": "code",
   "execution_count": 44,
   "id": "9d56b725",
   "metadata": {},
   "outputs": [
    {
     "data": {
      "image/png": "[encoded data removed]",
      "text/plain": [
       "<Figure size 432x288 with 2 Axes>"
      ]
     },
     "metadata": {
      "needs_background": "light"
     },
     "output_type": "display_data"
    }
   ],
   "source": [
    "plot_confusion_matrix(\n",
    "    \"round\",\n",
    "    predict,\n",
    "    y_test,\n",
    "    title=\"Confusion matrix for tuned LightGBM with basic features and random split\",\n",
    ")"
   ]
  },
  {
   "cell_type": "markdown",
   "id": "ac941229",
   "metadata": {},
   "source": [
    "## Summary"
   ]
  },
  {
   "cell_type": "code",
   "execution_count": 45,
   "id": "90f5111f",
   "metadata": {
    "scrolled": true
   },
   "outputs": [
    {
     "data": {
      "text/html": [
       "<div>\n",
       "<style scoped>\n",
       "    .dataframe tbody tr th:only-of-type {\n",
       "        vertical-align: middle;\n",
       "    }\n",
       "\n",
       "    .dataframe tbody tr th {\n",
       "        vertical-align: top;\n",
       "    }\n",
       "\n",
       "    .dataframe thead th {\n",
       "        text-align: right;\n",
       "    }\n",
       "</style>\n",
       "<table border=\"1\" class=\"dataframe\">\n",
       "  <thead>\n",
       "    <tr style=\"text-align: right;\">\n",
       "      <th></th>\n",
       "      <th>Split type</th>\n",
       "      <th>Tuning type</th>\n",
       "      <th>Set of features</th>\n",
       "      <th>RMSE</th>\n",
       "      <th>MAE</th>\n",
       "    </tr>\n",
       "  </thead>\n",
       "  <tbody>\n",
       "    <tr>\n",
       "      <th>0</th>\n",
       "      <td>chronological</td>\n",
       "      <td>default</td>\n",
       "      <td>basic</td>\n",
       "      <td>0.669004</td>\n",
       "      <td>0.467604</td>\n",
       "    </tr>\n",
       "    <tr>\n",
       "      <th>1</th>\n",
       "      <td>chronological</td>\n",
       "      <td>Optuna</td>\n",
       "      <td>basic</td>\n",
       "      <td>0.662849</td>\n",
       "      <td>0.469260</td>\n",
       "    </tr>\n",
       "    <tr>\n",
       "      <th>2</th>\n",
       "      <td>random</td>\n",
       "      <td>default</td>\n",
       "      <td>basic</td>\n",
       "      <td>0.492968</td>\n",
       "      <td>0.340495</td>\n",
       "    </tr>\n",
       "    <tr>\n",
       "      <th>3</th>\n",
       "      <td>random</td>\n",
       "      <td>Optuna</td>\n",
       "      <td>basic</td>\n",
       "      <td>0.506014</td>\n",
       "      <td>0.328767</td>\n",
       "    </tr>\n",
       "  </tbody>\n",
       "</table>\n",
       "</div>"
      ],
      "text/plain": [
       "      Split type Tuning type Set of features      RMSE       MAE\n",
       "0  chronological     default           basic  0.669004  0.467604\n",
       "1  chronological      Optuna           basic  0.662849  0.469260\n",
       "2         random     default           basic  0.492968  0.340495\n",
       "3         random      Optuna           basic  0.506014  0.328767"
      ]
     },
     "execution_count": 45,
     "metadata": {},
     "output_type": "execute_result"
    }
   ],
   "source": [
    "results"
   ]
  },
  {
   "cell_type": "code",
   "execution_count": 46,
   "id": "492161ff",
   "metadata": {},
   "outputs": [],
   "source": [
    "from training.results import plot_summary"
   ]
  },
  {
   "cell_type": "code",
   "execution_count": 47,
   "id": "b44fe7c4",
   "metadata": {},
   "outputs": [
    {
     "data": {
      "image/png": "[encoded data removed]",
      "text/plain": [
       "<Figure size 1440x576 with 1 Axes>"
      ]
     },
     "metadata": {
      "needs_background": "light"
     },
     "output_type": "display_data"
    }
   ],
   "source": [
    "plot_summary(results, \"RMSE\", title=\"RMSE for LightGBM with basic features\")"
   ]
  },
  {
   "cell_type": "code",
   "execution_count": 48,
   "id": "d3509e28",
   "metadata": {},
   "outputs": [
    {
     "data": {
      "image/png": "[encoded data removed]",
      "text/plain": [
       "<Figure size 1440x576 with 1 Axes>"
      ]
     },
     "metadata": {
      "needs_background": "light"
     },
     "output_type": "display_data"
    }
   ],
   "source": [
    "plot_summary(results, \"MAE\", title=\"MAE for LightGBM with basic features\")"
   ]
  },
  {
   "cell_type": "code",
   "execution_count": 49,
   "id": "c714119e",
   "metadata": {},
   "outputs": [],
   "source": [
    "results.to_json(\"./lightgbm_basic_results.json\", indent=2)"
   ]
  },
  {
   "cell_type": "code",
   "execution_count": null,
   "id": "a8ce3754",
   "metadata": {},
   "outputs": [],
   "source": []
  }
 ],
 "metadata": {
  "kernelspec": {
   "display_name": "Python 3 (ipykernel)",
   "language": "python",
   "name": "python3"
  },
  "language_info": {
   "codemirror_mode": {
    "name": "ipython",
    "version": 3
   },
   "file_extension": ".py",
   "mimetype": "text/x-python",
   "name": "python",
   "nbconvert_exporter": "python",
   "pygments_lexer": "ipython3",
   "version": "3.10.4"
  }
 },
 "nbformat": 4,
 "nbformat_minor": 5
}
