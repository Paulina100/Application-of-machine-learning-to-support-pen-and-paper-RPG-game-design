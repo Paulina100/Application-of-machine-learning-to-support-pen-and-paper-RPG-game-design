{
 "cells": [
  {
   "cell_type": "markdown",
   "id": "f64a671f",
   "metadata": {},
   "source": [
    "# LightGBM\n",
    "### Parameters:\n",
    "* **abilities**:\n",
    "    * **cha**\n",
    "    * **con**\n",
    "    * **dex**\n",
    "    * **int**\n",
    "    * **str**\n",
    "    * **wis**\n",
    "* **attributes**\n",
    "    * **hp**\n",
    "    * **ac**\n",
    "\n",
    "### Prediction: *level*\n",
    "\n",
    "## Loading data"
   ]
  },
  {
   "cell_type": "code",
   "execution_count": 1,
   "id": "1f2515e7",
   "metadata": {},
   "outputs": [],
   "source": [
    "import numpy as np\n",
    "import pandas as pd\n",
    "import sys\n",
    "\n",
    "import os\n",
    "import pathlib\n",
    "\n",
    "sys.path.append(\"../../..\")\n",
    "from training.creating_dataset import load_and_preprocess_data\n",
    "\n",
    "current_path = os.getcwd()\n",
    "DATASETS_DIR = pathlib.Path(current_path).parent.parent.parent / \"pathfinder_2e_data\"\n",
    "DATASET_FILES = [\n",
    "    \"abomination-vaults-bestiary.db\",\n",
    "    \"age-of-ashes-bestiary.db\",\n",
    "    \"agents-of-edgewatch-bestiary.db\",\n",
    "    \"april-fools-bestiary.db\",\n",
    "    \"blog-bestiary.db\",\n",
    "    \"blood-lords-bestiary.db\",\n",
    "    \"book-of-the-dead-bestiary.db\",\n",
    "    \"crown-of-the-kobold-king-bestiary.db\",\n",
    "    \"extinction-curse-bestiary.db\",\n",
    "    \"fall-of-plaguestone.db\",\n",
    "    \"fists-of-the-ruby-phoenix-bestiary.db\",\n",
    "    \"gatewalkers-bestiary.db\",\n",
    "    \"impossible-lands-bestiary.db\",\n",
    "    \"kingmaker-bestiary.db\",\n",
    "    \"malevolence-bestiary.db\",\n",
    "    \"menace-under-otari-bestiary.db\",\n",
    "    \"monsters-of-myth-bestiary.db\",\n",
    "    \"mwangi-expanse-bestiary.db\",\n",
    "    \"night-of-the-gray-death-bestiary.db\",\n",
    "    \"npc-gallery.db\",\n",
    "    \"one-shot-bestiary.db\",\n",
    "    \"outlaws-of-alkenstar-bestiary.db\",\n",
    "    \"pathfinder-bestiary-2.db\",\n",
    "    \"pathfinder-bestiary-3.db\",\n",
    "    \"pathfinder-bestiary.db\",\n",
    "    \"pathfinder-dark-archive.db\",\n",
    "    \"pfs-introductions-bestiary.db\",\n",
    "    \"pfs-season-1-bestiary.db\",\n",
    "    \"pfs-season-2-bestiary.db\",\n",
    "    \"pfs-season-3-bestiary.db\",\n",
    "    \"pfs-season-4-bestiary.db\",\n",
    "    \"quest-for-the-frozen-flame-bestiary.db\",\n",
    "    \"shadows-at-sundown-bestiary.db\",\n",
    "    \"strength-of-thousands-bestiary.db\",\n",
    "    \"the-slithering-bestiary.db\",\n",
    "    \"travel-guide-bestiary.db\",\n",
    "    \"troubles-in-otari-bestiary.db\",\n",
    "]\n",
    "DATASET_PATHS = [f\"{DATASETS_DIR}/{file}\" for file in DATASET_FILES]\n",
    "features = [\n",
    "    \"cha\",\n",
    "    \"con\",\n",
    "    \"dex\",\n",
    "    \"int\",\n",
    "    \"str\",\n",
    "    \"wis\",\n",
    "    \"ac\",\n",
    "    \"hp\",\n",
    "]\n",
    "\n",
    "df = load_and_preprocess_data(\n",
    "    DATASET_PATHS,\n",
    "    characteristics=features,\n",
    ")"
   ]
  },
  {
   "cell_type": "code",
   "execution_count": 2,
   "id": "b522f880",
   "metadata": {},
   "outputs": [
    {
     "name": "stdout",
     "output_type": "stream",
     "text": [
      "<class 'pandas.core.frame.DataFrame'>\n",
      "Int64Index: 3690 entries, 0 to 4327\n",
      "Data columns (total 10 columns):\n",
      " #   Column  Non-Null Count  Dtype  \n",
      "---  ------  --------------  -----  \n",
      " 0   con     3690 non-null   float64\n",
      " 1   ac      3690 non-null   float64\n",
      " 2   int     3690 non-null   float64\n",
      " 3   dex     3690 non-null   float64\n",
      " 4   level   3690 non-null   int64  \n",
      " 5   book    3690 non-null   object \n",
      " 6   hp      3690 non-null   int32  \n",
      " 7   cha     3690 non-null   float64\n",
      " 8   wis     3690 non-null   float64\n",
      " 9   str     3690 non-null   float64\n",
      "dtypes: float64(7), int32(1), int64(1), object(1)\n",
      "memory usage: 302.7+ KB\n"
     ]
    }
   ],
   "source": [
    "df.info()"
   ]
  },
  {
   "cell_type": "code",
   "execution_count": 3,
   "id": "1b5450d3",
   "metadata": {},
   "outputs": [
    {
     "data": {
      "text/html": [
       "<div>\n",
       "<style scoped>\n",
       "    .dataframe tbody tr th:only-of-type {\n",
       "        vertical-align: middle;\n",
       "    }\n",
       "\n",
       "    .dataframe tbody tr th {\n",
       "        vertical-align: top;\n",
       "    }\n",
       "\n",
       "    .dataframe thead th {\n",
       "        text-align: right;\n",
       "    }\n",
       "</style>\n",
       "<table border=\"1\" class=\"dataframe\">\n",
       "  <thead>\n",
       "    <tr style=\"text-align: right;\">\n",
       "      <th></th>\n",
       "      <th>con</th>\n",
       "      <th>ac</th>\n",
       "      <th>int</th>\n",
       "      <th>dex</th>\n",
       "      <th>level</th>\n",
       "      <th>book</th>\n",
       "      <th>hp</th>\n",
       "      <th>cha</th>\n",
       "      <th>wis</th>\n",
       "      <th>str</th>\n",
       "    </tr>\n",
       "  </thead>\n",
       "  <tbody>\n",
       "    <tr>\n",
       "      <th>0</th>\n",
       "      <td>0.0</td>\n",
       "      <td>28.0</td>\n",
       "      <td>0.0</td>\n",
       "      <td>3.0</td>\n",
       "      <td>9</td>\n",
       "      <td>Pathfinder #165: Eyes of Empty Death</td>\n",
       "      <td>155</td>\n",
       "      <td>0.0</td>\n",
       "      <td>3.0</td>\n",
       "      <td>6.0</td>\n",
       "    </tr>\n",
       "    <tr>\n",
       "      <th>1</th>\n",
       "      <td>6.0</td>\n",
       "      <td>30.0</td>\n",
       "      <td>0.0</td>\n",
       "      <td>3.0</td>\n",
       "      <td>10</td>\n",
       "      <td>Pathfinder Abomination Vaults Hardcover Compil...</td>\n",
       "      <td>175</td>\n",
       "      <td>0.0</td>\n",
       "      <td>3.0</td>\n",
       "      <td>7.0</td>\n",
       "    </tr>\n",
       "    <tr>\n",
       "      <th>2</th>\n",
       "      <td>1.0</td>\n",
       "      <td>17.0</td>\n",
       "      <td>-2.0</td>\n",
       "      <td>3.0</td>\n",
       "      <td>2</td>\n",
       "      <td>Pathfinder #164: Hands of the Devil</td>\n",
       "      <td>38</td>\n",
       "      <td>1.0</td>\n",
       "      <td>3.0</td>\n",
       "      <td>4.0</td>\n",
       "    </tr>\n",
       "    <tr>\n",
       "      <th>3</th>\n",
       "      <td>3.0</td>\n",
       "      <td>27.0</td>\n",
       "      <td>0.0</td>\n",
       "      <td>4.0</td>\n",
       "      <td>8</td>\n",
       "      <td>Pathfinder #164: Hands of the Devil</td>\n",
       "      <td>140</td>\n",
       "      <td>1.0</td>\n",
       "      <td>3.0</td>\n",
       "      <td>3.0</td>\n",
       "    </tr>\n",
       "    <tr>\n",
       "      <th>4</th>\n",
       "      <td>0.0</td>\n",
       "      <td>31.0</td>\n",
       "      <td>2.0</td>\n",
       "      <td>6.0</td>\n",
       "      <td>9</td>\n",
       "      <td>Pathfinder #165: Eyes of Empty Death</td>\n",
       "      <td>90</td>\n",
       "      <td>2.0</td>\n",
       "      <td>4.0</td>\n",
       "      <td>-5.0</td>\n",
       "    </tr>\n",
       "  </tbody>\n",
       "</table>\n",
       "</div>"
      ],
      "text/plain": [
       "   con    ac  int  dex  level  \\\n",
       "0  0.0  28.0  0.0  3.0      9   \n",
       "1  6.0  30.0  0.0  3.0     10   \n",
       "2  1.0  17.0 -2.0  3.0      2   \n",
       "3  3.0  27.0  0.0  4.0      8   \n",
       "4  0.0  31.0  2.0  6.0      9   \n",
       "\n",
       "                                                book   hp  cha  wis  str  \n",
       "0               Pathfinder #165: Eyes of Empty Death  155  0.0  3.0  6.0  \n",
       "1  Pathfinder Abomination Vaults Hardcover Compil...  175  0.0  3.0  7.0  \n",
       "2                Pathfinder #164: Hands of the Devil   38  1.0  3.0  4.0  \n",
       "3                Pathfinder #164: Hands of the Devil  140  1.0  3.0  3.0  \n",
       "4               Pathfinder #165: Eyes of Empty Death   90  2.0  4.0 -5.0  "
      ]
     },
     "execution_count": 3,
     "metadata": {},
     "output_type": "execute_result"
    }
   ],
   "source": [
    "df.head()"
   ]
  },
  {
   "cell_type": "markdown",
   "id": "0caa661f",
   "metadata": {},
   "source": [
    "###### Level"
   ]
  },
  {
   "cell_type": "code",
   "execution_count": 4,
   "id": "c200d2b4",
   "metadata": {},
   "outputs": [
    {
     "data": {
      "text/plain": [
       "0        9\n",
       "1       10\n",
       "2        2\n",
       "3        8\n",
       "4        9\n",
       "        ..\n",
       "4322     2\n",
       "4324     3\n",
       "4325     4\n",
       "4326     2\n",
       "4327     2\n",
       "Name: level, Length: 3690, dtype: int64"
      ]
     },
     "execution_count": 4,
     "metadata": {},
     "output_type": "execute_result"
    }
   ],
   "source": [
    "y = df[\"level\"]\n",
    "y"
   ]
  },
  {
   "cell_type": "code",
   "execution_count": 5,
   "id": "553822a7",
   "metadata": {},
   "outputs": [],
   "source": [
    "from collections import defaultdict\n",
    "\n",
    "\n",
    "lvl_stat = defaultdict(lambda: 0)\n",
    "\n",
    "for lvl in y:\n",
    "    lvl_stat[lvl] += 1"
   ]
  },
  {
   "cell_type": "code",
   "execution_count": 6,
   "id": "e45d6c29",
   "metadata": {},
   "outputs": [
    {
     "data": {
      "text/html": [
       "<div>\n",
       "<style scoped>\n",
       "    .dataframe tbody tr th:only-of-type {\n",
       "        vertical-align: middle;\n",
       "    }\n",
       "\n",
       "    .dataframe tbody tr th {\n",
       "        vertical-align: top;\n",
       "    }\n",
       "\n",
       "    .dataframe thead th {\n",
       "        text-align: right;\n",
       "    }\n",
       "</style>\n",
       "<table border=\"1\" class=\"dataframe\">\n",
       "  <thead>\n",
       "    <tr style=\"text-align: right;\">\n",
       "      <th></th>\n",
       "      <th>lvl</th>\n",
       "      <th>count</th>\n",
       "    </tr>\n",
       "  </thead>\n",
       "  <tbody>\n",
       "    <tr>\n",
       "      <th>0</th>\n",
       "      <td>-1</td>\n",
       "      <td>147</td>\n",
       "    </tr>\n",
       "    <tr>\n",
       "      <th>1</th>\n",
       "      <td>0</td>\n",
       "      <td>87</td>\n",
       "    </tr>\n",
       "    <tr>\n",
       "      <th>2</th>\n",
       "      <td>1</td>\n",
       "      <td>320</td>\n",
       "    </tr>\n",
       "    <tr>\n",
       "      <th>3</th>\n",
       "      <td>2</td>\n",
       "      <td>335</td>\n",
       "    </tr>\n",
       "    <tr>\n",
       "      <th>4</th>\n",
       "      <td>3</td>\n",
       "      <td>339</td>\n",
       "    </tr>\n",
       "    <tr>\n",
       "      <th>5</th>\n",
       "      <td>4</td>\n",
       "      <td>274</td>\n",
       "    </tr>\n",
       "    <tr>\n",
       "      <th>6</th>\n",
       "      <td>5</td>\n",
       "      <td>268</td>\n",
       "    </tr>\n",
       "    <tr>\n",
       "      <th>7</th>\n",
       "      <td>6</td>\n",
       "      <td>220</td>\n",
       "    </tr>\n",
       "    <tr>\n",
       "      <th>8</th>\n",
       "      <td>7</td>\n",
       "      <td>215</td>\n",
       "    </tr>\n",
       "    <tr>\n",
       "      <th>9</th>\n",
       "      <td>8</td>\n",
       "      <td>188</td>\n",
       "    </tr>\n",
       "    <tr>\n",
       "      <th>10</th>\n",
       "      <td>9</td>\n",
       "      <td>165</td>\n",
       "    </tr>\n",
       "    <tr>\n",
       "      <th>11</th>\n",
       "      <td>10</td>\n",
       "      <td>142</td>\n",
       "    </tr>\n",
       "    <tr>\n",
       "      <th>12</th>\n",
       "      <td>11</td>\n",
       "      <td>114</td>\n",
       "    </tr>\n",
       "    <tr>\n",
       "      <th>13</th>\n",
       "      <td>12</td>\n",
       "      <td>104</td>\n",
       "    </tr>\n",
       "    <tr>\n",
       "      <th>14</th>\n",
       "      <td>13</td>\n",
       "      <td>121</td>\n",
       "    </tr>\n",
       "    <tr>\n",
       "      <th>15</th>\n",
       "      <td>14</td>\n",
       "      <td>115</td>\n",
       "    </tr>\n",
       "    <tr>\n",
       "      <th>16</th>\n",
       "      <td>15</td>\n",
       "      <td>105</td>\n",
       "    </tr>\n",
       "    <tr>\n",
       "      <th>17</th>\n",
       "      <td>16</td>\n",
       "      <td>95</td>\n",
       "    </tr>\n",
       "    <tr>\n",
       "      <th>18</th>\n",
       "      <td>17</td>\n",
       "      <td>74</td>\n",
       "    </tr>\n",
       "    <tr>\n",
       "      <th>19</th>\n",
       "      <td>18</td>\n",
       "      <td>94</td>\n",
       "    </tr>\n",
       "    <tr>\n",
       "      <th>20</th>\n",
       "      <td>19</td>\n",
       "      <td>56</td>\n",
       "    </tr>\n",
       "    <tr>\n",
       "      <th>21</th>\n",
       "      <td>20</td>\n",
       "      <td>57</td>\n",
       "    </tr>\n",
       "    <tr>\n",
       "      <th>22</th>\n",
       "      <td>21</td>\n",
       "      <td>55</td>\n",
       "    </tr>\n",
       "  </tbody>\n",
       "</table>\n",
       "</div>"
      ],
      "text/plain": [
       "    lvl  count\n",
       "0    -1    147\n",
       "1     0     87\n",
       "2     1    320\n",
       "3     2    335\n",
       "4     3    339\n",
       "5     4    274\n",
       "6     5    268\n",
       "7     6    220\n",
       "8     7    215\n",
       "9     8    188\n",
       "10    9    165\n",
       "11   10    142\n",
       "12   11    114\n",
       "13   12    104\n",
       "14   13    121\n",
       "15   14    115\n",
       "16   15    105\n",
       "17   16     95\n",
       "18   17     74\n",
       "19   18     94\n",
       "20   19     56\n",
       "21   20     57\n",
       "22   21     55"
      ]
     },
     "execution_count": 6,
     "metadata": {},
     "output_type": "execute_result"
    }
   ],
   "source": [
    "level_count = pd.DataFrame(\n",
    "    data={\n",
    "        \"lvl\": [key for key in sorted(lvl_stat.keys())],\n",
    "        \"count\": [lvl_stat.get(key) for key in sorted(lvl_stat.keys())],\n",
    "    }\n",
    ")\n",
    "level_count"
   ]
  },
  {
   "cell_type": "code",
   "execution_count": 7,
   "id": "bdbfe8de",
   "metadata": {},
   "outputs": [
    {
     "data": {
      "image/png": "[encoded data removed]",
      "text/plain": [
       "<Figure size 432x288 with 1 Axes>"
      ]
     },
     "metadata": {
      "needs_background": "light"
     },
     "output_type": "display_data"
    }
   ],
   "source": [
    "import matplotlib.pyplot as plt\n",
    "\n",
    "\n",
    "level_count.plot.bar(x=\"lvl\", y=\"count\", title=\"Count of levels\")\n",
    "plt.show()"
   ]
  },
  {
   "cell_type": "markdown",
   "id": "9fdb6541",
   "metadata": {},
   "source": [
    "## Train test split"
   ]
  },
  {
   "cell_type": "markdown",
   "id": "18f56629",
   "metadata": {},
   "source": [
    "### Chronological split"
   ]
  },
  {
   "cell_type": "code",
   "execution_count": 8,
   "id": "dcda359b",
   "metadata": {},
   "outputs": [],
   "source": [
    "from training.splitting_dataset import split_dataframe\n",
    "\n",
    "\n",
    "os.chdir(\"../../../training\")\n",
    "X_train, X_test, y_train, y_test = split_dataframe(df, test_size=0.31)\n",
    "os.chdir(\"../notebooks/models/lightgbm\")"
   ]
  },
  {
   "cell_type": "code",
   "execution_count": 9,
   "id": "17dbc875",
   "metadata": {},
   "outputs": [],
   "source": [
    "X_train = X_train.drop(columns=[\"book\"])\n",
    "X_test = X_test.drop(columns=[\"book\"])"
   ]
  },
  {
   "cell_type": "markdown",
   "id": "25879636",
   "metadata": {},
   "source": [
    "### Random split"
   ]
  },
  {
   "cell_type": "code",
   "execution_count": 10,
   "id": "982ec5eb",
   "metadata": {},
   "outputs": [],
   "source": [
    "(\n",
    "    X_train_random_split,\n",
    "    X_test_random_split,\n",
    "    y_train_random_split,\n",
    "    y_test_random_split,\n",
    ") = split_dataframe(df, chronological_split=False)"
   ]
  },
  {
   "cell_type": "code",
   "execution_count": 11,
   "id": "90569e78",
   "metadata": {},
   "outputs": [],
   "source": [
    "X_train_random_split = X_train_random_split.drop(columns=[\"book\"])\n",
    "X_test_random_split = X_test_random_split.drop(columns=[\"book\"])"
   ]
  },
  {
   "cell_type": "markdown",
   "id": "9b259fbf",
   "metadata": {},
   "source": [
    "## LightGBM"
   ]
  },
  {
   "cell_type": "markdown",
   "id": "14f37d9b",
   "metadata": {},
   "source": [
    "## Chronological split"
   ]
  },
  {
   "cell_type": "code",
   "execution_count": 12,
   "id": "2bc4c90e",
   "metadata": {},
   "outputs": [
    {
     "name": "stdout",
     "output_type": "stream",
     "text": [
      "[LightGBM] [Warning] Auto-choosing col-wise multi-threading, the overhead of testing was 0.000294 seconds.\n",
      "You can set `force_col_wise=true` to remove the overhead.\n",
      "[LightGBM] [Info] Total Bins 259\n",
      "[LightGBM] [Info] Number of data points in the train set: 1626, number of used features: 8\n",
      "[LightGBM] [Info] Start training from score 7.212177\n",
      "Training until validation scores don't improve for 5 rounds\n",
      "Did not meet early stopping. Best iteration is:\n",
      "[100]\tvalid_0's l2: 0.575509\tvalid_0's l1: 0.447897\n"
     ]
    }
   ],
   "source": [
    "import lightgbm as lgb\n",
    "\n",
    "lgb_train = lgb.Dataset(X_train, y_train)\n",
    "lgb_eval = lgb.Dataset(X_test, y_test, reference=lgb_train)\n",
    "\n",
    "params = {\n",
    "    \"boosting_type\": \"gbdt\",\n",
    "    \"objective\": \"regression\",\n",
    "    \"metric\": {\"l2\", \"l1\"},\n",
    "}\n",
    "\n",
    "gbm = lgb.train(\n",
    "    params,\n",
    "    lgb_train,\n",
    "    num_boost_round=100,\n",
    "    valid_sets=lgb_eval,\n",
    "    callbacks=[lgb.early_stopping(stopping_rounds=5)],\n",
    ")"
   ]
  },
  {
   "cell_type": "code",
   "execution_count": 13,
   "id": "f1ae2eaa",
   "metadata": {},
   "outputs": [],
   "source": [
    "y_pred_train = gbm.predict(X_train, num_iteration=gbm.best_iteration)\n",
    "y_pred_test = gbm.predict(X_test, num_iteration=gbm.best_iteration)"
   ]
  },
  {
   "cell_type": "code",
   "execution_count": 14,
   "id": "ef9d09eb",
   "metadata": {},
   "outputs": [
    {
     "name": "stdout",
     "output_type": "stream",
     "text": [
      "RMSE: 0.76\n",
      "MAE: 0.45\n"
     ]
    }
   ],
   "source": [
    "from sklearn.metrics import mean_squared_error, mean_absolute_error\n",
    "\n",
    "\n",
    "rmse = mean_squared_error(y_test, y_pred_test, squared=False)\n",
    "mae = mean_absolute_error(y_test, y_pred_test)\n",
    "\n",
    "print(f\"RMSE: {rmse:.2f}\")\n",
    "print(f\"MAE: {mae:.2f}\")"
   ]
  },
  {
   "cell_type": "code",
   "execution_count": 15,
   "id": "6e288d53",
   "metadata": {},
   "outputs": [],
   "source": [
    "results = pd.DataFrame(\n",
    "    data={\n",
    "        \"Split type\": [],\n",
    "        \"Tuning type\": [],\n",
    "        \"Set of features\": [],\n",
    "        \"RMSE\": [],\n",
    "        \"MAE\": [],\n",
    "    }\n",
    ")\n",
    "\n",
    "results.loc[0] = [\"chronological\", \"default\", \"basic\", rmse, mae]"
   ]
  },
  {
   "cell_type": "code",
   "execution_count": 16,
   "id": "78bb7ffa",
   "metadata": {},
   "outputs": [
    {
     "name": "stdout",
     "output_type": "stream",
     "text": [
      "RMSE train: 0.31\n",
      "RMSE test: 0.76\n"
     ]
    }
   ],
   "source": [
    "rmse_train = mean_squared_error(y_train, y_pred_train, squared=False)\n",
    "rmse_test = mean_squared_error(y_test, y_pred_test, squared=False)\n",
    "print(f\"RMSE train: {rmse_train:.2f}\")\n",
    "print(f\"RMSE test: {rmse_test:.2f}\")"
   ]
  },
  {
   "cell_type": "markdown",
   "id": "4435f236",
   "metadata": {},
   "source": [
    "###### MAE by level"
   ]
  },
  {
   "cell_type": "code",
   "execution_count": 17,
   "id": "f3b4086b",
   "metadata": {},
   "outputs": [],
   "source": [
    "from training.results import plot_mae_by_level"
   ]
  },
  {
   "cell_type": "code",
   "execution_count": 18,
   "id": "e3ecad89",
   "metadata": {
    "scrolled": false
   },
   "outputs": [
    {
     "data": {
      "image/png": "[encoded data removed]",
      "text/plain": [
       "<Figure size 1440x576 with 1 Axes>"
      ]
     },
     "metadata": {
      "needs_background": "light"
     },
     "output_type": "display_data"
    }
   ],
   "source": [
    "plot_mae_by_level(\n",
    "    y_test,\n",
    "    y_pred_test,\n",
    "    title=\"MAE by level for default LightGBM with basic features and chronological split\",\n",
    ")"
   ]
  },
  {
   "cell_type": "code",
   "execution_count": 19,
   "id": "ec8cab49",
   "metadata": {
    "scrolled": true
   },
   "outputs": [
    {
     "name": "stdout",
     "output_type": "stream",
     "text": [
      "Default:\n",
      "RMSE: 0.76\n",
      "\n",
      "Round type: 0.5\n",
      "RMSE: 0.78\n",
      "\n",
      "Round type: 0.33\n",
      "RMSE: 0.77\n",
      "\n",
      "Round type: 0.45\n",
      "RMSE: 0.77\n",
      "\n"
     ]
    }
   ],
   "source": [
    "from training.results import evaluate_round_predictions, plot_confusion_matrix\n",
    "\n",
    "\n",
    "evaluate_round_predictions([0.5, 0.33, 0.45], y_test, y_pred_test)"
   ]
  },
  {
   "cell_type": "code",
   "execution_count": 20,
   "id": "9129a0ae",
   "metadata": {},
   "outputs": [
    {
     "data": {
      "image/png": "[encoded data removed]",
      "text/plain": [
       "<Figure size 720x720 with 2 Axes>"
      ]
     },
     "metadata": {
      "needs_background": "light"
     },
     "output_type": "display_data"
    }
   ],
   "source": [
    "plot_confusion_matrix(\n",
    "    y_pred_test,\n",
    "    y_test,\n",
    "    title=\"Confusion matrix for default LightGBM with basic features and chronological split\",\n",
    ")"
   ]
  },
  {
   "cell_type": "markdown",
   "id": "aaaf3023",
   "metadata": {},
   "source": [
    "#### Tuning"
   ]
  },
  {
   "cell_type": "code",
   "execution_count": 21,
   "id": "cbd24f9f",
   "metadata": {},
   "outputs": [],
   "source": [
    "from training.results import assess_regression_model"
   ]
  },
  {
   "cell_type": "code",
   "execution_count": 22,
   "id": "10854460",
   "metadata": {},
   "outputs": [
    {
     "name": "stderr",
     "output_type": "stream",
     "text": [
      "[I 2023-12-01 17:40:24,356] A new study created in memory with name: no-name-327b1823-7711-4fad-82d6-5747ad96b38a\n",
      "feature_fraction, val_score: inf:   0%|                                                          | 0/7 [00:00<?, ?it/s]"
     ]
    },
    {
     "name": "stdout",
     "output_type": "stream",
     "text": [
      "Training until validation scores don't improve for 100 rounds\n",
      "[100]\tcv_agg's l2: 0.284776 + 0.144934\n"
     ]
    },
    {
     "name": "stderr",
     "output_type": "stream",
     "text": [
      "feature_fraction, val_score: 0.283812:  14%|######4                                      | 1/7 [00:01<00:07,  1.24s/it][I 2023-12-01 17:40:25,599] Trial 0 finished with value: 0.2838124480768287 and parameters: {'feature_fraction': 0.8999999999999999}. Best is trial 0 with value: 0.2838124480768287.\n",
      "feature_fraction, val_score: 0.283812:  14%|######4                                      | 1/7 [00:01<00:07,  1.24s/it]"
     ]
    },
    {
     "name": "stdout",
     "output_type": "stream",
     "text": [
      "[200]\tcv_agg's l2: 0.289839 + 0.142094\n",
      "Early stopping, best iteration is:\n",
      "[122]\tcv_agg's l2: 0.283812 + 0.142901\n",
      "[100]\tcv_agg's l2: 0.302825 + 0.16381\n"
     ]
    },
    {
     "name": "stderr",
     "output_type": "stream",
     "text": [
      "feature_fraction, val_score: 0.283812:  29%|############8                                | 2/7 [00:02<00:05,  1.12s/it][I 2023-12-01 17:40:26,631] Trial 1 finished with value: 0.3018447871249791 and parameters: {'feature_fraction': 0.7}. Best is trial 0 with value: 0.2838124480768287.\n",
      "feature_fraction, val_score: 0.283812:  29%|############8                                | 2/7 [00:02<00:05,  1.12s/it]"
     ]
    },
    {
     "name": "stdout",
     "output_type": "stream",
     "text": [
      "[200]\tcv_agg's l2: 0.303966 + 0.157482\n",
      "Early stopping, best iteration is:\n",
      "[122]\tcv_agg's l2: 0.283812 + 0.142901\n",
      "[100]\tcv_agg's l2: 0.481086 + 0.333496\n"
     ]
    },
    {
     "name": "stderr",
     "output_type": "stream",
     "text": [
      "feature_fraction, val_score: 0.283812:  43%|###################2                         | 3/7 [00:03<00:04,  1.08s/it][I 2023-12-01 17:40:27,667] Trial 2 finished with value: 0.45870827251441393 and parameters: {'feature_fraction': 0.4}. Best is trial 0 with value: 0.2838124480768287.\n",
      "feature_fraction, val_score: 0.283812:  43%|###################2                         | 3/7 [00:03<00:04,  1.08s/it]"
     ]
    },
    {
     "name": "stdout",
     "output_type": "stream",
     "text": [
      "[200]\tcv_agg's l2: 0.428473 + 0.276261\n",
      "Early stopping, best iteration is:\n",
      "[122]\tcv_agg's l2: 0.283812 + 0.142901\n",
      "[100]\tcv_agg's l2: 0.369292 + 0.208526\n"
     ]
    },
    {
     "name": "stderr",
     "output_type": "stream",
     "text": [
      "feature_fraction, val_score: 0.283812:  57%|#########################7                   | 4/7 [00:04<00:03,  1.29s/it][I 2023-12-01 17:40:29,280] Trial 3 finished with value: 0.36242853474033937 and parameters: {'feature_fraction': 0.5}. Best is trial 0 with value: 0.2838124480768287.\n"
     ]
    },
    {
     "name": "stdout",
     "output_type": "stream",
     "text": [
      "[200]\tcv_agg's l2: 0.354437 + 0.188102\n",
      "Early stopping, best iteration is:\n",
      "[122]\tcv_agg's l2: 0.283812 + 0.142901\n"
     ]
    },
    {
     "name": "stderr",
     "output_type": "stream",
     "text": [
      "\r",
      "feature_fraction, val_score: 0.283812:  57%|#########################7                   | 4/7 [00:04<00:03,  1.29s/it]"
     ]
    },
    {
     "name": "stdout",
     "output_type": "stream",
     "text": [
      "[100]\tcv_agg's l2: 0.319985 + 0.181068\n"
     ]
    },
    {
     "name": "stderr",
     "output_type": "stream",
     "text": [
      "feature_fraction, val_score: 0.283812:  71%|################################1            | 5/7 [00:06<00:03,  1.52s/it]"
     ]
    },
    {
     "name": "stdout",
     "output_type": "stream",
     "text": [
      "[200]\tcv_agg's l2: 0.317361 + 0.168309\n",
      "Early stopping, best iteration is:\n",
      "[122]\tcv_agg's l2: 0.283812 + 0.142901\n"
     ]
    },
    {
     "name": "stderr",
     "output_type": "stream",
     "text": [
      "[I 2023-12-01 17:40:31,218] Trial 4 finished with value: 0.3159438587894553 and parameters: {'feature_fraction': 0.6}. Best is trial 0 with value: 0.2838124480768287.\n",
      "feature_fraction, val_score: 0.283812:  71%|################################1            | 5/7 [00:06<00:03,  1.52s/it]"
     ]
    },
    {
     "name": "stdout",
     "output_type": "stream",
     "text": [
      "[100]\tcv_agg's l2: 0.2902 + 0.141111\n"
     ]
    },
    {
     "name": "stderr",
     "output_type": "stream",
     "text": [
      "\r",
      "feature_fraction, val_score: 0.283812:  71%|################################1            | 5/7 [00:08<00:03,  1.52s/it]"
     ]
    },
    {
     "name": "stdout",
     "output_type": "stream",
     "text": [
      "[200]\tcv_agg's l2: 0.296659 + 0.138289\n",
      "Early stopping, best iteration is:\n",
      "[122]\tcv_agg's l2: 0.283812 + 0.142901\n"
     ]
    },
    {
     "name": "stderr",
     "output_type": "stream",
     "text": [
      "feature_fraction, val_score: 0.283812:  86%|######################################5      | 6/7 [00:08<00:01,  1.65s/it][I 2023-12-01 17:40:33,126] Trial 5 finished with value: 0.2907687980101998 and parameters: {'feature_fraction': 1.0}. Best is trial 0 with value: 0.2838124480768287.\n",
      "feature_fraction, val_score: 0.283812:  86%|######################################5      | 6/7 [00:08<00:01,  1.65s/it]"
     ]
    },
    {
     "name": "stdout",
     "output_type": "stream",
     "text": [
      "[100]\tcv_agg's l2: 0.302825 + 0.16381\n",
      "[200]\tcv_agg's l2: 0.303966 + 0.157482\n"
     ]
    },
    {
     "name": "stderr",
     "output_type": "stream",
     "text": [
      "feature_fraction, val_score: 0.283812: 100%|#############################################| 7/7 [00:10<00:00,  1.78s/it][I 2023-12-01 17:40:35,160] Trial 6 finished with value: 0.3018447871249791 and parameters: {'feature_fraction': 0.8}. Best is trial 0 with value: 0.2838124480768287.\n",
      "feature_fraction, val_score: 0.283812: 100%|#############################################| 7/7 [00:10<00:00,  1.54s/it]\n"
     ]
    },
    {
     "name": "stdout",
     "output_type": "stream",
     "text": [
      "Early stopping, best iteration is:\n",
      "[122]\tcv_agg's l2: 0.283812 + 0.142901\n"
     ]
    },
    {
     "name": "stderr",
     "output_type": "stream",
     "text": [
      "num_leaves, val_score: 0.283812:   0%|                                                          | 0/20 [00:00<?, ?it/s]"
     ]
    },
    {
     "name": "stdout",
     "output_type": "stream",
     "text": [
      "[100]\tcv_agg's l2: 0.28925 + 0.139554\n",
      "[200]\tcv_agg's l2: 0.299919 + 0.139407\n"
     ]
    },
    {
     "name": "stderr",
     "output_type": "stream",
     "text": [
      "num_leaves, val_score: 0.283812:   5%|##5                                               | 1/20 [00:02<00:55,  2.95s/it][I 2023-12-01 17:40:38,110] Trial 7 finished with value: 0.29171487506124927 and parameters: {'num_leaves': 132}. Best is trial 7 with value: 0.29171487506124927.\n",
      "num_leaves, val_score: 0.283812:   5%|##5                                               | 1/20 [00:02<00:55,  2.95s/it]"
     ]
    },
    {
     "name": "stdout",
     "output_type": "stream",
     "text": [
      "Early stopping, best iteration is:\n",
      "[122]\tcv_agg's l2: 0.283812 + 0.142901\n",
      "[100]\tcv_agg's l2: 0.28925 + 0.139554\n",
      "[200]\tcv_agg's l2: 0.299919 + 0.139407\n"
     ]
    },
    {
     "name": "stderr",
     "output_type": "stream",
     "text": [
      "num_leaves, val_score: 0.283812:  10%|#####                                             | 2/20 [00:05<00:50,  2.83s/it][I 2023-12-01 17:40:40,851] Trial 8 finished with value: 0.29171487506124927 and parameters: {'num_leaves': 139}. Best is trial 7 with value: 0.29171487506124927.\n",
      "num_leaves, val_score: 0.283812:  10%|#####                                             | 2/20 [00:05<00:50,  2.83s/it]"
     ]
    },
    {
     "name": "stdout",
     "output_type": "stream",
     "text": [
      "Early stopping, best iteration is:\n",
      "[122]\tcv_agg's l2: 0.283812 + 0.142901\n",
      "[100]\tcv_agg's l2: 0.28925 + 0.139554\n",
      "[200]\tcv_agg's l2: 0.299919 + 0.139407\n"
     ]
    },
    {
     "name": "stderr",
     "output_type": "stream",
     "text": [
      "num_leaves, val_score: 0.283812:  15%|#######5                                          | 3/20 [00:08<00:50,  2.97s/it][I 2023-12-01 17:40:44,003] Trial 9 finished with value: 0.29171487506124927 and parameters: {'num_leaves': 227}. Best is trial 7 with value: 0.29171487506124927.\n",
      "num_leaves, val_score: 0.283812:  15%|#######5                                          | 3/20 [00:08<00:50,  2.97s/it]"
     ]
    },
    {
     "name": "stdout",
     "output_type": "stream",
     "text": [
      "Early stopping, best iteration is:\n",
      "[122]\tcv_agg's l2: 0.283812 + 0.142901\n",
      "[100]\tcv_agg's l2: 0.275648 + 0.135562\n"
     ]
    },
    {
     "name": "stderr",
     "output_type": "stream",
     "text": [
      "num_leaves, val_score: 0.274577:  20%|##########                                        | 4/20 [00:10<00:36,  2.27s/it][I 2023-12-01 17:40:45,191] Trial 10 finished with value: 0.27457686454090724 and parameters: {'num_leaves': 16}. Best is trial 10 with value: 0.27457686454090724.\n",
      "num_leaves, val_score: 0.274577:  20%|##########                                        | 4/20 [00:10<00:36,  2.27s/it]"
     ]
    },
    {
     "name": "stdout",
     "output_type": "stream",
     "text": [
      "[200]\tcv_agg's l2: 0.278062 + 0.13329\n",
      "Early stopping, best iteration is:\n",
      "[112]\tcv_agg's l2: 0.274577 + 0.135185\n",
      "[100]\tcv_agg's l2: 0.276084 + 0.134066\n"
     ]
    },
    {
     "name": "stderr",
     "output_type": "stream",
     "text": [
      "num_leaves, val_score: 0.274577:  25%|############5                                     | 5/20 [00:11<00:28,  1.92s/it][I 2023-12-01 17:40:46,495] Trial 11 finished with value: 0.2766172458853907 and parameters: {'num_leaves': 19}. Best is trial 10 with value: 0.27457686454090724.\n",
      "num_leaves, val_score: 0.274577:  25%|############5                                     | 5/20 [00:11<00:28,  1.92s/it]"
     ]
    },
    {
     "name": "stdout",
     "output_type": "stream",
     "text": [
      "[200]\tcv_agg's l2: 0.280976 + 0.131765\n",
      "Early stopping, best iteration is:\n",
      "[112]\tcv_agg's l2: 0.274577 + 0.135185\n",
      "[100]\tcv_agg's l2: 0.293717 + 0.130628\n"
     ]
    },
    {
     "name": "stderr",
     "output_type": "stream",
     "text": [
      "num_leaves, val_score: 0.274577:  30%|###############                                   | 6/20 [00:11<00:20,  1.48s/it][I 2023-12-01 17:40:47,111] Trial 12 finished with value: 0.29116353144344514 and parameters: {'num_leaves': 8}. Best is trial 10 with value: 0.27457686454090724.\n",
      "num_leaves, val_score: 0.274577:  30%|###############                                   | 6/20 [00:11<00:20,  1.48s/it]"
     ]
    },
    {
     "name": "stdout",
     "output_type": "stream",
     "text": [
      "[200]\tcv_agg's l2: 0.283701 + 0.13013\n",
      "Early stopping, best iteration is:\n",
      "[112]\tcv_agg's l2: 0.274577 + 0.135185\n",
      "[100]\tcv_agg's l2: 0.293717 + 0.130628\n"
     ]
    },
    {
     "name": "stderr",
     "output_type": "stream",
     "text": [
      "num_leaves, val_score: 0.274577:  35%|#################5                                | 7/20 [00:12<00:16,  1.26s/it][I 2023-12-01 17:40:47,918] Trial 13 finished with value: 0.29116353144344514 and parameters: {'num_leaves': 8}. Best is trial 10 with value: 0.27457686454090724.\n",
      "num_leaves, val_score: 0.274577:  35%|#################5                                | 7/20 [00:12<00:16,  1.26s/it]"
     ]
    },
    {
     "name": "stdout",
     "output_type": "stream",
     "text": [
      "[200]\tcv_agg's l2: 0.283701 + 0.13013\n",
      "Early stopping, best iteration is:\n",
      "[112]\tcv_agg's l2: 0.274577 + 0.135185\n",
      "[100]\tcv_agg's l2: 0.28925 + 0.139554\n"
     ]
    },
    {
     "name": "stderr",
     "output_type": "stream",
     "text": [
      "num_leaves, val_score: 0.274577:  40%|####################                              | 8/20 [00:15<00:20,  1.70s/it][I 2023-12-01 17:40:50,563] Trial 14 finished with value: 0.28997067111747177 and parameters: {'num_leaves': 68}. Best is trial 10 with value: 0.27457686454090724.\n",
      "num_leaves, val_score: 0.274577:  40%|####################                              | 8/20 [00:15<00:20,  1.70s/it]"
     ]
    },
    {
     "name": "stdout",
     "output_type": "stream",
     "text": [
      "[200]\tcv_agg's l2: 0.299919 + 0.139407\n",
      "Early stopping, best iteration is:\n",
      "[112]\tcv_agg's l2: 0.274577 + 0.135185\n",
      "[100]\tcv_agg's l2: 0.28925 + 0.139554\n"
     ]
    },
    {
     "name": "stderr",
     "output_type": "stream",
     "text": [
      "num_leaves, val_score: 0.274577:  45%|######################5                           | 9/20 [00:18<00:22,  2.02s/it][I 2023-12-01 17:40:53,275] Trial 15 finished with value: 0.28997067111747177 and parameters: {'num_leaves': 61}. Best is trial 10 with value: 0.27457686454090724.\n",
      "num_leaves, val_score: 0.274577:  45%|######################5                           | 9/20 [00:18<00:22,  2.02s/it]"
     ]
    },
    {
     "name": "stdout",
     "output_type": "stream",
     "text": [
      "[200]\tcv_agg's l2: 0.299919 + 0.139407\n",
      "Early stopping, best iteration is:\n",
      "[112]\tcv_agg's l2: 0.274577 + 0.135185\n",
      "[100]\tcv_agg's l2: 0.28925 + 0.139554\n"
     ]
    },
    {
     "name": "stderr",
     "output_type": "stream",
     "text": [
      "num_leaves, val_score: 0.274577:  50%|########################5                        | 10/20 [00:20<00:21,  2.18s/it][I 2023-12-01 17:40:55,829] Trial 16 finished with value: 0.28997067111747177 and parameters: {'num_leaves': 66}. Best is trial 10 with value: 0.27457686454090724.\n",
      "num_leaves, val_score: 0.274577:  50%|########################5                        | 10/20 [00:20<00:21,  2.18s/it]"
     ]
    },
    {
     "name": "stdout",
     "output_type": "stream",
     "text": [
      "[200]\tcv_agg's l2: 0.299919 + 0.139407\n",
      "Early stopping, best iteration is:\n",
      "[112]\tcv_agg's l2: 0.274577 + 0.135185\n",
      "[100]\tcv_agg's l2: 0.285105 + 0.141362\n"
     ]
    },
    {
     "name": "stderr",
     "output_type": "stream",
     "text": [
      "num_leaves, val_score: 0.274577:  55%|##########################9                      | 11/20 [00:22<00:19,  2.18s/it][I 2023-12-01 17:40:57,996] Trial 17 finished with value: 0.2844036694749453 and parameters: {'num_leaves': 32}. Best is trial 10 with value: 0.27457686454090724.\n",
      "num_leaves, val_score: 0.274577:  55%|##########################9                      | 11/20 [00:22<00:19,  2.18s/it]"
     ]
    },
    {
     "name": "stdout",
     "output_type": "stream",
     "text": [
      "[200]\tcv_agg's l2: 0.29222 + 0.14105\n",
      "Early stopping, best iteration is:\n",
      "[112]\tcv_agg's l2: 0.274577 + 0.135185\n",
      "[100]\tcv_agg's l2: 0.28925 + 0.139554\n"
     ]
    },
    {
     "name": "stderr",
     "output_type": "stream",
     "text": [
      "num_leaves, val_score: 0.274577:  60%|#############################4                   | 12/20 [00:25<00:18,  2.30s/it][I 2023-12-01 17:41:00,589] Trial 18 finished with value: 0.28997067111747177 and parameters: {'num_leaves': 103}. Best is trial 10 with value: 0.27457686454090724.\n",
      "num_leaves, val_score: 0.274577:  60%|#############################4                   | 12/20 [00:25<00:18,  2.30s/it]"
     ]
    },
    {
     "name": "stdout",
     "output_type": "stream",
     "text": [
      "[200]\tcv_agg's l2: 0.299919 + 0.139407\n",
      "Early stopping, best iteration is:\n",
      "[112]\tcv_agg's l2: 0.274577 + 0.135185\n",
      "[100]\tcv_agg's l2: 0.28925 + 0.139554\n"
     ]
    },
    {
     "name": "stderr",
     "output_type": "stream",
     "text": [
      "num_leaves, val_score: 0.274577:  65%|###############################8                 | 13/20 [00:28<00:17,  2.43s/it][I 2023-12-01 17:41:03,322] Trial 19 finished with value: 0.28997067111747177 and parameters: {'num_leaves': 197}. Best is trial 10 with value: 0.27457686454090724.\n",
      "num_leaves, val_score: 0.274577:  65%|###############################8                 | 13/20 [00:28<00:17,  2.43s/it]"
     ]
    },
    {
     "name": "stdout",
     "output_type": "stream",
     "text": [
      "[200]\tcv_agg's l2: 0.299919 + 0.139407\n",
      "Early stopping, best iteration is:\n",
      "[112]\tcv_agg's l2: 0.274577 + 0.135185\n",
      "[100]\tcv_agg's l2: 0.28785 + 0.148096\n",
      "[200]\tcv_agg's l2: 0.293478 + 0.147127\n"
     ]
    },
    {
     "name": "stderr",
     "output_type": "stream",
     "text": [
      "num_leaves, val_score: 0.274577:  70%|##################################3              | 14/20 [00:30<00:14,  2.42s/it][I 2023-12-01 17:41:05,707] Trial 20 finished with value: 0.28775069852752655 and parameters: {'num_leaves': 38}. Best is trial 10 with value: 0.27457686454090724.\n",
      "num_leaves, val_score: 0.274577:  70%|##################################3              | 14/20 [00:30<00:14,  2.42s/it]"
     ]
    },
    {
     "name": "stdout",
     "output_type": "stream",
     "text": [
      "Early stopping, best iteration is:\n",
      "[112]\tcv_agg's l2: 0.274577 + 0.135185\n",
      "[100]\tcv_agg's l2: 0.28925 + 0.139554\n"
     ]
    },
    {
     "name": "stderr",
     "output_type": "stream",
     "text": [
      "num_leaves, val_score: 0.274577:  75%|####################################7            | 15/20 [00:33<00:12,  2.51s/it][I 2023-12-01 17:41:08,417] Trial 21 finished with value: 0.28997067111747177 and parameters: {'num_leaves': 100}. Best is trial 10 with value: 0.27457686454090724.\n",
      "num_leaves, val_score: 0.274577:  75%|####################################7            | 15/20 [00:33<00:12,  2.51s/it]"
     ]
    },
    {
     "name": "stdout",
     "output_type": "stream",
     "text": [
      "[200]\tcv_agg's l2: 0.299919 + 0.139407\n",
      "Early stopping, best iteration is:\n",
      "[112]\tcv_agg's l2: 0.274577 + 0.135185\n",
      "[100]\tcv_agg's l2: 0.28925 + 0.139554\n"
     ]
    },
    {
     "name": "stderr",
     "output_type": "stream",
     "text": [
      "num_leaves, val_score: 0.274577:  80%|#######################################2         | 16/20 [00:36<00:10,  2.64s/it][I 2023-12-01 17:41:11,365] Trial 22 finished with value: 0.28997067111747177 and parameters: {'num_leaves': 164}. Best is trial 10 with value: 0.27457686454090724.\n",
      "num_leaves, val_score: 0.274577:  80%|#######################################2         | 16/20 [00:36<00:10,  2.64s/it]"
     ]
    },
    {
     "name": "stdout",
     "output_type": "stream",
     "text": [
      "[200]\tcv_agg's l2: 0.299919 + 0.139407\n",
      "Early stopping, best iteration is:\n",
      "[112]\tcv_agg's l2: 0.274577 + 0.135185\n",
      "[100]\tcv_agg's l2: 0.28925 + 0.139554\n"
     ]
    },
    {
     "name": "stderr",
     "output_type": "stream",
     "text": [
      "num_leaves, val_score: 0.274577:  85%|#########################################6       | 17/20 [00:39<00:08,  2.77s/it][I 2023-12-01 17:41:14,421] Trial 23 finished with value: 0.28997067111747177 and parameters: {'num_leaves': 96}. Best is trial 10 with value: 0.27457686454090724.\n",
      "num_leaves, val_score: 0.274577:  85%|#########################################6       | 17/20 [00:39<00:08,  2.77s/it]"
     ]
    },
    {
     "name": "stdout",
     "output_type": "stream",
     "text": [
      "[200]\tcv_agg's l2: 0.299919 + 0.139407\n",
      "Early stopping, best iteration is:\n",
      "[112]\tcv_agg's l2: 0.274577 + 0.135185\n"
     ]
    },
    {
     "name": "stderr",
     "output_type": "stream",
     "text": [
      "num_leaves, val_score: 0.274577:  90%|############################################1    | 18/20 [00:39<00:04,  2.03s/it][I 2023-12-01 17:41:14,744] Trial 24 finished with value: 0.39205954508952745 and parameters: {'num_leaves': 2}. Best is trial 10 with value: 0.27457686454090724.\n",
      "num_leaves, val_score: 0.274577:  90%|############################################1    | 18/20 [00:39<00:04,  2.03s/it]"
     ]
    },
    {
     "name": "stdout",
     "output_type": "stream",
     "text": [
      "[100]\tcv_agg's l2: 0.40295 + 0.168146\n",
      "[200]\tcv_agg's l2: 0.365279 + 0.157865\n",
      "Early stopping, best iteration is:\n",
      "[112]\tcv_agg's l2: 0.274577 + 0.135185\n",
      "[100]\tcv_agg's l2: 0.286325 + 0.1416\n"
     ]
    },
    {
     "name": "stderr",
     "output_type": "stream",
     "text": [
      "num_leaves, val_score: 0.274577:  95%|##############################################5  | 19/20 [00:42<00:02,  2.28s/it][I 2023-12-01 17:41:17,607] Trial 25 finished with value: 0.28653236242226043 and parameters: {'num_leaves': 41}. Best is trial 10 with value: 0.27457686454090724.\n",
      "num_leaves, val_score: 0.274577:  95%|##############################################5  | 19/20 [00:42<00:02,  2.28s/it]"
     ]
    },
    {
     "name": "stdout",
     "output_type": "stream",
     "text": [
      "[200]\tcv_agg's l2: 0.294571 + 0.141887\n",
      "Early stopping, best iteration is:\n",
      "[112]\tcv_agg's l2: 0.274577 + 0.135185\n",
      "[100]\tcv_agg's l2: 0.284427 + 0.140364\n"
     ]
    },
    {
     "name": "stderr",
     "output_type": "stream",
     "text": [
      "num_leaves, val_score: 0.274577: 100%|#################################################| 20/20 [00:44<00:00,  2.19s/it][I 2023-12-01 17:41:19,587] Trial 26 finished with value: 0.2849632893610946 and parameters: {'num_leaves': 33}. Best is trial 10 with value: 0.27457686454090724.\n",
      "num_leaves, val_score: 0.274577: 100%|#################################################| 20/20 [00:44<00:00,  2.22s/it]\n"
     ]
    },
    {
     "name": "stdout",
     "output_type": "stream",
     "text": [
      "[200]\tcv_agg's l2: 0.292757 + 0.140603\n",
      "Early stopping, best iteration is:\n",
      "[112]\tcv_agg's l2: 0.274577 + 0.135185\n"
     ]
    },
    {
     "name": "stderr",
     "output_type": "stream",
     "text": [
      "bagging, val_score: 0.274577:   0%|                                                             | 0/10 [00:00<?, ?it/s]"
     ]
    },
    {
     "name": "stdout",
     "output_type": "stream",
     "text": [
      "[100]\tcv_agg's l2: 0.288587 + 0.135642\n"
     ]
    },
    {
     "name": "stderr",
     "output_type": "stream",
     "text": [
      "bagging, val_score: 0.274577:  10%|#####3                                               | 1/10 [00:01<00:10,  1.18s/it][I 2023-12-01 17:41:20,776] Trial 27 finished with value: 0.285235352212602 and parameters: {'bagging_fraction': 0.6671508858929536, 'bagging_freq': 2}. Best is trial 27 with value: 0.285235352212602.\n",
      "bagging, val_score: 0.274577:  10%|#####3                                               | 1/10 [00:01<00:10,  1.18s/it]"
     ]
    },
    {
     "name": "stdout",
     "output_type": "stream",
     "text": [
      "[200]\tcv_agg's l2: 0.283653 + 0.129096\n",
      "Early stopping, best iteration is:\n",
      "[112]\tcv_agg's l2: 0.274577 + 0.135185\n",
      "[100]\tcv_agg's l2: 0.27711 + 0.136522\n",
      "[200]\tcv_agg's l2: 0.276344 + 0.136341\n"
     ]
    },
    {
     "name": "stderr",
     "output_type": "stream",
     "text": [
      "bagging, val_score: 0.274130:  20%|##########6                                          | 2/10 [00:02<00:10,  1.27s/it][I 2023-12-01 17:41:22,107] Trial 28 finished with value: 0.2741295406122388 and parameters: {'bagging_fraction': 0.9808865533027493, 'bagging_freq': 7}. Best is trial 28 with value: 0.2741295406122388.\n",
      "bagging, val_score: 0.274130:  20%|##########6                                          | 2/10 [00:02<00:10,  1.27s/it]"
     ]
    },
    {
     "name": "stdout",
     "output_type": "stream",
     "text": [
      "Early stopping, best iteration is:\n",
      "[151]\tcv_agg's l2: 0.27413 + 0.136969\n",
      "[100]\tcv_agg's l2: 0.272704 + 0.135543\n"
     ]
    },
    {
     "name": "stderr",
     "output_type": "stream",
     "text": [
      "bagging, val_score: 0.270198:  30%|###############9                                     | 3/10 [00:03<00:08,  1.23s/it][I 2023-12-01 17:41:23,286] Trial 29 finished with value: 0.2701982391388187 and parameters: {'bagging_fraction': 0.9977510356097634, 'bagging_freq': 7}. Best is trial 29 with value: 0.2701982391388187.\n",
      "bagging, val_score: 0.270198:  30%|###############9                                     | 3/10 [00:03<00:08,  1.23s/it]"
     ]
    },
    {
     "name": "stdout",
     "output_type": "stream",
     "text": [
      "[200]\tcv_agg's l2: 0.27414 + 0.133936\n",
      "Early stopping, best iteration is:\n",
      "[121]\tcv_agg's l2: 0.270198 + 0.134445\n",
      "[100]\tcv_agg's l2: 0.271508 + 0.130804\n",
      "[200]\tcv_agg's l2: 0.272976 + 0.12891\n"
     ]
    },
    {
     "name": "stderr",
     "output_type": "stream",
     "text": [
      "bagging, val_score: 0.269646:  40%|#####################2                               | 4/10 [00:05<00:07,  1.27s/it][I 2023-12-01 17:41:24,623] Trial 30 finished with value: 0.269645755470929 and parameters: {'bagging_fraction': 0.9671459270830322, 'bagging_freq': 7}. Best is trial 30 with value: 0.269645755470929.\n",
      "bagging, val_score: 0.269646:  40%|#####################2                               | 4/10 [00:05<00:07,  1.27s/it]"
     ]
    },
    {
     "name": "stdout",
     "output_type": "stream",
     "text": [
      "Early stopping, best iteration is:\n",
      "[146]\tcv_agg's l2: 0.269646 + 0.129898\n",
      "[100]\tcv_agg's l2: 0.275462 + 0.13857\n",
      "[200]\tcv_agg's l2: 0.277855 + 0.138774\n"
     ]
    },
    {
     "name": "stderr",
     "output_type": "stream",
     "text": [
      "bagging, val_score: 0.269646:  50%|##########################5                          | 5/10 [00:06<00:06,  1.30s/it][I 2023-12-01 17:41:25,965] Trial 31 finished with value: 0.27520609140990954 and parameters: {'bagging_fraction': 0.9935658658210484, 'bagging_freq': 7}. Best is trial 30 with value: 0.269645755470929.\n",
      "bagging, val_score: 0.269646:  50%|##########################5                          | 5/10 [00:06<00:06,  1.30s/it]"
     ]
    },
    {
     "name": "stdout",
     "output_type": "stream",
     "text": [
      "Early stopping, best iteration is:\n",
      "[146]\tcv_agg's l2: 0.269646 + 0.129898\n",
      "[100]\tcv_agg's l2: 0.277517 + 0.13199\n",
      "[200]\tcv_agg's l2: 0.278531 + 0.13139\n"
     ]
    },
    {
     "name": "stderr",
     "output_type": "stream",
     "text": [
      "bagging, val_score: 0.269646:  60%|###############################8                     | 6/10 [00:07<00:05,  1.33s/it][I 2023-12-01 17:41:27,373] Trial 32 finished with value: 0.2751868257279132 and parameters: {'bagging_fraction': 0.9774928339119462, 'bagging_freq': 7}. Best is trial 30 with value: 0.269645755470929.\n",
      "bagging, val_score: 0.269646:  60%|###############################8                     | 6/10 [00:07<00:05,  1.33s/it]"
     ]
    },
    {
     "name": "stdout",
     "output_type": "stream",
     "text": [
      "Early stopping, best iteration is:\n",
      "[146]\tcv_agg's l2: 0.269646 + 0.129898\n",
      "[100]\tcv_agg's l2: 0.270925 + 0.13643\n",
      "[200]\tcv_agg's l2: 0.274035 + 0.135584\n"
     ]
    },
    {
     "name": "stderr",
     "output_type": "stream",
     "text": [
      "bagging, val_score: 0.269646:  70%|#####################################                | 7/10 [00:09<00:03,  1.31s/it][I 2023-12-01 17:41:28,647] Trial 33 finished with value: 0.2722442066822102 and parameters: {'bagging_fraction': 0.9982314668356499, 'bagging_freq': 7}. Best is trial 30 with value: 0.269645755470929.\n",
      "bagging, val_score: 0.269646:  70%|#####################################                | 7/10 [00:09<00:03,  1.31s/it]"
     ]
    },
    {
     "name": "stdout",
     "output_type": "stream",
     "text": [
      "Early stopping, best iteration is:\n",
      "[146]\tcv_agg's l2: 0.269646 + 0.129898\n",
      "[100]\tcv_agg's l2: 0.275621 + 0.139032\n",
      "[200]\tcv_agg's l2: 0.278703 + 0.135688\n"
     ]
    },
    {
     "name": "stderr",
     "output_type": "stream",
     "text": [
      "bagging, val_score: 0.269646:  80%|##########################################4          | 8/10 [00:10<00:02,  1.37s/it][I 2023-12-01 17:41:30,136] Trial 34 finished with value: 0.2750986402312038 and parameters: {'bagging_fraction': 0.9970522387392584, 'bagging_freq': 7}. Best is trial 30 with value: 0.269645755470929.\n",
      "bagging, val_score: 0.269646:  80%|##########################################4          | 8/10 [00:10<00:02,  1.37s/it]"
     ]
    },
    {
     "name": "stdout",
     "output_type": "stream",
     "text": [
      "Early stopping, best iteration is:\n",
      "[146]\tcv_agg's l2: 0.269646 + 0.129898\n",
      "[100]\tcv_agg's l2: 0.274864 + 0.134505\n",
      "[200]\tcv_agg's l2: 0.276012 + 0.13473\n"
     ]
    },
    {
     "name": "stderr",
     "output_type": "stream",
     "text": [
      "bagging, val_score: 0.269646:  90%|###############################################7     | 9/10 [00:11<00:01,  1.39s/it][I 2023-12-01 17:41:31,561] Trial 35 finished with value: 0.27350960965312393 and parameters: {'bagging_fraction': 0.9721019971834413, 'bagging_freq': 7}. Best is trial 30 with value: 0.269645755470929.\n",
      "bagging, val_score: 0.269646:  90%|###############################################7     | 9/10 [00:11<00:01,  1.39s/it]"
     ]
    },
    {
     "name": "stdout",
     "output_type": "stream",
     "text": [
      "Early stopping, best iteration is:\n",
      "[146]\tcv_agg's l2: 0.269646 + 0.129898\n",
      "[100]\tcv_agg's l2: 0.283256 + 0.140785\n",
      "[200]\tcv_agg's l2: 0.282573 + 0.135146\n"
     ]
    },
    {
     "name": "stderr",
     "output_type": "stream",
     "text": [
      "bagging, val_score: 0.269646: 100%|####################################################| 10/10 [00:13<00:00,  1.36s/it][I 2023-12-01 17:41:32,875] Trial 36 finished with value: 0.2793524107458543 and parameters: {'bagging_fraction': 0.8512793126034424, 'bagging_freq': 5}. Best is trial 30 with value: 0.269645755470929.\n",
      "bagging, val_score: 0.269646: 100%|####################################################| 10/10 [00:13<00:00,  1.33s/it]\n"
     ]
    },
    {
     "name": "stdout",
     "output_type": "stream",
     "text": [
      "Early stopping, best iteration is:\n",
      "[146]\tcv_agg's l2: 0.269646 + 0.129898\n"
     ]
    },
    {
     "name": "stderr",
     "output_type": "stream",
     "text": [
      "feature_fraction_stage2, val_score: 0.269646:   0%|                                              | 0/6 [00:00<?, ?it/s]"
     ]
    },
    {
     "name": "stdout",
     "output_type": "stream",
     "text": [
      "[100]\tcv_agg's l2: 0.271508 + 0.130804\n",
      "[200]\tcv_agg's l2: 0.272976 + 0.12891\n"
     ]
    },
    {
     "name": "stderr",
     "output_type": "stream",
     "text": [
      "feature_fraction_stage2, val_score: 0.269646:  17%|######3                               | 1/6 [00:01<00:06,  1.31s/it][I 2023-12-01 17:41:34,196] Trial 37 finished with value: 0.269645755470929 and parameters: {'feature_fraction': 0.852}. Best is trial 37 with value: 0.269645755470929.\n",
      "feature_fraction_stage2, val_score: 0.269646:  17%|######3                               | 1/6 [00:01<00:06,  1.31s/it]"
     ]
    },
    {
     "name": "stdout",
     "output_type": "stream",
     "text": [
      "Early stopping, best iteration is:\n",
      "[146]\tcv_agg's l2: 0.269646 + 0.129898\n",
      "[100]\tcv_agg's l2: 0.275141 + 0.129057\n",
      "[200]\tcv_agg's l2: 0.278808 + 0.1293\n"
     ]
    },
    {
     "name": "stderr",
     "output_type": "stream",
     "text": [
      "feature_fraction_stage2, val_score: 0.269646:  33%|############6                         | 2/6 [00:02<00:05,  1.48s/it][I 2023-12-01 17:41:35,789] Trial 38 finished with value: 0.274912433515014 and parameters: {'feature_fraction': 0.948}. Best is trial 37 with value: 0.269645755470929.\n",
      "feature_fraction_stage2, val_score: 0.269646:  33%|############6                         | 2/6 [00:02<00:05,  1.48s/it]"
     ]
    },
    {
     "name": "stdout",
     "output_type": "stream",
     "text": [
      "Early stopping, best iteration is:\n",
      "[146]\tcv_agg's l2: 0.269646 + 0.129898\n",
      "[100]\tcv_agg's l2: 0.271508 + 0.130804\n",
      "[200]\tcv_agg's l2: 0.272976 + 0.12891\n"
     ]
    },
    {
     "name": "stderr",
     "output_type": "stream",
     "text": [
      "feature_fraction_stage2, val_score: 0.269646:  50%|###################                   | 3/6 [00:04<00:04,  1.42s/it][I 2023-12-01 17:41:37,136] Trial 39 finished with value: 0.269645755470929 and parameters: {'feature_fraction': 0.8839999999999999}. Best is trial 37 with value: 0.269645755470929.\n",
      "feature_fraction_stage2, val_score: 0.269646:  50%|###################                   | 3/6 [00:04<00:04,  1.42s/it]"
     ]
    },
    {
     "name": "stdout",
     "output_type": "stream",
     "text": [
      "Early stopping, best iteration is:\n",
      "[146]\tcv_agg's l2: 0.269646 + 0.129898\n",
      "[100]\tcv_agg's l2: 0.275141 + 0.129057\n",
      "[200]\tcv_agg's l2: 0.278808 + 0.1293\n"
     ]
    },
    {
     "name": "stderr",
     "output_type": "stream",
     "text": [
      "feature_fraction_stage2, val_score: 0.269646:  67%|#########################3            | 4/6 [00:05<00:02,  1.37s/it][I 2023-12-01 17:41:38,441] Trial 40 finished with value: 0.274912433515014 and parameters: {'feature_fraction': 0.9799999999999999}. Best is trial 37 with value: 0.269645755470929.\n",
      "feature_fraction_stage2, val_score: 0.269646:  67%|#########################3            | 4/6 [00:05<00:02,  1.37s/it]"
     ]
    },
    {
     "name": "stdout",
     "output_type": "stream",
     "text": [
      "Early stopping, best iteration is:\n",
      "[146]\tcv_agg's l2: 0.269646 + 0.129898\n",
      "[100]\tcv_agg's l2: 0.271508 + 0.130804\n",
      "[200]\tcv_agg's l2: 0.272976 + 0.12891\n"
     ]
    },
    {
     "name": "stderr",
     "output_type": "stream",
     "text": [
      "feature_fraction_stage2, val_score: 0.269646:  83%|###############################6      | 5/6 [00:06<00:01,  1.34s/it][I 2023-12-01 17:41:39,717] Trial 41 finished with value: 0.269645755470929 and parameters: {'feature_fraction': 0.9159999999999999}. Best is trial 37 with value: 0.269645755470929.\n",
      "feature_fraction_stage2, val_score: 0.269646:  83%|###############################6      | 5/6 [00:06<00:01,  1.34s/it]"
     ]
    },
    {
     "name": "stdout",
     "output_type": "stream",
     "text": [
      "Early stopping, best iteration is:\n",
      "[146]\tcv_agg's l2: 0.269646 + 0.129898\n",
      "[100]\tcv_agg's l2: 0.271508 + 0.130804\n",
      "[200]\tcv_agg's l2: 0.272976 + 0.12891\n"
     ]
    },
    {
     "name": "stderr",
     "output_type": "stream",
     "text": [
      "feature_fraction_stage2, val_score: 0.269646: 100%|######################################| 6/6 [00:08<00:00,  1.36s/it][I 2023-12-01 17:41:41,127] Trial 42 finished with value: 0.269645755470929 and parameters: {'feature_fraction': 0.82}. Best is trial 37 with value: 0.269645755470929.\n",
      "feature_fraction_stage2, val_score: 0.269646: 100%|######################################| 6/6 [00:08<00:00,  1.37s/it]\n"
     ]
    },
    {
     "name": "stdout",
     "output_type": "stream",
     "text": [
      "Early stopping, best iteration is:\n",
      "[146]\tcv_agg's l2: 0.269646 + 0.129898\n"
     ]
    },
    {
     "name": "stderr",
     "output_type": "stream",
     "text": [
      "regularization_factors, val_score: 0.269646:   0%|                                              | 0/20 [00:00<?, ?it/s]"
     ]
    },
    {
     "name": "stdout",
     "output_type": "stream",
     "text": [
      "[100]\tcv_agg's l2: 0.272634 + 0.13352\n",
      "[200]\tcv_agg's l2: 0.272621 + 0.129174\n"
     ]
    },
    {
     "name": "stderr",
     "output_type": "stream",
     "text": [
      "regularization_factors, val_score: 0.269646:   5%|#9                                    | 1/20 [00:01<00:25,  1.34s/it][I 2023-12-01 17:41:42,472] Trial 43 finished with value: 0.27021171747152944 and parameters: {'lambda_l1': 0.004354218959586184, 'lambda_l2': 0.10987462093003092}. Best is trial 43 with value: 0.27021171747152944.\n",
      "regularization_factors, val_score: 0.269646:   5%|#9                                    | 1/20 [00:01<00:25,  1.34s/it]"
     ]
    },
    {
     "name": "stdout",
     "output_type": "stream",
     "text": [
      "Early stopping, best iteration is:\n",
      "[146]\tcv_agg's l2: 0.269646 + 0.129898\n",
      "[100]\tcv_agg's l2: 0.271508 + 0.130804\n",
      "[200]\tcv_agg's l2: 0.272976 + 0.12891\n"
     ]
    },
    {
     "name": "stderr",
     "output_type": "stream",
     "text": [
      "regularization_factors, val_score: 0.269646:  10%|###8                                  | 2/20 [00:02<00:24,  1.33s/it][I 2023-12-01 17:41:43,803] Trial 44 finished with value: 0.26964575552000875 and parameters: {'lambda_l1': 3.522804501516772e-08, 'lambda_l2': 2.8081198795981003e-08}. Best is trial 44 with value: 0.26964575552000875.\n",
      "regularization_factors, val_score: 0.269646:  10%|###8                                  | 2/20 [00:02<00:24,  1.33s/it]"
     ]
    },
    {
     "name": "stdout",
     "output_type": "stream",
     "text": [
      "Early stopping, best iteration is:\n",
      "[146]\tcv_agg's l2: 0.269646 + 0.129898\n",
      "[100]\tcv_agg's l2: 0.304789 + 0.13243\n"
     ]
    },
    {
     "name": "stderr",
     "output_type": "stream",
     "text": [
      "regularization_factors, val_score: 0.269646:  15%|#####7                                | 3/20 [00:03<00:21,  1.29s/it][I 2023-12-01 17:41:45,044] Trial 45 finished with value: 0.3003880177773464 and parameters: {'lambda_l1': 4.830687334866773, 'lambda_l2': 8.825035422740255}. Best is trial 44 with value: 0.26964575552000875.\n",
      "regularization_factors, val_score: 0.269646:  15%|#####7                                | 3/20 [00:03<00:21,  1.29s/it]"
     ]
    },
    {
     "name": "stdout",
     "output_type": "stream",
     "text": [
      "[200]\tcv_agg's l2: 0.298681 + 0.130603\n",
      "Early stopping, best iteration is:\n",
      "[146]\tcv_agg's l2: 0.269646 + 0.129898\n",
      "[100]\tcv_agg's l2: 0.271508 + 0.130804\n",
      "[200]\tcv_agg's l2: 0.272976 + 0.12891\n"
     ]
    },
    {
     "name": "stderr",
     "output_type": "stream",
     "text": [
      "regularization_factors, val_score: 0.269646:  20%|#######6                              | 4/20 [00:05<00:21,  1.34s/it][I 2023-12-01 17:41:46,468] Trial 46 finished with value: 0.26964574741826325 and parameters: {'lambda_l1': 1.0560629299515461e-08, 'lambda_l2': 1.7138229895172368e-05}. Best is trial 46 with value: 0.26964574741826325.\n",
      "regularization_factors, val_score: 0.269646:  20%|#######6                              | 4/20 [00:05<00:21,  1.34s/it]"
     ]
    },
    {
     "name": "stdout",
     "output_type": "stream",
     "text": [
      "Early stopping, best iteration is:\n",
      "[146]\tcv_agg's l2: 0.269646 + 0.129898\n",
      "[100]\tcv_agg's l2: 0.271508 + 0.130804\n",
      "[200]\tcv_agg's l2: 0.272976 + 0.12891\n"
     ]
    },
    {
     "name": "stderr",
     "output_type": "stream",
     "text": [
      "regularization_factors, val_score: 0.269646:  25%|#########5                            | 5/20 [00:06<00:20,  1.39s/it][I 2023-12-01 17:41:47,930] Trial 47 finished with value: 0.26964574743325753 and parameters: {'lambda_l1': 2.80913700647518e-08, 'lambda_l2': 1.7252789715090447e-05}. Best is trial 46 with value: 0.26964574741826325.\n",
      "regularization_factors, val_score: 0.269646:  25%|#########5                            | 5/20 [00:06<00:20,  1.39s/it]"
     ]
    },
    {
     "name": "stdout",
     "output_type": "stream",
     "text": [
      "Early stopping, best iteration is:\n",
      "[146]\tcv_agg's l2: 0.269646 + 0.129898\n",
      "[100]\tcv_agg's l2: 0.271508 + 0.130804\n",
      "[200]\tcv_agg's l2: 0.272976 + 0.12891\n"
     ]
    },
    {
     "name": "stderr",
     "output_type": "stream",
     "text": [
      "regularization_factors, val_score: 0.269646:  30%|###########4                          | 6/20 [00:08<00:21,  1.53s/it][I 2023-12-01 17:41:49,751] Trial 48 finished with value: 0.26964574591186885 and parameters: {'lambda_l1': 1.1919022030869674e-08, 'lambda_l2': 1.9961131113675778e-05}. Best is trial 48 with value: 0.26964574591186885.\n",
      "regularization_factors, val_score: 0.269646:  30%|###########4                          | 6/20 [00:08<00:21,  1.53s/it]"
     ]
    },
    {
     "name": "stdout",
     "output_type": "stream",
     "text": [
      "Early stopping, best iteration is:\n",
      "[146]\tcv_agg's l2: 0.269646 + 0.129898\n",
      "[100]\tcv_agg's l2: 0.271508 + 0.130804\n",
      "[200]\tcv_agg's l2: 0.272976 + 0.12891\n"
     ]
    },
    {
     "name": "stderr",
     "output_type": "stream",
     "text": [
      "regularization_factors, val_score: 0.269646:  35%|#############3                        | 7/20 [00:09<00:18,  1.46s/it][I 2023-12-01 17:41:51,052] Trial 49 finished with value: 0.2696457471022228 and parameters: {'lambda_l1': 1.1845909830166442e-08, 'lambda_l2': 1.7974160720087054e-05}. Best is trial 48 with value: 0.26964574591186885.\n",
      "regularization_factors, val_score: 0.269646:  35%|#############3                        | 7/20 [00:09<00:18,  1.46s/it]"
     ]
    },
    {
     "name": "stdout",
     "output_type": "stream",
     "text": [
      "Early stopping, best iteration is:\n",
      "[146]\tcv_agg's l2: 0.269646 + 0.129898\n",
      "[100]\tcv_agg's l2: 0.271508 + 0.130804\n",
      "[200]\tcv_agg's l2: 0.272976 + 0.12891\n"
     ]
    },
    {
     "name": "stderr",
     "output_type": "stream",
     "text": [
      "regularization_factors, val_score: 0.269646:  40%|###############2                      | 8/20 [00:11<00:17,  1.43s/it][I 2023-12-01 17:41:52,428] Trial 50 finished with value: 0.26964574615156256 and parameters: {'lambda_l1': 1.17171980250197e-08, 'lambda_l2': 1.9631966754143213e-05}. Best is trial 48 with value: 0.26964574591186885.\n",
      "regularization_factors, val_score: 0.269646:  40%|###############2                      | 8/20 [00:11<00:17,  1.43s/it]"
     ]
    },
    {
     "name": "stdout",
     "output_type": "stream",
     "text": [
      "Early stopping, best iteration is:\n",
      "[146]\tcv_agg's l2: 0.269646 + 0.129898\n",
      "[100]\tcv_agg's l2: 0.271508 + 0.130804\n",
      "[200]\tcv_agg's l2: 0.272976 + 0.12891\n"
     ]
    },
    {
     "name": "stderr",
     "output_type": "stream",
     "text": [
      "regularization_factors, val_score: 0.269646:  45%|#################1                    | 9/20 [00:12<00:15,  1.38s/it][I 2023-12-01 17:41:53,700] Trial 51 finished with value: 0.26964575186680956 and parameters: {'lambda_l1': 1.4366357856380754e-08, 'lambda_l2': 8.563241344501922e-06}. Best is trial 48 with value: 0.26964574591186885.\n",
      "regularization_factors, val_score: 0.269646:  45%|#################1                    | 9/20 [00:12<00:15,  1.38s/it]"
     ]
    },
    {
     "name": "stdout",
     "output_type": "stream",
     "text": [
      "Early stopping, best iteration is:\n",
      "[146]\tcv_agg's l2: 0.269646 + 0.129898\n",
      "[100]\tcv_agg's l2: 0.271508 + 0.130804\n",
      "[200]\tcv_agg's l2: 0.272976 + 0.12891\n"
     ]
    },
    {
     "name": "stderr",
     "output_type": "stream",
     "text": [
      "regularization_factors, val_score: 0.269646:  50%|##################5                  | 10/20 [00:13<00:13,  1.35s/it][I 2023-12-01 17:41:54,987] Trial 52 finished with value: 0.2696457497456549 and parameters: {'lambda_l1': 1.0014054777197382e-08, 'lambda_l2': 1.1890299028650347e-05}. Best is trial 48 with value: 0.26964574591186885.\n",
      "regularization_factors, val_score: 0.269646:  50%|##################5                  | 10/20 [00:13<00:13,  1.35s/it]"
     ]
    },
    {
     "name": "stdout",
     "output_type": "stream",
     "text": [
      "Early stopping, best iteration is:\n",
      "[146]\tcv_agg's l2: 0.269646 + 0.129898\n",
      "[100]\tcv_agg's l2: 0.271508 + 0.130804\n",
      "[200]\tcv_agg's l2: 0.272976 + 0.12891\n"
     ]
    },
    {
     "name": "stderr",
     "output_type": "stream",
     "text": [
      "regularization_factors, val_score: 0.269646:  55%|####################3                | 11/20 [00:15<00:12,  1.37s/it][I 2023-12-01 17:41:56,386] Trial 53 finished with value: 0.2696457474882405 and parameters: {'lambda_l1': 1.269652311476627e-08, 'lambda_l2': 1.7156208060219484e-05}. Best is trial 48 with value: 0.26964574591186885.\n",
      "regularization_factors, val_score: 0.269646:  55%|####################3                | 11/20 [00:15<00:12,  1.37s/it]"
     ]
    },
    {
     "name": "stdout",
     "output_type": "stream",
     "text": [
      "Early stopping, best iteration is:\n",
      "[146]\tcv_agg's l2: 0.269646 + 0.129898\n",
      "[100]\tcv_agg's l2: 0.271508 + 0.130804\n",
      "[200]\tcv_agg's l2: 0.272976 + 0.12891\n"
     ]
    },
    {
     "name": "stderr",
     "output_type": "stream",
     "text": [
      "regularization_factors, val_score: 0.269646:  60%|######################2              | 12/20 [00:16<00:11,  1.38s/it][I 2023-12-01 17:41:57,812] Trial 54 finished with value: 0.26964574364617855 and parameters: {'lambda_l1': 1.10849186879833e-08, 'lambda_l2': 2.642261568781761e-05}. Best is trial 54 with value: 0.26964574364617855.\n",
      "regularization_factors, val_score: 0.269646:  60%|######################2              | 12/20 [00:16<00:11,  1.38s/it]"
     ]
    },
    {
     "name": "stdout",
     "output_type": "stream",
     "text": [
      "Early stopping, best iteration is:\n",
      "[146]\tcv_agg's l2: 0.269646 + 0.129898\n",
      "[100]\tcv_agg's l2: 0.271508 + 0.130804\n",
      "[200]\tcv_agg's l2: 0.272976 + 0.12891\n"
     ]
    },
    {
     "name": "stderr",
     "output_type": "stream",
     "text": [
      "regularization_factors, val_score: 0.269646:  65%|########################             | 13/20 [00:18<00:09,  1.37s/it][I 2023-12-01 17:41:59,164] Trial 55 finished with value: 0.2696457449957571 and parameters: {'lambda_l1': 1.3948257074618235e-08, 'lambda_l2': 2.2641990445920407e-05}. Best is trial 54 with value: 0.26964574364617855.\n",
      "regularization_factors, val_score: 0.269646:  65%|########################             | 13/20 [00:18<00:09,  1.37s/it]"
     ]
    },
    {
     "name": "stdout",
     "output_type": "stream",
     "text": [
      "Early stopping, best iteration is:\n",
      "[146]\tcv_agg's l2: 0.269646 + 0.129898\n",
      "[100]\tcv_agg's l2: 0.271508 + 0.130804\n",
      "[200]\tcv_agg's l2: 0.272976 + 0.12891\n"
     ]
    },
    {
     "name": "stderr",
     "output_type": "stream",
     "text": [
      "regularization_factors, val_score: 0.269646:  70%|#########################9           | 14/20 [00:19<00:08,  1.40s/it][I 2023-12-01 17:42:00,625] Trial 56 finished with value: 0.26964574071463165 and parameters: {'lambda_l1': 1.0229674282684943e-08, 'lambda_l2': 3.205313408133096e-05}. Best is trial 56 with value: 0.26964574071463165.\n",
      "regularization_factors, val_score: 0.269646:  70%|#########################9           | 14/20 [00:19<00:08,  1.40s/it]"
     ]
    },
    {
     "name": "stdout",
     "output_type": "stream",
     "text": [
      "Early stopping, best iteration is:\n",
      "[146]\tcv_agg's l2: 0.269646 + 0.129898\n",
      "[100]\tcv_agg's l2: 0.271508 + 0.130804\n",
      "[200]\tcv_agg's l2: 0.272976 + 0.12891\n"
     ]
    },
    {
     "name": "stderr",
     "output_type": "stream",
     "text": [
      "regularization_factors, val_score: 0.269646:  75%|###########################7         | 15/20 [00:20<00:06,  1.39s/it][I 2023-12-01 17:42:01,993] Trial 57 finished with value: 0.2696457139706533 and parameters: {'lambda_l1': 2.5827233328745137e-07, 'lambda_l2': 9.12461987138723e-05}. Best is trial 57 with value: 0.2696457139706533.\n",
      "regularization_factors, val_score: 0.269646:  75%|###########################7         | 15/20 [00:20<00:06,  1.39s/it]"
     ]
    },
    {
     "name": "stdout",
     "output_type": "stream",
     "text": [
      "Early stopping, best iteration is:\n",
      "[146]\tcv_agg's l2: 0.269646 + 0.129898\n",
      "[100]\tcv_agg's l2: 0.271508 + 0.130804\n",
      "[200]\tcv_agg's l2: 0.272975 + 0.12891\n"
     ]
    },
    {
     "name": "stderr",
     "output_type": "stream",
     "text": [
      "regularization_factors, val_score: 0.269646:  80%|#############################6       | 16/20 [00:22<00:05,  1.37s/it][I 2023-12-01 17:42:03,314] Trial 58 finished with value: 0.26964565138982016 and parameters: {'lambda_l1': 2.719985233841732e-07, 'lambda_l2': 0.00022963745923155164}. Best is trial 58 with value: 0.26964565138982016.\n",
      "regularization_factors, val_score: 0.269646:  80%|#############################6       | 16/20 [00:22<00:05,  1.37s/it]"
     ]
    },
    {
     "name": "stdout",
     "output_type": "stream",
     "text": [
      "Early stopping, best iteration is:\n",
      "[146]\tcv_agg's l2: 0.269646 + 0.129898\n",
      "[100]\tcv_agg's l2: 0.272185 + 0.132686\n",
      "[200]\tcv_agg's l2: 0.272708 + 0.131885\n"
     ]
    },
    {
     "name": "stderr",
     "output_type": "stream",
     "text": [
      "regularization_factors, val_score: 0.269646:  85%|###############################4     | 17/20 [00:23<00:04,  1.35s/it][I 2023-12-01 17:42:04,622] Trial 59 finished with value: 0.27072988568516043 and parameters: {'lambda_l1': 6.753545670496868e-07, 'lambda_l2': 0.0005502266194006202}. Best is trial 58 with value: 0.26964565138982016.\n",
      "regularization_factors, val_score: 0.269646:  85%|###############################4     | 17/20 [00:23<00:04,  1.35s/it]"
     ]
    },
    {
     "name": "stdout",
     "output_type": "stream",
     "text": [
      "Early stopping, best iteration is:\n",
      "[146]\tcv_agg's l2: 0.269646 + 0.129898\n",
      "[100]\tcv_agg's l2: 0.2723 + 0.132588\n",
      "[200]\tcv_agg's l2: 0.273432 + 0.131329\n"
     ]
    },
    {
     "name": "stderr",
     "output_type": "stream",
     "text": [
      "regularization_factors, val_score: 0.269646:  90%|#################################3   | 18/20 [00:25<00:02,  1.44s/it][I 2023-12-01 17:42:06,269] Trial 60 finished with value: 0.270585273675581 and parameters: {'lambda_l1': 4.669638054136874e-07, 'lambda_l2': 0.0003704183302984498}. Best is trial 58 with value: 0.26964565138982016.\n",
      "regularization_factors, val_score: 0.269646:  90%|#################################3   | 18/20 [00:25<00:02,  1.44s/it]"
     ]
    },
    {
     "name": "stdout",
     "output_type": "stream",
     "text": [
      "Early stopping, best iteration is:\n",
      "[146]\tcv_agg's l2: 0.269646 + 0.129898\n",
      "[100]\tcv_agg's l2: 0.271508 + 0.130804\n",
      "[200]\tcv_agg's l2: 0.272976 + 0.12891\n"
     ]
    },
    {
     "name": "stderr",
     "output_type": "stream",
     "text": [
      "regularization_factors, val_score: 0.269646:  95%|###################################1 | 19/20 [00:26<00:01,  1.44s/it][I 2023-12-01 17:42:07,701] Trial 61 finished with value: 0.26964570075572913 and parameters: {'lambda_l1': 3.7262435656975527e-07, 'lambda_l2': 0.00012090536929217148}. Best is trial 58 with value: 0.26964565138982016.\n",
      "regularization_factors, val_score: 0.269646:  95%|###################################1 | 19/20 [00:26<00:01,  1.44s/it]"
     ]
    },
    {
     "name": "stdout",
     "output_type": "stream",
     "text": [
      "Early stopping, best iteration is:\n",
      "[146]\tcv_agg's l2: 0.269646 + 0.129898\n",
      "[100]\tcv_agg's l2: 0.271508 + 0.130804\n",
      "[200]\tcv_agg's l2: 0.272976 + 0.12891\n"
     ]
    },
    {
     "name": "stderr",
     "output_type": "stream",
     "text": [
      "regularization_factors, val_score: 0.269646: 100%|#####################################| 20/20 [00:27<00:00,  1.43s/it][I 2023-12-01 17:42:09,100] Trial 62 finished with value: 0.26964565930830686 and parameters: {'lambda_l1': 3.425214096774361e-07, 'lambda_l2': 0.00021170617439566824}. Best is trial 58 with value: 0.26964565138982016.\n",
      "regularization_factors, val_score: 0.269646: 100%|#####################################| 20/20 [00:27<00:00,  1.40s/it]\n"
     ]
    },
    {
     "name": "stdout",
     "output_type": "stream",
     "text": [
      "Early stopping, best iteration is:\n",
      "[146]\tcv_agg's l2: 0.269646 + 0.129898\n"
     ]
    },
    {
     "name": "stderr",
     "output_type": "stream",
     "text": [
      "min_data_in_leaf, val_score: 0.269646:   0%|                                                     | 0/5 [00:00<?, ?it/s]"
     ]
    },
    {
     "name": "stdout",
     "output_type": "stream",
     "text": [
      "[100]\tcv_agg's l2: 0.313747 + 0.136206\n",
      "[200]\tcv_agg's l2: 0.313 + 0.130258\n"
     ]
    },
    {
     "name": "stderr",
     "output_type": "stream",
     "text": [
      "min_data_in_leaf, val_score: 0.269646:  20%|#########                                    | 1/5 [00:01<00:06,  1.54s/it][I 2023-12-01 17:42:10,642] Trial 63 finished with value: 0.31212023668754485 and parameters: {'min_child_samples': 50}. Best is trial 63 with value: 0.31212023668754485.\n",
      "min_data_in_leaf, val_score: 0.269646:  20%|#########                                    | 1/5 [00:01<00:06,  1.54s/it]"
     ]
    },
    {
     "name": "stdout",
     "output_type": "stream",
     "text": [
      "Early stopping, best iteration is:\n",
      "[146]\tcv_agg's l2: 0.269646 + 0.129898\n",
      "[100]\tcv_agg's l2: 0.279301 + 0.130344\n",
      "[200]\tcv_agg's l2: 0.279909 + 0.128287\n"
     ]
    },
    {
     "name": "stderr",
     "output_type": "stream",
     "text": [
      "min_data_in_leaf, val_score: 0.269646:  40%|##################                           | 2/5 [00:02<00:04,  1.45s/it][I 2023-12-01 17:42:12,034] Trial 64 finished with value: 0.2784887548905487 and parameters: {'min_child_samples': 25}. Best is trial 64 with value: 0.2784887548905487.\n",
      "min_data_in_leaf, val_score: 0.269646:  40%|##################                           | 2/5 [00:02<00:04,  1.45s/it]"
     ]
    },
    {
     "name": "stdout",
     "output_type": "stream",
     "text": [
      "Early stopping, best iteration is:\n",
      "[146]\tcv_agg's l2: 0.269646 + 0.129898\n",
      "[100]\tcv_agg's l2: 0.276692 + 0.131482\n",
      "[200]\tcv_agg's l2: 0.279245 + 0.130634\n"
     ]
    },
    {
     "name": "stderr",
     "output_type": "stream",
     "text": [
      "min_data_in_leaf, val_score: 0.269646:  60%|###########################                  | 3/5 [00:04<00:02,  1.41s/it][I 2023-12-01 17:42:13,398] Trial 65 finished with value: 0.27447151963958766 and parameters: {'min_child_samples': 10}. Best is trial 65 with value: 0.27447151963958766.\n",
      "min_data_in_leaf, val_score: 0.269646:  60%|###########################                  | 3/5 [00:04<00:02,  1.41s/it]"
     ]
    },
    {
     "name": "stdout",
     "output_type": "stream",
     "text": [
      "Early stopping, best iteration is:\n",
      "[146]\tcv_agg's l2: 0.269646 + 0.129898\n",
      "[100]\tcv_agg's l2: 0.454343 + 0.198782\n"
     ]
    },
    {
     "name": "stderr",
     "output_type": "stream",
     "text": [
      "min_data_in_leaf, val_score: 0.269646:  80%|####################################         | 4/5 [00:05<00:01,  1.21s/it][I 2023-12-01 17:42:14,302] Trial 66 finished with value: 0.45220924953931363 and parameters: {'min_child_samples': 100}. Best is trial 65 with value: 0.27447151963958766.\n",
      "min_data_in_leaf, val_score: 0.269646:  80%|####################################         | 4/5 [00:05<00:01,  1.21s/it]"
     ]
    },
    {
     "name": "stdout",
     "output_type": "stream",
     "text": [
      "[200]\tcv_agg's l2: 0.451588 + 0.20577\n",
      "Early stopping, best iteration is:\n",
      "[146]\tcv_agg's l2: 0.269646 + 0.129898\n",
      "[100]\tcv_agg's l2: 0.285749 + 0.126046\n",
      "[200]\tcv_agg's l2: 0.289093 + 0.12725\n"
     ]
    },
    {
     "name": "stderr",
     "output_type": "stream",
     "text": [
      "min_data_in_leaf, val_score: 0.269646: 100%|#############################################| 5/5 [00:06<00:00,  1.27s/it][I 2023-12-01 17:42:15,670] Trial 67 finished with value: 0.28540216156441556 and parameters: {'min_child_samples': 5}. Best is trial 65 with value: 0.27447151963958766.\n",
      "min_data_in_leaf, val_score: 0.269646: 100%|#############################################| 5/5 [00:06<00:00,  1.31s/it]"
     ]
    },
    {
     "name": "stdout",
     "output_type": "stream",
     "text": [
      "Early stopping, best iteration is:\n",
      "[146]\tcv_agg's l2: 0.269646 + 0.129898\n"
     ]
    },
    {
     "name": "stderr",
     "output_type": "stream",
     "text": [
      "\n"
     ]
    }
   ],
   "source": [
    "import optuna.integration.lightgbm as lgb\n",
    "from lightgbm import early_stopping, log_evaluation\n",
    "from sklearn.model_selection import KFold\n",
    "from sklearn.model_selection import RepeatedKFold\n",
    "\n",
    "\n",
    "lgb_train = lgb.Dataset(X_train, y_train)\n",
    "\n",
    "params = {\n",
    "    \"boosting_type\": \"gbdt\",\n",
    "    \"objective\": \"regression\",\n",
    "    \"metric\": \"l2\",\n",
    "    \"verbosity\": -1,\n",
    "}\n",
    "\n",
    "tuner = lgb.LightGBMTunerCV(\n",
    "    params,\n",
    "    lgb_train,\n",
    "    folds=KFold(n_splits=5),\n",
    "    num_boost_round=10000,\n",
    "    callbacks=[early_stopping(100), log_evaluation(100)],\n",
    ")\n",
    "\n",
    "tuner.run()"
   ]
  },
  {
   "cell_type": "code",
   "execution_count": 23,
   "id": "3b9d8fb3",
   "metadata": {},
   "outputs": [
    {
     "name": "stdout",
     "output_type": "stream",
     "text": [
      "Best score: 0.26964565138982016\n",
      "Params: \n",
      "    boosting_type: gbdt\n",
      "    objective: regression\n",
      "    metric: l2\n",
      "    verbosity: -1\n",
      "    feature_pre_filter: False\n",
      "    lambda_l1: 2.719985233841732e-07\n",
      "    lambda_l2: 0.00022963745923155164\n",
      "    num_leaves: 16\n",
      "    feature_fraction: 0.8999999999999999\n",
      "    bagging_fraction: 0.9671459270830322\n",
      "    bagging_freq: 7\n",
      "    min_child_samples: 20\n"
     ]
    }
   ],
   "source": [
    "print(f\"Best score: {tuner.best_score}\")\n",
    "best_params = tuner.best_params\n",
    "print(\"Params: \")\n",
    "for key, value in best_params.items():\n",
    "    print(\"    {}: {}\".format(key, value))"
   ]
  },
  {
   "cell_type": "code",
   "execution_count": 24,
   "id": "d25b1687",
   "metadata": {},
   "outputs": [],
   "source": [
    "import lightgbm as lgb\n",
    "\n",
    "lgb_tuned = lgb.train(\n",
    "    best_params,\n",
    "    lgb_train,\n",
    "    num_boost_round=10000,\n",
    ")"
   ]
  },
  {
   "cell_type": "code",
   "execution_count": 25,
   "id": "290a9f09",
   "metadata": {
    "scrolled": false
   },
   "outputs": [
    {
     "name": "stdout",
     "output_type": "stream",
     "text": [
      "RMSE train: 0.02\n",
      "RMSE test: 0.75\n",
      "MAE test: 0.45\n",
      "\n"
     ]
    }
   ],
   "source": [
    "rmse, mae = assess_regression_model(lgb_tuned, X_train, X_test, y_train, y_test)"
   ]
  },
  {
   "cell_type": "code",
   "execution_count": 26,
   "id": "a6ecfca2",
   "metadata": {},
   "outputs": [],
   "source": [
    "results.loc[1] = [\n",
    "    \"chronological\",\n",
    "    \"Optuna\",\n",
    "    \"basic\",\n",
    "    rmse,\n",
    "    mae,\n",
    "]"
   ]
  },
  {
   "cell_type": "markdown",
   "id": "2f13ab75",
   "metadata": {},
   "source": [
    "###### MAE by level"
   ]
  },
  {
   "cell_type": "code",
   "execution_count": 27,
   "id": "e2f172bc",
   "metadata": {},
   "outputs": [
    {
     "data": {
      "image/png": "[encoded data removed]",
      "text/plain": [
       "<Figure size 1440x576 with 1 Axes>"
      ]
     },
     "metadata": {
      "needs_background": "light"
     },
     "output_type": "display_data"
    }
   ],
   "source": [
    "plot_mae_by_level(\n",
    "    y_test,\n",
    "    y_pred_test,\n",
    "    title=\"MAE by level for tuned LightGBM with basic features and chronological split\",\n",
    ")"
   ]
  },
  {
   "cell_type": "code",
   "execution_count": 28,
   "id": "9f6b3122",
   "metadata": {
    "scrolled": false
   },
   "outputs": [
    {
     "name": "stdout",
     "output_type": "stream",
     "text": [
      "Default:\n",
      "RMSE: 0.75\n",
      "\n",
      "Round type: 0.5\n",
      "RMSE: 0.78\n",
      "\n",
      "Round type: 0.33\n",
      "RMSE: 0.78\n",
      "\n",
      "Round type: 0.45\n",
      "RMSE: 0.77\n",
      "\n"
     ]
    }
   ],
   "source": [
    "predict = lgb_tuned.predict(X_test)\n",
    "evaluate_round_predictions([0.5, 0.33, 0.45], y_test, predict)"
   ]
  },
  {
   "cell_type": "code",
   "execution_count": 29,
   "id": "a8aaafa3",
   "metadata": {},
   "outputs": [],
   "source": [
    "predict[predict < -1] = -1\n",
    "predict[predict > 21] = 21"
   ]
  },
  {
   "cell_type": "code",
   "execution_count": 30,
   "id": "515dc232",
   "metadata": {},
   "outputs": [
    {
     "data": {
      "image/png": "[encoded data removed]",
      "text/plain": [
       "<Figure size 720x720 with 2 Axes>"
      ]
     },
     "metadata": {
      "needs_background": "light"
     },
     "output_type": "display_data"
    }
   ],
   "source": [
    "plot_confusion_matrix(\n",
    "    predict,\n",
    "    y_test,\n",
    "    title=\"Confusion matrix for tuned LightGBM with basic features and chronological split\",\n",
    ")"
   ]
  },
  {
   "cell_type": "markdown",
   "id": "493f7602",
   "metadata": {},
   "source": [
    "## Random split"
   ]
  },
  {
   "cell_type": "code",
   "execution_count": 31,
   "id": "4948ca0a",
   "metadata": {},
   "outputs": [
    {
     "name": "stdout",
     "output_type": "stream",
     "text": [
      "[LightGBM] [Warning] Auto-choosing col-wise multi-threading, the overhead of testing was 0.000292 seconds.\n",
      "You can set `force_col_wise=true` to remove the overhead.\n",
      "[LightGBM] [Info] Total Bins 291\n",
      "[LightGBM] [Info] Number of data points in the train set: 2767, number of used features: 8\n",
      "[LightGBM] [Info] Start training from score 7.220455\n",
      "Training until validation scores don't improve for 5 rounds\n",
      "Early stopping, best iteration is:\n",
      "[65]\tvalid_0's l2: 0.322742\tvalid_0's l1: 0.368391\n"
     ]
    }
   ],
   "source": [
    "import lightgbm as lgb\n",
    "from sklearn.metrics import mean_squared_error\n",
    "\n",
    "lgb_train = lgb.Dataset(X_train_random_split, y_train_random_split)\n",
    "lgb_eval = lgb.Dataset(X_test_random_split, y_test_random_split, reference=lgb_train)\n",
    "\n",
    "params = {\n",
    "    \"boosting_type\": \"gbdt\",\n",
    "    \"objective\": \"regression\",\n",
    "    \"metric\": {\"l2\", \"l1\"},\n",
    "}\n",
    "\n",
    "gbm = lgb.train(\n",
    "    params,\n",
    "    lgb_train,\n",
    "    num_boost_round=100,\n",
    "    valid_sets=lgb_eval,\n",
    "    callbacks=[lgb.early_stopping(stopping_rounds=5)],\n",
    ")"
   ]
  },
  {
   "cell_type": "code",
   "execution_count": 32,
   "id": "f9bd4c3b",
   "metadata": {},
   "outputs": [],
   "source": [
    "y_pred_train = gbm.predict(X_train_random_split, num_iteration=gbm.best_iteration)\n",
    "y_pred_test = gbm.predict(X_test_random_split, num_iteration=gbm.best_iteration)"
   ]
  },
  {
   "cell_type": "code",
   "execution_count": 33,
   "id": "c014931e",
   "metadata": {},
   "outputs": [
    {
     "name": "stdout",
     "output_type": "stream",
     "text": [
      "RMSE: 0.57\n",
      "MAE: 0.37\n"
     ]
    }
   ],
   "source": [
    "from sklearn.metrics import mean_squared_error, mean_absolute_error\n",
    "\n",
    "\n",
    "rmse = mean_squared_error(y_test_random_split, y_pred_test, squared=False)\n",
    "mae = mean_absolute_error(y_test_random_split, y_pred_test)\n",
    "\n",
    "print(f\"RMSE: {rmse:.2f}\")\n",
    "print(f\"MAE: {mae:.2f}\")"
   ]
  },
  {
   "cell_type": "code",
   "execution_count": 34,
   "id": "8cbceea7",
   "metadata": {},
   "outputs": [],
   "source": [
    "results.loc[2] = [\"random\", \"default\", \"basic\", rmse, mae]"
   ]
  },
  {
   "cell_type": "markdown",
   "id": "eacfd0ab",
   "metadata": {},
   "source": [
    "###### MAE by level"
   ]
  },
  {
   "cell_type": "code",
   "execution_count": 35,
   "id": "8af01c5c",
   "metadata": {},
   "outputs": [
    {
     "data": {
      "image/png": "[encoded data removed]",
      "text/plain": [
       "<Figure size 1440x576 with 1 Axes>"
      ]
     },
     "metadata": {
      "needs_background": "light"
     },
     "output_type": "display_data"
    }
   ],
   "source": [
    "plot_mae_by_level(\n",
    "    y_test_random_split,\n",
    "    y_pred_test,\n",
    "    title=\"MAE by level for default LightGBM with basic features and random split\",\n",
    ")"
   ]
  },
  {
   "cell_type": "code",
   "execution_count": 36,
   "id": "e5edd1d7",
   "metadata": {
    "scrolled": true
   },
   "outputs": [
    {
     "name": "stdout",
     "output_type": "stream",
     "text": [
      "Default:\n",
      "RMSE: 0.57\n",
      "\n",
      "Round type: 0.5\n",
      "RMSE: 0.60\n",
      "\n",
      "Round type: 0.33\n",
      "RMSE: 0.64\n",
      "\n",
      "Round type: 0.45\n",
      "RMSE: 0.60\n",
      "\n"
     ]
    }
   ],
   "source": [
    "evaluate_round_predictions([0.5, 0.33, 0.45], y_test_random_split, y_pred_test)"
   ]
  },
  {
   "cell_type": "code",
   "execution_count": 37,
   "id": "39e001dd",
   "metadata": {},
   "outputs": [
    {
     "data": {
      "image/png": "[encoded data removed]",
      "text/plain": [
       "<Figure size 720x720 with 2 Axes>"
      ]
     },
     "metadata": {
      "needs_background": "light"
     },
     "output_type": "display_data"
    }
   ],
   "source": [
    "plot_confusion_matrix(\n",
    "    y_pred_test,\n",
    "    y_test_random_split,\n",
    "    title=\"Confusion matrix for default LightGBM with basic features and random split\",\n",
    ")"
   ]
  },
  {
   "cell_type": "markdown",
   "id": "2a0c7ae0",
   "metadata": {},
   "source": [
    "### Tuning"
   ]
  },
  {
   "cell_type": "code",
   "execution_count": 38,
   "id": "0ef6525a",
   "metadata": {},
   "outputs": [
    {
     "name": "stderr",
     "output_type": "stream",
     "text": [
      "[I 2023-12-01 17:42:35,294] A new study created in memory with name: no-name-b2d7b78b-eded-4947-a25c-262752f202d3\n",
      "feature_fraction, val_score: inf:   0%|                                                          | 0/7 [00:00<?, ?it/s]"
     ]
    },
    {
     "name": "stdout",
     "output_type": "stream",
     "text": [
      "Training until validation scores don't improve for 100 rounds\n",
      "[100]\tcv_agg's l2: 0.38259 + 0.0979963\n",
      "[200]\tcv_agg's l2: 0.37809 + 0.0955408\n"
     ]
    },
    {
     "name": "stderr",
     "output_type": "stream",
     "text": [
      "feature_fraction, val_score: 0.377614:  14%|######4                                      | 1/7 [00:02<00:16,  2.80s/it][I 2023-12-01 17:42:38,103] Trial 0 finished with value: 0.3776144591325468 and parameters: {'feature_fraction': 0.8}. Best is trial 0 with value: 0.3776144591325468.\n",
      "feature_fraction, val_score: 0.377614:  14%|######4                                      | 1/7 [00:02<00:16,  2.80s/it]"
     ]
    },
    {
     "name": "stdout",
     "output_type": "stream",
     "text": [
      "Early stopping, best iteration is:\n",
      "[186]\tcv_agg's l2: 0.377614 + 0.0962711\n",
      "[100]\tcv_agg's l2: 0.384684 + 0.0902822\n",
      "[200]\tcv_agg's l2: 0.37959 + 0.0897282\n"
     ]
    },
    {
     "name": "stderr",
     "output_type": "stream",
     "text": [
      "feature_fraction, val_score: 0.377614:  29%|############8                                | 2/7 [00:05<00:14,  2.89s/it][I 2023-12-01 17:42:41,054] Trial 1 finished with value: 0.37912347025923054 and parameters: {'feature_fraction': 0.6}. Best is trial 0 with value: 0.3776144591325468.\n",
      "feature_fraction, val_score: 0.377614:  29%|############8                                | 2/7 [00:05<00:14,  2.89s/it]"
     ]
    },
    {
     "name": "stdout",
     "output_type": "stream",
     "text": [
      "Early stopping, best iteration is:\n",
      "[186]\tcv_agg's l2: 0.377614 + 0.0962711\n",
      "[100]\tcv_agg's l2: 0.486775 + 0.0746439\n",
      "[200]\tcv_agg's l2: 0.436861 + 0.0817711\n"
     ]
    },
    {
     "name": "stderr",
     "output_type": "stream",
     "text": [
      "feature_fraction, val_score: 0.377614:  43%|###################2                         | 3/7 [00:08<00:10,  2.73s/it][I 2023-12-01 17:42:43,601] Trial 2 finished with value: 0.4402284450411928 and parameters: {'feature_fraction': 0.4}. Best is trial 0 with value: 0.3776144591325468.\n",
      "feature_fraction, val_score: 0.377614:  43%|###################2                         | 3/7 [00:08<00:10,  2.73s/it]"
     ]
    },
    {
     "name": "stdout",
     "output_type": "stream",
     "text": [
      "Early stopping, best iteration is:\n",
      "[186]\tcv_agg's l2: 0.377614 + 0.0962711\n",
      "[100]\tcv_agg's l2: 0.426671 + 0.0807398\n",
      "[200]\tcv_agg's l2: 0.409928 + 0.0832138\n"
     ]
    },
    {
     "name": "stderr",
     "output_type": "stream",
     "text": [
      "feature_fraction, val_score: 0.377614:  57%|#########################7                   | 4/7 [00:10<00:07,  2.65s/it][I 2023-12-01 17:42:46,133] Trial 3 finished with value: 0.40979056184716445 and parameters: {'feature_fraction': 0.5}. Best is trial 0 with value: 0.3776144591325468.\n",
      "feature_fraction, val_score: 0.377614:  57%|#########################7                   | 4/7 [00:10<00:07,  2.65s/it]"
     ]
    },
    {
     "name": "stdout",
     "output_type": "stream",
     "text": [
      "Early stopping, best iteration is:\n",
      "[186]\tcv_agg's l2: 0.377614 + 0.0962711\n",
      "[100]\tcv_agg's l2: 0.394264 + 0.116915\n",
      "[200]\tcv_agg's l2: 0.393666 + 0.110216\n"
     ]
    },
    {
     "name": "stderr",
     "output_type": "stream",
     "text": [
      "feature_fraction, val_score: 0.377614:  71%|################################1            | 5/7 [00:13<00:05,  2.78s/it][I 2023-12-01 17:42:49,143] Trial 4 finished with value: 0.3935111150071314 and parameters: {'feature_fraction': 1.0}. Best is trial 0 with value: 0.3776144591325468.\n",
      "feature_fraction, val_score: 0.377614:  71%|################################1            | 5/7 [00:13<00:05,  2.78s/it]"
     ]
    },
    {
     "name": "stdout",
     "output_type": "stream",
     "text": [
      "Early stopping, best iteration is:\n",
      "[186]\tcv_agg's l2: 0.377614 + 0.0962711\n",
      "[100]\tcv_agg's l2: 0.390601 + 0.119172\n",
      "[200]\tcv_agg's l2: 0.387317 + 0.114032\n"
     ]
    },
    {
     "name": "stderr",
     "output_type": "stream",
     "text": [
      "feature_fraction, val_score: 0.377614:  86%|######################################5      | 6/7 [00:16<00:02,  2.74s/it][I 2023-12-01 17:42:51,809] Trial 5 finished with value: 0.38757469726281624 and parameters: {'feature_fraction': 0.8999999999999999}. Best is trial 0 with value: 0.3776144591325468.\n",
      "feature_fraction, val_score: 0.377614:  86%|######################################5      | 6/7 [00:16<00:02,  2.74s/it]"
     ]
    },
    {
     "name": "stdout",
     "output_type": "stream",
     "text": [
      "Early stopping, best iteration is:\n",
      "[186]\tcv_agg's l2: 0.377614 + 0.0962711\n",
      "[100]\tcv_agg's l2: 0.38259 + 0.0979963\n",
      "[200]\tcv_agg's l2: 0.37809 + 0.0955408\n"
     ]
    },
    {
     "name": "stderr",
     "output_type": "stream",
     "text": [
      "feature_fraction, val_score: 0.377614: 100%|#############################################| 7/7 [00:19<00:00,  2.74s/it][I 2023-12-01 17:42:54,548] Trial 6 finished with value: 0.3776144591325468 and parameters: {'feature_fraction': 0.7}. Best is trial 0 with value: 0.3776144591325468.\n",
      "feature_fraction, val_score: 0.377614: 100%|#############################################| 7/7 [00:19<00:00,  2.75s/it]\n"
     ]
    },
    {
     "name": "stdout",
     "output_type": "stream",
     "text": [
      "Early stopping, best iteration is:\n",
      "[186]\tcv_agg's l2: 0.377614 + 0.0962711\n"
     ]
    },
    {
     "name": "stderr",
     "output_type": "stream",
     "text": [
      "num_leaves, val_score: 0.377614:   0%|                                                          | 0/20 [00:00<?, ?it/s]"
     ]
    },
    {
     "name": "stdout",
     "output_type": "stream",
     "text": [
      "[100]\tcv_agg's l2: 0.378081 + 0.096453\n"
     ]
    },
    {
     "name": "stderr",
     "output_type": "stream",
     "text": [
      "num_leaves, val_score: 0.377101:   5%|##5                                               | 1/20 [00:04<01:28,  4.64s/it][I 2023-12-01 17:42:59,198] Trial 7 finished with value: 0.3771011833144272 and parameters: {'num_leaves': 147}. Best is trial 7 with value: 0.3771011833144272.\n",
      "num_leaves, val_score: 0.377101:   5%|##5                                               | 1/20 [00:04<01:28,  4.64s/it]"
     ]
    },
    {
     "name": "stdout",
     "output_type": "stream",
     "text": [
      "[200]\tcv_agg's l2: 0.381301 + 0.0953114\n",
      "Early stopping, best iteration is:\n",
      "[108]\tcv_agg's l2: 0.377101 + 0.0949513\n",
      "[100]\tcv_agg's l2: 0.378003 + 0.0961649\n",
      "[200]\tcv_agg's l2: 0.374177 + 0.0955219\n"
     ]
    },
    {
     "name": "stderr",
     "output_type": "stream",
     "text": [
      "num_leaves, val_score: 0.373800:  10%|#####                                             | 2/20 [00:07<01:04,  3.59s/it][I 2023-12-01 17:43:02,057] Trial 8 finished with value: 0.37380029500704726 and parameters: {'num_leaves': 27}. Best is trial 8 with value: 0.37380029500704726.\n",
      "num_leaves, val_score: 0.373800:  10%|#####                                             | 2/20 [00:07<01:04,  3.59s/it]"
     ]
    },
    {
     "name": "stdout",
     "output_type": "stream",
     "text": [
      "Early stopping, best iteration is:\n",
      "[194]\tcv_agg's l2: 0.3738 + 0.0955537\n",
      "[100]\tcv_agg's l2: 0.378081 + 0.096453\n",
      "[200]\tcv_agg's l2: 0.381301 + 0.0953114\n"
     ]
    },
    {
     "name": "stderr",
     "output_type": "stream",
     "text": [
      "num_leaves, val_score: 0.373800:  15%|#######5                                          | 3/20 [00:16<01:39,  5.86s/it][I 2023-12-01 17:43:10,619] Trial 9 finished with value: 0.38114454359371386 and parameters: {'num_leaves': 158}. Best is trial 8 with value: 0.37380029500704726.\n",
      "num_leaves, val_score: 0.373800:  15%|#######5                                          | 3/20 [00:16<01:39,  5.86s/it]"
     ]
    },
    {
     "name": "stdout",
     "output_type": "stream",
     "text": [
      "Early stopping, best iteration is:\n",
      "[194]\tcv_agg's l2: 0.3738 + 0.0955537\n",
      "[100]\tcv_agg's l2: 0.467026 + 0.111508\n",
      "[200]\tcv_agg's l2: 0.426856 + 0.10714\n"
     ]
    },
    {
     "name": "stderr",
     "output_type": "stream",
     "text": [
      "num_leaves, val_score: 0.373800:  20%|##########                                        | 4/20 [00:16<01:01,  3.87s/it][I 2023-12-01 17:43:11,443] Trial 10 finished with value: 0.42816637807385866 and parameters: {'num_leaves': 4}. Best is trial 8 with value: 0.37380029500704726.\n",
      "num_leaves, val_score: 0.373800:  20%|##########                                        | 4/20 [00:16<01:01,  3.87s/it]"
     ]
    },
    {
     "name": "stdout",
     "output_type": "stream",
     "text": [
      "Early stopping, best iteration is:\n",
      "[194]\tcv_agg's l2: 0.3738 + 0.0955537\n",
      "[100]\tcv_agg's l2: 0.385207 + 0.0907222\n",
      "[200]\tcv_agg's l2: 0.389968 + 0.0898523\n"
     ]
    },
    {
     "name": "stderr",
     "output_type": "stream",
     "text": [
      "num_leaves, val_score: 0.373800:  25%|############5                                     | 5/20 [00:23<01:12,  4.82s/it][I 2023-12-01 17:43:17,954] Trial 11 finished with value: 0.3897794658134056 and parameters: {'num_leaves': 62}. Best is trial 8 with value: 0.37380029500704726.\n",
      "num_leaves, val_score: 0.373800:  25%|############5                                     | 5/20 [00:23<01:12,  4.82s/it]"
     ]
    },
    {
     "name": "stdout",
     "output_type": "stream",
     "text": [
      "Early stopping, best iteration is:\n",
      "[194]\tcv_agg's l2: 0.3738 + 0.0955537\n",
      "[100]\tcv_agg's l2: 0.378081 + 0.096453\n",
      "[200]\tcv_agg's l2: 0.381301 + 0.0953114\n"
     ]
    },
    {
     "name": "stderr",
     "output_type": "stream",
     "text": [
      "num_leaves, val_score: 0.373800:  30%|###############                                   | 6/20 [00:33<01:33,  6.67s/it][I 2023-12-01 17:43:28,217] Trial 12 finished with value: 0.38114454359371386 and parameters: {'num_leaves': 245}. Best is trial 8 with value: 0.37380029500704726.\n",
      "num_leaves, val_score: 0.373800:  30%|###############                                   | 6/20 [00:33<01:33,  6.67s/it]"
     ]
    },
    {
     "name": "stdout",
     "output_type": "stream",
     "text": [
      "Early stopping, best iteration is:\n",
      "[194]\tcv_agg's l2: 0.3738 + 0.0955537\n",
      "[100]\tcv_agg's l2: 0.378081 + 0.096453\n",
      "[200]\tcv_agg's l2: 0.381301 + 0.0953114\n"
     ]
    },
    {
     "name": "stderr",
     "output_type": "stream",
     "text": [
      "num_leaves, val_score: 0.373800:  35%|#################5                                | 7/20 [00:41<01:31,  7.06s/it][I 2023-12-01 17:43:36,066] Trial 13 finished with value: 0.38114454359371386 and parameters: {'num_leaves': 138}. Best is trial 8 with value: 0.37380029500704726.\n",
      "num_leaves, val_score: 0.373800:  35%|#################5                                | 7/20 [00:41<01:31,  7.06s/it]"
     ]
    },
    {
     "name": "stdout",
     "output_type": "stream",
     "text": [
      "Early stopping, best iteration is:\n",
      "[194]\tcv_agg's l2: 0.3738 + 0.0955537\n",
      "[100]\tcv_agg's l2: 0.378081 + 0.096453\n",
      "[200]\tcv_agg's l2: 0.381301 + 0.0953114\n"
     ]
    },
    {
     "name": "stderr",
     "output_type": "stream",
     "text": [
      "num_leaves, val_score: 0.373800:  40%|####################                              | 8/20 [00:48<01:25,  7.14s/it][I 2023-12-01 17:43:43,391] Trial 14 finished with value: 0.38114454359371386 and parameters: {'num_leaves': 94}. Best is trial 8 with value: 0.37380029500704726.\n",
      "num_leaves, val_score: 0.373800:  40%|####################                              | 8/20 [00:48<01:25,  7.14s/it]"
     ]
    },
    {
     "name": "stdout",
     "output_type": "stream",
     "text": [
      "Early stopping, best iteration is:\n",
      "[194]\tcv_agg's l2: 0.3738 + 0.0955537\n",
      "[100]\tcv_agg's l2: 0.378081 + 0.096453\n",
      "[200]\tcv_agg's l2: 0.381301 + 0.0953114\n"
     ]
    },
    {
     "name": "stderr",
     "output_type": "stream",
     "text": [
      "num_leaves, val_score: 0.373800:  45%|######################5                           | 9/20 [00:55<01:18,  7.15s/it][I 2023-12-01 17:43:50,542] Trial 15 finished with value: 0.38114454359371386 and parameters: {'num_leaves': 185}. Best is trial 8 with value: 0.37380029500704726.\n",
      "num_leaves, val_score: 0.373800:  45%|######################5                           | 9/20 [00:55<01:18,  7.15s/it]"
     ]
    },
    {
     "name": "stdout",
     "output_type": "stream",
     "text": [
      "Early stopping, best iteration is:\n",
      "[194]\tcv_agg's l2: 0.3738 + 0.0955537\n",
      "[100]\tcv_agg's l2: 0.467026 + 0.111508\n",
      "[200]\tcv_agg's l2: 0.426856 + 0.10714\n"
     ]
    },
    {
     "name": "stderr",
     "output_type": "stream",
     "text": [
      "num_leaves, val_score: 0.373800:  50%|########################5                        | 10/20 [00:56<00:51,  5.13s/it][I 2023-12-01 17:43:51,147] Trial 16 finished with value: 0.42816637807385866 and parameters: {'num_leaves': 4}. Best is trial 8 with value: 0.37380029500704726.\n",
      "num_leaves, val_score: 0.373800:  50%|########################5                        | 10/20 [00:56<00:51,  5.13s/it]"
     ]
    },
    {
     "name": "stdout",
     "output_type": "stream",
     "text": [
      "Early stopping, best iteration is:\n",
      "[194]\tcv_agg's l2: 0.3738 + 0.0955537\n",
      "[100]\tcv_agg's l2: 0.378081 + 0.096453\n",
      "[200]\tcv_agg's l2: 0.381301 + 0.0953114\n"
     ]
    },
    {
     "name": "stderr",
     "output_type": "stream",
     "text": [
      "num_leaves, val_score: 0.373800:  55%|##########################9                      | 11/20 [01:02<00:49,  5.49s/it][I 2023-12-01 17:43:57,463] Trial 17 finished with value: 0.38114454359371386 and parameters: {'num_leaves': 99}. Best is trial 8 with value: 0.37380029500704726.\n",
      "num_leaves, val_score: 0.373800:  55%|##########################9                      | 11/20 [01:02<00:49,  5.49s/it]"
     ]
    },
    {
     "name": "stdout",
     "output_type": "stream",
     "text": [
      "Early stopping, best iteration is:\n",
      "[194]\tcv_agg's l2: 0.3738 + 0.0955537\n",
      "[100]\tcv_agg's l2: 0.378081 + 0.096453\n",
      "[200]\tcv_agg's l2: 0.381301 + 0.0953114\n"
     ]
    },
    {
     "name": "stderr",
     "output_type": "stream",
     "text": [
      "num_leaves, val_score: 0.373800:  60%|#############################4                   | 12/20 [01:09<00:46,  5.78s/it][I 2023-12-01 17:44:03,912] Trial 18 finished with value: 0.38114454359371386 and parameters: {'num_leaves': 201}. Best is trial 8 with value: 0.37380029500704726.\n",
      "num_leaves, val_score: 0.373800:  60%|#############################4                   | 12/20 [01:09<00:46,  5.78s/it]"
     ]
    },
    {
     "name": "stdout",
     "output_type": "stream",
     "text": [
      "Early stopping, best iteration is:\n",
      "[194]\tcv_agg's l2: 0.3738 + 0.0955537\n",
      "[100]\tcv_agg's l2: 0.381226 + 0.0952773\n",
      "[200]\tcv_agg's l2: 0.381974 + 0.0936921\n"
     ]
    },
    {
     "name": "stderr",
     "output_type": "stream",
     "text": [
      "num_leaves, val_score: 0.373800:  65%|###############################8                 | 13/20 [01:14<00:39,  5.59s/it][I 2023-12-01 17:44:09,045] Trial 19 finished with value: 0.3818677695993243 and parameters: {'num_leaves': 59}. Best is trial 8 with value: 0.37380029500704726.\n",
      "num_leaves, val_score: 0.373800:  65%|###############################8                 | 13/20 [01:14<00:39,  5.59s/it]"
     ]
    },
    {
     "name": "stdout",
     "output_type": "stream",
     "text": [
      "Early stopping, best iteration is:\n",
      "[194]\tcv_agg's l2: 0.3738 + 0.0955537\n",
      "[100]\tcv_agg's l2: 0.378081 + 0.096453\n",
      "[200]\tcv_agg's l2: 0.381301 + 0.0953114\n"
     ]
    },
    {
     "name": "stderr",
     "output_type": "stream",
     "text": [
      "num_leaves, val_score: 0.373800:  70%|##################################3              | 14/20 [01:20<00:35,  5.86s/it][I 2023-12-01 17:44:15,541] Trial 20 finished with value: 0.38114454359371386 and parameters: {'num_leaves': 100}. Best is trial 8 with value: 0.37380029500704726.\n",
      "num_leaves, val_score: 0.373800:  70%|##################################3              | 14/20 [01:20<00:35,  5.86s/it]"
     ]
    },
    {
     "name": "stdout",
     "output_type": "stream",
     "text": [
      "Early stopping, best iteration is:\n",
      "[194]\tcv_agg's l2: 0.3738 + 0.0955537\n",
      "[100]\tcv_agg's l2: 0.380632 + 0.0957294\n",
      "[200]\tcv_agg's l2: 0.383603 + 0.0937154\n"
     ]
    },
    {
     "name": "stderr",
     "output_type": "stream",
     "text": [
      "num_leaves, val_score: 0.373800:  75%|####################################7            | 15/20 [01:27<00:29,  5.98s/it][I 2023-12-01 17:44:21,784] Trial 21 finished with value: 0.38325087296333554 and parameters: {'num_leaves': 53}. Best is trial 8 with value: 0.37380029500704726.\n",
      "num_leaves, val_score: 0.373800:  75%|####################################7            | 15/20 [01:27<00:29,  5.98s/it]"
     ]
    },
    {
     "name": "stdout",
     "output_type": "stream",
     "text": [
      "Early stopping, best iteration is:\n",
      "[194]\tcv_agg's l2: 0.3738 + 0.0955537\n",
      "[100]\tcv_agg's l2: 0.378081 + 0.096453\n",
      "[200]\tcv_agg's l2: 0.381301 + 0.0953114\n"
     ]
    },
    {
     "name": "stderr",
     "output_type": "stream",
     "text": [
      "num_leaves, val_score: 0.373800:  80%|#######################################2         | 16/20 [01:34<00:24,  6.25s/it][I 2023-12-01 17:44:28,656] Trial 22 finished with value: 0.38114454359371386 and parameters: {'num_leaves': 169}. Best is trial 8 with value: 0.37380029500704726.\n",
      "num_leaves, val_score: 0.373800:  80%|#######################################2         | 16/20 [01:34<00:24,  6.25s/it]"
     ]
    },
    {
     "name": "stdout",
     "output_type": "stream",
     "text": [
      "Early stopping, best iteration is:\n",
      "[194]\tcv_agg's l2: 0.3738 + 0.0955537\n",
      "[100]\tcv_agg's l2: 0.378081 + 0.096453\n",
      "[200]\tcv_agg's l2: 0.381301 + 0.0953114\n"
     ]
    },
    {
     "name": "stderr",
     "output_type": "stream",
     "text": [
      "num_leaves, val_score: 0.373800:  85%|#########################################6       | 17/20 [01:42<00:20,  6.98s/it][I 2023-12-01 17:44:37,328] Trial 23 finished with value: 0.38114454359371386 and parameters: {'num_leaves': 230}. Best is trial 8 with value: 0.37380029500704726.\n",
      "num_leaves, val_score: 0.373800:  85%|#########################################6       | 17/20 [01:42<00:20,  6.98s/it]"
     ]
    },
    {
     "name": "stdout",
     "output_type": "stream",
     "text": [
      "Early stopping, best iteration is:\n",
      "[194]\tcv_agg's l2: 0.3738 + 0.0955537\n",
      "[100]\tcv_agg's l2: 0.378081 + 0.096453\n",
      "[200]\tcv_agg's l2: 0.381301 + 0.0953114\n"
     ]
    },
    {
     "name": "stderr",
     "output_type": "stream",
     "text": [
      "num_leaves, val_score: 0.373800:  90%|############################################1    | 18/20 [01:49<00:14,  7.02s/it][I 2023-12-01 17:44:44,437] Trial 24 finished with value: 0.38114454359371386 and parameters: {'num_leaves': 129}. Best is trial 8 with value: 0.37380029500704726.\n",
      "num_leaves, val_score: 0.373800:  90%|############################################1    | 18/20 [01:49<00:14,  7.02s/it]"
     ]
    },
    {
     "name": "stdout",
     "output_type": "stream",
     "text": [
      "Early stopping, best iteration is:\n",
      "[194]\tcv_agg's l2: 0.3738 + 0.0955537\n",
      "[100]\tcv_agg's l2: 0.37719 + 0.0987531\n",
      "[200]\tcv_agg's l2: 0.376793 + 0.0973289\n"
     ]
    },
    {
     "name": "stderr",
     "output_type": "stream",
     "text": [
      "num_leaves, val_score: 0.373800:  95%|##############################################5  | 19/20 [01:53<00:05,  5.97s/it][I 2023-12-01 17:44:47,985] Trial 25 finished with value: 0.37692330846394306 and parameters: {'num_leaves': 39}. Best is trial 8 with value: 0.37380029500704726.\n",
      "num_leaves, val_score: 0.373800:  95%|##############################################5  | 19/20 [01:53<00:05,  5.97s/it]"
     ]
    },
    {
     "name": "stdout",
     "output_type": "stream",
     "text": [
      "Early stopping, best iteration is:\n",
      "[194]\tcv_agg's l2: 0.3738 + 0.0955537\n",
      "[100]\tcv_agg's l2: 0.381736 + 0.100258\n",
      "[200]\tcv_agg's l2: 0.374284 + 0.0990483\n"
     ]
    },
    {
     "name": "stderr",
     "output_type": "stream",
     "text": [
      "num_leaves, val_score: 0.373800: 100%|#################################################| 20/20 [01:55<00:00,  4.86s/it][I 2023-12-01 17:44:50,252] Trial 26 finished with value: 0.37432607259757633 and parameters: {'num_leaves': 25}. Best is trial 8 with value: 0.37380029500704726.\n",
      "num_leaves, val_score: 0.373800: 100%|#################################################| 20/20 [01:55<00:00,  5.79s/it]\n"
     ]
    },
    {
     "name": "stdout",
     "output_type": "stream",
     "text": [
      "Early stopping, best iteration is:\n",
      "[194]\tcv_agg's l2: 0.3738 + 0.0955537\n"
     ]
    },
    {
     "name": "stderr",
     "output_type": "stream",
     "text": [
      "bagging, val_score: 0.373800:   0%|                                                             | 0/10 [00:00<?, ?it/s]"
     ]
    },
    {
     "name": "stdout",
     "output_type": "stream",
     "text": [
      "[100]\tcv_agg's l2: 0.406789 + 0.11028\n",
      "[200]\tcv_agg's l2: 0.401503 + 0.106861\n"
     ]
    },
    {
     "name": "stderr",
     "output_type": "stream",
     "text": [
      "bagging, val_score: 0.373800:  10%|#####3                                               | 1/10 [00:02<00:25,  2.89s/it][I 2023-12-01 17:44:53,146] Trial 27 finished with value: 0.4000172144331898 and parameters: {'bagging_fraction': 0.4126829502949996, 'bagging_freq': 5}. Best is trial 27 with value: 0.4000172144331898.\n",
      "bagging, val_score: 0.373800:  10%|#####3                                               | 1/10 [00:02<00:25,  2.89s/it]"
     ]
    },
    {
     "name": "stdout",
     "output_type": "stream",
     "text": [
      "Early stopping, best iteration is:\n",
      "[194]\tcv_agg's l2: 0.3738 + 0.0955537\n",
      "[100]\tcv_agg's l2: 0.381004 + 0.102134\n",
      "[200]\tcv_agg's l2: 0.380515 + 0.100729\n"
     ]
    },
    {
     "name": "stderr",
     "output_type": "stream",
     "text": [
      "bagging, val_score: 0.373800:  20%|##########6                                          | 2/10 [00:05<00:21,  2.68s/it][I 2023-12-01 17:44:55,681] Trial 28 finished with value: 0.3806652322843965 and parameters: {'bagging_fraction': 0.9810768753900366, 'bagging_freq': 1}. Best is trial 28 with value: 0.3806652322843965.\n",
      "bagging, val_score: 0.373800:  20%|##########6                                          | 2/10 [00:05<00:21,  2.68s/it]"
     ]
    },
    {
     "name": "stdout",
     "output_type": "stream",
     "text": [
      "Early stopping, best iteration is:\n",
      "[194]\tcv_agg's l2: 0.3738 + 0.0955537\n",
      "[100]\tcv_agg's l2: 0.392123 + 0.105109\n",
      "[200]\tcv_agg's l2: 0.388964 + 0.108994\n"
     ]
    },
    {
     "name": "stderr",
     "output_type": "stream",
     "text": [
      "bagging, val_score: 0.373800:  30%|###############9                                     | 3/10 [00:08<00:19,  2.74s/it][I 2023-12-01 17:44:58,495] Trial 29 finished with value: 0.38962375624283707 and parameters: {'bagging_fraction': 0.6997920856261732, 'bagging_freq': 7}. Best is trial 28 with value: 0.3806652322843965.\n",
      "bagging, val_score: 0.373800:  30%|###############9                                     | 3/10 [00:08<00:19,  2.74s/it]"
     ]
    },
    {
     "name": "stdout",
     "output_type": "stream",
     "text": [
      "Early stopping, best iteration is:\n",
      "[194]\tcv_agg's l2: 0.3738 + 0.0955537\n",
      "[100]\tcv_agg's l2: 0.409481 + 0.11414\n",
      "[200]\tcv_agg's l2: 0.402376 + 0.111142\n"
     ]
    },
    {
     "name": "stderr",
     "output_type": "stream",
     "text": [
      "bagging, val_score: 0.373800:  40%|#####################2                               | 4/10 [00:11<00:16,  2.76s/it][I 2023-12-01 17:45:01,275] Trial 30 finished with value: 0.40268992377322216 and parameters: {'bagging_fraction': 0.40052059441926774, 'bagging_freq': 1}. Best is trial 28 with value: 0.3806652322843965.\n",
      "bagging, val_score: 0.373800:  40%|#####################2                               | 4/10 [00:11<00:16,  2.76s/it]"
     ]
    },
    {
     "name": "stdout",
     "output_type": "stream",
     "text": [
      "Early stopping, best iteration is:\n",
      "[194]\tcv_agg's l2: 0.3738 + 0.0955537\n",
      "[100]\tcv_agg's l2: 0.378003 + 0.0961649\n",
      "[200]\tcv_agg's l2: 0.374177 + 0.0955219\n"
     ]
    },
    {
     "name": "stderr",
     "output_type": "stream",
     "text": [
      "bagging, val_score: 0.373800:  50%|##########################5                          | 5/10 [00:13<00:13,  2.78s/it][I 2023-12-01 17:45:04,099] Trial 31 finished with value: 0.37380029500704726 and parameters: {'bagging_fraction': 0.9994650612295104, 'bagging_freq': 4}. Best is trial 31 with value: 0.37380029500704726.\n",
      "bagging, val_score: 0.373800:  50%|##########################5                          | 5/10 [00:13<00:13,  2.78s/it]"
     ]
    },
    {
     "name": "stdout",
     "output_type": "stream",
     "text": [
      "Early stopping, best iteration is:\n",
      "[194]\tcv_agg's l2: 0.3738 + 0.0955537\n",
      "[100]\tcv_agg's l2: 0.380355 + 0.101181\n",
      "[200]\tcv_agg's l2: 0.377969 + 0.0987812\n"
     ]
    },
    {
     "name": "stderr",
     "output_type": "stream",
     "text": [
      "bagging, val_score: 0.373800:  60%|###############################8                     | 6/10 [00:16<00:11,  2.79s/it][I 2023-12-01 17:45:06,909] Trial 32 finished with value: 0.3774898595586628 and parameters: {'bagging_fraction': 0.9687386413976501, 'bagging_freq': 4}. Best is trial 31 with value: 0.37380029500704726.\n",
      "bagging, val_score: 0.373800:  60%|###############################8                     | 6/10 [00:16<00:11,  2.79s/it]"
     ]
    },
    {
     "name": "stdout",
     "output_type": "stream",
     "text": [
      "Early stopping, best iteration is:\n",
      "[194]\tcv_agg's l2: 0.3738 + 0.0955537\n",
      "[100]\tcv_agg's l2: 0.388368 + 0.0986828\n",
      "[200]\tcv_agg's l2: 0.383299 + 0.0993713\n"
     ]
    },
    {
     "name": "stderr",
     "output_type": "stream",
     "text": [
      "bagging, val_score: 0.373800:  70%|#####################################                | 7/10 [00:19<00:08,  2.82s/it][I 2023-12-01 17:45:09,790] Trial 33 finished with value: 0.3842195198674999 and parameters: {'bagging_fraction': 0.8046606545993971, 'bagging_freq': 4}. Best is trial 31 with value: 0.37380029500704726.\n",
      "bagging, val_score: 0.373800:  70%|#####################################                | 7/10 [00:19<00:08,  2.82s/it]"
     ]
    },
    {
     "name": "stdout",
     "output_type": "stream",
     "text": [
      "Early stopping, best iteration is:\n",
      "[194]\tcv_agg's l2: 0.3738 + 0.0955537\n",
      "[100]\tcv_agg's l2: 0.39187 + 0.107089\n",
      "[200]\tcv_agg's l2: 0.383599 + 0.106891\n"
     ]
    },
    {
     "name": "stderr",
     "output_type": "stream",
     "text": [
      "bagging, val_score: 0.373800:  80%|##########################################4          | 8/10 [00:22<00:05,  2.83s/it][I 2023-12-01 17:45:12,649] Trial 34 finished with value: 0.38302892656901183 and parameters: {'bagging_fraction': 0.8385921105204857, 'bagging_freq': 3}. Best is trial 31 with value: 0.37380029500704726.\n",
      "bagging, val_score: 0.373800:  80%|##########################################4          | 8/10 [00:22<00:05,  2.83s/it]"
     ]
    },
    {
     "name": "stdout",
     "output_type": "stream",
     "text": [
      "Early stopping, best iteration is:\n",
      "[194]\tcv_agg's l2: 0.3738 + 0.0955537\n",
      "[100]\tcv_agg's l2: 0.394241 + 0.105954\n",
      "[200]\tcv_agg's l2: 0.394356 + 0.109837\n"
     ]
    },
    {
     "name": "stderr",
     "output_type": "stream",
     "text": [
      "bagging, val_score: 0.373800:  90%|###############################################7     | 9/10 [00:25<00:02,  2.85s/it][I 2023-12-01 17:45:15,529] Trial 35 finished with value: 0.3942271882989713 and parameters: {'bagging_fraction': 0.6470033526126056, 'bagging_freq': 6}. Best is trial 31 with value: 0.37380029500704726.\n",
      "bagging, val_score: 0.373800:  90%|###############################################7     | 9/10 [00:25<00:02,  2.85s/it]"
     ]
    },
    {
     "name": "stdout",
     "output_type": "stream",
     "text": [
      "Early stopping, best iteration is:\n",
      "[194]\tcv_agg's l2: 0.3738 + 0.0955537\n",
      "[100]\tcv_agg's l2: 0.391438 + 0.113194\n",
      "[200]\tcv_agg's l2: 0.384844 + 0.108628\n"
     ]
    },
    {
     "name": "stderr",
     "output_type": "stream",
     "text": [
      "bagging, val_score: 0.373800: 100%|####################################################| 10/10 [00:27<00:00,  2.79s/it][I 2023-12-01 17:45:18,178] Trial 36 finished with value: 0.3845101527367178 and parameters: {'bagging_fraction': 0.8784962154004093, 'bagging_freq': 3}. Best is trial 31 with value: 0.37380029500704726.\n",
      "bagging, val_score: 0.373800: 100%|####################################################| 10/10 [00:27<00:00,  2.79s/it]\n"
     ]
    },
    {
     "name": "stdout",
     "output_type": "stream",
     "text": [
      "Early stopping, best iteration is:\n",
      "[194]\tcv_agg's l2: 0.3738 + 0.0955537\n"
     ]
    },
    {
     "name": "stderr",
     "output_type": "stream",
     "text": [
      "feature_fraction_stage2, val_score: 0.373800:   0%|                                              | 0/6 [00:00<?, ?it/s]"
     ]
    },
    {
     "name": "stdout",
     "output_type": "stream",
     "text": [
      "[100]\tcv_agg's l2: 0.378003 + 0.0961649\n",
      "[200]\tcv_agg's l2: 0.374177 + 0.0955219\n"
     ]
    },
    {
     "name": "stderr",
     "output_type": "stream",
     "text": [
      "feature_fraction_stage2, val_score: 0.373800:  17%|######3                               | 1/6 [00:02<00:13,  2.66s/it][I 2023-12-01 17:45:20,847] Trial 37 finished with value: 0.37380029500704726 and parameters: {'feature_fraction': 0.7200000000000001}. Best is trial 37 with value: 0.37380029500704726.\n",
      "feature_fraction_stage2, val_score: 0.373800:  17%|######3                               | 1/6 [00:02<00:13,  2.66s/it]"
     ]
    },
    {
     "name": "stdout",
     "output_type": "stream",
     "text": [
      "Early stopping, best iteration is:\n",
      "[194]\tcv_agg's l2: 0.3738 + 0.0955537\n",
      "[100]\tcv_agg's l2: 0.390497 + 0.118444\n",
      "[200]\tcv_agg's l2: 0.390019 + 0.114159\n"
     ]
    },
    {
     "name": "stderr",
     "output_type": "stream",
     "text": [
      "feature_fraction_stage2, val_score: 0.373800:  33%|############6                         | 2/6 [00:05<00:11,  2.82s/it][I 2023-12-01 17:45:23,782] Trial 38 finished with value: 0.3901373184047051 and parameters: {'feature_fraction': 0.88}. Best is trial 37 with value: 0.37380029500704726.\n",
      "feature_fraction_stage2, val_score: 0.373800:  33%|############6                         | 2/6 [00:05<00:11,  2.82s/it]"
     ]
    },
    {
     "name": "stdout",
     "output_type": "stream",
     "text": [
      "Early stopping, best iteration is:\n",
      "[194]\tcv_agg's l2: 0.3738 + 0.0955537\n",
      "[100]\tcv_agg's l2: 0.390497 + 0.118444\n",
      "[200]\tcv_agg's l2: 0.390019 + 0.114159\n"
     ]
    },
    {
     "name": "stderr",
     "output_type": "stream",
     "text": [
      "feature_fraction_stage2, val_score: 0.373800:  50%|###################                   | 3/6 [00:08<00:08,  2.79s/it][I 2023-12-01 17:45:26,539] Trial 39 finished with value: 0.3901373184047051 and parameters: {'feature_fraction': 0.8160000000000001}. Best is trial 37 with value: 0.37380029500704726.\n",
      "feature_fraction_stage2, val_score: 0.373800:  50%|###################                   | 3/6 [00:08<00:08,  2.79s/it]"
     ]
    },
    {
     "name": "stdout",
     "output_type": "stream",
     "text": [
      "Early stopping, best iteration is:\n",
      "[194]\tcv_agg's l2: 0.3738 + 0.0955537\n",
      "[100]\tcv_agg's l2: 0.378003 + 0.0961649\n",
      "[200]\tcv_agg's l2: 0.374177 + 0.0955219\n"
     ]
    },
    {
     "name": "stderr",
     "output_type": "stream",
     "text": [
      "feature_fraction_stage2, val_score: 0.373800:  67%|#########################3            | 4/6 [00:11<00:05,  2.91s/it][I 2023-12-01 17:45:29,621] Trial 40 finished with value: 0.37380029500704726 and parameters: {'feature_fraction': 0.784}. Best is trial 37 with value: 0.37380029500704726.\n",
      "feature_fraction_stage2, val_score: 0.373800:  67%|#########################3            | 4/6 [00:11<00:05,  2.91s/it]"
     ]
    },
    {
     "name": "stdout",
     "output_type": "stream",
     "text": [
      "Early stopping, best iteration is:\n",
      "[194]\tcv_agg's l2: 0.3738 + 0.0955537\n",
      "[100]\tcv_agg's l2: 0.378003 + 0.0961649\n",
      "[200]\tcv_agg's l2: 0.374177 + 0.0955219\n"
     ]
    },
    {
     "name": "stderr",
     "output_type": "stream",
     "text": [
      "feature_fraction_stage2, val_score: 0.373800:  83%|###############################6      | 5/6 [00:14<00:02,  2.91s/it][I 2023-12-01 17:45:32,545] Trial 41 finished with value: 0.37380029500704726 and parameters: {'feature_fraction': 0.7520000000000001}. Best is trial 37 with value: 0.37380029500704726.\n",
      "feature_fraction_stage2, val_score: 0.373800:  83%|###############################6      | 5/6 [00:14<00:02,  2.91s/it]"
     ]
    },
    {
     "name": "stdout",
     "output_type": "stream",
     "text": [
      "Early stopping, best iteration is:\n",
      "[194]\tcv_agg's l2: 0.3738 + 0.0955537\n",
      "[100]\tcv_agg's l2: 0.390497 + 0.118444\n",
      "[200]\tcv_agg's l2: 0.390019 + 0.114159\n"
     ]
    },
    {
     "name": "stderr",
     "output_type": "stream",
     "text": [
      "feature_fraction_stage2, val_score: 0.373800: 100%|######################################| 6/6 [00:16<00:00,  2.73s/it][I 2023-12-01 17:45:34,906] Trial 42 finished with value: 0.3901373184047051 and parameters: {'feature_fraction': 0.8480000000000001}. Best is trial 37 with value: 0.37380029500704726.\n",
      "feature_fraction_stage2, val_score: 0.373800: 100%|######################################| 6/6 [00:16<00:00,  2.79s/it]\n"
     ]
    },
    {
     "name": "stdout",
     "output_type": "stream",
     "text": [
      "Early stopping, best iteration is:\n",
      "[194]\tcv_agg's l2: 0.3738 + 0.0955537\n"
     ]
    },
    {
     "name": "stderr",
     "output_type": "stream",
     "text": [
      "regularization_factors, val_score: 0.373800:   0%|                                              | 0/20 [00:00<?, ?it/s]"
     ]
    },
    {
     "name": "stdout",
     "output_type": "stream",
     "text": [
      "[100]\tcv_agg's l2: 0.380286 + 0.10124\n",
      "[200]\tcv_agg's l2: 0.376686 + 0.0980302\n"
     ]
    },
    {
     "name": "stderr",
     "output_type": "stream",
     "text": [
      "regularization_factors, val_score: 0.373800:   5%|#9                                    | 1/20 [00:02<00:46,  2.46s/it][I 2023-12-01 17:45:37,368] Trial 43 finished with value: 0.37727568670786726 and parameters: {'lambda_l1': 0.012022657858400152, 'lambda_l2': 0.001404604242435508}. Best is trial 43 with value: 0.37727568670786726.\n",
      "regularization_factors, val_score: 0.373800:   5%|#9                                    | 1/20 [00:02<00:46,  2.46s/it]"
     ]
    },
    {
     "name": "stdout",
     "output_type": "stream",
     "text": [
      "Early stopping, best iteration is:\n",
      "[194]\tcv_agg's l2: 0.3738 + 0.0955537\n",
      "[100]\tcv_agg's l2: 0.378003 + 0.0961649\n",
      "[200]\tcv_agg's l2: 0.374177 + 0.0955219\n"
     ]
    },
    {
     "name": "stderr",
     "output_type": "stream",
     "text": [
      "regularization_factors, val_score: 0.373800:  10%|###8                                  | 2/20 [00:05<00:46,  2.56s/it][I 2023-12-01 17:45:39,996] Trial 44 finished with value: 0.3738002948260759 and parameters: {'lambda_l1': 5.2989858969803505e-08, 'lambda_l2': 6.643654577832851e-08}. Best is trial 44 with value: 0.3738002948260759.\n",
      "regularization_factors, val_score: 0.373800:  10%|###8                                  | 2/20 [00:05<00:46,  2.56s/it]"
     ]
    },
    {
     "name": "stdout",
     "output_type": "stream",
     "text": [
      "Early stopping, best iteration is:\n",
      "[194]\tcv_agg's l2: 0.3738 + 0.0955537\n",
      "[100]\tcv_agg's l2: 0.378003 + 0.0961649\n",
      "[200]\tcv_agg's l2: 0.374177 + 0.0955219\n"
     ]
    },
    {
     "name": "stderr",
     "output_type": "stream",
     "text": [
      "regularization_factors, val_score: 0.373800:  15%|#####7                                | 3/20 [00:07<00:44,  2.63s/it][I 2023-12-01 17:45:42,707] Trial 45 finished with value: 0.37380029485855837 and parameters: {'lambda_l1': 8.370343712536751e-08, 'lambda_l2': 1.6888636444628535e-08}. Best is trial 44 with value: 0.3738002948260759.\n",
      "regularization_factors, val_score: 0.373800:  15%|#####7                                | 3/20 [00:07<00:44,  2.63s/it]"
     ]
    },
    {
     "name": "stdout",
     "output_type": "stream",
     "text": [
      "Early stopping, best iteration is:\n",
      "[194]\tcv_agg's l2: 0.3738 + 0.0955537\n",
      "[100]\tcv_agg's l2: 0.378003 + 0.0961649\n",
      "[200]\tcv_agg's l2: 0.374177 + 0.0955219\n"
     ]
    },
    {
     "name": "stderr",
     "output_type": "stream",
     "text": [
      "regularization_factors, val_score: 0.373800:  20%|#######6                              | 4/20 [00:10<00:41,  2.60s/it][I 2023-12-01 17:45:45,256] Trial 46 finished with value: 0.3738002949889691 and parameters: {'lambda_l1': 1.0771358495840216e-08, 'lambda_l2': 1.0357741182464521e-08}. Best is trial 44 with value: 0.3738002948260759.\n",
      "regularization_factors, val_score: 0.373800:  20%|#######6                              | 4/20 [00:10<00:41,  2.60s/it]"
     ]
    },
    {
     "name": "stdout",
     "output_type": "stream",
     "text": [
      "Early stopping, best iteration is:\n",
      "[194]\tcv_agg's l2: 0.3738 + 0.0955537\n",
      "[100]\tcv_agg's l2: 0.378003 + 0.0961649\n",
      "[200]\tcv_agg's l2: 0.374177 + 0.0955219\n"
     ]
    },
    {
     "name": "stderr",
     "output_type": "stream",
     "text": [
      "regularization_factors, val_score: 0.373800:  25%|#########5                            | 5/20 [00:12<00:38,  2.55s/it][I 2023-12-01 17:45:47,713] Trial 47 finished with value: 0.3738002949971329 and parameters: {'lambda_l1': 1.550696229442018e-08, 'lambda_l2': 1.0829129285415701e-08}. Best is trial 44 with value: 0.3738002948260759.\n",
      "regularization_factors, val_score: 0.373800:  25%|#########5                            | 5/20 [00:12<00:38,  2.55s/it]"
     ]
    },
    {
     "name": "stdout",
     "output_type": "stream",
     "text": [
      "Early stopping, best iteration is:\n",
      "[194]\tcv_agg's l2: 0.3738 + 0.0955537\n",
      "[100]\tcv_agg's l2: 0.378003 + 0.0961649\n",
      "[200]\tcv_agg's l2: 0.374177 + 0.0955219\n"
     ]
    },
    {
     "name": "stderr",
     "output_type": "stream",
     "text": [
      "regularization_factors, val_score: 0.373800:  30%|###########4                          | 6/20 [00:15<00:35,  2.52s/it][I 2023-12-01 17:45:50,184] Trial 48 finished with value: 0.3738002949831663 and parameters: {'lambda_l1': 1.0253986055574595e-08, 'lambda_l2': 1.1888313325629471e-08}. Best is trial 44 with value: 0.3738002948260759.\n",
      "regularization_factors, val_score: 0.373800:  30%|###########4                          | 6/20 [00:15<00:35,  2.52s/it]"
     ]
    },
    {
     "name": "stdout",
     "output_type": "stream",
     "text": [
      "Early stopping, best iteration is:\n",
      "[194]\tcv_agg's l2: 0.3738 + 0.0955537\n",
      "[100]\tcv_agg's l2: 0.378003 + 0.0961649\n",
      "[200]\tcv_agg's l2: 0.374177 + 0.0955219\n"
     ]
    },
    {
     "name": "stderr",
     "output_type": "stream",
     "text": [
      "regularization_factors, val_score: 0.373800:  35%|#############3                        | 7/20 [00:18<00:33,  2.60s/it][I 2023-12-01 17:45:52,950] Trial 49 finished with value: 0.3738002949810322 and parameters: {'lambda_l1': 1.2870755204464656e-08, 'lambda_l2': 1.1037260122427371e-08}. Best is trial 44 with value: 0.3738002948260759.\n",
      "regularization_factors, val_score: 0.373800:  35%|#############3                        | 7/20 [00:18<00:33,  2.60s/it]"
     ]
    },
    {
     "name": "stdout",
     "output_type": "stream",
     "text": [
      "Early stopping, best iteration is:\n",
      "[194]\tcv_agg's l2: 0.3738 + 0.0955537\n",
      "[100]\tcv_agg's l2: 0.378003 + 0.0961649\n",
      "[200]\tcv_agg's l2: 0.374177 + 0.0955219\n"
     ]
    },
    {
     "name": "stderr",
     "output_type": "stream",
     "text": [
      "regularization_factors, val_score: 0.373800:  40%|###############2                      | 8/20 [00:20<00:31,  2.61s/it][I 2023-12-01 17:45:55,569] Trial 50 finished with value: 0.37380029499303175 and parameters: {'lambda_l1': 1.2917447129378125e-08, 'lambda_l2': 1.0489122125543352e-08}. Best is trial 44 with value: 0.3738002948260759.\n",
      "regularization_factors, val_score: 0.373800:  40%|###############2                      | 8/20 [00:20<00:31,  2.61s/it]"
     ]
    },
    {
     "name": "stdout",
     "output_type": "stream",
     "text": [
      "Early stopping, best iteration is:\n",
      "[194]\tcv_agg's l2: 0.3738 + 0.0955537\n",
      "[100]\tcv_agg's l2: 0.378003 + 0.0961649\n",
      "[200]\tcv_agg's l2: 0.374177 + 0.0955219\n"
     ]
    },
    {
     "name": "stderr",
     "output_type": "stream",
     "text": [
      "regularization_factors, val_score: 0.373800:  45%|#################1                    | 9/20 [00:23<00:28,  2.55s/it][I 2023-12-01 17:45:58,004] Trial 51 finished with value: 0.3738002949875284 and parameters: {'lambda_l1': 1.2741728351749978e-08, 'lambda_l2': 1.4116777623842922e-08}. Best is trial 44 with value: 0.3738002948260759.\n",
      "regularization_factors, val_score: 0.373800:  45%|#################1                    | 9/20 [00:23<00:28,  2.55s/it]"
     ]
    },
    {
     "name": "stdout",
     "output_type": "stream",
     "text": [
      "Early stopping, best iteration is:\n",
      "[194]\tcv_agg's l2: 0.3738 + 0.0955537\n",
      "[100]\tcv_agg's l2: 0.378003 + 0.0961649\n",
      "[200]\tcv_agg's l2: 0.374177 + 0.0955219\n"
     ]
    },
    {
     "name": "stderr",
     "output_type": "stream",
     "text": [
      "regularization_factors, val_score: 0.373800:  50%|##################5                  | 10/20 [00:25<00:24,  2.50s/it][I 2023-12-01 17:46:00,375] Trial 52 finished with value: 0.37380029498460204 and parameters: {'lambda_l1': 1.2167552888724656e-08, 'lambda_l2': 1.2294375041918709e-08}. Best is trial 44 with value: 0.3738002948260759.\n",
      "regularization_factors, val_score: 0.373800:  50%|##################5                  | 10/20 [00:25<00:24,  2.50s/it]"
     ]
    },
    {
     "name": "stdout",
     "output_type": "stream",
     "text": [
      "Early stopping, best iteration is:\n",
      "[194]\tcv_agg's l2: 0.3738 + 0.0955537\n",
      "[100]\tcv_agg's l2: 0.378003 + 0.0961649\n",
      "[200]\tcv_agg's l2: 0.374177 + 0.0955219\n"
     ]
    },
    {
     "name": "stderr",
     "output_type": "stream",
     "text": [
      "regularization_factors, val_score: 0.373800:  55%|####################3                | 11/20 [00:28<00:22,  2.52s/it][I 2023-12-01 17:46:02,951] Trial 53 finished with value: 0.3738002949946776 and parameters: {'lambda_l1': 1.6683184155960395e-08, 'lambda_l2': 1.3415341400255947e-08}. Best is trial 44 with value: 0.3738002948260759.\n",
      "regularization_factors, val_score: 0.373800:  55%|####################3                | 11/20 [00:28<00:22,  2.52s/it]"
     ]
    },
    {
     "name": "stdout",
     "output_type": "stream",
     "text": [
      "Early stopping, best iteration is:\n",
      "[194]\tcv_agg's l2: 0.3738 + 0.0955537\n",
      "[100]\tcv_agg's l2: 0.378003 + 0.0961649\n",
      "[200]\tcv_agg's l2: 0.374177 + 0.0955219\n"
     ]
    },
    {
     "name": "stderr",
     "output_type": "stream",
     "text": [
      "regularization_factors, val_score: 0.373800:  60%|######################2              | 12/20 [00:30<00:20,  2.56s/it][I 2023-12-01 17:46:05,592] Trial 54 finished with value: 0.37380029496429235 and parameters: {'lambda_l1': 1.7459710452732442e-08, 'lambda_l2': 2.0152503594099597e-08}. Best is trial 44 with value: 0.3738002948260759.\n",
      "regularization_factors, val_score: 0.373800:  60%|######################2              | 12/20 [00:30<00:20,  2.56s/it]"
     ]
    },
    {
     "name": "stdout",
     "output_type": "stream",
     "text": [
      "Early stopping, best iteration is:\n",
      "[194]\tcv_agg's l2: 0.3738 + 0.0955537\n",
      "[100]\tcv_agg's l2: 0.378003 + 0.0961649\n",
      "[200]\tcv_agg's l2: 0.374177 + 0.0955219\n"
     ]
    },
    {
     "name": "stderr",
     "output_type": "stream",
     "text": [
      "regularization_factors, val_score: 0.373800:  65%|########################             | 13/20 [00:33<00:18,  2.59s/it][I 2023-12-01 17:46:08,262] Trial 55 finished with value: 0.3738002945848006 and parameters: {'lambda_l1': 1.7368044723793413e-07, 'lambda_l2': 1.0838846868408303e-07}. Best is trial 55 with value: 0.3738002945848006.\n",
      "regularization_factors, val_score: 0.373800:  65%|########################             | 13/20 [00:33<00:18,  2.59s/it]"
     ]
    },
    {
     "name": "stdout",
     "output_type": "stream",
     "text": [
      "Early stopping, best iteration is:\n",
      "[194]\tcv_agg's l2: 0.3738 + 0.0955537\n",
      "[100]\tcv_agg's l2: 0.378003 + 0.0961649\n",
      "[200]\tcv_agg's l2: 0.374177 + 0.0955219\n"
     ]
    },
    {
     "name": "stderr",
     "output_type": "stream",
     "text": [
      "regularization_factors, val_score: 0.373800:  70%|#########################9           | 14/20 [00:36<00:16,  2.68s/it][I 2023-12-01 17:46:11,151] Trial 56 finished with value: 0.3738002929393965 and parameters: {'lambda_l1': 1.0339906370910893e-06, 'lambda_l2': 5.772694190109501e-07}. Best is trial 56 with value: 0.3738002929393965.\n",
      "regularization_factors, val_score: 0.373800:  70%|#########################9           | 14/20 [00:36<00:16,  2.68s/it]"
     ]
    },
    {
     "name": "stdout",
     "output_type": "stream",
     "text": [
      "Early stopping, best iteration is:\n",
      "[194]\tcv_agg's l2: 0.3738 + 0.0955537\n",
      "[100]\tcv_agg's l2: 0.378003 + 0.0961649\n",
      "[200]\tcv_agg's l2: 0.374177 + 0.0955219\n"
     ]
    },
    {
     "name": "stderr",
     "output_type": "stream",
     "text": [
      "regularization_factors, val_score: 0.373800:  75%|###########################7         | 15/20 [00:38<00:13,  2.67s/it][I 2023-12-01 17:46:13,796] Trial 57 finished with value: 0.3738002915198572 and parameters: {'lambda_l1': 1.97793955440653e-06, 'lambda_l2': 6.712989771896798e-07}. Best is trial 57 with value: 0.3738002915198572.\n",
      "regularization_factors, val_score: 0.373800:  75%|###########################7         | 15/20 [00:38<00:13,  2.67s/it]"
     ]
    },
    {
     "name": "stdout",
     "output_type": "stream",
     "text": [
      "Early stopping, best iteration is:\n",
      "[194]\tcv_agg's l2: 0.3738 + 0.0955537\n",
      "[100]\tcv_agg's l2: 0.378003 + 0.0961649\n",
      "[200]\tcv_agg's l2: 0.374177 + 0.0955219\n"
     ]
    },
    {
     "name": "stderr",
     "output_type": "stream",
     "text": [
      "regularization_factors, val_score: 0.373800:  80%|#############################6       | 16/20 [00:41<00:10,  2.71s/it][I 2023-12-01 17:46:16,584] Trial 58 finished with value: 0.3738002921633866 and parameters: {'lambda_l1': 1.24953985412391e-06, 'lambda_l2': 1.0822266643782251e-06}. Best is trial 57 with value: 0.3738002915198572.\n",
      "regularization_factors, val_score: 0.373800:  80%|#############################6       | 16/20 [00:41<00:10,  2.71s/it]"
     ]
    },
    {
     "name": "stdout",
     "output_type": "stream",
     "text": [
      "Early stopping, best iteration is:\n",
      "[194]\tcv_agg's l2: 0.3738 + 0.0955537\n",
      "[100]\tcv_agg's l2: 0.378003 + 0.0961649\n",
      "[200]\tcv_agg's l2: 0.374177 + 0.0955219\n"
     ]
    },
    {
     "name": "stderr",
     "output_type": "stream",
     "text": [
      "regularization_factors, val_score: 0.373800:  85%|###############################4     | 17/20 [00:44<00:08,  2.68s/it][I 2023-12-01 17:46:19,195] Trial 59 finished with value: 0.3738002916150691 and parameters: {'lambda_l1': 1.8433705223374033e-06, 'lambda_l2': 7.173530276136652e-07}. Best is trial 57 with value: 0.3738002915198572.\n",
      "regularization_factors, val_score: 0.373800:  85%|###############################4     | 17/20 [00:44<00:08,  2.68s/it]"
     ]
    },
    {
     "name": "stdout",
     "output_type": "stream",
     "text": [
      "Early stopping, best iteration is:\n",
      "[194]\tcv_agg's l2: 0.3738 + 0.0955537\n",
      "[100]\tcv_agg's l2: 0.378003 + 0.0961649\n",
      "[200]\tcv_agg's l2: 0.374177 + 0.0955219\n"
     ]
    },
    {
     "name": "stderr",
     "output_type": "stream",
     "text": [
      "regularization_factors, val_score: 0.373800:  90%|#################################3   | 18/20 [00:46<00:05,  2.63s/it][I 2023-12-01 17:46:21,703] Trial 60 finished with value: 0.3738002915398225 and parameters: {'lambda_l1': 1.733808011300164e-06, 'lambda_l2': 1.131022499120882e-06}. Best is trial 57 with value: 0.3738002915198572.\n",
      "regularization_factors, val_score: 0.373800:  90%|#################################3   | 18/20 [00:46<00:05,  2.63s/it]"
     ]
    },
    {
     "name": "stdout",
     "output_type": "stream",
     "text": [
      "Early stopping, best iteration is:\n",
      "[194]\tcv_agg's l2: 0.3738 + 0.0955537\n",
      "[100]\tcv_agg's l2: 0.378003 + 0.0961649\n",
      "[200]\tcv_agg's l2: 0.374177 + 0.0955219\n"
     ]
    },
    {
     "name": "stderr",
     "output_type": "stream",
     "text": [
      "regularization_factors, val_score: 0.373800:  95%|###################################1 | 19/20 [00:49<00:02,  2.57s/it][I 2023-12-01 17:46:24,153] Trial 61 finished with value: 0.3738002918794872 and parameters: {'lambda_l1': 1.4366651652939148e-06, 'lambda_l2': 1.2937706375481158e-06}. Best is trial 57 with value: 0.3738002915198572.\n",
      "regularization_factors, val_score: 0.373800:  95%|###################################1 | 19/20 [00:49<00:02,  2.57s/it]"
     ]
    },
    {
     "name": "stdout",
     "output_type": "stream",
     "text": [
      "Early stopping, best iteration is:\n",
      "[194]\tcv_agg's l2: 0.3738 + 0.0955537\n",
      "[100]\tcv_agg's l2: 0.378003 + 0.0961649\n",
      "[200]\tcv_agg's l2: 0.374177 + 0.0955219\n"
     ]
    },
    {
     "name": "stderr",
     "output_type": "stream",
     "text": [
      "regularization_factors, val_score: 0.373800: 100%|#####################################| 20/20 [00:51<00:00,  2.62s/it][I 2023-12-01 17:46:26,890] Trial 62 finished with value: 0.37380029146510113 and parameters: {'lambda_l1': 1.825386053164414e-06, 'lambda_l2': 1.0745184747530372e-06}. Best is trial 62 with value: 0.37380029146510113.\n",
      "regularization_factors, val_score: 0.373800: 100%|#####################################| 20/20 [00:51<00:00,  2.60s/it]\n"
     ]
    },
    {
     "name": "stdout",
     "output_type": "stream",
     "text": [
      "Early stopping, best iteration is:\n",
      "[194]\tcv_agg's l2: 0.3738 + 0.0955537\n"
     ]
    },
    {
     "name": "stderr",
     "output_type": "stream",
     "text": [
      "min_data_in_leaf, val_score: 0.373800:   0%|                                                     | 0/5 [00:00<?, ?it/s]"
     ]
    },
    {
     "name": "stdout",
     "output_type": "stream",
     "text": [
      "[100]\tcv_agg's l2: 0.405048 + 0.114161\n",
      "[200]\tcv_agg's l2: 0.396226 + 0.112355\n"
     ]
    },
    {
     "name": "stderr",
     "output_type": "stream",
     "text": [
      "min_data_in_leaf, val_score: 0.373800:  20%|#########                                    | 1/5 [00:02<00:09,  2.44s/it][I 2023-12-01 17:46:29,330] Trial 63 finished with value: 0.3964710965192529 and parameters: {'min_child_samples': 50}. Best is trial 63 with value: 0.3964710965192529.\n",
      "min_data_in_leaf, val_score: 0.373800:  20%|#########                                    | 1/5 [00:02<00:09,  2.44s/it]"
     ]
    },
    {
     "name": "stdout",
     "output_type": "stream",
     "text": [
      "Early stopping, best iteration is:\n",
      "[194]\tcv_agg's l2: 0.3738 + 0.0955537\n",
      "[100]\tcv_agg's l2: 0.462124 + 0.110304\n",
      "[200]\tcv_agg's l2: 0.448164 + 0.112157\n"
     ]
    },
    {
     "name": "stderr",
     "output_type": "stream",
     "text": [
      "min_data_in_leaf, val_score: 0.373800:  40%|##################                           | 2/5 [00:04<00:05,  1.95s/it][I 2023-12-01 17:46:30,940] Trial 64 finished with value: 0.4494343198110406 and parameters: {'min_child_samples': 100}. Best is trial 63 with value: 0.3964710965192529.\n",
      "min_data_in_leaf, val_score: 0.373800:  40%|##################                           | 2/5 [00:04<00:05,  1.95s/it]"
     ]
    },
    {
     "name": "stdout",
     "output_type": "stream",
     "text": [
      "Early stopping, best iteration is:\n",
      "[194]\tcv_agg's l2: 0.3738 + 0.0955537\n",
      "[100]\tcv_agg's l2: 0.379562 + 0.0998346\n",
      "[200]\tcv_agg's l2: 0.378789 + 0.106222\n"
     ]
    },
    {
     "name": "stderr",
     "output_type": "stream",
     "text": [
      "min_data_in_leaf, val_score: 0.373800:  60%|###########################                  | 3/5 [00:06<00:04,  2.38s/it][I 2023-12-01 17:46:33,828] Trial 65 finished with value: 0.3785110972826063 and parameters: {'min_child_samples': 5}. Best is trial 65 with value: 0.3785110972826063.\n",
      "min_data_in_leaf, val_score: 0.373800:  60%|###########################                  | 3/5 [00:06<00:04,  2.38s/it]"
     ]
    },
    {
     "name": "stdout",
     "output_type": "stream",
     "text": [
      "Early stopping, best iteration is:\n",
      "[194]\tcv_agg's l2: 0.3738 + 0.0955537\n",
      "[100]\tcv_agg's l2: 0.387055 + 0.103184\n",
      "[200]\tcv_agg's l2: 0.384786 + 0.100499\n"
     ]
    },
    {
     "name": "stderr",
     "output_type": "stream",
     "text": [
      "min_data_in_leaf, val_score: 0.373800:  80%|####################################         | 4/5 [00:09<00:02,  2.45s/it][I 2023-12-01 17:46:36,387] Trial 66 finished with value: 0.3846559276660072 and parameters: {'min_child_samples': 25}. Best is trial 65 with value: 0.3785110972826063.\n",
      "min_data_in_leaf, val_score: 0.373800:  80%|####################################         | 4/5 [00:09<00:02,  2.45s/it]"
     ]
    },
    {
     "name": "stdout",
     "output_type": "stream",
     "text": [
      "Early stopping, best iteration is:\n",
      "[194]\tcv_agg's l2: 0.3738 + 0.0955537\n",
      "[100]\tcv_agg's l2: 0.380895 + 0.0993412\n",
      "[200]\tcv_agg's l2: 0.376592 + 0.0994033\n"
     ]
    },
    {
     "name": "stderr",
     "output_type": "stream",
     "text": [
      "min_data_in_leaf, val_score: 0.373800: 100%|#############################################| 5/5 [00:11<00:00,  2.43s/it][I 2023-12-01 17:46:38,783] Trial 67 finished with value: 0.3763109140128365 and parameters: {'min_child_samples': 10}. Best is trial 67 with value: 0.3763109140128365.\n",
      "min_data_in_leaf, val_score: 0.373800: 100%|#############################################| 5/5 [00:11<00:00,  2.38s/it]"
     ]
    },
    {
     "name": "stdout",
     "output_type": "stream",
     "text": [
      "Early stopping, best iteration is:\n",
      "[194]\tcv_agg's l2: 0.3738 + 0.0955537\n"
     ]
    },
    {
     "name": "stderr",
     "output_type": "stream",
     "text": [
      "\n"
     ]
    }
   ],
   "source": [
    "import optuna.integration.lightgbm as lgb\n",
    "from lightgbm import early_stopping\n",
    "from sklearn.model_selection import KFold\n",
    "from sklearn.model_selection import RepeatedKFold\n",
    "\n",
    "\n",
    "lgb_train = lgb.Dataset(X_train_random_split, y_train_random_split)\n",
    "\n",
    "params = {\n",
    "    \"boosting_type\": \"gbdt\",\n",
    "    \"objective\": \"regression\",\n",
    "    \"metric\": \"l2\",\n",
    "    \"verbosity\": -1,\n",
    "}\n",
    "\n",
    "tuner = lgb.LightGBMTunerCV(\n",
    "    params,\n",
    "    lgb_train,\n",
    "    folds=KFold(n_splits=5),\n",
    "    num_boost_round=10000,\n",
    "    callbacks=[early_stopping(100), log_evaluation(100)],\n",
    ")\n",
    "\n",
    "tuner.run()"
   ]
  },
  {
   "cell_type": "code",
   "execution_count": 39,
   "id": "0079a348",
   "metadata": {},
   "outputs": [
    {
     "name": "stdout",
     "output_type": "stream",
     "text": [
      "Best score: 0.37380029146510113\n",
      "Params: \n",
      "    boosting_type: gbdt\n",
      "    objective: regression\n",
      "    metric: l2\n",
      "    verbosity: -1\n",
      "    feature_pre_filter: False\n",
      "    lambda_l1: 1.825386053164414e-06\n",
      "    lambda_l2: 1.0745184747530372e-06\n",
      "    num_leaves: 27\n",
      "    feature_fraction: 0.8\n",
      "    bagging_fraction: 1.0\n",
      "    bagging_freq: 0\n",
      "    min_child_samples: 20\n"
     ]
    }
   ],
   "source": [
    "print(f\"Best score: {tuner.best_score}\")\n",
    "best_params = tuner.best_params\n",
    "print(\"Params: \")\n",
    "for key, value in best_params.items():\n",
    "    print(\"    {}: {}\".format(key, value))"
   ]
  },
  {
   "cell_type": "code",
   "execution_count": 40,
   "id": "ee599f57",
   "metadata": {},
   "outputs": [],
   "source": [
    "import lightgbm as lgb\n",
    "\n",
    "lgb_tuned = lgb.train(\n",
    "    best_params,\n",
    "    lgb_train,\n",
    "    num_boost_round=10000,\n",
    ")"
   ]
  },
  {
   "cell_type": "code",
   "execution_count": 41,
   "id": "f18b0204",
   "metadata": {},
   "outputs": [
    {
     "name": "stdout",
     "output_type": "stream",
     "text": [
      "RMSE train: 0.04\n",
      "RMSE test: 0.57\n",
      "MAE test: 0.37\n",
      "\n"
     ]
    }
   ],
   "source": [
    "rmse, mae = assess_regression_model(\n",
    "    lgb_tuned,\n",
    "    X_train_random_split,\n",
    "    X_test_random_split,\n",
    "    y_train_random_split,\n",
    "    y_test_random_split,\n",
    ")"
   ]
  },
  {
   "cell_type": "code",
   "execution_count": 42,
   "id": "13d87eed",
   "metadata": {},
   "outputs": [],
   "source": [
    "results.loc[3] = [\"random\", \"Optuna\", \"basic\", rmse, mae]"
   ]
  },
  {
   "cell_type": "markdown",
   "id": "9d13b101",
   "metadata": {},
   "source": [
    "###### MAE by level"
   ]
  },
  {
   "cell_type": "code",
   "execution_count": 43,
   "id": "91591bcd",
   "metadata": {},
   "outputs": [
    {
     "data": {
      "image/png": "[encoded data removed]",
      "text/plain": [
       "<Figure size 1440x576 with 1 Axes>"
      ]
     },
     "metadata": {
      "needs_background": "light"
     },
     "output_type": "display_data"
    }
   ],
   "source": [
    "plot_mae_by_level(\n",
    "    y_test_random_split,\n",
    "    y_pred_test,\n",
    "    title=\"MAE by level for tuned LightGBM with basic features and random split\",\n",
    ")"
   ]
  },
  {
   "cell_type": "code",
   "execution_count": 46,
   "id": "061d7eba",
   "metadata": {
    "scrolled": true
   },
   "outputs": [
    {
     "name": "stdout",
     "output_type": "stream",
     "text": [
      "Default:\n",
      "RMSE: 0.32\n",
      "\n",
      "Round type: 0.5\n",
      "RMSE: 0.34\n",
      "\n",
      "Round type: 0.33\n",
      "RMSE: 0.36\n",
      "\n",
      "Round type: 0.45\n",
      "RMSE: 0.35\n",
      "\n"
     ]
    }
   ],
   "source": [
    "predict = lgb_tuned.predict(X_test)\n",
    "evaluate_round_predictions([0.5, 0.33, 0.45], y_test, predict)"
   ]
  },
  {
   "cell_type": "code",
   "execution_count": 47,
   "id": "707ee8dd",
   "metadata": {},
   "outputs": [],
   "source": [
    "predict[predict < -1] = -1\n",
    "predict[predict > 21] = 21"
   ]
  },
  {
   "cell_type": "code",
   "execution_count": 48,
   "id": "9d56b725",
   "metadata": {},
   "outputs": [
    {
     "data": {
      "image/png": "[encoded data removed]",
      "text/plain": [
       "<Figure size 720x720 with 2 Axes>"
      ]
     },
     "metadata": {
      "needs_background": "light"
     },
     "output_type": "display_data"
    }
   ],
   "source": [
    "plot_confusion_matrix(\n",
    "    predict,\n",
    "    y_test,\n",
    "    title=\"Confusion matrix for tuned LightGBM with basic features and random split\",\n",
    ")"
   ]
  },
  {
   "cell_type": "markdown",
   "id": "ac941229",
   "metadata": {},
   "source": [
    "## Summary"
   ]
  },
  {
   "cell_type": "code",
   "execution_count": 49,
   "id": "90f5111f",
   "metadata": {
    "scrolled": true
   },
   "outputs": [
    {
     "data": {
      "text/html": [
       "<div>\n",
       "<style scoped>\n",
       "    .dataframe tbody tr th:only-of-type {\n",
       "        vertical-align: middle;\n",
       "    }\n",
       "\n",
       "    .dataframe tbody tr th {\n",
       "        vertical-align: top;\n",
       "    }\n",
       "\n",
       "    .dataframe thead th {\n",
       "        text-align: right;\n",
       "    }\n",
       "</style>\n",
       "<table border=\"1\" class=\"dataframe\">\n",
       "  <thead>\n",
       "    <tr style=\"text-align: right;\">\n",
       "      <th></th>\n",
       "      <th>Split type</th>\n",
       "      <th>Tuning type</th>\n",
       "      <th>Set of features</th>\n",
       "      <th>RMSE</th>\n",
       "      <th>MAE</th>\n",
       "    </tr>\n",
       "  </thead>\n",
       "  <tbody>\n",
       "    <tr>\n",
       "      <th>0</th>\n",
       "      <td>chronological</td>\n",
       "      <td>default</td>\n",
       "      <td>basic</td>\n",
       "      <td>0.758623</td>\n",
       "      <td>0.447897</td>\n",
       "    </tr>\n",
       "    <tr>\n",
       "      <th>1</th>\n",
       "      <td>chronological</td>\n",
       "      <td>Optuna</td>\n",
       "      <td>basic</td>\n",
       "      <td>0.746421</td>\n",
       "      <td>0.451280</td>\n",
       "    </tr>\n",
       "    <tr>\n",
       "      <th>2</th>\n",
       "      <td>random</td>\n",
       "      <td>default</td>\n",
       "      <td>basic</td>\n",
       "      <td>0.568104</td>\n",
       "      <td>0.368391</td>\n",
       "    </tr>\n",
       "    <tr>\n",
       "      <th>3</th>\n",
       "      <td>random</td>\n",
       "      <td>Optuna</td>\n",
       "      <td>basic</td>\n",
       "      <td>0.573611</td>\n",
       "      <td>0.368044</td>\n",
       "    </tr>\n",
       "  </tbody>\n",
       "</table>\n",
       "</div>"
      ],
      "text/plain": [
       "      Split type Tuning type Set of features      RMSE       MAE\n",
       "0  chronological     default           basic  0.758623  0.447897\n",
       "1  chronological      Optuna           basic  0.746421  0.451280\n",
       "2         random     default           basic  0.568104  0.368391\n",
       "3         random      Optuna           basic  0.573611  0.368044"
      ]
     },
     "execution_count": 49,
     "metadata": {},
     "output_type": "execute_result"
    }
   ],
   "source": [
    "results"
   ]
  },
  {
   "cell_type": "code",
   "execution_count": 50,
   "id": "492161ff",
   "metadata": {},
   "outputs": [],
   "source": [
    "from training.results import plot_summary"
   ]
  },
  {
   "cell_type": "code",
   "execution_count": 51,
   "id": "b44fe7c4",
   "metadata": {},
   "outputs": [
    {
     "data": {
      "image/png": "[encoded data removed]",
      "text/plain": [
       "<Figure size 1440x576 with 1 Axes>"
      ]
     },
     "metadata": {
      "needs_background": "light"
     },
     "output_type": "display_data"
    }
   ],
   "source": [
    "plot_summary(results, \"RMSE\", title=\"RMSE for LightGBM with basic features\")"
   ]
  },
  {
   "cell_type": "code",
   "execution_count": 52,
   "id": "d3509e28",
   "metadata": {},
   "outputs": [
    {
     "data": {
      "image/png": "[encoded data removed]",
      "text/plain": [
       "<Figure size 1440x576 with 1 Axes>"
      ]
     },
     "metadata": {
      "needs_background": "light"
     },
     "output_type": "display_data"
    }
   ],
   "source": [
    "plot_summary(results, \"MAE\", title=\"MAE for LightGBM with basic features\")"
   ]
  },
  {
   "cell_type": "code",
   "execution_count": 53,
   "id": "c714119e",
   "metadata": {},
   "outputs": [],
   "source": [
    "results.to_csv(\"./lightgbm_basic_results.csv\")"
   ]
  },
  {
   "cell_type": "code",
   "execution_count": null,
   "id": "a8ce3754",
   "metadata": {},
   "outputs": [],
   "source": []
  }
 ],
 "metadata": {
  "kernelspec": {
   "display_name": "Python 3 (ipykernel)",
   "language": "python",
   "name": "python3"
  },
  "language_info": {
   "codemirror_mode": {
    "name": "ipython",
    "version": 3
   },
   "file_extension": ".py",
   "mimetype": "text/x-python",
   "name": "python",
   "nbconvert_exporter": "python",
   "pygments_lexer": "ipython3",
   "version": "3.10.4"
  }
 },
 "nbformat": 4,
 "nbformat_minor": 5
}
