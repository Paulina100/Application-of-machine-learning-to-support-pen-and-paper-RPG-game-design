{
 "cells": [
  {
   "cell_type": "markdown",
   "id": "f64a671f",
   "metadata": {},
   "source": [
    "# LightGBM\n",
    "### Parameters:\n",
    "* **abilities**:\n",
    "    * **cha**\n",
    "    * **con**\n",
    "    * **dex**\n",
    "    * **int**\n",
    "    * **str**\n",
    "    * **wis**\n",
    "* **attributes**\n",
    "    * **hp**\n",
    "    * **ac**\n",
    "\n",
    "### Prediction: *level*\n",
    "\n",
    "## Loading data"
   ]
  },
  {
   "cell_type": "code",
   "execution_count": 24,
   "id": "1f2515e7",
   "metadata": {},
   "outputs": [],
   "source": [
    "import numpy as np\n",
    "import pandas as pd\n",
    "import sys\n",
    "\n",
    "import os\n",
    "import pathlib\n",
    "\n",
    "sys.path.append(\"../../..\")\n",
    "from training.creating_dataset import load_and_preprocess_data\n",
    "\n",
    "current_path = os.getcwd()\n",
    "DATASETS_DIR = pathlib.Path(current_path).parent.parent.parent / \"pathfinder_2e_data\"\n",
    "DATASET_FILES = [\n",
    "    \"pathfinder-bestiary.db\",\n",
    "    \"pathfinder-bestiary-2.db\",\n",
    "    \"pathfinder-bestiary-3.db\",\n",
    "]\n",
    "DATASET_PATHS = [f\"{DATASETS_DIR}/{file}\" for file in DATASET_FILES]\n",
    "characteristics = [\n",
    "    \"cha\",\n",
    "    \"con\",\n",
    "    \"dex\",\n",
    "    \"int\",\n",
    "    \"str\",\n",
    "    \"wis\",\n",
    "    \"ac\",\n",
    "    \"hp\",\n",
    "]\n",
    "\n",
    "df = load_and_preprocess_data(\n",
    "    DATASET_PATHS,\n",
    "    characteristics=characteristics,\n",
    ")"
   ]
  },
  {
   "cell_type": "code",
   "execution_count": 25,
   "id": "b522f880",
   "metadata": {},
   "outputs": [
    {
     "name": "stdout",
     "output_type": "stream",
     "text": [
      "<class 'pandas.core.frame.DataFrame'>\n",
      "Int64Index: 1206 entries, 0 to 1205\n",
      "Data columns (total 10 columns):\n",
      " #   Column  Non-Null Count  Dtype \n",
      "---  ------  --------------  ----- \n",
      " 0   book    1206 non-null   object\n",
      " 1   dex     1206 non-null   int64 \n",
      " 2   cha     1206 non-null   int64 \n",
      " 3   level   1206 non-null   int64 \n",
      " 4   str     1206 non-null   int64 \n",
      " 5   hp      1206 non-null   int64 \n",
      " 6   con     1206 non-null   int64 \n",
      " 7   int     1206 non-null   int64 \n",
      " 8   wis     1206 non-null   int64 \n",
      " 9   ac      1206 non-null   int64 \n",
      "dtypes: int64(9), object(1)\n",
      "memory usage: 103.6+ KB\n"
     ]
    }
   ],
   "source": [
    "df.info()"
   ]
  },
  {
   "cell_type": "code",
   "execution_count": 26,
   "id": "1b5450d3",
   "metadata": {},
   "outputs": [
    {
     "data": {
      "text/html": [
       "<div>\n",
       "<style scoped>\n",
       "    .dataframe tbody tr th:only-of-type {\n",
       "        vertical-align: middle;\n",
       "    }\n",
       "\n",
       "    .dataframe tbody tr th {\n",
       "        vertical-align: top;\n",
       "    }\n",
       "\n",
       "    .dataframe thead th {\n",
       "        text-align: right;\n",
       "    }\n",
       "</style>\n",
       "<table border=\"1\" class=\"dataframe\">\n",
       "  <thead>\n",
       "    <tr style=\"text-align: right;\">\n",
       "      <th></th>\n",
       "      <th>book</th>\n",
       "      <th>dex</th>\n",
       "      <th>cha</th>\n",
       "      <th>level</th>\n",
       "      <th>str</th>\n",
       "      <th>hp</th>\n",
       "      <th>con</th>\n",
       "      <th>int</th>\n",
       "      <th>wis</th>\n",
       "      <th>ac</th>\n",
       "    </tr>\n",
       "  </thead>\n",
       "  <tbody>\n",
       "    <tr>\n",
       "      <th>0</th>\n",
       "      <td>Pathfinder Bestiary</td>\n",
       "      <td>2</td>\n",
       "      <td>1</td>\n",
       "      <td>10</td>\n",
       "      <td>7</td>\n",
       "      <td>215</td>\n",
       "      <td>5</td>\n",
       "      <td>1</td>\n",
       "      <td>2</td>\n",
       "      <td>29</td>\n",
       "    </tr>\n",
       "    <tr>\n",
       "      <th>1</th>\n",
       "      <td>Pathfinder Bestiary</td>\n",
       "      <td>0</td>\n",
       "      <td>1</td>\n",
       "      <td>10</td>\n",
       "      <td>9</td>\n",
       "      <td>220</td>\n",
       "      <td>5</td>\n",
       "      <td>-4</td>\n",
       "      <td>2</td>\n",
       "      <td>28</td>\n",
       "    </tr>\n",
       "    <tr>\n",
       "      <th>2</th>\n",
       "      <td>Pathfinder Bestiary</td>\n",
       "      <td>3</td>\n",
       "      <td>-2</td>\n",
       "      <td>8</td>\n",
       "      <td>7</td>\n",
       "      <td>175</td>\n",
       "      <td>6</td>\n",
       "      <td>-4</td>\n",
       "      <td>3</td>\n",
       "      <td>25</td>\n",
       "    </tr>\n",
       "    <tr>\n",
       "      <th>3</th>\n",
       "      <td>Pathfinder Bestiary</td>\n",
       "      <td>4</td>\n",
       "      <td>6</td>\n",
       "      <td>17</td>\n",
       "      <td>7</td>\n",
       "      <td>315</td>\n",
       "      <td>5</td>\n",
       "      <td>6</td>\n",
       "      <td>5</td>\n",
       "      <td>41</td>\n",
       "    </tr>\n",
       "    <tr>\n",
       "      <th>4</th>\n",
       "      <td>Pathfinder Bestiary</td>\n",
       "      <td>3</td>\n",
       "      <td>1</td>\n",
       "      <td>1</td>\n",
       "      <td>-5</td>\n",
       "      <td>20</td>\n",
       "      <td>1</td>\n",
       "      <td>-1</td>\n",
       "      <td>1</td>\n",
       "      <td>16</td>\n",
       "    </tr>\n",
       "  </tbody>\n",
       "</table>\n",
       "</div>"
      ],
      "text/plain": [
       "                  book  dex  cha  level  str   hp  con  int  wis  ac\n",
       "0  Pathfinder Bestiary    2    1     10    7  215    5    1    2  29\n",
       "1  Pathfinder Bestiary    0    1     10    9  220    5   -4    2  28\n",
       "2  Pathfinder Bestiary    3   -2      8    7  175    6   -4    3  25\n",
       "3  Pathfinder Bestiary    4    6     17    7  315    5    6    5  41\n",
       "4  Pathfinder Bestiary    3    1      1   -5   20    1   -1    1  16"
      ]
     },
     "execution_count": 26,
     "metadata": {},
     "output_type": "execute_result"
    }
   ],
   "source": [
    "df.head()"
   ]
  },
  {
   "cell_type": "markdown",
   "id": "0caa661f",
   "metadata": {},
   "source": [
    "###### Level"
   ]
  },
  {
   "cell_type": "code",
   "execution_count": 27,
   "id": "c200d2b4",
   "metadata": {},
   "outputs": [
    {
     "data": {
      "text/plain": [
       "0       10\n",
       "1       10\n",
       "2        8\n",
       "3       17\n",
       "4        1\n",
       "        ..\n",
       "1201    20\n",
       "1202    -1\n",
       "1203    12\n",
       "1204     6\n",
       "1205     6\n",
       "Name: level, Length: 1206, dtype: int64"
      ]
     },
     "execution_count": 27,
     "metadata": {},
     "output_type": "execute_result"
    }
   ],
   "source": [
    "y = df[\"level\"]\n",
    "y"
   ]
  },
  {
   "cell_type": "code",
   "execution_count": 28,
   "id": "553822a7",
   "metadata": {},
   "outputs": [],
   "source": [
    "from collections import defaultdict\n",
    "\n",
    "\n",
    "lvl_stat = defaultdict(lambda: 0)\n",
    "\n",
    "for lvl in y:\n",
    "    lvl_stat[lvl] += 1"
   ]
  },
  {
   "cell_type": "code",
   "execution_count": 29,
   "id": "e45d6c29",
   "metadata": {},
   "outputs": [
    {
     "data": {
      "text/html": [
       "<div>\n",
       "<style scoped>\n",
       "    .dataframe tbody tr th:only-of-type {\n",
       "        vertical-align: middle;\n",
       "    }\n",
       "\n",
       "    .dataframe tbody tr th {\n",
       "        vertical-align: top;\n",
       "    }\n",
       "\n",
       "    .dataframe thead th {\n",
       "        text-align: right;\n",
       "    }\n",
       "</style>\n",
       "<table border=\"1\" class=\"dataframe\">\n",
       "  <thead>\n",
       "    <tr style=\"text-align: right;\">\n",
       "      <th></th>\n",
       "      <th>lvl</th>\n",
       "      <th>count</th>\n",
       "    </tr>\n",
       "  </thead>\n",
       "  <tbody>\n",
       "    <tr>\n",
       "      <th>0</th>\n",
       "      <td>-1</td>\n",
       "      <td>34</td>\n",
       "    </tr>\n",
       "    <tr>\n",
       "      <th>1</th>\n",
       "      <td>0</td>\n",
       "      <td>27</td>\n",
       "    </tr>\n",
       "    <tr>\n",
       "      <th>2</th>\n",
       "      <td>1</td>\n",
       "      <td>127</td>\n",
       "    </tr>\n",
       "    <tr>\n",
       "      <th>3</th>\n",
       "      <td>2</td>\n",
       "      <td>121</td>\n",
       "    </tr>\n",
       "    <tr>\n",
       "      <th>4</th>\n",
       "      <td>3</td>\n",
       "      <td>95</td>\n",
       "    </tr>\n",
       "    <tr>\n",
       "      <th>5</th>\n",
       "      <td>4</td>\n",
       "      <td>82</td>\n",
       "    </tr>\n",
       "    <tr>\n",
       "      <th>6</th>\n",
       "      <td>5</td>\n",
       "      <td>76</td>\n",
       "    </tr>\n",
       "    <tr>\n",
       "      <th>7</th>\n",
       "      <td>6</td>\n",
       "      <td>72</td>\n",
       "    </tr>\n",
       "    <tr>\n",
       "      <th>8</th>\n",
       "      <td>7</td>\n",
       "      <td>77</td>\n",
       "    </tr>\n",
       "    <tr>\n",
       "      <th>9</th>\n",
       "      <td>8</td>\n",
       "      <td>68</td>\n",
       "    </tr>\n",
       "    <tr>\n",
       "      <th>10</th>\n",
       "      <td>9</td>\n",
       "      <td>63</td>\n",
       "    </tr>\n",
       "    <tr>\n",
       "      <th>11</th>\n",
       "      <td>10</td>\n",
       "      <td>58</td>\n",
       "    </tr>\n",
       "    <tr>\n",
       "      <th>12</th>\n",
       "      <td>11</td>\n",
       "      <td>40</td>\n",
       "    </tr>\n",
       "    <tr>\n",
       "      <th>13</th>\n",
       "      <td>12</td>\n",
       "      <td>41</td>\n",
       "    </tr>\n",
       "    <tr>\n",
       "      <th>14</th>\n",
       "      <td>13</td>\n",
       "      <td>36</td>\n",
       "    </tr>\n",
       "    <tr>\n",
       "      <th>15</th>\n",
       "      <td>14</td>\n",
       "      <td>33</td>\n",
       "    </tr>\n",
       "    <tr>\n",
       "      <th>16</th>\n",
       "      <td>15</td>\n",
       "      <td>31</td>\n",
       "    </tr>\n",
       "    <tr>\n",
       "      <th>17</th>\n",
       "      <td>16</td>\n",
       "      <td>25</td>\n",
       "    </tr>\n",
       "    <tr>\n",
       "      <th>18</th>\n",
       "      <td>17</td>\n",
       "      <td>21</td>\n",
       "    </tr>\n",
       "    <tr>\n",
       "      <th>19</th>\n",
       "      <td>18</td>\n",
       "      <td>21</td>\n",
       "    </tr>\n",
       "    <tr>\n",
       "      <th>20</th>\n",
       "      <td>19</td>\n",
       "      <td>18</td>\n",
       "    </tr>\n",
       "    <tr>\n",
       "      <th>21</th>\n",
       "      <td>20</td>\n",
       "      <td>24</td>\n",
       "    </tr>\n",
       "    <tr>\n",
       "      <th>22</th>\n",
       "      <td>21</td>\n",
       "      <td>16</td>\n",
       "    </tr>\n",
       "  </tbody>\n",
       "</table>\n",
       "</div>"
      ],
      "text/plain": [
       "    lvl  count\n",
       "0    -1     34\n",
       "1     0     27\n",
       "2     1    127\n",
       "3     2    121\n",
       "4     3     95\n",
       "5     4     82\n",
       "6     5     76\n",
       "7     6     72\n",
       "8     7     77\n",
       "9     8     68\n",
       "10    9     63\n",
       "11   10     58\n",
       "12   11     40\n",
       "13   12     41\n",
       "14   13     36\n",
       "15   14     33\n",
       "16   15     31\n",
       "17   16     25\n",
       "18   17     21\n",
       "19   18     21\n",
       "20   19     18\n",
       "21   20     24\n",
       "22   21     16"
      ]
     },
     "execution_count": 29,
     "metadata": {},
     "output_type": "execute_result"
    }
   ],
   "source": [
    "level_count = pd.DataFrame(\n",
    "    data={\n",
    "        \"lvl\": [key for key in sorted(lvl_stat.keys())],\n",
    "        \"count\": [lvl_stat.get(key) for key in sorted(lvl_stat.keys())],\n",
    "    }\n",
    ")\n",
    "level_count"
   ]
  },
  {
   "cell_type": "code",
   "execution_count": 30,
   "id": "bdbfe8de",
   "metadata": {},
   "outputs": [
    {
     "data": {
      "image/png": "[encoded data removed]",
      "text/plain": [
       "<Figure size 432x288 with 1 Axes>"
      ]
     },
     "metadata": {
      "needs_background": "light"
     },
     "output_type": "display_data"
    }
   ],
   "source": [
    "import matplotlib.pyplot as plt\n",
    "\n",
    "\n",
    "level_count.plot.bar(x=\"lvl\", y=\"count\", title=\"Count of levels\")\n",
    "plt.show()"
   ]
  },
  {
   "cell_type": "markdown",
   "id": "9fdb6541",
   "metadata": {},
   "source": [
    "## Train test split"
   ]
  },
  {
   "cell_type": "markdown",
   "id": "18f56629",
   "metadata": {},
   "source": [
    "### Chronological split"
   ]
  },
  {
   "cell_type": "code",
   "execution_count": 31,
   "id": "dcda359b",
   "metadata": {},
   "outputs": [],
   "source": [
    "from training.splitting_dataset import split_dataframe\n",
    "\n",
    "\n",
    "os.chdir(\"../../../training\")\n",
    "X_train, X_test, y_train, y_test = split_dataframe(df, test_size=0.31)\n",
    "os.chdir(\"../notebooks/models/lightgbm\")"
   ]
  },
  {
   "cell_type": "code",
   "execution_count": 32,
   "id": "17dbc875",
   "metadata": {},
   "outputs": [],
   "source": [
    "X_train = X_train.drop(columns=[\"book\"])\n",
    "X_test = X_test.drop(columns=[\"book\"])"
   ]
  },
  {
   "cell_type": "markdown",
   "id": "25879636",
   "metadata": {},
   "source": [
    "### Random split"
   ]
  },
  {
   "cell_type": "code",
   "execution_count": 33,
   "id": "982ec5eb",
   "metadata": {},
   "outputs": [],
   "source": [
    "(\n",
    "    X_train_random_split,\n",
    "    X_test_random_split,\n",
    "    y_train_random_split,\n",
    "    y_test_random_split,\n",
    ") = split_dataframe(df, chronological_split=False)"
   ]
  },
  {
   "cell_type": "code",
   "execution_count": 34,
   "id": "90569e78",
   "metadata": {},
   "outputs": [],
   "source": [
    "X_train_random_split = X_train_random_split.drop(columns=[\"book\"])\n",
    "X_test_random_split = X_test_random_split.drop(columns=[\"book\"])"
   ]
  },
  {
   "cell_type": "markdown",
   "id": "9b259fbf",
   "metadata": {},
   "source": [
    "## LightGBM"
   ]
  },
  {
   "cell_type": "markdown",
   "id": "14f37d9b",
   "metadata": {},
   "source": [
    "## Chronological split"
   ]
  },
  {
   "cell_type": "code",
   "execution_count": 35,
   "id": "2bc4c90e",
   "metadata": {},
   "outputs": [
    {
     "name": "stdout",
     "output_type": "stream",
     "text": [
      "[LightGBM] [Warning] Auto-choosing col-wise multi-threading, the overhead of testing was 0.000343 seconds.\n",
      "You can set `force_col_wise=true` to remove the overhead.\n",
      "[LightGBM] [Info] Total Bins 224\n",
      "[LightGBM] [Info] Number of data points in the train set: 841, number of used features: 8\n",
      "[LightGBM] [Info] Start training from score 6.966706\n",
      "Training until validation scores don't improve for 5 rounds\n",
      "[LightGBM] [Warning] No further splits with positive gain, best gain: -inf\n",
      "[LightGBM] [Warning] No further splits with positive gain, best gain: -inf\n",
      "[LightGBM] [Warning] No further splits with positive gain, best gain: -inf\n",
      "[LightGBM] [Warning] No further splits with positive gain, best gain: -inf\n",
      "[LightGBM] [Warning] No further splits with positive gain, best gain: -inf\n",
      "[LightGBM] [Warning] No further splits with positive gain, best gain: -inf\n",
      "[LightGBM] [Warning] No further splits with positive gain, best gain: -inf\n",
      "[LightGBM] [Warning] No further splits with positive gain, best gain: -inf\n",
      "[LightGBM] [Warning] No further splits with positive gain, best gain: -inf\n",
      "[LightGBM] [Warning] No further splits with positive gain, best gain: -inf\n",
      "[LightGBM] [Warning] No further splits with positive gain, best gain: -inf\n",
      "[LightGBM] [Warning] No further splits with positive gain, best gain: -inf\n",
      "Early stopping, best iteration is:\n",
      "[48]\tvalid_0's l2: 0.447566\tvalid_0's l1: 0.467604\n"
     ]
    }
   ],
   "source": [
    "import lightgbm as lgb\n",
    "\n",
    "lgb_train = lgb.Dataset(X_train, y_train)\n",
    "lgb_eval = lgb.Dataset(X_test, y_test, reference=lgb_train)\n",
    "\n",
    "params = {\n",
    "    \"boosting_type\": \"gbdt\",\n",
    "    \"objective\": \"regression\",\n",
    "    \"metric\": {\"l2\", \"l1\"},\n",
    "}\n",
    "\n",
    "gbm = lgb.train(\n",
    "    params,\n",
    "    lgb_train,\n",
    "    num_boost_round=100,\n",
    "    valid_sets=lgb_eval,\n",
    "    callbacks=[lgb.early_stopping(stopping_rounds=5)],\n",
    ")"
   ]
  },
  {
   "cell_type": "code",
   "execution_count": 36,
   "id": "f1ae2eaa",
   "metadata": {},
   "outputs": [],
   "source": [
    "y_pred_train = gbm.predict(X_train, num_iteration=gbm.best_iteration)\n",
    "y_pred_test = gbm.predict(X_test, num_iteration=gbm.best_iteration)"
   ]
  },
  {
   "cell_type": "code",
   "execution_count": 37,
   "id": "ef9d09eb",
   "metadata": {},
   "outputs": [
    {
     "name": "stdout",
     "output_type": "stream",
     "text": [
      "MSE: 0.45\n",
      "RMSE: 0.67\n",
      "MAE: 0.47\n"
     ]
    }
   ],
   "source": [
    "from sklearn.metrics import mean_squared_error, mean_absolute_error\n",
    "\n",
    "\n",
    "mse = mean_squared_error(y_test, y_pred_test)\n",
    "rmse = mean_squared_error(y_test, y_pred_test, squared=False)\n",
    "mae = mean_absolute_error(y_test, y_pred_test)\n",
    "\n",
    "print(f\"MSE: {mse:.2f}\")\n",
    "print(f\"RMSE: {rmse:.2f}\")\n",
    "print(f\"MAE: {mae:.2f}\")"
   ]
  },
  {
   "cell_type": "code",
   "execution_count": 38,
   "id": "6e288d53",
   "metadata": {},
   "outputs": [],
   "source": [
    "results = pd.DataFrame(\n",
    "    data={\n",
    "        \"Split type\": [],\n",
    "        \"Tuning type\": [],\n",
    "        \"Number of characteristics\": [],\n",
    "        \"MSE\": [],\n",
    "        \"RMSE\": [],\n",
    "        \"MAE\": [],\n",
    "    }\n",
    ")\n",
    "\n",
    "results.loc[0] = [\"chronological\", \"normal\", len(X_test.columns), mse, rmse, mae]"
   ]
  },
  {
   "cell_type": "code",
   "execution_count": 39,
   "id": "78bb7ffa",
   "metadata": {},
   "outputs": [
    {
     "name": "stdout",
     "output_type": "stream",
     "text": [
      "RMSE train: 0.31\n",
      "RMSE test: 0.67\n"
     ]
    }
   ],
   "source": [
    "rmse_train = mean_squared_error(y_train, y_pred_train, squared=False)\n",
    "rmse_test = mean_squared_error(y_test, y_pred_test, squared=False)\n",
    "print(f\"RMSE train: {rmse_train:.2f}\")\n",
    "print(f\"RMSE test: {rmse_test:.2f}\")"
   ]
  },
  {
   "cell_type": "markdown",
   "id": "4435f236",
   "metadata": {},
   "source": [
    "###### MAE by level"
   ]
  },
  {
   "cell_type": "code",
   "execution_count": 40,
   "id": "4a1913a2",
   "metadata": {
    "scrolled": false
   },
   "outputs": [
    {
     "data": {
      "image/png": "[encoded data removed]",
      "text/plain": [
       "<Figure size 720x432 with 1 Axes>"
      ]
     },
     "metadata": {
      "needs_background": "light"
     },
     "output_type": "display_data"
    }
   ],
   "source": [
    "import matplotlib.pyplot as plt\n",
    "\n",
    "y_test = y_test.reset_index(drop=True)\n",
    "level_max = y_test.max()\n",
    "\n",
    "mae_by_level = pd.DataFrame(columns=[\"level\", \"mae\"])\n",
    "for lvl in range(-1, level_max + 1):\n",
    "    y_test_curr = y_test[y_test == lvl]\n",
    "    y_pred_test_curr = pd.DataFrame(y_pred_test)[y_test == lvl]\n",
    "\n",
    "    mae = mean_absolute_error(y_test_curr, y_pred_test_curr)\n",
    "    mae_by_level.loc[lvl + 1] = [lvl, mae]\n",
    "\n",
    "\n",
    "plt.figure(figsize=(10, 6))\n",
    "plt.bar(mae_by_level[\"level\"], mae_by_level[\"mae\"])\n",
    "plt.xlabel(\"Level\")\n",
    "plt.ylabel(\"Mean Absolute Error (MAE)\")\n",
    "plt.title(\"MAE by level\")\n",
    "plt.xticks(mae_by_level[\"level\"])\n",
    "plt.show()"
   ]
  },
  {
   "cell_type": "code",
   "execution_count": 41,
   "id": "ec8cab49",
   "metadata": {
    "scrolled": true
   },
   "outputs": [
    {
     "name": "stdout",
     "output_type": "stream",
     "text": [
      "Normal:\n",
      "MSE: 0.45\n",
      "RMSE: 0.67\n",
      "\n",
      "Round type: round\n",
      "MSE: 0.50\n",
      "RMSE: 0.71\n",
      "\n",
      "Round type: 0.33\n",
      "MSE: 0.50\n",
      "RMSE: 0.71\n",
      "\n",
      "Round type: 0.45\n",
      "MSE: 0.48\n",
      "RMSE: 0.70\n",
      "\n"
     ]
    }
   ],
   "source": [
    "from training.results import check_round_predictions, plot_confusion_matrix\n",
    "\n",
    "\n",
    "check_round_predictions([\"round\", 0.33, 0.45], y_test, y_pred_test)"
   ]
  },
  {
   "cell_type": "code",
   "execution_count": 42,
   "id": "9129a0ae",
   "metadata": {},
   "outputs": [
    {
     "data": {
      "image/png": "[encoded data removed]",
      "text/plain": [
       "<Figure size 432x288 with 2 Axes>"
      ]
     },
     "metadata": {
      "needs_background": "light"
     },
     "output_type": "display_data"
    }
   ],
   "source": [
    "plot_confusion_matrix(\"round\", y_pred_test, y_test)"
   ]
  },
  {
   "cell_type": "markdown",
   "id": "aaaf3023",
   "metadata": {},
   "source": [
    "#### Tuning"
   ]
  },
  {
   "cell_type": "code",
   "execution_count": 43,
   "id": "cbd24f9f",
   "metadata": {},
   "outputs": [],
   "source": [
    "from training.results import assess_regression_model"
   ]
  },
  {
   "cell_type": "code",
   "execution_count": 44,
   "id": "10854460",
   "metadata": {},
   "outputs": [
    {
     "name": "stderr",
     "output_type": "stream",
     "text": [
      "[I 2023-10-28 22:04:13,822] A new study created in memory with name: no-name-0e297c6e-4030-46e7-8ee6-bca70fbf51d4\n",
      "feature_fraction, val_score: inf:   0%|                                                          | 0/7 [00:00<?, ?it/s]"
     ]
    },
    {
     "name": "stdout",
     "output_type": "stream",
     "text": [
      "Training until validation scores don't improve for 100 rounds\n",
      "[100]\tcv_agg's l2: 0.245718 + 0.054782\n",
      "[200]\tcv_agg's l2: 0.233173 + 0.0556408\n",
      "[300]\tcv_agg's l2: 0.229026 + 0.0546464\n",
      "[400]\tcv_agg's l2: 0.227947 + 0.0535149\n"
     ]
    },
    {
     "name": "stderr",
     "output_type": "stream",
     "text": [
      "feature_fraction, val_score: 0.227671:  14%|######4                                      | 1/7 [00:01<00:10,  1.82s/it][I 2023-10-28 22:04:15,646] Trial 0 finished with value: 0.22767110516101502 and parameters: {'feature_fraction': 0.6}. Best is trial 0 with value: 0.22767110516101502.\n",
      "feature_fraction, val_score: 0.227671:  14%|######4                                      | 1/7 [00:01<00:10,  1.82s/it]"
     ]
    },
    {
     "name": "stdout",
     "output_type": "stream",
     "text": [
      "Early stopping, best iteration is:\n",
      "[394]\tcv_agg's l2: 0.227671 + 0.0533879\n",
      "[100]\tcv_agg's l2: 0.231619 + 0.0508183\n",
      "[200]\tcv_agg's l2: 0.227511 + 0.0512005\n"
     ]
    },
    {
     "name": "stderr",
     "output_type": "stream",
     "text": [
      "feature_fraction, val_score: 0.227511:  29%|############8                                | 2/7 [00:03<00:07,  1.45s/it][I 2023-10-28 22:04:16,837] Trial 1 finished with value: 0.22751054765480921 and parameters: {'feature_fraction': 0.7}. Best is trial 1 with value: 0.22751054765480921.\n",
      "feature_fraction, val_score: 0.227511:  29%|############8                                | 2/7 [00:03<00:07,  1.45s/it]"
     ]
    },
    {
     "name": "stdout",
     "output_type": "stream",
     "text": [
      "[300]\tcv_agg's l2: 0.230452 + 0.0524283\n",
      "Early stopping, best iteration is:\n",
      "[200]\tcv_agg's l2: 0.227511 + 0.0512005\n",
      "[100]\tcv_agg's l2: 0.298754 + 0.0580949\n",
      "[200]\tcv_agg's l2: 0.260822 + 0.0512505\n"
     ]
    },
    {
     "name": "stderr",
     "output_type": "stream",
     "text": [
      "feature_fraction, val_score: 0.227511:  43%|###################2                         | 3/7 [00:04<00:05,  1.35s/it][I 2023-10-28 22:04:18,059] Trial 2 finished with value: 0.2608223075009076 and parameters: {'feature_fraction': 0.4}. Best is trial 1 with value: 0.22751054765480921.\n",
      "feature_fraction, val_score: 0.227511:  43%|###################2                         | 3/7 [00:04<00:05,  1.35s/it]"
     ]
    },
    {
     "name": "stdout",
     "output_type": "stream",
     "text": [
      "[300]\tcv_agg's l2: 0.250211 + 0.049323\n",
      "Early stopping, best iteration is:\n",
      "[200]\tcv_agg's l2: 0.227511 + 0.0512005\n",
      "[100]\tcv_agg's l2: 0.302564 + 0.0523563\n",
      "[200]\tcv_agg's l2: 0.266094 + 0.0517084\n"
     ]
    },
    {
     "name": "stderr",
     "output_type": "stream",
     "text": [
      "feature_fraction, val_score: 0.227511:  57%|#########################7                   | 4/7 [00:05<00:04,  1.35s/it][I 2023-10-28 22:04:19,406] Trial 3 finished with value: 0.2660943839793769 and parameters: {'feature_fraction': 0.5}. Best is trial 1 with value: 0.22751054765480921.\n",
      "feature_fraction, val_score: 0.227511:  57%|#########################7                   | 4/7 [00:05<00:04,  1.35s/it]"
     ]
    },
    {
     "name": "stdout",
     "output_type": "stream",
     "text": [
      "[300]\tcv_agg's l2: 0.254952 + 0.0529574\n",
      "Early stopping, best iteration is:\n",
      "[200]\tcv_agg's l2: 0.227511 + 0.0512005\n",
      "[100]\tcv_agg's l2: 0.230699 + 0.0504399\n",
      "[200]\tcv_agg's l2: 0.228471 + 0.0524895\n"
     ]
    },
    {
     "name": "stderr",
     "output_type": "stream",
     "text": [
      "feature_fraction, val_score: 0.227511:  71%|################################1            | 5/7 [00:07<00:03,  1.63s/it][I 2023-10-28 22:04:21,539] Trial 4 finished with value: 0.2284708923833957 and parameters: {'feature_fraction': 0.8999999999999999}. Best is trial 1 with value: 0.22751054765480921.\n",
      "feature_fraction, val_score: 0.227511:  71%|################################1            | 5/7 [00:07<00:03,  1.63s/it]"
     ]
    },
    {
     "name": "stdout",
     "output_type": "stream",
     "text": [
      "[300]\tcv_agg's l2: 0.229934 + 0.0534556\n",
      "Early stopping, best iteration is:\n",
      "[200]\tcv_agg's l2: 0.227511 + 0.0512005\n",
      "[100]\tcv_agg's l2: 0.231619 + 0.0508183\n",
      "[200]\tcv_agg's l2: 0.227511 + 0.0512005\n"
     ]
    },
    {
     "name": "stderr",
     "output_type": "stream",
     "text": [
      "feature_fraction, val_score: 0.227511:  86%|######################################5      | 6/7 [00:10<00:01,  1.89s/it][I 2023-10-28 22:04:23,933] Trial 5 finished with value: 0.22751054765480921 and parameters: {'feature_fraction': 0.8}. Best is trial 1 with value: 0.22751054765480921.\n",
      "feature_fraction, val_score: 0.227511:  86%|######################################5      | 6/7 [00:10<00:01,  1.89s/it]"
     ]
    },
    {
     "name": "stdout",
     "output_type": "stream",
     "text": [
      "[300]\tcv_agg's l2: 0.230452 + 0.0524283\n",
      "Early stopping, best iteration is:\n",
      "[200]\tcv_agg's l2: 0.227511 + 0.0512005\n",
      "[100]\tcv_agg's l2: 0.23413 + 0.0515182\n",
      "[200]\tcv_agg's l2: 0.232582 + 0.0496512\n"
     ]
    },
    {
     "name": "stderr",
     "output_type": "stream",
     "text": [
      "feature_fraction, val_score: 0.227511: 100%|#############################################| 7/7 [00:12<00:00,  2.12s/it][I 2023-10-28 22:04:26,527] Trial 6 finished with value: 0.23258182666116806 and parameters: {'feature_fraction': 1.0}. Best is trial 1 with value: 0.22751054765480921.\n",
      "feature_fraction, val_score: 0.227511: 100%|#############################################| 7/7 [00:12<00:00,  1.81s/it]\n"
     ]
    },
    {
     "name": "stdout",
     "output_type": "stream",
     "text": [
      "[300]\tcv_agg's l2: 0.234591 + 0.0510271\n",
      "Early stopping, best iteration is:\n",
      "[200]\tcv_agg's l2: 0.227511 + 0.0512005\n"
     ]
    },
    {
     "name": "stderr",
     "output_type": "stream",
     "text": [
      "num_leaves, val_score: 0.227511:   0%|                                                          | 0/20 [00:00<?, ?it/s]"
     ]
    },
    {
     "name": "stdout",
     "output_type": "stream",
     "text": [
      "[100]\tcv_agg's l2: 0.231619 + 0.0508183\n",
      "[200]\tcv_agg's l2: 0.227511 + 0.0512005\n"
     ]
    },
    {
     "name": "stderr",
     "output_type": "stream",
     "text": [
      "num_leaves, val_score: 0.227511:   5%|##5                                               | 1/20 [00:02<00:42,  2.26s/it][I 2023-10-28 22:04:28,793] Trial 7 finished with value: 0.22751054765480921 and parameters: {'num_leaves': 45}. Best is trial 7 with value: 0.22751054765480921.\n",
      "num_leaves, val_score: 0.227511:   5%|##5                                               | 1/20 [00:02<00:42,  2.26s/it]"
     ]
    },
    {
     "name": "stdout",
     "output_type": "stream",
     "text": [
      "[300]\tcv_agg's l2: 0.230452 + 0.0524283\n",
      "Early stopping, best iteration is:\n",
      "[200]\tcv_agg's l2: 0.227511 + 0.0512005\n",
      "[100]\tcv_agg's l2: 0.231619 + 0.0508183\n",
      "[200]\tcv_agg's l2: 0.227511 + 0.0512005\n"
     ]
    },
    {
     "name": "stderr",
     "output_type": "stream",
     "text": [
      "num_leaves, val_score: 0.227511:  10%|#####                                             | 2/20 [00:04<00:37,  2.09s/it][I 2023-10-28 22:04:30,760] Trial 8 finished with value: 0.22751054765480921 and parameters: {'num_leaves': 97}. Best is trial 7 with value: 0.22751054765480921.\n",
      "num_leaves, val_score: 0.227511:  10%|#####                                             | 2/20 [00:04<00:37,  2.09s/it]"
     ]
    },
    {
     "name": "stdout",
     "output_type": "stream",
     "text": [
      "[300]\tcv_agg's l2: 0.230452 + 0.0524283\n",
      "Early stopping, best iteration is:\n",
      "[200]\tcv_agg's l2: 0.227511 + 0.0512005\n",
      "[100]\tcv_agg's l2: 0.231619 + 0.0508183\n",
      "[200]\tcv_agg's l2: 0.227511 + 0.0512005\n"
     ]
    },
    {
     "name": "stderr",
     "output_type": "stream",
     "text": [
      "num_leaves, val_score: 0.227511:  15%|#######5                                          | 3/20 [00:05<00:31,  1.84s/it][I 2023-10-28 22:04:32,297] Trial 9 finished with value: 0.22751054765480921 and parameters: {'num_leaves': 66}. Best is trial 7 with value: 0.22751054765480921.\n",
      "num_leaves, val_score: 0.227511:  15%|#######5                                          | 3/20 [00:05<00:31,  1.84s/it]"
     ]
    },
    {
     "name": "stdout",
     "output_type": "stream",
     "text": [
      "[300]\tcv_agg's l2: 0.230452 + 0.0524283\n",
      "Early stopping, best iteration is:\n",
      "[200]\tcv_agg's l2: 0.227511 + 0.0512005\n",
      "[100]\tcv_agg's l2: 0.231619 + 0.0508183\n",
      "[200]\tcv_agg's l2: 0.227511 + 0.0512005\n"
     ]
    },
    {
     "name": "stderr",
     "output_type": "stream",
     "text": [
      "num_leaves, val_score: 0.227511:  20%|##########                                        | 4/20 [00:07<00:27,  1.71s/it][I 2023-10-28 22:04:33,805] Trial 10 finished with value: 0.22751054765480921 and parameters: {'num_leaves': 250}. Best is trial 7 with value: 0.22751054765480921.\n",
      "num_leaves, val_score: 0.227511:  20%|##########                                        | 4/20 [00:07<00:27,  1.71s/it]"
     ]
    },
    {
     "name": "stdout",
     "output_type": "stream",
     "text": [
      "[300]\tcv_agg's l2: 0.230452 + 0.0524283\n",
      "Early stopping, best iteration is:\n",
      "[200]\tcv_agg's l2: 0.227511 + 0.0512005\n",
      "[100]\tcv_agg's l2: 0.231619 + 0.0508183\n",
      "[200]\tcv_agg's l2: 0.227511 + 0.0512005\n"
     ]
    },
    {
     "name": "stderr",
     "output_type": "stream",
     "text": [
      "num_leaves, val_score: 0.227511:  25%|############5                                     | 5/20 [00:08<00:25,  1.67s/it][I 2023-10-28 22:04:35,402] Trial 11 finished with value: 0.22751054765480921 and parameters: {'num_leaves': 207}. Best is trial 7 with value: 0.22751054765480921.\n",
      "num_leaves, val_score: 0.227511:  25%|############5                                     | 5/20 [00:08<00:25,  1.67s/it]"
     ]
    },
    {
     "name": "stdout",
     "output_type": "stream",
     "text": [
      "[300]\tcv_agg's l2: 0.230452 + 0.0524283\n",
      "Early stopping, best iteration is:\n",
      "[200]\tcv_agg's l2: 0.227511 + 0.0512005\n",
      "[100]\tcv_agg's l2: 0.231619 + 0.0508183\n",
      "[200]\tcv_agg's l2: 0.227511 + 0.0512005\n"
     ]
    },
    {
     "name": "stderr",
     "output_type": "stream",
     "text": [
      "num_leaves, val_score: 0.227511:  30%|###############                                   | 6/20 [00:10<00:22,  1.61s/it][I 2023-10-28 22:04:36,888] Trial 12 finished with value: 0.22751054765480921 and parameters: {'num_leaves': 166}. Best is trial 7 with value: 0.22751054765480921.\n",
      "num_leaves, val_score: 0.227511:  30%|###############                                   | 6/20 [00:10<00:22,  1.61s/it]"
     ]
    },
    {
     "name": "stdout",
     "output_type": "stream",
     "text": [
      "[300]\tcv_agg's l2: 0.230452 + 0.0524283\n",
      "Early stopping, best iteration is:\n",
      "[200]\tcv_agg's l2: 0.227511 + 0.0512005\n",
      "[100]\tcv_agg's l2: 0.286447 + 0.0559545\n"
     ]
    },
    {
     "name": "stderr",
     "output_type": "stream",
     "text": [
      "num_leaves, val_score: 0.227511:  35%|#################5                                | 7/20 [00:10<00:15,  1.20s/it][I 2023-10-28 22:04:37,255] Trial 13 finished with value: 0.2651846104306992 and parameters: {'num_leaves': 3}. Best is trial 7 with value: 0.22751054765480921.\n",
      "num_leaves, val_score: 0.227511:  35%|#################5                                | 7/20 [00:10<00:15,  1.20s/it]"
     ]
    },
    {
     "name": "stdout",
     "output_type": "stream",
     "text": [
      "[200]\tcv_agg's l2: 0.265185 + 0.0464584\n",
      "[300]\tcv_agg's l2: 0.257273 + 0.0407129\n",
      "Early stopping, best iteration is:\n",
      "[200]\tcv_agg's l2: 0.227511 + 0.0512005\n",
      "[100]\tcv_agg's l2: 0.231619 + 0.0508183\n",
      "[200]\tcv_agg's l2: 0.227511 + 0.0512005\n"
     ]
    },
    {
     "name": "stderr",
     "output_type": "stream",
     "text": [
      "num_leaves, val_score: 0.227511:  40%|####################                              | 8/20 [00:12<00:15,  1.28s/it][I 2023-10-28 22:04:38,719] Trial 14 finished with value: 0.22751054765480921 and parameters: {'num_leaves': 151}. Best is trial 7 with value: 0.22751054765480921.\n",
      "num_leaves, val_score: 0.227511:  40%|####################                              | 8/20 [00:12<00:15,  1.28s/it]"
     ]
    },
    {
     "name": "stdout",
     "output_type": "stream",
     "text": [
      "[300]\tcv_agg's l2: 0.230452 + 0.0524283\n",
      "Early stopping, best iteration is:\n",
      "[200]\tcv_agg's l2: 0.227511 + 0.0512005\n",
      "[100]\tcv_agg's l2: 0.231619 + 0.0508183\n",
      "[200]\tcv_agg's l2: 0.227511 + 0.0512005\n"
     ]
    },
    {
     "name": "stderr",
     "output_type": "stream",
     "text": [
      "num_leaves, val_score: 0.227511:  45%|######################5                           | 9/20 [00:13<00:15,  1.37s/it][I 2023-10-28 22:04:40,275] Trial 15 finished with value: 0.22751054765480921 and parameters: {'num_leaves': 249}. Best is trial 7 with value: 0.22751054765480921.\n",
      "num_leaves, val_score: 0.227511:  45%|######################5                           | 9/20 [00:13<00:15,  1.37s/it]"
     ]
    },
    {
     "name": "stdout",
     "output_type": "stream",
     "text": [
      "[300]\tcv_agg's l2: 0.230452 + 0.0524283\n",
      "Early stopping, best iteration is:\n",
      "[200]\tcv_agg's l2: 0.227511 + 0.0512005\n",
      "[100]\tcv_agg's l2: 0.231619 + 0.0508183\n",
      "[200]\tcv_agg's l2: 0.227511 + 0.0512005\n"
     ]
    },
    {
     "name": "stderr",
     "output_type": "stream",
     "text": [
      "num_leaves, val_score: 0.227511:  50%|########################5                        | 10/20 [00:15<00:13,  1.37s/it][I 2023-10-28 22:04:41,655] Trial 16 finished with value: 0.22751054765480921 and parameters: {'num_leaves': 113}. Best is trial 7 with value: 0.22751054765480921.\n",
      "num_leaves, val_score: 0.227511:  50%|########################5                        | 10/20 [00:15<00:13,  1.37s/it]"
     ]
    },
    {
     "name": "stdout",
     "output_type": "stream",
     "text": [
      "[300]\tcv_agg's l2: 0.230452 + 0.0524283\n",
      "Early stopping, best iteration is:\n",
      "[200]\tcv_agg's l2: 0.227511 + 0.0512005\n",
      "[100]\tcv_agg's l2: 0.335546 + 0.0493193\n"
     ]
    },
    {
     "name": "stderr",
     "output_type": "stream",
     "text": [
      "num_leaves, val_score: 0.227511:  55%|##########################9                      | 11/20 [00:15<00:09,  1.05s/it][I 2023-10-28 22:04:41,984] Trial 17 finished with value: 0.31035753191980875 and parameters: {'num_leaves': 2}. Best is trial 7 with value: 0.22751054765480921.\n",
      "num_leaves, val_score: 0.227511:  55%|##########################9                      | 11/20 [00:15<00:09,  1.05s/it]"
     ]
    },
    {
     "name": "stdout",
     "output_type": "stream",
     "text": [
      "[200]\tcv_agg's l2: 0.310358 + 0.0518375\n",
      "[300]\tcv_agg's l2: 0.305193 + 0.0544003\n",
      "Early stopping, best iteration is:\n",
      "[200]\tcv_agg's l2: 0.227511 + 0.0512005\n",
      "[100]\tcv_agg's l2: 0.231619 + 0.0508183\n",
      "[200]\tcv_agg's l2: 0.227511 + 0.0512005\n"
     ]
    },
    {
     "name": "stderr",
     "output_type": "stream",
     "text": [
      "num_leaves, val_score: 0.227511:  60%|#############################4                   | 12/20 [00:16<00:09,  1.18s/it][I 2023-10-28 22:04:43,463] Trial 18 finished with value: 0.22751054765480921 and parameters: {'num_leaves': 179}. Best is trial 7 with value: 0.22751054765480921.\n",
      "num_leaves, val_score: 0.227511:  60%|#############################4                   | 12/20 [00:16<00:09,  1.18s/it]"
     ]
    },
    {
     "name": "stdout",
     "output_type": "stream",
     "text": [
      "[300]\tcv_agg's l2: 0.230452 + 0.0524283\n",
      "Early stopping, best iteration is:\n",
      "[200]\tcv_agg's l2: 0.227511 + 0.0512005\n",
      "[100]\tcv_agg's l2: 0.231619 + 0.0508183\n",
      "[200]\tcv_agg's l2: 0.227511 + 0.0512005\n"
     ]
    },
    {
     "name": "stderr",
     "output_type": "stream",
     "text": [
      "num_leaves, val_score: 0.227511:  65%|###############################8                 | 13/20 [00:18<00:09,  1.38s/it][I 2023-10-28 22:04:45,303] Trial 19 finished with value: 0.22751054765480921 and parameters: {'num_leaves': 218}. Best is trial 7 with value: 0.22751054765480921.\n",
      "num_leaves, val_score: 0.227511:  65%|###############################8                 | 13/20 [00:18<00:09,  1.38s/it]"
     ]
    },
    {
     "name": "stdout",
     "output_type": "stream",
     "text": [
      "[300]\tcv_agg's l2: 0.230452 + 0.0524283\n",
      "Early stopping, best iteration is:\n",
      "[200]\tcv_agg's l2: 0.227511 + 0.0512005\n",
      "[100]\tcv_agg's l2: 0.231619 + 0.0508183\n",
      "[200]\tcv_agg's l2: 0.227511 + 0.0512005\n"
     ]
    },
    {
     "name": "stderr",
     "output_type": "stream",
     "text": [
      "num_leaves, val_score: 0.227511:  70%|##################################3              | 14/20 [00:20<00:08,  1.35s/it][I 2023-10-28 22:04:46,586] Trial 20 finished with value: 0.22751054765480921 and parameters: {'num_leaves': 75}. Best is trial 7 with value: 0.22751054765480921.\n",
      "num_leaves, val_score: 0.227511:  70%|##################################3              | 14/20 [00:20<00:08,  1.35s/it]"
     ]
    },
    {
     "name": "stdout",
     "output_type": "stream",
     "text": [
      "[300]\tcv_agg's l2: 0.230452 + 0.0524283\n",
      "Early stopping, best iteration is:\n",
      "[200]\tcv_agg's l2: 0.227511 + 0.0512005\n",
      "[100]\tcv_agg's l2: 0.231619 + 0.0508183\n",
      "[200]\tcv_agg's l2: 0.227511 + 0.0512005\n"
     ]
    },
    {
     "name": "stderr",
     "output_type": "stream",
     "text": [
      "num_leaves, val_score: 0.227511:  75%|####################################7            | 15/20 [00:21<00:06,  1.37s/it][I 2023-10-28 22:04:48,002] Trial 21 finished with value: 0.22751054765480921 and parameters: {'num_leaves': 48}. Best is trial 7 with value: 0.22751054765480921.\n",
      "num_leaves, val_score: 0.227511:  75%|####################################7            | 15/20 [00:21<00:06,  1.37s/it]"
     ]
    },
    {
     "name": "stdout",
     "output_type": "stream",
     "text": [
      "[300]\tcv_agg's l2: 0.230452 + 0.0524283\n",
      "Early stopping, best iteration is:\n",
      "[200]\tcv_agg's l2: 0.227511 + 0.0512005\n",
      "[100]\tcv_agg's l2: 0.231619 + 0.0508183\n",
      "[200]\tcv_agg's l2: 0.227511 + 0.0512005\n"
     ]
    },
    {
     "name": "stderr",
     "output_type": "stream",
     "text": [
      "num_leaves, val_score: 0.227511:  80%|#######################################2         | 16/20 [00:22<00:05,  1.38s/it][I 2023-10-28 22:04:49,396] Trial 22 finished with value: 0.22751054765480921 and parameters: {'num_leaves': 34}. Best is trial 7 with value: 0.22751054765480921.\n",
      "num_leaves, val_score: 0.227511:  80%|#######################################2         | 16/20 [00:22<00:05,  1.38s/it]"
     ]
    },
    {
     "name": "stdout",
     "output_type": "stream",
     "text": [
      "[300]\tcv_agg's l2: 0.230452 + 0.0524283\n",
      "Early stopping, best iteration is:\n",
      "[200]\tcv_agg's l2: 0.227511 + 0.0512005\n",
      "[100]\tcv_agg's l2: 0.231619 + 0.0508183\n",
      "[200]\tcv_agg's l2: 0.227511 + 0.0512005\n"
     ]
    },
    {
     "name": "stderr",
     "output_type": "stream",
     "text": [
      "num_leaves, val_score: 0.227511:  85%|#########################################6       | 17/20 [00:24<00:04,  1.38s/it][I 2023-10-28 22:04:50,778] Trial 23 finished with value: 0.22751054765480921 and parameters: {'num_leaves': 135}. Best is trial 7 with value: 0.22751054765480921.\n",
      "num_leaves, val_score: 0.227511:  85%|#########################################6       | 17/20 [00:24<00:04,  1.38s/it]"
     ]
    },
    {
     "name": "stdout",
     "output_type": "stream",
     "text": [
      "[300]\tcv_agg's l2: 0.230452 + 0.0524283\n",
      "Early stopping, best iteration is:\n",
      "[200]\tcv_agg's l2: 0.227511 + 0.0512005\n",
      "[100]\tcv_agg's l2: 0.231619 + 0.0508183\n",
      "[200]\tcv_agg's l2: 0.227511 + 0.0512005\n"
     ]
    },
    {
     "name": "stderr",
     "output_type": "stream",
     "text": [
      "num_leaves, val_score: 0.227511:  90%|############################################1    | 18/20 [00:25<00:02,  1.36s/it][I 2023-10-28 22:04:52,093] Trial 24 finished with value: 0.22751054765480921 and parameters: {'num_leaves': 30}. Best is trial 7 with value: 0.22751054765480921.\n",
      "num_leaves, val_score: 0.227511:  90%|############################################1    | 18/20 [00:25<00:02,  1.36s/it]"
     ]
    },
    {
     "name": "stdout",
     "output_type": "stream",
     "text": [
      "[300]\tcv_agg's l2: 0.230452 + 0.0524283\n",
      "Early stopping, best iteration is:\n",
      "[200]\tcv_agg's l2: 0.227511 + 0.0512005\n",
      "[100]\tcv_agg's l2: 0.231619 + 0.0508183\n",
      "[200]\tcv_agg's l2: 0.227511 + 0.0512005\n"
     ]
    },
    {
     "name": "stderr",
     "output_type": "stream",
     "text": [
      "num_leaves, val_score: 0.227511:  95%|##############################################5  | 19/20 [00:26<00:01,  1.37s/it][I 2023-10-28 22:04:53,482] Trial 25 finished with value: 0.22751054765480921 and parameters: {'num_leaves': 92}. Best is trial 7 with value: 0.22751054765480921.\n",
      "num_leaves, val_score: 0.227511:  95%|##############################################5  | 19/20 [00:26<00:01,  1.37s/it]"
     ]
    },
    {
     "name": "stdout",
     "output_type": "stream",
     "text": [
      "[300]\tcv_agg's l2: 0.230452 + 0.0524283\n",
      "Early stopping, best iteration is:\n",
      "[200]\tcv_agg's l2: 0.227511 + 0.0512005\n",
      "[100]\tcv_agg's l2: 0.231619 + 0.0508183\n",
      "[200]\tcv_agg's l2: 0.227511 + 0.0512005\n"
     ]
    },
    {
     "name": "stderr",
     "output_type": "stream",
     "text": [
      "num_leaves, val_score: 0.227511: 100%|#################################################| 20/20 [00:28<00:00,  1.35s/it][I 2023-10-28 22:04:54,798] Trial 26 finished with value: 0.22751054765480921 and parameters: {'num_leaves': 60}. Best is trial 7 with value: 0.22751054765480921.\n",
      "num_leaves, val_score: 0.227511: 100%|#################################################| 20/20 [00:28<00:00,  1.41s/it]\n"
     ]
    },
    {
     "name": "stdout",
     "output_type": "stream",
     "text": [
      "[300]\tcv_agg's l2: 0.230452 + 0.0524283\n",
      "Early stopping, best iteration is:\n",
      "[200]\tcv_agg's l2: 0.227511 + 0.0512005\n"
     ]
    },
    {
     "name": "stderr",
     "output_type": "stream",
     "text": [
      "bagging, val_score: 0.227511:   0%|                                                             | 0/10 [00:00<?, ?it/s]"
     ]
    },
    {
     "name": "stdout",
     "output_type": "stream",
     "text": [
      "[100]\tcv_agg's l2: 0.24921 + 0.068284\n",
      "[200]\tcv_agg's l2: 0.245829 + 0.0683642\n"
     ]
    },
    {
     "name": "stderr",
     "output_type": "stream",
     "text": [
      "bagging, val_score: 0.227511:  10%|#####3                                               | 1/10 [00:01<00:12,  1.35s/it][I 2023-10-28 22:04:56,151] Trial 27 finished with value: 0.24582853291121315 and parameters: {'bagging_fraction': 0.8098166274354222, 'bagging_freq': 1}. Best is trial 27 with value: 0.24582853291121315.\n",
      "bagging, val_score: 0.227511:  10%|#####3                                               | 1/10 [00:01<00:12,  1.35s/it]"
     ]
    },
    {
     "name": "stdout",
     "output_type": "stream",
     "text": [
      "[300]\tcv_agg's l2: 0.244376 + 0.0637088\n",
      "Early stopping, best iteration is:\n",
      "[200]\tcv_agg's l2: 0.227511 + 0.0512005\n",
      "[100]\tcv_agg's l2: 0.315874 + 0.0921006\n",
      "[200]\tcv_agg's l2: 0.30517 + 0.0958075\n"
     ]
    },
    {
     "name": "stderr",
     "output_type": "stream",
     "text": [
      "bagging, val_score: 0.227511:  20%|##########6                                          | 2/10 [00:02<00:08,  1.10s/it][I 2023-10-28 22:04:57,082] Trial 28 finished with value: 0.3051696927512963 and parameters: {'bagging_fraction': 0.4211083877192738, 'bagging_freq': 7}. Best is trial 27 with value: 0.24582853291121315.\n",
      "bagging, val_score: 0.227511:  20%|##########6                                          | 2/10 [00:02<00:08,  1.10s/it]"
     ]
    },
    {
     "name": "stdout",
     "output_type": "stream",
     "text": [
      "[300]\tcv_agg's l2: 0.308484 + 0.0843264\n",
      "Early stopping, best iteration is:\n",
      "[200]\tcv_agg's l2: 0.227511 + 0.0512005\n",
      "[100]\tcv_agg's l2: 0.233573 + 0.0488954\n",
      "[200]\tcv_agg's l2: 0.228353 + 0.0487456\n"
     ]
    },
    {
     "name": "stderr",
     "output_type": "stream",
     "text": [
      "bagging, val_score: 0.227511:  30%|###############9                                     | 3/10 [00:03<00:08,  1.27s/it][I 2023-10-28 22:04:58,562] Trial 29 finished with value: 0.22835311987821832 and parameters: {'bagging_fraction': 0.9893564171559058, 'bagging_freq': 4}. Best is trial 29 with value: 0.22835311987821832.\n",
      "bagging, val_score: 0.227511:  30%|###############9                                     | 3/10 [00:03<00:08,  1.27s/it]"
     ]
    },
    {
     "name": "stdout",
     "output_type": "stream",
     "text": [
      "[300]\tcv_agg's l2: 0.231472 + 0.0515046\n",
      "Early stopping, best iteration is:\n",
      "[200]\tcv_agg's l2: 0.227511 + 0.0512005\n",
      "[100]\tcv_agg's l2: 0.296887 + 0.0861497\n",
      "[200]\tcv_agg's l2: 0.282894 + 0.0814731\n"
     ]
    },
    {
     "name": "stderr",
     "output_type": "stream",
     "text": [
      "bagging, val_score: 0.227511:  40%|#####################2                               | 4/10 [00:04<00:06,  1.08s/it][I 2023-10-28 22:04:59,353] Trial 30 finished with value: 0.2828938109772107 and parameters: {'bagging_fraction': 0.4826152593976052, 'bagging_freq': 7}. Best is trial 29 with value: 0.22835311987821832.\n",
      "bagging, val_score: 0.227511:  40%|#####################2                               | 4/10 [00:04<00:06,  1.08s/it]"
     ]
    },
    {
     "name": "stdout",
     "output_type": "stream",
     "text": [
      "[300]\tcv_agg's l2: 0.279803 + 0.0787822\n",
      "Early stopping, best iteration is:\n",
      "[200]\tcv_agg's l2: 0.227511 + 0.0512005\n",
      "[100]\tcv_agg's l2: 0.253155 + 0.0569629\n",
      "[200]\tcv_agg's l2: 0.244313 + 0.06128\n"
     ]
    },
    {
     "name": "stderr",
     "output_type": "stream",
     "text": [
      "bagging, val_score: 0.227511:  50%|##########################5                          | 5/10 [00:05<00:05,  1.08s/it][I 2023-10-28 22:05:00,416] Trial 31 finished with value: 0.24431344728522353 and parameters: {'bagging_fraction': 0.6710184705498573, 'bagging_freq': 1}. Best is trial 29 with value: 0.22835311987821832.\n",
      "bagging, val_score: 0.227511:  50%|##########################5                          | 5/10 [00:05<00:05,  1.08s/it]"
     ]
    },
    {
     "name": "stdout",
     "output_type": "stream",
     "text": [
      "[300]\tcv_agg's l2: 0.244663 + 0.0641994\n",
      "Early stopping, best iteration is:\n",
      "[200]\tcv_agg's l2: 0.227511 + 0.0512005\n",
      "[100]\tcv_agg's l2: 0.264725 + 0.0678231\n",
      "[200]\tcv_agg's l2: 0.251643 + 0.0697642\n"
     ]
    },
    {
     "name": "stderr",
     "output_type": "stream",
     "text": [
      "bagging, val_score: 0.227511:  60%|###############################8                     | 6/10 [00:06<00:04,  1.04s/it][I 2023-10-28 22:05:01,379] Trial 32 finished with value: 0.2516425375091774 and parameters: {'bagging_fraction': 0.6386217152208525, 'bagging_freq': 4}. Best is trial 29 with value: 0.22835311987821832.\n",
      "bagging, val_score: 0.227511:  60%|###############################8                     | 6/10 [00:06<00:04,  1.04s/it]"
     ]
    },
    {
     "name": "stdout",
     "output_type": "stream",
     "text": [
      "[300]\tcv_agg's l2: 0.247692 + 0.071295\n",
      "Early stopping, best iteration is:\n",
      "[200]\tcv_agg's l2: 0.227511 + 0.0512005\n",
      "[100]\tcv_agg's l2: 0.230822 + 0.0519149\n",
      "[200]\tcv_agg's l2: 0.228318 + 0.0522077\n"
     ]
    },
    {
     "name": "stderr",
     "output_type": "stream",
     "text": [
      "bagging, val_score: 0.227511:  70%|#####################################                | 7/10 [00:07<00:03,  1.15s/it][I 2023-10-28 22:05:02,773] Trial 33 finished with value: 0.22831767006220932 and parameters: {'bagging_fraction': 0.9838444271650175, 'bagging_freq': 3}. Best is trial 33 with value: 0.22831767006220932.\n",
      "bagging, val_score: 0.227511:  70%|#####################################                | 7/10 [00:07<00:03,  1.15s/it]"
     ]
    },
    {
     "name": "stdout",
     "output_type": "stream",
     "text": [
      "[300]\tcv_agg's l2: 0.230095 + 0.0530568\n",
      "Early stopping, best iteration is:\n",
      "[200]\tcv_agg's l2: 0.227511 + 0.0512005\n",
      "[100]\tcv_agg's l2: 0.247831 + 0.0645158\n",
      "[200]\tcv_agg's l2: 0.241537 + 0.0606717\n"
     ]
    },
    {
     "name": "stderr",
     "output_type": "stream",
     "text": [
      "bagging, val_score: 0.227511:  80%|##########################################4          | 8/10 [00:09<00:02,  1.17s/it][I 2023-10-28 22:05:03,976] Trial 34 finished with value: 0.24153653115991264 and parameters: {'bagging_fraction': 0.8352198746951032, 'bagging_freq': 6}. Best is trial 33 with value: 0.22831767006220932.\n",
      "bagging, val_score: 0.227511:  80%|##########################################4          | 8/10 [00:09<00:02,  1.17s/it]"
     ]
    },
    {
     "name": "stdout",
     "output_type": "stream",
     "text": [
      "[300]\tcv_agg's l2: 0.239659 + 0.057419\n",
      "Early stopping, best iteration is:\n",
      "[200]\tcv_agg's l2: 0.227511 + 0.0512005\n",
      "[100]\tcv_agg's l2: 0.276957 + 0.058449\n",
      "[200]\tcv_agg's l2: 0.265278 + 0.057089\n"
     ]
    },
    {
     "name": "stderr",
     "output_type": "stream",
     "text": [
      "bagging, val_score: 0.227511:  90%|###############################################7     | 9/10 [00:10<00:01,  1.09s/it][I 2023-10-28 22:05:04,891] Trial 35 finished with value: 0.26527794341527833 and parameters: {'bagging_fraction': 0.5293895726468479, 'bagging_freq': 2}. Best is trial 33 with value: 0.22831767006220932.\n",
      "bagging, val_score: 0.227511:  90%|###############################################7     | 9/10 [00:10<00:01,  1.09s/it]"
     ]
    },
    {
     "name": "stdout",
     "output_type": "stream",
     "text": [
      "[300]\tcv_agg's l2: 0.263695 + 0.0596573\n",
      "Early stopping, best iteration is:\n",
      "[200]\tcv_agg's l2: 0.227511 + 0.0512005\n",
      "[100]\tcv_agg's l2: 0.269383 + 0.066953\n",
      "[200]\tcv_agg's l2: 0.264826 + 0.0700926\n"
     ]
    },
    {
     "name": "stderr",
     "output_type": "stream",
     "text": [
      "bagging, val_score: 0.227511: 100%|####################################################| 10/10 [00:11<00:00,  1.05s/it][I 2023-10-28 22:05:05,844] Trial 36 finished with value: 0.26482637076102267 and parameters: {'bagging_fraction': 0.5828711003171826, 'bagging_freq': 5}. Best is trial 33 with value: 0.22831767006220932.\n",
      "bagging, val_score: 0.227511: 100%|####################################################| 10/10 [00:11<00:00,  1.10s/it]\n"
     ]
    },
    {
     "name": "stdout",
     "output_type": "stream",
     "text": [
      "[300]\tcv_agg's l2: 0.257276 + 0.0742617\n",
      "Early stopping, best iteration is:\n",
      "[200]\tcv_agg's l2: 0.227511 + 0.0512005\n"
     ]
    },
    {
     "name": "stderr",
     "output_type": "stream",
     "text": [
      "feature_fraction_stage2, val_score: 0.227511:   0%|                                              | 0/6 [00:00<?, ?it/s]"
     ]
    },
    {
     "name": "stdout",
     "output_type": "stream",
     "text": [
      "[100]\tcv_agg's l2: 0.231619 + 0.0508183\n",
      "[200]\tcv_agg's l2: 0.227511 + 0.0512005\n"
     ]
    },
    {
     "name": "stderr",
     "output_type": "stream",
     "text": [
      "feature_fraction_stage2, val_score: 0.227511:  17%|######3                               | 1/6 [00:01<00:06,  1.25s/it][I 2023-10-28 22:05:07,104] Trial 37 finished with value: 0.22751054765480921 and parameters: {'feature_fraction': 0.716}. Best is trial 37 with value: 0.22751054765480921.\n",
      "feature_fraction_stage2, val_score: 0.227511:  17%|######3                               | 1/6 [00:01<00:06,  1.25s/it]"
     ]
    },
    {
     "name": "stdout",
     "output_type": "stream",
     "text": [
      "[300]\tcv_agg's l2: 0.230452 + 0.0524283\n",
      "Early stopping, best iteration is:\n",
      "[200]\tcv_agg's l2: 0.227511 + 0.0512005\n",
      "[100]\tcv_agg's l2: 0.231619 + 0.0508183\n",
      "[200]\tcv_agg's l2: 0.227511 + 0.0512005\n"
     ]
    },
    {
     "name": "stderr",
     "output_type": "stream",
     "text": [
      "feature_fraction_stage2, val_score: 0.227511:  33%|############6                         | 2/6 [00:02<00:04,  1.17s/it][I 2023-10-28 22:05:08,221] Trial 38 finished with value: 0.22751054765480921 and parameters: {'feature_fraction': 0.7799999999999999}. Best is trial 37 with value: 0.22751054765480921.\n",
      "feature_fraction_stage2, val_score: 0.227511:  33%|############6                         | 2/6 [00:02<00:04,  1.17s/it]"
     ]
    },
    {
     "name": "stdout",
     "output_type": "stream",
     "text": [
      "[300]\tcv_agg's l2: 0.230452 + 0.0524283\n",
      "Early stopping, best iteration is:\n",
      "[200]\tcv_agg's l2: 0.227511 + 0.0512005\n",
      "[100]\tcv_agg's l2: 0.231619 + 0.0508183\n",
      "[200]\tcv_agg's l2: 0.227511 + 0.0512005\n"
     ]
    },
    {
     "name": "stderr",
     "output_type": "stream",
     "text": [
      "feature_fraction_stage2, val_score: 0.227511:  50%|###################                   | 3/6 [00:03<00:03,  1.21s/it][I 2023-10-28 22:05:09,472] Trial 39 finished with value: 0.22751054765480921 and parameters: {'feature_fraction': 0.748}. Best is trial 37 with value: 0.22751054765480921.\n",
      "feature_fraction_stage2, val_score: 0.227511:  50%|###################                   | 3/6 [00:03<00:03,  1.21s/it]"
     ]
    },
    {
     "name": "stdout",
     "output_type": "stream",
     "text": [
      "[300]\tcv_agg's l2: 0.230452 + 0.0524283\n",
      "Early stopping, best iteration is:\n",
      "[200]\tcv_agg's l2: 0.227511 + 0.0512005\n",
      "[100]\tcv_agg's l2: 0.245718 + 0.054782\n",
      "[200]\tcv_agg's l2: 0.233173 + 0.0556408\n"
     ]
    },
    {
     "name": "stderr",
     "output_type": "stream",
     "text": [
      "feature_fraction_stage2, val_score: 0.227511:  67%|#########################3            | 4/6 [00:04<00:02,  1.20s/it][I 2023-10-28 22:05:10,658] Trial 40 finished with value: 0.23317263396160048 and parameters: {'feature_fraction': 0.62}. Best is trial 37 with value: 0.22751054765480921.\n",
      "feature_fraction_stage2, val_score: 0.227511:  67%|#########################3            | 4/6 [00:04<00:02,  1.20s/it]"
     ]
    },
    {
     "name": "stdout",
     "output_type": "stream",
     "text": [
      "[300]\tcv_agg's l2: 0.229026 + 0.0546464\n",
      "Early stopping, best iteration is:\n",
      "[200]\tcv_agg's l2: 0.227511 + 0.0512005\n",
      "[100]\tcv_agg's l2: 0.245718 + 0.054782\n",
      "[200]\tcv_agg's l2: 0.233173 + 0.0556408\n"
     ]
    },
    {
     "name": "stderr",
     "output_type": "stream",
     "text": [
      "feature_fraction_stage2, val_score: 0.227511:  83%|###############################6      | 5/6 [00:06<00:01,  1.21s/it][I 2023-10-28 22:05:11,893] Trial 41 finished with value: 0.23317263396160048 and parameters: {'feature_fraction': 0.6839999999999999}. Best is trial 37 with value: 0.22751054765480921.\n",
      "feature_fraction_stage2, val_score: 0.227511:  83%|###############################6      | 5/6 [00:06<00:01,  1.21s/it]"
     ]
    },
    {
     "name": "stdout",
     "output_type": "stream",
     "text": [
      "[300]\tcv_agg's l2: 0.229026 + 0.0546464\n",
      "Early stopping, best iteration is:\n",
      "[200]\tcv_agg's l2: 0.227511 + 0.0512005\n",
      "[100]\tcv_agg's l2: 0.245718 + 0.054782\n",
      "[200]\tcv_agg's l2: 0.233173 + 0.0556408\n"
     ]
    },
    {
     "name": "stderr",
     "output_type": "stream",
     "text": [
      "feature_fraction_stage2, val_score: 0.227511: 100%|######################################| 6/6 [00:07<00:00,  1.21s/it][I 2023-10-28 22:05:13,092] Trial 42 finished with value: 0.23317263396160048 and parameters: {'feature_fraction': 0.652}. Best is trial 37 with value: 0.22751054765480921.\n",
      "feature_fraction_stage2, val_score: 0.227511: 100%|######################################| 6/6 [00:07<00:00,  1.21s/it]\n"
     ]
    },
    {
     "name": "stdout",
     "output_type": "stream",
     "text": [
      "[300]\tcv_agg's l2: 0.229026 + 0.0546464\n",
      "Early stopping, best iteration is:\n",
      "[200]\tcv_agg's l2: 0.227511 + 0.0512005\n"
     ]
    },
    {
     "name": "stderr",
     "output_type": "stream",
     "text": [
      "regularization_factors, val_score: 0.227511:   0%|                                              | 0/20 [00:00<?, ?it/s]"
     ]
    },
    {
     "name": "stdout",
     "output_type": "stream",
     "text": [
      "[100]\tcv_agg's l2: 0.232301 + 0.049978\n",
      "[200]\tcv_agg's l2: 0.228488 + 0.0484264\n"
     ]
    },
    {
     "name": "stderr",
     "output_type": "stream",
     "text": [
      "regularization_factors, val_score: 0.227511:   5%|#9                                    | 1/20 [00:01<00:24,  1.29s/it][I 2023-10-28 22:05:14,390] Trial 43 finished with value: 0.2284879598702625 and parameters: {'lambda_l1': 1.262944659456447e-05, 'lambda_l2': 0.0005523362021744784}. Best is trial 43 with value: 0.2284879598702625.\n",
      "regularization_factors, val_score: 0.227511:   5%|#9                                    | 1/20 [00:01<00:24,  1.29s/it]"
     ]
    },
    {
     "name": "stdout",
     "output_type": "stream",
     "text": [
      "[300]\tcv_agg's l2: 0.228874 + 0.048779\n",
      "Early stopping, best iteration is:\n",
      "[200]\tcv_agg's l2: 0.227511 + 0.0512005\n",
      "[100]\tcv_agg's l2: 0.281629 + 0.0584477\n",
      "[200]\tcv_agg's l2: 0.278517 + 0.0587492\n",
      "[300]\tcv_agg's l2: 0.278517 + 0.0587498\n",
      "Early stopping, best iteration is:\n",
      "[200]\tcv_agg's l2: 0.227511 + 0.0512005\n"
     ]
    },
    {
     "name": "stderr",
     "output_type": "stream",
     "text": [
      "regularization_factors, val_score: 0.227511:  10%|###8                                  | 2/20 [00:01<00:14,  1.27it/s][I 2023-10-28 22:05:14,825] Trial 44 finished with value: 0.2785172978364151 and parameters: {'lambda_l1': 6.694252357950905, 'lambda_l2': 1.2740961508569153e-08}. Best is trial 43 with value: 0.2284879598702625.\n",
      "regularization_factors, val_score: 0.227511:  10%|###8                                  | 2/20 [00:01<00:14,  1.27it/s]"
     ]
    },
    {
     "name": "stdout",
     "output_type": "stream",
     "text": [
      "[100]\tcv_agg's l2: 0.233293 + 0.0463915\n",
      "[200]\tcv_agg's l2: 0.22809 + 0.0454424\n"
     ]
    },
    {
     "name": "stderr",
     "output_type": "stream",
     "text": [
      "regularization_factors, val_score: 0.227511:  15%|#####7                                | 3/20 [00:02<00:17,  1.01s/it][I 2023-10-28 22:05:16,092] Trial 45 finished with value: 0.22808969384167682 and parameters: {'lambda_l1': 1.2798157815186689e-08, 'lambda_l2': 3.9368430137082466}. Best is trial 45 with value: 0.22808969384167682.\n",
      "regularization_factors, val_score: 0.227511:  15%|#####7                                | 3/20 [00:02<00:17,  1.01s/it]"
     ]
    },
    {
     "name": "stdout",
     "output_type": "stream",
     "text": [
      "[300]\tcv_agg's l2: 0.230045 + 0.0443476\n",
      "Early stopping, best iteration is:\n",
      "[200]\tcv_agg's l2: 0.227511 + 0.0512005\n",
      "[100]\tcv_agg's l2: 0.269577 + 0.0480118\n",
      "[200]\tcv_agg's l2: 0.266882 + 0.0483746\n",
      "[300]\tcv_agg's l2: 0.26688 + 0.048376\n",
      "Early stopping, best iteration is:\n",
      "[200]\tcv_agg's l2: 0.227511 + 0.0512005\n"
     ]
    },
    {
     "name": "stderr",
     "output_type": "stream",
     "text": [
      "regularization_factors, val_score: 0.227511:  20%|#######6                              | 4/20 [00:03<00:12,  1.28it/s][I 2023-10-28 22:05:16,526] Trial 46 finished with value: 0.26688217262519187 and parameters: {'lambda_l1': 5.88019623499167, 'lambda_l2': 5.4772355493143806e-08}. Best is trial 45 with value: 0.22808969384167682.\n",
      "regularization_factors, val_score: 0.227511:  20%|#######6                              | 4/20 [00:03<00:12,  1.28it/s]"
     ]
    },
    {
     "name": "stdout",
     "output_type": "stream",
     "text": [
      "[100]\tcv_agg's l2: 0.238474 + 0.0469782\n",
      "[200]\tcv_agg's l2: 0.227818 + 0.0456549\n",
      "[300]\tcv_agg's l2: 0.228088 + 0.0449914\n"
     ]
    },
    {
     "name": "stderr",
     "output_type": "stream",
     "text": [
      "regularization_factors, val_score: 0.227412:  25%|#########5                            | 5/20 [00:04<00:15,  1.02s/it][I 2023-10-28 22:05:17,961] Trial 47 finished with value: 0.22741176913661554 and parameters: {'lambda_l1': 0.00235210526451814, 'lambda_l2': 6.600487040884673}. Best is trial 47 with value: 0.22741176913661554.\n",
      "regularization_factors, val_score: 0.227412:  25%|#########5                            | 5/20 [00:04<00:15,  1.02s/it]"
     ]
    },
    {
     "name": "stdout",
     "output_type": "stream",
     "text": [
      "Early stopping, best iteration is:\n",
      "[251]\tcv_agg's l2: 0.227412 + 0.0457035\n",
      "[100]\tcv_agg's l2: 0.233484 + 0.0494398\n",
      "[200]\tcv_agg's l2: 0.224344 + 0.0471727\n",
      "[300]\tcv_agg's l2: 0.221736 + 0.0448251\n"
     ]
    },
    {
     "name": "stderr",
     "output_type": "stream",
     "text": [
      "regularization_factors, val_score: 0.221617:  30%|###########4                          | 6/20 [00:06<00:17,  1.22s/it][I 2023-10-28 22:05:19,579] Trial 48 finished with value: 0.22161689331320172 and parameters: {'lambda_l1': 0.004959053263126857, 'lambda_l2': 7.476652817610001}. Best is trial 48 with value: 0.22161689331320172.\n",
      "regularization_factors, val_score: 0.221617:  30%|###########4                          | 6/20 [00:06<00:17,  1.22s/it]"
     ]
    },
    {
     "name": "stdout",
     "output_type": "stream",
     "text": [
      "[400]\tcv_agg's l2: 0.22354 + 0.046293\n",
      "Early stopping, best iteration is:\n",
      "[310]\tcv_agg's l2: 0.221617 + 0.0449473\n",
      "[100]\tcv_agg's l2: 0.231314 + 0.0483659\n",
      "[200]\tcv_agg's l2: 0.226137 + 0.0479284\n",
      "[300]\tcv_agg's l2: 0.225823 + 0.046284\n"
     ]
    },
    {
     "name": "stderr",
     "output_type": "stream",
     "text": [
      "regularization_factors, val_score: 0.221617:  35%|#############3                        | 7/20 [00:08<00:17,  1.33s/it][I 2023-10-28 22:05:21,123] Trial 49 finished with value: 0.2260529582395155 and parameters: {'lambda_l1': 0.0045828038228876095, 'lambda_l2': 7.449092059451174}. Best is trial 48 with value: 0.22161689331320172.\n",
      "regularization_factors, val_score: 0.221617:  35%|#############3                        | 7/20 [00:08<00:17,  1.33s/it]"
     ]
    },
    {
     "name": "stdout",
     "output_type": "stream",
     "text": [
      "[400]\tcv_agg's l2: 0.228308 + 0.0466822\n",
      "Early stopping, best iteration is:\n",
      "[310]\tcv_agg's l2: 0.221617 + 0.0449473\n",
      "[100]\tcv_agg's l2: 0.230412 + 0.0413551\n",
      "[200]\tcv_agg's l2: 0.223847 + 0.0400016\n",
      "[300]\tcv_agg's l2: 0.224847 + 0.040114\n"
     ]
    },
    {
     "name": "stderr",
     "output_type": "stream",
     "text": [
      "regularization_factors, val_score: 0.221617:  40%|###############2                      | 8/20 [00:09<00:17,  1.45s/it][I 2023-10-28 22:05:22,850] Trial 50 finished with value: 0.22497114574212765 and parameters: {'lambda_l1': 0.002883912604016334, 'lambda_l2': 6.0158123860621355}. Best is trial 48 with value: 0.22161689331320172.\n",
      "regularization_factors, val_score: 0.221617:  40%|###############2                      | 8/20 [00:09<00:17,  1.45s/it]"
     ]
    },
    {
     "name": "stdout",
     "output_type": "stream",
     "text": [
      "[400]\tcv_agg's l2: 0.226796 + 0.0411108\n",
      "Early stopping, best iteration is:\n",
      "[310]\tcv_agg's l2: 0.221617 + 0.0449473\n",
      "[100]\tcv_agg's l2: 0.230168 + 0.0415483\n",
      "[200]\tcv_agg's l2: 0.221244 + 0.0422118\n",
      "[300]\tcv_agg's l2: 0.219543 + 0.0440753\n"
     ]
    },
    {
     "name": "stderr",
     "output_type": "stream",
     "text": [
      "regularization_factors, val_score: 0.219013:  45%|#################1                    | 9/20 [00:11<00:16,  1.50s/it][I 2023-10-28 22:05:24,457] Trial 51 finished with value: 0.21901264118717423 and parameters: {'lambda_l1': 0.0027185351405794984, 'lambda_l2': 8.387602236114686}. Best is trial 51 with value: 0.21901264118717423.\n",
      "regularization_factors, val_score: 0.219013:  45%|#################1                    | 9/20 [00:11<00:16,  1.50s/it]"
     ]
    },
    {
     "name": "stdout",
     "output_type": "stream",
     "text": [
      "[400]\tcv_agg's l2: 0.219669 + 0.0447418\n",
      "Early stopping, best iteration is:\n",
      "[306]\tcv_agg's l2: 0.219013 + 0.0441893\n",
      "[100]\tcv_agg's l2: 0.233712 + 0.0463932\n",
      "[200]\tcv_agg's l2: 0.225232 + 0.043645\n",
      "[300]\tcv_agg's l2: 0.22544 + 0.0435231\n"
     ]
    },
    {
     "name": "stderr",
     "output_type": "stream",
     "text": [
      "regularization_factors, val_score: 0.219013:  50%|##################5                  | 10/20 [00:12<00:15,  1.54s/it][I 2023-10-28 22:05:26,071] Trial 52 finished with value: 0.2255135584508448 and parameters: {'lambda_l1': 0.003282801242143803, 'lambda_l2': 6.97384268170809}. Best is trial 51 with value: 0.21901264118717423.\n",
      "regularization_factors, val_score: 0.219013:  50%|##################5                  | 10/20 [00:12<00:15,  1.54s/it]"
     ]
    },
    {
     "name": "stdout",
     "output_type": "stream",
     "text": [
      "[400]\tcv_agg's l2: 0.227023 + 0.0439022\n",
      "Early stopping, best iteration is:\n",
      "[306]\tcv_agg's l2: 0.219013 + 0.0441893\n",
      "[100]\tcv_agg's l2: 0.233227 + 0.0439326\n",
      "[200]\tcv_agg's l2: 0.223215 + 0.044218\n",
      "[300]\tcv_agg's l2: 0.221457 + 0.042012\n"
     ]
    },
    {
     "name": "stderr",
     "output_type": "stream",
     "text": [
      "regularization_factors, val_score: 0.219013:  55%|####################3                | 11/20 [00:14<00:14,  1.56s/it][I 2023-10-28 22:05:27,678] Trial 53 finished with value: 0.2215129970977673 and parameters: {'lambda_l1': 0.0037815343159264196, 'lambda_l2': 8.952617019865354}. Best is trial 51 with value: 0.21901264118717423.\n",
      "regularization_factors, val_score: 0.219013:  55%|####################3                | 11/20 [00:14<00:14,  1.56s/it]"
     ]
    },
    {
     "name": "stdout",
     "output_type": "stream",
     "text": [
      "[400]\tcv_agg's l2: 0.222561 + 0.0417022\n",
      "Early stopping, best iteration is:\n",
      "[306]\tcv_agg's l2: 0.219013 + 0.0441893\n",
      "[100]\tcv_agg's l2: 0.231103 + 0.0406161\n",
      "[200]\tcv_agg's l2: 0.221491 + 0.0392928\n",
      "[300]\tcv_agg's l2: 0.221016 + 0.0387331\n"
     ]
    },
    {
     "name": "stderr",
     "output_type": "stream",
     "text": [
      "regularization_factors, val_score: 0.219013:  60%|######################2              | 12/20 [00:16<00:12,  1.58s/it][I 2023-10-28 22:05:29,298] Trial 54 finished with value: 0.22093400411236716 and parameters: {'lambda_l1': 0.0032632394996271476, 'lambda_l2': 8.149492717646616}. Best is trial 51 with value: 0.21901264118717423.\n",
      "regularization_factors, val_score: 0.219013:  60%|######################2              | 12/20 [00:16<00:12,  1.58s/it]"
     ]
    },
    {
     "name": "stdout",
     "output_type": "stream",
     "text": [
      "[400]\tcv_agg's l2: 0.222313 + 0.0391631\n",
      "Early stopping, best iteration is:\n",
      "[306]\tcv_agg's l2: 0.219013 + 0.0441893\n",
      "[100]\tcv_agg's l2: 0.230774 + 0.0480412\n",
      "[200]\tcv_agg's l2: 0.222639 + 0.0449871\n",
      "[300]\tcv_agg's l2: 0.222418 + 0.0442387\n"
     ]
    },
    {
     "name": "stderr",
     "output_type": "stream",
     "text": [
      "regularization_factors, val_score: 0.219013:  65%|########################             | 13/20 [00:17<00:11,  1.59s/it][I 2023-10-28 22:05:30,904] Trial 55 finished with value: 0.22267221223693184 and parameters: {'lambda_l1': 0.00402355329474655, 'lambda_l2': 7.46414730036642}. Best is trial 51 with value: 0.21901264118717423.\n",
      "regularization_factors, val_score: 0.219013:  65%|########################             | 13/20 [00:17<00:11,  1.59s/it]"
     ]
    },
    {
     "name": "stdout",
     "output_type": "stream",
     "text": [
      "[400]\tcv_agg's l2: 0.224735 + 0.0451688\n",
      "Early stopping, best iteration is:\n",
      "[306]\tcv_agg's l2: 0.219013 + 0.0441893\n",
      "[100]\tcv_agg's l2: 0.230365 + 0.0415862\n",
      "[200]\tcv_agg's l2: 0.22118 + 0.0404635\n",
      "[300]\tcv_agg's l2: 0.220726 + 0.0397763\n"
     ]
    },
    {
     "name": "stderr",
     "output_type": "stream",
     "text": [
      "regularization_factors, val_score: 0.219013:  70%|#########################9           | 14/20 [00:19<00:09,  1.59s/it][I 2023-10-28 22:05:32,499] Trial 56 finished with value: 0.22098071996281693 and parameters: {'lambda_l1': 0.004584423755960937, 'lambda_l2': 8.025710819126806}. Best is trial 51 with value: 0.21901264118717423.\n",
      "regularization_factors, val_score: 0.219013:  70%|#########################9           | 14/20 [00:19<00:09,  1.59s/it]"
     ]
    },
    {
     "name": "stdout",
     "output_type": "stream",
     "text": [
      "[400]\tcv_agg's l2: 0.222617 + 0.0394658\n",
      "Early stopping, best iteration is:\n",
      "[306]\tcv_agg's l2: 0.219013 + 0.0441893\n",
      "[100]\tcv_agg's l2: 0.235143 + 0.0459769\n",
      "[200]\tcv_agg's l2: 0.225338 + 0.0436451\n",
      "[300]\tcv_agg's l2: 0.224841 + 0.0425184\n"
     ]
    },
    {
     "name": "stderr",
     "output_type": "stream",
     "text": [
      "regularization_factors, val_score: 0.219013:  75%|###########################7         | 15/20 [00:21<00:07,  1.59s/it][I 2023-10-28 22:05:34,101] Trial 57 finished with value: 0.22459036706549917 and parameters: {'lambda_l1': 0.008603094129763365, 'lambda_l2': 9.868894325841048}. Best is trial 51 with value: 0.21901264118717423.\n",
      "regularization_factors, val_score: 0.219013:  75%|###########################7         | 15/20 [00:21<00:07,  1.59s/it]"
     ]
    },
    {
     "name": "stdout",
     "output_type": "stream",
     "text": [
      "[400]\tcv_agg's l2: 0.226609 + 0.0433919\n",
      "Early stopping, best iteration is:\n",
      "[306]\tcv_agg's l2: 0.219013 + 0.0441893\n",
      "[100]\tcv_agg's l2: 0.229773 + 0.0491768\n",
      "[200]\tcv_agg's l2: 0.22687 + 0.0512581\n",
      "[300]\tcv_agg's l2: 0.228444 + 0.0524921\n"
     ]
    },
    {
     "name": "stderr",
     "output_type": "stream",
     "text": [
      "regularization_factors, val_score: 0.219013:  80%|#############################6       | 16/20 [00:22<00:06,  1.63s/it][I 2023-10-28 22:05:35,812] Trial 58 finished with value: 0.22829551064517628 and parameters: {'lambda_l1': 0.021761245459315914, 'lambda_l2': 0.37115993405153325}. Best is trial 51 with value: 0.21901264118717423.\n",
      "regularization_factors, val_score: 0.219013:  80%|#############################6       | 16/20 [00:22<00:06,  1.63s/it]"
     ]
    },
    {
     "name": "stdout",
     "output_type": "stream",
     "text": [
      "[400]\tcv_agg's l2: 0.230356 + 0.0519395\n",
      "Early stopping, best iteration is:\n",
      "[306]\tcv_agg's l2: 0.219013 + 0.0441893\n",
      "[100]\tcv_agg's l2: 0.231668 + 0.0522115\n",
      "[200]\tcv_agg's l2: 0.226661 + 0.0512843\n",
      "[300]\tcv_agg's l2: 0.230236 + 0.0501029\n"
     ]
    },
    {
     "name": "stderr",
     "output_type": "stream",
     "text": [
      "regularization_factors, val_score: 0.219013:  85%|###############################4     | 17/20 [00:24<00:04,  1.66s/it][I 2023-10-28 22:05:37,532] Trial 59 finished with value: 0.2304178823548539 and parameters: {'lambda_l1': 0.0004106827332330466, 'lambda_l2': 0.43877208780717186}. Best is trial 51 with value: 0.21901264118717423.\n",
      "regularization_factors, val_score: 0.219013:  85%|###############################4     | 17/20 [00:24<00:04,  1.66s/it]"
     ]
    },
    {
     "name": "stdout",
     "output_type": "stream",
     "text": [
      "[400]\tcv_agg's l2: 0.232874 + 0.0493817\n",
      "Early stopping, best iteration is:\n",
      "[306]\tcv_agg's l2: 0.219013 + 0.0441893\n",
      "[100]\tcv_agg's l2: 0.230999 + 0.0471266\n",
      "[200]\tcv_agg's l2: 0.229745 + 0.0499548\n",
      "[300]\tcv_agg's l2: 0.231483 + 0.0501249\n"
     ]
    },
    {
     "name": "stderr",
     "output_type": "stream",
     "text": [
      "regularization_factors, val_score: 0.219013:  90%|#################################3   | 18/20 [00:26<00:03,  1.65s/it][I 2023-10-28 22:05:39,174] Trial 60 finished with value: 0.23169970693202452 and parameters: {'lambda_l1': 0.04317419343093884, 'lambda_l2': 0.3670637361053317}. Best is trial 51 with value: 0.21901264118717423.\n",
      "regularization_factors, val_score: 0.219013:  90%|#################################3   | 18/20 [00:26<00:03,  1.65s/it]"
     ]
    },
    {
     "name": "stdout",
     "output_type": "stream",
     "text": [
      "[400]\tcv_agg's l2: 0.232277 + 0.0506591\n",
      "Early stopping, best iteration is:\n",
      "[306]\tcv_agg's l2: 0.219013 + 0.0441893\n",
      "[100]\tcv_agg's l2: 0.235531 + 0.0511852\n",
      "[200]\tcv_agg's l2: 0.226602 + 0.0510567\n",
      "[300]\tcv_agg's l2: 0.226062 + 0.0499179\n"
     ]
    },
    {
     "name": "stderr",
     "output_type": "stream",
     "text": [
      "regularization_factors, val_score: 0.219013:  95%|###################################1 | 19/20 [00:27<00:01,  1.61s/it][I 2023-10-28 22:05:40,699] Trial 61 finished with value: 0.22592025150092349 and parameters: {'lambda_l1': 0.01062868186618313, 'lambda_l2': 6.408551463998765}. Best is trial 51 with value: 0.21901264118717423.\n",
      "regularization_factors, val_score: 0.219013:  95%|###################################1 | 19/20 [00:27<00:01,  1.61s/it]"
     ]
    },
    {
     "name": "stdout",
     "output_type": "stream",
     "text": [
      "[400]\tcv_agg's l2: 0.227939 + 0.0507554\n",
      "Early stopping, best iteration is:\n",
      "[306]\tcv_agg's l2: 0.219013 + 0.0441893\n",
      "[100]\tcv_agg's l2: 0.228868 + 0.041496\n",
      "[200]\tcv_agg's l2: 0.221979 + 0.0399835\n",
      "[300]\tcv_agg's l2: 0.222036 + 0.0399961\n"
     ]
    },
    {
     "name": "stderr",
     "output_type": "stream",
     "text": [
      "regularization_factors, val_score: 0.219013: 100%|#####################################| 20/20 [00:29<00:00,  1.59s/it][I 2023-10-28 22:05:42,244] Trial 62 finished with value: 0.222268566094549 and parameters: {'lambda_l1': 0.001200049331857049, 'lambda_l2': 9.389903431727861}. Best is trial 51 with value: 0.21901264118717423.\n",
      "regularization_factors, val_score: 0.219013: 100%|#####################################| 20/20 [00:29<00:00,  1.46s/it]\n"
     ]
    },
    {
     "name": "stdout",
     "output_type": "stream",
     "text": [
      "[400]\tcv_agg's l2: 0.223127 + 0.0405873\n",
      "Early stopping, best iteration is:\n",
      "[306]\tcv_agg's l2: 0.219013 + 0.0441893\n"
     ]
    },
    {
     "name": "stderr",
     "output_type": "stream",
     "text": [
      "min_data_in_leaf, val_score: 0.219013:   0%|                                                     | 0/5 [00:00<?, ?it/s]"
     ]
    },
    {
     "name": "stdout",
     "output_type": "stream",
     "text": [
      "[100]\tcv_agg's l2: 0.342009 + 0.0731977\n",
      "[200]\tcv_agg's l2: 0.329163 + 0.0720526\n",
      "[300]\tcv_agg's l2: 0.326794 + 0.0702998\n"
     ]
    },
    {
     "name": "stderr",
     "output_type": "stream",
     "text": [
      "min_data_in_leaf, val_score: 0.219013:  20%|#########                                    | 1/5 [00:00<00:03,  1.06it/s][I 2023-10-28 22:05:43,191] Trial 63 finished with value: 0.3263020936818194 and parameters: {'min_child_samples': 50}. Best is trial 63 with value: 0.3263020936818194.\n",
      "min_data_in_leaf, val_score: 0.219013:  20%|#########                                    | 1/5 [00:00<00:03,  1.06it/s]"
     ]
    },
    {
     "name": "stdout",
     "output_type": "stream",
     "text": [
      "[400]\tcv_agg's l2: 0.326568 + 0.0721299\n",
      "Early stopping, best iteration is:\n",
      "[306]\tcv_agg's l2: 0.219013 + 0.0441893\n",
      "[100]\tcv_agg's l2: 0.201969 + 0.0405131\n",
      "[200]\tcv_agg's l2: 0.196995 + 0.0419929\n"
     ]
    },
    {
     "name": "stderr",
     "output_type": "stream",
     "text": [
      "min_data_in_leaf, val_score: 0.196641:  40%|##################                           | 2/5 [00:02<00:03,  1.29s/it][I 2023-10-28 22:05:44,729] Trial 64 finished with value: 0.19664054433485184 and parameters: {'min_child_samples': 10}. Best is trial 64 with value: 0.19664054433485184.\n",
      "min_data_in_leaf, val_score: 0.196641:  40%|##################                           | 2/5 [00:02<00:03,  1.29s/it]"
     ]
    },
    {
     "name": "stdout",
     "output_type": "stream",
     "text": [
      "[300]\tcv_agg's l2: 0.197536 + 0.0431932\n",
      "Early stopping, best iteration is:\n",
      "[217]\tcv_agg's l2: 0.196641 + 0.0422451\n",
      "[100]\tcv_agg's l2: 0.255143 + 0.0629831\n",
      "[200]\tcv_agg's l2: 0.251348 + 0.0607153\n"
     ]
    },
    {
     "name": "stderr",
     "output_type": "stream",
     "text": [
      "min_data_in_leaf, val_score: 0.196641:  60%|###########################                  | 3/5 [00:03<00:02,  1.16s/it][I 2023-10-28 22:05:45,733] Trial 65 finished with value: 0.2512510197200595 and parameters: {'min_child_samples': 25}. Best is trial 64 with value: 0.19664054433485184.\n",
      "min_data_in_leaf, val_score: 0.196641:  60%|###########################                  | 3/5 [00:03<00:02,  1.16s/it]"
     ]
    },
    {
     "name": "stdout",
     "output_type": "stream",
     "text": [
      "[300]\tcv_agg's l2: 0.249462 + 0.0618328\n",
      "Early stopping, best iteration is:\n",
      "[217]\tcv_agg's l2: 0.196641 + 0.0422451\n",
      "[100]\tcv_agg's l2: 0.806346 + 0.164169\n",
      "[200]\tcv_agg's l2: 0.797638 + 0.166358\n"
     ]
    },
    {
     "name": "stderr",
     "output_type": "stream",
     "text": [
      "min_data_in_leaf, val_score: 0.196641:  80%|####################################         | 4/5 [00:03<00:00,  1.11it/s][I 2023-10-28 22:05:46,232] Trial 66 finished with value: 0.7968881842152159 and parameters: {'min_child_samples': 100}. Best is trial 64 with value: 0.19664054433485184.\n",
      "min_data_in_leaf, val_score: 0.196641:  80%|####################################         | 4/5 [00:03<00:00,  1.11it/s]"
     ]
    },
    {
     "name": "stdout",
     "output_type": "stream",
     "text": [
      "[300]\tcv_agg's l2: 0.794561 + 0.171117\n",
      "Early stopping, best iteration is:\n",
      "[217]\tcv_agg's l2: 0.196641 + 0.0422451\n",
      "[100]\tcv_agg's l2: 0.200363 + 0.0440347\n",
      "[200]\tcv_agg's l2: 0.19461 + 0.0465169\n"
     ]
    },
    {
     "name": "stderr",
     "output_type": "stream",
     "text": [
      "min_data_in_leaf, val_score: 0.194262: 100%|#############################################| 5/5 [00:05<00:00,  1.19s/it][I 2023-10-28 22:05:47,938] Trial 67 finished with value: 0.1942615572419897 and parameters: {'min_child_samples': 5}. Best is trial 67 with value: 0.1942615572419897.\n",
      "min_data_in_leaf, val_score: 0.194262: 100%|#############################################| 5/5 [00:05<00:00,  1.14s/it]"
     ]
    },
    {
     "name": "stdout",
     "output_type": "stream",
     "text": [
      "[300]\tcv_agg's l2: 0.195454 + 0.0457777\n",
      "Early stopping, best iteration is:\n",
      "[221]\tcv_agg's l2: 0.194262 + 0.0458945\n"
     ]
    },
    {
     "name": "stderr",
     "output_type": "stream",
     "text": [
      "\n"
     ]
    }
   ],
   "source": [
    "import optuna.integration.lightgbm as lgb\n",
    "from lightgbm import early_stopping, log_evaluation\n",
    "from sklearn.model_selection import KFold\n",
    "from sklearn.model_selection import RepeatedKFold\n",
    "\n",
    "\n",
    "lgb_train = lgb.Dataset(X_train, y_train)\n",
    "\n",
    "params = {\n",
    "    \"boosting_type\": \"gbdt\",\n",
    "    \"objective\": \"regression\",\n",
    "    \"metric\": \"l2\",\n",
    "    \"verbosity\": -1,\n",
    "}\n",
    "\n",
    "tuner = lgb.LightGBMTunerCV(\n",
    "    params,\n",
    "    lgb_train,\n",
    "    folds=KFold(n_splits=5),\n",
    "    num_boost_round=10000,\n",
    "    callbacks=[early_stopping(100), log_evaluation(100)],\n",
    ")\n",
    "\n",
    "tuner.run()"
   ]
  },
  {
   "cell_type": "code",
   "execution_count": 45,
   "id": "3b9d8fb3",
   "metadata": {},
   "outputs": [
    {
     "name": "stdout",
     "output_type": "stream",
     "text": [
      "Best score: 0.1942615572419897\n",
      "Params: \n",
      "    boosting_type: gbdt\n",
      "    objective: regression\n",
      "    metric: l2\n",
      "    verbosity: -1\n",
      "    feature_pre_filter: False\n",
      "    lambda_l1: 0.0027185351405794984\n",
      "    lambda_l2: 8.387602236114686\n",
      "    num_leaves: 31\n",
      "    feature_fraction: 0.7\n",
      "    bagging_fraction: 1.0\n",
      "    bagging_freq: 0\n",
      "    min_child_samples: 5\n"
     ]
    }
   ],
   "source": [
    "print(f\"Best score: {tuner.best_score}\")\n",
    "best_params = tuner.best_params\n",
    "print(\"Params: \")\n",
    "for key, value in best_params.items():\n",
    "    print(\"    {}: {}\".format(key, value))"
   ]
  },
  {
   "cell_type": "code",
   "execution_count": 46,
   "id": "d25b1687",
   "metadata": {},
   "outputs": [],
   "source": [
    "import lightgbm as lgb\n",
    "\n",
    "lgb_tuned = lgb.train(\n",
    "    best_params,\n",
    "    lgb_train,\n",
    "    num_boost_round=10000,\n",
    ")"
   ]
  },
  {
   "cell_type": "code",
   "execution_count": 47,
   "id": "290a9f09",
   "metadata": {},
   "outputs": [
    {
     "name": "stdout",
     "output_type": "stream",
     "text": [
      "RMSE train: 0.00\n",
      "RMSE test: 0.66\n",
      "MSE test: 0.43\n",
      "MAE test: 0.45\n",
      "\n"
     ]
    }
   ],
   "source": [
    "rmse, mse, mae = assess_regression_model(lgb_tuned, X_train, X_test, y_train, y_test)"
   ]
  },
  {
   "cell_type": "code",
   "execution_count": 48,
   "id": "a6ecfca2",
   "metadata": {},
   "outputs": [],
   "source": [
    "results.loc[1] = [\n",
    "    \"chronological\",\n",
    "    \"Optuna\",\n",
    "    len(X_test.columns),\n",
    "    mse,\n",
    "    rmse,\n",
    "    mae,\n",
    "]"
   ]
  },
  {
   "cell_type": "code",
   "execution_count": 49,
   "id": "9f6b3122",
   "metadata": {
    "scrolled": true
   },
   "outputs": [
    {
     "name": "stdout",
     "output_type": "stream",
     "text": [
      "Normal:\n",
      "MSE: 0.43\n",
      "RMSE: 0.66\n",
      "\n",
      "Round type: round\n",
      "MSE: 0.50\n",
      "RMSE: 0.71\n",
      "\n",
      "Round type: 0.33\n",
      "MSE: 0.43\n",
      "RMSE: 0.66\n",
      "\n",
      "Round type: 0.45\n",
      "MSE: 0.50\n",
      "RMSE: 0.70\n",
      "\n"
     ]
    }
   ],
   "source": [
    "predict = lgb_tuned.predict(X_test)\n",
    "check_round_predictions([\"round\", 0.33, 0.45], y_test, predict)"
   ]
  },
  {
   "cell_type": "code",
   "execution_count": 50,
   "id": "515dc232",
   "metadata": {},
   "outputs": [
    {
     "data": {
      "image/png": "[encoded data removed]",
      "text/plain": [
       "<Figure size 432x288 with 2 Axes>"
      ]
     },
     "metadata": {
      "needs_background": "light"
     },
     "output_type": "display_data"
    }
   ],
   "source": [
    "plot_confusion_matrix(\"round\", predict, y_test)"
   ]
  },
  {
   "cell_type": "markdown",
   "id": "493f7602",
   "metadata": {},
   "source": [
    "## Random split"
   ]
  },
  {
   "cell_type": "code",
   "execution_count": 51,
   "id": "4948ca0a",
   "metadata": {},
   "outputs": [
    {
     "name": "stdout",
     "output_type": "stream",
     "text": [
      "[LightGBM] [Warning] Auto-choosing col-wise multi-threading, the overhead of testing was 0.000200 seconds.\n",
      "You can set `force_col_wise=true` to remove the overhead.\n",
      "[LightGBM] [Info] Total Bins 234\n",
      "[LightGBM] [Info] Number of data points in the train set: 904, number of used features: 8\n",
      "[LightGBM] [Info] Start training from score 7.162611\n",
      "Training until validation scores don't improve for 5 rounds\n",
      "Early stopping, best iteration is:\n",
      "[57]\tvalid_0's l2: 0.238538\tvalid_0's l1: 0.336785\n"
     ]
    }
   ],
   "source": [
    "import lightgbm as lgb\n",
    "from sklearn.metrics import mean_squared_error\n",
    "\n",
    "lgb_train = lgb.Dataset(X_train_random_split, y_train_random_split)\n",
    "lgb_eval = lgb.Dataset(X_test_random_split, y_test_random_split, reference=lgb_train)\n",
    "\n",
    "params = {\n",
    "    \"boosting_type\": \"gbdt\",\n",
    "    \"objective\": \"regression\",\n",
    "    \"metric\": {\"l2\", \"l1\"},\n",
    "}\n",
    "\n",
    "gbm = lgb.train(\n",
    "    params,\n",
    "    lgb_train,\n",
    "    num_boost_round=100,\n",
    "    valid_sets=lgb_eval,\n",
    "    callbacks=[lgb.early_stopping(stopping_rounds=5)],\n",
    ")"
   ]
  },
  {
   "cell_type": "code",
   "execution_count": 52,
   "id": "f9bd4c3b",
   "metadata": {},
   "outputs": [],
   "source": [
    "y_pred_train = gbm.predict(X_train_random_split, num_iteration=gbm.best_iteration)\n",
    "y_pred_test = gbm.predict(X_test_random_split, num_iteration=gbm.best_iteration)"
   ]
  },
  {
   "cell_type": "code",
   "execution_count": 53,
   "id": "c014931e",
   "metadata": {},
   "outputs": [
    {
     "name": "stdout",
     "output_type": "stream",
     "text": [
      "MSE: 0.24\n",
      "RMSE: 0.49\n",
      "MAE: 0.34\n"
     ]
    }
   ],
   "source": [
    "from sklearn.metrics import mean_squared_error, mean_absolute_error\n",
    "\n",
    "\n",
    "mse = mean_squared_error(y_test_random_split, y_pred_test)\n",
    "rmse = mean_squared_error(y_test_random_split, y_pred_test, squared=False)\n",
    "mae = mean_absolute_error(y_test_random_split, y_pred_test)\n",
    "\n",
    "print(f\"MSE: {mse:.2f}\")\n",
    "print(f\"RMSE: {rmse:.2f}\")\n",
    "print(f\"MAE: {mae:.2f}\")"
   ]
  },
  {
   "cell_type": "code",
   "execution_count": 54,
   "id": "8cbceea7",
   "metadata": {},
   "outputs": [],
   "source": [
    "results.loc[3] = [\"random\", \"normal\", len(X_test.columns), mse, rmse, mae]"
   ]
  },
  {
   "cell_type": "code",
   "execution_count": 55,
   "id": "e5edd1d7",
   "metadata": {},
   "outputs": [
    {
     "name": "stdout",
     "output_type": "stream",
     "text": [
      "Normal:\n",
      "MSE: 0.24\n",
      "RMSE: 0.49\n",
      "\n",
      "Round type: round\n",
      "MSE: 0.26\n",
      "RMSE: 0.51\n",
      "\n",
      "Round type: 0.33\n",
      "MSE: 0.32\n",
      "RMSE: 0.57\n",
      "\n",
      "Round type: 0.45\n",
      "MSE: 0.26\n",
      "RMSE: 0.51\n",
      "\n"
     ]
    }
   ],
   "source": [
    "check_round_predictions([\"round\", 0.33, 0.45], y_test_random_split, y_pred_test)"
   ]
  },
  {
   "cell_type": "code",
   "execution_count": 56,
   "id": "39e001dd",
   "metadata": {},
   "outputs": [
    {
     "data": {
      "image/png": "[encoded data removed]",
      "text/plain": [
       "<Figure size 432x288 with 2 Axes>"
      ]
     },
     "metadata": {
      "needs_background": "light"
     },
     "output_type": "display_data"
    }
   ],
   "source": [
    "plot_confusion_matrix(\"round\", y_pred_test, y_test_random_split)"
   ]
  },
  {
   "cell_type": "markdown",
   "id": "2a0c7ae0",
   "metadata": {},
   "source": [
    "### Tuning"
   ]
  },
  {
   "cell_type": "code",
   "execution_count": 57,
   "id": "0ef6525a",
   "metadata": {},
   "outputs": [
    {
     "name": "stderr",
     "output_type": "stream",
     "text": [
      "[I 2023-10-28 22:05:54,609] A new study created in memory with name: no-name-ff15e2b1-2fe4-4369-8b74-289ad37fc3da\n",
      "feature_fraction, val_score: inf:   0%|                                                          | 0/7 [00:00<?, ?it/s]"
     ]
    },
    {
     "name": "stdout",
     "output_type": "stream",
     "text": [
      "Training until validation scores don't improve for 100 rounds\n",
      "[100]\tcv_agg's l2: 0.244014 + 0.065734\n"
     ]
    },
    {
     "name": "stderr",
     "output_type": "stream",
     "text": [
      "feature_fraction, val_score: 0.243837:  14%|######4                                      | 1/7 [00:00<00:05,  1.05it/s][I 2023-10-28 22:05:55,566] Trial 0 finished with value: 0.2438368480232735 and parameters: {'feature_fraction': 0.7}. Best is trial 0 with value: 0.2438368480232735.\n",
      "feature_fraction, val_score: 0.243837:  14%|######4                                      | 1/7 [00:00<00:05,  1.05it/s]"
     ]
    },
    {
     "name": "stdout",
     "output_type": "stream",
     "text": [
      "Early stopping, best iteration is:\n",
      "[98]\tcv_agg's l2: 0.243837 + 0.0653136\n",
      "[100]\tcv_agg's l2: 0.315771 + 0.0351259\n"
     ]
    },
    {
     "name": "stderr",
     "output_type": "stream",
     "text": [
      "feature_fraction, val_score: 0.243837:  29%|############8                                | 2/7 [00:01<00:04,  1.02it/s][I 2023-10-28 22:05:56,559] Trial 1 finished with value: 0.3160925817664028 and parameters: {'feature_fraction': 0.5}. Best is trial 0 with value: 0.2438368480232735.\n",
      "feature_fraction, val_score: 0.243837:  29%|############8                                | 2/7 [00:01<00:04,  1.02it/s]"
     ]
    },
    {
     "name": "stdout",
     "output_type": "stream",
     "text": [
      "Early stopping, best iteration is:\n",
      "[98]\tcv_agg's l2: 0.243837 + 0.0653136\n",
      "[100]\tcv_agg's l2: 0.314013 + 0.0332504\n"
     ]
    },
    {
     "name": "stderr",
     "output_type": "stream",
     "text": [
      "feature_fraction, val_score: 0.243837:  43%|###################2                         | 3/7 [00:02<00:03,  1.06it/s][I 2023-10-28 22:05:57,457] Trial 2 finished with value: 0.31530018826529277 and parameters: {'feature_fraction': 0.4}. Best is trial 0 with value: 0.2438368480232735.\n",
      "feature_fraction, val_score: 0.243837:  43%|###################2                         | 3/7 [00:02<00:03,  1.06it/s]"
     ]
    },
    {
     "name": "stdout",
     "output_type": "stream",
     "text": [
      "Early stopping, best iteration is:\n",
      "[98]\tcv_agg's l2: 0.243837 + 0.0653136\n",
      "[100]\tcv_agg's l2: 0.251098 + 0.0700757\n"
     ]
    },
    {
     "name": "stderr",
     "output_type": "stream",
     "text": [
      "feature_fraction, val_score: 0.243837:  57%|#########################7                   | 4/7 [00:03<00:02,  1.05it/s][I 2023-10-28 22:05:58,421] Trial 3 finished with value: 0.25162154440991785 and parameters: {'feature_fraction': 0.8999999999999999}. Best is trial 0 with value: 0.2438368480232735.\n",
      "feature_fraction, val_score: 0.243837:  57%|#########################7                   | 4/7 [00:03<00:02,  1.05it/s]"
     ]
    },
    {
     "name": "stdout",
     "output_type": "stream",
     "text": [
      "Early stopping, best iteration is:\n",
      "[98]\tcv_agg's l2: 0.243837 + 0.0653136\n",
      "[100]\tcv_agg's l2: 0.244014 + 0.065734\n"
     ]
    },
    {
     "name": "stderr",
     "output_type": "stream",
     "text": [
      "feature_fraction, val_score: 0.243837:  71%|################################1            | 5/7 [00:04<00:01,  1.05it/s][I 2023-10-28 22:05:59,366] Trial 4 finished with value: 0.2438368480232735 and parameters: {'feature_fraction': 0.8}. Best is trial 0 with value: 0.2438368480232735.\n",
      "feature_fraction, val_score: 0.243837:  71%|################################1            | 5/7 [00:04<00:01,  1.05it/s]"
     ]
    },
    {
     "name": "stdout",
     "output_type": "stream",
     "text": [
      "Early stopping, best iteration is:\n",
      "[98]\tcv_agg's l2: 0.243837 + 0.0653136\n",
      "[100]\tcv_agg's l2: 0.281524 + 0.0543625\n"
     ]
    },
    {
     "name": "stderr",
     "output_type": "stream",
     "text": [
      "feature_fraction, val_score: 0.243837:  86%|######################################5      | 6/7 [00:05<00:00,  1.06it/s][I 2023-10-28 22:06:00,297] Trial 5 finished with value: 0.2818436955982442 and parameters: {'feature_fraction': 0.6}. Best is trial 0 with value: 0.2438368480232735.\n",
      "feature_fraction, val_score: 0.243837:  86%|######################################5      | 6/7 [00:05<00:00,  1.06it/s]"
     ]
    },
    {
     "name": "stdout",
     "output_type": "stream",
     "text": [
      "Early stopping, best iteration is:\n",
      "[98]\tcv_agg's l2: 0.243837 + 0.0653136\n",
      "[100]\tcv_agg's l2: 0.256299 + 0.0777865\n"
     ]
    },
    {
     "name": "stderr",
     "output_type": "stream",
     "text": [
      "feature_fraction, val_score: 0.243837: 100%|#############################################| 7/7 [00:06<00:00,  1.06it/s][I 2023-10-28 22:06:01,236] Trial 6 finished with value: 0.25662398828551813 and parameters: {'feature_fraction': 1.0}. Best is trial 0 with value: 0.2438368480232735.\n",
      "feature_fraction, val_score: 0.243837: 100%|#############################################| 7/7 [00:06<00:00,  1.06it/s]\n"
     ]
    },
    {
     "name": "stdout",
     "output_type": "stream",
     "text": [
      "Early stopping, best iteration is:\n",
      "[98]\tcv_agg's l2: 0.243837 + 0.0653136\n"
     ]
    },
    {
     "name": "stderr",
     "output_type": "stream",
     "text": [
      "num_leaves, val_score: 0.243837:   0%|                                                          | 0/20 [00:00<?, ?it/s]"
     ]
    },
    {
     "name": "stdout",
     "output_type": "stream",
     "text": [
      "[100]\tcv_agg's l2: 0.244014 + 0.065734\n"
     ]
    },
    {
     "name": "stderr",
     "output_type": "stream",
     "text": [
      "num_leaves, val_score: 0.243837:   5%|##5                                               | 1/20 [00:01<00:22,  1.20s/it][I 2023-10-28 22:06:02,442] Trial 7 finished with value: 0.2438368480232735 and parameters: {'num_leaves': 229}. Best is trial 7 with value: 0.2438368480232735.\n",
      "num_leaves, val_score: 0.243837:   5%|##5                                               | 1/20 [00:01<00:22,  1.20s/it]"
     ]
    },
    {
     "name": "stdout",
     "output_type": "stream",
     "text": [
      "Early stopping, best iteration is:\n",
      "[98]\tcv_agg's l2: 0.243837 + 0.0653136\n",
      "[100]\tcv_agg's l2: 0.249934 + 0.0674471\n"
     ]
    },
    {
     "name": "stderr",
     "output_type": "stream",
     "text": [
      "num_leaves, val_score: 0.243837:  10%|#####                                             | 2/20 [00:02<00:19,  1.07s/it][I 2023-10-28 22:06:03,425] Trial 8 finished with value: 0.24999431674599965 and parameters: {'num_leaves': 27}. Best is trial 7 with value: 0.2438368480232735.\n",
      "num_leaves, val_score: 0.243837:  10%|#####                                             | 2/20 [00:02<00:19,  1.07s/it]"
     ]
    },
    {
     "name": "stdout",
     "output_type": "stream",
     "text": [
      "Early stopping, best iteration is:\n",
      "[98]\tcv_agg's l2: 0.243837 + 0.0653136\n",
      "[100]\tcv_agg's l2: 0.244014 + 0.065734\n"
     ]
    },
    {
     "name": "stderr",
     "output_type": "stream",
     "text": [
      "num_leaves, val_score: 0.243837:  15%|#######5                                          | 3/20 [00:03<00:18,  1.07s/it][I 2023-10-28 22:06:04,487] Trial 9 finished with value: 0.2438368480232735 and parameters: {'num_leaves': 222}. Best is trial 7 with value: 0.2438368480232735.\n",
      "num_leaves, val_score: 0.243837:  15%|#######5                                          | 3/20 [00:03<00:18,  1.07s/it]"
     ]
    },
    {
     "name": "stdout",
     "output_type": "stream",
     "text": [
      "Early stopping, best iteration is:\n",
      "[98]\tcv_agg's l2: 0.243837 + 0.0653136\n",
      "[100]\tcv_agg's l2: 0.244814 + 0.0665501\n"
     ]
    },
    {
     "name": "stderr",
     "output_type": "stream",
     "text": [
      "num_leaves, val_score: 0.241038:  20%|##########                                        | 4/20 [00:03<00:13,  1.15it/s][I 2023-10-28 22:06:05,053] Trial 10 finished with value: 0.2410379904432932 and parameters: {'num_leaves': 9}. Best is trial 10 with value: 0.2410379904432932.\n",
      "num_leaves, val_score: 0.241038:  20%|##########                                        | 4/20 [00:03<00:13,  1.15it/s]"
     ]
    },
    {
     "name": "stdout",
     "output_type": "stream",
     "text": [
      "[200]\tcv_agg's l2: 0.242597 + 0.0628323\n",
      "Early stopping, best iteration is:\n",
      "[152]\tcv_agg's l2: 0.241038 + 0.0631956\n"
     ]
    },
    {
     "name": "stderr",
     "output_type": "stream",
     "text": [
      "num_leaves, val_score: 0.241038:  25%|############5                                     | 5/20 [00:04<00:10,  1.50it/s][I 2023-10-28 22:06:05,361] Trial 11 finished with value: 0.29259865237204447 and parameters: {'num_leaves': 2}. Best is trial 10 with value: 0.2410379904432932.\n",
      "num_leaves, val_score: 0.241038:  25%|############5                                     | 5/20 [00:04<00:10,  1.50it/s]"
     ]
    },
    {
     "name": "stdout",
     "output_type": "stream",
     "text": [
      "[100]\tcv_agg's l2: 0.323747 + 0.0877215\n",
      "[200]\tcv_agg's l2: 0.284658 + 0.0779889\n",
      "Early stopping, best iteration is:\n",
      "[152]\tcv_agg's l2: 0.241038 + 0.0631956\n",
      "[100]\tcv_agg's l2: 0.244014 + 0.065734\n",
      "[200]\tcv_agg's l2: 0.247977 + 0.0640619\n"
     ]
    },
    {
     "name": "stderr",
     "output_type": "stream",
     "text": [
      "num_leaves, val_score: 0.241038:  30%|###############                                   | 6/20 [00:05<00:12,  1.10it/s][I 2023-10-28 22:06:06,729] Trial 12 finished with value: 0.24591880906153502 and parameters: {'num_leaves': 105}. Best is trial 10 with value: 0.2410379904432932.\n",
      "num_leaves, val_score: 0.241038:  30%|###############                                   | 6/20 [00:05<00:12,  1.10it/s]"
     ]
    },
    {
     "name": "stdout",
     "output_type": "stream",
     "text": [
      "Early stopping, best iteration is:\n",
      "[152]\tcv_agg's l2: 0.241038 + 0.0631956\n",
      "[100]\tcv_agg's l2: 0.244014 + 0.065734\n",
      "[200]\tcv_agg's l2: 0.247977 + 0.0640619\n"
     ]
    },
    {
     "name": "stderr",
     "output_type": "stream",
     "text": [
      "num_leaves, val_score: 0.241038:  35%|#################5                                | 7/20 [00:06<00:12,  1.01it/s][I 2023-10-28 22:06:07,892] Trial 13 finished with value: 0.24591880906153502 and parameters: {'num_leaves': 98}. Best is trial 10 with value: 0.2410379904432932.\n",
      "num_leaves, val_score: 0.241038:  35%|#################5                                | 7/20 [00:06<00:12,  1.01it/s]"
     ]
    },
    {
     "name": "stdout",
     "output_type": "stream",
     "text": [
      "Early stopping, best iteration is:\n",
      "[152]\tcv_agg's l2: 0.241038 + 0.0631956\n",
      "[100]\tcv_agg's l2: 0.244014 + 0.065734\n",
      "[200]\tcv_agg's l2: 0.247977 + 0.0640619\n"
     ]
    },
    {
     "name": "stderr",
     "output_type": "stream",
     "text": [
      "num_leaves, val_score: 0.241038:  40%|####################                              | 8/20 [00:07<00:12,  1.06s/it][I 2023-10-28 22:06:09,111] Trial 14 finished with value: 0.24591880906153502 and parameters: {'num_leaves': 161}. Best is trial 10 with value: 0.2410379904432932.\n",
      "num_leaves, val_score: 0.241038:  40%|####################                              | 8/20 [00:07<00:12,  1.06s/it]"
     ]
    },
    {
     "name": "stdout",
     "output_type": "stream",
     "text": [
      "Early stopping, best iteration is:\n",
      "[152]\tcv_agg's l2: 0.241038 + 0.0631956\n",
      "[100]\tcv_agg's l2: 0.244014 + 0.065734\n",
      "[200]\tcv_agg's l2: 0.247977 + 0.0640619\n"
     ]
    },
    {
     "name": "stderr",
     "output_type": "stream",
     "text": [
      "num_leaves, val_score: 0.241038:  45%|######################5                           | 9/20 [00:09<00:12,  1.15s/it][I 2023-10-28 22:06:10,447] Trial 15 finished with value: 0.24591880906153502 and parameters: {'num_leaves': 69}. Best is trial 10 with value: 0.2410379904432932.\n",
      "num_leaves, val_score: 0.241038:  45%|######################5                           | 9/20 [00:09<00:12,  1.15s/it]"
     ]
    },
    {
     "name": "stdout",
     "output_type": "stream",
     "text": [
      "Early stopping, best iteration is:\n",
      "[152]\tcv_agg's l2: 0.241038 + 0.0631956\n",
      "[100]\tcv_agg's l2: 0.244014 + 0.065734\n",
      "[200]\tcv_agg's l2: 0.247977 + 0.0640619\n"
     ]
    },
    {
     "name": "stderr",
     "output_type": "stream",
     "text": [
      "num_leaves, val_score: 0.241038:  50%|########################5                        | 10/20 [00:10<00:11,  1.17s/it][I 2023-10-28 22:06:11,675] Trial 16 finished with value: 0.24591880906153502 and parameters: {'num_leaves': 163}. Best is trial 10 with value: 0.2410379904432932.\n",
      "num_leaves, val_score: 0.241038:  50%|########################5                        | 10/20 [00:10<00:11,  1.17s/it]"
     ]
    },
    {
     "name": "stdout",
     "output_type": "stream",
     "text": [
      "Early stopping, best iteration is:\n",
      "[152]\tcv_agg's l2: 0.241038 + 0.0631956\n",
      "[100]\tcv_agg's l2: 0.244014 + 0.065734\n",
      "[200]\tcv_agg's l2: 0.247977 + 0.0640619\n"
     ]
    },
    {
     "name": "stderr",
     "output_type": "stream",
     "text": [
      "num_leaves, val_score: 0.241038:  55%|##########################9                      | 11/20 [00:11<00:10,  1.17s/it][I 2023-10-28 22:06:12,841] Trial 17 finished with value: 0.24591880906153502 and parameters: {'num_leaves': 51}. Best is trial 10 with value: 0.2410379904432932.\n",
      "num_leaves, val_score: 0.241038:  55%|##########################9                      | 11/20 [00:11<00:10,  1.17s/it]"
     ]
    },
    {
     "name": "stdout",
     "output_type": "stream",
     "text": [
      "Early stopping, best iteration is:\n",
      "[152]\tcv_agg's l2: 0.241038 + 0.0631956\n",
      "[100]\tcv_agg's l2: 0.244014 + 0.065734\n",
      "[200]\tcv_agg's l2: 0.247977 + 0.0640619\n"
     ]
    },
    {
     "name": "stderr",
     "output_type": "stream",
     "text": [
      "num_leaves, val_score: 0.241038:  60%|#############################4                   | 12/20 [00:13<00:09,  1.25s/it][I 2023-10-28 22:06:14,257] Trial 18 finished with value: 0.24591880906153502 and parameters: {'num_leaves': 148}. Best is trial 10 with value: 0.2410379904432932.\n",
      "num_leaves, val_score: 0.241038:  60%|#############################4                   | 12/20 [00:13<00:09,  1.25s/it]"
     ]
    },
    {
     "name": "stdout",
     "output_type": "stream",
     "text": [
      "Early stopping, best iteration is:\n",
      "[152]\tcv_agg's l2: 0.241038 + 0.0631956\n",
      "[100]\tcv_agg's l2: 0.323747 + 0.0877215\n"
     ]
    },
    {
     "name": "stderr",
     "output_type": "stream",
     "text": [
      "num_leaves, val_score: 0.241038:  65%|###############################8                 | 13/20 [00:13<00:06,  1.05it/s][I 2023-10-28 22:06:14,537] Trial 19 finished with value: 0.29259865237204447 and parameters: {'num_leaves': 2}. Best is trial 10 with value: 0.2410379904432932.\n",
      "num_leaves, val_score: 0.241038:  65%|###############################8                 | 13/20 [00:13<00:06,  1.05it/s]"
     ]
    },
    {
     "name": "stdout",
     "output_type": "stream",
     "text": [
      "[200]\tcv_agg's l2: 0.284658 + 0.0779889\n",
      "Early stopping, best iteration is:\n",
      "[152]\tcv_agg's l2: 0.241038 + 0.0631956\n",
      "[100]\tcv_agg's l2: 0.244014 + 0.065734\n",
      "[200]\tcv_agg's l2: 0.247977 + 0.0640619\n"
     ]
    },
    {
     "name": "stderr",
     "output_type": "stream",
     "text": [
      "num_leaves, val_score: 0.241038:  70%|##################################3              | 14/20 [00:14<00:06,  1.11s/it][I 2023-10-28 22:06:16,006] Trial 20 finished with value: 0.24591880906153502 and parameters: {'num_leaves': 64}. Best is trial 10 with value: 0.2410379904432932.\n",
      "num_leaves, val_score: 0.241038:  70%|##################################3              | 14/20 [00:14<00:06,  1.11s/it]"
     ]
    },
    {
     "name": "stdout",
     "output_type": "stream",
     "text": [
      "Early stopping, best iteration is:\n",
      "[152]\tcv_agg's l2: 0.241038 + 0.0631956\n",
      "[100]\tcv_agg's l2: 0.244014 + 0.065734\n",
      "[200]\tcv_agg's l2: 0.247977 + 0.0640619\n"
     ]
    },
    {
     "name": "stderr",
     "output_type": "stream",
     "text": [
      "num_leaves, val_score: 0.241038:  75%|####################################7            | 15/20 [00:15<00:05,  1.14s/it][I 2023-10-28 22:06:17,228] Trial 21 finished with value: 0.24591880906153502 and parameters: {'num_leaves': 182}. Best is trial 10 with value: 0.2410379904432932.\n",
      "num_leaves, val_score: 0.241038:  75%|####################################7            | 15/20 [00:15<00:05,  1.14s/it]"
     ]
    },
    {
     "name": "stdout",
     "output_type": "stream",
     "text": [
      "Early stopping, best iteration is:\n",
      "[152]\tcv_agg's l2: 0.241038 + 0.0631956\n",
      "[100]\tcv_agg's l2: 0.244014 + 0.065734\n",
      "[200]\tcv_agg's l2: 0.247977 + 0.0640619\n"
     ]
    },
    {
     "name": "stderr",
     "output_type": "stream",
     "text": [
      "num_leaves, val_score: 0.241038:  80%|#######################################2         | 16/20 [00:17<00:04,  1.16s/it][I 2023-10-28 22:06:18,444] Trial 22 finished with value: 0.24591880906153502 and parameters: {'num_leaves': 105}. Best is trial 10 with value: 0.2410379904432932.\n",
      "num_leaves, val_score: 0.241038:  80%|#######################################2         | 16/20 [00:17<00:04,  1.16s/it]"
     ]
    },
    {
     "name": "stdout",
     "output_type": "stream",
     "text": [
      "Early stopping, best iteration is:\n",
      "[152]\tcv_agg's l2: 0.241038 + 0.0631956\n",
      "[100]\tcv_agg's l2: 0.244014 + 0.065734\n",
      "[200]\tcv_agg's l2: 0.247977 + 0.0640619\n"
     ]
    },
    {
     "name": "stderr",
     "output_type": "stream",
     "text": [
      "num_leaves, val_score: 0.241038:  85%|#########################################6       | 17/20 [00:18<00:03,  1.21s/it][I 2023-10-28 22:06:19,749] Trial 23 finished with value: 0.24591880906153502 and parameters: {'num_leaves': 251}. Best is trial 10 with value: 0.2410379904432932.\n",
      "num_leaves, val_score: 0.241038:  85%|#########################################6       | 17/20 [00:18<00:03,  1.21s/it]"
     ]
    },
    {
     "name": "stdout",
     "output_type": "stream",
     "text": [
      "Early stopping, best iteration is:\n",
      "[152]\tcv_agg's l2: 0.241038 + 0.0631956\n",
      "[100]\tcv_agg's l2: 0.244014 + 0.065734\n",
      "[200]\tcv_agg's l2: 0.247977 + 0.0640619\n"
     ]
    },
    {
     "name": "stderr",
     "output_type": "stream",
     "text": [
      "num_leaves, val_score: 0.241038:  90%|############################################1    | 18/20 [00:19<00:02,  1.20s/it][I 2023-10-28 22:06:20,922] Trial 24 finished with value: 0.24591880906153502 and parameters: {'num_leaves': 40}. Best is trial 10 with value: 0.2410379904432932.\n",
      "num_leaves, val_score: 0.241038:  90%|############################################1    | 18/20 [00:19<00:02,  1.20s/it]"
     ]
    },
    {
     "name": "stdout",
     "output_type": "stream",
     "text": [
      "Early stopping, best iteration is:\n",
      "[152]\tcv_agg's l2: 0.241038 + 0.0631956\n",
      "[100]\tcv_agg's l2: 0.244014 + 0.065734\n",
      "[200]\tcv_agg's l2: 0.247977 + 0.0640619\n"
     ]
    },
    {
     "name": "stderr",
     "output_type": "stream",
     "text": [
      "num_leaves, val_score: 0.241038:  95%|##############################################5  | 19/20 [00:20<00:01,  1.21s/it][I 2023-10-28 22:06:22,167] Trial 25 finished with value: 0.24591880906153502 and parameters: {'num_leaves': 91}. Best is trial 10 with value: 0.2410379904432932.\n",
      "num_leaves, val_score: 0.241038:  95%|##############################################5  | 19/20 [00:20<00:01,  1.21s/it]"
     ]
    },
    {
     "name": "stdout",
     "output_type": "stream",
     "text": [
      "Early stopping, best iteration is:\n",
      "[152]\tcv_agg's l2: 0.241038 + 0.0631956\n",
      "[100]\tcv_agg's l2: 0.244014 + 0.065734\n",
      "[200]\tcv_agg's l2: 0.247977 + 0.0640619\n"
     ]
    },
    {
     "name": "stderr",
     "output_type": "stream",
     "text": [
      "num_leaves, val_score: 0.241038: 100%|#################################################| 20/20 [00:22<00:00,  1.21s/it][I 2023-10-28 22:06:23,381] Trial 26 finished with value: 0.24591880906153502 and parameters: {'num_leaves': 126}. Best is trial 10 with value: 0.2410379904432932.\n",
      "num_leaves, val_score: 0.241038: 100%|#################################################| 20/20 [00:22<00:00,  1.11s/it]\n"
     ]
    },
    {
     "name": "stdout",
     "output_type": "stream",
     "text": [
      "Early stopping, best iteration is:\n",
      "[152]\tcv_agg's l2: 0.241038 + 0.0631956\n"
     ]
    },
    {
     "name": "stderr",
     "output_type": "stream",
     "text": [
      "bagging, val_score: 0.241038:   0%|                                                             | 0/10 [00:00<?, ?it/s]"
     ]
    },
    {
     "name": "stdout",
     "output_type": "stream",
     "text": [
      "[100]\tcv_agg's l2: 0.256294 + 0.0660661\n"
     ]
    },
    {
     "name": "stderr",
     "output_type": "stream",
     "text": [
      "bagging, val_score: 0.241038:  10%|#####3                                               | 1/10 [00:00<00:06,  1.48it/s][I 2023-10-28 22:06:24,063] Trial 27 finished with value: 0.2538445638731713 and parameters: {'bagging_fraction': 0.7135993457099972, 'bagging_freq': 5}. Best is trial 27 with value: 0.2538445638731713.\n",
      "bagging, val_score: 0.241038:  10%|#####3                                               | 1/10 [00:00<00:06,  1.48it/s]"
     ]
    },
    {
     "name": "stdout",
     "output_type": "stream",
     "text": [
      "[200]\tcv_agg's l2: 0.25545 + 0.0642336\n",
      "Early stopping, best iteration is:\n",
      "[152]\tcv_agg's l2: 0.241038 + 0.0631956\n",
      "[100]\tcv_agg's l2: 0.311342 + 0.0609106\n"
     ]
    },
    {
     "name": "stderr",
     "output_type": "stream",
     "text": [
      "bagging, val_score: 0.241038:  20%|##########6                                          | 2/10 [00:01<00:05,  1.47it/s][I 2023-10-28 22:06:24,747] Trial 28 finished with value: 0.30772782250817604 and parameters: {'bagging_fraction': 0.40233553908234976, 'bagging_freq': 1}. Best is trial 27 with value: 0.2538445638731713.\n",
      "bagging, val_score: 0.241038:  20%|##########6                                          | 2/10 [00:01<00:05,  1.47it/s]"
     ]
    },
    {
     "name": "stdout",
     "output_type": "stream",
     "text": [
      "[200]\tcv_agg's l2: 0.303936 + 0.0589823\n",
      "Early stopping, best iteration is:\n",
      "[152]\tcv_agg's l2: 0.241038 + 0.0631956\n",
      "[100]\tcv_agg's l2: 0.246493 + 0.0676508\n",
      "[200]\tcv_agg's l2: 0.239902 + 0.064661\n"
     ]
    },
    {
     "name": "stderr",
     "output_type": "stream",
     "text": [
      "bagging, val_score: 0.237530:  30%|###############9                                     | 3/10 [00:02<00:05,  1.28it/s][I 2023-10-28 22:06:25,650] Trial 29 finished with value: 0.2375302949449249 and parameters: {'bagging_fraction': 0.988423068157628, 'bagging_freq': 7}. Best is trial 29 with value: 0.2375302949449249.\n",
      "bagging, val_score: 0.237530:  30%|###############9                                     | 3/10 [00:02<00:05,  1.28it/s]"
     ]
    },
    {
     "name": "stdout",
     "output_type": "stream",
     "text": [
      "[300]\tcv_agg's l2: 0.240026 + 0.0627681\n",
      "Early stopping, best iteration is:\n",
      "[254]\tcv_agg's l2: 0.23753 + 0.0636318\n",
      "[100]\tcv_agg's l2: 0.247665 + 0.0677198\n",
      "[200]\tcv_agg's l2: 0.244117 + 0.0601886\n"
     ]
    },
    {
     "name": "stderr",
     "output_type": "stream",
     "text": [
      "bagging, val_score: 0.237530:  40%|#####################2                               | 4/10 [00:03<00:05,  1.19it/s][I 2023-10-28 22:06:26,583] Trial 30 finished with value: 0.24479865406263307 and parameters: {'bagging_fraction': 0.9968396662217391, 'bagging_freq': 7}. Best is trial 29 with value: 0.2375302949449249.\n",
      "bagging, val_score: 0.237530:  40%|#####################2                               | 4/10 [00:03<00:05,  1.19it/s]"
     ]
    },
    {
     "name": "stdout",
     "output_type": "stream",
     "text": [
      "[300]\tcv_agg's l2: 0.24571 + 0.0608776\n",
      "Early stopping, best iteration is:\n",
      "[254]\tcv_agg's l2: 0.23753 + 0.0636318\n",
      "[100]\tcv_agg's l2: 0.244814 + 0.0665501\n",
      "[200]\tcv_agg's l2: 0.242597 + 0.0628323\n"
     ]
    },
    {
     "name": "stderr",
     "output_type": "stream",
     "text": [
      "bagging, val_score: 0.237530:  50%|##########################5                          | 5/10 [00:04<00:04,  1.16it/s][I 2023-10-28 22:06:27,474] Trial 31 finished with value: 0.24137267803137585 and parameters: {'bagging_fraction': 0.9992319269295541, 'bagging_freq': 7}. Best is trial 29 with value: 0.2375302949449249.\n",
      "bagging, val_score: 0.237530:  50%|##########################5                          | 5/10 [00:04<00:04,  1.16it/s]"
     ]
    },
    {
     "name": "stdout",
     "output_type": "stream",
     "text": [
      "[300]\tcv_agg's l2: 0.242083 + 0.0617355\n",
      "Early stopping, best iteration is:\n",
      "[254]\tcv_agg's l2: 0.23753 + 0.0636318\n",
      "[100]\tcv_agg's l2: 0.244814 + 0.0665501\n",
      "[200]\tcv_agg's l2: 0.242597 + 0.0628323\n"
     ]
    },
    {
     "name": "stderr",
     "output_type": "stream",
     "text": [
      "bagging, val_score: 0.237530:  60%|###############################8                     | 6/10 [00:05<00:03,  1.13it/s][I 2023-10-28 22:06:28,402] Trial 32 finished with value: 0.24137267803137585 and parameters: {'bagging_fraction': 0.9996982572593629, 'bagging_freq': 7}. Best is trial 29 with value: 0.2375302949449249.\n",
      "bagging, val_score: 0.237530:  60%|###############################8                     | 6/10 [00:05<00:03,  1.13it/s]"
     ]
    },
    {
     "name": "stdout",
     "output_type": "stream",
     "text": [
      "[300]\tcv_agg's l2: 0.242083 + 0.0617355\n",
      "Early stopping, best iteration is:\n",
      "[254]\tcv_agg's l2: 0.23753 + 0.0636318\n",
      "[100]\tcv_agg's l2: 0.24395 + 0.0644607\n",
      "[200]\tcv_agg's l2: 0.239279 + 0.0594533\n"
     ]
    },
    {
     "name": "stderr",
     "output_type": "stream",
     "text": [
      "bagging, val_score: 0.237530:  70%|#####################################                | 7/10 [00:05<00:02,  1.14it/s][I 2023-10-28 22:06:29,278] Trial 33 finished with value: 0.2392942057678491 and parameters: {'bagging_fraction': 0.9951693459327199, 'bagging_freq': 7}. Best is trial 29 with value: 0.2375302949449249.\n",
      "bagging, val_score: 0.237530:  70%|#####################################                | 7/10 [00:05<00:02,  1.14it/s]"
     ]
    },
    {
     "name": "stdout",
     "output_type": "stream",
     "text": [
      "[300]\tcv_agg's l2: 0.239496 + 0.0579818\n",
      "Early stopping, best iteration is:\n",
      "[254]\tcv_agg's l2: 0.23753 + 0.0636318\n",
      "[100]\tcv_agg's l2: 0.240738 + 0.0583625\n"
     ]
    },
    {
     "name": "stderr",
     "output_type": "stream",
     "text": [
      "\r",
      "bagging, val_score: 0.233589:  70%|#####################################                | 7/10 [00:06<00:02,  1.14it/s]"
     ]
    },
    {
     "name": "stdout",
     "output_type": "stream",
     "text": [
      "[200]\tcv_agg's l2: 0.234791 + 0.0559008\n",
      "Early stopping, best iteration is:\n",
      "[170]\tcv_agg's l2: 0.233589 + 0.0566305\n"
     ]
    },
    {
     "name": "stderr",
     "output_type": "stream",
     "text": [
      "bagging, val_score: 0.233589:  80%|##########################################4          | 8/10 [00:06<00:01,  1.15it/s][I 2023-10-28 22:06:30,115] Trial 34 finished with value: 0.23358909735500158 and parameters: {'bagging_fraction': 0.9924820716277776, 'bagging_freq': 7}. Best is trial 34 with value: 0.23358909735500158.\n",
      "bagging, val_score: 0.233589:  80%|##########################################4          | 8/10 [00:06<00:01,  1.15it/s]"
     ]
    },
    {
     "name": "stdout",
     "output_type": "stream",
     "text": [
      "[100]\tcv_agg's l2: 0.250189 + 0.0663836\n"
     ]
    },
    {
     "name": "stderr",
     "output_type": "stream",
     "text": [
      "bagging, val_score: 0.233589:  90%|###############################################7     | 9/10 [00:07<00:00,  1.23it/s][I 2023-10-28 22:06:30,811] Trial 35 finished with value: 0.2446883121034397 and parameters: {'bagging_fraction': 0.8892029575761708, 'bagging_freq': 5}. Best is trial 34 with value: 0.23358909735500158.\n"
     ]
    },
    {
     "name": "stdout",
     "output_type": "stream",
     "text": [
      "[200]\tcv_agg's l2: 0.246119 + 0.0628559\n",
      "Early stopping, best iteration is:\n",
      "[170]\tcv_agg's l2: 0.233589 + 0.0566305\n"
     ]
    },
    {
     "name": "stderr",
     "output_type": "stream",
     "text": [
      "\r",
      "bagging, val_score: 0.233589:  90%|###############################################7     | 9/10 [00:07<00:00,  1.23it/s]"
     ]
    },
    {
     "name": "stdout",
     "output_type": "stream",
     "text": [
      "[100]\tcv_agg's l2: 0.249951 + 0.05595\n"
     ]
    },
    {
     "name": "stderr",
     "output_type": "stream",
     "text": [
      "bagging, val_score: 0.233589: 100%|####################################################| 10/10 [00:08<00:00,  1.27it/s][I 2023-10-28 22:06:31,541] Trial 36 finished with value: 0.24668698991363963 and parameters: {'bagging_fraction': 0.8652259547568046, 'bagging_freq': 7}. Best is trial 34 with value: 0.23358909735500158.\n",
      "bagging, val_score: 0.233589: 100%|####################################################| 10/10 [00:08<00:00,  1.23it/s]\n"
     ]
    },
    {
     "name": "stdout",
     "output_type": "stream",
     "text": [
      "[200]\tcv_agg's l2: 0.245289 + 0.0546478\n",
      "Early stopping, best iteration is:\n",
      "[170]\tcv_agg's l2: 0.233589 + 0.0566305\n"
     ]
    },
    {
     "name": "stderr",
     "output_type": "stream",
     "text": [
      "feature_fraction_stage2, val_score: 0.233589:   0%|                                              | 0/6 [00:00<?, ?it/s]"
     ]
    },
    {
     "name": "stdout",
     "output_type": "stream",
     "text": [
      "[100]\tcv_agg's l2: 0.240738 + 0.0583625\n"
     ]
    },
    {
     "name": "stderr",
     "output_type": "stream",
     "text": [
      "\r",
      "feature_fraction_stage2, val_score: 0.233589:   0%|                                              | 0/6 [00:00<?, ?it/s]"
     ]
    },
    {
     "name": "stdout",
     "output_type": "stream",
     "text": [
      "[200]\tcv_agg's l2: 0.234791 + 0.0559008\n",
      "Early stopping, best iteration is:\n",
      "[170]\tcv_agg's l2: 0.233589 + 0.0566305\n"
     ]
    },
    {
     "name": "stderr",
     "output_type": "stream",
     "text": [
      "feature_fraction_stage2, val_score: 0.233589:  17%|######3                               | 1/6 [00:00<00:03,  1.45it/s][I 2023-10-28 22:06:32,241] Trial 37 finished with value: 0.23358909735500158 and parameters: {'feature_fraction': 0.7799999999999999}. Best is trial 37 with value: 0.23358909735500158.\n",
      "feature_fraction_stage2, val_score: 0.233589:  17%|######3                               | 1/6 [00:00<00:03,  1.45it/s]"
     ]
    },
    {
     "name": "stdout",
     "output_type": "stream",
     "text": [
      "[100]\tcv_agg's l2: 0.240738 + 0.0583625\n"
     ]
    },
    {
     "name": "stderr",
     "output_type": "stream",
     "text": [
      "feature_fraction_stage2, val_score: 0.233589:  33%|############6                         | 2/6 [00:01<00:02,  1.37it/s][I 2023-10-28 22:06:32,998] Trial 38 finished with value: 0.23358909735500158 and parameters: {'feature_fraction': 0.716}. Best is trial 37 with value: 0.23358909735500158.\n"
     ]
    },
    {
     "name": "stdout",
     "output_type": "stream",
     "text": [
      "[200]\tcv_agg's l2: 0.234791 + 0.0559008\n",
      "Early stopping, best iteration is:\n",
      "[170]\tcv_agg's l2: 0.233589 + 0.0566305\n"
     ]
    },
    {
     "name": "stderr",
     "output_type": "stream",
     "text": [
      "\r",
      "feature_fraction_stage2, val_score: 0.233589:  33%|############6                         | 2/6 [00:01<00:02,  1.37it/s]"
     ]
    },
    {
     "name": "stdout",
     "output_type": "stream",
     "text": [
      "[100]\tcv_agg's l2: 0.267473 + 0.0620666\n"
     ]
    },
    {
     "name": "stderr",
     "output_type": "stream",
     "text": [
      "\r",
      "feature_fraction_stage2, val_score: 0.233589:  33%|############6                         | 2/6 [00:02<00:02,  1.37it/s]"
     ]
    },
    {
     "name": "stdout",
     "output_type": "stream",
     "text": [
      "[200]\tcv_agg's l2: 0.24841 + 0.0564938\n",
      "Early stopping, best iteration is:\n",
      "[170]\tcv_agg's l2: 0.233589 + 0.0566305\n"
     ]
    },
    {
     "name": "stderr",
     "output_type": "stream",
     "text": [
      "feature_fraction_stage2, val_score: 0.233589:  50%|###################                   | 3/6 [00:02<00:02,  1.36it/s][I 2023-10-28 22:06:33,740] Trial 39 finished with value: 0.25037756678790374 and parameters: {'feature_fraction': 0.652}. Best is trial 37 with value: 0.23358909735500158.\n",
      "feature_fraction_stage2, val_score: 0.233589:  50%|###################                   | 3/6 [00:02<00:02,  1.36it/s]"
     ]
    },
    {
     "name": "stdout",
     "output_type": "stream",
     "text": [
      "[100]\tcv_agg's l2: 0.267473 + 0.0620666\n"
     ]
    },
    {
     "name": "stderr",
     "output_type": "stream",
     "text": [
      "\r",
      "feature_fraction_stage2, val_score: 0.233589:  50%|###################                   | 3/6 [00:02<00:02,  1.36it/s]"
     ]
    },
    {
     "name": "stdout",
     "output_type": "stream",
     "text": [
      "[200]\tcv_agg's l2: 0.24841 + 0.0564938\n",
      "Early stopping, best iteration is:\n",
      "[170]\tcv_agg's l2: 0.233589 + 0.0566305\n"
     ]
    },
    {
     "name": "stderr",
     "output_type": "stream",
     "text": [
      "feature_fraction_stage2, val_score: 0.233589:  67%|#########################3            | 4/6 [00:02<00:01,  1.35it/s][I 2023-10-28 22:06:34,492] Trial 40 finished with value: 0.25037756678790374 and parameters: {'feature_fraction': 0.62}. Best is trial 37 with value: 0.23358909735500158.\n",
      "feature_fraction_stage2, val_score: 0.233589:  67%|#########################3            | 4/6 [00:02<00:01,  1.35it/s]"
     ]
    },
    {
     "name": "stdout",
     "output_type": "stream",
     "text": [
      "[100]\tcv_agg's l2: 0.240738 + 0.0583625\n"
     ]
    },
    {
     "name": "stderr",
     "output_type": "stream",
     "text": [
      "feature_fraction_stage2, val_score: 0.233589:  83%|###############################6      | 5/6 [00:03<00:00,  1.41it/s][I 2023-10-28 22:06:35,148] Trial 41 finished with value: 0.23358909735500158 and parameters: {'feature_fraction': 0.748}. Best is trial 37 with value: 0.23358909735500158.\n",
      "feature_fraction_stage2, val_score: 0.233589:  83%|###############################6      | 5/6 [00:03<00:00,  1.41it/s]"
     ]
    },
    {
     "name": "stdout",
     "output_type": "stream",
     "text": [
      "[200]\tcv_agg's l2: 0.234791 + 0.0559008\n",
      "Early stopping, best iteration is:\n",
      "[170]\tcv_agg's l2: 0.233589 + 0.0566305\n",
      "[100]\tcv_agg's l2: 0.267473 + 0.0620666\n"
     ]
    },
    {
     "name": "stderr",
     "output_type": "stream",
     "text": [
      "feature_fraction_stage2, val_score: 0.233589: 100%|######################################| 6/6 [00:04<00:00,  1.45it/s][I 2023-10-28 22:06:35,797] Trial 42 finished with value: 0.25037756678790374 and parameters: {'feature_fraction': 0.6839999999999999}. Best is trial 37 with value: 0.23358909735500158.\n",
      "feature_fraction_stage2, val_score: 0.233589: 100%|######################################| 6/6 [00:04<00:00,  1.41it/s]\n"
     ]
    },
    {
     "name": "stdout",
     "output_type": "stream",
     "text": [
      "[200]\tcv_agg's l2: 0.24841 + 0.0564938\n",
      "Early stopping, best iteration is:\n",
      "[170]\tcv_agg's l2: 0.233589 + 0.0566305\n"
     ]
    },
    {
     "name": "stderr",
     "output_type": "stream",
     "text": [
      "regularization_factors, val_score: 0.233589:   0%|                                              | 0/20 [00:00<?, ?it/s]"
     ]
    },
    {
     "name": "stdout",
     "output_type": "stream",
     "text": [
      "[100]\tcv_agg's l2: 0.240738 + 0.0583625\n"
     ]
    },
    {
     "name": "stderr",
     "output_type": "stream",
     "text": [
      "\r",
      "regularization_factors, val_score: 0.233589:   0%|                                              | 0/20 [00:00<?, ?it/s]"
     ]
    },
    {
     "name": "stdout",
     "output_type": "stream",
     "text": [
      "[200]\tcv_agg's l2: 0.234791 + 0.0559008\n",
      "Early stopping, best iteration is:\n",
      "[170]\tcv_agg's l2: 0.233589 + 0.0566305\n"
     ]
    },
    {
     "name": "stderr",
     "output_type": "stream",
     "text": [
      "regularization_factors, val_score: 0.233589:   5%|#9                                    | 1/20 [00:00<00:13,  1.45it/s][I 2023-10-28 22:06:36,493] Trial 43 finished with value: 0.2335890976785787 and parameters: {'lambda_l1': 4.5186437746425295e-07, 'lambda_l2': 4.069745930826509e-08}. Best is trial 43 with value: 0.2335890976785787.\n",
      "regularization_factors, val_score: 0.233589:   5%|#9                                    | 1/20 [00:00<00:13,  1.45it/s]"
     ]
    },
    {
     "name": "stdout",
     "output_type": "stream",
     "text": [
      "[100]\tcv_agg's l2: 0.240738 + 0.0583625\n"
     ]
    },
    {
     "name": "stderr",
     "output_type": "stream",
     "text": [
      "\r",
      "regularization_factors, val_score: 0.233589:   5%|#9                                    | 1/20 [00:01<00:13,  1.45it/s]"
     ]
    },
    {
     "name": "stdout",
     "output_type": "stream",
     "text": [
      "[200]\tcv_agg's l2: 0.234791 + 0.0559008\n",
      "Early stopping, best iteration is:\n",
      "[170]\tcv_agg's l2: 0.233589 + 0.0566305\n"
     ]
    },
    {
     "name": "stderr",
     "output_type": "stream",
     "text": [
      "regularization_factors, val_score: 0.233589:  10%|###8                                  | 2/20 [00:01<00:13,  1.38it/s][I 2023-10-28 22:06:37,241] Trial 44 finished with value: 0.23358909749985352 and parameters: {'lambda_l1': 2.352330437902365e-07, 'lambda_l2': 1.5888767390318777e-08}. Best is trial 44 with value: 0.23358909749985352.\n",
      "regularization_factors, val_score: 0.233589:  10%|###8                                  | 2/20 [00:01<00:13,  1.38it/s]"
     ]
    },
    {
     "name": "stdout",
     "output_type": "stream",
     "text": [
      "[100]\tcv_agg's l2: 0.240738 + 0.0583625\n"
     ]
    },
    {
     "name": "stderr",
     "output_type": "stream",
     "text": [
      "\r",
      "regularization_factors, val_score: 0.233589:  10%|###8                                  | 2/20 [00:02<00:13,  1.38it/s]"
     ]
    },
    {
     "name": "stdout",
     "output_type": "stream",
     "text": [
      "[200]\tcv_agg's l2: 0.234791 + 0.0559008\n",
      "Early stopping, best iteration is:\n",
      "[170]\tcv_agg's l2: 0.233589 + 0.0566305\n"
     ]
    },
    {
     "name": "stderr",
     "output_type": "stream",
     "text": [
      "regularization_factors, val_score: 0.233589:  15%|#####7                                | 3/20 [00:02<00:12,  1.37it/s][I 2023-10-28 22:06:37,982] Trial 45 finished with value: 0.23358909732906102 and parameters: {'lambda_l1': 2.1781640301181464e-08, 'lambda_l2': 1.9899522545203675e-08}. Best is trial 45 with value: 0.23358909732906102.\n",
      "regularization_factors, val_score: 0.233589:  15%|#####7                                | 3/20 [00:02<00:12,  1.37it/s]"
     ]
    },
    {
     "name": "stdout",
     "output_type": "stream",
     "text": [
      "[100]\tcv_agg's l2: 0.254068 + 0.0711253\n"
     ]
    },
    {
     "name": "stderr",
     "output_type": "stream",
     "text": [
      "\r",
      "regularization_factors, val_score: 0.233589:  15%|#####7                                | 3/20 [00:02<00:12,  1.37it/s]"
     ]
    },
    {
     "name": "stdout",
     "output_type": "stream",
     "text": [
      "[200]\tcv_agg's l2: 0.248763 + 0.0694269\n",
      "Early stopping, best iteration is:\n",
      "[170]\tcv_agg's l2: 0.233589 + 0.0566305\n"
     ]
    },
    {
     "name": "stderr",
     "output_type": "stream",
     "text": [
      "regularization_factors, val_score: 0.233589:  20%|#######6                              | 4/20 [00:02<00:11,  1.34it/s][I 2023-10-28 22:06:38,758] Trial 46 finished with value: 0.24959253418143662 and parameters: {'lambda_l1': 0.4978894701510852, 'lambda_l2': 1.527287771059308}. Best is trial 45 with value: 0.23358909732906102.\n",
      "regularization_factors, val_score: 0.233589:  20%|#######6                              | 4/20 [00:02<00:11,  1.34it/s]"
     ]
    },
    {
     "name": "stdout",
     "output_type": "stream",
     "text": [
      "[100]\tcv_agg's l2: 0.240738 + 0.0583625\n"
     ]
    },
    {
     "name": "stderr",
     "output_type": "stream",
     "text": [
      "regularization_factors, val_score: 0.233589:  25%|#########5                            | 5/20 [00:03<00:10,  1.37it/s][I 2023-10-28 22:06:39,448] Trial 47 finished with value: 0.23358908181661314 and parameters: {'lambda_l1': 1.2235906252955227e-08, 'lambda_l2': 3.1526543648841286e-05}. Best is trial 47 with value: 0.23358908181661314.\n",
      "regularization_factors, val_score: 0.233589:  25%|#########5                            | 5/20 [00:03<00:10,  1.37it/s]"
     ]
    },
    {
     "name": "stdout",
     "output_type": "stream",
     "text": [
      "[200]\tcv_agg's l2: 0.234791 + 0.0559008\n",
      "Early stopping, best iteration is:\n",
      "[170]\tcv_agg's l2: 0.233589 + 0.0566305\n",
      "[100]\tcv_agg's l2: 0.240738 + 0.0583625\n"
     ]
    },
    {
     "name": "stderr",
     "output_type": "stream",
     "text": [
      "regularization_factors, val_score: 0.233589:  30%|###########4                          | 6/20 [00:04<00:10,  1.38it/s][I 2023-10-28 22:06:40,168] Trial 48 finished with value: 0.23358908721241423 and parameters: {'lambda_l1': 2.5379829823815147e-08, 'lambda_l2': 1.9409271546993794e-05}. Best is trial 47 with value: 0.23358908181661314.\n",
      "regularization_factors, val_score: 0.233589:  30%|###########4                          | 6/20 [00:04<00:10,  1.38it/s]"
     ]
    },
    {
     "name": "stdout",
     "output_type": "stream",
     "text": [
      "[200]\tcv_agg's l2: 0.234791 + 0.0559008\n",
      "Early stopping, best iteration is:\n",
      "[170]\tcv_agg's l2: 0.233589 + 0.0566305\n",
      "[100]\tcv_agg's l2: 0.240738 + 0.0583625\n"
     ]
    },
    {
     "name": "stderr",
     "output_type": "stream",
     "text": [
      "\r",
      "regularization_factors, val_score: 0.233589:  30%|###########4                          | 6/20 [00:05<00:10,  1.38it/s]"
     ]
    },
    {
     "name": "stdout",
     "output_type": "stream",
     "text": [
      "[200]\tcv_agg's l2: 0.234791 + 0.0559008\n",
      "Early stopping, best iteration is:\n",
      "[170]\tcv_agg's l2: 0.233589 + 0.0566305\n"
     ]
    },
    {
     "name": "stderr",
     "output_type": "stream",
     "text": [
      "regularization_factors, val_score: 0.233589:  35%|#############3                        | 7/20 [00:05<00:09,  1.37it/s][I 2023-10-28 22:06:40,912] Trial 49 finished with value: 0.23358908335723338 and parameters: {'lambda_l1': 1.094585460751271e-08, 'lambda_l2': 2.8268541680840507e-05}. Best is trial 47 with value: 0.23358908181661314.\n",
      "regularization_factors, val_score: 0.233589:  35%|#############3                        | 7/20 [00:05<00:09,  1.37it/s]"
     ]
    },
    {
     "name": "stdout",
     "output_type": "stream",
     "text": [
      "[100]\tcv_agg's l2: 0.240738 + 0.0583625\n"
     ]
    },
    {
     "name": "stderr",
     "output_type": "stream",
     "text": [
      "regularization_factors, val_score: 0.233589:  40%|###############2                      | 8/20 [00:05<00:08,  1.39it/s][I 2023-10-28 22:06:41,602] Trial 50 finished with value: 0.2335890816802643 and parameters: {'lambda_l1': 1.1416703474222536e-08, 'lambda_l2': 3.057351383417522e-05}. Best is trial 50 with value: 0.2335890816802643.\n",
      "regularization_factors, val_score: 0.233589:  40%|###############2                      | 8/20 [00:05<00:08,  1.39it/s]"
     ]
    },
    {
     "name": "stdout",
     "output_type": "stream",
     "text": [
      "[200]\tcv_agg's l2: 0.234791 + 0.0559008\n",
      "Early stopping, best iteration is:\n",
      "[170]\tcv_agg's l2: 0.233589 + 0.0566305\n",
      "[100]\tcv_agg's l2: 0.240738 + 0.0583625\n"
     ]
    },
    {
     "name": "stderr",
     "output_type": "stream",
     "text": [
      "regularization_factors, val_score: 0.233589:  45%|#################1                    | 9/20 [00:06<00:08,  1.37it/s][I 2023-10-28 22:06:42,363] Trial 51 finished with value: 0.2335890834556408 and parameters: {'lambda_l1': 1.0497826559648345e-08, 'lambda_l2': 2.7264736467880507e-05}. Best is trial 50 with value: 0.2335890816802643.\n",
      "regularization_factors, val_score: 0.233589:  45%|#################1                    | 9/20 [00:06<00:08,  1.37it/s]"
     ]
    },
    {
     "name": "stdout",
     "output_type": "stream",
     "text": [
      "[200]\tcv_agg's l2: 0.234791 + 0.0559008\n",
      "Early stopping, best iteration is:\n",
      "[170]\tcv_agg's l2: 0.233589 + 0.0566305\n",
      "[100]\tcv_agg's l2: 0.240738 + 0.0583625\n"
     ]
    },
    {
     "name": "stderr",
     "output_type": "stream",
     "text": [
      "\r",
      "regularization_factors, val_score: 0.233589:  45%|#################1                    | 9/20 [00:07<00:08,  1.37it/s]"
     ]
    },
    {
     "name": "stdout",
     "output_type": "stream",
     "text": [
      "[200]\tcv_agg's l2: 0.234791 + 0.0559008\n",
      "Early stopping, best iteration is:\n",
      "[170]\tcv_agg's l2: 0.233589 + 0.0566305\n"
     ]
    },
    {
     "name": "stderr",
     "output_type": "stream",
     "text": [
      "regularization_factors, val_score: 0.233589:  50%|##################5                  | 10/20 [00:07<00:07,  1.37it/s][I 2023-10-28 22:06:43,090] Trial 52 finished with value: 0.23358907811707721 and parameters: {'lambda_l1': 1.1681091756997573e-08, 'lambda_l2': 3.988957064263271e-05}. Best is trial 52 with value: 0.23358907811707721.\n",
      "regularization_factors, val_score: 0.233589:  50%|##################5                  | 10/20 [00:07<00:07,  1.37it/s]"
     ]
    },
    {
     "name": "stdout",
     "output_type": "stream",
     "text": [
      "[100]\tcv_agg's l2: 0.240738 + 0.0583625\n"
     ]
    },
    {
     "name": "stderr",
     "output_type": "stream",
     "text": [
      "regularization_factors, val_score: 0.233589:  55%|####################3                | 11/20 [00:08<00:06,  1.36it/s][I 2023-10-28 22:06:43,839] Trial 53 finished with value: 0.23358907812564528 and parameters: {'lambda_l1': 1.6775992040386195e-08, 'lambda_l2': 3.9883743520461295e-05}. Best is trial 52 with value: 0.23358907811707721.\n",
      "regularization_factors, val_score: 0.233589:  55%|####################3                | 11/20 [00:08<00:06,  1.36it/s]"
     ]
    },
    {
     "name": "stdout",
     "output_type": "stream",
     "text": [
      "[200]\tcv_agg's l2: 0.234791 + 0.0559008\n",
      "Early stopping, best iteration is:\n",
      "[170]\tcv_agg's l2: 0.233589 + 0.0566305\n",
      "[100]\tcv_agg's l2: 0.240738 + 0.0583625\n"
     ]
    },
    {
     "name": "stderr",
     "output_type": "stream",
     "text": [
      "regularization_factors, val_score: 0.233589:  60%|######################2              | 12/20 [00:08<00:05,  1.38it/s][I 2023-10-28 22:06:44,529] Trial 54 finished with value: 0.2335890750283971 and parameters: {'lambda_l1': 1.2642893782558325e-08, 'lambda_l2': 4.5833601099781095e-05}. Best is trial 54 with value: 0.2335890750283971.\n",
      "regularization_factors, val_score: 0.233589:  60%|######################2              | 12/20 [00:08<00:05,  1.38it/s]"
     ]
    },
    {
     "name": "stdout",
     "output_type": "stream",
     "text": [
      "[200]\tcv_agg's l2: 0.234791 + 0.0559008\n",
      "Early stopping, best iteration is:\n",
      "[170]\tcv_agg's l2: 0.233589 + 0.0566305\n",
      "[100]\tcv_agg's l2: 0.240738 + 0.0583625\n"
     ]
    },
    {
     "name": "stderr",
     "output_type": "stream",
     "text": [
      "\r",
      "regularization_factors, val_score: 0.233589:  60%|######################2              | 12/20 [00:09<00:05,  1.38it/s]"
     ]
    },
    {
     "name": "stdout",
     "output_type": "stream",
     "text": [
      "[200]\tcv_agg's l2: 0.234791 + 0.0559008\n",
      "Early stopping, best iteration is:\n",
      "[170]\tcv_agg's l2: 0.233589 + 0.0566305\n"
     ]
    },
    {
     "name": "stderr",
     "output_type": "stream",
     "text": [
      "regularization_factors, val_score: 0.233589:  65%|########################             | 13/20 [00:09<00:05,  1.37it/s][I 2023-10-28 22:06:45,282] Trial 55 finished with value: 0.2335890736904515 and parameters: {'lambda_l1': 1.0049803105940678e-08, 'lambda_l2': 4.7943386740892517e-05}. Best is trial 55 with value: 0.2335890736904515.\n",
      "regularization_factors, val_score: 0.233589:  65%|########################             | 13/20 [00:09<00:05,  1.37it/s]"
     ]
    },
    {
     "name": "stdout",
     "output_type": "stream",
     "text": [
      "[100]\tcv_agg's l2: 0.240738 + 0.0583625\n"
     ]
    },
    {
     "name": "stderr",
     "output_type": "stream",
     "text": [
      "\r",
      "regularization_factors, val_score: 0.233589:  65%|########################             | 13/20 [00:10<00:05,  1.37it/s]"
     ]
    },
    {
     "name": "stdout",
     "output_type": "stream",
     "text": [
      "[200]\tcv_agg's l2: 0.234791 + 0.0559008\n",
      "Early stopping, best iteration is:\n",
      "[170]\tcv_agg's l2: 0.233589 + 0.0566305\n"
     ]
    },
    {
     "name": "stderr",
     "output_type": "stream",
     "text": [
      "regularization_factors, val_score: 0.233589:  70%|#########################9           | 14/20 [00:10<00:04,  1.35it/s][I 2023-10-28 22:06:46,040] Trial 56 finished with value: 0.2335890622573066 and parameters: {'lambda_l1': 1.0469326927293515e-08, 'lambda_l2': 7.124309867195535e-05}. Best is trial 56 with value: 0.2335890622573066.\n",
      "regularization_factors, val_score: 0.233589:  70%|#########################9           | 14/20 [00:10<00:04,  1.35it/s]"
     ]
    },
    {
     "name": "stdout",
     "output_type": "stream",
     "text": [
      "[100]\tcv_agg's l2: 0.240738 + 0.0583625\n"
     ]
    },
    {
     "name": "stderr",
     "output_type": "stream",
     "text": [
      "regularization_factors, val_score: 0.233589:  75%|###########################7         | 15/20 [00:10<00:03,  1.36it/s]"
     ]
    },
    {
     "name": "stdout",
     "output_type": "stream",
     "text": [
      "[200]\tcv_agg's l2: 0.234791 + 0.0559008\n",
      "Early stopping, best iteration is:\n",
      "[170]\tcv_agg's l2: 0.233589 + 0.0566305\n"
     ]
    },
    {
     "name": "stderr",
     "output_type": "stream",
     "text": [
      "[I 2023-10-28 22:06:46,767] Trial 57 finished with value: 0.23358903285886984 and parameters: {'lambda_l1': 1.028209916846971e-08, 'lambda_l2': 0.00013356797694242544}. Best is trial 57 with value: 0.23358903285886984.\n",
      "regularization_factors, val_score: 0.233589:  75%|###########################7         | 15/20 [00:10<00:03,  1.36it/s]"
     ]
    },
    {
     "name": "stdout",
     "output_type": "stream",
     "text": [
      "[100]\tcv_agg's l2: 0.240738 + 0.0583624\n"
     ]
    },
    {
     "name": "stderr",
     "output_type": "stream",
     "text": [
      "regularization_factors, val_score: 0.233589:  80%|#############################6       | 16/20 [00:11<00:02,  1.37it/s][I 2023-10-28 22:06:47,483] Trial 58 finished with value: 0.23409018716961544 and parameters: {'lambda_l1': 8.023850558245439e-07, 'lambda_l2': 0.00041567819251807895}. Best is trial 57 with value: 0.23358903285886984.\n"
     ]
    },
    {
     "name": "stdout",
     "output_type": "stream",
     "text": [
      "[200]\tcv_agg's l2: 0.235 + 0.0562873\n",
      "Early stopping, best iteration is:\n",
      "[170]\tcv_agg's l2: 0.233589 + 0.0566305\n"
     ]
    },
    {
     "name": "stderr",
     "output_type": "stream",
     "text": [
      "\r",
      "regularization_factors, val_score: 0.233589:  80%|#############################6       | 16/20 [00:11<00:02,  1.37it/s]"
     ]
    },
    {
     "name": "stdout",
     "output_type": "stream",
     "text": [
      "[100]\tcv_agg's l2: 0.240738 + 0.0583624\n"
     ]
    },
    {
     "name": "stderr",
     "output_type": "stream",
     "text": [
      "regularization_factors, val_score: 0.233589:  85%|###############################4     | 17/20 [00:12<00:02,  1.38it/s][I 2023-10-28 22:06:48,197] Trial 59 finished with value: 0.23409023948810231 and parameters: {'lambda_l1': 1.8068118760758138e-07, 'lambda_l2': 0.0003114423482179674}. Best is trial 57 with value: 0.23358903285886984.\n",
      "regularization_factors, val_score: 0.233589:  85%|###############################4     | 17/20 [00:12<00:02,  1.38it/s]"
     ]
    },
    {
     "name": "stdout",
     "output_type": "stream",
     "text": [
      "[200]\tcv_agg's l2: 0.235 + 0.0562873\n",
      "Early stopping, best iteration is:\n",
      "[170]\tcv_agg's l2: 0.233589 + 0.0566305\n",
      "[100]\tcv_agg's l2: 0.240738 + 0.0583625\n"
     ]
    },
    {
     "name": "stderr",
     "output_type": "stream",
     "text": [
      "regularization_factors, val_score: 0.233589:  90%|#################################3   | 18/20 [00:13<00:01,  1.39it/s][I 2023-10-28 22:06:48,902] Trial 60 finished with value: 0.23409032748897268 and parameters: {'lambda_l1': 1.0851460082280177e-08, 'lambda_l2': 0.0001375587035589625}. Best is trial 57 with value: 0.23358903285886984.\n",
      "regularization_factors, val_score: 0.233589:  90%|#################################3   | 18/20 [00:13<00:01,  1.39it/s]"
     ]
    },
    {
     "name": "stdout",
     "output_type": "stream",
     "text": [
      "[200]\tcv_agg's l2: 0.235 + 0.0562873\n",
      "Early stopping, best iteration is:\n",
      "[170]\tcv_agg's l2: 0.233589 + 0.0566305\n",
      "[100]\tcv_agg's l2: 0.240738 + 0.0583625\n"
     ]
    },
    {
     "name": "stderr",
     "output_type": "stream",
     "text": [
      "regularization_factors, val_score: 0.233589:  95%|###################################1 | 19/20 [00:13<00:00,  1.39it/s][I 2023-10-28 22:06:49,627] Trial 61 finished with value: 0.23358907500321502 and parameters: {'lambda_l1': 1.213973412639573e-08, 'lambda_l2': 4.583603127198695e-05}. Best is trial 57 with value: 0.23358903285886984.\n",
      "regularization_factors, val_score: 0.233589:  95%|###################################1 | 19/20 [00:13<00:00,  1.39it/s]"
     ]
    },
    {
     "name": "stdout",
     "output_type": "stream",
     "text": [
      "[200]\tcv_agg's l2: 0.234791 + 0.0559008\n",
      "Early stopping, best iteration is:\n",
      "[170]\tcv_agg's l2: 0.233589 + 0.0566305\n",
      "[100]\tcv_agg's l2: 0.240738 + 0.0583624\n"
     ]
    },
    {
     "name": "stderr",
     "output_type": "stream",
     "text": [
      "regularization_factors, val_score: 0.233589: 100%|#####################################| 20/20 [00:14<00:00,  1.32it/s]"
     ]
    },
    {
     "name": "stdout",
     "output_type": "stream",
     "text": [
      "[200]\tcv_agg's l2: 0.235 + 0.0562873\n",
      "Early stopping, best iteration is:\n",
      "[170]\tcv_agg's l2: 0.233589 + 0.0566305\n"
     ]
    },
    {
     "name": "stderr",
     "output_type": "stream",
     "text": [
      "[I 2023-10-28 22:06:50,469] Trial 62 finished with value: 0.234090322455911 and parameters: {'lambda_l1': 1.0550677018242541e-07, 'lambda_l2': 0.00014816025316394406}. Best is trial 57 with value: 0.23358903285886984.\n",
      "regularization_factors, val_score: 0.233589: 100%|#####################################| 20/20 [00:14<00:00,  1.36it/s]\n",
      "min_data_in_leaf, val_score: 0.233589:   0%|                                                     | 0/5 [00:00<?, ?it/s]"
     ]
    },
    {
     "name": "stdout",
     "output_type": "stream",
     "text": [
      "[100]\tcv_agg's l2: 0.339926 + 0.0945044\n"
     ]
    },
    {
     "name": "stderr",
     "output_type": "stream",
     "text": [
      "min_data_in_leaf, val_score: 0.233589:  20%|#########                                    | 1/5 [00:00<00:02,  1.44it/s]"
     ]
    },
    {
     "name": "stdout",
     "output_type": "stream",
     "text": [
      "[200]\tcv_agg's l2: 0.335893 + 0.0855783\n",
      "Early stopping, best iteration is:\n",
      "[170]\tcv_agg's l2: 0.233589 + 0.0566305\n"
     ]
    },
    {
     "name": "stderr",
     "output_type": "stream",
     "text": [
      "[I 2023-10-28 22:06:51,171] Trial 63 finished with value: 0.3367400322198426 and parameters: {'min_child_samples': 50}. Best is trial 63 with value: 0.3367400322198426.\n",
      "min_data_in_leaf, val_score: 0.233589:  20%|#########                                    | 1/5 [00:00<00:02,  1.44it/s]"
     ]
    },
    {
     "name": "stdout",
     "output_type": "stream",
     "text": [
      "[100]\tcv_agg's l2: 0.824958 + 0.07797\n",
      "[200]\tcv_agg's l2: 0.798208 + 0.0849792\n"
     ]
    },
    {
     "name": "stderr",
     "output_type": "stream",
     "text": [
      "min_data_in_leaf, val_score: 0.233589:  40%|##################                           | 2/5 [00:01<00:01,  1.64it/s][I 2023-10-28 22:06:51,724] Trial 64 finished with value: 0.803385569491625 and parameters: {'min_child_samples': 100}. Best is trial 63 with value: 0.3367400322198426.\n",
      "min_data_in_leaf, val_score: 0.233589:  40%|##################                           | 2/5 [00:01<00:01,  1.64it/s]"
     ]
    },
    {
     "name": "stdout",
     "output_type": "stream",
     "text": [
      "Early stopping, best iteration is:\n",
      "[170]\tcv_agg's l2: 0.233589 + 0.0566305\n",
      "[100]\tcv_agg's l2: 0.223575 + 0.0620636\n",
      "[200]\tcv_agg's l2: 0.2195 + 0.0583161\n"
     ]
    },
    {
     "name": "stderr",
     "output_type": "stream",
     "text": [
      "min_data_in_leaf, val_score: 0.218177:  60%|###########################                  | 3/5 [00:02<00:01,  1.44it/s][I 2023-10-28 22:06:52,521] Trial 65 finished with value: 0.21817728087148466 and parameters: {'min_child_samples': 5}. Best is trial 65 with value: 0.21817728087148466.\n",
      "min_data_in_leaf, val_score: 0.218177:  60%|###########################                  | 3/5 [00:02<00:01,  1.44it/s]"
     ]
    },
    {
     "name": "stdout",
     "output_type": "stream",
     "text": [
      "[300]\tcv_agg's l2: 0.219317 + 0.0554772\n",
      "Early stopping, best iteration is:\n",
      "[224]\tcv_agg's l2: 0.218177 + 0.0572032\n",
      "[100]\tcv_agg's l2: 0.230201 + 0.067061\n",
      "[200]\tcv_agg's l2: 0.225857 + 0.0597439\n"
     ]
    },
    {
     "name": "stderr",
     "output_type": "stream",
     "text": [
      "min_data_in_leaf, val_score: 0.218177:  80%|####################################         | 4/5 [00:02<00:00,  1.36it/s][I 2023-10-28 22:06:53,313] Trial 66 finished with value: 0.2256424387131896 and parameters: {'min_child_samples': 10}. Best is trial 65 with value: 0.21817728087148466.\n",
      "min_data_in_leaf, val_score: 0.218177:  80%|####################################         | 4/5 [00:02<00:00,  1.36it/s]"
     ]
    },
    {
     "name": "stdout",
     "output_type": "stream",
     "text": [
      "[300]\tcv_agg's l2: 0.228606 + 0.0578938\n",
      "Early stopping, best iteration is:\n",
      "[224]\tcv_agg's l2: 0.218177 + 0.0572032\n",
      "[100]\tcv_agg's l2: 0.265553 + 0.0727211\n",
      "[200]\tcv_agg's l2: 0.265102 + 0.0744269\n"
     ]
    },
    {
     "name": "stderr",
     "output_type": "stream",
     "text": [
      "min_data_in_leaf, val_score: 0.218177: 100%|#############################################| 5/5 [00:03<00:00,  1.21it/s][I 2023-10-28 22:06:54,309] Trial 67 finished with value: 0.2644657370899352 and parameters: {'min_child_samples': 25}. Best is trial 65 with value: 0.21817728087148466.\n",
      "min_data_in_leaf, val_score: 0.218177: 100%|#############################################| 5/5 [00:03<00:00,  1.30it/s]"
     ]
    },
    {
     "name": "stdout",
     "output_type": "stream",
     "text": [
      "[300]\tcv_agg's l2: 0.265294 + 0.0739907\n",
      "Early stopping, best iteration is:\n",
      "[224]\tcv_agg's l2: 0.218177 + 0.0572032\n"
     ]
    },
    {
     "name": "stderr",
     "output_type": "stream",
     "text": [
      "\n"
     ]
    }
   ],
   "source": [
    "import optuna.integration.lightgbm as lgb\n",
    "from lightgbm import early_stopping\n",
    "from sklearn.model_selection import KFold\n",
    "from sklearn.model_selection import RepeatedKFold\n",
    "\n",
    "\n",
    "lgb_train = lgb.Dataset(X_train_random_split, y_train_random_split)\n",
    "\n",
    "params = {\n",
    "    \"boosting_type\": \"gbdt\",\n",
    "    \"objective\": \"regression\",\n",
    "    \"metric\": \"l2\",\n",
    "    \"verbosity\": -1,\n",
    "}\n",
    "\n",
    "tuner = lgb.LightGBMTunerCV(\n",
    "    params,\n",
    "    lgb_train,\n",
    "    folds=KFold(n_splits=5),\n",
    "    num_boost_round=10000,\n",
    "    callbacks=[early_stopping(100), log_evaluation(100)],\n",
    ")\n",
    "\n",
    "tuner.run()"
   ]
  },
  {
   "cell_type": "code",
   "execution_count": 58,
   "id": "0079a348",
   "metadata": {},
   "outputs": [
    {
     "name": "stdout",
     "output_type": "stream",
     "text": [
      "Best score: 0.21817728087148466\n",
      "Params: \n",
      "    boosting_type: gbdt\n",
      "    objective: regression\n",
      "    metric: l2\n",
      "    verbosity: -1\n",
      "    feature_pre_filter: False\n",
      "    lambda_l1: 1.028209916846971e-08\n",
      "    lambda_l2: 0.00013356797694242544\n",
      "    num_leaves: 9\n",
      "    feature_fraction: 0.7\n",
      "    bagging_fraction: 0.9924820716277776\n",
      "    bagging_freq: 7\n",
      "    min_child_samples: 5\n"
     ]
    }
   ],
   "source": [
    "print(f\"Best score: {tuner.best_score}\")\n",
    "best_params = tuner.best_params\n",
    "print(\"Params: \")\n",
    "for key, value in best_params.items():\n",
    "    print(\"    {}: {}\".format(key, value))"
   ]
  },
  {
   "cell_type": "code",
   "execution_count": 59,
   "id": "ee599f57",
   "metadata": {},
   "outputs": [],
   "source": [
    "import lightgbm as lgb\n",
    "\n",
    "lgb_tuned = lgb.train(\n",
    "    best_params,\n",
    "    lgb_train,\n",
    "    num_boost_round=10000,\n",
    ")"
   ]
  },
  {
   "cell_type": "code",
   "execution_count": 60,
   "id": "f18b0204",
   "metadata": {},
   "outputs": [
    {
     "name": "stdout",
     "output_type": "stream",
     "text": [
      "RMSE train: 0.00\n",
      "RMSE test: 0.48\n",
      "MSE test: 0.23\n",
      "MAE test: 0.31\n",
      "\n"
     ]
    }
   ],
   "source": [
    "rmse, mse, mae = assess_regression_model(\n",
    "    lgb_tuned,\n",
    "    X_train_random_split,\n",
    "    X_test_random_split,\n",
    "    y_train_random_split,\n",
    "    y_test_random_split,\n",
    ")"
   ]
  },
  {
   "cell_type": "code",
   "execution_count": 61,
   "id": "13d87eed",
   "metadata": {},
   "outputs": [],
   "source": [
    "results.loc[4] = [\"random\", \"Optuna\", len(X_test.columns), mse, rmse, mae]"
   ]
  },
  {
   "cell_type": "code",
   "execution_count": 62,
   "id": "061d7eba",
   "metadata": {},
   "outputs": [
    {
     "name": "stdout",
     "output_type": "stream",
     "text": [
      "Normal:\n",
      "MSE: 0.10\n",
      "RMSE: 0.32\n",
      "\n",
      "Round type: round\n",
      "MSE: 0.11\n",
      "RMSE: 0.33\n",
      "\n",
      "Round type: 0.33\n",
      "MSE: 0.12\n",
      "RMSE: 0.35\n",
      "\n",
      "Round type: 0.45\n",
      "MSE: 0.12\n",
      "RMSE: 0.34\n",
      "\n"
     ]
    }
   ],
   "source": [
    "predict = lgb_tuned.predict(X_test)\n",
    "check_round_predictions([\"round\", 0.33, 0.45], y_test, predict)"
   ]
  },
  {
   "cell_type": "code",
   "execution_count": 63,
   "id": "9d56b725",
   "metadata": {},
   "outputs": [
    {
     "data": {
      "image/png": "[encoded data removed]",
      "text/plain": [
       "<Figure size 432x288 with 2 Axes>"
      ]
     },
     "metadata": {
      "needs_background": "light"
     },
     "output_type": "display_data"
    }
   ],
   "source": [
    "plot_confusion_matrix(\"round\", predict, y_test)"
   ]
  },
  {
   "cell_type": "markdown",
   "id": "ac941229",
   "metadata": {},
   "source": [
    "## Summary"
   ]
  },
  {
   "cell_type": "code",
   "execution_count": 64,
   "id": "90f5111f",
   "metadata": {
    "scrolled": false
   },
   "outputs": [
    {
     "data": {
      "text/html": [
       "<div>\n",
       "<style scoped>\n",
       "    .dataframe tbody tr th:only-of-type {\n",
       "        vertical-align: middle;\n",
       "    }\n",
       "\n",
       "    .dataframe tbody tr th {\n",
       "        vertical-align: top;\n",
       "    }\n",
       "\n",
       "    .dataframe thead th {\n",
       "        text-align: right;\n",
       "    }\n",
       "</style>\n",
       "<table border=\"1\" class=\"dataframe\">\n",
       "  <thead>\n",
       "    <tr style=\"text-align: right;\">\n",
       "      <th></th>\n",
       "      <th>Split type</th>\n",
       "      <th>Tuning type</th>\n",
       "      <th>Number of characteristics</th>\n",
       "      <th>MSE</th>\n",
       "      <th>RMSE</th>\n",
       "      <th>MAE</th>\n",
       "    </tr>\n",
       "  </thead>\n",
       "  <tbody>\n",
       "    <tr>\n",
       "      <th>0</th>\n",
       "      <td>chronological</td>\n",
       "      <td>normal</td>\n",
       "      <td>8</td>\n",
       "      <td>0.447566</td>\n",
       "      <td>0.669004</td>\n",
       "      <td>0.467604</td>\n",
       "    </tr>\n",
       "    <tr>\n",
       "      <th>1</th>\n",
       "      <td>chronological</td>\n",
       "      <td>Optuna</td>\n",
       "      <td>8</td>\n",
       "      <td>0.430300</td>\n",
       "      <td>0.655973</td>\n",
       "      <td>0.451230</td>\n",
       "    </tr>\n",
       "    <tr>\n",
       "      <th>3</th>\n",
       "      <td>random</td>\n",
       "      <td>normal</td>\n",
       "      <td>8</td>\n",
       "      <td>0.238538</td>\n",
       "      <td>0.488404</td>\n",
       "      <td>0.336785</td>\n",
       "    </tr>\n",
       "    <tr>\n",
       "      <th>4</th>\n",
       "      <td>random</td>\n",
       "      <td>Optuna</td>\n",
       "      <td>8</td>\n",
       "      <td>0.231122</td>\n",
       "      <td>0.480751</td>\n",
       "      <td>0.312252</td>\n",
       "    </tr>\n",
       "  </tbody>\n",
       "</table>\n",
       "</div>"
      ],
      "text/plain": [
       "      Split type Tuning type  Number of characteristics       MSE      RMSE  \\\n",
       "0  chronological      normal                          8  0.447566  0.669004   \n",
       "1  chronological      Optuna                          8  0.430300  0.655973   \n",
       "3         random      normal                          8  0.238538  0.488404   \n",
       "4         random      Optuna                          8  0.231122  0.480751   \n",
       "\n",
       "        MAE  \n",
       "0  0.467604  \n",
       "1  0.451230  \n",
       "3  0.336785  \n",
       "4  0.312252  "
      ]
     },
     "execution_count": 64,
     "metadata": {},
     "output_type": "execute_result"
    }
   ],
   "source": [
    "results"
   ]
  },
  {
   "cell_type": "code",
   "execution_count": 65,
   "id": "492161ff",
   "metadata": {},
   "outputs": [],
   "source": [
    "from training.results import plot_summary"
   ]
  },
  {
   "cell_type": "code",
   "execution_count": 66,
   "id": "df15e1a7",
   "metadata": {},
   "outputs": [
    {
     "data": {
      "image/png": "[encoded data removed]",
      "text/plain": [
       "<Figure size 1440x576 with 1 Axes>"
      ]
     },
     "metadata": {
      "needs_background": "light"
     },
     "output_type": "display_data"
    }
   ],
   "source": [
    "plot_summary(results, \"MSE\")"
   ]
  },
  {
   "cell_type": "code",
   "execution_count": 67,
   "id": "b44fe7c4",
   "metadata": {},
   "outputs": [
    {
     "data": {
      "image/png": "[encoded data removed]",
      "text/plain": [
       "<Figure size 1440x576 with 1 Axes>"
      ]
     },
     "metadata": {
      "needs_background": "light"
     },
     "output_type": "display_data"
    }
   ],
   "source": [
    "plot_summary(results, \"RMSE\")"
   ]
  },
  {
   "cell_type": "code",
   "execution_count": 68,
   "id": "d3509e28",
   "metadata": {},
   "outputs": [
    {
     "data": {
      "image/png": "[encoded data removed]",
      "text/plain": [
       "<Figure size 1440x576 with 1 Axes>"
      ]
     },
     "metadata": {
      "needs_background": "light"
     },
     "output_type": "display_data"
    }
   ],
   "source": [
    "plot_summary(results, \"MAE\")"
   ]
  },
  {
   "cell_type": "code",
   "execution_count": null,
   "id": "a8ce3754",
   "metadata": {},
   "outputs": [],
   "source": []
  },
  {
   "cell_type": "code",
   "execution_count": 69,
   "id": "c714119e",
   "metadata": {},
   "outputs": [],
   "source": [
    "results.to_json(\"./lightgbm_basic_results.json\")"
   ]
  },
  {
   "cell_type": "code",
   "execution_count": null,
   "id": "7bf01482",
   "metadata": {},
   "outputs": [],
   "source": []
  }
 ],
 "metadata": {
  "kernelspec": {
   "display_name": "Python 3 (ipykernel)",
   "language": "python",
   "name": "python3"
  },
  "language_info": {
   "codemirror_mode": {
    "name": "ipython",
    "version": 3
   },
   "file_extension": ".py",
   "mimetype": "text/x-python",
   "name": "python",
   "nbconvert_exporter": "python",
   "pygments_lexer": "ipython3",
   "version": "3.10.4"
  }
 },
 "nbformat": 4,
 "nbformat_minor": 5
}
