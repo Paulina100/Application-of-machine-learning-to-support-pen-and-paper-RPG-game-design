{
 "cells": [
  {
   "cell_type": "markdown",
   "id": "f64a671f",
   "metadata": {},
   "source": [
    "# LightGBM\n",
    "### Parameters:\n",
    "* **abilities**:\n",
    "    * **cha**\n",
    "    * **con**\n",
    "    * **dex**\n",
    "    * **int**\n",
    "    * **str**\n",
    "    * **wis**\n",
    "* **attributes**\n",
    "    * **hp**\n",
    "    * **ac**\n",
    "\n",
    "### Prediction: *level*\n",
    "\n",
    "## Loading data"
   ]
  },
  {
   "cell_type": "code",
   "execution_count": 1,
   "id": "1f2515e7",
   "metadata": {},
   "outputs": [],
   "source": [
    "import numpy as np\n",
    "import pandas as pd\n",
    "import sys\n",
    "\n",
    "import os\n",
    "import pathlib\n",
    "\n",
    "sys.path.append(\"../../..\")\n",
    "from training.creating_dataset import load_and_preprocess_data\n",
    "\n",
    "current_path = os.getcwd()\n",
    "DATASETS_DIR = pathlib.Path(current_path).parent.parent.parent / \"pathfinder_2e_data\"\n",
    "DATASET_FILES = [\n",
    "    \"pathfinder-bestiary.db\",\n",
    "    \"pathfinder-bestiary-2.db\",\n",
    "    \"pathfinder-bestiary-3.db\",\n",
    "]\n",
    "DATASET_PATHS = [f\"{DATASETS_DIR}/{file}\" for file in DATASET_FILES]\n",
    "characteristics = [\n",
    "    \"cha\",\n",
    "    \"con\",\n",
    "    \"dex\",\n",
    "    \"int\",\n",
    "    \"str\",\n",
    "    \"wis\",\n",
    "    \"ac\",\n",
    "    \"hp\",\n",
    "]\n",
    "\n",
    "df = load_and_preprocess_data(\n",
    "    DATASET_PATHS,\n",
    "    characteristics=characteristics,\n",
    ")"
   ]
  },
  {
   "cell_type": "code",
   "execution_count": 2,
   "id": "b522f880",
   "metadata": {},
   "outputs": [
    {
     "name": "stdout",
     "output_type": "stream",
     "text": [
      "<class 'pandas.core.frame.DataFrame'>\n",
      "Int64Index: 1206 entries, 0 to 1205\n",
      "Data columns (total 10 columns):\n",
      " #   Column  Non-Null Count  Dtype \n",
      "---  ------  --------------  ----- \n",
      " 0   str     1206 non-null   int64 \n",
      " 1   cha     1206 non-null   int64 \n",
      " 2   ac      1206 non-null   int64 \n",
      " 3   con     1206 non-null   int64 \n",
      " 4   book    1206 non-null   object\n",
      " 5   level   1206 non-null   int64 \n",
      " 6   dex     1206 non-null   int64 \n",
      " 7   wis     1206 non-null   int64 \n",
      " 8   hp      1206 non-null   int64 \n",
      " 9   int     1206 non-null   int64 \n",
      "dtypes: int64(9), object(1)\n",
      "memory usage: 103.6+ KB\n"
     ]
    }
   ],
   "source": [
    "df.info()"
   ]
  },
  {
   "cell_type": "code",
   "execution_count": 3,
   "id": "1b5450d3",
   "metadata": {},
   "outputs": [
    {
     "data": {
      "text/html": [
       "<div>\n",
       "<style scoped>\n",
       "    .dataframe tbody tr th:only-of-type {\n",
       "        vertical-align: middle;\n",
       "    }\n",
       "\n",
       "    .dataframe tbody tr th {\n",
       "        vertical-align: top;\n",
       "    }\n",
       "\n",
       "    .dataframe thead th {\n",
       "        text-align: right;\n",
       "    }\n",
       "</style>\n",
       "<table border=\"1\" class=\"dataframe\">\n",
       "  <thead>\n",
       "    <tr style=\"text-align: right;\">\n",
       "      <th></th>\n",
       "      <th>str</th>\n",
       "      <th>cha</th>\n",
       "      <th>ac</th>\n",
       "      <th>con</th>\n",
       "      <th>book</th>\n",
       "      <th>level</th>\n",
       "      <th>dex</th>\n",
       "      <th>wis</th>\n",
       "      <th>hp</th>\n",
       "      <th>int</th>\n",
       "    </tr>\n",
       "  </thead>\n",
       "  <tbody>\n",
       "    <tr>\n",
       "      <th>0</th>\n",
       "      <td>7</td>\n",
       "      <td>1</td>\n",
       "      <td>29</td>\n",
       "      <td>5</td>\n",
       "      <td>Pathfinder Bestiary</td>\n",
       "      <td>10</td>\n",
       "      <td>2</td>\n",
       "      <td>2</td>\n",
       "      <td>215</td>\n",
       "      <td>1</td>\n",
       "    </tr>\n",
       "    <tr>\n",
       "      <th>1</th>\n",
       "      <td>9</td>\n",
       "      <td>1</td>\n",
       "      <td>28</td>\n",
       "      <td>5</td>\n",
       "      <td>Pathfinder Bestiary</td>\n",
       "      <td>10</td>\n",
       "      <td>0</td>\n",
       "      <td>2</td>\n",
       "      <td>220</td>\n",
       "      <td>-4</td>\n",
       "    </tr>\n",
       "    <tr>\n",
       "      <th>2</th>\n",
       "      <td>7</td>\n",
       "      <td>-2</td>\n",
       "      <td>25</td>\n",
       "      <td>6</td>\n",
       "      <td>Pathfinder Bestiary</td>\n",
       "      <td>8</td>\n",
       "      <td>3</td>\n",
       "      <td>3</td>\n",
       "      <td>175</td>\n",
       "      <td>-4</td>\n",
       "    </tr>\n",
       "    <tr>\n",
       "      <th>3</th>\n",
       "      <td>7</td>\n",
       "      <td>6</td>\n",
       "      <td>41</td>\n",
       "      <td>5</td>\n",
       "      <td>Pathfinder Bestiary</td>\n",
       "      <td>17</td>\n",
       "      <td>4</td>\n",
       "      <td>5</td>\n",
       "      <td>315</td>\n",
       "      <td>6</td>\n",
       "    </tr>\n",
       "    <tr>\n",
       "      <th>4</th>\n",
       "      <td>-5</td>\n",
       "      <td>1</td>\n",
       "      <td>16</td>\n",
       "      <td>1</td>\n",
       "      <td>Pathfinder Bestiary</td>\n",
       "      <td>1</td>\n",
       "      <td>3</td>\n",
       "      <td>1</td>\n",
       "      <td>20</td>\n",
       "      <td>-1</td>\n",
       "    </tr>\n",
       "  </tbody>\n",
       "</table>\n",
       "</div>"
      ],
      "text/plain": [
       "   str  cha  ac  con                 book  level  dex  wis   hp  int\n",
       "0    7    1  29    5  Pathfinder Bestiary     10    2    2  215    1\n",
       "1    9    1  28    5  Pathfinder Bestiary     10    0    2  220   -4\n",
       "2    7   -2  25    6  Pathfinder Bestiary      8    3    3  175   -4\n",
       "3    7    6  41    5  Pathfinder Bestiary     17    4    5  315    6\n",
       "4   -5    1  16    1  Pathfinder Bestiary      1    3    1   20   -1"
      ]
     },
     "execution_count": 3,
     "metadata": {},
     "output_type": "execute_result"
    }
   ],
   "source": [
    "df.head()"
   ]
  },
  {
   "cell_type": "markdown",
   "id": "0caa661f",
   "metadata": {},
   "source": [
    "###### Level"
   ]
  },
  {
   "cell_type": "code",
   "execution_count": 4,
   "id": "c200d2b4",
   "metadata": {},
   "outputs": [
    {
     "data": {
      "text/plain": [
       "0       10\n",
       "1       10\n",
       "2        8\n",
       "3       17\n",
       "4        1\n",
       "        ..\n",
       "1201    20\n",
       "1202    -1\n",
       "1203    12\n",
       "1204     6\n",
       "1205     6\n",
       "Name: level, Length: 1206, dtype: int64"
      ]
     },
     "execution_count": 4,
     "metadata": {},
     "output_type": "execute_result"
    }
   ],
   "source": [
    "y = df[\"level\"]\n",
    "y"
   ]
  },
  {
   "cell_type": "code",
   "execution_count": 5,
   "id": "553822a7",
   "metadata": {},
   "outputs": [],
   "source": [
    "from collections import defaultdict\n",
    "\n",
    "\n",
    "lvl_stat = defaultdict(lambda: 0)\n",
    "\n",
    "for lvl in y:\n",
    "    lvl_stat[lvl] += 1"
   ]
  },
  {
   "cell_type": "code",
   "execution_count": 6,
   "id": "e45d6c29",
   "metadata": {},
   "outputs": [
    {
     "data": {
      "text/html": [
       "<div>\n",
       "<style scoped>\n",
       "    .dataframe tbody tr th:only-of-type {\n",
       "        vertical-align: middle;\n",
       "    }\n",
       "\n",
       "    .dataframe tbody tr th {\n",
       "        vertical-align: top;\n",
       "    }\n",
       "\n",
       "    .dataframe thead th {\n",
       "        text-align: right;\n",
       "    }\n",
       "</style>\n",
       "<table border=\"1\" class=\"dataframe\">\n",
       "  <thead>\n",
       "    <tr style=\"text-align: right;\">\n",
       "      <th></th>\n",
       "      <th>lvl</th>\n",
       "      <th>count</th>\n",
       "    </tr>\n",
       "  </thead>\n",
       "  <tbody>\n",
       "    <tr>\n",
       "      <th>0</th>\n",
       "      <td>-1</td>\n",
       "      <td>34</td>\n",
       "    </tr>\n",
       "    <tr>\n",
       "      <th>1</th>\n",
       "      <td>0</td>\n",
       "      <td>27</td>\n",
       "    </tr>\n",
       "    <tr>\n",
       "      <th>2</th>\n",
       "      <td>1</td>\n",
       "      <td>127</td>\n",
       "    </tr>\n",
       "    <tr>\n",
       "      <th>3</th>\n",
       "      <td>2</td>\n",
       "      <td>121</td>\n",
       "    </tr>\n",
       "    <tr>\n",
       "      <th>4</th>\n",
       "      <td>3</td>\n",
       "      <td>95</td>\n",
       "    </tr>\n",
       "    <tr>\n",
       "      <th>5</th>\n",
       "      <td>4</td>\n",
       "      <td>82</td>\n",
       "    </tr>\n",
       "    <tr>\n",
       "      <th>6</th>\n",
       "      <td>5</td>\n",
       "      <td>76</td>\n",
       "    </tr>\n",
       "    <tr>\n",
       "      <th>7</th>\n",
       "      <td>6</td>\n",
       "      <td>72</td>\n",
       "    </tr>\n",
       "    <tr>\n",
       "      <th>8</th>\n",
       "      <td>7</td>\n",
       "      <td>77</td>\n",
       "    </tr>\n",
       "    <tr>\n",
       "      <th>9</th>\n",
       "      <td>8</td>\n",
       "      <td>68</td>\n",
       "    </tr>\n",
       "    <tr>\n",
       "      <th>10</th>\n",
       "      <td>9</td>\n",
       "      <td>63</td>\n",
       "    </tr>\n",
       "    <tr>\n",
       "      <th>11</th>\n",
       "      <td>10</td>\n",
       "      <td>58</td>\n",
       "    </tr>\n",
       "    <tr>\n",
       "      <th>12</th>\n",
       "      <td>11</td>\n",
       "      <td>40</td>\n",
       "    </tr>\n",
       "    <tr>\n",
       "      <th>13</th>\n",
       "      <td>12</td>\n",
       "      <td>41</td>\n",
       "    </tr>\n",
       "    <tr>\n",
       "      <th>14</th>\n",
       "      <td>13</td>\n",
       "      <td>36</td>\n",
       "    </tr>\n",
       "    <tr>\n",
       "      <th>15</th>\n",
       "      <td>14</td>\n",
       "      <td>33</td>\n",
       "    </tr>\n",
       "    <tr>\n",
       "      <th>16</th>\n",
       "      <td>15</td>\n",
       "      <td>31</td>\n",
       "    </tr>\n",
       "    <tr>\n",
       "      <th>17</th>\n",
       "      <td>16</td>\n",
       "      <td>25</td>\n",
       "    </tr>\n",
       "    <tr>\n",
       "      <th>18</th>\n",
       "      <td>17</td>\n",
       "      <td>21</td>\n",
       "    </tr>\n",
       "    <tr>\n",
       "      <th>19</th>\n",
       "      <td>18</td>\n",
       "      <td>21</td>\n",
       "    </tr>\n",
       "    <tr>\n",
       "      <th>20</th>\n",
       "      <td>19</td>\n",
       "      <td>18</td>\n",
       "    </tr>\n",
       "    <tr>\n",
       "      <th>21</th>\n",
       "      <td>20</td>\n",
       "      <td>24</td>\n",
       "    </tr>\n",
       "    <tr>\n",
       "      <th>22</th>\n",
       "      <td>21</td>\n",
       "      <td>16</td>\n",
       "    </tr>\n",
       "  </tbody>\n",
       "</table>\n",
       "</div>"
      ],
      "text/plain": [
       "    lvl  count\n",
       "0    -1     34\n",
       "1     0     27\n",
       "2     1    127\n",
       "3     2    121\n",
       "4     3     95\n",
       "5     4     82\n",
       "6     5     76\n",
       "7     6     72\n",
       "8     7     77\n",
       "9     8     68\n",
       "10    9     63\n",
       "11   10     58\n",
       "12   11     40\n",
       "13   12     41\n",
       "14   13     36\n",
       "15   14     33\n",
       "16   15     31\n",
       "17   16     25\n",
       "18   17     21\n",
       "19   18     21\n",
       "20   19     18\n",
       "21   20     24\n",
       "22   21     16"
      ]
     },
     "execution_count": 6,
     "metadata": {},
     "output_type": "execute_result"
    }
   ],
   "source": [
    "level_count = pd.DataFrame(\n",
    "    data={\n",
    "        \"lvl\": [key for key in sorted(lvl_stat.keys())],\n",
    "        \"count\": [lvl_stat.get(key) for key in sorted(lvl_stat.keys())],\n",
    "    }\n",
    ")\n",
    "level_count"
   ]
  },
  {
   "cell_type": "code",
   "execution_count": 7,
   "id": "bdbfe8de",
   "metadata": {},
   "outputs": [
    {
     "data": {
      "image/png": "[encoded data removed]",
      "text/plain": [
       "<Figure size 432x288 with 1 Axes>"
      ]
     },
     "metadata": {
      "needs_background": "light"
     },
     "output_type": "display_data"
    }
   ],
   "source": [
    "import matplotlib.pyplot as plt\n",
    "\n",
    "\n",
    "level_count.plot.bar(x=\"lvl\", y=\"count\", title=\"Count of levels\")\n",
    "plt.show()"
   ]
  },
  {
   "cell_type": "markdown",
   "id": "9fdb6541",
   "metadata": {},
   "source": [
    "## Train test split"
   ]
  },
  {
   "cell_type": "markdown",
   "id": "18f56629",
   "metadata": {},
   "source": [
    "### Chronological split"
   ]
  },
  {
   "cell_type": "code",
   "execution_count": 8,
   "id": "dcda359b",
   "metadata": {},
   "outputs": [],
   "source": [
    "from training.splitting_dataset import split_dataframe\n",
    "\n",
    "\n",
    "os.chdir(\"../../../training\")\n",
    "X_train, X_test, y_train, y_test = split_dataframe(df, test_size=0.31)\n",
    "os.chdir(\"../notebooks/models/lightgbm\")"
   ]
  },
  {
   "cell_type": "code",
   "execution_count": 9,
   "id": "17dbc875",
   "metadata": {},
   "outputs": [],
   "source": [
    "X_train = X_train.drop(columns=[\"book\"])\n",
    "X_test = X_test.drop(columns=[\"book\"])"
   ]
  },
  {
   "cell_type": "markdown",
   "id": "25879636",
   "metadata": {},
   "source": [
    "### Random split"
   ]
  },
  {
   "cell_type": "code",
   "execution_count": 10,
   "id": "982ec5eb",
   "metadata": {},
   "outputs": [],
   "source": [
    "(\n",
    "    X_train_random_split,\n",
    "    X_test_random_split,\n",
    "    y_train_random_split,\n",
    "    y_test_random_split,\n",
    ") = split_dataframe(df, chronological_split=False)"
   ]
  },
  {
   "cell_type": "code",
   "execution_count": 11,
   "id": "90569e78",
   "metadata": {},
   "outputs": [],
   "source": [
    "X_train_random_split = X_train_random_split.drop(columns=[\"book\"])\n",
    "X_test_random_split = X_test_random_split.drop(columns=[\"book\"])"
   ]
  },
  {
   "cell_type": "markdown",
   "id": "9b259fbf",
   "metadata": {},
   "source": [
    "## LightGBM"
   ]
  },
  {
   "cell_type": "markdown",
   "id": "14f37d9b",
   "metadata": {},
   "source": [
    "## Chronological split"
   ]
  },
  {
   "cell_type": "code",
   "execution_count": 12,
   "id": "2bc4c90e",
   "metadata": {},
   "outputs": [
    {
     "name": "stdout",
     "output_type": "stream",
     "text": [
      "[LightGBM] [Warning] Auto-choosing col-wise multi-threading, the overhead of testing was 0.000281 seconds.\n",
      "You can set `force_col_wise=true` to remove the overhead.\n",
      "[LightGBM] [Info] Total Bins 224\n",
      "[LightGBM] [Info] Number of data points in the train set: 841, number of used features: 8\n",
      "[LightGBM] [Info] Start training from score 6.966706\n",
      "Training until validation scores don't improve for 5 rounds\n",
      "[LightGBM] [Warning] No further splits with positive gain, best gain: -inf\n",
      "[LightGBM] [Warning] No further splits with positive gain, best gain: -inf\n",
      "[LightGBM] [Warning] No further splits with positive gain, best gain: -inf\n",
      "[LightGBM] [Warning] No further splits with positive gain, best gain: -inf\n",
      "[LightGBM] [Warning] No further splits with positive gain, best gain: -inf\n",
      "[LightGBM] [Warning] No further splits with positive gain, best gain: -inf\n",
      "[LightGBM] [Warning] No further splits with positive gain, best gain: -inf\n",
      "[LightGBM] [Warning] No further splits with positive gain, best gain: -inf\n",
      "[LightGBM] [Warning] No further splits with positive gain, best gain: -inf\n",
      "[LightGBM] [Warning] No further splits with positive gain, best gain: -inf\n",
      "[LightGBM] [Warning] No further splits with positive gain, best gain: -inf\n",
      "[LightGBM] [Warning] No further splits with positive gain, best gain: -inf\n",
      "Early stopping, best iteration is:\n",
      "[48]\tvalid_0's l1: 0.467604\tvalid_0's l2: 0.447566\n"
     ]
    }
   ],
   "source": [
    "import lightgbm as lgb\n",
    "\n",
    "lgb_train = lgb.Dataset(X_train, y_train)\n",
    "lgb_eval = lgb.Dataset(X_test, y_test, reference=lgb_train)\n",
    "\n",
    "params = {\n",
    "    \"boosting_type\": \"gbdt\",\n",
    "    \"objective\": \"regression\",\n",
    "    \"metric\": {\"l2\", \"l1\"},\n",
    "}\n",
    "\n",
    "gbm = lgb.train(\n",
    "    params,\n",
    "    lgb_train,\n",
    "    num_boost_round=100,\n",
    "    valid_sets=lgb_eval,\n",
    "    callbacks=[lgb.early_stopping(stopping_rounds=5)],\n",
    ")"
   ]
  },
  {
   "cell_type": "code",
   "execution_count": 13,
   "id": "f1ae2eaa",
   "metadata": {},
   "outputs": [],
   "source": [
    "y_pred_train = gbm.predict(X_train, num_iteration=gbm.best_iteration)\n",
    "y_pred_test = gbm.predict(X_test, num_iteration=gbm.best_iteration)"
   ]
  },
  {
   "cell_type": "code",
   "execution_count": 14,
   "id": "ef9d09eb",
   "metadata": {},
   "outputs": [
    {
     "name": "stdout",
     "output_type": "stream",
     "text": [
      "MSE: 0.45\n",
      "RMSE: 0.67\n",
      "MAE: 0.33\n"
     ]
    }
   ],
   "source": [
    "from sklearn.metrics import mean_squared_error, median_absolute_error\n",
    "\n",
    "\n",
    "mse = mean_squared_error(y_test, y_pred_test)\n",
    "rmse = mean_squared_error(y_test, y_pred_test, squared=False)\n",
    "mae = median_absolute_error(y_test, y_pred_test)\n",
    "\n",
    "print(f\"MSE: {mse:.2f}\")\n",
    "print(f\"RMSE: {rmse:.2f}\")\n",
    "print(f\"MAE: {mae:.2f}\")"
   ]
  },
  {
   "cell_type": "code",
   "execution_count": 15,
   "id": "6e288d53",
   "metadata": {},
   "outputs": [],
   "source": [
    "results = pd.DataFrame(\n",
    "    data={\n",
    "        \"Split type\": [],\n",
    "        \"Tuning type\": [],\n",
    "        \"Number of characteristics\": [],\n",
    "        \"MSE\": [],\n",
    "        \"RMSE\": [],\n",
    "        \"MAE\": [],\n",
    "    }\n",
    ")\n",
    "\n",
    "results.loc[0] = [\"chronological\", \"normal\", len(X_test.columns), mse, rmse, mae]"
   ]
  },
  {
   "cell_type": "code",
   "execution_count": 16,
   "id": "78bb7ffa",
   "metadata": {},
   "outputs": [
    {
     "name": "stdout",
     "output_type": "stream",
     "text": [
      "RMSE train: 0.31\n",
      "RMSE test: 0.67\n"
     ]
    }
   ],
   "source": [
    "rmse_train = mean_squared_error(y_train, y_pred_train, squared=False)\n",
    "rmse_test = mean_squared_error(y_test, y_pred_test, squared=False)\n",
    "print(f\"RMSE train: {rmse_train:.2f}\")\n",
    "print(f\"RMSE test: {rmse_test:.2f}\")"
   ]
  },
  {
   "cell_type": "code",
   "execution_count": 17,
   "id": "ec8cab49",
   "metadata": {
    "scrolled": true
   },
   "outputs": [
    {
     "name": "stdout",
     "output_type": "stream",
     "text": [
      "Normal:\n",
      "MSE: 0.45\n",
      "RMSE: 0.67\n",
      "\n",
      "Round type: round\n",
      "MSE: 0.50\n",
      "RMSE: 0.71\n",
      "\n",
      "Round type: 0.33\n",
      "MSE: 0.50\n",
      "RMSE: 0.71\n",
      "\n",
      "Round type: 0.45\n",
      "MSE: 0.48\n",
      "RMSE: 0.70\n",
      "\n"
     ]
    }
   ],
   "source": [
    "from training.results import check_round_predictions, plot_confusion_matrix\n",
    "\n",
    "\n",
    "check_round_predictions([\"round\", 0.33, 0.45], y_test, y_pred_test)"
   ]
  },
  {
   "cell_type": "code",
   "execution_count": 18,
   "id": "9129a0ae",
   "metadata": {},
   "outputs": [
    {
     "data": {
      "image/png": "[encoded data removed]",
      "text/plain": [
       "<Figure size 432x288 with 2 Axes>"
      ]
     },
     "metadata": {
      "needs_background": "light"
     },
     "output_type": "display_data"
    }
   ],
   "source": [
    "plot_confusion_matrix(\"round\", y_pred_test, y_test)"
   ]
  },
  {
   "cell_type": "markdown",
   "id": "aaaf3023",
   "metadata": {},
   "source": [
    "#### Tuning"
   ]
  },
  {
   "cell_type": "code",
   "execution_count": 19,
   "id": "cbd24f9f",
   "metadata": {},
   "outputs": [],
   "source": [
    "from training.results import assess_regression_model"
   ]
  },
  {
   "cell_type": "code",
   "execution_count": 20,
   "id": "10854460",
   "metadata": {},
   "outputs": [
    {
     "name": "stderr",
     "output_type": "stream",
     "text": [
      "[I 2023-10-28 18:25:08,873] A new study created in memory with name: no-name-dd0beb93-c13c-4e02-a710-1505a69d812f\n",
      "feature_fraction, val_score: inf:   0%|                                                          | 0/7 [00:00<?, ?it/s]"
     ]
    },
    {
     "name": "stdout",
     "output_type": "stream",
     "text": [
      "Training until validation scores don't improve for 100 rounds\n",
      "[100]\tcv_agg's l2: 0.227338 + 0.0489485\n",
      "[200]\tcv_agg's l2: 0.223643 + 0.047603\n"
     ]
    },
    {
     "name": "stderr",
     "output_type": "stream",
     "text": [
      "feature_fraction, val_score: 0.223311:  14%|######4                                      | 1/7 [00:01<00:09,  1.65s/it][I 2023-10-28 18:25:10,523] Trial 0 finished with value: 0.22331143163554157 and parameters: {'feature_fraction': 0.8}. Best is trial 0 with value: 0.22331143163554157.\n",
      "feature_fraction, val_score: 0.223311:  14%|######4                                      | 1/7 [00:01<00:09,  1.65s/it]"
     ]
    },
    {
     "name": "stdout",
     "output_type": "stream",
     "text": [
      "[300]\tcv_agg's l2: 0.226379 + 0.0491661\n",
      "Early stopping, best iteration is:\n",
      "[207]\tcv_agg's l2: 0.223311 + 0.0474948\n",
      "[100]\tcv_agg's l2: 0.234102 + 0.0514901\n",
      "[200]\tcv_agg's l2: 0.232555 + 0.0495999\n"
     ]
    },
    {
     "name": "stderr",
     "output_type": "stream",
     "text": [
      "feature_fraction, val_score: 0.223311:  29%|############8                                | 2/7 [00:02<00:07,  1.40s/it][I 2023-10-28 18:25:11,760] Trial 1 finished with value: 0.23294990965742288 and parameters: {'feature_fraction': 1.0}. Best is trial 0 with value: 0.22331143163554157.\n",
      "feature_fraction, val_score: 0.223311:  29%|############8                                | 2/7 [00:02<00:07,  1.40s/it]"
     ]
    },
    {
     "name": "stdout",
     "output_type": "stream",
     "text": [
      "[300]\tcv_agg's l2: 0.234555 + 0.0509719\n",
      "Early stopping, best iteration is:\n",
      "[207]\tcv_agg's l2: 0.223311 + 0.0474948\n",
      "[100]\tcv_agg's l2: 0.227133 + 0.0527111\n",
      "[200]\tcv_agg's l2: 0.221337 + 0.0517455\n"
     ]
    },
    {
     "name": "stderr",
     "output_type": "stream",
     "text": [
      "feature_fraction, val_score: 0.221088:  43%|###################2                         | 3/7 [00:04<00:05,  1.40s/it][I 2023-10-28 18:25:13,146] Trial 2 finished with value: 0.22108786462907504 and parameters: {'feature_fraction': 0.6}. Best is trial 2 with value: 0.22108786462907504.\n",
      "feature_fraction, val_score: 0.221088:  43%|###################2                         | 3/7 [00:04<00:05,  1.40s/it]"
     ]
    },
    {
     "name": "stdout",
     "output_type": "stream",
     "text": [
      "Early stopping, best iteration is:\n",
      "[194]\tcv_agg's l2: 0.221088 + 0.051289\n",
      "[100]\tcv_agg's l2: 0.297439 + 0.041271\n",
      "[200]\tcv_agg's l2: 0.266457 + 0.042124\n"
     ]
    },
    {
     "name": "stderr",
     "output_type": "stream",
     "text": [
      "feature_fraction, val_score: 0.221088:  57%|#########################7                   | 4/7 [00:06<00:05,  1.69s/it][I 2023-10-28 18:25:15,277] Trial 3 finished with value: 0.2677997531696562 and parameters: {'feature_fraction': 0.4}. Best is trial 2 with value: 0.22108786462907504.\n",
      "feature_fraction, val_score: 0.221088:  57%|#########################7                   | 4/7 [00:06<00:05,  1.69s/it]"
     ]
    },
    {
     "name": "stdout",
     "output_type": "stream",
     "text": [
      "Early stopping, best iteration is:\n",
      "[194]\tcv_agg's l2: 0.221088 + 0.051289\n",
      "[100]\tcv_agg's l2: 0.227338 + 0.0489485\n",
      "[200]\tcv_agg's l2: 0.223643 + 0.047603\n"
     ]
    },
    {
     "name": "stderr",
     "output_type": "stream",
     "text": [
      "feature_fraction, val_score: 0.221088:  71%|################################1            | 5/7 [00:08<00:04,  2.01s/it][I 2023-10-28 18:25:17,864] Trial 4 finished with value: 0.223868734316416 and parameters: {'feature_fraction': 0.7}. Best is trial 2 with value: 0.22108786462907504.\n",
      "feature_fraction, val_score: 0.221088:  71%|################################1            | 5/7 [00:08<00:04,  2.01s/it]"
     ]
    },
    {
     "name": "stdout",
     "output_type": "stream",
     "text": [
      "Early stopping, best iteration is:\n",
      "[194]\tcv_agg's l2: 0.221088 + 0.051289\n",
      "[100]\tcv_agg's l2: 0.229599 + 0.046711\n",
      "[200]\tcv_agg's l2: 0.224546 + 0.0450177\n"
     ]
    },
    {
     "name": "stderr",
     "output_type": "stream",
     "text": [
      "feature_fraction, val_score: 0.221088:  86%|######################################5      | 6/7 [00:11<00:02,  2.30s/it][I 2023-10-28 18:25:20,719] Trial 5 finished with value: 0.22460680716938217 and parameters: {'feature_fraction': 0.5}. Best is trial 2 with value: 0.22108786462907504.\n",
      "feature_fraction, val_score: 0.221088:  86%|######################################5      | 6/7 [00:11<00:02,  2.30s/it]"
     ]
    },
    {
     "name": "stdout",
     "output_type": "stream",
     "text": [
      "Early stopping, best iteration is:\n",
      "[194]\tcv_agg's l2: 0.221088 + 0.051289\n",
      "[100]\tcv_agg's l2: 0.226597 + 0.0419196\n",
      "[200]\tcv_agg's l2: 0.225353 + 0.0405822\n"
     ]
    },
    {
     "name": "stderr",
     "output_type": "stream",
     "text": [
      "feature_fraction, val_score: 0.221088: 100%|#############################################| 7/7 [00:14<00:00,  2.47s/it][I 2023-10-28 18:25:23,555] Trial 6 finished with value: 0.22485327788266968 and parameters: {'feature_fraction': 0.8999999999999999}. Best is trial 2 with value: 0.22108786462907504.\n",
      "feature_fraction, val_score: 0.221088: 100%|#############################################| 7/7 [00:14<00:00,  2.10s/it]\n"
     ]
    },
    {
     "name": "stdout",
     "output_type": "stream",
     "text": [
      "Early stopping, best iteration is:\n",
      "[194]\tcv_agg's l2: 0.221088 + 0.051289\n"
     ]
    },
    {
     "name": "stderr",
     "output_type": "stream",
     "text": [
      "num_leaves, val_score: 0.221088:   0%|                                                          | 0/20 [00:00<?, ?it/s]"
     ]
    },
    {
     "name": "stdout",
     "output_type": "stream",
     "text": [
      "[100]\tcv_agg's l2: 0.227133 + 0.0527111\n",
      "[200]\tcv_agg's l2: 0.221337 + 0.0517455\n"
     ]
    },
    {
     "name": "stderr",
     "output_type": "stream",
     "text": [
      "num_leaves, val_score: 0.221088:   5%|##5                                               | 1/20 [00:02<00:53,  2.83s/it][I 2023-10-28 18:25:26,388] Trial 7 finished with value: 0.22108786462907504 and parameters: {'num_leaves': 53}. Best is trial 7 with value: 0.22108786462907504.\n",
      "num_leaves, val_score: 0.221088:   5%|##5                                               | 1/20 [00:02<00:53,  2.83s/it]"
     ]
    },
    {
     "name": "stdout",
     "output_type": "stream",
     "text": [
      "Early stopping, best iteration is:\n",
      "[194]\tcv_agg's l2: 0.221088 + 0.051289\n",
      "[100]\tcv_agg's l2: 0.227133 + 0.0527111\n",
      "[200]\tcv_agg's l2: 0.221337 + 0.0517455\n"
     ]
    },
    {
     "name": "stderr",
     "output_type": "stream",
     "text": [
      "num_leaves, val_score: 0.221088:  10%|#####                                             | 2/20 [00:05<00:51,  2.86s/it][I 2023-10-28 18:25:29,276] Trial 8 finished with value: 0.22108786462907504 and parameters: {'num_leaves': 198}. Best is trial 7 with value: 0.22108786462907504.\n",
      "num_leaves, val_score: 0.221088:  10%|#####                                             | 2/20 [00:05<00:51,  2.86s/it]"
     ]
    },
    {
     "name": "stdout",
     "output_type": "stream",
     "text": [
      "Early stopping, best iteration is:\n",
      "[194]\tcv_agg's l2: 0.221088 + 0.051289\n",
      "[100]\tcv_agg's l2: 0.227133 + 0.0527111\n",
      "[200]\tcv_agg's l2: 0.221337 + 0.0517455\n"
     ]
    },
    {
     "name": "stderr",
     "output_type": "stream",
     "text": [
      "num_leaves, val_score: 0.221088:  15%|#######5                                          | 3/20 [00:09<00:53,  3.15s/it][I 2023-10-28 18:25:32,773] Trial 9 finished with value: 0.22108786462907504 and parameters: {'num_leaves': 248}. Best is trial 7 with value: 0.22108786462907504.\n",
      "num_leaves, val_score: 0.221088:  15%|#######5                                          | 3/20 [00:09<00:53,  3.15s/it]"
     ]
    },
    {
     "name": "stdout",
     "output_type": "stream",
     "text": [
      "Early stopping, best iteration is:\n",
      "[194]\tcv_agg's l2: 0.221088 + 0.051289\n",
      "[100]\tcv_agg's l2: 0.234295 + 0.0450901\n",
      "[200]\tcv_agg's l2: 0.224106 + 0.037863\n",
      "[300]\tcv_agg's l2: 0.22037 + 0.0360985\n"
     ]
    },
    {
     "name": "stderr",
     "output_type": "stream",
     "text": [
      "num_leaves, val_score: 0.220056:  20%|##########                                        | 4/20 [00:10<00:40,  2.56s/it][I 2023-10-28 18:25:34,423] Trial 10 finished with value: 0.22005619566685777 and parameters: {'num_leaves': 9}. Best is trial 10 with value: 0.22005619566685777.\n",
      "num_leaves, val_score: 0.220056:  20%|##########                                        | 4/20 [00:10<00:40,  2.56s/it]"
     ]
    },
    {
     "name": "stdout",
     "output_type": "stream",
     "text": [
      "Early stopping, best iteration is:\n",
      "[295]\tcv_agg's l2: 0.220056 + 0.03619\n",
      "[100]\tcv_agg's l2: 0.27812 + 0.0608772\n",
      "[200]\tcv_agg's l2: 0.253471 + 0.0503903\n",
      "[300]\tcv_agg's l2: 0.244939 + 0.0411719\n"
     ]
    },
    {
     "name": "stderr",
     "output_type": "stream",
     "text": [
      "num_leaves, val_score: 0.220056:  25%|############5                                     | 5/20 [00:11<00:29,  1.96s/it][I 2023-10-28 18:25:35,334] Trial 11 finished with value: 0.24523655185590115 and parameters: {'num_leaves': 3}. Best is trial 10 with value: 0.22005619566685777.\n",
      "num_leaves, val_score: 0.220056:  25%|############5                                     | 5/20 [00:11<00:29,  1.96s/it]"
     ]
    },
    {
     "name": "stdout",
     "output_type": "stream",
     "text": [
      "Early stopping, best iteration is:\n",
      "[295]\tcv_agg's l2: 0.220056 + 0.03619\n",
      "[100]\tcv_agg's l2: 0.227133 + 0.0527111\n",
      "[200]\tcv_agg's l2: 0.221337 + 0.0517455\n",
      "[300]\tcv_agg's l2: 0.223131 + 0.0507776\n"
     ]
    },
    {
     "name": "stderr",
     "output_type": "stream",
     "text": [
      "num_leaves, val_score: 0.220056:  30%|###############                                   | 6/20 [00:16<00:42,  3.03s/it][I 2023-10-28 18:25:40,432] Trial 12 finished with value: 0.2227753769079277 and parameters: {'num_leaves': 106}. Best is trial 10 with value: 0.22005619566685777.\n",
      "num_leaves, val_score: 0.220056:  30%|###############                                   | 6/20 [00:16<00:42,  3.03s/it]"
     ]
    },
    {
     "name": "stdout",
     "output_type": "stream",
     "text": [
      "Early stopping, best iteration is:\n",
      "[295]\tcv_agg's l2: 0.220056 + 0.03619\n",
      "[100]\tcv_agg's l2: 0.227133 + 0.0527111\n",
      "[200]\tcv_agg's l2: 0.221337 + 0.0517455\n",
      "[300]\tcv_agg's l2: 0.223131 + 0.0507776\n"
     ]
    },
    {
     "name": "stderr",
     "output_type": "stream",
     "text": [
      "num_leaves, val_score: 0.220056:  35%|#################5                                | 7/20 [00:22<00:50,  3.87s/it][I 2023-10-28 18:25:46,044] Trial 13 finished with value: 0.2227753769079277 and parameters: {'num_leaves': 136}. Best is trial 10 with value: 0.22005619566685777.\n",
      "num_leaves, val_score: 0.220056:  35%|#################5                                | 7/20 [00:22<00:50,  3.87s/it]"
     ]
    },
    {
     "name": "stdout",
     "output_type": "stream",
     "text": [
      "Early stopping, best iteration is:\n",
      "[295]\tcv_agg's l2: 0.220056 + 0.03619\n",
      "[100]\tcv_agg's l2: 0.227133 + 0.0527111\n",
      "[200]\tcv_agg's l2: 0.221337 + 0.0517455\n",
      "[300]\tcv_agg's l2: 0.223131 + 0.0507776\n"
     ]
    },
    {
     "name": "stderr",
     "output_type": "stream",
     "text": [
      "num_leaves, val_score: 0.220056:  40%|####################                              | 8/20 [00:26<00:46,  3.91s/it][I 2023-10-28 18:25:50,046] Trial 14 finished with value: 0.2227753769079277 and parameters: {'num_leaves': 31}. Best is trial 10 with value: 0.22005619566685777.\n",
      "num_leaves, val_score: 0.220056:  40%|####################                              | 8/20 [00:26<00:46,  3.91s/it]"
     ]
    },
    {
     "name": "stdout",
     "output_type": "stream",
     "text": [
      "Early stopping, best iteration is:\n",
      "[295]\tcv_agg's l2: 0.220056 + 0.03619\n",
      "[100]\tcv_agg's l2: 0.227133 + 0.0527111\n",
      "[200]\tcv_agg's l2: 0.221337 + 0.0517455\n",
      "[300]\tcv_agg's l2: 0.223131 + 0.0507776\n"
     ]
    },
    {
     "name": "stderr",
     "output_type": "stream",
     "text": [
      "num_leaves, val_score: 0.220056:  45%|######################5                           | 9/20 [00:30<00:42,  3.85s/it][I 2023-10-28 18:25:53,760] Trial 15 finished with value: 0.2227753769079277 and parameters: {'num_leaves': 95}. Best is trial 10 with value: 0.22005619566685777.\n",
      "num_leaves, val_score: 0.220056:  45%|######################5                           | 9/20 [00:30<00:42,  3.85s/it]"
     ]
    },
    {
     "name": "stdout",
     "output_type": "stream",
     "text": [
      "Early stopping, best iteration is:\n",
      "[295]\tcv_agg's l2: 0.220056 + 0.03619\n",
      "[100]\tcv_agg's l2: 0.227133 + 0.0527111\n",
      "[200]\tcv_agg's l2: 0.221337 + 0.0517455\n",
      "[300]\tcv_agg's l2: 0.223131 + 0.0507776\n"
     ]
    },
    {
     "name": "stderr",
     "output_type": "stream",
     "text": [
      "num_leaves, val_score: 0.220056:  50%|########################5                        | 10/20 [00:33<00:38,  3.82s/it][I 2023-10-28 18:25:57,497] Trial 16 finished with value: 0.2227753769079277 and parameters: {'num_leaves': 162}. Best is trial 10 with value: 0.22005619566685777.\n",
      "num_leaves, val_score: 0.220056:  50%|########################5                        | 10/20 [00:33<00:38,  3.82s/it]"
     ]
    },
    {
     "name": "stdout",
     "output_type": "stream",
     "text": [
      "Early stopping, best iteration is:\n",
      "[295]\tcv_agg's l2: 0.220056 + 0.03619\n",
      "[100]\tcv_agg's l2: 0.227133 + 0.0527111\n",
      "[200]\tcv_agg's l2: 0.221337 + 0.0517455\n",
      "[300]\tcv_agg's l2: 0.223131 + 0.0507776\n"
     ]
    },
    {
     "name": "stderr",
     "output_type": "stream",
     "text": [
      "num_leaves, val_score: 0.220056:  55%|##########################9                      | 11/20 [00:37<00:33,  3.72s/it][I 2023-10-28 18:26:01,012] Trial 17 finished with value: 0.2227753769079277 and parameters: {'num_leaves': 63}. Best is trial 10 with value: 0.22005619566685777.\n",
      "num_leaves, val_score: 0.220056:  55%|##########################9                      | 11/20 [00:37<00:33,  3.72s/it]"
     ]
    },
    {
     "name": "stdout",
     "output_type": "stream",
     "text": [
      "Early stopping, best iteration is:\n",
      "[295]\tcv_agg's l2: 0.220056 + 0.03619\n",
      "[100]\tcv_agg's l2: 0.375718 + 0.0847089\n",
      "[200]\tcv_agg's l2: 0.332161 + 0.076478\n",
      "[300]\tcv_agg's l2: 0.319256 + 0.0727723\n"
     ]
    },
    {
     "name": "stderr",
     "output_type": "stream",
     "text": [
      "num_leaves, val_score: 0.220056:  60%|#############################4                   | 12/20 [00:38<00:22,  2.77s/it][I 2023-10-28 18:26:01,614] Trial 18 finished with value: 0.31986790036180446 and parameters: {'num_leaves': 2}. Best is trial 10 with value: 0.22005619566685777.\n",
      "num_leaves, val_score: 0.220056:  60%|#############################4                   | 12/20 [00:38<00:22,  2.77s/it]"
     ]
    },
    {
     "name": "stdout",
     "output_type": "stream",
     "text": [
      "Early stopping, best iteration is:\n",
      "[295]\tcv_agg's l2: 0.220056 + 0.03619\n",
      "[100]\tcv_agg's l2: 0.227133 + 0.0527111\n",
      "[200]\tcv_agg's l2: 0.221337 + 0.0517455\n",
      "[300]\tcv_agg's l2: 0.223131 + 0.0507776\n"
     ]
    },
    {
     "name": "stderr",
     "output_type": "stream",
     "text": [
      "num_leaves, val_score: 0.220056:  65%|###############################8                 | 13/20 [00:41<00:21,  3.09s/it][I 2023-10-28 18:26:05,427] Trial 19 finished with value: 0.2227753769079277 and parameters: {'num_leaves': 188}. Best is trial 10 with value: 0.22005619566685777.\n",
      "num_leaves, val_score: 0.220056:  65%|###############################8                 | 13/20 [00:41<00:21,  3.09s/it]"
     ]
    },
    {
     "name": "stdout",
     "output_type": "stream",
     "text": [
      "Early stopping, best iteration is:\n",
      "[295]\tcv_agg's l2: 0.220056 + 0.03619\n",
      "[100]\tcv_agg's l2: 0.227133 + 0.0527111\n",
      "[200]\tcv_agg's l2: 0.221337 + 0.0517455\n",
      "[300]\tcv_agg's l2: 0.223131 + 0.0507776\n"
     ]
    },
    {
     "name": "stderr",
     "output_type": "stream",
     "text": [
      "num_leaves, val_score: 0.220056:  70%|##################################3              | 14/20 [00:45<00:19,  3.25s/it][I 2023-10-28 18:26:09,049] Trial 20 finished with value: 0.2227753769079277 and parameters: {'num_leaves': 85}. Best is trial 10 with value: 0.22005619566685777.\n",
      "num_leaves, val_score: 0.220056:  70%|##################################3              | 14/20 [00:45<00:19,  3.25s/it]"
     ]
    },
    {
     "name": "stdout",
     "output_type": "stream",
     "text": [
      "Early stopping, best iteration is:\n",
      "[295]\tcv_agg's l2: 0.220056 + 0.03619\n",
      "[100]\tcv_agg's l2: 0.227133 + 0.0527111\n",
      "[200]\tcv_agg's l2: 0.221337 + 0.0517455\n",
      "[300]\tcv_agg's l2: 0.223131 + 0.0507776\n"
     ]
    },
    {
     "name": "stderr",
     "output_type": "stream",
     "text": [
      "num_leaves, val_score: 0.220056:  75%|####################################7            | 15/20 [00:49<00:16,  3.37s/it][I 2023-10-28 18:26:12,683] Trial 21 finished with value: 0.2227753769079277 and parameters: {'num_leaves': 41}. Best is trial 10 with value: 0.22005619566685777.\n",
      "num_leaves, val_score: 0.220056:  75%|####################################7            | 15/20 [00:49<00:16,  3.37s/it]"
     ]
    },
    {
     "name": "stdout",
     "output_type": "stream",
     "text": [
      "Early stopping, best iteration is:\n",
      "[295]\tcv_agg's l2: 0.220056 + 0.03619\n",
      "[100]\tcv_agg's l2: 0.227133 + 0.0527111\n",
      "[200]\tcv_agg's l2: 0.221337 + 0.0517455\n",
      "[300]\tcv_agg's l2: 0.223131 + 0.0507776\n"
     ]
    },
    {
     "name": "stderr",
     "output_type": "stream",
     "text": [
      "num_leaves, val_score: 0.220056:  80%|#######################################2         | 16/20 [00:52<00:13,  3.46s/it][I 2023-10-28 18:26:16,356] Trial 22 finished with value: 0.2227753769079277 and parameters: {'num_leaves': 52}. Best is trial 10 with value: 0.22005619566685777.\n",
      "num_leaves, val_score: 0.220056:  80%|#######################################2         | 16/20 [00:52<00:13,  3.46s/it]"
     ]
    },
    {
     "name": "stdout",
     "output_type": "stream",
     "text": [
      "Early stopping, best iteration is:\n",
      "[295]\tcv_agg's l2: 0.220056 + 0.03619\n",
      "[100]\tcv_agg's l2: 0.226647 + 0.052229\n",
      "[200]\tcv_agg's l2: 0.219891 + 0.0521737\n"
     ]
    },
    {
     "name": "stderr",
     "output_type": "stream",
     "text": [
      "num_leaves, val_score: 0.219666:  85%|#########################################6       | 17/20 [00:55<00:09,  3.25s/it][I 2023-10-28 18:26:19,122] Trial 23 finished with value: 0.21966589424043267 and parameters: {'num_leaves': 28}. Best is trial 23 with value: 0.21966589424043267.\n",
      "num_leaves, val_score: 0.219666:  85%|#########################################6       | 17/20 [00:55<00:09,  3.25s/it]"
     ]
    },
    {
     "name": "stdout",
     "output_type": "stream",
     "text": [
      "Early stopping, best iteration is:\n",
      "[199]\tcv_agg's l2: 0.219666 + 0.0521247\n",
      "[100]\tcv_agg's l2: 0.227142 + 0.0499832\n",
      "[200]\tcv_agg's l2: 0.219754 + 0.0480259\n"
     ]
    },
    {
     "name": "stderr",
     "output_type": "stream",
     "text": [
      "num_leaves, val_score: 0.219114:  90%|############################################1    | 18/20 [00:57<00:05,  2.97s/it][I 2023-10-28 18:26:21,438] Trial 24 finished with value: 0.2191141231501094 and parameters: {'num_leaves': 21}. Best is trial 24 with value: 0.2191141231501094.\n",
      "num_leaves, val_score: 0.219114:  90%|############################################1    | 18/20 [00:57<00:05,  2.97s/it]"
     ]
    },
    {
     "name": "stdout",
     "output_type": "stream",
     "text": [
      "Early stopping, best iteration is:\n",
      "[193]\tcv_agg's l2: 0.219114 + 0.0477625\n",
      "[100]\tcv_agg's l2: 0.227142 + 0.0499832\n",
      "[200]\tcv_agg's l2: 0.219754 + 0.0480259\n"
     ]
    },
    {
     "name": "stderr",
     "output_type": "stream",
     "text": [
      "num_leaves, val_score: 0.219114:  95%|##############################################5  | 19/20 [01:00<00:02,  2.76s/it][I 2023-10-28 18:26:23,721] Trial 25 finished with value: 0.2191141231501094 and parameters: {'num_leaves': 21}. Best is trial 24 with value: 0.2191141231501094.\n",
      "num_leaves, val_score: 0.219114:  95%|##############################################5  | 19/20 [01:00<00:02,  2.76s/it]"
     ]
    },
    {
     "name": "stdout",
     "output_type": "stream",
     "text": [
      "Early stopping, best iteration is:\n",
      "[193]\tcv_agg's l2: 0.219114 + 0.0477625\n",
      "[100]\tcv_agg's l2: 0.225869 + 0.0539048\n",
      "[200]\tcv_agg's l2: 0.221343 + 0.0515048\n"
     ]
    },
    {
     "name": "stderr",
     "output_type": "stream",
     "text": [
      "num_leaves, val_score: 0.219114: 100%|#################################################| 20/20 [01:02<00:00,  2.70s/it][I 2023-10-28 18:26:26,279] Trial 26 finished with value: 0.22179143746850274 and parameters: {'num_leaves': 27}. Best is trial 24 with value: 0.2191141231501094.\n",
      "num_leaves, val_score: 0.219114: 100%|#################################################| 20/20 [01:02<00:00,  3.14s/it]\n"
     ]
    },
    {
     "name": "stdout",
     "output_type": "stream",
     "text": [
      "Early stopping, best iteration is:\n",
      "[193]\tcv_agg's l2: 0.219114 + 0.0477625\n"
     ]
    },
    {
     "name": "stderr",
     "output_type": "stream",
     "text": [
      "bagging, val_score: 0.219114:   0%|                                                             | 0/10 [00:00<?, ?it/s]"
     ]
    },
    {
     "name": "stdout",
     "output_type": "stream",
     "text": [
      "[100]\tcv_agg's l2: 0.248247 + 0.0663772\n",
      "[200]\tcv_agg's l2: 0.23779 + 0.058084\n"
     ]
    },
    {
     "name": "stderr",
     "output_type": "stream",
     "text": [
      "bagging, val_score: 0.219114:  10%|#####3                                               | 1/10 [00:02<00:19,  2.21s/it][I 2023-10-28 18:26:28,497] Trial 27 finished with value: 0.2386933200604228 and parameters: {'bagging_fraction': 0.8214687817876833, 'bagging_freq': 4}. Best is trial 27 with value: 0.2386933200604228.\n",
      "bagging, val_score: 0.219114:  10%|#####3                                               | 1/10 [00:02<00:19,  2.21s/it]"
     ]
    },
    {
     "name": "stdout",
     "output_type": "stream",
     "text": [
      "Early stopping, best iteration is:\n",
      "[193]\tcv_agg's l2: 0.219114 + 0.0477625\n",
      "[100]\tcv_agg's l2: 0.328271 + 0.0887016\n",
      "[200]\tcv_agg's l2: 0.313798 + 0.081584\n"
     ]
    },
    {
     "name": "stderr",
     "output_type": "stream",
     "text": [
      "bagging, val_score: 0.219114:  20%|##########6                                          | 2/10 [00:03<00:14,  1.79s/it][I 2023-10-28 18:26:29,986] Trial 28 finished with value: 0.31576315800962884 and parameters: {'bagging_fraction': 0.4004890990089654, 'bagging_freq': 7}. Best is trial 27 with value: 0.2386933200604228.\n",
      "bagging, val_score: 0.219114:  20%|##########6                                          | 2/10 [00:03<00:14,  1.79s/it]"
     ]
    },
    {
     "name": "stdout",
     "output_type": "stream",
     "text": [
      "Early stopping, best iteration is:\n",
      "[193]\tcv_agg's l2: 0.219114 + 0.0477625\n",
      "[100]\tcv_agg's l2: 0.227159 + 0.0521847\n",
      "[200]\tcv_agg's l2: 0.222211 + 0.0509183\n"
     ]
    },
    {
     "name": "stderr",
     "output_type": "stream",
     "text": [
      "bagging, val_score: 0.219114:  30%|###############9                                     | 3/10 [00:06<00:14,  2.11s/it][I 2023-10-28 18:26:32,490] Trial 29 finished with value: 0.22249136939168573 and parameters: {'bagging_fraction': 0.9809830607922736, 'bagging_freq': 1}. Best is trial 29 with value: 0.22249136939168573.\n",
      "bagging, val_score: 0.219114:  30%|###############9                                     | 3/10 [00:06<00:14,  2.11s/it]"
     ]
    },
    {
     "name": "stdout",
     "output_type": "stream",
     "text": [
      "Early stopping, best iteration is:\n",
      "[193]\tcv_agg's l2: 0.219114 + 0.0477625\n",
      "[100]\tcv_agg's l2: 0.269301 + 0.0722464\n",
      "[200]\tcv_agg's l2: 0.262182 + 0.0694427\n"
     ]
    },
    {
     "name": "stderr",
     "output_type": "stream",
     "text": [
      "bagging, val_score: 0.219114:  40%|#####################2                               | 4/10 [00:08<00:12,  2.03s/it][I 2023-10-28 18:26:34,383] Trial 30 finished with value: 0.26217117710157634 and parameters: {'bagging_fraction': 0.5378200953430381, 'bagging_freq': 1}. Best is trial 29 with value: 0.22249136939168573.\n",
      "bagging, val_score: 0.219114:  40%|#####################2                               | 4/10 [00:08<00:12,  2.03s/it]"
     ]
    },
    {
     "name": "stdout",
     "output_type": "stream",
     "text": [
      "Early stopping, best iteration is:\n",
      "[193]\tcv_agg's l2: 0.219114 + 0.0477625\n",
      "[100]\tcv_agg's l2: 0.265703 + 0.071605\n",
      "[200]\tcv_agg's l2: 0.250657 + 0.0732014\n"
     ]
    },
    {
     "name": "stderr",
     "output_type": "stream",
     "text": [
      "bagging, val_score: 0.219114:  50%|##########################5                          | 5/10 [00:10<00:10,  2.07s/it][I 2023-10-28 18:26:36,542] Trial 31 finished with value: 0.2506313339335999 and parameters: {'bagging_fraction': 0.6975597567108558, 'bagging_freq': 7}. Best is trial 29 with value: 0.22249136939168573.\n",
      "bagging, val_score: 0.219114:  50%|##########################5                          | 5/10 [00:10<00:10,  2.07s/it]"
     ]
    },
    {
     "name": "stdout",
     "output_type": "stream",
     "text": [
      "Early stopping, best iteration is:\n",
      "[193]\tcv_agg's l2: 0.219114 + 0.0477625\n",
      "[100]\tcv_agg's l2: 0.230286 + 0.0591588\n",
      "[200]\tcv_agg's l2: 0.221827 + 0.0550214\n"
     ]
    },
    {
     "name": "stderr",
     "output_type": "stream",
     "text": [
      "bagging, val_score: 0.219114:  60%|###############################8                     | 6/10 [00:12<00:09,  2.26s/it][I 2023-10-28 18:26:39,156] Trial 32 finished with value: 0.22194340508648872 and parameters: {'bagging_fraction': 0.9863100573207557, 'bagging_freq': 4}. Best is trial 32 with value: 0.22194340508648872.\n",
      "bagging, val_score: 0.219114:  60%|###############################8                     | 6/10 [00:12<00:09,  2.26s/it]"
     ]
    },
    {
     "name": "stdout",
     "output_type": "stream",
     "text": [
      "Early stopping, best iteration is:\n",
      "[193]\tcv_agg's l2: 0.219114 + 0.0477625\n",
      "[100]\tcv_agg's l2: 0.259263 + 0.0659721\n",
      "[200]\tcv_agg's l2: 0.251097 + 0.0632022\n"
     ]
    },
    {
     "name": "stderr",
     "output_type": "stream",
     "text": [
      "bagging, val_score: 0.219114:  70%|#####################################                | 7/10 [00:14<00:06,  2.19s/it][I 2023-10-28 18:26:41,216] Trial 33 finished with value: 0.2512179941614408 and parameters: {'bagging_fraction': 0.6677595016136003, 'bagging_freq': 3}. Best is trial 32 with value: 0.22194340508648872.\n",
      "bagging, val_score: 0.219114:  70%|#####################################                | 7/10 [00:14<00:06,  2.19s/it]"
     ]
    },
    {
     "name": "stdout",
     "output_type": "stream",
     "text": [
      "Early stopping, best iteration is:\n",
      "[193]\tcv_agg's l2: 0.219114 + 0.0477625\n",
      "[100]\tcv_agg's l2: 0.248378 + 0.0586779\n",
      "[200]\tcv_agg's l2: 0.240112 + 0.0573325\n"
     ]
    },
    {
     "name": "stderr",
     "output_type": "stream",
     "text": [
      "bagging, val_score: 0.219114:  80%|##########################################4          | 8/10 [00:17<00:04,  2.26s/it][I 2023-10-28 18:26:43,623] Trial 34 finished with value: 0.2395139207344718 and parameters: {'bagging_fraction': 0.8343203304846663, 'bagging_freq': 6}. Best is trial 32 with value: 0.22194340508648872.\n",
      "bagging, val_score: 0.219114:  80%|##########################################4          | 8/10 [00:17<00:04,  2.26s/it]"
     ]
    },
    {
     "name": "stdout",
     "output_type": "stream",
     "text": [
      "Early stopping, best iteration is:\n",
      "[193]\tcv_agg's l2: 0.219114 + 0.0477625\n",
      "[100]\tcv_agg's l2: 0.292035 + 0.0686022\n",
      "[200]\tcv_agg's l2: 0.281142 + 0.060083\n"
     ]
    },
    {
     "name": "stderr",
     "output_type": "stream",
     "text": [
      "bagging, val_score: 0.219114:  90%|###############################################7     | 9/10 [00:18<00:02,  2.00s/it][I 2023-10-28 18:26:45,055] Trial 35 finished with value: 0.2828831111548318 and parameters: {'bagging_fraction': 0.4273779739552171, 'bagging_freq': 2}. Best is trial 32 with value: 0.22194340508648872.\n",
      "bagging, val_score: 0.219114:  90%|###############################################7     | 9/10 [00:18<00:02,  2.00s/it]"
     ]
    },
    {
     "name": "stdout",
     "output_type": "stream",
     "text": [
      "Early stopping, best iteration is:\n",
      "[193]\tcv_agg's l2: 0.219114 + 0.0477625\n",
      "[100]\tcv_agg's l2: 0.281981 + 0.0877347\n",
      "[200]\tcv_agg's l2: 0.279853 + 0.0835249\n"
     ]
    },
    {
     "name": "stderr",
     "output_type": "stream",
     "text": [
      "bagging, val_score: 0.219114: 100%|####################################################| 10/10 [00:20<00:00,  1.93s/it][I 2023-10-28 18:26:46,831] Trial 36 finished with value: 0.2763756114723786 and parameters: {'bagging_fraction': 0.5475489014938009, 'bagging_freq': 5}. Best is trial 32 with value: 0.22194340508648872.\n",
      "bagging, val_score: 0.219114: 100%|####################################################| 10/10 [00:20<00:00,  2.05s/it]\n"
     ]
    },
    {
     "name": "stdout",
     "output_type": "stream",
     "text": [
      "Early stopping, best iteration is:\n",
      "[193]\tcv_agg's l2: 0.219114 + 0.0477625\n"
     ]
    },
    {
     "name": "stderr",
     "output_type": "stream",
     "text": [
      "feature_fraction_stage2, val_score: 0.219114:   0%|                                              | 0/6 [00:00<?, ?it/s]"
     ]
    },
    {
     "name": "stdout",
     "output_type": "stream",
     "text": [
      "[100]\tcv_agg's l2: 0.227142 + 0.0499832\n",
      "[200]\tcv_agg's l2: 0.219754 + 0.0480259\n"
     ]
    },
    {
     "name": "stderr",
     "output_type": "stream",
     "text": [
      "feature_fraction_stage2, val_score: 0.219114:  17%|######3                               | 1/6 [00:02<00:11,  2.29s/it][I 2023-10-28 18:26:49,132] Trial 37 finished with value: 0.2191141231501094 and parameters: {'feature_fraction': 0.6479999999999999}. Best is trial 37 with value: 0.2191141231501094.\n",
      "feature_fraction_stage2, val_score: 0.219114:  17%|######3                               | 1/6 [00:02<00:11,  2.29s/it]"
     ]
    },
    {
     "name": "stdout",
     "output_type": "stream",
     "text": [
      "Early stopping, best iteration is:\n",
      "[193]\tcv_agg's l2: 0.219114 + 0.0477625\n",
      "[100]\tcv_agg's l2: 0.227142 + 0.0499832\n",
      "[200]\tcv_agg's l2: 0.219754 + 0.0480259\n"
     ]
    },
    {
     "name": "stderr",
     "output_type": "stream",
     "text": [
      "feature_fraction_stage2, val_score: 0.219114:  33%|############6                         | 2/6 [00:04<00:09,  2.31s/it][I 2023-10-28 18:26:51,460] Trial 38 finished with value: 0.2191141231501094 and parameters: {'feature_fraction': 0.584}. Best is trial 37 with value: 0.2191141231501094.\n",
      "feature_fraction_stage2, val_score: 0.219114:  33%|############6                         | 2/6 [00:04<00:09,  2.31s/it]"
     ]
    },
    {
     "name": "stdout",
     "output_type": "stream",
     "text": [
      "Early stopping, best iteration is:\n",
      "[193]\tcv_agg's l2: 0.219114 + 0.0477625\n",
      "[100]\tcv_agg's l2: 0.231396 + 0.0508161\n",
      "[200]\tcv_agg's l2: 0.225165 + 0.0486713\n"
     ]
    },
    {
     "name": "stderr",
     "output_type": "stream",
     "text": [
      "feature_fraction_stage2, val_score: 0.219114:  50%|###################                   | 3/6 [00:07<00:07,  2.45s/it][I 2023-10-28 18:26:54,062] Trial 39 finished with value: 0.22503582971622466 and parameters: {'feature_fraction': 0.552}. Best is trial 37 with value: 0.2191141231501094.\n",
      "feature_fraction_stage2, val_score: 0.219114:  50%|###################                   | 3/6 [00:07<00:07,  2.45s/it]"
     ]
    },
    {
     "name": "stdout",
     "output_type": "stream",
     "text": [
      "Early stopping, best iteration is:\n",
      "[193]\tcv_agg's l2: 0.219114 + 0.0477625\n",
      "[100]\tcv_agg's l2: 0.227142 + 0.0499832\n",
      "[200]\tcv_agg's l2: 0.219754 + 0.0480259\n"
     ]
    },
    {
     "name": "stderr",
     "output_type": "stream",
     "text": [
      "feature_fraction_stage2, val_score: 0.219114:  67%|#########################3            | 4/6 [00:09<00:04,  2.41s/it][I 2023-10-28 18:26:56,425] Trial 40 finished with value: 0.2191141231501094 and parameters: {'feature_fraction': 0.616}. Best is trial 37 with value: 0.2191141231501094.\n",
      "feature_fraction_stage2, val_score: 0.219114:  67%|#########################3            | 4/6 [00:09<00:04,  2.41s/it]"
     ]
    },
    {
     "name": "stdout",
     "output_type": "stream",
     "text": [
      "Early stopping, best iteration is:\n",
      "[193]\tcv_agg's l2: 0.219114 + 0.0477625\n",
      "[100]\tcv_agg's l2: 0.231396 + 0.0508161\n",
      "[200]\tcv_agg's l2: 0.225165 + 0.0486713\n"
     ]
    },
    {
     "name": "stderr",
     "output_type": "stream",
     "text": [
      "feature_fraction_stage2, val_score: 0.219114:  83%|###############################6      | 5/6 [00:11<00:02,  2.37s/it][I 2023-10-28 18:26:58,716] Trial 41 finished with value: 0.22503582971622466 and parameters: {'feature_fraction': 0.52}. Best is trial 37 with value: 0.2191141231501094.\n",
      "feature_fraction_stage2, val_score: 0.219114:  83%|###############################6      | 5/6 [00:11<00:02,  2.37s/it]"
     ]
    },
    {
     "name": "stdout",
     "output_type": "stream",
     "text": [
      "Early stopping, best iteration is:\n",
      "[193]\tcv_agg's l2: 0.219114 + 0.0477625\n",
      "[100]\tcv_agg's l2: 0.227142 + 0.0499832\n",
      "[200]\tcv_agg's l2: 0.219754 + 0.0480259\n"
     ]
    },
    {
     "name": "stderr",
     "output_type": "stream",
     "text": [
      "feature_fraction_stage2, val_score: 0.219114: 100%|######################################| 6/6 [00:14<00:00,  2.34s/it][I 2023-10-28 18:27:01,005] Trial 42 finished with value: 0.2191141231501094 and parameters: {'feature_fraction': 0.6799999999999999}. Best is trial 37 with value: 0.2191141231501094.\n",
      "feature_fraction_stage2, val_score: 0.219114: 100%|######################################| 6/6 [00:14<00:00,  2.36s/it]\n"
     ]
    },
    {
     "name": "stdout",
     "output_type": "stream",
     "text": [
      "Early stopping, best iteration is:\n",
      "[193]\tcv_agg's l2: 0.219114 + 0.0477625\n"
     ]
    },
    {
     "name": "stderr",
     "output_type": "stream",
     "text": [
      "regularization_factors, val_score: 0.219114:   0%|                                              | 0/20 [00:00<?, ?it/s]"
     ]
    },
    {
     "name": "stdout",
     "output_type": "stream",
     "text": [
      "[100]\tcv_agg's l2: 0.225936 + 0.0509697\n",
      "[200]\tcv_agg's l2: 0.221076 + 0.0511292\n"
     ]
    },
    {
     "name": "stderr",
     "output_type": "stream",
     "text": [
      "regularization_factors, val_score: 0.219114:   5%|#9                                    | 1/20 [00:02<00:43,  2.27s/it][I 2023-10-28 18:27:03,278] Trial 43 finished with value: 0.22108347721676305 and parameters: {'lambda_l1': 0.09201596216615626, 'lambda_l2': 0.07173308554173202}. Best is trial 43 with value: 0.22108347721676305.\n",
      "regularization_factors, val_score: 0.219114:   5%|#9                                    | 1/20 [00:02<00:43,  2.27s/it]"
     ]
    },
    {
     "name": "stdout",
     "output_type": "stream",
     "text": [
      "Early stopping, best iteration is:\n",
      "[193]\tcv_agg's l2: 0.219114 + 0.0477625\n",
      "[100]\tcv_agg's l2: 0.227142 + 0.0499832\n",
      "[200]\tcv_agg's l2: 0.219754 + 0.0480259\n"
     ]
    },
    {
     "name": "stderr",
     "output_type": "stream",
     "text": [
      "regularization_factors, val_score: 0.219114:  10%|###8                                  | 2/20 [00:04<00:41,  2.30s/it][I 2023-10-28 18:27:05,601] Trial 44 finished with value: 0.21911412322262674 and parameters: {'lambda_l1': 1.1139347953538451e-08, 'lambda_l2': 1.1403744003143083e-08}. Best is trial 44 with value: 0.21911412322262674.\n",
      "regularization_factors, val_score: 0.219114:  10%|###8                                  | 2/20 [00:04<00:41,  2.30s/it]"
     ]
    },
    {
     "name": "stdout",
     "output_type": "stream",
     "text": [
      "Early stopping, best iteration is:\n",
      "[193]\tcv_agg's l2: 0.219114 + 0.0477625\n",
      "[100]\tcv_agg's l2: 0.255904 + 0.0516672\n"
     ]
    },
    {
     "name": "stderr",
     "output_type": "stream",
     "text": [
      "\r",
      "regularization_factors, val_score: 0.219114:  10%|###8                                  | 2/20 [00:05<00:41,  2.30s/it]"
     ]
    },
    {
     "name": "stdout",
     "output_type": "stream",
     "text": [
      "[200]\tcv_agg's l2: 0.246633 + 0.0500892\n",
      "Early stopping, best iteration is:\n",
      "[193]\tcv_agg's l2: 0.219114 + 0.0477625\n"
     ]
    },
    {
     "name": "stderr",
     "output_type": "stream",
     "text": [
      "regularization_factors, val_score: 0.219114:  15%|#####7                                | 3/20 [00:05<00:29,  1.72s/it][I 2023-10-28 18:27:06,631] Trial 45 finished with value: 0.24677696206197108 and parameters: {'lambda_l1': 3.7016535240522987, 'lambda_l2': 9.694814335707557}. Best is trial 44 with value: 0.21911412322262674.\n",
      "regularization_factors, val_score: 0.219114:  15%|#####7                                | 3/20 [00:05<00:29,  1.72s/it]"
     ]
    },
    {
     "name": "stdout",
     "output_type": "stream",
     "text": [
      "[100]\tcv_agg's l2: 0.227142 + 0.0499832\n",
      "[200]\tcv_agg's l2: 0.219754 + 0.0480259\n"
     ]
    },
    {
     "name": "stderr",
     "output_type": "stream",
     "text": [
      "regularization_factors, val_score: 0.219114:  20%|#######6                              | 4/20 [00:08<00:32,  2.01s/it][I 2023-10-28 18:27:09,085] Trial 46 finished with value: 0.21911413338083308 and parameters: {'lambda_l1': 1.1856804337450354e-05, 'lambda_l2': 7.993937941840115e-06}. Best is trial 44 with value: 0.21911412322262674.\n",
      "regularization_factors, val_score: 0.219114:  20%|#######6                              | 4/20 [00:08<00:32,  2.01s/it]"
     ]
    },
    {
     "name": "stdout",
     "output_type": "stream",
     "text": [
      "Early stopping, best iteration is:\n",
      "[193]\tcv_agg's l2: 0.219114 + 0.0477625\n",
      "[100]\tcv_agg's l2: 0.224975 + 0.0504948\n",
      "[200]\tcv_agg's l2: 0.219798 + 0.0527081\n",
      "[300]\tcv_agg's l2: 0.219333 + 0.0522679\n"
     ]
    },
    {
     "name": "stderr",
     "output_type": "stream",
     "text": [
      "regularization_factors, val_score: 0.218291:  25%|#########5                            | 5/20 [00:10<00:34,  2.27s/it][I 2023-10-28 18:27:11,822] Trial 47 finished with value: 0.21829050994088534 and parameters: {'lambda_l1': 0.0008508273493110076, 'lambda_l2': 0.00021870883637809015}. Best is trial 47 with value: 0.21829050994088534.\n",
      "regularization_factors, val_score: 0.218291:  25%|#########5                            | 5/20 [00:10<00:34,  2.27s/it]"
     ]
    },
    {
     "name": "stdout",
     "output_type": "stream",
     "text": [
      "Early stopping, best iteration is:\n",
      "[241]\tcv_agg's l2: 0.218291 + 0.0512382\n",
      "[100]\tcv_agg's l2: 0.22491 + 0.0509751\n",
      "[200]\tcv_agg's l2: 0.216821 + 0.0489693\n",
      "[300]\tcv_agg's l2: 0.215424 + 0.0494754\n"
     ]
    },
    {
     "name": "stderr",
     "output_type": "stream",
     "text": [
      "regularization_factors, val_score: 0.215420:  30%|###########4                          | 6/20 [00:13<00:35,  2.56s/it][I 2023-10-28 18:27:14,946] Trial 48 finished with value: 0.2154201393741046 and parameters: {'lambda_l1': 0.0011054098881731439, 'lambda_l2': 0.00029414489196076825}. Best is trial 48 with value: 0.2154201393741046.\n",
      "regularization_factors, val_score: 0.215420:  30%|###########4                          | 6/20 [00:13<00:35,  2.56s/it]"
     ]
    },
    {
     "name": "stdout",
     "output_type": "stream",
     "text": [
      "Early stopping, best iteration is:\n",
      "[297]\tcv_agg's l2: 0.21542 + 0.049472\n",
      "[100]\tcv_agg's l2: 0.225121 + 0.0507514\n",
      "[200]\tcv_agg's l2: 0.216751 + 0.0490397\n",
      "[300]\tcv_agg's l2: 0.216213 + 0.0486304\n"
     ]
    },
    {
     "name": "stderr",
     "output_type": "stream",
     "text": [
      "regularization_factors, val_score: 0.215420:  35%|#############3                        | 7/20 [00:17<00:36,  2.79s/it][I 2023-10-28 18:27:18,193] Trial 49 finished with value: 0.21620839021433422 and parameters: {'lambda_l1': 0.0009428840310164795, 'lambda_l2': 0.00028379753517540233}. Best is trial 48 with value: 0.2154201393741046.\n",
      "regularization_factors, val_score: 0.215420:  35%|#############3                        | 7/20 [00:17<00:36,  2.79s/it]"
     ]
    },
    {
     "name": "stdout",
     "output_type": "stream",
     "text": [
      "Early stopping, best iteration is:\n",
      "[297]\tcv_agg's l2: 0.21542 + 0.049472\n",
      "[100]\tcv_agg's l2: 0.224911 + 0.0509752\n",
      "[200]\tcv_agg's l2: 0.216646 + 0.0492461\n",
      "[300]\tcv_agg's l2: 0.216507 + 0.0495161\n"
     ]
    },
    {
     "name": "stderr",
     "output_type": "stream",
     "text": [
      "regularization_factors, val_score: 0.215420:  40%|###############2                      | 8/20 [00:20<00:34,  2.88s/it][I 2023-10-28 18:27:21,277] Trial 50 finished with value: 0.21658854890032492 and parameters: {'lambda_l1': 0.0013368735670934331, 'lambda_l2': 0.0002793721359460862}. Best is trial 48 with value: 0.2154201393741046.\n",
      "regularization_factors, val_score: 0.215420:  40%|###############2                      | 8/20 [00:20<00:34,  2.88s/it]"
     ]
    },
    {
     "name": "stdout",
     "output_type": "stream",
     "text": [
      "Early stopping, best iteration is:\n",
      "[297]\tcv_agg's l2: 0.21542 + 0.049472\n",
      "[100]\tcv_agg's l2: 0.22491 + 0.0509749\n",
      "[200]\tcv_agg's l2: 0.216912 + 0.0488773\n",
      "[300]\tcv_agg's l2: 0.215661 + 0.0492176\n"
     ]
    },
    {
     "name": "stderr",
     "output_type": "stream",
     "text": [
      "regularization_factors, val_score: 0.215420:  45%|#################1                    | 9/20 [00:23<00:32,  2.97s/it][I 2023-10-28 18:27:24,428] Trial 51 finished with value: 0.21564670214074771 and parameters: {'lambda_l1': 0.0010067134605074952, 'lambda_l2': 0.000401892400883146}. Best is trial 48 with value: 0.2154201393741046.\n",
      "regularization_factors, val_score: 0.215420:  45%|#################1                    | 9/20 [00:23<00:32,  2.97s/it]"
     ]
    },
    {
     "name": "stdout",
     "output_type": "stream",
     "text": [
      "Early stopping, best iteration is:\n",
      "[297]\tcv_agg's l2: 0.21542 + 0.049472\n",
      "[100]\tcv_agg's l2: 0.22491 + 0.050975\n",
      "[200]\tcv_agg's l2: 0.216912 + 0.0488774\n",
      "[300]\tcv_agg's l2: 0.215661 + 0.0492176\n"
     ]
    },
    {
     "name": "stderr",
     "output_type": "stream",
     "text": [
      "regularization_factors, val_score: 0.215420:  50%|##################5                  | 10/20 [00:26<00:30,  3.04s/it][I 2023-10-28 18:27:27,626] Trial 52 finished with value: 0.21564677076037028 and parameters: {'lambda_l1': 0.0010084047743346106, 'lambda_l2': 0.0003342316583823712}. Best is trial 48 with value: 0.2154201393741046.\n",
      "regularization_factors, val_score: 0.215420:  50%|##################5                  | 10/20 [00:26<00:30,  3.04s/it]"
     ]
    },
    {
     "name": "stdout",
     "output_type": "stream",
     "text": [
      "Early stopping, best iteration is:\n",
      "[297]\tcv_agg's l2: 0.21542 + 0.049472\n",
      "[100]\tcv_agg's l2: 0.22491 + 0.0509751\n",
      "[200]\tcv_agg's l2: 0.216425 + 0.0491918\n",
      "[300]\tcv_agg's l2: 0.216136 + 0.0486286\n"
     ]
    },
    {
     "name": "stderr",
     "output_type": "stream",
     "text": [
      "regularization_factors, val_score: 0.215420:  55%|####################3                | 11/20 [00:29<00:27,  3.10s/it][I 2023-10-28 18:27:30,853] Trial 53 finished with value: 0.21613334970569137 and parameters: {'lambda_l1': 0.0011460120226798214, 'lambda_l2': 0.0002887273238711512}. Best is trial 48 with value: 0.2154201393741046.\n",
      "regularization_factors, val_score: 0.215420:  55%|####################3                | 11/20 [00:29<00:27,  3.10s/it]"
     ]
    },
    {
     "name": "stdout",
     "output_type": "stream",
     "text": [
      "Early stopping, best iteration is:\n",
      "[297]\tcv_agg's l2: 0.21542 + 0.049472\n",
      "[100]\tcv_agg's l2: 0.22491 + 0.050975\n",
      "[200]\tcv_agg's l2: 0.216821 + 0.0489693\n",
      "[300]\tcv_agg's l2: 0.215424 + 0.0494754\n"
     ]
    },
    {
     "name": "stderr",
     "output_type": "stream",
     "text": [
      "regularization_factors, val_score: 0.215420:  60%|######################2              | 12/20 [00:33<00:25,  3.14s/it][I 2023-10-28 18:27:34,091] Trial 54 finished with value: 0.2154200962155762 and parameters: {'lambda_l1': 0.0011044070646635108, 'lambda_l2': 0.00033553616412660493}. Best is trial 54 with value: 0.2154200962155762.\n",
      "regularization_factors, val_score: 0.215420:  60%|######################2              | 12/20 [00:33<00:25,  3.14s/it]"
     ]
    },
    {
     "name": "stdout",
     "output_type": "stream",
     "text": [
      "Early stopping, best iteration is:\n",
      "[297]\tcv_agg's l2: 0.21542 + 0.049472\n",
      "[100]\tcv_agg's l2: 0.22491 + 0.050975\n",
      "[200]\tcv_agg's l2: 0.216912 + 0.0488774\n",
      "[300]\tcv_agg's l2: 0.215661 + 0.0492176\n"
     ]
    },
    {
     "name": "stderr",
     "output_type": "stream",
     "text": [
      "regularization_factors, val_score: 0.215420:  65%|########################             | 13/20 [00:36<00:22,  3.15s/it][I 2023-10-28 18:27:37,283] Trial 55 finished with value: 0.2156467263271491 and parameters: {'lambda_l1': 0.0010258367141657647, 'lambda_l2': 0.0003680371414660019}. Best is trial 54 with value: 0.2154200962155762.\n",
      "regularization_factors, val_score: 0.215420:  65%|########################             | 13/20 [00:36<00:22,  3.15s/it]"
     ]
    },
    {
     "name": "stdout",
     "output_type": "stream",
     "text": [
      "Early stopping, best iteration is:\n",
      "[297]\tcv_agg's l2: 0.21542 + 0.049472\n",
      "[100]\tcv_agg's l2: 0.22491 + 0.0509749\n",
      "[200]\tcv_agg's l2: 0.216912 + 0.0488773\n",
      "[300]\tcv_agg's l2: 0.215661 + 0.0492176\n"
     ]
    },
    {
     "name": "stderr",
     "output_type": "stream",
     "text": [
      "regularization_factors, val_score: 0.215420:  70%|#########################9           | 14/20 [00:39<00:19,  3.20s/it][I 2023-10-28 18:27:40,598] Trial 56 finished with value: 0.21564664112736454 and parameters: {'lambda_l1': 0.0010368141590753547, 'lambda_l2': 0.0004452310346681605}. Best is trial 54 with value: 0.2154200962155762.\n",
      "regularization_factors, val_score: 0.215420:  70%|#########################9           | 14/20 [00:39<00:19,  3.20s/it]"
     ]
    },
    {
     "name": "stdout",
     "output_type": "stream",
     "text": [
      "Early stopping, best iteration is:\n",
      "[297]\tcv_agg's l2: 0.21542 + 0.049472\n",
      "[100]\tcv_agg's l2: 0.22433 + 0.0501893\n",
      "[200]\tcv_agg's l2: 0.215678 + 0.0475626\n",
      "[300]\tcv_agg's l2: 0.215029 + 0.0490145\n"
     ]
    },
    {
     "name": "stderr",
     "output_type": "stream",
     "text": [
      "regularization_factors, val_score: 0.214722:  75%|###########################7         | 15/20 [00:42<00:16,  3.24s/it][I 2023-10-28 18:27:43,922] Trial 57 finished with value: 0.21472248429476962 and parameters: {'lambda_l1': 0.0010339522605008619, 'lambda_l2': 0.0006660181104644676}. Best is trial 57 with value: 0.21472248429476962.\n",
      "regularization_factors, val_score: 0.214722:  75%|###########################7         | 15/20 [00:42<00:16,  3.24s/it]"
     ]
    },
    {
     "name": "stdout",
     "output_type": "stream",
     "text": [
      "Early stopping, best iteration is:\n",
      "[293]\tcv_agg's l2: 0.214722 + 0.048726\n",
      "[100]\tcv_agg's l2: 0.227402 + 0.0514265\n",
      "[200]\tcv_agg's l2: 0.22034 + 0.0507243\n",
      "[300]\tcv_agg's l2: 0.219294 + 0.0505312\n"
     ]
    },
    {
     "name": "stderr",
     "output_type": "stream",
     "text": [
      "regularization_factors, val_score: 0.214722:  80%|#############################6       | 16/20 [00:46<00:12,  3.22s/it][I 2023-10-28 18:27:47,103] Trial 58 finished with value: 0.21923641060859583 and parameters: {'lambda_l1': 0.002721183923755286, 'lambda_l2': 0.001963821908858763}. Best is trial 57 with value: 0.21472248429476962.\n",
      "regularization_factors, val_score: 0.214722:  80%|#############################6       | 16/20 [00:46<00:12,  3.22s/it]"
     ]
    },
    {
     "name": "stdout",
     "output_type": "stream",
     "text": [
      "Early stopping, best iteration is:\n",
      "[293]\tcv_agg's l2: 0.214722 + 0.048726\n",
      "[100]\tcv_agg's l2: 0.22424 + 0.0508432\n",
      "[200]\tcv_agg's l2: 0.219638 + 0.0503018\n",
      "[300]\tcv_agg's l2: 0.218929 + 0.0497704\n"
     ]
    },
    {
     "name": "stderr",
     "output_type": "stream",
     "text": [
      "regularization_factors, val_score: 0.214722:  85%|###############################4     | 17/20 [00:49<00:09,  3.18s/it][I 2023-10-28 18:27:50,195] Trial 59 finished with value: 0.21902244606960425 and parameters: {'lambda_l1': 5.7364558732342275e-05, 'lambda_l2': 0.0023089861439279727}. Best is trial 57 with value: 0.21472248429476962.\n",
      "regularization_factors, val_score: 0.214722:  85%|###############################4     | 17/20 [00:49<00:09,  3.18s/it]"
     ]
    },
    {
     "name": "stdout",
     "output_type": "stream",
     "text": [
      "Early stopping, best iteration is:\n",
      "[293]\tcv_agg's l2: 0.214722 + 0.048726\n",
      "[100]\tcv_agg's l2: 0.229094 + 0.0543583\n",
      "[200]\tcv_agg's l2: 0.224122 + 0.0543348\n",
      "[300]\tcv_agg's l2: 0.224275 + 0.0545826\n"
     ]
    },
    {
     "name": "stderr",
     "output_type": "stream",
     "text": [
      "regularization_factors, val_score: 0.214722:  90%|#################################3   | 18/20 [00:52<00:06,  3.22s/it][I 2023-10-28 18:27:53,516] Trial 60 finished with value: 0.22417690253614211 and parameters: {'lambda_l1': 0.009531455236405533, 'lambda_l2': 3.298825489495474e-05}. Best is trial 57 with value: 0.21472248429476962.\n",
      "regularization_factors, val_score: 0.214722:  90%|#################################3   | 18/20 [00:52<00:06,  3.22s/it]"
     ]
    },
    {
     "name": "stdout",
     "output_type": "stream",
     "text": [
      "Early stopping, best iteration is:\n",
      "[293]\tcv_agg's l2: 0.214722 + 0.048726\n",
      "[100]\tcv_agg's l2: 0.224677 + 0.0506113\n",
      "[200]\tcv_agg's l2: 0.219516 + 0.0503737\n",
      "[300]\tcv_agg's l2: 0.219357 + 0.0496998\n"
     ]
    },
    {
     "name": "stderr",
     "output_type": "stream",
     "text": [
      "regularization_factors, val_score: 0.214722:  95%|###################################1 | 19/20 [00:55<00:03,  3.18s/it][I 2023-10-28 18:27:56,588] Trial 61 finished with value: 0.2192739054671779 and parameters: {'lambda_l1': 0.00029421641124434113, 'lambda_l2': 0.0015343288815293358}. Best is trial 57 with value: 0.21472248429476962.\n",
      "regularization_factors, val_score: 0.214722:  95%|###################################1 | 19/20 [00:55<00:03,  3.18s/it]"
     ]
    },
    {
     "name": "stdout",
     "output_type": "stream",
     "text": [
      "Early stopping, best iteration is:\n",
      "[293]\tcv_agg's l2: 0.214722 + 0.048726\n",
      "[100]\tcv_agg's l2: 0.223832 + 0.0515677\n",
      "[200]\tcv_agg's l2: 0.219651 + 0.0532588\n",
      "[300]\tcv_agg's l2: 0.218612 + 0.0528049\n"
     ]
    },
    {
     "name": "stderr",
     "output_type": "stream",
     "text": [
      "regularization_factors, val_score: 0.214722: 100%|#####################################| 20/20 [00:58<00:00,  3.15s/it][I 2023-10-28 18:27:59,667] Trial 62 finished with value: 0.21832803502603443 and parameters: {'lambda_l1': 0.00021963418556758728, 'lambda_l2': 0.00022998233090401374}. Best is trial 57 with value: 0.21472248429476962.\n",
      "regularization_factors, val_score: 0.214722: 100%|#####################################| 20/20 [00:58<00:00,  2.93s/it]\n"
     ]
    },
    {
     "name": "stdout",
     "output_type": "stream",
     "text": [
      "Early stopping, best iteration is:\n",
      "[293]\tcv_agg's l2: 0.214722 + 0.048726\n"
     ]
    },
    {
     "name": "stderr",
     "output_type": "stream",
     "text": [
      "min_data_in_leaf, val_score: 0.214722:   0%|                                                     | 0/5 [00:00<?, ?it/s]"
     ]
    },
    {
     "name": "stdout",
     "output_type": "stream",
     "text": [
      "[100]\tcv_agg's l2: 0.202261 + 0.0489687\n",
      "[200]\tcv_agg's l2: 0.200662 + 0.0497399\n"
     ]
    },
    {
     "name": "stderr",
     "output_type": "stream",
     "text": [
      "min_data_in_leaf, val_score: 0.199865:  20%|#########                                    | 1/5 [00:02<00:08,  2.21s/it][I 2023-10-28 18:28:01,883] Trial 63 finished with value: 0.19986506557356673 and parameters: {'min_child_samples': 10}. Best is trial 63 with value: 0.19986506557356673.\n",
      "min_data_in_leaf, val_score: 0.199865:  20%|#########                                    | 1/5 [00:02<00:08,  2.21s/it]"
     ]
    },
    {
     "name": "stdout",
     "output_type": "stream",
     "text": [
      "Early stopping, best iteration is:\n",
      "[171]\tcv_agg's l2: 0.199865 + 0.0494923\n",
      "[100]\tcv_agg's l2: 0.204947 + 0.0609919\n",
      "[200]\tcv_agg's l2: 0.203264 + 0.0592265\n"
     ]
    },
    {
     "name": "stderr",
     "output_type": "stream",
     "text": [
      "min_data_in_leaf, val_score: 0.199865:  40%|##################                           | 2/5 [00:04<00:06,  2.18s/it][I 2023-10-28 18:28:04,045] Trial 64 finished with value: 0.20287262576425813 and parameters: {'min_child_samples': 5}. Best is trial 63 with value: 0.19986506557356673.\n",
      "min_data_in_leaf, val_score: 0.199865:  40%|##################                           | 2/5 [00:04<00:06,  2.18s/it]"
     ]
    },
    {
     "name": "stdout",
     "output_type": "stream",
     "text": [
      "Early stopping, best iteration is:\n",
      "[171]\tcv_agg's l2: 0.199865 + 0.0494923\n",
      "[100]\tcv_agg's l2: 0.809796 + 0.1734\n"
     ]
    },
    {
     "name": "stderr",
     "output_type": "stream",
     "text": [
      "min_data_in_leaf, val_score: 0.199865:  60%|###########################                  | 3/5 [00:05<00:03,  1.51s/it]"
     ]
    },
    {
     "name": "stdout",
     "output_type": "stream",
     "text": [
      "[200]\tcv_agg's l2: 0.794284 + 0.176809\n",
      "Early stopping, best iteration is:\n",
      "[171]\tcv_agg's l2: 0.199865 + 0.0494923\n"
     ]
    },
    {
     "name": "stderr",
     "output_type": "stream",
     "text": [
      "[I 2023-10-28 18:28:04,751] Trial 65 finished with value: 0.7975904455770981 and parameters: {'min_child_samples': 100}. Best is trial 63 with value: 0.19986506557356673.\n",
      "min_data_in_leaf, val_score: 0.199865:  60%|###########################                  | 3/5 [00:05<00:03,  1.51s/it]"
     ]
    },
    {
     "name": "stdout",
     "output_type": "stream",
     "text": [
      "[100]\tcv_agg's l2: 0.335166 + 0.0748881\n",
      "[200]\tcv_agg's l2: 0.324325 + 0.0722832\n"
     ]
    },
    {
     "name": "stderr",
     "output_type": "stream",
     "text": [
      "min_data_in_leaf, val_score: 0.199865:  80%|####################################         | 4/5 [00:06<00:01,  1.39s/it][I 2023-10-28 18:28:05,957] Trial 66 finished with value: 0.3253618071400083 and parameters: {'min_child_samples': 50}. Best is trial 63 with value: 0.19986506557356673.\n",
      "min_data_in_leaf, val_score: 0.199865:  80%|####################################         | 4/5 [00:06<00:01,  1.39s/it]"
     ]
    },
    {
     "name": "stdout",
     "output_type": "stream",
     "text": [
      "Early stopping, best iteration is:\n",
      "[171]\tcv_agg's l2: 0.199865 + 0.0494923\n",
      "[100]\tcv_agg's l2: 0.253901 + 0.0738994\n",
      "[200]\tcv_agg's l2: 0.249987 + 0.0743799\n"
     ]
    },
    {
     "name": "stderr",
     "output_type": "stream",
     "text": [
      "min_data_in_leaf, val_score: 0.199865: 100%|#############################################| 5/5 [00:08<00:00,  1.61s/it][I 2023-10-28 18:28:07,972] Trial 67 finished with value: 0.2495267039019018 and parameters: {'min_child_samples': 25}. Best is trial 63 with value: 0.19986506557356673.\n",
      "min_data_in_leaf, val_score: 0.199865: 100%|#############################################| 5/5 [00:08<00:00,  1.66s/it]"
     ]
    },
    {
     "name": "stdout",
     "output_type": "stream",
     "text": [
      "Early stopping, best iteration is:\n",
      "[171]\tcv_agg's l2: 0.199865 + 0.0494923\n"
     ]
    },
    {
     "name": "stderr",
     "output_type": "stream",
     "text": [
      "\n"
     ]
    }
   ],
   "source": [
    "import optuna.integration.lightgbm as lgb\n",
    "from lightgbm import early_stopping, log_evaluation\n",
    "from sklearn.model_selection import KFold\n",
    "from sklearn.model_selection import RepeatedKFold\n",
    "\n",
    "\n",
    "lgb_train = lgb.Dataset(X_train, y_train)\n",
    "\n",
    "params = {\n",
    "    \"boosting_type\": \"gbdt\",\n",
    "    \"objective\": \"regression\",\n",
    "    \"metric\": \"l2\",\n",
    "    \"verbosity\": -1,\n",
    "}\n",
    "\n",
    "tuner = lgb.LightGBMTunerCV(\n",
    "    params,\n",
    "    lgb_train,\n",
    "    folds=KFold(n_splits=5),\n",
    "    num_boost_round=10000,\n",
    "    callbacks=[early_stopping(100), log_evaluation(100)],\n",
    ")\n",
    "\n",
    "tuner.run()"
   ]
  },
  {
   "cell_type": "code",
   "execution_count": 21,
   "id": "3b9d8fb3",
   "metadata": {},
   "outputs": [
    {
     "name": "stdout",
     "output_type": "stream",
     "text": [
      "Best score: 0.19986506557356673\n",
      "Params: \n",
      "    boosting_type: gbdt\n",
      "    objective: regression\n",
      "    metric: l2\n",
      "    verbosity: -1\n",
      "    feature_pre_filter: False\n",
      "    lambda_l1: 0.0010339522605008619\n",
      "    lambda_l2: 0.0006660181104644676\n",
      "    num_leaves: 21\n",
      "    feature_fraction: 0.6\n",
      "    bagging_fraction: 1.0\n",
      "    bagging_freq: 0\n",
      "    min_child_samples: 10\n"
     ]
    }
   ],
   "source": [
    "print(f\"Best score: {tuner.best_score}\")\n",
    "best_params = tuner.best_params\n",
    "print(\"Params: \")\n",
    "for key, value in best_params.items():\n",
    "    print(\"    {}: {}\".format(key, value))"
   ]
  },
  {
   "cell_type": "code",
   "execution_count": 22,
   "id": "d25b1687",
   "metadata": {},
   "outputs": [],
   "source": [
    "import lightgbm as lgb\n",
    "\n",
    "lgb_tuned = lgb.train(\n",
    "    best_params,\n",
    "    lgb_train,\n",
    "    num_boost_round=10000,\n",
    ")"
   ]
  },
  {
   "cell_type": "code",
   "execution_count": 23,
   "id": "290a9f09",
   "metadata": {},
   "outputs": [
    {
     "name": "stdout",
     "output_type": "stream",
     "text": [
      "RMSE train: 0.00\n",
      "RMSE test: 0.64\n",
      "MSE test: 0.41\n",
      "MAE test: 0.45\n",
      "\n"
     ]
    }
   ],
   "source": [
    "rmse, mse, mae = assess_regression_model(lgb_tuned, X_train, X_test, y_train, y_test)"
   ]
  },
  {
   "cell_type": "code",
   "execution_count": 24,
   "id": "a6ecfca2",
   "metadata": {},
   "outputs": [],
   "source": [
    "results.loc[1] = [\n",
    "    \"chronological\",\n",
    "    \"Optuna\",\n",
    "    len(X_test.columns),\n",
    "    mse,\n",
    "    rmse,\n",
    "    mae,\n",
    "]"
   ]
  },
  {
   "cell_type": "code",
   "execution_count": 25,
   "id": "9f6b3122",
   "metadata": {
    "scrolled": true
   },
   "outputs": [
    {
     "name": "stdout",
     "output_type": "stream",
     "text": [
      "Normal:\n",
      "MSE: 0.41\n",
      "RMSE: 0.64\n",
      "\n",
      "Round type: round\n",
      "MSE: 0.41\n",
      "RMSE: 0.64\n",
      "\n",
      "Round type: 0.33\n",
      "MSE: 0.43\n",
      "RMSE: 0.66\n",
      "\n",
      "Round type: 0.45\n",
      "MSE: 0.42\n",
      "RMSE: 0.65\n",
      "\n"
     ]
    }
   ],
   "source": [
    "predict = lgb_tuned.predict(X_test)\n",
    "check_round_predictions([\"round\", 0.33, 0.45], y_test, predict)"
   ]
  },
  {
   "cell_type": "code",
   "execution_count": 26,
   "id": "515dc232",
   "metadata": {},
   "outputs": [
    {
     "data": {
      "image/png": "[encoded data removed]",
      "text/plain": [
       "<Figure size 432x288 with 2 Axes>"
      ]
     },
     "metadata": {
      "needs_background": "light"
     },
     "output_type": "display_data"
    }
   ],
   "source": [
    "plot_confusion_matrix(\"round\", predict, y_test)"
   ]
  },
  {
   "cell_type": "markdown",
   "id": "493f7602",
   "metadata": {},
   "source": [
    "## Random split"
   ]
  },
  {
   "cell_type": "code",
   "execution_count": 27,
   "id": "4948ca0a",
   "metadata": {},
   "outputs": [
    {
     "name": "stdout",
     "output_type": "stream",
     "text": [
      "[LightGBM] [Warning] Auto-choosing col-wise multi-threading, the overhead of testing was 0.000573 seconds.\n",
      "You can set `force_col_wise=true` to remove the overhead.\n",
      "[LightGBM] [Info] Total Bins 234\n",
      "[LightGBM] [Info] Number of data points in the train set: 904, number of used features: 8\n",
      "[LightGBM] [Info] Start training from score 7.162611\n",
      "Training until validation scores don't improve for 5 rounds\n",
      "Early stopping, best iteration is:\n",
      "[55]\tvalid_0's l1: 0.340495\tvalid_0's l2: 0.243018\n"
     ]
    }
   ],
   "source": [
    "import lightgbm as lgb\n",
    "from sklearn.metrics import mean_squared_error\n",
    "\n",
    "lgb_train = lgb.Dataset(X_train_random_split, y_train_random_split)\n",
    "lgb_eval = lgb.Dataset(X_test_random_split, y_test_random_split, reference=lgb_train)\n",
    "\n",
    "params = {\n",
    "    \"boosting_type\": \"gbdt\",\n",
    "    \"objective\": \"regression\",\n",
    "    \"metric\": {\"l2\", \"l1\"},\n",
    "}\n",
    "\n",
    "gbm = lgb.train(\n",
    "    params,\n",
    "    lgb_train,\n",
    "    num_boost_round=100,\n",
    "    valid_sets=lgb_eval,\n",
    "    callbacks=[lgb.early_stopping(stopping_rounds=5)],\n",
    ")"
   ]
  },
  {
   "cell_type": "code",
   "execution_count": 28,
   "id": "f9bd4c3b",
   "metadata": {},
   "outputs": [],
   "source": [
    "y_pred_train = gbm.predict(X_train_random_split, num_iteration=gbm.best_iteration)\n",
    "y_pred_test = gbm.predict(X_test_random_split, num_iteration=gbm.best_iteration)"
   ]
  },
  {
   "cell_type": "code",
   "execution_count": 29,
   "id": "c014931e",
   "metadata": {},
   "outputs": [
    {
     "name": "stdout",
     "output_type": "stream",
     "text": [
      "MSE: 0.24\n",
      "RMSE: 0.49\n",
      "MAE: 0.24\n"
     ]
    }
   ],
   "source": [
    "from sklearn.metrics import mean_squared_error, median_absolute_error\n",
    "\n",
    "\n",
    "mse = mean_squared_error(y_test_random_split, y_pred_test)\n",
    "rmse = mean_squared_error(y_test_random_split, y_pred_test, squared=False)\n",
    "mae = median_absolute_error(y_test_random_split, y_pred_test)\n",
    "\n",
    "print(f\"MSE: {mse:.2f}\")\n",
    "print(f\"RMSE: {rmse:.2f}\")\n",
    "print(f\"MAE: {mae:.2f}\")"
   ]
  },
  {
   "cell_type": "code",
   "execution_count": 30,
   "id": "8cbceea7",
   "metadata": {},
   "outputs": [],
   "source": [
    "results.loc[3] = [\"random\", \"normal\", len(X_test.columns), mse, rmse, mae]"
   ]
  },
  {
   "cell_type": "code",
   "execution_count": 31,
   "id": "e5edd1d7",
   "metadata": {},
   "outputs": [
    {
     "name": "stdout",
     "output_type": "stream",
     "text": [
      "Normal:\n",
      "MSE: 0.24\n",
      "RMSE: 0.49\n",
      "\n",
      "Round type: round\n",
      "MSE: 0.26\n",
      "RMSE: 0.51\n",
      "\n",
      "Round type: 0.33\n",
      "MSE: 0.32\n",
      "RMSE: 0.57\n",
      "\n",
      "Round type: 0.45\n",
      "MSE: 0.27\n",
      "RMSE: 0.52\n",
      "\n"
     ]
    }
   ],
   "source": [
    "check_round_predictions([\"round\", 0.33, 0.45], y_test_random_split, y_pred_test)"
   ]
  },
  {
   "cell_type": "code",
   "execution_count": 32,
   "id": "39e001dd",
   "metadata": {},
   "outputs": [
    {
     "data": {
      "image/png": "[encoded data removed]",
      "text/plain": [
       "<Figure size 432x288 with 2 Axes>"
      ]
     },
     "metadata": {
      "needs_background": "light"
     },
     "output_type": "display_data"
    }
   ],
   "source": [
    "plot_confusion_matrix(\"round\", y_pred_test, y_test_random_split)"
   ]
  },
  {
   "cell_type": "markdown",
   "id": "2a0c7ae0",
   "metadata": {},
   "source": [
    "### Tuning"
   ]
  },
  {
   "cell_type": "code",
   "execution_count": 33,
   "id": "0ef6525a",
   "metadata": {},
   "outputs": [
    {
     "name": "stderr",
     "output_type": "stream",
     "text": [
      "[I 2023-10-28 18:28:23,888] A new study created in memory with name: no-name-ea67fb78-0243-4a00-9f03-803cbf37aa15\n",
      "feature_fraction, val_score: inf:   0%|                                                          | 0/7 [00:00<?, ?it/s]"
     ]
    },
    {
     "name": "stdout",
     "output_type": "stream",
     "text": [
      "Training until validation scores don't improve for 100 rounds\n",
      "[100]\tcv_agg's l2: 0.240166 + 0.0639709\n"
     ]
    },
    {
     "name": "stderr",
     "output_type": "stream",
     "text": [
      "feature_fraction, val_score: 0.239538:  14%|######4                                      | 1/7 [00:02<00:12,  2.02s/it][I 2023-10-28 18:28:25,919] Trial 0 finished with value: 0.23953773628350855 and parameters: {'feature_fraction': 0.5}. Best is trial 0 with value: 0.23953773628350855.\n",
      "feature_fraction, val_score: 0.239538:  14%|######4                                      | 1/7 [00:02<00:12,  2.02s/it]"
     ]
    },
    {
     "name": "stdout",
     "output_type": "stream",
     "text": [
      "[200]\tcv_agg's l2: 0.243866 + 0.0619569\n",
      "Early stopping, best iteration is:\n",
      "[114]\tcv_agg's l2: 0.239538 + 0.0631577\n",
      "[100]\tcv_agg's l2: 0.238861 + 0.0635253\n"
     ]
    },
    {
     "name": "stderr",
     "output_type": "stream",
     "text": [
      "feature_fraction, val_score: 0.238551:  29%|############8                                | 2/7 [00:04<00:10,  2.08s/it][I 2023-10-28 18:28:28,035] Trial 1 finished with value: 0.23855078598302654 and parameters: {'feature_fraction': 0.6}. Best is trial 1 with value: 0.23855078598302654.\n",
      "feature_fraction, val_score: 0.238551:  29%|############8                                | 2/7 [00:04<00:10,  2.08s/it]"
     ]
    },
    {
     "name": "stdout",
     "output_type": "stream",
     "text": [
      "[200]\tcv_agg's l2: 0.241821 + 0.0604441\n",
      "Early stopping, best iteration is:\n",
      "[103]\tcv_agg's l2: 0.238551 + 0.0632225\n",
      "[100]\tcv_agg's l2: 0.237902 + 0.0636629\n"
     ]
    },
    {
     "name": "stderr",
     "output_type": "stream",
     "text": [
      "feature_fraction, val_score: 0.237517:  43%|###################2                         | 3/7 [00:06<00:07,  1.99s/it][I 2023-10-28 18:28:29,922] Trial 2 finished with value: 0.23751673860594744 and parameters: {'feature_fraction': 0.8}. Best is trial 2 with value: 0.23751673860594744.\n",
      "feature_fraction, val_score: 0.237517:  43%|###################2                         | 3/7 [00:06<00:07,  1.99s/it]"
     ]
    },
    {
     "name": "stdout",
     "output_type": "stream",
     "text": [
      "[200]\tcv_agg's l2: 0.240595 + 0.0578711\n",
      "Early stopping, best iteration is:\n",
      "[101]\tcv_agg's l2: 0.237517 + 0.0635516\n",
      "[100]\tcv_agg's l2: 0.237902 + 0.0636629\n"
     ]
    },
    {
     "name": "stderr",
     "output_type": "stream",
     "text": [
      "feature_fraction, val_score: 0.237517:  57%|#########################7                   | 4/7 [00:07<00:05,  1.97s/it][I 2023-10-28 18:28:31,852] Trial 3 finished with value: 0.23751673860594744 and parameters: {'feature_fraction': 0.7}. Best is trial 2 with value: 0.23751673860594744.\n",
      "feature_fraction, val_score: 0.237517:  57%|#########################7                   | 4/7 [00:07<00:05,  1.97s/it]"
     ]
    },
    {
     "name": "stdout",
     "output_type": "stream",
     "text": [
      "[200]\tcv_agg's l2: 0.240595 + 0.0578711\n",
      "Early stopping, best iteration is:\n",
      "[101]\tcv_agg's l2: 0.237517 + 0.0635516\n",
      "[100]\tcv_agg's l2: 0.249628 + 0.0720246\n"
     ]
    },
    {
     "name": "stderr",
     "output_type": "stream",
     "text": [
      "feature_fraction, val_score: 0.237517:  71%|################################1            | 5/7 [00:09<00:03,  1.97s/it][I 2023-10-28 18:28:33,832] Trial 4 finished with value: 0.24977938725540225 and parameters: {'feature_fraction': 0.8999999999999999}. Best is trial 2 with value: 0.23751673860594744.\n",
      "feature_fraction, val_score: 0.237517:  71%|################################1            | 5/7 [00:09<00:03,  1.97s/it]"
     ]
    },
    {
     "name": "stdout",
     "output_type": "stream",
     "text": [
      "[200]\tcv_agg's l2: 0.251605 + 0.0672733\n",
      "Early stopping, best iteration is:\n",
      "[101]\tcv_agg's l2: 0.237517 + 0.0635516\n",
      "[100]\tcv_agg's l2: 0.256328 + 0.0777765\n"
     ]
    },
    {
     "name": "stderr",
     "output_type": "stream",
     "text": [
      "feature_fraction, val_score: 0.237517:  86%|######################################5      | 6/7 [00:11<00:01,  1.97s/it][I 2023-10-28 18:28:35,801] Trial 5 finished with value: 0.2560485201010253 and parameters: {'feature_fraction': 1.0}. Best is trial 2 with value: 0.23751673860594744.\n",
      "feature_fraction, val_score: 0.237517:  86%|######################################5      | 6/7 [00:11<00:01,  1.97s/it]"
     ]
    },
    {
     "name": "stdout",
     "output_type": "stream",
     "text": [
      "[200]\tcv_agg's l2: 0.259774 + 0.07799\n",
      "Early stopping, best iteration is:\n",
      "[101]\tcv_agg's l2: 0.237517 + 0.0635516\n",
      "[100]\tcv_agg's l2: 0.31119 + 0.0526924\n"
     ]
    },
    {
     "name": "stderr",
     "output_type": "stream",
     "text": [
      "feature_fraction, val_score: 0.237517: 100%|#############################################| 7/7 [00:13<00:00,  1.93s/it][I 2023-10-28 18:28:37,653] Trial 6 finished with value: 0.3109553733921779 and parameters: {'feature_fraction': 0.4}. Best is trial 2 with value: 0.23751673860594744.\n",
      "feature_fraction, val_score: 0.237517: 100%|#############################################| 7/7 [00:13<00:00,  1.97s/it]\n"
     ]
    },
    {
     "name": "stdout",
     "output_type": "stream",
     "text": [
      "[200]\tcv_agg's l2: 0.292704 + 0.050197\n",
      "Early stopping, best iteration is:\n",
      "[101]\tcv_agg's l2: 0.237517 + 0.0635516\n"
     ]
    },
    {
     "name": "stderr",
     "output_type": "stream",
     "text": [
      "num_leaves, val_score: 0.237517:   0%|                                                          | 0/20 [00:00<?, ?it/s]"
     ]
    },
    {
     "name": "stdout",
     "output_type": "stream",
     "text": [
      "[100]\tcv_agg's l2: 0.237902 + 0.0636629\n"
     ]
    },
    {
     "name": "stderr",
     "output_type": "stream",
     "text": [
      "num_leaves, val_score: 0.237517:   5%|##5                                               | 1/20 [00:02<00:38,  2.01s/it][I 2023-10-28 18:28:39,667] Trial 7 finished with value: 0.23751673860594744 and parameters: {'num_leaves': 83}. Best is trial 7 with value: 0.23751673860594744.\n",
      "num_leaves, val_score: 0.237517:   5%|##5                                               | 1/20 [00:02<00:38,  2.01s/it]"
     ]
    },
    {
     "name": "stdout",
     "output_type": "stream",
     "text": [
      "[200]\tcv_agg's l2: 0.240596 + 0.0578711\n",
      "Early stopping, best iteration is:\n",
      "[101]\tcv_agg's l2: 0.237517 + 0.0635516\n",
      "[100]\tcv_agg's l2: 0.237902 + 0.0636629\n"
     ]
    },
    {
     "name": "stderr",
     "output_type": "stream",
     "text": [
      "num_leaves, val_score: 0.237517:  10%|#####                                             | 2/20 [00:04<00:38,  2.11s/it][I 2023-10-28 18:28:41,854] Trial 8 finished with value: 0.23751673860594744 and parameters: {'num_leaves': 178}. Best is trial 7 with value: 0.23751673860594744.\n",
      "num_leaves, val_score: 0.237517:  10%|#####                                             | 2/20 [00:04<00:38,  2.11s/it]"
     ]
    },
    {
     "name": "stdout",
     "output_type": "stream",
     "text": [
      "[200]\tcv_agg's l2: 0.240596 + 0.0578711\n",
      "Early stopping, best iteration is:\n",
      "[101]\tcv_agg's l2: 0.237517 + 0.0635516\n",
      "[100]\tcv_agg's l2: 0.237902 + 0.0636629\n"
     ]
    },
    {
     "name": "stderr",
     "output_type": "stream",
     "text": [
      "num_leaves, val_score: 0.237517:  15%|#######5                                          | 3/20 [00:06<00:34,  2.05s/it][I 2023-10-28 18:28:43,824] Trial 9 finished with value: 0.23751673860594744 and parameters: {'num_leaves': 157}. Best is trial 7 with value: 0.23751673860594744.\n",
      "num_leaves, val_score: 0.237517:  15%|#######5                                          | 3/20 [00:06<00:34,  2.05s/it]"
     ]
    },
    {
     "name": "stdout",
     "output_type": "stream",
     "text": [
      "[200]\tcv_agg's l2: 0.240596 + 0.0578711\n",
      "Early stopping, best iteration is:\n",
      "[101]\tcv_agg's l2: 0.237517 + 0.0635516\n",
      "[100]\tcv_agg's l2: 0.237777 + 0.0634828\n",
      "[200]\tcv_agg's l2: 0.236556 + 0.0580374\n"
     ]
    },
    {
     "name": "stderr",
     "output_type": "stream",
     "text": [
      "num_leaves, val_score: 0.235470:  20%|##########                                        | 4/20 [00:07<00:30,  1.88s/it][I 2023-10-28 18:28:45,450] Trial 10 finished with value: 0.23547047309229438 and parameters: {'num_leaves': 15}. Best is trial 10 with value: 0.23547047309229438.\n",
      "num_leaves, val_score: 0.235470:  20%|##########                                        | 4/20 [00:07<00:30,  1.88s/it]"
     ]
    },
    {
     "name": "stdout",
     "output_type": "stream",
     "text": [
      "Early stopping, best iteration is:\n",
      "[169]\tcv_agg's l2: 0.23547 + 0.0579005\n",
      "[100]\tcv_agg's l2: 0.247343 + 0.070811\n"
     ]
    },
    {
     "name": "stderr",
     "output_type": "stream",
     "text": [
      "num_leaves, val_score: 0.235470:  25%|############5                                     | 5/20 [00:08<00:21,  1.47s/it][I 2023-10-28 18:28:46,181] Trial 11 finished with value: 0.24066569952060424 and parameters: {'num_leaves': 5}. Best is trial 10 with value: 0.23547047309229438.\n",
      "num_leaves, val_score: 0.235470:  25%|############5                                     | 5/20 [00:08<00:21,  1.47s/it]"
     ]
    },
    {
     "name": "stdout",
     "output_type": "stream",
     "text": [
      "[200]\tcv_agg's l2: 0.238814 + 0.066756\n",
      "Early stopping, best iteration is:\n",
      "[169]\tcv_agg's l2: 0.23547 + 0.0579005\n",
      "[100]\tcv_agg's l2: 0.237902 + 0.0636629\n",
      "[200]\tcv_agg's l2: 0.240596 + 0.0578711\n"
     ]
    },
    {
     "name": "stderr",
     "output_type": "stream",
     "text": [
      "num_leaves, val_score: 0.235470:  30%|###############                                   | 6/20 [00:11<00:26,  1.88s/it][I 2023-10-28 18:28:48,869] Trial 12 finished with value: 0.23993089656283653 and parameters: {'num_leaves': 254}. Best is trial 10 with value: 0.23547047309229438.\n",
      "num_leaves, val_score: 0.235470:  30%|###############                                   | 6/20 [00:11<00:26,  1.88s/it]"
     ]
    },
    {
     "name": "stdout",
     "output_type": "stream",
     "text": [
      "Early stopping, best iteration is:\n",
      "[169]\tcv_agg's l2: 0.23547 + 0.0579005\n",
      "[100]\tcv_agg's l2: 0.23435 + 0.0622813\n"
     ]
    },
    {
     "name": "stderr",
     "output_type": "stream",
     "text": [
      "num_leaves, val_score: 0.233415:  35%|#################5                                | 7/20 [00:12<00:21,  1.68s/it][I 2023-10-28 18:28:50,120] Trial 13 finished with value: 0.23341531069319363 and parameters: {'num_leaves': 16}. Best is trial 13 with value: 0.23341531069319363.\n",
      "num_leaves, val_score: 0.233415:  35%|#################5                                | 7/20 [00:12<00:21,  1.68s/it]"
     ]
    },
    {
     "name": "stdout",
     "output_type": "stream",
     "text": [
      "[200]\tcv_agg's l2: 0.234956 + 0.0569665\n",
      "Early stopping, best iteration is:\n",
      "[104]\tcv_agg's l2: 0.233415 + 0.0611411\n",
      "[100]\tcv_agg's l2: 0.247343 + 0.070811\n"
     ]
    },
    {
     "name": "stderr",
     "output_type": "stream",
     "text": [
      "num_leaves, val_score: 0.233415:  40%|####################                              | 8/20 [00:13<00:15,  1.33s/it][I 2023-10-28 18:28:50,710] Trial 14 finished with value: 0.2466866123871106 and parameters: {'num_leaves': 5}. Best is trial 13 with value: 0.23341531069319363.\n",
      "num_leaves, val_score: 0.233415:  40%|####################                              | 8/20 [00:13<00:15,  1.33s/it]"
     ]
    },
    {
     "name": "stdout",
     "output_type": "stream",
     "text": [
      "[200]\tcv_agg's l2: 0.238814 + 0.066756\n",
      "Early stopping, best iteration is:\n",
      "[104]\tcv_agg's l2: 0.233415 + 0.0611411\n",
      "[100]\tcv_agg's l2: 0.237902 + 0.0636629\n"
     ]
    },
    {
     "name": "stderr",
     "output_type": "stream",
     "text": [
      "num_leaves, val_score: 0.233415:  45%|######################5                           | 9/20 [00:15<00:17,  1.59s/it][I 2023-10-28 18:28:52,881] Trial 15 finished with value: 0.23836872160756642 and parameters: {'num_leaves': 72}. Best is trial 13 with value: 0.23341531069319363.\n",
      "num_leaves, val_score: 0.233415:  45%|######################5                           | 9/20 [00:15<00:17,  1.59s/it]"
     ]
    },
    {
     "name": "stdout",
     "output_type": "stream",
     "text": [
      "[200]\tcv_agg's l2: 0.240596 + 0.0578711\n",
      "Early stopping, best iteration is:\n",
      "[104]\tcv_agg's l2: 0.233415 + 0.0611411\n",
      "[100]\tcv_agg's l2: 0.237902 + 0.0636629\n"
     ]
    },
    {
     "name": "stderr",
     "output_type": "stream",
     "text": [
      "num_leaves, val_score: 0.233415:  50%|########################5                        | 10/20 [00:17<00:17,  1.73s/it][I 2023-10-28 18:28:54,934] Trial 16 finished with value: 0.23836872160756642 and parameters: {'num_leaves': 58}. Best is trial 13 with value: 0.23341531069319363.\n",
      "num_leaves, val_score: 0.233415:  50%|########################5                        | 10/20 [00:17<00:17,  1.73s/it]"
     ]
    },
    {
     "name": "stdout",
     "output_type": "stream",
     "text": [
      "[200]\tcv_agg's l2: 0.240596 + 0.0578711\n",
      "Early stopping, best iteration is:\n",
      "[104]\tcv_agg's l2: 0.233415 + 0.0611411\n",
      "[100]\tcv_agg's l2: 0.237902 + 0.0636629\n"
     ]
    },
    {
     "name": "stderr",
     "output_type": "stream",
     "text": [
      "num_leaves, val_score: 0.233415:  55%|##########################9                      | 11/20 [00:19<00:16,  1.83s/it][I 2023-10-28 18:28:56,965] Trial 17 finished with value: 0.23836872160756642 and parameters: {'num_leaves': 44}. Best is trial 13 with value: 0.23341531069319363.\n",
      "num_leaves, val_score: 0.233415:  55%|##########################9                      | 11/20 [00:19<00:16,  1.83s/it]"
     ]
    },
    {
     "name": "stdout",
     "output_type": "stream",
     "text": [
      "[200]\tcv_agg's l2: 0.240596 + 0.0578711\n",
      "Early stopping, best iteration is:\n",
      "[104]\tcv_agg's l2: 0.233415 + 0.0611411\n",
      "[100]\tcv_agg's l2: 0.237902 + 0.0636629\n"
     ]
    },
    {
     "name": "stderr",
     "output_type": "stream",
     "text": [
      "num_leaves, val_score: 0.233415:  60%|#############################4                   | 12/20 [00:21<00:15,  1.90s/it][I 2023-10-28 18:28:59,035] Trial 18 finished with value: 0.23836872160756642 and parameters: {'num_leaves': 106}. Best is trial 13 with value: 0.23341531069319363.\n",
      "num_leaves, val_score: 0.233415:  60%|#############################4                   | 12/20 [00:21<00:15,  1.90s/it]"
     ]
    },
    {
     "name": "stdout",
     "output_type": "stream",
     "text": [
      "[200]\tcv_agg's l2: 0.240596 + 0.0578711\n",
      "Early stopping, best iteration is:\n",
      "[104]\tcv_agg's l2: 0.233415 + 0.0611411\n",
      "[100]\tcv_agg's l2: 0.237902 + 0.0636629\n"
     ]
    },
    {
     "name": "stderr",
     "output_type": "stream",
     "text": [
      "num_leaves, val_score: 0.233415:  65%|###############################8                 | 13/20 [00:23<00:13,  1.92s/it][I 2023-10-28 18:29:01,015] Trial 19 finished with value: 0.23836872160756642 and parameters: {'num_leaves': 32}. Best is trial 13 with value: 0.23341531069319363.\n",
      "num_leaves, val_score: 0.233415:  65%|###############################8                 | 13/20 [00:23<00:13,  1.92s/it]"
     ]
    },
    {
     "name": "stdout",
     "output_type": "stream",
     "text": [
      "[200]\tcv_agg's l2: 0.240596 + 0.0578711\n",
      "Early stopping, best iteration is:\n",
      "[104]\tcv_agg's l2: 0.233415 + 0.0611411\n",
      "[100]\tcv_agg's l2: 0.237902 + 0.0636629\n"
     ]
    },
    {
     "name": "stderr",
     "output_type": "stream",
     "text": [
      "num_leaves, val_score: 0.233415:  70%|##################################3              | 14/20 [00:25<00:11,  1.93s/it][I 2023-10-28 18:29:02,957] Trial 20 finished with value: 0.23836872160756642 and parameters: {'num_leaves': 127}. Best is trial 13 with value: 0.23341531069319363.\n",
      "num_leaves, val_score: 0.233415:  70%|##################################3              | 14/20 [00:25<00:11,  1.93s/it]"
     ]
    },
    {
     "name": "stdout",
     "output_type": "stream",
     "text": [
      "[200]\tcv_agg's l2: 0.240596 + 0.0578711\n",
      "Early stopping, best iteration is:\n",
      "[104]\tcv_agg's l2: 0.233415 + 0.0611411\n",
      "[100]\tcv_agg's l2: 0.237902 + 0.0636629\n"
     ]
    },
    {
     "name": "stderr",
     "output_type": "stream",
     "text": [
      "num_leaves, val_score: 0.233415:  75%|####################################7            | 15/20 [00:27<00:10,  2.01s/it][I 2023-10-28 18:29:05,165] Trial 21 finished with value: 0.23836872160756642 and parameters: {'num_leaves': 224}. Best is trial 13 with value: 0.23341531069319363.\n",
      "num_leaves, val_score: 0.233415:  75%|####################################7            | 15/20 [00:27<00:10,  2.01s/it]"
     ]
    },
    {
     "name": "stdout",
     "output_type": "stream",
     "text": [
      "[200]\tcv_agg's l2: 0.240596 + 0.0578711\n",
      "Early stopping, best iteration is:\n",
      "[104]\tcv_agg's l2: 0.233415 + 0.0611411\n",
      "[100]\tcv_agg's l2: 0.237902 + 0.0636629\n"
     ]
    },
    {
     "name": "stderr",
     "output_type": "stream",
     "text": [
      "num_leaves, val_score: 0.233415:  80%|#######################################2         | 16/20 [00:29<00:08,  2.03s/it][I 2023-10-28 18:29:07,243] Trial 22 finished with value: 0.23836872160756642 and parameters: {'num_leaves': 31}. Best is trial 13 with value: 0.23341531069319363.\n",
      "num_leaves, val_score: 0.233415:  80%|#######################################2         | 16/20 [00:29<00:08,  2.03s/it]"
     ]
    },
    {
     "name": "stdout",
     "output_type": "stream",
     "text": [
      "[200]\tcv_agg's l2: 0.240595 + 0.0578711\n",
      "Early stopping, best iteration is:\n",
      "[104]\tcv_agg's l2: 0.233415 + 0.0611411\n",
      "[100]\tcv_agg's l2: 0.237902 + 0.0636629\n"
     ]
    },
    {
     "name": "stderr",
     "output_type": "stream",
     "text": [
      "num_leaves, val_score: 0.233415:  85%|#########################################6       | 17/20 [00:31<00:06,  2.04s/it][I 2023-10-28 18:29:09,312] Trial 23 finished with value: 0.23836872160756642 and parameters: {'num_leaves': 99}. Best is trial 13 with value: 0.23341531069319363.\n",
      "num_leaves, val_score: 0.233415:  85%|#########################################6       | 17/20 [00:31<00:06,  2.04s/it]"
     ]
    },
    {
     "name": "stdout",
     "output_type": "stream",
     "text": [
      "[200]\tcv_agg's l2: 0.240596 + 0.0578711\n",
      "Early stopping, best iteration is:\n",
      "[104]\tcv_agg's l2: 0.233415 + 0.0611411\n",
      "[100]\tcv_agg's l2: 0.248402 + 0.072121\n"
     ]
    },
    {
     "name": "stderr",
     "output_type": "stream",
     "text": [
      "num_leaves, val_score: 0.233415:  90%|############################################1    | 18/20 [00:32<00:03,  1.62s/it][I 2023-10-28 18:29:09,955] Trial 24 finished with value: 0.24846880361619536 and parameters: {'num_leaves': 6}. Best is trial 13 with value: 0.23341531069319363.\n",
      "num_leaves, val_score: 0.233415:  90%|############################################1    | 18/20 [00:32<00:03,  1.62s/it]"
     ]
    },
    {
     "name": "stdout",
     "output_type": "stream",
     "text": [
      "[200]\tcv_agg's l2: 0.242157 + 0.0686725\n",
      "Early stopping, best iteration is:\n",
      "[104]\tcv_agg's l2: 0.233415 + 0.0611411\n",
      "[100]\tcv_agg's l2: 0.237902 + 0.0636629\n"
     ]
    },
    {
     "name": "stderr",
     "output_type": "stream",
     "text": [
      "num_leaves, val_score: 0.233415:  95%|##############################################5  | 19/20 [00:34<00:01,  1.74s/it][I 2023-10-28 18:29:11,986] Trial 25 finished with value: 0.23836872160756642 and parameters: {'num_leaves': 179}. Best is trial 13 with value: 0.23341531069319363.\n",
      "num_leaves, val_score: 0.233415:  95%|##############################################5  | 19/20 [00:34<00:01,  1.74s/it]"
     ]
    },
    {
     "name": "stdout",
     "output_type": "stream",
     "text": [
      "[200]\tcv_agg's l2: 0.240596 + 0.0578711\n",
      "Early stopping, best iteration is:\n",
      "[104]\tcv_agg's l2: 0.233415 + 0.0611411\n",
      "[100]\tcv_agg's l2: 0.237902 + 0.0636629\n"
     ]
    },
    {
     "name": "stderr",
     "output_type": "stream",
     "text": [
      "num_leaves, val_score: 0.233415: 100%|#################################################| 20/20 [00:36<00:00,  1.83s/it][I 2023-10-28 18:29:13,996] Trial 26 finished with value: 0.23836872160756642 and parameters: {'num_leaves': 49}. Best is trial 13 with value: 0.23341531069319363.\n",
      "num_leaves, val_score: 0.233415: 100%|#################################################| 20/20 [00:36<00:00,  1.82s/it]\n"
     ]
    },
    {
     "name": "stdout",
     "output_type": "stream",
     "text": [
      "[200]\tcv_agg's l2: 0.240596 + 0.0578711\n",
      "Early stopping, best iteration is:\n",
      "[104]\tcv_agg's l2: 0.233415 + 0.0611411\n"
     ]
    },
    {
     "name": "stderr",
     "output_type": "stream",
     "text": [
      "bagging, val_score: 0.233415:   0%|                                                             | 0/10 [00:00<?, ?it/s]"
     ]
    },
    {
     "name": "stdout",
     "output_type": "stream",
     "text": [
      "[100]\tcv_agg's l2: 0.264046 + 0.0656585\n"
     ]
    },
    {
     "name": "stderr",
     "output_type": "stream",
     "text": [
      "bagging, val_score: 0.233415:  10%|#####3                                               | 1/10 [00:01<00:12,  1.39s/it][I 2023-10-28 18:29:15,395] Trial 27 finished with value: 0.2643880466797759 and parameters: {'bagging_fraction': 0.6517640809157519, 'bagging_freq': 6}. Best is trial 27 with value: 0.2643880466797759.\n",
      "bagging, val_score: 0.233415:  10%|#####3                                               | 1/10 [00:01<00:12,  1.39s/it]"
     ]
    },
    {
     "name": "stdout",
     "output_type": "stream",
     "text": [
      "[200]\tcv_agg's l2: 0.263743 + 0.0637346\n",
      "Early stopping, best iteration is:\n",
      "[104]\tcv_agg's l2: 0.233415 + 0.0611411\n",
      "[100]\tcv_agg's l2: 0.237043 + 0.0589186\n"
     ]
    },
    {
     "name": "stderr",
     "output_type": "stream",
     "text": [
      "bagging, val_score: 0.233415:  20%|##########6                                          | 2/10 [00:02<00:11,  1.40s/it][I 2023-10-28 18:29:16,799] Trial 28 finished with value: 0.2371790228939395 and parameters: {'bagging_fraction': 0.9652932233088554, 'bagging_freq': 2}. Best is trial 28 with value: 0.2371790228939395.\n",
      "bagging, val_score: 0.233415:  20%|##########6                                          | 2/10 [00:02<00:11,  1.40s/it]"
     ]
    },
    {
     "name": "stdout",
     "output_type": "stream",
     "text": [
      "[200]\tcv_agg's l2: 0.23798 + 0.0537807\n",
      "Early stopping, best iteration is:\n",
      "[104]\tcv_agg's l2: 0.233415 + 0.0611411\n",
      "[100]\tcv_agg's l2: 0.233341 + 0.0621574\n",
      "[200]\tcv_agg's l2: 0.234049 + 0.0574574\n"
     ]
    },
    {
     "name": "stderr",
     "output_type": "stream",
     "text": [
      "bagging, val_score: 0.232536:  30%|###############9                                     | 3/10 [00:04<00:11,  1.62s/it][I 2023-10-28 18:29:18,674] Trial 29 finished with value: 0.23253617115631445 and parameters: {'bagging_fraction': 0.9981694607174652, 'bagging_freq': 1}. Best is trial 29 with value: 0.23253617115631445.\n",
      "bagging, val_score: 0.232536:  30%|###############9                                     | 3/10 [00:04<00:11,  1.62s/it]"
     ]
    },
    {
     "name": "stdout",
     "output_type": "stream",
     "text": [
      "Early stopping, best iteration is:\n",
      "[183]\tcv_agg's l2: 0.232536 + 0.0571866\n",
      "[100]\tcv_agg's l2: 0.235526 + 0.0680071\n",
      "[200]\tcv_agg's l2: 0.235091 + 0.0618478\n"
     ]
    },
    {
     "name": "stderr",
     "output_type": "stream",
     "text": [
      "bagging, val_score: 0.232536:  40%|#####################2                               | 4/10 [00:06<00:10,  1.71s/it][I 2023-10-28 18:29:20,521] Trial 30 finished with value: 0.23491959778485322 and parameters: {'bagging_fraction': 0.9958023482263214, 'bagging_freq': 1}. Best is trial 29 with value: 0.23253617115631445.\n",
      "bagging, val_score: 0.232536:  40%|#####################2                               | 4/10 [00:06<00:10,  1.71s/it]"
     ]
    },
    {
     "name": "stdout",
     "output_type": "stream",
     "text": [
      "Early stopping, best iteration is:\n",
      "[183]\tcv_agg's l2: 0.232536 + 0.0571866\n",
      "[100]\tcv_agg's l2: 0.234248 + 0.0587065\n",
      "[200]\tcv_agg's l2: 0.23203 + 0.0560273\n"
     ]
    },
    {
     "name": "stderr",
     "output_type": "stream",
     "text": [
      "bagging, val_score: 0.231744:  50%|##########################5                          | 5/10 [00:08<00:08,  1.78s/it][I 2023-10-28 18:29:22,443] Trial 31 finished with value: 0.23174379714850152 and parameters: {'bagging_fraction': 0.9922640074275166, 'bagging_freq': 1}. Best is trial 31 with value: 0.23174379714850152.\n",
      "bagging, val_score: 0.231744:  50%|##########################5                          | 5/10 [00:08<00:08,  1.78s/it]"
     ]
    },
    {
     "name": "stdout",
     "output_type": "stream",
     "text": [
      "[300]\tcv_agg's l2: 0.233733 + 0.053376\n",
      "Early stopping, best iteration is:\n",
      "[203]\tcv_agg's l2: 0.231744 + 0.0556942\n",
      "[100]\tcv_agg's l2: 0.233674 + 0.0593381\n",
      "[200]\tcv_agg's l2: 0.233305 + 0.0531294\n"
     ]
    },
    {
     "name": "stderr",
     "output_type": "stream",
     "text": [
      "bagging, val_score: 0.231744:  60%|###############################8                     | 6/10 [00:10<00:07,  1.86s/it][I 2023-10-28 18:29:24,440] Trial 32 finished with value: 0.23345283241181497 and parameters: {'bagging_fraction': 0.9880717799540834, 'bagging_freq': 1}. Best is trial 31 with value: 0.23174379714850152.\n",
      "bagging, val_score: 0.231744:  60%|###############################8                     | 6/10 [00:10<00:07,  1.86s/it]"
     ]
    },
    {
     "name": "stdout",
     "output_type": "stream",
     "text": [
      "[300]\tcv_agg's l2: 0.236071 + 0.0507155\n",
      "Early stopping, best iteration is:\n",
      "[203]\tcv_agg's l2: 0.231744 + 0.0556942\n",
      "[100]\tcv_agg's l2: 0.232916 + 0.0614738\n",
      "[200]\tcv_agg's l2: 0.232178 + 0.0580709\n"
     ]
    },
    {
     "name": "stderr",
     "output_type": "stream",
     "text": [
      "bagging, val_score: 0.230112:  70%|#####################################                | 7/10 [00:12<00:05,  1.78s/it][I 2023-10-28 18:29:26,055] Trial 33 finished with value: 0.23011201734375236 and parameters: {'bagging_fraction': 0.9666252011696157, 'bagging_freq': 1}. Best is trial 33 with value: 0.23011201734375236.\n",
      "bagging, val_score: 0.230112:  70%|#####################################                | 7/10 [00:12<00:05,  1.78s/it]"
     ]
    },
    {
     "name": "stdout",
     "output_type": "stream",
     "text": [
      "Early stopping, best iteration is:\n",
      "[133]\tcv_agg's l2: 0.230112 + 0.0592428\n",
      "[100]\tcv_agg's l2: 0.238494 + 0.0506728\n"
     ]
    },
    {
     "name": "stderr",
     "output_type": "stream",
     "text": [
      "\r",
      "bagging, val_score: 0.230112:  70%|#####################################                | 7/10 [00:14<00:05,  1.78s/it]"
     ]
    },
    {
     "name": "stdout",
     "output_type": "stream",
     "text": [
      "[200]\tcv_agg's l2: 0.242103 + 0.0505995\n",
      "Early stopping, best iteration is:\n",
      "[133]\tcv_agg's l2: 0.230112 + 0.0592428\n"
     ]
    },
    {
     "name": "stderr",
     "output_type": "stream",
     "text": [
      "bagging, val_score: 0.230112:  80%|##########################################4          | 8/10 [00:14<00:03,  1.92s/it][I 2023-10-28 18:29:28,272] Trial 34 finished with value: 0.23839384709373487 and parameters: {'bagging_fraction': 0.8536577919207401, 'bagging_freq': 3}. Best is trial 33 with value: 0.23011201734375236.\n",
      "bagging, val_score: 0.230112:  80%|##########################################4          | 8/10 [00:14<00:03,  1.92s/it]"
     ]
    },
    {
     "name": "stdout",
     "output_type": "stream",
     "text": [
      "[100]\tcv_agg's l2: 0.234007 + 0.0541428\n"
     ]
    },
    {
     "name": "stderr",
     "output_type": "stream",
     "text": [
      "bagging, val_score: 0.230112:  90%|###############################################7     | 9/10 [00:15<00:01,  1.65s/it][I 2023-10-28 18:29:29,334] Trial 35 finished with value: 0.23373489928516267 and parameters: {'bagging_fraction': 0.8203350154209085, 'bagging_freq': 1}. Best is trial 33 with value: 0.23011201734375236.\n",
      "bagging, val_score: 0.230112:  90%|###############################################7     | 9/10 [00:15<00:01,  1.65s/it]"
     ]
    },
    {
     "name": "stdout",
     "output_type": "stream",
     "text": [
      "[200]\tcv_agg's l2: 0.234987 + 0.0529746\n",
      "Early stopping, best iteration is:\n",
      "[133]\tcv_agg's l2: 0.230112 + 0.0592428\n",
      "[100]\tcv_agg's l2: 0.30694 + 0.0352234\n"
     ]
    },
    {
     "name": "stderr",
     "output_type": "stream",
     "text": [
      "bagging, val_score: 0.230112: 100%|####################################################| 10/10 [00:16<00:00,  1.37s/it][I 2023-10-28 18:29:30,062] Trial 36 finished with value: 0.3048654073386535 and parameters: {'bagging_fraction': 0.41683368582390223, 'bagging_freq': 4}. Best is trial 33 with value: 0.23011201734375236.\n",
      "bagging, val_score: 0.230112: 100%|####################################################| 10/10 [00:16<00:00,  1.61s/it]\n"
     ]
    },
    {
     "name": "stdout",
     "output_type": "stream",
     "text": [
      "[200]\tcv_agg's l2: 0.303067 + 0.0390377\n",
      "Early stopping, best iteration is:\n",
      "[133]\tcv_agg's l2: 0.230112 + 0.0592428\n"
     ]
    },
    {
     "name": "stderr",
     "output_type": "stream",
     "text": [
      "feature_fraction_stage2, val_score: 0.230112:   0%|                                              | 0/6 [00:00<?, ?it/s]"
     ]
    },
    {
     "name": "stdout",
     "output_type": "stream",
     "text": [
      "[100]\tcv_agg's l2: 0.232916 + 0.0614738\n"
     ]
    },
    {
     "name": "stderr",
     "output_type": "stream",
     "text": [
      "feature_fraction_stage2, val_score: 0.230112:  17%|######3                               | 1/6 [00:00<00:04,  1.18it/s][I 2023-10-28 18:29:30,920] Trial 37 finished with value: 0.23011201734375236 and parameters: {'feature_fraction': 0.7520000000000001}. Best is trial 37 with value: 0.23011201734375236.\n",
      "feature_fraction_stage2, val_score: 0.230112:  17%|######3                               | 1/6 [00:00<00:04,  1.18it/s]"
     ]
    },
    {
     "name": "stdout",
     "output_type": "stream",
     "text": [
      "[200]\tcv_agg's l2: 0.232178 + 0.0580709\n",
      "Early stopping, best iteration is:\n",
      "[133]\tcv_agg's l2: 0.230112 + 0.0592428\n",
      "[100]\tcv_agg's l2: 0.243808 + 0.0665669\n"
     ]
    },
    {
     "name": "stderr",
     "output_type": "stream",
     "text": [
      "feature_fraction_stage2, val_score: 0.230112:  33%|############6                         | 2/6 [00:01<00:03,  1.02it/s][I 2023-10-28 18:29:31,992] Trial 38 finished with value: 0.24343432639145984 and parameters: {'feature_fraction': 0.8480000000000001}. Best is trial 37 with value: 0.23011201734375236.\n",
      "feature_fraction_stage2, val_score: 0.230112:  33%|############6                         | 2/6 [00:01<00:03,  1.02it/s]"
     ]
    },
    {
     "name": "stdout",
     "output_type": "stream",
     "text": [
      "[200]\tcv_agg's l2: 0.24423 + 0.0651395\n",
      "Early stopping, best iteration is:\n",
      "[133]\tcv_agg's l2: 0.230112 + 0.0592428\n",
      "[100]\tcv_agg's l2: 0.232916 + 0.0614738\n"
     ]
    },
    {
     "name": "stderr",
     "output_type": "stream",
     "text": [
      "feature_fraction_stage2, val_score: 0.230112:  50%|###################                   | 3/6 [00:02<00:02,  1.08it/s][I 2023-10-28 18:29:32,844] Trial 39 finished with value: 0.23011201734375236 and parameters: {'feature_fraction': 0.7200000000000001}. Best is trial 37 with value: 0.23011201734375236.\n",
      "feature_fraction_stage2, val_score: 0.230112:  50%|###################                   | 3/6 [00:02<00:02,  1.08it/s]"
     ]
    },
    {
     "name": "stdout",
     "output_type": "stream",
     "text": [
      "[200]\tcv_agg's l2: 0.232178 + 0.0580709\n",
      "Early stopping, best iteration is:\n",
      "[133]\tcv_agg's l2: 0.230112 + 0.0592428\n",
      "[100]\tcv_agg's l2: 0.232916 + 0.0614738\n"
     ]
    },
    {
     "name": "stderr",
     "output_type": "stream",
     "text": [
      "feature_fraction_stage2, val_score: 0.230112:  67%|#########################3            | 4/6 [00:03<00:01,  1.11it/s][I 2023-10-28 18:29:33,713] Trial 40 finished with value: 0.23011201734375236 and parameters: {'feature_fraction': 0.784}. Best is trial 37 with value: 0.23011201734375236.\n",
      "feature_fraction_stage2, val_score: 0.230112:  67%|#########################3            | 4/6 [00:03<00:01,  1.11it/s]"
     ]
    },
    {
     "name": "stdout",
     "output_type": "stream",
     "text": [
      "[200]\tcv_agg's l2: 0.232178 + 0.0580709\n",
      "Early stopping, best iteration is:\n",
      "[133]\tcv_agg's l2: 0.230112 + 0.0592428\n",
      "[100]\tcv_agg's l2: 0.243808 + 0.0665669\n"
     ]
    },
    {
     "name": "stderr",
     "output_type": "stream",
     "text": [
      "feature_fraction_stage2, val_score: 0.230112:  83%|###############################6      | 5/6 [00:04<00:00,  1.12it/s][I 2023-10-28 18:29:34,589] Trial 41 finished with value: 0.24343432639145984 and parameters: {'feature_fraction': 0.88}. Best is trial 37 with value: 0.23011201734375236.\n",
      "feature_fraction_stage2, val_score: 0.230112:  83%|###############################6      | 5/6 [00:04<00:00,  1.12it/s]"
     ]
    },
    {
     "name": "stdout",
     "output_type": "stream",
     "text": [
      "[200]\tcv_agg's l2: 0.24423 + 0.0651395\n",
      "Early stopping, best iteration is:\n",
      "[133]\tcv_agg's l2: 0.230112 + 0.0592428\n",
      "[100]\tcv_agg's l2: 0.243808 + 0.0665669\n",
      "[200]\tcv_agg's l2: 0.24423 + 0.0651395\n"
     ]
    },
    {
     "name": "stderr",
     "output_type": "stream",
     "text": [
      "feature_fraction_stage2, val_score: 0.230112: 100%|######################################| 6/6 [00:05<00:00,  1.09s/it][I 2023-10-28 18:29:36,054] Trial 42 finished with value: 0.24343432639145984 and parameters: {'feature_fraction': 0.8160000000000001}. Best is trial 37 with value: 0.23011201734375236.\n",
      "feature_fraction_stage2, val_score: 0.230112: 100%|######################################| 6/6 [00:05<00:00,  1.00it/s]\n"
     ]
    },
    {
     "name": "stdout",
     "output_type": "stream",
     "text": [
      "Early stopping, best iteration is:\n",
      "[133]\tcv_agg's l2: 0.230112 + 0.0592428\n"
     ]
    },
    {
     "name": "stderr",
     "output_type": "stream",
     "text": [
      "regularization_factors, val_score: 0.230112:   0%|                                              | 0/20 [00:00<?, ?it/s]"
     ]
    },
    {
     "name": "stdout",
     "output_type": "stream",
     "text": [
      "[100]\tcv_agg's l2: 0.232916 + 0.0614737\n",
      "[200]\tcv_agg's l2: 0.232178 + 0.0580708\n"
     ]
    },
    {
     "name": "stderr",
     "output_type": "stream",
     "text": [
      "regularization_factors, val_score: 0.230112:   5%|#9                                    | 1/20 [00:01<00:29,  1.54s/it][I 2023-10-28 18:29:37,598] Trial 43 finished with value: 0.2301119564096444 and parameters: {'lambda_l1': 1.1560800863480023e-05, 'lambda_l2': 5.8070260852345405e-05}. Best is trial 43 with value: 0.2301119564096444.\n",
      "regularization_factors, val_score: 0.230112:   5%|#9                                    | 1/20 [00:01<00:29,  1.54s/it]"
     ]
    },
    {
     "name": "stdout",
     "output_type": "stream",
     "text": [
      "Early stopping, best iteration is:\n",
      "[133]\tcv_agg's l2: 0.230112 + 0.0592427\n",
      "[100]\tcv_agg's l2: 0.232916 + 0.0614737\n",
      "[200]\tcv_agg's l2: 0.232178 + 0.0580708\n"
     ]
    },
    {
     "name": "stderr",
     "output_type": "stream",
     "text": [
      "regularization_factors, val_score: 0.230112:  10%|###8                                  | 2/20 [00:03<00:27,  1.55s/it][I 2023-10-28 18:29:39,152] Trial 44 finished with value: 0.23011193328578622 and parameters: {'lambda_l1': 1.4793554082234786e-05, 'lambda_l2': 8.193057238162542e-05}. Best is trial 44 with value: 0.23011193328578622.\n",
      "regularization_factors, val_score: 0.230112:  10%|###8                                  | 2/20 [00:03<00:27,  1.55s/it]"
     ]
    },
    {
     "name": "stdout",
     "output_type": "stream",
     "text": [
      "Early stopping, best iteration is:\n",
      "[133]\tcv_agg's l2: 0.230112 + 0.0592427\n",
      "[100]\tcv_agg's l2: 0.232916 + 0.0614737\n",
      "[200]\tcv_agg's l2: 0.232178 + 0.0580709\n"
     ]
    },
    {
     "name": "stderr",
     "output_type": "stream",
     "text": [
      "regularization_factors, val_score: 0.230112:  15%|#####7                                | 3/20 [00:04<00:26,  1.57s/it][I 2023-10-28 18:29:40,749] Trial 45 finished with value: 0.23011196853550805 and parameters: {'lambda_l1': 9.379950251577176e-06, 'lambda_l2': 4.685716947250159e-05}. Best is trial 44 with value: 0.23011193328578622.\n",
      "regularization_factors, val_score: 0.230112:  15%|#####7                                | 3/20 [00:04<00:26,  1.57s/it]"
     ]
    },
    {
     "name": "stdout",
     "output_type": "stream",
     "text": [
      "Early stopping, best iteration is:\n",
      "[133]\tcv_agg's l2: 0.230112 + 0.0592427\n",
      "[100]\tcv_agg's l2: 0.232916 + 0.0614737\n",
      "[200]\tcv_agg's l2: 0.232178 + 0.0580709\n"
     ]
    },
    {
     "name": "stderr",
     "output_type": "stream",
     "text": [
      "regularization_factors, val_score: 0.230112:  20%|#######6                              | 4/20 [00:06<00:25,  1.59s/it][I 2023-10-28 18:29:42,362] Trial 46 finished with value: 0.23011196258149455 and parameters: {'lambda_l1': 9.926826424096534e-06, 'lambda_l2': 5.2805442138353944e-05}. Best is trial 44 with value: 0.23011193328578622.\n",
      "regularization_factors, val_score: 0.230112:  20%|#######6                              | 4/20 [00:06<00:25,  1.59s/it]"
     ]
    },
    {
     "name": "stdout",
     "output_type": "stream",
     "text": [
      "Early stopping, best iteration is:\n",
      "[133]\tcv_agg's l2: 0.230112 + 0.0592427\n",
      "[100]\tcv_agg's l2: 0.232916 + 0.0614737\n",
      "[200]\tcv_agg's l2: 0.232178 + 0.0580709\n"
     ]
    },
    {
     "name": "stderr",
     "output_type": "stream",
     "text": [
      "regularization_factors, val_score: 0.230112:  25%|#########5                            | 5/20 [00:07<00:23,  1.59s/it][I 2023-10-28 18:29:43,958] Trial 47 finished with value: 0.2301119785849733 and parameters: {'lambda_l1': 1.0259093587008172e-05, 'lambda_l2': 3.416572433975385e-05}. Best is trial 44 with value: 0.23011193328578622.\n",
      "regularization_factors, val_score: 0.230112:  25%|#########5                            | 5/20 [00:07<00:23,  1.59s/it]"
     ]
    },
    {
     "name": "stdout",
     "output_type": "stream",
     "text": [
      "Early stopping, best iteration is:\n",
      "[133]\tcv_agg's l2: 0.230112 + 0.0592427\n",
      "[100]\tcv_agg's l2: 0.232916 + 0.0614737\n",
      "[200]\tcv_agg's l2: 0.232178 + 0.0580708\n"
     ]
    },
    {
     "name": "stderr",
     "output_type": "stream",
     "text": [
      "regularization_factors, val_score: 0.230112:  30%|###########4                          | 6/20 [00:09<00:22,  1.59s/it][I 2023-10-28 18:29:45,552] Trial 48 finished with value: 0.23011195256057954 and parameters: {'lambda_l1': 9.250963349169436e-06, 'lambda_l2': 6.41697816438416e-05}. Best is trial 44 with value: 0.23011193328578622.\n",
      "regularization_factors, val_score: 0.230112:  30%|###########4                          | 6/20 [00:09<00:22,  1.59s/it]"
     ]
    },
    {
     "name": "stdout",
     "output_type": "stream",
     "text": [
      "Early stopping, best iteration is:\n",
      "[133]\tcv_agg's l2: 0.230112 + 0.0592427\n",
      "[100]\tcv_agg's l2: 0.232916 + 0.0614737\n",
      "[200]\tcv_agg's l2: 0.232178 + 0.0580708\n"
     ]
    },
    {
     "name": "stderr",
     "output_type": "stream",
     "text": [
      "regularization_factors, val_score: 0.230112:  35%|#############3                        | 7/20 [00:11<00:21,  1.63s/it][I 2023-10-28 18:29:47,255] Trial 49 finished with value: 0.2301119493100578 and parameters: {'lambda_l1': 6.370238065869216e-06, 'lambda_l2': 7.003935627167796e-05}. Best is trial 44 with value: 0.23011193328578622.\n",
      "regularization_factors, val_score: 0.230112:  35%|#############3                        | 7/20 [00:11<00:21,  1.63s/it]"
     ]
    },
    {
     "name": "stdout",
     "output_type": "stream",
     "text": [
      "Early stopping, best iteration is:\n",
      "[133]\tcv_agg's l2: 0.230112 + 0.0592427\n",
      "[100]\tcv_agg's l2: 0.232916 + 0.0614737\n",
      "[200]\tcv_agg's l2: 0.232178 + 0.0580708\n"
     ]
    },
    {
     "name": "stderr",
     "output_type": "stream",
     "text": [
      "regularization_factors, val_score: 0.230112:  40%|###############2                      | 8/20 [00:12<00:19,  1.64s/it][I 2023-10-28 18:29:48,909] Trial 50 finished with value: 0.2301119394630214 and parameters: {'lambda_l1': 9.31990057360555e-06, 'lambda_l2': 7.965020811885922e-05}. Best is trial 44 with value: 0.23011193328578622.\n",
      "regularization_factors, val_score: 0.230112:  40%|###############2                      | 8/20 [00:12<00:19,  1.64s/it]"
     ]
    },
    {
     "name": "stdout",
     "output_type": "stream",
     "text": [
      "Early stopping, best iteration is:\n",
      "[133]\tcv_agg's l2: 0.230112 + 0.0592427\n",
      "[100]\tcv_agg's l2: 0.232916 + 0.0614737\n",
      "[200]\tcv_agg's l2: 0.232178 + 0.0580708\n"
     ]
    },
    {
     "name": "stderr",
     "output_type": "stream",
     "text": [
      "regularization_factors, val_score: 0.230112:  45%|#################1                    | 9/20 [00:14<00:17,  1.61s/it][I 2023-10-28 18:29:50,460] Trial 51 finished with value: 0.23011194386945072 and parameters: {'lambda_l1': 8.679890947580597e-06, 'lambda_l2': 7.472050711946246e-05}. Best is trial 44 with value: 0.23011193328578622.\n",
      "regularization_factors, val_score: 0.230112:  45%|#################1                    | 9/20 [00:14<00:17,  1.61s/it]"
     ]
    },
    {
     "name": "stdout",
     "output_type": "stream",
     "text": [
      "Early stopping, best iteration is:\n",
      "[133]\tcv_agg's l2: 0.230112 + 0.0592427\n",
      "[100]\tcv_agg's l2: 0.232916 + 0.0614737\n",
      "[200]\tcv_agg's l2: 0.232178 + 0.0580708\n"
     ]
    },
    {
     "name": "stderr",
     "output_type": "stream",
     "text": [
      "regularization_factors, val_score: 0.230112:  50%|##################5                  | 10/20 [00:16<00:16,  1.63s/it][I 2023-10-28 18:29:52,146] Trial 52 finished with value: 0.230111916360837 and parameters: {'lambda_l1': 1.0499523758769866e-05, 'lambda_l2': 0.0001043150520565453}. Best is trial 52 with value: 0.230111916360837.\n",
      "regularization_factors, val_score: 0.230112:  50%|##################5                  | 10/20 [00:16<00:16,  1.63s/it]"
     ]
    },
    {
     "name": "stdout",
     "output_type": "stream",
     "text": [
      "Early stopping, best iteration is:\n",
      "[133]\tcv_agg's l2: 0.230112 + 0.0592427\n",
      "[100]\tcv_agg's l2: 0.232916 + 0.0614736\n",
      "[200]\tcv_agg's l2: 0.232178 + 0.0580708\n"
     ]
    },
    {
     "name": "stderr",
     "output_type": "stream",
     "text": [
      "regularization_factors, val_score: 0.230112:  55%|####################3                | 11/20 [00:17<00:14,  1.60s/it][I 2023-10-28 18:29:53,676] Trial 53 finished with value: 0.2301118903745877 and parameters: {'lambda_l1': 9.552757299636594e-06, 'lambda_l2': 0.00013381680107199282}. Best is trial 53 with value: 0.2301118903745877.\n",
      "regularization_factors, val_score: 0.230112:  55%|####################3                | 11/20 [00:17<00:14,  1.60s/it]"
     ]
    },
    {
     "name": "stdout",
     "output_type": "stream",
     "text": [
      "Early stopping, best iteration is:\n",
      "[133]\tcv_agg's l2: 0.230112 + 0.0592427\n",
      "[100]\tcv_agg's l2: 0.232916 + 0.0614734\n",
      "[200]\tcv_agg's l2: 0.232177 + 0.0580706\n"
     ]
    },
    {
     "name": "stderr",
     "output_type": "stream",
     "text": [
      "regularization_factors, val_score: 0.230112:  60%|######################2              | 12/20 [00:19<00:12,  1.59s/it][I 2023-10-28 18:29:55,225] Trial 54 finished with value: 0.2301116940454011 and parameters: {'lambda_l1': 1.0709730338646136e-05, 'lambda_l2': 0.00035195564223517817}. Best is trial 54 with value: 0.2301116940454011.\n",
      "regularization_factors, val_score: 0.230112:  60%|######################2              | 12/20 [00:19<00:12,  1.59s/it]"
     ]
    },
    {
     "name": "stdout",
     "output_type": "stream",
     "text": [
      "Early stopping, best iteration is:\n",
      "[133]\tcv_agg's l2: 0.230112 + 0.0592425\n",
      "[100]\tcv_agg's l2: 0.232368 + 0.0580723\n",
      "[200]\tcv_agg's l2: 0.232154 + 0.0540863\n"
     ]
    },
    {
     "name": "stderr",
     "output_type": "stream",
     "text": [
      "regularization_factors, val_score: 0.230112:  65%|########################             | 13/20 [00:20<00:10,  1.56s/it][I 2023-10-28 18:29:56,742] Trial 55 finished with value: 0.23121451190451517 and parameters: {'lambda_l1': 0.00012856621726094279, 'lambda_l2': 0.0034983781131542437}. Best is trial 54 with value: 0.2301116940454011.\n",
      "regularization_factors, val_score: 0.230112:  65%|########################             | 13/20 [00:20<00:10,  1.56s/it]"
     ]
    },
    {
     "name": "stdout",
     "output_type": "stream",
     "text": [
      "Early stopping, best iteration is:\n",
      "[133]\tcv_agg's l2: 0.230112 + 0.0592425\n",
      "[100]\tcv_agg's l2: 0.233267 + 0.0612671\n",
      "[200]\tcv_agg's l2: 0.233717 + 0.0572938\n"
     ]
    },
    {
     "name": "stderr",
     "output_type": "stream",
     "text": [
      "regularization_factors, val_score: 0.230112:  70%|#########################9           | 14/20 [00:22<00:09,  1.56s/it][I 2023-10-28 18:29:58,299] Trial 56 finished with value: 0.23152312075006048 and parameters: {'lambda_l1': 4.219788517804743e-08, 'lambda_l2': 0.000998918990593431}. Best is trial 54 with value: 0.2301116940454011.\n",
      "regularization_factors, val_score: 0.230112:  70%|#########################9           | 14/20 [00:22<00:09,  1.56s/it]"
     ]
    },
    {
     "name": "stdout",
     "output_type": "stream",
     "text": [
      "Early stopping, best iteration is:\n",
      "[133]\tcv_agg's l2: 0.230112 + 0.0592425\n",
      "[100]\tcv_agg's l2: 0.230569 + 0.0588891\n"
     ]
    },
    {
     "name": "stderr",
     "output_type": "stream",
     "text": [
      "\r",
      "regularization_factors, val_score: 0.228746:  70%|#########################9           | 14/20 [00:23<00:09,  1.56s/it]"
     ]
    },
    {
     "name": "stdout",
     "output_type": "stream",
     "text": [
      "[200]\tcv_agg's l2: 0.230579 + 0.0543916\n",
      "Early stopping, best iteration is:\n",
      "[130]\tcv_agg's l2: 0.228746 + 0.0561367\n"
     ]
    },
    {
     "name": "stderr",
     "output_type": "stream",
     "text": [
      "regularization_factors, val_score: 0.228746:  75%|###########################7         | 15/20 [00:23<00:07,  1.57s/it][I 2023-10-28 18:29:59,904] Trial 57 finished with value: 0.22874558278570395 and parameters: {'lambda_l1': 0.011989201237934092, 'lambda_l2': 1.1771386603574299e-06}. Best is trial 57 with value: 0.22874558278570395.\n",
      "regularization_factors, val_score: 0.228746:  75%|###########################7         | 15/20 [00:23<00:07,  1.57s/it]"
     ]
    },
    {
     "name": "stdout",
     "output_type": "stream",
     "text": [
      "[100]\tcv_agg's l2: 0.233436 + 0.0614721\n",
      "[200]\tcv_agg's l2: 0.234884 + 0.0567932\n"
     ]
    },
    {
     "name": "stderr",
     "output_type": "stream",
     "text": [
      "regularization_factors, val_score: 0.228746:  80%|#############################6       | 16/20 [00:25<00:06,  1.58s/it][I 2023-10-28 18:30:01,491] Trial 58 finished with value: 0.23202947854661127 and parameters: {'lambda_l1': 0.10472375203143705, 'lambda_l2': 1.065800443758003e-07}. Best is trial 57 with value: 0.22874558278570395.\n",
      "regularization_factors, val_score: 0.228746:  80%|#############################6       | 16/20 [00:25<00:06,  1.58s/it]"
     ]
    },
    {
     "name": "stdout",
     "output_type": "stream",
     "text": [
      "Early stopping, best iteration is:\n",
      "[130]\tcv_agg's l2: 0.228746 + 0.0561367\n",
      "[100]\tcv_agg's l2: 0.231728 + 0.059584\n"
     ]
    },
    {
     "name": "stderr",
     "output_type": "stream",
     "text": [
      "\r",
      "regularization_factors, val_score: 0.228746:  80%|#############################6       | 16/20 [00:27<00:06,  1.58s/it]"
     ]
    },
    {
     "name": "stdout",
     "output_type": "stream",
     "text": [
      "[200]\tcv_agg's l2: 0.230384 + 0.0541196\n",
      "Early stopping, best iteration is:\n",
      "[130]\tcv_agg's l2: 0.228746 + 0.0561367\n"
     ]
    },
    {
     "name": "stderr",
     "output_type": "stream",
     "text": [
      "regularization_factors, val_score: 0.228746:  85%|###############################4     | 17/20 [00:27<00:04,  1.59s/it][I 2023-10-28 18:30:03,097] Trial 59 finished with value: 0.22998996116544923 and parameters: {'lambda_l1': 0.01575719168275486, 'lambda_l2': 8.589952675627108e-07}. Best is trial 57 with value: 0.22874558278570395.\n",
      "regularization_factors, val_score: 0.228746:  85%|###############################4     | 17/20 [00:27<00:04,  1.59s/it]"
     ]
    },
    {
     "name": "stdout",
     "output_type": "stream",
     "text": [
      "[100]\tcv_agg's l2: 0.229808 + 0.058305\n",
      "[200]\tcv_agg's l2: 0.229426 + 0.0552056\n"
     ]
    },
    {
     "name": "stderr",
     "output_type": "stream",
     "text": [
      "regularization_factors, val_score: 0.226977:  90%|#################################3   | 18/20 [00:28<00:03,  1.61s/it][I 2023-10-28 18:30:04,751] Trial 60 finished with value: 0.22697738941424098 and parameters: {'lambda_l1': 0.02314300152753777, 'lambda_l2': 1.0016773186189778e-06}. Best is trial 60 with value: 0.22697738941424098.\n",
      "regularization_factors, val_score: 0.226977:  90%|#################################3   | 18/20 [00:28<00:03,  1.61s/it]"
     ]
    },
    {
     "name": "stdout",
     "output_type": "stream",
     "text": [
      "Early stopping, best iteration is:\n",
      "[152]\tcv_agg's l2: 0.226977 + 0.0551478\n",
      "[100]\tcv_agg's l2: 0.229961 + 0.0591308\n",
      "[200]\tcv_agg's l2: 0.229753 + 0.0542719\n"
     ]
    },
    {
     "name": "stderr",
     "output_type": "stream",
     "text": [
      "regularization_factors, val_score: 0.226977:  95%|###################################1 | 19/20 [00:30<00:01,  1.64s/it][I 2023-10-28 18:30:06,484] Trial 61 finished with value: 0.2295068719429203 and parameters: {'lambda_l1': 0.02699156869570006, 'lambda_l2': 8.448261624093519e-07}. Best is trial 60 with value: 0.22697738941424098.\n",
      "regularization_factors, val_score: 0.226977:  95%|###################################1 | 19/20 [00:30<00:01,  1.64s/it]"
     ]
    },
    {
     "name": "stdout",
     "output_type": "stream",
     "text": [
      "Early stopping, best iteration is:\n",
      "[152]\tcv_agg's l2: 0.226977 + 0.0551478\n",
      "[100]\tcv_agg's l2: 0.229615 + 0.0590985\n",
      "[200]\tcv_agg's l2: 0.230051 + 0.0563114\n"
     ]
    },
    {
     "name": "stderr",
     "output_type": "stream",
     "text": [
      "regularization_factors, val_score: 0.226977: 100%|#####################################| 20/20 [00:32<00:00,  1.66s/it][I 2023-10-28 18:30:08,191] Trial 62 finished with value: 0.22912009108118384 and parameters: {'lambda_l1': 0.02925351169386716, 'lambda_l2': 9.005513138862909e-07}. Best is trial 60 with value: 0.22697738941424098.\n",
      "regularization_factors, val_score: 0.226977: 100%|#####################################| 20/20 [00:32<00:00,  1.61s/it]\n"
     ]
    },
    {
     "name": "stdout",
     "output_type": "stream",
     "text": [
      "Early stopping, best iteration is:\n",
      "[152]\tcv_agg's l2: 0.226977 + 0.0551478\n"
     ]
    },
    {
     "name": "stderr",
     "output_type": "stream",
     "text": [
      "min_data_in_leaf, val_score: 0.226977:   0%|                                                     | 0/5 [00:00<?, ?it/s]"
     ]
    },
    {
     "name": "stdout",
     "output_type": "stream",
     "text": [
      "[100]\tcv_agg's l2: 0.220964 + 0.0543542\n"
     ]
    },
    {
     "name": "stderr",
     "output_type": "stream",
     "text": [
      "min_data_in_leaf, val_score: 0.220593:  20%|#########                                    | 1/5 [00:01<00:05,  1.31s/it][I 2023-10-28 18:30:09,507] Trial 63 finished with value: 0.22059251526543702 and parameters: {'min_child_samples': 5}. Best is trial 63 with value: 0.22059251526543702.\n",
      "min_data_in_leaf, val_score: 0.220593:  20%|#########                                    | 1/5 [00:01<00:05,  1.31s/it]"
     ]
    },
    {
     "name": "stdout",
     "output_type": "stream",
     "text": [
      "Early stopping, best iteration is:\n",
      "[99]\tcv_agg's l2: 0.220593 + 0.0540065\n",
      "[100]\tcv_agg's l2: 0.834597 + 0.0707782\n"
     ]
    },
    {
     "name": "stderr",
     "output_type": "stream",
     "text": [
      "min_data_in_leaf, val_score: 0.220593:  40%|##################                           | 2/5 [00:01<00:02,  1.12it/s][I 2023-10-28 18:30:10,112] Trial 64 finished with value: 0.835103812561308 and parameters: {'min_child_samples': 100}. Best is trial 63 with value: 0.22059251526543702.\n",
      "min_data_in_leaf, val_score: 0.220593:  40%|##################                           | 2/5 [00:01<00:02,  1.12it/s]"
     ]
    },
    {
     "name": "stdout",
     "output_type": "stream",
     "text": [
      "Early stopping, best iteration is:\n",
      "[99]\tcv_agg's l2: 0.220593 + 0.0540065\n",
      "[100]\tcv_agg's l2: 0.216771 + 0.0549724\n",
      "[200]\tcv_agg's l2: 0.220209 + 0.0499639\n"
     ]
    },
    {
     "name": "stderr",
     "output_type": "stream",
     "text": [
      "min_data_in_leaf, val_score: 0.216652:  60%|###########################                  | 3/5 [00:03<00:02,  1.21s/it][I 2023-10-28 18:30:11,703] Trial 65 finished with value: 0.21665185547587176 and parameters: {'min_child_samples': 10}. Best is trial 65 with value: 0.21665185547587176.\n",
      "min_data_in_leaf, val_score: 0.216652:  60%|###########################                  | 3/5 [00:03<00:02,  1.21s/it]"
     ]
    },
    {
     "name": "stdout",
     "output_type": "stream",
     "text": [
      "Early stopping, best iteration is:\n",
      "[140]\tcv_agg's l2: 0.216652 + 0.051904\n",
      "[100]\tcv_agg's l2: 0.250004 + 0.0608115\n",
      "[200]\tcv_agg's l2: 0.252433 + 0.0585573\n"
     ]
    },
    {
     "name": "stderr",
     "output_type": "stream",
     "text": [
      "min_data_in_leaf, val_score: 0.216652:  80%|####################################         | 4/5 [00:05<00:01,  1.37s/it][I 2023-10-28 18:30:13,310] Trial 66 finished with value: 0.2515170677910214 and parameters: {'min_child_samples': 25}. Best is trial 65 with value: 0.21665185547587176.\n",
      "min_data_in_leaf, val_score: 0.216652:  80%|####################################         | 4/5 [00:05<00:01,  1.37s/it]"
     ]
    },
    {
     "name": "stdout",
     "output_type": "stream",
     "text": [
      "Early stopping, best iteration is:\n",
      "[140]\tcv_agg's l2: 0.216652 + 0.051904\n",
      "[100]\tcv_agg's l2: 0.330216 + 0.074526\n"
     ]
    },
    {
     "name": "stderr",
     "output_type": "stream",
     "text": [
      "min_data_in_leaf, val_score: 0.216652: 100%|#############################################| 5/5 [00:06<00:00,  1.27s/it]"
     ]
    },
    {
     "name": "stdout",
     "output_type": "stream",
     "text": [
      "[200]\tcv_agg's l2: 0.330448 + 0.070375\n",
      "Early stopping, best iteration is:\n",
      "[140]\tcv_agg's l2: 0.216652 + 0.051904\n"
     ]
    },
    {
     "name": "stderr",
     "output_type": "stream",
     "text": [
      "[I 2023-10-28 18:30:14,406] Trial 67 finished with value: 0.3301326584381024 and parameters: {'min_child_samples': 50}. Best is trial 65 with value: 0.21665185547587176.\n",
      "min_data_in_leaf, val_score: 0.216652: 100%|#############################################| 5/5 [00:06<00:00,  1.24s/it]\n"
     ]
    }
   ],
   "source": [
    "import optuna.integration.lightgbm as lgb\n",
    "from lightgbm import early_stopping\n",
    "from sklearn.model_selection import KFold\n",
    "from sklearn.model_selection import RepeatedKFold\n",
    "\n",
    "\n",
    "lgb_train = lgb.Dataset(X_train_random_split, y_train_random_split)\n",
    "\n",
    "params = {\n",
    "    \"boosting_type\": \"gbdt\",\n",
    "    \"objective\": \"regression\",\n",
    "    \"metric\": \"l2\",\n",
    "    \"verbosity\": -1,\n",
    "}\n",
    "\n",
    "tuner = lgb.LightGBMTunerCV(\n",
    "    params,\n",
    "    lgb_train,\n",
    "    folds=KFold(n_splits=5),\n",
    "    num_boost_round=10000,\n",
    "    callbacks=[early_stopping(100), log_evaluation(100)],\n",
    ")\n",
    "\n",
    "tuner.run()"
   ]
  },
  {
   "cell_type": "code",
   "execution_count": 34,
   "id": "0079a348",
   "metadata": {},
   "outputs": [
    {
     "name": "stdout",
     "output_type": "stream",
     "text": [
      "Best score: 0.21665185547587176\n",
      "Params: \n",
      "    boosting_type: gbdt\n",
      "    objective: regression\n",
      "    metric: l2\n",
      "    verbosity: -1\n",
      "    feature_pre_filter: False\n",
      "    lambda_l1: 0.02314300152753777\n",
      "    lambda_l2: 1.0016773186189778e-06\n",
      "    num_leaves: 16\n",
      "    feature_fraction: 0.8\n",
      "    bagging_fraction: 0.9666252011696157\n",
      "    bagging_freq: 1\n",
      "    min_child_samples: 10\n"
     ]
    }
   ],
   "source": [
    "print(f\"Best score: {tuner.best_score}\")\n",
    "best_params = tuner.best_params\n",
    "print(\"Params: \")\n",
    "for key, value in best_params.items():\n",
    "    print(\"    {}: {}\".format(key, value))"
   ]
  },
  {
   "cell_type": "code",
   "execution_count": 35,
   "id": "ee599f57",
   "metadata": {},
   "outputs": [],
   "source": [
    "import lightgbm as lgb\n",
    "\n",
    "lgb_tuned = lgb.train(\n",
    "    best_params,\n",
    "    lgb_train,\n",
    "    num_boost_round=10000,\n",
    ")"
   ]
  },
  {
   "cell_type": "code",
   "execution_count": 36,
   "id": "f18b0204",
   "metadata": {},
   "outputs": [
    {
     "name": "stdout",
     "output_type": "stream",
     "text": [
      "RMSE train: 0.00\n",
      "RMSE test: 0.51\n",
      "MSE test: 0.26\n",
      "MAE test: 0.32\n",
      "\n"
     ]
    }
   ],
   "source": [
    "rmse, mse, mae = assess_regression_model(\n",
    "    lgb_tuned,\n",
    "    X_train_random_split,\n",
    "    X_test_random_split,\n",
    "    y_train_random_split,\n",
    "    y_test_random_split,\n",
    ")"
   ]
  },
  {
   "cell_type": "code",
   "execution_count": 37,
   "id": "13d87eed",
   "metadata": {},
   "outputs": [],
   "source": [
    "results.loc[4] = [\"random\", \"Optuna\", len(X_test.columns), mse, rmse, mae]"
   ]
  },
  {
   "cell_type": "code",
   "execution_count": 38,
   "id": "061d7eba",
   "metadata": {},
   "outputs": [
    {
     "name": "stdout",
     "output_type": "stream",
     "text": [
      "Normal:\n",
      "MSE: 0.12\n",
      "RMSE: 0.35\n",
      "\n",
      "Round type: round\n",
      "MSE: 0.13\n",
      "RMSE: 0.36\n",
      "\n",
      "Round type: 0.33\n",
      "MSE: 0.15\n",
      "RMSE: 0.38\n",
      "\n",
      "Round type: 0.45\n",
      "MSE: 0.13\n",
      "RMSE: 0.37\n",
      "\n"
     ]
    }
   ],
   "source": [
    "predict = lgb_tuned.predict(X_test)\n",
    "check_round_predictions([\"round\", 0.33, 0.45], y_test, predict)"
   ]
  },
  {
   "cell_type": "code",
   "execution_count": 39,
   "id": "9d56b725",
   "metadata": {},
   "outputs": [
    {
     "data": {
      "image/png": "[encoded data removed]",
      "text/plain": [
       "<Figure size 432x288 with 2 Axes>"
      ]
     },
     "metadata": {
      "needs_background": "light"
     },
     "output_type": "display_data"
    }
   ],
   "source": [
    "plot_confusion_matrix(\"round\", predict, y_test)"
   ]
  },
  {
   "cell_type": "markdown",
   "id": "ac941229",
   "metadata": {},
   "source": [
    "## Summary"
   ]
  },
  {
   "cell_type": "code",
   "execution_count": 40,
   "id": "90f5111f",
   "metadata": {
    "scrolled": false
   },
   "outputs": [
    {
     "data": {
      "text/html": [
       "<div>\n",
       "<style scoped>\n",
       "    .dataframe tbody tr th:only-of-type {\n",
       "        vertical-align: middle;\n",
       "    }\n",
       "\n",
       "    .dataframe tbody tr th {\n",
       "        vertical-align: top;\n",
       "    }\n",
       "\n",
       "    .dataframe thead th {\n",
       "        text-align: right;\n",
       "    }\n",
       "</style>\n",
       "<table border=\"1\" class=\"dataframe\">\n",
       "  <thead>\n",
       "    <tr style=\"text-align: right;\">\n",
       "      <th></th>\n",
       "      <th>Split type</th>\n",
       "      <th>Tuning type</th>\n",
       "      <th>Number of characteristics</th>\n",
       "      <th>MSE</th>\n",
       "      <th>RMSE</th>\n",
       "      <th>MAE</th>\n",
       "    </tr>\n",
       "  </thead>\n",
       "  <tbody>\n",
       "    <tr>\n",
       "      <th>0</th>\n",
       "      <td>chronological</td>\n",
       "      <td>normal</td>\n",
       "      <td>8</td>\n",
       "      <td>0.447566</td>\n",
       "      <td>0.669004</td>\n",
       "      <td>0.327607</td>\n",
       "    </tr>\n",
       "    <tr>\n",
       "      <th>1</th>\n",
       "      <td>chronological</td>\n",
       "      <td>Optuna</td>\n",
       "      <td>8</td>\n",
       "      <td>0.409605</td>\n",
       "      <td>0.640004</td>\n",
       "      <td>0.450994</td>\n",
       "    </tr>\n",
       "    <tr>\n",
       "      <th>3</th>\n",
       "      <td>random</td>\n",
       "      <td>normal</td>\n",
       "      <td>8</td>\n",
       "      <td>0.243018</td>\n",
       "      <td>0.492968</td>\n",
       "      <td>0.241464</td>\n",
       "    </tr>\n",
       "    <tr>\n",
       "      <th>4</th>\n",
       "      <td>random</td>\n",
       "      <td>Optuna</td>\n",
       "      <td>8</td>\n",
       "      <td>0.255307</td>\n",
       "      <td>0.505279</td>\n",
       "      <td>0.322567</td>\n",
       "    </tr>\n",
       "  </tbody>\n",
       "</table>\n",
       "</div>"
      ],
      "text/plain": [
       "      Split type Tuning type  Number of characteristics       MSE      RMSE  \\\n",
       "0  chronological      normal                          8  0.447566  0.669004   \n",
       "1  chronological      Optuna                          8  0.409605  0.640004   \n",
       "3         random      normal                          8  0.243018  0.492968   \n",
       "4         random      Optuna                          8  0.255307  0.505279   \n",
       "\n",
       "        MAE  \n",
       "0  0.327607  \n",
       "1  0.450994  \n",
       "3  0.241464  \n",
       "4  0.322567  "
      ]
     },
     "execution_count": 40,
     "metadata": {},
     "output_type": "execute_result"
    }
   ],
   "source": [
    "results"
   ]
  },
  {
   "cell_type": "code",
   "execution_count": 41,
   "id": "492161ff",
   "metadata": {},
   "outputs": [],
   "source": [
    "from training.results import plot_summary"
   ]
  },
  {
   "cell_type": "code",
   "execution_count": 42,
   "id": "df15e1a7",
   "metadata": {},
   "outputs": [
    {
     "data": {
      "image/png": "[encoded data removed]",
      "text/plain": [
       "<Figure size 1440x576 with 1 Axes>"
      ]
     },
     "metadata": {
      "needs_background": "light"
     },
     "output_type": "display_data"
    }
   ],
   "source": [
    "plot_summary(results, \"MSE\")"
   ]
  },
  {
   "cell_type": "code",
   "execution_count": 43,
   "id": "b44fe7c4",
   "metadata": {},
   "outputs": [
    {
     "data": {
      "image/png": "[encoded data removed]",
      "text/plain": [
       "<Figure size 1440x576 with 1 Axes>"
      ]
     },
     "metadata": {
      "needs_background": "light"
     },
     "output_type": "display_data"
    }
   ],
   "source": [
    "plot_summary(results, \"RMSE\")"
   ]
  },
  {
   "cell_type": "code",
   "execution_count": 44,
   "id": "d3509e28",
   "metadata": {},
   "outputs": [
    {
     "data": {
      "image/png": "[encoded data removed]",
      "text/plain": [
       "<Figure size 1440x576 with 1 Axes>"
      ]
     },
     "metadata": {
      "needs_background": "light"
     },
     "output_type": "display_data"
    }
   ],
   "source": [
    "plot_summary(results, \"MAE\")"
   ]
  },
  {
   "cell_type": "code",
   "execution_count": 46,
   "id": "c714119e",
   "metadata": {},
   "outputs": [],
   "source": [
    "results.to_json(\"./lightgbm_basic_results.json\")"
   ]
  },
  {
   "cell_type": "code",
   "execution_count": null,
   "id": "7bf01482",
   "metadata": {},
   "outputs": [],
   "source": []
  }
 ],
 "metadata": {
  "kernelspec": {
   "display_name": "Python 3 (ipykernel)",
   "language": "python",
   "name": "python3"
  },
  "language_info": {
   "codemirror_mode": {
    "name": "ipython",
    "version": 3
   },
   "file_extension": ".py",
   "mimetype": "text/x-python",
   "name": "python",
   "nbconvert_exporter": "python",
   "pygments_lexer": "ipython3",
   "version": "3.10.4"
  }
 },
 "nbformat": 4,
 "nbformat_minor": 5
}
