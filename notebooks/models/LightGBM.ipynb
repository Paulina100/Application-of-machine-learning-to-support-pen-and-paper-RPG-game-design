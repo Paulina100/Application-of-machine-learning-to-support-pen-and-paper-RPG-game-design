{
 "cells": [
  {
   "cell_type": "markdown",
   "id": "b0ab4d4c",
   "metadata": {},
   "source": [
    "# LightGBM\n",
    "\n",
    "### Parametry:\n",
    "\n",
    "* **abilities**:\n",
    "    * **cha**\n",
    "    * **con**\n",
    "    * **dex**\n",
    "    * **int**\n",
    "    * **str**\n",
    "    * **wis**\n",
    "    \n",
    "* **attributes**\n",
    "    * **hp**\n",
    "    * **ac**\n",
    "    * **perception**\n",
    "* **saves**\n",
    "    * **fortitude**\n",
    "    * **reflex**\n",
    "    * **will**\n",
    "* **resources**\n",
    "    * **focus**\n",
    "\n",
    "### Przewidujemy: *level*"
   ]
  },
  {
   "cell_type": "code",
   "execution_count": 28,
   "id": "0ff25469",
   "metadata": {},
   "outputs": [],
   "source": [
    "# !pip install lightgbm==3.3.1 numpy optuna==3.3.0 scikit-learn --user"
   ]
  },
  {
   "cell_type": "markdown",
   "id": "c5267893",
   "metadata": {},
   "source": [
    "## Loading data"
   ]
  },
  {
   "cell_type": "code",
   "execution_count": 29,
   "id": "7d076ebe",
   "metadata": {
    "scrolled": true
   },
   "outputs": [
    {
     "name": "stderr",
     "output_type": "stream",
     "text": [
      "c:\\users\\pauli\\appdata\\local\\programs\\python\\python39\\lib\\site-packages\\pandas\\core\\indexing.py:1817: SettingWithCopyWarning: \n",
      "A value is trying to be set on a copy of a slice from a DataFrame.\n",
      "Try using .loc[row_indexer,col_indexer] = value instead\n",
      "\n",
      "See the caveats in the documentation: https://pandas.pydata.org/pandas-docs/stable/user_guide/indexing.html#returning-a-view-versus-a-copy\n",
      "  self._setitem_single_column(loc, value, pi)\n"
     ]
    }
   ],
   "source": [
    "import pandas as pd\n",
    "import numpy as np\n",
    "import sys\n",
    "\n",
    "import os\n",
    "import pathlib\n",
    "\n",
    "sys.path.append(\"../..\")\n",
    "from training.creating_dataset import load_and_preprocess_data\n",
    "\n",
    "current_path = os.getcwd()\n",
    "DATASETS_DIR = pathlib.Path(current_path).parent.parent / \"pathfinder_2e_data\"\n",
    "DATASET_FILES = [\n",
    "    \"pathfinder-bestiary.db\",\n",
    "    \"pathfinder-bestiary-2.db\",\n",
    "    \"pathfinder-bestiary-3.db\",\n",
    "]\n",
    "DATASET_PATHS = [f\"{DATASETS_DIR}/{file}\" for file in DATASET_FILES]\n",
    "\n",
    "df = load_and_preprocess_data(\n",
    "    DATASET_PATHS,\n",
    "    characteristics=[\n",
    "        \"cha\",\n",
    "        \"con\",\n",
    "        \"dex\",\n",
    "        \"int\",\n",
    "        \"str\",\n",
    "        \"wis\",\n",
    "        \"ac\",\n",
    "        \"hp\",\n",
    "        \"perception\",\n",
    "        \"fortitude\",\n",
    "        \"reflex\",\n",
    "        \"will\",\n",
    "        \"focus\",\n",
    "    ],\n",
    ")"
   ]
  },
  {
   "cell_type": "code",
   "execution_count": 30,
   "id": "37cf117c",
   "metadata": {
    "scrolled": true
   },
   "outputs": [
    {
     "name": "stdout",
     "output_type": "stream",
     "text": [
      "   cha  con  dex  int  str  wis  ac   hp  perception  fortitude  reflex  will  \\\n",
      "0    1    5    2    1    7    2  29  215          20         22      19    17   \n",
      "1    1    5    0   -4    9    2  28  220          16         21      14    16   \n",
      "2   -2    6    3   -4    7    3  25  175          17         20      17    15   \n",
      "3    6    5    4    6    7    5  41  315          30         30      29    32   \n",
      "4    1    1    3   -1   -5    1  16   20           6          6      10     4   \n",
      "\n",
      "   focus                 book  level  \n",
      "0      1  Pathfinder Bestiary     10  \n",
      "1      0  Pathfinder Bestiary     10  \n",
      "2      0  Pathfinder Bestiary      8  \n",
      "3      1  Pathfinder Bestiary     17  \n",
      "4      1  Pathfinder Bestiary      1  \n"
     ]
    }
   ],
   "source": [
    "print(df.head())"
   ]
  },
  {
   "cell_type": "markdown",
   "id": "108014f4",
   "metadata": {},
   "source": [
    "## Train test split"
   ]
  },
  {
   "cell_type": "markdown",
   "id": "07a8f0d9",
   "metadata": {},
   "source": [
    "### Chronological split"
   ]
  },
  {
   "cell_type": "code",
   "execution_count": 31,
   "id": "b595145e",
   "metadata": {},
   "outputs": [],
   "source": [
    "from training.splitting_dataset import split_dataframe\n",
    "import os\n",
    "\n",
    "os.chdir(\"../../training\")\n",
    "X_train, X_test, y_train, y_test = split_dataframe(df, test_size=0.31)\n",
    "os.chdir(\"../notebooks/models\")"
   ]
  },
  {
   "cell_type": "code",
   "execution_count": 32,
   "id": "7009d630",
   "metadata": {},
   "outputs": [],
   "source": [
    "X_train = X_train.drop(columns=[\"book\"])\n",
    "X_test = X_test.drop(columns=[\"book\"])"
   ]
  },
  {
   "cell_type": "markdown",
   "id": "ecc8f4d6",
   "metadata": {},
   "source": [
    "### <span style=\"color:red\">Z jakiegos powodu X_train i y_train ma typy object zamiast int64. Naprawiłabym to w funkcji albo chociaż zrzutowała na inta.</span>"
   ]
  },
  {
   "cell_type": "code",
   "execution_count": 33,
   "id": "8c2ad5f1",
   "metadata": {
    "scrolled": false
   },
   "outputs": [
    {
     "name": "stdout",
     "output_type": "stream",
     "text": [
      "<class 'pandas.core.frame.DataFrame'>\n",
      "Int64Index: 841 entries, 0 to 840\n",
      "Data columns (total 13 columns):\n",
      " #   Column      Non-Null Count  Dtype \n",
      "---  ------      --------------  ----- \n",
      " 0   cha         841 non-null    object\n",
      " 1   con         841 non-null    object\n",
      " 2   dex         841 non-null    object\n",
      " 3   int         841 non-null    object\n",
      " 4   str         841 non-null    object\n",
      " 5   wis         841 non-null    object\n",
      " 6   ac          841 non-null    object\n",
      " 7   hp          841 non-null    object\n",
      " 8   perception  841 non-null    object\n",
      " 9   fortitude   841 non-null    object\n",
      " 10  reflex      841 non-null    object\n",
      " 11  will        841 non-null    object\n",
      " 12  focus       841 non-null    object\n",
      "dtypes: object(13)\n",
      "memory usage: 92.0+ KB\n",
      "None\n",
      "<class 'pandas.core.frame.DataFrame'>\n",
      "Int64Index: 365 entries, 841 to 1205\n",
      "Data columns (total 13 columns):\n",
      " #   Column      Non-Null Count  Dtype\n",
      "---  ------      --------------  -----\n",
      " 0   cha         365 non-null    int64\n",
      " 1   con         365 non-null    int64\n",
      " 2   dex         365 non-null    int64\n",
      " 3   int         365 non-null    int64\n",
      " 4   str         365 non-null    int64\n",
      " 5   wis         365 non-null    int64\n",
      " 6   ac          365 non-null    int64\n",
      " 7   hp          365 non-null    int64\n",
      " 8   perception  365 non-null    int64\n",
      " 9   fortitude   365 non-null    int64\n",
      " 10  reflex      365 non-null    int64\n",
      " 11  will        365 non-null    int64\n",
      " 12  focus       365 non-null    int32\n",
      "dtypes: int32(1), int64(12)\n",
      "memory usage: 38.5 KB\n",
      "None\n",
      "0    10\n",
      "1    10\n",
      "2     8\n",
      "3    17\n",
      "4     1\n",
      "Name: level, dtype: object\n",
      "841     3\n",
      "842     9\n",
      "843     0\n",
      "844     1\n",
      "845    15\n",
      "Name: level, dtype: int64\n"
     ]
    }
   ],
   "source": [
    "print(X_train.info())\n",
    "print(X_test.info())\n",
    "print(y_train.head())\n",
    "print(y_test.head())"
   ]
  },
  {
   "cell_type": "code",
   "execution_count": 34,
   "id": "15c6bdbe",
   "metadata": {
    "scrolled": true
   },
   "outputs": [],
   "source": [
    "X_train = X_train.astype(\"int64\")\n",
    "y_train = y_train.astype(\"int64\")"
   ]
  },
  {
   "cell_type": "markdown",
   "id": "79e2163f",
   "metadata": {},
   "source": [
    "### Random split"
   ]
  },
  {
   "cell_type": "code",
   "execution_count": 35,
   "id": "b5b9dbd5",
   "metadata": {},
   "outputs": [],
   "source": [
    "from training.splitting_dataset import split_dataframe\n",
    "\n",
    "(\n",
    "    X_train_random_split,\n",
    "    X_test_random_split,\n",
    "    y_train_random_split,\n",
    "    y_test_random_split,\n",
    ") = split_dataframe(df, chronological_split=False)"
   ]
  },
  {
   "cell_type": "code",
   "execution_count": 36,
   "id": "68ec9b12",
   "metadata": {},
   "outputs": [],
   "source": [
    "X_train_random_split = X_train_random_split.drop(columns=[\"book\"])\n",
    "X_test_random_split = X_test_random_split.drop(columns=[\"book\"])"
   ]
  },
  {
   "cell_type": "markdown",
   "id": "6ac76052",
   "metadata": {},
   "source": [
    "## LightGBM"
   ]
  },
  {
   "cell_type": "markdown",
   "id": "41e036cb",
   "metadata": {},
   "source": [
    "### With chronological split"
   ]
  },
  {
   "cell_type": "code",
   "execution_count": 37,
   "id": "8444dd1b",
   "metadata": {
    "scrolled": true
   },
   "outputs": [
    {
     "name": "stdout",
     "output_type": "stream",
     "text": [
      "[LightGBM] [Warning] Auto-choosing col-wise multi-threading, the overhead of testing was 0.000291 seconds.\n",
      "You can set `force_col_wise=true` to remove the overhead.\n",
      "[LightGBM] [Info] Total Bins 379\n",
      "[LightGBM] [Info] Number of data points in the train set: 841, number of used features: 13\n",
      "[LightGBM] [Info] Start training from score 6.966706\n",
      "Training until validation scores don't improve for 5 rounds\n",
      "[LightGBM] [Warning] No further splits with positive gain, best gain: -inf\n",
      "[LightGBM] [Warning] No further splits with positive gain, best gain: -inf\n",
      "[LightGBM] [Warning] No further splits with positive gain, best gain: -inf\n",
      "[LightGBM] [Warning] No further splits with positive gain, best gain: -inf\n",
      "[LightGBM] [Warning] No further splits with positive gain, best gain: -inf\n",
      "[LightGBM] [Warning] No further splits with positive gain, best gain: -inf\n",
      "Did not meet early stopping. Best iteration is:\n",
      "[20]\tvalid_0's l1: 0.791551\tvalid_0's l2: 0.97348\n",
      "MSE: 0.97\n",
      "RMSE: 0.99\n"
     ]
    }
   ],
   "source": [
    "import lightgbm as lgb\n",
    "from sklearn.metrics import mean_squared_error\n",
    "\n",
    "lgb_train = lgb.Dataset(X_train, y_train)\n",
    "lgb_eval = lgb.Dataset(X_test, y_test, reference=lgb_train)\n",
    "\n",
    "params = {\n",
    "    \"boosting_type\": \"gbdt\",\n",
    "    \"objective\": \"regression\",\n",
    "    \"metric\": {\"l2\", \"l1\"},\n",
    "}\n",
    "\n",
    "gbm = lgb.train(\n",
    "    params,\n",
    "    lgb_train,\n",
    "    num_boost_round=20,\n",
    "    valid_sets=lgb_eval,\n",
    "    callbacks=[lgb.early_stopping(stopping_rounds=5)],\n",
    ")\n",
    "\n",
    "y_pred_train = gbm.predict(X_train, num_iteration=gbm.best_iteration)\n",
    "y_pred_test = gbm.predict(X_test, num_iteration=gbm.best_iteration)\n",
    "\n",
    "\n",
    "mse = mean_squared_error(y_test, y_pred_test)\n",
    "rmse = mean_squared_error(y_test, y_pred_test, squared=False)\n",
    "print(f\"MSE: {mse:.2f}\")\n",
    "print(f\"RMSE: {rmse:.2f}\")"
   ]
  },
  {
   "cell_type": "markdown",
   "id": "1b6a788e",
   "metadata": {},
   "source": [
    "Without tuning results are not that great."
   ]
  },
  {
   "cell_type": "markdown",
   "id": "cfc402c4",
   "metadata": {},
   "source": [
    "### With random split"
   ]
  },
  {
   "cell_type": "code",
   "execution_count": 38,
   "id": "62f1a168",
   "metadata": {
    "scrolled": true
   },
   "outputs": [
    {
     "name": "stdout",
     "output_type": "stream",
     "text": [
      "[LightGBM] [Warning] Auto-choosing col-wise multi-threading, the overhead of testing was 0.000272 seconds.\n",
      "You can set `force_col_wise=true` to remove the overhead.\n",
      "[LightGBM] [Info] Total Bins 392\n",
      "[LightGBM] [Info] Number of data points in the train set: 904, number of used features: 13\n",
      "[LightGBM] [Info] Start training from score 7.162611\n",
      "Training until validation scores don't improve for 5 rounds\n",
      "Early stopping, best iteration is:\n",
      "[88]\tvalid_0's l1: 0.267273\tvalid_0's l2: 0.148111\n",
      "MSE: 0.15\n",
      "RMSE: 0.38\n"
     ]
    }
   ],
   "source": [
    "import lightgbm as lgb\n",
    "from sklearn.metrics import mean_squared_error\n",
    "\n",
    "lgb_train = lgb.Dataset(X_train_random_split, y_train_random_split)\n",
    "lgb_eval = lgb.Dataset(X_test_random_split, y_test_random_split, reference=lgb_train)\n",
    "\n",
    "params = {\n",
    "    \"boosting_type\": \"gbdt\",\n",
    "    \"objective\": \"regression\",\n",
    "    \"metric\": {\"l2\", \"l1\"},\n",
    "}\n",
    "\n",
    "gbm = lgb.train(\n",
    "    params,\n",
    "    lgb_train,\n",
    "    num_boost_round=100,\n",
    "    valid_sets=lgb_eval,\n",
    "    callbacks=[lgb.early_stopping(stopping_rounds=5)],\n",
    ")\n",
    "\n",
    "y_pred_train_random_split = gbm.predict(\n",
    "    X_train_random_split, num_iteration=gbm.best_iteration\n",
    ")\n",
    "y_pred_test_random_split = gbm.predict(\n",
    "    X_test_random_split, num_iteration=gbm.best_iteration\n",
    ")\n",
    "\n",
    "\n",
    "mse = mean_squared_error(y_test_random_split, y_pred_test_random_split)\n",
    "rmse = mean_squared_error(y_test_random_split, y_pred_test_random_split, squared=False)\n",
    "print(f\"MSE: {mse:.2f}\")\n",
    "print(f\"RMSE: {rmse:.2f}\")"
   ]
  },
  {
   "cell_type": "markdown",
   "id": "9ad0fa6e",
   "metadata": {},
   "source": [
    "## Tuning"
   ]
  },
  {
   "cell_type": "code",
   "execution_count": 39,
   "id": "16d5df44",
   "metadata": {
    "scrolled": true
   },
   "outputs": [
    {
     "name": "stdout",
     "output_type": "stream",
     "text": [
      "3.3.1\n",
      "3.3.0\n"
     ]
    }
   ],
   "source": [
    "import lightgbm as lgb\n",
    "\n",
    "print(lgb.__version__)\n",
    "import optuna as lgb\n",
    "\n",
    "print(lgb.__version__)"
   ]
  },
  {
   "cell_type": "markdown",
   "id": "776450c8",
   "metadata": {},
   "source": [
    "### With chronological split"
   ]
  },
  {
   "cell_type": "code",
   "execution_count": 40,
   "id": "3899a35d",
   "metadata": {
    "scrolled": true
   },
   "outputs": [
    {
     "name": "stderr",
     "output_type": "stream",
     "text": [
      "[I 2023-08-07 21:52:16,365] A new study created in memory with name: no-name-5b2208fe-b0cf-4c42-9de5-198c8d1b9c50\n",
      "feature_fraction, val_score: inf:   0%|                                                          | 0/7 [00:00<?, ?it/s]"
     ]
    },
    {
     "name": "stdout",
     "output_type": "stream",
     "text": [
      "Training until validation scores don't improve for 100 rounds\n",
      "[100]\tcv_agg's l2: 0.189405 + 0.0383498\n",
      "[200]\tcv_agg's l2: 0.18619 + 0.0363794\n",
      "[300]\tcv_agg's l2: 0.185643 + 0.0359882\n"
     ]
    },
    {
     "name": "stderr",
     "output_type": "stream",
     "text": [
      "feature_fraction, val_score: 0.185452:  14%|######4                                      | 1/7 [00:01<00:07,  1.30s/it][I 2023-08-07 21:52:17,672] Trial 0 finished with value: 0.18545204447831706 and parameters: {'feature_fraction': 1.0}. Best is trial 0 with value: 0.18545204447831706.\n",
      "feature_fraction, val_score: 0.185452:  14%|######4                                      | 1/7 [00:01<00:07,  1.30s/it]"
     ]
    },
    {
     "name": "stdout",
     "output_type": "stream",
     "text": [
      "Early stopping, best iteration is:\n",
      "[260]\tcv_agg's l2: 0.185452 + 0.0359388\n",
      "[100]\tcv_agg's l2: 0.16153 + 0.0200527\n"
     ]
    },
    {
     "name": "stderr",
     "output_type": "stream",
     "text": [
      "feature_fraction, val_score: 0.159583:  29%|############8                                | 2/7 [00:02<00:04,  1.04it/s][I 2023-08-07 21:52:18,401] Trial 1 finished with value: 0.15958330323222156 and parameters: {'feature_fraction': 0.4}. Best is trial 1 with value: 0.15958330323222156.\n",
      "feature_fraction, val_score: 0.159583:  29%|############8                                | 2/7 [00:02<00:04,  1.04it/s]"
     ]
    },
    {
     "name": "stdout",
     "output_type": "stream",
     "text": [
      "[200]\tcv_agg's l2: 0.160334 + 0.0179611\n",
      "Early stopping, best iteration is:\n",
      "[152]\tcv_agg's l2: 0.159583 + 0.0182179\n",
      "[100]\tcv_agg's l2: 0.179497 + 0.0373779\n"
     ]
    },
    {
     "name": "stderr",
     "output_type": "stream",
     "text": [
      "feature_fraction, val_score: 0.159583:  43%|###################2                         | 3/7 [00:02<00:03,  1.06it/s][I 2023-08-07 21:52:19,317] Trial 2 finished with value: 0.17625614867290906 and parameters: {'feature_fraction': 0.8999999999999999}. Best is trial 1 with value: 0.15958330323222156.\n",
      "feature_fraction, val_score: 0.159583:  43%|###################2                         | 3/7 [00:02<00:03,  1.06it/s]"
     ]
    },
    {
     "name": "stdout",
     "output_type": "stream",
     "text": [
      "[200]\tcv_agg's l2: 0.175488 + 0.034751\n",
      "Early stopping, best iteration is:\n",
      "[152]\tcv_agg's l2: 0.159583 + 0.0182179\n",
      "[100]\tcv_agg's l2: 0.164856 + 0.0191397\n"
     ]
    },
    {
     "name": "stderr",
     "output_type": "stream",
     "text": [
      "feature_fraction, val_score: 0.159583:  57%|#########################7                   | 4/7 [00:03<00:02,  1.15it/s][I 2023-08-07 21:52:20,066] Trial 3 finished with value: 0.16296127626760532 and parameters: {'feature_fraction': 0.5}. Best is trial 1 with value: 0.15958330323222156.\n",
      "feature_fraction, val_score: 0.159583:  57%|#########################7                   | 4/7 [00:03<00:02,  1.15it/s]"
     ]
    },
    {
     "name": "stdout",
     "output_type": "stream",
     "text": [
      "[200]\tcv_agg's l2: 0.16266 + 0.0182879\n",
      "Early stopping, best iteration is:\n",
      "[152]\tcv_agg's l2: 0.159583 + 0.0182179\n",
      "[100]\tcv_agg's l2: 0.177436 + 0.0335523\n"
     ]
    },
    {
     "name": "stderr",
     "output_type": "stream",
     "text": [
      "feature_fraction, val_score: 0.159583:  71%|################################1            | 5/7 [00:04<00:01,  1.18it/s][I 2023-08-07 21:52:20,872] Trial 4 finished with value: 0.17481036692174237 and parameters: {'feature_fraction': 0.8}. Best is trial 1 with value: 0.15958330323222156.\n"
     ]
    },
    {
     "name": "stdout",
     "output_type": "stream",
     "text": [
      "[200]\tcv_agg's l2: 0.175023 + 0.0316317\n",
      "Early stopping, best iteration is:\n",
      "[152]\tcv_agg's l2: 0.159583 + 0.0182179\n"
     ]
    },
    {
     "name": "stderr",
     "output_type": "stream",
     "text": [
      "\r",
      "feature_fraction, val_score: 0.159583:  71%|################################1            | 5/7 [00:04<00:01,  1.18it/s]"
     ]
    },
    {
     "name": "stdout",
     "output_type": "stream",
     "text": [
      "[100]\tcv_agg's l2: 0.166689 + 0.0187719\n"
     ]
    },
    {
     "name": "stderr",
     "output_type": "stream",
     "text": [
      "\r",
      "feature_fraction, val_score: 0.159583:  71%|################################1            | 5/7 [00:05<00:01,  1.18it/s]"
     ]
    },
    {
     "name": "stdout",
     "output_type": "stream",
     "text": [
      "[200]\tcv_agg's l2: 0.16294 + 0.0182487\n",
      "Early stopping, best iteration is:\n",
      "[152]\tcv_agg's l2: 0.159583 + 0.0182179\n"
     ]
    },
    {
     "name": "stderr",
     "output_type": "stream",
     "text": [
      "feature_fraction, val_score: 0.159583:  86%|######################################5      | 6/7 [00:05<00:00,  1.17it/s][I 2023-08-07 21:52:21,751] Trial 5 finished with value: 0.1637961073152483 and parameters: {'feature_fraction': 0.7}. Best is trial 1 with value: 0.15958330323222156.\n",
      "feature_fraction, val_score: 0.159583:  86%|######################################5      | 6/7 [00:05<00:00,  1.17it/s]"
     ]
    },
    {
     "name": "stdout",
     "output_type": "stream",
     "text": [
      "[100]\tcv_agg's l2: 0.167078 + 0.0232235\n"
     ]
    },
    {
     "name": "stderr",
     "output_type": "stream",
     "text": [
      "feature_fraction, val_score: 0.159583: 100%|#############################################| 7/7 [00:06<00:00,  1.19it/s][I 2023-08-07 21:52:22,550] Trial 6 finished with value: 0.1658529610806306 and parameters: {'feature_fraction': 0.6}. Best is trial 1 with value: 0.15958330323222156.\n",
      "feature_fraction, val_score: 0.159583: 100%|#############################################| 7/7 [00:06<00:00,  1.13it/s]\n"
     ]
    },
    {
     "name": "stdout",
     "output_type": "stream",
     "text": [
      "[200]\tcv_agg's l2: 0.165981 + 0.0231724\n",
      "Early stopping, best iteration is:\n",
      "[152]\tcv_agg's l2: 0.159583 + 0.0182179\n"
     ]
    },
    {
     "name": "stderr",
     "output_type": "stream",
     "text": [
      "num_leaves, val_score: 0.159583:   0%|                                                          | 0/20 [00:00<?, ?it/s]"
     ]
    },
    {
     "name": "stdout",
     "output_type": "stream",
     "text": [
      "[100]\tcv_agg's l2: 0.16153 + 0.0200527\n"
     ]
    },
    {
     "name": "stderr",
     "output_type": "stream",
     "text": [
      "\r",
      "num_leaves, val_score: 0.159583:   0%|                                                          | 0/20 [00:00<?, ?it/s]"
     ]
    },
    {
     "name": "stdout",
     "output_type": "stream",
     "text": [
      "[200]\tcv_agg's l2: 0.160334 + 0.0179611\n",
      "Early stopping, best iteration is:\n",
      "[152]\tcv_agg's l2: 0.159583 + 0.0182179\n"
     ]
    },
    {
     "name": "stderr",
     "output_type": "stream",
     "text": [
      "num_leaves, val_score: 0.159583:   5%|##5                                               | 1/20 [00:00<00:16,  1.17it/s][I 2023-08-07 21:52:23,410] Trial 7 finished with value: 0.15958330323222156 and parameters: {'num_leaves': 234}. Best is trial 7 with value: 0.15958330323222156.\n",
      "num_leaves, val_score: 0.159583:   5%|##5                                               | 1/20 [00:00<00:16,  1.17it/s]"
     ]
    },
    {
     "name": "stdout",
     "output_type": "stream",
     "text": [
      "[100]\tcv_agg's l2: 0.16153 + 0.0200527\n"
     ]
    },
    {
     "name": "stderr",
     "output_type": "stream",
     "text": [
      "num_leaves, val_score: 0.159583:  10%|#####                                             | 2/20 [00:01<00:14,  1.21it/s][I 2023-08-07 21:52:24,220] Trial 8 finished with value: 0.15958330323222156 and parameters: {'num_leaves': 67}. Best is trial 7 with value: 0.15958330323222156.\n",
      "num_leaves, val_score: 0.159583:  10%|#####                                             | 2/20 [00:01<00:14,  1.21it/s]"
     ]
    },
    {
     "name": "stdout",
     "output_type": "stream",
     "text": [
      "[200]\tcv_agg's l2: 0.160334 + 0.0179611\n",
      "Early stopping, best iteration is:\n",
      "[152]\tcv_agg's l2: 0.159583 + 0.0182179\n",
      "[100]\tcv_agg's l2: 0.16153 + 0.0200527\n",
      "[200]\tcv_agg's l2: 0.160334 + 0.0179611\n",
      "Early stopping, best iteration is:\n",
      "[152]\tcv_agg's l2: 0.159583 + 0.0182179\n"
     ]
    },
    {
     "name": "stderr",
     "output_type": "stream",
     "text": [
      "num_leaves, val_score: 0.159583:  15%|#######5                                          | 3/20 [00:02<00:13,  1.26it/s][I 2023-08-07 21:52:24,975] Trial 9 finished with value: 0.15958330323222156 and parameters: {'num_leaves': 92}. Best is trial 7 with value: 0.15958330323222156.\n",
      "num_leaves, val_score: 0.159583:  15%|#######5                                          | 3/20 [00:02<00:13,  1.26it/s]"
     ]
    },
    {
     "name": "stdout",
     "output_type": "stream",
     "text": [
      "[100]\tcv_agg's l2: 0.16153 + 0.0200527\n"
     ]
    },
    {
     "name": "stderr",
     "output_type": "stream",
     "text": [
      "num_leaves, val_score: 0.159583:  20%|##########                                        | 4/20 [00:03<00:12,  1.25it/s][I 2023-08-07 21:52:25,782] Trial 10 finished with value: 0.15958330323222156 and parameters: {'num_leaves': 254}. Best is trial 7 with value: 0.15958330323222156.\n",
      "num_leaves, val_score: 0.159583:  20%|##########                                        | 4/20 [00:03<00:12,  1.25it/s]"
     ]
    },
    {
     "name": "stdout",
     "output_type": "stream",
     "text": [
      "[200]\tcv_agg's l2: 0.160334 + 0.0179611\n",
      "Early stopping, best iteration is:\n",
      "[152]\tcv_agg's l2: 0.159583 + 0.0182179\n",
      "[100]\tcv_agg's l2: 0.16153 + 0.0200527\n"
     ]
    },
    {
     "name": "stderr",
     "output_type": "stream",
     "text": [
      "num_leaves, val_score: 0.159583:  25%|############5                                     | 5/20 [00:04<00:12,  1.24it/s][I 2023-08-07 21:52:26,592] Trial 11 finished with value: 0.15958330323222156 and parameters: {'num_leaves': 232}. Best is trial 7 with value: 0.15958330323222156.\n",
      "num_leaves, val_score: 0.159583:  25%|############5                                     | 5/20 [00:04<00:12,  1.24it/s]"
     ]
    },
    {
     "name": "stdout",
     "output_type": "stream",
     "text": [
      "[200]\tcv_agg's l2: 0.160334 + 0.0179611\n",
      "Early stopping, best iteration is:\n",
      "[152]\tcv_agg's l2: 0.159583 + 0.0182179\n",
      "[100]\tcv_agg's l2: 0.16153 + 0.0200527\n",
      "[200]\tcv_agg's l2: 0.160334 + 0.0179611\n",
      "Early stopping, best iteration is:\n",
      "[152]\tcv_agg's l2: 0.159583 + 0.0182179\n"
     ]
    },
    {
     "name": "stderr",
     "output_type": "stream",
     "text": [
      "num_leaves, val_score: 0.159583:  30%|###############                                   | 6/20 [00:04<00:11,  1.21it/s][I 2023-08-07 21:52:27,459] Trial 12 finished with value: 0.15958330323222156 and parameters: {'num_leaves': 167}. Best is trial 7 with value: 0.15958330323222156.\n",
      "num_leaves, val_score: 0.159583:  30%|###############                                   | 6/20 [00:04<00:11,  1.21it/s]"
     ]
    },
    {
     "name": "stdout",
     "output_type": "stream",
     "text": [
      "[100]\tcv_agg's l2: 0.16153 + 0.0200527\n"
     ]
    },
    {
     "name": "stderr",
     "output_type": "stream",
     "text": [
      "num_leaves, val_score: 0.159583:  35%|#################5                                | 7/20 [00:05<00:10,  1.21it/s][I 2023-08-07 21:52:28,281] Trial 13 finished with value: 0.15958330323222156 and parameters: {'num_leaves': 172}. Best is trial 7 with value: 0.15958330323222156.\n",
      "num_leaves, val_score: 0.159583:  35%|#################5                                | 7/20 [00:05<00:10,  1.21it/s]"
     ]
    },
    {
     "name": "stdout",
     "output_type": "stream",
     "text": [
      "[200]\tcv_agg's l2: 0.160334 + 0.0179611\n",
      "Early stopping, best iteration is:\n",
      "[152]\tcv_agg's l2: 0.159583 + 0.0182179\n",
      "[100]\tcv_agg's l2: 0.179623 + 0.0257906\n",
      "[200]\tcv_agg's l2: 0.168283 + 0.0221837\n",
      "Early stopping, best iteration is:\n",
      "[152]\tcv_agg's l2: 0.159583 + 0.0182179"
     ]
    },
    {
     "name": "stderr",
     "output_type": "stream",
     "text": [
      "num_leaves, val_score: 0.159583:  40%|####################                              | 8/20 [00:06<00:08,  1.48it/s][I 2023-08-07 21:52:28,639] Trial 14 finished with value: 0.1711778737078234 and parameters: {'num_leaves': 7}. Best is trial 7 with value: 0.15958330323222156.\n",
      "num_leaves, val_score: 0.159583:  40%|####################                              | 8/20 [00:06<00:08,  1.48it/s]"
     ]
    },
    {
     "name": "stdout",
     "output_type": "stream",
     "text": [
      "\n",
      "[100]\tcv_agg's l2: 0.16153 + 0.0200527\n"
     ]
    },
    {
     "name": "stderr",
     "output_type": "stream",
     "text": [
      "\r",
      "num_leaves, val_score: 0.159583:  40%|####################                              | 8/20 [00:06<00:08,  1.48it/s]"
     ]
    },
    {
     "name": "stdout",
     "output_type": "stream",
     "text": [
      "[200]\tcv_agg's l2: 0.160334 + 0.0179611\n",
      "Early stopping, best iteration is:\n",
      "[152]\tcv_agg's l2: 0.159583 + 0.0182179\n"
     ]
    },
    {
     "name": "stderr",
     "output_type": "stream",
     "text": [
      "num_leaves, val_score: 0.159583:  45%|######################5                           | 9/20 [00:06<00:07,  1.40it/s][I 2023-08-07 21:52:29,442] Trial 15 finished with value: 0.15958330323222156 and parameters: {'num_leaves': 196}. Best is trial 7 with value: 0.15958330323222156.\n",
      "num_leaves, val_score: 0.159583:  45%|######################5                           | 9/20 [00:06<00:07,  1.40it/s]"
     ]
    },
    {
     "name": "stdout",
     "output_type": "stream",
     "text": [
      "[100]\tcv_agg's l2: 0.16153 + 0.0200527\n",
      "[200]\tcv_agg's l2: 0.160334 + 0.0179611\n",
      "Early stopping, best iteration is:\n",
      "[152]\tcv_agg's l2: 0.159583 + 0.0182179\n"
     ]
    },
    {
     "name": "stderr",
     "output_type": "stream",
     "text": [
      "num_leaves, val_score: 0.159583:  50%|########################5                        | 10/20 [00:07<00:07,  1.35it/s][I 2023-08-07 21:52:30,240] Trial 16 finished with value: 0.15958330323222156 and parameters: {'num_leaves': 122}. Best is trial 7 with value: 0.15958330323222156.\n",
      "num_leaves, val_score: 0.159583:  50%|########################5                        | 10/20 [00:07<00:07,  1.35it/s]"
     ]
    },
    {
     "name": "stdout",
     "output_type": "stream",
     "text": [
      "[100]\tcv_agg's l2: 0.16153 + 0.0200527\n",
      "[200]\tcv_agg's l2: 0.160334 + 0.0179611\n",
      "Early stopping, best iteration is:\n",
      "[152]\tcv_agg's l2: 0.159583 + 0.0182179"
     ]
    },
    {
     "name": "stderr",
     "output_type": "stream",
     "text": [
      "num_leaves, val_score: 0.159583:  55%|##########################9                      | 11/20 [00:08<00:07,  1.27it/s][I 2023-08-07 21:52:31,135] Trial 17 finished with value: 0.15958330323222156 and parameters: {'num_leaves': 210}. Best is trial 7 with value: 0.15958330323222156.\n",
      "num_leaves, val_score: 0.159583:  55%|##########################9                      | 11/20 [00:08<00:07,  1.27it/s]"
     ]
    },
    {
     "name": "stdout",
     "output_type": "stream",
     "text": [
      "\n",
      "[100]\tcv_agg's l2: 0.16153 + 0.0200527\n"
     ]
    },
    {
     "name": "stderr",
     "output_type": "stream",
     "text": [
      "num_leaves, val_score: 0.159583:  60%|#############################4                   | 12/20 [00:09<00:06,  1.26it/s][I 2023-08-07 21:52:31,939] Trial 18 finished with value: 0.15958330323222156 and parameters: {'num_leaves': 142}. Best is trial 7 with value: 0.15958330323222156.\n",
      "num_leaves, val_score: 0.159583:  60%|#############################4                   | 12/20 [00:09<00:06,  1.26it/s]"
     ]
    },
    {
     "name": "stdout",
     "output_type": "stream",
     "text": [
      "[200]\tcv_agg's l2: 0.160334 + 0.0179611\n",
      "Early stopping, best iteration is:\n",
      "[152]\tcv_agg's l2: 0.159583 + 0.0182179\n",
      "[100]\tcv_agg's l2: 0.16153 + 0.0200527\n"
     ]
    },
    {
     "name": "stderr",
     "output_type": "stream",
     "text": [
      "num_leaves, val_score: 0.159583:  65%|###############################8                 | 13/20 [00:10<00:05,  1.29it/s][I 2023-08-07 21:52:32,674] Trial 19 finished with value: 0.15958330323222156 and parameters: {'num_leaves': 33}. Best is trial 7 with value: 0.15958330323222156.\n",
      "num_leaves, val_score: 0.159583:  65%|###############################8                 | 13/20 [00:10<00:05,  1.29it/s]"
     ]
    },
    {
     "name": "stdout",
     "output_type": "stream",
     "text": [
      "[200]\tcv_agg's l2: 0.160334 + 0.0179611\n",
      "Early stopping, best iteration is:\n",
      "[152]\tcv_agg's l2: 0.159583 + 0.0182179\n",
      "[100]\tcv_agg's l2: 0.16153 + 0.0200527\n"
     ]
    },
    {
     "name": "stderr",
     "output_type": "stream",
     "text": [
      "num_leaves, val_score: 0.159583:  70%|##################################3              | 14/20 [00:10<00:04,  1.30it/s][I 2023-08-07 21:52:33,432] Trial 20 finished with value: 0.15958330323222156 and parameters: {'num_leaves': 115}. Best is trial 7 with value: 0.15958330323222156.\n",
      "num_leaves, val_score: 0.159583:  70%|##################################3              | 14/20 [00:10<00:04,  1.30it/s]"
     ]
    },
    {
     "name": "stdout",
     "output_type": "stream",
     "text": [
      "[200]\tcv_agg's l2: 0.160334 + 0.0179611\n",
      "Early stopping, best iteration is:\n",
      "[152]\tcv_agg's l2: 0.159583 + 0.0182179\n",
      "[100]\tcv_agg's l2: 0.16153 + 0.0200527\n"
     ]
    },
    {
     "name": "stderr",
     "output_type": "stream",
     "text": [
      "num_leaves, val_score: 0.159583:  75%|####################################7            | 15/20 [00:11<00:03,  1.29it/s][I 2023-08-07 21:52:34,214] Trial 21 finished with value: 0.15958330323222156 and parameters: {'num_leaves': 65}. Best is trial 7 with value: 0.15958330323222156.\n",
      "num_leaves, val_score: 0.159583:  75%|####################################7            | 15/20 [00:11<00:03,  1.29it/s]"
     ]
    },
    {
     "name": "stdout",
     "output_type": "stream",
     "text": [
      "[200]\tcv_agg's l2: 0.160334 + 0.0179611\n",
      "Early stopping, best iteration is:\n",
      "[152]\tcv_agg's l2: 0.159583 + 0.0182179\n",
      "[100]\tcv_agg's l2: 0.16153 + 0.0200527\n"
     ]
    },
    {
     "name": "stderr",
     "output_type": "stream",
     "text": [
      "num_leaves, val_score: 0.159583:  80%|#######################################2         | 16/20 [00:12<00:03,  1.30it/s][I 2023-08-07 21:52:34,970] Trial 22 finished with value: 0.15958330323222156 and parameters: {'num_leaves': 66}. Best is trial 7 with value: 0.15958330323222156.\n",
      "num_leaves, val_score: 0.159583:  80%|#######################################2         | 16/20 [00:12<00:03,  1.30it/s]"
     ]
    },
    {
     "name": "stdout",
     "output_type": "stream",
     "text": [
      "[200]\tcv_agg's l2: 0.160334 + 0.0179611\n",
      "Early stopping, best iteration is:\n",
      "[152]\tcv_agg's l2: 0.159583 + 0.0182179\n",
      "[100]\tcv_agg's l2: 0.16153 + 0.0200527\n"
     ]
    },
    {
     "name": "stderr",
     "output_type": "stream",
     "text": [
      "num_leaves, val_score: 0.159583:  85%|#########################################6       | 17/20 [00:13<00:02,  1.29it/s][I 2023-08-07 21:52:35,755] Trial 23 finished with value: 0.15958330323222156 and parameters: {'num_leaves': 77}. Best is trial 7 with value: 0.15958330323222156.\n",
      "num_leaves, val_score: 0.159583:  85%|#########################################6       | 17/20 [00:13<00:02,  1.29it/s]"
     ]
    },
    {
     "name": "stdout",
     "output_type": "stream",
     "text": [
      "[200]\tcv_agg's l2: 0.160334 + 0.0179611\n",
      "Early stopping, best iteration is:\n",
      "[152]\tcv_agg's l2: 0.159583 + 0.0182179\n",
      "[100]\tcv_agg's l2: 0.16153 + 0.0200527\n"
     ]
    },
    {
     "name": "stderr",
     "output_type": "stream",
     "text": [
      "num_leaves, val_score: 0.159583:  90%|############################################1    | 18/20 [00:13<00:01,  1.28it/s][I 2023-08-07 21:52:36,556] Trial 24 finished with value: 0.15958330323222156 and parameters: {'num_leaves': 43}. Best is trial 7 with value: 0.15958330323222156.\n",
      "num_leaves, val_score: 0.159583:  90%|############################################1    | 18/20 [00:14<00:01,  1.28it/s]"
     ]
    },
    {
     "name": "stdout",
     "output_type": "stream",
     "text": [
      "[200]\tcv_agg's l2: 0.160334 + 0.0179611\n",
      "Early stopping, best iteration is:\n",
      "[152]\tcv_agg's l2: 0.159583 + 0.0182179\n",
      "[100]\tcv_agg's l2: 0.16153 + 0.0200527\n"
     ]
    },
    {
     "name": "stderr",
     "output_type": "stream",
     "text": [
      "num_leaves, val_score: 0.159583:  95%|##############################################5  | 19/20 [00:14<00:00,  1.29it/s][I 2023-08-07 21:52:37,321] Trial 25 finished with value: 0.15958330323222156 and parameters: {'num_leaves': 155}. Best is trial 7 with value: 0.15958330323222156.\n",
      "num_leaves, val_score: 0.159583:  95%|##############################################5  | 19/20 [00:14<00:00,  1.29it/s]"
     ]
    },
    {
     "name": "stdout",
     "output_type": "stream",
     "text": [
      "[200]\tcv_agg's l2: 0.160334 + 0.0179611\n",
      "Early stopping, best iteration is:\n",
      "[152]\tcv_agg's l2: 0.159583 + 0.0182179\n",
      "[100]\tcv_agg's l2: 0.16153 + 0.0200527\n"
     ]
    },
    {
     "name": "stderr",
     "output_type": "stream",
     "text": [
      "num_leaves, val_score: 0.159583: 100%|#################################################| 20/20 [00:15<00:00,  1.28it/s][I 2023-08-07 21:52:38,107] Trial 26 finished with value: 0.15958330323222156 and parameters: {'num_leaves': 96}. Best is trial 7 with value: 0.15958330323222156.\n",
      "num_leaves, val_score: 0.159583: 100%|#################################################| 20/20 [00:15<00:00,  1.29it/s]\n"
     ]
    },
    {
     "name": "stdout",
     "output_type": "stream",
     "text": [
      "[200]\tcv_agg's l2: 0.160334 + 0.0179611\n",
      "Early stopping, best iteration is:\n",
      "[152]\tcv_agg's l2: 0.159583 + 0.0182179\n"
     ]
    },
    {
     "name": "stderr",
     "output_type": "stream",
     "text": [
      "bagging, val_score: 0.159583:   0%|                                                             | 0/10 [00:00<?, ?it/s]"
     ]
    },
    {
     "name": "stdout",
     "output_type": "stream",
     "text": [
      "[100]\tcv_agg's l2: 0.178338 + 0.0200559\n"
     ]
    },
    {
     "name": "stderr",
     "output_type": "stream",
     "text": [
      "bagging, val_score: 0.159583:  10%|#####3                                               | 1/10 [00:00<00:05,  1.55it/s][I 2023-08-07 21:52:38,757] Trial 27 finished with value: 0.17469284329450321 and parameters: {'bagging_fraction': 0.6400784974657276, 'bagging_freq': 1}. Best is trial 27 with value: 0.17469284329450321.\n",
      "bagging, val_score: 0.159583:  10%|#####3                                               | 1/10 [00:00<00:05,  1.55it/s]"
     ]
    },
    {
     "name": "stdout",
     "output_type": "stream",
     "text": [
      "[200]\tcv_agg's l2: 0.170192 + 0.0147541\n",
      "Early stopping, best iteration is:\n",
      "[152]\tcv_agg's l2: 0.159583 + 0.0182179\n",
      "[100]\tcv_agg's l2: 0.159846 + 0.0197405\n"
     ]
    },
    {
     "name": "stderr",
     "output_type": "stream",
     "text": [
      "bagging, val_score: 0.157493:  20%|##########6                                          | 2/10 [00:01<00:05,  1.37it/s][I 2023-08-07 21:52:39,542] Trial 28 finished with value: 0.15749309009514617 and parameters: {'bagging_fraction': 0.9860937701453998, 'bagging_freq': 7}. Best is trial 28 with value: 0.15749309009514617.\n",
      "bagging, val_score: 0.157493:  20%|##########6                                          | 2/10 [00:01<00:05,  1.37it/s]"
     ]
    },
    {
     "name": "stdout",
     "output_type": "stream",
     "text": [
      "[200]\tcv_agg's l2: 0.157939 + 0.0172474\n",
      "Early stopping, best iteration is:\n",
      "[143]\tcv_agg's l2: 0.157493 + 0.0175755\n",
      "[100]\tcv_agg's l2: 0.161852 + 0.0202667\n"
     ]
    },
    {
     "name": "stderr",
     "output_type": "stream",
     "text": [
      "bagging, val_score: 0.157493:  30%|###############9                                     | 3/10 [00:02<00:05,  1.33it/s][I 2023-08-07 21:52:40,320] Trial 29 finished with value: 0.16000019648272823 and parameters: {'bagging_fraction': 0.9850798537000767, 'bagging_freq': 7}. Best is trial 28 with value: 0.15749309009514617.\n",
      "bagging, val_score: 0.157493:  30%|###############9                                     | 3/10 [00:02<00:05,  1.33it/s]"
     ]
    },
    {
     "name": "stdout",
     "output_type": "stream",
     "text": [
      "[200]\tcv_agg's l2: 0.161898 + 0.0192496\n",
      "Early stopping, best iteration is:\n",
      "[143]\tcv_agg's l2: 0.157493 + 0.0175755\n",
      "[100]\tcv_agg's l2: 0.164692 + 0.0227104\n"
     ]
    },
    {
     "name": "stderr",
     "output_type": "stream",
     "text": [
      "bagging, val_score: 0.157493:  40%|#####################2                               | 4/10 [00:03<00:04,  1.29it/s][I 2023-08-07 21:52:41,134] Trial 30 finished with value: 0.16312361939928738 and parameters: {'bagging_fraction': 0.9712463260920982, 'bagging_freq': 7}. Best is trial 28 with value: 0.15749309009514617.\n",
      "bagging, val_score: 0.157493:  40%|#####################2                               | 4/10 [00:03<00:04,  1.29it/s]"
     ]
    },
    {
     "name": "stdout",
     "output_type": "stream",
     "text": [
      "[200]\tcv_agg's l2: 0.163123 + 0.0214697\n",
      "Early stopping, best iteration is:\n",
      "[143]\tcv_agg's l2: 0.157493 + 0.0175755\n",
      "[100]\tcv_agg's l2: 0.223783 + 0.0129689\n",
      "[200]\tcv_agg's l2: 0.207573 + 0.00975695\n"
     ]
    },
    {
     "name": "stderr",
     "output_type": "stream",
     "text": [
      "bagging, val_score: 0.157493:  50%|##########################5                          | 5/10 [00:03<00:03,  1.52it/s][I 2023-08-07 21:52:41,589] Trial 31 finished with value: 0.21353795721068383 and parameters: {'bagging_fraction': 0.40582611823399517, 'bagging_freq': 4}. Best is trial 28 with value: 0.15749309009514617.\n",
      "bagging, val_score: 0.157493:  50%|##########################5                          | 5/10 [00:03<00:03,  1.52it/s]"
     ]
    },
    {
     "name": "stdout",
     "output_type": "stream",
     "text": [
      "Early stopping, best iteration is:\n",
      "[143]\tcv_agg's l2: 0.157493 + 0.0175755\n",
      "[100]\tcv_agg's l2: 0.165189 + 0.0226692\n"
     ]
    },
    {
     "name": "stderr",
     "output_type": "stream",
     "text": [
      "bagging, val_score: 0.157493:  60%|###############################8                     | 6/10 [00:04<00:02,  1.46it/s][I 2023-08-07 21:52:42,324] Trial 32 finished with value: 0.1618062498414396 and parameters: {'bagging_fraction': 0.8322051763440843, 'bagging_freq': 5}. Best is trial 28 with value: 0.15749309009514617.\n",
      "bagging, val_score: 0.157493:  60%|###############################8                     | 6/10 [00:04<00:02,  1.46it/s]"
     ]
    },
    {
     "name": "stdout",
     "output_type": "stream",
     "text": [
      "[200]\tcv_agg's l2: 0.159733 + 0.0174892\n",
      "Early stopping, best iteration is:\n",
      "[143]\tcv_agg's l2: 0.157493 + 0.0175755\n",
      "[100]\tcv_agg's l2: 0.173283 + 0.0176621\n"
     ]
    },
    {
     "name": "stderr",
     "output_type": "stream",
     "text": [
      "bagging, val_score: 0.157493:  70%|#####################################                | 7/10 [00:04<00:02,  1.45it/s][I 2023-08-07 21:52:43,029] Trial 33 finished with value: 0.17085117978433445 and parameters: {'bagging_fraction': 0.776244206407205, 'bagging_freq': 4}. Best is trial 28 with value: 0.15749309009514617.\n",
      "bagging, val_score: 0.157493:  70%|#####################################                | 7/10 [00:04<00:02,  1.45it/s]"
     ]
    },
    {
     "name": "stdout",
     "output_type": "stream",
     "text": [
      "[200]\tcv_agg's l2: 0.170425 + 0.011147\n",
      "Early stopping, best iteration is:\n",
      "[143]\tcv_agg's l2: 0.157493 + 0.0175755\n",
      "[100]\tcv_agg's l2: 0.162896 + 0.02102\n"
     ]
    },
    {
     "name": "stderr",
     "output_type": "stream",
     "text": [
      "bagging, val_score: 0.157493:  80%|##########################################4          | 8/10 [00:05<00:01,  1.43it/s][I 2023-08-07 21:52:43,751] Trial 34 finished with value: 0.1605635211087198 and parameters: {'bagging_fraction': 0.875184851818048, 'bagging_freq': 1}. Best is trial 28 with value: 0.15749309009514617.\n",
      "bagging, val_score: 0.157493:  80%|##########################################4          | 8/10 [00:05<00:01,  1.43it/s]"
     ]
    },
    {
     "name": "stdout",
     "output_type": "stream",
     "text": [
      "[200]\tcv_agg's l2: 0.158771 + 0.0200503\n",
      "Early stopping, best iteration is:\n",
      "[143]\tcv_agg's l2: 0.157493 + 0.0175755\n",
      "[100]\tcv_agg's l2: 0.181828 + 0.0178037\n"
     ]
    },
    {
     "name": "stderr",
     "output_type": "stream",
     "text": [
      "bagging, val_score: 0.157493:  90%|###############################################7     | 9/10 [00:06<00:00,  1.45it/s][I 2023-08-07 21:52:44,420] Trial 35 finished with value: 0.17717541271117504 and parameters: {'bagging_fraction': 0.6740243615534391, 'bagging_freq': 6}. Best is trial 28 with value: 0.15749309009514617.\n",
      "bagging, val_score: 0.157493:  90%|###############################################7     | 9/10 [00:06<00:00,  1.45it/s]"
     ]
    },
    {
     "name": "stdout",
     "output_type": "stream",
     "text": [
      "[200]\tcv_agg's l2: 0.174871 + 0.0166129\n",
      "Early stopping, best iteration is:\n",
      "[143]\tcv_agg's l2: 0.157493 + 0.0175755\n",
      "[100]\tcv_agg's l2: 0.163847 + 0.0185997\n"
     ]
    },
    {
     "name": "stderr",
     "output_type": "stream",
     "text": [
      "bagging, val_score: 0.157493: 100%|####################################################| 10/10 [00:07<00:00,  1.35it/s][I 2023-08-07 21:52:45,271] Trial 36 finished with value: 0.16106170337811052 and parameters: {'bagging_fraction': 0.9855444385874452, 'bagging_freq': 3}. Best is trial 28 with value: 0.15749309009514617.\n",
      "bagging, val_score: 0.157493: 100%|####################################################| 10/10 [00:07<00:00,  1.40it/s]\n"
     ]
    },
    {
     "name": "stdout",
     "output_type": "stream",
     "text": [
      "[200]\tcv_agg's l2: 0.160193 + 0.01654\n",
      "Early stopping, best iteration is:\n",
      "[143]\tcv_agg's l2: 0.157493 + 0.0175755\n"
     ]
    },
    {
     "name": "stderr",
     "output_type": "stream",
     "text": [
      "feature_fraction_stage2, val_score: 0.157493:   0%|                                              | 0/3 [00:00<?, ?it/s]"
     ]
    },
    {
     "name": "stdout",
     "output_type": "stream",
     "text": [
      "[100]\tcv_agg's l2: 0.167249 + 0.0212384\n"
     ]
    },
    {
     "name": "stderr",
     "output_type": "stream",
     "text": [
      "feature_fraction_stage2, val_score: 0.157493:  33%|############6                         | 1/3 [00:00<00:01,  1.26it/s][I 2023-08-07 21:52:46,069] Trial 37 finished with value: 0.16440259017418216 and parameters: {'feature_fraction': 0.48000000000000004}. Best is trial 37 with value: 0.16440259017418216.\n",
      "feature_fraction_stage2, val_score: 0.157493:  33%|############6                         | 1/3 [00:00<00:01,  1.26it/s]"
     ]
    },
    {
     "name": "stdout",
     "output_type": "stream",
     "text": [
      "[200]\tcv_agg's l2: 0.164969 + 0.0192375\n",
      "Early stopping, best iteration is:\n",
      "[143]\tcv_agg's l2: 0.157493 + 0.0175755\n",
      "[100]\tcv_agg's l2: 0.159846 + 0.0197405\n"
     ]
    },
    {
     "name": "stderr",
     "output_type": "stream",
     "text": [
      "feature_fraction_stage2, val_score: 0.157493:  67%|#########################3            | 2/3 [00:01<00:00,  1.28it/s][I 2023-08-07 21:52:46,848] Trial 38 finished with value: 0.15749309009514617 and parameters: {'feature_fraction': 0.41600000000000004}. Best is trial 38 with value: 0.15749309009514617.\n",
      "feature_fraction_stage2, val_score: 0.157493:  67%|#########################3            | 2/3 [00:01<00:00,  1.28it/s]"
     ]
    },
    {
     "name": "stdout",
     "output_type": "stream",
     "text": [
      "[200]\tcv_agg's l2: 0.157939 + 0.0172474\n",
      "Early stopping, best iteration is:\n",
      "[143]\tcv_agg's l2: 0.157493 + 0.0175755\n",
      "[100]\tcv_agg's l2: 0.167249 + 0.0212384\n"
     ]
    },
    {
     "name": "stderr",
     "output_type": "stream",
     "text": [
      "feature_fraction_stage2, val_score: 0.157493: 100%|######################################| 3/3 [00:02<00:00,  1.26it/s][I 2023-08-07 21:52:47,647] Trial 39 finished with value: 0.16440259017418216 and parameters: {'feature_fraction': 0.44800000000000006}. Best is trial 38 with value: 0.15749309009514617.\n",
      "feature_fraction_stage2, val_score: 0.157493: 100%|######################################| 3/3 [00:02<00:00,  1.26it/s]\n"
     ]
    },
    {
     "name": "stdout",
     "output_type": "stream",
     "text": [
      "[200]\tcv_agg's l2: 0.164969 + 0.0192375\n",
      "Early stopping, best iteration is:\n",
      "[143]\tcv_agg's l2: 0.157493 + 0.0175755\n"
     ]
    },
    {
     "name": "stderr",
     "output_type": "stream",
     "text": [
      "regularization_factors, val_score: 0.157493:   0%|                                              | 0/20 [00:00<?, ?it/s]"
     ]
    },
    {
     "name": "stdout",
     "output_type": "stream",
     "text": [
      "[100]\tcv_agg's l2: 0.17514 + 0.0243422\n"
     ]
    },
    {
     "name": "stderr",
     "output_type": "stream",
     "text": [
      "regularization_factors, val_score: 0.157493:   5%|#9                                    | 1/20 [00:00<00:10,  1.80it/s][I 2023-08-07 21:52:48,209] Trial 40 finished with value: 0.17025982495315306 and parameters: {'lambda_l1': 1.9691239753949774, 'lambda_l2': 5.691160993362555e-05}. Best is trial 40 with value: 0.17025982495315306.\n",
      "regularization_factors, val_score: 0.157493:   5%|#9                                    | 1/20 [00:00<00:10,  1.80it/s]"
     ]
    },
    {
     "name": "stdout",
     "output_type": "stream",
     "text": [
      "[200]\tcv_agg's l2: 0.16837 + 0.0212206\n",
      "Early stopping, best iteration is:\n",
      "[143]\tcv_agg's l2: 0.157493 + 0.0175755\n",
      "[100]\tcv_agg's l2: 0.165955 + 0.0205367\n"
     ]
    },
    {
     "name": "stderr",
     "output_type": "stream",
     "text": [
      "regularization_factors, val_score: 0.157493:  10%|###8                                  | 2/20 [00:01<00:11,  1.54it/s][I 2023-08-07 21:52:48,926] Trial 41 finished with value: 0.1598545140076043 and parameters: {'lambda_l1': 1.4322953065320749e-08, 'lambda_l2': 9.718909707262073}. Best is trial 41 with value: 0.1598545140076043.\n",
      "regularization_factors, val_score: 0.157493:  10%|###8                                  | 2/20 [00:01<00:11,  1.54it/s]"
     ]
    },
    {
     "name": "stdout",
     "output_type": "stream",
     "text": [
      "[200]\tcv_agg's l2: 0.158757 + 0.0176595\n",
      "Early stopping, best iteration is:\n",
      "[143]\tcv_agg's l2: 0.157493 + 0.0175755\n",
      "[100]\tcv_agg's l2: 0.160046 + 0.0189846\n"
     ]
    },
    {
     "name": "stderr",
     "output_type": "stream",
     "text": [
      "regularization_factors, val_score: 0.157493:  15%|#####7                                | 3/20 [00:02<00:12,  1.41it/s][I 2023-08-07 21:52:49,707] Trial 42 finished with value: 0.15846810806860212 and parameters: {'lambda_l1': 0.000312218816621244, 'lambda_l2': 1.1740973981084686e-08}. Best is trial 42 with value: 0.15846810806860212.\n",
      "regularization_factors, val_score: 0.157493:  15%|#####7                                | 3/20 [00:02<00:12,  1.41it/s]"
     ]
    },
    {
     "name": "stdout",
     "output_type": "stream",
     "text": [
      "[200]\tcv_agg's l2: 0.159373 + 0.0185836\n",
      "Early stopping, best iteration is:\n",
      "[143]\tcv_agg's l2: 0.157493 + 0.0175755\n",
      "[100]\tcv_agg's l2: 0.159916 + 0.0193348\n"
     ]
    },
    {
     "name": "stderr",
     "output_type": "stream",
     "text": [
      "regularization_factors, val_score: 0.157493:  20%|#######6                              | 4/20 [00:02<00:12,  1.31it/s][I 2023-08-07 21:52:50,549] Trial 43 finished with value: 0.15902926230428094 and parameters: {'lambda_l1': 0.0002087964898658133, 'lambda_l2': 9.50729686731404e-08}. Best is trial 42 with value: 0.15846810806860212.\n",
      "regularization_factors, val_score: 0.157493:  20%|#######6                              | 4/20 [00:02<00:12,  1.31it/s]"
     ]
    },
    {
     "name": "stdout",
     "output_type": "stream",
     "text": [
      "[200]\tcv_agg's l2: 0.159366 + 0.0182283\n",
      "Early stopping, best iteration is:\n",
      "[143]\tcv_agg's l2: 0.157493 + 0.0175755\n",
      "[100]\tcv_agg's l2: 0.160046 + 0.0189844\n"
     ]
    },
    {
     "name": "stderr",
     "output_type": "stream",
     "text": [
      "regularization_factors, val_score: 0.157493:  25%|#########5                            | 5/20 [00:03<00:11,  1.27it/s][I 2023-08-07 21:52:51,389] Trial 44 finished with value: 0.15846773472033568 and parameters: {'lambda_l1': 0.00032673475767559725, 'lambda_l2': 1.0230525218758203e-08}. Best is trial 44 with value: 0.15846773472033568.\n",
      "regularization_factors, val_score: 0.157493:  25%|#########5                            | 5/20 [00:03<00:11,  1.27it/s]"
     ]
    },
    {
     "name": "stdout",
     "output_type": "stream",
     "text": [
      "[200]\tcv_agg's l2: 0.159372 + 0.0185829\n",
      "Early stopping, best iteration is:\n",
      "[143]\tcv_agg's l2: 0.157493 + 0.0175755\n",
      "[100]\tcv_agg's l2: 0.159948 + 0.0188204\n"
     ]
    },
    {
     "name": "stderr",
     "output_type": "stream",
     "text": [
      "regularization_factors, val_score: 0.157493:  30%|###########4                          | 6/20 [00:04<00:11,  1.24it/s][I 2023-08-07 21:52:52,233] Trial 45 finished with value: 0.15805770275848577 and parameters: {'lambda_l1': 0.0002566005548705585, 'lambda_l2': 1.748714129700137e-08}. Best is trial 45 with value: 0.15805770275848577.\n",
      "regularization_factors, val_score: 0.157493:  30%|###########4                          | 6/20 [00:04<00:11,  1.24it/s]"
     ]
    },
    {
     "name": "stdout",
     "output_type": "stream",
     "text": [
      "[200]\tcv_agg's l2: 0.159169 + 0.0181937\n",
      "Early stopping, best iteration is:\n",
      "[143]\tcv_agg's l2: 0.157493 + 0.0175755\n",
      "[100]\tcv_agg's l2: 0.160123 + 0.0190248\n"
     ]
    },
    {
     "name": "stderr",
     "output_type": "stream",
     "text": [
      "regularization_factors, val_score: 0.157493:  35%|#############3                        | 7/20 [00:05<00:11,  1.18it/s][I 2023-08-07 21:52:53,158] Trial 46 finished with value: 0.15884757349773604 and parameters: {'lambda_l1': 0.0003669974814589553, 'lambda_l2': 2.466505377770221e-08}. Best is trial 45 with value: 0.15805770275848577.\n",
      "regularization_factors, val_score: 0.157493:  35%|#############3                        | 7/20 [00:05<00:11,  1.18it/s]"
     ]
    },
    {
     "name": "stdout",
     "output_type": "stream",
     "text": [
      "[200]\tcv_agg's l2: 0.159351 + 0.0182007\n",
      "Early stopping, best iteration is:\n",
      "[143]\tcv_agg's l2: 0.157493 + 0.0175755\n",
      "[100]\tcv_agg's l2: 0.159742 + 0.0188948\n"
     ]
    },
    {
     "name": "stderr",
     "output_type": "stream",
     "text": [
      "regularization_factors, val_score: 0.157493:  40%|###############2                      | 8/20 [00:06<00:10,  1.16it/s][I 2023-08-07 21:52:54,044] Trial 47 finished with value: 0.15808584475630091 and parameters: {'lambda_l1': 0.0004437627113680524, 'lambda_l2': 1.189065038090025e-08}. Best is trial 45 with value: 0.15805770275848577.\n",
      "regularization_factors, val_score: 0.157493:  40%|###############2                      | 8/20 [00:06<00:10,  1.16it/s]"
     ]
    },
    {
     "name": "stdout",
     "output_type": "stream",
     "text": [
      "[200]\tcv_agg's l2: 0.159097 + 0.017858\n",
      "Early stopping, best iteration is:\n",
      "[143]\tcv_agg's l2: 0.157493 + 0.0175755\n",
      "[100]\tcv_agg's l2: 0.160207 + 0.0194807\n"
     ]
    },
    {
     "name": "stderr",
     "output_type": "stream",
     "text": [
      "regularization_factors, val_score: 0.157493:  45%|#################1                    | 9/20 [00:07<00:09,  1.15it/s][I 2023-08-07 21:52:54,946] Trial 48 finished with value: 0.15920586193305258 and parameters: {'lambda_l1': 0.0002114644345945818, 'lambda_l2': 1.045146870062488e-08}. Best is trial 45 with value: 0.15805770275848577.\n",
      "regularization_factors, val_score: 0.157493:  45%|#################1                    | 9/20 [00:07<00:09,  1.15it/s]"
     ]
    },
    {
     "name": "stdout",
     "output_type": "stream",
     "text": [
      "[200]\tcv_agg's l2: 0.159297 + 0.0181859\n",
      "Early stopping, best iteration is:\n",
      "[143]\tcv_agg's l2: 0.157493 + 0.0175755\n",
      "[100]\tcv_agg's l2: 0.162559 + 0.0211824\n"
     ]
    },
    {
     "name": "stderr",
     "output_type": "stream",
     "text": [
      "regularization_factors, val_score: 0.157493:  50%|##################5                  | 10/20 [00:08<00:08,  1.14it/s][I 2023-08-07 21:52:55,827] Trial 49 finished with value: 0.15911593379337452 and parameters: {'lambda_l1': 0.0029565352527475986, 'lambda_l2': 9.39360587801653e-07}. Best is trial 45 with value: 0.15805770275848577.\n",
      "regularization_factors, val_score: 0.157493:  50%|##################5                  | 10/20 [00:08<00:08,  1.14it/s]"
     ]
    },
    {
     "name": "stdout",
     "output_type": "stream",
     "text": [
      "[200]\tcv_agg's l2: 0.160194 + 0.0209968\n",
      "Early stopping, best iteration is:\n",
      "[143]\tcv_agg's l2: 0.157493 + 0.0175755\n",
      "[100]\tcv_agg's l2: 0.160141 + 0.0200549\n"
     ]
    },
    {
     "name": "stderr",
     "output_type": "stream",
     "text": [
      "regularization_factors, val_score: 0.157493:  55%|####################3                | 11/20 [00:08<00:07,  1.16it/s][I 2023-08-07 21:52:56,647] Trial 50 finished with value: 0.15845958119084286 and parameters: {'lambda_l1': 3.954492133060695e-06, 'lambda_l2': 1.721484283953106e-06}. Best is trial 45 with value: 0.15805770275848577.\n",
      "regularization_factors, val_score: 0.157493:  55%|####################3                | 11/20 [00:08<00:07,  1.16it/s]"
     ]
    },
    {
     "name": "stdout",
     "output_type": "stream",
     "text": [
      "[200]\tcv_agg's l2: 0.159161 + 0.0188243\n",
      "Early stopping, best iteration is:\n",
      "[143]\tcv_agg's l2: 0.157493 + 0.0175755\n",
      "[100]\tcv_agg's l2: 0.160141 + 0.0200549\n"
     ]
    },
    {
     "name": "stderr",
     "output_type": "stream",
     "text": [
      "regularization_factors, val_score: 0.157493:  60%|######################2              | 12/20 [00:09<00:06,  1.15it/s][I 2023-08-07 21:52:57,531] Trial 51 finished with value: 0.15845958304087815 and parameters: {'lambda_l1': 9.419822402113658e-06, 'lambda_l2': 8.273313947927079e-07}. Best is trial 45 with value: 0.15805770275848577.\n",
      "regularization_factors, val_score: 0.157493:  60%|######################2              | 12/20 [00:09<00:06,  1.15it/s]"
     ]
    },
    {
     "name": "stdout",
     "output_type": "stream",
     "text": [
      "[200]\tcv_agg's l2: 0.159161 + 0.0188243\n",
      "Early stopping, best iteration is:\n",
      "[143]\tcv_agg's l2: 0.157493 + 0.0175755\n",
      "[100]\tcv_agg's l2: 0.160096 + 0.0200466\n"
     ]
    },
    {
     "name": "stderr",
     "output_type": "stream",
     "text": [
      "regularization_factors, val_score: 0.157493:  65%|########################             | 13/20 [00:10<00:05,  1.18it/s][I 2023-08-07 21:52:58,341] Trial 52 finished with value: 0.15852994127304348 and parameters: {'lambda_l1': 2.075211585805268e-06, 'lambda_l2': 2.0928091540464323e-06}. Best is trial 45 with value: 0.15805770275848577.\n",
      "regularization_factors, val_score: 0.157493:  65%|########################             | 13/20 [00:10<00:05,  1.18it/s]"
     ]
    },
    {
     "name": "stdout",
     "output_type": "stream",
     "text": [
      "[200]\tcv_agg's l2: 0.15872 + 0.0189248\n",
      "Early stopping, best iteration is:\n",
      "[143]\tcv_agg's l2: 0.157493 + 0.0175755\n",
      "[100]\tcv_agg's l2: 0.160141 + 0.0200549\n"
     ]
    },
    {
     "name": "stderr",
     "output_type": "stream",
     "text": [
      "regularization_factors, val_score: 0.157493:  70%|#########################9           | 14/20 [00:11<00:05,  1.18it/s][I 2023-08-07 21:52:59,187] Trial 53 finished with value: 0.15845958255662582 and parameters: {'lambda_l1': 2.664069664610762e-06, 'lambda_l2': 7.618349293739132e-07}. Best is trial 45 with value: 0.15805770275848577.\n",
      "regularization_factors, val_score: 0.157493:  70%|#########################9           | 14/20 [00:11<00:05,  1.18it/s]"
     ]
    },
    {
     "name": "stdout",
     "output_type": "stream",
     "text": [
      "[200]\tcv_agg's l2: 0.159045 + 0.0190121\n",
      "Early stopping, best iteration is:\n",
      "[143]\tcv_agg's l2: 0.157493 + 0.0175755\n",
      "[100]\tcv_agg's l2: 0.160141 + 0.0200549\n"
     ]
    },
    {
     "name": "stderr",
     "output_type": "stream",
     "text": [
      "regularization_factors, val_score: 0.157493:  75%|###########################7         | 15/20 [00:12<00:04,  1.18it/s][I 2023-08-07 21:53:00,043] Trial 54 finished with value: 0.1584595832707692 and parameters: {'lambda_l1': 5.514982234518161e-06, 'lambda_l2': 2.491037747834022e-07}. Best is trial 45 with value: 0.15805770275848577.\n",
      "regularization_factors, val_score: 0.157493:  75%|###########################7         | 15/20 [00:12<00:04,  1.18it/s]"
     ]
    },
    {
     "name": "stdout",
     "output_type": "stream",
     "text": [
      "[200]\tcv_agg's l2: 0.159161 + 0.0188243\n",
      "Early stopping, best iteration is:\n",
      "[143]\tcv_agg's l2: 0.157493 + 0.0175755\n",
      "[100]\tcv_agg's l2: 0.160099 + 0.0200472\n"
     ]
    },
    {
     "name": "stderr",
     "output_type": "stream",
     "text": [
      "regularization_factors, val_score: 0.157493:  80%|#############################6       | 16/20 [00:13<00:03,  1.20it/s][I 2023-08-07 21:53:00,835] Trial 55 finished with value: 0.15840234903983327 and parameters: {'lambda_l1': 4.503746168573628e-07, 'lambda_l2': 9.986870551251816e-06}. Best is trial 45 with value: 0.15805770275848577.\n",
      "regularization_factors, val_score: 0.157493:  80%|#############################6       | 16/20 [00:13<00:03,  1.20it/s]"
     ]
    },
    {
     "name": "stdout",
     "output_type": "stream",
     "text": [
      "[200]\tcv_agg's l2: 0.1585 + 0.0187522\n",
      "Early stopping, best iteration is:\n",
      "[143]\tcv_agg's l2: 0.157493 + 0.0175755\n",
      "[100]\tcv_agg's l2: 0.160099 + 0.0200472\n"
     ]
    },
    {
     "name": "stderr",
     "output_type": "stream",
     "text": [
      "regularization_factors, val_score: 0.157493:  85%|###############################4     | 17/20 [00:14<00:02,  1.20it/s][I 2023-08-07 21:53:01,679] Trial 56 finished with value: 0.1584023464297148 and parameters: {'lambda_l1': 1.0740450474767121e-07, 'lambda_l2': 1.7829804863037703e-05}. Best is trial 45 with value: 0.15805770275848577.\n",
      "regularization_factors, val_score: 0.157493:  85%|###############################4     | 17/20 [00:14<00:02,  1.20it/s]"
     ]
    },
    {
     "name": "stdout",
     "output_type": "stream",
     "text": [
      "[200]\tcv_agg's l2: 0.158598 + 0.0188424\n",
      "Early stopping, best iteration is:\n",
      "[143]\tcv_agg's l2: 0.157493 + 0.0175755\n",
      "[100]\tcv_agg's l2: 0.160292 + 0.0197125\n"
     ]
    },
    {
     "name": "stderr",
     "output_type": "stream",
     "text": [
      "regularization_factors, val_score: 0.157493:  90%|#################################3   | 18/20 [00:14<00:01,  1.21it/s][I 2023-08-07 21:53:02,487] Trial 57 finished with value: 0.1586042159291528 and parameters: {'lambda_l1': 4.7436330791349625e-08, 'lambda_l2': 3.3230081878967106e-05}. Best is trial 45 with value: 0.15805770275848577.\n",
      "regularization_factors, val_score: 0.157493:  90%|#################################3   | 18/20 [00:14<00:01,  1.21it/s]"
     ]
    },
    {
     "name": "stdout",
     "output_type": "stream",
     "text": [
      "[200]\tcv_agg's l2: 0.158835 + 0.0184595\n",
      "Early stopping, best iteration is:\n",
      "[143]\tcv_agg's l2: 0.157493 + 0.0175755\n",
      "[100]\tcv_agg's l2: 0.160292 + 0.0197125\n"
     ]
    },
    {
     "name": "stderr",
     "output_type": "stream",
     "text": [
      "regularization_factors, val_score: 0.157493:  95%|###################################1 | 19/20 [00:15<00:00,  1.23it/s][I 2023-08-07 21:53:03,268] Trial 58 finished with value: 0.15860421977993036 and parameters: {'lambda_l1': 1.766246727472734e-07, 'lambda_l2': 2.8093178113654834e-05}. Best is trial 45 with value: 0.15805770275848577.\n",
      "regularization_factors, val_score: 0.157493:  95%|###################################1 | 19/20 [00:15<00:00,  1.23it/s]"
     ]
    },
    {
     "name": "stdout",
     "output_type": "stream",
     "text": [
      "[200]\tcv_agg's l2: 0.158835 + 0.0184595\n",
      "Early stopping, best iteration is:\n",
      "[143]\tcv_agg's l2: 0.157493 + 0.0175755\n",
      "[100]\tcv_agg's l2: 0.160462 + 0.0198509\n"
     ]
    },
    {
     "name": "stderr",
     "output_type": "stream",
     "text": [
      "regularization_factors, val_score: 0.157493: 100%|#####################################| 20/20 [00:16<00:00,  1.19it/s][I 2023-08-07 21:53:04,164] Trial 59 finished with value: 0.15913711660137625 and parameters: {'lambda_l1': 1.9922591879625865e-07, 'lambda_l2': 0.0009267700613644107}. Best is trial 45 with value: 0.15805770275848577.\n",
      "regularization_factors, val_score: 0.157493: 100%|#####################################| 20/20 [00:16<00:00,  1.21it/s]\n"
     ]
    },
    {
     "name": "stdout",
     "output_type": "stream",
     "text": [
      "[200]\tcv_agg's l2: 0.159847 + 0.0188865\n",
      "Early stopping, best iteration is:\n",
      "[143]\tcv_agg's l2: 0.157493 + 0.0175755\n"
     ]
    },
    {
     "name": "stderr",
     "output_type": "stream",
     "text": [
      "min_data_in_leaf, val_score: 0.157493:   0%|                                                     | 0/5 [00:00<?, ?it/s]"
     ]
    },
    {
     "name": "stdout",
     "output_type": "stream",
     "text": [
      "[100]\tcv_agg's l2: 0.242058 + 0.0162871\n",
      "[200]\tcv_agg's l2: 0.224679 + 0.0182204\n"
     ]
    },
    {
     "name": "stderr",
     "output_type": "stream",
     "text": [
      "min_data_in_leaf, val_score: 0.157493:  20%|#########                                    | 1/5 [00:00<00:01,  2.04it/s][I 2023-08-07 21:53:04,659] Trial 60 finished with value: 0.22984886206144828 and parameters: {'min_child_samples': 50}. Best is trial 60 with value: 0.22984886206144828.\n",
      "min_data_in_leaf, val_score: 0.157493:  20%|#########                                    | 1/5 [00:00<00:01,  2.04it/s]"
     ]
    },
    {
     "name": "stdout",
     "output_type": "stream",
     "text": [
      "Early stopping, best iteration is:\n",
      "[143]\tcv_agg's l2: 0.157493 + 0.0175755\n",
      "[100]\tcv_agg's l2: 0.72998 + 0.106416\n"
     ]
    },
    {
     "name": "stderr",
     "output_type": "stream",
     "text": [
      "min_data_in_leaf, val_score: 0.157493:  40%|##################                           | 2/5 [00:00<00:01,  2.47it/s][I 2023-08-07 21:53:05,004] Trial 61 finished with value: 0.7157643666954856 and parameters: {'min_child_samples': 100}. Best is trial 60 with value: 0.22984886206144828.\n",
      "min_data_in_leaf, val_score: 0.157493:  40%|##################                           | 2/5 [00:00<00:01,  2.47it/s]"
     ]
    },
    {
     "name": "stdout",
     "output_type": "stream",
     "text": [
      "[200]\tcv_agg's l2: 0.709198 + 0.116\n",
      "Early stopping, best iteration is:\n",
      "[143]\tcv_agg's l2: 0.157493 + 0.0175755\n",
      "[100]\tcv_agg's l2: 0.143928 + 0.0165695\n",
      "[200]\tcv_agg's l2: 0.14261 + 0.0160073\n"
     ]
    },
    {
     "name": "stderr",
     "output_type": "stream",
     "text": [
      "min_data_in_leaf, val_score: 0.142370:  60%|###########################                  | 3/5 [00:02<00:01,  1.24it/s][I 2023-08-07 21:53:06,290] Trial 62 finished with value: 0.14237049200580837 and parameters: {'min_child_samples': 10}. Best is trial 62 with value: 0.14237049200580837.\n",
      "min_data_in_leaf, val_score: 0.142370:  60%|###########################                  | 3/5 [00:02<00:01,  1.24it/s]"
     ]
    },
    {
     "name": "stdout",
     "output_type": "stream",
     "text": [
      "[300]\tcv_agg's l2: 0.142765 + 0.0166007\n",
      "Early stopping, best iteration is:\n",
      "[229]\tcv_agg's l2: 0.14237 + 0.0160663\n",
      "[100]\tcv_agg's l2: 0.174147 + 0.0222732\n",
      "[200]\tcv_agg's l2: 0.168153 + 0.0176719\n"
     ]
    },
    {
     "name": "stderr",
     "output_type": "stream",
     "text": [
      "min_data_in_leaf, val_score: 0.142370:  80%|####################################         | 4/5 [00:03<00:00,  1.17it/s][I 2023-08-07 21:53:07,221] Trial 63 finished with value: 0.16675506980369667 and parameters: {'min_child_samples': 25}. Best is trial 62 with value: 0.14237049200580837.\n",
      "min_data_in_leaf, val_score: 0.142370:  80%|####################################         | 4/5 [00:03<00:00,  1.17it/s]"
     ]
    },
    {
     "name": "stdout",
     "output_type": "stream",
     "text": [
      "[300]\tcv_agg's l2: 0.166989 + 0.0176526\n",
      "Early stopping, best iteration is:\n",
      "[229]\tcv_agg's l2: 0.14237 + 0.0160663\n",
      "[100]\tcv_agg's l2: 0.148485 + 0.0151651\n",
      "[200]\tcv_agg's l2: 0.147809 + 0.015438\n"
     ]
    },
    {
     "name": "stderr",
     "output_type": "stream",
     "text": [
      "min_data_in_leaf, val_score: 0.142370: 100%|#############################################| 5/5 [00:04<00:00,  1.00it/s][I 2023-08-07 21:53:08,466] Trial 64 finished with value: 0.14752144921723204 and parameters: {'min_child_samples': 5}. Best is trial 62 with value: 0.14237049200580837.\n",
      "min_data_in_leaf, val_score: 0.142370: 100%|#############################################| 5/5 [00:04<00:00,  1.16it/s]"
     ]
    },
    {
     "name": "stdout",
     "output_type": "stream",
     "text": [
      "[300]\tcv_agg's l2: 0.147422 + 0.0159854\n",
      "Early stopping, best iteration is:\n",
      "[229]\tcv_agg's l2: 0.14237 + 0.0160663\n"
     ]
    },
    {
     "name": "stderr",
     "output_type": "stream",
     "text": [
      "\n"
     ]
    }
   ],
   "source": [
    "import optuna.integration.lightgbm as lgb\n",
    "from lightgbm import early_stopping, log_evaluation\n",
    "from sklearn.model_selection import KFold\n",
    "from sklearn.model_selection import RepeatedKFold\n",
    "\n",
    "\n",
    "lgb_train = lgb.Dataset(X_train, y_train)\n",
    "\n",
    "params = {\n",
    "    \"boosting_type\": \"gbdt\",\n",
    "    \"objective\": \"regression\",\n",
    "    \"metric\": \"l2\",\n",
    "    \"verbosity\": -1,\n",
    "}\n",
    "\n",
    "tuner = lgb.LightGBMTunerCV(\n",
    "    params,\n",
    "    lgb_train,\n",
    "    folds=KFold(n_splits=5),\n",
    "    num_boost_round=10000,\n",
    "    callbacks=[early_stopping(100), log_evaluation(100)],\n",
    ")\n",
    "\n",
    "tuner.run()"
   ]
  },
  {
   "cell_type": "code",
   "execution_count": 41,
   "id": "1f3e9e7d",
   "metadata": {
    "scrolled": true
   },
   "outputs": [
    {
     "name": "stdout",
     "output_type": "stream",
     "text": [
      "Best score: 0.14237049200580837\n",
      "Params: \n",
      "    boosting_type: gbdt\n",
      "    objective: regression\n",
      "    metric: l2\n",
      "    verbosity: -1\n",
      "    feature_pre_filter: False\n",
      "    lambda_l1: 0.0\n",
      "    lambda_l2: 0.0\n",
      "    num_leaves: 31\n",
      "    feature_fraction: 0.4\n",
      "    bagging_fraction: 0.9860937701453998\n",
      "    bagging_freq: 7\n",
      "    min_child_samples: 10\n"
     ]
    }
   ],
   "source": [
    "print(f\"Best score: {tuner.best_score}\")\n",
    "best_params = tuner.best_params\n",
    "print(\"Params: \")\n",
    "for key, value in best_params.items():\n",
    "    print(\"    {}: {}\".format(key, value))"
   ]
  },
  {
   "cell_type": "code",
   "execution_count": 42,
   "id": "8eb2b093",
   "metadata": {
    "scrolled": true
   },
   "outputs": [
    {
     "name": "stdout",
     "output_type": "stream",
     "text": [
      "MSE: 0.22\n",
      "RMSE: 0.47\n"
     ]
    }
   ],
   "source": [
    "import lightgbm as lgb\n",
    "\n",
    "lgb_tuned = lgb.train(\n",
    "    best_params,\n",
    "    lgb_train,\n",
    "    num_boost_round=10000,\n",
    ")\n",
    "\n",
    "y_pred = lgb_tuned.predict(X_test)\n",
    "\n",
    "mse = mean_squared_error(y_test, y_pred)\n",
    "rmse = mean_squared_error(y_test, y_pred, squared=False)\n",
    "print(f\"MSE: {mse:.2f}\")\n",
    "print(f\"RMSE: {rmse:.2f}\")"
   ]
  },
  {
   "cell_type": "markdown",
   "id": "259dbcd4",
   "metadata": {},
   "source": [
    "Really good results."
   ]
  },
  {
   "cell_type": "markdown",
   "id": "73d2a0b4",
   "metadata": {},
   "source": [
    "#### Rounded results"
   ]
  },
  {
   "cell_type": "code",
   "execution_count": 59,
   "id": "b4ce0638",
   "metadata": {},
   "outputs": [],
   "source": [
    "predict = lgb_tuned.predict(X_test)\n",
    "round_predict = np.round(predict).astype(\"int\")\n",
    "round_predict = np.where(round_predict > 20, 21, round_predict)\n",
    "threshold33 = 0.33\n",
    "round_predict_lower_threshold33 = np.where(\n",
    "    (predict % 1) > threshold33, np.ceil(predict), np.floor(predict)\n",
    ").astype(\"int\")\n",
    "threshold45 = 0.45\n",
    "round_predict_lower_threshold45 = np.where(\n",
    "    (predict % 1) > threshold45, np.ceil(predict), np.floor(predict)\n",
    ").astype(\"int\")"
   ]
  },
  {
   "cell_type": "code",
   "execution_count": 60,
   "id": "203bb431",
   "metadata": {},
   "outputs": [],
   "source": [
    "def check_predictions(y, y_pred):\n",
    "    print(f\"Mean square error: {mean_squared_error(y, y_pred):.2f}\")\n",
    "    print(f\"RMSE: {mean_squared_error(y, y_pred, squared=False):.2f}\")\n",
    "    print()"
   ]
  },
  {
   "cell_type": "code",
   "execution_count": 61,
   "id": "5cb6732e",
   "metadata": {
    "scrolled": true
   },
   "outputs": [
    {
     "name": "stdout",
     "output_type": "stream",
     "text": [
      "Normal:\n",
      "Mean square error: 0.22\n",
      "RMSE: 0.47\n",
      "\n",
      "Round:\n",
      "Mean square error: 0.24\n",
      "RMSE: 0.49\n",
      "\n",
      "Round lower threshold = 0.33:\n",
      "Mean square error: 0.26\n",
      "RMSE: 0.51\n",
      "\n",
      "Round lower threshold = 0.45:\n",
      "Mean square error: 0.25\n",
      "RMSE: 0.50\n",
      "\n"
     ]
    }
   ],
   "source": [
    "print(\"Normal:\")\n",
    "check_predictions(y_test, predict)\n",
    "\n",
    "print(\"Round:\")\n",
    "check_predictions(y_test, round_predict)\n",
    "\n",
    "print(\"Round lower threshold = 0.33:\")\n",
    "check_predictions(y_test, round_predict_lower_threshold33)\n",
    "\n",
    "print(\"Round lower threshold = 0.45:\")\n",
    "check_predictions(y_test, round_predict_lower_threshold45)"
   ]
  },
  {
   "cell_type": "markdown",
   "id": "0ff44e72",
   "metadata": {},
   "source": [
    "#### Confusion matrix"
   ]
  },
  {
   "cell_type": "code",
   "execution_count": 62,
   "id": "54c43961",
   "metadata": {
    "scrolled": false
   },
   "outputs": [
    {
     "data": {
      "image/png": "[encoded data removed]",
      "text/plain": [
       "<Figure size 432x288 with 2 Axes>"
      ]
     },
     "metadata": {
      "needs_background": "light"
     },
     "output_type": "display_data"
    }
   ],
   "source": [
    "from sklearn.metrics import confusion_matrix, ConfusionMatrixDisplay\n",
    "import matplotlib.pyplot as plt\n",
    "\n",
    "cm = confusion_matrix(y_test, round_predict)\n",
    "\n",
    "disp = ConfusionMatrixDisplay(confusion_matrix=cm, display_labels=np.arange(-1, 22))\n",
    "\n",
    "disp.plot()\n",
    "plt.title(\"Confusion matrix\")\n",
    "plt.show()"
   ]
  },
  {
   "cell_type": "code",
   "execution_count": 80,
   "id": "c22d5fcc",
   "metadata": {},
   "outputs": [
    {
     "name": "stdout",
     "output_type": "stream",
     "text": [
      "Round lower threshold = 0.48:\n",
      "Mean square error: 0.23\n",
      "RMSE: 0.48\n",
      "\n"
     ]
    }
   ],
   "source": [
    "threshold48 = 0.48\n",
    "round_predict_lower_threshold48 = np.where(\n",
    "    (predict % 1) > threshold48, np.ceil(predict), np.floor(predict)\n",
    ").astype(\"int\")\n",
    "\n",
    "print(\"Round lower threshold = 0.48:\")\n",
    "check_predictions(y_test, round_predict_lower_threshold48)"
   ]
  },
  {
   "cell_type": "markdown",
   "id": "e910885d",
   "metadata": {},
   "source": [
    "### With random split"
   ]
  },
  {
   "cell_type": "code",
   "execution_count": 20,
   "id": "40d94661",
   "metadata": {
    "scrolled": true
   },
   "outputs": [
    {
     "name": "stderr",
     "output_type": "stream",
     "text": [
      "[I 2023-08-07 21:12:25,212] A new study created in memory with name: no-name-d47ba457-7c8b-4e16-919d-0b7e6f0275ce\n",
      "feature_fraction, val_score: inf:   0%|                                                          | 0/7 [00:00<?, ?it/s]"
     ]
    },
    {
     "name": "stdout",
     "output_type": "stream",
     "text": [
      "Training until validation scores don't improve for 100 rounds\n",
      "[100]\tcv_agg's l2: 0.164372 + 0.0259736\n"
     ]
    },
    {
     "name": "stderr",
     "output_type": "stream",
     "text": [
      "feature_fraction, val_score: 0.164344:  14%|######4                                      | 1/7 [00:00<00:04,  1.22it/s][I 2023-08-07 21:12:26,040] Trial 0 finished with value: 0.16434438795001682 and parameters: {'feature_fraction': 0.6}. Best is trial 0 with value: 0.16434438795001682.\n",
      "feature_fraction, val_score: 0.164344:  14%|######4                                      | 1/7 [00:00<00:04,  1.22it/s]"
     ]
    },
    {
     "name": "stdout",
     "output_type": "stream",
     "text": [
      "Early stopping, best iteration is:\n",
      "[99]\tcv_agg's l2: 0.164344 + 0.0259071\n",
      "[100]\tcv_agg's l2: 0.192615 + 0.0409583\n"
     ]
    },
    {
     "name": "stderr",
     "output_type": "stream",
     "text": [
      "feature_fraction, val_score: 0.164344:  29%|############8                                | 2/7 [00:01<00:04,  1.16it/s][I 2023-08-07 21:12:26,935] Trial 1 finished with value: 0.19254393022304736 and parameters: {'feature_fraction': 1.0}. Best is trial 0 with value: 0.16434438795001682.\n",
      "feature_fraction, val_score: 0.164344:  29%|############8                                | 2/7 [00:01<00:04,  1.16it/s]"
     ]
    },
    {
     "name": "stdout",
     "output_type": "stream",
     "text": [
      "Early stopping, best iteration is:\n",
      "[99]\tcv_agg's l2: 0.164344 + 0.0259071\n",
      "[100]\tcv_agg's l2: 0.181112 + 0.0407863\n"
     ]
    },
    {
     "name": "stderr",
     "output_type": "stream",
     "text": [
      "feature_fraction, val_score: 0.164344:  43%|###################2                         | 3/7 [00:02<00:03,  1.22it/s][I 2023-08-07 21:12:27,696] Trial 2 finished with value: 0.18103951362418455 and parameters: {'feature_fraction': 0.8}. Best is trial 0 with value: 0.16434438795001682.\n",
      "feature_fraction, val_score: 0.164344:  43%|###################2                         | 3/7 [00:02<00:03,  1.22it/s]"
     ]
    },
    {
     "name": "stdout",
     "output_type": "stream",
     "text": [
      "Early stopping, best iteration is:\n",
      "[99]\tcv_agg's l2: 0.164344 + 0.0259071\n",
      "[100]\tcv_agg's l2: 0.166328 + 0.0217212\n"
     ]
    },
    {
     "name": "stderr",
     "output_type": "stream",
     "text": [
      "feature_fraction, val_score: 0.164344:  57%|#########################7                   | 4/7 [00:03<00:02,  1.25it/s][I 2023-08-07 21:12:28,465] Trial 3 finished with value: 0.1664032089293638 and parameters: {'feature_fraction': 0.4}. Best is trial 0 with value: 0.16434438795001682.\n",
      "feature_fraction, val_score: 0.164344:  57%|#########################7                   | 4/7 [00:03<00:02,  1.25it/s]"
     ]
    },
    {
     "name": "stdout",
     "output_type": "stream",
     "text": [
      "Early stopping, best iteration is:\n",
      "[99]\tcv_agg's l2: 0.164344 + 0.0259071\n",
      "[100]\tcv_agg's l2: 0.193393 + 0.0521645\n"
     ]
    },
    {
     "name": "stderr",
     "output_type": "stream",
     "text": [
      "feature_fraction, val_score: 0.164344:  71%|################################1            | 5/7 [00:04<00:01,  1.22it/s][I 2023-08-07 21:12:29,324] Trial 4 finished with value: 0.19352862087378034 and parameters: {'feature_fraction': 0.8999999999999999}. Best is trial 0 with value: 0.16434438795001682.\n",
      "feature_fraction, val_score: 0.164344:  71%|################################1            | 5/7 [00:04<00:01,  1.22it/s]"
     ]
    },
    {
     "name": "stdout",
     "output_type": "stream",
     "text": [
      "Early stopping, best iteration is:\n",
      "[99]\tcv_agg's l2: 0.164344 + 0.0259071\n",
      "[100]\tcv_agg's l2: 0.171143 + 0.0324049\n"
     ]
    },
    {
     "name": "stderr",
     "output_type": "stream",
     "text": [
      "feature_fraction, val_score: 0.164344:  86%|######################################5      | 6/7 [00:05<00:00,  1.17it/s][I 2023-08-07 21:12:30,237] Trial 5 finished with value: 0.1715107319024123 and parameters: {'feature_fraction': 0.7}. Best is trial 0 with value: 0.16434438795001682.\n",
      "feature_fraction, val_score: 0.164344:  86%|######################################5      | 6/7 [00:05<00:00,  1.17it/s]"
     ]
    },
    {
     "name": "stdout",
     "output_type": "stream",
     "text": [
      "Early stopping, best iteration is:\n",
      "[99]\tcv_agg's l2: 0.164344 + 0.0259071\n",
      "[100]\tcv_agg's l2: 0.164516 + 0.0237532\n",
      "[200]\tcv_agg's l2: 0.164344 + 0.0211735\n",
      "Early stopping, best iteration is:\n",
      "[147]\tcv_agg's l2: 0.163729 + 0.0221522\n"
     ]
    },
    {
     "name": "stderr",
     "output_type": "stream",
     "text": [
      "feature_fraction, val_score: 0.163729: 100%|#############################################| 7/7 [00:06<00:00,  1.10it/s][I 2023-08-07 21:12:31,265] Trial 6 finished with value: 0.16372880972386097 and parameters: {'feature_fraction': 0.5}. Best is trial 6 with value: 0.16372880972386097.\n",
      "feature_fraction, val_score: 0.163729: 100%|#############################################| 7/7 [00:06<00:00,  1.16it/s]\n",
      "num_leaves, val_score: 0.163729:   0%|                                                          | 0/20 [00:00<?, ?it/s]"
     ]
    },
    {
     "name": "stdout",
     "output_type": "stream",
     "text": [
      "[100]\tcv_agg's l2: 0.164516 + 0.0237532\n",
      "[200]\tcv_agg's l2: 0.164344 + 0.0211735\n"
     ]
    },
    {
     "name": "stderr",
     "output_type": "stream",
     "text": [
      "num_leaves, val_score: 0.163729:   5%|##5                                               | 1/20 [00:01<00:22,  1.17s/it][I 2023-08-07 21:12:32,439] Trial 7 finished with value: 0.16372880972386097 and parameters: {'num_leaves': 168}. Best is trial 7 with value: 0.16372880972386097.\n",
      "num_leaves, val_score: 0.163729:   5%|##5                                               | 1/20 [00:01<00:22,  1.17s/it]"
     ]
    },
    {
     "name": "stdout",
     "output_type": "stream",
     "text": [
      "Early stopping, best iteration is:\n",
      "[147]\tcv_agg's l2: 0.163729 + 0.0221522\n",
      "[100]\tcv_agg's l2: 0.164516 + 0.0237532\n",
      "[200]\tcv_agg's l2: 0.164344 + 0.0211735\n"
     ]
    },
    {
     "name": "stderr",
     "output_type": "stream",
     "text": [
      "num_leaves, val_score: 0.163729:  10%|#####                                             | 2/20 [00:02<00:20,  1.15s/it][I 2023-08-07 21:12:33,571] Trial 8 finished with value: 0.16372880972386097 and parameters: {'num_leaves': 175}. Best is trial 7 with value: 0.16372880972386097.\n",
      "num_leaves, val_score: 0.163729:  10%|#####                                             | 2/20 [00:02<00:20,  1.15s/it]"
     ]
    },
    {
     "name": "stdout",
     "output_type": "stream",
     "text": [
      "Early stopping, best iteration is:\n",
      "[147]\tcv_agg's l2: 0.163729 + 0.0221522\n",
      "[100]\tcv_agg's l2: 0.164516 + 0.0237532\n",
      "[200]\tcv_agg's l2: 0.164344 + 0.0211735\n",
      "Early stopping, best iteration is:\n",
      "[147]\tcv_agg's l2: 0.163729 + 0.0221522\n"
     ]
    },
    {
     "name": "stderr",
     "output_type": "stream",
     "text": [
      "num_leaves, val_score: 0.163729:  15%|#######5                                          | 3/20 [00:03<00:18,  1.11s/it][I 2023-08-07 21:12:34,629] Trial 9 finished with value: 0.16372880972386097 and parameters: {'num_leaves': 37}. Best is trial 7 with value: 0.16372880972386097.\n",
      "num_leaves, val_score: 0.163729:  15%|#######5                                          | 3/20 [00:03<00:18,  1.11s/it]"
     ]
    },
    {
     "name": "stdout",
     "output_type": "stream",
     "text": [
      "[100]\tcv_agg's l2: 0.164516 + 0.0237532\n",
      "[200]\tcv_agg's l2: 0.164344 + 0.0211735\n"
     ]
    },
    {
     "name": "stderr",
     "output_type": "stream",
     "text": [
      "num_leaves, val_score: 0.163729:  20%|##########                                        | 4/20 [00:04<00:17,  1.12s/it][I 2023-08-07 21:12:35,772] Trial 10 finished with value: 0.16372880972386097 and parameters: {'num_leaves': 252}. Best is trial 7 with value: 0.16372880972386097.\n",
      "num_leaves, val_score: 0.163729:  20%|##########                                        | 4/20 [00:04<00:17,  1.12s/it]"
     ]
    },
    {
     "name": "stdout",
     "output_type": "stream",
     "text": [
      "Early stopping, best iteration is:\n",
      "[147]\tcv_agg's l2: 0.163729 + 0.0221522\n",
      "[100]\tcv_agg's l2: 0.164516 + 0.0237532\n",
      "[200]\tcv_agg's l2: 0.164344 + 0.0211735\n",
      "Early stopping, best iteration is:\n",
      "[147]\tcv_agg's l2: 0.163729 + 0.0221522\n"
     ]
    },
    {
     "name": "stderr",
     "output_type": "stream",
     "text": [
      "num_leaves, val_score: 0.163729:  25%|############5                                     | 5/20 [00:05<00:16,  1.09s/it][I 2023-08-07 21:12:36,815] Trial 11 finished with value: 0.16372880972386097 and parameters: {'num_leaves': 126}. Best is trial 7 with value: 0.16372880972386097.\n",
      "num_leaves, val_score: 0.163729:  25%|############5                                     | 5/20 [00:05<00:16,  1.09s/it]"
     ]
    },
    {
     "name": "stdout",
     "output_type": "stream",
     "text": [
      "[100]\tcv_agg's l2: 0.164516 + 0.0237532\n",
      "[200]\tcv_agg's l2: 0.164344 + 0.0211735\n",
      "Early stopping, best iteration is:\n",
      "[147]\tcv_agg's l2: 0.163729 + 0.0221522\n"
     ]
    },
    {
     "name": "stderr",
     "output_type": "stream",
     "text": [
      "num_leaves, val_score: 0.163729:  30%|###############                                   | 6/20 [00:06<00:15,  1.09s/it][I 2023-08-07 21:12:37,900] Trial 12 finished with value: 0.16372880972386097 and parameters: {'num_leaves': 146}. Best is trial 7 with value: 0.16372880972386097.\n",
      "num_leaves, val_score: 0.163729:  30%|###############                                   | 6/20 [00:06<00:15,  1.09s/it]"
     ]
    },
    {
     "name": "stdout",
     "output_type": "stream",
     "text": [
      "[100]\tcv_agg's l2: 0.164516 + 0.0237532\n",
      "[200]\tcv_agg's l2: 0.164344 + 0.0211735\n"
     ]
    },
    {
     "name": "stderr",
     "output_type": "stream",
     "text": [
      "num_leaves, val_score: 0.163729:  35%|#################5                                | 7/20 [00:07<00:14,  1.12s/it][I 2023-08-07 21:12:39,092] Trial 13 finished with value: 0.16372880972386097 and parameters: {'num_leaves': 221}. Best is trial 7 with value: 0.16372880972386097.\n",
      "num_leaves, val_score: 0.163729:  35%|#################5                                | 7/20 [00:07<00:14,  1.12s/it]"
     ]
    },
    {
     "name": "stdout",
     "output_type": "stream",
     "text": [
      "Early stopping, best iteration is:\n",
      "[147]\tcv_agg's l2: 0.163729 + 0.0221522\n",
      "[100]\tcv_agg's l2: 0.164516 + 0.0237532\n",
      "[200]\tcv_agg's l2: 0.164344 + 0.0211735\n",
      "Early stopping, best iteration is:\n",
      "[147]\tcv_agg's l2: 0.163729 + 0.0221522\n"
     ]
    },
    {
     "name": "stderr",
     "output_type": "stream",
     "text": [
      "num_leaves, val_score: 0.163729:  40%|####################                              | 8/20 [00:08<00:13,  1.10s/it][I 2023-08-07 21:12:40,145] Trial 14 finished with value: 0.16372880972386097 and parameters: {'num_leaves': 70}. Best is trial 7 with value: 0.16372880972386097.\n",
      "num_leaves, val_score: 0.163729:  40%|####################                              | 8/20 [00:08<00:13,  1.10s/it]"
     ]
    },
    {
     "name": "stdout",
     "output_type": "stream",
     "text": [
      "[100]\tcv_agg's l2: 0.164516 + 0.0237532\n",
      "[200]\tcv_agg's l2: 0.164344 + 0.0211735\n",
      "Early stopping, best iteration is:\n",
      "[147]\tcv_agg's l2: 0.163729 + 0.0221522\n"
     ]
    },
    {
     "name": "stderr",
     "output_type": "stream",
     "text": [
      "num_leaves, val_score: 0.163729:  45%|######################5                           | 9/20 [00:09<00:12,  1.09s/it][I 2023-08-07 21:12:41,219] Trial 15 finished with value: 0.16372880972386097 and parameters: {'num_leaves': 98}. Best is trial 7 with value: 0.16372880972386097.\n",
      "num_leaves, val_score: 0.163729:  45%|######################5                           | 9/20 [00:09<00:12,  1.09s/it]"
     ]
    },
    {
     "name": "stdout",
     "output_type": "stream",
     "text": [
      "[100]\tcv_agg's l2: 0.164516 + 0.0237532\n",
      "[200]\tcv_agg's l2: 0.164344 + 0.0211735\n"
     ]
    },
    {
     "name": "stderr",
     "output_type": "stream",
     "text": [
      "num_leaves, val_score: 0.163729:  50%|########################5                        | 10/20 [00:11<00:11,  1.13s/it][I 2023-08-07 21:12:42,428] Trial 16 finished with value: 0.16372880972386097 and parameters: {'num_leaves': 192}. Best is trial 7 with value: 0.16372880972386097.\n",
      "num_leaves, val_score: 0.163729:  50%|########################5                        | 10/20 [00:11<00:11,  1.13s/it]"
     ]
    },
    {
     "name": "stdout",
     "output_type": "stream",
     "text": [
      "Early stopping, best iteration is:\n",
      "[147]\tcv_agg's l2: 0.163729 + 0.0221522\n",
      "[100]\tcv_agg's l2: 0.166584 + 0.0260428\n"
     ]
    },
    {
     "name": "stderr",
     "output_type": "stream",
     "text": [
      "num_leaves, val_score: 0.163729:  55%|##########################9                      | 11/20 [00:11<00:09,  1.03s/it][I 2023-08-07 21:12:43,249] Trial 17 finished with value: 0.16692736919688775 and parameters: {'num_leaves': 18}. Best is trial 7 with value: 0.16372880972386097.\n",
      "num_leaves, val_score: 0.163729:  55%|##########################9                      | 11/20 [00:11<00:09,  1.03s/it]"
     ]
    },
    {
     "name": "stdout",
     "output_type": "stream",
     "text": [
      "[200]\tcv_agg's l2: 0.167552 + 0.0226359\n",
      "Early stopping, best iteration is:\n",
      "[147]\tcv_agg's l2: 0.163729 + 0.0221522\n",
      "[100]\tcv_agg's l2: 0.164516 + 0.0237532\n",
      "[200]\tcv_agg's l2: 0.164344 + 0.0211735\n"
     ]
    },
    {
     "name": "stderr",
     "output_type": "stream",
     "text": [
      "num_leaves, val_score: 0.163729:  60%|#############################4                   | 12/20 [00:13<00:08,  1.06s/it][I 2023-08-07 21:12:44,381] Trial 18 finished with value: 0.16372880972386097 and parameters: {'num_leaves': 156}. Best is trial 7 with value: 0.16372880972386097.\n",
      "num_leaves, val_score: 0.163729:  60%|#############################4                   | 12/20 [00:13<00:08,  1.06s/it]"
     ]
    },
    {
     "name": "stdout",
     "output_type": "stream",
     "text": [
      "Early stopping, best iteration is:\n",
      "[147]\tcv_agg's l2: 0.163729 + 0.0221522\n",
      "[100]\tcv_agg's l2: 0.164516 + 0.0237532\n",
      "[200]\tcv_agg's l2: 0.164344 + 0.0211735\n"
     ]
    },
    {
     "name": "stderr",
     "output_type": "stream",
     "text": [
      "num_leaves, val_score: 0.163729:  65%|###############################8                 | 13/20 [00:14<00:07,  1.13s/it][I 2023-08-07 21:12:45,679] Trial 19 finished with value: 0.16372880972386097 and parameters: {'num_leaves': 209}. Best is trial 7 with value: 0.16372880972386097.\n",
      "num_leaves, val_score: 0.163729:  65%|###############################8                 | 13/20 [00:14<00:07,  1.13s/it]"
     ]
    },
    {
     "name": "stdout",
     "output_type": "stream",
     "text": [
      "Early stopping, best iteration is:\n",
      "[147]\tcv_agg's l2: 0.163729 + 0.0221522\n",
      "[100]\tcv_agg's l2: 0.164516 + 0.0237532\n",
      "[200]\tcv_agg's l2: 0.164344 + 0.0211735\n"
     ]
    },
    {
     "name": "stderr",
     "output_type": "stream",
     "text": [
      "num_leaves, val_score: 0.163729:  70%|##################################3              | 14/20 [00:15<00:06,  1.13s/it][I 2023-08-07 21:12:46,804] Trial 20 finished with value: 0.16372880972386097 and parameters: {'num_leaves': 100}. Best is trial 7 with value: 0.16372880972386097.\n",
      "num_leaves, val_score: 0.163729:  70%|##################################3              | 14/20 [00:15<00:06,  1.13s/it]"
     ]
    },
    {
     "name": "stdout",
     "output_type": "stream",
     "text": [
      "Early stopping, best iteration is:\n",
      "[147]\tcv_agg's l2: 0.163729 + 0.0221522\n",
      "[100]\tcv_agg's l2: 0.164516 + 0.0237532\n",
      "[200]\tcv_agg's l2: 0.164344 + 0.0211735\n"
     ]
    },
    {
     "name": "stderr",
     "output_type": "stream",
     "text": [
      "num_leaves, val_score: 0.163729:  75%|####################################7            | 15/20 [00:16<00:05,  1.14s/it][I 2023-08-07 21:12:47,953] Trial 21 finished with value: 0.16372880972386097 and parameters: {'num_leaves': 175}. Best is trial 7 with value: 0.16372880972386097.\n",
      "num_leaves, val_score: 0.163729:  75%|####################################7            | 15/20 [00:16<00:05,  1.14s/it]"
     ]
    },
    {
     "name": "stdout",
     "output_type": "stream",
     "text": [
      "Early stopping, best iteration is:\n",
      "[147]\tcv_agg's l2: 0.163729 + 0.0221522\n",
      "[100]\tcv_agg's l2: 0.164516 + 0.0237532\n",
      "[200]\tcv_agg's l2: 0.164344 + 0.0211735\n",
      "Early stopping, best iteration is:\n",
      "[147]\tcv_agg's l2: 0.163729 + 0.0221522\n"
     ]
    },
    {
     "name": "stderr",
     "output_type": "stream",
     "text": [
      "num_leaves, val_score: 0.163729:  80%|#######################################2         | 16/20 [00:17<00:04,  1.16s/it][I 2023-08-07 21:12:49,157] Trial 22 finished with value: 0.16372880972386097 and parameters: {'num_leaves': 228}. Best is trial 7 with value: 0.16372880972386097.\n",
      "num_leaves, val_score: 0.163729:  80%|#######################################2         | 16/20 [00:17<00:04,  1.16s/it]"
     ]
    },
    {
     "name": "stdout",
     "output_type": "stream",
     "text": [
      "[100]\tcv_agg's l2: 0.164516 + 0.0237532\n",
      "[200]\tcv_agg's l2: 0.164344 + 0.0211735\n",
      "Early stopping, best iteration is:\n",
      "[147]\tcv_agg's l2: 0.163729 + 0.0221522\n"
     ]
    },
    {
     "name": "stderr",
     "output_type": "stream",
     "text": [
      "num_leaves, val_score: 0.163729:  85%|#########################################6       | 17/20 [00:19<00:03,  1.17s/it][I 2023-08-07 21:12:50,343] Trial 23 finished with value: 0.16372880972386097 and parameters: {'num_leaves': 171}. Best is trial 7 with value: 0.16372880972386097.\n",
      "num_leaves, val_score: 0.163729:  85%|#########################################6       | 17/20 [00:19<00:03,  1.17s/it]"
     ]
    },
    {
     "name": "stdout",
     "output_type": "stream",
     "text": [
      "[100]\tcv_agg's l2: 0.164516 + 0.0237532\n",
      "[200]\tcv_agg's l2: 0.164344 + 0.0211735\n",
      "Early stopping, best iteration is:\n",
      "[147]\tcv_agg's l2: 0.163729 + 0.0221522\n"
     ]
    },
    {
     "name": "stderr",
     "output_type": "stream",
     "text": [
      "num_leaves, val_score: 0.163729:  90%|############################################1    | 18/20 [00:20<00:02,  1.14s/it][I 2023-08-07 21:12:51,421] Trial 24 finished with value: 0.16372880972386097 and parameters: {'num_leaves': 119}. Best is trial 7 with value: 0.16372880972386097.\n",
      "num_leaves, val_score: 0.163729:  90%|############################################1    | 18/20 [00:20<00:02,  1.14s/it]"
     ]
    },
    {
     "name": "stdout",
     "output_type": "stream",
     "text": [
      "[100]\tcv_agg's l2: 0.164516 + 0.0237532\n",
      "[200]\tcv_agg's l2: 0.164344 + 0.0211735\n"
     ]
    },
    {
     "name": "stderr",
     "output_type": "stream",
     "text": [
      "num_leaves, val_score: 0.163729:  95%|##############################################5  | 19/20 [00:21<00:01,  1.16s/it][I 2023-08-07 21:12:52,637] Trial 25 finished with value: 0.16372880972386097 and parameters: {'num_leaves': 178}. Best is trial 7 with value: 0.16372880972386097.\n",
      "num_leaves, val_score: 0.163729:  95%|##############################################5  | 19/20 [00:21<00:01,  1.16s/it]"
     ]
    },
    {
     "name": "stdout",
     "output_type": "stream",
     "text": [
      "Early stopping, best iteration is:\n",
      "[147]\tcv_agg's l2: 0.163729 + 0.0221522\n",
      "[100]\tcv_agg's l2: 0.164516 + 0.0237532\n",
      "[200]\tcv_agg's l2: 0.164344 + 0.0211735\n"
     ]
    },
    {
     "name": "stderr",
     "output_type": "stream",
     "text": [
      "num_leaves, val_score: 0.163729: 100%|#################################################| 20/20 [00:22<00:00,  1.16s/it][I 2023-08-07 21:12:53,802] Trial 26 finished with value: 0.16372880972386097 and parameters: {'num_leaves': 249}. Best is trial 7 with value: 0.16372880972386097.\n",
      "num_leaves, val_score: 0.163729: 100%|#################################################| 20/20 [00:22<00:00,  1.13s/it]\n"
     ]
    },
    {
     "name": "stdout",
     "output_type": "stream",
     "text": [
      "Early stopping, best iteration is:\n",
      "[147]\tcv_agg's l2: 0.163729 + 0.0221522\n"
     ]
    },
    {
     "name": "stderr",
     "output_type": "stream",
     "text": [
      "bagging, val_score: 0.163729:   0%|                                                             | 0/10 [00:00<?, ?it/s]"
     ]
    },
    {
     "name": "stdout",
     "output_type": "stream",
     "text": [
      "[100]\tcv_agg's l2: 0.173858 + 0.0250545\n"
     ]
    },
    {
     "name": "stderr",
     "output_type": "stream",
     "text": [
      "bagging, val_score: 0.163729:  10%|#####3                                               | 1/10 [00:01<00:09,  1.03s/it][I 2023-08-07 21:12:54,838] Trial 27 finished with value: 0.17263335768538526 and parameters: {'bagging_fraction': 0.8213606357304697, 'bagging_freq': 3}. Best is trial 27 with value: 0.17263335768538526.\n",
      "bagging, val_score: 0.163729:  10%|#####3                                               | 1/10 [00:01<00:09,  1.03s/it]"
     ]
    },
    {
     "name": "stdout",
     "output_type": "stream",
     "text": [
      "[200]\tcv_agg's l2: 0.169661 + 0.0207068\n",
      "Early stopping, best iteration is:\n",
      "[147]\tcv_agg's l2: 0.163729 + 0.0221522\n",
      "[100]\tcv_agg's l2: 0.22027 + 0.0235855\n"
     ]
    },
    {
     "name": "stderr",
     "output_type": "stream",
     "text": [
      "bagging, val_score: 0.163729:  20%|##########6                                          | 2/10 [00:01<00:06,  1.28it/s][I 2023-08-07 21:12:55,445] Trial 28 finished with value: 0.2160826045801863 and parameters: {'bagging_fraction': 0.404046230242009, 'bagging_freq': 7}. Best is trial 27 with value: 0.17263335768538526.\n",
      "bagging, val_score: 0.163729:  20%|##########6                                          | 2/10 [00:01<00:06,  1.28it/s]"
     ]
    },
    {
     "name": "stdout",
     "output_type": "stream",
     "text": [
      "[200]\tcv_agg's l2: 0.207568 + 0.0160952\n",
      "Early stopping, best iteration is:\n",
      "[147]\tcv_agg's l2: 0.163729 + 0.0221522\n",
      "[100]\tcv_agg's l2: 0.164873 + 0.024293\n",
      "[200]\tcv_agg's l2: 0.165522 + 0.0226412\n"
     ]
    },
    {
     "name": "stderr",
     "output_type": "stream",
     "text": [
      "bagging, val_score: 0.163729:  30%|###############9                                     | 3/10 [00:02<00:06,  1.07it/s][I 2023-08-07 21:12:56,560] Trial 29 finished with value: 0.16525753674815713 and parameters: {'bagging_fraction': 0.9906773836956186, 'bagging_freq': 1}. Best is trial 29 with value: 0.16525753674815713.\n",
      "bagging, val_score: 0.163729:  30%|###############9                                     | 3/10 [00:02<00:06,  1.07it/s]"
     ]
    },
    {
     "name": "stdout",
     "output_type": "stream",
     "text": [
      "Early stopping, best iteration is:\n",
      "[147]\tcv_agg's l2: 0.163729 + 0.0221522\n",
      "[100]\tcv_agg's l2: 0.191944 + 0.0212036\n"
     ]
    },
    {
     "name": "stderr",
     "output_type": "stream",
     "text": [
      "bagging, val_score: 0.163729:  40%|#####################2                               | 4/10 [00:03<00:05,  1.15it/s][I 2023-08-07 21:12:57,324] Trial 30 finished with value: 0.18810945009962687 and parameters: {'bagging_fraction': 0.5408275927489684, 'bagging_freq': 7}. Best is trial 29 with value: 0.16525753674815713.\n",
      "bagging, val_score: 0.163729:  40%|#####################2                               | 4/10 [00:03<00:05,  1.15it/s]"
     ]
    },
    {
     "name": "stdout",
     "output_type": "stream",
     "text": [
      "[200]\tcv_agg's l2: 0.186915 + 0.0211361\n",
      "Early stopping, best iteration is:\n",
      "[147]\tcv_agg's l2: 0.163729 + 0.0221522\n",
      "[100]\tcv_agg's l2: 0.174782 + 0.0257196\n"
     ]
    },
    {
     "name": "stderr",
     "output_type": "stream",
     "text": [
      "\r",
      "bagging, val_score: 0.163729:  40%|#####################2                               | 4/10 [00:04<00:05,  1.15it/s]"
     ]
    },
    {
     "name": "stdout",
     "output_type": "stream",
     "text": [
      "[200]\tcv_agg's l2: 0.171844 + 0.0196971\n",
      "Early stopping, best iteration is:\n",
      "[147]\tcv_agg's l2: 0.163729 + 0.0221522\n"
     ]
    },
    {
     "name": "stderr",
     "output_type": "stream",
     "text": [
      "bagging, val_score: 0.163729:  50%|##########################5                          | 5/10 [00:04<00:04,  1.10it/s][I 2023-08-07 21:12:58,300] Trial 31 finished with value: 0.17299090400871714 and parameters: {'bagging_fraction': 0.6944463068844131, 'bagging_freq': 4}. Best is trial 29 with value: 0.16525753674815713.\n",
      "bagging, val_score: 0.163729:  50%|##########################5                          | 5/10 [00:04<00:04,  1.10it/s]"
     ]
    },
    {
     "name": "stdout",
     "output_type": "stream",
     "text": [
      "[100]\tcv_agg's l2: 0.165261 + 0.0217959\n",
      "[200]\tcv_agg's l2: 0.164375 + 0.0202689\n"
     ]
    },
    {
     "name": "stderr",
     "output_type": "stream",
     "text": [
      "bagging, val_score: 0.163729:  60%|###############################8                     | 6/10 [00:05<00:03,  1.03it/s][I 2023-08-07 21:12:59,394] Trial 32 finished with value: 0.1645936615506581 and parameters: {'bagging_fraction': 0.9782540350489748, 'bagging_freq': 1}. Best is trial 32 with value: 0.1645936615506581.\n",
      "bagging, val_score: 0.163729:  60%|###############################8                     | 6/10 [00:05<00:03,  1.03it/s]"
     ]
    },
    {
     "name": "stdout",
     "output_type": "stream",
     "text": [
      "Early stopping, best iteration is:\n",
      "[147]\tcv_agg's l2: 0.163729 + 0.0221522\n",
      "[100]\tcv_agg's l2: 0.181769 + 0.0208586\n"
     ]
    },
    {
     "name": "stderr",
     "output_type": "stream",
     "text": [
      "bagging, val_score: 0.163729:  70%|#####################################                | 7/10 [00:06<00:02,  1.03it/s][I 2023-08-07 21:13:00,368] Trial 33 finished with value: 0.17681367359998318 and parameters: {'bagging_fraction': 0.6951895227606066, 'bagging_freq': 5}. Best is trial 32 with value: 0.1645936615506581.\n",
      "bagging, val_score: 0.163729:  70%|#####################################                | 7/10 [00:06<00:02,  1.03it/s]"
     ]
    },
    {
     "name": "stdout",
     "output_type": "stream",
     "text": [
      "[200]\tcv_agg's l2: 0.174802 + 0.0171402\n",
      "Early stopping, best iteration is:\n",
      "[147]\tcv_agg's l2: 0.163729 + 0.0221522\n",
      "[100]\tcv_agg's l2: 0.226347 + 0.0147052\n"
     ]
    },
    {
     "name": "stderr",
     "output_type": "stream",
     "text": [
      "bagging, val_score: 0.163729:  80%|##########################################4          | 8/10 [00:07<00:01,  1.12it/s][I 2023-08-07 21:13:01,096] Trial 34 finished with value: 0.21460708364809297 and parameters: {'bagging_fraction': 0.40669362715848945, 'bagging_freq': 5}. Best is trial 32 with value: 0.1645936615506581.\n",
      "bagging, val_score: 0.163729:  80%|##########################################4          | 8/10 [00:07<00:01,  1.12it/s]"
     ]
    },
    {
     "name": "stdout",
     "output_type": "stream",
     "text": [
      "[200]\tcv_agg's l2: 0.214214 + 0.00838513\n",
      "Early stopping, best iteration is:\n",
      "[147]\tcv_agg's l2: 0.163729 + 0.0221522\n",
      "[100]\tcv_agg's l2: 0.169663 + 0.0283837\n",
      "[200]\tcv_agg's l2: 0.166978 + 0.0237832\n"
     ]
    },
    {
     "name": "stderr",
     "output_type": "stream",
     "text": [
      "bagging, val_score: 0.163729:  90%|###############################################7     | 9/10 [00:08<00:00,  1.02it/s][I 2023-08-07 21:13:02,269] Trial 35 finished with value: 0.1680472721199151 and parameters: {'bagging_fraction': 0.835299626623371, 'bagging_freq': 3}. Best is trial 32 with value: 0.1645936615506581.\n",
      "bagging, val_score: 0.163729:  90%|###############################################7     | 9/10 [00:08<00:00,  1.02it/s]"
     ]
    },
    {
     "name": "stdout",
     "output_type": "stream",
     "text": [
      "Early stopping, best iteration is:\n",
      "[147]\tcv_agg's l2: 0.163729 + 0.0221522\n",
      "[100]\tcv_agg's l2: 0.194709 + 0.0243024\n"
     ]
    },
    {
     "name": "stderr",
     "output_type": "stream",
     "text": [
      "bagging, val_score: 0.163729: 100%|####################################################| 10/10 [00:09<00:00,  1.07it/s][I 2023-08-07 21:13:03,103] Trial 36 finished with value: 0.19038888351398378 and parameters: {'bagging_fraction': 0.5065529846843053, 'bagging_freq': 2}. Best is trial 32 with value: 0.1645936615506581.\n",
      "bagging, val_score: 0.163729: 100%|####################################################| 10/10 [00:09<00:00,  1.08it/s]\n"
     ]
    },
    {
     "name": "stdout",
     "output_type": "stream",
     "text": [
      "[200]\tcv_agg's l2: 0.187011 + 0.0232635\n",
      "Early stopping, best iteration is:\n",
      "[147]\tcv_agg's l2: 0.163729 + 0.0221522\n"
     ]
    },
    {
     "name": "stderr",
     "output_type": "stream",
     "text": [
      "feature_fraction_stage2, val_score: 0.163729:   0%|                                              | 0/6 [00:00<?, ?it/s]"
     ]
    },
    {
     "name": "stdout",
     "output_type": "stream",
     "text": [
      "[100]\tcv_agg's l2: 0.166328 + 0.0217212\n"
     ]
    },
    {
     "name": "stderr",
     "output_type": "stream",
     "text": [
      "\r",
      "feature_fraction_stage2, val_score: 0.163729:   0%|                                              | 0/6 [00:01<?, ?it/s]"
     ]
    },
    {
     "name": "stdout",
     "output_type": "stream",
     "text": [
      "[200]\tcv_agg's l2: 0.165723 + 0.021112\n",
      "Early stopping, best iteration is:\n",
      "[147]\tcv_agg's l2: 0.163729 + 0.0221522\n"
     ]
    },
    {
     "name": "stderr",
     "output_type": "stream",
     "text": [
      "feature_fraction_stage2, val_score: 0.163729:  17%|######3                               | 1/6 [00:01<00:05,  1.14s/it][I 2023-08-07 21:13:04,250] Trial 37 finished with value: 0.16548029355111704 and parameters: {'feature_fraction': 0.42}. Best is trial 37 with value: 0.16548029355111704.\n",
      "feature_fraction_stage2, val_score: 0.163729:  17%|######3                               | 1/6 [00:01<00:05,  1.14s/it]"
     ]
    },
    {
     "name": "stdout",
     "output_type": "stream",
     "text": [
      "[100]\tcv_agg's l2: 0.164516 + 0.0237532\n",
      "[200]\tcv_agg's l2: 0.164344 + 0.0211735\n",
      "Early stopping, best iteration is:\n",
      "[147]\tcv_agg's l2: 0.163729 + 0.0221522\n"
     ]
    },
    {
     "name": "stderr",
     "output_type": "stream",
     "text": [
      "feature_fraction_stage2, val_score: 0.163729:  33%|############6                         | 2/6 [00:02<00:04,  1.11s/it][I 2023-08-07 21:13:05,333] Trial 38 finished with value: 0.16372880972386097 and parameters: {'feature_fraction': 0.516}. Best is trial 38 with value: 0.16372880972386097.\n",
      "feature_fraction_stage2, val_score: 0.163729:  33%|############6                         | 2/6 [00:02<00:04,  1.11s/it]"
     ]
    },
    {
     "name": "stdout",
     "output_type": "stream",
     "text": [
      "[100]\tcv_agg's l2: 0.162143 + 0.021904\n"
     ]
    },
    {
     "name": "stderr",
     "output_type": "stream",
     "text": [
      "feature_fraction_stage2, val_score: 0.161635:  50%|###################                   | 3/6 [00:03<00:03,  1.04s/it][I 2023-08-07 21:13:06,287] Trial 39 finished with value: 0.16163465872699403 and parameters: {'feature_fraction': 0.484}. Best is trial 39 with value: 0.16163465872699403.\n",
      "feature_fraction_stage2, val_score: 0.161635:  50%|###################                   | 3/6 [00:03<00:03,  1.04s/it]"
     ]
    },
    {
     "name": "stdout",
     "output_type": "stream",
     "text": [
      "[200]\tcv_agg's l2: 0.164004 + 0.0193233\n",
      "Early stopping, best iteration is:\n",
      "[103]\tcv_agg's l2: 0.161635 + 0.022089\n",
      "[100]\tcv_agg's l2: 0.164372 + 0.0259736\n"
     ]
    },
    {
     "name": "stderr",
     "output_type": "stream",
     "text": [
      "feature_fraction_stage2, val_score: 0.161635:  67%|#########################3            | 4/6 [00:04<00:02,  1.00s/it][I 2023-08-07 21:13:07,232] Trial 40 finished with value: 0.16468802635289242 and parameters: {'feature_fraction': 0.58}. Best is trial 39 with value: 0.16163465872699403.\n",
      "feature_fraction_stage2, val_score: 0.161635:  67%|#########################3            | 4/6 [00:04<00:02,  1.00s/it]"
     ]
    },
    {
     "name": "stdout",
     "output_type": "stream",
     "text": [
      "[200]\tcv_agg's l2: 0.167231 + 0.0220458\n",
      "Early stopping, best iteration is:\n",
      "[103]\tcv_agg's l2: 0.161635 + 0.022089\n",
      "[100]\tcv_agg's l2: 0.162143 + 0.021904\n"
     ]
    },
    {
     "name": "stderr",
     "output_type": "stream",
     "text": [
      "feature_fraction_stage2, val_score: 0.161635:  83%|###############################6      | 5/6 [00:05<00:00,  1.03it/s][I 2023-08-07 21:13:08,163] Trial 41 finished with value: 0.16163465872699403 and parameters: {'feature_fraction': 0.45199999999999996}. Best is trial 39 with value: 0.16163465872699403.\n",
      "feature_fraction_stage2, val_score: 0.161635:  83%|###############################6      | 5/6 [00:05<00:00,  1.03it/s]"
     ]
    },
    {
     "name": "stdout",
     "output_type": "stream",
     "text": [
      "[200]\tcv_agg's l2: 0.164004 + 0.0193233\n",
      "Early stopping, best iteration is:\n",
      "[103]\tcv_agg's l2: 0.161635 + 0.022089\n",
      "[100]\tcv_agg's l2: 0.164516 + 0.0237532\n"
     ]
    },
    {
     "name": "stderr",
     "output_type": "stream",
     "text": [
      "feature_fraction_stage2, val_score: 0.161635: 100%|######################################| 6/6 [00:05<00:00,  1.04it/s][I 2023-08-07 21:13:09,085] Trial 42 finished with value: 0.16451589388002869 and parameters: {'feature_fraction': 0.5479999999999999}. Best is trial 39 with value: 0.16163465872699403.\n",
      "feature_fraction_stage2, val_score: 0.161635: 100%|######################################| 6/6 [00:05<00:00,  1.00it/s]\n"
     ]
    },
    {
     "name": "stdout",
     "output_type": "stream",
     "text": [
      "[200]\tcv_agg's l2: 0.164344 + 0.0211735\n",
      "Early stopping, best iteration is:\n",
      "[103]\tcv_agg's l2: 0.161635 + 0.022089\n"
     ]
    },
    {
     "name": "stderr",
     "output_type": "stream",
     "text": [
      "regularization_factors, val_score: 0.161635:   5%|#9                                    | 1/20 [00:00<00:08,  2.22it/s][I 2023-08-07 21:13:09,544] Trial 43 finished with value: 0.1817275730092585 and parameters: {'lambda_l1': 3.755753916779458, 'lambda_l2': 2.0093115019574088e-08}. Best is trial 43 with value: 0.1817275730092585.\n",
      "regularization_factors, val_score: 0.161635:   5%|#9                                    | 1/20 [00:00<00:08,  2.22it/s]"
     ]
    },
    {
     "name": "stdout",
     "output_type": "stream",
     "text": [
      "[100]\tcv_agg's l2: 0.181979 + 0.0296395\n",
      "[200]\tcv_agg's l2: 0.178001 + 0.0276952\n",
      "Early stopping, best iteration is:\n",
      "[103]\tcv_agg's l2: 0.161635 + 0.022089\n",
      "[100]\tcv_agg's l2: 0.170349 + 0.0329694\n"
     ]
    },
    {
     "name": "stderr",
     "output_type": "stream",
     "text": [
      "regularization_factors, val_score: 0.161635:  10%|###8                                  | 2/20 [00:01<00:12,  1.39it/s][I 2023-08-07 21:13:10,451] Trial 44 finished with value: 0.1697897861112811 and parameters: {'lambda_l1': 1.1414488996134736e-08, 'lambda_l2': 6.164750065182738}. Best is trial 44 with value: 0.1697897861112811.\n",
      "regularization_factors, val_score: 0.161635:  10%|###8                                  | 2/20 [00:01<00:12,  1.39it/s]"
     ]
    },
    {
     "name": "stdout",
     "output_type": "stream",
     "text": [
      "[200]\tcv_agg's l2: 0.167566 + 0.0292649\n",
      "Early stopping, best iteration is:\n",
      "[103]\tcv_agg's l2: 0.161635 + 0.022089\n",
      "[100]\tcv_agg's l2: 0.163711 + 0.0223595\n"
     ]
    },
    {
     "name": "stderr",
     "output_type": "stream",
     "text": [
      "regularization_factors, val_score: 0.161635:  15%|#####7                                | 3/20 [00:02<00:13,  1.24it/s][I 2023-08-07 21:13:11,364] Trial 45 finished with value: 0.16350984255434792 and parameters: {'lambda_l1': 0.00012237375356537517, 'lambda_l2': 0.0001508406522220123}. Best is trial 45 with value: 0.16350984255434792.\n",
      "regularization_factors, val_score: 0.161635:  15%|#####7                                | 3/20 [00:02<00:13,  1.24it/s]"
     ]
    },
    {
     "name": "stdout",
     "output_type": "stream",
     "text": [
      "[200]\tcv_agg's l2: 0.16376 + 0.0200827\n",
      "Early stopping, best iteration is:\n",
      "[103]\tcv_agg's l2: 0.161635 + 0.022089\n",
      "[100]\tcv_agg's l2: 0.163712 + 0.0223598\n"
     ]
    },
    {
     "name": "stderr",
     "output_type": "stream",
     "text": [
      "regularization_factors, val_score: 0.161635:  20%|#######6                              | 4/20 [00:03<00:13,  1.16it/s][I 2023-08-07 21:13:12,303] Trial 46 finished with value: 0.1635099909736332 and parameters: {'lambda_l1': 0.00010734495171418296, 'lambda_l2': 7.980845776603247e-05}. Best is trial 45 with value: 0.16350984255434792.\n",
      "regularization_factors, val_score: 0.161635:  20%|#######6                              | 4/20 [00:03<00:13,  1.16it/s]"
     ]
    },
    {
     "name": "stdout",
     "output_type": "stream",
     "text": [
      "[200]\tcv_agg's l2: 0.164294 + 0.0210671\n",
      "Early stopping, best iteration is:\n",
      "[103]\tcv_agg's l2: 0.161635 + 0.022089\n",
      "[100]\tcv_agg's l2: 0.162942 + 0.0209323\n"
     ]
    },
    {
     "name": "stderr",
     "output_type": "stream",
     "text": [
      "regularization_factors, val_score: 0.161635:  25%|#########5                            | 5/20 [00:04<00:13,  1.12it/s][I 2023-08-07 21:13:13,256] Trial 47 finished with value: 0.16254452515558734 and parameters: {'lambda_l1': 9.616347919119507e-05, 'lambda_l2': 5.546947112295447e-05}. Best is trial 47 with value: 0.16254452515558734.\n",
      "regularization_factors, val_score: 0.161635:  25%|#########5                            | 5/20 [00:04<00:13,  1.12it/s]"
     ]
    },
    {
     "name": "stdout",
     "output_type": "stream",
     "text": [
      "[200]\tcv_agg's l2: 0.163295 + 0.0192346\n",
      "Early stopping, best iteration is:\n",
      "[103]\tcv_agg's l2: 0.161635 + 0.022089\n",
      "[100]\tcv_agg's l2: 0.163712 + 0.0223598\n"
     ]
    },
    {
     "name": "stderr",
     "output_type": "stream",
     "text": [
      "regularization_factors, val_score: 0.161635:  30%|###########4                          | 6/20 [00:05<00:12,  1.08it/s][I 2023-08-07 21:13:14,244] Trial 48 finished with value: 0.16351004650965328 and parameters: {'lambda_l1': 0.00012398936989981924, 'lambda_l2': 5.189870810452449e-05}. Best is trial 47 with value: 0.16254452515558734.\n",
      "regularization_factors, val_score: 0.161635:  30%|###########4                          | 6/20 [00:05<00:12,  1.08it/s]"
     ]
    },
    {
     "name": "stdout",
     "output_type": "stream",
     "text": [
      "[200]\tcv_agg's l2: 0.164294 + 0.0210671\n",
      "Early stopping, best iteration is:\n",
      "[103]\tcv_agg's l2: 0.161635 + 0.022089\n",
      "[100]\tcv_agg's l2: 0.163711 + 0.0223595\n"
     ]
    },
    {
     "name": "stderr",
     "output_type": "stream",
     "text": [
      "regularization_factors, val_score: 0.161635:  35%|#############3                        | 7/20 [00:06<00:12,  1.08it/s][I 2023-08-07 21:13:15,185] Trial 49 finished with value: 0.16350986407660353 and parameters: {'lambda_l1': 0.0001243378138800027, 'lambda_l2': 9.775278831197708e-05}. Best is trial 47 with value: 0.16254452515558734.\n",
      "regularization_factors, val_score: 0.161635:  35%|#############3                        | 7/20 [00:06<00:12,  1.08it/s]"
     ]
    },
    {
     "name": "stdout",
     "output_type": "stream",
     "text": [
      "[200]\tcv_agg's l2: 0.16376 + 0.0200827\n",
      "Early stopping, best iteration is:\n",
      "[103]\tcv_agg's l2: 0.161635 + 0.022089\n",
      "[100]\tcv_agg's l2: 0.163154 + 0.0224012\n"
     ]
    },
    {
     "name": "stderr",
     "output_type": "stream",
     "text": [
      "regularization_factors, val_score: 0.161635:  40%|###############2                      | 8/20 [00:07<00:11,  1.08it/s][I 2023-08-07 21:13:16,100] Trial 50 finished with value: 0.1630984688162826 and parameters: {'lambda_l1': 0.00014394227157565577, 'lambda_l2': 0.00017498892368108003}. Best is trial 47 with value: 0.16254452515558734.\n",
      "regularization_factors, val_score: 0.161635:  40%|###############2                      | 8/20 [00:07<00:11,  1.08it/s]"
     ]
    },
    {
     "name": "stdout",
     "output_type": "stream",
     "text": [
      "[200]\tcv_agg's l2: 0.162199 + 0.0204252\n",
      "Early stopping, best iteration is:\n",
      "[103]\tcv_agg's l2: 0.161635 + 0.022089\n",
      "[100]\tcv_agg's l2: 0.163027 + 0.0224185\n"
     ]
    },
    {
     "name": "stderr",
     "output_type": "stream",
     "text": [
      "regularization_factors, val_score: 0.161635:  45%|#################1                    | 9/20 [00:07<00:09,  1.10it/s][I 2023-08-07 21:13:16,972] Trial 51 finished with value: 0.16305595490651698 and parameters: {'lambda_l1': 0.00016196071849570206, 'lambda_l2': 0.00011836647895313163}. Best is trial 47 with value: 0.16254452515558734.\n",
      "regularization_factors, val_score: 0.161635:  45%|#################1                    | 9/20 [00:07<00:09,  1.10it/s]"
     ]
    },
    {
     "name": "stdout",
     "output_type": "stream",
     "text": [
      "[200]\tcv_agg's l2: 0.162953 + 0.0202788\n",
      "Early stopping, best iteration is:\n",
      "[103]\tcv_agg's l2: 0.161635 + 0.022089\n",
      "[100]\tcv_agg's l2: 0.163154 + 0.0224012\n"
     ]
    },
    {
     "name": "stderr",
     "output_type": "stream",
     "text": [
      "regularization_factors, val_score: 0.161635:  50%|##################5                  | 10/20 [00:08<00:09,  1.06it/s][I 2023-08-07 21:13:17,986] Trial 52 finished with value: 0.16309848264049315 and parameters: {'lambda_l1': 0.00014509595214688502, 'lambda_l2': 0.00014019506364903623}. Best is trial 47 with value: 0.16254452515558734.\n",
      "regularization_factors, val_score: 0.161635:  50%|##################5                  | 10/20 [00:08<00:09,  1.06it/s]"
     ]
    },
    {
     "name": "stdout",
     "output_type": "stream",
     "text": [
      "[200]\tcv_agg's l2: 0.162199 + 0.0204252\n",
      "Early stopping, best iteration is:\n",
      "[103]\tcv_agg's l2: 0.161635 + 0.022089\n",
      "[100]\tcv_agg's l2: 0.162335 + 0.0206039\n"
     ]
    },
    {
     "name": "stderr",
     "output_type": "stream",
     "text": [
      "regularization_factors, val_score: 0.161635:  55%|####################3                | 11/20 [00:09<00:08,  1.08it/s][I 2023-08-07 21:13:18,885] Trial 53 finished with value: 0.1624935649214468 and parameters: {'lambda_l1': 0.0005305890920571781, 'lambda_l2': 0.0003966787071228513}. Best is trial 53 with value: 0.1624935649214468.\n",
      "regularization_factors, val_score: 0.161635:  55%|####################3                | 11/20 [00:09<00:08,  1.08it/s]"
     ]
    },
    {
     "name": "stdout",
     "output_type": "stream",
     "text": [
      "[200]\tcv_agg's l2: 0.164072 + 0.0181761\n",
      "Early stopping, best iteration is:\n",
      "[103]\tcv_agg's l2: 0.161635 + 0.022089\n",
      "[100]\tcv_agg's l2: 0.16287 + 0.0231737\n"
     ]
    },
    {
     "name": "stderr",
     "output_type": "stream",
     "text": [
      "regularization_factors, val_score: 0.161635:  60%|######################2              | 12/20 [00:10<00:07,  1.06it/s][I 2023-08-07 21:13:19,852] Trial 54 finished with value: 0.16287103692773866 and parameters: {'lambda_l1': 0.0035280177946966345, 'lambda_l2': 0.008680649488221483}. Best is trial 53 with value: 0.1624935649214468.\n",
      "regularization_factors, val_score: 0.161635:  60%|######################2              | 12/20 [00:10<00:07,  1.06it/s]"
     ]
    },
    {
     "name": "stdout",
     "output_type": "stream",
     "text": [
      "[200]\tcv_agg's l2: 0.162928 + 0.0221983\n",
      "Early stopping, best iteration is:\n",
      "[103]\tcv_agg's l2: 0.161635 + 0.022089\n",
      "[100]\tcv_agg's l2: 0.160124 + 0.0235456\n"
     ]
    },
    {
     "name": "stderr",
     "output_type": "stream",
     "text": [
      "regularization_factors, val_score: 0.160065:  65%|########################             | 13/20 [00:11<00:06,  1.07it/s][I 2023-08-07 21:13:20,778] Trial 55 finished with value: 0.16006462452759673 and parameters: {'lambda_l1': 0.008483637335107848, 'lambda_l2': 0.010665961792399477}. Best is trial 55 with value: 0.16006462452759673.\n",
      "regularization_factors, val_score: 0.160065:  65%|########################             | 13/20 [00:11<00:06,  1.07it/s]"
     ]
    },
    {
     "name": "stdout",
     "output_type": "stream",
     "text": [
      "[200]\tcv_agg's l2: 0.160447 + 0.0223649\n",
      "Early stopping, best iteration is:\n",
      "[106]\tcv_agg's l2: 0.160065 + 0.0233963\n",
      "[100]\tcv_agg's l2: 0.161607 + 0.0226332\n"
     ]
    },
    {
     "name": "stderr",
     "output_type": "stream",
     "text": [
      "regularization_factors, val_score: 0.160065:  70%|#########################9           | 14/20 [00:12<00:05,  1.06it/s][I 2023-08-07 21:13:21,752] Trial 56 finished with value: 0.1615995246033483 and parameters: {'lambda_l1': 0.01239381646909039, 'lambda_l2': 0.019447044545163536}. Best is trial 55 with value: 0.16006462452759673.\n",
      "regularization_factors, val_score: 0.160065:  70%|#########################9           | 14/20 [00:12<00:05,  1.06it/s]"
     ]
    },
    {
     "name": "stdout",
     "output_type": "stream",
     "text": [
      "[200]\tcv_agg's l2: 0.161395 + 0.0216067\n",
      "Early stopping, best iteration is:\n",
      "[106]\tcv_agg's l2: 0.160065 + 0.0233963\n",
      "[100]\tcv_agg's l2: 0.16094 + 0.0244348\n",
      "[200]\tcv_agg's l2: 0.16015 + 0.0215829\n"
     ]
    },
    {
     "name": "stderr",
     "output_type": "stream",
     "text": [
      "regularization_factors, val_score: 0.159780:  75%|###########################7         | 15/20 [00:14<00:05,  1.16s/it][I 2023-08-07 21:13:23,394] Trial 57 finished with value: 0.1597796828069093 and parameters: {'lambda_l1': 0.0073293047286806115, 'lambda_l2': 0.011928864459463118}. Best is trial 57 with value: 0.1597796828069093.\n",
      "regularization_factors, val_score: 0.159780:  75%|###########################7         | 15/20 [00:14<00:05,  1.16s/it]"
     ]
    },
    {
     "name": "stdout",
     "output_type": "stream",
     "text": [
      "[300]\tcv_agg's l2: 0.160937 + 0.0209326\n",
      "Early stopping, best iteration is:\n",
      "[225]\tcv_agg's l2: 0.15978 + 0.020583\n",
      "[100]\tcv_agg's l2: 0.160955 + 0.0261607\n",
      "[200]\tcv_agg's l2: 0.161634 + 0.0238762\n"
     ]
    },
    {
     "name": "stderr",
     "output_type": "stream",
     "text": [
      "regularization_factors, val_score: 0.159780:  80%|#############################6       | 16/20 [00:15<00:05,  1.27s/it][I 2023-08-07 21:13:24,927] Trial 58 finished with value: 0.16213400697656982 and parameters: {'lambda_l1': 0.01150941617108119, 'lambda_l2': 0.027053367926185127}. Best is trial 57 with value: 0.1597796828069093.\n",
      "regularization_factors, val_score: 0.159780:  80%|#############################6       | 16/20 [00:15<00:05,  1.27s/it]"
     ]
    },
    {
     "name": "stdout",
     "output_type": "stream",
     "text": [
      "[300]\tcv_agg's l2: 0.161663 + 0.0237505\n",
      "Early stopping, best iteration is:\n",
      "[225]\tcv_agg's l2: 0.15978 + 0.020583\n",
      "[100]\tcv_agg's l2: 0.164113 + 0.0251188\n",
      "[200]\tcv_agg's l2: 0.163967 + 0.0221378\n"
     ]
    },
    {
     "name": "stderr",
     "output_type": "stream",
     "text": [
      "regularization_factors, val_score: 0.159780:  85%|###############################4     | 17/20 [00:17<00:04,  1.39s/it][I 2023-08-07 21:13:26,585] Trial 59 finished with value: 0.16454119405698242 and parameters: {'lambda_l1': 0.01999876878731253, 'lambda_l2': 0.04035320837706068}. Best is trial 57 with value: 0.1597796828069093.\n",
      "regularization_factors, val_score: 0.159780:  85%|###############################4     | 17/20 [00:17<00:04,  1.39s/it]"
     ]
    },
    {
     "name": "stdout",
     "output_type": "stream",
     "text": [
      "[300]\tcv_agg's l2: 0.164875 + 0.0224376\n",
      "Early stopping, best iteration is:\n",
      "[225]\tcv_agg's l2: 0.15978 + 0.020583\n",
      "[100]\tcv_agg's l2: 0.163136 + 0.0260316\n",
      "[200]\tcv_agg's l2: 0.163146 + 0.0228552\n"
     ]
    },
    {
     "name": "stderr",
     "output_type": "stream",
     "text": [
      "regularization_factors, val_score: 0.159780:  90%|#################################3   | 18/20 [00:19<00:02,  1.44s/it][I 2023-08-07 21:13:28,159] Trial 60 finished with value: 0.16333626152759573 and parameters: {'lambda_l1': 0.033014698706047126, 'lambda_l2': 0.028756446757962167}. Best is trial 57 with value: 0.1597796828069093.\n",
      "regularization_factors, val_score: 0.159780:  90%|#################################3   | 18/20 [00:19<00:02,  1.44s/it]"
     ]
    },
    {
     "name": "stdout",
     "output_type": "stream",
     "text": [
      "[300]\tcv_agg's l2: 0.163385 + 0.0227784\n",
      "Early stopping, best iteration is:\n",
      "[225]\tcv_agg's l2: 0.15978 + 0.020583\n",
      "[100]\tcv_agg's l2: 0.162586 + 0.0230267\n",
      "[200]\tcv_agg's l2: 0.163536 + 0.0200856\n"
     ]
    },
    {
     "name": "stderr",
     "output_type": "stream",
     "text": [
      "regularization_factors, val_score: 0.159780:  95%|###################################1 | 19/20 [00:20<00:01,  1.45s/it][I 2023-08-07 21:13:29,619] Trial 61 finished with value: 0.16356995554080325 and parameters: {'lambda_l1': 0.004032864424666237, 'lambda_l2': 0.006704588976534383}. Best is trial 57 with value: 0.1597796828069093.\n",
      "regularization_factors, val_score: 0.159780:  95%|###################################1 | 19/20 [00:20<00:01,  1.45s/it]"
     ]
    },
    {
     "name": "stdout",
     "output_type": "stream",
     "text": [
      "[300]\tcv_agg's l2: 0.163874 + 0.0196754\n",
      "Early stopping, best iteration is:\n",
      "[225]\tcv_agg's l2: 0.15978 + 0.020583\n",
      "[100]\tcv_agg's l2: 0.162778 + 0.0247442\n",
      "[200]\tcv_agg's l2: 0.162991 + 0.0221179\n"
     ]
    },
    {
     "name": "stderr",
     "output_type": "stream",
     "text": [
      "regularization_factors, val_score: 0.159780: 100%|#####################################| 20/20 [00:22<00:00,  1.50s/it][I 2023-08-07 21:13:31,241] Trial 62 finished with value: 0.16210386361816753 and parameters: {'lambda_l1': 0.011292585491214206, 'lambda_l2': 0.003280640496446347}. Best is trial 57 with value: 0.1597796828069093.\n",
      "regularization_factors, val_score: 0.159780: 100%|#####################################| 20/20 [00:22<00:00,  1.11s/it]\n"
     ]
    },
    {
     "name": "stdout",
     "output_type": "stream",
     "text": [
      "[300]\tcv_agg's l2: 0.162792 + 0.0215861\n",
      "Early stopping, best iteration is:\n",
      "[225]\tcv_agg's l2: 0.15978 + 0.020583\n"
     ]
    },
    {
     "name": "stderr",
     "output_type": "stream",
     "text": [
      "min_data_in_leaf, val_score: 0.159780:   0%|                                                     | 0/5 [00:00<?, ?it/s]"
     ]
    },
    {
     "name": "stdout",
     "output_type": "stream",
     "text": [
      "[100]\tcv_agg's l2: 0.150362 + 0.0196666\n",
      "[200]\tcv_agg's l2: 0.148576 + 0.0190885\n"
     ]
    },
    {
     "name": "stderr",
     "output_type": "stream",
     "text": [
      "min_data_in_leaf, val_score: 0.148321:  20%|#########                                    | 1/5 [00:01<00:05,  1.45s/it][I 2023-08-07 21:13:32,693] Trial 63 finished with value: 0.14832140737893001 and parameters: {'min_child_samples': 5}. Best is trial 63 with value: 0.14832140737893001.\n",
      "min_data_in_leaf, val_score: 0.148321:  20%|#########                                    | 1/5 [00:01<00:05,  1.45s/it]"
     ]
    },
    {
     "name": "stdout",
     "output_type": "stream",
     "text": [
      "Early stopping, best iteration is:\n",
      "[173]\tcv_agg's l2: 0.148321 + 0.0190289\n",
      "[100]\tcv_agg's l2: 0.649206 + 0.0656057\n"
     ]
    },
    {
     "name": "stderr",
     "output_type": "stream",
     "text": [
      "min_data_in_leaf, val_score: 0.148321:  40%|##################                           | 2/5 [00:01<00:02,  1.18it/s][I 2023-08-07 21:13:33,123] Trial 64 finished with value: 0.6268698992961108 and parameters: {'min_child_samples': 100}. Best is trial 63 with value: 0.14832140737893001.\n",
      "min_data_in_leaf, val_score: 0.148321:  40%|##################                           | 2/5 [00:01<00:02,  1.18it/s]"
     ]
    },
    {
     "name": "stdout",
     "output_type": "stream",
     "text": [
      "[200]\tcv_agg's l2: 0.620637 + 0.0606739\n",
      "Early stopping, best iteration is:\n",
      "[173]\tcv_agg's l2: 0.148321 + 0.0190289\n",
      "[100]\tcv_agg's l2: 0.145983 + 0.0221229\n"
     ]
    },
    {
     "name": "stderr",
     "output_type": "stream",
     "text": [
      "min_data_in_leaf, val_score: 0.145733:  60%|###########################                  | 3/5 [00:03<00:02,  1.02s/it][I 2023-08-07 21:13:34,353] Trial 65 finished with value: 0.14573322235495723 and parameters: {'min_child_samples': 10}. Best is trial 65 with value: 0.14573322235495723.\n",
      "min_data_in_leaf, val_score: 0.145733:  60%|###########################                  | 3/5 [00:03<00:02,  1.02s/it]"
     ]
    },
    {
     "name": "stdout",
     "output_type": "stream",
     "text": [
      "[200]\tcv_agg's l2: 0.146546 + 0.0219699\n",
      "Early stopping, best iteration is:\n",
      "[108]\tcv_agg's l2: 0.145733 + 0.0224242\n",
      "[100]\tcv_agg's l2: 0.229967 + 0.0304937\n"
     ]
    },
    {
     "name": "stderr",
     "output_type": "stream",
     "text": [
      "min_data_in_leaf, val_score: 0.145733:  80%|####################################         | 4/5 [00:03<00:00,  1.19it/s][I 2023-08-07 21:13:34,908] Trial 66 finished with value: 0.22782965848161085 and parameters: {'min_child_samples': 50}. Best is trial 65 with value: 0.14573322235495723.\n",
      "min_data_in_leaf, val_score: 0.145733:  80%|####################################         | 4/5 [00:03<00:00,  1.19it/s]"
     ]
    },
    {
     "name": "stdout",
     "output_type": "stream",
     "text": [
      "[200]\tcv_agg's l2: 0.219875 + 0.0269392\n",
      "Early stopping, best iteration is:\n",
      "[108]\tcv_agg's l2: 0.145733 + 0.0224242\n",
      "[100]\tcv_agg's l2: 0.176448 + 0.0204178\n"
     ]
    },
    {
     "name": "stderr",
     "output_type": "stream",
     "text": [
      "min_data_in_leaf, val_score: 0.145733: 100%|#############################################| 5/5 [00:04<00:00,  1.21it/s][I 2023-08-07 21:13:35,719] Trial 67 finished with value: 0.175349430686616 and parameters: {'min_child_samples': 25}. Best is trial 65 with value: 0.14573322235495723.\n",
      "min_data_in_leaf, val_score: 0.145733: 100%|#############################################| 5/5 [00:04<00:00,  1.12it/s]"
     ]
    },
    {
     "name": "stdout",
     "output_type": "stream",
     "text": [
      "[200]\tcv_agg's l2: 0.172079 + 0.0188297\n",
      "Early stopping, best iteration is:\n",
      "[108]\tcv_agg's l2: 0.145733 + 0.0224242\n"
     ]
    },
    {
     "name": "stderr",
     "output_type": "stream",
     "text": [
      "\n"
     ]
    }
   ],
   "source": [
    "import optuna.integration.lightgbm as lgb\n",
    "from lightgbm import early_stopping\n",
    "from sklearn.model_selection import KFold\n",
    "from sklearn.model_selection import RepeatedKFold\n",
    "\n",
    "\n",
    "lgb_train = lgb.Dataset(X_train_random_split, y_train_random_split)\n",
    "\n",
    "params = {\n",
    "    \"boosting_type\": \"gbdt\",\n",
    "    \"objective\": \"regression\",\n",
    "    \"metric\": \"l2\",\n",
    "    \"verbosity\": -1,\n",
    "}\n",
    "\n",
    "tuner = lgb.LightGBMTunerCV(\n",
    "    params,\n",
    "    lgb_train,\n",
    "    folds=KFold(n_splits=5),\n",
    "    num_boost_round=10000,\n",
    "    callbacks=[early_stopping(100), log_evaluation(100)],\n",
    ")\n",
    "\n",
    "tuner.run()"
   ]
  },
  {
   "cell_type": "code",
   "execution_count": 21,
   "id": "e0b58a8a",
   "metadata": {},
   "outputs": [
    {
     "name": "stdout",
     "output_type": "stream",
     "text": [
      "Best score: 0.14573322235495723\n",
      "Params: \n",
      "    boosting_type: gbdt\n",
      "    objective: regression\n",
      "    metric: l2\n",
      "    verbosity: -1\n",
      "    feature_pre_filter: False\n",
      "    lambda_l1: 0.0073293047286806115\n",
      "    lambda_l2: 0.011928864459463118\n",
      "    num_leaves: 31\n",
      "    feature_fraction: 0.484\n",
      "    bagging_fraction: 1.0\n",
      "    bagging_freq: 0\n",
      "    min_child_samples: 10\n"
     ]
    }
   ],
   "source": [
    "print(f\"Best score: {tuner.best_score}\")\n",
    "best_params = tuner.best_params\n",
    "print(\"Params: \")\n",
    "for key, value in best_params.items():\n",
    "    print(\"    {}: {}\".format(key, value))"
   ]
  },
  {
   "cell_type": "code",
   "execution_count": 22,
   "id": "bc72fd41",
   "metadata": {},
   "outputs": [
    {
     "name": "stdout",
     "output_type": "stream",
     "text": [
      "MSE: 0.12\n",
      "RMSE: 0.34\n"
     ]
    }
   ],
   "source": [
    "import lightgbm as lgb\n",
    "\n",
    "lgb_tuned = lgb.train(\n",
    "    best_params,\n",
    "    lgb_train,\n",
    "    num_boost_round=10000,\n",
    ")\n",
    "\n",
    "y_pred_random_split = lgb_tuned.predict(X_test_random_split)\n",
    "\n",
    "mse = mean_squared_error(y_test_random_split, y_pred_random_split)\n",
    "rmse = mean_squared_error(y_test_random_split, y_pred_random_split, squared=False)\n",
    "print(f\"MSE: {mse:.2f}\")\n",
    "print(f\"RMSE: {rmse:.2f}\")"
   ]
  },
  {
   "cell_type": "markdown",
   "id": "21690e07",
   "metadata": {},
   "source": [
    "#### Rounded results"
   ]
  },
  {
   "cell_type": "code",
   "execution_count": 23,
   "id": "f9e88b01",
   "metadata": {},
   "outputs": [],
   "source": [
    "predict = lgb_tuned.predict(X_test_random_split)\n",
    "round_predict = np.round(predict).astype(\"int\")\n",
    "round_predict = np.where(round_predict > 20, 21, round_predict)\n",
    "threshold = 0.33\n",
    "round_predict_lower_threshold = np.where(\n",
    "    (predict % 1) > threshold, np.ceil(predict), np.floor(predict)\n",
    ").astype(\"int\")"
   ]
  },
  {
   "cell_type": "code",
   "execution_count": 24,
   "id": "afcf0bc2",
   "metadata": {},
   "outputs": [],
   "source": [
    "def check_predictions(y, y_pred):\n",
    "    print(f\"Mean square error: {mean_squared_error(y, y_pred):.2f}\")\n",
    "    print(f\"RMSE: {mean_squared_error(y, y_pred, squared=False):.2f}\")\n",
    "    print()"
   ]
  },
  {
   "cell_type": "code",
   "execution_count": 25,
   "id": "9d6a5020",
   "metadata": {
    "scrolled": true
   },
   "outputs": [
    {
     "name": "stdout",
     "output_type": "stream",
     "text": [
      "Normal:\n",
      "Mean square error: 0.12\n",
      "RMSE: 0.34\n",
      "\n",
      "Round:\n",
      "Mean square error: 0.13\n",
      "RMSE: 0.36\n",
      "\n",
      "Round more up:\n",
      "Mean square error: 0.17\n",
      "RMSE: 0.41\n",
      "\n"
     ]
    }
   ],
   "source": [
    "print(\"Normal:\")\n",
    "check_predictions(y_test_random_split, predict)\n",
    "\n",
    "print(\"Round:\")\n",
    "check_predictions(y_test_random_split, round_predict)\n",
    "\n",
    "print(\"Round lower threshold:\")\n",
    "check_predictions(y_test_random_split, round_predict_lower_threshold)"
   ]
  },
  {
   "cell_type": "markdown",
   "id": "7fc9e869",
   "metadata": {},
   "source": [
    "Lower threshold is worse here"
   ]
  },
  {
   "cell_type": "markdown",
   "id": "cc12fba1",
   "metadata": {},
   "source": [
    "#### Confusion matrix"
   ]
  },
  {
   "cell_type": "code",
   "execution_count": 26,
   "id": "2e0ff478",
   "metadata": {},
   "outputs": [
    {
     "data": {
      "image/png": "[encoded data removed]",
      "text/plain": [
       "<Figure size 432x288 with 2 Axes>"
      ]
     },
     "metadata": {
      "needs_background": "light"
     },
     "output_type": "display_data"
    }
   ],
   "source": [
    "from sklearn.metrics import confusion_matrix, ConfusionMatrixDisplay\n",
    "import matplotlib.pyplot as plt\n",
    "\n",
    "cm = confusion_matrix(y_test_random_split, round_predict_lower_threshold)\n",
    "\n",
    "disp = ConfusionMatrixDisplay(confusion_matrix=cm, display_labels=np.arange(-1, 22))\n",
    "\n",
    "disp.plot()\n",
    "plt.title(\"Confusion matrix\")\n",
    "plt.show()"
   ]
  },
  {
   "cell_type": "code",
   "execution_count": null,
   "id": "7be339d1",
   "metadata": {},
   "outputs": [],
   "source": []
  },
  {
   "cell_type": "code",
   "execution_count": null,
   "id": "78a320bb",
   "metadata": {},
   "outputs": [],
   "source": []
  },
  {
   "cell_type": "code",
   "execution_count": 27,
   "id": "9884b971",
   "metadata": {},
   "outputs": [],
   "source": [
    "# save model to file\n",
    "# gbm.save_model('model.txt')"
   ]
  }
 ],
 "metadata": {
  "kernelspec": {
   "display_name": "Python 3 (ipykernel)",
   "language": "python",
   "name": "python3"
  },
  "language_info": {
   "codemirror_mode": {
    "name": "ipython",
    "version": 3
   },
   "file_extension": ".py",
   "mimetype": "text/x-python",
   "name": "python",
   "nbconvert_exporter": "python",
   "pygments_lexer": "ipython3",
   "version": "3.9.0"
  }
 },
 "nbformat": 4,
 "nbformat_minor": 5
}
