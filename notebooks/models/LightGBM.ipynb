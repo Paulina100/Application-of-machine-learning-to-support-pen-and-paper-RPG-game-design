{
 "cells": [
  {
   "cell_type": "markdown",
   "id": "b0ab4d4c",
   "metadata": {},
   "source": [
    "# LightGBM\n",
    "\n",
    "### Parametry:\n",
    "\n",
    "* **abilities**:\n",
    "    * **cha**\n",
    "    * **con**\n",
    "    * **dex**\n",
    "    * **int**\n",
    "    * **str**\n",
    "    * **wis**\n",
    "    \n",
    "* **attributes**\n",
    "    * **hp**\n",
    "    * **ac**\n",
    "    * **perception**\n",
    "* **saves**\n",
    "    * **fortitude**\n",
    "    * **reflex**\n",
    "    * **will**\n",
    "* **resources**\n",
    "    * **focus**\n",
    "\n",
    "### Przewidujemy: *level*"
   ]
  },
  {
   "cell_type": "code",
   "execution_count": 1,
   "id": "0ff25469",
   "metadata": {},
   "outputs": [],
   "source": [
    "# !pip install lightgbm==3.3.1 numpy optuna==3.3.0 scikit-learn --user"
   ]
  },
  {
   "cell_type": "markdown",
   "id": "c5267893",
   "metadata": {},
   "source": [
    "## Loading data"
   ]
  },
  {
   "cell_type": "code",
   "execution_count": 2,
   "id": "7d076ebe",
   "metadata": {
    "scrolled": true
   },
   "outputs": [
    {
     "name": "stderr",
     "output_type": "stream",
     "text": [
      "c:\\users\\pauli\\appdata\\local\\programs\\python\\python39\\lib\\site-packages\\pandas\\core\\indexing.py:1817: SettingWithCopyWarning: \n",
      "A value is trying to be set on a copy of a slice from a DataFrame.\n",
      "Try using .loc[row_indexer,col_indexer] = value instead\n",
      "\n",
      "See the caveats in the documentation: https://pandas.pydata.org/pandas-docs/stable/user_guide/indexing.html#returning-a-view-versus-a-copy\n",
      "  self._setitem_single_column(loc, value, pi)\n"
     ]
    }
   ],
   "source": [
    "import pandas as pd\n",
    "import numpy as np\n",
    "import sys\n",
    "\n",
    "import os\n",
    "import pathlib\n",
    "\n",
    "sys.path.append(\"../..\")\n",
    "from training.creating_dataset import load_and_preprocess_data\n",
    "\n",
    "current_path = os.getcwd()\n",
    "DATASETS_DIR = pathlib.Path(current_path).parent.parent / \"pathfinder_2e_data\"\n",
    "DATASET_FILES = [\n",
    "    \"pathfinder-bestiary.db\",\n",
    "    \"pathfinder-bestiary-2.db\",\n",
    "    \"pathfinder-bestiary-3.db\",\n",
    "]\n",
    "DATASET_PATHS = [f\"{DATASETS_DIR}/{file}\" for file in DATASET_FILES]\n",
    "\n",
    "df = load_and_preprocess_data(\n",
    "    DATASET_PATHS,\n",
    "    characteristics=[\n",
    "        \"cha\",\n",
    "        \"con\",\n",
    "        \"dex\",\n",
    "        \"int\",\n",
    "        \"str\",\n",
    "        \"wis\",\n",
    "        \"ac\",\n",
    "        \"hp\",\n",
    "        \"perception\",\n",
    "        \"fortitude\",\n",
    "        \"reflex\",\n",
    "        \"will\",\n",
    "        \"focus\",\n",
    "    ],\n",
    ")"
   ]
  },
  {
   "cell_type": "code",
   "execution_count": 3,
   "id": "37cf117c",
   "metadata": {
    "scrolled": true
   },
   "outputs": [
    {
     "name": "stdout",
     "output_type": "stream",
     "text": [
      "   cha  con  dex  int  str  wis  ac   hp  perception  fortitude  reflex  will  \\\n",
      "0    1    5    2    1    7    2  29  215          20         22      19    17   \n",
      "1    1    5    0   -4    9    2  28  220          16         21      14    16   \n",
      "2   -2    6    3   -4    7    3  25  175          17         20      17    15   \n",
      "3    6    5    4    6    7    5  41  315          30         30      29    32   \n",
      "4    1    1    3   -1   -5    1  16   20           6          6      10     4   \n",
      "\n",
      "   focus                 book  level  \n",
      "0      1  Pathfinder Bestiary     10  \n",
      "1      0  Pathfinder Bestiary     10  \n",
      "2      0  Pathfinder Bestiary      8  \n",
      "3      1  Pathfinder Bestiary     17  \n",
      "4      1  Pathfinder Bestiary      1  \n"
     ]
    }
   ],
   "source": [
    "print(df.head())"
   ]
  },
  {
   "cell_type": "markdown",
   "id": "108014f4",
   "metadata": {},
   "source": [
    "## Train test split"
   ]
  },
  {
   "cell_type": "markdown",
   "id": "07a8f0d9",
   "metadata": {},
   "source": [
    "### Chronological split"
   ]
  },
  {
   "cell_type": "code",
   "execution_count": 4,
   "id": "b595145e",
   "metadata": {},
   "outputs": [],
   "source": [
    "from training.splitting_dataset import split_dataframe\n",
    "import os\n",
    "\n",
    "os.chdir(\"../../training\")\n",
    "X_train, X_test, y_train, y_test = split_dataframe(df, test_size=0.31)\n",
    "os.chdir(\"../notebooks/models\")"
   ]
  },
  {
   "cell_type": "code",
   "execution_count": 5,
   "id": "7009d630",
   "metadata": {},
   "outputs": [],
   "source": [
    "X_train = X_train.drop(columns=[\"book\"])\n",
    "X_test = X_test.drop(columns=[\"book\"])"
   ]
  },
  {
   "cell_type": "markdown",
   "id": "ecc8f4d6",
   "metadata": {},
   "source": [
    "### <span style=\"color:red\">X_train and y_train have elements of object type instead of int64. Needs fix.</span>"
   ]
  },
  {
   "cell_type": "code",
   "execution_count": 6,
   "id": "8c2ad5f1",
   "metadata": {
    "scrolled": false
   },
   "outputs": [
    {
     "name": "stdout",
     "output_type": "stream",
     "text": [
      "<class 'pandas.core.frame.DataFrame'>\n",
      "Int64Index: 841 entries, 0 to 840\n",
      "Data columns (total 13 columns):\n",
      " #   Column      Non-Null Count  Dtype \n",
      "---  ------      --------------  ----- \n",
      " 0   cha         841 non-null    object\n",
      " 1   con         841 non-null    object\n",
      " 2   dex         841 non-null    object\n",
      " 3   int         841 non-null    object\n",
      " 4   str         841 non-null    object\n",
      " 5   wis         841 non-null    object\n",
      " 6   ac          841 non-null    object\n",
      " 7   hp          841 non-null    object\n",
      " 8   perception  841 non-null    object\n",
      " 9   fortitude   841 non-null    object\n",
      " 10  reflex      841 non-null    object\n",
      " 11  will        841 non-null    object\n",
      " 12  focus       841 non-null    object\n",
      "dtypes: object(13)\n",
      "memory usage: 92.0+ KB\n",
      "None\n",
      "<class 'pandas.core.frame.DataFrame'>\n",
      "Int64Index: 365 entries, 841 to 1205\n",
      "Data columns (total 13 columns):\n",
      " #   Column      Non-Null Count  Dtype\n",
      "---  ------      --------------  -----\n",
      " 0   cha         365 non-null    int64\n",
      " 1   con         365 non-null    int64\n",
      " 2   dex         365 non-null    int64\n",
      " 3   int         365 non-null    int64\n",
      " 4   str         365 non-null    int64\n",
      " 5   wis         365 non-null    int64\n",
      " 6   ac          365 non-null    int64\n",
      " 7   hp          365 non-null    int64\n",
      " 8   perception  365 non-null    int64\n",
      " 9   fortitude   365 non-null    int64\n",
      " 10  reflex      365 non-null    int64\n",
      " 11  will        365 non-null    int64\n",
      " 12  focus       365 non-null    int32\n",
      "dtypes: int32(1), int64(12)\n",
      "memory usage: 38.5 KB\n",
      "None\n",
      "0    10\n",
      "1    10\n",
      "2     8\n",
      "3    17\n",
      "4     1\n",
      "Name: level, dtype: object\n",
      "841     3\n",
      "842     9\n",
      "843     0\n",
      "844     1\n",
      "845    15\n",
      "Name: level, dtype: int64\n"
     ]
    }
   ],
   "source": [
    "print(X_train.info())\n",
    "print(X_test.info())\n",
    "print(y_train.head())\n",
    "print(y_test.head())"
   ]
  },
  {
   "cell_type": "code",
   "execution_count": 7,
   "id": "15c6bdbe",
   "metadata": {
    "scrolled": true
   },
   "outputs": [],
   "source": [
    "X_train = X_train.astype(\"int64\")\n",
    "y_train = y_train.astype(\"int64\")"
   ]
  },
  {
   "cell_type": "markdown",
   "id": "79e2163f",
   "metadata": {},
   "source": [
    "### Random split"
   ]
  },
  {
   "cell_type": "code",
   "execution_count": 8,
   "id": "b5b9dbd5",
   "metadata": {},
   "outputs": [],
   "source": [
    "from training.splitting_dataset import split_dataframe\n",
    "\n",
    "(\n",
    "    X_train_random_split,\n",
    "    X_test_random_split,\n",
    "    y_train_random_split,\n",
    "    y_test_random_split,\n",
    ") = split_dataframe(df, chronological_split=False)"
   ]
  },
  {
   "cell_type": "code",
   "execution_count": 9,
   "id": "68ec9b12",
   "metadata": {},
   "outputs": [],
   "source": [
    "X_train_random_split = X_train_random_split.drop(columns=[\"book\"])\n",
    "X_test_random_split = X_test_random_split.drop(columns=[\"book\"])"
   ]
  },
  {
   "cell_type": "markdown",
   "id": "6ac76052",
   "metadata": {},
   "source": [
    "## LightGBM"
   ]
  },
  {
   "cell_type": "markdown",
   "id": "41e036cb",
   "metadata": {},
   "source": [
    "### With chronological split"
   ]
  },
  {
   "cell_type": "code",
   "execution_count": 10,
   "id": "8444dd1b",
   "metadata": {
    "scrolled": true
   },
   "outputs": [
    {
     "name": "stdout",
     "output_type": "stream",
     "text": [
      "[LightGBM] [Warning] Auto-choosing col-wise multi-threading, the overhead of testing was 0.000273 seconds.\n",
      "You can set `force_col_wise=true` to remove the overhead.\n",
      "[LightGBM] [Info] Total Bins 379\n",
      "[LightGBM] [Info] Number of data points in the train set: 841, number of used features: 13\n",
      "[LightGBM] [Info] Start training from score 6.966706\n",
      "Training until validation scores don't improve for 5 rounds\n",
      "[LightGBM] [Warning] No further splits with positive gain, best gain: -inf\n",
      "[LightGBM] [Warning] No further splits with positive gain, best gain: -inf\n",
      "[LightGBM] [Warning] No further splits with positive gain, best gain: -inf\n",
      "[LightGBM] [Warning] No further splits with positive gain, best gain: -inf\n",
      "[LightGBM] [Warning] No further splits with positive gain, best gain: -inf\n",
      "[LightGBM] [Warning] No further splits with positive gain, best gain: -inf\n",
      "[LightGBM] [Warning] No further splits with positive gain, best gain: -inf\n",
      "[LightGBM] [Warning] No further splits with positive gain, best gain: -inf\n",
      "[LightGBM] [Warning] No further splits with positive gain, best gain: -inf\n",
      "[LightGBM] [Warning] No further splits with positive gain, best gain: -inf\n",
      "[LightGBM] [Warning] No further splits with positive gain, best gain: -inf\n",
      "[LightGBM] [Warning] No further splits with positive gain, best gain: -inf\n",
      "Early stopping, best iteration is:\n",
      "[66]\tvalid_0's l1: 0.357209\tvalid_0's l2: 0.260893\n",
      "MSE: 0.26\n",
      "RMSE: 0.51\n"
     ]
    }
   ],
   "source": [
    "import lightgbm as lgb\n",
    "from sklearn.metrics import mean_squared_error\n",
    "\n",
    "lgb_train = lgb.Dataset(X_train, y_train)\n",
    "lgb_eval = lgb.Dataset(X_test, y_test, reference=lgb_train)\n",
    "\n",
    "params = {\n",
    "    \"boosting_type\": \"gbdt\",\n",
    "    \"objective\": \"regression\",\n",
    "    \"metric\": {\"l2\", \"l1\"},\n",
    "}\n",
    "\n",
    "gbm = lgb.train(\n",
    "    params,\n",
    "    lgb_train,\n",
    "    num_boost_round=100,\n",
    "    valid_sets=lgb_eval,\n",
    "    callbacks=[lgb.early_stopping(stopping_rounds=5)],\n",
    ")\n",
    "\n",
    "y_pred_train = gbm.predict(X_train, num_iteration=gbm.best_iteration)\n",
    "y_pred_test = gbm.predict(X_test, num_iteration=gbm.best_iteration)\n",
    "\n",
    "\n",
    "mse = mean_squared_error(y_test, y_pred_test)\n",
    "rmse = mean_squared_error(y_test, y_pred_test, squared=False)\n",
    "print(f\"MSE: {mse:.2f}\")\n",
    "print(f\"RMSE: {rmse:.2f}\")"
   ]
  },
  {
   "cell_type": "markdown",
   "id": "cfc402c4",
   "metadata": {},
   "source": [
    "### With random split"
   ]
  },
  {
   "cell_type": "code",
   "execution_count": 11,
   "id": "62f1a168",
   "metadata": {
    "scrolled": true
   },
   "outputs": [
    {
     "name": "stdout",
     "output_type": "stream",
     "text": [
      "[LightGBM] [Warning] Auto-choosing row-wise multi-threading, the overhead of testing was 0.000144 seconds.\n",
      "You can set `force_row_wise=true` to remove the overhead.\n",
      "And if memory is not enough, you can set `force_col_wise=true`.\n",
      "[LightGBM] [Info] Total Bins 392\n",
      "[LightGBM] [Info] Number of data points in the train set: 904, number of used features: 13\n",
      "[LightGBM] [Info] Start training from score 7.162611\n",
      "Training until validation scores don't improve for 5 rounds\n",
      "Early stopping, best iteration is:\n",
      "[88]\tvalid_0's l1: 0.267273\tvalid_0's l2: 0.148111\n",
      "MSE: 0.15\n",
      "RMSE: 0.38\n"
     ]
    }
   ],
   "source": [
    "import lightgbm as lgb\n",
    "from sklearn.metrics import mean_squared_error\n",
    "\n",
    "lgb_train = lgb.Dataset(X_train_random_split, y_train_random_split)\n",
    "lgb_eval = lgb.Dataset(X_test_random_split, y_test_random_split, reference=lgb_train)\n",
    "\n",
    "params = {\n",
    "    \"boosting_type\": \"gbdt\",\n",
    "    \"objective\": \"regression\",\n",
    "    \"metric\": {\"l2\", \"l1\"},\n",
    "}\n",
    "\n",
    "gbm = lgb.train(\n",
    "    params,\n",
    "    lgb_train,\n",
    "    num_boost_round=100,\n",
    "    valid_sets=lgb_eval,\n",
    "    callbacks=[lgb.early_stopping(stopping_rounds=5)],\n",
    ")\n",
    "\n",
    "y_pred_train_random_split = gbm.predict(\n",
    "    X_train_random_split, num_iteration=gbm.best_iteration\n",
    ")\n",
    "y_pred_test_random_split = gbm.predict(\n",
    "    X_test_random_split, num_iteration=gbm.best_iteration\n",
    ")\n",
    "\n",
    "\n",
    "mse = mean_squared_error(y_test_random_split, y_pred_test_random_split)\n",
    "rmse = mean_squared_error(y_test_random_split, y_pred_test_random_split, squared=False)\n",
    "print(f\"MSE: {mse:.2f}\")\n",
    "print(f\"RMSE: {rmse:.2f}\")"
   ]
  },
  {
   "cell_type": "markdown",
   "id": "9ad0fa6e",
   "metadata": {},
   "source": [
    "## Tuning"
   ]
  },
  {
   "cell_type": "code",
   "execution_count": 12,
   "id": "16d5df44",
   "metadata": {
    "scrolled": true
   },
   "outputs": [
    {
     "name": "stdout",
     "output_type": "stream",
     "text": [
      "3.3.1\n",
      "3.3.0\n"
     ]
    }
   ],
   "source": [
    "import lightgbm as lgb\n",
    "\n",
    "print(lgb.__version__)\n",
    "import optuna as lgb\n",
    "\n",
    "print(lgb.__version__)"
   ]
  },
  {
   "cell_type": "markdown",
   "id": "776450c8",
   "metadata": {},
   "source": [
    "### With chronological split"
   ]
  },
  {
   "cell_type": "code",
   "execution_count": 13,
   "id": "3899a35d",
   "metadata": {
    "scrolled": true
   },
   "outputs": [
    {
     "name": "stderr",
     "output_type": "stream",
     "text": [
      "[I 2023-08-08 20:38:58,793] A new study created in memory with name: no-name-a946a074-3281-4aa1-8cbd-14ea5a7c6bda\n",
      "feature_fraction, val_score: inf:   0%|                                                          | 0/7 [00:00<?, ?it/s]"
     ]
    },
    {
     "name": "stdout",
     "output_type": "stream",
     "text": [
      "Training until validation scores don't improve for 100 rounds\n",
      "[100]\tcv_agg's l2: 0.16153 + 0.0200527\n"
     ]
    },
    {
     "name": "stderr",
     "output_type": "stream",
     "text": [
      "feature_fraction, val_score: 0.159583:  14%|######4                                      | 1/7 [00:00<00:05,  1.10it/s][I 2023-08-08 20:38:59,708] Trial 0 finished with value: 0.15958330323222156 and parameters: {'feature_fraction': 0.4}. Best is trial 0 with value: 0.15958330323222156.\n",
      "feature_fraction, val_score: 0.159583:  14%|######4                                      | 1/7 [00:00<00:05,  1.10it/s]"
     ]
    },
    {
     "name": "stdout",
     "output_type": "stream",
     "text": [
      "[200]\tcv_agg's l2: 0.160334 + 0.0179611\n",
      "Early stopping, best iteration is:\n",
      "[152]\tcv_agg's l2: 0.159583 + 0.0182179\n",
      "[100]\tcv_agg's l2: 0.166689 + 0.0187719\n",
      "[200]\tcv_agg's l2: 0.16294 + 0.0182487\n",
      "Early stopping, best iteration is:\n",
      "[152]\tcv_agg's l2: 0.159583 + 0.0182179\n"
     ]
    },
    {
     "name": "stderr",
     "output_type": "stream",
     "text": [
      "feature_fraction, val_score: 0.159583:  29%|############8                                | 2/7 [00:01<00:04,  1.07it/s][I 2023-08-08 20:39:00,656] Trial 1 finished with value: 0.1637961073152483 and parameters: {'feature_fraction': 0.7}. Best is trial 0 with value: 0.15958330323222156.\n",
      "feature_fraction, val_score: 0.159583:  29%|############8                                | 2/7 [00:01<00:04,  1.07it/s]"
     ]
    },
    {
     "name": "stdout",
     "output_type": "stream",
     "text": [
      "[100]\tcv_agg's l2: 0.167078 + 0.0232235\n",
      "[200]\tcv_agg's l2: 0.165981 + 0.0231724\n"
     ]
    },
    {
     "name": "stderr",
     "output_type": "stream",
     "text": [
      "feature_fraction, val_score: 0.159583:  43%|###################2                         | 3/7 [00:02<00:03,  1.03it/s][I 2023-08-08 20:39:01,665] Trial 2 finished with value: 0.1658529610806306 and parameters: {'feature_fraction': 0.6}. Best is trial 0 with value: 0.15958330323222156.\n",
      "feature_fraction, val_score: 0.159583:  43%|###################2                         | 3/7 [00:02<00:03,  1.03it/s]"
     ]
    },
    {
     "name": "stdout",
     "output_type": "stream",
     "text": [
      "Early stopping, best iteration is:\n",
      "[152]\tcv_agg's l2: 0.159583 + 0.0182179\n",
      "[100]\tcv_agg's l2: 0.179497 + 0.0373779\n"
     ]
    },
    {
     "name": "stderr",
     "output_type": "stream",
     "text": [
      "feature_fraction, val_score: 0.159583:  57%|#########################7                   | 4/7 [00:03<00:02,  1.01it/s][I 2023-08-08 20:39:02,689] Trial 3 finished with value: 0.17625614867290906 and parameters: {'feature_fraction': 0.8999999999999999}. Best is trial 0 with value: 0.15958330323222156.\n",
      "feature_fraction, val_score: 0.159583:  57%|#########################7                   | 4/7 [00:03<00:02,  1.01it/s]"
     ]
    },
    {
     "name": "stdout",
     "output_type": "stream",
     "text": [
      "[200]\tcv_agg's l2: 0.175488 + 0.034751\n",
      "Early stopping, best iteration is:\n",
      "[152]\tcv_agg's l2: 0.159583 + 0.0182179\n",
      "[100]\tcv_agg's l2: 0.177436 + 0.0335523\n"
     ]
    },
    {
     "name": "stderr",
     "output_type": "stream",
     "text": [
      "\r",
      "feature_fraction, val_score: 0.159583:  57%|#########################7                   | 4/7 [00:04<00:02,  1.01it/s]"
     ]
    },
    {
     "name": "stdout",
     "output_type": "stream",
     "text": [
      "[200]\tcv_agg's l2: 0.175023 + 0.0316317\n",
      "Early stopping, best iteration is:\n",
      "[152]\tcv_agg's l2: 0.159583 + 0.0182179\n"
     ]
    },
    {
     "name": "stderr",
     "output_type": "stream",
     "text": [
      "feature_fraction, val_score: 0.159583:  71%|################################1            | 5/7 [00:04<00:01,  1.08it/s][I 2023-08-08 20:39:03,511] Trial 4 finished with value: 0.17481036692174237 and parameters: {'feature_fraction': 0.8}. Best is trial 0 with value: 0.15958330323222156.\n",
      "feature_fraction, val_score: 0.159583:  71%|################################1            | 5/7 [00:04<00:01,  1.08it/s]"
     ]
    },
    {
     "name": "stdout",
     "output_type": "stream",
     "text": [
      "[100]\tcv_agg's l2: 0.189405 + 0.0383498\n",
      "[200]\tcv_agg's l2: 0.18619 + 0.0363794\n",
      "Early stopping, best iteration is:\n",
      "[152]\tcv_agg's l2: 0.159583 + 0.0182179\n"
     ]
    },
    {
     "name": "stderr",
     "output_type": "stream",
     "text": [
      "feature_fraction, val_score: 0.159583:  86%|######################################5      | 6/7 [00:05<00:00,  1.11it/s][I 2023-08-08 20:39:04,359] Trial 5 finished with value: 0.18658571295342813 and parameters: {'feature_fraction': 1.0}. Best is trial 0 with value: 0.15958330323222156.\n",
      "feature_fraction, val_score: 0.159583:  86%|######################################5      | 6/7 [00:05<00:00,  1.11it/s]"
     ]
    },
    {
     "name": "stdout",
     "output_type": "stream",
     "text": [
      "[100]\tcv_agg's l2: 0.164856 + 0.0191397\n"
     ]
    },
    {
     "name": "stderr",
     "output_type": "stream",
     "text": [
      "feature_fraction, val_score: 0.159583: 100%|#############################################| 7/7 [00:06<00:00,  1.16it/s][I 2023-08-08 20:39:05,139] Trial 6 finished with value: 0.16296127626760532 and parameters: {'feature_fraction': 0.5}. Best is trial 0 with value: 0.15958330323222156.\n",
      "feature_fraction, val_score: 0.159583: 100%|#############################################| 7/7 [00:06<00:00,  1.10it/s]\n"
     ]
    },
    {
     "name": "stdout",
     "output_type": "stream",
     "text": [
      "[200]\tcv_agg's l2: 0.16266 + 0.0182879\n",
      "Early stopping, best iteration is:\n",
      "[152]\tcv_agg's l2: 0.159583 + 0.0182179\n"
     ]
    },
    {
     "name": "stderr",
     "output_type": "stream",
     "text": [
      "num_leaves, val_score: 0.159583:   0%|                                                          | 0/20 [00:00<?, ?it/s]"
     ]
    },
    {
     "name": "stdout",
     "output_type": "stream",
     "text": [
      "[100]\tcv_agg's l2: 0.16153 + 0.0200527\n",
      "[200]\tcv_agg's l2: 0.160334 + 0.0179611\n",
      "Early stopping, best iteration is:\n",
      "[152]\tcv_agg's l2: 0.159583 + 0.0182179\n"
     ]
    },
    {
     "name": "stderr",
     "output_type": "stream",
     "text": [
      "num_leaves, val_score: 0.159583:   5%|##5                                               | 1/20 [00:00<00:16,  1.13it/s][I 2023-08-08 20:39:06,030] Trial 7 finished with value: 0.15958330323222156 and parameters: {'num_leaves': 154}. Best is trial 7 with value: 0.15958330323222156.\n",
      "num_leaves, val_score: 0.159583:   5%|##5                                               | 1/20 [00:00<00:16,  1.13it/s]"
     ]
    },
    {
     "name": "stdout",
     "output_type": "stream",
     "text": [
      "[100]\tcv_agg's l2: 0.16153 + 0.0200527\n",
      "[200]\tcv_agg's l2: 0.160334 + 0.0179611\n",
      "Early stopping, best iteration is:\n",
      "[152]\tcv_agg's l2: 0.159583 + 0.0182179\n"
     ]
    },
    {
     "name": "stderr",
     "output_type": "stream",
     "text": [
      "num_leaves, val_score: 0.159583:  10%|#####                                             | 2/20 [00:01<00:16,  1.10it/s][I 2023-08-08 20:39:06,956] Trial 8 finished with value: 0.15958330323222156 and parameters: {'num_leaves': 155}. Best is trial 7 with value: 0.15958330323222156.\n",
      "num_leaves, val_score: 0.159583:  10%|#####                                             | 2/20 [00:01<00:16,  1.10it/s]"
     ]
    },
    {
     "name": "stdout",
     "output_type": "stream",
     "text": [
      "[100]\tcv_agg's l2: 0.16153 + 0.0200527\n"
     ]
    },
    {
     "name": "stderr",
     "output_type": "stream",
     "text": [
      "\r",
      "num_leaves, val_score: 0.159583:  10%|#####                                             | 2/20 [00:02<00:16,  1.10it/s]"
     ]
    },
    {
     "name": "stdout",
     "output_type": "stream",
     "text": [
      "[200]\tcv_agg's l2: 0.160334 + 0.0179611\n",
      "Early stopping, best iteration is:\n",
      "[152]\tcv_agg's l2: 0.159583 + 0.0182179\n"
     ]
    },
    {
     "name": "stderr",
     "output_type": "stream",
     "text": [
      "num_leaves, val_score: 0.159583:  15%|#######5                                          | 3/20 [00:02<00:15,  1.10it/s][I 2023-08-08 20:39:07,865] Trial 9 finished with value: 0.15958330323222156 and parameters: {'num_leaves': 214}. Best is trial 7 with value: 0.15958330323222156.\n",
      "num_leaves, val_score: 0.159583:  20%|##########                                        | 4/20 [00:02<00:10,  1.56it/s][I 2023-08-08 20:39:08,093] Trial 10 finished with value: 0.27947577273810265 and parameters: {'num_leaves': 2}. Best is trial 7 with value: 0.15958330323222156.\n",
      "num_leaves, val_score: 0.159583:  20%|##########                                        | 4/20 [00:02<00:10,  1.56it/s]"
     ]
    },
    {
     "name": "stdout",
     "output_type": "stream",
     "text": [
      "[100]\tcv_agg's l2: 0.304268 + 0.0284525\n",
      "[200]\tcv_agg's l2: 0.270375 + 0.0265096\n",
      "Early stopping, best iteration is:\n",
      "[152]\tcv_agg's l2: 0.159583 + 0.0182179\n",
      "[100]\tcv_agg's l2: 0.16153 + 0.0200527\n",
      "[200]\tcv_agg's l2: 0.160334 + 0.0179611\n",
      "Early stopping, best iteration is:\n",
      "[152]\tcv_agg's l2: 0.159583 + 0.0182179\n"
     ]
    },
    {
     "name": "stderr",
     "output_type": "stream",
     "text": [
      "num_leaves, val_score: 0.159583:  25%|############5                                     | 5/20 [00:04<00:12,  1.21it/s][I 2023-08-08 20:39:09,245] Trial 11 finished with value: 0.15958330323222156 and parameters: {'num_leaves': 95}. Best is trial 7 with value: 0.15958330323222156.\n",
      "num_leaves, val_score: 0.159583:  25%|############5                                     | 5/20 [00:04<00:12,  1.21it/s]"
     ]
    },
    {
     "name": "stdout",
     "output_type": "stream",
     "text": [
      "[100]\tcv_agg's l2: 0.16153 + 0.0200527\n",
      "[200]\tcv_agg's l2: 0.160334 + 0.0179611\n"
     ]
    },
    {
     "name": "stderr",
     "output_type": "stream",
     "text": [
      "num_leaves, val_score: 0.159583:  30%|###############                                   | 6/20 [00:05<00:13,  1.05it/s][I 2023-08-08 20:39:10,434] Trial 12 finished with value: 0.15958330323222156 and parameters: {'num_leaves': 253}. Best is trial 7 with value: 0.15958330323222156.\n",
      "num_leaves, val_score: 0.159583:  30%|###############                                   | 6/20 [00:05<00:13,  1.05it/s]"
     ]
    },
    {
     "name": "stdout",
     "output_type": "stream",
     "text": [
      "Early stopping, best iteration is:\n",
      "[152]\tcv_agg's l2: 0.159583 + 0.0182179\n",
      "[100]\tcv_agg's l2: 0.16153 + 0.0200527\n",
      "[200]\tcv_agg's l2: 0.160334 + 0.0179611\n"
     ]
    },
    {
     "name": "stderr",
     "output_type": "stream",
     "text": [
      "num_leaves, val_score: 0.159583:  35%|#################5                                | 7/20 [00:06<00:13,  1.07s/it][I 2023-08-08 20:39:11,739] Trial 13 finished with value: 0.15958330323222156 and parameters: {'num_leaves': 106}. Best is trial 7 with value: 0.15958330323222156.\n",
      "num_leaves, val_score: 0.159583:  35%|#################5                                | 7/20 [00:06<00:13,  1.07s/it]"
     ]
    },
    {
     "name": "stdout",
     "output_type": "stream",
     "text": [
      "Early stopping, best iteration is:\n",
      "[152]\tcv_agg's l2: 0.159583 + 0.0182179\n",
      "[100]\tcv_agg's l2: 0.16153 + 0.0200527\n",
      "[200]\tcv_agg's l2: 0.160334 + 0.0179611\n"
     ]
    },
    {
     "name": "stderr",
     "output_type": "stream",
     "text": [
      "num_leaves, val_score: 0.159583:  40%|####################                              | 8/20 [00:07<00:13,  1.11s/it][I 2023-08-08 20:39:12,951] Trial 14 finished with value: 0.15958330323222156 and parameters: {'num_leaves': 164}. Best is trial 7 with value: 0.15958330323222156.\n",
      "num_leaves, val_score: 0.159583:  40%|####################                              | 8/20 [00:07<00:13,  1.11s/it]"
     ]
    },
    {
     "name": "stdout",
     "output_type": "stream",
     "text": [
      "Early stopping, best iteration is:\n",
      "[152]\tcv_agg's l2: 0.159583 + 0.0182179\n",
      "[100]\tcv_agg's l2: 0.16153 + 0.0200527\n",
      "[200]\tcv_agg's l2: 0.160334 + 0.0179611\n"
     ]
    },
    {
     "name": "stderr",
     "output_type": "stream",
     "text": [
      "num_leaves, val_score: 0.159583:  45%|######################5                           | 9/20 [00:08<00:12,  1.14s/it][I 2023-08-08 20:39:14,145] Trial 15 finished with value: 0.15958330323222156 and parameters: {'num_leaves': 44}. Best is trial 7 with value: 0.15958330323222156.\n",
      "num_leaves, val_score: 0.159583:  45%|######################5                           | 9/20 [00:09<00:12,  1.14s/it]"
     ]
    },
    {
     "name": "stdout",
     "output_type": "stream",
     "text": [
      "Early stopping, best iteration is:\n",
      "[152]\tcv_agg's l2: 0.159583 + 0.0182179\n",
      "[100]\tcv_agg's l2: 0.16153 + 0.0200527\n",
      "[200]\tcv_agg's l2: 0.160334 + 0.0179611\n"
     ]
    },
    {
     "name": "stderr",
     "output_type": "stream",
     "text": [
      "num_leaves, val_score: 0.159583:  50%|########################5                        | 10/20 [00:10<00:11,  1.20s/it][I 2023-08-08 20:39:15,477] Trial 16 finished with value: 0.15958330323222156 and parameters: {'num_leaves': 200}. Best is trial 7 with value: 0.15958330323222156.\n",
      "num_leaves, val_score: 0.159583:  50%|########################5                        | 10/20 [00:10<00:11,  1.20s/it]"
     ]
    },
    {
     "name": "stdout",
     "output_type": "stream",
     "text": [
      "Early stopping, best iteration is:\n",
      "[152]\tcv_agg's l2: 0.159583 + 0.0182179\n",
      "[100]\tcv_agg's l2: 0.16153 + 0.0200527\n",
      "[200]\tcv_agg's l2: 0.160334 + 0.0179611\n"
     ]
    },
    {
     "name": "stderr",
     "output_type": "stream",
     "text": [
      "num_leaves, val_score: 0.159583:  55%|##########################9                      | 11/20 [00:11<00:11,  1.27s/it][I 2023-08-08 20:39:16,913] Trial 17 finished with value: 0.15958330323222156 and parameters: {'num_leaves': 73}. Best is trial 7 with value: 0.15958330323222156.\n",
      "num_leaves, val_score: 0.159583:  55%|##########################9                      | 11/20 [00:11<00:11,  1.27s/it]"
     ]
    },
    {
     "name": "stdout",
     "output_type": "stream",
     "text": [
      "Early stopping, best iteration is:\n",
      "[152]\tcv_agg's l2: 0.159583 + 0.0182179\n",
      "[100]\tcv_agg's l2: 0.16153 + 0.0200527\n",
      "[200]\tcv_agg's l2: 0.160334 + 0.0179611\n"
     ]
    },
    {
     "name": "stderr",
     "output_type": "stream",
     "text": [
      "num_leaves, val_score: 0.159583:  60%|#############################4                   | 12/20 [00:14<00:12,  1.58s/it][I 2023-08-08 20:39:19,210] Trial 18 finished with value: 0.15958330323222156 and parameters: {'num_leaves': 146}. Best is trial 7 with value: 0.15958330323222156.\n",
      "num_leaves, val_score: 0.159583:  60%|#############################4                   | 12/20 [00:14<00:12,  1.58s/it]"
     ]
    },
    {
     "name": "stdout",
     "output_type": "stream",
     "text": [
      "Early stopping, best iteration is:\n",
      "[152]\tcv_agg's l2: 0.159583 + 0.0182179\n",
      "[100]\tcv_agg's l2: 0.16153 + 0.0200527\n",
      "[200]\tcv_agg's l2: 0.160334 + 0.0179611\n"
     ]
    },
    {
     "name": "stderr",
     "output_type": "stream",
     "text": [
      "num_leaves, val_score: 0.159583:  65%|###############################8                 | 13/20 [00:15<00:11,  1.58s/it][I 2023-08-08 20:39:20,791] Trial 19 finished with value: 0.15958330323222156 and parameters: {'num_leaves': 194}. Best is trial 7 with value: 0.15958330323222156.\n",
      "num_leaves, val_score: 0.159583:  65%|###############################8                 | 13/20 [00:15<00:11,  1.58s/it]"
     ]
    },
    {
     "name": "stdout",
     "output_type": "stream",
     "text": [
      "Early stopping, best iteration is:\n",
      "[152]\tcv_agg's l2: 0.159583 + 0.0182179\n",
      "[100]\tcv_agg's l2: 0.16153 + 0.0200527\n",
      "[200]\tcv_agg's l2: 0.160334 + 0.0179611\n"
     ]
    },
    {
     "name": "stderr",
     "output_type": "stream",
     "text": [
      "num_leaves, val_score: 0.159583:  70%|##################################3              | 14/20 [00:16<00:08,  1.49s/it][I 2023-08-08 20:39:22,051] Trial 20 finished with value: 0.15958330323222156 and parameters: {'num_leaves': 249}. Best is trial 7 with value: 0.15958330323222156.\n",
      "num_leaves, val_score: 0.159583:  70%|##################################3              | 14/20 [00:16<00:08,  1.49s/it]"
     ]
    },
    {
     "name": "stdout",
     "output_type": "stream",
     "text": [
      "Early stopping, best iteration is:\n",
      "[152]\tcv_agg's l2: 0.159583 + 0.0182179\n",
      "[100]\tcv_agg's l2: 0.16153 + 0.0200527\n",
      "[200]\tcv_agg's l2: 0.160334 + 0.0179611\n"
     ]
    },
    {
     "name": "stderr",
     "output_type": "stream",
     "text": [
      "num_leaves, val_score: 0.159583:  75%|####################################7            | 15/20 [00:18<00:06,  1.39s/it][I 2023-08-08 20:39:23,214] Trial 21 finished with value: 0.15958330323222156 and parameters: {'num_leaves': 158}. Best is trial 7 with value: 0.15958330323222156.\n",
      "num_leaves, val_score: 0.159583:  75%|####################################7            | 15/20 [00:18<00:06,  1.39s/it]"
     ]
    },
    {
     "name": "stdout",
     "output_type": "stream",
     "text": [
      "Early stopping, best iteration is:\n",
      "[152]\tcv_agg's l2: 0.159583 + 0.0182179\n",
      "[100]\tcv_agg's l2: 0.16153 + 0.0200527\n",
      "[200]\tcv_agg's l2: 0.160334 + 0.0179611\n"
     ]
    },
    {
     "name": "stderr",
     "output_type": "stream",
     "text": [
      "num_leaves, val_score: 0.159583:  80%|#######################################2         | 16/20 [00:19<00:05,  1.31s/it][I 2023-08-08 20:39:24,346] Trial 22 finished with value: 0.15958330323222156 and parameters: {'num_leaves': 121}. Best is trial 7 with value: 0.15958330323222156.\n",
      "num_leaves, val_score: 0.159583:  80%|#######################################2         | 16/20 [00:19<00:05,  1.31s/it]"
     ]
    },
    {
     "name": "stdout",
     "output_type": "stream",
     "text": [
      "Early stopping, best iteration is:\n",
      "[152]\tcv_agg's l2: 0.159583 + 0.0182179\n",
      "[100]\tcv_agg's l2: 0.16153 + 0.0200527\n",
      "[200]\tcv_agg's l2: 0.160334 + 0.0179611\n"
     ]
    },
    {
     "name": "stderr",
     "output_type": "stream",
     "text": [
      "num_leaves, val_score: 0.159583:  85%|#########################################6       | 17/20 [00:20<00:04,  1.35s/it][I 2023-08-08 20:39:25,791] Trial 23 finished with value: 0.15958330323222156 and parameters: {'num_leaves': 178}. Best is trial 7 with value: 0.15958330323222156.\n",
      "num_leaves, val_score: 0.159583:  85%|#########################################6       | 17/20 [00:20<00:04,  1.35s/it]"
     ]
    },
    {
     "name": "stdout",
     "output_type": "stream",
     "text": [
      "Early stopping, best iteration is:\n",
      "[152]\tcv_agg's l2: 0.159583 + 0.0182179\n",
      "[100]\tcv_agg's l2: 0.16153 + 0.0200527\n",
      "[200]\tcv_agg's l2: 0.160334 + 0.0179611\n"
     ]
    },
    {
     "name": "stderr",
     "output_type": "stream",
     "text": [
      "num_leaves, val_score: 0.159583:  90%|############################################1    | 18/20 [00:22<00:02,  1.38s/it][I 2023-08-08 20:39:27,232] Trial 24 finished with value: 0.15958330323222156 and parameters: {'num_leaves': 131}. Best is trial 7 with value: 0.15958330323222156.\n",
      "num_leaves, val_score: 0.159583:  90%|############################################1    | 18/20 [00:22<00:02,  1.38s/it]"
     ]
    },
    {
     "name": "stdout",
     "output_type": "stream",
     "text": [
      "Early stopping, best iteration is:\n",
      "[152]\tcv_agg's l2: 0.159583 + 0.0182179\n",
      "[100]\tcv_agg's l2: 0.16153 + 0.0200527\n",
      "[200]\tcv_agg's l2: 0.160334 + 0.0179611\n"
     ]
    },
    {
     "name": "stderr",
     "output_type": "stream",
     "text": [
      "num_leaves, val_score: 0.159583:  95%|##############################################5  | 19/20 [00:23<00:01,  1.32s/it][I 2023-08-08 20:39:28,423] Trial 25 finished with value: 0.15958330323222156 and parameters: {'num_leaves': 224}. Best is trial 7 with value: 0.15958330323222156.\n",
      "num_leaves, val_score: 0.159583:  95%|##############################################5  | 19/20 [00:23<00:01,  1.32s/it]"
     ]
    },
    {
     "name": "stdout",
     "output_type": "stream",
     "text": [
      "Early stopping, best iteration is:\n",
      "[152]\tcv_agg's l2: 0.159583 + 0.0182179\n",
      "[100]\tcv_agg's l2: 0.16153 + 0.0200527\n",
      "[200]\tcv_agg's l2: 0.160334 + 0.0179611\n"
     ]
    },
    {
     "name": "stderr",
     "output_type": "stream",
     "text": [
      "num_leaves, val_score: 0.159583: 100%|#################################################| 20/20 [00:24<00:00,  1.22s/it][I 2023-08-08 20:39:29,412] Trial 26 finished with value: 0.15958330323222156 and parameters: {'num_leaves': 75}. Best is trial 7 with value: 0.15958330323222156.\n",
      "num_leaves, val_score: 0.159583: 100%|#################################################| 20/20 [00:24<00:00,  1.21s/it]\n"
     ]
    },
    {
     "name": "stdout",
     "output_type": "stream",
     "text": [
      "Early stopping, best iteration is:\n",
      "[152]\tcv_agg's l2: 0.159583 + 0.0182179\n"
     ]
    },
    {
     "name": "stderr",
     "output_type": "stream",
     "text": [
      "bagging, val_score: 0.159583:   0%|                                                             | 0/10 [00:00<?, ?it/s]"
     ]
    },
    {
     "name": "stdout",
     "output_type": "stream",
     "text": [
      "[100]\tcv_agg's l2: 0.217635 + 0.027276\n"
     ]
    },
    {
     "name": "stderr",
     "output_type": "stream",
     "text": [
      "bagging, val_score: 0.159583:  10%|#####3                                               | 1/10 [00:00<00:06,  1.36it/s][I 2023-08-08 20:39:30,158] Trial 27 finished with value: 0.20135727400636938 and parameters: {'bagging_fraction': 0.4245686631048232, 'bagging_freq': 5}. Best is trial 27 with value: 0.20135727400636938.\n",
      "bagging, val_score: 0.159583:  10%|#####3                                               | 1/10 [00:00<00:06,  1.36it/s]"
     ]
    },
    {
     "name": "stdout",
     "output_type": "stream",
     "text": [
      "[200]\tcv_agg's l2: 0.200355 + 0.02192\n",
      "Early stopping, best iteration is:\n",
      "[152]\tcv_agg's l2: 0.159583 + 0.0182179\n",
      "[100]\tcv_agg's l2: 0.158981 + 0.016822\n",
      "[200]\tcv_agg's l2: 0.157295 + 0.0160732\n"
     ]
    },
    {
     "name": "stderr",
     "output_type": "stream",
     "text": [
      "bagging, val_score: 0.156907:  20%|##########6                                          | 2/10 [00:01<00:07,  1.08it/s][I 2023-08-08 20:39:31,211] Trial 28 finished with value: 0.15690711080871717 and parameters: {'bagging_fraction': 0.9809161425375548, 'bagging_freq': 1}. Best is trial 28 with value: 0.15690711080871717.\n",
      "bagging, val_score: 0.156907:  20%|##########6                                          | 2/10 [00:01<00:07,  1.08it/s]"
     ]
    },
    {
     "name": "stdout",
     "output_type": "stream",
     "text": [
      "Early stopping, best iteration is:\n",
      "[171]\tcv_agg's l2: 0.156907 + 0.0151951\n",
      "[100]\tcv_agg's l2: 0.155916 + 0.018413\n",
      "[200]\tcv_agg's l2: 0.154989 + 0.017604\n"
     ]
    },
    {
     "name": "stderr",
     "output_type": "stream",
     "text": [
      "bagging, val_score: 0.154844:  30%|###############9                                     | 3/10 [00:03<00:08,  1.21s/it][I 2023-08-08 20:39:32,755] Trial 29 finished with value: 0.15484416369243123 and parameters: {'bagging_fraction': 0.9881963398904219, 'bagging_freq': 1}. Best is trial 29 with value: 0.15484416369243123.\n",
      "bagging, val_score: 0.154844:  30%|###############9                                     | 3/10 [00:03<00:08,  1.21s/it]"
     ]
    },
    {
     "name": "stdout",
     "output_type": "stream",
     "text": [
      "[300]\tcv_agg's l2: 0.155503 + 0.0169166\n",
      "Early stopping, best iteration is:\n",
      "[237]\tcv_agg's l2: 0.154844 + 0.0172584\n",
      "[100]\tcv_agg's l2: 0.16137 + 0.0204136\n",
      "[200]\tcv_agg's l2: 0.159734 + 0.0181865\n",
      "[300]\tcv_agg's l2: 0.160495 + 0.01836\n",
      "Early stopping, best iteration is:\n",
      "[237]\tcv_agg's l2: 0.154844 + 0.0172584\n"
     ]
    },
    {
     "name": "stderr",
     "output_type": "stream",
     "text": [
      "bagging, val_score: 0.154844:  40%|#####################2                               | 4/10 [00:04<00:07,  1.30s/it][I 2023-08-08 20:39:34,192] Trial 30 finished with value: 0.16025620979138724 and parameters: {'bagging_fraction': 0.9946909593902913, 'bagging_freq': 1}. Best is trial 29 with value: 0.15484416369243123.\n",
      "bagging, val_score: 0.154844:  40%|#####################2                               | 4/10 [00:04<00:07,  1.30s/it]"
     ]
    },
    {
     "name": "stdout",
     "output_type": "stream",
     "text": [
      "[100]\tcv_agg's l2: 0.160056 + 0.0192815\n",
      "[200]\tcv_agg's l2: 0.159608 + 0.0183451\n"
     ]
    },
    {
     "name": "stderr",
     "output_type": "stream",
     "text": [
      "bagging, val_score: 0.154844:  50%|##########################5                          | 5/10 [00:06<00:07,  1.40s/it][I 2023-08-08 20:39:35,784] Trial 31 finished with value: 0.16038099767350572 and parameters: {'bagging_fraction': 0.9917488444109219, 'bagging_freq': 1}. Best is trial 29 with value: 0.15484416369243123.\n",
      "bagging, val_score: 0.154844:  50%|##########################5                          | 5/10 [00:06<00:07,  1.40s/it]"
     ]
    },
    {
     "name": "stdout",
     "output_type": "stream",
     "text": [
      "[300]\tcv_agg's l2: 0.160506 + 0.0171359\n",
      "Early stopping, best iteration is:\n",
      "[237]\tcv_agg's l2: 0.154844 + 0.0172584\n",
      "[100]\tcv_agg's l2: 0.163091 + 0.0217372\n",
      "[200]\tcv_agg's l2: 0.158875 + 0.0184399\n",
      "[300]\tcv_agg's l2: 0.157365 + 0.0171511\n",
      "Early stopping, best iteration is:\n",
      "[237]\tcv_agg's l2: 0.154844 + 0.0172584\n"
     ]
    },
    {
     "name": "stderr",
     "output_type": "stream",
     "text": [
      "bagging, val_score: 0.154844:  60%|###############################8                     | 6/10 [00:07<00:05,  1.43s/it][I 2023-08-08 20:39:37,255] Trial 32 finished with value: 0.15706752919091857 and parameters: {'bagging_fraction': 0.8915782884048544, 'bagging_freq': 2}. Best is trial 29 with value: 0.15484416369243123.\n",
      "bagging, val_score: 0.154844:  60%|###############################8                     | 6/10 [00:07<00:05,  1.43s/it]"
     ]
    },
    {
     "name": "stdout",
     "output_type": "stream",
     "text": [
      "[100]\tcv_agg's l2: 0.157109 + 0.016518\n",
      "[200]\tcv_agg's l2: 0.154617 + 0.0155459\n",
      "[300]\tcv_agg's l2: 0.155032 + 0.01614\n",
      "Early stopping, best iteration is:\n",
      "[235]\tcv_agg's l2: 0.154004 + 0.015837\n"
     ]
    },
    {
     "name": "stderr",
     "output_type": "stream",
     "text": [
      "bagging, val_score: 0.154004:  70%|#####################################                | 7/10 [00:09<00:04,  1.42s/it][I 2023-08-08 20:39:38,662] Trial 33 finished with value: 0.15400404767015569 and parameters: {'bagging_fraction': 0.9670379046608691, 'bagging_freq': 1}. Best is trial 33 with value: 0.15400404767015569.\n",
      "bagging, val_score: 0.154004:  70%|#####################################                | 7/10 [00:09<00:04,  1.42s/it]"
     ]
    },
    {
     "name": "stdout",
     "output_type": "stream",
     "text": [
      "[100]\tcv_agg's l2: 0.160543 + 0.0166317\n",
      "[200]\tcv_agg's l2: 0.15931 + 0.01614\n"
     ]
    },
    {
     "name": "stderr",
     "output_type": "stream",
     "text": [
      "bagging, val_score: 0.154004:  80%|##########################################4          | 8/10 [00:10<00:02,  1.47s/it][I 2023-08-08 20:39:40,240] Trial 34 finished with value: 0.15904798303844286 and parameters: {'bagging_fraction': 0.9636304713583382, 'bagging_freq': 1}. Best is trial 33 with value: 0.15400404767015569.\n",
      "bagging, val_score: 0.154004:  80%|##########################################4          | 8/10 [00:10<00:02,  1.47s/it]"
     ]
    },
    {
     "name": "stdout",
     "output_type": "stream",
     "text": [
      "[300]\tcv_agg's l2: 0.159203 + 0.0156095\n",
      "Early stopping, best iteration is:\n",
      "[235]\tcv_agg's l2: 0.154004 + 0.015837\n",
      "[100]\tcv_agg's l2: 0.154721 + 0.0184412\n"
     ]
    },
    {
     "name": "stderr",
     "output_type": "stream",
     "text": [
      "\r",
      "bagging, val_score: 0.152692:  80%|##########################################4          | 8/10 [00:11<00:02,  1.47s/it]"
     ]
    },
    {
     "name": "stdout",
     "output_type": "stream",
     "text": [
      "[200]\tcv_agg's l2: 0.153631 + 0.017634\n",
      "Early stopping, best iteration is:\n",
      "[140]\tcv_agg's l2: 0.152692 + 0.0175905\n"
     ]
    },
    {
     "name": "stderr",
     "output_type": "stream",
     "text": [
      "bagging, val_score: 0.152692:  90%|###############################################7     | 9/10 [00:11<00:01,  1.36s/it][I 2023-08-08 20:39:41,343] Trial 35 finished with value: 0.15269150923148997 and parameters: {'bagging_fraction': 0.937718545708761, 'bagging_freq': 1}. Best is trial 35 with value: 0.15269150923148997.\n",
      "bagging, val_score: 0.152692:  90%|###############################################7     | 9/10 [00:11<00:01,  1.36s/it]"
     ]
    },
    {
     "name": "stdout",
     "output_type": "stream",
     "text": [
      "[100]\tcv_agg's l2: 0.166487 + 0.0228445\n",
      "[200]\tcv_agg's l2: 0.160733 + 0.018057\n",
      "Early stopping, best iteration is:\n",
      "[140]\tcv_agg's l2: 0.152692 + 0.0175905\n"
     ]
    },
    {
     "name": "stderr",
     "output_type": "stream",
     "text": [
      "bagging, val_score: 0.152692: 100%|####################################################| 10/10 [00:13<00:00,  1.44s/it][I 2023-08-08 20:39:42,956] Trial 36 finished with value: 0.162463644952162 and parameters: {'bagging_fraction': 0.8754680444863844, 'bagging_freq': 3}. Best is trial 35 with value: 0.15269150923148997.\n",
      "bagging, val_score: 0.152692: 100%|####################################################| 10/10 [00:13<00:00,  1.35s/it]\n",
      "feature_fraction_stage2, val_score: 0.152692:   0%|                                              | 0/3 [00:00<?, ?it/s]"
     ]
    },
    {
     "name": "stdout",
     "output_type": "stream",
     "text": [
      "[100]\tcv_agg's l2: 0.165277 + 0.0212035\n",
      "[200]\tcv_agg's l2: 0.162209 + 0.0185305\n"
     ]
    },
    {
     "name": "stderr",
     "output_type": "stream",
     "text": [
      "feature_fraction_stage2, val_score: 0.152692:  33%|############6                         | 1/3 [00:01<00:03,  1.70s/it][I 2023-08-08 20:39:44,664] Trial 37 finished with value: 0.16249668118421554 and parameters: {'feature_fraction': 0.44800000000000006}. Best is trial 37 with value: 0.16249668118421554.\n",
      "feature_fraction_stage2, val_score: 0.152692:  33%|############6                         | 1/3 [00:01<00:03,  1.70s/it]"
     ]
    },
    {
     "name": "stdout",
     "output_type": "stream",
     "text": [
      "Early stopping, best iteration is:\n",
      "[140]\tcv_agg's l2: 0.152692 + 0.0175905\n",
      "[100]\tcv_agg's l2: 0.154721 + 0.0184412\n",
      "[200]\tcv_agg's l2: 0.153631 + 0.017634\n"
     ]
    },
    {
     "name": "stderr",
     "output_type": "stream",
     "text": [
      "feature_fraction_stage2, val_score: 0.152692:  67%|#########################3            | 2/3 [00:03<00:01,  1.55s/it][I 2023-08-08 20:39:46,109] Trial 38 finished with value: 0.15269150923148997 and parameters: {'feature_fraction': 0.41600000000000004}. Best is trial 38 with value: 0.15269150923148997.\n",
      "feature_fraction_stage2, val_score: 0.152692:  67%|#########################3            | 2/3 [00:03<00:01,  1.55s/it]"
     ]
    },
    {
     "name": "stdout",
     "output_type": "stream",
     "text": [
      "Early stopping, best iteration is:\n",
      "[140]\tcv_agg's l2: 0.152692 + 0.0175905\n",
      "[100]\tcv_agg's l2: 0.165277 + 0.0212035\n",
      "[200]\tcv_agg's l2: 0.162209 + 0.0185305\n"
     ]
    },
    {
     "name": "stderr",
     "output_type": "stream",
     "text": [
      "feature_fraction_stage2, val_score: 0.152692: 100%|######################################| 3/3 [00:04<00:00,  1.45s/it][I 2023-08-08 20:39:47,446] Trial 39 finished with value: 0.16249668118421554 and parameters: {'feature_fraction': 0.48000000000000004}. Best is trial 38 with value: 0.15269150923148997.\n",
      "feature_fraction_stage2, val_score: 0.152692: 100%|######################################| 3/3 [00:04<00:00,  1.49s/it]\n"
     ]
    },
    {
     "name": "stdout",
     "output_type": "stream",
     "text": [
      "Early stopping, best iteration is:\n",
      "[140]\tcv_agg's l2: 0.152692 + 0.0175905\n"
     ]
    },
    {
     "name": "stderr",
     "output_type": "stream",
     "text": [
      "regularization_factors, val_score: 0.152692:   0%|                                              | 0/20 [00:00<?, ?it/s]"
     ]
    },
    {
     "name": "stdout",
     "output_type": "stream",
     "text": [
      "[100]\tcv_agg's l2: 0.210638 + 0.034404\n",
      "[200]\tcv_agg's l2: 0.202178 + 0.0322065\n"
     ]
    },
    {
     "name": "stderr",
     "output_type": "stream",
     "text": [
      "regularization_factors, val_score: 0.152692:   5%|#9                                    | 1/20 [00:00<00:10,  1.81it/s][I 2023-08-08 20:39:48,005] Trial 40 finished with value: 0.20499559349135804 and parameters: {'lambda_l1': 5.714015154250129, 'lambda_l2': 0.021214919336222136}. Best is trial 40 with value: 0.20499559349135804.\n",
      "regularization_factors, val_score: 0.152692:   5%|#9                                    | 1/20 [00:00<00:10,  1.81it/s]"
     ]
    },
    {
     "name": "stdout",
     "output_type": "stream",
     "text": [
      "Early stopping, best iteration is:\n",
      "[140]\tcv_agg's l2: 0.152692 + 0.0175905\n",
      "[100]\tcv_agg's l2: 0.154721 + 0.0184412\n",
      "[200]\tcv_agg's l2: 0.153631 + 0.017634\n"
     ]
    },
    {
     "name": "stderr",
     "output_type": "stream",
     "text": [
      "regularization_factors, val_score: 0.152692:  10%|###8                                  | 2/20 [00:02<00:20,  1.17s/it][I 2023-08-08 20:39:49,601] Trial 41 finished with value: 0.1526915092287941 and parameters: {'lambda_l1': 2.534660334818753e-08, 'lambda_l2': 1.0450387130720618e-08}. Best is trial 41 with value: 0.1526915092287941.\n",
      "regularization_factors, val_score: 0.152692:  10%|###8                                  | 2/20 [00:02<00:20,  1.17s/it]"
     ]
    },
    {
     "name": "stdout",
     "output_type": "stream",
     "text": [
      "Early stopping, best iteration is:\n",
      "[140]\tcv_agg's l2: 0.152692 + 0.0175905\n",
      "[100]\tcv_agg's l2: 0.154721 + 0.0184412\n",
      "[200]\tcv_agg's l2: 0.153631 + 0.017634\n"
     ]
    },
    {
     "name": "stderr",
     "output_type": "stream",
     "text": [
      "regularization_factors, val_score: 0.152692:  15%|#####7                                | 3/20 [00:03<00:24,  1.43s/it][I 2023-08-08 20:39:51,349] Trial 42 finished with value: 0.15269150926576244 and parameters: {'lambda_l1': 6.28568151995374e-08, 'lambda_l2': 1.7209725689241792e-08}. Best is trial 41 with value: 0.1526915092287941.\n",
      "regularization_factors, val_score: 0.152692:  15%|#####7                                | 3/20 [00:03<00:24,  1.43s/it]"
     ]
    },
    {
     "name": "stdout",
     "output_type": "stream",
     "text": [
      "Early stopping, best iteration is:\n",
      "[140]\tcv_agg's l2: 0.152692 + 0.0175905\n",
      "[100]\tcv_agg's l2: 0.154721 + 0.0184412\n"
     ]
    },
    {
     "name": "stderr",
     "output_type": "stream",
     "text": [
      "regularization_factors, val_score: 0.152692:  20%|#######6                              | 4/20 [00:04<00:20,  1.29s/it][I 2023-08-08 20:39:52,426] Trial 43 finished with value: 0.15269150920453148 and parameters: {'lambda_l1': 1.0169694263402644e-08, 'lambda_l2': 1.085598507660064e-08}. Best is trial 43 with value: 0.15269150920453148.\n",
      "regularization_factors, val_score: 0.152692:  20%|#######6                              | 4/20 [00:04<00:20,  1.29s/it]"
     ]
    },
    {
     "name": "stdout",
     "output_type": "stream",
     "text": [
      "[200]\tcv_agg's l2: 0.153631 + 0.017634\n",
      "Early stopping, best iteration is:\n",
      "[140]\tcv_agg's l2: 0.152692 + 0.0175905\n",
      "[100]\tcv_agg's l2: 0.154721 + 0.0184412\n",
      "[200]\tcv_agg's l2: 0.153631 + 0.017634\n"
     ]
    },
    {
     "name": "stderr",
     "output_type": "stream",
     "text": [
      "regularization_factors, val_score: 0.152692:  25%|#########5                            | 5/20 [00:06<00:20,  1.38s/it][I 2023-08-08 20:39:53,966] Trial 44 finished with value: 0.15269150923510344 and parameters: {'lambda_l1': 1.1266289736840986e-08, 'lambda_l2': 2.3992868972535486e-08}. Best is trial 43 with value: 0.15269150920453148.\n",
      "regularization_factors, val_score: 0.152692:  25%|#########5                            | 5/20 [00:06<00:20,  1.38s/it]"
     ]
    },
    {
     "name": "stdout",
     "output_type": "stream",
     "text": [
      "Early stopping, best iteration is:\n",
      "[140]\tcv_agg's l2: 0.152692 + 0.0175905\n",
      "[100]\tcv_agg's l2: 0.154721 + 0.0184412\n",
      "[200]\tcv_agg's l2: 0.153631 + 0.017634\n"
     ]
    },
    {
     "name": "stderr",
     "output_type": "stream",
     "text": [
      "regularization_factors, val_score: 0.152692:  30%|###########4                          | 6/20 [00:08<00:20,  1.44s/it][I 2023-08-08 20:39:55,522] Trial 45 finished with value: 0.1526915091933757 and parameters: {'lambda_l1': 1.119940674352146e-08, 'lambda_l2': 1.088589033386639e-08}. Best is trial 45 with value: 0.1526915091933757.\n",
      "regularization_factors, val_score: 0.152692:  30%|###########4                          | 6/20 [00:08<00:20,  1.44s/it]"
     ]
    },
    {
     "name": "stdout",
     "output_type": "stream",
     "text": [
      "Early stopping, best iteration is:\n",
      "[140]\tcv_agg's l2: 0.152692 + 0.0175905\n",
      "[100]\tcv_agg's l2: 0.154721 + 0.0184412\n",
      "[200]\tcv_agg's l2: 0.153631 + 0.017634\n"
     ]
    },
    {
     "name": "stderr",
     "output_type": "stream",
     "text": [
      "regularization_factors, val_score: 0.152692:  35%|#############3                        | 7/20 [00:09<00:18,  1.45s/it][I 2023-08-08 20:39:56,991] Trial 46 finished with value: 0.15269150920014765 and parameters: {'lambda_l1': 1.3534618880211612e-08, 'lambda_l2': 1.578640820232383e-08}. Best is trial 45 with value: 0.1526915091933757.\n",
      "regularization_factors, val_score: 0.152692:  35%|#############3                        | 7/20 [00:09<00:18,  1.45s/it]"
     ]
    },
    {
     "name": "stdout",
     "output_type": "stream",
     "text": [
      "Early stopping, best iteration is:\n",
      "[140]\tcv_agg's l2: 0.152692 + 0.0175905\n",
      "[100]\tcv_agg's l2: 0.154721 + 0.0184412\n",
      "[200]\tcv_agg's l2: 0.153631 + 0.017634\n"
     ]
    },
    {
     "name": "stderr",
     "output_type": "stream",
     "text": [
      "regularization_factors, val_score: 0.152692:  40%|###############2                      | 8/20 [00:10<00:17,  1.44s/it][I 2023-08-08 20:39:58,422] Trial 47 finished with value: 0.1526915092074825 and parameters: {'lambda_l1': 1.0224804797279234e-08, 'lambda_l2': 1.1140627082408319e-08}. Best is trial 45 with value: 0.1526915091933757.\n",
      "regularization_factors, val_score: 0.152692:  40%|###############2                      | 8/20 [00:10<00:17,  1.44s/it]"
     ]
    },
    {
     "name": "stdout",
     "output_type": "stream",
     "text": [
      "Early stopping, best iteration is:\n",
      "[140]\tcv_agg's l2: 0.152692 + 0.0175905\n",
      "[100]\tcv_agg's l2: 0.154721 + 0.0184412\n",
      "[200]\tcv_agg's l2: 0.153631 + 0.017634\n"
     ]
    },
    {
     "name": "stderr",
     "output_type": "stream",
     "text": [
      "regularization_factors, val_score: 0.152692:  45%|#################1                    | 9/20 [00:12<00:16,  1.51s/it][I 2023-08-08 20:40:00,075] Trial 48 finished with value: 0.15269150919369975 and parameters: {'lambda_l1': 1.14581610650501e-08, 'lambda_l2': 1.0647146224363167e-08}. Best is trial 45 with value: 0.1526915091933757.\n",
      "regularization_factors, val_score: 0.152692:  45%|#################1                    | 9/20 [00:12<00:16,  1.51s/it]"
     ]
    },
    {
     "name": "stdout",
     "output_type": "stream",
     "text": [
      "Early stopping, best iteration is:\n",
      "[140]\tcv_agg's l2: 0.152692 + 0.0175905\n",
      "[100]\tcv_agg's l2: 0.154721 + 0.0184412\n",
      "[200]\tcv_agg's l2: 0.153631 + 0.017634\n"
     ]
    },
    {
     "name": "stderr",
     "output_type": "stream",
     "text": [
      "regularization_factors, val_score: 0.152692:  50%|##################5                  | 10/20 [00:14<00:15,  1.56s/it][I 2023-08-08 20:40:01,748] Trial 49 finished with value: 0.15269150921401636 and parameters: {'lambda_l1': 1.0574638009209831e-08, 'lambda_l2': 1.0120789396003086e-08}. Best is trial 45 with value: 0.1526915091933757.\n",
      "regularization_factors, val_score: 0.152692:  50%|##################5                  | 10/20 [00:14<00:15,  1.56s/it]"
     ]
    },
    {
     "name": "stdout",
     "output_type": "stream",
     "text": [
      "Early stopping, best iteration is:\n",
      "[140]\tcv_agg's l2: 0.152692 + 0.0175905\n",
      "[100]\tcv_agg's l2: 0.154721 + 0.0184412\n",
      "[200]\tcv_agg's l2: 0.153631 + 0.017634\n",
      "Early stopping, best iteration is:\n",
      "[140]\tcv_agg's l2: 0.152692 + 0.0175905\n"
     ]
    },
    {
     "name": "stderr",
     "output_type": "stream",
     "text": [
      "regularization_factors, val_score: 0.152692:  55%|####################3                | 11/20 [00:15<00:12,  1.44s/it][I 2023-08-08 20:40:02,923] Trial 50 finished with value: 0.15269150919353744 and parameters: {'lambda_l1': 1.385802141078142e-08, 'lambda_l2': 1.0037339405469422e-08}. Best is trial 45 with value: 0.1526915091933757.\n",
      "regularization_factors, val_score: 0.152692:  55%|####################3                | 11/20 [00:15<00:12,  1.44s/it]"
     ]
    },
    {
     "name": "stdout",
     "output_type": "stream",
     "text": [
      "[100]\tcv_agg's l2: 0.154721 + 0.0184412\n"
     ]
    },
    {
     "name": "stderr",
     "output_type": "stream",
     "text": [
      "regularization_factors, val_score: 0.152692:  60%|######################2              | 12/20 [00:16<00:10,  1.31s/it][I 2023-08-08 20:40:03,942] Trial 51 finished with value: 0.15269150921328872 and parameters: {'lambda_l1': 1.026810319258775e-08, 'lambda_l2': 1.4549182407974349e-08}. Best is trial 45 with value: 0.1526915091933757.\n",
      "regularization_factors, val_score: 0.152692:  60%|######################2              | 12/20 [00:16<00:10,  1.31s/it]"
     ]
    },
    {
     "name": "stdout",
     "output_type": "stream",
     "text": [
      "[200]\tcv_agg's l2: 0.153631 + 0.017634\n",
      "Early stopping, best iteration is:\n",
      "[140]\tcv_agg's l2: 0.152692 + 0.0175905\n",
      "[100]\tcv_agg's l2: 0.154721 + 0.0184412\n"
     ]
    },
    {
     "name": "stderr",
     "output_type": "stream",
     "text": [
      "regularization_factors, val_score: 0.152692:  65%|########################             | 13/20 [00:17<00:08,  1.22s/it][I 2023-08-08 20:40:04,934] Trial 52 finished with value: 0.15269150921657215 and parameters: {'lambda_l1': 1.2372671475417675e-08, 'lambda_l2': 1.391316872231086e-08}. Best is trial 45 with value: 0.1526915091933757.\n",
      "regularization_factors, val_score: 0.152692:  65%|########################             | 13/20 [00:17<00:08,  1.22s/it]"
     ]
    },
    {
     "name": "stdout",
     "output_type": "stream",
     "text": [
      "[200]\tcv_agg's l2: 0.153631 + 0.017634\n",
      "Early stopping, best iteration is:\n",
      "[140]\tcv_agg's l2: 0.152692 + 0.0175905\n",
      "[100]\tcv_agg's l2: 0.154721 + 0.0184412\n"
     ]
    },
    {
     "name": "stderr",
     "output_type": "stream",
     "text": [
      "regularization_factors, val_score: 0.152692:  70%|#########################9           | 14/20 [00:18<00:06,  1.12s/it][I 2023-08-08 20:40:05,841] Trial 53 finished with value: 0.15269150928340333 and parameters: {'lambda_l1': 2.777130624625296e-07, 'lambda_l2': 6.025665587444989e-07}. Best is trial 45 with value: 0.1526915091933757.\n",
      "regularization_factors, val_score: 0.152692:  70%|#########################9           | 14/20 [00:18<00:06,  1.12s/it]"
     ]
    },
    {
     "name": "stdout",
     "output_type": "stream",
     "text": [
      "[200]\tcv_agg's l2: 0.153631 + 0.017634\n",
      "Early stopping, best iteration is:\n",
      "[140]\tcv_agg's l2: 0.152692 + 0.0175905\n",
      "[100]\tcv_agg's l2: 0.154721 + 0.0184412\n"
     ]
    },
    {
     "name": "stderr",
     "output_type": "stream",
     "text": [
      "regularization_factors, val_score: 0.152692:  75%|###########################7         | 15/20 [00:19<00:05,  1.08s/it][I 2023-08-08 20:40:06,810] Trial 54 finished with value: 0.15269150952011382 and parameters: {'lambda_l1': 7.476278157256046e-07, 'lambda_l2': 5.78088923276052e-07}. Best is trial 45 with value: 0.1526915091933757.\n",
      "regularization_factors, val_score: 0.152692:  75%|###########################7         | 15/20 [00:19<00:05,  1.08s/it]"
     ]
    },
    {
     "name": "stdout",
     "output_type": "stream",
     "text": [
      "[200]\tcv_agg's l2: 0.153815 + 0.0177404\n",
      "Early stopping, best iteration is:\n",
      "[140]\tcv_agg's l2: 0.152692 + 0.0175905\n",
      "[100]\tcv_agg's l2: 0.154721 + 0.0184412\n"
     ]
    },
    {
     "name": "stderr",
     "output_type": "stream",
     "text": [
      "regularization_factors, val_score: 0.152692:  80%|#############################6       | 16/20 [00:20<00:04,  1.03s/it][I 2023-08-08 20:40:07,720] Trial 55 finished with value: 0.15269150942002702 and parameters: {'lambda_l1': 3.818685837807309e-07, 'lambda_l2': 1.9405621369691132e-07}. Best is trial 45 with value: 0.1526915091933757.\n",
      "regularization_factors, val_score: 0.152692:  80%|#############################6       | 16/20 [00:20<00:04,  1.03s/it]"
     ]
    },
    {
     "name": "stdout",
     "output_type": "stream",
     "text": [
      "[200]\tcv_agg's l2: 0.1537 + 0.0176736\n",
      "Early stopping, best iteration is:\n",
      "[140]\tcv_agg's l2: 0.152692 + 0.0175905\n",
      "[100]\tcv_agg's l2: 0.154721 + 0.0184412\n"
     ]
    },
    {
     "name": "stderr",
     "output_type": "stream",
     "text": [
      "regularization_factors, val_score: 0.152692:  85%|###############################4     | 17/20 [00:21<00:02,  1.00it/s][I 2023-08-08 20:40:08,651] Trial 56 finished with value: 0.1526915091806909 and parameters: {'lambda_l1': 1.1447971668348667e-08, 'lambda_l2': 2.1743917617306121e-07}. Best is trial 56 with value: 0.1526915091806909.\n",
      "regularization_factors, val_score: 0.152692:  85%|###############################4     | 17/20 [00:21<00:02,  1.00it/s]"
     ]
    },
    {
     "name": "stdout",
     "output_type": "stream",
     "text": [
      "[200]\tcv_agg's l2: 0.153631 + 0.017634\n",
      "Early stopping, best iteration is:\n",
      "[140]\tcv_agg's l2: 0.152692 + 0.0175905\n",
      "[100]\tcv_agg's l2: 0.154721 + 0.0184412\n"
     ]
    },
    {
     "name": "stderr",
     "output_type": "stream",
     "text": [
      "regularization_factors, val_score: 0.152692:  90%|#################################3   | 18/20 [00:22<00:01,  1.03it/s][I 2023-08-08 20:40:09,555] Trial 57 finished with value: 0.15269150938459683 and parameters: {'lambda_l1': 3.94220993058297e-07, 'lambda_l2': 2.2266372117927355e-07}. Best is trial 56 with value: 0.1526915091806909.\n",
      "regularization_factors, val_score: 0.152692:  90%|#################################3   | 18/20 [00:22<00:01,  1.03it/s]"
     ]
    },
    {
     "name": "stdout",
     "output_type": "stream",
     "text": [
      "[200]\tcv_agg's l2: 0.1537 + 0.0176736\n",
      "Early stopping, best iteration is:\n",
      "[140]\tcv_agg's l2: 0.152692 + 0.0175905\n",
      "[100]\tcv_agg's l2: 0.154721 + 0.0184412\n"
     ]
    },
    {
     "name": "stderr",
     "output_type": "stream",
     "text": [
      "regularization_factors, val_score: 0.152692:  95%|###################################1 | 19/20 [00:23<00:00,  1.03it/s][I 2023-08-08 20:40:10,533] Trial 58 finished with value: 0.15269150920079277 and parameters: {'lambda_l1': 1.2003900791182933e-07, 'lambda_l2': 2.968807764617735e-07}. Best is trial 56 with value: 0.1526915091806909.\n",
      "regularization_factors, val_score: 0.152692:  95%|###################################1 | 19/20 [00:23<00:00,  1.03it/s]"
     ]
    },
    {
     "name": "stdout",
     "output_type": "stream",
     "text": [
      "[200]\tcv_agg's l2: 0.153631 + 0.017634\n",
      "Early stopping, best iteration is:\n",
      "[140]\tcv_agg's l2: 0.152692 + 0.0175905\n",
      "[100]\tcv_agg's l2: 0.154721 + 0.0184412\n"
     ]
    },
    {
     "name": "stderr",
     "output_type": "stream",
     "text": [
      "regularization_factors, val_score: 0.152692: 100%|#####################################| 20/20 [00:24<00:00,  1.00s/it][I 2023-08-08 20:40:11,607] Trial 59 finished with value: 0.1526915067642684 and parameters: {'lambda_l1': 1.7411338166394333e-07, 'lambda_l2': 4.39802060157749e-06}. Best is trial 59 with value: 0.1526915067642684.\n",
      "regularization_factors, val_score: 0.152692: 100%|#####################################| 20/20 [00:24<00:00,  1.21s/it]\n"
     ]
    },
    {
     "name": "stdout",
     "output_type": "stream",
     "text": [
      "[200]\tcv_agg's l2: 0.153631 + 0.017634\n",
      "Early stopping, best iteration is:\n",
      "[140]\tcv_agg's l2: 0.152692 + 0.0175905\n"
     ]
    },
    {
     "name": "stderr",
     "output_type": "stream",
     "text": [
      "min_data_in_leaf, val_score: 0.152692:   0%|                                                     | 0/5 [00:00<?, ?it/s]"
     ]
    },
    {
     "name": "stdout",
     "output_type": "stream",
     "text": [
      "[100]\tcv_agg's l2: 0.143268 + 0.0132265\n",
      "[200]\tcv_agg's l2: 0.141448 + 0.0131666\n",
      "[300]\tcv_agg's l2: 0.1408 + 0.0132666\n"
     ]
    },
    {
     "name": "stderr",
     "output_type": "stream",
     "text": [
      "min_data_in_leaf, val_score: 0.140712:  20%|#########                                    | 1/5 [00:01<00:07,  1.94s/it][I 2023-08-08 20:40:13,556] Trial 60 finished with value: 0.14071203777245567 and parameters: {'min_child_samples': 5}. Best is trial 60 with value: 0.14071203777245567.\n",
      "min_data_in_leaf, val_score: 0.140712:  20%|#########                                    | 1/5 [00:01<00:07,  1.94s/it]"
     ]
    },
    {
     "name": "stdout",
     "output_type": "stream",
     "text": [
      "[400]\tcv_agg's l2: 0.140774 + 0.0132473\n",
      "Early stopping, best iteration is:\n",
      "[311]\tcv_agg's l2: 0.140712 + 0.0131763\n",
      "[100]\tcv_agg's l2: 0.174662 + 0.0202721\n",
      "[200]\tcv_agg's l2: 0.168099 + 0.0163938\n",
      "[300]\tcv_agg's l2: 0.167474 + 0.0155254\n"
     ]
    },
    {
     "name": "stderr",
     "output_type": "stream",
     "text": [
      "min_data_in_leaf, val_score: 0.140712:  40%|##################                           | 2/5 [00:03<00:04,  1.58s/it][I 2023-08-08 20:40:14,882] Trial 61 finished with value: 0.16759698601629697 and parameters: {'min_child_samples': 25}. Best is trial 60 with value: 0.14071203777245567.\n",
      "min_data_in_leaf, val_score: 0.140712:  40%|##################                           | 2/5 [00:03<00:04,  1.58s/it]"
     ]
    },
    {
     "name": "stdout",
     "output_type": "stream",
     "text": [
      "[400]\tcv_agg's l2: 0.167684 + 0.0154575\n",
      "Early stopping, best iteration is:\n",
      "[311]\tcv_agg's l2: 0.140712 + 0.0131763\n",
      "[100]\tcv_agg's l2: 0.140139 + 0.0125047\n",
      "[200]\tcv_agg's l2: 0.139331 + 0.0121431\n"
     ]
    },
    {
     "name": "stderr",
     "output_type": "stream",
     "text": [
      "min_data_in_leaf, val_score: 0.139218:  60%|###########################                  | 3/5 [00:04<00:02,  1.50s/it][I 2023-08-08 20:40:16,282] Trial 62 finished with value: 0.1392182981112245 and parameters: {'min_child_samples': 10}. Best is trial 62 with value: 0.1392182981112245.\n",
      "min_data_in_leaf, val_score: 0.139218:  60%|###########################                  | 3/5 [00:04<00:02,  1.50s/it]"
     ]
    },
    {
     "name": "stdout",
     "output_type": "stream",
     "text": [
      "Early stopping, best iteration is:\n",
      "[197]\tcv_agg's l2: 0.139218 + 0.0121022\n",
      "[100]\tcv_agg's l2: 0.833317 + 0.139641\n",
      "[200]\tcv_agg's l2: 0.80305 + 0.147838\n"
     ]
    },
    {
     "name": "stderr",
     "output_type": "stream",
     "text": [
      "min_data_in_leaf, val_score: 0.139218:  80%|####################################         | 4/5 [00:05<00:01,  1.12s/it][I 2023-08-08 20:40:16,828] Trial 63 finished with value: 0.803468291351771 and parameters: {'min_child_samples': 100}. Best is trial 62 with value: 0.1392182981112245.\n",
      "min_data_in_leaf, val_score: 0.139218:  80%|####################################         | 4/5 [00:05<00:01,  1.12s/it]"
     ]
    },
    {
     "name": "stdout",
     "output_type": "stream",
     "text": [
      "Early stopping, best iteration is:\n",
      "[197]\tcv_agg's l2: 0.139218 + 0.0121022\n",
      "[100]\tcv_agg's l2: 0.248135 + 0.0223375\n",
      "[200]\tcv_agg's l2: 0.23056 + 0.0261669\n"
     ]
    },
    {
     "name": "stderr",
     "output_type": "stream",
     "text": [
      "min_data_in_leaf, val_score: 0.139218: 100%|#############################################| 5/5 [00:05<00:00,  1.05it/s][I 2023-08-08 20:40:17,484] Trial 64 finished with value: 0.2305001740973524 and parameters: {'min_child_samples': 50}. Best is trial 62 with value: 0.1392182981112245.\n",
      "min_data_in_leaf, val_score: 0.139218: 100%|#############################################| 5/5 [00:05<00:00,  1.17s/it]"
     ]
    },
    {
     "name": "stdout",
     "output_type": "stream",
     "text": [
      "Early stopping, best iteration is:\n",
      "[197]\tcv_agg's l2: 0.139218 + 0.0121022\n"
     ]
    },
    {
     "name": "stderr",
     "output_type": "stream",
     "text": [
      "\n"
     ]
    }
   ],
   "source": [
    "import optuna.integration.lightgbm as lgb\n",
    "from lightgbm import early_stopping, log_evaluation\n",
    "from sklearn.model_selection import KFold\n",
    "from sklearn.model_selection import RepeatedKFold\n",
    "\n",
    "\n",
    "lgb_train = lgb.Dataset(X_train, y_train)\n",
    "\n",
    "params = {\n",
    "    \"boosting_type\": \"gbdt\",\n",
    "    \"objective\": \"regression\",\n",
    "    \"metric\": \"l2\",\n",
    "    \"verbosity\": -1,\n",
    "}\n",
    "\n",
    "tuner = lgb.LightGBMTunerCV(\n",
    "    params,\n",
    "    lgb_train,\n",
    "    folds=KFold(n_splits=5),\n",
    "    num_boost_round=10000,\n",
    "    callbacks=[early_stopping(100), log_evaluation(100)],\n",
    ")\n",
    "\n",
    "tuner.run()"
   ]
  },
  {
   "cell_type": "code",
   "execution_count": 14,
   "id": "1f3e9e7d",
   "metadata": {
    "scrolled": true
   },
   "outputs": [
    {
     "name": "stdout",
     "output_type": "stream",
     "text": [
      "Best score: 0.1392182981112245\n",
      "Params: \n",
      "    boosting_type: gbdt\n",
      "    objective: regression\n",
      "    metric: l2\n",
      "    verbosity: -1\n",
      "    feature_pre_filter: False\n",
      "    lambda_l1: 1.7411338166394333e-07\n",
      "    lambda_l2: 4.39802060157749e-06\n",
      "    num_leaves: 31\n",
      "    feature_fraction: 0.4\n",
      "    bagging_fraction: 0.937718545708761\n",
      "    bagging_freq: 1\n",
      "    min_child_samples: 10\n"
     ]
    }
   ],
   "source": [
    "print(f\"Best score: {tuner.best_score}\")\n",
    "best_params = tuner.best_params\n",
    "print(\"Params: \")\n",
    "for key, value in best_params.items():\n",
    "    print(\"    {}: {}\".format(key, value))"
   ]
  },
  {
   "cell_type": "code",
   "execution_count": 15,
   "id": "8eb2b093",
   "metadata": {
    "scrolled": true
   },
   "outputs": [
    {
     "name": "stdout",
     "output_type": "stream",
     "text": [
      "MSE: 0.20\n",
      "RMSE: 0.45\n"
     ]
    }
   ],
   "source": [
    "import lightgbm as lgb\n",
    "\n",
    "lgb_tuned = lgb.train(\n",
    "    best_params,\n",
    "    lgb_train,\n",
    "    num_boost_round=10000,\n",
    ")\n",
    "\n",
    "y_pred = lgb_tuned.predict(X_test)\n",
    "\n",
    "mse = mean_squared_error(y_test, y_pred)\n",
    "rmse = mean_squared_error(y_test, y_pred, squared=False)\n",
    "print(f\"MSE: {mse:.2f}\")\n",
    "print(f\"RMSE: {rmse:.2f}\")"
   ]
  },
  {
   "cell_type": "markdown",
   "id": "259dbcd4",
   "metadata": {},
   "source": [
    "Really good results."
   ]
  },
  {
   "cell_type": "markdown",
   "id": "73d2a0b4",
   "metadata": {},
   "source": [
    "#### Rounded results"
   ]
  },
  {
   "cell_type": "code",
   "execution_count": 16,
   "id": "b4ce0638",
   "metadata": {},
   "outputs": [],
   "source": [
    "predict = lgb_tuned.predict(X_test)\n",
    "round_predict = np.round(predict).astype(\"int\")\n",
    "round_predict = np.where(round_predict > 20, 21, round_predict)\n",
    "threshold33 = 0.33\n",
    "round_predict_lower_threshold33 = np.where(\n",
    "    (predict % 1) > threshold33, np.ceil(predict), np.floor(predict)\n",
    ").astype(\"int\")\n",
    "threshold45 = 0.45\n",
    "round_predict_lower_threshold45 = np.where(\n",
    "    (predict % 1) > threshold45, np.ceil(predict), np.floor(predict)\n",
    ").astype(\"int\")"
   ]
  },
  {
   "cell_type": "code",
   "execution_count": 17,
   "id": "203bb431",
   "metadata": {},
   "outputs": [],
   "source": [
    "def check_predictions(y, y_pred):\n",
    "    print(f\"Mean square error: {mean_squared_error(y, y_pred):.2f}\")\n",
    "    print(f\"RMSE: {mean_squared_error(y, y_pred, squared=False):.2f}\")\n",
    "    print()"
   ]
  },
  {
   "cell_type": "code",
   "execution_count": 18,
   "id": "5cb6732e",
   "metadata": {
    "scrolled": true
   },
   "outputs": [
    {
     "name": "stdout",
     "output_type": "stream",
     "text": [
      "Normal:\n",
      "Mean square error: 0.20\n",
      "RMSE: 0.45\n",
      "\n",
      "Round:\n",
      "Mean square error: 0.22\n",
      "RMSE: 0.47\n",
      "\n",
      "Round lower threshold = 0.33:\n",
      "Mean square error: 0.24\n",
      "RMSE: 0.49\n",
      "\n",
      "Round lower threshold = 0.45:\n",
      "Mean square error: 0.22\n",
      "RMSE: 0.47\n",
      "\n"
     ]
    }
   ],
   "source": [
    "print(\"Normal:\")\n",
    "check_predictions(y_test, predict)\n",
    "\n",
    "print(\"Round:\")\n",
    "check_predictions(y_test, round_predict)\n",
    "\n",
    "print(\"Round lower threshold = 0.33:\")\n",
    "check_predictions(y_test, round_predict_lower_threshold33)\n",
    "\n",
    "print(\"Round lower threshold = 0.45:\")\n",
    "check_predictions(y_test, round_predict_lower_threshold45)"
   ]
  },
  {
   "cell_type": "markdown",
   "id": "0ff44e72",
   "metadata": {},
   "source": [
    "#### Confusion matrix"
   ]
  },
  {
   "cell_type": "code",
   "execution_count": 19,
   "id": "54c43961",
   "metadata": {
    "scrolled": true
   },
   "outputs": [
    {
     "data": {
      "image/png": "[encoded data removed]",
      "text/plain": [
       "<Figure size 432x288 with 2 Axes>"
      ]
     },
     "metadata": {
      "needs_background": "light"
     },
     "output_type": "display_data"
    }
   ],
   "source": [
    "from sklearn.metrics import confusion_matrix, ConfusionMatrixDisplay\n",
    "import matplotlib.pyplot as plt\n",
    "\n",
    "cm = confusion_matrix(y_test, round_predict)\n",
    "\n",
    "disp = ConfusionMatrixDisplay(confusion_matrix=cm, display_labels=np.arange(-1, 22))\n",
    "\n",
    "disp.plot()\n",
    "plt.title(\"Confusion matrix\")\n",
    "plt.show()"
   ]
  },
  {
   "cell_type": "code",
   "execution_count": 20,
   "id": "72f61300",
   "metadata": {
    "scrolled": false
   },
   "outputs": [
    {
     "data": {
      "image/png": "[encoded data removed]",
      "text/plain": [
       "<Figure size 432x288 with 2 Axes>"
      ]
     },
     "metadata": {
      "needs_background": "light"
     },
     "output_type": "display_data"
    }
   ],
   "source": [
    "from sklearn.metrics import confusion_matrix, ConfusionMatrixDisplay\n",
    "import matplotlib.pyplot as plt\n",
    "\n",
    "cm = confusion_matrix(y_test, round_predict_lower_threshold33)\n",
    "\n",
    "disp = ConfusionMatrixDisplay(confusion_matrix=cm, display_labels=np.arange(-1, 22))\n",
    "\n",
    "disp.plot()\n",
    "plt.title(\"Confusion matrix with lower threshold\")\n",
    "plt.show()"
   ]
  },
  {
   "cell_type": "code",
   "execution_count": 21,
   "id": "9bf7c166",
   "metadata": {},
   "outputs": [
    {
     "data": {
      "image/png": "[encoded data removed]",
      "text/plain": [
       "<Figure size 432x288 with 2 Axes>"
      ]
     },
     "metadata": {
      "needs_background": "light"
     },
     "output_type": "display_data"
    }
   ],
   "source": [
    "from sklearn.metrics import confusion_matrix, ConfusionMatrixDisplay\n",
    "import matplotlib.pyplot as plt\n",
    "\n",
    "cm = confusion_matrix(y_test, round_predict_lower_threshold45)\n",
    "\n",
    "disp = ConfusionMatrixDisplay(confusion_matrix=cm, display_labels=np.arange(-1, 22))\n",
    "\n",
    "disp.plot()\n",
    "plt.title(\"Confusion matrix with lower threshold\")\n",
    "plt.show()"
   ]
  },
  {
   "cell_type": "markdown",
   "id": "b4a314fd",
   "metadata": {},
   "source": [
    "Predicted values still tend to be lower than real ones, but lowering threshold doesn't help. It usually makes predictions too high. I would leave threshold at 0.5."
   ]
  },
  {
   "cell_type": "markdown",
   "id": "e910885d",
   "metadata": {},
   "source": [
    "### With random split"
   ]
  },
  {
   "cell_type": "code",
   "execution_count": 22,
   "id": "40d94661",
   "metadata": {
    "scrolled": true
   },
   "outputs": [
    {
     "name": "stderr",
     "output_type": "stream",
     "text": [
      "[I 2023-08-08 20:40:30,498] A new study created in memory with name: no-name-7d1609d6-62e0-4c93-9991-78d7bf30b78d\n",
      "feature_fraction, val_score: inf:   0%|                                                          | 0/7 [00:00<?, ?it/s]"
     ]
    },
    {
     "name": "stdout",
     "output_type": "stream",
     "text": [
      "Training until validation scores don't improve for 100 rounds\n",
      "[100]\tcv_agg's l2: 0.181112 + 0.0407863\n",
      "[200]\tcv_agg's l2: 0.180945 + 0.0392632\n"
     ]
    },
    {
     "name": "stderr",
     "output_type": "stream",
     "text": [
      "feature_fraction, val_score: 0.180415:  14%|######4                                      | 1/7 [00:01<00:06,  1.13s/it][I 2023-08-08 20:40:31,637] Trial 0 finished with value: 0.18041484030189794 and parameters: {'feature_fraction': 0.8}. Best is trial 0 with value: 0.18041484030189794.\n",
      "feature_fraction, val_score: 0.180415:  14%|######4                                      | 1/7 [00:01<00:06,  1.13s/it]"
     ]
    },
    {
     "name": "stdout",
     "output_type": "stream",
     "text": [
      "Early stopping, best iteration is:\n",
      "[161]\tcv_agg's l2: 0.180415 + 0.0396566\n",
      "[100]\tcv_agg's l2: 0.171143 + 0.0324049\n",
      "[200]\tcv_agg's l2: 0.171826 + 0.0303752\n"
     ]
    },
    {
     "name": "stderr",
     "output_type": "stream",
     "text": [
      "feature_fraction, val_score: 0.171004:  29%|############8                                | 2/7 [00:03<00:08,  1.69s/it][I 2023-08-08 20:40:33,717] Trial 1 finished with value: 0.17100427482699862 and parameters: {'feature_fraction': 0.7}. Best is trial 1 with value: 0.17100427482699862.\n",
      "feature_fraction, val_score: 0.171004:  29%|############8                                | 2/7 [00:03<00:08,  1.69s/it]"
     ]
    },
    {
     "name": "stdout",
     "output_type": "stream",
     "text": [
      "Early stopping, best iteration is:\n",
      "[165]\tcv_agg's l2: 0.171004 + 0.0312126\n",
      "[100]\tcv_agg's l2: 0.166328 + 0.0217212\n",
      "[200]\tcv_agg's l2: 0.165723 + 0.021112\n"
     ]
    },
    {
     "name": "stderr",
     "output_type": "stream",
     "text": [
      "feature_fraction, val_score: 0.165202:  43%|###################2                         | 3/7 [00:05<00:07,  1.84s/it][I 2023-08-08 20:40:35,737] Trial 2 finished with value: 0.16520221997868328 and parameters: {'feature_fraction': 0.4}. Best is trial 2 with value: 0.16520221997868328.\n",
      "feature_fraction, val_score: 0.165202:  43%|###################2                         | 3/7 [00:05<00:07,  1.84s/it]"
     ]
    },
    {
     "name": "stdout",
     "output_type": "stream",
     "text": [
      "Early stopping, best iteration is:\n",
      "[165]\tcv_agg's l2: 0.165202 + 0.0205454\n",
      "[100]\tcv_agg's l2: 0.164516 + 0.0237532\n",
      "[200]\tcv_agg's l2: 0.164344 + 0.0211735\n"
     ]
    },
    {
     "name": "stderr",
     "output_type": "stream",
     "text": [
      "feature_fraction, val_score: 0.163729:  57%|#########################7                   | 4/7 [00:06<00:05,  1.81s/it][I 2023-08-08 20:40:37,496] Trial 3 finished with value: 0.16372880972386097 and parameters: {'feature_fraction': 0.5}. Best is trial 3 with value: 0.16372880972386097.\n",
      "feature_fraction, val_score: 0.163729:  57%|#########################7                   | 4/7 [00:06<00:05,  1.81s/it]"
     ]
    },
    {
     "name": "stdout",
     "output_type": "stream",
     "text": [
      "Early stopping, best iteration is:\n",
      "[147]\tcv_agg's l2: 0.163729 + 0.0221522\n",
      "[100]\tcv_agg's l2: 0.192615 + 0.0409583\n",
      "[200]\tcv_agg's l2: 0.190623 + 0.0405489\n"
     ]
    },
    {
     "name": "stderr",
     "output_type": "stream",
     "text": [
      "feature_fraction, val_score: 0.163729:  71%|################################1            | 5/7 [00:08<00:03,  1.81s/it][I 2023-08-08 20:40:39,306] Trial 4 finished with value: 0.1900506481787708 and parameters: {'feature_fraction': 1.0}. Best is trial 3 with value: 0.16372880972386097.\n",
      "feature_fraction, val_score: 0.163729:  71%|################################1            | 5/7 [00:08<00:03,  1.81s/it]"
     ]
    },
    {
     "name": "stdout",
     "output_type": "stream",
     "text": [
      "Early stopping, best iteration is:\n",
      "[147]\tcv_agg's l2: 0.163729 + 0.0221522\n",
      "[100]\tcv_agg's l2: 0.193393 + 0.0521645\n",
      "[200]\tcv_agg's l2: 0.192682 + 0.051388\n"
     ]
    },
    {
     "name": "stderr",
     "output_type": "stream",
     "text": [
      "feature_fraction, val_score: 0.163729:  86%|######################################5      | 6/7 [00:10<00:01,  1.60s/it][I 2023-08-08 20:40:40,508] Trial 5 finished with value: 0.1929562848759969 and parameters: {'feature_fraction': 0.8999999999999999}. Best is trial 3 with value: 0.16372880972386097.\n",
      "feature_fraction, val_score: 0.163729:  86%|######################################5      | 6/7 [00:10<00:01,  1.60s/it]"
     ]
    },
    {
     "name": "stdout",
     "output_type": "stream",
     "text": [
      "Early stopping, best iteration is:\n",
      "[147]\tcv_agg's l2: 0.163729 + 0.0221522\n",
      "[100]\tcv_agg's l2: 0.164372 + 0.0259736\n",
      "[200]\tcv_agg's l2: 0.167231 + 0.0220458\n"
     ]
    },
    {
     "name": "stderr",
     "output_type": "stream",
     "text": [
      "feature_fraction, val_score: 0.163729: 100%|#############################################| 7/7 [00:11<00:00,  1.49s/it][I 2023-08-08 20:40:41,775] Trial 6 finished with value: 0.16628582234229103 and parameters: {'feature_fraction': 0.6}. Best is trial 3 with value: 0.16372880972386097.\n",
      "feature_fraction, val_score: 0.163729: 100%|#############################################| 7/7 [00:11<00:00,  1.61s/it]\n"
     ]
    },
    {
     "name": "stdout",
     "output_type": "stream",
     "text": [
      "Early stopping, best iteration is:\n",
      "[147]\tcv_agg's l2: 0.163729 + 0.0221522\n"
     ]
    },
    {
     "name": "stderr",
     "output_type": "stream",
     "text": [
      "num_leaves, val_score: 0.163729:   0%|                                                          | 0/20 [00:00<?, ?it/s]"
     ]
    },
    {
     "name": "stdout",
     "output_type": "stream",
     "text": [
      "[100]\tcv_agg's l2: 0.164516 + 0.0237532\n",
      "[200]\tcv_agg's l2: 0.164344 + 0.0211735\n"
     ]
    },
    {
     "name": "stderr",
     "output_type": "stream",
     "text": [
      "num_leaves, val_score: 0.163729:   5%|##5                                               | 1/20 [00:01<00:21,  1.13s/it][I 2023-08-08 20:40:42,917] Trial 7 finished with value: 0.16372880972386097 and parameters: {'num_leaves': 182}. Best is trial 7 with value: 0.16372880972386097.\n",
      "num_leaves, val_score: 0.163729:   5%|##5                                               | 1/20 [00:01<00:21,  1.13s/it]"
     ]
    },
    {
     "name": "stdout",
     "output_type": "stream",
     "text": [
      "Early stopping, best iteration is:\n",
      "[147]\tcv_agg's l2: 0.163729 + 0.0221522\n",
      "[100]\tcv_agg's l2: 0.164516 + 0.0237532\n",
      "[200]\tcv_agg's l2: 0.164344 + 0.0211735\n"
     ]
    },
    {
     "name": "stderr",
     "output_type": "stream",
     "text": [
      "num_leaves, val_score: 0.163729:  10%|#####                                             | 2/20 [00:02<00:21,  1.17s/it][I 2023-08-08 20:40:44,113] Trial 8 finished with value: 0.16372880972386097 and parameters: {'num_leaves': 249}. Best is trial 7 with value: 0.16372880972386097.\n",
      "num_leaves, val_score: 0.163729:  10%|#####                                             | 2/20 [00:02<00:21,  1.17s/it]"
     ]
    },
    {
     "name": "stdout",
     "output_type": "stream",
     "text": [
      "Early stopping, best iteration is:\n",
      "[147]\tcv_agg's l2: 0.163729 + 0.0221522\n",
      "[100]\tcv_agg's l2: 0.164516 + 0.0237532\n",
      "[200]\tcv_agg's l2: 0.164344 + 0.0211735\n"
     ]
    },
    {
     "name": "stderr",
     "output_type": "stream",
     "text": [
      "num_leaves, val_score: 0.163729:  15%|#######5                                          | 3/20 [00:03<00:19,  1.17s/it][I 2023-08-08 20:40:45,283] Trial 9 finished with value: 0.16372880972386097 and parameters: {'num_leaves': 238}. Best is trial 7 with value: 0.16372880972386097.\n",
      "num_leaves, val_score: 0.163729:  15%|#######5                                          | 3/20 [00:03<00:19,  1.17s/it]"
     ]
    },
    {
     "name": "stdout",
     "output_type": "stream",
     "text": [
      "Early stopping, best iteration is:\n",
      "[147]\tcv_agg's l2: 0.163729 + 0.0221522\n",
      "[100]\tcv_agg's l2: 0.164735 + 0.0232089\n"
     ]
    },
    {
     "name": "stderr",
     "output_type": "stream",
     "text": [
      "num_leaves, val_score: 0.163238:  20%|##########                                        | 4/20 [00:04<00:16,  1.05s/it][I 2023-08-08 20:40:46,150] Trial 10 finished with value: 0.16323849411406188 and parameters: {'num_leaves': 25}. Best is trial 10 with value: 0.16323849411406188.\n",
      "num_leaves, val_score: 0.163238:  20%|##########                                        | 4/20 [00:04<00:16,  1.05s/it]"
     ]
    },
    {
     "name": "stdout",
     "output_type": "stream",
     "text": [
      "[200]\tcv_agg's l2: 0.163849 + 0.0208748\n",
      "Early stopping, best iteration is:\n",
      "[125]\tcv_agg's l2: 0.163238 + 0.0221635\n",
      "[100]\tcv_agg's l2: 0.202401 + 0.0414176\n",
      "[200]\tcv_agg's l2: 0.184724 + 0.0356359\n",
      "Early stopping, best iteration is:\n",
      "[125]\tcv_agg's l2: 0.163238 + 0.0221635\n"
     ]
    },
    {
     "name": "stderr",
     "output_type": "stream",
     "text": [
      "num_leaves, val_score: 0.163238:  25%|############5                                     | 5/20 [00:04<00:12,  1.23it/s][I 2023-08-08 20:40:46,547] Trial 11 finished with value: 0.1950635915731794 and parameters: {'num_leaves': 5}. Best is trial 10 with value: 0.16323849411406188.\n",
      "num_leaves, val_score: 0.163238:  25%|############5                                     | 5/20 [00:04<00:12,  1.23it/s]"
     ]
    },
    {
     "name": "stdout",
     "output_type": "stream",
     "text": [
      "[100]\tcv_agg's l2: 0.164527 + 0.0237482\n"
     ]
    },
    {
     "name": "stderr",
     "output_type": "stream",
     "text": [
      "num_leaves, val_score: 0.163238:  30%|###############                                   | 6/20 [00:05<00:13,  1.05it/s][I 2023-08-08 20:40:47,760] Trial 12 finished with value: 0.16453125414132286 and parameters: {'num_leaves': 30}. Best is trial 10 with value: 0.16323849411406188.\n",
      "num_leaves, val_score: 0.163238:  30%|###############                                   | 6/20 [00:05<00:13,  1.05it/s]"
     ]
    },
    {
     "name": "stdout",
     "output_type": "stream",
     "text": [
      "[200]\tcv_agg's l2: 0.165579 + 0.0208101\n",
      "Early stopping, best iteration is:\n",
      "[125]\tcv_agg's l2: 0.163238 + 0.0221635\n",
      "[100]\tcv_agg's l2: 0.164516 + 0.0237532\n"
     ]
    },
    {
     "name": "stderr",
     "output_type": "stream",
     "text": [
      "num_leaves, val_score: 0.163238:  35%|#################5                                | 7/20 [00:06<00:12,  1.04it/s][I 2023-08-08 20:40:48,757] Trial 13 finished with value: 0.1640140416264248 and parameters: {'num_leaves': 91}. Best is trial 10 with value: 0.16323849411406188.\n",
      "num_leaves, val_score: 0.163238:  35%|#################5                                | 7/20 [00:06<00:12,  1.04it/s]"
     ]
    },
    {
     "name": "stdout",
     "output_type": "stream",
     "text": [
      "[200]\tcv_agg's l2: 0.164344 + 0.0211735\n",
      "Early stopping, best iteration is:\n",
      "[125]\tcv_agg's l2: 0.163238 + 0.0221635\n",
      "[100]\tcv_agg's l2: 0.164516 + 0.0237532\n"
     ]
    },
    {
     "name": "stderr",
     "output_type": "stream",
     "text": [
      "num_leaves, val_score: 0.163238:  40%|####################                              | 8/20 [00:07<00:11,  1.02it/s][I 2023-08-08 20:40:49,777] Trial 14 finished with value: 0.1640140416264248 and parameters: {'num_leaves': 88}. Best is trial 10 with value: 0.16323849411406188.\n",
      "num_leaves, val_score: 0.163238:  40%|####################                              | 8/20 [00:07<00:11,  1.02it/s]"
     ]
    },
    {
     "name": "stdout",
     "output_type": "stream",
     "text": [
      "[200]\tcv_agg's l2: 0.164344 + 0.0211735\n",
      "Early stopping, best iteration is:\n",
      "[125]\tcv_agg's l2: 0.163238 + 0.0221635\n",
      "[100]\tcv_agg's l2: 0.164516 + 0.0237532\n"
     ]
    },
    {
     "name": "stderr",
     "output_type": "stream",
     "text": [
      "num_leaves, val_score: 0.163238:  45%|######################5                           | 9/20 [00:09<00:11,  1.01s/it][I 2023-08-08 20:40:50,843] Trial 15 finished with value: 0.1640140416264248 and parameters: {'num_leaves': 63}. Best is trial 10 with value: 0.16323849411406188.\n",
      "num_leaves, val_score: 0.163238:  45%|######################5                           | 9/20 [00:09<00:11,  1.01s/it]"
     ]
    },
    {
     "name": "stdout",
     "output_type": "stream",
     "text": [
      "[200]\tcv_agg's l2: 0.164344 + 0.0211735\n",
      "Early stopping, best iteration is:\n",
      "[125]\tcv_agg's l2: 0.163238 + 0.0221635\n",
      "[100]\tcv_agg's l2: 0.164516 + 0.0237532\n"
     ]
    },
    {
     "name": "stderr",
     "output_type": "stream",
     "text": [
      "num_leaves, val_score: 0.163238:  50%|########################5                        | 10/20 [00:10<00:10,  1.02s/it][I 2023-08-08 20:40:51,892] Trial 16 finished with value: 0.1640140416264248 and parameters: {'num_leaves': 165}. Best is trial 10 with value: 0.16323849411406188.\n",
      "num_leaves, val_score: 0.163238:  50%|########################5                        | 10/20 [00:10<00:10,  1.02s/it]"
     ]
    },
    {
     "name": "stdout",
     "output_type": "stream",
     "text": [
      "[200]\tcv_agg's l2: 0.164344 + 0.0211735\n",
      "Early stopping, best iteration is:\n",
      "[125]\tcv_agg's l2: 0.163238 + 0.0221635\n",
      "[100]\tcv_agg's l2: 0.164516 + 0.0237532\n"
     ]
    },
    {
     "name": "stderr",
     "output_type": "stream",
     "text": [
      "num_leaves, val_score: 0.163238:  55%|##########################9                      | 11/20 [00:11<00:08,  1.00it/s][I 2023-08-08 20:40:52,837] Trial 17 finished with value: 0.1640140416264248 and parameters: {'num_leaves': 132}. Best is trial 10 with value: 0.16323849411406188.\n",
      "num_leaves, val_score: 0.163238:  55%|##########################9                      | 11/20 [00:11<00:08,  1.00it/s]"
     ]
    },
    {
     "name": "stdout",
     "output_type": "stream",
     "text": [
      "[200]\tcv_agg's l2: 0.164344 + 0.0211735\n",
      "Early stopping, best iteration is:\n",
      "[125]\tcv_agg's l2: 0.163238 + 0.0221635\n",
      "[100]\tcv_agg's l2: 0.164516 + 0.0237532\n"
     ]
    },
    {
     "name": "stderr",
     "output_type": "stream",
     "text": [
      "num_leaves, val_score: 0.163238:  60%|#############################4                   | 12/20 [00:12<00:08,  1.05s/it][I 2023-08-08 20:40:54,012] Trial 18 finished with value: 0.1640140416264248 and parameters: {'num_leaves': 48}. Best is trial 10 with value: 0.16323849411406188.\n",
      "num_leaves, val_score: 0.163238:  60%|#############################4                   | 12/20 [00:12<00:08,  1.05s/it]"
     ]
    },
    {
     "name": "stdout",
     "output_type": "stream",
     "text": [
      "[200]\tcv_agg's l2: 0.164344 + 0.0211735\n",
      "Early stopping, best iteration is:\n",
      "[125]\tcv_agg's l2: 0.163238 + 0.0221635\n",
      "[100]\tcv_agg's l2: 0.209093 + 0.0397164\n",
      "[200]\tcv_agg's l2: 0.184882 + 0.0291755\n"
     ]
    },
    {
     "name": "stderr",
     "output_type": "stream",
     "text": [
      "num_leaves, val_score: 0.163238:  65%|###############################8                 | 13/20 [00:12<00:06,  1.15it/s][I 2023-08-08 20:40:54,458] Trial 19 finished with value: 0.200042841899442 and parameters: {'num_leaves': 4}. Best is trial 10 with value: 0.16323849411406188.\n",
      "num_leaves, val_score: 0.163238:  65%|###############################8                 | 13/20 [00:12<00:06,  1.15it/s]"
     ]
    },
    {
     "name": "stdout",
     "output_type": "stream",
     "text": [
      "Early stopping, best iteration is:\n",
      "[125]\tcv_agg's l2: 0.163238 + 0.0221635\n",
      "[100]\tcv_agg's l2: 0.164516 + 0.0237532\n"
     ]
    },
    {
     "name": "stderr",
     "output_type": "stream",
     "text": [
      "num_leaves, val_score: 0.163238:  70%|##################################3              | 14/20 [00:14<00:06,  1.02s/it][I 2023-08-08 20:40:55,829] Trial 20 finished with value: 0.1640140416264248 and parameters: {'num_leaves': 120}. Best is trial 10 with value: 0.16323849411406188.\n",
      "num_leaves, val_score: 0.163238:  70%|##################################3              | 14/20 [00:14<00:06,  1.02s/it]"
     ]
    },
    {
     "name": "stdout",
     "output_type": "stream",
     "text": [
      "[200]\tcv_agg's l2: 0.164344 + 0.0211735\n",
      "Early stopping, best iteration is:\n",
      "[125]\tcv_agg's l2: 0.163238 + 0.0221635\n",
      "[100]\tcv_agg's l2: 0.164516 + 0.0237532\n"
     ]
    },
    {
     "name": "stderr",
     "output_type": "stream",
     "text": [
      "num_leaves, val_score: 0.163238:  75%|####################################7            | 15/20 [00:15<00:05,  1.05s/it][I 2023-08-08 20:40:56,941] Trial 21 finished with value: 0.1640140416264248 and parameters: {'num_leaves': 197}. Best is trial 10 with value: 0.16323849411406188.\n",
      "num_leaves, val_score: 0.163238:  75%|####################################7            | 15/20 [00:15<00:05,  1.05s/it]"
     ]
    },
    {
     "name": "stdout",
     "output_type": "stream",
     "text": [
      "[200]\tcv_agg's l2: 0.164344 + 0.0211735\n",
      "Early stopping, best iteration is:\n",
      "[125]\tcv_agg's l2: 0.163238 + 0.0221635\n",
      "[100]\tcv_agg's l2: 0.164516 + 0.0237532\n",
      "[200]\tcv_agg's l2: 0.164344 + 0.0211735\n"
     ]
    },
    {
     "name": "stderr",
     "output_type": "stream",
     "text": [
      "num_leaves, val_score: 0.163238:  80%|#######################################2         | 16/20 [00:16<00:04,  1.22s/it][I 2023-08-08 20:40:58,556] Trial 22 finished with value: 0.1640140416264248 and parameters: {'num_leaves': 197}. Best is trial 10 with value: 0.16323849411406188.\n",
      "num_leaves, val_score: 0.163238:  80%|#######################################2         | 16/20 [00:16<00:04,  1.22s/it]"
     ]
    },
    {
     "name": "stdout",
     "output_type": "stream",
     "text": [
      "Early stopping, best iteration is:\n",
      "[125]\tcv_agg's l2: 0.163238 + 0.0221635\n",
      "[100]\tcv_agg's l2: 0.164516 + 0.0237532\n"
     ]
    },
    {
     "name": "stderr",
     "output_type": "stream",
     "text": [
      "num_leaves, val_score: 0.163238:  85%|#########################################6       | 17/20 [00:17<00:03,  1.17s/it][I 2023-08-08 20:40:59,623] Trial 23 finished with value: 0.1640140416264248 and parameters: {'num_leaves': 162}. Best is trial 10 with value: 0.16323849411406188.\n",
      "num_leaves, val_score: 0.163238:  85%|#########################################6       | 17/20 [00:17<00:03,  1.17s/it]"
     ]
    },
    {
     "name": "stdout",
     "output_type": "stream",
     "text": [
      "[200]\tcv_agg's l2: 0.164344 + 0.0211735\n",
      "Early stopping, best iteration is:\n",
      "[125]\tcv_agg's l2: 0.163238 + 0.0221635\n",
      "[100]\tcv_agg's l2: 0.164516 + 0.0237532\n"
     ]
    },
    {
     "name": "stderr",
     "output_type": "stream",
     "text": [
      "num_leaves, val_score: 0.163238:  90%|############################################1    | 18/20 [00:19<00:02,  1.23s/it][I 2023-08-08 20:41:00,982] Trial 24 finished with value: 0.1640140416264248 and parameters: {'num_leaves': 208}. Best is trial 10 with value: 0.16323849411406188.\n",
      "num_leaves, val_score: 0.163238:  90%|############################################1    | 18/20 [00:19<00:02,  1.23s/it]"
     ]
    },
    {
     "name": "stdout",
     "output_type": "stream",
     "text": [
      "[200]\tcv_agg's l2: 0.164344 + 0.0211735\n",
      "Early stopping, best iteration is:\n",
      "[125]\tcv_agg's l2: 0.163238 + 0.0221635\n",
      "[100]\tcv_agg's l2: 0.164516 + 0.0237532\n"
     ]
    },
    {
     "name": "stderr",
     "output_type": "stream",
     "text": [
      "num_leaves, val_score: 0.163238:  95%|##############################################5  | 19/20 [00:20<00:01,  1.22s/it][I 2023-08-08 20:41:02,188] Trial 25 finished with value: 0.1640140416264248 and parameters: {'num_leaves': 161}. Best is trial 10 with value: 0.16323849411406188.\n",
      "num_leaves, val_score: 0.163238:  95%|##############################################5  | 19/20 [00:20<00:01,  1.22s/it]"
     ]
    },
    {
     "name": "stdout",
     "output_type": "stream",
     "text": [
      "[200]\tcv_agg's l2: 0.164344 + 0.0211735\n",
      "Early stopping, best iteration is:\n",
      "[125]\tcv_agg's l2: 0.163238 + 0.0221635\n",
      "[100]\tcv_agg's l2: 0.164516 + 0.0237532\n"
     ]
    },
    {
     "name": "stderr",
     "output_type": "stream",
     "text": [
      "num_leaves, val_score: 0.163238: 100%|#################################################| 20/20 [00:21<00:00,  1.23s/it][I 2023-08-08 20:41:03,439] Trial 26 finished with value: 0.1640140416264248 and parameters: {'num_leaves': 104}. Best is trial 10 with value: 0.16323849411406188.\n",
      "num_leaves, val_score: 0.163238: 100%|#################################################| 20/20 [00:21<00:00,  1.08s/it]\n"
     ]
    },
    {
     "name": "stdout",
     "output_type": "stream",
     "text": [
      "[200]\tcv_agg's l2: 0.164344 + 0.0211735\n",
      "Early stopping, best iteration is:\n",
      "[125]\tcv_agg's l2: 0.163238 + 0.0221635\n"
     ]
    },
    {
     "name": "stderr",
     "output_type": "stream",
     "text": [
      "bagging, val_score: 0.163238:   0%|                                                             | 0/10 [00:00<?, ?it/s]"
     ]
    },
    {
     "name": "stdout",
     "output_type": "stream",
     "text": [
      "[100]\tcv_agg's l2: 0.194398 + 0.0301136\n"
     ]
    },
    {
     "name": "stderr",
     "output_type": "stream",
     "text": [
      "bagging, val_score: 0.163238:  10%|#####3                                               | 1/10 [00:00<00:06,  1.41it/s][I 2023-08-08 20:41:04,157] Trial 27 finished with value: 0.19150663033586873 and parameters: {'bagging_fraction': 0.5231734377580697, 'bagging_freq': 3}. Best is trial 27 with value: 0.19150663033586873.\n",
      "bagging, val_score: 0.163238:  10%|#####3                                               | 1/10 [00:00<00:06,  1.41it/s]"
     ]
    },
    {
     "name": "stdout",
     "output_type": "stream",
     "text": [
      "[200]\tcv_agg's l2: 0.19213 + 0.0303916\n",
      "Early stopping, best iteration is:\n",
      "[125]\tcv_agg's l2: 0.163238 + 0.0221635\n",
      "[100]\tcv_agg's l2: 0.170704 + 0.0273397\n"
     ]
    },
    {
     "name": "stderr",
     "output_type": "stream",
     "text": [
      "bagging, val_score: 0.163238:  20%|##########6                                          | 2/10 [00:01<00:07,  1.07it/s][I 2023-08-08 20:41:05,243] Trial 28 finished with value: 0.17089896555954337 and parameters: {'bagging_fraction': 0.9658661968098325, 'bagging_freq': 6}. Best is trial 28 with value: 0.17089896555954337.\n",
      "bagging, val_score: 0.163238:  20%|##########6                                          | 2/10 [00:01<00:07,  1.07it/s]"
     ]
    },
    {
     "name": "stdout",
     "output_type": "stream",
     "text": [
      "[200]\tcv_agg's l2: 0.172126 + 0.0248819\n",
      "Early stopping, best iteration is:\n",
      "[125]\tcv_agg's l2: 0.163238 + 0.0221635\n",
      "[100]\tcv_agg's l2: 0.210731 + 0.022628\n"
     ]
    },
    {
     "name": "stderr",
     "output_type": "stream",
     "text": [
      "bagging, val_score: 0.163238:  30%|###############9                                     | 3/10 [00:02<00:05,  1.26it/s][I 2023-08-08 20:41:05,878] Trial 29 finished with value: 0.20626088345166144 and parameters: {'bagging_fraction': 0.41395996301644894, 'bagging_freq': 1}. Best is trial 28 with value: 0.17089896555954337.\n",
      "bagging, val_score: 0.163238:  30%|###############9                                     | 3/10 [00:02<00:05,  1.26it/s]"
     ]
    },
    {
     "name": "stdout",
     "output_type": "stream",
     "text": [
      "[200]\tcv_agg's l2: 0.200944 + 0.0160967\n",
      "Early stopping, best iteration is:\n",
      "[125]\tcv_agg's l2: 0.163238 + 0.0221635\n",
      "[100]\tcv_agg's l2: 0.183211 + 0.0313644\n"
     ]
    },
    {
     "name": "stderr",
     "output_type": "stream",
     "text": [
      "bagging, val_score: 0.163238:  40%|#####################2                               | 4/10 [00:03<00:05,  1.17it/s][I 2023-08-08 20:41:06,833] Trial 30 finished with value: 0.1794264869609145 and parameters: {'bagging_fraction': 0.7631253530260129, 'bagging_freq': 7}. Best is trial 28 with value: 0.17089896555954337.\n",
      "bagging, val_score: 0.163238:  40%|#####################2                               | 4/10 [00:03<00:05,  1.17it/s]"
     ]
    },
    {
     "name": "stdout",
     "output_type": "stream",
     "text": [
      "[200]\tcv_agg's l2: 0.175795 + 0.0281843\n",
      "Early stopping, best iteration is:\n",
      "[125]\tcv_agg's l2: 0.163238 + 0.0221635\n",
      "[100]\tcv_agg's l2: 0.174624 + 0.0247677\n"
     ]
    },
    {
     "name": "stderr",
     "output_type": "stream",
     "text": [
      "bagging, val_score: 0.163238:  50%|##########################5                          | 5/10 [00:04<00:04,  1.15it/s][I 2023-08-08 20:41:07,721] Trial 31 finished with value: 0.17100268602821753 and parameters: {'bagging_fraction': 0.6751847157633124, 'bagging_freq': 4}. Best is trial 28 with value: 0.17089896555954337.\n",
      "bagging, val_score: 0.163238:  50%|##########################5                          | 5/10 [00:04<00:04,  1.15it/s]"
     ]
    },
    {
     "name": "stdout",
     "output_type": "stream",
     "text": [
      "[200]\tcv_agg's l2: 0.169984 + 0.0200838\n",
      "Early stopping, best iteration is:\n",
      "[125]\tcv_agg's l2: 0.163238 + 0.0221635\n",
      "[100]\tcv_agg's l2: 0.165895 + 0.0237858\n"
     ]
    },
    {
     "name": "stderr",
     "output_type": "stream",
     "text": [
      "bagging, val_score: 0.163238:  60%|###############################8                     | 6/10 [00:05<00:03,  1.05it/s][I 2023-08-08 20:41:08,830] Trial 32 finished with value: 0.16626379913203598 and parameters: {'bagging_fraction': 0.9915296798174629, 'bagging_freq': 1}. Best is trial 32 with value: 0.16626379913203598.\n",
      "bagging, val_score: 0.163238:  60%|###############################8                     | 6/10 [00:05<00:03,  1.05it/s]"
     ]
    },
    {
     "name": "stdout",
     "output_type": "stream",
     "text": [
      "[200]\tcv_agg's l2: 0.165284 + 0.0205651\n",
      "Early stopping, best iteration is:\n",
      "[125]\tcv_agg's l2: 0.163238 + 0.0221635\n",
      "[100]\tcv_agg's l2: 0.174548 + 0.0276356\n"
     ]
    },
    {
     "name": "stderr",
     "output_type": "stream",
     "text": [
      "bagging, val_score: 0.163238:  70%|#####################################                | 7/10 [00:06<00:02,  1.07it/s][I 2023-08-08 20:41:09,734] Trial 33 finished with value: 0.17458895343887254 and parameters: {'bagging_fraction': 0.8294138031115613, 'bagging_freq': 6}. Best is trial 32 with value: 0.16626379913203598.\n",
      "bagging, val_score: 0.163238:  70%|#####################################                | 7/10 [00:06<00:02,  1.07it/s]"
     ]
    },
    {
     "name": "stdout",
     "output_type": "stream",
     "text": [
      "[200]\tcv_agg's l2: 0.173131 + 0.0256871\n",
      "Early stopping, best iteration is:\n",
      "[125]\tcv_agg's l2: 0.163238 + 0.0221635\n",
      "[100]\tcv_agg's l2: 0.18428 + 0.0260197\n"
     ]
    },
    {
     "name": "stderr",
     "output_type": "stream",
     "text": [
      "bagging, val_score: 0.163238:  80%|##########################################4          | 8/10 [00:07<00:01,  1.13it/s][I 2023-08-08 20:41:10,519] Trial 34 finished with value: 0.18152808446037333 and parameters: {'bagging_fraction': 0.6205307608775232, 'bagging_freq': 3}. Best is trial 32 with value: 0.16626379913203598.\n",
      "bagging, val_score: 0.163238:  80%|##########################################4          | 8/10 [00:07<00:01,  1.13it/s]"
     ]
    },
    {
     "name": "stdout",
     "output_type": "stream",
     "text": [
      "[200]\tcv_agg's l2: 0.180662 + 0.024673\n",
      "Early stopping, best iteration is:\n",
      "[125]\tcv_agg's l2: 0.163238 + 0.0221635\n",
      "[100]\tcv_agg's l2: 0.218521 + 0.0195802\n"
     ]
    },
    {
     "name": "stderr",
     "output_type": "stream",
     "text": [
      "bagging, val_score: 0.163238:  90%|###############################################7     | 9/10 [00:07<00:00,  1.20it/s][I 2023-08-08 20:41:11,225] Trial 35 finished with value: 0.2150456685613516 and parameters: {'bagging_fraction': 0.42379071915369204, 'bagging_freq': 5}. Best is trial 32 with value: 0.16626379913203598.\n",
      "bagging, val_score: 0.163238:  90%|###############################################7     | 9/10 [00:07<00:00,  1.20it/s]"
     ]
    },
    {
     "name": "stdout",
     "output_type": "stream",
     "text": [
      "[200]\tcv_agg's l2: 0.209434 + 0.0171503\n",
      "Early stopping, best iteration is:\n",
      "[125]\tcv_agg's l2: 0.163238 + 0.0221635\n",
      "[100]\tcv_agg's l2: 0.189778 + 0.0226125\n"
     ]
    },
    {
     "name": "stderr",
     "output_type": "stream",
     "text": [
      "bagging, val_score: 0.163238: 100%|####################################################| 10/10 [00:08<00:00,  1.23it/s][I 2023-08-08 20:41:12,004] Trial 36 finished with value: 0.18722026299568706 and parameters: {'bagging_fraction': 0.5778789591350278, 'bagging_freq': 2}. Best is trial 32 with value: 0.16626379913203598.\n",
      "bagging, val_score: 0.163238: 100%|####################################################| 10/10 [00:08<00:00,  1.17it/s]\n"
     ]
    },
    {
     "name": "stdout",
     "output_type": "stream",
     "text": [
      "[200]\tcv_agg's l2: 0.182665 + 0.0192835\n",
      "Early stopping, best iteration is:\n",
      "[125]\tcv_agg's l2: 0.163238 + 0.0221635\n"
     ]
    },
    {
     "name": "stderr",
     "output_type": "stream",
     "text": [
      "feature_fraction_stage2, val_score: 0.163238:   0%|                                              | 0/6 [00:00<?, ?it/s]"
     ]
    },
    {
     "name": "stdout",
     "output_type": "stream",
     "text": [
      "[100]\tcv_agg's l2: 0.164735 + 0.0232089\n"
     ]
    },
    {
     "name": "stderr",
     "output_type": "stream",
     "text": [
      "feature_fraction_stage2, val_score: 0.163238:  17%|######3                               | 1/6 [00:01<00:05,  1.12s/it][I 2023-08-08 20:41:13,129] Trial 37 finished with value: 0.16323849411406188 and parameters: {'feature_fraction': 0.5479999999999999}. Best is trial 37 with value: 0.16323849411406188.\n",
      "feature_fraction_stage2, val_score: 0.163238:  17%|######3                               | 1/6 [00:01<00:05,  1.12s/it]"
     ]
    },
    {
     "name": "stdout",
     "output_type": "stream",
     "text": [
      "[200]\tcv_agg's l2: 0.163849 + 0.0208748\n",
      "Early stopping, best iteration is:\n",
      "[125]\tcv_agg's l2: 0.163238 + 0.0221635\n",
      "[100]\tcv_agg's l2: 0.164214 + 0.0264057\n",
      "[200]\tcv_agg's l2: 0.163655 + 0.0245607\n"
     ]
    },
    {
     "name": "stderr",
     "output_type": "stream",
     "text": [
      "feature_fraction_stage2, val_score: 0.162721:  33%|############6                         | 2/6 [00:02<00:04,  1.15s/it][I 2023-08-08 20:41:14,303] Trial 38 finished with value: 0.162721339805818 and parameters: {'feature_fraction': 0.58}. Best is trial 38 with value: 0.162721339805818.\n",
      "feature_fraction_stage2, val_score: 0.162721:  33%|############6                         | 2/6 [00:02<00:04,  1.15s/it]"
     ]
    },
    {
     "name": "stdout",
     "output_type": "stream",
     "text": [
      "Early stopping, best iteration is:\n",
      "[170]\tcv_agg's l2: 0.162721 + 0.0246185\n",
      "[100]\tcv_agg's l2: 0.164666 + 0.0208879\n",
      "[200]\tcv_agg's l2: 0.164267 + 0.0193142\n"
     ]
    },
    {
     "name": "stderr",
     "output_type": "stream",
     "text": [
      "feature_fraction_stage2, val_score: 0.162721:  50%|###################                   | 3/6 [00:03<00:04,  1.38s/it][I 2023-08-08 20:41:15,949] Trial 39 finished with value: 0.16412553972306854 and parameters: {'feature_fraction': 0.42}. Best is trial 38 with value: 0.162721339805818.\n",
      "feature_fraction_stage2, val_score: 0.162721:  50%|###################                   | 3/6 [00:03<00:04,  1.38s/it]"
     ]
    },
    {
     "name": "stdout",
     "output_type": "stream",
     "text": [
      "Early stopping, best iteration is:\n",
      "[170]\tcv_agg's l2: 0.162721 + 0.0246185\n",
      "[100]\tcv_agg's l2: 0.164735 + 0.0232089\n",
      "[200]\tcv_agg's l2: 0.163849 + 0.0208748\n"
     ]
    },
    {
     "name": "stderr",
     "output_type": "stream",
     "text": [
      "feature_fraction_stage2, val_score: 0.162721:  67%|#########################3            | 4/6 [00:05<00:02,  1.43s/it][I 2023-08-08 20:41:17,450] Trial 40 finished with value: 0.1635572911542247 and parameters: {'feature_fraction': 0.516}. Best is trial 38 with value: 0.162721339805818.\n",
      "feature_fraction_stage2, val_score: 0.162721:  67%|#########################3            | 4/6 [00:05<00:02,  1.43s/it]"
     ]
    },
    {
     "name": "stdout",
     "output_type": "stream",
     "text": [
      "Early stopping, best iteration is:\n",
      "[170]\tcv_agg's l2: 0.162721 + 0.0246185\n",
      "[100]\tcv_agg's l2: 0.163903 + 0.0232595\n",
      "[200]\tcv_agg's l2: 0.164668 + 0.0217348\n"
     ]
    },
    {
     "name": "stderr",
     "output_type": "stream",
     "text": [
      "feature_fraction_stage2, val_score: 0.162721:  83%|###############################6      | 5/6 [00:06<00:01,  1.40s/it][I 2023-08-08 20:41:18,808] Trial 41 finished with value: 0.16468572780640545 and parameters: {'feature_fraction': 0.45199999999999996}. Best is trial 38 with value: 0.162721339805818.\n",
      "feature_fraction_stage2, val_score: 0.162721:  83%|###############################6      | 5/6 [00:06<00:01,  1.40s/it]"
     ]
    },
    {
     "name": "stdout",
     "output_type": "stream",
     "text": [
      "Early stopping, best iteration is:\n",
      "[170]\tcv_agg's l2: 0.162721 + 0.0246185\n",
      "[100]\tcv_agg's l2: 0.163903 + 0.0232595\n",
      "[200]\tcv_agg's l2: 0.164668 + 0.0217348\n"
     ]
    },
    {
     "name": "stderr",
     "output_type": "stream",
     "text": [
      "feature_fraction_stage2, val_score: 0.162721: 100%|######################################| 6/6 [00:08<00:00,  1.36s/it][I 2023-08-08 20:41:20,094] Trial 42 finished with value: 0.16468572780640545 and parameters: {'feature_fraction': 0.484}. Best is trial 38 with value: 0.162721339805818.\n",
      "feature_fraction_stage2, val_score: 0.162721: 100%|######################################| 6/6 [00:08<00:00,  1.35s/it]\n"
     ]
    },
    {
     "name": "stdout",
     "output_type": "stream",
     "text": [
      "Early stopping, best iteration is:\n",
      "[170]\tcv_agg's l2: 0.162721 + 0.0246185\n"
     ]
    },
    {
     "name": "stderr",
     "output_type": "stream",
     "text": [
      "regularization_factors, val_score: 0.162721:   0%|                                              | 0/20 [00:00<?, ?it/s]"
     ]
    },
    {
     "name": "stdout",
     "output_type": "stream",
     "text": [
      "[100]\tcv_agg's l2: 0.163561 + 0.0266011\n",
      "[200]\tcv_agg's l2: 0.164162 + 0.0246733\n"
     ]
    },
    {
     "name": "stderr",
     "output_type": "stream",
     "text": [
      "regularization_factors, val_score: 0.162721:   5%|#9                                    | 1/20 [00:01<00:36,  1.92s/it][I 2023-08-08 20:41:22,023] Trial 43 finished with value: 0.1635351715925958 and parameters: {'lambda_l1': 8.924498617763343e-06, 'lambda_l2': 0.0004027174275806259}. Best is trial 43 with value: 0.1635351715925958.\n",
      "regularization_factors, val_score: 0.162721:   5%|#9                                    | 1/20 [00:01<00:36,  1.92s/it]"
     ]
    },
    {
     "name": "stdout",
     "output_type": "stream",
     "text": [
      "Early stopping, best iteration is:\n",
      "[170]\tcv_agg's l2: 0.162721 + 0.0246185\n",
      "[100]\tcv_agg's l2: 0.163404 + 0.0266515\n",
      "[200]\tcv_agg's l2: 0.16421 + 0.0246623\n"
     ]
    },
    {
     "name": "stderr",
     "output_type": "stream",
     "text": [
      "regularization_factors, val_score: 0.162463:  10%|###8                                  | 2/20 [00:04<00:46,  2.58s/it][I 2023-08-08 20:41:25,061] Trial 44 finished with value: 0.16246254213705413 and parameters: {'lambda_l1': 6.591680334395546e-06, 'lambda_l2': 0.00026925997525735463}. Best is trial 44 with value: 0.16246254213705413.\n",
      "regularization_factors, val_score: 0.162463:  10%|###8                                  | 2/20 [00:04<00:46,  2.58s/it]"
     ]
    },
    {
     "name": "stdout",
     "output_type": "stream",
     "text": [
      "Early stopping, best iteration is:\n",
      "[123]\tcv_agg's l2: 0.162463 + 0.0252515\n",
      "[100]\tcv_agg's l2: 0.163561 + 0.0266013\n"
     ]
    },
    {
     "name": "stderr",
     "output_type": "stream",
     "text": [
      "regularization_factors, val_score: 0.162463:  15%|#####7                                | 3/20 [00:08<00:50,  2.94s/it][I 2023-08-08 20:41:28,434] Trial 45 finished with value: 0.16274561965102924 and parameters: {'lambda_l1': 5.897793290368452e-06, 'lambda_l2': 0.0007568885452519755}. Best is trial 44 with value: 0.16246254213705413.\n",
      "regularization_factors, val_score: 0.162463:  15%|#####7                                | 3/20 [00:08<00:50,  2.94s/it]"
     ]
    },
    {
     "name": "stdout",
     "output_type": "stream",
     "text": [
      "[200]\tcv_agg's l2: 0.164085 + 0.0245399\n",
      "Early stopping, best iteration is:\n",
      "[123]\tcv_agg's l2: 0.162463 + 0.0252515\n",
      "[100]\tcv_agg's l2: 0.163561 + 0.0266012\n"
     ]
    },
    {
     "name": "stderr",
     "output_type": "stream",
     "text": [
      "regularization_factors, val_score: 0.162463:  20%|#######6                              | 4/20 [00:09<00:37,  2.37s/it][I 2023-08-08 20:41:29,921] Trial 46 finished with value: 0.1627457149878362 and parameters: {'lambda_l1': 6.029787561112011e-06, 'lambda_l2': 0.000569122579144552}. Best is trial 44 with value: 0.16246254213705413.\n",
      "regularization_factors, val_score: 0.162463:  20%|#######6                              | 4/20 [00:09<00:37,  2.37s/it]"
     ]
    },
    {
     "name": "stdout",
     "output_type": "stream",
     "text": [
      "[200]\tcv_agg's l2: 0.164085 + 0.0245398\n",
      "Early stopping, best iteration is:\n",
      "[123]\tcv_agg's l2: 0.162463 + 0.0252515\n",
      "[100]\tcv_agg's l2: 0.163561 + 0.0266011\n",
      "[200]\tcv_agg's l2: 0.164162 + 0.0246733\n",
      "Early stopping, best iteration is:\n",
      "[123]\tcv_agg's l2: 0.162463 + 0.0252515\n"
     ]
    },
    {
     "name": "stderr",
     "output_type": "stream",
     "text": [
      "regularization_factors, val_score: 0.162463:  25%|#########5                            | 5/20 [00:11<00:30,  2.06s/it][I 2023-08-08 20:41:31,438] Trial 47 finished with value: 0.1627458210055342 and parameters: {'lambda_l1': 5.449815072704582e-06, 'lambda_l2': 0.00036347711774454585}. Best is trial 44 with value: 0.16246254213705413.\n",
      "regularization_factors, val_score: 0.162463:  25%|#########5                            | 5/20 [00:11<00:30,  2.06s/it]"
     ]
    },
    {
     "name": "stdout",
     "output_type": "stream",
     "text": [
      "[100]\tcv_agg's l2: 0.163561 + 0.0266011\n"
     ]
    },
    {
     "name": "stderr",
     "output_type": "stream",
     "text": [
      "regularization_factors, val_score: 0.162463:  30%|###########4                          | 6/20 [00:12<00:25,  1.81s/it][I 2023-08-08 20:41:32,758] Trial 48 finished with value: 0.16274576525515383 and parameters: {'lambda_l1': 3.349069769299847e-06, 'lambda_l2': 0.00048037454993243736}. Best is trial 44 with value: 0.16246254213705413.\n",
      "regularization_factors, val_score: 0.162463:  30%|###########4                          | 6/20 [00:12<00:25,  1.81s/it]"
     ]
    },
    {
     "name": "stdout",
     "output_type": "stream",
     "text": [
      "[200]\tcv_agg's l2: 0.164162 + 0.0246733\n",
      "Early stopping, best iteration is:\n",
      "[123]\tcv_agg's l2: 0.162463 + 0.0252515\n",
      "[100]\tcv_agg's l2: 0.163561 + 0.0266013\n"
     ]
    },
    {
     "name": "stderr",
     "output_type": "stream",
     "text": [
      "regularization_factors, val_score: 0.162463:  35%|#############3                        | 7/20 [00:13<00:20,  1.59s/it][I 2023-08-08 20:41:33,887] Trial 49 finished with value: 0.16274563794499944 and parameters: {'lambda_l1': 4.7109334479146685e-06, 'lambda_l2': 0.000724715569576164}. Best is trial 44 with value: 0.16246254213705413.\n",
      "regularization_factors, val_score: 0.162463:  35%|#############3                        | 7/20 [00:13<00:20,  1.59s/it]"
     ]
    },
    {
     "name": "stdout",
     "output_type": "stream",
     "text": [
      "[200]\tcv_agg's l2: 0.164085 + 0.0245399\n",
      "Early stopping, best iteration is:\n",
      "[123]\tcv_agg's l2: 0.162463 + 0.0252515\n",
      "[100]\tcv_agg's l2: 0.163561 + 0.0266013\n"
     ]
    },
    {
     "name": "stderr",
     "output_type": "stream",
     "text": [
      "regularization_factors, val_score: 0.162463:  40%|###############2                      | 8/20 [00:14<00:16,  1.40s/it][I 2023-08-08 20:41:34,897] Trial 50 finished with value: 0.16274555501408008 and parameters: {'lambda_l1': 4.213718162987031e-06, 'lambda_l2': 0.0008890251002495669}. Best is trial 44 with value: 0.16246254213705413.\n",
      "regularization_factors, val_score: 0.162463:  40%|###############2                      | 8/20 [00:14<00:16,  1.40s/it]"
     ]
    },
    {
     "name": "stdout",
     "output_type": "stream",
     "text": [
      "[200]\tcv_agg's l2: 0.164085 + 0.02454\n",
      "Early stopping, best iteration is:\n",
      "[123]\tcv_agg's l2: 0.162463 + 0.0252515\n",
      "[100]\tcv_agg's l2: 0.163326 + 0.026678\n"
     ]
    },
    {
     "name": "stderr",
     "output_type": "stream",
     "text": [
      "regularization_factors, val_score: 0.162463:  45%|#################1                    | 9/20 [00:15<00:13,  1.27s/it][I 2023-08-08 20:41:35,862] Trial 51 finished with value: 0.16249334277307603 and parameters: {'lambda_l1': 6.078166284384493e-06, 'lambda_l2': 0.0009668027811980814}. Best is trial 44 with value: 0.16246254213705413.\n",
      "regularization_factors, val_score: 0.162463:  45%|#################1                    | 9/20 [00:15<00:13,  1.27s/it]"
     ]
    },
    {
     "name": "stdout",
     "output_type": "stream",
     "text": [
      "[200]\tcv_agg's l2: 0.164705 + 0.0244307\n",
      "Early stopping, best iteration is:\n",
      "[123]\tcv_agg's l2: 0.162463 + 0.0252515\n",
      "[100]\tcv_agg's l2: 0.162703 + 0.0268688\n"
     ]
    },
    {
     "name": "stderr",
     "output_type": "stream",
     "text": [
      "regularization_factors, val_score: 0.162202:  50%|##################5                  | 10/20 [00:16<00:11,  1.16s/it][I 2023-08-08 20:41:36,796] Trial 52 finished with value: 0.16220204113736375 and parameters: {'lambda_l1': 3.922442559801945e-06, 'lambda_l2': 0.001543186291275078}. Best is trial 52 with value: 0.16220204113736375.\n",
      "regularization_factors, val_score: 0.162202:  50%|##################5                  | 10/20 [00:16<00:11,  1.16s/it]"
     ]
    },
    {
     "name": "stdout",
     "output_type": "stream",
     "text": [
      "[200]\tcv_agg's l2: 0.163457 + 0.0256982\n",
      "Early stopping, best iteration is:\n",
      "[105]\tcv_agg's l2: 0.162202 + 0.0263863\n",
      "[100]\tcv_agg's l2: 0.162901 + 0.0222928\n"
     ]
    },
    {
     "name": "stderr",
     "output_type": "stream",
     "text": [
      "regularization_factors, val_score: 0.162202:  55%|####################3                | 11/20 [00:17<00:09,  1.06s/it][I 2023-08-08 20:41:37,627] Trial 53 finished with value: 0.16264540970886213 and parameters: {'lambda_l1': 1.5897716589190394e-08, 'lambda_l2': 0.052467725858288065}. Best is trial 52 with value: 0.16220204113736375.\n",
      "regularization_factors, val_score: 0.162202:  55%|####################3                | 11/20 [00:17<00:09,  1.06s/it]"
     ]
    },
    {
     "name": "stdout",
     "output_type": "stream",
     "text": [
      "[200]\tcv_agg's l2: 0.163132 + 0.0206252\n",
      "Early stopping, best iteration is:\n",
      "[105]\tcv_agg's l2: 0.162202 + 0.0263863\n",
      "[100]\tcv_agg's l2: 0.167735 + 0.0216534\n"
     ]
    },
    {
     "name": "stderr",
     "output_type": "stream",
     "text": [
      "regularization_factors, val_score: 0.162202:  60%|######################2              | 12/20 [00:18<00:08,  1.01s/it][I 2023-08-08 20:41:38,506] Trial 54 finished with value: 0.1681140733938754 and parameters: {'lambda_l1': 3.298543864885987e-08, 'lambda_l2': 0.3083525535890069}. Best is trial 52 with value: 0.16220204113736375.\n",
      "regularization_factors, val_score: 0.162202:  60%|######################2              | 12/20 [00:18<00:08,  1.01s/it]"
     ]
    },
    {
     "name": "stdout",
     "output_type": "stream",
     "text": [
      "[200]\tcv_agg's l2: 0.167755 + 0.0183896\n",
      "Early stopping, best iteration is:\n",
      "[105]\tcv_agg's l2: 0.162202 + 0.0263863\n",
      "[100]\tcv_agg's l2: 0.161109 + 0.0249455\n"
     ]
    },
    {
     "name": "stderr",
     "output_type": "stream",
     "text": [
      "regularization_factors, val_score: 0.160317:  65%|########################             | 13/20 [00:19<00:07,  1.11s/it][I 2023-08-08 20:41:39,869] Trial 55 finished with value: 0.16031731752471862 and parameters: {'lambda_l1': 1.0205466793661569e-08, 'lambda_l2': 0.027977302555445407}. Best is trial 55 with value: 0.16031731752471862.\n",
      "regularization_factors, val_score: 0.160317:  65%|########################             | 13/20 [00:19<00:07,  1.11s/it]"
     ]
    },
    {
     "name": "stdout",
     "output_type": "stream",
     "text": [
      "[200]\tcv_agg's l2: 0.162635 + 0.0206023\n",
      "Early stopping, best iteration is:\n",
      "[106]\tcv_agg's l2: 0.160317 + 0.0245546\n",
      "[100]\tcv_agg's l2: 0.163839 + 0.0217757\n"
     ]
    },
    {
     "name": "stderr",
     "output_type": "stream",
     "text": [
      "regularization_factors, val_score: 0.160317:  70%|#########################9           | 14/20 [00:20<00:06,  1.13s/it][I 2023-08-08 20:41:41,021] Trial 56 finished with value: 0.1639328364226235 and parameters: {'lambda_l1': 1.288628183153815e-08, 'lambda_l2': 0.050467531888374585}. Best is trial 55 with value: 0.16031731752471862.\n",
      "regularization_factors, val_score: 0.160317:  70%|#########################9           | 14/20 [00:20<00:06,  1.13s/it]"
     ]
    },
    {
     "name": "stdout",
     "output_type": "stream",
     "text": [
      "[200]\tcv_agg's l2: 0.163586 + 0.0205777\n",
      "Early stopping, best iteration is:\n",
      "[106]\tcv_agg's l2: 0.160317 + 0.0245546\n",
      "[100]\tcv_agg's l2: 0.162629 + 0.0248306\n"
     ]
    },
    {
     "name": "stderr",
     "output_type": "stream",
     "text": [
      "regularization_factors, val_score: 0.160317:  75%|###########################7         | 15/20 [00:22<00:05,  1.11s/it][I 2023-08-08 20:41:42,110] Trial 57 finished with value: 0.16206964117404987 and parameters: {'lambda_l1': 1.2731241481504505e-08, 'lambda_l2': 0.017557335448805108}. Best is trial 55 with value: 0.16031731752471862.\n",
      "regularization_factors, val_score: 0.160317:  75%|###########################7         | 15/20 [00:22<00:05,  1.11s/it]"
     ]
    },
    {
     "name": "stdout",
     "output_type": "stream",
     "text": [
      "[200]\tcv_agg's l2: 0.162507 + 0.0211521\n",
      "Early stopping, best iteration is:\n",
      "[106]\tcv_agg's l2: 0.160317 + 0.0245546\n",
      "[100]\tcv_agg's l2: 0.163676 + 0.0232908\n"
     ]
    },
    {
     "name": "stderr",
     "output_type": "stream",
     "text": [
      "regularization_factors, val_score: 0.160317:  80%|#############################6       | 16/20 [00:22<00:04,  1.08s/it][I 2023-08-08 20:41:43,096] Trial 58 finished with value: 0.16356512278969915 and parameters: {'lambda_l1': 1.1221068038937723e-08, 'lambda_l2': 0.03780736168652655}. Best is trial 55 with value: 0.16031731752471862.\n",
      "regularization_factors, val_score: 0.160317:  80%|#############################6       | 16/20 [00:22<00:04,  1.08s/it]"
     ]
    },
    {
     "name": "stdout",
     "output_type": "stream",
     "text": [
      "[200]\tcv_agg's l2: 0.163861 + 0.0204097\n",
      "Early stopping, best iteration is:\n",
      "[106]\tcv_agg's l2: 0.160317 + 0.0245546\n",
      "[100]\tcv_agg's l2: 0.165114 + 0.0251456\n"
     ]
    },
    {
     "name": "stderr",
     "output_type": "stream",
     "text": [
      "regularization_factors, val_score: 0.160317:  85%|###############################4     | 17/20 [00:24<00:03,  1.09s/it][I 2023-08-08 20:41:44,224] Trial 59 finished with value: 0.16470470003934684 and parameters: {'lambda_l1': 1.1823001848106574e-07, 'lambda_l2': 0.020205635459583766}. Best is trial 55 with value: 0.16031731752471862.\n",
      "regularization_factors, val_score: 0.160317:  85%|###############################4     | 17/20 [00:24<00:03,  1.09s/it]"
     ]
    },
    {
     "name": "stdout",
     "output_type": "stream",
     "text": [
      "[200]\tcv_agg's l2: 0.16525 + 0.0221621\n",
      "Early stopping, best iteration is:\n",
      "[106]\tcv_agg's l2: 0.160317 + 0.0245546\n",
      "[100]\tcv_agg's l2: 0.164822 + 0.025432\n"
     ]
    },
    {
     "name": "stderr",
     "output_type": "stream",
     "text": [
      "regularization_factors, val_score: 0.160317:  90%|#################################3   | 18/20 [00:25<00:02,  1.08s/it][I 2023-08-08 20:41:45,288] Trial 60 finished with value: 0.164741832356951 and parameters: {'lambda_l1': 0.0019987198553663432, 'lambda_l2': 6.530065144791457e-06}. Best is trial 55 with value: 0.16031731752471862.\n",
      "regularization_factors, val_score: 0.160317:  90%|#################################3   | 18/20 [00:25<00:02,  1.08s/it]"
     ]
    },
    {
     "name": "stdout",
     "output_type": "stream",
     "text": [
      "[200]\tcv_agg's l2: 0.165742 + 0.023093\n",
      "Early stopping, best iteration is:\n",
      "[106]\tcv_agg's l2: 0.160317 + 0.0245546\n",
      "[100]\tcv_agg's l2: 0.162203 + 0.0231682\n"
     ]
    },
    {
     "name": "stderr",
     "output_type": "stream",
     "text": [
      "regularization_factors, val_score: 0.160317:  95%|###################################1 | 19/20 [00:26<00:01,  1.07s/it][I 2023-08-08 20:41:46,334] Trial 61 finished with value: 0.16216262405005466 and parameters: {'lambda_l1': 2.1095427518184732e-07, 'lambda_l2': 0.010788169632378723}. Best is trial 55 with value: 0.16031731752471862.\n",
      "regularization_factors, val_score: 0.160317:  95%|###################################1 | 19/20 [00:26<00:01,  1.07s/it]"
     ]
    },
    {
     "name": "stdout",
     "output_type": "stream",
     "text": [
      "[200]\tcv_agg's l2: 0.163689 + 0.0207418\n",
      "Early stopping, best iteration is:\n",
      "[106]\tcv_agg's l2: 0.160317 + 0.0245546\n",
      "[100]\tcv_agg's l2: 0.162077 + 0.0219677\n"
     ]
    },
    {
     "name": "stderr",
     "output_type": "stream",
     "text": [
      "regularization_factors, val_score: 0.160317: 100%|#####################################| 20/20 [00:27<00:00,  1.12s/it][I 2023-08-08 20:41:47,571] Trial 62 finished with value: 0.1623368420877201 and parameters: {'lambda_l1': 1.769761905982577e-07, 'lambda_l2': 0.013270701096188327}. Best is trial 55 with value: 0.16031731752471862.\n",
      "regularization_factors, val_score: 0.160317: 100%|#####################################| 20/20 [00:27<00:00,  1.37s/it]\n"
     ]
    },
    {
     "name": "stdout",
     "output_type": "stream",
     "text": [
      "[200]\tcv_agg's l2: 0.163009 + 0.0203369\n",
      "Early stopping, best iteration is:\n",
      "[106]\tcv_agg's l2: 0.160317 + 0.0245546\n"
     ]
    },
    {
     "name": "stderr",
     "output_type": "stream",
     "text": [
      "min_data_in_leaf, val_score: 0.160317:   0%|                                                     | 0/5 [00:00<?, ?it/s]"
     ]
    },
    {
     "name": "stdout",
     "output_type": "stream",
     "text": [
      "[100]\tcv_agg's l2: 0.152861 + 0.0279081\n"
     ]
    },
    {
     "name": "stderr",
     "output_type": "stream",
     "text": [
      "min_data_in_leaf, val_score: 0.151315:  20%|#########                                    | 1/5 [00:00<00:03,  1.05it/s][I 2023-08-08 20:41:48,528] Trial 63 finished with value: 0.15131475027344737 and parameters: {'min_child_samples': 10}. Best is trial 63 with value: 0.15131475027344737.\n",
      "min_data_in_leaf, val_score: 0.151315:  20%|#########                                    | 1/5 [00:00<00:03,  1.05it/s]"
     ]
    },
    {
     "name": "stdout",
     "output_type": "stream",
     "text": [
      "[200]\tcv_agg's l2: 0.152436 + 0.0263551\n",
      "Early stopping, best iteration is:\n",
      "[135]\tcv_agg's l2: 0.151315 + 0.0269636\n",
      "[100]\tcv_agg's l2: 0.231904 + 0.0286348\n"
     ]
    },
    {
     "name": "stderr",
     "output_type": "stream",
     "text": [
      "min_data_in_leaf, val_score: 0.151315:  40%|##################                           | 2/5 [00:01<00:02,  1.41it/s][I 2023-08-08 20:41:49,067] Trial 64 finished with value: 0.22857769098840724 and parameters: {'min_child_samples': 50}. Best is trial 63 with value: 0.15131475027344737.\n",
      "min_data_in_leaf, val_score: 0.151315:  40%|##################                           | 2/5 [00:01<00:02,  1.41it/s]"
     ]
    },
    {
     "name": "stdout",
     "output_type": "stream",
     "text": [
      "[200]\tcv_agg's l2: 0.223753 + 0.0292532\n",
      "Early stopping, best iteration is:\n",
      "[135]\tcv_agg's l2: 0.151315 + 0.0269636\n",
      "[100]\tcv_agg's l2: 0.181694 + 0.0241446\n"
     ]
    },
    {
     "name": "stderr",
     "output_type": "stream",
     "text": [
      "min_data_in_leaf, val_score: 0.151315:  60%|###########################                  | 3/5 [00:02<00:01,  1.23it/s][I 2023-08-08 20:41:50,005] Trial 65 finished with value: 0.1799369559781128 and parameters: {'min_child_samples': 25}. Best is trial 63 with value: 0.15131475027344737.\n",
      "min_data_in_leaf, val_score: 0.151315:  60%|###########################                  | 3/5 [00:02<00:01,  1.23it/s]"
     ]
    },
    {
     "name": "stdout",
     "output_type": "stream",
     "text": [
      "[200]\tcv_agg's l2: 0.177776 + 0.0226523\n",
      "Early stopping, best iteration is:\n",
      "[135]\tcv_agg's l2: 0.151315 + 0.0269636\n",
      "[100]\tcv_agg's l2: 0.663683 + 0.0645735\n",
      "[200]\tcv_agg's l2: 0.634658 + 0.0646756\n"
     ]
    },
    {
     "name": "stderr",
     "output_type": "stream",
     "text": [
      "min_data_in_leaf, val_score: 0.151315:  80%|####################################         | 4/5 [00:02<00:00,  1.54it/s][I 2023-08-08 20:41:50,402] Trial 66 finished with value: 0.6487736699535569 and parameters: {'min_child_samples': 100}. Best is trial 63 with value: 0.15131475027344737.\n",
      "min_data_in_leaf, val_score: 0.151315:  80%|####################################         | 4/5 [00:02<00:00,  1.54it/s]"
     ]
    },
    {
     "name": "stdout",
     "output_type": "stream",
     "text": [
      "Early stopping, best iteration is:\n",
      "[135]\tcv_agg's l2: 0.151315 + 0.0269636\n",
      "[100]\tcv_agg's l2: 0.155959 + 0.0222376\n",
      "[200]\tcv_agg's l2: 0.154208 + 0.0191007\n"
     ]
    },
    {
     "name": "stderr",
     "output_type": "stream",
     "text": [
      "min_data_in_leaf, val_score: 0.151315: 100%|#############################################| 5/5 [00:04<00:00,  1.15it/s][I 2023-08-08 20:41:51,665] Trial 67 finished with value: 0.15457809463181424 and parameters: {'min_child_samples': 5}. Best is trial 63 with value: 0.15131475027344737.\n",
      "min_data_in_leaf, val_score: 0.151315: 100%|#############################################| 5/5 [00:04<00:00,  1.22it/s]"
     ]
    },
    {
     "name": "stdout",
     "output_type": "stream",
     "text": [
      "Early stopping, best iteration is:\n",
      "[135]\tcv_agg's l2: 0.151315 + 0.0269636\n"
     ]
    },
    {
     "name": "stderr",
     "output_type": "stream",
     "text": [
      "\n"
     ]
    }
   ],
   "source": [
    "import optuna.integration.lightgbm as lgb\n",
    "from lightgbm import early_stopping\n",
    "from sklearn.model_selection import KFold\n",
    "from sklearn.model_selection import RepeatedKFold\n",
    "\n",
    "\n",
    "lgb_train = lgb.Dataset(X_train_random_split, y_train_random_split)\n",
    "\n",
    "params = {\n",
    "    \"boosting_type\": \"gbdt\",\n",
    "    \"objective\": \"regression\",\n",
    "    \"metric\": \"l2\",\n",
    "    \"verbosity\": -1,\n",
    "}\n",
    "\n",
    "tuner = lgb.LightGBMTunerCV(\n",
    "    params,\n",
    "    lgb_train,\n",
    "    folds=KFold(n_splits=5),\n",
    "    num_boost_round=10000,\n",
    "    callbacks=[early_stopping(100), log_evaluation(100)],\n",
    ")\n",
    "\n",
    "tuner.run()"
   ]
  },
  {
   "cell_type": "code",
   "execution_count": 23,
   "id": "e0b58a8a",
   "metadata": {},
   "outputs": [
    {
     "name": "stdout",
     "output_type": "stream",
     "text": [
      "Best score: 0.15131475027344737\n",
      "Params: \n",
      "    boosting_type: gbdt\n",
      "    objective: regression\n",
      "    metric: l2\n",
      "    verbosity: -1\n",
      "    feature_pre_filter: False\n",
      "    lambda_l1: 1.0205466793661569e-08\n",
      "    lambda_l2: 0.027977302555445407\n",
      "    num_leaves: 25\n",
      "    feature_fraction: 0.58\n",
      "    bagging_fraction: 1.0\n",
      "    bagging_freq: 0\n",
      "    min_child_samples: 10\n"
     ]
    }
   ],
   "source": [
    "print(f\"Best score: {tuner.best_score}\")\n",
    "best_params = tuner.best_params\n",
    "print(\"Params: \")\n",
    "for key, value in best_params.items():\n",
    "    print(\"    {}: {}\".format(key, value))"
   ]
  },
  {
   "cell_type": "code",
   "execution_count": 24,
   "id": "bc72fd41",
   "metadata": {},
   "outputs": [
    {
     "name": "stdout",
     "output_type": "stream",
     "text": [
      "MSE: 0.11\n",
      "RMSE: 0.34\n"
     ]
    }
   ],
   "source": [
    "import lightgbm as lgb\n",
    "\n",
    "lgb_tuned = lgb.train(\n",
    "    best_params,\n",
    "    lgb_train,\n",
    "    num_boost_round=10000,\n",
    ")\n",
    "\n",
    "y_pred_random_split = lgb_tuned.predict(X_test_random_split)\n",
    "\n",
    "mse = mean_squared_error(y_test_random_split, y_pred_random_split)\n",
    "rmse = mean_squared_error(y_test_random_split, y_pred_random_split, squared=False)\n",
    "print(f\"MSE: {mse:.2f}\")\n",
    "print(f\"RMSE: {rmse:.2f}\")"
   ]
  },
  {
   "cell_type": "markdown",
   "id": "21690e07",
   "metadata": {},
   "source": [
    "#### Rounded results"
   ]
  },
  {
   "cell_type": "code",
   "execution_count": 25,
   "id": "f9e88b01",
   "metadata": {},
   "outputs": [],
   "source": [
    "predict = lgb_tuned.predict(X_test_random_split)\n",
    "round_predict = np.round(predict).astype(\"int\")\n",
    "round_predict = np.where(round_predict > 20, 21, round_predict)\n",
    "threshold = 0.33\n",
    "round_predict_lower_threshold33 = np.where(\n",
    "    (predict % 1) > threshold, np.ceil(predict), np.floor(predict)\n",
    ").astype(\"int\")\n",
    "threshold45 = 0.45\n",
    "round_predict_lower_threshold45 = np.where(\n",
    "    (predict % 1) > threshold45, np.ceil(predict), np.floor(predict)\n",
    ").astype(\"int\")"
   ]
  },
  {
   "cell_type": "code",
   "execution_count": 26,
   "id": "afcf0bc2",
   "metadata": {},
   "outputs": [],
   "source": [
    "def check_predictions(y, y_pred):\n",
    "    print(f\"Mean square error: {mean_squared_error(y, y_pred):.2f}\")\n",
    "    print(f\"RMSE: {mean_squared_error(y, y_pred, squared=False):.2f}\")\n",
    "    print()"
   ]
  },
  {
   "cell_type": "code",
   "execution_count": 27,
   "id": "9d6a5020",
   "metadata": {
    "scrolled": true
   },
   "outputs": [
    {
     "name": "stdout",
     "output_type": "stream",
     "text": [
      "Normal:\n",
      "Mean square error: 0.11\n",
      "RMSE: 0.34\n",
      "\n",
      "Round:\n",
      "Mean square error: 0.11\n",
      "RMSE: 0.33\n",
      "\n",
      "Round lower threshold =0.33:\n",
      "Mean square error: 0.19\n",
      "RMSE: 0.43\n",
      "\n",
      "Round lower threshold = 0.45:\n",
      "Mean square error: 0.11\n",
      "RMSE: 0.33\n",
      "\n"
     ]
    }
   ],
   "source": [
    "print(\"Normal:\")\n",
    "check_predictions(y_test_random_split, predict)\n",
    "\n",
    "print(\"Round:\")\n",
    "check_predictions(y_test_random_split, round_predict)\n",
    "\n",
    "print(\"Round lower threshold =0.33:\")\n",
    "check_predictions(y_test_random_split, round_predict_lower_threshold33)\n",
    "\n",
    "print(\"Round lower threshold = 0.45:\")\n",
    "check_predictions(y_test_random_split, round_predict_lower_threshold45)"
   ]
  },
  {
   "cell_type": "markdown",
   "id": "cc12fba1",
   "metadata": {},
   "source": [
    "#### Confusion matrix"
   ]
  },
  {
   "cell_type": "code",
   "execution_count": 28,
   "id": "2e0ff478",
   "metadata": {},
   "outputs": [
    {
     "data": {
      "image/png": "[encoded data removed]",
      "text/plain": [
       "<Figure size 432x288 with 2 Axes>"
      ]
     },
     "metadata": {
      "needs_background": "light"
     },
     "output_type": "display_data"
    }
   ],
   "source": [
    "from sklearn.metrics import confusion_matrix, ConfusionMatrixDisplay\n",
    "import matplotlib.pyplot as plt\n",
    "\n",
    "cm = confusion_matrix(y_test_random_split, round_predict)\n",
    "\n",
    "disp = ConfusionMatrixDisplay(confusion_matrix=cm, display_labels=np.arange(-1, 22))\n",
    "\n",
    "disp.plot()\n",
    "plt.title(\"Confusion matrix\")\n",
    "plt.show()"
   ]
  },
  {
   "cell_type": "code",
   "execution_count": 30,
   "id": "066fa226",
   "metadata": {},
   "outputs": [
    {
     "data": {
      "image/png": "[encoded data removed]",
      "text/plain": [
       "<Figure size 432x288 with 2 Axes>"
      ]
     },
     "metadata": {
      "needs_background": "light"
     },
     "output_type": "display_data"
    }
   ],
   "source": [
    "from sklearn.metrics import confusion_matrix, ConfusionMatrixDisplay\n",
    "import matplotlib.pyplot as plt\n",
    "\n",
    "cm = confusion_matrix(y_test_random_split, round_predict_lower_threshold33)\n",
    "\n",
    "disp = ConfusionMatrixDisplay(confusion_matrix=cm, display_labels=np.arange(-1, 23))\n",
    "\n",
    "disp.plot()\n",
    "plt.title(\"Confusion matrix\")\n",
    "plt.show()"
   ]
  },
  {
   "cell_type": "markdown",
   "id": "e24e16c5",
   "metadata": {},
   "source": [
    "Here lower threshold works even worse."
   ]
  },
  {
   "cell_type": "code",
   "execution_count": null,
   "id": "b13aef8e",
   "metadata": {},
   "outputs": [],
   "source": []
  },
  {
   "cell_type": "code",
   "execution_count": 31,
   "id": "9884b971",
   "metadata": {},
   "outputs": [],
   "source": [
    "# save model to file\n",
    "# gbm.save_model('model.txt')"
   ]
  },
  {
   "cell_type": "markdown",
   "id": "43d6be90",
   "metadata": {},
   "source": [
    "Summary:\n",
    "* best results\n",
    "* set threshold to 0.5"
   ]
  }
 ],
 "metadata": {
  "kernelspec": {
   "display_name": "Python 3 (ipykernel)",
   "language": "python",
   "name": "python3"
  },
  "language_info": {
   "codemirror_mode": {
    "name": "ipython",
    "version": 3
   },
   "file_extension": ".py",
   "mimetype": "text/x-python",
   "name": "python",
   "nbconvert_exporter": "python",
   "pygments_lexer": "ipython3",
   "version": "3.9.0"
  }
 },
 "nbformat": 4,
 "nbformat_minor": 5
}
