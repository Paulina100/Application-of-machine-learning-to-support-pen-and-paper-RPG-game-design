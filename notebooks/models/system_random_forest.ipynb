{
 "cells": [
  {
   "cell_type": "markdown",
   "id": "98cf665b",
   "metadata": {},
   "source": [
    "# Las losowy\n",
    "### Parametry:\n",
    "* **abilities**:\n",
    "    * **cha**\n",
    "    * **con**\n",
    "    * **dex**\n",
    "    * **int**\n",
    "    * **str**\n",
    "    * **wis**\n",
    "* **attributes**\n",
    "    * **hp**\n",
    "    * **ac**\n",
    "\n",
    "### Przewidujemy: *level*"
   ]
  },
  {
   "cell_type": "code",
   "execution_count": 23,
   "id": "5c12590a",
   "metadata": {},
   "outputs": [],
   "source": [
    "import pandas as pd\n",
    "import numpy as np\n",
    "import sys\n",
    "\n",
    "sys.path.append(\"../..\")\n",
    "from training.creating_dataset import create_dataframe\n",
    "\n",
    "\n",
    "df = create_dataframe()"
   ]
  },
  {
   "cell_type": "code",
   "execution_count": 24,
   "id": "7b7d08ea",
   "metadata": {
    "scrolled": true
   },
   "outputs": [
    {
     "name": "stdout",
     "output_type": "stream",
     "text": [
      "<class 'pandas.core.frame.DataFrame'>\n",
      "Int64Index: 1206 entries, 0 to 1205\n",
      "Data columns (total 10 columns):\n",
      " #   Column  Non-Null Count  Dtype \n",
      "---  ------  --------------  ----- \n",
      " 0   level   1206 non-null   int64 \n",
      " 1   book    1206 non-null   object\n",
      " 2   cha     1206 non-null   int64 \n",
      " 3   con     1206 non-null   int64 \n",
      " 4   dex     1206 non-null   int64 \n",
      " 5   int     1206 non-null   int64 \n",
      " 6   str     1206 non-null   int64 \n",
      " 7   wis     1206 non-null   int64 \n",
      " 8   ac      1206 non-null   int64 \n",
      " 9   hp      1206 non-null   int64 \n",
      "dtypes: int64(9), object(1)\n",
      "memory usage: 103.6+ KB\n"
     ]
    }
   ],
   "source": [
    "df.info()"
   ]
  },
  {
   "cell_type": "code",
   "execution_count": 25,
   "id": "8a8af4ee",
   "metadata": {
    "scrolled": true
   },
   "outputs": [
    {
     "data": {
      "text/html": [
       "<div>\n",
       "<style scoped>\n",
       "    .dataframe tbody tr th:only-of-type {\n",
       "        vertical-align: middle;\n",
       "    }\n",
       "\n",
       "    .dataframe tbody tr th {\n",
       "        vertical-align: top;\n",
       "    }\n",
       "\n",
       "    .dataframe thead th {\n",
       "        text-align: right;\n",
       "    }\n",
       "</style>\n",
       "<table border=\"1\" class=\"dataframe\">\n",
       "  <thead>\n",
       "    <tr style=\"text-align: right;\">\n",
       "      <th></th>\n",
       "      <th>level</th>\n",
       "      <th>book</th>\n",
       "      <th>cha</th>\n",
       "      <th>con</th>\n",
       "      <th>dex</th>\n",
       "      <th>int</th>\n",
       "      <th>str</th>\n",
       "      <th>wis</th>\n",
       "      <th>ac</th>\n",
       "      <th>hp</th>\n",
       "    </tr>\n",
       "  </thead>\n",
       "  <tbody>\n",
       "    <tr>\n",
       "      <th>0</th>\n",
       "      <td>10</td>\n",
       "      <td>Pathfinder Bestiary</td>\n",
       "      <td>1</td>\n",
       "      <td>5</td>\n",
       "      <td>2</td>\n",
       "      <td>1</td>\n",
       "      <td>7</td>\n",
       "      <td>2</td>\n",
       "      <td>29</td>\n",
       "      <td>215</td>\n",
       "    </tr>\n",
       "    <tr>\n",
       "      <th>1</th>\n",
       "      <td>10</td>\n",
       "      <td>Pathfinder Bestiary</td>\n",
       "      <td>1</td>\n",
       "      <td>5</td>\n",
       "      <td>0</td>\n",
       "      <td>-4</td>\n",
       "      <td>9</td>\n",
       "      <td>2</td>\n",
       "      <td>28</td>\n",
       "      <td>220</td>\n",
       "    </tr>\n",
       "    <tr>\n",
       "      <th>2</th>\n",
       "      <td>8</td>\n",
       "      <td>Pathfinder Bestiary</td>\n",
       "      <td>-2</td>\n",
       "      <td>6</td>\n",
       "      <td>3</td>\n",
       "      <td>-4</td>\n",
       "      <td>7</td>\n",
       "      <td>3</td>\n",
       "      <td>25</td>\n",
       "      <td>175</td>\n",
       "    </tr>\n",
       "    <tr>\n",
       "      <th>3</th>\n",
       "      <td>17</td>\n",
       "      <td>Pathfinder Bestiary</td>\n",
       "      <td>6</td>\n",
       "      <td>5</td>\n",
       "      <td>4</td>\n",
       "      <td>6</td>\n",
       "      <td>7</td>\n",
       "      <td>5</td>\n",
       "      <td>41</td>\n",
       "      <td>315</td>\n",
       "    </tr>\n",
       "    <tr>\n",
       "      <th>4</th>\n",
       "      <td>1</td>\n",
       "      <td>Pathfinder Bestiary</td>\n",
       "      <td>1</td>\n",
       "      <td>1</td>\n",
       "      <td>3</td>\n",
       "      <td>-1</td>\n",
       "      <td>-5</td>\n",
       "      <td>1</td>\n",
       "      <td>16</td>\n",
       "      <td>20</td>\n",
       "    </tr>\n",
       "  </tbody>\n",
       "</table>\n",
       "</div>"
      ],
      "text/plain": [
       "   level                 book  cha  con  dex  int  str  wis  ac   hp\n",
       "0     10  Pathfinder Bestiary    1    5    2    1    7    2  29  215\n",
       "1     10  Pathfinder Bestiary    1    5    0   -4    9    2  28  220\n",
       "2      8  Pathfinder Bestiary   -2    6    3   -4    7    3  25  175\n",
       "3     17  Pathfinder Bestiary    6    5    4    6    7    5  41  315\n",
       "4      1  Pathfinder Bestiary    1    1    3   -1   -5    1  16   20"
      ]
     },
     "execution_count": 25,
     "metadata": {},
     "output_type": "execute_result"
    }
   ],
   "source": [
    "df.head()"
   ]
  },
  {
   "cell_type": "markdown",
   "id": "be627ad9",
   "metadata": {},
   "source": [
    "###### Level"
   ]
  },
  {
   "cell_type": "code",
   "execution_count": 26,
   "id": "d8ba0852",
   "metadata": {
    "scrolled": true
   },
   "outputs": [],
   "source": [
    "y = df[\"level\"]"
   ]
  },
  {
   "cell_type": "code",
   "execution_count": 27,
   "id": "9b982ddc",
   "metadata": {},
   "outputs": [
    {
     "name": "stdout",
     "output_type": "stream",
     "text": [
      "0       10\n",
      "1       10\n",
      "2        8\n",
      "3       17\n",
      "4        1\n",
      "        ..\n",
      "1201    20\n",
      "1202    -1\n",
      "1203    12\n",
      "1204     6\n",
      "1205     6\n",
      "Name: level, Length: 1206, dtype: int64\n"
     ]
    }
   ],
   "source": [
    "print(y)"
   ]
  },
  {
   "cell_type": "code",
   "execution_count": 28,
   "id": "ca50133e",
   "metadata": {},
   "outputs": [],
   "source": [
    "from collections import defaultdict\n",
    "\n",
    "\n",
    "lvl_stat = defaultdict(lambda: 0)\n",
    "\n",
    "for lvl in y:\n",
    "    lvl_stat[lvl] += 1"
   ]
  },
  {
   "cell_type": "code",
   "execution_count": 29,
   "id": "fe66a2b5",
   "metadata": {},
   "outputs": [
    {
     "name": "stdout",
     "output_type": "stream",
     "text": [
      "    lvl  count\n",
      "0    -1     34\n",
      "1     0     27\n",
      "2     1    127\n",
      "3     2    121\n",
      "4     3     95\n",
      "5     4     82\n",
      "6     5     76\n",
      "7     6     72\n",
      "8     7     77\n",
      "9     8     68\n",
      "10    9     63\n",
      "11   10     58\n",
      "12   11     40\n",
      "13   12     41\n",
      "14   13     36\n",
      "15   14     33\n",
      "16   15     31\n",
      "17   16     25\n",
      "18   17     21\n",
      "19   18     21\n",
      "20   19     18\n",
      "21   20     24\n",
      "22   21     16\n"
     ]
    }
   ],
   "source": [
    "level_count = pd.DataFrame(\n",
    "    data={\n",
    "        \"lvl\": [key for key in sorted(lvl_stat.keys())],\n",
    "        \"count\": [lvl_stat.get(key) for key in sorted(lvl_stat.keys())],\n",
    "    }\n",
    ")\n",
    "print(level_count)"
   ]
  },
  {
   "cell_type": "code",
   "execution_count": 30,
   "id": "7dadfffd",
   "metadata": {
    "scrolled": true
   },
   "outputs": [
    {
     "data": {
      "image/png": "[encoded data removed]",
      "text/plain": [
       "<Figure size 432x288 with 1 Axes>"
      ]
     },
     "metadata": {
      "needs_background": "light"
     },
     "output_type": "display_data"
    }
   ],
   "source": [
    "import matplotlib.pyplot as plt\n",
    "\n",
    "level_count.plot.bar(x=\"lvl\", y=\"count\", title=\"Count of levels\")\n",
    "plt.show()"
   ]
  },
  {
   "cell_type": "markdown",
   "id": "382df77c",
   "metadata": {},
   "source": [
    "## Podział na zbiór treningowy i testowy"
   ]
  },
  {
   "cell_type": "markdown",
   "id": "b7123172",
   "metadata": {},
   "source": [
    "### Podział chronologiczny"
   ]
  },
  {
   "cell_type": "code",
   "execution_count": 31,
   "id": "e80ac4f5",
   "metadata": {
    "scrolled": true
   },
   "outputs": [],
   "source": [
    "from training.splitting_dataset import split_dataframe\n",
    "import os\n",
    "\n",
    "os.chdir(\"../../training\")\n",
    "X_train, X_test, y_train, y_test = split_dataframe(df, test_size=0.31)\n",
    "os.chdir(\"../notebooks/models\")"
   ]
  },
  {
   "cell_type": "code",
   "execution_count": 32,
   "id": "f4338cbb",
   "metadata": {},
   "outputs": [],
   "source": [
    "X_train = X_train.drop(columns=[\"book\"])\n",
    "X_test = X_test.drop(columns=[\"book\"])"
   ]
  },
  {
   "cell_type": "markdown",
   "id": "9eae14cc",
   "metadata": {},
   "source": [
    "### Podział randomowy"
   ]
  },
  {
   "cell_type": "code",
   "execution_count": 33,
   "id": "4919d543",
   "metadata": {},
   "outputs": [],
   "source": [
    "from training.splitting_dataset import split_dataframe\n",
    "\n",
    "(\n",
    "    X_train_random_split,\n",
    "    X_test_random_split,\n",
    "    y_train_random_split,\n",
    "    y_test_random_split,\n",
    ") = split_dataframe(df, chronological_split=False)"
   ]
  },
  {
   "cell_type": "code",
   "execution_count": 34,
   "id": "30dfbabf",
   "metadata": {
    "scrolled": true
   },
   "outputs": [],
   "source": [
    "X_train_random_split = X_train_random_split.drop(columns=[\"book\"])\n",
    "X_test_random_split = X_test_random_split.drop(columns=[\"book\"])"
   ]
  },
  {
   "cell_type": "markdown",
   "id": "449173a7",
   "metadata": {},
   "source": [
    "## Regresja lasem losowym"
   ]
  },
  {
   "cell_type": "code",
   "execution_count": 35,
   "id": "9acf8c0c",
   "metadata": {},
   "outputs": [
    {
     "data": {
      "text/html": [
       "<style>#sk-container-id-2 {color: black;background-color: white;}#sk-container-id-2 pre{padding: 0;}#sk-container-id-2 div.sk-toggleable {background-color: white;}#sk-container-id-2 label.sk-toggleable__label {cursor: pointer;display: block;width: 100%;margin-bottom: 0;padding: 0.3em;box-sizing: border-box;text-align: center;}#sk-container-id-2 label.sk-toggleable__label-arrow:before {content: \"▸\";float: left;margin-right: 0.25em;color: #696969;}#sk-container-id-2 label.sk-toggleable__label-arrow:hover:before {color: black;}#sk-container-id-2 div.sk-estimator:hover label.sk-toggleable__label-arrow:before {color: black;}#sk-container-id-2 div.sk-toggleable__content {max-height: 0;max-width: 0;overflow: hidden;text-align: left;background-color: #f0f8ff;}#sk-container-id-2 div.sk-toggleable__content pre {margin: 0.2em;color: black;border-radius: 0.25em;background-color: #f0f8ff;}#sk-container-id-2 input.sk-toggleable__control:checked~div.sk-toggleable__content {max-height: 200px;max-width: 100%;overflow: auto;}#sk-container-id-2 input.sk-toggleable__control:checked~label.sk-toggleable__label-arrow:before {content: \"▾\";}#sk-container-id-2 div.sk-estimator input.sk-toggleable__control:checked~label.sk-toggleable__label {background-color: #d4ebff;}#sk-container-id-2 div.sk-label input.sk-toggleable__control:checked~label.sk-toggleable__label {background-color: #d4ebff;}#sk-container-id-2 input.sk-hidden--visually {border: 0;clip: rect(1px 1px 1px 1px);clip: rect(1px, 1px, 1px, 1px);height: 1px;margin: -1px;overflow: hidden;padding: 0;position: absolute;width: 1px;}#sk-container-id-2 div.sk-estimator {font-family: monospace;background-color: #f0f8ff;border: 1px dotted black;border-radius: 0.25em;box-sizing: border-box;margin-bottom: 0.5em;}#sk-container-id-2 div.sk-estimator:hover {background-color: #d4ebff;}#sk-container-id-2 div.sk-parallel-item::after {content: \"\";width: 100%;border-bottom: 1px solid gray;flex-grow: 1;}#sk-container-id-2 div.sk-label:hover label.sk-toggleable__label {background-color: #d4ebff;}#sk-container-id-2 div.sk-serial::before {content: \"\";position: absolute;border-left: 1px solid gray;box-sizing: border-box;top: 0;bottom: 0;left: 50%;z-index: 0;}#sk-container-id-2 div.sk-serial {display: flex;flex-direction: column;align-items: center;background-color: white;padding-right: 0.2em;padding-left: 0.2em;position: relative;}#sk-container-id-2 div.sk-item {position: relative;z-index: 1;}#sk-container-id-2 div.sk-parallel {display: flex;align-items: stretch;justify-content: center;background-color: white;position: relative;}#sk-container-id-2 div.sk-item::before, #sk-container-id-2 div.sk-parallel-item::before {content: \"\";position: absolute;border-left: 1px solid gray;box-sizing: border-box;top: 0;bottom: 0;left: 50%;z-index: -1;}#sk-container-id-2 div.sk-parallel-item {display: flex;flex-direction: column;z-index: 1;position: relative;background-color: white;}#sk-container-id-2 div.sk-parallel-item:first-child::after {align-self: flex-end;width: 50%;}#sk-container-id-2 div.sk-parallel-item:last-child::after {align-self: flex-start;width: 50%;}#sk-container-id-2 div.sk-parallel-item:only-child::after {width: 0;}#sk-container-id-2 div.sk-dashed-wrapped {border: 1px dashed gray;margin: 0 0.4em 0.5em 0.4em;box-sizing: border-box;padding-bottom: 0.4em;background-color: white;}#sk-container-id-2 div.sk-label label {font-family: monospace;font-weight: bold;display: inline-block;line-height: 1.2em;}#sk-container-id-2 div.sk-label-container {text-align: center;}#sk-container-id-2 div.sk-container {/* jupyter's `normalize.less` sets `[hidden] { display: none; }` but bootstrap.min.css set `[hidden] { display: none !important; }` so we also need the `!important` here to be able to override the default hidden behavior on the sphinx rendered scikit-learn.org. See: https://github.com/scikit-learn/scikit-learn/issues/21755 */display: inline-block !important;position: relative;}#sk-container-id-2 div.sk-text-repr-fallback {display: none;}</style><div id=\"sk-container-id-2\" class=\"sk-top-container\"><div class=\"sk-text-repr-fallback\"><pre>RandomForestRegressor(max_depth=2, n_estimators=500, n_jobs=-1, random_state=0)</pre><b>In a Jupyter environment, please rerun this cell to show the HTML representation or trust the notebook. <br />On GitHub, the HTML representation is unable to render, please try loading this page with nbviewer.org.</b></div><div class=\"sk-container\" hidden><div class=\"sk-item\"><div class=\"sk-estimator sk-toggleable\"><input class=\"sk-toggleable__control sk-hidden--visually\" id=\"sk-estimator-id-2\" type=\"checkbox\" checked><label for=\"sk-estimator-id-2\" class=\"sk-toggleable__label sk-toggleable__label-arrow\">RandomForestRegressor</label><div class=\"sk-toggleable__content\"><pre>RandomForestRegressor(max_depth=2, n_estimators=500, n_jobs=-1, random_state=0)</pre></div></div></div></div></div>"
      ],
      "text/plain": [
       "RandomForestRegressor(max_depth=2, n_estimators=500, n_jobs=-1, random_state=0)"
      ]
     },
     "execution_count": 35,
     "metadata": {},
     "output_type": "execute_result"
    }
   ],
   "source": [
    "from sklearn.ensemble import RandomForestRegressor\n",
    "\n",
    "rf_reg = RandomForestRegressor(n_estimators=500, max_depth=2, random_state=0, n_jobs=-1)\n",
    "rf_reg.fit(X_train, y_train)"
   ]
  },
  {
   "cell_type": "code",
   "execution_count": 36,
   "id": "a81582c5",
   "metadata": {},
   "outputs": [],
   "source": [
    "y_pred_train = rf_reg.predict(X_train)\n",
    "y_pred_test = rf_reg.predict(X_test)"
   ]
  },
  {
   "cell_type": "code",
   "execution_count": 37,
   "id": "f132bb62",
   "metadata": {
    "scrolled": true
   },
   "outputs": [
    {
     "name": "stdout",
     "output_type": "stream",
     "text": [
      "MSE: 2.23\n",
      "RMSE: 1.49\n"
     ]
    }
   ],
   "source": [
    "from sklearn.metrics import mean_squared_error\n",
    "\n",
    "mse = mean_squared_error(y_test, y_pred_test)\n",
    "rmse = mean_squared_error(y_test, y_pred_test, squared=False)\n",
    "print(f\"MSE: {mse:.2f}\")\n",
    "print(f\"RMSE: {rmse:.2f}\")"
   ]
  },
  {
   "cell_type": "markdown",
   "id": "0f4f20d9",
   "metadata": {},
   "source": [
    "RMSE jest duże, zobaczymy zmianę wyników po tuningu."
   ]
  },
  {
   "cell_type": "code",
   "execution_count": 38,
   "id": "7c1b9b76",
   "metadata": {
    "scrolled": false
   },
   "outputs": [
    {
     "name": "stdout",
     "output_type": "stream",
     "text": [
      "RMSE train: 1.22\n",
      "RMSE test: 1.49\n"
     ]
    }
   ],
   "source": [
    "rmse_train = mean_squared_error(y_train, y_pred_train, squared=False)\n",
    "rmse_test = mean_squared_error(y_test, y_pred_test, squared=False)\n",
    "print(f\"RMSE train: {rmse_train:.2f}\")\n",
    "print(f\"RMSE test: {rmse_test:.2f}\")"
   ]
  },
  {
   "cell_type": "markdown",
   "id": "bc1b63d6",
   "metadata": {},
   "source": [
    "Nie ma overfittingu."
   ]
  },
  {
   "cell_type": "markdown",
   "id": "3dfff344",
   "metadata": {},
   "source": [
    "## Tuning"
   ]
  },
  {
   "cell_type": "code",
   "execution_count": 39,
   "id": "7d949537",
   "metadata": {},
   "outputs": [],
   "source": [
    "def assess_regression_model(model, X_train, X_test, y_train, y_test) -> None:\n",
    "    # predict for train and test\n",
    "    y_pred_test = model.predict(X_test)\n",
    "    y_pred_train = model.predict(X_train)\n",
    "    # calculate train and test RMSE\n",
    "    rmse_train = mean_squared_error(y_train, y_pred_train, squared=False)\n",
    "    rmse_test = mean_squared_error(y_test, y_pred_test, squared=False)\n",
    "    # print train and test RMSE\n",
    "    print(f\"RMSE train: {rmse_train:.2f}\")\n",
    "    print(f\"RMSE test: {rmse_test:.2f}\")"
   ]
  },
  {
   "cell_type": "markdown",
   "id": "99df57ea",
   "metadata": {},
   "source": [
    "### Tuning Lasu"
   ]
  },
  {
   "cell_type": "code",
   "execution_count": 40,
   "id": "b6e6f3ed",
   "metadata": {
    "scrolled": true
   },
   "outputs": [
    {
     "name": "stdout",
     "output_type": "stream",
     "text": [
      "{'n_estimators': [100, 200, 300, 400, 500, 600, 700, 800], 'max_features': [0.1, 0.2, 0.3, 0.4, 0.5], 'max_depth': [10, 20, 30, 40, 50, 60, 70, 80, 90, 100, 110, None]}\n"
     ]
    }
   ],
   "source": [
    "from sklearn.model_selection import RandomizedSearchCV\n",
    "\n",
    "n_estimators = [int(x) for x in np.linspace(start=100, stop=800, num=8)]\n",
    "max_features = [0.1, 0.2, 0.3, 0.4, 0.5]\n",
    "max_depth = list(range(10, 111, 10)) + [None]\n",
    "\n",
    "hyper_params = {\n",
    "    \"n_estimators\": n_estimators,\n",
    "    \"max_features\": max_features,\n",
    "    \"max_depth\": max_depth,\n",
    "}\n",
    "\n",
    "print(hyper_params)"
   ]
  },
  {
   "cell_type": "code",
   "execution_count": 41,
   "id": "f524fbb3",
   "metadata": {
    "scrolled": true
   },
   "outputs": [
    {
     "name": "stdout",
     "output_type": "stream",
     "text": [
      "Fitting 3 folds for each of 100 candidates, totalling 300 fits\n",
      "[CV] END ...max_depth=20, max_features=0.5, n_estimators=200; total time=   2.1s\n",
      "[CV] END ...max_depth=20, max_features=0.5, n_estimators=200; total time=   0.1s\n",
      "[CV] END ...max_depth=20, max_features=0.5, n_estimators=200; total time=   0.1s\n",
      "[CV] END ..max_depth=110, max_features=0.2, n_estimators=700; total time=   0.5s\n",
      "[CV] END ..max_depth=110, max_features=0.2, n_estimators=700; total time=   0.4s\n",
      "[CV] END ..max_depth=110, max_features=0.2, n_estimators=700; total time=   0.4s\n",
      "[CV] END ..max_depth=100, max_features=0.5, n_estimators=300; total time=   0.2s\n",
      "[CV] END ..max_depth=100, max_features=0.5, n_estimators=300; total time=   0.1s\n",
      "[CV] END ..max_depth=100, max_features=0.5, n_estimators=300; total time=   0.2s\n",
      "[CV] END ...max_depth=70, max_features=0.5, n_estimators=600; total time=   0.4s\n",
      "[CV] END ...max_depth=70, max_features=0.5, n_estimators=600; total time=   0.4s\n",
      "[CV] END ...max_depth=70, max_features=0.5, n_estimators=600; total time=   0.4s\n",
      "[CV] END ..max_depth=100, max_features=0.5, n_estimators=800; total time=   0.5s\n",
      "[CV] END ..max_depth=100, max_features=0.5, n_estimators=800; total time=   0.5s\n",
      "[CV] END ..max_depth=100, max_features=0.5, n_estimators=800; total time=   0.5s\n",
      "[CV] END ...max_depth=50, max_features=0.2, n_estimators=500; total time=   0.3s\n",
      "[CV] END ...max_depth=50, max_features=0.2, n_estimators=500; total time=   0.3s\n",
      "[CV] END ...max_depth=50, max_features=0.2, n_estimators=500; total time=   0.3s\n",
      "[CV] END ...max_depth=70, max_features=0.4, n_estimators=500; total time=   0.3s\n",
      "[CV] END ...max_depth=70, max_features=0.4, n_estimators=500; total time=   0.3s\n",
      "[CV] END ...max_depth=70, max_features=0.4, n_estimators=500; total time=   0.3s\n",
      "[CV] END ..max_depth=100, max_features=0.2, n_estimators=800; total time=   0.5s\n",
      "[CV] END ..max_depth=100, max_features=0.2, n_estimators=800; total time=   0.6s\n",
      "[CV] END ..max_depth=100, max_features=0.2, n_estimators=800; total time=   0.5s\n",
      "[CV] END ...max_depth=20, max_features=0.5, n_estimators=600; total time=   0.4s\n",
      "[CV] END ...max_depth=20, max_features=0.5, n_estimators=600; total time=   0.4s\n",
      "[CV] END ...max_depth=20, max_features=0.5, n_estimators=600; total time=   0.4s\n",
      "[CV] END .max_depth=None, max_features=0.1, n_estimators=300; total time=   0.2s\n",
      "[CV] END .max_depth=None, max_features=0.1, n_estimators=300; total time=   0.2s\n",
      "[CV] END .max_depth=None, max_features=0.1, n_estimators=300; total time=   0.2s\n",
      "[CV] END ...max_depth=10, max_features=0.2, n_estimators=200; total time=   0.1s\n",
      "[CV] END ...max_depth=10, max_features=0.2, n_estimators=200; total time=   0.1s\n",
      "[CV] END ...max_depth=10, max_features=0.2, n_estimators=200; total time=   0.1s\n",
      "[CV] END ...max_depth=80, max_features=0.1, n_estimators=200; total time=   0.1s\n",
      "[CV] END ...max_depth=80, max_features=0.1, n_estimators=200; total time=   0.1s\n",
      "[CV] END ...max_depth=80, max_features=0.1, n_estimators=200; total time=   0.1s\n",
      "[CV] END ..max_depth=110, max_features=0.5, n_estimators=200; total time=   0.1s\n",
      "[CV] END ..max_depth=110, max_features=0.5, n_estimators=200; total time=   0.1s\n",
      "[CV] END ..max_depth=110, max_features=0.5, n_estimators=200; total time=   0.1s\n",
      "[CV] END ...max_depth=80, max_features=0.3, n_estimators=300; total time=   0.2s\n",
      "[CV] END ...max_depth=80, max_features=0.3, n_estimators=300; total time=   0.2s\n",
      "[CV] END ...max_depth=80, max_features=0.3, n_estimators=300; total time=   0.2s\n",
      "[CV] END ...max_depth=10, max_features=0.4, n_estimators=700; total time=   0.5s\n",
      "[CV] END ...max_depth=10, max_features=0.4, n_estimators=700; total time=   0.4s\n",
      "[CV] END ...max_depth=10, max_features=0.4, n_estimators=700; total time=   0.5s\n",
      "[CV] END ...max_depth=30, max_features=0.2, n_estimators=600; total time=   0.4s\n",
      "[CV] END ...max_depth=30, max_features=0.2, n_estimators=600; total time=   0.4s\n",
      "[CV] END ...max_depth=30, max_features=0.2, n_estimators=600; total time=   0.4s\n",
      "[CV] END ...max_depth=20, max_features=0.2, n_estimators=800; total time=   0.5s\n",
      "[CV] END ...max_depth=20, max_features=0.2, n_estimators=800; total time=   0.5s\n",
      "[CV] END ...max_depth=20, max_features=0.2, n_estimators=800; total time=   0.6s\n",
      "[CV] END ..max_depth=110, max_features=0.3, n_estimators=800; total time=   0.5s\n",
      "[CV] END ..max_depth=110, max_features=0.3, n_estimators=800; total time=   0.5s\n",
      "[CV] END ..max_depth=110, max_features=0.3, n_estimators=800; total time=   0.4s\n",
      "[CV] END ...max_depth=10, max_features=0.5, n_estimators=200; total time=   0.1s\n",
      "[CV] END ...max_depth=10, max_features=0.5, n_estimators=200; total time=   0.1s\n",
      "[CV] END ...max_depth=10, max_features=0.5, n_estimators=200; total time=   0.2s\n",
      "[CV] END ...max_depth=60, max_features=0.1, n_estimators=400; total time=   0.2s\n",
      "[CV] END ...max_depth=60, max_features=0.1, n_estimators=400; total time=   0.2s\n",
      "[CV] END ...max_depth=60, max_features=0.1, n_estimators=400; total time=   0.2s\n",
      "[CV] END ...max_depth=50, max_features=0.3, n_estimators=500; total time=   0.3s\n",
      "[CV] END ...max_depth=50, max_features=0.3, n_estimators=500; total time=   0.3s\n",
      "[CV] END ...max_depth=50, max_features=0.3, n_estimators=500; total time=   0.3s\n",
      "[CV] END .max_depth=None, max_features=0.4, n_estimators=200; total time=   0.1s\n",
      "[CV] END .max_depth=None, max_features=0.4, n_estimators=200; total time=   0.1s\n",
      "[CV] END .max_depth=None, max_features=0.4, n_estimators=200; total time=   0.1s\n",
      "[CV] END ...max_depth=20, max_features=0.4, n_estimators=700; total time=   0.5s\n",
      "[CV] END ...max_depth=20, max_features=0.4, n_estimators=700; total time=   0.5s\n",
      "[CV] END ...max_depth=20, max_features=0.4, n_estimators=700; total time=   0.4s\n",
      "[CV] END ...max_depth=70, max_features=0.3, n_estimators=600; total time=   0.4s\n",
      "[CV] END ...max_depth=70, max_features=0.3, n_estimators=600; total time=   0.4s\n",
      "[CV] END ...max_depth=70, max_features=0.3, n_estimators=600; total time=   0.4s\n",
      "[CV] END ...max_depth=30, max_features=0.4, n_estimators=100; total time=   0.0s\n",
      "[CV] END ...max_depth=30, max_features=0.4, n_estimators=100; total time=   0.0s\n",
      "[CV] END ...max_depth=30, max_features=0.4, n_estimators=100; total time=   0.0s\n",
      "[CV] END .max_depth=None, max_features=0.5, n_estimators=300; total time=   0.2s\n",
      "[CV] END .max_depth=None, max_features=0.5, n_estimators=300; total time=   0.2s\n",
      "[CV] END .max_depth=None, max_features=0.5, n_estimators=300; total time=   0.2s\n",
      "[CV] END ...max_depth=90, max_features=0.5, n_estimators=700; total time=   0.4s\n",
      "[CV] END ...max_depth=90, max_features=0.5, n_estimators=700; total time=   0.5s\n",
      "[CV] END ...max_depth=90, max_features=0.5, n_estimators=700; total time=   0.5s\n",
      "[CV] END ...max_depth=90, max_features=0.1, n_estimators=200; total time=   0.1s\n",
      "[CV] END ...max_depth=90, max_features=0.1, n_estimators=200; total time=   0.1s\n",
      "[CV] END ...max_depth=90, max_features=0.1, n_estimators=200; total time=   0.1s\n",
      "[CV] END ...max_depth=80, max_features=0.3, n_estimators=600; total time=   0.5s\n",
      "[CV] END ...max_depth=80, max_features=0.3, n_estimators=600; total time=   0.4s\n",
      "[CV] END ...max_depth=80, max_features=0.3, n_estimators=600; total time=   0.4s\n",
      "[CV] END ...max_depth=10, max_features=0.1, n_estimators=100; total time=   0.0s\n",
      "[CV] END ...max_depth=10, max_features=0.1, n_estimators=100; total time=   0.0s\n",
      "[CV] END ...max_depth=10, max_features=0.1, n_estimators=100; total time=   0.0s\n",
      "[CV] END ..max_depth=100, max_features=0.4, n_estimators=800; total time=   0.5s\n",
      "[CV] END ..max_depth=100, max_features=0.4, n_estimators=800; total time=   0.5s\n",
      "[CV] END ..max_depth=100, max_features=0.4, n_estimators=800; total time=   0.4s\n",
      "[CV] END ...max_depth=10, max_features=0.2, n_estimators=400; total time=   0.2s\n",
      "[CV] END ...max_depth=10, max_features=0.2, n_estimators=400; total time=   0.2s\n",
      "[CV] END ...max_depth=10, max_features=0.2, n_estimators=400; total time=   0.2s\n",
      "[CV] END ..max_depth=100, max_features=0.3, n_estimators=500; total time=   0.3s\n",
      "[CV] END ..max_depth=100, max_features=0.3, n_estimators=500; total time=   0.3s\n",
      "[CV] END ..max_depth=100, max_features=0.3, n_estimators=500; total time=   0.3s\n",
      "[CV] END ..max_depth=110, max_features=0.4, n_estimators=700; total time=   0.4s\n",
      "[CV] END ..max_depth=110, max_features=0.4, n_estimators=700; total time=   0.5s\n"
     ]
    },
    {
     "name": "stdout",
     "output_type": "stream",
     "text": [
      "[CV] END ..max_depth=110, max_features=0.4, n_estimators=700; total time=   0.4s\n",
      "[CV] END ..max_depth=100, max_features=0.3, n_estimators=200; total time=   0.1s\n",
      "[CV] END ..max_depth=100, max_features=0.3, n_estimators=200; total time=   0.1s\n",
      "[CV] END ..max_depth=100, max_features=0.3, n_estimators=200; total time=   0.1s\n",
      "[CV] END ...max_depth=30, max_features=0.5, n_estimators=600; total time=   0.4s\n",
      "[CV] END ...max_depth=30, max_features=0.5, n_estimators=600; total time=   0.4s\n",
      "[CV] END ...max_depth=30, max_features=0.5, n_estimators=600; total time=   0.4s\n",
      "[CV] END ...max_depth=80, max_features=0.3, n_estimators=700; total time=   0.5s\n",
      "[CV] END ...max_depth=80, max_features=0.3, n_estimators=700; total time=   0.5s\n",
      "[CV] END ...max_depth=80, max_features=0.3, n_estimators=700; total time=   0.4s\n",
      "[CV] END ...max_depth=50, max_features=0.2, n_estimators=600; total time=   0.4s\n",
      "[CV] END ...max_depth=50, max_features=0.2, n_estimators=600; total time=   0.4s\n",
      "[CV] END ...max_depth=50, max_features=0.2, n_estimators=600; total time=   0.4s\n",
      "[CV] END .max_depth=None, max_features=0.4, n_estimators=800; total time=   0.5s\n",
      "[CV] END .max_depth=None, max_features=0.4, n_estimators=800; total time=   0.5s\n",
      "[CV] END .max_depth=None, max_features=0.4, n_estimators=800; total time=   0.4s\n",
      "[CV] END ...max_depth=10, max_features=0.3, n_estimators=300; total time=   0.2s\n",
      "[CV] END ...max_depth=10, max_features=0.3, n_estimators=300; total time=   0.2s\n",
      "[CV] END ...max_depth=10, max_features=0.3, n_estimators=300; total time=   0.2s\n",
      "[CV] END ...max_depth=90, max_features=0.2, n_estimators=500; total time=   0.3s\n",
      "[CV] END ...max_depth=90, max_features=0.2, n_estimators=500; total time=   0.3s\n",
      "[CV] END ...max_depth=90, max_features=0.2, n_estimators=500; total time=   0.3s\n",
      "[CV] END ...max_depth=50, max_features=0.4, n_estimators=200; total time=   0.1s\n",
      "[CV] END ...max_depth=50, max_features=0.4, n_estimators=200; total time=   0.1s\n",
      "[CV] END ...max_depth=50, max_features=0.4, n_estimators=200; total time=   0.1s\n",
      "[CV] END ...max_depth=30, max_features=0.2, n_estimators=300; total time=   0.2s\n",
      "[CV] END ...max_depth=30, max_features=0.2, n_estimators=300; total time=   0.2s\n",
      "[CV] END ...max_depth=30, max_features=0.2, n_estimators=300; total time=   0.2s\n",
      "[CV] END ...max_depth=60, max_features=0.3, n_estimators=500; total time=   0.3s\n",
      "[CV] END ...max_depth=60, max_features=0.3, n_estimators=500; total time=   0.3s\n",
      "[CV] END ...max_depth=60, max_features=0.3, n_estimators=500; total time=   0.3s\n",
      "[CV] END ...max_depth=10, max_features=0.5, n_estimators=800; total time=   0.5s\n",
      "[CV] END ...max_depth=10, max_features=0.5, n_estimators=800; total time=   0.6s\n",
      "[CV] END ...max_depth=10, max_features=0.5, n_estimators=800; total time=   0.6s\n",
      "[CV] END ...max_depth=90, max_features=0.1, n_estimators=400; total time=   0.2s\n",
      "[CV] END ...max_depth=90, max_features=0.1, n_estimators=400; total time=   0.2s\n",
      "[CV] END ...max_depth=90, max_features=0.1, n_estimators=400; total time=   0.2s\n",
      "[CV] END .max_depth=None, max_features=0.3, n_estimators=400; total time=   0.3s\n",
      "[CV] END .max_depth=None, max_features=0.3, n_estimators=400; total time=   0.2s\n",
      "[CV] END .max_depth=None, max_features=0.3, n_estimators=400; total time=   0.2s\n",
      "[CV] END ...max_depth=20, max_features=0.5, n_estimators=500; total time=   0.3s\n",
      "[CV] END ...max_depth=20, max_features=0.5, n_estimators=500; total time=   0.3s\n",
      "[CV] END ...max_depth=20, max_features=0.5, n_estimators=500; total time=   0.3s\n",
      "[CV] END ...max_depth=40, max_features=0.5, n_estimators=400; total time=   0.2s\n",
      "[CV] END ...max_depth=40, max_features=0.5, n_estimators=400; total time=   0.2s\n",
      "[CV] END ...max_depth=40, max_features=0.5, n_estimators=400; total time=   0.2s\n",
      "[CV] END ...max_depth=20, max_features=0.3, n_estimators=800; total time=   0.5s\n",
      "[CV] END ...max_depth=20, max_features=0.3, n_estimators=800; total time=   0.5s\n",
      "[CV] END ...max_depth=20, max_features=0.3, n_estimators=800; total time=   0.5s\n",
      "[CV] END ..max_depth=100, max_features=0.4, n_estimators=700; total time=   0.5s\n",
      "[CV] END ..max_depth=100, max_features=0.4, n_estimators=700; total time=   0.4s\n",
      "[CV] END ..max_depth=100, max_features=0.4, n_estimators=700; total time=   0.4s\n",
      "[CV] END ...max_depth=90, max_features=0.3, n_estimators=500; total time=   0.3s\n",
      "[CV] END ...max_depth=90, max_features=0.3, n_estimators=500; total time=   0.3s\n",
      "[CV] END ...max_depth=90, max_features=0.3, n_estimators=500; total time=   0.3s\n",
      "[CV] END ..max_depth=110, max_features=0.2, n_estimators=800; total time=   0.5s\n",
      "[CV] END ..max_depth=110, max_features=0.2, n_estimators=800; total time=   0.4s\n",
      "[CV] END ..max_depth=110, max_features=0.2, n_estimators=800; total time=   0.5s\n",
      "[CV] END ..max_depth=110, max_features=0.5, n_estimators=300; total time=   0.2s\n",
      "[CV] END ..max_depth=110, max_features=0.5, n_estimators=300; total time=   0.2s\n",
      "[CV] END ..max_depth=110, max_features=0.5, n_estimators=300; total time=   0.2s\n",
      "[CV] END ...max_depth=80, max_features=0.4, n_estimators=200; total time=   0.1s\n",
      "[CV] END ...max_depth=80, max_features=0.4, n_estimators=200; total time=   0.1s\n",
      "[CV] END ...max_depth=80, max_features=0.4, n_estimators=200; total time=   0.1s\n",
      "[CV] END ...max_depth=70, max_features=0.4, n_estimators=300; total time=   0.2s\n",
      "[CV] END ...max_depth=70, max_features=0.4, n_estimators=300; total time=   0.2s\n",
      "[CV] END ...max_depth=70, max_features=0.4, n_estimators=300; total time=   0.2s\n",
      "[CV] END ...max_depth=30, max_features=0.1, n_estimators=300; total time=   0.2s\n",
      "[CV] END ...max_depth=30, max_features=0.1, n_estimators=300; total time=   0.2s\n",
      "[CV] END ...max_depth=30, max_features=0.1, n_estimators=300; total time=   0.2s\n",
      "[CV] END ...max_depth=30, max_features=0.3, n_estimators=600; total time=   0.4s\n",
      "[CV] END ...max_depth=30, max_features=0.3, n_estimators=600; total time=   0.4s\n",
      "[CV] END ...max_depth=30, max_features=0.3, n_estimators=600; total time=   0.4s\n",
      "[CV] END .max_depth=None, max_features=0.5, n_estimators=600; total time=   0.4s\n",
      "[CV] END .max_depth=None, max_features=0.5, n_estimators=600; total time=   0.4s\n",
      "[CV] END .max_depth=None, max_features=0.5, n_estimators=600; total time=   0.4s\n",
      "[CV] END ...max_depth=30, max_features=0.5, n_estimators=200; total time=   0.1s\n",
      "[CV] END ...max_depth=30, max_features=0.5, n_estimators=200; total time=   0.1s\n",
      "[CV] END ...max_depth=30, max_features=0.5, n_estimators=200; total time=   0.1s\n",
      "[CV] END .max_depth=None, max_features=0.3, n_estimators=800; total time=   0.5s\n",
      "[CV] END .max_depth=None, max_features=0.3, n_estimators=800; total time=   0.4s\n",
      "[CV] END .max_depth=None, max_features=0.3, n_estimators=800; total time=   0.5s\n",
      "[CV] END ...max_depth=70, max_features=0.2, n_estimators=600; total time=   0.4s\n",
      "[CV] END ...max_depth=70, max_features=0.2, n_estimators=600; total time=   0.4s\n",
      "[CV] END ...max_depth=70, max_features=0.2, n_estimators=600; total time=   0.4s\n",
      "[CV] END ...max_depth=20, max_features=0.5, n_estimators=700; total time=   0.5s\n",
      "[CV] END ...max_depth=20, max_features=0.5, n_estimators=700; total time=   0.6s\n",
      "[CV] END ...max_depth=20, max_features=0.5, n_estimators=700; total time=   0.5s\n",
      "[CV] END ...max_depth=40, max_features=0.3, n_estimators=200; total time=   0.1s\n",
      "[CV] END ...max_depth=40, max_features=0.3, n_estimators=200; total time=   0.1s\n",
      "[CV] END ...max_depth=40, max_features=0.3, n_estimators=200; total time=   0.1s\n",
      "[CV] END ...max_depth=60, max_features=0.5, n_estimators=300; total time=   0.2s\n",
      "[CV] END ...max_depth=60, max_features=0.5, n_estimators=300; total time=   0.2s\n",
      "[CV] END ...max_depth=60, max_features=0.5, n_estimators=300; total time=   0.2s\n",
      "[CV] END ...max_depth=80, max_features=0.4, n_estimators=100; total time=   0.0s\n",
      "[CV] END ...max_depth=80, max_features=0.4, n_estimators=100; total time=   0.0s\n",
      "[CV] END ...max_depth=80, max_features=0.4, n_estimators=100; total time=   0.0s\n",
      "[CV] END ...max_depth=90, max_features=0.1, n_estimators=300; total time=   0.2s\n",
      "[CV] END ...max_depth=90, max_features=0.1, n_estimators=300; total time=   0.2s\n",
      "[CV] END ...max_depth=90, max_features=0.1, n_estimators=300; total time=   0.2s\n",
      "[CV] END ...max_depth=20, max_features=0.4, n_estimators=500; total time=   0.3s\n",
      "[CV] END ...max_depth=20, max_features=0.4, n_estimators=500; total time=   0.3s\n"
     ]
    },
    {
     "name": "stdout",
     "output_type": "stream",
     "text": [
      "[CV] END ...max_depth=20, max_features=0.4, n_estimators=500; total time=   0.3s\n",
      "[CV] END ...max_depth=20, max_features=0.5, n_estimators=100; total time=   0.0s\n",
      "[CV] END ...max_depth=20, max_features=0.5, n_estimators=100; total time=   0.0s\n",
      "[CV] END ...max_depth=20, max_features=0.5, n_estimators=100; total time=   0.0s\n",
      "[CV] END ...max_depth=60, max_features=0.3, n_estimators=300; total time=   0.2s\n",
      "[CV] END ...max_depth=60, max_features=0.3, n_estimators=300; total time=   0.3s\n",
      "[CV] END ...max_depth=60, max_features=0.3, n_estimators=300; total time=   0.2s\n",
      "[CV] END ...max_depth=80, max_features=0.4, n_estimators=700; total time=   0.6s\n",
      "[CV] END ...max_depth=80, max_features=0.4, n_estimators=700; total time=   0.5s\n",
      "[CV] END ...max_depth=80, max_features=0.4, n_estimators=700; total time=   0.6s\n",
      "[CV] END ...max_depth=20, max_features=0.5, n_estimators=800; total time=   0.6s\n",
      "[CV] END ...max_depth=20, max_features=0.5, n_estimators=800; total time=   0.6s\n",
      "[CV] END ...max_depth=20, max_features=0.5, n_estimators=800; total time=   0.6s\n",
      "[CV] END ...max_depth=60, max_features=0.2, n_estimators=100; total time=   0.1s\n",
      "[CV] END ...max_depth=60, max_features=0.2, n_estimators=100; total time=   0.0s\n",
      "[CV] END ...max_depth=60, max_features=0.2, n_estimators=100; total time=   0.1s\n",
      "[CV] END ...max_depth=40, max_features=0.4, n_estimators=500; total time=   0.3s\n",
      "[CV] END ...max_depth=40, max_features=0.4, n_estimators=500; total time=   0.3s\n",
      "[CV] END ...max_depth=40, max_features=0.4, n_estimators=500; total time=   0.3s\n",
      "[CV] END ...max_depth=40, max_features=0.5, n_estimators=300; total time=   0.2s\n",
      "[CV] END ...max_depth=40, max_features=0.5, n_estimators=300; total time=   0.2s\n",
      "[CV] END ...max_depth=40, max_features=0.5, n_estimators=300; total time=   0.2s\n",
      "[CV] END ...max_depth=50, max_features=0.2, n_estimators=800; total time=   0.5s\n",
      "[CV] END ...max_depth=50, max_features=0.2, n_estimators=800; total time=   0.6s\n",
      "[CV] END ...max_depth=50, max_features=0.2, n_estimators=800; total time=   0.6s\n",
      "[CV] END ...max_depth=70, max_features=0.2, n_estimators=200; total time=   0.1s\n",
      "[CV] END ...max_depth=70, max_features=0.2, n_estimators=200; total time=   0.1s\n",
      "[CV] END ...max_depth=70, max_features=0.2, n_estimators=200; total time=   0.1s\n",
      "[CV] END .max_depth=None, max_features=0.5, n_estimators=400; total time=   0.3s\n",
      "[CV] END .max_depth=None, max_features=0.5, n_estimators=400; total time=   0.3s\n",
      "[CV] END .max_depth=None, max_features=0.5, n_estimators=400; total time=   0.3s\n",
      "[CV] END ...max_depth=90, max_features=0.2, n_estimators=700; total time=   0.5s\n",
      "[CV] END ...max_depth=90, max_features=0.2, n_estimators=700; total time=   0.6s\n",
      "[CV] END ...max_depth=90, max_features=0.2, n_estimators=700; total time=   0.6s\n",
      "[CV] END ...max_depth=20, max_features=0.5, n_estimators=400; total time=   0.2s\n",
      "[CV] END ...max_depth=20, max_features=0.5, n_estimators=400; total time=   0.3s\n",
      "[CV] END ...max_depth=20, max_features=0.5, n_estimators=400; total time=   0.2s\n",
      "[CV] END ..max_depth=110, max_features=0.3, n_estimators=600; total time=   0.5s\n",
      "[CV] END ..max_depth=110, max_features=0.3, n_estimators=600; total time=   0.4s\n",
      "[CV] END ..max_depth=110, max_features=0.3, n_estimators=600; total time=   0.5s\n",
      "[CV] END ...max_depth=10, max_features=0.2, n_estimators=800; total time=   0.5s\n",
      "[CV] END ...max_depth=10, max_features=0.2, n_estimators=800; total time=   0.5s\n",
      "[CV] END ...max_depth=10, max_features=0.2, n_estimators=800; total time=   0.6s\n",
      "[CV] END ...max_depth=40, max_features=0.5, n_estimators=200; total time=   0.1s\n",
      "[CV] END ...max_depth=40, max_features=0.5, n_estimators=200; total time=   0.1s\n",
      "[CV] END ...max_depth=40, max_features=0.5, n_estimators=200; total time=   0.1s\n",
      "[CV] END .max_depth=None, max_features=0.4, n_estimators=100; total time=   0.0s\n",
      "[CV] END .max_depth=None, max_features=0.4, n_estimators=100; total time=   0.0s\n",
      "[CV] END .max_depth=None, max_features=0.4, n_estimators=100; total time=   0.1s\n",
      "[CV] END ...max_depth=10, max_features=0.3, n_estimators=400; total time=   0.3s\n",
      "[CV] END ...max_depth=10, max_features=0.3, n_estimators=400; total time=   0.3s\n",
      "[CV] END ...max_depth=10, max_features=0.3, n_estimators=400; total time=   0.3s\n",
      "[CV] END ...max_depth=80, max_features=0.4, n_estimators=800; total time=   0.6s\n",
      "[CV] END ...max_depth=80, max_features=0.4, n_estimators=800; total time=   0.6s\n",
      "[CV] END ...max_depth=80, max_features=0.4, n_estimators=800; total time=   0.5s\n",
      "[CV] END ...max_depth=90, max_features=0.1, n_estimators=100; total time=   0.0s\n",
      "[CV] END ...max_depth=90, max_features=0.1, n_estimators=100; total time=   0.0s\n",
      "[CV] END ...max_depth=90, max_features=0.1, n_estimators=100; total time=   0.0s\n",
      "[CV] END ...max_depth=20, max_features=0.3, n_estimators=100; total time=   0.0s\n",
      "[CV] END ...max_depth=20, max_features=0.3, n_estimators=100; total time=   0.0s\n",
      "[CV] END ...max_depth=20, max_features=0.3, n_estimators=100; total time=   0.0s\n",
      "[CV] END ...max_depth=90, max_features=0.4, n_estimators=600; total time=   0.5s\n",
      "[CV] END ...max_depth=90, max_features=0.4, n_estimators=600; total time=   0.4s\n",
      "[CV] END ...max_depth=90, max_features=0.4, n_estimators=600; total time=   0.5s\n",
      "[CV] END ...max_depth=60, max_features=0.2, n_estimators=400; total time=   0.2s\n",
      "[CV] END ...max_depth=60, max_features=0.2, n_estimators=400; total time=   0.3s\n",
      "[CV] END ...max_depth=60, max_features=0.2, n_estimators=400; total time=   0.2s\n",
      "[CV] END ..max_depth=110, max_features=0.5, n_estimators=100; total time=   0.0s\n",
      "[CV] END ..max_depth=110, max_features=0.5, n_estimators=100; total time=   0.0s\n",
      "[CV] END ..max_depth=110, max_features=0.5, n_estimators=100; total time=   0.1s\n",
      "[CV] END ...max_depth=60, max_features=0.3, n_estimators=700; total time=   0.5s\n",
      "[CV] END ...max_depth=60, max_features=0.3, n_estimators=700; total time=   0.6s\n",
      "[CV] END ...max_depth=60, max_features=0.3, n_estimators=700; total time=   0.6s\n",
      "[CV] END ...max_depth=60, max_features=0.5, n_estimators=600; total time=   0.5s\n",
      "[CV] END ...max_depth=60, max_features=0.5, n_estimators=600; total time=   0.6s\n",
      "[CV] END ...max_depth=60, max_features=0.5, n_estimators=600; total time=   0.5s\n",
      "[CV] END ..max_depth=110, max_features=0.2, n_estimators=100; total time=   0.0s\n",
      "[CV] END ..max_depth=110, max_features=0.2, n_estimators=100; total time=   0.0s\n",
      "[CV] END ..max_depth=110, max_features=0.2, n_estimators=100; total time=   0.0s\n",
      "[CV] END ...max_depth=10, max_features=0.4, n_estimators=200; total time=   0.1s\n",
      "[CV] END ...max_depth=10, max_features=0.4, n_estimators=200; total time=   0.1s\n",
      "[CV] END ...max_depth=10, max_features=0.4, n_estimators=200; total time=   0.1s\n",
      "[CV] END ..max_depth=110, max_features=0.3, n_estimators=400; total time=   0.3s\n",
      "[CV] END ..max_depth=110, max_features=0.3, n_estimators=400; total time=   0.3s\n",
      "[CV] END ..max_depth=110, max_features=0.3, n_estimators=400; total time=   0.2s\n",
      "[CV] END ...max_depth=40, max_features=0.2, n_estimators=500; total time=   0.3s\n",
      "[CV] END ...max_depth=40, max_features=0.2, n_estimators=500; total time=   0.3s\n",
      "[CV] END ...max_depth=40, max_features=0.2, n_estimators=500; total time=   0.3s\n",
      "[CV] END ...max_depth=60, max_features=0.4, n_estimators=500; total time=   0.3s\n",
      "[CV] END ...max_depth=60, max_features=0.4, n_estimators=500; total time=   0.3s\n",
      "[CV] END ...max_depth=60, max_features=0.4, n_estimators=500; total time=   0.3s\n",
      "[CV] END .max_depth=None, max_features=0.5, n_estimators=200; total time=   0.1s\n",
      "[CV] END .max_depth=None, max_features=0.5, n_estimators=200; total time=   0.1s\n",
      "[CV] END .max_depth=None, max_features=0.5, n_estimators=200; total time=   0.1s\n",
      "[CV] END ...max_depth=20, max_features=0.1, n_estimators=300; total time=   0.2s\n",
      "[CV] END ...max_depth=20, max_features=0.1, n_estimators=300; total time=   0.2s\n",
      "[CV] END ...max_depth=20, max_features=0.1, n_estimators=300; total time=   0.2s\n"
     ]
    },
    {
     "data": {
      "text/plain": [
       "{'n_estimators': 100, 'max_features': 0.5, 'max_depth': 20}"
      ]
     },
     "execution_count": 41,
     "metadata": {},
     "output_type": "execute_result"
    }
   ],
   "source": [
    "rf = RandomForestRegressor(random_state=0, n_jobs=-1)\n",
    "\n",
    "rf_random = RandomizedSearchCV(\n",
    "    estimator=rf,\n",
    "    param_distributions=hyper_params,\n",
    "    n_iter=100,\n",
    "    scoring=\"neg_mean_absolute_error\",\n",
    "    cv=3,\n",
    "    verbose=2,\n",
    "    random_state=42,\n",
    "    return_train_score=True,\n",
    ")\n",
    "\n",
    "rf_random.fit(X_train, y_train)\n",
    "rf_random.best_params_"
   ]
  },
  {
   "cell_type": "code",
   "execution_count": 42,
   "id": "42c09ef4",
   "metadata": {
    "scrolled": true
   },
   "outputs": [
    {
     "name": "stdout",
     "output_type": "stream",
     "text": [
      "RMSE train: 0.17\n",
      "RMSE test: 0.67\n"
     ]
    }
   ],
   "source": [
    "assess_regression_model(rf_random, X_train, X_test, y_train, y_test)"
   ]
  },
  {
   "cell_type": "markdown",
   "id": "f190bfb5",
   "metadata": {},
   "source": [
    "### Próba zmniejszenia overfittingu\n",
    "Zmniejszam max_depth, żeby drzewo nie było zbyt głębokie."
   ]
  },
  {
   "cell_type": "markdown",
   "id": "6d3ce469",
   "metadata": {},
   "source": [
    "Ustawiam max_depth na 7."
   ]
  },
  {
   "cell_type": "code",
   "execution_count": 58,
   "id": "da0a9e9d",
   "metadata": {},
   "outputs": [
    {
     "name": "stdout",
     "output_type": "stream",
     "text": [
      "RMSE train: 0.29\n",
      "RMSE test: 0.70\n"
     ]
    }
   ],
   "source": [
    "rf = RandomForestRegressor(\n",
    "    random_state=0, n_jobs=-1, n_estimators=100, max_features=0.5, max_depth=7\n",
    ")\n",
    "rf.fit(X_train, y_train)\n",
    "assess_regression_model(rf, X_train, X_test, y_train, y_test)"
   ]
  },
  {
   "cell_type": "markdown",
   "id": "7964aa83",
   "metadata": {},
   "source": [
    "Overfitting jest mniejszy."
   ]
  },
  {
   "cell_type": "markdown",
   "id": "3fa43ad3",
   "metadata": {},
   "source": [
    "### Sprawdzenie wyników po zaokrągleniu"
   ]
  },
  {
   "cell_type": "code",
   "execution_count": 59,
   "id": "f862620d",
   "metadata": {},
   "outputs": [],
   "source": [
    "from copy import deepcopy\n",
    "\n",
    "predict = rf.predict(X_test)\n",
    "round_predict = np.round(predict).astype(\"int\")\n",
    "round_predict = np.where(round_predict > 20, 21, round_predict)"
   ]
  },
  {
   "cell_type": "code",
   "execution_count": 60,
   "id": "6085b825",
   "metadata": {},
   "outputs": [],
   "source": [
    "from sklearn.metrics import mean_absolute_error\n",
    "\n",
    "\n",
    "def check_predictions(y, y_pred):\n",
    "    print(f\"Mean square error: {mean_squared_error(y, y_pred):.2f}\")\n",
    "    print(f\"RMSE: {mean_squared_error(y, y_pred, squared=False):.2f}\")\n",
    "    print(f\"Mean absolute error = {mean_absolute_error(y, y_pred):.2f}\")\n",
    "    print()"
   ]
  },
  {
   "cell_type": "code",
   "execution_count": 61,
   "id": "cb453f1d",
   "metadata": {},
   "outputs": [
    {
     "name": "stdout",
     "output_type": "stream",
     "text": [
      "Normal:\n",
      "Mean square error: 0.49\n",
      "RMSE: 0.70\n",
      "Mean absolute error = 0.47\n",
      "\n",
      "Round:\n",
      "Mean square error: 0.52\n",
      "RMSE: 0.72\n",
      "Mean absolute error = 0.38\n",
      "\n"
     ]
    }
   ],
   "source": [
    "print(\"Normal:\")\n",
    "check_predictions(y_test, predict)\n",
    "\n",
    "print(\"Round:\")\n",
    "check_predictions(y_test, round_predict)"
   ]
  },
  {
   "cell_type": "markdown",
   "id": "e2907f78",
   "metadata": {},
   "source": [
    "### Macierz sąsiedztwa"
   ]
  },
  {
   "cell_type": "code",
   "execution_count": 62,
   "id": "151feb02",
   "metadata": {
    "scrolled": true
   },
   "outputs": [
    {
     "data": {
      "image/png": "[encoded data removed]",
      "text/plain": [
       "<Figure size 432x288 with 2 Axes>"
      ]
     },
     "metadata": {
      "needs_background": "light"
     },
     "output_type": "display_data"
    }
   ],
   "source": [
    "from sklearn.metrics import confusion_matrix, ConfusionMatrixDisplay\n",
    "\n",
    "cm = confusion_matrix(y_test, round_predict)\n",
    "\n",
    "disp = ConfusionMatrixDisplay(confusion_matrix=cm, display_labels=np.arange(-1, 22))\n",
    "\n",
    "disp.plot()\n",
    "plt.title(\"Confusion matrix\")\n",
    "plt.show()"
   ]
  },
  {
   "cell_type": "markdown",
   "id": "3f730b3a",
   "metadata": {},
   "source": [
    "## To samo dla randomowego splitu"
   ]
  },
  {
   "cell_type": "markdown",
   "id": "2ec4e6c3",
   "metadata": {},
   "source": [
    "### Tuning Lasu"
   ]
  },
  {
   "cell_type": "code",
   "execution_count": 48,
   "id": "f4d0a519",
   "metadata": {},
   "outputs": [
    {
     "name": "stdout",
     "output_type": "stream",
     "text": [
      "{'n_estimators': [100, 200, 300, 400, 500, 600, 700, 800], 'max_features': [0.1, 0.2, 0.3, 0.4, 0.5], 'max_depth': [10, 20, 30, 40, 50, 60, 70, 80, 90, 100, 110, None]}\n"
     ]
    }
   ],
   "source": [
    "n_estimators = [int(x) for x in np.linspace(start=100, stop=800, num=8)]\n",
    "max_features = [0.1, 0.2, 0.3, 0.4, 0.5]\n",
    "max_depth = list(range(10, 111, 10)) + [None]\n",
    "\n",
    "hyper_params = {\n",
    "    \"n_estimators\": n_estimators,\n",
    "    \"max_features\": max_features,\n",
    "    \"max_depth\": max_depth,\n",
    "}\n",
    "\n",
    "print(hyper_params)"
   ]
  },
  {
   "cell_type": "code",
   "execution_count": 49,
   "id": "b3e92196",
   "metadata": {},
   "outputs": [
    {
     "name": "stdout",
     "output_type": "stream",
     "text": [
      "Fitting 3 folds for each of 100 candidates, totalling 300 fits\n",
      "[CV] END ...max_depth=20, max_features=0.5, n_estimators=200; total time=   0.2s\n",
      "[CV] END ...max_depth=20, max_features=0.5, n_estimators=200; total time=   0.1s\n",
      "[CV] END ...max_depth=20, max_features=0.5, n_estimators=200; total time=   0.1s\n",
      "[CV] END ..max_depth=110, max_features=0.2, n_estimators=700; total time=   0.5s\n",
      "[CV] END ..max_depth=110, max_features=0.2, n_estimators=700; total time=   0.6s\n",
      "[CV] END ..max_depth=110, max_features=0.2, n_estimators=700; total time=   0.6s\n",
      "[CV] END ..max_depth=100, max_features=0.5, n_estimators=300; total time=   0.3s\n",
      "[CV] END ..max_depth=100, max_features=0.5, n_estimators=300; total time=   0.3s\n",
      "[CV] END ..max_depth=100, max_features=0.5, n_estimators=300; total time=   0.2s\n",
      "[CV] END ...max_depth=70, max_features=0.5, n_estimators=600; total time=   0.5s\n",
      "[CV] END ...max_depth=70, max_features=0.5, n_estimators=600; total time=   0.6s\n",
      "[CV] END ...max_depth=70, max_features=0.5, n_estimators=600; total time=   0.5s\n",
      "[CV] END ..max_depth=100, max_features=0.5, n_estimators=800; total time=   0.6s\n",
      "[CV] END ..max_depth=100, max_features=0.5, n_estimators=800; total time=   0.6s\n",
      "[CV] END ..max_depth=100, max_features=0.5, n_estimators=800; total time=   0.6s\n",
      "[CV] END ...max_depth=50, max_features=0.2, n_estimators=500; total time=   0.3s\n",
      "[CV] END ...max_depth=50, max_features=0.2, n_estimators=500; total time=   0.3s\n",
      "[CV] END ...max_depth=50, max_features=0.2, n_estimators=500; total time=   0.3s\n",
      "[CV] END ...max_depth=70, max_features=0.4, n_estimators=500; total time=   0.3s\n",
      "[CV] END ...max_depth=70, max_features=0.4, n_estimators=500; total time=   0.3s\n",
      "[CV] END ...max_depth=70, max_features=0.4, n_estimators=500; total time=   0.3s\n",
      "[CV] END ..max_depth=100, max_features=0.2, n_estimators=800; total time=   0.6s\n",
      "[CV] END ..max_depth=100, max_features=0.2, n_estimators=800; total time=   0.6s\n",
      "[CV] END ..max_depth=100, max_features=0.2, n_estimators=800; total time=   0.6s\n",
      "[CV] END ...max_depth=20, max_features=0.5, n_estimators=600; total time=   0.5s\n",
      "[CV] END ...max_depth=20, max_features=0.5, n_estimators=600; total time=   0.5s\n",
      "[CV] END ...max_depth=20, max_features=0.5, n_estimators=600; total time=   0.5s\n",
      "[CV] END .max_depth=None, max_features=0.1, n_estimators=300; total time=   0.2s\n",
      "[CV] END .max_depth=None, max_features=0.1, n_estimators=300; total time=   0.2s\n",
      "[CV] END .max_depth=None, max_features=0.1, n_estimators=300; total time=   0.2s\n",
      "[CV] END ...max_depth=10, max_features=0.2, n_estimators=200; total time=   0.1s\n",
      "[CV] END ...max_depth=10, max_features=0.2, n_estimators=200; total time=   0.1s\n",
      "[CV] END ...max_depth=10, max_features=0.2, n_estimators=200; total time=   0.1s\n",
      "[CV] END ...max_depth=80, max_features=0.1, n_estimators=200; total time=   0.1s\n",
      "[CV] END ...max_depth=80, max_features=0.1, n_estimators=200; total time=   0.1s\n",
      "[CV] END ...max_depth=80, max_features=0.1, n_estimators=200; total time=   0.1s\n",
      "[CV] END ..max_depth=110, max_features=0.5, n_estimators=200; total time=   0.1s\n",
      "[CV] END ..max_depth=110, max_features=0.5, n_estimators=200; total time=   0.1s\n",
      "[CV] END ..max_depth=110, max_features=0.5, n_estimators=200; total time=   0.1s\n",
      "[CV] END ...max_depth=80, max_features=0.3, n_estimators=300; total time=   0.2s\n",
      "[CV] END ...max_depth=80, max_features=0.3, n_estimators=300; total time=   0.2s\n",
      "[CV] END ...max_depth=80, max_features=0.3, n_estimators=300; total time=   0.2s\n",
      "[CV] END ...max_depth=10, max_features=0.4, n_estimators=700; total time=   0.5s\n",
      "[CV] END ...max_depth=10, max_features=0.4, n_estimators=700; total time=   0.5s\n",
      "[CV] END ...max_depth=10, max_features=0.4, n_estimators=700; total time=   0.6s\n",
      "[CV] END ...max_depth=30, max_features=0.2, n_estimators=600; total time=   0.5s\n",
      "[CV] END ...max_depth=30, max_features=0.2, n_estimators=600; total time=   0.5s\n",
      "[CV] END ...max_depth=30, max_features=0.2, n_estimators=600; total time=   0.5s\n",
      "[CV] END ...max_depth=20, max_features=0.2, n_estimators=800; total time=   0.6s\n",
      "[CV] END ...max_depth=20, max_features=0.2, n_estimators=800; total time=   0.6s\n",
      "[CV] END ...max_depth=20, max_features=0.2, n_estimators=800; total time=   0.6s\n",
      "[CV] END ..max_depth=110, max_features=0.3, n_estimators=800; total time=   0.7s\n",
      "[CV] END ..max_depth=110, max_features=0.3, n_estimators=800; total time=   0.6s\n",
      "[CV] END ..max_depth=110, max_features=0.3, n_estimators=800; total time=   0.6s\n",
      "[CV] END ...max_depth=10, max_features=0.5, n_estimators=200; total time=   0.1s\n",
      "[CV] END ...max_depth=10, max_features=0.5, n_estimators=200; total time=   0.1s\n",
      "[CV] END ...max_depth=10, max_features=0.5, n_estimators=200; total time=   0.2s\n",
      "[CV] END ...max_depth=60, max_features=0.1, n_estimators=400; total time=   0.4s\n",
      "[CV] END ...max_depth=60, max_features=0.1, n_estimators=400; total time=   0.3s\n",
      "[CV] END ...max_depth=60, max_features=0.1, n_estimators=400; total time=   0.3s\n",
      "[CV] END ...max_depth=50, max_features=0.3, n_estimators=500; total time=   0.4s\n",
      "[CV] END ...max_depth=50, max_features=0.3, n_estimators=500; total time=   0.5s\n",
      "[CV] END ...max_depth=50, max_features=0.3, n_estimators=500; total time=   0.4s\n",
      "[CV] END .max_depth=None, max_features=0.4, n_estimators=200; total time=   0.1s\n",
      "[CV] END .max_depth=None, max_features=0.4, n_estimators=200; total time=   0.1s\n",
      "[CV] END .max_depth=None, max_features=0.4, n_estimators=200; total time=   0.2s\n",
      "[CV] END ...max_depth=20, max_features=0.4, n_estimators=700; total time=   0.6s\n",
      "[CV] END ...max_depth=20, max_features=0.4, n_estimators=700; total time=   0.6s\n",
      "[CV] END ...max_depth=20, max_features=0.4, n_estimators=700; total time=   0.6s\n",
      "[CV] END ...max_depth=70, max_features=0.3, n_estimators=600; total time=   0.5s\n",
      "[CV] END ...max_depth=70, max_features=0.3, n_estimators=600; total time=   0.5s\n",
      "[CV] END ...max_depth=70, max_features=0.3, n_estimators=600; total time=   0.5s\n",
      "[CV] END ...max_depth=30, max_features=0.4, n_estimators=100; total time=   0.0s\n",
      "[CV] END ...max_depth=30, max_features=0.4, n_estimators=100; total time=   0.0s\n",
      "[CV] END ...max_depth=30, max_features=0.4, n_estimators=100; total time=   0.0s\n",
      "[CV] END .max_depth=None, max_features=0.5, n_estimators=300; total time=   0.2s\n",
      "[CV] END .max_depth=None, max_features=0.5, n_estimators=300; total time=   0.2s\n",
      "[CV] END .max_depth=None, max_features=0.5, n_estimators=300; total time=   0.6s\n",
      "[CV] END ...max_depth=90, max_features=0.5, n_estimators=700; total time=   0.6s\n",
      "[CV] END ...max_depth=90, max_features=0.5, n_estimators=700; total time=   0.9s\n",
      "[CV] END ...max_depth=90, max_features=0.5, n_estimators=700; total time=   0.9s\n",
      "[CV] END ...max_depth=90, max_features=0.1, n_estimators=200; total time=   0.2s\n",
      "[CV] END ...max_depth=90, max_features=0.1, n_estimators=200; total time=   0.1s\n",
      "[CV] END ...max_depth=90, max_features=0.1, n_estimators=200; total time=   0.1s\n",
      "[CV] END ...max_depth=80, max_features=0.3, n_estimators=600; total time=   0.5s\n",
      "[CV] END ...max_depth=80, max_features=0.3, n_estimators=600; total time=   0.4s\n",
      "[CV] END ...max_depth=80, max_features=0.3, n_estimators=600; total time=   0.5s\n",
      "[CV] END ...max_depth=10, max_features=0.1, n_estimators=100; total time=   0.0s\n",
      "[CV] END ...max_depth=10, max_features=0.1, n_estimators=100; total time=   0.0s\n",
      "[CV] END ...max_depth=10, max_features=0.1, n_estimators=100; total time=   0.0s\n",
      "[CV] END ..max_depth=100, max_features=0.4, n_estimators=800; total time=   0.6s\n",
      "[CV] END ..max_depth=100, max_features=0.4, n_estimators=800; total time=   0.7s\n",
      "[CV] END ..max_depth=100, max_features=0.4, n_estimators=800; total time=   0.9s\n",
      "[CV] END ...max_depth=10, max_features=0.2, n_estimators=400; total time=   0.3s\n",
      "[CV] END ...max_depth=10, max_features=0.2, n_estimators=400; total time=   0.3s\n",
      "[CV] END ...max_depth=10, max_features=0.2, n_estimators=400; total time=   0.3s\n",
      "[CV] END ..max_depth=100, max_features=0.3, n_estimators=500; total time=   0.4s\n",
      "[CV] END ..max_depth=100, max_features=0.3, n_estimators=500; total time=   0.4s\n",
      "[CV] END ..max_depth=100, max_features=0.3, n_estimators=500; total time=   0.4s\n",
      "[CV] END ..max_depth=110, max_features=0.4, n_estimators=700; total time=   0.6s\n",
      "[CV] END ..max_depth=110, max_features=0.4, n_estimators=700; total time=   0.6s\n"
     ]
    },
    {
     "name": "stdout",
     "output_type": "stream",
     "text": [
      "[CV] END ..max_depth=110, max_features=0.4, n_estimators=700; total time=   0.6s\n",
      "[CV] END ..max_depth=100, max_features=0.3, n_estimators=200; total time=   0.1s\n",
      "[CV] END ..max_depth=100, max_features=0.3, n_estimators=200; total time=   0.1s\n",
      "[CV] END ..max_depth=100, max_features=0.3, n_estimators=200; total time=   0.1s\n",
      "[CV] END ...max_depth=30, max_features=0.5, n_estimators=600; total time=   0.5s\n",
      "[CV] END ...max_depth=30, max_features=0.5, n_estimators=600; total time=   0.5s\n",
      "[CV] END ...max_depth=30, max_features=0.5, n_estimators=600; total time=   0.5s\n",
      "[CV] END ...max_depth=80, max_features=0.3, n_estimators=700; total time=   0.5s\n",
      "[CV] END ...max_depth=80, max_features=0.3, n_estimators=700; total time=   0.5s\n",
      "[CV] END ...max_depth=80, max_features=0.3, n_estimators=700; total time=   0.5s\n",
      "[CV] END ...max_depth=50, max_features=0.2, n_estimators=600; total time=   0.5s\n",
      "[CV] END ...max_depth=50, max_features=0.2, n_estimators=600; total time=   0.5s\n",
      "[CV] END ...max_depth=50, max_features=0.2, n_estimators=600; total time=   0.5s\n",
      "[CV] END .max_depth=None, max_features=0.4, n_estimators=800; total time=   0.6s\n",
      "[CV] END .max_depth=None, max_features=0.4, n_estimators=800; total time=   0.6s\n",
      "[CV] END .max_depth=None, max_features=0.4, n_estimators=800; total time=   0.6s\n",
      "[CV] END ...max_depth=10, max_features=0.3, n_estimators=300; total time=   0.2s\n",
      "[CV] END ...max_depth=10, max_features=0.3, n_estimators=300; total time=   0.2s\n",
      "[CV] END ...max_depth=10, max_features=0.3, n_estimators=300; total time=   0.2s\n",
      "[CV] END ...max_depth=90, max_features=0.2, n_estimators=500; total time=   0.3s\n",
      "[CV] END ...max_depth=90, max_features=0.2, n_estimators=500; total time=   0.3s\n",
      "[CV] END ...max_depth=90, max_features=0.2, n_estimators=500; total time=   0.3s\n",
      "[CV] END ...max_depth=50, max_features=0.4, n_estimators=200; total time=   0.1s\n",
      "[CV] END ...max_depth=50, max_features=0.4, n_estimators=200; total time=   0.1s\n",
      "[CV] END ...max_depth=50, max_features=0.4, n_estimators=200; total time=   0.1s\n",
      "[CV] END ...max_depth=30, max_features=0.2, n_estimators=300; total time=   0.2s\n",
      "[CV] END ...max_depth=30, max_features=0.2, n_estimators=300; total time=   0.3s\n",
      "[CV] END ...max_depth=30, max_features=0.2, n_estimators=300; total time=   0.3s\n",
      "[CV] END ...max_depth=60, max_features=0.3, n_estimators=500; total time=   0.9s\n",
      "[CV] END ...max_depth=60, max_features=0.3, n_estimators=500; total time=   0.5s\n",
      "[CV] END ...max_depth=60, max_features=0.3, n_estimators=500; total time=   0.4s\n",
      "[CV] END ...max_depth=10, max_features=0.5, n_estimators=800; total time=   0.6s\n",
      "[CV] END ...max_depth=10, max_features=0.5, n_estimators=800; total time=   0.6s\n",
      "[CV] END ...max_depth=10, max_features=0.5, n_estimators=800; total time=   0.7s\n",
      "[CV] END ...max_depth=90, max_features=0.1, n_estimators=400; total time=   0.3s\n",
      "[CV] END ...max_depth=90, max_features=0.1, n_estimators=400; total time=   0.3s\n",
      "[CV] END ...max_depth=90, max_features=0.1, n_estimators=400; total time=   0.4s\n",
      "[CV] END .max_depth=None, max_features=0.3, n_estimators=400; total time=   0.6s\n",
      "[CV] END .max_depth=None, max_features=0.3, n_estimators=400; total time=   0.6s\n",
      "[CV] END .max_depth=None, max_features=0.3, n_estimators=400; total time=   0.5s\n",
      "[CV] END ...max_depth=20, max_features=0.5, n_estimators=500; total time=   0.6s\n",
      "[CV] END ...max_depth=20, max_features=0.5, n_estimators=500; total time=   0.7s\n",
      "[CV] END ...max_depth=20, max_features=0.5, n_estimators=500; total time=   0.5s\n",
      "[CV] END ...max_depth=40, max_features=0.5, n_estimators=400; total time=   0.3s\n",
      "[CV] END ...max_depth=40, max_features=0.5, n_estimators=400; total time=   0.5s\n",
      "[CV] END ...max_depth=40, max_features=0.5, n_estimators=400; total time=   0.5s\n",
      "[CV] END ...max_depth=20, max_features=0.3, n_estimators=800; total time=   1.2s\n",
      "[CV] END ...max_depth=20, max_features=0.3, n_estimators=800; total time=   0.9s\n",
      "[CV] END ...max_depth=20, max_features=0.3, n_estimators=800; total time=   0.7s\n",
      "[CV] END ..max_depth=100, max_features=0.4, n_estimators=700; total time=   0.5s\n",
      "[CV] END ..max_depth=100, max_features=0.4, n_estimators=700; total time=   0.5s\n",
      "[CV] END ..max_depth=100, max_features=0.4, n_estimators=700; total time=   0.6s\n",
      "[CV] END ...max_depth=90, max_features=0.3, n_estimators=500; total time=   0.3s\n",
      "[CV] END ...max_depth=90, max_features=0.3, n_estimators=500; total time=   0.4s\n",
      "[CV] END ...max_depth=90, max_features=0.3, n_estimators=500; total time=   0.3s\n",
      "[CV] END ..max_depth=110, max_features=0.2, n_estimators=800; total time=   0.6s\n",
      "[CV] END ..max_depth=110, max_features=0.2, n_estimators=800; total time=   0.6s\n",
      "[CV] END ..max_depth=110, max_features=0.2, n_estimators=800; total time=   0.6s\n",
      "[CV] END ..max_depth=110, max_features=0.5, n_estimators=300; total time=   0.2s\n",
      "[CV] END ..max_depth=110, max_features=0.5, n_estimators=300; total time=   0.2s\n",
      "[CV] END ..max_depth=110, max_features=0.5, n_estimators=300; total time=   0.2s\n",
      "[CV] END ...max_depth=80, max_features=0.4, n_estimators=200; total time=   0.1s\n",
      "[CV] END ...max_depth=80, max_features=0.4, n_estimators=200; total time=   0.1s\n",
      "[CV] END ...max_depth=80, max_features=0.4, n_estimators=200; total time=   0.1s\n",
      "[CV] END ...max_depth=70, max_features=0.4, n_estimators=300; total time=   0.2s\n",
      "[CV] END ...max_depth=70, max_features=0.4, n_estimators=300; total time=   0.2s\n",
      "[CV] END ...max_depth=70, max_features=0.4, n_estimators=300; total time=   0.2s\n",
      "[CV] END ...max_depth=30, max_features=0.1, n_estimators=300; total time=   0.2s\n",
      "[CV] END ...max_depth=30, max_features=0.1, n_estimators=300; total time=   0.2s\n",
      "[CV] END ...max_depth=30, max_features=0.1, n_estimators=300; total time=   0.2s\n",
      "[CV] END ...max_depth=30, max_features=0.3, n_estimators=600; total time=   0.5s\n",
      "[CV] END ...max_depth=30, max_features=0.3, n_estimators=600; total time=   0.4s\n",
      "[CV] END ...max_depth=30, max_features=0.3, n_estimators=600; total time=   0.5s\n",
      "[CV] END .max_depth=None, max_features=0.5, n_estimators=600; total time=   0.5s\n",
      "[CV] END .max_depth=None, max_features=0.5, n_estimators=600; total time=   0.5s\n",
      "[CV] END .max_depth=None, max_features=0.5, n_estimators=600; total time=   0.5s\n",
      "[CV] END ...max_depth=30, max_features=0.5, n_estimators=200; total time=   0.1s\n",
      "[CV] END ...max_depth=30, max_features=0.5, n_estimators=200; total time=   0.1s\n",
      "[CV] END ...max_depth=30, max_features=0.5, n_estimators=200; total time=   0.2s\n",
      "[CV] END .max_depth=None, max_features=0.3, n_estimators=800; total time=   0.6s\n",
      "[CV] END .max_depth=None, max_features=0.3, n_estimators=800; total time=   0.7s\n",
      "[CV] END .max_depth=None, max_features=0.3, n_estimators=800; total time=   0.7s\n",
      "[CV] END ...max_depth=70, max_features=0.2, n_estimators=600; total time=   0.5s\n",
      "[CV] END ...max_depth=70, max_features=0.2, n_estimators=600; total time=   0.5s\n",
      "[CV] END ...max_depth=70, max_features=0.2, n_estimators=600; total time=   0.6s\n",
      "[CV] END ...max_depth=20, max_features=0.5, n_estimators=700; total time=   0.7s\n",
      "[CV] END ...max_depth=20, max_features=0.5, n_estimators=700; total time=   0.6s\n",
      "[CV] END ...max_depth=20, max_features=0.5, n_estimators=700; total time=   0.7s\n",
      "[CV] END ...max_depth=40, max_features=0.3, n_estimators=200; total time=   0.1s\n",
      "[CV] END ...max_depth=40, max_features=0.3, n_estimators=200; total time=   0.2s\n",
      "[CV] END ...max_depth=40, max_features=0.3, n_estimators=200; total time=   0.1s\n",
      "[CV] END ...max_depth=60, max_features=0.5, n_estimators=300; total time=   0.3s\n",
      "[CV] END ...max_depth=60, max_features=0.5, n_estimators=300; total time=   0.4s\n",
      "[CV] END ...max_depth=60, max_features=0.5, n_estimators=300; total time=   0.6s\n",
      "[CV] END ...max_depth=80, max_features=0.4, n_estimators=100; total time=   0.1s\n",
      "[CV] END ...max_depth=80, max_features=0.4, n_estimators=100; total time=   0.0s\n",
      "[CV] END ...max_depth=80, max_features=0.4, n_estimators=100; total time=   0.0s\n",
      "[CV] END ...max_depth=90, max_features=0.1, n_estimators=300; total time=   0.3s\n",
      "[CV] END ...max_depth=90, max_features=0.1, n_estimators=300; total time=   0.2s\n",
      "[CV] END ...max_depth=90, max_features=0.1, n_estimators=300; total time=   0.2s\n",
      "[CV] END ...max_depth=20, max_features=0.4, n_estimators=500; total time=   0.3s\n",
      "[CV] END ...max_depth=20, max_features=0.4, n_estimators=500; total time=   0.3s\n"
     ]
    },
    {
     "name": "stdout",
     "output_type": "stream",
     "text": [
      "[CV] END ...max_depth=20, max_features=0.4, n_estimators=500; total time=   0.3s\n",
      "[CV] END ...max_depth=20, max_features=0.5, n_estimators=100; total time=   0.0s\n",
      "[CV] END ...max_depth=20, max_features=0.5, n_estimators=100; total time=   0.0s\n",
      "[CV] END ...max_depth=20, max_features=0.5, n_estimators=100; total time=   0.0s\n",
      "[CV] END ...max_depth=60, max_features=0.3, n_estimators=300; total time=   0.2s\n",
      "[CV] END ...max_depth=60, max_features=0.3, n_estimators=300; total time=   0.2s\n",
      "[CV] END ...max_depth=60, max_features=0.3, n_estimators=300; total time=   0.2s\n",
      "[CV] END ...max_depth=80, max_features=0.4, n_estimators=700; total time=   0.6s\n",
      "[CV] END ...max_depth=80, max_features=0.4, n_estimators=700; total time=   0.5s\n",
      "[CV] END ...max_depth=80, max_features=0.4, n_estimators=700; total time=   0.5s\n",
      "[CV] END ...max_depth=20, max_features=0.5, n_estimators=800; total time=   0.8s\n",
      "[CV] END ...max_depth=20, max_features=0.5, n_estimators=800; total time=   0.7s\n",
      "[CV] END ...max_depth=20, max_features=0.5, n_estimators=800; total time=   0.7s\n",
      "[CV] END ...max_depth=60, max_features=0.2, n_estimators=100; total time=   0.0s\n",
      "[CV] END ...max_depth=60, max_features=0.2, n_estimators=100; total time=   0.1s\n",
      "[CV] END ...max_depth=60, max_features=0.2, n_estimators=100; total time=   0.1s\n",
      "[CV] END ...max_depth=40, max_features=0.4, n_estimators=500; total time=   0.4s\n",
      "[CV] END ...max_depth=40, max_features=0.4, n_estimators=500; total time=   0.5s\n",
      "[CV] END ...max_depth=40, max_features=0.4, n_estimators=500; total time=   0.4s\n",
      "[CV] END ...max_depth=40, max_features=0.5, n_estimators=300; total time=   0.2s\n",
      "[CV] END ...max_depth=40, max_features=0.5, n_estimators=300; total time=   0.2s\n",
      "[CV] END ...max_depth=40, max_features=0.5, n_estimators=300; total time=   0.2s\n",
      "[CV] END ...max_depth=50, max_features=0.2, n_estimators=800; total time=   0.6s\n",
      "[CV] END ...max_depth=50, max_features=0.2, n_estimators=800; total time=   0.6s\n",
      "[CV] END ...max_depth=50, max_features=0.2, n_estimators=800; total time=   0.5s\n",
      "[CV] END ...max_depth=70, max_features=0.2, n_estimators=200; total time=   0.1s\n",
      "[CV] END ...max_depth=70, max_features=0.2, n_estimators=200; total time=   0.1s\n",
      "[CV] END ...max_depth=70, max_features=0.2, n_estimators=200; total time=   0.1s\n",
      "[CV] END .max_depth=None, max_features=0.5, n_estimators=400; total time=   0.3s\n",
      "[CV] END .max_depth=None, max_features=0.5, n_estimators=400; total time=   0.3s\n",
      "[CV] END .max_depth=None, max_features=0.5, n_estimators=400; total time=   0.3s\n",
      "[CV] END ...max_depth=90, max_features=0.2, n_estimators=700; total time=   0.6s\n",
      "[CV] END ...max_depth=90, max_features=0.2, n_estimators=700; total time=   0.6s\n",
      "[CV] END ...max_depth=90, max_features=0.2, n_estimators=700; total time=   0.6s\n",
      "[CV] END ...max_depth=20, max_features=0.5, n_estimators=400; total time=   0.3s\n",
      "[CV] END ...max_depth=20, max_features=0.5, n_estimators=400; total time=   0.3s\n",
      "[CV] END ...max_depth=20, max_features=0.5, n_estimators=400; total time=   0.3s\n",
      "[CV] END ..max_depth=110, max_features=0.3, n_estimators=600; total time=   0.5s\n",
      "[CV] END ..max_depth=110, max_features=0.3, n_estimators=600; total time=   0.5s\n",
      "[CV] END ..max_depth=110, max_features=0.3, n_estimators=600; total time=   0.5s\n",
      "[CV] END ...max_depth=10, max_features=0.2, n_estimators=800; total time=   0.6s\n",
      "[CV] END ...max_depth=10, max_features=0.2, n_estimators=800; total time=   0.6s\n",
      "[CV] END ...max_depth=10, max_features=0.2, n_estimators=800; total time=   0.6s\n",
      "[CV] END ...max_depth=40, max_features=0.5, n_estimators=200; total time=   0.2s\n",
      "[CV] END ...max_depth=40, max_features=0.5, n_estimators=200; total time=   0.2s\n",
      "[CV] END ...max_depth=40, max_features=0.5, n_estimators=200; total time=   0.2s\n",
      "[CV] END .max_depth=None, max_features=0.4, n_estimators=100; total time=   0.1s\n",
      "[CV] END .max_depth=None, max_features=0.4, n_estimators=100; total time=   0.0s\n",
      "[CV] END .max_depth=None, max_features=0.4, n_estimators=100; total time=   0.0s\n",
      "[CV] END ...max_depth=10, max_features=0.3, n_estimators=400; total time=   0.3s\n",
      "[CV] END ...max_depth=10, max_features=0.3, n_estimators=400; total time=   0.3s\n",
      "[CV] END ...max_depth=10, max_features=0.3, n_estimators=400; total time=   0.3s\n",
      "[CV] END ...max_depth=80, max_features=0.4, n_estimators=800; total time=   0.8s\n",
      "[CV] END ...max_depth=80, max_features=0.4, n_estimators=800; total time=   0.6s\n",
      "[CV] END ...max_depth=80, max_features=0.4, n_estimators=800; total time=   0.6s\n",
      "[CV] END ...max_depth=90, max_features=0.1, n_estimators=100; total time=   0.0s\n",
      "[CV] END ...max_depth=90, max_features=0.1, n_estimators=100; total time=   0.0s\n",
      "[CV] END ...max_depth=90, max_features=0.1, n_estimators=100; total time=   0.0s\n",
      "[CV] END ...max_depth=20, max_features=0.3, n_estimators=100; total time=   0.1s\n",
      "[CV] END ...max_depth=20, max_features=0.3, n_estimators=100; total time=   0.0s\n",
      "[CV] END ...max_depth=20, max_features=0.3, n_estimators=100; total time=   0.0s\n",
      "[CV] END ...max_depth=90, max_features=0.4, n_estimators=600; total time=   0.5s\n",
      "[CV] END ...max_depth=90, max_features=0.4, n_estimators=600; total time=   0.5s\n",
      "[CV] END ...max_depth=90, max_features=0.4, n_estimators=600; total time=   0.4s\n",
      "[CV] END ...max_depth=60, max_features=0.2, n_estimators=400; total time=   0.3s\n",
      "[CV] END ...max_depth=60, max_features=0.2, n_estimators=400; total time=   0.3s\n",
      "[CV] END ...max_depth=60, max_features=0.2, n_estimators=400; total time=   0.3s\n",
      "[CV] END ..max_depth=110, max_features=0.5, n_estimators=100; total time=   0.0s\n",
      "[CV] END ..max_depth=110, max_features=0.5, n_estimators=100; total time=   0.0s\n",
      "[CV] END ..max_depth=110, max_features=0.5, n_estimators=100; total time=   0.1s\n",
      "[CV] END ...max_depth=60, max_features=0.3, n_estimators=700; total time=   0.9s\n",
      "[CV] END ...max_depth=60, max_features=0.3, n_estimators=700; total time=   0.8s\n",
      "[CV] END ...max_depth=60, max_features=0.3, n_estimators=700; total time=   0.8s\n",
      "[CV] END ...max_depth=60, max_features=0.5, n_estimators=600; total time=   0.8s\n",
      "[CV] END ...max_depth=60, max_features=0.5, n_estimators=600; total time=   0.9s\n",
      "[CV] END ...max_depth=60, max_features=0.5, n_estimators=600; total time=   0.8s\n",
      "[CV] END ..max_depth=110, max_features=0.2, n_estimators=100; total time=   0.1s\n",
      "[CV] END ..max_depth=110, max_features=0.2, n_estimators=100; total time=   0.1s\n",
      "[CV] END ..max_depth=110, max_features=0.2, n_estimators=100; total time=   0.1s\n",
      "[CV] END ...max_depth=10, max_features=0.4, n_estimators=200; total time=   0.2s\n",
      "[CV] END ...max_depth=10, max_features=0.4, n_estimators=200; total time=   0.2s\n",
      "[CV] END ...max_depth=10, max_features=0.4, n_estimators=200; total time=   0.2s\n",
      "[CV] END ..max_depth=110, max_features=0.3, n_estimators=400; total time=   0.5s\n",
      "[CV] END ..max_depth=110, max_features=0.3, n_estimators=400; total time=   0.5s\n",
      "[CV] END ..max_depth=110, max_features=0.3, n_estimators=400; total time=   0.3s\n",
      "[CV] END ...max_depth=40, max_features=0.2, n_estimators=500; total time=   0.4s\n",
      "[CV] END ...max_depth=40, max_features=0.2, n_estimators=500; total time=   0.3s\n",
      "[CV] END ...max_depth=40, max_features=0.2, n_estimators=500; total time=   0.4s\n",
      "[CV] END ...max_depth=60, max_features=0.4, n_estimators=500; total time=   0.3s\n",
      "[CV] END ...max_depth=60, max_features=0.4, n_estimators=500; total time=   0.4s\n",
      "[CV] END ...max_depth=60, max_features=0.4, n_estimators=500; total time=   0.4s\n",
      "[CV] END .max_depth=None, max_features=0.5, n_estimators=200; total time=   0.2s\n",
      "[CV] END .max_depth=None, max_features=0.5, n_estimators=200; total time=   0.1s\n",
      "[CV] END .max_depth=None, max_features=0.5, n_estimators=200; total time=   0.1s\n",
      "[CV] END ...max_depth=20, max_features=0.1, n_estimators=300; total time=   0.2s\n",
      "[CV] END ...max_depth=20, max_features=0.1, n_estimators=300; total time=   0.2s\n",
      "[CV] END ...max_depth=20, max_features=0.1, n_estimators=300; total time=   0.2s\n"
     ]
    },
    {
     "data": {
      "text/plain": [
       "{'n_estimators': 400, 'max_features': 0.5, 'max_depth': 40}"
      ]
     },
     "execution_count": 49,
     "metadata": {},
     "output_type": "execute_result"
    }
   ],
   "source": [
    "rf = RandomForestRegressor(random_state=0, n_jobs=-1)\n",
    "\n",
    "rf_random = RandomizedSearchCV(\n",
    "    estimator=rf,\n",
    "    param_distributions=hyper_params,\n",
    "    n_iter=100,\n",
    "    scoring=\"neg_mean_absolute_error\",\n",
    "    cv=3,\n",
    "    verbose=2,\n",
    "    random_state=42,\n",
    "    return_train_score=True,\n",
    ")\n",
    "\n",
    "rf_random.fit(X_train_random_split, y_train_random_split)\n",
    "rf_random.best_params_"
   ]
  },
  {
   "cell_type": "code",
   "execution_count": 50,
   "id": "31b7c7da",
   "metadata": {},
   "outputs": [
    {
     "name": "stdout",
     "output_type": "stream",
     "text": [
      "RMSE train: 0.17\n",
      "RMSE test: 0.49\n"
     ]
    }
   ],
   "source": [
    "assess_regression_model(\n",
    "    rf_random,\n",
    "    X_train_random_split,\n",
    "    X_test_random_split,\n",
    "    y_train_random_split,\n",
    "    y_test_random_split,\n",
    ")"
   ]
  },
  {
   "cell_type": "markdown",
   "id": "d318591b",
   "metadata": {},
   "source": [
    "### Próba zmniejszenia overfittingu\n",
    "Ustawiam max_depth na 7."
   ]
  },
  {
   "cell_type": "code",
   "execution_count": 67,
   "id": "3d330cf7",
   "metadata": {},
   "outputs": [
    {
     "name": "stdout",
     "output_type": "stream",
     "text": [
      "RMSE train: 0.44\n",
      "RMSE test: 0.47\n"
     ]
    }
   ],
   "source": [
    "rf = RandomForestRegressor(\n",
    "    random_state=0, n_jobs=-1, n_estimators=400, max_features=0.5, max_depth=7\n",
    ")\n",
    "rf.fit(X_train, y_train)\n",
    "assess_regression_model(\n",
    "    rf,\n",
    "    X_train_random_split,\n",
    "    X_test_random_split,\n",
    "    y_train_random_split,\n",
    "    y_test_random_split,\n",
    ")"
   ]
  },
  {
   "cell_type": "markdown",
   "id": "f762e50d",
   "metadata": {},
   "source": [
    "### Sprawdzenie wyników po zaokrągleniu"
   ]
  },
  {
   "cell_type": "code",
   "execution_count": 68,
   "id": "719b6a42",
   "metadata": {},
   "outputs": [],
   "source": [
    "from copy import deepcopy\n",
    "\n",
    "predict_random_split = rf.predict(X_test_random_split)\n",
    "round_predict_random_split = np.round(predict_random_split).astype(\"int\")\n",
    "round_predict_random_split = np.where(\n",
    "    round_predict_random_split > 20, 21, round_predict_random_split\n",
    ")"
   ]
  },
  {
   "cell_type": "code",
   "execution_count": 69,
   "id": "719f6b0f",
   "metadata": {},
   "outputs": [
    {
     "name": "stdout",
     "output_type": "stream",
     "text": [
      "Normal:\n",
      "Mean square error: 0.22\n",
      "RMSE: 0.47\n",
      "Mean absolute error = 0.29\n",
      "\n",
      "Round:\n",
      "Mean square error: 0.25\n",
      "RMSE: 0.50\n",
      "Mean absolute error = 0.20\n",
      "\n"
     ]
    }
   ],
   "source": [
    "print(\"Normal:\")\n",
    "check_predictions(y_test_random_split, predict_random_split)\n",
    "\n",
    "print(\"Round:\")\n",
    "check_predictions(y_test_random_split, round_predict_random_split)"
   ]
  },
  {
   "cell_type": "markdown",
   "id": "ab4c98d5",
   "metadata": {},
   "source": [
    "### Macierz sąsiedztwa"
   ]
  },
  {
   "cell_type": "code",
   "execution_count": 70,
   "id": "966fa71e",
   "metadata": {
    "scrolled": true
   },
   "outputs": [
    {
     "data": {
      "image/png": "[encoded data removed]",
      "text/plain": [
       "<Figure size 432x288 with 2 Axes>"
      ]
     },
     "metadata": {
      "needs_background": "light"
     },
     "output_type": "display_data"
    }
   ],
   "source": [
    "from sklearn.metrics import confusion_matrix, ConfusionMatrixDisplay\n",
    "\n",
    "cm = confusion_matrix(y_test_random_split, round_predict_random_split)\n",
    "\n",
    "disp = ConfusionMatrixDisplay(confusion_matrix=cm, display_labels=np.arange(-1, 22))\n",
    "\n",
    "disp.plot()\n",
    "plt.title(\"Confusion matrix\")\n",
    "plt.show()"
   ]
  },
  {
   "cell_type": "markdown",
   "id": "8fb5babe",
   "metadata": {},
   "source": [
    "### Podsumowanie:\n",
    "\n",
    "* Wyniki zadowalające.\n",
    "* Wyniki poprawiły się względem regesji liniowej.\n",
    "* Dla podziału chronologicznego dostajemy słabe dopasowanie dla danych testowych. Być może dla większej ilości książek będzie lepiej."
   ]
  }
 ],
 "metadata": {
  "kernelspec": {
   "display_name": "Python 3 (ipykernel)",
   "language": "python",
   "name": "python3"
  },
  "language_info": {
   "codemirror_mode": {
    "name": "ipython",
    "version": 3
   },
   "file_extension": ".py",
   "mimetype": "text/x-python",
   "name": "python",
   "nbconvert_exporter": "python",
   "pygments_lexer": "ipython3",
   "version": "3.9.0"
  }
 },
 "nbformat": 4,
 "nbformat_minor": 5
}
