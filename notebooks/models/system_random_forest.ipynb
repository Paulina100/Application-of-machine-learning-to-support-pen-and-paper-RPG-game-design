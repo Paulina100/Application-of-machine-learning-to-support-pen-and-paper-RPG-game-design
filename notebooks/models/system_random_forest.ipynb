{
 "cells": [
  {
   "cell_type": "markdown",
   "id": "98cf665b",
   "metadata": {},
   "source": [
    "# Random Forest\n",
    "### Parameters:\n",
    "* **abilities**:\n",
    "    * **cha**\n",
    "    * **con**\n",
    "    * **dex**\n",
    "    * **int**\n",
    "    * **str**\n",
    "    * **wis**\n",
    "* **attributes**\n",
    "    * **hp**\n",
    "    * **ac**\n",
    "\n",
    "### Prediction: *level*\n",
    "\n",
    "## Loading data"
   ]
  },
  {
   "cell_type": "code",
   "execution_count": 1,
   "id": "5c12590a",
   "metadata": {},
   "outputs": [],
   "source": [
    "import numpy as np\n",
    "import pandas as pd\n",
    "import sys\n",
    "\n",
    "import os\n",
    "import pathlib\n",
    "\n",
    "sys.path.append(\"../..\")\n",
    "from training.creating_dataset import load_and_preprocess_data\n",
    "\n",
    "current_path = os.getcwd()\n",
    "DATASETS_DIR = pathlib.Path(current_path).parent.parent / \"pathfinder_2e_data\"\n",
    "DATASET_FILES = [\n",
    "    \"pathfinder-bestiary.db\",\n",
    "    \"pathfinder-bestiary-2.db\",\n",
    "    \"pathfinder-bestiary-3.db\",\n",
    "]\n",
    "DATASET_PATHS = [f\"{DATASETS_DIR}/{file}\" for file in DATASET_FILES]\n",
    "characteristics = [\n",
    "    \"cha\",\n",
    "    \"con\",\n",
    "    \"dex\",\n",
    "    \"int\",\n",
    "    \"str\",\n",
    "    \"wis\",\n",
    "    \"ac\",\n",
    "    \"hp\",\n",
    "]\n",
    "\n",
    "df = load_and_preprocess_data(\n",
    "    DATASET_PATHS,\n",
    "    characteristics=characteristics,\n",
    ")"
   ]
  },
  {
   "cell_type": "code",
   "execution_count": 2,
   "id": "7b7d08ea",
   "metadata": {
    "scrolled": true
   },
   "outputs": [
    {
     "name": "stdout",
     "output_type": "stream",
     "text": [
      "<class 'pandas.core.frame.DataFrame'>\n",
      "Int64Index: 1206 entries, 0 to 1205\n",
      "Data columns (total 10 columns):\n",
      " #   Column  Non-Null Count  Dtype \n",
      "---  ------  --------------  ----- \n",
      " 0   level   1206 non-null   int64 \n",
      " 1   int     1206 non-null   int64 \n",
      " 2   book    1206 non-null   object\n",
      " 3   str     1206 non-null   int64 \n",
      " 4   ac      1206 non-null   int64 \n",
      " 5   con     1206 non-null   int64 \n",
      " 6   cha     1206 non-null   int64 \n",
      " 7   hp      1206 non-null   int64 \n",
      " 8   dex     1206 non-null   int64 \n",
      " 9   wis     1206 non-null   int64 \n",
      "dtypes: int64(9), object(1)\n",
      "memory usage: 103.6+ KB\n"
     ]
    }
   ],
   "source": [
    "df.info()"
   ]
  },
  {
   "cell_type": "code",
   "execution_count": 3,
   "id": "8a8af4ee",
   "metadata": {
    "scrolled": true
   },
   "outputs": [
    {
     "data": {
      "text/plain": "   level  int                 book  str  ac  con  cha   hp  dex  wis\n0     10    1  Pathfinder Bestiary    7  29    5    1  215    2    2\n1     10   -4  Pathfinder Bestiary    9  28    5    1  220    0    2\n2      8   -4  Pathfinder Bestiary    7  25    6   -2  175    3    3\n3     17    6  Pathfinder Bestiary    7  41    5    6  315    4    5\n4      1   -1  Pathfinder Bestiary   -5  16    1    1   20    3    1",
      "text/html": "<div>\n<style scoped>\n    .dataframe tbody tr th:only-of-type {\n        vertical-align: middle;\n    }\n\n    .dataframe tbody tr th {\n        vertical-align: top;\n    }\n\n    .dataframe thead th {\n        text-align: right;\n    }\n</style>\n<table border=\"1\" class=\"dataframe\">\n  <thead>\n    <tr style=\"text-align: right;\">\n      <th></th>\n      <th>level</th>\n      <th>int</th>\n      <th>book</th>\n      <th>str</th>\n      <th>ac</th>\n      <th>con</th>\n      <th>cha</th>\n      <th>hp</th>\n      <th>dex</th>\n      <th>wis</th>\n    </tr>\n  </thead>\n  <tbody>\n    <tr>\n      <th>0</th>\n      <td>10</td>\n      <td>1</td>\n      <td>Pathfinder Bestiary</td>\n      <td>7</td>\n      <td>29</td>\n      <td>5</td>\n      <td>1</td>\n      <td>215</td>\n      <td>2</td>\n      <td>2</td>\n    </tr>\n    <tr>\n      <th>1</th>\n      <td>10</td>\n      <td>-4</td>\n      <td>Pathfinder Bestiary</td>\n      <td>9</td>\n      <td>28</td>\n      <td>5</td>\n      <td>1</td>\n      <td>220</td>\n      <td>0</td>\n      <td>2</td>\n    </tr>\n    <tr>\n      <th>2</th>\n      <td>8</td>\n      <td>-4</td>\n      <td>Pathfinder Bestiary</td>\n      <td>7</td>\n      <td>25</td>\n      <td>6</td>\n      <td>-2</td>\n      <td>175</td>\n      <td>3</td>\n      <td>3</td>\n    </tr>\n    <tr>\n      <th>3</th>\n      <td>17</td>\n      <td>6</td>\n      <td>Pathfinder Bestiary</td>\n      <td>7</td>\n      <td>41</td>\n      <td>5</td>\n      <td>6</td>\n      <td>315</td>\n      <td>4</td>\n      <td>5</td>\n    </tr>\n    <tr>\n      <th>4</th>\n      <td>1</td>\n      <td>-1</td>\n      <td>Pathfinder Bestiary</td>\n      <td>-5</td>\n      <td>16</td>\n      <td>1</td>\n      <td>1</td>\n      <td>20</td>\n      <td>3</td>\n      <td>1</td>\n    </tr>\n  </tbody>\n</table>\n</div>"
     },
     "execution_count": 3,
     "metadata": {},
     "output_type": "execute_result"
    }
   ],
   "source": [
    "df.head()"
   ]
  },
  {
   "cell_type": "markdown",
   "id": "be627ad9",
   "metadata": {},
   "source": [
    "###### Level"
   ]
  },
  {
   "cell_type": "code",
   "execution_count": 4,
   "id": "d8ba0852",
   "metadata": {
    "scrolled": true
   },
   "outputs": [],
   "source": [
    "y = df[\"level\"]"
   ]
  },
  {
   "cell_type": "code",
   "execution_count": 5,
   "id": "9b982ddc",
   "metadata": {},
   "outputs": [
    {
     "name": "stdout",
     "output_type": "stream",
     "text": [
      "0       10\n",
      "1       10\n",
      "2        8\n",
      "3       17\n",
      "4        1\n",
      "        ..\n",
      "1201    20\n",
      "1202    -1\n",
      "1203    12\n",
      "1204     6\n",
      "1205     6\n",
      "Name: level, Length: 1206, dtype: int64\n"
     ]
    }
   ],
   "source": [
    "print(y)"
   ]
  },
  {
   "cell_type": "code",
   "execution_count": 6,
   "id": "ca50133e",
   "metadata": {},
   "outputs": [],
   "source": [
    "from collections import defaultdict\n",
    "\n",
    "\n",
    "lvl_stat = defaultdict(lambda: 0)\n",
    "\n",
    "for lvl in y:\n",
    "    lvl_stat[lvl] += 1"
   ]
  },
  {
   "cell_type": "code",
   "execution_count": 7,
   "id": "fe66a2b5",
   "metadata": {},
   "outputs": [
    {
     "name": "stdout",
     "output_type": "stream",
     "text": [
      "    lvl  count\n",
      "0    -1     34\n",
      "1     0     27\n",
      "2     1    127\n",
      "3     2    121\n",
      "4     3     95\n",
      "5     4     82\n",
      "6     5     76\n",
      "7     6     72\n",
      "8     7     77\n",
      "9     8     68\n",
      "10    9     63\n",
      "11   10     58\n",
      "12   11     40\n",
      "13   12     41\n",
      "14   13     36\n",
      "15   14     33\n",
      "16   15     31\n",
      "17   16     25\n",
      "18   17     21\n",
      "19   18     21\n",
      "20   19     18\n",
      "21   20     24\n",
      "22   21     16\n"
     ]
    }
   ],
   "source": [
    "level_count = pd.DataFrame(\n",
    "    data={\n",
    "        \"lvl\": [key for key in sorted(lvl_stat.keys())],\n",
    "        \"count\": [lvl_stat.get(key) for key in sorted(lvl_stat.keys())],\n",
    "    }\n",
    ")\n",
    "print(level_count)"
   ]
  },
  {
   "cell_type": "code",
   "execution_count": 8,
   "id": "7dadfffd",
   "metadata": {
    "scrolled": true
   },
   "outputs": [
    {
     "data": {
      "text/plain": "<Figure size 640x480 with 1 Axes>",
      "image/png": "[encoded data removed]"
     },
     "metadata": {},
     "output_type": "display_data"
    }
   ],
   "source": [
    "import matplotlib.pyplot as plt\n",
    "\n",
    "level_count.plot.bar(x=\"lvl\", y=\"count\", title=\"Count of levels\")\n",
    "plt.show()"
   ]
  },
  {
   "cell_type": "markdown",
   "id": "382df77c",
   "metadata": {},
   "source": [
    "## Train test split"
   ]
  },
  {
   "cell_type": "markdown",
   "id": "b7123172",
   "metadata": {},
   "source": [
    "### Chronological split"
   ]
  },
  {
   "cell_type": "code",
   "execution_count": 9,
   "id": "e80ac4f5",
   "metadata": {
    "scrolled": true
   },
   "outputs": [],
   "source": [
    "from training.splitting_dataset import split_dataframe\n",
    "\n",
    "os.chdir(\"../../training\")\n",
    "X_train, X_test, y_train, y_test = split_dataframe(df, test_size=0.31)\n",
    "os.chdir(\"../notebooks/models\")"
   ]
  },
  {
   "cell_type": "code",
   "execution_count": 10,
   "id": "f4338cbb",
   "metadata": {},
   "outputs": [],
   "source": [
    "X_train = X_train.drop(columns=[\"book\"])\n",
    "X_test = X_test.drop(columns=[\"book\"])"
   ]
  },
  {
   "cell_type": "code",
   "execution_count": 11,
   "outputs": [
    {
     "name": "stdout",
     "output_type": "stream",
     "text": [
      "<class 'pandas.core.frame.DataFrame'>\n",
      "Int64Index: 841 entries, 0 to 840\n",
      "Data columns (total 8 columns):\n",
      " #   Column  Non-Null Count  Dtype\n",
      "---  ------  --------------  -----\n",
      " 0   int     841 non-null    int64\n",
      " 1   str     841 non-null    int64\n",
      " 2   ac      841 non-null    int64\n",
      " 3   con     841 non-null    int64\n",
      " 4   cha     841 non-null    int64\n",
      " 5   hp      841 non-null    int64\n",
      " 6   dex     841 non-null    int64\n",
      " 7   wis     841 non-null    int64\n",
      "dtypes: int64(8)\n",
      "memory usage: 59.1 KB\n"
     ]
    }
   ],
   "source": [
    "X_train = X_train.astype(\"int64\")\n",
    "X_train.info()"
   ],
   "metadata": {
    "collapsed": false
   }
  },
  {
   "cell_type": "code",
   "execution_count": 12,
   "outputs": [
    {
     "name": "stdout",
     "output_type": "stream",
     "text": [
      "<class 'pandas.core.series.Series'>\n",
      "Int64Index: 841 entries, 0 to 840\n",
      "Series name: level\n",
      "Non-Null Count  Dtype\n",
      "--------------  -----\n",
      "841 non-null    int64\n",
      "dtypes: int64(1)\n",
      "memory usage: 13.1 KB\n"
     ]
    }
   ],
   "source": [
    "y_train = y_train.astype(\"int64\")\n",
    "y_train.info()"
   ],
   "metadata": {
    "collapsed": false
   }
  },
  {
   "cell_type": "markdown",
   "id": "9eae14cc",
   "metadata": {},
   "source": [
    "### Random split"
   ]
  },
  {
   "cell_type": "code",
   "execution_count": 13,
   "id": "4919d543",
   "metadata": {},
   "outputs": [],
   "source": [
    "(\n",
    "    X_train_random_split,\n",
    "    X_test_random_split,\n",
    "    y_train_random_split,\n",
    "    y_test_random_split,\n",
    ") = split_dataframe(df, chronological_split=False)"
   ]
  },
  {
   "cell_type": "code",
   "execution_count": 14,
   "id": "30dfbabf",
   "metadata": {
    "scrolled": true
   },
   "outputs": [],
   "source": [
    "X_train_random_split = X_train_random_split.drop(columns=[\"book\"])\n",
    "X_test_random_split = X_test_random_split.drop(columns=[\"book\"])"
   ]
  },
  {
   "cell_type": "markdown",
   "id": "449173a7",
   "metadata": {},
   "source": [
    "## Random Forest"
   ]
  },
  {
   "cell_type": "markdown",
   "source": [
    "## Chronological split"
   ],
   "metadata": {
    "collapsed": false
   }
  },
  {
   "cell_type": "code",
   "execution_count": 15,
   "id": "9acf8c0c",
   "metadata": {},
   "outputs": [
    {
     "data": {
      "text/plain": "RandomForestRegressor(max_depth=2, n_estimators=500, n_jobs=-1, random_state=0)",
      "text/html": "<style>#sk-container-id-1 {color: black;background-color: white;}#sk-container-id-1 pre{padding: 0;}#sk-container-id-1 div.sk-toggleable {background-color: white;}#sk-container-id-1 label.sk-toggleable__label {cursor: pointer;display: block;width: 100%;margin-bottom: 0;padding: 0.3em;box-sizing: border-box;text-align: center;}#sk-container-id-1 label.sk-toggleable__label-arrow:before {content: \"▸\";float: left;margin-right: 0.25em;color: #696969;}#sk-container-id-1 label.sk-toggleable__label-arrow:hover:before {color: black;}#sk-container-id-1 div.sk-estimator:hover label.sk-toggleable__label-arrow:before {color: black;}#sk-container-id-1 div.sk-toggleable__content {max-height: 0;max-width: 0;overflow: hidden;text-align: left;background-color: #f0f8ff;}#sk-container-id-1 div.sk-toggleable__content pre {margin: 0.2em;color: black;border-radius: 0.25em;background-color: #f0f8ff;}#sk-container-id-1 input.sk-toggleable__control:checked~div.sk-toggleable__content {max-height: 200px;max-width: 100%;overflow: auto;}#sk-container-id-1 input.sk-toggleable__control:checked~label.sk-toggleable__label-arrow:before {content: \"▾\";}#sk-container-id-1 div.sk-estimator input.sk-toggleable__control:checked~label.sk-toggleable__label {background-color: #d4ebff;}#sk-container-id-1 div.sk-label input.sk-toggleable__control:checked~label.sk-toggleable__label {background-color: #d4ebff;}#sk-container-id-1 input.sk-hidden--visually {border: 0;clip: rect(1px 1px 1px 1px);clip: rect(1px, 1px, 1px, 1px);height: 1px;margin: -1px;overflow: hidden;padding: 0;position: absolute;width: 1px;}#sk-container-id-1 div.sk-estimator {font-family: monospace;background-color: #f0f8ff;border: 1px dotted black;border-radius: 0.25em;box-sizing: border-box;margin-bottom: 0.5em;}#sk-container-id-1 div.sk-estimator:hover {background-color: #d4ebff;}#sk-container-id-1 div.sk-parallel-item::after {content: \"\";width: 100%;border-bottom: 1px solid gray;flex-grow: 1;}#sk-container-id-1 div.sk-label:hover label.sk-toggleable__label {background-color: #d4ebff;}#sk-container-id-1 div.sk-serial::before {content: \"\";position: absolute;border-left: 1px solid gray;box-sizing: border-box;top: 0;bottom: 0;left: 50%;z-index: 0;}#sk-container-id-1 div.sk-serial {display: flex;flex-direction: column;align-items: center;background-color: white;padding-right: 0.2em;padding-left: 0.2em;position: relative;}#sk-container-id-1 div.sk-item {position: relative;z-index: 1;}#sk-container-id-1 div.sk-parallel {display: flex;align-items: stretch;justify-content: center;background-color: white;position: relative;}#sk-container-id-1 div.sk-item::before, #sk-container-id-1 div.sk-parallel-item::before {content: \"\";position: absolute;border-left: 1px solid gray;box-sizing: border-box;top: 0;bottom: 0;left: 50%;z-index: -1;}#sk-container-id-1 div.sk-parallel-item {display: flex;flex-direction: column;z-index: 1;position: relative;background-color: white;}#sk-container-id-1 div.sk-parallel-item:first-child::after {align-self: flex-end;width: 50%;}#sk-container-id-1 div.sk-parallel-item:last-child::after {align-self: flex-start;width: 50%;}#sk-container-id-1 div.sk-parallel-item:only-child::after {width: 0;}#sk-container-id-1 div.sk-dashed-wrapped {border: 1px dashed gray;margin: 0 0.4em 0.5em 0.4em;box-sizing: border-box;padding-bottom: 0.4em;background-color: white;}#sk-container-id-1 div.sk-label label {font-family: monospace;font-weight: bold;display: inline-block;line-height: 1.2em;}#sk-container-id-1 div.sk-label-container {text-align: center;}#sk-container-id-1 div.sk-container {/* jupyter's `normalize.less` sets `[hidden] { display: none; }` but bootstrap.min.css set `[hidden] { display: none !important; }` so we also need the `!important` here to be able to override the default hidden behavior on the sphinx rendered scikit-learn.org. See: https://github.com/scikit-learn/scikit-learn/issues/21755 */display: inline-block !important;position: relative;}#sk-container-id-1 div.sk-text-repr-fallback {display: none;}</style><div id=\"sk-container-id-1\" class=\"sk-top-container\"><div class=\"sk-text-repr-fallback\"><pre>RandomForestRegressor(max_depth=2, n_estimators=500, n_jobs=-1, random_state=0)</pre><b>In a Jupyter environment, please rerun this cell to show the HTML representation or trust the notebook. <br />On GitHub, the HTML representation is unable to render, please try loading this page with nbviewer.org.</b></div><div class=\"sk-container\" hidden><div class=\"sk-item\"><div class=\"sk-estimator sk-toggleable\"><input class=\"sk-toggleable__control sk-hidden--visually\" id=\"sk-estimator-id-1\" type=\"checkbox\" checked><label for=\"sk-estimator-id-1\" class=\"sk-toggleable__label sk-toggleable__label-arrow\">RandomForestRegressor</label><div class=\"sk-toggleable__content\"><pre>RandomForestRegressor(max_depth=2, n_estimators=500, n_jobs=-1, random_state=0)</pre></div></div></div></div></div>"
     },
     "execution_count": 15,
     "metadata": {},
     "output_type": "execute_result"
    }
   ],
   "source": [
    "from sklearn.ensemble import RandomForestRegressor\n",
    "\n",
    "rf_reg = RandomForestRegressor(n_estimators=500, max_depth=2, random_state=0, n_jobs=-1)\n",
    "rf_reg.fit(X_train, y_train)"
   ]
  },
  {
   "cell_type": "code",
   "execution_count": 16,
   "id": "a81582c5",
   "metadata": {},
   "outputs": [],
   "source": [
    "y_pred_train = rf_reg.predict(X_train)\n",
    "y_pred_test = rf_reg.predict(X_test)"
   ]
  },
  {
   "cell_type": "code",
   "execution_count": 17,
   "id": "f132bb62",
   "metadata": {
    "scrolled": true
   },
   "outputs": [
    {
     "name": "stdout",
     "output_type": "stream",
     "text": [
      "MSE: 2.23\n",
      "RMSE: 1.49\n"
     ]
    }
   ],
   "source": [
    "from sklearn.metrics import mean_squared_error\n",
    "\n",
    "\n",
    "mse = mean_squared_error(y_test, y_pred_test)\n",
    "rmse = mean_squared_error(y_test, y_pred_test, squared=False)\n",
    "\n",
    "print(f\"MSE: {mse:.2f}\")\n",
    "print(f\"RMSE: {rmse:.2f}\")"
   ]
  },
  {
   "cell_type": "markdown",
   "id": "0f4f20d9",
   "metadata": {},
   "source": [
    "RMSE is large. Let's see value after tuning."
   ]
  },
  {
   "cell_type": "code",
   "execution_count": 18,
   "id": "7c1b9b76",
   "metadata": {
    "scrolled": false
   },
   "outputs": [
    {
     "name": "stdout",
     "output_type": "stream",
     "text": [
      "RMSE train: 1.22\n",
      "RMSE test: 1.49\n"
     ]
    }
   ],
   "source": [
    "rmse_train = mean_squared_error(y_train, y_pred_train, squared=False)\n",
    "rmse_test = mean_squared_error(y_test, y_pred_test, squared=False)\n",
    "print(f\"RMSE train: {rmse_train:.2f}\")\n",
    "print(f\"RMSE test: {rmse_test:.2f}\")"
   ]
  },
  {
   "cell_type": "markdown",
   "id": "bc1b63d6",
   "metadata": {},
   "source": [
    "No overfitting"
   ]
  },
  {
   "cell_type": "code",
   "execution_count": 19,
   "outputs": [
    {
     "name": "stdout",
     "output_type": "stream",
     "text": [
      "Normal:\n",
      "MSE: 2.23\n",
      "RMSE: 1.49\n",
      "\n",
      "Round type: round\n",
      "MSE: 2.52\n",
      "RMSE: 1.59\n",
      "\n",
      "Round type: 0.33\n",
      "MSE: 2.16\n",
      "RMSE: 1.47\n",
      "\n",
      "Round type: 0.45\n",
      "MSE: 2.52\n",
      "RMSE: 1.59\n",
      "\n"
     ]
    }
   ],
   "source": [
    "from training.results import check_round_predictions, plot_confusion_matrix\n",
    "\n",
    "\n",
    "check_round_predictions([\"round\", 0.33, 0.45], y_test, y_pred_test)"
   ],
   "metadata": {
    "collapsed": false
   }
  },
  {
   "cell_type": "code",
   "execution_count": 20,
   "outputs": [
    {
     "data": {
      "text/plain": "<Figure size 640x480 with 2 Axes>",
      "image/png": "[encoded data removed]"
     },
     "metadata": {},
     "output_type": "display_data"
    }
   ],
   "source": [
    "plot_confusion_matrix(\"round\", y_pred_test, y_test)"
   ],
   "metadata": {
    "collapsed": false
   }
  },
  {
   "cell_type": "markdown",
   "id": "3dfff344",
   "metadata": {},
   "source": [
    "### Tuning"
   ]
  },
  {
   "cell_type": "code",
   "execution_count": 21,
   "id": "7d949537",
   "metadata": {},
   "outputs": [],
   "source": [
    "from training.results import assess_regression_model"
   ]
  },
  {
   "cell_type": "code",
   "execution_count": 22,
   "id": "b6e6f3ed",
   "metadata": {
    "scrolled": true
   },
   "outputs": [
    {
     "name": "stdout",
     "output_type": "stream",
     "text": [
      "{'n_estimators': [100, 200, 300, 400, 500, 600, 700, 800], 'max_features': [0.1, 0.2, 0.3, 0.4, 0.5], 'max_depth': [10, 20, 30, 40, 50, 60, 70, 80, 90, 100, 110, None]}\n"
     ]
    }
   ],
   "source": [
    "from sklearn.model_selection import RandomizedSearchCV\n",
    "\n",
    "n_estimators = [int(x) for x in np.linspace(start=100, stop=800, num=8)]\n",
    "max_features = [0.1, 0.2, 0.3, 0.4, 0.5]\n",
    "max_depth = list(range(10, 111, 10)) + [None]\n",
    "\n",
    "hyper_params = {\n",
    "    \"n_estimators\": n_estimators,\n",
    "    \"max_features\": max_features,\n",
    "    \"max_depth\": max_depth,\n",
    "}\n",
    "\n",
    "print(hyper_params)"
   ]
  },
  {
   "cell_type": "code",
   "execution_count": 23,
   "id": "f524fbb3",
   "metadata": {
    "scrolled": true
   },
   "outputs": [
    {
     "name": "stdout",
     "output_type": "stream",
     "text": [
      "Fitting 3 folds for each of 100 candidates, totalling 300 fits\n",
      "[CV] END ...max_depth=20, max_features=0.5, n_estimators=200; total time=   4.1s\n",
      "[CV] END ...max_depth=20, max_features=0.5, n_estimators=200; total time=   0.1s\n",
      "[CV] END ...max_depth=20, max_features=0.5, n_estimators=200; total time=   0.1s\n",
      "[CV] END ..max_depth=110, max_features=0.2, n_estimators=700; total time=   0.7s\n",
      "[CV] END ..max_depth=110, max_features=0.2, n_estimators=700; total time=   0.6s\n",
      "[CV] END ..max_depth=110, max_features=0.2, n_estimators=700; total time=   1.2s\n",
      "[CV] END ..max_depth=100, max_features=0.5, n_estimators=300; total time=   0.2s\n",
      "[CV] END ..max_depth=100, max_features=0.5, n_estimators=300; total time=   0.3s\n",
      "[CV] END ..max_depth=100, max_features=0.5, n_estimators=300; total time=   0.4s\n",
      "[CV] END ...max_depth=70, max_features=0.5, n_estimators=600; total time=   0.8s\n",
      "[CV] END ...max_depth=70, max_features=0.5, n_estimators=600; total time=   0.6s\n",
      "[CV] END ...max_depth=70, max_features=0.5, n_estimators=600; total time=   0.7s\n",
      "[CV] END ..max_depth=100, max_features=0.5, n_estimators=800; total time=   0.9s\n",
      "[CV] END ..max_depth=100, max_features=0.5, n_estimators=800; total time=   0.7s\n",
      "[CV] END ..max_depth=100, max_features=0.5, n_estimators=800; total time=   0.6s\n",
      "[CV] END ...max_depth=50, max_features=0.2, n_estimators=500; total time=   0.3s\n",
      "[CV] END ...max_depth=50, max_features=0.2, n_estimators=500; total time=   0.6s\n",
      "[CV] END ...max_depth=50, max_features=0.2, n_estimators=500; total time=   0.3s\n",
      "[CV] END ...max_depth=70, max_features=0.4, n_estimators=500; total time=   0.4s\n",
      "[CV] END ...max_depth=70, max_features=0.4, n_estimators=500; total time=   0.4s\n",
      "[CV] END ...max_depth=70, max_features=0.4, n_estimators=500; total time=   0.7s\n",
      "[CV] END ..max_depth=100, max_features=0.2, n_estimators=800; total time=   0.7s\n",
      "[CV] END ..max_depth=100, max_features=0.2, n_estimators=800; total time=   0.7s\n",
      "[CV] END ..max_depth=100, max_features=0.2, n_estimators=800; total time=   0.8s\n",
      "[CV] END ...max_depth=20, max_features=0.5, n_estimators=600; total time=   0.7s\n",
      "[CV] END ...max_depth=20, max_features=0.5, n_estimators=600; total time=   0.7s\n",
      "[CV] END ...max_depth=20, max_features=0.5, n_estimators=600; total time=   0.9s\n",
      "[CV] END .max_depth=None, max_features=0.1, n_estimators=300; total time=   0.5s\n",
      "[CV] END .max_depth=None, max_features=0.1, n_estimators=300; total time=   0.3s\n",
      "[CV] END .max_depth=None, max_features=0.1, n_estimators=300; total time=   0.4s\n",
      "[CV] END ...max_depth=10, max_features=0.2, n_estimators=200; total time=   0.1s\n",
      "[CV] END ...max_depth=10, max_features=0.2, n_estimators=200; total time=   0.1s\n",
      "[CV] END ...max_depth=10, max_features=0.2, n_estimators=200; total time=   0.1s\n",
      "[CV] END ...max_depth=80, max_features=0.1, n_estimators=200; total time=   0.1s\n",
      "[CV] END ...max_depth=80, max_features=0.1, n_estimators=200; total time=   0.1s\n",
      "[CV] END ...max_depth=80, max_features=0.1, n_estimators=200; total time=   0.2s\n",
      "[CV] END ..max_depth=110, max_features=0.5, n_estimators=200; total time=   0.1s\n",
      "[CV] END ..max_depth=110, max_features=0.5, n_estimators=200; total time=   0.1s\n",
      "[CV] END ..max_depth=110, max_features=0.5, n_estimators=200; total time=   0.1s\n",
      "[CV] END ...max_depth=80, max_features=0.3, n_estimators=300; total time=   0.3s\n",
      "[CV] END ...max_depth=80, max_features=0.3, n_estimators=300; total time=   0.4s\n",
      "[CV] END ...max_depth=80, max_features=0.3, n_estimators=300; total time=   0.4s\n",
      "[CV] END ...max_depth=10, max_features=0.4, n_estimators=700; total time=   0.7s\n",
      "[CV] END ...max_depth=10, max_features=0.4, n_estimators=700; total time=   0.6s\n",
      "[CV] END ...max_depth=10, max_features=0.4, n_estimators=700; total time=   0.7s\n",
      "[CV] END ...max_depth=30, max_features=0.2, n_estimators=600; total time=   0.6s\n",
      "[CV] END ...max_depth=30, max_features=0.2, n_estimators=600; total time=   0.6s\n",
      "[CV] END ...max_depth=30, max_features=0.2, n_estimators=600; total time=   0.8s\n",
      "[CV] END ...max_depth=20, max_features=0.2, n_estimators=800; total time=   0.8s\n",
      "[CV] END ...max_depth=20, max_features=0.2, n_estimators=800; total time=   0.9s\n",
      "[CV] END ...max_depth=20, max_features=0.2, n_estimators=800; total time=   1.1s\n",
      "[CV] END ..max_depth=110, max_features=0.3, n_estimators=800; total time=   1.3s\n",
      "[CV] END ..max_depth=110, max_features=0.3, n_estimators=800; total time=   1.1s\n",
      "[CV] END ..max_depth=110, max_features=0.3, n_estimators=800; total time=   0.9s\n",
      "[CV] END ...max_depth=10, max_features=0.5, n_estimators=200; total time=   0.2s\n",
      "[CV] END ...max_depth=10, max_features=0.5, n_estimators=200; total time=   0.4s\n",
      "[CV] END ...max_depth=10, max_features=0.5, n_estimators=200; total time=   0.3s\n",
      "[CV] END ...max_depth=60, max_features=0.1, n_estimators=400; total time=   0.7s\n",
      "[CV] END ...max_depth=60, max_features=0.1, n_estimators=400; total time=   0.9s\n",
      "[CV] END ...max_depth=60, max_features=0.1, n_estimators=400; total time=   0.4s\n",
      "[CV] END ...max_depth=50, max_features=0.3, n_estimators=500; total time=   0.6s\n",
      "[CV] END ...max_depth=50, max_features=0.3, n_estimators=500; total time=   0.5s\n",
      "[CV] END ...max_depth=50, max_features=0.3, n_estimators=500; total time=   0.5s\n",
      "[CV] END .max_depth=None, max_features=0.4, n_estimators=200; total time=   0.3s\n",
      "[CV] END .max_depth=None, max_features=0.4, n_estimators=200; total time=   0.4s\n",
      "[CV] END .max_depth=None, max_features=0.4, n_estimators=200; total time=   0.4s\n",
      "[CV] END ...max_depth=20, max_features=0.4, n_estimators=700; total time=   1.1s\n",
      "[CV] END ...max_depth=20, max_features=0.4, n_estimators=700; total time=   0.8s\n",
      "[CV] END ...max_depth=20, max_features=0.4, n_estimators=700; total time=   0.8s\n",
      "[CV] END ...max_depth=70, max_features=0.3, n_estimators=600; total time=   0.7s\n",
      "[CV] END ...max_depth=70, max_features=0.3, n_estimators=600; total time=   1.0s\n",
      "[CV] END ...max_depth=70, max_features=0.3, n_estimators=600; total time=   0.8s\n",
      "[CV] END ...max_depth=30, max_features=0.4, n_estimators=100; total time=   0.1s\n",
      "[CV] END ...max_depth=30, max_features=0.4, n_estimators=100; total time=   0.1s\n",
      "[CV] END ...max_depth=30, max_features=0.4, n_estimators=100; total time=   0.1s\n",
      "[CV] END .max_depth=None, max_features=0.5, n_estimators=300; total time=   0.4s\n",
      "[CV] END .max_depth=None, max_features=0.5, n_estimators=300; total time=   0.4s\n",
      "[CV] END .max_depth=None, max_features=0.5, n_estimators=300; total time=   0.4s\n",
      "[CV] END ...max_depth=90, max_features=0.5, n_estimators=700; total time=   0.8s\n",
      "[CV] END ...max_depth=90, max_features=0.5, n_estimators=700; total time=   0.8s\n",
      "[CV] END ...max_depth=90, max_features=0.5, n_estimators=700; total time=   0.9s\n",
      "[CV] END ...max_depth=90, max_features=0.1, n_estimators=200; total time=   0.2s\n",
      "[CV] END ...max_depth=90, max_features=0.1, n_estimators=200; total time=   0.4s\n",
      "[CV] END ...max_depth=90, max_features=0.1, n_estimators=200; total time=   0.3s\n",
      "[CV] END ...max_depth=80, max_features=0.3, n_estimators=600; total time=   0.8s\n",
      "[CV] END ...max_depth=80, max_features=0.3, n_estimators=600; total time=   0.8s\n",
      "[CV] END ...max_depth=80, max_features=0.3, n_estimators=600; total time=   0.9s\n",
      "[CV] END ...max_depth=10, max_features=0.1, n_estimators=100; total time=   0.2s\n",
      "[CV] END ...max_depth=10, max_features=0.1, n_estimators=100; total time=   0.1s\n",
      "[CV] END ...max_depth=10, max_features=0.1, n_estimators=100; total time=   0.2s\n",
      "[CV] END ..max_depth=100, max_features=0.4, n_estimators=800; total time=   1.2s\n",
      "[CV] END ..max_depth=100, max_features=0.4, n_estimators=800; total time=   0.9s\n",
      "[CV] END ..max_depth=100, max_features=0.4, n_estimators=800; total time=   0.8s\n",
      "[CV] END ...max_depth=10, max_features=0.2, n_estimators=400; total time=   0.5s\n",
      "[CV] END ...max_depth=10, max_features=0.2, n_estimators=400; total time=   0.7s\n",
      "[CV] END ...max_depth=10, max_features=0.2, n_estimators=400; total time=   0.6s\n",
      "[CV] END ..max_depth=100, max_features=0.3, n_estimators=500; total time=   0.7s\n",
      "[CV] END ..max_depth=100, max_features=0.3, n_estimators=500; total time=   0.7s\n",
      "[CV] END ..max_depth=100, max_features=0.3, n_estimators=500; total time=   0.6s\n",
      "[CV] END ..max_depth=110, max_features=0.4, n_estimators=700; total time=   0.8s\n",
      "[CV] END ..max_depth=110, max_features=0.4, n_estimators=700; total time=   0.9s\n",
      "[CV] END ..max_depth=110, max_features=0.4, n_estimators=700; total time=   0.8s\n",
      "[CV] END ..max_depth=100, max_features=0.3, n_estimators=200; total time=   0.2s\n",
      "[CV] END ..max_depth=100, max_features=0.3, n_estimators=200; total time=   0.2s\n",
      "[CV] END ..max_depth=100, max_features=0.3, n_estimators=200; total time=   0.3s\n",
      "[CV] END ...max_depth=30, max_features=0.5, n_estimators=600; total time=   0.9s\n",
      "[CV] END ...max_depth=30, max_features=0.5, n_estimators=600; total time=   0.8s\n",
      "[CV] END ...max_depth=30, max_features=0.5, n_estimators=600; total time=   0.9s\n",
      "[CV] END ...max_depth=80, max_features=0.3, n_estimators=700; total time=   0.8s\n",
      "[CV] END ...max_depth=80, max_features=0.3, n_estimators=700; total time=   0.8s\n",
      "[CV] END ...max_depth=80, max_features=0.3, n_estimators=700; total time=   0.9s\n",
      "[CV] END ...max_depth=50, max_features=0.2, n_estimators=600; total time=   0.7s\n",
      "[CV] END ...max_depth=50, max_features=0.2, n_estimators=600; total time=   0.8s\n",
      "[CV] END ...max_depth=50, max_features=0.2, n_estimators=600; total time=   1.0s\n",
      "[CV] END .max_depth=None, max_features=0.4, n_estimators=800; total time=   0.9s\n",
      "[CV] END .max_depth=None, max_features=0.4, n_estimators=800; total time=   0.8s\n",
      "[CV] END .max_depth=None, max_features=0.4, n_estimators=800; total time=   1.0s\n",
      "[CV] END ...max_depth=10, max_features=0.3, n_estimators=300; total time=   0.4s\n",
      "[CV] END ...max_depth=10, max_features=0.3, n_estimators=300; total time=   0.4s\n",
      "[CV] END ...max_depth=10, max_features=0.3, n_estimators=300; total time=   0.4s\n",
      "[CV] END ...max_depth=90, max_features=0.2, n_estimators=500; total time=   0.6s\n",
      "[CV] END ...max_depth=90, max_features=0.2, n_estimators=500; total time=   0.6s\n",
      "[CV] END ...max_depth=90, max_features=0.2, n_estimators=500; total time=   0.7s\n",
      "[CV] END ...max_depth=50, max_features=0.4, n_estimators=200; total time=   0.2s\n",
      "[CV] END ...max_depth=50, max_features=0.4, n_estimators=200; total time=   0.3s\n",
      "[CV] END ...max_depth=50, max_features=0.4, n_estimators=200; total time=   0.3s\n",
      "[CV] END ...max_depth=30, max_features=0.2, n_estimators=300; total time=   0.6s\n",
      "[CV] END ...max_depth=30, max_features=0.2, n_estimators=300; total time=   0.4s\n",
      "[CV] END ...max_depth=30, max_features=0.2, n_estimators=300; total time=   0.4s\n",
      "[CV] END ...max_depth=60, max_features=0.3, n_estimators=500; total time=   0.8s\n",
      "[CV] END ...max_depth=60, max_features=0.3, n_estimators=500; total time=   0.6s\n",
      "[CV] END ...max_depth=60, max_features=0.3, n_estimators=500; total time=   0.8s\n",
      "[CV] END ...max_depth=10, max_features=0.5, n_estimators=800; total time=   1.3s\n",
      "[CV] END ...max_depth=10, max_features=0.5, n_estimators=800; total time=   1.0s\n",
      "[CV] END ...max_depth=10, max_features=0.5, n_estimators=800; total time=   1.0s\n",
      "[CV] END ...max_depth=90, max_features=0.1, n_estimators=400; total time=   0.5s\n",
      "[CV] END ...max_depth=90, max_features=0.1, n_estimators=400; total time=   0.4s\n",
      "[CV] END ...max_depth=90, max_features=0.1, n_estimators=400; total time=   0.5s\n",
      "[CV] END .max_depth=None, max_features=0.3, n_estimators=400; total time=   0.4s\n",
      "[CV] END .max_depth=None, max_features=0.3, n_estimators=400; total time=   0.6s\n",
      "[CV] END .max_depth=None, max_features=0.3, n_estimators=400; total time=   0.5s\n",
      "[CV] END ...max_depth=20, max_features=0.5, n_estimators=500; total time=   0.5s\n",
      "[CV] END ...max_depth=20, max_features=0.5, n_estimators=500; total time=   0.6s\n",
      "[CV] END ...max_depth=20, max_features=0.5, n_estimators=500; total time=   0.7s\n",
      "[CV] END ...max_depth=40, max_features=0.5, n_estimators=400; total time=   0.4s\n",
      "[CV] END ...max_depth=40, max_features=0.5, n_estimators=400; total time=   0.4s\n",
      "[CV] END ...max_depth=40, max_features=0.5, n_estimators=400; total time=   0.6s\n",
      "[CV] END ...max_depth=20, max_features=0.3, n_estimators=800; total time=   1.0s\n",
      "[CV] END ...max_depth=20, max_features=0.3, n_estimators=800; total time=   0.9s\n",
      "[CV] END ...max_depth=20, max_features=0.3, n_estimators=800; total time=   0.9s\n",
      "[CV] END ..max_depth=100, max_features=0.4, n_estimators=700; total time=   0.8s\n",
      "[CV] END ..max_depth=100, max_features=0.4, n_estimators=700; total time=   1.1s\n",
      "[CV] END ..max_depth=100, max_features=0.4, n_estimators=700; total time=   1.0s\n",
      "[CV] END ...max_depth=90, max_features=0.3, n_estimators=500; total time=   0.5s\n",
      "[CV] END ...max_depth=90, max_features=0.3, n_estimators=500; total time=   0.5s\n",
      "[CV] END ...max_depth=90, max_features=0.3, n_estimators=500; total time=   0.6s\n",
      "[CV] END ..max_depth=110, max_features=0.2, n_estimators=800; total time=   0.8s\n",
      "[CV] END ..max_depth=110, max_features=0.2, n_estimators=800; total time=   1.0s\n",
      "[CV] END ..max_depth=110, max_features=0.2, n_estimators=800; total time=   0.8s\n",
      "[CV] END ..max_depth=110, max_features=0.5, n_estimators=300; total time=   0.3s\n",
      "[CV] END ..max_depth=110, max_features=0.5, n_estimators=300; total time=   0.3s\n",
      "[CV] END ..max_depth=110, max_features=0.5, n_estimators=300; total time=   0.6s\n",
      "[CV] END ...max_depth=80, max_features=0.4, n_estimators=200; total time=   0.2s\n",
      "[CV] END ...max_depth=80, max_features=0.4, n_estimators=200; total time=   0.3s\n",
      "[CV] END ...max_depth=80, max_features=0.4, n_estimators=200; total time=   0.4s\n",
      "[CV] END ...max_depth=70, max_features=0.4, n_estimators=300; total time=   0.7s\n",
      "[CV] END ...max_depth=70, max_features=0.4, n_estimators=300; total time=   0.4s\n",
      "[CV] END ...max_depth=70, max_features=0.4, n_estimators=300; total time=   0.5s\n",
      "[CV] END ...max_depth=30, max_features=0.1, n_estimators=300; total time=   0.3s\n",
      "[CV] END ...max_depth=30, max_features=0.1, n_estimators=300; total time=   0.4s\n",
      "[CV] END ...max_depth=30, max_features=0.1, n_estimators=300; total time=   0.6s\n",
      "[CV] END ...max_depth=30, max_features=0.3, n_estimators=600; total time=   0.8s\n",
      "[CV] END ...max_depth=30, max_features=0.3, n_estimators=600; total time=   0.8s\n",
      "[CV] END ...max_depth=30, max_features=0.3, n_estimators=600; total time=   0.9s\n",
      "[CV] END .max_depth=None, max_features=0.5, n_estimators=600; total time=   0.8s\n",
      "[CV] END .max_depth=None, max_features=0.5, n_estimators=600; total time=   0.8s\n",
      "[CV] END .max_depth=None, max_features=0.5, n_estimators=600; total time=   0.7s\n",
      "[CV] END ...max_depth=30, max_features=0.5, n_estimators=200; total time=   0.3s\n",
      "[CV] END ...max_depth=30, max_features=0.5, n_estimators=200; total time=   0.3s\n",
      "[CV] END ...max_depth=30, max_features=0.5, n_estimators=200; total time=   0.2s\n",
      "[CV] END .max_depth=None, max_features=0.3, n_estimators=800; total time=   1.2s\n",
      "[CV] END .max_depth=None, max_features=0.3, n_estimators=800; total time=   0.9s\n",
      "[CV] END .max_depth=None, max_features=0.3, n_estimators=800; total time=   0.9s\n",
      "[CV] END ...max_depth=70, max_features=0.2, n_estimators=600; total time=   0.9s\n",
      "[CV] END ...max_depth=70, max_features=0.2, n_estimators=600; total time=   0.9s\n",
      "[CV] END ...max_depth=70, max_features=0.2, n_estimators=600; total time=   0.8s\n",
      "[CV] END ...max_depth=20, max_features=0.5, n_estimators=700; total time=   0.8s\n",
      "[CV] END ...max_depth=20, max_features=0.5, n_estimators=700; total time=   0.7s\n",
      "[CV] END ...max_depth=20, max_features=0.5, n_estimators=700; total time=   0.9s\n",
      "[CV] END ...max_depth=40, max_features=0.3, n_estimators=200; total time=   0.2s\n",
      "[CV] END ...max_depth=40, max_features=0.3, n_estimators=200; total time=   0.2s\n",
      "[CV] END ...max_depth=40, max_features=0.3, n_estimators=200; total time=   0.3s\n",
      "[CV] END ...max_depth=60, max_features=0.5, n_estimators=300; total time=   0.7s\n",
      "[CV] END ...max_depth=60, max_features=0.5, n_estimators=300; total time=   0.4s\n",
      "[CV] END ...max_depth=60, max_features=0.5, n_estimators=300; total time=   0.3s\n",
      "[CV] END ...max_depth=80, max_features=0.4, n_estimators=100; total time=   0.2s\n",
      "[CV] END ...max_depth=80, max_features=0.4, n_estimators=100; total time=   0.2s\n",
      "[CV] END ...max_depth=80, max_features=0.4, n_estimators=100; total time=   0.1s\n",
      "[CV] END ...max_depth=90, max_features=0.1, n_estimators=300; total time=   0.3s\n",
      "[CV] END ...max_depth=90, max_features=0.1, n_estimators=300; total time=   0.3s\n",
      "[CV] END ...max_depth=90, max_features=0.1, n_estimators=300; total time=   0.8s\n",
      "[CV] END ...max_depth=20, max_features=0.4, n_estimators=500; total time=   0.7s\n",
      "[CV] END ...max_depth=20, max_features=0.4, n_estimators=500; total time=   0.7s\n",
      "[CV] END ...max_depth=20, max_features=0.4, n_estimators=500; total time=   0.6s\n",
      "[CV] END ...max_depth=20, max_features=0.5, n_estimators=100; total time=   0.1s\n",
      "[CV] END ...max_depth=20, max_features=0.5, n_estimators=100; total time=   0.1s\n",
      "[CV] END ...max_depth=20, max_features=0.5, n_estimators=100; total time=   0.2s\n",
      "[CV] END ...max_depth=60, max_features=0.3, n_estimators=300; total time=   0.4s\n",
      "[CV] END ...max_depth=60, max_features=0.3, n_estimators=300; total time=   0.4s\n",
      "[CV] END ...max_depth=60, max_features=0.3, n_estimators=300; total time=   0.4s\n",
      "[CV] END ...max_depth=80, max_features=0.4, n_estimators=700; total time=   0.9s\n",
      "[CV] END ...max_depth=80, max_features=0.4, n_estimators=700; total time=   0.9s\n",
      "[CV] END ...max_depth=80, max_features=0.4, n_estimators=700; total time=   0.9s\n",
      "[CV] END ...max_depth=20, max_features=0.5, n_estimators=800; total time=   1.2s\n",
      "[CV] END ...max_depth=20, max_features=0.5, n_estimators=800; total time=   1.3s\n",
      "[CV] END ...max_depth=20, max_features=0.5, n_estimators=800; total time=   1.1s\n",
      "[CV] END ...max_depth=60, max_features=0.2, n_estimators=100; total time=   0.2s\n",
      "[CV] END ...max_depth=60, max_features=0.2, n_estimators=100; total time=   0.2s\n",
      "[CV] END ...max_depth=60, max_features=0.2, n_estimators=100; total time=   0.2s\n",
      "[CV] END ...max_depth=40, max_features=0.4, n_estimators=500; total time=   0.8s\n",
      "[CV] END ...max_depth=40, max_features=0.4, n_estimators=500; total time=   0.6s\n",
      "[CV] END ...max_depth=40, max_features=0.4, n_estimators=500; total time=   0.7s\n",
      "[CV] END ...max_depth=40, max_features=0.5, n_estimators=300; total time=   0.7s\n",
      "[CV] END ...max_depth=40, max_features=0.5, n_estimators=300; total time=   0.8s\n",
      "[CV] END ...max_depth=40, max_features=0.5, n_estimators=300; total time=   0.7s\n",
      "[CV] END ...max_depth=50, max_features=0.2, n_estimators=800; total time=   1.2s\n",
      "[CV] END ...max_depth=50, max_features=0.2, n_estimators=800; total time=   1.2s\n",
      "[CV] END ...max_depth=50, max_features=0.2, n_estimators=800; total time=   1.4s\n",
      "[CV] END ...max_depth=70, max_features=0.2, n_estimators=200; total time=   0.3s\n",
      "[CV] END ...max_depth=70, max_features=0.2, n_estimators=200; total time=   0.4s\n",
      "[CV] END ...max_depth=70, max_features=0.2, n_estimators=200; total time=   0.3s\n",
      "[CV] END .max_depth=None, max_features=0.5, n_estimators=400; total time=   0.8s\n",
      "[CV] END .max_depth=None, max_features=0.5, n_estimators=400; total time=   0.6s\n",
      "[CV] END .max_depth=None, max_features=0.5, n_estimators=400; total time=   0.5s\n",
      "[CV] END ...max_depth=90, max_features=0.2, n_estimators=700; total time=   1.1s\n",
      "[CV] END ...max_depth=90, max_features=0.2, n_estimators=700; total time=   1.4s\n",
      "[CV] END ...max_depth=90, max_features=0.2, n_estimators=700; total time=   1.0s\n",
      "[CV] END ...max_depth=20, max_features=0.5, n_estimators=400; total time=   0.5s\n",
      "[CV] END ...max_depth=20, max_features=0.5, n_estimators=400; total time=   0.7s\n",
      "[CV] END ...max_depth=20, max_features=0.5, n_estimators=400; total time=   0.8s\n",
      "[CV] END ..max_depth=110, max_features=0.3, n_estimators=600; total time=   1.0s\n",
      "[CV] END ..max_depth=110, max_features=0.3, n_estimators=600; total time=   0.9s\n",
      "[CV] END ..max_depth=110, max_features=0.3, n_estimators=600; total time=   0.9s\n",
      "[CV] END ...max_depth=10, max_features=0.2, n_estimators=800; total time=   1.1s\n",
      "[CV] END ...max_depth=10, max_features=0.2, n_estimators=800; total time=   1.3s\n",
      "[CV] END ...max_depth=10, max_features=0.2, n_estimators=800; total time=   1.1s\n",
      "[CV] END ...max_depth=40, max_features=0.5, n_estimators=200; total time=   0.3s\n",
      "[CV] END ...max_depth=40, max_features=0.5, n_estimators=200; total time=   0.4s\n",
      "[CV] END ...max_depth=40, max_features=0.5, n_estimators=200; total time=   0.3s\n",
      "[CV] END .max_depth=None, max_features=0.4, n_estimators=100; total time=   0.3s\n",
      "[CV] END .max_depth=None, max_features=0.4, n_estimators=100; total time=   0.2s\n",
      "[CV] END .max_depth=None, max_features=0.4, n_estimators=100; total time=   0.2s\n",
      "[CV] END ...max_depth=10, max_features=0.3, n_estimators=400; total time=   0.7s\n",
      "[CV] END ...max_depth=10, max_features=0.3, n_estimators=400; total time=   0.6s\n",
      "[CV] END ...max_depth=10, max_features=0.3, n_estimators=400; total time=   0.4s\n",
      "[CV] END ...max_depth=80, max_features=0.4, n_estimators=800; total time=   0.8s\n",
      "[CV] END ...max_depth=80, max_features=0.4, n_estimators=800; total time=   0.9s\n",
      "[CV] END ...max_depth=80, max_features=0.4, n_estimators=800; total time=   1.0s\n",
      "[CV] END ...max_depth=90, max_features=0.1, n_estimators=100; total time=   0.1s\n",
      "[CV] END ...max_depth=90, max_features=0.1, n_estimators=100; total time=   0.1s\n",
      "[CV] END ...max_depth=90, max_features=0.1, n_estimators=100; total time=   0.1s\n",
      "[CV] END ...max_depth=20, max_features=0.3, n_estimators=100; total time=   0.1s\n",
      "[CV] END ...max_depth=20, max_features=0.3, n_estimators=100; total time=   0.1s\n",
      "[CV] END ...max_depth=20, max_features=0.3, n_estimators=100; total time=   0.1s\n",
      "[CV] END ...max_depth=90, max_features=0.4, n_estimators=600; total time=   0.9s\n",
      "[CV] END ...max_depth=90, max_features=0.4, n_estimators=600; total time=   0.9s\n",
      "[CV] END ...max_depth=90, max_features=0.4, n_estimators=600; total time=   0.9s\n",
      "[CV] END ...max_depth=60, max_features=0.2, n_estimators=400; total time=   0.7s\n",
      "[CV] END ...max_depth=60, max_features=0.2, n_estimators=400; total time=   0.5s\n",
      "[CV] END ...max_depth=60, max_features=0.2, n_estimators=400; total time=   0.5s\n",
      "[CV] END ..max_depth=110, max_features=0.5, n_estimators=100; total time=   0.2s\n",
      "[CV] END ..max_depth=110, max_features=0.5, n_estimators=100; total time=   0.3s\n",
      "[CV] END ..max_depth=110, max_features=0.5, n_estimators=100; total time=   0.2s\n",
      "[CV] END ...max_depth=60, max_features=0.3, n_estimators=700; total time=   1.2s\n",
      "[CV] END ...max_depth=60, max_features=0.3, n_estimators=700; total time=   1.0s\n",
      "[CV] END ...max_depth=60, max_features=0.3, n_estimators=700; total time=   1.0s\n",
      "[CV] END ...max_depth=60, max_features=0.5, n_estimators=600; total time=   1.1s\n",
      "[CV] END ...max_depth=60, max_features=0.5, n_estimators=600; total time=   1.0s\n",
      "[CV] END ...max_depth=60, max_features=0.5, n_estimators=600; total time=   1.3s\n",
      "[CV] END ..max_depth=110, max_features=0.2, n_estimators=100; total time=   0.1s\n",
      "[CV] END ..max_depth=110, max_features=0.2, n_estimators=100; total time=   0.2s\n",
      "[CV] END ..max_depth=110, max_features=0.2, n_estimators=100; total time=   0.3s\n",
      "[CV] END ...max_depth=10, max_features=0.4, n_estimators=200; total time=   0.4s\n",
      "[CV] END ...max_depth=10, max_features=0.4, n_estimators=200; total time=   0.3s\n",
      "[CV] END ...max_depth=10, max_features=0.4, n_estimators=200; total time=   0.4s\n",
      "[CV] END ..max_depth=110, max_features=0.3, n_estimators=400; total time=   0.7s\n",
      "[CV] END ..max_depth=110, max_features=0.3, n_estimators=400; total time=   0.6s\n",
      "[CV] END ..max_depth=110, max_features=0.3, n_estimators=400; total time=   0.6s\n",
      "[CV] END ...max_depth=40, max_features=0.2, n_estimators=500; total time=   0.4s\n",
      "[CV] END ...max_depth=40, max_features=0.2, n_estimators=500; total time=   0.6s\n",
      "[CV] END ...max_depth=40, max_features=0.2, n_estimators=500; total time=   0.6s\n",
      "[CV] END ...max_depth=60, max_features=0.4, n_estimators=500; total time=   0.6s\n",
      "[CV] END ...max_depth=60, max_features=0.4, n_estimators=500; total time=   0.5s\n",
      "[CV] END ...max_depth=60, max_features=0.4, n_estimators=500; total time=   0.6s\n",
      "[CV] END .max_depth=None, max_features=0.5, n_estimators=200; total time=   0.2s\n",
      "[CV] END .max_depth=None, max_features=0.5, n_estimators=200; total time=   0.3s\n",
      "[CV] END .max_depth=None, max_features=0.5, n_estimators=200; total time=   0.4s\n",
      "[CV] END ...max_depth=20, max_features=0.1, n_estimators=300; total time=   0.4s\n",
      "[CV] END ...max_depth=20, max_features=0.1, n_estimators=300; total time=   0.6s\n",
      "[CV] END ...max_depth=20, max_features=0.1, n_estimators=300; total time=   0.4s\n"
     ]
    },
    {
     "data": {
      "text/plain": "{'n_estimators': 800, 'max_features': 0.5, 'max_depth': 100}"
     },
     "execution_count": 23,
     "metadata": {},
     "output_type": "execute_result"
    }
   ],
   "source": [
    "rf = RandomForestRegressor(random_state=0, n_jobs=-1)\n",
    "\n",
    "rf_random = RandomizedSearchCV(\n",
    "    estimator=rf,\n",
    "    param_distributions=hyper_params,\n",
    "    n_iter=100,\n",
    "    scoring=\"neg_mean_absolute_error\",\n",
    "    cv=3,\n",
    "    verbose=2,\n",
    "    random_state=42,\n",
    "    return_train_score=True,\n",
    ")\n",
    "\n",
    "rf_random.fit(X_train, y_train)\n",
    "rf_random.best_params_"
   ]
  },
  {
   "cell_type": "code",
   "execution_count": 24,
   "id": "42c09ef4",
   "metadata": {
    "scrolled": false
   },
   "outputs": [
    {
     "name": "stdout",
     "output_type": "stream",
     "text": [
      "RMSE train: 0.17\n",
      "RMSE test: 0.67\n",
      "MSE test: 0.45\n",
      "\n"
     ]
    },
    {
     "data": {
      "text/plain": "(0.6728410584211254, 0.45271508989726034)"
     },
     "execution_count": 24,
     "metadata": {},
     "output_type": "execute_result"
    }
   ],
   "source": [
    "assess_regression_model(rf_random, X_train, X_test, y_train, y_test)"
   ]
  },
  {
   "cell_type": "markdown",
   "id": "f190bfb5",
   "metadata": {},
   "source": [
    "### Attempt to decrease overfitting\n",
    "Change max_depth to 7"
   ]
  },
  {
   "cell_type": "code",
   "execution_count": 25,
   "id": "da0a9e9d",
   "metadata": {},
   "outputs": [
    {
     "name": "stdout",
     "output_type": "stream",
     "text": [
      "RMSE train: 0.30\n",
      "RMSE test: 0.69\n",
      "MSE test: 0.48\n",
      "\n"
     ]
    },
    {
     "data": {
      "text/plain": "(0.6919592980359309, 0.47880767013837827)"
     },
     "execution_count": 25,
     "metadata": {},
     "output_type": "execute_result"
    }
   ],
   "source": [
    "rf = RandomForestRegressor(\n",
    "    random_state=0, n_jobs=-1, n_estimators=100, max_features=0.5, max_depth=7\n",
    ")\n",
    "rf.fit(X_train, y_train)\n",
    "assess_regression_model(rf, X_train, X_test, y_train, y_test)"
   ]
  },
  {
   "cell_type": "markdown",
   "id": "7964aa83",
   "metadata": {},
   "source": [
    "Overfitting decreased."
   ]
  },
  {
   "cell_type": "markdown",
   "id": "3fa43ad3",
   "metadata": {},
   "source": [
    "Check rounded predictions"
   ]
  },
  {
   "cell_type": "code",
   "execution_count": 26,
   "id": "f862620d",
   "metadata": {},
   "outputs": [
    {
     "name": "stdout",
     "output_type": "stream",
     "text": [
      "Normal:\n",
      "MSE: 0.48\n",
      "RMSE: 0.69\n",
      "\n",
      "Round type: round\n",
      "MSE: 0.50\n",
      "RMSE: 0.71\n",
      "\n",
      "Round type: 0.33\n",
      "MSE: 0.46\n",
      "RMSE: 0.68\n",
      "\n",
      "Round type: 0.45\n",
      "MSE: 0.51\n",
      "RMSE: 0.71\n",
      "\n"
     ]
    }
   ],
   "source": [
    "from copy import deepcopy\n",
    "\n",
    "predict = rf.predict(X_test)\n",
    "\n",
    "check_round_predictions([\"round\", 0.33, 0.45], y_test, predict)"
   ]
  },
  {
   "cell_type": "code",
   "execution_count": 27,
   "id": "151feb02",
   "metadata": {
    "scrolled": false
   },
   "outputs": [
    {
     "data": {
      "text/plain": "<Figure size 640x480 with 2 Axes>",
      "image/png": "[encoded data removed]"
     },
     "metadata": {},
     "output_type": "display_data"
    }
   ],
   "source": [
    "plot_confusion_matrix(\"round\", predict, y_test)"
   ]
  },
  {
   "cell_type": "code",
   "execution_count": 28,
   "outputs": [
    {
     "data": {
      "text/plain": "<Figure size 640x480 with 2 Axes>",
      "image/png": "[encoded data removed]"
     },
     "metadata": {},
     "output_type": "display_data"
    }
   ],
   "source": [
    "round_predict_33 = np.where(\n",
    "    (predict % 1) > 0.33, np.ceil(predict), np.floor(predict)\n",
    ").astype(\"int\")\n",
    "\n",
    "plot_confusion_matrix(\"round\", round_predict_33, y_test)"
   ],
   "metadata": {
    "collapsed": false
   }
  },
  {
   "cell_type": "markdown",
   "id": "11e6a067",
   "metadata": {},
   "source": [
    "The best results for threshold = 0.33"
   ]
  },
  {
   "cell_type": "markdown",
   "id": "3f730b3a",
   "metadata": {},
   "source": [
    "## Random split"
   ]
  },
  {
   "cell_type": "code",
   "execution_count": 29,
   "outputs": [
    {
     "data": {
      "text/plain": "RandomForestRegressor(max_depth=2, n_estimators=500, n_jobs=-1, random_state=0)",
      "text/html": "<style>#sk-container-id-2 {color: black;background-color: white;}#sk-container-id-2 pre{padding: 0;}#sk-container-id-2 div.sk-toggleable {background-color: white;}#sk-container-id-2 label.sk-toggleable__label {cursor: pointer;display: block;width: 100%;margin-bottom: 0;padding: 0.3em;box-sizing: border-box;text-align: center;}#sk-container-id-2 label.sk-toggleable__label-arrow:before {content: \"▸\";float: left;margin-right: 0.25em;color: #696969;}#sk-container-id-2 label.sk-toggleable__label-arrow:hover:before {color: black;}#sk-container-id-2 div.sk-estimator:hover label.sk-toggleable__label-arrow:before {color: black;}#sk-container-id-2 div.sk-toggleable__content {max-height: 0;max-width: 0;overflow: hidden;text-align: left;background-color: #f0f8ff;}#sk-container-id-2 div.sk-toggleable__content pre {margin: 0.2em;color: black;border-radius: 0.25em;background-color: #f0f8ff;}#sk-container-id-2 input.sk-toggleable__control:checked~div.sk-toggleable__content {max-height: 200px;max-width: 100%;overflow: auto;}#sk-container-id-2 input.sk-toggleable__control:checked~label.sk-toggleable__label-arrow:before {content: \"▾\";}#sk-container-id-2 div.sk-estimator input.sk-toggleable__control:checked~label.sk-toggleable__label {background-color: #d4ebff;}#sk-container-id-2 div.sk-label input.sk-toggleable__control:checked~label.sk-toggleable__label {background-color: #d4ebff;}#sk-container-id-2 input.sk-hidden--visually {border: 0;clip: rect(1px 1px 1px 1px);clip: rect(1px, 1px, 1px, 1px);height: 1px;margin: -1px;overflow: hidden;padding: 0;position: absolute;width: 1px;}#sk-container-id-2 div.sk-estimator {font-family: monospace;background-color: #f0f8ff;border: 1px dotted black;border-radius: 0.25em;box-sizing: border-box;margin-bottom: 0.5em;}#sk-container-id-2 div.sk-estimator:hover {background-color: #d4ebff;}#sk-container-id-2 div.sk-parallel-item::after {content: \"\";width: 100%;border-bottom: 1px solid gray;flex-grow: 1;}#sk-container-id-2 div.sk-label:hover label.sk-toggleable__label {background-color: #d4ebff;}#sk-container-id-2 div.sk-serial::before {content: \"\";position: absolute;border-left: 1px solid gray;box-sizing: border-box;top: 0;bottom: 0;left: 50%;z-index: 0;}#sk-container-id-2 div.sk-serial {display: flex;flex-direction: column;align-items: center;background-color: white;padding-right: 0.2em;padding-left: 0.2em;position: relative;}#sk-container-id-2 div.sk-item {position: relative;z-index: 1;}#sk-container-id-2 div.sk-parallel {display: flex;align-items: stretch;justify-content: center;background-color: white;position: relative;}#sk-container-id-2 div.sk-item::before, #sk-container-id-2 div.sk-parallel-item::before {content: \"\";position: absolute;border-left: 1px solid gray;box-sizing: border-box;top: 0;bottom: 0;left: 50%;z-index: -1;}#sk-container-id-2 div.sk-parallel-item {display: flex;flex-direction: column;z-index: 1;position: relative;background-color: white;}#sk-container-id-2 div.sk-parallel-item:first-child::after {align-self: flex-end;width: 50%;}#sk-container-id-2 div.sk-parallel-item:last-child::after {align-self: flex-start;width: 50%;}#sk-container-id-2 div.sk-parallel-item:only-child::after {width: 0;}#sk-container-id-2 div.sk-dashed-wrapped {border: 1px dashed gray;margin: 0 0.4em 0.5em 0.4em;box-sizing: border-box;padding-bottom: 0.4em;background-color: white;}#sk-container-id-2 div.sk-label label {font-family: monospace;font-weight: bold;display: inline-block;line-height: 1.2em;}#sk-container-id-2 div.sk-label-container {text-align: center;}#sk-container-id-2 div.sk-container {/* jupyter's `normalize.less` sets `[hidden] { display: none; }` but bootstrap.min.css set `[hidden] { display: none !important; }` so we also need the `!important` here to be able to override the default hidden behavior on the sphinx rendered scikit-learn.org. See: https://github.com/scikit-learn/scikit-learn/issues/21755 */display: inline-block !important;position: relative;}#sk-container-id-2 div.sk-text-repr-fallback {display: none;}</style><div id=\"sk-container-id-2\" class=\"sk-top-container\"><div class=\"sk-text-repr-fallback\"><pre>RandomForestRegressor(max_depth=2, n_estimators=500, n_jobs=-1, random_state=0)</pre><b>In a Jupyter environment, please rerun this cell to show the HTML representation or trust the notebook. <br />On GitHub, the HTML representation is unable to render, please try loading this page with nbviewer.org.</b></div><div class=\"sk-container\" hidden><div class=\"sk-item\"><div class=\"sk-estimator sk-toggleable\"><input class=\"sk-toggleable__control sk-hidden--visually\" id=\"sk-estimator-id-2\" type=\"checkbox\" checked><label for=\"sk-estimator-id-2\" class=\"sk-toggleable__label sk-toggleable__label-arrow\">RandomForestRegressor</label><div class=\"sk-toggleable__content\"><pre>RandomForestRegressor(max_depth=2, n_estimators=500, n_jobs=-1, random_state=0)</pre></div></div></div></div></div>"
     },
     "execution_count": 29,
     "metadata": {},
     "output_type": "execute_result"
    }
   ],
   "source": [
    "from sklearn.ensemble import RandomForestRegressor\n",
    "\n",
    "rf_reg = RandomForestRegressor(n_estimators=500, max_depth=2, random_state=0, n_jobs=-1)\n",
    "rf_reg.fit(X_train_random_split, y_train_random_split)"
   ],
   "metadata": {
    "collapsed": false
   }
  },
  {
   "cell_type": "code",
   "execution_count": 30,
   "outputs": [],
   "source": [
    "y_pred_train = rf_reg.predict(X_train_random_split)\n",
    "y_pred_test = rf_reg.predict(X_test_random_split)"
   ],
   "metadata": {
    "collapsed": false
   }
  },
  {
   "cell_type": "code",
   "execution_count": 31,
   "outputs": [
    {
     "name": "stdout",
     "output_type": "stream",
     "text": [
      "MSE: 1.67\n",
      "RMSE: 1.29\n"
     ]
    }
   ],
   "source": [
    "mse = mean_squared_error(y_test_random_split, y_pred_test)\n",
    "rmse = mean_squared_error(y_test_random_split, y_pred_test, squared=False)\n",
    "\n",
    "print(f\"MSE: {mse:.2f}\")\n",
    "print(f\"RMSE: {rmse:.2f}\")"
   ],
   "metadata": {
    "collapsed": false
   }
  },
  {
   "cell_type": "code",
   "execution_count": 32,
   "outputs": [
    {
     "name": "stdout",
     "output_type": "stream",
     "text": [
      "Normal:\n",
      "MSE: 1.67\n",
      "RMSE: 1.29\n",
      "\n",
      "Round type: round\n",
      "MSE: 1.81\n",
      "RMSE: 1.35\n",
      "\n",
      "Round type: 0.33\n",
      "MSE: 1.82\n",
      "RMSE: 1.35\n",
      "\n",
      "Round type: 0.45\n",
      "MSE: 1.82\n",
      "RMSE: 1.35\n",
      "\n"
     ]
    }
   ],
   "source": [
    "check_round_predictions([\"round\", 0.33, 0.45], y_test_random_split, y_pred_test)"
   ],
   "metadata": {
    "collapsed": false
   }
  },
  {
   "cell_type": "code",
   "execution_count": 33,
   "outputs": [
    {
     "data": {
      "text/plain": "<Figure size 640x480 with 2 Axes>",
      "image/png": "[encoded data removed]"
     },
     "metadata": {},
     "output_type": "display_data"
    }
   ],
   "source": [
    "plot_confusion_matrix(\"round\", y_pred_test, y_test_random_split)"
   ],
   "metadata": {
    "collapsed": false
   }
  },
  {
   "cell_type": "markdown",
   "id": "2ec4e6c3",
   "metadata": {},
   "source": [
    "### Tuning"
   ]
  },
  {
   "cell_type": "code",
   "execution_count": 34,
   "id": "f4d0a519",
   "metadata": {},
   "outputs": [
    {
     "name": "stdout",
     "output_type": "stream",
     "text": [
      "{'n_estimators': [100, 200, 300, 400, 500, 600, 700, 800], 'max_features': [0.1, 0.2, 0.3, 0.4, 0.5], 'max_depth': [10, 20, 30, 40, 50, 60, 70, 80, 90, 100, 110, None]}\n"
     ]
    }
   ],
   "source": [
    "n_estimators = [int(x) for x in np.linspace(start=100, stop=800, num=8)]\n",
    "max_features = [0.1, 0.2, 0.3, 0.4, 0.5]\n",
    "max_depth = list(range(10, 111, 10)) + [None]\n",
    "\n",
    "hyper_params = {\n",
    "    \"n_estimators\": n_estimators,\n",
    "    \"max_features\": max_features,\n",
    "    \"max_depth\": max_depth,\n",
    "}\n",
    "\n",
    "print(hyper_params)"
   ]
  },
  {
   "cell_type": "code",
   "execution_count": 35,
   "id": "b3e92196",
   "metadata": {},
   "outputs": [
    {
     "name": "stdout",
     "output_type": "stream",
     "text": [
      "Fitting 3 folds for each of 100 candidates, totalling 300 fits\n",
      "[CV] END ...max_depth=20, max_features=0.5, n_estimators=200; total time=   0.3s\n",
      "[CV] END ...max_depth=20, max_features=0.5, n_estimators=200; total time=   0.4s\n",
      "[CV] END ...max_depth=20, max_features=0.5, n_estimators=200; total time=   0.3s\n",
      "[CV] END ..max_depth=110, max_features=0.2, n_estimators=700; total time=   1.3s\n",
      "[CV] END ..max_depth=110, max_features=0.2, n_estimators=700; total time=   0.9s\n",
      "[CV] END ..max_depth=110, max_features=0.2, n_estimators=700; total time=   1.1s\n",
      "[CV] END ..max_depth=100, max_features=0.5, n_estimators=300; total time=   0.3s\n",
      "[CV] END ..max_depth=100, max_features=0.5, n_estimators=300; total time=   0.5s\n",
      "[CV] END ..max_depth=100, max_features=0.5, n_estimators=300; total time=   0.4s\n",
      "[CV] END ...max_depth=70, max_features=0.5, n_estimators=600; total time=   1.1s\n",
      "[CV] END ...max_depth=70, max_features=0.5, n_estimators=600; total time=   0.8s\n",
      "[CV] END ...max_depth=70, max_features=0.5, n_estimators=600; total time=   0.9s\n",
      "[CV] END ..max_depth=100, max_features=0.5, n_estimators=800; total time=   0.9s\n",
      "[CV] END ..max_depth=100, max_features=0.5, n_estimators=800; total time=   0.9s\n",
      "[CV] END ..max_depth=100, max_features=0.5, n_estimators=800; total time=   1.2s\n",
      "[CV] END ...max_depth=50, max_features=0.2, n_estimators=500; total time=   0.6s\n",
      "[CV] END ...max_depth=50, max_features=0.2, n_estimators=500; total time=   0.8s\n",
      "[CV] END ...max_depth=50, max_features=0.2, n_estimators=500; total time=   0.6s\n",
      "[CV] END ...max_depth=70, max_features=0.4, n_estimators=500; total time=   0.6s\n",
      "[CV] END ...max_depth=70, max_features=0.4, n_estimators=500; total time=   0.6s\n",
      "[CV] END ...max_depth=70, max_features=0.4, n_estimators=500; total time=   0.6s\n",
      "[CV] END ..max_depth=100, max_features=0.2, n_estimators=800; total time=   0.8s\n",
      "[CV] END ..max_depth=100, max_features=0.2, n_estimators=800; total time=   1.1s\n",
      "[CV] END ..max_depth=100, max_features=0.2, n_estimators=800; total time=   0.8s\n",
      "[CV] END ...max_depth=20, max_features=0.5, n_estimators=600; total time=   0.7s\n",
      "[CV] END ...max_depth=20, max_features=0.5, n_estimators=600; total time=   0.7s\n",
      "[CV] END ...max_depth=20, max_features=0.5, n_estimators=600; total time=   0.7s\n",
      "[CV] END .max_depth=None, max_features=0.1, n_estimators=300; total time=   0.3s\n",
      "[CV] END .max_depth=None, max_features=0.1, n_estimators=300; total time=   0.7s\n",
      "[CV] END .max_depth=None, max_features=0.1, n_estimators=300; total time=   0.6s\n",
      "[CV] END ...max_depth=10, max_features=0.2, n_estimators=200; total time=   0.2s\n",
      "[CV] END ...max_depth=10, max_features=0.2, n_estimators=200; total time=   0.2s\n",
      "[CV] END ...max_depth=10, max_features=0.2, n_estimators=200; total time=   0.2s\n",
      "[CV] END ...max_depth=80, max_features=0.1, n_estimators=200; total time=   0.3s\n",
      "[CV] END ...max_depth=80, max_features=0.1, n_estimators=200; total time=   0.2s\n",
      "[CV] END ...max_depth=80, max_features=0.1, n_estimators=200; total time=   0.3s\n",
      "[CV] END ..max_depth=110, max_features=0.5, n_estimators=200; total time=   0.3s\n",
      "[CV] END ..max_depth=110, max_features=0.5, n_estimators=200; total time=   0.4s\n",
      "[CV] END ..max_depth=110, max_features=0.5, n_estimators=200; total time=   0.3s\n",
      "[CV] END ...max_depth=80, max_features=0.3, n_estimators=300; total time=   0.7s\n",
      "[CV] END ...max_depth=80, max_features=0.3, n_estimators=300; total time=   0.5s\n",
      "[CV] END ...max_depth=80, max_features=0.3, n_estimators=300; total time=   0.3s\n",
      "[CV] END ...max_depth=10, max_features=0.4, n_estimators=700; total time=   0.9s\n",
      "[CV] END ...max_depth=10, max_features=0.4, n_estimators=700; total time=   0.8s\n",
      "[CV] END ...max_depth=10, max_features=0.4, n_estimators=700; total time=   0.8s\n",
      "[CV] END ...max_depth=30, max_features=0.2, n_estimators=600; total time=   0.9s\n",
      "[CV] END ...max_depth=30, max_features=0.2, n_estimators=600; total time=   0.9s\n",
      "[CV] END ...max_depth=30, max_features=0.2, n_estimators=600; total time=   0.9s\n",
      "[CV] END ...max_depth=20, max_features=0.2, n_estimators=800; total time=   1.2s\n",
      "[CV] END ...max_depth=20, max_features=0.2, n_estimators=800; total time=   1.0s\n",
      "[CV] END ...max_depth=20, max_features=0.2, n_estimators=800; total time=   1.4s\n",
      "[CV] END ..max_depth=110, max_features=0.3, n_estimators=800; total time=   1.3s\n",
      "[CV] END ..max_depth=110, max_features=0.3, n_estimators=800; total time=   1.2s\n",
      "[CV] END ..max_depth=110, max_features=0.3, n_estimators=800; total time=   1.2s\n",
      "[CV] END ...max_depth=10, max_features=0.5, n_estimators=200; total time=   0.3s\n",
      "[CV] END ...max_depth=10, max_features=0.5, n_estimators=200; total time=   0.3s\n",
      "[CV] END ...max_depth=10, max_features=0.5, n_estimators=200; total time=   0.4s\n",
      "[CV] END ...max_depth=60, max_features=0.1, n_estimators=400; total time=   0.6s\n",
      "[CV] END ...max_depth=60, max_features=0.1, n_estimators=400; total time=   0.8s\n",
      "[CV] END ...max_depth=60, max_features=0.1, n_estimators=400; total time=   0.5s\n",
      "[CV] END ...max_depth=50, max_features=0.3, n_estimators=500; total time=   0.7s\n",
      "[CV] END ...max_depth=50, max_features=0.3, n_estimators=500; total time=   0.9s\n",
      "[CV] END ...max_depth=50, max_features=0.3, n_estimators=500; total time=   0.9s\n",
      "[CV] END .max_depth=None, max_features=0.4, n_estimators=200; total time=   0.4s\n",
      "[CV] END .max_depth=None, max_features=0.4, n_estimators=200; total time=   0.3s\n",
      "[CV] END .max_depth=None, max_features=0.4, n_estimators=200; total time=   0.4s\n",
      "[CV] END ...max_depth=20, max_features=0.4, n_estimators=700; total time=   1.0s\n",
      "[CV] END ...max_depth=20, max_features=0.4, n_estimators=700; total time=   1.0s\n",
      "[CV] END ...max_depth=20, max_features=0.4, n_estimators=700; total time=   1.4s\n",
      "[CV] END ...max_depth=70, max_features=0.3, n_estimators=600; total time=   0.9s\n",
      "[CV] END ...max_depth=70, max_features=0.3, n_estimators=600; total time=   1.1s\n",
      "[CV] END ...max_depth=70, max_features=0.3, n_estimators=600; total time=   1.1s\n",
      "[CV] END ...max_depth=30, max_features=0.4, n_estimators=100; total time=   0.1s\n",
      "[CV] END ...max_depth=30, max_features=0.4, n_estimators=100; total time=   0.2s\n",
      "[CV] END ...max_depth=30, max_features=0.4, n_estimators=100; total time=   0.2s\n",
      "[CV] END .max_depth=None, max_features=0.5, n_estimators=300; total time=   0.6s\n",
      "[CV] END .max_depth=None, max_features=0.5, n_estimators=300; total time=   0.7s\n",
      "[CV] END .max_depth=None, max_features=0.5, n_estimators=300; total time=   0.6s\n",
      "[CV] END ...max_depth=90, max_features=0.5, n_estimators=700; total time=   1.0s\n",
      "[CV] END ...max_depth=90, max_features=0.5, n_estimators=700; total time=   1.0s\n",
      "[CV] END ...max_depth=90, max_features=0.5, n_estimators=700; total time=   1.2s\n",
      "[CV] END ...max_depth=90, max_features=0.1, n_estimators=200; total time=   0.2s\n",
      "[CV] END ...max_depth=90, max_features=0.1, n_estimators=200; total time=   0.5s\n",
      "[CV] END ...max_depth=90, max_features=0.1, n_estimators=200; total time=   0.3s\n",
      "[CV] END ...max_depth=80, max_features=0.3, n_estimators=600; total time=   1.4s\n",
      "[CV] END ...max_depth=80, max_features=0.3, n_estimators=600; total time=   1.0s\n",
      "[CV] END ...max_depth=80, max_features=0.3, n_estimators=600; total time=   1.1s\n",
      "[CV] END ...max_depth=10, max_features=0.1, n_estimators=100; total time=   0.2s\n",
      "[CV] END ...max_depth=10, max_features=0.1, n_estimators=100; total time=   0.2s\n",
      "[CV] END ...max_depth=10, max_features=0.1, n_estimators=100; total time=   0.3s\n",
      "[CV] END ..max_depth=100, max_features=0.4, n_estimators=800; total time=   1.2s\n",
      "[CV] END ..max_depth=100, max_features=0.4, n_estimators=800; total time=   1.1s\n",
      "[CV] END ..max_depth=100, max_features=0.4, n_estimators=800; total time=   1.5s\n",
      "[CV] END ...max_depth=10, max_features=0.2, n_estimators=400; total time=   0.6s\n",
      "[CV] END ...max_depth=10, max_features=0.2, n_estimators=400; total time=   0.7s\n",
      "[CV] END ...max_depth=10, max_features=0.2, n_estimators=400; total time=   0.6s\n",
      "[CV] END ..max_depth=100, max_features=0.3, n_estimators=500; total time=   0.7s\n",
      "[CV] END ..max_depth=100, max_features=0.3, n_estimators=500; total time=   0.9s\n",
      "[CV] END ..max_depth=100, max_features=0.3, n_estimators=500; total time=   0.7s\n",
      "[CV] END ..max_depth=110, max_features=0.4, n_estimators=700; total time=   1.2s\n",
      "[CV] END ..max_depth=110, max_features=0.4, n_estimators=700; total time=   1.0s\n",
      "[CV] END ..max_depth=110, max_features=0.4, n_estimators=700; total time=   1.0s\n",
      "[CV] END ..max_depth=100, max_features=0.3, n_estimators=200; total time=   0.3s\n",
      "[CV] END ..max_depth=100, max_features=0.3, n_estimators=200; total time=   0.4s\n",
      "[CV] END ..max_depth=100, max_features=0.3, n_estimators=200; total time=   0.3s\n",
      "[CV] END ...max_depth=30, max_features=0.5, n_estimators=600; total time=   1.1s\n",
      "[CV] END ...max_depth=30, max_features=0.5, n_estimators=600; total time=   1.1s\n",
      "[CV] END ...max_depth=30, max_features=0.5, n_estimators=600; total time=   1.0s\n",
      "[CV] END ...max_depth=80, max_features=0.3, n_estimators=700; total time=   1.2s\n",
      "[CV] END ...max_depth=80, max_features=0.3, n_estimators=700; total time=   1.0s\n",
      "[CV] END ...max_depth=80, max_features=0.3, n_estimators=700; total time=   1.1s\n",
      "[CV] END ...max_depth=50, max_features=0.2, n_estimators=600; total time=   1.0s\n",
      "[CV] END ...max_depth=50, max_features=0.2, n_estimators=600; total time=   1.3s\n",
      "[CV] END ...max_depth=50, max_features=0.2, n_estimators=600; total time=   1.0s\n",
      "[CV] END .max_depth=None, max_features=0.4, n_estimators=800; total time=   1.1s\n",
      "[CV] END .max_depth=None, max_features=0.4, n_estimators=800; total time=   1.1s\n",
      "[CV] END .max_depth=None, max_features=0.4, n_estimators=800; total time=   1.3s\n",
      "[CV] END ...max_depth=10, max_features=0.3, n_estimators=300; total time=   0.3s\n",
      "[CV] END ...max_depth=10, max_features=0.3, n_estimators=300; total time=   0.7s\n",
      "[CV] END ...max_depth=10, max_features=0.3, n_estimators=300; total time=   0.5s\n",
      "[CV] END ...max_depth=90, max_features=0.2, n_estimators=500; total time=   0.6s\n",
      "[CV] END ...max_depth=90, max_features=0.2, n_estimators=500; total time=   0.5s\n",
      "[CV] END ...max_depth=90, max_features=0.2, n_estimators=500; total time=   0.7s\n",
      "[CV] END ...max_depth=50, max_features=0.4, n_estimators=200; total time=   0.2s\n",
      "[CV] END ...max_depth=50, max_features=0.4, n_estimators=200; total time=   0.4s\n",
      "[CV] END ...max_depth=50, max_features=0.4, n_estimators=200; total time=   0.4s\n",
      "[CV] END ...max_depth=30, max_features=0.2, n_estimators=300; total time=   0.5s\n",
      "[CV] END ...max_depth=30, max_features=0.2, n_estimators=300; total time=   0.4s\n",
      "[CV] END ...max_depth=30, max_features=0.2, n_estimators=300; total time=   1.1s\n",
      "[CV] END ...max_depth=60, max_features=0.3, n_estimators=500; total time=   1.6s\n",
      "[CV] END ...max_depth=60, max_features=0.3, n_estimators=500; total time=   1.4s\n",
      "[CV] END ...max_depth=60, max_features=0.3, n_estimators=500; total time=   1.1s\n",
      "[CV] END ...max_depth=10, max_features=0.5, n_estimators=800; total time=   1.6s\n",
      "[CV] END ...max_depth=10, max_features=0.5, n_estimators=800; total time=   1.7s\n",
      "[CV] END ...max_depth=10, max_features=0.5, n_estimators=800; total time=   1.6s\n",
      "[CV] END ...max_depth=90, max_features=0.1, n_estimators=400; total time=   1.0s\n",
      "[CV] END ...max_depth=90, max_features=0.1, n_estimators=400; total time=   1.2s\n",
      "[CV] END ...max_depth=90, max_features=0.1, n_estimators=400; total time=   1.3s\n",
      "[CV] END .max_depth=None, max_features=0.3, n_estimators=400; total time=   1.0s\n",
      "[CV] END .max_depth=None, max_features=0.3, n_estimators=400; total time=   1.1s\n",
      "[CV] END .max_depth=None, max_features=0.3, n_estimators=400; total time=   1.2s\n",
      "[CV] END ...max_depth=20, max_features=0.5, n_estimators=500; total time=   1.1s\n",
      "[CV] END ...max_depth=20, max_features=0.5, n_estimators=500; total time=   1.1s\n",
      "[CV] END ...max_depth=20, max_features=0.5, n_estimators=500; total time=   1.2s\n",
      "[CV] END ...max_depth=40, max_features=0.5, n_estimators=400; total time=   1.1s\n",
      "[CV] END ...max_depth=40, max_features=0.5, n_estimators=400; total time=   1.1s\n",
      "[CV] END ...max_depth=40, max_features=0.5, n_estimators=400; total time=   1.0s\n",
      "[CV] END ...max_depth=20, max_features=0.3, n_estimators=800; total time=   1.7s\n",
      "[CV] END ...max_depth=20, max_features=0.3, n_estimators=800; total time=   2.0s\n",
      "[CV] END ...max_depth=20, max_features=0.3, n_estimators=800; total time=   1.8s\n",
      "[CV] END ..max_depth=100, max_features=0.4, n_estimators=700; total time=   1.6s\n",
      "[CV] END ..max_depth=100, max_features=0.4, n_estimators=700; total time=   1.6s\n",
      "[CV] END ..max_depth=100, max_features=0.4, n_estimators=700; total time=   2.3s\n",
      "[CV] END ...max_depth=90, max_features=0.3, n_estimators=500; total time=   1.2s\n",
      "[CV] END ...max_depth=90, max_features=0.3, n_estimators=500; total time=   1.3s\n",
      "[CV] END ...max_depth=90, max_features=0.3, n_estimators=500; total time=   1.2s\n",
      "[CV] END ..max_depth=110, max_features=0.2, n_estimators=800; total time=   2.0s\n",
      "[CV] END ..max_depth=110, max_features=0.2, n_estimators=800; total time=   1.7s\n",
      "[CV] END ..max_depth=110, max_features=0.2, n_estimators=800; total time=   2.1s\n",
      "[CV] END ..max_depth=110, max_features=0.5, n_estimators=300; total time=   1.0s\n",
      "[CV] END ..max_depth=110, max_features=0.5, n_estimators=300; total time=   0.9s\n",
      "[CV] END ..max_depth=110, max_features=0.5, n_estimators=300; total time=   0.9s\n",
      "[CV] END ...max_depth=80, max_features=0.4, n_estimators=200; total time=   0.5s\n",
      "[CV] END ...max_depth=80, max_features=0.4, n_estimators=200; total time=   0.5s\n",
      "[CV] END ...max_depth=80, max_features=0.4, n_estimators=200; total time=   0.5s\n",
      "[CV] END ...max_depth=70, max_features=0.4, n_estimators=300; total time=   0.7s\n",
      "[CV] END ...max_depth=70, max_features=0.4, n_estimators=300; total time=   0.8s\n",
      "[CV] END ...max_depth=70, max_features=0.4, n_estimators=300; total time=   0.9s\n",
      "[CV] END ...max_depth=30, max_features=0.1, n_estimators=300; total time=   0.8s\n",
      "[CV] END ...max_depth=30, max_features=0.1, n_estimators=300; total time=   0.8s\n",
      "[CV] END ...max_depth=30, max_features=0.1, n_estimators=300; total time=   0.8s\n",
      "[CV] END ...max_depth=30, max_features=0.3, n_estimators=600; total time=   1.5s\n",
      "[CV] END ...max_depth=30, max_features=0.3, n_estimators=600; total time=   1.4s\n",
      "[CV] END ...max_depth=30, max_features=0.3, n_estimators=600; total time=   1.4s\n",
      "[CV] END .max_depth=None, max_features=0.5, n_estimators=600; total time=   1.4s\n",
      "[CV] END .max_depth=None, max_features=0.5, n_estimators=600; total time=   1.3s\n",
      "[CV] END .max_depth=None, max_features=0.5, n_estimators=600; total time=   1.6s\n",
      "[CV] END ...max_depth=30, max_features=0.5, n_estimators=200; total time=   0.5s\n",
      "[CV] END ...max_depth=30, max_features=0.5, n_estimators=200; total time=   0.5s\n",
      "[CV] END ...max_depth=30, max_features=0.5, n_estimators=200; total time=   0.6s\n",
      "[CV] END .max_depth=None, max_features=0.3, n_estimators=800; total time=   1.5s\n",
      "[CV] END .max_depth=None, max_features=0.3, n_estimators=800; total time=   1.8s\n",
      "[CV] END .max_depth=None, max_features=0.3, n_estimators=800; total time=   1.9s\n",
      "[CV] END ...max_depth=70, max_features=0.2, n_estimators=600; total time=   1.4s\n",
      "[CV] END ...max_depth=70, max_features=0.2, n_estimators=600; total time=   1.5s\n",
      "[CV] END ...max_depth=70, max_features=0.2, n_estimators=600; total time=   1.2s\n",
      "[CV] END ...max_depth=20, max_features=0.5, n_estimators=700; total time=   1.4s\n",
      "[CV] END ...max_depth=20, max_features=0.5, n_estimators=700; total time=   1.5s\n",
      "[CV] END ...max_depth=20, max_features=0.5, n_estimators=700; total time=   1.5s\n",
      "[CV] END ...max_depth=40, max_features=0.3, n_estimators=200; total time=   0.4s\n",
      "[CV] END ...max_depth=40, max_features=0.3, n_estimators=200; total time=   0.5s\n",
      "[CV] END ...max_depth=40, max_features=0.3, n_estimators=200; total time=   0.5s\n",
      "[CV] END ...max_depth=60, max_features=0.5, n_estimators=300; total time=   0.7s\n",
      "[CV] END ...max_depth=60, max_features=0.5, n_estimators=300; total time=   0.8s\n",
      "[CV] END ...max_depth=60, max_features=0.5, n_estimators=300; total time=   0.7s\n",
      "[CV] END ...max_depth=80, max_features=0.4, n_estimators=100; total time=   0.2s\n",
      "[CV] END ...max_depth=80, max_features=0.4, n_estimators=100; total time=   0.2s\n",
      "[CV] END ...max_depth=80, max_features=0.4, n_estimators=100; total time=   0.3s\n",
      "[CV] END ...max_depth=90, max_features=0.1, n_estimators=300; total time=   0.9s\n",
      "[CV] END ...max_depth=90, max_features=0.1, n_estimators=300; total time=   0.8s\n",
      "[CV] END ...max_depth=90, max_features=0.1, n_estimators=300; total time=   0.8s\n",
      "[CV] END ...max_depth=20, max_features=0.4, n_estimators=500; total time=   1.0s\n",
      "[CV] END ...max_depth=20, max_features=0.4, n_estimators=500; total time=   1.0s\n",
      "[CV] END ...max_depth=20, max_features=0.4, n_estimators=500; total time=   0.9s\n",
      "[CV] END ...max_depth=20, max_features=0.5, n_estimators=100; total time=   0.2s\n",
      "[CV] END ...max_depth=20, max_features=0.5, n_estimators=100; total time=   0.2s\n",
      "[CV] END ...max_depth=20, max_features=0.5, n_estimators=100; total time=   0.3s\n",
      "[CV] END ...max_depth=60, max_features=0.3, n_estimators=300; total time=   0.8s\n",
      "[CV] END ...max_depth=60, max_features=0.3, n_estimators=300; total time=   0.7s\n",
      "[CV] END ...max_depth=60, max_features=0.3, n_estimators=300; total time=   0.7s\n",
      "[CV] END ...max_depth=80, max_features=0.4, n_estimators=700; total time=   1.6s\n",
      "[CV] END ...max_depth=80, max_features=0.4, n_estimators=700; total time=   1.9s\n",
      "[CV] END ...max_depth=80, max_features=0.4, n_estimators=700; total time=   1.9s\n",
      "[CV] END ...max_depth=20, max_features=0.5, n_estimators=800; total time=   1.9s\n",
      "[CV] END ...max_depth=20, max_features=0.5, n_estimators=800; total time=   2.0s\n",
      "[CV] END ...max_depth=20, max_features=0.5, n_estimators=800; total time=   2.0s\n",
      "[CV] END ...max_depth=60, max_features=0.2, n_estimators=100; total time=   0.3s\n",
      "[CV] END ...max_depth=60, max_features=0.2, n_estimators=100; total time=   0.3s\n",
      "[CV] END ...max_depth=60, max_features=0.2, n_estimators=100; total time=   0.3s\n",
      "[CV] END ...max_depth=40, max_features=0.4, n_estimators=500; total time=   1.0s\n",
      "[CV] END ...max_depth=40, max_features=0.4, n_estimators=500; total time=   1.0s\n",
      "[CV] END ...max_depth=40, max_features=0.4, n_estimators=500; total time=   0.9s\n",
      "[CV] END ...max_depth=40, max_features=0.5, n_estimators=300; total time=   0.7s\n",
      "[CV] END ...max_depth=40, max_features=0.5, n_estimators=300; total time=   0.7s\n",
      "[CV] END ...max_depth=40, max_features=0.5, n_estimators=300; total time=   0.6s\n",
      "[CV] END ...max_depth=50, max_features=0.2, n_estimators=800; total time=   1.5s\n",
      "[CV] END ...max_depth=50, max_features=0.2, n_estimators=800; total time=   1.5s\n",
      "[CV] END ...max_depth=50, max_features=0.2, n_estimators=800; total time=   1.6s\n",
      "[CV] END ...max_depth=70, max_features=0.2, n_estimators=200; total time=   0.4s\n",
      "[CV] END ...max_depth=70, max_features=0.2, n_estimators=200; total time=   0.4s\n",
      "[CV] END ...max_depth=70, max_features=0.2, n_estimators=200; total time=   0.4s\n",
      "[CV] END .max_depth=None, max_features=0.5, n_estimators=400; total time=   0.8s\n",
      "[CV] END .max_depth=None, max_features=0.5, n_estimators=400; total time=   0.8s\n",
      "[CV] END .max_depth=None, max_features=0.5, n_estimators=400; total time=   0.8s\n",
      "[CV] END ...max_depth=90, max_features=0.2, n_estimators=700; total time=   1.5s\n",
      "[CV] END ...max_depth=90, max_features=0.2, n_estimators=700; total time=   1.6s\n",
      "[CV] END ...max_depth=90, max_features=0.2, n_estimators=700; total time=   1.7s\n",
      "[CV] END ...max_depth=20, max_features=0.5, n_estimators=400; total time=   1.0s\n",
      "[CV] END ...max_depth=20, max_features=0.5, n_estimators=400; total time=   0.9s\n",
      "[CV] END ...max_depth=20, max_features=0.5, n_estimators=400; total time=   0.9s\n",
      "[CV] END ..max_depth=110, max_features=0.3, n_estimators=600; total time=   1.4s\n",
      "[CV] END ..max_depth=110, max_features=0.3, n_estimators=600; total time=   1.3s\n",
      "[CV] END ..max_depth=110, max_features=0.3, n_estimators=600; total time=   1.3s\n",
      "[CV] END ...max_depth=10, max_features=0.2, n_estimators=800; total time=   1.9s\n",
      "[CV] END ...max_depth=10, max_features=0.2, n_estimators=800; total time=   1.6s\n",
      "[CV] END ...max_depth=10, max_features=0.2, n_estimators=800; total time=   1.7s\n",
      "[CV] END ...max_depth=40, max_features=0.5, n_estimators=200; total time=   0.4s\n",
      "[CV] END ...max_depth=40, max_features=0.5, n_estimators=200; total time=   0.5s\n",
      "[CV] END ...max_depth=40, max_features=0.5, n_estimators=200; total time=   0.5s\n",
      "[CV] END .max_depth=None, max_features=0.4, n_estimators=100; total time=   0.3s\n",
      "[CV] END .max_depth=None, max_features=0.4, n_estimators=100; total time=   0.3s\n",
      "[CV] END .max_depth=None, max_features=0.4, n_estimators=100; total time=   0.3s\n",
      "[CV] END ...max_depth=10, max_features=0.3, n_estimators=400; total time=   1.0s\n",
      "[CV] END ...max_depth=10, max_features=0.3, n_estimators=400; total time=   0.9s\n",
      "[CV] END ...max_depth=10, max_features=0.3, n_estimators=400; total time=   0.9s\n",
      "[CV] END ...max_depth=80, max_features=0.4, n_estimators=800; total time=   1.8s\n",
      "[CV] END ...max_depth=80, max_features=0.4, n_estimators=800; total time=   1.7s\n",
      "[CV] END ...max_depth=80, max_features=0.4, n_estimators=800; total time=   1.8s\n",
      "[CV] END ...max_depth=90, max_features=0.1, n_estimators=100; total time=   0.2s\n",
      "[CV] END ...max_depth=90, max_features=0.1, n_estimators=100; total time=   0.3s\n",
      "[CV] END ...max_depth=90, max_features=0.1, n_estimators=100; total time=   0.3s\n",
      "[CV] END ...max_depth=20, max_features=0.3, n_estimators=100; total time=   0.3s\n",
      "[CV] END ...max_depth=20, max_features=0.3, n_estimators=100; total time=   0.3s\n",
      "[CV] END ...max_depth=20, max_features=0.3, n_estimators=100; total time=   0.3s\n",
      "[CV] END ...max_depth=90, max_features=0.4, n_estimators=600; total time=   1.6s\n",
      "[CV] END ...max_depth=90, max_features=0.4, n_estimators=600; total time=   1.6s\n",
      "[CV] END ...max_depth=90, max_features=0.4, n_estimators=600; total time=   1.5s\n",
      "[CV] END ...max_depth=60, max_features=0.2, n_estimators=400; total time=   0.8s\n",
      "[CV] END ...max_depth=60, max_features=0.2, n_estimators=400; total time=   0.9s\n",
      "[CV] END ...max_depth=60, max_features=0.2, n_estimators=400; total time=   0.9s\n",
      "[CV] END ..max_depth=110, max_features=0.5, n_estimators=100; total time=   0.2s\n",
      "[CV] END ..max_depth=110, max_features=0.5, n_estimators=100; total time=   0.3s\n",
      "[CV] END ..max_depth=110, max_features=0.5, n_estimators=100; total time=   0.3s\n",
      "[CV] END ...max_depth=60, max_features=0.3, n_estimators=700; total time=   1.6s\n",
      "[CV] END ...max_depth=60, max_features=0.3, n_estimators=700; total time=   1.5s\n",
      "[CV] END ...max_depth=60, max_features=0.3, n_estimators=700; total time=   1.7s\n",
      "[CV] END ...max_depth=60, max_features=0.5, n_estimators=600; total time=   1.5s\n",
      "[CV] END ...max_depth=60, max_features=0.5, n_estimators=600; total time=   1.4s\n",
      "[CV] END ...max_depth=60, max_features=0.5, n_estimators=600; total time=   1.5s\n",
      "[CV] END ..max_depth=110, max_features=0.2, n_estimators=100; total time=   0.2s\n",
      "[CV] END ..max_depth=110, max_features=0.2, n_estimators=100; total time=   0.3s\n",
      "[CV] END ..max_depth=110, max_features=0.2, n_estimators=100; total time=   0.3s\n",
      "[CV] END ...max_depth=10, max_features=0.4, n_estimators=200; total time=   0.5s\n",
      "[CV] END ...max_depth=10, max_features=0.4, n_estimators=200; total time=   0.5s\n",
      "[CV] END ...max_depth=10, max_features=0.4, n_estimators=200; total time=   0.5s\n",
      "[CV] END ..max_depth=110, max_features=0.3, n_estimators=400; total time=   0.9s\n",
      "[CV] END ..max_depth=110, max_features=0.3, n_estimators=400; total time=   1.1s\n",
      "[CV] END ..max_depth=110, max_features=0.3, n_estimators=400; total time=   0.9s\n",
      "[CV] END ...max_depth=40, max_features=0.2, n_estimators=500; total time=   1.1s\n",
      "[CV] END ...max_depth=40, max_features=0.2, n_estimators=500; total time=   1.1s\n",
      "[CV] END ...max_depth=40, max_features=0.2, n_estimators=500; total time=   1.2s\n",
      "[CV] END ...max_depth=60, max_features=0.4, n_estimators=500; total time=   1.1s\n",
      "[CV] END ...max_depth=60, max_features=0.4, n_estimators=500; total time=   1.0s\n",
      "[CV] END ...max_depth=60, max_features=0.4, n_estimators=500; total time=   1.1s\n",
      "[CV] END .max_depth=None, max_features=0.5, n_estimators=200; total time=   0.4s\n",
      "[CV] END .max_depth=None, max_features=0.5, n_estimators=200; total time=   0.5s\n",
      "[CV] END .max_depth=None, max_features=0.5, n_estimators=200; total time=   0.5s\n",
      "[CV] END ...max_depth=20, max_features=0.1, n_estimators=300; total time=   0.7s\n",
      "[CV] END ...max_depth=20, max_features=0.1, n_estimators=300; total time=   0.7s\n",
      "[CV] END ...max_depth=20, max_features=0.1, n_estimators=300; total time=   0.7s\n"
     ]
    },
    {
     "data": {
      "text/plain": "{'n_estimators': 100, 'max_features': 0.5, 'max_depth': 20}"
     },
     "execution_count": 35,
     "metadata": {},
     "output_type": "execute_result"
    }
   ],
   "source": [
    "rf = RandomForestRegressor(random_state=0, n_jobs=-1)\n",
    "\n",
    "rf_random = RandomizedSearchCV(\n",
    "    estimator=rf,\n",
    "    param_distributions=hyper_params,\n",
    "    n_iter=100,\n",
    "    scoring=\"neg_mean_absolute_error\",\n",
    "    cv=3,\n",
    "    verbose=2,\n",
    "    random_state=42,\n",
    "    return_train_score=True,\n",
    ")\n",
    "\n",
    "rf_random.fit(X_train_random_split, y_train_random_split)\n",
    "rf_random.best_params_"
   ]
  },
  {
   "cell_type": "code",
   "execution_count": 36,
   "id": "31b7c7da",
   "metadata": {},
   "outputs": [
    {
     "name": "stdout",
     "output_type": "stream",
     "text": [
      "RMSE train: 0.18\n",
      "RMSE test: 0.49\n",
      "MSE test: 0.24\n",
      "\n"
     ]
    },
    {
     "data": {
      "text/plain": "(0.48854629611093014, 0.23867748344370862)"
     },
     "execution_count": 36,
     "metadata": {},
     "output_type": "execute_result"
    }
   ],
   "source": [
    "assess_regression_model(\n",
    "    rf_random,\n",
    "    X_train_random_split,\n",
    "    X_test_random_split,\n",
    "    y_train_random_split,\n",
    "    y_test_random_split,\n",
    ")"
   ]
  },
  {
   "cell_type": "markdown",
   "id": "d318591b",
   "metadata": {},
   "source": [
    "### Attempt to decrease overfitting\n",
    "Change max_depth to 7"
   ]
  },
  {
   "cell_type": "code",
   "execution_count": 37,
   "id": "3d330cf7",
   "metadata": {},
   "outputs": [
    {
     "name": "stdout",
     "output_type": "stream",
     "text": [
      "RMSE train: 0.44\n",
      "RMSE test: 0.46\n",
      "MSE test: 0.21\n",
      "\n"
     ]
    },
    {
     "data": {
      "text/plain": "(0.4590184047118999, 0.21069789586425752)"
     },
     "execution_count": 37,
     "metadata": {},
     "output_type": "execute_result"
    }
   ],
   "source": [
    "rf = RandomForestRegressor(\n",
    "    random_state=0, n_jobs=-1, n_estimators=400, max_features=0.5, max_depth=7\n",
    ")\n",
    "rf.fit(X_train, y_train)\n",
    "assess_regression_model(\n",
    "    rf,\n",
    "    X_train_random_split,\n",
    "    X_test_random_split,\n",
    "    y_train_random_split,\n",
    "    y_test_random_split,\n",
    ")"
   ]
  },
  {
   "cell_type": "markdown",
   "id": "f762e50d",
   "metadata": {},
   "source": [
    "Check rounded predictions"
   ]
  },
  {
   "cell_type": "code",
   "execution_count": 38,
   "id": "719b6a42",
   "metadata": {},
   "outputs": [
    {
     "name": "stdout",
     "output_type": "stream",
     "text": [
      "Normal:\n",
      "MSE: 0.21\n",
      "RMSE: 0.46\n",
      "\n",
      "Round type: round\n",
      "MSE: 0.23\n",
      "RMSE: 0.48\n",
      "\n",
      "Round type: 0.33\n",
      "MSE: 0.22\n",
      "RMSE: 0.47\n",
      "\n",
      "Round type: 0.45\n",
      "MSE: 0.23\n",
      "RMSE: 0.47\n",
      "\n"
     ]
    }
   ],
   "source": [
    "predict_random_split = rf.predict(X_test_random_split)\n",
    "\n",
    "check_round_predictions(\n",
    "    [\"round\", 0.33, 0.45], y_test_random_split, predict_random_split\n",
    ")"
   ]
  },
  {
   "cell_type": "code",
   "execution_count": 39,
   "outputs": [
    {
     "data": {
      "text/plain": "<Figure size 640x480 with 2 Axes>",
      "image/png": "[encoded data removed]"
     },
     "metadata": {},
     "output_type": "display_data"
    }
   ],
   "source": [
    "plot_confusion_matrix(\"round\", predict_random_split, y_test_random_split)"
   ],
   "metadata": {
    "collapsed": false
   }
  },
  {
   "cell_type": "code",
   "execution_count": 40,
   "id": "97e92580",
   "metadata": {},
   "outputs": [],
   "source": [
    "round_predict_33_random_split = np.where(\n",
    "    (predict_random_split % 1) > 0.33,\n",
    "    np.ceil(predict_random_split),\n",
    "    np.floor(predict_random_split),\n",
    ").astype(\"int\")"
   ]
  },
  {
   "cell_type": "code",
   "execution_count": 41,
   "id": "719f6b0f",
   "metadata": {},
   "outputs": [
    {
     "data": {
      "text/plain": "<Figure size 640x480 with 2 Axes>",
      "image/png": "[encoded data removed]"
     },
     "metadata": {},
     "output_type": "display_data"
    }
   ],
   "source": [
    "plot_confusion_matrix(\"round\", round_predict_33_random_split, y_test_random_split)"
   ]
  },
  {
   "cell_type": "markdown",
   "id": "8fb5babe",
   "metadata": {},
   "source": [
    "### Podsumowanie:\n",
    "\n",
    "* Wyniki zadowalające.\n",
    "* Wyniki poprawiły się względem regesji liniowej.\n",
    "* Dla podziału chronologicznego dostajemy słabe dopasowanie dla danych testowych. Być może dla większej ilości książek będzie lepiej."
   ]
  },
  {
   "cell_type": "markdown",
   "source": [
    "### Parameters:\n",
    "* **abilities**:\n",
    "    * **cha**\n",
    "    * **con**\n",
    "    * **dex**\n",
    "    * **int**\n",
    "    * **str**\n",
    "    * **wis**\n",
    "* **attributes**\n",
    "    * **hp**\n",
    "    * **ac**\n",
    "    * **perception**\n",
    "* **saves**\n",
    "    * **fortitude**\n",
    "    * **reflex**\n",
    "    * **will**\n",
    "* **resources**\n",
    "    * **focus**\n",
    "\n",
    "### Prediction: *level*"
   ],
   "metadata": {
    "collapsed": false
   }
  },
  {
   "cell_type": "markdown",
   "source": [
    "## Loading data"
   ],
   "metadata": {
    "collapsed": false
   }
  },
  {
   "cell_type": "code",
   "execution_count": 42,
   "outputs": [],
   "source": [
    "current_path = os.getcwd()\n",
    "DATASETS_DIR = pathlib.Path(current_path).parent.parent / \"pathfinder_2e_data\"\n",
    "DATASET_FILES = [\n",
    "    \"pathfinder-bestiary.db\",\n",
    "    \"pathfinder-bestiary-2.db\",\n",
    "    \"pathfinder-bestiary-3.db\",\n",
    "]\n",
    "DATASET_PATHS = [f\"{DATASETS_DIR}/{file}\" for file in DATASET_FILES]\n",
    "characteristics = [\n",
    "    \"cha\",\n",
    "    \"con\",\n",
    "    \"dex\",\n",
    "    \"int\",\n",
    "    \"str\",\n",
    "    \"wis\",\n",
    "    \"ac\",\n",
    "    \"hp\",\n",
    "    \"perception\",\n",
    "    \"fortitude\",\n",
    "    \"reflex\",\n",
    "    \"will\",\n",
    "    \"focus\",\n",
    "]\n",
    "\n",
    "df = load_and_preprocess_data(\n",
    "    DATASET_PATHS,\n",
    "    characteristics=characteristics,\n",
    ")"
   ],
   "metadata": {
    "collapsed": false
   }
  },
  {
   "cell_type": "code",
   "execution_count": 43,
   "outputs": [
    {
     "name": "stdout",
     "output_type": "stream",
     "text": [
      "<class 'pandas.core.frame.DataFrame'>\n",
      "Int64Index: 1206 entries, 0 to 1205\n",
      "Data columns (total 15 columns):\n",
      " #   Column      Non-Null Count  Dtype \n",
      "---  ------      --------------  ----- \n",
      " 0   level       1206 non-null   int64 \n",
      " 1   int         1206 non-null   int64 \n",
      " 2   book        1206 non-null   object\n",
      " 3   str         1206 non-null   int64 \n",
      " 4   will        1206 non-null   int64 \n",
      " 5   ac          1206 non-null   int64 \n",
      " 6   con         1206 non-null   int64 \n",
      " 7   fortitude   1206 non-null   int64 \n",
      " 8   reflex      1206 non-null   int64 \n",
      " 9   focus       1206 non-null   int32 \n",
      " 10  cha         1206 non-null   int64 \n",
      " 11  hp          1206 non-null   int64 \n",
      " 12  perception  1206 non-null   int64 \n",
      " 13  dex         1206 non-null   int64 \n",
      " 14  wis         1206 non-null   int64 \n",
      "dtypes: int32(1), int64(13), object(1)\n",
      "memory usage: 146.0+ KB\n"
     ]
    }
   ],
   "source": [
    "df.info()"
   ],
   "metadata": {
    "collapsed": false
   }
  },
  {
   "cell_type": "code",
   "execution_count": 44,
   "outputs": [
    {
     "data": {
      "text/plain": "   level  int                 book  str  will  ac  con  fortitude  reflex  \\\n0     10    1  Pathfinder Bestiary    7    17  29    5         22      19   \n1     10   -4  Pathfinder Bestiary    9    16  28    5         21      14   \n2      8   -4  Pathfinder Bestiary    7    15  25    6         20      17   \n3     17    6  Pathfinder Bestiary    7    32  41    5         30      29   \n4      1   -1  Pathfinder Bestiary   -5     4  16    1          6      10   \n\n   focus  cha   hp  perception  dex  wis  \n0      1    1  215          20    2    2  \n1      0    1  220          16    0    2  \n2      0   -2  175          17    3    3  \n3      1    6  315          30    4    5  \n4      1    1   20           6    3    1  ",
      "text/html": "<div>\n<style scoped>\n    .dataframe tbody tr th:only-of-type {\n        vertical-align: middle;\n    }\n\n    .dataframe tbody tr th {\n        vertical-align: top;\n    }\n\n    .dataframe thead th {\n        text-align: right;\n    }\n</style>\n<table border=\"1\" class=\"dataframe\">\n  <thead>\n    <tr style=\"text-align: right;\">\n      <th></th>\n      <th>level</th>\n      <th>int</th>\n      <th>book</th>\n      <th>str</th>\n      <th>will</th>\n      <th>ac</th>\n      <th>con</th>\n      <th>fortitude</th>\n      <th>reflex</th>\n      <th>focus</th>\n      <th>cha</th>\n      <th>hp</th>\n      <th>perception</th>\n      <th>dex</th>\n      <th>wis</th>\n    </tr>\n  </thead>\n  <tbody>\n    <tr>\n      <th>0</th>\n      <td>10</td>\n      <td>1</td>\n      <td>Pathfinder Bestiary</td>\n      <td>7</td>\n      <td>17</td>\n      <td>29</td>\n      <td>5</td>\n      <td>22</td>\n      <td>19</td>\n      <td>1</td>\n      <td>1</td>\n      <td>215</td>\n      <td>20</td>\n      <td>2</td>\n      <td>2</td>\n    </tr>\n    <tr>\n      <th>1</th>\n      <td>10</td>\n      <td>-4</td>\n      <td>Pathfinder Bestiary</td>\n      <td>9</td>\n      <td>16</td>\n      <td>28</td>\n      <td>5</td>\n      <td>21</td>\n      <td>14</td>\n      <td>0</td>\n      <td>1</td>\n      <td>220</td>\n      <td>16</td>\n      <td>0</td>\n      <td>2</td>\n    </tr>\n    <tr>\n      <th>2</th>\n      <td>8</td>\n      <td>-4</td>\n      <td>Pathfinder Bestiary</td>\n      <td>7</td>\n      <td>15</td>\n      <td>25</td>\n      <td>6</td>\n      <td>20</td>\n      <td>17</td>\n      <td>0</td>\n      <td>-2</td>\n      <td>175</td>\n      <td>17</td>\n      <td>3</td>\n      <td>3</td>\n    </tr>\n    <tr>\n      <th>3</th>\n      <td>17</td>\n      <td>6</td>\n      <td>Pathfinder Bestiary</td>\n      <td>7</td>\n      <td>32</td>\n      <td>41</td>\n      <td>5</td>\n      <td>30</td>\n      <td>29</td>\n      <td>1</td>\n      <td>6</td>\n      <td>315</td>\n      <td>30</td>\n      <td>4</td>\n      <td>5</td>\n    </tr>\n    <tr>\n      <th>4</th>\n      <td>1</td>\n      <td>-1</td>\n      <td>Pathfinder Bestiary</td>\n      <td>-5</td>\n      <td>4</td>\n      <td>16</td>\n      <td>1</td>\n      <td>6</td>\n      <td>10</td>\n      <td>1</td>\n      <td>1</td>\n      <td>20</td>\n      <td>6</td>\n      <td>3</td>\n      <td>1</td>\n    </tr>\n  </tbody>\n</table>\n</div>"
     },
     "execution_count": 44,
     "metadata": {},
     "output_type": "execute_result"
    }
   ],
   "source": [
    "df.head()"
   ],
   "metadata": {
    "collapsed": false
   }
  },
  {
   "cell_type": "markdown",
   "source": [
    "## Train test split"
   ],
   "metadata": {
    "collapsed": false
   }
  },
  {
   "cell_type": "markdown",
   "source": [
    "### Chronological split"
   ],
   "metadata": {
    "collapsed": false
   }
  },
  {
   "cell_type": "code",
   "execution_count": 45,
   "outputs": [],
   "source": [
    "from training.splitting_dataset import split_dataframe\n",
    "\n",
    "os.chdir(\"../../training\")\n",
    "X_train, X_test, y_train, y_test = split_dataframe(df, test_size=0.31)\n",
    "os.chdir(\"../notebooks/models\")"
   ],
   "metadata": {
    "collapsed": false
   }
  },
  {
   "cell_type": "code",
   "execution_count": 46,
   "outputs": [],
   "source": [
    "X_train = X_train.drop(columns=[\"book\"])\n",
    "X_test = X_test.drop(columns=[\"book\"])"
   ],
   "metadata": {
    "collapsed": false
   }
  },
  {
   "cell_type": "code",
   "execution_count": 47,
   "outputs": [],
   "source": [
    "X_train = X_train.astype(\"int64\")\n",
    "y_train = y_train.astype(\"int64\")"
   ],
   "metadata": {
    "collapsed": false
   }
  },
  {
   "cell_type": "markdown",
   "source": [
    "### Random split"
   ],
   "metadata": {
    "collapsed": false
   }
  },
  {
   "cell_type": "code",
   "execution_count": 48,
   "outputs": [],
   "source": [
    "(\n",
    "    X_train_random_split,\n",
    "    X_test_random_split,\n",
    "    y_train_random_split,\n",
    "    y_test_random_split,\n",
    ") = split_dataframe(df, chronological_split=False)"
   ],
   "metadata": {
    "collapsed": false
   }
  },
  {
   "cell_type": "code",
   "execution_count": 49,
   "outputs": [],
   "source": [
    "X_train_random_split = X_train_random_split.drop(columns=[\"book\"])\n",
    "X_test_random_split = X_test_random_split.drop(columns=[\"book\"])"
   ],
   "metadata": {
    "collapsed": false
   }
  },
  {
   "cell_type": "markdown",
   "source": [
    "## Random Forest"
   ],
   "metadata": {
    "collapsed": false
   }
  },
  {
   "cell_type": "markdown",
   "source": [
    "### With chronological split"
   ],
   "metadata": {
    "collapsed": false
   }
  },
  {
   "cell_type": "code",
   "execution_count": 50,
   "outputs": [
    {
     "data": {
      "text/plain": "RandomForestRegressor(max_depth=2, n_estimators=500, n_jobs=-1, random_state=0)",
      "text/html": "<style>#sk-container-id-3 {color: black;background-color: white;}#sk-container-id-3 pre{padding: 0;}#sk-container-id-3 div.sk-toggleable {background-color: white;}#sk-container-id-3 label.sk-toggleable__label {cursor: pointer;display: block;width: 100%;margin-bottom: 0;padding: 0.3em;box-sizing: border-box;text-align: center;}#sk-container-id-3 label.sk-toggleable__label-arrow:before {content: \"▸\";float: left;margin-right: 0.25em;color: #696969;}#sk-container-id-3 label.sk-toggleable__label-arrow:hover:before {color: black;}#sk-container-id-3 div.sk-estimator:hover label.sk-toggleable__label-arrow:before {color: black;}#sk-container-id-3 div.sk-toggleable__content {max-height: 0;max-width: 0;overflow: hidden;text-align: left;background-color: #f0f8ff;}#sk-container-id-3 div.sk-toggleable__content pre {margin: 0.2em;color: black;border-radius: 0.25em;background-color: #f0f8ff;}#sk-container-id-3 input.sk-toggleable__control:checked~div.sk-toggleable__content {max-height: 200px;max-width: 100%;overflow: auto;}#sk-container-id-3 input.sk-toggleable__control:checked~label.sk-toggleable__label-arrow:before {content: \"▾\";}#sk-container-id-3 div.sk-estimator input.sk-toggleable__control:checked~label.sk-toggleable__label {background-color: #d4ebff;}#sk-container-id-3 div.sk-label input.sk-toggleable__control:checked~label.sk-toggleable__label {background-color: #d4ebff;}#sk-container-id-3 input.sk-hidden--visually {border: 0;clip: rect(1px 1px 1px 1px);clip: rect(1px, 1px, 1px, 1px);height: 1px;margin: -1px;overflow: hidden;padding: 0;position: absolute;width: 1px;}#sk-container-id-3 div.sk-estimator {font-family: monospace;background-color: #f0f8ff;border: 1px dotted black;border-radius: 0.25em;box-sizing: border-box;margin-bottom: 0.5em;}#sk-container-id-3 div.sk-estimator:hover {background-color: #d4ebff;}#sk-container-id-3 div.sk-parallel-item::after {content: \"\";width: 100%;border-bottom: 1px solid gray;flex-grow: 1;}#sk-container-id-3 div.sk-label:hover label.sk-toggleable__label {background-color: #d4ebff;}#sk-container-id-3 div.sk-serial::before {content: \"\";position: absolute;border-left: 1px solid gray;box-sizing: border-box;top: 0;bottom: 0;left: 50%;z-index: 0;}#sk-container-id-3 div.sk-serial {display: flex;flex-direction: column;align-items: center;background-color: white;padding-right: 0.2em;padding-left: 0.2em;position: relative;}#sk-container-id-3 div.sk-item {position: relative;z-index: 1;}#sk-container-id-3 div.sk-parallel {display: flex;align-items: stretch;justify-content: center;background-color: white;position: relative;}#sk-container-id-3 div.sk-item::before, #sk-container-id-3 div.sk-parallel-item::before {content: \"\";position: absolute;border-left: 1px solid gray;box-sizing: border-box;top: 0;bottom: 0;left: 50%;z-index: -1;}#sk-container-id-3 div.sk-parallel-item {display: flex;flex-direction: column;z-index: 1;position: relative;background-color: white;}#sk-container-id-3 div.sk-parallel-item:first-child::after {align-self: flex-end;width: 50%;}#sk-container-id-3 div.sk-parallel-item:last-child::after {align-self: flex-start;width: 50%;}#sk-container-id-3 div.sk-parallel-item:only-child::after {width: 0;}#sk-container-id-3 div.sk-dashed-wrapped {border: 1px dashed gray;margin: 0 0.4em 0.5em 0.4em;box-sizing: border-box;padding-bottom: 0.4em;background-color: white;}#sk-container-id-3 div.sk-label label {font-family: monospace;font-weight: bold;display: inline-block;line-height: 1.2em;}#sk-container-id-3 div.sk-label-container {text-align: center;}#sk-container-id-3 div.sk-container {/* jupyter's `normalize.less` sets `[hidden] { display: none; }` but bootstrap.min.css set `[hidden] { display: none !important; }` so we also need the `!important` here to be able to override the default hidden behavior on the sphinx rendered scikit-learn.org. See: https://github.com/scikit-learn/scikit-learn/issues/21755 */display: inline-block !important;position: relative;}#sk-container-id-3 div.sk-text-repr-fallback {display: none;}</style><div id=\"sk-container-id-3\" class=\"sk-top-container\"><div class=\"sk-text-repr-fallback\"><pre>RandomForestRegressor(max_depth=2, n_estimators=500, n_jobs=-1, random_state=0)</pre><b>In a Jupyter environment, please rerun this cell to show the HTML representation or trust the notebook. <br />On GitHub, the HTML representation is unable to render, please try loading this page with nbviewer.org.</b></div><div class=\"sk-container\" hidden><div class=\"sk-item\"><div class=\"sk-estimator sk-toggleable\"><input class=\"sk-toggleable__control sk-hidden--visually\" id=\"sk-estimator-id-3\" type=\"checkbox\" checked><label for=\"sk-estimator-id-3\" class=\"sk-toggleable__label sk-toggleable__label-arrow\">RandomForestRegressor</label><div class=\"sk-toggleable__content\"><pre>RandomForestRegressor(max_depth=2, n_estimators=500, n_jobs=-1, random_state=0)</pre></div></div></div></div></div>"
     },
     "execution_count": 50,
     "metadata": {},
     "output_type": "execute_result"
    }
   ],
   "source": [
    "from sklearn.ensemble import RandomForestRegressor\n",
    "\n",
    "rf_reg = RandomForestRegressor(n_estimators=500, max_depth=2, random_state=0, n_jobs=-1)\n",
    "rf_reg.fit(X_train, y_train)"
   ],
   "metadata": {
    "collapsed": false
   }
  },
  {
   "cell_type": "code",
   "execution_count": 51,
   "outputs": [],
   "source": [
    "y_pred_train = rf_reg.predict(X_train)\n",
    "y_pred_test = rf_reg.predict(X_test)"
   ],
   "metadata": {
    "collapsed": false
   }
  },
  {
   "cell_type": "code",
   "execution_count": 52,
   "outputs": [
    {
     "name": "stdout",
     "output_type": "stream",
     "text": [
      "MSE: 2.12\n",
      "RMSE: 1.45\n"
     ]
    }
   ],
   "source": [
    "from sklearn.metrics import mean_squared_error\n",
    "\n",
    "mse = mean_squared_error(y_test, y_pred_test)\n",
    "rmse = mean_squared_error(y_test, y_pred_test, squared=False)\n",
    "print(f\"MSE: {mse:.2f}\")\n",
    "print(f\"RMSE: {rmse:.2f}\")"
   ],
   "metadata": {
    "collapsed": false
   }
  },
  {
   "cell_type": "code",
   "execution_count": 53,
   "outputs": [
    {
     "name": "stdout",
     "output_type": "stream",
     "text": [
      "RMSE train: 1.20\n",
      "RMSE test: 1.45\n"
     ]
    }
   ],
   "source": [
    "rmse_train = mean_squared_error(y_train, y_pred_train, squared=False)\n",
    "rmse_test = mean_squared_error(y_test, y_pred_test, squared=False)\n",
    "print(f\"RMSE train: {rmse_train:.2f}\")\n",
    "print(f\"RMSE test: {rmse_test:.2f}\")  # overfitting"
   ],
   "metadata": {
    "collapsed": false
   }
  },
  {
   "cell_type": "code",
   "execution_count": 54,
   "outputs": [
    {
     "name": "stdout",
     "output_type": "stream",
     "text": [
      "Normal:\n",
      "MSE: 2.12\n",
      "RMSE: 1.45\n",
      "\n",
      "Round type: round\n",
      "MSE: 2.38\n",
      "RMSE: 1.54\n",
      "\n",
      "Round type: 0.33\n",
      "MSE: 2.13\n",
      "RMSE: 1.46\n",
      "\n",
      "Round type: 0.45\n",
      "MSE: 2.12\n",
      "RMSE: 1.46\n",
      "\n"
     ]
    }
   ],
   "source": [
    "check_round_predictions([\"round\", 0.33, 0.45], y_test, y_pred_test)"
   ],
   "metadata": {
    "collapsed": false
   }
  },
  {
   "cell_type": "code",
   "execution_count": 55,
   "outputs": [
    {
     "data": {
      "text/plain": "<Figure size 640x480 with 2 Axes>",
      "image/png": "[encoded data removed]"
     },
     "metadata": {},
     "output_type": "display_data"
    }
   ],
   "source": [
    "plot_confusion_matrix(\"round\", y_pred_test, y_test)"
   ],
   "metadata": {
    "collapsed": false
   }
  },
  {
   "cell_type": "markdown",
   "source": [
    "#### Tuning"
   ],
   "metadata": {
    "collapsed": false
   }
  },
  {
   "cell_type": "code",
   "execution_count": 56,
   "outputs": [
    {
     "name": "stdout",
     "output_type": "stream",
     "text": [
      "{'n_estimators': [100, 200, 300, 400, 500, 600, 700, 800], 'max_features': [0.025, 0.05, 0.1, 0.2, 0.3, 0.4, 0.5], 'max_depth': [10, 20, 30, 40, 50, 60, 70, 80, 90, 100, 110, None]}\n"
     ]
    }
   ],
   "source": [
    "from sklearn.model_selection import RandomizedSearchCV\n",
    "\n",
    "n_estimators = [int(x) for x in np.linspace(start=100, stop=800, num=8)]\n",
    "max_features = [0.025, 0.05, 0.1, 0.2, 0.3, 0.4, 0.5]\n",
    "max_depth = list(range(10, 111, 10)) + [None]\n",
    "\n",
    "hyper_params = {\n",
    "    \"n_estimators\": n_estimators,\n",
    "    \"max_features\": max_features,\n",
    "    \"max_depth\": max_depth,\n",
    "}\n",
    "\n",
    "print(hyper_params)"
   ],
   "metadata": {
    "collapsed": false
   }
  },
  {
   "cell_type": "code",
   "execution_count": 57,
   "outputs": [
    {
     "name": "stdout",
     "output_type": "stream",
     "text": [
      "Fitting 3 folds for each of 100 candidates, totalling 300 fits\n",
      "[CV] END ...max_depth=70, max_features=0.2, n_estimators=200; total time=   0.5s\n",
      "[CV] END ...max_depth=70, max_features=0.2, n_estimators=200; total time=   0.5s\n",
      "[CV] END ...max_depth=70, max_features=0.2, n_estimators=200; total time=   0.5s\n",
      "[CV] END ...max_depth=30, max_features=0.4, n_estimators=700; total time=   1.7s\n",
      "[CV] END ...max_depth=30, max_features=0.4, n_estimators=700; total time=   1.7s\n",
      "[CV] END ...max_depth=30, max_features=0.4, n_estimators=700; total time=   1.6s\n",
      "[CV] END ...max_depth=90, max_features=0.3, n_estimators=200; total time=   0.4s\n",
      "[CV] END ...max_depth=90, max_features=0.3, n_estimators=200; total time=   0.4s\n",
      "[CV] END ...max_depth=90, max_features=0.3, n_estimators=200; total time=   0.4s\n",
      "[CV] END .max_depth=None, max_features=0.1, n_estimators=800; total time=   1.5s\n",
      "[CV] END .max_depth=None, max_features=0.1, n_estimators=800; total time=   1.6s\n",
      "[CV] END .max_depth=None, max_features=0.1, n_estimators=800; total time=   1.5s\n",
      "[CV] END ...max_depth=50, max_features=0.5, n_estimators=400; total time=   0.8s\n",
      "[CV] END ...max_depth=50, max_features=0.5, n_estimators=400; total time=   0.7s\n",
      "[CV] END ...max_depth=50, max_features=0.5, n_estimators=400; total time=   0.8s\n",
      "[CV] END ...max_depth=70, max_features=0.2, n_estimators=300; total time=   0.8s\n",
      "[CV] END ...max_depth=70, max_features=0.2, n_estimators=300; total time=   0.9s\n",
      "[CV] END ...max_depth=70, max_features=0.2, n_estimators=300; total time=   0.6s\n",
      "[CV] END ...max_depth=60, max_features=0.2, n_estimators=700; total time=   1.5s\n",
      "[CV] END ...max_depth=60, max_features=0.2, n_estimators=700; total time=   1.3s\n",
      "[CV] END ...max_depth=60, max_features=0.2, n_estimators=700; total time=   1.4s\n",
      "[CV] END ...max_depth=40, max_features=0.2, n_estimators=800; total time=   1.5s\n",
      "[CV] END ...max_depth=40, max_features=0.2, n_estimators=800; total time=   1.5s\n",
      "[CV] END ...max_depth=40, max_features=0.2, n_estimators=800; total time=   1.4s\n",
      "[CV] END ..max_depth=100, max_features=0.4, n_estimators=100; total time=   0.2s\n",
      "[CV] END ..max_depth=100, max_features=0.4, n_estimators=100; total time=   0.2s\n",
      "[CV] END ..max_depth=100, max_features=0.4, n_estimators=100; total time=   0.2s\n",
      "[CV] END ...max_depth=20, max_features=0.3, n_estimators=300; total time=   0.7s\n",
      "[CV] END ...max_depth=20, max_features=0.3, n_estimators=300; total time=   0.7s\n",
      "[CV] END ...max_depth=20, max_features=0.3, n_estimators=300; total time=   0.8s\n",
      "[CV] END ...max_depth=20, max_features=0.2, n_estimators=200; total time=   0.4s\n",
      "[CV] END ...max_depth=20, max_features=0.2, n_estimators=200; total time=   0.4s\n",
      "[CV] END ...max_depth=20, max_features=0.2, n_estimators=200; total time=   0.4s\n",
      "[CV] END ...max_depth=50, max_features=0.4, n_estimators=100; total time=   0.2s\n",
      "[CV] END ...max_depth=50, max_features=0.4, n_estimators=100; total time=   0.3s\n",
      "[CV] END ...max_depth=50, max_features=0.4, n_estimators=100; total time=   0.2s\n",
      "[CV] END ...max_depth=70, max_features=0.1, n_estimators=300; total time=   0.7s\n",
      "[CV] END ...max_depth=70, max_features=0.1, n_estimators=300; total time=   0.7s\n",
      "[CV] END ...max_depth=70, max_features=0.1, n_estimators=300; total time=   0.6s\n",
      "[CV] END ...max_depth=40, max_features=0.5, n_estimators=600; total time=   1.3s\n",
      "[CV] END ...max_depth=40, max_features=0.5, n_estimators=600; total time=   1.3s\n",
      "[CV] END ...max_depth=40, max_features=0.5, n_estimators=600; total time=   1.3s\n",
      "[CV] END ...max_depth=40, max_features=0.4, n_estimators=400; total time=   0.9s\n",
      "[CV] END ...max_depth=40, max_features=0.4, n_estimators=400; total time=   0.7s\n",
      "[CV] END ...max_depth=40, max_features=0.4, n_estimators=400; total time=   0.8s\n",
      "[CV] END .max_depth=20, max_features=0.025, n_estimators=800; total time=   1.4s\n",
      "[CV] END .max_depth=20, max_features=0.025, n_estimators=800; total time=   1.4s\n",
      "[CV] END .max_depth=20, max_features=0.025, n_estimators=800; total time=   1.5s\n",
      "[CV] END ...max_depth=10, max_features=0.5, n_estimators=700; total time=   1.5s\n",
      "[CV] END ...max_depth=10, max_features=0.5, n_estimators=700; total time=   1.6s\n",
      "[CV] END ...max_depth=10, max_features=0.5, n_estimators=700; total time=   1.5s\n",
      "[CV] END ..max_depth=110, max_features=0.4, n_estimators=300; total time=   0.6s\n",
      "[CV] END ..max_depth=110, max_features=0.4, n_estimators=300; total time=   0.7s\n",
      "[CV] END ..max_depth=110, max_features=0.4, n_estimators=300; total time=   0.7s\n",
      "[CV] END ...max_depth=60, max_features=0.1, n_estimators=400; total time=   0.7s\n",
      "[CV] END ...max_depth=60, max_features=0.1, n_estimators=400; total time=   0.7s\n",
      "[CV] END ...max_depth=60, max_features=0.1, n_estimators=400; total time=   0.8s\n",
      "[CV] END ...max_depth=30, max_features=0.4, n_estimators=400; total time=   0.8s\n",
      "[CV] END ...max_depth=30, max_features=0.4, n_estimators=400; total time=   0.8s\n",
      "[CV] END ...max_depth=30, max_features=0.4, n_estimators=400; total time=   0.7s\n",
      "[CV] END ...max_depth=20, max_features=0.5, n_estimators=600; total time=   1.3s\n",
      "[CV] END ...max_depth=20, max_features=0.5, n_estimators=600; total time=   1.2s\n",
      "[CV] END ...max_depth=20, max_features=0.5, n_estimators=600; total time=   1.3s\n",
      "[CV] END ..max_depth=110, max_features=0.5, n_estimators=400; total time=   0.8s\n",
      "[CV] END ..max_depth=110, max_features=0.5, n_estimators=400; total time=   0.8s\n",
      "[CV] END ..max_depth=110, max_features=0.5, n_estimators=400; total time=   0.8s\n",
      "[CV] END ...max_depth=70, max_features=0.2, n_estimators=100; total time=   0.2s\n",
      "[CV] END ...max_depth=70, max_features=0.2, n_estimators=100; total time=   0.2s\n",
      "[CV] END ...max_depth=70, max_features=0.2, n_estimators=100; total time=   0.2s\n",
      "[CV] END ...max_depth=60, max_features=0.5, n_estimators=700; total time=   1.6s\n",
      "[CV] END ...max_depth=60, max_features=0.5, n_estimators=700; total time=   1.4s\n",
      "[CV] END ...max_depth=60, max_features=0.5, n_estimators=700; total time=   1.6s\n",
      "[CV] END .max_depth=None, max_features=0.1, n_estimators=400; total time=   0.9s\n",
      "[CV] END .max_depth=None, max_features=0.1, n_estimators=400; total time=   0.9s\n",
      "[CV] END .max_depth=None, max_features=0.1, n_estimators=400; total time=   1.0s\n",
      "[CV] END ...max_depth=90, max_features=0.2, n_estimators=800; total time=   1.8s\n",
      "[CV] END ...max_depth=90, max_features=0.2, n_estimators=800; total time=   1.3s\n",
      "[CV] END ...max_depth=90, max_features=0.2, n_estimators=800; total time=   1.5s\n",
      "[CV] END ...max_depth=50, max_features=0.3, n_estimators=100; total time=   0.1s\n",
      "[CV] END ...max_depth=50, max_features=0.3, n_estimators=100; total time=   0.2s\n",
      "[CV] END ...max_depth=50, max_features=0.3, n_estimators=100; total time=   0.2s\n",
      "[CV] END .max_depth=None, max_features=0.3, n_estimators=500; total time=   0.8s\n",
      "[CV] END .max_depth=None, max_features=0.3, n_estimators=500; total time=   0.8s\n",
      "[CV] END .max_depth=None, max_features=0.3, n_estimators=500; total time=   0.8s\n",
      "[CV] END ...max_depth=80, max_features=0.5, n_estimators=400; total time=   0.6s\n",
      "[CV] END ...max_depth=80, max_features=0.5, n_estimators=400; total time=   0.6s\n",
      "[CV] END ...max_depth=80, max_features=0.5, n_estimators=400; total time=   0.7s\n",
      "[CV] END ...max_depth=20, max_features=0.1, n_estimators=500; total time=   0.6s\n",
      "[CV] END ...max_depth=20, max_features=0.1, n_estimators=500; total time=   0.9s\n",
      "[CV] END ...max_depth=20, max_features=0.1, n_estimators=500; total time=   0.7s\n",
      "[CV] END ...max_depth=80, max_features=0.4, n_estimators=500; total time=   0.7s\n",
      "[CV] END ...max_depth=80, max_features=0.4, n_estimators=500; total time=   0.8s\n",
      "[CV] END ...max_depth=80, max_features=0.4, n_estimators=500; total time=   0.7s\n",
      "[CV] END ..max_depth=110, max_features=0.4, n_estimators=500; total time=   0.8s\n",
      "[CV] END ..max_depth=110, max_features=0.4, n_estimators=500; total time=   0.7s\n",
      "[CV] END ..max_depth=110, max_features=0.4, n_estimators=500; total time=   0.7s\n",
      "[CV] END .max_depth=None, max_features=0.2, n_estimators=300; total time=   0.5s\n",
      "[CV] END .max_depth=None, max_features=0.2, n_estimators=300; total time=   0.5s\n",
      "[CV] END .max_depth=None, max_features=0.2, n_estimators=300; total time=   0.5s\n",
      "[CV] END ...max_depth=30, max_features=0.1, n_estimators=800; total time=   0.9s\n",
      "[CV] END ...max_depth=30, max_features=0.1, n_estimators=800; total time=   1.0s\n",
      "[CV] END ...max_depth=30, max_features=0.1, n_estimators=800; total time=   1.0s\n",
      "[CV] END ...max_depth=30, max_features=0.2, n_estimators=100; total time=   0.2s\n",
      "[CV] END ...max_depth=30, max_features=0.2, n_estimators=100; total time=   0.2s\n",
      "[CV] END ...max_depth=30, max_features=0.2, n_estimators=100; total time=   0.1s\n",
      "[CV] END ...max_depth=20, max_features=0.4, n_estimators=600; total time=   1.0s\n",
      "[CV] END ...max_depth=20, max_features=0.4, n_estimators=600; total time=   0.8s\n",
      "[CV] END ...max_depth=20, max_features=0.4, n_estimators=600; total time=   1.1s\n",
      "[CV] END ...max_depth=20, max_features=0.1, n_estimators=100; total time=   0.2s\n",
      "[CV] END ...max_depth=20, max_features=0.1, n_estimators=100; total time=   0.2s\n",
      "[CV] END ...max_depth=20, max_features=0.1, n_estimators=100; total time=   0.2s\n",
      "[CV] END ..max_depth=60, max_features=0.05, n_estimators=200; total time=   0.3s\n",
      "[CV] END ..max_depth=60, max_features=0.05, n_estimators=200; total time=   0.4s\n",
      "[CV] END ..max_depth=60, max_features=0.05, n_estimators=200; total time=   0.4s\n",
      "[CV] END ..max_depth=10, max_features=0.05, n_estimators=300; total time=   0.6s\n",
      "[CV] END ..max_depth=10, max_features=0.05, n_estimators=300; total time=   0.6s\n",
      "[CV] END ..max_depth=10, max_features=0.05, n_estimators=300; total time=   0.6s\n",
      "[CV] END .max_depth=None, max_features=0.4, n_estimators=400; total time=   0.8s\n",
      "[CV] END .max_depth=None, max_features=0.4, n_estimators=400; total time=   0.5s\n",
      "[CV] END .max_depth=None, max_features=0.4, n_estimators=400; total time=   0.7s\n",
      "[CV] END ..max_depth=110, max_features=0.1, n_estimators=500; total time=   0.8s\n",
      "[CV] END ..max_depth=110, max_features=0.1, n_estimators=500; total time=   0.7s\n",
      "[CV] END ..max_depth=110, max_features=0.1, n_estimators=500; total time=   0.8s\n",
      "[CV] END ...max_depth=60, max_features=0.3, n_estimators=800; total time=   1.3s\n",
      "[CV] END ...max_depth=60, max_features=0.3, n_estimators=800; total time=   1.2s\n",
      "[CV] END ...max_depth=60, max_features=0.3, n_estimators=800; total time=   1.1s\n",
      "[CV] END ...max_depth=10, max_features=0.2, n_estimators=800; total time=   1.3s\n",
      "[CV] END ...max_depth=10, max_features=0.2, n_estimators=800; total time=   1.2s\n",
      "[CV] END ...max_depth=10, max_features=0.2, n_estimators=800; total time=   1.0s\n",
      "[CV] END .max_depth=80, max_features=0.025, n_estimators=200; total time=   0.3s\n",
      "[CV] END .max_depth=80, max_features=0.025, n_estimators=200; total time=   0.4s\n",
      "[CV] END .max_depth=80, max_features=0.025, n_estimators=200; total time=   0.4s\n",
      "[CV] END ..max_depth=100, max_features=0.5, n_estimators=700; total time=   1.1s\n",
      "[CV] END ..max_depth=100, max_features=0.5, n_estimators=700; total time=   0.8s\n",
      "[CV] END ..max_depth=100, max_features=0.5, n_estimators=700; total time=   0.7s\n",
      "[CV] END ...max_depth=90, max_features=0.1, n_estimators=400; total time=   0.4s\n",
      "[CV] END ...max_depth=90, max_features=0.1, n_estimators=400; total time=   0.6s\n",
      "[CV] END ...max_depth=90, max_features=0.1, n_estimators=400; total time=   0.5s\n",
      "[CV] END max_depth=None, max_features=0.05, n_estimators=300; total time=   0.3s\n",
      "[CV] END max_depth=None, max_features=0.05, n_estimators=300; total time=   0.5s\n",
      "[CV] END max_depth=None, max_features=0.05, n_estimators=300; total time=   0.3s\n",
      "[CV] END .max_depth=30, max_features=0.025, n_estimators=700; total time=   0.8s\n",
      "[CV] END .max_depth=30, max_features=0.025, n_estimators=700; total time=   0.9s\n",
      "[CV] END .max_depth=30, max_features=0.025, n_estimators=700; total time=   0.9s\n",
      "[CV] END ...max_depth=10, max_features=0.5, n_estimators=800; total time=   1.1s\n",
      "[CV] END ...max_depth=10, max_features=0.5, n_estimators=800; total time=   0.9s\n",
      "[CV] END ...max_depth=10, max_features=0.5, n_estimators=800; total time=   0.8s\n",
      "[CV] END ...max_depth=50, max_features=0.3, n_estimators=200; total time=   0.2s\n",
      "[CV] END ...max_depth=50, max_features=0.3, n_estimators=200; total time=   0.3s\n",
      "[CV] END ...max_depth=50, max_features=0.3, n_estimators=200; total time=   0.2s\n",
      "[CV] END ..max_depth=110, max_features=0.3, n_estimators=500; total time=   0.6s\n",
      "[CV] END ..max_depth=110, max_features=0.3, n_estimators=500; total time=   0.6s\n",
      "[CV] END ..max_depth=110, max_features=0.3, n_estimators=500; total time=   0.6s\n",
      "[CV] END ..max_depth=70, max_features=0.05, n_estimators=300; total time=   0.3s\n",
      "[CV] END ..max_depth=70, max_features=0.05, n_estimators=300; total time=   0.5s\n",
      "[CV] END ..max_depth=70, max_features=0.05, n_estimators=300; total time=   0.3s\n",
      "[CV] END ...max_depth=20, max_features=0.1, n_estimators=600; total time=   0.7s\n",
      "[CV] END ...max_depth=20, max_features=0.1, n_estimators=600; total time=   0.7s\n",
      "[CV] END ...max_depth=20, max_features=0.1, n_estimators=600; total time=   0.7s\n",
      "[CV] END .max_depth=110, max_features=0.05, n_estimators=500; total time=   0.7s\n",
      "[CV] END .max_depth=110, max_features=0.05, n_estimators=500; total time=   0.5s\n",
      "[CV] END .max_depth=110, max_features=0.05, n_estimators=500; total time=   0.4s\n",
      "[CV] END ...max_depth=20, max_features=0.1, n_estimators=700; total time=   1.0s\n",
      "[CV] END ...max_depth=20, max_features=0.1, n_estimators=700; total time=   0.8s\n",
      "[CV] END ...max_depth=20, max_features=0.1, n_estimators=700; total time=   0.8s\n",
      "[CV] END .max_depth=None, max_features=0.2, n_estimators=200; total time=   0.2s\n",
      "[CV] END .max_depth=None, max_features=0.2, n_estimators=200; total time=   0.2s\n",
      "[CV] END .max_depth=None, max_features=0.2, n_estimators=200; total time=   0.2s\n",
      "[CV] END ..max_depth=100, max_features=0.5, n_estimators=600; total time=   0.7s\n",
      "[CV] END ..max_depth=100, max_features=0.5, n_estimators=600; total time=   0.7s\n",
      "[CV] END ..max_depth=100, max_features=0.5, n_estimators=600; total time=   0.7s\n",
      "[CV] END .max_depth=70, max_features=0.025, n_estimators=100; total time=   0.1s\n",
      "[CV] END .max_depth=70, max_features=0.025, n_estimators=100; total time=   0.1s\n",
      "[CV] END .max_depth=70, max_features=0.025, n_estimators=100; total time=   0.2s\n",
      "[CV] END ...max_depth=70, max_features=0.1, n_estimators=100; total time=   0.1s\n",
      "[CV] END ...max_depth=70, max_features=0.1, n_estimators=100; total time=   0.2s\n",
      "[CV] END ...max_depth=70, max_features=0.1, n_estimators=100; total time=   0.2s\n",
      "[CV] END ..max_depth=40, max_features=0.05, n_estimators=600; total time=   1.2s\n",
      "[CV] END ..max_depth=40, max_features=0.05, n_estimators=600; total time=   1.9s\n",
      "[CV] END ..max_depth=40, max_features=0.05, n_estimators=600; total time=   1.4s\n",
      "[CV] END ...max_depth=30, max_features=0.5, n_estimators=500; total time=   1.2s\n",
      "[CV] END ...max_depth=30, max_features=0.5, n_estimators=500; total time=   1.4s\n",
      "[CV] END ...max_depth=30, max_features=0.5, n_estimators=500; total time=   0.9s\n",
      "[CV] END ..max_depth=30, max_features=0.05, n_estimators=100; total time=   0.2s\n",
      "[CV] END ..max_depth=30, max_features=0.05, n_estimators=100; total time=   0.3s\n",
      "[CV] END ..max_depth=30, max_features=0.05, n_estimators=100; total time=   0.3s\n",
      "[CV] END .max_depth=10, max_features=0.025, n_estimators=300; total time=   0.7s\n",
      "[CV] END .max_depth=10, max_features=0.025, n_estimators=300; total time=   0.7s\n",
      "[CV] END .max_depth=10, max_features=0.025, n_estimators=300; total time=   0.7s\n",
      "[CV] END ...max_depth=30, max_features=0.5, n_estimators=600; total time=   1.5s\n",
      "[CV] END ...max_depth=30, max_features=0.5, n_estimators=600; total time=   1.6s\n",
      "[CV] END ...max_depth=30, max_features=0.5, n_estimators=600; total time=   1.5s\n",
      "[CV] END ...max_depth=90, max_features=0.3, n_estimators=300; total time=   0.8s\n",
      "[CV] END ...max_depth=90, max_features=0.3, n_estimators=300; total time=   0.8s\n",
      "[CV] END ...max_depth=90, max_features=0.3, n_estimators=300; total time=   0.7s\n",
      "[CV] END .max_depth=None, max_features=0.5, n_estimators=400; total time=   0.8s\n",
      "[CV] END .max_depth=None, max_features=0.5, n_estimators=400; total time=   0.8s\n",
      "[CV] END .max_depth=None, max_features=0.5, n_estimators=400; total time=   0.8s\n",
      "[CV] END max_depth=None, max_features=0.05, n_estimators=600; total time=   1.3s\n",
      "[CV] END max_depth=None, max_features=0.05, n_estimators=600; total time=   1.5s\n",
      "[CV] END max_depth=None, max_features=0.05, n_estimators=600; total time=   1.9s\n",
      "[CV] END ...max_depth=60, max_features=0.1, n_estimators=500; total time=   1.1s\n",
      "[CV] END ...max_depth=60, max_features=0.1, n_estimators=500; total time=   1.0s\n",
      "[CV] END ...max_depth=60, max_features=0.1, n_estimators=500; total time=   1.0s\n",
      "[CV] END .max_depth=20, max_features=0.025, n_estimators=500; total time=   0.9s\n",
      "[CV] END .max_depth=20, max_features=0.025, n_estimators=500; total time=   0.9s\n",
      "[CV] END .max_depth=20, max_features=0.025, n_estimators=500; total time=   1.1s\n",
      "[CV] END ...max_depth=30, max_features=0.1, n_estimators=600; total time=   1.5s\n",
      "[CV] END ...max_depth=30, max_features=0.1, n_estimators=600; total time=   1.3s\n",
      "[CV] END ...max_depth=30, max_features=0.1, n_estimators=600; total time=   1.3s\n",
      "[CV] END ...max_depth=10, max_features=0.2, n_estimators=700; total time=   1.6s\n",
      "[CV] END ...max_depth=10, max_features=0.2, n_estimators=700; total time=   1.4s\n",
      "[CV] END ...max_depth=10, max_features=0.2, n_estimators=700; total time=   1.5s\n",
      "[CV] END ..max_depth=20, max_features=0.05, n_estimators=600; total time=   1.6s\n",
      "[CV] END ..max_depth=20, max_features=0.05, n_estimators=600; total time=   1.4s\n",
      "[CV] END ..max_depth=20, max_features=0.05, n_estimators=600; total time=   1.4s\n",
      "[CV] END ..max_depth=60, max_features=0.05, n_estimators=500; total time=   1.0s\n",
      "[CV] END ..max_depth=60, max_features=0.05, n_estimators=500; total time=   0.9s\n",
      "[CV] END ..max_depth=60, max_features=0.05, n_estimators=500; total time=   0.9s\n",
      "[CV] END .max_depth=80, max_features=0.025, n_estimators=400; total time=   0.8s\n",
      "[CV] END .max_depth=80, max_features=0.025, n_estimators=400; total time=   1.0s\n",
      "[CV] END .max_depth=80, max_features=0.025, n_estimators=400; total time=   1.0s\n",
      "[CV] END ...max_depth=10, max_features=0.4, n_estimators=500; total time=   1.1s\n",
      "[CV] END ...max_depth=10, max_features=0.4, n_estimators=500; total time=   1.1s\n",
      "[CV] END ...max_depth=10, max_features=0.4, n_estimators=500; total time=   1.0s\n",
      "[CV] END ..max_depth=20, max_features=0.05, n_estimators=700; total time=   2.0s\n",
      "[CV] END ..max_depth=20, max_features=0.05, n_estimators=700; total time=   1.6s\n",
      "[CV] END ..max_depth=20, max_features=0.05, n_estimators=700; total time=   1.9s\n",
      "[CV] END .max_depth=70, max_features=0.025, n_estimators=300; total time=   0.7s\n",
      "[CV] END .max_depth=70, max_features=0.025, n_estimators=300; total time=   0.7s\n",
      "[CV] END .max_depth=70, max_features=0.025, n_estimators=300; total time=   0.7s\n",
      "[CV] END ..max_depth=40, max_features=0.05, n_estimators=700; total time=   1.7s\n",
      "[CV] END ..max_depth=40, max_features=0.05, n_estimators=700; total time=   1.5s\n",
      "[CV] END ..max_depth=40, max_features=0.05, n_estimators=700; total time=   1.5s\n",
      "[CV] END ...max_depth=90, max_features=0.5, n_estimators=500; total time=   1.1s\n",
      "[CV] END ...max_depth=90, max_features=0.5, n_estimators=500; total time=   1.0s\n",
      "[CV] END ...max_depth=90, max_features=0.5, n_estimators=500; total time=   0.9s\n",
      "[CV] END .max_depth=None, max_features=0.4, n_estimators=300; total time=   0.7s\n",
      "[CV] END .max_depth=None, max_features=0.4, n_estimators=300; total time=   0.7s\n",
      "[CV] END .max_depth=None, max_features=0.4, n_estimators=300; total time=   0.9s\n",
      "[CV] END .max_depth=90, max_features=0.025, n_estimators=500; total time=   1.1s\n",
      "[CV] END .max_depth=90, max_features=0.025, n_estimators=500; total time=   1.0s\n",
      "[CV] END .max_depth=90, max_features=0.025, n_estimators=500; total time=   1.0s\n",
      "[CV] END ..max_depth=40, max_features=0.05, n_estimators=100; total time=   0.2s\n",
      "[CV] END ..max_depth=40, max_features=0.05, n_estimators=100; total time=   0.2s\n",
      "[CV] END ..max_depth=40, max_features=0.05, n_estimators=100; total time=   0.3s\n",
      "[CV] END ..max_depth=100, max_features=0.3, n_estimators=300; total time=   0.8s\n",
      "[CV] END ..max_depth=100, max_features=0.3, n_estimators=300; total time=   0.8s\n",
      "[CV] END ..max_depth=100, max_features=0.3, n_estimators=300; total time=   0.8s\n",
      "[CV] END ..max_depth=20, max_features=0.05, n_estimators=200; total time=   0.4s\n",
      "[CV] END ..max_depth=20, max_features=0.05, n_estimators=200; total time=   0.6s\n",
      "[CV] END ..max_depth=20, max_features=0.05, n_estimators=200; total time=   0.5s\n",
      "[CV] END max_depth=None, max_features=0.025, n_estimators=400; total time=   1.1s\n",
      "[CV] END max_depth=None, max_features=0.025, n_estimators=400; total time=   0.8s\n",
      "[CV] END max_depth=None, max_features=0.025, n_estimators=400; total time=   0.7s\n",
      "[CV] END ...max_depth=10, max_features=0.5, n_estimators=200; total time=   0.4s\n",
      "[CV] END ...max_depth=10, max_features=0.5, n_estimators=200; total time=   0.5s\n",
      "[CV] END ...max_depth=10, max_features=0.5, n_estimators=200; total time=   0.4s\n",
      "[CV] END ...max_depth=30, max_features=0.3, n_estimators=500; total time=   0.9s\n",
      "[CV] END ...max_depth=30, max_features=0.3, n_estimators=500; total time=   0.9s\n",
      "[CV] END ...max_depth=30, max_features=0.3, n_estimators=500; total time=   0.9s\n",
      "[CV] END ...max_depth=70, max_features=0.2, n_estimators=800; total time=   1.4s\n",
      "[CV] END ...max_depth=70, max_features=0.2, n_estimators=800; total time=   1.5s\n",
      "[CV] END ...max_depth=70, max_features=0.2, n_estimators=800; total time=   1.4s\n",
      "[CV] END ...max_depth=10, max_features=0.3, n_estimators=800; total time=   1.5s\n",
      "[CV] END ...max_depth=10, max_features=0.3, n_estimators=800; total time=   1.6s\n",
      "[CV] END ...max_depth=10, max_features=0.3, n_estimators=800; total time=   1.8s\n",
      "[CV] END .max_depth=100, max_features=0.05, n_estimators=100; total time=   0.3s\n",
      "[CV] END .max_depth=100, max_features=0.05, n_estimators=100; total time=   0.3s\n",
      "[CV] END .max_depth=100, max_features=0.05, n_estimators=100; total time=   0.2s\n",
      "[CV] END ...max_depth=60, max_features=0.2, n_estimators=300; total time=   0.7s\n",
      "[CV] END ...max_depth=60, max_features=0.2, n_estimators=300; total time=   0.7s\n",
      "[CV] END ...max_depth=60, max_features=0.2, n_estimators=300; total time=   0.7s\n",
      "[CV] END .max_depth=10, max_features=0.025, n_estimators=700; total time=   1.4s\n",
      "[CV] END .max_depth=10, max_features=0.025, n_estimators=700; total time=   1.3s\n",
      "[CV] END .max_depth=10, max_features=0.025, n_estimators=700; total time=   1.4s\n",
      "[CV] END max_depth=None, max_features=0.05, n_estimators=100; total time=   0.2s\n",
      "[CV] END max_depth=None, max_features=0.05, n_estimators=100; total time=   0.2s\n",
      "[CV] END max_depth=None, max_features=0.05, n_estimators=100; total time=   0.2s\n",
      "[CV] END .max_depth=None, max_features=0.5, n_estimators=500; total time=   1.0s\n",
      "[CV] END .max_depth=None, max_features=0.5, n_estimators=500; total time=   0.9s\n",
      "[CV] END .max_depth=None, max_features=0.5, n_estimators=500; total time=   1.0s\n",
      "[CV] END ...max_depth=40, max_features=0.4, n_estimators=300; total time=   0.7s\n",
      "[CV] END ...max_depth=40, max_features=0.4, n_estimators=300; total time=   0.6s\n",
      "[CV] END ...max_depth=40, max_features=0.4, n_estimators=300; total time=   0.7s\n",
      "[CV] END ...max_depth=80, max_features=0.4, n_estimators=600; total time=   1.3s\n",
      "[CV] END ...max_depth=80, max_features=0.4, n_estimators=600; total time=   1.2s\n",
      "[CV] END ...max_depth=80, max_features=0.4, n_estimators=600; total time=   1.3s\n",
      "[CV] END ...max_depth=30, max_features=0.1, n_estimators=400; total time=   0.7s\n",
      "[CV] END ...max_depth=30, max_features=0.1, n_estimators=400; total time=   0.7s\n",
      "[CV] END ...max_depth=30, max_features=0.1, n_estimators=400; total time=   0.7s\n",
      "[CV] END ...max_depth=60, max_features=0.5, n_estimators=400; total time=   0.8s\n",
      "[CV] END ...max_depth=60, max_features=0.5, n_estimators=400; total time=   0.8s\n",
      "[CV] END ...max_depth=60, max_features=0.5, n_estimators=400; total time=   0.8s\n",
      "[CV] END ...max_depth=60, max_features=0.3, n_estimators=700; total time=   1.4s\n",
      "[CV] END ...max_depth=60, max_features=0.3, n_estimators=700; total time=   1.4s\n",
      "[CV] END ...max_depth=60, max_features=0.3, n_estimators=700; total time=   1.4s\n",
      "[CV] END max_depth=None, max_features=0.05, n_estimators=700; total time=   1.4s\n",
      "[CV] END max_depth=None, max_features=0.05, n_estimators=700; total time=   1.3s\n",
      "[CV] END max_depth=None, max_features=0.05, n_estimators=700; total time=   1.3s\n"
     ]
    },
    {
     "data": {
      "text/plain": "{'n_estimators': 100, 'max_features': 0.4, 'max_depth': 100}"
     },
     "execution_count": 57,
     "metadata": {},
     "output_type": "execute_result"
    }
   ],
   "source": [
    "rf = RandomForestRegressor(random_state=0, n_jobs=-1)\n",
    "\n",
    "rf_random = RandomizedSearchCV(\n",
    "    estimator=rf,\n",
    "    param_distributions=hyper_params,\n",
    "    n_iter=100,\n",
    "    scoring=\"neg_mean_absolute_error\",\n",
    "    cv=3,\n",
    "    verbose=2,\n",
    "    random_state=42,\n",
    "    return_train_score=True,\n",
    ")\n",
    "\n",
    "rf_random.fit(X_train, y_train)\n",
    "rf_random.best_params_"
   ],
   "metadata": {
    "collapsed": false
   }
  },
  {
   "cell_type": "code",
   "execution_count": 58,
   "outputs": [
    {
     "name": "stdout",
     "output_type": "stream",
     "text": [
      "RMSE train: 0.15\n",
      "RMSE test: 0.49\n",
      "MSE test: 0.25\n",
      "\n"
     ]
    },
    {
     "data": {
      "text/plain": "(0.4949844331300691, 0.24500958904109585)"
     },
     "execution_count": 58,
     "metadata": {},
     "output_type": "execute_result"
    }
   ],
   "source": [
    "assess_regression_model(rf_random, X_train, X_test, y_train, y_test)"
   ],
   "metadata": {
    "collapsed": false
   }
  },
  {
   "cell_type": "code",
   "execution_count": 59,
   "outputs": [
    {
     "name": "stdout",
     "output_type": "stream",
     "text": [
      "Normal:\n",
      "MSE: 0.25\n",
      "RMSE: 0.49\n",
      "\n",
      "Round type: round\n",
      "MSE: 0.28\n",
      "RMSE: 0.53\n",
      "\n",
      "Round type: 0.33\n",
      "MSE: 0.27\n",
      "RMSE: 0.52\n",
      "\n",
      "Round type: 0.45\n",
      "MSE: 0.25\n",
      "RMSE: 0.50\n",
      "\n"
     ]
    }
   ],
   "source": [
    "predict = rf_random.predict(X_test)\n",
    "check_round_predictions([\"round\", 0.33, 0.45], y_test, predict)"
   ],
   "metadata": {
    "collapsed": false
   }
  },
  {
   "cell_type": "markdown",
   "source": [
    "### Attempt to decrease overfitting\n",
    "Change max_depth to 8"
   ],
   "metadata": {
    "collapsed": false
   }
  },
  {
   "cell_type": "code",
   "execution_count": 60,
   "outputs": [
    {
     "name": "stdout",
     "output_type": "stream",
     "text": [
      "RMSE train: 0.19\n",
      "RMSE test: 0.51\n",
      "MSE test: 0.26\n",
      "\n"
     ]
    },
    {
     "data": {
      "text/plain": "(0.512942266071729, 0.26310976832280036)"
     },
     "execution_count": 60,
     "metadata": {},
     "output_type": "execute_result"
    }
   ],
   "source": [
    "rf = RandomForestRegressor(\n",
    "    random_state=0, n_jobs=-1, n_estimators=600, max_features=0.5, max_depth=8\n",
    ")\n",
    "rf.fit(X_train, y_train)\n",
    "assess_regression_model(rf, X_train, X_test, y_train, y_test)"
   ],
   "metadata": {
    "collapsed": false
   }
  },
  {
   "cell_type": "code",
   "execution_count": 61,
   "outputs": [
    {
     "name": "stdout",
     "output_type": "stream",
     "text": [
      "Normal:\n",
      "MSE: 0.26\n",
      "RMSE: 0.51\n",
      "\n",
      "Round type: round\n",
      "MSE: 0.32\n",
      "RMSE: 0.56\n",
      "\n",
      "Round type: 0.33\n",
      "MSE: 0.29\n",
      "RMSE: 0.54\n",
      "\n",
      "Round type: 0.45\n",
      "MSE: 0.32\n",
      "RMSE: 0.56\n",
      "\n"
     ]
    }
   ],
   "source": [
    "predict = rf.predict(X_test)\n",
    "check_round_predictions([\"round\", 0.33, 0.45], y_test, predict)"
   ],
   "metadata": {
    "collapsed": false
   }
  },
  {
   "cell_type": "code",
   "execution_count": 62,
   "outputs": [
    {
     "data": {
      "text/plain": "<Figure size 640x480 with 2 Axes>",
      "image/png": "[encoded data removed]"
     },
     "metadata": {},
     "output_type": "display_data"
    }
   ],
   "source": [
    "plot_confusion_matrix(\"round\", predict, y_test)"
   ],
   "metadata": {
    "collapsed": false
   }
  },
  {
   "cell_type": "code",
   "execution_count": 63,
   "outputs": [
    {
     "data": {
      "text/plain": "<Figure size 640x480 with 2 Axes>",
      "image/png": "[encoded data removed]"
     },
     "metadata": {},
     "output_type": "display_data"
    }
   ],
   "source": [
    "plot_confusion_matrix(0.33, predict, y_test)"
   ],
   "metadata": {
    "collapsed": false
   }
  },
  {
   "cell_type": "markdown",
   "source": [
    "### Random split"
   ],
   "metadata": {
    "collapsed": false
   }
  },
  {
   "cell_type": "code",
   "execution_count": 64,
   "outputs": [
    {
     "data": {
      "text/plain": "RandomForestRegressor(max_depth=2, n_estimators=500, n_jobs=-1, random_state=0)",
      "text/html": "<style>#sk-container-id-4 {color: black;background-color: white;}#sk-container-id-4 pre{padding: 0;}#sk-container-id-4 div.sk-toggleable {background-color: white;}#sk-container-id-4 label.sk-toggleable__label {cursor: pointer;display: block;width: 100%;margin-bottom: 0;padding: 0.3em;box-sizing: border-box;text-align: center;}#sk-container-id-4 label.sk-toggleable__label-arrow:before {content: \"▸\";float: left;margin-right: 0.25em;color: #696969;}#sk-container-id-4 label.sk-toggleable__label-arrow:hover:before {color: black;}#sk-container-id-4 div.sk-estimator:hover label.sk-toggleable__label-arrow:before {color: black;}#sk-container-id-4 div.sk-toggleable__content {max-height: 0;max-width: 0;overflow: hidden;text-align: left;background-color: #f0f8ff;}#sk-container-id-4 div.sk-toggleable__content pre {margin: 0.2em;color: black;border-radius: 0.25em;background-color: #f0f8ff;}#sk-container-id-4 input.sk-toggleable__control:checked~div.sk-toggleable__content {max-height: 200px;max-width: 100%;overflow: auto;}#sk-container-id-4 input.sk-toggleable__control:checked~label.sk-toggleable__label-arrow:before {content: \"▾\";}#sk-container-id-4 div.sk-estimator input.sk-toggleable__control:checked~label.sk-toggleable__label {background-color: #d4ebff;}#sk-container-id-4 div.sk-label input.sk-toggleable__control:checked~label.sk-toggleable__label {background-color: #d4ebff;}#sk-container-id-4 input.sk-hidden--visually {border: 0;clip: rect(1px 1px 1px 1px);clip: rect(1px, 1px, 1px, 1px);height: 1px;margin: -1px;overflow: hidden;padding: 0;position: absolute;width: 1px;}#sk-container-id-4 div.sk-estimator {font-family: monospace;background-color: #f0f8ff;border: 1px dotted black;border-radius: 0.25em;box-sizing: border-box;margin-bottom: 0.5em;}#sk-container-id-4 div.sk-estimator:hover {background-color: #d4ebff;}#sk-container-id-4 div.sk-parallel-item::after {content: \"\";width: 100%;border-bottom: 1px solid gray;flex-grow: 1;}#sk-container-id-4 div.sk-label:hover label.sk-toggleable__label {background-color: #d4ebff;}#sk-container-id-4 div.sk-serial::before {content: \"\";position: absolute;border-left: 1px solid gray;box-sizing: border-box;top: 0;bottom: 0;left: 50%;z-index: 0;}#sk-container-id-4 div.sk-serial {display: flex;flex-direction: column;align-items: center;background-color: white;padding-right: 0.2em;padding-left: 0.2em;position: relative;}#sk-container-id-4 div.sk-item {position: relative;z-index: 1;}#sk-container-id-4 div.sk-parallel {display: flex;align-items: stretch;justify-content: center;background-color: white;position: relative;}#sk-container-id-4 div.sk-item::before, #sk-container-id-4 div.sk-parallel-item::before {content: \"\";position: absolute;border-left: 1px solid gray;box-sizing: border-box;top: 0;bottom: 0;left: 50%;z-index: -1;}#sk-container-id-4 div.sk-parallel-item {display: flex;flex-direction: column;z-index: 1;position: relative;background-color: white;}#sk-container-id-4 div.sk-parallel-item:first-child::after {align-self: flex-end;width: 50%;}#sk-container-id-4 div.sk-parallel-item:last-child::after {align-self: flex-start;width: 50%;}#sk-container-id-4 div.sk-parallel-item:only-child::after {width: 0;}#sk-container-id-4 div.sk-dashed-wrapped {border: 1px dashed gray;margin: 0 0.4em 0.5em 0.4em;box-sizing: border-box;padding-bottom: 0.4em;background-color: white;}#sk-container-id-4 div.sk-label label {font-family: monospace;font-weight: bold;display: inline-block;line-height: 1.2em;}#sk-container-id-4 div.sk-label-container {text-align: center;}#sk-container-id-4 div.sk-container {/* jupyter's `normalize.less` sets `[hidden] { display: none; }` but bootstrap.min.css set `[hidden] { display: none !important; }` so we also need the `!important` here to be able to override the default hidden behavior on the sphinx rendered scikit-learn.org. See: https://github.com/scikit-learn/scikit-learn/issues/21755 */display: inline-block !important;position: relative;}#sk-container-id-4 div.sk-text-repr-fallback {display: none;}</style><div id=\"sk-container-id-4\" class=\"sk-top-container\"><div class=\"sk-text-repr-fallback\"><pre>RandomForestRegressor(max_depth=2, n_estimators=500, n_jobs=-1, random_state=0)</pre><b>In a Jupyter environment, please rerun this cell to show the HTML representation or trust the notebook. <br />On GitHub, the HTML representation is unable to render, please try loading this page with nbviewer.org.</b></div><div class=\"sk-container\" hidden><div class=\"sk-item\"><div class=\"sk-estimator sk-toggleable\"><input class=\"sk-toggleable__control sk-hidden--visually\" id=\"sk-estimator-id-4\" type=\"checkbox\" checked><label for=\"sk-estimator-id-4\" class=\"sk-toggleable__label sk-toggleable__label-arrow\">RandomForestRegressor</label><div class=\"sk-toggleable__content\"><pre>RandomForestRegressor(max_depth=2, n_estimators=500, n_jobs=-1, random_state=0)</pre></div></div></div></div></div>"
     },
     "execution_count": 64,
     "metadata": {},
     "output_type": "execute_result"
    }
   ],
   "source": [
    "rf_reg = RandomForestRegressor(n_estimators=500, max_depth=2, random_state=0, n_jobs=-1)\n",
    "rf_reg.fit(X_train_random_split, y_train_random_split)"
   ],
   "metadata": {
    "collapsed": false
   }
  },
  {
   "cell_type": "code",
   "execution_count": 65,
   "outputs": [],
   "source": [
    "y_pred_train = rf_reg.predict(X_train_random_split)\n",
    "y_pred_test = rf_reg.predict(X_test_random_split)"
   ],
   "metadata": {
    "collapsed": false
   }
  },
  {
   "cell_type": "code",
   "execution_count": 66,
   "outputs": [
    {
     "name": "stdout",
     "output_type": "stream",
     "text": [
      "MSE: 1.57\n",
      "RMSE: 1.25\n"
     ]
    }
   ],
   "source": [
    "mse = mean_squared_error(y_test_random_split, y_pred_test)\n",
    "rmse = mean_squared_error(y_test_random_split, y_pred_test, squared=False)\n",
    "\n",
    "print(f\"MSE: {mse:.2f}\")\n",
    "print(f\"RMSE: {rmse:.2f}\")"
   ],
   "metadata": {
    "collapsed": false
   }
  },
  {
   "cell_type": "code",
   "execution_count": 67,
   "outputs": [
    {
     "name": "stdout",
     "output_type": "stream",
     "text": [
      "Normal:\n",
      "MSE: 1.57\n",
      "RMSE: 1.25\n",
      "\n",
      "Round type: round\n",
      "MSE: 1.66\n",
      "RMSE: 1.29\n",
      "\n",
      "Round type: 0.33\n",
      "MSE: 1.68\n",
      "RMSE: 1.30\n",
      "\n",
      "Round type: 0.45\n",
      "MSE: 1.65\n",
      "RMSE: 1.29\n",
      "\n"
     ]
    }
   ],
   "source": [
    "check_round_predictions([\"round\", 0.33, 0.45], y_test_random_split, y_pred_test)"
   ],
   "metadata": {
    "collapsed": false
   }
  },
  {
   "cell_type": "code",
   "execution_count": 68,
   "outputs": [
    {
     "data": {
      "text/plain": "<Figure size 640x480 with 2 Axes>",
      "image/png": "[encoded data removed]"
     },
     "metadata": {},
     "output_type": "display_data"
    }
   ],
   "source": [
    "plot_confusion_matrix(\"round\", y_pred_test, y_test_random_split)"
   ],
   "metadata": {
    "collapsed": false
   }
  },
  {
   "cell_type": "markdown",
   "source": [
    "#### Tuning"
   ],
   "metadata": {
    "collapsed": false
   }
  },
  {
   "cell_type": "code",
   "execution_count": 69,
   "outputs": [
    {
     "data": {
      "text/plain": "{'n_estimators': [100, 200, 300, 400, 500, 600, 700, 800],\n 'max_features': [0.1, 0.2, 0.3, 0.4, 0.5],\n 'max_depth': [10, 20, 30, 40, 50, 60, 70, 80, 90, 100, 110, None]}"
     },
     "execution_count": 69,
     "metadata": {},
     "output_type": "execute_result"
    }
   ],
   "source": [
    "n_estimators = [int(x) for x in np.linspace(start=100, stop=800, num=8)]\n",
    "max_features = [0.1, 0.2, 0.3, 0.4, 0.5]\n",
    "max_depth = list(range(10, 111, 10)) + [None]\n",
    "\n",
    "hyper_params = {\n",
    "    \"n_estimators\": n_estimators,\n",
    "    \"max_features\": max_features,\n",
    "    \"max_depth\": max_depth,\n",
    "}\n",
    "\n",
    "hyper_params"
   ],
   "metadata": {
    "collapsed": false
   }
  },
  {
   "cell_type": "code",
   "execution_count": null,
   "outputs": [
    {
     "name": "stdout",
     "output_type": "stream",
     "text": [
      "Fitting 3 folds for each of 100 candidates, totalling 300 fits\n",
      "[CV] END ...max_depth=20, max_features=0.5, n_estimators=200; total time=   0.4s\n",
      "[CV] END ...max_depth=20, max_features=0.5, n_estimators=200; total time=   0.5s\n",
      "[CV] END ...max_depth=20, max_features=0.5, n_estimators=200; total time=   0.4s\n",
      "[CV] END ..max_depth=110, max_features=0.2, n_estimators=700; total time=   1.5s\n",
      "[CV] END ..max_depth=110, max_features=0.2, n_estimators=700; total time=   1.4s\n",
      "[CV] END ..max_depth=110, max_features=0.2, n_estimators=700; total time=   1.5s\n",
      "[CV] END ..max_depth=100, max_features=0.5, n_estimators=300; total time=   0.7s\n",
      "[CV] END ..max_depth=100, max_features=0.5, n_estimators=300; total time=   0.7s\n",
      "[CV] END ..max_depth=100, max_features=0.5, n_estimators=300; total time=   0.7s\n",
      "[CV] END ...max_depth=70, max_features=0.5, n_estimators=600; total time=   1.4s\n",
      "[CV] END ...max_depth=70, max_features=0.5, n_estimators=600; total time=   1.3s\n",
      "[CV] END ...max_depth=70, max_features=0.5, n_estimators=600; total time=   1.3s\n",
      "[CV] END ..max_depth=100, max_features=0.5, n_estimators=800; total time=   1.7s\n",
      "[CV] END ..max_depth=100, max_features=0.5, n_estimators=800; total time=   1.7s\n",
      "[CV] END ..max_depth=100, max_features=0.5, n_estimators=800; total time=   1.6s\n",
      "[CV] END ...max_depth=50, max_features=0.2, n_estimators=500; total time=   0.9s\n",
      "[CV] END ...max_depth=50, max_features=0.2, n_estimators=500; total time=   0.9s\n",
      "[CV] END ...max_depth=50, max_features=0.2, n_estimators=500; total time=   0.9s\n",
      "[CV] END ...max_depth=70, max_features=0.4, n_estimators=500; total time=   1.0s\n",
      "[CV] END ...max_depth=70, max_features=0.4, n_estimators=500; total time=   1.0s\n",
      "[CV] END ...max_depth=70, max_features=0.4, n_estimators=500; total time=   1.0s\n",
      "[CV] END ..max_depth=100, max_features=0.2, n_estimators=800; total time=   1.4s\n",
      "[CV] END ..max_depth=100, max_features=0.2, n_estimators=800; total time=   1.5s\n",
      "[CV] END ..max_depth=100, max_features=0.2, n_estimators=800; total time=   1.5s\n",
      "[CV] END ...max_depth=20, max_features=0.5, n_estimators=600; total time=   1.6s\n",
      "[CV] END ...max_depth=20, max_features=0.5, n_estimators=600; total time=   1.5s\n",
      "[CV] END ...max_depth=20, max_features=0.5, n_estimators=600; total time=   1.3s\n",
      "[CV] END .max_depth=None, max_features=0.1, n_estimators=300; total time=   0.7s\n",
      "[CV] END .max_depth=None, max_features=0.1, n_estimators=300; total time=   0.6s\n",
      "[CV] END .max_depth=None, max_features=0.1, n_estimators=300; total time=   0.7s\n",
      "[CV] END ...max_depth=10, max_features=0.2, n_estimators=200; total time=   0.4s\n",
      "[CV] END ...max_depth=10, max_features=0.2, n_estimators=200; total time=   0.4s\n",
      "[CV] END ...max_depth=10, max_features=0.2, n_estimators=200; total time=   0.4s\n",
      "[CV] END ...max_depth=80, max_features=0.1, n_estimators=200; total time=   0.4s\n",
      "[CV] END ...max_depth=80, max_features=0.1, n_estimators=200; total time=   0.4s\n",
      "[CV] END ...max_depth=80, max_features=0.1, n_estimators=200; total time=   0.4s\n",
      "[CV] END ..max_depth=110, max_features=0.5, n_estimators=200; total time=   0.5s\n",
      "[CV] END ..max_depth=110, max_features=0.5, n_estimators=200; total time=   0.4s\n",
      "[CV] END ..max_depth=110, max_features=0.5, n_estimators=200; total time=   0.5s\n",
      "[CV] END ...max_depth=80, max_features=0.3, n_estimators=300; total time=   0.6s\n",
      "[CV] END ...max_depth=80, max_features=0.3, n_estimators=300; total time=   0.6s\n",
      "[CV] END ...max_depth=80, max_features=0.3, n_estimators=300; total time=   0.6s\n",
      "[CV] END ...max_depth=10, max_features=0.4, n_estimators=700; total time=   1.5s\n",
      "[CV] END ...max_depth=10, max_features=0.4, n_estimators=700; total time=   1.4s\n",
      "[CV] END ...max_depth=10, max_features=0.4, n_estimators=700; total time=   1.4s\n",
      "[CV] END ...max_depth=30, max_features=0.2, n_estimators=600; total time=   1.2s\n",
      "[CV] END ...max_depth=30, max_features=0.2, n_estimators=600; total time=   1.3s\n",
      "[CV] END ...max_depth=30, max_features=0.2, n_estimators=600; total time=   1.2s\n",
      "[CV] END ...max_depth=20, max_features=0.2, n_estimators=800; total time=   1.5s\n",
      "[CV] END ...max_depth=20, max_features=0.2, n_estimators=800; total time=   1.6s\n",
      "[CV] END ...max_depth=20, max_features=0.2, n_estimators=800; total time=   1.4s\n",
      "[CV] END ..max_depth=110, max_features=0.3, n_estimators=800; total time=   1.5s\n",
      "[CV] END ..max_depth=110, max_features=0.3, n_estimators=800; total time=   1.4s\n",
      "[CV] END ..max_depth=110, max_features=0.3, n_estimators=800; total time=   1.6s\n",
      "[CV] END ...max_depth=10, max_features=0.5, n_estimators=200; total time=   0.4s\n",
      "[CV] END ...max_depth=10, max_features=0.5, n_estimators=200; total time=   0.4s\n",
      "[CV] END ...max_depth=10, max_features=0.5, n_estimators=200; total time=   0.4s\n",
      "[CV] END ...max_depth=60, max_features=0.1, n_estimators=400; total time=   0.8s\n",
      "[CV] END ...max_depth=60, max_features=0.1, n_estimators=400; total time=   0.7s\n",
      "[CV] END ...max_depth=60, max_features=0.1, n_estimators=400; total time=   0.8s\n",
      "[CV] END ...max_depth=50, max_features=0.3, n_estimators=500; total time=   0.9s\n",
      "[CV] END ...max_depth=50, max_features=0.3, n_estimators=500; total time=   0.9s\n",
      "[CV] END ...max_depth=50, max_features=0.3, n_estimators=500; total time=   1.0s\n",
      "[CV] END .max_depth=None, max_features=0.4, n_estimators=200; total time=   0.4s\n",
      "[CV] END .max_depth=None, max_features=0.4, n_estimators=200; total time=   0.5s\n",
      "[CV] END .max_depth=None, max_features=0.4, n_estimators=200; total time=   0.5s\n",
      "[CV] END ...max_depth=20, max_features=0.4, n_estimators=700; total time=   1.4s\n",
      "[CV] END ...max_depth=20, max_features=0.4, n_estimators=700; total time=   1.8s\n",
      "[CV] END ...max_depth=20, max_features=0.4, n_estimators=700; total time=   1.6s\n",
      "[CV] END ...max_depth=70, max_features=0.3, n_estimators=600; total time=   1.2s\n",
      "[CV] END ...max_depth=70, max_features=0.3, n_estimators=600; total time=   1.2s\n",
      "[CV] END ...max_depth=70, max_features=0.3, n_estimators=600; total time=   1.3s\n",
      "[CV] END ...max_depth=30, max_features=0.4, n_estimators=100; total time=   0.2s\n",
      "[CV] END ...max_depth=30, max_features=0.4, n_estimators=100; total time=   0.3s\n",
      "[CV] END ...max_depth=30, max_features=0.4, n_estimators=100; total time=   0.3s\n",
      "[CV] END .max_depth=None, max_features=0.5, n_estimators=300; total time=   0.9s\n",
      "[CV] END .max_depth=None, max_features=0.5, n_estimators=300; total time=   0.9s\n",
      "[CV] END .max_depth=None, max_features=0.5, n_estimators=300; total time=   0.9s\n",
      "[CV] END ...max_depth=90, max_features=0.5, n_estimators=700; total time=   1.8s\n",
      "[CV] END ...max_depth=90, max_features=0.5, n_estimators=700; total time=   1.7s\n",
      "[CV] END ...max_depth=90, max_features=0.5, n_estimators=700; total time=   1.6s\n",
      "[CV] END ...max_depth=90, max_features=0.1, n_estimators=200; total time=   0.5s\n",
      "[CV] END ...max_depth=90, max_features=0.1, n_estimators=200; total time=   0.5s\n",
      "[CV] END ...max_depth=90, max_features=0.1, n_estimators=200; total time=   0.6s\n",
      "[CV] END ...max_depth=80, max_features=0.3, n_estimators=600; total time=   1.6s\n",
      "[CV] END ...max_depth=80, max_features=0.3, n_estimators=600; total time=   1.5s\n",
      "[CV] END ...max_depth=80, max_features=0.3, n_estimators=600; total time=   1.6s\n",
      "[CV] END ...max_depth=10, max_features=0.1, n_estimators=100; total time=   0.2s\n",
      "[CV] END ...max_depth=10, max_features=0.1, n_estimators=100; total time=   0.3s\n",
      "[CV] END ...max_depth=10, max_features=0.1, n_estimators=100; total time=   0.3s\n",
      "[CV] END ..max_depth=100, max_features=0.4, n_estimators=800; total time=   1.7s\n",
      "[CV] END ..max_depth=100, max_features=0.4, n_estimators=800; total time=   1.7s\n",
      "[CV] END ..max_depth=100, max_features=0.4, n_estimators=800; total time=   1.7s\n",
      "[CV] END ...max_depth=10, max_features=0.2, n_estimators=400; total time=   0.8s\n",
      "[CV] END ...max_depth=10, max_features=0.2, n_estimators=400; total time=   0.9s\n",
      "[CV] END ...max_depth=10, max_features=0.2, n_estimators=400; total time=   0.9s\n",
      "[CV] END ..max_depth=100, max_features=0.3, n_estimators=500; total time=   1.0s\n",
      "[CV] END ..max_depth=100, max_features=0.3, n_estimators=500; total time=   1.0s\n",
      "[CV] END ..max_depth=100, max_features=0.3, n_estimators=500; total time=   1.1s\n",
      "[CV] END ..max_depth=110, max_features=0.4, n_estimators=700; total time=   1.7s\n",
      "[CV] END ..max_depth=110, max_features=0.4, n_estimators=700; total time=   1.5s\n",
      "[CV] END ..max_depth=110, max_features=0.4, n_estimators=700; total time=   1.5s\n",
      "[CV] END ..max_depth=100, max_features=0.3, n_estimators=200; total time=   0.4s\n",
      "[CV] END ..max_depth=100, max_features=0.3, n_estimators=200; total time=   0.5s\n",
      "[CV] END ..max_depth=100, max_features=0.3, n_estimators=200; total time=   0.4s\n",
      "[CV] END ...max_depth=30, max_features=0.5, n_estimators=600; total time=   1.3s\n",
      "[CV] END ...max_depth=30, max_features=0.5, n_estimators=600; total time=   1.2s\n",
      "[CV] END ...max_depth=30, max_features=0.5, n_estimators=600; total time=   1.5s\n",
      "[CV] END ...max_depth=80, max_features=0.3, n_estimators=700; total time=   1.6s\n",
      "[CV] END ...max_depth=80, max_features=0.3, n_estimators=700; total time=   2.4s\n",
      "[CV] END ...max_depth=80, max_features=0.3, n_estimators=700; total time=   1.8s\n",
      "[CV] END ...max_depth=50, max_features=0.2, n_estimators=600; total time=   1.6s\n",
      "[CV] END ...max_depth=50, max_features=0.2, n_estimators=600; total time=   1.4s\n",
      "[CV] END ...max_depth=50, max_features=0.2, n_estimators=600; total time=   1.4s\n",
      "[CV] END .max_depth=None, max_features=0.4, n_estimators=800; total time=   1.8s\n",
      "[CV] END .max_depth=None, max_features=0.4, n_estimators=800; total time=   1.8s\n",
      "[CV] END .max_depth=None, max_features=0.4, n_estimators=800; total time=   1.9s\n",
      "[CV] END ...max_depth=10, max_features=0.3, n_estimators=300; total time=   0.7s\n",
      "[CV] END ...max_depth=10, max_features=0.3, n_estimators=300; total time=   0.8s\n",
      "[CV] END ...max_depth=10, max_features=0.3, n_estimators=300; total time=   0.8s\n",
      "[CV] END ...max_depth=90, max_features=0.2, n_estimators=500; total time=   1.2s\n",
      "[CV] END ...max_depth=90, max_features=0.2, n_estimators=500; total time=   1.0s\n",
      "[CV] END ...max_depth=90, max_features=0.2, n_estimators=500; total time=   1.2s\n",
      "[CV] END ...max_depth=50, max_features=0.4, n_estimators=200; total time=   0.5s\n",
      "[CV] END ...max_depth=50, max_features=0.4, n_estimators=200; total time=   0.6s\n",
      "[CV] END ...max_depth=50, max_features=0.4, n_estimators=200; total time=   0.6s\n",
      "[CV] END ...max_depth=30, max_features=0.2, n_estimators=300; total time=   0.9s\n",
      "[CV] END ...max_depth=30, max_features=0.2, n_estimators=300; total time=   1.0s\n",
      "[CV] END ...max_depth=30, max_features=0.2, n_estimators=300; total time=   0.8s\n",
      "[CV] END ...max_depth=60, max_features=0.3, n_estimators=500; total time=   1.4s\n",
      "[CV] END ...max_depth=60, max_features=0.3, n_estimators=500; total time=   1.3s\n",
      "[CV] END ...max_depth=60, max_features=0.3, n_estimators=500; total time=   1.1s\n",
      "[CV] END ...max_depth=10, max_features=0.5, n_estimators=800; total time=   1.8s\n",
      "[CV] END ...max_depth=10, max_features=0.5, n_estimators=800; total time=   1.8s\n",
      "[CV] END ...max_depth=10, max_features=0.5, n_estimators=800; total time=   1.7s\n",
      "[CV] END ...max_depth=90, max_features=0.1, n_estimators=400; total time=   0.8s\n",
      "[CV] END ...max_depth=90, max_features=0.1, n_estimators=400; total time=   0.8s\n",
      "[CV] END ...max_depth=90, max_features=0.1, n_estimators=400; total time=   0.8s\n",
      "[CV] END .max_depth=None, max_features=0.3, n_estimators=400; total time=   0.8s\n",
      "[CV] END .max_depth=None, max_features=0.3, n_estimators=400; total time=   0.8s\n",
      "[CV] END .max_depth=None, max_features=0.3, n_estimators=400; total time=   0.8s\n",
      "[CV] END ...max_depth=20, max_features=0.5, n_estimators=500; total time=   1.1s\n",
      "[CV] END ...max_depth=20, max_features=0.5, n_estimators=500; total time=   1.0s\n",
      "[CV] END ...max_depth=20, max_features=0.5, n_estimators=500; total time=   1.0s\n",
      "[CV] END ...max_depth=40, max_features=0.5, n_estimators=400; total time=   0.8s\n",
      "[CV] END ...max_depth=40, max_features=0.5, n_estimators=400; total time=   1.2s\n",
      "[CV] END ...max_depth=40, max_features=0.5, n_estimators=400; total time=   1.1s\n",
      "[CV] END ...max_depth=20, max_features=0.3, n_estimators=800; total time=   1.6s\n",
      "[CV] END ...max_depth=20, max_features=0.3, n_estimators=800; total time=   1.6s\n",
      "[CV] END ...max_depth=20, max_features=0.3, n_estimators=800; total time=   1.6s\n",
      "[CV] END ..max_depth=100, max_features=0.4, n_estimators=700; total time=   1.4s\n",
      "[CV] END ..max_depth=100, max_features=0.4, n_estimators=700; total time=   1.6s\n",
      "[CV] END ..max_depth=100, max_features=0.4, n_estimators=700; total time=   1.6s\n",
      "[CV] END ...max_depth=90, max_features=0.3, n_estimators=500; total time=   0.9s\n",
      "[CV] END ...max_depth=90, max_features=0.3, n_estimators=500; total time=   1.0s\n",
      "[CV] END ...max_depth=90, max_features=0.3, n_estimators=500; total time=   1.0s\n",
      "[CV] END ..max_depth=110, max_features=0.2, n_estimators=800; total time=   1.7s\n",
      "[CV] END ..max_depth=110, max_features=0.2, n_estimators=800; total time=   1.7s\n",
      "[CV] END ..max_depth=110, max_features=0.2, n_estimators=800; total time=   1.6s\n",
      "[CV] END ..max_depth=110, max_features=0.5, n_estimators=300; total time=   0.7s\n",
      "[CV] END ..max_depth=110, max_features=0.5, n_estimators=300; total time=   0.7s\n",
      "[CV] END ..max_depth=110, max_features=0.5, n_estimators=300; total time=   0.7s\n",
      "[CV] END ...max_depth=80, max_features=0.4, n_estimators=200; total time=   0.4s\n",
      "[CV] END ...max_depth=80, max_features=0.4, n_estimators=200; total time=   0.4s\n",
      "[CV] END ...max_depth=80, max_features=0.4, n_estimators=200; total time=   0.5s\n",
      "[CV] END ...max_depth=70, max_features=0.4, n_estimators=300; total time=   0.7s\n",
      "[CV] END ...max_depth=70, max_features=0.4, n_estimators=300; total time=   0.7s\n",
      "[CV] END ...max_depth=70, max_features=0.4, n_estimators=300; total time=   0.7s\n",
      "[CV] END ...max_depth=30, max_features=0.1, n_estimators=300; total time=   0.7s\n",
      "[CV] END ...max_depth=30, max_features=0.1, n_estimators=300; total time=   0.7s\n",
      "[CV] END ...max_depth=30, max_features=0.1, n_estimators=300; total time=   0.7s\n",
      "[CV] END ...max_depth=30, max_features=0.3, n_estimators=600; total time=   1.4s\n",
      "[CV] END ...max_depth=30, max_features=0.3, n_estimators=600; total time=   1.4s\n",
      "[CV] END ...max_depth=30, max_features=0.3, n_estimators=600; total time=   1.4s\n",
      "[CV] END .max_depth=None, max_features=0.5, n_estimators=600; total time=   1.6s\n",
      "[CV] END .max_depth=None, max_features=0.5, n_estimators=600; total time=   1.6s\n",
      "[CV] END .max_depth=None, max_features=0.5, n_estimators=600; total time=   1.4s\n",
      "[CV] END ...max_depth=30, max_features=0.5, n_estimators=200; total time=   0.4s\n",
      "[CV] END ...max_depth=30, max_features=0.5, n_estimators=200; total time=   0.4s\n",
      "[CV] END ...max_depth=30, max_features=0.5, n_estimators=200; total time=   0.4s\n",
      "[CV] END .max_depth=None, max_features=0.3, n_estimators=800; total time=   1.6s\n",
      "[CV] END .max_depth=None, max_features=0.3, n_estimators=800; total time=   1.7s\n",
      "[CV] END .max_depth=None, max_features=0.3, n_estimators=800; total time=   1.5s\n",
      "[CV] END ...max_depth=70, max_features=0.2, n_estimators=600; total time=   1.5s\n",
      "[CV] END ...max_depth=70, max_features=0.2, n_estimators=600; total time=   1.5s\n",
      "[CV] END ...max_depth=70, max_features=0.2, n_estimators=600; total time=   1.4s\n",
      "[CV] END ...max_depth=20, max_features=0.5, n_estimators=700; total time=   1.8s\n",
      "[CV] END ...max_depth=20, max_features=0.5, n_estimators=700; total time=   2.0s\n",
      "[CV] END ...max_depth=20, max_features=0.5, n_estimators=700; total time=   1.5s\n",
      "[CV] END ...max_depth=40, max_features=0.3, n_estimators=200; total time=   0.4s\n",
      "[CV] END ...max_depth=40, max_features=0.3, n_estimators=200; total time=   0.3s\n",
      "[CV] END ...max_depth=40, max_features=0.3, n_estimators=200; total time=   0.4s\n",
      "[CV] END ...max_depth=60, max_features=0.5, n_estimators=300; total time=   0.6s\n",
      "[CV] END ...max_depth=60, max_features=0.5, n_estimators=300; total time=   0.6s\n",
      "[CV] END ...max_depth=60, max_features=0.5, n_estimators=300; total time=   0.6s\n",
      "[CV] END ...max_depth=80, max_features=0.4, n_estimators=100; total time=   0.2s\n",
      "[CV] END ...max_depth=80, max_features=0.4, n_estimators=100; total time=   0.2s\n",
      "[CV] END ...max_depth=80, max_features=0.4, n_estimators=100; total time=   0.3s\n",
      "[CV] END ...max_depth=90, max_features=0.1, n_estimators=300; total time=   0.6s\n",
      "[CV] END ...max_depth=90, max_features=0.1, n_estimators=300; total time=   0.7s\n",
      "[CV] END ...max_depth=90, max_features=0.1, n_estimators=300; total time=   0.6s\n",
      "[CV] END ...max_depth=20, max_features=0.4, n_estimators=500; total time=   0.8s\n",
      "[CV] END ...max_depth=20, max_features=0.4, n_estimators=500; total time=   0.9s\n",
      "[CV] END ...max_depth=20, max_features=0.4, n_estimators=500; total time=   0.9s\n",
      "[CV] END ...max_depth=20, max_features=0.5, n_estimators=100; total time=   0.2s\n",
      "[CV] END ...max_depth=20, max_features=0.5, n_estimators=100; total time=   0.2s\n",
      "[CV] END ...max_depth=20, max_features=0.5, n_estimators=100; total time=   0.2s\n",
      "[CV] END ...max_depth=60, max_features=0.3, n_estimators=300; total time=   0.6s\n",
      "[CV] END ...max_depth=60, max_features=0.3, n_estimators=300; total time=   0.6s\n",
      "[CV] END ...max_depth=60, max_features=0.3, n_estimators=300; total time=   0.5s\n",
      "[CV] END ...max_depth=80, max_features=0.4, n_estimators=700; total time=   1.0s\n",
      "[CV] END ...max_depth=80, max_features=0.4, n_estimators=700; total time=   1.2s\n",
      "[CV] END ...max_depth=80, max_features=0.4, n_estimators=700; total time=   1.0s\n",
      "[CV] END ...max_depth=20, max_features=0.5, n_estimators=800; total time=   1.0s\n",
      "[CV] END ...max_depth=20, max_features=0.5, n_estimators=800; total time=   0.8s\n",
      "[CV] END ...max_depth=20, max_features=0.5, n_estimators=800; total time=   0.7s\n",
      "[CV] END ...max_depth=60, max_features=0.2, n_estimators=100; total time=   0.1s\n",
      "[CV] END ...max_depth=60, max_features=0.2, n_estimators=100; total time=   0.1s\n",
      "[CV] END ...max_depth=60, max_features=0.2, n_estimators=100; total time=   0.1s\n",
      "[CV] END ..max_depth=40, max_features=0.4, n_estimators=500; total time=180.0min\n",
      "[CV] END ...max_depth=40, max_features=0.4, n_estimators=500; total time=   1.5s\n",
      "[CV] END ...max_depth=40, max_features=0.4, n_estimators=500; total time=   1.0s\n",
      "[CV] END ...max_depth=40, max_features=0.5, n_estimators=300; total time=   1.7s\n",
      "[CV] END ...max_depth=40, max_features=0.5, n_estimators=300; total time=   0.3s\n",
      "[CV] END ...max_depth=40, max_features=0.5, n_estimators=300; total time=   0.4s\n",
      "[CV] END ...max_depth=50, max_features=0.2, n_estimators=800; total time=   0.9s\n",
      "[CV] END ...max_depth=50, max_features=0.2, n_estimators=800; total time=   0.7s\n",
      "[CV] END ..max_depth=50, max_features=0.2, n_estimators=800; total time=755.3min\n",
      "[CV] END ...max_depth=70, max_features=0.2, n_estimators=200; total time=   0.5s\n",
      "[CV] END ...max_depth=70, max_features=0.2, n_estimators=200; total time=   4.5s\n",
      "[CV] END ...max_depth=70, max_features=0.2, n_estimators=200; total time=   0.9s\n",
      "[CV] END .max_depth=None, max_features=0.5, n_estimators=400; total time=   1.1s\n"
     ]
    }
   ],
   "source": [
    "rf = RandomForestRegressor(random_state=0, n_jobs=-1)\n",
    "\n",
    "rf_random = RandomizedSearchCV(\n",
    "    estimator=rf,\n",
    "    param_distributions=hyper_params,\n",
    "    n_iter=100,\n",
    "    scoring=\"neg_mean_absolute_error\",\n",
    "    cv=3,\n",
    "    verbose=2,\n",
    "    random_state=42,\n",
    "    return_train_score=True,\n",
    ")\n",
    "\n",
    "rf_random.fit(X_train_random_split, y_train_random_split)\n",
    "rf_random.best_params_"
   ],
   "metadata": {
    "collapsed": false,
    "pycharm": {
     "is_executing": true
    }
   }
  },
  {
   "cell_type": "code",
   "execution_count": null,
   "outputs": [],
   "source": [
    "assess_regression_model(\n",
    "    rf_random,\n",
    "    X_train_random_split,\n",
    "    X_test_random_split,\n",
    "    y_train_random_split,\n",
    "    y_test_random_split,\n",
    ")"
   ],
   "metadata": {
    "collapsed": false,
    "pycharm": {
     "is_executing": true
    }
   }
  },
  {
   "cell_type": "markdown",
   "source": [
    "### Attempt to decrease overfitting\n",
    "Change max_depth to 13"
   ],
   "metadata": {
    "collapsed": false
   }
  },
  {
   "cell_type": "code",
   "execution_count": null,
   "outputs": [],
   "source": [
    "rf = RandomForestRegressor(\n",
    "    random_state=0, n_jobs=-1, n_estimators=800, max_features=0.5, max_depth=13\n",
    ")\n",
    "rf.fit(X_train, y_train)\n",
    "assess_regression_model(\n",
    "    rf,\n",
    "    X_train_random_split,\n",
    "    X_test_random_split,\n",
    "    y_train_random_split,\n",
    "    y_test_random_split,\n",
    ")"
   ],
   "metadata": {
    "collapsed": false,
    "pycharm": {
     "is_executing": true
    }
   }
  },
  {
   "cell_type": "markdown",
   "source": [
    "Check rounded predictions"
   ],
   "metadata": {
    "collapsed": false
   }
  },
  {
   "cell_type": "code",
   "execution_count": null,
   "outputs": [],
   "source": [
    "predict_random_split = rf.predict(X_test_random_split)\n",
    "\n",
    "check_round_predictions(\n",
    "    [\"round\", 0.33, 0.45], y_test_random_split, predict_random_split\n",
    ")"
   ],
   "metadata": {
    "collapsed": false,
    "pycharm": {
     "is_executing": true
    }
   }
  },
  {
   "cell_type": "code",
   "execution_count": null,
   "outputs": [],
   "source": [
    "plot_confusion_matrix(\"round\", predict_random_split, y_test_random_split)"
   ],
   "metadata": {
    "collapsed": false,
    "pycharm": {
     "is_executing": true
    }
   }
  },
  {
   "cell_type": "code",
   "execution_count": null,
   "outputs": [],
   "source": [
    "plot_confusion_matrix(0.33, predict_random_split, y_test_random_split)"
   ],
   "metadata": {
    "collapsed": false,
    "pycharm": {
     "is_executing": true
    }
   }
  },
  {
   "cell_type": "markdown",
   "source": [
    "### Parameters:\n",
    "System:\n",
    "* **abilities**:\n",
    "    * **cha**\n",
    "    * **con**\n",
    "    * **dex**\n",
    "    * **int**\n",
    "    * **str**\n",
    "    * **wis**\n",
    "* **attributes**\n",
    "    * **hp**\n",
    "    * **ac**\n",
    "    * **perception**\n",
    "    * **speed** (*land speed*)\n",
    "        * **other speeds**: fly, climb, swim\n",
    "    * **num immunities**\n",
    "    * **resistances**: fire, cold, electricity, acid, piercing, slashing, physical, bludgeoning, mental, poison, all-damage\n",
    "    * **weaknesses**: cold-iron, good, fire, cold, area-damage, splash-damage, evil, slashing\n",
    "* **saves**\n",
    "    * **fortitude**\n",
    "    * **reflex**\n",
    "    * **will**\n",
    "* **resources**\n",
    "    * **focus**\n",
    "\n",
    "Items\n",
    "* **items**\n",
    "    * **melee**\n",
    "    * **ranged**\n",
    "    * **spells nr**\n",
    "\n",
    "### Prediction: *level*"
   ],
   "metadata": {
    "collapsed": false
   }
  },
  {
   "cell_type": "markdown",
   "source": [
    "## Loading data"
   ],
   "metadata": {
    "collapsed": false
   }
  },
  {
   "cell_type": "code",
   "execution_count": null,
   "outputs": [],
   "source": [
    "current_path = os.getcwd()\n",
    "DATASETS_DIR = pathlib.Path(current_path).parent.parent / \"pathfinder_2e_data\"\n",
    "DATASET_FILES = [\n",
    "    \"pathfinder-bestiary.db\",\n",
    "    \"pathfinder-bestiary-2.db\",\n",
    "    \"pathfinder-bestiary-3.db\",\n",
    "]\n",
    "DATASET_PATHS = [f\"{DATASETS_DIR}/{file}\" for file in DATASET_FILES]\n",
    "characteristics = [\n",
    "    \"cha\",\n",
    "    \"con\",\n",
    "    \"dex\",\n",
    "    \"int\",\n",
    "    \"str\",\n",
    "    \"wis\",\n",
    "    \"ac\",\n",
    "    \"hp\",\n",
    "    \"perception\",\n",
    "    \"fortitude\",\n",
    "    \"reflex\",\n",
    "    \"will\",\n",
    "    \"focus\",\n",
    "    \"land_speed\",\n",
    "    \"num_immunities\",\n",
    "    \"fly\",\n",
    "    \"swim\",\n",
    "    \"climb\",\n",
    "    \"fire_resistance\",\n",
    "    \"cold_resistance\",\n",
    "    \"electricity_resistance\",\n",
    "    \"acid_resistance\",\n",
    "    \"piercing_resistance\",\n",
    "    \"slashing_resistance\",\n",
    "    \"physical_resistance\",\n",
    "    \"bludgeoning_resistance\",\n",
    "    \"mental_resistance\",\n",
    "    \"poison_resistance\",\n",
    "    \"all-damage_resistance\",\n",
    "    \"cold-iron_weakness\",\n",
    "    \"good_weakness\",\n",
    "    \"fire_weakness\",\n",
    "    \"cold_weakness\",\n",
    "    \"area-damage_weakness\",\n",
    "    \"splash-damage_weakness\",\n",
    "    \"evil_weakness\",\n",
    "    \"slashing_weakness\",\n",
    "    \"melee\",\n",
    "    \"ranged\",\n",
    "    \"spells\",\n",
    "]\n",
    "\n",
    "df = load_and_preprocess_data(\n",
    "    DATASET_PATHS,\n",
    "    characteristics=characteristics,\n",
    ")"
   ],
   "metadata": {
    "collapsed": false,
    "pycharm": {
     "is_executing": true
    }
   }
  },
  {
   "cell_type": "code",
   "execution_count": null,
   "outputs": [],
   "source": [
    "df.info()"
   ],
   "metadata": {
    "collapsed": false,
    "pycharm": {
     "is_executing": true
    }
   }
  },
  {
   "cell_type": "code",
   "execution_count": null,
   "outputs": [],
   "source": [
    "df.head()"
   ],
   "metadata": {
    "collapsed": false,
    "pycharm": {
     "is_executing": true
    }
   }
  },
  {
   "cell_type": "markdown",
   "source": [
    "## Train test split"
   ],
   "metadata": {
    "collapsed": false
   }
  },
  {
   "cell_type": "markdown",
   "source": [
    "### Chronological split"
   ],
   "metadata": {
    "collapsed": false
   }
  },
  {
   "cell_type": "code",
   "execution_count": null,
   "outputs": [],
   "source": [
    "os.chdir(\"../../training\")\n",
    "X_train, X_test, y_train, y_test = split_dataframe(df, test_size=0.31)\n",
    "os.chdir(\"../notebooks/models\")"
   ],
   "metadata": {
    "collapsed": false,
    "pycharm": {
     "is_executing": true
    }
   }
  },
  {
   "cell_type": "code",
   "execution_count": null,
   "outputs": [],
   "source": [
    "X_train = X_train.drop(columns=[\"book\"])\n",
    "X_test = X_test.drop(columns=[\"book\"])"
   ],
   "metadata": {
    "collapsed": false,
    "pycharm": {
     "is_executing": true
    }
   }
  },
  {
   "cell_type": "code",
   "execution_count": null,
   "outputs": [],
   "source": [
    "X_train = X_train.astype(\"int64\")\n",
    "y_train = y_train.astype(\"int64\")"
   ],
   "metadata": {
    "collapsed": false,
    "pycharm": {
     "is_executing": true
    }
   }
  },
  {
   "cell_type": "markdown",
   "source": [
    "### Random split"
   ],
   "metadata": {
    "collapsed": false
   }
  },
  {
   "cell_type": "code",
   "execution_count": null,
   "outputs": [],
   "source": [
    "(\n",
    "    X_train_random_split,\n",
    "    X_test_random_split,\n",
    "    y_train_random_split,\n",
    "    y_test_random_split,\n",
    ") = split_dataframe(df, chronological_split=False)"
   ],
   "metadata": {
    "collapsed": false,
    "pycharm": {
     "is_executing": true
    }
   }
  },
  {
   "cell_type": "code",
   "execution_count": null,
   "outputs": [],
   "source": [
    "X_train_random_split = X_train_random_split.drop(columns=[\"book\"])\n",
    "X_test_random_split = X_test_random_split.drop(columns=[\"book\"])"
   ],
   "metadata": {
    "collapsed": false,
    "pycharm": {
     "is_executing": true
    }
   }
  },
  {
   "cell_type": "markdown",
   "source": [
    "## Random Forest"
   ],
   "metadata": {
    "collapsed": false
   }
  },
  {
   "cell_type": "markdown",
   "source": [
    "## With chronological split"
   ],
   "metadata": {
    "collapsed": false
   }
  },
  {
   "cell_type": "code",
   "execution_count": null,
   "outputs": [],
   "source": [
    "rf_reg = RandomForestRegressor(n_estimators=500, max_depth=2, random_state=0, n_jobs=-1)\n",
    "rf_reg.fit(X_train, y_train)"
   ],
   "metadata": {
    "collapsed": false,
    "pycharm": {
     "is_executing": true
    }
   }
  },
  {
   "cell_type": "code",
   "execution_count": null,
   "outputs": [],
   "source": [
    "y_pred_train = rf_reg.predict(X_train)\n",
    "y_pred_test = rf_reg.predict(X_test)"
   ],
   "metadata": {
    "collapsed": false,
    "pycharm": {
     "is_executing": true
    }
   }
  },
  {
   "cell_type": "code",
   "execution_count": null,
   "outputs": [],
   "source": [
    "mse = mean_squared_error(y_test, y_pred_test)\n",
    "rmse = mean_squared_error(y_test, y_pred_test, squared=False)\n",
    "print(f\"MSE: {mse:.2f}\")\n",
    "print(f\"RMSE: {rmse:.2f}\")"
   ],
   "metadata": {
    "collapsed": false,
    "pycharm": {
     "is_executing": true
    }
   }
  },
  {
   "cell_type": "code",
   "execution_count": null,
   "outputs": [],
   "source": [
    "rmse_train = mean_squared_error(y_train, y_pred_train, squared=False)\n",
    "rmse_test = mean_squared_error(y_test, y_pred_test, squared=False)\n",
    "print(f\"RMSE train: {rmse_train:.2f}\")\n",
    "print(f\"RMSE test: {rmse_test:.2f}\")  # overfitting"
   ],
   "metadata": {
    "collapsed": false,
    "pycharm": {
     "is_executing": true
    }
   }
  },
  {
   "cell_type": "code",
   "execution_count": null,
   "outputs": [],
   "source": [
    "check_round_predictions([\"round\", 0.33, 0.45], y_test, y_pred_test)"
   ],
   "metadata": {
    "collapsed": false,
    "pycharm": {
     "is_executing": true
    }
   }
  },
  {
   "cell_type": "code",
   "execution_count": null,
   "outputs": [],
   "source": [
    "plot_confusion_matrix(\"round\", y_pred_test, y_test)"
   ],
   "metadata": {
    "collapsed": false,
    "pycharm": {
     "is_executing": true
    }
   }
  },
  {
   "cell_type": "markdown",
   "source": [
    "### Tuning"
   ],
   "metadata": {
    "collapsed": false
   }
  },
  {
   "cell_type": "code",
   "execution_count": null,
   "outputs": [],
   "source": [
    "n_estimators = [int(x) for x in np.linspace(start=100, stop=800, num=8)]\n",
    "max_features = [0.1, 0.2, 0.3, 0.4, 0.5]\n",
    "max_depth = list(range(10, 111, 10)) + [None]\n",
    "\n",
    "hyper_params = {\n",
    "    \"n_estimators\": n_estimators,\n",
    "    \"max_features\": max_features,\n",
    "    \"max_depth\": max_depth,\n",
    "}\n",
    "\n",
    "print(hyper_params)"
   ],
   "metadata": {
    "collapsed": false,
    "pycharm": {
     "is_executing": true
    }
   }
  },
  {
   "cell_type": "code",
   "execution_count": null,
   "outputs": [],
   "source": [
    "rf = RandomForestRegressor(random_state=0, n_jobs=-1)\n",
    "\n",
    "rf_random = RandomizedSearchCV(\n",
    "    estimator=rf,\n",
    "    param_distributions=hyper_params,\n",
    "    n_iter=100,\n",
    "    scoring=\"neg_mean_absolute_error\",\n",
    "    cv=3,\n",
    "    verbose=2,\n",
    "    random_state=42,\n",
    "    return_train_score=True,\n",
    ")\n",
    "\n",
    "rf_random.fit(X_train, y_train)\n",
    "rf_random.best_params_"
   ],
   "metadata": {
    "collapsed": false,
    "pycharm": {
     "is_executing": true
    }
   }
  },
  {
   "cell_type": "code",
   "execution_count": null,
   "outputs": [],
   "source": [
    "assess_regression_model(rf_random, X_train, X_test, y_train, y_test)"
   ],
   "metadata": {
    "collapsed": false,
    "pycharm": {
     "is_executing": true
    }
   }
  },
  {
   "cell_type": "markdown",
   "source": [
    "### Attempt to decrease overfitting\n",
    "Change max_depth to 8"
   ],
   "metadata": {
    "collapsed": false
   }
  },
  {
   "cell_type": "code",
   "execution_count": null,
   "outputs": [],
   "source": [
    "rf = RandomForestRegressor(\n",
    "    random_state=0, n_jobs=-1, n_estimators=500, max_features=0.3, max_depth=8\n",
    ")\n",
    "rf.fit(X_train, y_train)\n",
    "assess_regression_model(rf, X_train, X_test, y_train, y_test)"
   ],
   "metadata": {
    "collapsed": false,
    "pycharm": {
     "is_executing": true
    }
   }
  },
  {
   "cell_type": "code",
   "execution_count": null,
   "outputs": [],
   "source": [
    "predict = rf.predict(X_test)\n",
    "\n",
    "check_round_predictions([\"round\", 0.33, 0.45], y_test, predict)"
   ],
   "metadata": {
    "collapsed": false,
    "pycharm": {
     "is_executing": true
    }
   }
  },
  {
   "cell_type": "code",
   "execution_count": null,
   "outputs": [],
   "source": [
    "plot_confusion_matrix(\"round\", predict, y_test)"
   ],
   "metadata": {
    "collapsed": false,
    "pycharm": {
     "is_executing": true
    }
   }
  },
  {
   "cell_type": "code",
   "execution_count": null,
   "outputs": [],
   "source": [
    "plot_confusion_matrix(0.33, predict, y_test)"
   ],
   "metadata": {
    "collapsed": false,
    "pycharm": {
     "is_executing": true
    }
   }
  },
  {
   "cell_type": "markdown",
   "source": [
    "## Random split"
   ],
   "metadata": {
    "collapsed": false
   }
  },
  {
   "cell_type": "code",
   "execution_count": null,
   "outputs": [],
   "source": [
    "rf_reg = RandomForestRegressor(n_estimators=500, max_depth=2, random_state=0, n_jobs=-1)\n",
    "rf_reg.fit(X_train_random_split, y_train_random_split)"
   ],
   "metadata": {
    "collapsed": false,
    "pycharm": {
     "is_executing": true
    }
   }
  },
  {
   "cell_type": "code",
   "execution_count": null,
   "outputs": [],
   "source": [
    "y_pred_train = rf_reg.predict(X_train_random_split)\n",
    "y_pred_test = rf_reg.predict(X_test_random_split)"
   ],
   "metadata": {
    "collapsed": false,
    "pycharm": {
     "is_executing": true
    }
   }
  },
  {
   "cell_type": "code",
   "execution_count": null,
   "outputs": [],
   "source": [
    "mse = mean_squared_error(y_test_random_split, y_pred_test)\n",
    "rmse = mean_squared_error(y_test_random_split, y_pred_test, squared=False)\n",
    "\n",
    "print(f\"MSE: {mse:.2f}\")\n",
    "print(f\"RMSE: {rmse:.2f}\")"
   ],
   "metadata": {
    "collapsed": false,
    "pycharm": {
     "is_executing": true
    }
   }
  },
  {
   "cell_type": "code",
   "execution_count": null,
   "outputs": [],
   "source": [
    "check_round_predictions([\"round\", 0.33, 0.45], y_test_random_split, y_pred_test)"
   ],
   "metadata": {
    "collapsed": false,
    "pycharm": {
     "is_executing": true
    }
   }
  },
  {
   "cell_type": "code",
   "execution_count": null,
   "outputs": [],
   "source": [
    "plot_confusion_matrix(\"round\", y_pred_test, y_test_random_split)"
   ],
   "metadata": {
    "collapsed": false,
    "pycharm": {
     "is_executing": true
    }
   }
  },
  {
   "cell_type": "markdown",
   "source": [
    "### Tuning"
   ],
   "metadata": {
    "collapsed": false
   }
  },
  {
   "cell_type": "code",
   "execution_count": null,
   "outputs": [],
   "source": [
    "n_estimators = [int(x) for x in np.linspace(start=100, stop=800, num=8)]\n",
    "max_features = [0.1, 0.2, 0.3, 0.4, 0.5]\n",
    "max_depth = list(range(10, 111, 10)) + [None]\n",
    "\n",
    "hyper_params = {\n",
    "    \"n_estimators\": n_estimators,\n",
    "    \"max_features\": max_features,\n",
    "    \"max_depth\": max_depth,\n",
    "}\n",
    "\n",
    "print(hyper_params)"
   ],
   "metadata": {
    "collapsed": false,
    "pycharm": {
     "is_executing": true
    }
   }
  },
  {
   "cell_type": "code",
   "execution_count": null,
   "outputs": [],
   "source": [
    "rf = RandomForestRegressor(random_state=0, n_jobs=-1)\n",
    "\n",
    "rf_random = RandomizedSearchCV(\n",
    "    estimator=rf,\n",
    "    param_distributions=hyper_params,\n",
    "    n_iter=100,\n",
    "    scoring=\"neg_mean_absolute_error\",\n",
    "    cv=3,\n",
    "    verbose=2,\n",
    "    random_state=42,\n",
    "    return_train_score=True,\n",
    ")\n",
    "\n",
    "rf_random.fit(X_train_random_split, y_train_random_split)\n",
    "rf_random.best_params_"
   ],
   "metadata": {
    "collapsed": false,
    "pycharm": {
     "is_executing": true
    }
   }
  },
  {
   "cell_type": "code",
   "execution_count": null,
   "outputs": [],
   "source": [
    "assess_regression_model(\n",
    "    rf_random,\n",
    "    X_train_random_split,\n",
    "    X_test_random_split,\n",
    "    y_train_random_split,\n",
    "    y_test_random_split,\n",
    ")"
   ],
   "metadata": {
    "collapsed": false,
    "pycharm": {
     "is_executing": true
    }
   }
  },
  {
   "cell_type": "code",
   "execution_count": null,
   "outputs": [],
   "source": [
    "predict_random_split = rf_random.predict(X_test_random_split)\n",
    "plot_confusion_matrix(\"round\", predict_random_split, y_test_random_split)"
   ],
   "metadata": {
    "collapsed": false,
    "pycharm": {
     "is_executing": true
    }
   }
  },
  {
   "cell_type": "markdown",
   "source": [
    "### Attempt to decrease overfitting\n",
    "Change max_depth to 10"
   ],
   "metadata": {
    "collapsed": false
   }
  },
  {
   "cell_type": "code",
   "execution_count": null,
   "outputs": [],
   "source": [
    "rf = RandomForestRegressor(\n",
    "    random_state=0, n_jobs=-1, n_estimators=400, max_features=0.3, max_depth=None\n",
    ")\n",
    "rf.fit(X_train, y_train)\n",
    "assess_regression_model(\n",
    "    rf,\n",
    "    X_train_random_split,\n",
    "    X_test_random_split,\n",
    "    y_train_random_split,\n",
    "    y_test_random_split,\n",
    ")"
   ],
   "metadata": {
    "collapsed": false,
    "pycharm": {
     "is_executing": true
    }
   }
  },
  {
   "cell_type": "markdown",
   "source": [
    "Check rounded predictions"
   ],
   "metadata": {
    "collapsed": false
   }
  },
  {
   "cell_type": "code",
   "execution_count": null,
   "outputs": [],
   "source": [
    "predict_random_split = rf.predict(X_test_random_split)\n",
    "\n",
    "check_round_predictions(\n",
    "    [\"round\", 0.33, 0.45], y_test_random_split, predict_random_split\n",
    ")"
   ],
   "metadata": {
    "collapsed": false,
    "pycharm": {
     "is_executing": true
    }
   }
  },
  {
   "cell_type": "code",
   "execution_count": null,
   "outputs": [],
   "source": [
    "plot_confusion_matrix(\"round\", predict_random_split, y_test_random_split)"
   ],
   "metadata": {
    "collapsed": false,
    "pycharm": {
     "is_executing": true
    }
   }
  },
  {
   "cell_type": "code",
   "execution_count": null,
   "outputs": [],
   "source": [
    "plot_confusion_matrix(0.33, predict_random_split, y_test_random_split)"
   ],
   "metadata": {
    "collapsed": false,
    "pycharm": {
     "is_executing": true
    }
   }
  },
  {
   "cell_type": "code",
   "execution_count": null,
   "outputs": [],
   "source": [],
   "metadata": {
    "collapsed": false,
    "pycharm": {
     "is_executing": true
    }
   }
  }
 ],
 "metadata": {
  "kernelspec": {
   "display_name": "Python 3 (ipykernel)",
   "language": "python",
   "name": "python3"
  },
  "language_info": {
   "codemirror_mode": {
    "name": "ipython",
    "version": 3
   },
   "file_extension": ".py",
   "mimetype": "text/x-python",
   "name": "python",
   "nbconvert_exporter": "python",
   "pygments_lexer": "ipython3",
   "version": "3.9.0"
  }
 },
 "nbformat": 4,
 "nbformat_minor": 5
}
