{
 "cells": [
  {
   "cell_type": "markdown",
   "metadata": {},
   "source": [
    "# Linear Regression\n",
    "### Parameters:\n",
    "* **abilities**:\n",
    "    * **cha**\n",
    "    * **con**\n",
    "    * **dex**\n",
    "    * **int**\n",
    "    * **str**\n",
    "    * **wis**\n",
    "* **attributes**\n",
    "    * **hp**\n",
    "    * **ac**\n",
    "\n",
    "### Prediction: *level*"
   ]
  },
  {
   "cell_type": "code",
   "execution_count": 177,
   "metadata": {},
   "outputs": [],
   "source": [
    "import numpy as np\n",
    "import pandas as pd\n",
    "import sys\n",
    "\n",
    "import os\n",
    "import pathlib\n",
    "\n",
    "sys.path.append(\"../..\")\n",
    "from training.creating_dataset import load_and_preprocess_data\n",
    "\n",
    "current_path = os.getcwd()\n",
    "DATASETS_DIR = pathlib.Path(current_path).parent.parent / \"pathfinder_2e_data\"\n",
    "DATASET_FILES = [\n",
    "    \"pathfinder-bestiary.db\",\n",
    "    \"pathfinder-bestiary-2.db\",\n",
    "    \"pathfinder-bestiary-3.db\",\n",
    "]\n",
    "DATASET_PATHS = [f\"{DATASETS_DIR}/{file}\" for file in DATASET_FILES]\n",
    "characteristics = [\n",
    "    \"cha\",\n",
    "    \"con\",\n",
    "    \"dex\",\n",
    "    \"int\",\n",
    "    \"str\",\n",
    "    \"wis\",\n",
    "    \"ac\",\n",
    "    \"hp\",\n",
    "]\n",
    "\n",
    "df = load_and_preprocess_data(\n",
    "    DATASET_PATHS,\n",
    "    characteristics=characteristics,\n",
    ")"
   ]
  },
  {
   "cell_type": "code",
   "execution_count": 57,
   "outputs": [
    {
     "data": {
      "text/plain": "   con  level   hp  wis  cha  str  dex  int  ac                 book\n0    5     10  215    2    1    7    2    1  29  Pathfinder Bestiary\n1    5     10  220    2    1    9    0   -4  28  Pathfinder Bestiary\n2    6      8  175    3   -2    7    3   -4  25  Pathfinder Bestiary\n3    5     17  315    5    6    7    4    6  41  Pathfinder Bestiary\n4    1      1   20    1    1   -5    3   -1  16  Pathfinder Bestiary",
      "text/html": "<div>\n<style scoped>\n    .dataframe tbody tr th:only-of-type {\n        vertical-align: middle;\n    }\n\n    .dataframe tbody tr th {\n        vertical-align: top;\n    }\n\n    .dataframe thead th {\n        text-align: right;\n    }\n</style>\n<table border=\"1\" class=\"dataframe\">\n  <thead>\n    <tr style=\"text-align: right;\">\n      <th></th>\n      <th>con</th>\n      <th>level</th>\n      <th>hp</th>\n      <th>wis</th>\n      <th>cha</th>\n      <th>str</th>\n      <th>dex</th>\n      <th>int</th>\n      <th>ac</th>\n      <th>book</th>\n    </tr>\n  </thead>\n  <tbody>\n    <tr>\n      <th>0</th>\n      <td>5</td>\n      <td>10</td>\n      <td>215</td>\n      <td>2</td>\n      <td>1</td>\n      <td>7</td>\n      <td>2</td>\n      <td>1</td>\n      <td>29</td>\n      <td>Pathfinder Bestiary</td>\n    </tr>\n    <tr>\n      <th>1</th>\n      <td>5</td>\n      <td>10</td>\n      <td>220</td>\n      <td>2</td>\n      <td>1</td>\n      <td>9</td>\n      <td>0</td>\n      <td>-4</td>\n      <td>28</td>\n      <td>Pathfinder Bestiary</td>\n    </tr>\n    <tr>\n      <th>2</th>\n      <td>6</td>\n      <td>8</td>\n      <td>175</td>\n      <td>3</td>\n      <td>-2</td>\n      <td>7</td>\n      <td>3</td>\n      <td>-4</td>\n      <td>25</td>\n      <td>Pathfinder Bestiary</td>\n    </tr>\n    <tr>\n      <th>3</th>\n      <td>5</td>\n      <td>17</td>\n      <td>315</td>\n      <td>5</td>\n      <td>6</td>\n      <td>7</td>\n      <td>4</td>\n      <td>6</td>\n      <td>41</td>\n      <td>Pathfinder Bestiary</td>\n    </tr>\n    <tr>\n      <th>4</th>\n      <td>1</td>\n      <td>1</td>\n      <td>20</td>\n      <td>1</td>\n      <td>1</td>\n      <td>-5</td>\n      <td>3</td>\n      <td>-1</td>\n      <td>16</td>\n      <td>Pathfinder Bestiary</td>\n    </tr>\n  </tbody>\n</table>\n</div>"
     },
     "execution_count": 57,
     "metadata": {},
     "output_type": "execute_result"
    }
   ],
   "source": [
    "df.head()"
   ],
   "metadata": {
    "collapsed": false
   }
  },
  {
   "cell_type": "markdown",
   "source": [
    "## Train test split and preprocessing"
   ],
   "metadata": {
    "collapsed": false
   }
  },
  {
   "cell_type": "code",
   "execution_count": 72,
   "outputs": [],
   "source": [
    "from sklearn.preprocessing import MinMaxScaler\n",
    "\n",
    "scaler = MinMaxScaler()\n",
    "min_max_df = pd.DataFrame()\n",
    "min_max_df[characteristics] = pd.DataFrame(scaler.fit_transform(df[characteristics]))\n",
    "min_max_df[\"book\"] = df[\"book\"]\n",
    "min_max_df[\"level\"] = df[\"level\"]\n",
    "# min_max_df = df"
   ],
   "metadata": {
    "collapsed": false
   }
  },
  {
   "cell_type": "code",
   "execution_count": 73,
   "outputs": [
    {
     "data": {
      "text/plain": "      cha       con     dex       int       str       wis        ac        hp  \\\n0  0.3750  0.416667  0.4375  0.400000  0.705882  0.333333  0.456522  0.386447   \n1  0.3750  0.416667  0.3125  0.066667  0.823529  0.333333  0.434783  0.395604   \n2  0.1875  0.500000  0.5000  0.066667  0.705882  0.416667  0.369565  0.313187   \n3  0.6875  0.416667  0.5625  0.733333  0.705882  0.583333  0.717391  0.569597   \n4  0.3750  0.083333  0.5000  0.266667  0.000000  0.250000  0.173913  0.029304   \n\n                  book  level  \n0  Pathfinder Bestiary     10  \n1  Pathfinder Bestiary     10  \n2  Pathfinder Bestiary      8  \n3  Pathfinder Bestiary     17  \n4  Pathfinder Bestiary      1  ",
      "text/html": "<div>\n<style scoped>\n    .dataframe tbody tr th:only-of-type {\n        vertical-align: middle;\n    }\n\n    .dataframe tbody tr th {\n        vertical-align: top;\n    }\n\n    .dataframe thead th {\n        text-align: right;\n    }\n</style>\n<table border=\"1\" class=\"dataframe\">\n  <thead>\n    <tr style=\"text-align: right;\">\n      <th></th>\n      <th>cha</th>\n      <th>con</th>\n      <th>dex</th>\n      <th>int</th>\n      <th>str</th>\n      <th>wis</th>\n      <th>ac</th>\n      <th>hp</th>\n      <th>book</th>\n      <th>level</th>\n    </tr>\n  </thead>\n  <tbody>\n    <tr>\n      <th>0</th>\n      <td>0.3750</td>\n      <td>0.416667</td>\n      <td>0.4375</td>\n      <td>0.400000</td>\n      <td>0.705882</td>\n      <td>0.333333</td>\n      <td>0.456522</td>\n      <td>0.386447</td>\n      <td>Pathfinder Bestiary</td>\n      <td>10</td>\n    </tr>\n    <tr>\n      <th>1</th>\n      <td>0.3750</td>\n      <td>0.416667</td>\n      <td>0.3125</td>\n      <td>0.066667</td>\n      <td>0.823529</td>\n      <td>0.333333</td>\n      <td>0.434783</td>\n      <td>0.395604</td>\n      <td>Pathfinder Bestiary</td>\n      <td>10</td>\n    </tr>\n    <tr>\n      <th>2</th>\n      <td>0.1875</td>\n      <td>0.500000</td>\n      <td>0.5000</td>\n      <td>0.066667</td>\n      <td>0.705882</td>\n      <td>0.416667</td>\n      <td>0.369565</td>\n      <td>0.313187</td>\n      <td>Pathfinder Bestiary</td>\n      <td>8</td>\n    </tr>\n    <tr>\n      <th>3</th>\n      <td>0.6875</td>\n      <td>0.416667</td>\n      <td>0.5625</td>\n      <td>0.733333</td>\n      <td>0.705882</td>\n      <td>0.583333</td>\n      <td>0.717391</td>\n      <td>0.569597</td>\n      <td>Pathfinder Bestiary</td>\n      <td>17</td>\n    </tr>\n    <tr>\n      <th>4</th>\n      <td>0.3750</td>\n      <td>0.083333</td>\n      <td>0.5000</td>\n      <td>0.266667</td>\n      <td>0.000000</td>\n      <td>0.250000</td>\n      <td>0.173913</td>\n      <td>0.029304</td>\n      <td>Pathfinder Bestiary</td>\n      <td>1</td>\n    </tr>\n  </tbody>\n</table>\n</div>"
     },
     "execution_count": 73,
     "metadata": {},
     "output_type": "execute_result"
    }
   ],
   "source": [
    "min_max_df.head()"
   ],
   "metadata": {
    "collapsed": false
   }
  },
  {
   "cell_type": "markdown",
   "source": [
    "### Chronological split"
   ],
   "metadata": {
    "collapsed": false
   }
  },
  {
   "cell_type": "code",
   "execution_count": 74,
   "outputs": [],
   "source": [
    "from training.splitting_dataset import split_dataframe\n",
    "\n",
    "os.chdir(\"../../training\")\n",
    "X_train, X_test, y_train, y_test = split_dataframe(min_max_df, test_size=0.31)\n",
    "os.chdir(\"../notebooks/models\")"
   ],
   "metadata": {
    "collapsed": false
   }
  },
  {
   "cell_type": "code",
   "execution_count": 75,
   "outputs": [],
   "source": [
    "X_train = X_train.drop(columns=[\"book\"])\n",
    "X_test = X_test.drop(columns=[\"book\"])"
   ],
   "metadata": {
    "collapsed": false
   }
  },
  {
   "cell_type": "markdown",
   "source": [
    "### <font color='red'>X_train and y_train have elements of object type instead of int64. Needs fix.</font>"
   ],
   "metadata": {
    "collapsed": false
   }
  },
  {
   "cell_type": "code",
   "execution_count": 76,
   "outputs": [
    {
     "name": "stdout",
     "output_type": "stream",
     "text": [
      "<class 'pandas.core.frame.DataFrame'>\n",
      "Int64Index: 841 entries, 0 to 840\n",
      "Data columns (total 8 columns):\n",
      " #   Column  Non-Null Count  Dtype  \n",
      "---  ------  --------------  -----  \n",
      " 0   cha     841 non-null    float64\n",
      " 1   con     841 non-null    float64\n",
      " 2   dex     841 non-null    float64\n",
      " 3   int     841 non-null    float64\n",
      " 4   str     841 non-null    float64\n",
      " 5   wis     841 non-null    float64\n",
      " 6   ac      841 non-null    float64\n",
      " 7   hp      841 non-null    float64\n",
      "dtypes: float64(8)\n",
      "memory usage: 59.1 KB\n"
     ]
    }
   ],
   "source": [
    "X_train.info()"
   ],
   "metadata": {
    "collapsed": false
   }
  },
  {
   "cell_type": "code",
   "execution_count": 77,
   "outputs": [
    {
     "name": "stdout",
     "output_type": "stream",
     "text": [
      "<class 'pandas.core.series.Series'>\n",
      "Int64Index: 841 entries, 0 to 840\n",
      "Series name: level\n",
      "Non-Null Count  Dtype \n",
      "--------------  ----- \n",
      "841 non-null    object\n",
      "dtypes: object(1)\n",
      "memory usage: 13.1+ KB\n"
     ]
    }
   ],
   "source": [
    "y_train.info()"
   ],
   "metadata": {
    "collapsed": false
   }
  },
  {
   "cell_type": "markdown",
   "source": [
    "### Random split"
   ],
   "metadata": {
    "collapsed": false
   }
  },
  {
   "cell_type": "code",
   "execution_count": 86,
   "outputs": [],
   "source": [
    "(\n",
    "    X_train_random_split,\n",
    "    X_test_random_split,\n",
    "    y_train_random_split,\n",
    "    y_test_random_split,\n",
    ") = split_dataframe(min_max_df, chronological_split=False, test_size=0.25)"
   ],
   "metadata": {
    "collapsed": false
   }
  },
  {
   "cell_type": "code",
   "execution_count": 87,
   "outputs": [],
   "source": [
    "X_train_random_split = X_train_random_split.drop(columns=[\"book\"])\n",
    "X_test_random_split = X_test_random_split.drop(columns=[\"book\"])"
   ],
   "metadata": {
    "collapsed": false
   }
  },
  {
   "cell_type": "markdown",
   "source": [
    "## Linear Regression\n",
    "### With chronological split"
   ],
   "metadata": {
    "collapsed": false
   }
  },
  {
   "cell_type": "code",
   "execution_count": 97,
   "outputs": [
    {
     "name": "stdout",
     "output_type": "stream",
     "text": [
      "R2 score:0.98\n"
     ]
    }
   ],
   "source": [
    "from sklearn.linear_model import LinearRegression\n",
    "\n",
    "\n",
    "model = LinearRegression()\n",
    "model.fit(X_train, y_train)\n",
    "predict_train = model.predict(X_train)\n",
    "predict = model.predict(X_test)\n",
    "\n",
    "y_pred_train = model.predict(X_train)\n",
    "y_pred_test = model.predict(X_test)\n",
    "\n",
    "r2 = r2_score(y_train, y_pred_train)\n",
    "print(f\"R2 score:{r2:.2f}\")"
   ],
   "metadata": {
    "collapsed": false
   }
  },
  {
   "cell_type": "code",
   "execution_count": 98,
   "outputs": [
    {
     "name": "stdout",
     "output_type": "stream",
     "text": [
      "MSE: 0.90\n",
      "RMSE: 0.95\n"
     ]
    }
   ],
   "source": [
    "from sklearn.metrics import mean_squared_error\n",
    "\n",
    "\n",
    "mse = mean_squared_error(y_test, y_pred_test)\n",
    "rmse = mean_squared_error(y_test, y_pred_test, squared=False)\n",
    "print(f\"MSE: {mse:.2f}\")\n",
    "print(f\"RMSE: {rmse:.2f}\")"
   ],
   "metadata": {
    "collapsed": false
   }
  },
  {
   "cell_type": "code",
   "execution_count": 99,
   "outputs": [
    {
     "name": "stdout",
     "output_type": "stream",
     "text": [
      "RMSE train: 0.74\n",
      "RMSE test: 0.95\n"
     ]
    }
   ],
   "source": [
    "rmse_train = mean_squared_error(y_train, y_pred_train, squared=False)\n",
    "print(f\"RMSE train: {rmse_train:.2f}\")\n",
    "print(f\"RMSE test: {rmse:.2f}\")"
   ],
   "metadata": {
    "collapsed": false
   }
  },
  {
   "cell_type": "code",
   "execution_count": 100,
   "outputs": [],
   "source": [
    "round_predict = np.round(predict).astype(\"int\")\n",
    "round_predict = np.where(round_predict > 20, 21, round_predict)\n",
    "threshold33 = 0.33\n",
    "round_predict_lower_threshold33 = np.where(\n",
    "    (predict % 1) > threshold33, np.ceil(predict), np.floor(predict)\n",
    ").astype(\"int\")\n",
    "threshold45 = 0.45\n",
    "round_predict_lower_threshold45 = np.where(\n",
    "    (predict % 1) > threshold45, np.ceil(predict), np.floor(predict)\n",
    ").astype(\"int\")"
   ],
   "metadata": {
    "collapsed": false
   }
  },
  {
   "cell_type": "code",
   "execution_count": 101,
   "outputs": [],
   "source": [
    "def check_predictions(y, y_pred):\n",
    "    print(f\"Mean square error: {mean_squared_error(y, y_pred):.2f}\")\n",
    "    print(f\"RMSE: {mean_squared_error(y, y_pred, squared=False):.2f}\")\n",
    "    print()"
   ],
   "metadata": {
    "collapsed": false
   }
  },
  {
   "cell_type": "code",
   "execution_count": 102,
   "outputs": [
    {
     "name": "stdout",
     "output_type": "stream",
     "text": [
      "Normal:\n",
      "Mean square error: 0.90\n",
      "RMSE: 0.95\n",
      "\n",
      "Round:\n",
      "Mean square error: 0.85\n",
      "RMSE: 0.92\n",
      "\n",
      "Round lower threshold = 0.33:\n",
      "Mean square error: 0.95\n",
      "RMSE: 0.97\n",
      "\n",
      "Round lower threshold = 0.45:\n",
      "Mean square error: 0.96\n",
      "RMSE: 0.98\n",
      "\n"
     ]
    }
   ],
   "source": [
    "print(\"Normal:\")\n",
    "check_predictions(y_test, predict)\n",
    "\n",
    "print(\"Round:\")\n",
    "check_predictions(y_test, round_predict)\n",
    "\n",
    "print(\"Round lower threshold = 0.33:\")\n",
    "check_predictions(y_test, round_predict_lower_threshold33)\n",
    "\n",
    "print(\"Round lower threshold = 0.45:\")\n",
    "check_predictions(y_test, round_predict_lower_threshold45)"
   ],
   "metadata": {
    "collapsed": false
   }
  },
  {
   "cell_type": "markdown",
   "source": [
    "### With random split"
   ],
   "metadata": {
    "collapsed": false
   }
  },
  {
   "cell_type": "code",
   "execution_count": 114,
   "outputs": [
    {
     "name": "stdout",
     "output_type": "stream",
     "text": [
      "R2 score:0.98\n"
     ]
    }
   ],
   "source": [
    "model = LinearRegression()\n",
    "model.fit(X_train_random_split, y_train_random_split)\n",
    "predict_train = model.predict(X_train_random_split)\n",
    "predict = model.predict(X_test_random_split)\n",
    "\n",
    "y_pred_train = model.predict(X_train_random_split)\n",
    "y_pred_test = model.predict(X_test_random_split)\n",
    "\n",
    "r2 = r2_score(y_train_random_split, y_pred_train)\n",
    "print(f\"R2 score:{r2:.2f}\")"
   ],
   "metadata": {
    "collapsed": false
   }
  },
  {
   "cell_type": "code",
   "execution_count": 115,
   "outputs": [
    {
     "name": "stdout",
     "output_type": "stream",
     "text": [
      "MSE: 0.68\n",
      "RMSE: 0.82\n"
     ]
    }
   ],
   "source": [
    "mse = mean_squared_error(y_test_random_split, y_pred_test)\n",
    "rmse = mean_squared_error(y_test_random_split, y_pred_test, squared=False)\n",
    "print(f\"MSE: {mse:.2f}\")\n",
    "print(f\"RMSE: {rmse:.2f}\")"
   ],
   "metadata": {
    "collapsed": false
   }
  },
  {
   "cell_type": "code",
   "execution_count": 116,
   "outputs": [
    {
     "name": "stdout",
     "output_type": "stream",
     "text": [
      "RMSE train: 0.79\n",
      "RMSE test: 0.82\n"
     ]
    }
   ],
   "source": [
    "rmse_train = mean_squared_error(y_train_random_split, y_pred_train, squared=False)\n",
    "print(f\"RMSE train: {rmse_train:.2f}\")\n",
    "print(f\"RMSE test: {rmse:.2f}\")"
   ],
   "metadata": {
    "collapsed": false
   }
  },
  {
   "cell_type": "code",
   "execution_count": 117,
   "outputs": [],
   "source": [
    "round_predict = np.round(predict).astype(\"int\")\n",
    "round_predict = np.where(round_predict > 20, 21, round_predict)\n",
    "threshold33 = 0.33\n",
    "round_predict_lower_threshold33 = np.where(\n",
    "    (predict % 1) > threshold33, np.ceil(predict), np.floor(predict)\n",
    ").astype(\"int\")\n",
    "threshold45 = 0.45\n",
    "round_predict_lower_threshold45 = np.where(\n",
    "    (predict % 1) > threshold45, np.ceil(predict), np.floor(predict)\n",
    ").astype(\"int\")"
   ],
   "metadata": {
    "collapsed": false
   }
  },
  {
   "cell_type": "code",
   "execution_count": 118,
   "outputs": [
    {
     "name": "stdout",
     "output_type": "stream",
     "text": [
      "Normal:\n",
      "Mean square error: 0.68\n",
      "RMSE: 0.82\n",
      "\n",
      "Round:\n",
      "Mean square error: 0.53\n",
      "RMSE: 0.73\n",
      "\n",
      "Round lower threshold = 0.33:\n",
      "Mean square error: 0.78\n",
      "RMSE: 0.88\n",
      "\n",
      "Round lower threshold = 0.45:\n",
      "Mean square error: 0.75\n",
      "RMSE: 0.87\n",
      "\n"
     ]
    }
   ],
   "source": [
    "print(\"Normal:\")\n",
    "check_predictions(y_test_random_split, predict)\n",
    "\n",
    "print(\"Round:\")\n",
    "check_predictions(y_test_random_split, round_predict)\n",
    "\n",
    "print(\"Round lower threshold = 0.33:\")\n",
    "check_predictions(y_test_random_split, round_predict_lower_threshold33)\n",
    "\n",
    "print(\"Round lower threshold = 0.45:\")\n",
    "check_predictions(y_test_random_split, round_predict_lower_threshold45)"
   ],
   "metadata": {
    "collapsed": false
   }
  },
  {
   "cell_type": "markdown",
   "source": [
    "### <font color='red'>===============Old notebook===============</font>"
   ],
   "metadata": {
    "collapsed": false
   }
  },
  {
   "cell_type": "code",
   "execution_count": 119,
   "metadata": {},
   "outputs": [],
   "source": [
    "bestiary1 = pd.read_json(\"../../pathfinder_2e_data/pathfinder-bestiary.db\", lines=True)\n",
    "bestiary2 = pd.read_json(\n",
    "    \"../../pathfinder_2e_data/pathfinder-bestiary-2.db\", lines=True\n",
    ")\n",
    "bestiary3 = pd.read_json(\n",
    "    \"../../pathfinder_2e_data/pathfinder-bestiary-3.db\", lines=True\n",
    ")"
   ]
  },
  {
   "cell_type": "code",
   "execution_count": 120,
   "metadata": {},
   "outputs": [],
   "source": [
    "b = [bestiary1, bestiary2, bestiary3]\n",
    "\n",
    "bestiary = pd.concat(b, join=\"outer\", axis=0).fillna(np.nan)"
   ]
  },
  {
   "cell_type": "code",
   "execution_count": 121,
   "metadata": {},
   "outputs": [
    {
     "name": "stdout",
     "output_type": "stream",
     "text": [
      "True\n"
     ]
    }
   ],
   "source": [
    "print(\n",
    "    (bestiary1.size + bestiary2.size + bestiary3.size) == bestiary.size\n",
    ")  # sprawdzenie czy coś nie uciekło"
   ]
  },
  {
   "cell_type": "code",
   "execution_count": 122,
   "metadata": {},
   "outputs": [
    {
     "name": "stdout",
     "output_type": "stream",
     "text": [
      "<class 'pandas.core.frame.DataFrame'>\n",
      "Int64Index: 1206 entries, 0 to 364\n",
      "Data columns (total 8 columns):\n",
      " #   Column          Non-Null Count  Dtype \n",
      "---  ------          --------------  ----- \n",
      " 0   _id             1206 non-null   object\n",
      " 1   img             1206 non-null   object\n",
      " 2   items           1206 non-null   object\n",
      " 3   name            1206 non-null   object\n",
      " 4   system          1206 non-null   object\n",
      " 5   type            1206 non-null   object\n",
      " 6   flags           1206 non-null   object\n",
      " 7   prototypeToken  85 non-null     object\n",
      "dtypes: object(8)\n",
      "memory usage: 84.8+ KB\n"
     ]
    }
   ],
   "source": [
    "bestiary.info()"
   ]
  },
  {
   "cell_type": "markdown",
   "metadata": {},
   "source": [
    "Po połączeniu sprawdzamy czy wszystkie z rekordów to potworki - *npc*, a nie jakieś przedmioty"
   ]
  },
  {
   "cell_type": "code",
   "execution_count": 123,
   "metadata": {},
   "outputs": [
    {
     "data": {
      "text/plain": "array(['npc'], dtype=object)"
     },
     "execution_count": 123,
     "metadata": {},
     "output_type": "execute_result"
    }
   ],
   "source": [
    "bestiary.type.unique()"
   ]
  },
  {
   "cell_type": "markdown",
   "metadata": {},
   "source": [
    "W bestiariuszach nie ma nic oprócz bestii, więc nic nie usuwamy."
   ]
  },
  {
   "cell_type": "code",
   "execution_count": 124,
   "metadata": {},
   "outputs": [],
   "source": [
    "from copy import deepcopy\n",
    "\n",
    "\n",
    "bestiary_backup = deepcopy(bestiary)"
   ]
  },
  {
   "cell_type": "markdown",
   "metadata": {},
   "source": [
    "```unpack_column``` - Funkcja która rozpakowuje słownik i zmienia go w dataframe. Printuje pierwszą wartość tabeli i długość\n",
    "\n",
    "*by P J*"
   ]
  },
  {
   "cell_type": "code",
   "execution_count": 125,
   "metadata": {},
   "outputs": [],
   "source": [
    "def unpack_column(df, column_name):\n",
    "    new_df = df[column_name].apply(pd.Series)\n",
    "    return new_df"
   ]
  },
  {
   "cell_type": "markdown",
   "metadata": {},
   "source": [
    "## Wyodrębnianie kolumny *system* i przygotowanie danych\n",
    "Wszystkie potzrebne wartości znajdyją się w tej kolumnie"
   ]
  },
  {
   "cell_type": "code",
   "execution_count": 126,
   "metadata": {},
   "outputs": [],
   "source": [
    "bestiary_system = unpack_column(bestiary, \"system\")"
   ]
  },
  {
   "cell_type": "markdown",
   "metadata": {},
   "source": [
    "### Przygotowanie danych z system: *abilities*\n",
    "* cha\n",
    "* con\n",
    "* dex\n",
    "* int\n",
    "* str\n",
    "* wis\n"
   ]
  },
  {
   "cell_type": "code",
   "execution_count": 127,
   "metadata": {},
   "outputs": [],
   "source": [
    "abilities = unpack_column(bestiary_system, \"abilities\")\n",
    "\n",
    "for col in abilities.columns:\n",
    "    for i, row in abilities.iterrows():\n",
    "        row[col] = row[col].get(\"mod\")"
   ]
  },
  {
   "cell_type": "code",
   "execution_count": 128,
   "metadata": {},
   "outputs": [
    {
     "data": {
      "text/plain": "  cha con dex int str wis\n0   1   5   2   1   7   2\n1   1   5   0  -4   9   2\n2  -2   6   3  -4   7   3\n3   6   5   4   6   7   5\n4   1   1   3  -1  -5   1",
      "text/html": "<div>\n<style scoped>\n    .dataframe tbody tr th:only-of-type {\n        vertical-align: middle;\n    }\n\n    .dataframe tbody tr th {\n        vertical-align: top;\n    }\n\n    .dataframe thead th {\n        text-align: right;\n    }\n</style>\n<table border=\"1\" class=\"dataframe\">\n  <thead>\n    <tr style=\"text-align: right;\">\n      <th></th>\n      <th>cha</th>\n      <th>con</th>\n      <th>dex</th>\n      <th>int</th>\n      <th>str</th>\n      <th>wis</th>\n    </tr>\n  </thead>\n  <tbody>\n    <tr>\n      <th>0</th>\n      <td>1</td>\n      <td>5</td>\n      <td>2</td>\n      <td>1</td>\n      <td>7</td>\n      <td>2</td>\n    </tr>\n    <tr>\n      <th>1</th>\n      <td>1</td>\n      <td>5</td>\n      <td>0</td>\n      <td>-4</td>\n      <td>9</td>\n      <td>2</td>\n    </tr>\n    <tr>\n      <th>2</th>\n      <td>-2</td>\n      <td>6</td>\n      <td>3</td>\n      <td>-4</td>\n      <td>7</td>\n      <td>3</td>\n    </tr>\n    <tr>\n      <th>3</th>\n      <td>6</td>\n      <td>5</td>\n      <td>4</td>\n      <td>6</td>\n      <td>7</td>\n      <td>5</td>\n    </tr>\n    <tr>\n      <th>4</th>\n      <td>1</td>\n      <td>1</td>\n      <td>3</td>\n      <td>-1</td>\n      <td>-5</td>\n      <td>1</td>\n    </tr>\n  </tbody>\n</table>\n</div>"
     },
     "execution_count": 128,
     "metadata": {},
     "output_type": "execute_result"
    }
   ],
   "source": [
    "abilities.head()"
   ]
  },
  {
   "cell_type": "code",
   "execution_count": 129,
   "metadata": {},
   "outputs": [
    {
     "name": "stdout",
     "output_type": "stream",
     "text": [
      "<class 'pandas.core.frame.DataFrame'>\n",
      "Int64Index: 1206 entries, 0 to 364\n",
      "Data columns (total 6 columns):\n",
      " #   Column  Non-Null Count  Dtype \n",
      "---  ------  --------------  ----- \n",
      " 0   cha     1206 non-null   object\n",
      " 1   con     1206 non-null   object\n",
      " 2   dex     1206 non-null   object\n",
      " 3   int     1206 non-null   object\n",
      " 4   str     1206 non-null   object\n",
      " 5   wis     1206 non-null   object\n",
      "dtypes: object(6)\n",
      "memory usage: 66.0+ KB\n"
     ]
    }
   ],
   "source": [
    "abilities.info()"
   ]
  },
  {
   "cell_type": "markdown",
   "metadata": {},
   "source": [
    "### Przygotowanie danych z attributes"
   ]
  },
  {
   "cell_type": "code",
   "execution_count": 130,
   "metadata": {},
   "outputs": [],
   "source": [
    "attributes = unpack_column(bestiary_system, \"attributes\")"
   ]
  },
  {
   "cell_type": "markdown",
   "metadata": {},
   "source": [
    "#### Przygotowanie attributes: *ac*\n",
    "W modelu wykorzystamy wastość value z ac"
   ]
  },
  {
   "cell_type": "code",
   "execution_count": 131,
   "metadata": {},
   "outputs": [],
   "source": [
    "attributes_ac = unpack_column(attributes, \"ac\")"
   ]
  },
  {
   "cell_type": "code",
   "execution_count": 132,
   "metadata": {},
   "outputs": [],
   "source": [
    "attributes_ac = pd.DataFrame(data=attributes_ac.value)\n",
    "attributes_ac.columns = [\"ac\"]"
   ]
  },
  {
   "cell_type": "code",
   "execution_count": 133,
   "metadata": {},
   "outputs": [
    {
     "name": "stdout",
     "output_type": "stream",
     "text": [
      "<class 'pandas.core.frame.DataFrame'>\n",
      "Int64Index: 1206 entries, 0 to 364\n",
      "Data columns (total 1 columns):\n",
      " #   Column  Non-Null Count  Dtype\n",
      "---  ------  --------------  -----\n",
      " 0   ac      1206 non-null   int64\n",
      "dtypes: int64(1)\n",
      "memory usage: 18.8 KB\n"
     ]
    }
   ],
   "source": [
    "attributes_ac.info()"
   ]
  },
  {
   "cell_type": "code",
   "execution_count": 134,
   "metadata": {},
   "outputs": [
    {
     "data": {
      "text/plain": "   ac\n0  29\n1  28\n2  25\n3  41\n4  16",
      "text/html": "<div>\n<style scoped>\n    .dataframe tbody tr th:only-of-type {\n        vertical-align: middle;\n    }\n\n    .dataframe tbody tr th {\n        vertical-align: top;\n    }\n\n    .dataframe thead th {\n        text-align: right;\n    }\n</style>\n<table border=\"1\" class=\"dataframe\">\n  <thead>\n    <tr style=\"text-align: right;\">\n      <th></th>\n      <th>ac</th>\n    </tr>\n  </thead>\n  <tbody>\n    <tr>\n      <th>0</th>\n      <td>29</td>\n    </tr>\n    <tr>\n      <th>1</th>\n      <td>28</td>\n    </tr>\n    <tr>\n      <th>2</th>\n      <td>25</td>\n    </tr>\n    <tr>\n      <th>3</th>\n      <td>41</td>\n    </tr>\n    <tr>\n      <th>4</th>\n      <td>16</td>\n    </tr>\n  </tbody>\n</table>\n</div>"
     },
     "execution_count": 134,
     "metadata": {},
     "output_type": "execute_result"
    }
   ],
   "source": [
    "attributes_ac.head()"
   ]
  },
  {
   "cell_type": "markdown",
   "metadata": {},
   "source": [
    "#### Przygotowanie attributes: *hp*\n",
    "W modelu wykorzystamy wastość value z hp i jak na razie nie będziemy uwzględniać pozostałych"
   ]
  },
  {
   "cell_type": "code",
   "execution_count": 135,
   "metadata": {},
   "outputs": [],
   "source": [
    "attributes_hp = unpack_column(attributes, \"hp\")"
   ]
  },
  {
   "cell_type": "code",
   "execution_count": 136,
   "metadata": {},
   "outputs": [],
   "source": [
    "attributes_hp = pd.DataFrame(data=attributes_hp.value)\n",
    "attributes_hp.columns = [\"hp\"]"
   ]
  },
  {
   "cell_type": "code",
   "execution_count": 137,
   "metadata": {},
   "outputs": [
    {
     "name": "stdout",
     "output_type": "stream",
     "text": [
      "<class 'pandas.core.frame.DataFrame'>\n",
      "Int64Index: 1206 entries, 0 to 364\n",
      "Data columns (total 1 columns):\n",
      " #   Column  Non-Null Count  Dtype\n",
      "---  ------  --------------  -----\n",
      " 0   hp      1206 non-null   int64\n",
      "dtypes: int64(1)\n",
      "memory usage: 18.8 KB\n"
     ]
    }
   ],
   "source": [
    "attributes_hp.info()"
   ]
  },
  {
   "cell_type": "code",
   "execution_count": 138,
   "metadata": {},
   "outputs": [
    {
     "data": {
      "text/plain": "    hp\n0  215\n1  220\n2  175\n3  315\n4   20",
      "text/html": "<div>\n<style scoped>\n    .dataframe tbody tr th:only-of-type {\n        vertical-align: middle;\n    }\n\n    .dataframe tbody tr th {\n        vertical-align: top;\n    }\n\n    .dataframe thead th {\n        text-align: right;\n    }\n</style>\n<table border=\"1\" class=\"dataframe\">\n  <thead>\n    <tr style=\"text-align: right;\">\n      <th></th>\n      <th>hp</th>\n    </tr>\n  </thead>\n  <tbody>\n    <tr>\n      <th>0</th>\n      <td>215</td>\n    </tr>\n    <tr>\n      <th>1</th>\n      <td>220</td>\n    </tr>\n    <tr>\n      <th>2</th>\n      <td>175</td>\n    </tr>\n    <tr>\n      <th>3</th>\n      <td>315</td>\n    </tr>\n    <tr>\n      <th>4</th>\n      <td>20</td>\n    </tr>\n  </tbody>\n</table>\n</div>"
     },
     "execution_count": 138,
     "metadata": {},
     "output_type": "execute_result"
    }
   ],
   "source": [
    "attributes_hp.head()"
   ]
  },
  {
   "cell_type": "markdown",
   "metadata": {},
   "source": [
    "## Usunięcie niepotrzebnych wartości z oryginalnej tabeli i dodanie przygotowanych powyżej danych"
   ]
  },
  {
   "cell_type": "code",
   "execution_count": 139,
   "metadata": {},
   "outputs": [],
   "source": [
    "# bestiary_copy = deepcopy(bestiary)"
   ]
  },
  {
   "cell_type": "code",
   "execution_count": 140,
   "metadata": {},
   "outputs": [],
   "source": [
    "# bestiary = deepcopy(bestiary_copy)"
   ]
  },
  {
   "cell_type": "code",
   "execution_count": 141,
   "metadata": {},
   "outputs": [],
   "source": [
    "# bestiary = deepcopy(bestiary_backup)"
   ]
  },
  {
   "cell_type": "code",
   "execution_count": 142,
   "metadata": {},
   "outputs": [],
   "source": [
    "for col in abilities:\n",
    "    bestiary[col] = abilities[col]"
   ]
  },
  {
   "cell_type": "code",
   "execution_count": 143,
   "metadata": {},
   "outputs": [
    {
     "name": "stdout",
     "output_type": "stream",
     "text": [
      "<class 'pandas.core.frame.DataFrame'>\n",
      "Int64Index: 1206 entries, 0 to 364\n",
      "Data columns (total 14 columns):\n",
      " #   Column          Non-Null Count  Dtype \n",
      "---  ------          --------------  ----- \n",
      " 0   _id             1206 non-null   object\n",
      " 1   img             1206 non-null   object\n",
      " 2   items           1206 non-null   object\n",
      " 3   name            1206 non-null   object\n",
      " 4   system          1206 non-null   object\n",
      " 5   type            1206 non-null   object\n",
      " 6   flags           1206 non-null   object\n",
      " 7   prototypeToken  85 non-null     object\n",
      " 8   cha             1206 non-null   object\n",
      " 9   con             1206 non-null   object\n",
      " 10  dex             1206 non-null   object\n",
      " 11  int             1206 non-null   object\n",
      " 12  str             1206 non-null   object\n",
      " 13  wis             1206 non-null   object\n",
      "dtypes: object(14)\n",
      "memory usage: 141.3+ KB\n"
     ]
    }
   ],
   "source": [
    "bestiary.info()"
   ]
  },
  {
   "cell_type": "code",
   "execution_count": 144,
   "metadata": {},
   "outputs": [],
   "source": [
    "bestiary[\"ac\"] = attributes_ac"
   ]
  },
  {
   "cell_type": "code",
   "execution_count": 145,
   "metadata": {},
   "outputs": [
    {
     "name": "stdout",
     "output_type": "stream",
     "text": [
      "<class 'pandas.core.frame.DataFrame'>\n",
      "Int64Index: 1206 entries, 0 to 364\n",
      "Data columns (total 15 columns):\n",
      " #   Column          Non-Null Count  Dtype \n",
      "---  ------          --------------  ----- \n",
      " 0   _id             1206 non-null   object\n",
      " 1   img             1206 non-null   object\n",
      " 2   items           1206 non-null   object\n",
      " 3   name            1206 non-null   object\n",
      " 4   system          1206 non-null   object\n",
      " 5   type            1206 non-null   object\n",
      " 6   flags           1206 non-null   object\n",
      " 7   prototypeToken  85 non-null     object\n",
      " 8   cha             1206 non-null   object\n",
      " 9   con             1206 non-null   object\n",
      " 10  dex             1206 non-null   object\n",
      " 11  int             1206 non-null   object\n",
      " 12  str             1206 non-null   object\n",
      " 13  wis             1206 non-null   object\n",
      " 14  ac              1206 non-null   int64 \n",
      "dtypes: int64(1), object(14)\n",
      "memory usage: 150.8+ KB\n"
     ]
    }
   ],
   "source": [
    "bestiary.info()"
   ]
  },
  {
   "cell_type": "code",
   "execution_count": 146,
   "metadata": {},
   "outputs": [],
   "source": [
    "bestiary[\"hp\"] = attributes_hp"
   ]
  },
  {
   "cell_type": "code",
   "execution_count": 147,
   "metadata": {},
   "outputs": [
    {
     "name": "stdout",
     "output_type": "stream",
     "text": [
      "<class 'pandas.core.frame.DataFrame'>\n",
      "Int64Index: 1206 entries, 0 to 364\n",
      "Data columns (total 16 columns):\n",
      " #   Column          Non-Null Count  Dtype \n",
      "---  ------          --------------  ----- \n",
      " 0   _id             1206 non-null   object\n",
      " 1   img             1206 non-null   object\n",
      " 2   items           1206 non-null   object\n",
      " 3   name            1206 non-null   object\n",
      " 4   system          1206 non-null   object\n",
      " 5   type            1206 non-null   object\n",
      " 6   flags           1206 non-null   object\n",
      " 7   prototypeToken  85 non-null     object\n",
      " 8   cha             1206 non-null   object\n",
      " 9   con             1206 non-null   object\n",
      " 10  dex             1206 non-null   object\n",
      " 11  int             1206 non-null   object\n",
      " 12  str             1206 non-null   object\n",
      " 13  wis             1206 non-null   object\n",
      " 14  ac              1206 non-null   int64 \n",
      " 15  hp              1206 non-null   int64 \n",
      "dtypes: int64(2), object(14)\n",
      "memory usage: 160.2+ KB\n"
     ]
    }
   ],
   "source": [
    "bestiary.info()"
   ]
  },
  {
   "cell_type": "code",
   "execution_count": 148,
   "metadata": {},
   "outputs": [],
   "source": [
    "bestiary.drop(\"prototypeToken\", axis=1, inplace=True)\n",
    "bestiary.drop(\"flags\", axis=1, inplace=True)\n",
    "bestiary.drop(\"type\", axis=1, inplace=True)\n",
    "bestiary.drop(\"system\", axis=1, inplace=True)\n",
    "bestiary.drop(\"name\", axis=1, inplace=True)\n",
    "bestiary.drop(\"items\", axis=1, inplace=True)\n",
    "bestiary.drop(\"img\", axis=1, inplace=True)\n",
    "bestiary.drop(\"_id\", axis=1, inplace=True)"
   ]
  },
  {
   "cell_type": "code",
   "execution_count": 149,
   "metadata": {},
   "outputs": [
    {
     "name": "stdout",
     "output_type": "stream",
     "text": [
      "<class 'pandas.core.frame.DataFrame'>\n",
      "Int64Index: 1206 entries, 0 to 364\n",
      "Data columns (total 8 columns):\n",
      " #   Column  Non-Null Count  Dtype \n",
      "---  ------  --------------  ----- \n",
      " 0   cha     1206 non-null   object\n",
      " 1   con     1206 non-null   object\n",
      " 2   dex     1206 non-null   object\n",
      " 3   int     1206 non-null   object\n",
      " 4   str     1206 non-null   object\n",
      " 5   wis     1206 non-null   object\n",
      " 6   ac      1206 non-null   int64 \n",
      " 7   hp      1206 non-null   int64 \n",
      "dtypes: int64(2), object(6)\n",
      "memory usage: 84.8+ KB\n"
     ]
    }
   ],
   "source": [
    "bestiary.info()"
   ]
  },
  {
   "cell_type": "code",
   "execution_count": 150,
   "metadata": {},
   "outputs": [
    {
     "data": {
      "text/plain": "  cha con dex int str wis  ac   hp\n0   1   5   2   1   7   2  29  215\n1   1   5   0  -4   9   2  28  220\n2  -2   6   3  -4   7   3  25  175\n3   6   5   4   6   7   5  41  315\n4   1   1   3  -1  -5   1  16   20",
      "text/html": "<div>\n<style scoped>\n    .dataframe tbody tr th:only-of-type {\n        vertical-align: middle;\n    }\n\n    .dataframe tbody tr th {\n        vertical-align: top;\n    }\n\n    .dataframe thead th {\n        text-align: right;\n    }\n</style>\n<table border=\"1\" class=\"dataframe\">\n  <thead>\n    <tr style=\"text-align: right;\">\n      <th></th>\n      <th>cha</th>\n      <th>con</th>\n      <th>dex</th>\n      <th>int</th>\n      <th>str</th>\n      <th>wis</th>\n      <th>ac</th>\n      <th>hp</th>\n    </tr>\n  </thead>\n  <tbody>\n    <tr>\n      <th>0</th>\n      <td>1</td>\n      <td>5</td>\n      <td>2</td>\n      <td>1</td>\n      <td>7</td>\n      <td>2</td>\n      <td>29</td>\n      <td>215</td>\n    </tr>\n    <tr>\n      <th>1</th>\n      <td>1</td>\n      <td>5</td>\n      <td>0</td>\n      <td>-4</td>\n      <td>9</td>\n      <td>2</td>\n      <td>28</td>\n      <td>220</td>\n    </tr>\n    <tr>\n      <th>2</th>\n      <td>-2</td>\n      <td>6</td>\n      <td>3</td>\n      <td>-4</td>\n      <td>7</td>\n      <td>3</td>\n      <td>25</td>\n      <td>175</td>\n    </tr>\n    <tr>\n      <th>3</th>\n      <td>6</td>\n      <td>5</td>\n      <td>4</td>\n      <td>6</td>\n      <td>7</td>\n      <td>5</td>\n      <td>41</td>\n      <td>315</td>\n    </tr>\n    <tr>\n      <th>4</th>\n      <td>1</td>\n      <td>1</td>\n      <td>3</td>\n      <td>-1</td>\n      <td>-5</td>\n      <td>1</td>\n      <td>16</td>\n      <td>20</td>\n    </tr>\n  </tbody>\n</table>\n</div>"
     },
     "execution_count": 150,
     "metadata": {},
     "output_type": "execute_result"
    }
   ],
   "source": [
    "bestiary.head()"
   ]
  },
  {
   "cell_type": "markdown",
   "metadata": {},
   "source": [
    "## Wyobrębnienie wartości przewidywanej *level*"
   ]
  },
  {
   "cell_type": "code",
   "execution_count": 151,
   "metadata": {},
   "outputs": [],
   "source": [
    "level = unpack_column(unpack_column(bestiary_system, \"details\"), \"level\")"
   ]
  },
  {
   "cell_type": "code",
   "execution_count": 152,
   "metadata": {},
   "outputs": [],
   "source": [
    "level.columns = [\"level\"]"
   ]
  },
  {
   "cell_type": "code",
   "execution_count": 153,
   "metadata": {},
   "outputs": [
    {
     "name": "stdout",
     "output_type": "stream",
     "text": [
      "<class 'pandas.core.frame.DataFrame'>\n",
      "Int64Index: 1206 entries, 0 to 364\n",
      "Data columns (total 1 columns):\n",
      " #   Column  Non-Null Count  Dtype\n",
      "---  ------  --------------  -----\n",
      " 0   level   1206 non-null   int64\n",
      "dtypes: int64(1)\n",
      "memory usage: 18.8 KB\n"
     ]
    }
   ],
   "source": [
    "level.info()"
   ]
  },
  {
   "cell_type": "code",
   "execution_count": 154,
   "metadata": {},
   "outputs": [
    {
     "name": "stdout",
     "output_type": "stream",
     "text": [
      "     level\n",
      "0       10\n",
      "1       10\n",
      "2        8\n",
      "3       17\n",
      "4        1\n",
      "..     ...\n",
      "360     20\n",
      "361     -1\n",
      "362     12\n",
      "363      6\n",
      "364      6\n",
      "\n",
      "[1206 rows x 1 columns]\n"
     ]
    }
   ],
   "source": [
    "print(level)"
   ]
  },
  {
   "cell_type": "code",
   "execution_count": 155,
   "metadata": {},
   "outputs": [],
   "source": [
    "from collections import defaultdict\n",
    "\n",
    "\n",
    "lvl_stat = defaultdict(lambda: 0)\n",
    "\n",
    "for i, lvl in level[\"level\"].items():\n",
    "    lvl_stat[lvl] += 1"
   ]
  },
  {
   "cell_type": "code",
   "execution_count": 156,
   "metadata": {},
   "outputs": [
    {
     "name": "stdout",
     "output_type": "stream",
     "text": [
      "    lvl  count\n",
      "0    -1     34\n",
      "1     0     27\n",
      "2     1    127\n",
      "3     2    121\n",
      "4     3     95\n",
      "5     4     82\n",
      "6     5     76\n",
      "7     6     72\n",
      "8     7     77\n",
      "9     8     68\n",
      "10    9     63\n",
      "11   10     58\n",
      "12   11     40\n",
      "13   12     41\n",
      "14   13     36\n",
      "15   14     33\n",
      "16   15     31\n",
      "17   16     25\n",
      "18   17     21\n",
      "19   18     21\n",
      "20   19     18\n",
      "21   20     24\n",
      "22   21      8\n",
      "23   22      1\n",
      "24   23      4\n",
      "25   24      2\n",
      "26   25      1\n"
     ]
    }
   ],
   "source": [
    "level_count = pd.DataFrame(\n",
    "    data={\n",
    "        \"lvl\": [key for key in sorted(lvl_stat.keys())],\n",
    "        \"count\": [lvl_stat.get(key) for key in sorted(lvl_stat.keys())],\n",
    "    }\n",
    ")\n",
    "print(level_count)"
   ]
  },
  {
   "cell_type": "code",
   "execution_count": 157,
   "metadata": {},
   "outputs": [
    {
     "data": {
      "text/plain": "<Figure size 640x480 with 1 Axes>",
      "image/png": "[encoded data removed]"
     },
     "metadata": {},
     "output_type": "display_data"
    }
   ],
   "source": [
    "import matplotlib.pyplot as plt\n",
    "\n",
    "level_count.plot.bar(x=\"lvl\", y=\"count\", title=\"Count of levels\")\n",
    "plt.show()"
   ]
  },
  {
   "cell_type": "code",
   "execution_count": 158,
   "metadata": {},
   "outputs": [
    {
     "data": {
      "text/plain": "   level\n0     10\n1     10\n2      8\n3     17\n4      1",
      "text/html": "<div>\n<style scoped>\n    .dataframe tbody tr th:only-of-type {\n        vertical-align: middle;\n    }\n\n    .dataframe tbody tr th {\n        vertical-align: top;\n    }\n\n    .dataframe thead th {\n        text-align: right;\n    }\n</style>\n<table border=\"1\" class=\"dataframe\">\n  <thead>\n    <tr style=\"text-align: right;\">\n      <th></th>\n      <th>level</th>\n    </tr>\n  </thead>\n  <tbody>\n    <tr>\n      <th>0</th>\n      <td>10</td>\n    </tr>\n    <tr>\n      <th>1</th>\n      <td>10</td>\n    </tr>\n    <tr>\n      <th>2</th>\n      <td>8</td>\n    </tr>\n    <tr>\n      <th>3</th>\n      <td>17</td>\n    </tr>\n    <tr>\n      <th>4</th>\n      <td>1</td>\n    </tr>\n  </tbody>\n</table>\n</div>"
     },
     "execution_count": 158,
     "metadata": {},
     "output_type": "execute_result"
    }
   ],
   "source": [
    "level.head()"
   ]
  },
  {
   "cell_type": "markdown",
   "metadata": {},
   "source": [
    "## Podział na zbiór treningowy i testowy"
   ]
  },
  {
   "cell_type": "code",
   "execution_count": 168,
   "metadata": {
    "scrolled": true
   },
   "outputs": [
    {
     "name": "stdout",
     "output_type": "stream",
     "text": [
      "  cha con dex int str wis  ac   hp\n",
      "0   1   5   2   1   7   2  29  215\n",
      "1   1   5   0  -4   9   2  28  220\n",
      "2  -2   6   3  -4   7   3  25  175\n",
      "3   6   5   4   6   7   5  41  315\n",
      "4   1   1   3  -1  -5   1  16   20\n",
      "   level\n",
      "0     10\n",
      "1     10\n",
      "2      8\n",
      "3     17\n",
      "4      1\n"
     ]
    }
   ],
   "source": [
    "X = deepcopy(bestiary)\n",
    "y = deepcopy(level)\n",
    "print(X.head())\n",
    "print(y.head())"
   ]
  },
  {
   "cell_type": "markdown",
   "metadata": {},
   "source": [
    "### Skalowanie"
   ]
  },
  {
   "cell_type": "code",
   "execution_count": 240,
   "metadata": {},
   "outputs": [
    {
     "name": "stdout",
     "output_type": "stream",
     "text": [
      "      cha       con     dex       int       str       wis        ac        hp\n",
      "0  0.3750  0.416667  0.4375  0.400000  0.705882  0.333333  0.456522  0.386447\n",
      "1  0.3750  0.416667  0.3125  0.066667  0.823529  0.333333  0.434783  0.395604\n",
      "2  0.1875  0.500000  0.5000  0.066667  0.705882  0.416667  0.369565  0.313187\n",
      "3  0.6875  0.416667  0.5625  0.733333  0.705882  0.583333  0.717391  0.569597\n",
      "4  0.3750  0.083333  0.5000  0.266667  0.000000  0.250000  0.173913  0.029304\n",
      "   level\n",
      "0     10\n",
      "1     10\n",
      "2      8\n",
      "3     17\n",
      "4      1\n"
     ]
    }
   ],
   "source": [
    "from sklearn.preprocessing import MinMaxScaler\n",
    "\n",
    "data_columns = X.columns\n",
    "scaler = MinMaxScaler()\n",
    "X = pd.DataFrame(scaler.fit_transform(X))\n",
    "X.columns = data_columns\n",
    "\n",
    "print(X.head())\n",
    "print(y.head())"
   ]
  },
  {
   "cell_type": "code",
   "execution_count": 244,
   "metadata": {},
   "outputs": [],
   "source": [
    "from sklearn.model_selection import train_test_split\n",
    "\n",
    "X_train, X_test, y_train, y_test = train_test_split(\n",
    "    X, y, test_size=0.25, random_state=0, shuffle=True\n",
    ")"
   ]
  },
  {
   "cell_type": "markdown",
   "metadata": {},
   "source": [
    "## Regresja liniowa"
   ]
  },
  {
   "cell_type": "code",
   "execution_count": 245,
   "metadata": {},
   "outputs": [],
   "source": [
    "from sklearn.linear_model import LinearRegression\n",
    "\n",
    "\n",
    "model = LinearRegression()\n",
    "model.fit(X_train, y_train)\n",
    "predict_train = model.predict(X_train)\n",
    "predict = model.predict(X_test)"
   ]
  },
  {
   "cell_type": "markdown",
   "metadata": {},
   "source": [
    "## Sprawdzenie modelu"
   ]
  },
  {
   "cell_type": "code",
   "execution_count": 246,
   "metadata": {
    "scrolled": true
   },
   "outputs": [
    {
     "name": "stdout",
     "output_type": "stream",
     "text": [
      "R2 score:0.98\n"
     ]
    }
   ],
   "source": [
    "from sklearn.metrics import r2_score\n",
    "\n",
    "predict_train = model.predict(X_train)\n",
    "r2 = r2_score(y_train, predict_train)\n",
    "print(f\"R2 score:{r2:.2f}\")"
   ]
  },
  {
   "cell_type": "markdown",
   "metadata": {},
   "source": [
    "R2 jest blisko 1, więc model jest dobrze dostosowany do danych"
   ]
  },
  {
   "cell_type": "code",
   "execution_count": 247,
   "metadata": {
    "scrolled": false
   },
   "outputs": [
    {
     "name": "stdout",
     "output_type": "stream",
     "text": [
      "Mean square error: 0.59\n",
      "RMSE: 0.77\n"
     ]
    }
   ],
   "source": [
    "from sklearn.metrics import mean_squared_error\n",
    "\n",
    "mse = mean_squared_error(y_test, predict)\n",
    "rmse = mean_squared_error(y_test, predict, squared=False)\n",
    "print(f\"Mean square error: {mse:.2f}\")\n",
    "print(f\"RMSE: {rmse:.2f}\")"
   ]
  },
  {
   "cell_type": "markdown",
   "metadata": {},
   "source": [
    "RMSE nie jest najgorsze, ale dobrze by było jakby było mniejsze"
   ]
  },
  {
   "cell_type": "code",
   "execution_count": 248,
   "metadata": {
    "scrolled": true
   },
   "outputs": [
    {
     "name": "stdout",
     "output_type": "stream",
     "text": [
      "RMSE train: 0.74\n",
      "RMSE test: 0.77\n"
     ]
    }
   ],
   "source": [
    "rmse_train = mean_squared_error(y_train, predict_train, squared=False)\n",
    "rmse_test = mean_squared_error(y_test, predict, squared=False)\n",
    "print(f\"RMSE train: {rmse_train:.2f}\")\n",
    "print(f\"RMSE test: {rmse_test:.2f}\")"
   ]
  },
  {
   "cell_type": "markdown",
   "metadata": {},
   "source": [
    "Błąd treningowy nie jest dużo mniejszy niż testowy, więc nie mamy overfittingu."
   ]
  },
  {
   "cell_type": "code",
   "execution_count": 111,
   "metadata": {},
   "outputs": [
    {
     "name": "stdout",
     "output_type": "stream",
     "text": [
      "Mean absolute error = 0.53\n",
      "Median absolute error = 0.33\n"
     ]
    }
   ],
   "source": [
    "from sklearn.metrics import (\n",
    "    mean_absolute_error,\n",
    "    median_absolute_error,\n",
    ")\n",
    "\n",
    "\n",
    "print(f\"Mean absolute error = {mean_absolute_error(y_test, predict):.2f}\")\n",
    "print(f\"Median absolute error = {median_absolute_error(y_test, predict):.2f}\")"
   ]
  },
  {
   "cell_type": "code",
   "execution_count": 112,
   "metadata": {},
   "outputs": [
    {
     "data": {
      "text/plain": "     level\n395      4\n5        7\n141     13\n452      8\n52      10\n..     ...\n77      13\n11       0\n155     13\n240     13\n52      13\n\n[302 rows x 1 columns]",
      "text/html": "<div>\n<style scoped>\n    .dataframe tbody tr th:only-of-type {\n        vertical-align: middle;\n    }\n\n    .dataframe tbody tr th {\n        vertical-align: top;\n    }\n\n    .dataframe thead th {\n        text-align: right;\n    }\n</style>\n<table border=\"1\" class=\"dataframe\">\n  <thead>\n    <tr style=\"text-align: right;\">\n      <th></th>\n      <th>level</th>\n    </tr>\n  </thead>\n  <tbody>\n    <tr>\n      <th>395</th>\n      <td>4</td>\n    </tr>\n    <tr>\n      <th>5</th>\n      <td>7</td>\n    </tr>\n    <tr>\n      <th>141</th>\n      <td>13</td>\n    </tr>\n    <tr>\n      <th>452</th>\n      <td>8</td>\n    </tr>\n    <tr>\n      <th>52</th>\n      <td>10</td>\n    </tr>\n    <tr>\n      <th>...</th>\n      <td>...</td>\n    </tr>\n    <tr>\n      <th>77</th>\n      <td>13</td>\n    </tr>\n    <tr>\n      <th>11</th>\n      <td>0</td>\n    </tr>\n    <tr>\n      <th>155</th>\n      <td>13</td>\n    </tr>\n    <tr>\n      <th>240</th>\n      <td>13</td>\n    </tr>\n    <tr>\n      <th>52</th>\n      <td>13</td>\n    </tr>\n  </tbody>\n</table>\n<p>302 rows × 1 columns</p>\n</div>"
     },
     "execution_count": 112,
     "metadata": {},
     "output_type": "execute_result"
    }
   ],
   "source": [
    "y_test"
   ]
  },
  {
   "cell_type": "markdown",
   "metadata": {},
   "source": [
    "### Sprawdzenie wyników po zaokrągleniu"
   ]
  },
  {
   "cell_type": "code",
   "execution_count": 113,
   "metadata": {},
   "outputs": [],
   "source": [
    "from math import ceil, floor\n",
    "\n",
    "\n",
    "round_predict = deepcopy(predict)\n",
    "ceil_predict = deepcopy(predict)\n",
    "floor_predict = deepcopy(predict)\n",
    "\n",
    "for i in range(len(round_predict)):\n",
    "    round_predict[i][0] = round(round_predict[i][0], 0)\n",
    "    ceil_predict[i][0] = ceil(ceil_predict[i][0])\n",
    "    floor_predict[i][0] = floor(floor_predict[i][0])"
   ]
  },
  {
   "cell_type": "code",
   "execution_count": 114,
   "metadata": {},
   "outputs": [],
   "source": [
    "def check_predictions(y, y_pred):\n",
    "    print(f\"Mean square error: {mean_squared_error(y, y_pred):.2f}\")\n",
    "    print(f\"RMSE: {mean_squared_error(y, y_pred, squared=False):.2f}\")\n",
    "    print(f\"Mean absolute error = {mean_absolute_error(y, y_pred):.2f}\")\n",
    "    print(f\"Median absolute error = {median_absolute_error(y, y_pred):.2f}\")\n",
    "    print()"
   ]
  },
  {
   "cell_type": "code",
   "execution_count": 115,
   "metadata": {},
   "outputs": [
    {
     "name": "stdout",
     "output_type": "stream",
     "text": [
      "Normal:\n",
      "Mean square error: 0.59\n",
      "RMSE: 0.77\n",
      "Mean absolute error = 0.53\n",
      "Median absolute error = 0.33\n",
      "\n",
      "Round:\n",
      "Mean square error: 0.65\n",
      "RMSE: 0.80\n",
      "Mean absolute error = 0.46\n",
      "Median absolute error = 0.00\n",
      "\n",
      "Ceil:\n",
      "Mean square error: 0.86\n",
      "RMSE: 0.93\n",
      "Mean absolute error = 0.64\n",
      "Median absolute error = 1.00\n",
      "\n",
      "Floor:\n",
      "Mean square error: 1.06\n",
      "RMSE: 1.03\n",
      "Mean absolute error = 0.76\n",
      "Median absolute error = 1.00\n",
      "\n"
     ]
    }
   ],
   "source": [
    "print(\"Normal:\")\n",
    "check_predictions(y_test, predict)\n",
    "\n",
    "print(\"Round:\")\n",
    "check_predictions(y_test, round_predict)\n",
    "\n",
    "print(\"Ceil:\")\n",
    "check_predictions(y_test, ceil_predict)\n",
    "\n",
    "print(\"Floor:\")\n",
    "check_predictions(y_test, floor_predict)"
   ]
  },
  {
   "cell_type": "markdown",
   "metadata": {},
   "source": [
    "Najlepiej klasyfikuje round."
   ]
  },
  {
   "cell_type": "markdown",
   "metadata": {},
   "source": [
    "### Macierz sąsiedztwa\n",
    "Zobaczymy, które klasy są ze sobą mylone."
   ]
  },
  {
   "cell_type": "code",
   "execution_count": 116,
   "metadata": {},
   "outputs": [
    {
     "name": "stdout",
     "output_type": "stream",
     "text": [
      "[10  8 17  1  7  4  5 -1  0  9  2 20 19 16  6 18 14 13  3 25 15 11 12 21\n",
      " 23 22 24]\n"
     ]
    }
   ],
   "source": [
    "print(y[\"level\"].unique())"
   ]
  },
  {
   "cell_type": "code",
   "execution_count": 117,
   "metadata": {
    "scrolled": true
   },
   "outputs": [
    {
     "data": {
      "text/plain": "<Figure size 640x480 with 2 Axes>",
      "image/png": "[encoded data removed]"
     },
     "metadata": {},
     "output_type": "display_data"
    }
   ],
   "source": [
    "from sklearn.metrics import confusion_matrix, ConfusionMatrixDisplay\n",
    "\n",
    "cm = confusion_matrix(y_test, round_predict)\n",
    "\n",
    "disp = ConfusionMatrixDisplay(\n",
    "    confusion_matrix=cm, display_labels=np.unique(round_predict).astype(\"int\")\n",
    ")\n",
    "\n",
    "disp.plot()\n",
    "plt.title(\"Confusion matrix\")\n",
    "plt.show()"
   ]
  },
  {
   "cell_type": "markdown",
   "metadata": {},
   "source": [
    "## Tuning"
   ]
  },
  {
   "cell_type": "code",
   "execution_count": 118,
   "metadata": {},
   "outputs": [],
   "source": [
    "def assess_regression_model(model, X_train, X_test, y_train, y_test) -> None:\n",
    "    # predict for train and test\n",
    "    y_pred_test = model.predict(X_test)\n",
    "    y_pred_train = model.predict(X_train)\n",
    "    # calculate R2\n",
    "    r2 = model.score(X_train, y_train)\n",
    "    # calculate train and test RMSE\n",
    "    rmse_train = mean_squared_error(y_train, y_pred_train, squared=False)\n",
    "    rmse_test = mean_squared_error(y_test, y_pred_test, squared=False)\n",
    "    # print train and test RMSE\n",
    "    print(f\"R2: {r2:.2f}\")\n",
    "    print(f\"RMSE train: {rmse_train:.2f}\")\n",
    "    print(f\"RMSE test: {rmse_test:.2f}\")"
   ]
  },
  {
   "cell_type": "markdown",
   "metadata": {},
   "source": [
    "### Regresja"
   ]
  },
  {
   "cell_type": "code",
   "execution_count": 119,
   "metadata": {
    "scrolled": true
   },
   "outputs": [
    {
     "name": "stdout",
     "output_type": "stream",
     "text": [
      "R2: 0.98\n",
      "RMSE train: 0.74\n",
      "RMSE test: 0.77\n"
     ]
    }
   ],
   "source": [
    "reg_linear = LinearRegression()\n",
    "reg_linear.fit(X_train, y_train)\n",
    "\n",
    "assess_regression_model(reg_linear, X_train, X_test, y_train, y_test)"
   ]
  },
  {
   "cell_type": "markdown",
   "metadata": {},
   "source": [
    "### Tuning (regularyzacja ridge, LASSO)"
   ]
  },
  {
   "cell_type": "code",
   "execution_count": 120,
   "metadata": {
    "scrolled": false
   },
   "outputs": [
    {
     "name": "stdout",
     "output_type": "stream",
     "text": [
      "Ridge CV alpha: 0.1000\n",
      "Lasso CV alpha: 0.0067\n",
      "\n",
      "Ridge:\n",
      "R2: 0.98\n",
      "RMSE train: 0.74\n",
      "RMSE test: 0.77\n",
      "\n",
      "Lasso:\n",
      "R2: 0.98\n",
      "RMSE train: 0.75\n",
      "RMSE test: 0.79\n"
     ]
    }
   ],
   "source": [
    "from sklearn.linear_model import RidgeCV, LassoCV\n",
    "\n",
    "reg_ridge_cv = RidgeCV(alphas=np.linspace(0.1, 100, 1000))\n",
    "reg_lasso_cv = LassoCV(n_alphas=1000, random_state=0)\n",
    "\n",
    "reg_ridge_cv = reg_ridge_cv.fit(X_train, y_train)\n",
    "reg_lasso_cv = reg_lasso_cv.fit(\n",
    "    X_train,\n",
    "    np.array(y_train).reshape(\n",
    "        y_train.size,\n",
    "    ),\n",
    ")\n",
    "\n",
    "print(f\"Ridge CV alpha: {reg_ridge_cv.alpha_:.4f}\")\n",
    "print(f\"Lasso CV alpha: {reg_lasso_cv.alpha_:.4f}\")\n",
    "print()\n",
    "print(\"Ridge:\")\n",
    "assess_regression_model(reg_ridge_cv, X_train, X_test, y_train, y_test)\n",
    "print()\n",
    "print(\"Lasso:\")\n",
    "assess_regression_model(reg_lasso_cv, X_train, X_test, y_train, y_test)"
   ]
  },
  {
   "cell_type": "markdown",
   "metadata": {},
   "source": [
    "* RMSE się nie poprawiło. \n",
    "* Alpha dla ridge i lasso wychodzą z dolnej granicy zakresu, więc bliżej przeszukamy tamte okolice."
   ]
  },
  {
   "cell_type": "markdown",
   "metadata": {},
   "source": [
    "### Sprawdzenie regularyzacji po zmianie zakresu hiperparametrów"
   ]
  },
  {
   "cell_type": "code",
   "execution_count": 121,
   "metadata": {
    "scrolled": true
   },
   "outputs": [
    {
     "name": "stdout",
     "output_type": "stream",
     "text": [
      "Ridge CV alphas: 0.0296\n",
      "Lasso CV alpha: 0.0067\n",
      "\n",
      "Ridge:\n",
      "R2: 0.98\n",
      "RMSE train: 0.74\n",
      "RMSE test: 0.77\n",
      "\n",
      "Lasso:\n",
      "R2: 0.98\n",
      "RMSE train: 0.75\n",
      "RMSE test: 0.79\n"
     ]
    }
   ],
   "source": [
    "from sklearn.linear_model import RidgeCV, LassoCV\n",
    "\n",
    "reg_ridge_cv = RidgeCV(alphas=np.linspace(1e-3, 1, 10000))\n",
    "reg_lasso_cv = LassoCV(alphas=np.linspace(1e-4, 1e-1, 1000), random_state=0)\n",
    "\n",
    "reg_ridge_cv = reg_ridge_cv.fit(X_train, y_train)\n",
    "reg_lasso_cv = reg_lasso_cv.fit(\n",
    "    X_train,\n",
    "    np.array(y_train).reshape(\n",
    "        y_train.size,\n",
    "    ),\n",
    ")\n",
    "\n",
    "print(f\"Ridge CV alphas: {reg_ridge_cv.alpha_:.4f}\")\n",
    "print(f\"Lasso CV alpha: {reg_lasso_cv.alpha_:.4f}\")\n",
    "print()\n",
    "print(\"Ridge:\")\n",
    "assess_regression_model(reg_ridge_cv, X_train, X_test, y_train, y_test)\n",
    "print()\n",
    "print(\"Lasso:\")\n",
    "assess_regression_model(reg_lasso_cv, X_train, X_test, y_train, y_test)"
   ]
  },
  {
   "cell_type": "markdown",
   "metadata": {},
   "source": [
    "Alpha dla ridge się zmniejszyła, natomiast nie widać znaczącej poprawy wyników."
   ]
  },
  {
   "cell_type": "markdown",
   "metadata": {},
   "source": [
    "### Ocena cech"
   ]
  },
  {
   "cell_type": "code",
   "execution_count": 122,
   "metadata": {
    "scrolled": true
   },
   "outputs": [
    {
     "data": {
      "text/plain": "<Axes: title={'center': 'Best features'}, ylabel='feature name'>"
     },
     "execution_count": 122,
     "metadata": {},
     "output_type": "execute_result"
    },
    {
     "data": {
      "text/plain": "<Figure size 640x480 with 1 Axes>",
      "image/png": "[encoded data removed]"
     },
     "metadata": {},
     "output_type": "display_data"
    }
   ],
   "source": [
    "feature_names = X.columns\n",
    "\n",
    "ridgecv_coefficients = pd.DataFrame(\n",
    "    {\n",
    "        \"feature name\": [feature_names[i] for i in range(len(feature_names))],\n",
    "        \"coefficients\": [reg_ridge_cv.coef_[0, i] for i in range(len(feature_names))],\n",
    "    }\n",
    ")\n",
    "best_features = ridgecv_coefficients.sort_values(\"coefficients\", ascending=False)\n",
    "best_features.plot.barh(x=\"feature name\", y=\"coefficients\", title=\"Best features\")"
   ]
  },
  {
   "cell_type": "markdown",
   "metadata": {},
   "source": [
    "Ma to jakiś sens. Dziwi mnie, że atrybuty nie mają znaczenia, gdyż na ich podstawie są budowane inne statystyki, najwyraźniej inne modyfikatory dominują nad atrybutami. Dziwne, że strenght nie ma dużego znaczenia i wychodzi ujemny czyli jakby był odwrotnie proporcjonalny do CRu. Najwyraźniej modyfikator siły nie ma tak dużego znaczenia w zadawanych obrażeniach."
   ]
  },
  {
   "cell_type": "code",
   "execution_count": 123,
   "metadata": {
    "scrolled": true
   },
   "outputs": [
    {
     "name": "stdout",
     "output_type": "stream",
     "text": [
      "['cha', 'dex', 'int', 'str', 'wis']\n"
     ]
    }
   ],
   "source": [
    "eliminated_features = sorted(feature_names[reg_lasso_cv.coef_ == 0])\n",
    "print(eliminated_features)"
   ]
  },
  {
   "cell_type": "markdown",
   "metadata": {},
   "source": [
    "Lasso wyeliminowało nam wszystkie atrybuty oprócz constitution."
   ]
  },
  {
   "cell_type": "markdown",
   "metadata": {},
   "source": [
    "### Podsumowując\n",
    "Regularyzacja nie polepszyła wyników. Napewno warto korzystać z LASSO, żeby wyeliminować jakieś cechy, natomiast gdy jest ich tylko 8 to nie jest to takie ważne.\n",
    "Może dla większej ilości parametrów będzie miała więcej sensu."
   ]
  },
  {
   "cell_type": "markdown",
   "source": [
    "### Parameters:\n",
    "* **abilities**:\n",
    "    * **cha**\n",
    "    * **con**\n",
    "    * **dex**\n",
    "    * **int**\n",
    "    * **str**\n",
    "    * **wis**\n",
    "* **attributes**\n",
    "    * **hp**\n",
    "    * **ac**\n",
    "    * **perception**\n",
    "* **saves**\n",
    "    * **fortitude**\n",
    "    * **reflex**\n",
    "    * **will**\n",
    "* **resources**\n",
    "    * **focus**\n",
    "\n",
    "### Prediction: *level*"
   ],
   "metadata": {
    "collapsed": false
   }
  },
  {
   "cell_type": "markdown",
   "source": [
    "## Loading data"
   ],
   "metadata": {
    "collapsed": false
   }
  },
  {
   "cell_type": "code",
   "execution_count": 135,
   "outputs": [],
   "source": [
    "import sys\n",
    "\n",
    "import os\n",
    "import pathlib\n",
    "\n",
    "sys.path.append(\"../..\")\n",
    "from training.creating_dataset import load_and_preprocess_data\n",
    "\n",
    "current_path = os.getcwd()\n",
    "DATASETS_DIR = pathlib.Path(current_path).parent.parent / \"pathfinder_2e_data\"\n",
    "DATASET_FILES = [\n",
    "    \"pathfinder-bestiary.db\",\n",
    "    \"pathfinder-bestiary-2.db\",\n",
    "    \"pathfinder-bestiary-3.db\",\n",
    "]\n",
    "DATASET_PATHS = [f\"{DATASETS_DIR}/{file}\" for file in DATASET_FILES]\n",
    "characteristics = [\n",
    "    \"cha\",\n",
    "    \"con\",\n",
    "    \"dex\",\n",
    "    \"int\",\n",
    "    \"str\",\n",
    "    \"wis\",\n",
    "    \"ac\",\n",
    "    \"hp\",\n",
    "    \"perception\",\n",
    "    \"fortitude\",\n",
    "    \"reflex\",\n",
    "    \"will\",\n",
    "    \"focus\",\n",
    "]\n",
    "\n",
    "df = load_and_preprocess_data(\n",
    "    DATASET_PATHS,\n",
    "    characteristics=characteristics,\n",
    ")"
   ],
   "metadata": {
    "collapsed": false
   }
  },
  {
   "cell_type": "code",
   "execution_count": 136,
   "outputs": [
    {
     "data": {
      "text/plain": "   dex  con  ac   hp  cha  int  reflex  will  str  focus  level  wis  \\\n0    2    5  29  215    1    1      19    17    7      1     10    2   \n1    0    5  28  220    1   -4      14    16    9      0     10    2   \n2    3    6  25  175   -2   -4      17    15    7      0      8    3   \n3    4    5  41  315    6    6      29    32    7      1     17    5   \n4    3    1  16   20    1   -1      10     4   -5      1      1    1   \n\n                  book  perception  fortitude  \n0  Pathfinder Bestiary          20         22  \n1  Pathfinder Bestiary          16         21  \n2  Pathfinder Bestiary          17         20  \n3  Pathfinder Bestiary          30         30  \n4  Pathfinder Bestiary           6          6  ",
      "text/html": "<div>\n<style scoped>\n    .dataframe tbody tr th:only-of-type {\n        vertical-align: middle;\n    }\n\n    .dataframe tbody tr th {\n        vertical-align: top;\n    }\n\n    .dataframe thead th {\n        text-align: right;\n    }\n</style>\n<table border=\"1\" class=\"dataframe\">\n  <thead>\n    <tr style=\"text-align: right;\">\n      <th></th>\n      <th>dex</th>\n      <th>con</th>\n      <th>ac</th>\n      <th>hp</th>\n      <th>cha</th>\n      <th>int</th>\n      <th>reflex</th>\n      <th>will</th>\n      <th>str</th>\n      <th>focus</th>\n      <th>level</th>\n      <th>wis</th>\n      <th>book</th>\n      <th>perception</th>\n      <th>fortitude</th>\n    </tr>\n  </thead>\n  <tbody>\n    <tr>\n      <th>0</th>\n      <td>2</td>\n      <td>5</td>\n      <td>29</td>\n      <td>215</td>\n      <td>1</td>\n      <td>1</td>\n      <td>19</td>\n      <td>17</td>\n      <td>7</td>\n      <td>1</td>\n      <td>10</td>\n      <td>2</td>\n      <td>Pathfinder Bestiary</td>\n      <td>20</td>\n      <td>22</td>\n    </tr>\n    <tr>\n      <th>1</th>\n      <td>0</td>\n      <td>5</td>\n      <td>28</td>\n      <td>220</td>\n      <td>1</td>\n      <td>-4</td>\n      <td>14</td>\n      <td>16</td>\n      <td>9</td>\n      <td>0</td>\n      <td>10</td>\n      <td>2</td>\n      <td>Pathfinder Bestiary</td>\n      <td>16</td>\n      <td>21</td>\n    </tr>\n    <tr>\n      <th>2</th>\n      <td>3</td>\n      <td>6</td>\n      <td>25</td>\n      <td>175</td>\n      <td>-2</td>\n      <td>-4</td>\n      <td>17</td>\n      <td>15</td>\n      <td>7</td>\n      <td>0</td>\n      <td>8</td>\n      <td>3</td>\n      <td>Pathfinder Bestiary</td>\n      <td>17</td>\n      <td>20</td>\n    </tr>\n    <tr>\n      <th>3</th>\n      <td>4</td>\n      <td>5</td>\n      <td>41</td>\n      <td>315</td>\n      <td>6</td>\n      <td>6</td>\n      <td>29</td>\n      <td>32</td>\n      <td>7</td>\n      <td>1</td>\n      <td>17</td>\n      <td>5</td>\n      <td>Pathfinder Bestiary</td>\n      <td>30</td>\n      <td>30</td>\n    </tr>\n    <tr>\n      <th>4</th>\n      <td>3</td>\n      <td>1</td>\n      <td>16</td>\n      <td>20</td>\n      <td>1</td>\n      <td>-1</td>\n      <td>10</td>\n      <td>4</td>\n      <td>-5</td>\n      <td>1</td>\n      <td>1</td>\n      <td>1</td>\n      <td>Pathfinder Bestiary</td>\n      <td>6</td>\n      <td>6</td>\n    </tr>\n  </tbody>\n</table>\n</div>"
     },
     "execution_count": 136,
     "metadata": {},
     "output_type": "execute_result"
    }
   ],
   "source": [
    "df.head()"
   ],
   "metadata": {
    "collapsed": false
   }
  },
  {
   "cell_type": "markdown",
   "source": [
    "## Train test split\n",
    "### Chronological split"
   ],
   "metadata": {
    "collapsed": false
   }
  },
  {
   "cell_type": "code",
   "execution_count": 151,
   "outputs": [],
   "source": [
    "from training.splitting_dataset import split_dataframe\n",
    "\n",
    "os.chdir(\"../../training\")\n",
    "X_train, X_test, y_train, y_test = split_dataframe(df, test_size=0.31)\n",
    "os.chdir(\"../notebooks/models\")"
   ],
   "metadata": {
    "collapsed": false
   }
  },
  {
   "cell_type": "code",
   "execution_count": 152,
   "outputs": [],
   "source": [
    "X_train = X_train.drop(columns=[\"book\"])\n",
    "X_test = X_test.drop(columns=[\"book\"])"
   ],
   "metadata": {
    "collapsed": false
   }
  },
  {
   "cell_type": "code",
   "execution_count": 153,
   "outputs": [
    {
     "name": "stdout",
     "output_type": "stream",
     "text": [
      "<class 'pandas.core.frame.DataFrame'>\n",
      "Int64Index: 841 entries, 0 to 840\n",
      "Data columns (total 13 columns):\n",
      " #   Column      Non-Null Count  Dtype \n",
      "---  ------      --------------  ----- \n",
      " 0   dex         841 non-null    object\n",
      " 1   con         841 non-null    object\n",
      " 2   ac          841 non-null    object\n",
      " 3   hp          841 non-null    object\n",
      " 4   cha         841 non-null    object\n",
      " 5   int         841 non-null    object\n",
      " 6   reflex      841 non-null    object\n",
      " 7   will        841 non-null    object\n",
      " 8   str         841 non-null    object\n",
      " 9   focus       841 non-null    object\n",
      " 10  wis         841 non-null    object\n",
      " 11  perception  841 non-null    object\n",
      " 12  fortitude   841 non-null    object\n",
      "dtypes: object(13)\n",
      "memory usage: 92.0+ KB\n"
     ]
    }
   ],
   "source": [
    "X_train.info()"
   ],
   "metadata": {
    "collapsed": false
   }
  },
  {
   "cell_type": "code",
   "execution_count": 154,
   "outputs": [
    {
     "name": "stdout",
     "output_type": "stream",
     "text": [
      "<class 'pandas.core.frame.DataFrame'>\n",
      "Int64Index: 365 entries, 841 to 1205\n",
      "Data columns (total 13 columns):\n",
      " #   Column      Non-Null Count  Dtype\n",
      "---  ------      --------------  -----\n",
      " 0   dex         365 non-null    int64\n",
      " 1   con         365 non-null    int64\n",
      " 2   ac          365 non-null    int64\n",
      " 3   hp          365 non-null    int64\n",
      " 4   cha         365 non-null    int64\n",
      " 5   int         365 non-null    int64\n",
      " 6   reflex      365 non-null    int64\n",
      " 7   will        365 non-null    int64\n",
      " 8   str         365 non-null    int64\n",
      " 9   focus       365 non-null    int32\n",
      " 10  wis         365 non-null    int64\n",
      " 11  perception  365 non-null    int64\n",
      " 12  fortitude   365 non-null    int64\n",
      "dtypes: int32(1), int64(12)\n",
      "memory usage: 38.5 KB\n"
     ]
    }
   ],
   "source": [
    "X_test.info()"
   ],
   "metadata": {
    "collapsed": false
   }
  },
  {
   "cell_type": "code",
   "execution_count": 155,
   "outputs": [
    {
     "name": "stdout",
     "output_type": "stream",
     "text": [
      "<class 'pandas.core.frame.DataFrame'>\n",
      "Int64Index: 841 entries, 0 to 840\n",
      "Data columns (total 13 columns):\n",
      " #   Column      Non-Null Count  Dtype\n",
      "---  ------      --------------  -----\n",
      " 0   dex         841 non-null    int64\n",
      " 1   con         841 non-null    int64\n",
      " 2   ac          841 non-null    int64\n",
      " 3   hp          841 non-null    int64\n",
      " 4   cha         841 non-null    int64\n",
      " 5   int         841 non-null    int64\n",
      " 6   reflex      841 non-null    int64\n",
      " 7   will        841 non-null    int64\n",
      " 8   str         841 non-null    int64\n",
      " 9   focus       841 non-null    int64\n",
      " 10  wis         841 non-null    int64\n",
      " 11  perception  841 non-null    int64\n",
      " 12  fortitude   841 non-null    int64\n",
      "dtypes: int64(13)\n",
      "memory usage: 92.0 KB\n"
     ]
    }
   ],
   "source": [
    "X_train = X_train.astype(\"int64\")\n",
    "X_train.info()"
   ],
   "metadata": {
    "collapsed": false
   }
  },
  {
   "cell_type": "code",
   "execution_count": 156,
   "outputs": [
    {
     "name": "stdout",
     "output_type": "stream",
     "text": [
      "<class 'pandas.core.series.Series'>\n",
      "Int64Index: 841 entries, 0 to 840\n",
      "Series name: level\n",
      "Non-Null Count  Dtype \n",
      "--------------  ----- \n",
      "841 non-null    object\n",
      "dtypes: object(1)\n",
      "memory usage: 13.1+ KB\n"
     ]
    }
   ],
   "source": [
    "y_train.info()"
   ],
   "metadata": {
    "collapsed": false
   }
  },
  {
   "cell_type": "code",
   "execution_count": 157,
   "outputs": [
    {
     "name": "stdout",
     "output_type": "stream",
     "text": [
      "<class 'pandas.core.series.Series'>\n",
      "Int64Index: 841 entries, 0 to 840\n",
      "Series name: level\n",
      "Non-Null Count  Dtype\n",
      "--------------  -----\n",
      "841 non-null    int64\n",
      "dtypes: int64(1)\n",
      "memory usage: 13.1 KB\n"
     ]
    }
   ],
   "source": [
    "y_train = y_train.astype(\"int64\")\n",
    "y_train.info()"
   ],
   "metadata": {
    "collapsed": false
   }
  },
  {
   "cell_type": "code",
   "execution_count": 149,
   "outputs": [
    {
     "data": {
      "text/plain": "841     3\n842     9\n843     0\n844     1\n845    15\nName: level, dtype: int64"
     },
     "execution_count": 149,
     "metadata": {},
     "output_type": "execute_result"
    }
   ],
   "source": [
    "y_test.head()"
   ],
   "metadata": {
    "collapsed": false
   }
  },
  {
   "cell_type": "markdown",
   "source": [
    "### Random split"
   ],
   "metadata": {
    "collapsed": false
   }
  },
  {
   "cell_type": "code",
   "execution_count": 158,
   "outputs": [],
   "source": [
    "from training.splitting_dataset import split_dataframe\n",
    "\n",
    "(\n",
    "    X_train_random_split,\n",
    "    X_test_random_split,\n",
    "    y_train_random_split,\n",
    "    y_test_random_split,\n",
    ") = split_dataframe(df, chronological_split=False)"
   ],
   "metadata": {
    "collapsed": false
   }
  },
  {
   "cell_type": "code",
   "execution_count": 159,
   "outputs": [],
   "source": [
    "X_train_random_split = X_train_random_split.drop(columns=[\"book\"])\n",
    "X_test_random_split = X_test_random_split.drop(columns=[\"book\"])"
   ],
   "metadata": {
    "collapsed": false
   }
  },
  {
   "cell_type": "markdown",
   "source": [
    "## Linear Regression\n",
    "### With chronological split"
   ],
   "metadata": {
    "collapsed": false
   }
  },
  {
   "cell_type": "code",
   "execution_count": 163,
   "outputs": [
    {
     "name": "stdout",
     "output_type": "stream",
     "text": [
      "R2 score:0.99\n"
     ]
    }
   ],
   "source": [
    "model = LinearRegression()\n",
    "model.fit(X_train, y_train)\n",
    "predict_train = model.predict(X_train)\n",
    "predict = model.predict(X_test)\n",
    "\n",
    "y_pred_train = model.predict(X_train)\n",
    "y_pred_test = model.predict(X_test)\n",
    "\n",
    "r2 = r2_score(y_train, y_pred_train)\n",
    "print(f\"R2 score:{r2:.2f}\")"
   ],
   "metadata": {
    "collapsed": false
   }
  },
  {
   "cell_type": "markdown",
   "source": [
    "R2 larger than before (0.98)"
   ],
   "metadata": {
    "collapsed": false
   }
  },
  {
   "cell_type": "code",
   "execution_count": 164,
   "outputs": [
    {
     "name": "stdout",
     "output_type": "stream",
     "text": [
      "MSE: 0.35\n",
      "RMSE: 0.59\n"
     ]
    }
   ],
   "source": [
    "mse = mean_squared_error(y_test, y_pred_test)\n",
    "rmse = mean_squared_error(y_test, y_pred_test, squared=False)\n",
    "print(f\"MSE: {mse:.2f}\")\n",
    "print(f\"RMSE: {rmse:.2f}\")"
   ],
   "metadata": {
    "collapsed": false
   }
  },
  {
   "cell_type": "markdown",
   "source": [
    "Both metrics with better results than before:\n",
    "MSE: *0.59 --> 0.35*\n",
    "RMSE: *0.77 --> 0.59*"
   ],
   "metadata": {
    "collapsed": false
   }
  },
  {
   "cell_type": "code",
   "execution_count": 166,
   "outputs": [
    {
     "name": "stdout",
     "output_type": "stream",
     "text": [
      "RMSE train: 0.51\n",
      "RMSE test: 0.59\n"
     ]
    }
   ],
   "source": [
    "rmse_train = mean_squared_error(y_train, y_pred_train, squared=False)\n",
    "print(f\"RMSE train: {rmse_train:.2f}\")\n",
    "print(f\"RMSE test: {rmse:.2f}\")"
   ],
   "metadata": {
    "collapsed": false
   }
  },
  {
   "cell_type": "markdown",
   "source": [
    "### With random split"
   ],
   "metadata": {
    "collapsed": false
   }
  },
  {
   "cell_type": "code",
   "execution_count": 169,
   "outputs": [
    {
     "name": "stdout",
     "output_type": "stream",
     "text": [
      "R2 score:0.99\n"
     ]
    }
   ],
   "source": [
    "model = LinearRegression()\n",
    "model.fit(X_train_random_split, y_train_random_split)\n",
    "predict_train = model.predict(X_train_random_split)\n",
    "predict = model.predict(X_test_random_split)\n",
    "\n",
    "y_pred_train = model.predict(X_train_random_split)\n",
    "y_pred_test = model.predict(X_test_random_split)\n",
    "\n",
    "r2 = r2_score(y_train_random_split, y_pred_train)\n",
    "print(f\"R2 score:{r2:.2f}\")"
   ],
   "metadata": {
    "collapsed": false
   }
  },
  {
   "cell_type": "code",
   "execution_count": 171,
   "outputs": [
    {
     "name": "stdout",
     "output_type": "stream",
     "text": [
      "MSE: 0.33\n",
      "RMSE: 0.57\n"
     ]
    }
   ],
   "source": [
    "mse = mean_squared_error(y_test_random_split, y_pred_test)\n",
    "rmse = mean_squared_error(y_test_random_split, y_pred_test, squared=False)\n",
    "print(f\"MSE: {mse:.2f}\")\n",
    "print(f\"RMSE: {rmse:.2f}\")"
   ],
   "metadata": {
    "collapsed": false
   }
  },
  {
   "cell_type": "code",
   "execution_count": 173,
   "outputs": [
    {
     "name": "stdout",
     "output_type": "stream",
     "text": [
      "RMSE train: 0.51\n",
      "RMSE test: 0.57\n"
     ]
    }
   ],
   "source": [
    "rmse_train = mean_squared_error(y_train_random_split, y_pred_train, squared=False)\n",
    "print(f\"RMSE train: {rmse_train:.2f}\")\n",
    "print(f\"RMSE test: {rmse:.2f}\")"
   ],
   "metadata": {
    "collapsed": false
   }
  },
  {
   "cell_type": "markdown",
   "source": [],
   "metadata": {
    "collapsed": false
   }
  },
  {
   "cell_type": "code",
   "execution_count": null,
   "outputs": [],
   "source": [],
   "metadata": {
    "collapsed": false
   }
  }
 ],
 "metadata": {
  "kernelspec": {
   "display_name": "Python 3 (ipykernel)",
   "language": "python",
   "name": "python3"
  },
  "language_info": {
   "codemirror_mode": {
    "name": "ipython",
    "version": 3
   },
   "file_extension": ".py",
   "mimetype": "text/x-python",
   "name": "python",
   "nbconvert_exporter": "python",
   "pygments_lexer": "ipython3",
   "version": "3.10.4"
  }
 },
 "nbformat": 4,
 "nbformat_minor": 1
}
