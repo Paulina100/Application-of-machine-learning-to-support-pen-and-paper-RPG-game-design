{
 "cells": [
  {
   "cell_type": "markdown",
   "metadata": {},
   "source": [
    "### Parameters:\n",
    "System:\n",
    "* **abilities**:\n",
    "    * **cha**\n",
    "    * **con**\n",
    "    * **dex**\n",
    "    * **int**\n",
    "    * **str**\n",
    "    * **wis**\n",
    "* **attributes**\n",
    "    * **hp**\n",
    "    * **ac**\n",
    "    * **perception**\n",
    "    * **speed** (*land speed*)\n",
    "        * **other speeds**: fly, climb, swim\n",
    "    * **num immunities**\n",
    "    * **resistances**: fire, cold, electricity, acid, piercing, slashing, physical, bludgeoning, mental, poison, all-damage\n",
    "    * **weaknesses**: cold-iron, good, fire, cold, area-damage, splash-damage, evil, slashing\n",
    "* **saves**\n",
    "    * **fortitude**\n",
    "    * **reflex**\n",
    "    * **will**\n",
    "* **resources**\n",
    "    * **focus**\n",
    "\n",
    "Items\n",
    "* **items**\n",
    "    * **melee**\n",
    "    * **ranged**\n",
    "    * **spells nr**\n",
    "\n",
    "### Prediction: *level*"
   ]
  },
  {
   "cell_type": "markdown",
   "metadata": {},
   "source": [
    "## Loading data"
   ]
  },
  {
   "cell_type": "code",
   "execution_count": 2,
   "metadata": {},
   "outputs": [],
   "source": [
    "import numpy as np\n",
    "import pandas as pd\n",
    "import sys\n",
    "\n",
    "import os\n",
    "import pathlib\n",
    "\n",
    "sys.path.append(\"../../..\")\n",
    "\n",
    "from training.creating_dataset import load_and_preprocess_data\n",
    "\n",
    "\n",
    "current_path = os.getcwd()\n",
    "DATASETS_DIR = pathlib.Path(current_path).parent.parent.parent / \"pathfinder_2e_data\"\n",
    "DATASET_FILES = [\n",
    "    \"pathfinder-bestiary.db\",\n",
    "    \"pathfinder-bestiary-2.db\",\n",
    "    \"pathfinder-bestiary-3.db\",\n",
    "]\n",
    "DATASET_PATHS = [f\"{DATASETS_DIR}/{file}\" for file in DATASET_FILES]\n",
    "characteristics = [\n",
    "    \"cha\",\n",
    "    \"con\",\n",
    "    \"dex\",\n",
    "    \"int\",\n",
    "    \"str\",\n",
    "    \"wis\",\n",
    "    \"ac\",\n",
    "    \"hp\",\n",
    "    \"perception\",\n",
    "    \"fortitude\",\n",
    "    \"reflex\",\n",
    "    \"will\",\n",
    "    \"focus\",\n",
    "    \"land_speed\",\n",
    "    \"num_immunities\",\n",
    "    \"fly\",\n",
    "    \"swim\",\n",
    "    \"climb\",\n",
    "    \"fire_resistance\",\n",
    "    \"cold_resistance\",\n",
    "    \"electricity_resistance\",\n",
    "    \"acid_resistance\",\n",
    "    \"piercing_resistance\",\n",
    "    \"slashing_resistance\",\n",
    "    \"physical_resistance\",\n",
    "    \"bludgeoning_resistance\",\n",
    "    \"mental_resistance\",\n",
    "    \"poison_resistance\",\n",
    "    \"all-damage_resistance\",\n",
    "    \"cold-iron_weakness\",\n",
    "    \"good_weakness\",\n",
    "    \"fire_weakness\",\n",
    "    \"cold_weakness\",\n",
    "    \"area-damage_weakness\",\n",
    "    \"splash-damage_weakness\",\n",
    "    \"evil_weakness\",\n",
    "    \"slashing_weakness\",\n",
    "    \"melee\",\n",
    "    \"ranged\",\n",
    "    \"spells\",\n",
    "]\n",
    "\n",
    "df = load_and_preprocess_data(\n",
    "    DATASET_PATHS,\n",
    "    characteristics=characteristics,\n",
    ")"
   ]
  },
  {
   "cell_type": "code",
   "execution_count": 3,
   "metadata": {},
   "outputs": [
    {
     "name": "stdout",
     "output_type": "stream",
     "text": [
      "<class 'pandas.core.frame.DataFrame'>\n",
      "Int64Index: 1206 entries, 0 to 1205\n",
      "Data columns (total 52 columns):\n",
      " #   Column                  Non-Null Count  Dtype  \n",
      "---  ------                  --------------  -----  \n",
      " 0   int                     1206 non-null   int64  \n",
      " 1   cha                     1206 non-null   int64  \n",
      " 2   reflex                  1206 non-null   int64  \n",
      " 3   land_speed              1206 non-null   float64\n",
      " 4   fortitude               1206 non-null   int64  \n",
      " 5   ac                      1206 non-null   int64  \n",
      " 6   will                    1206 non-null   int64  \n",
      " 7   num_immunities          1206 non-null   int64  \n",
      " 8   con                     1206 non-null   int64  \n",
      " 9   wis                     1206 non-null   int64  \n",
      " 10  hp                      1206 non-null   int64  \n",
      " 11  level                   1206 non-null   int64  \n",
      " 12  book                    1206 non-null   object \n",
      " 13  perception              1206 non-null   int64  \n",
      " 14  dex                     1206 non-null   int64  \n",
      " 15  str                     1206 non-null   int64  \n",
      " 16  focus                   1206 non-null   int32  \n",
      " 17  acid_resistance         1206 non-null   int64  \n",
      " 18  electricity_resistance  1206 non-null   int64  \n",
      " 19  cold_resistance         1206 non-null   int64  \n",
      " 20  bludgeoning_resistance  1206 non-null   int64  \n",
      " 21  piercing_resistance     1206 non-null   int64  \n",
      " 22  slashing_resistance     1206 non-null   int64  \n",
      " 23  fire_resistance         1206 non-null   int64  \n",
      " 24  poison_resistance       1206 non-null   int64  \n",
      " 25  mental_resistance       1206 non-null   int64  \n",
      " 26  physical_resistance     1206 non-null   int64  \n",
      " 27  all-damage_resistance   1206 non-null   int64  \n",
      " 28  area-damage_weakness    1206 non-null   int64  \n",
      " 29  cold-iron_weakness      1206 non-null   int64  \n",
      " 30  good_weakness           1206 non-null   int64  \n",
      " 31  splash-damage_weakness  1206 non-null   int64  \n",
      " 32  evil_weakness           1206 non-null   int64  \n",
      " 33  cold_weakness           1206 non-null   int64  \n",
      " 34  fire_weakness           1206 non-null   int64  \n",
      " 35  slashing_weakness       1206 non-null   int64  \n",
      " 36  climb                   1206 non-null   int64  \n",
      " 37  swim                    1206 non-null   int64  \n",
      " 38  fly                     1206 non-null   int64  \n",
      " 39  spells_nr_lvl_1         1206 non-null   int64  \n",
      " 40  spells_nr_lvl_2         1206 non-null   int64  \n",
      " 41  spells_nr_lvl_3         1206 non-null   int64  \n",
      " 42  spells_nr_lvl_4         1206 non-null   int64  \n",
      " 43  spells_nr_lvl_5         1206 non-null   int64  \n",
      " 44  spells_nr_lvl_6         1206 non-null   int64  \n",
      " 45  spells_nr_lvl_7         1206 non-null   int64  \n",
      " 46  spells_nr_lvl_8         1206 non-null   int64  \n",
      " 47  spells_nr_lvl_9         1206 non-null   int64  \n",
      " 48  melee_max_bonus         1206 non-null   int64  \n",
      " 49  avg_melee_dmg           1206 non-null   float64\n",
      " 50  ranged_max_bonus        1206 non-null   int64  \n",
      " 51  avg_ranged_dmg          1206 non-null   float64\n",
      "dtypes: float64(3), int32(1), int64(47), object(1)\n",
      "memory usage: 494.6+ KB\n"
     ]
    }
   ],
   "source": [
    "df.info()"
   ]
  },
  {
   "cell_type": "code",
   "execution_count": 4,
   "metadata": {},
   "outputs": [
    {
     "data": {
      "text/html": [
       "<div>\n",
       "<style scoped>\n",
       "    .dataframe tbody tr th:only-of-type {\n",
       "        vertical-align: middle;\n",
       "    }\n",
       "\n",
       "    .dataframe tbody tr th {\n",
       "        vertical-align: top;\n",
       "    }\n",
       "\n",
       "    .dataframe thead th {\n",
       "        text-align: right;\n",
       "    }\n",
       "</style>\n",
       "<table border=\"1\" class=\"dataframe\">\n",
       "  <thead>\n",
       "    <tr style=\"text-align: right;\">\n",
       "      <th></th>\n",
       "      <th>int</th>\n",
       "      <th>cha</th>\n",
       "      <th>reflex</th>\n",
       "      <th>land_speed</th>\n",
       "      <th>fortitude</th>\n",
       "      <th>ac</th>\n",
       "      <th>will</th>\n",
       "      <th>num_immunities</th>\n",
       "      <th>con</th>\n",
       "      <th>wis</th>\n",
       "      <th>...</th>\n",
       "      <th>spells_nr_lvl_4</th>\n",
       "      <th>spells_nr_lvl_5</th>\n",
       "      <th>spells_nr_lvl_6</th>\n",
       "      <th>spells_nr_lvl_7</th>\n",
       "      <th>spells_nr_lvl_8</th>\n",
       "      <th>spells_nr_lvl_9</th>\n",
       "      <th>melee_max_bonus</th>\n",
       "      <th>avg_melee_dmg</th>\n",
       "      <th>ranged_max_bonus</th>\n",
       "      <th>avg_ranged_dmg</th>\n",
       "    </tr>\n",
       "  </thead>\n",
       "  <tbody>\n",
       "    <tr>\n",
       "      <th>0</th>\n",
       "      <td>1</td>\n",
       "      <td>1</td>\n",
       "      <td>19</td>\n",
       "      <td>30.0</td>\n",
       "      <td>22</td>\n",
       "      <td>29</td>\n",
       "      <td>17</td>\n",
       "      <td>3</td>\n",
       "      <td>5</td>\n",
       "      <td>2</td>\n",
       "      <td>...</td>\n",
       "      <td>0</td>\n",
       "      <td>0</td>\n",
       "      <td>0</td>\n",
       "      <td>0</td>\n",
       "      <td>0</td>\n",
       "      <td>0</td>\n",
       "      <td>23</td>\n",
       "      <td>22.0</td>\n",
       "      <td>0</td>\n",
       "      <td>0.0</td>\n",
       "    </tr>\n",
       "    <tr>\n",
       "      <th>1</th>\n",
       "      <td>-4</td>\n",
       "      <td>1</td>\n",
       "      <td>14</td>\n",
       "      <td>35.0</td>\n",
       "      <td>21</td>\n",
       "      <td>28</td>\n",
       "      <td>16</td>\n",
       "      <td>0</td>\n",
       "      <td>5</td>\n",
       "      <td>2</td>\n",
       "      <td>...</td>\n",
       "      <td>0</td>\n",
       "      <td>0</td>\n",
       "      <td>0</td>\n",
       "      <td>0</td>\n",
       "      <td>0</td>\n",
       "      <td>0</td>\n",
       "      <td>23</td>\n",
       "      <td>22.0</td>\n",
       "      <td>0</td>\n",
       "      <td>0.0</td>\n",
       "    </tr>\n",
       "    <tr>\n",
       "      <th>2</th>\n",
       "      <td>-4</td>\n",
       "      <td>-2</td>\n",
       "      <td>17</td>\n",
       "      <td>30.0</td>\n",
       "      <td>20</td>\n",
       "      <td>25</td>\n",
       "      <td>15</td>\n",
       "      <td>0</td>\n",
       "      <td>6</td>\n",
       "      <td>3</td>\n",
       "      <td>...</td>\n",
       "      <td>0</td>\n",
       "      <td>0</td>\n",
       "      <td>0</td>\n",
       "      <td>0</td>\n",
       "      <td>0</td>\n",
       "      <td>0</td>\n",
       "      <td>21</td>\n",
       "      <td>16.0</td>\n",
       "      <td>0</td>\n",
       "      <td>0.0</td>\n",
       "    </tr>\n",
       "    <tr>\n",
       "      <th>3</th>\n",
       "      <td>6</td>\n",
       "      <td>6</td>\n",
       "      <td>29</td>\n",
       "      <td>50.0</td>\n",
       "      <td>30</td>\n",
       "      <td>41</td>\n",
       "      <td>32</td>\n",
       "      <td>3</td>\n",
       "      <td>5</td>\n",
       "      <td>5</td>\n",
       "      <td>...</td>\n",
       "      <td>1</td>\n",
       "      <td>0</td>\n",
       "      <td>1</td>\n",
       "      <td>0</td>\n",
       "      <td>0</td>\n",
       "      <td>0</td>\n",
       "      <td>33</td>\n",
       "      <td>31.5</td>\n",
       "      <td>0</td>\n",
       "      <td>0.0</td>\n",
       "    </tr>\n",
       "    <tr>\n",
       "      <th>4</th>\n",
       "      <td>-1</td>\n",
       "      <td>1</td>\n",
       "      <td>10</td>\n",
       "      <td>0.0</td>\n",
       "      <td>6</td>\n",
       "      <td>16</td>\n",
       "      <td>4</td>\n",
       "      <td>0</td>\n",
       "      <td>1</td>\n",
       "      <td>1</td>\n",
       "      <td>...</td>\n",
       "      <td>1</td>\n",
       "      <td>0</td>\n",
       "      <td>0</td>\n",
       "      <td>0</td>\n",
       "      <td>0</td>\n",
       "      <td>0</td>\n",
       "      <td>0</td>\n",
       "      <td>0.0</td>\n",
       "      <td>8</td>\n",
       "      <td>5.0</td>\n",
       "    </tr>\n",
       "  </tbody>\n",
       "</table>\n",
       "<p>5 rows × 52 columns</p>\n",
       "</div>"
      ],
      "text/plain": [
       "   int  cha  reflex  land_speed  fortitude  ac  will  num_immunities  con  \\\n",
       "0    1    1      19        30.0         22  29    17               3    5   \n",
       "1   -4    1      14        35.0         21  28    16               0    5   \n",
       "2   -4   -2      17        30.0         20  25    15               0    6   \n",
       "3    6    6      29        50.0         30  41    32               3    5   \n",
       "4   -1    1      10         0.0          6  16     4               0    1   \n",
       "\n",
       "   wis  ...  spells_nr_lvl_4  spells_nr_lvl_5 spells_nr_lvl_6  \\\n",
       "0    2  ...                0                0               0   \n",
       "1    2  ...                0                0               0   \n",
       "2    3  ...                0                0               0   \n",
       "3    5  ...                1                0               1   \n",
       "4    1  ...                1                0               0   \n",
       "\n",
       "   spells_nr_lvl_7  spells_nr_lvl_8  spells_nr_lvl_9  melee_max_bonus  \\\n",
       "0                0                0                0               23   \n",
       "1                0                0                0               23   \n",
       "2                0                0                0               21   \n",
       "3                0                0                0               33   \n",
       "4                0                0                0                0   \n",
       "\n",
       "   avg_melee_dmg  ranged_max_bonus  avg_ranged_dmg  \n",
       "0           22.0                 0             0.0  \n",
       "1           22.0                 0             0.0  \n",
       "2           16.0                 0             0.0  \n",
       "3           31.5                 0             0.0  \n",
       "4            0.0                 8             5.0  \n",
       "\n",
       "[5 rows x 52 columns]"
      ]
     },
     "execution_count": 4,
     "metadata": {},
     "output_type": "execute_result"
    }
   ],
   "source": [
    "df.head()"
   ]
  },
  {
   "cell_type": "markdown",
   "metadata": {},
   "source": [
    "## Train test split"
   ]
  },
  {
   "cell_type": "markdown",
   "metadata": {},
   "source": [
    "### Chronological split"
   ]
  },
  {
   "cell_type": "code",
   "execution_count": 5,
   "metadata": {},
   "outputs": [],
   "source": [
    "from training.splitting_dataset import split_dataframe\n",
    "\n",
    "\n",
    "os.chdir(\"../../../training\")\n",
    "X_train, X_test, y_train, y_test = split_dataframe(df, test_size=0.31)\n",
    "os.chdir(\"../notebooks/models/random_forest\")"
   ]
  },
  {
   "cell_type": "code",
   "execution_count": 6,
   "metadata": {},
   "outputs": [],
   "source": [
    "X_train = X_train.drop(columns=[\"book\"])\n",
    "X_test = X_test.drop(columns=[\"book\"])"
   ]
  },
  {
   "cell_type": "code",
   "execution_count": 7,
   "metadata": {},
   "outputs": [],
   "source": [
    "X_train = X_train.astype(\"int64\")\n",
    "y_train = y_train.astype(\"int64\")"
   ]
  },
  {
   "cell_type": "markdown",
   "metadata": {},
   "source": [
    "### Random split"
   ]
  },
  {
   "cell_type": "code",
   "execution_count": 8,
   "metadata": {},
   "outputs": [],
   "source": [
    "(\n",
    "    X_train_random_split,\n",
    "    X_test_random_split,\n",
    "    y_train_random_split,\n",
    "    y_test_random_split,\n",
    ") = split_dataframe(df, chronological_split=False)"
   ]
  },
  {
   "cell_type": "code",
   "execution_count": 9,
   "metadata": {},
   "outputs": [],
   "source": [
    "X_train_random_split = X_train_random_split.drop(columns=[\"book\"])\n",
    "X_test_random_split = X_test_random_split.drop(columns=[\"book\"])"
   ]
  },
  {
   "cell_type": "markdown",
   "metadata": {},
   "source": [
    "## Random Forest"
   ]
  },
  {
   "cell_type": "markdown",
   "metadata": {},
   "source": [
    "### With chronological split"
   ]
  },
  {
   "cell_type": "code",
   "execution_count": 10,
   "metadata": {},
   "outputs": [
    {
     "data": {
      "text/html": [
       "<style>#sk-container-id-1 {color: black;background-color: white;}#sk-container-id-1 pre{padding: 0;}#sk-container-id-1 div.sk-toggleable {background-color: white;}#sk-container-id-1 label.sk-toggleable__label {cursor: pointer;display: block;width: 100%;margin-bottom: 0;padding: 0.3em;box-sizing: border-box;text-align: center;}#sk-container-id-1 label.sk-toggleable__label-arrow:before {content: \"▸\";float: left;margin-right: 0.25em;color: #696969;}#sk-container-id-1 label.sk-toggleable__label-arrow:hover:before {color: black;}#sk-container-id-1 div.sk-estimator:hover label.sk-toggleable__label-arrow:before {color: black;}#sk-container-id-1 div.sk-toggleable__content {max-height: 0;max-width: 0;overflow: hidden;text-align: left;background-color: #f0f8ff;}#sk-container-id-1 div.sk-toggleable__content pre {margin: 0.2em;color: black;border-radius: 0.25em;background-color: #f0f8ff;}#sk-container-id-1 input.sk-toggleable__control:checked~div.sk-toggleable__content {max-height: 200px;max-width: 100%;overflow: auto;}#sk-container-id-1 input.sk-toggleable__control:checked~label.sk-toggleable__label-arrow:before {content: \"▾\";}#sk-container-id-1 div.sk-estimator input.sk-toggleable__control:checked~label.sk-toggleable__label {background-color: #d4ebff;}#sk-container-id-1 div.sk-label input.sk-toggleable__control:checked~label.sk-toggleable__label {background-color: #d4ebff;}#sk-container-id-1 input.sk-hidden--visually {border: 0;clip: rect(1px 1px 1px 1px);clip: rect(1px, 1px, 1px, 1px);height: 1px;margin: -1px;overflow: hidden;padding: 0;position: absolute;width: 1px;}#sk-container-id-1 div.sk-estimator {font-family: monospace;background-color: #f0f8ff;border: 1px dotted black;border-radius: 0.25em;box-sizing: border-box;margin-bottom: 0.5em;}#sk-container-id-1 div.sk-estimator:hover {background-color: #d4ebff;}#sk-container-id-1 div.sk-parallel-item::after {content: \"\";width: 100%;border-bottom: 1px solid gray;flex-grow: 1;}#sk-container-id-1 div.sk-label:hover label.sk-toggleable__label {background-color: #d4ebff;}#sk-container-id-1 div.sk-serial::before {content: \"\";position: absolute;border-left: 1px solid gray;box-sizing: border-box;top: 0;bottom: 0;left: 50%;z-index: 0;}#sk-container-id-1 div.sk-serial {display: flex;flex-direction: column;align-items: center;background-color: white;padding-right: 0.2em;padding-left: 0.2em;position: relative;}#sk-container-id-1 div.sk-item {position: relative;z-index: 1;}#sk-container-id-1 div.sk-parallel {display: flex;align-items: stretch;justify-content: center;background-color: white;position: relative;}#sk-container-id-1 div.sk-item::before, #sk-container-id-1 div.sk-parallel-item::before {content: \"\";position: absolute;border-left: 1px solid gray;box-sizing: border-box;top: 0;bottom: 0;left: 50%;z-index: -1;}#sk-container-id-1 div.sk-parallel-item {display: flex;flex-direction: column;z-index: 1;position: relative;background-color: white;}#sk-container-id-1 div.sk-parallel-item:first-child::after {align-self: flex-end;width: 50%;}#sk-container-id-1 div.sk-parallel-item:last-child::after {align-self: flex-start;width: 50%;}#sk-container-id-1 div.sk-parallel-item:only-child::after {width: 0;}#sk-container-id-1 div.sk-dashed-wrapped {border: 1px dashed gray;margin: 0 0.4em 0.5em 0.4em;box-sizing: border-box;padding-bottom: 0.4em;background-color: white;}#sk-container-id-1 div.sk-label label {font-family: monospace;font-weight: bold;display: inline-block;line-height: 1.2em;}#sk-container-id-1 div.sk-label-container {text-align: center;}#sk-container-id-1 div.sk-container {/* jupyter's `normalize.less` sets `[hidden] { display: none; }` but bootstrap.min.css set `[hidden] { display: none !important; }` so we also need the `!important` here to be able to override the default hidden behavior on the sphinx rendered scikit-learn.org. See: https://github.com/scikit-learn/scikit-learn/issues/21755 */display: inline-block !important;position: relative;}#sk-container-id-1 div.sk-text-repr-fallback {display: none;}</style><div id=\"sk-container-id-1\" class=\"sk-top-container\"><div class=\"sk-text-repr-fallback\"><pre>RandomForestRegressor(max_depth=2, n_estimators=500, n_jobs=-1, random_state=0)</pre><b>In a Jupyter environment, please rerun this cell to show the HTML representation or trust the notebook. <br />On GitHub, the HTML representation is unable to render, please try loading this page with nbviewer.org.</b></div><div class=\"sk-container\" hidden><div class=\"sk-item\"><div class=\"sk-estimator sk-toggleable\"><input class=\"sk-toggleable__control sk-hidden--visually\" id=\"sk-estimator-id-1\" type=\"checkbox\" checked><label for=\"sk-estimator-id-1\" class=\"sk-toggleable__label sk-toggleable__label-arrow\">RandomForestRegressor</label><div class=\"sk-toggleable__content\"><pre>RandomForestRegressor(max_depth=2, n_estimators=500, n_jobs=-1, random_state=0)</pre></div></div></div></div></div>"
      ],
      "text/plain": [
       "RandomForestRegressor(max_depth=2, n_estimators=500, n_jobs=-1, random_state=0)"
      ]
     },
     "execution_count": 10,
     "metadata": {},
     "output_type": "execute_result"
    }
   ],
   "source": [
    "from sklearn.ensemble import RandomForestRegressor\n",
    "\n",
    "\n",
    "rf_reg = RandomForestRegressor(n_estimators=500, max_depth=2, random_state=0, n_jobs=-1)\n",
    "rf_reg.fit(X_train, y_train)"
   ]
  },
  {
   "cell_type": "code",
   "execution_count": 11,
   "metadata": {},
   "outputs": [],
   "source": [
    "y_pred_train = rf_reg.predict(X_train)\n",
    "y_pred_test = rf_reg.predict(X_test)"
   ]
  },
  {
   "cell_type": "code",
   "execution_count": 12,
   "metadata": {},
   "outputs": [
    {
     "name": "stdout",
     "output_type": "stream",
     "text": [
      "MSE: 5.05\n",
      "RMSE: 2.25\n",
      "MAE: 1.45\n"
     ]
    }
   ],
   "source": [
    "from sklearn.metrics import mean_squared_error, mean_absolute_error\n",
    "\n",
    "\n",
    "mse = mean_squared_error(y_test, y_pred_test)\n",
    "rmse = mean_squared_error(y_test, y_pred_test, squared=False)\n",
    "mae = mean_absolute_error(y_test, y_pred_test)\n",
    "\n",
    "print(f\"MSE: {mse:.2f}\")\n",
    "print(f\"RMSE: {rmse:.2f}\")\n",
    "print(f\"MAE: {mae:.2f}\")"
   ]
  },
  {
   "cell_type": "code",
   "execution_count": 13,
   "metadata": {},
   "outputs": [],
   "source": [
    "results = pd.DataFrame(\n",
    "    data={\n",
    "        \"Split type\": [],\n",
    "        \"Tuning type\": [],\n",
    "        \"Number of characteristics\": [],\n",
    "        \"MSE\": [],\n",
    "        \"RMSE\": [],\n",
    "        \"MAE\": [],\n",
    "    }\n",
    ")\n",
    "\n",
    "results.loc[0] = [\"chronological\", \"normal\", len(X_test.columns), mse, rmse, mae]"
   ]
  },
  {
   "cell_type": "markdown",
   "metadata": {},
   "source": [
    "###### MAE by level"
   ]
  },
  {
   "cell_type": "code",
   "execution_count": null,
   "metadata": {},
   "outputs": [],
   "source": [
    "import matplotlib.pyplot as plt\n",
    "\n",
    "y_test = y_test.reset_index(drop=True)\n",
    "level_max = y_test.max()\n",
    "\n",
    "mae_by_level = pd.DataFrame(columns=[\"level\", \"mae\"])\n",
    "for lvl in range(-1, level_max + 1):\n",
    "    y_test_curr = y_test[y_test == lvl]\n",
    "    y_pred_test_curr = pd.DataFrame(y_pred_test)[y_test == lvl]\n",
    "\n",
    "    mae = mean_absolute_error(y_test_curr, y_pred_test_curr)\n",
    "    mae_by_level.loc[lvl + 1] = [lvl, mae]\n",
    "\n",
    "\n",
    "plt.figure(figsize=(10, 6))\n",
    "plt.bar(mae_by_level[\"level\"], mae_by_level[\"mae\"])\n",
    "plt.xlabel(\"Level\")\n",
    "plt.ylabel(\"Mean Absolute Error (MAE)\")\n",
    "plt.title(\"MAE by level\")\n",
    "plt.xticks(mae_by_level[\"level\"])\n",
    "plt.show()"
   ]
  },
  {
   "cell_type": "code",
   "execution_count": 14,
   "metadata": {},
   "outputs": [
    {
     "name": "stdout",
     "output_type": "stream",
     "text": [
      "Normal:\n",
      "MSE: 5.05\n",
      "RMSE: 2.25\n",
      "\n",
      "Round type: round\n",
      "MSE: 5.32\n",
      "RMSE: 2.31\n",
      "\n",
      "Round type: 0.33\n",
      "MSE: 5.02\n",
      "RMSE: 2.24\n",
      "\n",
      "Round type: 0.45\n",
      "MSE: 5.31\n",
      "RMSE: 2.30\n",
      "\n"
     ]
    }
   ],
   "source": [
    "from training.results import check_round_predictions, plot_confusion_matrix\n",
    "\n",
    "\n",
    "check_round_predictions([\"round\", 0.33, 0.45], y_test, y_pred_test)"
   ]
  },
  {
   "cell_type": "code",
   "execution_count": 15,
   "metadata": {},
   "outputs": [
    {
     "data": {
      "image/png": "[encoded data removed]",
      "text/plain": [
       "<Figure size 432x288 with 2 Axes>"
      ]
     },
     "metadata": {
      "needs_background": "light"
     },
     "output_type": "display_data"
    }
   ],
   "source": [
    "plot_confusion_matrix(\"round\", y_pred_test, y_test)"
   ]
  },
  {
   "cell_type": "markdown",
   "metadata": {},
   "source": [
    "#### Tuning"
   ]
  },
  {
   "cell_type": "code",
   "execution_count": 16,
   "metadata": {},
   "outputs": [
    {
     "data": {
      "text/plain": [
       "{'n_estimators': [100, 200, 300, 400, 500, 600, 700, 800],\n",
       " 'max_features': [0.025, 0.05, 0.1, 0.2, 0.3, 0.4, 0.5],\n",
       " 'max_depth': [10, 20, 30, 40, 50, 60, 70, 80, 90, 100, 110, None]}"
      ]
     },
     "execution_count": 16,
     "metadata": {},
     "output_type": "execute_result"
    }
   ],
   "source": [
    "from sklearn.model_selection import RandomizedSearchCV\n",
    "\n",
    "\n",
    "n_estimators = [int(x) for x in np.linspace(start=100, stop=800, num=8)]\n",
    "max_features = [0.025, 0.05, 0.1, 0.2, 0.3, 0.4, 0.5]\n",
    "max_depth = list(range(10, 111, 10)) + [None]\n",
    "\n",
    "hyper_params = {\n",
    "    \"n_estimators\": n_estimators,\n",
    "    \"max_features\": max_features,\n",
    "    \"max_depth\": max_depth,\n",
    "}\n",
    "\n",
    "hyper_params"
   ]
  },
  {
   "cell_type": "code",
   "execution_count": 17,
   "metadata": {},
   "outputs": [
    {
     "name": "stdout",
     "output_type": "stream",
     "text": [
      "Fitting 3 folds for each of 100 candidates, totalling 300 fits\n",
      "[CV] END ...max_depth=70, max_features=0.2, n_estimators=200; total time=   0.8s\n",
      "[CV] END ...max_depth=70, max_features=0.2, n_estimators=200; total time=   0.6s\n",
      "[CV] END ...max_depth=70, max_features=0.2, n_estimators=200; total time=   0.6s\n",
      "[CV] END ...max_depth=30, max_features=0.4, n_estimators=700; total time=   2.5s\n",
      "[CV] END ...max_depth=30, max_features=0.4, n_estimators=700; total time=   2.5s\n",
      "[CV] END ...max_depth=30, max_features=0.4, n_estimators=700; total time=   2.4s\n",
      "[CV] END ...max_depth=90, max_features=0.3, n_estimators=200; total time=   0.7s\n",
      "[CV] END ...max_depth=90, max_features=0.3, n_estimators=200; total time=   0.7s\n",
      "[CV] END ...max_depth=90, max_features=0.3, n_estimators=200; total time=   0.6s\n",
      "[CV] END .max_depth=None, max_features=0.1, n_estimators=800; total time=   2.7s\n",
      "[CV] END .max_depth=None, max_features=0.1, n_estimators=800; total time=   2.8s\n",
      "[CV] END .max_depth=None, max_features=0.1, n_estimators=800; total time=   2.8s\n",
      "[CV] END ...max_depth=50, max_features=0.5, n_estimators=400; total time=   1.4s\n",
      "[CV] END ...max_depth=50, max_features=0.5, n_estimators=400; total time=   1.4s\n",
      "[CV] END ...max_depth=50, max_features=0.5, n_estimators=400; total time=   1.4s\n",
      "[CV] END ...max_depth=70, max_features=0.2, n_estimators=300; total time=   1.0s\n",
      "[CV] END ...max_depth=70, max_features=0.2, n_estimators=300; total time=   1.0s\n",
      "[CV] END ...max_depth=70, max_features=0.2, n_estimators=300; total time=   1.0s\n",
      "[CV] END ...max_depth=60, max_features=0.2, n_estimators=700; total time=   2.4s\n",
      "[CV] END ...max_depth=60, max_features=0.2, n_estimators=700; total time=   2.3s\n",
      "[CV] END ...max_depth=60, max_features=0.2, n_estimators=700; total time=   2.3s\n",
      "[CV] END ...max_depth=40, max_features=0.2, n_estimators=800; total time=   3.0s\n",
      "[CV] END ...max_depth=40, max_features=0.2, n_estimators=800; total time=   2.8s\n",
      "[CV] END ...max_depth=40, max_features=0.2, n_estimators=800; total time=   2.8s\n",
      "[CV] END ..max_depth=100, max_features=0.4, n_estimators=100; total time=   0.3s\n",
      "[CV] END ..max_depth=100, max_features=0.4, n_estimators=100; total time=   0.3s\n",
      "[CV] END ..max_depth=100, max_features=0.4, n_estimators=100; total time=   0.3s\n",
      "[CV] END ...max_depth=20, max_features=0.3, n_estimators=300; total time=   1.0s\n",
      "[CV] END ...max_depth=20, max_features=0.3, n_estimators=300; total time=   1.5s\n",
      "[CV] END ...max_depth=20, max_features=0.3, n_estimators=300; total time=   1.2s\n",
      "[CV] END ...max_depth=20, max_features=0.2, n_estimators=200; total time=   0.9s\n",
      "[CV] END ...max_depth=20, max_features=0.2, n_estimators=200; total time=   0.9s\n",
      "[CV] END ...max_depth=20, max_features=0.2, n_estimators=200; total time=   1.4s\n",
      "[CV] END ...max_depth=50, max_features=0.4, n_estimators=100; total time=   0.6s\n",
      "[CV] END ...max_depth=50, max_features=0.4, n_estimators=100; total time=   0.4s\n",
      "[CV] END ...max_depth=50, max_features=0.4, n_estimators=100; total time=   0.4s\n",
      "[CV] END ...max_depth=70, max_features=0.1, n_estimators=300; total time=   1.3s\n",
      "[CV] END ...max_depth=70, max_features=0.1, n_estimators=300; total time=   1.9s\n",
      "[CV] END ...max_depth=70, max_features=0.1, n_estimators=300; total time=   1.4s\n",
      "[CV] END ...max_depth=40, max_features=0.5, n_estimators=600; total time=   3.4s\n",
      "[CV] END ...max_depth=40, max_features=0.5, n_estimators=600; total time=   2.7s\n",
      "[CV] END ...max_depth=40, max_features=0.5, n_estimators=600; total time=   3.1s\n",
      "[CV] END ...max_depth=40, max_features=0.4, n_estimators=400; total time=   1.5s\n",
      "[CV] END ...max_depth=40, max_features=0.4, n_estimators=400; total time=   1.4s\n",
      "[CV] END ...max_depth=40, max_features=0.4, n_estimators=400; total time=   1.5s\n",
      "[CV] END .max_depth=20, max_features=0.025, n_estimators=800; total time=   2.8s\n",
      "[CV] END .max_depth=20, max_features=0.025, n_estimators=800; total time=   2.8s\n",
      "[CV] END .max_depth=20, max_features=0.025, n_estimators=800; total time=   2.8s\n",
      "[CV] END ...max_depth=10, max_features=0.5, n_estimators=700; total time=   2.6s\n",
      "[CV] END ...max_depth=10, max_features=0.5, n_estimators=700; total time=   2.7s\n",
      "[CV] END ...max_depth=10, max_features=0.5, n_estimators=700; total time=   2.6s\n",
      "[CV] END ..max_depth=110, max_features=0.4, n_estimators=300; total time=   1.1s\n",
      "[CV] END ..max_depth=110, max_features=0.4, n_estimators=300; total time=   1.0s\n",
      "[CV] END ..max_depth=110, max_features=0.4, n_estimators=300; total time=   1.1s\n",
      "[CV] END ...max_depth=60, max_features=0.1, n_estimators=400; total time=   1.4s\n",
      "[CV] END ...max_depth=60, max_features=0.1, n_estimators=400; total time=   1.4s\n",
      "[CV] END ...max_depth=60, max_features=0.1, n_estimators=400; total time=   1.4s\n",
      "[CV] END ...max_depth=30, max_features=0.4, n_estimators=400; total time=   1.5s\n",
      "[CV] END ...max_depth=30, max_features=0.4, n_estimators=400; total time=   1.5s\n",
      "[CV] END ...max_depth=30, max_features=0.4, n_estimators=400; total time=   1.4s\n",
      "[CV] END ...max_depth=20, max_features=0.5, n_estimators=600; total time=   2.2s\n",
      "[CV] END ...max_depth=20, max_features=0.5, n_estimators=600; total time=   2.3s\n",
      "[CV] END ...max_depth=20, max_features=0.5, n_estimators=600; total time=   2.4s\n",
      "[CV] END ..max_depth=110, max_features=0.5, n_estimators=400; total time=   1.6s\n",
      "[CV] END ..max_depth=110, max_features=0.5, n_estimators=400; total time=   1.5s\n",
      "[CV] END ..max_depth=110, max_features=0.5, n_estimators=400; total time=   1.6s\n",
      "[CV] END ...max_depth=70, max_features=0.2, n_estimators=100; total time=   0.3s\n",
      "[CV] END ...max_depth=70, max_features=0.2, n_estimators=100; total time=   0.3s\n",
      "[CV] END ...max_depth=70, max_features=0.2, n_estimators=100; total time=   0.3s\n",
      "[CV] END ...max_depth=60, max_features=0.5, n_estimators=700; total time=   2.9s\n",
      "[CV] END ...max_depth=60, max_features=0.5, n_estimators=700; total time=   2.7s\n",
      "[CV] END ...max_depth=60, max_features=0.5, n_estimators=700; total time=   2.6s\n",
      "[CV] END .max_depth=None, max_features=0.1, n_estimators=400; total time=   1.5s\n",
      "[CV] END .max_depth=None, max_features=0.1, n_estimators=400; total time=   1.4s\n",
      "[CV] END .max_depth=None, max_features=0.1, n_estimators=400; total time=   1.5s\n",
      "[CV] END ...max_depth=90, max_features=0.2, n_estimators=800; total time=   3.0s\n",
      "[CV] END ...max_depth=90, max_features=0.2, n_estimators=800; total time=   2.9s\n",
      "[CV] END ...max_depth=90, max_features=0.2, n_estimators=800; total time=   3.0s\n",
      "[CV] END ...max_depth=50, max_features=0.3, n_estimators=100; total time=   0.4s\n",
      "[CV] END ...max_depth=50, max_features=0.3, n_estimators=100; total time=   0.3s\n",
      "[CV] END ...max_depth=50, max_features=0.3, n_estimators=100; total time=   0.3s\n",
      "[CV] END .max_depth=None, max_features=0.3, n_estimators=500; total time=   1.8s\n",
      "[CV] END .max_depth=None, max_features=0.3, n_estimators=500; total time=   1.9s\n",
      "[CV] END .max_depth=None, max_features=0.3, n_estimators=500; total time=   1.9s\n",
      "[CV] END ...max_depth=80, max_features=0.5, n_estimators=400; total time=   1.5s\n",
      "[CV] END ...max_depth=80, max_features=0.5, n_estimators=400; total time=   1.6s\n",
      "[CV] END ...max_depth=80, max_features=0.5, n_estimators=400; total time=   1.4s\n",
      "[CV] END ...max_depth=20, max_features=0.1, n_estimators=500; total time=   1.8s\n",
      "[CV] END ...max_depth=20, max_features=0.1, n_estimators=500; total time=   1.8s\n",
      "[CV] END ...max_depth=20, max_features=0.1, n_estimators=500; total time=   1.6s\n",
      "[CV] END ...max_depth=80, max_features=0.4, n_estimators=500; total time=   1.8s\n",
      "[CV] END ...max_depth=80, max_features=0.4, n_estimators=500; total time=   1.8s\n",
      "[CV] END ...max_depth=80, max_features=0.4, n_estimators=500; total time=   1.9s\n",
      "[CV] END ..max_depth=110, max_features=0.4, n_estimators=500; total time=   1.7s\n",
      "[CV] END ..max_depth=110, max_features=0.4, n_estimators=500; total time=   1.7s\n",
      "[CV] END ..max_depth=110, max_features=0.4, n_estimators=500; total time=   1.8s\n",
      "[CV] END .max_depth=None, max_features=0.2, n_estimators=300; total time=   1.0s\n",
      "[CV] END .max_depth=None, max_features=0.2, n_estimators=300; total time=   1.0s\n",
      "[CV] END .max_depth=None, max_features=0.2, n_estimators=300; total time=   1.0s\n",
      "[CV] END ...max_depth=30, max_features=0.1, n_estimators=800; total time=   2.8s\n",
      "[CV] END ...max_depth=30, max_features=0.1, n_estimators=800; total time=   2.7s\n"
     ]
    },
    {
     "name": "stdout",
     "output_type": "stream",
     "text": [
      "[CV] END ...max_depth=30, max_features=0.1, n_estimators=800; total time=   3.0s\n",
      "[CV] END ...max_depth=30, max_features=0.2, n_estimators=100; total time=   0.3s\n",
      "[CV] END ...max_depth=30, max_features=0.2, n_estimators=100; total time=   0.3s\n",
      "[CV] END ...max_depth=30, max_features=0.2, n_estimators=100; total time=   0.3s\n",
      "[CV] END ...max_depth=20, max_features=0.4, n_estimators=600; total time=   2.0s\n",
      "[CV] END ...max_depth=20, max_features=0.4, n_estimators=600; total time=   2.1s\n",
      "[CV] END ...max_depth=20, max_features=0.4, n_estimators=600; total time=   2.2s\n",
      "[CV] END ...max_depth=20, max_features=0.1, n_estimators=100; total time=   0.3s\n",
      "[CV] END ...max_depth=20, max_features=0.1, n_estimators=100; total time=   0.3s\n",
      "[CV] END ...max_depth=20, max_features=0.1, n_estimators=100; total time=   0.3s\n",
      "[CV] END ..max_depth=60, max_features=0.05, n_estimators=200; total time=   0.7s\n",
      "[CV] END ..max_depth=60, max_features=0.05, n_estimators=200; total time=   0.7s\n",
      "[CV] END ..max_depth=60, max_features=0.05, n_estimators=200; total time=   0.6s\n",
      "[CV] END ..max_depth=10, max_features=0.05, n_estimators=300; total time=   1.0s\n",
      "[CV] END ..max_depth=10, max_features=0.05, n_estimators=300; total time=   1.0s\n",
      "[CV] END ..max_depth=10, max_features=0.05, n_estimators=300; total time=   1.0s\n",
      "[CV] END .max_depth=None, max_features=0.4, n_estimators=400; total time=   1.4s\n",
      "[CV] END .max_depth=None, max_features=0.4, n_estimators=400; total time=   1.4s\n",
      "[CV] END .max_depth=None, max_features=0.4, n_estimators=400; total time=   1.4s\n",
      "[CV] END ..max_depth=110, max_features=0.1, n_estimators=500; total time=   1.6s\n",
      "[CV] END ..max_depth=110, max_features=0.1, n_estimators=500; total time=   1.7s\n",
      "[CV] END ..max_depth=110, max_features=0.1, n_estimators=500; total time=   1.7s\n",
      "[CV] END ...max_depth=60, max_features=0.3, n_estimators=800; total time=   2.7s\n",
      "[CV] END ...max_depth=60, max_features=0.3, n_estimators=800; total time=   2.7s\n",
      "[CV] END ...max_depth=60, max_features=0.3, n_estimators=800; total time=   2.8s\n",
      "[CV] END ...max_depth=10, max_features=0.2, n_estimators=800; total time=   2.7s\n",
      "[CV] END ...max_depth=10, max_features=0.2, n_estimators=800; total time=   2.9s\n",
      "[CV] END ...max_depth=10, max_features=0.2, n_estimators=800; total time=   2.8s\n",
      "[CV] END .max_depth=80, max_features=0.025, n_estimators=200; total time=   0.6s\n",
      "[CV] END .max_depth=80, max_features=0.025, n_estimators=200; total time=   0.7s\n",
      "[CV] END .max_depth=80, max_features=0.025, n_estimators=200; total time=   0.7s\n",
      "[CV] END ..max_depth=100, max_features=0.5, n_estimators=700; total time=   2.5s\n",
      "[CV] END ..max_depth=100, max_features=0.5, n_estimators=700; total time=   2.6s\n",
      "[CV] END ..max_depth=100, max_features=0.5, n_estimators=700; total time=   2.6s\n",
      "[CV] END ...max_depth=90, max_features=0.1, n_estimators=400; total time=   1.4s\n",
      "[CV] END ...max_depth=90, max_features=0.1, n_estimators=400; total time=   1.4s\n",
      "[CV] END ...max_depth=90, max_features=0.1, n_estimators=400; total time=   1.4s\n",
      "[CV] END max_depth=None, max_features=0.05, n_estimators=300; total time=   1.0s\n",
      "[CV] END max_depth=None, max_features=0.05, n_estimators=300; total time=   1.0s\n",
      "[CV] END max_depth=None, max_features=0.05, n_estimators=300; total time=   1.0s\n",
      "[CV] END .max_depth=30, max_features=0.025, n_estimators=700; total time=   2.5s\n",
      "[CV] END .max_depth=30, max_features=0.025, n_estimators=700; total time=   2.4s\n",
      "[CV] END .max_depth=30, max_features=0.025, n_estimators=700; total time=   2.5s\n",
      "[CV] END ...max_depth=10, max_features=0.5, n_estimators=800; total time=   2.8s\n",
      "[CV] END ...max_depth=10, max_features=0.5, n_estimators=800; total time=   2.8s\n",
      "[CV] END ...max_depth=10, max_features=0.5, n_estimators=800; total time=   3.0s\n",
      "[CV] END ...max_depth=50, max_features=0.3, n_estimators=200; total time=   0.7s\n",
      "[CV] END ...max_depth=50, max_features=0.3, n_estimators=200; total time=   0.7s\n",
      "[CV] END ...max_depth=50, max_features=0.3, n_estimators=200; total time=   0.7s\n",
      "[CV] END ..max_depth=110, max_features=0.3, n_estimators=500; total time=   1.8s\n",
      "[CV] END ..max_depth=110, max_features=0.3, n_estimators=500; total time=   1.7s\n",
      "[CV] END ..max_depth=110, max_features=0.3, n_estimators=500; total time=   1.8s\n",
      "[CV] END ..max_depth=70, max_features=0.05, n_estimators=300; total time=   1.0s\n",
      "[CV] END ..max_depth=70, max_features=0.05, n_estimators=300; total time=   1.0s\n",
      "[CV] END ..max_depth=70, max_features=0.05, n_estimators=300; total time=   1.0s\n",
      "[CV] END ...max_depth=20, max_features=0.1, n_estimators=600; total time=   2.1s\n",
      "[CV] END ...max_depth=20, max_features=0.1, n_estimators=600; total time=   2.1s\n",
      "[CV] END ...max_depth=20, max_features=0.1, n_estimators=600; total time=   2.2s\n",
      "[CV] END .max_depth=110, max_features=0.05, n_estimators=500; total time=   1.7s\n",
      "[CV] END .max_depth=110, max_features=0.05, n_estimators=500; total time=   1.6s\n",
      "[CV] END .max_depth=110, max_features=0.05, n_estimators=500; total time=   1.8s\n",
      "[CV] END ...max_depth=20, max_features=0.1, n_estimators=700; total time=   2.4s\n",
      "[CV] END ...max_depth=20, max_features=0.1, n_estimators=700; total time=   2.5s\n",
      "[CV] END ...max_depth=20, max_features=0.1, n_estimators=700; total time=   2.4s\n",
      "[CV] END .max_depth=None, max_features=0.2, n_estimators=200; total time=   0.6s\n",
      "[CV] END .max_depth=None, max_features=0.2, n_estimators=200; total time=   0.7s\n",
      "[CV] END .max_depth=None, max_features=0.2, n_estimators=200; total time=   0.6s\n",
      "[CV] END ..max_depth=100, max_features=0.5, n_estimators=600; total time=   2.2s\n",
      "[CV] END ..max_depth=100, max_features=0.5, n_estimators=600; total time=   2.1s\n",
      "[CV] END ..max_depth=100, max_features=0.5, n_estimators=600; total time=   2.2s\n",
      "[CV] END .max_depth=70, max_features=0.025, n_estimators=100; total time=   0.3s\n",
      "[CV] END .max_depth=70, max_features=0.025, n_estimators=100; total time=   0.3s\n",
      "[CV] END .max_depth=70, max_features=0.025, n_estimators=100; total time=   0.3s\n",
      "[CV] END ...max_depth=70, max_features=0.1, n_estimators=100; total time=   0.3s\n",
      "[CV] END ...max_depth=70, max_features=0.1, n_estimators=100; total time=   0.3s\n",
      "[CV] END ...max_depth=70, max_features=0.1, n_estimators=100; total time=   0.3s\n",
      "[CV] END ..max_depth=40, max_features=0.05, n_estimators=600; total time=   2.1s\n",
      "[CV] END ..max_depth=40, max_features=0.05, n_estimators=600; total time=   2.1s\n",
      "[CV] END ..max_depth=40, max_features=0.05, n_estimators=600; total time=   2.1s\n",
      "[CV] END ...max_depth=30, max_features=0.5, n_estimators=500; total time=   2.0s\n",
      "[CV] END ...max_depth=30, max_features=0.5, n_estimators=500; total time=   1.9s\n",
      "[CV] END ...max_depth=30, max_features=0.5, n_estimators=500; total time=   1.8s\n",
      "[CV] END ..max_depth=30, max_features=0.05, n_estimators=100; total time=   0.3s\n",
      "[CV] END ..max_depth=30, max_features=0.05, n_estimators=100; total time=   0.3s\n",
      "[CV] END ..max_depth=30, max_features=0.05, n_estimators=100; total time=   0.3s\n",
      "[CV] END .max_depth=10, max_features=0.025, n_estimators=300; total time=   1.0s\n",
      "[CV] END .max_depth=10, max_features=0.025, n_estimators=300; total time=   1.0s\n",
      "[CV] END .max_depth=10, max_features=0.025, n_estimators=300; total time=   1.0s\n",
      "[CV] END ...max_depth=30, max_features=0.5, n_estimators=600; total time=   2.1s\n",
      "[CV] END ...max_depth=30, max_features=0.5, n_estimators=600; total time=   2.1s\n",
      "[CV] END ...max_depth=30, max_features=0.5, n_estimators=600; total time=   2.2s\n",
      "[CV] END ...max_depth=90, max_features=0.3, n_estimators=300; total time=   1.1s\n",
      "[CV] END ...max_depth=90, max_features=0.3, n_estimators=300; total time=   1.0s\n",
      "[CV] END ...max_depth=90, max_features=0.3, n_estimators=300; total time=   1.0s\n",
      "[CV] END .max_depth=None, max_features=0.5, n_estimators=400; total time=   1.5s\n",
      "[CV] END .max_depth=None, max_features=0.5, n_estimators=400; total time=   1.5s\n",
      "[CV] END .max_depth=None, max_features=0.5, n_estimators=400; total time=   1.7s\n",
      "[CV] END max_depth=None, max_features=0.05, n_estimators=600; total time=   2.1s\n",
      "[CV] END max_depth=None, max_features=0.05, n_estimators=600; total time=   2.1s\n",
      "[CV] END max_depth=None, max_features=0.05, n_estimators=600; total time=   2.1s\n",
      "[CV] END ...max_depth=60, max_features=0.1, n_estimators=500; total time=   1.8s\n",
      "[CV] END ...max_depth=60, max_features=0.1, n_estimators=500; total time=   1.7s\n"
     ]
    },
    {
     "name": "stdout",
     "output_type": "stream",
     "text": [
      "[CV] END ...max_depth=60, max_features=0.1, n_estimators=500; total time=   1.7s\n",
      "[CV] END .max_depth=20, max_features=0.025, n_estimators=500; total time=   1.7s\n",
      "[CV] END .max_depth=20, max_features=0.025, n_estimators=500; total time=   1.8s\n",
      "[CV] END .max_depth=20, max_features=0.025, n_estimators=500; total time=   1.7s\n",
      "[CV] END ...max_depth=30, max_features=0.1, n_estimators=600; total time=   2.1s\n",
      "[CV] END ...max_depth=30, max_features=0.1, n_estimators=600; total time=   2.1s\n",
      "[CV] END ...max_depth=30, max_features=0.1, n_estimators=600; total time=   2.1s\n",
      "[CV] END ...max_depth=10, max_features=0.2, n_estimators=700; total time=   2.5s\n",
      "[CV] END ...max_depth=10, max_features=0.2, n_estimators=700; total time=   2.3s\n",
      "[CV] END ...max_depth=10, max_features=0.2, n_estimators=700; total time=   2.5s\n",
      "[CV] END ..max_depth=20, max_features=0.05, n_estimators=600; total time=   2.1s\n",
      "[CV] END ..max_depth=20, max_features=0.05, n_estimators=600; total time=   2.1s\n",
      "[CV] END ..max_depth=20, max_features=0.05, n_estimators=600; total time=   2.1s\n",
      "[CV] END ..max_depth=60, max_features=0.05, n_estimators=500; total time=   1.7s\n",
      "[CV] END ..max_depth=60, max_features=0.05, n_estimators=500; total time=   1.7s\n",
      "[CV] END ..max_depth=60, max_features=0.05, n_estimators=500; total time=   1.7s\n",
      "[CV] END .max_depth=80, max_features=0.025, n_estimators=400; total time=   1.3s\n",
      "[CV] END .max_depth=80, max_features=0.025, n_estimators=400; total time=   1.3s\n",
      "[CV] END .max_depth=80, max_features=0.025, n_estimators=400; total time=   1.4s\n",
      "[CV] END ...max_depth=10, max_features=0.4, n_estimators=500; total time=   1.7s\n",
      "[CV] END ...max_depth=10, max_features=0.4, n_estimators=500; total time=   1.8s\n",
      "[CV] END ...max_depth=10, max_features=0.4, n_estimators=500; total time=   1.7s\n",
      "[CV] END ..max_depth=20, max_features=0.05, n_estimators=700; total time=   2.4s\n",
      "[CV] END ..max_depth=20, max_features=0.05, n_estimators=700; total time=   2.4s\n",
      "[CV] END ..max_depth=20, max_features=0.05, n_estimators=700; total time=   2.3s\n",
      "[CV] END .max_depth=70, max_features=0.025, n_estimators=300; total time=   1.0s\n",
      "[CV] END .max_depth=70, max_features=0.025, n_estimators=300; total time=   1.0s\n",
      "[CV] END .max_depth=70, max_features=0.025, n_estimators=300; total time=   1.0s\n",
      "[CV] END ..max_depth=40, max_features=0.05, n_estimators=700; total time=   2.4s\n",
      "[CV] END ..max_depth=40, max_features=0.05, n_estimators=700; total time=   2.4s\n",
      "[CV] END ..max_depth=40, max_features=0.05, n_estimators=700; total time=   2.5s\n",
      "[CV] END ...max_depth=90, max_features=0.5, n_estimators=500; total time=   1.8s\n",
      "[CV] END ...max_depth=90, max_features=0.5, n_estimators=500; total time=   1.8s\n",
      "[CV] END ...max_depth=90, max_features=0.5, n_estimators=500; total time=   1.8s\n",
      "[CV] END .max_depth=None, max_features=0.4, n_estimators=300; total time=   1.0s\n",
      "[CV] END .max_depth=None, max_features=0.4, n_estimators=300; total time=   1.0s\n",
      "[CV] END .max_depth=None, max_features=0.4, n_estimators=300; total time=   1.1s\n",
      "[CV] END .max_depth=90, max_features=0.025, n_estimators=500; total time=   1.7s\n",
      "[CV] END .max_depth=90, max_features=0.025, n_estimators=500; total time=   1.7s\n",
      "[CV] END .max_depth=90, max_features=0.025, n_estimators=500; total time=   1.7s\n",
      "[CV] END ..max_depth=40, max_features=0.05, n_estimators=100; total time=   0.3s\n",
      "[CV] END ..max_depth=40, max_features=0.05, n_estimators=100; total time=   0.3s\n",
      "[CV] END ..max_depth=40, max_features=0.05, n_estimators=100; total time=   0.4s\n",
      "[CV] END ..max_depth=100, max_features=0.3, n_estimators=300; total time=   1.0s\n",
      "[CV] END ..max_depth=100, max_features=0.3, n_estimators=300; total time=   1.0s\n",
      "[CV] END ..max_depth=100, max_features=0.3, n_estimators=300; total time=   1.0s\n",
      "[CV] END ..max_depth=20, max_features=0.05, n_estimators=200; total time=   0.6s\n",
      "[CV] END ..max_depth=20, max_features=0.05, n_estimators=200; total time=   0.7s\n",
      "[CV] END ..max_depth=20, max_features=0.05, n_estimators=200; total time=   0.7s\n",
      "[CV] END max_depth=None, max_features=0.025, n_estimators=400; total time=   1.3s\n",
      "[CV] END max_depth=None, max_features=0.025, n_estimators=400; total time=   1.4s\n",
      "[CV] END max_depth=None, max_features=0.025, n_estimators=400; total time=   1.4s\n",
      "[CV] END ...max_depth=10, max_features=0.5, n_estimators=200; total time=   0.7s\n",
      "[CV] END ...max_depth=10, max_features=0.5, n_estimators=200; total time=   0.7s\n",
      "[CV] END ...max_depth=10, max_features=0.5, n_estimators=200; total time=   0.7s\n",
      "[CV] END ...max_depth=30, max_features=0.3, n_estimators=500; total time=   1.7s\n",
      "[CV] END ...max_depth=30, max_features=0.3, n_estimators=500; total time=   1.7s\n",
      "[CV] END ...max_depth=30, max_features=0.3, n_estimators=500; total time=   1.8s\n",
      "[CV] END ...max_depth=70, max_features=0.2, n_estimators=800; total time=   2.9s\n",
      "[CV] END ...max_depth=70, max_features=0.2, n_estimators=800; total time=   2.8s\n",
      "[CV] END ...max_depth=70, max_features=0.2, n_estimators=800; total time=   2.7s\n",
      "[CV] END ...max_depth=10, max_features=0.3, n_estimators=800; total time=   2.8s\n",
      "[CV] END ...max_depth=10, max_features=0.3, n_estimators=800; total time=   2.8s\n",
      "[CV] END ...max_depth=10, max_features=0.3, n_estimators=800; total time=   2.8s\n",
      "[CV] END .max_depth=100, max_features=0.05, n_estimators=100; total time=   0.3s\n",
      "[CV] END .max_depth=100, max_features=0.05, n_estimators=100; total time=   0.3s\n",
      "[CV] END .max_depth=100, max_features=0.05, n_estimators=100; total time=   0.3s\n",
      "[CV] END ...max_depth=60, max_features=0.2, n_estimators=300; total time=   1.0s\n",
      "[CV] END ...max_depth=60, max_features=0.2, n_estimators=300; total time=   1.0s\n",
      "[CV] END ...max_depth=60, max_features=0.2, n_estimators=300; total time=   1.0s\n",
      "[CV] END .max_depth=10, max_features=0.025, n_estimators=700; total time=   2.4s\n",
      "[CV] END .max_depth=10, max_features=0.025, n_estimators=700; total time=   2.3s\n",
      "[CV] END .max_depth=10, max_features=0.025, n_estimators=700; total time=   2.4s\n",
      "[CV] END max_depth=None, max_features=0.05, n_estimators=100; total time=   0.3s\n",
      "[CV] END max_depth=None, max_features=0.05, n_estimators=100; total time=   0.3s\n",
      "[CV] END max_depth=None, max_features=0.05, n_estimators=100; total time=   0.3s\n",
      "[CV] END .max_depth=None, max_features=0.5, n_estimators=500; total time=   1.7s\n",
      "[CV] END .max_depth=None, max_features=0.5, n_estimators=500; total time=   1.8s\n",
      "[CV] END .max_depth=None, max_features=0.5, n_estimators=500; total time=   1.8s\n",
      "[CV] END ...max_depth=40, max_features=0.4, n_estimators=300; total time=   1.0s\n",
      "[CV] END ...max_depth=40, max_features=0.4, n_estimators=300; total time=   1.0s\n",
      "[CV] END ...max_depth=40, max_features=0.4, n_estimators=300; total time=   1.1s\n",
      "[CV] END ...max_depth=80, max_features=0.4, n_estimators=600; total time=   2.1s\n",
      "[CV] END ...max_depth=80, max_features=0.4, n_estimators=600; total time=   2.1s\n",
      "[CV] END ...max_depth=80, max_features=0.4, n_estimators=600; total time=   2.1s\n",
      "[CV] END ...max_depth=30, max_features=0.1, n_estimators=400; total time=   1.4s\n",
      "[CV] END ...max_depth=30, max_features=0.1, n_estimators=400; total time=   1.3s\n",
      "[CV] END ...max_depth=30, max_features=0.1, n_estimators=400; total time=   1.3s\n",
      "[CV] END ...max_depth=60, max_features=0.5, n_estimators=400; total time=   1.4s\n",
      "[CV] END ...max_depth=60, max_features=0.5, n_estimators=400; total time=   1.4s\n",
      "[CV] END ...max_depth=60, max_features=0.5, n_estimators=400; total time=   1.4s\n",
      "[CV] END ...max_depth=60, max_features=0.3, n_estimators=700; total time=   2.5s\n",
      "[CV] END ...max_depth=60, max_features=0.3, n_estimators=700; total time=   2.6s\n",
      "[CV] END ...max_depth=60, max_features=0.3, n_estimators=700; total time=   2.3s\n",
      "[CV] END max_depth=None, max_features=0.05, n_estimators=700; total time=   2.6s\n",
      "[CV] END max_depth=None, max_features=0.05, n_estimators=700; total time=   2.8s\n",
      "[CV] END max_depth=None, max_features=0.05, n_estimators=700; total time=   2.6s\n"
     ]
    },
    {
     "data": {
      "text/plain": [
       "{'n_estimators': 700, 'max_features': 0.3, 'max_depth': 60}"
      ]
     },
     "execution_count": 17,
     "metadata": {},
     "output_type": "execute_result"
    }
   ],
   "source": [
    "rf = RandomForestRegressor(random_state=0, n_jobs=-1)\n",
    "\n",
    "rf_random = RandomizedSearchCV(\n",
    "    estimator=rf,\n",
    "    param_distributions=hyper_params,\n",
    "    n_iter=100,\n",
    "    scoring=\"neg_mean_absolute_error\",\n",
    "    cv=3,\n",
    "    verbose=2,\n",
    "    random_state=42,\n",
    "    return_train_score=True,\n",
    ")\n",
    "\n",
    "rf_random.fit(X_train, y_train)\n",
    "rf_random.best_params_"
   ]
  },
  {
   "cell_type": "code",
   "execution_count": 18,
   "metadata": {},
   "outputs": [
    {
     "name": "stdout",
     "output_type": "stream",
     "text": [
      "RMSE train: 0.13\n",
      "RMSE test: 0.84\n",
      "MSE test: 0.71\n",
      "MAE test: 0.44\n",
      "\n"
     ]
    }
   ],
   "source": [
    "from training.results import assess_regression_model\n",
    "\n",
    "\n",
    "rmse, mse, mae = assess_regression_model(rf_random, X_train, X_test, y_train, y_test)"
   ]
  },
  {
   "cell_type": "code",
   "execution_count": 19,
   "metadata": {},
   "outputs": [],
   "source": [
    "results.loc[1] = [\n",
    "    \"chronological\",\n",
    "    \"RandomizedSearchCV\",\n",
    "    len(X_test.columns),\n",
    "    mse,\n",
    "    rmse,\n",
    "    mae,\n",
    "]"
   ]
  },
  {
   "cell_type": "markdown",
   "metadata": {},
   "source": [
    "###### MAE by level"
   ]
  },
  {
   "cell_type": "code",
   "execution_count": null,
   "metadata": {},
   "outputs": [],
   "source": [
    "import matplotlib.pyplot as plt\n",
    "\n",
    "y_test = y_test.reset_index(drop=True)\n",
    "level_max = y_test.max()\n",
    "\n",
    "mae_by_level = pd.DataFrame(columns=[\"level\", \"mae\"])\n",
    "for lvl in range(-1, level_max + 1):\n",
    "    y_test_curr = y_test[y_test == lvl]\n",
    "    y_pred_test_curr = pd.DataFrame(y_pred_test)[y_test == lvl]\n",
    "\n",
    "    mae = mean_absolute_error(y_test_curr, y_pred_test_curr)\n",
    "    mae_by_level.loc[lvl + 1] = [lvl, mae]\n",
    "\n",
    "\n",
    "plt.figure(figsize=(10, 6))\n",
    "plt.bar(mae_by_level[\"level\"], mae_by_level[\"mae\"])\n",
    "plt.xlabel(\"Level\")\n",
    "plt.ylabel(\"Mean Absolute Error (MAE)\")\n",
    "plt.title(\"MAE by level\")\n",
    "plt.xticks(mae_by_level[\"level\"])\n",
    "plt.show()"
   ]
  },
  {
   "cell_type": "code",
   "execution_count": 20,
   "metadata": {},
   "outputs": [
    {
     "name": "stdout",
     "output_type": "stream",
     "text": [
      "Normal:\n",
      "MSE: 0.71\n",
      "RMSE: 0.84\n",
      "\n",
      "Round type: round\n",
      "MSE: 0.83\n",
      "RMSE: 0.91\n",
      "\n",
      "Round type: 0.33\n",
      "MSE: 0.64\n",
      "RMSE: 0.80\n",
      "\n",
      "Round type: 0.45\n",
      "MSE: 0.78\n",
      "RMSE: 0.89\n",
      "\n"
     ]
    }
   ],
   "source": [
    "predict = rf_random.predict(X_test)\n",
    "check_round_predictions([\"round\", 0.33, 0.45], y_test, predict)"
   ]
  },
  {
   "cell_type": "markdown",
   "metadata": {},
   "source": [
    "### Attempt to decrease overfitting\n",
    "Change max_depth to 9 and n_estimators to 500"
   ]
  },
  {
   "cell_type": "code",
   "execution_count": 21,
   "metadata": {},
   "outputs": [
    {
     "name": "stdout",
     "output_type": "stream",
     "text": [
      "RMSE train: 0.15\n",
      "RMSE test: 0.84\n",
      "MSE test: 0.70\n",
      "MAE test: 0.45\n",
      "\n"
     ]
    }
   ],
   "source": [
    "rf = RandomForestRegressor(\n",
    "    random_state=0, n_jobs=-1, n_estimators=500, max_features=0.3, max_depth=9\n",
    ")\n",
    "rf.fit(X_train, y_train)\n",
    "rmse, mse, mae = assess_regression_model(rf, X_train, X_test, y_train, y_test)"
   ]
  },
  {
   "cell_type": "code",
   "execution_count": 22,
   "metadata": {},
   "outputs": [],
   "source": [
    "results.loc[2] = [\n",
    "    \"chronological\",\n",
    "    \"minimalise_overfitting\",\n",
    "    len(X_test.columns),\n",
    "    mse,\n",
    "    rmse,\n",
    "    mae,\n",
    "]"
   ]
  },
  {
   "cell_type": "markdown",
   "metadata": {},
   "source": [
    "###### MAE by level"
   ]
  },
  {
   "cell_type": "code",
   "execution_count": null,
   "metadata": {},
   "outputs": [],
   "source": [
    "import matplotlib.pyplot as plt\n",
    "\n",
    "y_test = y_test.reset_index(drop=True)\n",
    "level_max = y_test.max()\n",
    "\n",
    "mae_by_level = pd.DataFrame(columns=[\"level\", \"mae\"])\n",
    "for lvl in range(-1, level_max + 1):\n",
    "    y_test_curr = y_test[y_test == lvl]\n",
    "    y_pred_test_curr = pd.DataFrame(y_pred_test)[y_test == lvl]\n",
    "\n",
    "    mae = mean_absolute_error(y_test_curr, y_pred_test_curr)\n",
    "    mae_by_level.loc[lvl + 1] = [lvl, mae]\n",
    "\n",
    "\n",
    "plt.figure(figsize=(10, 6))\n",
    "plt.bar(mae_by_level[\"level\"], mae_by_level[\"mae\"])\n",
    "plt.xlabel(\"Level\")\n",
    "plt.ylabel(\"Mean Absolute Error (MAE)\")\n",
    "plt.title(\"MAE by level\")\n",
    "plt.xticks(mae_by_level[\"level\"])\n",
    "plt.show()"
   ]
  },
  {
   "cell_type": "code",
   "execution_count": 23,
   "metadata": {},
   "outputs": [
    {
     "name": "stdout",
     "output_type": "stream",
     "text": [
      "Normal:\n",
      "MSE: 0.70\n",
      "RMSE: 0.84\n",
      "\n",
      "Round type: round\n",
      "MSE: 0.81\n",
      "RMSE: 0.90\n",
      "\n",
      "Round type: 0.33\n",
      "MSE: 0.64\n",
      "RMSE: 0.80\n",
      "\n",
      "Round type: 0.45\n",
      "MSE: 0.77\n",
      "RMSE: 0.88\n",
      "\n"
     ]
    }
   ],
   "source": [
    "predict = rf.predict(X_test)\n",
    "check_round_predictions([\"round\", 0.33, 0.45], y_test, predict)"
   ]
  },
  {
   "cell_type": "code",
   "execution_count": 24,
   "metadata": {},
   "outputs": [
    {
     "data": {
      "image/png": "[encoded data removed]",
      "text/plain": [
       "<Figure size 432x288 with 2 Axes>"
      ]
     },
     "metadata": {
      "needs_background": "light"
     },
     "output_type": "display_data"
    }
   ],
   "source": [
    "plot_confusion_matrix(\"round\", predict, y_test)"
   ]
  },
  {
   "cell_type": "code",
   "execution_count": 25,
   "metadata": {},
   "outputs": [
    {
     "data": {
      "image/png": "[encoded data removed]",
      "text/plain": [
       "<Figure size 432x288 with 2 Axes>"
      ]
     },
     "metadata": {
      "needs_background": "light"
     },
     "output_type": "display_data"
    }
   ],
   "source": [
    "plot_confusion_matrix(0.33, predict, y_test)"
   ]
  },
  {
   "cell_type": "markdown",
   "metadata": {},
   "source": [
    "## Random split"
   ]
  },
  {
   "cell_type": "code",
   "execution_count": 26,
   "metadata": {},
   "outputs": [
    {
     "data": {
      "text/html": [
       "<style>#sk-container-id-2 {color: black;background-color: white;}#sk-container-id-2 pre{padding: 0;}#sk-container-id-2 div.sk-toggleable {background-color: white;}#sk-container-id-2 label.sk-toggleable__label {cursor: pointer;display: block;width: 100%;margin-bottom: 0;padding: 0.3em;box-sizing: border-box;text-align: center;}#sk-container-id-2 label.sk-toggleable__label-arrow:before {content: \"▸\";float: left;margin-right: 0.25em;color: #696969;}#sk-container-id-2 label.sk-toggleable__label-arrow:hover:before {color: black;}#sk-container-id-2 div.sk-estimator:hover label.sk-toggleable__label-arrow:before {color: black;}#sk-container-id-2 div.sk-toggleable__content {max-height: 0;max-width: 0;overflow: hidden;text-align: left;background-color: #f0f8ff;}#sk-container-id-2 div.sk-toggleable__content pre {margin: 0.2em;color: black;border-radius: 0.25em;background-color: #f0f8ff;}#sk-container-id-2 input.sk-toggleable__control:checked~div.sk-toggleable__content {max-height: 200px;max-width: 100%;overflow: auto;}#sk-container-id-2 input.sk-toggleable__control:checked~label.sk-toggleable__label-arrow:before {content: \"▾\";}#sk-container-id-2 div.sk-estimator input.sk-toggleable__control:checked~label.sk-toggleable__label {background-color: #d4ebff;}#sk-container-id-2 div.sk-label input.sk-toggleable__control:checked~label.sk-toggleable__label {background-color: #d4ebff;}#sk-container-id-2 input.sk-hidden--visually {border: 0;clip: rect(1px 1px 1px 1px);clip: rect(1px, 1px, 1px, 1px);height: 1px;margin: -1px;overflow: hidden;padding: 0;position: absolute;width: 1px;}#sk-container-id-2 div.sk-estimator {font-family: monospace;background-color: #f0f8ff;border: 1px dotted black;border-radius: 0.25em;box-sizing: border-box;margin-bottom: 0.5em;}#sk-container-id-2 div.sk-estimator:hover {background-color: #d4ebff;}#sk-container-id-2 div.sk-parallel-item::after {content: \"\";width: 100%;border-bottom: 1px solid gray;flex-grow: 1;}#sk-container-id-2 div.sk-label:hover label.sk-toggleable__label {background-color: #d4ebff;}#sk-container-id-2 div.sk-serial::before {content: \"\";position: absolute;border-left: 1px solid gray;box-sizing: border-box;top: 0;bottom: 0;left: 50%;z-index: 0;}#sk-container-id-2 div.sk-serial {display: flex;flex-direction: column;align-items: center;background-color: white;padding-right: 0.2em;padding-left: 0.2em;position: relative;}#sk-container-id-2 div.sk-item {position: relative;z-index: 1;}#sk-container-id-2 div.sk-parallel {display: flex;align-items: stretch;justify-content: center;background-color: white;position: relative;}#sk-container-id-2 div.sk-item::before, #sk-container-id-2 div.sk-parallel-item::before {content: \"\";position: absolute;border-left: 1px solid gray;box-sizing: border-box;top: 0;bottom: 0;left: 50%;z-index: -1;}#sk-container-id-2 div.sk-parallel-item {display: flex;flex-direction: column;z-index: 1;position: relative;background-color: white;}#sk-container-id-2 div.sk-parallel-item:first-child::after {align-self: flex-end;width: 50%;}#sk-container-id-2 div.sk-parallel-item:last-child::after {align-self: flex-start;width: 50%;}#sk-container-id-2 div.sk-parallel-item:only-child::after {width: 0;}#sk-container-id-2 div.sk-dashed-wrapped {border: 1px dashed gray;margin: 0 0.4em 0.5em 0.4em;box-sizing: border-box;padding-bottom: 0.4em;background-color: white;}#sk-container-id-2 div.sk-label label {font-family: monospace;font-weight: bold;display: inline-block;line-height: 1.2em;}#sk-container-id-2 div.sk-label-container {text-align: center;}#sk-container-id-2 div.sk-container {/* jupyter's `normalize.less` sets `[hidden] { display: none; }` but bootstrap.min.css set `[hidden] { display: none !important; }` so we also need the `!important` here to be able to override the default hidden behavior on the sphinx rendered scikit-learn.org. See: https://github.com/scikit-learn/scikit-learn/issues/21755 */display: inline-block !important;position: relative;}#sk-container-id-2 div.sk-text-repr-fallback {display: none;}</style><div id=\"sk-container-id-2\" class=\"sk-top-container\"><div class=\"sk-text-repr-fallback\"><pre>RandomForestRegressor(max_depth=2, n_estimators=500, n_jobs=-1, random_state=0)</pre><b>In a Jupyter environment, please rerun this cell to show the HTML representation or trust the notebook. <br />On GitHub, the HTML representation is unable to render, please try loading this page with nbviewer.org.</b></div><div class=\"sk-container\" hidden><div class=\"sk-item\"><div class=\"sk-estimator sk-toggleable\"><input class=\"sk-toggleable__control sk-hidden--visually\" id=\"sk-estimator-id-2\" type=\"checkbox\" checked><label for=\"sk-estimator-id-2\" class=\"sk-toggleable__label sk-toggleable__label-arrow\">RandomForestRegressor</label><div class=\"sk-toggleable__content\"><pre>RandomForestRegressor(max_depth=2, n_estimators=500, n_jobs=-1, random_state=0)</pre></div></div></div></div></div>"
      ],
      "text/plain": [
       "RandomForestRegressor(max_depth=2, n_estimators=500, n_jobs=-1, random_state=0)"
      ]
     },
     "execution_count": 26,
     "metadata": {},
     "output_type": "execute_result"
    }
   ],
   "source": [
    "rf_reg = RandomForestRegressor(n_estimators=500, max_depth=2, random_state=0, n_jobs=-1)\n",
    "rf_reg.fit(X_train_random_split, y_train_random_split)"
   ]
  },
  {
   "cell_type": "code",
   "execution_count": 27,
   "metadata": {},
   "outputs": [],
   "source": [
    "y_pred_train = rf_reg.predict(X_train_random_split)\n",
    "y_pred_test = rf_reg.predict(X_test_random_split)"
   ]
  },
  {
   "cell_type": "code",
   "execution_count": 28,
   "metadata": {},
   "outputs": [
    {
     "name": "stdout",
     "output_type": "stream",
     "text": [
      "MSE: 1.51\n",
      "RMSE: 1.23\n",
      "MAE: 1.00\n"
     ]
    }
   ],
   "source": [
    "mse = mean_squared_error(y_test_random_split, y_pred_test)\n",
    "rmse = mean_squared_error(y_test_random_split, y_pred_test, squared=False)\n",
    "mae = mean_absolute_error(y_test_random_split, y_pred_test)\n",
    "\n",
    "print(f\"MSE: {mse:.2f}\")\n",
    "print(f\"RMSE: {rmse:.2f}\")\n",
    "print(f\"MAE: {mae:.2f}\")"
   ]
  },
  {
   "cell_type": "code",
   "execution_count": 29,
   "metadata": {},
   "outputs": [],
   "source": [
    "results.loc[3] = [\"random\", \"normal\", len(X_test.columns), mse, rmse, mae]"
   ]
  },
  {
   "cell_type": "markdown",
   "metadata": {},
   "source": [
    "###### MAE by level"
   ]
  },
  {
   "cell_type": "code",
   "execution_count": null,
   "metadata": {},
   "outputs": [],
   "source": [
    "import matplotlib.pyplot as plt\n",
    "\n",
    "y_test = y_test.reset_index(drop=True)\n",
    "level_max = y_test.max()\n",
    "\n",
    "mae_by_level = pd.DataFrame(columns=[\"level\", \"mae\"])\n",
    "for lvl in range(-1, level_max + 1):\n",
    "    y_test_curr = y_test[y_test == lvl]\n",
    "    y_pred_test_curr = pd.DataFrame(y_pred_test)[y_test == lvl]\n",
    "\n",
    "    mae = mean_absolute_error(y_test_curr, y_pred_test_curr)\n",
    "    mae_by_level.loc[lvl + 1] = [lvl, mae]\n",
    "\n",
    "\n",
    "plt.figure(figsize=(10, 6))\n",
    "plt.bar(mae_by_level[\"level\"], mae_by_level[\"mae\"])\n",
    "plt.xlabel(\"Level\")\n",
    "plt.ylabel(\"Mean Absolute Error (MAE)\")\n",
    "plt.title(\"MAE by level\")\n",
    "plt.xticks(mae_by_level[\"level\"])\n",
    "plt.show()"
   ]
  },
  {
   "cell_type": "code",
   "execution_count": 30,
   "metadata": {},
   "outputs": [
    {
     "name": "stdout",
     "output_type": "stream",
     "text": [
      "Normal:\n",
      "MSE: 1.51\n",
      "RMSE: 1.23\n",
      "\n",
      "Round type: round\n",
      "MSE: 1.63\n",
      "RMSE: 1.28\n",
      "\n",
      "Round type: 0.33\n",
      "MSE: 1.63\n",
      "RMSE: 1.28\n",
      "\n",
      "Round type: 0.45\n",
      "MSE: 1.65\n",
      "RMSE: 1.29\n",
      "\n"
     ]
    }
   ],
   "source": [
    "check_round_predictions([\"round\", 0.33, 0.45], y_test_random_split, y_pred_test)"
   ]
  },
  {
   "cell_type": "code",
   "execution_count": 31,
   "metadata": {},
   "outputs": [
    {
     "data": {
      "image/png": "[encoded data removed]",
      "text/plain": [
       "<Figure size 432x288 with 2 Axes>"
      ]
     },
     "metadata": {
      "needs_background": "light"
     },
     "output_type": "display_data"
    }
   ],
   "source": [
    "plot_confusion_matrix(\"round\", y_pred_test, y_test_random_split)"
   ]
  },
  {
   "cell_type": "markdown",
   "metadata": {},
   "source": [
    "### Tuning"
   ]
  },
  {
   "cell_type": "code",
   "execution_count": 32,
   "metadata": {},
   "outputs": [
    {
     "data": {
      "text/plain": [
       "{'n_estimators': [100, 200, 300, 400, 500, 600, 700, 800],\n",
       " 'max_features': [0.1, 0.2, 0.3, 0.4, 0.5],\n",
       " 'max_depth': [10, 20, 30, 40, 50, 60, 70, 80, 90, 100, 110, None]}"
      ]
     },
     "execution_count": 32,
     "metadata": {},
     "output_type": "execute_result"
    }
   ],
   "source": [
    "n_estimators = [int(x) for x in np.linspace(start=100, stop=800, num=8)]\n",
    "max_features = [0.1, 0.2, 0.3, 0.4, 0.5]\n",
    "max_depth = list(range(10, 111, 10)) + [None]\n",
    "\n",
    "hyper_params = {\n",
    "    \"n_estimators\": n_estimators,\n",
    "    \"max_features\": max_features,\n",
    "    \"max_depth\": max_depth,\n",
    "}\n",
    "\n",
    "hyper_params"
   ]
  },
  {
   "cell_type": "code",
   "execution_count": 33,
   "metadata": {},
   "outputs": [
    {
     "name": "stdout",
     "output_type": "stream",
     "text": [
      "Fitting 3 folds for each of 100 candidates, totalling 300 fits\n",
      "[CV] END ...max_depth=20, max_features=0.5, n_estimators=200; total time=   0.7s\n",
      "[CV] END ...max_depth=20, max_features=0.5, n_estimators=200; total time=   0.6s\n",
      "[CV] END ...max_depth=20, max_features=0.5, n_estimators=200; total time=   0.7s\n",
      "[CV] END ..max_depth=110, max_features=0.2, n_estimators=700; total time=   2.6s\n",
      "[CV] END ..max_depth=110, max_features=0.2, n_estimators=700; total time=   2.6s\n",
      "[CV] END ..max_depth=110, max_features=0.2, n_estimators=700; total time=   2.6s\n",
      "[CV] END ..max_depth=100, max_features=0.5, n_estimators=300; total time=   1.1s\n",
      "[CV] END ..max_depth=100, max_features=0.5, n_estimators=300; total time=   1.1s\n",
      "[CV] END ..max_depth=100, max_features=0.5, n_estimators=300; total time=   1.1s\n",
      "[CV] END ...max_depth=70, max_features=0.5, n_estimators=600; total time=   2.3s\n",
      "[CV] END ...max_depth=70, max_features=0.5, n_estimators=600; total time=   2.1s\n",
      "[CV] END ...max_depth=70, max_features=0.5, n_estimators=600; total time=   2.1s\n",
      "[CV] END ..max_depth=100, max_features=0.5, n_estimators=800; total time=   3.0s\n",
      "[CV] END ..max_depth=100, max_features=0.5, n_estimators=800; total time=   3.2s\n",
      "[CV] END ..max_depth=100, max_features=0.5, n_estimators=800; total time=   3.1s\n",
      "[CV] END ...max_depth=50, max_features=0.2, n_estimators=500; total time=   1.7s\n",
      "[CV] END ...max_depth=50, max_features=0.2, n_estimators=500; total time=   1.9s\n",
      "[CV] END ...max_depth=50, max_features=0.2, n_estimators=500; total time=   1.9s\n",
      "[CV] END ...max_depth=70, max_features=0.4, n_estimators=500; total time=   2.1s\n",
      "[CV] END ...max_depth=70, max_features=0.4, n_estimators=500; total time=   1.9s\n",
      "[CV] END ...max_depth=70, max_features=0.4, n_estimators=500; total time=   1.7s\n",
      "[CV] END ..max_depth=100, max_features=0.2, n_estimators=800; total time=   2.8s\n",
      "[CV] END ..max_depth=100, max_features=0.2, n_estimators=800; total time=   3.9s\n",
      "[CV] END ..max_depth=100, max_features=0.2, n_estimators=800; total time=   3.6s\n",
      "[CV] END ...max_depth=20, max_features=0.5, n_estimators=600; total time=   2.6s\n",
      "[CV] END ...max_depth=20, max_features=0.5, n_estimators=600; total time=   2.1s\n",
      "[CV] END ...max_depth=20, max_features=0.5, n_estimators=600; total time=   2.1s\n",
      "[CV] END .max_depth=None, max_features=0.1, n_estimators=300; total time=   0.9s\n",
      "[CV] END .max_depth=None, max_features=0.1, n_estimators=300; total time=   1.4s\n",
      "[CV] END .max_depth=None, max_features=0.1, n_estimators=300; total time=   1.0s\n",
      "[CV] END ...max_depth=10, max_features=0.2, n_estimators=200; total time=   0.6s\n",
      "[CV] END ...max_depth=10, max_features=0.2, n_estimators=200; total time=   0.7s\n",
      "[CV] END ...max_depth=10, max_features=0.2, n_estimators=200; total time=   0.6s\n",
      "[CV] END ...max_depth=80, max_features=0.1, n_estimators=200; total time=   0.6s\n",
      "[CV] END ...max_depth=80, max_features=0.1, n_estimators=200; total time=   0.6s\n",
      "[CV] END ...max_depth=80, max_features=0.1, n_estimators=200; total time=   0.6s\n",
      "[CV] END ..max_depth=110, max_features=0.5, n_estimators=200; total time=   0.6s\n",
      "[CV] END ..max_depth=110, max_features=0.5, n_estimators=200; total time=   0.7s\n",
      "[CV] END ..max_depth=110, max_features=0.5, n_estimators=200; total time=   0.7s\n",
      "[CV] END ...max_depth=80, max_features=0.3, n_estimators=300; total time=   0.9s\n",
      "[CV] END ...max_depth=80, max_features=0.3, n_estimators=300; total time=   1.0s\n",
      "[CV] END ...max_depth=80, max_features=0.3, n_estimators=300; total time=   1.0s\n",
      "[CV] END ...max_depth=10, max_features=0.4, n_estimators=700; total time=   2.3s\n",
      "[CV] END ...max_depth=10, max_features=0.4, n_estimators=700; total time=   2.4s\n",
      "[CV] END ...max_depth=10, max_features=0.4, n_estimators=700; total time=   2.6s\n",
      "[CV] END ...max_depth=30, max_features=0.2, n_estimators=600; total time=   1.9s\n",
      "[CV] END ...max_depth=30, max_features=0.2, n_estimators=600; total time=   2.1s\n",
      "[CV] END ...max_depth=30, max_features=0.2, n_estimators=600; total time=   2.3s\n",
      "[CV] END ...max_depth=20, max_features=0.2, n_estimators=800; total time=   2.9s\n",
      "[CV] END ...max_depth=20, max_features=0.2, n_estimators=800; total time=   2.6s\n",
      "[CV] END ...max_depth=20, max_features=0.2, n_estimators=800; total time=   2.7s\n",
      "[CV] END ..max_depth=110, max_features=0.3, n_estimators=800; total time=   2.8s\n",
      "[CV] END ..max_depth=110, max_features=0.3, n_estimators=800; total time=   2.7s\n",
      "[CV] END ..max_depth=110, max_features=0.3, n_estimators=800; total time=   2.7s\n",
      "[CV] END ...max_depth=10, max_features=0.5, n_estimators=200; total time=   0.6s\n",
      "[CV] END ...max_depth=10, max_features=0.5, n_estimators=200; total time=   0.7s\n",
      "[CV] END ...max_depth=10, max_features=0.5, n_estimators=200; total time=   0.7s\n",
      "[CV] END ...max_depth=60, max_features=0.1, n_estimators=400; total time=   1.3s\n",
      "[CV] END ...max_depth=60, max_features=0.1, n_estimators=400; total time=   1.3s\n",
      "[CV] END ...max_depth=60, max_features=0.1, n_estimators=400; total time=   1.4s\n",
      "[CV] END ...max_depth=50, max_features=0.3, n_estimators=500; total time=   1.3s\n",
      "[CV] END ...max_depth=50, max_features=0.3, n_estimators=500; total time=   1.3s\n",
      "[CV] END ...max_depth=50, max_features=0.3, n_estimators=500; total time=   1.4s\n",
      "[CV] END .max_depth=None, max_features=0.4, n_estimators=200; total time=   0.5s\n",
      "[CV] END .max_depth=None, max_features=0.4, n_estimators=200; total time=   0.5s\n",
      "[CV] END .max_depth=None, max_features=0.4, n_estimators=200; total time=   0.5s\n",
      "[CV] END ...max_depth=20, max_features=0.4, n_estimators=700; total time=   2.4s\n",
      "[CV] END ...max_depth=20, max_features=0.4, n_estimators=700; total time=   2.5s\n",
      "[CV] END ...max_depth=20, max_features=0.4, n_estimators=700; total time=   2.4s\n",
      "[CV] END ...max_depth=70, max_features=0.3, n_estimators=600; total time=   2.1s\n",
      "[CV] END ...max_depth=70, max_features=0.3, n_estimators=600; total time=   2.0s\n",
      "[CV] END ...max_depth=70, max_features=0.3, n_estimators=600; total time=   1.9s\n",
      "[CV] END ...max_depth=30, max_features=0.4, n_estimators=100; total time=   0.3s\n",
      "[CV] END ...max_depth=30, max_features=0.4, n_estimators=100; total time=   0.3s\n",
      "[CV] END ...max_depth=30, max_features=0.4, n_estimators=100; total time=   0.3s\n",
      "[CV] END .max_depth=None, max_features=0.5, n_estimators=300; total time=   1.0s\n",
      "[CV] END .max_depth=None, max_features=0.5, n_estimators=300; total time=   1.1s\n",
      "[CV] END .max_depth=None, max_features=0.5, n_estimators=300; total time=   1.0s\n",
      "[CV] END ...max_depth=90, max_features=0.5, n_estimators=700; total time=   2.3s\n",
      "[CV] END ...max_depth=90, max_features=0.5, n_estimators=700; total time=   2.4s\n",
      "[CV] END ...max_depth=90, max_features=0.5, n_estimators=700; total time=   2.4s\n",
      "[CV] END ...max_depth=90, max_features=0.1, n_estimators=200; total time=   0.6s\n",
      "[CV] END ...max_depth=90, max_features=0.1, n_estimators=200; total time=   0.6s\n",
      "[CV] END ...max_depth=90, max_features=0.1, n_estimators=200; total time=   0.6s\n",
      "[CV] END ...max_depth=80, max_features=0.3, n_estimators=600; total time=   1.9s\n",
      "[CV] END ...max_depth=80, max_features=0.3, n_estimators=600; total time=   2.0s\n",
      "[CV] END ...max_depth=80, max_features=0.3, n_estimators=600; total time=   2.1s\n",
      "[CV] END ...max_depth=10, max_features=0.1, n_estimators=100; total time=   0.3s\n",
      "[CV] END ...max_depth=10, max_features=0.1, n_estimators=100; total time=   0.3s\n",
      "[CV] END ...max_depth=10, max_features=0.1, n_estimators=100; total time=   0.3s\n",
      "[CV] END ..max_depth=100, max_features=0.4, n_estimators=800; total time=   2.7s\n",
      "[CV] END ..max_depth=100, max_features=0.4, n_estimators=800; total time=   2.8s\n",
      "[CV] END ..max_depth=100, max_features=0.4, n_estimators=800; total time=   2.7s\n",
      "[CV] END ...max_depth=10, max_features=0.2, n_estimators=400; total time=   1.3s\n",
      "[CV] END ...max_depth=10, max_features=0.2, n_estimators=400; total time=   1.3s\n",
      "[CV] END ...max_depth=10, max_features=0.2, n_estimators=400; total time=   1.3s\n",
      "[CV] END ..max_depth=100, max_features=0.3, n_estimators=500; total time=   1.7s\n",
      "[CV] END ..max_depth=100, max_features=0.3, n_estimators=500; total time=   1.8s\n",
      "[CV] END ..max_depth=100, max_features=0.3, n_estimators=500; total time=   1.7s\n",
      "[CV] END ..max_depth=110, max_features=0.4, n_estimators=700; total time=   2.5s\n",
      "[CV] END ..max_depth=110, max_features=0.4, n_estimators=700; total time=   2.5s\n"
     ]
    },
    {
     "name": "stdout",
     "output_type": "stream",
     "text": [
      "[CV] END ..max_depth=110, max_features=0.4, n_estimators=700; total time=   2.5s\n",
      "[CV] END ..max_depth=100, max_features=0.3, n_estimators=200; total time=   0.7s\n",
      "[CV] END ..max_depth=100, max_features=0.3, n_estimators=200; total time=   0.8s\n",
      "[CV] END ..max_depth=100, max_features=0.3, n_estimators=200; total time=   0.7s\n",
      "[CV] END ...max_depth=30, max_features=0.5, n_estimators=600; total time=   2.4s\n",
      "[CV] END ...max_depth=30, max_features=0.5, n_estimators=600; total time=   2.0s\n",
      "[CV] END ...max_depth=30, max_features=0.5, n_estimators=600; total time=   2.1s\n",
      "[CV] END ...max_depth=80, max_features=0.3, n_estimators=700; total time=   2.4s\n",
      "[CV] END ...max_depth=80, max_features=0.3, n_estimators=700; total time=   2.3s\n",
      "[CV] END ...max_depth=80, max_features=0.3, n_estimators=700; total time=   2.3s\n",
      "[CV] END ...max_depth=50, max_features=0.2, n_estimators=600; total time=   2.0s\n",
      "[CV] END ...max_depth=50, max_features=0.2, n_estimators=600; total time=   2.0s\n",
      "[CV] END ...max_depth=50, max_features=0.2, n_estimators=600; total time=   1.9s\n",
      "[CV] END .max_depth=None, max_features=0.4, n_estimators=800; total time=   2.6s\n",
      "[CV] END .max_depth=None, max_features=0.4, n_estimators=800; total time=   2.6s\n",
      "[CV] END .max_depth=None, max_features=0.4, n_estimators=800; total time=   2.7s\n",
      "[CV] END ...max_depth=10, max_features=0.3, n_estimators=300; total time=   1.0s\n",
      "[CV] END ...max_depth=10, max_features=0.3, n_estimators=300; total time=   0.9s\n",
      "[CV] END ...max_depth=10, max_features=0.3, n_estimators=300; total time=   1.0s\n",
      "[CV] END ...max_depth=90, max_features=0.2, n_estimators=500; total time=   1.6s\n",
      "[CV] END ...max_depth=90, max_features=0.2, n_estimators=500; total time=   1.6s\n",
      "[CV] END ...max_depth=90, max_features=0.2, n_estimators=500; total time=   1.7s\n",
      "[CV] END ...max_depth=50, max_features=0.4, n_estimators=200; total time=   0.6s\n",
      "[CV] END ...max_depth=50, max_features=0.4, n_estimators=200; total time=   0.7s\n",
      "[CV] END ...max_depth=50, max_features=0.4, n_estimators=200; total time=   0.6s\n",
      "[CV] END ...max_depth=30, max_features=0.2, n_estimators=300; total time=   1.0s\n",
      "[CV] END ...max_depth=30, max_features=0.2, n_estimators=300; total time=   1.0s\n",
      "[CV] END ...max_depth=30, max_features=0.2, n_estimators=300; total time=   1.1s\n",
      "[CV] END ...max_depth=60, max_features=0.3, n_estimators=500; total time=   1.7s\n",
      "[CV] END ...max_depth=60, max_features=0.3, n_estimators=500; total time=   1.7s\n",
      "[CV] END ...max_depth=60, max_features=0.3, n_estimators=500; total time=   1.6s\n",
      "[CV] END ...max_depth=10, max_features=0.5, n_estimators=800; total time=   2.8s\n",
      "[CV] END ...max_depth=10, max_features=0.5, n_estimators=800; total time=   3.0s\n",
      "[CV] END ...max_depth=10, max_features=0.5, n_estimators=800; total time=   3.0s\n",
      "[CV] END ...max_depth=90, max_features=0.1, n_estimators=400; total time=   1.5s\n",
      "[CV] END ...max_depth=90, max_features=0.1, n_estimators=400; total time=   1.9s\n",
      "[CV] END ...max_depth=90, max_features=0.1, n_estimators=400; total time=   1.6s\n",
      "[CV] END .max_depth=None, max_features=0.3, n_estimators=400; total time=   1.3s\n",
      "[CV] END .max_depth=None, max_features=0.3, n_estimators=400; total time=   1.3s\n",
      "[CV] END .max_depth=None, max_features=0.3, n_estimators=400; total time=   1.3s\n",
      "[CV] END ...max_depth=20, max_features=0.5, n_estimators=500; total time=   1.7s\n",
      "[CV] END ...max_depth=20, max_features=0.5, n_estimators=500; total time=   1.7s\n",
      "[CV] END ...max_depth=20, max_features=0.5, n_estimators=500; total time=   1.7s\n",
      "[CV] END ...max_depth=40, max_features=0.5, n_estimators=400; total time=   1.3s\n",
      "[CV] END ...max_depth=40, max_features=0.5, n_estimators=400; total time=   1.3s\n",
      "[CV] END ...max_depth=40, max_features=0.5, n_estimators=400; total time=   1.3s\n",
      "[CV] END ...max_depth=20, max_features=0.3, n_estimators=800; total time=   2.8s\n",
      "[CV] END ...max_depth=20, max_features=0.3, n_estimators=800; total time=   2.8s\n",
      "[CV] END ...max_depth=20, max_features=0.3, n_estimators=800; total time=   2.6s\n",
      "[CV] END ..max_depth=100, max_features=0.4, n_estimators=700; total time=   2.4s\n",
      "[CV] END ..max_depth=100, max_features=0.4, n_estimators=700; total time=   2.5s\n",
      "[CV] END ..max_depth=100, max_features=0.4, n_estimators=700; total time=   2.5s\n",
      "[CV] END ...max_depth=90, max_features=0.3, n_estimators=500; total time=   1.6s\n",
      "[CV] END ...max_depth=90, max_features=0.3, n_estimators=500; total time=   1.6s\n",
      "[CV] END ...max_depth=90, max_features=0.3, n_estimators=500; total time=   1.7s\n",
      "[CV] END ..max_depth=110, max_features=0.2, n_estimators=800; total time=   2.7s\n",
      "[CV] END ..max_depth=110, max_features=0.2, n_estimators=800; total time=   3.0s\n",
      "[CV] END ..max_depth=110, max_features=0.2, n_estimators=800; total time=   2.8s\n",
      "[CV] END ..max_depth=110, max_features=0.5, n_estimators=300; total time=   1.1s\n",
      "[CV] END ..max_depth=110, max_features=0.5, n_estimators=300; total time=   1.1s\n",
      "[CV] END ..max_depth=110, max_features=0.5, n_estimators=300; total time=   1.0s\n",
      "[CV] END ...max_depth=80, max_features=0.4, n_estimators=200; total time=   0.6s\n",
      "[CV] END ...max_depth=80, max_features=0.4, n_estimators=200; total time=   0.6s\n",
      "[CV] END ...max_depth=80, max_features=0.4, n_estimators=200; total time=   0.6s\n",
      "[CV] END ...max_depth=70, max_features=0.4, n_estimators=300; total time=   0.9s\n",
      "[CV] END ...max_depth=70, max_features=0.4, n_estimators=300; total time=   1.0s\n",
      "[CV] END ...max_depth=70, max_features=0.4, n_estimators=300; total time=   1.0s\n",
      "[CV] END ...max_depth=30, max_features=0.1, n_estimators=300; total time=   0.9s\n",
      "[CV] END ...max_depth=30, max_features=0.1, n_estimators=300; total time=   1.0s\n",
      "[CV] END ...max_depth=30, max_features=0.1, n_estimators=300; total time=   0.9s\n",
      "[CV] END ...max_depth=30, max_features=0.3, n_estimators=600; total time=   2.0s\n",
      "[CV] END ...max_depth=30, max_features=0.3, n_estimators=600; total time=   2.0s\n",
      "[CV] END ...max_depth=30, max_features=0.3, n_estimators=600; total time=   2.0s\n",
      "[CV] END .max_depth=None, max_features=0.5, n_estimators=600; total time=   2.0s\n",
      "[CV] END .max_depth=None, max_features=0.5, n_estimators=600; total time=   2.1s\n",
      "[CV] END .max_depth=None, max_features=0.5, n_estimators=600; total time=   2.1s\n",
      "[CV] END ...max_depth=30, max_features=0.5, n_estimators=200; total time=   0.6s\n",
      "[CV] END ...max_depth=30, max_features=0.5, n_estimators=200; total time=   0.6s\n",
      "[CV] END ...max_depth=30, max_features=0.5, n_estimators=200; total time=   0.6s\n",
      "[CV] END .max_depth=None, max_features=0.3, n_estimators=800; total time=   2.8s\n",
      "[CV] END .max_depth=None, max_features=0.3, n_estimators=800; total time=   2.7s\n",
      "[CV] END .max_depth=None, max_features=0.3, n_estimators=800; total time=   2.7s\n",
      "[CV] END ...max_depth=70, max_features=0.2, n_estimators=600; total time=   1.9s\n",
      "[CV] END ...max_depth=70, max_features=0.2, n_estimators=600; total time=   2.0s\n",
      "[CV] END ...max_depth=70, max_features=0.2, n_estimators=600; total time=   2.0s\n",
      "[CV] END ...max_depth=20, max_features=0.5, n_estimators=700; total time=   2.4s\n",
      "[CV] END ...max_depth=20, max_features=0.5, n_estimators=700; total time=   2.4s\n",
      "[CV] END ...max_depth=20, max_features=0.5, n_estimators=700; total time=   2.4s\n",
      "[CV] END ...max_depth=40, max_features=0.3, n_estimators=200; total time=   0.7s\n",
      "[CV] END ...max_depth=40, max_features=0.3, n_estimators=200; total time=   0.7s\n",
      "[CV] END ...max_depth=40, max_features=0.3, n_estimators=200; total time=   0.7s\n",
      "[CV] END ...max_depth=60, max_features=0.5, n_estimators=300; total time=   1.0s\n",
      "[CV] END ...max_depth=60, max_features=0.5, n_estimators=300; total time=   1.0s\n",
      "[CV] END ...max_depth=60, max_features=0.5, n_estimators=300; total time=   0.9s\n",
      "[CV] END ...max_depth=80, max_features=0.4, n_estimators=100; total time=   0.3s\n",
      "[CV] END ...max_depth=80, max_features=0.4, n_estimators=100; total time=   0.3s\n",
      "[CV] END ...max_depth=80, max_features=0.4, n_estimators=100; total time=   0.3s\n",
      "[CV] END ...max_depth=90, max_features=0.1, n_estimators=300; total time=   0.9s\n",
      "[CV] END ...max_depth=90, max_features=0.1, n_estimators=300; total time=   0.9s\n",
      "[CV] END ...max_depth=90, max_features=0.1, n_estimators=300; total time=   1.0s\n",
      "[CV] END ...max_depth=20, max_features=0.4, n_estimators=500; total time=   1.6s\n",
      "[CV] END ...max_depth=20, max_features=0.4, n_estimators=500; total time=   1.7s\n"
     ]
    },
    {
     "name": "stdout",
     "output_type": "stream",
     "text": [
      "[CV] END ...max_depth=20, max_features=0.4, n_estimators=500; total time=   1.7s\n",
      "[CV] END ...max_depth=20, max_features=0.5, n_estimators=100; total time=   0.3s\n",
      "[CV] END ...max_depth=20, max_features=0.5, n_estimators=100; total time=   0.3s\n",
      "[CV] END ...max_depth=20, max_features=0.5, n_estimators=100; total time=   0.3s\n",
      "[CV] END ...max_depth=60, max_features=0.3, n_estimators=300; total time=   1.0s\n",
      "[CV] END ...max_depth=60, max_features=0.3, n_estimators=300; total time=   1.0s\n",
      "[CV] END ...max_depth=60, max_features=0.3, n_estimators=300; total time=   1.0s\n",
      "[CV] END ...max_depth=80, max_features=0.4, n_estimators=700; total time=   2.3s\n",
      "[CV] END ...max_depth=80, max_features=0.4, n_estimators=700; total time=   2.4s\n",
      "[CV] END ...max_depth=80, max_features=0.4, n_estimators=700; total time=   2.4s\n",
      "[CV] END ...max_depth=20, max_features=0.5, n_estimators=800; total time=   2.8s\n",
      "[CV] END ...max_depth=20, max_features=0.5, n_estimators=800; total time=   2.8s\n",
      "[CV] END ...max_depth=20, max_features=0.5, n_estimators=800; total time=   2.7s\n",
      "[CV] END ...max_depth=60, max_features=0.2, n_estimators=100; total time=   0.3s\n",
      "[CV] END ...max_depth=60, max_features=0.2, n_estimators=100; total time=   0.3s\n",
      "[CV] END ...max_depth=60, max_features=0.2, n_estimators=100; total time=   0.3s\n",
      "[CV] END ...max_depth=40, max_features=0.4, n_estimators=500; total time=   1.7s\n",
      "[CV] END ...max_depth=40, max_features=0.4, n_estimators=500; total time=   1.7s\n",
      "[CV] END ...max_depth=40, max_features=0.4, n_estimators=500; total time=   1.7s\n",
      "[CV] END ...max_depth=40, max_features=0.5, n_estimators=300; total time=   1.2s\n",
      "[CV] END ...max_depth=40, max_features=0.5, n_estimators=300; total time=   1.0s\n",
      "[CV] END ...max_depth=40, max_features=0.5, n_estimators=300; total time=   1.2s\n",
      "[CV] END ...max_depth=50, max_features=0.2, n_estimators=800; total time=   2.9s\n",
      "[CV] END ...max_depth=50, max_features=0.2, n_estimators=800; total time=   3.7s\n",
      "[CV] END ...max_depth=50, max_features=0.2, n_estimators=800; total time=   3.5s\n",
      "[CV] END ...max_depth=70, max_features=0.2, n_estimators=200; total time=   1.0s\n",
      "[CV] END ...max_depth=70, max_features=0.2, n_estimators=200; total time=   0.7s\n",
      "[CV] END ...max_depth=70, max_features=0.2, n_estimators=200; total time=   1.4s\n",
      "[CV] END .max_depth=None, max_features=0.5, n_estimators=400; total time=   1.8s\n",
      "[CV] END .max_depth=None, max_features=0.5, n_estimators=400; total time=   1.6s\n",
      "[CV] END .max_depth=None, max_features=0.5, n_estimators=400; total time=   1.5s\n",
      "[CV] END ...max_depth=90, max_features=0.2, n_estimators=700; total time=   2.7s\n",
      "[CV] END ...max_depth=90, max_features=0.2, n_estimators=700; total time=   2.5s\n",
      "[CV] END ...max_depth=90, max_features=0.2, n_estimators=700; total time=   2.4s\n",
      "[CV] END ...max_depth=20, max_features=0.5, n_estimators=400; total time=   1.4s\n",
      "[CV] END ...max_depth=20, max_features=0.5, n_estimators=400; total time=   1.4s\n",
      "[CV] END ...max_depth=20, max_features=0.5, n_estimators=400; total time=   1.5s\n",
      "[CV] END ..max_depth=110, max_features=0.3, n_estimators=600; total time=   2.2s\n",
      "[CV] END ..max_depth=110, max_features=0.3, n_estimators=600; total time=   2.1s\n",
      "[CV] END ..max_depth=110, max_features=0.3, n_estimators=600; total time=   2.1s\n",
      "[CV] END ...max_depth=10, max_features=0.2, n_estimators=800; total time=   2.8s\n",
      "[CV] END ...max_depth=10, max_features=0.2, n_estimators=800; total time=   2.7s\n",
      "[CV] END ...max_depth=10, max_features=0.2, n_estimators=800; total time=   2.7s\n",
      "[CV] END ...max_depth=40, max_features=0.5, n_estimators=200; total time=   0.7s\n",
      "[CV] END ...max_depth=40, max_features=0.5, n_estimators=200; total time=   0.7s\n",
      "[CV] END ...max_depth=40, max_features=0.5, n_estimators=200; total time=   0.6s\n",
      "[CV] END .max_depth=None, max_features=0.4, n_estimators=100; total time=   0.3s\n",
      "[CV] END .max_depth=None, max_features=0.4, n_estimators=100; total time=   0.3s\n",
      "[CV] END .max_depth=None, max_features=0.4, n_estimators=100; total time=   0.3s\n",
      "[CV] END ...max_depth=10, max_features=0.3, n_estimators=400; total time=   1.3s\n",
      "[CV] END ...max_depth=10, max_features=0.3, n_estimators=400; total time=   1.3s\n",
      "[CV] END ...max_depth=10, max_features=0.3, n_estimators=400; total time=   1.4s\n",
      "[CV] END ...max_depth=80, max_features=0.4, n_estimators=800; total time=   2.8s\n",
      "[CV] END ...max_depth=80, max_features=0.4, n_estimators=800; total time=   2.8s\n",
      "[CV] END ...max_depth=80, max_features=0.4, n_estimators=800; total time=   3.0s\n",
      "[CV] END ...max_depth=90, max_features=0.1, n_estimators=100; total time=   0.3s\n",
      "[CV] END ...max_depth=90, max_features=0.1, n_estimators=100; total time=   0.3s\n",
      "[CV] END ...max_depth=90, max_features=0.1, n_estimators=100; total time=   0.3s\n",
      "[CV] END ...max_depth=20, max_features=0.3, n_estimators=100; total time=   0.3s\n",
      "[CV] END ...max_depth=20, max_features=0.3, n_estimators=100; total time=   0.3s\n",
      "[CV] END ...max_depth=20, max_features=0.3, n_estimators=100; total time=   0.3s\n",
      "[CV] END ...max_depth=90, max_features=0.4, n_estimators=600; total time=   2.0s\n",
      "[CV] END ...max_depth=90, max_features=0.4, n_estimators=600; total time=   2.0s\n",
      "[CV] END ...max_depth=90, max_features=0.4, n_estimators=600; total time=   2.0s\n",
      "[CV] END ...max_depth=60, max_features=0.2, n_estimators=400; total time=   1.3s\n",
      "[CV] END ...max_depth=60, max_features=0.2, n_estimators=400; total time=   1.3s\n",
      "[CV] END ...max_depth=60, max_features=0.2, n_estimators=400; total time=   1.6s\n",
      "[CV] END ..max_depth=110, max_features=0.5, n_estimators=100; total time=   0.3s\n",
      "[CV] END ..max_depth=110, max_features=0.5, n_estimators=100; total time=   0.3s\n",
      "[CV] END ..max_depth=110, max_features=0.5, n_estimators=100; total time=   0.3s\n",
      "[CV] END ...max_depth=60, max_features=0.3, n_estimators=700; total time=   2.3s\n",
      "[CV] END ...max_depth=60, max_features=0.3, n_estimators=700; total time=   2.3s\n",
      "[CV] END ...max_depth=60, max_features=0.3, n_estimators=700; total time=   2.4s\n",
      "[CV] END ...max_depth=60, max_features=0.5, n_estimators=600; total time=   2.3s\n",
      "[CV] END ...max_depth=60, max_features=0.5, n_estimators=600; total time=   2.3s\n",
      "[CV] END ...max_depth=60, max_features=0.5, n_estimators=600; total time=   2.0s\n",
      "[CV] END ..max_depth=110, max_features=0.2, n_estimators=100; total time=   0.3s\n",
      "[CV] END ..max_depth=110, max_features=0.2, n_estimators=100; total time=   0.3s\n",
      "[CV] END ..max_depth=110, max_features=0.2, n_estimators=100; total time=   0.3s\n",
      "[CV] END ...max_depth=10, max_features=0.4, n_estimators=200; total time=   0.6s\n",
      "[CV] END ...max_depth=10, max_features=0.4, n_estimators=200; total time=   0.7s\n",
      "[CV] END ...max_depth=10, max_features=0.4, n_estimators=200; total time=   0.6s\n",
      "[CV] END ..max_depth=110, max_features=0.3, n_estimators=400; total time=   1.3s\n",
      "[CV] END ..max_depth=110, max_features=0.3, n_estimators=400; total time=   1.3s\n",
      "[CV] END ..max_depth=110, max_features=0.3, n_estimators=400; total time=   1.3s\n",
      "[CV] END ...max_depth=40, max_features=0.2, n_estimators=500; total time=   1.6s\n",
      "[CV] END ...max_depth=40, max_features=0.2, n_estimators=500; total time=   1.6s\n",
      "[CV] END ...max_depth=40, max_features=0.2, n_estimators=500; total time=   1.6s\n",
      "[CV] END ...max_depth=60, max_features=0.4, n_estimators=500; total time=   1.9s\n",
      "[CV] END ...max_depth=60, max_features=0.4, n_estimators=500; total time=   2.0s\n",
      "[CV] END ...max_depth=60, max_features=0.4, n_estimators=500; total time=   1.7s\n",
      "[CV] END .max_depth=None, max_features=0.5, n_estimators=200; total time=   0.7s\n",
      "[CV] END .max_depth=None, max_features=0.5, n_estimators=200; total time=   0.6s\n",
      "[CV] END .max_depth=None, max_features=0.5, n_estimators=200; total time=   0.7s\n",
      "[CV] END ...max_depth=20, max_features=0.1, n_estimators=300; total time=   1.0s\n",
      "[CV] END ...max_depth=20, max_features=0.1, n_estimators=300; total time=   1.4s\n",
      "[CV] END ...max_depth=20, max_features=0.1, n_estimators=300; total time=   1.6s\n"
     ]
    },
    {
     "data": {
      "text/plain": [
       "{'n_estimators': 500, 'max_features': 0.3, 'max_depth': 50}"
      ]
     },
     "execution_count": 33,
     "metadata": {},
     "output_type": "execute_result"
    }
   ],
   "source": [
    "rf = RandomForestRegressor(random_state=0, n_jobs=-1)\n",
    "\n",
    "rf_random = RandomizedSearchCV(\n",
    "    estimator=rf,\n",
    "    param_distributions=hyper_params,\n",
    "    n_iter=100,\n",
    "    scoring=\"neg_mean_absolute_error\",\n",
    "    cv=3,\n",
    "    verbose=2,\n",
    "    random_state=42,\n",
    "    return_train_score=True,\n",
    ")\n",
    "\n",
    "rf_random.fit(X_train_random_split, y_train_random_split)\n",
    "rf_random.best_params_"
   ]
  },
  {
   "cell_type": "code",
   "execution_count": 34,
   "metadata": {},
   "outputs": [
    {
     "name": "stdout",
     "output_type": "stream",
     "text": [
      "RMSE train: 0.14\n",
      "RMSE test: 0.34\n",
      "MSE test: 0.11\n",
      "MAE test: 0.22\n",
      "\n"
     ]
    }
   ],
   "source": [
    "rmse, mse, mae = assess_regression_model(\n",
    "    rf_random,\n",
    "    X_train_random_split,\n",
    "    X_test_random_split,\n",
    "    y_train_random_split,\n",
    "    y_test_random_split,\n",
    ")"
   ]
  },
  {
   "cell_type": "code",
   "execution_count": 35,
   "metadata": {},
   "outputs": [],
   "source": [
    "results.loc[4] = [\"random\", \"RandomizedSearchCV\", len(X_test.columns), mse, rmse, mae]"
   ]
  },
  {
   "cell_type": "markdown",
   "metadata": {},
   "source": [
    "###### MAE by level"
   ]
  },
  {
   "cell_type": "code",
   "execution_count": null,
   "metadata": {},
   "outputs": [],
   "source": [
    "import matplotlib.pyplot as plt\n",
    "\n",
    "y_test = y_test.reset_index(drop=True)\n",
    "level_max = y_test.max()\n",
    "\n",
    "mae_by_level = pd.DataFrame(columns=[\"level\", \"mae\"])\n",
    "for lvl in range(-1, level_max + 1):\n",
    "    y_test_curr = y_test[y_test == lvl]\n",
    "    y_pred_test_curr = pd.DataFrame(y_pred_test)[y_test == lvl]\n",
    "\n",
    "    mae = mean_absolute_error(y_test_curr, y_pred_test_curr)\n",
    "    mae_by_level.loc[lvl + 1] = [lvl, mae]\n",
    "\n",
    "\n",
    "plt.figure(figsize=(10, 6))\n",
    "plt.bar(mae_by_level[\"level\"], mae_by_level[\"mae\"])\n",
    "plt.xlabel(\"Level\")\n",
    "plt.ylabel(\"Mean Absolute Error (MAE)\")\n",
    "plt.title(\"MAE by level\")\n",
    "plt.xticks(mae_by_level[\"level\"])\n",
    "plt.show()"
   ]
  },
  {
   "cell_type": "code",
   "execution_count": 36,
   "metadata": {},
   "outputs": [
    {
     "data": {
      "image/png": "[encoded data removed]",
      "text/plain": [
       "<Figure size 432x288 with 2 Axes>"
      ]
     },
     "metadata": {
      "needs_background": "light"
     },
     "output_type": "display_data"
    }
   ],
   "source": [
    "predict_random_split = rf_random.predict(X_test_random_split)\n",
    "plot_confusion_matrix(\"round\", predict_random_split, y_test_random_split)"
   ]
  },
  {
   "cell_type": "markdown",
   "metadata": {},
   "source": [
    "### Attempt to decrease overfitting\n",
    "Change max_depth to 10"
   ]
  },
  {
   "cell_type": "code",
   "execution_count": 37,
   "metadata": {},
   "outputs": [
    {
     "data": {
      "text/plain": [
       "{'n_estimators': 500, 'max_features': 0.3, 'max_depth': 50}"
      ]
     },
     "execution_count": 37,
     "metadata": {},
     "output_type": "execute_result"
    }
   ],
   "source": [
    "rf_random.best_params_"
   ]
  },
  {
   "cell_type": "code",
   "execution_count": 38,
   "metadata": {},
   "outputs": [
    {
     "name": "stdout",
     "output_type": "stream",
     "text": [
      "RMSE train: 0.15\n",
      "RMSE test: 0.33\n",
      "MSE test: 0.11\n",
      "MAE test: 0.22\n",
      "\n"
     ]
    }
   ],
   "source": [
    "rf = RandomForestRegressor(\n",
    "    random_state=0, n_jobs=-1, n_estimators=500, max_features=0.3, max_depth=11\n",
    ")\n",
    "rf.fit(X_train_random_split, y_train_random_split)\n",
    "rmse, mse, mae = assess_regression_model(\n",
    "    rf,\n",
    "    X_train_random_split,\n",
    "    X_test_random_split,\n",
    "    y_train_random_split,\n",
    "    y_test_random_split,\n",
    ")"
   ]
  },
  {
   "cell_type": "code",
   "execution_count": 39,
   "metadata": {},
   "outputs": [],
   "source": [
    "results.loc[5] = [\n",
    "    \"random\",\n",
    "    \"minimalise_overfitting\",\n",
    "    len(X_test.columns),\n",
    "    mse,\n",
    "    rmse,\n",
    "    mae,\n",
    "]"
   ]
  },
  {
   "cell_type": "markdown",
   "metadata": {},
   "source": [
    "###### MAE by level"
   ]
  },
  {
   "cell_type": "code",
   "execution_count": null,
   "metadata": {},
   "outputs": [],
   "source": [
    "import matplotlib.pyplot as plt\n",
    "\n",
    "y_test = y_test.reset_index(drop=True)\n",
    "level_max = y_test.max()\n",
    "\n",
    "mae_by_level = pd.DataFrame(columns=[\"level\", \"mae\"])\n",
    "for lvl in range(-1, level_max + 1):\n",
    "    y_test_curr = y_test[y_test == lvl]\n",
    "    y_pred_test_curr = pd.DataFrame(y_pred_test)[y_test == lvl]\n",
    "\n",
    "    mae = mean_absolute_error(y_test_curr, y_pred_test_curr)\n",
    "    mae_by_level.loc[lvl + 1] = [lvl, mae]\n",
    "\n",
    "\n",
    "plt.figure(figsize=(10, 6))\n",
    "plt.bar(mae_by_level[\"level\"], mae_by_level[\"mae\"])\n",
    "plt.xlabel(\"Level\")\n",
    "plt.ylabel(\"Mean Absolute Error (MAE)\")\n",
    "plt.title(\"MAE by level\")\n",
    "plt.xticks(mae_by_level[\"level\"])\n",
    "plt.show()"
   ]
  },
  {
   "cell_type": "markdown",
   "metadata": {},
   "source": [
    "Check rounded predictions"
   ]
  },
  {
   "cell_type": "code",
   "execution_count": 40,
   "metadata": {},
   "outputs": [
    {
     "name": "stdout",
     "output_type": "stream",
     "text": [
      "Normal:\n",
      "MSE: 0.11\n",
      "RMSE: 0.33\n",
      "\n",
      "Round type: round\n",
      "MSE: 0.14\n",
      "RMSE: 0.37\n",
      "\n",
      "Round type: 0.33\n",
      "MSE: 0.15\n",
      "RMSE: 0.39\n",
      "\n",
      "Round type: 0.45\n",
      "MSE: 0.15\n",
      "RMSE: 0.38\n",
      "\n"
     ]
    }
   ],
   "source": [
    "predict_random_split = rf.predict(X_test_random_split)\n",
    "\n",
    "check_round_predictions(\n",
    "    [\"round\", 0.33, 0.45], y_test_random_split, predict_random_split\n",
    ")"
   ]
  },
  {
   "cell_type": "code",
   "execution_count": 41,
   "metadata": {},
   "outputs": [
    {
     "data": {
      "image/png": "[encoded data removed]",
      "text/plain": [
       "<Figure size 432x288 with 2 Axes>"
      ]
     },
     "metadata": {
      "needs_background": "light"
     },
     "output_type": "display_data"
    }
   ],
   "source": [
    "plot_confusion_matrix(\"round\", predict_random_split, y_test_random_split)"
   ]
  },
  {
   "cell_type": "code",
   "execution_count": 42,
   "metadata": {},
   "outputs": [
    {
     "data": {
      "image/png": "[encoded data removed]",
      "text/plain": [
       "<Figure size 432x288 with 2 Axes>"
      ]
     },
     "metadata": {
      "needs_background": "light"
     },
     "output_type": "display_data"
    }
   ],
   "source": [
    "plot_confusion_matrix(0.33, predict_random_split, y_test_random_split)"
   ]
  },
  {
   "cell_type": "markdown",
   "metadata": {},
   "source": [
    "## Summary"
   ]
  },
  {
   "cell_type": "code",
   "execution_count": 43,
   "metadata": {},
   "outputs": [
    {
     "data": {
      "text/html": [
       "<div>\n",
       "<style scoped>\n",
       "    .dataframe tbody tr th:only-of-type {\n",
       "        vertical-align: middle;\n",
       "    }\n",
       "\n",
       "    .dataframe tbody tr th {\n",
       "        vertical-align: top;\n",
       "    }\n",
       "\n",
       "    .dataframe thead th {\n",
       "        text-align: right;\n",
       "    }\n",
       "</style>\n",
       "<table border=\"1\" class=\"dataframe\">\n",
       "  <thead>\n",
       "    <tr style=\"text-align: right;\">\n",
       "      <th></th>\n",
       "      <th>Split type</th>\n",
       "      <th>Tuning type</th>\n",
       "      <th>Number of characteristics</th>\n",
       "      <th>MSE</th>\n",
       "      <th>RMSE</th>\n",
       "      <th>MAE</th>\n",
       "    </tr>\n",
       "  </thead>\n",
       "  <tbody>\n",
       "    <tr>\n",
       "      <th>0</th>\n",
       "      <td>chronological</td>\n",
       "      <td>normal</td>\n",
       "      <td>50</td>\n",
       "      <td>5.052534</td>\n",
       "      <td>2.247784</td>\n",
       "      <td>1.454965</td>\n",
       "    </tr>\n",
       "    <tr>\n",
       "      <th>1</th>\n",
       "      <td>chronological</td>\n",
       "      <td>RandomizedSearchCV</td>\n",
       "      <td>50</td>\n",
       "      <td>0.708101</td>\n",
       "      <td>0.841487</td>\n",
       "      <td>0.440000</td>\n",
       "    </tr>\n",
       "    <tr>\n",
       "      <th>2</th>\n",
       "      <td>chronological</td>\n",
       "      <td>minimalise_overfitting</td>\n",
       "      <td>50</td>\n",
       "      <td>0.703554</td>\n",
       "      <td>0.838781</td>\n",
       "      <td>0.446954</td>\n",
       "    </tr>\n",
       "    <tr>\n",
       "      <th>3</th>\n",
       "      <td>random</td>\n",
       "      <td>normal</td>\n",
       "      <td>50</td>\n",
       "      <td>1.511852</td>\n",
       "      <td>1.229574</td>\n",
       "      <td>0.996461</td>\n",
       "    </tr>\n",
       "    <tr>\n",
       "      <th>4</th>\n",
       "      <td>random</td>\n",
       "      <td>RandomizedSearchCV</td>\n",
       "      <td>50</td>\n",
       "      <td>0.114736</td>\n",
       "      <td>0.338727</td>\n",
       "      <td>0.222934</td>\n",
       "    </tr>\n",
       "    <tr>\n",
       "      <th>5</th>\n",
       "      <td>random</td>\n",
       "      <td>minimalise_overfitting</td>\n",
       "      <td>50</td>\n",
       "      <td>0.110606</td>\n",
       "      <td>0.332575</td>\n",
       "      <td>0.220697</td>\n",
       "    </tr>\n",
       "  </tbody>\n",
       "</table>\n",
       "</div>"
      ],
      "text/plain": [
       "      Split type             Tuning type  Number of characteristics       MSE  \\\n",
       "0  chronological                  normal                         50  5.052534   \n",
       "1  chronological      RandomizedSearchCV                         50  0.708101   \n",
       "2  chronological  minimalise_overfitting                         50  0.703554   \n",
       "3         random                  normal                         50  1.511852   \n",
       "4         random      RandomizedSearchCV                         50  0.114736   \n",
       "5         random  minimalise_overfitting                         50  0.110606   \n",
       "\n",
       "       RMSE       MAE  \n",
       "0  2.247784  1.454965  \n",
       "1  0.841487  0.440000  \n",
       "2  0.838781  0.446954  \n",
       "3  1.229574  0.996461  \n",
       "4  0.338727  0.222934  \n",
       "5  0.332575  0.220697  "
      ]
     },
     "execution_count": 43,
     "metadata": {},
     "output_type": "execute_result"
    }
   ],
   "source": [
    "results"
   ]
  },
  {
   "cell_type": "code",
   "execution_count": 44,
   "metadata": {},
   "outputs": [],
   "source": [
    "from training.results import plot_summary"
   ]
  },
  {
   "cell_type": "code",
   "execution_count": 45,
   "metadata": {},
   "outputs": [
    {
     "data": {
      "image/png": "[encoded data removed]",
      "text/plain": [
       "<Figure size 1440x576 with 1 Axes>"
      ]
     },
     "metadata": {
      "needs_background": "light"
     },
     "output_type": "display_data"
    }
   ],
   "source": [
    "plot_summary(results, \"MSE\")"
   ]
  },
  {
   "cell_type": "code",
   "execution_count": 46,
   "metadata": {},
   "outputs": [
    {
     "data": {
      "image/png": "[encoded data removed]",
      "text/plain": [
       "<Figure size 1440x576 with 1 Axes>"
      ]
     },
     "metadata": {
      "needs_background": "light"
     },
     "output_type": "display_data"
    }
   ],
   "source": [
    "plot_summary(results, \"RMSE\")"
   ]
  },
  {
   "cell_type": "code",
   "execution_count": 47,
   "metadata": {},
   "outputs": [
    {
     "data": {
      "image/png": "[encoded data removed]",
      "text/plain": [
       "<Figure size 1440x576 with 1 Axes>"
      ]
     },
     "metadata": {
      "needs_background": "light"
     },
     "output_type": "display_data"
    }
   ],
   "source": [
    "plot_summary(results, \"MAE\")"
   ]
  },
  {
   "cell_type": "code",
   "execution_count": 48,
   "metadata": {},
   "outputs": [],
   "source": [
    "results.to_json(\"./random_forest_final_results.json\")"
   ]
  }
 ],
 "metadata": {
  "kernelspec": {
   "display_name": "Python 3 (ipykernel)",
   "language": "python",
   "name": "python3"
  },
  "language_info": {
   "codemirror_mode": {
    "name": "ipython",
    "version": 3
   },
   "file_extension": ".py",
   "mimetype": "text/x-python",
   "name": "python",
   "nbconvert_exporter": "python",
   "pygments_lexer": "ipython3",
   "version": "3.10.4"
  }
 },
 "nbformat": 4,
 "nbformat_minor": 1
}
