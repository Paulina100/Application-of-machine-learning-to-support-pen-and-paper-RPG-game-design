{
 "cells": [
  {
   "cell_type": "markdown",
   "metadata": {},
   "source": [
    "# Random Forest\n",
    "### Parameters:\n",
    "* **abilities**:\n",
    "    * **cha**\n",
    "    * **con**\n",
    "    * **dex**\n",
    "    * **int**\n",
    "    * **str**\n",
    "    * **wis**\n",
    "* **attributes**\n",
    "    * **hp**\n",
    "    * **ac**\n",
    "\n",
    "### Prediction: *level*"
   ]
  },
  {
   "cell_type": "code",
   "execution_count": 1,
   "metadata": {},
   "outputs": [],
   "source": [
    "import numpy as np\n",
    "import pandas as pd\n",
    "import sys\n",
    "\n",
    "import os\n",
    "import pathlib\n",
    "\n",
    "sys.path.append(\"../../..\")\n",
    "from training.creating_dataset import load_and_preprocess_data\n",
    "\n",
    "\n",
    "current_path = os.getcwd()\n",
    "DATASETS_DIR = pathlib.Path(current_path).parent.parent.parent / \"pathfinder_2e_data\"\n",
    "DATASET_FILES = [\n",
    "    \"abomination-vaults-bestiary.db\",\n",
    "    \"age-of-ashes-bestiary.db\",\n",
    "    \"agents-of-edgewatch-bestiary.db\",\n",
    "    \"april-fools-bestiary.db\",\n",
    "    \"blog-bestiary.db\",\n",
    "    \"blood-lords-bestiary.db\",\n",
    "    \"book-of-the-dead-bestiary.db\",\n",
    "    \"crown-of-the-kobold-king-bestiary.db\",\n",
    "    \"extinction-curse-bestiary.db\",\n",
    "    \"fall-of-plaguestone.db\",\n",
    "    \"fists-of-the-ruby-phoenix-bestiary.db\",\n",
    "    \"gatewalkers-bestiary.db\",\n",
    "    \"impossible-lands-bestiary.db\",\n",
    "    \"kingmaker-bestiary.db\",\n",
    "    \"malevolence-bestiary.db\",\n",
    "    \"menace-under-otari-bestiary.db\",\n",
    "    \"monsters-of-myth-bestiary.db\",\n",
    "    \"mwangi-expanse-bestiary.db\",\n",
    "    \"night-of-the-gray-death-bestiary.db\",\n",
    "    \"npc-gallery.db\",\n",
    "    \"one-shot-bestiary.db\",\n",
    "    \"outlaws-of-alkenstar-bestiary.db\",\n",
    "    \"pathfinder-bestiary-2.db\",\n",
    "    \"pathfinder-bestiary-3.db\",\n",
    "    \"pathfinder-bestiary.db\",\n",
    "    \"pathfinder-dark-archive.db\",\n",
    "    \"pfs-introductions-bestiary.db\",\n",
    "    \"pfs-season-1-bestiary.db\",\n",
    "    \"pfs-season-2-bestiary.db\",\n",
    "    \"pfs-season-3-bestiary.db\",\n",
    "    \"pfs-season-4-bestiary.db\",\n",
    "    \"quest-for-the-frozen-flame-bestiary.db\",\n",
    "    \"shadows-at-sundown-bestiary.db\",\n",
    "    \"strength-of-thousands-bestiary.db\",\n",
    "    \"the-slithering-bestiary.db\",\n",
    "    \"travel-guide-bestiary.db\",\n",
    "    \"troubles-in-otari-bestiary.db\",\n",
    "]\n",
    "DATASET_PATHS = [f\"{DATASETS_DIR}/{file}\" for file in DATASET_FILES]\n",
    "features = [\n",
    "    \"cha\",\n",
    "    \"con\",\n",
    "    \"dex\",\n",
    "    \"int\",\n",
    "    \"str\",\n",
    "    \"wis\",\n",
    "    \"ac\",\n",
    "    \"hp\",\n",
    "]\n",
    "\n",
    "df = load_and_preprocess_data(\n",
    "    DATASET_PATHS,\n",
    "    characteristics=features,\n",
    ")"
   ]
  },
  {
   "cell_type": "code",
   "execution_count": 2,
   "metadata": {},
   "outputs": [
    {
     "name": "stdout",
     "output_type": "stream",
     "text": [
      "<class 'pandas.core.frame.DataFrame'>\n",
      "Int64Index: 3690 entries, 0 to 4327\n",
      "Data columns (total 10 columns):\n",
      " #   Column  Non-Null Count  Dtype  \n",
      "---  ------  --------------  -----  \n",
      " 0   wis     3690 non-null   float64\n",
      " 1   dex     3690 non-null   float64\n",
      " 2   book    3690 non-null   object \n",
      " 3   cha     3690 non-null   float64\n",
      " 4   ac      3690 non-null   float64\n",
      " 5   con     3690 non-null   float64\n",
      " 6   str     3690 non-null   float64\n",
      " 7   int     3690 non-null   float64\n",
      " 8   level   3690 non-null   int64  \n",
      " 9   hp      3690 non-null   int64  \n",
      "dtypes: float64(7), int64(2), object(1)\n",
      "memory usage: 317.1+ KB\n"
     ]
    }
   ],
   "source": [
    "df.info()"
   ]
  },
  {
   "cell_type": "code",
   "execution_count": 3,
   "metadata": {},
   "outputs": [
    {
     "data": {
      "text/plain": "   wis  dex                                               book  cha    ac  \\\n0  3.0  3.0               Pathfinder #165: Eyes of Empty Death  0.0  28.0   \n1  3.0  3.0  Pathfinder Abomination Vaults Hardcover Compil...  0.0  30.0   \n2  3.0  3.0                Pathfinder #164: Hands of the Devil  1.0  17.0   \n3  3.0  4.0                Pathfinder #164: Hands of the Devil  1.0  27.0   \n4  4.0  6.0               Pathfinder #165: Eyes of Empty Death  2.0  31.0   \n\n   con  str  int  level   hp  \n0  0.0  6.0  0.0      9  155  \n1  6.0  7.0  0.0     10  175  \n2  1.0  4.0 -2.0      2   38  \n3  3.0  3.0  0.0      8  140  \n4  0.0 -5.0  2.0      9   90  ",
      "text/html": "<div>\n<style scoped>\n    .dataframe tbody tr th:only-of-type {\n        vertical-align: middle;\n    }\n\n    .dataframe tbody tr th {\n        vertical-align: top;\n    }\n\n    .dataframe thead th {\n        text-align: right;\n    }\n</style>\n<table border=\"1\" class=\"dataframe\">\n  <thead>\n    <tr style=\"text-align: right;\">\n      <th></th>\n      <th>wis</th>\n      <th>dex</th>\n      <th>book</th>\n      <th>cha</th>\n      <th>ac</th>\n      <th>con</th>\n      <th>str</th>\n      <th>int</th>\n      <th>level</th>\n      <th>hp</th>\n    </tr>\n  </thead>\n  <tbody>\n    <tr>\n      <th>0</th>\n      <td>3.0</td>\n      <td>3.0</td>\n      <td>Pathfinder #165: Eyes of Empty Death</td>\n      <td>0.0</td>\n      <td>28.0</td>\n      <td>0.0</td>\n      <td>6.0</td>\n      <td>0.0</td>\n      <td>9</td>\n      <td>155</td>\n    </tr>\n    <tr>\n      <th>1</th>\n      <td>3.0</td>\n      <td>3.0</td>\n      <td>Pathfinder Abomination Vaults Hardcover Compil...</td>\n      <td>0.0</td>\n      <td>30.0</td>\n      <td>6.0</td>\n      <td>7.0</td>\n      <td>0.0</td>\n      <td>10</td>\n      <td>175</td>\n    </tr>\n    <tr>\n      <th>2</th>\n      <td>3.0</td>\n      <td>3.0</td>\n      <td>Pathfinder #164: Hands of the Devil</td>\n      <td>1.0</td>\n      <td>17.0</td>\n      <td>1.0</td>\n      <td>4.0</td>\n      <td>-2.0</td>\n      <td>2</td>\n      <td>38</td>\n    </tr>\n    <tr>\n      <th>3</th>\n      <td>3.0</td>\n      <td>4.0</td>\n      <td>Pathfinder #164: Hands of the Devil</td>\n      <td>1.0</td>\n      <td>27.0</td>\n      <td>3.0</td>\n      <td>3.0</td>\n      <td>0.0</td>\n      <td>8</td>\n      <td>140</td>\n    </tr>\n    <tr>\n      <th>4</th>\n      <td>4.0</td>\n      <td>6.0</td>\n      <td>Pathfinder #165: Eyes of Empty Death</td>\n      <td>2.0</td>\n      <td>31.0</td>\n      <td>0.0</td>\n      <td>-5.0</td>\n      <td>2.0</td>\n      <td>9</td>\n      <td>90</td>\n    </tr>\n  </tbody>\n</table>\n</div>"
     },
     "execution_count": 3,
     "metadata": {},
     "output_type": "execute_result"
    }
   ],
   "source": [
    "df.head()"
   ]
  },
  {
   "cell_type": "markdown",
   "metadata": {},
   "source": [
    "## Train test split"
   ]
  },
  {
   "cell_type": "markdown",
   "metadata": {},
   "source": [
    "### Chronological split"
   ]
  },
  {
   "cell_type": "code",
   "execution_count": 4,
   "metadata": {},
   "outputs": [],
   "source": [
    "from training.splitting_dataset import split_dataframe\n",
    "\n",
    "\n",
    "os.chdir(\"../../../training\")\n",
    "X_train, X_test, y_train, y_test = split_dataframe(df, test_size=0.31)\n",
    "os.chdir(\"../notebooks/models/random_forest\")"
   ]
  },
  {
   "cell_type": "code",
   "execution_count": 5,
   "metadata": {},
   "outputs": [],
   "source": [
    "X_train = X_train.drop(columns=[\"book\"])\n",
    "X_test = X_test.drop(columns=[\"book\"])"
   ]
  },
  {
   "cell_type": "code",
   "execution_count": 6,
   "metadata": {},
   "outputs": [],
   "source": [
    "X_train = X_train.astype(\"int64\")\n",
    "y_train = y_train.astype(\"int64\")"
   ]
  },
  {
   "cell_type": "markdown",
   "metadata": {},
   "source": [
    "### Random split"
   ]
  },
  {
   "cell_type": "code",
   "execution_count": 7,
   "metadata": {},
   "outputs": [],
   "source": [
    "(\n",
    "    X_train_random_split,\n",
    "    X_test_random_split,\n",
    "    y_train_random_split,\n",
    "    y_test_random_split,\n",
    ") = split_dataframe(df, chronological_split=False)"
   ]
  },
  {
   "cell_type": "code",
   "execution_count": 8,
   "metadata": {},
   "outputs": [],
   "source": [
    "X_train_random_split = X_train_random_split.drop(columns=[\"book\"])\n",
    "X_test_random_split = X_test_random_split.drop(columns=[\"book\"])"
   ]
  },
  {
   "cell_type": "markdown",
   "metadata": {},
   "source": [
    "## Random Forest"
   ]
  },
  {
   "cell_type": "markdown",
   "metadata": {},
   "source": [
    "### With chronological split"
   ]
  },
  {
   "cell_type": "code",
   "execution_count": 9,
   "metadata": {},
   "outputs": [
    {
     "data": {
      "text/plain": "RandomForestRegressor(max_depth=2, n_estimators=500, n_jobs=-1, random_state=0)",
      "text/html": "<style>#sk-container-id-1 {color: black;background-color: white;}#sk-container-id-1 pre{padding: 0;}#sk-container-id-1 div.sk-toggleable {background-color: white;}#sk-container-id-1 label.sk-toggleable__label {cursor: pointer;display: block;width: 100%;margin-bottom: 0;padding: 0.3em;box-sizing: border-box;text-align: center;}#sk-container-id-1 label.sk-toggleable__label-arrow:before {content: \"▸\";float: left;margin-right: 0.25em;color: #696969;}#sk-container-id-1 label.sk-toggleable__label-arrow:hover:before {color: black;}#sk-container-id-1 div.sk-estimator:hover label.sk-toggleable__label-arrow:before {color: black;}#sk-container-id-1 div.sk-toggleable__content {max-height: 0;max-width: 0;overflow: hidden;text-align: left;background-color: #f0f8ff;}#sk-container-id-1 div.sk-toggleable__content pre {margin: 0.2em;color: black;border-radius: 0.25em;background-color: #f0f8ff;}#sk-container-id-1 input.sk-toggleable__control:checked~div.sk-toggleable__content {max-height: 200px;max-width: 100%;overflow: auto;}#sk-container-id-1 input.sk-toggleable__control:checked~label.sk-toggleable__label-arrow:before {content: \"▾\";}#sk-container-id-1 div.sk-estimator input.sk-toggleable__control:checked~label.sk-toggleable__label {background-color: #d4ebff;}#sk-container-id-1 div.sk-label input.sk-toggleable__control:checked~label.sk-toggleable__label {background-color: #d4ebff;}#sk-container-id-1 input.sk-hidden--visually {border: 0;clip: rect(1px 1px 1px 1px);clip: rect(1px, 1px, 1px, 1px);height: 1px;margin: -1px;overflow: hidden;padding: 0;position: absolute;width: 1px;}#sk-container-id-1 div.sk-estimator {font-family: monospace;background-color: #f0f8ff;border: 1px dotted black;border-radius: 0.25em;box-sizing: border-box;margin-bottom: 0.5em;}#sk-container-id-1 div.sk-estimator:hover {background-color: #d4ebff;}#sk-container-id-1 div.sk-parallel-item::after {content: \"\";width: 100%;border-bottom: 1px solid gray;flex-grow: 1;}#sk-container-id-1 div.sk-label:hover label.sk-toggleable__label {background-color: #d4ebff;}#sk-container-id-1 div.sk-serial::before {content: \"\";position: absolute;border-left: 1px solid gray;box-sizing: border-box;top: 0;bottom: 0;left: 50%;z-index: 0;}#sk-container-id-1 div.sk-serial {display: flex;flex-direction: column;align-items: center;background-color: white;padding-right: 0.2em;padding-left: 0.2em;position: relative;}#sk-container-id-1 div.sk-item {position: relative;z-index: 1;}#sk-container-id-1 div.sk-parallel {display: flex;align-items: stretch;justify-content: center;background-color: white;position: relative;}#sk-container-id-1 div.sk-item::before, #sk-container-id-1 div.sk-parallel-item::before {content: \"\";position: absolute;border-left: 1px solid gray;box-sizing: border-box;top: 0;bottom: 0;left: 50%;z-index: -1;}#sk-container-id-1 div.sk-parallel-item {display: flex;flex-direction: column;z-index: 1;position: relative;background-color: white;}#sk-container-id-1 div.sk-parallel-item:first-child::after {align-self: flex-end;width: 50%;}#sk-container-id-1 div.sk-parallel-item:last-child::after {align-self: flex-start;width: 50%;}#sk-container-id-1 div.sk-parallel-item:only-child::after {width: 0;}#sk-container-id-1 div.sk-dashed-wrapped {border: 1px dashed gray;margin: 0 0.4em 0.5em 0.4em;box-sizing: border-box;padding-bottom: 0.4em;background-color: white;}#sk-container-id-1 div.sk-label label {font-family: monospace;font-weight: bold;display: inline-block;line-height: 1.2em;}#sk-container-id-1 div.sk-label-container {text-align: center;}#sk-container-id-1 div.sk-container {/* jupyter's `normalize.less` sets `[hidden] { display: none; }` but bootstrap.min.css set `[hidden] { display: none !important; }` so we also need the `!important` here to be able to override the default hidden behavior on the sphinx rendered scikit-learn.org. See: https://github.com/scikit-learn/scikit-learn/issues/21755 */display: inline-block !important;position: relative;}#sk-container-id-1 div.sk-text-repr-fallback {display: none;}</style><div id=\"sk-container-id-1\" class=\"sk-top-container\"><div class=\"sk-text-repr-fallback\"><pre>RandomForestRegressor(max_depth=2, n_estimators=500, n_jobs=-1, random_state=0)</pre><b>In a Jupyter environment, please rerun this cell to show the HTML representation or trust the notebook. <br />On GitHub, the HTML representation is unable to render, please try loading this page with nbviewer.org.</b></div><div class=\"sk-container\" hidden><div class=\"sk-item\"><div class=\"sk-estimator sk-toggleable\"><input class=\"sk-toggleable__control sk-hidden--visually\" id=\"sk-estimator-id-1\" type=\"checkbox\" checked><label for=\"sk-estimator-id-1\" class=\"sk-toggleable__label sk-toggleable__label-arrow\">RandomForestRegressor</label><div class=\"sk-toggleable__content\"><pre>RandomForestRegressor(max_depth=2, n_estimators=500, n_jobs=-1, random_state=0)</pre></div></div></div></div></div>"
     },
     "execution_count": 9,
     "metadata": {},
     "output_type": "execute_result"
    }
   ],
   "source": [
    "from sklearn.ensemble import RandomForestRegressor\n",
    "\n",
    "\n",
    "rf_reg = RandomForestRegressor(n_estimators=500, max_depth=2, random_state=0, n_jobs=-1)\n",
    "rf_reg.fit(X_train, y_train)"
   ]
  },
  {
   "cell_type": "code",
   "execution_count": 10,
   "metadata": {},
   "outputs": [],
   "source": [
    "y_pred_train = rf_reg.predict(X_train)\n",
    "y_pred_test = rf_reg.predict(X_test)"
   ]
  },
  {
   "cell_type": "code",
   "execution_count": 11,
   "metadata": {},
   "outputs": [
    {
     "name": "stdout",
     "output_type": "stream",
     "text": [
      "RMSE: 1.62\n",
      "MAE: 1.27\n"
     ]
    }
   ],
   "source": [
    "from sklearn.metrics import mean_squared_error, mean_absolute_error\n",
    "\n",
    "\n",
    "rmse = mean_squared_error(y_test, y_pred_test, squared=False)\n",
    "mae = mean_absolute_error(y_test, y_pred_test)\n",
    "\n",
    "print(f\"RMSE: {rmse:.2f}\")\n",
    "print(f\"MAE: {mae:.2f}\")"
   ]
  },
  {
   "cell_type": "code",
   "execution_count": 12,
   "metadata": {},
   "outputs": [],
   "source": [
    "results = pd.DataFrame(\n",
    "    data={\n",
    "        \"Split type\": [],\n",
    "        \"Tuning type\": [],\n",
    "        \"Set of features\": [],\n",
    "        \"RMSE\": [],\n",
    "        \"MAE\": [],\n",
    "    }\n",
    ")\n",
    "\n",
    "results.loc[0] = [\"chronological\", \"default\", \"basic\", rmse, mae]"
   ]
  },
  {
   "cell_type": "markdown",
   "metadata": {},
   "source": [
    "###### MAE by level"
   ]
  },
  {
   "cell_type": "code",
   "execution_count": 13,
   "metadata": {},
   "outputs": [],
   "source": [
    "from training.results import plot_mae_by_level"
   ]
  },
  {
   "cell_type": "code",
   "execution_count": 14,
   "metadata": {},
   "outputs": [
    {
     "data": {
      "text/plain": "<Figure size 2000x800 with 1 Axes>",
      "image/png": "[encoded data removed]"
     },
     "metadata": {},
     "output_type": "display_data"
    }
   ],
   "source": [
    "plot_mae_by_level(\n",
    "    y_test,\n",
    "    y_pred_test,\n",
    "    title=\"MAE by level for default Random Forest with basic features and chronological split\",\n",
    ")"
   ]
  },
  {
   "cell_type": "code",
   "execution_count": 15,
   "metadata": {},
   "outputs": [
    {
     "name": "stdout",
     "output_type": "stream",
     "text": [
      "Default:\n",
      "RMSE: 1.62\n",
      "\n",
      "Round type: 0.5\n",
      "RMSE: 1.65\n",
      "\n",
      "Round type: 0.33\n",
      "RMSE: 1.66\n",
      "\n",
      "Round type: 0.45\n",
      "RMSE: 1.65\n",
      "\n"
     ]
    }
   ],
   "source": [
    "from training.results import evaluate_round_predictions, plot_confusion_matrix\n",
    "\n",
    "\n",
    "evaluate_round_predictions([0.5, 0.33, 0.45], y_test, y_pred_test)"
   ]
  },
  {
   "cell_type": "code",
   "execution_count": 16,
   "metadata": {},
   "outputs": [
    {
     "data": {
      "text/plain": "<Figure size 1000x1000 with 2 Axes>",
      "image/png": "[encoded data removed]"
     },
     "metadata": {},
     "output_type": "display_data"
    }
   ],
   "source": [
    "plot_confusion_matrix(\n",
    "    y_pred_test,\n",
    "    y_test,\n",
    "    title=\"Confusion matrix for default Random Forest with\\nbasic features and chronological split\",\n",
    ")"
   ]
  },
  {
   "cell_type": "markdown",
   "metadata": {},
   "source": [
    "#### Tuning"
   ]
  },
  {
   "cell_type": "code",
   "execution_count": 17,
   "metadata": {},
   "outputs": [
    {
     "data": {
      "text/plain": "{'n_estimators': [100, 200, 300, 400, 500, 600, 700, 800],\n 'max_features': [0.025, 0.05, 0.1, 0.2, 0.3, 0.4, 0.5],\n 'max_depth': [10, 20, 30, 40, 50, 60, 70, 80, 90, 100, 110, None]}"
     },
     "execution_count": 17,
     "metadata": {},
     "output_type": "execute_result"
    }
   ],
   "source": [
    "from sklearn.model_selection import RandomizedSearchCV\n",
    "\n",
    "n_estimators = [int(x) for x in np.linspace(start=100, stop=800, num=8)]\n",
    "max_features = [0.025, 0.05, 0.1, 0.2, 0.3, 0.4, 0.5]\n",
    "max_depth = list(range(10, 111, 10)) + [None]\n",
    "\n",
    "hyper_params = {\n",
    "    \"n_estimators\": n_estimators,\n",
    "    \"max_features\": max_features,\n",
    "    \"max_depth\": max_depth,\n",
    "}\n",
    "\n",
    "hyper_params"
   ]
  },
  {
   "cell_type": "code",
   "execution_count": null,
   "metadata": {
    "pycharm": {
     "is_executing": true
    }
   },
   "outputs": [
    {
     "name": "stdout",
     "output_type": "stream",
     "text": [
      "Fitting 3 folds for each of 100 candidates, totalling 300 fits\n",
      "[CV] END ...max_depth=70, max_features=0.2, n_estimators=200; total time=   0.4s\n",
      "[CV] END ...max_depth=70, max_features=0.2, n_estimators=200; total time=   0.5s\n",
      "[CV] END ...max_depth=70, max_features=0.2, n_estimators=200; total time=   0.5s\n",
      "[CV] END ...max_depth=30, max_features=0.4, n_estimators=700; total time=   1.9s\n",
      "[CV] END ...max_depth=30, max_features=0.4, n_estimators=700; total time=   1.6s\n",
      "[CV] END ...max_depth=30, max_features=0.4, n_estimators=700; total time=   1.7s\n",
      "[CV] END ...max_depth=90, max_features=0.3, n_estimators=200; total time=   0.4s\n",
      "[CV] END ...max_depth=90, max_features=0.3, n_estimators=200; total time=   0.4s\n",
      "[CV] END ...max_depth=90, max_features=0.3, n_estimators=200; total time=   0.5s\n",
      "[CV] END .max_depth=None, max_features=0.1, n_estimators=800; total time=   2.0s\n",
      "[CV] END .max_depth=None, max_features=0.1, n_estimators=800; total time=   1.9s\n",
      "[CV] END .max_depth=None, max_features=0.1, n_estimators=800; total time=   1.9s\n",
      "[CV] END ...max_depth=50, max_features=0.5, n_estimators=400; total time=   0.9s\n",
      "[CV] END ...max_depth=50, max_features=0.5, n_estimators=400; total time=   1.0s\n",
      "[CV] END ...max_depth=50, max_features=0.5, n_estimators=400; total time=   1.0s\n",
      "[CV] END ...max_depth=70, max_features=0.2, n_estimators=300; total time=   0.7s\n",
      "[CV] END ...max_depth=70, max_features=0.2, n_estimators=300; total time=   0.8s\n",
      "[CV] END ...max_depth=70, max_features=0.2, n_estimators=300; total time=   0.7s\n",
      "[CV] END ...max_depth=60, max_features=0.2, n_estimators=700; total time=   1.7s\n",
      "[CV] END ...max_depth=60, max_features=0.2, n_estimators=700; total time=   1.7s\n",
      "[CV] END ...max_depth=60, max_features=0.2, n_estimators=700; total time=   1.8s\n",
      "[CV] END ...max_depth=40, max_features=0.2, n_estimators=800; total time=   2.1s\n",
      "[CV] END ...max_depth=40, max_features=0.2, n_estimators=800; total time=   1.9s\n",
      "[CV] END ...max_depth=40, max_features=0.2, n_estimators=800; total time=   1.9s\n",
      "[CV] END ..max_depth=100, max_features=0.4, n_estimators=100; total time=   0.2s\n",
      "[CV] END ..max_depth=100, max_features=0.4, n_estimators=100; total time=   0.2s\n",
      "[CV] END ..max_depth=100, max_features=0.4, n_estimators=100; total time=   0.2s\n",
      "[CV] END ...max_depth=20, max_features=0.3, n_estimators=300; total time=   0.8s\n",
      "[CV] END ...max_depth=20, max_features=0.3, n_estimators=300; total time=   0.7s\n",
      "[CV] END ...max_depth=20, max_features=0.3, n_estimators=300; total time=   0.8s\n",
      "[CV] END ...max_depth=20, max_features=0.2, n_estimators=200; total time=   0.5s\n",
      "[CV] END ...max_depth=20, max_features=0.2, n_estimators=200; total time=   0.4s\n",
      "[CV] END ...max_depth=20, max_features=0.2, n_estimators=200; total time=   0.5s\n",
      "[CV] END ...max_depth=50, max_features=0.4, n_estimators=100; total time=   0.2s\n",
      "[CV] END ...max_depth=50, max_features=0.4, n_estimators=100; total time=   0.3s\n",
      "[CV] END ...max_depth=50, max_features=0.4, n_estimators=100; total time=   0.2s\n",
      "[CV] END ...max_depth=70, max_features=0.1, n_estimators=300; total time=   0.8s\n",
      "[CV] END ...max_depth=70, max_features=0.1, n_estimators=300; total time=   0.7s\n",
      "[CV] END ...max_depth=70, max_features=0.1, n_estimators=300; total time=   0.7s\n",
      "[CV] END ...max_depth=40, max_features=0.5, n_estimators=600; total time=   1.4s\n",
      "[CV] END ...max_depth=40, max_features=0.5, n_estimators=600; total time=   1.5s\n",
      "[CV] END ...max_depth=40, max_features=0.5, n_estimators=600; total time=   1.4s\n",
      "[CV] END ...max_depth=40, max_features=0.4, n_estimators=400; total time=   1.1s\n",
      "[CV] END ...max_depth=40, max_features=0.4, n_estimators=400; total time=   1.0s\n",
      "[CV] END ...max_depth=40, max_features=0.4, n_estimators=400; total time=   0.9s\n",
      "[CV] END .max_depth=20, max_features=0.025, n_estimators=800; total time=   1.9s\n",
      "[CV] END .max_depth=20, max_features=0.025, n_estimators=800; total time=   2.0s\n",
      "[CV] END .max_depth=20, max_features=0.025, n_estimators=800; total time=   1.9s\n",
      "[CV] END ...max_depth=10, max_features=0.5, n_estimators=700; total time=   1.6s\n",
      "[CV] END ...max_depth=10, max_features=0.5, n_estimators=700; total time=   1.7s\n",
      "[CV] END ...max_depth=10, max_features=0.5, n_estimators=700; total time=   1.7s\n",
      "[CV] END ..max_depth=110, max_features=0.4, n_estimators=300; total time=   0.7s\n",
      "[CV] END ..max_depth=110, max_features=0.4, n_estimators=300; total time=   0.7s\n",
      "[CV] END ..max_depth=110, max_features=0.4, n_estimators=300; total time=   0.7s\n",
      "[CV] END ...max_depth=60, max_features=0.1, n_estimators=400; total time=   1.0s\n",
      "[CV] END ...max_depth=60, max_features=0.1, n_estimators=400; total time=   0.9s\n",
      "[CV] END ...max_depth=60, max_features=0.1, n_estimators=400; total time=   1.0s\n",
      "[CV] END ...max_depth=30, max_features=0.4, n_estimators=400; total time=   0.9s\n",
      "[CV] END ...max_depth=30, max_features=0.4, n_estimators=400; total time=   1.0s\n",
      "[CV] END ...max_depth=30, max_features=0.4, n_estimators=400; total time=   0.9s\n",
      "[CV] END ...max_depth=20, max_features=0.5, n_estimators=600; total time=   1.4s\n",
      "[CV] END ...max_depth=20, max_features=0.5, n_estimators=600; total time=   1.4s\n",
      "[CV] END ...max_depth=20, max_features=0.5, n_estimators=600; total time=   1.4s\n",
      "[CV] END ..max_depth=110, max_features=0.5, n_estimators=400; total time=   1.0s\n",
      "[CV] END ..max_depth=110, max_features=0.5, n_estimators=400; total time=   1.0s\n",
      "[CV] END ..max_depth=110, max_features=0.5, n_estimators=400; total time=   0.7s\n",
      "[CV] END ...max_depth=70, max_features=0.2, n_estimators=100; total time=   0.2s\n",
      "[CV] END ...max_depth=70, max_features=0.2, n_estimators=100; total time=   0.2s\n",
      "[CV] END ...max_depth=70, max_features=0.2, n_estimators=100; total time=   0.2s\n",
      "[CV] END ...max_depth=60, max_features=0.5, n_estimators=700; total time=   2.8s\n",
      "[CV] END ...max_depth=60, max_features=0.5, n_estimators=700; total time=   1.8s\n",
      "[CV] END ...max_depth=60, max_features=0.5, n_estimators=700; total time=   1.2s\n",
      "[CV] END .max_depth=None, max_features=0.1, n_estimators=400; total time=   0.8s\n",
      "[CV] END .max_depth=None, max_features=0.1, n_estimators=400; total time= 9.4min\n",
      "[CV] END .max_depth=None, max_features=0.1, n_estimators=400; total time=   3.0s\n",
      "[CV] END ...max_depth=90, max_features=0.2, n_estimators=800; total time=   3.2s\n"
     ]
    }
   ],
   "source": [
    "rf = RandomForestRegressor(random_state=0, n_jobs=-1)\n",
    "\n",
    "rf_random = RandomizedSearchCV(\n",
    "    estimator=rf,\n",
    "    param_distributions=hyper_params,\n",
    "    n_iter=100,\n",
    "    scoring=\"neg_mean_absolute_error\",\n",
    "    cv=3,\n",
    "    verbose=2,\n",
    "    random_state=42,\n",
    "    return_train_score=True,\n",
    ")\n",
    "\n",
    "rf_random.fit(X_train, y_train)\n",
    "rf_random.best_params_"
   ]
  },
  {
   "cell_type": "code",
   "execution_count": null,
   "metadata": {
    "pycharm": {
     "is_executing": true
    }
   },
   "outputs": [],
   "source": [
    "y_pred_test = rf_random.predict(X_test)"
   ]
  },
  {
   "cell_type": "code",
   "execution_count": null,
   "metadata": {
    "pycharm": {
     "is_executing": true
    }
   },
   "outputs": [],
   "source": [
    "from training.results import assess_regression_model\n",
    "\n",
    "\n",
    "rmse, mae = assess_regression_model(rf_random, X_train, X_test, y_train, y_test)"
   ]
  },
  {
   "cell_type": "code",
   "execution_count": null,
   "metadata": {
    "pycharm": {
     "is_executing": true
    }
   },
   "outputs": [],
   "source": [
    "results.loc[1] = [\n",
    "    \"chronological\",\n",
    "    \"RandomizedSearchCV\",\n",
    "    \"basic\",\n",
    "    rmse,\n",
    "    mae,\n",
    "]"
   ]
  },
  {
   "cell_type": "markdown",
   "metadata": {},
   "source": [
    "###### MAE by level"
   ]
  },
  {
   "cell_type": "code",
   "execution_count": null,
   "metadata": {
    "pycharm": {
     "is_executing": true
    }
   },
   "outputs": [],
   "source": [
    "plot_mae_by_level(\n",
    "    y_test,\n",
    "    y_pred_test,\n",
    "    title=\"MAE by level for tuned Random Forest with basic features and chronological split\",\n",
    ")"
   ]
  },
  {
   "cell_type": "code",
   "execution_count": null,
   "metadata": {
    "pycharm": {
     "is_executing": true
    }
   },
   "outputs": [],
   "source": [
    "evaluate_round_predictions([0.5, 0.33, 0.45], y_test, y_pred_test)"
   ]
  },
  {
   "cell_type": "markdown",
   "metadata": {},
   "source": [
    "### Attempt to decrease overfitting\n",
    "Change max_depth to 8"
   ]
  },
  {
   "cell_type": "code",
   "execution_count": null,
   "metadata": {
    "scrolled": true,
    "pycharm": {
     "is_executing": true
    }
   },
   "outputs": [],
   "source": [
    "rf = RandomForestRegressor(\n",
    "    random_state=0, n_jobs=-1, n_estimators=600, max_features=0.5, max_depth=8\n",
    ")\n",
    "rf.fit(X_train, y_train)\n",
    "rmse, mae = assess_regression_model(rf, X_train, X_test, y_train, y_test)"
   ]
  },
  {
   "cell_type": "code",
   "execution_count": null,
   "metadata": {
    "pycharm": {
     "is_executing": true
    }
   },
   "outputs": [],
   "source": [
    "y_pred_test = rf.predict(X_test)"
   ]
  },
  {
   "cell_type": "code",
   "execution_count": null,
   "metadata": {
    "pycharm": {
     "is_executing": true
    }
   },
   "outputs": [],
   "source": [
    "results.loc[2] = [\n",
    "    \"chronological\",\n",
    "    \"minimize_overfitting\",\n",
    "    \"basic\",\n",
    "    rmse,\n",
    "    mae,\n",
    "]"
   ]
  },
  {
   "cell_type": "markdown",
   "metadata": {},
   "source": [
    "###### MAE by level"
   ]
  },
  {
   "cell_type": "code",
   "execution_count": null,
   "metadata": {
    "pycharm": {
     "is_executing": true
    }
   },
   "outputs": [],
   "source": [
    "plot_mae_by_level(\n",
    "    y_test,\n",
    "    y_pred_test,\n",
    "    title=\"MAE by level for Random Forest with basic features, minimized overfitting and chronological split\",\n",
    "    export=True,\n",
    ")"
   ]
  },
  {
   "cell_type": "code",
   "execution_count": null,
   "metadata": {
    "pycharm": {
     "is_executing": true
    }
   },
   "outputs": [],
   "source": [
    "evaluate_round_predictions([0.5, 0.33, 0.45], y_test, y_pred_test)"
   ]
  },
  {
   "cell_type": "code",
   "execution_count": null,
   "metadata": {
    "pycharm": {
     "is_executing": true
    }
   },
   "outputs": [],
   "source": [
    "plot_confusion_matrix(\n",
    "    y_pred_test,\n",
    "    y_test,\n",
    "    title=\"Confusion matrix for Random Forest with\\nbasic features, minimized overfitting, threshold=0.5 and chronological split\",\n",
    "    export=True,\n",
    ")"
   ]
  },
  {
   "cell_type": "code",
   "execution_count": null,
   "metadata": {
    "pycharm": {
     "is_executing": true
    }
   },
   "outputs": [],
   "source": [
    "plot_confusion_matrix(\n",
    "    y_pred_test,\n",
    "    y_test,\n",
    "    0.33,\n",
    "    title=\"Confusion matrix for Random Forest with\\nbasic features, minimized overfitting, threshold=0.33 and chronological split\",\n",
    "    export=True,\n",
    ")"
   ]
  },
  {
   "cell_type": "markdown",
   "metadata": {},
   "source": [
    "### Random split"
   ]
  },
  {
   "cell_type": "code",
   "execution_count": null,
   "metadata": {
    "pycharm": {
     "is_executing": true
    }
   },
   "outputs": [],
   "source": [
    "rf_reg = RandomForestRegressor(n_estimators=500, max_depth=2, random_state=0, n_jobs=-1)\n",
    "rf_reg.fit(X_train_random_split, y_train_random_split)"
   ]
  },
  {
   "cell_type": "code",
   "execution_count": null,
   "metadata": {
    "pycharm": {
     "is_executing": true
    }
   },
   "outputs": [],
   "source": [
    "y_pred_train_random_split = rf_reg.predict(X_train_random_split)\n",
    "y_pred_test_random_split = rf_reg.predict(X_test_random_split)"
   ]
  },
  {
   "cell_type": "code",
   "execution_count": null,
   "metadata": {
    "pycharm": {
     "is_executing": true
    }
   },
   "outputs": [],
   "source": [
    "rmse = mean_squared_error(y_test_random_split, y_pred_test_random_split, squared=False)\n",
    "mae = mean_absolute_error(y_test_random_split, y_pred_test_random_split)\n",
    "\n",
    "print(f\"RMSE: {rmse:.2f}\")\n",
    "print(f\"MAE: {mae:.2f}\")"
   ]
  },
  {
   "cell_type": "code",
   "execution_count": null,
   "metadata": {
    "pycharm": {
     "is_executing": true
    }
   },
   "outputs": [],
   "source": [
    "results.loc[3] = [\"random\", \"default\", \"basic\", rmse, mae]"
   ]
  },
  {
   "cell_type": "markdown",
   "metadata": {},
   "source": [
    "###### MAE by level"
   ]
  },
  {
   "cell_type": "code",
   "execution_count": null,
   "metadata": {
    "pycharm": {
     "is_executing": true
    }
   },
   "outputs": [],
   "source": [
    "plot_mae_by_level(\n",
    "    y_test_random_split,\n",
    "    y_pred_test_random_split,\n",
    "    title=\"MAE by level for default Random Forest with basic features and random split\",\n",
    ")"
   ]
  },
  {
   "cell_type": "code",
   "execution_count": null,
   "metadata": {
    "pycharm": {
     "is_executing": true
    }
   },
   "outputs": [],
   "source": [
    "evaluate_round_predictions(\n",
    "    [0.5, 0.33, 0.45], y_test_random_split, y_pred_test_random_split\n",
    ")"
   ]
  },
  {
   "cell_type": "code",
   "execution_count": null,
   "metadata": {
    "pycharm": {
     "is_executing": true
    }
   },
   "outputs": [],
   "source": [
    "plot_confusion_matrix(\n",
    "    y_pred_test_random_split,\n",
    "    y_test_random_split,\n",
    "    title=\"Confusion matrix for default Random Forest with\\nbasic features and random split\",\n",
    ")"
   ]
  },
  {
   "cell_type": "markdown",
   "metadata": {},
   "source": [
    "#### Tuning"
   ]
  },
  {
   "cell_type": "code",
   "execution_count": null,
   "metadata": {
    "pycharm": {
     "is_executing": true
    }
   },
   "outputs": [],
   "source": [
    "n_estimators = [int(x) for x in np.linspace(start=100, stop=800, num=8)]\n",
    "max_features = [0.1, 0.2, 0.3, 0.4, 0.5]\n",
    "max_depth = list(range(10, 111, 10)) + [None]\n",
    "\n",
    "hyper_params = {\n",
    "    \"n_estimators\": n_estimators,\n",
    "    \"max_features\": max_features,\n",
    "    \"max_depth\": max_depth,\n",
    "}\n",
    "\n",
    "hyper_params"
   ]
  },
  {
   "cell_type": "code",
   "execution_count": null,
   "metadata": {
    "pycharm": {
     "is_executing": true
    }
   },
   "outputs": [],
   "source": [
    "rf = RandomForestRegressor(random_state=0, n_jobs=-1)\n",
    "\n",
    "rf_random = RandomizedSearchCV(\n",
    "    estimator=rf,\n",
    "    param_distributions=hyper_params,\n",
    "    n_iter=100,\n",
    "    scoring=\"neg_mean_absolute_error\",\n",
    "    cv=3,\n",
    "    verbose=2,\n",
    "    random_state=42,\n",
    "    return_train_score=True,\n",
    ")\n",
    "\n",
    "rf_random.fit(X_train_random_split, y_train_random_split)\n",
    "rf_random.best_params_"
   ]
  },
  {
   "cell_type": "code",
   "execution_count": null,
   "metadata": {
    "pycharm": {
     "is_executing": true
    }
   },
   "outputs": [],
   "source": [
    "y_pred_test_random_split = rf_random.predict(X_test_random_split)"
   ]
  },
  {
   "cell_type": "code",
   "execution_count": null,
   "metadata": {
    "pycharm": {
     "is_executing": true
    }
   },
   "outputs": [],
   "source": [
    "rmse, mae = assess_regression_model(\n",
    "    rf_random,\n",
    "    X_train_random_split,\n",
    "    X_test_random_split,\n",
    "    y_train_random_split,\n",
    "    y_test_random_split,\n",
    ")"
   ]
  },
  {
   "cell_type": "code",
   "execution_count": null,
   "metadata": {
    "pycharm": {
     "is_executing": true
    }
   },
   "outputs": [],
   "source": [
    "results.loc[4] = [\"random\", \"RandomizedSearchCV\", \"basic\", rmse, mae]"
   ]
  },
  {
   "cell_type": "markdown",
   "metadata": {},
   "source": [
    "###### MAE by level"
   ]
  },
  {
   "cell_type": "code",
   "execution_count": null,
   "metadata": {
    "pycharm": {
     "is_executing": true
    }
   },
   "outputs": [],
   "source": [
    "plot_mae_by_level(\n",
    "    y_test_random_split,\n",
    "    y_pred_test_random_split,\n",
    "    title=\"MAE by level for tuned Random Forest with basic features and random split\",\n",
    ")"
   ]
  },
  {
   "cell_type": "markdown",
   "metadata": {},
   "source": [
    "### Attempt to decrease overfitting\n",
    "Change max_depth to 13"
   ]
  },
  {
   "cell_type": "code",
   "execution_count": null,
   "metadata": {
    "scrolled": true,
    "pycharm": {
     "is_executing": true
    }
   },
   "outputs": [],
   "source": [
    "rf = RandomForestRegressor(\n",
    "    random_state=0, n_jobs=-1, n_estimators=800, max_features=0.5, max_depth=13\n",
    ")\n",
    "rf.fit(X_train_random_split, y_train_random_split)\n",
    "rmse, mae = assess_regression_model(\n",
    "    rf,\n",
    "    X_train_random_split,\n",
    "    X_test_random_split,\n",
    "    y_train_random_split,\n",
    "    y_test_random_split,\n",
    ")"
   ]
  },
  {
   "cell_type": "code",
   "execution_count": null,
   "metadata": {
    "pycharm": {
     "is_executing": true
    }
   },
   "outputs": [],
   "source": [
    "y_pred_test_random_split = rf.predict(X_test_random_split)"
   ]
  },
  {
   "cell_type": "code",
   "execution_count": null,
   "metadata": {
    "pycharm": {
     "is_executing": true
    }
   },
   "outputs": [],
   "source": [
    "results.loc[5] = [\n",
    "    \"random\",\n",
    "    \"minimize_overfitting\",\n",
    "    \"basic\",\n",
    "    rmse,\n",
    "    mae,\n",
    "]"
   ]
  },
  {
   "cell_type": "markdown",
   "metadata": {},
   "source": [
    "###### MAE by level"
   ]
  },
  {
   "cell_type": "code",
   "execution_count": null,
   "metadata": {
    "pycharm": {
     "is_executing": true
    }
   },
   "outputs": [],
   "source": [
    "plot_mae_by_level(\n",
    "    y_test_random_split,\n",
    "    y_pred_test_random_split,\n",
    "    title=\"MAE by level for Random Forest with basic features, minimized overfitting and random split\",\n",
    ")"
   ]
  },
  {
   "cell_type": "markdown",
   "metadata": {},
   "source": [
    "Check rounded predictions"
   ]
  },
  {
   "cell_type": "code",
   "execution_count": null,
   "metadata": {
    "pycharm": {
     "is_executing": true
    }
   },
   "outputs": [],
   "source": [
    "evaluate_round_predictions(\n",
    "    [0.5, 0.33, 0.45], y_test_random_split, y_pred_test_random_split\n",
    ")"
   ]
  },
  {
   "cell_type": "code",
   "execution_count": null,
   "metadata": {
    "pycharm": {
     "is_executing": true
    }
   },
   "outputs": [],
   "source": [
    "plot_confusion_matrix(\n",
    "    y_pred_test_random_split,\n",
    "    y_test_random_split,\n",
    "    title=\"Confusion matrix for Random Forest with\\nbasic features, minimized overfitting, threshold=0.5 and random split\",\n",
    ")"
   ]
  },
  {
   "cell_type": "code",
   "execution_count": null,
   "metadata": {
    "pycharm": {
     "is_executing": true
    }
   },
   "outputs": [],
   "source": [
    "plot_confusion_matrix(\n",
    "    y_pred_test_random_split,\n",
    "    y_test_random_split,\n",
    "    0.33,\n",
    "    title=\"Confusion matrix for Random Forest with\\nbasic features, minimized overfitting, threshold=0.33 and random split\",\n",
    ")"
   ]
  },
  {
   "cell_type": "markdown",
   "metadata": {},
   "source": [
    "## Summary"
   ]
  },
  {
   "cell_type": "code",
   "execution_count": null,
   "metadata": {
    "pycharm": {
     "is_executing": true
    }
   },
   "outputs": [],
   "source": [
    "results"
   ]
  },
  {
   "cell_type": "code",
   "execution_count": null,
   "metadata": {
    "pycharm": {
     "is_executing": true
    }
   },
   "outputs": [],
   "source": [
    "from training.results import plot_summary"
   ]
  },
  {
   "cell_type": "code",
   "execution_count": null,
   "metadata": {
    "pycharm": {
     "is_executing": true
    }
   },
   "outputs": [],
   "source": [
    "plot_summary(results, \"RMSE\", title=\"RMSE for Random Forest with basic features\")"
   ]
  },
  {
   "cell_type": "code",
   "execution_count": null,
   "metadata": {
    "pycharm": {
     "is_executing": true
    }
   },
   "outputs": [],
   "source": [
    "plot_summary(results, \"MAE\", title=\"MAE for Random Forest with basic features\")"
   ]
  },
  {
   "cell_type": "code",
   "execution_count": null,
   "metadata": {
    "pycharm": {
     "is_executing": true
    }
   },
   "outputs": [],
   "source": [
    "results.to_csv(\"./random_forest_basic_results.csv\")"
   ]
  },
  {
   "cell_type": "code",
   "execution_count": null,
   "metadata": {
    "pycharm": {
     "is_executing": true
    }
   },
   "outputs": [],
   "source": []
  }
 ],
 "metadata": {
  "kernelspec": {
   "display_name": "Python 3 (ipykernel)",
   "language": "python",
   "name": "python3"
  },
  "language_info": {
   "codemirror_mode": {
    "name": "ipython",
    "version": 3
   },
   "file_extension": ".py",
   "mimetype": "text/x-python",
   "name": "python",
   "nbconvert_exporter": "python",
   "pygments_lexer": "ipython3",
   "version": "3.10.4"
  }
 },
 "nbformat": 4,
 "nbformat_minor": 1
}
