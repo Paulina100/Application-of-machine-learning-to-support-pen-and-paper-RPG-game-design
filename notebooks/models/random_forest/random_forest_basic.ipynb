{
 "cells": [
  {
   "cell_type": "markdown",
   "metadata": {},
   "source": [
    "# Random Forest\n",
    "### Parameters:\n",
    "* **abilities**:\n",
    "    * **cha**\n",
    "    * **con**\n",
    "    * **dex**\n",
    "    * **int**\n",
    "    * **str**\n",
    "    * **wis**\n",
    "* **attributes**\n",
    "    * **hp**\n",
    "    * **ac**\n",
    "\n",
    "### Prediction: *level*\n",
    "\n",
    "## Loading data"
   ]
  },
  {
   "cell_type": "code",
   "execution_count": 1,
   "metadata": {},
   "outputs": [],
   "source": [
    "import numpy as np\n",
    "import pandas as pd\n",
    "import sys\n",
    "\n",
    "import os\n",
    "import pathlib\n",
    "\n",
    "sys.path.append(\"../../..\")\n",
    "from training.creating_dataset import load_and_preprocess_data\n",
    "\n",
    "current_path = os.getcwd()\n",
    "DATASETS_DIR = pathlib.Path(current_path).parent.parent.parent / \"pathfinder_2e_data\"\n",
    "DATASET_FILES = [\n",
    "    \"pathfinder-bestiary.db\",\n",
    "    \"pathfinder-bestiary-2.db\",\n",
    "    \"pathfinder-bestiary-3.db\",\n",
    "]\n",
    "DATASET_PATHS = [f\"{DATASETS_DIR}/{file}\" for file in DATASET_FILES]\n",
    "characteristics = [\n",
    "    \"cha\",\n",
    "    \"con\",\n",
    "    \"dex\",\n",
    "    \"int\",\n",
    "    \"str\",\n",
    "    \"wis\",\n",
    "    \"ac\",\n",
    "    \"hp\",\n",
    "]\n",
    "\n",
    "df = load_and_preprocess_data(\n",
    "    DATASET_PATHS,\n",
    "    characteristics=characteristics,\n",
    ")"
   ]
  },
  {
   "cell_type": "code",
   "execution_count": 2,
   "metadata": {},
   "outputs": [
    {
     "name": "stdout",
     "output_type": "stream",
     "text": [
      "<class 'pandas.core.frame.DataFrame'>\n",
      "Int64Index: 1206 entries, 0 to 1205\n",
      "Data columns (total 10 columns):\n",
      " #   Column  Non-Null Count  Dtype \n",
      "---  ------  --------------  ----- \n",
      " 0   str     1206 non-null   int64 \n",
      " 1   hp      1206 non-null   int64 \n",
      " 2   cha     1206 non-null   int64 \n",
      " 3   con     1206 non-null   int64 \n",
      " 4   int     1206 non-null   int64 \n",
      " 5   book    1206 non-null   object\n",
      " 6   wis     1206 non-null   int64 \n",
      " 7   ac      1206 non-null   int64 \n",
      " 8   dex     1206 non-null   int64 \n",
      " 9   level   1206 non-null   int64 \n",
      "dtypes: int64(9), object(1)\n",
      "memory usage: 103.6+ KB\n"
     ]
    }
   ],
   "source": [
    "df.info()"
   ]
  },
  {
   "cell_type": "code",
   "execution_count": 3,
   "metadata": {},
   "outputs": [
    {
     "data": {
      "text/html": [
       "<div>\n",
       "<style scoped>\n",
       "    .dataframe tbody tr th:only-of-type {\n",
       "        vertical-align: middle;\n",
       "    }\n",
       "\n",
       "    .dataframe tbody tr th {\n",
       "        vertical-align: top;\n",
       "    }\n",
       "\n",
       "    .dataframe thead th {\n",
       "        text-align: right;\n",
       "    }\n",
       "</style>\n",
       "<table border=\"1\" class=\"dataframe\">\n",
       "  <thead>\n",
       "    <tr style=\"text-align: right;\">\n",
       "      <th></th>\n",
       "      <th>str</th>\n",
       "      <th>hp</th>\n",
       "      <th>cha</th>\n",
       "      <th>con</th>\n",
       "      <th>int</th>\n",
       "      <th>book</th>\n",
       "      <th>wis</th>\n",
       "      <th>ac</th>\n",
       "      <th>dex</th>\n",
       "      <th>level</th>\n",
       "    </tr>\n",
       "  </thead>\n",
       "  <tbody>\n",
       "    <tr>\n",
       "      <th>0</th>\n",
       "      <td>7</td>\n",
       "      <td>215</td>\n",
       "      <td>1</td>\n",
       "      <td>5</td>\n",
       "      <td>1</td>\n",
       "      <td>Pathfinder Bestiary</td>\n",
       "      <td>2</td>\n",
       "      <td>29</td>\n",
       "      <td>2</td>\n",
       "      <td>10</td>\n",
       "    </tr>\n",
       "    <tr>\n",
       "      <th>1</th>\n",
       "      <td>9</td>\n",
       "      <td>220</td>\n",
       "      <td>1</td>\n",
       "      <td>5</td>\n",
       "      <td>-4</td>\n",
       "      <td>Pathfinder Bestiary</td>\n",
       "      <td>2</td>\n",
       "      <td>28</td>\n",
       "      <td>0</td>\n",
       "      <td>10</td>\n",
       "    </tr>\n",
       "    <tr>\n",
       "      <th>2</th>\n",
       "      <td>7</td>\n",
       "      <td>175</td>\n",
       "      <td>-2</td>\n",
       "      <td>6</td>\n",
       "      <td>-4</td>\n",
       "      <td>Pathfinder Bestiary</td>\n",
       "      <td>3</td>\n",
       "      <td>25</td>\n",
       "      <td>3</td>\n",
       "      <td>8</td>\n",
       "    </tr>\n",
       "    <tr>\n",
       "      <th>3</th>\n",
       "      <td>7</td>\n",
       "      <td>315</td>\n",
       "      <td>6</td>\n",
       "      <td>5</td>\n",
       "      <td>6</td>\n",
       "      <td>Pathfinder Bestiary</td>\n",
       "      <td>5</td>\n",
       "      <td>41</td>\n",
       "      <td>4</td>\n",
       "      <td>17</td>\n",
       "    </tr>\n",
       "    <tr>\n",
       "      <th>4</th>\n",
       "      <td>-5</td>\n",
       "      <td>20</td>\n",
       "      <td>1</td>\n",
       "      <td>1</td>\n",
       "      <td>-1</td>\n",
       "      <td>Pathfinder Bestiary</td>\n",
       "      <td>1</td>\n",
       "      <td>16</td>\n",
       "      <td>3</td>\n",
       "      <td>1</td>\n",
       "    </tr>\n",
       "  </tbody>\n",
       "</table>\n",
       "</div>"
      ],
      "text/plain": [
       "   str   hp  cha  con  int                 book  wis  ac  dex  level\n",
       "0    7  215    1    5    1  Pathfinder Bestiary    2  29    2     10\n",
       "1    9  220    1    5   -4  Pathfinder Bestiary    2  28    0     10\n",
       "2    7  175   -2    6   -4  Pathfinder Bestiary    3  25    3      8\n",
       "3    7  315    6    5    6  Pathfinder Bestiary    5  41    4     17\n",
       "4   -5   20    1    1   -1  Pathfinder Bestiary    1  16    3      1"
      ]
     },
     "execution_count": 3,
     "metadata": {},
     "output_type": "execute_result"
    }
   ],
   "source": [
    "df.head()"
   ]
  },
  {
   "cell_type": "markdown",
   "metadata": {},
   "source": [
    "###### Level"
   ]
  },
  {
   "cell_type": "code",
   "execution_count": 4,
   "metadata": {},
   "outputs": [
    {
     "data": {
      "text/plain": [
       "0       10\n",
       "1       10\n",
       "2        8\n",
       "3       17\n",
       "4        1\n",
       "        ..\n",
       "1201    20\n",
       "1202    -1\n",
       "1203    12\n",
       "1204     6\n",
       "1205     6\n",
       "Name: level, Length: 1206, dtype: int64"
      ]
     },
     "execution_count": 4,
     "metadata": {},
     "output_type": "execute_result"
    }
   ],
   "source": [
    "y = df[\"level\"]\n",
    "y"
   ]
  },
  {
   "cell_type": "code",
   "execution_count": 5,
   "metadata": {},
   "outputs": [],
   "source": [
    "from collections import defaultdict\n",
    "\n",
    "\n",
    "lvl_stat = defaultdict(lambda: 0)\n",
    "\n",
    "for lvl in y:\n",
    "    lvl_stat[lvl] += 1"
   ]
  },
  {
   "cell_type": "code",
   "execution_count": 6,
   "metadata": {},
   "outputs": [
    {
     "data": {
      "text/html": [
       "<div>\n",
       "<style scoped>\n",
       "    .dataframe tbody tr th:only-of-type {\n",
       "        vertical-align: middle;\n",
       "    }\n",
       "\n",
       "    .dataframe tbody tr th {\n",
       "        vertical-align: top;\n",
       "    }\n",
       "\n",
       "    .dataframe thead th {\n",
       "        text-align: right;\n",
       "    }\n",
       "</style>\n",
       "<table border=\"1\" class=\"dataframe\">\n",
       "  <thead>\n",
       "    <tr style=\"text-align: right;\">\n",
       "      <th></th>\n",
       "      <th>lvl</th>\n",
       "      <th>count</th>\n",
       "    </tr>\n",
       "  </thead>\n",
       "  <tbody>\n",
       "    <tr>\n",
       "      <th>0</th>\n",
       "      <td>-1</td>\n",
       "      <td>34</td>\n",
       "    </tr>\n",
       "    <tr>\n",
       "      <th>1</th>\n",
       "      <td>0</td>\n",
       "      <td>27</td>\n",
       "    </tr>\n",
       "    <tr>\n",
       "      <th>2</th>\n",
       "      <td>1</td>\n",
       "      <td>127</td>\n",
       "    </tr>\n",
       "    <tr>\n",
       "      <th>3</th>\n",
       "      <td>2</td>\n",
       "      <td>121</td>\n",
       "    </tr>\n",
       "    <tr>\n",
       "      <th>4</th>\n",
       "      <td>3</td>\n",
       "      <td>95</td>\n",
       "    </tr>\n",
       "    <tr>\n",
       "      <th>5</th>\n",
       "      <td>4</td>\n",
       "      <td>82</td>\n",
       "    </tr>\n",
       "    <tr>\n",
       "      <th>6</th>\n",
       "      <td>5</td>\n",
       "      <td>76</td>\n",
       "    </tr>\n",
       "    <tr>\n",
       "      <th>7</th>\n",
       "      <td>6</td>\n",
       "      <td>72</td>\n",
       "    </tr>\n",
       "    <tr>\n",
       "      <th>8</th>\n",
       "      <td>7</td>\n",
       "      <td>77</td>\n",
       "    </tr>\n",
       "    <tr>\n",
       "      <th>9</th>\n",
       "      <td>8</td>\n",
       "      <td>68</td>\n",
       "    </tr>\n",
       "    <tr>\n",
       "      <th>10</th>\n",
       "      <td>9</td>\n",
       "      <td>63</td>\n",
       "    </tr>\n",
       "    <tr>\n",
       "      <th>11</th>\n",
       "      <td>10</td>\n",
       "      <td>58</td>\n",
       "    </tr>\n",
       "    <tr>\n",
       "      <th>12</th>\n",
       "      <td>11</td>\n",
       "      <td>40</td>\n",
       "    </tr>\n",
       "    <tr>\n",
       "      <th>13</th>\n",
       "      <td>12</td>\n",
       "      <td>41</td>\n",
       "    </tr>\n",
       "    <tr>\n",
       "      <th>14</th>\n",
       "      <td>13</td>\n",
       "      <td>36</td>\n",
       "    </tr>\n",
       "    <tr>\n",
       "      <th>15</th>\n",
       "      <td>14</td>\n",
       "      <td>33</td>\n",
       "    </tr>\n",
       "    <tr>\n",
       "      <th>16</th>\n",
       "      <td>15</td>\n",
       "      <td>31</td>\n",
       "    </tr>\n",
       "    <tr>\n",
       "      <th>17</th>\n",
       "      <td>16</td>\n",
       "      <td>25</td>\n",
       "    </tr>\n",
       "    <tr>\n",
       "      <th>18</th>\n",
       "      <td>17</td>\n",
       "      <td>21</td>\n",
       "    </tr>\n",
       "    <tr>\n",
       "      <th>19</th>\n",
       "      <td>18</td>\n",
       "      <td>21</td>\n",
       "    </tr>\n",
       "    <tr>\n",
       "      <th>20</th>\n",
       "      <td>19</td>\n",
       "      <td>18</td>\n",
       "    </tr>\n",
       "    <tr>\n",
       "      <th>21</th>\n",
       "      <td>20</td>\n",
       "      <td>24</td>\n",
       "    </tr>\n",
       "    <tr>\n",
       "      <th>22</th>\n",
       "      <td>21</td>\n",
       "      <td>16</td>\n",
       "    </tr>\n",
       "  </tbody>\n",
       "</table>\n",
       "</div>"
      ],
      "text/plain": [
       "    lvl  count\n",
       "0    -1     34\n",
       "1     0     27\n",
       "2     1    127\n",
       "3     2    121\n",
       "4     3     95\n",
       "5     4     82\n",
       "6     5     76\n",
       "7     6     72\n",
       "8     7     77\n",
       "9     8     68\n",
       "10    9     63\n",
       "11   10     58\n",
       "12   11     40\n",
       "13   12     41\n",
       "14   13     36\n",
       "15   14     33\n",
       "16   15     31\n",
       "17   16     25\n",
       "18   17     21\n",
       "19   18     21\n",
       "20   19     18\n",
       "21   20     24\n",
       "22   21     16"
      ]
     },
     "execution_count": 6,
     "metadata": {},
     "output_type": "execute_result"
    }
   ],
   "source": [
    "level_count = pd.DataFrame(\n",
    "    data={\n",
    "        \"lvl\": [key for key in sorted(lvl_stat.keys())],\n",
    "        \"count\": [lvl_stat.get(key) for key in sorted(lvl_stat.keys())],\n",
    "    }\n",
    ")\n",
    "level_count"
   ]
  },
  {
   "cell_type": "code",
   "execution_count": 7,
   "metadata": {},
   "outputs": [
    {
     "data": {
      "image/png": "[encoded data removed]",
      "text/plain": [
       "<Figure size 432x288 with 1 Axes>"
      ]
     },
     "metadata": {
      "needs_background": "light"
     },
     "output_type": "display_data"
    }
   ],
   "source": [
    "import matplotlib.pyplot as plt\n",
    "\n",
    "\n",
    "level_count.plot.bar(x=\"lvl\", y=\"count\", title=\"Count of levels\")\n",
    "plt.show()"
   ]
  },
  {
   "cell_type": "markdown",
   "metadata": {},
   "source": [
    "## Train test split"
   ]
  },
  {
   "cell_type": "markdown",
   "metadata": {},
   "source": [
    "### Chronological split"
   ]
  },
  {
   "cell_type": "code",
   "execution_count": 8,
   "metadata": {},
   "outputs": [],
   "source": [
    "from training.splitting_dataset import split_dataframe\n",
    "\n",
    "\n",
    "os.chdir(\"../../../training\")\n",
    "X_train, X_test, y_train, y_test = split_dataframe(df, test_size=0.31)\n",
    "os.chdir(\"../notebooks/models/random_forest\")"
   ]
  },
  {
   "cell_type": "code",
   "execution_count": 9,
   "metadata": {},
   "outputs": [],
   "source": [
    "X_train = X_train.drop(columns=[\"book\"])\n",
    "X_test = X_test.drop(columns=[\"book\"])"
   ]
  },
  {
   "cell_type": "code",
   "execution_count": 10,
   "metadata": {},
   "outputs": [
    {
     "name": "stdout",
     "output_type": "stream",
     "text": [
      "<class 'pandas.core.frame.DataFrame'>\n",
      "Int64Index: 841 entries, 0 to 840\n",
      "Data columns (total 8 columns):\n",
      " #   Column  Non-Null Count  Dtype\n",
      "---  ------  --------------  -----\n",
      " 0   str     841 non-null    int64\n",
      " 1   hp      841 non-null    int64\n",
      " 2   cha     841 non-null    int64\n",
      " 3   con     841 non-null    int64\n",
      " 4   int     841 non-null    int64\n",
      " 5   wis     841 non-null    int64\n",
      " 6   ac      841 non-null    int64\n",
      " 7   dex     841 non-null    int64\n",
      "dtypes: int64(8)\n",
      "memory usage: 59.1 KB\n"
     ]
    }
   ],
   "source": [
    "X_train = X_train.astype(\"int64\")\n",
    "X_train.info()"
   ]
  },
  {
   "cell_type": "code",
   "execution_count": 11,
   "metadata": {},
   "outputs": [
    {
     "name": "stdout",
     "output_type": "stream",
     "text": [
      "<class 'pandas.core.series.Series'>\n",
      "Int64Index: 841 entries, 0 to 840\n",
      "Series name: level\n",
      "Non-Null Count  Dtype\n",
      "--------------  -----\n",
      "841 non-null    int64\n",
      "dtypes: int64(1)\n",
      "memory usage: 13.1 KB\n"
     ]
    }
   ],
   "source": [
    "y_train = y_train.astype(\"int64\")\n",
    "y_train.info()"
   ]
  },
  {
   "cell_type": "markdown",
   "metadata": {},
   "source": [
    "### Random split"
   ]
  },
  {
   "cell_type": "code",
   "execution_count": 12,
   "metadata": {},
   "outputs": [],
   "source": [
    "(\n",
    "    X_train_random_split,\n",
    "    X_test_random_split,\n",
    "    y_train_random_split,\n",
    "    y_test_random_split,\n",
    ") = split_dataframe(df, chronological_split=False)"
   ]
  },
  {
   "cell_type": "code",
   "execution_count": 13,
   "metadata": {},
   "outputs": [],
   "source": [
    "X_train_random_split = X_train_random_split.drop(columns=[\"book\"])\n",
    "X_test_random_split = X_test_random_split.drop(columns=[\"book\"])"
   ]
  },
  {
   "cell_type": "markdown",
   "metadata": {},
   "source": [
    "## Random Forest"
   ]
  },
  {
   "cell_type": "markdown",
   "metadata": {},
   "source": [
    "## Chronological split"
   ]
  },
  {
   "cell_type": "code",
   "execution_count": 14,
   "metadata": {},
   "outputs": [
    {
     "data": {
      "text/html": [
       "<style>#sk-container-id-1 {color: black;background-color: white;}#sk-container-id-1 pre{padding: 0;}#sk-container-id-1 div.sk-toggleable {background-color: white;}#sk-container-id-1 label.sk-toggleable__label {cursor: pointer;display: block;width: 100%;margin-bottom: 0;padding: 0.3em;box-sizing: border-box;text-align: center;}#sk-container-id-1 label.sk-toggleable__label-arrow:before {content: \"▸\";float: left;margin-right: 0.25em;color: #696969;}#sk-container-id-1 label.sk-toggleable__label-arrow:hover:before {color: black;}#sk-container-id-1 div.sk-estimator:hover label.sk-toggleable__label-arrow:before {color: black;}#sk-container-id-1 div.sk-toggleable__content {max-height: 0;max-width: 0;overflow: hidden;text-align: left;background-color: #f0f8ff;}#sk-container-id-1 div.sk-toggleable__content pre {margin: 0.2em;color: black;border-radius: 0.25em;background-color: #f0f8ff;}#sk-container-id-1 input.sk-toggleable__control:checked~div.sk-toggleable__content {max-height: 200px;max-width: 100%;overflow: auto;}#sk-container-id-1 input.sk-toggleable__control:checked~label.sk-toggleable__label-arrow:before {content: \"▾\";}#sk-container-id-1 div.sk-estimator input.sk-toggleable__control:checked~label.sk-toggleable__label {background-color: #d4ebff;}#sk-container-id-1 div.sk-label input.sk-toggleable__control:checked~label.sk-toggleable__label {background-color: #d4ebff;}#sk-container-id-1 input.sk-hidden--visually {border: 0;clip: rect(1px 1px 1px 1px);clip: rect(1px, 1px, 1px, 1px);height: 1px;margin: -1px;overflow: hidden;padding: 0;position: absolute;width: 1px;}#sk-container-id-1 div.sk-estimator {font-family: monospace;background-color: #f0f8ff;border: 1px dotted black;border-radius: 0.25em;box-sizing: border-box;margin-bottom: 0.5em;}#sk-container-id-1 div.sk-estimator:hover {background-color: #d4ebff;}#sk-container-id-1 div.sk-parallel-item::after {content: \"\";width: 100%;border-bottom: 1px solid gray;flex-grow: 1;}#sk-container-id-1 div.sk-label:hover label.sk-toggleable__label {background-color: #d4ebff;}#sk-container-id-1 div.sk-serial::before {content: \"\";position: absolute;border-left: 1px solid gray;box-sizing: border-box;top: 0;bottom: 0;left: 50%;z-index: 0;}#sk-container-id-1 div.sk-serial {display: flex;flex-direction: column;align-items: center;background-color: white;padding-right: 0.2em;padding-left: 0.2em;position: relative;}#sk-container-id-1 div.sk-item {position: relative;z-index: 1;}#sk-container-id-1 div.sk-parallel {display: flex;align-items: stretch;justify-content: center;background-color: white;position: relative;}#sk-container-id-1 div.sk-item::before, #sk-container-id-1 div.sk-parallel-item::before {content: \"\";position: absolute;border-left: 1px solid gray;box-sizing: border-box;top: 0;bottom: 0;left: 50%;z-index: -1;}#sk-container-id-1 div.sk-parallel-item {display: flex;flex-direction: column;z-index: 1;position: relative;background-color: white;}#sk-container-id-1 div.sk-parallel-item:first-child::after {align-self: flex-end;width: 50%;}#sk-container-id-1 div.sk-parallel-item:last-child::after {align-self: flex-start;width: 50%;}#sk-container-id-1 div.sk-parallel-item:only-child::after {width: 0;}#sk-container-id-1 div.sk-dashed-wrapped {border: 1px dashed gray;margin: 0 0.4em 0.5em 0.4em;box-sizing: border-box;padding-bottom: 0.4em;background-color: white;}#sk-container-id-1 div.sk-label label {font-family: monospace;font-weight: bold;display: inline-block;line-height: 1.2em;}#sk-container-id-1 div.sk-label-container {text-align: center;}#sk-container-id-1 div.sk-container {/* jupyter's `normalize.less` sets `[hidden] { display: none; }` but bootstrap.min.css set `[hidden] { display: none !important; }` so we also need the `!important` here to be able to override the default hidden behavior on the sphinx rendered scikit-learn.org. See: https://github.com/scikit-learn/scikit-learn/issues/21755 */display: inline-block !important;position: relative;}#sk-container-id-1 div.sk-text-repr-fallback {display: none;}</style><div id=\"sk-container-id-1\" class=\"sk-top-container\"><div class=\"sk-text-repr-fallback\"><pre>RandomForestRegressor(max_depth=2, n_estimators=500, n_jobs=-1, random_state=0)</pre><b>In a Jupyter environment, please rerun this cell to show the HTML representation or trust the notebook. <br />On GitHub, the HTML representation is unable to render, please try loading this page with nbviewer.org.</b></div><div class=\"sk-container\" hidden><div class=\"sk-item\"><div class=\"sk-estimator sk-toggleable\"><input class=\"sk-toggleable__control sk-hidden--visually\" id=\"sk-estimator-id-1\" type=\"checkbox\" checked><label for=\"sk-estimator-id-1\" class=\"sk-toggleable__label sk-toggleable__label-arrow\">RandomForestRegressor</label><div class=\"sk-toggleable__content\"><pre>RandomForestRegressor(max_depth=2, n_estimators=500, n_jobs=-1, random_state=0)</pre></div></div></div></div></div>"
      ],
      "text/plain": [
       "RandomForestRegressor(max_depth=2, n_estimators=500, n_jobs=-1, random_state=0)"
      ]
     },
     "execution_count": 14,
     "metadata": {},
     "output_type": "execute_result"
    }
   ],
   "source": [
    "from sklearn.ensemble import RandomForestRegressor\n",
    "\n",
    "rf_reg = RandomForestRegressor(n_estimators=500, max_depth=2, random_state=0, n_jobs=-1)\n",
    "rf_reg.fit(X_train, y_train)"
   ]
  },
  {
   "cell_type": "code",
   "execution_count": 15,
   "metadata": {},
   "outputs": [],
   "source": [
    "y_pred_train = rf_reg.predict(X_train)\n",
    "y_pred_test = rf_reg.predict(X_test)"
   ]
  },
  {
   "cell_type": "code",
   "execution_count": 16,
   "metadata": {},
   "outputs": [
    {
     "name": "stdout",
     "output_type": "stream",
     "text": [
      "MSE: 2.23\n",
      "RMSE: 1.49\n",
      "MAE: 1.19\n"
     ]
    }
   ],
   "source": [
    "from sklearn.metrics import mean_squared_error, mean_absolute_error\n",
    "\n",
    "\n",
    "mse = mean_squared_error(y_test, y_pred_test)\n",
    "rmse = mean_squared_error(y_test, y_pred_test, squared=False)\n",
    "mae = mean_absolute_error(y_test, y_pred_test)\n",
    "\n",
    "print(f\"MSE: {mse:.2f}\")\n",
    "print(f\"RMSE: {rmse:.2f}\")\n",
    "print(f\"MAE: {mae:.2f}\")"
   ]
  },
  {
   "cell_type": "code",
   "execution_count": 17,
   "metadata": {},
   "outputs": [],
   "source": [
    "results = pd.DataFrame(\n",
    "    data={\n",
    "        \"Split type\": [],\n",
    "        \"Tuning type\": [],\n",
    "        \"Number of characteristics\": [],\n",
    "        \"MSE\": [],\n",
    "        \"RMSE\": [],\n",
    "        \"MAE\": [],\n",
    "    }\n",
    ")\n",
    "\n",
    "results.loc[0] = [\"chronological\", \"normal\", len(X_test.columns), mse, rmse, mae]"
   ]
  },
  {
   "cell_type": "code",
   "execution_count": 18,
   "metadata": {
    "scrolled": true
   },
   "outputs": [
    {
     "name": "stdout",
     "output_type": "stream",
     "text": [
      "RMSE train: 1.22\n",
      "RMSE test: 1.49\n"
     ]
    }
   ],
   "source": [
    "rmse_train = mean_squared_error(y_train, y_pred_train, squared=False)\n",
    "rmse_test = mean_squared_error(y_test, y_pred_test, squared=False)\n",
    "print(f\"RMSE train: {rmse_train:.2f}\")\n",
    "print(f\"RMSE test: {rmse_test:.2f}\")"
   ]
  },
  {
   "cell_type": "markdown",
   "metadata": {},
   "source": [
    "###### MAE by level"
   ]
  },
  {
   "cell_type": "code",
   "execution_count": 19,
   "metadata": {},
   "outputs": [
    {
     "data": {
      "image/png": "[encoded data removed]",
      "text/plain": [
       "<Figure size 720x432 with 1 Axes>"
      ]
     },
     "metadata": {
      "needs_background": "light"
     },
     "output_type": "display_data"
    }
   ],
   "source": [
    "import matplotlib.pyplot as plt\n",
    "\n",
    "y_test = y_test.reset_index(drop=True)\n",
    "level_max = y_test.max()\n",
    "\n",
    "mae_by_level = pd.DataFrame(columns=[\"level\", \"mae\"])\n",
    "for lvl in range(-1, level_max + 1):\n",
    "    y_test_curr = y_test[y_test == lvl]\n",
    "    y_pred_test_curr = pd.DataFrame(y_pred_test)[y_test == lvl]\n",
    "\n",
    "    mae = mean_absolute_error(y_test_curr, y_pred_test_curr)\n",
    "    mae_by_level.loc[lvl + 1] = [lvl, mae]\n",
    "\n",
    "\n",
    "plt.figure(figsize=(10, 6))\n",
    "plt.bar(mae_by_level[\"level\"], mae_by_level[\"mae\"])\n",
    "plt.xlabel(\"Level\")\n",
    "plt.ylabel(\"Mean Absolute Error (MAE)\")\n",
    "plt.title(\"MAE by level\")\n",
    "plt.xticks(mae_by_level[\"level\"])\n",
    "plt.show()"
   ]
  },
  {
   "cell_type": "code",
   "execution_count": 20,
   "metadata": {},
   "outputs": [
    {
     "name": "stdout",
     "output_type": "stream",
     "text": [
      "Normal:\n",
      "MSE: 2.23\n",
      "RMSE: 1.49\n",
      "\n",
      "Round type: round\n",
      "MSE: 2.52\n",
      "RMSE: 1.59\n",
      "\n",
      "Round type: 0.33\n",
      "MSE: 2.16\n",
      "RMSE: 1.47\n",
      "\n",
      "Round type: 0.45\n",
      "MSE: 2.52\n",
      "RMSE: 1.59\n",
      "\n"
     ]
    }
   ],
   "source": [
    "from training.results import check_round_predictions, plot_confusion_matrix\n",
    "\n",
    "\n",
    "check_round_predictions([\"round\", 0.33, 0.45], y_test, y_pred_test)"
   ]
  },
  {
   "cell_type": "code",
   "execution_count": 21,
   "metadata": {},
   "outputs": [
    {
     "data": {
      "image/png": "[encoded data removed]",
      "text/plain": [
       "<Figure size 432x288 with 2 Axes>"
      ]
     },
     "metadata": {
      "needs_background": "light"
     },
     "output_type": "display_data"
    }
   ],
   "source": [
    "plot_confusion_matrix(\"round\", y_pred_test, y_test)"
   ]
  },
  {
   "cell_type": "markdown",
   "metadata": {},
   "source": [
    "#### Tuning"
   ]
  },
  {
   "cell_type": "code",
   "execution_count": 22,
   "metadata": {},
   "outputs": [],
   "source": [
    "from training.results import assess_regression_model"
   ]
  },
  {
   "cell_type": "code",
   "execution_count": 23,
   "metadata": {},
   "outputs": [
    {
     "data": {
      "text/plain": [
       "{'n_estimators': [100, 200, 300, 400, 500, 600, 700, 800],\n",
       " 'max_features': [0.1, 0.2, 0.3, 0.4, 0.5],\n",
       " 'max_depth': [10, 20, 30, 40, 50, 60, 70, 80, 90, 100, 110, None]}"
      ]
     },
     "execution_count": 23,
     "metadata": {},
     "output_type": "execute_result"
    }
   ],
   "source": [
    "from sklearn.model_selection import RandomizedSearchCV\n",
    "\n",
    "n_estimators = [int(x) for x in np.linspace(start=100, stop=800, num=8)]\n",
    "max_features = [0.1, 0.2, 0.3, 0.4, 0.5]\n",
    "max_depth = list(range(10, 111, 10)) + [None]\n",
    "\n",
    "hyper_params = {\n",
    "    \"n_estimators\": n_estimators,\n",
    "    \"max_features\": max_features,\n",
    "    \"max_depth\": max_depth,\n",
    "}\n",
    "\n",
    "hyper_params"
   ]
  },
  {
   "cell_type": "code",
   "execution_count": 24,
   "metadata": {},
   "outputs": [
    {
     "name": "stdout",
     "output_type": "stream",
     "text": [
      "Fitting 3 folds for each of 100 candidates, totalling 300 fits\n",
      "[CV] END ...max_depth=20, max_features=0.5, n_estimators=200; total time=   0.7s\n",
      "[CV] END ...max_depth=20, max_features=0.5, n_estimators=200; total time=   0.7s\n",
      "[CV] END ...max_depth=20, max_features=0.5, n_estimators=200; total time=   0.7s\n",
      "[CV] END ..max_depth=110, max_features=0.2, n_estimators=700; total time=   2.5s\n",
      "[CV] END ..max_depth=110, max_features=0.2, n_estimators=700; total time=   2.5s\n",
      "[CV] END ..max_depth=110, max_features=0.2, n_estimators=700; total time=   2.5s\n",
      "[CV] END ..max_depth=100, max_features=0.5, n_estimators=300; total time=   1.0s\n",
      "[CV] END ..max_depth=100, max_features=0.5, n_estimators=300; total time=   1.0s\n",
      "[CV] END ..max_depth=100, max_features=0.5, n_estimators=300; total time=   1.0s\n",
      "[CV] END ...max_depth=70, max_features=0.5, n_estimators=600; total time=   2.1s\n",
      "[CV] END ...max_depth=70, max_features=0.5, n_estimators=600; total time=   2.1s\n",
      "[CV] END ...max_depth=70, max_features=0.5, n_estimators=600; total time=   2.1s\n",
      "[CV] END ..max_depth=100, max_features=0.5, n_estimators=800; total time=   2.8s\n",
      "[CV] END ..max_depth=100, max_features=0.5, n_estimators=800; total time=   2.9s\n",
      "[CV] END ..max_depth=100, max_features=0.5, n_estimators=800; total time=   2.8s\n",
      "[CV] END ...max_depth=50, max_features=0.2, n_estimators=500; total time=   1.7s\n",
      "[CV] END ...max_depth=50, max_features=0.2, n_estimators=500; total time=   1.7s\n",
      "[CV] END ...max_depth=50, max_features=0.2, n_estimators=500; total time=   1.7s\n",
      "[CV] END ...max_depth=70, max_features=0.4, n_estimators=500; total time=   1.8s\n",
      "[CV] END ...max_depth=70, max_features=0.4, n_estimators=500; total time=   1.8s\n",
      "[CV] END ...max_depth=70, max_features=0.4, n_estimators=500; total time=   1.7s\n",
      "[CV] END ..max_depth=100, max_features=0.2, n_estimators=800; total time=   2.8s\n",
      "[CV] END ..max_depth=100, max_features=0.2, n_estimators=800; total time=   2.7s\n",
      "[CV] END ..max_depth=100, max_features=0.2, n_estimators=800; total time=   2.7s\n",
      "[CV] END ...max_depth=20, max_features=0.5, n_estimators=600; total time=   2.1s\n",
      "[CV] END ...max_depth=20, max_features=0.5, n_estimators=600; total time=   2.1s\n",
      "[CV] END ...max_depth=20, max_features=0.5, n_estimators=600; total time=   2.0s\n",
      "[CV] END .max_depth=None, max_features=0.1, n_estimators=300; total time=   1.0s\n",
      "[CV] END .max_depth=None, max_features=0.1, n_estimators=300; total time=   1.0s\n",
      "[CV] END .max_depth=None, max_features=0.1, n_estimators=300; total time=   1.0s\n",
      "[CV] END ...max_depth=10, max_features=0.2, n_estimators=200; total time=   0.6s\n",
      "[CV] END ...max_depth=10, max_features=0.2, n_estimators=200; total time=   0.6s\n",
      "[CV] END ...max_depth=10, max_features=0.2, n_estimators=200; total time=   0.6s\n",
      "[CV] END ...max_depth=80, max_features=0.1, n_estimators=200; total time=   0.6s\n",
      "[CV] END ...max_depth=80, max_features=0.1, n_estimators=200; total time=   0.7s\n",
      "[CV] END ...max_depth=80, max_features=0.1, n_estimators=200; total time=   0.6s\n",
      "[CV] END ..max_depth=110, max_features=0.5, n_estimators=200; total time=   0.6s\n",
      "[CV] END ..max_depth=110, max_features=0.5, n_estimators=200; total time=   0.6s\n",
      "[CV] END ..max_depth=110, max_features=0.5, n_estimators=200; total time=   0.6s\n",
      "[CV] END ...max_depth=80, max_features=0.3, n_estimators=300; total time=   1.0s\n",
      "[CV] END ...max_depth=80, max_features=0.3, n_estimators=300; total time=   1.0s\n",
      "[CV] END ...max_depth=80, max_features=0.3, n_estimators=300; total time=   1.0s\n",
      "[CV] END ...max_depth=10, max_features=0.4, n_estimators=700; total time=   2.4s\n",
      "[CV] END ...max_depth=10, max_features=0.4, n_estimators=700; total time=   2.4s\n",
      "[CV] END ...max_depth=10, max_features=0.4, n_estimators=700; total time=   2.2s\n",
      "[CV] END ...max_depth=30, max_features=0.2, n_estimators=600; total time=   1.0s\n",
      "[CV] END ...max_depth=30, max_features=0.2, n_estimators=600; total time=   1.1s\n",
      "[CV] END ...max_depth=30, max_features=0.2, n_estimators=600; total time=   1.0s\n",
      "[CV] END ...max_depth=20, max_features=0.2, n_estimators=800; total time=   2.7s\n",
      "[CV] END ...max_depth=20, max_features=0.2, n_estimators=800; total time=   2.7s\n",
      "[CV] END ...max_depth=20, max_features=0.2, n_estimators=800; total time=   2.8s\n",
      "[CV] END ..max_depth=110, max_features=0.3, n_estimators=800; total time=   2.9s\n",
      "[CV] END ..max_depth=110, max_features=0.3, n_estimators=800; total time=   2.8s\n",
      "[CV] END ..max_depth=110, max_features=0.3, n_estimators=800; total time=   2.8s\n",
      "[CV] END ...max_depth=10, max_features=0.5, n_estimators=200; total time=   0.6s\n",
      "[CV] END ...max_depth=10, max_features=0.5, n_estimators=200; total time=   0.6s\n",
      "[CV] END ...max_depth=10, max_features=0.5, n_estimators=200; total time=   0.6s\n",
      "[CV] END ...max_depth=60, max_features=0.1, n_estimators=400; total time=   1.4s\n",
      "[CV] END ...max_depth=60, max_features=0.1, n_estimators=400; total time=   1.4s\n",
      "[CV] END ...max_depth=60, max_features=0.1, n_estimators=400; total time=   1.4s\n",
      "[CV] END ...max_depth=50, max_features=0.3, n_estimators=500; total time=   1.7s\n",
      "[CV] END ...max_depth=50, max_features=0.3, n_estimators=500; total time=   1.7s\n",
      "[CV] END ...max_depth=50, max_features=0.3, n_estimators=500; total time=   1.7s\n",
      "[CV] END .max_depth=None, max_features=0.4, n_estimators=200; total time=   0.6s\n",
      "[CV] END .max_depth=None, max_features=0.4, n_estimators=200; total time=   0.7s\n",
      "[CV] END .max_depth=None, max_features=0.4, n_estimators=200; total time=   0.6s\n",
      "[CV] END ...max_depth=20, max_features=0.4, n_estimators=700; total time=   2.4s\n",
      "[CV] END ...max_depth=20, max_features=0.4, n_estimators=700; total time=   2.4s\n",
      "[CV] END ...max_depth=20, max_features=0.4, n_estimators=700; total time=   2.4s\n",
      "[CV] END ...max_depth=70, max_features=0.3, n_estimators=600; total time=   2.1s\n",
      "[CV] END ...max_depth=70, max_features=0.3, n_estimators=600; total time=   2.2s\n",
      "[CV] END ...max_depth=70, max_features=0.3, n_estimators=600; total time=   2.2s\n",
      "[CV] END ...max_depth=30, max_features=0.4, n_estimators=100; total time=   0.3s\n",
      "[CV] END ...max_depth=30, max_features=0.4, n_estimators=100; total time=   0.3s\n",
      "[CV] END ...max_depth=30, max_features=0.4, n_estimators=100; total time=   0.3s\n",
      "[CV] END .max_depth=None, max_features=0.5, n_estimators=300; total time=   1.0s\n",
      "[CV] END .max_depth=None, max_features=0.5, n_estimators=300; total time=   1.0s\n",
      "[CV] END .max_depth=None, max_features=0.5, n_estimators=300; total time=   1.0s\n",
      "[CV] END ...max_depth=90, max_features=0.5, n_estimators=700; total time=   2.4s\n",
      "[CV] END ...max_depth=90, max_features=0.5, n_estimators=700; total time=   2.5s\n",
      "[CV] END ...max_depth=90, max_features=0.5, n_estimators=700; total time=   2.4s\n",
      "[CV] END ...max_depth=90, max_features=0.1, n_estimators=200; total time=   0.7s\n",
      "[CV] END ...max_depth=90, max_features=0.1, n_estimators=200; total time=   0.6s\n",
      "[CV] END ...max_depth=90, max_features=0.1, n_estimators=200; total time=   0.6s\n",
      "[CV] END ...max_depth=80, max_features=0.3, n_estimators=600; total time=   2.1s\n",
      "[CV] END ...max_depth=80, max_features=0.3, n_estimators=600; total time=   2.0s\n",
      "[CV] END ...max_depth=80, max_features=0.3, n_estimators=600; total time=   2.0s\n",
      "[CV] END ...max_depth=10, max_features=0.1, n_estimators=100; total time=   0.3s\n",
      "[CV] END ...max_depth=10, max_features=0.1, n_estimators=100; total time=   0.3s\n",
      "[CV] END ...max_depth=10, max_features=0.1, n_estimators=100; total time=   0.3s\n",
      "[CV] END ..max_depth=100, max_features=0.4, n_estimators=800; total time=   2.7s\n",
      "[CV] END ..max_depth=100, max_features=0.4, n_estimators=800; total time=   2.8s\n",
      "[CV] END ..max_depth=100, max_features=0.4, n_estimators=800; total time=   2.8s\n",
      "[CV] END ...max_depth=10, max_features=0.2, n_estimators=400; total time=   1.4s\n",
      "[CV] END ...max_depth=10, max_features=0.2, n_estimators=400; total time=   1.3s\n",
      "[CV] END ...max_depth=10, max_features=0.2, n_estimators=400; total time=   1.4s\n",
      "[CV] END ..max_depth=100, max_features=0.3, n_estimators=500; total time=   1.7s\n",
      "[CV] END ..max_depth=100, max_features=0.3, n_estimators=500; total time=   1.7s\n",
      "[CV] END ..max_depth=100, max_features=0.3, n_estimators=500; total time=   1.7s\n",
      "[CV] END ..max_depth=110, max_features=0.4, n_estimators=700; total time=   2.5s\n",
      "[CV] END ..max_depth=110, max_features=0.4, n_estimators=700; total time=   2.4s\n"
     ]
    },
    {
     "name": "stdout",
     "output_type": "stream",
     "text": [
      "[CV] END ..max_depth=110, max_features=0.4, n_estimators=700; total time=   2.5s\n",
      "[CV] END ..max_depth=100, max_features=0.3, n_estimators=200; total time=   0.6s\n",
      "[CV] END ..max_depth=100, max_features=0.3, n_estimators=200; total time=   0.6s\n",
      "[CV] END ..max_depth=100, max_features=0.3, n_estimators=200; total time=   0.6s\n",
      "[CV] END ...max_depth=30, max_features=0.5, n_estimators=600; total time=   2.1s\n",
      "[CV] END ...max_depth=30, max_features=0.5, n_estimators=600; total time=   2.1s\n",
      "[CV] END ...max_depth=30, max_features=0.5, n_estimators=600; total time=   2.1s\n",
      "[CV] END ...max_depth=80, max_features=0.3, n_estimators=700; total time=   2.5s\n",
      "[CV] END ...max_depth=80, max_features=0.3, n_estimators=700; total time=   2.4s\n",
      "[CV] END ...max_depth=80, max_features=0.3, n_estimators=700; total time=   2.4s\n",
      "[CV] END ...max_depth=50, max_features=0.2, n_estimators=600; total time=   2.1s\n",
      "[CV] END ...max_depth=50, max_features=0.2, n_estimators=600; total time=   2.1s\n",
      "[CV] END ...max_depth=50, max_features=0.2, n_estimators=600; total time=   2.1s\n",
      "[CV] END .max_depth=None, max_features=0.4, n_estimators=800; total time=   2.8s\n",
      "[CV] END .max_depth=None, max_features=0.4, n_estimators=800; total time=   2.8s\n",
      "[CV] END .max_depth=None, max_features=0.4, n_estimators=800; total time=   2.8s\n",
      "[CV] END ...max_depth=10, max_features=0.3, n_estimators=300; total time=   1.0s\n",
      "[CV] END ...max_depth=10, max_features=0.3, n_estimators=300; total time=   1.0s\n",
      "[CV] END ...max_depth=10, max_features=0.3, n_estimators=300; total time=   1.0s\n",
      "[CV] END ...max_depth=90, max_features=0.2, n_estimators=500; total time=   1.7s\n",
      "[CV] END ...max_depth=90, max_features=0.2, n_estimators=500; total time=   1.7s\n",
      "[CV] END ...max_depth=90, max_features=0.2, n_estimators=500; total time=   1.7s\n",
      "[CV] END ...max_depth=50, max_features=0.4, n_estimators=200; total time=   0.6s\n",
      "[CV] END ...max_depth=50, max_features=0.4, n_estimators=200; total time=   0.6s\n",
      "[CV] END ...max_depth=50, max_features=0.4, n_estimators=200; total time=   0.6s\n",
      "[CV] END ...max_depth=30, max_features=0.2, n_estimators=300; total time=   1.0s\n",
      "[CV] END ...max_depth=30, max_features=0.2, n_estimators=300; total time=   1.0s\n",
      "[CV] END ...max_depth=30, max_features=0.2, n_estimators=300; total time=   1.0s\n",
      "[CV] END ...max_depth=60, max_features=0.3, n_estimators=500; total time=   1.7s\n",
      "[CV] END ...max_depth=60, max_features=0.3, n_estimators=500; total time=   1.8s\n",
      "[CV] END ...max_depth=60, max_features=0.3, n_estimators=500; total time=   1.7s\n",
      "[CV] END ...max_depth=10, max_features=0.5, n_estimators=800; total time=   2.8s\n",
      "[CV] END ...max_depth=10, max_features=0.5, n_estimators=800; total time=   2.8s\n",
      "[CV] END ...max_depth=10, max_features=0.5, n_estimators=800; total time=   2.8s\n",
      "[CV] END ...max_depth=90, max_features=0.1, n_estimators=400; total time=   1.4s\n",
      "[CV] END ...max_depth=90, max_features=0.1, n_estimators=400; total time=   1.3s\n",
      "[CV] END ...max_depth=90, max_features=0.1, n_estimators=400; total time=   1.3s\n",
      "[CV] END .max_depth=None, max_features=0.3, n_estimators=400; total time=   1.3s\n",
      "[CV] END .max_depth=None, max_features=0.3, n_estimators=400; total time=   1.3s\n",
      "[CV] END .max_depth=None, max_features=0.3, n_estimators=400; total time=   1.4s\n",
      "[CV] END ...max_depth=20, max_features=0.5, n_estimators=500; total time=   1.7s\n",
      "[CV] END ...max_depth=20, max_features=0.5, n_estimators=500; total time=   1.7s\n",
      "[CV] END ...max_depth=20, max_features=0.5, n_estimators=500; total time=   1.7s\n",
      "[CV] END ...max_depth=40, max_features=0.5, n_estimators=400; total time=   1.4s\n",
      "[CV] END ...max_depth=40, max_features=0.5, n_estimators=400; total time=   1.4s\n",
      "[CV] END ...max_depth=40, max_features=0.5, n_estimators=400; total time=   1.1s\n",
      "[CV] END ...max_depth=20, max_features=0.3, n_estimators=800; total time=   1.3s\n",
      "[CV] END ...max_depth=20, max_features=0.3, n_estimators=800; total time=   1.2s\n",
      "[CV] END ...max_depth=20, max_features=0.3, n_estimators=800; total time=   1.2s\n",
      "[CV] END ..max_depth=100, max_features=0.4, n_estimators=700; total time=   1.0s\n",
      "[CV] END ..max_depth=100, max_features=0.4, n_estimators=700; total time=   1.0s\n",
      "[CV] END ..max_depth=100, max_features=0.4, n_estimators=700; total time=   1.0s\n",
      "[CV] END ...max_depth=90, max_features=0.3, n_estimators=500; total time=   0.7s\n",
      "[CV] END ...max_depth=90, max_features=0.3, n_estimators=500; total time=   0.7s\n",
      "[CV] END ...max_depth=90, max_features=0.3, n_estimators=500; total time=   0.7s\n",
      "[CV] END ..max_depth=110, max_features=0.2, n_estimators=800; total time=   1.2s\n",
      "[CV] END ..max_depth=110, max_features=0.2, n_estimators=800; total time=   1.1s\n",
      "[CV] END ..max_depth=110, max_features=0.2, n_estimators=800; total time=   1.1s\n",
      "[CV] END ..max_depth=110, max_features=0.5, n_estimators=300; total time=   0.4s\n",
      "[CV] END ..max_depth=110, max_features=0.5, n_estimators=300; total time=   0.4s\n",
      "[CV] END ..max_depth=110, max_features=0.5, n_estimators=300; total time=   0.4s\n",
      "[CV] END ...max_depth=80, max_features=0.4, n_estimators=200; total time=   0.2s\n",
      "[CV] END ...max_depth=80, max_features=0.4, n_estimators=200; total time=   0.2s\n",
      "[CV] END ...max_depth=80, max_features=0.4, n_estimators=200; total time=   0.2s\n",
      "[CV] END ...max_depth=70, max_features=0.4, n_estimators=300; total time=   0.4s\n",
      "[CV] END ...max_depth=70, max_features=0.4, n_estimators=300; total time=   0.5s\n",
      "[CV] END ...max_depth=70, max_features=0.4, n_estimators=300; total time=   0.4s\n",
      "[CV] END ...max_depth=30, max_features=0.1, n_estimators=300; total time=   0.4s\n",
      "[CV] END ...max_depth=30, max_features=0.1, n_estimators=300; total time=   0.4s\n",
      "[CV] END ...max_depth=30, max_features=0.1, n_estimators=300; total time=   0.4s\n",
      "[CV] END ...max_depth=30, max_features=0.3, n_estimators=600; total time=   0.8s\n",
      "[CV] END ...max_depth=30, max_features=0.3, n_estimators=600; total time=   0.8s\n",
      "[CV] END ...max_depth=30, max_features=0.3, n_estimators=600; total time=   0.8s\n",
      "[CV] END .max_depth=None, max_features=0.5, n_estimators=600; total time=   0.8s\n",
      "[CV] END .max_depth=None, max_features=0.5, n_estimators=600; total time=   0.9s\n",
      "[CV] END .max_depth=None, max_features=0.5, n_estimators=600; total time=   0.8s\n",
      "[CV] END ...max_depth=30, max_features=0.5, n_estimators=200; total time=   0.2s\n",
      "[CV] END ...max_depth=30, max_features=0.5, n_estimators=200; total time=   0.2s\n",
      "[CV] END ...max_depth=30, max_features=0.5, n_estimators=200; total time=   0.2s\n",
      "[CV] END .max_depth=None, max_features=0.3, n_estimators=800; total time=   1.1s\n",
      "[CV] END .max_depth=None, max_features=0.3, n_estimators=800; total time=   1.1s\n",
      "[CV] END .max_depth=None, max_features=0.3, n_estimators=800; total time=   1.1s\n",
      "[CV] END ...max_depth=70, max_features=0.2, n_estimators=600; total time=   0.8s\n",
      "[CV] END ...max_depth=70, max_features=0.2, n_estimators=600; total time=   0.8s\n",
      "[CV] END ...max_depth=70, max_features=0.2, n_estimators=600; total time=   0.8s\n",
      "[CV] END ...max_depth=20, max_features=0.5, n_estimators=700; total time=   1.0s\n",
      "[CV] END ...max_depth=20, max_features=0.5, n_estimators=700; total time=   1.2s\n",
      "[CV] END ...max_depth=20, max_features=0.5, n_estimators=700; total time=   1.1s\n",
      "[CV] END ...max_depth=40, max_features=0.3, n_estimators=200; total time=   0.2s\n",
      "[CV] END ...max_depth=40, max_features=0.3, n_estimators=200; total time=   0.2s\n",
      "[CV] END ...max_depth=40, max_features=0.3, n_estimators=200; total time=   0.2s\n",
      "[CV] END ...max_depth=60, max_features=0.5, n_estimators=300; total time=   0.4s\n",
      "[CV] END ...max_depth=60, max_features=0.5, n_estimators=300; total time=   0.4s\n",
      "[CV] END ...max_depth=60, max_features=0.5, n_estimators=300; total time=   0.4s\n",
      "[CV] END ...max_depth=80, max_features=0.4, n_estimators=100; total time=   0.1s\n",
      "[CV] END ...max_depth=80, max_features=0.4, n_estimators=100; total time=   0.1s\n",
      "[CV] END ...max_depth=80, max_features=0.4, n_estimators=100; total time=   0.1s\n",
      "[CV] END ...max_depth=90, max_features=0.1, n_estimators=300; total time=   0.3s\n",
      "[CV] END ...max_depth=90, max_features=0.1, n_estimators=300; total time=   0.4s\n",
      "[CV] END ...max_depth=90, max_features=0.1, n_estimators=300; total time=   0.4s\n",
      "[CV] END ...max_depth=20, max_features=0.4, n_estimators=500; total time=   0.7s\n",
      "[CV] END ...max_depth=20, max_features=0.4, n_estimators=500; total time=   0.7s\n"
     ]
    },
    {
     "name": "stdout",
     "output_type": "stream",
     "text": [
      "[CV] END ...max_depth=20, max_features=0.4, n_estimators=500; total time=   0.7s\n",
      "[CV] END ...max_depth=20, max_features=0.5, n_estimators=100; total time=   0.1s\n",
      "[CV] END ...max_depth=20, max_features=0.5, n_estimators=100; total time=   0.1s\n",
      "[CV] END ...max_depth=20, max_features=0.5, n_estimators=100; total time=   0.1s\n",
      "[CV] END ...max_depth=60, max_features=0.3, n_estimators=300; total time=   0.4s\n",
      "[CV] END ...max_depth=60, max_features=0.3, n_estimators=300; total time=   0.4s\n",
      "[CV] END ...max_depth=60, max_features=0.3, n_estimators=300; total time=   0.4s\n",
      "[CV] END ...max_depth=80, max_features=0.4, n_estimators=700; total time=   1.1s\n",
      "[CV] END ...max_depth=80, max_features=0.4, n_estimators=700; total time=   1.1s\n",
      "[CV] END ...max_depth=80, max_features=0.4, n_estimators=700; total time=   1.0s\n",
      "[CV] END ...max_depth=20, max_features=0.5, n_estimators=800; total time=   1.2s\n",
      "[CV] END ...max_depth=20, max_features=0.5, n_estimators=800; total time=   1.1s\n",
      "[CV] END ...max_depth=20, max_features=0.5, n_estimators=800; total time=   1.2s\n",
      "[CV] END ...max_depth=60, max_features=0.2, n_estimators=100; total time=   0.1s\n",
      "[CV] END ...max_depth=60, max_features=0.2, n_estimators=100; total time=   0.1s\n",
      "[CV] END ...max_depth=60, max_features=0.2, n_estimators=100; total time=   0.1s\n",
      "[CV] END ...max_depth=40, max_features=0.4, n_estimators=500; total time=   0.7s\n",
      "[CV] END ...max_depth=40, max_features=0.4, n_estimators=500; total time=   0.7s\n",
      "[CV] END ...max_depth=40, max_features=0.4, n_estimators=500; total time=   0.7s\n",
      "[CV] END ...max_depth=40, max_features=0.5, n_estimators=300; total time=   0.4s\n",
      "[CV] END ...max_depth=40, max_features=0.5, n_estimators=300; total time=   0.4s\n",
      "[CV] END ...max_depth=40, max_features=0.5, n_estimators=300; total time=   0.4s\n",
      "[CV] END ...max_depth=50, max_features=0.2, n_estimators=800; total time=   1.2s\n",
      "[CV] END ...max_depth=50, max_features=0.2, n_estimators=800; total time=   1.2s\n",
      "[CV] END ...max_depth=50, max_features=0.2, n_estimators=800; total time=   1.2s\n",
      "[CV] END ...max_depth=70, max_features=0.2, n_estimators=200; total time=   0.3s\n",
      "[CV] END ...max_depth=70, max_features=0.2, n_estimators=200; total time=   0.2s\n",
      "[CV] END ...max_depth=70, max_features=0.2, n_estimators=200; total time=   0.2s\n",
      "[CV] END .max_depth=None, max_features=0.5, n_estimators=400; total time=   0.5s\n",
      "[CV] END .max_depth=None, max_features=0.5, n_estimators=400; total time=   0.5s\n",
      "[CV] END .max_depth=None, max_features=0.5, n_estimators=400; total time=   0.5s\n",
      "[CV] END ...max_depth=90, max_features=0.2, n_estimators=700; total time=   1.0s\n",
      "[CV] END ...max_depth=90, max_features=0.2, n_estimators=700; total time=   1.0s\n",
      "[CV] END ...max_depth=90, max_features=0.2, n_estimators=700; total time=   1.0s\n",
      "[CV] END ...max_depth=20, max_features=0.5, n_estimators=400; total time=   0.5s\n",
      "[CV] END ...max_depth=20, max_features=0.5, n_estimators=400; total time=   0.5s\n",
      "[CV] END ...max_depth=20, max_features=0.5, n_estimators=400; total time=   0.5s\n",
      "[CV] END ..max_depth=110, max_features=0.3, n_estimators=600; total time=   0.8s\n",
      "[CV] END ..max_depth=110, max_features=0.3, n_estimators=600; total time=   0.8s\n",
      "[CV] END ..max_depth=110, max_features=0.3, n_estimators=600; total time=   0.8s\n",
      "[CV] END ...max_depth=10, max_features=0.2, n_estimators=800; total time=   1.1s\n",
      "[CV] END ...max_depth=10, max_features=0.2, n_estimators=800; total time=   1.1s\n",
      "[CV] END ...max_depth=10, max_features=0.2, n_estimators=800; total time=   1.1s\n",
      "[CV] END ...max_depth=40, max_features=0.5, n_estimators=200; total time=   0.2s\n",
      "[CV] END ...max_depth=40, max_features=0.5, n_estimators=200; total time=   0.3s\n",
      "[CV] END ...max_depth=40, max_features=0.5, n_estimators=200; total time=   0.2s\n",
      "[CV] END .max_depth=None, max_features=0.4, n_estimators=100; total time=   0.1s\n",
      "[CV] END .max_depth=None, max_features=0.4, n_estimators=100; total time=   0.1s\n",
      "[CV] END .max_depth=None, max_features=0.4, n_estimators=100; total time=   0.1s\n",
      "[CV] END ...max_depth=10, max_features=0.3, n_estimators=400; total time=   0.5s\n",
      "[CV] END ...max_depth=10, max_features=0.3, n_estimators=400; total time=   0.5s\n",
      "[CV] END ...max_depth=10, max_features=0.3, n_estimators=400; total time=   0.5s\n",
      "[CV] END ...max_depth=80, max_features=0.4, n_estimators=800; total time=   1.1s\n",
      "[CV] END ...max_depth=80, max_features=0.4, n_estimators=800; total time=   1.1s\n",
      "[CV] END ...max_depth=80, max_features=0.4, n_estimators=800; total time=   1.1s\n",
      "[CV] END ...max_depth=90, max_features=0.1, n_estimators=100; total time=   0.1s\n",
      "[CV] END ...max_depth=90, max_features=0.1, n_estimators=100; total time=   0.1s\n",
      "[CV] END ...max_depth=90, max_features=0.1, n_estimators=100; total time=   0.1s\n",
      "[CV] END ...max_depth=20, max_features=0.3, n_estimators=100; total time=   0.1s\n",
      "[CV] END ...max_depth=20, max_features=0.3, n_estimators=100; total time=   0.1s\n",
      "[CV] END ...max_depth=20, max_features=0.3, n_estimators=100; total time=   0.1s\n",
      "[CV] END ...max_depth=90, max_features=0.4, n_estimators=600; total time=   0.8s\n",
      "[CV] END ...max_depth=90, max_features=0.4, n_estimators=600; total time=   0.8s\n",
      "[CV] END ...max_depth=90, max_features=0.4, n_estimators=600; total time=   0.8s\n",
      "[CV] END ...max_depth=60, max_features=0.2, n_estimators=400; total time=   0.5s\n",
      "[CV] END ...max_depth=60, max_features=0.2, n_estimators=400; total time=   0.6s\n",
      "[CV] END ...max_depth=60, max_features=0.2, n_estimators=400; total time=   0.5s\n",
      "[CV] END ..max_depth=110, max_features=0.5, n_estimators=100; total time=   0.1s\n",
      "[CV] END ..max_depth=110, max_features=0.5, n_estimators=100; total time=   0.1s\n",
      "[CV] END ..max_depth=110, max_features=0.5, n_estimators=100; total time=   0.1s\n",
      "[CV] END ...max_depth=60, max_features=0.3, n_estimators=700; total time=   0.9s\n",
      "[CV] END ...max_depth=60, max_features=0.3, n_estimators=700; total time=   1.0s\n",
      "[CV] END ...max_depth=60, max_features=0.3, n_estimators=700; total time=   0.9s\n",
      "[CV] END ...max_depth=60, max_features=0.5, n_estimators=600; total time=   0.8s\n",
      "[CV] END ...max_depth=60, max_features=0.5, n_estimators=600; total time=   0.8s\n",
      "[CV] END ...max_depth=60, max_features=0.5, n_estimators=600; total time=   0.8s\n",
      "[CV] END ..max_depth=110, max_features=0.2, n_estimators=100; total time=   0.1s\n",
      "[CV] END ..max_depth=110, max_features=0.2, n_estimators=100; total time=   0.1s\n",
      "[CV] END ..max_depth=110, max_features=0.2, n_estimators=100; total time=   0.1s\n",
      "[CV] END ...max_depth=10, max_features=0.4, n_estimators=200; total time=   0.2s\n",
      "[CV] END ...max_depth=10, max_features=0.4, n_estimators=200; total time=   0.2s\n",
      "[CV] END ...max_depth=10, max_features=0.4, n_estimators=200; total time=   0.2s\n",
      "[CV] END ..max_depth=110, max_features=0.3, n_estimators=400; total time=   0.5s\n",
      "[CV] END ..max_depth=110, max_features=0.3, n_estimators=400; total time=   0.5s\n",
      "[CV] END ..max_depth=110, max_features=0.3, n_estimators=400; total time=   0.5s\n",
      "[CV] END ...max_depth=40, max_features=0.2, n_estimators=500; total time=   0.7s\n",
      "[CV] END ...max_depth=40, max_features=0.2, n_estimators=500; total time=   0.7s\n",
      "[CV] END ...max_depth=40, max_features=0.2, n_estimators=500; total time=   0.8s\n",
      "[CV] END ...max_depth=60, max_features=0.4, n_estimators=500; total time=   0.7s\n",
      "[CV] END ...max_depth=60, max_features=0.4, n_estimators=500; total time=   0.7s\n",
      "[CV] END ...max_depth=60, max_features=0.4, n_estimators=500; total time=   0.7s\n",
      "[CV] END .max_depth=None, max_features=0.5, n_estimators=200; total time=   0.2s\n",
      "[CV] END .max_depth=None, max_features=0.5, n_estimators=200; total time=   0.2s\n",
      "[CV] END .max_depth=None, max_features=0.5, n_estimators=200; total time=   0.3s\n",
      "[CV] END ...max_depth=20, max_features=0.1, n_estimators=300; total time=   0.4s\n",
      "[CV] END ...max_depth=20, max_features=0.1, n_estimators=300; total time=   0.4s\n",
      "[CV] END ...max_depth=20, max_features=0.1, n_estimators=300; total time=   0.5s\n"
     ]
    },
    {
     "data": {
      "text/plain": [
       "{'n_estimators': 800, 'max_features': 0.5, 'max_depth': 100}"
      ]
     },
     "execution_count": 24,
     "metadata": {},
     "output_type": "execute_result"
    }
   ],
   "source": [
    "rf = RandomForestRegressor(random_state=0, n_jobs=-1)\n",
    "\n",
    "rf_random = RandomizedSearchCV(\n",
    "    estimator=rf,\n",
    "    param_distributions=hyper_params,\n",
    "    n_iter=100,\n",
    "    scoring=\"neg_mean_absolute_error\",\n",
    "    cv=3,\n",
    "    verbose=2,\n",
    "    random_state=42,\n",
    "    return_train_score=True,\n",
    ")\n",
    "\n",
    "rf_random.fit(X_train, y_train)\n",
    "rf_random.best_params_"
   ]
  },
  {
   "cell_type": "code",
   "execution_count": 25,
   "metadata": {},
   "outputs": [
    {
     "name": "stdout",
     "output_type": "stream",
     "text": [
      "RMSE train: 0.16\n",
      "RMSE test: 0.68\n",
      "MSE test: 0.46\n",
      "MAE test: 0.43\n",
      "\n"
     ]
    }
   ],
   "source": [
    "rmse, mse, mae = assess_regression_model(rf_random, X_train, X_test, y_train, y_test)"
   ]
  },
  {
   "cell_type": "code",
   "execution_count": 26,
   "metadata": {},
   "outputs": [],
   "source": [
    "results.loc[1] = [\n",
    "    \"chronological\",\n",
    "    \"RandomizedSearchCV\",\n",
    "    len(X_test.columns),\n",
    "    mse,\n",
    "    rmse,\n",
    "    mae,\n",
    "]"
   ]
  },
  {
   "cell_type": "markdown",
   "metadata": {},
   "source": [
    "###### MAE by level"
   ]
  },
  {
   "cell_type": "code",
   "execution_count": 27,
   "metadata": {},
   "outputs": [
    {
     "data": {
      "image/png": "[encoded data removed]",
      "text/plain": [
       "<Figure size 720x432 with 1 Axes>"
      ]
     },
     "metadata": {
      "needs_background": "light"
     },
     "output_type": "display_data"
    }
   ],
   "source": [
    "import matplotlib.pyplot as plt\n",
    "\n",
    "y_test = y_test.reset_index(drop=True)\n",
    "level_max = y_test.max()\n",
    "\n",
    "mae_by_level = pd.DataFrame(columns=[\"level\", \"mae\"])\n",
    "for lvl in range(-1, level_max + 1):\n",
    "    y_test_curr = y_test[y_test == lvl]\n",
    "    y_pred_test_curr = pd.DataFrame(y_pred_test)[y_test == lvl]\n",
    "\n",
    "    mae = mean_absolute_error(y_test_curr, y_pred_test_curr)\n",
    "    mae_by_level.loc[lvl + 1] = [lvl, mae]\n",
    "\n",
    "\n",
    "plt.figure(figsize=(10, 6))\n",
    "plt.bar(mae_by_level[\"level\"], mae_by_level[\"mae\"])\n",
    "plt.xlabel(\"Level\")\n",
    "plt.ylabel(\"Mean Absolute Error (MAE)\")\n",
    "plt.title(\"MAE by level\")\n",
    "plt.xticks(mae_by_level[\"level\"])\n",
    "plt.show()"
   ]
  },
  {
   "cell_type": "code",
   "execution_count": 28,
   "metadata": {},
   "outputs": [
    {
     "name": "stdout",
     "output_type": "stream",
     "text": [
      "Normal:\n",
      "MSE: 0.46\n",
      "RMSE: 0.68\n",
      "\n",
      "Round type: round\n",
      "MSE: 0.52\n",
      "RMSE: 0.72\n",
      "\n",
      "Round type: 0.33\n",
      "MSE: 0.47\n",
      "RMSE: 0.69\n",
      "\n",
      "Round type: 0.45\n",
      "MSE: 0.47\n",
      "RMSE: 0.69\n",
      "\n"
     ]
    }
   ],
   "source": [
    "predict = rf_random.predict(X_test)\n",
    "check_round_predictions([\"round\", 0.33, 0.45], y_test, predict)"
   ]
  },
  {
   "cell_type": "markdown",
   "metadata": {},
   "source": [
    "### Attempt to decrease overfitting\n",
    "Change max_depth to 7"
   ]
  },
  {
   "cell_type": "code",
   "execution_count": 29,
   "metadata": {},
   "outputs": [
    {
     "name": "stdout",
     "output_type": "stream",
     "text": [
      "RMSE train: 0.29\n",
      "RMSE test: 0.69\n",
      "MSE test: 0.48\n",
      "MAE test: 0.46\n",
      "\n"
     ]
    }
   ],
   "source": [
    "rf = RandomForestRegressor(\n",
    "    random_state=0, n_jobs=-1, n_estimators=100, max_features=0.5, max_depth=7\n",
    ")\n",
    "rf.fit(X_train, y_train)\n",
    "rmse, mse, mae = assess_regression_model(rf, X_train, X_test, y_train, y_test)"
   ]
  },
  {
   "cell_type": "code",
   "execution_count": 30,
   "metadata": {},
   "outputs": [],
   "source": [
    "results.loc[2] = [\n",
    "    \"chronological\",\n",
    "    \"minimalise_overfitting\",\n",
    "    len(X_test.columns),\n",
    "    mse,\n",
    "    rmse,\n",
    "    mae,\n",
    "]"
   ]
  },
  {
   "cell_type": "markdown",
   "metadata": {},
   "source": [
    "###### MAE by level"
   ]
  },
  {
   "cell_type": "code",
   "execution_count": 31,
   "metadata": {},
   "outputs": [
    {
     "data": {
      "image/png": "[encoded data removed]",
      "text/plain": [
       "<Figure size 720x432 with 1 Axes>"
      ]
     },
     "metadata": {
      "needs_background": "light"
     },
     "output_type": "display_data"
    }
   ],
   "source": [
    "import matplotlib.pyplot as plt\n",
    "\n",
    "y_test = y_test.reset_index(drop=True)\n",
    "level_max = y_test.max()\n",
    "\n",
    "mae_by_level = pd.DataFrame(columns=[\"level\", \"mae\"])\n",
    "for lvl in range(-1, level_max + 1):\n",
    "    y_test_curr = y_test[y_test == lvl]\n",
    "    y_pred_test_curr = pd.DataFrame(y_pred_test)[y_test == lvl]\n",
    "\n",
    "    mae = mean_absolute_error(y_test_curr, y_pred_test_curr)\n",
    "    mae_by_level.loc[lvl + 1] = [lvl, mae]\n",
    "\n",
    "\n",
    "plt.figure(figsize=(10, 6))\n",
    "plt.bar(mae_by_level[\"level\"], mae_by_level[\"mae\"])\n",
    "plt.xlabel(\"Level\")\n",
    "plt.ylabel(\"Mean Absolute Error (MAE)\")\n",
    "plt.title(\"MAE by level\")\n",
    "plt.xticks(mae_by_level[\"level\"])\n",
    "plt.show()"
   ]
  },
  {
   "cell_type": "markdown",
   "metadata": {},
   "source": [
    "Check rounded predictions"
   ]
  },
  {
   "cell_type": "code",
   "execution_count": 32,
   "metadata": {},
   "outputs": [
    {
     "name": "stdout",
     "output_type": "stream",
     "text": [
      "Normal:\n",
      "MSE: 0.48\n",
      "RMSE: 0.69\n",
      "\n",
      "Round type: round\n",
      "MSE: 0.53\n",
      "RMSE: 0.73\n",
      "\n",
      "Round type: 0.33\n",
      "MSE: 0.47\n",
      "RMSE: 0.69\n",
      "\n",
      "Round type: 0.45\n",
      "MSE: 0.53\n",
      "RMSE: 0.73\n",
      "\n"
     ]
    }
   ],
   "source": [
    "predict = rf.predict(X_test)\n",
    "\n",
    "check_round_predictions([\"round\", 0.33, 0.45], y_test, predict)"
   ]
  },
  {
   "cell_type": "code",
   "execution_count": 33,
   "metadata": {},
   "outputs": [
    {
     "data": {
      "image/png": "[encoded data removed]",
      "text/plain": [
       "<Figure size 432x288 with 2 Axes>"
      ]
     },
     "metadata": {
      "needs_background": "light"
     },
     "output_type": "display_data"
    }
   ],
   "source": [
    "plot_confusion_matrix(\"round\", predict, y_test)"
   ]
  },
  {
   "cell_type": "code",
   "execution_count": 34,
   "metadata": {},
   "outputs": [
    {
     "data": {
      "image/png": "[encoded data removed]",
      "text/plain": [
       "<Figure size 432x288 with 2 Axes>"
      ]
     },
     "metadata": {
      "needs_background": "light"
     },
     "output_type": "display_data"
    }
   ],
   "source": [
    "plot_confusion_matrix(0.33, predict, y_test)"
   ]
  },
  {
   "cell_type": "markdown",
   "metadata": {},
   "source": [
    "The best results for threshold = 0.33"
   ]
  },
  {
   "cell_type": "markdown",
   "metadata": {},
   "source": [
    "## Random split"
   ]
  },
  {
   "cell_type": "code",
   "execution_count": 35,
   "metadata": {},
   "outputs": [
    {
     "data": {
      "text/html": [
       "<style>#sk-container-id-2 {color: black;background-color: white;}#sk-container-id-2 pre{padding: 0;}#sk-container-id-2 div.sk-toggleable {background-color: white;}#sk-container-id-2 label.sk-toggleable__label {cursor: pointer;display: block;width: 100%;margin-bottom: 0;padding: 0.3em;box-sizing: border-box;text-align: center;}#sk-container-id-2 label.sk-toggleable__label-arrow:before {content: \"▸\";float: left;margin-right: 0.25em;color: #696969;}#sk-container-id-2 label.sk-toggleable__label-arrow:hover:before {color: black;}#sk-container-id-2 div.sk-estimator:hover label.sk-toggleable__label-arrow:before {color: black;}#sk-container-id-2 div.sk-toggleable__content {max-height: 0;max-width: 0;overflow: hidden;text-align: left;background-color: #f0f8ff;}#sk-container-id-2 div.sk-toggleable__content pre {margin: 0.2em;color: black;border-radius: 0.25em;background-color: #f0f8ff;}#sk-container-id-2 input.sk-toggleable__control:checked~div.sk-toggleable__content {max-height: 200px;max-width: 100%;overflow: auto;}#sk-container-id-2 input.sk-toggleable__control:checked~label.sk-toggleable__label-arrow:before {content: \"▾\";}#sk-container-id-2 div.sk-estimator input.sk-toggleable__control:checked~label.sk-toggleable__label {background-color: #d4ebff;}#sk-container-id-2 div.sk-label input.sk-toggleable__control:checked~label.sk-toggleable__label {background-color: #d4ebff;}#sk-container-id-2 input.sk-hidden--visually {border: 0;clip: rect(1px 1px 1px 1px);clip: rect(1px, 1px, 1px, 1px);height: 1px;margin: -1px;overflow: hidden;padding: 0;position: absolute;width: 1px;}#sk-container-id-2 div.sk-estimator {font-family: monospace;background-color: #f0f8ff;border: 1px dotted black;border-radius: 0.25em;box-sizing: border-box;margin-bottom: 0.5em;}#sk-container-id-2 div.sk-estimator:hover {background-color: #d4ebff;}#sk-container-id-2 div.sk-parallel-item::after {content: \"\";width: 100%;border-bottom: 1px solid gray;flex-grow: 1;}#sk-container-id-2 div.sk-label:hover label.sk-toggleable__label {background-color: #d4ebff;}#sk-container-id-2 div.sk-serial::before {content: \"\";position: absolute;border-left: 1px solid gray;box-sizing: border-box;top: 0;bottom: 0;left: 50%;z-index: 0;}#sk-container-id-2 div.sk-serial {display: flex;flex-direction: column;align-items: center;background-color: white;padding-right: 0.2em;padding-left: 0.2em;position: relative;}#sk-container-id-2 div.sk-item {position: relative;z-index: 1;}#sk-container-id-2 div.sk-parallel {display: flex;align-items: stretch;justify-content: center;background-color: white;position: relative;}#sk-container-id-2 div.sk-item::before, #sk-container-id-2 div.sk-parallel-item::before {content: \"\";position: absolute;border-left: 1px solid gray;box-sizing: border-box;top: 0;bottom: 0;left: 50%;z-index: -1;}#sk-container-id-2 div.sk-parallel-item {display: flex;flex-direction: column;z-index: 1;position: relative;background-color: white;}#sk-container-id-2 div.sk-parallel-item:first-child::after {align-self: flex-end;width: 50%;}#sk-container-id-2 div.sk-parallel-item:last-child::after {align-self: flex-start;width: 50%;}#sk-container-id-2 div.sk-parallel-item:only-child::after {width: 0;}#sk-container-id-2 div.sk-dashed-wrapped {border: 1px dashed gray;margin: 0 0.4em 0.5em 0.4em;box-sizing: border-box;padding-bottom: 0.4em;background-color: white;}#sk-container-id-2 div.sk-label label {font-family: monospace;font-weight: bold;display: inline-block;line-height: 1.2em;}#sk-container-id-2 div.sk-label-container {text-align: center;}#sk-container-id-2 div.sk-container {/* jupyter's `normalize.less` sets `[hidden] { display: none; }` but bootstrap.min.css set `[hidden] { display: none !important; }` so we also need the `!important` here to be able to override the default hidden behavior on the sphinx rendered scikit-learn.org. See: https://github.com/scikit-learn/scikit-learn/issues/21755 */display: inline-block !important;position: relative;}#sk-container-id-2 div.sk-text-repr-fallback {display: none;}</style><div id=\"sk-container-id-2\" class=\"sk-top-container\"><div class=\"sk-text-repr-fallback\"><pre>RandomForestRegressor(max_depth=2, n_estimators=500, n_jobs=-1, random_state=0)</pre><b>In a Jupyter environment, please rerun this cell to show the HTML representation or trust the notebook. <br />On GitHub, the HTML representation is unable to render, please try loading this page with nbviewer.org.</b></div><div class=\"sk-container\" hidden><div class=\"sk-item\"><div class=\"sk-estimator sk-toggleable\"><input class=\"sk-toggleable__control sk-hidden--visually\" id=\"sk-estimator-id-2\" type=\"checkbox\" checked><label for=\"sk-estimator-id-2\" class=\"sk-toggleable__label sk-toggleable__label-arrow\">RandomForestRegressor</label><div class=\"sk-toggleable__content\"><pre>RandomForestRegressor(max_depth=2, n_estimators=500, n_jobs=-1, random_state=0)</pre></div></div></div></div></div>"
      ],
      "text/plain": [
       "RandomForestRegressor(max_depth=2, n_estimators=500, n_jobs=-1, random_state=0)"
      ]
     },
     "execution_count": 35,
     "metadata": {},
     "output_type": "execute_result"
    }
   ],
   "source": [
    "rf_reg = RandomForestRegressor(n_estimators=500, max_depth=2, random_state=0, n_jobs=-1)\n",
    "rf_reg.fit(X_train_random_split, y_train_random_split)"
   ]
  },
  {
   "cell_type": "code",
   "execution_count": 36,
   "metadata": {},
   "outputs": [],
   "source": [
    "y_pred_train = rf_reg.predict(X_train_random_split)\n",
    "y_pred_test = rf_reg.predict(X_test_random_split)"
   ]
  },
  {
   "cell_type": "code",
   "execution_count": 37,
   "metadata": {},
   "outputs": [
    {
     "name": "stdout",
     "output_type": "stream",
     "text": [
      "MSE: 1.67\n",
      "RMSE: 1.29\n",
      "MAE: 1.05\n"
     ]
    }
   ],
   "source": [
    "mse = mean_squared_error(y_test_random_split, y_pred_test)\n",
    "rmse = mean_squared_error(y_test_random_split, y_pred_test, squared=False)\n",
    "mae = mean_absolute_error(y_test_random_split, y_pred_test)\n",
    "\n",
    "print(f\"MSE: {mse:.2f}\")\n",
    "print(f\"RMSE: {rmse:.2f}\")\n",
    "print(f\"MAE: {mae:.2f}\")"
   ]
  },
  {
   "cell_type": "code",
   "execution_count": 38,
   "metadata": {},
   "outputs": [],
   "source": [
    "results.loc[3] = [\"random\", \"normal\", len(X_test.columns), mse, rmse, mae]"
   ]
  },
  {
   "cell_type": "markdown",
   "metadata": {},
   "source": [
    "###### MAE by level"
   ]
  },
  {
   "cell_type": "code",
   "execution_count": 39,
   "metadata": {},
   "outputs": [
    {
     "name": "stderr",
     "output_type": "stream",
     "text": [
      "C:\\Users\\pauli\\AppData\\Local\\Temp\\ipykernel_22244\\3659839605.py:9: UserWarning: Boolean Series key will be reindexed to match DataFrame index.\n",
      "  y_pred_test_curr = pd.DataFrame(y_pred_test)[y_test == lvl]\n"
     ]
    },
    {
     "ename": "ValueError",
     "evalue": "Found input variables with inconsistent numbers of samples: [14, 12]",
     "output_type": "error",
     "traceback": [
      "\u001b[1;31m---------------------------------------------------------------------------\u001b[0m",
      "\u001b[1;31mValueError\u001b[0m                                Traceback (most recent call last)",
      "Input \u001b[1;32mIn [39]\u001b[0m, in \u001b[0;36m<cell line: 7>\u001b[1;34m()\u001b[0m\n\u001b[0;32m      8\u001b[0m     y_test_curr \u001b[38;5;241m=\u001b[39m y_test[y_test \u001b[38;5;241m==\u001b[39m lvl]\n\u001b[0;32m      9\u001b[0m     y_pred_test_curr \u001b[38;5;241m=\u001b[39m pd\u001b[38;5;241m.\u001b[39mDataFrame(y_pred_test)[y_test \u001b[38;5;241m==\u001b[39m lvl]\n\u001b[1;32m---> 11\u001b[0m     mae \u001b[38;5;241m=\u001b[39m \u001b[43mmean_absolute_error\u001b[49m\u001b[43m(\u001b[49m\u001b[43my_test_curr\u001b[49m\u001b[43m,\u001b[49m\u001b[43m \u001b[49m\u001b[43my_pred_test_curr\u001b[49m\u001b[43m)\u001b[49m\n\u001b[0;32m     12\u001b[0m     mae_by_level\u001b[38;5;241m.\u001b[39mloc[lvl \u001b[38;5;241m+\u001b[39m \u001b[38;5;241m1\u001b[39m] \u001b[38;5;241m=\u001b[39m [lvl, mae]\n\u001b[0;32m     15\u001b[0m plt\u001b[38;5;241m.\u001b[39mfigure(figsize\u001b[38;5;241m=\u001b[39m(\u001b[38;5;241m10\u001b[39m, \u001b[38;5;241m6\u001b[39m))\n",
      "File \u001b[1;32m~\\AppData\\Local\\Programs\\Python\\Python310\\lib\\site-packages\\sklearn\\metrics\\_regression.py:196\u001b[0m, in \u001b[0;36mmean_absolute_error\u001b[1;34m(y_true, y_pred, sample_weight, multioutput)\u001b[0m\n\u001b[0;32m    141\u001b[0m \u001b[38;5;28;01mdef\u001b[39;00m \u001b[38;5;21mmean_absolute_error\u001b[39m(\n\u001b[0;32m    142\u001b[0m     y_true, y_pred, \u001b[38;5;241m*\u001b[39m, sample_weight\u001b[38;5;241m=\u001b[39m\u001b[38;5;28;01mNone\u001b[39;00m, multioutput\u001b[38;5;241m=\u001b[39m\u001b[38;5;124m\"\u001b[39m\u001b[38;5;124muniform_average\u001b[39m\u001b[38;5;124m\"\u001b[39m\n\u001b[0;32m    143\u001b[0m ):\n\u001b[0;32m    144\u001b[0m     \u001b[38;5;124;03m\"\"\"Mean absolute error regression loss.\u001b[39;00m\n\u001b[0;32m    145\u001b[0m \n\u001b[0;32m    146\u001b[0m \u001b[38;5;124;03m    Read more in the :ref:`User Guide <mean_absolute_error>`.\u001b[39;00m\n\u001b[1;32m   (...)\u001b[0m\n\u001b[0;32m    194\u001b[0m \u001b[38;5;124;03m    0.85...\u001b[39;00m\n\u001b[0;32m    195\u001b[0m \u001b[38;5;124;03m    \"\"\"\u001b[39;00m\n\u001b[1;32m--> 196\u001b[0m     y_type, y_true, y_pred, multioutput \u001b[38;5;241m=\u001b[39m \u001b[43m_check_reg_targets\u001b[49m\u001b[43m(\u001b[49m\n\u001b[0;32m    197\u001b[0m \u001b[43m        \u001b[49m\u001b[43my_true\u001b[49m\u001b[43m,\u001b[49m\u001b[43m \u001b[49m\u001b[43my_pred\u001b[49m\u001b[43m,\u001b[49m\u001b[43m \u001b[49m\u001b[43mmultioutput\u001b[49m\n\u001b[0;32m    198\u001b[0m \u001b[43m    \u001b[49m\u001b[43m)\u001b[49m\n\u001b[0;32m    199\u001b[0m     check_consistent_length(y_true, y_pred, sample_weight)\n\u001b[0;32m    200\u001b[0m     output_errors \u001b[38;5;241m=\u001b[39m np\u001b[38;5;241m.\u001b[39maverage(np\u001b[38;5;241m.\u001b[39mabs(y_pred \u001b[38;5;241m-\u001b[39m y_true), weights\u001b[38;5;241m=\u001b[39msample_weight, axis\u001b[38;5;241m=\u001b[39m\u001b[38;5;241m0\u001b[39m)\n",
      "File \u001b[1;32m~\\AppData\\Local\\Programs\\Python\\Python310\\lib\\site-packages\\sklearn\\metrics\\_regression.py:100\u001b[0m, in \u001b[0;36m_check_reg_targets\u001b[1;34m(y_true, y_pred, multioutput, dtype)\u001b[0m\n\u001b[0;32m     66\u001b[0m \u001b[38;5;28;01mdef\u001b[39;00m \u001b[38;5;21m_check_reg_targets\u001b[39m(y_true, y_pred, multioutput, dtype\u001b[38;5;241m=\u001b[39m\u001b[38;5;124m\"\u001b[39m\u001b[38;5;124mnumeric\u001b[39m\u001b[38;5;124m\"\u001b[39m):\n\u001b[0;32m     67\u001b[0m     \u001b[38;5;124;03m\"\"\"Check that y_true and y_pred belong to the same regression task.\u001b[39;00m\n\u001b[0;32m     68\u001b[0m \n\u001b[0;32m     69\u001b[0m \u001b[38;5;124;03m    Parameters\u001b[39;00m\n\u001b[1;32m   (...)\u001b[0m\n\u001b[0;32m     98\u001b[0m \u001b[38;5;124;03m        correct keyword.\u001b[39;00m\n\u001b[0;32m     99\u001b[0m \u001b[38;5;124;03m    \"\"\"\u001b[39;00m\n\u001b[1;32m--> 100\u001b[0m     \u001b[43mcheck_consistent_length\u001b[49m\u001b[43m(\u001b[49m\u001b[43my_true\u001b[49m\u001b[43m,\u001b[49m\u001b[43m \u001b[49m\u001b[43my_pred\u001b[49m\u001b[43m)\u001b[49m\n\u001b[0;32m    101\u001b[0m     y_true \u001b[38;5;241m=\u001b[39m check_array(y_true, ensure_2d\u001b[38;5;241m=\u001b[39m\u001b[38;5;28;01mFalse\u001b[39;00m, dtype\u001b[38;5;241m=\u001b[39mdtype)\n\u001b[0;32m    102\u001b[0m     y_pred \u001b[38;5;241m=\u001b[39m check_array(y_pred, ensure_2d\u001b[38;5;241m=\u001b[39m\u001b[38;5;28;01mFalse\u001b[39;00m, dtype\u001b[38;5;241m=\u001b[39mdtype)\n",
      "File \u001b[1;32m~\\AppData\\Local\\Programs\\Python\\Python310\\lib\\site-packages\\sklearn\\utils\\validation.py:397\u001b[0m, in \u001b[0;36mcheck_consistent_length\u001b[1;34m(*arrays)\u001b[0m\n\u001b[0;32m    395\u001b[0m uniques \u001b[38;5;241m=\u001b[39m np\u001b[38;5;241m.\u001b[39munique(lengths)\n\u001b[0;32m    396\u001b[0m \u001b[38;5;28;01mif\u001b[39;00m \u001b[38;5;28mlen\u001b[39m(uniques) \u001b[38;5;241m>\u001b[39m \u001b[38;5;241m1\u001b[39m:\n\u001b[1;32m--> 397\u001b[0m     \u001b[38;5;28;01mraise\u001b[39;00m \u001b[38;5;167;01mValueError\u001b[39;00m(\n\u001b[0;32m    398\u001b[0m         \u001b[38;5;124m\"\u001b[39m\u001b[38;5;124mFound input variables with inconsistent numbers of samples: \u001b[39m\u001b[38;5;132;01m%r\u001b[39;00m\u001b[38;5;124m\"\u001b[39m\n\u001b[0;32m    399\u001b[0m         \u001b[38;5;241m%\u001b[39m [\u001b[38;5;28mint\u001b[39m(l) \u001b[38;5;28;01mfor\u001b[39;00m l \u001b[38;5;129;01min\u001b[39;00m lengths]\n\u001b[0;32m    400\u001b[0m     )\n",
      "\u001b[1;31mValueError\u001b[0m: Found input variables with inconsistent numbers of samples: [14, 12]"
     ]
    }
   ],
   "source": [
    "import matplotlib.pyplot as plt\n",
    "\n",
    "y_test = y_test.reset_index(drop=True)\n",
    "level_max = y_test.max()\n",
    "\n",
    "mae_by_level = pd.DataFrame(columns=[\"level\", \"mae\"])\n",
    "for lvl in range(-1, level_max + 1):\n",
    "    y_test_curr = y_test[y_test == lvl]\n",
    "    y_pred_test_curr = pd.DataFrame(y_pred_test)[y_test == lvl]\n",
    "\n",
    "    mae = mean_absolute_error(y_test_curr, y_pred_test_curr)\n",
    "    mae_by_level.loc[lvl + 1] = [lvl, mae]\n",
    "\n",
    "\n",
    "plt.figure(figsize=(10, 6))\n",
    "plt.bar(mae_by_level[\"level\"], mae_by_level[\"mae\"])\n",
    "plt.xlabel(\"Level\")\n",
    "plt.ylabel(\"Mean Absolute Error (MAE)\")\n",
    "plt.title(\"MAE by level\")\n",
    "plt.xticks(mae_by_level[\"level\"])\n",
    "plt.show()"
   ]
  },
  {
   "cell_type": "code",
   "execution_count": null,
   "metadata": {},
   "outputs": [],
   "source": [
    "check_round_predictions([\"round\", 0.33, 0.45], y_test_random_split, y_pred_test)"
   ]
  },
  {
   "cell_type": "code",
   "execution_count": null,
   "metadata": {},
   "outputs": [],
   "source": [
    "plot_confusion_matrix(\"round\", y_pred_test, y_test_random_split)"
   ]
  },
  {
   "cell_type": "markdown",
   "metadata": {},
   "source": [
    "### Tuning"
   ]
  },
  {
   "cell_type": "code",
   "execution_count": null,
   "metadata": {},
   "outputs": [],
   "source": [
    "n_estimators = [int(x) for x in np.linspace(start=100, stop=800, num=8)]\n",
    "max_features = [0.1, 0.2, 0.3, 0.4, 0.5]\n",
    "max_depth = list(range(10, 111, 10)) + [None]\n",
    "\n",
    "hyper_params = {\n",
    "    \"n_estimators\": n_estimators,\n",
    "    \"max_features\": max_features,\n",
    "    \"max_depth\": max_depth,\n",
    "}\n",
    "\n",
    "hyper_params"
   ]
  },
  {
   "cell_type": "code",
   "execution_count": null,
   "metadata": {},
   "outputs": [],
   "source": [
    "rf = RandomForestRegressor(random_state=0, n_jobs=-1)\n",
    "\n",
    "rf_random = RandomizedSearchCV(\n",
    "    estimator=rf,\n",
    "    param_distributions=hyper_params,\n",
    "    n_iter=100,\n",
    "    scoring=\"neg_mean_absolute_error\",\n",
    "    cv=3,\n",
    "    verbose=2,\n",
    "    random_state=42,\n",
    "    return_train_score=True,\n",
    ")\n",
    "\n",
    "rf_random.fit(X_train_random_split, y_train_random_split)\n",
    "rf_random.best_params_"
   ]
  },
  {
   "cell_type": "code",
   "execution_count": null,
   "metadata": {},
   "outputs": [],
   "source": [
    "rmse, mse, mae = assess_regression_model(\n",
    "    rf_random,\n",
    "    X_train_random_split,\n",
    "    X_test_random_split,\n",
    "    y_train_random_split,\n",
    "    y_test_random_split,\n",
    ")"
   ]
  },
  {
   "cell_type": "code",
   "execution_count": null,
   "metadata": {},
   "outputs": [],
   "source": [
    "results.loc[4] = [\"random\", \"RandomizedSearchCV\", len(X_test.columns), mse, rmse, mae]"
   ]
  },
  {
   "cell_type": "markdown",
   "metadata": {},
   "source": [
    "###### MAE by level"
   ]
  },
  {
   "cell_type": "code",
   "execution_count": null,
   "metadata": {},
   "outputs": [],
   "source": [
    "import matplotlib.pyplot as plt\n",
    "\n",
    "y_test = y_test.reset_index(drop=True)\n",
    "level_max = y_test.max()\n",
    "\n",
    "mae_by_level = pd.DataFrame(columns=[\"level\", \"mae\"])\n",
    "for lvl in range(-1, level_max + 1):\n",
    "    y_test_curr = y_test[y_test == lvl]\n",
    "    y_pred_test_curr = pd.DataFrame(y_pred_test)[y_test == lvl]\n",
    "\n",
    "    mae = mean_absolute_error(y_test_curr, y_pred_test_curr)\n",
    "    mae_by_level.loc[lvl + 1] = [lvl, mae]\n",
    "\n",
    "\n",
    "plt.figure(figsize=(10, 6))\n",
    "plt.bar(mae_by_level[\"level\"], mae_by_level[\"mae\"])\n",
    "plt.xlabel(\"Level\")\n",
    "plt.ylabel(\"Mean Absolute Error (MAE)\")\n",
    "plt.title(\"MAE by level\")\n",
    "plt.xticks(mae_by_level[\"level\"])\n",
    "plt.show()"
   ]
  },
  {
   "cell_type": "markdown",
   "metadata": {},
   "source": [
    "### Attempt to decrease overfitting\n",
    "Change max_depth to 13"
   ]
  },
  {
   "cell_type": "code",
   "execution_count": null,
   "metadata": {},
   "outputs": [],
   "source": [
    "rf = RandomForestRegressor(\n",
    "    random_state=0, n_jobs=-1, n_estimators=200, max_features=0.5, max_depth=13\n",
    ")\n",
    "rf.fit(X_train_random_split, y_train_random_split)\n",
    "rmse, mse, mae = assess_regression_model(\n",
    "    rf,\n",
    "    X_train_random_split,\n",
    "    X_test_random_split,\n",
    "    y_train_random_split,\n",
    "    y_test_random_split,\n",
    ")"
   ]
  },
  {
   "cell_type": "code",
   "execution_count": null,
   "metadata": {},
   "outputs": [],
   "source": [
    "results.loc[5] = [\n",
    "    \"random\",\n",
    "    \"minimalise_overfitting\",\n",
    "    len(X_test.columns),\n",
    "    mse,\n",
    "    rmse,\n",
    "    mae,\n",
    "]"
   ]
  },
  {
   "cell_type": "markdown",
   "metadata": {},
   "source": [
    "###### MAE by level"
   ]
  },
  {
   "cell_type": "code",
   "execution_count": null,
   "metadata": {},
   "outputs": [],
   "source": [
    "import matplotlib.pyplot as plt\n",
    "\n",
    "y_test = y_test.reset_index(drop=True)\n",
    "level_max = y_test.max()\n",
    "\n",
    "mae_by_level = pd.DataFrame(columns=[\"level\", \"mae\"])\n",
    "for lvl in range(-1, level_max + 1):\n",
    "    y_test_curr = y_test[y_test == lvl]\n",
    "    y_pred_test_curr = pd.DataFrame(y_pred_test)[y_test == lvl]\n",
    "\n",
    "    mae = mean_absolute_error(y_test_curr, y_pred_test_curr)\n",
    "    mae_by_level.loc[lvl + 1] = [lvl, mae]\n",
    "\n",
    "\n",
    "plt.figure(figsize=(10, 6))\n",
    "plt.bar(mae_by_level[\"level\"], mae_by_level[\"mae\"])\n",
    "plt.xlabel(\"Level\")\n",
    "plt.ylabel(\"Mean Absolute Error (MAE)\")\n",
    "plt.title(\"MAE by level\")\n",
    "plt.xticks(mae_by_level[\"level\"])\n",
    "plt.show()"
   ]
  },
  {
   "cell_type": "markdown",
   "metadata": {},
   "source": [
    "Check rounded predictions"
   ]
  },
  {
   "cell_type": "code",
   "execution_count": null,
   "metadata": {},
   "outputs": [],
   "source": [
    "predict_random_split = rf.predict(X_test_random_split)\n",
    "\n",
    "check_round_predictions(\n",
    "    [\"round\", 0.33, 0.45], y_test_random_split, predict_random_split\n",
    ")"
   ]
  },
  {
   "cell_type": "code",
   "execution_count": null,
   "metadata": {},
   "outputs": [],
   "source": [
    "plot_confusion_matrix(\"round\", predict_random_split, y_test_random_split)"
   ]
  },
  {
   "cell_type": "code",
   "execution_count": null,
   "metadata": {},
   "outputs": [],
   "source": [
    "plot_confusion_matrix(0.33, predict_random_split, y_test_random_split)"
   ]
  },
  {
   "cell_type": "markdown",
   "metadata": {},
   "source": [
    "## Summary"
   ]
  },
  {
   "cell_type": "code",
   "execution_count": null,
   "metadata": {},
   "outputs": [],
   "source": [
    "results"
   ]
  },
  {
   "cell_type": "code",
   "execution_count": null,
   "metadata": {},
   "outputs": [],
   "source": [
    "from training.results import plot_summary"
   ]
  },
  {
   "cell_type": "code",
   "execution_count": null,
   "metadata": {},
   "outputs": [],
   "source": [
    "plot_summary(results, \"MSE\")"
   ]
  },
  {
   "cell_type": "code",
   "execution_count": null,
   "metadata": {},
   "outputs": [],
   "source": [
    "plot_summary(results, \"RMSE\")"
   ]
  },
  {
   "cell_type": "code",
   "execution_count": null,
   "metadata": {},
   "outputs": [],
   "source": [
    "plot_summary(results, \"MAE\")"
   ]
  },
  {
   "cell_type": "code",
   "execution_count": null,
   "metadata": {},
   "outputs": [],
   "source": [
    "results.to_json(\"./random_forest_basic_results.json\")"
   ]
  },
  {
   "cell_type": "code",
   "execution_count": null,
   "metadata": {},
   "outputs": [],
   "source": []
  }
 ],
 "metadata": {
  "kernelspec": {
   "display_name": "Python 3 (ipykernel)",
   "language": "python",
   "name": "python3"
  },
  "language_info": {
   "codemirror_mode": {
    "name": "ipython",
    "version": 3
   },
   "file_extension": ".py",
   "mimetype": "text/x-python",
   "name": "python",
   "nbconvert_exporter": "python",
   "pygments_lexer": "ipython3",
   "version": "3.10.4"
  }
 },
 "nbformat": 4,
 "nbformat_minor": 1
}
