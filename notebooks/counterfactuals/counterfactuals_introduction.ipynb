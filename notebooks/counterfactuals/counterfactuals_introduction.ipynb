{
 "cells": [
  {
   "cell_type": "markdown",
   "source": [
    "# Counterfactuals\n",
    "## Current model"
   ],
   "metadata": {
    "collapsed": false
   }
  },
  {
   "cell_type": "markdown",
   "source": [
    "### Load current model"
   ],
   "metadata": {
    "collapsed": false
   }
  },
  {
   "cell_type": "code",
   "execution_count": 1,
   "metadata": {
    "collapsed": true
   },
   "outputs": [],
   "source": [
    "import joblib\n",
    "\n",
    "\n",
    "model = joblib.load(filename=\"../../saved_models/current_model.pkl\")"
   ]
  },
  {
   "cell_type": "markdown",
   "source": [
    "### Load dataset"
   ],
   "metadata": {
    "collapsed": false
   }
  },
  {
   "cell_type": "code",
   "execution_count": 2,
   "outputs": [],
   "source": [
    "import numpy as np\n",
    "import pandas as pd\n",
    "import sys\n",
    "\n",
    "import os\n",
    "import pathlib\n",
    "\n",
    "sys.path.append(\"../..\")\n",
    "from training.creating_dataset import load_and_preprocess_data\n",
    "\n",
    "current_path = os.getcwd()\n",
    "DATASETS_DIR = pathlib.Path(current_path).parent.parent / \"pathfinder_2e_data\"\n",
    "DATASET_FILES = [\n",
    "    \"pathfinder-bestiary.db\",\n",
    "    \"pathfinder-bestiary-2.db\",\n",
    "    \"pathfinder-bestiary-3.db\",\n",
    "]\n",
    "DATASET_PATHS = [f\"{DATASETS_DIR}/{file}\" for file in DATASET_FILES]\n",
    "characteristics = [\n",
    "    \"cha\",\n",
    "    \"con\",\n",
    "    \"dex\",\n",
    "    \"int\",\n",
    "    \"str\",\n",
    "    \"wis\",\n",
    "    \"ac\",\n",
    "    \"hp\",\n",
    "]\n",
    "\n",
    "df = load_and_preprocess_data(\n",
    "    DATASET_PATHS,\n",
    "    characteristics=[\n",
    "        \"cha\",\n",
    "        \"con\",\n",
    "        \"dex\",\n",
    "        \"int\",\n",
    "        \"str\",\n",
    "        \"wis\",\n",
    "        \"ac\",\n",
    "        \"hp\",\n",
    "    ],\n",
    ")"
   ],
   "metadata": {
    "collapsed": false
   }
  },
  {
   "cell_type": "code",
   "execution_count": 3,
   "outputs": [
    {
     "data": {
      "text/plain": "   dex   hp  ac  cha  con  str  wis                 book  int  level\n0    2  215  29    1    5    7    2  Pathfinder Bestiary    1     10\n1    0  220  28    1    5    9    2  Pathfinder Bestiary   -4     10\n2    3  175  25   -2    6    7    3  Pathfinder Bestiary   -4      8\n3    4  315  41    6    5    7    5  Pathfinder Bestiary    6     17\n4    3   20  16    1    1   -5    1  Pathfinder Bestiary   -1      1",
      "text/html": "<div>\n<style scoped>\n    .dataframe tbody tr th:only-of-type {\n        vertical-align: middle;\n    }\n\n    .dataframe tbody tr th {\n        vertical-align: top;\n    }\n\n    .dataframe thead th {\n        text-align: right;\n    }\n</style>\n<table border=\"1\" class=\"dataframe\">\n  <thead>\n    <tr style=\"text-align: right;\">\n      <th></th>\n      <th>dex</th>\n      <th>hp</th>\n      <th>ac</th>\n      <th>cha</th>\n      <th>con</th>\n      <th>str</th>\n      <th>wis</th>\n      <th>book</th>\n      <th>int</th>\n      <th>level</th>\n    </tr>\n  </thead>\n  <tbody>\n    <tr>\n      <th>0</th>\n      <td>2</td>\n      <td>215</td>\n      <td>29</td>\n      <td>1</td>\n      <td>5</td>\n      <td>7</td>\n      <td>2</td>\n      <td>Pathfinder Bestiary</td>\n      <td>1</td>\n      <td>10</td>\n    </tr>\n    <tr>\n      <th>1</th>\n      <td>0</td>\n      <td>220</td>\n      <td>28</td>\n      <td>1</td>\n      <td>5</td>\n      <td>9</td>\n      <td>2</td>\n      <td>Pathfinder Bestiary</td>\n      <td>-4</td>\n      <td>10</td>\n    </tr>\n    <tr>\n      <th>2</th>\n      <td>3</td>\n      <td>175</td>\n      <td>25</td>\n      <td>-2</td>\n      <td>6</td>\n      <td>7</td>\n      <td>3</td>\n      <td>Pathfinder Bestiary</td>\n      <td>-4</td>\n      <td>8</td>\n    </tr>\n    <tr>\n      <th>3</th>\n      <td>4</td>\n      <td>315</td>\n      <td>41</td>\n      <td>6</td>\n      <td>5</td>\n      <td>7</td>\n      <td>5</td>\n      <td>Pathfinder Bestiary</td>\n      <td>6</td>\n      <td>17</td>\n    </tr>\n    <tr>\n      <th>4</th>\n      <td>3</td>\n      <td>20</td>\n      <td>16</td>\n      <td>1</td>\n      <td>1</td>\n      <td>-5</td>\n      <td>1</td>\n      <td>Pathfinder Bestiary</td>\n      <td>-1</td>\n      <td>1</td>\n    </tr>\n  </tbody>\n</table>\n</div>"
     },
     "execution_count": 3,
     "metadata": {},
     "output_type": "execute_result"
    }
   ],
   "source": [
    "df.head()"
   ],
   "metadata": {
    "collapsed": false
   }
  },
  {
   "cell_type": "code",
   "execution_count": 4,
   "outputs": [],
   "source": [
    "from serving.backend.constants import ORDERED_CHARACTERISTICS\n",
    "\n",
    "\n",
    "df = df[ORDERED_CHARACTERISTICS + [\"book\", \"level\"]]"
   ],
   "metadata": {
    "collapsed": false
   }
  },
  {
   "cell_type": "code",
   "execution_count": 5,
   "outputs": [
    {
     "data": {
      "text/plain": "   str  dex  con  int  wis  cha  ac   hp                 book  level\n0    7    2    5    1    2    1  29  215  Pathfinder Bestiary     10\n1    9    0    5   -4    2    1  28  220  Pathfinder Bestiary     10\n2    7    3    6   -4    3   -2  25  175  Pathfinder Bestiary      8\n3    7    4    5    6    5    6  41  315  Pathfinder Bestiary     17\n4   -5    3    1   -1    1    1  16   20  Pathfinder Bestiary      1",
      "text/html": "<div>\n<style scoped>\n    .dataframe tbody tr th:only-of-type {\n        vertical-align: middle;\n    }\n\n    .dataframe tbody tr th {\n        vertical-align: top;\n    }\n\n    .dataframe thead th {\n        text-align: right;\n    }\n</style>\n<table border=\"1\" class=\"dataframe\">\n  <thead>\n    <tr style=\"text-align: right;\">\n      <th></th>\n      <th>str</th>\n      <th>dex</th>\n      <th>con</th>\n      <th>int</th>\n      <th>wis</th>\n      <th>cha</th>\n      <th>ac</th>\n      <th>hp</th>\n      <th>book</th>\n      <th>level</th>\n    </tr>\n  </thead>\n  <tbody>\n    <tr>\n      <th>0</th>\n      <td>7</td>\n      <td>2</td>\n      <td>5</td>\n      <td>1</td>\n      <td>2</td>\n      <td>1</td>\n      <td>29</td>\n      <td>215</td>\n      <td>Pathfinder Bestiary</td>\n      <td>10</td>\n    </tr>\n    <tr>\n      <th>1</th>\n      <td>9</td>\n      <td>0</td>\n      <td>5</td>\n      <td>-4</td>\n      <td>2</td>\n      <td>1</td>\n      <td>28</td>\n      <td>220</td>\n      <td>Pathfinder Bestiary</td>\n      <td>10</td>\n    </tr>\n    <tr>\n      <th>2</th>\n      <td>7</td>\n      <td>3</td>\n      <td>6</td>\n      <td>-4</td>\n      <td>3</td>\n      <td>-2</td>\n      <td>25</td>\n      <td>175</td>\n      <td>Pathfinder Bestiary</td>\n      <td>8</td>\n    </tr>\n    <tr>\n      <th>3</th>\n      <td>7</td>\n      <td>4</td>\n      <td>5</td>\n      <td>6</td>\n      <td>5</td>\n      <td>6</td>\n      <td>41</td>\n      <td>315</td>\n      <td>Pathfinder Bestiary</td>\n      <td>17</td>\n    </tr>\n    <tr>\n      <th>4</th>\n      <td>-5</td>\n      <td>3</td>\n      <td>1</td>\n      <td>-1</td>\n      <td>1</td>\n      <td>1</td>\n      <td>16</td>\n      <td>20</td>\n      <td>Pathfinder Bestiary</td>\n      <td>1</td>\n    </tr>\n  </tbody>\n</table>\n</div>"
     },
     "execution_count": 5,
     "metadata": {},
     "output_type": "execute_result"
    }
   ],
   "source": [
    "df.head()"
   ],
   "metadata": {
    "collapsed": false
   }
  },
  {
   "cell_type": "markdown",
   "source": [
    "### Counterfactuals"
   ],
   "metadata": {
    "collapsed": false
   }
  },
  {
   "cell_type": "code",
   "execution_count": 6,
   "outputs": [],
   "source": [
    "dataset = df.drop(columns=[\"book\"])\n",
    "continuous_features = dataset.drop(columns=[\"level\"]).columns.tolist()"
   ],
   "metadata": {
    "collapsed": false
   }
  },
  {
   "cell_type": "code",
   "execution_count": 7,
   "outputs": [
    {
     "data": {
      "text/plain": "['str', 'dex', 'con', 'int', 'wis', 'cha', 'ac', 'hp']"
     },
     "execution_count": 7,
     "metadata": {},
     "output_type": "execute_result"
    }
   ],
   "source": [
    "continuous_features"
   ],
   "metadata": {
    "collapsed": false
   }
  },
  {
   "cell_type": "code",
   "execution_count": 8,
   "outputs": [
    {
     "data": {
      "text/plain": "   str  dex  con  int  wis  cha  ac   hp  level\n0    7    2    5    1    2    1  29  215     10\n1    9    0    5   -4    2    1  28  220     10\n2    7    3    6   -4    3   -2  25  175      8\n3    7    4    5    6    5    6  41  315     17\n4   -5    3    1   -1    1    1  16   20      1",
      "text/html": "<div>\n<style scoped>\n    .dataframe tbody tr th:only-of-type {\n        vertical-align: middle;\n    }\n\n    .dataframe tbody tr th {\n        vertical-align: top;\n    }\n\n    .dataframe thead th {\n        text-align: right;\n    }\n</style>\n<table border=\"1\" class=\"dataframe\">\n  <thead>\n    <tr style=\"text-align: right;\">\n      <th></th>\n      <th>str</th>\n      <th>dex</th>\n      <th>con</th>\n      <th>int</th>\n      <th>wis</th>\n      <th>cha</th>\n      <th>ac</th>\n      <th>hp</th>\n      <th>level</th>\n    </tr>\n  </thead>\n  <tbody>\n    <tr>\n      <th>0</th>\n      <td>7</td>\n      <td>2</td>\n      <td>5</td>\n      <td>1</td>\n      <td>2</td>\n      <td>1</td>\n      <td>29</td>\n      <td>215</td>\n      <td>10</td>\n    </tr>\n    <tr>\n      <th>1</th>\n      <td>9</td>\n      <td>0</td>\n      <td>5</td>\n      <td>-4</td>\n      <td>2</td>\n      <td>1</td>\n      <td>28</td>\n      <td>220</td>\n      <td>10</td>\n    </tr>\n    <tr>\n      <th>2</th>\n      <td>7</td>\n      <td>3</td>\n      <td>6</td>\n      <td>-4</td>\n      <td>3</td>\n      <td>-2</td>\n      <td>25</td>\n      <td>175</td>\n      <td>8</td>\n    </tr>\n    <tr>\n      <th>3</th>\n      <td>7</td>\n      <td>4</td>\n      <td>5</td>\n      <td>6</td>\n      <td>5</td>\n      <td>6</td>\n      <td>41</td>\n      <td>315</td>\n      <td>17</td>\n    </tr>\n    <tr>\n      <th>4</th>\n      <td>-5</td>\n      <td>3</td>\n      <td>1</td>\n      <td>-1</td>\n      <td>1</td>\n      <td>1</td>\n      <td>16</td>\n      <td>20</td>\n      <td>1</td>\n    </tr>\n  </tbody>\n</table>\n</div>"
     },
     "execution_count": 8,
     "metadata": {},
     "output_type": "execute_result"
    }
   ],
   "source": [
    "dataset.head()"
   ],
   "metadata": {
    "collapsed": false
   }
  },
  {
   "cell_type": "code",
   "execution_count": 9,
   "outputs": [
    {
     "name": "stderr",
     "output_type": "stream",
     "text": [
      "C:\\Users\\jolka\\OneDrive\\Dokumenty\\Inzynierka\\ML-for-TTRPG-game-design\\venv\\lib\\site-packages\\dice_ml\\utils\\exception.py:12: UserWarning: UserConfigValidationException will be deprecated from dice_ml.utils. Please import UserConfigValidationException from raiutils.exceptions.\n",
      "  warnings.warn(\"UserConfigValidationException will be deprecated from dice_ml.utils. \"\n"
     ]
    }
   ],
   "source": [
    "# dice imports\n",
    "import dice_ml\n",
    "from dice_ml import Dice"
   ],
   "metadata": {
    "collapsed": false
   }
  },
  {
   "cell_type": "code",
   "execution_count": 10,
   "outputs": [],
   "source": [
    "d = dice_ml.Data(\n",
    "    dataframe=dataset, continuous_features=continuous_features, outcome_name=\"level\"\n",
    ")\n",
    "\n",
    "m = dice_ml.Model(model=model, backend=\"sklearn\", model_type=\"regressor\")"
   ],
   "metadata": {
    "collapsed": false
   }
  },
  {
   "cell_type": "code",
   "execution_count": 17,
   "outputs": [],
   "source": [
    "exp = Dice(d, m, method=\"kdtree\")"
   ],
   "metadata": {
    "collapsed": false
   }
  },
  {
   "cell_type": "code",
   "execution_count": 13,
   "outputs": [
    {
     "data": {
      "text/plain": "    str  dex  con  int  wis  cha  ac  hp\n10    3    2    2   -4    1   -1  17  17",
      "text/html": "<div>\n<style scoped>\n    .dataframe tbody tr th:only-of-type {\n        vertical-align: middle;\n    }\n\n    .dataframe tbody tr th {\n        vertical-align: top;\n    }\n\n    .dataframe thead th {\n        text-align: right;\n    }\n</style>\n<table border=\"1\" class=\"dataframe\">\n  <thead>\n    <tr style=\"text-align: right;\">\n      <th></th>\n      <th>str</th>\n      <th>dex</th>\n      <th>con</th>\n      <th>int</th>\n      <th>wis</th>\n      <th>cha</th>\n      <th>ac</th>\n      <th>hp</th>\n    </tr>\n  </thead>\n  <tbody>\n    <tr>\n      <th>10</th>\n      <td>3</td>\n      <td>2</td>\n      <td>2</td>\n      <td>-4</td>\n      <td>1</td>\n      <td>-1</td>\n      <td>17</td>\n      <td>17</td>\n    </tr>\n  </tbody>\n</table>\n</div>"
     },
     "execution_count": 13,
     "metadata": {},
     "output_type": "execute_result"
    }
   ],
   "source": [
    "sys.path.append(\"../../serving/backend\")\n",
    "from serving.backend.calculate_level import calculate_level\n",
    "\n",
    "\n",
    "query = dataset.drop(columns=[\"level\"])[10:11]\n",
    "query_dict = query.loc[10].to_dict()\n",
    "query"
   ],
   "metadata": {
    "collapsed": false
   }
  },
  {
   "cell_type": "code",
   "execution_count": 14,
   "outputs": [
    {
     "data": {
      "text/plain": "str       3\ndex       2\ncon       2\nint      -4\nwis       1\ncha      -1\nac       17\nhp       17\nlevel     1\nName: 10, dtype: int64"
     },
     "execution_count": 14,
     "metadata": {},
     "output_type": "execute_result"
    }
   ],
   "source": [
    "dataset.loc[10]"
   ],
   "metadata": {
    "collapsed": false
   }
  },
  {
   "cell_type": "code",
   "execution_count": 15,
   "outputs": [
    {
     "data": {
      "text/plain": "1"
     },
     "execution_count": 15,
     "metadata": {},
     "output_type": "execute_result"
    }
   ],
   "source": [
    "level = calculate_level(monster_stats=query_dict, model=model)\n",
    "level"
   ],
   "metadata": {
    "collapsed": false
   }
  },
  {
   "cell_type": "code",
   "execution_count": 18,
   "outputs": [
    {
     "name": "stderr",
     "output_type": "stream",
     "text": [
      "100%|██████████| 1/1 [00:00<00:00,  1.36it/s]"
     ]
    },
    {
     "name": "stdout",
     "output_type": "stream",
     "text": [
      "Diverse Counterfactuals found! total time taken: 00 min 00 sec\n"
     ]
    },
    {
     "name": "stderr",
     "output_type": "stream",
     "text": [
      "\n"
     ]
    }
   ],
   "source": [
    "genetic = exp.generate_counterfactuals(\n",
    "    query, total_CFs=5, desired_range=[-0.67, 0.33], verbose=True\n",
    ")"
   ],
   "metadata": {
    "collapsed": false
   }
  },
  {
   "cell_type": "code",
   "execution_count": 19,
   "outputs": [
    {
     "name": "stdout",
     "output_type": "stream",
     "text": [
      "Query instance (original outcome : 1)\n"
     ]
    },
    {
     "data": {
      "text/plain": "   str  dex  con  int  wis  cha  ac  hp     level\n0    3    2    2   -4    1   -1  17  17  1.000145",
      "text/html": "<div>\n<style scoped>\n    .dataframe tbody tr th:only-of-type {\n        vertical-align: middle;\n    }\n\n    .dataframe tbody tr th {\n        vertical-align: top;\n    }\n\n    .dataframe thead th {\n        text-align: right;\n    }\n</style>\n<table border=\"1\" class=\"dataframe\">\n  <thead>\n    <tr style=\"text-align: right;\">\n      <th></th>\n      <th>str</th>\n      <th>dex</th>\n      <th>con</th>\n      <th>int</th>\n      <th>wis</th>\n      <th>cha</th>\n      <th>ac</th>\n      <th>hp</th>\n      <th>level</th>\n    </tr>\n  </thead>\n  <tbody>\n    <tr>\n      <th>0</th>\n      <td>3</td>\n      <td>2</td>\n      <td>2</td>\n      <td>-4</td>\n      <td>1</td>\n      <td>-1</td>\n      <td>17</td>\n      <td>17</td>\n      <td>1.000145</td>\n    </tr>\n  </tbody>\n</table>\n</div>"
     },
     "metadata": {},
     "output_type": "display_data"
    },
    {
     "name": "stdout",
     "output_type": "stream",
     "text": [
      "\n",
      "Diverse Counterfactual set (new outcome: [-0.67, 0.33])\n"
     ]
    },
    {
     "data": {
      "text/plain": "      str  dex  con   int  wis  cha    ac    hp                    level\n1155    -    -  3.0     -    -  1.0  15.0  18.0   -6.624720117542893e-05\n1010    -    -    -  -5.0  2.0  0.0  16.0  15.0   2.3886730559752323e-05\n248     -    -  3.0     -  2.0  0.0  14.0  16.0   0.00014299523900263011\n284     -    -  3.0  -1.0    -  0.0  15.0  15.0  -0.00015228852862492204\n518   2.0  3.0    -     -  3.0  0.0  15.0  16.0    0.0001631952472962439",
      "text/html": "<div>\n<style scoped>\n    .dataframe tbody tr th:only-of-type {\n        vertical-align: middle;\n    }\n\n    .dataframe tbody tr th {\n        vertical-align: top;\n    }\n\n    .dataframe thead th {\n        text-align: right;\n    }\n</style>\n<table border=\"1\" class=\"dataframe\">\n  <thead>\n    <tr style=\"text-align: right;\">\n      <th></th>\n      <th>str</th>\n      <th>dex</th>\n      <th>con</th>\n      <th>int</th>\n      <th>wis</th>\n      <th>cha</th>\n      <th>ac</th>\n      <th>hp</th>\n      <th>level</th>\n    </tr>\n  </thead>\n  <tbody>\n    <tr>\n      <th>1155</th>\n      <td>-</td>\n      <td>-</td>\n      <td>3.0</td>\n      <td>-</td>\n      <td>-</td>\n      <td>1.0</td>\n      <td>15.0</td>\n      <td>18.0</td>\n      <td>-6.624720117542893e-05</td>\n    </tr>\n    <tr>\n      <th>1010</th>\n      <td>-</td>\n      <td>-</td>\n      <td>-</td>\n      <td>-5.0</td>\n      <td>2.0</td>\n      <td>0.0</td>\n      <td>16.0</td>\n      <td>15.0</td>\n      <td>2.3886730559752323e-05</td>\n    </tr>\n    <tr>\n      <th>248</th>\n      <td>-</td>\n      <td>-</td>\n      <td>3.0</td>\n      <td>-</td>\n      <td>2.0</td>\n      <td>0.0</td>\n      <td>14.0</td>\n      <td>16.0</td>\n      <td>0.00014299523900263011</td>\n    </tr>\n    <tr>\n      <th>284</th>\n      <td>-</td>\n      <td>-</td>\n      <td>3.0</td>\n      <td>-1.0</td>\n      <td>-</td>\n      <td>0.0</td>\n      <td>15.0</td>\n      <td>15.0</td>\n      <td>-0.00015228852862492204</td>\n    </tr>\n    <tr>\n      <th>518</th>\n      <td>2.0</td>\n      <td>3.0</td>\n      <td>-</td>\n      <td>-</td>\n      <td>3.0</td>\n      <td>0.0</td>\n      <td>15.0</td>\n      <td>16.0</td>\n      <td>0.0001631952472962439</td>\n    </tr>\n  </tbody>\n</table>\n</div>"
     },
     "metadata": {},
     "output_type": "display_data"
    }
   ],
   "source": [
    "genetic.visualize_as_dataframe(show_only_changes=True)"
   ],
   "metadata": {
    "collapsed": false
   }
  },
  {
   "cell_type": "code",
   "execution_count": 20,
   "outputs": [],
   "source": [
    "js = genetic.to_json()"
   ],
   "metadata": {
    "collapsed": false
   }
  },
  {
   "cell_type": "code",
   "execution_count": 21,
   "outputs": [
    {
     "data": {
      "text/plain": "'{\"test_data\": [[[3.0, 2.0, 2.0, -4.0, 1.0, -1.0, 17.0, 17.0, 1.0001450258428668]]], \"cfs_list\": [[[3.0, 2.0, 3.0, -4.0, 1.0, 1.0, 15.0, 18.0, -6.624720117542893e-05], [3.0, 2.0, 2.0, -5.0, 2.0, 0.0, 16.0, 15.0, 2.3886730559752323e-05], [3.0, 2.0, 3.0, -4.0, 2.0, 0.0, 14.0, 16.0, 0.00014299523900263011], [3.0, 2.0, 3.0, -1.0, 1.0, 0.0, 15.0, 15.0, -0.00015228852862492204], [2.0, 3.0, 2.0, -4.0, 3.0, 0.0, 15.0, 16.0, 0.0001631952472962439]]], \"local_importance\": null, \"summary_importance\": null, \"data_interface\": {\"outcome_name\": \"level\", \"data_df\": \"dummy_data\"}, \"feature_names\": [\"str\", \"dex\", \"con\", \"int\", \"wis\", \"cha\", \"ac\", \"hp\"], \"feature_names_including_target\": [\"str\", \"dex\", \"con\", \"int\", \"wis\", \"cha\", \"ac\", \"hp\", \"level\"], \"model_type\": \"regressor\", \"desired_class\": \"opposite\", \"desired_range\": [-0.67, 0.33], \"metadata\": {\"version\": \"2.0\"}}'"
     },
     "execution_count": 21,
     "metadata": {},
     "output_type": "execute_result"
    }
   ],
   "source": [
    "js"
   ],
   "metadata": {
    "collapsed": false
   }
  },
  {
   "cell_type": "code",
   "execution_count": 22,
   "outputs": [
    {
     "data": {
      "text/plain": "      str  dex  con  int  wis  cha    ac    hp\n1155  3.0  2.0  3.0 -4.0  1.0  1.0  15.0  18.0\n1010  3.0  2.0  2.0 -5.0  2.0  0.0  16.0  15.0\n248   3.0  2.0  3.0 -4.0  2.0  0.0  14.0  16.0\n284   3.0  2.0  3.0 -1.0  1.0  0.0  15.0  15.0\n518   2.0  3.0  2.0 -4.0  3.0  0.0  15.0  16.0",
      "text/html": "<div>\n<style scoped>\n    .dataframe tbody tr th:only-of-type {\n        vertical-align: middle;\n    }\n\n    .dataframe tbody tr th {\n        vertical-align: top;\n    }\n\n    .dataframe thead th {\n        text-align: right;\n    }\n</style>\n<table border=\"1\" class=\"dataframe\">\n  <thead>\n    <tr style=\"text-align: right;\">\n      <th></th>\n      <th>str</th>\n      <th>dex</th>\n      <th>con</th>\n      <th>int</th>\n      <th>wis</th>\n      <th>cha</th>\n      <th>ac</th>\n      <th>hp</th>\n    </tr>\n  </thead>\n  <tbody>\n    <tr>\n      <th>1155</th>\n      <td>3.0</td>\n      <td>2.0</td>\n      <td>3.0</td>\n      <td>-4.0</td>\n      <td>1.0</td>\n      <td>1.0</td>\n      <td>15.0</td>\n      <td>18.0</td>\n    </tr>\n    <tr>\n      <th>1010</th>\n      <td>3.0</td>\n      <td>2.0</td>\n      <td>2.0</td>\n      <td>-5.0</td>\n      <td>2.0</td>\n      <td>0.0</td>\n      <td>16.0</td>\n      <td>15.0</td>\n    </tr>\n    <tr>\n      <th>248</th>\n      <td>3.0</td>\n      <td>2.0</td>\n      <td>3.0</td>\n      <td>-4.0</td>\n      <td>2.0</td>\n      <td>0.0</td>\n      <td>14.0</td>\n      <td>16.0</td>\n    </tr>\n    <tr>\n      <th>284</th>\n      <td>3.0</td>\n      <td>2.0</td>\n      <td>3.0</td>\n      <td>-1.0</td>\n      <td>1.0</td>\n      <td>0.0</td>\n      <td>15.0</td>\n      <td>15.0</td>\n    </tr>\n    <tr>\n      <th>518</th>\n      <td>2.0</td>\n      <td>3.0</td>\n      <td>2.0</td>\n      <td>-4.0</td>\n      <td>3.0</td>\n      <td>0.0</td>\n      <td>15.0</td>\n      <td>16.0</td>\n    </tr>\n  </tbody>\n</table>\n</div>"
     },
     "execution_count": 22,
     "metadata": {},
     "output_type": "execute_result"
    }
   ],
   "source": [
    "genetic.cf_examples_list[0].final_cfs_df"
   ],
   "metadata": {
    "collapsed": false
   }
  },
  {
   "cell_type": "code",
   "execution_count": 23,
   "outputs": [],
   "source": [
    "import json\n",
    "\n",
    "\n",
    "cfs_list = json.loads(js)[\"cfs_list\"][0]"
   ],
   "metadata": {
    "collapsed": false
   }
  },
  {
   "cell_type": "code",
   "execution_count": 24,
   "outputs": [
    {
     "data": {
      "text/plain": "[[3.0, 2.0, 3.0, -4.0, 1.0, 1.0, 15.0, 18.0, -6.624720117542893e-05],\n [3.0, 2.0, 2.0, -5.0, 2.0, 0.0, 16.0, 15.0, 2.3886730559752323e-05],\n [3.0, 2.0, 3.0, -4.0, 2.0, 0.0, 14.0, 16.0, 0.00014299523900263011],\n [3.0, 2.0, 3.0, -1.0, 1.0, 0.0, 15.0, 15.0, -0.00015228852862492204],\n [2.0, 3.0, 2.0, -4.0, 3.0, 0.0, 15.0, 16.0, 0.0001631952472962439]]"
     },
     "execution_count": 24,
     "metadata": {},
     "output_type": "execute_result"
    }
   ],
   "source": [
    "cfs_list"
   ],
   "metadata": {
    "collapsed": false
   }
  },
  {
   "cell_type": "code",
   "execution_count": 25,
   "outputs": [
    {
     "data": {
      "text/plain": "[[2.0, 3.0, 2.0, -4.0, 3.0, 0.0, 15.0, 16.0, 0.0001631952472962439],\n [3.0, 2.0, 3.0, -1.0, 1.0, 0.0, 15.0, 15.0, -0.00015228852862492204],\n [3.0, 2.0, 3.0, -4.0, 2.0, 0.0, 14.0, 16.0, 0.00014299523900263011],\n [3.0, 2.0, 3.0, -4.0, 1.0, 1.0, 15.0, 18.0, -6.624720117542893e-05],\n [3.0, 2.0, 2.0, -5.0, 2.0, 0.0, 16.0, 15.0, 2.3886730559752323e-05]]"
     },
     "execution_count": 25,
     "metadata": {},
     "output_type": "execute_result"
    }
   ],
   "source": [
    "sorted(cfs_list, key=lambda x: abs(0 - x[-1]), reverse=True)"
   ],
   "metadata": {
    "collapsed": false
   }
  },
  {
   "cell_type": "code",
   "execution_count": 26,
   "outputs": [
    {
     "name": "stdout",
     "output_type": "stream",
     "text": [
      "[3.0, 2.0, 3.0, -4.0, 1.0, 1.0, 15.0, 18.0]\n",
      "[-6.62472027e-05]\n",
      "[3.0, 2.0, 2.0, -5.0, 2.0, 0.0, 16.0, 15.0]\n",
      "[2.38867297e-05]\n",
      "[3.0, 2.0, 3.0, -4.0, 2.0, 0.0, 14.0, 16.0]\n",
      "[0.000143]\n",
      "[3.0, 2.0, 3.0, -1.0, 1.0, 0.0, 15.0, 15.0]\n",
      "[-0.00015229]\n",
      "[2.0, 3.0, 2.0, -4.0, 3.0, 0.0, 15.0, 16.0]\n",
      "[0.0001632]\n"
     ]
    }
   ],
   "source": [
    "prev_diff = 0\n",
    "for cf in cfs_list:\n",
    "    cf_monster_stats = pd.DataFrame(\n",
    "        data={char: [cf[i]] for i, char in enumerate(ORDERED_CHARACTERISTICS)}\n",
    "    )\n",
    "    print(cf[:-1])\n",
    "    print(model.predict(cf_monster_stats))\n",
    "    assert prev_diff <= abs(0 - model.predict(cf_monster_stats))"
   ],
   "metadata": {
    "collapsed": false
   }
  },
  {
   "cell_type": "code",
   "execution_count": null,
   "outputs": [],
   "source": [],
   "metadata": {
    "collapsed": false
   }
  }
 ],
 "metadata": {
  "kernelspec": {
   "display_name": "Python 3",
   "language": "python",
   "name": "python3"
  },
  "language_info": {
   "codemirror_mode": {
    "name": "ipython",
    "version": 2
   },
   "file_extension": ".py",
   "mimetype": "text/x-python",
   "name": "python",
   "nbconvert_exporter": "python",
   "pygments_lexer": "ipython2",
   "version": "2.7.6"
  }
 },
 "nbformat": 4,
 "nbformat_minor": 0
}
