{
 "cells": [
  {
   "cell_type": "markdown",
   "source": [
    "# Compare counterfactuals to Pathfinder elite/weak djustments"
   ],
   "metadata": {
    "collapsed": false
   }
  },
  {
   "cell_type": "code",
   "execution_count": 1,
   "metadata": {
    "collapsed": true
   },
   "outputs": [],
   "source": [
    "from training.creating_dataset import load_data, preprocess_data"
   ]
  },
  {
   "cell_type": "code",
   "execution_count": 2,
   "outputs": [],
   "source": [
    "import pandas as pd\n",
    "import sys\n",
    "\n",
    "import os\n",
    "import pathlib\n",
    "\n",
    "sys.path.append(\"../../..\")\n",
    "\n",
    "current_path = os.getcwd()\n",
    "current_path = os.getcwd()\n",
    "DATASETS_DIR = pathlib.Path(current_path).parent.parent.parent / \"pathfinder_2e_data\"\n",
    "DATASET_FILES = [\n",
    "    \"pathfinder-bestiary.db\",\n",
    "    \"pathfinder-bestiary-2.db\",\n",
    "    \"pathfinder-bestiary-3.db\",\n",
    "]\n",
    "DATASET_PATHS = [f\"{DATASETS_DIR}/{file}\" for file in DATASET_FILES]\n",
    "\n",
    "df = load_data(DATASET_PATHS)"
   ],
   "metadata": {
    "collapsed": false
   }
  },
  {
   "cell_type": "code",
   "execution_count": 3,
   "outputs": [
    {
     "data": {
      "text/plain": "                _id                                       img  \\\n0  024PqcF8yMRBrPuq  systems/pf2e/icons/default-icons/npc.svg   \n1  05E3kkjoLZVjFOeO  systems/pf2e/icons/default-icons/npc.svg   \n2  05wwpHHsBlxBbdkN  systems/pf2e/icons/default-icons/npc.svg   \n3  0FGz2eXm0SB04sJW  systems/pf2e/icons/default-icons/npc.svg   \n4  0HjVFx8qIKDCfblg  systems/pf2e/icons/default-icons/npc.svg   \n\n                                               items                  name  \\\n0  [{'_id': 'B7rzf0nBJmzg8x0y', 'img': 'systems/p...    Adult White Dragon   \n1  [{'_id': 'mYNDkS27YQRyy1F0', 'img': 'systems/p...          Brontosaurus   \n2  [{'_id': 'WkPeg600zGONsuJz', 'img': 'systems/p...        Giant Anaconda   \n3  [{'_id': 'joBYS96mXSnZC1WB', 'img': 'systems/p...  Ancient Green Dragon   \n4  [{'_id': 'xlUnQcjrxeMXu5Cd', 'img': 'systems/p...        Lantern Archon   \n\n  type  system.abilities.cha.mod  system.abilities.con.mod  \\\n0  npc                         1                         5   \n1  npc                         1                         5   \n2  npc                        -2                         6   \n3  npc                         6                         5   \n4  npc                         1                         1   \n\n   system.abilities.dex.mod  system.abilities.int.mod  \\\n0                         2                         1   \n1                         0                        -4   \n2                         3                        -4   \n3                         4                         6   \n4                         3                        -1   \n\n   system.abilities.str.mod  ...  system.traits.size.value  \\\n0                         7  ...                        lg   \n1                         9  ...                       grg   \n2                         7  ...                      huge   \n3                         7  ...                       grg   \n4                        -5  ...                        sm   \n\n    system.traits.value  system.schema.version system.schema.lastMigration  \\\n0        [cold, dragon]                  0.827                        None   \n1    [animal, dinosaur]                  0.827                        None   \n2              [animal]                  0.827                        None   \n3  [amphibious, dragon]                  0.827                        None   \n4   [archon, celestial]                  0.827                        None   \n\n                                 flags.core.sourceId  \\\n0  Compendium.pf2e.pathfinder-bestiary.024PqcF8yM...   \n1  Compendium.pf2e.pathfinder-bestiary.05E3kkjoLZ...   \n2  Compendium.pf2e.pathfinder-bestiary.05wwpHHsBl...   \n3  Compendium.pf2e.pathfinder-bestiary.0FGz2eXm0S...   \n4  Compendium.pf2e.pathfinder-bestiary.0HjVFx8qIK...   \n\n    system.attributes.resistances  system.traits.attitude.value  \\\n0                             NaN                           NaN   \n1                             NaN                           NaN   \n2                             NaN                           NaN   \n3                             NaN                           NaN   \n4  [{'type': 'fire', 'value': 3}]                           NaN   \n\n   prototypeToken.name system.attributes.hardness.value  \\\n0                  NaN                              NaN   \n1                  NaN                              NaN   \n2                  NaN                              NaN   \n3                  NaN                              NaN   \n4                  NaN                              NaN   \n\n  system.attributes.adjustment  \n0                          NaN  \n1                          NaN  \n2                          NaN  \n3                          NaN  \n4                          NaN  \n\n[5 rows x 55 columns]",
      "text/html": "<div>\n<style scoped>\n    .dataframe tbody tr th:only-of-type {\n        vertical-align: middle;\n    }\n\n    .dataframe tbody tr th {\n        vertical-align: top;\n    }\n\n    .dataframe thead th {\n        text-align: right;\n    }\n</style>\n<table border=\"1\" class=\"dataframe\">\n  <thead>\n    <tr style=\"text-align: right;\">\n      <th></th>\n      <th>_id</th>\n      <th>img</th>\n      <th>items</th>\n      <th>name</th>\n      <th>type</th>\n      <th>system.abilities.cha.mod</th>\n      <th>system.abilities.con.mod</th>\n      <th>system.abilities.dex.mod</th>\n      <th>system.abilities.int.mod</th>\n      <th>system.abilities.str.mod</th>\n      <th>...</th>\n      <th>system.traits.size.value</th>\n      <th>system.traits.value</th>\n      <th>system.schema.version</th>\n      <th>system.schema.lastMigration</th>\n      <th>flags.core.sourceId</th>\n      <th>system.attributes.resistances</th>\n      <th>system.traits.attitude.value</th>\n      <th>prototypeToken.name</th>\n      <th>system.attributes.hardness.value</th>\n      <th>system.attributes.adjustment</th>\n    </tr>\n  </thead>\n  <tbody>\n    <tr>\n      <th>0</th>\n      <td>024PqcF8yMRBrPuq</td>\n      <td>systems/pf2e/icons/default-icons/npc.svg</td>\n      <td>[{'_id': 'B7rzf0nBJmzg8x0y', 'img': 'systems/p...</td>\n      <td>Adult White Dragon</td>\n      <td>npc</td>\n      <td>1</td>\n      <td>5</td>\n      <td>2</td>\n      <td>1</td>\n      <td>7</td>\n      <td>...</td>\n      <td>lg</td>\n      <td>[cold, dragon]</td>\n      <td>0.827</td>\n      <td>None</td>\n      <td>Compendium.pf2e.pathfinder-bestiary.024PqcF8yM...</td>\n      <td>NaN</td>\n      <td>NaN</td>\n      <td>NaN</td>\n      <td>NaN</td>\n      <td>NaN</td>\n    </tr>\n    <tr>\n      <th>1</th>\n      <td>05E3kkjoLZVjFOeO</td>\n      <td>systems/pf2e/icons/default-icons/npc.svg</td>\n      <td>[{'_id': 'mYNDkS27YQRyy1F0', 'img': 'systems/p...</td>\n      <td>Brontosaurus</td>\n      <td>npc</td>\n      <td>1</td>\n      <td>5</td>\n      <td>0</td>\n      <td>-4</td>\n      <td>9</td>\n      <td>...</td>\n      <td>grg</td>\n      <td>[animal, dinosaur]</td>\n      <td>0.827</td>\n      <td>None</td>\n      <td>Compendium.pf2e.pathfinder-bestiary.05E3kkjoLZ...</td>\n      <td>NaN</td>\n      <td>NaN</td>\n      <td>NaN</td>\n      <td>NaN</td>\n      <td>NaN</td>\n    </tr>\n    <tr>\n      <th>2</th>\n      <td>05wwpHHsBlxBbdkN</td>\n      <td>systems/pf2e/icons/default-icons/npc.svg</td>\n      <td>[{'_id': 'WkPeg600zGONsuJz', 'img': 'systems/p...</td>\n      <td>Giant Anaconda</td>\n      <td>npc</td>\n      <td>-2</td>\n      <td>6</td>\n      <td>3</td>\n      <td>-4</td>\n      <td>7</td>\n      <td>...</td>\n      <td>huge</td>\n      <td>[animal]</td>\n      <td>0.827</td>\n      <td>None</td>\n      <td>Compendium.pf2e.pathfinder-bestiary.05wwpHHsBl...</td>\n      <td>NaN</td>\n      <td>NaN</td>\n      <td>NaN</td>\n      <td>NaN</td>\n      <td>NaN</td>\n    </tr>\n    <tr>\n      <th>3</th>\n      <td>0FGz2eXm0SB04sJW</td>\n      <td>systems/pf2e/icons/default-icons/npc.svg</td>\n      <td>[{'_id': 'joBYS96mXSnZC1WB', 'img': 'systems/p...</td>\n      <td>Ancient Green Dragon</td>\n      <td>npc</td>\n      <td>6</td>\n      <td>5</td>\n      <td>4</td>\n      <td>6</td>\n      <td>7</td>\n      <td>...</td>\n      <td>grg</td>\n      <td>[amphibious, dragon]</td>\n      <td>0.827</td>\n      <td>None</td>\n      <td>Compendium.pf2e.pathfinder-bestiary.0FGz2eXm0S...</td>\n      <td>NaN</td>\n      <td>NaN</td>\n      <td>NaN</td>\n      <td>NaN</td>\n      <td>NaN</td>\n    </tr>\n    <tr>\n      <th>4</th>\n      <td>0HjVFx8qIKDCfblg</td>\n      <td>systems/pf2e/icons/default-icons/npc.svg</td>\n      <td>[{'_id': 'xlUnQcjrxeMXu5Cd', 'img': 'systems/p...</td>\n      <td>Lantern Archon</td>\n      <td>npc</td>\n      <td>1</td>\n      <td>1</td>\n      <td>3</td>\n      <td>-1</td>\n      <td>-5</td>\n      <td>...</td>\n      <td>sm</td>\n      <td>[archon, celestial]</td>\n      <td>0.827</td>\n      <td>None</td>\n      <td>Compendium.pf2e.pathfinder-bestiary.0HjVFx8qIK...</td>\n      <td>[{'type': 'fire', 'value': 3}]</td>\n      <td>NaN</td>\n      <td>NaN</td>\n      <td>NaN</td>\n      <td>NaN</td>\n    </tr>\n  </tbody>\n</table>\n<p>5 rows × 55 columns</p>\n</div>"
     },
     "execution_count": 3,
     "metadata": {},
     "output_type": "execute_result"
    }
   ],
   "source": [
    "df.head()"
   ],
   "metadata": {
    "collapsed": false
   }
  },
  {
   "cell_type": "code",
   "execution_count": 4,
   "outputs": [],
   "source": [
    "df_dragons = df[(df.name.str.contains(\" Dragon\")) & ~(df.name.str.contains(\"Mage\"))]"
   ],
   "metadata": {
    "collapsed": false
   }
  },
  {
   "cell_type": "code",
   "execution_count": 5,
   "outputs": [
    {
     "data": {
      "text/plain": "                                        name  system.details.level.value\n0                         Adult White Dragon                          10\n3                       Ancient Green Dragon                          17\n17          Ancient Red Dragon (Spellcaster)                          19\n19                        Young White Dragon                           6\n21                       Young Copper Dragon                           8\n...                                      ...                         ...\n1173  Ancient Sovereign Dragon (Spellcaster)                          20\n1178                        Adult Sea Dragon                          12\n1186                     Young Forest Dragon                          10\n1191                 Adult Underworld Dragon                          11\n1201                Ancient Sovereign Dragon                          20\n\n[130 rows x 2 columns]",
      "text/html": "<div>\n<style scoped>\n    .dataframe tbody tr th:only-of-type {\n        vertical-align: middle;\n    }\n\n    .dataframe tbody tr th {\n        vertical-align: top;\n    }\n\n    .dataframe thead th {\n        text-align: right;\n    }\n</style>\n<table border=\"1\" class=\"dataframe\">\n  <thead>\n    <tr style=\"text-align: right;\">\n      <th></th>\n      <th>name</th>\n      <th>system.details.level.value</th>\n    </tr>\n  </thead>\n  <tbody>\n    <tr>\n      <th>0</th>\n      <td>Adult White Dragon</td>\n      <td>10</td>\n    </tr>\n    <tr>\n      <th>3</th>\n      <td>Ancient Green Dragon</td>\n      <td>17</td>\n    </tr>\n    <tr>\n      <th>17</th>\n      <td>Ancient Red Dragon (Spellcaster)</td>\n      <td>19</td>\n    </tr>\n    <tr>\n      <th>19</th>\n      <td>Young White Dragon</td>\n      <td>6</td>\n    </tr>\n    <tr>\n      <th>21</th>\n      <td>Young Copper Dragon</td>\n      <td>8</td>\n    </tr>\n    <tr>\n      <th>...</th>\n      <td>...</td>\n      <td>...</td>\n    </tr>\n    <tr>\n      <th>1173</th>\n      <td>Ancient Sovereign Dragon (Spellcaster)</td>\n      <td>20</td>\n    </tr>\n    <tr>\n      <th>1178</th>\n      <td>Adult Sea Dragon</td>\n      <td>12</td>\n    </tr>\n    <tr>\n      <th>1186</th>\n      <td>Young Forest Dragon</td>\n      <td>10</td>\n    </tr>\n    <tr>\n      <th>1191</th>\n      <td>Adult Underworld Dragon</td>\n      <td>11</td>\n    </tr>\n    <tr>\n      <th>1201</th>\n      <td>Ancient Sovereign Dragon</td>\n      <td>20</td>\n    </tr>\n  </tbody>\n</table>\n<p>130 rows × 2 columns</p>\n</div>"
     },
     "execution_count": 5,
     "metadata": {},
     "output_type": "execute_result"
    }
   ],
   "source": [
    "df_dragons[[\"name\", \"system.details.level.value\"]]"
   ],
   "metadata": {
    "collapsed": false
   }
  },
  {
   "cell_type": "code",
   "execution_count": 6,
   "outputs": [],
   "source": [
    "df_dragons_family = df_dragons[\n",
    "    (\n",
    "        (df_dragons.name.str.contains(\" White Dragon\"))\n",
    "        | (df_dragons.name.str.contains(\"Faerie\"))\n",
    "    )\n",
    "    & ~(df_dragons.name.str.contains(\"Spellcaster\"))\n",
    "]"
   ],
   "metadata": {
    "collapsed": false
   }
  },
  {
   "cell_type": "code",
   "execution_count": 7,
   "outputs": [
    {
     "data": {
      "text/plain": "0      10\n19      6\n268     2\n359    15\nName: system.details.level.value, dtype: int64"
     },
     "execution_count": 7,
     "metadata": {},
     "output_type": "execute_result"
    }
   ],
   "source": [
    "df_dragons_family[\"system.details.level.value\"]"
   ],
   "metadata": {
    "collapsed": false
   }
  },
  {
   "cell_type": "code",
   "execution_count": 8,
   "outputs": [
    {
     "data": {
      "text/plain": "{'Adult White Dragon': 0,\n 'Young White Dragon': 19,\n 'Faerie Dragon': 268,\n 'Ancient White Dragon': 359}"
     },
     "execution_count": 8,
     "metadata": {},
     "output_type": "execute_result"
    }
   ],
   "source": [
    "dragons_ids_names = {\n",
    "    df_dragons_family.loc[idx][\"name\"]: idx for idx in df_dragons_family.index\n",
    "}\n",
    "dragons_ids_names"
   ],
   "metadata": {
    "collapsed": false
   }
  },
  {
   "cell_type": "code",
   "execution_count": 9,
   "outputs": [],
   "source": [
    "characteristics = [\n",
    "    \"cha\",\n",
    "    \"con\",\n",
    "    \"dex\",\n",
    "    \"int\",\n",
    "    \"str\",\n",
    "    \"wis\",\n",
    "    \"ac\",\n",
    "    \"hp\",\n",
    "    \"perception\",\n",
    "    \"fortitude\",\n",
    "    \"reflex\",\n",
    "    \"will\",\n",
    "    \"focus\",\n",
    "    \"land_speed\",\n",
    "    \"num_immunities\",\n",
    "    \"fly\",\n",
    "    \"swim\",\n",
    "    \"climb\",\n",
    "    \"fire_resistance\",\n",
    "    \"cold_resistance\",\n",
    "    \"electricity_resistance\",\n",
    "    \"acid_resistance\",\n",
    "    \"piercing_resistance\",\n",
    "    \"slashing_resistance\",\n",
    "    \"physical_resistance\",\n",
    "    \"bludgeoning_resistance\",\n",
    "    \"mental_resistance\",\n",
    "    \"poison_resistance\",\n",
    "    \"all-damage_resistance\",\n",
    "    \"cold-iron_weakness\",\n",
    "    \"good_weakness\",\n",
    "    \"fire_weakness\",\n",
    "    \"cold_weakness\",\n",
    "    \"area-damage_weakness\",\n",
    "    \"splash-damage_weakness\",\n",
    "    \"evil_weakness\",\n",
    "    \"slashing_weakness\",\n",
    "    \"melee\",\n",
    "    \"ranged\",\n",
    "    \"spells\",\n",
    "]"
   ],
   "metadata": {
    "collapsed": false
   }
  },
  {
   "cell_type": "code",
   "execution_count": 10,
   "outputs": [
    {
     "data": {
      "text/plain": "                  _id                                       img  \\\n0    024PqcF8yMRBrPuq  systems/pf2e/icons/default-icons/npc.svg   \n19   3OPUMuBQThM5EXjz  systems/pf2e/icons/default-icons/npc.svg   \n268  atrhmCtNKx1MR06I  systems/pf2e/icons/default-icons/npc.svg   \n359  mXkMSlj3LldzKxB9  systems/pf2e/icons/default-icons/npc.svg   \n\n                                                 items                  name  \\\n0    [{'_id': 'B7rzf0nBJmzg8x0y', 'img': 'systems/p...    Adult White Dragon   \n19   [{'_id': 'MY6hTtpdYnUlbipf', 'img': 'systems/p...    Young White Dragon   \n268  [{'_id': '8yN0Tb58TCHXqGYI', 'img': 'systems/p...         Faerie Dragon   \n359  [{'_id': 'HkzWmjfjVp6p9yR8', 'img': 'systems/p...  Ancient White Dragon   \n\n    type  system.abilities.cha.mod  system.abilities.con.mod  \\\n0    npc                         1                         5   \n19   npc                         0                         4   \n268  npc                         2                         0   \n359  npc                         3                         7   \n\n     system.abilities.dex.mod  system.abilities.int.mod  \\\n0                           2                         1   \n19                          2                        -1   \n268                         4                         2   \n359                         3                         2   \n\n     system.abilities.str.mod  ...  system.traits.size.value  \\\n0                           7  ...                        lg   \n19                          6  ...                        lg   \n268                        -2  ...                      tiny   \n359                         8  ...                      huge   \n\n    system.traits.value  system.schema.version system.schema.lastMigration  \\\n0        [cold, dragon]                  0.827                        None   \n19       [cold, dragon]                  0.827                        None   \n268            [dragon]                  0.827                        None   \n359      [cold, dragon]                  0.827                        None   \n\n                                   flags.core.sourceId  \\\n0    Compendium.pf2e.pathfinder-bestiary.024PqcF8yM...   \n19   Compendium.pf2e.pathfinder-bestiary.3OPUMuBQTh...   \n268  Compendium.pf2e.pathfinder-bestiary.atrhmCtNKx...   \n359  Compendium.pf2e.pathfinder-bestiary.mXkMSlj3Ll...   \n\n     system.attributes.resistances  system.traits.attitude.value  \\\n0                              NaN                           NaN   \n19                             NaN                           NaN   \n268                            NaN                           NaN   \n359                            NaN                           NaN   \n\n     prototypeToken.name system.attributes.hardness.value  \\\n0                    NaN                              NaN   \n19                   NaN                              NaN   \n268                  NaN                              NaN   \n359                  NaN                              NaN   \n\n    system.attributes.adjustment  \n0                            NaN  \n19                           NaN  \n268                          NaN  \n359                          NaN  \n\n[4 rows x 55 columns]",
      "text/html": "<div>\n<style scoped>\n    .dataframe tbody tr th:only-of-type {\n        vertical-align: middle;\n    }\n\n    .dataframe tbody tr th {\n        vertical-align: top;\n    }\n\n    .dataframe thead th {\n        text-align: right;\n    }\n</style>\n<table border=\"1\" class=\"dataframe\">\n  <thead>\n    <tr style=\"text-align: right;\">\n      <th></th>\n      <th>_id</th>\n      <th>img</th>\n      <th>items</th>\n      <th>name</th>\n      <th>type</th>\n      <th>system.abilities.cha.mod</th>\n      <th>system.abilities.con.mod</th>\n      <th>system.abilities.dex.mod</th>\n      <th>system.abilities.int.mod</th>\n      <th>system.abilities.str.mod</th>\n      <th>...</th>\n      <th>system.traits.size.value</th>\n      <th>system.traits.value</th>\n      <th>system.schema.version</th>\n      <th>system.schema.lastMigration</th>\n      <th>flags.core.sourceId</th>\n      <th>system.attributes.resistances</th>\n      <th>system.traits.attitude.value</th>\n      <th>prototypeToken.name</th>\n      <th>system.attributes.hardness.value</th>\n      <th>system.attributes.adjustment</th>\n    </tr>\n  </thead>\n  <tbody>\n    <tr>\n      <th>0</th>\n      <td>024PqcF8yMRBrPuq</td>\n      <td>systems/pf2e/icons/default-icons/npc.svg</td>\n      <td>[{'_id': 'B7rzf0nBJmzg8x0y', 'img': 'systems/p...</td>\n      <td>Adult White Dragon</td>\n      <td>npc</td>\n      <td>1</td>\n      <td>5</td>\n      <td>2</td>\n      <td>1</td>\n      <td>7</td>\n      <td>...</td>\n      <td>lg</td>\n      <td>[cold, dragon]</td>\n      <td>0.827</td>\n      <td>None</td>\n      <td>Compendium.pf2e.pathfinder-bestiary.024PqcF8yM...</td>\n      <td>NaN</td>\n      <td>NaN</td>\n      <td>NaN</td>\n      <td>NaN</td>\n      <td>NaN</td>\n    </tr>\n    <tr>\n      <th>19</th>\n      <td>3OPUMuBQThM5EXjz</td>\n      <td>systems/pf2e/icons/default-icons/npc.svg</td>\n      <td>[{'_id': 'MY6hTtpdYnUlbipf', 'img': 'systems/p...</td>\n      <td>Young White Dragon</td>\n      <td>npc</td>\n      <td>0</td>\n      <td>4</td>\n      <td>2</td>\n      <td>-1</td>\n      <td>6</td>\n      <td>...</td>\n      <td>lg</td>\n      <td>[cold, dragon]</td>\n      <td>0.827</td>\n      <td>None</td>\n      <td>Compendium.pf2e.pathfinder-bestiary.3OPUMuBQTh...</td>\n      <td>NaN</td>\n      <td>NaN</td>\n      <td>NaN</td>\n      <td>NaN</td>\n      <td>NaN</td>\n    </tr>\n    <tr>\n      <th>268</th>\n      <td>atrhmCtNKx1MR06I</td>\n      <td>systems/pf2e/icons/default-icons/npc.svg</td>\n      <td>[{'_id': '8yN0Tb58TCHXqGYI', 'img': 'systems/p...</td>\n      <td>Faerie Dragon</td>\n      <td>npc</td>\n      <td>2</td>\n      <td>0</td>\n      <td>4</td>\n      <td>2</td>\n      <td>-2</td>\n      <td>...</td>\n      <td>tiny</td>\n      <td>[dragon]</td>\n      <td>0.827</td>\n      <td>None</td>\n      <td>Compendium.pf2e.pathfinder-bestiary.atrhmCtNKx...</td>\n      <td>NaN</td>\n      <td>NaN</td>\n      <td>NaN</td>\n      <td>NaN</td>\n      <td>NaN</td>\n    </tr>\n    <tr>\n      <th>359</th>\n      <td>mXkMSlj3LldzKxB9</td>\n      <td>systems/pf2e/icons/default-icons/npc.svg</td>\n      <td>[{'_id': 'HkzWmjfjVp6p9yR8', 'img': 'systems/p...</td>\n      <td>Ancient White Dragon</td>\n      <td>npc</td>\n      <td>3</td>\n      <td>7</td>\n      <td>3</td>\n      <td>2</td>\n      <td>8</td>\n      <td>...</td>\n      <td>huge</td>\n      <td>[cold, dragon]</td>\n      <td>0.827</td>\n      <td>None</td>\n      <td>Compendium.pf2e.pathfinder-bestiary.mXkMSlj3Ll...</td>\n      <td>NaN</td>\n      <td>NaN</td>\n      <td>NaN</td>\n      <td>NaN</td>\n      <td>NaN</td>\n    </tr>\n  </tbody>\n</table>\n<p>4 rows × 55 columns</p>\n</div>"
     },
     "execution_count": 10,
     "metadata": {},
     "output_type": "execute_result"
    }
   ],
   "source": [
    "df_dragons_family"
   ],
   "metadata": {
    "collapsed": false
   }
  },
  {
   "cell_type": "code",
   "execution_count": 11,
   "outputs": [
    {
     "data": {
      "text/plain": "     str  dex  con  int  wis  cha  ac   hp  perception  fortitude  ...  \\\n0      7    2    5    1    2    1  29  215          20         22  ...   \n19     6    2    4   -1    1    0  23  115          13         16  ...   \n268   -2    4    0    2    0    2  18   30          16          5  ...   \n359    8    3    7    2    3    3  36  330          30         30  ...   \n\n     slashing_resistance  area-damage_weakness  cold_weakness  \\\n0                      0                     0              0   \n19                     0                     0              0   \n268                    0                     0              0   \n359                    0                     0              0   \n\n     cold-iron_weakness  evil_weakness  fire_weakness  good_weakness  \\\n0                     0              0             10              0   \n19                    0              0              5              0   \n268                   0              0              0              0   \n359                   0              0             15              0   \n\n     slashing_weakness  splash-damage_weakness  level  \n0                    0                       0     10  \n19                   0                       0      6  \n268                  0                       0      2  \n359                  0                       0     15  \n\n[4 rows x 51 columns]",
      "text/html": "<div>\n<style scoped>\n    .dataframe tbody tr th:only-of-type {\n        vertical-align: middle;\n    }\n\n    .dataframe tbody tr th {\n        vertical-align: top;\n    }\n\n    .dataframe thead th {\n        text-align: right;\n    }\n</style>\n<table border=\"1\" class=\"dataframe\">\n  <thead>\n    <tr style=\"text-align: right;\">\n      <th></th>\n      <th>str</th>\n      <th>dex</th>\n      <th>con</th>\n      <th>int</th>\n      <th>wis</th>\n      <th>cha</th>\n      <th>ac</th>\n      <th>hp</th>\n      <th>perception</th>\n      <th>fortitude</th>\n      <th>...</th>\n      <th>slashing_resistance</th>\n      <th>area-damage_weakness</th>\n      <th>cold_weakness</th>\n      <th>cold-iron_weakness</th>\n      <th>evil_weakness</th>\n      <th>fire_weakness</th>\n      <th>good_weakness</th>\n      <th>slashing_weakness</th>\n      <th>splash-damage_weakness</th>\n      <th>level</th>\n    </tr>\n  </thead>\n  <tbody>\n    <tr>\n      <th>0</th>\n      <td>7</td>\n      <td>2</td>\n      <td>5</td>\n      <td>1</td>\n      <td>2</td>\n      <td>1</td>\n      <td>29</td>\n      <td>215</td>\n      <td>20</td>\n      <td>22</td>\n      <td>...</td>\n      <td>0</td>\n      <td>0</td>\n      <td>0</td>\n      <td>0</td>\n      <td>0</td>\n      <td>10</td>\n      <td>0</td>\n      <td>0</td>\n      <td>0</td>\n      <td>10</td>\n    </tr>\n    <tr>\n      <th>19</th>\n      <td>6</td>\n      <td>2</td>\n      <td>4</td>\n      <td>-1</td>\n      <td>1</td>\n      <td>0</td>\n      <td>23</td>\n      <td>115</td>\n      <td>13</td>\n      <td>16</td>\n      <td>...</td>\n      <td>0</td>\n      <td>0</td>\n      <td>0</td>\n      <td>0</td>\n      <td>0</td>\n      <td>5</td>\n      <td>0</td>\n      <td>0</td>\n      <td>0</td>\n      <td>6</td>\n    </tr>\n    <tr>\n      <th>268</th>\n      <td>-2</td>\n      <td>4</td>\n      <td>0</td>\n      <td>2</td>\n      <td>0</td>\n      <td>2</td>\n      <td>18</td>\n      <td>30</td>\n      <td>16</td>\n      <td>5</td>\n      <td>...</td>\n      <td>0</td>\n      <td>0</td>\n      <td>0</td>\n      <td>0</td>\n      <td>0</td>\n      <td>0</td>\n      <td>0</td>\n      <td>0</td>\n      <td>0</td>\n      <td>2</td>\n    </tr>\n    <tr>\n      <th>359</th>\n      <td>8</td>\n      <td>3</td>\n      <td>7</td>\n      <td>2</td>\n      <td>3</td>\n      <td>3</td>\n      <td>36</td>\n      <td>330</td>\n      <td>30</td>\n      <td>30</td>\n      <td>...</td>\n      <td>0</td>\n      <td>0</td>\n      <td>0</td>\n      <td>0</td>\n      <td>0</td>\n      <td>15</td>\n      <td>0</td>\n      <td>0</td>\n      <td>0</td>\n      <td>15</td>\n    </tr>\n  </tbody>\n</table>\n<p>4 rows × 51 columns</p>\n</div>"
     },
     "execution_count": 11,
     "metadata": {},
     "output_type": "execute_result"
    }
   ],
   "source": [
    "from serving.backend.constants import ORDERED_CHARACTERISTICS_FULL\n",
    "\n",
    "\n",
    "dragons = preprocess_data(df_dragons_family, characteristics)[\n",
    "    ORDERED_CHARACTERISTICS_FULL + [\"level\"]\n",
    "]\n",
    "dragons"
   ],
   "metadata": {
    "collapsed": false
   }
  },
  {
   "cell_type": "code",
   "execution_count": 12,
   "outputs": [],
   "source": [
    "dataset = preprocess_data(df, characteristics)\n",
    "dataset = dataset[ORDERED_CHARACTERISTICS_FULL + [\"level\"]]"
   ],
   "metadata": {
    "collapsed": false
   }
  },
  {
   "cell_type": "code",
   "execution_count": 13,
   "outputs": [],
   "source": [
    "from training.create_model import get_fitted_model\n",
    "import joblib\n",
    "\n",
    "model = joblib.load(filename=\"../../../saved_models/current_model_full.pkl\")"
   ],
   "metadata": {
    "collapsed": false
   }
  },
  {
   "cell_type": "code",
   "execution_count": 14,
   "outputs": [],
   "source": [
    "from serving.backend.generate_counterfactuals import generate_counterfactuals\n",
    "\n",
    "\n",
    "young = dragons.loc[dragons_ids_names[\"Young White Dragon\"]].to_dict()\n",
    "adult = dragons.loc[dragons_ids_names[\"Adult White Dragon\"]].to_dict()\n",
    "ancient = dragons.loc[dragons_ids_names[\"Ancient White Dragon\"]].to_dict()\n",
    "faerie = dragons.loc[dragons_ids_names[\"Faerie Dragon\"]].to_dict()"
   ],
   "metadata": {
    "collapsed": false
   }
  },
  {
   "cell_type": "code",
   "execution_count": 15,
   "outputs": [
    {
     "data": {
      "text/plain": "{'str': -2.0,\n 'dex': 4.0,\n 'con': 0.0,\n 'int': 2.0,\n 'wis': 0.0,\n 'cha': 2.0,\n 'ac': 18.0,\n 'hp': 30.0,\n 'perception': 16.0,\n 'fortitude': 5.0,\n 'reflex': 12.0,\n 'will': 11.0,\n 'focus': 1.0,\n 'land_speed': 15.0,\n 'fly': 40.0,\n 'climb': 0.0,\n 'swim': 20.0,\n 'num_immunities': 2.0,\n 'spells_nr_lvl_1': 3.0,\n 'spells_nr_lvl_2': 1.0,\n 'spells_nr_lvl_3': 0.0,\n 'spells_nr_lvl_4': 0.0,\n 'spells_nr_lvl_5': 0.0,\n 'spells_nr_lvl_6': 0.0,\n 'spells_nr_lvl_7': 0.0,\n 'spells_nr_lvl_8': 0.0,\n 'spells_nr_lvl_9': 0.0,\n 'melee_max_bonus': 10.0,\n 'avg_melee_dmg': 2.5,\n 'ranged_max_bonus': 0.0,\n 'avg_ranged_dmg': 0.0,\n 'acid_resistance': 0.0,\n 'all-damage_resistance': 0.0,\n 'bludgeoning_resistance': 0.0,\n 'cold_resistance': 0.0,\n 'electricity_resistance': 0.0,\n 'fire_resistance': 0.0,\n 'mental_resistance': 0.0,\n 'physical_resistance': 0.0,\n 'piercing_resistance': 0.0,\n 'poison_resistance': 0.0,\n 'slashing_resistance': 0.0,\n 'area-damage_weakness': 0.0,\n 'cold_weakness': 0.0,\n 'cold-iron_weakness': 0.0,\n 'evil_weakness': 0.0,\n 'fire_weakness': 0.0,\n 'good_weakness': 0.0,\n 'slashing_weakness': 0.0,\n 'splash-damage_weakness': 0.0,\n 'level': 2.0}"
     },
     "execution_count": 15,
     "metadata": {},
     "output_type": "execute_result"
    }
   ],
   "source": [
    "faerie"
   ],
   "metadata": {
    "collapsed": false
   }
  },
  {
   "cell_type": "code",
   "execution_count": 16,
   "outputs": [
    {
     "data": {
      "text/plain": "{'str': 6.0,\n 'dex': 2.0,\n 'con': 4.0,\n 'int': -1.0,\n 'wis': 1.0,\n 'cha': 0.0,\n 'ac': 23.0,\n 'hp': 115.0,\n 'perception': 13.0,\n 'fortitude': 16.0,\n 'reflex': 14.0,\n 'will': 11.0,\n 'focus': 0.0,\n 'land_speed': 30.0,\n 'fly': 80.0,\n 'climb': 30.0,\n 'swim': 0.0,\n 'num_immunities': 3.0,\n 'spells_nr_lvl_1': 0.0,\n 'spells_nr_lvl_2': 0.0,\n 'spells_nr_lvl_3': 0.0,\n 'spells_nr_lvl_4': 0.0,\n 'spells_nr_lvl_5': 0.0,\n 'spells_nr_lvl_6': 0.0,\n 'spells_nr_lvl_7': 0.0,\n 'spells_nr_lvl_8': 0.0,\n 'spells_nr_lvl_9': 0.0,\n 'melee_max_bonus': 17.0,\n 'avg_melee_dmg': 16.0,\n 'ranged_max_bonus': 0.0,\n 'avg_ranged_dmg': 0.0,\n 'acid_resistance': 0.0,\n 'all-damage_resistance': 0.0,\n 'bludgeoning_resistance': 0.0,\n 'cold_resistance': 0.0,\n 'electricity_resistance': 0.0,\n 'fire_resistance': 0.0,\n 'mental_resistance': 0.0,\n 'physical_resistance': 0.0,\n 'piercing_resistance': 0.0,\n 'poison_resistance': 0.0,\n 'slashing_resistance': 0.0,\n 'area-damage_weakness': 0.0,\n 'cold_weakness': 0.0,\n 'cold-iron_weakness': 0.0,\n 'evil_weakness': 0.0,\n 'fire_weakness': 5.0,\n 'good_weakness': 0.0,\n 'slashing_weakness': 0.0,\n 'splash-damage_weakness': 0.0,\n 'level': 6.0}"
     },
     "execution_count": 16,
     "metadata": {},
     "output_type": "execute_result"
    }
   ],
   "source": [
    "young"
   ],
   "metadata": {
    "collapsed": false
   }
  },
  {
   "cell_type": "code",
   "execution_count": 17,
   "outputs": [
    {
     "data": {
      "text/plain": "{'str': 7.0,\n 'dex': 2.0,\n 'con': 5.0,\n 'int': 1.0,\n 'wis': 2.0,\n 'cha': 1.0,\n 'ac': 29.0,\n 'hp': 215.0,\n 'perception': 20.0,\n 'fortitude': 22.0,\n 'reflex': 19.0,\n 'will': 17.0,\n 'focus': 1.0,\n 'land_speed': 30.0,\n 'fly': 120.0,\n 'climb': 30.0,\n 'swim': 0.0,\n 'num_immunities': 3.0,\n 'spells_nr_lvl_1': 1.0,\n 'spells_nr_lvl_2': 1.0,\n 'spells_nr_lvl_3': 0.0,\n 'spells_nr_lvl_4': 0.0,\n 'spells_nr_lvl_5': 0.0,\n 'spells_nr_lvl_6': 0.0,\n 'spells_nr_lvl_7': 0.0,\n 'spells_nr_lvl_8': 0.0,\n 'spells_nr_lvl_9': 0.0,\n 'melee_max_bonus': 23.0,\n 'avg_melee_dmg': 22.0,\n 'ranged_max_bonus': 0.0,\n 'avg_ranged_dmg': 0.0,\n 'acid_resistance': 0.0,\n 'all-damage_resistance': 0.0,\n 'bludgeoning_resistance': 0.0,\n 'cold_resistance': 0.0,\n 'electricity_resistance': 0.0,\n 'fire_resistance': 0.0,\n 'mental_resistance': 0.0,\n 'physical_resistance': 0.0,\n 'piercing_resistance': 0.0,\n 'poison_resistance': 0.0,\n 'slashing_resistance': 0.0,\n 'area-damage_weakness': 0.0,\n 'cold_weakness': 0.0,\n 'cold-iron_weakness': 0.0,\n 'evil_weakness': 0.0,\n 'fire_weakness': 10.0,\n 'good_weakness': 0.0,\n 'slashing_weakness': 0.0,\n 'splash-damage_weakness': 0.0,\n 'level': 10.0}"
     },
     "execution_count": 17,
     "metadata": {},
     "output_type": "execute_result"
    }
   ],
   "source": [
    "adult"
   ],
   "metadata": {
    "collapsed": false
   }
  },
  {
   "cell_type": "code",
   "execution_count": 18,
   "outputs": [
    {
     "data": {
      "text/plain": "{'str': 8.0,\n 'dex': 3.0,\n 'con': 7.0,\n 'int': 2.0,\n 'wis': 3.0,\n 'cha': 3.0,\n 'ac': 36.0,\n 'hp': 330.0,\n 'perception': 30.0,\n 'fortitude': 30.0,\n 'reflex': 26.0,\n 'will': 24.0,\n 'focus': 1.0,\n 'land_speed': 40.0,\n 'fly': 160.0,\n 'climb': 40.0,\n 'swim': 0.0,\n 'num_immunities': 3.0,\n 'spells_nr_lvl_1': 1.0,\n 'spells_nr_lvl_2': 1.0,\n 'spells_nr_lvl_3': 0.0,\n 'spells_nr_lvl_4': 0.0,\n 'spells_nr_lvl_5': 1.0,\n 'spells_nr_lvl_6': 0.0,\n 'spells_nr_lvl_7': 0.0,\n 'spells_nr_lvl_8': 0.0,\n 'spells_nr_lvl_9': 0.0,\n 'melee_max_bonus': 31.0,\n 'avg_melee_dmg': 32.5,\n 'ranged_max_bonus': 0.0,\n 'avg_ranged_dmg': 0.0,\n 'acid_resistance': 0.0,\n 'all-damage_resistance': 0.0,\n 'bludgeoning_resistance': 0.0,\n 'cold_resistance': 0.0,\n 'electricity_resistance': 0.0,\n 'fire_resistance': 0.0,\n 'mental_resistance': 0.0,\n 'physical_resistance': 0.0,\n 'piercing_resistance': 0.0,\n 'poison_resistance': 0.0,\n 'slashing_resistance': 0.0,\n 'area-damage_weakness': 0.0,\n 'cold_weakness': 0.0,\n 'cold-iron_weakness': 0.0,\n 'evil_weakness': 0.0,\n 'fire_weakness': 15.0,\n 'good_weakness': 0.0,\n 'slashing_weakness': 0.0,\n 'splash-damage_weakness': 0.0,\n 'level': 15.0}"
     },
     "execution_count": 18,
     "metadata": {},
     "output_type": "execute_result"
    }
   ],
   "source": [
    "ancient"
   ],
   "metadata": {
    "collapsed": false
   }
  },
  {
   "cell_type": "markdown",
   "source": [
    "## Check predicted levels"
   ],
   "metadata": {
    "collapsed": false
   }
  },
  {
   "cell_type": "code",
   "execution_count": 19,
   "outputs": [
    {
     "data": {
      "text/plain": "6"
     },
     "execution_count": 19,
     "metadata": {},
     "output_type": "execute_result"
    }
   ],
   "source": [
    "from serving.backend.calculate_level import calculate_level\n",
    "\n",
    "\n",
    "calculate_level(\n",
    "    monster_stats={col: val for col, val in list(young.items()) if col != \"level\"},\n",
    "    model=model,\n",
    ")"
   ],
   "metadata": {
    "collapsed": false
   }
  },
  {
   "cell_type": "code",
   "execution_count": 20,
   "outputs": [
    {
     "data": {
      "text/plain": "10"
     },
     "execution_count": 20,
     "metadata": {},
     "output_type": "execute_result"
    }
   ],
   "source": [
    "calculate_level(\n",
    "    monster_stats={col: val for col, val in list(adult.items()) if col != \"level\"},\n",
    "    model=model,\n",
    ")"
   ],
   "metadata": {
    "collapsed": false
   }
  },
  {
   "cell_type": "code",
   "execution_count": 21,
   "outputs": [
    {
     "data": {
      "text/plain": "15"
     },
     "execution_count": 21,
     "metadata": {},
     "output_type": "execute_result"
    }
   ],
   "source": [
    "calculate_level(\n",
    "    monster_stats={col: val for col, val in list(ancient.items()) if col != \"level\"},\n",
    "    model=model,\n",
    ")"
   ],
   "metadata": {
    "collapsed": false
   }
  },
  {
   "cell_type": "code",
   "execution_count": 22,
   "outputs": [
    {
     "data": {
      "text/plain": "2"
     },
     "execution_count": 22,
     "metadata": {},
     "output_type": "execute_result"
    }
   ],
   "source": [
    "calculate_level(\n",
    "    monster_stats={col: val for col, val in list(faerie.items()) if col != \"level\"},\n",
    "    model=model,\n",
    ")"
   ],
   "metadata": {
    "collapsed": false
   }
  },
  {
   "cell_type": "code",
   "execution_count": 23,
   "outputs": [],
   "source": [
    "from serving.backend.calculate_level import calculate_level\n",
    "\n",
    "\n",
    "def test_cfs(cfs, new_level, path_to_save=None):\n",
    "    \"\"\"Check if predicted level is the same as new_level and print levels if everything is correct.\"\"\"\n",
    "    monsters = pd.DataFrame(data=cfs, columns=ORDERED_CHARACTERISTICS_FULL)\n",
    "    monsters[\"level\"] = None\n",
    "    lvls = []\n",
    "    for i, cf in enumerate(cfs):\n",
    "        predicted_lvl = model.predict(pd.DataFrame.from_records([cf]))\n",
    "        monsters.at[i, \"level\"] = predicted_lvl\n",
    "        if calculate_level(cf, model) != new_level:\n",
    "            print(predicted_lvl, calculate_level(cf, model))\n",
    "            assert calculate_level(cf, model) == new_level\n",
    "        lvls.append(predicted_lvl)\n",
    "    lvls = sorted(lvls)\n",
    "    for lvl in lvls:\n",
    "        print(lvl)\n",
    "    if path_to_save:\n",
    "        monsters.to_csv(path_to_save)"
   ],
   "metadata": {
    "collapsed": false
   }
  },
  {
   "cell_type": "code",
   "execution_count": 42,
   "outputs": [],
   "source": [
    "map_elite_hp = {\n",
    "    tuple([i for i in range(-1, 2)]): 10,\n",
    "    tuple([i for i in range(2, 5)]): 15,\n",
    "    tuple([i for i in range(5, 20)]): 20,\n",
    "    tuple([i for i in range(20, 31)]): 30,\n",
    "}\n",
    "map_weak_hp = {\n",
    "    tuple([i for i in range(1, 3)]): -10,\n",
    "    tuple([i for i in range(3, 6)]): -15,\n",
    "    tuple([i for i in range(6, 21)]): -20,\n",
    "    tuple([i for i in range(21, 31)]): -30,\n",
    "}\n",
    "\n",
    "\n",
    "def elite_adjustment(monster, old_level, new_level):\n",
    "    \"\"\"Pathfinder adjustment\"\"\"\n",
    "    for lvl in range(old_level, new_level):\n",
    "        hp_change = map_elite_hp[[key for key in map_elite_hp.keys() if lvl in key][0]]\n",
    "        monster[\"hp\"] += hp_change\n",
    "\n",
    "        for feature in [\n",
    "            \"ac\",\n",
    "            \"perception\",\n",
    "            \"avg_melee_dmg\",\n",
    "            \"avg_ranged_dmg\",\n",
    "            \"focus\",\n",
    "            \"will\",\n",
    "            \"reflex\",\n",
    "            \"melee_max_bonus\",\n",
    "            \"ranged_max_bonus\",\n",
    "        ]:\n",
    "            monster[feature] += 2\n",
    "        # for feature in [\"avg_melee_dmg\", \"avg_ranged_dmg\", \"melee_max_bonus\", \"ranged_max_bonus\"]:\n",
    "\n",
    "    return monster\n",
    "\n",
    "\n",
    "def weak_adjustment(monster, old_level, new_level):\n",
    "    for lvl in range(old_level, new_level, -1):\n",
    "        hp_change = map_weak_hp[[key for key in map_weak_hp.keys() if lvl in key][0]]\n",
    "        monster[\"hp\"] += hp_change\n",
    "\n",
    "        for feature in [\n",
    "            \"ac\",\n",
    "            \"perception\",\n",
    "            \"avg_melee_dmg\",\n",
    "            \"avg_ranged_dmg\",\n",
    "            \"focus\",\n",
    "            \"will\",\n",
    "            \"reflex\",\n",
    "            \"melee_max_bonus\",\n",
    "            \"ranged_max_bonus\",\n",
    "        ]:\n",
    "            monster[feature] -= 2\n",
    "\n",
    "    return monster\n",
    "\n",
    "\n",
    "def adjust_creature(monster, model, new_level):\n",
    "    lvl = calculate_level(monster_stats=monster, model=model)\n",
    "\n",
    "    if lvl < new_level:\n",
    "        monster = elite_adjustment(monster, lvl, new_level)\n",
    "    elif lvl > new_level:\n",
    "        monster = weak_adjustment(monster, lvl, new_level)\n",
    "\n",
    "    return monster"
   ],
   "metadata": {
    "collapsed": false
   }
  },
  {
   "cell_type": "markdown",
   "source": [
    "## Young"
   ],
   "metadata": {
    "collapsed": false
   }
  },
  {
   "cell_type": "code",
   "execution_count": 25,
   "outputs": [
    {
     "data": {
      "text/plain": "6.0"
     },
     "execution_count": 25,
     "metadata": {},
     "output_type": "execute_result"
    }
   ],
   "source": [
    "young[\"level\"]"
   ],
   "metadata": {
    "collapsed": false
   }
  },
  {
   "cell_type": "markdown",
   "source": [
    "### From 6 to 10"
   ],
   "metadata": {
    "collapsed": false
   }
  },
  {
   "cell_type": "code",
   "execution_count": 26,
   "outputs": [
    {
     "name": "stderr",
     "output_type": "stream",
     "text": [
      "100%|██████████| 1/1 [00:00<00:00,  1.10it/s]\n"
     ]
    }
   ],
   "source": [
    "result = generate_counterfactuals(\n",
    "    monster_stats=young,\n",
    "    model=model,\n",
    "    new_level=10,\n",
    "    df=dataset,\n",
    "    total_cf=5,\n",
    "    ordered_characteristics=ORDERED_CHARACTERISTICS_FULL,\n",
    ")"
   ],
   "metadata": {
    "collapsed": false
   }
  },
  {
   "cell_type": "markdown",
   "source": [
    "Adjust"
   ],
   "metadata": {
    "collapsed": false
   }
  },
  {
   "cell_type": "code",
   "execution_count": 27,
   "outputs": [
    {
     "data": {
      "text/plain": "11"
     },
     "execution_count": 27,
     "metadata": {},
     "output_type": "execute_result"
    }
   ],
   "source": [
    "calculate_level(\n",
    "    monster_stats=adjust_creature(\n",
    "        {col: val for col, val in young.items() if col != \"level\"}, model, 10\n",
    "    ),\n",
    "    model=model,\n",
    ")"
   ],
   "metadata": {
    "collapsed": false
   }
  },
  {
   "cell_type": "markdown",
   "source": [
    "Counterfactuals"
   ],
   "metadata": {
    "collapsed": false
   }
  },
  {
   "cell_type": "code",
   "execution_count": 28,
   "outputs": [
    {
     "name": "stdout",
     "output_type": "stream",
     "text": [
      "[9.999998]\n",
      "[9.99999952]\n",
      "[9.99999989]\n",
      "[10.00000097]\n",
      "[10.00000146]\n"
     ]
    }
   ],
   "source": [
    "test_cfs(result[\"values\"], 10)"
   ],
   "metadata": {
    "collapsed": false
   }
  },
  {
   "cell_type": "markdown",
   "source": [
    "### From 6 to 15"
   ],
   "metadata": {
    "collapsed": false
   }
  },
  {
   "cell_type": "code",
   "execution_count": 29,
   "outputs": [
    {
     "name": "stderr",
     "output_type": "stream",
     "text": [
      "100%|██████████| 1/1 [00:00<00:00,  1.29it/s]\n"
     ]
    }
   ],
   "source": [
    "result = generate_counterfactuals(\n",
    "    monster_stats=young,\n",
    "    model=model,\n",
    "    new_level=15,\n",
    "    df=dataset,\n",
    "    total_cf=5,\n",
    "    ordered_characteristics=ORDERED_CHARACTERISTICS_FULL,\n",
    ")"
   ],
   "metadata": {
    "collapsed": false
   }
  },
  {
   "cell_type": "markdown",
   "source": [
    "Adjust"
   ],
   "metadata": {
    "collapsed": false
   }
  },
  {
   "cell_type": "code",
   "execution_count": 30,
   "outputs": [
    {
     "data": {
      "text/plain": "17"
     },
     "execution_count": 30,
     "metadata": {},
     "output_type": "execute_result"
    }
   ],
   "source": [
    "calculate_level(\n",
    "    monster_stats=adjust_creature(\n",
    "        {col: val for col, val in young.items() if col != \"level\"}, model, 15\n",
    "    ),\n",
    "    model=model,\n",
    ")"
   ],
   "metadata": {
    "collapsed": false
   }
  },
  {
   "cell_type": "markdown",
   "source": [
    "Counterfactuals"
   ],
   "metadata": {
    "collapsed": false
   }
  },
  {
   "cell_type": "code",
   "execution_count": 31,
   "outputs": [
    {
     "name": "stdout",
     "output_type": "stream",
     "text": [
      "[14.99999963]\n",
      "[14.99999987]\n",
      "[14.99999993]\n",
      "[14.99999993]\n",
      "[15.00000004]\n"
     ]
    }
   ],
   "source": [
    "test_cfs(result[\"values\"], 15)"
   ],
   "metadata": {
    "collapsed": false
   }
  },
  {
   "cell_type": "markdown",
   "source": [
    "### From 6 to 2"
   ],
   "metadata": {
    "collapsed": false
   }
  },
  {
   "cell_type": "code",
   "execution_count": 32,
   "outputs": [
    {
     "name": "stderr",
     "output_type": "stream",
     "text": [
      "100%|██████████| 1/1 [00:00<00:00,  1.22it/s]\n"
     ]
    }
   ],
   "source": [
    "result = generate_counterfactuals(\n",
    "    monster_stats=young,\n",
    "    model=model,\n",
    "    new_level=2,\n",
    "    df=dataset,\n",
    "    total_cf=5,\n",
    "    ordered_characteristics=ORDERED_CHARACTERISTICS_FULL,\n",
    ")"
   ],
   "metadata": {
    "collapsed": false
   }
  },
  {
   "cell_type": "markdown",
   "source": [
    "Adjust"
   ],
   "metadata": {
    "collapsed": false
   }
  },
  {
   "cell_type": "code",
   "execution_count": 43,
   "outputs": [
    {
     "data": {
      "text/plain": "3"
     },
     "execution_count": 43,
     "metadata": {},
     "output_type": "execute_result"
    }
   ],
   "source": [
    "calculate_level(\n",
    "    monster_stats=adjust_creature(\n",
    "        {col: val for col, val in young.items() if col != \"level\"}, model, 2\n",
    "    ),\n",
    "    model=model,\n",
    ")"
   ],
   "metadata": {
    "collapsed": false
   }
  },
  {
   "cell_type": "markdown",
   "source": [
    "Counterfactuals"
   ],
   "metadata": {
    "collapsed": false
   }
  },
  {
   "cell_type": "code",
   "execution_count": 44,
   "outputs": [
    {
     "name": "stdout",
     "output_type": "stream",
     "text": [
      "[1.99999914]\n",
      "[2.0000006]\n",
      "[2.00000084]\n",
      "[2.00000104]\n",
      "[2.00000404]\n"
     ]
    }
   ],
   "source": [
    "test_cfs(result[\"values\"], 2)"
   ],
   "metadata": {
    "collapsed": false
   }
  },
  {
   "cell_type": "markdown",
   "source": [
    "## Adult"
   ],
   "metadata": {
    "collapsed": false
   }
  },
  {
   "cell_type": "code",
   "execution_count": 45,
   "outputs": [
    {
     "data": {
      "text/plain": "10.0"
     },
     "execution_count": 45,
     "metadata": {},
     "output_type": "execute_result"
    }
   ],
   "source": [
    "adult[\"level\"]"
   ],
   "metadata": {
    "collapsed": false
   }
  },
  {
   "cell_type": "markdown",
   "source": [
    "### From 10 to 6"
   ],
   "metadata": {
    "collapsed": false
   }
  },
  {
   "cell_type": "code",
   "execution_count": 46,
   "outputs": [
    {
     "name": "stderr",
     "output_type": "stream",
     "text": [
      "100%|██████████| 1/1 [00:00<00:00,  1.20it/s]\n"
     ]
    }
   ],
   "source": [
    "result = generate_counterfactuals(\n",
    "    monster_stats=adult,\n",
    "    model=model,\n",
    "    new_level=6,\n",
    "    df=dataset,\n",
    "    total_cf=5,\n",
    "    ordered_characteristics=ORDERED_CHARACTERISTICS_FULL,\n",
    ")"
   ],
   "metadata": {
    "collapsed": false
   }
  },
  {
   "cell_type": "markdown",
   "source": [
    "Adjust"
   ],
   "metadata": {
    "collapsed": false
   }
  },
  {
   "cell_type": "code",
   "execution_count": 48,
   "outputs": [
    {
     "data": {
      "text/plain": "6"
     },
     "execution_count": 48,
     "metadata": {},
     "output_type": "execute_result"
    }
   ],
   "source": [
    "calculate_level(\n",
    "    monster_stats=adjust_creature(\n",
    "        {col: val for col, val in adult.items() if col != \"level\"}, model, 6\n",
    "    ),\n",
    "    model=model,\n",
    ")"
   ],
   "metadata": {
    "collapsed": false
   }
  },
  {
   "cell_type": "markdown",
   "source": [
    "Counterfactuals"
   ],
   "metadata": {
    "collapsed": false
   }
  },
  {
   "cell_type": "code",
   "execution_count": 49,
   "outputs": [
    {
     "name": "stdout",
     "output_type": "stream",
     "text": [
      "[5.99999944]\n",
      "[5.99999962]\n",
      "[6.00000018]\n",
      "[6.00000035]\n",
      "[6.00000639]\n"
     ]
    }
   ],
   "source": [
    "test_cfs(result[\"values\"], 6)"
   ],
   "metadata": {
    "collapsed": false
   }
  },
  {
   "cell_type": "markdown",
   "source": [
    "### From 10 to 15"
   ],
   "metadata": {
    "collapsed": false
   }
  },
  {
   "cell_type": "code",
   "execution_count": 50,
   "outputs": [
    {
     "name": "stderr",
     "output_type": "stream",
     "text": [
      "100%|██████████| 1/1 [00:01<00:00,  1.13s/it]\n"
     ]
    }
   ],
   "source": [
    "result = generate_counterfactuals(\n",
    "    monster_stats=adult,\n",
    "    model=model,\n",
    "    new_level=15,\n",
    "    df=dataset,\n",
    "    total_cf=5,\n",
    "    ordered_characteristics=ORDERED_CHARACTERISTICS_FULL,\n",
    ")"
   ],
   "metadata": {
    "collapsed": false
   }
  },
  {
   "cell_type": "markdown",
   "source": [
    "Adjust"
   ],
   "metadata": {
    "collapsed": false
   }
  },
  {
   "cell_type": "code",
   "execution_count": 51,
   "outputs": [
    {
     "data": {
      "text/plain": "16"
     },
     "execution_count": 51,
     "metadata": {},
     "output_type": "execute_result"
    }
   ],
   "source": [
    "calculate_level(\n",
    "    monster_stats=adjust_creature(\n",
    "        {col: val for col, val in adult.items() if col != \"level\"}, model, 15\n",
    "    ),\n",
    "    model=model,\n",
    ")"
   ],
   "metadata": {
    "collapsed": false
   }
  },
  {
   "cell_type": "markdown",
   "source": [
    "Counterfactuals"
   ],
   "metadata": {
    "collapsed": false
   }
  },
  {
   "cell_type": "code",
   "execution_count": 52,
   "outputs": [
    {
     "name": "stdout",
     "output_type": "stream",
     "text": [
      "[14.99999963]\n",
      "[14.99999993]\n",
      "[14.99999994]\n",
      "[14.99999995]\n",
      "[15.00000213]\n"
     ]
    }
   ],
   "source": [
    "test_cfs(result[\"values\"], 15)"
   ],
   "metadata": {
    "collapsed": false
   }
  },
  {
   "cell_type": "markdown",
   "source": [
    "### From 10 to 2"
   ],
   "metadata": {
    "collapsed": false
   }
  },
  {
   "cell_type": "code",
   "execution_count": 53,
   "outputs": [
    {
     "name": "stderr",
     "output_type": "stream",
     "text": [
      "100%|██████████| 1/1 [00:00<00:00,  1.28it/s]\n"
     ]
    }
   ],
   "source": [
    "result = generate_counterfactuals(\n",
    "    monster_stats=adult,\n",
    "    model=model,\n",
    "    new_level=2,\n",
    "    df=dataset,\n",
    "    total_cf=5,\n",
    "    ordered_characteristics=ORDERED_CHARACTERISTICS_FULL,\n",
    ")"
   ],
   "metadata": {
    "collapsed": false
   }
  },
  {
   "cell_type": "markdown",
   "source": [
    "Adjust"
   ],
   "metadata": {
    "collapsed": false
   }
  },
  {
   "cell_type": "code",
   "execution_count": 54,
   "outputs": [
    {
     "data": {
      "text/plain": "4"
     },
     "execution_count": 54,
     "metadata": {},
     "output_type": "execute_result"
    }
   ],
   "source": [
    "calculate_level(\n",
    "    monster_stats=adjust_creature(\n",
    "        {col: val for col, val in adult.items() if col != \"level\"}, model, 2\n",
    "    ),\n",
    "    model=model,\n",
    ")"
   ],
   "metadata": {
    "collapsed": false
   }
  },
  {
   "cell_type": "markdown",
   "source": [
    "Counterfactuals"
   ],
   "metadata": {
    "collapsed": false
   }
  },
  {
   "cell_type": "code",
   "execution_count": 55,
   "outputs": [
    {
     "name": "stdout",
     "output_type": "stream",
     "text": [
      "[1.99999914]\n",
      "[1.99999989]\n",
      "[2.00000084]\n",
      "[2.00000104]\n",
      "[2.00000404]\n"
     ]
    }
   ],
   "source": [
    "test_cfs(result[\"values\"], 2)"
   ],
   "metadata": {
    "collapsed": false
   }
  },
  {
   "cell_type": "markdown",
   "source": [
    "## Ancient"
   ],
   "metadata": {
    "collapsed": false
   }
  },
  {
   "cell_type": "code",
   "execution_count": 56,
   "outputs": [
    {
     "data": {
      "text/plain": "15.0"
     },
     "execution_count": 56,
     "metadata": {},
     "output_type": "execute_result"
    }
   ],
   "source": [
    "ancient[\"level\"]"
   ],
   "metadata": {
    "collapsed": false
   }
  },
  {
   "cell_type": "markdown",
   "source": [
    "### From 15 to 6"
   ],
   "metadata": {
    "collapsed": false
   }
  },
  {
   "cell_type": "code",
   "execution_count": 57,
   "outputs": [
    {
     "name": "stderr",
     "output_type": "stream",
     "text": [
      "100%|██████████| 1/1 [00:00<00:00,  1.08it/s]\n"
     ]
    }
   ],
   "source": [
    "result = generate_counterfactuals(\n",
    "    monster_stats=ancient,\n",
    "    model=model,\n",
    "    new_level=6,\n",
    "    df=dataset,\n",
    "    total_cf=5,\n",
    "    ordered_characteristics=ORDERED_CHARACTERISTICS_FULL,\n",
    ")"
   ],
   "metadata": {
    "collapsed": false
   }
  },
  {
   "cell_type": "markdown",
   "source": [
    "Adjust"
   ],
   "metadata": {
    "collapsed": false
   }
  },
  {
   "cell_type": "code",
   "execution_count": 58,
   "outputs": [
    {
     "data": {
      "text/plain": "8"
     },
     "execution_count": 58,
     "metadata": {},
     "output_type": "execute_result"
    }
   ],
   "source": [
    "calculate_level(\n",
    "    monster_stats=adjust_creature(\n",
    "        {col: val for col, val in ancient.items() if col != \"level\"}, model, 6\n",
    "    ),\n",
    "    model=model,\n",
    ")"
   ],
   "metadata": {
    "collapsed": false
   }
  },
  {
   "cell_type": "markdown",
   "source": [
    "Counterfactuals"
   ],
   "metadata": {
    "collapsed": false
   }
  },
  {
   "cell_type": "code",
   "execution_count": 59,
   "outputs": [
    {
     "name": "stdout",
     "output_type": "stream",
     "text": [
      "[5.99999942]\n",
      "[5.99999944]\n",
      "[5.99999972]\n",
      "[6.00000018]\n",
      "[6.00000035]\n"
     ]
    }
   ],
   "source": [
    "test_cfs(result[\"values\"], 6)"
   ],
   "metadata": {
    "collapsed": false
   }
  },
  {
   "cell_type": "markdown",
   "source": [
    "### From 15 to 10"
   ],
   "metadata": {
    "collapsed": false
   }
  },
  {
   "cell_type": "code",
   "execution_count": 60,
   "outputs": [
    {
     "name": "stderr",
     "output_type": "stream",
     "text": [
      "100%|██████████| 1/1 [00:01<00:00,  1.54s/it]\n"
     ]
    }
   ],
   "source": [
    "result = generate_counterfactuals(\n",
    "    monster_stats=ancient,\n",
    "    model=model,\n",
    "    new_level=10,\n",
    "    df=dataset,\n",
    "    total_cf=5,\n",
    "    ordered_characteristics=ORDERED_CHARACTERISTICS_FULL,\n",
    ")"
   ],
   "metadata": {
    "collapsed": false
   }
  },
  {
   "cell_type": "markdown",
   "source": [
    "Adjust"
   ],
   "metadata": {
    "collapsed": false
   }
  },
  {
   "cell_type": "code",
   "execution_count": 61,
   "outputs": [
    {
     "data": {
      "text/plain": "11"
     },
     "execution_count": 61,
     "metadata": {},
     "output_type": "execute_result"
    }
   ],
   "source": [
    "calculate_level(\n",
    "    monster_stats=adjust_creature(\n",
    "        {col: val for col, val in ancient.items() if col != \"level\"}, model, 10\n",
    "    ),\n",
    "    model=model,\n",
    ")"
   ],
   "metadata": {
    "collapsed": false
   }
  },
  {
   "cell_type": "markdown",
   "source": [
    "Counterfactuals"
   ],
   "metadata": {
    "collapsed": false
   }
  },
  {
   "cell_type": "code",
   "execution_count": 62,
   "outputs": [
    {
     "name": "stdout",
     "output_type": "stream",
     "text": [
      "[9.99998207]\n",
      "[10.00000026]\n",
      "[10.00000078]\n",
      "[10.00000097]\n",
      "[10.00000146]\n"
     ]
    }
   ],
   "source": [
    "test_cfs(result[\"values\"], 10)"
   ],
   "metadata": {
    "collapsed": false
   }
  },
  {
   "cell_type": "markdown",
   "source": [
    "### From 15 to 2"
   ],
   "metadata": {
    "collapsed": false
   }
  },
  {
   "cell_type": "code",
   "execution_count": 63,
   "outputs": [
    {
     "name": "stderr",
     "output_type": "stream",
     "text": [
      "100%|██████████| 1/1 [00:01<00:00,  1.72s/it]\n"
     ]
    }
   ],
   "source": [
    "result = generate_counterfactuals(\n",
    "    monster_stats=ancient,\n",
    "    model=model,\n",
    "    new_level=2,\n",
    "    df=dataset,\n",
    "    total_cf=5,\n",
    "    ordered_characteristics=ORDERED_CHARACTERISTICS_FULL,\n",
    ")"
   ],
   "metadata": {
    "collapsed": false
   }
  },
  {
   "cell_type": "markdown",
   "source": [
    "Adjust"
   ],
   "metadata": {
    "collapsed": false
   }
  },
  {
   "cell_type": "code",
   "execution_count": 64,
   "outputs": [
    {
     "data": {
      "text/plain": "5"
     },
     "execution_count": 64,
     "metadata": {},
     "output_type": "execute_result"
    }
   ],
   "source": [
    "calculate_level(\n",
    "    monster_stats=adjust_creature(\n",
    "        {col: val for col, val in ancient.items() if col != \"level\"}, model, 2\n",
    "    ),\n",
    "    model=model,\n",
    ")"
   ],
   "metadata": {
    "collapsed": false
   }
  },
  {
   "cell_type": "markdown",
   "source": [
    "Counterfactuals"
   ],
   "metadata": {
    "collapsed": false
   }
  },
  {
   "cell_type": "code",
   "execution_count": 65,
   "outputs": [
    {
     "name": "stdout",
     "output_type": "stream",
     "text": [
      "[1.99999914]\n",
      "[1.99999975]\n",
      "[1.99999989]\n",
      "[2.00000104]\n",
      "[2.00000404]\n"
     ]
    }
   ],
   "source": [
    "test_cfs(result[\"values\"], 2)"
   ],
   "metadata": {
    "collapsed": false
   }
  },
  {
   "cell_type": "markdown",
   "source": [
    "## Faerie"
   ],
   "metadata": {
    "collapsed": false
   }
  },
  {
   "cell_type": "markdown",
   "source": [
    "### From 2 to 6"
   ],
   "metadata": {
    "collapsed": false
   }
  },
  {
   "cell_type": "code",
   "execution_count": 66,
   "outputs": [
    {
     "name": "stderr",
     "output_type": "stream",
     "text": [
      "100%|██████████| 1/1 [00:01<00:00,  1.82s/it]\n"
     ]
    }
   ],
   "source": [
    "result = generate_counterfactuals(\n",
    "    monster_stats=faerie,\n",
    "    model=model,\n",
    "    new_level=6,\n",
    "    df=dataset,\n",
    "    total_cf=5,\n",
    "    ordered_characteristics=ORDERED_CHARACTERISTICS_FULL,\n",
    ")"
   ],
   "metadata": {
    "collapsed": false
   }
  },
  {
   "cell_type": "markdown",
   "source": [
    "Adjust"
   ],
   "metadata": {
    "collapsed": false
   }
  },
  {
   "cell_type": "code",
   "execution_count": 69,
   "outputs": [
    {
     "data": {
      "text/plain": "8"
     },
     "execution_count": 69,
     "metadata": {},
     "output_type": "execute_result"
    }
   ],
   "source": [
    "calculate_level(\n",
    "    monster_stats=adjust_creature(\n",
    "        {col: val for col, val in faerie.items() if col != \"level\"}, model, 6\n",
    "    ),\n",
    "    model=model,\n",
    ")"
   ],
   "metadata": {
    "collapsed": false
   }
  },
  {
   "cell_type": "markdown",
   "source": [
    "Counterfactuals"
   ],
   "metadata": {
    "collapsed": false
   }
  },
  {
   "cell_type": "code",
   "execution_count": 70,
   "outputs": [
    {
     "name": "stdout",
     "output_type": "stream",
     "text": [
      "[5.99999121]\n",
      "[5.99999917]\n",
      "[5.99999994]\n",
      "[6.00000011]\n",
      "[6.00000035]\n"
     ]
    }
   ],
   "source": [
    "test_cfs(result[\"values\"], 6)"
   ],
   "metadata": {
    "collapsed": false
   }
  },
  {
   "cell_type": "markdown",
   "source": [
    "### From 2 to 10"
   ],
   "metadata": {
    "collapsed": false
   }
  },
  {
   "cell_type": "code",
   "execution_count": 71,
   "outputs": [
    {
     "name": "stderr",
     "output_type": "stream",
     "text": [
      "100%|██████████| 1/1 [00:01<00:00,  1.44s/it]\n"
     ]
    }
   ],
   "source": [
    "result = generate_counterfactuals(\n",
    "    monster_stats=faerie,\n",
    "    model=model,\n",
    "    new_level=10,\n",
    "    df=dataset,\n",
    "    total_cf=5,\n",
    "    ordered_characteristics=ORDERED_CHARACTERISTICS_FULL,\n",
    ")"
   ],
   "metadata": {
    "collapsed": false
   }
  },
  {
   "cell_type": "markdown",
   "source": [
    "Adjust"
   ],
   "metadata": {
    "collapsed": false
   }
  },
  {
   "cell_type": "code",
   "execution_count": 72,
   "outputs": [
    {
     "data": {
      "text/plain": "13"
     },
     "execution_count": 72,
     "metadata": {},
     "output_type": "execute_result"
    }
   ],
   "source": [
    "calculate_level(\n",
    "    monster_stats=adjust_creature(\n",
    "        {col: val for col, val in faerie.items() if col != \"level\"}, model, 10\n",
    "    ),\n",
    "    model=model,\n",
    ")"
   ],
   "metadata": {
    "collapsed": false
   }
  },
  {
   "cell_type": "markdown",
   "source": [
    "Counterfactuals"
   ],
   "metadata": {
    "collapsed": false
   }
  },
  {
   "cell_type": "code",
   "execution_count": 73,
   "outputs": [
    {
     "name": "stdout",
     "output_type": "stream",
     "text": [
      "[9.99999915]\n",
      "[9.99999959]\n",
      "[9.99999989]\n",
      "[10.00000079]\n",
      "[10.0000057]\n"
     ]
    }
   ],
   "source": [
    "test_cfs(result[\"values\"], 10)"
   ],
   "metadata": {
    "collapsed": false
   }
  },
  {
   "cell_type": "markdown",
   "source": [
    "### From 2 to 15"
   ],
   "metadata": {
    "collapsed": false
   }
  },
  {
   "cell_type": "code",
   "execution_count": 74,
   "outputs": [
    {
     "name": "stderr",
     "output_type": "stream",
     "text": [
      "100%|██████████| 1/1 [00:01<00:00,  1.89s/it]\n"
     ]
    }
   ],
   "source": [
    "result = generate_counterfactuals(\n",
    "    monster_stats=faerie,\n",
    "    model=model,\n",
    "    new_level=15,\n",
    "    df=dataset,\n",
    "    total_cf=5,\n",
    "    ordered_characteristics=ORDERED_CHARACTERISTICS_FULL,\n",
    ")"
   ],
   "metadata": {
    "collapsed": false
   }
  },
  {
   "cell_type": "markdown",
   "source": [
    "Adjust"
   ],
   "metadata": {
    "collapsed": false
   }
  },
  {
   "cell_type": "code",
   "execution_count": 75,
   "outputs": [
    {
     "data": {
      "text/plain": "18"
     },
     "execution_count": 75,
     "metadata": {},
     "output_type": "execute_result"
    }
   ],
   "source": [
    "calculate_level(\n",
    "    monster_stats=adjust_creature(\n",
    "        {col: val for col, val in faerie.items() if col != \"level\"}, model, 15\n",
    "    ),\n",
    "    model=model,\n",
    ")"
   ],
   "metadata": {
    "collapsed": false
   }
  },
  {
   "cell_type": "markdown",
   "source": [
    "Counterfactuals"
   ],
   "metadata": {
    "collapsed": false
   }
  },
  {
   "cell_type": "code",
   "execution_count": 76,
   "outputs": [
    {
     "name": "stdout",
     "output_type": "stream",
     "text": [
      "[14.99999983]\n",
      "[14.99999987]\n",
      "[14.99999993]\n",
      "[15.00000004]\n",
      "[15.00000053]\n"
     ]
    }
   ],
   "source": [
    "test_cfs(result[\"values\"], 15)"
   ],
   "metadata": {
    "collapsed": false
   }
  },
  {
   "cell_type": "markdown",
   "source": [
    "### From 2 to 4"
   ],
   "metadata": {
    "collapsed": false
   }
  },
  {
   "cell_type": "code",
   "execution_count": 77,
   "outputs": [
    {
     "data": {
      "text/plain": "6"
     },
     "execution_count": 77,
     "metadata": {},
     "output_type": "execute_result"
    }
   ],
   "source": [
    "new_monster = adjust_creature(\n",
    "    {col: val for col, val in faerie.items() if col != \"level\"}, model, 4\n",
    ")\n",
    "calculate_level(monster_stats=new_monster, model=model)"
   ],
   "metadata": {
    "collapsed": false
   }
  },
  {
   "cell_type": "code",
   "execution_count": 78,
   "outputs": [
    {
     "data": {
      "text/plain": "{'str': -2.0,\n 'dex': 4.0,\n 'con': 0.0,\n 'int': 2.0,\n 'wis': 0.0,\n 'cha': 2.0,\n 'ac': 22.0,\n 'hp': 60.0,\n 'perception': 20.0,\n 'fortitude': 5.0,\n 'reflex': 16.0,\n 'will': 15.0,\n 'focus': 5.0,\n 'land_speed': 15.0,\n 'fly': 40.0,\n 'climb': 0.0,\n 'swim': 20.0,\n 'num_immunities': 2.0,\n 'spells_nr_lvl_1': 3.0,\n 'spells_nr_lvl_2': 1.0,\n 'spells_nr_lvl_3': 0.0,\n 'spells_nr_lvl_4': 0.0,\n 'spells_nr_lvl_5': 0.0,\n 'spells_nr_lvl_6': 0.0,\n 'spells_nr_lvl_7': 0.0,\n 'spells_nr_lvl_8': 0.0,\n 'spells_nr_lvl_9': 0.0,\n 'melee_max_bonus': 14.0,\n 'avg_melee_dmg': 6.5,\n 'ranged_max_bonus': 4.0,\n 'avg_ranged_dmg': 4.0,\n 'acid_resistance': 0.0,\n 'all-damage_resistance': 0.0,\n 'bludgeoning_resistance': 0.0,\n 'cold_resistance': 0.0,\n 'electricity_resistance': 0.0,\n 'fire_resistance': 0.0,\n 'mental_resistance': 0.0,\n 'physical_resistance': 0.0,\n 'piercing_resistance': 0.0,\n 'poison_resistance': 0.0,\n 'slashing_resistance': 0.0,\n 'area-damage_weakness': 0.0,\n 'cold_weakness': 0.0,\n 'cold-iron_weakness': 0.0,\n 'evil_weakness': 0.0,\n 'fire_weakness': 0.0,\n 'good_weakness': 0.0,\n 'slashing_weakness': 0.0,\n 'splash-damage_weakness': 0.0}"
     },
     "execution_count": 78,
     "metadata": {},
     "output_type": "execute_result"
    }
   ],
   "source": [
    "new_monster"
   ],
   "metadata": {
    "collapsed": false
   }
  },
  {
   "cell_type": "code",
   "execution_count": 35,
   "outputs": [],
   "source": [
    "# pd.Series(new_monster).to_csv(\"./results/adjustment_2_to_4.csv\")"
   ],
   "metadata": {
    "collapsed": false
   }
  },
  {
   "cell_type": "code",
   "execution_count": 79,
   "outputs": [
    {
     "name": "stderr",
     "output_type": "stream",
     "text": [
      "100%|██████████| 1/1 [00:01<00:00,  1.48s/it]\n"
     ]
    }
   ],
   "source": [
    "result = generate_counterfactuals(\n",
    "    monster_stats=faerie,\n",
    "    model=model,\n",
    "    new_level=4,\n",
    "    df=dataset,\n",
    "    total_cf=5,\n",
    "    ordered_characteristics=ORDERED_CHARACTERISTICS_FULL,\n",
    ")"
   ],
   "metadata": {
    "collapsed": false
   }
  },
  {
   "cell_type": "code",
   "execution_count": 80,
   "outputs": [
    {
     "data": {
      "text/plain": "   str  dex  con  int  wis  cha    ac    hp  perception  fortitude  ...  \\\n0  3.0  2.0  3.0 -2.0  2.0 -2.0  21.0  40.0        10.0       13.0  ...   \n1 -4.0  4.0  2.0 -5.0  2.0 -1.0  18.0  45.0        10.0       10.0  ...   \n2 -5.0  4.0  0.0 -2.0  2.0  3.0  20.0  40.0        10.0        8.0  ...   \n3 -5.0  3.0  0.0  0.0  2.0  2.0  20.0  30.0        10.0        8.0  ...   \n4 -1.0  5.0  1.0  3.0  2.0  3.0  23.0  40.0        12.0        8.0  ...   \n\n   poison_resistance  slashing_resistance  area-damage_weakness  \\\n0                0.0                  0.0                   0.0   \n1                0.0                  3.0                   5.0   \n2                0.0                  0.0                   0.0   \n3                0.0                  0.0                   0.0   \n4                0.0                  0.0                   0.0   \n\n   cold_weakness  cold-iron_weakness  evil_weakness  fire_weakness  \\\n0            0.0                 0.0            0.0            0.0   \n1            0.0                 0.0            0.0            0.0   \n2            0.0                 0.0            0.0            0.0   \n3            0.0                 0.0            0.0            0.0   \n4            0.0                 5.0            0.0            0.0   \n\n   good_weakness  slashing_weakness  splash-damage_weakness  \n0            0.0                0.0                     0.0  \n1            0.0                0.0                     5.0  \n2            0.0                0.0                     0.0  \n3            0.0                0.0                     0.0  \n4            0.0                0.0                     0.0  \n\n[5 rows x 50 columns]",
      "text/html": "<div>\n<style scoped>\n    .dataframe tbody tr th:only-of-type {\n        vertical-align: middle;\n    }\n\n    .dataframe tbody tr th {\n        vertical-align: top;\n    }\n\n    .dataframe thead th {\n        text-align: right;\n    }\n</style>\n<table border=\"1\" class=\"dataframe\">\n  <thead>\n    <tr style=\"text-align: right;\">\n      <th></th>\n      <th>str</th>\n      <th>dex</th>\n      <th>con</th>\n      <th>int</th>\n      <th>wis</th>\n      <th>cha</th>\n      <th>ac</th>\n      <th>hp</th>\n      <th>perception</th>\n      <th>fortitude</th>\n      <th>...</th>\n      <th>poison_resistance</th>\n      <th>slashing_resistance</th>\n      <th>area-damage_weakness</th>\n      <th>cold_weakness</th>\n      <th>cold-iron_weakness</th>\n      <th>evil_weakness</th>\n      <th>fire_weakness</th>\n      <th>good_weakness</th>\n      <th>slashing_weakness</th>\n      <th>splash-damage_weakness</th>\n    </tr>\n  </thead>\n  <tbody>\n    <tr>\n      <th>0</th>\n      <td>3.0</td>\n      <td>2.0</td>\n      <td>3.0</td>\n      <td>-2.0</td>\n      <td>2.0</td>\n      <td>-2.0</td>\n      <td>21.0</td>\n      <td>40.0</td>\n      <td>10.0</td>\n      <td>13.0</td>\n      <td>...</td>\n      <td>0.0</td>\n      <td>0.0</td>\n      <td>0.0</td>\n      <td>0.0</td>\n      <td>0.0</td>\n      <td>0.0</td>\n      <td>0.0</td>\n      <td>0.0</td>\n      <td>0.0</td>\n      <td>0.0</td>\n    </tr>\n    <tr>\n      <th>1</th>\n      <td>-4.0</td>\n      <td>4.0</td>\n      <td>2.0</td>\n      <td>-5.0</td>\n      <td>2.0</td>\n      <td>-1.0</td>\n      <td>18.0</td>\n      <td>45.0</td>\n      <td>10.0</td>\n      <td>10.0</td>\n      <td>...</td>\n      <td>0.0</td>\n      <td>3.0</td>\n      <td>5.0</td>\n      <td>0.0</td>\n      <td>0.0</td>\n      <td>0.0</td>\n      <td>0.0</td>\n      <td>0.0</td>\n      <td>0.0</td>\n      <td>5.0</td>\n    </tr>\n    <tr>\n      <th>2</th>\n      <td>-5.0</td>\n      <td>4.0</td>\n      <td>0.0</td>\n      <td>-2.0</td>\n      <td>2.0</td>\n      <td>3.0</td>\n      <td>20.0</td>\n      <td>40.0</td>\n      <td>10.0</td>\n      <td>8.0</td>\n      <td>...</td>\n      <td>0.0</td>\n      <td>0.0</td>\n      <td>0.0</td>\n      <td>0.0</td>\n      <td>0.0</td>\n      <td>0.0</td>\n      <td>0.0</td>\n      <td>0.0</td>\n      <td>0.0</td>\n      <td>0.0</td>\n    </tr>\n    <tr>\n      <th>3</th>\n      <td>-5.0</td>\n      <td>3.0</td>\n      <td>0.0</td>\n      <td>0.0</td>\n      <td>2.0</td>\n      <td>2.0</td>\n      <td>20.0</td>\n      <td>30.0</td>\n      <td>10.0</td>\n      <td>8.0</td>\n      <td>...</td>\n      <td>0.0</td>\n      <td>0.0</td>\n      <td>0.0</td>\n      <td>0.0</td>\n      <td>0.0</td>\n      <td>0.0</td>\n      <td>0.0</td>\n      <td>0.0</td>\n      <td>0.0</td>\n      <td>0.0</td>\n    </tr>\n    <tr>\n      <th>4</th>\n      <td>-1.0</td>\n      <td>5.0</td>\n      <td>1.0</td>\n      <td>3.0</td>\n      <td>2.0</td>\n      <td>3.0</td>\n      <td>23.0</td>\n      <td>40.0</td>\n      <td>12.0</td>\n      <td>8.0</td>\n      <td>...</td>\n      <td>0.0</td>\n      <td>0.0</td>\n      <td>0.0</td>\n      <td>0.0</td>\n      <td>5.0</td>\n      <td>0.0</td>\n      <td>0.0</td>\n      <td>0.0</td>\n      <td>0.0</td>\n      <td>0.0</td>\n    </tr>\n  </tbody>\n</table>\n<p>5 rows × 50 columns</p>\n</div>"
     },
     "execution_count": 80,
     "metadata": {},
     "output_type": "execute_result"
    }
   ],
   "source": [
    "pd.DataFrame(data=result[\"values\"], columns=ORDERED_CHARACTERISTICS_FULL)"
   ],
   "metadata": {
    "collapsed": false
   }
  },
  {
   "cell_type": "code",
   "execution_count": 82,
   "outputs": [
    {
     "name": "stdout",
     "output_type": "stream",
     "text": [
      "[3.99999573]\n",
      "[3.99999686]\n",
      "[3.99999972]\n",
      "[4.00000021]\n",
      "[4.0000005]\n"
     ]
    }
   ],
   "source": [
    "test_cfs(result[\"values\"], 4)"
   ],
   "metadata": {
    "collapsed": false
   }
  },
  {
   "cell_type": "code",
   "execution_count": 83,
   "outputs": [],
   "source": [
    "x = [result[\"values\"][0], result[\"values\"][3]]  # save more interesting exaples"
   ],
   "metadata": {
    "collapsed": false
   }
  },
  {
   "cell_type": "code",
   "execution_count": 47,
   "outputs": [],
   "source": [
    "# pd.DataFrame(data=x, columns=ORDERED_CHARACTERISTICS_FULL).to_csv(\"./results/cfs_2_to_4.csv\")"
   ],
   "metadata": {
    "collapsed": false
   }
  },
  {
   "cell_type": "markdown",
   "source": [
    "### From 2 to 20"
   ],
   "metadata": {
    "collapsed": false
   }
  },
  {
   "cell_type": "code",
   "execution_count": 84,
   "outputs": [
    {
     "data": {
      "text/plain": "18"
     },
     "execution_count": 84,
     "metadata": {},
     "output_type": "execute_result"
    }
   ],
   "source": [
    "new_monster = adjust_creature(\n",
    "    {col: val for col, val in faerie.items() if col != \"level\"}, model, 20\n",
    ")\n",
    "calculate_level(monster_stats=new_monster, model=model)"
   ],
   "metadata": {
    "collapsed": false
   }
  },
  {
   "cell_type": "code",
   "execution_count": 85,
   "outputs": [
    {
     "name": "stderr",
     "output_type": "stream",
     "text": [
      "100%|██████████| 1/1 [00:01<00:00,  1.25s/it]\n"
     ]
    }
   ],
   "source": [
    "result = generate_counterfactuals(\n",
    "    monster_stats=faerie,\n",
    "    model=model,\n",
    "    new_level=20,\n",
    "    df=dataset,\n",
    "    total_cf=2,\n",
    "    ordered_characteristics=ORDERED_CHARACTERISTICS_FULL,\n",
    ")"
   ],
   "metadata": {
    "collapsed": false
   }
  },
  {
   "cell_type": "code",
   "execution_count": 86,
   "outputs": [
    {
     "data": {
      "text/plain": "    str  dex   con  int  wis  cha    ac     hp  perception  fortitude  ...  \\\n0  10.0  7.0  10.0  6.0  8.0  6.0  47.0  280.0        37.0       38.0  ...   \n1  10.0  2.0   8.0 -3.0  6.0  1.0  48.0  315.0        34.0       36.0  ...   \n\n   poison_resistance  slashing_resistance  area-damage_weakness  \\\n0                0.0                  0.0                   0.0   \n1                0.0                  0.0                   0.0   \n\n   cold_weakness  cold-iron_weakness  evil_weakness  fire_weakness  \\\n0            0.0                 0.0           15.0            0.0   \n1            0.0                 0.0            0.0            0.0   \n\n   good_weakness  slashing_weakness  splash-damage_weakness  \n0            0.0                0.0                     0.0  \n1            0.0                0.0                     0.0  \n\n[2 rows x 50 columns]",
      "text/html": "<div>\n<style scoped>\n    .dataframe tbody tr th:only-of-type {\n        vertical-align: middle;\n    }\n\n    .dataframe tbody tr th {\n        vertical-align: top;\n    }\n\n    .dataframe thead th {\n        text-align: right;\n    }\n</style>\n<table border=\"1\" class=\"dataframe\">\n  <thead>\n    <tr style=\"text-align: right;\">\n      <th></th>\n      <th>str</th>\n      <th>dex</th>\n      <th>con</th>\n      <th>int</th>\n      <th>wis</th>\n      <th>cha</th>\n      <th>ac</th>\n      <th>hp</th>\n      <th>perception</th>\n      <th>fortitude</th>\n      <th>...</th>\n      <th>poison_resistance</th>\n      <th>slashing_resistance</th>\n      <th>area-damage_weakness</th>\n      <th>cold_weakness</th>\n      <th>cold-iron_weakness</th>\n      <th>evil_weakness</th>\n      <th>fire_weakness</th>\n      <th>good_weakness</th>\n      <th>slashing_weakness</th>\n      <th>splash-damage_weakness</th>\n    </tr>\n  </thead>\n  <tbody>\n    <tr>\n      <th>0</th>\n      <td>10.0</td>\n      <td>7.0</td>\n      <td>10.0</td>\n      <td>6.0</td>\n      <td>8.0</td>\n      <td>6.0</td>\n      <td>47.0</td>\n      <td>280.0</td>\n      <td>37.0</td>\n      <td>38.0</td>\n      <td>...</td>\n      <td>0.0</td>\n      <td>0.0</td>\n      <td>0.0</td>\n      <td>0.0</td>\n      <td>0.0</td>\n      <td>15.0</td>\n      <td>0.0</td>\n      <td>0.0</td>\n      <td>0.0</td>\n      <td>0.0</td>\n    </tr>\n    <tr>\n      <th>1</th>\n      <td>10.0</td>\n      <td>2.0</td>\n      <td>8.0</td>\n      <td>-3.0</td>\n      <td>6.0</td>\n      <td>1.0</td>\n      <td>48.0</td>\n      <td>315.0</td>\n      <td>34.0</td>\n      <td>36.0</td>\n      <td>...</td>\n      <td>0.0</td>\n      <td>0.0</td>\n      <td>0.0</td>\n      <td>0.0</td>\n      <td>0.0</td>\n      <td>0.0</td>\n      <td>0.0</td>\n      <td>0.0</td>\n      <td>0.0</td>\n      <td>0.0</td>\n    </tr>\n  </tbody>\n</table>\n<p>2 rows × 50 columns</p>\n</div>"
     },
     "execution_count": 86,
     "metadata": {},
     "output_type": "execute_result"
    }
   ],
   "source": [
    "pd.DataFrame(data=result[\"values\"], columns=ORDERED_CHARACTERISTICS_FULL)"
   ],
   "metadata": {
    "collapsed": false
   }
  },
  {
   "cell_type": "code",
   "execution_count": 87,
   "outputs": [
    {
     "name": "stdout",
     "output_type": "stream",
     "text": [
      "[20.00000005]\n",
      "[20.00000006]\n"
     ]
    }
   ],
   "source": [
    "test_cfs(result[\"values\"], 20)"
   ],
   "metadata": {
    "collapsed": false
   }
  },
  {
   "cell_type": "code",
   "execution_count": null,
   "outputs": [],
   "source": [],
   "metadata": {
    "collapsed": false
   }
  }
 ],
 "metadata": {
  "kernelspec": {
   "display_name": "Python 3",
   "language": "python",
   "name": "python3"
  },
  "language_info": {
   "codemirror_mode": {
    "name": "ipython",
    "version": 2
   },
   "file_extension": ".py",
   "mimetype": "text/x-python",
   "name": "python",
   "nbconvert_exporter": "python",
   "pygments_lexer": "ipython2",
   "version": "2.7.6"
  }
 },
 "nbformat": 4,
 "nbformat_minor": 0
}
