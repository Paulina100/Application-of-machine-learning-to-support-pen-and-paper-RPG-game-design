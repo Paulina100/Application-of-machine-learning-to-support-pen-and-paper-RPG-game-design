{
 "cells": [
  {
   "cell_type": "markdown",
   "source": [
    "# Generate counterfactuals for *White Dragon* family and *Faerie Dragon*"
   ],
   "metadata": {
    "collapsed": false
   }
  },
  {
   "cell_type": "code",
   "execution_count": 1,
   "metadata": {
    "collapsed": true
   },
   "outputs": [],
   "source": [
    "from training.creating_dataset import load_data, preprocess_data"
   ]
  },
  {
   "cell_type": "code",
   "execution_count": 2,
   "outputs": [],
   "source": [
    "import pandas as pd\n",
    "import sys\n",
    "\n",
    "import os\n",
    "import pathlib\n",
    "\n",
    "sys.path.append(\"../../..\")\n",
    "\n",
    "current_path = os.getcwd()\n",
    "current_path = os.getcwd()\n",
    "DATASETS_DIR = pathlib.Path(current_path).parent.parent.parent / \"pathfinder_2e_data\"\n",
    "DATASET_FILES = [\n",
    "    \"pathfinder-bestiary.db\",\n",
    "    \"pathfinder-bestiary-2.db\",\n",
    "    \"pathfinder-bestiary-3.db\",\n",
    "]\n",
    "DATASET_PATHS = [f\"{DATASETS_DIR}/{file}\" for file in DATASET_FILES]\n",
    "\n",
    "df = load_data(DATASET_PATHS)"
   ],
   "metadata": {
    "collapsed": false
   }
  },
  {
   "cell_type": "code",
   "execution_count": 3,
   "outputs": [
    {
     "data": {
      "text/plain": "                _id                                       img  \\\n0  024PqcF8yMRBrPuq  systems/pf2e/icons/default-icons/npc.svg   \n1  05E3kkjoLZVjFOeO  systems/pf2e/icons/default-icons/npc.svg   \n2  05wwpHHsBlxBbdkN  systems/pf2e/icons/default-icons/npc.svg   \n3  0FGz2eXm0SB04sJW  systems/pf2e/icons/default-icons/npc.svg   \n4  0HjVFx8qIKDCfblg  systems/pf2e/icons/default-icons/npc.svg   \n\n                                               items                  name  \\\n0  [{'_id': 'B7rzf0nBJmzg8x0y', 'img': 'systems/p...    Adult White Dragon   \n1  [{'_id': 'mYNDkS27YQRyy1F0', 'img': 'systems/p...          Brontosaurus   \n2  [{'_id': 'WkPeg600zGONsuJz', 'img': 'systems/p...        Giant Anaconda   \n3  [{'_id': 'joBYS96mXSnZC1WB', 'img': 'systems/p...  Ancient Green Dragon   \n4  [{'_id': 'xlUnQcjrxeMXu5Cd', 'img': 'systems/p...        Lantern Archon   \n\n  type  system.abilities.cha.mod  system.abilities.con.mod  \\\n0  npc                         1                         5   \n1  npc                         1                         5   \n2  npc                        -2                         6   \n3  npc                         6                         5   \n4  npc                         1                         1   \n\n   system.abilities.dex.mod  system.abilities.int.mod  \\\n0                         2                         1   \n1                         0                        -4   \n2                         3                        -4   \n3                         4                         6   \n4                         3                        -1   \n\n   system.abilities.str.mod  ...  system.traits.size.value  \\\n0                         7  ...                        lg   \n1                         9  ...                       grg   \n2                         7  ...                      huge   \n3                         7  ...                       grg   \n4                        -5  ...                        sm   \n\n    system.traits.value  system.schema.version system.schema.lastMigration  \\\n0        [cold, dragon]                  0.827                        None   \n1    [animal, dinosaur]                  0.827                        None   \n2              [animal]                  0.827                        None   \n3  [amphibious, dragon]                  0.827                        None   \n4   [archon, celestial]                  0.827                        None   \n\n                                 flags.core.sourceId  \\\n0  Compendium.pf2e.pathfinder-bestiary.024PqcF8yM...   \n1  Compendium.pf2e.pathfinder-bestiary.05E3kkjoLZ...   \n2  Compendium.pf2e.pathfinder-bestiary.05wwpHHsBl...   \n3  Compendium.pf2e.pathfinder-bestiary.0FGz2eXm0S...   \n4  Compendium.pf2e.pathfinder-bestiary.0HjVFx8qIK...   \n\n    system.attributes.resistances  system.traits.attitude.value  \\\n0                             NaN                           NaN   \n1                             NaN                           NaN   \n2                             NaN                           NaN   \n3                             NaN                           NaN   \n4  [{'type': 'fire', 'value': 3}]                           NaN   \n\n   prototypeToken.name system.attributes.hardness.value  \\\n0                  NaN                              NaN   \n1                  NaN                              NaN   \n2                  NaN                              NaN   \n3                  NaN                              NaN   \n4                  NaN                              NaN   \n\n  system.attributes.adjustment  \n0                          NaN  \n1                          NaN  \n2                          NaN  \n3                          NaN  \n4                          NaN  \n\n[5 rows x 55 columns]",
      "text/html": "<div>\n<style scoped>\n    .dataframe tbody tr th:only-of-type {\n        vertical-align: middle;\n    }\n\n    .dataframe tbody tr th {\n        vertical-align: top;\n    }\n\n    .dataframe thead th {\n        text-align: right;\n    }\n</style>\n<table border=\"1\" class=\"dataframe\">\n  <thead>\n    <tr style=\"text-align: right;\">\n      <th></th>\n      <th>_id</th>\n      <th>img</th>\n      <th>items</th>\n      <th>name</th>\n      <th>type</th>\n      <th>system.abilities.cha.mod</th>\n      <th>system.abilities.con.mod</th>\n      <th>system.abilities.dex.mod</th>\n      <th>system.abilities.int.mod</th>\n      <th>system.abilities.str.mod</th>\n      <th>...</th>\n      <th>system.traits.size.value</th>\n      <th>system.traits.value</th>\n      <th>system.schema.version</th>\n      <th>system.schema.lastMigration</th>\n      <th>flags.core.sourceId</th>\n      <th>system.attributes.resistances</th>\n      <th>system.traits.attitude.value</th>\n      <th>prototypeToken.name</th>\n      <th>system.attributes.hardness.value</th>\n      <th>system.attributes.adjustment</th>\n    </tr>\n  </thead>\n  <tbody>\n    <tr>\n      <th>0</th>\n      <td>024PqcF8yMRBrPuq</td>\n      <td>systems/pf2e/icons/default-icons/npc.svg</td>\n      <td>[{'_id': 'B7rzf0nBJmzg8x0y', 'img': 'systems/p...</td>\n      <td>Adult White Dragon</td>\n      <td>npc</td>\n      <td>1</td>\n      <td>5</td>\n      <td>2</td>\n      <td>1</td>\n      <td>7</td>\n      <td>...</td>\n      <td>lg</td>\n      <td>[cold, dragon]</td>\n      <td>0.827</td>\n      <td>None</td>\n      <td>Compendium.pf2e.pathfinder-bestiary.024PqcF8yM...</td>\n      <td>NaN</td>\n      <td>NaN</td>\n      <td>NaN</td>\n      <td>NaN</td>\n      <td>NaN</td>\n    </tr>\n    <tr>\n      <th>1</th>\n      <td>05E3kkjoLZVjFOeO</td>\n      <td>systems/pf2e/icons/default-icons/npc.svg</td>\n      <td>[{'_id': 'mYNDkS27YQRyy1F0', 'img': 'systems/p...</td>\n      <td>Brontosaurus</td>\n      <td>npc</td>\n      <td>1</td>\n      <td>5</td>\n      <td>0</td>\n      <td>-4</td>\n      <td>9</td>\n      <td>...</td>\n      <td>grg</td>\n      <td>[animal, dinosaur]</td>\n      <td>0.827</td>\n      <td>None</td>\n      <td>Compendium.pf2e.pathfinder-bestiary.05E3kkjoLZ...</td>\n      <td>NaN</td>\n      <td>NaN</td>\n      <td>NaN</td>\n      <td>NaN</td>\n      <td>NaN</td>\n    </tr>\n    <tr>\n      <th>2</th>\n      <td>05wwpHHsBlxBbdkN</td>\n      <td>systems/pf2e/icons/default-icons/npc.svg</td>\n      <td>[{'_id': 'WkPeg600zGONsuJz', 'img': 'systems/p...</td>\n      <td>Giant Anaconda</td>\n      <td>npc</td>\n      <td>-2</td>\n      <td>6</td>\n      <td>3</td>\n      <td>-4</td>\n      <td>7</td>\n      <td>...</td>\n      <td>huge</td>\n      <td>[animal]</td>\n      <td>0.827</td>\n      <td>None</td>\n      <td>Compendium.pf2e.pathfinder-bestiary.05wwpHHsBl...</td>\n      <td>NaN</td>\n      <td>NaN</td>\n      <td>NaN</td>\n      <td>NaN</td>\n      <td>NaN</td>\n    </tr>\n    <tr>\n      <th>3</th>\n      <td>0FGz2eXm0SB04sJW</td>\n      <td>systems/pf2e/icons/default-icons/npc.svg</td>\n      <td>[{'_id': 'joBYS96mXSnZC1WB', 'img': 'systems/p...</td>\n      <td>Ancient Green Dragon</td>\n      <td>npc</td>\n      <td>6</td>\n      <td>5</td>\n      <td>4</td>\n      <td>6</td>\n      <td>7</td>\n      <td>...</td>\n      <td>grg</td>\n      <td>[amphibious, dragon]</td>\n      <td>0.827</td>\n      <td>None</td>\n      <td>Compendium.pf2e.pathfinder-bestiary.0FGz2eXm0S...</td>\n      <td>NaN</td>\n      <td>NaN</td>\n      <td>NaN</td>\n      <td>NaN</td>\n      <td>NaN</td>\n    </tr>\n    <tr>\n      <th>4</th>\n      <td>0HjVFx8qIKDCfblg</td>\n      <td>systems/pf2e/icons/default-icons/npc.svg</td>\n      <td>[{'_id': 'xlUnQcjrxeMXu5Cd', 'img': 'systems/p...</td>\n      <td>Lantern Archon</td>\n      <td>npc</td>\n      <td>1</td>\n      <td>1</td>\n      <td>3</td>\n      <td>-1</td>\n      <td>-5</td>\n      <td>...</td>\n      <td>sm</td>\n      <td>[archon, celestial]</td>\n      <td>0.827</td>\n      <td>None</td>\n      <td>Compendium.pf2e.pathfinder-bestiary.0HjVFx8qIK...</td>\n      <td>[{'type': 'fire', 'value': 3}]</td>\n      <td>NaN</td>\n      <td>NaN</td>\n      <td>NaN</td>\n      <td>NaN</td>\n    </tr>\n  </tbody>\n</table>\n<p>5 rows × 55 columns</p>\n</div>"
     },
     "execution_count": 3,
     "metadata": {},
     "output_type": "execute_result"
    }
   ],
   "source": [
    "df.head()"
   ],
   "metadata": {
    "collapsed": false
   }
  },
  {
   "cell_type": "code",
   "execution_count": 4,
   "outputs": [],
   "source": [
    "df_dragons = df[(df.name.str.contains(\" Dragon\")) & ~(df.name.str.contains(\"Mage\"))]"
   ],
   "metadata": {
    "collapsed": false
   }
  },
  {
   "cell_type": "code",
   "execution_count": 5,
   "outputs": [
    {
     "data": {
      "text/plain": "                                        name  system.details.level.value\n0                         Adult White Dragon                          10\n3                       Ancient Green Dragon                          17\n17          Ancient Red Dragon (Spellcaster)                          19\n19                        Young White Dragon                           6\n21                       Young Copper Dragon                           8\n...                                      ...                         ...\n1173  Ancient Sovereign Dragon (Spellcaster)                          20\n1178                        Adult Sea Dragon                          12\n1186                     Young Forest Dragon                          10\n1191                 Adult Underworld Dragon                          11\n1201                Ancient Sovereign Dragon                          20\n\n[130 rows x 2 columns]",
      "text/html": "<div>\n<style scoped>\n    .dataframe tbody tr th:only-of-type {\n        vertical-align: middle;\n    }\n\n    .dataframe tbody tr th {\n        vertical-align: top;\n    }\n\n    .dataframe thead th {\n        text-align: right;\n    }\n</style>\n<table border=\"1\" class=\"dataframe\">\n  <thead>\n    <tr style=\"text-align: right;\">\n      <th></th>\n      <th>name</th>\n      <th>system.details.level.value</th>\n    </tr>\n  </thead>\n  <tbody>\n    <tr>\n      <th>0</th>\n      <td>Adult White Dragon</td>\n      <td>10</td>\n    </tr>\n    <tr>\n      <th>3</th>\n      <td>Ancient Green Dragon</td>\n      <td>17</td>\n    </tr>\n    <tr>\n      <th>17</th>\n      <td>Ancient Red Dragon (Spellcaster)</td>\n      <td>19</td>\n    </tr>\n    <tr>\n      <th>19</th>\n      <td>Young White Dragon</td>\n      <td>6</td>\n    </tr>\n    <tr>\n      <th>21</th>\n      <td>Young Copper Dragon</td>\n      <td>8</td>\n    </tr>\n    <tr>\n      <th>...</th>\n      <td>...</td>\n      <td>...</td>\n    </tr>\n    <tr>\n      <th>1173</th>\n      <td>Ancient Sovereign Dragon (Spellcaster)</td>\n      <td>20</td>\n    </tr>\n    <tr>\n      <th>1178</th>\n      <td>Adult Sea Dragon</td>\n      <td>12</td>\n    </tr>\n    <tr>\n      <th>1186</th>\n      <td>Young Forest Dragon</td>\n      <td>10</td>\n    </tr>\n    <tr>\n      <th>1191</th>\n      <td>Adult Underworld Dragon</td>\n      <td>11</td>\n    </tr>\n    <tr>\n      <th>1201</th>\n      <td>Ancient Sovereign Dragon</td>\n      <td>20</td>\n    </tr>\n  </tbody>\n</table>\n<p>130 rows × 2 columns</p>\n</div>"
     },
     "execution_count": 5,
     "metadata": {},
     "output_type": "execute_result"
    }
   ],
   "source": [
    "df_dragons[[\"name\", \"system.details.level.value\"]]"
   ],
   "metadata": {
    "collapsed": false
   }
  },
  {
   "cell_type": "code",
   "execution_count": 6,
   "outputs": [],
   "source": [
    "df_dragons_family = df_dragons[\n",
    "    (\n",
    "        (df_dragons.name.str.contains(\" White Dragon\"))\n",
    "        | (df_dragons.name.str.contains(\"Faerie\"))\n",
    "    )\n",
    "    & ~(df_dragons.name.str.contains(\"Spellcaster\"))\n",
    "]"
   ],
   "metadata": {
    "collapsed": false
   }
  },
  {
   "cell_type": "code",
   "execution_count": 7,
   "outputs": [
    {
     "data": {
      "text/plain": "0      10\n19      6\n268     2\n359    15\nName: system.details.level.value, dtype: int64"
     },
     "execution_count": 7,
     "metadata": {},
     "output_type": "execute_result"
    }
   ],
   "source": [
    "df_dragons_family[\"system.details.level.value\"]"
   ],
   "metadata": {
    "collapsed": false
   }
  },
  {
   "cell_type": "code",
   "execution_count": 8,
   "outputs": [
    {
     "data": {
      "text/plain": "{'Adult White Dragon': 0,\n 'Young White Dragon': 19,\n 'Faerie Dragon': 268,\n 'Ancient White Dragon': 359}"
     },
     "execution_count": 8,
     "metadata": {},
     "output_type": "execute_result"
    }
   ],
   "source": [
    "dragons_ids_names = {\n",
    "    df_dragons_family.loc[idx][\"name\"]: idx for idx in df_dragons_family.index\n",
    "}\n",
    "dragons_ids_names"
   ],
   "metadata": {
    "collapsed": false
   }
  },
  {
   "cell_type": "code",
   "execution_count": 9,
   "outputs": [],
   "source": [
    "characteristics = [\n",
    "    \"cha\",\n",
    "    \"con\",\n",
    "    \"dex\",\n",
    "    \"int\",\n",
    "    \"str\",\n",
    "    \"wis\",\n",
    "    \"ac\",\n",
    "    \"hp\",\n",
    "    \"perception\",\n",
    "    \"fortitude\",\n",
    "    \"reflex\",\n",
    "    \"will\",\n",
    "    \"focus\",\n",
    "    \"land_speed\",\n",
    "    \"num_immunities\",\n",
    "    \"fly\",\n",
    "    \"swim\",\n",
    "    \"climb\",\n",
    "    \"fire_resistance\",\n",
    "    \"cold_resistance\",\n",
    "    \"electricity_resistance\",\n",
    "    \"acid_resistance\",\n",
    "    \"piercing_resistance\",\n",
    "    \"slashing_resistance\",\n",
    "    \"physical_resistance\",\n",
    "    \"bludgeoning_resistance\",\n",
    "    \"mental_resistance\",\n",
    "    \"poison_resistance\",\n",
    "    \"all-damage_resistance\",\n",
    "    \"cold-iron_weakness\",\n",
    "    \"good_weakness\",\n",
    "    \"fire_weakness\",\n",
    "    \"cold_weakness\",\n",
    "    \"area-damage_weakness\",\n",
    "    \"splash-damage_weakness\",\n",
    "    \"evil_weakness\",\n",
    "    \"slashing_weakness\",\n",
    "    \"melee\",\n",
    "    \"ranged\",\n",
    "    \"spells\",\n",
    "]"
   ],
   "metadata": {
    "collapsed": false
   }
  },
  {
   "cell_type": "code",
   "execution_count": 10,
   "outputs": [
    {
     "data": {
      "text/plain": "                  _id                                       img  \\\n0    024PqcF8yMRBrPuq  systems/pf2e/icons/default-icons/npc.svg   \n19   3OPUMuBQThM5EXjz  systems/pf2e/icons/default-icons/npc.svg   \n268  atrhmCtNKx1MR06I  systems/pf2e/icons/default-icons/npc.svg   \n359  mXkMSlj3LldzKxB9  systems/pf2e/icons/default-icons/npc.svg   \n\n                                                 items                  name  \\\n0    [{'_id': 'B7rzf0nBJmzg8x0y', 'img': 'systems/p...    Adult White Dragon   \n19   [{'_id': 'MY6hTtpdYnUlbipf', 'img': 'systems/p...    Young White Dragon   \n268  [{'_id': '8yN0Tb58TCHXqGYI', 'img': 'systems/p...         Faerie Dragon   \n359  [{'_id': 'HkzWmjfjVp6p9yR8', 'img': 'systems/p...  Ancient White Dragon   \n\n    type  system.abilities.cha.mod  system.abilities.con.mod  \\\n0    npc                         1                         5   \n19   npc                         0                         4   \n268  npc                         2                         0   \n359  npc                         3                         7   \n\n     system.abilities.dex.mod  system.abilities.int.mod  \\\n0                           2                         1   \n19                          2                        -1   \n268                         4                         2   \n359                         3                         2   \n\n     system.abilities.str.mod  ...  system.traits.size.value  \\\n0                           7  ...                        lg   \n19                          6  ...                        lg   \n268                        -2  ...                      tiny   \n359                         8  ...                      huge   \n\n    system.traits.value  system.schema.version system.schema.lastMigration  \\\n0        [cold, dragon]                  0.827                        None   \n19       [cold, dragon]                  0.827                        None   \n268            [dragon]                  0.827                        None   \n359      [cold, dragon]                  0.827                        None   \n\n                                   flags.core.sourceId  \\\n0    Compendium.pf2e.pathfinder-bestiary.024PqcF8yM...   \n19   Compendium.pf2e.pathfinder-bestiary.3OPUMuBQTh...   \n268  Compendium.pf2e.pathfinder-bestiary.atrhmCtNKx...   \n359  Compendium.pf2e.pathfinder-bestiary.mXkMSlj3Ll...   \n\n     system.attributes.resistances  system.traits.attitude.value  \\\n0                              NaN                           NaN   \n19                             NaN                           NaN   \n268                            NaN                           NaN   \n359                            NaN                           NaN   \n\n     prototypeToken.name system.attributes.hardness.value  \\\n0                    NaN                              NaN   \n19                   NaN                              NaN   \n268                  NaN                              NaN   \n359                  NaN                              NaN   \n\n    system.attributes.adjustment  \n0                            NaN  \n19                           NaN  \n268                          NaN  \n359                          NaN  \n\n[4 rows x 55 columns]",
      "text/html": "<div>\n<style scoped>\n    .dataframe tbody tr th:only-of-type {\n        vertical-align: middle;\n    }\n\n    .dataframe tbody tr th {\n        vertical-align: top;\n    }\n\n    .dataframe thead th {\n        text-align: right;\n    }\n</style>\n<table border=\"1\" class=\"dataframe\">\n  <thead>\n    <tr style=\"text-align: right;\">\n      <th></th>\n      <th>_id</th>\n      <th>img</th>\n      <th>items</th>\n      <th>name</th>\n      <th>type</th>\n      <th>system.abilities.cha.mod</th>\n      <th>system.abilities.con.mod</th>\n      <th>system.abilities.dex.mod</th>\n      <th>system.abilities.int.mod</th>\n      <th>system.abilities.str.mod</th>\n      <th>...</th>\n      <th>system.traits.size.value</th>\n      <th>system.traits.value</th>\n      <th>system.schema.version</th>\n      <th>system.schema.lastMigration</th>\n      <th>flags.core.sourceId</th>\n      <th>system.attributes.resistances</th>\n      <th>system.traits.attitude.value</th>\n      <th>prototypeToken.name</th>\n      <th>system.attributes.hardness.value</th>\n      <th>system.attributes.adjustment</th>\n    </tr>\n  </thead>\n  <tbody>\n    <tr>\n      <th>0</th>\n      <td>024PqcF8yMRBrPuq</td>\n      <td>systems/pf2e/icons/default-icons/npc.svg</td>\n      <td>[{'_id': 'B7rzf0nBJmzg8x0y', 'img': 'systems/p...</td>\n      <td>Adult White Dragon</td>\n      <td>npc</td>\n      <td>1</td>\n      <td>5</td>\n      <td>2</td>\n      <td>1</td>\n      <td>7</td>\n      <td>...</td>\n      <td>lg</td>\n      <td>[cold, dragon]</td>\n      <td>0.827</td>\n      <td>None</td>\n      <td>Compendium.pf2e.pathfinder-bestiary.024PqcF8yM...</td>\n      <td>NaN</td>\n      <td>NaN</td>\n      <td>NaN</td>\n      <td>NaN</td>\n      <td>NaN</td>\n    </tr>\n    <tr>\n      <th>19</th>\n      <td>3OPUMuBQThM5EXjz</td>\n      <td>systems/pf2e/icons/default-icons/npc.svg</td>\n      <td>[{'_id': 'MY6hTtpdYnUlbipf', 'img': 'systems/p...</td>\n      <td>Young White Dragon</td>\n      <td>npc</td>\n      <td>0</td>\n      <td>4</td>\n      <td>2</td>\n      <td>-1</td>\n      <td>6</td>\n      <td>...</td>\n      <td>lg</td>\n      <td>[cold, dragon]</td>\n      <td>0.827</td>\n      <td>None</td>\n      <td>Compendium.pf2e.pathfinder-bestiary.3OPUMuBQTh...</td>\n      <td>NaN</td>\n      <td>NaN</td>\n      <td>NaN</td>\n      <td>NaN</td>\n      <td>NaN</td>\n    </tr>\n    <tr>\n      <th>268</th>\n      <td>atrhmCtNKx1MR06I</td>\n      <td>systems/pf2e/icons/default-icons/npc.svg</td>\n      <td>[{'_id': '8yN0Tb58TCHXqGYI', 'img': 'systems/p...</td>\n      <td>Faerie Dragon</td>\n      <td>npc</td>\n      <td>2</td>\n      <td>0</td>\n      <td>4</td>\n      <td>2</td>\n      <td>-2</td>\n      <td>...</td>\n      <td>tiny</td>\n      <td>[dragon]</td>\n      <td>0.827</td>\n      <td>None</td>\n      <td>Compendium.pf2e.pathfinder-bestiary.atrhmCtNKx...</td>\n      <td>NaN</td>\n      <td>NaN</td>\n      <td>NaN</td>\n      <td>NaN</td>\n      <td>NaN</td>\n    </tr>\n    <tr>\n      <th>359</th>\n      <td>mXkMSlj3LldzKxB9</td>\n      <td>systems/pf2e/icons/default-icons/npc.svg</td>\n      <td>[{'_id': 'HkzWmjfjVp6p9yR8', 'img': 'systems/p...</td>\n      <td>Ancient White Dragon</td>\n      <td>npc</td>\n      <td>3</td>\n      <td>7</td>\n      <td>3</td>\n      <td>2</td>\n      <td>8</td>\n      <td>...</td>\n      <td>huge</td>\n      <td>[cold, dragon]</td>\n      <td>0.827</td>\n      <td>None</td>\n      <td>Compendium.pf2e.pathfinder-bestiary.mXkMSlj3Ll...</td>\n      <td>NaN</td>\n      <td>NaN</td>\n      <td>NaN</td>\n      <td>NaN</td>\n      <td>NaN</td>\n    </tr>\n  </tbody>\n</table>\n<p>4 rows × 55 columns</p>\n</div>"
     },
     "execution_count": 10,
     "metadata": {},
     "output_type": "execute_result"
    }
   ],
   "source": [
    "df_dragons_family"
   ],
   "metadata": {
    "collapsed": false
   }
  },
  {
   "cell_type": "code",
   "execution_count": 11,
   "outputs": [
    {
     "data": {
      "text/plain": "     str  dex  con  int  wis  cha  ac   hp  perception  fortitude  ...  \\\n0      7    2    5    1    2    1  29  215          20         22  ...   \n19     6    2    4   -1    1    0  23  115          13         16  ...   \n268   -2    4    0    2    0    2  18   30          16          5  ...   \n359    8    3    7    2    3    3  36  330          30         30  ...   \n\n     slashing_resistance  area-damage_weakness  cold_weakness  \\\n0                      0                     0              0   \n19                     0                     0              0   \n268                    0                     0              0   \n359                    0                     0              0   \n\n     cold-iron_weakness  evil_weakness  fire_weakness  good_weakness  \\\n0                     0              0             10              0   \n19                    0              0              5              0   \n268                   0              0              0              0   \n359                   0              0             15              0   \n\n     slashing_weakness  splash-damage_weakness  level  \n0                    0                       0     10  \n19                   0                       0      6  \n268                  0                       0      2  \n359                  0                       0     15  \n\n[4 rows x 51 columns]",
      "text/html": "<div>\n<style scoped>\n    .dataframe tbody tr th:only-of-type {\n        vertical-align: middle;\n    }\n\n    .dataframe tbody tr th {\n        vertical-align: top;\n    }\n\n    .dataframe thead th {\n        text-align: right;\n    }\n</style>\n<table border=\"1\" class=\"dataframe\">\n  <thead>\n    <tr style=\"text-align: right;\">\n      <th></th>\n      <th>str</th>\n      <th>dex</th>\n      <th>con</th>\n      <th>int</th>\n      <th>wis</th>\n      <th>cha</th>\n      <th>ac</th>\n      <th>hp</th>\n      <th>perception</th>\n      <th>fortitude</th>\n      <th>...</th>\n      <th>slashing_resistance</th>\n      <th>area-damage_weakness</th>\n      <th>cold_weakness</th>\n      <th>cold-iron_weakness</th>\n      <th>evil_weakness</th>\n      <th>fire_weakness</th>\n      <th>good_weakness</th>\n      <th>slashing_weakness</th>\n      <th>splash-damage_weakness</th>\n      <th>level</th>\n    </tr>\n  </thead>\n  <tbody>\n    <tr>\n      <th>0</th>\n      <td>7</td>\n      <td>2</td>\n      <td>5</td>\n      <td>1</td>\n      <td>2</td>\n      <td>1</td>\n      <td>29</td>\n      <td>215</td>\n      <td>20</td>\n      <td>22</td>\n      <td>...</td>\n      <td>0</td>\n      <td>0</td>\n      <td>0</td>\n      <td>0</td>\n      <td>0</td>\n      <td>10</td>\n      <td>0</td>\n      <td>0</td>\n      <td>0</td>\n      <td>10</td>\n    </tr>\n    <tr>\n      <th>19</th>\n      <td>6</td>\n      <td>2</td>\n      <td>4</td>\n      <td>-1</td>\n      <td>1</td>\n      <td>0</td>\n      <td>23</td>\n      <td>115</td>\n      <td>13</td>\n      <td>16</td>\n      <td>...</td>\n      <td>0</td>\n      <td>0</td>\n      <td>0</td>\n      <td>0</td>\n      <td>0</td>\n      <td>5</td>\n      <td>0</td>\n      <td>0</td>\n      <td>0</td>\n      <td>6</td>\n    </tr>\n    <tr>\n      <th>268</th>\n      <td>-2</td>\n      <td>4</td>\n      <td>0</td>\n      <td>2</td>\n      <td>0</td>\n      <td>2</td>\n      <td>18</td>\n      <td>30</td>\n      <td>16</td>\n      <td>5</td>\n      <td>...</td>\n      <td>0</td>\n      <td>0</td>\n      <td>0</td>\n      <td>0</td>\n      <td>0</td>\n      <td>0</td>\n      <td>0</td>\n      <td>0</td>\n      <td>0</td>\n      <td>2</td>\n    </tr>\n    <tr>\n      <th>359</th>\n      <td>8</td>\n      <td>3</td>\n      <td>7</td>\n      <td>2</td>\n      <td>3</td>\n      <td>3</td>\n      <td>36</td>\n      <td>330</td>\n      <td>30</td>\n      <td>30</td>\n      <td>...</td>\n      <td>0</td>\n      <td>0</td>\n      <td>0</td>\n      <td>0</td>\n      <td>0</td>\n      <td>15</td>\n      <td>0</td>\n      <td>0</td>\n      <td>0</td>\n      <td>15</td>\n    </tr>\n  </tbody>\n</table>\n<p>4 rows × 51 columns</p>\n</div>"
     },
     "execution_count": 11,
     "metadata": {},
     "output_type": "execute_result"
    }
   ],
   "source": [
    "from serving.backend.constants import ORDERED_CHARACTERISTICS_FULL\n",
    "\n",
    "\n",
    "dragons = preprocess_data(df_dragons_family, characteristics)[\n",
    "    ORDERED_CHARACTERISTICS_FULL + [\"level\"]\n",
    "]\n",
    "dragons"
   ],
   "metadata": {
    "collapsed": false
   }
  },
  {
   "cell_type": "code",
   "execution_count": 12,
   "outputs": [],
   "source": [
    "# save results\n",
    "# if not os.path.exists('results'):\n",
    "#    os.makedirs('results')\n",
    "#\n",
    "# dragons.to_csv(\"./results/orginal_dragons.csv\")"
   ],
   "metadata": {
    "collapsed": false
   }
  },
  {
   "cell_type": "code",
   "execution_count": 13,
   "outputs": [],
   "source": [
    "dataset = preprocess_data(df, characteristics)\n",
    "dataset = dataset[ORDERED_CHARACTERISTICS_FULL + [\"level\"]]"
   ],
   "metadata": {
    "collapsed": false
   }
  },
  {
   "cell_type": "code",
   "execution_count": 14,
   "outputs": [],
   "source": [
    "from training.create_model import get_fitted_model\n",
    "import joblib\n",
    "\n",
    "model = joblib.load(filename=\"../../../saved_models/current_model_full.pkl\")"
   ],
   "metadata": {
    "collapsed": false
   }
  },
  {
   "cell_type": "code",
   "execution_count": 15,
   "outputs": [],
   "source": [
    "from serving.backend.generate_counterfactuals import generate_counterfactuals\n",
    "\n",
    "\n",
    "young = dragons.loc[dragons_ids_names[\"Young White Dragon\"]].to_dict()\n",
    "adult = dragons.loc[dragons_ids_names[\"Adult White Dragon\"]].to_dict()\n",
    "ancient = dragons.loc[dragons_ids_names[\"Ancient White Dragon\"]].to_dict()\n",
    "faerie = dragons.loc[dragons_ids_names[\"Faerie Dragon\"]].to_dict()"
   ],
   "metadata": {
    "collapsed": false
   }
  },
  {
   "cell_type": "code",
   "execution_count": 16,
   "outputs": [
    {
     "data": {
      "text/plain": "{'str': -2.0,\n 'dex': 4.0,\n 'con': 0.0,\n 'int': 2.0,\n 'wis': 0.0,\n 'cha': 2.0,\n 'ac': 18.0,\n 'hp': 30.0,\n 'perception': 16.0,\n 'fortitude': 5.0,\n 'reflex': 12.0,\n 'will': 11.0,\n 'focus': 1.0,\n 'land_speed': 15.0,\n 'fly': 40.0,\n 'climb': 0.0,\n 'swim': 20.0,\n 'num_immunities': 2.0,\n 'spells_nr_lvl_1': 3.0,\n 'spells_nr_lvl_2': 1.0,\n 'spells_nr_lvl_3': 0.0,\n 'spells_nr_lvl_4': 0.0,\n 'spells_nr_lvl_5': 0.0,\n 'spells_nr_lvl_6': 0.0,\n 'spells_nr_lvl_7': 0.0,\n 'spells_nr_lvl_8': 0.0,\n 'spells_nr_lvl_9': 0.0,\n 'melee_max_bonus': 10.0,\n 'avg_melee_dmg': 2.5,\n 'ranged_max_bonus': 0.0,\n 'avg_ranged_dmg': 0.0,\n 'acid_resistance': 0.0,\n 'all-damage_resistance': 0.0,\n 'bludgeoning_resistance': 0.0,\n 'cold_resistance': 0.0,\n 'electricity_resistance': 0.0,\n 'fire_resistance': 0.0,\n 'mental_resistance': 0.0,\n 'physical_resistance': 0.0,\n 'piercing_resistance': 0.0,\n 'poison_resistance': 0.0,\n 'slashing_resistance': 0.0,\n 'area-damage_weakness': 0.0,\n 'cold_weakness': 0.0,\n 'cold-iron_weakness': 0.0,\n 'evil_weakness': 0.0,\n 'fire_weakness': 0.0,\n 'good_weakness': 0.0,\n 'slashing_weakness': 0.0,\n 'splash-damage_weakness': 0.0,\n 'level': 2.0}"
     },
     "execution_count": 16,
     "metadata": {},
     "output_type": "execute_result"
    }
   ],
   "source": [
    "faerie"
   ],
   "metadata": {
    "collapsed": false
   }
  },
  {
   "cell_type": "code",
   "execution_count": 17,
   "outputs": [
    {
     "data": {
      "text/plain": "{'str': 6.0,\n 'dex': 2.0,\n 'con': 4.0,\n 'int': -1.0,\n 'wis': 1.0,\n 'cha': 0.0,\n 'ac': 23.0,\n 'hp': 115.0,\n 'perception': 13.0,\n 'fortitude': 16.0,\n 'reflex': 14.0,\n 'will': 11.0,\n 'focus': 0.0,\n 'land_speed': 30.0,\n 'fly': 80.0,\n 'climb': 30.0,\n 'swim': 0.0,\n 'num_immunities': 3.0,\n 'spells_nr_lvl_1': 0.0,\n 'spells_nr_lvl_2': 0.0,\n 'spells_nr_lvl_3': 0.0,\n 'spells_nr_lvl_4': 0.0,\n 'spells_nr_lvl_5': 0.0,\n 'spells_nr_lvl_6': 0.0,\n 'spells_nr_lvl_7': 0.0,\n 'spells_nr_lvl_8': 0.0,\n 'spells_nr_lvl_9': 0.0,\n 'melee_max_bonus': 17.0,\n 'avg_melee_dmg': 16.0,\n 'ranged_max_bonus': 0.0,\n 'avg_ranged_dmg': 0.0,\n 'acid_resistance': 0.0,\n 'all-damage_resistance': 0.0,\n 'bludgeoning_resistance': 0.0,\n 'cold_resistance': 0.0,\n 'electricity_resistance': 0.0,\n 'fire_resistance': 0.0,\n 'mental_resistance': 0.0,\n 'physical_resistance': 0.0,\n 'piercing_resistance': 0.0,\n 'poison_resistance': 0.0,\n 'slashing_resistance': 0.0,\n 'area-damage_weakness': 0.0,\n 'cold_weakness': 0.0,\n 'cold-iron_weakness': 0.0,\n 'evil_weakness': 0.0,\n 'fire_weakness': 5.0,\n 'good_weakness': 0.0,\n 'slashing_weakness': 0.0,\n 'splash-damage_weakness': 0.0,\n 'level': 6.0}"
     },
     "execution_count": 17,
     "metadata": {},
     "output_type": "execute_result"
    }
   ],
   "source": [
    "young"
   ],
   "metadata": {
    "collapsed": false
   }
  },
  {
   "cell_type": "code",
   "execution_count": 18,
   "outputs": [
    {
     "data": {
      "text/plain": "{'str': 7.0,\n 'dex': 2.0,\n 'con': 5.0,\n 'int': 1.0,\n 'wis': 2.0,\n 'cha': 1.0,\n 'ac': 29.0,\n 'hp': 215.0,\n 'perception': 20.0,\n 'fortitude': 22.0,\n 'reflex': 19.0,\n 'will': 17.0,\n 'focus': 1.0,\n 'land_speed': 30.0,\n 'fly': 120.0,\n 'climb': 30.0,\n 'swim': 0.0,\n 'num_immunities': 3.0,\n 'spells_nr_lvl_1': 1.0,\n 'spells_nr_lvl_2': 1.0,\n 'spells_nr_lvl_3': 0.0,\n 'spells_nr_lvl_4': 0.0,\n 'spells_nr_lvl_5': 0.0,\n 'spells_nr_lvl_6': 0.0,\n 'spells_nr_lvl_7': 0.0,\n 'spells_nr_lvl_8': 0.0,\n 'spells_nr_lvl_9': 0.0,\n 'melee_max_bonus': 23.0,\n 'avg_melee_dmg': 22.0,\n 'ranged_max_bonus': 0.0,\n 'avg_ranged_dmg': 0.0,\n 'acid_resistance': 0.0,\n 'all-damage_resistance': 0.0,\n 'bludgeoning_resistance': 0.0,\n 'cold_resistance': 0.0,\n 'electricity_resistance': 0.0,\n 'fire_resistance': 0.0,\n 'mental_resistance': 0.0,\n 'physical_resistance': 0.0,\n 'piercing_resistance': 0.0,\n 'poison_resistance': 0.0,\n 'slashing_resistance': 0.0,\n 'area-damage_weakness': 0.0,\n 'cold_weakness': 0.0,\n 'cold-iron_weakness': 0.0,\n 'evil_weakness': 0.0,\n 'fire_weakness': 10.0,\n 'good_weakness': 0.0,\n 'slashing_weakness': 0.0,\n 'splash-damage_weakness': 0.0,\n 'level': 10.0}"
     },
     "execution_count": 18,
     "metadata": {},
     "output_type": "execute_result"
    }
   ],
   "source": [
    "adult"
   ],
   "metadata": {
    "collapsed": false
   }
  },
  {
   "cell_type": "code",
   "execution_count": 19,
   "outputs": [
    {
     "data": {
      "text/plain": "{'str': 8.0,\n 'dex': 3.0,\n 'con': 7.0,\n 'int': 2.0,\n 'wis': 3.0,\n 'cha': 3.0,\n 'ac': 36.0,\n 'hp': 330.0,\n 'perception': 30.0,\n 'fortitude': 30.0,\n 'reflex': 26.0,\n 'will': 24.0,\n 'focus': 1.0,\n 'land_speed': 40.0,\n 'fly': 160.0,\n 'climb': 40.0,\n 'swim': 0.0,\n 'num_immunities': 3.0,\n 'spells_nr_lvl_1': 1.0,\n 'spells_nr_lvl_2': 1.0,\n 'spells_nr_lvl_3': 0.0,\n 'spells_nr_lvl_4': 0.0,\n 'spells_nr_lvl_5': 1.0,\n 'spells_nr_lvl_6': 0.0,\n 'spells_nr_lvl_7': 0.0,\n 'spells_nr_lvl_8': 0.0,\n 'spells_nr_lvl_9': 0.0,\n 'melee_max_bonus': 31.0,\n 'avg_melee_dmg': 32.5,\n 'ranged_max_bonus': 0.0,\n 'avg_ranged_dmg': 0.0,\n 'acid_resistance': 0.0,\n 'all-damage_resistance': 0.0,\n 'bludgeoning_resistance': 0.0,\n 'cold_resistance': 0.0,\n 'electricity_resistance': 0.0,\n 'fire_resistance': 0.0,\n 'mental_resistance': 0.0,\n 'physical_resistance': 0.0,\n 'piercing_resistance': 0.0,\n 'poison_resistance': 0.0,\n 'slashing_resistance': 0.0,\n 'area-damage_weakness': 0.0,\n 'cold_weakness': 0.0,\n 'cold-iron_weakness': 0.0,\n 'evil_weakness': 0.0,\n 'fire_weakness': 15.0,\n 'good_weakness': 0.0,\n 'slashing_weakness': 0.0,\n 'splash-damage_weakness': 0.0,\n 'level': 15.0}"
     },
     "execution_count": 19,
     "metadata": {},
     "output_type": "execute_result"
    }
   ],
   "source": [
    "ancient"
   ],
   "metadata": {
    "collapsed": false
   }
  },
  {
   "cell_type": "code",
   "execution_count": 25,
   "outputs": [],
   "source": [
    "diff_columns = [f\"{col}_diff\" for col in ORDERED_CHARACTERISTICS_FULL]\n",
    "\n",
    "\n",
    "def compare_monsters(cfs, compare_to_monster):\n",
    "    compare_df = pd.DataFrame(columns=ORDERED_CHARACTERISTICS_FULL)\n",
    "    diff_df = pd.DataFrame(columns=diff_columns)\n",
    "\n",
    "    for cf in cfs:\n",
    "        cfs_comp_dict = dict()\n",
    "        diff_dict = dict()\n",
    "        for i, col in enumerate(ORDERED_CHARACTERISTICS_FULL):\n",
    "            val = cf[i]\n",
    "            cfs_comp_dict[col] = [val] if val != compare_to_monster[col] else [\"-\"]\n",
    "            diff_dict[f\"{col}_diff\"] = (\n",
    "                [val - compare_to_monster[col]]\n",
    "                if val != compare_to_monster[col]\n",
    "                else [\"-\"]\n",
    "            )\n",
    "\n",
    "        comparison = pd.DataFrame.from_dict(cfs_comp_dict)\n",
    "        difference = pd.DataFrame.from_dict(diff_dict)\n",
    "        compare_df = pd.concat([comparison, compare_df.loc[:]]).reset_index(drop=True)\n",
    "        diff_df = pd.concat([difference, diff_df]).reset_index(drop=True)\n",
    "\n",
    "    return compare_df, diff_df"
   ],
   "metadata": {
    "collapsed": false
   }
  },
  {
   "cell_type": "code",
   "execution_count": 26,
   "outputs": [],
   "source": [
    "from serving.backend.calculate_level import calculate_level\n",
    "\n",
    "\n",
    "def test_cfs(cfs, new_level, path_to_save=None):\n",
    "    monsters = pd.DataFrame(data=cfs, columns=ORDERED_CHARACTERISTICS_FULL)\n",
    "    monsters[\"level\"] = None\n",
    "    lvls = []\n",
    "    for i, cf in enumerate(cfs):\n",
    "        predicted_lvl = model.predict(pd.DataFrame.from_records([cf]))\n",
    "        monsters.at[i, \"level\"] = predicted_lvl\n",
    "        if calculate_level(cf, model) != new_level:\n",
    "            print(predicted_lvl, calculate_level(cf, model))\n",
    "            assert calculate_level(cf, model) == new_level\n",
    "        lvls.append(predicted_lvl)\n",
    "    lvls = sorted(lvls)\n",
    "    for lvl in lvls:\n",
    "        print(lvl)\n",
    "    if path_to_save:\n",
    "        monsters.to_csv(path_to_save)"
   ],
   "metadata": {
    "collapsed": false
   }
  },
  {
   "cell_type": "markdown",
   "source": [
    "## Young"
   ],
   "metadata": {
    "collapsed": false
   }
  },
  {
   "cell_type": "code",
   "execution_count": 27,
   "outputs": [
    {
     "data": {
      "text/plain": "6"
     },
     "execution_count": 27,
     "metadata": {},
     "output_type": "execute_result"
    }
   ],
   "source": [
    "from serving.backend.calculate_level import calculate_level\n",
    "\n",
    "calculate_level(\n",
    "    monster_stats={col: val for col, val in young.items() if col != \"level\"},\n",
    "    model=model,\n",
    ")"
   ],
   "metadata": {
    "collapsed": false
   }
  },
  {
   "cell_type": "code",
   "execution_count": 28,
   "outputs": [
    {
     "data": {
      "text/plain": "6.0"
     },
     "execution_count": 28,
     "metadata": {},
     "output_type": "execute_result"
    }
   ],
   "source": [
    "young[\"level\"]"
   ],
   "metadata": {
    "collapsed": false
   }
  },
  {
   "cell_type": "code",
   "execution_count": 30,
   "outputs": [
    {
     "name": "stderr",
     "output_type": "stream",
     "text": [
      "100%|██████████| 1/1 [00:00<00:00,  1.01it/s]\n"
     ]
    }
   ],
   "source": [
    "result = generate_counterfactuals(\n",
    "    monster_stats=young,\n",
    "    model=model,\n",
    "    new_level=10,\n",
    "    df=dataset,\n",
    "    total_cf=5,\n",
    "    ordered_characteristics=ORDERED_CHARACTERISTICS_FULL,\n",
    ")"
   ],
   "metadata": {
    "collapsed": false
   }
  },
  {
   "cell_type": "code",
   "execution_count": 33,
   "outputs": [
    {
     "name": "stdout",
     "output_type": "stream",
     "text": [
      "[9.999998]\n",
      "[9.99999952]\n",
      "[9.99999989]\n",
      "[10.00000097]\n",
      "[10.00000146]\n"
     ]
    }
   ],
   "source": [
    "test_cfs(result[\"values\"], 10)"
   ],
   "metadata": {
    "collapsed": false
   }
  },
  {
   "cell_type": "markdown",
   "source": [
    "### Compare to Adult"
   ],
   "metadata": {
    "collapsed": false
   }
  },
  {
   "cell_type": "code",
   "execution_count": 34,
   "outputs": [
    {
     "data": {
      "text/plain": "   str  dex  con  int  wis  cha    ac     hp perception  fortitude  ...  \\\n0  5.0  1.0  7.0  2.0  3.0  3.0  31.0  125.0       19.0       23.0  ...   \n1  6.0    -  3.0  2.0  4.0  4.0  31.0  200.0          -       20.0  ...   \n2  4.0  6.0  2.0  2.0  5.0  6.0  30.0  170.0       21.0       16.0  ...   \n3  6.0    -    -  2.0  4.0  3.0  30.0  195.0       18.0       21.0  ...   \n4  6.0    -    -  2.0  4.0  3.0  30.0  195.0       18.0       21.0  ...   \n\n   poison_resistance  slashing_resistance area-damage_weakness cold_weakness  \\\n0                  -                    -                    -             -   \n1                  -                    -                    -             -   \n2                  -                    -                    -             -   \n3                  -                    -                    -             -   \n4                  -                    -                    -             -   \n\n   cold-iron_weakness  evil_weakness fire_weakness good_weakness  \\\n0                   -           10.0           0.0             -   \n1                   -              -             -             -   \n2                   -              -           0.0             -   \n3                   -              -           5.0             -   \n4                   -              -           5.0             -   \n\n  slashing_weakness splash-damage_weakness  \n0                 -                      -  \n1                 -                      -  \n2                 -                      -  \n3                 -                      -  \n4                 -                      -  \n\n[5 rows x 50 columns]",
      "text/html": "<div>\n<style scoped>\n    .dataframe tbody tr th:only-of-type {\n        vertical-align: middle;\n    }\n\n    .dataframe tbody tr th {\n        vertical-align: top;\n    }\n\n    .dataframe thead th {\n        text-align: right;\n    }\n</style>\n<table border=\"1\" class=\"dataframe\">\n  <thead>\n    <tr style=\"text-align: right;\">\n      <th></th>\n      <th>str</th>\n      <th>dex</th>\n      <th>con</th>\n      <th>int</th>\n      <th>wis</th>\n      <th>cha</th>\n      <th>ac</th>\n      <th>hp</th>\n      <th>perception</th>\n      <th>fortitude</th>\n      <th>...</th>\n      <th>poison_resistance</th>\n      <th>slashing_resistance</th>\n      <th>area-damage_weakness</th>\n      <th>cold_weakness</th>\n      <th>cold-iron_weakness</th>\n      <th>evil_weakness</th>\n      <th>fire_weakness</th>\n      <th>good_weakness</th>\n      <th>slashing_weakness</th>\n      <th>splash-damage_weakness</th>\n    </tr>\n  </thead>\n  <tbody>\n    <tr>\n      <th>0</th>\n      <td>5.0</td>\n      <td>1.0</td>\n      <td>7.0</td>\n      <td>2.0</td>\n      <td>3.0</td>\n      <td>3.0</td>\n      <td>31.0</td>\n      <td>125.0</td>\n      <td>19.0</td>\n      <td>23.0</td>\n      <td>...</td>\n      <td>-</td>\n      <td>-</td>\n      <td>-</td>\n      <td>-</td>\n      <td>-</td>\n      <td>10.0</td>\n      <td>0.0</td>\n      <td>-</td>\n      <td>-</td>\n      <td>-</td>\n    </tr>\n    <tr>\n      <th>1</th>\n      <td>6.0</td>\n      <td>-</td>\n      <td>3.0</td>\n      <td>2.0</td>\n      <td>4.0</td>\n      <td>4.0</td>\n      <td>31.0</td>\n      <td>200.0</td>\n      <td>-</td>\n      <td>20.0</td>\n      <td>...</td>\n      <td>-</td>\n      <td>-</td>\n      <td>-</td>\n      <td>-</td>\n      <td>-</td>\n      <td>-</td>\n      <td>-</td>\n      <td>-</td>\n      <td>-</td>\n      <td>-</td>\n    </tr>\n    <tr>\n      <th>2</th>\n      <td>4.0</td>\n      <td>6.0</td>\n      <td>2.0</td>\n      <td>2.0</td>\n      <td>5.0</td>\n      <td>6.0</td>\n      <td>30.0</td>\n      <td>170.0</td>\n      <td>21.0</td>\n      <td>16.0</td>\n      <td>...</td>\n      <td>-</td>\n      <td>-</td>\n      <td>-</td>\n      <td>-</td>\n      <td>-</td>\n      <td>-</td>\n      <td>0.0</td>\n      <td>-</td>\n      <td>-</td>\n      <td>-</td>\n    </tr>\n    <tr>\n      <th>3</th>\n      <td>6.0</td>\n      <td>-</td>\n      <td>-</td>\n      <td>2.0</td>\n      <td>4.0</td>\n      <td>3.0</td>\n      <td>30.0</td>\n      <td>195.0</td>\n      <td>18.0</td>\n      <td>21.0</td>\n      <td>...</td>\n      <td>-</td>\n      <td>-</td>\n      <td>-</td>\n      <td>-</td>\n      <td>-</td>\n      <td>-</td>\n      <td>5.0</td>\n      <td>-</td>\n      <td>-</td>\n      <td>-</td>\n    </tr>\n    <tr>\n      <th>4</th>\n      <td>6.0</td>\n      <td>-</td>\n      <td>-</td>\n      <td>2.0</td>\n      <td>4.0</td>\n      <td>3.0</td>\n      <td>30.0</td>\n      <td>195.0</td>\n      <td>18.0</td>\n      <td>21.0</td>\n      <td>...</td>\n      <td>-</td>\n      <td>-</td>\n      <td>-</td>\n      <td>-</td>\n      <td>-</td>\n      <td>-</td>\n      <td>5.0</td>\n      <td>-</td>\n      <td>-</td>\n      <td>-</td>\n    </tr>\n  </tbody>\n</table>\n<p>5 rows × 50 columns</p>\n</div>"
     },
     "execution_count": 34,
     "metadata": {},
     "output_type": "execute_result"
    }
   ],
   "source": [
    "comp, diff = compare_monsters(result[\"values\"], adult)\n",
    "comp"
   ],
   "metadata": {
    "collapsed": false
   }
  },
  {
   "cell_type": "code",
   "execution_count": 35,
   "outputs": [],
   "source": [
    "# comp.to_csv(\"./results/compare_young_to_adult.csv\")\n",
    "# diff.to_csv(\"./results/compare_diff_young_to_adult.csv\")"
   ],
   "metadata": {
    "collapsed": false
   }
  },
  {
   "cell_type": "code",
   "execution_count": 36,
   "outputs": [
    {
     "data": {
      "text/plain": "   str_diff dex_diff con_diff  int_diff  wis_diff  cha_diff  ac_diff  hp_diff  \\\n0      -2.0     -1.0      2.0       1.0       1.0       2.0      2.0    -90.0   \n1      -1.0        -     -2.0       1.0       2.0       3.0      2.0    -15.0   \n2      -3.0      4.0     -3.0       1.0       3.0       5.0      1.0    -45.0   \n3      -1.0        -        -       1.0       2.0       2.0      1.0    -20.0   \n4      -1.0        -        -       1.0       2.0       2.0      1.0    -20.0   \n\n  perception_diff  fortitude_diff  ...  poison_resistance_diff  \\\n0            -1.0             1.0  ...                       -   \n1               -            -2.0  ...                       -   \n2             1.0            -6.0  ...                       -   \n3            -2.0            -1.0  ...                       -   \n4            -2.0            -1.0  ...                       -   \n\n   slashing_resistance_diff area-damage_weakness_diff cold_weakness_diff  \\\n0                         -                         -                  -   \n1                         -                         -                  -   \n2                         -                         -                  -   \n3                         -                         -                  -   \n4                         -                         -                  -   \n\n   cold-iron_weakness_diff  evil_weakness_diff fire_weakness_diff  \\\n0                        -                10.0              -10.0   \n1                        -                   -                  -   \n2                        -                   -              -10.0   \n3                        -                   -               -5.0   \n4                        -                   -               -5.0   \n\n  good_weakness_diff slashing_weakness_diff splash-damage_weakness_diff  \n0                  -                      -                           -  \n1                  -                      -                           -  \n2                  -                      -                           -  \n3                  -                      -                           -  \n4                  -                      -                           -  \n\n[5 rows x 50 columns]",
      "text/html": "<div>\n<style scoped>\n    .dataframe tbody tr th:only-of-type {\n        vertical-align: middle;\n    }\n\n    .dataframe tbody tr th {\n        vertical-align: top;\n    }\n\n    .dataframe thead th {\n        text-align: right;\n    }\n</style>\n<table border=\"1\" class=\"dataframe\">\n  <thead>\n    <tr style=\"text-align: right;\">\n      <th></th>\n      <th>str_diff</th>\n      <th>dex_diff</th>\n      <th>con_diff</th>\n      <th>int_diff</th>\n      <th>wis_diff</th>\n      <th>cha_diff</th>\n      <th>ac_diff</th>\n      <th>hp_diff</th>\n      <th>perception_diff</th>\n      <th>fortitude_diff</th>\n      <th>...</th>\n      <th>poison_resistance_diff</th>\n      <th>slashing_resistance_diff</th>\n      <th>area-damage_weakness_diff</th>\n      <th>cold_weakness_diff</th>\n      <th>cold-iron_weakness_diff</th>\n      <th>evil_weakness_diff</th>\n      <th>fire_weakness_diff</th>\n      <th>good_weakness_diff</th>\n      <th>slashing_weakness_diff</th>\n      <th>splash-damage_weakness_diff</th>\n    </tr>\n  </thead>\n  <tbody>\n    <tr>\n      <th>0</th>\n      <td>-2.0</td>\n      <td>-1.0</td>\n      <td>2.0</td>\n      <td>1.0</td>\n      <td>1.0</td>\n      <td>2.0</td>\n      <td>2.0</td>\n      <td>-90.0</td>\n      <td>-1.0</td>\n      <td>1.0</td>\n      <td>...</td>\n      <td>-</td>\n      <td>-</td>\n      <td>-</td>\n      <td>-</td>\n      <td>-</td>\n      <td>10.0</td>\n      <td>-10.0</td>\n      <td>-</td>\n      <td>-</td>\n      <td>-</td>\n    </tr>\n    <tr>\n      <th>1</th>\n      <td>-1.0</td>\n      <td>-</td>\n      <td>-2.0</td>\n      <td>1.0</td>\n      <td>2.0</td>\n      <td>3.0</td>\n      <td>2.0</td>\n      <td>-15.0</td>\n      <td>-</td>\n      <td>-2.0</td>\n      <td>...</td>\n      <td>-</td>\n      <td>-</td>\n      <td>-</td>\n      <td>-</td>\n      <td>-</td>\n      <td>-</td>\n      <td>-</td>\n      <td>-</td>\n      <td>-</td>\n      <td>-</td>\n    </tr>\n    <tr>\n      <th>2</th>\n      <td>-3.0</td>\n      <td>4.0</td>\n      <td>-3.0</td>\n      <td>1.0</td>\n      <td>3.0</td>\n      <td>5.0</td>\n      <td>1.0</td>\n      <td>-45.0</td>\n      <td>1.0</td>\n      <td>-6.0</td>\n      <td>...</td>\n      <td>-</td>\n      <td>-</td>\n      <td>-</td>\n      <td>-</td>\n      <td>-</td>\n      <td>-</td>\n      <td>-10.0</td>\n      <td>-</td>\n      <td>-</td>\n      <td>-</td>\n    </tr>\n    <tr>\n      <th>3</th>\n      <td>-1.0</td>\n      <td>-</td>\n      <td>-</td>\n      <td>1.0</td>\n      <td>2.0</td>\n      <td>2.0</td>\n      <td>1.0</td>\n      <td>-20.0</td>\n      <td>-2.0</td>\n      <td>-1.0</td>\n      <td>...</td>\n      <td>-</td>\n      <td>-</td>\n      <td>-</td>\n      <td>-</td>\n      <td>-</td>\n      <td>-</td>\n      <td>-5.0</td>\n      <td>-</td>\n      <td>-</td>\n      <td>-</td>\n    </tr>\n    <tr>\n      <th>4</th>\n      <td>-1.0</td>\n      <td>-</td>\n      <td>-</td>\n      <td>1.0</td>\n      <td>2.0</td>\n      <td>2.0</td>\n      <td>1.0</td>\n      <td>-20.0</td>\n      <td>-2.0</td>\n      <td>-1.0</td>\n      <td>...</td>\n      <td>-</td>\n      <td>-</td>\n      <td>-</td>\n      <td>-</td>\n      <td>-</td>\n      <td>-</td>\n      <td>-5.0</td>\n      <td>-</td>\n      <td>-</td>\n      <td>-</td>\n    </tr>\n  </tbody>\n</table>\n<p>5 rows × 50 columns</p>\n</div>"
     },
     "execution_count": 36,
     "metadata": {},
     "output_type": "execute_result"
    }
   ],
   "source": [
    "diff"
   ],
   "metadata": {
    "collapsed": false
   }
  },
  {
   "cell_type": "code",
   "execution_count": 38,
   "outputs": [
    {
     "name": "stderr",
     "output_type": "stream",
     "text": [
      "100%|██████████| 1/1 [00:00<00:00,  1.17it/s]\n"
     ]
    }
   ],
   "source": [
    "result = generate_counterfactuals(\n",
    "    monster_stats=young,\n",
    "    model=model,\n",
    "    new_level=15,\n",
    "    df=dataset,\n",
    "    total_cf=5,\n",
    "    ordered_characteristics=ORDERED_CHARACTERISTICS_FULL,\n",
    ")"
   ],
   "metadata": {
    "collapsed": false
   }
  },
  {
   "cell_type": "code",
   "execution_count": 39,
   "outputs": [
    {
     "name": "stdout",
     "output_type": "stream",
     "text": [
      "[14.99999963]\n",
      "[14.99999987]\n",
      "[14.99999993]\n",
      "[14.99999993]\n",
      "[15.00000004]\n"
     ]
    }
   ],
   "source": [
    "test_cfs(result[\"values\"], 15)"
   ],
   "metadata": {
    "collapsed": false
   }
  },
  {
   "cell_type": "markdown",
   "source": [
    "### Compare to Ancient"
   ],
   "metadata": {
    "collapsed": false
   }
  },
  {
   "cell_type": "code",
   "execution_count": 40,
   "outputs": [
    {
     "data": {
      "text/plain": "   str  dex  con  int  wis  cha    ac     hp  perception  fortitude  ...  \\\n0  7.0  5.0  5.0  3.0  4.0  6.0  37.0  270.0        25.0       26.0  ...   \n1  9.0  4.0  6.0 -5.0  6.0 -4.0  38.0  275.0        27.0       29.0  ...   \n2 -5.0  7.0  0.0  1.0  6.0  8.0  35.0  175.0        27.0       21.0  ...   \n3  9.0  2.0  8.0 -5.0  0.0 -5.0  39.0  245.0        23.0       31.0  ...   \n4  6.0  8.0  4.0  8.0  6.0  4.0  37.0  216.0        27.0       23.0  ...   \n\n   poison_resistance  slashing_resistance  area-damage_weakness  \\\n0                  -                    -                     -   \n1                  -                    -                     -   \n2                  -                    -                     -   \n3                  -                    -                     -   \n4                  -                    -                     -   \n\n   cold_weakness  cold-iron_weakness  evil_weakness fire_weakness  \\\n0              -                   -              -           0.0   \n1              -                   -              -           0.0   \n2              -                   -              -           0.0   \n3              -                   -              -           0.0   \n4              -                   -              -           0.0   \n\n  good_weakness slashing_weakness splash-damage_weakness  \n0             -                 -                      -  \n1             -                 -                      -  \n2             -                 -                      -  \n3             -                 -                      -  \n4             -                 -                      -  \n\n[5 rows x 50 columns]",
      "text/html": "<div>\n<style scoped>\n    .dataframe tbody tr th:only-of-type {\n        vertical-align: middle;\n    }\n\n    .dataframe tbody tr th {\n        vertical-align: top;\n    }\n\n    .dataframe thead th {\n        text-align: right;\n    }\n</style>\n<table border=\"1\" class=\"dataframe\">\n  <thead>\n    <tr style=\"text-align: right;\">\n      <th></th>\n      <th>str</th>\n      <th>dex</th>\n      <th>con</th>\n      <th>int</th>\n      <th>wis</th>\n      <th>cha</th>\n      <th>ac</th>\n      <th>hp</th>\n      <th>perception</th>\n      <th>fortitude</th>\n      <th>...</th>\n      <th>poison_resistance</th>\n      <th>slashing_resistance</th>\n      <th>area-damage_weakness</th>\n      <th>cold_weakness</th>\n      <th>cold-iron_weakness</th>\n      <th>evil_weakness</th>\n      <th>fire_weakness</th>\n      <th>good_weakness</th>\n      <th>slashing_weakness</th>\n      <th>splash-damage_weakness</th>\n    </tr>\n  </thead>\n  <tbody>\n    <tr>\n      <th>0</th>\n      <td>7.0</td>\n      <td>5.0</td>\n      <td>5.0</td>\n      <td>3.0</td>\n      <td>4.0</td>\n      <td>6.0</td>\n      <td>37.0</td>\n      <td>270.0</td>\n      <td>25.0</td>\n      <td>26.0</td>\n      <td>...</td>\n      <td>-</td>\n      <td>-</td>\n      <td>-</td>\n      <td>-</td>\n      <td>-</td>\n      <td>-</td>\n      <td>0.0</td>\n      <td>-</td>\n      <td>-</td>\n      <td>-</td>\n    </tr>\n    <tr>\n      <th>1</th>\n      <td>9.0</td>\n      <td>4.0</td>\n      <td>6.0</td>\n      <td>-5.0</td>\n      <td>6.0</td>\n      <td>-4.0</td>\n      <td>38.0</td>\n      <td>275.0</td>\n      <td>27.0</td>\n      <td>29.0</td>\n      <td>...</td>\n      <td>-</td>\n      <td>-</td>\n      <td>-</td>\n      <td>-</td>\n      <td>-</td>\n      <td>-</td>\n      <td>0.0</td>\n      <td>-</td>\n      <td>-</td>\n      <td>-</td>\n    </tr>\n    <tr>\n      <th>2</th>\n      <td>-5.0</td>\n      <td>7.0</td>\n      <td>0.0</td>\n      <td>1.0</td>\n      <td>6.0</td>\n      <td>8.0</td>\n      <td>35.0</td>\n      <td>175.0</td>\n      <td>27.0</td>\n      <td>21.0</td>\n      <td>...</td>\n      <td>-</td>\n      <td>-</td>\n      <td>-</td>\n      <td>-</td>\n      <td>-</td>\n      <td>-</td>\n      <td>0.0</td>\n      <td>-</td>\n      <td>-</td>\n      <td>-</td>\n    </tr>\n    <tr>\n      <th>3</th>\n      <td>9.0</td>\n      <td>2.0</td>\n      <td>8.0</td>\n      <td>-5.0</td>\n      <td>0.0</td>\n      <td>-5.0</td>\n      <td>39.0</td>\n      <td>245.0</td>\n      <td>23.0</td>\n      <td>31.0</td>\n      <td>...</td>\n      <td>-</td>\n      <td>-</td>\n      <td>-</td>\n      <td>-</td>\n      <td>-</td>\n      <td>-</td>\n      <td>0.0</td>\n      <td>-</td>\n      <td>-</td>\n      <td>-</td>\n    </tr>\n    <tr>\n      <th>4</th>\n      <td>6.0</td>\n      <td>8.0</td>\n      <td>4.0</td>\n      <td>8.0</td>\n      <td>6.0</td>\n      <td>4.0</td>\n      <td>37.0</td>\n      <td>216.0</td>\n      <td>27.0</td>\n      <td>23.0</td>\n      <td>...</td>\n      <td>-</td>\n      <td>-</td>\n      <td>-</td>\n      <td>-</td>\n      <td>-</td>\n      <td>-</td>\n      <td>0.0</td>\n      <td>-</td>\n      <td>-</td>\n      <td>-</td>\n    </tr>\n  </tbody>\n</table>\n<p>5 rows × 50 columns</p>\n</div>"
     },
     "execution_count": 40,
     "metadata": {},
     "output_type": "execute_result"
    }
   ],
   "source": [
    "comp, diff = compare_monsters(result[\"values\"], ancient)\n",
    "comp"
   ],
   "metadata": {
    "collapsed": false
   }
  },
  {
   "cell_type": "code",
   "execution_count": 41,
   "outputs": [
    {
     "data": {
      "text/plain": "   str_diff  dex_diff  con_diff  int_diff  wis_diff  cha_diff  ac_diff  \\\n0      -1.0       2.0      -2.0       1.0       1.0       3.0      1.0   \n1       1.0       1.0      -1.0      -7.0       3.0      -7.0      2.0   \n2     -13.0       4.0      -7.0      -1.0       3.0       5.0     -1.0   \n3       1.0      -1.0       1.0      -7.0      -3.0      -8.0      3.0   \n4      -2.0       5.0      -3.0       6.0       3.0       1.0      1.0   \n\n   hp_diff  perception_diff  fortitude_diff  ...  poison_resistance_diff  \\\n0    -60.0             -5.0            -4.0  ...                       -   \n1    -55.0             -3.0            -1.0  ...                       -   \n2   -155.0             -3.0            -9.0  ...                       -   \n3    -85.0             -7.0             1.0  ...                       -   \n4   -114.0             -3.0            -7.0  ...                       -   \n\n   slashing_resistance_diff  area-damage_weakness_diff  cold_weakness_diff  \\\n0                         -                          -                   -   \n1                         -                          -                   -   \n2                         -                          -                   -   \n3                         -                          -                   -   \n4                         -                          -                   -   \n\n   cold-iron_weakness_diff  evil_weakness_diff fire_weakness_diff  \\\n0                        -                   -              -15.0   \n1                        -                   -              -15.0   \n2                        -                   -              -15.0   \n3                        -                   -              -15.0   \n4                        -                   -              -15.0   \n\n  good_weakness_diff slashing_weakness_diff splash-damage_weakness_diff  \n0                  -                      -                           -  \n1                  -                      -                           -  \n2                  -                      -                           -  \n3                  -                      -                           -  \n4                  -                      -                           -  \n\n[5 rows x 50 columns]",
      "text/html": "<div>\n<style scoped>\n    .dataframe tbody tr th:only-of-type {\n        vertical-align: middle;\n    }\n\n    .dataframe tbody tr th {\n        vertical-align: top;\n    }\n\n    .dataframe thead th {\n        text-align: right;\n    }\n</style>\n<table border=\"1\" class=\"dataframe\">\n  <thead>\n    <tr style=\"text-align: right;\">\n      <th></th>\n      <th>str_diff</th>\n      <th>dex_diff</th>\n      <th>con_diff</th>\n      <th>int_diff</th>\n      <th>wis_diff</th>\n      <th>cha_diff</th>\n      <th>ac_diff</th>\n      <th>hp_diff</th>\n      <th>perception_diff</th>\n      <th>fortitude_diff</th>\n      <th>...</th>\n      <th>poison_resistance_diff</th>\n      <th>slashing_resistance_diff</th>\n      <th>area-damage_weakness_diff</th>\n      <th>cold_weakness_diff</th>\n      <th>cold-iron_weakness_diff</th>\n      <th>evil_weakness_diff</th>\n      <th>fire_weakness_diff</th>\n      <th>good_weakness_diff</th>\n      <th>slashing_weakness_diff</th>\n      <th>splash-damage_weakness_diff</th>\n    </tr>\n  </thead>\n  <tbody>\n    <tr>\n      <th>0</th>\n      <td>-1.0</td>\n      <td>2.0</td>\n      <td>-2.0</td>\n      <td>1.0</td>\n      <td>1.0</td>\n      <td>3.0</td>\n      <td>1.0</td>\n      <td>-60.0</td>\n      <td>-5.0</td>\n      <td>-4.0</td>\n      <td>...</td>\n      <td>-</td>\n      <td>-</td>\n      <td>-</td>\n      <td>-</td>\n      <td>-</td>\n      <td>-</td>\n      <td>-15.0</td>\n      <td>-</td>\n      <td>-</td>\n      <td>-</td>\n    </tr>\n    <tr>\n      <th>1</th>\n      <td>1.0</td>\n      <td>1.0</td>\n      <td>-1.0</td>\n      <td>-7.0</td>\n      <td>3.0</td>\n      <td>-7.0</td>\n      <td>2.0</td>\n      <td>-55.0</td>\n      <td>-3.0</td>\n      <td>-1.0</td>\n      <td>...</td>\n      <td>-</td>\n      <td>-</td>\n      <td>-</td>\n      <td>-</td>\n      <td>-</td>\n      <td>-</td>\n      <td>-15.0</td>\n      <td>-</td>\n      <td>-</td>\n      <td>-</td>\n    </tr>\n    <tr>\n      <th>2</th>\n      <td>-13.0</td>\n      <td>4.0</td>\n      <td>-7.0</td>\n      <td>-1.0</td>\n      <td>3.0</td>\n      <td>5.0</td>\n      <td>-1.0</td>\n      <td>-155.0</td>\n      <td>-3.0</td>\n      <td>-9.0</td>\n      <td>...</td>\n      <td>-</td>\n      <td>-</td>\n      <td>-</td>\n      <td>-</td>\n      <td>-</td>\n      <td>-</td>\n      <td>-15.0</td>\n      <td>-</td>\n      <td>-</td>\n      <td>-</td>\n    </tr>\n    <tr>\n      <th>3</th>\n      <td>1.0</td>\n      <td>-1.0</td>\n      <td>1.0</td>\n      <td>-7.0</td>\n      <td>-3.0</td>\n      <td>-8.0</td>\n      <td>3.0</td>\n      <td>-85.0</td>\n      <td>-7.0</td>\n      <td>1.0</td>\n      <td>...</td>\n      <td>-</td>\n      <td>-</td>\n      <td>-</td>\n      <td>-</td>\n      <td>-</td>\n      <td>-</td>\n      <td>-15.0</td>\n      <td>-</td>\n      <td>-</td>\n      <td>-</td>\n    </tr>\n    <tr>\n      <th>4</th>\n      <td>-2.0</td>\n      <td>5.0</td>\n      <td>-3.0</td>\n      <td>6.0</td>\n      <td>3.0</td>\n      <td>1.0</td>\n      <td>1.0</td>\n      <td>-114.0</td>\n      <td>-3.0</td>\n      <td>-7.0</td>\n      <td>...</td>\n      <td>-</td>\n      <td>-</td>\n      <td>-</td>\n      <td>-</td>\n      <td>-</td>\n      <td>-</td>\n      <td>-15.0</td>\n      <td>-</td>\n      <td>-</td>\n      <td>-</td>\n    </tr>\n  </tbody>\n</table>\n<p>5 rows × 50 columns</p>\n</div>"
     },
     "execution_count": 41,
     "metadata": {},
     "output_type": "execute_result"
    }
   ],
   "source": [
    "diff"
   ],
   "metadata": {
    "collapsed": false
   }
  },
  {
   "cell_type": "code",
   "execution_count": 42,
   "outputs": [
    {
     "name": "stderr",
     "output_type": "stream",
     "text": [
      "100%|██████████| 1/1 [00:00<00:00,  1.10it/s]\n"
     ]
    }
   ],
   "source": [
    "result = generate_counterfactuals(\n",
    "    monster_stats=young,\n",
    "    model=model,\n",
    "    new_level=2,\n",
    "    df=dataset,\n",
    "    total_cf=5,\n",
    "    ordered_characteristics=ORDERED_CHARACTERISTICS_FULL,\n",
    ")"
   ],
   "metadata": {
    "collapsed": false
   }
  },
  {
   "cell_type": "code",
   "execution_count": 43,
   "outputs": [
    {
     "name": "stdout",
     "output_type": "stream",
     "text": [
      "[1.99999914]\n",
      "[2.0000006]\n",
      "[2.00000084]\n",
      "[2.00000104]\n",
      "[2.00000404]\n"
     ]
    }
   ],
   "source": [
    "test_cfs(result[\"values\"], 2)"
   ],
   "metadata": {
    "collapsed": false
   }
  },
  {
   "cell_type": "markdown",
   "source": [
    "### Compare to Faerie"
   ],
   "metadata": {
    "collapsed": false
   }
  },
  {
   "cell_type": "code",
   "execution_count": 44,
   "outputs": [
    {
     "data": {
      "text/plain": "   str  dex  con  int  wis  cha    ac    hp  perception  fortitude  ...  \\\n0  4.0  2.0  4.0 -4.0    -  0.0  17.0  35.0         6.0       10.0  ...   \n1  1.0    -  1.0 -1.0    -    -  17.0  28.0         6.0        7.0  ...   \n2  3.0    -  1.0 -4.0  2.0 -1.0     -  35.0         8.0        7.0  ...   \n3  3.0  3.0  2.0 -4.0  2.0  0.0     -  32.0         8.0        8.0  ...   \n4  5.0 -3.0  4.0 -5.0    - -2.0  15.0  70.0         4.0       10.0  ...   \n\n   poison_resistance  slashing_resistance  area-damage_weakness cold_weakness  \\\n0                  -                    -                     -             -   \n1                  -                    -                     -             -   \n2                  -                    -                     -             -   \n3                  -                    -                     -             -   \n4                  -                    -                     -             -   \n\n  cold-iron_weakness evil_weakness  fire_weakness good_weakness  \\\n0                  -             -              -             -   \n1                  -             -            5.0             -   \n2                  -             -              -             -   \n3                  -             -              -             -   \n4                  -             -              -             -   \n\n   slashing_weakness  splash-damage_weakness  \n0                  -                       -  \n1                  -                       -  \n2                  -                       -  \n3                  -                       -  \n4               10.0                       -  \n\n[5 rows x 50 columns]",
      "text/html": "<div>\n<style scoped>\n    .dataframe tbody tr th:only-of-type {\n        vertical-align: middle;\n    }\n\n    .dataframe tbody tr th {\n        vertical-align: top;\n    }\n\n    .dataframe thead th {\n        text-align: right;\n    }\n</style>\n<table border=\"1\" class=\"dataframe\">\n  <thead>\n    <tr style=\"text-align: right;\">\n      <th></th>\n      <th>str</th>\n      <th>dex</th>\n      <th>con</th>\n      <th>int</th>\n      <th>wis</th>\n      <th>cha</th>\n      <th>ac</th>\n      <th>hp</th>\n      <th>perception</th>\n      <th>fortitude</th>\n      <th>...</th>\n      <th>poison_resistance</th>\n      <th>slashing_resistance</th>\n      <th>area-damage_weakness</th>\n      <th>cold_weakness</th>\n      <th>cold-iron_weakness</th>\n      <th>evil_weakness</th>\n      <th>fire_weakness</th>\n      <th>good_weakness</th>\n      <th>slashing_weakness</th>\n      <th>splash-damage_weakness</th>\n    </tr>\n  </thead>\n  <tbody>\n    <tr>\n      <th>0</th>\n      <td>4.0</td>\n      <td>2.0</td>\n      <td>4.0</td>\n      <td>-4.0</td>\n      <td>-</td>\n      <td>0.0</td>\n      <td>17.0</td>\n      <td>35.0</td>\n      <td>6.0</td>\n      <td>10.0</td>\n      <td>...</td>\n      <td>-</td>\n      <td>-</td>\n      <td>-</td>\n      <td>-</td>\n      <td>-</td>\n      <td>-</td>\n      <td>-</td>\n      <td>-</td>\n      <td>-</td>\n      <td>-</td>\n    </tr>\n    <tr>\n      <th>1</th>\n      <td>1.0</td>\n      <td>-</td>\n      <td>1.0</td>\n      <td>-1.0</td>\n      <td>-</td>\n      <td>-</td>\n      <td>17.0</td>\n      <td>28.0</td>\n      <td>6.0</td>\n      <td>7.0</td>\n      <td>...</td>\n      <td>-</td>\n      <td>-</td>\n      <td>-</td>\n      <td>-</td>\n      <td>-</td>\n      <td>-</td>\n      <td>5.0</td>\n      <td>-</td>\n      <td>-</td>\n      <td>-</td>\n    </tr>\n    <tr>\n      <th>2</th>\n      <td>3.0</td>\n      <td>-</td>\n      <td>1.0</td>\n      <td>-4.0</td>\n      <td>2.0</td>\n      <td>-1.0</td>\n      <td>-</td>\n      <td>35.0</td>\n      <td>8.0</td>\n      <td>7.0</td>\n      <td>...</td>\n      <td>-</td>\n      <td>-</td>\n      <td>-</td>\n      <td>-</td>\n      <td>-</td>\n      <td>-</td>\n      <td>-</td>\n      <td>-</td>\n      <td>-</td>\n      <td>-</td>\n    </tr>\n    <tr>\n      <th>3</th>\n      <td>3.0</td>\n      <td>3.0</td>\n      <td>2.0</td>\n      <td>-4.0</td>\n      <td>2.0</td>\n      <td>0.0</td>\n      <td>-</td>\n      <td>32.0</td>\n      <td>8.0</td>\n      <td>8.0</td>\n      <td>...</td>\n      <td>-</td>\n      <td>-</td>\n      <td>-</td>\n      <td>-</td>\n      <td>-</td>\n      <td>-</td>\n      <td>-</td>\n      <td>-</td>\n      <td>-</td>\n      <td>-</td>\n    </tr>\n    <tr>\n      <th>4</th>\n      <td>5.0</td>\n      <td>-3.0</td>\n      <td>4.0</td>\n      <td>-5.0</td>\n      <td>-</td>\n      <td>-2.0</td>\n      <td>15.0</td>\n      <td>70.0</td>\n      <td>4.0</td>\n      <td>10.0</td>\n      <td>...</td>\n      <td>-</td>\n      <td>-</td>\n      <td>-</td>\n      <td>-</td>\n      <td>-</td>\n      <td>-</td>\n      <td>-</td>\n      <td>-</td>\n      <td>10.0</td>\n      <td>-</td>\n    </tr>\n  </tbody>\n</table>\n<p>5 rows × 50 columns</p>\n</div>"
     },
     "execution_count": 44,
     "metadata": {},
     "output_type": "execute_result"
    }
   ],
   "source": [
    "comp, diff = compare_monsters(result[\"values\"], faerie)\n",
    "comp"
   ],
   "metadata": {
    "collapsed": false
   }
  },
  {
   "cell_type": "code",
   "execution_count": 45,
   "outputs": [
    {
     "data": {
      "text/plain": "   str_diff dex_diff  con_diff  int_diff wis_diff cha_diff ac_diff  hp_diff  \\\n0       6.0     -2.0       4.0      -6.0        -     -2.0    -1.0      5.0   \n1       3.0        -       1.0      -3.0        -        -    -1.0     -2.0   \n2       5.0        -       1.0      -6.0      2.0     -3.0       -      5.0   \n3       5.0     -1.0       2.0      -6.0      2.0     -2.0       -      2.0   \n4       7.0     -7.0       4.0      -7.0        -     -4.0    -3.0     40.0   \n\n   perception_diff  fortitude_diff  ...  poison_resistance_diff  \\\n0            -10.0             5.0  ...                       -   \n1            -10.0             2.0  ...                       -   \n2             -8.0             2.0  ...                       -   \n3             -8.0             3.0  ...                       -   \n4            -12.0             5.0  ...                       -   \n\n   slashing_resistance_diff  area-damage_weakness_diff cold_weakness_diff  \\\n0                         -                          -                  -   \n1                         -                          -                  -   \n2                         -                          -                  -   \n3                         -                          -                  -   \n4                         -                          -                  -   \n\n  cold-iron_weakness_diff evil_weakness_diff  fire_weakness_diff  \\\n0                       -                  -                   -   \n1                       -                  -                 5.0   \n2                       -                  -                   -   \n3                       -                  -                   -   \n4                       -                  -                   -   \n\n  good_weakness_diff  slashing_weakness_diff  splash-damage_weakness_diff  \n0                  -                       -                            -  \n1                  -                       -                            -  \n2                  -                       -                            -  \n3                  -                       -                            -  \n4                  -                    10.0                            -  \n\n[5 rows x 50 columns]",
      "text/html": "<div>\n<style scoped>\n    .dataframe tbody tr th:only-of-type {\n        vertical-align: middle;\n    }\n\n    .dataframe tbody tr th {\n        vertical-align: top;\n    }\n\n    .dataframe thead th {\n        text-align: right;\n    }\n</style>\n<table border=\"1\" class=\"dataframe\">\n  <thead>\n    <tr style=\"text-align: right;\">\n      <th></th>\n      <th>str_diff</th>\n      <th>dex_diff</th>\n      <th>con_diff</th>\n      <th>int_diff</th>\n      <th>wis_diff</th>\n      <th>cha_diff</th>\n      <th>ac_diff</th>\n      <th>hp_diff</th>\n      <th>perception_diff</th>\n      <th>fortitude_diff</th>\n      <th>...</th>\n      <th>poison_resistance_diff</th>\n      <th>slashing_resistance_diff</th>\n      <th>area-damage_weakness_diff</th>\n      <th>cold_weakness_diff</th>\n      <th>cold-iron_weakness_diff</th>\n      <th>evil_weakness_diff</th>\n      <th>fire_weakness_diff</th>\n      <th>good_weakness_diff</th>\n      <th>slashing_weakness_diff</th>\n      <th>splash-damage_weakness_diff</th>\n    </tr>\n  </thead>\n  <tbody>\n    <tr>\n      <th>0</th>\n      <td>6.0</td>\n      <td>-2.0</td>\n      <td>4.0</td>\n      <td>-6.0</td>\n      <td>-</td>\n      <td>-2.0</td>\n      <td>-1.0</td>\n      <td>5.0</td>\n      <td>-10.0</td>\n      <td>5.0</td>\n      <td>...</td>\n      <td>-</td>\n      <td>-</td>\n      <td>-</td>\n      <td>-</td>\n      <td>-</td>\n      <td>-</td>\n      <td>-</td>\n      <td>-</td>\n      <td>-</td>\n      <td>-</td>\n    </tr>\n    <tr>\n      <th>1</th>\n      <td>3.0</td>\n      <td>-</td>\n      <td>1.0</td>\n      <td>-3.0</td>\n      <td>-</td>\n      <td>-</td>\n      <td>-1.0</td>\n      <td>-2.0</td>\n      <td>-10.0</td>\n      <td>2.0</td>\n      <td>...</td>\n      <td>-</td>\n      <td>-</td>\n      <td>-</td>\n      <td>-</td>\n      <td>-</td>\n      <td>-</td>\n      <td>5.0</td>\n      <td>-</td>\n      <td>-</td>\n      <td>-</td>\n    </tr>\n    <tr>\n      <th>2</th>\n      <td>5.0</td>\n      <td>-</td>\n      <td>1.0</td>\n      <td>-6.0</td>\n      <td>2.0</td>\n      <td>-3.0</td>\n      <td>-</td>\n      <td>5.0</td>\n      <td>-8.0</td>\n      <td>2.0</td>\n      <td>...</td>\n      <td>-</td>\n      <td>-</td>\n      <td>-</td>\n      <td>-</td>\n      <td>-</td>\n      <td>-</td>\n      <td>-</td>\n      <td>-</td>\n      <td>-</td>\n      <td>-</td>\n    </tr>\n    <tr>\n      <th>3</th>\n      <td>5.0</td>\n      <td>-1.0</td>\n      <td>2.0</td>\n      <td>-6.0</td>\n      <td>2.0</td>\n      <td>-2.0</td>\n      <td>-</td>\n      <td>2.0</td>\n      <td>-8.0</td>\n      <td>3.0</td>\n      <td>...</td>\n      <td>-</td>\n      <td>-</td>\n      <td>-</td>\n      <td>-</td>\n      <td>-</td>\n      <td>-</td>\n      <td>-</td>\n      <td>-</td>\n      <td>-</td>\n      <td>-</td>\n    </tr>\n    <tr>\n      <th>4</th>\n      <td>7.0</td>\n      <td>-7.0</td>\n      <td>4.0</td>\n      <td>-7.0</td>\n      <td>-</td>\n      <td>-4.0</td>\n      <td>-3.0</td>\n      <td>40.0</td>\n      <td>-12.0</td>\n      <td>5.0</td>\n      <td>...</td>\n      <td>-</td>\n      <td>-</td>\n      <td>-</td>\n      <td>-</td>\n      <td>-</td>\n      <td>-</td>\n      <td>-</td>\n      <td>-</td>\n      <td>10.0</td>\n      <td>-</td>\n    </tr>\n  </tbody>\n</table>\n<p>5 rows × 50 columns</p>\n</div>"
     },
     "execution_count": 45,
     "metadata": {},
     "output_type": "execute_result"
    }
   ],
   "source": [
    "diff"
   ],
   "metadata": {
    "collapsed": false
   }
  },
  {
   "cell_type": "markdown",
   "source": [
    "## Adult"
   ],
   "metadata": {
    "collapsed": false
   }
  },
  {
   "cell_type": "code",
   "execution_count": 46,
   "outputs": [
    {
     "name": "stderr",
     "output_type": "stream",
     "text": [
      "100%|██████████| 1/1 [00:00<00:00,  1.05it/s]\n"
     ]
    }
   ],
   "source": [
    "result = generate_counterfactuals(\n",
    "    monster_stats=adult,\n",
    "    model=model,\n",
    "    new_level=6,\n",
    "    df=dataset,\n",
    "    total_cf=5,\n",
    "    ordered_characteristics=ORDERED_CHARACTERISTICS_FULL,\n",
    ")"
   ],
   "metadata": {
    "collapsed": false
   }
  },
  {
   "cell_type": "code",
   "execution_count": 47,
   "outputs": [
    {
     "name": "stdout",
     "output_type": "stream",
     "text": [
      "[5.99999944]\n",
      "[5.99999962]\n",
      "[6.00000018]\n",
      "[6.00000035]\n",
      "[6.00000639]\n"
     ]
    }
   ],
   "source": [
    "test_cfs(result[\"values\"], 6)"
   ],
   "metadata": {
    "collapsed": false
   }
  },
  {
   "cell_type": "markdown",
   "source": [
    "### Compare to Young"
   ],
   "metadata": {
    "collapsed": false
   }
  },
  {
   "cell_type": "code",
   "execution_count": 48,
   "outputs": [
    {
     "data": {
      "text/plain": "   str  dex  con  int  wis  cha    ac     hp perception fortitude  ...  \\\n0    -  3.0  3.0  1.0  4.0  2.0  24.0  100.0       14.0      15.0  ...   \n1    -  1.0  5.0 -5.0  2.0 -4.0  21.0  135.0       14.0      15.0  ...   \n2    -    -    -    -    -    -     -      -          -         -  ...   \n3    -    -    -    -    -    -     -      -          -         -  ...   \n4  4.0  5.0    -  1.0  2.0  3.0  24.0  105.0       14.0      14.0  ...   \n\n  poison_resistance slashing_resistance area-damage_weakness cold_weakness  \\\n0                 -                   -                    -             -   \n1                 -                   -                    -             -   \n2                 -                   -                    -             -   \n3                 -                   -                    -             -   \n4                 -                   -                    -             -   \n\n  cold-iron_weakness evil_weakness fire_weakness good_weakness  \\\n0                  -             -           0.0             -   \n1                  -             -           0.0             -   \n2                  -             -             -             -   \n3                  -             -             -             -   \n4                  -             -           0.0           5.0   \n\n  slashing_weakness splash-damage_weakness  \n0                 -                      -  \n1                 -                      -  \n2                 -                      -  \n3                 -                      -  \n4                 -                      -  \n\n[5 rows x 50 columns]",
      "text/html": "<div>\n<style scoped>\n    .dataframe tbody tr th:only-of-type {\n        vertical-align: middle;\n    }\n\n    .dataframe tbody tr th {\n        vertical-align: top;\n    }\n\n    .dataframe thead th {\n        text-align: right;\n    }\n</style>\n<table border=\"1\" class=\"dataframe\">\n  <thead>\n    <tr style=\"text-align: right;\">\n      <th></th>\n      <th>str</th>\n      <th>dex</th>\n      <th>con</th>\n      <th>int</th>\n      <th>wis</th>\n      <th>cha</th>\n      <th>ac</th>\n      <th>hp</th>\n      <th>perception</th>\n      <th>fortitude</th>\n      <th>...</th>\n      <th>poison_resistance</th>\n      <th>slashing_resistance</th>\n      <th>area-damage_weakness</th>\n      <th>cold_weakness</th>\n      <th>cold-iron_weakness</th>\n      <th>evil_weakness</th>\n      <th>fire_weakness</th>\n      <th>good_weakness</th>\n      <th>slashing_weakness</th>\n      <th>splash-damage_weakness</th>\n    </tr>\n  </thead>\n  <tbody>\n    <tr>\n      <th>0</th>\n      <td>-</td>\n      <td>3.0</td>\n      <td>3.0</td>\n      <td>1.0</td>\n      <td>4.0</td>\n      <td>2.0</td>\n      <td>24.0</td>\n      <td>100.0</td>\n      <td>14.0</td>\n      <td>15.0</td>\n      <td>...</td>\n      <td>-</td>\n      <td>-</td>\n      <td>-</td>\n      <td>-</td>\n      <td>-</td>\n      <td>-</td>\n      <td>0.0</td>\n      <td>-</td>\n      <td>-</td>\n      <td>-</td>\n    </tr>\n    <tr>\n      <th>1</th>\n      <td>-</td>\n      <td>1.0</td>\n      <td>5.0</td>\n      <td>-5.0</td>\n      <td>2.0</td>\n      <td>-4.0</td>\n      <td>21.0</td>\n      <td>135.0</td>\n      <td>14.0</td>\n      <td>15.0</td>\n      <td>...</td>\n      <td>-</td>\n      <td>-</td>\n      <td>-</td>\n      <td>-</td>\n      <td>-</td>\n      <td>-</td>\n      <td>0.0</td>\n      <td>-</td>\n      <td>-</td>\n      <td>-</td>\n    </tr>\n    <tr>\n      <th>2</th>\n      <td>-</td>\n      <td>-</td>\n      <td>-</td>\n      <td>-</td>\n      <td>-</td>\n      <td>-</td>\n      <td>-</td>\n      <td>-</td>\n      <td>-</td>\n      <td>-</td>\n      <td>...</td>\n      <td>-</td>\n      <td>-</td>\n      <td>-</td>\n      <td>-</td>\n      <td>-</td>\n      <td>-</td>\n      <td>-</td>\n      <td>-</td>\n      <td>-</td>\n      <td>-</td>\n    </tr>\n    <tr>\n      <th>3</th>\n      <td>-</td>\n      <td>-</td>\n      <td>-</td>\n      <td>-</td>\n      <td>-</td>\n      <td>-</td>\n      <td>-</td>\n      <td>-</td>\n      <td>-</td>\n      <td>-</td>\n      <td>...</td>\n      <td>-</td>\n      <td>-</td>\n      <td>-</td>\n      <td>-</td>\n      <td>-</td>\n      <td>-</td>\n      <td>-</td>\n      <td>-</td>\n      <td>-</td>\n      <td>-</td>\n    </tr>\n    <tr>\n      <th>4</th>\n      <td>4.0</td>\n      <td>5.0</td>\n      <td>-</td>\n      <td>1.0</td>\n      <td>2.0</td>\n      <td>3.0</td>\n      <td>24.0</td>\n      <td>105.0</td>\n      <td>14.0</td>\n      <td>14.0</td>\n      <td>...</td>\n      <td>-</td>\n      <td>-</td>\n      <td>-</td>\n      <td>-</td>\n      <td>-</td>\n      <td>-</td>\n      <td>0.0</td>\n      <td>5.0</td>\n      <td>-</td>\n      <td>-</td>\n    </tr>\n  </tbody>\n</table>\n<p>5 rows × 50 columns</p>\n</div>"
     },
     "execution_count": 48,
     "metadata": {},
     "output_type": "execute_result"
    }
   ],
   "source": [
    "comp, diff = compare_monsters(result[\"values\"], young)\n",
    "comp"
   ],
   "metadata": {
    "collapsed": false
   }
  },
  {
   "cell_type": "code",
   "execution_count": 49,
   "outputs": [
    {
     "data": {
      "text/plain": "  str_diff dex_diff con_diff int_diff wis_diff cha_diff ac_diff hp_diff  \\\n0        -      1.0     -1.0      2.0      3.0      2.0     1.0   -15.0   \n1        -     -1.0      1.0     -4.0      1.0     -4.0    -2.0    20.0   \n2        -        -        -        -        -        -       -       -   \n3        -        -        -        -        -        -       -       -   \n4     -2.0      3.0        -      2.0      1.0      3.0     1.0   -10.0   \n\n  perception_diff fortitude_diff  ... poison_resistance_diff  \\\n0             1.0           -1.0  ...                      -   \n1             1.0           -1.0  ...                      -   \n2               -              -  ...                      -   \n3               -              -  ...                      -   \n4             1.0           -2.0  ...                      -   \n\n  slashing_resistance_diff area-damage_weakness_diff cold_weakness_diff  \\\n0                        -                         -                  -   \n1                        -                         -                  -   \n2                        -                         -                  -   \n3                        -                         -                  -   \n4                        -                         -                  -   \n\n  cold-iron_weakness_diff evil_weakness_diff fire_weakness_diff  \\\n0                       -                  -               -5.0   \n1                       -                  -               -5.0   \n2                       -                  -                  -   \n3                       -                  -                  -   \n4                       -                  -               -5.0   \n\n  good_weakness_diff slashing_weakness_diff splash-damage_weakness_diff  \n0                  -                      -                           -  \n1                  -                      -                           -  \n2                  -                      -                           -  \n3                  -                      -                           -  \n4                5.0                      -                           -  \n\n[5 rows x 50 columns]",
      "text/html": "<div>\n<style scoped>\n    .dataframe tbody tr th:only-of-type {\n        vertical-align: middle;\n    }\n\n    .dataframe tbody tr th {\n        vertical-align: top;\n    }\n\n    .dataframe thead th {\n        text-align: right;\n    }\n</style>\n<table border=\"1\" class=\"dataframe\">\n  <thead>\n    <tr style=\"text-align: right;\">\n      <th></th>\n      <th>str_diff</th>\n      <th>dex_diff</th>\n      <th>con_diff</th>\n      <th>int_diff</th>\n      <th>wis_diff</th>\n      <th>cha_diff</th>\n      <th>ac_diff</th>\n      <th>hp_diff</th>\n      <th>perception_diff</th>\n      <th>fortitude_diff</th>\n      <th>...</th>\n      <th>poison_resistance_diff</th>\n      <th>slashing_resistance_diff</th>\n      <th>area-damage_weakness_diff</th>\n      <th>cold_weakness_diff</th>\n      <th>cold-iron_weakness_diff</th>\n      <th>evil_weakness_diff</th>\n      <th>fire_weakness_diff</th>\n      <th>good_weakness_diff</th>\n      <th>slashing_weakness_diff</th>\n      <th>splash-damage_weakness_diff</th>\n    </tr>\n  </thead>\n  <tbody>\n    <tr>\n      <th>0</th>\n      <td>-</td>\n      <td>1.0</td>\n      <td>-1.0</td>\n      <td>2.0</td>\n      <td>3.0</td>\n      <td>2.0</td>\n      <td>1.0</td>\n      <td>-15.0</td>\n      <td>1.0</td>\n      <td>-1.0</td>\n      <td>...</td>\n      <td>-</td>\n      <td>-</td>\n      <td>-</td>\n      <td>-</td>\n      <td>-</td>\n      <td>-</td>\n      <td>-5.0</td>\n      <td>-</td>\n      <td>-</td>\n      <td>-</td>\n    </tr>\n    <tr>\n      <th>1</th>\n      <td>-</td>\n      <td>-1.0</td>\n      <td>1.0</td>\n      <td>-4.0</td>\n      <td>1.0</td>\n      <td>-4.0</td>\n      <td>-2.0</td>\n      <td>20.0</td>\n      <td>1.0</td>\n      <td>-1.0</td>\n      <td>...</td>\n      <td>-</td>\n      <td>-</td>\n      <td>-</td>\n      <td>-</td>\n      <td>-</td>\n      <td>-</td>\n      <td>-5.0</td>\n      <td>-</td>\n      <td>-</td>\n      <td>-</td>\n    </tr>\n    <tr>\n      <th>2</th>\n      <td>-</td>\n      <td>-</td>\n      <td>-</td>\n      <td>-</td>\n      <td>-</td>\n      <td>-</td>\n      <td>-</td>\n      <td>-</td>\n      <td>-</td>\n      <td>-</td>\n      <td>...</td>\n      <td>-</td>\n      <td>-</td>\n      <td>-</td>\n      <td>-</td>\n      <td>-</td>\n      <td>-</td>\n      <td>-</td>\n      <td>-</td>\n      <td>-</td>\n      <td>-</td>\n    </tr>\n    <tr>\n      <th>3</th>\n      <td>-</td>\n      <td>-</td>\n      <td>-</td>\n      <td>-</td>\n      <td>-</td>\n      <td>-</td>\n      <td>-</td>\n      <td>-</td>\n      <td>-</td>\n      <td>-</td>\n      <td>...</td>\n      <td>-</td>\n      <td>-</td>\n      <td>-</td>\n      <td>-</td>\n      <td>-</td>\n      <td>-</td>\n      <td>-</td>\n      <td>-</td>\n      <td>-</td>\n      <td>-</td>\n    </tr>\n    <tr>\n      <th>4</th>\n      <td>-2.0</td>\n      <td>3.0</td>\n      <td>-</td>\n      <td>2.0</td>\n      <td>1.0</td>\n      <td>3.0</td>\n      <td>1.0</td>\n      <td>-10.0</td>\n      <td>1.0</td>\n      <td>-2.0</td>\n      <td>...</td>\n      <td>-</td>\n      <td>-</td>\n      <td>-</td>\n      <td>-</td>\n      <td>-</td>\n      <td>-</td>\n      <td>-5.0</td>\n      <td>5.0</td>\n      <td>-</td>\n      <td>-</td>\n    </tr>\n  </tbody>\n</table>\n<p>5 rows × 50 columns</p>\n</div>"
     },
     "execution_count": 49,
     "metadata": {},
     "output_type": "execute_result"
    }
   ],
   "source": [
    "diff"
   ],
   "metadata": {
    "collapsed": false
   }
  },
  {
   "cell_type": "code",
   "execution_count": 50,
   "outputs": [
    {
     "name": "stderr",
     "output_type": "stream",
     "text": [
      "100%|██████████| 1/1 [00:00<00:00,  1.27it/s]\n"
     ]
    }
   ],
   "source": [
    "result = generate_counterfactuals(\n",
    "    monster_stats=adult,\n",
    "    model=model,\n",
    "    new_level=15,\n",
    "    df=dataset,\n",
    "    total_cf=5,\n",
    "    ordered_characteristics=ORDERED_CHARACTERISTICS_FULL,\n",
    ")"
   ],
   "metadata": {
    "collapsed": false
   }
  },
  {
   "cell_type": "code",
   "execution_count": 51,
   "outputs": [
    {
     "name": "stdout",
     "output_type": "stream",
     "text": [
      "[14.99999963]\n",
      "[14.99999993]\n",
      "[14.99999994]\n",
      "[14.99999995]\n",
      "[15.00000213]\n"
     ]
    }
   ],
   "source": [
    "test_cfs(result[\"values\"], 15)"
   ],
   "metadata": {
    "collapsed": false
   }
  },
  {
   "cell_type": "markdown",
   "source": [
    "### Compare to Ancient"
   ],
   "metadata": {
    "collapsed": false
   }
  },
  {
   "cell_type": "code",
   "execution_count": 52,
   "outputs": [
    {
     "data": {
      "text/plain": "   str  dex  con  int  wis  cha    ac     hp perception fortitude  ...  \\\n0  9.0  2.0  8.0 -5.0  0.0 -5.0  39.0  245.0       23.0      31.0  ...   \n1    -  4.0  6.0  4.0  6.0  7.0  37.0  275.0       29.0      27.0  ...   \n2    -  4.0  6.0  4.0  6.0  5.0  37.0  275.0       29.0      27.0  ...   \n3  7.0  5.0  5.0  3.0  4.0  6.0  37.0  270.0       25.0      26.0  ...   \n4    -    -    -    -    -    -     -      -          -         -  ...   \n\n  poison_resistance slashing_resistance area-damage_weakness cold_weakness  \\\n0                 -                   -                    -             -   \n1                 -                   -                    -             -   \n2                 -                   -                    -             -   \n3                 -                   -                    -             -   \n4                 -                   -                    -             -   \n\n  cold-iron_weakness evil_weakness fire_weakness good_weakness  \\\n0                  -             -           0.0             -   \n1                  -             -           0.0             -   \n2                  -             -           0.0             -   \n3                  -             -           0.0             -   \n4                  -             -             -             -   \n\n  slashing_weakness splash-damage_weakness  \n0                 -                      -  \n1                 -                      -  \n2                 -                      -  \n3                 -                      -  \n4                 -                      -  \n\n[5 rows x 50 columns]",
      "text/html": "<div>\n<style scoped>\n    .dataframe tbody tr th:only-of-type {\n        vertical-align: middle;\n    }\n\n    .dataframe tbody tr th {\n        vertical-align: top;\n    }\n\n    .dataframe thead th {\n        text-align: right;\n    }\n</style>\n<table border=\"1\" class=\"dataframe\">\n  <thead>\n    <tr style=\"text-align: right;\">\n      <th></th>\n      <th>str</th>\n      <th>dex</th>\n      <th>con</th>\n      <th>int</th>\n      <th>wis</th>\n      <th>cha</th>\n      <th>ac</th>\n      <th>hp</th>\n      <th>perception</th>\n      <th>fortitude</th>\n      <th>...</th>\n      <th>poison_resistance</th>\n      <th>slashing_resistance</th>\n      <th>area-damage_weakness</th>\n      <th>cold_weakness</th>\n      <th>cold-iron_weakness</th>\n      <th>evil_weakness</th>\n      <th>fire_weakness</th>\n      <th>good_weakness</th>\n      <th>slashing_weakness</th>\n      <th>splash-damage_weakness</th>\n    </tr>\n  </thead>\n  <tbody>\n    <tr>\n      <th>0</th>\n      <td>9.0</td>\n      <td>2.0</td>\n      <td>8.0</td>\n      <td>-5.0</td>\n      <td>0.0</td>\n      <td>-5.0</td>\n      <td>39.0</td>\n      <td>245.0</td>\n      <td>23.0</td>\n      <td>31.0</td>\n      <td>...</td>\n      <td>-</td>\n      <td>-</td>\n      <td>-</td>\n      <td>-</td>\n      <td>-</td>\n      <td>-</td>\n      <td>0.0</td>\n      <td>-</td>\n      <td>-</td>\n      <td>-</td>\n    </tr>\n    <tr>\n      <th>1</th>\n      <td>-</td>\n      <td>4.0</td>\n      <td>6.0</td>\n      <td>4.0</td>\n      <td>6.0</td>\n      <td>7.0</td>\n      <td>37.0</td>\n      <td>275.0</td>\n      <td>29.0</td>\n      <td>27.0</td>\n      <td>...</td>\n      <td>-</td>\n      <td>-</td>\n      <td>-</td>\n      <td>-</td>\n      <td>-</td>\n      <td>-</td>\n      <td>0.0</td>\n      <td>-</td>\n      <td>-</td>\n      <td>-</td>\n    </tr>\n    <tr>\n      <th>2</th>\n      <td>-</td>\n      <td>4.0</td>\n      <td>6.0</td>\n      <td>4.0</td>\n      <td>6.0</td>\n      <td>5.0</td>\n      <td>37.0</td>\n      <td>275.0</td>\n      <td>29.0</td>\n      <td>27.0</td>\n      <td>...</td>\n      <td>-</td>\n      <td>-</td>\n      <td>-</td>\n      <td>-</td>\n      <td>-</td>\n      <td>-</td>\n      <td>0.0</td>\n      <td>-</td>\n      <td>-</td>\n      <td>-</td>\n    </tr>\n    <tr>\n      <th>3</th>\n      <td>7.0</td>\n      <td>5.0</td>\n      <td>5.0</td>\n      <td>3.0</td>\n      <td>4.0</td>\n      <td>6.0</td>\n      <td>37.0</td>\n      <td>270.0</td>\n      <td>25.0</td>\n      <td>26.0</td>\n      <td>...</td>\n      <td>-</td>\n      <td>-</td>\n      <td>-</td>\n      <td>-</td>\n      <td>-</td>\n      <td>-</td>\n      <td>0.0</td>\n      <td>-</td>\n      <td>-</td>\n      <td>-</td>\n    </tr>\n    <tr>\n      <th>4</th>\n      <td>-</td>\n      <td>-</td>\n      <td>-</td>\n      <td>-</td>\n      <td>-</td>\n      <td>-</td>\n      <td>-</td>\n      <td>-</td>\n      <td>-</td>\n      <td>-</td>\n      <td>...</td>\n      <td>-</td>\n      <td>-</td>\n      <td>-</td>\n      <td>-</td>\n      <td>-</td>\n      <td>-</td>\n      <td>-</td>\n      <td>-</td>\n      <td>-</td>\n      <td>-</td>\n    </tr>\n  </tbody>\n</table>\n<p>5 rows × 50 columns</p>\n</div>"
     },
     "execution_count": 52,
     "metadata": {},
     "output_type": "execute_result"
    }
   ],
   "source": [
    "comp, diff = compare_monsters(result[\"values\"], ancient)\n",
    "comp"
   ],
   "metadata": {
    "collapsed": false
   }
  },
  {
   "cell_type": "code",
   "execution_count": 53,
   "outputs": [
    {
     "data": {
      "text/plain": "  str_diff dex_diff con_diff int_diff wis_diff cha_diff ac_diff hp_diff  \\\n0      1.0     -1.0      1.0     -7.0     -3.0     -8.0     3.0   -85.0   \n1        -      1.0     -1.0      2.0      3.0      4.0     1.0   -55.0   \n2        -      1.0     -1.0      2.0      3.0      2.0     1.0   -55.0   \n3     -1.0      2.0     -2.0      1.0      1.0      3.0     1.0   -60.0   \n4        -        -        -        -        -        -       -       -   \n\n  perception_diff fortitude_diff  ... poison_resistance_diff  \\\n0            -7.0            1.0  ...                      -   \n1            -1.0           -3.0  ...                      -   \n2            -1.0           -3.0  ...                      -   \n3            -5.0           -4.0  ...                      -   \n4               -              -  ...                      -   \n\n  slashing_resistance_diff area-damage_weakness_diff cold_weakness_diff  \\\n0                        -                         -                  -   \n1                        -                         -                  -   \n2                        -                         -                  -   \n3                        -                         -                  -   \n4                        -                         -                  -   \n\n  cold-iron_weakness_diff evil_weakness_diff fire_weakness_diff  \\\n0                       -                  -              -15.0   \n1                       -                  -              -15.0   \n2                       -                  -              -15.0   \n3                       -                  -              -15.0   \n4                       -                  -                  -   \n\n  good_weakness_diff slashing_weakness_diff splash-damage_weakness_diff  \n0                  -                      -                           -  \n1                  -                      -                           -  \n2                  -                      -                           -  \n3                  -                      -                           -  \n4                  -                      -                           -  \n\n[5 rows x 50 columns]",
      "text/html": "<div>\n<style scoped>\n    .dataframe tbody tr th:only-of-type {\n        vertical-align: middle;\n    }\n\n    .dataframe tbody tr th {\n        vertical-align: top;\n    }\n\n    .dataframe thead th {\n        text-align: right;\n    }\n</style>\n<table border=\"1\" class=\"dataframe\">\n  <thead>\n    <tr style=\"text-align: right;\">\n      <th></th>\n      <th>str_diff</th>\n      <th>dex_diff</th>\n      <th>con_diff</th>\n      <th>int_diff</th>\n      <th>wis_diff</th>\n      <th>cha_diff</th>\n      <th>ac_diff</th>\n      <th>hp_diff</th>\n      <th>perception_diff</th>\n      <th>fortitude_diff</th>\n      <th>...</th>\n      <th>poison_resistance_diff</th>\n      <th>slashing_resistance_diff</th>\n      <th>area-damage_weakness_diff</th>\n      <th>cold_weakness_diff</th>\n      <th>cold-iron_weakness_diff</th>\n      <th>evil_weakness_diff</th>\n      <th>fire_weakness_diff</th>\n      <th>good_weakness_diff</th>\n      <th>slashing_weakness_diff</th>\n      <th>splash-damage_weakness_diff</th>\n    </tr>\n  </thead>\n  <tbody>\n    <tr>\n      <th>0</th>\n      <td>1.0</td>\n      <td>-1.0</td>\n      <td>1.0</td>\n      <td>-7.0</td>\n      <td>-3.0</td>\n      <td>-8.0</td>\n      <td>3.0</td>\n      <td>-85.0</td>\n      <td>-7.0</td>\n      <td>1.0</td>\n      <td>...</td>\n      <td>-</td>\n      <td>-</td>\n      <td>-</td>\n      <td>-</td>\n      <td>-</td>\n      <td>-</td>\n      <td>-15.0</td>\n      <td>-</td>\n      <td>-</td>\n      <td>-</td>\n    </tr>\n    <tr>\n      <th>1</th>\n      <td>-</td>\n      <td>1.0</td>\n      <td>-1.0</td>\n      <td>2.0</td>\n      <td>3.0</td>\n      <td>4.0</td>\n      <td>1.0</td>\n      <td>-55.0</td>\n      <td>-1.0</td>\n      <td>-3.0</td>\n      <td>...</td>\n      <td>-</td>\n      <td>-</td>\n      <td>-</td>\n      <td>-</td>\n      <td>-</td>\n      <td>-</td>\n      <td>-15.0</td>\n      <td>-</td>\n      <td>-</td>\n      <td>-</td>\n    </tr>\n    <tr>\n      <th>2</th>\n      <td>-</td>\n      <td>1.0</td>\n      <td>-1.0</td>\n      <td>2.0</td>\n      <td>3.0</td>\n      <td>2.0</td>\n      <td>1.0</td>\n      <td>-55.0</td>\n      <td>-1.0</td>\n      <td>-3.0</td>\n      <td>...</td>\n      <td>-</td>\n      <td>-</td>\n      <td>-</td>\n      <td>-</td>\n      <td>-</td>\n      <td>-</td>\n      <td>-15.0</td>\n      <td>-</td>\n      <td>-</td>\n      <td>-</td>\n    </tr>\n    <tr>\n      <th>3</th>\n      <td>-1.0</td>\n      <td>2.0</td>\n      <td>-2.0</td>\n      <td>1.0</td>\n      <td>1.0</td>\n      <td>3.0</td>\n      <td>1.0</td>\n      <td>-60.0</td>\n      <td>-5.0</td>\n      <td>-4.0</td>\n      <td>...</td>\n      <td>-</td>\n      <td>-</td>\n      <td>-</td>\n      <td>-</td>\n      <td>-</td>\n      <td>-</td>\n      <td>-15.0</td>\n      <td>-</td>\n      <td>-</td>\n      <td>-</td>\n    </tr>\n    <tr>\n      <th>4</th>\n      <td>-</td>\n      <td>-</td>\n      <td>-</td>\n      <td>-</td>\n      <td>-</td>\n      <td>-</td>\n      <td>-</td>\n      <td>-</td>\n      <td>-</td>\n      <td>-</td>\n      <td>...</td>\n      <td>-</td>\n      <td>-</td>\n      <td>-</td>\n      <td>-</td>\n      <td>-</td>\n      <td>-</td>\n      <td>-</td>\n      <td>-</td>\n      <td>-</td>\n      <td>-</td>\n    </tr>\n  </tbody>\n</table>\n<p>5 rows × 50 columns</p>\n</div>"
     },
     "execution_count": 53,
     "metadata": {},
     "output_type": "execute_result"
    }
   ],
   "source": [
    "diff"
   ],
   "metadata": {
    "collapsed": false
   }
  },
  {
   "cell_type": "code",
   "execution_count": 54,
   "outputs": [
    {
     "name": "stderr",
     "output_type": "stream",
     "text": [
      "100%|██████████| 1/1 [00:00<00:00,  1.16it/s]\n"
     ]
    }
   ],
   "source": [
    "result = generate_counterfactuals(\n",
    "    monster_stats=adult,\n",
    "    model=model,\n",
    "    new_level=2,\n",
    "    df=dataset,\n",
    "    total_cf=5,\n",
    "    ordered_characteristics=ORDERED_CHARACTERISTICS_FULL,\n",
    ")"
   ],
   "metadata": {
    "collapsed": false
   }
  },
  {
   "cell_type": "code",
   "execution_count": 55,
   "outputs": [
    {
     "name": "stdout",
     "output_type": "stream",
     "text": [
      "[1.99999914]\n",
      "[1.99999989]\n",
      "[2.00000084]\n",
      "[2.00000104]\n",
      "[2.00000404]\n"
     ]
    }
   ],
   "source": [
    "test_cfs(result[\"values\"], 2)"
   ],
   "metadata": {
    "collapsed": false
   }
  },
  {
   "cell_type": "markdown",
   "source": [
    "### Compare to Faerie"
   ],
   "metadata": {
    "collapsed": false
   }
  },
  {
   "cell_type": "code",
   "execution_count": 56,
   "outputs": [
    {
     "data": {
      "text/plain": "   str  dex  con  int  wis  cha    ac    hp  perception  fortitude  ...  \\\n0  3.0  0.0  5.0 -5.0    - -5.0  12.0  60.0         6.0       11.0  ...   \n1  1.0    -  1.0 -1.0    -    -  17.0  28.0         6.0        7.0  ...   \n2  3.0    -  1.0 -4.0  2.0 -1.0     -  35.0         8.0        7.0  ...   \n3  3.0  3.0  2.0 -4.0  2.0  0.0     -  32.0         8.0        8.0  ...   \n4  5.0 -3.0  4.0 -5.0    - -2.0  15.0  70.0         4.0       10.0  ...   \n\n   poison_resistance  slashing_resistance  area-damage_weakness cold_weakness  \\\n0                  -                    -                     -             -   \n1                  -                    -                     -             -   \n2                  -                    -                     -             -   \n3                  -                    -                     -             -   \n4                  -                    -                     -             -   \n\n  cold-iron_weakness evil_weakness  fire_weakness good_weakness  \\\n0                  -             -              -             -   \n1                  -             -            5.0             -   \n2                  -             -              -             -   \n3                  -             -              -             -   \n4                  -             -              -             -   \n\n   slashing_weakness  splash-damage_weakness  \n0                  -                       -  \n1                  -                       -  \n2                  -                       -  \n3                  -                       -  \n4               10.0                       -  \n\n[5 rows x 50 columns]",
      "text/html": "<div>\n<style scoped>\n    .dataframe tbody tr th:only-of-type {\n        vertical-align: middle;\n    }\n\n    .dataframe tbody tr th {\n        vertical-align: top;\n    }\n\n    .dataframe thead th {\n        text-align: right;\n    }\n</style>\n<table border=\"1\" class=\"dataframe\">\n  <thead>\n    <tr style=\"text-align: right;\">\n      <th></th>\n      <th>str</th>\n      <th>dex</th>\n      <th>con</th>\n      <th>int</th>\n      <th>wis</th>\n      <th>cha</th>\n      <th>ac</th>\n      <th>hp</th>\n      <th>perception</th>\n      <th>fortitude</th>\n      <th>...</th>\n      <th>poison_resistance</th>\n      <th>slashing_resistance</th>\n      <th>area-damage_weakness</th>\n      <th>cold_weakness</th>\n      <th>cold-iron_weakness</th>\n      <th>evil_weakness</th>\n      <th>fire_weakness</th>\n      <th>good_weakness</th>\n      <th>slashing_weakness</th>\n      <th>splash-damage_weakness</th>\n    </tr>\n  </thead>\n  <tbody>\n    <tr>\n      <th>0</th>\n      <td>3.0</td>\n      <td>0.0</td>\n      <td>5.0</td>\n      <td>-5.0</td>\n      <td>-</td>\n      <td>-5.0</td>\n      <td>12.0</td>\n      <td>60.0</td>\n      <td>6.0</td>\n      <td>11.0</td>\n      <td>...</td>\n      <td>-</td>\n      <td>-</td>\n      <td>-</td>\n      <td>-</td>\n      <td>-</td>\n      <td>-</td>\n      <td>-</td>\n      <td>-</td>\n      <td>-</td>\n      <td>-</td>\n    </tr>\n    <tr>\n      <th>1</th>\n      <td>1.0</td>\n      <td>-</td>\n      <td>1.0</td>\n      <td>-1.0</td>\n      <td>-</td>\n      <td>-</td>\n      <td>17.0</td>\n      <td>28.0</td>\n      <td>6.0</td>\n      <td>7.0</td>\n      <td>...</td>\n      <td>-</td>\n      <td>-</td>\n      <td>-</td>\n      <td>-</td>\n      <td>-</td>\n      <td>-</td>\n      <td>5.0</td>\n      <td>-</td>\n      <td>-</td>\n      <td>-</td>\n    </tr>\n    <tr>\n      <th>2</th>\n      <td>3.0</td>\n      <td>-</td>\n      <td>1.0</td>\n      <td>-4.0</td>\n      <td>2.0</td>\n      <td>-1.0</td>\n      <td>-</td>\n      <td>35.0</td>\n      <td>8.0</td>\n      <td>7.0</td>\n      <td>...</td>\n      <td>-</td>\n      <td>-</td>\n      <td>-</td>\n      <td>-</td>\n      <td>-</td>\n      <td>-</td>\n      <td>-</td>\n      <td>-</td>\n      <td>-</td>\n      <td>-</td>\n    </tr>\n    <tr>\n      <th>3</th>\n      <td>3.0</td>\n      <td>3.0</td>\n      <td>2.0</td>\n      <td>-4.0</td>\n      <td>2.0</td>\n      <td>0.0</td>\n      <td>-</td>\n      <td>32.0</td>\n      <td>8.0</td>\n      <td>8.0</td>\n      <td>...</td>\n      <td>-</td>\n      <td>-</td>\n      <td>-</td>\n      <td>-</td>\n      <td>-</td>\n      <td>-</td>\n      <td>-</td>\n      <td>-</td>\n      <td>-</td>\n      <td>-</td>\n    </tr>\n    <tr>\n      <th>4</th>\n      <td>5.0</td>\n      <td>-3.0</td>\n      <td>4.0</td>\n      <td>-5.0</td>\n      <td>-</td>\n      <td>-2.0</td>\n      <td>15.0</td>\n      <td>70.0</td>\n      <td>4.0</td>\n      <td>10.0</td>\n      <td>...</td>\n      <td>-</td>\n      <td>-</td>\n      <td>-</td>\n      <td>-</td>\n      <td>-</td>\n      <td>-</td>\n      <td>-</td>\n      <td>-</td>\n      <td>10.0</td>\n      <td>-</td>\n    </tr>\n  </tbody>\n</table>\n<p>5 rows × 50 columns</p>\n</div>"
     },
     "execution_count": 56,
     "metadata": {},
     "output_type": "execute_result"
    }
   ],
   "source": [
    "comp, diff = compare_monsters(result[\"values\"], faerie)\n",
    "comp"
   ],
   "metadata": {
    "collapsed": false
   }
  },
  {
   "cell_type": "code",
   "execution_count": 57,
   "outputs": [
    {
     "data": {
      "text/plain": "   str_diff dex_diff  con_diff  int_diff wis_diff cha_diff ac_diff  hp_diff  \\\n0       5.0     -4.0       5.0      -7.0        -     -7.0    -6.0     30.0   \n1       3.0        -       1.0      -3.0        -        -    -1.0     -2.0   \n2       5.0        -       1.0      -6.0      2.0     -3.0       -      5.0   \n3       5.0     -1.0       2.0      -6.0      2.0     -2.0       -      2.0   \n4       7.0     -7.0       4.0      -7.0        -     -4.0    -3.0     40.0   \n\n   perception_diff  fortitude_diff  ...  poison_resistance_diff  \\\n0            -10.0             6.0  ...                       -   \n1            -10.0             2.0  ...                       -   \n2             -8.0             2.0  ...                       -   \n3             -8.0             3.0  ...                       -   \n4            -12.0             5.0  ...                       -   \n\n   slashing_resistance_diff  area-damage_weakness_diff cold_weakness_diff  \\\n0                         -                          -                  -   \n1                         -                          -                  -   \n2                         -                          -                  -   \n3                         -                          -                  -   \n4                         -                          -                  -   \n\n  cold-iron_weakness_diff evil_weakness_diff  fire_weakness_diff  \\\n0                       -                  -                   -   \n1                       -                  -                 5.0   \n2                       -                  -                   -   \n3                       -                  -                   -   \n4                       -                  -                   -   \n\n  good_weakness_diff  slashing_weakness_diff  splash-damage_weakness_diff  \n0                  -                       -                            -  \n1                  -                       -                            -  \n2                  -                       -                            -  \n3                  -                       -                            -  \n4                  -                    10.0                            -  \n\n[5 rows x 50 columns]",
      "text/html": "<div>\n<style scoped>\n    .dataframe tbody tr th:only-of-type {\n        vertical-align: middle;\n    }\n\n    .dataframe tbody tr th {\n        vertical-align: top;\n    }\n\n    .dataframe thead th {\n        text-align: right;\n    }\n</style>\n<table border=\"1\" class=\"dataframe\">\n  <thead>\n    <tr style=\"text-align: right;\">\n      <th></th>\n      <th>str_diff</th>\n      <th>dex_diff</th>\n      <th>con_diff</th>\n      <th>int_diff</th>\n      <th>wis_diff</th>\n      <th>cha_diff</th>\n      <th>ac_diff</th>\n      <th>hp_diff</th>\n      <th>perception_diff</th>\n      <th>fortitude_diff</th>\n      <th>...</th>\n      <th>poison_resistance_diff</th>\n      <th>slashing_resistance_diff</th>\n      <th>area-damage_weakness_diff</th>\n      <th>cold_weakness_diff</th>\n      <th>cold-iron_weakness_diff</th>\n      <th>evil_weakness_diff</th>\n      <th>fire_weakness_diff</th>\n      <th>good_weakness_diff</th>\n      <th>slashing_weakness_diff</th>\n      <th>splash-damage_weakness_diff</th>\n    </tr>\n  </thead>\n  <tbody>\n    <tr>\n      <th>0</th>\n      <td>5.0</td>\n      <td>-4.0</td>\n      <td>5.0</td>\n      <td>-7.0</td>\n      <td>-</td>\n      <td>-7.0</td>\n      <td>-6.0</td>\n      <td>30.0</td>\n      <td>-10.0</td>\n      <td>6.0</td>\n      <td>...</td>\n      <td>-</td>\n      <td>-</td>\n      <td>-</td>\n      <td>-</td>\n      <td>-</td>\n      <td>-</td>\n      <td>-</td>\n      <td>-</td>\n      <td>-</td>\n      <td>-</td>\n    </tr>\n    <tr>\n      <th>1</th>\n      <td>3.0</td>\n      <td>-</td>\n      <td>1.0</td>\n      <td>-3.0</td>\n      <td>-</td>\n      <td>-</td>\n      <td>-1.0</td>\n      <td>-2.0</td>\n      <td>-10.0</td>\n      <td>2.0</td>\n      <td>...</td>\n      <td>-</td>\n      <td>-</td>\n      <td>-</td>\n      <td>-</td>\n      <td>-</td>\n      <td>-</td>\n      <td>5.0</td>\n      <td>-</td>\n      <td>-</td>\n      <td>-</td>\n    </tr>\n    <tr>\n      <th>2</th>\n      <td>5.0</td>\n      <td>-</td>\n      <td>1.0</td>\n      <td>-6.0</td>\n      <td>2.0</td>\n      <td>-3.0</td>\n      <td>-</td>\n      <td>5.0</td>\n      <td>-8.0</td>\n      <td>2.0</td>\n      <td>...</td>\n      <td>-</td>\n      <td>-</td>\n      <td>-</td>\n      <td>-</td>\n      <td>-</td>\n      <td>-</td>\n      <td>-</td>\n      <td>-</td>\n      <td>-</td>\n      <td>-</td>\n    </tr>\n    <tr>\n      <th>3</th>\n      <td>5.0</td>\n      <td>-1.0</td>\n      <td>2.0</td>\n      <td>-6.0</td>\n      <td>2.0</td>\n      <td>-2.0</td>\n      <td>-</td>\n      <td>2.0</td>\n      <td>-8.0</td>\n      <td>3.0</td>\n      <td>...</td>\n      <td>-</td>\n      <td>-</td>\n      <td>-</td>\n      <td>-</td>\n      <td>-</td>\n      <td>-</td>\n      <td>-</td>\n      <td>-</td>\n      <td>-</td>\n      <td>-</td>\n    </tr>\n    <tr>\n      <th>4</th>\n      <td>7.0</td>\n      <td>-7.0</td>\n      <td>4.0</td>\n      <td>-7.0</td>\n      <td>-</td>\n      <td>-4.0</td>\n      <td>-3.0</td>\n      <td>40.0</td>\n      <td>-12.0</td>\n      <td>5.0</td>\n      <td>...</td>\n      <td>-</td>\n      <td>-</td>\n      <td>-</td>\n      <td>-</td>\n      <td>-</td>\n      <td>-</td>\n      <td>-</td>\n      <td>-</td>\n      <td>10.0</td>\n      <td>-</td>\n    </tr>\n  </tbody>\n</table>\n<p>5 rows × 50 columns</p>\n</div>"
     },
     "execution_count": 57,
     "metadata": {},
     "output_type": "execute_result"
    }
   ],
   "source": [
    "diff"
   ],
   "metadata": {
    "collapsed": false
   }
  },
  {
   "cell_type": "markdown",
   "source": [
    "## Ancient"
   ],
   "metadata": {
    "collapsed": false
   }
  },
  {
   "cell_type": "code",
   "execution_count": 58,
   "outputs": [
    {
     "name": "stderr",
     "output_type": "stream",
     "text": [
      "100%|██████████| 1/1 [00:00<00:00,  1.28it/s]\n"
     ]
    }
   ],
   "source": [
    "result = generate_counterfactuals(\n",
    "    monster_stats=ancient,\n",
    "    model=model,\n",
    "    new_level=6,\n",
    "    df=dataset,\n",
    "    total_cf=5,\n",
    "    ordered_characteristics=ORDERED_CHARACTERISTICS_FULL,\n",
    ")"
   ],
   "metadata": {
    "collapsed": false
   }
  },
  {
   "cell_type": "code",
   "execution_count": 59,
   "outputs": [
    {
     "name": "stdout",
     "output_type": "stream",
     "text": [
      "[5.99999942]\n",
      "[5.99999944]\n",
      "[5.99999972]\n",
      "[6.00000018]\n",
      "[6.00000035]\n"
     ]
    }
   ],
   "source": [
    "test_cfs(result[\"values\"], 6)"
   ],
   "metadata": {
    "collapsed": false
   }
  },
  {
   "cell_type": "markdown",
   "source": [
    "### Compare to Young"
   ],
   "metadata": {
    "collapsed": false
   }
  },
  {
   "cell_type": "code",
   "execution_count": 60,
   "outputs": [
    {
     "data": {
      "text/plain": "   str  dex  con  int  wis  cha    ac     hp perception fortitude  ...  \\\n0    -  3.0  3.0  1.0  4.0  2.0  24.0  100.0       14.0      15.0  ...   \n1  5.0 -4.0  5.0 -5.0  0.0 -5.0  12.0  157.0        8.0      17.0  ...   \n2  5.0  5.0  3.0  2.0  4.0  5.0  24.0  120.0       14.0      13.0  ...   \n3    -    -    -    -    -    -     -      -          -         -  ...   \n4    -    -    -    -    -    -     -      -          -         -  ...   \n\n  poison_resistance slashing_resistance area-damage_weakness cold_weakness  \\\n0                 -                   -                    -             -   \n1                 -                   -                    -             -   \n2                 -                   -                    -             -   \n3                 -                   -                    -             -   \n4                 -                   -                    -             -   \n\n  cold-iron_weakness evil_weakness fire_weakness good_weakness  \\\n0                  -             -           0.0             -   \n1                  -             -           0.0             -   \n2                5.0           5.0           0.0             -   \n3                  -             -             -             -   \n4                  -             -             -             -   \n\n  slashing_weakness splash-damage_weakness  \n0                 -                      -  \n1                 -                      -  \n2                 -                      -  \n3                 -                      -  \n4                 -                      -  \n\n[5 rows x 50 columns]",
      "text/html": "<div>\n<style scoped>\n    .dataframe tbody tr th:only-of-type {\n        vertical-align: middle;\n    }\n\n    .dataframe tbody tr th {\n        vertical-align: top;\n    }\n\n    .dataframe thead th {\n        text-align: right;\n    }\n</style>\n<table border=\"1\" class=\"dataframe\">\n  <thead>\n    <tr style=\"text-align: right;\">\n      <th></th>\n      <th>str</th>\n      <th>dex</th>\n      <th>con</th>\n      <th>int</th>\n      <th>wis</th>\n      <th>cha</th>\n      <th>ac</th>\n      <th>hp</th>\n      <th>perception</th>\n      <th>fortitude</th>\n      <th>...</th>\n      <th>poison_resistance</th>\n      <th>slashing_resistance</th>\n      <th>area-damage_weakness</th>\n      <th>cold_weakness</th>\n      <th>cold-iron_weakness</th>\n      <th>evil_weakness</th>\n      <th>fire_weakness</th>\n      <th>good_weakness</th>\n      <th>slashing_weakness</th>\n      <th>splash-damage_weakness</th>\n    </tr>\n  </thead>\n  <tbody>\n    <tr>\n      <th>0</th>\n      <td>-</td>\n      <td>3.0</td>\n      <td>3.0</td>\n      <td>1.0</td>\n      <td>4.0</td>\n      <td>2.0</td>\n      <td>24.0</td>\n      <td>100.0</td>\n      <td>14.0</td>\n      <td>15.0</td>\n      <td>...</td>\n      <td>-</td>\n      <td>-</td>\n      <td>-</td>\n      <td>-</td>\n      <td>-</td>\n      <td>-</td>\n      <td>0.0</td>\n      <td>-</td>\n      <td>-</td>\n      <td>-</td>\n    </tr>\n    <tr>\n      <th>1</th>\n      <td>5.0</td>\n      <td>-4.0</td>\n      <td>5.0</td>\n      <td>-5.0</td>\n      <td>0.0</td>\n      <td>-5.0</td>\n      <td>12.0</td>\n      <td>157.0</td>\n      <td>8.0</td>\n      <td>17.0</td>\n      <td>...</td>\n      <td>-</td>\n      <td>-</td>\n      <td>-</td>\n      <td>-</td>\n      <td>-</td>\n      <td>-</td>\n      <td>0.0</td>\n      <td>-</td>\n      <td>-</td>\n      <td>-</td>\n    </tr>\n    <tr>\n      <th>2</th>\n      <td>5.0</td>\n      <td>5.0</td>\n      <td>3.0</td>\n      <td>2.0</td>\n      <td>4.0</td>\n      <td>5.0</td>\n      <td>24.0</td>\n      <td>120.0</td>\n      <td>14.0</td>\n      <td>13.0</td>\n      <td>...</td>\n      <td>-</td>\n      <td>-</td>\n      <td>-</td>\n      <td>-</td>\n      <td>5.0</td>\n      <td>5.0</td>\n      <td>0.0</td>\n      <td>-</td>\n      <td>-</td>\n      <td>-</td>\n    </tr>\n    <tr>\n      <th>3</th>\n      <td>-</td>\n      <td>-</td>\n      <td>-</td>\n      <td>-</td>\n      <td>-</td>\n      <td>-</td>\n      <td>-</td>\n      <td>-</td>\n      <td>-</td>\n      <td>-</td>\n      <td>...</td>\n      <td>-</td>\n      <td>-</td>\n      <td>-</td>\n      <td>-</td>\n      <td>-</td>\n      <td>-</td>\n      <td>-</td>\n      <td>-</td>\n      <td>-</td>\n      <td>-</td>\n    </tr>\n    <tr>\n      <th>4</th>\n      <td>-</td>\n      <td>-</td>\n      <td>-</td>\n      <td>-</td>\n      <td>-</td>\n      <td>-</td>\n      <td>-</td>\n      <td>-</td>\n      <td>-</td>\n      <td>-</td>\n      <td>...</td>\n      <td>-</td>\n      <td>-</td>\n      <td>-</td>\n      <td>-</td>\n      <td>-</td>\n      <td>-</td>\n      <td>-</td>\n      <td>-</td>\n      <td>-</td>\n      <td>-</td>\n    </tr>\n  </tbody>\n</table>\n<p>5 rows × 50 columns</p>\n</div>"
     },
     "execution_count": 60,
     "metadata": {},
     "output_type": "execute_result"
    }
   ],
   "source": [
    "comp, diff = compare_monsters(result[\"values\"], young)\n",
    "comp"
   ],
   "metadata": {
    "collapsed": false
   }
  },
  {
   "cell_type": "code",
   "execution_count": 61,
   "outputs": [
    {
     "data": {
      "text/plain": "  str_diff dex_diff con_diff int_diff wis_diff cha_diff ac_diff hp_diff  \\\n0        -      1.0     -1.0      2.0      3.0      2.0     1.0   -15.0   \n1     -1.0     -6.0      1.0     -4.0     -1.0     -5.0   -11.0    42.0   \n2     -1.0      3.0     -1.0      3.0      3.0      5.0     1.0     5.0   \n3        -        -        -        -        -        -       -       -   \n4        -        -        -        -        -        -       -       -   \n\n  perception_diff fortitude_diff  ... poison_resistance_diff  \\\n0             1.0           -1.0  ...                      -   \n1            -5.0            1.0  ...                      -   \n2             1.0           -3.0  ...                      -   \n3               -              -  ...                      -   \n4               -              -  ...                      -   \n\n  slashing_resistance_diff area-damage_weakness_diff cold_weakness_diff  \\\n0                        -                         -                  -   \n1                        -                         -                  -   \n2                        -                         -                  -   \n3                        -                         -                  -   \n4                        -                         -                  -   \n\n  cold-iron_weakness_diff evil_weakness_diff fire_weakness_diff  \\\n0                       -                  -               -5.0   \n1                       -                  -               -5.0   \n2                     5.0                5.0               -5.0   \n3                       -                  -                  -   \n4                       -                  -                  -   \n\n  good_weakness_diff slashing_weakness_diff splash-damage_weakness_diff  \n0                  -                      -                           -  \n1                  -                      -                           -  \n2                  -                      -                           -  \n3                  -                      -                           -  \n4                  -                      -                           -  \n\n[5 rows x 50 columns]",
      "text/html": "<div>\n<style scoped>\n    .dataframe tbody tr th:only-of-type {\n        vertical-align: middle;\n    }\n\n    .dataframe tbody tr th {\n        vertical-align: top;\n    }\n\n    .dataframe thead th {\n        text-align: right;\n    }\n</style>\n<table border=\"1\" class=\"dataframe\">\n  <thead>\n    <tr style=\"text-align: right;\">\n      <th></th>\n      <th>str_diff</th>\n      <th>dex_diff</th>\n      <th>con_diff</th>\n      <th>int_diff</th>\n      <th>wis_diff</th>\n      <th>cha_diff</th>\n      <th>ac_diff</th>\n      <th>hp_diff</th>\n      <th>perception_diff</th>\n      <th>fortitude_diff</th>\n      <th>...</th>\n      <th>poison_resistance_diff</th>\n      <th>slashing_resistance_diff</th>\n      <th>area-damage_weakness_diff</th>\n      <th>cold_weakness_diff</th>\n      <th>cold-iron_weakness_diff</th>\n      <th>evil_weakness_diff</th>\n      <th>fire_weakness_diff</th>\n      <th>good_weakness_diff</th>\n      <th>slashing_weakness_diff</th>\n      <th>splash-damage_weakness_diff</th>\n    </tr>\n  </thead>\n  <tbody>\n    <tr>\n      <th>0</th>\n      <td>-</td>\n      <td>1.0</td>\n      <td>-1.0</td>\n      <td>2.0</td>\n      <td>3.0</td>\n      <td>2.0</td>\n      <td>1.0</td>\n      <td>-15.0</td>\n      <td>1.0</td>\n      <td>-1.0</td>\n      <td>...</td>\n      <td>-</td>\n      <td>-</td>\n      <td>-</td>\n      <td>-</td>\n      <td>-</td>\n      <td>-</td>\n      <td>-5.0</td>\n      <td>-</td>\n      <td>-</td>\n      <td>-</td>\n    </tr>\n    <tr>\n      <th>1</th>\n      <td>-1.0</td>\n      <td>-6.0</td>\n      <td>1.0</td>\n      <td>-4.0</td>\n      <td>-1.0</td>\n      <td>-5.0</td>\n      <td>-11.0</td>\n      <td>42.0</td>\n      <td>-5.0</td>\n      <td>1.0</td>\n      <td>...</td>\n      <td>-</td>\n      <td>-</td>\n      <td>-</td>\n      <td>-</td>\n      <td>-</td>\n      <td>-</td>\n      <td>-5.0</td>\n      <td>-</td>\n      <td>-</td>\n      <td>-</td>\n    </tr>\n    <tr>\n      <th>2</th>\n      <td>-1.0</td>\n      <td>3.0</td>\n      <td>-1.0</td>\n      <td>3.0</td>\n      <td>3.0</td>\n      <td>5.0</td>\n      <td>1.0</td>\n      <td>5.0</td>\n      <td>1.0</td>\n      <td>-3.0</td>\n      <td>...</td>\n      <td>-</td>\n      <td>-</td>\n      <td>-</td>\n      <td>-</td>\n      <td>5.0</td>\n      <td>5.0</td>\n      <td>-5.0</td>\n      <td>-</td>\n      <td>-</td>\n      <td>-</td>\n    </tr>\n    <tr>\n      <th>3</th>\n      <td>-</td>\n      <td>-</td>\n      <td>-</td>\n      <td>-</td>\n      <td>-</td>\n      <td>-</td>\n      <td>-</td>\n      <td>-</td>\n      <td>-</td>\n      <td>-</td>\n      <td>...</td>\n      <td>-</td>\n      <td>-</td>\n      <td>-</td>\n      <td>-</td>\n      <td>-</td>\n      <td>-</td>\n      <td>-</td>\n      <td>-</td>\n      <td>-</td>\n      <td>-</td>\n    </tr>\n    <tr>\n      <th>4</th>\n      <td>-</td>\n      <td>-</td>\n      <td>-</td>\n      <td>-</td>\n      <td>-</td>\n      <td>-</td>\n      <td>-</td>\n      <td>-</td>\n      <td>-</td>\n      <td>-</td>\n      <td>...</td>\n      <td>-</td>\n      <td>-</td>\n      <td>-</td>\n      <td>-</td>\n      <td>-</td>\n      <td>-</td>\n      <td>-</td>\n      <td>-</td>\n      <td>-</td>\n      <td>-</td>\n    </tr>\n  </tbody>\n</table>\n<p>5 rows × 50 columns</p>\n</div>"
     },
     "execution_count": 61,
     "metadata": {},
     "output_type": "execute_result"
    }
   ],
   "source": [
    "diff"
   ],
   "metadata": {
    "collapsed": false
   }
  },
  {
   "cell_type": "code",
   "execution_count": 62,
   "outputs": [],
   "source": [
    "# comp.to_csv(\"./results/compare_ancient_to_young.csv\")\n",
    "# diff.to_csv(\"./results/compare_diff_ancient_to_young.csv\")"
   ],
   "metadata": {
    "collapsed": false
   }
  },
  {
   "cell_type": "code",
   "execution_count": 63,
   "outputs": [
    {
     "name": "stderr",
     "output_type": "stream",
     "text": [
      "100%|██████████| 1/1 [00:00<00:00,  1.21it/s]\n"
     ]
    }
   ],
   "source": [
    "result = generate_counterfactuals(\n",
    "    monster_stats=ancient,\n",
    "    model=model,\n",
    "    new_level=10,\n",
    "    df=dataset,\n",
    "    total_cf=5,\n",
    "    ordered_characteristics=ORDERED_CHARACTERISTICS_FULL,\n",
    ")"
   ],
   "metadata": {
    "collapsed": false
   }
  },
  {
   "cell_type": "code",
   "execution_count": 64,
   "outputs": [
    {
     "name": "stdout",
     "output_type": "stream",
     "text": [
      "[9.99998207]\n",
      "[10.00000026]\n",
      "[10.00000078]\n",
      "[10.00000097]\n",
      "[10.00000146]\n"
     ]
    }
   ],
   "source": [
    "test_cfs(result[\"values\"], 10)"
   ],
   "metadata": {
    "collapsed": false
   }
  },
  {
   "cell_type": "markdown",
   "source": [
    "### Compare to Adult"
   ],
   "metadata": {
    "collapsed": false
   }
  },
  {
   "cell_type": "code",
   "execution_count": 65,
   "outputs": [
    {
     "data": {
      "text/plain": "   str  dex  con  int  wis  cha    ac     hp perception fortitude  ...  \\\n0  6.0  1.0  4.0    -    -  3.0  30.0  210.0          -      21.0  ...   \n1  6.0    -  3.0  2.0  4.0  4.0  31.0  200.0          -      20.0  ...   \n2    -    -    -    -    -    -     -      -          -         -  ...   \n3  6.0    -    -  2.0  4.0  3.0  30.0  195.0       18.0      21.0  ...   \n4    -    -    -  2.0  4.0  4.0  30.0  175.0       22.0      21.0  ...   \n\n  poison_resistance slashing_resistance area-damage_weakness cold_weakness  \\\n0                 -                   -                    -          10.0   \n1                 -                   -                    -             -   \n2                 -                   -                    -             -   \n3                 -                   -                    -             -   \n4                 -                   -                    -             -   \n\n  cold-iron_weakness evil_weakness fire_weakness good_weakness  \\\n0                  -             -           0.0             -   \n1                  -             -             -             -   \n2                  -             -             -             -   \n3                  -             -           5.0             -   \n4                  -             -           0.0             -   \n\n  slashing_weakness splash-damage_weakness  \n0                 -                      -  \n1                 -                      -  \n2                 -                      -  \n3                 -                      -  \n4                 -                      -  \n\n[5 rows x 50 columns]",
      "text/html": "<div>\n<style scoped>\n    .dataframe tbody tr th:only-of-type {\n        vertical-align: middle;\n    }\n\n    .dataframe tbody tr th {\n        vertical-align: top;\n    }\n\n    .dataframe thead th {\n        text-align: right;\n    }\n</style>\n<table border=\"1\" class=\"dataframe\">\n  <thead>\n    <tr style=\"text-align: right;\">\n      <th></th>\n      <th>str</th>\n      <th>dex</th>\n      <th>con</th>\n      <th>int</th>\n      <th>wis</th>\n      <th>cha</th>\n      <th>ac</th>\n      <th>hp</th>\n      <th>perception</th>\n      <th>fortitude</th>\n      <th>...</th>\n      <th>poison_resistance</th>\n      <th>slashing_resistance</th>\n      <th>area-damage_weakness</th>\n      <th>cold_weakness</th>\n      <th>cold-iron_weakness</th>\n      <th>evil_weakness</th>\n      <th>fire_weakness</th>\n      <th>good_weakness</th>\n      <th>slashing_weakness</th>\n      <th>splash-damage_weakness</th>\n    </tr>\n  </thead>\n  <tbody>\n    <tr>\n      <th>0</th>\n      <td>6.0</td>\n      <td>1.0</td>\n      <td>4.0</td>\n      <td>-</td>\n      <td>-</td>\n      <td>3.0</td>\n      <td>30.0</td>\n      <td>210.0</td>\n      <td>-</td>\n      <td>21.0</td>\n      <td>...</td>\n      <td>-</td>\n      <td>-</td>\n      <td>-</td>\n      <td>10.0</td>\n      <td>-</td>\n      <td>-</td>\n      <td>0.0</td>\n      <td>-</td>\n      <td>-</td>\n      <td>-</td>\n    </tr>\n    <tr>\n      <th>1</th>\n      <td>6.0</td>\n      <td>-</td>\n      <td>3.0</td>\n      <td>2.0</td>\n      <td>4.0</td>\n      <td>4.0</td>\n      <td>31.0</td>\n      <td>200.0</td>\n      <td>-</td>\n      <td>20.0</td>\n      <td>...</td>\n      <td>-</td>\n      <td>-</td>\n      <td>-</td>\n      <td>-</td>\n      <td>-</td>\n      <td>-</td>\n      <td>-</td>\n      <td>-</td>\n      <td>-</td>\n      <td>-</td>\n    </tr>\n    <tr>\n      <th>2</th>\n      <td>-</td>\n      <td>-</td>\n      <td>-</td>\n      <td>-</td>\n      <td>-</td>\n      <td>-</td>\n      <td>-</td>\n      <td>-</td>\n      <td>-</td>\n      <td>-</td>\n      <td>...</td>\n      <td>-</td>\n      <td>-</td>\n      <td>-</td>\n      <td>-</td>\n      <td>-</td>\n      <td>-</td>\n      <td>-</td>\n      <td>-</td>\n      <td>-</td>\n      <td>-</td>\n    </tr>\n    <tr>\n      <th>3</th>\n      <td>6.0</td>\n      <td>-</td>\n      <td>-</td>\n      <td>2.0</td>\n      <td>4.0</td>\n      <td>3.0</td>\n      <td>30.0</td>\n      <td>195.0</td>\n      <td>18.0</td>\n      <td>21.0</td>\n      <td>...</td>\n      <td>-</td>\n      <td>-</td>\n      <td>-</td>\n      <td>-</td>\n      <td>-</td>\n      <td>-</td>\n      <td>5.0</td>\n      <td>-</td>\n      <td>-</td>\n      <td>-</td>\n    </tr>\n    <tr>\n      <th>4</th>\n      <td>-</td>\n      <td>-</td>\n      <td>-</td>\n      <td>2.0</td>\n      <td>4.0</td>\n      <td>4.0</td>\n      <td>30.0</td>\n      <td>175.0</td>\n      <td>22.0</td>\n      <td>21.0</td>\n      <td>...</td>\n      <td>-</td>\n      <td>-</td>\n      <td>-</td>\n      <td>-</td>\n      <td>-</td>\n      <td>-</td>\n      <td>0.0</td>\n      <td>-</td>\n      <td>-</td>\n      <td>-</td>\n    </tr>\n  </tbody>\n</table>\n<p>5 rows × 50 columns</p>\n</div>"
     },
     "execution_count": 65,
     "metadata": {},
     "output_type": "execute_result"
    }
   ],
   "source": [
    "comp, diff = compare_monsters(result[\"values\"], adult)\n",
    "comp"
   ],
   "metadata": {
    "collapsed": false
   }
  },
  {
   "cell_type": "code",
   "execution_count": 66,
   "outputs": [
    {
     "data": {
      "text/plain": "  str_diff dex_diff con_diff int_diff wis_diff cha_diff ac_diff hp_diff  \\\n0     -1.0     -1.0     -1.0        -        -      2.0     1.0    -5.0   \n1     -1.0        -     -2.0      1.0      2.0      3.0     2.0   -15.0   \n2        -        -        -        -        -        -       -       -   \n3     -1.0        -        -      1.0      2.0      2.0     1.0   -20.0   \n4        -        -        -      1.0      2.0      3.0     1.0   -40.0   \n\n  perception_diff fortitude_diff  ... poison_resistance_diff  \\\n0               -           -1.0  ...                      -   \n1               -           -2.0  ...                      -   \n2               -              -  ...                      -   \n3            -2.0           -1.0  ...                      -   \n4             2.0           -1.0  ...                      -   \n\n  slashing_resistance_diff area-damage_weakness_diff cold_weakness_diff  \\\n0                        -                         -               10.0   \n1                        -                         -                  -   \n2                        -                         -                  -   \n3                        -                         -                  -   \n4                        -                         -                  -   \n\n  cold-iron_weakness_diff evil_weakness_diff fire_weakness_diff  \\\n0                       -                  -              -10.0   \n1                       -                  -                  -   \n2                       -                  -                  -   \n3                       -                  -               -5.0   \n4                       -                  -              -10.0   \n\n  good_weakness_diff slashing_weakness_diff splash-damage_weakness_diff  \n0                  -                      -                           -  \n1                  -                      -                           -  \n2                  -                      -                           -  \n3                  -                      -                           -  \n4                  -                      -                           -  \n\n[5 rows x 50 columns]",
      "text/html": "<div>\n<style scoped>\n    .dataframe tbody tr th:only-of-type {\n        vertical-align: middle;\n    }\n\n    .dataframe tbody tr th {\n        vertical-align: top;\n    }\n\n    .dataframe thead th {\n        text-align: right;\n    }\n</style>\n<table border=\"1\" class=\"dataframe\">\n  <thead>\n    <tr style=\"text-align: right;\">\n      <th></th>\n      <th>str_diff</th>\n      <th>dex_diff</th>\n      <th>con_diff</th>\n      <th>int_diff</th>\n      <th>wis_diff</th>\n      <th>cha_diff</th>\n      <th>ac_diff</th>\n      <th>hp_diff</th>\n      <th>perception_diff</th>\n      <th>fortitude_diff</th>\n      <th>...</th>\n      <th>poison_resistance_diff</th>\n      <th>slashing_resistance_diff</th>\n      <th>area-damage_weakness_diff</th>\n      <th>cold_weakness_diff</th>\n      <th>cold-iron_weakness_diff</th>\n      <th>evil_weakness_diff</th>\n      <th>fire_weakness_diff</th>\n      <th>good_weakness_diff</th>\n      <th>slashing_weakness_diff</th>\n      <th>splash-damage_weakness_diff</th>\n    </tr>\n  </thead>\n  <tbody>\n    <tr>\n      <th>0</th>\n      <td>-1.0</td>\n      <td>-1.0</td>\n      <td>-1.0</td>\n      <td>-</td>\n      <td>-</td>\n      <td>2.0</td>\n      <td>1.0</td>\n      <td>-5.0</td>\n      <td>-</td>\n      <td>-1.0</td>\n      <td>...</td>\n      <td>-</td>\n      <td>-</td>\n      <td>-</td>\n      <td>10.0</td>\n      <td>-</td>\n      <td>-</td>\n      <td>-10.0</td>\n      <td>-</td>\n      <td>-</td>\n      <td>-</td>\n    </tr>\n    <tr>\n      <th>1</th>\n      <td>-1.0</td>\n      <td>-</td>\n      <td>-2.0</td>\n      <td>1.0</td>\n      <td>2.0</td>\n      <td>3.0</td>\n      <td>2.0</td>\n      <td>-15.0</td>\n      <td>-</td>\n      <td>-2.0</td>\n      <td>...</td>\n      <td>-</td>\n      <td>-</td>\n      <td>-</td>\n      <td>-</td>\n      <td>-</td>\n      <td>-</td>\n      <td>-</td>\n      <td>-</td>\n      <td>-</td>\n      <td>-</td>\n    </tr>\n    <tr>\n      <th>2</th>\n      <td>-</td>\n      <td>-</td>\n      <td>-</td>\n      <td>-</td>\n      <td>-</td>\n      <td>-</td>\n      <td>-</td>\n      <td>-</td>\n      <td>-</td>\n      <td>-</td>\n      <td>...</td>\n      <td>-</td>\n      <td>-</td>\n      <td>-</td>\n      <td>-</td>\n      <td>-</td>\n      <td>-</td>\n      <td>-</td>\n      <td>-</td>\n      <td>-</td>\n      <td>-</td>\n    </tr>\n    <tr>\n      <th>3</th>\n      <td>-1.0</td>\n      <td>-</td>\n      <td>-</td>\n      <td>1.0</td>\n      <td>2.0</td>\n      <td>2.0</td>\n      <td>1.0</td>\n      <td>-20.0</td>\n      <td>-2.0</td>\n      <td>-1.0</td>\n      <td>...</td>\n      <td>-</td>\n      <td>-</td>\n      <td>-</td>\n      <td>-</td>\n      <td>-</td>\n      <td>-</td>\n      <td>-5.0</td>\n      <td>-</td>\n      <td>-</td>\n      <td>-</td>\n    </tr>\n    <tr>\n      <th>4</th>\n      <td>-</td>\n      <td>-</td>\n      <td>-</td>\n      <td>1.0</td>\n      <td>2.0</td>\n      <td>3.0</td>\n      <td>1.0</td>\n      <td>-40.0</td>\n      <td>2.0</td>\n      <td>-1.0</td>\n      <td>...</td>\n      <td>-</td>\n      <td>-</td>\n      <td>-</td>\n      <td>-</td>\n      <td>-</td>\n      <td>-</td>\n      <td>-10.0</td>\n      <td>-</td>\n      <td>-</td>\n      <td>-</td>\n    </tr>\n  </tbody>\n</table>\n<p>5 rows × 50 columns</p>\n</div>"
     },
     "execution_count": 66,
     "metadata": {},
     "output_type": "execute_result"
    }
   ],
   "source": [
    "diff"
   ],
   "metadata": {
    "collapsed": false
   }
  },
  {
   "cell_type": "code",
   "execution_count": 67,
   "outputs": [
    {
     "name": "stderr",
     "output_type": "stream",
     "text": [
      "100%|██████████| 1/1 [00:01<00:00,  1.00s/it]\n"
     ]
    }
   ],
   "source": [
    "result = generate_counterfactuals(\n",
    "    monster_stats=ancient,\n",
    "    model=model,\n",
    "    new_level=2,\n",
    "    df=dataset,\n",
    "    total_cf=5,\n",
    "    ordered_characteristics=ORDERED_CHARACTERISTICS_FULL,\n",
    ")"
   ],
   "metadata": {
    "collapsed": false
   }
  },
  {
   "cell_type": "code",
   "execution_count": 68,
   "outputs": [
    {
     "name": "stdout",
     "output_type": "stream",
     "text": [
      "[1.99999914]\n",
      "[1.99999975]\n",
      "[1.99999989]\n",
      "[2.00000104]\n",
      "[2.00000404]\n"
     ]
    }
   ],
   "source": [
    "test_cfs(result[\"values\"], 2)"
   ],
   "metadata": {
    "collapsed": false
   }
  },
  {
   "cell_type": "markdown",
   "source": [
    "### Compare to Faerie"
   ],
   "metadata": {
    "collapsed": false
   }
  },
  {
   "cell_type": "code",
   "execution_count": 69,
   "outputs": [
    {
     "data": {
      "text/plain": "   str  dex  con  int  wis  cha    ac    hp perception fortitude  ...  \\\n0  3.0  0.0  5.0 -5.0    - -5.0  12.0  60.0        6.0      11.0  ...   \n1    -    -    -    -    -    -     -     -          -         -  ...   \n2  1.0    -  1.0 -1.0    -    -  17.0  28.0        6.0       7.0  ...   \n3  3.0  3.0  2.0 -4.0  2.0  0.0     -  32.0        8.0       8.0  ...   \n4  5.0 -3.0  4.0 -5.0    - -2.0  15.0  70.0        4.0      10.0  ...   \n\n  poison_resistance slashing_resistance area-damage_weakness cold_weakness  \\\n0                 -                   -                    -             -   \n1                 -                   -                    -             -   \n2                 -                   -                    -             -   \n3                 -                   -                    -             -   \n4                 -                   -                    -             -   \n\n  cold-iron_weakness evil_weakness fire_weakness good_weakness  \\\n0                  -             -             -             -   \n1                  -             -             -             -   \n2                  -             -           5.0             -   \n3                  -             -             -             -   \n4                  -             -             -             -   \n\n  slashing_weakness splash-damage_weakness  \n0                 -                      -  \n1                 -                      -  \n2                 -                      -  \n3                 -                      -  \n4              10.0                      -  \n\n[5 rows x 50 columns]",
      "text/html": "<div>\n<style scoped>\n    .dataframe tbody tr th:only-of-type {\n        vertical-align: middle;\n    }\n\n    .dataframe tbody tr th {\n        vertical-align: top;\n    }\n\n    .dataframe thead th {\n        text-align: right;\n    }\n</style>\n<table border=\"1\" class=\"dataframe\">\n  <thead>\n    <tr style=\"text-align: right;\">\n      <th></th>\n      <th>str</th>\n      <th>dex</th>\n      <th>con</th>\n      <th>int</th>\n      <th>wis</th>\n      <th>cha</th>\n      <th>ac</th>\n      <th>hp</th>\n      <th>perception</th>\n      <th>fortitude</th>\n      <th>...</th>\n      <th>poison_resistance</th>\n      <th>slashing_resistance</th>\n      <th>area-damage_weakness</th>\n      <th>cold_weakness</th>\n      <th>cold-iron_weakness</th>\n      <th>evil_weakness</th>\n      <th>fire_weakness</th>\n      <th>good_weakness</th>\n      <th>slashing_weakness</th>\n      <th>splash-damage_weakness</th>\n    </tr>\n  </thead>\n  <tbody>\n    <tr>\n      <th>0</th>\n      <td>3.0</td>\n      <td>0.0</td>\n      <td>5.0</td>\n      <td>-5.0</td>\n      <td>-</td>\n      <td>-5.0</td>\n      <td>12.0</td>\n      <td>60.0</td>\n      <td>6.0</td>\n      <td>11.0</td>\n      <td>...</td>\n      <td>-</td>\n      <td>-</td>\n      <td>-</td>\n      <td>-</td>\n      <td>-</td>\n      <td>-</td>\n      <td>-</td>\n      <td>-</td>\n      <td>-</td>\n      <td>-</td>\n    </tr>\n    <tr>\n      <th>1</th>\n      <td>-</td>\n      <td>-</td>\n      <td>-</td>\n      <td>-</td>\n      <td>-</td>\n      <td>-</td>\n      <td>-</td>\n      <td>-</td>\n      <td>-</td>\n      <td>-</td>\n      <td>...</td>\n      <td>-</td>\n      <td>-</td>\n      <td>-</td>\n      <td>-</td>\n      <td>-</td>\n      <td>-</td>\n      <td>-</td>\n      <td>-</td>\n      <td>-</td>\n      <td>-</td>\n    </tr>\n    <tr>\n      <th>2</th>\n      <td>1.0</td>\n      <td>-</td>\n      <td>1.0</td>\n      <td>-1.0</td>\n      <td>-</td>\n      <td>-</td>\n      <td>17.0</td>\n      <td>28.0</td>\n      <td>6.0</td>\n      <td>7.0</td>\n      <td>...</td>\n      <td>-</td>\n      <td>-</td>\n      <td>-</td>\n      <td>-</td>\n      <td>-</td>\n      <td>-</td>\n      <td>5.0</td>\n      <td>-</td>\n      <td>-</td>\n      <td>-</td>\n    </tr>\n    <tr>\n      <th>3</th>\n      <td>3.0</td>\n      <td>3.0</td>\n      <td>2.0</td>\n      <td>-4.0</td>\n      <td>2.0</td>\n      <td>0.0</td>\n      <td>-</td>\n      <td>32.0</td>\n      <td>8.0</td>\n      <td>8.0</td>\n      <td>...</td>\n      <td>-</td>\n      <td>-</td>\n      <td>-</td>\n      <td>-</td>\n      <td>-</td>\n      <td>-</td>\n      <td>-</td>\n      <td>-</td>\n      <td>-</td>\n      <td>-</td>\n    </tr>\n    <tr>\n      <th>4</th>\n      <td>5.0</td>\n      <td>-3.0</td>\n      <td>4.0</td>\n      <td>-5.0</td>\n      <td>-</td>\n      <td>-2.0</td>\n      <td>15.0</td>\n      <td>70.0</td>\n      <td>4.0</td>\n      <td>10.0</td>\n      <td>...</td>\n      <td>-</td>\n      <td>-</td>\n      <td>-</td>\n      <td>-</td>\n      <td>-</td>\n      <td>-</td>\n      <td>-</td>\n      <td>-</td>\n      <td>10.0</td>\n      <td>-</td>\n    </tr>\n  </tbody>\n</table>\n<p>5 rows × 50 columns</p>\n</div>"
     },
     "execution_count": 69,
     "metadata": {},
     "output_type": "execute_result"
    }
   ],
   "source": [
    "comp, diff = compare_monsters(result[\"values\"], faerie)\n",
    "comp"
   ],
   "metadata": {
    "collapsed": false
   }
  },
  {
   "cell_type": "code",
   "execution_count": 70,
   "outputs": [
    {
     "data": {
      "text/plain": "  str_diff dex_diff con_diff int_diff wis_diff cha_diff ac_diff hp_diff  \\\n0      5.0     -4.0      5.0     -7.0        -     -7.0    -6.0    30.0   \n1        -        -        -        -        -        -       -       -   \n2      3.0        -      1.0     -3.0        -        -    -1.0    -2.0   \n3      5.0     -1.0      2.0     -6.0      2.0     -2.0       -     2.0   \n4      7.0     -7.0      4.0     -7.0        -     -4.0    -3.0    40.0   \n\n  perception_diff fortitude_diff  ... poison_resistance_diff  \\\n0           -10.0            6.0  ...                      -   \n1               -              -  ...                      -   \n2           -10.0            2.0  ...                      -   \n3            -8.0            3.0  ...                      -   \n4           -12.0            5.0  ...                      -   \n\n  slashing_resistance_diff area-damage_weakness_diff cold_weakness_diff  \\\n0                        -                         -                  -   \n1                        -                         -                  -   \n2                        -                         -                  -   \n3                        -                         -                  -   \n4                        -                         -                  -   \n\n  cold-iron_weakness_diff evil_weakness_diff fire_weakness_diff  \\\n0                       -                  -                  -   \n1                       -                  -                  -   \n2                       -                  -                5.0   \n3                       -                  -                  -   \n4                       -                  -                  -   \n\n  good_weakness_diff slashing_weakness_diff splash-damage_weakness_diff  \n0                  -                      -                           -  \n1                  -                      -                           -  \n2                  -                      -                           -  \n3                  -                      -                           -  \n4                  -                   10.0                           -  \n\n[5 rows x 50 columns]",
      "text/html": "<div>\n<style scoped>\n    .dataframe tbody tr th:only-of-type {\n        vertical-align: middle;\n    }\n\n    .dataframe tbody tr th {\n        vertical-align: top;\n    }\n\n    .dataframe thead th {\n        text-align: right;\n    }\n</style>\n<table border=\"1\" class=\"dataframe\">\n  <thead>\n    <tr style=\"text-align: right;\">\n      <th></th>\n      <th>str_diff</th>\n      <th>dex_diff</th>\n      <th>con_diff</th>\n      <th>int_diff</th>\n      <th>wis_diff</th>\n      <th>cha_diff</th>\n      <th>ac_diff</th>\n      <th>hp_diff</th>\n      <th>perception_diff</th>\n      <th>fortitude_diff</th>\n      <th>...</th>\n      <th>poison_resistance_diff</th>\n      <th>slashing_resistance_diff</th>\n      <th>area-damage_weakness_diff</th>\n      <th>cold_weakness_diff</th>\n      <th>cold-iron_weakness_diff</th>\n      <th>evil_weakness_diff</th>\n      <th>fire_weakness_diff</th>\n      <th>good_weakness_diff</th>\n      <th>slashing_weakness_diff</th>\n      <th>splash-damage_weakness_diff</th>\n    </tr>\n  </thead>\n  <tbody>\n    <tr>\n      <th>0</th>\n      <td>5.0</td>\n      <td>-4.0</td>\n      <td>5.0</td>\n      <td>-7.0</td>\n      <td>-</td>\n      <td>-7.0</td>\n      <td>-6.0</td>\n      <td>30.0</td>\n      <td>-10.0</td>\n      <td>6.0</td>\n      <td>...</td>\n      <td>-</td>\n      <td>-</td>\n      <td>-</td>\n      <td>-</td>\n      <td>-</td>\n      <td>-</td>\n      <td>-</td>\n      <td>-</td>\n      <td>-</td>\n      <td>-</td>\n    </tr>\n    <tr>\n      <th>1</th>\n      <td>-</td>\n      <td>-</td>\n      <td>-</td>\n      <td>-</td>\n      <td>-</td>\n      <td>-</td>\n      <td>-</td>\n      <td>-</td>\n      <td>-</td>\n      <td>-</td>\n      <td>...</td>\n      <td>-</td>\n      <td>-</td>\n      <td>-</td>\n      <td>-</td>\n      <td>-</td>\n      <td>-</td>\n      <td>-</td>\n      <td>-</td>\n      <td>-</td>\n      <td>-</td>\n    </tr>\n    <tr>\n      <th>2</th>\n      <td>3.0</td>\n      <td>-</td>\n      <td>1.0</td>\n      <td>-3.0</td>\n      <td>-</td>\n      <td>-</td>\n      <td>-1.0</td>\n      <td>-2.0</td>\n      <td>-10.0</td>\n      <td>2.0</td>\n      <td>...</td>\n      <td>-</td>\n      <td>-</td>\n      <td>-</td>\n      <td>-</td>\n      <td>-</td>\n      <td>-</td>\n      <td>5.0</td>\n      <td>-</td>\n      <td>-</td>\n      <td>-</td>\n    </tr>\n    <tr>\n      <th>3</th>\n      <td>5.0</td>\n      <td>-1.0</td>\n      <td>2.0</td>\n      <td>-6.0</td>\n      <td>2.0</td>\n      <td>-2.0</td>\n      <td>-</td>\n      <td>2.0</td>\n      <td>-8.0</td>\n      <td>3.0</td>\n      <td>...</td>\n      <td>-</td>\n      <td>-</td>\n      <td>-</td>\n      <td>-</td>\n      <td>-</td>\n      <td>-</td>\n      <td>-</td>\n      <td>-</td>\n      <td>-</td>\n      <td>-</td>\n    </tr>\n    <tr>\n      <th>4</th>\n      <td>7.0</td>\n      <td>-7.0</td>\n      <td>4.0</td>\n      <td>-7.0</td>\n      <td>-</td>\n      <td>-4.0</td>\n      <td>-3.0</td>\n      <td>40.0</td>\n      <td>-12.0</td>\n      <td>5.0</td>\n      <td>...</td>\n      <td>-</td>\n      <td>-</td>\n      <td>-</td>\n      <td>-</td>\n      <td>-</td>\n      <td>-</td>\n      <td>-</td>\n      <td>-</td>\n      <td>10.0</td>\n      <td>-</td>\n    </tr>\n  </tbody>\n</table>\n<p>5 rows × 50 columns</p>\n</div>"
     },
     "execution_count": 70,
     "metadata": {},
     "output_type": "execute_result"
    }
   ],
   "source": [
    "diff"
   ],
   "metadata": {
    "collapsed": false
   }
  },
  {
   "cell_type": "markdown",
   "source": [
    "## Faerie"
   ],
   "metadata": {
    "collapsed": false
   }
  },
  {
   "cell_type": "code",
   "execution_count": 71,
   "outputs": [
    {
     "name": "stderr",
     "output_type": "stream",
     "text": [
      "100%|██████████| 1/1 [00:00<00:00,  1.15it/s]\n"
     ]
    }
   ],
   "source": [
    "result = generate_counterfactuals(\n",
    "    monster_stats=faerie,\n",
    "    model=model,\n",
    "    new_level=6,\n",
    "    df=dataset,\n",
    "    total_cf=5,\n",
    "    ordered_characteristics=ORDERED_CHARACTERISTICS_FULL,\n",
    ")"
   ],
   "metadata": {
    "collapsed": false
   }
  },
  {
   "cell_type": "code",
   "execution_count": 72,
   "outputs": [
    {
     "name": "stdout",
     "output_type": "stream",
     "text": [
      "[5.99999121]\n",
      "[5.99999917]\n",
      "[5.99999994]\n",
      "[6.00000011]\n",
      "[6.00000035]\n"
     ]
    }
   ],
   "source": [
    "test_cfs(result[\"values\"], 6)"
   ],
   "metadata": {
    "collapsed": false
   }
  },
  {
   "cell_type": "markdown",
   "source": [
    "### Compare to Young"
   ],
   "metadata": {
    "collapsed": false
   }
  },
  {
   "cell_type": "code",
   "execution_count": 73,
   "outputs": [
    {
     "data": {
      "text/plain": "   str  dex  con  int  wis  cha    ac    hp  perception  fortitude  ...  \\\n0  5.0  4.0  3.0 -3.0  3.0  1.0  24.0  75.0        17.0       13.0  ...   \n1  2.0  5.0  3.0 -2.0  4.0    -  25.0  78.0        14.0       13.0  ...   \n2 -5.0  4.0  0.0  2.0  2.0  5.0  24.0  80.0        14.0        8.0  ...   \n3 -5.0  4.0  0.0  2.0  2.0  4.0  22.0  75.0        14.0       10.0  ...   \n4 -5.0  6.0  0.0  2.0  4.0  2.0  27.0  50.0        16.0       10.0  ...   \n\n  poison_resistance slashing_resistance area-damage_weakness  cold_weakness  \\\n0                 -                   -                    -              -   \n1                 -                   -                    -              -   \n2                 -                   -                    -              -   \n3                 -                   -                    -              -   \n4                 -                   -                    -              -   \n\n   cold-iron_weakness  evil_weakness fire_weakness  good_weakness  \\\n0                   -              -           0.0              -   \n1                   -              -           0.0              -   \n2                   -              -           0.0              -   \n3                   -              -           0.0              -   \n4                   -              -           0.0              -   \n\n  slashing_weakness splash-damage_weakness  \n0                 -                      -  \n1                 -                      -  \n2                 -                      -  \n3                 -                      -  \n4                 -                      -  \n\n[5 rows x 50 columns]",
      "text/html": "<div>\n<style scoped>\n    .dataframe tbody tr th:only-of-type {\n        vertical-align: middle;\n    }\n\n    .dataframe tbody tr th {\n        vertical-align: top;\n    }\n\n    .dataframe thead th {\n        text-align: right;\n    }\n</style>\n<table border=\"1\" class=\"dataframe\">\n  <thead>\n    <tr style=\"text-align: right;\">\n      <th></th>\n      <th>str</th>\n      <th>dex</th>\n      <th>con</th>\n      <th>int</th>\n      <th>wis</th>\n      <th>cha</th>\n      <th>ac</th>\n      <th>hp</th>\n      <th>perception</th>\n      <th>fortitude</th>\n      <th>...</th>\n      <th>poison_resistance</th>\n      <th>slashing_resistance</th>\n      <th>area-damage_weakness</th>\n      <th>cold_weakness</th>\n      <th>cold-iron_weakness</th>\n      <th>evil_weakness</th>\n      <th>fire_weakness</th>\n      <th>good_weakness</th>\n      <th>slashing_weakness</th>\n      <th>splash-damage_weakness</th>\n    </tr>\n  </thead>\n  <tbody>\n    <tr>\n      <th>0</th>\n      <td>5.0</td>\n      <td>4.0</td>\n      <td>3.0</td>\n      <td>-3.0</td>\n      <td>3.0</td>\n      <td>1.0</td>\n      <td>24.0</td>\n      <td>75.0</td>\n      <td>17.0</td>\n      <td>13.0</td>\n      <td>...</td>\n      <td>-</td>\n      <td>-</td>\n      <td>-</td>\n      <td>-</td>\n      <td>-</td>\n      <td>-</td>\n      <td>0.0</td>\n      <td>-</td>\n      <td>-</td>\n      <td>-</td>\n    </tr>\n    <tr>\n      <th>1</th>\n      <td>2.0</td>\n      <td>5.0</td>\n      <td>3.0</td>\n      <td>-2.0</td>\n      <td>4.0</td>\n      <td>-</td>\n      <td>25.0</td>\n      <td>78.0</td>\n      <td>14.0</td>\n      <td>13.0</td>\n      <td>...</td>\n      <td>-</td>\n      <td>-</td>\n      <td>-</td>\n      <td>-</td>\n      <td>-</td>\n      <td>-</td>\n      <td>0.0</td>\n      <td>-</td>\n      <td>-</td>\n      <td>-</td>\n    </tr>\n    <tr>\n      <th>2</th>\n      <td>-5.0</td>\n      <td>4.0</td>\n      <td>0.0</td>\n      <td>2.0</td>\n      <td>2.0</td>\n      <td>5.0</td>\n      <td>24.0</td>\n      <td>80.0</td>\n      <td>14.0</td>\n      <td>8.0</td>\n      <td>...</td>\n      <td>-</td>\n      <td>-</td>\n      <td>-</td>\n      <td>-</td>\n      <td>-</td>\n      <td>-</td>\n      <td>0.0</td>\n      <td>-</td>\n      <td>-</td>\n      <td>-</td>\n    </tr>\n    <tr>\n      <th>3</th>\n      <td>-5.0</td>\n      <td>4.0</td>\n      <td>0.0</td>\n      <td>2.0</td>\n      <td>2.0</td>\n      <td>4.0</td>\n      <td>22.0</td>\n      <td>75.0</td>\n      <td>14.0</td>\n      <td>10.0</td>\n      <td>...</td>\n      <td>-</td>\n      <td>-</td>\n      <td>-</td>\n      <td>-</td>\n      <td>-</td>\n      <td>-</td>\n      <td>0.0</td>\n      <td>-</td>\n      <td>-</td>\n      <td>-</td>\n    </tr>\n    <tr>\n      <th>4</th>\n      <td>-5.0</td>\n      <td>6.0</td>\n      <td>0.0</td>\n      <td>2.0</td>\n      <td>4.0</td>\n      <td>2.0</td>\n      <td>27.0</td>\n      <td>50.0</td>\n      <td>16.0</td>\n      <td>10.0</td>\n      <td>...</td>\n      <td>-</td>\n      <td>-</td>\n      <td>-</td>\n      <td>-</td>\n      <td>-</td>\n      <td>-</td>\n      <td>0.0</td>\n      <td>-</td>\n      <td>-</td>\n      <td>-</td>\n    </tr>\n  </tbody>\n</table>\n<p>5 rows × 50 columns</p>\n</div>"
     },
     "execution_count": 73,
     "metadata": {},
     "output_type": "execute_result"
    }
   ],
   "source": [
    "comp, diff = compare_monsters(result[\"values\"], young)\n",
    "comp"
   ],
   "metadata": {
    "collapsed": false
   }
  },
  {
   "cell_type": "code",
   "execution_count": 74,
   "outputs": [
    {
     "data": {
      "text/plain": "   str_diff  dex_diff  con_diff  int_diff  wis_diff cha_diff  ac_diff  \\\n0      -1.0       2.0      -1.0      -2.0       2.0      1.0      1.0   \n1      -4.0       3.0      -1.0      -1.0       3.0        -      2.0   \n2     -11.0       2.0      -4.0       3.0       1.0      5.0      1.0   \n3     -11.0       2.0      -4.0       3.0       1.0      4.0     -1.0   \n4     -11.0       4.0      -4.0       3.0       3.0      2.0      4.0   \n\n   hp_diff  perception_diff  fortitude_diff  ... poison_resistance_diff  \\\n0    -40.0              4.0            -3.0  ...                      -   \n1    -37.0              1.0            -3.0  ...                      -   \n2    -35.0              1.0            -8.0  ...                      -   \n3    -40.0              1.0            -6.0  ...                      -   \n4    -65.0              3.0            -6.0  ...                      -   \n\n  slashing_resistance_diff area-damage_weakness_diff  cold_weakness_diff  \\\n0                        -                         -                   -   \n1                        -                         -                   -   \n2                        -                         -                   -   \n3                        -                         -                   -   \n4                        -                         -                   -   \n\n   cold-iron_weakness_diff  evil_weakness_diff fire_weakness_diff  \\\n0                        -                   -               -5.0   \n1                        -                   -               -5.0   \n2                        -                   -               -5.0   \n3                        -                   -               -5.0   \n4                        -                   -               -5.0   \n\n   good_weakness_diff slashing_weakness_diff splash-damage_weakness_diff  \n0                   -                      -                           -  \n1                   -                      -                           -  \n2                   -                      -                           -  \n3                   -                      -                           -  \n4                   -                      -                           -  \n\n[5 rows x 50 columns]",
      "text/html": "<div>\n<style scoped>\n    .dataframe tbody tr th:only-of-type {\n        vertical-align: middle;\n    }\n\n    .dataframe tbody tr th {\n        vertical-align: top;\n    }\n\n    .dataframe thead th {\n        text-align: right;\n    }\n</style>\n<table border=\"1\" class=\"dataframe\">\n  <thead>\n    <tr style=\"text-align: right;\">\n      <th></th>\n      <th>str_diff</th>\n      <th>dex_diff</th>\n      <th>con_diff</th>\n      <th>int_diff</th>\n      <th>wis_diff</th>\n      <th>cha_diff</th>\n      <th>ac_diff</th>\n      <th>hp_diff</th>\n      <th>perception_diff</th>\n      <th>fortitude_diff</th>\n      <th>...</th>\n      <th>poison_resistance_diff</th>\n      <th>slashing_resistance_diff</th>\n      <th>area-damage_weakness_diff</th>\n      <th>cold_weakness_diff</th>\n      <th>cold-iron_weakness_diff</th>\n      <th>evil_weakness_diff</th>\n      <th>fire_weakness_diff</th>\n      <th>good_weakness_diff</th>\n      <th>slashing_weakness_diff</th>\n      <th>splash-damage_weakness_diff</th>\n    </tr>\n  </thead>\n  <tbody>\n    <tr>\n      <th>0</th>\n      <td>-1.0</td>\n      <td>2.0</td>\n      <td>-1.0</td>\n      <td>-2.0</td>\n      <td>2.0</td>\n      <td>1.0</td>\n      <td>1.0</td>\n      <td>-40.0</td>\n      <td>4.0</td>\n      <td>-3.0</td>\n      <td>...</td>\n      <td>-</td>\n      <td>-</td>\n      <td>-</td>\n      <td>-</td>\n      <td>-</td>\n      <td>-</td>\n      <td>-5.0</td>\n      <td>-</td>\n      <td>-</td>\n      <td>-</td>\n    </tr>\n    <tr>\n      <th>1</th>\n      <td>-4.0</td>\n      <td>3.0</td>\n      <td>-1.0</td>\n      <td>-1.0</td>\n      <td>3.0</td>\n      <td>-</td>\n      <td>2.0</td>\n      <td>-37.0</td>\n      <td>1.0</td>\n      <td>-3.0</td>\n      <td>...</td>\n      <td>-</td>\n      <td>-</td>\n      <td>-</td>\n      <td>-</td>\n      <td>-</td>\n      <td>-</td>\n      <td>-5.0</td>\n      <td>-</td>\n      <td>-</td>\n      <td>-</td>\n    </tr>\n    <tr>\n      <th>2</th>\n      <td>-11.0</td>\n      <td>2.0</td>\n      <td>-4.0</td>\n      <td>3.0</td>\n      <td>1.0</td>\n      <td>5.0</td>\n      <td>1.0</td>\n      <td>-35.0</td>\n      <td>1.0</td>\n      <td>-8.0</td>\n      <td>...</td>\n      <td>-</td>\n      <td>-</td>\n      <td>-</td>\n      <td>-</td>\n      <td>-</td>\n      <td>-</td>\n      <td>-5.0</td>\n      <td>-</td>\n      <td>-</td>\n      <td>-</td>\n    </tr>\n    <tr>\n      <th>3</th>\n      <td>-11.0</td>\n      <td>2.0</td>\n      <td>-4.0</td>\n      <td>3.0</td>\n      <td>1.0</td>\n      <td>4.0</td>\n      <td>-1.0</td>\n      <td>-40.0</td>\n      <td>1.0</td>\n      <td>-6.0</td>\n      <td>...</td>\n      <td>-</td>\n      <td>-</td>\n      <td>-</td>\n      <td>-</td>\n      <td>-</td>\n      <td>-</td>\n      <td>-5.0</td>\n      <td>-</td>\n      <td>-</td>\n      <td>-</td>\n    </tr>\n    <tr>\n      <th>4</th>\n      <td>-11.0</td>\n      <td>4.0</td>\n      <td>-4.0</td>\n      <td>3.0</td>\n      <td>3.0</td>\n      <td>2.0</td>\n      <td>4.0</td>\n      <td>-65.0</td>\n      <td>3.0</td>\n      <td>-6.0</td>\n      <td>...</td>\n      <td>-</td>\n      <td>-</td>\n      <td>-</td>\n      <td>-</td>\n      <td>-</td>\n      <td>-</td>\n      <td>-5.0</td>\n      <td>-</td>\n      <td>-</td>\n      <td>-</td>\n    </tr>\n  </tbody>\n</table>\n<p>5 rows × 50 columns</p>\n</div>"
     },
     "execution_count": 74,
     "metadata": {},
     "output_type": "execute_result"
    }
   ],
   "source": [
    "diff"
   ],
   "metadata": {
    "collapsed": false
   }
  },
  {
   "cell_type": "code",
   "execution_count": 75,
   "outputs": [
    {
     "name": "stderr",
     "output_type": "stream",
     "text": [
      "100%|██████████| 1/1 [00:00<00:00,  1.20it/s]\n"
     ]
    }
   ],
   "source": [
    "result = generate_counterfactuals(\n",
    "    monster_stats=faerie,\n",
    "    model=model,\n",
    "    new_level=10,\n",
    "    df=dataset,\n",
    "    total_cf=5,\n",
    "    ordered_characteristics=ORDERED_CHARACTERISTICS_FULL,\n",
    ")"
   ],
   "metadata": {
    "collapsed": false
   }
  },
  {
   "cell_type": "code",
   "execution_count": 76,
   "outputs": [
    {
     "name": "stdout",
     "output_type": "stream",
     "text": [
      "[9.99999915]\n",
      "[9.99999959]\n",
      "[9.99999989]\n",
      "[10.00000079]\n",
      "[10.0000057]\n"
     ]
    }
   ],
   "source": [
    "test_cfs(result[\"values\"], 10)"
   ],
   "metadata": {
    "collapsed": false
   }
  },
  {
   "cell_type": "markdown",
   "source": [
    "### Compare to Adult"
   ],
   "metadata": {
    "collapsed": false
   }
  },
  {
   "cell_type": "code",
   "execution_count": 77,
   "outputs": [
    {
     "data": {
      "text/plain": "   str  dex  con  int  wis  cha    ac     hp  perception fortitude  ...  \\\n0    -  5.0  6.0 -2.0  5.0  7.0     -  160.0        21.0         -  ...   \n1  5.0  1.0  7.0  2.0  3.0  3.0  31.0  125.0        19.0      23.0  ...   \n2    -  3.0  4.0  2.0  7.0  3.0  30.0  135.0        21.0      18.0  ...   \n3 -5.0  3.0  0.0  6.0  3.0  6.0  27.0  135.0        17.0      16.0  ...   \n4  6.0 -1.0  6.0 -5.0  0.0 -5.0     -  175.0        16.0      23.0  ...   \n\n  poison_resistance slashing_resistance area-damage_weakness cold_weakness  \\\n0                 -                   -                    -             -   \n1                 -                   -                    -             -   \n2                 -                   -                    -             -   \n3                 -                   -                    -             -   \n4                 -                   -                    -             -   \n\n   cold-iron_weakness  evil_weakness fire_weakness  good_weakness  \\\n0                   -              -           0.0              -   \n1                   -           10.0           0.0              -   \n2                   -              -           0.0              -   \n3                   -              -           0.0              -   \n4                   -              -           0.0              -   \n\n  slashing_weakness splash-damage_weakness  \n0                 -                      -  \n1                 -                      -  \n2                 -                      -  \n3                 -                      -  \n4                 -                      -  \n\n[5 rows x 50 columns]",
      "text/html": "<div>\n<style scoped>\n    .dataframe tbody tr th:only-of-type {\n        vertical-align: middle;\n    }\n\n    .dataframe tbody tr th {\n        vertical-align: top;\n    }\n\n    .dataframe thead th {\n        text-align: right;\n    }\n</style>\n<table border=\"1\" class=\"dataframe\">\n  <thead>\n    <tr style=\"text-align: right;\">\n      <th></th>\n      <th>str</th>\n      <th>dex</th>\n      <th>con</th>\n      <th>int</th>\n      <th>wis</th>\n      <th>cha</th>\n      <th>ac</th>\n      <th>hp</th>\n      <th>perception</th>\n      <th>fortitude</th>\n      <th>...</th>\n      <th>poison_resistance</th>\n      <th>slashing_resistance</th>\n      <th>area-damage_weakness</th>\n      <th>cold_weakness</th>\n      <th>cold-iron_weakness</th>\n      <th>evil_weakness</th>\n      <th>fire_weakness</th>\n      <th>good_weakness</th>\n      <th>slashing_weakness</th>\n      <th>splash-damage_weakness</th>\n    </tr>\n  </thead>\n  <tbody>\n    <tr>\n      <th>0</th>\n      <td>-</td>\n      <td>5.0</td>\n      <td>6.0</td>\n      <td>-2.0</td>\n      <td>5.0</td>\n      <td>7.0</td>\n      <td>-</td>\n      <td>160.0</td>\n      <td>21.0</td>\n      <td>-</td>\n      <td>...</td>\n      <td>-</td>\n      <td>-</td>\n      <td>-</td>\n      <td>-</td>\n      <td>-</td>\n      <td>-</td>\n      <td>0.0</td>\n      <td>-</td>\n      <td>-</td>\n      <td>-</td>\n    </tr>\n    <tr>\n      <th>1</th>\n      <td>5.0</td>\n      <td>1.0</td>\n      <td>7.0</td>\n      <td>2.0</td>\n      <td>3.0</td>\n      <td>3.0</td>\n      <td>31.0</td>\n      <td>125.0</td>\n      <td>19.0</td>\n      <td>23.0</td>\n      <td>...</td>\n      <td>-</td>\n      <td>-</td>\n      <td>-</td>\n      <td>-</td>\n      <td>-</td>\n      <td>10.0</td>\n      <td>0.0</td>\n      <td>-</td>\n      <td>-</td>\n      <td>-</td>\n    </tr>\n    <tr>\n      <th>2</th>\n      <td>-</td>\n      <td>3.0</td>\n      <td>4.0</td>\n      <td>2.0</td>\n      <td>7.0</td>\n      <td>3.0</td>\n      <td>30.0</td>\n      <td>135.0</td>\n      <td>21.0</td>\n      <td>18.0</td>\n      <td>...</td>\n      <td>-</td>\n      <td>-</td>\n      <td>-</td>\n      <td>-</td>\n      <td>-</td>\n      <td>-</td>\n      <td>0.0</td>\n      <td>-</td>\n      <td>-</td>\n      <td>-</td>\n    </tr>\n    <tr>\n      <th>3</th>\n      <td>-5.0</td>\n      <td>3.0</td>\n      <td>0.0</td>\n      <td>6.0</td>\n      <td>3.0</td>\n      <td>6.0</td>\n      <td>27.0</td>\n      <td>135.0</td>\n      <td>17.0</td>\n      <td>16.0</td>\n      <td>...</td>\n      <td>-</td>\n      <td>-</td>\n      <td>-</td>\n      <td>-</td>\n      <td>-</td>\n      <td>-</td>\n      <td>0.0</td>\n      <td>-</td>\n      <td>-</td>\n      <td>-</td>\n    </tr>\n    <tr>\n      <th>4</th>\n      <td>6.0</td>\n      <td>-1.0</td>\n      <td>6.0</td>\n      <td>-5.0</td>\n      <td>0.0</td>\n      <td>-5.0</td>\n      <td>-</td>\n      <td>175.0</td>\n      <td>16.0</td>\n      <td>23.0</td>\n      <td>...</td>\n      <td>-</td>\n      <td>-</td>\n      <td>-</td>\n      <td>-</td>\n      <td>-</td>\n      <td>-</td>\n      <td>0.0</td>\n      <td>-</td>\n      <td>-</td>\n      <td>-</td>\n    </tr>\n  </tbody>\n</table>\n<p>5 rows × 50 columns</p>\n</div>"
     },
     "execution_count": 77,
     "metadata": {},
     "output_type": "execute_result"
    }
   ],
   "source": [
    "comp, diff = compare_monsters(result[\"values\"], adult)\n",
    "comp"
   ],
   "metadata": {
    "collapsed": false
   }
  },
  {
   "cell_type": "code",
   "execution_count": 78,
   "outputs": [
    {
     "data": {
      "text/plain": "  str_diff  dex_diff  con_diff  int_diff  wis_diff  cha_diff ac_diff  hp_diff  \\\n0        -       3.0       1.0      -3.0       3.0       6.0       -    -55.0   \n1     -2.0      -1.0       2.0       1.0       1.0       2.0     2.0    -90.0   \n2        -       1.0      -1.0       1.0       5.0       2.0     1.0    -80.0   \n3    -12.0       1.0      -5.0       5.0       1.0       5.0    -2.0    -80.0   \n4     -1.0      -3.0       1.0      -6.0      -2.0      -6.0       -    -40.0   \n\n   perception_diff fortitude_diff  ... poison_resistance_diff  \\\n0              1.0              -  ...                      -   \n1             -1.0            1.0  ...                      -   \n2              1.0           -4.0  ...                      -   \n3             -3.0           -6.0  ...                      -   \n4             -4.0            1.0  ...                      -   \n\n  slashing_resistance_diff area-damage_weakness_diff cold_weakness_diff  \\\n0                        -                         -                  -   \n1                        -                         -                  -   \n2                        -                         -                  -   \n3                        -                         -                  -   \n4                        -                         -                  -   \n\n   cold-iron_weakness_diff  evil_weakness_diff fire_weakness_diff  \\\n0                        -                   -              -10.0   \n1                        -                10.0              -10.0   \n2                        -                   -              -10.0   \n3                        -                   -              -10.0   \n4                        -                   -              -10.0   \n\n   good_weakness_diff slashing_weakness_diff splash-damage_weakness_diff  \n0                   -                      -                           -  \n1                   -                      -                           -  \n2                   -                      -                           -  \n3                   -                      -                           -  \n4                   -                      -                           -  \n\n[5 rows x 50 columns]",
      "text/html": "<div>\n<style scoped>\n    .dataframe tbody tr th:only-of-type {\n        vertical-align: middle;\n    }\n\n    .dataframe tbody tr th {\n        vertical-align: top;\n    }\n\n    .dataframe thead th {\n        text-align: right;\n    }\n</style>\n<table border=\"1\" class=\"dataframe\">\n  <thead>\n    <tr style=\"text-align: right;\">\n      <th></th>\n      <th>str_diff</th>\n      <th>dex_diff</th>\n      <th>con_diff</th>\n      <th>int_diff</th>\n      <th>wis_diff</th>\n      <th>cha_diff</th>\n      <th>ac_diff</th>\n      <th>hp_diff</th>\n      <th>perception_diff</th>\n      <th>fortitude_diff</th>\n      <th>...</th>\n      <th>poison_resistance_diff</th>\n      <th>slashing_resistance_diff</th>\n      <th>area-damage_weakness_diff</th>\n      <th>cold_weakness_diff</th>\n      <th>cold-iron_weakness_diff</th>\n      <th>evil_weakness_diff</th>\n      <th>fire_weakness_diff</th>\n      <th>good_weakness_diff</th>\n      <th>slashing_weakness_diff</th>\n      <th>splash-damage_weakness_diff</th>\n    </tr>\n  </thead>\n  <tbody>\n    <tr>\n      <th>0</th>\n      <td>-</td>\n      <td>3.0</td>\n      <td>1.0</td>\n      <td>-3.0</td>\n      <td>3.0</td>\n      <td>6.0</td>\n      <td>-</td>\n      <td>-55.0</td>\n      <td>1.0</td>\n      <td>-</td>\n      <td>...</td>\n      <td>-</td>\n      <td>-</td>\n      <td>-</td>\n      <td>-</td>\n      <td>-</td>\n      <td>-</td>\n      <td>-10.0</td>\n      <td>-</td>\n      <td>-</td>\n      <td>-</td>\n    </tr>\n    <tr>\n      <th>1</th>\n      <td>-2.0</td>\n      <td>-1.0</td>\n      <td>2.0</td>\n      <td>1.0</td>\n      <td>1.0</td>\n      <td>2.0</td>\n      <td>2.0</td>\n      <td>-90.0</td>\n      <td>-1.0</td>\n      <td>1.0</td>\n      <td>...</td>\n      <td>-</td>\n      <td>-</td>\n      <td>-</td>\n      <td>-</td>\n      <td>-</td>\n      <td>10.0</td>\n      <td>-10.0</td>\n      <td>-</td>\n      <td>-</td>\n      <td>-</td>\n    </tr>\n    <tr>\n      <th>2</th>\n      <td>-</td>\n      <td>1.0</td>\n      <td>-1.0</td>\n      <td>1.0</td>\n      <td>5.0</td>\n      <td>2.0</td>\n      <td>1.0</td>\n      <td>-80.0</td>\n      <td>1.0</td>\n      <td>-4.0</td>\n      <td>...</td>\n      <td>-</td>\n      <td>-</td>\n      <td>-</td>\n      <td>-</td>\n      <td>-</td>\n      <td>-</td>\n      <td>-10.0</td>\n      <td>-</td>\n      <td>-</td>\n      <td>-</td>\n    </tr>\n    <tr>\n      <th>3</th>\n      <td>-12.0</td>\n      <td>1.0</td>\n      <td>-5.0</td>\n      <td>5.0</td>\n      <td>1.0</td>\n      <td>5.0</td>\n      <td>-2.0</td>\n      <td>-80.0</td>\n      <td>-3.0</td>\n      <td>-6.0</td>\n      <td>...</td>\n      <td>-</td>\n      <td>-</td>\n      <td>-</td>\n      <td>-</td>\n      <td>-</td>\n      <td>-</td>\n      <td>-10.0</td>\n      <td>-</td>\n      <td>-</td>\n      <td>-</td>\n    </tr>\n    <tr>\n      <th>4</th>\n      <td>-1.0</td>\n      <td>-3.0</td>\n      <td>1.0</td>\n      <td>-6.0</td>\n      <td>-2.0</td>\n      <td>-6.0</td>\n      <td>-</td>\n      <td>-40.0</td>\n      <td>-4.0</td>\n      <td>1.0</td>\n      <td>...</td>\n      <td>-</td>\n      <td>-</td>\n      <td>-</td>\n      <td>-</td>\n      <td>-</td>\n      <td>-</td>\n      <td>-10.0</td>\n      <td>-</td>\n      <td>-</td>\n      <td>-</td>\n    </tr>\n  </tbody>\n</table>\n<p>5 rows × 50 columns</p>\n</div>"
     },
     "execution_count": 78,
     "metadata": {},
     "output_type": "execute_result"
    }
   ],
   "source": [
    "diff"
   ],
   "metadata": {
    "collapsed": false
   }
  },
  {
   "cell_type": "code",
   "execution_count": 79,
   "outputs": [
    {
     "name": "stderr",
     "output_type": "stream",
     "text": [
      "100%|██████████| 1/1 [00:00<00:00,  1.10it/s]\n"
     ]
    }
   ],
   "source": [
    "result = generate_counterfactuals(\n",
    "    monster_stats=faerie,\n",
    "    model=model,\n",
    "    new_level=15,\n",
    "    df=dataset,\n",
    "    total_cf=5,\n",
    "    ordered_characteristics=ORDERED_CHARACTERISTICS_FULL,\n",
    ")"
   ],
   "metadata": {
    "collapsed": false
   }
  },
  {
   "cell_type": "code",
   "execution_count": 80,
   "outputs": [
    {
     "name": "stdout",
     "output_type": "stream",
     "text": [
      "[14.99999983]\n",
      "[14.99999987]\n",
      "[14.99999993]\n",
      "[15.00000004]\n",
      "[15.00000053]\n"
     ]
    }
   ],
   "source": [
    "test_cfs(result[\"values\"], 15)"
   ],
   "metadata": {
    "collapsed": false
   }
  },
  {
   "cell_type": "markdown",
   "source": [
    "### Compare to Ancient"
   ],
   "metadata": {
    "collapsed": false
   }
  },
  {
   "cell_type": "code",
   "execution_count": 81,
   "outputs": [
    {
     "data": {
      "text/plain": "   str  dex  con  int  wis  cha    ac     hp  perception  fortitude  ...  \\\n0 -3.0  4.0  0.0  7.0 -2.0  5.0  38.0  220.0        19.0       23.0  ...   \n1  9.0  4.0  6.0 -5.0  6.0 -4.0  38.0  275.0        27.0       29.0  ...   \n2  9.0  2.0  8.0 -5.0  0.0 -5.0  39.0  245.0        23.0       31.0  ...   \n3 -5.0  7.0  0.0  1.0  6.0  8.0  35.0  175.0        27.0       21.0  ...   \n4    -  4.0  6.0  1.0  5.0  6.0  37.0  230.0        26.0       27.0  ...   \n\n   poison_resistance  slashing_resistance area-damage_weakness  cold_weakness  \\\n0                  -                    -                    -              -   \n1                  -                    -                    -              -   \n2                  -                    -                    -              -   \n3                  -                    -                    -              -   \n4                  -                    -                    -              -   \n\n   cold-iron_weakness  evil_weakness fire_weakness  good_weakness  \\\n0                   -              -           0.0              -   \n1                   -              -           0.0              -   \n2                   -              -           0.0              -   \n3                   -              -           0.0              -   \n4                   -              -           0.0              -   \n\n   slashing_weakness splash-damage_weakness  \n0                  -                      -  \n1                  -                      -  \n2                  -                      -  \n3                  -                      -  \n4                  -                      -  \n\n[5 rows x 50 columns]",
      "text/html": "<div>\n<style scoped>\n    .dataframe tbody tr th:only-of-type {\n        vertical-align: middle;\n    }\n\n    .dataframe tbody tr th {\n        vertical-align: top;\n    }\n\n    .dataframe thead th {\n        text-align: right;\n    }\n</style>\n<table border=\"1\" class=\"dataframe\">\n  <thead>\n    <tr style=\"text-align: right;\">\n      <th></th>\n      <th>str</th>\n      <th>dex</th>\n      <th>con</th>\n      <th>int</th>\n      <th>wis</th>\n      <th>cha</th>\n      <th>ac</th>\n      <th>hp</th>\n      <th>perception</th>\n      <th>fortitude</th>\n      <th>...</th>\n      <th>poison_resistance</th>\n      <th>slashing_resistance</th>\n      <th>area-damage_weakness</th>\n      <th>cold_weakness</th>\n      <th>cold-iron_weakness</th>\n      <th>evil_weakness</th>\n      <th>fire_weakness</th>\n      <th>good_weakness</th>\n      <th>slashing_weakness</th>\n      <th>splash-damage_weakness</th>\n    </tr>\n  </thead>\n  <tbody>\n    <tr>\n      <th>0</th>\n      <td>-3.0</td>\n      <td>4.0</td>\n      <td>0.0</td>\n      <td>7.0</td>\n      <td>-2.0</td>\n      <td>5.0</td>\n      <td>38.0</td>\n      <td>220.0</td>\n      <td>19.0</td>\n      <td>23.0</td>\n      <td>...</td>\n      <td>-</td>\n      <td>-</td>\n      <td>-</td>\n      <td>-</td>\n      <td>-</td>\n      <td>-</td>\n      <td>0.0</td>\n      <td>-</td>\n      <td>-</td>\n      <td>-</td>\n    </tr>\n    <tr>\n      <th>1</th>\n      <td>9.0</td>\n      <td>4.0</td>\n      <td>6.0</td>\n      <td>-5.0</td>\n      <td>6.0</td>\n      <td>-4.0</td>\n      <td>38.0</td>\n      <td>275.0</td>\n      <td>27.0</td>\n      <td>29.0</td>\n      <td>...</td>\n      <td>-</td>\n      <td>-</td>\n      <td>-</td>\n      <td>-</td>\n      <td>-</td>\n      <td>-</td>\n      <td>0.0</td>\n      <td>-</td>\n      <td>-</td>\n      <td>-</td>\n    </tr>\n    <tr>\n      <th>2</th>\n      <td>9.0</td>\n      <td>2.0</td>\n      <td>8.0</td>\n      <td>-5.0</td>\n      <td>0.0</td>\n      <td>-5.0</td>\n      <td>39.0</td>\n      <td>245.0</td>\n      <td>23.0</td>\n      <td>31.0</td>\n      <td>...</td>\n      <td>-</td>\n      <td>-</td>\n      <td>-</td>\n      <td>-</td>\n      <td>-</td>\n      <td>-</td>\n      <td>0.0</td>\n      <td>-</td>\n      <td>-</td>\n      <td>-</td>\n    </tr>\n    <tr>\n      <th>3</th>\n      <td>-5.0</td>\n      <td>7.0</td>\n      <td>0.0</td>\n      <td>1.0</td>\n      <td>6.0</td>\n      <td>8.0</td>\n      <td>35.0</td>\n      <td>175.0</td>\n      <td>27.0</td>\n      <td>21.0</td>\n      <td>...</td>\n      <td>-</td>\n      <td>-</td>\n      <td>-</td>\n      <td>-</td>\n      <td>-</td>\n      <td>-</td>\n      <td>0.0</td>\n      <td>-</td>\n      <td>-</td>\n      <td>-</td>\n    </tr>\n    <tr>\n      <th>4</th>\n      <td>-</td>\n      <td>4.0</td>\n      <td>6.0</td>\n      <td>1.0</td>\n      <td>5.0</td>\n      <td>6.0</td>\n      <td>37.0</td>\n      <td>230.0</td>\n      <td>26.0</td>\n      <td>27.0</td>\n      <td>...</td>\n      <td>-</td>\n      <td>-</td>\n      <td>-</td>\n      <td>-</td>\n      <td>-</td>\n      <td>-</td>\n      <td>0.0</td>\n      <td>-</td>\n      <td>-</td>\n      <td>-</td>\n    </tr>\n  </tbody>\n</table>\n<p>5 rows × 50 columns</p>\n</div>"
     },
     "execution_count": 81,
     "metadata": {},
     "output_type": "execute_result"
    }
   ],
   "source": [
    "comp, diff = compare_monsters(result[\"values\"], ancient)\n",
    "comp"
   ],
   "metadata": {
    "collapsed": false
   }
  },
  {
   "cell_type": "code",
   "execution_count": 82,
   "outputs": [
    {
     "data": {
      "text/plain": "  str_diff  dex_diff  con_diff  int_diff  wis_diff  cha_diff  ac_diff  \\\n0    -11.0       1.0      -7.0       5.0      -5.0       2.0      2.0   \n1      1.0       1.0      -1.0      -7.0       3.0      -7.0      2.0   \n2      1.0      -1.0       1.0      -7.0      -3.0      -8.0      3.0   \n3    -13.0       4.0      -7.0      -1.0       3.0       5.0     -1.0   \n4        -       1.0      -1.0      -1.0       2.0       3.0      1.0   \n\n   hp_diff  perception_diff  fortitude_diff  ...  poison_resistance_diff  \\\n0   -110.0            -11.0            -7.0  ...                       -   \n1    -55.0             -3.0            -1.0  ...                       -   \n2    -85.0             -7.0             1.0  ...                       -   \n3   -155.0             -3.0            -9.0  ...                       -   \n4   -100.0             -4.0            -3.0  ...                       -   \n\n   slashing_resistance_diff area-damage_weakness_diff  cold_weakness_diff  \\\n0                         -                         -                   -   \n1                         -                         -                   -   \n2                         -                         -                   -   \n3                         -                         -                   -   \n4                         -                         -                   -   \n\n   cold-iron_weakness_diff  evil_weakness_diff fire_weakness_diff  \\\n0                        -                   -              -15.0   \n1                        -                   -              -15.0   \n2                        -                   -              -15.0   \n3                        -                   -              -15.0   \n4                        -                   -              -15.0   \n\n   good_weakness_diff  slashing_weakness_diff splash-damage_weakness_diff  \n0                   -                       -                           -  \n1                   -                       -                           -  \n2                   -                       -                           -  \n3                   -                       -                           -  \n4                   -                       -                           -  \n\n[5 rows x 50 columns]",
      "text/html": "<div>\n<style scoped>\n    .dataframe tbody tr th:only-of-type {\n        vertical-align: middle;\n    }\n\n    .dataframe tbody tr th {\n        vertical-align: top;\n    }\n\n    .dataframe thead th {\n        text-align: right;\n    }\n</style>\n<table border=\"1\" class=\"dataframe\">\n  <thead>\n    <tr style=\"text-align: right;\">\n      <th></th>\n      <th>str_diff</th>\n      <th>dex_diff</th>\n      <th>con_diff</th>\n      <th>int_diff</th>\n      <th>wis_diff</th>\n      <th>cha_diff</th>\n      <th>ac_diff</th>\n      <th>hp_diff</th>\n      <th>perception_diff</th>\n      <th>fortitude_diff</th>\n      <th>...</th>\n      <th>poison_resistance_diff</th>\n      <th>slashing_resistance_diff</th>\n      <th>area-damage_weakness_diff</th>\n      <th>cold_weakness_diff</th>\n      <th>cold-iron_weakness_diff</th>\n      <th>evil_weakness_diff</th>\n      <th>fire_weakness_diff</th>\n      <th>good_weakness_diff</th>\n      <th>slashing_weakness_diff</th>\n      <th>splash-damage_weakness_diff</th>\n    </tr>\n  </thead>\n  <tbody>\n    <tr>\n      <th>0</th>\n      <td>-11.0</td>\n      <td>1.0</td>\n      <td>-7.0</td>\n      <td>5.0</td>\n      <td>-5.0</td>\n      <td>2.0</td>\n      <td>2.0</td>\n      <td>-110.0</td>\n      <td>-11.0</td>\n      <td>-7.0</td>\n      <td>...</td>\n      <td>-</td>\n      <td>-</td>\n      <td>-</td>\n      <td>-</td>\n      <td>-</td>\n      <td>-</td>\n      <td>-15.0</td>\n      <td>-</td>\n      <td>-</td>\n      <td>-</td>\n    </tr>\n    <tr>\n      <th>1</th>\n      <td>1.0</td>\n      <td>1.0</td>\n      <td>-1.0</td>\n      <td>-7.0</td>\n      <td>3.0</td>\n      <td>-7.0</td>\n      <td>2.0</td>\n      <td>-55.0</td>\n      <td>-3.0</td>\n      <td>-1.0</td>\n      <td>...</td>\n      <td>-</td>\n      <td>-</td>\n      <td>-</td>\n      <td>-</td>\n      <td>-</td>\n      <td>-</td>\n      <td>-15.0</td>\n      <td>-</td>\n      <td>-</td>\n      <td>-</td>\n    </tr>\n    <tr>\n      <th>2</th>\n      <td>1.0</td>\n      <td>-1.0</td>\n      <td>1.0</td>\n      <td>-7.0</td>\n      <td>-3.0</td>\n      <td>-8.0</td>\n      <td>3.0</td>\n      <td>-85.0</td>\n      <td>-7.0</td>\n      <td>1.0</td>\n      <td>...</td>\n      <td>-</td>\n      <td>-</td>\n      <td>-</td>\n      <td>-</td>\n      <td>-</td>\n      <td>-</td>\n      <td>-15.0</td>\n      <td>-</td>\n      <td>-</td>\n      <td>-</td>\n    </tr>\n    <tr>\n      <th>3</th>\n      <td>-13.0</td>\n      <td>4.0</td>\n      <td>-7.0</td>\n      <td>-1.0</td>\n      <td>3.0</td>\n      <td>5.0</td>\n      <td>-1.0</td>\n      <td>-155.0</td>\n      <td>-3.0</td>\n      <td>-9.0</td>\n      <td>...</td>\n      <td>-</td>\n      <td>-</td>\n      <td>-</td>\n      <td>-</td>\n      <td>-</td>\n      <td>-</td>\n      <td>-15.0</td>\n      <td>-</td>\n      <td>-</td>\n      <td>-</td>\n    </tr>\n    <tr>\n      <th>4</th>\n      <td>-</td>\n      <td>1.0</td>\n      <td>-1.0</td>\n      <td>-1.0</td>\n      <td>2.0</td>\n      <td>3.0</td>\n      <td>1.0</td>\n      <td>-100.0</td>\n      <td>-4.0</td>\n      <td>-3.0</td>\n      <td>...</td>\n      <td>-</td>\n      <td>-</td>\n      <td>-</td>\n      <td>-</td>\n      <td>-</td>\n      <td>-</td>\n      <td>-15.0</td>\n      <td>-</td>\n      <td>-</td>\n      <td>-</td>\n    </tr>\n  </tbody>\n</table>\n<p>5 rows × 50 columns</p>\n</div>"
     },
     "execution_count": 82,
     "metadata": {},
     "output_type": "execute_result"
    }
   ],
   "source": [
    "diff"
   ],
   "metadata": {
    "collapsed": false
   }
  },
  {
   "cell_type": "code",
   "execution_count": null,
   "outputs": [],
   "source": [],
   "metadata": {
    "collapsed": false
   }
  }
 ],
 "metadata": {
  "kernelspec": {
   "display_name": "Python 3",
   "language": "python",
   "name": "python3"
  },
  "language_info": {
   "codemirror_mode": {
    "name": "ipython",
    "version": 2
   },
   "file_extension": ".py",
   "mimetype": "text/x-python",
   "name": "python",
   "nbconvert_exporter": "python",
   "pygments_lexer": "ipython2",
   "version": "2.7.6"
  }
 },
 "nbformat": 4,
 "nbformat_minor": 0
}
