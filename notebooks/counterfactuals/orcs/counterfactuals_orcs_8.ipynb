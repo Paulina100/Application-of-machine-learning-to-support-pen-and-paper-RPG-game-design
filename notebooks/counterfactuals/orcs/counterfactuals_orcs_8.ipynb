{
 "cells": [
  {
   "cell_type": "markdown",
   "source": [
    "# Counterfactuals: orcs\n",
    "## 8 characteristics"
   ],
   "metadata": {
    "collapsed": false
   }
  },
  {
   "cell_type": "markdown",
   "source": [
    "## Prepare data"
   ],
   "metadata": {
    "collapsed": false
   }
  },
  {
   "cell_type": "code",
   "execution_count": 1,
   "metadata": {
    "collapsed": true
   },
   "outputs": [],
   "source": [
    "from training.creating_dataset import load_data, preprocess_data"
   ]
  },
  {
   "cell_type": "code",
   "execution_count": 2,
   "outputs": [],
   "source": [
    "import pandas as pd\n",
    "import sys\n",
    "\n",
    "import os\n",
    "import pathlib\n",
    "\n",
    "sys.path.append(\"../../..\")\n",
    "\n",
    "current_path = os.getcwd()\n",
    "current_path = os.getcwd()\n",
    "DATASETS_DIR = pathlib.Path(current_path).parent.parent.parent / \"pathfinder_2e_data\"\n",
    "DATASET_FILES = [\n",
    "    \"pathfinder-bestiary.db\",\n",
    "    \"pathfinder-bestiary-2.db\",\n",
    "    \"pathfinder-bestiary-3.db\",\n",
    "]\n",
    "DATASET_PATHS = [f\"{DATASETS_DIR}/{file}\" for file in DATASET_FILES]\n",
    "\n",
    "df = load_data(DATASET_PATHS)"
   ],
   "metadata": {
    "collapsed": false
   }
  },
  {
   "cell_type": "code",
   "execution_count": 3,
   "outputs": [
    {
     "data": {
      "text/plain": "                _id                                       img  \\\n0  024PqcF8yMRBrPuq  systems/pf2e/icons/default-icons/npc.svg   \n1  05E3kkjoLZVjFOeO  systems/pf2e/icons/default-icons/npc.svg   \n2  05wwpHHsBlxBbdkN  systems/pf2e/icons/default-icons/npc.svg   \n3  0FGz2eXm0SB04sJW  systems/pf2e/icons/default-icons/npc.svg   \n4  0HjVFx8qIKDCfblg  systems/pf2e/icons/default-icons/npc.svg   \n\n                                               items                  name  \\\n0  [{'_id': 'B7rzf0nBJmzg8x0y', 'img': 'systems/p...    Adult White Dragon   \n1  [{'_id': 'mYNDkS27YQRyy1F0', 'img': 'systems/p...          Brontosaurus   \n2  [{'_id': 'WkPeg600zGONsuJz', 'img': 'systems/p...        Giant Anaconda   \n3  [{'_id': 'joBYS96mXSnZC1WB', 'img': 'systems/p...  Ancient Green Dragon   \n4  [{'_id': 'xlUnQcjrxeMXu5Cd', 'img': 'systems/p...        Lantern Archon   \n\n  type  system.abilities.cha.mod  system.abilities.con.mod  \\\n0  npc                         1                         5   \n1  npc                         1                         5   \n2  npc                        -2                         6   \n3  npc                         6                         5   \n4  npc                         1                         1   \n\n   system.abilities.dex.mod  system.abilities.int.mod  \\\n0                         2                         1   \n1                         0                        -4   \n2                         3                        -4   \n3                         4                         6   \n4                         3                        -1   \n\n   system.abilities.str.mod  ...  system.traits.size.value  \\\n0                         7  ...                        lg   \n1                         9  ...                       grg   \n2                         7  ...                      huge   \n3                         7  ...                       grg   \n4                        -5  ...                        sm   \n\n    system.traits.value  system.schema.version system.schema.lastMigration  \\\n0        [cold, dragon]                  0.827                        None   \n1    [animal, dinosaur]                  0.827                        None   \n2              [animal]                  0.827                        None   \n3  [amphibious, dragon]                  0.827                        None   \n4   [archon, celestial]                  0.827                        None   \n\n                                 flags.core.sourceId  \\\n0  Compendium.pf2e.pathfinder-bestiary.024PqcF8yM...   \n1  Compendium.pf2e.pathfinder-bestiary.05E3kkjoLZ...   \n2  Compendium.pf2e.pathfinder-bestiary.05wwpHHsBl...   \n3  Compendium.pf2e.pathfinder-bestiary.0FGz2eXm0S...   \n4  Compendium.pf2e.pathfinder-bestiary.0HjVFx8qIK...   \n\n    system.attributes.resistances  system.traits.attitude.value  \\\n0                             NaN                           NaN   \n1                             NaN                           NaN   \n2                             NaN                           NaN   \n3                             NaN                           NaN   \n4  [{'type': 'fire', 'value': 3}]                           NaN   \n\n   prototypeToken.name system.attributes.hardness.value  \\\n0                  NaN                              NaN   \n1                  NaN                              NaN   \n2                  NaN                              NaN   \n3                  NaN                              NaN   \n4                  NaN                              NaN   \n\n  system.attributes.adjustment  \n0                          NaN  \n1                          NaN  \n2                          NaN  \n3                          NaN  \n4                          NaN  \n\n[5 rows x 55 columns]",
      "text/html": "<div>\n<style scoped>\n    .dataframe tbody tr th:only-of-type {\n        vertical-align: middle;\n    }\n\n    .dataframe tbody tr th {\n        vertical-align: top;\n    }\n\n    .dataframe thead th {\n        text-align: right;\n    }\n</style>\n<table border=\"1\" class=\"dataframe\">\n  <thead>\n    <tr style=\"text-align: right;\">\n      <th></th>\n      <th>_id</th>\n      <th>img</th>\n      <th>items</th>\n      <th>name</th>\n      <th>type</th>\n      <th>system.abilities.cha.mod</th>\n      <th>system.abilities.con.mod</th>\n      <th>system.abilities.dex.mod</th>\n      <th>system.abilities.int.mod</th>\n      <th>system.abilities.str.mod</th>\n      <th>...</th>\n      <th>system.traits.size.value</th>\n      <th>system.traits.value</th>\n      <th>system.schema.version</th>\n      <th>system.schema.lastMigration</th>\n      <th>flags.core.sourceId</th>\n      <th>system.attributes.resistances</th>\n      <th>system.traits.attitude.value</th>\n      <th>prototypeToken.name</th>\n      <th>system.attributes.hardness.value</th>\n      <th>system.attributes.adjustment</th>\n    </tr>\n  </thead>\n  <tbody>\n    <tr>\n      <th>0</th>\n      <td>024PqcF8yMRBrPuq</td>\n      <td>systems/pf2e/icons/default-icons/npc.svg</td>\n      <td>[{'_id': 'B7rzf0nBJmzg8x0y', 'img': 'systems/p...</td>\n      <td>Adult White Dragon</td>\n      <td>npc</td>\n      <td>1</td>\n      <td>5</td>\n      <td>2</td>\n      <td>1</td>\n      <td>7</td>\n      <td>...</td>\n      <td>lg</td>\n      <td>[cold, dragon]</td>\n      <td>0.827</td>\n      <td>None</td>\n      <td>Compendium.pf2e.pathfinder-bestiary.024PqcF8yM...</td>\n      <td>NaN</td>\n      <td>NaN</td>\n      <td>NaN</td>\n      <td>NaN</td>\n      <td>NaN</td>\n    </tr>\n    <tr>\n      <th>1</th>\n      <td>05E3kkjoLZVjFOeO</td>\n      <td>systems/pf2e/icons/default-icons/npc.svg</td>\n      <td>[{'_id': 'mYNDkS27YQRyy1F0', 'img': 'systems/p...</td>\n      <td>Brontosaurus</td>\n      <td>npc</td>\n      <td>1</td>\n      <td>5</td>\n      <td>0</td>\n      <td>-4</td>\n      <td>9</td>\n      <td>...</td>\n      <td>grg</td>\n      <td>[animal, dinosaur]</td>\n      <td>0.827</td>\n      <td>None</td>\n      <td>Compendium.pf2e.pathfinder-bestiary.05E3kkjoLZ...</td>\n      <td>NaN</td>\n      <td>NaN</td>\n      <td>NaN</td>\n      <td>NaN</td>\n      <td>NaN</td>\n    </tr>\n    <tr>\n      <th>2</th>\n      <td>05wwpHHsBlxBbdkN</td>\n      <td>systems/pf2e/icons/default-icons/npc.svg</td>\n      <td>[{'_id': 'WkPeg600zGONsuJz', 'img': 'systems/p...</td>\n      <td>Giant Anaconda</td>\n      <td>npc</td>\n      <td>-2</td>\n      <td>6</td>\n      <td>3</td>\n      <td>-4</td>\n      <td>7</td>\n      <td>...</td>\n      <td>huge</td>\n      <td>[animal]</td>\n      <td>0.827</td>\n      <td>None</td>\n      <td>Compendium.pf2e.pathfinder-bestiary.05wwpHHsBl...</td>\n      <td>NaN</td>\n      <td>NaN</td>\n      <td>NaN</td>\n      <td>NaN</td>\n      <td>NaN</td>\n    </tr>\n    <tr>\n      <th>3</th>\n      <td>0FGz2eXm0SB04sJW</td>\n      <td>systems/pf2e/icons/default-icons/npc.svg</td>\n      <td>[{'_id': 'joBYS96mXSnZC1WB', 'img': 'systems/p...</td>\n      <td>Ancient Green Dragon</td>\n      <td>npc</td>\n      <td>6</td>\n      <td>5</td>\n      <td>4</td>\n      <td>6</td>\n      <td>7</td>\n      <td>...</td>\n      <td>grg</td>\n      <td>[amphibious, dragon]</td>\n      <td>0.827</td>\n      <td>None</td>\n      <td>Compendium.pf2e.pathfinder-bestiary.0FGz2eXm0S...</td>\n      <td>NaN</td>\n      <td>NaN</td>\n      <td>NaN</td>\n      <td>NaN</td>\n      <td>NaN</td>\n    </tr>\n    <tr>\n      <th>4</th>\n      <td>0HjVFx8qIKDCfblg</td>\n      <td>systems/pf2e/icons/default-icons/npc.svg</td>\n      <td>[{'_id': 'xlUnQcjrxeMXu5Cd', 'img': 'systems/p...</td>\n      <td>Lantern Archon</td>\n      <td>npc</td>\n      <td>1</td>\n      <td>1</td>\n      <td>3</td>\n      <td>-1</td>\n      <td>-5</td>\n      <td>...</td>\n      <td>sm</td>\n      <td>[archon, celestial]</td>\n      <td>0.827</td>\n      <td>None</td>\n      <td>Compendium.pf2e.pathfinder-bestiary.0HjVFx8qIK...</td>\n      <td>[{'type': 'fire', 'value': 3}]</td>\n      <td>NaN</td>\n      <td>NaN</td>\n      <td>NaN</td>\n      <td>NaN</td>\n    </tr>\n  </tbody>\n</table>\n<p>5 rows × 55 columns</p>\n</div>"
     },
     "execution_count": 3,
     "metadata": {},
     "output_type": "execute_result"
    }
   ],
   "source": [
    "# df = df[ORDERED_CHARACTERISTICS + [\"book\", \"level\"]]\n",
    "df.head()"
   ],
   "metadata": {
    "collapsed": false
   }
  },
  {
   "cell_type": "code",
   "execution_count": 4,
   "outputs": [],
   "source": [
    "df_orcs = df[df.name.str.contains(\"Orc \")]"
   ],
   "metadata": {
    "collapsed": false
   }
  },
  {
   "cell_type": "code",
   "execution_count": 5,
   "outputs": [
    {
     "data": {
      "text/plain": "240    Orc Warchief\n284       Orc Brute\n323     Orc Warrior\nName: name, dtype: object"
     },
     "execution_count": 5,
     "metadata": {},
     "output_type": "execute_result"
    }
   ],
   "source": [
    "df_orcs.name"
   ],
   "metadata": {
    "collapsed": false
   }
  },
  {
   "cell_type": "code",
   "execution_count": 6,
   "outputs": [
    {
     "data": {
      "text/plain": "{'Orc Warchief': 240, 'Orc Brute': 284, 'Orc Warrior': 323}"
     },
     "execution_count": 6,
     "metadata": {},
     "output_type": "execute_result"
    }
   ],
   "source": [
    "orcs_ids_names = {df_orcs.loc[idx][\"name\"]: idx for idx in df_orcs.index}\n",
    "orcs_ids_names"
   ],
   "metadata": {
    "collapsed": false
   }
  },
  {
   "cell_type": "code",
   "execution_count": 7,
   "outputs": [
    {
     "data": {
      "text/plain": "     hp  str  con  ac                 book  level  wis  int  dex  cha\n240  32    4    1  19  Pathfinder Bestiary      2    1   -1    2    2\n284  15    3    3  15  Pathfinder Bestiary      0    1   -1    2    0\n323  23    4    3  18  Pathfinder Bestiary      1    1   -1    2    0",
      "text/html": "<div>\n<style scoped>\n    .dataframe tbody tr th:only-of-type {\n        vertical-align: middle;\n    }\n\n    .dataframe tbody tr th {\n        vertical-align: top;\n    }\n\n    .dataframe thead th {\n        text-align: right;\n    }\n</style>\n<table border=\"1\" class=\"dataframe\">\n  <thead>\n    <tr style=\"text-align: right;\">\n      <th></th>\n      <th>hp</th>\n      <th>str</th>\n      <th>con</th>\n      <th>ac</th>\n      <th>book</th>\n      <th>level</th>\n      <th>wis</th>\n      <th>int</th>\n      <th>dex</th>\n      <th>cha</th>\n    </tr>\n  </thead>\n  <tbody>\n    <tr>\n      <th>240</th>\n      <td>32</td>\n      <td>4</td>\n      <td>1</td>\n      <td>19</td>\n      <td>Pathfinder Bestiary</td>\n      <td>2</td>\n      <td>1</td>\n      <td>-1</td>\n      <td>2</td>\n      <td>2</td>\n    </tr>\n    <tr>\n      <th>284</th>\n      <td>15</td>\n      <td>3</td>\n      <td>3</td>\n      <td>15</td>\n      <td>Pathfinder Bestiary</td>\n      <td>0</td>\n      <td>1</td>\n      <td>-1</td>\n      <td>2</td>\n      <td>0</td>\n    </tr>\n    <tr>\n      <th>323</th>\n      <td>23</td>\n      <td>4</td>\n      <td>3</td>\n      <td>18</td>\n      <td>Pathfinder Bestiary</td>\n      <td>1</td>\n      <td>1</td>\n      <td>-1</td>\n      <td>2</td>\n      <td>0</td>\n    </tr>\n  </tbody>\n</table>\n</div>"
     },
     "execution_count": 7,
     "metadata": {},
     "output_type": "execute_result"
    }
   ],
   "source": [
    "from serving.backend.constants import ORDERED_CHARACTERISTICS\n",
    "\n",
    "\n",
    "orcs = preprocess_data(df_orcs, ORDERED_CHARACTERISTICS)\n",
    "orcs"
   ],
   "metadata": {
    "collapsed": false
   }
  },
  {
   "cell_type": "code",
   "execution_count": 8,
   "outputs": [],
   "source": [
    "orcs = orcs[ORDERED_CHARACTERISTICS + [\"level\"]]"
   ],
   "metadata": {
    "collapsed": false
   }
  },
  {
   "cell_type": "code",
   "execution_count": 9,
   "outputs": [
    {
     "data": {
      "text/plain": "     str  dex  con  int  wis  cha  ac  hp  level\n240    4    2    1   -1    1    2  19  32      2\n284    3    2    3   -1    1    0  15  15      0\n323    4    2    3   -1    1    0  18  23      1",
      "text/html": "<div>\n<style scoped>\n    .dataframe tbody tr th:only-of-type {\n        vertical-align: middle;\n    }\n\n    .dataframe tbody tr th {\n        vertical-align: top;\n    }\n\n    .dataframe thead th {\n        text-align: right;\n    }\n</style>\n<table border=\"1\" class=\"dataframe\">\n  <thead>\n    <tr style=\"text-align: right;\">\n      <th></th>\n      <th>str</th>\n      <th>dex</th>\n      <th>con</th>\n      <th>int</th>\n      <th>wis</th>\n      <th>cha</th>\n      <th>ac</th>\n      <th>hp</th>\n      <th>level</th>\n    </tr>\n  </thead>\n  <tbody>\n    <tr>\n      <th>240</th>\n      <td>4</td>\n      <td>2</td>\n      <td>1</td>\n      <td>-1</td>\n      <td>1</td>\n      <td>2</td>\n      <td>19</td>\n      <td>32</td>\n      <td>2</td>\n    </tr>\n    <tr>\n      <th>284</th>\n      <td>3</td>\n      <td>2</td>\n      <td>3</td>\n      <td>-1</td>\n      <td>1</td>\n      <td>0</td>\n      <td>15</td>\n      <td>15</td>\n      <td>0</td>\n    </tr>\n    <tr>\n      <th>323</th>\n      <td>4</td>\n      <td>2</td>\n      <td>3</td>\n      <td>-1</td>\n      <td>1</td>\n      <td>0</td>\n      <td>18</td>\n      <td>23</td>\n      <td>1</td>\n    </tr>\n  </tbody>\n</table>\n</div>"
     },
     "execution_count": 9,
     "metadata": {},
     "output_type": "execute_result"
    }
   ],
   "source": [
    "orcs"
   ],
   "metadata": {
    "collapsed": false
   }
  },
  {
   "cell_type": "code",
   "execution_count": 10,
   "outputs": [],
   "source": [
    "dataset = preprocess_data(df, ORDERED_CHARACTERISTICS)\n",
    "dataset = dataset[ORDERED_CHARACTERISTICS + [\"level\"]]"
   ],
   "metadata": {
    "collapsed": false
   }
  },
  {
   "cell_type": "code",
   "execution_count": 11,
   "outputs": [
    {
     "data": {
      "text/plain": "   str  dex  con  int  wis  cha  ac   hp  level\n0    7    2    5    1    2    1  29  215     10\n1    9    0    5   -4    2    1  28  220     10\n2    7    3    6   -4    3   -2  25  175      8\n3    7    4    5    6    5    6  41  315     17\n4   -5    3    1   -1    1    1  16   20      1",
      "text/html": "<div>\n<style scoped>\n    .dataframe tbody tr th:only-of-type {\n        vertical-align: middle;\n    }\n\n    .dataframe tbody tr th {\n        vertical-align: top;\n    }\n\n    .dataframe thead th {\n        text-align: right;\n    }\n</style>\n<table border=\"1\" class=\"dataframe\">\n  <thead>\n    <tr style=\"text-align: right;\">\n      <th></th>\n      <th>str</th>\n      <th>dex</th>\n      <th>con</th>\n      <th>int</th>\n      <th>wis</th>\n      <th>cha</th>\n      <th>ac</th>\n      <th>hp</th>\n      <th>level</th>\n    </tr>\n  </thead>\n  <tbody>\n    <tr>\n      <th>0</th>\n      <td>7</td>\n      <td>2</td>\n      <td>5</td>\n      <td>1</td>\n      <td>2</td>\n      <td>1</td>\n      <td>29</td>\n      <td>215</td>\n      <td>10</td>\n    </tr>\n    <tr>\n      <th>1</th>\n      <td>9</td>\n      <td>0</td>\n      <td>5</td>\n      <td>-4</td>\n      <td>2</td>\n      <td>1</td>\n      <td>28</td>\n      <td>220</td>\n      <td>10</td>\n    </tr>\n    <tr>\n      <th>2</th>\n      <td>7</td>\n      <td>3</td>\n      <td>6</td>\n      <td>-4</td>\n      <td>3</td>\n      <td>-2</td>\n      <td>25</td>\n      <td>175</td>\n      <td>8</td>\n    </tr>\n    <tr>\n      <th>3</th>\n      <td>7</td>\n      <td>4</td>\n      <td>5</td>\n      <td>6</td>\n      <td>5</td>\n      <td>6</td>\n      <td>41</td>\n      <td>315</td>\n      <td>17</td>\n    </tr>\n    <tr>\n      <th>4</th>\n      <td>-5</td>\n      <td>3</td>\n      <td>1</td>\n      <td>-1</td>\n      <td>1</td>\n      <td>1</td>\n      <td>16</td>\n      <td>20</td>\n      <td>1</td>\n    </tr>\n  </tbody>\n</table>\n</div>"
     },
     "execution_count": 11,
     "metadata": {},
     "output_type": "execute_result"
    }
   ],
   "source": [
    "dataset.head()"
   ],
   "metadata": {
    "collapsed": false
   }
  },
  {
   "cell_type": "code",
   "execution_count": 13,
   "outputs": [],
   "source": [
    "import joblib\n",
    "from training.create_model import get_fitted_model\n",
    "\n",
    "\n",
    "model = joblib.load(filename=\"../../../saved_models/current_model.pkl\")\n",
    "\n",
    "# model = get_fitted_model(classifier_name=\"lightgbm\", X_train=dataset[ORDERED_CHARACTERISTICS], y_train=dataset[\"level\"])"
   ],
   "metadata": {
    "collapsed": false
   }
  },
  {
   "cell_type": "markdown",
   "source": [
    "## Counterfactuals for orcs"
   ],
   "metadata": {
    "collapsed": false
   }
  },
  {
   "cell_type": "code",
   "execution_count": 14,
   "outputs": [
    {
     "name": "stderr",
     "output_type": "stream",
     "text": [
      "C:\\Users\\jolka\\OneDrive\\Dokumenty\\Inzynierka\\ML-for-TTRPG-game-design\\venv\\lib\\site-packages\\dice_ml\\utils\\exception.py:12: UserWarning: UserConfigValidationException will be deprecated from dice_ml.utils. Please import UserConfigValidationException from raiutils.exceptions.\n",
      "  warnings.warn(\"UserConfigValidationException will be deprecated from dice_ml.utils. \"\n"
     ]
    }
   ],
   "source": [
    "from serving.backend.generate_counterfactuals import generate_counterfactuals"
   ],
   "metadata": {
    "collapsed": false
   }
  },
  {
   "cell_type": "code",
   "execution_count": 15,
   "outputs": [],
   "source": [
    "orc_brute = orcs.loc[orcs_ids_names[\"Orc Brute\"]].to_dict()\n",
    "orc_warrior = orcs.loc[orcs_ids_names[\"Orc Warrior\"]].to_dict()\n",
    "orc_warchief = orcs.loc[orcs_ids_names[\"Orc Warchief\"]].to_dict()"
   ],
   "metadata": {
    "collapsed": false
   }
  },
  {
   "cell_type": "markdown",
   "source": [
    "### Orc Brute"
   ],
   "metadata": {
    "collapsed": false
   }
  },
  {
   "cell_type": "markdown",
   "source": [
    "Compare to others (levels 1 and 2)"
   ],
   "metadata": {
    "collapsed": false
   }
  },
  {
   "cell_type": "code",
   "execution_count": 16,
   "outputs": [
    {
     "name": "stderr",
     "output_type": "stream",
     "text": [
      "100%|██████████| 1/1 [01:30<00:00, 90.57s/it]\n"
     ]
    }
   ],
   "source": [
    "result = generate_counterfactuals(\n",
    "    monster_stats=orc_brute, model=model, new_level=1, df=dataset, total_cf=15\n",
    ")"
   ],
   "metadata": {
    "collapsed": false
   }
  },
  {
   "cell_type": "code",
   "execution_count": 17,
   "outputs": [],
   "source": [
    "diff_columns = [f\"{col}_diff\" for col in ORDERED_CHARACTERISTICS]\n",
    "\n",
    "\n",
    "def compare_monsters(cfs, compare_to_monster):\n",
    "    compare_df = pd.DataFrame(columns=ORDERED_CHARACTERISTICS)\n",
    "    diff_df = pd.DataFrame(columns=diff_columns)\n",
    "\n",
    "    for cf in cfs:\n",
    "        cfs_comp_dict = dict()\n",
    "        diff_dict = dict()\n",
    "        for i, col in enumerate(ORDERED_CHARACTERISTICS):\n",
    "            val = cf[i]\n",
    "            cfs_comp_dict[col] = [val] if val != compare_to_monster[col] else [\"-\"]\n",
    "            diff_dict[f\"{col}_diff\"] = (\n",
    "                [val - compare_to_monster[col]]\n",
    "                if val != compare_to_monster[col]\n",
    "                else [\"-\"]\n",
    "            )\n",
    "\n",
    "        comparison = pd.DataFrame.from_dict(cfs_comp_dict)\n",
    "        difference = pd.DataFrame.from_dict(diff_dict)\n",
    "        compare_df = pd.concat([comparison, compare_df.loc[:]]).reset_index(drop=True)\n",
    "        diff_df = pd.concat([difference, diff_df]).reset_index(drop=True)\n",
    "\n",
    "    return compare_df, diff_df"
   ],
   "metadata": {
    "collapsed": false
   }
  },
  {
   "cell_type": "markdown",
   "source": [
    "##### Compare to original data"
   ],
   "metadata": {
    "collapsed": false
   }
  },
  {
   "cell_type": "code",
   "execution_count": 18,
   "outputs": [
    {
     "data": {
      "text/plain": "    str  dex  con  int  wis  cha    ac    hp\n0   2.0    -    -  1.0  4.0  3.0     -  25.0\n1     - -2.0    - -3.0 -0.0    -  13.0  62.0\n2   4.0    -  4.0 -4.0  3.0    -  16.0     -\n3     -  4.0  1.0    -    -  1.0  17.0  19.0\n4     -  3.0    - -4.0    - -2.0  16.0  20.0\n5     -    -  2.0 -4.0    - -1.0  17.0  17.0\n6   4.0    -  2.0  0.0    -  1.0     -  24.0\n7   0.0 -5.0    - -4.0    -    -     -  30.0\n8   0.0  4.0    - -4.0    -    -     -  30.0\n9     -  4.0    - -4.0    -    -  16.0  21.0\n10    -    -    - -4.0  2.0 -1.0     -  30.0\n11    -    -  4.0    -  2.0    -  16.0  24.0\n12    -    -    -    -  2.0    -  16.0  21.0\n13  4.0    -    -    -    -    -  18.0  23.0\n14  4.0    -    -    -    -    -  16.0  21.0",
      "text/html": "<div>\n<style scoped>\n    .dataframe tbody tr th:only-of-type {\n        vertical-align: middle;\n    }\n\n    .dataframe tbody tr th {\n        vertical-align: top;\n    }\n\n    .dataframe thead th {\n        text-align: right;\n    }\n</style>\n<table border=\"1\" class=\"dataframe\">\n  <thead>\n    <tr style=\"text-align: right;\">\n      <th></th>\n      <th>str</th>\n      <th>dex</th>\n      <th>con</th>\n      <th>int</th>\n      <th>wis</th>\n      <th>cha</th>\n      <th>ac</th>\n      <th>hp</th>\n    </tr>\n  </thead>\n  <tbody>\n    <tr>\n      <th>0</th>\n      <td>2.0</td>\n      <td>-</td>\n      <td>-</td>\n      <td>1.0</td>\n      <td>4.0</td>\n      <td>3.0</td>\n      <td>-</td>\n      <td>25.0</td>\n    </tr>\n    <tr>\n      <th>1</th>\n      <td>-</td>\n      <td>-2.0</td>\n      <td>-</td>\n      <td>-3.0</td>\n      <td>-0.0</td>\n      <td>-</td>\n      <td>13.0</td>\n      <td>62.0</td>\n    </tr>\n    <tr>\n      <th>2</th>\n      <td>4.0</td>\n      <td>-</td>\n      <td>4.0</td>\n      <td>-4.0</td>\n      <td>3.0</td>\n      <td>-</td>\n      <td>16.0</td>\n      <td>-</td>\n    </tr>\n    <tr>\n      <th>3</th>\n      <td>-</td>\n      <td>4.0</td>\n      <td>1.0</td>\n      <td>-</td>\n      <td>-</td>\n      <td>1.0</td>\n      <td>17.0</td>\n      <td>19.0</td>\n    </tr>\n    <tr>\n      <th>4</th>\n      <td>-</td>\n      <td>3.0</td>\n      <td>-</td>\n      <td>-4.0</td>\n      <td>-</td>\n      <td>-2.0</td>\n      <td>16.0</td>\n      <td>20.0</td>\n    </tr>\n    <tr>\n      <th>5</th>\n      <td>-</td>\n      <td>-</td>\n      <td>2.0</td>\n      <td>-4.0</td>\n      <td>-</td>\n      <td>-1.0</td>\n      <td>17.0</td>\n      <td>17.0</td>\n    </tr>\n    <tr>\n      <th>6</th>\n      <td>4.0</td>\n      <td>-</td>\n      <td>2.0</td>\n      <td>0.0</td>\n      <td>-</td>\n      <td>1.0</td>\n      <td>-</td>\n      <td>24.0</td>\n    </tr>\n    <tr>\n      <th>7</th>\n      <td>0.0</td>\n      <td>-5.0</td>\n      <td>-</td>\n      <td>-4.0</td>\n      <td>-</td>\n      <td>-</td>\n      <td>-</td>\n      <td>30.0</td>\n    </tr>\n    <tr>\n      <th>8</th>\n      <td>0.0</td>\n      <td>4.0</td>\n      <td>-</td>\n      <td>-4.0</td>\n      <td>-</td>\n      <td>-</td>\n      <td>-</td>\n      <td>30.0</td>\n    </tr>\n    <tr>\n      <th>9</th>\n      <td>-</td>\n      <td>4.0</td>\n      <td>-</td>\n      <td>-4.0</td>\n      <td>-</td>\n      <td>-</td>\n      <td>16.0</td>\n      <td>21.0</td>\n    </tr>\n    <tr>\n      <th>10</th>\n      <td>-</td>\n      <td>-</td>\n      <td>-</td>\n      <td>-4.0</td>\n      <td>2.0</td>\n      <td>-1.0</td>\n      <td>-</td>\n      <td>30.0</td>\n    </tr>\n    <tr>\n      <th>11</th>\n      <td>-</td>\n      <td>-</td>\n      <td>4.0</td>\n      <td>-</td>\n      <td>2.0</td>\n      <td>-</td>\n      <td>16.0</td>\n      <td>24.0</td>\n    </tr>\n    <tr>\n      <th>12</th>\n      <td>-</td>\n      <td>-</td>\n      <td>-</td>\n      <td>-</td>\n      <td>2.0</td>\n      <td>-</td>\n      <td>16.0</td>\n      <td>21.0</td>\n    </tr>\n    <tr>\n      <th>13</th>\n      <td>4.0</td>\n      <td>-</td>\n      <td>-</td>\n      <td>-</td>\n      <td>-</td>\n      <td>-</td>\n      <td>18.0</td>\n      <td>23.0</td>\n    </tr>\n    <tr>\n      <th>14</th>\n      <td>4.0</td>\n      <td>-</td>\n      <td>-</td>\n      <td>-</td>\n      <td>-</td>\n      <td>-</td>\n      <td>16.0</td>\n      <td>21.0</td>\n    </tr>\n  </tbody>\n</table>\n</div>"
     },
     "execution_count": 18,
     "metadata": {},
     "output_type": "execute_result"
    }
   ],
   "source": [
    "comp, diff = compare_monsters(result[\"values\"], orc_brute)\n",
    "comp"
   ],
   "metadata": {
    "collapsed": false
   }
  },
  {
   "cell_type": "code",
   "execution_count": 19,
   "outputs": [
    {
     "data": {
      "text/plain": "   str_diff dex_diff con_diff int_diff wis_diff cha_diff ac_diff hp_diff\n0      -1.0        -        -      2.0      3.0      3.0       -    10.0\n1         -     -4.0        -     -2.0     -1.0        -    -2.0    47.0\n2       1.0        -      1.0     -3.0      2.0        -     1.0       -\n3         -      2.0     -2.0        -        -      1.0     2.0     4.0\n4         -      1.0        -     -3.0        -     -2.0     1.0     5.0\n5         -        -     -1.0     -3.0        -     -1.0     2.0     2.0\n6       1.0        -     -1.0      1.0        -      1.0       -     9.0\n7      -3.0     -7.0        -     -3.0        -        -       -    15.0\n8      -3.0      2.0        -     -3.0        -        -       -    15.0\n9         -      2.0        -     -3.0        -        -     1.0     6.0\n10        -        -        -     -3.0      1.0     -1.0       -    15.0\n11        -        -      1.0        -      1.0        -     1.0     9.0\n12        -        -        -        -      1.0        -     1.0     6.0\n13      1.0        -        -        -        -        -     3.0     8.0\n14      1.0        -        -        -        -        -     1.0     6.0",
      "text/html": "<div>\n<style scoped>\n    .dataframe tbody tr th:only-of-type {\n        vertical-align: middle;\n    }\n\n    .dataframe tbody tr th {\n        vertical-align: top;\n    }\n\n    .dataframe thead th {\n        text-align: right;\n    }\n</style>\n<table border=\"1\" class=\"dataframe\">\n  <thead>\n    <tr style=\"text-align: right;\">\n      <th></th>\n      <th>str_diff</th>\n      <th>dex_diff</th>\n      <th>con_diff</th>\n      <th>int_diff</th>\n      <th>wis_diff</th>\n      <th>cha_diff</th>\n      <th>ac_diff</th>\n      <th>hp_diff</th>\n    </tr>\n  </thead>\n  <tbody>\n    <tr>\n      <th>0</th>\n      <td>-1.0</td>\n      <td>-</td>\n      <td>-</td>\n      <td>2.0</td>\n      <td>3.0</td>\n      <td>3.0</td>\n      <td>-</td>\n      <td>10.0</td>\n    </tr>\n    <tr>\n      <th>1</th>\n      <td>-</td>\n      <td>-4.0</td>\n      <td>-</td>\n      <td>-2.0</td>\n      <td>-1.0</td>\n      <td>-</td>\n      <td>-2.0</td>\n      <td>47.0</td>\n    </tr>\n    <tr>\n      <th>2</th>\n      <td>1.0</td>\n      <td>-</td>\n      <td>1.0</td>\n      <td>-3.0</td>\n      <td>2.0</td>\n      <td>-</td>\n      <td>1.0</td>\n      <td>-</td>\n    </tr>\n    <tr>\n      <th>3</th>\n      <td>-</td>\n      <td>2.0</td>\n      <td>-2.0</td>\n      <td>-</td>\n      <td>-</td>\n      <td>1.0</td>\n      <td>2.0</td>\n      <td>4.0</td>\n    </tr>\n    <tr>\n      <th>4</th>\n      <td>-</td>\n      <td>1.0</td>\n      <td>-</td>\n      <td>-3.0</td>\n      <td>-</td>\n      <td>-2.0</td>\n      <td>1.0</td>\n      <td>5.0</td>\n    </tr>\n    <tr>\n      <th>5</th>\n      <td>-</td>\n      <td>-</td>\n      <td>-1.0</td>\n      <td>-3.0</td>\n      <td>-</td>\n      <td>-1.0</td>\n      <td>2.0</td>\n      <td>2.0</td>\n    </tr>\n    <tr>\n      <th>6</th>\n      <td>1.0</td>\n      <td>-</td>\n      <td>-1.0</td>\n      <td>1.0</td>\n      <td>-</td>\n      <td>1.0</td>\n      <td>-</td>\n      <td>9.0</td>\n    </tr>\n    <tr>\n      <th>7</th>\n      <td>-3.0</td>\n      <td>-7.0</td>\n      <td>-</td>\n      <td>-3.0</td>\n      <td>-</td>\n      <td>-</td>\n      <td>-</td>\n      <td>15.0</td>\n    </tr>\n    <tr>\n      <th>8</th>\n      <td>-3.0</td>\n      <td>2.0</td>\n      <td>-</td>\n      <td>-3.0</td>\n      <td>-</td>\n      <td>-</td>\n      <td>-</td>\n      <td>15.0</td>\n    </tr>\n    <tr>\n      <th>9</th>\n      <td>-</td>\n      <td>2.0</td>\n      <td>-</td>\n      <td>-3.0</td>\n      <td>-</td>\n      <td>-</td>\n      <td>1.0</td>\n      <td>6.0</td>\n    </tr>\n    <tr>\n      <th>10</th>\n      <td>-</td>\n      <td>-</td>\n      <td>-</td>\n      <td>-3.0</td>\n      <td>1.0</td>\n      <td>-1.0</td>\n      <td>-</td>\n      <td>15.0</td>\n    </tr>\n    <tr>\n      <th>11</th>\n      <td>-</td>\n      <td>-</td>\n      <td>1.0</td>\n      <td>-</td>\n      <td>1.0</td>\n      <td>-</td>\n      <td>1.0</td>\n      <td>9.0</td>\n    </tr>\n    <tr>\n      <th>12</th>\n      <td>-</td>\n      <td>-</td>\n      <td>-</td>\n      <td>-</td>\n      <td>1.0</td>\n      <td>-</td>\n      <td>1.0</td>\n      <td>6.0</td>\n    </tr>\n    <tr>\n      <th>13</th>\n      <td>1.0</td>\n      <td>-</td>\n      <td>-</td>\n      <td>-</td>\n      <td>-</td>\n      <td>-</td>\n      <td>3.0</td>\n      <td>8.0</td>\n    </tr>\n    <tr>\n      <th>14</th>\n      <td>1.0</td>\n      <td>-</td>\n      <td>-</td>\n      <td>-</td>\n      <td>-</td>\n      <td>-</td>\n      <td>1.0</td>\n      <td>6.0</td>\n    </tr>\n  </tbody>\n</table>\n</div>"
     },
     "execution_count": 19,
     "metadata": {},
     "output_type": "execute_result"
    }
   ],
   "source": [
    "diff"
   ],
   "metadata": {
    "collapsed": false
   }
  },
  {
   "cell_type": "markdown",
   "source": [
    "##### Compare to *Orc Warrior*"
   ],
   "metadata": {
    "collapsed": false
   }
  },
  {
   "cell_type": "code",
   "execution_count": 20,
   "outputs": [],
   "source": [
    "comp, diff = compare_monsters(result[\"values\"], orc_warrior)"
   ],
   "metadata": {
    "collapsed": false
   }
  },
  {
   "cell_type": "code",
   "execution_count": 21,
   "outputs": [
    {
     "data": {
      "text/plain": "    str  dex  con  int  wis  cha    ac    hp\n0   2.0    -    -  1.0  4.0  3.0  15.0  25.0\n1   3.0 -2.0    - -3.0 -0.0    -  13.0  62.0\n2     -    -  4.0 -4.0  3.0    -  16.0  15.0\n3   3.0  4.0  1.0    -    -  1.0  17.0  19.0\n4   3.0  3.0    - -4.0    - -2.0  16.0  20.0\n5   3.0    -  2.0 -4.0    - -1.0  17.0  17.0\n6     -    -  2.0  0.0    -  1.0  15.0  24.0\n7   0.0 -5.0    - -4.0    -    -  15.0  30.0\n8   0.0  4.0    - -4.0    -    -  15.0  30.0\n9   3.0  4.0    - -4.0    -    -  16.0  21.0\n10  3.0    -    - -4.0  2.0 -1.0  15.0  30.0\n11  3.0    -  4.0    -  2.0    -  16.0  24.0\n12  3.0    -    -    -  2.0    -  16.0  21.0\n13    -    -    -    -    -    -     -     -\n14    -    -    -    -    -    -  16.0  21.0",
      "text/html": "<div>\n<style scoped>\n    .dataframe tbody tr th:only-of-type {\n        vertical-align: middle;\n    }\n\n    .dataframe tbody tr th {\n        vertical-align: top;\n    }\n\n    .dataframe thead th {\n        text-align: right;\n    }\n</style>\n<table border=\"1\" class=\"dataframe\">\n  <thead>\n    <tr style=\"text-align: right;\">\n      <th></th>\n      <th>str</th>\n      <th>dex</th>\n      <th>con</th>\n      <th>int</th>\n      <th>wis</th>\n      <th>cha</th>\n      <th>ac</th>\n      <th>hp</th>\n    </tr>\n  </thead>\n  <tbody>\n    <tr>\n      <th>0</th>\n      <td>2.0</td>\n      <td>-</td>\n      <td>-</td>\n      <td>1.0</td>\n      <td>4.0</td>\n      <td>3.0</td>\n      <td>15.0</td>\n      <td>25.0</td>\n    </tr>\n    <tr>\n      <th>1</th>\n      <td>3.0</td>\n      <td>-2.0</td>\n      <td>-</td>\n      <td>-3.0</td>\n      <td>-0.0</td>\n      <td>-</td>\n      <td>13.0</td>\n      <td>62.0</td>\n    </tr>\n    <tr>\n      <th>2</th>\n      <td>-</td>\n      <td>-</td>\n      <td>4.0</td>\n      <td>-4.0</td>\n      <td>3.0</td>\n      <td>-</td>\n      <td>16.0</td>\n      <td>15.0</td>\n    </tr>\n    <tr>\n      <th>3</th>\n      <td>3.0</td>\n      <td>4.0</td>\n      <td>1.0</td>\n      <td>-</td>\n      <td>-</td>\n      <td>1.0</td>\n      <td>17.0</td>\n      <td>19.0</td>\n    </tr>\n    <tr>\n      <th>4</th>\n      <td>3.0</td>\n      <td>3.0</td>\n      <td>-</td>\n      <td>-4.0</td>\n      <td>-</td>\n      <td>-2.0</td>\n      <td>16.0</td>\n      <td>20.0</td>\n    </tr>\n    <tr>\n      <th>5</th>\n      <td>3.0</td>\n      <td>-</td>\n      <td>2.0</td>\n      <td>-4.0</td>\n      <td>-</td>\n      <td>-1.0</td>\n      <td>17.0</td>\n      <td>17.0</td>\n    </tr>\n    <tr>\n      <th>6</th>\n      <td>-</td>\n      <td>-</td>\n      <td>2.0</td>\n      <td>0.0</td>\n      <td>-</td>\n      <td>1.0</td>\n      <td>15.0</td>\n      <td>24.0</td>\n    </tr>\n    <tr>\n      <th>7</th>\n      <td>0.0</td>\n      <td>-5.0</td>\n      <td>-</td>\n      <td>-4.0</td>\n      <td>-</td>\n      <td>-</td>\n      <td>15.0</td>\n      <td>30.0</td>\n    </tr>\n    <tr>\n      <th>8</th>\n      <td>0.0</td>\n      <td>4.0</td>\n      <td>-</td>\n      <td>-4.0</td>\n      <td>-</td>\n      <td>-</td>\n      <td>15.0</td>\n      <td>30.0</td>\n    </tr>\n    <tr>\n      <th>9</th>\n      <td>3.0</td>\n      <td>4.0</td>\n      <td>-</td>\n      <td>-4.0</td>\n      <td>-</td>\n      <td>-</td>\n      <td>16.0</td>\n      <td>21.0</td>\n    </tr>\n    <tr>\n      <th>10</th>\n      <td>3.0</td>\n      <td>-</td>\n      <td>-</td>\n      <td>-4.0</td>\n      <td>2.0</td>\n      <td>-1.0</td>\n      <td>15.0</td>\n      <td>30.0</td>\n    </tr>\n    <tr>\n      <th>11</th>\n      <td>3.0</td>\n      <td>-</td>\n      <td>4.0</td>\n      <td>-</td>\n      <td>2.0</td>\n      <td>-</td>\n      <td>16.0</td>\n      <td>24.0</td>\n    </tr>\n    <tr>\n      <th>12</th>\n      <td>3.0</td>\n      <td>-</td>\n      <td>-</td>\n      <td>-</td>\n      <td>2.0</td>\n      <td>-</td>\n      <td>16.0</td>\n      <td>21.0</td>\n    </tr>\n    <tr>\n      <th>13</th>\n      <td>-</td>\n      <td>-</td>\n      <td>-</td>\n      <td>-</td>\n      <td>-</td>\n      <td>-</td>\n      <td>-</td>\n      <td>-</td>\n    </tr>\n    <tr>\n      <th>14</th>\n      <td>-</td>\n      <td>-</td>\n      <td>-</td>\n      <td>-</td>\n      <td>-</td>\n      <td>-</td>\n      <td>16.0</td>\n      <td>21.0</td>\n    </tr>\n  </tbody>\n</table>\n</div>"
     },
     "execution_count": 21,
     "metadata": {},
     "output_type": "execute_result"
    }
   ],
   "source": [
    "comp"
   ],
   "metadata": {
    "collapsed": false
   }
  },
  {
   "cell_type": "code",
   "execution_count": 22,
   "outputs": [
    {
     "data": {
      "text/plain": "   str_diff dex_diff con_diff int_diff wis_diff cha_diff ac_diff hp_diff\n0      -2.0        -        -      2.0      3.0      3.0    -3.0     2.0\n1      -1.0     -4.0        -     -2.0     -1.0        -    -5.0    39.0\n2         -        -      1.0     -3.0      2.0        -    -2.0    -8.0\n3      -1.0      2.0     -2.0        -        -      1.0    -1.0    -4.0\n4      -1.0      1.0        -     -3.0        -     -2.0    -2.0    -3.0\n5      -1.0        -     -1.0     -3.0        -     -1.0    -1.0    -6.0\n6         -        -     -1.0      1.0        -      1.0    -3.0     1.0\n7      -4.0     -7.0        -     -3.0        -        -    -3.0     7.0\n8      -4.0      2.0        -     -3.0        -        -    -3.0     7.0\n9      -1.0      2.0        -     -3.0        -        -    -2.0    -2.0\n10     -1.0        -        -     -3.0      1.0     -1.0    -3.0     7.0\n11     -1.0        -      1.0        -      1.0        -    -2.0     1.0\n12     -1.0        -        -        -      1.0        -    -2.0    -2.0\n13        -        -        -        -        -        -       -       -\n14        -        -        -        -        -        -    -2.0    -2.0",
      "text/html": "<div>\n<style scoped>\n    .dataframe tbody tr th:only-of-type {\n        vertical-align: middle;\n    }\n\n    .dataframe tbody tr th {\n        vertical-align: top;\n    }\n\n    .dataframe thead th {\n        text-align: right;\n    }\n</style>\n<table border=\"1\" class=\"dataframe\">\n  <thead>\n    <tr style=\"text-align: right;\">\n      <th></th>\n      <th>str_diff</th>\n      <th>dex_diff</th>\n      <th>con_diff</th>\n      <th>int_diff</th>\n      <th>wis_diff</th>\n      <th>cha_diff</th>\n      <th>ac_diff</th>\n      <th>hp_diff</th>\n    </tr>\n  </thead>\n  <tbody>\n    <tr>\n      <th>0</th>\n      <td>-2.0</td>\n      <td>-</td>\n      <td>-</td>\n      <td>2.0</td>\n      <td>3.0</td>\n      <td>3.0</td>\n      <td>-3.0</td>\n      <td>2.0</td>\n    </tr>\n    <tr>\n      <th>1</th>\n      <td>-1.0</td>\n      <td>-4.0</td>\n      <td>-</td>\n      <td>-2.0</td>\n      <td>-1.0</td>\n      <td>-</td>\n      <td>-5.0</td>\n      <td>39.0</td>\n    </tr>\n    <tr>\n      <th>2</th>\n      <td>-</td>\n      <td>-</td>\n      <td>1.0</td>\n      <td>-3.0</td>\n      <td>2.0</td>\n      <td>-</td>\n      <td>-2.0</td>\n      <td>-8.0</td>\n    </tr>\n    <tr>\n      <th>3</th>\n      <td>-1.0</td>\n      <td>2.0</td>\n      <td>-2.0</td>\n      <td>-</td>\n      <td>-</td>\n      <td>1.0</td>\n      <td>-1.0</td>\n      <td>-4.0</td>\n    </tr>\n    <tr>\n      <th>4</th>\n      <td>-1.0</td>\n      <td>1.0</td>\n      <td>-</td>\n      <td>-3.0</td>\n      <td>-</td>\n      <td>-2.0</td>\n      <td>-2.0</td>\n      <td>-3.0</td>\n    </tr>\n    <tr>\n      <th>5</th>\n      <td>-1.0</td>\n      <td>-</td>\n      <td>-1.0</td>\n      <td>-3.0</td>\n      <td>-</td>\n      <td>-1.0</td>\n      <td>-1.0</td>\n      <td>-6.0</td>\n    </tr>\n    <tr>\n      <th>6</th>\n      <td>-</td>\n      <td>-</td>\n      <td>-1.0</td>\n      <td>1.0</td>\n      <td>-</td>\n      <td>1.0</td>\n      <td>-3.0</td>\n      <td>1.0</td>\n    </tr>\n    <tr>\n      <th>7</th>\n      <td>-4.0</td>\n      <td>-7.0</td>\n      <td>-</td>\n      <td>-3.0</td>\n      <td>-</td>\n      <td>-</td>\n      <td>-3.0</td>\n      <td>7.0</td>\n    </tr>\n    <tr>\n      <th>8</th>\n      <td>-4.0</td>\n      <td>2.0</td>\n      <td>-</td>\n      <td>-3.0</td>\n      <td>-</td>\n      <td>-</td>\n      <td>-3.0</td>\n      <td>7.0</td>\n    </tr>\n    <tr>\n      <th>9</th>\n      <td>-1.0</td>\n      <td>2.0</td>\n      <td>-</td>\n      <td>-3.0</td>\n      <td>-</td>\n      <td>-</td>\n      <td>-2.0</td>\n      <td>-2.0</td>\n    </tr>\n    <tr>\n      <th>10</th>\n      <td>-1.0</td>\n      <td>-</td>\n      <td>-</td>\n      <td>-3.0</td>\n      <td>1.0</td>\n      <td>-1.0</td>\n      <td>-3.0</td>\n      <td>7.0</td>\n    </tr>\n    <tr>\n      <th>11</th>\n      <td>-1.0</td>\n      <td>-</td>\n      <td>1.0</td>\n      <td>-</td>\n      <td>1.0</td>\n      <td>-</td>\n      <td>-2.0</td>\n      <td>1.0</td>\n    </tr>\n    <tr>\n      <th>12</th>\n      <td>-1.0</td>\n      <td>-</td>\n      <td>-</td>\n      <td>-</td>\n      <td>1.0</td>\n      <td>-</td>\n      <td>-2.0</td>\n      <td>-2.0</td>\n    </tr>\n    <tr>\n      <th>13</th>\n      <td>-</td>\n      <td>-</td>\n      <td>-</td>\n      <td>-</td>\n      <td>-</td>\n      <td>-</td>\n      <td>-</td>\n      <td>-</td>\n    </tr>\n    <tr>\n      <th>14</th>\n      <td>-</td>\n      <td>-</td>\n      <td>-</td>\n      <td>-</td>\n      <td>-</td>\n      <td>-</td>\n      <td>-2.0</td>\n      <td>-2.0</td>\n    </tr>\n  </tbody>\n</table>\n</div>"
     },
     "execution_count": 22,
     "metadata": {},
     "output_type": "execute_result"
    }
   ],
   "source": [
    "diff"
   ],
   "metadata": {
    "collapsed": false
   }
  },
  {
   "cell_type": "code",
   "execution_count": 23,
   "outputs": [
    {
     "name": "stderr",
     "output_type": "stream",
     "text": [
      "100%|██████████| 1/1 [00:13<00:00, 13.90s/it]\n"
     ]
    }
   ],
   "source": [
    "result = generate_counterfactuals(\n",
    "    monster_stats=orc_brute, model=model, new_level=2, df=dataset, total_cf=10\n",
    ")"
   ],
   "metadata": {
    "collapsed": false
   }
  },
  {
   "cell_type": "markdown",
   "source": [
    "##### Compere to original data"
   ],
   "metadata": {
    "collapsed": false
   }
  },
  {
   "cell_type": "code",
   "execution_count": 24,
   "outputs": [
    {
     "data": {
      "text/plain": "   str  dex  con  int  wis  cha    ac    hp\n0    -  4.0    -  2.0    -  1.0  18.0  30.0\n1  4.0  3.0  2.0    -    -    -  18.0  29.0\n2  4.0    -    - -4.0  2.0    -  17.0  35.0\n3  4.0    -    -  0.0    - -1.0  18.0  34.0\n4    -    -  4.0    -  3.0    -  18.0  30.0\n5    -  4.0  2.0    -    -    -  19.0  28.0\n6    -    -    - -4.0    - -2.0  18.0  32.0\n7    -    -    - -4.0    - -2.0  18.0  30.0\n8  4.0    -    -    -    -  1.0  17.0  35.0\n9  4.0    -    -    -    -    -  17.0  34.0",
      "text/html": "<div>\n<style scoped>\n    .dataframe tbody tr th:only-of-type {\n        vertical-align: middle;\n    }\n\n    .dataframe tbody tr th {\n        vertical-align: top;\n    }\n\n    .dataframe thead th {\n        text-align: right;\n    }\n</style>\n<table border=\"1\" class=\"dataframe\">\n  <thead>\n    <tr style=\"text-align: right;\">\n      <th></th>\n      <th>str</th>\n      <th>dex</th>\n      <th>con</th>\n      <th>int</th>\n      <th>wis</th>\n      <th>cha</th>\n      <th>ac</th>\n      <th>hp</th>\n    </tr>\n  </thead>\n  <tbody>\n    <tr>\n      <th>0</th>\n      <td>-</td>\n      <td>4.0</td>\n      <td>-</td>\n      <td>2.0</td>\n      <td>-</td>\n      <td>1.0</td>\n      <td>18.0</td>\n      <td>30.0</td>\n    </tr>\n    <tr>\n      <th>1</th>\n      <td>4.0</td>\n      <td>3.0</td>\n      <td>2.0</td>\n      <td>-</td>\n      <td>-</td>\n      <td>-</td>\n      <td>18.0</td>\n      <td>29.0</td>\n    </tr>\n    <tr>\n      <th>2</th>\n      <td>4.0</td>\n      <td>-</td>\n      <td>-</td>\n      <td>-4.0</td>\n      <td>2.0</td>\n      <td>-</td>\n      <td>17.0</td>\n      <td>35.0</td>\n    </tr>\n    <tr>\n      <th>3</th>\n      <td>4.0</td>\n      <td>-</td>\n      <td>-</td>\n      <td>0.0</td>\n      <td>-</td>\n      <td>-1.0</td>\n      <td>18.0</td>\n      <td>34.0</td>\n    </tr>\n    <tr>\n      <th>4</th>\n      <td>-</td>\n      <td>-</td>\n      <td>4.0</td>\n      <td>-</td>\n      <td>3.0</td>\n      <td>-</td>\n      <td>18.0</td>\n      <td>30.0</td>\n    </tr>\n    <tr>\n      <th>5</th>\n      <td>-</td>\n      <td>4.0</td>\n      <td>2.0</td>\n      <td>-</td>\n      <td>-</td>\n      <td>-</td>\n      <td>19.0</td>\n      <td>28.0</td>\n    </tr>\n    <tr>\n      <th>6</th>\n      <td>-</td>\n      <td>-</td>\n      <td>-</td>\n      <td>-4.0</td>\n      <td>-</td>\n      <td>-2.0</td>\n      <td>18.0</td>\n      <td>32.0</td>\n    </tr>\n    <tr>\n      <th>7</th>\n      <td>-</td>\n      <td>-</td>\n      <td>-</td>\n      <td>-4.0</td>\n      <td>-</td>\n      <td>-2.0</td>\n      <td>18.0</td>\n      <td>30.0</td>\n    </tr>\n    <tr>\n      <th>8</th>\n      <td>4.0</td>\n      <td>-</td>\n      <td>-</td>\n      <td>-</td>\n      <td>-</td>\n      <td>1.0</td>\n      <td>17.0</td>\n      <td>35.0</td>\n    </tr>\n    <tr>\n      <th>9</th>\n      <td>4.0</td>\n      <td>-</td>\n      <td>-</td>\n      <td>-</td>\n      <td>-</td>\n      <td>-</td>\n      <td>17.0</td>\n      <td>34.0</td>\n    </tr>\n  </tbody>\n</table>\n</div>"
     },
     "execution_count": 24,
     "metadata": {},
     "output_type": "execute_result"
    }
   ],
   "source": [
    "comp, diff = compare_monsters(result[\"values\"], orc_brute)\n",
    "comp"
   ],
   "metadata": {
    "collapsed": false
   }
  },
  {
   "cell_type": "code",
   "execution_count": 25,
   "outputs": [
    {
     "data": {
      "text/plain": "  str_diff dex_diff con_diff int_diff wis_diff cha_diff  ac_diff  hp_diff\n0        -      2.0        -      3.0        -      1.0      3.0     15.0\n1      1.0      1.0     -1.0        -        -        -      3.0     14.0\n2      1.0        -        -     -3.0      1.0        -      2.0     20.0\n3      1.0        -        -      1.0        -     -1.0      3.0     19.0\n4        -        -      1.0        -      2.0        -      3.0     15.0\n5        -      2.0     -1.0        -        -        -      4.0     13.0\n6        -        -        -     -3.0        -     -2.0      3.0     17.0\n7        -        -        -     -3.0        -     -2.0      3.0     15.0\n8      1.0        -        -        -        -      1.0      2.0     20.0\n9      1.0        -        -        -        -        -      2.0     19.0",
      "text/html": "<div>\n<style scoped>\n    .dataframe tbody tr th:only-of-type {\n        vertical-align: middle;\n    }\n\n    .dataframe tbody tr th {\n        vertical-align: top;\n    }\n\n    .dataframe thead th {\n        text-align: right;\n    }\n</style>\n<table border=\"1\" class=\"dataframe\">\n  <thead>\n    <tr style=\"text-align: right;\">\n      <th></th>\n      <th>str_diff</th>\n      <th>dex_diff</th>\n      <th>con_diff</th>\n      <th>int_diff</th>\n      <th>wis_diff</th>\n      <th>cha_diff</th>\n      <th>ac_diff</th>\n      <th>hp_diff</th>\n    </tr>\n  </thead>\n  <tbody>\n    <tr>\n      <th>0</th>\n      <td>-</td>\n      <td>2.0</td>\n      <td>-</td>\n      <td>3.0</td>\n      <td>-</td>\n      <td>1.0</td>\n      <td>3.0</td>\n      <td>15.0</td>\n    </tr>\n    <tr>\n      <th>1</th>\n      <td>1.0</td>\n      <td>1.0</td>\n      <td>-1.0</td>\n      <td>-</td>\n      <td>-</td>\n      <td>-</td>\n      <td>3.0</td>\n      <td>14.0</td>\n    </tr>\n    <tr>\n      <th>2</th>\n      <td>1.0</td>\n      <td>-</td>\n      <td>-</td>\n      <td>-3.0</td>\n      <td>1.0</td>\n      <td>-</td>\n      <td>2.0</td>\n      <td>20.0</td>\n    </tr>\n    <tr>\n      <th>3</th>\n      <td>1.0</td>\n      <td>-</td>\n      <td>-</td>\n      <td>1.0</td>\n      <td>-</td>\n      <td>-1.0</td>\n      <td>3.0</td>\n      <td>19.0</td>\n    </tr>\n    <tr>\n      <th>4</th>\n      <td>-</td>\n      <td>-</td>\n      <td>1.0</td>\n      <td>-</td>\n      <td>2.0</td>\n      <td>-</td>\n      <td>3.0</td>\n      <td>15.0</td>\n    </tr>\n    <tr>\n      <th>5</th>\n      <td>-</td>\n      <td>2.0</td>\n      <td>-1.0</td>\n      <td>-</td>\n      <td>-</td>\n      <td>-</td>\n      <td>4.0</td>\n      <td>13.0</td>\n    </tr>\n    <tr>\n      <th>6</th>\n      <td>-</td>\n      <td>-</td>\n      <td>-</td>\n      <td>-3.0</td>\n      <td>-</td>\n      <td>-2.0</td>\n      <td>3.0</td>\n      <td>17.0</td>\n    </tr>\n    <tr>\n      <th>7</th>\n      <td>-</td>\n      <td>-</td>\n      <td>-</td>\n      <td>-3.0</td>\n      <td>-</td>\n      <td>-2.0</td>\n      <td>3.0</td>\n      <td>15.0</td>\n    </tr>\n    <tr>\n      <th>8</th>\n      <td>1.0</td>\n      <td>-</td>\n      <td>-</td>\n      <td>-</td>\n      <td>-</td>\n      <td>1.0</td>\n      <td>2.0</td>\n      <td>20.0</td>\n    </tr>\n    <tr>\n      <th>9</th>\n      <td>1.0</td>\n      <td>-</td>\n      <td>-</td>\n      <td>-</td>\n      <td>-</td>\n      <td>-</td>\n      <td>2.0</td>\n      <td>19.0</td>\n    </tr>\n  </tbody>\n</table>\n</div>"
     },
     "execution_count": 25,
     "metadata": {},
     "output_type": "execute_result"
    }
   ],
   "source": [
    "diff"
   ],
   "metadata": {
    "collapsed": false
   }
  },
  {
   "cell_type": "markdown",
   "source": [
    "##### Compare to *Orc Warchief*"
   ],
   "metadata": {
    "collapsed": false
   }
  },
  {
   "cell_type": "code",
   "execution_count": 55,
   "outputs": [],
   "source": [
    "comp, diff = compare_monsters(result[\"values\"], orc_warchief)"
   ],
   "metadata": {
    "collapsed": false
   }
  },
  {
   "cell_type": "code",
   "execution_count": 27,
   "outputs": [
    {
     "data": {
      "text/plain": "   str  dex  con  int  wis  cha    ac    hp\n0  3.0  4.0  3.0  2.0    -  1.0  18.0  30.0\n1    -  3.0  2.0    -    -  0.0  18.0  29.0\n2    -    -  3.0 -4.0  2.0  0.0  17.0  35.0\n3    -    -  3.0  0.0    - -1.0  18.0  34.0\n4  3.0    -  4.0    -  3.0  0.0  18.0  30.0\n5  3.0  4.0  2.0    -    -  0.0     -  28.0\n6  3.0    -  3.0 -4.0    - -2.0  18.0     -\n7  3.0    -  3.0 -4.0    - -2.0  18.0  30.0\n8    -    -  3.0    -    -  1.0  17.0  35.0\n9    -    -  3.0    -    -  0.0  17.0  34.0",
      "text/html": "<div>\n<style scoped>\n    .dataframe tbody tr th:only-of-type {\n        vertical-align: middle;\n    }\n\n    .dataframe tbody tr th {\n        vertical-align: top;\n    }\n\n    .dataframe thead th {\n        text-align: right;\n    }\n</style>\n<table border=\"1\" class=\"dataframe\">\n  <thead>\n    <tr style=\"text-align: right;\">\n      <th></th>\n      <th>str</th>\n      <th>dex</th>\n      <th>con</th>\n      <th>int</th>\n      <th>wis</th>\n      <th>cha</th>\n      <th>ac</th>\n      <th>hp</th>\n    </tr>\n  </thead>\n  <tbody>\n    <tr>\n      <th>0</th>\n      <td>3.0</td>\n      <td>4.0</td>\n      <td>3.0</td>\n      <td>2.0</td>\n      <td>-</td>\n      <td>1.0</td>\n      <td>18.0</td>\n      <td>30.0</td>\n    </tr>\n    <tr>\n      <th>1</th>\n      <td>-</td>\n      <td>3.0</td>\n      <td>2.0</td>\n      <td>-</td>\n      <td>-</td>\n      <td>0.0</td>\n      <td>18.0</td>\n      <td>29.0</td>\n    </tr>\n    <tr>\n      <th>2</th>\n      <td>-</td>\n      <td>-</td>\n      <td>3.0</td>\n      <td>-4.0</td>\n      <td>2.0</td>\n      <td>0.0</td>\n      <td>17.0</td>\n      <td>35.0</td>\n    </tr>\n    <tr>\n      <th>3</th>\n      <td>-</td>\n      <td>-</td>\n      <td>3.0</td>\n      <td>0.0</td>\n      <td>-</td>\n      <td>-1.0</td>\n      <td>18.0</td>\n      <td>34.0</td>\n    </tr>\n    <tr>\n      <th>4</th>\n      <td>3.0</td>\n      <td>-</td>\n      <td>4.0</td>\n      <td>-</td>\n      <td>3.0</td>\n      <td>0.0</td>\n      <td>18.0</td>\n      <td>30.0</td>\n    </tr>\n    <tr>\n      <th>5</th>\n      <td>3.0</td>\n      <td>4.0</td>\n      <td>2.0</td>\n      <td>-</td>\n      <td>-</td>\n      <td>0.0</td>\n      <td>-</td>\n      <td>28.0</td>\n    </tr>\n    <tr>\n      <th>6</th>\n      <td>3.0</td>\n      <td>-</td>\n      <td>3.0</td>\n      <td>-4.0</td>\n      <td>-</td>\n      <td>-2.0</td>\n      <td>18.0</td>\n      <td>-</td>\n    </tr>\n    <tr>\n      <th>7</th>\n      <td>3.0</td>\n      <td>-</td>\n      <td>3.0</td>\n      <td>-4.0</td>\n      <td>-</td>\n      <td>-2.0</td>\n      <td>18.0</td>\n      <td>30.0</td>\n    </tr>\n    <tr>\n      <th>8</th>\n      <td>-</td>\n      <td>-</td>\n      <td>3.0</td>\n      <td>-</td>\n      <td>-</td>\n      <td>1.0</td>\n      <td>17.0</td>\n      <td>35.0</td>\n    </tr>\n    <tr>\n      <th>9</th>\n      <td>-</td>\n      <td>-</td>\n      <td>3.0</td>\n      <td>-</td>\n      <td>-</td>\n      <td>0.0</td>\n      <td>17.0</td>\n      <td>34.0</td>\n    </tr>\n  </tbody>\n</table>\n</div>"
     },
     "execution_count": 27,
     "metadata": {},
     "output_type": "execute_result"
    }
   ],
   "source": [
    "comp"
   ],
   "metadata": {
    "collapsed": false
   }
  },
  {
   "cell_type": "code",
   "execution_count": 28,
   "outputs": [
    {
     "data": {
      "text/plain": "  str_diff dex_diff  con_diff int_diff wis_diff  cha_diff ac_diff hp_diff\n0     -1.0      2.0       2.0      3.0        -      -1.0    -1.0    -2.0\n1        -      1.0       1.0        -        -      -2.0    -1.0    -3.0\n2        -        -       2.0     -3.0      1.0      -2.0    -2.0     3.0\n3        -        -       2.0      1.0        -      -3.0    -1.0     2.0\n4     -1.0        -       3.0        -      2.0      -2.0    -1.0    -2.0\n5     -1.0      2.0       1.0        -        -      -2.0       -    -4.0\n6     -1.0        -       2.0     -3.0        -      -4.0    -1.0       -\n7     -1.0        -       2.0     -3.0        -      -4.0    -1.0    -2.0\n8        -        -       2.0        -        -      -1.0    -2.0     3.0\n9        -        -       2.0        -        -      -2.0    -2.0     2.0",
      "text/html": "<div>\n<style scoped>\n    .dataframe tbody tr th:only-of-type {\n        vertical-align: middle;\n    }\n\n    .dataframe tbody tr th {\n        vertical-align: top;\n    }\n\n    .dataframe thead th {\n        text-align: right;\n    }\n</style>\n<table border=\"1\" class=\"dataframe\">\n  <thead>\n    <tr style=\"text-align: right;\">\n      <th></th>\n      <th>str_diff</th>\n      <th>dex_diff</th>\n      <th>con_diff</th>\n      <th>int_diff</th>\n      <th>wis_diff</th>\n      <th>cha_diff</th>\n      <th>ac_diff</th>\n      <th>hp_diff</th>\n    </tr>\n  </thead>\n  <tbody>\n    <tr>\n      <th>0</th>\n      <td>-1.0</td>\n      <td>2.0</td>\n      <td>2.0</td>\n      <td>3.0</td>\n      <td>-</td>\n      <td>-1.0</td>\n      <td>-1.0</td>\n      <td>-2.0</td>\n    </tr>\n    <tr>\n      <th>1</th>\n      <td>-</td>\n      <td>1.0</td>\n      <td>1.0</td>\n      <td>-</td>\n      <td>-</td>\n      <td>-2.0</td>\n      <td>-1.0</td>\n      <td>-3.0</td>\n    </tr>\n    <tr>\n      <th>2</th>\n      <td>-</td>\n      <td>-</td>\n      <td>2.0</td>\n      <td>-3.0</td>\n      <td>1.0</td>\n      <td>-2.0</td>\n      <td>-2.0</td>\n      <td>3.0</td>\n    </tr>\n    <tr>\n      <th>3</th>\n      <td>-</td>\n      <td>-</td>\n      <td>2.0</td>\n      <td>1.0</td>\n      <td>-</td>\n      <td>-3.0</td>\n      <td>-1.0</td>\n      <td>2.0</td>\n    </tr>\n    <tr>\n      <th>4</th>\n      <td>-1.0</td>\n      <td>-</td>\n      <td>3.0</td>\n      <td>-</td>\n      <td>2.0</td>\n      <td>-2.0</td>\n      <td>-1.0</td>\n      <td>-2.0</td>\n    </tr>\n    <tr>\n      <th>5</th>\n      <td>-1.0</td>\n      <td>2.0</td>\n      <td>1.0</td>\n      <td>-</td>\n      <td>-</td>\n      <td>-2.0</td>\n      <td>-</td>\n      <td>-4.0</td>\n    </tr>\n    <tr>\n      <th>6</th>\n      <td>-1.0</td>\n      <td>-</td>\n      <td>2.0</td>\n      <td>-3.0</td>\n      <td>-</td>\n      <td>-4.0</td>\n      <td>-1.0</td>\n      <td>-</td>\n    </tr>\n    <tr>\n      <th>7</th>\n      <td>-1.0</td>\n      <td>-</td>\n      <td>2.0</td>\n      <td>-3.0</td>\n      <td>-</td>\n      <td>-4.0</td>\n      <td>-1.0</td>\n      <td>-2.0</td>\n    </tr>\n    <tr>\n      <th>8</th>\n      <td>-</td>\n      <td>-</td>\n      <td>2.0</td>\n      <td>-</td>\n      <td>-</td>\n      <td>-1.0</td>\n      <td>-2.0</td>\n      <td>3.0</td>\n    </tr>\n    <tr>\n      <th>9</th>\n      <td>-</td>\n      <td>-</td>\n      <td>2.0</td>\n      <td>-</td>\n      <td>-</td>\n      <td>-2.0</td>\n      <td>-2.0</td>\n      <td>2.0</td>\n    </tr>\n  </tbody>\n</table>\n</div>"
     },
     "execution_count": 28,
     "metadata": {},
     "output_type": "execute_result"
    }
   ],
   "source": [
    "diff"
   ],
   "metadata": {
    "collapsed": false
   }
  },
  {
   "cell_type": "markdown",
   "source": [
    "### Orc Warrior"
   ],
   "metadata": {
    "collapsed": false
   }
  },
  {
   "cell_type": "code",
   "execution_count": 29,
   "outputs": [
    {
     "name": "stderr",
     "output_type": "stream",
     "text": [
      "100%|██████████| 1/1 [07:46<00:00, 466.34s/it]\n"
     ]
    }
   ],
   "source": [
    "result = generate_counterfactuals(\n",
    "    monster_stats=orc_warrior, model=model, new_level=0, df=dataset, total_cf=10\n",
    ")"
   ],
   "metadata": {
    "collapsed": false
   }
  },
  {
   "cell_type": "markdown",
   "source": [
    "##### Compare to original data"
   ],
   "metadata": {
    "collapsed": false
   }
  },
  {
   "cell_type": "code",
   "execution_count": 30,
   "outputs": [
    {
     "data": {
      "text/plain": "   str  dex  con  int  wis  cha    ac    hp\n0  3.0    -  2.0 -5.0  2.0    -  16.0  15.0\n1  1.0  1.0    - -2.0    - -2.0  13.0  21.0\n2  2.0  1.0    -  0.0  2.0    -  16.0  15.0\n3    - -2.0  6.0 -2.0    - -2.0     -   5.0\n4 -0.0    -    - -5.0 -2.0    -  11.0  12.0\n5 -0.0    -  5.0 -5.0    -    -  11.0   7.0\n6  3.0    -    - -4.0  2.0    -  14.0  16.0\n7  2.0    -    -  0.0  2.0    -  14.0  20.0\n8  3.0    -    - -4.0    -  1.0  15.0  18.0\n9  3.0    -    -    -    -    -  15.0  15.0",
      "text/html": "<div>\n<style scoped>\n    .dataframe tbody tr th:only-of-type {\n        vertical-align: middle;\n    }\n\n    .dataframe tbody tr th {\n        vertical-align: top;\n    }\n\n    .dataframe thead th {\n        text-align: right;\n    }\n</style>\n<table border=\"1\" class=\"dataframe\">\n  <thead>\n    <tr style=\"text-align: right;\">\n      <th></th>\n      <th>str</th>\n      <th>dex</th>\n      <th>con</th>\n      <th>int</th>\n      <th>wis</th>\n      <th>cha</th>\n      <th>ac</th>\n      <th>hp</th>\n    </tr>\n  </thead>\n  <tbody>\n    <tr>\n      <th>0</th>\n      <td>3.0</td>\n      <td>-</td>\n      <td>2.0</td>\n      <td>-5.0</td>\n      <td>2.0</td>\n      <td>-</td>\n      <td>16.0</td>\n      <td>15.0</td>\n    </tr>\n    <tr>\n      <th>1</th>\n      <td>1.0</td>\n      <td>1.0</td>\n      <td>-</td>\n      <td>-2.0</td>\n      <td>-</td>\n      <td>-2.0</td>\n      <td>13.0</td>\n      <td>21.0</td>\n    </tr>\n    <tr>\n      <th>2</th>\n      <td>2.0</td>\n      <td>1.0</td>\n      <td>-</td>\n      <td>0.0</td>\n      <td>2.0</td>\n      <td>-</td>\n      <td>16.0</td>\n      <td>15.0</td>\n    </tr>\n    <tr>\n      <th>3</th>\n      <td>-</td>\n      <td>-2.0</td>\n      <td>6.0</td>\n      <td>-2.0</td>\n      <td>-</td>\n      <td>-2.0</td>\n      <td>-</td>\n      <td>5.0</td>\n    </tr>\n    <tr>\n      <th>4</th>\n      <td>-0.0</td>\n      <td>-</td>\n      <td>-</td>\n      <td>-5.0</td>\n      <td>-2.0</td>\n      <td>-</td>\n      <td>11.0</td>\n      <td>12.0</td>\n    </tr>\n    <tr>\n      <th>5</th>\n      <td>-0.0</td>\n      <td>-</td>\n      <td>5.0</td>\n      <td>-5.0</td>\n      <td>-</td>\n      <td>-</td>\n      <td>11.0</td>\n      <td>7.0</td>\n    </tr>\n    <tr>\n      <th>6</th>\n      <td>3.0</td>\n      <td>-</td>\n      <td>-</td>\n      <td>-4.0</td>\n      <td>2.0</td>\n      <td>-</td>\n      <td>14.0</td>\n      <td>16.0</td>\n    </tr>\n    <tr>\n      <th>7</th>\n      <td>2.0</td>\n      <td>-</td>\n      <td>-</td>\n      <td>0.0</td>\n      <td>2.0</td>\n      <td>-</td>\n      <td>14.0</td>\n      <td>20.0</td>\n    </tr>\n    <tr>\n      <th>8</th>\n      <td>3.0</td>\n      <td>-</td>\n      <td>-</td>\n      <td>-4.0</td>\n      <td>-</td>\n      <td>1.0</td>\n      <td>15.0</td>\n      <td>18.0</td>\n    </tr>\n    <tr>\n      <th>9</th>\n      <td>3.0</td>\n      <td>-</td>\n      <td>-</td>\n      <td>-</td>\n      <td>-</td>\n      <td>-</td>\n      <td>15.0</td>\n      <td>15.0</td>\n    </tr>\n  </tbody>\n</table>\n</div>"
     },
     "execution_count": 30,
     "metadata": {},
     "output_type": "execute_result"
    }
   ],
   "source": [
    "comp, diff = compare_monsters(result[\"values\"], orc_warrior)\n",
    "comp"
   ],
   "metadata": {
    "collapsed": false
   }
  },
  {
   "cell_type": "code",
   "execution_count": 31,
   "outputs": [
    {
     "data": {
      "text/plain": "  str_diff dex_diff con_diff int_diff wis_diff cha_diff ac_diff  hp_diff\n0     -1.0        -     -1.0     -4.0      1.0        -    -2.0     -8.0\n1     -3.0     -1.0        -     -1.0        -     -2.0    -5.0     -2.0\n2     -2.0     -1.0        -      1.0      1.0        -    -2.0     -8.0\n3        -     -4.0      3.0     -1.0        -     -2.0       -    -18.0\n4     -4.0        -        -     -4.0     -3.0        -    -7.0    -11.0\n5     -4.0        -      2.0     -4.0        -        -    -7.0    -16.0\n6     -1.0        -        -     -3.0      1.0        -    -4.0     -7.0\n7     -2.0        -        -      1.0      1.0        -    -4.0     -3.0\n8     -1.0        -        -     -3.0        -      1.0    -3.0     -5.0\n9     -1.0        -        -        -        -        -    -3.0     -8.0",
      "text/html": "<div>\n<style scoped>\n    .dataframe tbody tr th:only-of-type {\n        vertical-align: middle;\n    }\n\n    .dataframe tbody tr th {\n        vertical-align: top;\n    }\n\n    .dataframe thead th {\n        text-align: right;\n    }\n</style>\n<table border=\"1\" class=\"dataframe\">\n  <thead>\n    <tr style=\"text-align: right;\">\n      <th></th>\n      <th>str_diff</th>\n      <th>dex_diff</th>\n      <th>con_diff</th>\n      <th>int_diff</th>\n      <th>wis_diff</th>\n      <th>cha_diff</th>\n      <th>ac_diff</th>\n      <th>hp_diff</th>\n    </tr>\n  </thead>\n  <tbody>\n    <tr>\n      <th>0</th>\n      <td>-1.0</td>\n      <td>-</td>\n      <td>-1.0</td>\n      <td>-4.0</td>\n      <td>1.0</td>\n      <td>-</td>\n      <td>-2.0</td>\n      <td>-8.0</td>\n    </tr>\n    <tr>\n      <th>1</th>\n      <td>-3.0</td>\n      <td>-1.0</td>\n      <td>-</td>\n      <td>-1.0</td>\n      <td>-</td>\n      <td>-2.0</td>\n      <td>-5.0</td>\n      <td>-2.0</td>\n    </tr>\n    <tr>\n      <th>2</th>\n      <td>-2.0</td>\n      <td>-1.0</td>\n      <td>-</td>\n      <td>1.0</td>\n      <td>1.0</td>\n      <td>-</td>\n      <td>-2.0</td>\n      <td>-8.0</td>\n    </tr>\n    <tr>\n      <th>3</th>\n      <td>-</td>\n      <td>-4.0</td>\n      <td>3.0</td>\n      <td>-1.0</td>\n      <td>-</td>\n      <td>-2.0</td>\n      <td>-</td>\n      <td>-18.0</td>\n    </tr>\n    <tr>\n      <th>4</th>\n      <td>-4.0</td>\n      <td>-</td>\n      <td>-</td>\n      <td>-4.0</td>\n      <td>-3.0</td>\n      <td>-</td>\n      <td>-7.0</td>\n      <td>-11.0</td>\n    </tr>\n    <tr>\n      <th>5</th>\n      <td>-4.0</td>\n      <td>-</td>\n      <td>2.0</td>\n      <td>-4.0</td>\n      <td>-</td>\n      <td>-</td>\n      <td>-7.0</td>\n      <td>-16.0</td>\n    </tr>\n    <tr>\n      <th>6</th>\n      <td>-1.0</td>\n      <td>-</td>\n      <td>-</td>\n      <td>-3.0</td>\n      <td>1.0</td>\n      <td>-</td>\n      <td>-4.0</td>\n      <td>-7.0</td>\n    </tr>\n    <tr>\n      <th>7</th>\n      <td>-2.0</td>\n      <td>-</td>\n      <td>-</td>\n      <td>1.0</td>\n      <td>1.0</td>\n      <td>-</td>\n      <td>-4.0</td>\n      <td>-3.0</td>\n    </tr>\n    <tr>\n      <th>8</th>\n      <td>-1.0</td>\n      <td>-</td>\n      <td>-</td>\n      <td>-3.0</td>\n      <td>-</td>\n      <td>1.0</td>\n      <td>-3.0</td>\n      <td>-5.0</td>\n    </tr>\n    <tr>\n      <th>9</th>\n      <td>-1.0</td>\n      <td>-</td>\n      <td>-</td>\n      <td>-</td>\n      <td>-</td>\n      <td>-</td>\n      <td>-3.0</td>\n      <td>-8.0</td>\n    </tr>\n  </tbody>\n</table>\n</div>"
     },
     "execution_count": 31,
     "metadata": {},
     "output_type": "execute_result"
    }
   ],
   "source": [
    "diff"
   ],
   "metadata": {
    "collapsed": false
   }
  },
  {
   "cell_type": "markdown",
   "source": [
    "##### Compare to *Orc brute*"
   ],
   "metadata": {
    "collapsed": false
   }
  },
  {
   "cell_type": "code",
   "execution_count": 32,
   "outputs": [
    {
     "data": {
      "text/plain": "   str  dex  con  int  wis  cha    ac    hp\n0    -    -  2.0 -5.0  2.0    -  16.0     -\n1  1.0  1.0    - -2.0    - -2.0  13.0  21.0\n2  2.0  1.0    -  0.0  2.0    -  16.0     -\n3  4.0 -2.0  6.0 -2.0    - -2.0  18.0   5.0\n4 -0.0    -    - -5.0 -2.0    -  11.0  12.0\n5 -0.0    -  5.0 -5.0    -    -  11.0   7.0\n6    -    -    - -4.0  2.0    -  14.0  16.0\n7  2.0    -    -  0.0  2.0    -  14.0  20.0\n8    -    -    - -4.0    -  1.0     -  18.0\n9    -    -    -    -    -    -     -     -",
      "text/html": "<div>\n<style scoped>\n    .dataframe tbody tr th:only-of-type {\n        vertical-align: middle;\n    }\n\n    .dataframe tbody tr th {\n        vertical-align: top;\n    }\n\n    .dataframe thead th {\n        text-align: right;\n    }\n</style>\n<table border=\"1\" class=\"dataframe\">\n  <thead>\n    <tr style=\"text-align: right;\">\n      <th></th>\n      <th>str</th>\n      <th>dex</th>\n      <th>con</th>\n      <th>int</th>\n      <th>wis</th>\n      <th>cha</th>\n      <th>ac</th>\n      <th>hp</th>\n    </tr>\n  </thead>\n  <tbody>\n    <tr>\n      <th>0</th>\n      <td>-</td>\n      <td>-</td>\n      <td>2.0</td>\n      <td>-5.0</td>\n      <td>2.0</td>\n      <td>-</td>\n      <td>16.0</td>\n      <td>-</td>\n    </tr>\n    <tr>\n      <th>1</th>\n      <td>1.0</td>\n      <td>1.0</td>\n      <td>-</td>\n      <td>-2.0</td>\n      <td>-</td>\n      <td>-2.0</td>\n      <td>13.0</td>\n      <td>21.0</td>\n    </tr>\n    <tr>\n      <th>2</th>\n      <td>2.0</td>\n      <td>1.0</td>\n      <td>-</td>\n      <td>0.0</td>\n      <td>2.0</td>\n      <td>-</td>\n      <td>16.0</td>\n      <td>-</td>\n    </tr>\n    <tr>\n      <th>3</th>\n      <td>4.0</td>\n      <td>-2.0</td>\n      <td>6.0</td>\n      <td>-2.0</td>\n      <td>-</td>\n      <td>-2.0</td>\n      <td>18.0</td>\n      <td>5.0</td>\n    </tr>\n    <tr>\n      <th>4</th>\n      <td>-0.0</td>\n      <td>-</td>\n      <td>-</td>\n      <td>-5.0</td>\n      <td>-2.0</td>\n      <td>-</td>\n      <td>11.0</td>\n      <td>12.0</td>\n    </tr>\n    <tr>\n      <th>5</th>\n      <td>-0.0</td>\n      <td>-</td>\n      <td>5.0</td>\n      <td>-5.0</td>\n      <td>-</td>\n      <td>-</td>\n      <td>11.0</td>\n      <td>7.0</td>\n    </tr>\n    <tr>\n      <th>6</th>\n      <td>-</td>\n      <td>-</td>\n      <td>-</td>\n      <td>-4.0</td>\n      <td>2.0</td>\n      <td>-</td>\n      <td>14.0</td>\n      <td>16.0</td>\n    </tr>\n    <tr>\n      <th>7</th>\n      <td>2.0</td>\n      <td>-</td>\n      <td>-</td>\n      <td>0.0</td>\n      <td>2.0</td>\n      <td>-</td>\n      <td>14.0</td>\n      <td>20.0</td>\n    </tr>\n    <tr>\n      <th>8</th>\n      <td>-</td>\n      <td>-</td>\n      <td>-</td>\n      <td>-4.0</td>\n      <td>-</td>\n      <td>1.0</td>\n      <td>-</td>\n      <td>18.0</td>\n    </tr>\n    <tr>\n      <th>9</th>\n      <td>-</td>\n      <td>-</td>\n      <td>-</td>\n      <td>-</td>\n      <td>-</td>\n      <td>-</td>\n      <td>-</td>\n      <td>-</td>\n    </tr>\n  </tbody>\n</table>\n</div>"
     },
     "execution_count": 32,
     "metadata": {},
     "output_type": "execute_result"
    }
   ],
   "source": [
    "comp, diff = compare_monsters(result[\"values\"], orc_brute)\n",
    "comp"
   ],
   "metadata": {
    "collapsed": false
   }
  },
  {
   "cell_type": "code",
   "execution_count": 36,
   "outputs": [
    {
     "data": {
      "text/plain": "  str_diff dex_diff con_diff int_diff wis_diff cha_diff ac_diff hp_diff\n0        -        -     -1.0     -4.0      1.0        -     1.0       -\n1     -2.0     -1.0        -     -1.0        -     -2.0    -2.0     6.0\n2     -1.0     -1.0        -      1.0      1.0        -     1.0       -\n3      1.0     -4.0      3.0     -1.0        -     -2.0     3.0   -10.0\n4     -3.0        -        -     -4.0     -3.0        -    -4.0    -3.0\n5     -3.0        -      2.0     -4.0        -        -    -4.0    -8.0\n6        -        -        -     -3.0      1.0        -    -1.0     1.0\n7     -1.0        -        -      1.0      1.0        -    -1.0     5.0\n8        -        -        -     -3.0        -      1.0       -     3.0\n9        -        -        -        -        -        -       -       -",
      "text/html": "<div>\n<style scoped>\n    .dataframe tbody tr th:only-of-type {\n        vertical-align: middle;\n    }\n\n    .dataframe tbody tr th {\n        vertical-align: top;\n    }\n\n    .dataframe thead th {\n        text-align: right;\n    }\n</style>\n<table border=\"1\" class=\"dataframe\">\n  <thead>\n    <tr style=\"text-align: right;\">\n      <th></th>\n      <th>str_diff</th>\n      <th>dex_diff</th>\n      <th>con_diff</th>\n      <th>int_diff</th>\n      <th>wis_diff</th>\n      <th>cha_diff</th>\n      <th>ac_diff</th>\n      <th>hp_diff</th>\n    </tr>\n  </thead>\n  <tbody>\n    <tr>\n      <th>0</th>\n      <td>-</td>\n      <td>-</td>\n      <td>-1.0</td>\n      <td>-4.0</td>\n      <td>1.0</td>\n      <td>-</td>\n      <td>1.0</td>\n      <td>-</td>\n    </tr>\n    <tr>\n      <th>1</th>\n      <td>-2.0</td>\n      <td>-1.0</td>\n      <td>-</td>\n      <td>-1.0</td>\n      <td>-</td>\n      <td>-2.0</td>\n      <td>-2.0</td>\n      <td>6.0</td>\n    </tr>\n    <tr>\n      <th>2</th>\n      <td>-1.0</td>\n      <td>-1.0</td>\n      <td>-</td>\n      <td>1.0</td>\n      <td>1.0</td>\n      <td>-</td>\n      <td>1.0</td>\n      <td>-</td>\n    </tr>\n    <tr>\n      <th>3</th>\n      <td>1.0</td>\n      <td>-4.0</td>\n      <td>3.0</td>\n      <td>-1.0</td>\n      <td>-</td>\n      <td>-2.0</td>\n      <td>3.0</td>\n      <td>-10.0</td>\n    </tr>\n    <tr>\n      <th>4</th>\n      <td>-3.0</td>\n      <td>-</td>\n      <td>-</td>\n      <td>-4.0</td>\n      <td>-3.0</td>\n      <td>-</td>\n      <td>-4.0</td>\n      <td>-3.0</td>\n    </tr>\n    <tr>\n      <th>5</th>\n      <td>-3.0</td>\n      <td>-</td>\n      <td>2.0</td>\n      <td>-4.0</td>\n      <td>-</td>\n      <td>-</td>\n      <td>-4.0</td>\n      <td>-8.0</td>\n    </tr>\n    <tr>\n      <th>6</th>\n      <td>-</td>\n      <td>-</td>\n      <td>-</td>\n      <td>-3.0</td>\n      <td>1.0</td>\n      <td>-</td>\n      <td>-1.0</td>\n      <td>1.0</td>\n    </tr>\n    <tr>\n      <th>7</th>\n      <td>-1.0</td>\n      <td>-</td>\n      <td>-</td>\n      <td>1.0</td>\n      <td>1.0</td>\n      <td>-</td>\n      <td>-1.0</td>\n      <td>5.0</td>\n    </tr>\n    <tr>\n      <th>8</th>\n      <td>-</td>\n      <td>-</td>\n      <td>-</td>\n      <td>-3.0</td>\n      <td>-</td>\n      <td>1.0</td>\n      <td>-</td>\n      <td>3.0</td>\n    </tr>\n    <tr>\n      <th>9</th>\n      <td>-</td>\n      <td>-</td>\n      <td>-</td>\n      <td>-</td>\n      <td>-</td>\n      <td>-</td>\n      <td>-</td>\n      <td>-</td>\n    </tr>\n  </tbody>\n</table>\n</div>"
     },
     "execution_count": 36,
     "metadata": {},
     "output_type": "execute_result"
    }
   ],
   "source": [
    "diff"
   ],
   "metadata": {
    "collapsed": false
   }
  },
  {
   "cell_type": "code",
   "execution_count": 37,
   "outputs": [
    {
     "name": "stderr",
     "output_type": "stream",
     "text": [
      "100%|██████████| 1/1 [00:09<00:00,  9.84s/it]\n"
     ]
    }
   ],
   "source": [
    "result = generate_counterfactuals(\n",
    "    monster_stats=orc_warrior, model=model, new_level=2, df=dataset, total_cf=10\n",
    ")"
   ],
   "metadata": {
    "collapsed": false
   }
  },
  {
   "cell_type": "markdown",
   "source": [
    "##### Compare to original data"
   ],
   "metadata": {
    "collapsed": false
   }
  },
  {
   "cell_type": "code",
   "execution_count": 38,
   "outputs": [
    {
     "data": {
      "text/plain": "   str  dex  con  int  wis  cha    ac    hp\n0    -    -  4.0 -4.0  2.0    -     -  32.0\n1    -  1.0    - -3.0  2.0    -     -  30.0\n2    -  1.0    -    -  2.0  1.0     -  28.0\n3  3.0    -    - -4.0    - -2.0     -  32.0\n4  3.0    -    - -4.0    - -2.0     -  30.0\n5    -    -    - -4.0  2.0    -  17.0  35.0\n6    -  3.0  2.0    -    -    -     -  29.0\n7    -    -    -  0.0    - -1.0     -  34.0\n8    -    -    -    -    -  1.0  17.0  35.0\n9    -    -    -    -    -    -  17.0  34.0",
      "text/html": "<div>\n<style scoped>\n    .dataframe tbody tr th:only-of-type {\n        vertical-align: middle;\n    }\n\n    .dataframe tbody tr th {\n        vertical-align: top;\n    }\n\n    .dataframe thead th {\n        text-align: right;\n    }\n</style>\n<table border=\"1\" class=\"dataframe\">\n  <thead>\n    <tr style=\"text-align: right;\">\n      <th></th>\n      <th>str</th>\n      <th>dex</th>\n      <th>con</th>\n      <th>int</th>\n      <th>wis</th>\n      <th>cha</th>\n      <th>ac</th>\n      <th>hp</th>\n    </tr>\n  </thead>\n  <tbody>\n    <tr>\n      <th>0</th>\n      <td>-</td>\n      <td>-</td>\n      <td>4.0</td>\n      <td>-4.0</td>\n      <td>2.0</td>\n      <td>-</td>\n      <td>-</td>\n      <td>32.0</td>\n    </tr>\n    <tr>\n      <th>1</th>\n      <td>-</td>\n      <td>1.0</td>\n      <td>-</td>\n      <td>-3.0</td>\n      <td>2.0</td>\n      <td>-</td>\n      <td>-</td>\n      <td>30.0</td>\n    </tr>\n    <tr>\n      <th>2</th>\n      <td>-</td>\n      <td>1.0</td>\n      <td>-</td>\n      <td>-</td>\n      <td>2.0</td>\n      <td>1.0</td>\n      <td>-</td>\n      <td>28.0</td>\n    </tr>\n    <tr>\n      <th>3</th>\n      <td>3.0</td>\n      <td>-</td>\n      <td>-</td>\n      <td>-4.0</td>\n      <td>-</td>\n      <td>-2.0</td>\n      <td>-</td>\n      <td>32.0</td>\n    </tr>\n    <tr>\n      <th>4</th>\n      <td>3.0</td>\n      <td>-</td>\n      <td>-</td>\n      <td>-4.0</td>\n      <td>-</td>\n      <td>-2.0</td>\n      <td>-</td>\n      <td>30.0</td>\n    </tr>\n    <tr>\n      <th>5</th>\n      <td>-</td>\n      <td>-</td>\n      <td>-</td>\n      <td>-4.0</td>\n      <td>2.0</td>\n      <td>-</td>\n      <td>17.0</td>\n      <td>35.0</td>\n    </tr>\n    <tr>\n      <th>6</th>\n      <td>-</td>\n      <td>3.0</td>\n      <td>2.0</td>\n      <td>-</td>\n      <td>-</td>\n      <td>-</td>\n      <td>-</td>\n      <td>29.0</td>\n    </tr>\n    <tr>\n      <th>7</th>\n      <td>-</td>\n      <td>-</td>\n      <td>-</td>\n      <td>0.0</td>\n      <td>-</td>\n      <td>-1.0</td>\n      <td>-</td>\n      <td>34.0</td>\n    </tr>\n    <tr>\n      <th>8</th>\n      <td>-</td>\n      <td>-</td>\n      <td>-</td>\n      <td>-</td>\n      <td>-</td>\n      <td>1.0</td>\n      <td>17.0</td>\n      <td>35.0</td>\n    </tr>\n    <tr>\n      <th>9</th>\n      <td>-</td>\n      <td>-</td>\n      <td>-</td>\n      <td>-</td>\n      <td>-</td>\n      <td>-</td>\n      <td>17.0</td>\n      <td>34.0</td>\n    </tr>\n  </tbody>\n</table>\n</div>"
     },
     "execution_count": 38,
     "metadata": {},
     "output_type": "execute_result"
    }
   ],
   "source": [
    "comp, diff = compare_monsters(result[\"values\"], orc_warrior)\n",
    "comp"
   ],
   "metadata": {
    "collapsed": false
   }
  },
  {
   "cell_type": "code",
   "execution_count": 39,
   "outputs": [
    {
     "data": {
      "text/plain": "  str_diff dex_diff con_diff int_diff wis_diff cha_diff ac_diff  hp_diff\n0        -        -      1.0     -3.0      1.0        -       -      9.0\n1        -     -1.0        -     -2.0      1.0        -       -      7.0\n2        -     -1.0        -        -      1.0      1.0       -      5.0\n3     -1.0        -        -     -3.0        -     -2.0       -      9.0\n4     -1.0        -        -     -3.0        -     -2.0       -      7.0\n5        -        -        -     -3.0      1.0        -    -1.0     12.0\n6        -      1.0     -1.0        -        -        -       -      6.0\n7        -        -        -      1.0        -     -1.0       -     11.0\n8        -        -        -        -        -      1.0    -1.0     12.0\n9        -        -        -        -        -        -    -1.0     11.0",
      "text/html": "<div>\n<style scoped>\n    .dataframe tbody tr th:only-of-type {\n        vertical-align: middle;\n    }\n\n    .dataframe tbody tr th {\n        vertical-align: top;\n    }\n\n    .dataframe thead th {\n        text-align: right;\n    }\n</style>\n<table border=\"1\" class=\"dataframe\">\n  <thead>\n    <tr style=\"text-align: right;\">\n      <th></th>\n      <th>str_diff</th>\n      <th>dex_diff</th>\n      <th>con_diff</th>\n      <th>int_diff</th>\n      <th>wis_diff</th>\n      <th>cha_diff</th>\n      <th>ac_diff</th>\n      <th>hp_diff</th>\n    </tr>\n  </thead>\n  <tbody>\n    <tr>\n      <th>0</th>\n      <td>-</td>\n      <td>-</td>\n      <td>1.0</td>\n      <td>-3.0</td>\n      <td>1.0</td>\n      <td>-</td>\n      <td>-</td>\n      <td>9.0</td>\n    </tr>\n    <tr>\n      <th>1</th>\n      <td>-</td>\n      <td>-1.0</td>\n      <td>-</td>\n      <td>-2.0</td>\n      <td>1.0</td>\n      <td>-</td>\n      <td>-</td>\n      <td>7.0</td>\n    </tr>\n    <tr>\n      <th>2</th>\n      <td>-</td>\n      <td>-1.0</td>\n      <td>-</td>\n      <td>-</td>\n      <td>1.0</td>\n      <td>1.0</td>\n      <td>-</td>\n      <td>5.0</td>\n    </tr>\n    <tr>\n      <th>3</th>\n      <td>-1.0</td>\n      <td>-</td>\n      <td>-</td>\n      <td>-3.0</td>\n      <td>-</td>\n      <td>-2.0</td>\n      <td>-</td>\n      <td>9.0</td>\n    </tr>\n    <tr>\n      <th>4</th>\n      <td>-1.0</td>\n      <td>-</td>\n      <td>-</td>\n      <td>-3.0</td>\n      <td>-</td>\n      <td>-2.0</td>\n      <td>-</td>\n      <td>7.0</td>\n    </tr>\n    <tr>\n      <th>5</th>\n      <td>-</td>\n      <td>-</td>\n      <td>-</td>\n      <td>-3.0</td>\n      <td>1.0</td>\n      <td>-</td>\n      <td>-1.0</td>\n      <td>12.0</td>\n    </tr>\n    <tr>\n      <th>6</th>\n      <td>-</td>\n      <td>1.0</td>\n      <td>-1.0</td>\n      <td>-</td>\n      <td>-</td>\n      <td>-</td>\n      <td>-</td>\n      <td>6.0</td>\n    </tr>\n    <tr>\n      <th>7</th>\n      <td>-</td>\n      <td>-</td>\n      <td>-</td>\n      <td>1.0</td>\n      <td>-</td>\n      <td>-1.0</td>\n      <td>-</td>\n      <td>11.0</td>\n    </tr>\n    <tr>\n      <th>8</th>\n      <td>-</td>\n      <td>-</td>\n      <td>-</td>\n      <td>-</td>\n      <td>-</td>\n      <td>1.0</td>\n      <td>-1.0</td>\n      <td>12.0</td>\n    </tr>\n    <tr>\n      <th>9</th>\n      <td>-</td>\n      <td>-</td>\n      <td>-</td>\n      <td>-</td>\n      <td>-</td>\n      <td>-</td>\n      <td>-1.0</td>\n      <td>11.0</td>\n    </tr>\n  </tbody>\n</table>\n</div>"
     },
     "execution_count": 39,
     "metadata": {},
     "output_type": "execute_result"
    }
   ],
   "source": [
    "diff"
   ],
   "metadata": {
    "collapsed": false
   }
  },
  {
   "cell_type": "markdown",
   "source": [
    "##### Compare to *Orc Warchief*"
   ],
   "metadata": {
    "collapsed": false
   }
  },
  {
   "cell_type": "code",
   "execution_count": 40,
   "outputs": [],
   "source": [
    "comp, diff = compare_monsters(result[\"values\"], orc_warchief)"
   ],
   "metadata": {
    "collapsed": false
   }
  },
  {
   "cell_type": "code",
   "execution_count": 41,
   "outputs": [
    {
     "data": {
      "text/plain": "   str  dex  con  int  wis  cha    ac    hp\n0    -    -  4.0 -4.0  2.0  0.0  18.0     -\n1    -  1.0  3.0 -3.0  2.0  0.0  18.0  30.0\n2    -  1.0  3.0    -  2.0  1.0  18.0  28.0\n3  3.0    -  3.0 -4.0    - -2.0  18.0     -\n4  3.0    -  3.0 -4.0    - -2.0  18.0  30.0\n5    -    -  3.0 -4.0  2.0  0.0  17.0  35.0\n6    -  3.0  2.0    -    -  0.0  18.0  29.0\n7    -    -  3.0  0.0    - -1.0  18.0  34.0\n8    -    -  3.0    -    -  1.0  17.0  35.0\n9    -    -  3.0    -    -  0.0  17.0  34.0",
      "text/html": "<div>\n<style scoped>\n    .dataframe tbody tr th:only-of-type {\n        vertical-align: middle;\n    }\n\n    .dataframe tbody tr th {\n        vertical-align: top;\n    }\n\n    .dataframe thead th {\n        text-align: right;\n    }\n</style>\n<table border=\"1\" class=\"dataframe\">\n  <thead>\n    <tr style=\"text-align: right;\">\n      <th></th>\n      <th>str</th>\n      <th>dex</th>\n      <th>con</th>\n      <th>int</th>\n      <th>wis</th>\n      <th>cha</th>\n      <th>ac</th>\n      <th>hp</th>\n    </tr>\n  </thead>\n  <tbody>\n    <tr>\n      <th>0</th>\n      <td>-</td>\n      <td>-</td>\n      <td>4.0</td>\n      <td>-4.0</td>\n      <td>2.0</td>\n      <td>0.0</td>\n      <td>18.0</td>\n      <td>-</td>\n    </tr>\n    <tr>\n      <th>1</th>\n      <td>-</td>\n      <td>1.0</td>\n      <td>3.0</td>\n      <td>-3.0</td>\n      <td>2.0</td>\n      <td>0.0</td>\n      <td>18.0</td>\n      <td>30.0</td>\n    </tr>\n    <tr>\n      <th>2</th>\n      <td>-</td>\n      <td>1.0</td>\n      <td>3.0</td>\n      <td>-</td>\n      <td>2.0</td>\n      <td>1.0</td>\n      <td>18.0</td>\n      <td>28.0</td>\n    </tr>\n    <tr>\n      <th>3</th>\n      <td>3.0</td>\n      <td>-</td>\n      <td>3.0</td>\n      <td>-4.0</td>\n      <td>-</td>\n      <td>-2.0</td>\n      <td>18.0</td>\n      <td>-</td>\n    </tr>\n    <tr>\n      <th>4</th>\n      <td>3.0</td>\n      <td>-</td>\n      <td>3.0</td>\n      <td>-4.0</td>\n      <td>-</td>\n      <td>-2.0</td>\n      <td>18.0</td>\n      <td>30.0</td>\n    </tr>\n    <tr>\n      <th>5</th>\n      <td>-</td>\n      <td>-</td>\n      <td>3.0</td>\n      <td>-4.0</td>\n      <td>2.0</td>\n      <td>0.0</td>\n      <td>17.0</td>\n      <td>35.0</td>\n    </tr>\n    <tr>\n      <th>6</th>\n      <td>-</td>\n      <td>3.0</td>\n      <td>2.0</td>\n      <td>-</td>\n      <td>-</td>\n      <td>0.0</td>\n      <td>18.0</td>\n      <td>29.0</td>\n    </tr>\n    <tr>\n      <th>7</th>\n      <td>-</td>\n      <td>-</td>\n      <td>3.0</td>\n      <td>0.0</td>\n      <td>-</td>\n      <td>-1.0</td>\n      <td>18.0</td>\n      <td>34.0</td>\n    </tr>\n    <tr>\n      <th>8</th>\n      <td>-</td>\n      <td>-</td>\n      <td>3.0</td>\n      <td>-</td>\n      <td>-</td>\n      <td>1.0</td>\n      <td>17.0</td>\n      <td>35.0</td>\n    </tr>\n    <tr>\n      <th>9</th>\n      <td>-</td>\n      <td>-</td>\n      <td>3.0</td>\n      <td>-</td>\n      <td>-</td>\n      <td>0.0</td>\n      <td>17.0</td>\n      <td>34.0</td>\n    </tr>\n  </tbody>\n</table>\n</div>"
     },
     "execution_count": 41,
     "metadata": {},
     "output_type": "execute_result"
    }
   ],
   "source": [
    "comp"
   ],
   "metadata": {
    "collapsed": false
   }
  },
  {
   "cell_type": "code",
   "execution_count": 42,
   "outputs": [
    {
     "data": {
      "text/plain": "  str_diff dex_diff  con_diff int_diff wis_diff  cha_diff  ac_diff hp_diff\n0        -        -       3.0     -3.0      1.0      -2.0     -1.0       -\n1        -     -1.0       2.0     -2.0      1.0      -2.0     -1.0    -2.0\n2        -     -1.0       2.0        -      1.0      -1.0     -1.0    -4.0\n3     -1.0        -       2.0     -3.0        -      -4.0     -1.0       -\n4     -1.0        -       2.0     -3.0        -      -4.0     -1.0    -2.0\n5        -        -       2.0     -3.0      1.0      -2.0     -2.0     3.0\n6        -      1.0       1.0        -        -      -2.0     -1.0    -3.0\n7        -        -       2.0      1.0        -      -3.0     -1.0     2.0\n8        -        -       2.0        -        -      -1.0     -2.0     3.0\n9        -        -       2.0        -        -      -2.0     -2.0     2.0",
      "text/html": "<div>\n<style scoped>\n    .dataframe tbody tr th:only-of-type {\n        vertical-align: middle;\n    }\n\n    .dataframe tbody tr th {\n        vertical-align: top;\n    }\n\n    .dataframe thead th {\n        text-align: right;\n    }\n</style>\n<table border=\"1\" class=\"dataframe\">\n  <thead>\n    <tr style=\"text-align: right;\">\n      <th></th>\n      <th>str_diff</th>\n      <th>dex_diff</th>\n      <th>con_diff</th>\n      <th>int_diff</th>\n      <th>wis_diff</th>\n      <th>cha_diff</th>\n      <th>ac_diff</th>\n      <th>hp_diff</th>\n    </tr>\n  </thead>\n  <tbody>\n    <tr>\n      <th>0</th>\n      <td>-</td>\n      <td>-</td>\n      <td>3.0</td>\n      <td>-3.0</td>\n      <td>1.0</td>\n      <td>-2.0</td>\n      <td>-1.0</td>\n      <td>-</td>\n    </tr>\n    <tr>\n      <th>1</th>\n      <td>-</td>\n      <td>-1.0</td>\n      <td>2.0</td>\n      <td>-2.0</td>\n      <td>1.0</td>\n      <td>-2.0</td>\n      <td>-1.0</td>\n      <td>-2.0</td>\n    </tr>\n    <tr>\n      <th>2</th>\n      <td>-</td>\n      <td>-1.0</td>\n      <td>2.0</td>\n      <td>-</td>\n      <td>1.0</td>\n      <td>-1.0</td>\n      <td>-1.0</td>\n      <td>-4.0</td>\n    </tr>\n    <tr>\n      <th>3</th>\n      <td>-1.0</td>\n      <td>-</td>\n      <td>2.0</td>\n      <td>-3.0</td>\n      <td>-</td>\n      <td>-4.0</td>\n      <td>-1.0</td>\n      <td>-</td>\n    </tr>\n    <tr>\n      <th>4</th>\n      <td>-1.0</td>\n      <td>-</td>\n      <td>2.0</td>\n      <td>-3.0</td>\n      <td>-</td>\n      <td>-4.0</td>\n      <td>-1.0</td>\n      <td>-2.0</td>\n    </tr>\n    <tr>\n      <th>5</th>\n      <td>-</td>\n      <td>-</td>\n      <td>2.0</td>\n      <td>-3.0</td>\n      <td>1.0</td>\n      <td>-2.0</td>\n      <td>-2.0</td>\n      <td>3.0</td>\n    </tr>\n    <tr>\n      <th>6</th>\n      <td>-</td>\n      <td>1.0</td>\n      <td>1.0</td>\n      <td>-</td>\n      <td>-</td>\n      <td>-2.0</td>\n      <td>-1.0</td>\n      <td>-3.0</td>\n    </tr>\n    <tr>\n      <th>7</th>\n      <td>-</td>\n      <td>-</td>\n      <td>2.0</td>\n      <td>1.0</td>\n      <td>-</td>\n      <td>-3.0</td>\n      <td>-1.0</td>\n      <td>2.0</td>\n    </tr>\n    <tr>\n      <th>8</th>\n      <td>-</td>\n      <td>-</td>\n      <td>2.0</td>\n      <td>-</td>\n      <td>-</td>\n      <td>-1.0</td>\n      <td>-2.0</td>\n      <td>3.0</td>\n    </tr>\n    <tr>\n      <th>9</th>\n      <td>-</td>\n      <td>-</td>\n      <td>2.0</td>\n      <td>-</td>\n      <td>-</td>\n      <td>-2.0</td>\n      <td>-2.0</td>\n      <td>2.0</td>\n    </tr>\n  </tbody>\n</table>\n</div>"
     },
     "execution_count": 42,
     "metadata": {},
     "output_type": "execute_result"
    }
   ],
   "source": [
    "diff"
   ],
   "metadata": {
    "collapsed": false
   }
  },
  {
   "cell_type": "markdown",
   "source": [
    "### Orc Warchief"
   ],
   "metadata": {
    "collapsed": false
   }
  },
  {
   "cell_type": "code",
   "execution_count": 43,
   "outputs": [
    {
     "name": "stderr",
     "output_type": "stream",
     "text": [
      "100%|██████████| 1/1 [08:36<00:00, 516.06s/it]\n"
     ]
    }
   ],
   "source": [
    "result = generate_counterfactuals(\n",
    "    monster_stats=orc_warchief, model=model, new_level=0, df=dataset, total_cf=10\n",
    ")"
   ],
   "metadata": {
    "collapsed": false
   }
  },
  {
   "cell_type": "markdown",
   "source": [
    "##### Compare to original data"
   ],
   "metadata": {
    "collapsed": false
   }
  },
  {
   "cell_type": "code",
   "execution_count": 44,
   "outputs": [
    {
     "data": {
      "text/plain": "   str  dex  con  int  wis  cha    ac    hp\n0 -2.0    -    - -4.0  3.0  0.0  16.0  15.0\n1  1.0  3.0    - -4.0    - -4.0  16.0  15.0\n2  0.0  3.0    - -4.0    - -2.0  16.0  15.0\n3  3.0    -  3.0 -4.0    -  1.0  15.0  18.0\n4  2.0  1.0    -    -  2.0  3.0  15.0  13.0\n5 -0.0    -  4.0  6.0    -    -  15.0   9.0\n6 -0.0    -  4.0 -5.0    -    -  15.0  15.0\n7 -2.0    -    - -2.0    -  9.0  13.0   5.0\n8  3.0    -  3.0    -    -  0.0  15.0  15.0\n9 -1.0    -  0.0  0.0    -    -  17.0   4.0",
      "text/html": "<div>\n<style scoped>\n    .dataframe tbody tr th:only-of-type {\n        vertical-align: middle;\n    }\n\n    .dataframe tbody tr th {\n        vertical-align: top;\n    }\n\n    .dataframe thead th {\n        text-align: right;\n    }\n</style>\n<table border=\"1\" class=\"dataframe\">\n  <thead>\n    <tr style=\"text-align: right;\">\n      <th></th>\n      <th>str</th>\n      <th>dex</th>\n      <th>con</th>\n      <th>int</th>\n      <th>wis</th>\n      <th>cha</th>\n      <th>ac</th>\n      <th>hp</th>\n    </tr>\n  </thead>\n  <tbody>\n    <tr>\n      <th>0</th>\n      <td>-2.0</td>\n      <td>-</td>\n      <td>-</td>\n      <td>-4.0</td>\n      <td>3.0</td>\n      <td>0.0</td>\n      <td>16.0</td>\n      <td>15.0</td>\n    </tr>\n    <tr>\n      <th>1</th>\n      <td>1.0</td>\n      <td>3.0</td>\n      <td>-</td>\n      <td>-4.0</td>\n      <td>-</td>\n      <td>-4.0</td>\n      <td>16.0</td>\n      <td>15.0</td>\n    </tr>\n    <tr>\n      <th>2</th>\n      <td>0.0</td>\n      <td>3.0</td>\n      <td>-</td>\n      <td>-4.0</td>\n      <td>-</td>\n      <td>-2.0</td>\n      <td>16.0</td>\n      <td>15.0</td>\n    </tr>\n    <tr>\n      <th>3</th>\n      <td>3.0</td>\n      <td>-</td>\n      <td>3.0</td>\n      <td>-4.0</td>\n      <td>-</td>\n      <td>1.0</td>\n      <td>15.0</td>\n      <td>18.0</td>\n    </tr>\n    <tr>\n      <th>4</th>\n      <td>2.0</td>\n      <td>1.0</td>\n      <td>-</td>\n      <td>-</td>\n      <td>2.0</td>\n      <td>3.0</td>\n      <td>15.0</td>\n      <td>13.0</td>\n    </tr>\n    <tr>\n      <th>5</th>\n      <td>-0.0</td>\n      <td>-</td>\n      <td>4.0</td>\n      <td>6.0</td>\n      <td>-</td>\n      <td>-</td>\n      <td>15.0</td>\n      <td>9.0</td>\n    </tr>\n    <tr>\n      <th>6</th>\n      <td>-0.0</td>\n      <td>-</td>\n      <td>4.0</td>\n      <td>-5.0</td>\n      <td>-</td>\n      <td>-</td>\n      <td>15.0</td>\n      <td>15.0</td>\n    </tr>\n    <tr>\n      <th>7</th>\n      <td>-2.0</td>\n      <td>-</td>\n      <td>-</td>\n      <td>-2.0</td>\n      <td>-</td>\n      <td>9.0</td>\n      <td>13.0</td>\n      <td>5.0</td>\n    </tr>\n    <tr>\n      <th>8</th>\n      <td>3.0</td>\n      <td>-</td>\n      <td>3.0</td>\n      <td>-</td>\n      <td>-</td>\n      <td>0.0</td>\n      <td>15.0</td>\n      <td>15.0</td>\n    </tr>\n    <tr>\n      <th>9</th>\n      <td>-1.0</td>\n      <td>-</td>\n      <td>0.0</td>\n      <td>0.0</td>\n      <td>-</td>\n      <td>-</td>\n      <td>17.0</td>\n      <td>4.0</td>\n    </tr>\n  </tbody>\n</table>\n</div>"
     },
     "execution_count": 44,
     "metadata": {},
     "output_type": "execute_result"
    }
   ],
   "source": [
    "comp, diff = compare_monsters(result[\"values\"], orc_warchief)\n",
    "comp"
   ],
   "metadata": {
    "collapsed": false
   }
  },
  {
   "cell_type": "code",
   "execution_count": 45,
   "outputs": [
    {
     "data": {
      "text/plain": "   str_diff dex_diff con_diff int_diff wis_diff cha_diff  ac_diff  hp_diff\n0      -6.0        -        -     -3.0      2.0     -2.0     -3.0    -17.0\n1      -3.0      1.0        -     -3.0        -     -6.0     -3.0    -17.0\n2      -4.0      1.0        -     -3.0        -     -4.0     -3.0    -17.0\n3      -1.0        -      2.0     -3.0        -     -1.0     -4.0    -14.0\n4      -2.0     -1.0        -        -      1.0      1.0     -4.0    -19.0\n5      -4.0        -      3.0      7.0        -        -     -4.0    -23.0\n6      -4.0        -      3.0     -4.0        -        -     -4.0    -17.0\n7      -6.0        -        -     -1.0        -      7.0     -6.0    -27.0\n8      -1.0        -      2.0        -        -     -2.0     -4.0    -17.0\n9      -5.0        -     -1.0      1.0        -        -     -2.0    -28.0",
      "text/html": "<div>\n<style scoped>\n    .dataframe tbody tr th:only-of-type {\n        vertical-align: middle;\n    }\n\n    .dataframe tbody tr th {\n        vertical-align: top;\n    }\n\n    .dataframe thead th {\n        text-align: right;\n    }\n</style>\n<table border=\"1\" class=\"dataframe\">\n  <thead>\n    <tr style=\"text-align: right;\">\n      <th></th>\n      <th>str_diff</th>\n      <th>dex_diff</th>\n      <th>con_diff</th>\n      <th>int_diff</th>\n      <th>wis_diff</th>\n      <th>cha_diff</th>\n      <th>ac_diff</th>\n      <th>hp_diff</th>\n    </tr>\n  </thead>\n  <tbody>\n    <tr>\n      <th>0</th>\n      <td>-6.0</td>\n      <td>-</td>\n      <td>-</td>\n      <td>-3.0</td>\n      <td>2.0</td>\n      <td>-2.0</td>\n      <td>-3.0</td>\n      <td>-17.0</td>\n    </tr>\n    <tr>\n      <th>1</th>\n      <td>-3.0</td>\n      <td>1.0</td>\n      <td>-</td>\n      <td>-3.0</td>\n      <td>-</td>\n      <td>-6.0</td>\n      <td>-3.0</td>\n      <td>-17.0</td>\n    </tr>\n    <tr>\n      <th>2</th>\n      <td>-4.0</td>\n      <td>1.0</td>\n      <td>-</td>\n      <td>-3.0</td>\n      <td>-</td>\n      <td>-4.0</td>\n      <td>-3.0</td>\n      <td>-17.0</td>\n    </tr>\n    <tr>\n      <th>3</th>\n      <td>-1.0</td>\n      <td>-</td>\n      <td>2.0</td>\n      <td>-3.0</td>\n      <td>-</td>\n      <td>-1.0</td>\n      <td>-4.0</td>\n      <td>-14.0</td>\n    </tr>\n    <tr>\n      <th>4</th>\n      <td>-2.0</td>\n      <td>-1.0</td>\n      <td>-</td>\n      <td>-</td>\n      <td>1.0</td>\n      <td>1.0</td>\n      <td>-4.0</td>\n      <td>-19.0</td>\n    </tr>\n    <tr>\n      <th>5</th>\n      <td>-4.0</td>\n      <td>-</td>\n      <td>3.0</td>\n      <td>7.0</td>\n      <td>-</td>\n      <td>-</td>\n      <td>-4.0</td>\n      <td>-23.0</td>\n    </tr>\n    <tr>\n      <th>6</th>\n      <td>-4.0</td>\n      <td>-</td>\n      <td>3.0</td>\n      <td>-4.0</td>\n      <td>-</td>\n      <td>-</td>\n      <td>-4.0</td>\n      <td>-17.0</td>\n    </tr>\n    <tr>\n      <th>7</th>\n      <td>-6.0</td>\n      <td>-</td>\n      <td>-</td>\n      <td>-1.0</td>\n      <td>-</td>\n      <td>7.0</td>\n      <td>-6.0</td>\n      <td>-27.0</td>\n    </tr>\n    <tr>\n      <th>8</th>\n      <td>-1.0</td>\n      <td>-</td>\n      <td>2.0</td>\n      <td>-</td>\n      <td>-</td>\n      <td>-2.0</td>\n      <td>-4.0</td>\n      <td>-17.0</td>\n    </tr>\n    <tr>\n      <th>9</th>\n      <td>-5.0</td>\n      <td>-</td>\n      <td>-1.0</td>\n      <td>1.0</td>\n      <td>-</td>\n      <td>-</td>\n      <td>-2.0</td>\n      <td>-28.0</td>\n    </tr>\n  </tbody>\n</table>\n</div>"
     },
     "execution_count": 45,
     "metadata": {},
     "output_type": "execute_result"
    }
   ],
   "source": [
    "diff"
   ],
   "metadata": {
    "collapsed": false
   }
  },
  {
   "cell_type": "markdown",
   "source": [
    "##### Compare to *Orc brute*"
   ],
   "metadata": {
    "collapsed": false
   }
  },
  {
   "cell_type": "code",
   "execution_count": 46,
   "outputs": [],
   "source": [
    "comp, diff = compare_monsters(result[\"values\"], orc_brute)"
   ],
   "metadata": {
    "collapsed": false
   }
  },
  {
   "cell_type": "code",
   "execution_count": 47,
   "outputs": [
    {
     "data": {
      "text/plain": "   str  dex  con  int  wis  cha    ac    hp\n0 -2.0    -  1.0 -4.0  3.0    -  16.0     -\n1  1.0  3.0  1.0 -4.0    - -4.0  16.0     -\n2  0.0  3.0  1.0 -4.0    - -2.0  16.0     -\n3    -    -    - -4.0    -  1.0     -  18.0\n4  2.0  1.0  1.0    -  2.0  3.0     -  13.0\n5 -0.0    -  4.0  6.0    -  2.0     -   9.0\n6 -0.0    -  4.0 -5.0    -  2.0     -     -\n7 -2.0    -  1.0 -2.0    -  9.0  13.0   5.0\n8    -    -    -    -    -    -     -     -\n9 -1.0    -  0.0  0.0    -  2.0  17.0   4.0",
      "text/html": "<div>\n<style scoped>\n    .dataframe tbody tr th:only-of-type {\n        vertical-align: middle;\n    }\n\n    .dataframe tbody tr th {\n        vertical-align: top;\n    }\n\n    .dataframe thead th {\n        text-align: right;\n    }\n</style>\n<table border=\"1\" class=\"dataframe\">\n  <thead>\n    <tr style=\"text-align: right;\">\n      <th></th>\n      <th>str</th>\n      <th>dex</th>\n      <th>con</th>\n      <th>int</th>\n      <th>wis</th>\n      <th>cha</th>\n      <th>ac</th>\n      <th>hp</th>\n    </tr>\n  </thead>\n  <tbody>\n    <tr>\n      <th>0</th>\n      <td>-2.0</td>\n      <td>-</td>\n      <td>1.0</td>\n      <td>-4.0</td>\n      <td>3.0</td>\n      <td>-</td>\n      <td>16.0</td>\n      <td>-</td>\n    </tr>\n    <tr>\n      <th>1</th>\n      <td>1.0</td>\n      <td>3.0</td>\n      <td>1.0</td>\n      <td>-4.0</td>\n      <td>-</td>\n      <td>-4.0</td>\n      <td>16.0</td>\n      <td>-</td>\n    </tr>\n    <tr>\n      <th>2</th>\n      <td>0.0</td>\n      <td>3.0</td>\n      <td>1.0</td>\n      <td>-4.0</td>\n      <td>-</td>\n      <td>-2.0</td>\n      <td>16.0</td>\n      <td>-</td>\n    </tr>\n    <tr>\n      <th>3</th>\n      <td>-</td>\n      <td>-</td>\n      <td>-</td>\n      <td>-4.0</td>\n      <td>-</td>\n      <td>1.0</td>\n      <td>-</td>\n      <td>18.0</td>\n    </tr>\n    <tr>\n      <th>4</th>\n      <td>2.0</td>\n      <td>1.0</td>\n      <td>1.0</td>\n      <td>-</td>\n      <td>2.0</td>\n      <td>3.0</td>\n      <td>-</td>\n      <td>13.0</td>\n    </tr>\n    <tr>\n      <th>5</th>\n      <td>-0.0</td>\n      <td>-</td>\n      <td>4.0</td>\n      <td>6.0</td>\n      <td>-</td>\n      <td>2.0</td>\n      <td>-</td>\n      <td>9.0</td>\n    </tr>\n    <tr>\n      <th>6</th>\n      <td>-0.0</td>\n      <td>-</td>\n      <td>4.0</td>\n      <td>-5.0</td>\n      <td>-</td>\n      <td>2.0</td>\n      <td>-</td>\n      <td>-</td>\n    </tr>\n    <tr>\n      <th>7</th>\n      <td>-2.0</td>\n      <td>-</td>\n      <td>1.0</td>\n      <td>-2.0</td>\n      <td>-</td>\n      <td>9.0</td>\n      <td>13.0</td>\n      <td>5.0</td>\n    </tr>\n    <tr>\n      <th>8</th>\n      <td>-</td>\n      <td>-</td>\n      <td>-</td>\n      <td>-</td>\n      <td>-</td>\n      <td>-</td>\n      <td>-</td>\n      <td>-</td>\n    </tr>\n    <tr>\n      <th>9</th>\n      <td>-1.0</td>\n      <td>-</td>\n      <td>0.0</td>\n      <td>0.0</td>\n      <td>-</td>\n      <td>2.0</td>\n      <td>17.0</td>\n      <td>4.0</td>\n    </tr>\n  </tbody>\n</table>\n</div>"
     },
     "execution_count": 47,
     "metadata": {},
     "output_type": "execute_result"
    }
   ],
   "source": [
    "comp"
   ],
   "metadata": {
    "collapsed": false
   }
  },
  {
   "cell_type": "code",
   "execution_count": 48,
   "outputs": [
    {
     "data": {
      "text/plain": "  str_diff dex_diff con_diff int_diff wis_diff cha_diff ac_diff hp_diff\n0     -5.0        -     -2.0     -3.0      2.0        -     1.0       -\n1     -2.0      1.0     -2.0     -3.0        -     -4.0     1.0       -\n2     -3.0      1.0     -2.0     -3.0        -     -2.0     1.0       -\n3        -        -        -     -3.0        -      1.0       -     3.0\n4     -1.0     -1.0     -2.0        -      1.0      3.0       -    -2.0\n5     -3.0        -      1.0      7.0        -      2.0       -    -6.0\n6     -3.0        -      1.0     -4.0        -      2.0       -       -\n7     -5.0        -     -2.0     -1.0        -      9.0    -2.0   -10.0\n8        -        -        -        -        -        -       -       -\n9     -4.0        -     -3.0      1.0        -      2.0     2.0   -11.0",
      "text/html": "<div>\n<style scoped>\n    .dataframe tbody tr th:only-of-type {\n        vertical-align: middle;\n    }\n\n    .dataframe tbody tr th {\n        vertical-align: top;\n    }\n\n    .dataframe thead th {\n        text-align: right;\n    }\n</style>\n<table border=\"1\" class=\"dataframe\">\n  <thead>\n    <tr style=\"text-align: right;\">\n      <th></th>\n      <th>str_diff</th>\n      <th>dex_diff</th>\n      <th>con_diff</th>\n      <th>int_diff</th>\n      <th>wis_diff</th>\n      <th>cha_diff</th>\n      <th>ac_diff</th>\n      <th>hp_diff</th>\n    </tr>\n  </thead>\n  <tbody>\n    <tr>\n      <th>0</th>\n      <td>-5.0</td>\n      <td>-</td>\n      <td>-2.0</td>\n      <td>-3.0</td>\n      <td>2.0</td>\n      <td>-</td>\n      <td>1.0</td>\n      <td>-</td>\n    </tr>\n    <tr>\n      <th>1</th>\n      <td>-2.0</td>\n      <td>1.0</td>\n      <td>-2.0</td>\n      <td>-3.0</td>\n      <td>-</td>\n      <td>-4.0</td>\n      <td>1.0</td>\n      <td>-</td>\n    </tr>\n    <tr>\n      <th>2</th>\n      <td>-3.0</td>\n      <td>1.0</td>\n      <td>-2.0</td>\n      <td>-3.0</td>\n      <td>-</td>\n      <td>-2.0</td>\n      <td>1.0</td>\n      <td>-</td>\n    </tr>\n    <tr>\n      <th>3</th>\n      <td>-</td>\n      <td>-</td>\n      <td>-</td>\n      <td>-3.0</td>\n      <td>-</td>\n      <td>1.0</td>\n      <td>-</td>\n      <td>3.0</td>\n    </tr>\n    <tr>\n      <th>4</th>\n      <td>-1.0</td>\n      <td>-1.0</td>\n      <td>-2.0</td>\n      <td>-</td>\n      <td>1.0</td>\n      <td>3.0</td>\n      <td>-</td>\n      <td>-2.0</td>\n    </tr>\n    <tr>\n      <th>5</th>\n      <td>-3.0</td>\n      <td>-</td>\n      <td>1.0</td>\n      <td>7.0</td>\n      <td>-</td>\n      <td>2.0</td>\n      <td>-</td>\n      <td>-6.0</td>\n    </tr>\n    <tr>\n      <th>6</th>\n      <td>-3.0</td>\n      <td>-</td>\n      <td>1.0</td>\n      <td>-4.0</td>\n      <td>-</td>\n      <td>2.0</td>\n      <td>-</td>\n      <td>-</td>\n    </tr>\n    <tr>\n      <th>7</th>\n      <td>-5.0</td>\n      <td>-</td>\n      <td>-2.0</td>\n      <td>-1.0</td>\n      <td>-</td>\n      <td>9.0</td>\n      <td>-2.0</td>\n      <td>-10.0</td>\n    </tr>\n    <tr>\n      <th>8</th>\n      <td>-</td>\n      <td>-</td>\n      <td>-</td>\n      <td>-</td>\n      <td>-</td>\n      <td>-</td>\n      <td>-</td>\n      <td>-</td>\n    </tr>\n    <tr>\n      <th>9</th>\n      <td>-4.0</td>\n      <td>-</td>\n      <td>-3.0</td>\n      <td>1.0</td>\n      <td>-</td>\n      <td>2.0</td>\n      <td>2.0</td>\n      <td>-11.0</td>\n    </tr>\n  </tbody>\n</table>\n</div>"
     },
     "execution_count": 48,
     "metadata": {},
     "output_type": "execute_result"
    }
   ],
   "source": [
    "diff"
   ],
   "metadata": {
    "collapsed": false
   }
  },
  {
   "cell_type": "code",
   "execution_count": 49,
   "outputs": [
    {
     "name": "stderr",
     "output_type": "stream",
     "text": [
      "100%|██████████| 1/1 [00:28<00:00, 28.24s/it]\n"
     ]
    }
   ],
   "source": [
    "result = generate_counterfactuals(\n",
    "    monster_stats=orc_warchief, model=model, new_level=1, df=dataset, total_cf=10\n",
    ")"
   ],
   "metadata": {
    "collapsed": false
   }
  },
  {
   "cell_type": "markdown",
   "source": [
    "##### Compare to original data"
   ],
   "metadata": {
    "collapsed": false
   }
  },
  {
   "cell_type": "code",
   "execution_count": 50,
   "outputs": [
    {
     "data": {
      "text/plain": "   str  dex  con  int  wis  cha    ac    hp\n0  0.0  3.0    -  0.0    -  4.0  16.0  25.0\n1  3.0  3.0  2.0    -  0.0    -  17.0  18.0\n2  2.0  4.0    -  0.0    -  1.0  18.0  19.0\n3    -  3.0  4.0 -5.0    -    -  16.0  25.0\n4 -5.0  3.0    -    -    -  1.0  16.0  20.0\n5  0.0  3.0  2.0    -    -    -  16.0  22.0\n6  3.0  4.0    -    -    -  1.0  17.0  19.0\n7    -    -  2.0  0.0    -  1.0  15.0  24.0\n8    -    -  3.0    -    -  0.0  16.0  21.0\n9    -    -  3.0    -    -  0.0  18.0  23.0",
      "text/html": "<div>\n<style scoped>\n    .dataframe tbody tr th:only-of-type {\n        vertical-align: middle;\n    }\n\n    .dataframe tbody tr th {\n        vertical-align: top;\n    }\n\n    .dataframe thead th {\n        text-align: right;\n    }\n</style>\n<table border=\"1\" class=\"dataframe\">\n  <thead>\n    <tr style=\"text-align: right;\">\n      <th></th>\n      <th>str</th>\n      <th>dex</th>\n      <th>con</th>\n      <th>int</th>\n      <th>wis</th>\n      <th>cha</th>\n      <th>ac</th>\n      <th>hp</th>\n    </tr>\n  </thead>\n  <tbody>\n    <tr>\n      <th>0</th>\n      <td>0.0</td>\n      <td>3.0</td>\n      <td>-</td>\n      <td>0.0</td>\n      <td>-</td>\n      <td>4.0</td>\n      <td>16.0</td>\n      <td>25.0</td>\n    </tr>\n    <tr>\n      <th>1</th>\n      <td>3.0</td>\n      <td>3.0</td>\n      <td>2.0</td>\n      <td>-</td>\n      <td>0.0</td>\n      <td>-</td>\n      <td>17.0</td>\n      <td>18.0</td>\n    </tr>\n    <tr>\n      <th>2</th>\n      <td>2.0</td>\n      <td>4.0</td>\n      <td>-</td>\n      <td>0.0</td>\n      <td>-</td>\n      <td>1.0</td>\n      <td>18.0</td>\n      <td>19.0</td>\n    </tr>\n    <tr>\n      <th>3</th>\n      <td>-</td>\n      <td>3.0</td>\n      <td>4.0</td>\n      <td>-5.0</td>\n      <td>-</td>\n      <td>-</td>\n      <td>16.0</td>\n      <td>25.0</td>\n    </tr>\n    <tr>\n      <th>4</th>\n      <td>-5.0</td>\n      <td>3.0</td>\n      <td>-</td>\n      <td>-</td>\n      <td>-</td>\n      <td>1.0</td>\n      <td>16.0</td>\n      <td>20.0</td>\n    </tr>\n    <tr>\n      <th>5</th>\n      <td>0.0</td>\n      <td>3.0</td>\n      <td>2.0</td>\n      <td>-</td>\n      <td>-</td>\n      <td>-</td>\n      <td>16.0</td>\n      <td>22.0</td>\n    </tr>\n    <tr>\n      <th>6</th>\n      <td>3.0</td>\n      <td>4.0</td>\n      <td>-</td>\n      <td>-</td>\n      <td>-</td>\n      <td>1.0</td>\n      <td>17.0</td>\n      <td>19.0</td>\n    </tr>\n    <tr>\n      <th>7</th>\n      <td>-</td>\n      <td>-</td>\n      <td>2.0</td>\n      <td>0.0</td>\n      <td>-</td>\n      <td>1.0</td>\n      <td>15.0</td>\n      <td>24.0</td>\n    </tr>\n    <tr>\n      <th>8</th>\n      <td>-</td>\n      <td>-</td>\n      <td>3.0</td>\n      <td>-</td>\n      <td>-</td>\n      <td>0.0</td>\n      <td>16.0</td>\n      <td>21.0</td>\n    </tr>\n    <tr>\n      <th>9</th>\n      <td>-</td>\n      <td>-</td>\n      <td>3.0</td>\n      <td>-</td>\n      <td>-</td>\n      <td>0.0</td>\n      <td>18.0</td>\n      <td>23.0</td>\n    </tr>\n  </tbody>\n</table>\n</div>"
     },
     "execution_count": 50,
     "metadata": {},
     "output_type": "execute_result"
    }
   ],
   "source": [
    "comp, diff = compare_monsters(result[\"values\"], orc_warchief)\n",
    "comp"
   ],
   "metadata": {
    "collapsed": false
   }
  },
  {
   "cell_type": "code",
   "execution_count": 51,
   "outputs": [
    {
     "data": {
      "text/plain": "  str_diff dex_diff con_diff int_diff wis_diff cha_diff  ac_diff  hp_diff\n0     -4.0      1.0        -      1.0        -      2.0     -3.0     -7.0\n1     -1.0      1.0      1.0        -     -1.0        -     -2.0    -14.0\n2     -2.0      2.0        -      1.0        -     -1.0     -1.0    -13.0\n3        -      1.0      3.0     -4.0        -        -     -3.0     -7.0\n4     -9.0      1.0        -        -        -     -1.0     -3.0    -12.0\n5     -4.0      1.0      1.0        -        -        -     -3.0    -10.0\n6     -1.0      2.0        -        -        -     -1.0     -2.0    -13.0\n7        -        -      1.0      1.0        -     -1.0     -4.0     -8.0\n8        -        -      2.0        -        -     -2.0     -3.0    -11.0\n9        -        -      2.0        -        -     -2.0     -1.0     -9.0",
      "text/html": "<div>\n<style scoped>\n    .dataframe tbody tr th:only-of-type {\n        vertical-align: middle;\n    }\n\n    .dataframe tbody tr th {\n        vertical-align: top;\n    }\n\n    .dataframe thead th {\n        text-align: right;\n    }\n</style>\n<table border=\"1\" class=\"dataframe\">\n  <thead>\n    <tr style=\"text-align: right;\">\n      <th></th>\n      <th>str_diff</th>\n      <th>dex_diff</th>\n      <th>con_diff</th>\n      <th>int_diff</th>\n      <th>wis_diff</th>\n      <th>cha_diff</th>\n      <th>ac_diff</th>\n      <th>hp_diff</th>\n    </tr>\n  </thead>\n  <tbody>\n    <tr>\n      <th>0</th>\n      <td>-4.0</td>\n      <td>1.0</td>\n      <td>-</td>\n      <td>1.0</td>\n      <td>-</td>\n      <td>2.0</td>\n      <td>-3.0</td>\n      <td>-7.0</td>\n    </tr>\n    <tr>\n      <th>1</th>\n      <td>-1.0</td>\n      <td>1.0</td>\n      <td>1.0</td>\n      <td>-</td>\n      <td>-1.0</td>\n      <td>-</td>\n      <td>-2.0</td>\n      <td>-14.0</td>\n    </tr>\n    <tr>\n      <th>2</th>\n      <td>-2.0</td>\n      <td>2.0</td>\n      <td>-</td>\n      <td>1.0</td>\n      <td>-</td>\n      <td>-1.0</td>\n      <td>-1.0</td>\n      <td>-13.0</td>\n    </tr>\n    <tr>\n      <th>3</th>\n      <td>-</td>\n      <td>1.0</td>\n      <td>3.0</td>\n      <td>-4.0</td>\n      <td>-</td>\n      <td>-</td>\n      <td>-3.0</td>\n      <td>-7.0</td>\n    </tr>\n    <tr>\n      <th>4</th>\n      <td>-9.0</td>\n      <td>1.0</td>\n      <td>-</td>\n      <td>-</td>\n      <td>-</td>\n      <td>-1.0</td>\n      <td>-3.0</td>\n      <td>-12.0</td>\n    </tr>\n    <tr>\n      <th>5</th>\n      <td>-4.0</td>\n      <td>1.0</td>\n      <td>1.0</td>\n      <td>-</td>\n      <td>-</td>\n      <td>-</td>\n      <td>-3.0</td>\n      <td>-10.0</td>\n    </tr>\n    <tr>\n      <th>6</th>\n      <td>-1.0</td>\n      <td>2.0</td>\n      <td>-</td>\n      <td>-</td>\n      <td>-</td>\n      <td>-1.0</td>\n      <td>-2.0</td>\n      <td>-13.0</td>\n    </tr>\n    <tr>\n      <th>7</th>\n      <td>-</td>\n      <td>-</td>\n      <td>1.0</td>\n      <td>1.0</td>\n      <td>-</td>\n      <td>-1.0</td>\n      <td>-4.0</td>\n      <td>-8.0</td>\n    </tr>\n    <tr>\n      <th>8</th>\n      <td>-</td>\n      <td>-</td>\n      <td>2.0</td>\n      <td>-</td>\n      <td>-</td>\n      <td>-2.0</td>\n      <td>-3.0</td>\n      <td>-11.0</td>\n    </tr>\n    <tr>\n      <th>9</th>\n      <td>-</td>\n      <td>-</td>\n      <td>2.0</td>\n      <td>-</td>\n      <td>-</td>\n      <td>-2.0</td>\n      <td>-1.0</td>\n      <td>-9.0</td>\n    </tr>\n  </tbody>\n</table>\n</div>"
     },
     "execution_count": 51,
     "metadata": {},
     "output_type": "execute_result"
    }
   ],
   "source": [
    "diff"
   ],
   "metadata": {
    "collapsed": false
   }
  },
  {
   "cell_type": "markdown",
   "source": [
    "##### Compare to *Orc warrior*"
   ],
   "metadata": {
    "collapsed": false
   }
  },
  {
   "cell_type": "code",
   "execution_count": 52,
   "outputs": [],
   "source": [
    "comp, diff = compare_monsters(result[\"values\"], orc_warrior)"
   ],
   "metadata": {
    "collapsed": false
   }
  },
  {
   "cell_type": "code",
   "execution_count": 53,
   "outputs": [
    {
     "data": {
      "text/plain": "   str  dex  con  int  wis  cha    ac    hp\n0  0.0  3.0  1.0  0.0    -  4.0  16.0  25.0\n1  3.0  3.0  2.0    -  0.0  2.0  17.0  18.0\n2  2.0  4.0  1.0  0.0    -  1.0     -  19.0\n3    -  3.0  4.0 -5.0    -  2.0  16.0  25.0\n4 -5.0  3.0  1.0    -    -  1.0  16.0  20.0\n5  0.0  3.0  2.0    -    -  2.0  16.0  22.0\n6  3.0  4.0  1.0    -    -  1.0  17.0  19.0\n7    -    -  2.0  0.0    -  1.0  15.0  24.0\n8    -    -    -    -    -    -  16.0  21.0\n9    -    -    -    -    -    -     -     -",
      "text/html": "<div>\n<style scoped>\n    .dataframe tbody tr th:only-of-type {\n        vertical-align: middle;\n    }\n\n    .dataframe tbody tr th {\n        vertical-align: top;\n    }\n\n    .dataframe thead th {\n        text-align: right;\n    }\n</style>\n<table border=\"1\" class=\"dataframe\">\n  <thead>\n    <tr style=\"text-align: right;\">\n      <th></th>\n      <th>str</th>\n      <th>dex</th>\n      <th>con</th>\n      <th>int</th>\n      <th>wis</th>\n      <th>cha</th>\n      <th>ac</th>\n      <th>hp</th>\n    </tr>\n  </thead>\n  <tbody>\n    <tr>\n      <th>0</th>\n      <td>0.0</td>\n      <td>3.0</td>\n      <td>1.0</td>\n      <td>0.0</td>\n      <td>-</td>\n      <td>4.0</td>\n      <td>16.0</td>\n      <td>25.0</td>\n    </tr>\n    <tr>\n      <th>1</th>\n      <td>3.0</td>\n      <td>3.0</td>\n      <td>2.0</td>\n      <td>-</td>\n      <td>0.0</td>\n      <td>2.0</td>\n      <td>17.0</td>\n      <td>18.0</td>\n    </tr>\n    <tr>\n      <th>2</th>\n      <td>2.0</td>\n      <td>4.0</td>\n      <td>1.0</td>\n      <td>0.0</td>\n      <td>-</td>\n      <td>1.0</td>\n      <td>-</td>\n      <td>19.0</td>\n    </tr>\n    <tr>\n      <th>3</th>\n      <td>-</td>\n      <td>3.0</td>\n      <td>4.0</td>\n      <td>-5.0</td>\n      <td>-</td>\n      <td>2.0</td>\n      <td>16.0</td>\n      <td>25.0</td>\n    </tr>\n    <tr>\n      <th>4</th>\n      <td>-5.0</td>\n      <td>3.0</td>\n      <td>1.0</td>\n      <td>-</td>\n      <td>-</td>\n      <td>1.0</td>\n      <td>16.0</td>\n      <td>20.0</td>\n    </tr>\n    <tr>\n      <th>5</th>\n      <td>0.0</td>\n      <td>3.0</td>\n      <td>2.0</td>\n      <td>-</td>\n      <td>-</td>\n      <td>2.0</td>\n      <td>16.0</td>\n      <td>22.0</td>\n    </tr>\n    <tr>\n      <th>6</th>\n      <td>3.0</td>\n      <td>4.0</td>\n      <td>1.0</td>\n      <td>-</td>\n      <td>-</td>\n      <td>1.0</td>\n      <td>17.0</td>\n      <td>19.0</td>\n    </tr>\n    <tr>\n      <th>7</th>\n      <td>-</td>\n      <td>-</td>\n      <td>2.0</td>\n      <td>0.0</td>\n      <td>-</td>\n      <td>1.0</td>\n      <td>15.0</td>\n      <td>24.0</td>\n    </tr>\n    <tr>\n      <th>8</th>\n      <td>-</td>\n      <td>-</td>\n      <td>-</td>\n      <td>-</td>\n      <td>-</td>\n      <td>-</td>\n      <td>16.0</td>\n      <td>21.0</td>\n    </tr>\n    <tr>\n      <th>9</th>\n      <td>-</td>\n      <td>-</td>\n      <td>-</td>\n      <td>-</td>\n      <td>-</td>\n      <td>-</td>\n      <td>-</td>\n      <td>-</td>\n    </tr>\n  </tbody>\n</table>\n</div>"
     },
     "execution_count": 53,
     "metadata": {},
     "output_type": "execute_result"
    }
   ],
   "source": [
    "comp"
   ],
   "metadata": {
    "collapsed": false
   }
  },
  {
   "cell_type": "code",
   "execution_count": 54,
   "outputs": [
    {
     "data": {
      "text/plain": "  str_diff dex_diff con_diff int_diff wis_diff cha_diff ac_diff hp_diff\n0     -4.0      1.0     -2.0      1.0        -      4.0    -2.0     2.0\n1     -1.0      1.0     -1.0        -     -1.0      2.0    -1.0    -5.0\n2     -2.0      2.0     -2.0      1.0        -      1.0       -    -4.0\n3        -      1.0      1.0     -4.0        -      2.0    -2.0     2.0\n4     -9.0      1.0     -2.0        -        -      1.0    -2.0    -3.0\n5     -4.0      1.0     -1.0        -        -      2.0    -2.0    -1.0\n6     -1.0      2.0     -2.0        -        -      1.0    -1.0    -4.0\n7        -        -     -1.0      1.0        -      1.0    -3.0     1.0\n8        -        -        -        -        -        -    -2.0    -2.0\n9        -        -        -        -        -        -       -       -",
      "text/html": "<div>\n<style scoped>\n    .dataframe tbody tr th:only-of-type {\n        vertical-align: middle;\n    }\n\n    .dataframe tbody tr th {\n        vertical-align: top;\n    }\n\n    .dataframe thead th {\n        text-align: right;\n    }\n</style>\n<table border=\"1\" class=\"dataframe\">\n  <thead>\n    <tr style=\"text-align: right;\">\n      <th></th>\n      <th>str_diff</th>\n      <th>dex_diff</th>\n      <th>con_diff</th>\n      <th>int_diff</th>\n      <th>wis_diff</th>\n      <th>cha_diff</th>\n      <th>ac_diff</th>\n      <th>hp_diff</th>\n    </tr>\n  </thead>\n  <tbody>\n    <tr>\n      <th>0</th>\n      <td>-4.0</td>\n      <td>1.0</td>\n      <td>-2.0</td>\n      <td>1.0</td>\n      <td>-</td>\n      <td>4.0</td>\n      <td>-2.0</td>\n      <td>2.0</td>\n    </tr>\n    <tr>\n      <th>1</th>\n      <td>-1.0</td>\n      <td>1.0</td>\n      <td>-1.0</td>\n      <td>-</td>\n      <td>-1.0</td>\n      <td>2.0</td>\n      <td>-1.0</td>\n      <td>-5.0</td>\n    </tr>\n    <tr>\n      <th>2</th>\n      <td>-2.0</td>\n      <td>2.0</td>\n      <td>-2.0</td>\n      <td>1.0</td>\n      <td>-</td>\n      <td>1.0</td>\n      <td>-</td>\n      <td>-4.0</td>\n    </tr>\n    <tr>\n      <th>3</th>\n      <td>-</td>\n      <td>1.0</td>\n      <td>1.0</td>\n      <td>-4.0</td>\n      <td>-</td>\n      <td>2.0</td>\n      <td>-2.0</td>\n      <td>2.0</td>\n    </tr>\n    <tr>\n      <th>4</th>\n      <td>-9.0</td>\n      <td>1.0</td>\n      <td>-2.0</td>\n      <td>-</td>\n      <td>-</td>\n      <td>1.0</td>\n      <td>-2.0</td>\n      <td>-3.0</td>\n    </tr>\n    <tr>\n      <th>5</th>\n      <td>-4.0</td>\n      <td>1.0</td>\n      <td>-1.0</td>\n      <td>-</td>\n      <td>-</td>\n      <td>2.0</td>\n      <td>-2.0</td>\n      <td>-1.0</td>\n    </tr>\n    <tr>\n      <th>6</th>\n      <td>-1.0</td>\n      <td>2.0</td>\n      <td>-2.0</td>\n      <td>-</td>\n      <td>-</td>\n      <td>1.0</td>\n      <td>-1.0</td>\n      <td>-4.0</td>\n    </tr>\n    <tr>\n      <th>7</th>\n      <td>-</td>\n      <td>-</td>\n      <td>-1.0</td>\n      <td>1.0</td>\n      <td>-</td>\n      <td>1.0</td>\n      <td>-3.0</td>\n      <td>1.0</td>\n    </tr>\n    <tr>\n      <th>8</th>\n      <td>-</td>\n      <td>-</td>\n      <td>-</td>\n      <td>-</td>\n      <td>-</td>\n      <td>-</td>\n      <td>-2.0</td>\n      <td>-2.0</td>\n    </tr>\n    <tr>\n      <th>9</th>\n      <td>-</td>\n      <td>-</td>\n      <td>-</td>\n      <td>-</td>\n      <td>-</td>\n      <td>-</td>\n      <td>-</td>\n      <td>-</td>\n    </tr>\n  </tbody>\n</table>\n</div>"
     },
     "execution_count": 54,
     "metadata": {},
     "output_type": "execute_result"
    }
   ],
   "source": [
    "diff"
   ],
   "metadata": {
    "collapsed": false
   }
  },
  {
   "cell_type": "code",
   "execution_count": null,
   "outputs": [],
   "source": [],
   "metadata": {
    "collapsed": false
   }
  }
 ],
 "metadata": {
  "kernelspec": {
   "display_name": "Python 3",
   "language": "python",
   "name": "python3"
  },
  "language_info": {
   "codemirror_mode": {
    "name": "ipython",
    "version": 2
   },
   "file_extension": ".py",
   "mimetype": "text/x-python",
   "name": "python",
   "nbconvert_exporter": "python",
   "pygments_lexer": "ipython2",
   "version": "2.7.6"
  }
 },
 "nbformat": 4,
 "nbformat_minor": 0
}
