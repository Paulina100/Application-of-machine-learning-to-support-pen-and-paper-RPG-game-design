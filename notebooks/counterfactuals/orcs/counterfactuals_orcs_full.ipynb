{
 "cells": [
  {
   "cell_type": "markdown",
   "metadata": {
    "collapsed": false,
    "jupyter": {
     "outputs_hidden": false
    }
   },
   "source": [
    "# Counterfactuals: orcs\n",
    "## 50 characteristics"
   ]
  },
  {
   "cell_type": "markdown",
   "metadata": {
    "collapsed": false,
    "jupyter": {
     "outputs_hidden": false
    }
   },
   "source": [
    "## Prepare data"
   ]
  },
  {
   "cell_type": "code",
   "execution_count": 1,
   "metadata": {},
   "outputs": [],
   "source": [
    "from training.creating_dataset import load_data, preprocess_data"
   ]
  },
  {
   "cell_type": "code",
   "execution_count": 2,
   "metadata": {
    "collapsed": false,
    "jupyter": {
     "outputs_hidden": false
    }
   },
   "outputs": [],
   "source": [
    "import pandas as pd\n",
    "import sys\n",
    "\n",
    "import os\n",
    "import pathlib\n",
    "\n",
    "sys.path.append(\"../../..\")\n",
    "\n",
    "current_path = os.getcwd()\n",
    "current_path = os.getcwd()\n",
    "DATASETS_DIR = pathlib.Path(current_path).parent.parent.parent / \"pathfinder_2e_data\"\n",
    "DATASET_FILES = [\n",
    "    \"pathfinder-bestiary.db\",\n",
    "    \"pathfinder-bestiary-2.db\",\n",
    "    \"pathfinder-bestiary-3.db\",\n",
    "]\n",
    "DATASET_PATHS = [f\"{DATASETS_DIR}/{file}\" for file in DATASET_FILES]\n",
    "\n",
    "df = load_data(DATASET_PATHS)"
   ]
  },
  {
   "cell_type": "code",
   "execution_count": 3,
   "metadata": {
    "collapsed": false,
    "jupyter": {
     "outputs_hidden": false
    }
   },
   "outputs": [
    {
     "data": {
      "text/plain": "                _id                                       img  \\\n0  024PqcF8yMRBrPuq  systems/pf2e/icons/default-icons/npc.svg   \n1  05E3kkjoLZVjFOeO  systems/pf2e/icons/default-icons/npc.svg   \n2  05wwpHHsBlxBbdkN  systems/pf2e/icons/default-icons/npc.svg   \n3  0FGz2eXm0SB04sJW  systems/pf2e/icons/default-icons/npc.svg   \n4  0HjVFx8qIKDCfblg  systems/pf2e/icons/default-icons/npc.svg   \n\n                                               items                  name  \\\n0  [{'_id': 'B7rzf0nBJmzg8x0y', 'img': 'systems/p...    Adult White Dragon   \n1  [{'_id': 'mYNDkS27YQRyy1F0', 'img': 'systems/p...          Brontosaurus   \n2  [{'_id': 'WkPeg600zGONsuJz', 'img': 'systems/p...        Giant Anaconda   \n3  [{'_id': 'joBYS96mXSnZC1WB', 'img': 'systems/p...  Ancient Green Dragon   \n4  [{'_id': 'xlUnQcjrxeMXu5Cd', 'img': 'systems/p...        Lantern Archon   \n\n  type  system.abilities.cha.mod  system.abilities.con.mod  \\\n0  npc                         1                         5   \n1  npc                         1                         5   \n2  npc                        -2                         6   \n3  npc                         6                         5   \n4  npc                         1                         1   \n\n   system.abilities.dex.mod  system.abilities.int.mod  \\\n0                         2                         1   \n1                         0                        -4   \n2                         3                        -4   \n3                         4                         6   \n4                         3                        -1   \n\n   system.abilities.str.mod  ...  system.traits.size.value  \\\n0                         7  ...                        lg   \n1                         9  ...                       grg   \n2                         7  ...                      huge   \n3                         7  ...                       grg   \n4                        -5  ...                        sm   \n\n    system.traits.value  system.schema.version system.schema.lastMigration  \\\n0        [cold, dragon]                  0.827                        None   \n1    [animal, dinosaur]                  0.827                        None   \n2              [animal]                  0.827                        None   \n3  [amphibious, dragon]                  0.827                        None   \n4   [archon, celestial]                  0.827                        None   \n\n                                 flags.core.sourceId  \\\n0  Compendium.pf2e.pathfinder-bestiary.024PqcF8yM...   \n1  Compendium.pf2e.pathfinder-bestiary.05E3kkjoLZ...   \n2  Compendium.pf2e.pathfinder-bestiary.05wwpHHsBl...   \n3  Compendium.pf2e.pathfinder-bestiary.0FGz2eXm0S...   \n4  Compendium.pf2e.pathfinder-bestiary.0HjVFx8qIK...   \n\n    system.attributes.resistances  system.traits.attitude.value  \\\n0                             NaN                           NaN   \n1                             NaN                           NaN   \n2                             NaN                           NaN   \n3                             NaN                           NaN   \n4  [{'type': 'fire', 'value': 3}]                           NaN   \n\n   prototypeToken.name system.attributes.hardness.value  \\\n0                  NaN                              NaN   \n1                  NaN                              NaN   \n2                  NaN                              NaN   \n3                  NaN                              NaN   \n4                  NaN                              NaN   \n\n  system.attributes.adjustment  \n0                          NaN  \n1                          NaN  \n2                          NaN  \n3                          NaN  \n4                          NaN  \n\n[5 rows x 55 columns]",
      "text/html": "<div>\n<style scoped>\n    .dataframe tbody tr th:only-of-type {\n        vertical-align: middle;\n    }\n\n    .dataframe tbody tr th {\n        vertical-align: top;\n    }\n\n    .dataframe thead th {\n        text-align: right;\n    }\n</style>\n<table border=\"1\" class=\"dataframe\">\n  <thead>\n    <tr style=\"text-align: right;\">\n      <th></th>\n      <th>_id</th>\n      <th>img</th>\n      <th>items</th>\n      <th>name</th>\n      <th>type</th>\n      <th>system.abilities.cha.mod</th>\n      <th>system.abilities.con.mod</th>\n      <th>system.abilities.dex.mod</th>\n      <th>system.abilities.int.mod</th>\n      <th>system.abilities.str.mod</th>\n      <th>...</th>\n      <th>system.traits.size.value</th>\n      <th>system.traits.value</th>\n      <th>system.schema.version</th>\n      <th>system.schema.lastMigration</th>\n      <th>flags.core.sourceId</th>\n      <th>system.attributes.resistances</th>\n      <th>system.traits.attitude.value</th>\n      <th>prototypeToken.name</th>\n      <th>system.attributes.hardness.value</th>\n      <th>system.attributes.adjustment</th>\n    </tr>\n  </thead>\n  <tbody>\n    <tr>\n      <th>0</th>\n      <td>024PqcF8yMRBrPuq</td>\n      <td>systems/pf2e/icons/default-icons/npc.svg</td>\n      <td>[{'_id': 'B7rzf0nBJmzg8x0y', 'img': 'systems/p...</td>\n      <td>Adult White Dragon</td>\n      <td>npc</td>\n      <td>1</td>\n      <td>5</td>\n      <td>2</td>\n      <td>1</td>\n      <td>7</td>\n      <td>...</td>\n      <td>lg</td>\n      <td>[cold, dragon]</td>\n      <td>0.827</td>\n      <td>None</td>\n      <td>Compendium.pf2e.pathfinder-bestiary.024PqcF8yM...</td>\n      <td>NaN</td>\n      <td>NaN</td>\n      <td>NaN</td>\n      <td>NaN</td>\n      <td>NaN</td>\n    </tr>\n    <tr>\n      <th>1</th>\n      <td>05E3kkjoLZVjFOeO</td>\n      <td>systems/pf2e/icons/default-icons/npc.svg</td>\n      <td>[{'_id': 'mYNDkS27YQRyy1F0', 'img': 'systems/p...</td>\n      <td>Brontosaurus</td>\n      <td>npc</td>\n      <td>1</td>\n      <td>5</td>\n      <td>0</td>\n      <td>-4</td>\n      <td>9</td>\n      <td>...</td>\n      <td>grg</td>\n      <td>[animal, dinosaur]</td>\n      <td>0.827</td>\n      <td>None</td>\n      <td>Compendium.pf2e.pathfinder-bestiary.05E3kkjoLZ...</td>\n      <td>NaN</td>\n      <td>NaN</td>\n      <td>NaN</td>\n      <td>NaN</td>\n      <td>NaN</td>\n    </tr>\n    <tr>\n      <th>2</th>\n      <td>05wwpHHsBlxBbdkN</td>\n      <td>systems/pf2e/icons/default-icons/npc.svg</td>\n      <td>[{'_id': 'WkPeg600zGONsuJz', 'img': 'systems/p...</td>\n      <td>Giant Anaconda</td>\n      <td>npc</td>\n      <td>-2</td>\n      <td>6</td>\n      <td>3</td>\n      <td>-4</td>\n      <td>7</td>\n      <td>...</td>\n      <td>huge</td>\n      <td>[animal]</td>\n      <td>0.827</td>\n      <td>None</td>\n      <td>Compendium.pf2e.pathfinder-bestiary.05wwpHHsBl...</td>\n      <td>NaN</td>\n      <td>NaN</td>\n      <td>NaN</td>\n      <td>NaN</td>\n      <td>NaN</td>\n    </tr>\n    <tr>\n      <th>3</th>\n      <td>0FGz2eXm0SB04sJW</td>\n      <td>systems/pf2e/icons/default-icons/npc.svg</td>\n      <td>[{'_id': 'joBYS96mXSnZC1WB', 'img': 'systems/p...</td>\n      <td>Ancient Green Dragon</td>\n      <td>npc</td>\n      <td>6</td>\n      <td>5</td>\n      <td>4</td>\n      <td>6</td>\n      <td>7</td>\n      <td>...</td>\n      <td>grg</td>\n      <td>[amphibious, dragon]</td>\n      <td>0.827</td>\n      <td>None</td>\n      <td>Compendium.pf2e.pathfinder-bestiary.0FGz2eXm0S...</td>\n      <td>NaN</td>\n      <td>NaN</td>\n      <td>NaN</td>\n      <td>NaN</td>\n      <td>NaN</td>\n    </tr>\n    <tr>\n      <th>4</th>\n      <td>0HjVFx8qIKDCfblg</td>\n      <td>systems/pf2e/icons/default-icons/npc.svg</td>\n      <td>[{'_id': 'xlUnQcjrxeMXu5Cd', 'img': 'systems/p...</td>\n      <td>Lantern Archon</td>\n      <td>npc</td>\n      <td>1</td>\n      <td>1</td>\n      <td>3</td>\n      <td>-1</td>\n      <td>-5</td>\n      <td>...</td>\n      <td>sm</td>\n      <td>[archon, celestial]</td>\n      <td>0.827</td>\n      <td>None</td>\n      <td>Compendium.pf2e.pathfinder-bestiary.0HjVFx8qIK...</td>\n      <td>[{'type': 'fire', 'value': 3}]</td>\n      <td>NaN</td>\n      <td>NaN</td>\n      <td>NaN</td>\n      <td>NaN</td>\n    </tr>\n  </tbody>\n</table>\n<p>5 rows × 55 columns</p>\n</div>"
     },
     "execution_count": 3,
     "metadata": {},
     "output_type": "execute_result"
    }
   ],
   "source": [
    "df.head()"
   ]
  },
  {
   "cell_type": "code",
   "execution_count": 4,
   "metadata": {
    "collapsed": false,
    "jupyter": {
     "outputs_hidden": false
    }
   },
   "outputs": [],
   "source": [
    "df_orcs = df[df.name.str.contains(\"Orc \")]"
   ]
  },
  {
   "cell_type": "code",
   "execution_count": 5,
   "metadata": {
    "collapsed": false,
    "jupyter": {
     "outputs_hidden": false
    }
   },
   "outputs": [
    {
     "data": {
      "text/plain": "{'Orc Warchief': 240, 'Orc Brute': 284, 'Orc Warrior': 323}"
     },
     "execution_count": 5,
     "metadata": {},
     "output_type": "execute_result"
    }
   ],
   "source": [
    "orcs_ids_names = {df_orcs.loc[idx][\"name\"]: idx for idx in df_orcs.index}\n",
    "orcs_ids_names"
   ]
  },
  {
   "cell_type": "code",
   "execution_count": 6,
   "metadata": {
    "collapsed": false,
    "jupyter": {
     "outputs_hidden": false
    }
   },
   "outputs": [],
   "source": [
    "characteristics = [\n",
    "    \"cha\",\n",
    "    \"con\",\n",
    "    \"dex\",\n",
    "    \"int\",\n",
    "    \"str\",\n",
    "    \"wis\",\n",
    "    \"ac\",\n",
    "    \"hp\",\n",
    "    \"perception\",\n",
    "    \"fortitude\",\n",
    "    \"reflex\",\n",
    "    \"will\",\n",
    "    \"focus\",\n",
    "    \"land_speed\",\n",
    "    \"num_immunities\",\n",
    "    \"fly\",\n",
    "    \"swim\",\n",
    "    \"climb\",\n",
    "    \"fire_resistance\",\n",
    "    \"cold_resistance\",\n",
    "    \"electricity_resistance\",\n",
    "    \"acid_resistance\",\n",
    "    \"piercing_resistance\",\n",
    "    \"slashing_resistance\",\n",
    "    \"physical_resistance\",\n",
    "    \"bludgeoning_resistance\",\n",
    "    \"mental_resistance\",\n",
    "    \"poison_resistance\",\n",
    "    \"all-damage_resistance\",\n",
    "    \"cold-iron_weakness\",\n",
    "    \"good_weakness\",\n",
    "    \"fire_weakness\",\n",
    "    \"cold_weakness\",\n",
    "    \"area-damage_weakness\",\n",
    "    \"splash-damage_weakness\",\n",
    "    \"evil_weakness\",\n",
    "    \"slashing_weakness\",\n",
    "    \"melee\",\n",
    "    \"ranged\",\n",
    "    \"spells\",\n",
    "]"
   ]
  },
  {
   "cell_type": "code",
   "execution_count": 7,
   "metadata": {
    "collapsed": false,
    "jupyter": {
     "outputs_hidden": false
    }
   },
   "outputs": [
    {
     "data": {
      "text/plain": "     con  will  level  perception                 book  focus  num_immunities  \\\n240    1     7      2          11  Pathfinder Bestiary      0               0   \n284    3     2      0           5  Pathfinder Bestiary      0               0   \n323    3     4      1           6  Pathfinder Bestiary      0               0   \n\n     cha  str  fortitude  ...  spells_nr_lvl_4  spells_nr_lvl_5  \\\n240    2    4          7  ...                0                0   \n284    0    3          6  ...                0                0   \n323    0    4          8  ...                0                0   \n\n     spells_nr_lvl_6  spells_nr_lvl_7  spells_nr_lvl_8  spells_nr_lvl_9  \\\n240                0                0                0                0   \n284                0                0                0                0   \n323                0                0                0                0   \n\n     melee_max_bonus  avg_melee_dmg  ranged_max_bonus  avg_ranged_dmg  \n240               10            6.5                 8             7.5  \n284                7            5.5                 4             6.5  \n323                7            6.5                 5             7.5  \n\n[3 rows x 52 columns]",
      "text/html": "<div>\n<style scoped>\n    .dataframe tbody tr th:only-of-type {\n        vertical-align: middle;\n    }\n\n    .dataframe tbody tr th {\n        vertical-align: top;\n    }\n\n    .dataframe thead th {\n        text-align: right;\n    }\n</style>\n<table border=\"1\" class=\"dataframe\">\n  <thead>\n    <tr style=\"text-align: right;\">\n      <th></th>\n      <th>con</th>\n      <th>will</th>\n      <th>level</th>\n      <th>perception</th>\n      <th>book</th>\n      <th>focus</th>\n      <th>num_immunities</th>\n      <th>cha</th>\n      <th>str</th>\n      <th>fortitude</th>\n      <th>...</th>\n      <th>spells_nr_lvl_4</th>\n      <th>spells_nr_lvl_5</th>\n      <th>spells_nr_lvl_6</th>\n      <th>spells_nr_lvl_7</th>\n      <th>spells_nr_lvl_8</th>\n      <th>spells_nr_lvl_9</th>\n      <th>melee_max_bonus</th>\n      <th>avg_melee_dmg</th>\n      <th>ranged_max_bonus</th>\n      <th>avg_ranged_dmg</th>\n    </tr>\n  </thead>\n  <tbody>\n    <tr>\n      <th>240</th>\n      <td>1</td>\n      <td>7</td>\n      <td>2</td>\n      <td>11</td>\n      <td>Pathfinder Bestiary</td>\n      <td>0</td>\n      <td>0</td>\n      <td>2</td>\n      <td>4</td>\n      <td>7</td>\n      <td>...</td>\n      <td>0</td>\n      <td>0</td>\n      <td>0</td>\n      <td>0</td>\n      <td>0</td>\n      <td>0</td>\n      <td>10</td>\n      <td>6.5</td>\n      <td>8</td>\n      <td>7.5</td>\n    </tr>\n    <tr>\n      <th>284</th>\n      <td>3</td>\n      <td>2</td>\n      <td>0</td>\n      <td>5</td>\n      <td>Pathfinder Bestiary</td>\n      <td>0</td>\n      <td>0</td>\n      <td>0</td>\n      <td>3</td>\n      <td>6</td>\n      <td>...</td>\n      <td>0</td>\n      <td>0</td>\n      <td>0</td>\n      <td>0</td>\n      <td>0</td>\n      <td>0</td>\n      <td>7</td>\n      <td>5.5</td>\n      <td>4</td>\n      <td>6.5</td>\n    </tr>\n    <tr>\n      <th>323</th>\n      <td>3</td>\n      <td>4</td>\n      <td>1</td>\n      <td>6</td>\n      <td>Pathfinder Bestiary</td>\n      <td>0</td>\n      <td>0</td>\n      <td>0</td>\n      <td>4</td>\n      <td>8</td>\n      <td>...</td>\n      <td>0</td>\n      <td>0</td>\n      <td>0</td>\n      <td>0</td>\n      <td>0</td>\n      <td>0</td>\n      <td>7</td>\n      <td>6.5</td>\n      <td>5</td>\n      <td>7.5</td>\n    </tr>\n  </tbody>\n</table>\n<p>3 rows × 52 columns</p>\n</div>"
     },
     "execution_count": 7,
     "metadata": {},
     "output_type": "execute_result"
    }
   ],
   "source": [
    "from serving.backend.constants import ORDERED_CHARACTERISTICS_50\n",
    "\n",
    "\n",
    "orcs = preprocess_data(df_orcs, characteristics)\n",
    "orcs"
   ]
  },
  {
   "cell_type": "code",
   "execution_count": 8,
   "metadata": {
    "collapsed": false,
    "jupyter": {
     "outputs_hidden": false
    }
   },
   "outputs": [
    {
     "data": {
      "text/plain": "     str  dex  con  int  wis  cha  ac  hp  perception  fortitude  ...  \\\n240    4    2    1   -1    1    2  19  32          11          7  ...   \n284    3    2    3   -1    1    0  15  15           5          6  ...   \n323    4    2    3   -1    1    0  18  23           6          8  ...   \n\n     spells_nr_lvl_5  spells_nr_lvl_6  spells_nr_lvl_7  spells_nr_lvl_8  \\\n240                0                0                0                0   \n284                0                0                0                0   \n323                0                0                0                0   \n\n     spells_nr_lvl_9  melee_max_bonus  avg_melee_dmg  ranged_max_bonus  \\\n240                0               10            6.5                 8   \n284                0                7            5.5                 4   \n323                0                7            6.5                 5   \n\n     avg_ranged_dmg  level  \n240             7.5      2  \n284             6.5      0  \n323             7.5      1  \n\n[3 rows x 51 columns]",
      "text/html": "<div>\n<style scoped>\n    .dataframe tbody tr th:only-of-type {\n        vertical-align: middle;\n    }\n\n    .dataframe tbody tr th {\n        vertical-align: top;\n    }\n\n    .dataframe thead th {\n        text-align: right;\n    }\n</style>\n<table border=\"1\" class=\"dataframe\">\n  <thead>\n    <tr style=\"text-align: right;\">\n      <th></th>\n      <th>str</th>\n      <th>dex</th>\n      <th>con</th>\n      <th>int</th>\n      <th>wis</th>\n      <th>cha</th>\n      <th>ac</th>\n      <th>hp</th>\n      <th>perception</th>\n      <th>fortitude</th>\n      <th>...</th>\n      <th>spells_nr_lvl_5</th>\n      <th>spells_nr_lvl_6</th>\n      <th>spells_nr_lvl_7</th>\n      <th>spells_nr_lvl_8</th>\n      <th>spells_nr_lvl_9</th>\n      <th>melee_max_bonus</th>\n      <th>avg_melee_dmg</th>\n      <th>ranged_max_bonus</th>\n      <th>avg_ranged_dmg</th>\n      <th>level</th>\n    </tr>\n  </thead>\n  <tbody>\n    <tr>\n      <th>240</th>\n      <td>4</td>\n      <td>2</td>\n      <td>1</td>\n      <td>-1</td>\n      <td>1</td>\n      <td>2</td>\n      <td>19</td>\n      <td>32</td>\n      <td>11</td>\n      <td>7</td>\n      <td>...</td>\n      <td>0</td>\n      <td>0</td>\n      <td>0</td>\n      <td>0</td>\n      <td>0</td>\n      <td>10</td>\n      <td>6.5</td>\n      <td>8</td>\n      <td>7.5</td>\n      <td>2</td>\n    </tr>\n    <tr>\n      <th>284</th>\n      <td>3</td>\n      <td>2</td>\n      <td>3</td>\n      <td>-1</td>\n      <td>1</td>\n      <td>0</td>\n      <td>15</td>\n      <td>15</td>\n      <td>5</td>\n      <td>6</td>\n      <td>...</td>\n      <td>0</td>\n      <td>0</td>\n      <td>0</td>\n      <td>0</td>\n      <td>0</td>\n      <td>7</td>\n      <td>5.5</td>\n      <td>4</td>\n      <td>6.5</td>\n      <td>0</td>\n    </tr>\n    <tr>\n      <th>323</th>\n      <td>4</td>\n      <td>2</td>\n      <td>3</td>\n      <td>-1</td>\n      <td>1</td>\n      <td>0</td>\n      <td>18</td>\n      <td>23</td>\n      <td>6</td>\n      <td>8</td>\n      <td>...</td>\n      <td>0</td>\n      <td>0</td>\n      <td>0</td>\n      <td>0</td>\n      <td>0</td>\n      <td>7</td>\n      <td>6.5</td>\n      <td>5</td>\n      <td>7.5</td>\n      <td>1</td>\n    </tr>\n  </tbody>\n</table>\n<p>3 rows × 51 columns</p>\n</div>"
     },
     "execution_count": 8,
     "metadata": {},
     "output_type": "execute_result"
    }
   ],
   "source": [
    "orcs = orcs[ORDERED_CHARACTERISTICS_50 + [\"level\"]]\n",
    "orcs"
   ]
  },
  {
   "cell_type": "code",
   "execution_count": 9,
   "metadata": {
    "collapsed": false,
    "jupyter": {
     "outputs_hidden": false
    }
   },
   "outputs": [],
   "source": [
    "dataset = preprocess_data(df, characteristics)\n",
    "dataset = dataset[ORDERED_CHARACTERISTICS_50 + [\"level\"]]"
   ]
  },
  {
   "cell_type": "code",
   "execution_count": 10,
   "metadata": {
    "collapsed": false,
    "jupyter": {
     "outputs_hidden": false
    }
   },
   "outputs": [
    {
     "data": {
      "text/plain": "   str  dex  con  int  wis  cha  ac   hp  perception  fortitude  ...  \\\n0    7    2    5    1    2    1  29  215          20         22  ...   \n1    9    0    5   -4    2    1  28  220          16         21  ...   \n2    7    3    6   -4    3   -2  25  175          17         20  ...   \n3    7    4    5    6    5    6  41  315          30         30  ...   \n4   -5    3    1   -1    1    1  16   20           6          6  ...   \n\n   spells_nr_lvl_5  spells_nr_lvl_6  spells_nr_lvl_7  spells_nr_lvl_8  \\\n0                0                0                0                0   \n1                0                0                0                0   \n2                0                0                0                0   \n3                0                1                0                0   \n4                0                0                0                0   \n\n   spells_nr_lvl_9  melee_max_bonus  avg_melee_dmg  ranged_max_bonus  \\\n0                0               23           22.0                 0   \n1                0               23           22.0                 0   \n2                0               21           16.0                 0   \n3                0               33           31.5                 0   \n4                0                0            0.0                 8   \n\n   avg_ranged_dmg  level  \n0             0.0     10  \n1             0.0     10  \n2             0.0      8  \n3             0.0     17  \n4             5.0      1  \n\n[5 rows x 51 columns]",
      "text/html": "<div>\n<style scoped>\n    .dataframe tbody tr th:only-of-type {\n        vertical-align: middle;\n    }\n\n    .dataframe tbody tr th {\n        vertical-align: top;\n    }\n\n    .dataframe thead th {\n        text-align: right;\n    }\n</style>\n<table border=\"1\" class=\"dataframe\">\n  <thead>\n    <tr style=\"text-align: right;\">\n      <th></th>\n      <th>str</th>\n      <th>dex</th>\n      <th>con</th>\n      <th>int</th>\n      <th>wis</th>\n      <th>cha</th>\n      <th>ac</th>\n      <th>hp</th>\n      <th>perception</th>\n      <th>fortitude</th>\n      <th>...</th>\n      <th>spells_nr_lvl_5</th>\n      <th>spells_nr_lvl_6</th>\n      <th>spells_nr_lvl_7</th>\n      <th>spells_nr_lvl_8</th>\n      <th>spells_nr_lvl_9</th>\n      <th>melee_max_bonus</th>\n      <th>avg_melee_dmg</th>\n      <th>ranged_max_bonus</th>\n      <th>avg_ranged_dmg</th>\n      <th>level</th>\n    </tr>\n  </thead>\n  <tbody>\n    <tr>\n      <th>0</th>\n      <td>7</td>\n      <td>2</td>\n      <td>5</td>\n      <td>1</td>\n      <td>2</td>\n      <td>1</td>\n      <td>29</td>\n      <td>215</td>\n      <td>20</td>\n      <td>22</td>\n      <td>...</td>\n      <td>0</td>\n      <td>0</td>\n      <td>0</td>\n      <td>0</td>\n      <td>0</td>\n      <td>23</td>\n      <td>22.0</td>\n      <td>0</td>\n      <td>0.0</td>\n      <td>10</td>\n    </tr>\n    <tr>\n      <th>1</th>\n      <td>9</td>\n      <td>0</td>\n      <td>5</td>\n      <td>-4</td>\n      <td>2</td>\n      <td>1</td>\n      <td>28</td>\n      <td>220</td>\n      <td>16</td>\n      <td>21</td>\n      <td>...</td>\n      <td>0</td>\n      <td>0</td>\n      <td>0</td>\n      <td>0</td>\n      <td>0</td>\n      <td>23</td>\n      <td>22.0</td>\n      <td>0</td>\n      <td>0.0</td>\n      <td>10</td>\n    </tr>\n    <tr>\n      <th>2</th>\n      <td>7</td>\n      <td>3</td>\n      <td>6</td>\n      <td>-4</td>\n      <td>3</td>\n      <td>-2</td>\n      <td>25</td>\n      <td>175</td>\n      <td>17</td>\n      <td>20</td>\n      <td>...</td>\n      <td>0</td>\n      <td>0</td>\n      <td>0</td>\n      <td>0</td>\n      <td>0</td>\n      <td>21</td>\n      <td>16.0</td>\n      <td>0</td>\n      <td>0.0</td>\n      <td>8</td>\n    </tr>\n    <tr>\n      <th>3</th>\n      <td>7</td>\n      <td>4</td>\n      <td>5</td>\n      <td>6</td>\n      <td>5</td>\n      <td>6</td>\n      <td>41</td>\n      <td>315</td>\n      <td>30</td>\n      <td>30</td>\n      <td>...</td>\n      <td>0</td>\n      <td>1</td>\n      <td>0</td>\n      <td>0</td>\n      <td>0</td>\n      <td>33</td>\n      <td>31.5</td>\n      <td>0</td>\n      <td>0.0</td>\n      <td>17</td>\n    </tr>\n    <tr>\n      <th>4</th>\n      <td>-5</td>\n      <td>3</td>\n      <td>1</td>\n      <td>-1</td>\n      <td>1</td>\n      <td>1</td>\n      <td>16</td>\n      <td>20</td>\n      <td>6</td>\n      <td>6</td>\n      <td>...</td>\n      <td>0</td>\n      <td>0</td>\n      <td>0</td>\n      <td>0</td>\n      <td>0</td>\n      <td>0</td>\n      <td>0.0</td>\n      <td>8</td>\n      <td>5.0</td>\n      <td>1</td>\n    </tr>\n  </tbody>\n</table>\n<p>5 rows × 51 columns</p>\n</div>"
     },
     "execution_count": 10,
     "metadata": {},
     "output_type": "execute_result"
    }
   ],
   "source": [
    "dataset.head()"
   ]
  },
  {
   "cell_type": "code",
   "execution_count": null,
   "metadata": {
    "collapsed": false,
    "jupyter": {
     "outputs_hidden": false
    },
    "pycharm": {
     "is_executing": true
    }
   },
   "outputs": [],
   "source": [
    "from training.create_model import get_fitted_model\n",
    "\n",
    "\n",
    "model = get_fitted_model(\n",
    "    classifier_name=\"lightgbm\",\n",
    "    X_train=dataset[ORDERED_CHARACTERISTICS_50],\n",
    "    y_train=dataset[\"level\"],\n",
    ")"
   ]
  },
  {
   "cell_type": "markdown",
   "metadata": {
    "collapsed": false,
    "jupyter": {
     "outputs_hidden": false
    }
   },
   "source": [
    "## Counterfactuals for orcs"
   ]
  },
  {
   "cell_type": "code",
   "execution_count": 12,
   "metadata": {
    "collapsed": false,
    "jupyter": {
     "outputs_hidden": false
    }
   },
   "outputs": [
    {
     "name": "stderr",
     "output_type": "stream",
     "text": [
      "C:\\Users\\jolka\\OneDrive\\Dokumenty\\Inzynierka\\ML-for-TTRPG-game-design\\venv\\lib\\site-packages\\dice_ml\\utils\\exception.py:12: UserWarning: UserConfigValidationException will be deprecated from dice_ml.utils. Please import UserConfigValidationException from raiutils.exceptions.\n",
      "  warnings.warn(\"UserConfigValidationException will be deprecated from dice_ml.utils. \"\n"
     ]
    }
   ],
   "source": [
    "from serving.backend.generate_counterfactuals import generate_counterfactuals"
   ]
  },
  {
   "cell_type": "code",
   "execution_count": 13,
   "metadata": {
    "collapsed": false,
    "jupyter": {
     "outputs_hidden": false
    }
   },
   "outputs": [],
   "source": [
    "orc_brute = orcs.loc[orcs_ids_names[\"Orc Brute\"]].to_dict()\n",
    "orc_warrior = orcs.loc[orcs_ids_names[\"Orc Warrior\"]].to_dict()\n",
    "orc_warchief = orcs.loc[orcs_ids_names[\"Orc Warchief\"]].to_dict()"
   ]
  },
  {
   "cell_type": "markdown",
   "metadata": {
    "collapsed": false,
    "jupyter": {
     "outputs_hidden": false
    }
   },
   "source": [
    "### Orc Brute"
   ]
  },
  {
   "cell_type": "code",
   "execution_count": 52,
   "metadata": {
    "collapsed": false,
    "jupyter": {
     "outputs_hidden": false
    }
   },
   "outputs": [
    {
     "name": "stderr",
     "output_type": "stream",
     "text": [
      "100%|██████████| 1/1 [00:00<00:00,  1.14it/s]\n"
     ]
    }
   ],
   "source": [
    "result = generate_counterfactuals(\n",
    "    monster_stats=orc_brute,\n",
    "    model=model,\n",
    "    new_level=1,\n",
    "    df=dataset,\n",
    "    total_cf=10,\n",
    "    ordered_characteristics=ORDERED_CHARACTERISTICS_50,\n",
    ")"
   ]
  },
  {
   "cell_type": "code",
   "execution_count": 53,
   "metadata": {
    "collapsed": false,
    "jupyter": {
     "outputs_hidden": false
    }
   },
   "outputs": [],
   "source": [
    "diff_columns = [f\"{col}_diff\" for col in ORDERED_CHARACTERISTICS_50]\n",
    "\n",
    "\n",
    "def compare_monsters(cfs, compare_to_monster):\n",
    "    compare_df = pd.DataFrame(columns=ORDERED_CHARACTERISTICS_50)\n",
    "    diff_df = pd.DataFrame(columns=diff_columns)\n",
    "\n",
    "    for cf in cfs:\n",
    "        cfs_comp_dict = dict()\n",
    "        diff_dict = dict()\n",
    "        for i, col in enumerate(ORDERED_CHARACTERISTICS_50):\n",
    "            val = cf[i]\n",
    "            cfs_comp_dict[col] = [val] if val != compare_to_monster[col] else [\"-\"]\n",
    "            diff_dict[f\"{col}_diff\"] = (\n",
    "                [val - compare_to_monster[col]]\n",
    "                if val != compare_to_monster[col]\n",
    "                else [\"-\"]\n",
    "            )\n",
    "\n",
    "        comparison = pd.DataFrame.from_dict(cfs_comp_dict)\n",
    "        difference = pd.DataFrame.from_dict(diff_dict)\n",
    "        compare_df = pd.concat([comparison, compare_df.loc[:]]).reset_index(drop=True)\n",
    "        diff_df = pd.concat([difference, diff_df]).reset_index(drop=True)\n",
    "\n",
    "    return compare_df, diff_df"
   ]
  },
  {
   "cell_type": "code",
   "execution_count": 54,
   "outputs": [],
   "source": [
    "from serving.backend.calculate_level import calculate_level\n",
    "\n",
    "\n",
    "def test_cfs(cfs, new_level):\n",
    "    for cf in cfs:\n",
    "        print(model.predict(pd.DataFrame.from_records([cf])))\n",
    "        assert calculate_level(cf, model) == new_level"
   ],
   "metadata": {
    "collapsed": false
   }
  },
  {
   "cell_type": "code",
   "execution_count": 55,
   "outputs": [
    {
     "name": "stdout",
     "output_type": "stream",
     "text": [
      "[1.0009485]\n",
      "[0.9999332]\n",
      "[1.00029838]\n",
      "[1.00004102]\n",
      "[1.00023972]\n",
      "[1.00027958]\n",
      "[1.00006078]\n",
      "[1.00030734]\n",
      "[0.99988163]\n",
      "[1.00032894]\n"
     ]
    }
   ],
   "source": [
    "test_cfs(result[\"values\"], 1)"
   ],
   "metadata": {
    "collapsed": false
   }
  },
  {
   "cell_type": "markdown",
   "source": [
    "##### Compare to original data"
   ],
   "metadata": {
    "collapsed": false
   }
  },
  {
   "cell_type": "code",
   "execution_count": 56,
   "metadata": {
    "collapsed": false,
    "jupyter": {
     "outputs_hidden": false
    }
   },
   "outputs": [
    {
     "data": {
      "text/plain": "   str  dex  con  int  wis  cha    ac    hp perception fortitude  ...  \\\n0  2.0  4.0  2.0    -  2.0    -  17.0  20.0          -       5.0  ...   \n1    -    -    -    -  2.0    -  16.0  21.0        7.0       8.0  ...   \n2  0.0  3.0  2.0  1.0  2.0  1.0  16.0  21.0          -       7.0  ...   \n3  0.0    -    -  1.0 -1.0  4.0  16.0  19.0        4.0       8.0  ...   \n4  2.0    -  0.0  1.0  0.0  4.0     -  16.0          -       3.0  ...   \n5    -  4.0  1.0    -    -  1.0  17.0  19.0        6.0         -  ...   \n6    -  3.0  2.0    -  0.0  2.0  17.0  18.0          -       7.0  ...   \n7    -  4.0    - -4.0    -    -  16.0  21.0        6.0       8.0  ...   \n8  4.0    -    -    -    -    -  16.0  21.0        6.0       8.0  ...   \n9  4.0    -    -    -    -    -  18.0  23.0        6.0       8.0  ...   \n\n   spells_nr_lvl_4  spells_nr_lvl_5 spells_nr_lvl_6 spells_nr_lvl_7  \\\n0              1.0                -               -               -   \n1                -                -               -               -   \n2                -                -               -               -   \n3                -                -               -               -   \n4                -                -               -               -   \n5                -                -               -               -   \n6                -                -               -               -   \n7                -                -               -               -   \n8                -                -               -               -   \n9                -                -               -               -   \n\n  spells_nr_lvl_8 spells_nr_lvl_9 melee_max_bonus avg_melee_dmg  \\\n0               -               -               -           4.5   \n1               -               -             8.0             -   \n2               -               -             8.0             -   \n3               -               -               -           2.5   \n4               -               -               -             -   \n5               -               -             9.0             -   \n6               -               -             8.0           7.5   \n7               -               -             8.0             -   \n8               -               -             9.0           6.5   \n9               -               -               -           6.5   \n\n  ranged_max_bonus avg_ranged_dmg  \n0              9.0            5.5  \n1              7.0              -  \n2              8.0            4.5  \n3              7.0            3.5  \n4              0.0            0.0  \n5              9.0            5.5  \n6              8.0            3.5  \n7              0.0            0.0  \n8              7.0            7.5  \n9              5.0            7.5  \n\n[10 rows x 50 columns]",
      "text/html": "<div>\n<style scoped>\n    .dataframe tbody tr th:only-of-type {\n        vertical-align: middle;\n    }\n\n    .dataframe tbody tr th {\n        vertical-align: top;\n    }\n\n    .dataframe thead th {\n        text-align: right;\n    }\n</style>\n<table border=\"1\" class=\"dataframe\">\n  <thead>\n    <tr style=\"text-align: right;\">\n      <th></th>\n      <th>str</th>\n      <th>dex</th>\n      <th>con</th>\n      <th>int</th>\n      <th>wis</th>\n      <th>cha</th>\n      <th>ac</th>\n      <th>hp</th>\n      <th>perception</th>\n      <th>fortitude</th>\n      <th>...</th>\n      <th>spells_nr_lvl_4</th>\n      <th>spells_nr_lvl_5</th>\n      <th>spells_nr_lvl_6</th>\n      <th>spells_nr_lvl_7</th>\n      <th>spells_nr_lvl_8</th>\n      <th>spells_nr_lvl_9</th>\n      <th>melee_max_bonus</th>\n      <th>avg_melee_dmg</th>\n      <th>ranged_max_bonus</th>\n      <th>avg_ranged_dmg</th>\n    </tr>\n  </thead>\n  <tbody>\n    <tr>\n      <th>0</th>\n      <td>2.0</td>\n      <td>4.0</td>\n      <td>2.0</td>\n      <td>-</td>\n      <td>2.0</td>\n      <td>-</td>\n      <td>17.0</td>\n      <td>20.0</td>\n      <td>-</td>\n      <td>5.0</td>\n      <td>...</td>\n      <td>1.0</td>\n      <td>-</td>\n      <td>-</td>\n      <td>-</td>\n      <td>-</td>\n      <td>-</td>\n      <td>-</td>\n      <td>4.5</td>\n      <td>9.0</td>\n      <td>5.5</td>\n    </tr>\n    <tr>\n      <th>1</th>\n      <td>-</td>\n      <td>-</td>\n      <td>-</td>\n      <td>-</td>\n      <td>2.0</td>\n      <td>-</td>\n      <td>16.0</td>\n      <td>21.0</td>\n      <td>7.0</td>\n      <td>8.0</td>\n      <td>...</td>\n      <td>-</td>\n      <td>-</td>\n      <td>-</td>\n      <td>-</td>\n      <td>-</td>\n      <td>-</td>\n      <td>8.0</td>\n      <td>-</td>\n      <td>7.0</td>\n      <td>-</td>\n    </tr>\n    <tr>\n      <th>2</th>\n      <td>0.0</td>\n      <td>3.0</td>\n      <td>2.0</td>\n      <td>1.0</td>\n      <td>2.0</td>\n      <td>1.0</td>\n      <td>16.0</td>\n      <td>21.0</td>\n      <td>-</td>\n      <td>7.0</td>\n      <td>...</td>\n      <td>-</td>\n      <td>-</td>\n      <td>-</td>\n      <td>-</td>\n      <td>-</td>\n      <td>-</td>\n      <td>8.0</td>\n      <td>-</td>\n      <td>8.0</td>\n      <td>4.5</td>\n    </tr>\n    <tr>\n      <th>3</th>\n      <td>0.0</td>\n      <td>-</td>\n      <td>-</td>\n      <td>1.0</td>\n      <td>-1.0</td>\n      <td>4.0</td>\n      <td>16.0</td>\n      <td>19.0</td>\n      <td>4.0</td>\n      <td>8.0</td>\n      <td>...</td>\n      <td>-</td>\n      <td>-</td>\n      <td>-</td>\n      <td>-</td>\n      <td>-</td>\n      <td>-</td>\n      <td>-</td>\n      <td>2.5</td>\n      <td>7.0</td>\n      <td>3.5</td>\n    </tr>\n    <tr>\n      <th>4</th>\n      <td>2.0</td>\n      <td>-</td>\n      <td>0.0</td>\n      <td>1.0</td>\n      <td>0.0</td>\n      <td>4.0</td>\n      <td>-</td>\n      <td>16.0</td>\n      <td>-</td>\n      <td>3.0</td>\n      <td>...</td>\n      <td>-</td>\n      <td>-</td>\n      <td>-</td>\n      <td>-</td>\n      <td>-</td>\n      <td>-</td>\n      <td>-</td>\n      <td>-</td>\n      <td>0.0</td>\n      <td>0.0</td>\n    </tr>\n    <tr>\n      <th>5</th>\n      <td>-</td>\n      <td>4.0</td>\n      <td>1.0</td>\n      <td>-</td>\n      <td>-</td>\n      <td>1.0</td>\n      <td>17.0</td>\n      <td>19.0</td>\n      <td>6.0</td>\n      <td>-</td>\n      <td>...</td>\n      <td>-</td>\n      <td>-</td>\n      <td>-</td>\n      <td>-</td>\n      <td>-</td>\n      <td>-</td>\n      <td>9.0</td>\n      <td>-</td>\n      <td>9.0</td>\n      <td>5.5</td>\n    </tr>\n    <tr>\n      <th>6</th>\n      <td>-</td>\n      <td>3.0</td>\n      <td>2.0</td>\n      <td>-</td>\n      <td>0.0</td>\n      <td>2.0</td>\n      <td>17.0</td>\n      <td>18.0</td>\n      <td>-</td>\n      <td>7.0</td>\n      <td>...</td>\n      <td>-</td>\n      <td>-</td>\n      <td>-</td>\n      <td>-</td>\n      <td>-</td>\n      <td>-</td>\n      <td>8.0</td>\n      <td>7.5</td>\n      <td>8.0</td>\n      <td>3.5</td>\n    </tr>\n    <tr>\n      <th>7</th>\n      <td>-</td>\n      <td>4.0</td>\n      <td>-</td>\n      <td>-4.0</td>\n      <td>-</td>\n      <td>-</td>\n      <td>16.0</td>\n      <td>21.0</td>\n      <td>6.0</td>\n      <td>8.0</td>\n      <td>...</td>\n      <td>-</td>\n      <td>-</td>\n      <td>-</td>\n      <td>-</td>\n      <td>-</td>\n      <td>-</td>\n      <td>8.0</td>\n      <td>-</td>\n      <td>0.0</td>\n      <td>0.0</td>\n    </tr>\n    <tr>\n      <th>8</th>\n      <td>4.0</td>\n      <td>-</td>\n      <td>-</td>\n      <td>-</td>\n      <td>-</td>\n      <td>-</td>\n      <td>16.0</td>\n      <td>21.0</td>\n      <td>6.0</td>\n      <td>8.0</td>\n      <td>...</td>\n      <td>-</td>\n      <td>-</td>\n      <td>-</td>\n      <td>-</td>\n      <td>-</td>\n      <td>-</td>\n      <td>9.0</td>\n      <td>6.5</td>\n      <td>7.0</td>\n      <td>7.5</td>\n    </tr>\n    <tr>\n      <th>9</th>\n      <td>4.0</td>\n      <td>-</td>\n      <td>-</td>\n      <td>-</td>\n      <td>-</td>\n      <td>-</td>\n      <td>18.0</td>\n      <td>23.0</td>\n      <td>6.0</td>\n      <td>8.0</td>\n      <td>...</td>\n      <td>-</td>\n      <td>-</td>\n      <td>-</td>\n      <td>-</td>\n      <td>-</td>\n      <td>-</td>\n      <td>-</td>\n      <td>6.5</td>\n      <td>5.0</td>\n      <td>7.5</td>\n    </tr>\n  </tbody>\n</table>\n<p>10 rows × 50 columns</p>\n</div>"
     },
     "execution_count": 56,
     "metadata": {},
     "output_type": "execute_result"
    }
   ],
   "source": [
    "comp, diff = compare_monsters(result[\"values\"], orc_brute)\n",
    "comp"
   ]
  },
  {
   "cell_type": "code",
   "execution_count": 57,
   "outputs": [
    {
     "data": {
      "text/plain": "  str_diff dex_diff con_diff int_diff wis_diff cha_diff ac_diff  hp_diff  \\\n0     -1.0      2.0     -1.0        -      1.0        -     2.0      5.0   \n1        -        -        -        -      1.0        -     1.0      6.0   \n2     -3.0      1.0     -1.0      2.0      1.0      1.0     1.0      6.0   \n3     -3.0        -        -      2.0     -2.0      4.0     1.0      4.0   \n4     -1.0        -     -3.0      2.0     -1.0      4.0       -      1.0   \n5        -      2.0     -2.0        -        -      1.0     2.0      4.0   \n6        -      1.0     -1.0        -     -1.0      2.0     2.0      3.0   \n7        -      2.0        -     -3.0        -        -     1.0      6.0   \n8      1.0        -        -        -        -        -     1.0      6.0   \n9      1.0        -        -        -        -        -     3.0      8.0   \n\n  perception_diff fortitude_diff  ...  spells_nr_lvl_4_diff  \\\n0               -           -1.0  ...                   1.0   \n1             2.0            2.0  ...                     -   \n2               -            1.0  ...                     -   \n3            -1.0            2.0  ...                     -   \n4               -           -3.0  ...                     -   \n5             1.0              -  ...                     -   \n6               -            1.0  ...                     -   \n7             1.0            2.0  ...                     -   \n8             1.0            2.0  ...                     -   \n9             1.0            2.0  ...                     -   \n\n   spells_nr_lvl_5_diff spells_nr_lvl_6_diff spells_nr_lvl_7_diff  \\\n0                     -                    -                    -   \n1                     -                    -                    -   \n2                     -                    -                    -   \n3                     -                    -                    -   \n4                     -                    -                    -   \n5                     -                    -                    -   \n6                     -                    -                    -   \n7                     -                    -                    -   \n8                     -                    -                    -   \n9                     -                    -                    -   \n\n  spells_nr_lvl_8_diff spells_nr_lvl_9_diff melee_max_bonus_diff  \\\n0                    -                    -                    -   \n1                    -                    -                  1.0   \n2                    -                    -                  1.0   \n3                    -                    -                    -   \n4                    -                    -                    -   \n5                    -                    -                  2.0   \n6                    -                    -                  1.0   \n7                    -                    -                  1.0   \n8                    -                    -                  2.0   \n9                    -                    -                    -   \n\n  avg_melee_dmg_diff ranged_max_bonus_diff avg_ranged_dmg_diff  \n0               -1.0                   5.0                -1.0  \n1                  -                   3.0                   -  \n2                  -                   4.0                -2.0  \n3               -3.0                   3.0                -3.0  \n4                  -                  -4.0                -6.5  \n5                  -                   5.0                -1.0  \n6                2.0                   4.0                -3.0  \n7                  -                  -4.0                -6.5  \n8                1.0                   3.0                 1.0  \n9                1.0                   1.0                 1.0  \n\n[10 rows x 50 columns]",
      "text/html": "<div>\n<style scoped>\n    .dataframe tbody tr th:only-of-type {\n        vertical-align: middle;\n    }\n\n    .dataframe tbody tr th {\n        vertical-align: top;\n    }\n\n    .dataframe thead th {\n        text-align: right;\n    }\n</style>\n<table border=\"1\" class=\"dataframe\">\n  <thead>\n    <tr style=\"text-align: right;\">\n      <th></th>\n      <th>str_diff</th>\n      <th>dex_diff</th>\n      <th>con_diff</th>\n      <th>int_diff</th>\n      <th>wis_diff</th>\n      <th>cha_diff</th>\n      <th>ac_diff</th>\n      <th>hp_diff</th>\n      <th>perception_diff</th>\n      <th>fortitude_diff</th>\n      <th>...</th>\n      <th>spells_nr_lvl_4_diff</th>\n      <th>spells_nr_lvl_5_diff</th>\n      <th>spells_nr_lvl_6_diff</th>\n      <th>spells_nr_lvl_7_diff</th>\n      <th>spells_nr_lvl_8_diff</th>\n      <th>spells_nr_lvl_9_diff</th>\n      <th>melee_max_bonus_diff</th>\n      <th>avg_melee_dmg_diff</th>\n      <th>ranged_max_bonus_diff</th>\n      <th>avg_ranged_dmg_diff</th>\n    </tr>\n  </thead>\n  <tbody>\n    <tr>\n      <th>0</th>\n      <td>-1.0</td>\n      <td>2.0</td>\n      <td>-1.0</td>\n      <td>-</td>\n      <td>1.0</td>\n      <td>-</td>\n      <td>2.0</td>\n      <td>5.0</td>\n      <td>-</td>\n      <td>-1.0</td>\n      <td>...</td>\n      <td>1.0</td>\n      <td>-</td>\n      <td>-</td>\n      <td>-</td>\n      <td>-</td>\n      <td>-</td>\n      <td>-</td>\n      <td>-1.0</td>\n      <td>5.0</td>\n      <td>-1.0</td>\n    </tr>\n    <tr>\n      <th>1</th>\n      <td>-</td>\n      <td>-</td>\n      <td>-</td>\n      <td>-</td>\n      <td>1.0</td>\n      <td>-</td>\n      <td>1.0</td>\n      <td>6.0</td>\n      <td>2.0</td>\n      <td>2.0</td>\n      <td>...</td>\n      <td>-</td>\n      <td>-</td>\n      <td>-</td>\n      <td>-</td>\n      <td>-</td>\n      <td>-</td>\n      <td>1.0</td>\n      <td>-</td>\n      <td>3.0</td>\n      <td>-</td>\n    </tr>\n    <tr>\n      <th>2</th>\n      <td>-3.0</td>\n      <td>1.0</td>\n      <td>-1.0</td>\n      <td>2.0</td>\n      <td>1.0</td>\n      <td>1.0</td>\n      <td>1.0</td>\n      <td>6.0</td>\n      <td>-</td>\n      <td>1.0</td>\n      <td>...</td>\n      <td>-</td>\n      <td>-</td>\n      <td>-</td>\n      <td>-</td>\n      <td>-</td>\n      <td>-</td>\n      <td>1.0</td>\n      <td>-</td>\n      <td>4.0</td>\n      <td>-2.0</td>\n    </tr>\n    <tr>\n      <th>3</th>\n      <td>-3.0</td>\n      <td>-</td>\n      <td>-</td>\n      <td>2.0</td>\n      <td>-2.0</td>\n      <td>4.0</td>\n      <td>1.0</td>\n      <td>4.0</td>\n      <td>-1.0</td>\n      <td>2.0</td>\n      <td>...</td>\n      <td>-</td>\n      <td>-</td>\n      <td>-</td>\n      <td>-</td>\n      <td>-</td>\n      <td>-</td>\n      <td>-</td>\n      <td>-3.0</td>\n      <td>3.0</td>\n      <td>-3.0</td>\n    </tr>\n    <tr>\n      <th>4</th>\n      <td>-1.0</td>\n      <td>-</td>\n      <td>-3.0</td>\n      <td>2.0</td>\n      <td>-1.0</td>\n      <td>4.0</td>\n      <td>-</td>\n      <td>1.0</td>\n      <td>-</td>\n      <td>-3.0</td>\n      <td>...</td>\n      <td>-</td>\n      <td>-</td>\n      <td>-</td>\n      <td>-</td>\n      <td>-</td>\n      <td>-</td>\n      <td>-</td>\n      <td>-</td>\n      <td>-4.0</td>\n      <td>-6.5</td>\n    </tr>\n    <tr>\n      <th>5</th>\n      <td>-</td>\n      <td>2.0</td>\n      <td>-2.0</td>\n      <td>-</td>\n      <td>-</td>\n      <td>1.0</td>\n      <td>2.0</td>\n      <td>4.0</td>\n      <td>1.0</td>\n      <td>-</td>\n      <td>...</td>\n      <td>-</td>\n      <td>-</td>\n      <td>-</td>\n      <td>-</td>\n      <td>-</td>\n      <td>-</td>\n      <td>2.0</td>\n      <td>-</td>\n      <td>5.0</td>\n      <td>-1.0</td>\n    </tr>\n    <tr>\n      <th>6</th>\n      <td>-</td>\n      <td>1.0</td>\n      <td>-1.0</td>\n      <td>-</td>\n      <td>-1.0</td>\n      <td>2.0</td>\n      <td>2.0</td>\n      <td>3.0</td>\n      <td>-</td>\n      <td>1.0</td>\n      <td>...</td>\n      <td>-</td>\n      <td>-</td>\n      <td>-</td>\n      <td>-</td>\n      <td>-</td>\n      <td>-</td>\n      <td>1.0</td>\n      <td>2.0</td>\n      <td>4.0</td>\n      <td>-3.0</td>\n    </tr>\n    <tr>\n      <th>7</th>\n      <td>-</td>\n      <td>2.0</td>\n      <td>-</td>\n      <td>-3.0</td>\n      <td>-</td>\n      <td>-</td>\n      <td>1.0</td>\n      <td>6.0</td>\n      <td>1.0</td>\n      <td>2.0</td>\n      <td>...</td>\n      <td>-</td>\n      <td>-</td>\n      <td>-</td>\n      <td>-</td>\n      <td>-</td>\n      <td>-</td>\n      <td>1.0</td>\n      <td>-</td>\n      <td>-4.0</td>\n      <td>-6.5</td>\n    </tr>\n    <tr>\n      <th>8</th>\n      <td>1.0</td>\n      <td>-</td>\n      <td>-</td>\n      <td>-</td>\n      <td>-</td>\n      <td>-</td>\n      <td>1.0</td>\n      <td>6.0</td>\n      <td>1.0</td>\n      <td>2.0</td>\n      <td>...</td>\n      <td>-</td>\n      <td>-</td>\n      <td>-</td>\n      <td>-</td>\n      <td>-</td>\n      <td>-</td>\n      <td>2.0</td>\n      <td>1.0</td>\n      <td>3.0</td>\n      <td>1.0</td>\n    </tr>\n    <tr>\n      <th>9</th>\n      <td>1.0</td>\n      <td>-</td>\n      <td>-</td>\n      <td>-</td>\n      <td>-</td>\n      <td>-</td>\n      <td>3.0</td>\n      <td>8.0</td>\n      <td>1.0</td>\n      <td>2.0</td>\n      <td>...</td>\n      <td>-</td>\n      <td>-</td>\n      <td>-</td>\n      <td>-</td>\n      <td>-</td>\n      <td>-</td>\n      <td>-</td>\n      <td>1.0</td>\n      <td>1.0</td>\n      <td>1.0</td>\n    </tr>\n  </tbody>\n</table>\n<p>10 rows × 50 columns</p>\n</div>"
     },
     "execution_count": 57,
     "metadata": {},
     "output_type": "execute_result"
    }
   ],
   "source": [
    "diff"
   ],
   "metadata": {
    "collapsed": false
   }
  },
  {
   "cell_type": "markdown",
   "source": [
    "##### Compare to *Orc Warrior*"
   ],
   "metadata": {
    "collapsed": false
   }
  },
  {
   "cell_type": "code",
   "execution_count": 58,
   "outputs": [
    {
     "data": {
      "text/plain": "   str  dex  con  int  wis  cha    ac    hp perception fortitude  ...  \\\n0  2.0  4.0  2.0    -  2.0    -  17.0  20.0        5.0       5.0  ...   \n1  3.0    -    -    -  2.0    -  16.0  21.0        7.0         -  ...   \n2  0.0  3.0  2.0  1.0  2.0  1.0  16.0  21.0        5.0       7.0  ...   \n3  0.0    -    -  1.0 -1.0  4.0  16.0  19.0        4.0         -  ...   \n4  2.0    -  0.0  1.0  0.0  4.0  15.0  16.0        5.0       3.0  ...   \n5  3.0  4.0  1.0    -    -  1.0  17.0  19.0          -       6.0  ...   \n6  3.0  3.0  2.0    -  0.0  2.0  17.0  18.0        5.0       7.0  ...   \n7  3.0  4.0    - -4.0    -    -  16.0  21.0          -         -  ...   \n8    -    -    -    -    -    -  16.0  21.0          -         -  ...   \n9    -    -    -    -    -    -     -     -          -         -  ...   \n\n  spells_nr_lvl_4 spells_nr_lvl_5 spells_nr_lvl_6 spells_nr_lvl_7  \\\n0             1.0               -               -               -   \n1               -               -               -               -   \n2               -               -               -               -   \n3               -               -               -               -   \n4               -               -               -               -   \n5               -               -               -               -   \n6               -               -               -               -   \n7               -               -               -               -   \n8               -               -               -               -   \n9               -               -               -               -   \n\n  spells_nr_lvl_8 spells_nr_lvl_9 melee_max_bonus avg_melee_dmg  \\\n0               -               -               -           4.5   \n1               -               -             8.0           5.5   \n2               -               -             8.0           5.5   \n3               -               -               -           2.5   \n4               -               -               -           5.5   \n5               -               -             9.0           5.5   \n6               -               -             8.0           7.5   \n7               -               -             8.0           5.5   \n8               -               -             9.0             -   \n9               -               -               -             -   \n\n  ranged_max_bonus avg_ranged_dmg  \n0              9.0            5.5  \n1              7.0            6.5  \n2              8.0            4.5  \n3              7.0            3.5  \n4              0.0            0.0  \n5              9.0            5.5  \n6              8.0            3.5  \n7              0.0            0.0  \n8              7.0              -  \n9                -              -  \n\n[10 rows x 50 columns]",
      "text/html": "<div>\n<style scoped>\n    .dataframe tbody tr th:only-of-type {\n        vertical-align: middle;\n    }\n\n    .dataframe tbody tr th {\n        vertical-align: top;\n    }\n\n    .dataframe thead th {\n        text-align: right;\n    }\n</style>\n<table border=\"1\" class=\"dataframe\">\n  <thead>\n    <tr style=\"text-align: right;\">\n      <th></th>\n      <th>str</th>\n      <th>dex</th>\n      <th>con</th>\n      <th>int</th>\n      <th>wis</th>\n      <th>cha</th>\n      <th>ac</th>\n      <th>hp</th>\n      <th>perception</th>\n      <th>fortitude</th>\n      <th>...</th>\n      <th>spells_nr_lvl_4</th>\n      <th>spells_nr_lvl_5</th>\n      <th>spells_nr_lvl_6</th>\n      <th>spells_nr_lvl_7</th>\n      <th>spells_nr_lvl_8</th>\n      <th>spells_nr_lvl_9</th>\n      <th>melee_max_bonus</th>\n      <th>avg_melee_dmg</th>\n      <th>ranged_max_bonus</th>\n      <th>avg_ranged_dmg</th>\n    </tr>\n  </thead>\n  <tbody>\n    <tr>\n      <th>0</th>\n      <td>2.0</td>\n      <td>4.0</td>\n      <td>2.0</td>\n      <td>-</td>\n      <td>2.0</td>\n      <td>-</td>\n      <td>17.0</td>\n      <td>20.0</td>\n      <td>5.0</td>\n      <td>5.0</td>\n      <td>...</td>\n      <td>1.0</td>\n      <td>-</td>\n      <td>-</td>\n      <td>-</td>\n      <td>-</td>\n      <td>-</td>\n      <td>-</td>\n      <td>4.5</td>\n      <td>9.0</td>\n      <td>5.5</td>\n    </tr>\n    <tr>\n      <th>1</th>\n      <td>3.0</td>\n      <td>-</td>\n      <td>-</td>\n      <td>-</td>\n      <td>2.0</td>\n      <td>-</td>\n      <td>16.0</td>\n      <td>21.0</td>\n      <td>7.0</td>\n      <td>-</td>\n      <td>...</td>\n      <td>-</td>\n      <td>-</td>\n      <td>-</td>\n      <td>-</td>\n      <td>-</td>\n      <td>-</td>\n      <td>8.0</td>\n      <td>5.5</td>\n      <td>7.0</td>\n      <td>6.5</td>\n    </tr>\n    <tr>\n      <th>2</th>\n      <td>0.0</td>\n      <td>3.0</td>\n      <td>2.0</td>\n      <td>1.0</td>\n      <td>2.0</td>\n      <td>1.0</td>\n      <td>16.0</td>\n      <td>21.0</td>\n      <td>5.0</td>\n      <td>7.0</td>\n      <td>...</td>\n      <td>-</td>\n      <td>-</td>\n      <td>-</td>\n      <td>-</td>\n      <td>-</td>\n      <td>-</td>\n      <td>8.0</td>\n      <td>5.5</td>\n      <td>8.0</td>\n      <td>4.5</td>\n    </tr>\n    <tr>\n      <th>3</th>\n      <td>0.0</td>\n      <td>-</td>\n      <td>-</td>\n      <td>1.0</td>\n      <td>-1.0</td>\n      <td>4.0</td>\n      <td>16.0</td>\n      <td>19.0</td>\n      <td>4.0</td>\n      <td>-</td>\n      <td>...</td>\n      <td>-</td>\n      <td>-</td>\n      <td>-</td>\n      <td>-</td>\n      <td>-</td>\n      <td>-</td>\n      <td>-</td>\n      <td>2.5</td>\n      <td>7.0</td>\n      <td>3.5</td>\n    </tr>\n    <tr>\n      <th>4</th>\n      <td>2.0</td>\n      <td>-</td>\n      <td>0.0</td>\n      <td>1.0</td>\n      <td>0.0</td>\n      <td>4.0</td>\n      <td>15.0</td>\n      <td>16.0</td>\n      <td>5.0</td>\n      <td>3.0</td>\n      <td>...</td>\n      <td>-</td>\n      <td>-</td>\n      <td>-</td>\n      <td>-</td>\n      <td>-</td>\n      <td>-</td>\n      <td>-</td>\n      <td>5.5</td>\n      <td>0.0</td>\n      <td>0.0</td>\n    </tr>\n    <tr>\n      <th>5</th>\n      <td>3.0</td>\n      <td>4.0</td>\n      <td>1.0</td>\n      <td>-</td>\n      <td>-</td>\n      <td>1.0</td>\n      <td>17.0</td>\n      <td>19.0</td>\n      <td>-</td>\n      <td>6.0</td>\n      <td>...</td>\n      <td>-</td>\n      <td>-</td>\n      <td>-</td>\n      <td>-</td>\n      <td>-</td>\n      <td>-</td>\n      <td>9.0</td>\n      <td>5.5</td>\n      <td>9.0</td>\n      <td>5.5</td>\n    </tr>\n    <tr>\n      <th>6</th>\n      <td>3.0</td>\n      <td>3.0</td>\n      <td>2.0</td>\n      <td>-</td>\n      <td>0.0</td>\n      <td>2.0</td>\n      <td>17.0</td>\n      <td>18.0</td>\n      <td>5.0</td>\n      <td>7.0</td>\n      <td>...</td>\n      <td>-</td>\n      <td>-</td>\n      <td>-</td>\n      <td>-</td>\n      <td>-</td>\n      <td>-</td>\n      <td>8.0</td>\n      <td>7.5</td>\n      <td>8.0</td>\n      <td>3.5</td>\n    </tr>\n    <tr>\n      <th>7</th>\n      <td>3.0</td>\n      <td>4.0</td>\n      <td>-</td>\n      <td>-4.0</td>\n      <td>-</td>\n      <td>-</td>\n      <td>16.0</td>\n      <td>21.0</td>\n      <td>-</td>\n      <td>-</td>\n      <td>...</td>\n      <td>-</td>\n      <td>-</td>\n      <td>-</td>\n      <td>-</td>\n      <td>-</td>\n      <td>-</td>\n      <td>8.0</td>\n      <td>5.5</td>\n      <td>0.0</td>\n      <td>0.0</td>\n    </tr>\n    <tr>\n      <th>8</th>\n      <td>-</td>\n      <td>-</td>\n      <td>-</td>\n      <td>-</td>\n      <td>-</td>\n      <td>-</td>\n      <td>16.0</td>\n      <td>21.0</td>\n      <td>-</td>\n      <td>-</td>\n      <td>...</td>\n      <td>-</td>\n      <td>-</td>\n      <td>-</td>\n      <td>-</td>\n      <td>-</td>\n      <td>-</td>\n      <td>9.0</td>\n      <td>-</td>\n      <td>7.0</td>\n      <td>-</td>\n    </tr>\n    <tr>\n      <th>9</th>\n      <td>-</td>\n      <td>-</td>\n      <td>-</td>\n      <td>-</td>\n      <td>-</td>\n      <td>-</td>\n      <td>-</td>\n      <td>-</td>\n      <td>-</td>\n      <td>-</td>\n      <td>...</td>\n      <td>-</td>\n      <td>-</td>\n      <td>-</td>\n      <td>-</td>\n      <td>-</td>\n      <td>-</td>\n      <td>-</td>\n      <td>-</td>\n      <td>-</td>\n      <td>-</td>\n    </tr>\n  </tbody>\n</table>\n<p>10 rows × 50 columns</p>\n</div>"
     },
     "execution_count": 58,
     "metadata": {},
     "output_type": "execute_result"
    }
   ],
   "source": [
    "comp, diff = compare_monsters(result[\"values\"], orc_warrior)\n",
    "comp"
   ],
   "metadata": {
    "collapsed": false
   }
  },
  {
   "cell_type": "code",
   "execution_count": 59,
   "outputs": [
    {
     "data": {
      "text/plain": "  str_diff dex_diff con_diff int_diff wis_diff cha_diff ac_diff hp_diff  \\\n0     -2.0      2.0     -1.0        -      1.0        -    -1.0    -3.0   \n1     -1.0        -        -        -      1.0        -    -2.0    -2.0   \n2     -4.0      1.0     -1.0      2.0      1.0      1.0    -2.0    -2.0   \n3     -4.0        -        -      2.0     -2.0      4.0    -2.0    -4.0   \n4     -2.0        -     -3.0      2.0     -1.0      4.0    -3.0    -7.0   \n5     -1.0      2.0     -2.0        -        -      1.0    -1.0    -4.0   \n6     -1.0      1.0     -1.0        -     -1.0      2.0    -1.0    -5.0   \n7     -1.0      2.0        -     -3.0        -        -    -2.0    -2.0   \n8        -        -        -        -        -        -    -2.0    -2.0   \n9        -        -        -        -        -        -       -       -   \n\n  perception_diff fortitude_diff  ... spells_nr_lvl_4_diff  \\\n0            -1.0           -3.0  ...                  1.0   \n1             1.0              -  ...                    -   \n2            -1.0           -1.0  ...                    -   \n3            -2.0              -  ...                    -   \n4            -1.0           -5.0  ...                    -   \n5               -           -2.0  ...                    -   \n6            -1.0           -1.0  ...                    -   \n7               -              -  ...                    -   \n8               -              -  ...                    -   \n9               -              -  ...                    -   \n\n  spells_nr_lvl_5_diff spells_nr_lvl_6_diff spells_nr_lvl_7_diff  \\\n0                    -                    -                    -   \n1                    -                    -                    -   \n2                    -                    -                    -   \n3                    -                    -                    -   \n4                    -                    -                    -   \n5                    -                    -                    -   \n6                    -                    -                    -   \n7                    -                    -                    -   \n8                    -                    -                    -   \n9                    -                    -                    -   \n\n  spells_nr_lvl_8_diff spells_nr_lvl_9_diff melee_max_bonus_diff  \\\n0                    -                    -                    -   \n1                    -                    -                  1.0   \n2                    -                    -                  1.0   \n3                    -                    -                    -   \n4                    -                    -                    -   \n5                    -                    -                  2.0   \n6                    -                    -                  1.0   \n7                    -                    -                  1.0   \n8                    -                    -                  2.0   \n9                    -                    -                    -   \n\n  avg_melee_dmg_diff ranged_max_bonus_diff avg_ranged_dmg_diff  \n0               -2.0                   4.0                -2.0  \n1               -1.0                   2.0                -1.0  \n2               -1.0                   3.0                -3.0  \n3               -4.0                   2.0                -4.0  \n4               -1.0                  -5.0                -7.5  \n5               -1.0                   4.0                -2.0  \n6                1.0                   3.0                -4.0  \n7               -1.0                  -5.0                -7.5  \n8                  -                   2.0                   -  \n9                  -                     -                   -  \n\n[10 rows x 50 columns]",
      "text/html": "<div>\n<style scoped>\n    .dataframe tbody tr th:only-of-type {\n        vertical-align: middle;\n    }\n\n    .dataframe tbody tr th {\n        vertical-align: top;\n    }\n\n    .dataframe thead th {\n        text-align: right;\n    }\n</style>\n<table border=\"1\" class=\"dataframe\">\n  <thead>\n    <tr style=\"text-align: right;\">\n      <th></th>\n      <th>str_diff</th>\n      <th>dex_diff</th>\n      <th>con_diff</th>\n      <th>int_diff</th>\n      <th>wis_diff</th>\n      <th>cha_diff</th>\n      <th>ac_diff</th>\n      <th>hp_diff</th>\n      <th>perception_diff</th>\n      <th>fortitude_diff</th>\n      <th>...</th>\n      <th>spells_nr_lvl_4_diff</th>\n      <th>spells_nr_lvl_5_diff</th>\n      <th>spells_nr_lvl_6_diff</th>\n      <th>spells_nr_lvl_7_diff</th>\n      <th>spells_nr_lvl_8_diff</th>\n      <th>spells_nr_lvl_9_diff</th>\n      <th>melee_max_bonus_diff</th>\n      <th>avg_melee_dmg_diff</th>\n      <th>ranged_max_bonus_diff</th>\n      <th>avg_ranged_dmg_diff</th>\n    </tr>\n  </thead>\n  <tbody>\n    <tr>\n      <th>0</th>\n      <td>-2.0</td>\n      <td>2.0</td>\n      <td>-1.0</td>\n      <td>-</td>\n      <td>1.0</td>\n      <td>-</td>\n      <td>-1.0</td>\n      <td>-3.0</td>\n      <td>-1.0</td>\n      <td>-3.0</td>\n      <td>...</td>\n      <td>1.0</td>\n      <td>-</td>\n      <td>-</td>\n      <td>-</td>\n      <td>-</td>\n      <td>-</td>\n      <td>-</td>\n      <td>-2.0</td>\n      <td>4.0</td>\n      <td>-2.0</td>\n    </tr>\n    <tr>\n      <th>1</th>\n      <td>-1.0</td>\n      <td>-</td>\n      <td>-</td>\n      <td>-</td>\n      <td>1.0</td>\n      <td>-</td>\n      <td>-2.0</td>\n      <td>-2.0</td>\n      <td>1.0</td>\n      <td>-</td>\n      <td>...</td>\n      <td>-</td>\n      <td>-</td>\n      <td>-</td>\n      <td>-</td>\n      <td>-</td>\n      <td>-</td>\n      <td>1.0</td>\n      <td>-1.0</td>\n      <td>2.0</td>\n      <td>-1.0</td>\n    </tr>\n    <tr>\n      <th>2</th>\n      <td>-4.0</td>\n      <td>1.0</td>\n      <td>-1.0</td>\n      <td>2.0</td>\n      <td>1.0</td>\n      <td>1.0</td>\n      <td>-2.0</td>\n      <td>-2.0</td>\n      <td>-1.0</td>\n      <td>-1.0</td>\n      <td>...</td>\n      <td>-</td>\n      <td>-</td>\n      <td>-</td>\n      <td>-</td>\n      <td>-</td>\n      <td>-</td>\n      <td>1.0</td>\n      <td>-1.0</td>\n      <td>3.0</td>\n      <td>-3.0</td>\n    </tr>\n    <tr>\n      <th>3</th>\n      <td>-4.0</td>\n      <td>-</td>\n      <td>-</td>\n      <td>2.0</td>\n      <td>-2.0</td>\n      <td>4.0</td>\n      <td>-2.0</td>\n      <td>-4.0</td>\n      <td>-2.0</td>\n      <td>-</td>\n      <td>...</td>\n      <td>-</td>\n      <td>-</td>\n      <td>-</td>\n      <td>-</td>\n      <td>-</td>\n      <td>-</td>\n      <td>-</td>\n      <td>-4.0</td>\n      <td>2.0</td>\n      <td>-4.0</td>\n    </tr>\n    <tr>\n      <th>4</th>\n      <td>-2.0</td>\n      <td>-</td>\n      <td>-3.0</td>\n      <td>2.0</td>\n      <td>-1.0</td>\n      <td>4.0</td>\n      <td>-3.0</td>\n      <td>-7.0</td>\n      <td>-1.0</td>\n      <td>-5.0</td>\n      <td>...</td>\n      <td>-</td>\n      <td>-</td>\n      <td>-</td>\n      <td>-</td>\n      <td>-</td>\n      <td>-</td>\n      <td>-</td>\n      <td>-1.0</td>\n      <td>-5.0</td>\n      <td>-7.5</td>\n    </tr>\n    <tr>\n      <th>5</th>\n      <td>-1.0</td>\n      <td>2.0</td>\n      <td>-2.0</td>\n      <td>-</td>\n      <td>-</td>\n      <td>1.0</td>\n      <td>-1.0</td>\n      <td>-4.0</td>\n      <td>-</td>\n      <td>-2.0</td>\n      <td>...</td>\n      <td>-</td>\n      <td>-</td>\n      <td>-</td>\n      <td>-</td>\n      <td>-</td>\n      <td>-</td>\n      <td>2.0</td>\n      <td>-1.0</td>\n      <td>4.0</td>\n      <td>-2.0</td>\n    </tr>\n    <tr>\n      <th>6</th>\n      <td>-1.0</td>\n      <td>1.0</td>\n      <td>-1.0</td>\n      <td>-</td>\n      <td>-1.0</td>\n      <td>2.0</td>\n      <td>-1.0</td>\n      <td>-5.0</td>\n      <td>-1.0</td>\n      <td>-1.0</td>\n      <td>...</td>\n      <td>-</td>\n      <td>-</td>\n      <td>-</td>\n      <td>-</td>\n      <td>-</td>\n      <td>-</td>\n      <td>1.0</td>\n      <td>1.0</td>\n      <td>3.0</td>\n      <td>-4.0</td>\n    </tr>\n    <tr>\n      <th>7</th>\n      <td>-1.0</td>\n      <td>2.0</td>\n      <td>-</td>\n      <td>-3.0</td>\n      <td>-</td>\n      <td>-</td>\n      <td>-2.0</td>\n      <td>-2.0</td>\n      <td>-</td>\n      <td>-</td>\n      <td>...</td>\n      <td>-</td>\n      <td>-</td>\n      <td>-</td>\n      <td>-</td>\n      <td>-</td>\n      <td>-</td>\n      <td>1.0</td>\n      <td>-1.0</td>\n      <td>-5.0</td>\n      <td>-7.5</td>\n    </tr>\n    <tr>\n      <th>8</th>\n      <td>-</td>\n      <td>-</td>\n      <td>-</td>\n      <td>-</td>\n      <td>-</td>\n      <td>-</td>\n      <td>-2.0</td>\n      <td>-2.0</td>\n      <td>-</td>\n      <td>-</td>\n      <td>...</td>\n      <td>-</td>\n      <td>-</td>\n      <td>-</td>\n      <td>-</td>\n      <td>-</td>\n      <td>-</td>\n      <td>2.0</td>\n      <td>-</td>\n      <td>2.0</td>\n      <td>-</td>\n    </tr>\n    <tr>\n      <th>9</th>\n      <td>-</td>\n      <td>-</td>\n      <td>-</td>\n      <td>-</td>\n      <td>-</td>\n      <td>-</td>\n      <td>-</td>\n      <td>-</td>\n      <td>-</td>\n      <td>-</td>\n      <td>...</td>\n      <td>-</td>\n      <td>-</td>\n      <td>-</td>\n      <td>-</td>\n      <td>-</td>\n      <td>-</td>\n      <td>-</td>\n      <td>-</td>\n      <td>-</td>\n      <td>-</td>\n    </tr>\n  </tbody>\n</table>\n<p>10 rows × 50 columns</p>\n</div>"
     },
     "execution_count": 59,
     "metadata": {},
     "output_type": "execute_result"
    }
   ],
   "source": [
    "diff"
   ],
   "metadata": {
    "collapsed": false
   }
  },
  {
   "cell_type": "code",
   "execution_count": 60,
   "outputs": [
    {
     "name": "stderr",
     "output_type": "stream",
     "text": [
      "100%|██████████| 1/1 [00:00<00:00,  1.09it/s]\n"
     ]
    }
   ],
   "source": [
    "result = generate_counterfactuals(\n",
    "    monster_stats=orc_brute,\n",
    "    model=model,\n",
    "    new_level=2,\n",
    "    df=dataset,\n",
    "    total_cf=10,\n",
    "    ordered_characteristics=ORDERED_CHARACTERISTICS_50,\n",
    ")"
   ],
   "metadata": {
    "collapsed": false
   }
  },
  {
   "cell_type": "code",
   "execution_count": 61,
   "outputs": [
    {
     "name": "stdout",
     "output_type": "stream",
     "text": [
      "[2.00109806]\n",
      "[1.99796356]\n",
      "[1.99971422]\n",
      "[2.00008173]\n",
      "[2.00044528]\n",
      "[1.99942545]\n",
      "[1.99979231]\n",
      "[2.00041428]\n",
      "[1.99938845]\n",
      "[1.99984194]\n"
     ]
    }
   ],
   "source": [
    "test_cfs(result[\"values\"], 2)"
   ],
   "metadata": {
    "collapsed": false
   }
  },
  {
   "cell_type": "markdown",
   "source": [
    "##### Compere to original data"
   ],
   "metadata": {
    "collapsed": false
   }
  },
  {
   "cell_type": "code",
   "execution_count": 62,
   "outputs": [
    {
     "data": {
      "text/plain": "   str  dex  con  int  wis  cha    ac    hp  perception  fortitude  ...  \\\n0  2.0  4.0  2.0    -  2.0    -  19.0  30.0         6.0        8.0  ...   \n1  2.0  4.0  1.0  1.0  0.0  1.0  19.0  27.0         6.0        7.0  ...   \n2  4.0    -  1.0    -    -  2.0  19.0  32.0        11.0        7.0  ...   \n3    -  4.0    -  2.0    -  1.0  18.0  30.0         7.0        9.0  ...   \n4  4.0  1.0    -    -  2.0  1.0  18.0  28.0         8.0        9.0  ...   \n5    -    -  4.0    -  3.0    -  18.0  30.0         9.0       10.0  ...   \n6  2.0  3.0  0.0  4.0  0.0  1.0  17.0  22.0         4.0        4.0  ...   \n7  4.0  3.0  2.0    -    -    -  18.0  29.0         7.0        8.0  ...   \n8  4.0    -    -    -    -    -  17.0  34.0         7.0        9.0  ...   \n9    -  4.0  2.0    -    -    -  19.0  28.0         7.0        8.0  ...   \n\n   spells_nr_lvl_4  spells_nr_lvl_5 spells_nr_lvl_6 spells_nr_lvl_7  \\\n0              1.0                -               -               -   \n1                -                -               -               -   \n2                -                -               -               -   \n3                -                -               -               -   \n4                -                -               -               -   \n5              1.0                -               -               -   \n6                -                -               -               -   \n7                -                -               -               -   \n8                -                -               -               -   \n9                -                -               -               -   \n\n  spells_nr_lvl_8 spells_nr_lvl_9 melee_max_bonus avg_melee_dmg  \\\n0               -               -            10.0             -   \n1               -               -            10.0           4.5   \n2               -               -            10.0           6.5   \n3               -               -            10.0           9.5   \n4               -               -            10.0           9.5   \n5               -               -            11.0           7.5   \n6               -               -               -           4.5   \n7               -               -            10.0           6.5   \n8               -               -            10.0           6.5   \n9               -               -            10.0             -   \n\n  ranged_max_bonus avg_ranged_dmg  \n0             10.0            5.5  \n1             10.0            3.5  \n2              8.0            7.5  \n3             10.0              -  \n4              7.0            4.5  \n5             11.0            7.5  \n6              7.0            4.5  \n7             10.0            3.5  \n8              8.0            7.5  \n9             10.0            5.5  \n\n[10 rows x 50 columns]",
      "text/html": "<div>\n<style scoped>\n    .dataframe tbody tr th:only-of-type {\n        vertical-align: middle;\n    }\n\n    .dataframe tbody tr th {\n        vertical-align: top;\n    }\n\n    .dataframe thead th {\n        text-align: right;\n    }\n</style>\n<table border=\"1\" class=\"dataframe\">\n  <thead>\n    <tr style=\"text-align: right;\">\n      <th></th>\n      <th>str</th>\n      <th>dex</th>\n      <th>con</th>\n      <th>int</th>\n      <th>wis</th>\n      <th>cha</th>\n      <th>ac</th>\n      <th>hp</th>\n      <th>perception</th>\n      <th>fortitude</th>\n      <th>...</th>\n      <th>spells_nr_lvl_4</th>\n      <th>spells_nr_lvl_5</th>\n      <th>spells_nr_lvl_6</th>\n      <th>spells_nr_lvl_7</th>\n      <th>spells_nr_lvl_8</th>\n      <th>spells_nr_lvl_9</th>\n      <th>melee_max_bonus</th>\n      <th>avg_melee_dmg</th>\n      <th>ranged_max_bonus</th>\n      <th>avg_ranged_dmg</th>\n    </tr>\n  </thead>\n  <tbody>\n    <tr>\n      <th>0</th>\n      <td>2.0</td>\n      <td>4.0</td>\n      <td>2.0</td>\n      <td>-</td>\n      <td>2.0</td>\n      <td>-</td>\n      <td>19.0</td>\n      <td>30.0</td>\n      <td>6.0</td>\n      <td>8.0</td>\n      <td>...</td>\n      <td>1.0</td>\n      <td>-</td>\n      <td>-</td>\n      <td>-</td>\n      <td>-</td>\n      <td>-</td>\n      <td>10.0</td>\n      <td>-</td>\n      <td>10.0</td>\n      <td>5.5</td>\n    </tr>\n    <tr>\n      <th>1</th>\n      <td>2.0</td>\n      <td>4.0</td>\n      <td>1.0</td>\n      <td>1.0</td>\n      <td>0.0</td>\n      <td>1.0</td>\n      <td>19.0</td>\n      <td>27.0</td>\n      <td>6.0</td>\n      <td>7.0</td>\n      <td>...</td>\n      <td>-</td>\n      <td>-</td>\n      <td>-</td>\n      <td>-</td>\n      <td>-</td>\n      <td>-</td>\n      <td>10.0</td>\n      <td>4.5</td>\n      <td>10.0</td>\n      <td>3.5</td>\n    </tr>\n    <tr>\n      <th>2</th>\n      <td>4.0</td>\n      <td>-</td>\n      <td>1.0</td>\n      <td>-</td>\n      <td>-</td>\n      <td>2.0</td>\n      <td>19.0</td>\n      <td>32.0</td>\n      <td>11.0</td>\n      <td>7.0</td>\n      <td>...</td>\n      <td>-</td>\n      <td>-</td>\n      <td>-</td>\n      <td>-</td>\n      <td>-</td>\n      <td>-</td>\n      <td>10.0</td>\n      <td>6.5</td>\n      <td>8.0</td>\n      <td>7.5</td>\n    </tr>\n    <tr>\n      <th>3</th>\n      <td>-</td>\n      <td>4.0</td>\n      <td>-</td>\n      <td>2.0</td>\n      <td>-</td>\n      <td>1.0</td>\n      <td>18.0</td>\n      <td>30.0</td>\n      <td>7.0</td>\n      <td>9.0</td>\n      <td>...</td>\n      <td>-</td>\n      <td>-</td>\n      <td>-</td>\n      <td>-</td>\n      <td>-</td>\n      <td>-</td>\n      <td>10.0</td>\n      <td>9.5</td>\n      <td>10.0</td>\n      <td>-</td>\n    </tr>\n    <tr>\n      <th>4</th>\n      <td>4.0</td>\n      <td>1.0</td>\n      <td>-</td>\n      <td>-</td>\n      <td>2.0</td>\n      <td>1.0</td>\n      <td>18.0</td>\n      <td>28.0</td>\n      <td>8.0</td>\n      <td>9.0</td>\n      <td>...</td>\n      <td>-</td>\n      <td>-</td>\n      <td>-</td>\n      <td>-</td>\n      <td>-</td>\n      <td>-</td>\n      <td>10.0</td>\n      <td>9.5</td>\n      <td>7.0</td>\n      <td>4.5</td>\n    </tr>\n    <tr>\n      <th>5</th>\n      <td>-</td>\n      <td>-</td>\n      <td>4.0</td>\n      <td>-</td>\n      <td>3.0</td>\n      <td>-</td>\n      <td>18.0</td>\n      <td>30.0</td>\n      <td>9.0</td>\n      <td>10.0</td>\n      <td>...</td>\n      <td>1.0</td>\n      <td>-</td>\n      <td>-</td>\n      <td>-</td>\n      <td>-</td>\n      <td>-</td>\n      <td>11.0</td>\n      <td>7.5</td>\n      <td>11.0</td>\n      <td>7.5</td>\n    </tr>\n    <tr>\n      <th>6</th>\n      <td>2.0</td>\n      <td>3.0</td>\n      <td>0.0</td>\n      <td>4.0</td>\n      <td>0.0</td>\n      <td>1.0</td>\n      <td>17.0</td>\n      <td>22.0</td>\n      <td>4.0</td>\n      <td>4.0</td>\n      <td>...</td>\n      <td>-</td>\n      <td>-</td>\n      <td>-</td>\n      <td>-</td>\n      <td>-</td>\n      <td>-</td>\n      <td>-</td>\n      <td>4.5</td>\n      <td>7.0</td>\n      <td>4.5</td>\n    </tr>\n    <tr>\n      <th>7</th>\n      <td>4.0</td>\n      <td>3.0</td>\n      <td>2.0</td>\n      <td>-</td>\n      <td>-</td>\n      <td>-</td>\n      <td>18.0</td>\n      <td>29.0</td>\n      <td>7.0</td>\n      <td>8.0</td>\n      <td>...</td>\n      <td>-</td>\n      <td>-</td>\n      <td>-</td>\n      <td>-</td>\n      <td>-</td>\n      <td>-</td>\n      <td>10.0</td>\n      <td>6.5</td>\n      <td>10.0</td>\n      <td>3.5</td>\n    </tr>\n    <tr>\n      <th>8</th>\n      <td>4.0</td>\n      <td>-</td>\n      <td>-</td>\n      <td>-</td>\n      <td>-</td>\n      <td>-</td>\n      <td>17.0</td>\n      <td>34.0</td>\n      <td>7.0</td>\n      <td>9.0</td>\n      <td>...</td>\n      <td>-</td>\n      <td>-</td>\n      <td>-</td>\n      <td>-</td>\n      <td>-</td>\n      <td>-</td>\n      <td>10.0</td>\n      <td>6.5</td>\n      <td>8.0</td>\n      <td>7.5</td>\n    </tr>\n    <tr>\n      <th>9</th>\n      <td>-</td>\n      <td>4.0</td>\n      <td>2.0</td>\n      <td>-</td>\n      <td>-</td>\n      <td>-</td>\n      <td>19.0</td>\n      <td>28.0</td>\n      <td>7.0</td>\n      <td>8.0</td>\n      <td>...</td>\n      <td>-</td>\n      <td>-</td>\n      <td>-</td>\n      <td>-</td>\n      <td>-</td>\n      <td>-</td>\n      <td>10.0</td>\n      <td>-</td>\n      <td>10.0</td>\n      <td>5.5</td>\n    </tr>\n  </tbody>\n</table>\n<p>10 rows × 50 columns</p>\n</div>"
     },
     "execution_count": 62,
     "metadata": {},
     "output_type": "execute_result"
    }
   ],
   "source": [
    "comp, diff = compare_monsters(result[\"values\"], orc_brute)\n",
    "comp"
   ],
   "metadata": {
    "collapsed": false
   }
  },
  {
   "cell_type": "code",
   "execution_count": 63,
   "outputs": [
    {
     "data": {
      "text/plain": "  str_diff dex_diff con_diff int_diff wis_diff cha_diff  ac_diff  hp_diff  \\\n0     -1.0      2.0     -1.0        -      1.0        -      4.0     15.0   \n1     -1.0      2.0     -2.0      2.0     -1.0      1.0      4.0     12.0   \n2      1.0        -     -2.0        -        -      2.0      4.0     17.0   \n3        -      2.0        -      3.0        -      1.0      3.0     15.0   \n4      1.0     -1.0        -        -      1.0      1.0      3.0     13.0   \n5        -        -      1.0        -      2.0        -      3.0     15.0   \n6     -1.0      1.0     -3.0      5.0     -1.0      1.0      2.0      7.0   \n7      1.0      1.0     -1.0        -        -        -      3.0     14.0   \n8      1.0        -        -        -        -        -      2.0     19.0   \n9        -      2.0     -1.0        -        -        -      4.0     13.0   \n\n   perception_diff  fortitude_diff  ...  spells_nr_lvl_4_diff  \\\n0              1.0             2.0  ...                   1.0   \n1              1.0             1.0  ...                     -   \n2              6.0             1.0  ...                     -   \n3              2.0             3.0  ...                     -   \n4              3.0             3.0  ...                     -   \n5              4.0             4.0  ...                   1.0   \n6             -1.0            -2.0  ...                     -   \n7              2.0             2.0  ...                     -   \n8              2.0             3.0  ...                     -   \n9              2.0             2.0  ...                     -   \n\n   spells_nr_lvl_5_diff spells_nr_lvl_6_diff spells_nr_lvl_7_diff  \\\n0                     -                    -                    -   \n1                     -                    -                    -   \n2                     -                    -                    -   \n3                     -                    -                    -   \n4                     -                    -                    -   \n5                     -                    -                    -   \n6                     -                    -                    -   \n7                     -                    -                    -   \n8                     -                    -                    -   \n9                     -                    -                    -   \n\n  spells_nr_lvl_8_diff spells_nr_lvl_9_diff melee_max_bonus_diff  \\\n0                    -                    -                  3.0   \n1                    -                    -                  3.0   \n2                    -                    -                  3.0   \n3                    -                    -                  3.0   \n4                    -                    -                  3.0   \n5                    -                    -                  4.0   \n6                    -                    -                    -   \n7                    -                    -                  3.0   \n8                    -                    -                  3.0   \n9                    -                    -                  3.0   \n\n  avg_melee_dmg_diff ranged_max_bonus_diff avg_ranged_dmg_diff  \n0                  -                   6.0                -1.0  \n1               -1.0                   6.0                -3.0  \n2                1.0                   4.0                 1.0  \n3                4.0                   6.0                   -  \n4                4.0                   3.0                -2.0  \n5                2.0                   7.0                 1.0  \n6               -1.0                   3.0                -2.0  \n7                1.0                   6.0                -3.0  \n8                1.0                   4.0                 1.0  \n9                  -                   6.0                -1.0  \n\n[10 rows x 50 columns]",
      "text/html": "<div>\n<style scoped>\n    .dataframe tbody tr th:only-of-type {\n        vertical-align: middle;\n    }\n\n    .dataframe tbody tr th {\n        vertical-align: top;\n    }\n\n    .dataframe thead th {\n        text-align: right;\n    }\n</style>\n<table border=\"1\" class=\"dataframe\">\n  <thead>\n    <tr style=\"text-align: right;\">\n      <th></th>\n      <th>str_diff</th>\n      <th>dex_diff</th>\n      <th>con_diff</th>\n      <th>int_diff</th>\n      <th>wis_diff</th>\n      <th>cha_diff</th>\n      <th>ac_diff</th>\n      <th>hp_diff</th>\n      <th>perception_diff</th>\n      <th>fortitude_diff</th>\n      <th>...</th>\n      <th>spells_nr_lvl_4_diff</th>\n      <th>spells_nr_lvl_5_diff</th>\n      <th>spells_nr_lvl_6_diff</th>\n      <th>spells_nr_lvl_7_diff</th>\n      <th>spells_nr_lvl_8_diff</th>\n      <th>spells_nr_lvl_9_diff</th>\n      <th>melee_max_bonus_diff</th>\n      <th>avg_melee_dmg_diff</th>\n      <th>ranged_max_bonus_diff</th>\n      <th>avg_ranged_dmg_diff</th>\n    </tr>\n  </thead>\n  <tbody>\n    <tr>\n      <th>0</th>\n      <td>-1.0</td>\n      <td>2.0</td>\n      <td>-1.0</td>\n      <td>-</td>\n      <td>1.0</td>\n      <td>-</td>\n      <td>4.0</td>\n      <td>15.0</td>\n      <td>1.0</td>\n      <td>2.0</td>\n      <td>...</td>\n      <td>1.0</td>\n      <td>-</td>\n      <td>-</td>\n      <td>-</td>\n      <td>-</td>\n      <td>-</td>\n      <td>3.0</td>\n      <td>-</td>\n      <td>6.0</td>\n      <td>-1.0</td>\n    </tr>\n    <tr>\n      <th>1</th>\n      <td>-1.0</td>\n      <td>2.0</td>\n      <td>-2.0</td>\n      <td>2.0</td>\n      <td>-1.0</td>\n      <td>1.0</td>\n      <td>4.0</td>\n      <td>12.0</td>\n      <td>1.0</td>\n      <td>1.0</td>\n      <td>...</td>\n      <td>-</td>\n      <td>-</td>\n      <td>-</td>\n      <td>-</td>\n      <td>-</td>\n      <td>-</td>\n      <td>3.0</td>\n      <td>-1.0</td>\n      <td>6.0</td>\n      <td>-3.0</td>\n    </tr>\n    <tr>\n      <th>2</th>\n      <td>1.0</td>\n      <td>-</td>\n      <td>-2.0</td>\n      <td>-</td>\n      <td>-</td>\n      <td>2.0</td>\n      <td>4.0</td>\n      <td>17.0</td>\n      <td>6.0</td>\n      <td>1.0</td>\n      <td>...</td>\n      <td>-</td>\n      <td>-</td>\n      <td>-</td>\n      <td>-</td>\n      <td>-</td>\n      <td>-</td>\n      <td>3.0</td>\n      <td>1.0</td>\n      <td>4.0</td>\n      <td>1.0</td>\n    </tr>\n    <tr>\n      <th>3</th>\n      <td>-</td>\n      <td>2.0</td>\n      <td>-</td>\n      <td>3.0</td>\n      <td>-</td>\n      <td>1.0</td>\n      <td>3.0</td>\n      <td>15.0</td>\n      <td>2.0</td>\n      <td>3.0</td>\n      <td>...</td>\n      <td>-</td>\n      <td>-</td>\n      <td>-</td>\n      <td>-</td>\n      <td>-</td>\n      <td>-</td>\n      <td>3.0</td>\n      <td>4.0</td>\n      <td>6.0</td>\n      <td>-</td>\n    </tr>\n    <tr>\n      <th>4</th>\n      <td>1.0</td>\n      <td>-1.0</td>\n      <td>-</td>\n      <td>-</td>\n      <td>1.0</td>\n      <td>1.0</td>\n      <td>3.0</td>\n      <td>13.0</td>\n      <td>3.0</td>\n      <td>3.0</td>\n      <td>...</td>\n      <td>-</td>\n      <td>-</td>\n      <td>-</td>\n      <td>-</td>\n      <td>-</td>\n      <td>-</td>\n      <td>3.0</td>\n      <td>4.0</td>\n      <td>3.0</td>\n      <td>-2.0</td>\n    </tr>\n    <tr>\n      <th>5</th>\n      <td>-</td>\n      <td>-</td>\n      <td>1.0</td>\n      <td>-</td>\n      <td>2.0</td>\n      <td>-</td>\n      <td>3.0</td>\n      <td>15.0</td>\n      <td>4.0</td>\n      <td>4.0</td>\n      <td>...</td>\n      <td>1.0</td>\n      <td>-</td>\n      <td>-</td>\n      <td>-</td>\n      <td>-</td>\n      <td>-</td>\n      <td>4.0</td>\n      <td>2.0</td>\n      <td>7.0</td>\n      <td>1.0</td>\n    </tr>\n    <tr>\n      <th>6</th>\n      <td>-1.0</td>\n      <td>1.0</td>\n      <td>-3.0</td>\n      <td>5.0</td>\n      <td>-1.0</td>\n      <td>1.0</td>\n      <td>2.0</td>\n      <td>7.0</td>\n      <td>-1.0</td>\n      <td>-2.0</td>\n      <td>...</td>\n      <td>-</td>\n      <td>-</td>\n      <td>-</td>\n      <td>-</td>\n      <td>-</td>\n      <td>-</td>\n      <td>-</td>\n      <td>-1.0</td>\n      <td>3.0</td>\n      <td>-2.0</td>\n    </tr>\n    <tr>\n      <th>7</th>\n      <td>1.0</td>\n      <td>1.0</td>\n      <td>-1.0</td>\n      <td>-</td>\n      <td>-</td>\n      <td>-</td>\n      <td>3.0</td>\n      <td>14.0</td>\n      <td>2.0</td>\n      <td>2.0</td>\n      <td>...</td>\n      <td>-</td>\n      <td>-</td>\n      <td>-</td>\n      <td>-</td>\n      <td>-</td>\n      <td>-</td>\n      <td>3.0</td>\n      <td>1.0</td>\n      <td>6.0</td>\n      <td>-3.0</td>\n    </tr>\n    <tr>\n      <th>8</th>\n      <td>1.0</td>\n      <td>-</td>\n      <td>-</td>\n      <td>-</td>\n      <td>-</td>\n      <td>-</td>\n      <td>2.0</td>\n      <td>19.0</td>\n      <td>2.0</td>\n      <td>3.0</td>\n      <td>...</td>\n      <td>-</td>\n      <td>-</td>\n      <td>-</td>\n      <td>-</td>\n      <td>-</td>\n      <td>-</td>\n      <td>3.0</td>\n      <td>1.0</td>\n      <td>4.0</td>\n      <td>1.0</td>\n    </tr>\n    <tr>\n      <th>9</th>\n      <td>-</td>\n      <td>2.0</td>\n      <td>-1.0</td>\n      <td>-</td>\n      <td>-</td>\n      <td>-</td>\n      <td>4.0</td>\n      <td>13.0</td>\n      <td>2.0</td>\n      <td>2.0</td>\n      <td>...</td>\n      <td>-</td>\n      <td>-</td>\n      <td>-</td>\n      <td>-</td>\n      <td>-</td>\n      <td>-</td>\n      <td>3.0</td>\n      <td>-</td>\n      <td>6.0</td>\n      <td>-1.0</td>\n    </tr>\n  </tbody>\n</table>\n<p>10 rows × 50 columns</p>\n</div>"
     },
     "execution_count": 63,
     "metadata": {},
     "output_type": "execute_result"
    }
   ],
   "source": [
    "diff"
   ],
   "metadata": {
    "collapsed": false
   }
  },
  {
   "cell_type": "markdown",
   "source": [
    "##### Compare to *Orc Warchief*"
   ],
   "metadata": {
    "collapsed": false
   }
  },
  {
   "cell_type": "code",
   "execution_count": 64,
   "outputs": [
    {
     "data": {
      "text/plain": "   str  dex  con  int  wis  cha    ac    hp perception fortitude  ...  \\\n0  2.0  4.0  2.0    -  2.0  0.0     -  30.0        6.0       8.0  ...   \n1  2.0  4.0    -  1.0  0.0  1.0     -  27.0        6.0         -  ...   \n2    -    -    -    -    -    -     -     -          -         -  ...   \n3  3.0  4.0  3.0  2.0    -  1.0  18.0  30.0        7.0       9.0  ...   \n4    -  1.0  3.0    -  2.0  1.0  18.0  28.0        8.0       9.0  ...   \n5  3.0    -  4.0    -  3.0  0.0  18.0  30.0        9.0      10.0  ...   \n6  2.0  3.0  0.0  4.0  0.0  1.0  17.0  22.0        4.0       4.0  ...   \n7    -  3.0  2.0    -    -  0.0  18.0  29.0        7.0       8.0  ...   \n8    -    -  3.0    -    -  0.0  17.0  34.0        7.0       9.0  ...   \n9  3.0  4.0  2.0    -    -  0.0     -  28.0        7.0       8.0  ...   \n\n  spells_nr_lvl_4 spells_nr_lvl_5 spells_nr_lvl_6 spells_nr_lvl_7  \\\n0             1.0               -               -               -   \n1               -               -               -               -   \n2               -               -               -               -   \n3               -               -               -               -   \n4               -               -               -               -   \n5             1.0               -               -               -   \n6               -               -               -               -   \n7               -               -               -               -   \n8               -               -               -               -   \n9               -               -               -               -   \n\n  spells_nr_lvl_8 spells_nr_lvl_9 melee_max_bonus avg_melee_dmg  \\\n0               -               -               -           5.5   \n1               -               -               -           4.5   \n2               -               -               -             -   \n3               -               -               -           9.5   \n4               -               -               -           9.5   \n5               -               -            11.0           7.5   \n6               -               -             7.0           4.5   \n7               -               -               -             -   \n8               -               -               -             -   \n9               -               -               -           5.5   \n\n  ranged_max_bonus avg_ranged_dmg  \n0             10.0            5.5  \n1             10.0            3.5  \n2                -              -  \n3             10.0            6.5  \n4              7.0            4.5  \n5             11.0              -  \n6              7.0            4.5  \n7             10.0            3.5  \n8                -              -  \n9             10.0            5.5  \n\n[10 rows x 50 columns]",
      "text/html": "<div>\n<style scoped>\n    .dataframe tbody tr th:only-of-type {\n        vertical-align: middle;\n    }\n\n    .dataframe tbody tr th {\n        vertical-align: top;\n    }\n\n    .dataframe thead th {\n        text-align: right;\n    }\n</style>\n<table border=\"1\" class=\"dataframe\">\n  <thead>\n    <tr style=\"text-align: right;\">\n      <th></th>\n      <th>str</th>\n      <th>dex</th>\n      <th>con</th>\n      <th>int</th>\n      <th>wis</th>\n      <th>cha</th>\n      <th>ac</th>\n      <th>hp</th>\n      <th>perception</th>\n      <th>fortitude</th>\n      <th>...</th>\n      <th>spells_nr_lvl_4</th>\n      <th>spells_nr_lvl_5</th>\n      <th>spells_nr_lvl_6</th>\n      <th>spells_nr_lvl_7</th>\n      <th>spells_nr_lvl_8</th>\n      <th>spells_nr_lvl_9</th>\n      <th>melee_max_bonus</th>\n      <th>avg_melee_dmg</th>\n      <th>ranged_max_bonus</th>\n      <th>avg_ranged_dmg</th>\n    </tr>\n  </thead>\n  <tbody>\n    <tr>\n      <th>0</th>\n      <td>2.0</td>\n      <td>4.0</td>\n      <td>2.0</td>\n      <td>-</td>\n      <td>2.0</td>\n      <td>0.0</td>\n      <td>-</td>\n      <td>30.0</td>\n      <td>6.0</td>\n      <td>8.0</td>\n      <td>...</td>\n      <td>1.0</td>\n      <td>-</td>\n      <td>-</td>\n      <td>-</td>\n      <td>-</td>\n      <td>-</td>\n      <td>-</td>\n      <td>5.5</td>\n      <td>10.0</td>\n      <td>5.5</td>\n    </tr>\n    <tr>\n      <th>1</th>\n      <td>2.0</td>\n      <td>4.0</td>\n      <td>-</td>\n      <td>1.0</td>\n      <td>0.0</td>\n      <td>1.0</td>\n      <td>-</td>\n      <td>27.0</td>\n      <td>6.0</td>\n      <td>-</td>\n      <td>...</td>\n      <td>-</td>\n      <td>-</td>\n      <td>-</td>\n      <td>-</td>\n      <td>-</td>\n      <td>-</td>\n      <td>-</td>\n      <td>4.5</td>\n      <td>10.0</td>\n      <td>3.5</td>\n    </tr>\n    <tr>\n      <th>2</th>\n      <td>-</td>\n      <td>-</td>\n      <td>-</td>\n      <td>-</td>\n      <td>-</td>\n      <td>-</td>\n      <td>-</td>\n      <td>-</td>\n      <td>-</td>\n      <td>-</td>\n      <td>...</td>\n      <td>-</td>\n      <td>-</td>\n      <td>-</td>\n      <td>-</td>\n      <td>-</td>\n      <td>-</td>\n      <td>-</td>\n      <td>-</td>\n      <td>-</td>\n      <td>-</td>\n    </tr>\n    <tr>\n      <th>3</th>\n      <td>3.0</td>\n      <td>4.0</td>\n      <td>3.0</td>\n      <td>2.0</td>\n      <td>-</td>\n      <td>1.0</td>\n      <td>18.0</td>\n      <td>30.0</td>\n      <td>7.0</td>\n      <td>9.0</td>\n      <td>...</td>\n      <td>-</td>\n      <td>-</td>\n      <td>-</td>\n      <td>-</td>\n      <td>-</td>\n      <td>-</td>\n      <td>-</td>\n      <td>9.5</td>\n      <td>10.0</td>\n      <td>6.5</td>\n    </tr>\n    <tr>\n      <th>4</th>\n      <td>-</td>\n      <td>1.0</td>\n      <td>3.0</td>\n      <td>-</td>\n      <td>2.0</td>\n      <td>1.0</td>\n      <td>18.0</td>\n      <td>28.0</td>\n      <td>8.0</td>\n      <td>9.0</td>\n      <td>...</td>\n      <td>-</td>\n      <td>-</td>\n      <td>-</td>\n      <td>-</td>\n      <td>-</td>\n      <td>-</td>\n      <td>-</td>\n      <td>9.5</td>\n      <td>7.0</td>\n      <td>4.5</td>\n    </tr>\n    <tr>\n      <th>5</th>\n      <td>3.0</td>\n      <td>-</td>\n      <td>4.0</td>\n      <td>-</td>\n      <td>3.0</td>\n      <td>0.0</td>\n      <td>18.0</td>\n      <td>30.0</td>\n      <td>9.0</td>\n      <td>10.0</td>\n      <td>...</td>\n      <td>1.0</td>\n      <td>-</td>\n      <td>-</td>\n      <td>-</td>\n      <td>-</td>\n      <td>-</td>\n      <td>11.0</td>\n      <td>7.5</td>\n      <td>11.0</td>\n      <td>-</td>\n    </tr>\n    <tr>\n      <th>6</th>\n      <td>2.0</td>\n      <td>3.0</td>\n      <td>0.0</td>\n      <td>4.0</td>\n      <td>0.0</td>\n      <td>1.0</td>\n      <td>17.0</td>\n      <td>22.0</td>\n      <td>4.0</td>\n      <td>4.0</td>\n      <td>...</td>\n      <td>-</td>\n      <td>-</td>\n      <td>-</td>\n      <td>-</td>\n      <td>-</td>\n      <td>-</td>\n      <td>7.0</td>\n      <td>4.5</td>\n      <td>7.0</td>\n      <td>4.5</td>\n    </tr>\n    <tr>\n      <th>7</th>\n      <td>-</td>\n      <td>3.0</td>\n      <td>2.0</td>\n      <td>-</td>\n      <td>-</td>\n      <td>0.0</td>\n      <td>18.0</td>\n      <td>29.0</td>\n      <td>7.0</td>\n      <td>8.0</td>\n      <td>...</td>\n      <td>-</td>\n      <td>-</td>\n      <td>-</td>\n      <td>-</td>\n      <td>-</td>\n      <td>-</td>\n      <td>-</td>\n      <td>-</td>\n      <td>10.0</td>\n      <td>3.5</td>\n    </tr>\n    <tr>\n      <th>8</th>\n      <td>-</td>\n      <td>-</td>\n      <td>3.0</td>\n      <td>-</td>\n      <td>-</td>\n      <td>0.0</td>\n      <td>17.0</td>\n      <td>34.0</td>\n      <td>7.0</td>\n      <td>9.0</td>\n      <td>...</td>\n      <td>-</td>\n      <td>-</td>\n      <td>-</td>\n      <td>-</td>\n      <td>-</td>\n      <td>-</td>\n      <td>-</td>\n      <td>-</td>\n      <td>-</td>\n      <td>-</td>\n    </tr>\n    <tr>\n      <th>9</th>\n      <td>3.0</td>\n      <td>4.0</td>\n      <td>2.0</td>\n      <td>-</td>\n      <td>-</td>\n      <td>0.0</td>\n      <td>-</td>\n      <td>28.0</td>\n      <td>7.0</td>\n      <td>8.0</td>\n      <td>...</td>\n      <td>-</td>\n      <td>-</td>\n      <td>-</td>\n      <td>-</td>\n      <td>-</td>\n      <td>-</td>\n      <td>-</td>\n      <td>5.5</td>\n      <td>10.0</td>\n      <td>5.5</td>\n    </tr>\n  </tbody>\n</table>\n<p>10 rows × 50 columns</p>\n</div>"
     },
     "execution_count": 64,
     "metadata": {},
     "output_type": "execute_result"
    }
   ],
   "source": [
    "comp, diff = compare_monsters(result[\"values\"], orc_warchief)\n",
    "comp"
   ],
   "metadata": {
    "collapsed": false
   }
  },
  {
   "cell_type": "code",
   "execution_count": 65,
   "outputs": [
    {
     "data": {
      "text/plain": "  str_diff dex_diff con_diff int_diff wis_diff cha_diff ac_diff hp_diff  \\\n0     -2.0      2.0      1.0        -      1.0     -2.0       -    -2.0   \n1     -2.0      2.0        -      2.0     -1.0     -1.0       -    -5.0   \n2        -        -        -        -        -        -       -       -   \n3     -1.0      2.0      2.0      3.0        -     -1.0    -1.0    -2.0   \n4        -     -1.0      2.0        -      1.0     -1.0    -1.0    -4.0   \n5     -1.0        -      3.0        -      2.0     -2.0    -1.0    -2.0   \n6     -2.0      1.0     -1.0      5.0     -1.0     -1.0    -2.0   -10.0   \n7        -      1.0      1.0        -        -     -2.0    -1.0    -3.0   \n8        -        -      2.0        -        -     -2.0    -2.0     2.0   \n9     -1.0      2.0      1.0        -        -     -2.0       -    -4.0   \n\n  perception_diff fortitude_diff  ... spells_nr_lvl_4_diff  \\\n0            -5.0            1.0  ...                  1.0   \n1            -5.0              -  ...                    -   \n2               -              -  ...                    -   \n3            -4.0            2.0  ...                    -   \n4            -3.0            2.0  ...                    -   \n5            -2.0            3.0  ...                  1.0   \n6            -7.0           -3.0  ...                    -   \n7            -4.0            1.0  ...                    -   \n8            -4.0            2.0  ...                    -   \n9            -4.0            1.0  ...                    -   \n\n  spells_nr_lvl_5_diff spells_nr_lvl_6_diff spells_nr_lvl_7_diff  \\\n0                    -                    -                    -   \n1                    -                    -                    -   \n2                    -                    -                    -   \n3                    -                    -                    -   \n4                    -                    -                    -   \n5                    -                    -                    -   \n6                    -                    -                    -   \n7                    -                    -                    -   \n8                    -                    -                    -   \n9                    -                    -                    -   \n\n  spells_nr_lvl_8_diff spells_nr_lvl_9_diff melee_max_bonus_diff  \\\n0                    -                    -                    -   \n1                    -                    -                    -   \n2                    -                    -                    -   \n3                    -                    -                    -   \n4                    -                    -                    -   \n5                    -                    -                  1.0   \n6                    -                    -                 -3.0   \n7                    -                    -                    -   \n8                    -                    -                    -   \n9                    -                    -                    -   \n\n  avg_melee_dmg_diff ranged_max_bonus_diff avg_ranged_dmg_diff  \n0               -1.0                   2.0                -2.0  \n1               -2.0                   2.0                -4.0  \n2                  -                     -                   -  \n3                3.0                   2.0                -1.0  \n4                3.0                  -1.0                -3.0  \n5                1.0                   3.0                   -  \n6               -2.0                  -1.0                -3.0  \n7                  -                   2.0                -4.0  \n8                  -                     -                   -  \n9               -1.0                   2.0                -2.0  \n\n[10 rows x 50 columns]",
      "text/html": "<div>\n<style scoped>\n    .dataframe tbody tr th:only-of-type {\n        vertical-align: middle;\n    }\n\n    .dataframe tbody tr th {\n        vertical-align: top;\n    }\n\n    .dataframe thead th {\n        text-align: right;\n    }\n</style>\n<table border=\"1\" class=\"dataframe\">\n  <thead>\n    <tr style=\"text-align: right;\">\n      <th></th>\n      <th>str_diff</th>\n      <th>dex_diff</th>\n      <th>con_diff</th>\n      <th>int_diff</th>\n      <th>wis_diff</th>\n      <th>cha_diff</th>\n      <th>ac_diff</th>\n      <th>hp_diff</th>\n      <th>perception_diff</th>\n      <th>fortitude_diff</th>\n      <th>...</th>\n      <th>spells_nr_lvl_4_diff</th>\n      <th>spells_nr_lvl_5_diff</th>\n      <th>spells_nr_lvl_6_diff</th>\n      <th>spells_nr_lvl_7_diff</th>\n      <th>spells_nr_lvl_8_diff</th>\n      <th>spells_nr_lvl_9_diff</th>\n      <th>melee_max_bonus_diff</th>\n      <th>avg_melee_dmg_diff</th>\n      <th>ranged_max_bonus_diff</th>\n      <th>avg_ranged_dmg_diff</th>\n    </tr>\n  </thead>\n  <tbody>\n    <tr>\n      <th>0</th>\n      <td>-2.0</td>\n      <td>2.0</td>\n      <td>1.0</td>\n      <td>-</td>\n      <td>1.0</td>\n      <td>-2.0</td>\n      <td>-</td>\n      <td>-2.0</td>\n      <td>-5.0</td>\n      <td>1.0</td>\n      <td>...</td>\n      <td>1.0</td>\n      <td>-</td>\n      <td>-</td>\n      <td>-</td>\n      <td>-</td>\n      <td>-</td>\n      <td>-</td>\n      <td>-1.0</td>\n      <td>2.0</td>\n      <td>-2.0</td>\n    </tr>\n    <tr>\n      <th>1</th>\n      <td>-2.0</td>\n      <td>2.0</td>\n      <td>-</td>\n      <td>2.0</td>\n      <td>-1.0</td>\n      <td>-1.0</td>\n      <td>-</td>\n      <td>-5.0</td>\n      <td>-5.0</td>\n      <td>-</td>\n      <td>...</td>\n      <td>-</td>\n      <td>-</td>\n      <td>-</td>\n      <td>-</td>\n      <td>-</td>\n      <td>-</td>\n      <td>-</td>\n      <td>-2.0</td>\n      <td>2.0</td>\n      <td>-4.0</td>\n    </tr>\n    <tr>\n      <th>2</th>\n      <td>-</td>\n      <td>-</td>\n      <td>-</td>\n      <td>-</td>\n      <td>-</td>\n      <td>-</td>\n      <td>-</td>\n      <td>-</td>\n      <td>-</td>\n      <td>-</td>\n      <td>...</td>\n      <td>-</td>\n      <td>-</td>\n      <td>-</td>\n      <td>-</td>\n      <td>-</td>\n      <td>-</td>\n      <td>-</td>\n      <td>-</td>\n      <td>-</td>\n      <td>-</td>\n    </tr>\n    <tr>\n      <th>3</th>\n      <td>-1.0</td>\n      <td>2.0</td>\n      <td>2.0</td>\n      <td>3.0</td>\n      <td>-</td>\n      <td>-1.0</td>\n      <td>-1.0</td>\n      <td>-2.0</td>\n      <td>-4.0</td>\n      <td>2.0</td>\n      <td>...</td>\n      <td>-</td>\n      <td>-</td>\n      <td>-</td>\n      <td>-</td>\n      <td>-</td>\n      <td>-</td>\n      <td>-</td>\n      <td>3.0</td>\n      <td>2.0</td>\n      <td>-1.0</td>\n    </tr>\n    <tr>\n      <th>4</th>\n      <td>-</td>\n      <td>-1.0</td>\n      <td>2.0</td>\n      <td>-</td>\n      <td>1.0</td>\n      <td>-1.0</td>\n      <td>-1.0</td>\n      <td>-4.0</td>\n      <td>-3.0</td>\n      <td>2.0</td>\n      <td>...</td>\n      <td>-</td>\n      <td>-</td>\n      <td>-</td>\n      <td>-</td>\n      <td>-</td>\n      <td>-</td>\n      <td>-</td>\n      <td>3.0</td>\n      <td>-1.0</td>\n      <td>-3.0</td>\n    </tr>\n    <tr>\n      <th>5</th>\n      <td>-1.0</td>\n      <td>-</td>\n      <td>3.0</td>\n      <td>-</td>\n      <td>2.0</td>\n      <td>-2.0</td>\n      <td>-1.0</td>\n      <td>-2.0</td>\n      <td>-2.0</td>\n      <td>3.0</td>\n      <td>...</td>\n      <td>1.0</td>\n      <td>-</td>\n      <td>-</td>\n      <td>-</td>\n      <td>-</td>\n      <td>-</td>\n      <td>1.0</td>\n      <td>1.0</td>\n      <td>3.0</td>\n      <td>-</td>\n    </tr>\n    <tr>\n      <th>6</th>\n      <td>-2.0</td>\n      <td>1.0</td>\n      <td>-1.0</td>\n      <td>5.0</td>\n      <td>-1.0</td>\n      <td>-1.0</td>\n      <td>-2.0</td>\n      <td>-10.0</td>\n      <td>-7.0</td>\n      <td>-3.0</td>\n      <td>...</td>\n      <td>-</td>\n      <td>-</td>\n      <td>-</td>\n      <td>-</td>\n      <td>-</td>\n      <td>-</td>\n      <td>-3.0</td>\n      <td>-2.0</td>\n      <td>-1.0</td>\n      <td>-3.0</td>\n    </tr>\n    <tr>\n      <th>7</th>\n      <td>-</td>\n      <td>1.0</td>\n      <td>1.0</td>\n      <td>-</td>\n      <td>-</td>\n      <td>-2.0</td>\n      <td>-1.0</td>\n      <td>-3.0</td>\n      <td>-4.0</td>\n      <td>1.0</td>\n      <td>...</td>\n      <td>-</td>\n      <td>-</td>\n      <td>-</td>\n      <td>-</td>\n      <td>-</td>\n      <td>-</td>\n      <td>-</td>\n      <td>-</td>\n      <td>2.0</td>\n      <td>-4.0</td>\n    </tr>\n    <tr>\n      <th>8</th>\n      <td>-</td>\n      <td>-</td>\n      <td>2.0</td>\n      <td>-</td>\n      <td>-</td>\n      <td>-2.0</td>\n      <td>-2.0</td>\n      <td>2.0</td>\n      <td>-4.0</td>\n      <td>2.0</td>\n      <td>...</td>\n      <td>-</td>\n      <td>-</td>\n      <td>-</td>\n      <td>-</td>\n      <td>-</td>\n      <td>-</td>\n      <td>-</td>\n      <td>-</td>\n      <td>-</td>\n      <td>-</td>\n    </tr>\n    <tr>\n      <th>9</th>\n      <td>-1.0</td>\n      <td>2.0</td>\n      <td>1.0</td>\n      <td>-</td>\n      <td>-</td>\n      <td>-2.0</td>\n      <td>-</td>\n      <td>-4.0</td>\n      <td>-4.0</td>\n      <td>1.0</td>\n      <td>...</td>\n      <td>-</td>\n      <td>-</td>\n      <td>-</td>\n      <td>-</td>\n      <td>-</td>\n      <td>-</td>\n      <td>-</td>\n      <td>-1.0</td>\n      <td>2.0</td>\n      <td>-2.0</td>\n    </tr>\n  </tbody>\n</table>\n<p>10 rows × 50 columns</p>\n</div>"
     },
     "execution_count": 65,
     "metadata": {},
     "output_type": "execute_result"
    }
   ],
   "source": [
    "diff"
   ],
   "metadata": {
    "collapsed": false
   }
  },
  {
   "cell_type": "markdown",
   "source": [
    "### Orc Warrior"
   ],
   "metadata": {
    "collapsed": false
   }
  },
  {
   "cell_type": "code",
   "execution_count": 66,
   "outputs": [
    {
     "name": "stderr",
     "output_type": "stream",
     "text": [
      "100%|██████████| 1/1 [00:00<00:00,  1.74it/s]\n"
     ]
    }
   ],
   "source": [
    "result = generate_counterfactuals(\n",
    "    monster_stats=orc_warrior,\n",
    "    model=model,\n",
    "    new_level=0,\n",
    "    df=dataset,\n",
    "    total_cf=5,\n",
    "    ordered_characteristics=ORDERED_CHARACTERISTICS_50,\n",
    ")"
   ],
   "metadata": {
    "collapsed": false
   }
  },
  {
   "cell_type": "code",
   "execution_count": 67,
   "outputs": [
    {
     "name": "stdout",
     "output_type": "stream",
     "text": [
      "[-0.00048705]\n",
      "[-2.66855732e-05]\n",
      "[-0.00012151]\n",
      "[6.31504776e-05]\n",
      "[0.00011427]\n"
     ]
    }
   ],
   "source": [
    "test_cfs(result[\"values\"], 0)"
   ],
   "metadata": {
    "collapsed": false
   }
  },
  {
   "cell_type": "markdown",
   "source": [
    "##### Compare to original data"
   ],
   "metadata": {
    "collapsed": false
   }
  },
  {
   "cell_type": "code",
   "execution_count": 68,
   "outputs": [
    {
     "data": {
      "text/plain": "   str  dex  con  int  wis  cha    ac    hp perception fortitude  ...  \\\n0  0.0  1.0  2.0 -5.0  2.0 -2.0  16.0  15.0          -         -  ...   \n1  3.0    -    - -4.0  2.0    -  14.0  16.0        4.0       7.0  ...   \n2  3.0    -    - -4.0    -  1.0  15.0  18.0        7.0       7.0  ...   \n3  3.0    -  2.0 -5.0  2.0    -  16.0  15.0          -       6.0  ...   \n4  3.0    -    -    -    -    -  15.0  15.0        5.0       6.0  ...   \n\n   spells_nr_lvl_4 spells_nr_lvl_5 spells_nr_lvl_6 spells_nr_lvl_7  \\\n0                -               -               -               -   \n1                -               -               -               -   \n2                -               -               -               -   \n3                -               -               -               -   \n4                -               -               -               -   \n\n  spells_nr_lvl_8 spells_nr_lvl_9 melee_max_bonus avg_melee_dmg  \\\n0               -               -             8.0           3.5   \n1               -               -             5.0           5.5   \n2               -               -               -             -   \n3               -               -               -           5.5   \n4               -               -               -           5.5   \n\n  ranged_max_bonus avg_ranged_dmg  \n0              0.0            0.0  \n1              0.0            0.0  \n2              0.0            0.0  \n3              0.0            0.0  \n4              4.0            6.5  \n\n[5 rows x 50 columns]",
      "text/html": "<div>\n<style scoped>\n    .dataframe tbody tr th:only-of-type {\n        vertical-align: middle;\n    }\n\n    .dataframe tbody tr th {\n        vertical-align: top;\n    }\n\n    .dataframe thead th {\n        text-align: right;\n    }\n</style>\n<table border=\"1\" class=\"dataframe\">\n  <thead>\n    <tr style=\"text-align: right;\">\n      <th></th>\n      <th>str</th>\n      <th>dex</th>\n      <th>con</th>\n      <th>int</th>\n      <th>wis</th>\n      <th>cha</th>\n      <th>ac</th>\n      <th>hp</th>\n      <th>perception</th>\n      <th>fortitude</th>\n      <th>...</th>\n      <th>spells_nr_lvl_4</th>\n      <th>spells_nr_lvl_5</th>\n      <th>spells_nr_lvl_6</th>\n      <th>spells_nr_lvl_7</th>\n      <th>spells_nr_lvl_8</th>\n      <th>spells_nr_lvl_9</th>\n      <th>melee_max_bonus</th>\n      <th>avg_melee_dmg</th>\n      <th>ranged_max_bonus</th>\n      <th>avg_ranged_dmg</th>\n    </tr>\n  </thead>\n  <tbody>\n    <tr>\n      <th>0</th>\n      <td>0.0</td>\n      <td>1.0</td>\n      <td>2.0</td>\n      <td>-5.0</td>\n      <td>2.0</td>\n      <td>-2.0</td>\n      <td>16.0</td>\n      <td>15.0</td>\n      <td>-</td>\n      <td>-</td>\n      <td>...</td>\n      <td>-</td>\n      <td>-</td>\n      <td>-</td>\n      <td>-</td>\n      <td>-</td>\n      <td>-</td>\n      <td>8.0</td>\n      <td>3.5</td>\n      <td>0.0</td>\n      <td>0.0</td>\n    </tr>\n    <tr>\n      <th>1</th>\n      <td>3.0</td>\n      <td>-</td>\n      <td>-</td>\n      <td>-4.0</td>\n      <td>2.0</td>\n      <td>-</td>\n      <td>14.0</td>\n      <td>16.0</td>\n      <td>4.0</td>\n      <td>7.0</td>\n      <td>...</td>\n      <td>-</td>\n      <td>-</td>\n      <td>-</td>\n      <td>-</td>\n      <td>-</td>\n      <td>-</td>\n      <td>5.0</td>\n      <td>5.5</td>\n      <td>0.0</td>\n      <td>0.0</td>\n    </tr>\n    <tr>\n      <th>2</th>\n      <td>3.0</td>\n      <td>-</td>\n      <td>-</td>\n      <td>-4.0</td>\n      <td>-</td>\n      <td>1.0</td>\n      <td>15.0</td>\n      <td>18.0</td>\n      <td>7.0</td>\n      <td>7.0</td>\n      <td>...</td>\n      <td>-</td>\n      <td>-</td>\n      <td>-</td>\n      <td>-</td>\n      <td>-</td>\n      <td>-</td>\n      <td>-</td>\n      <td>-</td>\n      <td>0.0</td>\n      <td>0.0</td>\n    </tr>\n    <tr>\n      <th>3</th>\n      <td>3.0</td>\n      <td>-</td>\n      <td>2.0</td>\n      <td>-5.0</td>\n      <td>2.0</td>\n      <td>-</td>\n      <td>16.0</td>\n      <td>15.0</td>\n      <td>-</td>\n      <td>6.0</td>\n      <td>...</td>\n      <td>-</td>\n      <td>-</td>\n      <td>-</td>\n      <td>-</td>\n      <td>-</td>\n      <td>-</td>\n      <td>-</td>\n      <td>5.5</td>\n      <td>0.0</td>\n      <td>0.0</td>\n    </tr>\n    <tr>\n      <th>4</th>\n      <td>3.0</td>\n      <td>-</td>\n      <td>-</td>\n      <td>-</td>\n      <td>-</td>\n      <td>-</td>\n      <td>15.0</td>\n      <td>15.0</td>\n      <td>5.0</td>\n      <td>6.0</td>\n      <td>...</td>\n      <td>-</td>\n      <td>-</td>\n      <td>-</td>\n      <td>-</td>\n      <td>-</td>\n      <td>-</td>\n      <td>-</td>\n      <td>5.5</td>\n      <td>4.0</td>\n      <td>6.5</td>\n    </tr>\n  </tbody>\n</table>\n<p>5 rows × 50 columns</p>\n</div>"
     },
     "execution_count": 68,
     "metadata": {},
     "output_type": "execute_result"
    }
   ],
   "source": [
    "comp, diff = compare_monsters(result[\"values\"], orc_warrior)\n",
    "comp"
   ],
   "metadata": {
    "collapsed": false
   }
  },
  {
   "cell_type": "code",
   "execution_count": 69,
   "outputs": [
    {
     "data": {
      "text/plain": "   str_diff dex_diff con_diff int_diff wis_diff cha_diff  ac_diff  hp_diff  \\\n0      -4.0     -1.0     -1.0     -4.0      1.0     -2.0     -2.0     -8.0   \n1      -1.0        -        -     -3.0      1.0        -     -4.0     -7.0   \n2      -1.0        -        -     -3.0        -      1.0     -3.0     -5.0   \n3      -1.0        -     -1.0     -4.0      1.0        -     -2.0     -8.0   \n4      -1.0        -        -        -        -        -     -3.0     -8.0   \n\n  perception_diff fortitude_diff  ...  spells_nr_lvl_4_diff  \\\n0               -              -  ...                     -   \n1            -2.0           -1.0  ...                     -   \n2             1.0           -1.0  ...                     -   \n3               -           -2.0  ...                     -   \n4            -1.0           -2.0  ...                     -   \n\n  spells_nr_lvl_5_diff spells_nr_lvl_6_diff spells_nr_lvl_7_diff  \\\n0                    -                    -                    -   \n1                    -                    -                    -   \n2                    -                    -                    -   \n3                    -                    -                    -   \n4                    -                    -                    -   \n\n  spells_nr_lvl_8_diff spells_nr_lvl_9_diff melee_max_bonus_diff  \\\n0                    -                    -                  1.0   \n1                    -                    -                 -2.0   \n2                    -                    -                    -   \n3                    -                    -                    -   \n4                    -                    -                    -   \n\n  avg_melee_dmg_diff ranged_max_bonus_diff avg_ranged_dmg_diff  \n0               -3.0                  -5.0                -7.5  \n1               -1.0                  -5.0                -7.5  \n2                  -                  -5.0                -7.5  \n3               -1.0                  -5.0                -7.5  \n4               -1.0                  -1.0                -1.0  \n\n[5 rows x 50 columns]",
      "text/html": "<div>\n<style scoped>\n    .dataframe tbody tr th:only-of-type {\n        vertical-align: middle;\n    }\n\n    .dataframe tbody tr th {\n        vertical-align: top;\n    }\n\n    .dataframe thead th {\n        text-align: right;\n    }\n</style>\n<table border=\"1\" class=\"dataframe\">\n  <thead>\n    <tr style=\"text-align: right;\">\n      <th></th>\n      <th>str_diff</th>\n      <th>dex_diff</th>\n      <th>con_diff</th>\n      <th>int_diff</th>\n      <th>wis_diff</th>\n      <th>cha_diff</th>\n      <th>ac_diff</th>\n      <th>hp_diff</th>\n      <th>perception_diff</th>\n      <th>fortitude_diff</th>\n      <th>...</th>\n      <th>spells_nr_lvl_4_diff</th>\n      <th>spells_nr_lvl_5_diff</th>\n      <th>spells_nr_lvl_6_diff</th>\n      <th>spells_nr_lvl_7_diff</th>\n      <th>spells_nr_lvl_8_diff</th>\n      <th>spells_nr_lvl_9_diff</th>\n      <th>melee_max_bonus_diff</th>\n      <th>avg_melee_dmg_diff</th>\n      <th>ranged_max_bonus_diff</th>\n      <th>avg_ranged_dmg_diff</th>\n    </tr>\n  </thead>\n  <tbody>\n    <tr>\n      <th>0</th>\n      <td>-4.0</td>\n      <td>-1.0</td>\n      <td>-1.0</td>\n      <td>-4.0</td>\n      <td>1.0</td>\n      <td>-2.0</td>\n      <td>-2.0</td>\n      <td>-8.0</td>\n      <td>-</td>\n      <td>-</td>\n      <td>...</td>\n      <td>-</td>\n      <td>-</td>\n      <td>-</td>\n      <td>-</td>\n      <td>-</td>\n      <td>-</td>\n      <td>1.0</td>\n      <td>-3.0</td>\n      <td>-5.0</td>\n      <td>-7.5</td>\n    </tr>\n    <tr>\n      <th>1</th>\n      <td>-1.0</td>\n      <td>-</td>\n      <td>-</td>\n      <td>-3.0</td>\n      <td>1.0</td>\n      <td>-</td>\n      <td>-4.0</td>\n      <td>-7.0</td>\n      <td>-2.0</td>\n      <td>-1.0</td>\n      <td>...</td>\n      <td>-</td>\n      <td>-</td>\n      <td>-</td>\n      <td>-</td>\n      <td>-</td>\n      <td>-</td>\n      <td>-2.0</td>\n      <td>-1.0</td>\n      <td>-5.0</td>\n      <td>-7.5</td>\n    </tr>\n    <tr>\n      <th>2</th>\n      <td>-1.0</td>\n      <td>-</td>\n      <td>-</td>\n      <td>-3.0</td>\n      <td>-</td>\n      <td>1.0</td>\n      <td>-3.0</td>\n      <td>-5.0</td>\n      <td>1.0</td>\n      <td>-1.0</td>\n      <td>...</td>\n      <td>-</td>\n      <td>-</td>\n      <td>-</td>\n      <td>-</td>\n      <td>-</td>\n      <td>-</td>\n      <td>-</td>\n      <td>-</td>\n      <td>-5.0</td>\n      <td>-7.5</td>\n    </tr>\n    <tr>\n      <th>3</th>\n      <td>-1.0</td>\n      <td>-</td>\n      <td>-1.0</td>\n      <td>-4.0</td>\n      <td>1.0</td>\n      <td>-</td>\n      <td>-2.0</td>\n      <td>-8.0</td>\n      <td>-</td>\n      <td>-2.0</td>\n      <td>...</td>\n      <td>-</td>\n      <td>-</td>\n      <td>-</td>\n      <td>-</td>\n      <td>-</td>\n      <td>-</td>\n      <td>-</td>\n      <td>-1.0</td>\n      <td>-5.0</td>\n      <td>-7.5</td>\n    </tr>\n    <tr>\n      <th>4</th>\n      <td>-1.0</td>\n      <td>-</td>\n      <td>-</td>\n      <td>-</td>\n      <td>-</td>\n      <td>-</td>\n      <td>-3.0</td>\n      <td>-8.0</td>\n      <td>-1.0</td>\n      <td>-2.0</td>\n      <td>...</td>\n      <td>-</td>\n      <td>-</td>\n      <td>-</td>\n      <td>-</td>\n      <td>-</td>\n      <td>-</td>\n      <td>-</td>\n      <td>-1.0</td>\n      <td>-1.0</td>\n      <td>-1.0</td>\n    </tr>\n  </tbody>\n</table>\n<p>5 rows × 50 columns</p>\n</div>"
     },
     "execution_count": 69,
     "metadata": {},
     "output_type": "execute_result"
    }
   ],
   "source": [
    "diff"
   ],
   "metadata": {
    "collapsed": false
   }
  },
  {
   "cell_type": "markdown",
   "source": [
    "##### Compare to *Orc brute*"
   ],
   "metadata": {
    "collapsed": false
   }
  },
  {
   "cell_type": "code",
   "execution_count": 70,
   "outputs": [
    {
     "data": {
      "text/plain": "   str  dex  con  int  wis  cha    ac    hp perception fortitude  ...  \\\n0  0.0  1.0  2.0 -5.0  2.0 -2.0  16.0     -        6.0       8.0  ...   \n1    -    -    - -4.0  2.0    -  14.0  16.0        4.0       7.0  ...   \n2    -    -    - -4.0    -  1.0     -  18.0        7.0       7.0  ...   \n3    -    -  2.0 -5.0  2.0    -  16.0     -        6.0         -  ...   \n4    -    -    -    -    -    -     -     -          -         -  ...   \n\n  spells_nr_lvl_4 spells_nr_lvl_5 spells_nr_lvl_6 spells_nr_lvl_7  \\\n0               -               -               -               -   \n1               -               -               -               -   \n2               -               -               -               -   \n3               -               -               -               -   \n4               -               -               -               -   \n\n  spells_nr_lvl_8 spells_nr_lvl_9 melee_max_bonus avg_melee_dmg  \\\n0               -               -             8.0           3.5   \n1               -               -             5.0             -   \n2               -               -               -           6.5   \n3               -               -               -             -   \n4               -               -               -             -   \n\n  ranged_max_bonus avg_ranged_dmg  \n0              0.0            0.0  \n1              0.0            0.0  \n2              0.0            0.0  \n3              0.0            0.0  \n4                -              -  \n\n[5 rows x 50 columns]",
      "text/html": "<div>\n<style scoped>\n    .dataframe tbody tr th:only-of-type {\n        vertical-align: middle;\n    }\n\n    .dataframe tbody tr th {\n        vertical-align: top;\n    }\n\n    .dataframe thead th {\n        text-align: right;\n    }\n</style>\n<table border=\"1\" class=\"dataframe\">\n  <thead>\n    <tr style=\"text-align: right;\">\n      <th></th>\n      <th>str</th>\n      <th>dex</th>\n      <th>con</th>\n      <th>int</th>\n      <th>wis</th>\n      <th>cha</th>\n      <th>ac</th>\n      <th>hp</th>\n      <th>perception</th>\n      <th>fortitude</th>\n      <th>...</th>\n      <th>spells_nr_lvl_4</th>\n      <th>spells_nr_lvl_5</th>\n      <th>spells_nr_lvl_6</th>\n      <th>spells_nr_lvl_7</th>\n      <th>spells_nr_lvl_8</th>\n      <th>spells_nr_lvl_9</th>\n      <th>melee_max_bonus</th>\n      <th>avg_melee_dmg</th>\n      <th>ranged_max_bonus</th>\n      <th>avg_ranged_dmg</th>\n    </tr>\n  </thead>\n  <tbody>\n    <tr>\n      <th>0</th>\n      <td>0.0</td>\n      <td>1.0</td>\n      <td>2.0</td>\n      <td>-5.0</td>\n      <td>2.0</td>\n      <td>-2.0</td>\n      <td>16.0</td>\n      <td>-</td>\n      <td>6.0</td>\n      <td>8.0</td>\n      <td>...</td>\n      <td>-</td>\n      <td>-</td>\n      <td>-</td>\n      <td>-</td>\n      <td>-</td>\n      <td>-</td>\n      <td>8.0</td>\n      <td>3.5</td>\n      <td>0.0</td>\n      <td>0.0</td>\n    </tr>\n    <tr>\n      <th>1</th>\n      <td>-</td>\n      <td>-</td>\n      <td>-</td>\n      <td>-4.0</td>\n      <td>2.0</td>\n      <td>-</td>\n      <td>14.0</td>\n      <td>16.0</td>\n      <td>4.0</td>\n      <td>7.0</td>\n      <td>...</td>\n      <td>-</td>\n      <td>-</td>\n      <td>-</td>\n      <td>-</td>\n      <td>-</td>\n      <td>-</td>\n      <td>5.0</td>\n      <td>-</td>\n      <td>0.0</td>\n      <td>0.0</td>\n    </tr>\n    <tr>\n      <th>2</th>\n      <td>-</td>\n      <td>-</td>\n      <td>-</td>\n      <td>-4.0</td>\n      <td>-</td>\n      <td>1.0</td>\n      <td>-</td>\n      <td>18.0</td>\n      <td>7.0</td>\n      <td>7.0</td>\n      <td>...</td>\n      <td>-</td>\n      <td>-</td>\n      <td>-</td>\n      <td>-</td>\n      <td>-</td>\n      <td>-</td>\n      <td>-</td>\n      <td>6.5</td>\n      <td>0.0</td>\n      <td>0.0</td>\n    </tr>\n    <tr>\n      <th>3</th>\n      <td>-</td>\n      <td>-</td>\n      <td>2.0</td>\n      <td>-5.0</td>\n      <td>2.0</td>\n      <td>-</td>\n      <td>16.0</td>\n      <td>-</td>\n      <td>6.0</td>\n      <td>-</td>\n      <td>...</td>\n      <td>-</td>\n      <td>-</td>\n      <td>-</td>\n      <td>-</td>\n      <td>-</td>\n      <td>-</td>\n      <td>-</td>\n      <td>-</td>\n      <td>0.0</td>\n      <td>0.0</td>\n    </tr>\n    <tr>\n      <th>4</th>\n      <td>-</td>\n      <td>-</td>\n      <td>-</td>\n      <td>-</td>\n      <td>-</td>\n      <td>-</td>\n      <td>-</td>\n      <td>-</td>\n      <td>-</td>\n      <td>-</td>\n      <td>...</td>\n      <td>-</td>\n      <td>-</td>\n      <td>-</td>\n      <td>-</td>\n      <td>-</td>\n      <td>-</td>\n      <td>-</td>\n      <td>-</td>\n      <td>-</td>\n      <td>-</td>\n    </tr>\n  </tbody>\n</table>\n<p>5 rows × 50 columns</p>\n</div>"
     },
     "execution_count": 70,
     "metadata": {},
     "output_type": "execute_result"
    }
   ],
   "source": [
    "comp, diff = compare_monsters(result[\"values\"], orc_brute)\n",
    "comp"
   ],
   "metadata": {
    "collapsed": false
   }
  },
  {
   "cell_type": "code",
   "execution_count": 71,
   "outputs": [
    {
     "data": {
      "text/plain": "  str_diff dex_diff con_diff int_diff wis_diff cha_diff ac_diff hp_diff  \\\n0     -3.0     -1.0     -1.0     -4.0      1.0     -2.0     1.0       -   \n1        -        -        -     -3.0      1.0        -    -1.0     1.0   \n2        -        -        -     -3.0        -      1.0       -     3.0   \n3        -        -     -1.0     -4.0      1.0        -     1.0       -   \n4        -        -        -        -        -        -       -       -   \n\n  perception_diff fortitude_diff  ... spells_nr_lvl_4_diff  \\\n0             1.0            2.0  ...                    -   \n1            -1.0            1.0  ...                    -   \n2             2.0            1.0  ...                    -   \n3             1.0              -  ...                    -   \n4               -              -  ...                    -   \n\n  spells_nr_lvl_5_diff spells_nr_lvl_6_diff spells_nr_lvl_7_diff  \\\n0                    -                    -                    -   \n1                    -                    -                    -   \n2                    -                    -                    -   \n3                    -                    -                    -   \n4                    -                    -                    -   \n\n  spells_nr_lvl_8_diff spells_nr_lvl_9_diff melee_max_bonus_diff  \\\n0                    -                    -                  1.0   \n1                    -                    -                 -2.0   \n2                    -                    -                    -   \n3                    -                    -                    -   \n4                    -                    -                    -   \n\n  avg_melee_dmg_diff ranged_max_bonus_diff avg_ranged_dmg_diff  \n0               -2.0                  -4.0                -6.5  \n1                  -                  -4.0                -6.5  \n2                1.0                  -4.0                -6.5  \n3                  -                  -4.0                -6.5  \n4                  -                     -                   -  \n\n[5 rows x 50 columns]",
      "text/html": "<div>\n<style scoped>\n    .dataframe tbody tr th:only-of-type {\n        vertical-align: middle;\n    }\n\n    .dataframe tbody tr th {\n        vertical-align: top;\n    }\n\n    .dataframe thead th {\n        text-align: right;\n    }\n</style>\n<table border=\"1\" class=\"dataframe\">\n  <thead>\n    <tr style=\"text-align: right;\">\n      <th></th>\n      <th>str_diff</th>\n      <th>dex_diff</th>\n      <th>con_diff</th>\n      <th>int_diff</th>\n      <th>wis_diff</th>\n      <th>cha_diff</th>\n      <th>ac_diff</th>\n      <th>hp_diff</th>\n      <th>perception_diff</th>\n      <th>fortitude_diff</th>\n      <th>...</th>\n      <th>spells_nr_lvl_4_diff</th>\n      <th>spells_nr_lvl_5_diff</th>\n      <th>spells_nr_lvl_6_diff</th>\n      <th>spells_nr_lvl_7_diff</th>\n      <th>spells_nr_lvl_8_diff</th>\n      <th>spells_nr_lvl_9_diff</th>\n      <th>melee_max_bonus_diff</th>\n      <th>avg_melee_dmg_diff</th>\n      <th>ranged_max_bonus_diff</th>\n      <th>avg_ranged_dmg_diff</th>\n    </tr>\n  </thead>\n  <tbody>\n    <tr>\n      <th>0</th>\n      <td>-3.0</td>\n      <td>-1.0</td>\n      <td>-1.0</td>\n      <td>-4.0</td>\n      <td>1.0</td>\n      <td>-2.0</td>\n      <td>1.0</td>\n      <td>-</td>\n      <td>1.0</td>\n      <td>2.0</td>\n      <td>...</td>\n      <td>-</td>\n      <td>-</td>\n      <td>-</td>\n      <td>-</td>\n      <td>-</td>\n      <td>-</td>\n      <td>1.0</td>\n      <td>-2.0</td>\n      <td>-4.0</td>\n      <td>-6.5</td>\n    </tr>\n    <tr>\n      <th>1</th>\n      <td>-</td>\n      <td>-</td>\n      <td>-</td>\n      <td>-3.0</td>\n      <td>1.0</td>\n      <td>-</td>\n      <td>-1.0</td>\n      <td>1.0</td>\n      <td>-1.0</td>\n      <td>1.0</td>\n      <td>...</td>\n      <td>-</td>\n      <td>-</td>\n      <td>-</td>\n      <td>-</td>\n      <td>-</td>\n      <td>-</td>\n      <td>-2.0</td>\n      <td>-</td>\n      <td>-4.0</td>\n      <td>-6.5</td>\n    </tr>\n    <tr>\n      <th>2</th>\n      <td>-</td>\n      <td>-</td>\n      <td>-</td>\n      <td>-3.0</td>\n      <td>-</td>\n      <td>1.0</td>\n      <td>-</td>\n      <td>3.0</td>\n      <td>2.0</td>\n      <td>1.0</td>\n      <td>...</td>\n      <td>-</td>\n      <td>-</td>\n      <td>-</td>\n      <td>-</td>\n      <td>-</td>\n      <td>-</td>\n      <td>-</td>\n      <td>1.0</td>\n      <td>-4.0</td>\n      <td>-6.5</td>\n    </tr>\n    <tr>\n      <th>3</th>\n      <td>-</td>\n      <td>-</td>\n      <td>-1.0</td>\n      <td>-4.0</td>\n      <td>1.0</td>\n      <td>-</td>\n      <td>1.0</td>\n      <td>-</td>\n      <td>1.0</td>\n      <td>-</td>\n      <td>...</td>\n      <td>-</td>\n      <td>-</td>\n      <td>-</td>\n      <td>-</td>\n      <td>-</td>\n      <td>-</td>\n      <td>-</td>\n      <td>-</td>\n      <td>-4.0</td>\n      <td>-6.5</td>\n    </tr>\n    <tr>\n      <th>4</th>\n      <td>-</td>\n      <td>-</td>\n      <td>-</td>\n      <td>-</td>\n      <td>-</td>\n      <td>-</td>\n      <td>-</td>\n      <td>-</td>\n      <td>-</td>\n      <td>-</td>\n      <td>...</td>\n      <td>-</td>\n      <td>-</td>\n      <td>-</td>\n      <td>-</td>\n      <td>-</td>\n      <td>-</td>\n      <td>-</td>\n      <td>-</td>\n      <td>-</td>\n      <td>-</td>\n    </tr>\n  </tbody>\n</table>\n<p>5 rows × 50 columns</p>\n</div>"
     },
     "execution_count": 71,
     "metadata": {},
     "output_type": "execute_result"
    }
   ],
   "source": [
    "diff"
   ],
   "metadata": {
    "collapsed": false
   }
  },
  {
   "cell_type": "code",
   "execution_count": 72,
   "outputs": [
    {
     "name": "stderr",
     "output_type": "stream",
     "text": [
      "100%|██████████| 1/1 [00:00<00:00,  1.17it/s]\n"
     ]
    }
   ],
   "source": [
    "result = generate_counterfactuals(\n",
    "    monster_stats=orc_warrior,\n",
    "    model=model,\n",
    "    new_level=2,\n",
    "    df=dataset,\n",
    "    total_cf=10,\n",
    "    ordered_characteristics=ORDERED_CHARACTERISTICS_50,\n",
    ")"
   ],
   "metadata": {
    "collapsed": false
   }
  },
  {
   "cell_type": "code",
   "execution_count": 73,
   "outputs": [
    {
     "name": "stdout",
     "output_type": "stream",
     "text": [
      "[1.99971422]\n",
      "[1.99796356]\n",
      "[1.99942545]\n",
      "[2.00041428]\n",
      "[2.00109806]\n",
      "[1.99991108]\n",
      "[2.00044528]\n",
      "[1.99938845]\n",
      "[1.99984194]\n",
      "[2.00088073]\n"
     ]
    }
   ],
   "source": [
    "test_cfs(result[\"values\"], 2)"
   ],
   "metadata": {
    "collapsed": false
   }
  },
  {
   "cell_type": "markdown",
   "source": [
    "##### Compare to original data"
   ],
   "metadata": {
    "collapsed": false
   }
  },
  {
   "cell_type": "code",
   "execution_count": 74,
   "outputs": [
    {
     "data": {
      "text/plain": "   str  dex  con  int  wis  cha    ac    hp perception fortitude  ...  \\\n0    -    -  4.0 -4.0  2.0    -     -  32.0        8.0      10.0  ...   \n1  2.0  4.0  2.0    -  2.0    -  19.0  30.0          -         -  ...   \n2  2.0  4.0  1.0  1.0  0.0  1.0  19.0  27.0          -       7.0  ...   \n3  3.0    -  4.0    -  3.0    -     -  30.0        9.0      10.0  ...   \n4  2.0  4.0  2.0  3.0  0.0 -1.0     -  28.0          -         -  ...   \n5  3.0  4.0  2.0    -    -    -  19.0  28.0        7.0         -  ...   \n6    -    -  1.0    -    -  2.0  19.0  32.0       11.0       7.0  ...   \n7    -  1.0    -    -  2.0  1.0     -  28.0        8.0       9.0  ...   \n8    -    -    -    -    -    -  17.0  34.0        7.0       9.0  ...   \n9    -  3.0  2.0    -    -    -     -  29.0        7.0         -  ...   \n\n  spells_nr_lvl_4 spells_nr_lvl_5 spells_nr_lvl_6 spells_nr_lvl_7  \\\n0               -               -               -               -   \n1             1.0               -               -               -   \n2               -               -               -               -   \n3             1.0               -               -               -   \n4               -               -               -               -   \n5               -               -               -               -   \n6               -               -               -               -   \n7               -               -               -               -   \n8               -               -               -               -   \n9               -               -               -               -   \n\n  spells_nr_lvl_8 spells_nr_lvl_9 melee_max_bonus avg_melee_dmg  \\\n0               -               -            11.0           7.5   \n1               -               -            10.0           5.5   \n2               -               -            10.0           4.5   \n3               -               -            11.0           7.5   \n4               -               -            10.0           4.5   \n5               -               -            10.0           5.5   \n6               -               -            10.0             -   \n7               -               -            10.0           9.5   \n8               -               -            10.0             -   \n9               -               -            10.0             -   \n\n  ranged_max_bonus avg_ranged_dmg  \n0              0.0            0.0  \n1             10.0            5.5  \n2             10.0            3.5  \n3             11.0              -  \n4             10.0            3.5  \n5             10.0            5.5  \n6              8.0              -  \n7              7.0            4.5  \n8              8.0              -  \n9             10.0            3.5  \n\n[10 rows x 50 columns]",
      "text/html": "<div>\n<style scoped>\n    .dataframe tbody tr th:only-of-type {\n        vertical-align: middle;\n    }\n\n    .dataframe tbody tr th {\n        vertical-align: top;\n    }\n\n    .dataframe thead th {\n        text-align: right;\n    }\n</style>\n<table border=\"1\" class=\"dataframe\">\n  <thead>\n    <tr style=\"text-align: right;\">\n      <th></th>\n      <th>str</th>\n      <th>dex</th>\n      <th>con</th>\n      <th>int</th>\n      <th>wis</th>\n      <th>cha</th>\n      <th>ac</th>\n      <th>hp</th>\n      <th>perception</th>\n      <th>fortitude</th>\n      <th>...</th>\n      <th>spells_nr_lvl_4</th>\n      <th>spells_nr_lvl_5</th>\n      <th>spells_nr_lvl_6</th>\n      <th>spells_nr_lvl_7</th>\n      <th>spells_nr_lvl_8</th>\n      <th>spells_nr_lvl_9</th>\n      <th>melee_max_bonus</th>\n      <th>avg_melee_dmg</th>\n      <th>ranged_max_bonus</th>\n      <th>avg_ranged_dmg</th>\n    </tr>\n  </thead>\n  <tbody>\n    <tr>\n      <th>0</th>\n      <td>-</td>\n      <td>-</td>\n      <td>4.0</td>\n      <td>-4.0</td>\n      <td>2.0</td>\n      <td>-</td>\n      <td>-</td>\n      <td>32.0</td>\n      <td>8.0</td>\n      <td>10.0</td>\n      <td>...</td>\n      <td>-</td>\n      <td>-</td>\n      <td>-</td>\n      <td>-</td>\n      <td>-</td>\n      <td>-</td>\n      <td>11.0</td>\n      <td>7.5</td>\n      <td>0.0</td>\n      <td>0.0</td>\n    </tr>\n    <tr>\n      <th>1</th>\n      <td>2.0</td>\n      <td>4.0</td>\n      <td>2.0</td>\n      <td>-</td>\n      <td>2.0</td>\n      <td>-</td>\n      <td>19.0</td>\n      <td>30.0</td>\n      <td>-</td>\n      <td>-</td>\n      <td>...</td>\n      <td>1.0</td>\n      <td>-</td>\n      <td>-</td>\n      <td>-</td>\n      <td>-</td>\n      <td>-</td>\n      <td>10.0</td>\n      <td>5.5</td>\n      <td>10.0</td>\n      <td>5.5</td>\n    </tr>\n    <tr>\n      <th>2</th>\n      <td>2.0</td>\n      <td>4.0</td>\n      <td>1.0</td>\n      <td>1.0</td>\n      <td>0.0</td>\n      <td>1.0</td>\n      <td>19.0</td>\n      <td>27.0</td>\n      <td>-</td>\n      <td>7.0</td>\n      <td>...</td>\n      <td>-</td>\n      <td>-</td>\n      <td>-</td>\n      <td>-</td>\n      <td>-</td>\n      <td>-</td>\n      <td>10.0</td>\n      <td>4.5</td>\n      <td>10.0</td>\n      <td>3.5</td>\n    </tr>\n    <tr>\n      <th>3</th>\n      <td>3.0</td>\n      <td>-</td>\n      <td>4.0</td>\n      <td>-</td>\n      <td>3.0</td>\n      <td>-</td>\n      <td>-</td>\n      <td>30.0</td>\n      <td>9.0</td>\n      <td>10.0</td>\n      <td>...</td>\n      <td>1.0</td>\n      <td>-</td>\n      <td>-</td>\n      <td>-</td>\n      <td>-</td>\n      <td>-</td>\n      <td>11.0</td>\n      <td>7.5</td>\n      <td>11.0</td>\n      <td>-</td>\n    </tr>\n    <tr>\n      <th>4</th>\n      <td>2.0</td>\n      <td>4.0</td>\n      <td>2.0</td>\n      <td>3.0</td>\n      <td>0.0</td>\n      <td>-1.0</td>\n      <td>-</td>\n      <td>28.0</td>\n      <td>-</td>\n      <td>-</td>\n      <td>...</td>\n      <td>-</td>\n      <td>-</td>\n      <td>-</td>\n      <td>-</td>\n      <td>-</td>\n      <td>-</td>\n      <td>10.0</td>\n      <td>4.5</td>\n      <td>10.0</td>\n      <td>3.5</td>\n    </tr>\n    <tr>\n      <th>5</th>\n      <td>3.0</td>\n      <td>4.0</td>\n      <td>2.0</td>\n      <td>-</td>\n      <td>-</td>\n      <td>-</td>\n      <td>19.0</td>\n      <td>28.0</td>\n      <td>7.0</td>\n      <td>-</td>\n      <td>...</td>\n      <td>-</td>\n      <td>-</td>\n      <td>-</td>\n      <td>-</td>\n      <td>-</td>\n      <td>-</td>\n      <td>10.0</td>\n      <td>5.5</td>\n      <td>10.0</td>\n      <td>5.5</td>\n    </tr>\n    <tr>\n      <th>6</th>\n      <td>-</td>\n      <td>-</td>\n      <td>1.0</td>\n      <td>-</td>\n      <td>-</td>\n      <td>2.0</td>\n      <td>19.0</td>\n      <td>32.0</td>\n      <td>11.0</td>\n      <td>7.0</td>\n      <td>...</td>\n      <td>-</td>\n      <td>-</td>\n      <td>-</td>\n      <td>-</td>\n      <td>-</td>\n      <td>-</td>\n      <td>10.0</td>\n      <td>-</td>\n      <td>8.0</td>\n      <td>-</td>\n    </tr>\n    <tr>\n      <th>7</th>\n      <td>-</td>\n      <td>1.0</td>\n      <td>-</td>\n      <td>-</td>\n      <td>2.0</td>\n      <td>1.0</td>\n      <td>-</td>\n      <td>28.0</td>\n      <td>8.0</td>\n      <td>9.0</td>\n      <td>...</td>\n      <td>-</td>\n      <td>-</td>\n      <td>-</td>\n      <td>-</td>\n      <td>-</td>\n      <td>-</td>\n      <td>10.0</td>\n      <td>9.5</td>\n      <td>7.0</td>\n      <td>4.5</td>\n    </tr>\n    <tr>\n      <th>8</th>\n      <td>-</td>\n      <td>-</td>\n      <td>-</td>\n      <td>-</td>\n      <td>-</td>\n      <td>-</td>\n      <td>17.0</td>\n      <td>34.0</td>\n      <td>7.0</td>\n      <td>9.0</td>\n      <td>...</td>\n      <td>-</td>\n      <td>-</td>\n      <td>-</td>\n      <td>-</td>\n      <td>-</td>\n      <td>-</td>\n      <td>10.0</td>\n      <td>-</td>\n      <td>8.0</td>\n      <td>-</td>\n    </tr>\n    <tr>\n      <th>9</th>\n      <td>-</td>\n      <td>3.0</td>\n      <td>2.0</td>\n      <td>-</td>\n      <td>-</td>\n      <td>-</td>\n      <td>-</td>\n      <td>29.0</td>\n      <td>7.0</td>\n      <td>-</td>\n      <td>...</td>\n      <td>-</td>\n      <td>-</td>\n      <td>-</td>\n      <td>-</td>\n      <td>-</td>\n      <td>-</td>\n      <td>10.0</td>\n      <td>-</td>\n      <td>10.0</td>\n      <td>3.5</td>\n    </tr>\n  </tbody>\n</table>\n<p>10 rows × 50 columns</p>\n</div>"
     },
     "execution_count": 74,
     "metadata": {},
     "output_type": "execute_result"
    }
   ],
   "source": [
    "comp, diff = compare_monsters(result[\"values\"], orc_warrior)\n",
    "comp"
   ],
   "metadata": {
    "collapsed": false
   }
  },
  {
   "cell_type": "code",
   "execution_count": 75,
   "outputs": [
    {
     "data": {
      "text/plain": "  str_diff dex_diff con_diff int_diff wis_diff cha_diff ac_diff  hp_diff  \\\n0        -        -      1.0     -3.0      1.0        -       -      9.0   \n1     -2.0      2.0     -1.0        -      1.0        -     1.0      7.0   \n2     -2.0      2.0     -2.0      2.0     -1.0      1.0     1.0      4.0   \n3     -1.0        -      1.0        -      2.0        -       -      7.0   \n4     -2.0      2.0     -1.0      4.0     -1.0     -1.0       -      5.0   \n5     -1.0      2.0     -1.0        -        -        -     1.0      5.0   \n6        -        -     -2.0        -        -      2.0     1.0      9.0   \n7        -     -1.0        -        -      1.0      1.0       -      5.0   \n8        -        -        -        -        -        -    -1.0     11.0   \n9        -      1.0     -1.0        -        -        -       -      6.0   \n\n  perception_diff fortitude_diff  ... spells_nr_lvl_4_diff  \\\n0             2.0            2.0  ...                    -   \n1               -              -  ...                  1.0   \n2               -           -1.0  ...                    -   \n3             3.0            2.0  ...                  1.0   \n4               -              -  ...                    -   \n5             1.0              -  ...                    -   \n6             5.0           -1.0  ...                    -   \n7             2.0            1.0  ...                    -   \n8             1.0            1.0  ...                    -   \n9             1.0              -  ...                    -   \n\n  spells_nr_lvl_5_diff spells_nr_lvl_6_diff spells_nr_lvl_7_diff  \\\n0                    -                    -                    -   \n1                    -                    -                    -   \n2                    -                    -                    -   \n3                    -                    -                    -   \n4                    -                    -                    -   \n5                    -                    -                    -   \n6                    -                    -                    -   \n7                    -                    -                    -   \n8                    -                    -                    -   \n9                    -                    -                    -   \n\n  spells_nr_lvl_8_diff spells_nr_lvl_9_diff melee_max_bonus_diff  \\\n0                    -                    -                  4.0   \n1                    -                    -                  3.0   \n2                    -                    -                  3.0   \n3                    -                    -                  4.0   \n4                    -                    -                  3.0   \n5                    -                    -                  3.0   \n6                    -                    -                  3.0   \n7                    -                    -                  3.0   \n8                    -                    -                  3.0   \n9                    -                    -                  3.0   \n\n  avg_melee_dmg_diff ranged_max_bonus_diff avg_ranged_dmg_diff  \n0                1.0                  -5.0                -7.5  \n1               -1.0                   5.0                -2.0  \n2               -2.0                   5.0                -4.0  \n3                1.0                   6.0                   -  \n4               -2.0                   5.0                -4.0  \n5               -1.0                   5.0                -2.0  \n6                  -                   3.0                   -  \n7                3.0                   2.0                -3.0  \n8                  -                   3.0                   -  \n9                  -                   5.0                -4.0  \n\n[10 rows x 50 columns]",
      "text/html": "<div>\n<style scoped>\n    .dataframe tbody tr th:only-of-type {\n        vertical-align: middle;\n    }\n\n    .dataframe tbody tr th {\n        vertical-align: top;\n    }\n\n    .dataframe thead th {\n        text-align: right;\n    }\n</style>\n<table border=\"1\" class=\"dataframe\">\n  <thead>\n    <tr style=\"text-align: right;\">\n      <th></th>\n      <th>str_diff</th>\n      <th>dex_diff</th>\n      <th>con_diff</th>\n      <th>int_diff</th>\n      <th>wis_diff</th>\n      <th>cha_diff</th>\n      <th>ac_diff</th>\n      <th>hp_diff</th>\n      <th>perception_diff</th>\n      <th>fortitude_diff</th>\n      <th>...</th>\n      <th>spells_nr_lvl_4_diff</th>\n      <th>spells_nr_lvl_5_diff</th>\n      <th>spells_nr_lvl_6_diff</th>\n      <th>spells_nr_lvl_7_diff</th>\n      <th>spells_nr_lvl_8_diff</th>\n      <th>spells_nr_lvl_9_diff</th>\n      <th>melee_max_bonus_diff</th>\n      <th>avg_melee_dmg_diff</th>\n      <th>ranged_max_bonus_diff</th>\n      <th>avg_ranged_dmg_diff</th>\n    </tr>\n  </thead>\n  <tbody>\n    <tr>\n      <th>0</th>\n      <td>-</td>\n      <td>-</td>\n      <td>1.0</td>\n      <td>-3.0</td>\n      <td>1.0</td>\n      <td>-</td>\n      <td>-</td>\n      <td>9.0</td>\n      <td>2.0</td>\n      <td>2.0</td>\n      <td>...</td>\n      <td>-</td>\n      <td>-</td>\n      <td>-</td>\n      <td>-</td>\n      <td>-</td>\n      <td>-</td>\n      <td>4.0</td>\n      <td>1.0</td>\n      <td>-5.0</td>\n      <td>-7.5</td>\n    </tr>\n    <tr>\n      <th>1</th>\n      <td>-2.0</td>\n      <td>2.0</td>\n      <td>-1.0</td>\n      <td>-</td>\n      <td>1.0</td>\n      <td>-</td>\n      <td>1.0</td>\n      <td>7.0</td>\n      <td>-</td>\n      <td>-</td>\n      <td>...</td>\n      <td>1.0</td>\n      <td>-</td>\n      <td>-</td>\n      <td>-</td>\n      <td>-</td>\n      <td>-</td>\n      <td>3.0</td>\n      <td>-1.0</td>\n      <td>5.0</td>\n      <td>-2.0</td>\n    </tr>\n    <tr>\n      <th>2</th>\n      <td>-2.0</td>\n      <td>2.0</td>\n      <td>-2.0</td>\n      <td>2.0</td>\n      <td>-1.0</td>\n      <td>1.0</td>\n      <td>1.0</td>\n      <td>4.0</td>\n      <td>-</td>\n      <td>-1.0</td>\n      <td>...</td>\n      <td>-</td>\n      <td>-</td>\n      <td>-</td>\n      <td>-</td>\n      <td>-</td>\n      <td>-</td>\n      <td>3.0</td>\n      <td>-2.0</td>\n      <td>5.0</td>\n      <td>-4.0</td>\n    </tr>\n    <tr>\n      <th>3</th>\n      <td>-1.0</td>\n      <td>-</td>\n      <td>1.0</td>\n      <td>-</td>\n      <td>2.0</td>\n      <td>-</td>\n      <td>-</td>\n      <td>7.0</td>\n      <td>3.0</td>\n      <td>2.0</td>\n      <td>...</td>\n      <td>1.0</td>\n      <td>-</td>\n      <td>-</td>\n      <td>-</td>\n      <td>-</td>\n      <td>-</td>\n      <td>4.0</td>\n      <td>1.0</td>\n      <td>6.0</td>\n      <td>-</td>\n    </tr>\n    <tr>\n      <th>4</th>\n      <td>-2.0</td>\n      <td>2.0</td>\n      <td>-1.0</td>\n      <td>4.0</td>\n      <td>-1.0</td>\n      <td>-1.0</td>\n      <td>-</td>\n      <td>5.0</td>\n      <td>-</td>\n      <td>-</td>\n      <td>...</td>\n      <td>-</td>\n      <td>-</td>\n      <td>-</td>\n      <td>-</td>\n      <td>-</td>\n      <td>-</td>\n      <td>3.0</td>\n      <td>-2.0</td>\n      <td>5.0</td>\n      <td>-4.0</td>\n    </tr>\n    <tr>\n      <th>5</th>\n      <td>-1.0</td>\n      <td>2.0</td>\n      <td>-1.0</td>\n      <td>-</td>\n      <td>-</td>\n      <td>-</td>\n      <td>1.0</td>\n      <td>5.0</td>\n      <td>1.0</td>\n      <td>-</td>\n      <td>...</td>\n      <td>-</td>\n      <td>-</td>\n      <td>-</td>\n      <td>-</td>\n      <td>-</td>\n      <td>-</td>\n      <td>3.0</td>\n      <td>-1.0</td>\n      <td>5.0</td>\n      <td>-2.0</td>\n    </tr>\n    <tr>\n      <th>6</th>\n      <td>-</td>\n      <td>-</td>\n      <td>-2.0</td>\n      <td>-</td>\n      <td>-</td>\n      <td>2.0</td>\n      <td>1.0</td>\n      <td>9.0</td>\n      <td>5.0</td>\n      <td>-1.0</td>\n      <td>...</td>\n      <td>-</td>\n      <td>-</td>\n      <td>-</td>\n      <td>-</td>\n      <td>-</td>\n      <td>-</td>\n      <td>3.0</td>\n      <td>-</td>\n      <td>3.0</td>\n      <td>-</td>\n    </tr>\n    <tr>\n      <th>7</th>\n      <td>-</td>\n      <td>-1.0</td>\n      <td>-</td>\n      <td>-</td>\n      <td>1.0</td>\n      <td>1.0</td>\n      <td>-</td>\n      <td>5.0</td>\n      <td>2.0</td>\n      <td>1.0</td>\n      <td>...</td>\n      <td>-</td>\n      <td>-</td>\n      <td>-</td>\n      <td>-</td>\n      <td>-</td>\n      <td>-</td>\n      <td>3.0</td>\n      <td>3.0</td>\n      <td>2.0</td>\n      <td>-3.0</td>\n    </tr>\n    <tr>\n      <th>8</th>\n      <td>-</td>\n      <td>-</td>\n      <td>-</td>\n      <td>-</td>\n      <td>-</td>\n      <td>-</td>\n      <td>-1.0</td>\n      <td>11.0</td>\n      <td>1.0</td>\n      <td>1.0</td>\n      <td>...</td>\n      <td>-</td>\n      <td>-</td>\n      <td>-</td>\n      <td>-</td>\n      <td>-</td>\n      <td>-</td>\n      <td>3.0</td>\n      <td>-</td>\n      <td>3.0</td>\n      <td>-</td>\n    </tr>\n    <tr>\n      <th>9</th>\n      <td>-</td>\n      <td>1.0</td>\n      <td>-1.0</td>\n      <td>-</td>\n      <td>-</td>\n      <td>-</td>\n      <td>-</td>\n      <td>6.0</td>\n      <td>1.0</td>\n      <td>-</td>\n      <td>...</td>\n      <td>-</td>\n      <td>-</td>\n      <td>-</td>\n      <td>-</td>\n      <td>-</td>\n      <td>-</td>\n      <td>3.0</td>\n      <td>-</td>\n      <td>5.0</td>\n      <td>-4.0</td>\n    </tr>\n  </tbody>\n</table>\n<p>10 rows × 50 columns</p>\n</div>"
     },
     "execution_count": 75,
     "metadata": {},
     "output_type": "execute_result"
    }
   ],
   "source": [
    "diff"
   ],
   "metadata": {
    "collapsed": false
   }
  },
  {
   "cell_type": "markdown",
   "source": [
    "##### Compare to *Orc Warchief*"
   ],
   "metadata": {
    "collapsed": false
   }
  },
  {
   "cell_type": "code",
   "execution_count": 76,
   "outputs": [
    {
     "data": {
      "text/plain": "   str  dex  con  int  wis  cha    ac    hp perception fortitude  ...  \\\n0    -    -  4.0 -4.0  2.0  0.0  18.0     -        8.0      10.0  ...   \n1  2.0  4.0  2.0    -  2.0  0.0     -  30.0        6.0       8.0  ...   \n2  2.0  4.0    -  1.0  0.0  1.0     -  27.0        6.0         -  ...   \n3  3.0    -  4.0    -  3.0  0.0  18.0  30.0        9.0      10.0  ...   \n4  2.0  4.0  2.0  3.0  0.0 -1.0  18.0  28.0        6.0       8.0  ...   \n5  3.0  4.0  2.0    -    -  0.0     -  28.0        7.0       8.0  ...   \n6    -    -    -    -    -    -     -     -          -         -  ...   \n7    -  1.0  3.0    -  2.0  1.0  18.0  28.0        8.0       9.0  ...   \n8    -    -  3.0    -    -  0.0  17.0  34.0        7.0       9.0  ...   \n9    -  3.0  2.0    -    -  0.0  18.0  29.0        7.0       8.0  ...   \n\n  spells_nr_lvl_4 spells_nr_lvl_5 spells_nr_lvl_6 spells_nr_lvl_7  \\\n0               -               -               -               -   \n1             1.0               -               -               -   \n2               -               -               -               -   \n3             1.0               -               -               -   \n4               -               -               -               -   \n5               -               -               -               -   \n6               -               -               -               -   \n7               -               -               -               -   \n8               -               -               -               -   \n9               -               -               -               -   \n\n  spells_nr_lvl_8 spells_nr_lvl_9 melee_max_bonus avg_melee_dmg  \\\n0               -               -            11.0           7.5   \n1               -               -               -           5.5   \n2               -               -               -           4.5   \n3               -               -            11.0           7.5   \n4               -               -               -           4.5   \n5               -               -               -           5.5   \n6               -               -               -             -   \n7               -               -               -           9.5   \n8               -               -               -             -   \n9               -               -               -             -   \n\n  ranged_max_bonus avg_ranged_dmg  \n0              0.0            0.0  \n1             10.0            5.5  \n2             10.0            3.5  \n3             11.0              -  \n4             10.0            3.5  \n5             10.0            5.5  \n6                -              -  \n7              7.0            4.5  \n8                -              -  \n9             10.0            3.5  \n\n[10 rows x 50 columns]",
      "text/html": "<div>\n<style scoped>\n    .dataframe tbody tr th:only-of-type {\n        vertical-align: middle;\n    }\n\n    .dataframe tbody tr th {\n        vertical-align: top;\n    }\n\n    .dataframe thead th {\n        text-align: right;\n    }\n</style>\n<table border=\"1\" class=\"dataframe\">\n  <thead>\n    <tr style=\"text-align: right;\">\n      <th></th>\n      <th>str</th>\n      <th>dex</th>\n      <th>con</th>\n      <th>int</th>\n      <th>wis</th>\n      <th>cha</th>\n      <th>ac</th>\n      <th>hp</th>\n      <th>perception</th>\n      <th>fortitude</th>\n      <th>...</th>\n      <th>spells_nr_lvl_4</th>\n      <th>spells_nr_lvl_5</th>\n      <th>spells_nr_lvl_6</th>\n      <th>spells_nr_lvl_7</th>\n      <th>spells_nr_lvl_8</th>\n      <th>spells_nr_lvl_9</th>\n      <th>melee_max_bonus</th>\n      <th>avg_melee_dmg</th>\n      <th>ranged_max_bonus</th>\n      <th>avg_ranged_dmg</th>\n    </tr>\n  </thead>\n  <tbody>\n    <tr>\n      <th>0</th>\n      <td>-</td>\n      <td>-</td>\n      <td>4.0</td>\n      <td>-4.0</td>\n      <td>2.0</td>\n      <td>0.0</td>\n      <td>18.0</td>\n      <td>-</td>\n      <td>8.0</td>\n      <td>10.0</td>\n      <td>...</td>\n      <td>-</td>\n      <td>-</td>\n      <td>-</td>\n      <td>-</td>\n      <td>-</td>\n      <td>-</td>\n      <td>11.0</td>\n      <td>7.5</td>\n      <td>0.0</td>\n      <td>0.0</td>\n    </tr>\n    <tr>\n      <th>1</th>\n      <td>2.0</td>\n      <td>4.0</td>\n      <td>2.0</td>\n      <td>-</td>\n      <td>2.0</td>\n      <td>0.0</td>\n      <td>-</td>\n      <td>30.0</td>\n      <td>6.0</td>\n      <td>8.0</td>\n      <td>...</td>\n      <td>1.0</td>\n      <td>-</td>\n      <td>-</td>\n      <td>-</td>\n      <td>-</td>\n      <td>-</td>\n      <td>-</td>\n      <td>5.5</td>\n      <td>10.0</td>\n      <td>5.5</td>\n    </tr>\n    <tr>\n      <th>2</th>\n      <td>2.0</td>\n      <td>4.0</td>\n      <td>-</td>\n      <td>1.0</td>\n      <td>0.0</td>\n      <td>1.0</td>\n      <td>-</td>\n      <td>27.0</td>\n      <td>6.0</td>\n      <td>-</td>\n      <td>...</td>\n      <td>-</td>\n      <td>-</td>\n      <td>-</td>\n      <td>-</td>\n      <td>-</td>\n      <td>-</td>\n      <td>-</td>\n      <td>4.5</td>\n      <td>10.0</td>\n      <td>3.5</td>\n    </tr>\n    <tr>\n      <th>3</th>\n      <td>3.0</td>\n      <td>-</td>\n      <td>4.0</td>\n      <td>-</td>\n      <td>3.0</td>\n      <td>0.0</td>\n      <td>18.0</td>\n      <td>30.0</td>\n      <td>9.0</td>\n      <td>10.0</td>\n      <td>...</td>\n      <td>1.0</td>\n      <td>-</td>\n      <td>-</td>\n      <td>-</td>\n      <td>-</td>\n      <td>-</td>\n      <td>11.0</td>\n      <td>7.5</td>\n      <td>11.0</td>\n      <td>-</td>\n    </tr>\n    <tr>\n      <th>4</th>\n      <td>2.0</td>\n      <td>4.0</td>\n      <td>2.0</td>\n      <td>3.0</td>\n      <td>0.0</td>\n      <td>-1.0</td>\n      <td>18.0</td>\n      <td>28.0</td>\n      <td>6.0</td>\n      <td>8.0</td>\n      <td>...</td>\n      <td>-</td>\n      <td>-</td>\n      <td>-</td>\n      <td>-</td>\n      <td>-</td>\n      <td>-</td>\n      <td>-</td>\n      <td>4.5</td>\n      <td>10.0</td>\n      <td>3.5</td>\n    </tr>\n    <tr>\n      <th>5</th>\n      <td>3.0</td>\n      <td>4.0</td>\n      <td>2.0</td>\n      <td>-</td>\n      <td>-</td>\n      <td>0.0</td>\n      <td>-</td>\n      <td>28.0</td>\n      <td>7.0</td>\n      <td>8.0</td>\n      <td>...</td>\n      <td>-</td>\n      <td>-</td>\n      <td>-</td>\n      <td>-</td>\n      <td>-</td>\n      <td>-</td>\n      <td>-</td>\n      <td>5.5</td>\n      <td>10.0</td>\n      <td>5.5</td>\n    </tr>\n    <tr>\n      <th>6</th>\n      <td>-</td>\n      <td>-</td>\n      <td>-</td>\n      <td>-</td>\n      <td>-</td>\n      <td>-</td>\n      <td>-</td>\n      <td>-</td>\n      <td>-</td>\n      <td>-</td>\n      <td>...</td>\n      <td>-</td>\n      <td>-</td>\n      <td>-</td>\n      <td>-</td>\n      <td>-</td>\n      <td>-</td>\n      <td>-</td>\n      <td>-</td>\n      <td>-</td>\n      <td>-</td>\n    </tr>\n    <tr>\n      <th>7</th>\n      <td>-</td>\n      <td>1.0</td>\n      <td>3.0</td>\n      <td>-</td>\n      <td>2.0</td>\n      <td>1.0</td>\n      <td>18.0</td>\n      <td>28.0</td>\n      <td>8.0</td>\n      <td>9.0</td>\n      <td>...</td>\n      <td>-</td>\n      <td>-</td>\n      <td>-</td>\n      <td>-</td>\n      <td>-</td>\n      <td>-</td>\n      <td>-</td>\n      <td>9.5</td>\n      <td>7.0</td>\n      <td>4.5</td>\n    </tr>\n    <tr>\n      <th>8</th>\n      <td>-</td>\n      <td>-</td>\n      <td>3.0</td>\n      <td>-</td>\n      <td>-</td>\n      <td>0.0</td>\n      <td>17.0</td>\n      <td>34.0</td>\n      <td>7.0</td>\n      <td>9.0</td>\n      <td>...</td>\n      <td>-</td>\n      <td>-</td>\n      <td>-</td>\n      <td>-</td>\n      <td>-</td>\n      <td>-</td>\n      <td>-</td>\n      <td>-</td>\n      <td>-</td>\n      <td>-</td>\n    </tr>\n    <tr>\n      <th>9</th>\n      <td>-</td>\n      <td>3.0</td>\n      <td>2.0</td>\n      <td>-</td>\n      <td>-</td>\n      <td>0.0</td>\n      <td>18.0</td>\n      <td>29.0</td>\n      <td>7.0</td>\n      <td>8.0</td>\n      <td>...</td>\n      <td>-</td>\n      <td>-</td>\n      <td>-</td>\n      <td>-</td>\n      <td>-</td>\n      <td>-</td>\n      <td>-</td>\n      <td>-</td>\n      <td>10.0</td>\n      <td>3.5</td>\n    </tr>\n  </tbody>\n</table>\n<p>10 rows × 50 columns</p>\n</div>"
     },
     "execution_count": 76,
     "metadata": {},
     "output_type": "execute_result"
    }
   ],
   "source": [
    "comp, diff = compare_monsters(result[\"values\"], orc_warchief)\n",
    "comp"
   ],
   "metadata": {
    "collapsed": false
   }
  },
  {
   "cell_type": "code",
   "execution_count": 77,
   "outputs": [
    {
     "data": {
      "text/plain": "  str_diff dex_diff con_diff int_diff wis_diff cha_diff ac_diff hp_diff  \\\n0        -        -      3.0     -3.0      1.0     -2.0    -1.0       -   \n1     -2.0      2.0      1.0        -      1.0     -2.0       -    -2.0   \n2     -2.0      2.0        -      2.0     -1.0     -1.0       -    -5.0   \n3     -1.0        -      3.0        -      2.0     -2.0    -1.0    -2.0   \n4     -2.0      2.0      1.0      4.0     -1.0     -3.0    -1.0    -4.0   \n5     -1.0      2.0      1.0        -        -     -2.0       -    -4.0   \n6        -        -        -        -        -        -       -       -   \n7        -     -1.0      2.0        -      1.0     -1.0    -1.0    -4.0   \n8        -        -      2.0        -        -     -2.0    -2.0     2.0   \n9        -      1.0      1.0        -        -     -2.0    -1.0    -3.0   \n\n  perception_diff fortitude_diff  ... spells_nr_lvl_4_diff  \\\n0            -3.0            3.0  ...                    -   \n1            -5.0            1.0  ...                  1.0   \n2            -5.0              -  ...                    -   \n3            -2.0            3.0  ...                  1.0   \n4            -5.0            1.0  ...                    -   \n5            -4.0            1.0  ...                    -   \n6               -              -  ...                    -   \n7            -3.0            2.0  ...                    -   \n8            -4.0            2.0  ...                    -   \n9            -4.0            1.0  ...                    -   \n\n  spells_nr_lvl_5_diff spells_nr_lvl_6_diff spells_nr_lvl_7_diff  \\\n0                    -                    -                    -   \n1                    -                    -                    -   \n2                    -                    -                    -   \n3                    -                    -                    -   \n4                    -                    -                    -   \n5                    -                    -                    -   \n6                    -                    -                    -   \n7                    -                    -                    -   \n8                    -                    -                    -   \n9                    -                    -                    -   \n\n  spells_nr_lvl_8_diff spells_nr_lvl_9_diff melee_max_bonus_diff  \\\n0                    -                    -                  1.0   \n1                    -                    -                    -   \n2                    -                    -                    -   \n3                    -                    -                  1.0   \n4                    -                    -                    -   \n5                    -                    -                    -   \n6                    -                    -                    -   \n7                    -                    -                    -   \n8                    -                    -                    -   \n9                    -                    -                    -   \n\n  avg_melee_dmg_diff ranged_max_bonus_diff avg_ranged_dmg_diff  \n0                1.0                  -8.0                -7.5  \n1               -1.0                   2.0                -2.0  \n2               -2.0                   2.0                -4.0  \n3                1.0                   3.0                   -  \n4               -2.0                   2.0                -4.0  \n5               -1.0                   2.0                -2.0  \n6                  -                     -                   -  \n7                3.0                  -1.0                -3.0  \n8                  -                     -                   -  \n9                  -                   2.0                -4.0  \n\n[10 rows x 50 columns]",
      "text/html": "<div>\n<style scoped>\n    .dataframe tbody tr th:only-of-type {\n        vertical-align: middle;\n    }\n\n    .dataframe tbody tr th {\n        vertical-align: top;\n    }\n\n    .dataframe thead th {\n        text-align: right;\n    }\n</style>\n<table border=\"1\" class=\"dataframe\">\n  <thead>\n    <tr style=\"text-align: right;\">\n      <th></th>\n      <th>str_diff</th>\n      <th>dex_diff</th>\n      <th>con_diff</th>\n      <th>int_diff</th>\n      <th>wis_diff</th>\n      <th>cha_diff</th>\n      <th>ac_diff</th>\n      <th>hp_diff</th>\n      <th>perception_diff</th>\n      <th>fortitude_diff</th>\n      <th>...</th>\n      <th>spells_nr_lvl_4_diff</th>\n      <th>spells_nr_lvl_5_diff</th>\n      <th>spells_nr_lvl_6_diff</th>\n      <th>spells_nr_lvl_7_diff</th>\n      <th>spells_nr_lvl_8_diff</th>\n      <th>spells_nr_lvl_9_diff</th>\n      <th>melee_max_bonus_diff</th>\n      <th>avg_melee_dmg_diff</th>\n      <th>ranged_max_bonus_diff</th>\n      <th>avg_ranged_dmg_diff</th>\n    </tr>\n  </thead>\n  <tbody>\n    <tr>\n      <th>0</th>\n      <td>-</td>\n      <td>-</td>\n      <td>3.0</td>\n      <td>-3.0</td>\n      <td>1.0</td>\n      <td>-2.0</td>\n      <td>-1.0</td>\n      <td>-</td>\n      <td>-3.0</td>\n      <td>3.0</td>\n      <td>...</td>\n      <td>-</td>\n      <td>-</td>\n      <td>-</td>\n      <td>-</td>\n      <td>-</td>\n      <td>-</td>\n      <td>1.0</td>\n      <td>1.0</td>\n      <td>-8.0</td>\n      <td>-7.5</td>\n    </tr>\n    <tr>\n      <th>1</th>\n      <td>-2.0</td>\n      <td>2.0</td>\n      <td>1.0</td>\n      <td>-</td>\n      <td>1.0</td>\n      <td>-2.0</td>\n      <td>-</td>\n      <td>-2.0</td>\n      <td>-5.0</td>\n      <td>1.0</td>\n      <td>...</td>\n      <td>1.0</td>\n      <td>-</td>\n      <td>-</td>\n      <td>-</td>\n      <td>-</td>\n      <td>-</td>\n      <td>-</td>\n      <td>-1.0</td>\n      <td>2.0</td>\n      <td>-2.0</td>\n    </tr>\n    <tr>\n      <th>2</th>\n      <td>-2.0</td>\n      <td>2.0</td>\n      <td>-</td>\n      <td>2.0</td>\n      <td>-1.0</td>\n      <td>-1.0</td>\n      <td>-</td>\n      <td>-5.0</td>\n      <td>-5.0</td>\n      <td>-</td>\n      <td>...</td>\n      <td>-</td>\n      <td>-</td>\n      <td>-</td>\n      <td>-</td>\n      <td>-</td>\n      <td>-</td>\n      <td>-</td>\n      <td>-2.0</td>\n      <td>2.0</td>\n      <td>-4.0</td>\n    </tr>\n    <tr>\n      <th>3</th>\n      <td>-1.0</td>\n      <td>-</td>\n      <td>3.0</td>\n      <td>-</td>\n      <td>2.0</td>\n      <td>-2.0</td>\n      <td>-1.0</td>\n      <td>-2.0</td>\n      <td>-2.0</td>\n      <td>3.0</td>\n      <td>...</td>\n      <td>1.0</td>\n      <td>-</td>\n      <td>-</td>\n      <td>-</td>\n      <td>-</td>\n      <td>-</td>\n      <td>1.0</td>\n      <td>1.0</td>\n      <td>3.0</td>\n      <td>-</td>\n    </tr>\n    <tr>\n      <th>4</th>\n      <td>-2.0</td>\n      <td>2.0</td>\n      <td>1.0</td>\n      <td>4.0</td>\n      <td>-1.0</td>\n      <td>-3.0</td>\n      <td>-1.0</td>\n      <td>-4.0</td>\n      <td>-5.0</td>\n      <td>1.0</td>\n      <td>...</td>\n      <td>-</td>\n      <td>-</td>\n      <td>-</td>\n      <td>-</td>\n      <td>-</td>\n      <td>-</td>\n      <td>-</td>\n      <td>-2.0</td>\n      <td>2.0</td>\n      <td>-4.0</td>\n    </tr>\n    <tr>\n      <th>5</th>\n      <td>-1.0</td>\n      <td>2.0</td>\n      <td>1.0</td>\n      <td>-</td>\n      <td>-</td>\n      <td>-2.0</td>\n      <td>-</td>\n      <td>-4.0</td>\n      <td>-4.0</td>\n      <td>1.0</td>\n      <td>...</td>\n      <td>-</td>\n      <td>-</td>\n      <td>-</td>\n      <td>-</td>\n      <td>-</td>\n      <td>-</td>\n      <td>-</td>\n      <td>-1.0</td>\n      <td>2.0</td>\n      <td>-2.0</td>\n    </tr>\n    <tr>\n      <th>6</th>\n      <td>-</td>\n      <td>-</td>\n      <td>-</td>\n      <td>-</td>\n      <td>-</td>\n      <td>-</td>\n      <td>-</td>\n      <td>-</td>\n      <td>-</td>\n      <td>-</td>\n      <td>...</td>\n      <td>-</td>\n      <td>-</td>\n      <td>-</td>\n      <td>-</td>\n      <td>-</td>\n      <td>-</td>\n      <td>-</td>\n      <td>-</td>\n      <td>-</td>\n      <td>-</td>\n    </tr>\n    <tr>\n      <th>7</th>\n      <td>-</td>\n      <td>-1.0</td>\n      <td>2.0</td>\n      <td>-</td>\n      <td>1.0</td>\n      <td>-1.0</td>\n      <td>-1.0</td>\n      <td>-4.0</td>\n      <td>-3.0</td>\n      <td>2.0</td>\n      <td>...</td>\n      <td>-</td>\n      <td>-</td>\n      <td>-</td>\n      <td>-</td>\n      <td>-</td>\n      <td>-</td>\n      <td>-</td>\n      <td>3.0</td>\n      <td>-1.0</td>\n      <td>-3.0</td>\n    </tr>\n    <tr>\n      <th>8</th>\n      <td>-</td>\n      <td>-</td>\n      <td>2.0</td>\n      <td>-</td>\n      <td>-</td>\n      <td>-2.0</td>\n      <td>-2.0</td>\n      <td>2.0</td>\n      <td>-4.0</td>\n      <td>2.0</td>\n      <td>...</td>\n      <td>-</td>\n      <td>-</td>\n      <td>-</td>\n      <td>-</td>\n      <td>-</td>\n      <td>-</td>\n      <td>-</td>\n      <td>-</td>\n      <td>-</td>\n      <td>-</td>\n    </tr>\n    <tr>\n      <th>9</th>\n      <td>-</td>\n      <td>1.0</td>\n      <td>1.0</td>\n      <td>-</td>\n      <td>-</td>\n      <td>-2.0</td>\n      <td>-1.0</td>\n      <td>-3.0</td>\n      <td>-4.0</td>\n      <td>1.0</td>\n      <td>...</td>\n      <td>-</td>\n      <td>-</td>\n      <td>-</td>\n      <td>-</td>\n      <td>-</td>\n      <td>-</td>\n      <td>-</td>\n      <td>-</td>\n      <td>2.0</td>\n      <td>-4.0</td>\n    </tr>\n  </tbody>\n</table>\n<p>10 rows × 50 columns</p>\n</div>"
     },
     "execution_count": 77,
     "metadata": {},
     "output_type": "execute_result"
    }
   ],
   "source": [
    "diff"
   ],
   "metadata": {
    "collapsed": false
   }
  },
  {
   "cell_type": "markdown",
   "source": [
    "### Orc Warchief"
   ],
   "metadata": {
    "collapsed": false
   }
  },
  {
   "cell_type": "code",
   "execution_count": 78,
   "outputs": [
    {
     "name": "stderr",
     "output_type": "stream",
     "text": [
      "100%|██████████| 1/1 [00:00<00:00,  1.56it/s]\n"
     ]
    }
   ],
   "source": [
    "result = generate_counterfactuals(\n",
    "    monster_stats=orc_warchief,\n",
    "    model=model,\n",
    "    new_level=0,\n",
    "    df=dataset,\n",
    "    total_cf=10,\n",
    "    ordered_characteristics=ORDERED_CHARACTERISTICS_50,\n",
    ")"
   ],
   "metadata": {
    "collapsed": false
   }
  },
  {
   "cell_type": "code",
   "execution_count": 79,
   "outputs": [
    {
     "name": "stdout",
     "output_type": "stream",
     "text": [
      "[-0.00012151]\n",
      "[-0.00048705]\n",
      "[-2.66855732e-05]\n",
      "[6.31504776e-05]\n",
      "[0.00011427]\n",
      "[8.1590325e-05]\n",
      "[-0.00022239]\n",
      "[-0.00028845]\n",
      "[6.41703588e-06]\n",
      "[0.00041984]\n"
     ]
    }
   ],
   "source": [
    "test_cfs(result[\"values\"], 0)"
   ],
   "metadata": {
    "collapsed": false
   }
  },
  {
   "cell_type": "markdown",
   "source": [
    "##### Compare to original data"
   ],
   "metadata": {
    "collapsed": false
   }
  },
  {
   "cell_type": "code",
   "execution_count": 80,
   "outputs": [
    {
     "data": {
      "text/plain": "   str  dex  con  int  wis  cha    ac    hp  perception fortitude  ...  \\\n0  2.0  1.0  3.0  0.0  2.0  0.0  16.0  15.0         6.0         -  ...   \n1  1.0  3.0  3.0  0.0  2.0 -2.0  17.0  16.0         4.0         -  ...   \n2 -3.0  3.0  0.0  0.0  2.0 -2.0  16.0  17.0         6.0       5.0  ...   \n3  2.0 -1.0  3.0 -5.0    - -5.0  13.0  18.0         3.0       9.0  ...   \n4 -1.0    -  2.0 -2.0  2.0  1.0  18.0  15.0         4.0       6.0  ...   \n5  0.0  1.0  2.0 -5.0  2.0 -2.0  16.0  15.0         6.0       8.0  ...   \n6  3.0    -  3.0 -4.0  2.0  0.0  14.0  16.0         4.0         -  ...   \n7  3.0    -  2.0 -5.0  2.0  0.0  16.0  15.0         6.0       6.0  ...   \n8  3.0    -  3.0    -    -  0.0  15.0  15.0         5.0       6.0  ...   \n9  3.0    -  3.0 -4.0    -  1.0  15.0  18.0         7.0         -  ...   \n\n  spells_nr_lvl_4  spells_nr_lvl_5 spells_nr_lvl_6 spells_nr_lvl_7  \\\n0               -                -               -               -   \n1               -                -               -               -   \n2               -                -               -               -   \n3               -                -               -               -   \n4             1.0                -               -               -   \n5               -                -               -               -   \n6               -                -               -               -   \n7               -                -               -               -   \n8               -                -               -               -   \n9               -                -               -               -   \n\n  spells_nr_lvl_8 spells_nr_lvl_9 melee_max_bonus avg_melee_dmg  \\\n0               -               -             6.0           4.5   \n1               -               -             5.0           3.5   \n2               -               -             8.0           0.5   \n3               -               -             6.0             -   \n4               -               -             3.0           3.5   \n5               -               -             8.0           3.5   \n6               -               -             5.0           5.5   \n7               -               -             7.0           5.5   \n8               -               -             7.0           5.5   \n9               -               -             7.0             -   \n\n  ranged_max_bonus avg_ranged_dmg  \n0              0.0            0.0  \n1              7.0            4.5  \n2                -            3.5  \n3              0.0            0.0  \n4              6.0            3.5  \n5              0.0            0.0  \n6              0.0            0.0  \n7              0.0            0.0  \n8              4.0            6.5  \n9              0.0            0.0  \n\n[10 rows x 50 columns]",
      "text/html": "<div>\n<style scoped>\n    .dataframe tbody tr th:only-of-type {\n        vertical-align: middle;\n    }\n\n    .dataframe tbody tr th {\n        vertical-align: top;\n    }\n\n    .dataframe thead th {\n        text-align: right;\n    }\n</style>\n<table border=\"1\" class=\"dataframe\">\n  <thead>\n    <tr style=\"text-align: right;\">\n      <th></th>\n      <th>str</th>\n      <th>dex</th>\n      <th>con</th>\n      <th>int</th>\n      <th>wis</th>\n      <th>cha</th>\n      <th>ac</th>\n      <th>hp</th>\n      <th>perception</th>\n      <th>fortitude</th>\n      <th>...</th>\n      <th>spells_nr_lvl_4</th>\n      <th>spells_nr_lvl_5</th>\n      <th>spells_nr_lvl_6</th>\n      <th>spells_nr_lvl_7</th>\n      <th>spells_nr_lvl_8</th>\n      <th>spells_nr_lvl_9</th>\n      <th>melee_max_bonus</th>\n      <th>avg_melee_dmg</th>\n      <th>ranged_max_bonus</th>\n      <th>avg_ranged_dmg</th>\n    </tr>\n  </thead>\n  <tbody>\n    <tr>\n      <th>0</th>\n      <td>2.0</td>\n      <td>1.0</td>\n      <td>3.0</td>\n      <td>0.0</td>\n      <td>2.0</td>\n      <td>0.0</td>\n      <td>16.0</td>\n      <td>15.0</td>\n      <td>6.0</td>\n      <td>-</td>\n      <td>...</td>\n      <td>-</td>\n      <td>-</td>\n      <td>-</td>\n      <td>-</td>\n      <td>-</td>\n      <td>-</td>\n      <td>6.0</td>\n      <td>4.5</td>\n      <td>0.0</td>\n      <td>0.0</td>\n    </tr>\n    <tr>\n      <th>1</th>\n      <td>1.0</td>\n      <td>3.0</td>\n      <td>3.0</td>\n      <td>0.0</td>\n      <td>2.0</td>\n      <td>-2.0</td>\n      <td>17.0</td>\n      <td>16.0</td>\n      <td>4.0</td>\n      <td>-</td>\n      <td>...</td>\n      <td>-</td>\n      <td>-</td>\n      <td>-</td>\n      <td>-</td>\n      <td>-</td>\n      <td>-</td>\n      <td>5.0</td>\n      <td>3.5</td>\n      <td>7.0</td>\n      <td>4.5</td>\n    </tr>\n    <tr>\n      <th>2</th>\n      <td>-3.0</td>\n      <td>3.0</td>\n      <td>0.0</td>\n      <td>0.0</td>\n      <td>2.0</td>\n      <td>-2.0</td>\n      <td>16.0</td>\n      <td>17.0</td>\n      <td>6.0</td>\n      <td>5.0</td>\n      <td>...</td>\n      <td>-</td>\n      <td>-</td>\n      <td>-</td>\n      <td>-</td>\n      <td>-</td>\n      <td>-</td>\n      <td>8.0</td>\n      <td>0.5</td>\n      <td>-</td>\n      <td>3.5</td>\n    </tr>\n    <tr>\n      <th>3</th>\n      <td>2.0</td>\n      <td>-1.0</td>\n      <td>3.0</td>\n      <td>-5.0</td>\n      <td>-</td>\n      <td>-5.0</td>\n      <td>13.0</td>\n      <td>18.0</td>\n      <td>3.0</td>\n      <td>9.0</td>\n      <td>...</td>\n      <td>-</td>\n      <td>-</td>\n      <td>-</td>\n      <td>-</td>\n      <td>-</td>\n      <td>-</td>\n      <td>6.0</td>\n      <td>-</td>\n      <td>0.0</td>\n      <td>0.0</td>\n    </tr>\n    <tr>\n      <th>4</th>\n      <td>-1.0</td>\n      <td>-</td>\n      <td>2.0</td>\n      <td>-2.0</td>\n      <td>2.0</td>\n      <td>1.0</td>\n      <td>18.0</td>\n      <td>15.0</td>\n      <td>4.0</td>\n      <td>6.0</td>\n      <td>...</td>\n      <td>1.0</td>\n      <td>-</td>\n      <td>-</td>\n      <td>-</td>\n      <td>-</td>\n      <td>-</td>\n      <td>3.0</td>\n      <td>3.5</td>\n      <td>6.0</td>\n      <td>3.5</td>\n    </tr>\n    <tr>\n      <th>5</th>\n      <td>0.0</td>\n      <td>1.0</td>\n      <td>2.0</td>\n      <td>-5.0</td>\n      <td>2.0</td>\n      <td>-2.0</td>\n      <td>16.0</td>\n      <td>15.0</td>\n      <td>6.0</td>\n      <td>8.0</td>\n      <td>...</td>\n      <td>-</td>\n      <td>-</td>\n      <td>-</td>\n      <td>-</td>\n      <td>-</td>\n      <td>-</td>\n      <td>8.0</td>\n      <td>3.5</td>\n      <td>0.0</td>\n      <td>0.0</td>\n    </tr>\n    <tr>\n      <th>6</th>\n      <td>3.0</td>\n      <td>-</td>\n      <td>3.0</td>\n      <td>-4.0</td>\n      <td>2.0</td>\n      <td>0.0</td>\n      <td>14.0</td>\n      <td>16.0</td>\n      <td>4.0</td>\n      <td>-</td>\n      <td>...</td>\n      <td>-</td>\n      <td>-</td>\n      <td>-</td>\n      <td>-</td>\n      <td>-</td>\n      <td>-</td>\n      <td>5.0</td>\n      <td>5.5</td>\n      <td>0.0</td>\n      <td>0.0</td>\n    </tr>\n    <tr>\n      <th>7</th>\n      <td>3.0</td>\n      <td>-</td>\n      <td>2.0</td>\n      <td>-5.0</td>\n      <td>2.0</td>\n      <td>0.0</td>\n      <td>16.0</td>\n      <td>15.0</td>\n      <td>6.0</td>\n      <td>6.0</td>\n      <td>...</td>\n      <td>-</td>\n      <td>-</td>\n      <td>-</td>\n      <td>-</td>\n      <td>-</td>\n      <td>-</td>\n      <td>7.0</td>\n      <td>5.5</td>\n      <td>0.0</td>\n      <td>0.0</td>\n    </tr>\n    <tr>\n      <th>8</th>\n      <td>3.0</td>\n      <td>-</td>\n      <td>3.0</td>\n      <td>-</td>\n      <td>-</td>\n      <td>0.0</td>\n      <td>15.0</td>\n      <td>15.0</td>\n      <td>5.0</td>\n      <td>6.0</td>\n      <td>...</td>\n      <td>-</td>\n      <td>-</td>\n      <td>-</td>\n      <td>-</td>\n      <td>-</td>\n      <td>-</td>\n      <td>7.0</td>\n      <td>5.5</td>\n      <td>4.0</td>\n      <td>6.5</td>\n    </tr>\n    <tr>\n      <th>9</th>\n      <td>3.0</td>\n      <td>-</td>\n      <td>3.0</td>\n      <td>-4.0</td>\n      <td>-</td>\n      <td>1.0</td>\n      <td>15.0</td>\n      <td>18.0</td>\n      <td>7.0</td>\n      <td>-</td>\n      <td>...</td>\n      <td>-</td>\n      <td>-</td>\n      <td>-</td>\n      <td>-</td>\n      <td>-</td>\n      <td>-</td>\n      <td>7.0</td>\n      <td>-</td>\n      <td>0.0</td>\n      <td>0.0</td>\n    </tr>\n  </tbody>\n</table>\n<p>10 rows × 50 columns</p>\n</div>"
     },
     "execution_count": 80,
     "metadata": {},
     "output_type": "execute_result"
    }
   ],
   "source": [
    "comp, diff = compare_monsters(result[\"values\"], orc_warchief)\n",
    "comp"
   ],
   "metadata": {
    "collapsed": false
   }
  },
  {
   "cell_type": "code",
   "execution_count": 81,
   "outputs": [
    {
     "data": {
      "text/plain": "   str_diff dex_diff  con_diff int_diff wis_diff  cha_diff  ac_diff  hp_diff  \\\n0      -2.0     -1.0       2.0      1.0      1.0      -2.0     -3.0    -17.0   \n1      -3.0      1.0       2.0      1.0      1.0      -4.0     -2.0    -16.0   \n2      -7.0      1.0      -1.0      1.0      1.0      -4.0     -3.0    -15.0   \n3      -2.0     -3.0       2.0     -4.0        -      -7.0     -6.0    -14.0   \n4      -5.0        -       1.0     -1.0      1.0      -1.0     -1.0    -17.0   \n5      -4.0     -1.0       1.0     -4.0      1.0      -4.0     -3.0    -17.0   \n6      -1.0        -       2.0     -3.0      1.0      -2.0     -5.0    -16.0   \n7      -1.0        -       1.0     -4.0      1.0      -2.0     -3.0    -17.0   \n8      -1.0        -       2.0        -        -      -2.0     -4.0    -17.0   \n9      -1.0        -       2.0     -3.0        -      -1.0     -4.0    -14.0   \n\n   perception_diff fortitude_diff  ... spells_nr_lvl_4_diff  \\\n0             -5.0              -  ...                    -   \n1             -7.0              -  ...                    -   \n2             -5.0           -2.0  ...                    -   \n3             -8.0            2.0  ...                    -   \n4             -7.0           -1.0  ...                  1.0   \n5             -5.0            1.0  ...                    -   \n6             -7.0              -  ...                    -   \n7             -5.0           -1.0  ...                    -   \n8             -6.0           -1.0  ...                    -   \n9             -4.0              -  ...                    -   \n\n   spells_nr_lvl_5_diff spells_nr_lvl_6_diff spells_nr_lvl_7_diff  \\\n0                     -                    -                    -   \n1                     -                    -                    -   \n2                     -                    -                    -   \n3                     -                    -                    -   \n4                     -                    -                    -   \n5                     -                    -                    -   \n6                     -                    -                    -   \n7                     -                    -                    -   \n8                     -                    -                    -   \n9                     -                    -                    -   \n\n  spells_nr_lvl_8_diff spells_nr_lvl_9_diff melee_max_bonus_diff  \\\n0                    -                    -                 -4.0   \n1                    -                    -                 -5.0   \n2                    -                    -                 -2.0   \n3                    -                    -                 -4.0   \n4                    -                    -                 -7.0   \n5                    -                    -                 -2.0   \n6                    -                    -                 -5.0   \n7                    -                    -                 -3.0   \n8                    -                    -                 -3.0   \n9                    -                    -                 -3.0   \n\n  avg_melee_dmg_diff ranged_max_bonus_diff avg_ranged_dmg_diff  \n0               -2.0                  -8.0                -7.5  \n1               -3.0                  -1.0                -3.0  \n2               -6.0                     -                -4.0  \n3                  -                  -8.0                -7.5  \n4               -3.0                  -2.0                -4.0  \n5               -3.0                  -8.0                -7.5  \n6               -1.0                  -8.0                -7.5  \n7               -1.0                  -8.0                -7.5  \n8               -1.0                  -4.0                -1.0  \n9                  -                  -8.0                -7.5  \n\n[10 rows x 50 columns]",
      "text/html": "<div>\n<style scoped>\n    .dataframe tbody tr th:only-of-type {\n        vertical-align: middle;\n    }\n\n    .dataframe tbody tr th {\n        vertical-align: top;\n    }\n\n    .dataframe thead th {\n        text-align: right;\n    }\n</style>\n<table border=\"1\" class=\"dataframe\">\n  <thead>\n    <tr style=\"text-align: right;\">\n      <th></th>\n      <th>str_diff</th>\n      <th>dex_diff</th>\n      <th>con_diff</th>\n      <th>int_diff</th>\n      <th>wis_diff</th>\n      <th>cha_diff</th>\n      <th>ac_diff</th>\n      <th>hp_diff</th>\n      <th>perception_diff</th>\n      <th>fortitude_diff</th>\n      <th>...</th>\n      <th>spells_nr_lvl_4_diff</th>\n      <th>spells_nr_lvl_5_diff</th>\n      <th>spells_nr_lvl_6_diff</th>\n      <th>spells_nr_lvl_7_diff</th>\n      <th>spells_nr_lvl_8_diff</th>\n      <th>spells_nr_lvl_9_diff</th>\n      <th>melee_max_bonus_diff</th>\n      <th>avg_melee_dmg_diff</th>\n      <th>ranged_max_bonus_diff</th>\n      <th>avg_ranged_dmg_diff</th>\n    </tr>\n  </thead>\n  <tbody>\n    <tr>\n      <th>0</th>\n      <td>-2.0</td>\n      <td>-1.0</td>\n      <td>2.0</td>\n      <td>1.0</td>\n      <td>1.0</td>\n      <td>-2.0</td>\n      <td>-3.0</td>\n      <td>-17.0</td>\n      <td>-5.0</td>\n      <td>-</td>\n      <td>...</td>\n      <td>-</td>\n      <td>-</td>\n      <td>-</td>\n      <td>-</td>\n      <td>-</td>\n      <td>-</td>\n      <td>-4.0</td>\n      <td>-2.0</td>\n      <td>-8.0</td>\n      <td>-7.5</td>\n    </tr>\n    <tr>\n      <th>1</th>\n      <td>-3.0</td>\n      <td>1.0</td>\n      <td>2.0</td>\n      <td>1.0</td>\n      <td>1.0</td>\n      <td>-4.0</td>\n      <td>-2.0</td>\n      <td>-16.0</td>\n      <td>-7.0</td>\n      <td>-</td>\n      <td>...</td>\n      <td>-</td>\n      <td>-</td>\n      <td>-</td>\n      <td>-</td>\n      <td>-</td>\n      <td>-</td>\n      <td>-5.0</td>\n      <td>-3.0</td>\n      <td>-1.0</td>\n      <td>-3.0</td>\n    </tr>\n    <tr>\n      <th>2</th>\n      <td>-7.0</td>\n      <td>1.0</td>\n      <td>-1.0</td>\n      <td>1.0</td>\n      <td>1.0</td>\n      <td>-4.0</td>\n      <td>-3.0</td>\n      <td>-15.0</td>\n      <td>-5.0</td>\n      <td>-2.0</td>\n      <td>...</td>\n      <td>-</td>\n      <td>-</td>\n      <td>-</td>\n      <td>-</td>\n      <td>-</td>\n      <td>-</td>\n      <td>-2.0</td>\n      <td>-6.0</td>\n      <td>-</td>\n      <td>-4.0</td>\n    </tr>\n    <tr>\n      <th>3</th>\n      <td>-2.0</td>\n      <td>-3.0</td>\n      <td>2.0</td>\n      <td>-4.0</td>\n      <td>-</td>\n      <td>-7.0</td>\n      <td>-6.0</td>\n      <td>-14.0</td>\n      <td>-8.0</td>\n      <td>2.0</td>\n      <td>...</td>\n      <td>-</td>\n      <td>-</td>\n      <td>-</td>\n      <td>-</td>\n      <td>-</td>\n      <td>-</td>\n      <td>-4.0</td>\n      <td>-</td>\n      <td>-8.0</td>\n      <td>-7.5</td>\n    </tr>\n    <tr>\n      <th>4</th>\n      <td>-5.0</td>\n      <td>-</td>\n      <td>1.0</td>\n      <td>-1.0</td>\n      <td>1.0</td>\n      <td>-1.0</td>\n      <td>-1.0</td>\n      <td>-17.0</td>\n      <td>-7.0</td>\n      <td>-1.0</td>\n      <td>...</td>\n      <td>1.0</td>\n      <td>-</td>\n      <td>-</td>\n      <td>-</td>\n      <td>-</td>\n      <td>-</td>\n      <td>-7.0</td>\n      <td>-3.0</td>\n      <td>-2.0</td>\n      <td>-4.0</td>\n    </tr>\n    <tr>\n      <th>5</th>\n      <td>-4.0</td>\n      <td>-1.0</td>\n      <td>1.0</td>\n      <td>-4.0</td>\n      <td>1.0</td>\n      <td>-4.0</td>\n      <td>-3.0</td>\n      <td>-17.0</td>\n      <td>-5.0</td>\n      <td>1.0</td>\n      <td>...</td>\n      <td>-</td>\n      <td>-</td>\n      <td>-</td>\n      <td>-</td>\n      <td>-</td>\n      <td>-</td>\n      <td>-2.0</td>\n      <td>-3.0</td>\n      <td>-8.0</td>\n      <td>-7.5</td>\n    </tr>\n    <tr>\n      <th>6</th>\n      <td>-1.0</td>\n      <td>-</td>\n      <td>2.0</td>\n      <td>-3.0</td>\n      <td>1.0</td>\n      <td>-2.0</td>\n      <td>-5.0</td>\n      <td>-16.0</td>\n      <td>-7.0</td>\n      <td>-</td>\n      <td>...</td>\n      <td>-</td>\n      <td>-</td>\n      <td>-</td>\n      <td>-</td>\n      <td>-</td>\n      <td>-</td>\n      <td>-5.0</td>\n      <td>-1.0</td>\n      <td>-8.0</td>\n      <td>-7.5</td>\n    </tr>\n    <tr>\n      <th>7</th>\n      <td>-1.0</td>\n      <td>-</td>\n      <td>1.0</td>\n      <td>-4.0</td>\n      <td>1.0</td>\n      <td>-2.0</td>\n      <td>-3.0</td>\n      <td>-17.0</td>\n      <td>-5.0</td>\n      <td>-1.0</td>\n      <td>...</td>\n      <td>-</td>\n      <td>-</td>\n      <td>-</td>\n      <td>-</td>\n      <td>-</td>\n      <td>-</td>\n      <td>-3.0</td>\n      <td>-1.0</td>\n      <td>-8.0</td>\n      <td>-7.5</td>\n    </tr>\n    <tr>\n      <th>8</th>\n      <td>-1.0</td>\n      <td>-</td>\n      <td>2.0</td>\n      <td>-</td>\n      <td>-</td>\n      <td>-2.0</td>\n      <td>-4.0</td>\n      <td>-17.0</td>\n      <td>-6.0</td>\n      <td>-1.0</td>\n      <td>...</td>\n      <td>-</td>\n      <td>-</td>\n      <td>-</td>\n      <td>-</td>\n      <td>-</td>\n      <td>-</td>\n      <td>-3.0</td>\n      <td>-1.0</td>\n      <td>-4.0</td>\n      <td>-1.0</td>\n    </tr>\n    <tr>\n      <th>9</th>\n      <td>-1.0</td>\n      <td>-</td>\n      <td>2.0</td>\n      <td>-3.0</td>\n      <td>-</td>\n      <td>-1.0</td>\n      <td>-4.0</td>\n      <td>-14.0</td>\n      <td>-4.0</td>\n      <td>-</td>\n      <td>...</td>\n      <td>-</td>\n      <td>-</td>\n      <td>-</td>\n      <td>-</td>\n      <td>-</td>\n      <td>-</td>\n      <td>-3.0</td>\n      <td>-</td>\n      <td>-8.0</td>\n      <td>-7.5</td>\n    </tr>\n  </tbody>\n</table>\n<p>10 rows × 50 columns</p>\n</div>"
     },
     "execution_count": 81,
     "metadata": {},
     "output_type": "execute_result"
    }
   ],
   "source": [
    "diff"
   ],
   "metadata": {
    "collapsed": false
   }
  },
  {
   "cell_type": "markdown",
   "source": [
    "##### Compare to *Orc brute*"
   ],
   "metadata": {
    "collapsed": false
   }
  },
  {
   "cell_type": "code",
   "execution_count": 82,
   "outputs": [
    {
     "data": {
      "text/plain": "   str  dex  con  int  wis  cha    ac    hp perception fortitude  ...  \\\n0  2.0  1.0    -  0.0  2.0    -  16.0     -        6.0       7.0  ...   \n1  1.0  3.0    -  0.0  2.0 -2.0  17.0  16.0        4.0       7.0  ...   \n2 -3.0  3.0  0.0  0.0  2.0 -2.0  16.0  17.0        6.0       5.0  ...   \n3  2.0 -1.0    - -5.0    - -5.0  13.0  18.0        3.0       9.0  ...   \n4 -1.0    -  2.0 -2.0  2.0  1.0  18.0     -        4.0         -  ...   \n5  0.0  1.0  2.0 -5.0  2.0 -2.0  16.0     -        6.0       8.0  ...   \n6    -    -    - -4.0  2.0    -  14.0  16.0        4.0       7.0  ...   \n7    -    -  2.0 -5.0  2.0    -  16.0     -        6.0         -  ...   \n8    -    -    -    -    -    -     -     -          -         -  ...   \n9    -    -    - -4.0    -  1.0     -  18.0        7.0       7.0  ...   \n\n  spells_nr_lvl_4 spells_nr_lvl_5 spells_nr_lvl_6 spells_nr_lvl_7  \\\n0               -               -               -               -   \n1               -               -               -               -   \n2               -               -               -               -   \n3               -               -               -               -   \n4             1.0               -               -               -   \n5               -               -               -               -   \n6               -               -               -               -   \n7               -               -               -               -   \n8               -               -               -               -   \n9               -               -               -               -   \n\n  spells_nr_lvl_8 spells_nr_lvl_9 melee_max_bonus avg_melee_dmg  \\\n0               -               -             6.0           4.5   \n1               -               -             5.0           3.5   \n2               -               -             8.0           0.5   \n3               -               -             6.0           6.5   \n4               -               -             3.0           3.5   \n5               -               -             8.0           3.5   \n6               -               -             5.0             -   \n7               -               -               -             -   \n8               -               -               -             -   \n9               -               -               -           6.5   \n\n  ranged_max_bonus avg_ranged_dmg  \n0              0.0            0.0  \n1              7.0            4.5  \n2              8.0            3.5  \n3              0.0            0.0  \n4              6.0            3.5  \n5              0.0            0.0  \n6              0.0            0.0  \n7              0.0            0.0  \n8                -              -  \n9              0.0            0.0  \n\n[10 rows x 50 columns]",
      "text/html": "<div>\n<style scoped>\n    .dataframe tbody tr th:only-of-type {\n        vertical-align: middle;\n    }\n\n    .dataframe tbody tr th {\n        vertical-align: top;\n    }\n\n    .dataframe thead th {\n        text-align: right;\n    }\n</style>\n<table border=\"1\" class=\"dataframe\">\n  <thead>\n    <tr style=\"text-align: right;\">\n      <th></th>\n      <th>str</th>\n      <th>dex</th>\n      <th>con</th>\n      <th>int</th>\n      <th>wis</th>\n      <th>cha</th>\n      <th>ac</th>\n      <th>hp</th>\n      <th>perception</th>\n      <th>fortitude</th>\n      <th>...</th>\n      <th>spells_nr_lvl_4</th>\n      <th>spells_nr_lvl_5</th>\n      <th>spells_nr_lvl_6</th>\n      <th>spells_nr_lvl_7</th>\n      <th>spells_nr_lvl_8</th>\n      <th>spells_nr_lvl_9</th>\n      <th>melee_max_bonus</th>\n      <th>avg_melee_dmg</th>\n      <th>ranged_max_bonus</th>\n      <th>avg_ranged_dmg</th>\n    </tr>\n  </thead>\n  <tbody>\n    <tr>\n      <th>0</th>\n      <td>2.0</td>\n      <td>1.0</td>\n      <td>-</td>\n      <td>0.0</td>\n      <td>2.0</td>\n      <td>-</td>\n      <td>16.0</td>\n      <td>-</td>\n      <td>6.0</td>\n      <td>7.0</td>\n      <td>...</td>\n      <td>-</td>\n      <td>-</td>\n      <td>-</td>\n      <td>-</td>\n      <td>-</td>\n      <td>-</td>\n      <td>6.0</td>\n      <td>4.5</td>\n      <td>0.0</td>\n      <td>0.0</td>\n    </tr>\n    <tr>\n      <th>1</th>\n      <td>1.0</td>\n      <td>3.0</td>\n      <td>-</td>\n      <td>0.0</td>\n      <td>2.0</td>\n      <td>-2.0</td>\n      <td>17.0</td>\n      <td>16.0</td>\n      <td>4.0</td>\n      <td>7.0</td>\n      <td>...</td>\n      <td>-</td>\n      <td>-</td>\n      <td>-</td>\n      <td>-</td>\n      <td>-</td>\n      <td>-</td>\n      <td>5.0</td>\n      <td>3.5</td>\n      <td>7.0</td>\n      <td>4.5</td>\n    </tr>\n    <tr>\n      <th>2</th>\n      <td>-3.0</td>\n      <td>3.0</td>\n      <td>0.0</td>\n      <td>0.0</td>\n      <td>2.0</td>\n      <td>-2.0</td>\n      <td>16.0</td>\n      <td>17.0</td>\n      <td>6.0</td>\n      <td>5.0</td>\n      <td>...</td>\n      <td>-</td>\n      <td>-</td>\n      <td>-</td>\n      <td>-</td>\n      <td>-</td>\n      <td>-</td>\n      <td>8.0</td>\n      <td>0.5</td>\n      <td>8.0</td>\n      <td>3.5</td>\n    </tr>\n    <tr>\n      <th>3</th>\n      <td>2.0</td>\n      <td>-1.0</td>\n      <td>-</td>\n      <td>-5.0</td>\n      <td>-</td>\n      <td>-5.0</td>\n      <td>13.0</td>\n      <td>18.0</td>\n      <td>3.0</td>\n      <td>9.0</td>\n      <td>...</td>\n      <td>-</td>\n      <td>-</td>\n      <td>-</td>\n      <td>-</td>\n      <td>-</td>\n      <td>-</td>\n      <td>6.0</td>\n      <td>6.5</td>\n      <td>0.0</td>\n      <td>0.0</td>\n    </tr>\n    <tr>\n      <th>4</th>\n      <td>-1.0</td>\n      <td>-</td>\n      <td>2.0</td>\n      <td>-2.0</td>\n      <td>2.0</td>\n      <td>1.0</td>\n      <td>18.0</td>\n      <td>-</td>\n      <td>4.0</td>\n      <td>-</td>\n      <td>...</td>\n      <td>1.0</td>\n      <td>-</td>\n      <td>-</td>\n      <td>-</td>\n      <td>-</td>\n      <td>-</td>\n      <td>3.0</td>\n      <td>3.5</td>\n      <td>6.0</td>\n      <td>3.5</td>\n    </tr>\n    <tr>\n      <th>5</th>\n      <td>0.0</td>\n      <td>1.0</td>\n      <td>2.0</td>\n      <td>-5.0</td>\n      <td>2.0</td>\n      <td>-2.0</td>\n      <td>16.0</td>\n      <td>-</td>\n      <td>6.0</td>\n      <td>8.0</td>\n      <td>...</td>\n      <td>-</td>\n      <td>-</td>\n      <td>-</td>\n      <td>-</td>\n      <td>-</td>\n      <td>-</td>\n      <td>8.0</td>\n      <td>3.5</td>\n      <td>0.0</td>\n      <td>0.0</td>\n    </tr>\n    <tr>\n      <th>6</th>\n      <td>-</td>\n      <td>-</td>\n      <td>-</td>\n      <td>-4.0</td>\n      <td>2.0</td>\n      <td>-</td>\n      <td>14.0</td>\n      <td>16.0</td>\n      <td>4.0</td>\n      <td>7.0</td>\n      <td>...</td>\n      <td>-</td>\n      <td>-</td>\n      <td>-</td>\n      <td>-</td>\n      <td>-</td>\n      <td>-</td>\n      <td>5.0</td>\n      <td>-</td>\n      <td>0.0</td>\n      <td>0.0</td>\n    </tr>\n    <tr>\n      <th>7</th>\n      <td>-</td>\n      <td>-</td>\n      <td>2.0</td>\n      <td>-5.0</td>\n      <td>2.0</td>\n      <td>-</td>\n      <td>16.0</td>\n      <td>-</td>\n      <td>6.0</td>\n      <td>-</td>\n      <td>...</td>\n      <td>-</td>\n      <td>-</td>\n      <td>-</td>\n      <td>-</td>\n      <td>-</td>\n      <td>-</td>\n      <td>-</td>\n      <td>-</td>\n      <td>0.0</td>\n      <td>0.0</td>\n    </tr>\n    <tr>\n      <th>8</th>\n      <td>-</td>\n      <td>-</td>\n      <td>-</td>\n      <td>-</td>\n      <td>-</td>\n      <td>-</td>\n      <td>-</td>\n      <td>-</td>\n      <td>-</td>\n      <td>-</td>\n      <td>...</td>\n      <td>-</td>\n      <td>-</td>\n      <td>-</td>\n      <td>-</td>\n      <td>-</td>\n      <td>-</td>\n      <td>-</td>\n      <td>-</td>\n      <td>-</td>\n      <td>-</td>\n    </tr>\n    <tr>\n      <th>9</th>\n      <td>-</td>\n      <td>-</td>\n      <td>-</td>\n      <td>-4.0</td>\n      <td>-</td>\n      <td>1.0</td>\n      <td>-</td>\n      <td>18.0</td>\n      <td>7.0</td>\n      <td>7.0</td>\n      <td>...</td>\n      <td>-</td>\n      <td>-</td>\n      <td>-</td>\n      <td>-</td>\n      <td>-</td>\n      <td>-</td>\n      <td>-</td>\n      <td>6.5</td>\n      <td>0.0</td>\n      <td>0.0</td>\n    </tr>\n  </tbody>\n</table>\n<p>10 rows × 50 columns</p>\n</div>"
     },
     "execution_count": 82,
     "metadata": {},
     "output_type": "execute_result"
    }
   ],
   "source": [
    "comp, diff = compare_monsters(result[\"values\"], orc_brute)\n",
    "comp"
   ],
   "metadata": {
    "collapsed": false
   }
  },
  {
   "cell_type": "code",
   "execution_count": 83,
   "outputs": [
    {
     "data": {
      "text/plain": "  str_diff dex_diff con_diff int_diff wis_diff cha_diff ac_diff hp_diff  \\\n0     -1.0     -1.0        -      1.0      1.0        -     1.0       -   \n1     -2.0      1.0        -      1.0      1.0     -2.0     2.0     1.0   \n2     -6.0      1.0     -3.0      1.0      1.0     -2.0     1.0     2.0   \n3     -1.0     -3.0        -     -4.0        -     -5.0    -2.0     3.0   \n4     -4.0        -     -1.0     -1.0      1.0      1.0     3.0       -   \n5     -3.0     -1.0     -1.0     -4.0      1.0     -2.0     1.0       -   \n6        -        -        -     -3.0      1.0        -    -1.0     1.0   \n7        -        -     -1.0     -4.0      1.0        -     1.0       -   \n8        -        -        -        -        -        -       -       -   \n9        -        -        -     -3.0        -      1.0       -     3.0   \n\n  perception_diff fortitude_diff  ... spells_nr_lvl_4_diff  \\\n0             1.0            1.0  ...                    -   \n1            -1.0            1.0  ...                    -   \n2             1.0           -1.0  ...                    -   \n3            -2.0            3.0  ...                    -   \n4            -1.0              -  ...                  1.0   \n5             1.0            2.0  ...                    -   \n6            -1.0            1.0  ...                    -   \n7             1.0              -  ...                    -   \n8               -              -  ...                    -   \n9             2.0            1.0  ...                    -   \n\n  spells_nr_lvl_5_diff spells_nr_lvl_6_diff spells_nr_lvl_7_diff  \\\n0                    -                    -                    -   \n1                    -                    -                    -   \n2                    -                    -                    -   \n3                    -                    -                    -   \n4                    -                    -                    -   \n5                    -                    -                    -   \n6                    -                    -                    -   \n7                    -                    -                    -   \n8                    -                    -                    -   \n9                    -                    -                    -   \n\n  spells_nr_lvl_8_diff spells_nr_lvl_9_diff melee_max_bonus_diff  \\\n0                    -                    -                 -1.0   \n1                    -                    -                 -2.0   \n2                    -                    -                  1.0   \n3                    -                    -                 -1.0   \n4                    -                    -                 -4.0   \n5                    -                    -                  1.0   \n6                    -                    -                 -2.0   \n7                    -                    -                    -   \n8                    -                    -                    -   \n9                    -                    -                    -   \n\n  avg_melee_dmg_diff ranged_max_bonus_diff avg_ranged_dmg_diff  \n0               -1.0                  -4.0                -6.5  \n1               -2.0                   3.0                -2.0  \n2               -5.0                   4.0                -3.0  \n3                1.0                  -4.0                -6.5  \n4               -2.0                   2.0                -3.0  \n5               -2.0                  -4.0                -6.5  \n6                  -                  -4.0                -6.5  \n7                  -                  -4.0                -6.5  \n8                  -                     -                   -  \n9                1.0                  -4.0                -6.5  \n\n[10 rows x 50 columns]",
      "text/html": "<div>\n<style scoped>\n    .dataframe tbody tr th:only-of-type {\n        vertical-align: middle;\n    }\n\n    .dataframe tbody tr th {\n        vertical-align: top;\n    }\n\n    .dataframe thead th {\n        text-align: right;\n    }\n</style>\n<table border=\"1\" class=\"dataframe\">\n  <thead>\n    <tr style=\"text-align: right;\">\n      <th></th>\n      <th>str_diff</th>\n      <th>dex_diff</th>\n      <th>con_diff</th>\n      <th>int_diff</th>\n      <th>wis_diff</th>\n      <th>cha_diff</th>\n      <th>ac_diff</th>\n      <th>hp_diff</th>\n      <th>perception_diff</th>\n      <th>fortitude_diff</th>\n      <th>...</th>\n      <th>spells_nr_lvl_4_diff</th>\n      <th>spells_nr_lvl_5_diff</th>\n      <th>spells_nr_lvl_6_diff</th>\n      <th>spells_nr_lvl_7_diff</th>\n      <th>spells_nr_lvl_8_diff</th>\n      <th>spells_nr_lvl_9_diff</th>\n      <th>melee_max_bonus_diff</th>\n      <th>avg_melee_dmg_diff</th>\n      <th>ranged_max_bonus_diff</th>\n      <th>avg_ranged_dmg_diff</th>\n    </tr>\n  </thead>\n  <tbody>\n    <tr>\n      <th>0</th>\n      <td>-1.0</td>\n      <td>-1.0</td>\n      <td>-</td>\n      <td>1.0</td>\n      <td>1.0</td>\n      <td>-</td>\n      <td>1.0</td>\n      <td>-</td>\n      <td>1.0</td>\n      <td>1.0</td>\n      <td>...</td>\n      <td>-</td>\n      <td>-</td>\n      <td>-</td>\n      <td>-</td>\n      <td>-</td>\n      <td>-</td>\n      <td>-1.0</td>\n      <td>-1.0</td>\n      <td>-4.0</td>\n      <td>-6.5</td>\n    </tr>\n    <tr>\n      <th>1</th>\n      <td>-2.0</td>\n      <td>1.0</td>\n      <td>-</td>\n      <td>1.0</td>\n      <td>1.0</td>\n      <td>-2.0</td>\n      <td>2.0</td>\n      <td>1.0</td>\n      <td>-1.0</td>\n      <td>1.0</td>\n      <td>...</td>\n      <td>-</td>\n      <td>-</td>\n      <td>-</td>\n      <td>-</td>\n      <td>-</td>\n      <td>-</td>\n      <td>-2.0</td>\n      <td>-2.0</td>\n      <td>3.0</td>\n      <td>-2.0</td>\n    </tr>\n    <tr>\n      <th>2</th>\n      <td>-6.0</td>\n      <td>1.0</td>\n      <td>-3.0</td>\n      <td>1.0</td>\n      <td>1.0</td>\n      <td>-2.0</td>\n      <td>1.0</td>\n      <td>2.0</td>\n      <td>1.0</td>\n      <td>-1.0</td>\n      <td>...</td>\n      <td>-</td>\n      <td>-</td>\n      <td>-</td>\n      <td>-</td>\n      <td>-</td>\n      <td>-</td>\n      <td>1.0</td>\n      <td>-5.0</td>\n      <td>4.0</td>\n      <td>-3.0</td>\n    </tr>\n    <tr>\n      <th>3</th>\n      <td>-1.0</td>\n      <td>-3.0</td>\n      <td>-</td>\n      <td>-4.0</td>\n      <td>-</td>\n      <td>-5.0</td>\n      <td>-2.0</td>\n      <td>3.0</td>\n      <td>-2.0</td>\n      <td>3.0</td>\n      <td>...</td>\n      <td>-</td>\n      <td>-</td>\n      <td>-</td>\n      <td>-</td>\n      <td>-</td>\n      <td>-</td>\n      <td>-1.0</td>\n      <td>1.0</td>\n      <td>-4.0</td>\n      <td>-6.5</td>\n    </tr>\n    <tr>\n      <th>4</th>\n      <td>-4.0</td>\n      <td>-</td>\n      <td>-1.0</td>\n      <td>-1.0</td>\n      <td>1.0</td>\n      <td>1.0</td>\n      <td>3.0</td>\n      <td>-</td>\n      <td>-1.0</td>\n      <td>-</td>\n      <td>...</td>\n      <td>1.0</td>\n      <td>-</td>\n      <td>-</td>\n      <td>-</td>\n      <td>-</td>\n      <td>-</td>\n      <td>-4.0</td>\n      <td>-2.0</td>\n      <td>2.0</td>\n      <td>-3.0</td>\n    </tr>\n    <tr>\n      <th>5</th>\n      <td>-3.0</td>\n      <td>-1.0</td>\n      <td>-1.0</td>\n      <td>-4.0</td>\n      <td>1.0</td>\n      <td>-2.0</td>\n      <td>1.0</td>\n      <td>-</td>\n      <td>1.0</td>\n      <td>2.0</td>\n      <td>...</td>\n      <td>-</td>\n      <td>-</td>\n      <td>-</td>\n      <td>-</td>\n      <td>-</td>\n      <td>-</td>\n      <td>1.0</td>\n      <td>-2.0</td>\n      <td>-4.0</td>\n      <td>-6.5</td>\n    </tr>\n    <tr>\n      <th>6</th>\n      <td>-</td>\n      <td>-</td>\n      <td>-</td>\n      <td>-3.0</td>\n      <td>1.0</td>\n      <td>-</td>\n      <td>-1.0</td>\n      <td>1.0</td>\n      <td>-1.0</td>\n      <td>1.0</td>\n      <td>...</td>\n      <td>-</td>\n      <td>-</td>\n      <td>-</td>\n      <td>-</td>\n      <td>-</td>\n      <td>-</td>\n      <td>-2.0</td>\n      <td>-</td>\n      <td>-4.0</td>\n      <td>-6.5</td>\n    </tr>\n    <tr>\n      <th>7</th>\n      <td>-</td>\n      <td>-</td>\n      <td>-1.0</td>\n      <td>-4.0</td>\n      <td>1.0</td>\n      <td>-</td>\n      <td>1.0</td>\n      <td>-</td>\n      <td>1.0</td>\n      <td>-</td>\n      <td>...</td>\n      <td>-</td>\n      <td>-</td>\n      <td>-</td>\n      <td>-</td>\n      <td>-</td>\n      <td>-</td>\n      <td>-</td>\n      <td>-</td>\n      <td>-4.0</td>\n      <td>-6.5</td>\n    </tr>\n    <tr>\n      <th>8</th>\n      <td>-</td>\n      <td>-</td>\n      <td>-</td>\n      <td>-</td>\n      <td>-</td>\n      <td>-</td>\n      <td>-</td>\n      <td>-</td>\n      <td>-</td>\n      <td>-</td>\n      <td>...</td>\n      <td>-</td>\n      <td>-</td>\n      <td>-</td>\n      <td>-</td>\n      <td>-</td>\n      <td>-</td>\n      <td>-</td>\n      <td>-</td>\n      <td>-</td>\n      <td>-</td>\n    </tr>\n    <tr>\n      <th>9</th>\n      <td>-</td>\n      <td>-</td>\n      <td>-</td>\n      <td>-3.0</td>\n      <td>-</td>\n      <td>1.0</td>\n      <td>-</td>\n      <td>3.0</td>\n      <td>2.0</td>\n      <td>1.0</td>\n      <td>...</td>\n      <td>-</td>\n      <td>-</td>\n      <td>-</td>\n      <td>-</td>\n      <td>-</td>\n      <td>-</td>\n      <td>-</td>\n      <td>1.0</td>\n      <td>-4.0</td>\n      <td>-6.5</td>\n    </tr>\n  </tbody>\n</table>\n<p>10 rows × 50 columns</p>\n</div>"
     },
     "execution_count": 83,
     "metadata": {},
     "output_type": "execute_result"
    }
   ],
   "source": [
    "diff"
   ],
   "metadata": {
    "collapsed": false
   }
  },
  {
   "cell_type": "code",
   "execution_count": 84,
   "outputs": [
    {
     "name": "stderr",
     "output_type": "stream",
     "text": [
      "100%|██████████| 1/1 [00:00<00:00,  1.08it/s]\n"
     ]
    }
   ],
   "source": [
    "result = generate_counterfactuals(\n",
    "    monster_stats=orc_warchief,\n",
    "    model=model,\n",
    "    new_level=1,\n",
    "    df=dataset,\n",
    "    total_cf=10,\n",
    "    ordered_characteristics=ORDERED_CHARACTERISTICS_50,\n",
    ")"
   ],
   "metadata": {
    "collapsed": false
   }
  },
  {
   "cell_type": "code",
   "execution_count": 85,
   "outputs": [
    {
     "name": "stdout",
     "output_type": "stream",
     "text": [
      "[1.0009485]\n",
      "[0.9999332]\n",
      "[1.00006945]\n",
      "[0.99744334]\n",
      "[1.00004102]\n",
      "[1.00030725]\n",
      "[1.00028486]\n",
      "[1.00035391]\n",
      "[0.99978716]\n",
      "[1.00030734]\n"
     ]
    }
   ],
   "source": [
    "test_cfs(result[\"values\"], 1)"
   ],
   "metadata": {
    "collapsed": false
   }
  },
  {
   "cell_type": "markdown",
   "source": [
    "##### Compare to original data"
   ],
   "metadata": {
    "collapsed": false
   }
  },
  {
   "cell_type": "code",
   "execution_count": 86,
   "outputs": [
    {
     "data": {
      "text/plain": "   str  dex  con  int  wis  cha    ac    hp  perception fortitude  ...  \\\n0  0.0  3.0  2.0  1.0  2.0  1.0  16.0  21.0         5.0         -  ...   \n1  3.0  3.0  2.0  0.0  2.0 -1.0  18.0  20.0         7.0       5.0  ...   \n2  2.0    -  2.0  2.0  2.0    -  15.0  22.0         7.0         -  ...   \n3  2.0    -  2.0  2.0  2.0    -  15.0  22.0         7.0         -  ...   \n4    -  3.0  4.0 -5.0    -    -  16.0  25.0         6.0       9.0  ...   \n5  3.0  3.0  2.0    -  0.0    -  17.0  18.0         5.0         -  ...   \n6  2.0    -  2.0  2.0  2.0    -  15.0  22.0         7.0         -  ...   \n7    -  1.0  2.0  0.0  2.0  0.0     -  20.0         7.0         -  ...   \n8    -    -  3.0    -    -  0.0  16.0  21.0         6.0       8.0  ...   \n9    -    -  3.0    -    -  0.0  18.0  23.0         6.0       8.0  ...   \n\n  spells_nr_lvl_4 spells_nr_lvl_5 spells_nr_lvl_6 spells_nr_lvl_7  \\\n0               -               -               -               -   \n1               -               -               -               -   \n2               -               -               -               -   \n3               -               -               -               -   \n4               -               -               -               -   \n5               -               -               -               -   \n6               -               -               -               -   \n7               -               -               -               -   \n8               -               -               -               -   \n9               -               -               -               -   \n\n  spells_nr_lvl_8 spells_nr_lvl_9 melee_max_bonus avg_melee_dmg  \\\n0               -               -             8.0           5.5   \n1               -               -             8.0           7.5   \n2               -               -             7.0             -   \n3               -               -             7.0             -   \n4               -               -             7.0             -   \n5               -               -             8.0           7.5   \n6               -               -             7.0             -   \n7               -               -             9.0           8.5   \n8               -               -             9.0             -   \n9               -               -             7.0             -   \n\n  ranged_max_bonus avg_ranged_dmg  \n0                -            4.5  \n1                -            3.5  \n2              0.0            0.0  \n3              0.0            0.0  \n4              0.0            0.0  \n5                -            3.5  \n6              0.0            0.0  \n7              6.0              -  \n8              7.0              -  \n9              5.0              -  \n\n[10 rows x 50 columns]",
      "text/html": "<div>\n<style scoped>\n    .dataframe tbody tr th:only-of-type {\n        vertical-align: middle;\n    }\n\n    .dataframe tbody tr th {\n        vertical-align: top;\n    }\n\n    .dataframe thead th {\n        text-align: right;\n    }\n</style>\n<table border=\"1\" class=\"dataframe\">\n  <thead>\n    <tr style=\"text-align: right;\">\n      <th></th>\n      <th>str</th>\n      <th>dex</th>\n      <th>con</th>\n      <th>int</th>\n      <th>wis</th>\n      <th>cha</th>\n      <th>ac</th>\n      <th>hp</th>\n      <th>perception</th>\n      <th>fortitude</th>\n      <th>...</th>\n      <th>spells_nr_lvl_4</th>\n      <th>spells_nr_lvl_5</th>\n      <th>spells_nr_lvl_6</th>\n      <th>spells_nr_lvl_7</th>\n      <th>spells_nr_lvl_8</th>\n      <th>spells_nr_lvl_9</th>\n      <th>melee_max_bonus</th>\n      <th>avg_melee_dmg</th>\n      <th>ranged_max_bonus</th>\n      <th>avg_ranged_dmg</th>\n    </tr>\n  </thead>\n  <tbody>\n    <tr>\n      <th>0</th>\n      <td>0.0</td>\n      <td>3.0</td>\n      <td>2.0</td>\n      <td>1.0</td>\n      <td>2.0</td>\n      <td>1.0</td>\n      <td>16.0</td>\n      <td>21.0</td>\n      <td>5.0</td>\n      <td>-</td>\n      <td>...</td>\n      <td>-</td>\n      <td>-</td>\n      <td>-</td>\n      <td>-</td>\n      <td>-</td>\n      <td>-</td>\n      <td>8.0</td>\n      <td>5.5</td>\n      <td>-</td>\n      <td>4.5</td>\n    </tr>\n    <tr>\n      <th>1</th>\n      <td>3.0</td>\n      <td>3.0</td>\n      <td>2.0</td>\n      <td>0.0</td>\n      <td>2.0</td>\n      <td>-1.0</td>\n      <td>18.0</td>\n      <td>20.0</td>\n      <td>7.0</td>\n      <td>5.0</td>\n      <td>...</td>\n      <td>-</td>\n      <td>-</td>\n      <td>-</td>\n      <td>-</td>\n      <td>-</td>\n      <td>-</td>\n      <td>8.0</td>\n      <td>7.5</td>\n      <td>-</td>\n      <td>3.5</td>\n    </tr>\n    <tr>\n      <th>2</th>\n      <td>2.0</td>\n      <td>-</td>\n      <td>2.0</td>\n      <td>2.0</td>\n      <td>2.0</td>\n      <td>-</td>\n      <td>15.0</td>\n      <td>22.0</td>\n      <td>7.0</td>\n      <td>-</td>\n      <td>...</td>\n      <td>-</td>\n      <td>-</td>\n      <td>-</td>\n      <td>-</td>\n      <td>-</td>\n      <td>-</td>\n      <td>7.0</td>\n      <td>-</td>\n      <td>0.0</td>\n      <td>0.0</td>\n    </tr>\n    <tr>\n      <th>3</th>\n      <td>2.0</td>\n      <td>-</td>\n      <td>2.0</td>\n      <td>2.0</td>\n      <td>2.0</td>\n      <td>-</td>\n      <td>15.0</td>\n      <td>22.0</td>\n      <td>7.0</td>\n      <td>-</td>\n      <td>...</td>\n      <td>-</td>\n      <td>-</td>\n      <td>-</td>\n      <td>-</td>\n      <td>-</td>\n      <td>-</td>\n      <td>7.0</td>\n      <td>-</td>\n      <td>0.0</td>\n      <td>0.0</td>\n    </tr>\n    <tr>\n      <th>4</th>\n      <td>-</td>\n      <td>3.0</td>\n      <td>4.0</td>\n      <td>-5.0</td>\n      <td>-</td>\n      <td>-</td>\n      <td>16.0</td>\n      <td>25.0</td>\n      <td>6.0</td>\n      <td>9.0</td>\n      <td>...</td>\n      <td>-</td>\n      <td>-</td>\n      <td>-</td>\n      <td>-</td>\n      <td>-</td>\n      <td>-</td>\n      <td>7.0</td>\n      <td>-</td>\n      <td>0.0</td>\n      <td>0.0</td>\n    </tr>\n    <tr>\n      <th>5</th>\n      <td>3.0</td>\n      <td>3.0</td>\n      <td>2.0</td>\n      <td>-</td>\n      <td>0.0</td>\n      <td>-</td>\n      <td>17.0</td>\n      <td>18.0</td>\n      <td>5.0</td>\n      <td>-</td>\n      <td>...</td>\n      <td>-</td>\n      <td>-</td>\n      <td>-</td>\n      <td>-</td>\n      <td>-</td>\n      <td>-</td>\n      <td>8.0</td>\n      <td>7.5</td>\n      <td>-</td>\n      <td>3.5</td>\n    </tr>\n    <tr>\n      <th>6</th>\n      <td>2.0</td>\n      <td>-</td>\n      <td>2.0</td>\n      <td>2.0</td>\n      <td>2.0</td>\n      <td>-</td>\n      <td>15.0</td>\n      <td>22.0</td>\n      <td>7.0</td>\n      <td>-</td>\n      <td>...</td>\n      <td>-</td>\n      <td>-</td>\n      <td>-</td>\n      <td>-</td>\n      <td>-</td>\n      <td>-</td>\n      <td>7.0</td>\n      <td>-</td>\n      <td>0.0</td>\n      <td>0.0</td>\n    </tr>\n    <tr>\n      <th>7</th>\n      <td>-</td>\n      <td>1.0</td>\n      <td>2.0</td>\n      <td>0.0</td>\n      <td>2.0</td>\n      <td>0.0</td>\n      <td>-</td>\n      <td>20.0</td>\n      <td>7.0</td>\n      <td>-</td>\n      <td>...</td>\n      <td>-</td>\n      <td>-</td>\n      <td>-</td>\n      <td>-</td>\n      <td>-</td>\n      <td>-</td>\n      <td>9.0</td>\n      <td>8.5</td>\n      <td>6.0</td>\n      <td>-</td>\n    </tr>\n    <tr>\n      <th>8</th>\n      <td>-</td>\n      <td>-</td>\n      <td>3.0</td>\n      <td>-</td>\n      <td>-</td>\n      <td>0.0</td>\n      <td>16.0</td>\n      <td>21.0</td>\n      <td>6.0</td>\n      <td>8.0</td>\n      <td>...</td>\n      <td>-</td>\n      <td>-</td>\n      <td>-</td>\n      <td>-</td>\n      <td>-</td>\n      <td>-</td>\n      <td>9.0</td>\n      <td>-</td>\n      <td>7.0</td>\n      <td>-</td>\n    </tr>\n    <tr>\n      <th>9</th>\n      <td>-</td>\n      <td>-</td>\n      <td>3.0</td>\n      <td>-</td>\n      <td>-</td>\n      <td>0.0</td>\n      <td>18.0</td>\n      <td>23.0</td>\n      <td>6.0</td>\n      <td>8.0</td>\n      <td>...</td>\n      <td>-</td>\n      <td>-</td>\n      <td>-</td>\n      <td>-</td>\n      <td>-</td>\n      <td>-</td>\n      <td>7.0</td>\n      <td>-</td>\n      <td>5.0</td>\n      <td>-</td>\n    </tr>\n  </tbody>\n</table>\n<p>10 rows × 50 columns</p>\n</div>"
     },
     "execution_count": 86,
     "metadata": {},
     "output_type": "execute_result"
    }
   ],
   "source": [
    "comp, diff = compare_monsters(result[\"values\"], orc_warchief)\n",
    "comp"
   ],
   "metadata": {
    "collapsed": false
   }
  },
  {
   "cell_type": "code",
   "execution_count": 87,
   "outputs": [
    {
     "data": {
      "text/plain": "  str_diff dex_diff  con_diff int_diff wis_diff cha_diff ac_diff  hp_diff  \\\n0     -4.0      1.0       1.0      2.0      1.0     -1.0    -3.0    -11.0   \n1     -1.0      1.0       1.0      1.0      1.0     -3.0    -1.0    -12.0   \n2     -2.0        -       1.0      3.0      1.0        -    -4.0    -10.0   \n3     -2.0        -       1.0      3.0      1.0        -    -4.0    -10.0   \n4        -      1.0       3.0     -4.0        -        -    -3.0     -7.0   \n5     -1.0      1.0       1.0        -     -1.0        -    -2.0    -14.0   \n6     -2.0        -       1.0      3.0      1.0        -    -4.0    -10.0   \n7        -     -1.0       1.0      1.0      1.0     -2.0       -    -12.0   \n8        -        -       2.0        -        -     -2.0    -3.0    -11.0   \n9        -        -       2.0        -        -     -2.0    -1.0     -9.0   \n\n   perception_diff fortitude_diff  ... spells_nr_lvl_4_diff  \\\n0             -6.0              -  ...                    -   \n1             -4.0           -2.0  ...                    -   \n2             -4.0              -  ...                    -   \n3             -4.0              -  ...                    -   \n4             -5.0            2.0  ...                    -   \n5             -6.0              -  ...                    -   \n6             -4.0              -  ...                    -   \n7             -4.0              -  ...                    -   \n8             -5.0            1.0  ...                    -   \n9             -5.0            1.0  ...                    -   \n\n  spells_nr_lvl_5_diff spells_nr_lvl_6_diff spells_nr_lvl_7_diff  \\\n0                    -                    -                    -   \n1                    -                    -                    -   \n2                    -                    -                    -   \n3                    -                    -                    -   \n4                    -                    -                    -   \n5                    -                    -                    -   \n6                    -                    -                    -   \n7                    -                    -                    -   \n8                    -                    -                    -   \n9                    -                    -                    -   \n\n  spells_nr_lvl_8_diff spells_nr_lvl_9_diff melee_max_bonus_diff  \\\n0                    -                    -                 -2.0   \n1                    -                    -                 -2.0   \n2                    -                    -                 -3.0   \n3                    -                    -                 -3.0   \n4                    -                    -                 -3.0   \n5                    -                    -                 -2.0   \n6                    -                    -                 -3.0   \n7                    -                    -                 -1.0   \n8                    -                    -                 -1.0   \n9                    -                    -                 -3.0   \n\n  avg_melee_dmg_diff ranged_max_bonus_diff avg_ranged_dmg_diff  \n0               -1.0                     -                -3.0  \n1                1.0                     -                -4.0  \n2                  -                  -8.0                -7.5  \n3                  -                  -8.0                -7.5  \n4                  -                  -8.0                -7.5  \n5                1.0                     -                -4.0  \n6                  -                  -8.0                -7.5  \n7                2.0                  -2.0                   -  \n8                  -                  -1.0                   -  \n9                  -                  -3.0                   -  \n\n[10 rows x 50 columns]",
      "text/html": "<div>\n<style scoped>\n    .dataframe tbody tr th:only-of-type {\n        vertical-align: middle;\n    }\n\n    .dataframe tbody tr th {\n        vertical-align: top;\n    }\n\n    .dataframe thead th {\n        text-align: right;\n    }\n</style>\n<table border=\"1\" class=\"dataframe\">\n  <thead>\n    <tr style=\"text-align: right;\">\n      <th></th>\n      <th>str_diff</th>\n      <th>dex_diff</th>\n      <th>con_diff</th>\n      <th>int_diff</th>\n      <th>wis_diff</th>\n      <th>cha_diff</th>\n      <th>ac_diff</th>\n      <th>hp_diff</th>\n      <th>perception_diff</th>\n      <th>fortitude_diff</th>\n      <th>...</th>\n      <th>spells_nr_lvl_4_diff</th>\n      <th>spells_nr_lvl_5_diff</th>\n      <th>spells_nr_lvl_6_diff</th>\n      <th>spells_nr_lvl_7_diff</th>\n      <th>spells_nr_lvl_8_diff</th>\n      <th>spells_nr_lvl_9_diff</th>\n      <th>melee_max_bonus_diff</th>\n      <th>avg_melee_dmg_diff</th>\n      <th>ranged_max_bonus_diff</th>\n      <th>avg_ranged_dmg_diff</th>\n    </tr>\n  </thead>\n  <tbody>\n    <tr>\n      <th>0</th>\n      <td>-4.0</td>\n      <td>1.0</td>\n      <td>1.0</td>\n      <td>2.0</td>\n      <td>1.0</td>\n      <td>-1.0</td>\n      <td>-3.0</td>\n      <td>-11.0</td>\n      <td>-6.0</td>\n      <td>-</td>\n      <td>...</td>\n      <td>-</td>\n      <td>-</td>\n      <td>-</td>\n      <td>-</td>\n      <td>-</td>\n      <td>-</td>\n      <td>-2.0</td>\n      <td>-1.0</td>\n      <td>-</td>\n      <td>-3.0</td>\n    </tr>\n    <tr>\n      <th>1</th>\n      <td>-1.0</td>\n      <td>1.0</td>\n      <td>1.0</td>\n      <td>1.0</td>\n      <td>1.0</td>\n      <td>-3.0</td>\n      <td>-1.0</td>\n      <td>-12.0</td>\n      <td>-4.0</td>\n      <td>-2.0</td>\n      <td>...</td>\n      <td>-</td>\n      <td>-</td>\n      <td>-</td>\n      <td>-</td>\n      <td>-</td>\n      <td>-</td>\n      <td>-2.0</td>\n      <td>1.0</td>\n      <td>-</td>\n      <td>-4.0</td>\n    </tr>\n    <tr>\n      <th>2</th>\n      <td>-2.0</td>\n      <td>-</td>\n      <td>1.0</td>\n      <td>3.0</td>\n      <td>1.0</td>\n      <td>-</td>\n      <td>-4.0</td>\n      <td>-10.0</td>\n      <td>-4.0</td>\n      <td>-</td>\n      <td>...</td>\n      <td>-</td>\n      <td>-</td>\n      <td>-</td>\n      <td>-</td>\n      <td>-</td>\n      <td>-</td>\n      <td>-3.0</td>\n      <td>-</td>\n      <td>-8.0</td>\n      <td>-7.5</td>\n    </tr>\n    <tr>\n      <th>3</th>\n      <td>-2.0</td>\n      <td>-</td>\n      <td>1.0</td>\n      <td>3.0</td>\n      <td>1.0</td>\n      <td>-</td>\n      <td>-4.0</td>\n      <td>-10.0</td>\n      <td>-4.0</td>\n      <td>-</td>\n      <td>...</td>\n      <td>-</td>\n      <td>-</td>\n      <td>-</td>\n      <td>-</td>\n      <td>-</td>\n      <td>-</td>\n      <td>-3.0</td>\n      <td>-</td>\n      <td>-8.0</td>\n      <td>-7.5</td>\n    </tr>\n    <tr>\n      <th>4</th>\n      <td>-</td>\n      <td>1.0</td>\n      <td>3.0</td>\n      <td>-4.0</td>\n      <td>-</td>\n      <td>-</td>\n      <td>-3.0</td>\n      <td>-7.0</td>\n      <td>-5.0</td>\n      <td>2.0</td>\n      <td>...</td>\n      <td>-</td>\n      <td>-</td>\n      <td>-</td>\n      <td>-</td>\n      <td>-</td>\n      <td>-</td>\n      <td>-3.0</td>\n      <td>-</td>\n      <td>-8.0</td>\n      <td>-7.5</td>\n    </tr>\n    <tr>\n      <th>5</th>\n      <td>-1.0</td>\n      <td>1.0</td>\n      <td>1.0</td>\n      <td>-</td>\n      <td>-1.0</td>\n      <td>-</td>\n      <td>-2.0</td>\n      <td>-14.0</td>\n      <td>-6.0</td>\n      <td>-</td>\n      <td>...</td>\n      <td>-</td>\n      <td>-</td>\n      <td>-</td>\n      <td>-</td>\n      <td>-</td>\n      <td>-</td>\n      <td>-2.0</td>\n      <td>1.0</td>\n      <td>-</td>\n      <td>-4.0</td>\n    </tr>\n    <tr>\n      <th>6</th>\n      <td>-2.0</td>\n      <td>-</td>\n      <td>1.0</td>\n      <td>3.0</td>\n      <td>1.0</td>\n      <td>-</td>\n      <td>-4.0</td>\n      <td>-10.0</td>\n      <td>-4.0</td>\n      <td>-</td>\n      <td>...</td>\n      <td>-</td>\n      <td>-</td>\n      <td>-</td>\n      <td>-</td>\n      <td>-</td>\n      <td>-</td>\n      <td>-3.0</td>\n      <td>-</td>\n      <td>-8.0</td>\n      <td>-7.5</td>\n    </tr>\n    <tr>\n      <th>7</th>\n      <td>-</td>\n      <td>-1.0</td>\n      <td>1.0</td>\n      <td>1.0</td>\n      <td>1.0</td>\n      <td>-2.0</td>\n      <td>-</td>\n      <td>-12.0</td>\n      <td>-4.0</td>\n      <td>-</td>\n      <td>...</td>\n      <td>-</td>\n      <td>-</td>\n      <td>-</td>\n      <td>-</td>\n      <td>-</td>\n      <td>-</td>\n      <td>-1.0</td>\n      <td>2.0</td>\n      <td>-2.0</td>\n      <td>-</td>\n    </tr>\n    <tr>\n      <th>8</th>\n      <td>-</td>\n      <td>-</td>\n      <td>2.0</td>\n      <td>-</td>\n      <td>-</td>\n      <td>-2.0</td>\n      <td>-3.0</td>\n      <td>-11.0</td>\n      <td>-5.0</td>\n      <td>1.0</td>\n      <td>...</td>\n      <td>-</td>\n      <td>-</td>\n      <td>-</td>\n      <td>-</td>\n      <td>-</td>\n      <td>-</td>\n      <td>-1.0</td>\n      <td>-</td>\n      <td>-1.0</td>\n      <td>-</td>\n    </tr>\n    <tr>\n      <th>9</th>\n      <td>-</td>\n      <td>-</td>\n      <td>2.0</td>\n      <td>-</td>\n      <td>-</td>\n      <td>-2.0</td>\n      <td>-1.0</td>\n      <td>-9.0</td>\n      <td>-5.0</td>\n      <td>1.0</td>\n      <td>...</td>\n      <td>-</td>\n      <td>-</td>\n      <td>-</td>\n      <td>-</td>\n      <td>-</td>\n      <td>-</td>\n      <td>-3.0</td>\n      <td>-</td>\n      <td>-3.0</td>\n      <td>-</td>\n    </tr>\n  </tbody>\n</table>\n<p>10 rows × 50 columns</p>\n</div>"
     },
     "execution_count": 87,
     "metadata": {},
     "output_type": "execute_result"
    }
   ],
   "source": [
    "diff"
   ],
   "metadata": {
    "collapsed": false
   }
  },
  {
   "cell_type": "markdown",
   "source": [
    "##### Compare to *Orc warrior*"
   ],
   "metadata": {
    "collapsed": false
   }
  },
  {
   "cell_type": "code",
   "execution_count": 88,
   "outputs": [
    {
     "data": {
      "text/plain": "   str  dex  con  int  wis  cha    ac    hp perception fortitude  ...  \\\n0  0.0  3.0  2.0  1.0  2.0  1.0  16.0  21.0        5.0       7.0  ...   \n1  3.0  3.0  2.0  0.0  2.0 -1.0     -  20.0        7.0       5.0  ...   \n2  2.0    -  2.0  2.0  2.0  2.0  15.0  22.0        7.0       7.0  ...   \n3  2.0    -  2.0  2.0  2.0  2.0  15.0  22.0        7.0       7.0  ...   \n4    -  3.0  4.0 -5.0    -  2.0  16.0  25.0          -       9.0  ...   \n5  3.0  3.0  2.0    -  0.0  2.0  17.0  18.0        5.0       7.0  ...   \n6  2.0    -  2.0  2.0  2.0  2.0  15.0  22.0        7.0       7.0  ...   \n7    -  1.0  2.0  0.0  2.0    -  19.0  20.0        7.0       7.0  ...   \n8    -    -    -    -    -    -  16.0  21.0          -         -  ...   \n9    -    -    -    -    -    -     -     -          -         -  ...   \n\n  spells_nr_lvl_4 spells_nr_lvl_5 spells_nr_lvl_6 spells_nr_lvl_7  \\\n0               -               -               -               -   \n1               -               -               -               -   \n2               -               -               -               -   \n3               -               -               -               -   \n4               -               -               -               -   \n5               -               -               -               -   \n6               -               -               -               -   \n7               -               -               -               -   \n8               -               -               -               -   \n9               -               -               -               -   \n\n  spells_nr_lvl_8 spells_nr_lvl_9 melee_max_bonus avg_melee_dmg  \\\n0               -               -             8.0           5.5   \n1               -               -             8.0           7.5   \n2               -               -               -             -   \n3               -               -               -             -   \n4               -               -               -             -   \n5               -               -             8.0           7.5   \n6               -               -               -             -   \n7               -               -             9.0           8.5   \n8               -               -             9.0             -   \n9               -               -               -             -   \n\n  ranged_max_bonus avg_ranged_dmg  \n0              8.0            4.5  \n1              8.0            3.5  \n2              0.0            0.0  \n3              0.0            0.0  \n4              0.0            0.0  \n5              8.0            3.5  \n6              0.0            0.0  \n7              6.0              -  \n8              7.0              -  \n9                -              -  \n\n[10 rows x 50 columns]",
      "text/html": "<div>\n<style scoped>\n    .dataframe tbody tr th:only-of-type {\n        vertical-align: middle;\n    }\n\n    .dataframe tbody tr th {\n        vertical-align: top;\n    }\n\n    .dataframe thead th {\n        text-align: right;\n    }\n</style>\n<table border=\"1\" class=\"dataframe\">\n  <thead>\n    <tr style=\"text-align: right;\">\n      <th></th>\n      <th>str</th>\n      <th>dex</th>\n      <th>con</th>\n      <th>int</th>\n      <th>wis</th>\n      <th>cha</th>\n      <th>ac</th>\n      <th>hp</th>\n      <th>perception</th>\n      <th>fortitude</th>\n      <th>...</th>\n      <th>spells_nr_lvl_4</th>\n      <th>spells_nr_lvl_5</th>\n      <th>spells_nr_lvl_6</th>\n      <th>spells_nr_lvl_7</th>\n      <th>spells_nr_lvl_8</th>\n      <th>spells_nr_lvl_9</th>\n      <th>melee_max_bonus</th>\n      <th>avg_melee_dmg</th>\n      <th>ranged_max_bonus</th>\n      <th>avg_ranged_dmg</th>\n    </tr>\n  </thead>\n  <tbody>\n    <tr>\n      <th>0</th>\n      <td>0.0</td>\n      <td>3.0</td>\n      <td>2.0</td>\n      <td>1.0</td>\n      <td>2.0</td>\n      <td>1.0</td>\n      <td>16.0</td>\n      <td>21.0</td>\n      <td>5.0</td>\n      <td>7.0</td>\n      <td>...</td>\n      <td>-</td>\n      <td>-</td>\n      <td>-</td>\n      <td>-</td>\n      <td>-</td>\n      <td>-</td>\n      <td>8.0</td>\n      <td>5.5</td>\n      <td>8.0</td>\n      <td>4.5</td>\n    </tr>\n    <tr>\n      <th>1</th>\n      <td>3.0</td>\n      <td>3.0</td>\n      <td>2.0</td>\n      <td>0.0</td>\n      <td>2.0</td>\n      <td>-1.0</td>\n      <td>-</td>\n      <td>20.0</td>\n      <td>7.0</td>\n      <td>5.0</td>\n      <td>...</td>\n      <td>-</td>\n      <td>-</td>\n      <td>-</td>\n      <td>-</td>\n      <td>-</td>\n      <td>-</td>\n      <td>8.0</td>\n      <td>7.5</td>\n      <td>8.0</td>\n      <td>3.5</td>\n    </tr>\n    <tr>\n      <th>2</th>\n      <td>2.0</td>\n      <td>-</td>\n      <td>2.0</td>\n      <td>2.0</td>\n      <td>2.0</td>\n      <td>2.0</td>\n      <td>15.0</td>\n      <td>22.0</td>\n      <td>7.0</td>\n      <td>7.0</td>\n      <td>...</td>\n      <td>-</td>\n      <td>-</td>\n      <td>-</td>\n      <td>-</td>\n      <td>-</td>\n      <td>-</td>\n      <td>-</td>\n      <td>-</td>\n      <td>0.0</td>\n      <td>0.0</td>\n    </tr>\n    <tr>\n      <th>3</th>\n      <td>2.0</td>\n      <td>-</td>\n      <td>2.0</td>\n      <td>2.0</td>\n      <td>2.0</td>\n      <td>2.0</td>\n      <td>15.0</td>\n      <td>22.0</td>\n      <td>7.0</td>\n      <td>7.0</td>\n      <td>...</td>\n      <td>-</td>\n      <td>-</td>\n      <td>-</td>\n      <td>-</td>\n      <td>-</td>\n      <td>-</td>\n      <td>-</td>\n      <td>-</td>\n      <td>0.0</td>\n      <td>0.0</td>\n    </tr>\n    <tr>\n      <th>4</th>\n      <td>-</td>\n      <td>3.0</td>\n      <td>4.0</td>\n      <td>-5.0</td>\n      <td>-</td>\n      <td>2.0</td>\n      <td>16.0</td>\n      <td>25.0</td>\n      <td>-</td>\n      <td>9.0</td>\n      <td>...</td>\n      <td>-</td>\n      <td>-</td>\n      <td>-</td>\n      <td>-</td>\n      <td>-</td>\n      <td>-</td>\n      <td>-</td>\n      <td>-</td>\n      <td>0.0</td>\n      <td>0.0</td>\n    </tr>\n    <tr>\n      <th>5</th>\n      <td>3.0</td>\n      <td>3.0</td>\n      <td>2.0</td>\n      <td>-</td>\n      <td>0.0</td>\n      <td>2.0</td>\n      <td>17.0</td>\n      <td>18.0</td>\n      <td>5.0</td>\n      <td>7.0</td>\n      <td>...</td>\n      <td>-</td>\n      <td>-</td>\n      <td>-</td>\n      <td>-</td>\n      <td>-</td>\n      <td>-</td>\n      <td>8.0</td>\n      <td>7.5</td>\n      <td>8.0</td>\n      <td>3.5</td>\n    </tr>\n    <tr>\n      <th>6</th>\n      <td>2.0</td>\n      <td>-</td>\n      <td>2.0</td>\n      <td>2.0</td>\n      <td>2.0</td>\n      <td>2.0</td>\n      <td>15.0</td>\n      <td>22.0</td>\n      <td>7.0</td>\n      <td>7.0</td>\n      <td>...</td>\n      <td>-</td>\n      <td>-</td>\n      <td>-</td>\n      <td>-</td>\n      <td>-</td>\n      <td>-</td>\n      <td>-</td>\n      <td>-</td>\n      <td>0.0</td>\n      <td>0.0</td>\n    </tr>\n    <tr>\n      <th>7</th>\n      <td>-</td>\n      <td>1.0</td>\n      <td>2.0</td>\n      <td>0.0</td>\n      <td>2.0</td>\n      <td>-</td>\n      <td>19.0</td>\n      <td>20.0</td>\n      <td>7.0</td>\n      <td>7.0</td>\n      <td>...</td>\n      <td>-</td>\n      <td>-</td>\n      <td>-</td>\n      <td>-</td>\n      <td>-</td>\n      <td>-</td>\n      <td>9.0</td>\n      <td>8.5</td>\n      <td>6.0</td>\n      <td>-</td>\n    </tr>\n    <tr>\n      <th>8</th>\n      <td>-</td>\n      <td>-</td>\n      <td>-</td>\n      <td>-</td>\n      <td>-</td>\n      <td>-</td>\n      <td>16.0</td>\n      <td>21.0</td>\n      <td>-</td>\n      <td>-</td>\n      <td>...</td>\n      <td>-</td>\n      <td>-</td>\n      <td>-</td>\n      <td>-</td>\n      <td>-</td>\n      <td>-</td>\n      <td>9.0</td>\n      <td>-</td>\n      <td>7.0</td>\n      <td>-</td>\n    </tr>\n    <tr>\n      <th>9</th>\n      <td>-</td>\n      <td>-</td>\n      <td>-</td>\n      <td>-</td>\n      <td>-</td>\n      <td>-</td>\n      <td>-</td>\n      <td>-</td>\n      <td>-</td>\n      <td>-</td>\n      <td>...</td>\n      <td>-</td>\n      <td>-</td>\n      <td>-</td>\n      <td>-</td>\n      <td>-</td>\n      <td>-</td>\n      <td>-</td>\n      <td>-</td>\n      <td>-</td>\n      <td>-</td>\n    </tr>\n  </tbody>\n</table>\n<p>10 rows × 50 columns</p>\n</div>"
     },
     "execution_count": 88,
     "metadata": {},
     "output_type": "execute_result"
    }
   ],
   "source": [
    "comp, diff = compare_monsters(result[\"values\"], orc_warrior)\n",
    "comp"
   ],
   "metadata": {
    "collapsed": false
   }
  },
  {
   "cell_type": "code",
   "execution_count": 89,
   "outputs": [
    {
     "data": {
      "text/plain": "  str_diff dex_diff con_diff int_diff wis_diff cha_diff ac_diff hp_diff  \\\n0     -4.0      1.0     -1.0      2.0      1.0      1.0    -2.0    -2.0   \n1     -1.0      1.0     -1.0      1.0      1.0     -1.0       -    -3.0   \n2     -2.0        -     -1.0      3.0      1.0      2.0    -3.0    -1.0   \n3     -2.0        -     -1.0      3.0      1.0      2.0    -3.0    -1.0   \n4        -      1.0      1.0     -4.0        -      2.0    -2.0     2.0   \n5     -1.0      1.0     -1.0        -     -1.0      2.0    -1.0    -5.0   \n6     -2.0        -     -1.0      3.0      1.0      2.0    -3.0    -1.0   \n7        -     -1.0     -1.0      1.0      1.0        -     1.0    -3.0   \n8        -        -        -        -        -        -    -2.0    -2.0   \n9        -        -        -        -        -        -       -       -   \n\n  perception_diff fortitude_diff  ... spells_nr_lvl_4_diff  \\\n0            -1.0           -1.0  ...                    -   \n1             1.0           -3.0  ...                    -   \n2             1.0           -1.0  ...                    -   \n3             1.0           -1.0  ...                    -   \n4               -            1.0  ...                    -   \n5            -1.0           -1.0  ...                    -   \n6             1.0           -1.0  ...                    -   \n7             1.0           -1.0  ...                    -   \n8               -              -  ...                    -   \n9               -              -  ...                    -   \n\n  spells_nr_lvl_5_diff spells_nr_lvl_6_diff spells_nr_lvl_7_diff  \\\n0                    -                    -                    -   \n1                    -                    -                    -   \n2                    -                    -                    -   \n3                    -                    -                    -   \n4                    -                    -                    -   \n5                    -                    -                    -   \n6                    -                    -                    -   \n7                    -                    -                    -   \n8                    -                    -                    -   \n9                    -                    -                    -   \n\n  spells_nr_lvl_8_diff spells_nr_lvl_9_diff melee_max_bonus_diff  \\\n0                    -                    -                  1.0   \n1                    -                    -                  1.0   \n2                    -                    -                    -   \n3                    -                    -                    -   \n4                    -                    -                    -   \n5                    -                    -                  1.0   \n6                    -                    -                    -   \n7                    -                    -                  2.0   \n8                    -                    -                  2.0   \n9                    -                    -                    -   \n\n  avg_melee_dmg_diff ranged_max_bonus_diff avg_ranged_dmg_diff  \n0               -1.0                   3.0                -3.0  \n1                1.0                   3.0                -4.0  \n2                  -                  -5.0                -7.5  \n3                  -                  -5.0                -7.5  \n4                  -                  -5.0                -7.5  \n5                1.0                   3.0                -4.0  \n6                  -                  -5.0                -7.5  \n7                2.0                   1.0                   -  \n8                  -                   2.0                   -  \n9                  -                     -                   -  \n\n[10 rows x 50 columns]",
      "text/html": "<div>\n<style scoped>\n    .dataframe tbody tr th:only-of-type {\n        vertical-align: middle;\n    }\n\n    .dataframe tbody tr th {\n        vertical-align: top;\n    }\n\n    .dataframe thead th {\n        text-align: right;\n    }\n</style>\n<table border=\"1\" class=\"dataframe\">\n  <thead>\n    <tr style=\"text-align: right;\">\n      <th></th>\n      <th>str_diff</th>\n      <th>dex_diff</th>\n      <th>con_diff</th>\n      <th>int_diff</th>\n      <th>wis_diff</th>\n      <th>cha_diff</th>\n      <th>ac_diff</th>\n      <th>hp_diff</th>\n      <th>perception_diff</th>\n      <th>fortitude_diff</th>\n      <th>...</th>\n      <th>spells_nr_lvl_4_diff</th>\n      <th>spells_nr_lvl_5_diff</th>\n      <th>spells_nr_lvl_6_diff</th>\n      <th>spells_nr_lvl_7_diff</th>\n      <th>spells_nr_lvl_8_diff</th>\n      <th>spells_nr_lvl_9_diff</th>\n      <th>melee_max_bonus_diff</th>\n      <th>avg_melee_dmg_diff</th>\n      <th>ranged_max_bonus_diff</th>\n      <th>avg_ranged_dmg_diff</th>\n    </tr>\n  </thead>\n  <tbody>\n    <tr>\n      <th>0</th>\n      <td>-4.0</td>\n      <td>1.0</td>\n      <td>-1.0</td>\n      <td>2.0</td>\n      <td>1.0</td>\n      <td>1.0</td>\n      <td>-2.0</td>\n      <td>-2.0</td>\n      <td>-1.0</td>\n      <td>-1.0</td>\n      <td>...</td>\n      <td>-</td>\n      <td>-</td>\n      <td>-</td>\n      <td>-</td>\n      <td>-</td>\n      <td>-</td>\n      <td>1.0</td>\n      <td>-1.0</td>\n      <td>3.0</td>\n      <td>-3.0</td>\n    </tr>\n    <tr>\n      <th>1</th>\n      <td>-1.0</td>\n      <td>1.0</td>\n      <td>-1.0</td>\n      <td>1.0</td>\n      <td>1.0</td>\n      <td>-1.0</td>\n      <td>-</td>\n      <td>-3.0</td>\n      <td>1.0</td>\n      <td>-3.0</td>\n      <td>...</td>\n      <td>-</td>\n      <td>-</td>\n      <td>-</td>\n      <td>-</td>\n      <td>-</td>\n      <td>-</td>\n      <td>1.0</td>\n      <td>1.0</td>\n      <td>3.0</td>\n      <td>-4.0</td>\n    </tr>\n    <tr>\n      <th>2</th>\n      <td>-2.0</td>\n      <td>-</td>\n      <td>-1.0</td>\n      <td>3.0</td>\n      <td>1.0</td>\n      <td>2.0</td>\n      <td>-3.0</td>\n      <td>-1.0</td>\n      <td>1.0</td>\n      <td>-1.0</td>\n      <td>...</td>\n      <td>-</td>\n      <td>-</td>\n      <td>-</td>\n      <td>-</td>\n      <td>-</td>\n      <td>-</td>\n      <td>-</td>\n      <td>-</td>\n      <td>-5.0</td>\n      <td>-7.5</td>\n    </tr>\n    <tr>\n      <th>3</th>\n      <td>-2.0</td>\n      <td>-</td>\n      <td>-1.0</td>\n      <td>3.0</td>\n      <td>1.0</td>\n      <td>2.0</td>\n      <td>-3.0</td>\n      <td>-1.0</td>\n      <td>1.0</td>\n      <td>-1.0</td>\n      <td>...</td>\n      <td>-</td>\n      <td>-</td>\n      <td>-</td>\n      <td>-</td>\n      <td>-</td>\n      <td>-</td>\n      <td>-</td>\n      <td>-</td>\n      <td>-5.0</td>\n      <td>-7.5</td>\n    </tr>\n    <tr>\n      <th>4</th>\n      <td>-</td>\n      <td>1.0</td>\n      <td>1.0</td>\n      <td>-4.0</td>\n      <td>-</td>\n      <td>2.0</td>\n      <td>-2.0</td>\n      <td>2.0</td>\n      <td>-</td>\n      <td>1.0</td>\n      <td>...</td>\n      <td>-</td>\n      <td>-</td>\n      <td>-</td>\n      <td>-</td>\n      <td>-</td>\n      <td>-</td>\n      <td>-</td>\n      <td>-</td>\n      <td>-5.0</td>\n      <td>-7.5</td>\n    </tr>\n    <tr>\n      <th>5</th>\n      <td>-1.0</td>\n      <td>1.0</td>\n      <td>-1.0</td>\n      <td>-</td>\n      <td>-1.0</td>\n      <td>2.0</td>\n      <td>-1.0</td>\n      <td>-5.0</td>\n      <td>-1.0</td>\n      <td>-1.0</td>\n      <td>...</td>\n      <td>-</td>\n      <td>-</td>\n      <td>-</td>\n      <td>-</td>\n      <td>-</td>\n      <td>-</td>\n      <td>1.0</td>\n      <td>1.0</td>\n      <td>3.0</td>\n      <td>-4.0</td>\n    </tr>\n    <tr>\n      <th>6</th>\n      <td>-2.0</td>\n      <td>-</td>\n      <td>-1.0</td>\n      <td>3.0</td>\n      <td>1.0</td>\n      <td>2.0</td>\n      <td>-3.0</td>\n      <td>-1.0</td>\n      <td>1.0</td>\n      <td>-1.0</td>\n      <td>...</td>\n      <td>-</td>\n      <td>-</td>\n      <td>-</td>\n      <td>-</td>\n      <td>-</td>\n      <td>-</td>\n      <td>-</td>\n      <td>-</td>\n      <td>-5.0</td>\n      <td>-7.5</td>\n    </tr>\n    <tr>\n      <th>7</th>\n      <td>-</td>\n      <td>-1.0</td>\n      <td>-1.0</td>\n      <td>1.0</td>\n      <td>1.0</td>\n      <td>-</td>\n      <td>1.0</td>\n      <td>-3.0</td>\n      <td>1.0</td>\n      <td>-1.0</td>\n      <td>...</td>\n      <td>-</td>\n      <td>-</td>\n      <td>-</td>\n      <td>-</td>\n      <td>-</td>\n      <td>-</td>\n      <td>2.0</td>\n      <td>2.0</td>\n      <td>1.0</td>\n      <td>-</td>\n    </tr>\n    <tr>\n      <th>8</th>\n      <td>-</td>\n      <td>-</td>\n      <td>-</td>\n      <td>-</td>\n      <td>-</td>\n      <td>-</td>\n      <td>-2.0</td>\n      <td>-2.0</td>\n      <td>-</td>\n      <td>-</td>\n      <td>...</td>\n      <td>-</td>\n      <td>-</td>\n      <td>-</td>\n      <td>-</td>\n      <td>-</td>\n      <td>-</td>\n      <td>2.0</td>\n      <td>-</td>\n      <td>2.0</td>\n      <td>-</td>\n    </tr>\n    <tr>\n      <th>9</th>\n      <td>-</td>\n      <td>-</td>\n      <td>-</td>\n      <td>-</td>\n      <td>-</td>\n      <td>-</td>\n      <td>-</td>\n      <td>-</td>\n      <td>-</td>\n      <td>-</td>\n      <td>...</td>\n      <td>-</td>\n      <td>-</td>\n      <td>-</td>\n      <td>-</td>\n      <td>-</td>\n      <td>-</td>\n      <td>-</td>\n      <td>-</td>\n      <td>-</td>\n      <td>-</td>\n    </tr>\n  </tbody>\n</table>\n<p>10 rows × 50 columns</p>\n</div>"
     },
     "execution_count": 89,
     "metadata": {},
     "output_type": "execute_result"
    }
   ],
   "source": [
    "diff"
   ],
   "metadata": {
    "collapsed": false
   }
  },
  {
   "cell_type": "code",
   "execution_count": null,
   "outputs": [],
   "source": [],
   "metadata": {
    "collapsed": false,
    "pycharm": {
     "is_executing": true
    }
   }
  }
 ],
 "metadata": {
  "kernelspec": {
   "display_name": "Python 3 (ipykernel)",
   "language": "python",
   "name": "python3"
  },
  "language_info": {
   "codemirror_mode": {
    "name": "ipython",
    "version": 3
   },
   "file_extension": ".py",
   "mimetype": "text/x-python",
   "name": "python",
   "nbconvert_exporter": "python",
   "pygments_lexer": "ipython3",
   "version": "3.10.8"
  }
 },
 "nbformat": 4,
 "nbformat_minor": 4
}
