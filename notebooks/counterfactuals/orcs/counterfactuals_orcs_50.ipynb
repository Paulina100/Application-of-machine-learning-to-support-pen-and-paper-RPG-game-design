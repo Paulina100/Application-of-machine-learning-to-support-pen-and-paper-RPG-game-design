{
 "cells": [
  {
   "cell_type": "markdown",
   "metadata": {
    "collapsed": false,
    "jupyter": {
     "outputs_hidden": false
    }
   },
   "source": [
    "# Counterfactuals: orcs\n",
    "## 50 characteristics"
   ]
  },
  {
   "cell_type": "markdown",
   "metadata": {
    "collapsed": false,
    "jupyter": {
     "outputs_hidden": false
    }
   },
   "source": [
    "## Prepare data"
   ]
  },
  {
   "cell_type": "code",
   "execution_count": 15,
   "metadata": {},
   "outputs": [],
   "source": [
    "from training.creating_dataset import load_data, preprocess_data"
   ]
  },
  {
   "cell_type": "code",
   "execution_count": 2,
   "metadata": {
    "collapsed": false,
    "jupyter": {
     "outputs_hidden": false
    }
   },
   "outputs": [],
   "source": [
    "import pandas as pd\n",
    "import sys\n",
    "\n",
    "import os\n",
    "import pathlib\n",
    "\n",
    "sys.path.append(\"../../..\")\n",
    "\n",
    "current_path = os.getcwd()\n",
    "current_path = os.getcwd()\n",
    "DATASETS_DIR = pathlib.Path(current_path).parent.parent.parent / \"pathfinder_2e_data\"\n",
    "DATASET_FILES = [\n",
    "    \"pathfinder-bestiary.db\",\n",
    "    \"pathfinder-bestiary-2.db\",\n",
    "    \"pathfinder-bestiary-3.db\",\n",
    "]\n",
    "DATASET_PATHS = [f\"{DATASETS_DIR}/{file}\" for file in DATASET_FILES]\n",
    "\n",
    "df = load_data(DATASET_PATHS)"
   ]
  },
  {
   "cell_type": "code",
   "execution_count": 3,
   "metadata": {
    "collapsed": false,
    "jupyter": {
     "outputs_hidden": false
    }
   },
   "outputs": [
    {
     "data": {
      "text/html": [
       "<div>\n",
       "<style scoped>\n",
       "    .dataframe tbody tr th:only-of-type {\n",
       "        vertical-align: middle;\n",
       "    }\n",
       "\n",
       "    .dataframe tbody tr th {\n",
       "        vertical-align: top;\n",
       "    }\n",
       "\n",
       "    .dataframe thead th {\n",
       "        text-align: right;\n",
       "    }\n",
       "</style>\n",
       "<table border=\"1\" class=\"dataframe\">\n",
       "  <thead>\n",
       "    <tr style=\"text-align: right;\">\n",
       "      <th></th>\n",
       "      <th>_id</th>\n",
       "      <th>img</th>\n",
       "      <th>items</th>\n",
       "      <th>name</th>\n",
       "      <th>type</th>\n",
       "      <th>system.abilities.cha.mod</th>\n",
       "      <th>system.abilities.con.mod</th>\n",
       "      <th>system.abilities.dex.mod</th>\n",
       "      <th>system.abilities.int.mod</th>\n",
       "      <th>system.abilities.str.mod</th>\n",
       "      <th>...</th>\n",
       "      <th>system.traits.size.value</th>\n",
       "      <th>system.traits.value</th>\n",
       "      <th>system.schema.version</th>\n",
       "      <th>system.schema.lastMigration</th>\n",
       "      <th>flags.core.sourceId</th>\n",
       "      <th>system.attributes.resistances</th>\n",
       "      <th>system.traits.attitude.value</th>\n",
       "      <th>prototypeToken.name</th>\n",
       "      <th>system.attributes.hardness.value</th>\n",
       "      <th>system.attributes.adjustment</th>\n",
       "    </tr>\n",
       "  </thead>\n",
       "  <tbody>\n",
       "    <tr>\n",
       "      <th>0</th>\n",
       "      <td>024PqcF8yMRBrPuq</td>\n",
       "      <td>systems/pf2e/icons/default-icons/npc.svg</td>\n",
       "      <td>[{'_id': 'B7rzf0nBJmzg8x0y', 'img': 'systems/p...</td>\n",
       "      <td>Adult White Dragon</td>\n",
       "      <td>npc</td>\n",
       "      <td>1</td>\n",
       "      <td>5</td>\n",
       "      <td>2</td>\n",
       "      <td>1</td>\n",
       "      <td>7</td>\n",
       "      <td>...</td>\n",
       "      <td>lg</td>\n",
       "      <td>[cold, dragon]</td>\n",
       "      <td>0.827</td>\n",
       "      <td>None</td>\n",
       "      <td>Compendium.pf2e.pathfinder-bestiary.024PqcF8yM...</td>\n",
       "      <td>NaN</td>\n",
       "      <td>NaN</td>\n",
       "      <td>NaN</td>\n",
       "      <td>NaN</td>\n",
       "      <td>NaN</td>\n",
       "    </tr>\n",
       "    <tr>\n",
       "      <th>1</th>\n",
       "      <td>05E3kkjoLZVjFOeO</td>\n",
       "      <td>systems/pf2e/icons/default-icons/npc.svg</td>\n",
       "      <td>[{'_id': 'mYNDkS27YQRyy1F0', 'img': 'systems/p...</td>\n",
       "      <td>Brontosaurus</td>\n",
       "      <td>npc</td>\n",
       "      <td>1</td>\n",
       "      <td>5</td>\n",
       "      <td>0</td>\n",
       "      <td>-4</td>\n",
       "      <td>9</td>\n",
       "      <td>...</td>\n",
       "      <td>grg</td>\n",
       "      <td>[animal, dinosaur]</td>\n",
       "      <td>0.827</td>\n",
       "      <td>None</td>\n",
       "      <td>Compendium.pf2e.pathfinder-bestiary.05E3kkjoLZ...</td>\n",
       "      <td>NaN</td>\n",
       "      <td>NaN</td>\n",
       "      <td>NaN</td>\n",
       "      <td>NaN</td>\n",
       "      <td>NaN</td>\n",
       "    </tr>\n",
       "    <tr>\n",
       "      <th>2</th>\n",
       "      <td>05wwpHHsBlxBbdkN</td>\n",
       "      <td>systems/pf2e/icons/default-icons/npc.svg</td>\n",
       "      <td>[{'_id': 'WkPeg600zGONsuJz', 'img': 'systems/p...</td>\n",
       "      <td>Giant Anaconda</td>\n",
       "      <td>npc</td>\n",
       "      <td>-2</td>\n",
       "      <td>6</td>\n",
       "      <td>3</td>\n",
       "      <td>-4</td>\n",
       "      <td>7</td>\n",
       "      <td>...</td>\n",
       "      <td>huge</td>\n",
       "      <td>[animal]</td>\n",
       "      <td>0.827</td>\n",
       "      <td>None</td>\n",
       "      <td>Compendium.pf2e.pathfinder-bestiary.05wwpHHsBl...</td>\n",
       "      <td>NaN</td>\n",
       "      <td>NaN</td>\n",
       "      <td>NaN</td>\n",
       "      <td>NaN</td>\n",
       "      <td>NaN</td>\n",
       "    </tr>\n",
       "    <tr>\n",
       "      <th>3</th>\n",
       "      <td>0FGz2eXm0SB04sJW</td>\n",
       "      <td>systems/pf2e/icons/default-icons/npc.svg</td>\n",
       "      <td>[{'_id': 'joBYS96mXSnZC1WB', 'img': 'systems/p...</td>\n",
       "      <td>Ancient Green Dragon</td>\n",
       "      <td>npc</td>\n",
       "      <td>6</td>\n",
       "      <td>5</td>\n",
       "      <td>4</td>\n",
       "      <td>6</td>\n",
       "      <td>7</td>\n",
       "      <td>...</td>\n",
       "      <td>grg</td>\n",
       "      <td>[amphibious, dragon]</td>\n",
       "      <td>0.827</td>\n",
       "      <td>None</td>\n",
       "      <td>Compendium.pf2e.pathfinder-bestiary.0FGz2eXm0S...</td>\n",
       "      <td>NaN</td>\n",
       "      <td>NaN</td>\n",
       "      <td>NaN</td>\n",
       "      <td>NaN</td>\n",
       "      <td>NaN</td>\n",
       "    </tr>\n",
       "    <tr>\n",
       "      <th>4</th>\n",
       "      <td>0HjVFx8qIKDCfblg</td>\n",
       "      <td>systems/pf2e/icons/default-icons/npc.svg</td>\n",
       "      <td>[{'_id': 'xlUnQcjrxeMXu5Cd', 'img': 'systems/p...</td>\n",
       "      <td>Lantern Archon</td>\n",
       "      <td>npc</td>\n",
       "      <td>1</td>\n",
       "      <td>1</td>\n",
       "      <td>3</td>\n",
       "      <td>-1</td>\n",
       "      <td>-5</td>\n",
       "      <td>...</td>\n",
       "      <td>sm</td>\n",
       "      <td>[archon, celestial]</td>\n",
       "      <td>0.827</td>\n",
       "      <td>None</td>\n",
       "      <td>Compendium.pf2e.pathfinder-bestiary.0HjVFx8qIK...</td>\n",
       "      <td>[{'type': 'fire', 'value': 3}]</td>\n",
       "      <td>NaN</td>\n",
       "      <td>NaN</td>\n",
       "      <td>NaN</td>\n",
       "      <td>NaN</td>\n",
       "    </tr>\n",
       "  </tbody>\n",
       "</table>\n",
       "<p>5 rows × 55 columns</p>\n",
       "</div>"
      ],
      "text/plain": [
       "                _id                                       img  \\\n",
       "0  024PqcF8yMRBrPuq  systems/pf2e/icons/default-icons/npc.svg   \n",
       "1  05E3kkjoLZVjFOeO  systems/pf2e/icons/default-icons/npc.svg   \n",
       "2  05wwpHHsBlxBbdkN  systems/pf2e/icons/default-icons/npc.svg   \n",
       "3  0FGz2eXm0SB04sJW  systems/pf2e/icons/default-icons/npc.svg   \n",
       "4  0HjVFx8qIKDCfblg  systems/pf2e/icons/default-icons/npc.svg   \n",
       "\n",
       "                                               items                  name  \\\n",
       "0  [{'_id': 'B7rzf0nBJmzg8x0y', 'img': 'systems/p...    Adult White Dragon   \n",
       "1  [{'_id': 'mYNDkS27YQRyy1F0', 'img': 'systems/p...          Brontosaurus   \n",
       "2  [{'_id': 'WkPeg600zGONsuJz', 'img': 'systems/p...        Giant Anaconda   \n",
       "3  [{'_id': 'joBYS96mXSnZC1WB', 'img': 'systems/p...  Ancient Green Dragon   \n",
       "4  [{'_id': 'xlUnQcjrxeMXu5Cd', 'img': 'systems/p...        Lantern Archon   \n",
       "\n",
       "  type  system.abilities.cha.mod  system.abilities.con.mod  \\\n",
       "0  npc                         1                         5   \n",
       "1  npc                         1                         5   \n",
       "2  npc                        -2                         6   \n",
       "3  npc                         6                         5   \n",
       "4  npc                         1                         1   \n",
       "\n",
       "   system.abilities.dex.mod  system.abilities.int.mod  \\\n",
       "0                         2                         1   \n",
       "1                         0                        -4   \n",
       "2                         3                        -4   \n",
       "3                         4                         6   \n",
       "4                         3                        -1   \n",
       "\n",
       "   system.abilities.str.mod  ...  system.traits.size.value  \\\n",
       "0                         7  ...                        lg   \n",
       "1                         9  ...                       grg   \n",
       "2                         7  ...                      huge   \n",
       "3                         7  ...                       grg   \n",
       "4                        -5  ...                        sm   \n",
       "\n",
       "    system.traits.value  system.schema.version system.schema.lastMigration  \\\n",
       "0        [cold, dragon]                  0.827                        None   \n",
       "1    [animal, dinosaur]                  0.827                        None   \n",
       "2              [animal]                  0.827                        None   \n",
       "3  [amphibious, dragon]                  0.827                        None   \n",
       "4   [archon, celestial]                  0.827                        None   \n",
       "\n",
       "                                 flags.core.sourceId  \\\n",
       "0  Compendium.pf2e.pathfinder-bestiary.024PqcF8yM...   \n",
       "1  Compendium.pf2e.pathfinder-bestiary.05E3kkjoLZ...   \n",
       "2  Compendium.pf2e.pathfinder-bestiary.05wwpHHsBl...   \n",
       "3  Compendium.pf2e.pathfinder-bestiary.0FGz2eXm0S...   \n",
       "4  Compendium.pf2e.pathfinder-bestiary.0HjVFx8qIK...   \n",
       "\n",
       "    system.attributes.resistances  system.traits.attitude.value  \\\n",
       "0                             NaN                           NaN   \n",
       "1                             NaN                           NaN   \n",
       "2                             NaN                           NaN   \n",
       "3                             NaN                           NaN   \n",
       "4  [{'type': 'fire', 'value': 3}]                           NaN   \n",
       "\n",
       "   prototypeToken.name system.attributes.hardness.value  \\\n",
       "0                  NaN                              NaN   \n",
       "1                  NaN                              NaN   \n",
       "2                  NaN                              NaN   \n",
       "3                  NaN                              NaN   \n",
       "4                  NaN                              NaN   \n",
       "\n",
       "  system.attributes.adjustment  \n",
       "0                          NaN  \n",
       "1                          NaN  \n",
       "2                          NaN  \n",
       "3                          NaN  \n",
       "4                          NaN  \n",
       "\n",
       "[5 rows x 55 columns]"
      ]
     },
     "execution_count": 3,
     "metadata": {},
     "output_type": "execute_result"
    }
   ],
   "source": [
    "df.head()"
   ]
  },
  {
   "cell_type": "code",
   "execution_count": 4,
   "metadata": {
    "collapsed": false,
    "jupyter": {
     "outputs_hidden": false
    }
   },
   "outputs": [],
   "source": [
    "df_orcs = df[df.name.str.contains(\"Orc \")]"
   ]
  },
  {
   "cell_type": "code",
   "execution_count": 5,
   "metadata": {
    "collapsed": false,
    "jupyter": {
     "outputs_hidden": false
    }
   },
   "outputs": [
    {
     "data": {
      "text/plain": [
       "{'Orc Warchief': 240, 'Orc Brute': 284, 'Orc Warrior': 323}"
      ]
     },
     "execution_count": 5,
     "metadata": {},
     "output_type": "execute_result"
    }
   ],
   "source": [
    "orcs_ids_names = {df_orcs.loc[idx][\"name\"]: idx for idx in df_orcs.index}\n",
    "orcs_ids_names"
   ]
  },
  {
   "cell_type": "code",
   "execution_count": 6,
   "metadata": {
    "collapsed": false,
    "jupyter": {
     "outputs_hidden": false
    }
   },
   "outputs": [],
   "source": [
    "characteristics = [\n",
    "    \"cha\",\n",
    "    \"con\",\n",
    "    \"dex\",\n",
    "    \"int\",\n",
    "    \"str\",\n",
    "    \"wis\",\n",
    "    \"ac\",\n",
    "    \"hp\",\n",
    "    \"perception\",\n",
    "    \"fortitude\",\n",
    "    \"reflex\",\n",
    "    \"will\",\n",
    "    \"focus\",\n",
    "    \"land_speed\",\n",
    "    \"num_immunities\",\n",
    "    \"fly\",\n",
    "    \"swim\",\n",
    "    \"climb\",\n",
    "    \"fire_resistance\",\n",
    "    \"cold_resistance\",\n",
    "    \"electricity_resistance\",\n",
    "    \"acid_resistance\",\n",
    "    \"piercing_resistance\",\n",
    "    \"slashing_resistance\",\n",
    "    \"physical_resistance\",\n",
    "    \"bludgeoning_resistance\",\n",
    "    \"mental_resistance\",\n",
    "    \"poison_resistance\",\n",
    "    \"all-damage_resistance\",\n",
    "    \"cold-iron_weakness\",\n",
    "    \"good_weakness\",\n",
    "    \"fire_weakness\",\n",
    "    \"cold_weakness\",\n",
    "    \"area-damage_weakness\",\n",
    "    \"splash-damage_weakness\",\n",
    "    \"evil_weakness\",\n",
    "    \"slashing_weakness\",\n",
    "    \"melee\",\n",
    "    \"ranged\",\n",
    "    \"spells\",\n",
    "]"
   ]
  },
  {
   "cell_type": "code",
   "execution_count": 7,
   "metadata": {
    "collapsed": false,
    "jupyter": {
     "outputs_hidden": false
    }
   },
   "outputs": [
    {
     "data": {
      "text/html": [
       "<div>\n",
       "<style scoped>\n",
       "    .dataframe tbody tr th:only-of-type {\n",
       "        vertical-align: middle;\n",
       "    }\n",
       "\n",
       "    .dataframe tbody tr th {\n",
       "        vertical-align: top;\n",
       "    }\n",
       "\n",
       "    .dataframe thead th {\n",
       "        text-align: right;\n",
       "    }\n",
       "</style>\n",
       "<table border=\"1\" class=\"dataframe\">\n",
       "  <thead>\n",
       "    <tr style=\"text-align: right;\">\n",
       "      <th></th>\n",
       "      <th>int</th>\n",
       "      <th>land_speed</th>\n",
       "      <th>hp</th>\n",
       "      <th>focus</th>\n",
       "      <th>dex</th>\n",
       "      <th>reflex</th>\n",
       "      <th>fortitude</th>\n",
       "      <th>con</th>\n",
       "      <th>num_immunities</th>\n",
       "      <th>level</th>\n",
       "      <th>...</th>\n",
       "      <th>spells_nr_lvl_4</th>\n",
       "      <th>spells_nr_lvl_5</th>\n",
       "      <th>spells_nr_lvl_6</th>\n",
       "      <th>spells_nr_lvl_7</th>\n",
       "      <th>spells_nr_lvl_8</th>\n",
       "      <th>spells_nr_lvl_9</th>\n",
       "      <th>melee_max_bonus</th>\n",
       "      <th>avg_melee_dmg</th>\n",
       "      <th>ranged_max_bonus</th>\n",
       "      <th>avg_ranged_dmg</th>\n",
       "    </tr>\n",
       "  </thead>\n",
       "  <tbody>\n",
       "    <tr>\n",
       "      <th>240</th>\n",
       "      <td>-1</td>\n",
       "      <td>25.0</td>\n",
       "      <td>32</td>\n",
       "      <td>0</td>\n",
       "      <td>2</td>\n",
       "      <td>6</td>\n",
       "      <td>7</td>\n",
       "      <td>1</td>\n",
       "      <td>0</td>\n",
       "      <td>2</td>\n",
       "      <td>...</td>\n",
       "      <td>0</td>\n",
       "      <td>0</td>\n",
       "      <td>0</td>\n",
       "      <td>0</td>\n",
       "      <td>0</td>\n",
       "      <td>0</td>\n",
       "      <td>10</td>\n",
       "      <td>6.5</td>\n",
       "      <td>8</td>\n",
       "      <td>7.5</td>\n",
       "    </tr>\n",
       "    <tr>\n",
       "      <th>284</th>\n",
       "      <td>-1</td>\n",
       "      <td>25.0</td>\n",
       "      <td>15</td>\n",
       "      <td>0</td>\n",
       "      <td>2</td>\n",
       "      <td>4</td>\n",
       "      <td>6</td>\n",
       "      <td>3</td>\n",
       "      <td>0</td>\n",
       "      <td>0</td>\n",
       "      <td>...</td>\n",
       "      <td>0</td>\n",
       "      <td>0</td>\n",
       "      <td>0</td>\n",
       "      <td>0</td>\n",
       "      <td>0</td>\n",
       "      <td>0</td>\n",
       "      <td>7</td>\n",
       "      <td>5.5</td>\n",
       "      <td>4</td>\n",
       "      <td>6.5</td>\n",
       "    </tr>\n",
       "    <tr>\n",
       "      <th>323</th>\n",
       "      <td>-1</td>\n",
       "      <td>25.0</td>\n",
       "      <td>23</td>\n",
       "      <td>0</td>\n",
       "      <td>2</td>\n",
       "      <td>7</td>\n",
       "      <td>8</td>\n",
       "      <td>3</td>\n",
       "      <td>0</td>\n",
       "      <td>1</td>\n",
       "      <td>...</td>\n",
       "      <td>0</td>\n",
       "      <td>0</td>\n",
       "      <td>0</td>\n",
       "      <td>0</td>\n",
       "      <td>0</td>\n",
       "      <td>0</td>\n",
       "      <td>7</td>\n",
       "      <td>6.5</td>\n",
       "      <td>5</td>\n",
       "      <td>7.5</td>\n",
       "    </tr>\n",
       "  </tbody>\n",
       "</table>\n",
       "<p>3 rows × 52 columns</p>\n",
       "</div>"
      ],
      "text/plain": [
       "     int  land_speed  hp  focus  dex  reflex  fortitude  con  num_immunities  \\\n",
       "240   -1        25.0  32      0    2       6          7    1               0   \n",
       "284   -1        25.0  15      0    2       4          6    3               0   \n",
       "323   -1        25.0  23      0    2       7          8    3               0   \n",
       "\n",
       "     level  ...  spells_nr_lvl_4  spells_nr_lvl_5  spells_nr_lvl_6  \\\n",
       "240      2  ...                0                0                0   \n",
       "284      0  ...                0                0                0   \n",
       "323      1  ...                0                0                0   \n",
       "\n",
       "     spells_nr_lvl_7  spells_nr_lvl_8  spells_nr_lvl_9 melee_max_bonus  \\\n",
       "240                0                0                0              10   \n",
       "284                0                0                0               7   \n",
       "323                0                0                0               7   \n",
       "\n",
       "     avg_melee_dmg  ranged_max_bonus  avg_ranged_dmg  \n",
       "240            6.5                 8             7.5  \n",
       "284            5.5                 4             6.5  \n",
       "323            6.5                 5             7.5  \n",
       "\n",
       "[3 rows x 52 columns]"
      ]
     },
     "execution_count": 7,
     "metadata": {},
     "output_type": "execute_result"
    }
   ],
   "source": [
    "from serving.backend.constants import ORDERED_CHARACTERISTICS_50\n",
    "\n",
    "\n",
    "orcs = preprocess_data(df_orcs, characteristics)\n",
    "orcs"
   ]
  },
  {
   "cell_type": "code",
   "execution_count": 8,
   "metadata": {
    "collapsed": false,
    "jupyter": {
     "outputs_hidden": false
    }
   },
   "outputs": [
    {
     "data": {
      "text/html": [
       "<div>\n",
       "<style scoped>\n",
       "    .dataframe tbody tr th:only-of-type {\n",
       "        vertical-align: middle;\n",
       "    }\n",
       "\n",
       "    .dataframe tbody tr th {\n",
       "        vertical-align: top;\n",
       "    }\n",
       "\n",
       "    .dataframe thead th {\n",
       "        text-align: right;\n",
       "    }\n",
       "</style>\n",
       "<table border=\"1\" class=\"dataframe\">\n",
       "  <thead>\n",
       "    <tr style=\"text-align: right;\">\n",
       "      <th></th>\n",
       "      <th>str</th>\n",
       "      <th>dex</th>\n",
       "      <th>con</th>\n",
       "      <th>int</th>\n",
       "      <th>wis</th>\n",
       "      <th>cha</th>\n",
       "      <th>ac</th>\n",
       "      <th>hp</th>\n",
       "      <th>perception</th>\n",
       "      <th>fortitude</th>\n",
       "      <th>...</th>\n",
       "      <th>spells_nr_lvl_5</th>\n",
       "      <th>spells_nr_lvl_6</th>\n",
       "      <th>spells_nr_lvl_7</th>\n",
       "      <th>spells_nr_lvl_8</th>\n",
       "      <th>spells_nr_lvl_9</th>\n",
       "      <th>melee_max_bonus</th>\n",
       "      <th>avg_melee_dmg</th>\n",
       "      <th>ranged_max_bonus</th>\n",
       "      <th>avg_ranged_dmg</th>\n",
       "      <th>level</th>\n",
       "    </tr>\n",
       "  </thead>\n",
       "  <tbody>\n",
       "    <tr>\n",
       "      <th>240</th>\n",
       "      <td>4</td>\n",
       "      <td>2</td>\n",
       "      <td>1</td>\n",
       "      <td>-1</td>\n",
       "      <td>1</td>\n",
       "      <td>2</td>\n",
       "      <td>19</td>\n",
       "      <td>32</td>\n",
       "      <td>11</td>\n",
       "      <td>7</td>\n",
       "      <td>...</td>\n",
       "      <td>0</td>\n",
       "      <td>0</td>\n",
       "      <td>0</td>\n",
       "      <td>0</td>\n",
       "      <td>0</td>\n",
       "      <td>10</td>\n",
       "      <td>6.5</td>\n",
       "      <td>8</td>\n",
       "      <td>7.5</td>\n",
       "      <td>2</td>\n",
       "    </tr>\n",
       "    <tr>\n",
       "      <th>284</th>\n",
       "      <td>3</td>\n",
       "      <td>2</td>\n",
       "      <td>3</td>\n",
       "      <td>-1</td>\n",
       "      <td>1</td>\n",
       "      <td>0</td>\n",
       "      <td>15</td>\n",
       "      <td>15</td>\n",
       "      <td>5</td>\n",
       "      <td>6</td>\n",
       "      <td>...</td>\n",
       "      <td>0</td>\n",
       "      <td>0</td>\n",
       "      <td>0</td>\n",
       "      <td>0</td>\n",
       "      <td>0</td>\n",
       "      <td>7</td>\n",
       "      <td>5.5</td>\n",
       "      <td>4</td>\n",
       "      <td>6.5</td>\n",
       "      <td>0</td>\n",
       "    </tr>\n",
       "    <tr>\n",
       "      <th>323</th>\n",
       "      <td>4</td>\n",
       "      <td>2</td>\n",
       "      <td>3</td>\n",
       "      <td>-1</td>\n",
       "      <td>1</td>\n",
       "      <td>0</td>\n",
       "      <td>18</td>\n",
       "      <td>23</td>\n",
       "      <td>6</td>\n",
       "      <td>8</td>\n",
       "      <td>...</td>\n",
       "      <td>0</td>\n",
       "      <td>0</td>\n",
       "      <td>0</td>\n",
       "      <td>0</td>\n",
       "      <td>0</td>\n",
       "      <td>7</td>\n",
       "      <td>6.5</td>\n",
       "      <td>5</td>\n",
       "      <td>7.5</td>\n",
       "      <td>1</td>\n",
       "    </tr>\n",
       "  </tbody>\n",
       "</table>\n",
       "<p>3 rows × 51 columns</p>\n",
       "</div>"
      ],
      "text/plain": [
       "     str  dex  con  int  wis  cha  ac  hp  perception  fortitude  ...  \\\n",
       "240    4    2    1   -1    1    2  19  32          11          7  ...   \n",
       "284    3    2    3   -1    1    0  15  15           5          6  ...   \n",
       "323    4    2    3   -1    1    0  18  23           6          8  ...   \n",
       "\n",
       "     spells_nr_lvl_5  spells_nr_lvl_6  spells_nr_lvl_7  spells_nr_lvl_8  \\\n",
       "240                0                0                0                0   \n",
       "284                0                0                0                0   \n",
       "323                0                0                0                0   \n",
       "\n",
       "     spells_nr_lvl_9  melee_max_bonus  avg_melee_dmg  ranged_max_bonus  \\\n",
       "240                0               10            6.5                 8   \n",
       "284                0                7            5.5                 4   \n",
       "323                0                7            6.5                 5   \n",
       "\n",
       "     avg_ranged_dmg  level  \n",
       "240             7.5      2  \n",
       "284             6.5      0  \n",
       "323             7.5      1  \n",
       "\n",
       "[3 rows x 51 columns]"
      ]
     },
     "execution_count": 8,
     "metadata": {},
     "output_type": "execute_result"
    }
   ],
   "source": [
    "orcs = orcs[ORDERED_CHARACTERISTICS_50 + [\"level\"]]\n",
    "orcs"
   ]
  },
  {
   "cell_type": "code",
   "execution_count": 9,
   "metadata": {
    "collapsed": false,
    "jupyter": {
     "outputs_hidden": false
    }
   },
   "outputs": [],
   "source": [
    "dataset = preprocess_data(df, characteristics)\n",
    "dataset = dataset[ORDERED_CHARACTERISTICS_50 + [\"level\"]]"
   ]
  },
  {
   "cell_type": "code",
   "execution_count": 10,
   "metadata": {
    "collapsed": false,
    "jupyter": {
     "outputs_hidden": false
    }
   },
   "outputs": [
    {
     "data": {
      "text/html": [
       "<div>\n",
       "<style scoped>\n",
       "    .dataframe tbody tr th:only-of-type {\n",
       "        vertical-align: middle;\n",
       "    }\n",
       "\n",
       "    .dataframe tbody tr th {\n",
       "        vertical-align: top;\n",
       "    }\n",
       "\n",
       "    .dataframe thead th {\n",
       "        text-align: right;\n",
       "    }\n",
       "</style>\n",
       "<table border=\"1\" class=\"dataframe\">\n",
       "  <thead>\n",
       "    <tr style=\"text-align: right;\">\n",
       "      <th></th>\n",
       "      <th>str</th>\n",
       "      <th>dex</th>\n",
       "      <th>con</th>\n",
       "      <th>int</th>\n",
       "      <th>wis</th>\n",
       "      <th>cha</th>\n",
       "      <th>ac</th>\n",
       "      <th>hp</th>\n",
       "      <th>perception</th>\n",
       "      <th>fortitude</th>\n",
       "      <th>...</th>\n",
       "      <th>spells_nr_lvl_5</th>\n",
       "      <th>spells_nr_lvl_6</th>\n",
       "      <th>spells_nr_lvl_7</th>\n",
       "      <th>spells_nr_lvl_8</th>\n",
       "      <th>spells_nr_lvl_9</th>\n",
       "      <th>melee_max_bonus</th>\n",
       "      <th>avg_melee_dmg</th>\n",
       "      <th>ranged_max_bonus</th>\n",
       "      <th>avg_ranged_dmg</th>\n",
       "      <th>level</th>\n",
       "    </tr>\n",
       "  </thead>\n",
       "  <tbody>\n",
       "    <tr>\n",
       "      <th>0</th>\n",
       "      <td>7</td>\n",
       "      <td>2</td>\n",
       "      <td>5</td>\n",
       "      <td>1</td>\n",
       "      <td>2</td>\n",
       "      <td>1</td>\n",
       "      <td>29</td>\n",
       "      <td>215</td>\n",
       "      <td>20</td>\n",
       "      <td>22</td>\n",
       "      <td>...</td>\n",
       "      <td>0</td>\n",
       "      <td>0</td>\n",
       "      <td>0</td>\n",
       "      <td>0</td>\n",
       "      <td>0</td>\n",
       "      <td>23</td>\n",
       "      <td>22.0</td>\n",
       "      <td>0</td>\n",
       "      <td>0.0</td>\n",
       "      <td>10</td>\n",
       "    </tr>\n",
       "    <tr>\n",
       "      <th>1</th>\n",
       "      <td>9</td>\n",
       "      <td>0</td>\n",
       "      <td>5</td>\n",
       "      <td>-4</td>\n",
       "      <td>2</td>\n",
       "      <td>1</td>\n",
       "      <td>28</td>\n",
       "      <td>220</td>\n",
       "      <td>16</td>\n",
       "      <td>21</td>\n",
       "      <td>...</td>\n",
       "      <td>0</td>\n",
       "      <td>0</td>\n",
       "      <td>0</td>\n",
       "      <td>0</td>\n",
       "      <td>0</td>\n",
       "      <td>23</td>\n",
       "      <td>22.0</td>\n",
       "      <td>0</td>\n",
       "      <td>0.0</td>\n",
       "      <td>10</td>\n",
       "    </tr>\n",
       "    <tr>\n",
       "      <th>2</th>\n",
       "      <td>7</td>\n",
       "      <td>3</td>\n",
       "      <td>6</td>\n",
       "      <td>-4</td>\n",
       "      <td>3</td>\n",
       "      <td>-2</td>\n",
       "      <td>25</td>\n",
       "      <td>175</td>\n",
       "      <td>17</td>\n",
       "      <td>20</td>\n",
       "      <td>...</td>\n",
       "      <td>0</td>\n",
       "      <td>0</td>\n",
       "      <td>0</td>\n",
       "      <td>0</td>\n",
       "      <td>0</td>\n",
       "      <td>21</td>\n",
       "      <td>16.0</td>\n",
       "      <td>0</td>\n",
       "      <td>0.0</td>\n",
       "      <td>8</td>\n",
       "    </tr>\n",
       "    <tr>\n",
       "      <th>3</th>\n",
       "      <td>7</td>\n",
       "      <td>4</td>\n",
       "      <td>5</td>\n",
       "      <td>6</td>\n",
       "      <td>5</td>\n",
       "      <td>6</td>\n",
       "      <td>41</td>\n",
       "      <td>315</td>\n",
       "      <td>30</td>\n",
       "      <td>30</td>\n",
       "      <td>...</td>\n",
       "      <td>0</td>\n",
       "      <td>1</td>\n",
       "      <td>0</td>\n",
       "      <td>0</td>\n",
       "      <td>0</td>\n",
       "      <td>33</td>\n",
       "      <td>31.5</td>\n",
       "      <td>0</td>\n",
       "      <td>0.0</td>\n",
       "      <td>17</td>\n",
       "    </tr>\n",
       "    <tr>\n",
       "      <th>4</th>\n",
       "      <td>-5</td>\n",
       "      <td>3</td>\n",
       "      <td>1</td>\n",
       "      <td>-1</td>\n",
       "      <td>1</td>\n",
       "      <td>1</td>\n",
       "      <td>16</td>\n",
       "      <td>20</td>\n",
       "      <td>6</td>\n",
       "      <td>6</td>\n",
       "      <td>...</td>\n",
       "      <td>0</td>\n",
       "      <td>0</td>\n",
       "      <td>0</td>\n",
       "      <td>0</td>\n",
       "      <td>0</td>\n",
       "      <td>0</td>\n",
       "      <td>0.0</td>\n",
       "      <td>8</td>\n",
       "      <td>5.0</td>\n",
       "      <td>1</td>\n",
       "    </tr>\n",
       "  </tbody>\n",
       "</table>\n",
       "<p>5 rows × 51 columns</p>\n",
       "</div>"
      ],
      "text/plain": [
       "   str  dex  con  int  wis  cha  ac   hp  perception  fortitude  ...  \\\n",
       "0    7    2    5    1    2    1  29  215          20         22  ...   \n",
       "1    9    0    5   -4    2    1  28  220          16         21  ...   \n",
       "2    7    3    6   -4    3   -2  25  175          17         20  ...   \n",
       "3    7    4    5    6    5    6  41  315          30         30  ...   \n",
       "4   -5    3    1   -1    1    1  16   20           6          6  ...   \n",
       "\n",
       "   spells_nr_lvl_5  spells_nr_lvl_6  spells_nr_lvl_7  spells_nr_lvl_8  \\\n",
       "0                0                0                0                0   \n",
       "1                0                0                0                0   \n",
       "2                0                0                0                0   \n",
       "3                0                1                0                0   \n",
       "4                0                0                0                0   \n",
       "\n",
       "   spells_nr_lvl_9  melee_max_bonus  avg_melee_dmg  ranged_max_bonus  \\\n",
       "0                0               23           22.0                 0   \n",
       "1                0               23           22.0                 0   \n",
       "2                0               21           16.0                 0   \n",
       "3                0               33           31.5                 0   \n",
       "4                0                0            0.0                 8   \n",
       "\n",
       "   avg_ranged_dmg  level  \n",
       "0             0.0     10  \n",
       "1             0.0     10  \n",
       "2             0.0      8  \n",
       "3             0.0     17  \n",
       "4             5.0      1  \n",
       "\n",
       "[5 rows x 51 columns]"
      ]
     },
     "execution_count": 10,
     "metadata": {},
     "output_type": "execute_result"
    }
   ],
   "source": [
    "dataset.head()"
   ]
  },
  {
   "cell_type": "code",
   "execution_count": null,
   "metadata": {
    "collapsed": false,
    "jupyter": {
     "outputs_hidden": false
    },
    "pycharm": {
     "is_executing": true
    }
   },
   "outputs": [],
   "source": [
    "from training.create_model import get_fitted_model\n",
    "\n",
    "\n",
    "model = get_fitted_model(\n",
    "    classifier_name=\"lightgbm\",\n",
    "    X_train=dataset[ORDERED_CHARACTERISTICS_50],\n",
    "    y_train=dataset[\"level\"],\n",
    ")"
   ]
  },
  {
   "cell_type": "markdown",
   "metadata": {
    "collapsed": false,
    "jupyter": {
     "outputs_hidden": false
    }
   },
   "source": [
    "## Counterfactuals for orcs"
   ]
  },
  {
   "cell_type": "code",
   "execution_count": 12,
   "metadata": {
    "collapsed": false,
    "jupyter": {
     "outputs_hidden": false
    }
   },
   "outputs": [
    {
     "name": "stderr",
     "output_type": "stream",
     "text": [
      "C:\\Users\\jolka\\OneDrive\\Dokumenty\\Inzynierka\\ML-for-TTRPG-game-design\\venv\\lib\\site-packages\\dice_ml\\utils\\exception.py:12: UserWarning: UserConfigValidationException will be deprecated from dice_ml.utils. Please import UserConfigValidationException from raiutils.exceptions.\n",
      "  warnings.warn(\"UserConfigValidationException will be deprecated from dice_ml.utils. \"\n"
     ]
    }
   ],
   "source": [
    "from serving.backend.generate_counterfactuals import generate_counterfactuals"
   ]
  },
  {
   "cell_type": "code",
   "execution_count": 13,
   "metadata": {
    "collapsed": false,
    "jupyter": {
     "outputs_hidden": false
    }
   },
   "outputs": [],
   "source": [
    "orc_brute = orcs.loc[orcs_ids_names[\"Orc Brute\"]].to_dict()\n",
    "orc_warrior = orcs.loc[orcs_ids_names[\"Orc Warrior\"]].to_dict()\n",
    "orc_warchief = orcs.loc[orcs_ids_names[\"Orc Warchief\"]].to_dict()"
   ]
  },
  {
   "cell_type": "markdown",
   "metadata": {
    "collapsed": false,
    "jupyter": {
     "outputs_hidden": false
    }
   },
   "source": [
    "### Orc Brute"
   ]
  },
  {
   "cell_type": "code",
   "execution_count": 14,
   "metadata": {
    "collapsed": false,
    "jupyter": {
     "outputs_hidden": false
    }
   },
   "outputs": [
    {
     "name": "stderr",
     "output_type": "stream",
     "text": [
      "  0%|          | 0/1 [19:15<?, ?it/s]\n"
     ]
    },
    {
     "ename": "KeyboardInterrupt",
     "evalue": "",
     "output_type": "error",
     "traceback": [
      "\u001B[1;31m---------------------------------------------------------------------------\u001B[0m",
      "\u001B[1;31mKeyboardInterrupt\u001B[0m                         Traceback (most recent call last)",
      "Cell \u001B[1;32mIn[14], line 1\u001B[0m\n\u001B[1;32m----> 1\u001B[0m result \u001B[38;5;241m=\u001B[39m \u001B[43mgenerate_counterfactuals\u001B[49m\u001B[43m(\u001B[49m\u001B[43mmonster_stats\u001B[49m\u001B[38;5;241;43m=\u001B[39;49m\u001B[43morc_brute\u001B[49m\u001B[43m,\u001B[49m\u001B[43m \u001B[49m\u001B[43mmodel\u001B[49m\u001B[38;5;241;43m=\u001B[39;49m\u001B[43mmodel\u001B[49m\u001B[43m,\u001B[49m\u001B[43m \u001B[49m\u001B[43mnew_level\u001B[49m\u001B[38;5;241;43m=\u001B[39;49m\u001B[38;5;241;43m1\u001B[39;49m\u001B[43m,\u001B[49m\u001B[43m \u001B[49m\u001B[43mdf\u001B[49m\u001B[38;5;241;43m=\u001B[39;49m\u001B[43mdataset\u001B[49m\u001B[43m,\u001B[49m\u001B[43m \u001B[49m\u001B[43mtotal_cf\u001B[49m\u001B[38;5;241;43m=\u001B[39;49m\u001B[38;5;241;43m10\u001B[39;49m\u001B[43m,\u001B[49m\u001B[43m \u001B[49m\u001B[43mordered_characteristics\u001B[49m\u001B[38;5;241;43m=\u001B[39;49m\u001B[43mORDERED_CHARACTERISTICS_50\u001B[49m\u001B[43m)\u001B[49m\n",
      "File \u001B[1;32m~\\OneDrive\\Dokumenty\\Inzynierka\\ML-for-TTRPG-game-design\\serving\\backend\\generate_counterfactuals.py:41\u001B[0m, in \u001B[0;36mgenerate_counterfactuals\u001B[1;34m(monster_stats, model, new_level, df, total_cf, ordered_characteristics)\u001B[0m\n\u001B[0;32m     37\u001B[0m exp \u001B[38;5;241m=\u001B[39m Dice(d, m, method\u001B[38;5;241m=\u001B[39m\u001B[38;5;124m\"\u001B[39m\u001B[38;5;124mgenetic\u001B[39m\u001B[38;5;124m\"\u001B[39m)\n\u001B[0;32m     39\u001B[0m desired_range \u001B[38;5;241m=\u001B[39m [new_level \u001B[38;5;241m-\u001B[39m \u001B[38;5;241m1\u001B[39m \u001B[38;5;241m+\u001B[39m THRESHOLD, new_level \u001B[38;5;241m+\u001B[39m THRESHOLD]\n\u001B[1;32m---> 41\u001B[0m genetic \u001B[38;5;241m=\u001B[39m \u001B[43mexp\u001B[49m\u001B[38;5;241;43m.\u001B[39;49m\u001B[43mgenerate_counterfactuals\u001B[49m\u001B[43m(\u001B[49m\n\u001B[0;32m     42\u001B[0m \u001B[43m    \u001B[49m\u001B[43mquery\u001B[49m\u001B[43m,\u001B[49m\u001B[43m \u001B[49m\u001B[43mtotal_CFs\u001B[49m\u001B[38;5;241;43m=\u001B[39;49m\u001B[43mtotal_cf\u001B[49m\u001B[43m,\u001B[49m\u001B[43m \u001B[49m\u001B[43mdesired_range\u001B[49m\u001B[38;5;241;43m=\u001B[39;49m\u001B[43mdesired_range\u001B[49m\n\u001B[0;32m     43\u001B[0m \u001B[43m\u001B[49m\u001B[43m)\u001B[49m\n\u001B[0;32m     45\u001B[0m cf_json \u001B[38;5;241m=\u001B[39m json\u001B[38;5;241m.\u001B[39mloads(genetic\u001B[38;5;241m.\u001B[39mto_json())\n\u001B[0;32m     47\u001B[0m result \u001B[38;5;241m=\u001B[39m {\n\u001B[0;32m     48\u001B[0m     \u001B[38;5;124m\"\u001B[39m\u001B[38;5;124mvalues\u001B[39m\u001B[38;5;124m\"\u001B[39m: [],\n\u001B[0;32m     49\u001B[0m     \u001B[38;5;124m\"\u001B[39m\u001B[38;5;124mmodified\u001B[39m\u001B[38;5;124m\"\u001B[39m: [],\n\u001B[0;32m     50\u001B[0m }\n",
      "File \u001B[1;32m~\\OneDrive\\Dokumenty\\Inzynierka\\ML-for-TTRPG-game-design\\venv\\lib\\site-packages\\dice_ml\\explainer_interfaces\\explainer_base.py:161\u001B[0m, in \u001B[0;36mExplainerBase.generate_counterfactuals\u001B[1;34m(self, query_instances, total_CFs, desired_class, desired_range, permitted_range, features_to_vary, stopping_threshold, posthoc_sparsity_param, proximity_weight, sparsity_weight, diversity_weight, categorical_penalty, posthoc_sparsity_algorithm, verbose, **kwargs)\u001B[0m\n\u001B[0;32m    159\u001B[0m \u001B[38;5;28;01mfor\u001B[39;00m query_instance \u001B[38;5;129;01min\u001B[39;00m tqdm(query_instances_list):\n\u001B[0;32m    160\u001B[0m     \u001B[38;5;28mself\u001B[39m\u001B[38;5;241m.\u001B[39mdata_interface\u001B[38;5;241m.\u001B[39mset_continuous_feature_indexes(query_instance)\n\u001B[1;32m--> 161\u001B[0m     res \u001B[38;5;241m=\u001B[39m \u001B[38;5;28mself\u001B[39m\u001B[38;5;241m.\u001B[39m_generate_counterfactuals(\n\u001B[0;32m    162\u001B[0m         query_instance, total_CFs,\n\u001B[0;32m    163\u001B[0m         desired_class\u001B[38;5;241m=\u001B[39mdesired_class,\n\u001B[0;32m    164\u001B[0m         desired_range\u001B[38;5;241m=\u001B[39mdesired_range,\n\u001B[0;32m    165\u001B[0m         permitted_range\u001B[38;5;241m=\u001B[39mpermitted_range,\n\u001B[0;32m    166\u001B[0m         features_to_vary\u001B[38;5;241m=\u001B[39mfeatures_to_vary,\n\u001B[0;32m    167\u001B[0m         stopping_threshold\u001B[38;5;241m=\u001B[39mstopping_threshold,\n\u001B[0;32m    168\u001B[0m         posthoc_sparsity_param\u001B[38;5;241m=\u001B[39mposthoc_sparsity_param,\n\u001B[0;32m    169\u001B[0m         posthoc_sparsity_algorithm\u001B[38;5;241m=\u001B[39mposthoc_sparsity_algorithm,\n\u001B[0;32m    170\u001B[0m         verbose\u001B[38;5;241m=\u001B[39mverbose,\n\u001B[0;32m    171\u001B[0m         \u001B[38;5;241m*\u001B[39m\u001B[38;5;241m*\u001B[39mkwargs)\n\u001B[0;32m    172\u001B[0m     cf_examples_arr\u001B[38;5;241m.\u001B[39mappend(res)\n\u001B[0;32m    173\u001B[0m \u001B[38;5;28mself\u001B[39m\u001B[38;5;241m.\u001B[39m_check_any_counterfactuals_computed(cf_examples_arr\u001B[38;5;241m=\u001B[39mcf_examples_arr)\n",
      "File \u001B[1;32m~\\OneDrive\\Dokumenty\\Inzynierka\\ML-for-TTRPG-game-design\\venv\\lib\\site-packages\\dice_ml\\explainer_interfaces\\dice_genetic.py:288\u001B[0m, in \u001B[0;36mDiceGenetic._generate_counterfactuals\u001B[1;34m(self, query_instance, total_CFs, initialization, desired_range, desired_class, proximity_weight, sparsity_weight, diversity_weight, categorical_penalty, algorithm, features_to_vary, permitted_range, yloss_type, diversity_loss_type, feature_weights, stopping_threshold, posthoc_sparsity_param, posthoc_sparsity_algorithm, maxiterations, thresh, verbose)\u001B[0m\n\u001B[0;32m    285\u001B[0m     \u001B[38;5;28;01mif\u001B[39;00m col \u001B[38;5;129;01mnot\u001B[39;00m \u001B[38;5;129;01min\u001B[39;00m query_instance_df_dummies\u001B[38;5;241m.\u001B[39mcolumns:\n\u001B[0;32m    286\u001B[0m         query_instance_df_dummies[col] \u001B[38;5;241m=\u001B[39m \u001B[38;5;241m0\u001B[39m\n\u001B[1;32m--> 288\u001B[0m \u001B[38;5;28;43mself\u001B[39;49m\u001B[38;5;241;43m.\u001B[39;49m\u001B[43mdo_param_initializations\u001B[49m\u001B[43m(\u001B[49m\u001B[43mtotal_CFs\u001B[49m\u001B[43m,\u001B[49m\u001B[43m \u001B[49m\u001B[43minitialization\u001B[49m\u001B[43m,\u001B[49m\u001B[43m \u001B[49m\u001B[43mdesired_range\u001B[49m\u001B[43m,\u001B[49m\u001B[43m \u001B[49m\u001B[43mdesired_class\u001B[49m\u001B[43m,\u001B[49m\u001B[43m \u001B[49m\u001B[43mquery_instance\u001B[49m\u001B[43m,\u001B[49m\n\u001B[0;32m    289\u001B[0m \u001B[43m                              \u001B[49m\u001B[43mquery_instance_df_dummies\u001B[49m\u001B[43m,\u001B[49m\u001B[43m \u001B[49m\u001B[43malgorithm\u001B[49m\u001B[43m,\u001B[49m\u001B[43m \u001B[49m\u001B[43mfeatures_to_vary\u001B[49m\u001B[43m,\u001B[49m\u001B[43m \u001B[49m\u001B[43mpermitted_range\u001B[49m\u001B[43m,\u001B[49m\n\u001B[0;32m    290\u001B[0m \u001B[43m                              \u001B[49m\u001B[43myloss_type\u001B[49m\u001B[43m,\u001B[49m\u001B[43m \u001B[49m\u001B[43mdiversity_loss_type\u001B[49m\u001B[43m,\u001B[49m\u001B[43m \u001B[49m\u001B[43mfeature_weights\u001B[49m\u001B[43m,\u001B[49m\u001B[43m \u001B[49m\u001B[43mproximity_weight\u001B[49m\u001B[43m,\u001B[49m\n\u001B[0;32m    291\u001B[0m \u001B[43m                              \u001B[49m\u001B[43msparsity_weight\u001B[49m\u001B[43m,\u001B[49m\u001B[43m \u001B[49m\u001B[43mdiversity_weight\u001B[49m\u001B[43m,\u001B[49m\u001B[43m \u001B[49m\u001B[43mcategorical_penalty\u001B[49m\u001B[43m,\u001B[49m\u001B[43m \u001B[49m\u001B[43mverbose\u001B[49m\u001B[43m)\u001B[49m\n\u001B[0;32m    293\u001B[0m query_instance_df \u001B[38;5;241m=\u001B[39m \u001B[38;5;28mself\u001B[39m\u001B[38;5;241m.\u001B[39mfind_counterfactuals(query_instance, desired_range, desired_class, features_to_vary,\n\u001B[0;32m    294\u001B[0m                                               maxiterations, thresh, verbose)\n\u001B[0;32m    296\u001B[0m \u001B[38;5;28;01mreturn\u001B[39;00m exp\u001B[38;5;241m.\u001B[39mCounterfactualExamples(data_interface\u001B[38;5;241m=\u001B[39m\u001B[38;5;28mself\u001B[39m\u001B[38;5;241m.\u001B[39mdata_interface,\n\u001B[0;32m    297\u001B[0m                                   test_instance_df\u001B[38;5;241m=\u001B[39mquery_instance_df,\n\u001B[0;32m    298\u001B[0m                                   final_cfs_df\u001B[38;5;241m=\u001B[39m\u001B[38;5;28mself\u001B[39m\u001B[38;5;241m.\u001B[39mfinal_cfs_df,\n\u001B[1;32m   (...)\u001B[0m\n\u001B[0;32m    302\u001B[0m                                   desired_class\u001B[38;5;241m=\u001B[39mdesired_class,\n\u001B[0;32m    303\u001B[0m                                   model_type\u001B[38;5;241m=\u001B[39m\u001B[38;5;28mself\u001B[39m\u001B[38;5;241m.\u001B[39mmodel\u001B[38;5;241m.\u001B[39mmodel_type)\n",
      "File \u001B[1;32m~\\OneDrive\\Dokumenty\\Inzynierka\\ML-for-TTRPG-game-design\\venv\\lib\\site-packages\\dice_ml\\explainer_interfaces\\dice_genetic.py:194\u001B[0m, in \u001B[0;36mDiceGenetic.do_param_initializations\u001B[1;34m(self, total_CFs, initialization, desired_range, desired_class, query_instance, query_instance_df_dummies, algorithm, features_to_vary, permitted_range, yloss_type, diversity_loss_type, feature_weights, proximity_weight, sparsity_weight, diversity_weight, categorical_penalty, verbose)\u001B[0m\n\u001B[0;32m    192\u001B[0m \u001B[38;5;28mself\u001B[39m\u001B[38;5;241m.\u001B[39mfeature_range \u001B[38;5;241m=\u001B[39m \u001B[38;5;28mself\u001B[39m\u001B[38;5;241m.\u001B[39mget_valid_feature_range(normalized\u001B[38;5;241m=\u001B[39m\u001B[38;5;28;01mFalse\u001B[39;00m)\n\u001B[0;32m    193\u001B[0m \u001B[38;5;28;01mif\u001B[39;00m \u001B[38;5;28mlen\u001B[39m(\u001B[38;5;28mself\u001B[39m\u001B[38;5;241m.\u001B[39mcfs) \u001B[38;5;241m!=\u001B[39m total_CFs:\n\u001B[1;32m--> 194\u001B[0m     \u001B[38;5;28;43mself\u001B[39;49m\u001B[38;5;241;43m.\u001B[39;49m\u001B[43mdo_cf_initializations\u001B[49m\u001B[43m(\u001B[49m\n\u001B[0;32m    195\u001B[0m \u001B[43m        \u001B[49m\u001B[43mtotal_CFs\u001B[49m\u001B[43m,\u001B[49m\u001B[43m \u001B[49m\u001B[43minitialization\u001B[49m\u001B[43m,\u001B[49m\u001B[43m \u001B[49m\u001B[43malgorithm\u001B[49m\u001B[43m,\u001B[49m\u001B[43m \u001B[49m\u001B[43mfeatures_to_vary\u001B[49m\u001B[43m,\u001B[49m\u001B[43m \u001B[49m\u001B[43mdesired_range\u001B[49m\u001B[43m,\u001B[49m\u001B[43m \u001B[49m\u001B[43mdesired_class\u001B[49m\u001B[43m,\u001B[49m\n\u001B[0;32m    196\u001B[0m \u001B[43m        \u001B[49m\u001B[43mquery_instance\u001B[49m\u001B[43m,\u001B[49m\u001B[43m \u001B[49m\u001B[43mquery_instance_df_dummies\u001B[49m\u001B[43m,\u001B[49m\u001B[43m \u001B[49m\u001B[43mverbose\u001B[49m\u001B[43m)\u001B[49m\n\u001B[0;32m    197\u001B[0m \u001B[38;5;28;01melse\u001B[39;00m:\n\u001B[0;32m    198\u001B[0m     \u001B[38;5;28mself\u001B[39m\u001B[38;5;241m.\u001B[39mtotal_CFs \u001B[38;5;241m=\u001B[39m total_CFs\n",
      "File \u001B[1;32m~\\OneDrive\\Dokumenty\\Inzynierka\\ML-for-TTRPG-game-design\\venv\\lib\\site-packages\\dice_ml\\explainer_interfaces\\dice_genetic.py:180\u001B[0m, in \u001B[0;36mDiceGenetic.do_cf_initializations\u001B[1;34m(self, total_CFs, initialization, algorithm, features_to_vary, desired_range, desired_class, query_instance, query_instance_df_dummies, verbose)\u001B[0m\n\u001B[0;32m    178\u001B[0m         indices \u001B[38;5;241m=\u001B[39m \u001B[38;5;28mself\u001B[39m\u001B[38;5;241m.\u001B[39mKD_tree\u001B[38;5;241m.\u001B[39mquery(query_instance_df_dummies, num_queries)[\u001B[38;5;241m1\u001B[39m][\u001B[38;5;241m0\u001B[39m]\n\u001B[0;32m    179\u001B[0m         KD_tree_output \u001B[38;5;241m=\u001B[39m \u001B[38;5;28mself\u001B[39m\u001B[38;5;241m.\u001B[39mdataset_with_predictions\u001B[38;5;241m.\u001B[39miloc[indices]\u001B[38;5;241m.\u001B[39mcopy()\n\u001B[1;32m--> 180\u001B[0m         \u001B[38;5;28;43mself\u001B[39;49m\u001B[38;5;241;43m.\u001B[39;49m\u001B[43mdo_KD_init\u001B[49m\u001B[43m(\u001B[49m\u001B[43mfeatures_to_vary\u001B[49m\u001B[43m,\u001B[49m\u001B[43m \u001B[49m\u001B[43mquery_instance\u001B[49m\u001B[43m,\u001B[49m\u001B[43m \u001B[49m\u001B[43mKD_tree_output\u001B[49m\u001B[43m,\u001B[49m\u001B[43m \u001B[49m\u001B[43mdesired_class\u001B[49m\u001B[43m,\u001B[49m\u001B[43m \u001B[49m\u001B[43mdesired_range\u001B[49m\u001B[43m)\u001B[49m\n\u001B[0;32m    182\u001B[0m \u001B[38;5;28;01mif\u001B[39;00m verbose:\n\u001B[0;32m    183\u001B[0m     \u001B[38;5;28mprint\u001B[39m(\u001B[38;5;124m\"\u001B[39m\u001B[38;5;124mInitialization complete! Generating counterfactuals...\u001B[39m\u001B[38;5;124m\"\u001B[39m)\n",
      "File \u001B[1;32m~\\OneDrive\\Dokumenty\\Inzynierka\\ML-for-TTRPG-game-design\\venv\\lib\\site-packages\\dice_ml\\explainer_interfaces\\dice_genetic.py:140\u001B[0m, in \u001B[0;36mDiceGenetic.do_KD_init\u001B[1;34m(self, features_to_vary, query_instance, cfs, desired_class, desired_range)\u001B[0m\n\u001B[0;32m    137\u001B[0m uniques \u001B[38;5;241m=\u001B[39m np\u001B[38;5;241m.\u001B[39munique(new_array, axis\u001B[38;5;241m=\u001B[39m\u001B[38;5;241m0\u001B[39m)\n\u001B[0;32m    139\u001B[0m \u001B[38;5;28;01mif\u001B[39;00m \u001B[38;5;28mlen\u001B[39m(uniques) \u001B[38;5;241m!=\u001B[39m \u001B[38;5;28mself\u001B[39m\u001B[38;5;241m.\u001B[39mpopulation_size:\n\u001B[1;32m--> 140\u001B[0m     remaining_cfs \u001B[38;5;241m=\u001B[39m \u001B[38;5;28;43mself\u001B[39;49m\u001B[38;5;241;43m.\u001B[39;49m\u001B[43mdo_random_init\u001B[49m\u001B[43m(\u001B[49m\n\u001B[0;32m    141\u001B[0m \u001B[43m        \u001B[49m\u001B[38;5;28;43mself\u001B[39;49m\u001B[38;5;241;43m.\u001B[39;49m\u001B[43mpopulation_size\u001B[49m\u001B[43m \u001B[49m\u001B[38;5;241;43m-\u001B[39;49m\u001B[43m \u001B[49m\u001B[38;5;28;43mlen\u001B[39;49m\u001B[43m(\u001B[49m\u001B[43muniques\u001B[49m\u001B[43m)\u001B[49m\u001B[43m,\u001B[49m\u001B[43m \u001B[49m\u001B[43mfeatures_to_vary\u001B[49m\u001B[43m,\u001B[49m\u001B[43m \u001B[49m\u001B[43mquery_instance\u001B[49m\u001B[43m,\u001B[49m\u001B[43m \u001B[49m\u001B[43mdesired_class\u001B[49m\u001B[43m,\u001B[49m\u001B[43m \u001B[49m\u001B[43mdesired_range\u001B[49m\u001B[43m)\u001B[49m\n\u001B[0;32m    142\u001B[0m     \u001B[38;5;28mself\u001B[39m\u001B[38;5;241m.\u001B[39mcfs \u001B[38;5;241m=\u001B[39m np\u001B[38;5;241m.\u001B[39mconcatenate([uniques, remaining_cfs])\n",
      "File \u001B[1;32m~\\OneDrive\\Dokumenty\\Inzynierka\\ML-for-TTRPG-game-design\\venv\\lib\\site-packages\\dice_ml\\explainer_interfaces\\dice_genetic.py:98\u001B[0m, in \u001B[0;36mDiceGenetic.do_random_init\u001B[1;34m(self, num_inits, features_to_vary, query_instance, desired_class, desired_range)\u001B[0m\n\u001B[0;32m     96\u001B[0m     \u001B[38;5;28;01melse\u001B[39;00m:\n\u001B[0;32m     97\u001B[0m         one_init[jx] \u001B[38;5;241m=\u001B[39m query_instance[jx]\n\u001B[1;32m---> 98\u001B[0m \u001B[38;5;28;01mif\u001B[39;00m \u001B[38;5;28mself\u001B[39m\u001B[38;5;241m.\u001B[39mis_cf_valid(\u001B[38;5;28;43mself\u001B[39;49m\u001B[38;5;241;43m.\u001B[39;49m\u001B[43mpredict_fn_scores\u001B[49m\u001B[43m(\u001B[49m\u001B[43mone_init\u001B[49m\u001B[43m)\u001B[49m):\n\u001B[0;32m     99\u001B[0m     remaining_cfs[kx] \u001B[38;5;241m=\u001B[39m one_init\n\u001B[0;32m    100\u001B[0m     kx \u001B[38;5;241m+\u001B[39m\u001B[38;5;241m=\u001B[39m \u001B[38;5;241m1\u001B[39m\n",
      "File \u001B[1;32m~\\OneDrive\\Dokumenty\\Inzynierka\\ML-for-TTRPG-game-design\\venv\\lib\\site-packages\\dice_ml\\explainer_interfaces\\dice_genetic.py:308\u001B[0m, in \u001B[0;36mDiceGenetic.predict_fn_scores\u001B[1;34m(self, input_instance)\u001B[0m\n\u001B[0;32m    306\u001B[0m \u001B[38;5;250m\u001B[39m\u001B[38;5;124;03m\"\"\"Returns prediction scores.\"\"\"\u001B[39;00m\n\u001B[0;32m    307\u001B[0m input_instance \u001B[38;5;241m=\u001B[39m \u001B[38;5;28mself\u001B[39m\u001B[38;5;241m.\u001B[39mlabel_decode(input_instance)\n\u001B[1;32m--> 308\u001B[0m out \u001B[38;5;241m=\u001B[39m \u001B[38;5;28;43mself\u001B[39;49m\u001B[38;5;241;43m.\u001B[39;49m\u001B[43mmodel\u001B[49m\u001B[38;5;241;43m.\u001B[39;49m\u001B[43mget_output\u001B[49m\u001B[43m(\u001B[49m\u001B[43minput_instance\u001B[49m\u001B[43m)\u001B[49m\n\u001B[0;32m    309\u001B[0m \u001B[38;5;28;01mif\u001B[39;00m \u001B[38;5;28mself\u001B[39m\u001B[38;5;241m.\u001B[39mmodel\u001B[38;5;241m.\u001B[39mmodel_type \u001B[38;5;241m==\u001B[39m ModelTypes\u001B[38;5;241m.\u001B[39mClassifier \u001B[38;5;129;01mand\u001B[39;00m out\u001B[38;5;241m.\u001B[39mshape[\u001B[38;5;241m1\u001B[39m] \u001B[38;5;241m==\u001B[39m \u001B[38;5;241m1\u001B[39m:\n\u001B[0;32m    310\u001B[0m     \u001B[38;5;66;03m# DL models return only 1 for binary classification\u001B[39;00m\n\u001B[0;32m    311\u001B[0m     out \u001B[38;5;241m=\u001B[39m np\u001B[38;5;241m.\u001B[39mhstack((\u001B[38;5;241m1\u001B[39m\u001B[38;5;241m-\u001B[39mout, out))\n",
      "File \u001B[1;32m~\\OneDrive\\Dokumenty\\Inzynierka\\ML-for-TTRPG-game-design\\venv\\lib\\site-packages\\dice_ml\\model_interfaces\\base_model.py:56\u001B[0m, in \u001B[0;36mBaseModel.get_output\u001B[1;34m(self, input_instance, model_score)\u001B[0m\n\u001B[0;32m     54\u001B[0m         \u001B[38;5;28;01mreturn\u001B[39;00m \u001B[38;5;28mself\u001B[39m\u001B[38;5;241m.\u001B[39mmodel\u001B[38;5;241m.\u001B[39mpredict_proba(input_instance)\n\u001B[0;32m     55\u001B[0m     \u001B[38;5;28;01melse\u001B[39;00m:\n\u001B[1;32m---> 56\u001B[0m         \u001B[38;5;28;01mreturn\u001B[39;00m \u001B[38;5;28;43mself\u001B[39;49m\u001B[38;5;241;43m.\u001B[39;49m\u001B[43mmodel\u001B[49m\u001B[38;5;241;43m.\u001B[39;49m\u001B[43mpredict\u001B[49m\u001B[43m(\u001B[49m\u001B[43minput_instance\u001B[49m\u001B[43m)\u001B[49m\n\u001B[0;32m     57\u001B[0m \u001B[38;5;28;01melse\u001B[39;00m:\n\u001B[0;32m     58\u001B[0m     \u001B[38;5;28;01mreturn\u001B[39;00m \u001B[38;5;28mself\u001B[39m\u001B[38;5;241m.\u001B[39mmodel\u001B[38;5;241m.\u001B[39mpredict(input_instance)\n",
      "File \u001B[1;32m~\\OneDrive\\Dokumenty\\Inzynierka\\ML-for-TTRPG-game-design\\venv\\lib\\site-packages\\lightgbm\\basic.py:4220\u001B[0m, in \u001B[0;36mBooster.predict\u001B[1;34m(self, data, start_iteration, num_iteration, raw_score, pred_leaf, pred_contrib, data_has_header, validate_features, **kwargs)\u001B[0m\n\u001B[0;32m   4218\u001B[0m     \u001B[38;5;28;01melse\u001B[39;00m:\n\u001B[0;32m   4219\u001B[0m         num_iteration \u001B[38;5;241m=\u001B[39m \u001B[38;5;241m-\u001B[39m\u001B[38;5;241m1\u001B[39m\n\u001B[1;32m-> 4220\u001B[0m \u001B[38;5;28;01mreturn\u001B[39;00m \u001B[43mpredictor\u001B[49m\u001B[38;5;241;43m.\u001B[39;49m\u001B[43mpredict\u001B[49m\u001B[43m(\u001B[49m\n\u001B[0;32m   4221\u001B[0m \u001B[43m    \u001B[49m\u001B[43mdata\u001B[49m\u001B[38;5;241;43m=\u001B[39;49m\u001B[43mdata\u001B[49m\u001B[43m,\u001B[49m\n\u001B[0;32m   4222\u001B[0m \u001B[43m    \u001B[49m\u001B[43mstart_iteration\u001B[49m\u001B[38;5;241;43m=\u001B[39;49m\u001B[43mstart_iteration\u001B[49m\u001B[43m,\u001B[49m\n\u001B[0;32m   4223\u001B[0m \u001B[43m    \u001B[49m\u001B[43mnum_iteration\u001B[49m\u001B[38;5;241;43m=\u001B[39;49m\u001B[43mnum_iteration\u001B[49m\u001B[43m,\u001B[49m\n\u001B[0;32m   4224\u001B[0m \u001B[43m    \u001B[49m\u001B[43mraw_score\u001B[49m\u001B[38;5;241;43m=\u001B[39;49m\u001B[43mraw_score\u001B[49m\u001B[43m,\u001B[49m\n\u001B[0;32m   4225\u001B[0m \u001B[43m    \u001B[49m\u001B[43mpred_leaf\u001B[49m\u001B[38;5;241;43m=\u001B[39;49m\u001B[43mpred_leaf\u001B[49m\u001B[43m,\u001B[49m\n\u001B[0;32m   4226\u001B[0m \u001B[43m    \u001B[49m\u001B[43mpred_contrib\u001B[49m\u001B[38;5;241;43m=\u001B[39;49m\u001B[43mpred_contrib\u001B[49m\u001B[43m,\u001B[49m\n\u001B[0;32m   4227\u001B[0m \u001B[43m    \u001B[49m\u001B[43mdata_has_header\u001B[49m\u001B[38;5;241;43m=\u001B[39;49m\u001B[43mdata_has_header\u001B[49m\u001B[43m,\u001B[49m\n\u001B[0;32m   4228\u001B[0m \u001B[43m    \u001B[49m\u001B[43mvalidate_features\u001B[49m\u001B[38;5;241;43m=\u001B[39;49m\u001B[43mvalidate_features\u001B[49m\n\u001B[0;32m   4229\u001B[0m \u001B[43m\u001B[49m\u001B[43m)\u001B[49m\n",
      "File \u001B[1;32m~\\OneDrive\\Dokumenty\\Inzynierka\\ML-for-TTRPG-game-design\\venv\\lib\\site-packages\\lightgbm\\basic.py:1047\u001B[0m, in \u001B[0;36m_InnerPredictor.predict\u001B[1;34m(self, data, start_iteration, num_iteration, raw_score, pred_leaf, pred_contrib, data_has_header, validate_features)\u001B[0m\n\u001B[0;32m   1040\u001B[0m     preds, nrow \u001B[38;5;241m=\u001B[39m \u001B[38;5;28mself\u001B[39m\u001B[38;5;241m.\u001B[39m__pred_for_csc(\n\u001B[0;32m   1041\u001B[0m         csc\u001B[38;5;241m=\u001B[39mdata,\n\u001B[0;32m   1042\u001B[0m         start_iteration\u001B[38;5;241m=\u001B[39mstart_iteration,\n\u001B[0;32m   1043\u001B[0m         num_iteration\u001B[38;5;241m=\u001B[39mnum_iteration,\n\u001B[0;32m   1044\u001B[0m         predict_type\u001B[38;5;241m=\u001B[39mpredict_type\n\u001B[0;32m   1045\u001B[0m     )\n\u001B[0;32m   1046\u001B[0m \u001B[38;5;28;01melif\u001B[39;00m \u001B[38;5;28misinstance\u001B[39m(data, np\u001B[38;5;241m.\u001B[39mndarray):\n\u001B[1;32m-> 1047\u001B[0m     preds, nrow \u001B[38;5;241m=\u001B[39m \u001B[38;5;28;43mself\u001B[39;49m\u001B[38;5;241;43m.\u001B[39;49m\u001B[43m__pred_for_np2d\u001B[49m\u001B[43m(\u001B[49m\n\u001B[0;32m   1048\u001B[0m \u001B[43m        \u001B[49m\u001B[43mmat\u001B[49m\u001B[38;5;241;43m=\u001B[39;49m\u001B[43mdata\u001B[49m\u001B[43m,\u001B[49m\n\u001B[0;32m   1049\u001B[0m \u001B[43m        \u001B[49m\u001B[43mstart_iteration\u001B[49m\u001B[38;5;241;43m=\u001B[39;49m\u001B[43mstart_iteration\u001B[49m\u001B[43m,\u001B[49m\n\u001B[0;32m   1050\u001B[0m \u001B[43m        \u001B[49m\u001B[43mnum_iteration\u001B[49m\u001B[38;5;241;43m=\u001B[39;49m\u001B[43mnum_iteration\u001B[49m\u001B[43m,\u001B[49m\n\u001B[0;32m   1051\u001B[0m \u001B[43m        \u001B[49m\u001B[43mpredict_type\u001B[49m\u001B[38;5;241;43m=\u001B[39;49m\u001B[43mpredict_type\u001B[49m\n\u001B[0;32m   1052\u001B[0m \u001B[43m    \u001B[49m\u001B[43m)\u001B[49m\n\u001B[0;32m   1053\u001B[0m \u001B[38;5;28;01melif\u001B[39;00m \u001B[38;5;28misinstance\u001B[39m(data, \u001B[38;5;28mlist\u001B[39m):\n\u001B[0;32m   1054\u001B[0m     \u001B[38;5;28;01mtry\u001B[39;00m:\n",
      "File \u001B[1;32m~\\OneDrive\\Dokumenty\\Inzynierka\\ML-for-TTRPG-game-design\\venv\\lib\\site-packages\\lightgbm\\basic.py:1187\u001B[0m, in \u001B[0;36m_InnerPredictor.__pred_for_np2d\u001B[1;34m(self, mat, start_iteration, num_iteration, predict_type)\u001B[0m\n\u001B[0;32m   1185\u001B[0m     \u001B[38;5;28;01mreturn\u001B[39;00m preds, nrow\n\u001B[0;32m   1186\u001B[0m \u001B[38;5;28;01melse\u001B[39;00m:\n\u001B[1;32m-> 1187\u001B[0m     \u001B[38;5;28;01mreturn\u001B[39;00m \u001B[38;5;28;43mself\u001B[39;49m\u001B[38;5;241;43m.\u001B[39;49m\u001B[43m__inner_predict_np2d\u001B[49m\u001B[43m(\u001B[49m\n\u001B[0;32m   1188\u001B[0m \u001B[43m        \u001B[49m\u001B[43mmat\u001B[49m\u001B[38;5;241;43m=\u001B[39;49m\u001B[43mmat\u001B[49m\u001B[43m,\u001B[49m\n\u001B[0;32m   1189\u001B[0m \u001B[43m        \u001B[49m\u001B[43mstart_iteration\u001B[49m\u001B[38;5;241;43m=\u001B[39;49m\u001B[43mstart_iteration\u001B[49m\u001B[43m,\u001B[49m\n\u001B[0;32m   1190\u001B[0m \u001B[43m        \u001B[49m\u001B[43mnum_iteration\u001B[49m\u001B[38;5;241;43m=\u001B[39;49m\u001B[43mnum_iteration\u001B[49m\u001B[43m,\u001B[49m\n\u001B[0;32m   1191\u001B[0m \u001B[43m        \u001B[49m\u001B[43mpredict_type\u001B[49m\u001B[38;5;241;43m=\u001B[39;49m\u001B[43mpredict_type\u001B[49m\u001B[43m,\u001B[49m\n\u001B[0;32m   1192\u001B[0m \u001B[43m        \u001B[49m\u001B[43mpreds\u001B[49m\u001B[38;5;241;43m=\u001B[39;49m\u001B[38;5;28;43;01mNone\u001B[39;49;00m\n\u001B[0;32m   1193\u001B[0m \u001B[43m    \u001B[49m\u001B[43m)\u001B[49m\n",
      "File \u001B[1;32m~\\OneDrive\\Dokumenty\\Inzynierka\\ML-for-TTRPG-game-design\\venv\\lib\\site-packages\\lightgbm\\basic.py:1140\u001B[0m, in \u001B[0;36m_InnerPredictor.__inner_predict_np2d\u001B[1;34m(self, mat, start_iteration, num_iteration, predict_type, preds)\u001B[0m\n\u001B[0;32m   1138\u001B[0m     \u001B[38;5;28;01mraise\u001B[39;00m \u001B[38;5;167;01mValueError\u001B[39;00m(\u001B[38;5;124m\"\u001B[39m\u001B[38;5;124mWrong length of pre-allocated predict array\u001B[39m\u001B[38;5;124m\"\u001B[39m)\n\u001B[0;32m   1139\u001B[0m out_num_preds \u001B[38;5;241m=\u001B[39m ctypes\u001B[38;5;241m.\u001B[39mc_int64(\u001B[38;5;241m0\u001B[39m)\n\u001B[1;32m-> 1140\u001B[0m _safe_call(\u001B[43m_LIB\u001B[49m\u001B[38;5;241;43m.\u001B[39;49m\u001B[43mLGBM_BoosterPredictForMat\u001B[49m\u001B[43m(\u001B[49m\n\u001B[0;32m   1141\u001B[0m \u001B[43m    \u001B[49m\u001B[38;5;28;43mself\u001B[39;49m\u001B[38;5;241;43m.\u001B[39;49m\u001B[43m_handle\u001B[49m\u001B[43m,\u001B[49m\n\u001B[0;32m   1142\u001B[0m \u001B[43m    \u001B[49m\u001B[43mptr_data\u001B[49m\u001B[43m,\u001B[49m\n\u001B[0;32m   1143\u001B[0m \u001B[43m    \u001B[49m\u001B[43mctypes\u001B[49m\u001B[38;5;241;43m.\u001B[39;49m\u001B[43mc_int\u001B[49m\u001B[43m(\u001B[49m\u001B[43mtype_ptr_data\u001B[49m\u001B[43m)\u001B[49m\u001B[43m,\u001B[49m\n\u001B[0;32m   1144\u001B[0m \u001B[43m    \u001B[49m\u001B[43mctypes\u001B[49m\u001B[38;5;241;43m.\u001B[39;49m\u001B[43mc_int32\u001B[49m\u001B[43m(\u001B[49m\u001B[43mmat\u001B[49m\u001B[38;5;241;43m.\u001B[39;49m\u001B[43mshape\u001B[49m\u001B[43m[\u001B[49m\u001B[38;5;241;43m0\u001B[39;49m\u001B[43m]\u001B[49m\u001B[43m)\u001B[49m\u001B[43m,\u001B[49m\n\u001B[0;32m   1145\u001B[0m \u001B[43m    \u001B[49m\u001B[43mctypes\u001B[49m\u001B[38;5;241;43m.\u001B[39;49m\u001B[43mc_int32\u001B[49m\u001B[43m(\u001B[49m\u001B[43mmat\u001B[49m\u001B[38;5;241;43m.\u001B[39;49m\u001B[43mshape\u001B[49m\u001B[43m[\u001B[49m\u001B[38;5;241;43m1\u001B[39;49m\u001B[43m]\u001B[49m\u001B[43m)\u001B[49m\u001B[43m,\u001B[49m\n\u001B[0;32m   1146\u001B[0m \u001B[43m    \u001B[49m\u001B[43mctypes\u001B[49m\u001B[38;5;241;43m.\u001B[39;49m\u001B[43mc_int\u001B[49m\u001B[43m(\u001B[49m\u001B[43m_C_API_IS_ROW_MAJOR\u001B[49m\u001B[43m)\u001B[49m\u001B[43m,\u001B[49m\n\u001B[0;32m   1147\u001B[0m \u001B[43m    \u001B[49m\u001B[43mctypes\u001B[49m\u001B[38;5;241;43m.\u001B[39;49m\u001B[43mc_int\u001B[49m\u001B[43m(\u001B[49m\u001B[43mpredict_type\u001B[49m\u001B[43m)\u001B[49m\u001B[43m,\u001B[49m\n\u001B[0;32m   1148\u001B[0m \u001B[43m    \u001B[49m\u001B[43mctypes\u001B[49m\u001B[38;5;241;43m.\u001B[39;49m\u001B[43mc_int\u001B[49m\u001B[43m(\u001B[49m\u001B[43mstart_iteration\u001B[49m\u001B[43m)\u001B[49m\u001B[43m,\u001B[49m\n\u001B[0;32m   1149\u001B[0m \u001B[43m    \u001B[49m\u001B[43mctypes\u001B[49m\u001B[38;5;241;43m.\u001B[39;49m\u001B[43mc_int\u001B[49m\u001B[43m(\u001B[49m\u001B[43mnum_iteration\u001B[49m\u001B[43m)\u001B[49m\u001B[43m,\u001B[49m\n\u001B[0;32m   1150\u001B[0m \u001B[43m    \u001B[49m\u001B[43m_c_str\u001B[49m\u001B[43m(\u001B[49m\u001B[38;5;28;43mself\u001B[39;49m\u001B[38;5;241;43m.\u001B[39;49m\u001B[43mpred_parameter\u001B[49m\u001B[43m)\u001B[49m\u001B[43m,\u001B[49m\n\u001B[0;32m   1151\u001B[0m \u001B[43m    \u001B[49m\u001B[43mctypes\u001B[49m\u001B[38;5;241;43m.\u001B[39;49m\u001B[43mbyref\u001B[49m\u001B[43m(\u001B[49m\u001B[43mout_num_preds\u001B[49m\u001B[43m)\u001B[49m\u001B[43m,\u001B[49m\n\u001B[0;32m   1152\u001B[0m \u001B[43m    \u001B[49m\u001B[43mpreds\u001B[49m\u001B[38;5;241;43m.\u001B[39;49m\u001B[43mctypes\u001B[49m\u001B[38;5;241;43m.\u001B[39;49m\u001B[43mdata_as\u001B[49m\u001B[43m(\u001B[49m\u001B[43mctypes\u001B[49m\u001B[38;5;241;43m.\u001B[39;49m\u001B[43mPOINTER\u001B[49m\u001B[43m(\u001B[49m\u001B[43mctypes\u001B[49m\u001B[38;5;241;43m.\u001B[39;49m\u001B[43mc_double\u001B[49m\u001B[43m)\u001B[49m\u001B[43m)\u001B[49m\u001B[43m)\u001B[49m)\n\u001B[0;32m   1153\u001B[0m \u001B[38;5;28;01mif\u001B[39;00m n_preds \u001B[38;5;241m!=\u001B[39m out_num_preds\u001B[38;5;241m.\u001B[39mvalue:\n\u001B[0;32m   1154\u001B[0m     \u001B[38;5;28;01mraise\u001B[39;00m \u001B[38;5;167;01mValueError\u001B[39;00m(\u001B[38;5;124m\"\u001B[39m\u001B[38;5;124mWrong length for predict results\u001B[39m\u001B[38;5;124m\"\u001B[39m)\n",
      "\u001B[1;31mKeyboardInterrupt\u001B[0m: "
     ]
    }
   ],
   "source": [
    "result = generate_counterfactuals(\n",
    "    monster_stats=orc_brute,\n",
    "    model=model,\n",
    "    new_level=1,\n",
    "    df=dataset,\n",
    "    total_cf=10,\n",
    "    ordered_characteristics=ORDERED_CHARACTERISTICS_50,\n",
    ")"
   ]
  },
  {
   "cell_type": "code",
   "execution_count": 15,
   "metadata": {
    "collapsed": false,
    "jupyter": {
     "outputs_hidden": false
    }
   },
   "outputs": [],
   "source": [
    "diff_columns = [f\"{col}_diff\" for col in ORDERED_CHARACTERISTICS_50]\n",
    "\n",
    "\n",
    "def compare_monsters(cfs, compare_to_monster):\n",
    "    compare_df = pd.DataFrame(columns=ORDERED_CHARACTERISTICS_50)\n",
    "    diff_df = pd.DataFrame(columns=diff_columns)\n",
    "\n",
    "    for cf in cfs:\n",
    "        cfs_comp_dict = dict()\n",
    "        diff_dict = dict()\n",
    "        for i, col in enumerate(ORDERED_CHARACTERISTICS_50):\n",
    "            val = cf[i]\n",
    "            cfs_comp_dict[col] = [val] if val != compare_to_monster[col] else [\"-\"]\n",
    "            diff_dict[f\"{col}_diff\"] = (\n",
    "                [val - compare_to_monster[col]]\n",
    "                if val != compare_to_monster[col]\n",
    "                else [\"-\"]\n",
    "            )\n",
    "\n",
    "        comparison = pd.DataFrame.from_dict(cfs_comp_dict)\n",
    "        difference = pd.DataFrame.from_dict(diff_dict)\n",
    "        compare_df = pd.concat([comparison, compare_df.loc[:]]).reset_index(drop=True)\n",
    "        diff_df = pd.concat([difference, diff_df]).reset_index(drop=True)\n",
    "\n",
    "    return compare_df, diff_df"
   ]
  },
  {
   "cell_type": "markdown",
   "source": [
    "##### Compare to original data"
   ],
   "metadata": {
    "collapsed": false
   }
  },
  {
   "cell_type": "code",
   "execution_count": null,
   "metadata": {
    "collapsed": false,
    "jupyter": {
     "outputs_hidden": false
    }
   },
   "outputs": [],
   "source": [
    "comp, diff = compare_monsters(result[\"values\"], orc_brute)\n",
    "comp"
   ]
  },
  {
   "cell_type": "code",
   "execution_count": null,
   "outputs": [],
   "source": [
    "diff"
   ],
   "metadata": {
    "collapsed": false
   }
  },
  {
   "cell_type": "markdown",
   "source": [
    "##### Compare to *Orc Warrior*"
   ],
   "metadata": {
    "collapsed": false
   }
  },
  {
   "cell_type": "code",
   "execution_count": null,
   "outputs": [],
   "source": [
    "comp, diff = compare_monsters(result[\"values\"], orc_warrior)\n",
    "comp"
   ],
   "metadata": {
    "collapsed": false
   }
  },
  {
   "cell_type": "code",
   "execution_count": null,
   "outputs": [],
   "source": [
    "diff"
   ],
   "metadata": {
    "collapsed": false
   }
  },
  {
   "cell_type": "code",
   "execution_count": null,
   "outputs": [],
   "source": [
    "result = generate_counterfactuals(\n",
    "    monster_stats=orc_brute,\n",
    "    model=model,\n",
    "    new_level=2,\n",
    "    df=dataset,\n",
    "    total_cf=10,\n",
    "    ordered_characteristics=ORDERED_CHARACTERISTICS_50,\n",
    ")"
   ],
   "metadata": {
    "collapsed": false
   }
  },
  {
   "cell_type": "markdown",
   "source": [
    "##### Compere to original data"
   ],
   "metadata": {
    "collapsed": false
   }
  },
  {
   "cell_type": "code",
   "execution_count": null,
   "outputs": [],
   "source": [
    "comp, diff = compare_monsters(result[\"values\"], orc_brute)\n",
    "comp"
   ],
   "metadata": {
    "collapsed": false
   }
  },
  {
   "cell_type": "code",
   "execution_count": null,
   "outputs": [],
   "source": [
    "diff"
   ],
   "metadata": {
    "collapsed": false
   }
  },
  {
   "cell_type": "markdown",
   "source": [
    "##### Compare to *Orc Warchief*"
   ],
   "metadata": {
    "collapsed": false
   }
  },
  {
   "cell_type": "code",
   "execution_count": null,
   "outputs": [],
   "source": [
    "comp, diff = compare_monsters(result[\"values\"], orc_warchief)\n",
    "comp"
   ],
   "metadata": {
    "collapsed": false
   }
  },
  {
   "cell_type": "code",
   "execution_count": null,
   "outputs": [],
   "source": [
    "diff"
   ],
   "metadata": {
    "collapsed": false
   }
  },
  {
   "cell_type": "markdown",
   "source": [
    "### Orc Warrior"
   ],
   "metadata": {
    "collapsed": false
   }
  },
  {
   "cell_type": "code",
   "execution_count": null,
   "outputs": [],
   "source": [
    "result = generate_counterfactuals(\n",
    "    monster_stats=orc_warrior,\n",
    "    model=model,\n",
    "    new_level=0,\n",
    "    df=dataset,\n",
    "    total_cf=5,\n",
    "    ordered_characteristics=ORDERED_CHARACTERISTICS_50,\n",
    ")"
   ],
   "metadata": {
    "collapsed": false
   }
  },
  {
   "cell_type": "markdown",
   "source": [
    "##### Compare to original data"
   ],
   "metadata": {
    "collapsed": false
   }
  },
  {
   "cell_type": "code",
   "execution_count": null,
   "outputs": [],
   "source": [
    "comp, diff = compare_monsters(result[\"values\"], orc_warrior)\n",
    "comp"
   ],
   "metadata": {
    "collapsed": false
   }
  },
  {
   "cell_type": "code",
   "execution_count": null,
   "outputs": [],
   "source": [
    "diff"
   ],
   "metadata": {
    "collapsed": false
   }
  },
  {
   "cell_type": "markdown",
   "source": [
    "##### Compare to *Orc brute*"
   ],
   "metadata": {
    "collapsed": false
   }
  },
  {
   "cell_type": "code",
   "execution_count": null,
   "outputs": [],
   "source": [
    "comp, diff = compare_monsters(result[\"values\"], orc_brute)\n",
    "comp"
   ],
   "metadata": {
    "collapsed": false
   }
  },
  {
   "cell_type": "code",
   "execution_count": null,
   "outputs": [],
   "source": [
    "diff"
   ],
   "metadata": {
    "collapsed": false
   }
  },
  {
   "cell_type": "code",
   "execution_count": null,
   "outputs": [],
   "source": [
    "result = generate_counterfactuals(\n",
    "    monster_stats=orc_warrior,\n",
    "    model=model,\n",
    "    new_level=2,\n",
    "    df=dataset,\n",
    "    total_cf=10,\n",
    "    ordered_characteristics=ORDERED_CHARACTERISTICS_50,\n",
    ")"
   ],
   "metadata": {
    "collapsed": false
   }
  },
  {
   "cell_type": "markdown",
   "source": [
    "##### Compare to original data"
   ],
   "metadata": {
    "collapsed": false
   }
  },
  {
   "cell_type": "code",
   "execution_count": null,
   "outputs": [],
   "source": [
    "comp, diff = compare_monsters(result[\"values\"], orc_warrior)\n",
    "comp"
   ],
   "metadata": {
    "collapsed": false
   }
  },
  {
   "cell_type": "code",
   "execution_count": null,
   "outputs": [],
   "source": [
    "diff"
   ],
   "metadata": {
    "collapsed": false
   }
  },
  {
   "cell_type": "markdown",
   "source": [
    "##### Compare to *Orc Warchief*"
   ],
   "metadata": {
    "collapsed": false
   }
  },
  {
   "cell_type": "code",
   "execution_count": null,
   "outputs": [],
   "source": [
    "comp, diff = compare_monsters(result[\"values\"], orc_warchief)\n",
    "comp"
   ],
   "metadata": {
    "collapsed": false
   }
  },
  {
   "cell_type": "code",
   "execution_count": null,
   "outputs": [],
   "source": [
    "diff"
   ],
   "metadata": {
    "collapsed": false
   }
  },
  {
   "cell_type": "markdown",
   "source": [
    "### Orc Warchief"
   ],
   "metadata": {
    "collapsed": false
   }
  },
  {
   "cell_type": "code",
   "execution_count": null,
   "outputs": [],
   "source": [
    "result = generate_counterfactuals(\n",
    "    monster_stats=orc_warchief,\n",
    "    model=model,\n",
    "    new_level=0,\n",
    "    df=dataset,\n",
    "    total_cf=10,\n",
    "    ordered_characteristics=ORDERED_CHARACTERISTICS_50,\n",
    ")"
   ],
   "metadata": {
    "collapsed": false
   }
  },
  {
   "cell_type": "markdown",
   "source": [
    "##### Compare to original data"
   ],
   "metadata": {
    "collapsed": false
   }
  },
  {
   "cell_type": "code",
   "execution_count": null,
   "outputs": [],
   "source": [
    "comp, diff = compare_monsters(result[\"values\"], orc_warchief)\n",
    "comp"
   ],
   "metadata": {
    "collapsed": false
   }
  },
  {
   "cell_type": "code",
   "execution_count": null,
   "outputs": [],
   "source": [
    "diff"
   ],
   "metadata": {
    "collapsed": false
   }
  },
  {
   "cell_type": "markdown",
   "source": [
    "##### Compare to *Orc brute*"
   ],
   "metadata": {
    "collapsed": false
   }
  },
  {
   "cell_type": "code",
   "execution_count": null,
   "outputs": [],
   "source": [
    "comp, diff = compare_monsters(result[\"values\"], orc_brute)\n",
    "comp"
   ],
   "metadata": {
    "collapsed": false
   }
  },
  {
   "cell_type": "code",
   "execution_count": null,
   "outputs": [],
   "source": [
    "diff"
   ],
   "metadata": {
    "collapsed": false
   }
  },
  {
   "cell_type": "code",
   "execution_count": null,
   "outputs": [],
   "source": [
    "result = generate_counterfactuals(\n",
    "    monster_stats=orc_warchief,\n",
    "    model=model,\n",
    "    new_level=1,\n",
    "    df=dataset,\n",
    "    total_cf=10,\n",
    "    ordered_characteristics=ORDERED_CHARACTERISTICS_50,\n",
    ")"
   ],
   "metadata": {
    "collapsed": false
   }
  },
  {
   "cell_type": "markdown",
   "source": [
    "##### Compare to original data"
   ],
   "metadata": {
    "collapsed": false
   }
  },
  {
   "cell_type": "code",
   "execution_count": null,
   "outputs": [],
   "source": [
    "comp, diff = compare_monsters(result[\"values\"], orc_warchief)\n",
    "comp"
   ],
   "metadata": {
    "collapsed": false
   }
  },
  {
   "cell_type": "code",
   "execution_count": null,
   "outputs": [],
   "source": [
    "diff"
   ],
   "metadata": {
    "collapsed": false
   }
  },
  {
   "cell_type": "markdown",
   "source": [
    "##### Compare to *Orc warrior*"
   ],
   "metadata": {
    "collapsed": false
   }
  },
  {
   "cell_type": "code",
   "execution_count": null,
   "outputs": [],
   "source": [
    "comp, diff = compare_monsters(result[\"values\"], orc_warrior)\n",
    "comp"
   ],
   "metadata": {
    "collapsed": false
   }
  },
  {
   "cell_type": "code",
   "execution_count": null,
   "outputs": [],
   "source": [
    "diff"
   ],
   "metadata": {
    "collapsed": false
   }
  }
 ],
 "metadata": {
  "kernelspec": {
   "display_name": "Python 3 (ipykernel)",
   "language": "python",
   "name": "python3"
  },
  "language_info": {
   "codemirror_mode": {
    "name": "ipython",
    "version": 3
   },
   "file_extension": ".py",
   "mimetype": "text/x-python",
   "name": "python",
   "nbconvert_exporter": "python",
   "pygments_lexer": "ipython3",
   "version": "3.10.8"
  }
 },
 "nbformat": 4,
 "nbformat_minor": 4
}
