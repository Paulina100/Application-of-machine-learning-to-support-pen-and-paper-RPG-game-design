{
 "cells": [
  {
   "cell_type": "markdown",
   "source": [
    "# Counterfactuals: orcs\n",
    "## 13 characteristics"
   ],
   "metadata": {
    "collapsed": false
   }
  },
  {
   "cell_type": "markdown",
   "source": [
    "## Prepare data"
   ],
   "metadata": {
    "collapsed": false
   }
  },
  {
   "cell_type": "code",
   "execution_count": 1,
   "metadata": {
    "collapsed": true
   },
   "outputs": [],
   "source": [
    "from training.creating_dataset import load_data, preprocess_data"
   ]
  },
  {
   "cell_type": "code",
   "execution_count": 2,
   "outputs": [],
   "source": [
    "import pandas as pd\n",
    "import sys\n",
    "\n",
    "import os\n",
    "import pathlib\n",
    "\n",
    "sys.path.append(\"../../..\")\n",
    "\n",
    "current_path = os.getcwd()\n",
    "current_path = os.getcwd()\n",
    "DATASETS_DIR = pathlib.Path(current_path).parent.parent.parent / \"pathfinder_2e_data\"\n",
    "DATASET_FILES = [\n",
    "    \"pathfinder-bestiary.db\",\n",
    "    \"pathfinder-bestiary-2.db\",\n",
    "    \"pathfinder-bestiary-3.db\",\n",
    "]\n",
    "DATASET_PATHS = [f\"{DATASETS_DIR}/{file}\" for file in DATASET_FILES]\n",
    "\n",
    "df = load_data(DATASET_PATHS)"
   ],
   "metadata": {
    "collapsed": false
   }
  },
  {
   "cell_type": "code",
   "execution_count": 3,
   "outputs": [
    {
     "data": {
      "text/plain": "                _id                                       img  \\\n0  024PqcF8yMRBrPuq  systems/pf2e/icons/default-icons/npc.svg   \n1  05E3kkjoLZVjFOeO  systems/pf2e/icons/default-icons/npc.svg   \n2  05wwpHHsBlxBbdkN  systems/pf2e/icons/default-icons/npc.svg   \n3  0FGz2eXm0SB04sJW  systems/pf2e/icons/default-icons/npc.svg   \n4  0HjVFx8qIKDCfblg  systems/pf2e/icons/default-icons/npc.svg   \n\n                                               items                  name  \\\n0  [{'_id': 'B7rzf0nBJmzg8x0y', 'img': 'systems/p...    Adult White Dragon   \n1  [{'_id': 'mYNDkS27YQRyy1F0', 'img': 'systems/p...          Brontosaurus   \n2  [{'_id': 'WkPeg600zGONsuJz', 'img': 'systems/p...        Giant Anaconda   \n3  [{'_id': 'joBYS96mXSnZC1WB', 'img': 'systems/p...  Ancient Green Dragon   \n4  [{'_id': 'xlUnQcjrxeMXu5Cd', 'img': 'systems/p...        Lantern Archon   \n\n  type  system.abilities.cha.mod  system.abilities.con.mod  \\\n0  npc                         1                         5   \n1  npc                         1                         5   \n2  npc                        -2                         6   \n3  npc                         6                         5   \n4  npc                         1                         1   \n\n   system.abilities.dex.mod  system.abilities.int.mod  \\\n0                         2                         1   \n1                         0                        -4   \n2                         3                        -4   \n3                         4                         6   \n4                         3                        -1   \n\n   system.abilities.str.mod  ...  system.traits.size.value  \\\n0                         7  ...                        lg   \n1                         9  ...                       grg   \n2                         7  ...                      huge   \n3                         7  ...                       grg   \n4                        -5  ...                        sm   \n\n    system.traits.value  system.schema.version system.schema.lastMigration  \\\n0        [cold, dragon]                  0.827                        None   \n1    [animal, dinosaur]                  0.827                        None   \n2              [animal]                  0.827                        None   \n3  [amphibious, dragon]                  0.827                        None   \n4   [archon, celestial]                  0.827                        None   \n\n                                 flags.core.sourceId  \\\n0  Compendium.pf2e.pathfinder-bestiary.024PqcF8yM...   \n1  Compendium.pf2e.pathfinder-bestiary.05E3kkjoLZ...   \n2  Compendium.pf2e.pathfinder-bestiary.05wwpHHsBl...   \n3  Compendium.pf2e.pathfinder-bestiary.0FGz2eXm0S...   \n4  Compendium.pf2e.pathfinder-bestiary.0HjVFx8qIK...   \n\n    system.attributes.resistances  system.traits.attitude.value  \\\n0                             NaN                           NaN   \n1                             NaN                           NaN   \n2                             NaN                           NaN   \n3                             NaN                           NaN   \n4  [{'type': 'fire', 'value': 3}]                           NaN   \n\n   prototypeToken.name system.attributes.hardness.value  \\\n0                  NaN                              NaN   \n1                  NaN                              NaN   \n2                  NaN                              NaN   \n3                  NaN                              NaN   \n4                  NaN                              NaN   \n\n  system.attributes.adjustment  \n0                          NaN  \n1                          NaN  \n2                          NaN  \n3                          NaN  \n4                          NaN  \n\n[5 rows x 55 columns]",
      "text/html": "<div>\n<style scoped>\n    .dataframe tbody tr th:only-of-type {\n        vertical-align: middle;\n    }\n\n    .dataframe tbody tr th {\n        vertical-align: top;\n    }\n\n    .dataframe thead th {\n        text-align: right;\n    }\n</style>\n<table border=\"1\" class=\"dataframe\">\n  <thead>\n    <tr style=\"text-align: right;\">\n      <th></th>\n      <th>_id</th>\n      <th>img</th>\n      <th>items</th>\n      <th>name</th>\n      <th>type</th>\n      <th>system.abilities.cha.mod</th>\n      <th>system.abilities.con.mod</th>\n      <th>system.abilities.dex.mod</th>\n      <th>system.abilities.int.mod</th>\n      <th>system.abilities.str.mod</th>\n      <th>...</th>\n      <th>system.traits.size.value</th>\n      <th>system.traits.value</th>\n      <th>system.schema.version</th>\n      <th>system.schema.lastMigration</th>\n      <th>flags.core.sourceId</th>\n      <th>system.attributes.resistances</th>\n      <th>system.traits.attitude.value</th>\n      <th>prototypeToken.name</th>\n      <th>system.attributes.hardness.value</th>\n      <th>system.attributes.adjustment</th>\n    </tr>\n  </thead>\n  <tbody>\n    <tr>\n      <th>0</th>\n      <td>024PqcF8yMRBrPuq</td>\n      <td>systems/pf2e/icons/default-icons/npc.svg</td>\n      <td>[{'_id': 'B7rzf0nBJmzg8x0y', 'img': 'systems/p...</td>\n      <td>Adult White Dragon</td>\n      <td>npc</td>\n      <td>1</td>\n      <td>5</td>\n      <td>2</td>\n      <td>1</td>\n      <td>7</td>\n      <td>...</td>\n      <td>lg</td>\n      <td>[cold, dragon]</td>\n      <td>0.827</td>\n      <td>None</td>\n      <td>Compendium.pf2e.pathfinder-bestiary.024PqcF8yM...</td>\n      <td>NaN</td>\n      <td>NaN</td>\n      <td>NaN</td>\n      <td>NaN</td>\n      <td>NaN</td>\n    </tr>\n    <tr>\n      <th>1</th>\n      <td>05E3kkjoLZVjFOeO</td>\n      <td>systems/pf2e/icons/default-icons/npc.svg</td>\n      <td>[{'_id': 'mYNDkS27YQRyy1F0', 'img': 'systems/p...</td>\n      <td>Brontosaurus</td>\n      <td>npc</td>\n      <td>1</td>\n      <td>5</td>\n      <td>0</td>\n      <td>-4</td>\n      <td>9</td>\n      <td>...</td>\n      <td>grg</td>\n      <td>[animal, dinosaur]</td>\n      <td>0.827</td>\n      <td>None</td>\n      <td>Compendium.pf2e.pathfinder-bestiary.05E3kkjoLZ...</td>\n      <td>NaN</td>\n      <td>NaN</td>\n      <td>NaN</td>\n      <td>NaN</td>\n      <td>NaN</td>\n    </tr>\n    <tr>\n      <th>2</th>\n      <td>05wwpHHsBlxBbdkN</td>\n      <td>systems/pf2e/icons/default-icons/npc.svg</td>\n      <td>[{'_id': 'WkPeg600zGONsuJz', 'img': 'systems/p...</td>\n      <td>Giant Anaconda</td>\n      <td>npc</td>\n      <td>-2</td>\n      <td>6</td>\n      <td>3</td>\n      <td>-4</td>\n      <td>7</td>\n      <td>...</td>\n      <td>huge</td>\n      <td>[animal]</td>\n      <td>0.827</td>\n      <td>None</td>\n      <td>Compendium.pf2e.pathfinder-bestiary.05wwpHHsBl...</td>\n      <td>NaN</td>\n      <td>NaN</td>\n      <td>NaN</td>\n      <td>NaN</td>\n      <td>NaN</td>\n    </tr>\n    <tr>\n      <th>3</th>\n      <td>0FGz2eXm0SB04sJW</td>\n      <td>systems/pf2e/icons/default-icons/npc.svg</td>\n      <td>[{'_id': 'joBYS96mXSnZC1WB', 'img': 'systems/p...</td>\n      <td>Ancient Green Dragon</td>\n      <td>npc</td>\n      <td>6</td>\n      <td>5</td>\n      <td>4</td>\n      <td>6</td>\n      <td>7</td>\n      <td>...</td>\n      <td>grg</td>\n      <td>[amphibious, dragon]</td>\n      <td>0.827</td>\n      <td>None</td>\n      <td>Compendium.pf2e.pathfinder-bestiary.0FGz2eXm0S...</td>\n      <td>NaN</td>\n      <td>NaN</td>\n      <td>NaN</td>\n      <td>NaN</td>\n      <td>NaN</td>\n    </tr>\n    <tr>\n      <th>4</th>\n      <td>0HjVFx8qIKDCfblg</td>\n      <td>systems/pf2e/icons/default-icons/npc.svg</td>\n      <td>[{'_id': 'xlUnQcjrxeMXu5Cd', 'img': 'systems/p...</td>\n      <td>Lantern Archon</td>\n      <td>npc</td>\n      <td>1</td>\n      <td>1</td>\n      <td>3</td>\n      <td>-1</td>\n      <td>-5</td>\n      <td>...</td>\n      <td>sm</td>\n      <td>[archon, celestial]</td>\n      <td>0.827</td>\n      <td>None</td>\n      <td>Compendium.pf2e.pathfinder-bestiary.0HjVFx8qIK...</td>\n      <td>[{'type': 'fire', 'value': 3}]</td>\n      <td>NaN</td>\n      <td>NaN</td>\n      <td>NaN</td>\n      <td>NaN</td>\n    </tr>\n  </tbody>\n</table>\n<p>5 rows × 55 columns</p>\n</div>"
     },
     "execution_count": 3,
     "metadata": {},
     "output_type": "execute_result"
    }
   ],
   "source": [
    "df.head()"
   ],
   "metadata": {
    "collapsed": false
   }
  },
  {
   "cell_type": "code",
   "execution_count": 4,
   "outputs": [],
   "source": [
    "df_orcs = df[df.name.str.contains(\"Orc \")]"
   ],
   "metadata": {
    "collapsed": false
   }
  },
  {
   "cell_type": "code",
   "execution_count": 5,
   "outputs": [
    {
     "data": {
      "text/plain": "{'Orc Warchief': 240, 'Orc Brute': 284, 'Orc Warrior': 323}"
     },
     "execution_count": 5,
     "metadata": {},
     "output_type": "execute_result"
    }
   ],
   "source": [
    "orcs_ids_names = {df_orcs.loc[idx][\"name\"]: idx for idx in df_orcs.index}\n",
    "orcs_ids_names"
   ],
   "metadata": {
    "collapsed": false
   }
  },
  {
   "cell_type": "code",
   "execution_count": 6,
   "outputs": [
    {
     "data": {
      "text/plain": "     perception  cha  will  fortitude  int  ac                 book  hp  con  \\\n240          11    2     7          7   -1  19  Pathfinder Bestiary  32    1   \n284           5    0     2          6   -1  15  Pathfinder Bestiary  15    3   \n323           6    0     4          8   -1  18  Pathfinder Bestiary  23    3   \n\n     str  wis  focus  level  dex  reflex  \n240    4    1      0      2    2       6  \n284    3    1      0      0    2       4  \n323    4    1      0      1    2       7  ",
      "text/html": "<div>\n<style scoped>\n    .dataframe tbody tr th:only-of-type {\n        vertical-align: middle;\n    }\n\n    .dataframe tbody tr th {\n        vertical-align: top;\n    }\n\n    .dataframe thead th {\n        text-align: right;\n    }\n</style>\n<table border=\"1\" class=\"dataframe\">\n  <thead>\n    <tr style=\"text-align: right;\">\n      <th></th>\n      <th>perception</th>\n      <th>cha</th>\n      <th>will</th>\n      <th>fortitude</th>\n      <th>int</th>\n      <th>ac</th>\n      <th>book</th>\n      <th>hp</th>\n      <th>con</th>\n      <th>str</th>\n      <th>wis</th>\n      <th>focus</th>\n      <th>level</th>\n      <th>dex</th>\n      <th>reflex</th>\n    </tr>\n  </thead>\n  <tbody>\n    <tr>\n      <th>240</th>\n      <td>11</td>\n      <td>2</td>\n      <td>7</td>\n      <td>7</td>\n      <td>-1</td>\n      <td>19</td>\n      <td>Pathfinder Bestiary</td>\n      <td>32</td>\n      <td>1</td>\n      <td>4</td>\n      <td>1</td>\n      <td>0</td>\n      <td>2</td>\n      <td>2</td>\n      <td>6</td>\n    </tr>\n    <tr>\n      <th>284</th>\n      <td>5</td>\n      <td>0</td>\n      <td>2</td>\n      <td>6</td>\n      <td>-1</td>\n      <td>15</td>\n      <td>Pathfinder Bestiary</td>\n      <td>15</td>\n      <td>3</td>\n      <td>3</td>\n      <td>1</td>\n      <td>0</td>\n      <td>0</td>\n      <td>2</td>\n      <td>4</td>\n    </tr>\n    <tr>\n      <th>323</th>\n      <td>6</td>\n      <td>0</td>\n      <td>4</td>\n      <td>8</td>\n      <td>-1</td>\n      <td>18</td>\n      <td>Pathfinder Bestiary</td>\n      <td>23</td>\n      <td>3</td>\n      <td>4</td>\n      <td>1</td>\n      <td>0</td>\n      <td>1</td>\n      <td>2</td>\n      <td>7</td>\n    </tr>\n  </tbody>\n</table>\n</div>"
     },
     "execution_count": 6,
     "metadata": {},
     "output_type": "execute_result"
    }
   ],
   "source": [
    "from serving.backend.constants import ORDERED_CHARACTERISTICS_13\n",
    "\n",
    "\n",
    "orcs = preprocess_data(df_orcs, ORDERED_CHARACTERISTICS_13)\n",
    "orcs"
   ],
   "metadata": {
    "collapsed": false
   }
  },
  {
   "cell_type": "code",
   "execution_count": 7,
   "outputs": [
    {
     "data": {
      "text/plain": "     str  dex  con  int  wis  cha  ac  hp  perception  fortitude  reflex  \\\n240    4    2    1   -1    1    2  19  32          11          7       6   \n284    3    2    3   -1    1    0  15  15           5          6       4   \n323    4    2    3   -1    1    0  18  23           6          8       7   \n\n     will  focus  level  \n240     7      0      2  \n284     2      0      0  \n323     4      0      1  ",
      "text/html": "<div>\n<style scoped>\n    .dataframe tbody tr th:only-of-type {\n        vertical-align: middle;\n    }\n\n    .dataframe tbody tr th {\n        vertical-align: top;\n    }\n\n    .dataframe thead th {\n        text-align: right;\n    }\n</style>\n<table border=\"1\" class=\"dataframe\">\n  <thead>\n    <tr style=\"text-align: right;\">\n      <th></th>\n      <th>str</th>\n      <th>dex</th>\n      <th>con</th>\n      <th>int</th>\n      <th>wis</th>\n      <th>cha</th>\n      <th>ac</th>\n      <th>hp</th>\n      <th>perception</th>\n      <th>fortitude</th>\n      <th>reflex</th>\n      <th>will</th>\n      <th>focus</th>\n      <th>level</th>\n    </tr>\n  </thead>\n  <tbody>\n    <tr>\n      <th>240</th>\n      <td>4</td>\n      <td>2</td>\n      <td>1</td>\n      <td>-1</td>\n      <td>1</td>\n      <td>2</td>\n      <td>19</td>\n      <td>32</td>\n      <td>11</td>\n      <td>7</td>\n      <td>6</td>\n      <td>7</td>\n      <td>0</td>\n      <td>2</td>\n    </tr>\n    <tr>\n      <th>284</th>\n      <td>3</td>\n      <td>2</td>\n      <td>3</td>\n      <td>-1</td>\n      <td>1</td>\n      <td>0</td>\n      <td>15</td>\n      <td>15</td>\n      <td>5</td>\n      <td>6</td>\n      <td>4</td>\n      <td>2</td>\n      <td>0</td>\n      <td>0</td>\n    </tr>\n    <tr>\n      <th>323</th>\n      <td>4</td>\n      <td>2</td>\n      <td>3</td>\n      <td>-1</td>\n      <td>1</td>\n      <td>0</td>\n      <td>18</td>\n      <td>23</td>\n      <td>6</td>\n      <td>8</td>\n      <td>7</td>\n      <td>4</td>\n      <td>0</td>\n      <td>1</td>\n    </tr>\n  </tbody>\n</table>\n</div>"
     },
     "execution_count": 7,
     "metadata": {},
     "output_type": "execute_result"
    }
   ],
   "source": [
    "orcs = orcs[ORDERED_CHARACTERISTICS_13 + [\"level\"]]\n",
    "orcs"
   ],
   "metadata": {
    "collapsed": false
   }
  },
  {
   "cell_type": "code",
   "execution_count": 8,
   "outputs": [],
   "source": [
    "dataset = preprocess_data(df, ORDERED_CHARACTERISTICS_13)\n",
    "dataset = dataset[ORDERED_CHARACTERISTICS_13 + [\"level\"]]"
   ],
   "metadata": {
    "collapsed": false
   }
  },
  {
   "cell_type": "code",
   "execution_count": 9,
   "outputs": [
    {
     "data": {
      "text/plain": "   str  dex  con  int  wis  cha  ac   hp  perception  fortitude  reflex  will  \\\n0    7    2    5    1    2    1  29  215          20         22      19    17   \n1    9    0    5   -4    2    1  28  220          16         21      14    16   \n2    7    3    6   -4    3   -2  25  175          17         20      17    15   \n3    7    4    5    6    5    6  41  315          30         30      29    32   \n4   -5    3    1   -1    1    1  16   20           6          6      10     4   \n\n   focus  level  \n0      1     10  \n1      0     10  \n2      0      8  \n3      1     17  \n4      1      1  ",
      "text/html": "<div>\n<style scoped>\n    .dataframe tbody tr th:only-of-type {\n        vertical-align: middle;\n    }\n\n    .dataframe tbody tr th {\n        vertical-align: top;\n    }\n\n    .dataframe thead th {\n        text-align: right;\n    }\n</style>\n<table border=\"1\" class=\"dataframe\">\n  <thead>\n    <tr style=\"text-align: right;\">\n      <th></th>\n      <th>str</th>\n      <th>dex</th>\n      <th>con</th>\n      <th>int</th>\n      <th>wis</th>\n      <th>cha</th>\n      <th>ac</th>\n      <th>hp</th>\n      <th>perception</th>\n      <th>fortitude</th>\n      <th>reflex</th>\n      <th>will</th>\n      <th>focus</th>\n      <th>level</th>\n    </tr>\n  </thead>\n  <tbody>\n    <tr>\n      <th>0</th>\n      <td>7</td>\n      <td>2</td>\n      <td>5</td>\n      <td>1</td>\n      <td>2</td>\n      <td>1</td>\n      <td>29</td>\n      <td>215</td>\n      <td>20</td>\n      <td>22</td>\n      <td>19</td>\n      <td>17</td>\n      <td>1</td>\n      <td>10</td>\n    </tr>\n    <tr>\n      <th>1</th>\n      <td>9</td>\n      <td>0</td>\n      <td>5</td>\n      <td>-4</td>\n      <td>2</td>\n      <td>1</td>\n      <td>28</td>\n      <td>220</td>\n      <td>16</td>\n      <td>21</td>\n      <td>14</td>\n      <td>16</td>\n      <td>0</td>\n      <td>10</td>\n    </tr>\n    <tr>\n      <th>2</th>\n      <td>7</td>\n      <td>3</td>\n      <td>6</td>\n      <td>-4</td>\n      <td>3</td>\n      <td>-2</td>\n      <td>25</td>\n      <td>175</td>\n      <td>17</td>\n      <td>20</td>\n      <td>17</td>\n      <td>15</td>\n      <td>0</td>\n      <td>8</td>\n    </tr>\n    <tr>\n      <th>3</th>\n      <td>7</td>\n      <td>4</td>\n      <td>5</td>\n      <td>6</td>\n      <td>5</td>\n      <td>6</td>\n      <td>41</td>\n      <td>315</td>\n      <td>30</td>\n      <td>30</td>\n      <td>29</td>\n      <td>32</td>\n      <td>1</td>\n      <td>17</td>\n    </tr>\n    <tr>\n      <th>4</th>\n      <td>-5</td>\n      <td>3</td>\n      <td>1</td>\n      <td>-1</td>\n      <td>1</td>\n      <td>1</td>\n      <td>16</td>\n      <td>20</td>\n      <td>6</td>\n      <td>6</td>\n      <td>10</td>\n      <td>4</td>\n      <td>1</td>\n      <td>1</td>\n    </tr>\n  </tbody>\n</table>\n</div>"
     },
     "execution_count": 9,
     "metadata": {},
     "output_type": "execute_result"
    }
   ],
   "source": [
    "dataset.head()"
   ],
   "metadata": {
    "collapsed": false
   }
  },
  {
   "cell_type": "code",
   "execution_count": null,
   "outputs": [],
   "source": [
    "from training.create_model import get_fitted_model\n",
    "\n",
    "\n",
    "model = get_fitted_model(\n",
    "    classifier_name=\"lightgbm\",\n",
    "    X_train=dataset[ORDERED_CHARACTERISTICS_13],\n",
    "    y_train=dataset[\"level\"],\n",
    ")"
   ],
   "metadata": {
    "collapsed": false,
    "pycharm": {
     "is_executing": true
    }
   }
  },
  {
   "cell_type": "markdown",
   "source": [
    "## Counterfactuals for orcs"
   ],
   "metadata": {
    "collapsed": false
   }
  },
  {
   "cell_type": "code",
   "execution_count": 11,
   "outputs": [
    {
     "name": "stderr",
     "output_type": "stream",
     "text": [
      "C:\\Users\\jolka\\OneDrive\\Dokumenty\\Inzynierka\\ML-for-TTRPG-game-design\\venv\\lib\\site-packages\\dice_ml\\utils\\exception.py:12: UserWarning: UserConfigValidationException will be deprecated from dice_ml.utils. Please import UserConfigValidationException from raiutils.exceptions.\n",
      "  warnings.warn(\"UserConfigValidationException will be deprecated from dice_ml.utils. \"\n"
     ]
    }
   ],
   "source": [
    "from serving.backend.generate_counterfactuals import generate_counterfactuals"
   ],
   "metadata": {
    "collapsed": false
   }
  },
  {
   "cell_type": "code",
   "execution_count": 12,
   "outputs": [],
   "source": [
    "orc_brute = orcs.loc[orcs_ids_names[\"Orc Brute\"]].to_dict()\n",
    "orc_warrior = orcs.loc[orcs_ids_names[\"Orc Warrior\"]].to_dict()\n",
    "orc_warchief = orcs.loc[orcs_ids_names[\"Orc Warchief\"]].to_dict()"
   ],
   "metadata": {
    "collapsed": false
   }
  },
  {
   "cell_type": "markdown",
   "source": [
    "### Orc Brute"
   ],
   "metadata": {
    "collapsed": false
   }
  },
  {
   "cell_type": "code",
   "execution_count": 13,
   "outputs": [
    {
     "data": {
      "text/plain": "0"
     },
     "execution_count": 13,
     "metadata": {},
     "output_type": "execute_result"
    }
   ],
   "source": [
    "from serving.backend.calculate_level import calculate_level\n",
    "\n",
    "\n",
    "calculate_level(\n",
    "    monster_stats={key: val for key, val in orc_brute.items() if key != \"level\"},\n",
    "    model=model,\n",
    ")"
   ],
   "metadata": {
    "collapsed": false
   }
  },
  {
   "cell_type": "code",
   "execution_count": 14,
   "outputs": [
    {
     "name": "stderr",
     "output_type": "stream",
     "text": [
      "100%|██████████| 1/1 [17:33<00:00, 1053.34s/it]\n"
     ]
    }
   ],
   "source": [
    "result = generate_counterfactuals(\n",
    "    monster_stats=orc_brute,\n",
    "    model=model,\n",
    "    new_level=1,\n",
    "    df=dataset,\n",
    "    total_cf=10,\n",
    "    ordered_characteristics=ORDERED_CHARACTERISTICS_13,\n",
    ")"
   ],
   "metadata": {
    "collapsed": false
   }
  },
  {
   "cell_type": "code",
   "execution_count": 15,
   "outputs": [],
   "source": [
    "diff_columns = [f\"{col}_diff\" for col in ORDERED_CHARACTERISTICS_13]\n",
    "\n",
    "\n",
    "def compare_monsters(cfs, compare_to_monster):\n",
    "    compare_df = pd.DataFrame(columns=ORDERED_CHARACTERISTICS_13)\n",
    "    diff_df = pd.DataFrame(columns=diff_columns)\n",
    "\n",
    "    for cf in cfs:\n",
    "        cfs_comp_dict = dict()\n",
    "        diff_dict = dict()\n",
    "        for i, col in enumerate(ORDERED_CHARACTERISTICS_13):\n",
    "            val = cf[i]\n",
    "            cfs_comp_dict[col] = [val] if val != compare_to_monster[col] else [\"-\"]\n",
    "            diff_dict[f\"{col}_diff\"] = (\n",
    "                [val - compare_to_monster[col]]\n",
    "                if val != compare_to_monster[col]\n",
    "                else [\"-\"]\n",
    "            )\n",
    "\n",
    "        comparison = pd.DataFrame.from_dict(cfs_comp_dict)\n",
    "        difference = pd.DataFrame.from_dict(diff_dict)\n",
    "        compare_df = pd.concat([comparison, compare_df.loc[:]]).reset_index(drop=True)\n",
    "        diff_df = pd.concat([difference, diff_df]).reset_index(drop=True)\n",
    "\n",
    "    return compare_df, diff_df"
   ],
   "metadata": {
    "collapsed": false
   }
  },
  {
   "cell_type": "markdown",
   "source": [
    "##### Compare to original data"
   ],
   "metadata": {
    "collapsed": false
   }
  },
  {
   "cell_type": "code",
   "execution_count": 16,
   "outputs": [
    {
     "data": {
      "text/plain": "   str  dex  con  int  wis  cha    ac    hp perception fortitude  reflex  \\\n0    -  3.0  2.0    -  0.0  2.0  17.0  18.0          -       7.0     8.0   \n1    -  3.0    - -4.0    - -2.0  16.0  20.0        6.0       8.0    10.0   \n2    -    -  2.0 -4.0    - -1.0  17.0  17.0        6.0       8.0     8.0   \n3  4.0    -  2.0  0.0    -  1.0     -  24.0        6.0       7.0     7.0   \n4 -5.0    -    - -5.0    - -5.0  16.0  19.0          -       0.0     0.0   \n5    -  4.0  1.0    -    -  1.0  17.0  19.0        6.0         -     9.0   \n6    -  4.0    - -4.0    -    -  16.0  21.0        6.0       8.0     9.0   \n7    -    -    -    -  2.0    -  16.0  21.0        7.0       8.0     7.0   \n8  4.0    -    -    -    -    -  18.0  23.0        6.0       8.0     7.0   \n9  4.0    -    -    -    -    -  16.0  21.0        6.0       8.0     7.0   \n\n   will focus  \n0   5.0     -  \n1   4.0     -  \n2   5.0     -  \n3   6.0     -  \n4   4.0     -  \n5   4.0     -  \n6   4.0     -  \n7   5.0     -  \n8   4.0     -  \n9   4.0     -  ",
      "text/html": "<div>\n<style scoped>\n    .dataframe tbody tr th:only-of-type {\n        vertical-align: middle;\n    }\n\n    .dataframe tbody tr th {\n        vertical-align: top;\n    }\n\n    .dataframe thead th {\n        text-align: right;\n    }\n</style>\n<table border=\"1\" class=\"dataframe\">\n  <thead>\n    <tr style=\"text-align: right;\">\n      <th></th>\n      <th>str</th>\n      <th>dex</th>\n      <th>con</th>\n      <th>int</th>\n      <th>wis</th>\n      <th>cha</th>\n      <th>ac</th>\n      <th>hp</th>\n      <th>perception</th>\n      <th>fortitude</th>\n      <th>reflex</th>\n      <th>will</th>\n      <th>focus</th>\n    </tr>\n  </thead>\n  <tbody>\n    <tr>\n      <th>0</th>\n      <td>-</td>\n      <td>3.0</td>\n      <td>2.0</td>\n      <td>-</td>\n      <td>0.0</td>\n      <td>2.0</td>\n      <td>17.0</td>\n      <td>18.0</td>\n      <td>-</td>\n      <td>7.0</td>\n      <td>8.0</td>\n      <td>5.0</td>\n      <td>-</td>\n    </tr>\n    <tr>\n      <th>1</th>\n      <td>-</td>\n      <td>3.0</td>\n      <td>-</td>\n      <td>-4.0</td>\n      <td>-</td>\n      <td>-2.0</td>\n      <td>16.0</td>\n      <td>20.0</td>\n      <td>6.0</td>\n      <td>8.0</td>\n      <td>10.0</td>\n      <td>4.0</td>\n      <td>-</td>\n    </tr>\n    <tr>\n      <th>2</th>\n      <td>-</td>\n      <td>-</td>\n      <td>2.0</td>\n      <td>-4.0</td>\n      <td>-</td>\n      <td>-1.0</td>\n      <td>17.0</td>\n      <td>17.0</td>\n      <td>6.0</td>\n      <td>8.0</td>\n      <td>8.0</td>\n      <td>5.0</td>\n      <td>-</td>\n    </tr>\n    <tr>\n      <th>3</th>\n      <td>4.0</td>\n      <td>-</td>\n      <td>2.0</td>\n      <td>0.0</td>\n      <td>-</td>\n      <td>1.0</td>\n      <td>-</td>\n      <td>24.0</td>\n      <td>6.0</td>\n      <td>7.0</td>\n      <td>7.0</td>\n      <td>6.0</td>\n      <td>-</td>\n    </tr>\n    <tr>\n      <th>4</th>\n      <td>-5.0</td>\n      <td>-</td>\n      <td>-</td>\n      <td>-5.0</td>\n      <td>-</td>\n      <td>-5.0</td>\n      <td>16.0</td>\n      <td>19.0</td>\n      <td>-</td>\n      <td>0.0</td>\n      <td>0.0</td>\n      <td>4.0</td>\n      <td>-</td>\n    </tr>\n    <tr>\n      <th>5</th>\n      <td>-</td>\n      <td>4.0</td>\n      <td>1.0</td>\n      <td>-</td>\n      <td>-</td>\n      <td>1.0</td>\n      <td>17.0</td>\n      <td>19.0</td>\n      <td>6.0</td>\n      <td>-</td>\n      <td>9.0</td>\n      <td>4.0</td>\n      <td>-</td>\n    </tr>\n    <tr>\n      <th>6</th>\n      <td>-</td>\n      <td>4.0</td>\n      <td>-</td>\n      <td>-4.0</td>\n      <td>-</td>\n      <td>-</td>\n      <td>16.0</td>\n      <td>21.0</td>\n      <td>6.0</td>\n      <td>8.0</td>\n      <td>9.0</td>\n      <td>4.0</td>\n      <td>-</td>\n    </tr>\n    <tr>\n      <th>7</th>\n      <td>-</td>\n      <td>-</td>\n      <td>-</td>\n      <td>-</td>\n      <td>2.0</td>\n      <td>-</td>\n      <td>16.0</td>\n      <td>21.0</td>\n      <td>7.0</td>\n      <td>8.0</td>\n      <td>7.0</td>\n      <td>5.0</td>\n      <td>-</td>\n    </tr>\n    <tr>\n      <th>8</th>\n      <td>4.0</td>\n      <td>-</td>\n      <td>-</td>\n      <td>-</td>\n      <td>-</td>\n      <td>-</td>\n      <td>18.0</td>\n      <td>23.0</td>\n      <td>6.0</td>\n      <td>8.0</td>\n      <td>7.0</td>\n      <td>4.0</td>\n      <td>-</td>\n    </tr>\n    <tr>\n      <th>9</th>\n      <td>4.0</td>\n      <td>-</td>\n      <td>-</td>\n      <td>-</td>\n      <td>-</td>\n      <td>-</td>\n      <td>16.0</td>\n      <td>21.0</td>\n      <td>6.0</td>\n      <td>8.0</td>\n      <td>7.0</td>\n      <td>4.0</td>\n      <td>-</td>\n    </tr>\n  </tbody>\n</table>\n</div>"
     },
     "execution_count": 16,
     "metadata": {},
     "output_type": "execute_result"
    }
   ],
   "source": [
    "comp, diff = compare_monsters(result[\"values\"], orc_brute)\n",
    "comp"
   ],
   "metadata": {
    "collapsed": false
   }
  },
  {
   "cell_type": "code",
   "execution_count": 17,
   "outputs": [
    {
     "data": {
      "text/plain": "  str_diff dex_diff con_diff int_diff wis_diff cha_diff ac_diff  hp_diff  \\\n0        -      1.0     -1.0        -     -1.0      2.0     2.0      3.0   \n1        -      1.0        -     -3.0        -     -2.0     1.0      5.0   \n2        -        -     -1.0     -3.0        -     -1.0     2.0      2.0   \n3      1.0        -     -1.0      1.0        -      1.0       -      9.0   \n4     -8.0        -        -     -4.0        -     -5.0     1.0      4.0   \n5        -      2.0     -2.0        -        -      1.0     2.0      4.0   \n6        -      2.0        -     -3.0        -        -     1.0      6.0   \n7        -        -        -        -      1.0        -     1.0      6.0   \n8      1.0        -        -        -        -        -     3.0      8.0   \n9      1.0        -        -        -        -        -     1.0      6.0   \n\n  perception_diff fortitude_diff  reflex_diff  will_diff focus_diff  \n0               -            1.0          4.0        3.0          -  \n1             1.0            2.0          6.0        2.0          -  \n2             1.0            2.0          4.0        3.0          -  \n3             1.0            1.0          3.0        4.0          -  \n4               -           -6.0         -4.0        2.0          -  \n5             1.0              -          5.0        2.0          -  \n6             1.0            2.0          5.0        2.0          -  \n7             2.0            2.0          3.0        3.0          -  \n8             1.0            2.0          3.0        2.0          -  \n9             1.0            2.0          3.0        2.0          -  ",
      "text/html": "<div>\n<style scoped>\n    .dataframe tbody tr th:only-of-type {\n        vertical-align: middle;\n    }\n\n    .dataframe tbody tr th {\n        vertical-align: top;\n    }\n\n    .dataframe thead th {\n        text-align: right;\n    }\n</style>\n<table border=\"1\" class=\"dataframe\">\n  <thead>\n    <tr style=\"text-align: right;\">\n      <th></th>\n      <th>str_diff</th>\n      <th>dex_diff</th>\n      <th>con_diff</th>\n      <th>int_diff</th>\n      <th>wis_diff</th>\n      <th>cha_diff</th>\n      <th>ac_diff</th>\n      <th>hp_diff</th>\n      <th>perception_diff</th>\n      <th>fortitude_diff</th>\n      <th>reflex_diff</th>\n      <th>will_diff</th>\n      <th>focus_diff</th>\n    </tr>\n  </thead>\n  <tbody>\n    <tr>\n      <th>0</th>\n      <td>-</td>\n      <td>1.0</td>\n      <td>-1.0</td>\n      <td>-</td>\n      <td>-1.0</td>\n      <td>2.0</td>\n      <td>2.0</td>\n      <td>3.0</td>\n      <td>-</td>\n      <td>1.0</td>\n      <td>4.0</td>\n      <td>3.0</td>\n      <td>-</td>\n    </tr>\n    <tr>\n      <th>1</th>\n      <td>-</td>\n      <td>1.0</td>\n      <td>-</td>\n      <td>-3.0</td>\n      <td>-</td>\n      <td>-2.0</td>\n      <td>1.0</td>\n      <td>5.0</td>\n      <td>1.0</td>\n      <td>2.0</td>\n      <td>6.0</td>\n      <td>2.0</td>\n      <td>-</td>\n    </tr>\n    <tr>\n      <th>2</th>\n      <td>-</td>\n      <td>-</td>\n      <td>-1.0</td>\n      <td>-3.0</td>\n      <td>-</td>\n      <td>-1.0</td>\n      <td>2.0</td>\n      <td>2.0</td>\n      <td>1.0</td>\n      <td>2.0</td>\n      <td>4.0</td>\n      <td>3.0</td>\n      <td>-</td>\n    </tr>\n    <tr>\n      <th>3</th>\n      <td>1.0</td>\n      <td>-</td>\n      <td>-1.0</td>\n      <td>1.0</td>\n      <td>-</td>\n      <td>1.0</td>\n      <td>-</td>\n      <td>9.0</td>\n      <td>1.0</td>\n      <td>1.0</td>\n      <td>3.0</td>\n      <td>4.0</td>\n      <td>-</td>\n    </tr>\n    <tr>\n      <th>4</th>\n      <td>-8.0</td>\n      <td>-</td>\n      <td>-</td>\n      <td>-4.0</td>\n      <td>-</td>\n      <td>-5.0</td>\n      <td>1.0</td>\n      <td>4.0</td>\n      <td>-</td>\n      <td>-6.0</td>\n      <td>-4.0</td>\n      <td>2.0</td>\n      <td>-</td>\n    </tr>\n    <tr>\n      <th>5</th>\n      <td>-</td>\n      <td>2.0</td>\n      <td>-2.0</td>\n      <td>-</td>\n      <td>-</td>\n      <td>1.0</td>\n      <td>2.0</td>\n      <td>4.0</td>\n      <td>1.0</td>\n      <td>-</td>\n      <td>5.0</td>\n      <td>2.0</td>\n      <td>-</td>\n    </tr>\n    <tr>\n      <th>6</th>\n      <td>-</td>\n      <td>2.0</td>\n      <td>-</td>\n      <td>-3.0</td>\n      <td>-</td>\n      <td>-</td>\n      <td>1.0</td>\n      <td>6.0</td>\n      <td>1.0</td>\n      <td>2.0</td>\n      <td>5.0</td>\n      <td>2.0</td>\n      <td>-</td>\n    </tr>\n    <tr>\n      <th>7</th>\n      <td>-</td>\n      <td>-</td>\n      <td>-</td>\n      <td>-</td>\n      <td>1.0</td>\n      <td>-</td>\n      <td>1.0</td>\n      <td>6.0</td>\n      <td>2.0</td>\n      <td>2.0</td>\n      <td>3.0</td>\n      <td>3.0</td>\n      <td>-</td>\n    </tr>\n    <tr>\n      <th>8</th>\n      <td>1.0</td>\n      <td>-</td>\n      <td>-</td>\n      <td>-</td>\n      <td>-</td>\n      <td>-</td>\n      <td>3.0</td>\n      <td>8.0</td>\n      <td>1.0</td>\n      <td>2.0</td>\n      <td>3.0</td>\n      <td>2.0</td>\n      <td>-</td>\n    </tr>\n    <tr>\n      <th>9</th>\n      <td>1.0</td>\n      <td>-</td>\n      <td>-</td>\n      <td>-</td>\n      <td>-</td>\n      <td>-</td>\n      <td>1.0</td>\n      <td>6.0</td>\n      <td>1.0</td>\n      <td>2.0</td>\n      <td>3.0</td>\n      <td>2.0</td>\n      <td>-</td>\n    </tr>\n  </tbody>\n</table>\n</div>"
     },
     "execution_count": 17,
     "metadata": {},
     "output_type": "execute_result"
    }
   ],
   "source": [
    "diff"
   ],
   "metadata": {
    "collapsed": false
   }
  },
  {
   "cell_type": "markdown",
   "source": [
    "##### Compare to *Orc Warrior*"
   ],
   "metadata": {
    "collapsed": false
   }
  },
  {
   "cell_type": "code",
   "execution_count": 18,
   "outputs": [
    {
     "data": {
      "text/plain": "   str  dex  con  int  wis  cha    ac    hp perception fortitude reflex will  \\\n0  3.0  3.0  2.0    -  0.0  2.0  17.0  18.0        5.0       7.0    8.0  5.0   \n1  3.0  3.0    - -4.0    - -2.0  16.0  20.0          -         -   10.0    -   \n2  3.0    -  2.0 -4.0    - -1.0  17.0  17.0          -         -    8.0  5.0   \n3    -    -  2.0  0.0    -  1.0  15.0  24.0          -       7.0      -  6.0   \n4 -5.0    -    - -5.0    - -5.0  16.0  19.0        5.0       0.0    0.0    -   \n5  3.0  4.0  1.0    -    -  1.0  17.0  19.0          -       6.0    9.0    -   \n6  3.0  4.0    - -4.0    -    -  16.0  21.0          -         -    9.0    -   \n7  3.0    -    -    -  2.0    -  16.0  21.0        7.0         -      -  5.0   \n8    -    -    -    -    -    -     -     -          -         -      -    -   \n9    -    -    -    -    -    -  16.0  21.0          -         -      -    -   \n\n  focus  \n0     -  \n1     -  \n2     -  \n3     -  \n4     -  \n5     -  \n6     -  \n7     -  \n8     -  \n9     -  ",
      "text/html": "<div>\n<style scoped>\n    .dataframe tbody tr th:only-of-type {\n        vertical-align: middle;\n    }\n\n    .dataframe tbody tr th {\n        vertical-align: top;\n    }\n\n    .dataframe thead th {\n        text-align: right;\n    }\n</style>\n<table border=\"1\" class=\"dataframe\">\n  <thead>\n    <tr style=\"text-align: right;\">\n      <th></th>\n      <th>str</th>\n      <th>dex</th>\n      <th>con</th>\n      <th>int</th>\n      <th>wis</th>\n      <th>cha</th>\n      <th>ac</th>\n      <th>hp</th>\n      <th>perception</th>\n      <th>fortitude</th>\n      <th>reflex</th>\n      <th>will</th>\n      <th>focus</th>\n    </tr>\n  </thead>\n  <tbody>\n    <tr>\n      <th>0</th>\n      <td>3.0</td>\n      <td>3.0</td>\n      <td>2.0</td>\n      <td>-</td>\n      <td>0.0</td>\n      <td>2.0</td>\n      <td>17.0</td>\n      <td>18.0</td>\n      <td>5.0</td>\n      <td>7.0</td>\n      <td>8.0</td>\n      <td>5.0</td>\n      <td>-</td>\n    </tr>\n    <tr>\n      <th>1</th>\n      <td>3.0</td>\n      <td>3.0</td>\n      <td>-</td>\n      <td>-4.0</td>\n      <td>-</td>\n      <td>-2.0</td>\n      <td>16.0</td>\n      <td>20.0</td>\n      <td>-</td>\n      <td>-</td>\n      <td>10.0</td>\n      <td>-</td>\n      <td>-</td>\n    </tr>\n    <tr>\n      <th>2</th>\n      <td>3.0</td>\n      <td>-</td>\n      <td>2.0</td>\n      <td>-4.0</td>\n      <td>-</td>\n      <td>-1.0</td>\n      <td>17.0</td>\n      <td>17.0</td>\n      <td>-</td>\n      <td>-</td>\n      <td>8.0</td>\n      <td>5.0</td>\n      <td>-</td>\n    </tr>\n    <tr>\n      <th>3</th>\n      <td>-</td>\n      <td>-</td>\n      <td>2.0</td>\n      <td>0.0</td>\n      <td>-</td>\n      <td>1.0</td>\n      <td>15.0</td>\n      <td>24.0</td>\n      <td>-</td>\n      <td>7.0</td>\n      <td>-</td>\n      <td>6.0</td>\n      <td>-</td>\n    </tr>\n    <tr>\n      <th>4</th>\n      <td>-5.0</td>\n      <td>-</td>\n      <td>-</td>\n      <td>-5.0</td>\n      <td>-</td>\n      <td>-5.0</td>\n      <td>16.0</td>\n      <td>19.0</td>\n      <td>5.0</td>\n      <td>0.0</td>\n      <td>0.0</td>\n      <td>-</td>\n      <td>-</td>\n    </tr>\n    <tr>\n      <th>5</th>\n      <td>3.0</td>\n      <td>4.0</td>\n      <td>1.0</td>\n      <td>-</td>\n      <td>-</td>\n      <td>1.0</td>\n      <td>17.0</td>\n      <td>19.0</td>\n      <td>-</td>\n      <td>6.0</td>\n      <td>9.0</td>\n      <td>-</td>\n      <td>-</td>\n    </tr>\n    <tr>\n      <th>6</th>\n      <td>3.0</td>\n      <td>4.0</td>\n      <td>-</td>\n      <td>-4.0</td>\n      <td>-</td>\n      <td>-</td>\n      <td>16.0</td>\n      <td>21.0</td>\n      <td>-</td>\n      <td>-</td>\n      <td>9.0</td>\n      <td>-</td>\n      <td>-</td>\n    </tr>\n    <tr>\n      <th>7</th>\n      <td>3.0</td>\n      <td>-</td>\n      <td>-</td>\n      <td>-</td>\n      <td>2.0</td>\n      <td>-</td>\n      <td>16.0</td>\n      <td>21.0</td>\n      <td>7.0</td>\n      <td>-</td>\n      <td>-</td>\n      <td>5.0</td>\n      <td>-</td>\n    </tr>\n    <tr>\n      <th>8</th>\n      <td>-</td>\n      <td>-</td>\n      <td>-</td>\n      <td>-</td>\n      <td>-</td>\n      <td>-</td>\n      <td>-</td>\n      <td>-</td>\n      <td>-</td>\n      <td>-</td>\n      <td>-</td>\n      <td>-</td>\n      <td>-</td>\n    </tr>\n    <tr>\n      <th>9</th>\n      <td>-</td>\n      <td>-</td>\n      <td>-</td>\n      <td>-</td>\n      <td>-</td>\n      <td>-</td>\n      <td>16.0</td>\n      <td>21.0</td>\n      <td>-</td>\n      <td>-</td>\n      <td>-</td>\n      <td>-</td>\n      <td>-</td>\n    </tr>\n  </tbody>\n</table>\n</div>"
     },
     "execution_count": 18,
     "metadata": {},
     "output_type": "execute_result"
    }
   ],
   "source": [
    "comp, diff = compare_monsters(result[\"values\"], orc_warrior)\n",
    "comp"
   ],
   "metadata": {
    "collapsed": false
   }
  },
  {
   "cell_type": "code",
   "execution_count": 19,
   "outputs": [
    {
     "data": {
      "text/plain": "  str_diff dex_diff con_diff int_diff wis_diff cha_diff ac_diff hp_diff  \\\n0     -1.0      1.0     -1.0        -     -1.0      2.0    -1.0    -5.0   \n1     -1.0      1.0        -     -3.0        -     -2.0    -2.0    -3.0   \n2     -1.0        -     -1.0     -3.0        -     -1.0    -1.0    -6.0   \n3        -        -     -1.0      1.0        -      1.0    -3.0     1.0   \n4     -9.0        -        -     -4.0        -     -5.0    -2.0    -4.0   \n5     -1.0      2.0     -2.0        -        -      1.0    -1.0    -4.0   \n6     -1.0      2.0        -     -3.0        -        -    -2.0    -2.0   \n7     -1.0        -        -        -      1.0        -    -2.0    -2.0   \n8        -        -        -        -        -        -       -       -   \n9        -        -        -        -        -        -    -2.0    -2.0   \n\n  perception_diff fortitude_diff reflex_diff will_diff focus_diff  \n0            -1.0           -1.0         1.0       1.0          -  \n1               -              -         3.0         -          -  \n2               -              -         1.0       1.0          -  \n3               -           -1.0           -       2.0          -  \n4            -1.0           -8.0        -7.0         -          -  \n5               -           -2.0         2.0         -          -  \n6               -              -         2.0         -          -  \n7             1.0              -           -       1.0          -  \n8               -              -           -         -          -  \n9               -              -           -         -          -  ",
      "text/html": "<div>\n<style scoped>\n    .dataframe tbody tr th:only-of-type {\n        vertical-align: middle;\n    }\n\n    .dataframe tbody tr th {\n        vertical-align: top;\n    }\n\n    .dataframe thead th {\n        text-align: right;\n    }\n</style>\n<table border=\"1\" class=\"dataframe\">\n  <thead>\n    <tr style=\"text-align: right;\">\n      <th></th>\n      <th>str_diff</th>\n      <th>dex_diff</th>\n      <th>con_diff</th>\n      <th>int_diff</th>\n      <th>wis_diff</th>\n      <th>cha_diff</th>\n      <th>ac_diff</th>\n      <th>hp_diff</th>\n      <th>perception_diff</th>\n      <th>fortitude_diff</th>\n      <th>reflex_diff</th>\n      <th>will_diff</th>\n      <th>focus_diff</th>\n    </tr>\n  </thead>\n  <tbody>\n    <tr>\n      <th>0</th>\n      <td>-1.0</td>\n      <td>1.0</td>\n      <td>-1.0</td>\n      <td>-</td>\n      <td>-1.0</td>\n      <td>2.0</td>\n      <td>-1.0</td>\n      <td>-5.0</td>\n      <td>-1.0</td>\n      <td>-1.0</td>\n      <td>1.0</td>\n      <td>1.0</td>\n      <td>-</td>\n    </tr>\n    <tr>\n      <th>1</th>\n      <td>-1.0</td>\n      <td>1.0</td>\n      <td>-</td>\n      <td>-3.0</td>\n      <td>-</td>\n      <td>-2.0</td>\n      <td>-2.0</td>\n      <td>-3.0</td>\n      <td>-</td>\n      <td>-</td>\n      <td>3.0</td>\n      <td>-</td>\n      <td>-</td>\n    </tr>\n    <tr>\n      <th>2</th>\n      <td>-1.0</td>\n      <td>-</td>\n      <td>-1.0</td>\n      <td>-3.0</td>\n      <td>-</td>\n      <td>-1.0</td>\n      <td>-1.0</td>\n      <td>-6.0</td>\n      <td>-</td>\n      <td>-</td>\n      <td>1.0</td>\n      <td>1.0</td>\n      <td>-</td>\n    </tr>\n    <tr>\n      <th>3</th>\n      <td>-</td>\n      <td>-</td>\n      <td>-1.0</td>\n      <td>1.0</td>\n      <td>-</td>\n      <td>1.0</td>\n      <td>-3.0</td>\n      <td>1.0</td>\n      <td>-</td>\n      <td>-1.0</td>\n      <td>-</td>\n      <td>2.0</td>\n      <td>-</td>\n    </tr>\n    <tr>\n      <th>4</th>\n      <td>-9.0</td>\n      <td>-</td>\n      <td>-</td>\n      <td>-4.0</td>\n      <td>-</td>\n      <td>-5.0</td>\n      <td>-2.0</td>\n      <td>-4.0</td>\n      <td>-1.0</td>\n      <td>-8.0</td>\n      <td>-7.0</td>\n      <td>-</td>\n      <td>-</td>\n    </tr>\n    <tr>\n      <th>5</th>\n      <td>-1.0</td>\n      <td>2.0</td>\n      <td>-2.0</td>\n      <td>-</td>\n      <td>-</td>\n      <td>1.0</td>\n      <td>-1.0</td>\n      <td>-4.0</td>\n      <td>-</td>\n      <td>-2.0</td>\n      <td>2.0</td>\n      <td>-</td>\n      <td>-</td>\n    </tr>\n    <tr>\n      <th>6</th>\n      <td>-1.0</td>\n      <td>2.0</td>\n      <td>-</td>\n      <td>-3.0</td>\n      <td>-</td>\n      <td>-</td>\n      <td>-2.0</td>\n      <td>-2.0</td>\n      <td>-</td>\n      <td>-</td>\n      <td>2.0</td>\n      <td>-</td>\n      <td>-</td>\n    </tr>\n    <tr>\n      <th>7</th>\n      <td>-1.0</td>\n      <td>-</td>\n      <td>-</td>\n      <td>-</td>\n      <td>1.0</td>\n      <td>-</td>\n      <td>-2.0</td>\n      <td>-2.0</td>\n      <td>1.0</td>\n      <td>-</td>\n      <td>-</td>\n      <td>1.0</td>\n      <td>-</td>\n    </tr>\n    <tr>\n      <th>8</th>\n      <td>-</td>\n      <td>-</td>\n      <td>-</td>\n      <td>-</td>\n      <td>-</td>\n      <td>-</td>\n      <td>-</td>\n      <td>-</td>\n      <td>-</td>\n      <td>-</td>\n      <td>-</td>\n      <td>-</td>\n      <td>-</td>\n    </tr>\n    <tr>\n      <th>9</th>\n      <td>-</td>\n      <td>-</td>\n      <td>-</td>\n      <td>-</td>\n      <td>-</td>\n      <td>-</td>\n      <td>-2.0</td>\n      <td>-2.0</td>\n      <td>-</td>\n      <td>-</td>\n      <td>-</td>\n      <td>-</td>\n      <td>-</td>\n    </tr>\n  </tbody>\n</table>\n</div>"
     },
     "execution_count": 19,
     "metadata": {},
     "output_type": "execute_result"
    }
   ],
   "source": [
    "diff"
   ],
   "metadata": {
    "collapsed": false
   }
  },
  {
   "cell_type": "code",
   "execution_count": 21,
   "outputs": [
    {
     "name": "stderr",
     "output_type": "stream",
     "text": [
      "100%|██████████| 1/1 [03:25<00:00, 205.11s/it]\n"
     ]
    }
   ],
   "source": [
    "result = generate_counterfactuals(\n",
    "    monster_stats=orc_brute,\n",
    "    model=model,\n",
    "    new_level=2,\n",
    "    df=dataset,\n",
    "    total_cf=10,\n",
    "    ordered_characteristics=ORDERED_CHARACTERISTICS_13,\n",
    ")"
   ],
   "metadata": {
    "collapsed": false
   }
  },
  {
   "cell_type": "markdown",
   "source": [
    "##### Compere to original data"
   ],
   "metadata": {
    "collapsed": false
   }
  },
  {
   "cell_type": "code",
   "execution_count": 22,
   "outputs": [
    {
     "data": {
      "text/plain": "   str  dex  con  int  wis  cha    ac    hp  perception  fortitude  reflex  \\\n0  4.0    -  1.0    -    -  2.0  19.0  32.0        11.0        7.0     6.0   \n1    -  4.0    -  2.0    -  1.0  18.0  30.0         7.0        9.0    10.0   \n2  4.0    -    - -4.0  2.0    -  17.0  35.0         8.0       11.0     8.0   \n3  4.0  3.0  2.0    -    -    -  18.0  29.0         7.0        8.0     7.0   \n4    -    -  4.0    -  3.0    -  18.0  30.0         9.0       10.0     6.0   \n5    -  4.0  2.0    -    -    -  19.0  28.0         7.0        8.0    10.0   \n6    -    -    - -4.0    - -2.0  18.0  32.0         8.0       11.0     8.0   \n7    -    -    - -4.0    - -2.0  18.0  30.0         7.0        9.0     8.0   \n8  4.0    -    -    -    -  1.0  17.0  35.0         7.0       11.0     6.0   \n9  4.0    -    -    -    -    -  17.0  34.0         7.0        9.0     8.0   \n\n   will focus  \n0   7.0     -  \n1   5.0     -  \n2   5.0     -  \n3   7.0     -  \n4   7.0     -  \n5   5.0     -  \n6   5.0     -  \n7   5.0     -  \n8   7.0     -  \n9   5.0     -  ",
      "text/html": "<div>\n<style scoped>\n    .dataframe tbody tr th:only-of-type {\n        vertical-align: middle;\n    }\n\n    .dataframe tbody tr th {\n        vertical-align: top;\n    }\n\n    .dataframe thead th {\n        text-align: right;\n    }\n</style>\n<table border=\"1\" class=\"dataframe\">\n  <thead>\n    <tr style=\"text-align: right;\">\n      <th></th>\n      <th>str</th>\n      <th>dex</th>\n      <th>con</th>\n      <th>int</th>\n      <th>wis</th>\n      <th>cha</th>\n      <th>ac</th>\n      <th>hp</th>\n      <th>perception</th>\n      <th>fortitude</th>\n      <th>reflex</th>\n      <th>will</th>\n      <th>focus</th>\n    </tr>\n  </thead>\n  <tbody>\n    <tr>\n      <th>0</th>\n      <td>4.0</td>\n      <td>-</td>\n      <td>1.0</td>\n      <td>-</td>\n      <td>-</td>\n      <td>2.0</td>\n      <td>19.0</td>\n      <td>32.0</td>\n      <td>11.0</td>\n      <td>7.0</td>\n      <td>6.0</td>\n      <td>7.0</td>\n      <td>-</td>\n    </tr>\n    <tr>\n      <th>1</th>\n      <td>-</td>\n      <td>4.0</td>\n      <td>-</td>\n      <td>2.0</td>\n      <td>-</td>\n      <td>1.0</td>\n      <td>18.0</td>\n      <td>30.0</td>\n      <td>7.0</td>\n      <td>9.0</td>\n      <td>10.0</td>\n      <td>5.0</td>\n      <td>-</td>\n    </tr>\n    <tr>\n      <th>2</th>\n      <td>4.0</td>\n      <td>-</td>\n      <td>-</td>\n      <td>-4.0</td>\n      <td>2.0</td>\n      <td>-</td>\n      <td>17.0</td>\n      <td>35.0</td>\n      <td>8.0</td>\n      <td>11.0</td>\n      <td>8.0</td>\n      <td>5.0</td>\n      <td>-</td>\n    </tr>\n    <tr>\n      <th>3</th>\n      <td>4.0</td>\n      <td>3.0</td>\n      <td>2.0</td>\n      <td>-</td>\n      <td>-</td>\n      <td>-</td>\n      <td>18.0</td>\n      <td>29.0</td>\n      <td>7.0</td>\n      <td>8.0</td>\n      <td>7.0</td>\n      <td>7.0</td>\n      <td>-</td>\n    </tr>\n    <tr>\n      <th>4</th>\n      <td>-</td>\n      <td>-</td>\n      <td>4.0</td>\n      <td>-</td>\n      <td>3.0</td>\n      <td>-</td>\n      <td>18.0</td>\n      <td>30.0</td>\n      <td>9.0</td>\n      <td>10.0</td>\n      <td>6.0</td>\n      <td>7.0</td>\n      <td>-</td>\n    </tr>\n    <tr>\n      <th>5</th>\n      <td>-</td>\n      <td>4.0</td>\n      <td>2.0</td>\n      <td>-</td>\n      <td>-</td>\n      <td>-</td>\n      <td>19.0</td>\n      <td>28.0</td>\n      <td>7.0</td>\n      <td>8.0</td>\n      <td>10.0</td>\n      <td>5.0</td>\n      <td>-</td>\n    </tr>\n    <tr>\n      <th>6</th>\n      <td>-</td>\n      <td>-</td>\n      <td>-</td>\n      <td>-4.0</td>\n      <td>-</td>\n      <td>-2.0</td>\n      <td>18.0</td>\n      <td>32.0</td>\n      <td>8.0</td>\n      <td>11.0</td>\n      <td>8.0</td>\n      <td>5.0</td>\n      <td>-</td>\n    </tr>\n    <tr>\n      <th>7</th>\n      <td>-</td>\n      <td>-</td>\n      <td>-</td>\n      <td>-4.0</td>\n      <td>-</td>\n      <td>-2.0</td>\n      <td>18.0</td>\n      <td>30.0</td>\n      <td>7.0</td>\n      <td>9.0</td>\n      <td>8.0</td>\n      <td>5.0</td>\n      <td>-</td>\n    </tr>\n    <tr>\n      <th>8</th>\n      <td>4.0</td>\n      <td>-</td>\n      <td>-</td>\n      <td>-</td>\n      <td>-</td>\n      <td>1.0</td>\n      <td>17.0</td>\n      <td>35.0</td>\n      <td>7.0</td>\n      <td>11.0</td>\n      <td>6.0</td>\n      <td>7.0</td>\n      <td>-</td>\n    </tr>\n    <tr>\n      <th>9</th>\n      <td>4.0</td>\n      <td>-</td>\n      <td>-</td>\n      <td>-</td>\n      <td>-</td>\n      <td>-</td>\n      <td>17.0</td>\n      <td>34.0</td>\n      <td>7.0</td>\n      <td>9.0</td>\n      <td>8.0</td>\n      <td>5.0</td>\n      <td>-</td>\n    </tr>\n  </tbody>\n</table>\n</div>"
     },
     "execution_count": 22,
     "metadata": {},
     "output_type": "execute_result"
    }
   ],
   "source": [
    "comp, diff = compare_monsters(result[\"values\"], orc_brute)\n",
    "comp"
   ],
   "metadata": {
    "collapsed": false
   }
  },
  {
   "cell_type": "code",
   "execution_count": 23,
   "outputs": [
    {
     "data": {
      "text/plain": "  str_diff dex_diff con_diff int_diff wis_diff cha_diff  ac_diff  hp_diff  \\\n0      1.0        -     -2.0        -        -      2.0      4.0     17.0   \n1        -      2.0        -      3.0        -      1.0      3.0     15.0   \n2      1.0        -        -     -3.0      1.0        -      2.0     20.0   \n3      1.0      1.0     -1.0        -        -        -      3.0     14.0   \n4        -        -      1.0        -      2.0        -      3.0     15.0   \n5        -      2.0     -1.0        -        -        -      4.0     13.0   \n6        -        -        -     -3.0        -     -2.0      3.0     17.0   \n7        -        -        -     -3.0        -     -2.0      3.0     15.0   \n8      1.0        -        -        -        -      1.0      2.0     20.0   \n9      1.0        -        -        -        -        -      2.0     19.0   \n\n   perception_diff  fortitude_diff  reflex_diff  will_diff focus_diff  \n0              6.0             1.0          2.0        5.0          -  \n1              2.0             3.0          6.0        3.0          -  \n2              3.0             5.0          4.0        3.0          -  \n3              2.0             2.0          3.0        5.0          -  \n4              4.0             4.0          2.0        5.0          -  \n5              2.0             2.0          6.0        3.0          -  \n6              3.0             5.0          4.0        3.0          -  \n7              2.0             3.0          4.0        3.0          -  \n8              2.0             5.0          2.0        5.0          -  \n9              2.0             3.0          4.0        3.0          -  ",
      "text/html": "<div>\n<style scoped>\n    .dataframe tbody tr th:only-of-type {\n        vertical-align: middle;\n    }\n\n    .dataframe tbody tr th {\n        vertical-align: top;\n    }\n\n    .dataframe thead th {\n        text-align: right;\n    }\n</style>\n<table border=\"1\" class=\"dataframe\">\n  <thead>\n    <tr style=\"text-align: right;\">\n      <th></th>\n      <th>str_diff</th>\n      <th>dex_diff</th>\n      <th>con_diff</th>\n      <th>int_diff</th>\n      <th>wis_diff</th>\n      <th>cha_diff</th>\n      <th>ac_diff</th>\n      <th>hp_diff</th>\n      <th>perception_diff</th>\n      <th>fortitude_diff</th>\n      <th>reflex_diff</th>\n      <th>will_diff</th>\n      <th>focus_diff</th>\n    </tr>\n  </thead>\n  <tbody>\n    <tr>\n      <th>0</th>\n      <td>1.0</td>\n      <td>-</td>\n      <td>-2.0</td>\n      <td>-</td>\n      <td>-</td>\n      <td>2.0</td>\n      <td>4.0</td>\n      <td>17.0</td>\n      <td>6.0</td>\n      <td>1.0</td>\n      <td>2.0</td>\n      <td>5.0</td>\n      <td>-</td>\n    </tr>\n    <tr>\n      <th>1</th>\n      <td>-</td>\n      <td>2.0</td>\n      <td>-</td>\n      <td>3.0</td>\n      <td>-</td>\n      <td>1.0</td>\n      <td>3.0</td>\n      <td>15.0</td>\n      <td>2.0</td>\n      <td>3.0</td>\n      <td>6.0</td>\n      <td>3.0</td>\n      <td>-</td>\n    </tr>\n    <tr>\n      <th>2</th>\n      <td>1.0</td>\n      <td>-</td>\n      <td>-</td>\n      <td>-3.0</td>\n      <td>1.0</td>\n      <td>-</td>\n      <td>2.0</td>\n      <td>20.0</td>\n      <td>3.0</td>\n      <td>5.0</td>\n      <td>4.0</td>\n      <td>3.0</td>\n      <td>-</td>\n    </tr>\n    <tr>\n      <th>3</th>\n      <td>1.0</td>\n      <td>1.0</td>\n      <td>-1.0</td>\n      <td>-</td>\n      <td>-</td>\n      <td>-</td>\n      <td>3.0</td>\n      <td>14.0</td>\n      <td>2.0</td>\n      <td>2.0</td>\n      <td>3.0</td>\n      <td>5.0</td>\n      <td>-</td>\n    </tr>\n    <tr>\n      <th>4</th>\n      <td>-</td>\n      <td>-</td>\n      <td>1.0</td>\n      <td>-</td>\n      <td>2.0</td>\n      <td>-</td>\n      <td>3.0</td>\n      <td>15.0</td>\n      <td>4.0</td>\n      <td>4.0</td>\n      <td>2.0</td>\n      <td>5.0</td>\n      <td>-</td>\n    </tr>\n    <tr>\n      <th>5</th>\n      <td>-</td>\n      <td>2.0</td>\n      <td>-1.0</td>\n      <td>-</td>\n      <td>-</td>\n      <td>-</td>\n      <td>4.0</td>\n      <td>13.0</td>\n      <td>2.0</td>\n      <td>2.0</td>\n      <td>6.0</td>\n      <td>3.0</td>\n      <td>-</td>\n    </tr>\n    <tr>\n      <th>6</th>\n      <td>-</td>\n      <td>-</td>\n      <td>-</td>\n      <td>-3.0</td>\n      <td>-</td>\n      <td>-2.0</td>\n      <td>3.0</td>\n      <td>17.0</td>\n      <td>3.0</td>\n      <td>5.0</td>\n      <td>4.0</td>\n      <td>3.0</td>\n      <td>-</td>\n    </tr>\n    <tr>\n      <th>7</th>\n      <td>-</td>\n      <td>-</td>\n      <td>-</td>\n      <td>-3.0</td>\n      <td>-</td>\n      <td>-2.0</td>\n      <td>3.0</td>\n      <td>15.0</td>\n      <td>2.0</td>\n      <td>3.0</td>\n      <td>4.0</td>\n      <td>3.0</td>\n      <td>-</td>\n    </tr>\n    <tr>\n      <th>8</th>\n      <td>1.0</td>\n      <td>-</td>\n      <td>-</td>\n      <td>-</td>\n      <td>-</td>\n      <td>1.0</td>\n      <td>2.0</td>\n      <td>20.0</td>\n      <td>2.0</td>\n      <td>5.0</td>\n      <td>2.0</td>\n      <td>5.0</td>\n      <td>-</td>\n    </tr>\n    <tr>\n      <th>9</th>\n      <td>1.0</td>\n      <td>-</td>\n      <td>-</td>\n      <td>-</td>\n      <td>-</td>\n      <td>-</td>\n      <td>2.0</td>\n      <td>19.0</td>\n      <td>2.0</td>\n      <td>3.0</td>\n      <td>4.0</td>\n      <td>3.0</td>\n      <td>-</td>\n    </tr>\n  </tbody>\n</table>\n</div>"
     },
     "execution_count": 23,
     "metadata": {},
     "output_type": "execute_result"
    }
   ],
   "source": [
    "diff"
   ],
   "metadata": {
    "collapsed": false
   }
  },
  {
   "cell_type": "markdown",
   "source": [
    "##### Compare to *Orc Warchief*"
   ],
   "metadata": {
    "collapsed": false
   }
  },
  {
   "cell_type": "code",
   "execution_count": 24,
   "outputs": [
    {
     "data": {
      "text/plain": "   str  dex  con  int  wis  cha    ac    hp perception fortitude reflex will  \\\n0    -    -    -    -    -    -     -     -          -         -      -    -   \n1  3.0  4.0  3.0  2.0    -  1.0  18.0  30.0        7.0       9.0   10.0  5.0   \n2    -    -  3.0 -4.0  2.0  0.0  17.0  35.0        8.0      11.0    8.0  5.0   \n3    -  3.0  2.0    -    -  0.0  18.0  29.0        7.0       8.0    7.0    -   \n4  3.0    -  4.0    -  3.0  0.0  18.0  30.0        9.0      10.0      -    -   \n5  3.0  4.0  2.0    -    -  0.0     -  28.0        7.0       8.0   10.0  5.0   \n6  3.0    -  3.0 -4.0    - -2.0  18.0     -        8.0      11.0    8.0  5.0   \n7  3.0    -  3.0 -4.0    - -2.0  18.0  30.0        7.0       9.0    8.0  5.0   \n8    -    -  3.0    -    -  1.0  17.0  35.0        7.0      11.0      -    -   \n9    -    -  3.0    -    -  0.0  17.0  34.0        7.0       9.0    8.0  5.0   \n\n  focus  \n0     -  \n1     -  \n2     -  \n3     -  \n4     -  \n5     -  \n6     -  \n7     -  \n8     -  \n9     -  ",
      "text/html": "<div>\n<style scoped>\n    .dataframe tbody tr th:only-of-type {\n        vertical-align: middle;\n    }\n\n    .dataframe tbody tr th {\n        vertical-align: top;\n    }\n\n    .dataframe thead th {\n        text-align: right;\n    }\n</style>\n<table border=\"1\" class=\"dataframe\">\n  <thead>\n    <tr style=\"text-align: right;\">\n      <th></th>\n      <th>str</th>\n      <th>dex</th>\n      <th>con</th>\n      <th>int</th>\n      <th>wis</th>\n      <th>cha</th>\n      <th>ac</th>\n      <th>hp</th>\n      <th>perception</th>\n      <th>fortitude</th>\n      <th>reflex</th>\n      <th>will</th>\n      <th>focus</th>\n    </tr>\n  </thead>\n  <tbody>\n    <tr>\n      <th>0</th>\n      <td>-</td>\n      <td>-</td>\n      <td>-</td>\n      <td>-</td>\n      <td>-</td>\n      <td>-</td>\n      <td>-</td>\n      <td>-</td>\n      <td>-</td>\n      <td>-</td>\n      <td>-</td>\n      <td>-</td>\n      <td>-</td>\n    </tr>\n    <tr>\n      <th>1</th>\n      <td>3.0</td>\n      <td>4.0</td>\n      <td>3.0</td>\n      <td>2.0</td>\n      <td>-</td>\n      <td>1.0</td>\n      <td>18.0</td>\n      <td>30.0</td>\n      <td>7.0</td>\n      <td>9.0</td>\n      <td>10.0</td>\n      <td>5.0</td>\n      <td>-</td>\n    </tr>\n    <tr>\n      <th>2</th>\n      <td>-</td>\n      <td>-</td>\n      <td>3.0</td>\n      <td>-4.0</td>\n      <td>2.0</td>\n      <td>0.0</td>\n      <td>17.0</td>\n      <td>35.0</td>\n      <td>8.0</td>\n      <td>11.0</td>\n      <td>8.0</td>\n      <td>5.0</td>\n      <td>-</td>\n    </tr>\n    <tr>\n      <th>3</th>\n      <td>-</td>\n      <td>3.0</td>\n      <td>2.0</td>\n      <td>-</td>\n      <td>-</td>\n      <td>0.0</td>\n      <td>18.0</td>\n      <td>29.0</td>\n      <td>7.0</td>\n      <td>8.0</td>\n      <td>7.0</td>\n      <td>-</td>\n      <td>-</td>\n    </tr>\n    <tr>\n      <th>4</th>\n      <td>3.0</td>\n      <td>-</td>\n      <td>4.0</td>\n      <td>-</td>\n      <td>3.0</td>\n      <td>0.0</td>\n      <td>18.0</td>\n      <td>30.0</td>\n      <td>9.0</td>\n      <td>10.0</td>\n      <td>-</td>\n      <td>-</td>\n      <td>-</td>\n    </tr>\n    <tr>\n      <th>5</th>\n      <td>3.0</td>\n      <td>4.0</td>\n      <td>2.0</td>\n      <td>-</td>\n      <td>-</td>\n      <td>0.0</td>\n      <td>-</td>\n      <td>28.0</td>\n      <td>7.0</td>\n      <td>8.0</td>\n      <td>10.0</td>\n      <td>5.0</td>\n      <td>-</td>\n    </tr>\n    <tr>\n      <th>6</th>\n      <td>3.0</td>\n      <td>-</td>\n      <td>3.0</td>\n      <td>-4.0</td>\n      <td>-</td>\n      <td>-2.0</td>\n      <td>18.0</td>\n      <td>-</td>\n      <td>8.0</td>\n      <td>11.0</td>\n      <td>8.0</td>\n      <td>5.0</td>\n      <td>-</td>\n    </tr>\n    <tr>\n      <th>7</th>\n      <td>3.0</td>\n      <td>-</td>\n      <td>3.0</td>\n      <td>-4.0</td>\n      <td>-</td>\n      <td>-2.0</td>\n      <td>18.0</td>\n      <td>30.0</td>\n      <td>7.0</td>\n      <td>9.0</td>\n      <td>8.0</td>\n      <td>5.0</td>\n      <td>-</td>\n    </tr>\n    <tr>\n      <th>8</th>\n      <td>-</td>\n      <td>-</td>\n      <td>3.0</td>\n      <td>-</td>\n      <td>-</td>\n      <td>1.0</td>\n      <td>17.0</td>\n      <td>35.0</td>\n      <td>7.0</td>\n      <td>11.0</td>\n      <td>-</td>\n      <td>-</td>\n      <td>-</td>\n    </tr>\n    <tr>\n      <th>9</th>\n      <td>-</td>\n      <td>-</td>\n      <td>3.0</td>\n      <td>-</td>\n      <td>-</td>\n      <td>0.0</td>\n      <td>17.0</td>\n      <td>34.0</td>\n      <td>7.0</td>\n      <td>9.0</td>\n      <td>8.0</td>\n      <td>5.0</td>\n      <td>-</td>\n    </tr>\n  </tbody>\n</table>\n</div>"
     },
     "execution_count": 24,
     "metadata": {},
     "output_type": "execute_result"
    }
   ],
   "source": [
    "comp, diff = compare_monsters(result[\"values\"], orc_warchief)\n",
    "comp"
   ],
   "metadata": {
    "collapsed": false
   }
  },
  {
   "cell_type": "code",
   "execution_count": 25,
   "outputs": [
    {
     "data": {
      "text/plain": "  str_diff dex_diff con_diff int_diff wis_diff cha_diff ac_diff hp_diff  \\\n0        -        -        -        -        -        -       -       -   \n1     -1.0      2.0      2.0      3.0        -     -1.0    -1.0    -2.0   \n2        -        -      2.0     -3.0      1.0     -2.0    -2.0     3.0   \n3        -      1.0      1.0        -        -     -2.0    -1.0    -3.0   \n4     -1.0        -      3.0        -      2.0     -2.0    -1.0    -2.0   \n5     -1.0      2.0      1.0        -        -     -2.0       -    -4.0   \n6     -1.0        -      2.0     -3.0        -     -4.0    -1.0       -   \n7     -1.0        -      2.0     -3.0        -     -4.0    -1.0    -2.0   \n8        -        -      2.0        -        -     -1.0    -2.0     3.0   \n9        -        -      2.0        -        -     -2.0    -2.0     2.0   \n\n  perception_diff fortitude_diff reflex_diff will_diff focus_diff  \n0               -              -           -         -          -  \n1            -4.0            2.0         4.0      -2.0          -  \n2            -3.0            4.0         2.0      -2.0          -  \n3            -4.0            1.0         1.0         -          -  \n4            -2.0            3.0           -         -          -  \n5            -4.0            1.0         4.0      -2.0          -  \n6            -3.0            4.0         2.0      -2.0          -  \n7            -4.0            2.0         2.0      -2.0          -  \n8            -4.0            4.0           -         -          -  \n9            -4.0            2.0         2.0      -2.0          -  ",
      "text/html": "<div>\n<style scoped>\n    .dataframe tbody tr th:only-of-type {\n        vertical-align: middle;\n    }\n\n    .dataframe tbody tr th {\n        vertical-align: top;\n    }\n\n    .dataframe thead th {\n        text-align: right;\n    }\n</style>\n<table border=\"1\" class=\"dataframe\">\n  <thead>\n    <tr style=\"text-align: right;\">\n      <th></th>\n      <th>str_diff</th>\n      <th>dex_diff</th>\n      <th>con_diff</th>\n      <th>int_diff</th>\n      <th>wis_diff</th>\n      <th>cha_diff</th>\n      <th>ac_diff</th>\n      <th>hp_diff</th>\n      <th>perception_diff</th>\n      <th>fortitude_diff</th>\n      <th>reflex_diff</th>\n      <th>will_diff</th>\n      <th>focus_diff</th>\n    </tr>\n  </thead>\n  <tbody>\n    <tr>\n      <th>0</th>\n      <td>-</td>\n      <td>-</td>\n      <td>-</td>\n      <td>-</td>\n      <td>-</td>\n      <td>-</td>\n      <td>-</td>\n      <td>-</td>\n      <td>-</td>\n      <td>-</td>\n      <td>-</td>\n      <td>-</td>\n      <td>-</td>\n    </tr>\n    <tr>\n      <th>1</th>\n      <td>-1.0</td>\n      <td>2.0</td>\n      <td>2.0</td>\n      <td>3.0</td>\n      <td>-</td>\n      <td>-1.0</td>\n      <td>-1.0</td>\n      <td>-2.0</td>\n      <td>-4.0</td>\n      <td>2.0</td>\n      <td>4.0</td>\n      <td>-2.0</td>\n      <td>-</td>\n    </tr>\n    <tr>\n      <th>2</th>\n      <td>-</td>\n      <td>-</td>\n      <td>2.0</td>\n      <td>-3.0</td>\n      <td>1.0</td>\n      <td>-2.0</td>\n      <td>-2.0</td>\n      <td>3.0</td>\n      <td>-3.0</td>\n      <td>4.0</td>\n      <td>2.0</td>\n      <td>-2.0</td>\n      <td>-</td>\n    </tr>\n    <tr>\n      <th>3</th>\n      <td>-</td>\n      <td>1.0</td>\n      <td>1.0</td>\n      <td>-</td>\n      <td>-</td>\n      <td>-2.0</td>\n      <td>-1.0</td>\n      <td>-3.0</td>\n      <td>-4.0</td>\n      <td>1.0</td>\n      <td>1.0</td>\n      <td>-</td>\n      <td>-</td>\n    </tr>\n    <tr>\n      <th>4</th>\n      <td>-1.0</td>\n      <td>-</td>\n      <td>3.0</td>\n      <td>-</td>\n      <td>2.0</td>\n      <td>-2.0</td>\n      <td>-1.0</td>\n      <td>-2.0</td>\n      <td>-2.0</td>\n      <td>3.0</td>\n      <td>-</td>\n      <td>-</td>\n      <td>-</td>\n    </tr>\n    <tr>\n      <th>5</th>\n      <td>-1.0</td>\n      <td>2.0</td>\n      <td>1.0</td>\n      <td>-</td>\n      <td>-</td>\n      <td>-2.0</td>\n      <td>-</td>\n      <td>-4.0</td>\n      <td>-4.0</td>\n      <td>1.0</td>\n      <td>4.0</td>\n      <td>-2.0</td>\n      <td>-</td>\n    </tr>\n    <tr>\n      <th>6</th>\n      <td>-1.0</td>\n      <td>-</td>\n      <td>2.0</td>\n      <td>-3.0</td>\n      <td>-</td>\n      <td>-4.0</td>\n      <td>-1.0</td>\n      <td>-</td>\n      <td>-3.0</td>\n      <td>4.0</td>\n      <td>2.0</td>\n      <td>-2.0</td>\n      <td>-</td>\n    </tr>\n    <tr>\n      <th>7</th>\n      <td>-1.0</td>\n      <td>-</td>\n      <td>2.0</td>\n      <td>-3.0</td>\n      <td>-</td>\n      <td>-4.0</td>\n      <td>-1.0</td>\n      <td>-2.0</td>\n      <td>-4.0</td>\n      <td>2.0</td>\n      <td>2.0</td>\n      <td>-2.0</td>\n      <td>-</td>\n    </tr>\n    <tr>\n      <th>8</th>\n      <td>-</td>\n      <td>-</td>\n      <td>2.0</td>\n      <td>-</td>\n      <td>-</td>\n      <td>-1.0</td>\n      <td>-2.0</td>\n      <td>3.0</td>\n      <td>-4.0</td>\n      <td>4.0</td>\n      <td>-</td>\n      <td>-</td>\n      <td>-</td>\n    </tr>\n    <tr>\n      <th>9</th>\n      <td>-</td>\n      <td>-</td>\n      <td>2.0</td>\n      <td>-</td>\n      <td>-</td>\n      <td>-2.0</td>\n      <td>-2.0</td>\n      <td>2.0</td>\n      <td>-4.0</td>\n      <td>2.0</td>\n      <td>2.0</td>\n      <td>-2.0</td>\n      <td>-</td>\n    </tr>\n  </tbody>\n</table>\n</div>"
     },
     "execution_count": 25,
     "metadata": {},
     "output_type": "execute_result"
    }
   ],
   "source": [
    "diff"
   ],
   "metadata": {
    "collapsed": false
   }
  },
  {
   "cell_type": "markdown",
   "source": [
    "### Orc Warrior"
   ],
   "metadata": {
    "collapsed": false
   }
  },
  {
   "cell_type": "code",
   "execution_count": 26,
   "outputs": [
    {
     "name": "stderr",
     "output_type": "stream",
     "text": [
      "  0%|          | 0/1 [15:52<?, ?it/s]\n"
     ]
    },
    {
     "ename": "KeyboardInterrupt",
     "evalue": "",
     "output_type": "error",
     "traceback": [
      "\u001B[1;31m---------------------------------------------------------------------------\u001B[0m",
      "\u001B[1;31mKeyboardInterrupt\u001B[0m                         Traceback (most recent call last)",
      "Cell \u001B[1;32mIn[26], line 1\u001B[0m\n\u001B[1;32m----> 1\u001B[0m result \u001B[38;5;241m=\u001B[39m \u001B[43mgenerate_counterfactuals\u001B[49m\u001B[43m(\u001B[49m\n\u001B[0;32m      2\u001B[0m \u001B[43m    \u001B[49m\u001B[43mmonster_stats\u001B[49m\u001B[38;5;241;43m=\u001B[39;49m\u001B[43morc_warrior\u001B[49m\u001B[43m,\u001B[49m\u001B[43m \u001B[49m\u001B[43mmodel\u001B[49m\u001B[38;5;241;43m=\u001B[39;49m\u001B[43mmodel\u001B[49m\u001B[43m,\u001B[49m\u001B[43m \u001B[49m\u001B[43mnew_level\u001B[49m\u001B[38;5;241;43m=\u001B[39;49m\u001B[38;5;241;43m0\u001B[39;49m\u001B[43m,\u001B[49m\u001B[43m \u001B[49m\u001B[43mdf\u001B[49m\u001B[38;5;241;43m=\u001B[39;49m\u001B[43mdataset\u001B[49m\u001B[43m,\u001B[49m\u001B[43m \u001B[49m\u001B[43mtotal_cf\u001B[49m\u001B[38;5;241;43m=\u001B[39;49m\u001B[38;5;241;43m5\u001B[39;49m\u001B[43m,\u001B[49m\u001B[43m \u001B[49m\u001B[43mordered_characteristics\u001B[49m\u001B[38;5;241;43m=\u001B[39;49m\u001B[43mORDERED_CHARACTERISTICS_13\u001B[49m\n\u001B[0;32m      3\u001B[0m \u001B[43m)\u001B[49m\n",
      "File \u001B[1;32m~\\OneDrive\\Dokumenty\\Inzynierka\\ML-for-TTRPG-game-design\\serving\\backend\\generate_counterfactuals.py:41\u001B[0m, in \u001B[0;36mgenerate_counterfactuals\u001B[1;34m(monster_stats, model, new_level, df, total_cf, ordered_characteristics)\u001B[0m\n\u001B[0;32m     37\u001B[0m exp \u001B[38;5;241m=\u001B[39m Dice(d, m, method\u001B[38;5;241m=\u001B[39m\u001B[38;5;124m\"\u001B[39m\u001B[38;5;124mgenetic\u001B[39m\u001B[38;5;124m\"\u001B[39m)\n\u001B[0;32m     39\u001B[0m desired_range \u001B[38;5;241m=\u001B[39m [new_level \u001B[38;5;241m-\u001B[39m \u001B[38;5;241m1\u001B[39m \u001B[38;5;241m+\u001B[39m THRESHOLD, new_level \u001B[38;5;241m+\u001B[39m THRESHOLD]\n\u001B[1;32m---> 41\u001B[0m genetic \u001B[38;5;241m=\u001B[39m \u001B[43mexp\u001B[49m\u001B[38;5;241;43m.\u001B[39;49m\u001B[43mgenerate_counterfactuals\u001B[49m\u001B[43m(\u001B[49m\n\u001B[0;32m     42\u001B[0m \u001B[43m    \u001B[49m\u001B[43mquery\u001B[49m\u001B[43m,\u001B[49m\u001B[43m \u001B[49m\u001B[43mtotal_CFs\u001B[49m\u001B[38;5;241;43m=\u001B[39;49m\u001B[43mtotal_cf\u001B[49m\u001B[43m,\u001B[49m\u001B[43m \u001B[49m\u001B[43mdesired_range\u001B[49m\u001B[38;5;241;43m=\u001B[39;49m\u001B[43mdesired_range\u001B[49m\n\u001B[0;32m     43\u001B[0m \u001B[43m\u001B[49m\u001B[43m)\u001B[49m\n\u001B[0;32m     45\u001B[0m cf_json \u001B[38;5;241m=\u001B[39m json\u001B[38;5;241m.\u001B[39mloads(genetic\u001B[38;5;241m.\u001B[39mto_json())\n\u001B[0;32m     47\u001B[0m result \u001B[38;5;241m=\u001B[39m {\n\u001B[0;32m     48\u001B[0m     \u001B[38;5;124m\"\u001B[39m\u001B[38;5;124mvalues\u001B[39m\u001B[38;5;124m\"\u001B[39m: [],\n\u001B[0;32m     49\u001B[0m     \u001B[38;5;124m\"\u001B[39m\u001B[38;5;124mmodified\u001B[39m\u001B[38;5;124m\"\u001B[39m: [],\n\u001B[0;32m     50\u001B[0m }\n",
      "File \u001B[1;32m~\\OneDrive\\Dokumenty\\Inzynierka\\ML-for-TTRPG-game-design\\venv\\lib\\site-packages\\dice_ml\\explainer_interfaces\\explainer_base.py:161\u001B[0m, in \u001B[0;36mExplainerBase.generate_counterfactuals\u001B[1;34m(self, query_instances, total_CFs, desired_class, desired_range, permitted_range, features_to_vary, stopping_threshold, posthoc_sparsity_param, proximity_weight, sparsity_weight, diversity_weight, categorical_penalty, posthoc_sparsity_algorithm, verbose, **kwargs)\u001B[0m\n\u001B[0;32m    159\u001B[0m \u001B[38;5;28;01mfor\u001B[39;00m query_instance \u001B[38;5;129;01min\u001B[39;00m tqdm(query_instances_list):\n\u001B[0;32m    160\u001B[0m     \u001B[38;5;28mself\u001B[39m\u001B[38;5;241m.\u001B[39mdata_interface\u001B[38;5;241m.\u001B[39mset_continuous_feature_indexes(query_instance)\n\u001B[1;32m--> 161\u001B[0m     res \u001B[38;5;241m=\u001B[39m \u001B[38;5;28mself\u001B[39m\u001B[38;5;241m.\u001B[39m_generate_counterfactuals(\n\u001B[0;32m    162\u001B[0m         query_instance, total_CFs,\n\u001B[0;32m    163\u001B[0m         desired_class\u001B[38;5;241m=\u001B[39mdesired_class,\n\u001B[0;32m    164\u001B[0m         desired_range\u001B[38;5;241m=\u001B[39mdesired_range,\n\u001B[0;32m    165\u001B[0m         permitted_range\u001B[38;5;241m=\u001B[39mpermitted_range,\n\u001B[0;32m    166\u001B[0m         features_to_vary\u001B[38;5;241m=\u001B[39mfeatures_to_vary,\n\u001B[0;32m    167\u001B[0m         stopping_threshold\u001B[38;5;241m=\u001B[39mstopping_threshold,\n\u001B[0;32m    168\u001B[0m         posthoc_sparsity_param\u001B[38;5;241m=\u001B[39mposthoc_sparsity_param,\n\u001B[0;32m    169\u001B[0m         posthoc_sparsity_algorithm\u001B[38;5;241m=\u001B[39mposthoc_sparsity_algorithm,\n\u001B[0;32m    170\u001B[0m         verbose\u001B[38;5;241m=\u001B[39mverbose,\n\u001B[0;32m    171\u001B[0m         \u001B[38;5;241m*\u001B[39m\u001B[38;5;241m*\u001B[39mkwargs)\n\u001B[0;32m    172\u001B[0m     cf_examples_arr\u001B[38;5;241m.\u001B[39mappend(res)\n\u001B[0;32m    173\u001B[0m \u001B[38;5;28mself\u001B[39m\u001B[38;5;241m.\u001B[39m_check_any_counterfactuals_computed(cf_examples_arr\u001B[38;5;241m=\u001B[39mcf_examples_arr)\n",
      "File \u001B[1;32m~\\OneDrive\\Dokumenty\\Inzynierka\\ML-for-TTRPG-game-design\\venv\\lib\\site-packages\\dice_ml\\explainer_interfaces\\dice_genetic.py:288\u001B[0m, in \u001B[0;36mDiceGenetic._generate_counterfactuals\u001B[1;34m(self, query_instance, total_CFs, initialization, desired_range, desired_class, proximity_weight, sparsity_weight, diversity_weight, categorical_penalty, algorithm, features_to_vary, permitted_range, yloss_type, diversity_loss_type, feature_weights, stopping_threshold, posthoc_sparsity_param, posthoc_sparsity_algorithm, maxiterations, thresh, verbose)\u001B[0m\n\u001B[0;32m    285\u001B[0m     \u001B[38;5;28;01mif\u001B[39;00m col \u001B[38;5;129;01mnot\u001B[39;00m \u001B[38;5;129;01min\u001B[39;00m query_instance_df_dummies\u001B[38;5;241m.\u001B[39mcolumns:\n\u001B[0;32m    286\u001B[0m         query_instance_df_dummies[col] \u001B[38;5;241m=\u001B[39m \u001B[38;5;241m0\u001B[39m\n\u001B[1;32m--> 288\u001B[0m \u001B[38;5;28;43mself\u001B[39;49m\u001B[38;5;241;43m.\u001B[39;49m\u001B[43mdo_param_initializations\u001B[49m\u001B[43m(\u001B[49m\u001B[43mtotal_CFs\u001B[49m\u001B[43m,\u001B[49m\u001B[43m \u001B[49m\u001B[43minitialization\u001B[49m\u001B[43m,\u001B[49m\u001B[43m \u001B[49m\u001B[43mdesired_range\u001B[49m\u001B[43m,\u001B[49m\u001B[43m \u001B[49m\u001B[43mdesired_class\u001B[49m\u001B[43m,\u001B[49m\u001B[43m \u001B[49m\u001B[43mquery_instance\u001B[49m\u001B[43m,\u001B[49m\n\u001B[0;32m    289\u001B[0m \u001B[43m                              \u001B[49m\u001B[43mquery_instance_df_dummies\u001B[49m\u001B[43m,\u001B[49m\u001B[43m \u001B[49m\u001B[43malgorithm\u001B[49m\u001B[43m,\u001B[49m\u001B[43m \u001B[49m\u001B[43mfeatures_to_vary\u001B[49m\u001B[43m,\u001B[49m\u001B[43m \u001B[49m\u001B[43mpermitted_range\u001B[49m\u001B[43m,\u001B[49m\n\u001B[0;32m    290\u001B[0m \u001B[43m                              \u001B[49m\u001B[43myloss_type\u001B[49m\u001B[43m,\u001B[49m\u001B[43m \u001B[49m\u001B[43mdiversity_loss_type\u001B[49m\u001B[43m,\u001B[49m\u001B[43m \u001B[49m\u001B[43mfeature_weights\u001B[49m\u001B[43m,\u001B[49m\u001B[43m \u001B[49m\u001B[43mproximity_weight\u001B[49m\u001B[43m,\u001B[49m\n\u001B[0;32m    291\u001B[0m \u001B[43m                              \u001B[49m\u001B[43msparsity_weight\u001B[49m\u001B[43m,\u001B[49m\u001B[43m \u001B[49m\u001B[43mdiversity_weight\u001B[49m\u001B[43m,\u001B[49m\u001B[43m \u001B[49m\u001B[43mcategorical_penalty\u001B[49m\u001B[43m,\u001B[49m\u001B[43m \u001B[49m\u001B[43mverbose\u001B[49m\u001B[43m)\u001B[49m\n\u001B[0;32m    293\u001B[0m query_instance_df \u001B[38;5;241m=\u001B[39m \u001B[38;5;28mself\u001B[39m\u001B[38;5;241m.\u001B[39mfind_counterfactuals(query_instance, desired_range, desired_class, features_to_vary,\n\u001B[0;32m    294\u001B[0m                                               maxiterations, thresh, verbose)\n\u001B[0;32m    296\u001B[0m \u001B[38;5;28;01mreturn\u001B[39;00m exp\u001B[38;5;241m.\u001B[39mCounterfactualExamples(data_interface\u001B[38;5;241m=\u001B[39m\u001B[38;5;28mself\u001B[39m\u001B[38;5;241m.\u001B[39mdata_interface,\n\u001B[0;32m    297\u001B[0m                                   test_instance_df\u001B[38;5;241m=\u001B[39mquery_instance_df,\n\u001B[0;32m    298\u001B[0m                                   final_cfs_df\u001B[38;5;241m=\u001B[39m\u001B[38;5;28mself\u001B[39m\u001B[38;5;241m.\u001B[39mfinal_cfs_df,\n\u001B[1;32m   (...)\u001B[0m\n\u001B[0;32m    302\u001B[0m                                   desired_class\u001B[38;5;241m=\u001B[39mdesired_class,\n\u001B[0;32m    303\u001B[0m                                   model_type\u001B[38;5;241m=\u001B[39m\u001B[38;5;28mself\u001B[39m\u001B[38;5;241m.\u001B[39mmodel\u001B[38;5;241m.\u001B[39mmodel_type)\n",
      "File \u001B[1;32m~\\OneDrive\\Dokumenty\\Inzynierka\\ML-for-TTRPG-game-design\\venv\\lib\\site-packages\\dice_ml\\explainer_interfaces\\dice_genetic.py:194\u001B[0m, in \u001B[0;36mDiceGenetic.do_param_initializations\u001B[1;34m(self, total_CFs, initialization, desired_range, desired_class, query_instance, query_instance_df_dummies, algorithm, features_to_vary, permitted_range, yloss_type, diversity_loss_type, feature_weights, proximity_weight, sparsity_weight, diversity_weight, categorical_penalty, verbose)\u001B[0m\n\u001B[0;32m    192\u001B[0m \u001B[38;5;28mself\u001B[39m\u001B[38;5;241m.\u001B[39mfeature_range \u001B[38;5;241m=\u001B[39m \u001B[38;5;28mself\u001B[39m\u001B[38;5;241m.\u001B[39mget_valid_feature_range(normalized\u001B[38;5;241m=\u001B[39m\u001B[38;5;28;01mFalse\u001B[39;00m)\n\u001B[0;32m    193\u001B[0m \u001B[38;5;28;01mif\u001B[39;00m \u001B[38;5;28mlen\u001B[39m(\u001B[38;5;28mself\u001B[39m\u001B[38;5;241m.\u001B[39mcfs) \u001B[38;5;241m!=\u001B[39m total_CFs:\n\u001B[1;32m--> 194\u001B[0m     \u001B[38;5;28;43mself\u001B[39;49m\u001B[38;5;241;43m.\u001B[39;49m\u001B[43mdo_cf_initializations\u001B[49m\u001B[43m(\u001B[49m\n\u001B[0;32m    195\u001B[0m \u001B[43m        \u001B[49m\u001B[43mtotal_CFs\u001B[49m\u001B[43m,\u001B[49m\u001B[43m \u001B[49m\u001B[43minitialization\u001B[49m\u001B[43m,\u001B[49m\u001B[43m \u001B[49m\u001B[43malgorithm\u001B[49m\u001B[43m,\u001B[49m\u001B[43m \u001B[49m\u001B[43mfeatures_to_vary\u001B[49m\u001B[43m,\u001B[49m\u001B[43m \u001B[49m\u001B[43mdesired_range\u001B[49m\u001B[43m,\u001B[49m\u001B[43m \u001B[49m\u001B[43mdesired_class\u001B[49m\u001B[43m,\u001B[49m\n\u001B[0;32m    196\u001B[0m \u001B[43m        \u001B[49m\u001B[43mquery_instance\u001B[49m\u001B[43m,\u001B[49m\u001B[43m \u001B[49m\u001B[43mquery_instance_df_dummies\u001B[49m\u001B[43m,\u001B[49m\u001B[43m \u001B[49m\u001B[43mverbose\u001B[49m\u001B[43m)\u001B[49m\n\u001B[0;32m    197\u001B[0m \u001B[38;5;28;01melse\u001B[39;00m:\n\u001B[0;32m    198\u001B[0m     \u001B[38;5;28mself\u001B[39m\u001B[38;5;241m.\u001B[39mtotal_CFs \u001B[38;5;241m=\u001B[39m total_CFs\n",
      "File \u001B[1;32m~\\OneDrive\\Dokumenty\\Inzynierka\\ML-for-TTRPG-game-design\\venv\\lib\\site-packages\\dice_ml\\explainer_interfaces\\dice_genetic.py:180\u001B[0m, in \u001B[0;36mDiceGenetic.do_cf_initializations\u001B[1;34m(self, total_CFs, initialization, algorithm, features_to_vary, desired_range, desired_class, query_instance, query_instance_df_dummies, verbose)\u001B[0m\n\u001B[0;32m    178\u001B[0m         indices \u001B[38;5;241m=\u001B[39m \u001B[38;5;28mself\u001B[39m\u001B[38;5;241m.\u001B[39mKD_tree\u001B[38;5;241m.\u001B[39mquery(query_instance_df_dummies, num_queries)[\u001B[38;5;241m1\u001B[39m][\u001B[38;5;241m0\u001B[39m]\n\u001B[0;32m    179\u001B[0m         KD_tree_output \u001B[38;5;241m=\u001B[39m \u001B[38;5;28mself\u001B[39m\u001B[38;5;241m.\u001B[39mdataset_with_predictions\u001B[38;5;241m.\u001B[39miloc[indices]\u001B[38;5;241m.\u001B[39mcopy()\n\u001B[1;32m--> 180\u001B[0m         \u001B[38;5;28;43mself\u001B[39;49m\u001B[38;5;241;43m.\u001B[39;49m\u001B[43mdo_KD_init\u001B[49m\u001B[43m(\u001B[49m\u001B[43mfeatures_to_vary\u001B[49m\u001B[43m,\u001B[49m\u001B[43m \u001B[49m\u001B[43mquery_instance\u001B[49m\u001B[43m,\u001B[49m\u001B[43m \u001B[49m\u001B[43mKD_tree_output\u001B[49m\u001B[43m,\u001B[49m\u001B[43m \u001B[49m\u001B[43mdesired_class\u001B[49m\u001B[43m,\u001B[49m\u001B[43m \u001B[49m\u001B[43mdesired_range\u001B[49m\u001B[43m)\u001B[49m\n\u001B[0;32m    182\u001B[0m \u001B[38;5;28;01mif\u001B[39;00m verbose:\n\u001B[0;32m    183\u001B[0m     \u001B[38;5;28mprint\u001B[39m(\u001B[38;5;124m\"\u001B[39m\u001B[38;5;124mInitialization complete! Generating counterfactuals...\u001B[39m\u001B[38;5;124m\"\u001B[39m)\n",
      "File \u001B[1;32m~\\OneDrive\\Dokumenty\\Inzynierka\\ML-for-TTRPG-game-design\\venv\\lib\\site-packages\\dice_ml\\explainer_interfaces\\dice_genetic.py:140\u001B[0m, in \u001B[0;36mDiceGenetic.do_KD_init\u001B[1;34m(self, features_to_vary, query_instance, cfs, desired_class, desired_range)\u001B[0m\n\u001B[0;32m    137\u001B[0m uniques \u001B[38;5;241m=\u001B[39m np\u001B[38;5;241m.\u001B[39munique(new_array, axis\u001B[38;5;241m=\u001B[39m\u001B[38;5;241m0\u001B[39m)\n\u001B[0;32m    139\u001B[0m \u001B[38;5;28;01mif\u001B[39;00m \u001B[38;5;28mlen\u001B[39m(uniques) \u001B[38;5;241m!=\u001B[39m \u001B[38;5;28mself\u001B[39m\u001B[38;5;241m.\u001B[39mpopulation_size:\n\u001B[1;32m--> 140\u001B[0m     remaining_cfs \u001B[38;5;241m=\u001B[39m \u001B[38;5;28;43mself\u001B[39;49m\u001B[38;5;241;43m.\u001B[39;49m\u001B[43mdo_random_init\u001B[49m\u001B[43m(\u001B[49m\n\u001B[0;32m    141\u001B[0m \u001B[43m        \u001B[49m\u001B[38;5;28;43mself\u001B[39;49m\u001B[38;5;241;43m.\u001B[39;49m\u001B[43mpopulation_size\u001B[49m\u001B[43m \u001B[49m\u001B[38;5;241;43m-\u001B[39;49m\u001B[43m \u001B[49m\u001B[38;5;28;43mlen\u001B[39;49m\u001B[43m(\u001B[49m\u001B[43muniques\u001B[49m\u001B[43m)\u001B[49m\u001B[43m,\u001B[49m\u001B[43m \u001B[49m\u001B[43mfeatures_to_vary\u001B[49m\u001B[43m,\u001B[49m\u001B[43m \u001B[49m\u001B[43mquery_instance\u001B[49m\u001B[43m,\u001B[49m\u001B[43m \u001B[49m\u001B[43mdesired_class\u001B[49m\u001B[43m,\u001B[49m\u001B[43m \u001B[49m\u001B[43mdesired_range\u001B[49m\u001B[43m)\u001B[49m\n\u001B[0;32m    142\u001B[0m     \u001B[38;5;28mself\u001B[39m\u001B[38;5;241m.\u001B[39mcfs \u001B[38;5;241m=\u001B[39m np\u001B[38;5;241m.\u001B[39mconcatenate([uniques, remaining_cfs])\n",
      "File \u001B[1;32m~\\OneDrive\\Dokumenty\\Inzynierka\\ML-for-TTRPG-game-design\\venv\\lib\\site-packages\\dice_ml\\explainer_interfaces\\dice_genetic.py:98\u001B[0m, in \u001B[0;36mDiceGenetic.do_random_init\u001B[1;34m(self, num_inits, features_to_vary, query_instance, desired_class, desired_range)\u001B[0m\n\u001B[0;32m     96\u001B[0m     \u001B[38;5;28;01melse\u001B[39;00m:\n\u001B[0;32m     97\u001B[0m         one_init[jx] \u001B[38;5;241m=\u001B[39m query_instance[jx]\n\u001B[1;32m---> 98\u001B[0m \u001B[38;5;28;01mif\u001B[39;00m \u001B[38;5;28mself\u001B[39m\u001B[38;5;241m.\u001B[39mis_cf_valid(\u001B[38;5;28;43mself\u001B[39;49m\u001B[38;5;241;43m.\u001B[39;49m\u001B[43mpredict_fn_scores\u001B[49m\u001B[43m(\u001B[49m\u001B[43mone_init\u001B[49m\u001B[43m)\u001B[49m):\n\u001B[0;32m     99\u001B[0m     remaining_cfs[kx] \u001B[38;5;241m=\u001B[39m one_init\n\u001B[0;32m    100\u001B[0m     kx \u001B[38;5;241m+\u001B[39m\u001B[38;5;241m=\u001B[39m \u001B[38;5;241m1\u001B[39m\n",
      "File \u001B[1;32m~\\OneDrive\\Dokumenty\\Inzynierka\\ML-for-TTRPG-game-design\\venv\\lib\\site-packages\\dice_ml\\explainer_interfaces\\dice_genetic.py:308\u001B[0m, in \u001B[0;36mDiceGenetic.predict_fn_scores\u001B[1;34m(self, input_instance)\u001B[0m\n\u001B[0;32m    306\u001B[0m \u001B[38;5;250m\u001B[39m\u001B[38;5;124;03m\"\"\"Returns prediction scores.\"\"\"\u001B[39;00m\n\u001B[0;32m    307\u001B[0m input_instance \u001B[38;5;241m=\u001B[39m \u001B[38;5;28mself\u001B[39m\u001B[38;5;241m.\u001B[39mlabel_decode(input_instance)\n\u001B[1;32m--> 308\u001B[0m out \u001B[38;5;241m=\u001B[39m \u001B[38;5;28;43mself\u001B[39;49m\u001B[38;5;241;43m.\u001B[39;49m\u001B[43mmodel\u001B[49m\u001B[38;5;241;43m.\u001B[39;49m\u001B[43mget_output\u001B[49m\u001B[43m(\u001B[49m\u001B[43minput_instance\u001B[49m\u001B[43m)\u001B[49m\n\u001B[0;32m    309\u001B[0m \u001B[38;5;28;01mif\u001B[39;00m \u001B[38;5;28mself\u001B[39m\u001B[38;5;241m.\u001B[39mmodel\u001B[38;5;241m.\u001B[39mmodel_type \u001B[38;5;241m==\u001B[39m ModelTypes\u001B[38;5;241m.\u001B[39mClassifier \u001B[38;5;129;01mand\u001B[39;00m out\u001B[38;5;241m.\u001B[39mshape[\u001B[38;5;241m1\u001B[39m] \u001B[38;5;241m==\u001B[39m \u001B[38;5;241m1\u001B[39m:\n\u001B[0;32m    310\u001B[0m     \u001B[38;5;66;03m# DL models return only 1 for binary classification\u001B[39;00m\n\u001B[0;32m    311\u001B[0m     out \u001B[38;5;241m=\u001B[39m np\u001B[38;5;241m.\u001B[39mhstack((\u001B[38;5;241m1\u001B[39m\u001B[38;5;241m-\u001B[39mout, out))\n",
      "File \u001B[1;32m~\\OneDrive\\Dokumenty\\Inzynierka\\ML-for-TTRPG-game-design\\venv\\lib\\site-packages\\dice_ml\\model_interfaces\\base_model.py:56\u001B[0m, in \u001B[0;36mBaseModel.get_output\u001B[1;34m(self, input_instance, model_score)\u001B[0m\n\u001B[0;32m     54\u001B[0m         \u001B[38;5;28;01mreturn\u001B[39;00m \u001B[38;5;28mself\u001B[39m\u001B[38;5;241m.\u001B[39mmodel\u001B[38;5;241m.\u001B[39mpredict_proba(input_instance)\n\u001B[0;32m     55\u001B[0m     \u001B[38;5;28;01melse\u001B[39;00m:\n\u001B[1;32m---> 56\u001B[0m         \u001B[38;5;28;01mreturn\u001B[39;00m \u001B[38;5;28;43mself\u001B[39;49m\u001B[38;5;241;43m.\u001B[39;49m\u001B[43mmodel\u001B[49m\u001B[38;5;241;43m.\u001B[39;49m\u001B[43mpredict\u001B[49m\u001B[43m(\u001B[49m\u001B[43minput_instance\u001B[49m\u001B[43m)\u001B[49m\n\u001B[0;32m     57\u001B[0m \u001B[38;5;28;01melse\u001B[39;00m:\n\u001B[0;32m     58\u001B[0m     \u001B[38;5;28;01mreturn\u001B[39;00m \u001B[38;5;28mself\u001B[39m\u001B[38;5;241m.\u001B[39mmodel\u001B[38;5;241m.\u001B[39mpredict(input_instance)\n",
      "File \u001B[1;32m~\\OneDrive\\Dokumenty\\Inzynierka\\ML-for-TTRPG-game-design\\venv\\lib\\site-packages\\lightgbm\\basic.py:4220\u001B[0m, in \u001B[0;36mBooster.predict\u001B[1;34m(self, data, start_iteration, num_iteration, raw_score, pred_leaf, pred_contrib, data_has_header, validate_features, **kwargs)\u001B[0m\n\u001B[0;32m   4218\u001B[0m     \u001B[38;5;28;01melse\u001B[39;00m:\n\u001B[0;32m   4219\u001B[0m         num_iteration \u001B[38;5;241m=\u001B[39m \u001B[38;5;241m-\u001B[39m\u001B[38;5;241m1\u001B[39m\n\u001B[1;32m-> 4220\u001B[0m \u001B[38;5;28;01mreturn\u001B[39;00m \u001B[43mpredictor\u001B[49m\u001B[38;5;241;43m.\u001B[39;49m\u001B[43mpredict\u001B[49m\u001B[43m(\u001B[49m\n\u001B[0;32m   4221\u001B[0m \u001B[43m    \u001B[49m\u001B[43mdata\u001B[49m\u001B[38;5;241;43m=\u001B[39;49m\u001B[43mdata\u001B[49m\u001B[43m,\u001B[49m\n\u001B[0;32m   4222\u001B[0m \u001B[43m    \u001B[49m\u001B[43mstart_iteration\u001B[49m\u001B[38;5;241;43m=\u001B[39;49m\u001B[43mstart_iteration\u001B[49m\u001B[43m,\u001B[49m\n\u001B[0;32m   4223\u001B[0m \u001B[43m    \u001B[49m\u001B[43mnum_iteration\u001B[49m\u001B[38;5;241;43m=\u001B[39;49m\u001B[43mnum_iteration\u001B[49m\u001B[43m,\u001B[49m\n\u001B[0;32m   4224\u001B[0m \u001B[43m    \u001B[49m\u001B[43mraw_score\u001B[49m\u001B[38;5;241;43m=\u001B[39;49m\u001B[43mraw_score\u001B[49m\u001B[43m,\u001B[49m\n\u001B[0;32m   4225\u001B[0m \u001B[43m    \u001B[49m\u001B[43mpred_leaf\u001B[49m\u001B[38;5;241;43m=\u001B[39;49m\u001B[43mpred_leaf\u001B[49m\u001B[43m,\u001B[49m\n\u001B[0;32m   4226\u001B[0m \u001B[43m    \u001B[49m\u001B[43mpred_contrib\u001B[49m\u001B[38;5;241;43m=\u001B[39;49m\u001B[43mpred_contrib\u001B[49m\u001B[43m,\u001B[49m\n\u001B[0;32m   4227\u001B[0m \u001B[43m    \u001B[49m\u001B[43mdata_has_header\u001B[49m\u001B[38;5;241;43m=\u001B[39;49m\u001B[43mdata_has_header\u001B[49m\u001B[43m,\u001B[49m\n\u001B[0;32m   4228\u001B[0m \u001B[43m    \u001B[49m\u001B[43mvalidate_features\u001B[49m\u001B[38;5;241;43m=\u001B[39;49m\u001B[43mvalidate_features\u001B[49m\n\u001B[0;32m   4229\u001B[0m \u001B[43m\u001B[49m\u001B[43m)\u001B[49m\n",
      "File \u001B[1;32m~\\OneDrive\\Dokumenty\\Inzynierka\\ML-for-TTRPG-game-design\\venv\\lib\\site-packages\\lightgbm\\basic.py:1047\u001B[0m, in \u001B[0;36m_InnerPredictor.predict\u001B[1;34m(self, data, start_iteration, num_iteration, raw_score, pred_leaf, pred_contrib, data_has_header, validate_features)\u001B[0m\n\u001B[0;32m   1040\u001B[0m     preds, nrow \u001B[38;5;241m=\u001B[39m \u001B[38;5;28mself\u001B[39m\u001B[38;5;241m.\u001B[39m__pred_for_csc(\n\u001B[0;32m   1041\u001B[0m         csc\u001B[38;5;241m=\u001B[39mdata,\n\u001B[0;32m   1042\u001B[0m         start_iteration\u001B[38;5;241m=\u001B[39mstart_iteration,\n\u001B[0;32m   1043\u001B[0m         num_iteration\u001B[38;5;241m=\u001B[39mnum_iteration,\n\u001B[0;32m   1044\u001B[0m         predict_type\u001B[38;5;241m=\u001B[39mpredict_type\n\u001B[0;32m   1045\u001B[0m     )\n\u001B[0;32m   1046\u001B[0m \u001B[38;5;28;01melif\u001B[39;00m \u001B[38;5;28misinstance\u001B[39m(data, np\u001B[38;5;241m.\u001B[39mndarray):\n\u001B[1;32m-> 1047\u001B[0m     preds, nrow \u001B[38;5;241m=\u001B[39m \u001B[38;5;28;43mself\u001B[39;49m\u001B[38;5;241;43m.\u001B[39;49m\u001B[43m__pred_for_np2d\u001B[49m\u001B[43m(\u001B[49m\n\u001B[0;32m   1048\u001B[0m \u001B[43m        \u001B[49m\u001B[43mmat\u001B[49m\u001B[38;5;241;43m=\u001B[39;49m\u001B[43mdata\u001B[49m\u001B[43m,\u001B[49m\n\u001B[0;32m   1049\u001B[0m \u001B[43m        \u001B[49m\u001B[43mstart_iteration\u001B[49m\u001B[38;5;241;43m=\u001B[39;49m\u001B[43mstart_iteration\u001B[49m\u001B[43m,\u001B[49m\n\u001B[0;32m   1050\u001B[0m \u001B[43m        \u001B[49m\u001B[43mnum_iteration\u001B[49m\u001B[38;5;241;43m=\u001B[39;49m\u001B[43mnum_iteration\u001B[49m\u001B[43m,\u001B[49m\n\u001B[0;32m   1051\u001B[0m \u001B[43m        \u001B[49m\u001B[43mpredict_type\u001B[49m\u001B[38;5;241;43m=\u001B[39;49m\u001B[43mpredict_type\u001B[49m\n\u001B[0;32m   1052\u001B[0m \u001B[43m    \u001B[49m\u001B[43m)\u001B[49m\n\u001B[0;32m   1053\u001B[0m \u001B[38;5;28;01melif\u001B[39;00m \u001B[38;5;28misinstance\u001B[39m(data, \u001B[38;5;28mlist\u001B[39m):\n\u001B[0;32m   1054\u001B[0m     \u001B[38;5;28;01mtry\u001B[39;00m:\n",
      "File \u001B[1;32m~\\OneDrive\\Dokumenty\\Inzynierka\\ML-for-TTRPG-game-design\\venv\\lib\\site-packages\\lightgbm\\basic.py:1187\u001B[0m, in \u001B[0;36m_InnerPredictor.__pred_for_np2d\u001B[1;34m(self, mat, start_iteration, num_iteration, predict_type)\u001B[0m\n\u001B[0;32m   1185\u001B[0m     \u001B[38;5;28;01mreturn\u001B[39;00m preds, nrow\n\u001B[0;32m   1186\u001B[0m \u001B[38;5;28;01melse\u001B[39;00m:\n\u001B[1;32m-> 1187\u001B[0m     \u001B[38;5;28;01mreturn\u001B[39;00m \u001B[38;5;28;43mself\u001B[39;49m\u001B[38;5;241;43m.\u001B[39;49m\u001B[43m__inner_predict_np2d\u001B[49m\u001B[43m(\u001B[49m\n\u001B[0;32m   1188\u001B[0m \u001B[43m        \u001B[49m\u001B[43mmat\u001B[49m\u001B[38;5;241;43m=\u001B[39;49m\u001B[43mmat\u001B[49m\u001B[43m,\u001B[49m\n\u001B[0;32m   1189\u001B[0m \u001B[43m        \u001B[49m\u001B[43mstart_iteration\u001B[49m\u001B[38;5;241;43m=\u001B[39;49m\u001B[43mstart_iteration\u001B[49m\u001B[43m,\u001B[49m\n\u001B[0;32m   1190\u001B[0m \u001B[43m        \u001B[49m\u001B[43mnum_iteration\u001B[49m\u001B[38;5;241;43m=\u001B[39;49m\u001B[43mnum_iteration\u001B[49m\u001B[43m,\u001B[49m\n\u001B[0;32m   1191\u001B[0m \u001B[43m        \u001B[49m\u001B[43mpredict_type\u001B[49m\u001B[38;5;241;43m=\u001B[39;49m\u001B[43mpredict_type\u001B[49m\u001B[43m,\u001B[49m\n\u001B[0;32m   1192\u001B[0m \u001B[43m        \u001B[49m\u001B[43mpreds\u001B[49m\u001B[38;5;241;43m=\u001B[39;49m\u001B[38;5;28;43;01mNone\u001B[39;49;00m\n\u001B[0;32m   1193\u001B[0m \u001B[43m    \u001B[49m\u001B[43m)\u001B[49m\n",
      "File \u001B[1;32m~\\OneDrive\\Dokumenty\\Inzynierka\\ML-for-TTRPG-game-design\\venv\\lib\\site-packages\\lightgbm\\basic.py:1140\u001B[0m, in \u001B[0;36m_InnerPredictor.__inner_predict_np2d\u001B[1;34m(self, mat, start_iteration, num_iteration, predict_type, preds)\u001B[0m\n\u001B[0;32m   1138\u001B[0m     \u001B[38;5;28;01mraise\u001B[39;00m \u001B[38;5;167;01mValueError\u001B[39;00m(\u001B[38;5;124m\"\u001B[39m\u001B[38;5;124mWrong length of pre-allocated predict array\u001B[39m\u001B[38;5;124m\"\u001B[39m)\n\u001B[0;32m   1139\u001B[0m out_num_preds \u001B[38;5;241m=\u001B[39m ctypes\u001B[38;5;241m.\u001B[39mc_int64(\u001B[38;5;241m0\u001B[39m)\n\u001B[1;32m-> 1140\u001B[0m _safe_call(\u001B[43m_LIB\u001B[49m\u001B[38;5;241;43m.\u001B[39;49m\u001B[43mLGBM_BoosterPredictForMat\u001B[49m\u001B[43m(\u001B[49m\n\u001B[0;32m   1141\u001B[0m \u001B[43m    \u001B[49m\u001B[38;5;28;43mself\u001B[39;49m\u001B[38;5;241;43m.\u001B[39;49m\u001B[43m_handle\u001B[49m\u001B[43m,\u001B[49m\n\u001B[0;32m   1142\u001B[0m \u001B[43m    \u001B[49m\u001B[43mptr_data\u001B[49m\u001B[43m,\u001B[49m\n\u001B[0;32m   1143\u001B[0m \u001B[43m    \u001B[49m\u001B[43mctypes\u001B[49m\u001B[38;5;241;43m.\u001B[39;49m\u001B[43mc_int\u001B[49m\u001B[43m(\u001B[49m\u001B[43mtype_ptr_data\u001B[49m\u001B[43m)\u001B[49m\u001B[43m,\u001B[49m\n\u001B[0;32m   1144\u001B[0m \u001B[43m    \u001B[49m\u001B[43mctypes\u001B[49m\u001B[38;5;241;43m.\u001B[39;49m\u001B[43mc_int32\u001B[49m\u001B[43m(\u001B[49m\u001B[43mmat\u001B[49m\u001B[38;5;241;43m.\u001B[39;49m\u001B[43mshape\u001B[49m\u001B[43m[\u001B[49m\u001B[38;5;241;43m0\u001B[39;49m\u001B[43m]\u001B[49m\u001B[43m)\u001B[49m\u001B[43m,\u001B[49m\n\u001B[0;32m   1145\u001B[0m \u001B[43m    \u001B[49m\u001B[43mctypes\u001B[49m\u001B[38;5;241;43m.\u001B[39;49m\u001B[43mc_int32\u001B[49m\u001B[43m(\u001B[49m\u001B[43mmat\u001B[49m\u001B[38;5;241;43m.\u001B[39;49m\u001B[43mshape\u001B[49m\u001B[43m[\u001B[49m\u001B[38;5;241;43m1\u001B[39;49m\u001B[43m]\u001B[49m\u001B[43m)\u001B[49m\u001B[43m,\u001B[49m\n\u001B[0;32m   1146\u001B[0m \u001B[43m    \u001B[49m\u001B[43mctypes\u001B[49m\u001B[38;5;241;43m.\u001B[39;49m\u001B[43mc_int\u001B[49m\u001B[43m(\u001B[49m\u001B[43m_C_API_IS_ROW_MAJOR\u001B[49m\u001B[43m)\u001B[49m\u001B[43m,\u001B[49m\n\u001B[0;32m   1147\u001B[0m \u001B[43m    \u001B[49m\u001B[43mctypes\u001B[49m\u001B[38;5;241;43m.\u001B[39;49m\u001B[43mc_int\u001B[49m\u001B[43m(\u001B[49m\u001B[43mpredict_type\u001B[49m\u001B[43m)\u001B[49m\u001B[43m,\u001B[49m\n\u001B[0;32m   1148\u001B[0m \u001B[43m    \u001B[49m\u001B[43mctypes\u001B[49m\u001B[38;5;241;43m.\u001B[39;49m\u001B[43mc_int\u001B[49m\u001B[43m(\u001B[49m\u001B[43mstart_iteration\u001B[49m\u001B[43m)\u001B[49m\u001B[43m,\u001B[49m\n\u001B[0;32m   1149\u001B[0m \u001B[43m    \u001B[49m\u001B[43mctypes\u001B[49m\u001B[38;5;241;43m.\u001B[39;49m\u001B[43mc_int\u001B[49m\u001B[43m(\u001B[49m\u001B[43mnum_iteration\u001B[49m\u001B[43m)\u001B[49m\u001B[43m,\u001B[49m\n\u001B[0;32m   1150\u001B[0m \u001B[43m    \u001B[49m\u001B[43m_c_str\u001B[49m\u001B[43m(\u001B[49m\u001B[38;5;28;43mself\u001B[39;49m\u001B[38;5;241;43m.\u001B[39;49m\u001B[43mpred_parameter\u001B[49m\u001B[43m)\u001B[49m\u001B[43m,\u001B[49m\n\u001B[0;32m   1151\u001B[0m \u001B[43m    \u001B[49m\u001B[43mctypes\u001B[49m\u001B[38;5;241;43m.\u001B[39;49m\u001B[43mbyref\u001B[49m\u001B[43m(\u001B[49m\u001B[43mout_num_preds\u001B[49m\u001B[43m)\u001B[49m\u001B[43m,\u001B[49m\n\u001B[0;32m   1152\u001B[0m \u001B[43m    \u001B[49m\u001B[43mpreds\u001B[49m\u001B[38;5;241;43m.\u001B[39;49m\u001B[43mctypes\u001B[49m\u001B[38;5;241;43m.\u001B[39;49m\u001B[43mdata_as\u001B[49m\u001B[43m(\u001B[49m\u001B[43mctypes\u001B[49m\u001B[38;5;241;43m.\u001B[39;49m\u001B[43mPOINTER\u001B[49m\u001B[43m(\u001B[49m\u001B[43mctypes\u001B[49m\u001B[38;5;241;43m.\u001B[39;49m\u001B[43mc_double\u001B[49m\u001B[43m)\u001B[49m\u001B[43m)\u001B[49m\u001B[43m)\u001B[49m)\n\u001B[0;32m   1153\u001B[0m \u001B[38;5;28;01mif\u001B[39;00m n_preds \u001B[38;5;241m!=\u001B[39m out_num_preds\u001B[38;5;241m.\u001B[39mvalue:\n\u001B[0;32m   1154\u001B[0m     \u001B[38;5;28;01mraise\u001B[39;00m \u001B[38;5;167;01mValueError\u001B[39;00m(\u001B[38;5;124m\"\u001B[39m\u001B[38;5;124mWrong length for predict results\u001B[39m\u001B[38;5;124m\"\u001B[39m)\n",
      "\u001B[1;31mKeyboardInterrupt\u001B[0m: "
     ]
    }
   ],
   "source": [
    "result = generate_counterfactuals(\n",
    "    monster_stats=orc_warrior,\n",
    "    model=model,\n",
    "    new_level=0,\n",
    "    df=dataset,\n",
    "    total_cf=5,\n",
    "    ordered_characteristics=ORDERED_CHARACTERISTICS_13,\n",
    ")"
   ],
   "metadata": {
    "collapsed": false
   }
  },
  {
   "cell_type": "markdown",
   "source": [
    "##### Compare to original data"
   ],
   "metadata": {
    "collapsed": false
   }
  },
  {
   "cell_type": "code",
   "execution_count": null,
   "outputs": [],
   "source": [
    "comp, diff = compare_monsters(result[\"values\"], orc_warrior)\n",
    "comp"
   ],
   "metadata": {
    "collapsed": false
   }
  },
  {
   "cell_type": "code",
   "execution_count": null,
   "outputs": [],
   "source": [
    "diff"
   ],
   "metadata": {
    "collapsed": false
   }
  },
  {
   "cell_type": "markdown",
   "source": [
    "##### Compare to *Orc brute*"
   ],
   "metadata": {
    "collapsed": false
   }
  },
  {
   "cell_type": "code",
   "execution_count": null,
   "outputs": [],
   "source": [
    "comp, diff = compare_monsters(result[\"values\"], orc_brute)\n",
    "comp"
   ],
   "metadata": {
    "collapsed": false
   }
  },
  {
   "cell_type": "code",
   "execution_count": null,
   "outputs": [],
   "source": [
    "diff"
   ],
   "metadata": {
    "collapsed": false
   }
  },
  {
   "cell_type": "code",
   "execution_count": null,
   "outputs": [],
   "source": [
    "result = generate_counterfactuals(\n",
    "    monster_stats=orc_warrior,\n",
    "    model=model,\n",
    "    new_level=2,\n",
    "    df=dataset,\n",
    "    total_cf=10,\n",
    "    ordered_characteristics=ORDERED_CHARACTERISTICS_13,\n",
    ")"
   ],
   "metadata": {
    "collapsed": false
   }
  },
  {
   "cell_type": "markdown",
   "source": [
    "##### Compare to original data"
   ],
   "metadata": {
    "collapsed": false
   }
  },
  {
   "cell_type": "code",
   "execution_count": null,
   "outputs": [],
   "source": [
    "comp, diff = compare_monsters(result[\"values\"], orc_warrior)\n",
    "comp"
   ],
   "metadata": {
    "collapsed": false
   }
  },
  {
   "cell_type": "code",
   "execution_count": null,
   "outputs": [],
   "source": [
    "diff"
   ],
   "metadata": {
    "collapsed": false
   }
  },
  {
   "cell_type": "markdown",
   "source": [
    "##### Compare to *Orc Warchief*"
   ],
   "metadata": {
    "collapsed": false
   }
  },
  {
   "cell_type": "code",
   "execution_count": null,
   "outputs": [],
   "source": [
    "comp, diff = compare_monsters(result[\"values\"], orc_warchief)\n",
    "comp"
   ],
   "metadata": {
    "collapsed": false
   }
  },
  {
   "cell_type": "code",
   "execution_count": null,
   "outputs": [],
   "source": [
    "diff"
   ],
   "metadata": {
    "collapsed": false
   }
  },
  {
   "cell_type": "markdown",
   "source": [
    "### Orc Warchief"
   ],
   "metadata": {
    "collapsed": false
   }
  },
  {
   "cell_type": "code",
   "execution_count": null,
   "outputs": [],
   "source": [
    "result = generate_counterfactuals(\n",
    "    monster_stats=orc_warchief,\n",
    "    model=model,\n",
    "    new_level=0,\n",
    "    df=dataset,\n",
    "    total_cf=10,\n",
    "    ordered_characteristics=ORDERED_CHARACTERISTICS_13,\n",
    ")"
   ],
   "metadata": {
    "collapsed": false
   }
  },
  {
   "cell_type": "markdown",
   "source": [
    "##### Compare to original data"
   ],
   "metadata": {
    "collapsed": false
   }
  },
  {
   "cell_type": "code",
   "execution_count": null,
   "outputs": [],
   "source": [
    "comp, diff = compare_monsters(result[\"values\"], orc_warchief)\n",
    "comp"
   ],
   "metadata": {
    "collapsed": false
   }
  },
  {
   "cell_type": "code",
   "execution_count": null,
   "outputs": [],
   "source": [
    "diff"
   ],
   "metadata": {
    "collapsed": false
   }
  },
  {
   "cell_type": "markdown",
   "source": [
    "##### Compare to *Orc brute*"
   ],
   "metadata": {
    "collapsed": false
   }
  },
  {
   "cell_type": "code",
   "execution_count": null,
   "outputs": [],
   "source": [
    "comp, diff = compare_monsters(result[\"values\"], orc_brute)\n",
    "comp"
   ],
   "metadata": {
    "collapsed": false
   }
  },
  {
   "cell_type": "code",
   "execution_count": null,
   "outputs": [],
   "source": [
    "diff"
   ],
   "metadata": {
    "collapsed": false
   }
  },
  {
   "cell_type": "code",
   "execution_count": null,
   "outputs": [],
   "source": [
    "result = generate_counterfactuals(\n",
    "    monster_stats=orc_warchief,\n",
    "    model=model,\n",
    "    new_level=1,\n",
    "    df=dataset,\n",
    "    total_cf=10,\n",
    "    ordered_characteristics=ORDERED_CHARACTERISTICS_13,\n",
    ")"
   ],
   "metadata": {
    "collapsed": false
   }
  },
  {
   "cell_type": "markdown",
   "source": [
    "##### Compare to original data"
   ],
   "metadata": {
    "collapsed": false
   }
  },
  {
   "cell_type": "code",
   "execution_count": null,
   "outputs": [],
   "source": [
    "comp, diff = compare_monsters(result[\"values\"], orc_warchief)\n",
    "comp"
   ],
   "metadata": {
    "collapsed": false
   }
  },
  {
   "cell_type": "code",
   "execution_count": null,
   "outputs": [],
   "source": [
    "diff"
   ],
   "metadata": {
    "collapsed": false
   }
  },
  {
   "cell_type": "markdown",
   "source": [
    "##### Compare to *Orc warrior*"
   ],
   "metadata": {
    "collapsed": false
   }
  },
  {
   "cell_type": "code",
   "execution_count": null,
   "outputs": [],
   "source": [
    "comp, diff = compare_monsters(result[\"values\"], orc_warrior)\n",
    "comp"
   ],
   "metadata": {
    "collapsed": false
   }
  },
  {
   "cell_type": "code",
   "execution_count": null,
   "outputs": [],
   "source": [
    "diff"
   ],
   "metadata": {
    "collapsed": false
   }
  },
  {
   "cell_type": "code",
   "execution_count": null,
   "outputs": [],
   "source": [],
   "metadata": {
    "collapsed": false
   }
  }
 ],
 "metadata": {
  "kernelspec": {
   "display_name": "Python 3",
   "language": "python",
   "name": "python3"
  },
  "language_info": {
   "codemirror_mode": {
    "name": "ipython",
    "version": 2
   },
   "file_extension": ".py",
   "mimetype": "text/x-python",
   "name": "python",
   "nbconvert_exporter": "python",
   "pygments_lexer": "ipython2",
   "version": "2.7.6"
  }
 },
 "nbformat": 4,
 "nbformat_minor": 0
}
