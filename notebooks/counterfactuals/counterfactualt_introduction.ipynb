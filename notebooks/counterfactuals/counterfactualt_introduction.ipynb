{
 "cells": [
  {
   "cell_type": "markdown",
   "source": [
    "# Counterfactuals\n",
    "## Current model"
   ],
   "metadata": {
    "collapsed": false
   }
  },
  {
   "cell_type": "markdown",
   "source": [
    "### Load current model"
   ],
   "metadata": {
    "collapsed": false
   }
  },
  {
   "cell_type": "code",
   "execution_count": 1,
   "metadata": {
    "collapsed": true
   },
   "outputs": [],
   "source": [
    "import joblib\n",
    "\n",
    "\n",
    "model = joblib.load(filename=\"../../saved_models/current_model.pkl\")"
   ]
  },
  {
   "cell_type": "markdown",
   "source": [
    "### Load dataset"
   ],
   "metadata": {
    "collapsed": false
   }
  },
  {
   "cell_type": "code",
   "execution_count": 4,
   "outputs": [],
   "source": [
    "import numpy as np\n",
    "import pandas as pd\n",
    "import sys\n",
    "\n",
    "import os\n",
    "import pathlib\n",
    "\n",
    "sys.path.append(\"../..\")\n",
    "from training.creating_dataset import load_and_preprocess_data\n",
    "\n",
    "current_path = os.getcwd()\n",
    "DATASETS_DIR = pathlib.Path(current_path).parent.parent / \"pathfinder_2e_data\"\n",
    "DATASET_FILES = [\n",
    "    \"pathfinder-bestiary.db\",\n",
    "    \"pathfinder-bestiary-2.db\",\n",
    "    \"pathfinder-bestiary-3.db\",\n",
    "]\n",
    "DATASET_PATHS = [f\"{DATASETS_DIR}/{file}\" for file in DATASET_FILES]\n",
    "characteristics = [\n",
    "    \"cha\",\n",
    "    \"con\",\n",
    "    \"dex\",\n",
    "    \"int\",\n",
    "    \"str\",\n",
    "    \"wis\",\n",
    "    \"ac\",\n",
    "    \"hp\",\n",
    "]\n",
    "\n",
    "df = load_and_preprocess_data(\n",
    "    DATASET_PATHS,\n",
    "    characteristics=[\n",
    "        \"cha\",\n",
    "        \"con\",\n",
    "        \"dex\",\n",
    "        \"int\",\n",
    "        \"str\",\n",
    "        \"wis\",\n",
    "        \"ac\",\n",
    "        \"hp\",\n",
    "    ],\n",
    ")"
   ],
   "metadata": {
    "collapsed": false
   }
  },
  {
   "cell_type": "code",
   "execution_count": 5,
   "outputs": [
    {
     "data": {
      "text/plain": "                  book  str  wis  dex   hp  con  cha  level  ac  int\n0  Pathfinder Bestiary    7    2    2  215    5    1     10  29    1\n1  Pathfinder Bestiary    9    2    0  220    5    1     10  28   -4\n2  Pathfinder Bestiary    7    3    3  175    6   -2      8  25   -4\n3  Pathfinder Bestiary    7    5    4  315    5    6     17  41    6\n4  Pathfinder Bestiary   -5    1    3   20    1    1      1  16   -1",
      "text/html": "<div>\n<style scoped>\n    .dataframe tbody tr th:only-of-type {\n        vertical-align: middle;\n    }\n\n    .dataframe tbody tr th {\n        vertical-align: top;\n    }\n\n    .dataframe thead th {\n        text-align: right;\n    }\n</style>\n<table border=\"1\" class=\"dataframe\">\n  <thead>\n    <tr style=\"text-align: right;\">\n      <th></th>\n      <th>book</th>\n      <th>str</th>\n      <th>wis</th>\n      <th>dex</th>\n      <th>hp</th>\n      <th>con</th>\n      <th>cha</th>\n      <th>level</th>\n      <th>ac</th>\n      <th>int</th>\n    </tr>\n  </thead>\n  <tbody>\n    <tr>\n      <th>0</th>\n      <td>Pathfinder Bestiary</td>\n      <td>7</td>\n      <td>2</td>\n      <td>2</td>\n      <td>215</td>\n      <td>5</td>\n      <td>1</td>\n      <td>10</td>\n      <td>29</td>\n      <td>1</td>\n    </tr>\n    <tr>\n      <th>1</th>\n      <td>Pathfinder Bestiary</td>\n      <td>9</td>\n      <td>2</td>\n      <td>0</td>\n      <td>220</td>\n      <td>5</td>\n      <td>1</td>\n      <td>10</td>\n      <td>28</td>\n      <td>-4</td>\n    </tr>\n    <tr>\n      <th>2</th>\n      <td>Pathfinder Bestiary</td>\n      <td>7</td>\n      <td>3</td>\n      <td>3</td>\n      <td>175</td>\n      <td>6</td>\n      <td>-2</td>\n      <td>8</td>\n      <td>25</td>\n      <td>-4</td>\n    </tr>\n    <tr>\n      <th>3</th>\n      <td>Pathfinder Bestiary</td>\n      <td>7</td>\n      <td>5</td>\n      <td>4</td>\n      <td>315</td>\n      <td>5</td>\n      <td>6</td>\n      <td>17</td>\n      <td>41</td>\n      <td>6</td>\n    </tr>\n    <tr>\n      <th>4</th>\n      <td>Pathfinder Bestiary</td>\n      <td>-5</td>\n      <td>1</td>\n      <td>3</td>\n      <td>20</td>\n      <td>1</td>\n      <td>1</td>\n      <td>1</td>\n      <td>16</td>\n      <td>-1</td>\n    </tr>\n  </tbody>\n</table>\n</div>"
     },
     "execution_count": 5,
     "metadata": {},
     "output_type": "execute_result"
    }
   ],
   "source": [
    "df.head()"
   ],
   "metadata": {
    "collapsed": false
   }
  },
  {
   "cell_type": "code",
   "execution_count": 6,
   "outputs": [],
   "source": [
    "from serving.backend.constants import ORDERED_CHARACTERISTICS\n",
    "\n",
    "\n",
    "df = df[ORDERED_CHARACTERISTICS + [\"book\", \"level\"]]"
   ],
   "metadata": {
    "collapsed": false
   }
  },
  {
   "cell_type": "code",
   "execution_count": 7,
   "outputs": [
    {
     "data": {
      "text/plain": "   cha  con  dex  int  str  wis  ac   hp                 book  level\n0    1    5    2    1    7    2  29  215  Pathfinder Bestiary     10\n1    1    5    0   -4    9    2  28  220  Pathfinder Bestiary     10\n2   -2    6    3   -4    7    3  25  175  Pathfinder Bestiary      8\n3    6    5    4    6    7    5  41  315  Pathfinder Bestiary     17\n4    1    1    3   -1   -5    1  16   20  Pathfinder Bestiary      1",
      "text/html": "<div>\n<style scoped>\n    .dataframe tbody tr th:only-of-type {\n        vertical-align: middle;\n    }\n\n    .dataframe tbody tr th {\n        vertical-align: top;\n    }\n\n    .dataframe thead th {\n        text-align: right;\n    }\n</style>\n<table border=\"1\" class=\"dataframe\">\n  <thead>\n    <tr style=\"text-align: right;\">\n      <th></th>\n      <th>cha</th>\n      <th>con</th>\n      <th>dex</th>\n      <th>int</th>\n      <th>str</th>\n      <th>wis</th>\n      <th>ac</th>\n      <th>hp</th>\n      <th>book</th>\n      <th>level</th>\n    </tr>\n  </thead>\n  <tbody>\n    <tr>\n      <th>0</th>\n      <td>1</td>\n      <td>5</td>\n      <td>2</td>\n      <td>1</td>\n      <td>7</td>\n      <td>2</td>\n      <td>29</td>\n      <td>215</td>\n      <td>Pathfinder Bestiary</td>\n      <td>10</td>\n    </tr>\n    <tr>\n      <th>1</th>\n      <td>1</td>\n      <td>5</td>\n      <td>0</td>\n      <td>-4</td>\n      <td>9</td>\n      <td>2</td>\n      <td>28</td>\n      <td>220</td>\n      <td>Pathfinder Bestiary</td>\n      <td>10</td>\n    </tr>\n    <tr>\n      <th>2</th>\n      <td>-2</td>\n      <td>6</td>\n      <td>3</td>\n      <td>-4</td>\n      <td>7</td>\n      <td>3</td>\n      <td>25</td>\n      <td>175</td>\n      <td>Pathfinder Bestiary</td>\n      <td>8</td>\n    </tr>\n    <tr>\n      <th>3</th>\n      <td>6</td>\n      <td>5</td>\n      <td>4</td>\n      <td>6</td>\n      <td>7</td>\n      <td>5</td>\n      <td>41</td>\n      <td>315</td>\n      <td>Pathfinder Bestiary</td>\n      <td>17</td>\n    </tr>\n    <tr>\n      <th>4</th>\n      <td>1</td>\n      <td>1</td>\n      <td>3</td>\n      <td>-1</td>\n      <td>-5</td>\n      <td>1</td>\n      <td>16</td>\n      <td>20</td>\n      <td>Pathfinder Bestiary</td>\n      <td>1</td>\n    </tr>\n  </tbody>\n</table>\n</div>"
     },
     "execution_count": 7,
     "metadata": {},
     "output_type": "execute_result"
    }
   ],
   "source": [
    "df.head()"
   ],
   "metadata": {
    "collapsed": false
   }
  },
  {
   "cell_type": "markdown",
   "source": [
    "### Counterfactuals"
   ],
   "metadata": {
    "collapsed": false
   }
  },
  {
   "cell_type": "code",
   "execution_count": 8,
   "outputs": [],
   "source": [
    "dataset = df.drop(columns=[\"book\"])\n",
    "continuous_features = dataset.drop(columns=[\"level\"]).columns.tolist()"
   ],
   "metadata": {
    "collapsed": false
   }
  },
  {
   "cell_type": "code",
   "execution_count": 9,
   "outputs": [
    {
     "data": {
      "text/plain": "['cha', 'con', 'dex', 'int', 'str', 'wis', 'ac', 'hp']"
     },
     "execution_count": 9,
     "metadata": {},
     "output_type": "execute_result"
    }
   ],
   "source": [
    "continuous_features"
   ],
   "metadata": {
    "collapsed": false
   }
  },
  {
   "cell_type": "code",
   "execution_count": 10,
   "outputs": [
    {
     "data": {
      "text/plain": "   cha  con  dex  int  str  wis  ac   hp  level\n0    1    5    2    1    7    2  29  215     10\n1    1    5    0   -4    9    2  28  220     10\n2   -2    6    3   -4    7    3  25  175      8\n3    6    5    4    6    7    5  41  315     17\n4    1    1    3   -1   -5    1  16   20      1",
      "text/html": "<div>\n<style scoped>\n    .dataframe tbody tr th:only-of-type {\n        vertical-align: middle;\n    }\n\n    .dataframe tbody tr th {\n        vertical-align: top;\n    }\n\n    .dataframe thead th {\n        text-align: right;\n    }\n</style>\n<table border=\"1\" class=\"dataframe\">\n  <thead>\n    <tr style=\"text-align: right;\">\n      <th></th>\n      <th>cha</th>\n      <th>con</th>\n      <th>dex</th>\n      <th>int</th>\n      <th>str</th>\n      <th>wis</th>\n      <th>ac</th>\n      <th>hp</th>\n      <th>level</th>\n    </tr>\n  </thead>\n  <tbody>\n    <tr>\n      <th>0</th>\n      <td>1</td>\n      <td>5</td>\n      <td>2</td>\n      <td>1</td>\n      <td>7</td>\n      <td>2</td>\n      <td>29</td>\n      <td>215</td>\n      <td>10</td>\n    </tr>\n    <tr>\n      <th>1</th>\n      <td>1</td>\n      <td>5</td>\n      <td>0</td>\n      <td>-4</td>\n      <td>9</td>\n      <td>2</td>\n      <td>28</td>\n      <td>220</td>\n      <td>10</td>\n    </tr>\n    <tr>\n      <th>2</th>\n      <td>-2</td>\n      <td>6</td>\n      <td>3</td>\n      <td>-4</td>\n      <td>7</td>\n      <td>3</td>\n      <td>25</td>\n      <td>175</td>\n      <td>8</td>\n    </tr>\n    <tr>\n      <th>3</th>\n      <td>6</td>\n      <td>5</td>\n      <td>4</td>\n      <td>6</td>\n      <td>7</td>\n      <td>5</td>\n      <td>41</td>\n      <td>315</td>\n      <td>17</td>\n    </tr>\n    <tr>\n      <th>4</th>\n      <td>1</td>\n      <td>1</td>\n      <td>3</td>\n      <td>-1</td>\n      <td>-5</td>\n      <td>1</td>\n      <td>16</td>\n      <td>20</td>\n      <td>1</td>\n    </tr>\n  </tbody>\n</table>\n</div>"
     },
     "execution_count": 10,
     "metadata": {},
     "output_type": "execute_result"
    }
   ],
   "source": [
    "dataset.head()"
   ],
   "metadata": {
    "collapsed": false
   }
  },
  {
   "cell_type": "code",
   "execution_count": 11,
   "outputs": [],
   "source": [
    "# dice imports\n",
    "import dice_ml\n",
    "from dice_ml import Dice"
   ],
   "metadata": {
    "collapsed": false
   }
  },
  {
   "cell_type": "code",
   "execution_count": 13,
   "outputs": [],
   "source": [
    "d = dice_ml.Data(\n",
    "    dataframe=dataset, continuous_features=continuous_features, outcome_name=\"level\"\n",
    ")\n",
    "\n",
    "m = dice_ml.Model(model=model, backend=\"sklearn\", model_type=\"regressor\")"
   ],
   "metadata": {
    "collapsed": false
   }
  },
  {
   "cell_type": "code",
   "execution_count": 15,
   "outputs": [],
   "source": [
    "exp = Dice(d, m, method=\"genetic\")"
   ],
   "metadata": {
    "collapsed": false
   }
  },
  {
   "cell_type": "code",
   "execution_count": 25,
   "outputs": [
    {
     "data": {
      "text/plain": "    cha  con  dex  int  str  wis  ac  hp\n10   -1    2    2   -4    3    1  17  17",
      "text/html": "<div>\n<style scoped>\n    .dataframe tbody tr th:only-of-type {\n        vertical-align: middle;\n    }\n\n    .dataframe tbody tr th {\n        vertical-align: top;\n    }\n\n    .dataframe thead th {\n        text-align: right;\n    }\n</style>\n<table border=\"1\" class=\"dataframe\">\n  <thead>\n    <tr style=\"text-align: right;\">\n      <th></th>\n      <th>cha</th>\n      <th>con</th>\n      <th>dex</th>\n      <th>int</th>\n      <th>str</th>\n      <th>wis</th>\n      <th>ac</th>\n      <th>hp</th>\n    </tr>\n  </thead>\n  <tbody>\n    <tr>\n      <th>10</th>\n      <td>-1</td>\n      <td>2</td>\n      <td>2</td>\n      <td>-4</td>\n      <td>3</td>\n      <td>1</td>\n      <td>17</td>\n      <td>17</td>\n    </tr>\n  </tbody>\n</table>\n</div>"
     },
     "execution_count": 25,
     "metadata": {},
     "output_type": "execute_result"
    }
   ],
   "source": [
    "from serving.backend.calculate_level import calculate_level\n",
    "\n",
    "\n",
    "query = dataset.drop(columns=[\"level\"])[10:11]\n",
    "query_dict = query.loc[10].to_dict()\n",
    "query"
   ],
   "metadata": {
    "collapsed": false
   }
  },
  {
   "cell_type": "code",
   "execution_count": 22,
   "outputs": [
    {
     "data": {
      "text/plain": "cha      -1\ncon       2\ndex       2\nint      -4\nstr       3\nwis       1\nac       17\nhp       17\nlevel     1\nName: 10, dtype: int64"
     },
     "execution_count": 22,
     "metadata": {},
     "output_type": "execute_result"
    }
   ],
   "source": [
    "dataset.loc[10]"
   ],
   "metadata": {
    "collapsed": false
   }
  },
  {
   "cell_type": "code",
   "execution_count": 26,
   "outputs": [
    {
     "data": {
      "text/plain": "1"
     },
     "execution_count": 26,
     "metadata": {},
     "output_type": "execute_result"
    }
   ],
   "source": [
    "level = calculate_level(monster_stats=query_dict, model=model)\n",
    "level"
   ],
   "metadata": {
    "collapsed": false
   }
  },
  {
   "cell_type": "code",
   "execution_count": 27,
   "outputs": [
    {
     "name": "stderr",
     "output_type": "stream",
     "text": [
      "  0%|          | 0/1 [00:00<?, ?it/s]"
     ]
    },
    {
     "name": "stdout",
     "output_type": "stream",
     "text": [
      "Initializing initial parameters to the genetic algorithm...\n"
     ]
    },
    {
     "name": "stderr",
     "output_type": "stream",
     "text": [
      "100%|██████████| 1/1 [00:12<00:00, 12.62s/it]"
     ]
    },
    {
     "name": "stdout",
     "output_type": "stream",
     "text": [
      "Initialization complete! Generating counterfactuals...\n",
      "Diverse Counterfactuals found! total time taken: 00 min 12 sec\n"
     ]
    },
    {
     "name": "stderr",
     "output_type": "stream",
     "text": [
      "\n"
     ]
    }
   ],
   "source": [
    "genetic = exp.generate_counterfactuals(\n",
    "    query, total_CFs=10, desired_range=[-1.33, 0.33], verbose=True\n",
    ")"
   ],
   "metadata": {
    "collapsed": false
   }
  },
  {
   "cell_type": "code",
   "execution_count": 28,
   "outputs": [
    {
     "name": "stdout",
     "output_type": "stream",
     "text": [
      "Query instance (original outcome : 1)\n"
     ]
    },
    {
     "data": {
      "text/plain": "   cha  con  dex  int  str  wis  ac  hp     level\n0   -1    2    2   -4    3    1  17  17  0.772387",
      "text/html": "<div>\n<style scoped>\n    .dataframe tbody tr th:only-of-type {\n        vertical-align: middle;\n    }\n\n    .dataframe tbody tr th {\n        vertical-align: top;\n    }\n\n    .dataframe thead th {\n        text-align: right;\n    }\n</style>\n<table border=\"1\" class=\"dataframe\">\n  <thead>\n    <tr style=\"text-align: right;\">\n      <th></th>\n      <th>cha</th>\n      <th>con</th>\n      <th>dex</th>\n      <th>int</th>\n      <th>str</th>\n      <th>wis</th>\n      <th>ac</th>\n      <th>hp</th>\n      <th>level</th>\n    </tr>\n  </thead>\n  <tbody>\n    <tr>\n      <th>0</th>\n      <td>-1</td>\n      <td>2</td>\n      <td>2</td>\n      <td>-4</td>\n      <td>3</td>\n      <td>1</td>\n      <td>17</td>\n      <td>17</td>\n      <td>0.772387</td>\n    </tr>\n  </tbody>\n</table>\n</div>"
     },
     "metadata": {},
     "output_type": "display_data"
    },
    {
     "name": "stdout",
     "output_type": "stream",
     "text": [
      "\n",
      "Diverse Counterfactual set (new outcome: [-1.33, 0.33])\n"
     ]
    },
    {
     "data": {
      "text/plain": "    cha  con  dex   int   str   wis    ac    hp                  level\n0     -    -    -     -   1.0     -  15.0   8.0    -1.0263326412076985\n0  -4.0    -    -     -   1.0     -  15.0   4.0     -0.940142096408842\n0   0.0    -    -  -5.0     -   2.0  16.0  15.0     0.0711599957826996\n0   0.0  3.0    -  -1.0     -     -  15.0  15.0  -0.013295905531936773\n0   0.0    -  3.0     -   0.0     -  15.0   7.0    -1.0497470056277742\n0  -3.0    -  3.0     -   1.0     -  15.0   8.0    -0.8130331715727404\n0   0.0  3.0    -     -     -   2.0  14.0  16.0   -0.01326788086244167\n0   0.0    -  3.0     -  -1.0     -  16.0  16.0    0.32549388021510245\n0  -2.0  0.0  3.0     -  -1.0     -     -   8.0    -0.7550590424250586\n0  -4.0    -    -     -   1.0  -2.0  15.0   4.0    -0.9471269549654241",
      "text/html": "<div>\n<style scoped>\n    .dataframe tbody tr th:only-of-type {\n        vertical-align: middle;\n    }\n\n    .dataframe tbody tr th {\n        vertical-align: top;\n    }\n\n    .dataframe thead th {\n        text-align: right;\n    }\n</style>\n<table border=\"1\" class=\"dataframe\">\n  <thead>\n    <tr style=\"text-align: right;\">\n      <th></th>\n      <th>cha</th>\n      <th>con</th>\n      <th>dex</th>\n      <th>int</th>\n      <th>str</th>\n      <th>wis</th>\n      <th>ac</th>\n      <th>hp</th>\n      <th>level</th>\n    </tr>\n  </thead>\n  <tbody>\n    <tr>\n      <th>0</th>\n      <td>-</td>\n      <td>-</td>\n      <td>-</td>\n      <td>-</td>\n      <td>1.0</td>\n      <td>-</td>\n      <td>15.0</td>\n      <td>8.0</td>\n      <td>-1.0263326412076985</td>\n    </tr>\n    <tr>\n      <th>0</th>\n      <td>-4.0</td>\n      <td>-</td>\n      <td>-</td>\n      <td>-</td>\n      <td>1.0</td>\n      <td>-</td>\n      <td>15.0</td>\n      <td>4.0</td>\n      <td>-0.940142096408842</td>\n    </tr>\n    <tr>\n      <th>0</th>\n      <td>0.0</td>\n      <td>-</td>\n      <td>-</td>\n      <td>-5.0</td>\n      <td>-</td>\n      <td>2.0</td>\n      <td>16.0</td>\n      <td>15.0</td>\n      <td>0.0711599957826996</td>\n    </tr>\n    <tr>\n      <th>0</th>\n      <td>0.0</td>\n      <td>3.0</td>\n      <td>-</td>\n      <td>-1.0</td>\n      <td>-</td>\n      <td>-</td>\n      <td>15.0</td>\n      <td>15.0</td>\n      <td>-0.013295905531936773</td>\n    </tr>\n    <tr>\n      <th>0</th>\n      <td>0.0</td>\n      <td>-</td>\n      <td>3.0</td>\n      <td>-</td>\n      <td>0.0</td>\n      <td>-</td>\n      <td>15.0</td>\n      <td>7.0</td>\n      <td>-1.0497470056277742</td>\n    </tr>\n    <tr>\n      <th>0</th>\n      <td>-3.0</td>\n      <td>-</td>\n      <td>3.0</td>\n      <td>-</td>\n      <td>1.0</td>\n      <td>-</td>\n      <td>15.0</td>\n      <td>8.0</td>\n      <td>-0.8130331715727404</td>\n    </tr>\n    <tr>\n      <th>0</th>\n      <td>0.0</td>\n      <td>3.0</td>\n      <td>-</td>\n      <td>-</td>\n      <td>-</td>\n      <td>2.0</td>\n      <td>14.0</td>\n      <td>16.0</td>\n      <td>-0.01326788086244167</td>\n    </tr>\n    <tr>\n      <th>0</th>\n      <td>0.0</td>\n      <td>-</td>\n      <td>3.0</td>\n      <td>-</td>\n      <td>-1.0</td>\n      <td>-</td>\n      <td>16.0</td>\n      <td>16.0</td>\n      <td>0.32549388021510245</td>\n    </tr>\n    <tr>\n      <th>0</th>\n      <td>-2.0</td>\n      <td>0.0</td>\n      <td>3.0</td>\n      <td>-</td>\n      <td>-1.0</td>\n      <td>-</td>\n      <td>-</td>\n      <td>8.0</td>\n      <td>-0.7550590424250586</td>\n    </tr>\n    <tr>\n      <th>0</th>\n      <td>-4.0</td>\n      <td>-</td>\n      <td>-</td>\n      <td>-</td>\n      <td>1.0</td>\n      <td>-2.0</td>\n      <td>15.0</td>\n      <td>4.0</td>\n      <td>-0.9471269549654241</td>\n    </tr>\n  </tbody>\n</table>\n</div>"
     },
     "metadata": {},
     "output_type": "display_data"
    }
   ],
   "source": [
    "genetic.visualize_as_dataframe(show_only_changes=True)"
   ],
   "metadata": {
    "collapsed": false
   }
  },
  {
   "cell_type": "code",
   "execution_count": 29,
   "outputs": [],
   "source": [
    "js = genetic.to_json()"
   ],
   "metadata": {
    "collapsed": false
   }
  },
  {
   "cell_type": "code",
   "execution_count": 30,
   "outputs": [
    {
     "data": {
      "text/plain": "'{\"test_data\": [[[-1.0, 2.0, 2.0, -4.0, 3.0, 1.0, 17.0, 17.0, 0.7723868003696082]]], \"cfs_list\": [[[-1.0, 2.0, 2.0, -4.0, 1.0, 1.0, 15.0, 8.0, -1.0263326412076985], [-4.0, 2.0, 2.0, -4.0, 1.0, 1.0, 15.0, 4.0, -0.940142096408842], [0.0, 2.0, 2.0, -5.0, 3.0, 2.0, 16.0, 15.0, 0.0711599957826996], [0.0, 3.0, 2.0, -1.0, 3.0, 1.0, 15.0, 15.0, -0.013295905531936773], [0.0, 2.0, 3.0, -4.0, 0.0, 1.0, 15.0, 7.0, -1.0497470056277742], [-3.0, 2.0, 3.0, -4.0, 1.0, 1.0, 15.0, 8.0, -0.8130331715727404], [0.0, 3.0, 2.0, -4.0, 3.0, 2.0, 14.0, 16.0, -0.01326788086244167], [0.0, 2.0, 3.0, -4.0, -1.0, 1.0, 16.0, 16.0, 0.32549388021510245], [-2.0, 0.0, 3.0, -4.0, -1.0, 1.0, 17.0, 8.0, -0.7550590424250586], [-4.0, 2.0, 2.0, -4.0, 1.0, -2.0, 15.0, 4.0, -0.9471269549654241]]], \"local_importance\": null, \"summary_importance\": null, \"data_interface\": {\"outcome_name\": \"level\", \"data_df\": \"dummy_data\"}, \"feature_names\": [\"cha\", \"con\", \"dex\", \"int\", \"str\", \"wis\", \"ac\", \"hp\"], \"feature_names_including_target\": [\"cha\", \"con\", \"dex\", \"int\", \"str\", \"wis\", \"ac\", \"hp\", \"level\"], \"model_type\": \"regressor\", \"desired_class\": \"opposite\", \"desired_range\": [-1.33, 0.33], \"metadata\": {\"version\": \"2.0\"}}'"
     },
     "execution_count": 30,
     "metadata": {},
     "output_type": "execute_result"
    }
   ],
   "source": [
    "js"
   ],
   "metadata": {
    "collapsed": false
   }
  },
  {
   "cell_type": "code",
   "execution_count": null,
   "outputs": [],
   "source": [],
   "metadata": {
    "collapsed": false
   }
  }
 ],
 "metadata": {
  "kernelspec": {
   "display_name": "Python 3",
   "language": "python",
   "name": "python3"
  },
  "language_info": {
   "codemirror_mode": {
    "name": "ipython",
    "version": 2
   },
   "file_extension": ".py",
   "mimetype": "text/x-python",
   "name": "python",
   "nbconvert_exporter": "python",
   "pygments_lexer": "ipython2",
   "version": "2.7.6"
  }
 },
 "nbformat": 4,
 "nbformat_minor": 0
}
