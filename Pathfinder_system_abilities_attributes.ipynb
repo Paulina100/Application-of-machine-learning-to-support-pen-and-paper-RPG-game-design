{
 "cells": [
  {
   "cell_type": "markdown",
   "source": [
    "# Analiza kolumny system\n",
    "Import danych"
   ],
   "metadata": {
    "collapsed": false
   }
  },
  {
   "cell_type": "code",
   "execution_count": 2,
   "metadata": {
    "collapsed": true
   },
   "outputs": [
    {
     "name": "stdout",
     "output_type": "stream",
     "text": [
      "_id                                                024PqcF8yMRBrPuq\n",
      "img                        systems/pf2e/icons/default-icons/npc.svg\n",
      "items             [{'_id': 'B7rzf0nBJmzg8x0y', 'img': 'systems/p...\n",
      "name                                             Adult White Dragon\n",
      "system            {'abilities': {'cha': {'mod': 1}, 'con': {'mod...\n",
      "type                                                            npc\n",
      "flags             {'core': {'sourceId': 'Compendium.pf2e.pathfin...\n",
      "prototypeToken                                                  NaN\n",
      "Name: 0, dtype: object\n"
     ]
    }
   ],
   "source": [
    "from collections import defaultdict\n",
    "import pandas as pd\n",
    "\n",
    "\n",
    "bestiary1 = pd.read_json(\"pathfinder_2e_data/pathfinder-bestiary.db\", lines=True)\n",
    "bestiary2 = pd.read_json(\"pathfinder_2e_data/pathfinder-bestiary-2.db\", lines=True)\n",
    "bestiary3 = pd.read_json(\"pathfinder_2e_data/pathfinder-bestiary-3.db\", lines=True)\n",
    "print(bestiary1.iloc[0])"
   ]
  },
  {
   "cell_type": "code",
   "execution_count": 4,
   "outputs": [],
   "source": [
    "import numpy as np\n",
    "\n",
    "\n",
    "b = [bestiary1, bestiary2, bestiary3]\n",
    "\n",
    "bestiary = pd.concat(b, join=\"outer\", axis=0).fillna(np.nan)"
   ],
   "metadata": {
    "collapsed": false
   }
  },
  {
   "cell_type": "code",
   "execution_count": 5,
   "outputs": [
    {
     "name": "stdout",
     "output_type": "stream",
     "text": [
      "<class 'pandas.core.frame.DataFrame'>\n",
      "Int64Index: 1206 entries, 0 to 364\n",
      "Data columns (total 8 columns):\n",
      " #   Column          Non-Null Count  Dtype \n",
      "---  ------          --------------  ----- \n",
      " 0   _id             1206 non-null   object\n",
      " 1   img             1206 non-null   object\n",
      " 2   items           1206 non-null   object\n",
      " 3   name            1206 non-null   object\n",
      " 4   system          1206 non-null   object\n",
      " 5   type            1206 non-null   object\n",
      " 6   flags           1206 non-null   object\n",
      " 7   prototypeToken  85 non-null     object\n",
      "dtypes: object(8)\n",
      "memory usage: 84.8+ KB\n"
     ]
    }
   ],
   "source": [
    "bestiary.info()"
   ],
   "metadata": {
    "collapsed": false
   }
  },
  {
   "cell_type": "code",
   "execution_count": 6,
   "outputs": [
    {
     "data": {
      "text/plain": "                _id                                       img  \\\n0  024PqcF8yMRBrPuq  systems/pf2e/icons/default-icons/npc.svg   \n1  05E3kkjoLZVjFOeO  systems/pf2e/icons/default-icons/npc.svg   \n2  05wwpHHsBlxBbdkN  systems/pf2e/icons/default-icons/npc.svg   \n3  0FGz2eXm0SB04sJW  systems/pf2e/icons/default-icons/npc.svg   \n4  0HjVFx8qIKDCfblg  systems/pf2e/icons/default-icons/npc.svg   \n\n                                               items                  name  \\\n0  [{'_id': 'B7rzf0nBJmzg8x0y', 'img': 'systems/p...    Adult White Dragon   \n1  [{'_id': 'mYNDkS27YQRyy1F0', 'img': 'systems/p...          Brontosaurus   \n2  [{'_id': 'WkPeg600zGONsuJz', 'img': 'systems/p...        Giant Anaconda   \n3  [{'_id': 'joBYS96mXSnZC1WB', 'img': 'systems/p...  Ancient Green Dragon   \n4  [{'_id': 'xlUnQcjrxeMXu5Cd', 'img': 'systems/p...        Lantern Archon   \n\n                                              system type  \\\n0  {'abilities': {'cha': {'mod': 1}, 'con': {'mod...  npc   \n1  {'abilities': {'cha': {'mod': 1}, 'con': {'mod...  npc   \n2  {'abilities': {'cha': {'mod': -2}, 'con': {'mo...  npc   \n3  {'abilities': {'cha': {'mod': 6}, 'con': {'mod...  npc   \n4  {'abilities': {'cha': {'mod': 1}, 'con': {'mod...  npc   \n\n                                               flags prototypeToken  \n0  {'core': {'sourceId': 'Compendium.pf2e.pathfin...            NaN  \n1  {'core': {'sourceId': 'Compendium.pf2e.pathfin...            NaN  \n2  {'core': {'sourceId': 'Compendium.pf2e.pathfin...            NaN  \n3  {'core': {'sourceId': 'Compendium.pf2e.pathfin...            NaN  \n4  {'core': {'sourceId': 'Compendium.pf2e.pathfin...            NaN  ",
      "text/html": "<div>\n<style scoped>\n    .dataframe tbody tr th:only-of-type {\n        vertical-align: middle;\n    }\n\n    .dataframe tbody tr th {\n        vertical-align: top;\n    }\n\n    .dataframe thead th {\n        text-align: right;\n    }\n</style>\n<table border=\"1\" class=\"dataframe\">\n  <thead>\n    <tr style=\"text-align: right;\">\n      <th></th>\n      <th>_id</th>\n      <th>img</th>\n      <th>items</th>\n      <th>name</th>\n      <th>system</th>\n      <th>type</th>\n      <th>flags</th>\n      <th>prototypeToken</th>\n    </tr>\n  </thead>\n  <tbody>\n    <tr>\n      <th>0</th>\n      <td>024PqcF8yMRBrPuq</td>\n      <td>systems/pf2e/icons/default-icons/npc.svg</td>\n      <td>[{'_id': 'B7rzf0nBJmzg8x0y', 'img': 'systems/p...</td>\n      <td>Adult White Dragon</td>\n      <td>{'abilities': {'cha': {'mod': 1}, 'con': {'mod...</td>\n      <td>npc</td>\n      <td>{'core': {'sourceId': 'Compendium.pf2e.pathfin...</td>\n      <td>NaN</td>\n    </tr>\n    <tr>\n      <th>1</th>\n      <td>05E3kkjoLZVjFOeO</td>\n      <td>systems/pf2e/icons/default-icons/npc.svg</td>\n      <td>[{'_id': 'mYNDkS27YQRyy1F0', 'img': 'systems/p...</td>\n      <td>Brontosaurus</td>\n      <td>{'abilities': {'cha': {'mod': 1}, 'con': {'mod...</td>\n      <td>npc</td>\n      <td>{'core': {'sourceId': 'Compendium.pf2e.pathfin...</td>\n      <td>NaN</td>\n    </tr>\n    <tr>\n      <th>2</th>\n      <td>05wwpHHsBlxBbdkN</td>\n      <td>systems/pf2e/icons/default-icons/npc.svg</td>\n      <td>[{'_id': 'WkPeg600zGONsuJz', 'img': 'systems/p...</td>\n      <td>Giant Anaconda</td>\n      <td>{'abilities': {'cha': {'mod': -2}, 'con': {'mo...</td>\n      <td>npc</td>\n      <td>{'core': {'sourceId': 'Compendium.pf2e.pathfin...</td>\n      <td>NaN</td>\n    </tr>\n    <tr>\n      <th>3</th>\n      <td>0FGz2eXm0SB04sJW</td>\n      <td>systems/pf2e/icons/default-icons/npc.svg</td>\n      <td>[{'_id': 'joBYS96mXSnZC1WB', 'img': 'systems/p...</td>\n      <td>Ancient Green Dragon</td>\n      <td>{'abilities': {'cha': {'mod': 6}, 'con': {'mod...</td>\n      <td>npc</td>\n      <td>{'core': {'sourceId': 'Compendium.pf2e.pathfin...</td>\n      <td>NaN</td>\n    </tr>\n    <tr>\n      <th>4</th>\n      <td>0HjVFx8qIKDCfblg</td>\n      <td>systems/pf2e/icons/default-icons/npc.svg</td>\n      <td>[{'_id': 'xlUnQcjrxeMXu5Cd', 'img': 'systems/p...</td>\n      <td>Lantern Archon</td>\n      <td>{'abilities': {'cha': {'mod': 1}, 'con': {'mod...</td>\n      <td>npc</td>\n      <td>{'core': {'sourceId': 'Compendium.pf2e.pathfin...</td>\n      <td>NaN</td>\n    </tr>\n  </tbody>\n</table>\n</div>"
     },
     "execution_count": 6,
     "metadata": {},
     "output_type": "execute_result"
    }
   ],
   "source": [
    "bestiary.head()"
   ],
   "metadata": {
    "collapsed": false
   }
  },
  {
   "cell_type": "markdown",
   "source": [
    "```unpack_column``` - Funkcja która rozpakowuje słownik i zmienia go w dataframe. Printuje pierwszą wartość tabeli i długość"
   ],
   "metadata": {
    "collapsed": false
   }
  },
  {
   "cell_type": "code",
   "execution_count": 7,
   "outputs": [],
   "source": [
    "def unpack_column(df, column_name):\n",
    "    new_df = df[column_name].apply(pd.Series)\n",
    "    print(new_df.iloc[0])\n",
    "    print(\"Len =\", len(new_df.iloc[0]))\n",
    "    return new_df"
   ],
   "metadata": {
    "collapsed": false
   }
  },
  {
   "cell_type": "code",
   "execution_count": 8,
   "outputs": [
    {
     "name": "stdout",
     "output_type": "stream",
     "text": [
      "abilities     {'cha': {'mod': 1}, 'con': {'mod': 5}, 'dex': ...\n",
      "attributes    {'ac': {'details': '', 'value': 29}, 'allSaves...\n",
      "details       {'alignment': {'value': 'CE'}, 'blurb': '', 'c...\n",
      "resources                     {'focus': {'max': 1, 'value': 1}}\n",
      "saves         {'fortitude': {'saveDetail': '', 'value': 22},...\n",
      "traits        {'languages': {'custom': '', 'selected': [], '...\n",
      "schema        {'version': 0.8270000000000001, 'lastMigration...\n",
      "Name: 0, dtype: object\n",
      "Len =  7\n"
     ]
    }
   ],
   "source": [
    "bestiary_system = bestiary[\"system\"].apply(pd.Series)\n",
    "print(bestiary_system.iloc[0])\n",
    "print(\"Len = \", len(bestiary_system.iloc[0]))"
   ],
   "metadata": {
    "collapsed": false
   }
  },
  {
   "cell_type": "markdown",
   "source": [
    "## Abilities"
   ],
   "metadata": {
    "collapsed": false
   }
  },
  {
   "cell_type": "code",
   "execution_count": 11,
   "outputs": [
    {
     "name": "stdout",
     "output_type": "stream",
     "text": [
      "cha    {'mod': 1}\n",
      "con    {'mod': 5}\n",
      "dex    {'mod': 2}\n",
      "int    {'mod': 1}\n",
      "str    {'mod': 7}\n",
      "wis    {'mod': 2}\n",
      "Name: 0, dtype: object\n",
      "Len = 6\n"
     ]
    }
   ],
   "source": [
    "abilities = unpack_column(bestiary_system, \"abilities\")"
   ],
   "metadata": {
    "collapsed": false
   }
  },
  {
   "cell_type": "markdown",
   "source": [
    "Sprawdzenie jakie klucze występują w słownikach - czy tylko ```mod```?"
   ],
   "metadata": {
    "collapsed": false
   }
  },
  {
   "cell_type": "code",
   "execution_count": 12,
   "outputs": [],
   "source": [
    "def check_diff_values(df, values):\n",
    "    return (\n",
    "        len(\n",
    "            [\n",
    "                _\n",
    "                for i, row in df.iterrows()\n",
    "                for col in df.columns\n",
    "                for val in values\n",
    "                if len(row[col]) != len(values) or val not in row[col].keys()\n",
    "            ]\n",
    "        )\n",
    "        > 0\n",
    "    )"
   ],
   "metadata": {
    "collapsed": false
   }
  },
  {
   "cell_type": "code",
   "execution_count": 13,
   "outputs": [
    {
     "name": "stdout",
     "output_type": "stream",
     "text": [
      "0\n",
      "Czy ją tu inne wartości oprócz 'mod'? False\n"
     ]
    }
   ],
   "source": [
    "print(\n",
    "    len(\n",
    "        [\n",
    "            _\n",
    "            for i, row in abilities.iterrows()\n",
    "            for col in abilities.columns\n",
    "            if len(row[col]) != 1 or \"mod\" not in row[col].keys()\n",
    "        ]\n",
    "    )\n",
    ")\n",
    "print(\"Czy ją tu inne wartości oprócz 'mod'?\", check_diff_values(abilities, [\"mod\"]))"
   ],
   "metadata": {
    "collapsed": false
   }
  },
  {
   "cell_type": "markdown",
   "source": [
    "Same mody, więc możnachyba zmienić te słowniki na wartość"
   ],
   "metadata": {
    "collapsed": false
   }
  },
  {
   "cell_type": "code",
   "execution_count": 14,
   "outputs": [
    {
     "data": {
      "text/plain": "           cha         con         dex          int          str         wis\n0   {'mod': 1}  {'mod': 5}  {'mod': 2}   {'mod': 1}   {'mod': 7}  {'mod': 2}\n1   {'mod': 1}  {'mod': 5}  {'mod': 0}  {'mod': -4}   {'mod': 9}  {'mod': 2}\n2  {'mod': -2}  {'mod': 6}  {'mod': 3}  {'mod': -4}   {'mod': 7}  {'mod': 3}\n3   {'mod': 6}  {'mod': 5}  {'mod': 4}   {'mod': 6}   {'mod': 7}  {'mod': 5}\n4   {'mod': 1}  {'mod': 1}  {'mod': 3}  {'mod': -1}  {'mod': -5}  {'mod': 1}",
      "text/html": "<div>\n<style scoped>\n    .dataframe tbody tr th:only-of-type {\n        vertical-align: middle;\n    }\n\n    .dataframe tbody tr th {\n        vertical-align: top;\n    }\n\n    .dataframe thead th {\n        text-align: right;\n    }\n</style>\n<table border=\"1\" class=\"dataframe\">\n  <thead>\n    <tr style=\"text-align: right;\">\n      <th></th>\n      <th>cha</th>\n      <th>con</th>\n      <th>dex</th>\n      <th>int</th>\n      <th>str</th>\n      <th>wis</th>\n    </tr>\n  </thead>\n  <tbody>\n    <tr>\n      <th>0</th>\n      <td>{'mod': 1}</td>\n      <td>{'mod': 5}</td>\n      <td>{'mod': 2}</td>\n      <td>{'mod': 1}</td>\n      <td>{'mod': 7}</td>\n      <td>{'mod': 2}</td>\n    </tr>\n    <tr>\n      <th>1</th>\n      <td>{'mod': 1}</td>\n      <td>{'mod': 5}</td>\n      <td>{'mod': 0}</td>\n      <td>{'mod': -4}</td>\n      <td>{'mod': 9}</td>\n      <td>{'mod': 2}</td>\n    </tr>\n    <tr>\n      <th>2</th>\n      <td>{'mod': -2}</td>\n      <td>{'mod': 6}</td>\n      <td>{'mod': 3}</td>\n      <td>{'mod': -4}</td>\n      <td>{'mod': 7}</td>\n      <td>{'mod': 3}</td>\n    </tr>\n    <tr>\n      <th>3</th>\n      <td>{'mod': 6}</td>\n      <td>{'mod': 5}</td>\n      <td>{'mod': 4}</td>\n      <td>{'mod': 6}</td>\n      <td>{'mod': 7}</td>\n      <td>{'mod': 5}</td>\n    </tr>\n    <tr>\n      <th>4</th>\n      <td>{'mod': 1}</td>\n      <td>{'mod': 1}</td>\n      <td>{'mod': 3}</td>\n      <td>{'mod': -1}</td>\n      <td>{'mod': -5}</td>\n      <td>{'mod': 1}</td>\n    </tr>\n  </tbody>\n</table>\n</div>"
     },
     "execution_count": 14,
     "metadata": {},
     "output_type": "execute_result"
    }
   ],
   "source": [
    "abilities.head()"
   ],
   "metadata": {
    "collapsed": false
   }
  },
  {
   "cell_type": "markdown",
   "source": [
    "### Zamiana słowników na wartości *mod*"
   ],
   "metadata": {
    "collapsed": false
   }
  },
  {
   "cell_type": "code",
   "execution_count": 18,
   "outputs": [],
   "source": [
    "from copy import deepcopy\n",
    "\n",
    "\n",
    "abilities_backup = deepcopy(abilities)"
   ],
   "metadata": {
    "collapsed": false
   }
  },
  {
   "cell_type": "markdown",
   "source": [
    "Na razie nie znalazłam ładniejszego sposobu na podmianę"
   ],
   "metadata": {
    "collapsed": false
   }
  },
  {
   "cell_type": "code",
   "execution_count": 19,
   "outputs": [],
   "source": [
    "for col in abilities.columns:\n",
    "    for i, row in abilities.iterrows():\n",
    "        row[col] = row[col].get(\"mod\")"
   ],
   "metadata": {
    "collapsed": false
   }
  },
  {
   "cell_type": "code",
   "execution_count": 20,
   "outputs": [
    {
     "data": {
      "text/plain": "  cha con dex int str wis\n0   1   5   2   1   7   2\n1   1   5   0  -4   9   2\n2  -2   6   3  -4   7   3\n3   6   5   4   6   7   5\n4   1   1   3  -1  -5   1",
      "text/html": "<div>\n<style scoped>\n    .dataframe tbody tr th:only-of-type {\n        vertical-align: middle;\n    }\n\n    .dataframe tbody tr th {\n        vertical-align: top;\n    }\n\n    .dataframe thead th {\n        text-align: right;\n    }\n</style>\n<table border=\"1\" class=\"dataframe\">\n  <thead>\n    <tr style=\"text-align: right;\">\n      <th></th>\n      <th>cha</th>\n      <th>con</th>\n      <th>dex</th>\n      <th>int</th>\n      <th>str</th>\n      <th>wis</th>\n    </tr>\n  </thead>\n  <tbody>\n    <tr>\n      <th>0</th>\n      <td>1</td>\n      <td>5</td>\n      <td>2</td>\n      <td>1</td>\n      <td>7</td>\n      <td>2</td>\n    </tr>\n    <tr>\n      <th>1</th>\n      <td>1</td>\n      <td>5</td>\n      <td>0</td>\n      <td>-4</td>\n      <td>9</td>\n      <td>2</td>\n    </tr>\n    <tr>\n      <th>2</th>\n      <td>-2</td>\n      <td>6</td>\n      <td>3</td>\n      <td>-4</td>\n      <td>7</td>\n      <td>3</td>\n    </tr>\n    <tr>\n      <th>3</th>\n      <td>6</td>\n      <td>5</td>\n      <td>4</td>\n      <td>6</td>\n      <td>7</td>\n      <td>5</td>\n    </tr>\n    <tr>\n      <th>4</th>\n      <td>1</td>\n      <td>1</td>\n      <td>3</td>\n      <td>-1</td>\n      <td>-5</td>\n      <td>1</td>\n    </tr>\n  </tbody>\n</table>\n</div>"
     },
     "execution_count": 20,
     "metadata": {},
     "output_type": "execute_result"
    }
   ],
   "source": [
    "abilities.head()"
   ],
   "metadata": {
    "collapsed": false
   }
  },
  {
   "cell_type": "markdown",
   "source": [
    "**abilities do uwzględnienia w predykcji**"
   ],
   "metadata": {
    "collapsed": false
   }
  },
  {
   "cell_type": "markdown",
   "source": [
    "## Analiza attributes"
   ],
   "metadata": {
    "collapsed": false
   }
  },
  {
   "cell_type": "code",
   "execution_count": 21,
   "outputs": [
    {
     "name": "stdout",
     "output_type": "stream",
     "text": [
      "ac                                  {'details': '', 'value': 29}\n",
      "allSaves           {'value': '+1 status to all saves vs. magic'}\n",
      "hp             {'details': '', 'max': 215, 'temp': 0, 'value'...\n",
      "immunities     [{'type': 'cold'}, {'type': 'paralyzed'}, {'ty...\n",
      "initiative                             {'ability': 'perception'}\n",
      "perception                                         {'value': 20}\n",
      "speed          {'details': 'climb on ice only', 'otherSpeeds'...\n",
      "weaknesses                       [{'type': 'fire', 'value': 10}]\n",
      "resistances                                                  NaN\n",
      "hardness                                                     NaN\n",
      "adjustment                                                   NaN\n",
      "Name: 0, dtype: object\n",
      "Len = 11\n"
     ]
    }
   ],
   "source": [
    "attributes = unpack_column(bestiary_system, \"attributes\")"
   ],
   "metadata": {
    "collapsed": false
   }
  },
  {
   "cell_type": "code",
   "execution_count": 22,
   "outputs": [
    {
     "name": "stdout",
     "output_type": "stream",
     "text": [
      "<class 'pandas.core.frame.DataFrame'>\n",
      "Int64Index: 1206 entries, 0 to 364\n",
      "Data columns (total 11 columns):\n",
      " #   Column       Non-Null Count  Dtype  \n",
      "---  ------       --------------  -----  \n",
      " 0   ac           1206 non-null   object \n",
      " 1   allSaves     1206 non-null   object \n",
      " 2   hp           1206 non-null   object \n",
      " 3   immunities   637 non-null    object \n",
      " 4   initiative   1206 non-null   object \n",
      " 5   perception   1206 non-null   object \n",
      " 6   speed        1206 non-null   object \n",
      " 7   weaknesses   463 non-null    object \n",
      " 8   resistances  344 non-null    object \n",
      " 9   hardness     10 non-null     object \n",
      " 10  adjustment   0 non-null      float64\n",
      "dtypes: float64(1), object(10)\n",
      "memory usage: 113.1+ KB\n"
     ]
    }
   ],
   "source": [
    "attributes.info()"
   ],
   "metadata": {
    "collapsed": false
   }
  },
  {
   "cell_type": "markdown",
   "source": [
    "Brakujące wartości w kolumnach:\n",
    "* immunities\n",
    "* weaknesses\n",
    "* resistance\n",
    "W *adjustments* nic nie ma"
   ],
   "metadata": {
    "collapsed": false
   }
  },
  {
   "cell_type": "code",
   "execution_count": 23,
   "outputs": [
    {
     "data": {
      "text/plain": "                             ac  \\\n0  {'details': '', 'value': 29}   \n1  {'details': '', 'value': 28}   \n2  {'details': '', 'value': 25}   \n3  {'details': '', 'value': 41}   \n4  {'details': '', 'value': 16}   \n\n                                        allSaves  \\\n0  {'value': '+1 status to all saves vs. magic'}   \n1                                  {'value': ''}   \n2                                  {'value': ''}   \n3  {'value': '+1 status to all saves vs. magic'}   \n4                                  {'value': ''}   \n\n                                                  hp  \\\n0  {'details': '', 'max': 215, 'temp': 0, 'value'...   \n1  {'details': '', 'max': 220, 'temp': 0, 'value'...   \n2  {'details': '', 'max': 175, 'temp': 0, 'value'...   \n3  {'details': '', 'max': 315, 'temp': 0, 'value'...   \n4  {'details': '', 'max': 20, 'temp': 0, 'value':...   \n\n                                          immunities  \\\n0  [{'type': 'cold'}, {'type': 'paralyzed'}, {'ty...   \n1                                                NaN   \n2                                                NaN   \n3  [{'type': 'paralyzed'}, {'type': 'poison'}, {'...   \n4                                                NaN   \n\n                  initiative     perception  \\\n0  {'ability': 'perception'}  {'value': 20}   \n1  {'ability': 'perception'}  {'value': 16}   \n2  {'ability': 'perception'}  {'value': 17}   \n3  {'ability': 'perception'}  {'value': 30}   \n4  {'ability': 'perception'}   {'value': 6}   \n\n                                               speed  \\\n0  {'details': 'climb on ice only', 'otherSpeeds'...   \n1                   {'otherSpeeds': [], 'value': 35}   \n2  {'otherSpeeds': [{'type': 'climb', 'value': 30...   \n3  {'details': 'trackless step, woodland stride',...   \n4  {'otherSpeeds': [{'type': 'fly', 'value': 40}]...   \n\n                        weaknesses                     resistances hardness  \\\n0  [{'type': 'fire', 'value': 10}]                             NaN      NaN   \n1                              NaN                             NaN      NaN   \n2                              NaN                             NaN      NaN   \n3                              NaN                             NaN      NaN   \n4   [{'type': 'evil', 'value': 3}]  [{'type': 'fire', 'value': 3}]      NaN   \n\n   adjustment  \n0         NaN  \n1         NaN  \n2         NaN  \n3         NaN  \n4         NaN  ",
      "text/html": "<div>\n<style scoped>\n    .dataframe tbody tr th:only-of-type {\n        vertical-align: middle;\n    }\n\n    .dataframe tbody tr th {\n        vertical-align: top;\n    }\n\n    .dataframe thead th {\n        text-align: right;\n    }\n</style>\n<table border=\"1\" class=\"dataframe\">\n  <thead>\n    <tr style=\"text-align: right;\">\n      <th></th>\n      <th>ac</th>\n      <th>allSaves</th>\n      <th>hp</th>\n      <th>immunities</th>\n      <th>initiative</th>\n      <th>perception</th>\n      <th>speed</th>\n      <th>weaknesses</th>\n      <th>resistances</th>\n      <th>hardness</th>\n      <th>adjustment</th>\n    </tr>\n  </thead>\n  <tbody>\n    <tr>\n      <th>0</th>\n      <td>{'details': '', 'value': 29}</td>\n      <td>{'value': '+1 status to all saves vs. magic'}</td>\n      <td>{'details': '', 'max': 215, 'temp': 0, 'value'...</td>\n      <td>[{'type': 'cold'}, {'type': 'paralyzed'}, {'ty...</td>\n      <td>{'ability': 'perception'}</td>\n      <td>{'value': 20}</td>\n      <td>{'details': 'climb on ice only', 'otherSpeeds'...</td>\n      <td>[{'type': 'fire', 'value': 10}]</td>\n      <td>NaN</td>\n      <td>NaN</td>\n      <td>NaN</td>\n    </tr>\n    <tr>\n      <th>1</th>\n      <td>{'details': '', 'value': 28}</td>\n      <td>{'value': ''}</td>\n      <td>{'details': '', 'max': 220, 'temp': 0, 'value'...</td>\n      <td>NaN</td>\n      <td>{'ability': 'perception'}</td>\n      <td>{'value': 16}</td>\n      <td>{'otherSpeeds': [], 'value': 35}</td>\n      <td>NaN</td>\n      <td>NaN</td>\n      <td>NaN</td>\n      <td>NaN</td>\n    </tr>\n    <tr>\n      <th>2</th>\n      <td>{'details': '', 'value': 25}</td>\n      <td>{'value': ''}</td>\n      <td>{'details': '', 'max': 175, 'temp': 0, 'value'...</td>\n      <td>NaN</td>\n      <td>{'ability': 'perception'}</td>\n      <td>{'value': 17}</td>\n      <td>{'otherSpeeds': [{'type': 'climb', 'value': 30...</td>\n      <td>NaN</td>\n      <td>NaN</td>\n      <td>NaN</td>\n      <td>NaN</td>\n    </tr>\n    <tr>\n      <th>3</th>\n      <td>{'details': '', 'value': 41}</td>\n      <td>{'value': '+1 status to all saves vs. magic'}</td>\n      <td>{'details': '', 'max': 315, 'temp': 0, 'value'...</td>\n      <td>[{'type': 'paralyzed'}, {'type': 'poison'}, {'...</td>\n      <td>{'ability': 'perception'}</td>\n      <td>{'value': 30}</td>\n      <td>{'details': 'trackless step, woodland stride',...</td>\n      <td>NaN</td>\n      <td>NaN</td>\n      <td>NaN</td>\n      <td>NaN</td>\n    </tr>\n    <tr>\n      <th>4</th>\n      <td>{'details': '', 'value': 16}</td>\n      <td>{'value': ''}</td>\n      <td>{'details': '', 'max': 20, 'temp': 0, 'value':...</td>\n      <td>NaN</td>\n      <td>{'ability': 'perception'}</td>\n      <td>{'value': 6}</td>\n      <td>{'otherSpeeds': [{'type': 'fly', 'value': 40}]...</td>\n      <td>[{'type': 'evil', 'value': 3}]</td>\n      <td>[{'type': 'fire', 'value': 3}]</td>\n      <td>NaN</td>\n      <td>NaN</td>\n    </tr>\n  </tbody>\n</table>\n</div>"
     },
     "execution_count": 23,
     "metadata": {},
     "output_type": "execute_result"
    }
   ],
   "source": [
    "attributes.head()"
   ],
   "metadata": {
    "collapsed": false
   }
  },
  {
   "cell_type": "markdown",
   "source": [
    "Masa jakiś nowych informacji: znów słowniki"
   ],
   "metadata": {
    "collapsed": false
   }
  },
  {
   "cell_type": "markdown",
   "source": [
    "### Analiza attributes: ac"
   ],
   "metadata": {
    "collapsed": false
   }
  },
  {
   "cell_type": "code",
   "execution_count": 24,
   "outputs": [
    {
     "name": "stdout",
     "output_type": "stream",
     "text": [
      "0      {'details': '', 'value': 29}\n",
      "1      {'details': '', 'value': 28}\n",
      "2      {'details': '', 'value': 25}\n",
      "3      {'details': '', 'value': 41}\n",
      "4      {'details': '', 'value': 16}\n",
      "                   ...             \n",
      "360    {'details': '', 'value': 46}\n",
      "361    {'details': '', 'value': 15}\n",
      "362    {'details': '', 'value': 33}\n",
      "363    {'details': '', 'value': 22}\n",
      "364    {'details': '', 'value': 24}\n",
      "Name: ac, Length: 1206, dtype: object\n"
     ]
    }
   ],
   "source": [
    "print(attributes.ac)"
   ],
   "metadata": {
    "collapsed": false
   }
  },
  {
   "cell_type": "code",
   "execution_count": 25,
   "outputs": [
    {
     "name": "stdout",
     "output_type": "stream",
     "text": [
      "Czy są inne kolumny niż 'details' oraz 'vaue'?\n"
     ]
    },
    {
     "data": {
      "text/plain": "False"
     },
     "execution_count": 25,
     "metadata": {},
     "output_type": "execute_result"
    }
   ],
   "source": [
    "print(\"Czy są inne kolumny niż 'details' oraz 'vaue'?\")\n",
    "check_diff_values(pd.DataFrame(data=attributes.ac), [\"details\", \"value\"])"
   ],
   "metadata": {
    "collapsed": false
   }
  },
  {
   "cell_type": "code",
   "execution_count": 26,
   "outputs": [],
   "source": [
    "def find_other_values(df, values):\n",
    "    result = []\n",
    "    for i, row in df.iterrows():\n",
    "        for col in df:\n",
    "            if len(row[col]) != len(values):\n",
    "                # print(row[col])\n",
    "                result.append(row[col])\n",
    "                continue\n",
    "            for val in values:\n",
    "                if val not in row[col].keys() > 0:\n",
    "                    result.append(row[col])\n",
    "    return result"
   ],
   "metadata": {
    "collapsed": false
   }
  },
  {
   "cell_type": "code",
   "execution_count": 27,
   "outputs": [],
   "source": [
    "attributes_ac_details = {i: row[\"details\"] for i, row in attributes.ac.iteritems()}"
   ],
   "metadata": {
    "collapsed": false
   }
  },
  {
   "cell_type": "code",
   "execution_count": 45,
   "outputs": [],
   "source": [
    "def return_zero():\n",
    "    return 0\n",
    "\n",
    "\n",
    "def print_dictionery(dict):\n",
    "    df = pd.DataFrame(\n",
    "        data={\n",
    "            \"value\": [key for key in dict.keys()],\n",
    "            \"number\": [dict.get(key) for key in dict.keys()],\n",
    "        }\n",
    "    )\n",
    "    display(df)\n",
    "\n",
    "\n",
    "def check_not_null_val(df, col, val=\"\"):\n",
    "    not_null_dict = defaultdict(return_zero)\n",
    "    for i, row in df.iterrows():\n",
    "        v = row.get(col)\n",
    "        if v != \"\" and v is not None and v != val:\n",
    "            not_null_dict[v] += 1\n",
    "    print(\"Diff Not null: \", len(not_null_dict))\n",
    "    print(\"All null values: \", sum(item for i, item in not_null_dict.items()))\n",
    "    print_dictionery(not_null_dict)\n",
    "    # return not_null_dict"
   ],
   "metadata": {
    "collapsed": false
   }
  },
  {
   "cell_type": "code",
   "execution_count": 46,
   "outputs": [
    {
     "name": "stdout",
     "output_type": "stream",
     "text": [
      "details      \n",
      "value      29\n",
      "Name: 0, dtype: object\n",
      "Len = 2\n",
      "Diff Not null:  24\n",
      "All null values:  59\n"
     ]
    },
    {
     "data": {
      "text/plain": "                                   value  number\n0                      all-around vision      25\n1      (14 when broken); construct armor       1\n2                (18 with shield raised)       1\n3                  22 with shield raised       2\n4      (15 when broken); construct armor       1\n5                (20 with shield raised)       2\n6                (21 with shield raised)       2\n7       (22 against prey; see Hunt Prey)       1\n8           +1 status vs. evil creatures       2\n9                (22 with shield raised)       1\n10     (13 when broken); construct armor       1\n11               (25 with shield raised)       2\n12     (22 when broken); construct armor       2\n13                 or 36 vs. non-magical       1\n14  (10 from inside the Dimensional Pit)       1\n15     (35 when broken); construct armor       1\n16                          fed by metal       6\n17              (29 with shields raised)       1\n18           (27 without alien vestment)       1\n19               (26 with shield raised)       1\n20                (31 with guard raised)       1\n21     (26 when broken); construct armor       1\n22     (32 when broken); construct armor       1\n23     (12 when broken); construct armor       1",
      "text/html": "<div>\n<style scoped>\n    .dataframe tbody tr th:only-of-type {\n        vertical-align: middle;\n    }\n\n    .dataframe tbody tr th {\n        vertical-align: top;\n    }\n\n    .dataframe thead th {\n        text-align: right;\n    }\n</style>\n<table border=\"1\" class=\"dataframe\">\n  <thead>\n    <tr style=\"text-align: right;\">\n      <th></th>\n      <th>value</th>\n      <th>number</th>\n    </tr>\n  </thead>\n  <tbody>\n    <tr>\n      <th>0</th>\n      <td>all-around vision</td>\n      <td>25</td>\n    </tr>\n    <tr>\n      <th>1</th>\n      <td>(14 when broken); construct armor</td>\n      <td>1</td>\n    </tr>\n    <tr>\n      <th>2</th>\n      <td>(18 with shield raised)</td>\n      <td>1</td>\n    </tr>\n    <tr>\n      <th>3</th>\n      <td>22 with shield raised</td>\n      <td>2</td>\n    </tr>\n    <tr>\n      <th>4</th>\n      <td>(15 when broken); construct armor</td>\n      <td>1</td>\n    </tr>\n    <tr>\n      <th>5</th>\n      <td>(20 with shield raised)</td>\n      <td>2</td>\n    </tr>\n    <tr>\n      <th>6</th>\n      <td>(21 with shield raised)</td>\n      <td>2</td>\n    </tr>\n    <tr>\n      <th>7</th>\n      <td>(22 against prey; see Hunt Prey)</td>\n      <td>1</td>\n    </tr>\n    <tr>\n      <th>8</th>\n      <td>+1 status vs. evil creatures</td>\n      <td>2</td>\n    </tr>\n    <tr>\n      <th>9</th>\n      <td>(22 with shield raised)</td>\n      <td>1</td>\n    </tr>\n    <tr>\n      <th>10</th>\n      <td>(13 when broken); construct armor</td>\n      <td>1</td>\n    </tr>\n    <tr>\n      <th>11</th>\n      <td>(25 with shield raised)</td>\n      <td>2</td>\n    </tr>\n    <tr>\n      <th>12</th>\n      <td>(22 when broken); construct armor</td>\n      <td>2</td>\n    </tr>\n    <tr>\n      <th>13</th>\n      <td>or 36 vs. non-magical</td>\n      <td>1</td>\n    </tr>\n    <tr>\n      <th>14</th>\n      <td>(10 from inside the Dimensional Pit)</td>\n      <td>1</td>\n    </tr>\n    <tr>\n      <th>15</th>\n      <td>(35 when broken); construct armor</td>\n      <td>1</td>\n    </tr>\n    <tr>\n      <th>16</th>\n      <td>fed by metal</td>\n      <td>6</td>\n    </tr>\n    <tr>\n      <th>17</th>\n      <td>(29 with shields raised)</td>\n      <td>1</td>\n    </tr>\n    <tr>\n      <th>18</th>\n      <td>(27 without alien vestment)</td>\n      <td>1</td>\n    </tr>\n    <tr>\n      <th>19</th>\n      <td>(26 with shield raised)</td>\n      <td>1</td>\n    </tr>\n    <tr>\n      <th>20</th>\n      <td>(31 with guard raised)</td>\n      <td>1</td>\n    </tr>\n    <tr>\n      <th>21</th>\n      <td>(26 when broken); construct armor</td>\n      <td>1</td>\n    </tr>\n    <tr>\n      <th>22</th>\n      <td>(32 when broken); construct armor</td>\n      <td>1</td>\n    </tr>\n    <tr>\n      <th>23</th>\n      <td>(12 when broken); construct armor</td>\n      <td>1</td>\n    </tr>\n  </tbody>\n</table>\n</div>"
     },
     "metadata": {},
     "output_type": "display_data"
    }
   ],
   "source": [
    "check_not_null_val(pd.DataFrame(data=unpack_column(attributes, \"ac\")), \"details\")"
   ],
   "metadata": {
    "collapsed": false
   }
  },
  {
   "cell_type": "markdown",
   "source": [
    "Można olać całość i uwzglednic jedynie **value**\n",
    "\n",
    "Przynajmniej tak mi się wydaje\n",
    "\n",
    "**ac value do uwzględnienia w predykcji**"
   ],
   "metadata": {
    "collapsed": false
   }
  },
  {
   "cell_type": "markdown",
   "source": [
    "### Analiza attributes: allSaves"
   ],
   "metadata": {
    "collapsed": false
   }
  },
  {
   "cell_type": "code",
   "execution_count": 47,
   "outputs": [
    {
     "name": "stdout",
     "output_type": "stream",
     "text": [
      "0          {'value': '+1 status to all saves vs. magic'}\n",
      "1                                          {'value': ''}\n",
      "2                                          {'value': ''}\n",
      "3          {'value': '+1 status to all saves vs. magic'}\n",
      "4                                          {'value': ''}\n",
      "                             ...                        \n",
      "360        {'value': '+1 status to all saves vs. magic'}\n",
      "361                                        {'value': ''}\n",
      "362                                        {'value': ''}\n",
      "363    {'value': '+1 status to all saves vs. divine a...\n",
      "364                                        {'value': ''}\n",
      "Name: allSaves, Length: 1206, dtype: object\n"
     ]
    }
   ],
   "source": [
    "print(attributes.allSaves)"
   ],
   "metadata": {
    "collapsed": false
   }
  },
  {
   "cell_type": "code",
   "execution_count": 48,
   "outputs": [
    {
     "name": "stdout",
     "output_type": "stream",
     "text": [
      "czy w attributes allSaves występują inne dane niż 'value'?\n"
     ]
    },
    {
     "data": {
      "text/plain": "False"
     },
     "execution_count": 48,
     "metadata": {},
     "output_type": "execute_result"
    }
   ],
   "source": [
    "print(\"czy w attributes allSaves występują inne dane niż 'value'?\")\n",
    "check_diff_values(pd.DataFrame(data=attributes.allSaves), [\"value\"])"
   ],
   "metadata": {
    "collapsed": false
   }
  },
  {
   "cell_type": "code",
   "execution_count": 49,
   "outputs": [
    {
     "name": "stdout",
     "output_type": "stream",
     "text": [
      "value    +1 status to all saves vs. magic\n",
      "Name: 0, dtype: object\n",
      "Len = 1\n",
      "Diff Not null:  50\n",
      "All null values:  302\n"
     ]
    },
    {
     "data": {
      "text/plain": "                                                value  number\n0                    +1 status to all saves vs. magic     207\n1                                    guarded thoughts       1\n2          +4 status to all saves vs. fear and dreams       1\n3                    +2 status to all saves vs. magic       8\n4                 +1 status to all saves vs. positive       8\n5   +1 status to all saves vs. magic, +2 status to...       3\n6   +1 status to all saves vs. magic, +4 status to...       7\n7            +1 status to all saves vs. death effects       1\n8                     +4 status to all saves vs. fear       1\n9   +2 status to all saves vs. magic, -2 to all sa...       1\n10          +1 status to all saves vs. evil creatures       2\n11   +2 circumstance to all saves vs. dream and sleep       1\n12                        +2 to will saves vs. mental       1\n13        +2 status to all saves vs. magic, iron mind       1\n14               +2 to all saves vs. grapple or shove       1\n15  +1 status to all saves vs. disease (critical f...       1\n16  +2 status to all saves vs. magic, +3 status to...       3\n17           +2 circumstance to all saves vs. disease       3\n18     +2 status to all saves vs. auditory and visual       1\n19                       +2 to will saves vs. emotion       1\n20                    +2 status to all saves vs. cold       2\n21                  +1 status to all saves vs. mental       1\n22                 +4 status to will saves vs. mental       2\n23      +2 status to all saves vs. disease and poison       1\n24                          +1 to all saves vs. magic       7\n25  +2 status to all saves vs. enchantment and ill...       1\n26  +1 status to all saves vs. magic , +2 status t...       1\n27                  -2 status to all saves vs. curses       1\n28                  +2 status to all saves vs. mental       1\n29                    +2 status to all saves vs. fear       1\n30                  +4 status to all saves vs. mental       2\n31                   +4 status to all saves vs. sonic       1\n32    +1 status to all saves vs. controlled condition       1\n33        +4 status to all saves vs. mental or divine       3\n34            +2 status to all saves vs. divine magic       1\n35                  +2 status to all saves vs. curses       1\n36           -1 status to all saves vs. death effects       2\n37                    +1 status to all saves vs. evil       2\n38                -2 to all saves vs. emotion effects       2\n39                               circle of protection       5\n40                          +4 to will saves vs. fear       1\n41      +2 status to all saves vs. linguistic effects       1\n42  +1 circumstance to all saves vs. disease, pois...       1\n43            +2 status to all saves vs. primal magic       1\n44                  +2 status to all saves vs. poison       1\n45                -1 to all saves vs. emotion effects       2\n46      +1 status to all saves vs. darkness or shadow       1\n47                         +2 to all saves vs. poison       1\n48    +2 circumstance to all saves vs. shove and trip       1\n49     +1 status to all saves vs. divine and positive       1",
      "text/html": "<div>\n<style scoped>\n    .dataframe tbody tr th:only-of-type {\n        vertical-align: middle;\n    }\n\n    .dataframe tbody tr th {\n        vertical-align: top;\n    }\n\n    .dataframe thead th {\n        text-align: right;\n    }\n</style>\n<table border=\"1\" class=\"dataframe\">\n  <thead>\n    <tr style=\"text-align: right;\">\n      <th></th>\n      <th>value</th>\n      <th>number</th>\n    </tr>\n  </thead>\n  <tbody>\n    <tr>\n      <th>0</th>\n      <td>+1 status to all saves vs. magic</td>\n      <td>207</td>\n    </tr>\n    <tr>\n      <th>1</th>\n      <td>guarded thoughts</td>\n      <td>1</td>\n    </tr>\n    <tr>\n      <th>2</th>\n      <td>+4 status to all saves vs. fear and dreams</td>\n      <td>1</td>\n    </tr>\n    <tr>\n      <th>3</th>\n      <td>+2 status to all saves vs. magic</td>\n      <td>8</td>\n    </tr>\n    <tr>\n      <th>4</th>\n      <td>+1 status to all saves vs. positive</td>\n      <td>8</td>\n    </tr>\n    <tr>\n      <th>5</th>\n      <td>+1 status to all saves vs. magic, +2 status to...</td>\n      <td>3</td>\n    </tr>\n    <tr>\n      <th>6</th>\n      <td>+1 status to all saves vs. magic, +4 status to...</td>\n      <td>7</td>\n    </tr>\n    <tr>\n      <th>7</th>\n      <td>+1 status to all saves vs. death effects</td>\n      <td>1</td>\n    </tr>\n    <tr>\n      <th>8</th>\n      <td>+4 status to all saves vs. fear</td>\n      <td>1</td>\n    </tr>\n    <tr>\n      <th>9</th>\n      <td>+2 status to all saves vs. magic, -2 to all sa...</td>\n      <td>1</td>\n    </tr>\n    <tr>\n      <th>10</th>\n      <td>+1 status to all saves vs. evil creatures</td>\n      <td>2</td>\n    </tr>\n    <tr>\n      <th>11</th>\n      <td>+2 circumstance to all saves vs. dream and sleep</td>\n      <td>1</td>\n    </tr>\n    <tr>\n      <th>12</th>\n      <td>+2 to will saves vs. mental</td>\n      <td>1</td>\n    </tr>\n    <tr>\n      <th>13</th>\n      <td>+2 status to all saves vs. magic, iron mind</td>\n      <td>1</td>\n    </tr>\n    <tr>\n      <th>14</th>\n      <td>+2 to all saves vs. grapple or shove</td>\n      <td>1</td>\n    </tr>\n    <tr>\n      <th>15</th>\n      <td>+1 status to all saves vs. disease (critical f...</td>\n      <td>1</td>\n    </tr>\n    <tr>\n      <th>16</th>\n      <td>+2 status to all saves vs. magic, +3 status to...</td>\n      <td>3</td>\n    </tr>\n    <tr>\n      <th>17</th>\n      <td>+2 circumstance to all saves vs. disease</td>\n      <td>3</td>\n    </tr>\n    <tr>\n      <th>18</th>\n      <td>+2 status to all saves vs. auditory and visual</td>\n      <td>1</td>\n    </tr>\n    <tr>\n      <th>19</th>\n      <td>+2 to will saves vs. emotion</td>\n      <td>1</td>\n    </tr>\n    <tr>\n      <th>20</th>\n      <td>+2 status to all saves vs. cold</td>\n      <td>2</td>\n    </tr>\n    <tr>\n      <th>21</th>\n      <td>+1 status to all saves vs. mental</td>\n      <td>1</td>\n    </tr>\n    <tr>\n      <th>22</th>\n      <td>+4 status to will saves vs. mental</td>\n      <td>2</td>\n    </tr>\n    <tr>\n      <th>23</th>\n      <td>+2 status to all saves vs. disease and poison</td>\n      <td>1</td>\n    </tr>\n    <tr>\n      <th>24</th>\n      <td>+1 to all saves vs. magic</td>\n      <td>7</td>\n    </tr>\n    <tr>\n      <th>25</th>\n      <td>+2 status to all saves vs. enchantment and ill...</td>\n      <td>1</td>\n    </tr>\n    <tr>\n      <th>26</th>\n      <td>+1 status to all saves vs. magic , +2 status t...</td>\n      <td>1</td>\n    </tr>\n    <tr>\n      <th>27</th>\n      <td>-2 status to all saves vs. curses</td>\n      <td>1</td>\n    </tr>\n    <tr>\n      <th>28</th>\n      <td>+2 status to all saves vs. mental</td>\n      <td>1</td>\n    </tr>\n    <tr>\n      <th>29</th>\n      <td>+2 status to all saves vs. fear</td>\n      <td>1</td>\n    </tr>\n    <tr>\n      <th>30</th>\n      <td>+4 status to all saves vs. mental</td>\n      <td>2</td>\n    </tr>\n    <tr>\n      <th>31</th>\n      <td>+4 status to all saves vs. sonic</td>\n      <td>1</td>\n    </tr>\n    <tr>\n      <th>32</th>\n      <td>+1 status to all saves vs. controlled condition</td>\n      <td>1</td>\n    </tr>\n    <tr>\n      <th>33</th>\n      <td>+4 status to all saves vs. mental or divine</td>\n      <td>3</td>\n    </tr>\n    <tr>\n      <th>34</th>\n      <td>+2 status to all saves vs. divine magic</td>\n      <td>1</td>\n    </tr>\n    <tr>\n      <th>35</th>\n      <td>+2 status to all saves vs. curses</td>\n      <td>1</td>\n    </tr>\n    <tr>\n      <th>36</th>\n      <td>-1 status to all saves vs. death effects</td>\n      <td>2</td>\n    </tr>\n    <tr>\n      <th>37</th>\n      <td>+1 status to all saves vs. evil</td>\n      <td>2</td>\n    </tr>\n    <tr>\n      <th>38</th>\n      <td>-2 to all saves vs. emotion effects</td>\n      <td>2</td>\n    </tr>\n    <tr>\n      <th>39</th>\n      <td>circle of protection</td>\n      <td>5</td>\n    </tr>\n    <tr>\n      <th>40</th>\n      <td>+4 to will saves vs. fear</td>\n      <td>1</td>\n    </tr>\n    <tr>\n      <th>41</th>\n      <td>+2 status to all saves vs. linguistic effects</td>\n      <td>1</td>\n    </tr>\n    <tr>\n      <th>42</th>\n      <td>+1 circumstance to all saves vs. disease, pois...</td>\n      <td>1</td>\n    </tr>\n    <tr>\n      <th>43</th>\n      <td>+2 status to all saves vs. primal magic</td>\n      <td>1</td>\n    </tr>\n    <tr>\n      <th>44</th>\n      <td>+2 status to all saves vs. poison</td>\n      <td>1</td>\n    </tr>\n    <tr>\n      <th>45</th>\n      <td>-1 to all saves vs. emotion effects</td>\n      <td>2</td>\n    </tr>\n    <tr>\n      <th>46</th>\n      <td>+1 status to all saves vs. darkness or shadow</td>\n      <td>1</td>\n    </tr>\n    <tr>\n      <th>47</th>\n      <td>+2 to all saves vs. poison</td>\n      <td>1</td>\n    </tr>\n    <tr>\n      <th>48</th>\n      <td>+2 circumstance to all saves vs. shove and trip</td>\n      <td>1</td>\n    </tr>\n    <tr>\n      <th>49</th>\n      <td>+1 status to all saves vs. divine and positive</td>\n      <td>1</td>\n    </tr>\n  </tbody>\n</table>\n</div>"
     },
     "metadata": {},
     "output_type": "display_data"
    }
   ],
   "source": [
    "check_not_null_val(pd.DataFrame(data=unpack_column(attributes, \"allSaves\")), \"value\")"
   ],
   "metadata": {
    "collapsed": false
   }
  },
  {
   "cell_type": "markdown",
   "source": [
    "Nie wiem jak to uwzględnić\n",
    "\n",
    "Gdyby to było w jakiejś postaci typu tabela kategorii i wartość dodana np. cold: +2\n",
    "\n",
    "ale nie jest\n",
    "\n",
    "więc chyba można olać"
   ],
   "metadata": {
    "collapsed": false
   }
  },
  {
   "cell_type": "markdown",
   "source": [
    "### Analiza attributes: *hp*"
   ],
   "metadata": {
    "collapsed": false
   }
  },
  {
   "cell_type": "code",
   "execution_count": 50,
   "outputs": [
    {
     "name": "stdout",
     "output_type": "stream",
     "text": [
      "details       \n",
      "max        215\n",
      "temp         0\n",
      "value      215\n",
      "Name: 0, dtype: object\n",
      "Len = 4\n"
     ]
    }
   ],
   "source": [
    "attributes_hp = unpack_column(attributes, \"hp\")"
   ],
   "metadata": {
    "collapsed": false
   }
  },
  {
   "cell_type": "code",
   "execution_count": 51,
   "outputs": [
    {
     "name": "stdout",
     "output_type": "stream",
     "text": [
      "<class 'pandas.core.frame.DataFrame'>\n",
      "Int64Index: 1206 entries, 0 to 364\n",
      "Data columns (total 4 columns):\n",
      " #   Column   Non-Null Count  Dtype \n",
      "---  ------   --------------  ----- \n",
      " 0   details  1206 non-null   object\n",
      " 1   max      1206 non-null   int64 \n",
      " 2   temp     1206 non-null   int64 \n",
      " 3   value    1206 non-null   int64 \n",
      "dtypes: int64(3), object(1)\n",
      "memory usage: 47.1+ KB\n"
     ]
    }
   ],
   "source": [
    "attributes_hp.info()"
   ],
   "metadata": {
    "collapsed": false
   }
  },
  {
   "cell_type": "code",
   "execution_count": 52,
   "outputs": [
    {
     "data": {
      "text/plain": "  details  max  temp  value\n0          215     0    215\n1          220     0    220\n2          175     0    175\n3          315     0    315\n4           20     0     20",
      "text/html": "<div>\n<style scoped>\n    .dataframe tbody tr th:only-of-type {\n        vertical-align: middle;\n    }\n\n    .dataframe tbody tr th {\n        vertical-align: top;\n    }\n\n    .dataframe thead th {\n        text-align: right;\n    }\n</style>\n<table border=\"1\" class=\"dataframe\">\n  <thead>\n    <tr style=\"text-align: right;\">\n      <th></th>\n      <th>details</th>\n      <th>max</th>\n      <th>temp</th>\n      <th>value</th>\n    </tr>\n  </thead>\n  <tbody>\n    <tr>\n      <th>0</th>\n      <td></td>\n      <td>215</td>\n      <td>0</td>\n      <td>215</td>\n    </tr>\n    <tr>\n      <th>1</th>\n      <td></td>\n      <td>220</td>\n      <td>0</td>\n      <td>220</td>\n    </tr>\n    <tr>\n      <th>2</th>\n      <td></td>\n      <td>175</td>\n      <td>0</td>\n      <td>175</td>\n    </tr>\n    <tr>\n      <th>3</th>\n      <td></td>\n      <td>315</td>\n      <td>0</td>\n      <td>315</td>\n    </tr>\n    <tr>\n      <th>4</th>\n      <td></td>\n      <td>20</td>\n      <td>0</td>\n      <td>20</td>\n    </tr>\n  </tbody>\n</table>\n</div>"
     },
     "execution_count": 52,
     "metadata": {},
     "output_type": "execute_result"
    }
   ],
   "source": [
    "attributes_hp.head()"
   ],
   "metadata": {
    "collapsed": false
   }
  },
  {
   "cell_type": "code",
   "execution_count": 53,
   "outputs": [
    {
     "name": "stdout",
     "output_type": "stream",
     "text": [
      "Diff Not null:  84\n",
      "All null values:  195\n"
     ]
    },
    {
     "data": {
      "text/plain": "                                           value  number\n0                                 fast healing 5       2\n1                               negative healing      67\n2                 negative healing, rejuvenation       6\n3     regeneration 15 (deactivated by cold iron)       3\n4     regeneration 10 (deactivated by cold iron)       4\n..                                           ...     ...\n79                                primal purpose       1\n80         regeneration 50 (deactivated by fire)       1\n81  regeneration 5 (deactivated by acid or fire)       1\n82     Regeneration 10 (deactivated by piercing)       1\n83                                   death umbra       1\n\n[84 rows x 2 columns]",
      "text/html": "<div>\n<style scoped>\n    .dataframe tbody tr th:only-of-type {\n        vertical-align: middle;\n    }\n\n    .dataframe tbody tr th {\n        vertical-align: top;\n    }\n\n    .dataframe thead th {\n        text-align: right;\n    }\n</style>\n<table border=\"1\" class=\"dataframe\">\n  <thead>\n    <tr style=\"text-align: right;\">\n      <th></th>\n      <th>value</th>\n      <th>number</th>\n    </tr>\n  </thead>\n  <tbody>\n    <tr>\n      <th>0</th>\n      <td>fast healing 5</td>\n      <td>2</td>\n    </tr>\n    <tr>\n      <th>1</th>\n      <td>negative healing</td>\n      <td>67</td>\n    </tr>\n    <tr>\n      <th>2</th>\n      <td>negative healing, rejuvenation</td>\n      <td>6</td>\n    </tr>\n    <tr>\n      <th>3</th>\n      <td>regeneration 15 (deactivated by cold iron)</td>\n      <td>3</td>\n    </tr>\n    <tr>\n      <th>4</th>\n      <td>regeneration 10 (deactivated by cold iron)</td>\n      <td>4</td>\n    </tr>\n    <tr>\n      <th>...</th>\n      <td>...</td>\n      <td>...</td>\n    </tr>\n    <tr>\n      <th>79</th>\n      <td>primal purpose</td>\n      <td>1</td>\n    </tr>\n    <tr>\n      <th>80</th>\n      <td>regeneration 50 (deactivated by fire)</td>\n      <td>1</td>\n    </tr>\n    <tr>\n      <th>81</th>\n      <td>regeneration 5 (deactivated by acid or fire)</td>\n      <td>1</td>\n    </tr>\n    <tr>\n      <th>82</th>\n      <td>Regeneration 10 (deactivated by piercing)</td>\n      <td>1</td>\n    </tr>\n    <tr>\n      <th>83</th>\n      <td>death umbra</td>\n      <td>1</td>\n    </tr>\n  </tbody>\n</table>\n<p>84 rows × 2 columns</p>\n</div>"
     },
     "metadata": {},
     "output_type": "display_data"
    }
   ],
   "source": [
    "hp_no_null_det = check_not_null_val(attributes_hp, \"details\")"
   ],
   "metadata": {
    "collapsed": false
   }
  },
  {
   "cell_type": "markdown",
   "source": [
    "analogicznie jak powyżej"
   ],
   "metadata": {
    "collapsed": false
   }
  },
  {
   "cell_type": "code",
   "execution_count": 54,
   "outputs": [
    {
     "name": "stdout",
     "output_type": "stream",
     "text": [
      "Diff Not null:  0\n",
      "All null values:  0\n"
     ]
    },
    {
     "data": {
      "text/plain": "Empty DataFrame\nColumns: [value, number]\nIndex: []",
      "text/html": "<div>\n<style scoped>\n    .dataframe tbody tr th:only-of-type {\n        vertical-align: middle;\n    }\n\n    .dataframe tbody tr th {\n        vertical-align: top;\n    }\n\n    .dataframe thead th {\n        text-align: right;\n    }\n</style>\n<table border=\"1\" class=\"dataframe\">\n  <thead>\n    <tr style=\"text-align: right;\">\n      <th></th>\n      <th>value</th>\n      <th>number</th>\n    </tr>\n  </thead>\n  <tbody>\n  </tbody>\n</table>\n</div>"
     },
     "metadata": {},
     "output_type": "display_data"
    }
   ],
   "source": [
    "check_not_null_val(attributes_hp, \"temp\", 0)"
   ],
   "metadata": {
    "collapsed": false
   }
  },
  {
   "cell_type": "code",
   "execution_count": 69,
   "outputs": [
    {
     "data": {
      "text/plain": "0"
     },
     "execution_count": 69,
     "metadata": {},
     "output_type": "execute_result"
    }
   ],
   "source": [
    "attributes_hp.loc[attributes_hp[\"temp\"] != 0].size"
   ],
   "metadata": {
    "collapsed": false
   }
  },
  {
   "cell_type": "markdown",
   "source": [
    "temp to zawsze \"wartość pusta\" => 0 -można olać\n",
    "\n",
    "**Wydaje mi się że stąd można \"ukraść\" max oraz value**"
   ],
   "metadata": {
    "collapsed": false
   }
  },
  {
   "cell_type": "markdown",
   "source": [
    "*Podsumowanie*\n",
    "\n",
    "* details - nie będziemy uwzględniać\n",
    "* max - można, czemu nie (int + brak wartości pustych)\n",
    "* temp - i tak same 0 w bestiariuszach, więc jak na ten moment to raczej nie\n",
    "* **value - na pewno bierzemy**"
   ],
   "metadata": {
    "collapsed": false
   }
  },
  {
   "cell_type": "markdown",
   "source": [
    "### Analiza attributes: *immunities*"
   ],
   "metadata": {
    "collapsed": false
   }
  },
  {
   "cell_type": "code",
   "execution_count": 71,
   "outputs": [
    {
     "name": "stderr",
     "output_type": "stream",
     "text": [
      "C:\\Users\\jolka\\AppData\\Local\\Temp\\ipykernel_14364\\685769781.py:2: FutureWarning: The default dtype for empty Series will be 'object' instead of 'float64' in a future version. Specify a dtype explicitly to silence this warning.\n",
      "  new_df = df[column_name].apply(pd.Series)\n"
     ]
    },
    {
     "name": "stdout",
     "output_type": "stream",
     "text": [
      "0          {'type': 'cold'}\n",
      "1     {'type': 'paralyzed'}\n",
      "2         {'type': 'sleep'}\n",
      "3                       NaN\n",
      "4                       NaN\n",
      "5                       NaN\n",
      "6                       NaN\n",
      "7                       NaN\n",
      "8                       NaN\n",
      "9                       NaN\n",
      "10                      NaN\n",
      "11                      NaN\n",
      "12                      NaN\n",
      "13                      NaN\n",
      "14                      NaN\n",
      "15                      NaN\n",
      "Name: 0, dtype: object\n",
      "Len = 16\n"
     ]
    }
   ],
   "source": [
    "immunities = unpack_column(attributes, \"immunities\")"
   ],
   "metadata": {
    "collapsed": false
   }
  },
  {
   "cell_type": "code",
   "execution_count": 107,
   "outputs": [
    {
     "data": {
      "text/plain": "                      0                      1                  2    3    4   \\\n0       {'type': 'cold'}  {'type': 'paralyzed'}  {'type': 'sleep'}  NaN  NaN   \n1                    NaN                    NaN                NaN  NaN  NaN   \n2                    NaN                    NaN                NaN  NaN  NaN   \n3  {'type': 'paralyzed'}     {'type': 'poison'}  {'type': 'sleep'}  NaN  NaN   \n4                    NaN                    NaN                NaN  NaN  NaN   \n\n    5    6    7    8    9    10   11   12   13   14   15  \n0  NaN  NaN  NaN  NaN  NaN  NaN  NaN  NaN  NaN  NaN  NaN  \n1  NaN  NaN  NaN  NaN  NaN  NaN  NaN  NaN  NaN  NaN  NaN  \n2  NaN  NaN  NaN  NaN  NaN  NaN  NaN  NaN  NaN  NaN  NaN  \n3  NaN  NaN  NaN  NaN  NaN  NaN  NaN  NaN  NaN  NaN  NaN  \n4  NaN  NaN  NaN  NaN  NaN  NaN  NaN  NaN  NaN  NaN  NaN  ",
      "text/html": "<div>\n<style scoped>\n    .dataframe tbody tr th:only-of-type {\n        vertical-align: middle;\n    }\n\n    .dataframe tbody tr th {\n        vertical-align: top;\n    }\n\n    .dataframe thead th {\n        text-align: right;\n    }\n</style>\n<table border=\"1\" class=\"dataframe\">\n  <thead>\n    <tr style=\"text-align: right;\">\n      <th></th>\n      <th>0</th>\n      <th>1</th>\n      <th>2</th>\n      <th>3</th>\n      <th>4</th>\n      <th>5</th>\n      <th>6</th>\n      <th>7</th>\n      <th>8</th>\n      <th>9</th>\n      <th>10</th>\n      <th>11</th>\n      <th>12</th>\n      <th>13</th>\n      <th>14</th>\n      <th>15</th>\n    </tr>\n  </thead>\n  <tbody>\n    <tr>\n      <th>0</th>\n      <td>{'type': 'cold'}</td>\n      <td>{'type': 'paralyzed'}</td>\n      <td>{'type': 'sleep'}</td>\n      <td>NaN</td>\n      <td>NaN</td>\n      <td>NaN</td>\n      <td>NaN</td>\n      <td>NaN</td>\n      <td>NaN</td>\n      <td>NaN</td>\n      <td>NaN</td>\n      <td>NaN</td>\n      <td>NaN</td>\n      <td>NaN</td>\n      <td>NaN</td>\n      <td>NaN</td>\n    </tr>\n    <tr>\n      <th>1</th>\n      <td>NaN</td>\n      <td>NaN</td>\n      <td>NaN</td>\n      <td>NaN</td>\n      <td>NaN</td>\n      <td>NaN</td>\n      <td>NaN</td>\n      <td>NaN</td>\n      <td>NaN</td>\n      <td>NaN</td>\n      <td>NaN</td>\n      <td>NaN</td>\n      <td>NaN</td>\n      <td>NaN</td>\n      <td>NaN</td>\n      <td>NaN</td>\n    </tr>\n    <tr>\n      <th>2</th>\n      <td>NaN</td>\n      <td>NaN</td>\n      <td>NaN</td>\n      <td>NaN</td>\n      <td>NaN</td>\n      <td>NaN</td>\n      <td>NaN</td>\n      <td>NaN</td>\n      <td>NaN</td>\n      <td>NaN</td>\n      <td>NaN</td>\n      <td>NaN</td>\n      <td>NaN</td>\n      <td>NaN</td>\n      <td>NaN</td>\n      <td>NaN</td>\n    </tr>\n    <tr>\n      <th>3</th>\n      <td>{'type': 'paralyzed'}</td>\n      <td>{'type': 'poison'}</td>\n      <td>{'type': 'sleep'}</td>\n      <td>NaN</td>\n      <td>NaN</td>\n      <td>NaN</td>\n      <td>NaN</td>\n      <td>NaN</td>\n      <td>NaN</td>\n      <td>NaN</td>\n      <td>NaN</td>\n      <td>NaN</td>\n      <td>NaN</td>\n      <td>NaN</td>\n      <td>NaN</td>\n      <td>NaN</td>\n    </tr>\n    <tr>\n      <th>4</th>\n      <td>NaN</td>\n      <td>NaN</td>\n      <td>NaN</td>\n      <td>NaN</td>\n      <td>NaN</td>\n      <td>NaN</td>\n      <td>NaN</td>\n      <td>NaN</td>\n      <td>NaN</td>\n      <td>NaN</td>\n      <td>NaN</td>\n      <td>NaN</td>\n      <td>NaN</td>\n      <td>NaN</td>\n      <td>NaN</td>\n      <td>NaN</td>\n    </tr>\n  </tbody>\n</table>\n</div>"
     },
     "execution_count": 107,
     "metadata": {},
     "output_type": "execute_result"
    }
   ],
   "source": [
    "immunities.head()"
   ],
   "metadata": {
    "collapsed": false
   }
  },
  {
   "cell_type": "code",
   "execution_count": 88,
   "outputs": [
    {
     "name": "stdout",
     "output_type": "stream",
     "text": [
      "NaN: <class 'pandas.core.frame.DataFrame'>\n",
      "Int64Index: 1206 entries, 0 to 364\n",
      "Data columns (total 16 columns):\n",
      " #   Column  Non-Null Count  Dtype \n",
      "---  ------  --------------  ----- \n",
      " 0   0       632 non-null    object\n",
      " 1   1       492 non-null    object\n",
      " 2   2       395 non-null    object\n",
      " 3   3       253 non-null    object\n",
      " 4   4       193 non-null    object\n",
      " 5   5       106 non-null    object\n",
      " 6   6       69 non-null     object\n",
      " 7   7       64 non-null     object\n",
      " 8   8       61 non-null     object\n",
      " 9   9       61 non-null     object\n",
      " 10  10      57 non-null     object\n",
      " 11  11      57 non-null     object\n",
      " 12  12      36 non-null     object\n",
      " 13  13      23 non-null     object\n",
      " 14  14      4 non-null      object\n",
      " 15  15      2 non-null      object\n",
      "dtypes: object(16)\n",
      "memory usage: 160.2+ KB\n"
     ]
    }
   ],
   "source": [
    "print(\"NaN:\", end=\" \")\n",
    "immunities.info()"
   ],
   "metadata": {
    "collapsed": false
   }
  },
  {
   "cell_type": "markdown",
   "source": [
    "Niemal połowa potworków (1206 - 632) nie ma nic wpisane w tej kolumnie\n",
    "\n",
    "Wydaje mi się, że się raczej nie przyda\n",
    "\n",
    "Aczkolwiek można porozbijać na kolumny - może coś da"
   ],
   "metadata": {
    "collapsed": false
   }
  },
  {
   "cell_type": "markdown",
   "source": [
    "### Analiza attributes: *initiative*"
   ],
   "metadata": {
    "collapsed": false
   }
  },
  {
   "cell_type": "code",
   "execution_count": 90,
   "outputs": [
    {
     "name": "stdout",
     "output_type": "stream",
     "text": [
      "ability    perception\n",
      "Name: 0, dtype: object\n",
      "Len = 1\n"
     ]
    }
   ],
   "source": [
    "initiative = unpack_column(attributes, \"initiative\")"
   ],
   "metadata": {
    "collapsed": false
   }
  },
  {
   "cell_type": "code",
   "execution_count": 91,
   "outputs": [
    {
     "name": "stdout",
     "output_type": "stream",
     "text": [
      "<class 'pandas.core.frame.DataFrame'>\n",
      "Int64Index: 1206 entries, 0 to 364\n",
      "Data columns (total 1 columns):\n",
      " #   Column   Non-Null Count  Dtype \n",
      "---  ------   --------------  ----- \n",
      " 0   ability  1206 non-null   object\n",
      "dtypes: object(1)\n",
      "memory usage: 18.8+ KB\n"
     ]
    }
   ],
   "source": [
    "initiative.info()"
   ],
   "metadata": {
    "collapsed": false
   }
  },
  {
   "cell_type": "code",
   "execution_count": 92,
   "outputs": [
    {
     "data": {
      "text/plain": "      ability\n0  perception\n1  perception\n2  perception\n3  perception\n4  perception",
      "text/html": "<div>\n<style scoped>\n    .dataframe tbody tr th:only-of-type {\n        vertical-align: middle;\n    }\n\n    .dataframe tbody tr th {\n        vertical-align: top;\n    }\n\n    .dataframe thead th {\n        text-align: right;\n    }\n</style>\n<table border=\"1\" class=\"dataframe\">\n  <thead>\n    <tr style=\"text-align: right;\">\n      <th></th>\n      <th>ability</th>\n    </tr>\n  </thead>\n  <tbody>\n    <tr>\n      <th>0</th>\n      <td>perception</td>\n    </tr>\n    <tr>\n      <th>1</th>\n      <td>perception</td>\n    </tr>\n    <tr>\n      <th>2</th>\n      <td>perception</td>\n    </tr>\n    <tr>\n      <th>3</th>\n      <td>perception</td>\n    </tr>\n    <tr>\n      <th>4</th>\n      <td>perception</td>\n    </tr>\n  </tbody>\n</table>\n</div>"
     },
     "execution_count": 92,
     "metadata": {},
     "output_type": "execute_result"
    }
   ],
   "source": [
    "initiative.head()"
   ],
   "metadata": {
    "collapsed": false
   }
  },
  {
   "cell_type": "code",
   "execution_count": 94,
   "outputs": [
    {
     "data": {
      "text/plain": "   ability\n85     dec",
      "text/html": "<div>\n<style scoped>\n    .dataframe tbody tr th:only-of-type {\n        vertical-align: middle;\n    }\n\n    .dataframe tbody tr th {\n        vertical-align: top;\n    }\n\n    .dataframe thead th {\n        text-align: right;\n    }\n</style>\n<table border=\"1\" class=\"dataframe\">\n  <thead>\n    <tr style=\"text-align: right;\">\n      <th></th>\n      <th>ability</th>\n    </tr>\n  </thead>\n  <tbody>\n    <tr>\n      <th>85</th>\n      <td>dec</td>\n    </tr>\n  </tbody>\n</table>\n</div>"
     },
     "execution_count": 94,
     "metadata": {},
     "output_type": "execute_result"
    }
   ],
   "source": [
    "initiative.loc[initiative[\"ability\"] != \"perception\"]"
   ],
   "metadata": {
    "collapsed": false
   }
  },
  {
   "cell_type": "code",
   "execution_count": 102,
   "outputs": [
    {
     "data": {
      "text/plain": "_id                                                BRo0snV2sH6TFuh6\nimg                        systems/pf2e/icons/default-icons/npc.svg\nitems             [{'_id': '7aI3LWA9cnoKonHZ', 'img': 'systems/p...\nname                                                       Glabrezu\nsystem            {'abilities': {'cha': {'mod': 7}, 'con': {'mod...\ntype                                                            npc\nflags             {'core': {'sourceId': 'Compendium.pf2e.pathfin...\nprototypeToken                                                  NaN\nName: 85, dtype: object"
     },
     "execution_count": 102,
     "metadata": {},
     "output_type": "execute_result"
    }
   ],
   "source": [
    "bestiary.iloc[85, :]"
   ],
   "metadata": {
    "collapsed": false
   }
  },
  {
   "cell_type": "code",
   "execution_count": 103,
   "outputs": [
    {
     "data": {
      "text/plain": "{'value': 13}"
     },
     "execution_count": 103,
     "metadata": {},
     "output_type": "execute_result"
    }
   ],
   "source": [
    "bestiary.iloc[85, 4].get(\"details\").get(\"level\")"
   ],
   "metadata": {
    "collapsed": false
   }
  },
  {
   "cell_type": "markdown",
   "source": [
    "Wszystkie potworki oprócz Glabrezu mają wpisane \"perception\"\n",
    "\n",
    "Też raczej można olać"
   ],
   "metadata": {
    "collapsed": false
   }
  },
  {
   "cell_type": "markdown",
   "source": [
    "### Analiza attributes: *perception*"
   ],
   "metadata": {
    "collapsed": false
   }
  },
  {
   "cell_type": "code",
   "execution_count": 104,
   "outputs": [
    {
     "name": "stdout",
     "output_type": "stream",
     "text": [
      "value    20\n",
      "Name: 0, dtype: int64\n",
      "Len = 1\n"
     ]
    }
   ],
   "source": [
    "perception = unpack_column(attributes, \"perception\")"
   ],
   "metadata": {
    "collapsed": false
   }
  },
  {
   "cell_type": "code",
   "execution_count": 105,
   "outputs": [
    {
     "name": "stdout",
     "output_type": "stream",
     "text": [
      "<class 'pandas.core.frame.DataFrame'>\n",
      "Int64Index: 1206 entries, 0 to 364\n",
      "Data columns (total 1 columns):\n",
      " #   Column  Non-Null Count  Dtype\n",
      "---  ------  --------------  -----\n",
      " 0   value   1206 non-null   int64\n",
      "dtypes: int64(1)\n",
      "memory usage: 51.1 KB\n"
     ]
    }
   ],
   "source": [
    "perception.info()"
   ],
   "metadata": {
    "collapsed": false
   }
  },
  {
   "cell_type": "code",
   "execution_count": 106,
   "outputs": [
    {
     "data": {
      "text/plain": "   value\n0     20\n1     16\n2     17\n3     30\n4      6",
      "text/html": "<div>\n<style scoped>\n    .dataframe tbody tr th:only-of-type {\n        vertical-align: middle;\n    }\n\n    .dataframe tbody tr th {\n        vertical-align: top;\n    }\n\n    .dataframe thead th {\n        text-align: right;\n    }\n</style>\n<table border=\"1\" class=\"dataframe\">\n  <thead>\n    <tr style=\"text-align: right;\">\n      <th></th>\n      <th>value</th>\n    </tr>\n  </thead>\n  <tbody>\n    <tr>\n      <th>0</th>\n      <td>20</td>\n    </tr>\n    <tr>\n      <th>1</th>\n      <td>16</td>\n    </tr>\n    <tr>\n      <th>2</th>\n      <td>17</td>\n    </tr>\n    <tr>\n      <th>3</th>\n      <td>30</td>\n    </tr>\n    <tr>\n      <th>4</th>\n      <td>6</td>\n    </tr>\n  </tbody>\n</table>\n</div>"
     },
     "execution_count": 106,
     "metadata": {},
     "output_type": "execute_result"
    }
   ],
   "source": [
    "perception.head()"
   ],
   "metadata": {
    "collapsed": false
   }
  },
  {
   "cell_type": "markdown",
   "source": [
    "Dane w \"przyjaznej\" formie, są uwzględniane w statystykach - *mogą się przydać*\n",
    "\n",
    "**można uwzględnić perception w predykcji**"
   ],
   "metadata": {
    "collapsed": false
   }
  },
  {
   "cell_type": "markdown",
   "source": [
    "### Analiza attributes: *speed*"
   ],
   "metadata": {
    "collapsed": false
   }
  },
  {
   "cell_type": "code",
   "execution_count": 108,
   "outputs": [
    {
     "name": "stdout",
     "output_type": "stream",
     "text": [
      "details                                        climb on ice only\n",
      "otherSpeeds    [{'type': 'climb', 'value': 30}, {'type': 'fly...\n",
      "value                                                       30.0\n",
      "Name: 0, dtype: object\n",
      "Len = 3\n"
     ]
    }
   ],
   "source": [
    "speed = unpack_column(attributes, \"speed\")"
   ],
   "metadata": {
    "collapsed": false
   }
  },
  {
   "cell_type": "code",
   "execution_count": 109,
   "outputs": [
    {
     "name": "stdout",
     "output_type": "stream",
     "text": [
      "<class 'pandas.core.frame.DataFrame'>\n",
      "Int64Index: 1206 entries, 0 to 364\n",
      "Data columns (total 3 columns):\n",
      " #   Column       Non-Null Count  Dtype  \n",
      "---  ------       --------------  -----  \n",
      " 0   details      124 non-null    object \n",
      " 1   otherSpeeds  1206 non-null   object \n",
      " 2   value        1205 non-null   float64\n",
      "dtypes: float64(1), object(2)\n",
      "memory usage: 70.0+ KB\n"
     ]
    }
   ],
   "source": [
    "speed.info()"
   ],
   "metadata": {
    "collapsed": false
   }
  },
  {
   "cell_type": "code",
   "execution_count": 110,
   "outputs": [
    {
     "data": {
      "text/plain": "                           details  \\\n0                climb on ice only   \n1                              NaN   \n2                              NaN   \n3  trackless step, woodland stride   \n4                              NaN   \n\n                                         otherSpeeds  value  \n0  [{'type': 'climb', 'value': 30}, {'type': 'fly...   30.0  \n1                                                 []   35.0  \n2  [{'type': 'climb', 'value': 30}, {'type': 'swi...   30.0  \n3  [{'type': 'fly', 'value': 200}, {'type': 'swim...   50.0  \n4                     [{'type': 'fly', 'value': 40}]    0.0  ",
      "text/html": "<div>\n<style scoped>\n    .dataframe tbody tr th:only-of-type {\n        vertical-align: middle;\n    }\n\n    .dataframe tbody tr th {\n        vertical-align: top;\n    }\n\n    .dataframe thead th {\n        text-align: right;\n    }\n</style>\n<table border=\"1\" class=\"dataframe\">\n  <thead>\n    <tr style=\"text-align: right;\">\n      <th></th>\n      <th>details</th>\n      <th>otherSpeeds</th>\n      <th>value</th>\n    </tr>\n  </thead>\n  <tbody>\n    <tr>\n      <th>0</th>\n      <td>climb on ice only</td>\n      <td>[{'type': 'climb', 'value': 30}, {'type': 'fly...</td>\n      <td>30.0</td>\n    </tr>\n    <tr>\n      <th>1</th>\n      <td>NaN</td>\n      <td>[]</td>\n      <td>35.0</td>\n    </tr>\n    <tr>\n      <th>2</th>\n      <td>NaN</td>\n      <td>[{'type': 'climb', 'value': 30}, {'type': 'swi...</td>\n      <td>30.0</td>\n    </tr>\n    <tr>\n      <th>3</th>\n      <td>trackless step, woodland stride</td>\n      <td>[{'type': 'fly', 'value': 200}, {'type': 'swim...</td>\n      <td>50.0</td>\n    </tr>\n    <tr>\n      <th>4</th>\n      <td>NaN</td>\n      <td>[{'type': 'fly', 'value': 40}]</td>\n      <td>0.0</td>\n    </tr>\n  </tbody>\n</table>\n</div>"
     },
     "execution_count": 110,
     "metadata": {},
     "output_type": "execute_result"
    }
   ],
   "source": [
    "speed.head()"
   ],
   "metadata": {
    "collapsed": false
   }
  },
  {
   "cell_type": "markdown",
   "source": [
    "Wydaje mi się, żę też to można uwzględnić tylko, że trzeba to jakoś rozbić na kolumny i zdecydować co zrobić z wartościami brakującymi - pierwszy strzał to dać tam 0 (jak ktoś nie umie latać to fly speed == 0)\n",
    "\n",
    "**do uwzględnienia**"
   ],
   "metadata": {
    "collapsed": false
   }
  },
  {
   "cell_type": "markdown",
   "source": [
    "### Analiza attributes: *weaknesses*"
   ],
   "metadata": {
    "collapsed": false
   }
  },
  {
   "cell_type": "code",
   "execution_count": 111,
   "outputs": [
    {
     "name": "stdout",
     "output_type": "stream",
     "text": [
      "0    {'type': 'fire', 'value': 10}\n",
      "1                              NaN\n",
      "2                              NaN\n",
      "3                              NaN\n",
      "Name: 0, dtype: object\n",
      "Len = 4\n"
     ]
    }
   ],
   "source": [
    "weaknesses = unpack_column(attributes, \"weaknesses\")"
   ],
   "metadata": {
    "collapsed": false
   }
  },
  {
   "cell_type": "code",
   "execution_count": 112,
   "outputs": [
    {
     "name": "stdout",
     "output_type": "stream",
     "text": [
      "<class 'pandas.core.frame.DataFrame'>\n",
      "Int64Index: 1206 entries, 0 to 364\n",
      "Data columns (total 4 columns):\n",
      " #   Column  Non-Null Count  Dtype \n",
      "---  ------  --------------  ----- \n",
      " 0   0       463 non-null    object\n",
      " 1   1       127 non-null    object\n",
      " 2   2       15 non-null     object\n",
      " 3   3       2 non-null      object\n",
      "dtypes: object(4)\n",
      "memory usage: 79.4+ KB\n"
     ]
    }
   ],
   "source": [
    "weaknesses.info()"
   ],
   "metadata": {
    "collapsed": false
   }
  },
  {
   "cell_type": "code",
   "execution_count": 113,
   "outputs": [
    {
     "data": {
      "text/plain": "                               0    1    2    3\n0  {'type': 'fire', 'value': 10}  NaN  NaN  NaN\n1                            NaN  NaN  NaN  NaN\n2                            NaN  NaN  NaN  NaN\n3                            NaN  NaN  NaN  NaN\n4   {'type': 'evil', 'value': 3}  NaN  NaN  NaN",
      "text/html": "<div>\n<style scoped>\n    .dataframe tbody tr th:only-of-type {\n        vertical-align: middle;\n    }\n\n    .dataframe tbody tr th {\n        vertical-align: top;\n    }\n\n    .dataframe thead th {\n        text-align: right;\n    }\n</style>\n<table border=\"1\" class=\"dataframe\">\n  <thead>\n    <tr style=\"text-align: right;\">\n      <th></th>\n      <th>0</th>\n      <th>1</th>\n      <th>2</th>\n      <th>3</th>\n    </tr>\n  </thead>\n  <tbody>\n    <tr>\n      <th>0</th>\n      <td>{'type': 'fire', 'value': 10}</td>\n      <td>NaN</td>\n      <td>NaN</td>\n      <td>NaN</td>\n    </tr>\n    <tr>\n      <th>1</th>\n      <td>NaN</td>\n      <td>NaN</td>\n      <td>NaN</td>\n      <td>NaN</td>\n    </tr>\n    <tr>\n      <th>2</th>\n      <td>NaN</td>\n      <td>NaN</td>\n      <td>NaN</td>\n      <td>NaN</td>\n    </tr>\n    <tr>\n      <th>3</th>\n      <td>NaN</td>\n      <td>NaN</td>\n      <td>NaN</td>\n      <td>NaN</td>\n    </tr>\n    <tr>\n      <th>4</th>\n      <td>{'type': 'evil', 'value': 3}</td>\n      <td>NaN</td>\n      <td>NaN</td>\n      <td>NaN</td>\n    </tr>\n  </tbody>\n</table>\n</div>"
     },
     "execution_count": 113,
     "metadata": {},
     "output_type": "execute_result"
    }
   ],
   "source": [
    "weaknesses.head()"
   ],
   "metadata": {
    "collapsed": false
   }
  },
  {
   "cell_type": "code",
   "execution_count": 118,
   "outputs": [
    {
     "data": {
      "text/plain": "                                       0                                   1  \\\n287        {'type': 'cold', 'value': 15}  {'type': 'cold-iron', 'value': 15}   \n233  {'type': 'area-damage', 'value': 5}    {'type': 'positive', 'value': 5}   \n\n                                    2                                      3  \n287     {'type': 'good', 'value': 15}      {'type': 'slashing', 'value': 10}  \n233  {'type': 'slashing', 'value': 5}  {'type': 'splash-damage', 'value': 2}  ",
      "text/html": "<div>\n<style scoped>\n    .dataframe tbody tr th:only-of-type {\n        vertical-align: middle;\n    }\n\n    .dataframe tbody tr th {\n        vertical-align: top;\n    }\n\n    .dataframe thead th {\n        text-align: right;\n    }\n</style>\n<table border=\"1\" class=\"dataframe\">\n  <thead>\n    <tr style=\"text-align: right;\">\n      <th></th>\n      <th>0</th>\n      <th>1</th>\n      <th>2</th>\n      <th>3</th>\n    </tr>\n  </thead>\n  <tbody>\n    <tr>\n      <th>287</th>\n      <td>{'type': 'cold', 'value': 15}</td>\n      <td>{'type': 'cold-iron', 'value': 15}</td>\n      <td>{'type': 'good', 'value': 15}</td>\n      <td>{'type': 'slashing', 'value': 10}</td>\n    </tr>\n    <tr>\n      <th>233</th>\n      <td>{'type': 'area-damage', 'value': 5}</td>\n      <td>{'type': 'positive', 'value': 5}</td>\n      <td>{'type': 'slashing', 'value': 5}</td>\n      <td>{'type': 'splash-damage', 'value': 2}</td>\n    </tr>\n  </tbody>\n</table>\n</div>"
     },
     "execution_count": 118,
     "metadata": {},
     "output_type": "execute_result"
    }
   ],
   "source": [
    "weaknesses[pd.notnull(weaknesses[3])]"
   ],
   "metadata": {
    "collapsed": false
   }
  },
  {
   "cell_type": "code",
   "execution_count": 121,
   "outputs": [
    {
     "data": {
      "text/plain": "743"
     },
     "execution_count": 121,
     "metadata": {},
     "output_type": "execute_result"
    }
   ],
   "source": [
    "weaknesses[pd.isnull(weaknesses[0])].shape[0]"
   ],
   "metadata": {
    "collapsed": false
   }
  },
  {
   "cell_type": "markdown",
   "source": [
    "Większość potworków nie ma słabości, około 10% ma dwie, a więcej (do 4) zdarza się sporadycznie\n",
    "\n",
    "*Zawsze można spróbować to uwzględnić może pomoże*"
   ],
   "metadata": {
    "collapsed": false
   }
  },
  {
   "cell_type": "markdown",
   "source": [
    "### Analiza attributes: *resistances*"
   ],
   "metadata": {
    "collapsed": false
   }
  },
  {
   "cell_type": "code",
   "execution_count": 122,
   "outputs": [
    {
     "name": "stdout",
     "output_type": "stream",
     "text": [
      "0    NaN\n",
      "1    NaN\n",
      "2    NaN\n",
      "3    NaN\n",
      "4    NaN\n",
      "5    NaN\n",
      "Name: 0, dtype: object\n",
      "Len = 6\n"
     ]
    }
   ],
   "source": [
    "resistances = unpack_column(attributes, \"resistances\")"
   ],
   "metadata": {
    "collapsed": false
   }
  },
  {
   "cell_type": "code",
   "execution_count": 123,
   "outputs": [
    {
     "name": "stdout",
     "output_type": "stream",
     "text": [
      "<class 'pandas.core.frame.DataFrame'>\n",
      "Int64Index: 1206 entries, 0 to 364\n",
      "Data columns (total 6 columns):\n",
      " #   Column  Non-Null Count  Dtype \n",
      "---  ------  --------------  ----- \n",
      " 0   0       344 non-null    object\n",
      " 1   1       137 non-null    object\n",
      " 2   2       48 non-null     object\n",
      " 3   3       22 non-null     object\n",
      " 4   4       15 non-null     object\n",
      " 5   5       6 non-null      object\n",
      "dtypes: object(6)\n",
      "memory usage: 98.2+ KB\n"
     ]
    }
   ],
   "source": [
    "resistances.info()"
   ],
   "metadata": {
    "collapsed": false
   }
  },
  {
   "cell_type": "code",
   "execution_count": 124,
   "outputs": [
    {
     "data": {
      "text/plain": "                              0    1    2    3    4    5\n0                           NaN  NaN  NaN  NaN  NaN  NaN\n1                           NaN  NaN  NaN  NaN  NaN  NaN\n2                           NaN  NaN  NaN  NaN  NaN  NaN\n3                           NaN  NaN  NaN  NaN  NaN  NaN\n4  {'type': 'fire', 'value': 3}  NaN  NaN  NaN  NaN  NaN",
      "text/html": "<div>\n<style scoped>\n    .dataframe tbody tr th:only-of-type {\n        vertical-align: middle;\n    }\n\n    .dataframe tbody tr th {\n        vertical-align: top;\n    }\n\n    .dataframe thead th {\n        text-align: right;\n    }\n</style>\n<table border=\"1\" class=\"dataframe\">\n  <thead>\n    <tr style=\"text-align: right;\">\n      <th></th>\n      <th>0</th>\n      <th>1</th>\n      <th>2</th>\n      <th>3</th>\n      <th>4</th>\n      <th>5</th>\n    </tr>\n  </thead>\n  <tbody>\n    <tr>\n      <th>0</th>\n      <td>NaN</td>\n      <td>NaN</td>\n      <td>NaN</td>\n      <td>NaN</td>\n      <td>NaN</td>\n      <td>NaN</td>\n    </tr>\n    <tr>\n      <th>1</th>\n      <td>NaN</td>\n      <td>NaN</td>\n      <td>NaN</td>\n      <td>NaN</td>\n      <td>NaN</td>\n      <td>NaN</td>\n    </tr>\n    <tr>\n      <th>2</th>\n      <td>NaN</td>\n      <td>NaN</td>\n      <td>NaN</td>\n      <td>NaN</td>\n      <td>NaN</td>\n      <td>NaN</td>\n    </tr>\n    <tr>\n      <th>3</th>\n      <td>NaN</td>\n      <td>NaN</td>\n      <td>NaN</td>\n      <td>NaN</td>\n      <td>NaN</td>\n      <td>NaN</td>\n    </tr>\n    <tr>\n      <th>4</th>\n      <td>{'type': 'fire', 'value': 3}</td>\n      <td>NaN</td>\n      <td>NaN</td>\n      <td>NaN</td>\n      <td>NaN</td>\n      <td>NaN</td>\n    </tr>\n  </tbody>\n</table>\n</div>"
     },
     "execution_count": 124,
     "metadata": {},
     "output_type": "execute_result"
    }
   ],
   "source": [
    "resistances.head()"
   ],
   "metadata": {
    "collapsed": false
   }
  },
  {
   "cell_type": "code",
   "execution_count": 126,
   "outputs": [
    {
     "data": {
      "text/plain": "                                       0                              1  \\\n21   {'type': 'bludgeoning', 'value': 5}  {'type': 'cold', 'value': 10}   \n104  {'type': 'bludgeoning', 'value': 6}  {'type': 'cold', 'value': 12}   \n206  {'type': 'bludgeoning', 'value': 6}  {'type': 'cold', 'value': 12}   \n220  {'type': 'bludgeoning', 'value': 5}  {'type': 'cold', 'value': 10}   \n276  {'type': 'bludgeoning', 'value': 5}  {'type': 'cold', 'value': 10}   \n279  {'type': 'bludgeoning', 'value': 5}  {'type': 'cold', 'value': 10}   \n\n                                        2                              3  \\\n21   {'type': 'electricity', 'value': 10}  {'type': 'fire', 'value': 10}   \n104  {'type': 'electricity', 'value': 12}  {'type': 'fire', 'value': 12}   \n206  {'type': 'electricity', 'value': 12}  {'type': 'fire', 'value': 12}   \n220  {'type': 'electricity', 'value': 10}  {'type': 'fire', 'value': 10}   \n276  {'type': 'electricity', 'value': 10}  {'type': 'fire', 'value': 10}   \n279  {'type': 'electricity', 'value': 10}  {'type': 'fire', 'value': 10}   \n\n                                     4                                  5  \n21   {'type': 'piercing', 'value': 10}  {'type': 'slashing', 'value': 10}  \n104  {'type': 'piercing', 'value': 12}  {'type': 'slashing', 'value': 12}  \n206  {'type': 'piercing', 'value': 12}  {'type': 'slashing', 'value': 12}  \n220  {'type': 'piercing', 'value': 10}  {'type': 'slashing', 'value': 10}  \n276  {'type': 'piercing', 'value': 10}  {'type': 'slashing', 'value': 10}  \n279  {'type': 'piercing', 'value': 10}  {'type': 'slashing', 'value': 10}  ",
      "text/html": "<div>\n<style scoped>\n    .dataframe tbody tr th:only-of-type {\n        vertical-align: middle;\n    }\n\n    .dataframe tbody tr th {\n        vertical-align: top;\n    }\n\n    .dataframe thead th {\n        text-align: right;\n    }\n</style>\n<table border=\"1\" class=\"dataframe\">\n  <thead>\n    <tr style=\"text-align: right;\">\n      <th></th>\n      <th>0</th>\n      <th>1</th>\n      <th>2</th>\n      <th>3</th>\n      <th>4</th>\n      <th>5</th>\n    </tr>\n  </thead>\n  <tbody>\n    <tr>\n      <th>21</th>\n      <td>{'type': 'bludgeoning', 'value': 5}</td>\n      <td>{'type': 'cold', 'value': 10}</td>\n      <td>{'type': 'electricity', 'value': 10}</td>\n      <td>{'type': 'fire', 'value': 10}</td>\n      <td>{'type': 'piercing', 'value': 10}</td>\n      <td>{'type': 'slashing', 'value': 10}</td>\n    </tr>\n    <tr>\n      <th>104</th>\n      <td>{'type': 'bludgeoning', 'value': 6}</td>\n      <td>{'type': 'cold', 'value': 12}</td>\n      <td>{'type': 'electricity', 'value': 12}</td>\n      <td>{'type': 'fire', 'value': 12}</td>\n      <td>{'type': 'piercing', 'value': 12}</td>\n      <td>{'type': 'slashing', 'value': 12}</td>\n    </tr>\n    <tr>\n      <th>206</th>\n      <td>{'type': 'bludgeoning', 'value': 6}</td>\n      <td>{'type': 'cold', 'value': 12}</td>\n      <td>{'type': 'electricity', 'value': 12}</td>\n      <td>{'type': 'fire', 'value': 12}</td>\n      <td>{'type': 'piercing', 'value': 12}</td>\n      <td>{'type': 'slashing', 'value': 12}</td>\n    </tr>\n    <tr>\n      <th>220</th>\n      <td>{'type': 'bludgeoning', 'value': 5}</td>\n      <td>{'type': 'cold', 'value': 10}</td>\n      <td>{'type': 'electricity', 'value': 10}</td>\n      <td>{'type': 'fire', 'value': 10}</td>\n      <td>{'type': 'piercing', 'value': 10}</td>\n      <td>{'type': 'slashing', 'value': 10}</td>\n    </tr>\n    <tr>\n      <th>276</th>\n      <td>{'type': 'bludgeoning', 'value': 5}</td>\n      <td>{'type': 'cold', 'value': 10}</td>\n      <td>{'type': 'electricity', 'value': 10}</td>\n      <td>{'type': 'fire', 'value': 10}</td>\n      <td>{'type': 'piercing', 'value': 10}</td>\n      <td>{'type': 'slashing', 'value': 10}</td>\n    </tr>\n    <tr>\n      <th>279</th>\n      <td>{'type': 'bludgeoning', 'value': 5}</td>\n      <td>{'type': 'cold', 'value': 10}</td>\n      <td>{'type': 'electricity', 'value': 10}</td>\n      <td>{'type': 'fire', 'value': 10}</td>\n      <td>{'type': 'piercing', 'value': 10}</td>\n      <td>{'type': 'slashing', 'value': 10}</td>\n    </tr>\n  </tbody>\n</table>\n</div>"
     },
     "execution_count": 126,
     "metadata": {},
     "output_type": "execute_result"
    }
   ],
   "source": [
    "resistances[pd.notnull(resistances[5])]"
   ],
   "metadata": {
    "collapsed": false
   }
  },
  {
   "cell_type": "markdown",
   "source": [
    "*To też można uwzględnić*\n",
    "\n",
    "Potencjalnie dużo kolumn może się stwożyć - podobnie jak wyżej tam gdzie brak wartości proponuję 0"
   ],
   "metadata": {
    "collapsed": false
   }
  },
  {
   "cell_type": "markdown",
   "source": [
    "### Analiza attributes: *hardness*"
   ],
   "metadata": {
    "collapsed": false
   }
  },
  {
   "cell_type": "code",
   "execution_count": 127,
   "outputs": [
    {
     "name": "stdout",
     "output_type": "stream",
     "text": [
      "0       NaN\n",
      "value   NaN\n",
      "Name: 0, dtype: float64\n",
      "Len = 2\n"
     ]
    }
   ],
   "source": [
    "hardness = unpack_column(attributes, \"hardness\")"
   ],
   "metadata": {
    "collapsed": false
   }
  },
  {
   "cell_type": "code",
   "execution_count": 128,
   "outputs": [
    {
     "name": "stdout",
     "output_type": "stream",
     "text": [
      "<class 'pandas.core.frame.DataFrame'>\n",
      "Int64Index: 1206 entries, 0 to 364\n",
      "Data columns (total 2 columns):\n",
      " #   Column  Non-Null Count  Dtype  \n",
      "---  ------  --------------  -----  \n",
      " 0   0       0 non-null      float64\n",
      " 1   value   10 non-null     float64\n",
      "dtypes: float64(2)\n",
      "memory usage: 60.6 KB\n"
     ]
    }
   ],
   "source": [
    "hardness.info()"
   ],
   "metadata": {
    "collapsed": false
   }
  },
  {
   "cell_type": "code",
   "execution_count": 130,
   "outputs": [
    {
     "data": {
      "text/plain": "    0  value\n0 NaN    NaN\n1 NaN    NaN\n2 NaN    NaN\n3 NaN    NaN\n4 NaN    NaN",
      "text/html": "<div>\n<style scoped>\n    .dataframe tbody tr th:only-of-type {\n        vertical-align: middle;\n    }\n\n    .dataframe tbody tr th {\n        vertical-align: top;\n    }\n\n    .dataframe thead th {\n        text-align: right;\n    }\n</style>\n<table border=\"1\" class=\"dataframe\">\n  <thead>\n    <tr style=\"text-align: right;\">\n      <th></th>\n      <th>0</th>\n      <th>value</th>\n    </tr>\n  </thead>\n  <tbody>\n    <tr>\n      <th>0</th>\n      <td>NaN</td>\n      <td>NaN</td>\n    </tr>\n    <tr>\n      <th>1</th>\n      <td>NaN</td>\n      <td>NaN</td>\n    </tr>\n    <tr>\n      <th>2</th>\n      <td>NaN</td>\n      <td>NaN</td>\n    </tr>\n    <tr>\n      <th>3</th>\n      <td>NaN</td>\n      <td>NaN</td>\n    </tr>\n    <tr>\n      <th>4</th>\n      <td>NaN</td>\n      <td>NaN</td>\n    </tr>\n  </tbody>\n</table>\n</div>"
     },
     "execution_count": 130,
     "metadata": {},
     "output_type": "execute_result"
    }
   ],
   "source": [
    "hardness.head()"
   ],
   "metadata": {
    "collapsed": false
   }
  },
  {
   "cell_type": "code",
   "execution_count": 140,
   "outputs": [
    {
     "data": {
      "text/plain": "Empty DataFrame\nColumns: [0, value]\nIndex: []",
      "text/html": "<div>\n<style scoped>\n    .dataframe tbody tr th:only-of-type {\n        vertical-align: middle;\n    }\n\n    .dataframe tbody tr th {\n        vertical-align: top;\n    }\n\n    .dataframe thead th {\n        text-align: right;\n    }\n</style>\n<table border=\"1\" class=\"dataframe\">\n  <thead>\n    <tr style=\"text-align: right;\">\n      <th></th>\n      <th>0</th>\n      <th>value</th>\n    </tr>\n  </thead>\n  <tbody>\n  </tbody>\n</table>\n</div>"
     },
     "execution_count": 140,
     "metadata": {},
     "output_type": "execute_result"
    }
   ],
   "source": [
    "hardness[pd.notnull(hardness[0])]"
   ],
   "metadata": {
    "collapsed": false
   }
  },
  {
   "cell_type": "markdown",
   "source": [
    "Nie wiem co się stało przy rozpakowywaniu, ale tu są tylko *values*\n",
    "\n",
    "**Wydaje mi się, że to też można użyć**"
   ],
   "metadata": {
    "collapsed": false
   }
  },
  {
   "cell_type": "markdown",
   "source": [
    "### Analiza attributes: *adjustment*"
   ],
   "metadata": {
    "collapsed": false
   }
  },
  {
   "cell_type": "code",
   "execution_count": 141,
   "outputs": [
    {
     "name": "stdout",
     "output_type": "stream",
     "text": [
      "0   NaN\n",
      "Name: 0, dtype: float64\n",
      "Len = 1\n"
     ]
    }
   ],
   "source": [
    "adjustment = unpack_column(attributes, \"adjustment\")"
   ],
   "metadata": {
    "collapsed": false
   }
  },
  {
   "cell_type": "code",
   "execution_count": 142,
   "outputs": [
    {
     "name": "stdout",
     "output_type": "stream",
     "text": [
      "<class 'pandas.core.frame.DataFrame'>\n",
      "Int64Index: 1206 entries, 0 to 364\n",
      "Data columns (total 1 columns):\n",
      " #   Column  Non-Null Count  Dtype  \n",
      "---  ------  --------------  -----  \n",
      " 0   0       0 non-null      float64\n",
      "dtypes: float64(1)\n",
      "memory usage: 51.1 KB\n"
     ]
    }
   ],
   "source": [
    "adjustment.info()"
   ],
   "metadata": {
    "collapsed": false
   }
  },
  {
   "cell_type": "code",
   "execution_count": 143,
   "outputs": [
    {
     "data": {
      "text/plain": "    0\n0 NaN\n1 NaN\n2 NaN\n3 NaN\n4 NaN",
      "text/html": "<div>\n<style scoped>\n    .dataframe tbody tr th:only-of-type {\n        vertical-align: middle;\n    }\n\n    .dataframe tbody tr th {\n        vertical-align: top;\n    }\n\n    .dataframe thead th {\n        text-align: right;\n    }\n</style>\n<table border=\"1\" class=\"dataframe\">\n  <thead>\n    <tr style=\"text-align: right;\">\n      <th></th>\n      <th>0</th>\n    </tr>\n  </thead>\n  <tbody>\n    <tr>\n      <th>0</th>\n      <td>NaN</td>\n    </tr>\n    <tr>\n      <th>1</th>\n      <td>NaN</td>\n    </tr>\n    <tr>\n      <th>2</th>\n      <td>NaN</td>\n    </tr>\n    <tr>\n      <th>3</th>\n      <td>NaN</td>\n    </tr>\n    <tr>\n      <th>4</th>\n      <td>NaN</td>\n    </tr>\n  </tbody>\n</table>\n</div>"
     },
     "execution_count": 143,
     "metadata": {},
     "output_type": "execute_result"
    }
   ],
   "source": [
    "adjustment.head()"
   ],
   "metadata": {
    "collapsed": false
   }
  },
  {
   "cell_type": "markdown",
   "source": [
    "Tutaj są same nulle, więc można usunąć"
   ],
   "metadata": {
    "collapsed": false
   }
  },
  {
   "cell_type": "markdown",
   "source": [
    "## Podsumowując:\n",
    "* Abilities - wszystkie wartości do uwzględnienia\n",
    "* Attributes:\n",
    "    * ac - value do uwzględnienia\n",
    "    * allSaves - raczej nie\n",
    "    * hp - value do uwzględnienia + ewentualnie max\n",
    "    * immunities - jak na razie nie, ale można spróbować\n",
    "    * initiative - raczej nie jest potrzebne\n",
    "    * perception - można uwzględnić\n",
    "    * speed - też można spróbować uwzględnić\n",
    "    * weaknesses - do tego nie jestem w 100% przekonana, ale zawsze można dodać\n",
    "    * resistances - analogicznie jak wyżej\n",
    "    * hardness - myślę, że można uwzględnić\n",
    "    * adjustment - tutaj nic nie ma (dosłownie)"
   ],
   "metadata": {
    "collapsed": false
   }
  },
  {
   "cell_type": "code",
   "execution_count": 70,
   "outputs": [
    {
     "data": {
      "text/plain": "                             ac  \\\n0  {'details': '', 'value': 29}   \n1  {'details': '', 'value': 28}   \n2  {'details': '', 'value': 25}   \n3  {'details': '', 'value': 41}   \n4  {'details': '', 'value': 16}   \n\n                                        allSaves  \\\n0  {'value': '+1 status to all saves vs. magic'}   \n1                                  {'value': ''}   \n2                                  {'value': ''}   \n3  {'value': '+1 status to all saves vs. magic'}   \n4                                  {'value': ''}   \n\n                                                  hp  \\\n0  {'details': '', 'max': 215, 'temp': 0, 'value'...   \n1  {'details': '', 'max': 220, 'temp': 0, 'value'...   \n2  {'details': '', 'max': 175, 'temp': 0, 'value'...   \n3  {'details': '', 'max': 315, 'temp': 0, 'value'...   \n4  {'details': '', 'max': 20, 'temp': 0, 'value':...   \n\n                                          immunities  \\\n0  [{'type': 'cold'}, {'type': 'paralyzed'}, {'ty...   \n1                                                NaN   \n2                                                NaN   \n3  [{'type': 'paralyzed'}, {'type': 'poison'}, {'...   \n4                                                NaN   \n\n                  initiative     perception  \\\n0  {'ability': 'perception'}  {'value': 20}   \n1  {'ability': 'perception'}  {'value': 16}   \n2  {'ability': 'perception'}  {'value': 17}   \n3  {'ability': 'perception'}  {'value': 30}   \n4  {'ability': 'perception'}   {'value': 6}   \n\n                                               speed  \\\n0  {'details': 'climb on ice only', 'otherSpeeds'...   \n1                   {'otherSpeeds': [], 'value': 35}   \n2  {'otherSpeeds': [{'type': 'climb', 'value': 30...   \n3  {'details': 'trackless step, woodland stride',...   \n4  {'otherSpeeds': [{'type': 'fly', 'value': 40}]...   \n\n                        weaknesses                     resistances hardness  \\\n0  [{'type': 'fire', 'value': 10}]                             NaN      NaN   \n1                              NaN                             NaN      NaN   \n2                              NaN                             NaN      NaN   \n3                              NaN                             NaN      NaN   \n4   [{'type': 'evil', 'value': 3}]  [{'type': 'fire', 'value': 3}]      NaN   \n\n   adjustment  \n0         NaN  \n1         NaN  \n2         NaN  \n3         NaN  \n4         NaN  ",
      "text/html": "<div>\n<style scoped>\n    .dataframe tbody tr th:only-of-type {\n        vertical-align: middle;\n    }\n\n    .dataframe tbody tr th {\n        vertical-align: top;\n    }\n\n    .dataframe thead th {\n        text-align: right;\n    }\n</style>\n<table border=\"1\" class=\"dataframe\">\n  <thead>\n    <tr style=\"text-align: right;\">\n      <th></th>\n      <th>ac</th>\n      <th>allSaves</th>\n      <th>hp</th>\n      <th>immunities</th>\n      <th>initiative</th>\n      <th>perception</th>\n      <th>speed</th>\n      <th>weaknesses</th>\n      <th>resistances</th>\n      <th>hardness</th>\n      <th>adjustment</th>\n    </tr>\n  </thead>\n  <tbody>\n    <tr>\n      <th>0</th>\n      <td>{'details': '', 'value': 29}</td>\n      <td>{'value': '+1 status to all saves vs. magic'}</td>\n      <td>{'details': '', 'max': 215, 'temp': 0, 'value'...</td>\n      <td>[{'type': 'cold'}, {'type': 'paralyzed'}, {'ty...</td>\n      <td>{'ability': 'perception'}</td>\n      <td>{'value': 20}</td>\n      <td>{'details': 'climb on ice only', 'otherSpeeds'...</td>\n      <td>[{'type': 'fire', 'value': 10}]</td>\n      <td>NaN</td>\n      <td>NaN</td>\n      <td>NaN</td>\n    </tr>\n    <tr>\n      <th>1</th>\n      <td>{'details': '', 'value': 28}</td>\n      <td>{'value': ''}</td>\n      <td>{'details': '', 'max': 220, 'temp': 0, 'value'...</td>\n      <td>NaN</td>\n      <td>{'ability': 'perception'}</td>\n      <td>{'value': 16}</td>\n      <td>{'otherSpeeds': [], 'value': 35}</td>\n      <td>NaN</td>\n      <td>NaN</td>\n      <td>NaN</td>\n      <td>NaN</td>\n    </tr>\n    <tr>\n      <th>2</th>\n      <td>{'details': '', 'value': 25}</td>\n      <td>{'value': ''}</td>\n      <td>{'details': '', 'max': 175, 'temp': 0, 'value'...</td>\n      <td>NaN</td>\n      <td>{'ability': 'perception'}</td>\n      <td>{'value': 17}</td>\n      <td>{'otherSpeeds': [{'type': 'climb', 'value': 30...</td>\n      <td>NaN</td>\n      <td>NaN</td>\n      <td>NaN</td>\n      <td>NaN</td>\n    </tr>\n    <tr>\n      <th>3</th>\n      <td>{'details': '', 'value': 41}</td>\n      <td>{'value': '+1 status to all saves vs. magic'}</td>\n      <td>{'details': '', 'max': 315, 'temp': 0, 'value'...</td>\n      <td>[{'type': 'paralyzed'}, {'type': 'poison'}, {'...</td>\n      <td>{'ability': 'perception'}</td>\n      <td>{'value': 30}</td>\n      <td>{'details': 'trackless step, woodland stride',...</td>\n      <td>NaN</td>\n      <td>NaN</td>\n      <td>NaN</td>\n      <td>NaN</td>\n    </tr>\n    <tr>\n      <th>4</th>\n      <td>{'details': '', 'value': 16}</td>\n      <td>{'value': ''}</td>\n      <td>{'details': '', 'max': 20, 'temp': 0, 'value':...</td>\n      <td>NaN</td>\n      <td>{'ability': 'perception'}</td>\n      <td>{'value': 6}</td>\n      <td>{'otherSpeeds': [{'type': 'fly', 'value': 40}]...</td>\n      <td>[{'type': 'evil', 'value': 3}]</td>\n      <td>[{'type': 'fire', 'value': 3}]</td>\n      <td>NaN</td>\n      <td>NaN</td>\n    </tr>\n  </tbody>\n</table>\n</div>"
     },
     "execution_count": 70,
     "metadata": {},
     "output_type": "execute_result"
    }
   ],
   "source": [
    "attributes.head()"
   ],
   "metadata": {
    "collapsed": false
   }
  },
  {
   "cell_type": "markdown",
   "source": [],
   "metadata": {
    "collapsed": false
   }
  }
 ],
 "metadata": {
  "kernelspec": {
   "display_name": "Python 3",
   "language": "python",
   "name": "python3"
  },
  "language_info": {
   "codemirror_mode": {
    "name": "ipython",
    "version": 2
   },
   "file_extension": ".py",
   "mimetype": "text/x-python",
   "name": "python",
   "nbconvert_exporter": "python",
   "pygments_lexer": "ipython2",
   "version": "2.7.6"
  }
 },
 "nbformat": 4,
 "nbformat_minor": 0
}
