{
 "cells": [
  {
   "cell_type": "markdown",
   "id": "c7fd63d0",
   "metadata": {},
   "source": [
    "###### Importing data from json"
   ]
  },
  {
   "cell_type": "code",
   "execution_count": null,
   "id": "4abd5e8a",
   "metadata": {
    "scrolled": false,
    "pycharm": {
     "is_executing": true
    }
   },
   "outputs": [],
   "source": [
    "import pandas as pd\n",
    "\n",
    "bestiary1 = pd.read_json(\"pathfinder_2e_data/pathfinder-bestiary.db\", lines=True)\n",
    "bestiary2 = pd.read_json(\"pathfinder_2e_data/pathfinder-bestiary-2.db\", lines=True)\n",
    "bestiary3 = pd.read_json(\"pathfinder_2e_data/pathfinder-bestiary-3.db\", lines=True)\n",
    "print(bestiary1.iloc[0])"
   ]
  },
  {
   "cell_type": "markdown",
   "id": "a7c67755",
   "metadata": {},
   "source": [
    "#### Analiza ```items```\n",
    "```items``` - zawiera wszystkie umiejętności potwora (np. rodzaje ataków jakie może wykonywać, abilities: acrobatics, stealth...)"
   ]
  },
  {
   "cell_type": "code",
   "execution_count": 11,
   "id": "c07d7d3d",
   "metadata": {
    "scrolled": true
   },
   "outputs": [
    {
     "name": "stdout",
     "output_type": "stream",
     "text": [
      "0      23\n",
      "1       8\n",
      "2      15\n",
      "3      32\n",
      "4      14\n",
      "       ..\n",
      "463     4\n",
      "464     6\n",
      "465    32\n",
      "466    29\n",
      "467    11\n",
      "Name: items, Length: 468, dtype: int64\n"
     ]
    }
   ],
   "source": [
    "print(bestiary1['items'].apply(lambda x: len(x)))"
   ]
  },
  {
   "cell_type": "code",
   "execution_count": 12,
   "id": "28f10b62",
   "metadata": {
    "scrolled": false
   },
   "outputs": [
    {
     "name": "stdout",
     "output_type": "stream",
     "text": [
      "60\n"
     ]
    }
   ],
   "source": [
    "print(bestiary1['items'].apply(lambda x: len(x)).max())"
   ]
  },
  {
   "cell_type": "markdown",
   "id": "14cd908b",
   "metadata": {},
   "source": [
    "Każdy potwór ma wiele umiejętności max w tym zbiorze danych to 60"
   ]
  },
  {
   "cell_type": "markdown",
   "id": "fce84bec",
   "metadata": {},
   "source": [
    "Poniżej pokazane umiejętności dla Adult White Dragon'a"
   ]
  },
  {
   "cell_type": "code",
   "execution_count": 13,
   "id": "142cfa60",
   "metadata": {
    "scrolled": true
   },
   "outputs": [
    {
     "name": "stdout",
     "output_type": "stream",
     "text": [
      "                 _id                                                img  \\\n",
      "0   B7rzf0nBJmzg8x0y  systems/pf2e/icons/default-icons/spellcastingE...   \n",
      "1   ac9hRct9QTDrzhy1      systems/pf2e/icons/spells/obscuring-mist.webp   \n",
      "2   ui2iVt9gJcMIs6H5        systems/pf2e/icons/spells/gust-of-wind.webp   \n",
      "3   pmqefsGShf77p3Zd         systems/pf2e/icons/default-icons/melee.svg   \n",
      "4   h6wQ76GXx0XhL0rW         systems/pf2e/icons/default-icons/melee.svg   \n",
      "5   b4GFgu6HgDqvji6X         systems/pf2e/icons/default-icons/melee.svg   \n",
      "6   vwWsYBBoZjtVHTuT            systems/pf2e/icons/actions/Passive.webp   \n",
      "7   MJVKsTpwu0QDO6t7            systems/pf2e/icons/actions/Passive.webp   \n",
      "8   QkmDtTbsggbI0MQy            systems/pf2e/icons/actions/Passive.webp   \n",
      "9   pydkk6U2LVFlha3A            systems/pf2e/icons/actions/Passive.webp   \n",
      "10  y0vt5wkSLNErceZF           systems/pf2e/icons/actions/Reaction.webp   \n",
      "11  1eQUxiVPWo5ndGVE            systems/pf2e/icons/actions/Passive.webp   \n",
      "12  7qULZEHZX6JmtrVP         systems/pf2e/icons/actions/TwoActions.webp   \n",
      "13  XJ5wfV6LNdfMn7EH         systems/pf2e/icons/actions/TwoActions.webp   \n",
      "14  8JqF84SJfKy5TmkS            systems/pf2e/icons/actions/Passive.webp   \n",
      "15  0RWfxFkqPwKKKdiY          systems/pf2e/icons/actions/OneAction.webp   \n",
      "16  1wtLTJx2lkvun6gV            systems/pf2e/icons/actions/Passive.webp   \n",
      "17  h9dbqoHHEOOBy05q         systems/pf2e/icons/actions/TwoActions.webp   \n",
      "18  vw1AY2PhTN53AfnG          systems/pf2e/icons/default-icons/lore.svg   \n",
      "19  h2UVSInTqB1wzgm6          systems/pf2e/icons/default-icons/lore.svg   \n",
      "20  obfGCumuk6fLCat2          systems/pf2e/icons/default-icons/lore.svg   \n",
      "21  jBJ9taVZfYVXVQMW          systems/pf2e/icons/default-icons/lore.svg   \n",
      "22  p0y3pQ9ZwPp4yakT          systems/pf2e/icons/default-icons/lore.svg   \n",
      "\n",
      "                                name     sort  \\\n",
      "0               Arcane Innate Spells   100000   \n",
      "1           Obscuring Mist (At Will)   200000   \n",
      "2             Gust of Wind (At Will)   300000   \n",
      "3                               Jaws   400000   \n",
      "4                               Claw   500000   \n",
      "5                               Tail   600000   \n",
      "6                        Snow Vision   700000   \n",
      "7                     At-Will Spells   800000   \n",
      "8   +1 Status to All Saves vs. Magic   900000   \n",
      "9                       Dragon Chill  1000000   \n",
      "10                    Freezing Blood  1100000   \n",
      "11                Frightful Presence  1200000   \n",
      "12                     Breath Weapon  1300000   \n",
      "13                   Draconic Frenzy  1400000   \n",
      "14                 Draconic Momentum  1500000   \n",
      "15                       Ground Slam  1600000   \n",
      "16                         Ice Climb  1700000   \n",
      "17                         Shape Ice  1800000   \n",
      "18                        Acrobatics  1900000   \n",
      "19                            Arcana  2000000   \n",
      "20                         Athletics  2100000   \n",
      "21                      Intimidation  2200000   \n",
      "22                           Stealth  2300000   \n",
      "\n",
      "                                               system               type  \\\n",
      "0   {'autoHeightenLevel': {'value': None}, 'descri...  spellcastingEntry   \n",
      "1   {'ability': {'value': ''}, 'area': {'type': 'b...              spell   \n",
      "2   {'ability': {'value': ''}, 'area': {'type': 'l...              spell   \n",
      "3   {'attack': {'value': ''}, 'attackEffects': {'c...              melee   \n",
      "4   {'attack': {'value': ''}, 'attackEffects': {'c...              melee   \n",
      "5   {'attack': {'value': ''}, 'attackEffects': {'c...              melee   \n",
      "6   {'actionCategory': {'value': 'interaction'}, '...             action   \n",
      "7   {'actionCategory': {'value': 'interaction'}, '...             action   \n",
      "8   {'actionCategory': {'value': 'defensive'}, 'ac...             action   \n",
      "9   {'actionCategory': {'value': 'defensive'}, 'ac...             action   \n",
      "10  {'actionCategory': {'value': 'defensive'}, 'ac...             action   \n",
      "11  {'actionCategory': {'value': 'defensive'}, 'ac...             action   \n",
      "12  {'actionCategory': {'value': 'offensive'}, 'ac...             action   \n",
      "13  {'actionCategory': {'value': 'offensive'}, 'ac...             action   \n",
      "14  {'actionCategory': {'value': 'offensive'}, 'ac...             action   \n",
      "15  {'actionCategory': {'value': 'offensive'}, 'ac...             action   \n",
      "16  {'actionCategory': {'value': 'offensive'}, 'ac...             action   \n",
      "17  {'actionCategory': {'value': 'offensive'}, 'ac...             action   \n",
      "18  {'description': {'value': ''}, 'mod': {'value'...               lore   \n",
      "19  {'description': {'value': ''}, 'mod': {'value'...               lore   \n",
      "20  {'description': {'value': ''}, 'mod': {'value'...               lore   \n",
      "21  {'description': {'value': ''}, 'mod': {'value'...               lore   \n",
      "22  {'description': {'value': ''}, 'mod': {'value'...               lore   \n",
      "\n",
      "                                                flags  \n",
      "0                                                 NaN  \n",
      "1   {'core': {'sourceId': 'Compendium.pf2e.spells-...  \n",
      "2   {'core': {'sourceId': 'Compendium.pf2e.spells-...  \n",
      "3                                                 NaN  \n",
      "4                                                 NaN  \n",
      "5                                                 NaN  \n",
      "6                                                 NaN  \n",
      "7   {'core': {'sourceId': 'Compendium.pf2e.bestiar...  \n",
      "8   {'core': {'sourceId': 'Compendium.pf2e.bestiar...  \n",
      "9                                                 NaN  \n",
      "10                                                NaN  \n",
      "11  {'core': {'sourceId': 'Compendium.pf2e.bestiar...  \n",
      "12                                                NaN  \n",
      "13                                                NaN  \n",
      "14                                                NaN  \n",
      "15                                                NaN  \n",
      "16                                                NaN  \n",
      "17                                                NaN  \n",
      "18                                                NaN  \n",
      "19                                                NaN  \n",
      "20                                                NaN  \n",
      "21                                                NaN  \n",
      "22                                                NaN  \n"
     ]
    }
   ],
   "source": [
    "items = bestiary1['items'].explode('items').apply(pd.Series)\n",
    "print(items.iloc[:23])"
   ]
  },
  {
   "cell_type": "code",
   "execution_count": 14,
   "id": "9388ec1d",
   "metadata": {
    "scrolled": false
   },
   "outputs": [
    {
     "name": "stdout",
     "output_type": "stream",
     "text": [
      "['_id' 'img' 'name' 'sort' 'system' 'type' 'flags']\n"
     ]
    }
   ],
   "source": [
    "print(items.columns.values)"
   ]
  },
  {
   "cell_type": "code",
   "execution_count": 15,
   "id": "9bb4ce7f",
   "metadata": {
    "scrolled": true
   },
   "outputs": [
    {
     "name": "stdout",
     "output_type": "stream",
     "text": [
      "   autoHeightenLevel                                        description  \\\n",
      "0    {'value': None}                                      {'value': ''}   \n",
      "1                NaN  {'value': '<p>You call forth a cloud of mist. ...   \n",
      "2                NaN  {'value': '<p>A violent wind issues forth from...   \n",
      "3                NaN                                      {'value': ''}   \n",
      "4                NaN                                      {'value': ''}   \n",
      "5                NaN                                      {'value': ''}   \n",
      "6                NaN  {'value': '<p>Snow doesn't impair a white drag...   \n",
      "7                NaN  {'value': '<p>@Localize[PF2E.NPC.Abilities.Glo...   \n",
      "8                NaN                                      {'value': ''}   \n",
      "9                NaN  {'value': '<p>@Template[type:emanation|distanc...   \n",
      "10               NaN  {'value': '<p><strong>Trigger</strong> An adja...   \n",
      "11               NaN  {'value': '<p>@Template[type:emanation|distanc...   \n",
      "12               NaN  {'value': '<p>The dragon breathes a cloud of f...   \n",
      "13               NaN  {'value': '<p>The dragon makes two claw Strike...   \n",
      "14               NaN  {'value': '<p>When the dragon scores a critica...   \n",
      "15               NaN  {'value': '<p>The dragon slams into the ground...   \n",
      "16               NaN  {'value': '<p>A white dragon can climb on ice ...   \n",
      "17               NaN  {'value': '<p>The dragon reshapes a cube of ic...   \n",
      "18               NaN                                      {'value': ''}   \n",
      "19               NaN                                      {'value': ''}   \n",
      "20               NaN                                      {'value': ''}   \n",
      "21               NaN                                      {'value': ''}   \n",
      "22               NaN                                      {'value': ''}   \n",
      "\n",
      "   displayLevels                                prepared   proficiency  \\\n",
      "0             {}  {'flexible': False, 'value': 'innate'}  {'value': 0}   \n",
      "1            NaN                           {'value': ''}           NaN   \n",
      "2            NaN                           {'value': ''}           NaN   \n",
      "3            NaN                                     NaN           NaN   \n",
      "4            NaN                                     NaN           NaN   \n",
      "5            NaN                                     NaN           NaN   \n",
      "6            NaN                                     NaN           NaN   \n",
      "7            NaN                                     NaN           NaN   \n",
      "8            NaN                                     NaN           NaN   \n",
      "9            NaN                                     NaN           NaN   \n",
      "10           NaN                                     NaN           NaN   \n",
      "11           NaN                                     NaN           NaN   \n",
      "12           NaN                                     NaN           NaN   \n",
      "13           NaN                                     NaN           NaN   \n",
      "14           NaN                                     NaN           NaN   \n",
      "15           NaN                                     NaN           NaN   \n",
      "16           NaN                                     NaN           NaN   \n",
      "17           NaN                                     NaN           NaN   \n",
      "18           NaN                                     NaN           NaN   \n",
      "19           NaN                                     NaN           NaN   \n",
      "20           NaN                                     NaN           NaN   \n",
      "21           NaN                                     NaN           NaN   \n",
      "22           NaN                                     NaN           NaN   \n",
      "\n",
      "                                                rules showSlotlessLevels  \\\n",
      "0                                                  []   {'value': False}   \n",
      "1                                                  []                NaN   \n",
      "2                                                  []                NaN   \n",
      "3                                                  []                NaN   \n",
      "4                                                  []                NaN   \n",
      "5                                                  []                NaN   \n",
      "6                                                  []                NaN   \n",
      "7                                                  []                NaN   \n",
      "8   [{'key': 'FlatModifier', 'predicate': [{'or': ...                NaN   \n",
      "9   [{'key': 'Aura', 'radius': 5, 'slug': 'dragon-...                NaN   \n",
      "10                                                 []                NaN   \n",
      "11  [{'key': 'Aura', 'radius': 90, 'slug': 'fright...                NaN   \n",
      "12                                                 []                NaN   \n",
      "13                                                 []                NaN   \n",
      "14  [{'key': 'Note', 'outcome': ['criticalSuccess'...                NaN   \n",
      "15                                                 []                NaN   \n",
      "16                                                 []                NaN   \n",
      "17                                                 []                NaN   \n",
      "18                                                 []                NaN   \n",
      "19                                                 []                NaN   \n",
      "20                                                 []                NaN   \n",
      "21                                                 []                NaN   \n",
      "22                                                 []                NaN   \n",
      "\n",
      "   showUnpreparedSpells                                              slots  \\\n",
      "0       {'value': True}  {'slot0': {'max': 0, 'prepared': [], 'value': ...   \n",
      "1                   NaN                                                NaN   \n",
      "2                   NaN                                                NaN   \n",
      "3                   NaN                                                NaN   \n",
      "4                   NaN                                                NaN   \n",
      "5                   NaN                                                NaN   \n",
      "6                   NaN                                                NaN   \n",
      "7                   NaN                                                NaN   \n",
      "8                   NaN                                                NaN   \n",
      "9                   NaN                                                NaN   \n",
      "10                  NaN                                                NaN   \n",
      "11                  NaN                                                NaN   \n",
      "12                  NaN                                                NaN   \n",
      "13                  NaN                                                NaN   \n",
      "14                  NaN                                                NaN   \n",
      "15                  NaN                                                NaN   \n",
      "16                  NaN                                                NaN   \n",
      "17                  NaN                                                NaN   \n",
      "18                  NaN                                                NaN   \n",
      "19                  NaN                                                NaN   \n",
      "20                  NaN                                                NaN   \n",
      "21                  NaN                                                NaN   \n",
      "22                  NaN                                                NaN   \n",
      "\n",
      "                              slug  ... overrides references value deathNote  \\\n",
      "0                             None  ...       NaN        NaN   NaN       NaN   \n",
      "1                   obscuring-mist  ...       NaN        NaN   NaN       NaN   \n",
      "2                     gust-of-wind  ...       NaN        NaN   NaN       NaN   \n",
      "3                             None  ...       NaN        NaN   NaN       NaN   \n",
      "4                             None  ...       NaN        NaN   NaN       NaN   \n",
      "5                             None  ...       NaN        NaN   NaN       NaN   \n",
      "6                             None  ...       NaN        NaN   NaN       NaN   \n",
      "7                   at-will-spells  ...       NaN        NaN   NaN       NaN   \n",
      "8   1-status-to-all-saves-vs-magic  ...       NaN        NaN   NaN       NaN   \n",
      "9                             None  ...       NaN        NaN   NaN       NaN   \n",
      "10                            None  ...       NaN        NaN   NaN       NaN   \n",
      "11              frightful-presence  ...       NaN        NaN   NaN       NaN   \n",
      "12                            None  ...       NaN        NaN   NaN       NaN   \n",
      "13                            None  ...       NaN        NaN   NaN       NaN   \n",
      "14                            None  ...       NaN        NaN   NaN       NaN   \n",
      "15                            None  ...       NaN        NaN   NaN       NaN   \n",
      "16                            None  ...       NaN        NaN   NaN       NaN   \n",
      "17                            None  ...       NaN        NaN   NaN       NaN   \n",
      "18                            None  ...       NaN        NaN   NaN       NaN   \n",
      "19                            None  ...       NaN        NaN   NaN       NaN   \n",
      "20                            None  ...       NaN        NaN   NaN       NaN   \n",
      "21                            None  ...       NaN        NaN   NaN       NaN   \n",
      "22                            None  ...       NaN        NaN   NaN       NaN   \n",
      "\n",
      "   specific badge start tokenIcon unidentified areatype  \n",
      "0       NaN   NaN   NaN       NaN          NaN      NaN  \n",
      "1       NaN   NaN   NaN       NaN          NaN      NaN  \n",
      "2       NaN   NaN   NaN       NaN          NaN      NaN  \n",
      "3       NaN   NaN   NaN       NaN          NaN      NaN  \n",
      "4       NaN   NaN   NaN       NaN          NaN      NaN  \n",
      "5       NaN   NaN   NaN       NaN          NaN      NaN  \n",
      "6       NaN   NaN   NaN       NaN          NaN      NaN  \n",
      "7       NaN   NaN   NaN       NaN          NaN      NaN  \n",
      "8       NaN   NaN   NaN       NaN          NaN      NaN  \n",
      "9       NaN   NaN   NaN       NaN          NaN      NaN  \n",
      "10      NaN   NaN   NaN       NaN          NaN      NaN  \n",
      "11      NaN   NaN   NaN       NaN          NaN      NaN  \n",
      "12      NaN   NaN   NaN       NaN          NaN      NaN  \n",
      "13      NaN   NaN   NaN       NaN          NaN      NaN  \n",
      "14      NaN   NaN   NaN       NaN          NaN      NaN  \n",
      "15      NaN   NaN   NaN       NaN          NaN      NaN  \n",
      "16      NaN   NaN   NaN       NaN          NaN      NaN  \n",
      "17      NaN   NaN   NaN       NaN          NaN      NaN  \n",
      "18      NaN   NaN   NaN       NaN          NaN      NaN  \n",
      "19      NaN   NaN   NaN       NaN          NaN      NaN  \n",
      "20      NaN   NaN   NaN       NaN          NaN      NaN  \n",
      "21      NaN   NaN   NaN       NaN          NaN      NaN  \n",
      "22      NaN   NaN   NaN       NaN          NaN      NaN  \n",
      "\n",
      "[23 rows x 101 columns]\n"
     ]
    }
   ],
   "source": [
    "system = items['system'].apply(pd.Series)\n",
    "print(system.iloc[:23])"
   ]
  },
  {
   "cell_type": "code",
   "execution_count": 16,
   "id": "2ad19499",
   "metadata": {
    "scrolled": false
   },
   "outputs": [
    {
     "name": "stdout",
     "output_type": "stream",
     "text": [
      "['autoHeightenLevel' 'description' 'displayLevels' 'prepared'\n",
      " 'proficiency' 'rules' 'showSlotlessLevels' 'showUnpreparedSpells' 'slots'\n",
      " 'slug' 'source' 'spelldc' 'tradition' 'schema' 'ability' 'area'\n",
      " 'category' 'components' 'cost' 'damage' 'duration' 'hasCounteractCheck'\n",
      " 'level' 'location' 'materials' 'primarycheck' 'range' 'save' 'school'\n",
      " 'secondarycasters' 'secondarycheck' 'spellType' 'sustained' 'target'\n",
      " 'time' 'traditions' 'traits' 'attack' 'attackEffects' 'bonus'\n",
      " 'damageRolls' 'weaponType' 'actionCategory' 'actionType' 'actions'\n",
      " 'requirements' 'trigger' 'weapon' 'mod' 'proficient' 'heightening'\n",
      " 'variants' 'overlays' 'MAP' 'baseItem' 'bonusDamage' 'containerId'\n",
      " 'equipped' 'equippedBulk' 'group' 'hardness' 'hp' 'negateBulk'\n",
      " 'potencyRune' 'preciousMaterial' 'preciousMaterialGrade' 'price'\n",
      " 'propertyRune1' 'propertyRune2' 'propertyRune3' 'propertyRune4'\n",
      " 'quantity' 'reload' 'size' 'splashDamage' 'stackGroup' 'strikingRune'\n",
      " 'usage' 'weight' 'armor' 'check' 'dex' 'potency' 'resiliencyRune' 'speed'\n",
      " 'strength' 'autoDestroy' 'charges' 'consumableType' 'consume' 'spell'\n",
      " 'overrides' 'references' 'value' 'deathNote' 'specific' 'badge' 'start'\n",
      " 'tokenIcon' 'unidentified' 'areatype']\n"
     ]
    }
   ],
   "source": [
    "print(system.columns.values)"
   ]
  },
  {
   "cell_type": "markdown",
   "id": "59d27004",
   "metadata": {},
   "source": [
    "To ma 101 elementów!"
   ]
  },
  {
   "cell_type": "markdown",
   "id": "5a05be64",
   "metadata": {},
   "source": [
    "To be continued"
   ]
  },
  {
   "cell_type": "markdown",
   "id": "ac532760",
   "metadata": {},
   "source": [
    "##### Analiza ```system```"
   ]
  },
  {
   "cell_type": "code",
   "execution_count": 25,
   "id": "98c03918",
   "metadata": {
    "scrolled": false
   },
   "outputs": [
    {
     "name": "stdout",
     "output_type": "stream",
     "text": [
      "abilities     {'cha': {'mod': 1}, 'con': {'mod': 5}, 'dex': ...\n",
      "attributes    {'ac': {'details': '', 'value': 29}, 'allSaves...\n",
      "details       {'alignment': {'value': 'CE'}, 'blurb': '', 'c...\n",
      "resources                     {'focus': {'max': 1, 'value': 1}}\n",
      "saves         {'fortitude': {'saveDetail': '', 'value': 22},...\n",
      "traits        {'languages': {'custom': '', 'selected': [], '...\n",
      "schema        {'version': 0.8270000000000001, 'lastMigration...\n",
      "Name: 0, dtype: object\n",
      "Len =  7\n"
     ]
    }
   ],
   "source": [
    "bestiary1_system = bestiary1['system'].apply(pd.Series)\n",
    "print(bestiary1_system.iloc[0])\n",
    "print('Len = ', len(bestiary1_system.iloc[0]))"
   ]
  },
  {
   "cell_type": "markdown",
   "id": "e65e1dbc",
   "metadata": {},
   "source": [
    "```unpack_column``` - Funkcja która rozpakowuje słownik i zmienia go w dataframe. Printuje pierwszą wartość tabeli i długość"
   ]
  },
  {
   "cell_type": "code",
   "execution_count": 30,
   "id": "4dd37000",
   "metadata": {},
   "outputs": [],
   "source": [
    "def unpack_column(df, column_name):\n",
    "    new_df = df[column_name].apply(pd.Series)\n",
    "    print(new_df.iloc[0])\n",
    "    print('Len =', len(new_df.iloc[0]))\n",
    "    return new_df"
   ]
  },
  {
   "cell_type": "markdown",
   "id": "6e275395",
   "metadata": {},
   "source": [
    "```abilities```"
   ]
  },
  {
   "cell_type": "code",
   "execution_count": 31,
   "id": "f1de5d54",
   "metadata": {
    "scrolled": true
   },
   "outputs": [
    {
     "name": "stdout",
     "output_type": "stream",
     "text": [
      "cha    {'mod': 1}\n",
      "con    {'mod': 5}\n",
      "dex    {'mod': 2}\n",
      "int    {'mod': 1}\n",
      "str    {'mod': 7}\n",
      "wis    {'mod': 2}\n",
      "Name: 0, dtype: object\n",
      "Len = 6\n"
     ]
    }
   ],
   "source": [
    "abilities = unpack_column(bestiary1_system, 'abilities')"
   ]
  },
  {
   "cell_type": "markdown",
   "id": "002f1395",
   "metadata": {},
   "source": [
    "Wyczaić czy w słowniku występują inne klucze niż mod, i jest problem z duchami ^^"
   ]
  },
  {
   "cell_type": "markdown",
   "id": "842f3be4",
   "metadata": {},
   "source": [
    "```attributes```"
   ]
  },
  {
   "cell_type": "code",
   "execution_count": 36,
   "id": "115cde59",
   "metadata": {
    "scrolled": true
   },
   "outputs": [
    {
     "name": "stdout",
     "output_type": "stream",
     "text": [
      "ac                                  {'details': '', 'value': 29}\n",
      "allSaves           {'value': '+1 status to all saves vs. magic'}\n",
      "hp             {'details': '', 'max': 215, 'temp': 0, 'value'...\n",
      "immunities     [{'type': 'cold'}, {'type': 'paralyzed'}, {'ty...\n",
      "initiative                             {'ability': 'perception'}\n",
      "perception                                         {'value': 20}\n",
      "speed          {'details': 'climb on ice only', 'otherSpeeds'...\n",
      "weaknesses                       [{'type': 'fire', 'value': 10}]\n",
      "resistances                                                  NaN\n",
      "hardness                                                     NaN\n",
      "Name: 0, dtype: object\n",
      "Len = 10\n"
     ]
    }
   ],
   "source": [
    "attributes = unpack_column(bestiary1_system, 'attributes')"
   ]
  },
  {
   "cell_type": "markdown",
   "id": "e7f2bfd8",
   "metadata": {},
   "source": [
    "Tu nawet z grubsza wiem jak działają te rzeczy. Muszę tylko sprawdzić jakieś edge case'y\n",
    "* AC - jest zwykłe AC, touch AC, flat-footed AC (nie wiem co jeszcze by tu mogli wymyślić)\n",
    "* allSaves - nie wiem co tu jest\n",
    "* hp - to powinna być jedna wartość, nie wiem co oni tu wsadzili\n",
    "* immunities, weaknesses, resistances - odpowiednio damage * 0, damage * 2, damage / 2. Jest ograniczona ilość typów obrażeń \n",
    "* initiative- imo tu powinna być jedna wartość liczbowa, nie wiem czemu tu jest pereption, nie wiem co to jest\n",
    "* speed - jest zwykły speeed, fly speed, swim speed, i kilka takich typowych ale też jest kilka jakiś rzadkich typu clib on ice speed\n",
    "* hardness - to chyba jest jedna wartość liczbowa"
   ]
  },
  {
   "cell_type": "markdown",
   "id": "28a826be",
   "metadata": {},
   "source": [
    "```details```"
   ]
  },
  {
   "cell_type": "markdown",
   "id": "7d32e6d0",
   "metadata": {},
   "source": [
    "```resources```"
   ]
  },
  {
   "cell_type": "markdown",
   "id": "443d981c",
   "metadata": {},
   "source": [
    "```saves```"
   ]
  },
  {
   "cell_type": "markdown",
   "id": "74fb71ea",
   "metadata": {},
   "source": [
    "```traits```"
   ]
  },
  {
   "cell_type": "markdown",
   "id": "d742565d",
   "metadata": {},
   "source": [
    "```schema```"
   ]
  }
 ],
 "metadata": {
  "kernelspec": {
   "display_name": "Python 3 (ipykernel)",
   "language": "python",
   "name": "python3"
  },
  "language_info": {
   "codemirror_mode": {
    "name": "ipython",
    "version": 3
   },
   "file_extension": ".py",
   "mimetype": "text/x-python",
   "name": "python",
   "nbconvert_exporter": "python",
   "pygments_lexer": "ipython3",
   "version": "3.10.4"
  }
 },
 "nbformat": 4,
 "nbformat_minor": 5
}
